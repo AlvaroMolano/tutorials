{
 "cells": [
  {
   "cell_type": "markdown",
   "metadata": {},
   "source": [
    "<img align=\"right\" src=\"images/tf.png\" width=\"128\"/>\n",
    "<img align=\"right\" src=\"images/dans.png\"/>\n",
    "<img align=\"right\" src=\"images/huygenslogo.png\"/>\n",
    "<img align=\"right\" src=\"images/logo.png\"/>\n",
    "\n",
    "# Tutorial\n",
    "\n",
    "This notebook gets you started with using\n",
    "[Text-Fabric](https://annotation.github.io/text-fabric/) for coding in \n",
    "[General Missives Corpus](https://github.com/Dans-labs/clariah-gm).\n",
    "\n",
    "Familiarity with the underlying\n",
    "[data model](https://annotation.github.io/text-fabric/about/datamodel.html)\n",
    "is recommended."
   ]
  },
  {
   "cell_type": "markdown",
   "metadata": {},
   "source": [
    "## Installing Text-Fabric\n",
    "\n",
    "### Python\n",
    "\n",
    "You need to have Python on your system. Most systems have it out of the box,\n",
    "but alas, that is python2 and we need at least python **3.6**.\n",
    "\n",
    "Install it from [python.org](https://www.python.org) or from\n",
    "[Anaconda](https://www.anaconda.com/download).\n",
    "\n",
    "### TF itself\n",
    "\n",
    "```\n",
    "pip3 install text-fabric\n",
    "```\n",
    "\n",
    "### Jupyter notebook\n",
    "\n",
    "You need [Jupyter](http://jupyter.org).\n",
    "\n",
    "If it is not already installed:\n",
    "\n",
    "```\n",
    "pip3 install jupyter\n",
    "```"
   ]
  },
  {
   "cell_type": "code",
   "execution_count": 1,
   "metadata": {
    "ExecuteTime": {
     "end_time": "2018-10-18T10:40:34.922214Z",
     "start_time": "2018-10-18T10:40:34.901689Z"
    }
   },
   "outputs": [],
   "source": [
    "%load_ext autoreload\n",
    "%autoreload 2"
   ]
  },
  {
   "cell_type": "code",
   "execution_count": 2,
   "metadata": {
    "ExecuteTime": {
     "end_time": "2018-10-18T10:40:36.468086Z",
     "start_time": "2018-10-18T10:40:36.442023Z"
    }
   },
   "outputs": [],
   "source": [
    "import os, collections"
   ]
  },
  {
   "cell_type": "code",
   "execution_count": 3,
   "metadata": {
    "ExecuteTime": {
     "end_time": "2018-10-18T10:40:37.964346Z",
     "start_time": "2018-10-18T10:40:37.346091Z"
    }
   },
   "outputs": [],
   "source": [
    "from tf.app import use"
   ]
  },
  {
   "cell_type": "markdown",
   "metadata": {},
   "source": [
    "## Corpus data\n",
    "\n",
    "Text-Fabric will fetch the General Missives corpus for you.\n",
    "\n",
    "It will fetch the newest version by default, but you can get other versions as well.\n",
    "\n",
    "The data will be stored in the `text-fabric-data` in your home directory.\n"
   ]
  },
  {
   "cell_type": "markdown",
   "metadata": {},
   "source": [
    "# Features\n",
    "The data of the corpus is organized in features.\n",
    "They are *columns* of data.\n",
    "Think of the text as a gigantic spreadsheet, where row 1 corresponds to the\n",
    "first word, row 2 to the second word, and so on, for all words, several millions, in this corpus.\n",
    "\n",
    "Each piece of information about the words, including the text of the words, constitute a column in that spreadsheet.\n",
    "\n",
    "Instead of putting that information in one big table, the data is organized in separate columns.\n",
    "We call those columns **features**."
   ]
  },
  {
   "cell_type": "markdown",
   "metadata": {},
   "source": [
    "# Incantation\n",
    "\n",
    "The simplest way to get going is by this *incantation*:"
   ]
  },
  {
   "cell_type": "markdown",
   "metadata": {},
   "source": [
    "For the very last version, use `hot`.\n",
    "\n",
    "For the latest release, use `latest`.\n",
    "\n",
    "If you have cloned the repos (TF app and data), use `clone`.\n",
    "\n",
    "If you do not want/need to upgrade, leave out the checkout specifiers."
   ]
  },
  {
   "cell_type": "code",
   "execution_count": 4,
   "metadata": {},
   "outputs": [
    {
     "name": "stdout",
     "output_type": "stream",
     "text": [
      "rate limit is 5000 requests per hour, with 4103 left for this hour\n",
      "\tconnecting to online GitHub repo annotation/app-missieven ... connected\n"
     ]
    },
    {
     "data": {
      "text/html": [
       "<b title=\"for whatever reason\">TF-app:</b> <span title=\"#d6b9f4ee292cd6ec8dfc0a2db8913b0bace0f506\">~/text-fabric-data/annotation/app-missieven/code</span>"
      ],
      "text/plain": [
       "<IPython.core.display.HTML object>"
      ]
     },
     "metadata": {},
     "output_type": "display_data"
    },
    {
     "name": "stdout",
     "output_type": "stream",
     "text": [
      "rate limit is 5000 requests per hour, with 4100 left for this hour\n",
      "\tconnecting to online GitHub repo Dans-labs/clariah-gm ... connected\n"
     ]
    },
    {
     "data": {
      "text/html": [
       "<b title=\"latest release\">data:</b> <span title=\"rv0.2=#24167e75fe80ca4481be5f73d6eb17e5eae0d61f\">~/text-fabric-data/Dans-labs/clariah-gm/tf/0.2</span>"
      ],
      "text/plain": [
       "<IPython.core.display.HTML object>"
      ]
     },
     "metadata": {},
     "output_type": "display_data"
    },
    {
     "data": {
      "text/html": [
       "<b>Text-Fabric:</b> <a target=\"_blank\" href=\"https://annotation.github.io/text-fabric/cheatsheet.html\" title=\"text-fabric-api\">Text-Fabric API 8.4.3</a>, <a target=\"_blank\" href=\"https://github.com/annotation/app-missieven\" title=\"missieven TF-app\">app-missieven</a>, <a target=\"_blank\" href=\"https://annotation.github.io/text-fabric/about/searchusage.html\" title=\"Search Templates Introduction and Reference\">Search Reference</a><br><b>Data:</b> <a target=\"_blank\" href=\"https://github.com/Dans-labs/clariah-gm/blob/master/docs/home.md\" title=\"provenance of General Missives Dutch East India Company 1600-1800\">CLARIAH-GM</a>, <a target=\"_blank\" href=\"https://annotation.github.io/text-fabric/writing/.html\" title=\"How TF features represent text\">Character table</a>, <a target=\"_blank\" href=\"https://github.com/Dans-labs/clariah-gm/blob/master/docs/features/home.md\" title=\"CLARIAH-GM feature documentation\">Feature docs</a><br><b>Features:</b><br><details><summary><b>General Missives Dutch East India Company 1600-1800</b></summary><a target=\"_blank\" href=\"https://github.com/Dans-labs/clariah-gm/blob/master/docs/features/author.md\" title=\"~/text-fabric-data/Dans-labs/clariah-gm/tf/0.2/author.tf\">author</a><br><a target=\"_blank\" href=\"https://github.com/Dans-labs/clariah-gm/blob/master/docs/features/authorFull.md\" title=\"~/text-fabric-data/Dans-labs/clariah-gm/tf/0.2/authorFull.tf\">authorFull</a><br><a target=\"_blank\" href=\"https://github.com/Dans-labs/clariah-gm/blob/master/docs/features/authors.md\" title=\"~/text-fabric-data/Dans-labs/clariah-gm/tf/0.2/authors.tf\">authors</a><br><a target=\"_blank\" href=\"https://github.com/Dans-labs/clariah-gm/blob/master/docs/features/col.md\" title=\"~/text-fabric-data/Dans-labs/clariah-gm/tf/0.2/col.tf\">col</a><br><a target=\"_blank\" href=\"https://github.com/Dans-labs/clariah-gm/blob/master/docs/features/day.md\" title=\"~/text-fabric-data/Dans-labs/clariah-gm/tf/0.2/day.tf\">day</a><br><a target=\"_blank\" href=\"https://github.com/Dans-labs/clariah-gm/blob/master/docs/features/dayFrom.md\" title=\"~/text-fabric-data/Dans-labs/clariah-gm/tf/0.2/dayFrom.tf\">dayFrom</a><br><a target=\"_blank\" href=\"https://github.com/Dans-labs/clariah-gm/blob/master/docs/features/dayTo.md\" title=\"~/text-fabric-data/Dans-labs/clariah-gm/tf/0.2/dayTo.tf\">dayTo</a><br><a target=\"_blank\" href=\"https://github.com/Dans-labs/clariah-gm/blob/master/docs/features/emph.md\" title=\"~/text-fabric-data/Dans-labs/clariah-gm/tf/0.2/emph.tf\">emph</a><br><a target=\"_blank\" href=\"https://github.com/Dans-labs/clariah-gm/blob/master/docs/features/facs.md\" title=\"~/text-fabric-data/Dans-labs/clariah-gm/tf/0.2/facs.tf\">facs</a><br><a target=\"_blank\" href=\"https://github.com/Dans-labs/clariah-gm/blob/master/docs/features/fnote.md\" title=\"~/text-fabric-data/Dans-labs/clariah-gm/tf/0.2/fnote.tf\">fnote</a><br><a target=\"_blank\" href=\"https://github.com/Dans-labs/clariah-gm/blob/master/docs/features/folio.md\" title=\"~/text-fabric-data/Dans-labs/clariah-gm/tf/0.2/folio.tf\">folio</a><br><a target=\"_blank\" href=\"https://github.com/Dans-labs/clariah-gm/blob/master/docs/features/month.md\" title=\"~/text-fabric-data/Dans-labs/clariah-gm/tf/0.2/month.tf\">month</a><br><a target=\"_blank\" href=\"https://github.com/Dans-labs/clariah-gm/blob/master/docs/features/monthFrom.md\" title=\"~/text-fabric-data/Dans-labs/clariah-gm/tf/0.2/monthFrom.tf\">monthFrom</a><br><a target=\"_blank\" href=\"https://github.com/Dans-labs/clariah-gm/blob/master/docs/features/monthTo.md\" title=\"~/text-fabric-data/Dans-labs/clariah-gm/tf/0.2/monthTo.tf\">monthTo</a><br><a target=\"_blank\" href=\"https://github.com/Dans-labs/clariah-gm/blob/master/docs/features/n.md\" title=\"~/text-fabric-data/Dans-labs/clariah-gm/tf/0.2/n.tf\">n</a><br><a target=\"_blank\" href=\"https://github.com/Dans-labs/clariah-gm/blob/master/docs/features/otype.md\" title=\"~/text-fabric-data/Dans-labs/clariah-gm/tf/0.2/otype.tf\">otype</a><br><a target=\"_blank\" href=\"https://github.com/Dans-labs/clariah-gm/blob/master/docs/features/page.md\" title=\"~/text-fabric-data/Dans-labs/clariah-gm/tf/0.2/page.tf\">page</a><br><a target=\"_blank\" href=\"https://github.com/Dans-labs/clariah-gm/blob/master/docs/features/pid.md\" title=\"~/text-fabric-data/Dans-labs/clariah-gm/tf/0.2/pid.tf\">pid</a><br><a target=\"_blank\" href=\"https://github.com/Dans-labs/clariah-gm/blob/master/docs/features/place.md\" title=\"~/text-fabric-data/Dans-labs/clariah-gm/tf/0.2/place.tf\">place</a><br><a target=\"_blank\" href=\"https://github.com/Dans-labs/clariah-gm/blob/master/docs/features/punc.md\" title=\"~/text-fabric-data/Dans-labs/clariah-gm/tf/0.2/punc.tf\">punc</a><br><a target=\"_blank\" href=\"https://github.com/Dans-labs/clariah-gm/blob/master/docs/features/rawdate.md\" title=\"~/text-fabric-data/Dans-labs/clariah-gm/tf/0.2/rawdate.tf\">rawdate</a><br><a target=\"_blank\" href=\"https://github.com/Dans-labs/clariah-gm/blob/master/docs/features/remark.md\" title=\"~/text-fabric-data/Dans-labs/clariah-gm/tf/0.2/remark.tf\">remark</a><br><a target=\"_blank\" href=\"https://github.com/Dans-labs/clariah-gm/blob/master/docs/features/rest.md\" title=\"~/text-fabric-data/Dans-labs/clariah-gm/tf/0.2/rest.tf\">rest</a><br><a target=\"_blank\" href=\"https://github.com/Dans-labs/clariah-gm/blob/master/docs/features/row.md\" title=\"~/text-fabric-data/Dans-labs/clariah-gm/tf/0.2/row.tf\">row</a><br><a target=\"_blank\" href=\"https://github.com/Dans-labs/clariah-gm/blob/master/docs/features/seq.md\" title=\"~/text-fabric-data/Dans-labs/clariah-gm/tf/0.2/seq.tf\">seq</a><br><a target=\"_blank\" href=\"https://github.com/Dans-labs/clariah-gm/blob/master/docs/features/special.md\" title=\"~/text-fabric-data/Dans-labs/clariah-gm/tf/0.2/special.tf\">special</a><br><a target=\"_blank\" href=\"https://github.com/Dans-labs/clariah-gm/blob/master/docs/features/status.md\" title=\"~/text-fabric-data/Dans-labs/clariah-gm/tf/0.2/status.tf\">status</a><br><a target=\"_blank\" href=\"https://github.com/Dans-labs/clariah-gm/blob/master/docs/features/super.md\" title=\"~/text-fabric-data/Dans-labs/clariah-gm/tf/0.2/super.tf\">super</a><br><a target=\"_blank\" href=\"https://github.com/Dans-labs/clariah-gm/blob/master/docs/features/title.md\" title=\"~/text-fabric-data/Dans-labs/clariah-gm/tf/0.2/title.tf\">title</a><br><a target=\"_blank\" href=\"https://github.com/Dans-labs/clariah-gm/blob/master/docs/features/tpl.md\" title=\"~/text-fabric-data/Dans-labs/clariah-gm/tf/0.2/tpl.tf\">tpl</a><br><a target=\"_blank\" href=\"https://github.com/Dans-labs/clariah-gm/blob/master/docs/features/trans.md\" title=\"~/text-fabric-data/Dans-labs/clariah-gm/tf/0.2/trans.tf\">trans</a><br><a target=\"_blank\" href=\"https://github.com/Dans-labs/clariah-gm/blob/master/docs/features/und.md\" title=\"~/text-fabric-data/Dans-labs/clariah-gm/tf/0.2/und.tf\">und</a><br><a target=\"_blank\" href=\"https://github.com/Dans-labs/clariah-gm/blob/master/docs/features/vol.md\" title=\"~/text-fabric-data/Dans-labs/clariah-gm/tf/0.2/vol.tf\">vol</a><br><a target=\"_blank\" href=\"https://github.com/Dans-labs/clariah-gm/blob/master/docs/features/year.md\" title=\"~/text-fabric-data/Dans-labs/clariah-gm/tf/0.2/year.tf\">year</a><br><a target=\"_blank\" href=\"https://github.com/Dans-labs/clariah-gm/blob/master/docs/features/yearFrom.md\" title=\"~/text-fabric-data/Dans-labs/clariah-gm/tf/0.2/yearFrom.tf\">yearFrom</a><br><a target=\"_blank\" href=\"https://github.com/Dans-labs/clariah-gm/blob/master/docs/features/yearTo.md\" title=\"~/text-fabric-data/Dans-labs/clariah-gm/tf/0.2/yearTo.tf\">yearTo</a><br><b><i><a target=\"_blank\" href=\"https://github.com/Dans-labs/clariah-gm/blob/master/docs/features/oslots.md\" title=\"~/text-fabric-data/Dans-labs/clariah-gm/tf/0.2/oslots.tf\">oslots</a></i></b><br></details>"
      ],
      "text/plain": [
       "<IPython.core.display.HTML object>"
      ]
     },
     "metadata": {},
     "output_type": "display_data"
    },
    {
     "data": {
      "text/html": [
       "<style>tr.tf.ltr, td.tf.ltr, th.tf.ltr { text-align: left ! important;}\n",
       "tr.tf.rtl, td.tf.rtl, th.tf.rtl { text-align: right ! important;}\n",
       "@font-face {\n",
       "  font-family: \"Gentium Plus\";\n",
       "  src: local('Gentium Plus'), local('GentiumPlus'),\n",
       "    url('/server/static/fonts/GentiumPlus-R.woff') format('woff'),\n",
       "    url('https://github.com/annotation/text-fabric/blob/master/tf/server/static/fonts/GentiumPlus-R.woff?raw=true') format('woff');\n",
       "}\n",
       "\n",
       "@font-face {\n",
       "  font-family: \"Ezra SIL\";\n",
       "  src: local('Ezra SIL'), local('EzraSIL'),\n",
       "    url('/server/static/fonts/SILEOT.woff') format('woff'),\n",
       "    url('https://github.com/annotation/text-fabric/blob/master/tf/server/static/fonts/SILEOT.woff?raw=true') format('woff');\n",
       "}\n",
       "\n",
       "@font-face {\n",
       "  font-family: \"SBL Hebrew\";\n",
       "  src: local('SBL Hebrew'), local('SBLHebrew'),\n",
       "    url('/server/static/fonts/SBL_Hbrw.woff') format('woff'),\n",
       "    url('https://github.com/annotation/text-fabric/blob/master/tf/server/static/fonts/SBL_Hbrw.woff?raw=true') format('woff');\n",
       "}\n",
       "\n",
       "@font-face {\n",
       "  font-family: \"Estrangelo Edessa\";\n",
       "  src: local('Estrangelo Edessa'), local('EstrangeloEdessa');\n",
       "    url('/server/static/fonts/SyrCOMEdessa.woff') format('woff'),\n",
       "    url('https://github.com/annotation/text-fabric/blob/master/tf/server/static/fonts/SyrCOMEdessa.woff?raw=true') format('woff');\n",
       "}\n",
       "\n",
       "@font-face {\n",
       "  font-family: AmiriQuran;\n",
       "  font-style: normal;\n",
       "  font-weight: 400;\n",
       "  src: local('Amiri Quran'), local('AmiriQuran'),\n",
       "    url('/server/static/fonts/AmiriQuran.woff') format('woff'),\n",
       "    url('https://github.com/annotation/text-fabric/blob/master/tf/server/static/fonts/AmiriQuran.woff?raw=true') format('woff');\n",
       "}\n",
       "\n",
       "@font-face {\n",
       "  font-family: AmiriQuranColored;\n",
       "  font-style: normal;\n",
       "  font-weight: 400;\n",
       "  src: local('Amiri Quran Colored'), local('AmiriQuranColored'),\n",
       "    url('/server/static/fonts/AmiriQuranColored.woff') format('woff'),\n",
       "    url('https://github.com/annotation/text-fabric/blob/master/tf/server/static/fonts/AmiriQuranColored.woff?raw=true') format('woff');\n",
       "}\n",
       "\n",
       "@font-face {\n",
       "  font-family: \"Santakku\";\n",
       "  src: local('Santakku'),\n",
       "    url('/server/static/fonts/Santakku.woff') format('woff'),\n",
       "    url('https://github.com/annotation/text-fabric/blob/master/tf/server/static/fonts/Santakku.woff?raw=true') format('woff');\n",
       "}\n",
       "\n",
       "@font-face {\n",
       "  font-family: \"SantakkuM\";\n",
       "  src: local('SantakkuM'),\n",
       "    url('/server/static/fonts/SantakkuM.woff') format('woff'),\n",
       "    url('https://github.com/annotation/text-fabric/blob/master/tf/server/static/fonts/SantakkuM.woff?raw=true') format('woff');\n",
       "}\n",
       "/* bypassing some classical notebook settings */\n",
       "div#notebook {\n",
       "  line-height: unset;\n",
       "}\n",
       "/* neutral text */\n",
       ".txtn,.txtn a:visited,.txtn a:link {\n",
       "    font-family: sans-serif;\n",
       "    font-size: medium;\n",
       "    direction: ltr;\n",
       "    unicode-bidi: embed;\n",
       "    text-decoration: none;\n",
       "    color: var(--text-color);\n",
       "}\n",
       "/* transcription text */\n",
       ".txtt,.txtt a:visited,.txtt a:link {\n",
       "    font-family: monospace;\n",
       "    font-size: medium;\n",
       "    direction: ltr;\n",
       "    unicode-bidi: embed;\n",
       "    text-decoration: none;\n",
       "    color: var(--text-color);\n",
       "}\n",
       "/* source text */\n",
       ".txto,.txto a:visited,.txto a:link {\n",
       "    font-family: serif;\n",
       "    font-size: medium;\n",
       "    direction: ltr;\n",
       "    unicode-bidi: embed;\n",
       "    text-decoration: none;\n",
       "    color: var(--text-color);\n",
       "}\n",
       "/* phonetic text */\n",
       ".txtp,.txtp a:visited,.txtp a:link {\n",
       "    font-family: Gentium, sans-serif;\n",
       "    font-size: medium;\n",
       "    direction: ltr;\n",
       "    unicode-bidi: embed;\n",
       "    text-decoration: none;\n",
       "    color: var(--text-color);\n",
       "}\n",
       "/* original script text */\n",
       ".txtu,.txtu a:visited,.txtu a:link {\n",
       "    font-family: Gentium, sans-serif;\n",
       "    font-size: medium;\n",
       "    text-decoration: none;\n",
       "    color: var(--text-color);\n",
       "}\n",
       "/* hebrew */\n",
       ".txtu.hbo,.lex.hbo {\n",
       "    font-family: \"Ezra SIL\", \"SBL Hebrew\", sans-serif;\n",
       "    font-size: large;\n",
       "    direction: rtl ! important;\n",
       "    unicode-bidi: embed;\n",
       "}\n",
       "/* syriac */\n",
       ".txtu.syc,.lex.syc {\n",
       "    font-family: \"Estrangelo Edessa\", sans-serif;\n",
       "    font-size: medium;\n",
       "    direction: rtl ! important;\n",
       "    unicode-bidi: embed;\n",
       "}\n",
       "/* neo aramaic */\n",
       ".txtu.cld,.lex.cld {\n",
       "    font-family: \"CharisSIL-R\", sans-serif;\n",
       "    font-size: medium;\n",
       "    direction: ltr ! important;\n",
       "    unicode-bidi: embed;\n",
       "}\n",
       "/* standard arabic */\n",
       ".txtu.ara,.lex.ara {\n",
       "    font-family: \"AmiriQuran\", sans-serif;\n",
       "    font-size: large;\n",
       "    direction: rtl ! important;\n",
       "    unicode-bidi: embed;\n",
       "}\n",
       "/* cuneiform */\n",
       ".txtu.akk,.lex.akk {\n",
       "    font-family: Santakku, sans-serif;\n",
       "    font-size: large;\n",
       "    direction: ltr ! important;\n",
       "    unicode-bidi: embed;\n",
       "}\n",
       "/* greek */\n",
       ".txtu.grc,.lex.grc a:link {\n",
       "    font-family: Gentium, sans-serif;\n",
       "    font-size: medium;\n",
       "    direction: ltr ! important;\n",
       "    unicode-bidi: embed;\n",
       "}\n",
       "a:hover {\n",
       "    text-decoration: underline | important;\n",
       "    color: #0000ff | important;\n",
       "}\n",
       ".ltr {\n",
       "    direction: ltr ! important;\n",
       "    unicode-bidi: embed;\n",
       "}\n",
       ".rtl {\n",
       "    direction: rtl ! important;\n",
       "    unicode-bidi: embed;\n",
       "}\n",
       ".ubd {\n",
       "    unicode-bidi: embed;\n",
       "}\n",
       ".col {\n",
       "   display: inline-block;\n",
       "}\n",
       ".features {\n",
       "    font-family: monospace;\n",
       "    font-size: medium;\n",
       "    font-weight: bold;\n",
       "    color: var(--features);\n",
       "    display: flex;\n",
       "    flex-flow: column nowrap;\n",
       "    justify-content: flex-start;\n",
       "    align-items: flex-start;\n",
       "    align-content: flex-start;\n",
       "    padding: 2px;\n",
       "    margin: 2px;\n",
       "    direction: ltr;\n",
       "    unicode-bidi: embed;\n",
       "    border: var(--meta-width) solid var(--meta-color);\n",
       "    border-radius: var(--meta-width);\n",
       "}\n",
       ".features div,.features span {\n",
       "    padding: 0;\n",
       "    margin: -2px 0;\n",
       "}\n",
       ".features .f {\n",
       "    font-family: sans-serif;\n",
       "    font-size: small;\n",
       "    font-weight: normal;\n",
       "    color: #5555bb;\n",
       "}\n",
       ".features .xft {\n",
       "  color: #000000;\n",
       "  background-color: #eeeeee;\n",
       "  font-size: medium;\n",
       "  margin: 2px 0px;\n",
       "}\n",
       ".features .xft .f {\n",
       "  color: #000000;\n",
       "  background-color: #eeeeee;\n",
       "  font-size: small;\n",
       "  font-weight: normal;\n",
       "}\n",
       ".section {\n",
       "    font-family: sans-serif;\n",
       "    font-size: small;\n",
       "    font-weight: bold;\n",
       "    color: var(--section);\n",
       "    unicode-bidi: embed;\n",
       "    text-align: start;\n",
       "}\n",
       ".structure {\n",
       "    font-family: sans-serif;\n",
       "    font-size: small;\n",
       "    font-weight: bold;\n",
       "    color: var(--structure);\n",
       "    unicode-bidi: embed;\n",
       "    text-align: start;\n",
       "}\n",
       ".comments {\n",
       "    display: flex;\n",
       "    justify-content: flex-start;\n",
       "    align-items: flex-start;\n",
       "    align-content: flex-start;\n",
       "    flex-flow: column nowrap;\n",
       "}\n",
       ".nd, a:link.nd {\n",
       "    font-family: sans-serif;\n",
       "    font-size: small;\n",
       "    color: var(--node);\n",
       "    vertical-align: super;\n",
       "    direction: ltr ! important;\n",
       "    unicode-bidi: embed;\n",
       "}\n",
       ".lex {\n",
       "  color: var(--lex-color);;\n",
       "}\n",
       ".children,.children.ltr {\n",
       "    display: flex;\n",
       "    border: 0;\n",
       "    background-color: #ffffff;\n",
       "    justify-content: flex-start;\n",
       "    align-items: flex-start;\n",
       "    align-content: flex-start;\n",
       "}\n",
       ".children.stretch {\n",
       "    align-items: stretch;\n",
       "}\n",
       ".children.hor {\n",
       "    flex-flow: row nowrap;\n",
       "}\n",
       ".children.hor.wrap {\n",
       "    flex-flow: row wrap;\n",
       "}\n",
       ".children.ver {\n",
       "    flex-flow: column nowrap;\n",
       "}\n",
       ".children.ver.wrap {\n",
       "    flex-flow: column wrap;\n",
       "}\n",
       ".contnr {\n",
       "    width: fit-content;\n",
       "    display: flex;\n",
       "    justify-content: flex-start;\n",
       "    align-items: flex-start;\n",
       "    align-content: flex-start;\n",
       "    flex-flow: column nowrap;\n",
       "    background: #ffffff none repeat scroll 0 0;\n",
       "    padding:  10px 2px 2px 2px;\n",
       "    margin: 16px 2px 2px 2px;\n",
       "    border-style: solid;\n",
       "    font-size: small;\n",
       "}\n",
       ".contnr.trm {\n",
       "    background-attachment: local;\n",
       "}\n",
       ".contnr.cnul {\n",
       "    padding:  0;\n",
       "    margin: 0;\n",
       "    border-style: solid;\n",
       "    font-size: xx-small;\n",
       "}\n",
       ".contnr.cnul,.lbl.cnul {\n",
       "    border-color: var(--border-color-nul);\n",
       "    border-width: var(--border-width-nul);\n",
       "    border-radius: var(--border-width-nul);\n",
       "}\n",
       ".contnr.c0,.lbl.c0 {\n",
       "    border-color: var(--border-color0);\n",
       "    border-width: var(--border-width0);\n",
       "    border-radius: var(--border-width0);\n",
       "}\n",
       ".contnr.c1,.lbl.c1 {\n",
       "    border-color: var(--border-color1);\n",
       "    border-width: var(--border-width1);\n",
       "    border-radius: var(--border-width1);\n",
       "}\n",
       ".contnr.c2,.lbl.c2 {\n",
       "    border-color: var(--border-color2);\n",
       "    border-width: var(--border-width2);\n",
       "    border-radius: var(--border-width2);\n",
       "}\n",
       ".contnr.c3,.lbl.c3 {\n",
       "    border-color: var(--border-color3);\n",
       "    border-width: var(--border-width3);\n",
       "    border-radius: var(--border-width3);\n",
       "}\n",
       ".contnr.c4,.lbl.c4 {\n",
       "    border-color: var(--border-color4);\n",
       "    border-width: var(--border-width4);\n",
       "    border-radius: var(--border-width4);\n",
       "}\n",
       "span.plain {\n",
       "    display: inline-block;\n",
       "    white-space: pre-wrap;\n",
       "}\n",
       ".plain {\n",
       "    background-color: #ffffff;\n",
       "}\n",
       ".plain.l,.contnr.l,.contnr.l>.lbl {\n",
       "    border-left-style: dotted\n",
       "}\n",
       ".plain.r,.contnr.r,.contnr.r>.lbl {\n",
       "    border-right-style: dotted\n",
       "}\n",
       ".plain.lno,.contnr.lno,.contnr.lno>.lbl {\n",
       "    border-left-style: none\n",
       "}\n",
       ".plain.rno,.contnr.rno,.contnr.rno>.lbl {\n",
       "    border-right-style: none\n",
       "}\n",
       ".plain.l {\n",
       "    padding-left: 4px;\n",
       "    margin-left: 2px;\n",
       "    border-width: var(--border-width-plain);\n",
       "}\n",
       ".plain.r {\n",
       "    padding-right: 4px;\n",
       "    margin-right: 2px;\n",
       "    border-width: var(--border-width-plain);\n",
       "}\n",
       ".lbl {\n",
       "    font-family: monospace;\n",
       "    margin-top: -24px;\n",
       "    margin-left: 20px;\n",
       "    background: #ffffff none repeat scroll 0 0;\n",
       "    padding: 0 6px;\n",
       "    border-style: solid;\n",
       "    display: block;\n",
       "    color: var(--label)\n",
       "}\n",
       ".lbl.trm {\n",
       "    background-attachment: local;\n",
       "    margin-top: 2px;\n",
       "    margin-left: 2px;\n",
       "    padding: 2px 2px;\n",
       "    border-style: none;\n",
       "}\n",
       ".lbl.cnul {\n",
       "    font-size: xx-small;\n",
       "}\n",
       ".lbl.c0 {\n",
       "    font-size: small;\n",
       "}\n",
       ".lbl.c1 {\n",
       "    font-size: small;\n",
       "}\n",
       ".lbl.c2 {\n",
       "    font-size: medium;\n",
       "}\n",
       ".lbl.c3 {\n",
       "    font-size: medium;\n",
       "}\n",
       ".lbl.c4 {\n",
       "    font-size: large;\n",
       "}\n",
       ".occs, a:link.occs {\n",
       "    font-size: small;\n",
       "}\n",
       "\n",
       "/* PROVENANCE */\n",
       "\n",
       "div.prov {\n",
       "\tmargin: 40px;\n",
       "\tpadding: 20px;\n",
       "\tborder: 2px solid var(--fog-rim);\n",
       "}\n",
       "div.pline {\n",
       "\tdisplay: flex;\n",
       "\tflex-flow: row nowrap;\n",
       "\tjustify-content: stretch;\n",
       "\talign-items: baseline;\n",
       "}\n",
       "div.p2line {\n",
       "\tmargin-left: 2em;\n",
       "\tdisplay: flex;\n",
       "\tflex-flow: row nowrap;\n",
       "\tjustify-content: stretch;\n",
       "\talign-items: baseline;\n",
       "}\n",
       "div.psline {\n",
       "\tdisplay: flex;\n",
       "\tflex-flow: row nowrap;\n",
       "\tjustify-content: stretch;\n",
       "\talign-items: baseline;\n",
       "\tbackground-color: var(--gold-mist-back);\n",
       "}\n",
       "div.pname {\n",
       "\tflex: 0 0 5rem;\n",
       "\tfont-weight: bold;\n",
       "}\n",
       "div.pval {\n",
       "    flex: 1 1 auto;\n",
       "}\n",
       "\n",
       ":root {\n",
       "\t--node:               hsla(120, 100%,  20%, 1.0  );\n",
       "\t--label:              hsla(  0, 100%,  20%, 1.0  );\n",
       "\t--section:            hsla(  0, 100%,  25%, 1.0  );\n",
       "\t--structure:          hsla(120, 100%,  25%, 1.0  );\n",
       "\t--features:           hsla(  0,   0%,  30%, 1.0  );\n",
       "  --text-color:         hsla( 60,  80%,  10%, 1.0  );\n",
       "  --lex-color:          hsla(220,  90%,  60%, 1.0  );\n",
       "  --meta-color:         hsla(  0,   0%,  90%, 0.7  );\n",
       "  --meta-width:         3px;\n",
       "  --border-color-nul:   hsla(  0,   0%,  90%, 0.5  );\n",
       "  --border-color0:      hsla(  0,   0%,  90%, 0.9  );\n",
       "  --border-color1:      hsla(  0,   0%,  80%, 0.9  );\n",
       "  --border-color2:      hsla(  0,   0%,  70%, 0.9  );\n",
       "  --border-color3:      hsla(  0,   0%,  80%, 0.8  );\n",
       "  --border-color4:      hsla(  0,   0%,  60%, 0.9  );\n",
       "  --border-width-nul:   2px;\n",
       "  --border-width0:      2px;\n",
       "  --border-width1:      3px;\n",
       "  --border-width2:      4px;\n",
       "  --border-width3:      6px;\n",
       "  --border-width4:      5px;\n",
       "  --border-width-plain: 2px;\n",
       "}\n",
       ".hl {\n",
       "  background-color: var(--hl-strong);\n",
       "}\n",
       "span.hl {\n",
       "\tbackground-color: var(--hl-strong);\n",
       "\tborder-width: 0;\n",
       "\tborder-radius: 2px;\n",
       "\tborder-style: solid;\n",
       "}\n",
       "div.contnr.hl,div.lbl.hl {\n",
       "  background-color: var(--hl-strong);\n",
       "}\n",
       "div.contnr.hl {\n",
       "  border-color: var(--hl-rim) ! important;\n",
       "\tborder-width: 4px ! important;\n",
       "}\n",
       "\n",
       "span.hlbx {\n",
       "\tborder-color: var(--hl-rim);\n",
       "\tborder-width: 4px ! important;\n",
       "\tborder-style: solid;\n",
       "\tborder-radius: 6px;\n",
       "  padding: 4px;\n",
       "  margin: 4px;\n",
       "}\n",
       "\n",
       "span.plain {\n",
       "  display: inline-block;\n",
       "  white-space: pre-wrap;\n",
       "}\n",
       "\n",
       ":root {\n",
       "\t--hl-strong:        hsla( 60, 100%,  70%, 0.9  );\n",
       "\t--hl-rim:           hsla( 55,  80%,  50%, 1.0  );\n",
       "}\n",
       "</style>"
      ],
      "text/plain": [
       "<IPython.core.display.HTML object>"
      ]
     },
     "metadata": {},
     "output_type": "display_data"
    },
    {
     "data": {
      "text/html": [
       "<div><b>Text-Fabric API:</b> names <a target=\"_blank\" href=\"https://annotation.github.io/text-fabric/cheatsheet.html\" title=\"doc\">N F E L T S C TF</a> directly usable</div><hr>"
      ],
      "text/plain": [
       "<IPython.core.display.HTML object>"
      ]
     },
     "metadata": {},
     "output_type": "display_data"
    }
   ],
   "source": [
    "# A = use('missieven:clone', checkout=\"clone\", hoist=globals())\n",
    "# A = use('missieven:hot', checkout=\"hot\", hoist=globals())\n",
    "A = use('missieven:latest', checkout=\"latest\", hoist=globals())\n",
    "# A = use('missieven', hoist=globals())"
   ]
  },
  {
   "cell_type": "markdown",
   "metadata": {},
   "source": [
    "You can see which features have been loaded, and if you click on a feature name, you find its documentation.\n",
    "If you hover over a name, you see where the feature is located on your system.\n",
    "\n",
    "Edge features are marked by **_bold italic_** formatting."
   ]
  },
  {
   "cell_type": "markdown",
   "metadata": {},
   "source": [
    "# Counting"
   ]
  },
  {
   "cell_type": "code",
   "execution_count": 5,
   "metadata": {
    "ExecuteTime": {
     "end_time": "2018-05-18T09:17:43.894153Z",
     "start_time": "2018-05-18T09:17:43.597128Z"
    }
   },
   "outputs": [
    {
     "name": "stdout",
     "output_type": "stream",
     "text": [
      "  0.00s Counting nodes ...\n",
      "  0.53s 3598532 nodes\n"
     ]
    }
   ],
   "source": [
    "A.indent(reset=True)\n",
    "A.info(\"Counting nodes ...\")\n",
    "\n",
    "i = 0\n",
    "for n in N.walk():\n",
    "    i += 1\n",
    "\n",
    "A.info(\"{} nodes\".format(i))"
   ]
  },
  {
   "cell_type": "markdown",
   "metadata": {},
   "source": [
    "# Node types"
   ]
  },
  {
   "cell_type": "code",
   "execution_count": 6,
   "metadata": {
    "ExecuteTime": {
     "end_time": "2018-05-18T09:17:47.820323Z",
     "start_time": "2018-05-18T09:17:47.812328Z"
    }
   },
   "outputs": [
    {
     "data": {
      "text/plain": [
       "'word'"
      ]
     },
     "execution_count": 6,
     "metadata": {},
     "output_type": "execute_result"
    }
   ],
   "source": [
    "F.otype.slotType"
   ]
  },
  {
   "cell_type": "code",
   "execution_count": 7,
   "metadata": {
    "ExecuteTime": {
     "end_time": "2018-05-18T09:17:49.922863Z",
     "start_time": "2018-05-18T09:17:49.916078Z"
    }
   },
   "outputs": [
    {
     "data": {
      "text/plain": [
       "('volume',\n",
       " 'letter',\n",
       " 'page',\n",
       " 'table',\n",
       " 'para',\n",
       " 'head',\n",
       " 'line',\n",
       " 'row',\n",
       " 'cell',\n",
       " 'word')"
      ]
     },
     "execution_count": 7,
     "metadata": {},
     "output_type": "execute_result"
    }
   ],
   "source": [
    "F.otype.all"
   ]
  },
  {
   "cell_type": "code",
   "execution_count": 8,
   "metadata": {
    "ExecuteTime": {
     "end_time": "2018-05-18T09:17:51.782779Z",
     "start_time": "2018-05-18T09:17:51.774167Z"
    }
   },
   "outputs": [
    {
     "data": {
      "text/plain": [
       "(('volume', 250271.92307692306, 3598520, 3598532),\n",
       " ('letter', 5862.225225225226, 3271328, 3271882),\n",
       " ('page', 324.0572709163347, 3548787, 3558826),\n",
       " ('table', 104.81904761904762, 3598205, 3598519),\n",
       " ('para', 91.78756758303058, 3558827, 3593783),\n",
       " ('head', 27.83963963963964, 3270773, 3271327),\n",
       " ('line', 11.74968581168925, 3271883, 3548786),\n",
       " ('row', 7.468446052929202, 3593784, 3598204),\n",
       " ('cell', 1.9155305447583686, 3253536, 3270772),\n",
       " ('word', 1, 1, 3253535))"
      ]
     },
     "execution_count": 8,
     "metadata": {},
     "output_type": "execute_result"
    }
   ],
   "source": [
    "C.levels.data"
   ]
  },
  {
   "cell_type": "markdown",
   "metadata": {},
   "source": [
    "The second column is the average size (in words) of the node type mentioned in the first column.\n",
    "\n",
    "The third and fourth column are the node numbers of the first and the last node of that kind."
   ]
  },
  {
   "cell_type": "code",
   "execution_count": 12,
   "metadata": {},
   "outputs": [
    {
     "name": "stdout",
     "output_type": "stream",
     "text": [
      "     13 x volume  having an average size of 250272 words\n",
      "    555 x letter  having an average size of   5862 words\n",
      "  10040 x page    having an average size of    324 words\n",
      "    315 x table   having an average size of    105 words\n",
      "  34957 x para    having an average size of     92 words\n",
      "    555 x head    having an average size of     28 words\n",
      " 276904 x line    having an average size of     12 words\n",
      "   4421 x row     having an average size of      7 words\n",
      "  17237 x cell    having an average size of      2 words\n",
      "3253535 x word    having an average size of      1 words\n"
     ]
    }
   ],
   "source": [
    "for (typ, av, start, end) in C.levels.data:\n",
    "    print(\n",
    "        f\"{end - start + 1:>7} x {typ:<7} having an average size of {int(round(av)):>6} words\"\n",
    "    )"
   ]
  },
  {
   "cell_type": "markdown",
   "metadata": {},
   "source": [
    "# Feature statistics"
   ]
  },
  {
   "cell_type": "markdown",
   "metadata": {},
   "source": [
    "There are no linguistic features (yet)."
   ]
  },
  {
   "cell_type": "markdown",
   "metadata": {},
   "source": [
    "# Word matters\n",
    "\n",
    "We can only work with the surface forms of words, there is no concept of lexeme in the corpus (yet).\n",
    "\n",
    "## Top 20 frequent words"
   ]
  },
  {
   "cell_type": "code",
   "execution_count": 16,
   "metadata": {},
   "outputs": [
    {
     "name": "stdout",
     "output_type": "stream",
     "text": [
      "120061 de\n",
      "106193 van\n",
      " 78001 en\n",
      " 76343 te\n",
      " 52565 den\n",
      " 48925 in\n",
      " 39900 dat\n",
      " 38242 het\n",
      " 31398 een\n",
      " 30844 met\n",
      " 29154 ende\n",
      " 27798 op\n",
      " 27463 die\n",
      " 24819 tot\n",
      " 23044 niet\n",
      " 20490 ’t\n",
      " 20165 om\n",
      " 19219 als\n",
      " 18916 door\n",
      " 17420 voor\n"
     ]
    }
   ],
   "source": [
    "for (w, amount) in F.trans.freqList(\"word\")[0:20]:\n",
    "    print(f\"{amount:>6} {w}\")"
   ]
  },
  {
   "cell_type": "markdown",
   "metadata": {},
   "source": [
    "## Hapaxes"
   ]
  },
  {
   "cell_type": "code",
   "execution_count": 17,
   "metadata": {},
   "outputs": [
    {
     "data": {
      "text/plain": [
       "118732"
      ]
     },
     "execution_count": 17,
     "metadata": {},
     "output_type": "execute_result"
    }
   ],
   "source": [
    "hapaxes1 = sorted(w for (w, amount) in F.trans.freqList('word') if amount == 1)\n",
    "len(hapaxes1)"
   ]
  },
  {
   "cell_type": "code",
   "execution_count": 18,
   "metadata": {},
   "outputs": [
    {
     "name": "stdout",
     "output_type": "stream",
     "text": [
      "!>\n",
      "\"van\n",
      "\"voor\n",
      "$0\n",
      "$2\n",
      "$6,\n",
      "$n\n",
      "$•\n",
      "%,\n",
      "'))\n",
      "');\n",
      "')>\n",
      "')off\n",
      "'/4\n",
      "'4\n",
      "'8?\n",
      "'Arabieren\n",
      "'CD,\n",
      "'Dit\n",
      "'E\n"
     ]
    }
   ],
   "source": [
    "for lx in hapaxes1[0:20]:\n",
    "    print(lx)"
   ]
  },
  {
   "cell_type": "markdown",
   "metadata": {},
   "source": [
    "Here we suffer from the fact that words and punctuation have not yet been separated.\n",
    "That will be done in a next version of the TF data."
   ]
  },
  {
   "cell_type": "markdown",
   "metadata": {},
   "source": [
    "### Small occurrence base\n",
    "\n",
    "The occurrence base of a word are the letters in which the word occurs."
   ]
  },
  {
   "cell_type": "code",
   "execution_count": 27,
   "metadata": {},
   "outputs": [
    {
     "name": "stdout",
     "output_type": "stream",
     "text": [
      "  0.00s compiling occurrence base ...\n",
      "  2.63s done\n",
      "  2.63s 198742 entries\n"
     ]
    }
   ],
   "source": [
    "occurrenceBase = collections.defaultdict(set)\n",
    "\n",
    "A.indent(reset=True)\n",
    "A.info(\"compiling occurrence base ...\")\n",
    "for s in F.otype.s(\"letter\"):\n",
    "    title = F.title.v(s)\n",
    "    for w in L.d(s, otype=\"word\"):\n",
    "        occurrenceBase[F.trans.v(w)].add(title)\n",
    "A.info(\"done\")\n",
    "A.info(f\"{len(occurrenceBase)} entries\")"
   ]
  },
  {
   "cell_type": "markdown",
   "metadata": {},
   "source": [
    "An overview of how many words have how big occurrence bases:"
   ]
  },
  {
   "cell_type": "code",
   "execution_count": 28,
   "metadata": {},
   "outputs": [
    {
     "name": "stdout",
     "output_type": "stream",
     "text": [
      "letters    1 : 123054 words\n",
      "letters    2 :  24236 words\n",
      "letters    3 :  11450 words\n",
      "letters    4 :   7114 words\n",
      "letters    5 :   4809 words\n",
      "letters    6 :   3469 words\n",
      "letters    7 :   2678 words\n",
      "letters    8 :   2113 words\n",
      "letters    9 :   1724 words\n",
      "letters   10 :   1455 words\n",
      "...\n",
      "letters  447 :      1 words\n",
      "letters  449 :      1 words\n",
      "letters  450 :      1 words\n",
      "letters  455 :      1 words\n",
      "letters  460 :      1 words\n",
      "letters  463 :      1 words\n",
      "letters  471 :      1 words\n",
      "letters  476 :      1 words\n",
      "letters  479 :      1 words\n",
      "letters  493 :      1 words\n"
     ]
    }
   ],
   "source": [
    "occurrenceSize = collections.Counter()\n",
    "\n",
    "for (w, letters) in occurrenceBase.items():\n",
    "    occurrenceSize[len(letters)] += 1\n",
    "\n",
    "occurrenceSize = sorted(\n",
    "    occurrenceSize.items(),\n",
    "    key=lambda x: (-x[1], x[0]),\n",
    ")\n",
    "\n",
    "for (size, amount) in occurrenceSize[0:10]:\n",
    "    print(f\"letters {size:>4} : {amount:>6} words\")\n",
    "print(\"...\")\n",
    "for (size, amount) in occurrenceSize[-10:]:\n",
    "    print(f\"letters {size:>4} : {amount:>6} words\")"
   ]
  },
  {
   "cell_type": "markdown",
   "metadata": {},
   "source": [
    "Let's give the predicate *private* to those words whose occurrence base is a single letter."
   ]
  },
  {
   "cell_type": "code",
   "execution_count": 29,
   "metadata": {},
   "outputs": [
    {
     "data": {
      "text/plain": [
       "123054"
      ]
     },
     "execution_count": 29,
     "metadata": {},
     "output_type": "execute_result"
    }
   ],
   "source": [
    "privates = {w for (w, base) in occurrenceBase.items() if len(base) == 1}\n",
    "len(privates)"
   ]
  },
  {
   "cell_type": "markdown",
   "metadata": {},
   "source": [
    "### Peculiarity of letters\n",
    "\n",
    "As a final exercise with letters, lets make a list of all letters, and show their\n",
    "\n",
    "* total number of words\n",
    "* number of private words\n",
    "* the percentage of private words: a measure of the peculiarity of the letter"
   ]
  },
  {
   "cell_type": "code",
   "execution_count": 31,
   "metadata": {
    "ExecuteTime": {
     "end_time": "2018-05-18T09:18:52.143337Z",
     "start_time": "2018-05-18T09:18:52.130385Z"
    }
   },
   "outputs": [
    {
     "name": "stdout",
     "output_type": "stream",
     "text": [
      "Found    0 empty letters\n",
      "Found   22 ordinary letters (i.e. without private words)\n"
     ]
    }
   ],
   "source": [
    "letterList = []\n",
    "\n",
    "empty = set()\n",
    "ordinary = set()\n",
    "\n",
    "for d in F.otype.s(\"letter\"):\n",
    "    letter = F.title.v(d)\n",
    "    if len(letter) > 50:\n",
    "        letter = f\"{letter[0:22]} .. {letter[-22:]}\"\n",
    "    words = {F.trans.v(w) for w in L.d(d, otype=\"word\")}\n",
    "    a = len(words)\n",
    "    if not a:\n",
    "        empty.add(letter)\n",
    "        continue\n",
    "    o = len({w for w in words if w in privates})\n",
    "    if not o:\n",
    "        ordinary.add(letter)\n",
    "        continue\n",
    "    p = 100 * o / a\n",
    "    letterList.append((letter, a, o, p))\n",
    "\n",
    "letterList = sorted(letterList, key=lambda e: (-e[3], -e[1], e[0]))\n",
    "\n",
    "print(f\"Found {len(empty):>4} empty letters\")\n",
    "print(f\"Found {len(ordinary):>4} ordinary letters (i.e. without private words)\")"
   ]
  },
  {
   "cell_type": "code",
   "execution_count": 32,
   "metadata": {
    "ExecuteTime": {
     "end_time": "2018-05-18T09:18:52.143337Z",
     "start_time": "2018-05-18T09:18:52.130385Z"
    }
   },
   "outputs": [
    {
     "name": "stdout",
     "output_type": "stream",
     "text": [
      "letter                                             #all #own %own\n",
      "-----------------------------------\n",
      "Both; zonder plaats, zonder datum                     7    3 42.9%\n",
      "Coen, Sonck; Schip Nie .. nda-Neira , 6 mei 1621     24    9 37.5%\n",
      "Bijlage ladinglijst va .. nuari en 25 april 1761    734  239 32.6%\n",
      "Valckenier, Schaghen,  .. avia, 12 december 1739   2114  627 29.7%\n",
      "Van Imhoff, Cluysenaar .. via, 29 september 1750    709  178 25.1%\n",
      "Van Diemen; in het Sch .. an Afrika, 5 juni 1631     20    5 25.0%\n",
      "Reynst; Bantam, 26 oktober 1615                     892  194 21.7%\n",
      "Mossel, Van der Waeyen .. avia, 31 december 1760   5980 1284 21.5%\n",
      "Durven, Hasselaar, Blo .. tavia, 17 oktober 1730    131   26 19.8%\n",
      "Durven, Hasselaar, Blo .. tavia, 17 oktober 1730   2159  425 19.7%\n",
      "Maetsuycker, Verburch, .. via, 25 september 1675     22    4 18.2%\n",
      "Reniers, Maetsuycker,  .. avia, 24 december 1652   6209 1097 17.7%\n",
      "Reael; Kasteel Mauriti .. kéan, 20 augustus 1618   1415  249 17.6%\n",
      "Maetsuycker, Van Goens .. avia, 24 november 1677   2956  519 17.6%\n",
      "Mossel, Van der Waeyen .. avia, 31 december 1758   6421 1126 17.5%\n",
      "Brouwer, Van Diemen, L .. atavia, 4 januari 1636   5001  868 17.4%\n",
      "Mossel, Cluysenaar, Ov .. avia, 31 december 1750   8604 1475 17.1%\n",
      "Speelman, Bort, Hurdt, .. Batavia, 19 maart 1683   7446 1271 17.1%\n",
      "Mossel, Van der Waeyen .. avia, 31 december 1759   5499  932 16.9%\n",
      "Mossel, Van der Waeyen .. avia, 31 december 1754   10226 1725 16.9%\n",
      "...\n",
      "Maetsuycker, Hartsinck .. tavia, 29 januari 1663    138    4  2.9%\n",
      "Mossel, Van der Waeyen .. avia, 31 december 1753    349   10  2.9%\n",
      "Zwaardecroon, De Haan, ..  Batavia, 2 april 1724     71    2  2.8%\n",
      "Valckenier, Schaghen,  .. tavia, 1 december 1740    183    5  2.7%\n",
      "Van Imhoff, Pasques de .. tavia, 5 november 1743     77    2  2.6%\n",
      "Maetsuycker, Hartsinck ..  Batavia, 31 juli 1656    347    9  2.6%\n",
      "Maetsuycker, Verburch, .. avia, 16 november 1671    272    7  2.6%\n",
      "Zwaardecroon, De Haan, .. avia, 14 december 1724     82    2  2.4%\n",
      "Van Goens, Speelman, B .. tavia, 4 november 1681    125    3  2.4%\n",
      "Maetsuycker, Verburch, .. avia, 31 december 1667    192    4  2.1%\n",
      "Durven, Hasselaar, Blo .. tavia, 7 november 1729     52    1  1.9%\n",
      "Durven, Hasselaar, Blo .. avia, 27 februari 1730    157    3  1.9%\n",
      "Van Outhoorn, Van Hoor ..  Batavia, 2 maart 1699    109    2  1.8%\n",
      "Van Cloon, Blom, Van d .. Batavia, 31 maart 1733    226    4  1.8%\n",
      "Van Imhoff, Cluysenaar .. ; Batavia, 25 mei 1748    213    3  1.4%\n",
      "Maetsuycker, Hartsinck .. avia, 26 februari 1665     73    1  1.4%\n",
      "Maetsuycker, Verburch, .. avia, 13 december 1672     80    1  1.2%\n",
      "Van Outhoorn, Van Hoor .. Batavia, 20 april 1699     85    1  1.2%\n",
      "Van Hoorn, Van Riebeec ..  Batavia, 6 maart 1705    109    1  0.9%\n",
      "De Carpentier, Specx,  .. avia, 15 december 1626    155    1  0.6%\n"
     ]
    }
   ],
   "source": [
    "print(\n",
    "    \"{:<50}{:>5}{:>5}{:>5}\\n{}\".format(\n",
    "        \"letter\",\n",
    "        \"#all\",\n",
    "        \"#own\",\n",
    "        \"%own\",\n",
    "        \"-\" * 35,\n",
    "    )\n",
    ")\n",
    "\n",
    "for x in letterList[0:20]:\n",
    "    print(\"{:<50} {:>4} {:>4} {:>4.1f}%\".format(*x))\n",
    "print(\"...\")\n",
    "for x in letterList[-20:]:\n",
    "    print(\"{:<50} {:>4} {:>4} {:>4.1f}%\".format(*x))"
   ]
  },
  {
   "cell_type": "markdown",
   "metadata": {},
   "source": [
    "# Next steps\n",
    "\n",
    "By now you have an impression how to compute around in the Athenaeus.\n",
    "While this is still the beginning, I hope you already sense the power of unlimited programmatic access\n",
    "to all the bits and bytes in the data set.\n",
    "\n",
    "Here are a few directions for unleashing that power.\n",
    "\n",
    "**(in progress, not all of the tutorials below exist already!)**\n",
    "\n",
    "* **[display]\"(display.ipynb)\"** become an expert in creating pretty displays of your text structures\n",
    "* **[search](search.ipynb)** turbo charge your hand-coding with search templates\n",
    "* **[exportExcel]\"(exportExcel.ipynb)\"** make tailor-made spreadsheets out of your results\n",
    "* **[share]\"(share.ipynb)\"** draw in other people's data and let them use yours\n",
    "\n",
    "CC-BY Dirk Roorda"
   ]
  }
 ],
 "metadata": {
  "kernelspec": {
   "display_name": "Python 3",
   "language": "python",
   "name": "python3"
  },
  "language_info": {
   "codemirror_mode": {
    "name": "ipython",
    "version": 3
   },
   "file_extension": ".py",
   "mimetype": "text/x-python",
   "name": "python",
   "nbconvert_exporter": "python",
   "pygments_lexer": "ipython3",
   "version": "3.8.5"
  }
 },
 "nbformat": 4,
 "nbformat_minor": 4
}
