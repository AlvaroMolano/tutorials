{
 "cells": [
  {
   "cell_type": "markdown",
   "metadata": {},
   "source": [
    "<img align=\"right\" src=\"images/tf.png\" width=\"128\"/>\n",
    "<img align=\"right\" src=\"images/uu-small.png\" width=\"128\"/>\n",
    "<img align=\"right\" src=\"images/dans.png\" width=\"128\"/>\n",
    "\n",
    "---\n",
    "\n",
    "To get started: consult [start](start.ipynb)\n",
    "\n",
    "---\n",
    "\n",
    "# Similar lines\n",
    "\n",
    "We spot the similarities between ayas in the quran.\n",
    "\n",
    "There are 6216 ayas in the Quran. To compare them all requires 20 million comparisons.\n",
    "That is a costly operation.\n",
    "[On this laptop it took 30 whole seconds](https://nbviewer.jupyter.org/github/q-ran/quran/blob/master/programs/parallels.ipynb).\n",
    "\n",
    "The good news it that we have stored the outcome in an extra feature.\n",
    "\n",
    "This feature is packaged in a TF data module, that we will load below, by using the parameter `mod` in the `use()` statement."
   ]
  },
  {
   "cell_type": "code",
   "execution_count": 1,
   "metadata": {},
   "outputs": [],
   "source": [
    "%load_ext autoreload\n",
    "%autoreload 2"
   ]
  },
  {
   "cell_type": "code",
   "execution_count": 2,
   "metadata": {
    "ExecuteTime": {
     "end_time": "2018-05-24T10:06:39.818664Z",
     "start_time": "2018-05-24T10:06:39.796588Z"
    }
   },
   "outputs": [],
   "source": [
    "import collections\n",
    "\n",
    "from tf.app import use"
   ]
  },
  {
   "cell_type": "code",
   "execution_count": 4,
   "metadata": {},
   "outputs": [
    {
     "name": "stdout",
     "output_type": "stream",
     "text": [
      "TF app is up-to-date.\n",
      "Using annotation/app-quran commit f6543c213dad36050de3e90373af237e9a4f0bc1 (=latest)\n",
      "  in /Users/dirk/text-fabric-data/__apps__/quran.\n",
      "No new data release available online.\n",
      "Using q-ran/quran/tf - 0.3 rv0.4 (=latest) in /Users/dirk/text-fabric-data.\n",
      "No new data release available online.\n",
      "Using q-ran/quran/parallels/tf - 0.3 rv0.4 (=latest) in /Users/dirk/text-fabric-data.\n"
     ]
    },
    {
     "data": {
      "text/html": [
       "<b>Documentation:</b> <a target=\"_blank\" href=\"https://github.com/q-ran/quran/blob/master/docs\" title=\"provenance of Quran\">QURAN</a> <a target=\"_blank\" href=\"https://annotation.github.io/text-fabric/Writing/Arabic\" title=\"('Arabic characters and transcriptions',)\">Character table</a> <a target=\"_blank\" href=\"https://github.com/q-ran/quran/blob/master/docs/features.md#features.md\" title=\"QURAN feature documentation\">Feature docs</a> <a target=\"_blank\" href=\"https://github.com/annotation/app-quran\" title=\"quran API documentation\">quran API</a> <a target=\"_blank\" href=\"https://annotation.github.io/text-fabric/Api/Fabric/\" title=\"text-fabric-api\">Text-Fabric API 7.5.1</a> <a target=\"_blank\" href=\"https://annotation.github.io/text-fabric/Use/Search/\" title=\"Search Templates Introduction and Reference\">Search Reference</a><details open><summary><b>Loaded features</b>:</summary>\n",
       "<p><b>Quran</b>: <a target=\"_blank\" href=\"https://github.com/q-ran/quran/blob/master/docs/features.md#a\" title=\"/Users/dirk/text-fabric-data/q-ran/quran/tf/0.3/a.tf\">a</a>  <a target=\"_blank\" href=\"https://github.com/q-ran/quran/blob/master/docs/features.md#ascii\" title=\"/Users/dirk/text-fabric-data/q-ran/quran/tf/0.3/ascii.tf\">ascii</a>  <a target=\"_blank\" href=\"https://github.com/q-ran/quran/blob/master/docs/features.md#ax\" title=\"/Users/dirk/text-fabric-data/q-ran/quran/tf/0.3/ax.tf\">ax</a>  <a target=\"_blank\" href=\"https://github.com/q-ran/quran/blob/master/docs/features.md#case\" title=\"/Users/dirk/text-fabric-data/q-ran/quran/tf/0.3/case.tf\">case</a>  <a target=\"_blank\" href=\"https://github.com/q-ran/quran/blob/master/docs/features.md#component\" title=\"/Users/dirk/text-fabric-data/q-ran/quran/tf/0.3/component.tf\">component</a>  <a target=\"_blank\" href=\"https://github.com/q-ran/quran/blob/master/docs/features.md#definite\" title=\"/Users/dirk/text-fabric-data/q-ran/quran/tf/0.3/definite.tf\">definite</a>  <a target=\"_blank\" href=\"https://github.com/q-ran/quran/blob/master/docs/features.md#f\" title=\"/Users/dirk/text-fabric-data/q-ran/quran/tf/0.3/f.tf\">f</a>  <a target=\"_blank\" href=\"https://github.com/q-ran/quran/blob/master/docs/features.md#formation\" title=\"/Users/dirk/text-fabric-data/q-ran/quran/tf/0.3/formation.tf\">formation</a>  <a target=\"_blank\" href=\"https://github.com/q-ran/quran/blob/master/docs/features.md#fx\" title=\"/Users/dirk/text-fabric-data/q-ran/quran/tf/0.3/fx.tf\">fx</a>  <a target=\"_blank\" href=\"https://github.com/q-ran/quran/blob/master/docs/features.md#gn\" title=\"/Users/dirk/text-fabric-data/q-ran/quran/tf/0.3/gn.tf\">gn</a>  <a target=\"_blank\" href=\"https://github.com/q-ran/quran/blob/master/docs/features.md#interjection\" title=\"/Users/dirk/text-fabric-data/q-ran/quran/tf/0.3/interjection.tf\">interjection</a>  <a target=\"_blank\" href=\"https://github.com/q-ran/quran/blob/master/docs/features.md#l\" title=\"/Users/dirk/text-fabric-data/q-ran/quran/tf/0.3/l.tf\">l</a>  <a target=\"_blank\" href=\"https://github.com/q-ran/quran/blob/master/docs/features.md#lemma\" title=\"/Users/dirk/text-fabric-data/q-ran/quran/tf/0.3/lemma.tf\">lemma</a>  <a target=\"_blank\" href=\"https://github.com/q-ran/quran/blob/master/docs/features.md#lx\" title=\"/Users/dirk/text-fabric-data/q-ran/quran/tf/0.3/lx.tf\">lx</a>  <a target=\"_blank\" href=\"https://github.com/q-ran/quran/blob/master/docs/features.md#mood\" title=\"/Users/dirk/text-fabric-data/q-ran/quran/tf/0.3/mood.tf\">mood</a>  <a target=\"_blank\" href=\"https://github.com/q-ran/quran/blob/master/docs/features.md#n\" title=\"/Users/dirk/text-fabric-data/q-ran/quran/tf/0.3/n.tf\">n</a>  <a target=\"_blank\" href=\"https://github.com/q-ran/quran/blob/master/docs/features.md#name\" title=\"/Users/dirk/text-fabric-data/q-ran/quran/tf/0.3/name.tf\">name</a>  <a target=\"_blank\" href=\"https://github.com/q-ran/quran/blob/master/docs/features.md#name@ll\" title=\"/Users/dirk/text-fabric-data/q-ran/quran/tf/0.3/name@en.tf\">name@ll</a>  <a target=\"_blank\" href=\"https://github.com/q-ran/quran/blob/master/docs/features.md#nameAscii\" title=\"/Users/dirk/text-fabric-data/q-ran/quran/tf/0.3/nameAscii.tf\">nameAscii</a>  <a target=\"_blank\" href=\"https://github.com/q-ran/quran/blob/master/docs/features.md#nameTrans\" title=\"/Users/dirk/text-fabric-data/q-ran/quran/tf/0.3/nameTrans.tf\">nameTrans</a>  <a target=\"_blank\" href=\"https://github.com/q-ran/quran/blob/master/docs/features.md#nu\" title=\"/Users/dirk/text-fabric-data/q-ran/quran/tf/0.3/nu.tf\">nu</a>  <a target=\"_blank\" href=\"https://github.com/q-ran/quran/blob/master/docs/features.md#number\" title=\"/Users/dirk/text-fabric-data/q-ran/quran/tf/0.3/number.tf\">number</a>  <a target=\"_blank\" href=\"https://github.com/q-ran/quran/blob/master/docs/features.md#order\" title=\"/Users/dirk/text-fabric-data/q-ran/quran/tf/0.3/order.tf\">order</a>  <a target=\"_blank\" href=\"https://github.com/q-ran/quran/blob/master/docs/features.md#otype\" title=\"/Users/dirk/text-fabric-data/q-ran/quran/tf/0.3/otype.tf\">otype</a>  <a target=\"_blank\" href=\"https://github.com/q-ran/quran/blob/master/docs/features.md#pos\" title=\"/Users/dirk/text-fabric-data/q-ran/quran/tf/0.3/pos.tf\">pos</a>  <a target=\"_blank\" href=\"https://github.com/q-ran/quran/blob/master/docs/features.md#posx\" title=\"/Users/dirk/text-fabric-data/q-ran/quran/tf/0.3/posx.tf\">posx</a>  <a target=\"_blank\" href=\"https://github.com/q-ran/quran/blob/master/docs/features.md#ps\" title=\"/Users/dirk/text-fabric-data/q-ran/quran/tf/0.3/ps.tf\">ps</a>  <a target=\"_blank\" href=\"https://github.com/q-ran/quran/blob/master/docs/features.md#root\" title=\"/Users/dirk/text-fabric-data/q-ran/quran/tf/0.3/root.tf\">root</a>  <a target=\"_blank\" href=\"https://github.com/q-ran/quran/blob/master/docs/features.md#sp\" title=\"/Users/dirk/text-fabric-data/q-ran/quran/tf/0.3/sp.tf\">sp</a>  <a target=\"_blank\" href=\"https://github.com/q-ran/quran/blob/master/docs/features.md#space\" title=\"/Users/dirk/text-fabric-data/q-ran/quran/tf/0.3/space.tf\">space</a>  <a target=\"_blank\" href=\"https://github.com/q-ran/quran/blob/master/docs/features.md#tense\" title=\"/Users/dirk/text-fabric-data/q-ran/quran/tf/0.3/tense.tf\">tense</a>  <a target=\"_blank\" href=\"https://github.com/q-ran/quran/blob/master/docs/features.md#translation@ll\" title=\"/Users/dirk/text-fabric-data/q-ran/quran/tf/0.3/translation@en.tf\">translation@ll</a>  <a target=\"_blank\" href=\"https://github.com/q-ran/quran/blob/master/docs/features.md#type\" title=\"/Users/dirk/text-fabric-data/q-ran/quran/tf/0.3/type.tf\">type</a>  <a target=\"_blank\" href=\"https://github.com/q-ran/quran/blob/master/docs/features.md#unicode\" title=\"/Users/dirk/text-fabric-data/q-ran/quran/tf/0.3/unicode.tf\">unicode</a>  <a target=\"_blank\" href=\"https://github.com/q-ran/quran/blob/master/docs/features.md#voice\" title=\"/Users/dirk/text-fabric-data/q-ran/quran/tf/0.3/voice.tf\">voice</a>  <a target=\"_blank\" href=\"https://github.com/q-ran/quran/blob/master/docs/features.md#w\" title=\"/Users/dirk/text-fabric-data/q-ran/quran/tf/0.3/w.tf\">w</a>  <a target=\"_blank\" href=\"https://github.com/q-ran/quran/blob/master/docs/features.md#wx\" title=\"/Users/dirk/text-fabric-data/q-ran/quran/tf/0.3/wx.tf\">wx</a>  <b><i><a target=\"_blank\" href=\"https://github.com/q-ran/quran/blob/master/docs/features.md#oslots\" title=\"/Users/dirk/text-fabric-data/q-ran/quran/tf/0.3/oslots.tf\">oslots</a></i></b> </p><p><b>q-ran/quran/parallels/tf</b>: <b><i><a target=\"_blank\" href=\"https://github.com/q-ran/quran/tree/master/parallels/tf\" title=\"/Users/dirk/text-fabric-data/q-ran/quran/parallels/tf/0.3/sim.tf\">sim</a></i></b> </p></details>"
      ],
      "text/plain": [
       "<IPython.core.display.HTML object>"
      ]
     },
     "metadata": {},
     "output_type": "display_data"
    },
    {
     "data": {
      "text/html": [
       "<style>\n",
       "@font-face {\n",
       "  font-family: \"AmiriQuran\";\n",
       "  src:\n",
       "    local(\"AmiriQuran.ttf\"),\n",
       "    url(\"https://github.com/annotation/text-fabric/blob/master/tf/server/static/fonts/AmiriQuran.woff2?raw=true\");\n",
       "}\n",
       ".features {\n",
       "    font-family: monospace;\n",
       "    font-size: medium;\n",
       "    font-weight: bold;\n",
       "    color: #0a6611;\n",
       "    display: flex;\n",
       "    flex-flow: column nowrap;\n",
       "    padding: 0.1em;\n",
       "    margin: 0.1em;\n",
       "    direction: ltr;\n",
       "}\n",
       ".features div,.features span {\n",
       "    padding: 0;\n",
       "    margin: -0.1rem 0;\n",
       "}\n",
       ".features .f {\n",
       "    font-family: sans-serif;\n",
       "    font-size: x-small;\n",
       "    font-weight: normal;\n",
       "    color: #5555bb;\n",
       "}\n",
       ".features .xft {\n",
       "  color: #000000;\n",
       "  background-color: #eeeeee;\n",
       "  font-size: medium;\n",
       "  margin: 0.1em 0em;\n",
       "}\n",
       ".features .xft .f {\n",
       "  color: #000000;\n",
       "  background-color: #eeeeee;\n",
       "  font-style: italic;\n",
       "  font-size: small;\n",
       "  font-weight: normal;\n",
       "}\n",
       ".aya {\n",
       "    display: flex;\n",
       "    flex-flow: row wrap;\n",
       "    direction: rtl;\n",
       "}\n",
       ".vl {\n",
       "    display: flex;\n",
       "    flex-flow: column nowrap;\n",
       "    justify-content: flex-end;\n",
       "    align-items: flex-end;\n",
       "    direction: ltr;\n",
       "    width: 100%;\n",
       "}\n",
       ".outeritem {\n",
       "    display: flex;\n",
       "    flex-flow: row wrap;\n",
       "    direction: rtl;\n",
       "}\n",
       ".word {\n",
       "    padding: 0.1em;\n",
       "    margin: 0.1em;\n",
       "    border-radius: 0.1em;\n",
       "    border: 1px solid #cccccc;\n",
       "    display: flex;\n",
       "    flex-flow: column nowrap;\n",
       "    direction: rtl;\n",
       "    background-color: #ffffff;\n",
       "}\n",
       ".lextp {\n",
       "    padding: 0.1em;\n",
       "    margin: 0.1em;\n",
       "    border-radius: 0.1em;\n",
       "    border: 2px solid #888888;\n",
       "    width: fit-content;\n",
       "    display: flex;\n",
       "    flex-flow: column nowrap;\n",
       "    direction: rtl;\n",
       "    background-color: #ffffff;\n",
       "}\n",
       ".occs {\n",
       "    font-size: x-small;\n",
       "}\n",
       ".tr,.tr a:visited,.tr a:link {\n",
       "    font-family: sans-serif;\n",
       "    font-size: large;\n",
       "    color: #000044;\n",
       "    direction: ltr;\n",
       "    text-decoration: none;\n",
       "}\n",
       ".trb,.trb a:visited,.trb a:link {\n",
       "    font-family: sans-serif;\n",
       "    font-size: normal;\n",
       "    direction: ltr;\n",
       "    text-decoration: none;\n",
       "}\n",
       ".ar,.ar a:visited,.ar a:link {\n",
       "    font-family: \"AmiriQuran\", sans-serif;\n",
       "    font-size: large;\n",
       "    color: #000044;\n",
       "    direction: rtl;\n",
       "    text-decoration: none;\n",
       "}\n",
       ".arb,.arb a:visited,.arb a:link {\n",
       "    font-family: \"AmiriQuran\", sans-serif;\n",
       "    font-size: large;\n",
       "    line-height: 3;\n",
       "    direction: rtl;\n",
       "    text-decoration: none;\n",
       "}\n",
       ".vn {\n",
       "  font-size: small !important;\n",
       "  padding-right: 1em;\n",
       "}\n",
       ".sp,.sp a:visited,.sp a:link {\n",
       "    font-family: monospace;\n",
       "    font-size: medium;\n",
       "    color: #0000bb;\n",
       "    text-decoration: none;\n",
       "}\n",
       ".lexeme {\n",
       "    font-family: monospace;\n",
       "    font-size: medium;\n",
       "    color: #0000bb;\n",
       "}\n",
       ".vs {\n",
       "    font-family: monospace;\n",
       "    font-size: medium;\n",
       "    font-weight: bold;\n",
       "    color: #0000bb;\n",
       "}\n",
       ".vt {\n",
       "    font-family: monospace;\n",
       "    font-size: medium;\n",
       "    font-weight: bold;\n",
       "    color: #0000bb;\n",
       "}\n",
       ".nd {\n",
       "    font-family: monospace;\n",
       "    font-size: x-small;\n",
       "    color: #999999;\n",
       "}\n",
       ".hl {\n",
       "    background-color: #ffee66;\n",
       "}\n",
       "\n",
       "\n",
       "tr.tf, td.tf, th.tf {\n",
       "  text-align: left;\n",
       "}\n",
       "\n",
       "span.hldot {\n",
       "\tbackground-color: var(--hl-strong);\n",
       "\tborder: 0.2rem solid var(--hl-rim);\n",
       "\tborder-radius: 0.4rem;\n",
       "\t/*\n",
       "\tdisplay: inline-block;\n",
       "\twidth: 0.8rem;\n",
       "\theight: 0.8rem;\n",
       "\t*/\n",
       "}\n",
       "span.hl {\n",
       "\tbackground-color: var(--hl-strong);\n",
       "\tborder-width: 0;\n",
       "\tborder-radius: 0.1rem;\n",
       "\tborder-style: solid;\n",
       "}\n",
       "\n",
       "span.hlup {\n",
       "\tborder-color: var(--hl-dark);\n",
       "\tborder-width: 0.1rem;\n",
       "\tborder-style: solid;\n",
       "\tborder-radius: 0.2rem;\n",
       "  padding: 0.2rem;\n",
       "}\n",
       "\n",
       ":root {\n",
       "\t--hl-strong:        hsla( 60, 100%,  70%, 0.9  );\n",
       "\t--hl-rim:           hsla( 55, 100%,  60%, 0.9  );\n",
       "\t--hl-dark:          hsla( 55, 100%,  40%, 0.9  );\n",
       "}\n",
       "</style>"
      ],
      "text/plain": [
       "<IPython.core.display.HTML object>"
      ]
     },
     "metadata": {},
     "output_type": "display_data"
    },
    {
     "data": {
      "text/html": [
       "<details open><summary><b>API members</b>:</summary>\n",
       "<a target=\"_blank\" href=\"https://annotation.github.io/text-fabric/Api/Computed/#computed-data\" title=\"doc\">C Computed</a>, <a target=\"_blank\" href=\"https://annotation.github.io/text-fabric/Api/Computed/#computed-data\" title=\"doc\">Call AllComputeds</a>, <a target=\"_blank\" href=\"https://annotation.github.io/text-fabric/Api/Computed/#computed-data\" title=\"doc\">Cs ComputedString</a><br/>\n",
       "<a target=\"_blank\" href=\"https://annotation.github.io/text-fabric/Api/Features/#edge-features\" title=\"doc\">E Edge</a>, <a target=\"_blank\" href=\"https://annotation.github.io/text-fabric/Api/Features/#edge-features\" title=\"doc\">Eall AllEdges</a>, <a target=\"_blank\" href=\"https://annotation.github.io/text-fabric/Api/Features/#edge-features\" title=\"doc\">Es EdgeString</a><br/>\n",
       "<a target=\"_blank\" href=\"https://annotation.github.io/text-fabric/Api/Fabric/#loading\" title=\"doc\">ensureLoaded</a>, <a target=\"_blank\" href=\"https://annotation.github.io/text-fabric/Api/Fabric/#loading\" title=\"doc\">TF</a>, <a target=\"_blank\" href=\"https://annotation.github.io/text-fabric/Api/Fabric/#loading\" title=\"doc\">ignored</a>, <a target=\"_blank\" href=\"https://annotation.github.io/text-fabric/Api/Fabric/#loading\" title=\"doc\">loadLog</a><br/>\n",
       "<a target=\"_blank\" href=\"https://annotation.github.io/text-fabric/Api/Locality/#locality\" title=\"doc\">L Locality</a><br/>\n",
       "<a target=\"_blank\" href=\"https://annotation.github.io/text-fabric/Api/Misc/#messaging\" title=\"doc\">cache</a>, <a target=\"_blank\" href=\"https://annotation.github.io/text-fabric/Api/Misc/#messaging\" title=\"doc\">error</a>, <a target=\"_blank\" href=\"https://annotation.github.io/text-fabric/Api/Misc/#messaging\" title=\"doc\">indent</a>, <a target=\"_blank\" href=\"https://annotation.github.io/text-fabric/Api/Misc/#messaging\" title=\"doc\">info</a>, <a target=\"_blank\" href=\"https://annotation.github.io/text-fabric/Api/Misc/#messaging\" title=\"doc\">reset</a><br/>\n",
       "<a target=\"_blank\" href=\"https://annotation.github.io/text-fabric/Api/Nodes/#navigating-nodes\" title=\"doc\">N Nodes</a>, <a target=\"_blank\" href=\"https://annotation.github.io/text-fabric/Api/Nodes/#navigating-nodes\" title=\"doc\">sortKey</a>, <a target=\"_blank\" href=\"https://annotation.github.io/text-fabric/Api/Nodes/#navigating-nodes\" title=\"doc\">sortKeyTuple</a>, <a target=\"_blank\" href=\"https://annotation.github.io/text-fabric/Api/Nodes/#navigating-nodes\" title=\"doc\">otypeRank</a>, <a target=\"_blank\" href=\"https://annotation.github.io/text-fabric/Api/Nodes/#navigating-nodes\" title=\"doc\">sortNodes</a><br/>\n",
       "<a target=\"_blank\" href=\"https://annotation.github.io/text-fabric/Api/Features/#node-features\" title=\"doc\">F Feature</a>, <a target=\"_blank\" href=\"https://annotation.github.io/text-fabric/Api/Features/#node-features\" title=\"doc\">Fall AllFeatures</a>, <a target=\"_blank\" href=\"https://annotation.github.io/text-fabric/Api/Features/#node-features\" title=\"doc\">Fs FeatureString</a><br/>\n",
       "<a target=\"_blank\" href=\"https://annotation.github.io/text-fabric/Api/Search/#search\" title=\"doc\">S Search</a><br/>\n",
       "<a target=\"_blank\" href=\"https://annotation.github.io/text-fabric/Api/Text/#text\" title=\"doc\">T Text</a></details>"
      ],
      "text/plain": [
       "<IPython.core.display.HTML object>"
      ]
     },
     "metadata": {},
     "output_type": "display_data"
    }
   ],
   "source": [
    "A = use('quran', hoist=globals(), check=True, mod='q-ran/quran/parallels/tf')"
   ]
  },
  {
   "cell_type": "markdown",
   "metadata": {},
   "source": [
    "The new feature is **sim** and it it an edge feature.\n",
    "It annotates pairs of ayas $(l, m)$ where $l$ and $m$ have similar content.\n",
    "The degree of similarity is a percentage (between 60 and 100), and this value\n",
    "is annotated onto the edges.\n",
    "\n",
    "Here is an example:"
   ]
  },
  {
   "cell_type": "code",
   "execution_count": 7,
   "metadata": {},
   "outputs": [
    {
     "name": "stdout",
     "output_type": "stream",
     "text": [
      "812 ayas with a similar aya, the first one has node number 128221\n"
     ]
    }
   ],
   "source": [
    "similars = [n for n in F.otype.s('aya') if E.sim.b(n)]\n",
    "exampleAya = similars[0]\n",
    "print(f'{len(similars)} ayas with a similar aya, the first one has node number {exampleAya}')"
   ]
  },
  {
   "cell_type": "code",
   "execution_count": 8,
   "metadata": {},
   "outputs": [
    {
     "name": "stdout",
     "output_type": "stream",
     "text": [
      "2 similar ayas\n",
      "132189 with similarity 100\n",
      "132728 with similarity 67\n"
     ]
    },
    {
     "data": {
      "text/html": [
       "<table>\n",
       "<tr class=\"tf\">\n",
       "  <th class=\"tf\">n</th><th class=\"tf\">p</th>\n",
       "  <th class=\"tf\">aya</th>\n",
       "</tr>\n",
       "\n",
       "<tr class=\"tf\"><td class=\"tf\">1</td><td class=\"tf\"> <a href=\"http://tanzil.net/#37:182\" title=\"show this passage on Tanzil\" sec=\"37:182\">37:182</a></td><td class=\"tf\"><span class=\"arb\"><a class=\"vn\" href=\"http://tanzil.net/#37:182\" title=\"37:182\" sec=\"37:182\"></a>وَٱلْحَمْدُ لِلَّهِ رَبِّ ٱلْعَٰلَمِينَ</span></td></tr>\n",
       "<tr class=\"tf\"><td class=\"tf\">2</td><td class=\"tf\"> <a href=\"http://tanzil.net/#45:36\" title=\"show this passage on Tanzil\" sec=\"45:36\">45:36</a></td><td class=\"tf\"><span class=\"arb\"><a class=\"vn\" href=\"http://tanzil.net/#45:36\" title=\"45:36\" sec=\"45:36\"></a>فَلِلَّهِ ٱلْحَمْدُ رَبِّ ٱلسَّمَٰوَٰتِ وَرَبِّ ٱلْأَرْضِ رَبِّ ٱلْعَٰلَمِينَ</span></td></tr></table>"
      ],
      "text/plain": [
       "<IPython.core.display.HTML object>"
      ]
     },
     "metadata": {},
     "output_type": "display_data"
    }
   ],
   "source": [
    "sisters = E.sim.b(exampleAya)\n",
    "print(f'{len(sisters)} similar ayas')\n",
    "print('\\n'.join(f'{s[0]} with similarity {s[1]}' for s in sisters[0:10]))\n",
    "A.table(tuple((s[0],) for s in sisters), end=10)"
   ]
  },
  {
   "cell_type": "markdown",
   "metadata": {},
   "source": [
    "# All similarities\n",
    "\n",
    "Let's first find out the range of similarities:"
   ]
  },
  {
   "cell_type": "code",
   "execution_count": 9,
   "metadata": {},
   "outputs": [
    {
     "name": "stdout",
     "output_type": "stream",
     "text": [
      "minimum similarity is  60\n",
      "maximum similarity is 100\n"
     ]
    }
   ],
   "source": [
    "minSim = None\n",
    "maxSim = None\n",
    "\n",
    "for l in F.otype.s('aya'):\n",
    "  sisters = E.sim.f(l)\n",
    "  if not sisters:\n",
    "    continue\n",
    "  thisMin = min(s[1] for s in sisters)\n",
    "  thisMax = max(s[1] for s in sisters)\n",
    "  if minSim is None or thisMin < minSim:\n",
    "    minSim = thisMin\n",
    "  if maxSim is None or thisMax > maxSim:\n",
    "    maxSim = thisMax\n",
    "\n",
    "print(f'minimum similarity is {minSim:>3}')\n",
    "print(f'maximum similarity is {maxSim:>3}')"
   ]
  },
  {
   "cell_type": "markdown",
   "metadata": {},
   "source": [
    "# The bottom lines\n",
    "\n",
    "We give a few examples of the least similar lines.\n",
    "\n",
    "**N.B.** When lines are less than 60% similar, they have not made it into the `sim` feature!\n",
    "\n",
    "We can use a search template to get the 60% lines."
   ]
  },
  {
   "cell_type": "code",
   "execution_count": 12,
   "metadata": {},
   "outputs": [],
   "source": [
    "query = '''\n",
    "aya\n",
    "-sim=60> aya\n",
    "'''"
   ]
  },
  {
   "cell_type": "markdown",
   "metadata": {},
   "source": [
    "In words: find a line connected via a sim-edge with value 90 to an other line."
   ]
  },
  {
   "cell_type": "code",
   "execution_count": 13,
   "metadata": {},
   "outputs": [
    {
     "name": "stdout",
     "output_type": "stream",
     "text": [
      "  0.02s 145 results\n"
     ]
    }
   ],
   "source": [
    "results = A.search(query)"
   ]
  },
  {
   "cell_type": "markdown",
   "metadata": {},
   "source": [
    "Not very much indeed. It seems that lines are either very similar, or not so similar at all."
   ]
  },
  {
   "cell_type": "code",
   "execution_count": 14,
   "metadata": {},
   "outputs": [
    {
     "data": {
      "text/html": [
       "<table>\n",
       "<tr class=\"tf\">\n",
       "  <th class=\"tf\">n</th><th class=\"tf\">p</th>\n",
       "  <th class=\"tf\">aya</th><th>aya</th>\n",
       "</tr>\n",
       "\n",
       "<tr class=\"tf\"><td class=\"tf\">1</td><td class=\"tf\"> <a href=\"http://tanzil.net/#5:10\" title=\"show this passage on Tanzil\" sec=\"5:10\">5:10</a></td><td class=\"tf\"><span class=\"arb\"><a class=\"vn\" href=\"http://tanzil.net/#2:39\" title=\"2:39\" sec=\"2:39\"></a>وَٱلَّذِينَ كَفَرُوا۟ وَكَذَّبُوا۟ بِـَٔايَٰتِنَآ أُو۟لَٰٓئِكَ أَصْحَٰبُ ٱلنَّارِ هُمْ فِيهَا خَٰلِدُونَ</span></td><td class=\"tf\"><span class=\"arb\"><span class=\"vn\"></span>وَٱلَّذِينَ كَفَرُوا۟ وَكَذَّبُوا۟ بِـَٔايَٰتِنَآ أُو۟لَٰٓئِكَ أَصْحَٰبُ ٱلْجَحِيمِ</span></td></tr>\n",
       "<tr class=\"tf\"><td class=\"tf\">2</td><td class=\"tf\"> <a href=\"http://tanzil.net/#5:86\" title=\"show this passage on Tanzil\" sec=\"5:86\">5:86</a></td><td class=\"tf\"><span class=\"arb\"><a class=\"vn\" href=\"http://tanzil.net/#2:39\" title=\"2:39\" sec=\"2:39\"></a>وَٱلَّذِينَ كَفَرُوا۟ وَكَذَّبُوا۟ بِـَٔايَٰتِنَآ أُو۟لَٰٓئِكَ أَصْحَٰبُ ٱلنَّارِ هُمْ فِيهَا خَٰلِدُونَ</span></td><td class=\"tf\"><span class=\"arb\"><span class=\"vn\"></span>وَٱلَّذِينَ كَفَرُوا۟ وَكَذَّبُوا۟ بِـَٔايَٰتِنَآ أُو۟لَٰٓئِكَ أَصْحَٰبُ ٱلْجَحِيمِ</span></td></tr>\n",
       "<tr class=\"tf\"><td class=\"tf\">3</td><td class=\"tf\"> <a href=\"http://tanzil.net/#29:22\" title=\"show this passage on Tanzil\" sec=\"29:22\">29:22</a></td><td class=\"tf\"><span class=\"arb\"><a class=\"vn\" href=\"http://tanzil.net/#2:107\" title=\"2:107\" sec=\"2:107\"></a>أَلَمْ تَعْلَمْ أَنَّ ٱللَّهَ لَهُۥ مُلْكُ ٱلسَّمَٰوَٰتِ وَٱلْأَرْضِ وَمَا لَكُم مِّن دُونِ ٱللَّهِ مِن وَلِىٍّ وَلَا نَصِيرٍ</span></td><td class=\"tf\"><span class=\"arb\"><span class=\"vn\"></span>وَمَآ أَنتُم بِمُعْجِزِينَ فِى ٱلْأَرْضِ وَلَا فِى ٱلسَّمَآءِ وَمَا لَكُم مِّن دُونِ ٱللَّهِ مِن وَلِىٍّ وَلَا نَصِيرٍ</span></td></tr>\n",
       "<tr class=\"tf\"><td class=\"tf\">4</td><td class=\"tf\"> <a href=\"http://tanzil.net/#14:38\" title=\"show this passage on Tanzil\" sec=\"14:38\">14:38</a></td><td class=\"tf\"><span class=\"arb\"><a class=\"vn\" href=\"http://tanzil.net/#3:5\" title=\"3:5\" sec=\"3:5\"></a>إِنَّ ٱللَّهَ لَا يَخْفَىٰ عَلَيْهِ شَىْءٌ فِى ٱلْأَرْضِ وَلَا فِى ٱلسَّمَآءِ</span></td><td class=\"tf\"><span class=\"arb\"><span class=\"vn\"></span>رَبَّنَآ إِنَّكَ تَعْلَمُ مَا نُخْفِى وَمَا نُعْلِنُ وَمَا يَخْفَىٰ عَلَى ٱللَّهِ مِن شَىْءٍ فِى ٱلْأَرْضِ وَلَا فِى ٱلسَّمَآءِ</span></td></tr>\n",
       "<tr class=\"tf\"><td class=\"tf\">5</td><td class=\"tf\"> <a href=\"http://tanzil.net/#62:4\" title=\"show this passage on Tanzil\" sec=\"62:4\">62:4</a></td><td class=\"tf\"><span class=\"arb\"><a class=\"vn\" href=\"http://tanzil.net/#3:74\" title=\"3:74\" sec=\"3:74\"></a>يَخْتَصُّ بِرَحْمَتِهِۦ مَن يَشَآءُ وَٱللَّهُ ذُو ٱلْفَضْلِ ٱلْعَظِيمِ</span></td><td class=\"tf\"><span class=\"arb\"><span class=\"vn\"></span>ذَٰلِكَ فَضْلُ ٱللَّهِ يُؤْتِيهِ مَن يَشَآءُ وَٱللَّهُ ذُو ٱلْفَضْلِ ٱلْعَظِيمِ</span></td></tr>\n",
       "<tr class=\"tf\"><td class=\"tf\">6</td><td class=\"tf\"> <a href=\"http://tanzil.net/#15:50\" title=\"show this passage on Tanzil\" sec=\"15:50\">15:50</a></td><td class=\"tf\"><span class=\"arb\"><a class=\"vn\" href=\"http://tanzil.net/#4:138\" title=\"4:138\" sec=\"4:138\"></a>بَشِّرِ ٱلْمُنَٰفِقِينَ بِأَنَّ لَهُمْ عَذَابًا أَلِيمًا</span></td><td class=\"tf\"><span class=\"arb\"><span class=\"vn\"></span>وَأَنَّ عَذَابِى هُوَ ٱلْعَذَابُ ٱلْأَلِيمُ</span></td></tr>\n",
       "<tr class=\"tf\"><td class=\"tf\">7</td><td class=\"tf\"> <a href=\"http://tanzil.net/#84:24\" title=\"show this passage on Tanzil\" sec=\"84:24\">84:24</a></td><td class=\"tf\"><span class=\"arb\"><a class=\"vn\" href=\"http://tanzil.net/#4:138\" title=\"4:138\" sec=\"4:138\"></a>بَشِّرِ ٱلْمُنَٰفِقِينَ بِأَنَّ لَهُمْ عَذَابًا أَلِيمًا</span></td><td class=\"tf\"><span class=\"arb\"><span class=\"vn\"></span>فَبَشِّرْهُم بِعَذَابٍ أَلِيمٍ</span></td></tr>\n",
       "<tr class=\"tf\"><td class=\"tf\">8</td><td class=\"tf\"> <a href=\"http://tanzil.net/#46:34\" title=\"show this passage on Tanzil\" sec=\"46:34\">46:34</a></td><td class=\"tf\"><span class=\"arb\"><a class=\"vn\" href=\"http://tanzil.net/#6:30\" title=\"6:30\" sec=\"6:30\"></a>وَلَوْ تَرَىٰٓ إِذْ وُقِفُوا۟ عَلَىٰ رَبِّهِمْ قَالَ أَلَيْسَ هَٰذَا بِٱلْحَقِّ قَالُوا۟ بَلَىٰ وَرَبِّنَا قَالَ فَذُوقُوا۟ ٱلْعَذَابَ بِمَا كُنتُمْ تَكْفُرُونَ</span></td><td class=\"tf\"><span class=\"arb\"><span class=\"vn\"></span>وَيَوْمَ يُعْرَضُ ٱلَّذِينَ كَفَرُوا۟ عَلَى ٱلنَّارِ أَلَيْسَ هَٰذَا بِٱلْحَقِّ قَالُوا۟ بَلَىٰ وَرَبِّنَا قَالَ فَذُوقُوا۟ ٱلْعَذَابَ بِمَا كُنتُمْ تَكْفُرُونَ</span></td></tr>\n",
       "<tr class=\"tf\"><td class=\"tf\">9</td><td class=\"tf\"> <a href=\"http://tanzil.net/#37:52\" title=\"show this passage on Tanzil\" sec=\"37:52\">37:52</a></td><td class=\"tf\"><span class=\"arb\"><a class=\"vn\" href=\"http://tanzil.net/#7:15\" title=\"7:15\" sec=\"7:15\"></a>قَالَ إِنَّكَ مِنَ ٱلْمُنظَرِينَ</span></td><td class=\"tf\"><span class=\"arb\"><span class=\"vn\"></span>يَقُولُ أَءِنَّكَ لَمِنَ ٱلْمُصَدِّقِينَ</span></td></tr>\n",
       "<tr class=\"tf\"><td class=\"tf\">10</td><td class=\"tf\"> <a href=\"http://tanzil.net/#38:85\" title=\"show this passage on Tanzil\" sec=\"38:85\">38:85</a></td><td class=\"tf\"><span class=\"arb\"><a class=\"vn\" href=\"http://tanzil.net/#7:18\" title=\"7:18\" sec=\"7:18\"></a>قَالَ ٱخْرُجْ مِنْهَا مَذْءُومًا مَّدْحُورًا لَّمَن تَبِعَكَ مِنْهُمْ لَأَمْلَأَنَّ جَهَنَّمَ مِنكُمْ أَجْمَعِينَ</span></td><td class=\"tf\"><span class=\"arb\"><span class=\"vn\"></span>لَأَمْلَأَنَّ جَهَنَّمَ مِنكَ وَمِمَّن تَبِعَكَ مِنْهُمْ أَجْمَعِينَ</span></td></tr></table>"
      ],
      "text/plain": [
       "<IPython.core.display.HTML object>"
      ]
     },
     "metadata": {},
     "output_type": "display_data"
    }
   ],
   "source": [
    "A.table(results, start=1, end=10)"
   ]
  },
  {
   "cell_type": "markdown",
   "metadata": {},
   "source": [
    "Or in lemma transcription:"
   ]
  },
  {
   "cell_type": "code",
   "execution_count": 15,
   "metadata": {},
   "outputs": [
    {
     "data": {
      "text/html": [
       "<table>\n",
       "<tr class=\"tf\">\n",
       "  <th class=\"tf\">n</th><th class=\"tf\">p</th>\n",
       "  <th class=\"tf\">aya</th><th>aya</th>\n",
       "</tr>\n",
       "\n",
       "<tr class=\"tf\"><td class=\"tf\">1</td><td class=\"tf\"> <a href=\"http://tanzil.net/#5:10\" title=\"show this passage on Tanzil\" sec=\"5:10\">5:10</a></td><td class=\"tf\"><span class=\"trb\"><a class=\"vn\" href=\"http://tanzil.net/#2:39\" title=\"2:39\" sec=\"2:39\"></a>{l~a*iY kafara ka*~aba 'aAyap >uwla`^}ik >aSoHa`b naAr  fiY xa`lid</span></td><td class=\"tf\"><span class=\"trb\"><span class=\"vn\"></span>{l~a*iY kafara ka*~aba 'aAyap >uwla`^}ik >aSoHa`b jaHiym</span></td></tr>\n",
       "<tr class=\"tf\"><td class=\"tf\">2</td><td class=\"tf\"> <a href=\"http://tanzil.net/#5:86\" title=\"show this passage on Tanzil\" sec=\"5:86\">5:86</a></td><td class=\"tf\"><span class=\"trb\"><a class=\"vn\" href=\"http://tanzil.net/#2:39\" title=\"2:39\" sec=\"2:39\"></a>{l~a*iY kafara ka*~aba 'aAyap >uwla`^}ik >aSoHa`b naAr  fiY xa`lid</span></td><td class=\"tf\"><span class=\"trb\"><span class=\"vn\"></span>{l~a*iY kafara ka*~aba 'aAyap >uwla`^}ik >aSoHa`b jaHiym</span></td></tr>\n",
       "<tr class=\"tf\"><td class=\"tf\">3</td><td class=\"tf\"> <a href=\"http://tanzil.net/#29:22\" title=\"show this passage on Tanzil\" sec=\"29:22\">29:22</a></td><td class=\"tf\"><span class=\"trb\"><a class=\"vn\" href=\"http://tanzil.net/#2:107\" title=\"2:107\" sec=\"2:107\"></a>lam Ealima >an~ {ll~ah  mulok samaA^' >aroD maA  min duwn {ll~ah min waliY~ laA naSiyr</span></td><td class=\"tf\"><span class=\"trb\"><span class=\"vn\"></span>maA  muEojiz fiY >aroD laA fiY samaA^' maA  min duwn {ll~ah min waliY~ laA naSiyr</span></td></tr>\n",
       "<tr class=\"tf\"><td class=\"tf\">4</td><td class=\"tf\"> <a href=\"http://tanzil.net/#14:38\" title=\"show this passage on Tanzil\" sec=\"14:38\">14:38</a></td><td class=\"tf\"><span class=\"trb\"><a class=\"vn\" href=\"http://tanzil.net/#3:5\" title=\"3:5\" sec=\"3:5\"></a>&lt;in~ {ll~ah laA yaxofaY` EalaY` <span>$</span>aYo' fiY >aroD laA fiY samaA^'</span></td><td class=\"tf\"><span class=\"trb\"><span class=\"vn\"></span>rab~ &lt;in~ Ealima maA >uxofiYa maA >aEolan maA yaxofaY` EalaY` {ll~ah min <span>$</span>aYo' fiY >aroD laA fiY samaA^'</span></td></tr>\n",
       "<tr class=\"tf\"><td class=\"tf\">5</td><td class=\"tf\"> <a href=\"http://tanzil.net/#62:4\" title=\"show this passage on Tanzil\" sec=\"62:4\">62:4</a></td><td class=\"tf\"><span class=\"trb\"><a class=\"vn\" href=\"http://tanzil.net/#3:74\" title=\"3:74\" sec=\"3:74\"></a>yaxotaS~u raHomap man <span>$</span>aA^'a {ll~ah *uw faDol EaZiym</span></td><td class=\"tf\"><span class=\"trb\"><span class=\"vn\"></span>*a`lik faDol {ll~ah A^taY man <span>$</span>aA^'a {ll~ah *uw faDol EaZiym</span></td></tr>\n",
       "<tr class=\"tf\"><td class=\"tf\">6</td><td class=\"tf\"> <a href=\"http://tanzil.net/#15:50\" title=\"show this passage on Tanzil\" sec=\"15:50\">15:50</a></td><td class=\"tf\"><span class=\"trb\"><a class=\"vn\" href=\"http://tanzil.net/#4:138\" title=\"4:138\" sec=\"4:138\"></a>bu<span>$</span>~ira muna`fiquwn >an~  Ea*aAb >aliym</span></td><td class=\"tf\"><span class=\"trb\"><span class=\"vn\"></span>>an~ Ea*aAb  Ea*aAb >aliym</span></td></tr>\n",
       "<tr class=\"tf\"><td class=\"tf\">7</td><td class=\"tf\"> <a href=\"http://tanzil.net/#84:24\" title=\"show this passage on Tanzil\" sec=\"84:24\">84:24</a></td><td class=\"tf\"><span class=\"trb\"><a class=\"vn\" href=\"http://tanzil.net/#4:138\" title=\"4:138\" sec=\"4:138\"></a>bu<span>$</span>~ira muna`fiquwn >an~  Ea*aAb >aliym</span></td><td class=\"tf\"><span class=\"trb\"><span class=\"vn\"></span>bu<span>$</span>~ira Ea*aAb >aliym</span></td></tr>\n",
       "<tr class=\"tf\"><td class=\"tf\">8</td><td class=\"tf\"> <a href=\"http://tanzil.net/#46:34\" title=\"show this passage on Tanzil\" sec=\"46:34\">46:34</a></td><td class=\"tf\"><span class=\"trb\"><a class=\"vn\" href=\"http://tanzil.net/#6:30\" title=\"6:30\" sec=\"6:30\"></a>law ra'aA &lt;i* wuqifu EalaY` rab~ qaAla l~ayosa ha`*aA Haq~ qaAla balaY` rab~ qaAla *aAqu Ea*aAb maA kaAna kafara</span></td><td class=\"tf\"><span class=\"trb\"><span class=\"vn\"></span>yawom EaraDa {l~a*iY kafara EalaY` naAr l~ayosa ha`*aA Haq~ qaAla balaY` rab~ qaAla *aAqu Ea*aAb maA kaAna kafara</span></td></tr>\n",
       "<tr class=\"tf\"><td class=\"tf\">9</td><td class=\"tf\"> <a href=\"http://tanzil.net/#37:52\" title=\"show this passage on Tanzil\" sec=\"37:52\">37:52</a></td><td class=\"tf\"><span class=\"trb\"><a class=\"vn\" href=\"http://tanzil.net/#7:15\" title=\"7:15\" sec=\"7:15\"></a>qaAla &lt;in~ min munZaruwn</span></td><td class=\"tf\"><span class=\"trb\"><span class=\"vn\"></span>qaAla &lt;in~ min muSad~iq</span></td></tr>\n",
       "<tr class=\"tf\"><td class=\"tf\">10</td><td class=\"tf\"> <a href=\"http://tanzil.net/#38:85\" title=\"show this passage on Tanzil\" sec=\"38:85\">38:85</a></td><td class=\"tf\"><span class=\"trb\"><a class=\"vn\" href=\"http://tanzil.net/#7:18\" title=\"7:18\" sec=\"7:18\"></a>qaAla xaraja min ma*o'uwm m~adoHuwr man tabiEa min muli}ato jahan~am min >ajomaEiyn</span></td><td class=\"tf\"><span class=\"trb\"><span class=\"vn\"></span>muli}ato jahan~am min minman tabiEa min >ajomaEiyn</span></td></tr></table>"
      ],
      "text/plain": [
       "<IPython.core.display.HTML object>"
      ]
     },
     "metadata": {},
     "output_type": "display_data"
    }
   ],
   "source": [
    "A.table(results, start=1, end=10, fmt='lex-trans-full')"
   ]
  },
  {
   "cell_type": "markdown",
   "metadata": {},
   "source": [
    "From now on we forget about the level of similarity, and focus on whether two lines are just \"similar\", meaning that they have\n",
    "a high degree of similarity."
   ]
  },
  {
   "cell_type": "markdown",
   "metadata": {},
   "source": [
    "# Cluster the lines\n",
    "\n",
    "Before we try to find them, let's see if we can cluster the lines in similar clusters."
   ]
  },
  {
   "cell_type": "code",
   "execution_count": 22,
   "metadata": {},
   "outputs": [],
   "source": [
    "CLUSTER_THRESHOLD = 0.5\n",
    "\n",
    "def makeClusters():\n",
    "  indent(reset=True)\n",
    "  chunkSize = 1000\n",
    "  b = 0\n",
    "  j = 0\n",
    "  clusters = []\n",
    "  for l in F.otype.s('aya'):\n",
    "    j += 1\n",
    "    b += 1\n",
    "    if b == chunkSize:\n",
    "      b = 0\n",
    "      info(f'{j:>5} ayas and {len(clusters):>5} clusters')\n",
    "    lSisters = {x[0] for x in E.sim.b(l)}\n",
    "    lAdded = False\n",
    "    for cl in clusters:\n",
    "      if len(cl & lSisters) > CLUSTER_THRESHOLD * len(cl):\n",
    "        cl.add(l)\n",
    "        lAdded = True\n",
    "        break\n",
    "    if not lAdded:\n",
    "      clusters.append({l})\n",
    "  info(f'{j:>5} ayas and {len(clusters):>5} clusters')\n",
    "  return clusters"
   ]
  },
  {
   "cell_type": "code",
   "execution_count": 23,
   "metadata": {},
   "outputs": [
    {
     "name": "stdout",
     "output_type": "stream",
     "text": [
      "  0.12s  1000 ayas and   985 clusters\n",
      "  0.41s  2000 ayas and  1956 clusters\n",
      "  0.90s  3000 ayas and  2903 clusters\n",
      "  1.54s  4000 ayas and  3777 clusters\n",
      "  2.36s  5000 ayas and  4673 clusters\n",
      "  3.36s  6000 ayas and  5564 clusters\n",
      "  3.63s  6236 ayas and  5777 clusters\n"
     ]
    }
   ],
   "source": [
    "clusters = makeClusters()"
   ]
  },
  {
   "cell_type": "markdown",
   "metadata": {},
   "source": [
    "What is the distribution of the clusters, in terms of how many similar lines they contain?\n",
    "We count them."
   ]
  },
  {
   "cell_type": "code",
   "execution_count": 24,
   "metadata": {},
   "outputs": [
    {
     "name": "stdout",
     "output_type": "stream",
     "text": [
      "clusters of size   32:     1\n",
      "clusters of size   12:     1\n",
      "clusters of size    9:     1\n",
      "clusters of size    8:     2\n",
      "clusters of size    7:     2\n",
      "clusters of size    6:     2\n",
      "clusters of size    5:     3\n",
      "clusters of size    4:    14\n",
      "clusters of size    3:    24\n",
      "clusters of size    2:   271\n",
      "clusters of size    1:  5456\n"
     ]
    }
   ],
   "source": [
    "clusterSizes = collections.Counter()\n",
    "\n",
    "for cl in clusters:\n",
    "  clusterSizes[len(cl)] += 1\n",
    "  \n",
    "for (size, amount) in sorted(\n",
    "  clusterSizes.items(),\n",
    "  key=lambda x: (-x[0], x[1]),\n",
    "):\n",
    "  print(f'clusters of size {size:>4}: {amount:>5}')"
   ]
  },
  {
   "cell_type": "markdown",
   "metadata": {},
   "source": [
    "# Interesting groups\n",
    "\n",
    "Let's investigate some interesting groups, that lie in some sweet spots.\n",
    "\n",
    "* the biggest clusters: more than 31 members\n",
    "* the medium clusters: between 5 and 31 members\n",
    "* the small clusters: between 2 and 4 members"
   ]
  },
  {
   "cell_type": "markdown",
   "metadata": {},
   "source": [
    "## Medium clusters\n",
    "\n",
    "There are a few ayas that occur in a moderately sized cluster. Lets print those clusters:"
   ]
  },
  {
   "cell_type": "code",
   "execution_count": 29,
   "metadata": {},
   "outputs": [
    {
     "name": "stdout",
     "output_type": "stream",
     "text": [
      "Cluster with 9 ayas\n"
     ]
    },
    {
     "data": {
      "text/html": [
       "<table>\n",
       "<tr class=\"tf\">\n",
       "  <th class=\"tf\">n</th><th class=\"tf\">p</th>\n",
       "  <th class=\"tf\">aya</th>\n",
       "</tr>\n",
       "\n",
       "<tr class=\"tf\"><td class=\"tf\">1</td><td class=\"tf\"> <a href=\"http://tanzil.net/#26:108\" title=\"show this passage on Tanzil\" sec=\"26:108\">26:108</a></td><td class=\"tf\"><span class=\"arb\"><a class=\"vn\" href=\"http://tanzil.net/#26:108\" title=\"26:108\" sec=\"26:108\"></a>فَٱتَّقُوا۟ ٱللَّهَ وَأَطِيعُونِ</span></td></tr>\n",
       "<tr class=\"tf\"><td class=\"tf\">2</td><td class=\"tf\"> <a href=\"http://tanzil.net/#26:110\" title=\"show this passage on Tanzil\" sec=\"26:110\">26:110</a></td><td class=\"tf\"><span class=\"arb\"><a class=\"vn\" href=\"http://tanzil.net/#26:110\" title=\"26:110\" sec=\"26:110\"></a>فَٱتَّقُوا۟ ٱللَّهَ وَأَطِيعُونِ</span></td></tr>\n",
       "<tr class=\"tf\"><td class=\"tf\">3</td><td class=\"tf\"> <a href=\"http://tanzil.net/#26:126\" title=\"show this passage on Tanzil\" sec=\"26:126\">26:126</a></td><td class=\"tf\"><span class=\"arb\"><a class=\"vn\" href=\"http://tanzil.net/#26:126\" title=\"26:126\" sec=\"26:126\"></a>فَٱتَّقُوا۟ ٱللَّهَ وَأَطِيعُونِ</span></td></tr>\n",
       "<tr class=\"tf\"><td class=\"tf\">4</td><td class=\"tf\"> <a href=\"http://tanzil.net/#26:131\" title=\"show this passage on Tanzil\" sec=\"26:131\">26:131</a></td><td class=\"tf\"><span class=\"arb\"><a class=\"vn\" href=\"http://tanzil.net/#26:131\" title=\"26:131\" sec=\"26:131\"></a>فَٱتَّقُوا۟ ٱللَّهَ وَأَطِيعُونِ</span></td></tr>\n",
       "<tr class=\"tf\"><td class=\"tf\">5</td><td class=\"tf\"> <a href=\"http://tanzil.net/#26:144\" title=\"show this passage on Tanzil\" sec=\"26:144\">26:144</a></td><td class=\"tf\"><span class=\"arb\"><a class=\"vn\" href=\"http://tanzil.net/#26:144\" title=\"26:144\" sec=\"26:144\"></a>فَٱتَّقُوا۟ ٱللَّهَ وَأَطِيعُونِ</span></td></tr>\n",
       "<tr class=\"tf\"><td class=\"tf\">6</td><td class=\"tf\"> <a href=\"http://tanzil.net/#26:150\" title=\"show this passage on Tanzil\" sec=\"26:150\">26:150</a></td><td class=\"tf\"><span class=\"arb\"><a class=\"vn\" href=\"http://tanzil.net/#26:150\" title=\"26:150\" sec=\"26:150\"></a>فَٱتَّقُوا۟ ٱللَّهَ وَأَطِيعُونِ</span></td></tr>\n",
       "<tr class=\"tf\"><td class=\"tf\">7</td><td class=\"tf\"> <a href=\"http://tanzil.net/#26:163\" title=\"show this passage on Tanzil\" sec=\"26:163\">26:163</a></td><td class=\"tf\"><span class=\"arb\"><a class=\"vn\" href=\"http://tanzil.net/#26:163\" title=\"26:163\" sec=\"26:163\"></a>فَٱتَّقُوا۟ ٱللَّهَ وَأَطِيعُونِ</span></td></tr>\n",
       "<tr class=\"tf\"><td class=\"tf\">8</td><td class=\"tf\"> <a href=\"http://tanzil.net/#26:179\" title=\"show this passage on Tanzil\" sec=\"26:179\">26:179</a></td><td class=\"tf\"><span class=\"arb\"><a class=\"vn\" href=\"http://tanzil.net/#26:179\" title=\"26:179\" sec=\"26:179\"></a>فَٱتَّقُوا۟ ٱللَّهَ وَأَطِيعُونِ</span></td></tr>\n",
       "<tr class=\"tf\"><td class=\"tf\">9</td><td class=\"tf\"> <a href=\"http://tanzil.net/#71:3\" title=\"show this passage on Tanzil\" sec=\"71:3\">71:3</a></td><td class=\"tf\"><span class=\"arb\"><a class=\"vn\" href=\"http://tanzil.net/#71:3\" title=\"71:3\" sec=\"71:3\"></a>أَنِ ٱعْبُدُوا۟ ٱللَّهَ وَٱتَّقُوهُ وَأَطِيعُونِ</span></td></tr></table>"
      ],
      "text/plain": [
       "<IPython.core.display.HTML object>"
      ]
     },
     "metadata": {},
     "output_type": "display_data"
    },
    {
     "name": "stdout",
     "output_type": "stream",
     "text": [
      "Cluster with 8 ayas\n"
     ]
    },
    {
     "data": {
      "text/html": [
       "<table>\n",
       "<tr class=\"tf\">\n",
       "  <th class=\"tf\">n</th><th class=\"tf\">p</th>\n",
       "  <th class=\"tf\">aya</th>\n",
       "</tr>\n",
       "\n",
       "<tr class=\"tf\"><td class=\"tf\">1</td><td class=\"tf\"> <a href=\"http://tanzil.net/#26:8\" title=\"show this passage on Tanzil\" sec=\"26:8\">26:8</a></td><td class=\"tf\"><span class=\"arb\"><a class=\"vn\" href=\"http://tanzil.net/#26:8\" title=\"26:8\" sec=\"26:8\"></a>إِنَّ فِى ذَٰلِكَ لَءَايَةً وَمَا كَانَ أَكْثَرُهُم مُّؤْمِنِينَ</span></td></tr>\n",
       "<tr class=\"tf\"><td class=\"tf\">2</td><td class=\"tf\"> <a href=\"http://tanzil.net/#26:67\" title=\"show this passage on Tanzil\" sec=\"26:67\">26:67</a></td><td class=\"tf\"><span class=\"arb\"><a class=\"vn\" href=\"http://tanzil.net/#26:67\" title=\"26:67\" sec=\"26:67\"></a>إِنَّ فِى ذَٰلِكَ لَءَايَةً وَمَا كَانَ أَكْثَرُهُم مُّؤْمِنِينَ</span></td></tr>\n",
       "<tr class=\"tf\"><td class=\"tf\">3</td><td class=\"tf\"> <a href=\"http://tanzil.net/#26:103\" title=\"show this passage on Tanzil\" sec=\"26:103\">26:103</a></td><td class=\"tf\"><span class=\"arb\"><a class=\"vn\" href=\"http://tanzil.net/#26:103\" title=\"26:103\" sec=\"26:103\"></a>إِنَّ فِى ذَٰلِكَ لَءَايَةً وَمَا كَانَ أَكْثَرُهُم مُّؤْمِنِينَ</span></td></tr>\n",
       "<tr class=\"tf\"><td class=\"tf\">4</td><td class=\"tf\"> <a href=\"http://tanzil.net/#26:121\" title=\"show this passage on Tanzil\" sec=\"26:121\">26:121</a></td><td class=\"tf\"><span class=\"arb\"><a class=\"vn\" href=\"http://tanzil.net/#26:121\" title=\"26:121\" sec=\"26:121\"></a>إِنَّ فِى ذَٰلِكَ لَءَايَةً وَمَا كَانَ أَكْثَرُهُم مُّؤْمِنِينَ</span></td></tr>\n",
       "<tr class=\"tf\"><td class=\"tf\">5</td><td class=\"tf\"> <a href=\"http://tanzil.net/#26:139\" title=\"show this passage on Tanzil\" sec=\"26:139\">26:139</a></td><td class=\"tf\"><span class=\"arb\"><a class=\"vn\" href=\"http://tanzil.net/#26:139\" title=\"26:139\" sec=\"26:139\"></a>فَكَذَّبُوهُ فَأَهْلَكْنَٰهُمْ إِنَّ فِى ذَٰلِكَ لَءَايَةً وَمَا كَانَ أَكْثَرُهُم مُّؤْمِنِينَ</span></td></tr>\n",
       "<tr class=\"tf\"><td class=\"tf\">6</td><td class=\"tf\"> <a href=\"http://tanzil.net/#26:158\" title=\"show this passage on Tanzil\" sec=\"26:158\">26:158</a></td><td class=\"tf\"><span class=\"arb\"><a class=\"vn\" href=\"http://tanzil.net/#26:158\" title=\"26:158\" sec=\"26:158\"></a>فَأَخَذَهُمُ ٱلْعَذَابُ إِنَّ فِى ذَٰلِكَ لَءَايَةً وَمَا كَانَ أَكْثَرُهُم مُّؤْمِنِينَ</span></td></tr>\n",
       "<tr class=\"tf\"><td class=\"tf\">7</td><td class=\"tf\"> <a href=\"http://tanzil.net/#26:174\" title=\"show this passage on Tanzil\" sec=\"26:174\">26:174</a></td><td class=\"tf\"><span class=\"arb\"><a class=\"vn\" href=\"http://tanzil.net/#26:174\" title=\"26:174\" sec=\"26:174\"></a>إِنَّ فِى ذَٰلِكَ لَءَايَةً وَمَا كَانَ أَكْثَرُهُم مُّؤْمِنِينَ</span></td></tr>\n",
       "<tr class=\"tf\"><td class=\"tf\">8</td><td class=\"tf\"> <a href=\"http://tanzil.net/#26:190\" title=\"show this passage on Tanzil\" sec=\"26:190\">26:190</a></td><td class=\"tf\"><span class=\"arb\"><a class=\"vn\" href=\"http://tanzil.net/#26:190\" title=\"26:190\" sec=\"26:190\"></a>إِنَّ فِى ذَٰلِكَ لَءَايَةً وَمَا كَانَ أَكْثَرُهُم مُّؤْمِنِينَ</span></td></tr></table>"
      ],
      "text/plain": [
       "<IPython.core.display.HTML object>"
      ]
     },
     "metadata": {},
     "output_type": "display_data"
    },
    {
     "name": "stdout",
     "output_type": "stream",
     "text": [
      "Cluster with 8 ayas\n"
     ]
    },
    {
     "data": {
      "text/html": [
       "<table>\n",
       "<tr class=\"tf\">\n",
       "  <th class=\"tf\">n</th><th class=\"tf\">p</th>\n",
       "  <th class=\"tf\">aya</th>\n",
       "</tr>\n",
       "\n",
       "<tr class=\"tf\"><td class=\"tf\">1</td><td class=\"tf\"> <a href=\"http://tanzil.net/#26:9\" title=\"show this passage on Tanzil\" sec=\"26:9\">26:9</a></td><td class=\"tf\"><span class=\"arb\"><a class=\"vn\" href=\"http://tanzil.net/#26:9\" title=\"26:9\" sec=\"26:9\"></a>وَإِنَّ رَبَّكَ لَهُوَ ٱلْعَزِيزُ ٱلرَّحِيمُ</span></td></tr>\n",
       "<tr class=\"tf\"><td class=\"tf\">2</td><td class=\"tf\"> <a href=\"http://tanzil.net/#26:68\" title=\"show this passage on Tanzil\" sec=\"26:68\">26:68</a></td><td class=\"tf\"><span class=\"arb\"><a class=\"vn\" href=\"http://tanzil.net/#26:68\" title=\"26:68\" sec=\"26:68\"></a>وَإِنَّ رَبَّكَ لَهُوَ ٱلْعَزِيزُ ٱلرَّحِيمُ</span></td></tr>\n",
       "<tr class=\"tf\"><td class=\"tf\">3</td><td class=\"tf\"> <a href=\"http://tanzil.net/#26:104\" title=\"show this passage on Tanzil\" sec=\"26:104\">26:104</a></td><td class=\"tf\"><span class=\"arb\"><a class=\"vn\" href=\"http://tanzil.net/#26:104\" title=\"26:104\" sec=\"26:104\"></a>وَإِنَّ رَبَّكَ لَهُوَ ٱلْعَزِيزُ ٱلرَّحِيمُ</span></td></tr>\n",
       "<tr class=\"tf\"><td class=\"tf\">4</td><td class=\"tf\"> <a href=\"http://tanzil.net/#26:122\" title=\"show this passage on Tanzil\" sec=\"26:122\">26:122</a></td><td class=\"tf\"><span class=\"arb\"><a class=\"vn\" href=\"http://tanzil.net/#26:122\" title=\"26:122\" sec=\"26:122\"></a>وَإِنَّ رَبَّكَ لَهُوَ ٱلْعَزِيزُ ٱلرَّحِيمُ</span></td></tr>\n",
       "<tr class=\"tf\"><td class=\"tf\">5</td><td class=\"tf\"> <a href=\"http://tanzil.net/#26:140\" title=\"show this passage on Tanzil\" sec=\"26:140\">26:140</a></td><td class=\"tf\"><span class=\"arb\"><a class=\"vn\" href=\"http://tanzil.net/#26:140\" title=\"26:140\" sec=\"26:140\"></a>وَإِنَّ رَبَّكَ لَهُوَ ٱلْعَزِيزُ ٱلرَّحِيمُ</span></td></tr>\n",
       "<tr class=\"tf\"><td class=\"tf\">6</td><td class=\"tf\"> <a href=\"http://tanzil.net/#26:159\" title=\"show this passage on Tanzil\" sec=\"26:159\">26:159</a></td><td class=\"tf\"><span class=\"arb\"><a class=\"vn\" href=\"http://tanzil.net/#26:159\" title=\"26:159\" sec=\"26:159\"></a>وَإِنَّ رَبَّكَ لَهُوَ ٱلْعَزِيزُ ٱلرَّحِيمُ</span></td></tr>\n",
       "<tr class=\"tf\"><td class=\"tf\">7</td><td class=\"tf\"> <a href=\"http://tanzil.net/#26:175\" title=\"show this passage on Tanzil\" sec=\"26:175\">26:175</a></td><td class=\"tf\"><span class=\"arb\"><a class=\"vn\" href=\"http://tanzil.net/#26:175\" title=\"26:175\" sec=\"26:175\"></a>وَإِنَّ رَبَّكَ لَهُوَ ٱلْعَزِيزُ ٱلرَّحِيمُ</span></td></tr>\n",
       "<tr class=\"tf\"><td class=\"tf\">8</td><td class=\"tf\"> <a href=\"http://tanzil.net/#26:191\" title=\"show this passage on Tanzil\" sec=\"26:191\">26:191</a></td><td class=\"tf\"><span class=\"arb\"><a class=\"vn\" href=\"http://tanzil.net/#26:191\" title=\"26:191\" sec=\"26:191\"></a>وَإِنَّ رَبَّكَ لَهُوَ ٱلْعَزِيزُ ٱلرَّحِيمُ</span></td></tr></table>"
      ],
      "text/plain": [
       "<IPython.core.display.HTML object>"
      ]
     },
     "metadata": {},
     "output_type": "display_data"
    },
    {
     "name": "stdout",
     "output_type": "stream",
     "text": [
      "Cluster with 7 ayas\n"
     ]
    },
    {
     "data": {
      "text/html": [
       "<table>\n",
       "<tr class=\"tf\">\n",
       "  <th class=\"tf\">n</th><th class=\"tf\">p</th>\n",
       "  <th class=\"tf\">aya</th>\n",
       "</tr>\n",
       "\n",
       "<tr class=\"tf\"><td class=\"tf\">1</td><td class=\"tf\"> <a href=\"http://tanzil.net/#10:48\" title=\"show this passage on Tanzil\" sec=\"10:48\">10:48</a></td><td class=\"tf\"><span class=\"arb\"><a class=\"vn\" href=\"http://tanzil.net/#10:48\" title=\"10:48\" sec=\"10:48\"></a>وَيَقُولُونَ مَتَىٰ هَٰذَا ٱلْوَعْدُ إِن كُنتُمْ صَٰدِقِينَ</span></td></tr>\n",
       "<tr class=\"tf\"><td class=\"tf\">2</td><td class=\"tf\"> <a href=\"http://tanzil.net/#21:38\" title=\"show this passage on Tanzil\" sec=\"21:38\">21:38</a></td><td class=\"tf\"><span class=\"arb\"><a class=\"vn\" href=\"http://tanzil.net/#21:38\" title=\"21:38\" sec=\"21:38\"></a>وَيَقُولُونَ مَتَىٰ هَٰذَا ٱلْوَعْدُ إِن كُنتُمْ صَٰدِقِينَ</span></td></tr>\n",
       "<tr class=\"tf\"><td class=\"tf\">3</td><td class=\"tf\"> <a href=\"http://tanzil.net/#27:71\" title=\"show this passage on Tanzil\" sec=\"27:71\">27:71</a></td><td class=\"tf\"><span class=\"arb\"><a class=\"vn\" href=\"http://tanzil.net/#27:71\" title=\"27:71\" sec=\"27:71\"></a>وَيَقُولُونَ مَتَىٰ هَٰذَا ٱلْوَعْدُ إِن كُنتُمْ صَٰدِقِينَ</span></td></tr>\n",
       "<tr class=\"tf\"><td class=\"tf\">4</td><td class=\"tf\"> <a href=\"http://tanzil.net/#32:28\" title=\"show this passage on Tanzil\" sec=\"32:28\">32:28</a></td><td class=\"tf\"><span class=\"arb\"><a class=\"vn\" href=\"http://tanzil.net/#32:28\" title=\"32:28\" sec=\"32:28\"></a>وَيَقُولُونَ مَتَىٰ هَٰذَا ٱلْفَتْحُ إِن كُنتُمْ صَٰدِقِينَ</span></td></tr>\n",
       "<tr class=\"tf\"><td class=\"tf\">5</td><td class=\"tf\"> <a href=\"http://tanzil.net/#34:29\" title=\"show this passage on Tanzil\" sec=\"34:29\">34:29</a></td><td class=\"tf\"><span class=\"arb\"><a class=\"vn\" href=\"http://tanzil.net/#34:29\" title=\"34:29\" sec=\"34:29\"></a>وَيَقُولُونَ مَتَىٰ هَٰذَا ٱلْوَعْدُ إِن كُنتُمْ صَٰدِقِينَ</span></td></tr>\n",
       "<tr class=\"tf\"><td class=\"tf\">6</td><td class=\"tf\"> <a href=\"http://tanzil.net/#36:48\" title=\"show this passage on Tanzil\" sec=\"36:48\">36:48</a></td><td class=\"tf\"><span class=\"arb\"><a class=\"vn\" href=\"http://tanzil.net/#36:48\" title=\"36:48\" sec=\"36:48\"></a>وَيَقُولُونَ مَتَىٰ هَٰذَا ٱلْوَعْدُ إِن كُنتُمْ صَٰدِقِينَ</span></td></tr>\n",
       "<tr class=\"tf\"><td class=\"tf\">7</td><td class=\"tf\"> <a href=\"http://tanzil.net/#67:25\" title=\"show this passage on Tanzil\" sec=\"67:25\">67:25</a></td><td class=\"tf\"><span class=\"arb\"><a class=\"vn\" href=\"http://tanzil.net/#67:25\" title=\"67:25\" sec=\"67:25\"></a>وَيَقُولُونَ مَتَىٰ هَٰذَا ٱلْوَعْدُ إِن كُنتُمْ صَٰدِقِينَ</span></td></tr></table>"
      ],
      "text/plain": [
       "<IPython.core.display.HTML object>"
      ]
     },
     "metadata": {},
     "output_type": "display_data"
    },
    {
     "name": "stdout",
     "output_type": "stream",
     "text": [
      "Cluster with 7 ayas\n"
     ]
    },
    {
     "data": {
      "text/html": [
       "<table>\n",
       "<tr class=\"tf\">\n",
       "  <th class=\"tf\">n</th><th class=\"tf\">p</th>\n",
       "  <th class=\"tf\">aya</th>\n",
       "</tr>\n",
       "\n",
       "<tr class=\"tf\"><td class=\"tf\">1</td><td class=\"tf\"> <a href=\"http://tanzil.net/#15:40\" title=\"show this passage on Tanzil\" sec=\"15:40\">15:40</a></td><td class=\"tf\"><span class=\"arb\"><a class=\"vn\" href=\"http://tanzil.net/#15:40\" title=\"15:40\" sec=\"15:40\"></a>إِلَّا عِبَادَكَ مِنْهُمُ ٱلْمُخْلَصِينَ</span></td></tr>\n",
       "<tr class=\"tf\"><td class=\"tf\">2</td><td class=\"tf\"> <a href=\"http://tanzil.net/#37:40\" title=\"show this passage on Tanzil\" sec=\"37:40\">37:40</a></td><td class=\"tf\"><span class=\"arb\"><a class=\"vn\" href=\"http://tanzil.net/#37:40\" title=\"37:40\" sec=\"37:40\"></a>إِلَّا عِبَادَ ٱللَّهِ ٱلْمُخْلَصِينَ</span></td></tr>\n",
       "<tr class=\"tf\"><td class=\"tf\">3</td><td class=\"tf\"> <a href=\"http://tanzil.net/#37:74\" title=\"show this passage on Tanzil\" sec=\"37:74\">37:74</a></td><td class=\"tf\"><span class=\"arb\"><a class=\"vn\" href=\"http://tanzil.net/#37:74\" title=\"37:74\" sec=\"37:74\"></a>إِلَّا عِبَادَ ٱللَّهِ ٱلْمُخْلَصِينَ</span></td></tr>\n",
       "<tr class=\"tf\"><td class=\"tf\">4</td><td class=\"tf\"> <a href=\"http://tanzil.net/#37:128\" title=\"show this passage on Tanzil\" sec=\"37:128\">37:128</a></td><td class=\"tf\"><span class=\"arb\"><a class=\"vn\" href=\"http://tanzil.net/#37:128\" title=\"37:128\" sec=\"37:128\"></a>إِلَّا عِبَادَ ٱللَّهِ ٱلْمُخْلَصِينَ</span></td></tr>\n",
       "<tr class=\"tf\"><td class=\"tf\">5</td><td class=\"tf\"> <a href=\"http://tanzil.net/#37:160\" title=\"show this passage on Tanzil\" sec=\"37:160\">37:160</a></td><td class=\"tf\"><span class=\"arb\"><a class=\"vn\" href=\"http://tanzil.net/#37:160\" title=\"37:160\" sec=\"37:160\"></a>إِلَّا عِبَادَ ٱللَّهِ ٱلْمُخْلَصِينَ</span></td></tr>\n",
       "<tr class=\"tf\"><td class=\"tf\">6</td><td class=\"tf\"> <a href=\"http://tanzil.net/#37:169\" title=\"show this passage on Tanzil\" sec=\"37:169\">37:169</a></td><td class=\"tf\"><span class=\"arb\"><a class=\"vn\" href=\"http://tanzil.net/#37:169\" title=\"37:169\" sec=\"37:169\"></a>لَكُنَّا عِبَادَ ٱللَّهِ ٱلْمُخْلَصِينَ</span></td></tr>\n",
       "<tr class=\"tf\"><td class=\"tf\">7</td><td class=\"tf\"> <a href=\"http://tanzil.net/#38:83\" title=\"show this passage on Tanzil\" sec=\"38:83\">38:83</a></td><td class=\"tf\"><span class=\"arb\"><a class=\"vn\" href=\"http://tanzil.net/#38:83\" title=\"38:83\" sec=\"38:83\"></a>إِلَّا عِبَادَكَ مِنْهُمُ ٱلْمُخْلَصِينَ</span></td></tr></table>"
      ],
      "text/plain": [
       "<IPython.core.display.HTML object>"
      ]
     },
     "metadata": {},
     "output_type": "display_data"
    },
    {
     "name": "stdout",
     "output_type": "stream",
     "text": [
      "Cluster with 6 ayas\n"
     ]
    },
    {
     "data": {
      "text/html": [
       "<table>\n",
       "<tr class=\"tf\">\n",
       "  <th class=\"tf\">n</th><th class=\"tf\">p</th>\n",
       "  <th class=\"tf\">aya</th>\n",
       "</tr>\n",
       "\n",
       "<tr class=\"tf\"><td class=\"tf\">1</td><td class=\"tf\"> <a href=\"http://tanzil.net/#10:1\" title=\"show this passage on Tanzil\" sec=\"10:1\">10:1</a></td><td class=\"tf\"><span class=\"arb\"><a class=\"vn\" href=\"http://tanzil.net/#10:1\" title=\"10:1\" sec=\"10:1\"></a>الٓر تِلْكَ ءَايَٰتُ ٱلْكِتَٰبِ ٱلْحَكِيمِ</span></td></tr>\n",
       "<tr class=\"tf\"><td class=\"tf\">2</td><td class=\"tf\"> <a href=\"http://tanzil.net/#12:1\" title=\"show this passage on Tanzil\" sec=\"12:1\">12:1</a></td><td class=\"tf\"><span class=\"arb\"><a class=\"vn\" href=\"http://tanzil.net/#12:1\" title=\"12:1\" sec=\"12:1\"></a>الٓر تِلْكَ ءَايَٰتُ ٱلْكِتَٰبِ ٱلْمُبِينِ</span></td></tr>\n",
       "<tr class=\"tf\"><td class=\"tf\">3</td><td class=\"tf\"> <a href=\"http://tanzil.net/#26:2\" title=\"show this passage on Tanzil\" sec=\"26:2\">26:2</a></td><td class=\"tf\"><span class=\"arb\"><a class=\"vn\" href=\"http://tanzil.net/#26:2\" title=\"26:2\" sec=\"26:2\"></a>تِلْكَ ءَايَٰتُ ٱلْكِتَٰبِ ٱلْمُبِينِ</span></td></tr>\n",
       "<tr class=\"tf\"><td class=\"tf\">4</td><td class=\"tf\"> <a href=\"http://tanzil.net/#27:1\" title=\"show this passage on Tanzil\" sec=\"27:1\">27:1</a></td><td class=\"tf\"><span class=\"arb\"><a class=\"vn\" href=\"http://tanzil.net/#27:1\" title=\"27:1\" sec=\"27:1\"></a>طسٓ تِلْكَ ءَايَٰتُ ٱلْقُرْءَانِ وَكِتَابٍ مُّبِينٍ</span></td></tr>\n",
       "<tr class=\"tf\"><td class=\"tf\">5</td><td class=\"tf\"> <a href=\"http://tanzil.net/#28:2\" title=\"show this passage on Tanzil\" sec=\"28:2\">28:2</a></td><td class=\"tf\"><span class=\"arb\"><a class=\"vn\" href=\"http://tanzil.net/#28:2\" title=\"28:2\" sec=\"28:2\"></a>تِلْكَ ءَايَٰتُ ٱلْكِتَٰبِ ٱلْمُبِينِ</span></td></tr>\n",
       "<tr class=\"tf\"><td class=\"tf\">6</td><td class=\"tf\"> <a href=\"http://tanzil.net/#31:2\" title=\"show this passage on Tanzil\" sec=\"31:2\">31:2</a></td><td class=\"tf\"><span class=\"arb\"><a class=\"vn\" href=\"http://tanzil.net/#31:2\" title=\"31:2\" sec=\"31:2\"></a>تِلْكَ ءَايَٰتُ ٱلْكِتَٰبِ ٱلْحَكِيمِ</span></td></tr></table>"
      ],
      "text/plain": [
       "<IPython.core.display.HTML object>"
      ]
     },
     "metadata": {},
     "output_type": "display_data"
    },
    {
     "name": "stdout",
     "output_type": "stream",
     "text": [
      "Cluster with 6 ayas\n"
     ]
    },
    {
     "data": {
      "text/html": [
       "<table>\n",
       "<tr class=\"tf\">\n",
       "  <th class=\"tf\">n</th><th class=\"tf\">p</th>\n",
       "  <th class=\"tf\">aya</th>\n",
       "</tr>\n",
       "\n",
       "<tr class=\"tf\"><td class=\"tf\">1</td><td class=\"tf\"> <a href=\"http://tanzil.net/#12:104\" title=\"show this passage on Tanzil\" sec=\"12:104\">12:104</a></td><td class=\"tf\"><span class=\"arb\"><a class=\"vn\" href=\"http://tanzil.net/#12:104\" title=\"12:104\" sec=\"12:104\"></a>وَمَا تَسْـَٔلُهُمْ عَلَيْهِ مِنْ أَجْرٍ إِنْ هُوَ إِلَّا ذِكْرٌ لِّلْعَٰلَمِينَ</span></td></tr>\n",
       "<tr class=\"tf\"><td class=\"tf\">2</td><td class=\"tf\"> <a href=\"http://tanzil.net/#26:109\" title=\"show this passage on Tanzil\" sec=\"26:109\">26:109</a></td><td class=\"tf\"><span class=\"arb\"><a class=\"vn\" href=\"http://tanzil.net/#26:109\" title=\"26:109\" sec=\"26:109\"></a>وَمَآ أَسْـَٔلُكُمْ عَلَيْهِ مِنْ أَجْرٍ إِنْ أَجْرِىَ إِلَّا عَلَىٰ رَبِّ ٱلْعَٰلَمِينَ</span></td></tr>\n",
       "<tr class=\"tf\"><td class=\"tf\">3</td><td class=\"tf\"> <a href=\"http://tanzil.net/#26:127\" title=\"show this passage on Tanzil\" sec=\"26:127\">26:127</a></td><td class=\"tf\"><span class=\"arb\"><a class=\"vn\" href=\"http://tanzil.net/#26:127\" title=\"26:127\" sec=\"26:127\"></a>وَمَآ أَسْـَٔلُكُمْ عَلَيْهِ مِنْ أَجْرٍ إِنْ أَجْرِىَ إِلَّا عَلَىٰ رَبِّ ٱلْعَٰلَمِينَ</span></td></tr>\n",
       "<tr class=\"tf\"><td class=\"tf\">4</td><td class=\"tf\"> <a href=\"http://tanzil.net/#26:145\" title=\"show this passage on Tanzil\" sec=\"26:145\">26:145</a></td><td class=\"tf\"><span class=\"arb\"><a class=\"vn\" href=\"http://tanzil.net/#26:145\" title=\"26:145\" sec=\"26:145\"></a>وَمَآ أَسْـَٔلُكُمْ عَلَيْهِ مِنْ أَجْرٍ إِنْ أَجْرِىَ إِلَّا عَلَىٰ رَبِّ ٱلْعَٰلَمِينَ</span></td></tr>\n",
       "<tr class=\"tf\"><td class=\"tf\">5</td><td class=\"tf\"> <a href=\"http://tanzil.net/#26:164\" title=\"show this passage on Tanzil\" sec=\"26:164\">26:164</a></td><td class=\"tf\"><span class=\"arb\"><a class=\"vn\" href=\"http://tanzil.net/#26:164\" title=\"26:164\" sec=\"26:164\"></a>وَمَآ أَسْـَٔلُكُمْ عَلَيْهِ مِنْ أَجْرٍ إِنْ أَجْرِىَ إِلَّا عَلَىٰ رَبِّ ٱلْعَٰلَمِينَ</span></td></tr>\n",
       "<tr class=\"tf\"><td class=\"tf\">6</td><td class=\"tf\"> <a href=\"http://tanzil.net/#26:180\" title=\"show this passage on Tanzil\" sec=\"26:180\">26:180</a></td><td class=\"tf\"><span class=\"arb\"><a class=\"vn\" href=\"http://tanzil.net/#26:180\" title=\"26:180\" sec=\"26:180\"></a>وَمَآ أَسْـَٔلُكُمْ عَلَيْهِ مِنْ أَجْرٍ إِنْ أَجْرِىَ إِلَّا عَلَىٰ رَبِّ ٱلْعَٰلَمِينَ</span></td></tr></table>"
      ],
      "text/plain": [
       "<IPython.core.display.HTML object>"
      ]
     },
     "metadata": {},
     "output_type": "display_data"
    },
    {
     "name": "stdout",
     "output_type": "stream",
     "text": [
      "Cluster with 5 ayas\n"
     ]
    },
    {
     "data": {
      "text/html": [
       "<table>\n",
       "<tr class=\"tf\">\n",
       "  <th class=\"tf\">n</th><th class=\"tf\">p</th>\n",
       "  <th class=\"tf\">aya</th>\n",
       "</tr>\n",
       "\n",
       "<tr class=\"tf\"><td class=\"tf\">1</td><td class=\"tf\"> <a href=\"http://tanzil.net/#26:107\" title=\"show this passage on Tanzil\" sec=\"26:107\">26:107</a></td><td class=\"tf\"><span class=\"arb\"><a class=\"vn\" href=\"http://tanzil.net/#26:107\" title=\"26:107\" sec=\"26:107\"></a>إِنِّى لَكُمْ رَسُولٌ أَمِينٌ</span></td></tr>\n",
       "<tr class=\"tf\"><td class=\"tf\">2</td><td class=\"tf\"> <a href=\"http://tanzil.net/#26:125\" title=\"show this passage on Tanzil\" sec=\"26:125\">26:125</a></td><td class=\"tf\"><span class=\"arb\"><a class=\"vn\" href=\"http://tanzil.net/#26:125\" title=\"26:125\" sec=\"26:125\"></a>إِنِّى لَكُمْ رَسُولٌ أَمِينٌ</span></td></tr>\n",
       "<tr class=\"tf\"><td class=\"tf\">3</td><td class=\"tf\"> <a href=\"http://tanzil.net/#26:143\" title=\"show this passage on Tanzil\" sec=\"26:143\">26:143</a></td><td class=\"tf\"><span class=\"arb\"><a class=\"vn\" href=\"http://tanzil.net/#26:143\" title=\"26:143\" sec=\"26:143\"></a>إِنِّى لَكُمْ رَسُولٌ أَمِينٌ</span></td></tr>\n",
       "<tr class=\"tf\"><td class=\"tf\">4</td><td class=\"tf\"> <a href=\"http://tanzil.net/#26:162\" title=\"show this passage on Tanzil\" sec=\"26:162\">26:162</a></td><td class=\"tf\"><span class=\"arb\"><a class=\"vn\" href=\"http://tanzil.net/#26:162\" title=\"26:162\" sec=\"26:162\"></a>إِنِّى لَكُمْ رَسُولٌ أَمِينٌ</span></td></tr>\n",
       "<tr class=\"tf\"><td class=\"tf\">5</td><td class=\"tf\"> <a href=\"http://tanzil.net/#26:178\" title=\"show this passage on Tanzil\" sec=\"26:178\">26:178</a></td><td class=\"tf\"><span class=\"arb\"><a class=\"vn\" href=\"http://tanzil.net/#26:178\" title=\"26:178\" sec=\"26:178\"></a>إِنِّى لَكُمْ رَسُولٌ أَمِينٌ</span></td></tr></table>"
      ],
      "text/plain": [
       "<IPython.core.display.HTML object>"
      ]
     },
     "metadata": {},
     "output_type": "display_data"
    },
    {
     "name": "stdout",
     "output_type": "stream",
     "text": [
      "Cluster with 5 ayas\n"
     ]
    },
    {
     "data": {
      "text/html": [
       "<table>\n",
       "<tr class=\"tf\">\n",
       "  <th class=\"tf\">n</th><th class=\"tf\">p</th>\n",
       "  <th class=\"tf\">aya</th>\n",
       "</tr>\n",
       "\n",
       "<tr class=\"tf\"><td class=\"tf\">1</td><td class=\"tf\"> <a href=\"http://tanzil.net/#37:80\" title=\"show this passage on Tanzil\" sec=\"37:80\">37:80</a></td><td class=\"tf\"><span class=\"arb\"><a class=\"vn\" href=\"http://tanzil.net/#37:80\" title=\"37:80\" sec=\"37:80\"></a>إِنَّا كَذَٰلِكَ نَجْزِى ٱلْمُحْسِنِينَ</span></td></tr>\n",
       "<tr class=\"tf\"><td class=\"tf\">2</td><td class=\"tf\"> <a href=\"http://tanzil.net/#37:110\" title=\"show this passage on Tanzil\" sec=\"37:110\">37:110</a></td><td class=\"tf\"><span class=\"arb\"><a class=\"vn\" href=\"http://tanzil.net/#37:110\" title=\"37:110\" sec=\"37:110\"></a>كَذَٰلِكَ نَجْزِى ٱلْمُحْسِنِينَ</span></td></tr>\n",
       "<tr class=\"tf\"><td class=\"tf\">3</td><td class=\"tf\"> <a href=\"http://tanzil.net/#37:121\" title=\"show this passage on Tanzil\" sec=\"37:121\">37:121</a></td><td class=\"tf\"><span class=\"arb\"><a class=\"vn\" href=\"http://tanzil.net/#37:121\" title=\"37:121\" sec=\"37:121\"></a>إِنَّا كَذَٰلِكَ نَجْزِى ٱلْمُحْسِنِينَ</span></td></tr>\n",
       "<tr class=\"tf\"><td class=\"tf\">4</td><td class=\"tf\"> <a href=\"http://tanzil.net/#37:131\" title=\"show this passage on Tanzil\" sec=\"37:131\">37:131</a></td><td class=\"tf\"><span class=\"arb\"><a class=\"vn\" href=\"http://tanzil.net/#37:131\" title=\"37:131\" sec=\"37:131\"></a>إِنَّا كَذَٰلِكَ نَجْزِى ٱلْمُحْسِنِينَ</span></td></tr>\n",
       "<tr class=\"tf\"><td class=\"tf\">5</td><td class=\"tf\"> <a href=\"http://tanzil.net/#77:44\" title=\"show this passage on Tanzil\" sec=\"77:44\">77:44</a></td><td class=\"tf\"><span class=\"arb\"><a class=\"vn\" href=\"http://tanzil.net/#77:44\" title=\"77:44\" sec=\"77:44\"></a>إِنَّا كَذَٰلِكَ نَجْزِى ٱلْمُحْسِنِينَ</span></td></tr></table>"
      ],
      "text/plain": [
       "<IPython.core.display.HTML object>"
      ]
     },
     "metadata": {},
     "output_type": "display_data"
    },
    {
     "name": "stdout",
     "output_type": "stream",
     "text": [
      "Cluster with 5 ayas\n"
     ]
    },
    {
     "data": {
      "text/html": [
       "<table>\n",
       "<tr class=\"tf\">\n",
       "  <th class=\"tf\">n</th><th class=\"tf\">p</th>\n",
       "  <th class=\"tf\">aya</th>\n",
       "</tr>\n",
       "\n",
       "<tr class=\"tf\"><td class=\"tf\">1</td><td class=\"tf\"> <a href=\"http://tanzil.net/#57:1\" title=\"show this passage on Tanzil\" sec=\"57:1\">57:1</a></td><td class=\"tf\"><span class=\"arb\"><a class=\"vn\" href=\"http://tanzil.net/#57:1\" title=\"57:1\" sec=\"57:1\"></a>سَبَّحَ لِلَّهِ مَا فِى ٱلسَّمَٰوَٰتِ وَٱلْأَرْضِ وَهُوَ ٱلْعَزِيزُ ٱلْحَكِيمُ</span></td></tr>\n",
       "<tr class=\"tf\"><td class=\"tf\">2</td><td class=\"tf\"> <a href=\"http://tanzil.net/#59:1\" title=\"show this passage on Tanzil\" sec=\"59:1\">59:1</a></td><td class=\"tf\"><span class=\"arb\"><a class=\"vn\" href=\"http://tanzil.net/#59:1\" title=\"59:1\" sec=\"59:1\"></a>سَبَّحَ لِلَّهِ مَا فِى ٱلسَّمَٰوَٰتِ وَمَا فِى ٱلْأَرْضِ وَهُوَ ٱلْعَزِيزُ ٱلْحَكِيمُ</span></td></tr>\n",
       "<tr class=\"tf\"><td class=\"tf\">3</td><td class=\"tf\"> <a href=\"http://tanzil.net/#59:24\" title=\"show this passage on Tanzil\" sec=\"59:24\">59:24</a></td><td class=\"tf\"><span class=\"arb\"><a class=\"vn\" href=\"http://tanzil.net/#59:24\" title=\"59:24\" sec=\"59:24\"></a>هُوَ ٱللَّهُ ٱلْخَٰلِقُ ٱلْبَارِئُ ٱلْمُصَوِّرُ لَهُ ٱلْأَسْمَآءُ ٱلْحُسْنَىٰ يُسَبِّحُ لَهُۥ مَا فِى ٱلسَّمَٰوَٰتِ وَٱلْأَرْضِ وَهُوَ ٱلْعَزِيزُ ٱلْحَكِيمُ</span></td></tr>\n",
       "<tr class=\"tf\"><td class=\"tf\">4</td><td class=\"tf\"> <a href=\"http://tanzil.net/#61:1\" title=\"show this passage on Tanzil\" sec=\"61:1\">61:1</a></td><td class=\"tf\"><span class=\"arb\"><a class=\"vn\" href=\"http://tanzil.net/#61:1\" title=\"61:1\" sec=\"61:1\"></a>سَبَّحَ لِلَّهِ مَا فِى ٱلسَّمَٰوَٰتِ وَمَا فِى ٱلْأَرْضِ وَهُوَ ٱلْعَزِيزُ ٱلْحَكِيمُ</span></td></tr>\n",
       "<tr class=\"tf\"><td class=\"tf\">5</td><td class=\"tf\"> <a href=\"http://tanzil.net/#62:1\" title=\"show this passage on Tanzil\" sec=\"62:1\">62:1</a></td><td class=\"tf\"><span class=\"arb\"><a class=\"vn\" href=\"http://tanzil.net/#62:1\" title=\"62:1\" sec=\"62:1\"></a>يُسَبِّحُ لِلَّهِ مَا فِى ٱلسَّمَٰوَٰتِ وَمَا فِى ٱلْأَرْضِ ٱلْمَلِكِ ٱلْقُدُّوسِ ٱلْعَزِيزِ ٱلْحَكِيمِ</span></td></tr></table>"
      ],
      "text/plain": [
       "<IPython.core.display.HTML object>"
      ]
     },
     "metadata": {},
     "output_type": "display_data"
    }
   ],
   "source": [
    "mediumClusters = []\n",
    "\n",
    "for cluster in clusters:\n",
    "  nAyas = len(cluster)\n",
    "  if 4 < nAyas < 10:\n",
    "    mediumClusters.append(cluster)\n",
    "\n",
    "for cluster in sorted(\n",
    "  mediumClusters,\n",
    "  key=lambda x: -len(x),\n",
    "):\n",
    "  print(f'Cluster with {len(cluster)} ayas')\n",
    "  A.table([(a,) for a in sorted(cluster)])"
   ]
  },
  {
   "cell_type": "markdown",
   "metadata": {},
   "source": [
    "---\n",
    "\n",
    "All chapters:\n",
    "\n",
    "* **[start](start.ipynb)** introduction to computing with your corpus\n",
    "* **[display](display.ipynb)** become an expert in creating pretty displays of your text structures\n",
    "* **[search](search.ipynb)** turbo charge your hand-coding with search templates\n",
    "* **[exportExcel](exportExcel.ipynb)** make tailor-made spreadsheets out of your results\n",
    "* (to come) **[share](share.ipynb)** draw in other people's data and let them use yours\n",
    "* **similarAyas** spot the similarities between lines\n",
    "\n",
    "Back to [start](start.ipynb)"
   ]
  }
 ],
 "metadata": {
  "kernelspec": {
   "display_name": "Python 3",
   "language": "python",
   "name": "python3"
  },
  "language_info": {
   "codemirror_mode": {
    "name": "ipython",
    "version": 3
   },
   "file_extension": ".py",
   "mimetype": "text/x-python",
   "name": "python",
   "nbconvert_exporter": "python",
   "pygments_lexer": "ipython3",
   "version": "3.7.2"
  }
 },
 "nbformat": 4,
 "nbformat_minor": 2
}
