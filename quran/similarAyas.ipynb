{
 "cells": [
  {
   "cell_type": "markdown",
   "metadata": {},
   "source": [
    "<img align=\"right\" src=\"images/tf.png\" width=\"128\"/>\n",
    "<img align=\"right\" src=\"images/uu-small.png\" width=\"128\"/>\n",
    "<img align=\"right\" src=\"images/dans.png\" width=\"128\"/>\n",
    "\n",
    "---\n",
    "\n",
    "To get started: consult [start](start.ipynb)\n",
    "\n",
    "---\n",
    "\n",
    "# Similar lines\n",
    "\n",
    "We spot the similarities between ayas in the quran.\n",
    "\n",
    "There are 6216 ayas in the Quran. To compare them all requires 20 million comparisons.\n",
    "That is a costly operation.\n",
    "[On this laptop it took 30 whole seconds](https://nbviewer.jupyter.org/github/q-ran/quran/blob/master/programs/parallels.ipynb).\n",
    "\n",
    "The good news it that we have stored the outcome in an extra feature.\n",
    "\n",
    "This feature is packaged in a TF data module, that we will load below, by using the parameter `mod` in the `use()` statement."
   ]
  },
  {
   "cell_type": "code",
   "execution_count": 2,
   "metadata": {},
   "outputs": [],
   "source": [
    "%load_ext autoreload\n",
    "%autoreload 2"
   ]
  },
  {
   "cell_type": "code",
   "execution_count": 3,
   "metadata": {
    "ExecuteTime": {
     "end_time": "2018-05-24T10:06:39.818664Z",
     "start_time": "2018-05-24T10:06:39.796588Z"
    }
   },
   "outputs": [],
   "source": [
    "import collections\n",
    "\n",
    "from tf.app import use"
   ]
  },
  {
   "cell_type": "code",
   "execution_count": 4,
   "metadata": {},
   "outputs": [
    {
     "name": "stdout",
     "output_type": "stream",
     "text": [
      "Using TF-app in ~/github/annotation/app-quran/code:\n",
      "\trepo clone offline under ~/github (local github)\n",
      "Using data in ~/github/q-ran/quran/tf/0.4:\n",
      "\trepo clone offline under ~/github (local github)\n",
      "Using data in ~/github/q-ran/quran/parallels/tf/0.4:\n",
      "\trepo clone offline under ~/github (local github)\n"
     ]
    },
    {
     "data": {
      "text/html": [
       "<b>Documentation:</b> <a target=\"_blank\" href=\"https://github.com/q-ran/quran/blob/master/docs/features.md\" title=\"provenance of Quran\">QURAN</a> <a target=\"_blank\" href=\"https://annotation.github.io/text-fabric/writing/arabic.html\" title=\"How TF features represent text\">Character table</a> <a target=\"_blank\" href=\"https://github.com/q-ran/quran/blob/master/docs/features.md\" title=\"QURAN feature documentation\">Feature docs</a> <a target=\"_blank\" href=\"https://github.com/annotation/app-quran\" title=\"quran API documentation\">quran API</a> <a target=\"_blank\" href=\"https://annotation.github.io/text-fabric/cheatsheet.html\" title=\"text-fabric-api\">Text-Fabric API 8.2.0</a> <a target=\"_blank\" href=\"https://annotation.github.io/text-fabric/about/searchusage.html\" title=\"Search Templates Introduction and Reference\">Search Reference</a><details open><summary><b>Loaded features</b>:</summary>\n",
       "<p><b>q-ran/quran/parallels/tf</b>: <b><i><a target=\"_blank\" href=\"https://github.com/q-ran/quran/tree/master/parallels/tf\" title=\"~/github/q-ran/quran/parallels/tf/0.4/sim.tf\">sim</a></i></b> </p><p><b>Quran</b>: <a target=\"_blank\" href=\"https://github.com/q-ran/quran/blob/master/docs/features.md\" title=\"~/github/q-ran/quran/tf/0.4/a.tf\">a</a>  <a target=\"_blank\" href=\"https://github.com/q-ran/quran/blob/master/docs/features.md\" title=\"~/github/q-ran/quran/tf/0.4/ascii.tf\">ascii</a>  <a target=\"_blank\" href=\"https://github.com/q-ran/quran/blob/master/docs/features.md\" title=\"~/github/q-ran/quran/tf/0.4/ax.tf\">ax</a>  <a target=\"_blank\" href=\"https://github.com/q-ran/quran/blob/master/docs/features.md\" title=\"~/github/q-ran/quran/tf/0.4/case.tf\">case</a>  <a target=\"_blank\" href=\"https://github.com/q-ran/quran/blob/master/docs/features.md\" title=\"~/github/q-ran/quran/tf/0.4/component.tf\">component</a>  <a target=\"_blank\" href=\"https://github.com/q-ran/quran/blob/master/docs/features.md\" title=\"~/github/q-ran/quran/tf/0.4/definite.tf\">definite</a>  <a target=\"_blank\" href=\"https://github.com/q-ran/quran/blob/master/docs/features.md\" title=\"~/github/q-ran/quran/tf/0.4/f.tf\">f</a>  <a target=\"_blank\" href=\"https://github.com/q-ran/quran/blob/master/docs/features.md\" title=\"~/github/q-ran/quran/tf/0.4/formation.tf\">formation</a>  <a target=\"_blank\" href=\"https://github.com/q-ran/quran/blob/master/docs/features.md\" title=\"~/github/q-ran/quran/tf/0.4/fx.tf\">fx</a>  <a target=\"_blank\" href=\"https://github.com/q-ran/quran/blob/master/docs/features.md\" title=\"~/github/q-ran/quran/tf/0.4/gn.tf\">gn</a>  <a target=\"_blank\" href=\"https://github.com/q-ran/quran/blob/master/docs/features.md\" title=\"~/github/q-ran/quran/tf/0.4/interjection.tf\">interjection</a>  <a target=\"_blank\" href=\"https://github.com/q-ran/quran/blob/master/docs/features.md\" title=\"~/github/q-ran/quran/tf/0.4/l.tf\">l</a>  <a target=\"_blank\" href=\"https://github.com/q-ran/quran/blob/master/docs/features.md\" title=\"~/github/q-ran/quran/tf/0.4/lemma.tf\">lemma</a>  <a target=\"_blank\" href=\"https://github.com/q-ran/quran/blob/master/docs/features.md\" title=\"~/github/q-ran/quran/tf/0.4/lx.tf\">lx</a>  <a target=\"_blank\" href=\"https://github.com/q-ran/quran/blob/master/docs/features.md\" title=\"~/github/q-ran/quran/tf/0.4/mood.tf\">mood</a>  <a target=\"_blank\" href=\"https://github.com/q-ran/quran/blob/master/docs/features.md\" title=\"~/github/q-ran/quran/tf/0.4/n.tf\">n</a>  <a target=\"_blank\" href=\"https://github.com/q-ran/quran/blob/master/docs/features.md\" title=\"~/github/q-ran/quran/tf/0.4/name.tf\">name</a>  <a target=\"_blank\" href=\"https://github.com/q-ran/quran/blob/master/docs/features.md\" title=\"~/github/q-ran/quran/tf/0.4/name@en.tf\">name@ll</a>  <a target=\"_blank\" href=\"https://github.com/q-ran/quran/blob/master/docs/features.md\" title=\"~/github/q-ran/quran/tf/0.4/nameAscii.tf\">nameAscii</a>  <a target=\"_blank\" href=\"https://github.com/q-ran/quran/blob/master/docs/features.md\" title=\"~/github/q-ran/quran/tf/0.4/nameTrans.tf\">nameTrans</a>  <a target=\"_blank\" href=\"https://github.com/q-ran/quran/blob/master/docs/features.md\" title=\"~/github/q-ran/quran/tf/0.4/nu.tf\">nu</a>  <a target=\"_blank\" href=\"https://github.com/q-ran/quran/blob/master/docs/features.md\" title=\"~/github/q-ran/quran/tf/0.4/number.tf\">number</a>  <a target=\"_blank\" href=\"https://github.com/q-ran/quran/blob/master/docs/features.md\" title=\"~/github/q-ran/quran/tf/0.4/order.tf\">order</a>  <a target=\"_blank\" href=\"https://github.com/q-ran/quran/blob/master/docs/features.md\" title=\"~/github/q-ran/quran/tf/0.4/otype.tf\">otype</a>  <a target=\"_blank\" href=\"https://github.com/q-ran/quran/blob/master/docs/features.md\" title=\"~/github/q-ran/quran/tf/0.4/pos.tf\">pos</a>  <a target=\"_blank\" href=\"https://github.com/q-ran/quran/blob/master/docs/features.md\" title=\"~/github/q-ran/quran/tf/0.4/posx.tf\">posx</a>  <a target=\"_blank\" href=\"https://github.com/q-ran/quran/blob/master/docs/features.md\" title=\"~/github/q-ran/quran/tf/0.4/ps.tf\">ps</a>  <a target=\"_blank\" href=\"https://github.com/q-ran/quran/blob/master/docs/features.md\" title=\"~/github/q-ran/quran/tf/0.4/root.tf\">root</a>  <a target=\"_blank\" href=\"https://github.com/q-ran/quran/blob/master/docs/features.md\" title=\"~/github/q-ran/quran/tf/0.4/sp.tf\">sp</a>  <a target=\"_blank\" href=\"https://github.com/q-ran/quran/blob/master/docs/features.md\" title=\"~/github/q-ran/quran/tf/0.4/space.tf\">space</a>  <a target=\"_blank\" href=\"https://github.com/q-ran/quran/blob/master/docs/features.md\" title=\"~/github/q-ran/quran/tf/0.4/tense.tf\">tense</a>  <a target=\"_blank\" href=\"https://github.com/q-ran/quran/blob/master/docs/features.md\" title=\"~/github/q-ran/quran/tf/0.4/translation@en.tf\">translation@ll</a>  <a target=\"_blank\" href=\"https://github.com/q-ran/quran/blob/master/docs/features.md\" title=\"~/github/q-ran/quran/tf/0.4/type.tf\">type</a>  <a target=\"_blank\" href=\"https://github.com/q-ran/quran/blob/master/docs/features.md\" title=\"~/github/q-ran/quran/tf/0.4/unicode.tf\">unicode</a>  <a target=\"_blank\" href=\"https://github.com/q-ran/quran/blob/master/docs/features.md\" title=\"~/github/q-ran/quran/tf/0.4/voice.tf\">voice</a>  <a target=\"_blank\" href=\"https://github.com/q-ran/quran/blob/master/docs/features.md\" title=\"~/github/q-ran/quran/tf/0.4/w.tf\">w</a>  <a target=\"_blank\" href=\"https://github.com/q-ran/quran/blob/master/docs/features.md\" title=\"~/github/q-ran/quran/tf/0.4/wx.tf\">wx</a>  <b><i><a target=\"_blank\" href=\"https://github.com/q-ran/quran/blob/master/docs/features.md\" title=\"~/github/q-ran/quran/tf/0.4/oslots.tf\">oslots</a></i></b> </p></details>"
      ],
      "text/plain": [
       "<IPython.core.display.HTML object>"
      ]
     },
     "metadata": {},
     "output_type": "display_data"
    },
    {
     "data": {
      "text/html": [
       "<style>tr.tf, td.tf, th.tf { text-align: left ! important;}@font-face {\n",
       "  font-family: \"Ezra SIL\";\n",
       "  src: local('Ezra SIL'), local('EzraSIL'),\n",
       "    url('/server/static/fonts/SILEOT.woff') format('woff'),\n",
       "    url('https://github.com/annotation/text-fabric/blob/master/tf/server/static/fonts/SILEOT.woff?raw=true') format('woff');\n",
       "}\n",
       "\n",
       "@font-face {\n",
       "  font-family: \"SBL Hebrew\";\n",
       "  src: local('SBL Hebrew'), local('SBLHebrew'),\n",
       "    url('/server/static/fonts/SBL_Hbrw.woff') format('woff'),\n",
       "    url('https://github.com/annotation/text-fabric/blob/master/tf/server/static/fonts/SBL_Hbrw.woff?raw=true') format('woff');\n",
       "}\n",
       "\n",
       "@font-face {\n",
       "  font-family: \"Estrangelo Edessa\";\n",
       "  src: local('Estrangelo Edessa'), local('EstrangeloEdessa');\n",
       "    url('/server/static/fonts/SyrCOMEdessa.woff') format('woff'),\n",
       "    url('https://github.com/annotation/text-fabric/blob/master/tf/server/static/fonts/SyrCOMEdessa.woff?raw=true') format('woff');\n",
       "}\n",
       "\n",
       "@font-face {\n",
       "  font-family: AmiriQuran;\n",
       "  font-style: normal;\n",
       "  font-weight: 400;\n",
       "  src: local('Amiri Quran'), local('AmiriQuran'),\n",
       "    url('/server/static/fonts/AmiriQuran.woff') format('woff'),\n",
       "    url('https://github.com/annotation/text-fabric/blob/master/tf/server/static/fonts/AmiriQuran.woff?raw=true') format('woff');\n",
       "}\n",
       "\n",
       "@font-face {\n",
       "  font-family: AmiriQuranColored;\n",
       "  font-style: normal;\n",
       "  font-weight: 400;\n",
       "  src: local('Amiri Quran Colored'), local('AmiriQuranColored'),\n",
       "    url('/server/static/fonts/AmiriQuranColored.woff') format('woff'),\n",
       "    url('https://github.com/annotation/text-fabric/blob/master/tf/server/static/fonts/AmiriQuranColored.woff?raw=true') format('woff');\n",
       "}\n",
       "\n",
       "@font-face {\n",
       "  font-family: \"Santakku\";\n",
       "  src: local('Santakku'),\n",
       "    url('/server/static/fonts/Santakku.woff') format('woff'),\n",
       "    url('https://github.com/annotation/text-fabric/blob/master/tf/server/static/fonts/Santakku.woff?raw=true') format('woff');\n",
       "}\n",
       "\n",
       "@font-face {\n",
       "  font-family: \"SantakkuM\";\n",
       "  src: local('SantakkuM'),\n",
       "    url('/server/static/fonts/SantakkuM.woff') format('woff'),\n",
       "    url('https://github.com/annotation/text-fabric/blob/master/tf/server/static/fonts/SantakkuM.woff?raw=true') format('woff');\n",
       "}\n",
       "/* bypassing some classical notebook settings */\n",
       "div#notebook {\n",
       "  line-height: unset;\n",
       "}\n",
       "/* neutral text */\n",
       ".txtn,.txtn a:visited,.txtn a:link {\n",
       "    font-family: sans-serif;\n",
       "    font-size: medium;\n",
       "    direction: ltr;\n",
       "    text-decoration: none;\n",
       "    color: var(--text-color);\n",
       "}\n",
       "/* transcription text */\n",
       ".txtt,.txtt a:visited,.txtt a:link {\n",
       "    font-family: monospace;\n",
       "    font-size: medium;\n",
       "    direction: ltr;\n",
       "    text-decoration: none;\n",
       "    color: var(--text-color);\n",
       "}\n",
       "/* source text */\n",
       ".txto,.txto a:visited,.txto a:link {\n",
       "    font-family: serif;\n",
       "    font-size: medium;\n",
       "    direction: ltr;\n",
       "    text-decoration: none;\n",
       "    color: var(--text-color);\n",
       "}\n",
       "/* phonetic text */\n",
       ".txtp,.txtp a:visited,.txtp a:link {\n",
       "    font-family: Gentium, sans-serif;\n",
       "    font-size: large;\n",
       "    direction: ltr;\n",
       "    text-decoration: none;\n",
       "    color: var(--text-color);\n",
       "}\n",
       "/* original script text */\n",
       ".txtu,.txtu a:visited,.txtu a:link {\n",
       "    font-family: Gentium, sans-serif;\n",
       "    font-size: large;\n",
       "    text-decoration: none;\n",
       "    color: var(--text-color);\n",
       "}\n",
       "/* hebrew */\n",
       ".txtu.hbo,.lex.hbo {\n",
       "    font-family: \"Ezra SIL\", \"SBL Hebrew\", sans-serif;\n",
       "    font-size: x-large;\n",
       "    direction: rtl ! important;\n",
       "    unicode-bidi: embed;\n",
       "}\n",
       "/* syriac */\n",
       ".txtu.syc,.lex.syc {\n",
       "    font-family: \"Estrangelo Edessa\", sans-serif;\n",
       "    font-size: large;\n",
       "    direction: rtl ! important;\n",
       "    unicode-bidi: embed;\n",
       "}\n",
       "/* neo aramaic */\n",
       ".txtu.cld,.lex.cld {\n",
       "    font-family: \"CharisSIL-R\", sans-serif;\n",
       "    font-size: medium;\n",
       "    direction: ltr ! important;\n",
       "    unicode-bidi: embed;\n",
       "}\n",
       "/* standard arabic */\n",
       ".txtu.ara,.lex.ara {\n",
       "    font-family: \"AmiriQuran\", sans-serif;\n",
       "    font-size: large;\n",
       "    direction: rtl ! important;\n",
       "    unicode-bidi: embed;\n",
       "}\n",
       "/* cuneiform */\n",
       ".txtu.akk,.lex.akk {\n",
       "    font-family: Santakku, sans-serif;\n",
       "    font-size: x-large;\n",
       "    direction: ltr ! important;\n",
       "    unicode-bidi: embed;\n",
       "}\n",
       "/* greek */\n",
       ".txtu.grc,.lex.grc a:link {\n",
       "    font-family: Gentium, sans-serif;\n",
       "    font-size: medium;\n",
       "    direction: ltr ! important;\n",
       "    unicode-bidi: embed;\n",
       "}\n",
       "a:hover {\n",
       "    text-decoration: underline | important;\n",
       "    color: #0000ff | important;\n",
       "}\n",
       ".ltr {\n",
       "    direction: ltr ! important;\n",
       "}\n",
       ".rtl {\n",
       "    direction: rtl ! important;\n",
       "}\n",
       "span.plain {\n",
       "    display: inline-block;\n",
       "    white-space: pre-wrap;\n",
       "    text-align: start;\n",
       "}\n",
       ".gr,.gl {\n",
       "    white-space: pre-wrap;\n",
       "    border-color: var(--border-color-gap);\n",
       "    border-width: var(--border-width-gap);\n",
       "    border-top-style: none;\n",
       "    border-bottom-style: none;\n",
       "}\n",
       ".gr {\n",
       "    border-right-style: solid;\n",
       "    border-left-style: dashed;\n",
       "}\n",
       ".gl {\n",
       "    border-right-style: dashed;\n",
       "    border-left-style: solid;\n",
       "}\n",
       ".features {\n",
       "    font-family: monospace;\n",
       "    font-size: medium;\n",
       "    font-weight: bold;\n",
       "    color: var(--features);\n",
       "    display: flex;\n",
       "    flex-flow: column nowrap;\n",
       "    justify-content: flex-start;\n",
       "    align-items: flex-start;\n",
       "    align-content: flex-start;\n",
       "    padding: 0.1rem;\n",
       "    margin: 0.1rem;\n",
       "    direction: ltr;\n",
       "    border: var(--meta-width) solid var(--meta-color);\n",
       "    border-radius: var(--meta-width);\n",
       "}\n",
       ".features div,.features span {\n",
       "    padding: 0;\n",
       "    margin: -0.1rem 0;\n",
       "}\n",
       ".features .f {\n",
       "    font-family: sans-serif;\n",
       "    font-size: small;\n",
       "    font-weight: normal;\n",
       "    color: #5555bb;\n",
       "}\n",
       ".features .xft {\n",
       "  color: #000000;\n",
       "  background-color: #eeeeee;\n",
       "  font-size: medium;\n",
       "  margin: 0.1rem 0rem;\n",
       "}\n",
       ".features .xft .f {\n",
       "  color: #000000;\n",
       "  background-color: #eeeeee;\n",
       "  font-size: small;\n",
       "  font-weight: normal;\n",
       "}\n",
       ".section {\n",
       "    font-family: sans-serif;\n",
       "    font-size: small;\n",
       "    font-weight: bold;\n",
       "    color: var(--section);\n",
       "}\n",
       ".structure {\n",
       "    font-family: sans-serif;\n",
       "    font-size: small;\n",
       "    font-weight: bold;\n",
       "    color: var(--structure);\n",
       "}\n",
       ".comments {\n",
       "    display: flex;\n",
       "    justify-content: flex-start;\n",
       "    align-items: flex-start;\n",
       "    align-content: flex-start;\n",
       "    flex-flow: column nowrap;\n",
       "}\n",
       ".nd {\n",
       "    font-family: sans-serif;\n",
       "    font-size: small;\n",
       "    color: var(--node);\n",
       "    vertical-align: super;\n",
       "}\n",
       ".lex {\n",
       "  color: var(--lex-color);;\n",
       "}\n",
       ".children,.children.ltr {\n",
       "    display: flex;\n",
       "    border: 0;\n",
       "    background-color: #ffffff;\n",
       "    justify-content: flex-start;\n",
       "    align-items: flex-start;\n",
       "    align-content: flex-start;\n",
       "}\n",
       ".children.stretch {\n",
       "    align-items: stretch;\n",
       "}\n",
       ".children.hor {\n",
       "    flex-flow: row nowrap;\n",
       "}\n",
       ".children.hor.wrap {\n",
       "    flex-flow: row wrap;\n",
       "}\n",
       ".children.ver {\n",
       "    flex-flow: column nowrap;\n",
       "}\n",
       ".children.ver.wrap {\n",
       "    flex-flow: column wrap;\n",
       "}\n",
       ".contnr {\n",
       "    width: fit-content;\n",
       "    display: flex;\n",
       "    justify-content: flex-start;\n",
       "    align-items: flex-start;\n",
       "    align-content: flex-start;\n",
       "    flex-flow: column nowrap;\n",
       "    background: #ffffff none repeat scroll 0 0;\n",
       "    padding:  0.5rem 0.1rem 0.1rem 0.1rem;\n",
       "    margin: 0.8rem 0.1rem 0.1rem 0.1rem;\n",
       "    border-style: solid;\n",
       "    font-size: small;\n",
       "}\n",
       ".contnr.trm {\n",
       "    background-attachment: local;\n",
       "}\n",
       ".contnr.cnul {\n",
       "    padding:  0;\n",
       "    margin: 0;\n",
       "    border-style: solid;\n",
       "    font-size: xx-small;\n",
       "}\n",
       ".contnr.cnul,.lbl.cnul {\n",
       "    border-color: var(--border-color-nul);\n",
       "    border-width: var(--border-width-nul);\n",
       "    border-radius: var(--border-width-nul);\n",
       "}\n",
       ".contnr.c0,.lbl.c0 {\n",
       "    border-color: var(--border-color0);\n",
       "    border-width: var(--border-width0);\n",
       "    border-radius: var(--border-width0);\n",
       "}\n",
       ".contnr.c1,.lbl.c1 {\n",
       "    border-color: var(--border-color1);\n",
       "    border-width: var(--border-width1);\n",
       "    border-radius: var(--border-width1);\n",
       "}\n",
       ".contnr.c2,.lbl.c2 {\n",
       "    border-color: var(--border-color2);\n",
       "    border-width: var(--border-width2);\n",
       "    border-radius: var(--border-width2);\n",
       "}\n",
       ".contnr.c3,.lbl.c3 {\n",
       "    border-color: var(--border-color3);\n",
       "    border-width: var(--border-width3);\n",
       "    border-radius: var(--border-width3);\n",
       "}\n",
       ".contnr.c4,.lbl.c4 {\n",
       "    border-color: var(--border-color4);\n",
       "    border-width: var(--border-width4);\n",
       "    border-radius: var(--border-width4);\n",
       "}\n",
       ".contnr.l,.contnr.l>.lbl {\n",
       "    border-left-style: dotted\n",
       "}\n",
       ".contnr.r,.contnr.r>.lbl {\n",
       "    border-right-style: dotted\n",
       "}\n",
       ".contnr.lno,.contnr.lno>.lbl {\n",
       "    border-left-style: none\n",
       "}\n",
       ".contnr.rno,.contnr.rno>.lbl {\n",
       "    border-right-style: none\n",
       "}\n",
       ".lbl {\n",
       "    font-family: monospace;\n",
       "    margin-top: -1.2rem;\n",
       "    margin-left: 1rem;\n",
       "    background: #ffffff none repeat scroll 0 0;\n",
       "    padding: 0 0.3rem;\n",
       "    border-style: solid;\n",
       "    display: block;\n",
       "    color: var(--label)\n",
       "}\n",
       ".lbl.trm {\n",
       "    background-attachment: local;\n",
       "    margin-top: 0.1rem;\n",
       "    margin-left: 0.1rem;\n",
       "    padding: 0.1rem 0.1rem;\n",
       "    border-style: none;\n",
       "}\n",
       ".lbl.cnul {\n",
       "    font-size: xx-small;\n",
       "}\n",
       ".lbl.c0 {\n",
       "    font-size: small;\n",
       "}\n",
       ".lbl.c1 {\n",
       "    font-size: small;\n",
       "}\n",
       ".lbl.c2 {\n",
       "    font-size: medium;\n",
       "}\n",
       ".lbl.c3 {\n",
       "    font-size: medium;\n",
       "}\n",
       ".lbl.c4 {\n",
       "    font-size: large;\n",
       "}\n",
       ".occs {\n",
       "    font-size: small;\n",
       "}\n",
       "\n",
       "/* PROVENANCE */\n",
       "\n",
       "div.prov {\n",
       "\tmargin: 2rem;\n",
       "\tpadding: 1rem;\n",
       "\tborder: 0.1rem solid var(--fog-rim);\n",
       "}\n",
       "div.pline {\n",
       "\tdisplay: flex;\n",
       "\tflex-flow: row nowrap;\n",
       "\tjustify-content: stretch;\n",
       "\talign-items: baseline;\n",
       "}\n",
       "div.p2line {\n",
       "\tmargin-left: 2em;\n",
       "\tdisplay: flex;\n",
       "\tflex-flow: row nowrap;\n",
       "\tjustify-content: stretch;\n",
       "\talign-items: baseline;\n",
       "}\n",
       "div.psline {\n",
       "\tdisplay: flex;\n",
       "\tflex-flow: row nowrap;\n",
       "\tjustify-content: stretch;\n",
       "\talign-items: baseline;\n",
       "\tbackground-color: var(--gold-mist-back);\n",
       "}\n",
       "div.pname {\n",
       "\tflex: 0 0 5rem;\n",
       "\tfont-weight: bold;\n",
       "}\n",
       "div.pval {\n",
       "    flex: 1 1 auto;\n",
       "}\n",
       "\n",
       ":root {\n",
       "\t--node:             hsla(120, 100%,  20%, 1.0  );\n",
       "\t--label:            hsla(  0, 100%,  20%, 1.0  );\n",
       "\t--section:          hsla(  0, 100%,  25%, 1.0  );\n",
       "\t--structure:        hsla(120, 100%,  25%, 1.0  );\n",
       "\t--features:         hsla(  0,   0%,  30%, 1.0  );\n",
       "  --text-color:       hsla( 60,  80%,  10%, 1.0  );\n",
       "  --lex-color:        hsla(220,  90%,  60%, 1.0  );\n",
       "  --meta-color:       hsla(  0,   0%,  90%, 0.7  );\n",
       "  --meta-width:       0.15rem;\n",
       "  --border-color-nul: hsla(  0,   0%,  90%, 0.5  );\n",
       "  --border-color-gap: hsla(  0,  50%,  70%, 1.0  );\n",
       "  --border-color0:    hsla(  0,   0%,  90%, 0.9  );\n",
       "  --border-color1:    hsla(  0,   0%,  80%, 0.9  );\n",
       "  --border-color2:    hsla(  0,   0%,  70%, 0.9  );\n",
       "  --border-color3:    hsla(  0,   0%,  80%, 0.8  );\n",
       "  --border-color4:    hsla(  0,   0%,  60%, 0.9  );\n",
       "  --border-width-nul: 0.1rem;\n",
       "  --border-width-gap: 0.1rem;\n",
       "  --border-width0:    0.1rem;\n",
       "  --border-width1:    0.15rem;\n",
       "  --border-width2:    0.2rem;\n",
       "  --border-width3:    0.3rem;\n",
       "  --border-width4:    0.25rem;\n",
       "}\n",
       ".hl {\n",
       "  background-color: var(--hl-strong);\n",
       "}\n",
       "span.hl {\n",
       "\tbackground-color: var(--hl-strong);\n",
       "\tborder-width: 0;\n",
       "\tborder-radius: 0.1rem;\n",
       "\tborder-style: solid;\n",
       "}\n",
       "div.contnr.hl,div.lbl.hl {\n",
       "  background-color: var(--hl-strong);\n",
       "}\n",
       "div.contnr.hl {\n",
       "  border-color: var(--hl-rim) ! important;\n",
       "\tborder-width: 0.2rem ! important;\n",
       "}\n",
       "\n",
       "span.hlbx {\n",
       "\tborder-color: var(--hl-rim);\n",
       "\tborder-width: 0.2rem;\n",
       "\tborder-style: solid;\n",
       "\tborder-radius: 0.3rem;\n",
       "  padding: 0.2rem;\n",
       "  margin: 0.2rem;\n",
       "}\n",
       "\n",
       "span.plain {\n",
       "  display: inline-block;\n",
       "  white-space: pre-wrap;\n",
       "}\n",
       "\n",
       ":root {\n",
       "\t--hl-strong:        hsla( 60, 100%,  70%, 0.9  );\n",
       "\t--hl-rim:           hsla( 55,  80%,  50%, 1.0  );\n",
       "}\n",
       "</style>"
      ],
      "text/plain": [
       "<IPython.core.display.HTML object>"
      ]
     },
     "metadata": {},
     "output_type": "display_data"
    },
    {
     "data": {
      "text/html": [
       "<div><a target=\"_blank\" href=\"https://annotation.github.io/text-fabric/cheatsheet.html\" title=\"doc\">names N F E L T S C TF directly usable</a></div>"
      ],
      "text/plain": [
       "<IPython.core.display.HTML object>"
      ]
     },
     "metadata": {},
     "output_type": "display_data"
    }
   ],
   "source": [
    "A = use('quran:clone', checkout=\"clone\", hoist=globals(), mod='q-ran/quran/parallels/tf:clone')\n",
    "# A = use('quran', hoist=globals(), mod='q-ran/quran/parallels/tf')"
   ]
  },
  {
   "cell_type": "markdown",
   "metadata": {},
   "source": [
    "The new feature is **sim** and it it an edge feature.\n",
    "It annotates pairs of ayas $(l, m)$ where $l$ and $m$ have similar content.\n",
    "The degree of similarity is a percentage (between 60 and 100), and this value\n",
    "is annotated onto the edges.\n",
    "\n",
    "Here is an example:"
   ]
  },
  {
   "cell_type": "code",
   "execution_count": 5,
   "metadata": {},
   "outputs": [],
   "source": [
    "query = '''\n",
    "aya\n",
    "<sim> aya\n",
    "'''"
   ]
  },
  {
   "cell_type": "code",
   "execution_count": 6,
   "metadata": {},
   "outputs": [
    {
     "name": "stdout",
     "output_type": "stream",
     "text": [
      "  0.02s 2468 results\n"
     ]
    }
   ],
   "source": [
    "results = A.search(query)"
   ]
  },
  {
   "cell_type": "code",
   "execution_count": 7,
   "metadata": {},
   "outputs": [
    {
     "name": "stdout",
     "output_type": "stream",
     "text": [
      "812 ayas with a similar aya, the first one has node number 128221\n"
     ]
    }
   ],
   "source": [
    "similars = [n for n in F.otype.s('aya') if E.sim.b(n)]\n",
    "exampleAya = similars[0]\n",
    "print(f'{len(similars)} ayas with a similar aya, the first one has node number {exampleAya}')"
   ]
  },
  {
   "cell_type": "code",
   "execution_count": 8,
   "metadata": {},
   "outputs": [
    {
     "name": "stdout",
     "output_type": "stream",
     "text": [
      "2 similar ayas\n",
      "132189 with similarity 100\n",
      "132728 with similarity 67\n"
     ]
    },
    {
     "data": {
      "text/html": [
       "<table><tr class=\"tf\"><th class=\"tf\">n</th><th class=\"tf\">p</th><th class=\"tf\">aya</th></tr>\n",
       "<tr class=\"tf\"><td class=\"tf\">1</td><td class=\"tf\"><span class=\"section ltr\"><a target=\"_blank\" href=\"http://tanzil.net/#37:182\" title=\"show this passage on Tanzil\" sec=\"37:182\">37:182</a></span></td><td class=\"tf\"><span class=\"plain outer rtl  \" ><span class=\"plain txtu ara rtl\"></span><span class=\"plain  rtl   \" ><span class=\"plain txtu ara rtl\"></span><span class=\"plain  rtl   \" ><span class=\"txtu ara\">وَ</span></span><span class=\"plain  rtl   \" ><span class=\"txtu ara\">ٱلْ</span></span><span class=\"plain  rtl   \" ><span class=\"txtu ara\">حَمْدُ </span></span></span><span class=\"plain  rtl   \" ><span class=\"plain txtu ara rtl\"></span><span class=\"plain  rtl   \" ><span class=\"txtu ara\">لِ</span></span><span class=\"plain  rtl   \" ><span class=\"txtu ara\">لَّهِ </span></span></span><span class=\"plain  rtl   \" ><span class=\"plain txtu ara rtl\"></span><span class=\"plain  rtl   \" ><span class=\"txtu ara\">رَبِّ </span></span></span><span class=\"plain  rtl   \" ><span class=\"plain txtu ara rtl\"></span><span class=\"plain  rtl   \" ><span class=\"txtu ara\">ٱلْ</span></span><span class=\"plain  rtl   \" ><span class=\"txtu ara\">عَٰلَمِينَ</span></span></span></span></td></tr>\n",
       "<tr class=\"tf\"><td class=\"tf\">2</td><td class=\"tf\"><span class=\"section ltr\"><a target=\"_blank\" href=\"http://tanzil.net/#45:36\" title=\"show this passage on Tanzil\" sec=\"45:36\">45:36</a></span></td><td class=\"tf\"><span class=\"plain outer rtl  \" ><span class=\"plain txtu ara rtl\"></span><span class=\"plain  rtl   \" ><span class=\"plain txtu ara rtl\"></span><span class=\"plain  rtl   \" ><span class=\"txtu ara\">فَ</span></span><span class=\"plain  rtl   \" ><span class=\"txtu ara\">لِ</span></span><span class=\"plain  rtl   \" ><span class=\"txtu ara\">لَّهِ </span></span></span><span class=\"plain  rtl   \" ><span class=\"plain txtu ara rtl\"></span><span class=\"plain  rtl   \" ><span class=\"txtu ara\">ٱلْ</span></span><span class=\"plain  rtl   \" ><span class=\"txtu ara\">حَمْدُ </span></span></span><span class=\"plain  rtl   \" ><span class=\"plain txtu ara rtl\"></span><span class=\"plain  rtl   \" ><span class=\"txtu ara\">رَبِّ </span></span></span><span class=\"plain  rtl   \" ><span class=\"plain txtu ara rtl\"></span><span class=\"plain  rtl   \" ><span class=\"txtu ara\">ٱل</span></span><span class=\"plain  rtl   \" ><span class=\"txtu ara\">سَّمَٰوَٰتِ </span></span></span><span class=\"plain  rtl   \" ><span class=\"plain txtu ara rtl\"></span><span class=\"plain  rtl   \" ><span class=\"txtu ara\">وَ</span></span><span class=\"plain  rtl   \" ><span class=\"txtu ara\">رَبِّ </span></span></span><span class=\"plain  rtl   \" ><span class=\"plain txtu ara rtl\"></span><span class=\"plain  rtl   \" ><span class=\"txtu ara\">ٱلْ</span></span><span class=\"plain  rtl   \" ><span class=\"txtu ara\">أَرْضِ </span></span></span><span class=\"plain  rtl   \" ><span class=\"plain txtu ara rtl\"></span><span class=\"plain  rtl   \" ><span class=\"txtu ara\">رَبِّ </span></span></span><span class=\"plain  rtl   \" ><span class=\"plain txtu ara rtl\"></span><span class=\"plain  rtl   \" ><span class=\"txtu ara\">ٱلْ</span></span><span class=\"plain  rtl   \" ><span class=\"txtu ara\">عَٰلَمِينَ</span></span></span></span></td></tr></table>"
      ],
      "text/plain": [
       "<IPython.core.display.HTML object>"
      ]
     },
     "metadata": {},
     "output_type": "display_data"
    }
   ],
   "source": [
    "sisters = E.sim.b(exampleAya)\n",
    "print(f'{len(sisters)} similar ayas')\n",
    "print('\\n'.join(f'{s[0]} with similarity {s[1]}' for s in sisters[0:10]))\n",
    "A.table(tuple((s[0],) for s in sisters), end=10)"
   ]
  },
  {
   "cell_type": "markdown",
   "metadata": {},
   "source": [
    "# All similarities\n",
    "\n",
    "Let's first find out the range of similarities:"
   ]
  },
  {
   "cell_type": "code",
   "execution_count": 9,
   "metadata": {},
   "outputs": [
    {
     "name": "stdout",
     "output_type": "stream",
     "text": [
      "minimum similarity is  60\n",
      "maximum similarity is 100\n"
     ]
    }
   ],
   "source": [
    "minSim = None\n",
    "maxSim = None\n",
    "\n",
    "for l in F.otype.s('aya'):\n",
    "  sisters = E.sim.f(l)\n",
    "  if not sisters:\n",
    "    continue\n",
    "  thisMin = min(s[1] for s in sisters)\n",
    "  thisMax = max(s[1] for s in sisters)\n",
    "  if minSim is None or thisMin < minSim:\n",
    "    minSim = thisMin\n",
    "  if maxSim is None or thisMax > maxSim:\n",
    "    maxSim = thisMax\n",
    "\n",
    "print(f'minimum similarity is {minSim:>3}')\n",
    "print(f'maximum similarity is {maxSim:>3}')"
   ]
  },
  {
   "cell_type": "markdown",
   "metadata": {},
   "source": [
    "# The bottom lines\n",
    "\n",
    "We give a few examples of the least similar lines.\n",
    "\n",
    "**N.B.** When lines are less than 60% similar, they have not made it into the `sim` feature!\n",
    "\n",
    "We can use a search template to get the 60% lines."
   ]
  },
  {
   "cell_type": "code",
   "execution_count": 10,
   "metadata": {},
   "outputs": [],
   "source": [
    "query = '''\n",
    "aya\n",
    "<sim=60> aya\n",
    "'''"
   ]
  },
  {
   "cell_type": "markdown",
   "metadata": {},
   "source": [
    "In words: find a line connected via a sim-edge with value 90 to an other line."
   ]
  },
  {
   "cell_type": "code",
   "execution_count": 11,
   "metadata": {},
   "outputs": [
    {
     "name": "stdout",
     "output_type": "stream",
     "text": [
      "  0.01s 290 results\n"
     ]
    }
   ],
   "source": [
    "results = A.search(query)"
   ]
  },
  {
   "cell_type": "markdown",
   "metadata": {},
   "source": [
    "Not very much indeed. It seems that lines are either very similar, or not so similar at all."
   ]
  },
  {
   "cell_type": "code",
   "execution_count": 12,
   "metadata": {},
   "outputs": [
    {
     "data": {
      "text/html": [
       "<table><tr class=\"tf\"><th class=\"tf\">n</th><th class=\"tf\">p</th><th class=\"tf\">aya</th><th class=\"tf\">aya</th></tr>\n",
       "<tr class=\"tf\"><td class=\"tf\">1</td><td class=\"tf\"><span class=\"section ltr\"><a target=\"_blank\" href=\"http://tanzil.net/#2:39\" title=\"show this passage on Tanzil\" sec=\"2:39\">2:39</a></span></td><td class=\"tf\"><span class=\"plain outer rtl  \" ><span class=\"plain txtu ara rtl\"></span><span class=\"plain  rtl   \" ><span class=\"plain txtu ara rtl\"></span><span class=\"plain  rtl   \" ><span class=\"txtu ara\">وَ</span></span><span class=\"plain  rtl   \" ><span class=\"txtu ara\">ٱلَّذِينَ </span></span></span><span class=\"plain  rtl   \" ><span class=\"plain txtu ara rtl\"></span><span class=\"plain  rtl   \" ><span class=\"txtu ara\">كَفَرُ</span></span><span class=\"plain  rtl   \" ><span class=\"txtu ara\">وا۟ </span></span></span><span class=\"plain  rtl   \" ><span class=\"plain txtu ara rtl\"></span><span class=\"plain  rtl   \" ><span class=\"txtu ara\">وَ</span></span><span class=\"plain  rtl   \" ><span class=\"txtu ara\">كَذَّبُ</span></span><span class=\"plain  rtl   \" ><span class=\"txtu ara\">وا۟ </span></span></span><span class=\"plain  rtl   \" ><span class=\"plain txtu ara rtl\"></span><span class=\"plain  rtl   \" ><span class=\"txtu ara\">بِ</span></span><span class=\"plain  rtl   \" ><span class=\"txtu ara\">ـَٔايَٰتِ</span></span><span class=\"plain  rtl   \" ><span class=\"txtu ara\">نَآ </span></span></span><span class=\"plain  rtl   \" ><span class=\"plain txtu ara rtl\"></span><span class=\"plain  rtl   \" ><span class=\"txtu ara\">أُو۟لَٰٓئِكَ </span></span></span><span class=\"plain  rtl   \" ><span class=\"plain txtu ara rtl\"></span><span class=\"plain  rtl   \" ><span class=\"txtu ara\">أَصْحَٰبُ </span></span></span><span class=\"plain  rtl   \" ><span class=\"plain txtu ara rtl\"></span><span class=\"plain  rtl   \" ><span class=\"txtu ara\">ٱل</span></span><span class=\"plain  rtl   \" ><span class=\"txtu ara\">نَّارِ </span></span></span><span class=\"plain  rtl   \" ><span class=\"plain txtu ara rtl\"></span><span class=\"plain  rtl   \" ><span class=\"txtu ara\">هُمْ </span></span></span><span class=\"plain  rtl   \" ><span class=\"plain txtu ara rtl\"></span><span class=\"plain  rtl   \" ><span class=\"txtu ara\">فِي</span></span><span class=\"plain  rtl   \" ><span class=\"txtu ara\">هَا </span></span></span><span class=\"plain  rtl   \" ><span class=\"plain txtu ara rtl\"></span><span class=\"plain  rtl   \" ><span class=\"txtu ara\">خَٰلِدُونَ</span></span></span></span></td><td class=\"tf\"><span class=\"plain outer rtl  \" ><span class=\"plain txtu ara rtl\"></span><span class=\"plain  rtl   \" ><span class=\"plain txtu ara rtl\"></span><span class=\"plain  rtl   \" ><span class=\"txtu ara\">وَ</span></span><span class=\"plain  rtl   \" ><span class=\"txtu ara\">ٱلَّذِينَ </span></span></span><span class=\"plain  rtl   \" ><span class=\"plain txtu ara rtl\"></span><span class=\"plain  rtl   \" ><span class=\"txtu ara\">كَفَرُ</span></span><span class=\"plain  rtl   \" ><span class=\"txtu ara\">وا۟ </span></span></span><span class=\"plain  rtl   \" ><span class=\"plain txtu ara rtl\"></span><span class=\"plain  rtl   \" ><span class=\"txtu ara\">وَ</span></span><span class=\"plain  rtl   \" ><span class=\"txtu ara\">كَذَّبُ</span></span><span class=\"plain  rtl   \" ><span class=\"txtu ara\">وا۟ </span></span></span><span class=\"plain  rtl   \" ><span class=\"plain txtu ara rtl\"></span><span class=\"plain  rtl   \" ><span class=\"txtu ara\">بِ</span></span><span class=\"plain  rtl   \" ><span class=\"txtu ara\">ـَٔايَٰتِ</span></span><span class=\"plain  rtl   \" ><span class=\"txtu ara\">نَآ </span></span></span><span class=\"plain  rtl   \" ><span class=\"plain txtu ara rtl\"></span><span class=\"plain  rtl   \" ><span class=\"txtu ara\">أُو۟لَٰٓئِكَ </span></span></span><span class=\"plain  rtl   \" ><span class=\"plain txtu ara rtl\"></span><span class=\"plain  rtl   \" ><span class=\"txtu ara\">أَصْحَٰبُ </span></span></span><span class=\"plain  rtl   \" ><span class=\"plain txtu ara rtl\"></span><span class=\"plain  rtl   \" ><span class=\"txtu ara\">ٱلْ</span></span><span class=\"plain  rtl   \" ><span class=\"txtu ara\">جَحِيمِ</span></span></span></span></td></tr>\n",
       "<tr class=\"tf\"><td class=\"tf\">2</td><td class=\"tf\"><span class=\"section ltr\"><a target=\"_blank\" href=\"http://tanzil.net/#2:39\" title=\"show this passage on Tanzil\" sec=\"2:39\">2:39</a></span></td><td class=\"tf\"><span class=\"plain outer rtl  \" ><span class=\"plain txtu ara rtl\"></span><span class=\"plain  rtl   \" ><span class=\"plain txtu ara rtl\"></span><span class=\"plain  rtl   \" ><span class=\"txtu ara\">وَ</span></span><span class=\"plain  rtl   \" ><span class=\"txtu ara\">ٱلَّذِينَ </span></span></span><span class=\"plain  rtl   \" ><span class=\"plain txtu ara rtl\"></span><span class=\"plain  rtl   \" ><span class=\"txtu ara\">كَفَرُ</span></span><span class=\"plain  rtl   \" ><span class=\"txtu ara\">وا۟ </span></span></span><span class=\"plain  rtl   \" ><span class=\"plain txtu ara rtl\"></span><span class=\"plain  rtl   \" ><span class=\"txtu ara\">وَ</span></span><span class=\"plain  rtl   \" ><span class=\"txtu ara\">كَذَّبُ</span></span><span class=\"plain  rtl   \" ><span class=\"txtu ara\">وا۟ </span></span></span><span class=\"plain  rtl   \" ><span class=\"plain txtu ara rtl\"></span><span class=\"plain  rtl   \" ><span class=\"txtu ara\">بِ</span></span><span class=\"plain  rtl   \" ><span class=\"txtu ara\">ـَٔايَٰتِ</span></span><span class=\"plain  rtl   \" ><span class=\"txtu ara\">نَآ </span></span></span><span class=\"plain  rtl   \" ><span class=\"plain txtu ara rtl\"></span><span class=\"plain  rtl   \" ><span class=\"txtu ara\">أُو۟لَٰٓئِكَ </span></span></span><span class=\"plain  rtl   \" ><span class=\"plain txtu ara rtl\"></span><span class=\"plain  rtl   \" ><span class=\"txtu ara\">أَصْحَٰبُ </span></span></span><span class=\"plain  rtl   \" ><span class=\"plain txtu ara rtl\"></span><span class=\"plain  rtl   \" ><span class=\"txtu ara\">ٱل</span></span><span class=\"plain  rtl   \" ><span class=\"txtu ara\">نَّارِ </span></span></span><span class=\"plain  rtl   \" ><span class=\"plain txtu ara rtl\"></span><span class=\"plain  rtl   \" ><span class=\"txtu ara\">هُمْ </span></span></span><span class=\"plain  rtl   \" ><span class=\"plain txtu ara rtl\"></span><span class=\"plain  rtl   \" ><span class=\"txtu ara\">فِي</span></span><span class=\"plain  rtl   \" ><span class=\"txtu ara\">هَا </span></span></span><span class=\"plain  rtl   \" ><span class=\"plain txtu ara rtl\"></span><span class=\"plain  rtl   \" ><span class=\"txtu ara\">خَٰلِدُونَ</span></span></span></span></td><td class=\"tf\"><span class=\"plain outer rtl  \" ><span class=\"plain txtu ara rtl\"></span><span class=\"plain  rtl   \" ><span class=\"plain txtu ara rtl\"></span><span class=\"plain  rtl   \" ><span class=\"txtu ara\">وَ</span></span><span class=\"plain  rtl   \" ><span class=\"txtu ara\">ٱلَّذِينَ </span></span></span><span class=\"plain  rtl   \" ><span class=\"plain txtu ara rtl\"></span><span class=\"plain  rtl   \" ><span class=\"txtu ara\">كَفَرُ</span></span><span class=\"plain  rtl   \" ><span class=\"txtu ara\">وا۟ </span></span></span><span class=\"plain  rtl   \" ><span class=\"plain txtu ara rtl\"></span><span class=\"plain  rtl   \" ><span class=\"txtu ara\">وَ</span></span><span class=\"plain  rtl   \" ><span class=\"txtu ara\">كَذَّبُ</span></span><span class=\"plain  rtl   \" ><span class=\"txtu ara\">وا۟ </span></span></span><span class=\"plain  rtl   \" ><span class=\"plain txtu ara rtl\"></span><span class=\"plain  rtl   \" ><span class=\"txtu ara\">بِ</span></span><span class=\"plain  rtl   \" ><span class=\"txtu ara\">ـَٔايَٰتِ</span></span><span class=\"plain  rtl   \" ><span class=\"txtu ara\">نَآ </span></span></span><span class=\"plain  rtl   \" ><span class=\"plain txtu ara rtl\"></span><span class=\"plain  rtl   \" ><span class=\"txtu ara\">أُو۟لَٰٓئِكَ </span></span></span><span class=\"plain  rtl   \" ><span class=\"plain txtu ara rtl\"></span><span class=\"plain  rtl   \" ><span class=\"txtu ara\">أَصْحَٰبُ </span></span></span><span class=\"plain  rtl   \" ><span class=\"plain txtu ara rtl\"></span><span class=\"plain  rtl   \" ><span class=\"txtu ara\">ٱلْ</span></span><span class=\"plain  rtl   \" ><span class=\"txtu ara\">جَحِيمِ</span></span></span></span></td></tr>\n",
       "<tr class=\"tf\"><td class=\"tf\">3</td><td class=\"tf\"><span class=\"section ltr\"><a target=\"_blank\" href=\"http://tanzil.net/#2:107\" title=\"show this passage on Tanzil\" sec=\"2:107\">2:107</a></span></td><td class=\"tf\"><span class=\"plain outer rtl  \" ><span class=\"plain txtu ara rtl\"></span><span class=\"plain  rtl   \" ><span class=\"plain txtu ara rtl\"></span><span class=\"plain  rtl   \" ><span class=\"txtu ara\">أَ</span></span><span class=\"plain  rtl   \" ><span class=\"txtu ara\">لَمْ </span></span></span><span class=\"plain  rtl   \" ><span class=\"plain txtu ara rtl\"></span><span class=\"plain  rtl   \" ><span class=\"txtu ara\">تَعْلَمْ </span></span></span><span class=\"plain  rtl   \" ><span class=\"plain txtu ara rtl\"></span><span class=\"plain  rtl   \" ><span class=\"txtu ara\">أَنَّ </span></span></span><span class=\"plain  rtl   \" ><span class=\"plain txtu ara rtl\"></span><span class=\"plain  rtl   \" ><span class=\"txtu ara\">ٱللَّهَ </span></span></span><span class=\"plain  rtl   \" ><span class=\"plain txtu ara rtl\"></span><span class=\"plain  rtl   \" ><span class=\"txtu ara\">لَ</span></span><span class=\"plain  rtl   \" ><span class=\"txtu ara\">هُۥ </span></span></span><span class=\"plain  rtl   \" ><span class=\"plain txtu ara rtl\"></span><span class=\"plain  rtl   \" ><span class=\"txtu ara\">مُلْكُ </span></span></span><span class=\"plain  rtl   \" ><span class=\"plain txtu ara rtl\"></span><span class=\"plain  rtl   \" ><span class=\"txtu ara\">ٱل</span></span><span class=\"plain  rtl   \" ><span class=\"txtu ara\">سَّمَٰوَٰتِ </span></span></span><span class=\"plain  rtl   \" ><span class=\"plain txtu ara rtl\"></span><span class=\"plain  rtl   \" ><span class=\"txtu ara\">وَ</span></span><span class=\"plain  rtl   \" ><span class=\"txtu ara\">ٱلْ</span></span><span class=\"plain  rtl   \" ><span class=\"txtu ara\">أَرْضِ </span></span></span><span class=\"plain  rtl   \" ><span class=\"plain txtu ara rtl\"></span><span class=\"plain  rtl   \" ><span class=\"txtu ara\">وَ</span></span><span class=\"plain  rtl   \" ><span class=\"txtu ara\">مَا </span></span></span><span class=\"plain  rtl   \" ><span class=\"plain txtu ara rtl\"></span><span class=\"plain  rtl   \" ><span class=\"txtu ara\">لَ</span></span><span class=\"plain  rtl   \" ><span class=\"txtu ara\">كُم </span></span></span><span class=\"plain  rtl   \" ><span class=\"plain txtu ara rtl\"></span><span class=\"plain  rtl   \" ><span class=\"txtu ara\">مِّن </span></span></span><span class=\"plain  rtl   \" ><span class=\"plain txtu ara rtl\"></span><span class=\"plain  rtl   \" ><span class=\"txtu ara\">دُونِ </span></span></span><span class=\"plain  rtl   \" ><span class=\"plain txtu ara rtl\"></span><span class=\"plain  rtl   \" ><span class=\"txtu ara\">ٱللَّهِ </span></span></span><span class=\"plain  rtl   \" ><span class=\"plain txtu ara rtl\"></span><span class=\"plain  rtl   \" ><span class=\"txtu ara\">مِن </span></span></span><span class=\"plain  rtl   \" ><span class=\"plain txtu ara rtl\"></span><span class=\"plain  rtl   \" ><span class=\"txtu ara\">وَلِىٍّ </span></span></span><span class=\"plain  rtl   \" ><span class=\"plain txtu ara rtl\"></span><span class=\"plain  rtl   \" ><span class=\"txtu ara\">وَ</span></span><span class=\"plain  rtl   \" ><span class=\"txtu ara\">لَا </span></span></span><span class=\"plain  rtl   \" ><span class=\"plain txtu ara rtl\"></span><span class=\"plain  rtl   \" ><span class=\"txtu ara\">نَصِيرٍ</span></span></span></span></td><td class=\"tf\"><span class=\"plain outer rtl  \" ><span class=\"plain txtu ara rtl\"></span><span class=\"plain  rtl   \" ><span class=\"plain txtu ara rtl\"></span><span class=\"plain  rtl   \" ><span class=\"txtu ara\">وَ</span></span><span class=\"plain  rtl   \" ><span class=\"txtu ara\">مَآ </span></span></span><span class=\"plain  rtl   \" ><span class=\"plain txtu ara rtl\"></span><span class=\"plain  rtl   \" ><span class=\"txtu ara\">أَنتُم </span></span></span><span class=\"plain  rtl   \" ><span class=\"plain txtu ara rtl\"></span><span class=\"plain  rtl   \" ><span class=\"txtu ara\">بِ</span></span><span class=\"plain  rtl   \" ><span class=\"txtu ara\">مُعْجِزِينَ </span></span></span><span class=\"plain  rtl   \" ><span class=\"plain txtu ara rtl\"></span><span class=\"plain  rtl   \" ><span class=\"txtu ara\">فِى </span></span></span><span class=\"plain  rtl   \" ><span class=\"plain txtu ara rtl\"></span><span class=\"plain  rtl   \" ><span class=\"txtu ara\">ٱلْ</span></span><span class=\"plain  rtl   \" ><span class=\"txtu ara\">أَرْضِ </span></span></span><span class=\"plain  rtl   \" ><span class=\"plain txtu ara rtl\"></span><span class=\"plain  rtl   \" ><span class=\"txtu ara\">وَ</span></span><span class=\"plain  rtl   \" ><span class=\"txtu ara\">لَا </span></span></span><span class=\"plain  rtl   \" ><span class=\"plain txtu ara rtl\"></span><span class=\"plain  rtl   \" ><span class=\"txtu ara\">فِى </span></span></span><span class=\"plain  rtl   \" ><span class=\"plain txtu ara rtl\"></span><span class=\"plain  rtl   \" ><span class=\"txtu ara\">ٱل</span></span><span class=\"plain  rtl   \" ><span class=\"txtu ara\">سَّمَآءِ </span></span></span><span class=\"plain  rtl   \" ><span class=\"plain txtu ara rtl\"></span><span class=\"plain  rtl   \" ><span class=\"txtu ara\">وَ</span></span><span class=\"plain  rtl   \" ><span class=\"txtu ara\">مَا </span></span></span><span class=\"plain  rtl   \" ><span class=\"plain txtu ara rtl\"></span><span class=\"plain  rtl   \" ><span class=\"txtu ara\">لَ</span></span><span class=\"plain  rtl   \" ><span class=\"txtu ara\">كُم </span></span></span><span class=\"plain  rtl   \" ><span class=\"plain txtu ara rtl\"></span><span class=\"plain  rtl   \" ><span class=\"txtu ara\">مِّن </span></span></span><span class=\"plain  rtl   \" ><span class=\"plain txtu ara rtl\"></span><span class=\"plain  rtl   \" ><span class=\"txtu ara\">دُونِ </span></span></span><span class=\"plain  rtl   \" ><span class=\"plain txtu ara rtl\"></span><span class=\"plain  rtl   \" ><span class=\"txtu ara\">ٱللَّهِ </span></span></span><span class=\"plain  rtl   \" ><span class=\"plain txtu ara rtl\"></span><span class=\"plain  rtl   \" ><span class=\"txtu ara\">مِن </span></span></span><span class=\"plain  rtl   \" ><span class=\"plain txtu ara rtl\"></span><span class=\"plain  rtl   \" ><span class=\"txtu ara\">وَلِىٍّ </span></span></span><span class=\"plain  rtl   \" ><span class=\"plain txtu ara rtl\"></span><span class=\"plain  rtl   \" ><span class=\"txtu ara\">وَ</span></span><span class=\"plain  rtl   \" ><span class=\"txtu ara\">لَا </span></span></span><span class=\"plain  rtl   \" ><span class=\"plain txtu ara rtl\"></span><span class=\"plain  rtl   \" ><span class=\"txtu ara\">نَصِيرٍ</span></span></span></span></td></tr>\n",
       "<tr class=\"tf\"><td class=\"tf\">4</td><td class=\"tf\"><span class=\"section ltr\"><a target=\"_blank\" href=\"http://tanzil.net/#3:5\" title=\"show this passage on Tanzil\" sec=\"3:5\">3:5</a></span></td><td class=\"tf\"><span class=\"plain outer rtl  \" ><span class=\"plain txtu ara rtl\"></span><span class=\"plain  rtl   \" ><span class=\"plain txtu ara rtl\"></span><span class=\"plain  rtl   \" ><span class=\"txtu ara\">إِنَّ </span></span></span><span class=\"plain  rtl   \" ><span class=\"plain txtu ara rtl\"></span><span class=\"plain  rtl   \" ><span class=\"txtu ara\">ٱللَّهَ </span></span></span><span class=\"plain  rtl   \" ><span class=\"plain txtu ara rtl\"></span><span class=\"plain  rtl   \" ><span class=\"txtu ara\">لَا </span></span></span><span class=\"plain  rtl   \" ><span class=\"plain txtu ara rtl\"></span><span class=\"plain  rtl   \" ><span class=\"txtu ara\">يَخْفَىٰ </span></span></span><span class=\"plain  rtl   \" ><span class=\"plain txtu ara rtl\"></span><span class=\"plain  rtl   \" ><span class=\"txtu ara\">عَلَيْ</span></span><span class=\"plain  rtl   \" ><span class=\"txtu ara\">هِ </span></span></span><span class=\"plain  rtl   \" ><span class=\"plain txtu ara rtl\"></span><span class=\"plain  rtl   \" ><span class=\"txtu ara\">شَىْءٌ </span></span></span><span class=\"plain  rtl   \" ><span class=\"plain txtu ara rtl\"></span><span class=\"plain  rtl   \" ><span class=\"txtu ara\">فِى </span></span></span><span class=\"plain  rtl   \" ><span class=\"plain txtu ara rtl\"></span><span class=\"plain  rtl   \" ><span class=\"txtu ara\">ٱلْ</span></span><span class=\"plain  rtl   \" ><span class=\"txtu ara\">أَرْضِ </span></span></span><span class=\"plain  rtl   \" ><span class=\"plain txtu ara rtl\"></span><span class=\"plain  rtl   \" ><span class=\"txtu ara\">وَ</span></span><span class=\"plain  rtl   \" ><span class=\"txtu ara\">لَا </span></span></span><span class=\"plain  rtl   \" ><span class=\"plain txtu ara rtl\"></span><span class=\"plain  rtl   \" ><span class=\"txtu ara\">فِى </span></span></span><span class=\"plain  rtl   \" ><span class=\"plain txtu ara rtl\"></span><span class=\"plain  rtl   \" ><span class=\"txtu ara\">ٱل</span></span><span class=\"plain  rtl   \" ><span class=\"txtu ara\">سَّمَآءِ</span></span></span></span></td><td class=\"tf\"><span class=\"plain outer rtl  \" ><span class=\"plain txtu ara rtl\"></span><span class=\"plain  rtl   \" ><span class=\"plain txtu ara rtl\"></span><span class=\"plain  rtl   \" ><span class=\"txtu ara\">رَبَّ</span></span><span class=\"plain  rtl   \" ><span class=\"txtu ara\">نَآ </span></span></span><span class=\"plain  rtl   \" ><span class=\"plain txtu ara rtl\"></span><span class=\"plain  rtl   \" ><span class=\"txtu ara\">إِنَّ</span></span><span class=\"plain  rtl   \" ><span class=\"txtu ara\">كَ </span></span></span><span class=\"plain  rtl   \" ><span class=\"plain txtu ara rtl\"></span><span class=\"plain  rtl   \" ><span class=\"txtu ara\">تَعْلَمُ </span></span></span><span class=\"plain  rtl   \" ><span class=\"plain txtu ara rtl\"></span><span class=\"plain  rtl   \" ><span class=\"txtu ara\">مَا </span></span></span><span class=\"plain  rtl   \" ><span class=\"plain txtu ara rtl\"></span><span class=\"plain  rtl   \" ><span class=\"txtu ara\">نُخْفِى </span></span></span><span class=\"plain  rtl   \" ><span class=\"plain txtu ara rtl\"></span><span class=\"plain  rtl   \" ><span class=\"txtu ara\">وَ</span></span><span class=\"plain  rtl   \" ><span class=\"txtu ara\">مَا </span></span></span><span class=\"plain  rtl   \" ><span class=\"plain txtu ara rtl\"></span><span class=\"plain  rtl   \" ><span class=\"txtu ara\">نُعْلِنُ </span></span></span><span class=\"plain  rtl   \" ><span class=\"plain txtu ara rtl\"></span><span class=\"plain  rtl   \" ><span class=\"txtu ara\">وَ</span></span><span class=\"plain  rtl   \" ><span class=\"txtu ara\">مَا </span></span></span><span class=\"plain  rtl   \" ><span class=\"plain txtu ara rtl\"></span><span class=\"plain  rtl   \" ><span class=\"txtu ara\">يَخْفَىٰ </span></span></span><span class=\"plain  rtl   \" ><span class=\"plain txtu ara rtl\"></span><span class=\"plain  rtl   \" ><span class=\"txtu ara\">عَلَى </span></span></span><span class=\"plain  rtl   \" ><span class=\"plain txtu ara rtl\"></span><span class=\"plain  rtl   \" ><span class=\"txtu ara\">ٱللَّهِ </span></span></span><span class=\"plain  rtl   \" ><span class=\"plain txtu ara rtl\"></span><span class=\"plain  rtl   \" ><span class=\"txtu ara\">مِن </span></span></span><span class=\"plain  rtl   \" ><span class=\"plain txtu ara rtl\"></span><span class=\"plain  rtl   \" ><span class=\"txtu ara\">شَىْءٍ </span></span></span><span class=\"plain  rtl   \" ><span class=\"plain txtu ara rtl\"></span><span class=\"plain  rtl   \" ><span class=\"txtu ara\">فِى </span></span></span><span class=\"plain  rtl   \" ><span class=\"plain txtu ara rtl\"></span><span class=\"plain  rtl   \" ><span class=\"txtu ara\">ٱلْ</span></span><span class=\"plain  rtl   \" ><span class=\"txtu ara\">أَرْضِ </span></span></span><span class=\"plain  rtl   \" ><span class=\"plain txtu ara rtl\"></span><span class=\"plain  rtl   \" ><span class=\"txtu ara\">وَ</span></span><span class=\"plain  rtl   \" ><span class=\"txtu ara\">لَا </span></span></span><span class=\"plain  rtl   \" ><span class=\"plain txtu ara rtl\"></span><span class=\"plain  rtl   \" ><span class=\"txtu ara\">فِى </span></span></span><span class=\"plain  rtl   \" ><span class=\"plain txtu ara rtl\"></span><span class=\"plain  rtl   \" ><span class=\"txtu ara\">ٱل</span></span><span class=\"plain  rtl   \" ><span class=\"txtu ara\">سَّمَآءِ</span></span></span></span></td></tr>\n",
       "<tr class=\"tf\"><td class=\"tf\">5</td><td class=\"tf\"><span class=\"section ltr\"><a target=\"_blank\" href=\"http://tanzil.net/#3:74\" title=\"show this passage on Tanzil\" sec=\"3:74\">3:74</a></span></td><td class=\"tf\"><span class=\"plain outer rtl  \" ><span class=\"plain txtu ara rtl\"></span><span class=\"plain  rtl   \" ><span class=\"plain txtu ara rtl\"></span><span class=\"plain  rtl   \" ><span class=\"txtu ara\">يَخْتَصُّ </span></span></span><span class=\"plain  rtl   \" ><span class=\"plain txtu ara rtl\"></span><span class=\"plain  rtl   \" ><span class=\"txtu ara\">بِ</span></span><span class=\"plain  rtl   \" ><span class=\"txtu ara\">رَحْمَتِ</span></span><span class=\"plain  rtl   \" ><span class=\"txtu ara\">هِۦ </span></span></span><span class=\"plain  rtl   \" ><span class=\"plain txtu ara rtl\"></span><span class=\"plain  rtl   \" ><span class=\"txtu ara\">مَن </span></span></span><span class=\"plain  rtl   \" ><span class=\"plain txtu ara rtl\"></span><span class=\"plain  rtl   \" ><span class=\"txtu ara\">يَشَآءُ </span></span></span><span class=\"plain  rtl   \" ><span class=\"plain txtu ara rtl\"></span><span class=\"plain  rtl   \" ><span class=\"txtu ara\">وَ</span></span><span class=\"plain  rtl   \" ><span class=\"txtu ara\">ٱللَّهُ </span></span></span><span class=\"plain  rtl   \" ><span class=\"plain txtu ara rtl\"></span><span class=\"plain  rtl   \" ><span class=\"txtu ara\">ذُو </span></span></span><span class=\"plain  rtl   \" ><span class=\"plain txtu ara rtl\"></span><span class=\"plain  rtl   \" ><span class=\"txtu ara\">ٱلْ</span></span><span class=\"plain  rtl   \" ><span class=\"txtu ara\">فَضْلِ </span></span></span><span class=\"plain  rtl   \" ><span class=\"plain txtu ara rtl\"></span><span class=\"plain  rtl   \" ><span class=\"txtu ara\">ٱلْ</span></span><span class=\"plain  rtl   \" ><span class=\"txtu ara\">عَظِيمِ</span></span></span></span></td><td class=\"tf\"><span class=\"plain outer rtl  \" ><span class=\"plain txtu ara rtl\"></span><span class=\"plain  rtl   \" ><span class=\"plain txtu ara rtl\"></span><span class=\"plain  rtl   \" ><span class=\"txtu ara\">ذَٰلِكَ </span></span></span><span class=\"plain  rtl   \" ><span class=\"plain txtu ara rtl\"></span><span class=\"plain  rtl   \" ><span class=\"txtu ara\">فَضْلُ </span></span></span><span class=\"plain  rtl   \" ><span class=\"plain txtu ara rtl\"></span><span class=\"plain  rtl   \" ><span class=\"txtu ara\">ٱللَّهِ </span></span></span><span class=\"plain  rtl   \" ><span class=\"plain txtu ara rtl\"></span><span class=\"plain  rtl   \" ><span class=\"txtu ara\">يُؤْتِي</span></span><span class=\"plain  rtl   \" ><span class=\"txtu ara\">هِ </span></span></span><span class=\"plain  rtl   \" ><span class=\"plain txtu ara rtl\"></span><span class=\"plain  rtl   \" ><span class=\"txtu ara\">مَن </span></span></span><span class=\"plain  rtl   \" ><span class=\"plain txtu ara rtl\"></span><span class=\"plain  rtl   \" ><span class=\"txtu ara\">يَشَآءُ </span></span></span><span class=\"plain  rtl   \" ><span class=\"plain txtu ara rtl\"></span><span class=\"plain  rtl   \" ><span class=\"txtu ara\">وَ</span></span><span class=\"plain  rtl   \" ><span class=\"txtu ara\">ٱللَّهُ </span></span></span><span class=\"plain  rtl   \" ><span class=\"plain txtu ara rtl\"></span><span class=\"plain  rtl   \" ><span class=\"txtu ara\">ذُو </span></span></span><span class=\"plain  rtl   \" ><span class=\"plain txtu ara rtl\"></span><span class=\"plain  rtl   \" ><span class=\"txtu ara\">ٱلْ</span></span><span class=\"plain  rtl   \" ><span class=\"txtu ara\">فَضْلِ </span></span></span><span class=\"plain  rtl   \" ><span class=\"plain txtu ara rtl\"></span><span class=\"plain  rtl   \" ><span class=\"txtu ara\">ٱلْ</span></span><span class=\"plain  rtl   \" ><span class=\"txtu ara\">عَظِيمِ</span></span></span></span></td></tr>\n",
       "<tr class=\"tf\"><td class=\"tf\">6</td><td class=\"tf\"><span class=\"section ltr\"><a target=\"_blank\" href=\"http://tanzil.net/#4:138\" title=\"show this passage on Tanzil\" sec=\"4:138\">4:138</a></span></td><td class=\"tf\"><span class=\"plain outer rtl  \" ><span class=\"plain txtu ara rtl\"></span><span class=\"plain  rtl   \" ><span class=\"plain txtu ara rtl\"></span><span class=\"plain  rtl   \" ><span class=\"txtu ara\">بَشِّرِ </span></span></span><span class=\"plain  rtl   \" ><span class=\"plain txtu ara rtl\"></span><span class=\"plain  rtl   \" ><span class=\"txtu ara\">ٱلْ</span></span><span class=\"plain  rtl   \" ><span class=\"txtu ara\">مُنَٰفِقِينَ </span></span></span><span class=\"plain  rtl   \" ><span class=\"plain txtu ara rtl\"></span><span class=\"plain  rtl   \" ><span class=\"txtu ara\">بِ</span></span><span class=\"plain  rtl   \" ><span class=\"txtu ara\">أَنَّ </span></span></span><span class=\"plain  rtl   \" ><span class=\"plain txtu ara rtl\"></span><span class=\"plain  rtl   \" ><span class=\"txtu ara\">لَ</span></span><span class=\"plain  rtl   \" ><span class=\"txtu ara\">هُمْ </span></span></span><span class=\"plain  rtl   \" ><span class=\"plain txtu ara rtl\"></span><span class=\"plain  rtl   \" ><span class=\"txtu ara\">عَذَابًا </span></span></span><span class=\"plain  rtl   \" ><span class=\"plain txtu ara rtl\"></span><span class=\"plain  rtl   \" ><span class=\"txtu ara\">أَلِيمًا</span></span></span></span></td><td class=\"tf\"><span class=\"plain outer rtl  \" ><span class=\"plain txtu ara rtl\"></span><span class=\"plain  rtl   \" ><span class=\"plain txtu ara rtl\"></span><span class=\"plain  rtl   \" ><span class=\"txtu ara\">وَ</span></span><span class=\"plain  rtl   \" ><span class=\"txtu ara\">أَنَّ </span></span></span><span class=\"plain  rtl   \" ><span class=\"plain txtu ara rtl\"></span><span class=\"plain  rtl   \" ><span class=\"txtu ara\">عَذَابِ</span></span><span class=\"plain  rtl   \" ><span class=\"txtu ara\">ى </span></span></span><span class=\"plain  rtl   \" ><span class=\"plain txtu ara rtl\"></span><span class=\"plain  rtl   \" ><span class=\"txtu ara\">هُوَ </span></span></span><span class=\"plain  rtl   \" ><span class=\"plain txtu ara rtl\"></span><span class=\"plain  rtl   \" ><span class=\"txtu ara\">ٱلْ</span></span><span class=\"plain  rtl   \" ><span class=\"txtu ara\">عَذَابُ </span></span></span><span class=\"plain  rtl   \" ><span class=\"plain txtu ara rtl\"></span><span class=\"plain  rtl   \" ><span class=\"txtu ara\">ٱلْ</span></span><span class=\"plain  rtl   \" ><span class=\"txtu ara\">أَلِيمُ</span></span></span></span></td></tr>\n",
       "<tr class=\"tf\"><td class=\"tf\">7</td><td class=\"tf\"><span class=\"section ltr\"><a target=\"_blank\" href=\"http://tanzil.net/#4:138\" title=\"show this passage on Tanzil\" sec=\"4:138\">4:138</a></span></td><td class=\"tf\"><span class=\"plain outer rtl  \" ><span class=\"plain txtu ara rtl\"></span><span class=\"plain  rtl   \" ><span class=\"plain txtu ara rtl\"></span><span class=\"plain  rtl   \" ><span class=\"txtu ara\">بَشِّرِ </span></span></span><span class=\"plain  rtl   \" ><span class=\"plain txtu ara rtl\"></span><span class=\"plain  rtl   \" ><span class=\"txtu ara\">ٱلْ</span></span><span class=\"plain  rtl   \" ><span class=\"txtu ara\">مُنَٰفِقِينَ </span></span></span><span class=\"plain  rtl   \" ><span class=\"plain txtu ara rtl\"></span><span class=\"plain  rtl   \" ><span class=\"txtu ara\">بِ</span></span><span class=\"plain  rtl   \" ><span class=\"txtu ara\">أَنَّ </span></span></span><span class=\"plain  rtl   \" ><span class=\"plain txtu ara rtl\"></span><span class=\"plain  rtl   \" ><span class=\"txtu ara\">لَ</span></span><span class=\"plain  rtl   \" ><span class=\"txtu ara\">هُمْ </span></span></span><span class=\"plain  rtl   \" ><span class=\"plain txtu ara rtl\"></span><span class=\"plain  rtl   \" ><span class=\"txtu ara\">عَذَابًا </span></span></span><span class=\"plain  rtl   \" ><span class=\"plain txtu ara rtl\"></span><span class=\"plain  rtl   \" ><span class=\"txtu ara\">أَلِيمًا</span></span></span></span></td><td class=\"tf\"><span class=\"plain outer rtl  \" ><span class=\"plain txtu ara rtl\"></span><span class=\"plain  rtl   \" ><span class=\"plain txtu ara rtl\"></span><span class=\"plain  rtl   \" ><span class=\"txtu ara\">فَ</span></span><span class=\"plain  rtl   \" ><span class=\"txtu ara\">بَشِّرْ</span></span><span class=\"plain  rtl   \" ><span class=\"txtu ara\">هُم </span></span></span><span class=\"plain  rtl   \" ><span class=\"plain txtu ara rtl\"></span><span class=\"plain  rtl   \" ><span class=\"txtu ara\">بِ</span></span><span class=\"plain  rtl   \" ><span class=\"txtu ara\">عَذَابٍ </span></span></span><span class=\"plain  rtl   \" ><span class=\"plain txtu ara rtl\"></span><span class=\"plain  rtl   \" ><span class=\"txtu ara\">أَلِيمٍ</span></span></span></span></td></tr>\n",
       "<tr class=\"tf\"><td class=\"tf\">8</td><td class=\"tf\"><span class=\"section ltr\"><a target=\"_blank\" href=\"http://tanzil.net/#5:10\" title=\"show this passage on Tanzil\" sec=\"5:10\">5:10</a></span></td><td class=\"tf\"><span class=\"plain outer rtl  \" ><span class=\"plain txtu ara rtl\"></span><span class=\"plain  rtl   \" ><span class=\"plain txtu ara rtl\"></span><span class=\"plain  rtl   \" ><span class=\"txtu ara\">وَ</span></span><span class=\"plain  rtl   \" ><span class=\"txtu ara\">ٱلَّذِينَ </span></span></span><span class=\"plain  rtl   \" ><span class=\"plain txtu ara rtl\"></span><span class=\"plain  rtl   \" ><span class=\"txtu ara\">كَفَرُ</span></span><span class=\"plain  rtl   \" ><span class=\"txtu ara\">وا۟ </span></span></span><span class=\"plain  rtl   \" ><span class=\"plain txtu ara rtl\"></span><span class=\"plain  rtl   \" ><span class=\"txtu ara\">وَ</span></span><span class=\"plain  rtl   \" ><span class=\"txtu ara\">كَذَّبُ</span></span><span class=\"plain  rtl   \" ><span class=\"txtu ara\">وا۟ </span></span></span><span class=\"plain  rtl   \" ><span class=\"plain txtu ara rtl\"></span><span class=\"plain  rtl   \" ><span class=\"txtu ara\">بِ</span></span><span class=\"plain  rtl   \" ><span class=\"txtu ara\">ـَٔايَٰتِ</span></span><span class=\"plain  rtl   \" ><span class=\"txtu ara\">نَآ </span></span></span><span class=\"plain  rtl   \" ><span class=\"plain txtu ara rtl\"></span><span class=\"plain  rtl   \" ><span class=\"txtu ara\">أُو۟لَٰٓئِكَ </span></span></span><span class=\"plain  rtl   \" ><span class=\"plain txtu ara rtl\"></span><span class=\"plain  rtl   \" ><span class=\"txtu ara\">أَصْحَٰبُ </span></span></span><span class=\"plain  rtl   \" ><span class=\"plain txtu ara rtl\"></span><span class=\"plain  rtl   \" ><span class=\"txtu ara\">ٱلْ</span></span><span class=\"plain  rtl   \" ><span class=\"txtu ara\">جَحِيمِ</span></span></span></span></td><td class=\"tf\"><span class=\"plain outer rtl  \" ><span class=\"plain txtu ara rtl\"></span><span class=\"plain  rtl   \" ><span class=\"plain txtu ara rtl\"></span><span class=\"plain  rtl   \" ><span class=\"txtu ara\">وَ</span></span><span class=\"plain  rtl   \" ><span class=\"txtu ara\">ٱلَّذِينَ </span></span></span><span class=\"plain  rtl   \" ><span class=\"plain txtu ara rtl\"></span><span class=\"plain  rtl   \" ><span class=\"txtu ara\">كَفَرُ</span></span><span class=\"plain  rtl   \" ><span class=\"txtu ara\">وا۟ </span></span></span><span class=\"plain  rtl   \" ><span class=\"plain txtu ara rtl\"></span><span class=\"plain  rtl   \" ><span class=\"txtu ara\">وَ</span></span><span class=\"plain  rtl   \" ><span class=\"txtu ara\">كَذَّبُ</span></span><span class=\"plain  rtl   \" ><span class=\"txtu ara\">وا۟ </span></span></span><span class=\"plain  rtl   \" ><span class=\"plain txtu ara rtl\"></span><span class=\"plain  rtl   \" ><span class=\"txtu ara\">بِ</span></span><span class=\"plain  rtl   \" ><span class=\"txtu ara\">ـَٔايَٰتِ</span></span><span class=\"plain  rtl   \" ><span class=\"txtu ara\">نَآ </span></span></span><span class=\"plain  rtl   \" ><span class=\"plain txtu ara rtl\"></span><span class=\"plain  rtl   \" ><span class=\"txtu ara\">أُو۟لَٰٓئِكَ </span></span></span><span class=\"plain  rtl   \" ><span class=\"plain txtu ara rtl\"></span><span class=\"plain  rtl   \" ><span class=\"txtu ara\">أَصْحَٰبُ </span></span></span><span class=\"plain  rtl   \" ><span class=\"plain txtu ara rtl\"></span><span class=\"plain  rtl   \" ><span class=\"txtu ara\">ٱل</span></span><span class=\"plain  rtl   \" ><span class=\"txtu ara\">نَّارِ </span></span></span><span class=\"plain  rtl   \" ><span class=\"plain txtu ara rtl\"></span><span class=\"plain  rtl   \" ><span class=\"txtu ara\">هُمْ </span></span></span><span class=\"plain  rtl   \" ><span class=\"plain txtu ara rtl\"></span><span class=\"plain  rtl   \" ><span class=\"txtu ara\">فِي</span></span><span class=\"plain  rtl   \" ><span class=\"txtu ara\">هَا </span></span></span><span class=\"plain  rtl   \" ><span class=\"plain txtu ara rtl\"></span><span class=\"plain  rtl   \" ><span class=\"txtu ara\">خَٰلِدُونَ</span></span></span></span></td></tr>\n",
       "<tr class=\"tf\"><td class=\"tf\">9</td><td class=\"tf\"><span class=\"section ltr\"><a target=\"_blank\" href=\"http://tanzil.net/#5:86\" title=\"show this passage on Tanzil\" sec=\"5:86\">5:86</a></span></td><td class=\"tf\"><span class=\"plain outer rtl  \" ><span class=\"plain txtu ara rtl\"></span><span class=\"plain  rtl   \" ><span class=\"plain txtu ara rtl\"></span><span class=\"plain  rtl   \" ><span class=\"txtu ara\">وَ</span></span><span class=\"plain  rtl   \" ><span class=\"txtu ara\">ٱلَّذِينَ </span></span></span><span class=\"plain  rtl   \" ><span class=\"plain txtu ara rtl\"></span><span class=\"plain  rtl   \" ><span class=\"txtu ara\">كَفَرُ</span></span><span class=\"plain  rtl   \" ><span class=\"txtu ara\">وا۟ </span></span></span><span class=\"plain  rtl   \" ><span class=\"plain txtu ara rtl\"></span><span class=\"plain  rtl   \" ><span class=\"txtu ara\">وَ</span></span><span class=\"plain  rtl   \" ><span class=\"txtu ara\">كَذَّبُ</span></span><span class=\"plain  rtl   \" ><span class=\"txtu ara\">وا۟ </span></span></span><span class=\"plain  rtl   \" ><span class=\"plain txtu ara rtl\"></span><span class=\"plain  rtl   \" ><span class=\"txtu ara\">بِ</span></span><span class=\"plain  rtl   \" ><span class=\"txtu ara\">ـَٔايَٰتِ</span></span><span class=\"plain  rtl   \" ><span class=\"txtu ara\">نَآ </span></span></span><span class=\"plain  rtl   \" ><span class=\"plain txtu ara rtl\"></span><span class=\"plain  rtl   \" ><span class=\"txtu ara\">أُو۟لَٰٓئِكَ </span></span></span><span class=\"plain  rtl   \" ><span class=\"plain txtu ara rtl\"></span><span class=\"plain  rtl   \" ><span class=\"txtu ara\">أَصْحَٰبُ </span></span></span><span class=\"plain  rtl   \" ><span class=\"plain txtu ara rtl\"></span><span class=\"plain  rtl   \" ><span class=\"txtu ara\">ٱلْ</span></span><span class=\"plain  rtl   \" ><span class=\"txtu ara\">جَحِيمِ</span></span></span></span></td><td class=\"tf\"><span class=\"plain outer rtl  \" ><span class=\"plain txtu ara rtl\"></span><span class=\"plain  rtl   \" ><span class=\"plain txtu ara rtl\"></span><span class=\"plain  rtl   \" ><span class=\"txtu ara\">وَ</span></span><span class=\"plain  rtl   \" ><span class=\"txtu ara\">ٱلَّذِينَ </span></span></span><span class=\"plain  rtl   \" ><span class=\"plain txtu ara rtl\"></span><span class=\"plain  rtl   \" ><span class=\"txtu ara\">كَفَرُ</span></span><span class=\"plain  rtl   \" ><span class=\"txtu ara\">وا۟ </span></span></span><span class=\"plain  rtl   \" ><span class=\"plain txtu ara rtl\"></span><span class=\"plain  rtl   \" ><span class=\"txtu ara\">وَ</span></span><span class=\"plain  rtl   \" ><span class=\"txtu ara\">كَذَّبُ</span></span><span class=\"plain  rtl   \" ><span class=\"txtu ara\">وا۟ </span></span></span><span class=\"plain  rtl   \" ><span class=\"plain txtu ara rtl\"></span><span class=\"plain  rtl   \" ><span class=\"txtu ara\">بِ</span></span><span class=\"plain  rtl   \" ><span class=\"txtu ara\">ـَٔايَٰتِ</span></span><span class=\"plain  rtl   \" ><span class=\"txtu ara\">نَآ </span></span></span><span class=\"plain  rtl   \" ><span class=\"plain txtu ara rtl\"></span><span class=\"plain  rtl   \" ><span class=\"txtu ara\">أُو۟لَٰٓئِكَ </span></span></span><span class=\"plain  rtl   \" ><span class=\"plain txtu ara rtl\"></span><span class=\"plain  rtl   \" ><span class=\"txtu ara\">أَصْحَٰبُ </span></span></span><span class=\"plain  rtl   \" ><span class=\"plain txtu ara rtl\"></span><span class=\"plain  rtl   \" ><span class=\"txtu ara\">ٱل</span></span><span class=\"plain  rtl   \" ><span class=\"txtu ara\">نَّارِ </span></span></span><span class=\"plain  rtl   \" ><span class=\"plain txtu ara rtl\"></span><span class=\"plain  rtl   \" ><span class=\"txtu ara\">هُمْ </span></span></span><span class=\"plain  rtl   \" ><span class=\"plain txtu ara rtl\"></span><span class=\"plain  rtl   \" ><span class=\"txtu ara\">فِي</span></span><span class=\"plain  rtl   \" ><span class=\"txtu ara\">هَا </span></span></span><span class=\"plain  rtl   \" ><span class=\"plain txtu ara rtl\"></span><span class=\"plain  rtl   \" ><span class=\"txtu ara\">خَٰلِدُونَ</span></span></span></span></td></tr>\n",
       "<tr class=\"tf\"><td class=\"tf\">10</td><td class=\"tf\"><span class=\"section ltr\"><a target=\"_blank\" href=\"http://tanzil.net/#6:30\" title=\"show this passage on Tanzil\" sec=\"6:30\">6:30</a></span></td><td class=\"tf\"><span class=\"plain outer rtl  \" ><span class=\"plain txtu ara rtl\"></span><span class=\"plain  rtl   \" ><span class=\"plain txtu ara rtl\"></span><span class=\"plain  rtl   \" ><span class=\"txtu ara\">وَ</span></span><span class=\"plain  rtl   \" ><span class=\"txtu ara\">لَوْ </span></span></span><span class=\"plain  rtl   \" ><span class=\"plain txtu ara rtl\"></span><span class=\"plain  rtl   \" ><span class=\"txtu ara\">تَرَىٰٓ </span></span></span><span class=\"plain  rtl   \" ><span class=\"plain txtu ara rtl\"></span><span class=\"plain  rtl   \" ><span class=\"txtu ara\">إِذْ </span></span></span><span class=\"plain  rtl   \" ><span class=\"plain txtu ara rtl\"></span><span class=\"plain  rtl   \" ><span class=\"txtu ara\">وُقِفُ</span></span><span class=\"plain  rtl   \" ><span class=\"txtu ara\">وا۟ </span></span></span><span class=\"plain  rtl   \" ><span class=\"plain txtu ara rtl\"></span><span class=\"plain  rtl   \" ><span class=\"txtu ara\">عَلَىٰ </span></span></span><span class=\"plain  rtl   \" ><span class=\"plain txtu ara rtl\"></span><span class=\"plain  rtl   \" ><span class=\"txtu ara\">رَبِّ</span></span><span class=\"plain  rtl   \" ><span class=\"txtu ara\">هِمْ </span></span></span><span class=\"plain  rtl   \" ><span class=\"plain txtu ara rtl\"></span><span class=\"plain  rtl   \" ><span class=\"txtu ara\">قَالَ </span></span></span><span class=\"plain  rtl   \" ><span class=\"plain txtu ara rtl\"></span><span class=\"plain  rtl   \" ><span class=\"txtu ara\">أَ</span></span><span class=\"plain  rtl   \" ><span class=\"txtu ara\">لَيْسَ </span></span></span><span class=\"plain  rtl   \" ><span class=\"plain txtu ara rtl\"></span><span class=\"plain  rtl   \" ><span class=\"txtu ara\">هَٰذَا </span></span></span><span class=\"plain  rtl   \" ><span class=\"plain txtu ara rtl\"></span><span class=\"plain  rtl   \" ><span class=\"txtu ara\">بِ</span></span><span class=\"plain  rtl   \" ><span class=\"txtu ara\">ٱلْ</span></span><span class=\"plain  rtl   \" ><span class=\"txtu ara\">حَقِّ </span></span></span><span class=\"plain  rtl   \" ><span class=\"plain txtu ara rtl\"></span><span class=\"plain  rtl   \" ><span class=\"txtu ara\">قَالُ</span></span><span class=\"plain  rtl   \" ><span class=\"txtu ara\">وا۟ </span></span></span><span class=\"plain  rtl   \" ><span class=\"plain txtu ara rtl\"></span><span class=\"plain  rtl   \" ><span class=\"txtu ara\">بَلَىٰ </span></span></span><span class=\"plain  rtl   \" ><span class=\"plain txtu ara rtl\"></span><span class=\"plain  rtl   \" ><span class=\"txtu ara\">وَ</span></span><span class=\"plain  rtl   \" ><span class=\"txtu ara\">رَبِّ</span></span><span class=\"plain  rtl   \" ><span class=\"txtu ara\">نَا </span></span></span><span class=\"plain  rtl   \" ><span class=\"plain txtu ara rtl\"></span><span class=\"plain  rtl   \" ><span class=\"txtu ara\">قَالَ </span></span></span><span class=\"plain  rtl   \" ><span class=\"plain txtu ara rtl\"></span><span class=\"plain  rtl   \" ><span class=\"txtu ara\">فَ</span></span><span class=\"plain  rtl   \" ><span class=\"txtu ara\">ذُوقُ</span></span><span class=\"plain  rtl   \" ><span class=\"txtu ara\">وا۟ </span></span></span><span class=\"plain  rtl   \" ><span class=\"plain txtu ara rtl\"></span><span class=\"plain  rtl   \" ><span class=\"txtu ara\">ٱلْ</span></span><span class=\"plain  rtl   \" ><span class=\"txtu ara\">عَذَابَ </span></span></span><span class=\"plain  rtl   \" ><span class=\"plain txtu ara rtl\"></span><span class=\"plain  rtl   \" ><span class=\"txtu ara\">بِ</span></span><span class=\"plain  rtl   \" ><span class=\"txtu ara\">مَا </span></span></span><span class=\"plain  rtl   \" ><span class=\"plain txtu ara rtl\"></span><span class=\"plain  rtl   \" ><span class=\"txtu ara\">كُن</span></span><span class=\"plain  rtl   \" ><span class=\"txtu ara\">تُمْ </span></span></span><span class=\"plain  rtl   \" ><span class=\"plain txtu ara rtl\"></span><span class=\"plain  rtl   \" ><span class=\"txtu ara\">تَكْفُرُ</span></span><span class=\"plain  rtl   \" ><span class=\"txtu ara\">ونَ</span></span></span></span></td><td class=\"tf\"><span class=\"plain outer rtl  \" ><span class=\"plain txtu ara rtl\"></span><span class=\"plain  rtl   \" ><span class=\"plain txtu ara rtl\"></span><span class=\"plain  rtl   \" ><span class=\"txtu ara\">وَ</span></span><span class=\"plain  rtl   \" ><span class=\"txtu ara\">يَوْمَ </span></span></span><span class=\"plain  rtl   \" ><span class=\"plain txtu ara rtl\"></span><span class=\"plain  rtl   \" ><span class=\"txtu ara\">يُعْرَضُ </span></span></span><span class=\"plain  rtl   \" ><span class=\"plain txtu ara rtl\"></span><span class=\"plain  rtl   \" ><span class=\"txtu ara\">ٱلَّذِينَ </span></span></span><span class=\"plain  rtl   \" ><span class=\"plain txtu ara rtl\"></span><span class=\"plain  rtl   \" ><span class=\"txtu ara\">كَفَرُ</span></span><span class=\"plain  rtl   \" ><span class=\"txtu ara\">وا۟ </span></span></span><span class=\"plain  rtl   \" ><span class=\"plain txtu ara rtl\"></span><span class=\"plain  rtl   \" ><span class=\"txtu ara\">عَلَى </span></span></span><span class=\"plain  rtl   \" ><span class=\"plain txtu ara rtl\"></span><span class=\"plain  rtl   \" ><span class=\"txtu ara\">ٱل</span></span><span class=\"plain  rtl   \" ><span class=\"txtu ara\">نَّارِ </span></span></span><span class=\"plain  rtl   \" ><span class=\"plain txtu ara rtl\"></span><span class=\"plain  rtl   \" ><span class=\"txtu ara\">أَ</span></span><span class=\"plain  rtl   \" ><span class=\"txtu ara\">لَيْسَ </span></span></span><span class=\"plain  rtl   \" ><span class=\"plain txtu ara rtl\"></span><span class=\"plain  rtl   \" ><span class=\"txtu ara\">هَٰذَا </span></span></span><span class=\"plain  rtl   \" ><span class=\"plain txtu ara rtl\"></span><span class=\"plain  rtl   \" ><span class=\"txtu ara\">بِ</span></span><span class=\"plain  rtl   \" ><span class=\"txtu ara\">ٱلْ</span></span><span class=\"plain  rtl   \" ><span class=\"txtu ara\">حَقِّ </span></span></span><span class=\"plain  rtl   \" ><span class=\"plain txtu ara rtl\"></span><span class=\"plain  rtl   \" ><span class=\"txtu ara\">قَالُ</span></span><span class=\"plain  rtl   \" ><span class=\"txtu ara\">وا۟ </span></span></span><span class=\"plain  rtl   \" ><span class=\"plain txtu ara rtl\"></span><span class=\"plain  rtl   \" ><span class=\"txtu ara\">بَلَىٰ </span></span></span><span class=\"plain  rtl   \" ><span class=\"plain txtu ara rtl\"></span><span class=\"plain  rtl   \" ><span class=\"txtu ara\">وَ</span></span><span class=\"plain  rtl   \" ><span class=\"txtu ara\">رَبِّ</span></span><span class=\"plain  rtl   \" ><span class=\"txtu ara\">نَا </span></span></span><span class=\"plain  rtl   \" ><span class=\"plain txtu ara rtl\"></span><span class=\"plain  rtl   \" ><span class=\"txtu ara\">قَالَ </span></span></span><span class=\"plain  rtl   \" ><span class=\"plain txtu ara rtl\"></span><span class=\"plain  rtl   \" ><span class=\"txtu ara\">فَ</span></span><span class=\"plain  rtl   \" ><span class=\"txtu ara\">ذُوقُ</span></span><span class=\"plain  rtl   \" ><span class=\"txtu ara\">وا۟ </span></span></span><span class=\"plain  rtl   \" ><span class=\"plain txtu ara rtl\"></span><span class=\"plain  rtl   \" ><span class=\"txtu ara\">ٱلْ</span></span><span class=\"plain  rtl   \" ><span class=\"txtu ara\">عَذَابَ </span></span></span><span class=\"plain  rtl   \" ><span class=\"plain txtu ara rtl\"></span><span class=\"plain  rtl   \" ><span class=\"txtu ara\">بِ</span></span><span class=\"plain  rtl   \" ><span class=\"txtu ara\">مَا </span></span></span><span class=\"plain  rtl   \" ><span class=\"plain txtu ara rtl\"></span><span class=\"plain  rtl   \" ><span class=\"txtu ara\">كُن</span></span><span class=\"plain  rtl   \" ><span class=\"txtu ara\">تُمْ </span></span></span><span class=\"plain  rtl   \" ><span class=\"plain txtu ara rtl\"></span><span class=\"plain  rtl   \" ><span class=\"txtu ara\">تَكْفُرُ</span></span><span class=\"plain  rtl   \" ><span class=\"txtu ara\">ونَ</span></span></span></span></td></tr></table>"
      ],
      "text/plain": [
       "<IPython.core.display.HTML object>"
      ]
     },
     "metadata": {},
     "output_type": "display_data"
    }
   ],
   "source": [
    "A.table(results, start=1, end=10)"
   ]
  },
  {
   "cell_type": "markdown",
   "metadata": {},
   "source": [
    "Or in lemma transcription:"
   ]
  },
  {
   "cell_type": "code",
   "execution_count": 13,
   "metadata": {},
   "outputs": [
    {
     "data": {
      "text/html": [
       "<table><tr class=\"tf\"><th class=\"tf\">n</th><th class=\"tf\">aya</th><th class=\"tf\">aya</th></tr>\n",
       "<tr class=\"tf\"><td class=\"tf\">1</td><td class=\"tf\"><span class=\"section ltr\"><a target=\"_blank\" href=\"http://tanzil.net/#2:39\" title=\"show this passage on Tanzil\" sec=\"2:39\">2:39</a> </span> <span class=\"plain outer ltr  \" ><span class=\"plain txtt ltr\"></span><span class=\"plain  ltr   \" ><span class=\"plain txtt ltr\"></span><span class=\"plain  ltr   \" ><span class=\"txtt\"></span></span><span class=\"plain  ltr   \" ><span class=\"txtt\">{l~a*iY </span></span></span><span class=\"plain  ltr   \" ><span class=\"plain txtt ltr\"></span><span class=\"plain  ltr   \" ><span class=\"txtt\">kafara</span></span><span class=\"plain  ltr   \" ><span class=\"txtt\"> </span></span></span><span class=\"plain  ltr   \" ><span class=\"plain txtt ltr\"></span><span class=\"plain  ltr   \" ><span class=\"txtt\"></span></span><span class=\"plain  ltr   \" ><span class=\"txtt\">ka*~aba</span></span><span class=\"plain  ltr   \" ><span class=\"txtt\"> </span></span></span><span class=\"plain  ltr   \" ><span class=\"plain txtt ltr\"></span><span class=\"plain  ltr   \" ><span class=\"txtt\"></span></span><span class=\"plain  ltr   \" ><span class=\"txtt\">'aAyap</span></span><span class=\"plain  ltr   \" ><span class=\"txtt\"> </span></span></span><span class=\"plain  ltr   \" ><span class=\"plain txtt ltr\"></span><span class=\"plain  ltr   \" ><span class=\"txtt\">>uwla`^}ik </span></span></span><span class=\"plain  ltr   \" ><span class=\"plain txtt ltr\"></span><span class=\"plain  ltr   \" ><span class=\"txtt\">>aSoHa`b </span></span></span><span class=\"plain  ltr   \" ><span class=\"plain txtt ltr\"></span><span class=\"plain  ltr   \" ><span class=\"txtt\"></span></span><span class=\"plain  ltr   \" ><span class=\"txtt\">naAr </span></span></span><span class=\"plain  ltr   \" ><span class=\"plain txtt ltr\"></span><span class=\"plain  ltr   \" ><span class=\"txtt\"> </span></span></span><span class=\"plain  ltr   \" ><span class=\"plain txtt ltr\"></span><span class=\"plain  ltr   \" ><span class=\"txtt\">fiY</span></span><span class=\"plain  ltr   \" ><span class=\"txtt\"> </span></span></span><span class=\"plain  ltr   \" ><span class=\"plain txtt ltr\"></span><span class=\"plain  ltr   \" ><span class=\"txtt\">xa`lid</span></span></span></span></td><td class=\"tf\"><span class=\"section ltr\"><a target=\"_blank\" href=\"http://tanzil.net/#5:10\" title=\"show this passage on Tanzil\" sec=\"5:10\">5:10</a> </span> <span class=\"plain outer ltr  \" ><span class=\"plain txtt ltr\"></span><span class=\"plain  ltr   \" ><span class=\"plain txtt ltr\"></span><span class=\"plain  ltr   \" ><span class=\"txtt\"></span></span><span class=\"plain  ltr   \" ><span class=\"txtt\">{l~a*iY </span></span></span><span class=\"plain  ltr   \" ><span class=\"plain txtt ltr\"></span><span class=\"plain  ltr   \" ><span class=\"txtt\">kafara</span></span><span class=\"plain  ltr   \" ><span class=\"txtt\"> </span></span></span><span class=\"plain  ltr   \" ><span class=\"plain txtt ltr\"></span><span class=\"plain  ltr   \" ><span class=\"txtt\"></span></span><span class=\"plain  ltr   \" ><span class=\"txtt\">ka*~aba</span></span><span class=\"plain  ltr   \" ><span class=\"txtt\"> </span></span></span><span class=\"plain  ltr   \" ><span class=\"plain txtt ltr\"></span><span class=\"plain  ltr   \" ><span class=\"txtt\"></span></span><span class=\"plain  ltr   \" ><span class=\"txtt\">'aAyap</span></span><span class=\"plain  ltr   \" ><span class=\"txtt\"> </span></span></span><span class=\"plain  ltr   \" ><span class=\"plain txtt ltr\"></span><span class=\"plain  ltr   \" ><span class=\"txtt\">>uwla`^}ik </span></span></span><span class=\"plain  ltr   \" ><span class=\"plain txtt ltr\"></span><span class=\"plain  ltr   \" ><span class=\"txtt\">>aSoHa`b </span></span></span><span class=\"plain  ltr   \" ><span class=\"plain txtt ltr\"></span><span class=\"plain  ltr   \" ><span class=\"txtt\"></span></span><span class=\"plain  ltr   \" ><span class=\"txtt\">jaHiym</span></span></span></span></td></tr>\n",
       "<tr class=\"tf\"><td class=\"tf\">2</td><td class=\"tf\"><span class=\"section ltr\"><a target=\"_blank\" href=\"http://tanzil.net/#2:39\" title=\"show this passage on Tanzil\" sec=\"2:39\">2:39</a> </span> <span class=\"plain outer ltr  \" ><span class=\"plain txtt ltr\"></span><span class=\"plain  ltr   \" ><span class=\"plain txtt ltr\"></span><span class=\"plain  ltr   \" ><span class=\"txtt\"></span></span><span class=\"plain  ltr   \" ><span class=\"txtt\">{l~a*iY </span></span></span><span class=\"plain  ltr   \" ><span class=\"plain txtt ltr\"></span><span class=\"plain  ltr   \" ><span class=\"txtt\">kafara</span></span><span class=\"plain  ltr   \" ><span class=\"txtt\"> </span></span></span><span class=\"plain  ltr   \" ><span class=\"plain txtt ltr\"></span><span class=\"plain  ltr   \" ><span class=\"txtt\"></span></span><span class=\"plain  ltr   \" ><span class=\"txtt\">ka*~aba</span></span><span class=\"plain  ltr   \" ><span class=\"txtt\"> </span></span></span><span class=\"plain  ltr   \" ><span class=\"plain txtt ltr\"></span><span class=\"plain  ltr   \" ><span class=\"txtt\"></span></span><span class=\"plain  ltr   \" ><span class=\"txtt\">'aAyap</span></span><span class=\"plain  ltr   \" ><span class=\"txtt\"> </span></span></span><span class=\"plain  ltr   \" ><span class=\"plain txtt ltr\"></span><span class=\"plain  ltr   \" ><span class=\"txtt\">>uwla`^}ik </span></span></span><span class=\"plain  ltr   \" ><span class=\"plain txtt ltr\"></span><span class=\"plain  ltr   \" ><span class=\"txtt\">>aSoHa`b </span></span></span><span class=\"plain  ltr   \" ><span class=\"plain txtt ltr\"></span><span class=\"plain  ltr   \" ><span class=\"txtt\"></span></span><span class=\"plain  ltr   \" ><span class=\"txtt\">naAr </span></span></span><span class=\"plain  ltr   \" ><span class=\"plain txtt ltr\"></span><span class=\"plain  ltr   \" ><span class=\"txtt\"> </span></span></span><span class=\"plain  ltr   \" ><span class=\"plain txtt ltr\"></span><span class=\"plain  ltr   \" ><span class=\"txtt\">fiY</span></span><span class=\"plain  ltr   \" ><span class=\"txtt\"> </span></span></span><span class=\"plain  ltr   \" ><span class=\"plain txtt ltr\"></span><span class=\"plain  ltr   \" ><span class=\"txtt\">xa`lid</span></span></span></span></td><td class=\"tf\"><span class=\"section ltr\"><a target=\"_blank\" href=\"http://tanzil.net/#5:86\" title=\"show this passage on Tanzil\" sec=\"5:86\">5:86</a> </span> <span class=\"plain outer ltr  \" ><span class=\"plain txtt ltr\"></span><span class=\"plain  ltr   \" ><span class=\"plain txtt ltr\"></span><span class=\"plain  ltr   \" ><span class=\"txtt\"></span></span><span class=\"plain  ltr   \" ><span class=\"txtt\">{l~a*iY </span></span></span><span class=\"plain  ltr   \" ><span class=\"plain txtt ltr\"></span><span class=\"plain  ltr   \" ><span class=\"txtt\">kafara</span></span><span class=\"plain  ltr   \" ><span class=\"txtt\"> </span></span></span><span class=\"plain  ltr   \" ><span class=\"plain txtt ltr\"></span><span class=\"plain  ltr   \" ><span class=\"txtt\"></span></span><span class=\"plain  ltr   \" ><span class=\"txtt\">ka*~aba</span></span><span class=\"plain  ltr   \" ><span class=\"txtt\"> </span></span></span><span class=\"plain  ltr   \" ><span class=\"plain txtt ltr\"></span><span class=\"plain  ltr   \" ><span class=\"txtt\"></span></span><span class=\"plain  ltr   \" ><span class=\"txtt\">'aAyap</span></span><span class=\"plain  ltr   \" ><span class=\"txtt\"> </span></span></span><span class=\"plain  ltr   \" ><span class=\"plain txtt ltr\"></span><span class=\"plain  ltr   \" ><span class=\"txtt\">>uwla`^}ik </span></span></span><span class=\"plain  ltr   \" ><span class=\"plain txtt ltr\"></span><span class=\"plain  ltr   \" ><span class=\"txtt\">>aSoHa`b </span></span></span><span class=\"plain  ltr   \" ><span class=\"plain txtt ltr\"></span><span class=\"plain  ltr   \" ><span class=\"txtt\"></span></span><span class=\"plain  ltr   \" ><span class=\"txtt\">jaHiym</span></span></span></span></td></tr>\n",
       "<tr class=\"tf\"><td class=\"tf\">3</td><td class=\"tf\"><span class=\"section ltr\"><a target=\"_blank\" href=\"http://tanzil.net/#2:107\" title=\"show this passage on Tanzil\" sec=\"2:107\">2:107</a> </span> <span class=\"plain outer ltr  \" ><span class=\"plain txtt ltr\"></span><span class=\"plain  ltr   \" ><span class=\"plain txtt ltr\"></span><span class=\"plain  ltr   \" ><span class=\"txtt\"></span></span><span class=\"plain  ltr   \" ><span class=\"txtt\">lam </span></span></span><span class=\"plain  ltr   \" ><span class=\"plain txtt ltr\"></span><span class=\"plain  ltr   \" ><span class=\"txtt\">Ealima </span></span></span><span class=\"plain  ltr   \" ><span class=\"plain txtt ltr\"></span><span class=\"plain  ltr   \" ><span class=\"txtt\">>an~ </span></span></span><span class=\"plain  ltr   \" ><span class=\"plain txtt ltr\"></span><span class=\"plain  ltr   \" ><span class=\"txtt\">{ll~ah </span></span></span><span class=\"plain  ltr   \" ><span class=\"plain txtt ltr\"></span><span class=\"plain  ltr   \" ><span class=\"txtt\"></span></span><span class=\"plain  ltr   \" ><span class=\"txtt\"> </span></span></span><span class=\"plain  ltr   \" ><span class=\"plain txtt ltr\"></span><span class=\"plain  ltr   \" ><span class=\"txtt\">mulok </span></span></span><span class=\"plain  ltr   \" ><span class=\"plain txtt ltr\"></span><span class=\"plain  ltr   \" ><span class=\"txtt\"></span></span><span class=\"plain  ltr   \" ><span class=\"txtt\">samaA^' </span></span></span><span class=\"plain  ltr   \" ><span class=\"plain txtt ltr\"></span><span class=\"plain  ltr   \" ><span class=\"txtt\"></span></span><span class=\"plain  ltr   \" ><span class=\"txtt\"></span></span><span class=\"plain  ltr   \" ><span class=\"txtt\">>aroD </span></span></span><span class=\"plain  ltr   \" ><span class=\"plain txtt ltr\"></span><span class=\"plain  ltr   \" ><span class=\"txtt\"></span></span><span class=\"plain  ltr   \" ><span class=\"txtt\">maA </span></span></span><span class=\"plain  ltr   \" ><span class=\"plain txtt ltr\"></span><span class=\"plain  ltr   \" ><span class=\"txtt\"></span></span><span class=\"plain  ltr   \" ><span class=\"txtt\"> </span></span></span><span class=\"plain  ltr   \" ><span class=\"plain txtt ltr\"></span><span class=\"plain  ltr   \" ><span class=\"txtt\">min </span></span></span><span class=\"plain  ltr   \" ><span class=\"plain txtt ltr\"></span><span class=\"plain  ltr   \" ><span class=\"txtt\">duwn </span></span></span><span class=\"plain  ltr   \" ><span class=\"plain txtt ltr\"></span><span class=\"plain  ltr   \" ><span class=\"txtt\">{ll~ah </span></span></span><span class=\"plain  ltr   \" ><span class=\"plain txtt ltr\"></span><span class=\"plain  ltr   \" ><span class=\"txtt\">min </span></span></span><span class=\"plain  ltr   \" ><span class=\"plain txtt ltr\"></span><span class=\"plain  ltr   \" ><span class=\"txtt\">waliY~ </span></span></span><span class=\"plain  ltr   \" ><span class=\"plain txtt ltr\"></span><span class=\"plain  ltr   \" ><span class=\"txtt\"></span></span><span class=\"plain  ltr   \" ><span class=\"txtt\">laA </span></span></span><span class=\"plain  ltr   \" ><span class=\"plain txtt ltr\"></span><span class=\"plain  ltr   \" ><span class=\"txtt\">naSiyr</span></span></span></span></td><td class=\"tf\"><span class=\"section ltr\"><a target=\"_blank\" href=\"http://tanzil.net/#29:22\" title=\"show this passage on Tanzil\" sec=\"29:22\">29:22</a> </span> <span class=\"plain outer ltr  \" ><span class=\"plain txtt ltr\"></span><span class=\"plain  ltr   \" ><span class=\"plain txtt ltr\"></span><span class=\"plain  ltr   \" ><span class=\"txtt\"></span></span><span class=\"plain  ltr   \" ><span class=\"txtt\">maA </span></span></span><span class=\"plain  ltr   \" ><span class=\"plain txtt ltr\"></span><span class=\"plain  ltr   \" ><span class=\"txtt\"> </span></span></span><span class=\"plain  ltr   \" ><span class=\"plain txtt ltr\"></span><span class=\"plain  ltr   \" ><span class=\"txtt\"></span></span><span class=\"plain  ltr   \" ><span class=\"txtt\">muEojiz </span></span></span><span class=\"plain  ltr   \" ><span class=\"plain txtt ltr\"></span><span class=\"plain  ltr   \" ><span class=\"txtt\">fiY </span></span></span><span class=\"plain  ltr   \" ><span class=\"plain txtt ltr\"></span><span class=\"plain  ltr   \" ><span class=\"txtt\"></span></span><span class=\"plain  ltr   \" ><span class=\"txtt\">>aroD </span></span></span><span class=\"plain  ltr   \" ><span class=\"plain txtt ltr\"></span><span class=\"plain  ltr   \" ><span class=\"txtt\"></span></span><span class=\"plain  ltr   \" ><span class=\"txtt\">laA </span></span></span><span class=\"plain  ltr   \" ><span class=\"plain txtt ltr\"></span><span class=\"plain  ltr   \" ><span class=\"txtt\">fiY </span></span></span><span class=\"plain  ltr   \" ><span class=\"plain txtt ltr\"></span><span class=\"plain  ltr   \" ><span class=\"txtt\"></span></span><span class=\"plain  ltr   \" ><span class=\"txtt\">samaA^' </span></span></span><span class=\"plain  ltr   \" ><span class=\"plain txtt ltr\"></span><span class=\"plain  ltr   \" ><span class=\"txtt\"></span></span><span class=\"plain  ltr   \" ><span class=\"txtt\">maA </span></span></span><span class=\"plain  ltr   \" ><span class=\"plain txtt ltr\"></span><span class=\"plain  ltr   \" ><span class=\"txtt\"></span></span><span class=\"plain  ltr   \" ><span class=\"txtt\"> </span></span></span><span class=\"plain  ltr   \" ><span class=\"plain txtt ltr\"></span><span class=\"plain  ltr   \" ><span class=\"txtt\">min </span></span></span><span class=\"plain  ltr   \" ><span class=\"plain txtt ltr\"></span><span class=\"plain  ltr   \" ><span class=\"txtt\">duwn </span></span></span><span class=\"plain  ltr   \" ><span class=\"plain txtt ltr\"></span><span class=\"plain  ltr   \" ><span class=\"txtt\">{ll~ah </span></span></span><span class=\"plain  ltr   \" ><span class=\"plain txtt ltr\"></span><span class=\"plain  ltr   \" ><span class=\"txtt\">min </span></span></span><span class=\"plain  ltr   \" ><span class=\"plain txtt ltr\"></span><span class=\"plain  ltr   \" ><span class=\"txtt\">waliY~ </span></span></span><span class=\"plain  ltr   \" ><span class=\"plain txtt ltr\"></span><span class=\"plain  ltr   \" ><span class=\"txtt\"></span></span><span class=\"plain  ltr   \" ><span class=\"txtt\">laA </span></span></span><span class=\"plain  ltr   \" ><span class=\"plain txtt ltr\"></span><span class=\"plain  ltr   \" ><span class=\"txtt\">naSiyr</span></span></span></span></td></tr>\n",
       "<tr class=\"tf\"><td class=\"tf\">4</td><td class=\"tf\"><span class=\"section ltr\"><a target=\"_blank\" href=\"http://tanzil.net/#3:5\" title=\"show this passage on Tanzil\" sec=\"3:5\">3:5</a> </span> <span class=\"plain outer ltr  \" ><span class=\"plain txtt ltr\"></span><span class=\"plain  ltr   \" ><span class=\"plain txtt ltr\"></span><span class=\"plain  ltr   \" ><span class=\"txtt\">&lt;in~ </span></span></span><span class=\"plain  ltr   \" ><span class=\"plain txtt ltr\"></span><span class=\"plain  ltr   \" ><span class=\"txtt\">{ll~ah </span></span></span><span class=\"plain  ltr   \" ><span class=\"plain txtt ltr\"></span><span class=\"plain  ltr   \" ><span class=\"txtt\">laA </span></span></span><span class=\"plain  ltr   \" ><span class=\"plain txtt ltr\"></span><span class=\"plain  ltr   \" ><span class=\"txtt\">yaxofaY` </span></span></span><span class=\"plain  ltr   \" ><span class=\"plain txtt ltr\"></span><span class=\"plain  ltr   \" ><span class=\"txtt\">EalaY`</span></span><span class=\"plain  ltr   \" ><span class=\"txtt\"> </span></span></span><span class=\"plain  ltr   \" ><span class=\"plain txtt ltr\"></span><span class=\"plain  ltr   \" ><span class=\"txtt\"><span>$</span>aYo' </span></span></span><span class=\"plain  ltr   \" ><span class=\"plain txtt ltr\"></span><span class=\"plain  ltr   \" ><span class=\"txtt\">fiY </span></span></span><span class=\"plain  ltr   \" ><span class=\"plain txtt ltr\"></span><span class=\"plain  ltr   \" ><span class=\"txtt\"></span></span><span class=\"plain  ltr   \" ><span class=\"txtt\">>aroD </span></span></span><span class=\"plain  ltr   \" ><span class=\"plain txtt ltr\"></span><span class=\"plain  ltr   \" ><span class=\"txtt\"></span></span><span class=\"plain  ltr   \" ><span class=\"txtt\">laA </span></span></span><span class=\"plain  ltr   \" ><span class=\"plain txtt ltr\"></span><span class=\"plain  ltr   \" ><span class=\"txtt\">fiY </span></span></span><span class=\"plain  ltr   \" ><span class=\"plain txtt ltr\"></span><span class=\"plain  ltr   \" ><span class=\"txtt\"></span></span><span class=\"plain  ltr   \" ><span class=\"txtt\">samaA^'</span></span></span></span></td><td class=\"tf\"><span class=\"section ltr\"><a target=\"_blank\" href=\"http://tanzil.net/#14:38\" title=\"show this passage on Tanzil\" sec=\"14:38\">14:38</a> </span> <span class=\"plain outer ltr  \" ><span class=\"plain txtt ltr\"></span><span class=\"plain  ltr   \" ><span class=\"plain txtt ltr\"></span><span class=\"plain  ltr   \" ><span class=\"txtt\">rab~</span></span><span class=\"plain  ltr   \" ><span class=\"txtt\"> </span></span></span><span class=\"plain  ltr   \" ><span class=\"plain txtt ltr\"></span><span class=\"plain  ltr   \" ><span class=\"txtt\">&lt;in~</span></span><span class=\"plain  ltr   \" ><span class=\"txtt\"> </span></span></span><span class=\"plain  ltr   \" ><span class=\"plain txtt ltr\"></span><span class=\"plain  ltr   \" ><span class=\"txtt\">Ealima </span></span></span><span class=\"plain  ltr   \" ><span class=\"plain txtt ltr\"></span><span class=\"plain  ltr   \" ><span class=\"txtt\">maA </span></span></span><span class=\"plain  ltr   \" ><span class=\"plain txtt ltr\"></span><span class=\"plain  ltr   \" ><span class=\"txtt\">>uxofiYa </span></span></span><span class=\"plain  ltr   \" ><span class=\"plain txtt ltr\"></span><span class=\"plain  ltr   \" ><span class=\"txtt\"></span></span><span class=\"plain  ltr   \" ><span class=\"txtt\">maA </span></span></span><span class=\"plain  ltr   \" ><span class=\"plain txtt ltr\"></span><span class=\"plain  ltr   \" ><span class=\"txtt\">>aEolan </span></span></span><span class=\"plain  ltr   \" ><span class=\"plain txtt ltr\"></span><span class=\"plain  ltr   \" ><span class=\"txtt\"></span></span><span class=\"plain  ltr   \" ><span class=\"txtt\">maA </span></span></span><span class=\"plain  ltr   \" ><span class=\"plain txtt ltr\"></span><span class=\"plain  ltr   \" ><span class=\"txtt\">yaxofaY` </span></span></span><span class=\"plain  ltr   \" ><span class=\"plain txtt ltr\"></span><span class=\"plain  ltr   \" ><span class=\"txtt\">EalaY` </span></span></span><span class=\"plain  ltr   \" ><span class=\"plain txtt ltr\"></span><span class=\"plain  ltr   \" ><span class=\"txtt\">{ll~ah </span></span></span><span class=\"plain  ltr   \" ><span class=\"plain txtt ltr\"></span><span class=\"plain  ltr   \" ><span class=\"txtt\">min </span></span></span><span class=\"plain  ltr   \" ><span class=\"plain txtt ltr\"></span><span class=\"plain  ltr   \" ><span class=\"txtt\"><span>$</span>aYo' </span></span></span><span class=\"plain  ltr   \" ><span class=\"plain txtt ltr\"></span><span class=\"plain  ltr   \" ><span class=\"txtt\">fiY </span></span></span><span class=\"plain  ltr   \" ><span class=\"plain txtt ltr\"></span><span class=\"plain  ltr   \" ><span class=\"txtt\"></span></span><span class=\"plain  ltr   \" ><span class=\"txtt\">>aroD </span></span></span><span class=\"plain  ltr   \" ><span class=\"plain txtt ltr\"></span><span class=\"plain  ltr   \" ><span class=\"txtt\"></span></span><span class=\"plain  ltr   \" ><span class=\"txtt\">laA </span></span></span><span class=\"plain  ltr   \" ><span class=\"plain txtt ltr\"></span><span class=\"plain  ltr   \" ><span class=\"txtt\">fiY </span></span></span><span class=\"plain  ltr   \" ><span class=\"plain txtt ltr\"></span><span class=\"plain  ltr   \" ><span class=\"txtt\"></span></span><span class=\"plain  ltr   \" ><span class=\"txtt\">samaA^'</span></span></span></span></td></tr>\n",
       "<tr class=\"tf\"><td class=\"tf\">5</td><td class=\"tf\"><span class=\"section ltr\"><a target=\"_blank\" href=\"http://tanzil.net/#3:74\" title=\"show this passage on Tanzil\" sec=\"3:74\">3:74</a> </span> <span class=\"plain outer ltr  \" ><span class=\"plain txtt ltr\"></span><span class=\"plain  ltr   \" ><span class=\"plain txtt ltr\"></span><span class=\"plain  ltr   \" ><span class=\"txtt\">yaxotaS~u </span></span></span><span class=\"plain  ltr   \" ><span class=\"plain txtt ltr\"></span><span class=\"plain  ltr   \" ><span class=\"txtt\"></span></span><span class=\"plain  ltr   \" ><span class=\"txtt\">raHomap</span></span><span class=\"plain  ltr   \" ><span class=\"txtt\"> </span></span></span><span class=\"plain  ltr   \" ><span class=\"plain txtt ltr\"></span><span class=\"plain  ltr   \" ><span class=\"txtt\">man </span></span></span><span class=\"plain  ltr   \" ><span class=\"plain txtt ltr\"></span><span class=\"plain  ltr   \" ><span class=\"txtt\"><span>$</span>aA^'a </span></span></span><span class=\"plain  ltr   \" ><span class=\"plain txtt ltr\"></span><span class=\"plain  ltr   \" ><span class=\"txtt\"></span></span><span class=\"plain  ltr   \" ><span class=\"txtt\">{ll~ah </span></span></span><span class=\"plain  ltr   \" ><span class=\"plain txtt ltr\"></span><span class=\"plain  ltr   \" ><span class=\"txtt\">*uw </span></span></span><span class=\"plain  ltr   \" ><span class=\"plain txtt ltr\"></span><span class=\"plain  ltr   \" ><span class=\"txtt\"></span></span><span class=\"plain  ltr   \" ><span class=\"txtt\">faDol </span></span></span><span class=\"plain  ltr   \" ><span class=\"plain txtt ltr\"></span><span class=\"plain  ltr   \" ><span class=\"txtt\"></span></span><span class=\"plain  ltr   \" ><span class=\"txtt\">EaZiym</span></span></span></span></td><td class=\"tf\"><span class=\"section ltr\"><a target=\"_blank\" href=\"http://tanzil.net/#62:4\" title=\"show this passage on Tanzil\" sec=\"62:4\">62:4</a> </span> <span class=\"plain outer ltr  \" ><span class=\"plain txtt ltr\"></span><span class=\"plain  ltr   \" ><span class=\"plain txtt ltr\"></span><span class=\"plain  ltr   \" ><span class=\"txtt\">*a`lik </span></span></span><span class=\"plain  ltr   \" ><span class=\"plain txtt ltr\"></span><span class=\"plain  ltr   \" ><span class=\"txtt\">faDol </span></span></span><span class=\"plain  ltr   \" ><span class=\"plain txtt ltr\"></span><span class=\"plain  ltr   \" ><span class=\"txtt\">{ll~ah </span></span></span><span class=\"plain  ltr   \" ><span class=\"plain txtt ltr\"></span><span class=\"plain  ltr   \" ><span class=\"txtt\">A^taY</span></span><span class=\"plain  ltr   \" ><span class=\"txtt\"> </span></span></span><span class=\"plain  ltr   \" ><span class=\"plain txtt ltr\"></span><span class=\"plain  ltr   \" ><span class=\"txtt\">man </span></span></span><span class=\"plain  ltr   \" ><span class=\"plain txtt ltr\"></span><span class=\"plain  ltr   \" ><span class=\"txtt\"><span>$</span>aA^'a </span></span></span><span class=\"plain  ltr   \" ><span class=\"plain txtt ltr\"></span><span class=\"plain  ltr   \" ><span class=\"txtt\"></span></span><span class=\"plain  ltr   \" ><span class=\"txtt\">{ll~ah </span></span></span><span class=\"plain  ltr   \" ><span class=\"plain txtt ltr\"></span><span class=\"plain  ltr   \" ><span class=\"txtt\">*uw </span></span></span><span class=\"plain  ltr   \" ><span class=\"plain txtt ltr\"></span><span class=\"plain  ltr   \" ><span class=\"txtt\"></span></span><span class=\"plain  ltr   \" ><span class=\"txtt\">faDol </span></span></span><span class=\"plain  ltr   \" ><span class=\"plain txtt ltr\"></span><span class=\"plain  ltr   \" ><span class=\"txtt\"></span></span><span class=\"plain  ltr   \" ><span class=\"txtt\">EaZiym</span></span></span></span></td></tr>\n",
       "<tr class=\"tf\"><td class=\"tf\">6</td><td class=\"tf\"><span class=\"section ltr\"><a target=\"_blank\" href=\"http://tanzil.net/#4:138\" title=\"show this passage on Tanzil\" sec=\"4:138\">4:138</a> </span> <span class=\"plain outer ltr  \" ><span class=\"plain txtt ltr\"></span><span class=\"plain  ltr   \" ><span class=\"plain txtt ltr\"></span><span class=\"plain  ltr   \" ><span class=\"txtt\">bu<span>$</span>~ira </span></span></span><span class=\"plain  ltr   \" ><span class=\"plain txtt ltr\"></span><span class=\"plain  ltr   \" ><span class=\"txtt\"></span></span><span class=\"plain  ltr   \" ><span class=\"txtt\">muna`fiquwn </span></span></span><span class=\"plain  ltr   \" ><span class=\"plain txtt ltr\"></span><span class=\"plain  ltr   \" ><span class=\"txtt\"></span></span><span class=\"plain  ltr   \" ><span class=\"txtt\">>an~ </span></span></span><span class=\"plain  ltr   \" ><span class=\"plain txtt ltr\"></span><span class=\"plain  ltr   \" ><span class=\"txtt\"></span></span><span class=\"plain  ltr   \" ><span class=\"txtt\"> </span></span></span><span class=\"plain  ltr   \" ><span class=\"plain txtt ltr\"></span><span class=\"plain  ltr   \" ><span class=\"txtt\">Ea*aAb </span></span></span><span class=\"plain  ltr   \" ><span class=\"plain txtt ltr\"></span><span class=\"plain  ltr   \" ><span class=\"txtt\">>aliym</span></span></span></span></td><td class=\"tf\"><span class=\"section ltr\"><a target=\"_blank\" href=\"http://tanzil.net/#15:50\" title=\"show this passage on Tanzil\" sec=\"15:50\">15:50</a> </span> <span class=\"plain outer ltr  \" ><span class=\"plain txtt ltr\"></span><span class=\"plain  ltr   \" ><span class=\"plain txtt ltr\"></span><span class=\"plain  ltr   \" ><span class=\"txtt\"></span></span><span class=\"plain  ltr   \" ><span class=\"txtt\">>an~ </span></span></span><span class=\"plain  ltr   \" ><span class=\"plain txtt ltr\"></span><span class=\"plain  ltr   \" ><span class=\"txtt\">Ea*aAb</span></span><span class=\"plain  ltr   \" ><span class=\"txtt\"> </span></span></span><span class=\"plain  ltr   \" ><span class=\"plain txtt ltr\"></span><span class=\"plain  ltr   \" ><span class=\"txtt\"> </span></span></span><span class=\"plain  ltr   \" ><span class=\"plain txtt ltr\"></span><span class=\"plain  ltr   \" ><span class=\"txtt\"></span></span><span class=\"plain  ltr   \" ><span class=\"txtt\">Ea*aAb </span></span></span><span class=\"plain  ltr   \" ><span class=\"plain txtt ltr\"></span><span class=\"plain  ltr   \" ><span class=\"txtt\"></span></span><span class=\"plain  ltr   \" ><span class=\"txtt\">>aliym</span></span></span></span></td></tr>\n",
       "<tr class=\"tf\"><td class=\"tf\">7</td><td class=\"tf\"><span class=\"section ltr\"><a target=\"_blank\" href=\"http://tanzil.net/#4:138\" title=\"show this passage on Tanzil\" sec=\"4:138\">4:138</a> </span> <span class=\"plain outer ltr  \" ><span class=\"plain txtt ltr\"></span><span class=\"plain  ltr   \" ><span class=\"plain txtt ltr\"></span><span class=\"plain  ltr   \" ><span class=\"txtt\">bu<span>$</span>~ira </span></span></span><span class=\"plain  ltr   \" ><span class=\"plain txtt ltr\"></span><span class=\"plain  ltr   \" ><span class=\"txtt\"></span></span><span class=\"plain  ltr   \" ><span class=\"txtt\">muna`fiquwn </span></span></span><span class=\"plain  ltr   \" ><span class=\"plain txtt ltr\"></span><span class=\"plain  ltr   \" ><span class=\"txtt\"></span></span><span class=\"plain  ltr   \" ><span class=\"txtt\">>an~ </span></span></span><span class=\"plain  ltr   \" ><span class=\"plain txtt ltr\"></span><span class=\"plain  ltr   \" ><span class=\"txtt\"></span></span><span class=\"plain  ltr   \" ><span class=\"txtt\"> </span></span></span><span class=\"plain  ltr   \" ><span class=\"plain txtt ltr\"></span><span class=\"plain  ltr   \" ><span class=\"txtt\">Ea*aAb </span></span></span><span class=\"plain  ltr   \" ><span class=\"plain txtt ltr\"></span><span class=\"plain  ltr   \" ><span class=\"txtt\">>aliym</span></span></span></span></td><td class=\"tf\"><span class=\"section ltr\"><a target=\"_blank\" href=\"http://tanzil.net/#84:24\" title=\"show this passage on Tanzil\" sec=\"84:24\">84:24</a> </span> <span class=\"plain outer ltr  \" ><span class=\"plain txtt ltr\"></span><span class=\"plain  ltr   \" ><span class=\"plain txtt ltr\"></span><span class=\"plain  ltr   \" ><span class=\"txtt\"></span></span><span class=\"plain  ltr   \" ><span class=\"txtt\">bu<span>$</span>~ira</span></span><span class=\"plain  ltr   \" ><span class=\"txtt\"> </span></span></span><span class=\"plain  ltr   \" ><span class=\"plain txtt ltr\"></span><span class=\"plain  ltr   \" ><span class=\"txtt\"></span></span><span class=\"plain  ltr   \" ><span class=\"txtt\">Ea*aAb </span></span></span><span class=\"plain  ltr   \" ><span class=\"plain txtt ltr\"></span><span class=\"plain  ltr   \" ><span class=\"txtt\">>aliym</span></span></span></span></td></tr>\n",
       "<tr class=\"tf\"><td class=\"tf\">8</td><td class=\"tf\"><span class=\"section ltr\"><a target=\"_blank\" href=\"http://tanzil.net/#5:10\" title=\"show this passage on Tanzil\" sec=\"5:10\">5:10</a> </span> <span class=\"plain outer ltr  \" ><span class=\"plain txtt ltr\"></span><span class=\"plain  ltr   \" ><span class=\"plain txtt ltr\"></span><span class=\"plain  ltr   \" ><span class=\"txtt\"></span></span><span class=\"plain  ltr   \" ><span class=\"txtt\">{l~a*iY </span></span></span><span class=\"plain  ltr   \" ><span class=\"plain txtt ltr\"></span><span class=\"plain  ltr   \" ><span class=\"txtt\">kafara</span></span><span class=\"plain  ltr   \" ><span class=\"txtt\"> </span></span></span><span class=\"plain  ltr   \" ><span class=\"plain txtt ltr\"></span><span class=\"plain  ltr   \" ><span class=\"txtt\"></span></span><span class=\"plain  ltr   \" ><span class=\"txtt\">ka*~aba</span></span><span class=\"plain  ltr   \" ><span class=\"txtt\"> </span></span></span><span class=\"plain  ltr   \" ><span class=\"plain txtt ltr\"></span><span class=\"plain  ltr   \" ><span class=\"txtt\"></span></span><span class=\"plain  ltr   \" ><span class=\"txtt\">'aAyap</span></span><span class=\"plain  ltr   \" ><span class=\"txtt\"> </span></span></span><span class=\"plain  ltr   \" ><span class=\"plain txtt ltr\"></span><span class=\"plain  ltr   \" ><span class=\"txtt\">>uwla`^}ik </span></span></span><span class=\"plain  ltr   \" ><span class=\"plain txtt ltr\"></span><span class=\"plain  ltr   \" ><span class=\"txtt\">>aSoHa`b </span></span></span><span class=\"plain  ltr   \" ><span class=\"plain txtt ltr\"></span><span class=\"plain  ltr   \" ><span class=\"txtt\"></span></span><span class=\"plain  ltr   \" ><span class=\"txtt\">jaHiym</span></span></span></span></td><td class=\"tf\"><span class=\"section ltr\"><a target=\"_blank\" href=\"http://tanzil.net/#2:39\" title=\"show this passage on Tanzil\" sec=\"2:39\">2:39</a> </span> <span class=\"plain outer ltr  \" ><span class=\"plain txtt ltr\"></span><span class=\"plain  ltr   \" ><span class=\"plain txtt ltr\"></span><span class=\"plain  ltr   \" ><span class=\"txtt\"></span></span><span class=\"plain  ltr   \" ><span class=\"txtt\">{l~a*iY </span></span></span><span class=\"plain  ltr   \" ><span class=\"plain txtt ltr\"></span><span class=\"plain  ltr   \" ><span class=\"txtt\">kafara</span></span><span class=\"plain  ltr   \" ><span class=\"txtt\"> </span></span></span><span class=\"plain  ltr   \" ><span class=\"plain txtt ltr\"></span><span class=\"plain  ltr   \" ><span class=\"txtt\"></span></span><span class=\"plain  ltr   \" ><span class=\"txtt\">ka*~aba</span></span><span class=\"plain  ltr   \" ><span class=\"txtt\"> </span></span></span><span class=\"plain  ltr   \" ><span class=\"plain txtt ltr\"></span><span class=\"plain  ltr   \" ><span class=\"txtt\"></span></span><span class=\"plain  ltr   \" ><span class=\"txtt\">'aAyap</span></span><span class=\"plain  ltr   \" ><span class=\"txtt\"> </span></span></span><span class=\"plain  ltr   \" ><span class=\"plain txtt ltr\"></span><span class=\"plain  ltr   \" ><span class=\"txtt\">>uwla`^}ik </span></span></span><span class=\"plain  ltr   \" ><span class=\"plain txtt ltr\"></span><span class=\"plain  ltr   \" ><span class=\"txtt\">>aSoHa`b </span></span></span><span class=\"plain  ltr   \" ><span class=\"plain txtt ltr\"></span><span class=\"plain  ltr   \" ><span class=\"txtt\"></span></span><span class=\"plain  ltr   \" ><span class=\"txtt\">naAr </span></span></span><span class=\"plain  ltr   \" ><span class=\"plain txtt ltr\"></span><span class=\"plain  ltr   \" ><span class=\"txtt\"> </span></span></span><span class=\"plain  ltr   \" ><span class=\"plain txtt ltr\"></span><span class=\"plain  ltr   \" ><span class=\"txtt\">fiY</span></span><span class=\"plain  ltr   \" ><span class=\"txtt\"> </span></span></span><span class=\"plain  ltr   \" ><span class=\"plain txtt ltr\"></span><span class=\"plain  ltr   \" ><span class=\"txtt\">xa`lid</span></span></span></span></td></tr>\n",
       "<tr class=\"tf\"><td class=\"tf\">9</td><td class=\"tf\"><span class=\"section ltr\"><a target=\"_blank\" href=\"http://tanzil.net/#5:86\" title=\"show this passage on Tanzil\" sec=\"5:86\">5:86</a> </span> <span class=\"plain outer ltr  \" ><span class=\"plain txtt ltr\"></span><span class=\"plain  ltr   \" ><span class=\"plain txtt ltr\"></span><span class=\"plain  ltr   \" ><span class=\"txtt\"></span></span><span class=\"plain  ltr   \" ><span class=\"txtt\">{l~a*iY </span></span></span><span class=\"plain  ltr   \" ><span class=\"plain txtt ltr\"></span><span class=\"plain  ltr   \" ><span class=\"txtt\">kafara</span></span><span class=\"plain  ltr   \" ><span class=\"txtt\"> </span></span></span><span class=\"plain  ltr   \" ><span class=\"plain txtt ltr\"></span><span class=\"plain  ltr   \" ><span class=\"txtt\"></span></span><span class=\"plain  ltr   \" ><span class=\"txtt\">ka*~aba</span></span><span class=\"plain  ltr   \" ><span class=\"txtt\"> </span></span></span><span class=\"plain  ltr   \" ><span class=\"plain txtt ltr\"></span><span class=\"plain  ltr   \" ><span class=\"txtt\"></span></span><span class=\"plain  ltr   \" ><span class=\"txtt\">'aAyap</span></span><span class=\"plain  ltr   \" ><span class=\"txtt\"> </span></span></span><span class=\"plain  ltr   \" ><span class=\"plain txtt ltr\"></span><span class=\"plain  ltr   \" ><span class=\"txtt\">>uwla`^}ik </span></span></span><span class=\"plain  ltr   \" ><span class=\"plain txtt ltr\"></span><span class=\"plain  ltr   \" ><span class=\"txtt\">>aSoHa`b </span></span></span><span class=\"plain  ltr   \" ><span class=\"plain txtt ltr\"></span><span class=\"plain  ltr   \" ><span class=\"txtt\"></span></span><span class=\"plain  ltr   \" ><span class=\"txtt\">jaHiym</span></span></span></span></td><td class=\"tf\"><span class=\"section ltr\"><a target=\"_blank\" href=\"http://tanzil.net/#2:39\" title=\"show this passage on Tanzil\" sec=\"2:39\">2:39</a> </span> <span class=\"plain outer ltr  \" ><span class=\"plain txtt ltr\"></span><span class=\"plain  ltr   \" ><span class=\"plain txtt ltr\"></span><span class=\"plain  ltr   \" ><span class=\"txtt\"></span></span><span class=\"plain  ltr   \" ><span class=\"txtt\">{l~a*iY </span></span></span><span class=\"plain  ltr   \" ><span class=\"plain txtt ltr\"></span><span class=\"plain  ltr   \" ><span class=\"txtt\">kafara</span></span><span class=\"plain  ltr   \" ><span class=\"txtt\"> </span></span></span><span class=\"plain  ltr   \" ><span class=\"plain txtt ltr\"></span><span class=\"plain  ltr   \" ><span class=\"txtt\"></span></span><span class=\"plain  ltr   \" ><span class=\"txtt\">ka*~aba</span></span><span class=\"plain  ltr   \" ><span class=\"txtt\"> </span></span></span><span class=\"plain  ltr   \" ><span class=\"plain txtt ltr\"></span><span class=\"plain  ltr   \" ><span class=\"txtt\"></span></span><span class=\"plain  ltr   \" ><span class=\"txtt\">'aAyap</span></span><span class=\"plain  ltr   \" ><span class=\"txtt\"> </span></span></span><span class=\"plain  ltr   \" ><span class=\"plain txtt ltr\"></span><span class=\"plain  ltr   \" ><span class=\"txtt\">>uwla`^}ik </span></span></span><span class=\"plain  ltr   \" ><span class=\"plain txtt ltr\"></span><span class=\"plain  ltr   \" ><span class=\"txtt\">>aSoHa`b </span></span></span><span class=\"plain  ltr   \" ><span class=\"plain txtt ltr\"></span><span class=\"plain  ltr   \" ><span class=\"txtt\"></span></span><span class=\"plain  ltr   \" ><span class=\"txtt\">naAr </span></span></span><span class=\"plain  ltr   \" ><span class=\"plain txtt ltr\"></span><span class=\"plain  ltr   \" ><span class=\"txtt\"> </span></span></span><span class=\"plain  ltr   \" ><span class=\"plain txtt ltr\"></span><span class=\"plain  ltr   \" ><span class=\"txtt\">fiY</span></span><span class=\"plain  ltr   \" ><span class=\"txtt\"> </span></span></span><span class=\"plain  ltr   \" ><span class=\"plain txtt ltr\"></span><span class=\"plain  ltr   \" ><span class=\"txtt\">xa`lid</span></span></span></span></td></tr>\n",
       "<tr class=\"tf\"><td class=\"tf\">10</td><td class=\"tf\"><span class=\"section ltr\"><a target=\"_blank\" href=\"http://tanzil.net/#6:30\" title=\"show this passage on Tanzil\" sec=\"6:30\">6:30</a> </span> <span class=\"plain outer ltr  \" ><span class=\"plain txtt ltr\"></span><span class=\"plain  ltr   \" ><span class=\"plain txtt ltr\"></span><span class=\"plain  ltr   \" ><span class=\"txtt\"></span></span><span class=\"plain  ltr   \" ><span class=\"txtt\">law </span></span></span><span class=\"plain  ltr   \" ><span class=\"plain txtt ltr\"></span><span class=\"plain  ltr   \" ><span class=\"txtt\">ra'aA </span></span></span><span class=\"plain  ltr   \" ><span class=\"plain txtt ltr\"></span><span class=\"plain  ltr   \" ><span class=\"txtt\">&lt;i* </span></span></span><span class=\"plain  ltr   \" ><span class=\"plain txtt ltr\"></span><span class=\"plain  ltr   \" ><span class=\"txtt\">wuqifu</span></span><span class=\"plain  ltr   \" ><span class=\"txtt\"> </span></span></span><span class=\"plain  ltr   \" ><span class=\"plain txtt ltr\"></span><span class=\"plain  ltr   \" ><span class=\"txtt\">EalaY` </span></span></span><span class=\"plain  ltr   \" ><span class=\"plain txtt ltr\"></span><span class=\"plain  ltr   \" ><span class=\"txtt\">rab~</span></span><span class=\"plain  ltr   \" ><span class=\"txtt\"> </span></span></span><span class=\"plain  ltr   \" ><span class=\"plain txtt ltr\"></span><span class=\"plain  ltr   \" ><span class=\"txtt\">qaAla </span></span></span><span class=\"plain  ltr   \" ><span class=\"plain txtt ltr\"></span><span class=\"plain  ltr   \" ><span class=\"txtt\"></span></span><span class=\"plain  ltr   \" ><span class=\"txtt\">l~ayosa </span></span></span><span class=\"plain  ltr   \" ><span class=\"plain txtt ltr\"></span><span class=\"plain  ltr   \" ><span class=\"txtt\">ha`*aA </span></span></span><span class=\"plain  ltr   \" ><span class=\"plain txtt ltr\"></span><span class=\"plain  ltr   \" ><span class=\"txtt\"></span></span><span class=\"plain  ltr   \" ><span class=\"txtt\"></span></span><span class=\"plain  ltr   \" ><span class=\"txtt\">Haq~ </span></span></span><span class=\"plain  ltr   \" ><span class=\"plain txtt ltr\"></span><span class=\"plain  ltr   \" ><span class=\"txtt\">qaAla</span></span><span class=\"plain  ltr   \" ><span class=\"txtt\"> </span></span></span><span class=\"plain  ltr   \" ><span class=\"plain txtt ltr\"></span><span class=\"plain  ltr   \" ><span class=\"txtt\">balaY` </span></span></span><span class=\"plain  ltr   \" ><span class=\"plain txtt ltr\"></span><span class=\"plain  ltr   \" ><span class=\"txtt\"></span></span><span class=\"plain  ltr   \" ><span class=\"txtt\">rab~</span></span><span class=\"plain  ltr   \" ><span class=\"txtt\"> </span></span></span><span class=\"plain  ltr   \" ><span class=\"plain txtt ltr\"></span><span class=\"plain  ltr   \" ><span class=\"txtt\">qaAla </span></span></span><span class=\"plain  ltr   \" ><span class=\"plain txtt ltr\"></span><span class=\"plain  ltr   \" ><span class=\"txtt\"></span></span><span class=\"plain  ltr   \" ><span class=\"txtt\">*aAqu</span></span><span class=\"plain  ltr   \" ><span class=\"txtt\"> </span></span></span><span class=\"plain  ltr   \" ><span class=\"plain txtt ltr\"></span><span class=\"plain  ltr   \" ><span class=\"txtt\"></span></span><span class=\"plain  ltr   \" ><span class=\"txtt\">Ea*aAb </span></span></span><span class=\"plain  ltr   \" ><span class=\"plain txtt ltr\"></span><span class=\"plain  ltr   \" ><span class=\"txtt\"></span></span><span class=\"plain  ltr   \" ><span class=\"txtt\">maA </span></span></span><span class=\"plain  ltr   \" ><span class=\"plain txtt ltr\"></span><span class=\"plain  ltr   \" ><span class=\"txtt\">kaAna</span></span><span class=\"plain  ltr   \" ><span class=\"txtt\"> </span></span></span><span class=\"plain  ltr   \" ><span class=\"plain txtt ltr\"></span><span class=\"plain  ltr   \" ><span class=\"txtt\">kafara</span></span><span class=\"plain  ltr   \" ><span class=\"txtt\"></span></span></span></span></td><td class=\"tf\"><span class=\"section ltr\"><a target=\"_blank\" href=\"http://tanzil.net/#46:34\" title=\"show this passage on Tanzil\" sec=\"46:34\">46:34</a> </span> <span class=\"plain outer ltr  \" ><span class=\"plain txtt ltr\"></span><span class=\"plain  ltr   \" ><span class=\"plain txtt ltr\"></span><span class=\"plain  ltr   \" ><span class=\"txtt\"></span></span><span class=\"plain  ltr   \" ><span class=\"txtt\">yawom </span></span></span><span class=\"plain  ltr   \" ><span class=\"plain txtt ltr\"></span><span class=\"plain  ltr   \" ><span class=\"txtt\">EaraDa </span></span></span><span class=\"plain  ltr   \" ><span class=\"plain txtt ltr\"></span><span class=\"plain  ltr   \" ><span class=\"txtt\">{l~a*iY </span></span></span><span class=\"plain  ltr   \" ><span class=\"plain txtt ltr\"></span><span class=\"plain  ltr   \" ><span class=\"txtt\">kafara</span></span><span class=\"plain  ltr   \" ><span class=\"txtt\"> </span></span></span><span class=\"plain  ltr   \" ><span class=\"plain txtt ltr\"></span><span class=\"plain  ltr   \" ><span class=\"txtt\">EalaY` </span></span></span><span class=\"plain  ltr   \" ><span class=\"plain txtt ltr\"></span><span class=\"plain  ltr   \" ><span class=\"txtt\"></span></span><span class=\"plain  ltr   \" ><span class=\"txtt\">naAr </span></span></span><span class=\"plain  ltr   \" ><span class=\"plain txtt ltr\"></span><span class=\"plain  ltr   \" ><span class=\"txtt\"></span></span><span class=\"plain  ltr   \" ><span class=\"txtt\">l~ayosa </span></span></span><span class=\"plain  ltr   \" ><span class=\"plain txtt ltr\"></span><span class=\"plain  ltr   \" ><span class=\"txtt\">ha`*aA </span></span></span><span class=\"plain  ltr   \" ><span class=\"plain txtt ltr\"></span><span class=\"plain  ltr   \" ><span class=\"txtt\"></span></span><span class=\"plain  ltr   \" ><span class=\"txtt\"></span></span><span class=\"plain  ltr   \" ><span class=\"txtt\">Haq~ </span></span></span><span class=\"plain  ltr   \" ><span class=\"plain txtt ltr\"></span><span class=\"plain  ltr   \" ><span class=\"txtt\">qaAla</span></span><span class=\"plain  ltr   \" ><span class=\"txtt\"> </span></span></span><span class=\"plain  ltr   \" ><span class=\"plain txtt ltr\"></span><span class=\"plain  ltr   \" ><span class=\"txtt\">balaY` </span></span></span><span class=\"plain  ltr   \" ><span class=\"plain txtt ltr\"></span><span class=\"plain  ltr   \" ><span class=\"txtt\"></span></span><span class=\"plain  ltr   \" ><span class=\"txtt\">rab~</span></span><span class=\"plain  ltr   \" ><span class=\"txtt\"> </span></span></span><span class=\"plain  ltr   \" ><span class=\"plain txtt ltr\"></span><span class=\"plain  ltr   \" ><span class=\"txtt\">qaAla </span></span></span><span class=\"plain  ltr   \" ><span class=\"plain txtt ltr\"></span><span class=\"plain  ltr   \" ><span class=\"txtt\"></span></span><span class=\"plain  ltr   \" ><span class=\"txtt\">*aAqu</span></span><span class=\"plain  ltr   \" ><span class=\"txtt\"> </span></span></span><span class=\"plain  ltr   \" ><span class=\"plain txtt ltr\"></span><span class=\"plain  ltr   \" ><span class=\"txtt\"></span></span><span class=\"plain  ltr   \" ><span class=\"txtt\">Ea*aAb </span></span></span><span class=\"plain  ltr   \" ><span class=\"plain txtt ltr\"></span><span class=\"plain  ltr   \" ><span class=\"txtt\"></span></span><span class=\"plain  ltr   \" ><span class=\"txtt\">maA </span></span></span><span class=\"plain  ltr   \" ><span class=\"plain txtt ltr\"></span><span class=\"plain  ltr   \" ><span class=\"txtt\">kaAna</span></span><span class=\"plain  ltr   \" ><span class=\"txtt\"> </span></span></span><span class=\"plain  ltr   \" ><span class=\"plain txtt ltr\"></span><span class=\"plain  ltr   \" ><span class=\"txtt\">kafara</span></span><span class=\"plain  ltr   \" ><span class=\"txtt\"></span></span></span></span></td></tr></table>"
      ],
      "text/plain": [
       "<IPython.core.display.HTML object>"
      ]
     },
     "metadata": {},
     "output_type": "display_data"
    }
   ],
   "source": [
    "A.table(results, start=1, end=10, fmt='lex-trans-full', withPassage=\"1 2\")"
   ]
  },
  {
   "cell_type": "markdown",
   "metadata": {},
   "source": [
    "From now on we forget about the level of similarity, and focus on whether two lines are just \"similar\", meaning that they have\n",
    "a high degree of similarity."
   ]
  },
  {
   "cell_type": "markdown",
   "metadata": {},
   "source": [
    "# Cluster the lines\n",
    "\n",
    "Before we try to find them, let's see if we can cluster the lines in similar clusters."
   ]
  },
  {
   "cell_type": "code",
   "execution_count": 17,
   "metadata": {},
   "outputs": [],
   "source": [
    "CLUSTER_THRESHOLD = 0.5\n",
    "\n",
    "def makeClusters():\n",
    "  A.indent(reset=True)\n",
    "  chunkSize = 1000\n",
    "  b = 0\n",
    "  j = 0\n",
    "  clusters = []\n",
    "  for l in F.otype.s('aya'):\n",
    "    j += 1\n",
    "    b += 1\n",
    "    if b == chunkSize:\n",
    "      b = 0\n",
    "      A.info(f'{j:>5} ayas and {len(clusters):>5} clusters')\n",
    "    lSisters = {x[0] for x in E.sim.b(l)}\n",
    "    lAdded = False\n",
    "    for cl in clusters:\n",
    "      if len(cl & lSisters) > CLUSTER_THRESHOLD * len(cl):\n",
    "        cl.add(l)\n",
    "        lAdded = True\n",
    "        break\n",
    "    if not lAdded:\n",
    "      clusters.append({l})\n",
    "  A.info(f'{j:>5} ayas and {len(clusters):>5} clusters')\n",
    "  return clusters"
   ]
  },
  {
   "cell_type": "code",
   "execution_count": 18,
   "metadata": {},
   "outputs": [
    {
     "name": "stdout",
     "output_type": "stream",
     "text": [
      "  0.12s  1000 ayas and   985 clusters\n",
      "  0.42s  2000 ayas and  1956 clusters\n",
      "  0.89s  3000 ayas and  2903 clusters\n",
      "  1.62s  4000 ayas and  3777 clusters\n",
      "  2.55s  5000 ayas and  4673 clusters\n",
      "  3.56s  6000 ayas and  5564 clusters\n",
      "  3.83s  6236 ayas and  5777 clusters\n"
     ]
    }
   ],
   "source": [
    "clusters = makeClusters()"
   ]
  },
  {
   "cell_type": "markdown",
   "metadata": {},
   "source": [
    "What is the distribution of the clusters, in terms of how many similar lines they contain?\n",
    "We count them."
   ]
  },
  {
   "cell_type": "code",
   "execution_count": 19,
   "metadata": {},
   "outputs": [
    {
     "name": "stdout",
     "output_type": "stream",
     "text": [
      "clusters of size   32:     1\n",
      "clusters of size   12:     1\n",
      "clusters of size    9:     1\n",
      "clusters of size    8:     2\n",
      "clusters of size    7:     2\n",
      "clusters of size    6:     2\n",
      "clusters of size    5:     3\n",
      "clusters of size    4:    14\n",
      "clusters of size    3:    24\n",
      "clusters of size    2:   271\n",
      "clusters of size    1:  5456\n"
     ]
    }
   ],
   "source": [
    "clusterSizes = collections.Counter()\n",
    "\n",
    "for cl in clusters:\n",
    "  clusterSizes[len(cl)] += 1\n",
    "  \n",
    "for (size, amount) in sorted(\n",
    "  clusterSizes.items(),\n",
    "  key=lambda x: (-x[0], x[1]),\n",
    "):\n",
    "  print(f'clusters of size {size:>4}: {amount:>5}')"
   ]
  },
  {
   "cell_type": "markdown",
   "metadata": {
    "toc-hr-collapsed": false
   },
   "source": [
    "# Interesting groups\n",
    "\n",
    "Let's investigate some interesting groups, that lie in some sweet spots.\n",
    "\n",
    "* the biggest clusters: more than 31 members\n",
    "* the medium clusters: between 5 and 31 members\n",
    "* the small clusters: between 2 and 4 members"
   ]
  },
  {
   "cell_type": "markdown",
   "metadata": {},
   "source": [
    "## Medium clusters\n",
    "\n",
    "There are a few ayas that occur in a moderately sized cluster. Lets print those clusters:"
   ]
  },
  {
   "cell_type": "code",
   "execution_count": 20,
   "metadata": {},
   "outputs": [
    {
     "name": "stdout",
     "output_type": "stream",
     "text": [
      "Cluster with 9 ayas\n"
     ]
    },
    {
     "data": {
      "text/html": [
       "<table><tr class=\"tf\"><th class=\"tf\">n</th><th class=\"tf\">p</th><th class=\"tf\">aya</th></tr>\n",
       "<tr class=\"tf\"><td class=\"tf\">1</td><td class=\"tf\"><span class=\"section ltr\"><a target=\"_blank\" href=\"http://tanzil.net/#26:108\" title=\"show this passage on Tanzil\" sec=\"26:108\">26:108</a></span></td><td class=\"tf\"><span class=\"plain outer rtl  \" ><span class=\"plain txtu ara rtl\"></span><span class=\"plain  rtl   \" ><span class=\"plain txtu ara rtl\"></span><span class=\"plain  rtl   \" ><span class=\"txtu ara\">فَ</span></span><span class=\"plain  rtl   \" ><span class=\"txtu ara\">ٱتَّقُ</span></span><span class=\"plain  rtl   \" ><span class=\"txtu ara\">وا۟ </span></span></span><span class=\"plain  rtl   \" ><span class=\"plain txtu ara rtl\"></span><span class=\"plain  rtl   \" ><span class=\"txtu ara\">ٱللَّهَ </span></span></span><span class=\"plain  rtl   \" ><span class=\"plain txtu ara rtl\"></span><span class=\"plain  rtl   \" ><span class=\"txtu ara\">وَ</span></span><span class=\"plain  rtl   \" ><span class=\"txtu ara\">أَطِيعُ</span></span><span class=\"plain  rtl   \" ><span class=\"txtu ara\">و</span></span><span class=\"plain  rtl   \" ><span class=\"txtu ara\">نِ</span></span></span></span></td></tr>\n",
       "<tr class=\"tf\"><td class=\"tf\">2</td><td class=\"tf\"><span class=\"section ltr\"><a target=\"_blank\" href=\"http://tanzil.net/#26:110\" title=\"show this passage on Tanzil\" sec=\"26:110\">26:110</a></span></td><td class=\"tf\"><span class=\"plain outer rtl  \" ><span class=\"plain txtu ara rtl\"></span><span class=\"plain  rtl   \" ><span class=\"plain txtu ara rtl\"></span><span class=\"plain  rtl   \" ><span class=\"txtu ara\">فَ</span></span><span class=\"plain  rtl   \" ><span class=\"txtu ara\">ٱتَّقُ</span></span><span class=\"plain  rtl   \" ><span class=\"txtu ara\">وا۟ </span></span></span><span class=\"plain  rtl   \" ><span class=\"plain txtu ara rtl\"></span><span class=\"plain  rtl   \" ><span class=\"txtu ara\">ٱللَّهَ </span></span></span><span class=\"plain  rtl   \" ><span class=\"plain txtu ara rtl\"></span><span class=\"plain  rtl   \" ><span class=\"txtu ara\">وَ</span></span><span class=\"plain  rtl   \" ><span class=\"txtu ara\">أَطِيعُ</span></span><span class=\"plain  rtl   \" ><span class=\"txtu ara\">و</span></span><span class=\"plain  rtl   \" ><span class=\"txtu ara\">نِ</span></span></span></span></td></tr>\n",
       "<tr class=\"tf\"><td class=\"tf\">3</td><td class=\"tf\"><span class=\"section ltr\"><a target=\"_blank\" href=\"http://tanzil.net/#26:126\" title=\"show this passage on Tanzil\" sec=\"26:126\">26:126</a></span></td><td class=\"tf\"><span class=\"plain outer rtl  \" ><span class=\"plain txtu ara rtl\"></span><span class=\"plain  rtl   \" ><span class=\"plain txtu ara rtl\"></span><span class=\"plain  rtl   \" ><span class=\"txtu ara\">فَ</span></span><span class=\"plain  rtl   \" ><span class=\"txtu ara\">ٱتَّقُ</span></span><span class=\"plain  rtl   \" ><span class=\"txtu ara\">وا۟ </span></span></span><span class=\"plain  rtl   \" ><span class=\"plain txtu ara rtl\"></span><span class=\"plain  rtl   \" ><span class=\"txtu ara\">ٱللَّهَ </span></span></span><span class=\"plain  rtl   \" ><span class=\"plain txtu ara rtl\"></span><span class=\"plain  rtl   \" ><span class=\"txtu ara\">وَ</span></span><span class=\"plain  rtl   \" ><span class=\"txtu ara\">أَطِيعُ</span></span><span class=\"plain  rtl   \" ><span class=\"txtu ara\">و</span></span><span class=\"plain  rtl   \" ><span class=\"txtu ara\">نِ</span></span></span></span></td></tr>\n",
       "<tr class=\"tf\"><td class=\"tf\">4</td><td class=\"tf\"><span class=\"section ltr\"><a target=\"_blank\" href=\"http://tanzil.net/#26:131\" title=\"show this passage on Tanzil\" sec=\"26:131\">26:131</a></span></td><td class=\"tf\"><span class=\"plain outer rtl  \" ><span class=\"plain txtu ara rtl\"></span><span class=\"plain  rtl   \" ><span class=\"plain txtu ara rtl\"></span><span class=\"plain  rtl   \" ><span class=\"txtu ara\">فَ</span></span><span class=\"plain  rtl   \" ><span class=\"txtu ara\">ٱتَّقُ</span></span><span class=\"plain  rtl   \" ><span class=\"txtu ara\">وا۟ </span></span></span><span class=\"plain  rtl   \" ><span class=\"plain txtu ara rtl\"></span><span class=\"plain  rtl   \" ><span class=\"txtu ara\">ٱللَّهَ </span></span></span><span class=\"plain  rtl   \" ><span class=\"plain txtu ara rtl\"></span><span class=\"plain  rtl   \" ><span class=\"txtu ara\">وَ</span></span><span class=\"plain  rtl   \" ><span class=\"txtu ara\">أَطِيعُ</span></span><span class=\"plain  rtl   \" ><span class=\"txtu ara\">و</span></span><span class=\"plain  rtl   \" ><span class=\"txtu ara\">نِ</span></span></span></span></td></tr>\n",
       "<tr class=\"tf\"><td class=\"tf\">5</td><td class=\"tf\"><span class=\"section ltr\"><a target=\"_blank\" href=\"http://tanzil.net/#26:144\" title=\"show this passage on Tanzil\" sec=\"26:144\">26:144</a></span></td><td class=\"tf\"><span class=\"plain outer rtl  \" ><span class=\"plain txtu ara rtl\"></span><span class=\"plain  rtl   \" ><span class=\"plain txtu ara rtl\"></span><span class=\"plain  rtl   \" ><span class=\"txtu ara\">فَ</span></span><span class=\"plain  rtl   \" ><span class=\"txtu ara\">ٱتَّقُ</span></span><span class=\"plain  rtl   \" ><span class=\"txtu ara\">وا۟ </span></span></span><span class=\"plain  rtl   \" ><span class=\"plain txtu ara rtl\"></span><span class=\"plain  rtl   \" ><span class=\"txtu ara\">ٱللَّهَ </span></span></span><span class=\"plain  rtl   \" ><span class=\"plain txtu ara rtl\"></span><span class=\"plain  rtl   \" ><span class=\"txtu ara\">وَ</span></span><span class=\"plain  rtl   \" ><span class=\"txtu ara\">أَطِيعُ</span></span><span class=\"plain  rtl   \" ><span class=\"txtu ara\">و</span></span><span class=\"plain  rtl   \" ><span class=\"txtu ara\">نِ</span></span></span></span></td></tr>\n",
       "<tr class=\"tf\"><td class=\"tf\">6</td><td class=\"tf\"><span class=\"section ltr\"><a target=\"_blank\" href=\"http://tanzil.net/#26:150\" title=\"show this passage on Tanzil\" sec=\"26:150\">26:150</a></span></td><td class=\"tf\"><span class=\"plain outer rtl  \" ><span class=\"plain txtu ara rtl\"></span><span class=\"plain  rtl   \" ><span class=\"plain txtu ara rtl\"></span><span class=\"plain  rtl   \" ><span class=\"txtu ara\">فَ</span></span><span class=\"plain  rtl   \" ><span class=\"txtu ara\">ٱتَّقُ</span></span><span class=\"plain  rtl   \" ><span class=\"txtu ara\">وا۟ </span></span></span><span class=\"plain  rtl   \" ><span class=\"plain txtu ara rtl\"></span><span class=\"plain  rtl   \" ><span class=\"txtu ara\">ٱللَّهَ </span></span></span><span class=\"plain  rtl   \" ><span class=\"plain txtu ara rtl\"></span><span class=\"plain  rtl   \" ><span class=\"txtu ara\">وَ</span></span><span class=\"plain  rtl   \" ><span class=\"txtu ara\">أَطِيعُ</span></span><span class=\"plain  rtl   \" ><span class=\"txtu ara\">و</span></span><span class=\"plain  rtl   \" ><span class=\"txtu ara\">نِ</span></span></span></span></td></tr>\n",
       "<tr class=\"tf\"><td class=\"tf\">7</td><td class=\"tf\"><span class=\"section ltr\"><a target=\"_blank\" href=\"http://tanzil.net/#26:163\" title=\"show this passage on Tanzil\" sec=\"26:163\">26:163</a></span></td><td class=\"tf\"><span class=\"plain outer rtl  \" ><span class=\"plain txtu ara rtl\"></span><span class=\"plain  rtl   \" ><span class=\"plain txtu ara rtl\"></span><span class=\"plain  rtl   \" ><span class=\"txtu ara\">فَ</span></span><span class=\"plain  rtl   \" ><span class=\"txtu ara\">ٱتَّقُ</span></span><span class=\"plain  rtl   \" ><span class=\"txtu ara\">وا۟ </span></span></span><span class=\"plain  rtl   \" ><span class=\"plain txtu ara rtl\"></span><span class=\"plain  rtl   \" ><span class=\"txtu ara\">ٱللَّهَ </span></span></span><span class=\"plain  rtl   \" ><span class=\"plain txtu ara rtl\"></span><span class=\"plain  rtl   \" ><span class=\"txtu ara\">وَ</span></span><span class=\"plain  rtl   \" ><span class=\"txtu ara\">أَطِيعُ</span></span><span class=\"plain  rtl   \" ><span class=\"txtu ara\">و</span></span><span class=\"plain  rtl   \" ><span class=\"txtu ara\">نِ</span></span></span></span></td></tr>\n",
       "<tr class=\"tf\"><td class=\"tf\">8</td><td class=\"tf\"><span class=\"section ltr\"><a target=\"_blank\" href=\"http://tanzil.net/#26:179\" title=\"show this passage on Tanzil\" sec=\"26:179\">26:179</a></span></td><td class=\"tf\"><span class=\"plain outer rtl  \" ><span class=\"plain txtu ara rtl\"></span><span class=\"plain  rtl   \" ><span class=\"plain txtu ara rtl\"></span><span class=\"plain  rtl   \" ><span class=\"txtu ara\">فَ</span></span><span class=\"plain  rtl   \" ><span class=\"txtu ara\">ٱتَّقُ</span></span><span class=\"plain  rtl   \" ><span class=\"txtu ara\">وا۟ </span></span></span><span class=\"plain  rtl   \" ><span class=\"plain txtu ara rtl\"></span><span class=\"plain  rtl   \" ><span class=\"txtu ara\">ٱللَّهَ </span></span></span><span class=\"plain  rtl   \" ><span class=\"plain txtu ara rtl\"></span><span class=\"plain  rtl   \" ><span class=\"txtu ara\">وَ</span></span><span class=\"plain  rtl   \" ><span class=\"txtu ara\">أَطِيعُ</span></span><span class=\"plain  rtl   \" ><span class=\"txtu ara\">و</span></span><span class=\"plain  rtl   \" ><span class=\"txtu ara\">نِ</span></span></span></span></td></tr>\n",
       "<tr class=\"tf\"><td class=\"tf\">9</td><td class=\"tf\"><span class=\"section ltr\"><a target=\"_blank\" href=\"http://tanzil.net/#71:3\" title=\"show this passage on Tanzil\" sec=\"71:3\">71:3</a></span></td><td class=\"tf\"><span class=\"plain outer rtl  \" ><span class=\"plain txtu ara rtl\"></span><span class=\"plain  rtl   \" ><span class=\"plain txtu ara rtl\"></span><span class=\"plain  rtl   \" ><span class=\"txtu ara\">أَنِ </span></span></span><span class=\"plain  rtl   \" ><span class=\"plain txtu ara rtl\"></span><span class=\"plain  rtl   \" ><span class=\"txtu ara\">ٱعْبُدُ</span></span><span class=\"plain  rtl   \" ><span class=\"txtu ara\">وا۟ </span></span></span><span class=\"plain  rtl   \" ><span class=\"plain txtu ara rtl\"></span><span class=\"plain  rtl   \" ><span class=\"txtu ara\">ٱللَّهَ </span></span></span><span class=\"plain  rtl   \" ><span class=\"plain txtu ara rtl\"></span><span class=\"plain  rtl   \" ><span class=\"txtu ara\">وَ</span></span><span class=\"plain  rtl   \" ><span class=\"txtu ara\">ٱتَّقُ</span></span><span class=\"plain  rtl   \" ><span class=\"txtu ara\">و</span></span><span class=\"plain  rtl   \" ><span class=\"txtu ara\">هُ </span></span></span><span class=\"plain  rtl   \" ><span class=\"plain txtu ara rtl\"></span><span class=\"plain  rtl   \" ><span class=\"txtu ara\">وَ</span></span><span class=\"plain  rtl   \" ><span class=\"txtu ara\">أَطِيعُ</span></span><span class=\"plain  rtl   \" ><span class=\"txtu ara\">و</span></span><span class=\"plain  rtl   \" ><span class=\"txtu ara\">نِ</span></span></span></span></td></tr></table>"
      ],
      "text/plain": [
       "<IPython.core.display.HTML object>"
      ]
     },
     "metadata": {},
     "output_type": "display_data"
    },
    {
     "name": "stdout",
     "output_type": "stream",
     "text": [
      "Cluster with 8 ayas\n"
     ]
    },
    {
     "data": {
      "text/html": [
       "<table><tr class=\"tf\"><th class=\"tf\">n</th><th class=\"tf\">p</th><th class=\"tf\">aya</th></tr>\n",
       "<tr class=\"tf\"><td class=\"tf\">1</td><td class=\"tf\"><span class=\"section ltr\"><a target=\"_blank\" href=\"http://tanzil.net/#26:8\" title=\"show this passage on Tanzil\" sec=\"26:8\">26:8</a></span></td><td class=\"tf\"><span class=\"plain outer rtl  \" ><span class=\"plain txtu ara rtl\"></span><span class=\"plain  rtl   \" ><span class=\"plain txtu ara rtl\"></span><span class=\"plain  rtl   \" ><span class=\"txtu ara\">إِنَّ </span></span></span><span class=\"plain  rtl   \" ><span class=\"plain txtu ara rtl\"></span><span class=\"plain  rtl   \" ><span class=\"txtu ara\">فِى </span></span></span><span class=\"plain  rtl   \" ><span class=\"plain txtu ara rtl\"></span><span class=\"plain  rtl   \" ><span class=\"txtu ara\">ذَٰلِكَ </span></span></span><span class=\"plain  rtl   \" ><span class=\"plain txtu ara rtl\"></span><span class=\"plain  rtl   \" ><span class=\"txtu ara\">لَ</span></span><span class=\"plain  rtl   \" ><span class=\"txtu ara\">ءَايَةً </span></span></span><span class=\"plain  rtl   \" ><span class=\"plain txtu ara rtl\"></span><span class=\"plain  rtl   \" ><span class=\"txtu ara\">وَ</span></span><span class=\"plain  rtl   \" ><span class=\"txtu ara\">مَا </span></span></span><span class=\"plain  rtl   \" ><span class=\"plain txtu ara rtl\"></span><span class=\"plain  rtl   \" ><span class=\"txtu ara\">كَانَ </span></span></span><span class=\"plain  rtl   \" ><span class=\"plain txtu ara rtl\"></span><span class=\"plain  rtl   \" ><span class=\"txtu ara\">أَكْثَرُ</span></span><span class=\"plain  rtl   \" ><span class=\"txtu ara\">هُم </span></span></span><span class=\"plain  rtl   \" ><span class=\"plain txtu ara rtl\"></span><span class=\"plain  rtl   \" ><span class=\"txtu ara\">مُّؤْمِنِينَ</span></span></span></span></td></tr>\n",
       "<tr class=\"tf\"><td class=\"tf\">2</td><td class=\"tf\"><span class=\"section ltr\"><a target=\"_blank\" href=\"http://tanzil.net/#26:67\" title=\"show this passage on Tanzil\" sec=\"26:67\">26:67</a></span></td><td class=\"tf\"><span class=\"plain outer rtl  \" ><span class=\"plain txtu ara rtl\"></span><span class=\"plain  rtl   \" ><span class=\"plain txtu ara rtl\"></span><span class=\"plain  rtl   \" ><span class=\"txtu ara\">إِنَّ </span></span></span><span class=\"plain  rtl   \" ><span class=\"plain txtu ara rtl\"></span><span class=\"plain  rtl   \" ><span class=\"txtu ara\">فِى </span></span></span><span class=\"plain  rtl   \" ><span class=\"plain txtu ara rtl\"></span><span class=\"plain  rtl   \" ><span class=\"txtu ara\">ذَٰلِكَ </span></span></span><span class=\"plain  rtl   \" ><span class=\"plain txtu ara rtl\"></span><span class=\"plain  rtl   \" ><span class=\"txtu ara\">لَ</span></span><span class=\"plain  rtl   \" ><span class=\"txtu ara\">ءَايَةً </span></span></span><span class=\"plain  rtl   \" ><span class=\"plain txtu ara rtl\"></span><span class=\"plain  rtl   \" ><span class=\"txtu ara\">وَ</span></span><span class=\"plain  rtl   \" ><span class=\"txtu ara\">مَا </span></span></span><span class=\"plain  rtl   \" ><span class=\"plain txtu ara rtl\"></span><span class=\"plain  rtl   \" ><span class=\"txtu ara\">كَانَ </span></span></span><span class=\"plain  rtl   \" ><span class=\"plain txtu ara rtl\"></span><span class=\"plain  rtl   \" ><span class=\"txtu ara\">أَكْثَرُ</span></span><span class=\"plain  rtl   \" ><span class=\"txtu ara\">هُم </span></span></span><span class=\"plain  rtl   \" ><span class=\"plain txtu ara rtl\"></span><span class=\"plain  rtl   \" ><span class=\"txtu ara\">مُّؤْمِنِينَ</span></span></span></span></td></tr>\n",
       "<tr class=\"tf\"><td class=\"tf\">3</td><td class=\"tf\"><span class=\"section ltr\"><a target=\"_blank\" href=\"http://tanzil.net/#26:103\" title=\"show this passage on Tanzil\" sec=\"26:103\">26:103</a></span></td><td class=\"tf\"><span class=\"plain outer rtl  \" ><span class=\"plain txtu ara rtl\"></span><span class=\"plain  rtl   \" ><span class=\"plain txtu ara rtl\"></span><span class=\"plain  rtl   \" ><span class=\"txtu ara\">إِنَّ </span></span></span><span class=\"plain  rtl   \" ><span class=\"plain txtu ara rtl\"></span><span class=\"plain  rtl   \" ><span class=\"txtu ara\">فِى </span></span></span><span class=\"plain  rtl   \" ><span class=\"plain txtu ara rtl\"></span><span class=\"plain  rtl   \" ><span class=\"txtu ara\">ذَٰلِكَ </span></span></span><span class=\"plain  rtl   \" ><span class=\"plain txtu ara rtl\"></span><span class=\"plain  rtl   \" ><span class=\"txtu ara\">لَ</span></span><span class=\"plain  rtl   \" ><span class=\"txtu ara\">ءَايَةً </span></span></span><span class=\"plain  rtl   \" ><span class=\"plain txtu ara rtl\"></span><span class=\"plain  rtl   \" ><span class=\"txtu ara\">وَ</span></span><span class=\"plain  rtl   \" ><span class=\"txtu ara\">مَا </span></span></span><span class=\"plain  rtl   \" ><span class=\"plain txtu ara rtl\"></span><span class=\"plain  rtl   \" ><span class=\"txtu ara\">كَانَ </span></span></span><span class=\"plain  rtl   \" ><span class=\"plain txtu ara rtl\"></span><span class=\"plain  rtl   \" ><span class=\"txtu ara\">أَكْثَرُ</span></span><span class=\"plain  rtl   \" ><span class=\"txtu ara\">هُم </span></span></span><span class=\"plain  rtl   \" ><span class=\"plain txtu ara rtl\"></span><span class=\"plain  rtl   \" ><span class=\"txtu ara\">مُّؤْمِنِينَ</span></span></span></span></td></tr>\n",
       "<tr class=\"tf\"><td class=\"tf\">4</td><td class=\"tf\"><span class=\"section ltr\"><a target=\"_blank\" href=\"http://tanzil.net/#26:121\" title=\"show this passage on Tanzil\" sec=\"26:121\">26:121</a></span></td><td class=\"tf\"><span class=\"plain outer rtl  \" ><span class=\"plain txtu ara rtl\"></span><span class=\"plain  rtl   \" ><span class=\"plain txtu ara rtl\"></span><span class=\"plain  rtl   \" ><span class=\"txtu ara\">إِنَّ </span></span></span><span class=\"plain  rtl   \" ><span class=\"plain txtu ara rtl\"></span><span class=\"plain  rtl   \" ><span class=\"txtu ara\">فِى </span></span></span><span class=\"plain  rtl   \" ><span class=\"plain txtu ara rtl\"></span><span class=\"plain  rtl   \" ><span class=\"txtu ara\">ذَٰلِكَ </span></span></span><span class=\"plain  rtl   \" ><span class=\"plain txtu ara rtl\"></span><span class=\"plain  rtl   \" ><span class=\"txtu ara\">لَ</span></span><span class=\"plain  rtl   \" ><span class=\"txtu ara\">ءَايَةً </span></span></span><span class=\"plain  rtl   \" ><span class=\"plain txtu ara rtl\"></span><span class=\"plain  rtl   \" ><span class=\"txtu ara\">وَ</span></span><span class=\"plain  rtl   \" ><span class=\"txtu ara\">مَا </span></span></span><span class=\"plain  rtl   \" ><span class=\"plain txtu ara rtl\"></span><span class=\"plain  rtl   \" ><span class=\"txtu ara\">كَانَ </span></span></span><span class=\"plain  rtl   \" ><span class=\"plain txtu ara rtl\"></span><span class=\"plain  rtl   \" ><span class=\"txtu ara\">أَكْثَرُ</span></span><span class=\"plain  rtl   \" ><span class=\"txtu ara\">هُم </span></span></span><span class=\"plain  rtl   \" ><span class=\"plain txtu ara rtl\"></span><span class=\"plain  rtl   \" ><span class=\"txtu ara\">مُّؤْمِنِينَ</span></span></span></span></td></tr>\n",
       "<tr class=\"tf\"><td class=\"tf\">5</td><td class=\"tf\"><span class=\"section ltr\"><a target=\"_blank\" href=\"http://tanzil.net/#26:139\" title=\"show this passage on Tanzil\" sec=\"26:139\">26:139</a></span></td><td class=\"tf\"><span class=\"plain outer rtl  \" ><span class=\"plain txtu ara rtl\"></span><span class=\"plain  rtl   \" ><span class=\"plain txtu ara rtl\"></span><span class=\"plain  rtl   \" ><span class=\"txtu ara\">فَ</span></span><span class=\"plain  rtl   \" ><span class=\"txtu ara\">كَذَّبُ</span></span><span class=\"plain  rtl   \" ><span class=\"txtu ara\">و</span></span><span class=\"plain  rtl   \" ><span class=\"txtu ara\">هُ </span></span></span><span class=\"plain  rtl   \" ><span class=\"plain txtu ara rtl\"></span><span class=\"plain  rtl   \" ><span class=\"txtu ara\">فَ</span></span><span class=\"plain  rtl   \" ><span class=\"txtu ara\">أَهْلَكْ</span></span><span class=\"plain  rtl   \" ><span class=\"txtu ara\">نَٰ</span></span><span class=\"plain  rtl   \" ><span class=\"txtu ara\">هُمْ </span></span></span><span class=\"plain  rtl   \" ><span class=\"plain txtu ara rtl\"></span><span class=\"plain  rtl   \" ><span class=\"txtu ara\">إِنَّ </span></span></span><span class=\"plain  rtl   \" ><span class=\"plain txtu ara rtl\"></span><span class=\"plain  rtl   \" ><span class=\"txtu ara\">فِى </span></span></span><span class=\"plain  rtl   \" ><span class=\"plain txtu ara rtl\"></span><span class=\"plain  rtl   \" ><span class=\"txtu ara\">ذَٰلِكَ </span></span></span><span class=\"plain  rtl   \" ><span class=\"plain txtu ara rtl\"></span><span class=\"plain  rtl   \" ><span class=\"txtu ara\">لَ</span></span><span class=\"plain  rtl   \" ><span class=\"txtu ara\">ءَايَةً </span></span></span><span class=\"plain  rtl   \" ><span class=\"plain txtu ara rtl\"></span><span class=\"plain  rtl   \" ><span class=\"txtu ara\">وَ</span></span><span class=\"plain  rtl   \" ><span class=\"txtu ara\">مَا </span></span></span><span class=\"plain  rtl   \" ><span class=\"plain txtu ara rtl\"></span><span class=\"plain  rtl   \" ><span class=\"txtu ara\">كَانَ </span></span></span><span class=\"plain  rtl   \" ><span class=\"plain txtu ara rtl\"></span><span class=\"plain  rtl   \" ><span class=\"txtu ara\">أَكْثَرُ</span></span><span class=\"plain  rtl   \" ><span class=\"txtu ara\">هُم </span></span></span><span class=\"plain  rtl   \" ><span class=\"plain txtu ara rtl\"></span><span class=\"plain  rtl   \" ><span class=\"txtu ara\">مُّؤْمِنِينَ</span></span></span></span></td></tr>\n",
       "<tr class=\"tf\"><td class=\"tf\">6</td><td class=\"tf\"><span class=\"section ltr\"><a target=\"_blank\" href=\"http://tanzil.net/#26:158\" title=\"show this passage on Tanzil\" sec=\"26:158\">26:158</a></span></td><td class=\"tf\"><span class=\"plain outer rtl  \" ><span class=\"plain txtu ara rtl\"></span><span class=\"plain  rtl   \" ><span class=\"plain txtu ara rtl\"></span><span class=\"plain  rtl   \" ><span class=\"txtu ara\">فَ</span></span><span class=\"plain  rtl   \" ><span class=\"txtu ara\">أَخَذَ</span></span><span class=\"plain  rtl   \" ><span class=\"txtu ara\">هُمُ </span></span></span><span class=\"plain  rtl   \" ><span class=\"plain txtu ara rtl\"></span><span class=\"plain  rtl   \" ><span class=\"txtu ara\">ٱلْ</span></span><span class=\"plain  rtl   \" ><span class=\"txtu ara\">عَذَابُ </span></span></span><span class=\"plain  rtl   \" ><span class=\"plain txtu ara rtl\"></span><span class=\"plain  rtl   \" ><span class=\"txtu ara\">إِنَّ </span></span></span><span class=\"plain  rtl   \" ><span class=\"plain txtu ara rtl\"></span><span class=\"plain  rtl   \" ><span class=\"txtu ara\">فِى </span></span></span><span class=\"plain  rtl   \" ><span class=\"plain txtu ara rtl\"></span><span class=\"plain  rtl   \" ><span class=\"txtu ara\">ذَٰلِكَ </span></span></span><span class=\"plain  rtl   \" ><span class=\"plain txtu ara rtl\"></span><span class=\"plain  rtl   \" ><span class=\"txtu ara\">لَ</span></span><span class=\"plain  rtl   \" ><span class=\"txtu ara\">ءَايَةً </span></span></span><span class=\"plain  rtl   \" ><span class=\"plain txtu ara rtl\"></span><span class=\"plain  rtl   \" ><span class=\"txtu ara\">وَ</span></span><span class=\"plain  rtl   \" ><span class=\"txtu ara\">مَا </span></span></span><span class=\"plain  rtl   \" ><span class=\"plain txtu ara rtl\"></span><span class=\"plain  rtl   \" ><span class=\"txtu ara\">كَانَ </span></span></span><span class=\"plain  rtl   \" ><span class=\"plain txtu ara rtl\"></span><span class=\"plain  rtl   \" ><span class=\"txtu ara\">أَكْثَرُ</span></span><span class=\"plain  rtl   \" ><span class=\"txtu ara\">هُم </span></span></span><span class=\"plain  rtl   \" ><span class=\"plain txtu ara rtl\"></span><span class=\"plain  rtl   \" ><span class=\"txtu ara\">مُّؤْمِنِينَ</span></span></span></span></td></tr>\n",
       "<tr class=\"tf\"><td class=\"tf\">7</td><td class=\"tf\"><span class=\"section ltr\"><a target=\"_blank\" href=\"http://tanzil.net/#26:174\" title=\"show this passage on Tanzil\" sec=\"26:174\">26:174</a></span></td><td class=\"tf\"><span class=\"plain outer rtl  \" ><span class=\"plain txtu ara rtl\"></span><span class=\"plain  rtl   \" ><span class=\"plain txtu ara rtl\"></span><span class=\"plain  rtl   \" ><span class=\"txtu ara\">إِنَّ </span></span></span><span class=\"plain  rtl   \" ><span class=\"plain txtu ara rtl\"></span><span class=\"plain  rtl   \" ><span class=\"txtu ara\">فِى </span></span></span><span class=\"plain  rtl   \" ><span class=\"plain txtu ara rtl\"></span><span class=\"plain  rtl   \" ><span class=\"txtu ara\">ذَٰلِكَ </span></span></span><span class=\"plain  rtl   \" ><span class=\"plain txtu ara rtl\"></span><span class=\"plain  rtl   \" ><span class=\"txtu ara\">لَ</span></span><span class=\"plain  rtl   \" ><span class=\"txtu ara\">ءَايَةً </span></span></span><span class=\"plain  rtl   \" ><span class=\"plain txtu ara rtl\"></span><span class=\"plain  rtl   \" ><span class=\"txtu ara\">وَ</span></span><span class=\"plain  rtl   \" ><span class=\"txtu ara\">مَا </span></span></span><span class=\"plain  rtl   \" ><span class=\"plain txtu ara rtl\"></span><span class=\"plain  rtl   \" ><span class=\"txtu ara\">كَانَ </span></span></span><span class=\"plain  rtl   \" ><span class=\"plain txtu ara rtl\"></span><span class=\"plain  rtl   \" ><span class=\"txtu ara\">أَكْثَرُ</span></span><span class=\"plain  rtl   \" ><span class=\"txtu ara\">هُم </span></span></span><span class=\"plain  rtl   \" ><span class=\"plain txtu ara rtl\"></span><span class=\"plain  rtl   \" ><span class=\"txtu ara\">مُّؤْمِنِينَ</span></span></span></span></td></tr>\n",
       "<tr class=\"tf\"><td class=\"tf\">8</td><td class=\"tf\"><span class=\"section ltr\"><a target=\"_blank\" href=\"http://tanzil.net/#26:190\" title=\"show this passage on Tanzil\" sec=\"26:190\">26:190</a></span></td><td class=\"tf\"><span class=\"plain outer rtl  \" ><span class=\"plain txtu ara rtl\"></span><span class=\"plain  rtl   \" ><span class=\"plain txtu ara rtl\"></span><span class=\"plain  rtl   \" ><span class=\"txtu ara\">إِنَّ </span></span></span><span class=\"plain  rtl   \" ><span class=\"plain txtu ara rtl\"></span><span class=\"plain  rtl   \" ><span class=\"txtu ara\">فِى </span></span></span><span class=\"plain  rtl   \" ><span class=\"plain txtu ara rtl\"></span><span class=\"plain  rtl   \" ><span class=\"txtu ara\">ذَٰلِكَ </span></span></span><span class=\"plain  rtl   \" ><span class=\"plain txtu ara rtl\"></span><span class=\"plain  rtl   \" ><span class=\"txtu ara\">لَ</span></span><span class=\"plain  rtl   \" ><span class=\"txtu ara\">ءَايَةً </span></span></span><span class=\"plain  rtl   \" ><span class=\"plain txtu ara rtl\"></span><span class=\"plain  rtl   \" ><span class=\"txtu ara\">وَ</span></span><span class=\"plain  rtl   \" ><span class=\"txtu ara\">مَا </span></span></span><span class=\"plain  rtl   \" ><span class=\"plain txtu ara rtl\"></span><span class=\"plain  rtl   \" ><span class=\"txtu ara\">كَانَ </span></span></span><span class=\"plain  rtl   \" ><span class=\"plain txtu ara rtl\"></span><span class=\"plain  rtl   \" ><span class=\"txtu ara\">أَكْثَرُ</span></span><span class=\"plain  rtl   \" ><span class=\"txtu ara\">هُم </span></span></span><span class=\"plain  rtl   \" ><span class=\"plain txtu ara rtl\"></span><span class=\"plain  rtl   \" ><span class=\"txtu ara\">مُّؤْمِنِينَ</span></span></span></span></td></tr></table>"
      ],
      "text/plain": [
       "<IPython.core.display.HTML object>"
      ]
     },
     "metadata": {},
     "output_type": "display_data"
    },
    {
     "name": "stdout",
     "output_type": "stream",
     "text": [
      "Cluster with 8 ayas\n"
     ]
    },
    {
     "data": {
      "text/html": [
       "<table><tr class=\"tf\"><th class=\"tf\">n</th><th class=\"tf\">p</th><th class=\"tf\">aya</th></tr>\n",
       "<tr class=\"tf\"><td class=\"tf\">1</td><td class=\"tf\"><span class=\"section ltr\"><a target=\"_blank\" href=\"http://tanzil.net/#26:9\" title=\"show this passage on Tanzil\" sec=\"26:9\">26:9</a></span></td><td class=\"tf\"><span class=\"plain outer rtl  \" ><span class=\"plain txtu ara rtl\"></span><span class=\"plain  rtl   \" ><span class=\"plain txtu ara rtl\"></span><span class=\"plain  rtl   \" ><span class=\"txtu ara\">وَ</span></span><span class=\"plain  rtl   \" ><span class=\"txtu ara\">إِنَّ </span></span></span><span class=\"plain  rtl   \" ><span class=\"plain txtu ara rtl\"></span><span class=\"plain  rtl   \" ><span class=\"txtu ara\">رَبَّ</span></span><span class=\"plain  rtl   \" ><span class=\"txtu ara\">كَ </span></span></span><span class=\"plain  rtl   \" ><span class=\"plain txtu ara rtl\"></span><span class=\"plain  rtl   \" ><span class=\"txtu ara\">لَ</span></span><span class=\"plain  rtl   \" ><span class=\"txtu ara\">هُوَ </span></span></span><span class=\"plain  rtl   \" ><span class=\"plain txtu ara rtl\"></span><span class=\"plain  rtl   \" ><span class=\"txtu ara\">ٱلْ</span></span><span class=\"plain  rtl   \" ><span class=\"txtu ara\">عَزِيزُ </span></span></span><span class=\"plain  rtl   \" ><span class=\"plain txtu ara rtl\"></span><span class=\"plain  rtl   \" ><span class=\"txtu ara\">ٱل</span></span><span class=\"plain  rtl   \" ><span class=\"txtu ara\">رَّحِيمُ</span></span></span></span></td></tr>\n",
       "<tr class=\"tf\"><td class=\"tf\">2</td><td class=\"tf\"><span class=\"section ltr\"><a target=\"_blank\" href=\"http://tanzil.net/#26:68\" title=\"show this passage on Tanzil\" sec=\"26:68\">26:68</a></span></td><td class=\"tf\"><span class=\"plain outer rtl  \" ><span class=\"plain txtu ara rtl\"></span><span class=\"plain  rtl   \" ><span class=\"plain txtu ara rtl\"></span><span class=\"plain  rtl   \" ><span class=\"txtu ara\">وَ</span></span><span class=\"plain  rtl   \" ><span class=\"txtu ara\">إِنَّ </span></span></span><span class=\"plain  rtl   \" ><span class=\"plain txtu ara rtl\"></span><span class=\"plain  rtl   \" ><span class=\"txtu ara\">رَبَّ</span></span><span class=\"plain  rtl   \" ><span class=\"txtu ara\">كَ </span></span></span><span class=\"plain  rtl   \" ><span class=\"plain txtu ara rtl\"></span><span class=\"plain  rtl   \" ><span class=\"txtu ara\">لَ</span></span><span class=\"plain  rtl   \" ><span class=\"txtu ara\">هُوَ </span></span></span><span class=\"plain  rtl   \" ><span class=\"plain txtu ara rtl\"></span><span class=\"plain  rtl   \" ><span class=\"txtu ara\">ٱلْ</span></span><span class=\"plain  rtl   \" ><span class=\"txtu ara\">عَزِيزُ </span></span></span><span class=\"plain  rtl   \" ><span class=\"plain txtu ara rtl\"></span><span class=\"plain  rtl   \" ><span class=\"txtu ara\">ٱل</span></span><span class=\"plain  rtl   \" ><span class=\"txtu ara\">رَّحِيمُ</span></span></span></span></td></tr>\n",
       "<tr class=\"tf\"><td class=\"tf\">3</td><td class=\"tf\"><span class=\"section ltr\"><a target=\"_blank\" href=\"http://tanzil.net/#26:104\" title=\"show this passage on Tanzil\" sec=\"26:104\">26:104</a></span></td><td class=\"tf\"><span class=\"plain outer rtl  \" ><span class=\"plain txtu ara rtl\"></span><span class=\"plain  rtl   \" ><span class=\"plain txtu ara rtl\"></span><span class=\"plain  rtl   \" ><span class=\"txtu ara\">وَ</span></span><span class=\"plain  rtl   \" ><span class=\"txtu ara\">إِنَّ </span></span></span><span class=\"plain  rtl   \" ><span class=\"plain txtu ara rtl\"></span><span class=\"plain  rtl   \" ><span class=\"txtu ara\">رَبَّ</span></span><span class=\"plain  rtl   \" ><span class=\"txtu ara\">كَ </span></span></span><span class=\"plain  rtl   \" ><span class=\"plain txtu ara rtl\"></span><span class=\"plain  rtl   \" ><span class=\"txtu ara\">لَ</span></span><span class=\"plain  rtl   \" ><span class=\"txtu ara\">هُوَ </span></span></span><span class=\"plain  rtl   \" ><span class=\"plain txtu ara rtl\"></span><span class=\"plain  rtl   \" ><span class=\"txtu ara\">ٱلْ</span></span><span class=\"plain  rtl   \" ><span class=\"txtu ara\">عَزِيزُ </span></span></span><span class=\"plain  rtl   \" ><span class=\"plain txtu ara rtl\"></span><span class=\"plain  rtl   \" ><span class=\"txtu ara\">ٱل</span></span><span class=\"plain  rtl   \" ><span class=\"txtu ara\">رَّحِيمُ</span></span></span></span></td></tr>\n",
       "<tr class=\"tf\"><td class=\"tf\">4</td><td class=\"tf\"><span class=\"section ltr\"><a target=\"_blank\" href=\"http://tanzil.net/#26:122\" title=\"show this passage on Tanzil\" sec=\"26:122\">26:122</a></span></td><td class=\"tf\"><span class=\"plain outer rtl  \" ><span class=\"plain txtu ara rtl\"></span><span class=\"plain  rtl   \" ><span class=\"plain txtu ara rtl\"></span><span class=\"plain  rtl   \" ><span class=\"txtu ara\">وَ</span></span><span class=\"plain  rtl   \" ><span class=\"txtu ara\">إِنَّ </span></span></span><span class=\"plain  rtl   \" ><span class=\"plain txtu ara rtl\"></span><span class=\"plain  rtl   \" ><span class=\"txtu ara\">رَبَّ</span></span><span class=\"plain  rtl   \" ><span class=\"txtu ara\">كَ </span></span></span><span class=\"plain  rtl   \" ><span class=\"plain txtu ara rtl\"></span><span class=\"plain  rtl   \" ><span class=\"txtu ara\">لَ</span></span><span class=\"plain  rtl   \" ><span class=\"txtu ara\">هُوَ </span></span></span><span class=\"plain  rtl   \" ><span class=\"plain txtu ara rtl\"></span><span class=\"plain  rtl   \" ><span class=\"txtu ara\">ٱلْ</span></span><span class=\"plain  rtl   \" ><span class=\"txtu ara\">عَزِيزُ </span></span></span><span class=\"plain  rtl   \" ><span class=\"plain txtu ara rtl\"></span><span class=\"plain  rtl   \" ><span class=\"txtu ara\">ٱل</span></span><span class=\"plain  rtl   \" ><span class=\"txtu ara\">رَّحِيمُ</span></span></span></span></td></tr>\n",
       "<tr class=\"tf\"><td class=\"tf\">5</td><td class=\"tf\"><span class=\"section ltr\"><a target=\"_blank\" href=\"http://tanzil.net/#26:140\" title=\"show this passage on Tanzil\" sec=\"26:140\">26:140</a></span></td><td class=\"tf\"><span class=\"plain outer rtl  \" ><span class=\"plain txtu ara rtl\"></span><span class=\"plain  rtl   \" ><span class=\"plain txtu ara rtl\"></span><span class=\"plain  rtl   \" ><span class=\"txtu ara\">وَ</span></span><span class=\"plain  rtl   \" ><span class=\"txtu ara\">إِنَّ </span></span></span><span class=\"plain  rtl   \" ><span class=\"plain txtu ara rtl\"></span><span class=\"plain  rtl   \" ><span class=\"txtu ara\">رَبَّ</span></span><span class=\"plain  rtl   \" ><span class=\"txtu ara\">كَ </span></span></span><span class=\"plain  rtl   \" ><span class=\"plain txtu ara rtl\"></span><span class=\"plain  rtl   \" ><span class=\"txtu ara\">لَ</span></span><span class=\"plain  rtl   \" ><span class=\"txtu ara\">هُوَ </span></span></span><span class=\"plain  rtl   \" ><span class=\"plain txtu ara rtl\"></span><span class=\"plain  rtl   \" ><span class=\"txtu ara\">ٱلْ</span></span><span class=\"plain  rtl   \" ><span class=\"txtu ara\">عَزِيزُ </span></span></span><span class=\"plain  rtl   \" ><span class=\"plain txtu ara rtl\"></span><span class=\"plain  rtl   \" ><span class=\"txtu ara\">ٱل</span></span><span class=\"plain  rtl   \" ><span class=\"txtu ara\">رَّحِيمُ</span></span></span></span></td></tr>\n",
       "<tr class=\"tf\"><td class=\"tf\">6</td><td class=\"tf\"><span class=\"section ltr\"><a target=\"_blank\" href=\"http://tanzil.net/#26:159\" title=\"show this passage on Tanzil\" sec=\"26:159\">26:159</a></span></td><td class=\"tf\"><span class=\"plain outer rtl  \" ><span class=\"plain txtu ara rtl\"></span><span class=\"plain  rtl   \" ><span class=\"plain txtu ara rtl\"></span><span class=\"plain  rtl   \" ><span class=\"txtu ara\">وَ</span></span><span class=\"plain  rtl   \" ><span class=\"txtu ara\">إِنَّ </span></span></span><span class=\"plain  rtl   \" ><span class=\"plain txtu ara rtl\"></span><span class=\"plain  rtl   \" ><span class=\"txtu ara\">رَبَّ</span></span><span class=\"plain  rtl   \" ><span class=\"txtu ara\">كَ </span></span></span><span class=\"plain  rtl   \" ><span class=\"plain txtu ara rtl\"></span><span class=\"plain  rtl   \" ><span class=\"txtu ara\">لَ</span></span><span class=\"plain  rtl   \" ><span class=\"txtu ara\">هُوَ </span></span></span><span class=\"plain  rtl   \" ><span class=\"plain txtu ara rtl\"></span><span class=\"plain  rtl   \" ><span class=\"txtu ara\">ٱلْ</span></span><span class=\"plain  rtl   \" ><span class=\"txtu ara\">عَزِيزُ </span></span></span><span class=\"plain  rtl   \" ><span class=\"plain txtu ara rtl\"></span><span class=\"plain  rtl   \" ><span class=\"txtu ara\">ٱل</span></span><span class=\"plain  rtl   \" ><span class=\"txtu ara\">رَّحِيمُ</span></span></span></span></td></tr>\n",
       "<tr class=\"tf\"><td class=\"tf\">7</td><td class=\"tf\"><span class=\"section ltr\"><a target=\"_blank\" href=\"http://tanzil.net/#26:175\" title=\"show this passage on Tanzil\" sec=\"26:175\">26:175</a></span></td><td class=\"tf\"><span class=\"plain outer rtl  \" ><span class=\"plain txtu ara rtl\"></span><span class=\"plain  rtl   \" ><span class=\"plain txtu ara rtl\"></span><span class=\"plain  rtl   \" ><span class=\"txtu ara\">وَ</span></span><span class=\"plain  rtl   \" ><span class=\"txtu ara\">إِنَّ </span></span></span><span class=\"plain  rtl   \" ><span class=\"plain txtu ara rtl\"></span><span class=\"plain  rtl   \" ><span class=\"txtu ara\">رَبَّ</span></span><span class=\"plain  rtl   \" ><span class=\"txtu ara\">كَ </span></span></span><span class=\"plain  rtl   \" ><span class=\"plain txtu ara rtl\"></span><span class=\"plain  rtl   \" ><span class=\"txtu ara\">لَ</span></span><span class=\"plain  rtl   \" ><span class=\"txtu ara\">هُوَ </span></span></span><span class=\"plain  rtl   \" ><span class=\"plain txtu ara rtl\"></span><span class=\"plain  rtl   \" ><span class=\"txtu ara\">ٱلْ</span></span><span class=\"plain  rtl   \" ><span class=\"txtu ara\">عَزِيزُ </span></span></span><span class=\"plain  rtl   \" ><span class=\"plain txtu ara rtl\"></span><span class=\"plain  rtl   \" ><span class=\"txtu ara\">ٱل</span></span><span class=\"plain  rtl   \" ><span class=\"txtu ara\">رَّحِيمُ</span></span></span></span></td></tr>\n",
       "<tr class=\"tf\"><td class=\"tf\">8</td><td class=\"tf\"><span class=\"section ltr\"><a target=\"_blank\" href=\"http://tanzil.net/#26:191\" title=\"show this passage on Tanzil\" sec=\"26:191\">26:191</a></span></td><td class=\"tf\"><span class=\"plain outer rtl  \" ><span class=\"plain txtu ara rtl\"></span><span class=\"plain  rtl   \" ><span class=\"plain txtu ara rtl\"></span><span class=\"plain  rtl   \" ><span class=\"txtu ara\">وَ</span></span><span class=\"plain  rtl   \" ><span class=\"txtu ara\">إِنَّ </span></span></span><span class=\"plain  rtl   \" ><span class=\"plain txtu ara rtl\"></span><span class=\"plain  rtl   \" ><span class=\"txtu ara\">رَبَّ</span></span><span class=\"plain  rtl   \" ><span class=\"txtu ara\">كَ </span></span></span><span class=\"plain  rtl   \" ><span class=\"plain txtu ara rtl\"></span><span class=\"plain  rtl   \" ><span class=\"txtu ara\">لَ</span></span><span class=\"plain  rtl   \" ><span class=\"txtu ara\">هُوَ </span></span></span><span class=\"plain  rtl   \" ><span class=\"plain txtu ara rtl\"></span><span class=\"plain  rtl   \" ><span class=\"txtu ara\">ٱلْ</span></span><span class=\"plain  rtl   \" ><span class=\"txtu ara\">عَزِيزُ </span></span></span><span class=\"plain  rtl   \" ><span class=\"plain txtu ara rtl\"></span><span class=\"plain  rtl   \" ><span class=\"txtu ara\">ٱل</span></span><span class=\"plain  rtl   \" ><span class=\"txtu ara\">رَّحِيمُ</span></span></span></span></td></tr></table>"
      ],
      "text/plain": [
       "<IPython.core.display.HTML object>"
      ]
     },
     "metadata": {},
     "output_type": "display_data"
    },
    {
     "name": "stdout",
     "output_type": "stream",
     "text": [
      "Cluster with 7 ayas\n"
     ]
    },
    {
     "data": {
      "text/html": [
       "<table><tr class=\"tf\"><th class=\"tf\">n</th><th class=\"tf\">p</th><th class=\"tf\">aya</th></tr>\n",
       "<tr class=\"tf\"><td class=\"tf\">1</td><td class=\"tf\"><span class=\"section ltr\"><a target=\"_blank\" href=\"http://tanzil.net/#10:48\" title=\"show this passage on Tanzil\" sec=\"10:48\">10:48</a></span></td><td class=\"tf\"><span class=\"plain outer rtl  \" ><span class=\"plain txtu ara rtl\"></span><span class=\"plain  rtl   \" ><span class=\"plain txtu ara rtl\"></span><span class=\"plain  rtl   \" ><span class=\"txtu ara\">وَ</span></span><span class=\"plain  rtl   \" ><span class=\"txtu ara\">يَقُولُ</span></span><span class=\"plain  rtl   \" ><span class=\"txtu ara\">ونَ </span></span></span><span class=\"plain  rtl   \" ><span class=\"plain txtu ara rtl\"></span><span class=\"plain  rtl   \" ><span class=\"txtu ara\">مَتَىٰ </span></span></span><span class=\"plain  rtl   \" ><span class=\"plain txtu ara rtl\"></span><span class=\"plain  rtl   \" ><span class=\"txtu ara\">هَٰذَا </span></span></span><span class=\"plain  rtl   \" ><span class=\"plain txtu ara rtl\"></span><span class=\"plain  rtl   \" ><span class=\"txtu ara\">ٱلْ</span></span><span class=\"plain  rtl   \" ><span class=\"txtu ara\">وَعْدُ </span></span></span><span class=\"plain  rtl   \" ><span class=\"plain txtu ara rtl\"></span><span class=\"plain  rtl   \" ><span class=\"txtu ara\">إِن </span></span></span><span class=\"plain  rtl   \" ><span class=\"plain txtu ara rtl\"></span><span class=\"plain  rtl   \" ><span class=\"txtu ara\">كُن</span></span><span class=\"plain  rtl   \" ><span class=\"txtu ara\">تُمْ </span></span></span><span class=\"plain  rtl   \" ><span class=\"plain txtu ara rtl\"></span><span class=\"plain  rtl   \" ><span class=\"txtu ara\">صَٰدِقِينَ</span></span></span></span></td></tr>\n",
       "<tr class=\"tf\"><td class=\"tf\">2</td><td class=\"tf\"><span class=\"section ltr\"><a target=\"_blank\" href=\"http://tanzil.net/#21:38\" title=\"show this passage on Tanzil\" sec=\"21:38\">21:38</a></span></td><td class=\"tf\"><span class=\"plain outer rtl  \" ><span class=\"plain txtu ara rtl\"></span><span class=\"plain  rtl   \" ><span class=\"plain txtu ara rtl\"></span><span class=\"plain  rtl   \" ><span class=\"txtu ara\">وَ</span></span><span class=\"plain  rtl   \" ><span class=\"txtu ara\">يَقُولُ</span></span><span class=\"plain  rtl   \" ><span class=\"txtu ara\">ونَ </span></span></span><span class=\"plain  rtl   \" ><span class=\"plain txtu ara rtl\"></span><span class=\"plain  rtl   \" ><span class=\"txtu ara\">مَتَىٰ </span></span></span><span class=\"plain  rtl   \" ><span class=\"plain txtu ara rtl\"></span><span class=\"plain  rtl   \" ><span class=\"txtu ara\">هَٰذَا </span></span></span><span class=\"plain  rtl   \" ><span class=\"plain txtu ara rtl\"></span><span class=\"plain  rtl   \" ><span class=\"txtu ara\">ٱلْ</span></span><span class=\"plain  rtl   \" ><span class=\"txtu ara\">وَعْدُ </span></span></span><span class=\"plain  rtl   \" ><span class=\"plain txtu ara rtl\"></span><span class=\"plain  rtl   \" ><span class=\"txtu ara\">إِن </span></span></span><span class=\"plain  rtl   \" ><span class=\"plain txtu ara rtl\"></span><span class=\"plain  rtl   \" ><span class=\"txtu ara\">كُن</span></span><span class=\"plain  rtl   \" ><span class=\"txtu ara\">تُمْ </span></span></span><span class=\"plain  rtl   \" ><span class=\"plain txtu ara rtl\"></span><span class=\"plain  rtl   \" ><span class=\"txtu ara\">صَٰدِقِينَ</span></span></span></span></td></tr>\n",
       "<tr class=\"tf\"><td class=\"tf\">3</td><td class=\"tf\"><span class=\"section ltr\"><a target=\"_blank\" href=\"http://tanzil.net/#27:71\" title=\"show this passage on Tanzil\" sec=\"27:71\">27:71</a></span></td><td class=\"tf\"><span class=\"plain outer rtl  \" ><span class=\"plain txtu ara rtl\"></span><span class=\"plain  rtl   \" ><span class=\"plain txtu ara rtl\"></span><span class=\"plain  rtl   \" ><span class=\"txtu ara\">وَ</span></span><span class=\"plain  rtl   \" ><span class=\"txtu ara\">يَقُولُ</span></span><span class=\"plain  rtl   \" ><span class=\"txtu ara\">ونَ </span></span></span><span class=\"plain  rtl   \" ><span class=\"plain txtu ara rtl\"></span><span class=\"plain  rtl   \" ><span class=\"txtu ara\">مَتَىٰ </span></span></span><span class=\"plain  rtl   \" ><span class=\"plain txtu ara rtl\"></span><span class=\"plain  rtl   \" ><span class=\"txtu ara\">هَٰذَا </span></span></span><span class=\"plain  rtl   \" ><span class=\"plain txtu ara rtl\"></span><span class=\"plain  rtl   \" ><span class=\"txtu ara\">ٱلْ</span></span><span class=\"plain  rtl   \" ><span class=\"txtu ara\">وَعْدُ </span></span></span><span class=\"plain  rtl   \" ><span class=\"plain txtu ara rtl\"></span><span class=\"plain  rtl   \" ><span class=\"txtu ara\">إِن </span></span></span><span class=\"plain  rtl   \" ><span class=\"plain txtu ara rtl\"></span><span class=\"plain  rtl   \" ><span class=\"txtu ara\">كُن</span></span><span class=\"plain  rtl   \" ><span class=\"txtu ara\">تُمْ </span></span></span><span class=\"plain  rtl   \" ><span class=\"plain txtu ara rtl\"></span><span class=\"plain  rtl   \" ><span class=\"txtu ara\">صَٰدِقِينَ</span></span></span></span></td></tr>\n",
       "<tr class=\"tf\"><td class=\"tf\">4</td><td class=\"tf\"><span class=\"section ltr\"><a target=\"_blank\" href=\"http://tanzil.net/#32:28\" title=\"show this passage on Tanzil\" sec=\"32:28\">32:28</a></span></td><td class=\"tf\"><span class=\"plain outer rtl  \" ><span class=\"plain txtu ara rtl\"></span><span class=\"plain  rtl   \" ><span class=\"plain txtu ara rtl\"></span><span class=\"plain  rtl   \" ><span class=\"txtu ara\">وَ</span></span><span class=\"plain  rtl   \" ><span class=\"txtu ara\">يَقُولُ</span></span><span class=\"plain  rtl   \" ><span class=\"txtu ara\">ونَ </span></span></span><span class=\"plain  rtl   \" ><span class=\"plain txtu ara rtl\"></span><span class=\"plain  rtl   \" ><span class=\"txtu ara\">مَتَىٰ </span></span></span><span class=\"plain  rtl   \" ><span class=\"plain txtu ara rtl\"></span><span class=\"plain  rtl   \" ><span class=\"txtu ara\">هَٰذَا </span></span></span><span class=\"plain  rtl   \" ><span class=\"plain txtu ara rtl\"></span><span class=\"plain  rtl   \" ><span class=\"txtu ara\">ٱلْ</span></span><span class=\"plain  rtl   \" ><span class=\"txtu ara\">فَتْحُ </span></span></span><span class=\"plain  rtl   \" ><span class=\"plain txtu ara rtl\"></span><span class=\"plain  rtl   \" ><span class=\"txtu ara\">إِن </span></span></span><span class=\"plain  rtl   \" ><span class=\"plain txtu ara rtl\"></span><span class=\"plain  rtl   \" ><span class=\"txtu ara\">كُن</span></span><span class=\"plain  rtl   \" ><span class=\"txtu ara\">تُمْ </span></span></span><span class=\"plain  rtl   \" ><span class=\"plain txtu ara rtl\"></span><span class=\"plain  rtl   \" ><span class=\"txtu ara\">صَٰدِقِينَ</span></span></span></span></td></tr>\n",
       "<tr class=\"tf\"><td class=\"tf\">5</td><td class=\"tf\"><span class=\"section ltr\"><a target=\"_blank\" href=\"http://tanzil.net/#34:29\" title=\"show this passage on Tanzil\" sec=\"34:29\">34:29</a></span></td><td class=\"tf\"><span class=\"plain outer rtl  \" ><span class=\"plain txtu ara rtl\"></span><span class=\"plain  rtl   \" ><span class=\"plain txtu ara rtl\"></span><span class=\"plain  rtl   \" ><span class=\"txtu ara\">وَ</span></span><span class=\"plain  rtl   \" ><span class=\"txtu ara\">يَقُولُ</span></span><span class=\"plain  rtl   \" ><span class=\"txtu ara\">ونَ </span></span></span><span class=\"plain  rtl   \" ><span class=\"plain txtu ara rtl\"></span><span class=\"plain  rtl   \" ><span class=\"txtu ara\">مَتَىٰ </span></span></span><span class=\"plain  rtl   \" ><span class=\"plain txtu ara rtl\"></span><span class=\"plain  rtl   \" ><span class=\"txtu ara\">هَٰذَا </span></span></span><span class=\"plain  rtl   \" ><span class=\"plain txtu ara rtl\"></span><span class=\"plain  rtl   \" ><span class=\"txtu ara\">ٱلْ</span></span><span class=\"plain  rtl   \" ><span class=\"txtu ara\">وَعْدُ </span></span></span><span class=\"plain  rtl   \" ><span class=\"plain txtu ara rtl\"></span><span class=\"plain  rtl   \" ><span class=\"txtu ara\">إِن </span></span></span><span class=\"plain  rtl   \" ><span class=\"plain txtu ara rtl\"></span><span class=\"plain  rtl   \" ><span class=\"txtu ara\">كُن</span></span><span class=\"plain  rtl   \" ><span class=\"txtu ara\">تُمْ </span></span></span><span class=\"plain  rtl   \" ><span class=\"plain txtu ara rtl\"></span><span class=\"plain  rtl   \" ><span class=\"txtu ara\">صَٰدِقِينَ</span></span></span></span></td></tr>\n",
       "<tr class=\"tf\"><td class=\"tf\">6</td><td class=\"tf\"><span class=\"section ltr\"><a target=\"_blank\" href=\"http://tanzil.net/#36:48\" title=\"show this passage on Tanzil\" sec=\"36:48\">36:48</a></span></td><td class=\"tf\"><span class=\"plain outer rtl  \" ><span class=\"plain txtu ara rtl\"></span><span class=\"plain  rtl   \" ><span class=\"plain txtu ara rtl\"></span><span class=\"plain  rtl   \" ><span class=\"txtu ara\">وَ</span></span><span class=\"plain  rtl   \" ><span class=\"txtu ara\">يَقُولُ</span></span><span class=\"plain  rtl   \" ><span class=\"txtu ara\">ونَ </span></span></span><span class=\"plain  rtl   \" ><span class=\"plain txtu ara rtl\"></span><span class=\"plain  rtl   \" ><span class=\"txtu ara\">مَتَىٰ </span></span></span><span class=\"plain  rtl   \" ><span class=\"plain txtu ara rtl\"></span><span class=\"plain  rtl   \" ><span class=\"txtu ara\">هَٰذَا </span></span></span><span class=\"plain  rtl   \" ><span class=\"plain txtu ara rtl\"></span><span class=\"plain  rtl   \" ><span class=\"txtu ara\">ٱلْ</span></span><span class=\"plain  rtl   \" ><span class=\"txtu ara\">وَعْدُ </span></span></span><span class=\"plain  rtl   \" ><span class=\"plain txtu ara rtl\"></span><span class=\"plain  rtl   \" ><span class=\"txtu ara\">إِن </span></span></span><span class=\"plain  rtl   \" ><span class=\"plain txtu ara rtl\"></span><span class=\"plain  rtl   \" ><span class=\"txtu ara\">كُن</span></span><span class=\"plain  rtl   \" ><span class=\"txtu ara\">تُمْ </span></span></span><span class=\"plain  rtl   \" ><span class=\"plain txtu ara rtl\"></span><span class=\"plain  rtl   \" ><span class=\"txtu ara\">صَٰدِقِينَ</span></span></span></span></td></tr>\n",
       "<tr class=\"tf\"><td class=\"tf\">7</td><td class=\"tf\"><span class=\"section ltr\"><a target=\"_blank\" href=\"http://tanzil.net/#67:25\" title=\"show this passage on Tanzil\" sec=\"67:25\">67:25</a></span></td><td class=\"tf\"><span class=\"plain outer rtl  \" ><span class=\"plain txtu ara rtl\"></span><span class=\"plain  rtl   \" ><span class=\"plain txtu ara rtl\"></span><span class=\"plain  rtl   \" ><span class=\"txtu ara\">وَ</span></span><span class=\"plain  rtl   \" ><span class=\"txtu ara\">يَقُولُ</span></span><span class=\"plain  rtl   \" ><span class=\"txtu ara\">ونَ </span></span></span><span class=\"plain  rtl   \" ><span class=\"plain txtu ara rtl\"></span><span class=\"plain  rtl   \" ><span class=\"txtu ara\">مَتَىٰ </span></span></span><span class=\"plain  rtl   \" ><span class=\"plain txtu ara rtl\"></span><span class=\"plain  rtl   \" ><span class=\"txtu ara\">هَٰذَا </span></span></span><span class=\"plain  rtl   \" ><span class=\"plain txtu ara rtl\"></span><span class=\"plain  rtl   \" ><span class=\"txtu ara\">ٱلْ</span></span><span class=\"plain  rtl   \" ><span class=\"txtu ara\">وَعْدُ </span></span></span><span class=\"plain  rtl   \" ><span class=\"plain txtu ara rtl\"></span><span class=\"plain  rtl   \" ><span class=\"txtu ara\">إِن </span></span></span><span class=\"plain  rtl   \" ><span class=\"plain txtu ara rtl\"></span><span class=\"plain  rtl   \" ><span class=\"txtu ara\">كُن</span></span><span class=\"plain  rtl   \" ><span class=\"txtu ara\">تُمْ </span></span></span><span class=\"plain  rtl   \" ><span class=\"plain txtu ara rtl\"></span><span class=\"plain  rtl   \" ><span class=\"txtu ara\">صَٰدِقِينَ</span></span></span></span></td></tr></table>"
      ],
      "text/plain": [
       "<IPython.core.display.HTML object>"
      ]
     },
     "metadata": {},
     "output_type": "display_data"
    },
    {
     "name": "stdout",
     "output_type": "stream",
     "text": [
      "Cluster with 7 ayas\n"
     ]
    },
    {
     "data": {
      "text/html": [
       "<table><tr class=\"tf\"><th class=\"tf\">n</th><th class=\"tf\">p</th><th class=\"tf\">aya</th></tr>\n",
       "<tr class=\"tf\"><td class=\"tf\">1</td><td class=\"tf\"><span class=\"section ltr\"><a target=\"_blank\" href=\"http://tanzil.net/#15:40\" title=\"show this passage on Tanzil\" sec=\"15:40\">15:40</a></span></td><td class=\"tf\"><span class=\"plain outer rtl  \" ><span class=\"plain txtu ara rtl\"></span><span class=\"plain  rtl   \" ><span class=\"plain txtu ara rtl\"></span><span class=\"plain  rtl   \" ><span class=\"txtu ara\">إِلَّا </span></span></span><span class=\"plain  rtl   \" ><span class=\"plain txtu ara rtl\"></span><span class=\"plain  rtl   \" ><span class=\"txtu ara\">عِبَادَ</span></span><span class=\"plain  rtl   \" ><span class=\"txtu ara\">كَ </span></span></span><span class=\"plain  rtl   \" ><span class=\"plain txtu ara rtl\"></span><span class=\"plain  rtl   \" ><span class=\"txtu ara\">مِنْ</span></span><span class=\"plain  rtl   \" ><span class=\"txtu ara\">هُمُ </span></span></span><span class=\"plain  rtl   \" ><span class=\"plain txtu ara rtl\"></span><span class=\"plain  rtl   \" ><span class=\"txtu ara\">ٱلْ</span></span><span class=\"plain  rtl   \" ><span class=\"txtu ara\">مُخْلَصِينَ</span></span></span></span></td></tr>\n",
       "<tr class=\"tf\"><td class=\"tf\">2</td><td class=\"tf\"><span class=\"section ltr\"><a target=\"_blank\" href=\"http://tanzil.net/#37:40\" title=\"show this passage on Tanzil\" sec=\"37:40\">37:40</a></span></td><td class=\"tf\"><span class=\"plain outer rtl  \" ><span class=\"plain txtu ara rtl\"></span><span class=\"plain  rtl   \" ><span class=\"plain txtu ara rtl\"></span><span class=\"plain  rtl   \" ><span class=\"txtu ara\">إِلَّا </span></span></span><span class=\"plain  rtl   \" ><span class=\"plain txtu ara rtl\"></span><span class=\"plain  rtl   \" ><span class=\"txtu ara\">عِبَادَ </span></span></span><span class=\"plain  rtl   \" ><span class=\"plain txtu ara rtl\"></span><span class=\"plain  rtl   \" ><span class=\"txtu ara\">ٱللَّهِ </span></span></span><span class=\"plain  rtl   \" ><span class=\"plain txtu ara rtl\"></span><span class=\"plain  rtl   \" ><span class=\"txtu ara\">ٱلْ</span></span><span class=\"plain  rtl   \" ><span class=\"txtu ara\">مُخْلَصِينَ</span></span></span></span></td></tr>\n",
       "<tr class=\"tf\"><td class=\"tf\">3</td><td class=\"tf\"><span class=\"section ltr\"><a target=\"_blank\" href=\"http://tanzil.net/#37:74\" title=\"show this passage on Tanzil\" sec=\"37:74\">37:74</a></span></td><td class=\"tf\"><span class=\"plain outer rtl  \" ><span class=\"plain txtu ara rtl\"></span><span class=\"plain  rtl   \" ><span class=\"plain txtu ara rtl\"></span><span class=\"plain  rtl   \" ><span class=\"txtu ara\">إِلَّا </span></span></span><span class=\"plain  rtl   \" ><span class=\"plain txtu ara rtl\"></span><span class=\"plain  rtl   \" ><span class=\"txtu ara\">عِبَادَ </span></span></span><span class=\"plain  rtl   \" ><span class=\"plain txtu ara rtl\"></span><span class=\"plain  rtl   \" ><span class=\"txtu ara\">ٱللَّهِ </span></span></span><span class=\"plain  rtl   \" ><span class=\"plain txtu ara rtl\"></span><span class=\"plain  rtl   \" ><span class=\"txtu ara\">ٱلْ</span></span><span class=\"plain  rtl   \" ><span class=\"txtu ara\">مُخْلَصِينَ</span></span></span></span></td></tr>\n",
       "<tr class=\"tf\"><td class=\"tf\">4</td><td class=\"tf\"><span class=\"section ltr\"><a target=\"_blank\" href=\"http://tanzil.net/#37:128\" title=\"show this passage on Tanzil\" sec=\"37:128\">37:128</a></span></td><td class=\"tf\"><span class=\"plain outer rtl  \" ><span class=\"plain txtu ara rtl\"></span><span class=\"plain  rtl   \" ><span class=\"plain txtu ara rtl\"></span><span class=\"plain  rtl   \" ><span class=\"txtu ara\">إِلَّا </span></span></span><span class=\"plain  rtl   \" ><span class=\"plain txtu ara rtl\"></span><span class=\"plain  rtl   \" ><span class=\"txtu ara\">عِبَادَ </span></span></span><span class=\"plain  rtl   \" ><span class=\"plain txtu ara rtl\"></span><span class=\"plain  rtl   \" ><span class=\"txtu ara\">ٱللَّهِ </span></span></span><span class=\"plain  rtl   \" ><span class=\"plain txtu ara rtl\"></span><span class=\"plain  rtl   \" ><span class=\"txtu ara\">ٱلْ</span></span><span class=\"plain  rtl   \" ><span class=\"txtu ara\">مُخْلَصِينَ</span></span></span></span></td></tr>\n",
       "<tr class=\"tf\"><td class=\"tf\">5</td><td class=\"tf\"><span class=\"section ltr\"><a target=\"_blank\" href=\"http://tanzil.net/#37:160\" title=\"show this passage on Tanzil\" sec=\"37:160\">37:160</a></span></td><td class=\"tf\"><span class=\"plain outer rtl  \" ><span class=\"plain txtu ara rtl\"></span><span class=\"plain  rtl   \" ><span class=\"plain txtu ara rtl\"></span><span class=\"plain  rtl   \" ><span class=\"txtu ara\">إِلَّا </span></span></span><span class=\"plain  rtl   \" ><span class=\"plain txtu ara rtl\"></span><span class=\"plain  rtl   \" ><span class=\"txtu ara\">عِبَادَ </span></span></span><span class=\"plain  rtl   \" ><span class=\"plain txtu ara rtl\"></span><span class=\"plain  rtl   \" ><span class=\"txtu ara\">ٱللَّهِ </span></span></span><span class=\"plain  rtl   \" ><span class=\"plain txtu ara rtl\"></span><span class=\"plain  rtl   \" ><span class=\"txtu ara\">ٱلْ</span></span><span class=\"plain  rtl   \" ><span class=\"txtu ara\">مُخْلَصِينَ</span></span></span></span></td></tr>\n",
       "<tr class=\"tf\"><td class=\"tf\">6</td><td class=\"tf\"><span class=\"section ltr\"><a target=\"_blank\" href=\"http://tanzil.net/#37:169\" title=\"show this passage on Tanzil\" sec=\"37:169\">37:169</a></span></td><td class=\"tf\"><span class=\"plain outer rtl  \" ><span class=\"plain txtu ara rtl\"></span><span class=\"plain  rtl   \" ><span class=\"plain txtu ara rtl\"></span><span class=\"plain  rtl   \" ><span class=\"txtu ara\">لَ</span></span><span class=\"plain  rtl   \" ><span class=\"txtu ara\">كُ</span></span><span class=\"plain  rtl   \" ><span class=\"txtu ara\">نَّا </span></span></span><span class=\"plain  rtl   \" ><span class=\"plain txtu ara rtl\"></span><span class=\"plain  rtl   \" ><span class=\"txtu ara\">عِبَادَ </span></span></span><span class=\"plain  rtl   \" ><span class=\"plain txtu ara rtl\"></span><span class=\"plain  rtl   \" ><span class=\"txtu ara\">ٱللَّهِ </span></span></span><span class=\"plain  rtl   \" ><span class=\"plain txtu ara rtl\"></span><span class=\"plain  rtl   \" ><span class=\"txtu ara\">ٱلْ</span></span><span class=\"plain  rtl   \" ><span class=\"txtu ara\">مُخْلَصِينَ</span></span></span></span></td></tr>\n",
       "<tr class=\"tf\"><td class=\"tf\">7</td><td class=\"tf\"><span class=\"section ltr\"><a target=\"_blank\" href=\"http://tanzil.net/#38:83\" title=\"show this passage on Tanzil\" sec=\"38:83\">38:83</a></span></td><td class=\"tf\"><span class=\"plain outer rtl  \" ><span class=\"plain txtu ara rtl\"></span><span class=\"plain  rtl   \" ><span class=\"plain txtu ara rtl\"></span><span class=\"plain  rtl   \" ><span class=\"txtu ara\">إِلَّا </span></span></span><span class=\"plain  rtl   \" ><span class=\"plain txtu ara rtl\"></span><span class=\"plain  rtl   \" ><span class=\"txtu ara\">عِبَادَ</span></span><span class=\"plain  rtl   \" ><span class=\"txtu ara\">كَ </span></span></span><span class=\"plain  rtl   \" ><span class=\"plain txtu ara rtl\"></span><span class=\"plain  rtl   \" ><span class=\"txtu ara\">مِنْ</span></span><span class=\"plain  rtl   \" ><span class=\"txtu ara\">هُمُ </span></span></span><span class=\"plain  rtl   \" ><span class=\"plain txtu ara rtl\"></span><span class=\"plain  rtl   \" ><span class=\"txtu ara\">ٱلْ</span></span><span class=\"plain  rtl   \" ><span class=\"txtu ara\">مُخْلَصِينَ</span></span></span></span></td></tr></table>"
      ],
      "text/plain": [
       "<IPython.core.display.HTML object>"
      ]
     },
     "metadata": {},
     "output_type": "display_data"
    },
    {
     "name": "stdout",
     "output_type": "stream",
     "text": [
      "Cluster with 6 ayas\n"
     ]
    },
    {
     "data": {
      "text/html": [
       "<table><tr class=\"tf\"><th class=\"tf\">n</th><th class=\"tf\">p</th><th class=\"tf\">aya</th></tr>\n",
       "<tr class=\"tf\"><td class=\"tf\">1</td><td class=\"tf\"><span class=\"section ltr\"><a target=\"_blank\" href=\"http://tanzil.net/#10:1\" title=\"show this passage on Tanzil\" sec=\"10:1\">10:1</a></span></td><td class=\"tf\"><span class=\"plain outer rtl  \" ><span class=\"plain txtu ara rtl\"></span><span class=\"plain  rtl   \" ><span class=\"plain txtu ara rtl\"></span><span class=\"plain  rtl   \" ><span class=\"txtu ara\">الٓر </span></span></span><span class=\"plain  rtl   \" ><span class=\"plain txtu ara rtl\"></span><span class=\"plain  rtl   \" ><span class=\"txtu ara\">تِلْكَ </span></span></span><span class=\"plain  rtl   \" ><span class=\"plain txtu ara rtl\"></span><span class=\"plain  rtl   \" ><span class=\"txtu ara\">ءَايَٰتُ </span></span></span><span class=\"plain  rtl   \" ><span class=\"plain txtu ara rtl\"></span><span class=\"plain  rtl   \" ><span class=\"txtu ara\">ٱلْ</span></span><span class=\"plain  rtl   \" ><span class=\"txtu ara\">كِتَٰبِ </span></span></span><span class=\"plain  rtl   \" ><span class=\"plain txtu ara rtl\"></span><span class=\"plain  rtl   \" ><span class=\"txtu ara\">ٱلْ</span></span><span class=\"plain  rtl   \" ><span class=\"txtu ara\">حَكِيمِ</span></span></span></span></td></tr>\n",
       "<tr class=\"tf\"><td class=\"tf\">2</td><td class=\"tf\"><span class=\"section ltr\"><a target=\"_blank\" href=\"http://tanzil.net/#12:1\" title=\"show this passage on Tanzil\" sec=\"12:1\">12:1</a></span></td><td class=\"tf\"><span class=\"plain outer rtl  \" ><span class=\"plain txtu ara rtl\"></span><span class=\"plain  rtl   \" ><span class=\"plain txtu ara rtl\"></span><span class=\"plain  rtl   \" ><span class=\"txtu ara\">الٓر </span></span></span><span class=\"plain  rtl   \" ><span class=\"plain txtu ara rtl\"></span><span class=\"plain  rtl   \" ><span class=\"txtu ara\">تِلْكَ </span></span></span><span class=\"plain  rtl   \" ><span class=\"plain txtu ara rtl\"></span><span class=\"plain  rtl   \" ><span class=\"txtu ara\">ءَايَٰتُ </span></span></span><span class=\"plain  rtl   \" ><span class=\"plain txtu ara rtl\"></span><span class=\"plain  rtl   \" ><span class=\"txtu ara\">ٱلْ</span></span><span class=\"plain  rtl   \" ><span class=\"txtu ara\">كِتَٰبِ </span></span></span><span class=\"plain  rtl   \" ><span class=\"plain txtu ara rtl\"></span><span class=\"plain  rtl   \" ><span class=\"txtu ara\">ٱلْ</span></span><span class=\"plain  rtl   \" ><span class=\"txtu ara\">مُبِينِ</span></span></span></span></td></tr>\n",
       "<tr class=\"tf\"><td class=\"tf\">3</td><td class=\"tf\"><span class=\"section ltr\"><a target=\"_blank\" href=\"http://tanzil.net/#26:2\" title=\"show this passage on Tanzil\" sec=\"26:2\">26:2</a></span></td><td class=\"tf\"><span class=\"plain outer rtl  \" ><span class=\"plain txtu ara rtl\"></span><span class=\"plain  rtl   \" ><span class=\"plain txtu ara rtl\"></span><span class=\"plain  rtl   \" ><span class=\"txtu ara\">تِلْكَ </span></span></span><span class=\"plain  rtl   \" ><span class=\"plain txtu ara rtl\"></span><span class=\"plain  rtl   \" ><span class=\"txtu ara\">ءَايَٰتُ </span></span></span><span class=\"plain  rtl   \" ><span class=\"plain txtu ara rtl\"></span><span class=\"plain  rtl   \" ><span class=\"txtu ara\">ٱلْ</span></span><span class=\"plain  rtl   \" ><span class=\"txtu ara\">كِتَٰبِ </span></span></span><span class=\"plain  rtl   \" ><span class=\"plain txtu ara rtl\"></span><span class=\"plain  rtl   \" ><span class=\"txtu ara\">ٱلْ</span></span><span class=\"plain  rtl   \" ><span class=\"txtu ara\">مُبِينِ</span></span></span></span></td></tr>\n",
       "<tr class=\"tf\"><td class=\"tf\">4</td><td class=\"tf\"><span class=\"section ltr\"><a target=\"_blank\" href=\"http://tanzil.net/#27:1\" title=\"show this passage on Tanzil\" sec=\"27:1\">27:1</a></span></td><td class=\"tf\"><span class=\"plain outer rtl  \" ><span class=\"plain txtu ara rtl\"></span><span class=\"plain  rtl   \" ><span class=\"plain txtu ara rtl\"></span><span class=\"plain  rtl   \" ><span class=\"txtu ara\">طسٓ </span></span></span><span class=\"plain  rtl   \" ><span class=\"plain txtu ara rtl\"></span><span class=\"plain  rtl   \" ><span class=\"txtu ara\">تِلْكَ </span></span></span><span class=\"plain  rtl   \" ><span class=\"plain txtu ara rtl\"></span><span class=\"plain  rtl   \" ><span class=\"txtu ara\">ءَايَٰتُ </span></span></span><span class=\"plain  rtl   \" ><span class=\"plain txtu ara rtl\"></span><span class=\"plain  rtl   \" ><span class=\"txtu ara\">ٱلْ</span></span><span class=\"plain  rtl   \" ><span class=\"txtu ara\">قُرْءَانِ </span></span></span><span class=\"plain  rtl   \" ><span class=\"plain txtu ara rtl\"></span><span class=\"plain  rtl   \" ><span class=\"txtu ara\">وَ</span></span><span class=\"plain  rtl   \" ><span class=\"txtu ara\">كِتَابٍ </span></span></span><span class=\"plain  rtl   \" ><span class=\"plain txtu ara rtl\"></span><span class=\"plain  rtl   \" ><span class=\"txtu ara\">مُّبِينٍ</span></span></span></span></td></tr>\n",
       "<tr class=\"tf\"><td class=\"tf\">5</td><td class=\"tf\"><span class=\"section ltr\"><a target=\"_blank\" href=\"http://tanzil.net/#28:2\" title=\"show this passage on Tanzil\" sec=\"28:2\">28:2</a></span></td><td class=\"tf\"><span class=\"plain outer rtl  \" ><span class=\"plain txtu ara rtl\"></span><span class=\"plain  rtl   \" ><span class=\"plain txtu ara rtl\"></span><span class=\"plain  rtl   \" ><span class=\"txtu ara\">تِلْكَ </span></span></span><span class=\"plain  rtl   \" ><span class=\"plain txtu ara rtl\"></span><span class=\"plain  rtl   \" ><span class=\"txtu ara\">ءَايَٰتُ </span></span></span><span class=\"plain  rtl   \" ><span class=\"plain txtu ara rtl\"></span><span class=\"plain  rtl   \" ><span class=\"txtu ara\">ٱلْ</span></span><span class=\"plain  rtl   \" ><span class=\"txtu ara\">كِتَٰبِ </span></span></span><span class=\"plain  rtl   \" ><span class=\"plain txtu ara rtl\"></span><span class=\"plain  rtl   \" ><span class=\"txtu ara\">ٱلْ</span></span><span class=\"plain  rtl   \" ><span class=\"txtu ara\">مُبِينِ</span></span></span></span></td></tr>\n",
       "<tr class=\"tf\"><td class=\"tf\">6</td><td class=\"tf\"><span class=\"section ltr\"><a target=\"_blank\" href=\"http://tanzil.net/#31:2\" title=\"show this passage on Tanzil\" sec=\"31:2\">31:2</a></span></td><td class=\"tf\"><span class=\"plain outer rtl  \" ><span class=\"plain txtu ara rtl\"></span><span class=\"plain  rtl   \" ><span class=\"plain txtu ara rtl\"></span><span class=\"plain  rtl   \" ><span class=\"txtu ara\">تِلْكَ </span></span></span><span class=\"plain  rtl   \" ><span class=\"plain txtu ara rtl\"></span><span class=\"plain  rtl   \" ><span class=\"txtu ara\">ءَايَٰتُ </span></span></span><span class=\"plain  rtl   \" ><span class=\"plain txtu ara rtl\"></span><span class=\"plain  rtl   \" ><span class=\"txtu ara\">ٱلْ</span></span><span class=\"plain  rtl   \" ><span class=\"txtu ara\">كِتَٰبِ </span></span></span><span class=\"plain  rtl   \" ><span class=\"plain txtu ara rtl\"></span><span class=\"plain  rtl   \" ><span class=\"txtu ara\">ٱلْ</span></span><span class=\"plain  rtl   \" ><span class=\"txtu ara\">حَكِيمِ</span></span></span></span></td></tr></table>"
      ],
      "text/plain": [
       "<IPython.core.display.HTML object>"
      ]
     },
     "metadata": {},
     "output_type": "display_data"
    },
    {
     "name": "stdout",
     "output_type": "stream",
     "text": [
      "Cluster with 6 ayas\n"
     ]
    },
    {
     "data": {
      "text/html": [
       "<table><tr class=\"tf\"><th class=\"tf\">n</th><th class=\"tf\">p</th><th class=\"tf\">aya</th></tr>\n",
       "<tr class=\"tf\"><td class=\"tf\">1</td><td class=\"tf\"><span class=\"section ltr\"><a target=\"_blank\" href=\"http://tanzil.net/#12:104\" title=\"show this passage on Tanzil\" sec=\"12:104\">12:104</a></span></td><td class=\"tf\"><span class=\"plain outer rtl  \" ><span class=\"plain txtu ara rtl\"></span><span class=\"plain  rtl   \" ><span class=\"plain txtu ara rtl\"></span><span class=\"plain  rtl   \" ><span class=\"txtu ara\">وَ</span></span><span class=\"plain  rtl   \" ><span class=\"txtu ara\">مَا </span></span></span><span class=\"plain  rtl   \" ><span class=\"plain txtu ara rtl\"></span><span class=\"plain  rtl   \" ><span class=\"txtu ara\">تَسْـَٔلُ</span></span><span class=\"plain  rtl   \" ><span class=\"txtu ara\">هُمْ </span></span></span><span class=\"plain  rtl   \" ><span class=\"plain txtu ara rtl\"></span><span class=\"plain  rtl   \" ><span class=\"txtu ara\">عَلَيْ</span></span><span class=\"plain  rtl   \" ><span class=\"txtu ara\">هِ </span></span></span><span class=\"plain  rtl   \" ><span class=\"plain txtu ara rtl\"></span><span class=\"plain  rtl   \" ><span class=\"txtu ara\">مِنْ </span></span></span><span class=\"plain  rtl   \" ><span class=\"plain txtu ara rtl\"></span><span class=\"plain  rtl   \" ><span class=\"txtu ara\">أَجْرٍ </span></span></span><span class=\"plain  rtl   \" ><span class=\"plain txtu ara rtl\"></span><span class=\"plain  rtl   \" ><span class=\"txtu ara\">إِنْ </span></span></span><span class=\"plain  rtl   \" ><span class=\"plain txtu ara rtl\"></span><span class=\"plain  rtl   \" ><span class=\"txtu ara\">هُوَ </span></span></span><span class=\"plain  rtl   \" ><span class=\"plain txtu ara rtl\"></span><span class=\"plain  rtl   \" ><span class=\"txtu ara\">إِلَّا </span></span></span><span class=\"plain  rtl   \" ><span class=\"plain txtu ara rtl\"></span><span class=\"plain  rtl   \" ><span class=\"txtu ara\">ذِكْرٌ </span></span></span><span class=\"plain  rtl   \" ><span class=\"plain txtu ara rtl\"></span><span class=\"plain  rtl   \" ><span class=\"txtu ara\">لِّ</span></span><span class=\"plain  rtl   \" ><span class=\"txtu ara\">لْ</span></span><span class=\"plain  rtl   \" ><span class=\"txtu ara\">عَٰلَمِينَ</span></span></span></span></td></tr>\n",
       "<tr class=\"tf\"><td class=\"tf\">2</td><td class=\"tf\"><span class=\"section ltr\"><a target=\"_blank\" href=\"http://tanzil.net/#26:109\" title=\"show this passage on Tanzil\" sec=\"26:109\">26:109</a></span></td><td class=\"tf\"><span class=\"plain outer rtl  \" ><span class=\"plain txtu ara rtl\"></span><span class=\"plain  rtl   \" ><span class=\"plain txtu ara rtl\"></span><span class=\"plain  rtl   \" ><span class=\"txtu ara\">وَ</span></span><span class=\"plain  rtl   \" ><span class=\"txtu ara\">مَآ </span></span></span><span class=\"plain  rtl   \" ><span class=\"plain txtu ara rtl\"></span><span class=\"plain  rtl   \" ><span class=\"txtu ara\">أَسْـَٔلُ</span></span><span class=\"plain  rtl   \" ><span class=\"txtu ara\">كُمْ </span></span></span><span class=\"plain  rtl   \" ><span class=\"plain txtu ara rtl\"></span><span class=\"plain  rtl   \" ><span class=\"txtu ara\">عَلَيْ</span></span><span class=\"plain  rtl   \" ><span class=\"txtu ara\">هِ </span></span></span><span class=\"plain  rtl   \" ><span class=\"plain txtu ara rtl\"></span><span class=\"plain  rtl   \" ><span class=\"txtu ara\">مِنْ </span></span></span><span class=\"plain  rtl   \" ><span class=\"plain txtu ara rtl\"></span><span class=\"plain  rtl   \" ><span class=\"txtu ara\">أَجْرٍ </span></span></span><span class=\"plain  rtl   \" ><span class=\"plain txtu ara rtl\"></span><span class=\"plain  rtl   \" ><span class=\"txtu ara\">إِنْ </span></span></span><span class=\"plain  rtl   \" ><span class=\"plain txtu ara rtl\"></span><span class=\"plain  rtl   \" ><span class=\"txtu ara\">أَجْرِ</span></span><span class=\"plain  rtl   \" ><span class=\"txtu ara\">ىَ </span></span></span><span class=\"plain  rtl   \" ><span class=\"plain txtu ara rtl\"></span><span class=\"plain  rtl   \" ><span class=\"txtu ara\">إِلَّا </span></span></span><span class=\"plain  rtl   \" ><span class=\"plain txtu ara rtl\"></span><span class=\"plain  rtl   \" ><span class=\"txtu ara\">عَلَىٰ </span></span></span><span class=\"plain  rtl   \" ><span class=\"plain txtu ara rtl\"></span><span class=\"plain  rtl   \" ><span class=\"txtu ara\">رَبِّ </span></span></span><span class=\"plain  rtl   \" ><span class=\"plain txtu ara rtl\"></span><span class=\"plain  rtl   \" ><span class=\"txtu ara\">ٱلْ</span></span><span class=\"plain  rtl   \" ><span class=\"txtu ara\">عَٰلَمِينَ</span></span></span></span></td></tr>\n",
       "<tr class=\"tf\"><td class=\"tf\">3</td><td class=\"tf\"><span class=\"section ltr\"><a target=\"_blank\" href=\"http://tanzil.net/#26:127\" title=\"show this passage on Tanzil\" sec=\"26:127\">26:127</a></span></td><td class=\"tf\"><span class=\"plain outer rtl  \" ><span class=\"plain txtu ara rtl\"></span><span class=\"plain  rtl   \" ><span class=\"plain txtu ara rtl\"></span><span class=\"plain  rtl   \" ><span class=\"txtu ara\">وَ</span></span><span class=\"plain  rtl   \" ><span class=\"txtu ara\">مَآ </span></span></span><span class=\"plain  rtl   \" ><span class=\"plain txtu ara rtl\"></span><span class=\"plain  rtl   \" ><span class=\"txtu ara\">أَسْـَٔلُ</span></span><span class=\"plain  rtl   \" ><span class=\"txtu ara\">كُمْ </span></span></span><span class=\"plain  rtl   \" ><span class=\"plain txtu ara rtl\"></span><span class=\"plain  rtl   \" ><span class=\"txtu ara\">عَلَيْ</span></span><span class=\"plain  rtl   \" ><span class=\"txtu ara\">هِ </span></span></span><span class=\"plain  rtl   \" ><span class=\"plain txtu ara rtl\"></span><span class=\"plain  rtl   \" ><span class=\"txtu ara\">مِنْ </span></span></span><span class=\"plain  rtl   \" ><span class=\"plain txtu ara rtl\"></span><span class=\"plain  rtl   \" ><span class=\"txtu ara\">أَجْرٍ </span></span></span><span class=\"plain  rtl   \" ><span class=\"plain txtu ara rtl\"></span><span class=\"plain  rtl   \" ><span class=\"txtu ara\">إِنْ </span></span></span><span class=\"plain  rtl   \" ><span class=\"plain txtu ara rtl\"></span><span class=\"plain  rtl   \" ><span class=\"txtu ara\">أَجْرِ</span></span><span class=\"plain  rtl   \" ><span class=\"txtu ara\">ىَ </span></span></span><span class=\"plain  rtl   \" ><span class=\"plain txtu ara rtl\"></span><span class=\"plain  rtl   \" ><span class=\"txtu ara\">إِلَّا </span></span></span><span class=\"plain  rtl   \" ><span class=\"plain txtu ara rtl\"></span><span class=\"plain  rtl   \" ><span class=\"txtu ara\">عَلَىٰ </span></span></span><span class=\"plain  rtl   \" ><span class=\"plain txtu ara rtl\"></span><span class=\"plain  rtl   \" ><span class=\"txtu ara\">رَبِّ </span></span></span><span class=\"plain  rtl   \" ><span class=\"plain txtu ara rtl\"></span><span class=\"plain  rtl   \" ><span class=\"txtu ara\">ٱلْ</span></span><span class=\"plain  rtl   \" ><span class=\"txtu ara\">عَٰلَمِينَ</span></span></span></span></td></tr>\n",
       "<tr class=\"tf\"><td class=\"tf\">4</td><td class=\"tf\"><span class=\"section ltr\"><a target=\"_blank\" href=\"http://tanzil.net/#26:145\" title=\"show this passage on Tanzil\" sec=\"26:145\">26:145</a></span></td><td class=\"tf\"><span class=\"plain outer rtl  \" ><span class=\"plain txtu ara rtl\"></span><span class=\"plain  rtl   \" ><span class=\"plain txtu ara rtl\"></span><span class=\"plain  rtl   \" ><span class=\"txtu ara\">وَ</span></span><span class=\"plain  rtl   \" ><span class=\"txtu ara\">مَآ </span></span></span><span class=\"plain  rtl   \" ><span class=\"plain txtu ara rtl\"></span><span class=\"plain  rtl   \" ><span class=\"txtu ara\">أَسْـَٔلُ</span></span><span class=\"plain  rtl   \" ><span class=\"txtu ara\">كُمْ </span></span></span><span class=\"plain  rtl   \" ><span class=\"plain txtu ara rtl\"></span><span class=\"plain  rtl   \" ><span class=\"txtu ara\">عَلَيْ</span></span><span class=\"plain  rtl   \" ><span class=\"txtu ara\">هِ </span></span></span><span class=\"plain  rtl   \" ><span class=\"plain txtu ara rtl\"></span><span class=\"plain  rtl   \" ><span class=\"txtu ara\">مِنْ </span></span></span><span class=\"plain  rtl   \" ><span class=\"plain txtu ara rtl\"></span><span class=\"plain  rtl   \" ><span class=\"txtu ara\">أَجْرٍ </span></span></span><span class=\"plain  rtl   \" ><span class=\"plain txtu ara rtl\"></span><span class=\"plain  rtl   \" ><span class=\"txtu ara\">إِنْ </span></span></span><span class=\"plain  rtl   \" ><span class=\"plain txtu ara rtl\"></span><span class=\"plain  rtl   \" ><span class=\"txtu ara\">أَجْرِ</span></span><span class=\"plain  rtl   \" ><span class=\"txtu ara\">ىَ </span></span></span><span class=\"plain  rtl   \" ><span class=\"plain txtu ara rtl\"></span><span class=\"plain  rtl   \" ><span class=\"txtu ara\">إِلَّا </span></span></span><span class=\"plain  rtl   \" ><span class=\"plain txtu ara rtl\"></span><span class=\"plain  rtl   \" ><span class=\"txtu ara\">عَلَىٰ </span></span></span><span class=\"plain  rtl   \" ><span class=\"plain txtu ara rtl\"></span><span class=\"plain  rtl   \" ><span class=\"txtu ara\">رَبِّ </span></span></span><span class=\"plain  rtl   \" ><span class=\"plain txtu ara rtl\"></span><span class=\"plain  rtl   \" ><span class=\"txtu ara\">ٱلْ</span></span><span class=\"plain  rtl   \" ><span class=\"txtu ara\">عَٰلَمِينَ</span></span></span></span></td></tr>\n",
       "<tr class=\"tf\"><td class=\"tf\">5</td><td class=\"tf\"><span class=\"section ltr\"><a target=\"_blank\" href=\"http://tanzil.net/#26:164\" title=\"show this passage on Tanzil\" sec=\"26:164\">26:164</a></span></td><td class=\"tf\"><span class=\"plain outer rtl  \" ><span class=\"plain txtu ara rtl\"></span><span class=\"plain  rtl   \" ><span class=\"plain txtu ara rtl\"></span><span class=\"plain  rtl   \" ><span class=\"txtu ara\">وَ</span></span><span class=\"plain  rtl   \" ><span class=\"txtu ara\">مَآ </span></span></span><span class=\"plain  rtl   \" ><span class=\"plain txtu ara rtl\"></span><span class=\"plain  rtl   \" ><span class=\"txtu ara\">أَسْـَٔلُ</span></span><span class=\"plain  rtl   \" ><span class=\"txtu ara\">كُمْ </span></span></span><span class=\"plain  rtl   \" ><span class=\"plain txtu ara rtl\"></span><span class=\"plain  rtl   \" ><span class=\"txtu ara\">عَلَيْ</span></span><span class=\"plain  rtl   \" ><span class=\"txtu ara\">هِ </span></span></span><span class=\"plain  rtl   \" ><span class=\"plain txtu ara rtl\"></span><span class=\"plain  rtl   \" ><span class=\"txtu ara\">مِنْ </span></span></span><span class=\"plain  rtl   \" ><span class=\"plain txtu ara rtl\"></span><span class=\"plain  rtl   \" ><span class=\"txtu ara\">أَجْرٍ </span></span></span><span class=\"plain  rtl   \" ><span class=\"plain txtu ara rtl\"></span><span class=\"plain  rtl   \" ><span class=\"txtu ara\">إِنْ </span></span></span><span class=\"plain  rtl   \" ><span class=\"plain txtu ara rtl\"></span><span class=\"plain  rtl   \" ><span class=\"txtu ara\">أَجْرِ</span></span><span class=\"plain  rtl   \" ><span class=\"txtu ara\">ىَ </span></span></span><span class=\"plain  rtl   \" ><span class=\"plain txtu ara rtl\"></span><span class=\"plain  rtl   \" ><span class=\"txtu ara\">إِلَّا </span></span></span><span class=\"plain  rtl   \" ><span class=\"plain txtu ara rtl\"></span><span class=\"plain  rtl   \" ><span class=\"txtu ara\">عَلَىٰ </span></span></span><span class=\"plain  rtl   \" ><span class=\"plain txtu ara rtl\"></span><span class=\"plain  rtl   \" ><span class=\"txtu ara\">رَبِّ </span></span></span><span class=\"plain  rtl   \" ><span class=\"plain txtu ara rtl\"></span><span class=\"plain  rtl   \" ><span class=\"txtu ara\">ٱلْ</span></span><span class=\"plain  rtl   \" ><span class=\"txtu ara\">عَٰلَمِينَ</span></span></span></span></td></tr>\n",
       "<tr class=\"tf\"><td class=\"tf\">6</td><td class=\"tf\"><span class=\"section ltr\"><a target=\"_blank\" href=\"http://tanzil.net/#26:180\" title=\"show this passage on Tanzil\" sec=\"26:180\">26:180</a></span></td><td class=\"tf\"><span class=\"plain outer rtl  \" ><span class=\"plain txtu ara rtl\"></span><span class=\"plain  rtl   \" ><span class=\"plain txtu ara rtl\"></span><span class=\"plain  rtl   \" ><span class=\"txtu ara\">وَ</span></span><span class=\"plain  rtl   \" ><span class=\"txtu ara\">مَآ </span></span></span><span class=\"plain  rtl   \" ><span class=\"plain txtu ara rtl\"></span><span class=\"plain  rtl   \" ><span class=\"txtu ara\">أَسْـَٔلُ</span></span><span class=\"plain  rtl   \" ><span class=\"txtu ara\">كُمْ </span></span></span><span class=\"plain  rtl   \" ><span class=\"plain txtu ara rtl\"></span><span class=\"plain  rtl   \" ><span class=\"txtu ara\">عَلَيْ</span></span><span class=\"plain  rtl   \" ><span class=\"txtu ara\">هِ </span></span></span><span class=\"plain  rtl   \" ><span class=\"plain txtu ara rtl\"></span><span class=\"plain  rtl   \" ><span class=\"txtu ara\">مِنْ </span></span></span><span class=\"plain  rtl   \" ><span class=\"plain txtu ara rtl\"></span><span class=\"plain  rtl   \" ><span class=\"txtu ara\">أَجْرٍ </span></span></span><span class=\"plain  rtl   \" ><span class=\"plain txtu ara rtl\"></span><span class=\"plain  rtl   \" ><span class=\"txtu ara\">إِنْ </span></span></span><span class=\"plain  rtl   \" ><span class=\"plain txtu ara rtl\"></span><span class=\"plain  rtl   \" ><span class=\"txtu ara\">أَجْرِ</span></span><span class=\"plain  rtl   \" ><span class=\"txtu ara\">ىَ </span></span></span><span class=\"plain  rtl   \" ><span class=\"plain txtu ara rtl\"></span><span class=\"plain  rtl   \" ><span class=\"txtu ara\">إِلَّا </span></span></span><span class=\"plain  rtl   \" ><span class=\"plain txtu ara rtl\"></span><span class=\"plain  rtl   \" ><span class=\"txtu ara\">عَلَىٰ </span></span></span><span class=\"plain  rtl   \" ><span class=\"plain txtu ara rtl\"></span><span class=\"plain  rtl   \" ><span class=\"txtu ara\">رَبِّ </span></span></span><span class=\"plain  rtl   \" ><span class=\"plain txtu ara rtl\"></span><span class=\"plain  rtl   \" ><span class=\"txtu ara\">ٱلْ</span></span><span class=\"plain  rtl   \" ><span class=\"txtu ara\">عَٰلَمِينَ</span></span></span></span></td></tr></table>"
      ],
      "text/plain": [
       "<IPython.core.display.HTML object>"
      ]
     },
     "metadata": {},
     "output_type": "display_data"
    },
    {
     "name": "stdout",
     "output_type": "stream",
     "text": [
      "Cluster with 5 ayas\n"
     ]
    },
    {
     "data": {
      "text/html": [
       "<table><tr class=\"tf\"><th class=\"tf\">n</th><th class=\"tf\">p</th><th class=\"tf\">aya</th></tr>\n",
       "<tr class=\"tf\"><td class=\"tf\">1</td><td class=\"tf\"><span class=\"section ltr\"><a target=\"_blank\" href=\"http://tanzil.net/#26:107\" title=\"show this passage on Tanzil\" sec=\"26:107\">26:107</a></span></td><td class=\"tf\"><span class=\"plain outer rtl  \" ><span class=\"plain txtu ara rtl\"></span><span class=\"plain  rtl   \" ><span class=\"plain txtu ara rtl\"></span><span class=\"plain  rtl   \" ><span class=\"txtu ara\">إِنِّ</span></span><span class=\"plain  rtl   \" ><span class=\"txtu ara\">ى </span></span></span><span class=\"plain  rtl   \" ><span class=\"plain txtu ara rtl\"></span><span class=\"plain  rtl   \" ><span class=\"txtu ara\">لَ</span></span><span class=\"plain  rtl   \" ><span class=\"txtu ara\">كُمْ </span></span></span><span class=\"plain  rtl   \" ><span class=\"plain txtu ara rtl\"></span><span class=\"plain  rtl   \" ><span class=\"txtu ara\">رَسُولٌ </span></span></span><span class=\"plain  rtl   \" ><span class=\"plain txtu ara rtl\"></span><span class=\"plain  rtl   \" ><span class=\"txtu ara\">أَمِينٌ</span></span></span></span></td></tr>\n",
       "<tr class=\"tf\"><td class=\"tf\">2</td><td class=\"tf\"><span class=\"section ltr\"><a target=\"_blank\" href=\"http://tanzil.net/#26:125\" title=\"show this passage on Tanzil\" sec=\"26:125\">26:125</a></span></td><td class=\"tf\"><span class=\"plain outer rtl  \" ><span class=\"plain txtu ara rtl\"></span><span class=\"plain  rtl   \" ><span class=\"plain txtu ara rtl\"></span><span class=\"plain  rtl   \" ><span class=\"txtu ara\">إِنِّ</span></span><span class=\"plain  rtl   \" ><span class=\"txtu ara\">ى </span></span></span><span class=\"plain  rtl   \" ><span class=\"plain txtu ara rtl\"></span><span class=\"plain  rtl   \" ><span class=\"txtu ara\">لَ</span></span><span class=\"plain  rtl   \" ><span class=\"txtu ara\">كُمْ </span></span></span><span class=\"plain  rtl   \" ><span class=\"plain txtu ara rtl\"></span><span class=\"plain  rtl   \" ><span class=\"txtu ara\">رَسُولٌ </span></span></span><span class=\"plain  rtl   \" ><span class=\"plain txtu ara rtl\"></span><span class=\"plain  rtl   \" ><span class=\"txtu ara\">أَمِينٌ</span></span></span></span></td></tr>\n",
       "<tr class=\"tf\"><td class=\"tf\">3</td><td class=\"tf\"><span class=\"section ltr\"><a target=\"_blank\" href=\"http://tanzil.net/#26:143\" title=\"show this passage on Tanzil\" sec=\"26:143\">26:143</a></span></td><td class=\"tf\"><span class=\"plain outer rtl  \" ><span class=\"plain txtu ara rtl\"></span><span class=\"plain  rtl   \" ><span class=\"plain txtu ara rtl\"></span><span class=\"plain  rtl   \" ><span class=\"txtu ara\">إِنِّ</span></span><span class=\"plain  rtl   \" ><span class=\"txtu ara\">ى </span></span></span><span class=\"plain  rtl   \" ><span class=\"plain txtu ara rtl\"></span><span class=\"plain  rtl   \" ><span class=\"txtu ara\">لَ</span></span><span class=\"plain  rtl   \" ><span class=\"txtu ara\">كُمْ </span></span></span><span class=\"plain  rtl   \" ><span class=\"plain txtu ara rtl\"></span><span class=\"plain  rtl   \" ><span class=\"txtu ara\">رَسُولٌ </span></span></span><span class=\"plain  rtl   \" ><span class=\"plain txtu ara rtl\"></span><span class=\"plain  rtl   \" ><span class=\"txtu ara\">أَمِينٌ</span></span></span></span></td></tr>\n",
       "<tr class=\"tf\"><td class=\"tf\">4</td><td class=\"tf\"><span class=\"section ltr\"><a target=\"_blank\" href=\"http://tanzil.net/#26:162\" title=\"show this passage on Tanzil\" sec=\"26:162\">26:162</a></span></td><td class=\"tf\"><span class=\"plain outer rtl  \" ><span class=\"plain txtu ara rtl\"></span><span class=\"plain  rtl   \" ><span class=\"plain txtu ara rtl\"></span><span class=\"plain  rtl   \" ><span class=\"txtu ara\">إِنِّ</span></span><span class=\"plain  rtl   \" ><span class=\"txtu ara\">ى </span></span></span><span class=\"plain  rtl   \" ><span class=\"plain txtu ara rtl\"></span><span class=\"plain  rtl   \" ><span class=\"txtu ara\">لَ</span></span><span class=\"plain  rtl   \" ><span class=\"txtu ara\">كُمْ </span></span></span><span class=\"plain  rtl   \" ><span class=\"plain txtu ara rtl\"></span><span class=\"plain  rtl   \" ><span class=\"txtu ara\">رَسُولٌ </span></span></span><span class=\"plain  rtl   \" ><span class=\"plain txtu ara rtl\"></span><span class=\"plain  rtl   \" ><span class=\"txtu ara\">أَمِينٌ</span></span></span></span></td></tr>\n",
       "<tr class=\"tf\"><td class=\"tf\">5</td><td class=\"tf\"><span class=\"section ltr\"><a target=\"_blank\" href=\"http://tanzil.net/#26:178\" title=\"show this passage on Tanzil\" sec=\"26:178\">26:178</a></span></td><td class=\"tf\"><span class=\"plain outer rtl  \" ><span class=\"plain txtu ara rtl\"></span><span class=\"plain  rtl   \" ><span class=\"plain txtu ara rtl\"></span><span class=\"plain  rtl   \" ><span class=\"txtu ara\">إِنِّ</span></span><span class=\"plain  rtl   \" ><span class=\"txtu ara\">ى </span></span></span><span class=\"plain  rtl   \" ><span class=\"plain txtu ara rtl\"></span><span class=\"plain  rtl   \" ><span class=\"txtu ara\">لَ</span></span><span class=\"plain  rtl   \" ><span class=\"txtu ara\">كُمْ </span></span></span><span class=\"plain  rtl   \" ><span class=\"plain txtu ara rtl\"></span><span class=\"plain  rtl   \" ><span class=\"txtu ara\">رَسُولٌ </span></span></span><span class=\"plain  rtl   \" ><span class=\"plain txtu ara rtl\"></span><span class=\"plain  rtl   \" ><span class=\"txtu ara\">أَمِينٌ</span></span></span></span></td></tr></table>"
      ],
      "text/plain": [
       "<IPython.core.display.HTML object>"
      ]
     },
     "metadata": {},
     "output_type": "display_data"
    },
    {
     "name": "stdout",
     "output_type": "stream",
     "text": [
      "Cluster with 5 ayas\n"
     ]
    },
    {
     "data": {
      "text/html": [
       "<table><tr class=\"tf\"><th class=\"tf\">n</th><th class=\"tf\">p</th><th class=\"tf\">aya</th></tr>\n",
       "<tr class=\"tf\"><td class=\"tf\">1</td><td class=\"tf\"><span class=\"section ltr\"><a target=\"_blank\" href=\"http://tanzil.net/#37:80\" title=\"show this passage on Tanzil\" sec=\"37:80\">37:80</a></span></td><td class=\"tf\"><span class=\"plain outer rtl  \" ><span class=\"plain txtu ara rtl\"></span><span class=\"plain  rtl   \" ><span class=\"plain txtu ara rtl\"></span><span class=\"plain  rtl   \" ><span class=\"txtu ara\">إِنَّ</span></span><span class=\"plain  rtl   \" ><span class=\"txtu ara\">ا </span></span></span><span class=\"plain  rtl   \" ><span class=\"plain txtu ara rtl\"></span><span class=\"plain  rtl   \" ><span class=\"txtu ara\">كَ</span></span><span class=\"plain  rtl   \" ><span class=\"txtu ara\">ذَٰلِكَ </span></span></span><span class=\"plain  rtl   \" ><span class=\"plain txtu ara rtl\"></span><span class=\"plain  rtl   \" ><span class=\"txtu ara\">نَجْزِى </span></span></span><span class=\"plain  rtl   \" ><span class=\"plain txtu ara rtl\"></span><span class=\"plain  rtl   \" ><span class=\"txtu ara\">ٱلْ</span></span><span class=\"plain  rtl   \" ><span class=\"txtu ara\">مُحْسِنِينَ</span></span></span></span></td></tr>\n",
       "<tr class=\"tf\"><td class=\"tf\">2</td><td class=\"tf\"><span class=\"section ltr\"><a target=\"_blank\" href=\"http://tanzil.net/#37:110\" title=\"show this passage on Tanzil\" sec=\"37:110\">37:110</a></span></td><td class=\"tf\"><span class=\"plain outer rtl  \" ><span class=\"plain txtu ara rtl\"></span><span class=\"plain  rtl   \" ><span class=\"plain txtu ara rtl\"></span><span class=\"plain  rtl   \" ><span class=\"txtu ara\">كَ</span></span><span class=\"plain  rtl   \" ><span class=\"txtu ara\">ذَٰلِكَ </span></span></span><span class=\"plain  rtl   \" ><span class=\"plain txtu ara rtl\"></span><span class=\"plain  rtl   \" ><span class=\"txtu ara\">نَجْزِى </span></span></span><span class=\"plain  rtl   \" ><span class=\"plain txtu ara rtl\"></span><span class=\"plain  rtl   \" ><span class=\"txtu ara\">ٱلْ</span></span><span class=\"plain  rtl   \" ><span class=\"txtu ara\">مُحْسِنِينَ</span></span></span></span></td></tr>\n",
       "<tr class=\"tf\"><td class=\"tf\">3</td><td class=\"tf\"><span class=\"section ltr\"><a target=\"_blank\" href=\"http://tanzil.net/#37:121\" title=\"show this passage on Tanzil\" sec=\"37:121\">37:121</a></span></td><td class=\"tf\"><span class=\"plain outer rtl  \" ><span class=\"plain txtu ara rtl\"></span><span class=\"plain  rtl   \" ><span class=\"plain txtu ara rtl\"></span><span class=\"plain  rtl   \" ><span class=\"txtu ara\">إِنَّ</span></span><span class=\"plain  rtl   \" ><span class=\"txtu ara\">ا </span></span></span><span class=\"plain  rtl   \" ><span class=\"plain txtu ara rtl\"></span><span class=\"plain  rtl   \" ><span class=\"txtu ara\">كَ</span></span><span class=\"plain  rtl   \" ><span class=\"txtu ara\">ذَٰلِكَ </span></span></span><span class=\"plain  rtl   \" ><span class=\"plain txtu ara rtl\"></span><span class=\"plain  rtl   \" ><span class=\"txtu ara\">نَجْزِى </span></span></span><span class=\"plain  rtl   \" ><span class=\"plain txtu ara rtl\"></span><span class=\"plain  rtl   \" ><span class=\"txtu ara\">ٱلْ</span></span><span class=\"plain  rtl   \" ><span class=\"txtu ara\">مُحْسِنِينَ</span></span></span></span></td></tr>\n",
       "<tr class=\"tf\"><td class=\"tf\">4</td><td class=\"tf\"><span class=\"section ltr\"><a target=\"_blank\" href=\"http://tanzil.net/#37:131\" title=\"show this passage on Tanzil\" sec=\"37:131\">37:131</a></span></td><td class=\"tf\"><span class=\"plain outer rtl  \" ><span class=\"plain txtu ara rtl\"></span><span class=\"plain  rtl   \" ><span class=\"plain txtu ara rtl\"></span><span class=\"plain  rtl   \" ><span class=\"txtu ara\">إِنَّ</span></span><span class=\"plain  rtl   \" ><span class=\"txtu ara\">ا </span></span></span><span class=\"plain  rtl   \" ><span class=\"plain txtu ara rtl\"></span><span class=\"plain  rtl   \" ><span class=\"txtu ara\">كَ</span></span><span class=\"plain  rtl   \" ><span class=\"txtu ara\">ذَٰلِكَ </span></span></span><span class=\"plain  rtl   \" ><span class=\"plain txtu ara rtl\"></span><span class=\"plain  rtl   \" ><span class=\"txtu ara\">نَجْزِى </span></span></span><span class=\"plain  rtl   \" ><span class=\"plain txtu ara rtl\"></span><span class=\"plain  rtl   \" ><span class=\"txtu ara\">ٱلْ</span></span><span class=\"plain  rtl   \" ><span class=\"txtu ara\">مُحْسِنِينَ</span></span></span></span></td></tr>\n",
       "<tr class=\"tf\"><td class=\"tf\">5</td><td class=\"tf\"><span class=\"section ltr\"><a target=\"_blank\" href=\"http://tanzil.net/#77:44\" title=\"show this passage on Tanzil\" sec=\"77:44\">77:44</a></span></td><td class=\"tf\"><span class=\"plain outer rtl  \" ><span class=\"plain txtu ara rtl\"></span><span class=\"plain  rtl   \" ><span class=\"plain txtu ara rtl\"></span><span class=\"plain  rtl   \" ><span class=\"txtu ara\">إِنَّ</span></span><span class=\"plain  rtl   \" ><span class=\"txtu ara\">ا </span></span></span><span class=\"plain  rtl   \" ><span class=\"plain txtu ara rtl\"></span><span class=\"plain  rtl   \" ><span class=\"txtu ara\">كَ</span></span><span class=\"plain  rtl   \" ><span class=\"txtu ara\">ذَٰلِكَ </span></span></span><span class=\"plain  rtl   \" ><span class=\"plain txtu ara rtl\"></span><span class=\"plain  rtl   \" ><span class=\"txtu ara\">نَجْزِى </span></span></span><span class=\"plain  rtl   \" ><span class=\"plain txtu ara rtl\"></span><span class=\"plain  rtl   \" ><span class=\"txtu ara\">ٱلْ</span></span><span class=\"plain  rtl   \" ><span class=\"txtu ara\">مُحْسِنِينَ</span></span></span></span></td></tr></table>"
      ],
      "text/plain": [
       "<IPython.core.display.HTML object>"
      ]
     },
     "metadata": {},
     "output_type": "display_data"
    },
    {
     "name": "stdout",
     "output_type": "stream",
     "text": [
      "Cluster with 5 ayas\n"
     ]
    },
    {
     "data": {
      "text/html": [
       "<table><tr class=\"tf\"><th class=\"tf\">n</th><th class=\"tf\">p</th><th class=\"tf\">aya</th></tr>\n",
       "<tr class=\"tf\"><td class=\"tf\">1</td><td class=\"tf\"><span class=\"section ltr\"><a target=\"_blank\" href=\"http://tanzil.net/#57:1\" title=\"show this passage on Tanzil\" sec=\"57:1\">57:1</a></span></td><td class=\"tf\"><span class=\"plain outer rtl  \" ><span class=\"plain txtu ara rtl\"></span><span class=\"plain  rtl   \" ><span class=\"plain txtu ara rtl\"></span><span class=\"plain  rtl   \" ><span class=\"txtu ara\">سَبَّحَ </span></span></span><span class=\"plain  rtl   \" ><span class=\"plain txtu ara rtl\"></span><span class=\"plain  rtl   \" ><span class=\"txtu ara\">لِ</span></span><span class=\"plain  rtl   \" ><span class=\"txtu ara\">لَّهِ </span></span></span><span class=\"plain  rtl   \" ><span class=\"plain txtu ara rtl\"></span><span class=\"plain  rtl   \" ><span class=\"txtu ara\">مَا </span></span></span><span class=\"plain  rtl   \" ><span class=\"plain txtu ara rtl\"></span><span class=\"plain  rtl   \" ><span class=\"txtu ara\">فِى </span></span></span><span class=\"plain  rtl   \" ><span class=\"plain txtu ara rtl\"></span><span class=\"plain  rtl   \" ><span class=\"txtu ara\">ٱل</span></span><span class=\"plain  rtl   \" ><span class=\"txtu ara\">سَّمَٰوَٰتِ </span></span></span><span class=\"plain  rtl   \" ><span class=\"plain txtu ara rtl\"></span><span class=\"plain  rtl   \" ><span class=\"txtu ara\">وَ</span></span><span class=\"plain  rtl   \" ><span class=\"txtu ara\">ٱلْ</span></span><span class=\"plain  rtl   \" ><span class=\"txtu ara\">أَرْضِ </span></span></span><span class=\"plain  rtl   \" ><span class=\"plain txtu ara rtl\"></span><span class=\"plain  rtl   \" ><span class=\"txtu ara\">وَ</span></span><span class=\"plain  rtl   \" ><span class=\"txtu ara\">هُوَ </span></span></span><span class=\"plain  rtl   \" ><span class=\"plain txtu ara rtl\"></span><span class=\"plain  rtl   \" ><span class=\"txtu ara\">ٱلْ</span></span><span class=\"plain  rtl   \" ><span class=\"txtu ara\">عَزِيزُ </span></span></span><span class=\"plain  rtl   \" ><span class=\"plain txtu ara rtl\"></span><span class=\"plain  rtl   \" ><span class=\"txtu ara\">ٱلْ</span></span><span class=\"plain  rtl   \" ><span class=\"txtu ara\">حَكِيمُ</span></span></span></span></td></tr>\n",
       "<tr class=\"tf\"><td class=\"tf\">2</td><td class=\"tf\"><span class=\"section ltr\"><a target=\"_blank\" href=\"http://tanzil.net/#59:1\" title=\"show this passage on Tanzil\" sec=\"59:1\">59:1</a></span></td><td class=\"tf\"><span class=\"plain outer rtl  \" ><span class=\"plain txtu ara rtl\"></span><span class=\"plain  rtl   \" ><span class=\"plain txtu ara rtl\"></span><span class=\"plain  rtl   \" ><span class=\"txtu ara\">سَبَّحَ </span></span></span><span class=\"plain  rtl   \" ><span class=\"plain txtu ara rtl\"></span><span class=\"plain  rtl   \" ><span class=\"txtu ara\">لِ</span></span><span class=\"plain  rtl   \" ><span class=\"txtu ara\">لَّهِ </span></span></span><span class=\"plain  rtl   \" ><span class=\"plain txtu ara rtl\"></span><span class=\"plain  rtl   \" ><span class=\"txtu ara\">مَا </span></span></span><span class=\"plain  rtl   \" ><span class=\"plain txtu ara rtl\"></span><span class=\"plain  rtl   \" ><span class=\"txtu ara\">فِى </span></span></span><span class=\"plain  rtl   \" ><span class=\"plain txtu ara rtl\"></span><span class=\"plain  rtl   \" ><span class=\"txtu ara\">ٱل</span></span><span class=\"plain  rtl   \" ><span class=\"txtu ara\">سَّمَٰوَٰتِ </span></span></span><span class=\"plain  rtl   \" ><span class=\"plain txtu ara rtl\"></span><span class=\"plain  rtl   \" ><span class=\"txtu ara\">وَ</span></span><span class=\"plain  rtl   \" ><span class=\"txtu ara\">مَا </span></span></span><span class=\"plain  rtl   \" ><span class=\"plain txtu ara rtl\"></span><span class=\"plain  rtl   \" ><span class=\"txtu ara\">فِى </span></span></span><span class=\"plain  rtl   \" ><span class=\"plain txtu ara rtl\"></span><span class=\"plain  rtl   \" ><span class=\"txtu ara\">ٱلْ</span></span><span class=\"plain  rtl   \" ><span class=\"txtu ara\">أَرْضِ </span></span></span><span class=\"plain  rtl   \" ><span class=\"plain txtu ara rtl\"></span><span class=\"plain  rtl   \" ><span class=\"txtu ara\">وَ</span></span><span class=\"plain  rtl   \" ><span class=\"txtu ara\">هُوَ </span></span></span><span class=\"plain  rtl   \" ><span class=\"plain txtu ara rtl\"></span><span class=\"plain  rtl   \" ><span class=\"txtu ara\">ٱلْ</span></span><span class=\"plain  rtl   \" ><span class=\"txtu ara\">عَزِيزُ </span></span></span><span class=\"plain  rtl   \" ><span class=\"plain txtu ara rtl\"></span><span class=\"plain  rtl   \" ><span class=\"txtu ara\">ٱلْ</span></span><span class=\"plain  rtl   \" ><span class=\"txtu ara\">حَكِيمُ</span></span></span></span></td></tr>\n",
       "<tr class=\"tf\"><td class=\"tf\">3</td><td class=\"tf\"><span class=\"section ltr\"><a target=\"_blank\" href=\"http://tanzil.net/#59:24\" title=\"show this passage on Tanzil\" sec=\"59:24\">59:24</a></span></td><td class=\"tf\"><span class=\"plain outer rtl  \" ><span class=\"plain txtu ara rtl\"></span><span class=\"plain  rtl   \" ><span class=\"plain txtu ara rtl\"></span><span class=\"plain  rtl   \" ><span class=\"txtu ara\">هُوَ </span></span></span><span class=\"plain  rtl   \" ><span class=\"plain txtu ara rtl\"></span><span class=\"plain  rtl   \" ><span class=\"txtu ara\">ٱللَّهُ </span></span></span><span class=\"plain  rtl   \" ><span class=\"plain txtu ara rtl\"></span><span class=\"plain  rtl   \" ><span class=\"txtu ara\">ٱلْ</span></span><span class=\"plain  rtl   \" ><span class=\"txtu ara\">خَٰلِقُ </span></span></span><span class=\"plain  rtl   \" ><span class=\"plain txtu ara rtl\"></span><span class=\"plain  rtl   \" ><span class=\"txtu ara\">ٱلْ</span></span><span class=\"plain  rtl   \" ><span class=\"txtu ara\">بَارِئُ </span></span></span><span class=\"plain  rtl   \" ><span class=\"plain txtu ara rtl\"></span><span class=\"plain  rtl   \" ><span class=\"txtu ara\">ٱلْ</span></span><span class=\"plain  rtl   \" ><span class=\"txtu ara\">مُصَوِّرُ </span></span></span><span class=\"plain  rtl   \" ><span class=\"plain txtu ara rtl\"></span><span class=\"plain  rtl   \" ><span class=\"txtu ara\">لَ</span></span><span class=\"plain  rtl   \" ><span class=\"txtu ara\">هُ </span></span></span><span class=\"plain  rtl   \" ><span class=\"plain txtu ara rtl\"></span><span class=\"plain  rtl   \" ><span class=\"txtu ara\">ٱلْ</span></span><span class=\"plain  rtl   \" ><span class=\"txtu ara\">أَسْمَآءُ </span></span></span><span class=\"plain  rtl   \" ><span class=\"plain txtu ara rtl\"></span><span class=\"plain  rtl   \" ><span class=\"txtu ara\">ٱلْ</span></span><span class=\"plain  rtl   \" ><span class=\"txtu ara\">حُسْنَىٰ </span></span></span><span class=\"plain  rtl   \" ><span class=\"plain txtu ara rtl\"></span><span class=\"plain  rtl   \" ><span class=\"txtu ara\">يُسَبِّحُ </span></span></span><span class=\"plain  rtl   \" ><span class=\"plain txtu ara rtl\"></span><span class=\"plain  rtl   \" ><span class=\"txtu ara\">لَ</span></span><span class=\"plain  rtl   \" ><span class=\"txtu ara\">هُۥ </span></span></span><span class=\"plain  rtl   \" ><span class=\"plain txtu ara rtl\"></span><span class=\"plain  rtl   \" ><span class=\"txtu ara\">مَا </span></span></span><span class=\"plain  rtl   \" ><span class=\"plain txtu ara rtl\"></span><span class=\"plain  rtl   \" ><span class=\"txtu ara\">فِى </span></span></span><span class=\"plain  rtl   \" ><span class=\"plain txtu ara rtl\"></span><span class=\"plain  rtl   \" ><span class=\"txtu ara\">ٱل</span></span><span class=\"plain  rtl   \" ><span class=\"txtu ara\">سَّمَٰوَٰتِ </span></span></span><span class=\"plain  rtl   \" ><span class=\"plain txtu ara rtl\"></span><span class=\"plain  rtl   \" ><span class=\"txtu ara\">وَ</span></span><span class=\"plain  rtl   \" ><span class=\"txtu ara\">ٱلْ</span></span><span class=\"plain  rtl   \" ><span class=\"txtu ara\">أَرْضِ </span></span></span><span class=\"plain  rtl   \" ><span class=\"plain txtu ara rtl\"></span><span class=\"plain  rtl   \" ><span class=\"txtu ara\">وَ</span></span><span class=\"plain  rtl   \" ><span class=\"txtu ara\">هُوَ </span></span></span><span class=\"plain  rtl   \" ><span class=\"plain txtu ara rtl\"></span><span class=\"plain  rtl   \" ><span class=\"txtu ara\">ٱلْ</span></span><span class=\"plain  rtl   \" ><span class=\"txtu ara\">عَزِيزُ </span></span></span><span class=\"plain  rtl   \" ><span class=\"plain txtu ara rtl\"></span><span class=\"plain  rtl   \" ><span class=\"txtu ara\">ٱلْ</span></span><span class=\"plain  rtl   \" ><span class=\"txtu ara\">حَكِيمُ</span></span></span></span></td></tr>\n",
       "<tr class=\"tf\"><td class=\"tf\">4</td><td class=\"tf\"><span class=\"section ltr\"><a target=\"_blank\" href=\"http://tanzil.net/#61:1\" title=\"show this passage on Tanzil\" sec=\"61:1\">61:1</a></span></td><td class=\"tf\"><span class=\"plain outer rtl  \" ><span class=\"plain txtu ara rtl\"></span><span class=\"plain  rtl   \" ><span class=\"plain txtu ara rtl\"></span><span class=\"plain  rtl   \" ><span class=\"txtu ara\">سَبَّحَ </span></span></span><span class=\"plain  rtl   \" ><span class=\"plain txtu ara rtl\"></span><span class=\"plain  rtl   \" ><span class=\"txtu ara\">لِ</span></span><span class=\"plain  rtl   \" ><span class=\"txtu ara\">لَّهِ </span></span></span><span class=\"plain  rtl   \" ><span class=\"plain txtu ara rtl\"></span><span class=\"plain  rtl   \" ><span class=\"txtu ara\">مَا </span></span></span><span class=\"plain  rtl   \" ><span class=\"plain txtu ara rtl\"></span><span class=\"plain  rtl   \" ><span class=\"txtu ara\">فِى </span></span></span><span class=\"plain  rtl   \" ><span class=\"plain txtu ara rtl\"></span><span class=\"plain  rtl   \" ><span class=\"txtu ara\">ٱل</span></span><span class=\"plain  rtl   \" ><span class=\"txtu ara\">سَّمَٰوَٰتِ </span></span></span><span class=\"plain  rtl   \" ><span class=\"plain txtu ara rtl\"></span><span class=\"plain  rtl   \" ><span class=\"txtu ara\">وَ</span></span><span class=\"plain  rtl   \" ><span class=\"txtu ara\">مَا </span></span></span><span class=\"plain  rtl   \" ><span class=\"plain txtu ara rtl\"></span><span class=\"plain  rtl   \" ><span class=\"txtu ara\">فِى </span></span></span><span class=\"plain  rtl   \" ><span class=\"plain txtu ara rtl\"></span><span class=\"plain  rtl   \" ><span class=\"txtu ara\">ٱلْ</span></span><span class=\"plain  rtl   \" ><span class=\"txtu ara\">أَرْضِ </span></span></span><span class=\"plain  rtl   \" ><span class=\"plain txtu ara rtl\"></span><span class=\"plain  rtl   \" ><span class=\"txtu ara\">وَ</span></span><span class=\"plain  rtl   \" ><span class=\"txtu ara\">هُوَ </span></span></span><span class=\"plain  rtl   \" ><span class=\"plain txtu ara rtl\"></span><span class=\"plain  rtl   \" ><span class=\"txtu ara\">ٱلْ</span></span><span class=\"plain  rtl   \" ><span class=\"txtu ara\">عَزِيزُ </span></span></span><span class=\"plain  rtl   \" ><span class=\"plain txtu ara rtl\"></span><span class=\"plain  rtl   \" ><span class=\"txtu ara\">ٱلْ</span></span><span class=\"plain  rtl   \" ><span class=\"txtu ara\">حَكِيمُ</span></span></span></span></td></tr>\n",
       "<tr class=\"tf\"><td class=\"tf\">5</td><td class=\"tf\"><span class=\"section ltr\"><a target=\"_blank\" href=\"http://tanzil.net/#62:1\" title=\"show this passage on Tanzil\" sec=\"62:1\">62:1</a></span></td><td class=\"tf\"><span class=\"plain outer rtl  \" ><span class=\"plain txtu ara rtl\"></span><span class=\"plain  rtl   \" ><span class=\"plain txtu ara rtl\"></span><span class=\"plain  rtl   \" ><span class=\"txtu ara\">يُسَبِّحُ </span></span></span><span class=\"plain  rtl   \" ><span class=\"plain txtu ara rtl\"></span><span class=\"plain  rtl   \" ><span class=\"txtu ara\">لِ</span></span><span class=\"plain  rtl   \" ><span class=\"txtu ara\">لَّهِ </span></span></span><span class=\"plain  rtl   \" ><span class=\"plain txtu ara rtl\"></span><span class=\"plain  rtl   \" ><span class=\"txtu ara\">مَا </span></span></span><span class=\"plain  rtl   \" ><span class=\"plain txtu ara rtl\"></span><span class=\"plain  rtl   \" ><span class=\"txtu ara\">فِى </span></span></span><span class=\"plain  rtl   \" ><span class=\"plain txtu ara rtl\"></span><span class=\"plain  rtl   \" ><span class=\"txtu ara\">ٱل</span></span><span class=\"plain  rtl   \" ><span class=\"txtu ara\">سَّمَٰوَٰتِ </span></span></span><span class=\"plain  rtl   \" ><span class=\"plain txtu ara rtl\"></span><span class=\"plain  rtl   \" ><span class=\"txtu ara\">وَ</span></span><span class=\"plain  rtl   \" ><span class=\"txtu ara\">مَا </span></span></span><span class=\"plain  rtl   \" ><span class=\"plain txtu ara rtl\"></span><span class=\"plain  rtl   \" ><span class=\"txtu ara\">فِى </span></span></span><span class=\"plain  rtl   \" ><span class=\"plain txtu ara rtl\"></span><span class=\"plain  rtl   \" ><span class=\"txtu ara\">ٱلْ</span></span><span class=\"plain  rtl   \" ><span class=\"txtu ara\">أَرْضِ </span></span></span><span class=\"plain  rtl   \" ><span class=\"plain txtu ara rtl\"></span><span class=\"plain  rtl   \" ><span class=\"txtu ara\">ٱلْ</span></span><span class=\"plain  rtl   \" ><span class=\"txtu ara\">مَلِكِ </span></span></span><span class=\"plain  rtl   \" ><span class=\"plain txtu ara rtl\"></span><span class=\"plain  rtl   \" ><span class=\"txtu ara\">ٱلْ</span></span><span class=\"plain  rtl   \" ><span class=\"txtu ara\">قُدُّوسِ </span></span></span><span class=\"plain  rtl   \" ><span class=\"plain txtu ara rtl\"></span><span class=\"plain  rtl   \" ><span class=\"txtu ara\">ٱلْ</span></span><span class=\"plain  rtl   \" ><span class=\"txtu ara\">عَزِيزِ </span></span></span><span class=\"plain  rtl   \" ><span class=\"plain txtu ara rtl\"></span><span class=\"plain  rtl   \" ><span class=\"txtu ara\">ٱلْ</span></span><span class=\"plain  rtl   \" ><span class=\"txtu ara\">حَكِيمِ</span></span></span></span></td></tr></table>"
      ],
      "text/plain": [
       "<IPython.core.display.HTML object>"
      ]
     },
     "metadata": {},
     "output_type": "display_data"
    }
   ],
   "source": [
    "mediumClusters = []\n",
    "\n",
    "for cluster in clusters:\n",
    "  nAyas = len(cluster)\n",
    "  if 4 < nAyas < 10:\n",
    "    mediumClusters.append(cluster)\n",
    "\n",
    "for cluster in sorted(\n",
    "  mediumClusters,\n",
    "  key=lambda x: -len(x),\n",
    "):\n",
    "  print(f'Cluster with {len(cluster)} ayas')\n",
    "  A.table([(a,) for a in sorted(cluster)])"
   ]
  },
  {
   "cell_type": "markdown",
   "metadata": {},
   "source": [
    "# Next steps\n",
    "\n",
    "* **[display](display.ipynb)** become an expert in creating pretty displays of your text structures\n",
    "* **[search](search.ipynb)** turbo charge your hand-coding with search templates\n",
    "* **[exportExcel](exportExcel.ipynb)** make tailor-made spreadsheets out of your results\n",
    "* **[share](share.ipynb)** draw in other people's data and let them use yours\n",
    "* **similarAyas** spot the similarities between lines\n",
    "* **[rings](rings.ipynb)** ring structures in sura 2\n",
    "\n",
    "CC-BY Dirk Roorda"
   ]
  },
  {
   "cell_type": "markdown",
   "metadata": {},
   "source": [
    "---\n",
    "\n",
    "All chapters:\n",
    "\n",
    "* **[start](start.ipynb)** introduction to computing with your corpus\n",
    "* **[display](display.ipynb)** become an expert in creating pretty displays of your text structures\n",
    "* **[search](search.ipynb)** turbo charge your hand-coding with search templates\n",
    "* **[exportExcel](exportExcel.ipynb)** make tailor-made spreadsheets out of your results\n",
    "* **[share](share.ipynb)** draw in other people's data and let them use yours\n",
    "* **similarAyas** spot the similarities between lines\n",
    "* **[rings](rings.ipynb)** ring structures in sura 2"
   ]
  }
 ],
 "metadata": {
  "kernelspec": {
   "display_name": "Python 3",
   "language": "python",
   "name": "python3"
  },
  "language_info": {
   "codemirror_mode": {
    "name": "ipython",
    "version": 3
   },
   "file_extension": ".py",
   "mimetype": "text/x-python",
   "name": "python",
   "nbconvert_exporter": "python",
   "pygments_lexer": "ipython3",
   "version": "3.7.7"
  }
 },
 "nbformat": 4,
 "nbformat_minor": 4
}
