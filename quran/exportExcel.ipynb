{
 "cells": [
  {
   "cell_type": "markdown",
   "metadata": {},
   "source": [
    "<img align=\"right\" src=\"images/tf.png\" width=\"128\"/>\n",
    "<img align=\"right\" src=\"images/uu-small.png\" width=\"128\"/>\n",
    "<img align=\"right\" src=\"images/dans.png\" width=\"128\"/>\n",
    "\n",
    "---\n",
    "\n",
    "To get started: consult [start](start.ipynb)\n",
    "\n",
    "---\n",
    "\n",
    "# Export to Excel\n",
    "\n",
    "In a notebook, you can perform searches and view them in a tabular display and zoom in on items with\n",
    "pretty displays.\n",
    "\n",
    "But there are times that you want to take your results outside Text-Fabric, outside a notebook, outside Python, and just\n",
    "work with them in other programs, such as Excel.\n",
    "\n",
    "You want to do that not only with query results, but with all kinds of lists of tuples of nodes.\n",
    "\n",
    "There is a function for that, `A.export()`, and here we show what it can do."
   ]
  },
  {
   "cell_type": "code",
   "execution_count": 1,
   "metadata": {},
   "outputs": [],
   "source": [
    "%load_ext autoreload\n",
    "%autoreload 2"
   ]
  },
  {
   "cell_type": "markdown",
   "metadata": {},
   "source": [
    "# Incantation\n",
    "\n",
    "The ins and outs of installing Text-Fabric, getting the corpus, and initializing a notebook are\n",
    "explained in the [start tutorial](start.ipynb)."
   ]
  },
  {
   "cell_type": "code",
   "execution_count": 2,
   "metadata": {
    "ExecuteTime": {
     "end_time": "2018-05-24T10:06:39.818664Z",
     "start_time": "2018-05-24T10:06:39.796588Z"
    }
   },
   "outputs": [],
   "source": [
    "import os\n",
    "from tf.app import use"
   ]
  },
  {
   "cell_type": "code",
   "execution_count": 3,
   "metadata": {},
   "outputs": [
    {
     "name": "stdout",
     "output_type": "stream",
     "text": [
      "Using quran commit 2a86beb3f768265578d137052ca7f2b314f06ea1\n",
      "  in /Users/dirk/text-fabric-data/__apps__/quran\n",
      "Using q-ran/quran/tf - 0.2 rv0.3 in /Users/dirk/text-fabric-data\n"
     ]
    },
    {
     "data": {
      "text/markdown": [
       "**Documentation:** <a target=\"_blank\" href=\"https://github.com/q-ran/quran/blob/master/docs\" title=\"provenance of Quran\">QURAN</a> <a target=\"_blank\" href=\"https://annotation.github.io/text-fabric/Writing/Arabic\" title=\"('Arabic characters and transcriptions',)\">Character table</a> <a target=\"_blank\" href=\"https://github.com/q-ran/quran/blob/master/docs/features-0.2.md#features.md\" title=\"QURAN feature documentation\">Feature docs</a> <a target=\"_blank\" href=\"https://github.com/annotation/app-quran\" title=\"quran API documentation\">quran API</a> <a target=\"_blank\" href=\"https://annotation.github.io/text-fabric/Api/Fabric/\" title=\"text-fabric-api\">Text-Fabric API 7.3.8</a> <a target=\"_blank\" href=\"https://annotation.github.io/text-fabric/Use/Search/\" title=\"Search Templates Introduction and Reference\">Search Reference</a>"
      ],
      "text/plain": [
       "<IPython.core.display.Markdown object>"
      ]
     },
     "metadata": {},
     "output_type": "display_data"
    },
    {
     "data": {
      "text/html": [
       "<details open><summary><b>Loaded features</b>:</summary>\n",
       "<p><b>Quran</b>: <a target=\"_blank\" href=\"https://github.com/q-ran/quran/blob/master/docs/features-0.2.md#a\" title=\"/Users/dirk/text-fabric-data/q-ran/quran/tf/0.2/a.tf\">a</a>  <a target=\"_blank\" href=\"https://github.com/q-ran/quran/blob/master/docs/features-0.2.md#ascii\" title=\"/Users/dirk/text-fabric-data/q-ran/quran/tf/0.2/ascii.tf\">ascii</a>  <a target=\"_blank\" href=\"https://github.com/q-ran/quran/blob/master/docs/features-0.2.md#ax\" title=\"/Users/dirk/text-fabric-data/q-ran/quran/tf/0.2/ax.tf\">ax</a>  <a target=\"_blank\" href=\"https://github.com/q-ran/quran/blob/master/docs/features-0.2.md#case\" title=\"/Users/dirk/text-fabric-data/q-ran/quran/tf/0.2/case.tf\">case</a>  <a target=\"_blank\" href=\"https://github.com/q-ran/quran/blob/master/docs/features-0.2.md#component\" title=\"/Users/dirk/text-fabric-data/q-ran/quran/tf/0.2/component.tf\">component</a>  <a target=\"_blank\" href=\"https://github.com/q-ran/quran/blob/master/docs/features-0.2.md#definite\" title=\"/Users/dirk/text-fabric-data/q-ran/quran/tf/0.2/definite.tf\">definite</a>  <a target=\"_blank\" href=\"https://github.com/q-ran/quran/blob/master/docs/features-0.2.md#f\" title=\"/Users/dirk/text-fabric-data/q-ran/quran/tf/0.2/f.tf\">f</a>  <a target=\"_blank\" href=\"https://github.com/q-ran/quran/blob/master/docs/features-0.2.md#formation\" title=\"/Users/dirk/text-fabric-data/q-ran/quran/tf/0.2/formation.tf\">formation</a>  <a target=\"_blank\" href=\"https://github.com/q-ran/quran/blob/master/docs/features-0.2.md#fx\" title=\"/Users/dirk/text-fabric-data/q-ran/quran/tf/0.2/fx.tf\">fx</a>  <a target=\"_blank\" href=\"https://github.com/q-ran/quran/blob/master/docs/features-0.2.md#gn\" title=\"/Users/dirk/text-fabric-data/q-ran/quran/tf/0.2/gn.tf\">gn</a>  <a target=\"_blank\" href=\"https://github.com/q-ran/quran/blob/master/docs/features-0.2.md#interjection\" title=\"/Users/dirk/text-fabric-data/q-ran/quran/tf/0.2/interjection.tf\">interjection</a>  <a target=\"_blank\" href=\"https://github.com/q-ran/quran/blob/master/docs/features-0.2.md#l\" title=\"/Users/dirk/text-fabric-data/q-ran/quran/tf/0.2/l.tf\">l</a>  <a target=\"_blank\" href=\"https://github.com/q-ran/quran/blob/master/docs/features-0.2.md#lemma\" title=\"/Users/dirk/text-fabric-data/q-ran/quran/tf/0.2/lemma.tf\">lemma</a>  <a target=\"_blank\" href=\"https://github.com/q-ran/quran/blob/master/docs/features-0.2.md#lx\" title=\"/Users/dirk/text-fabric-data/q-ran/quran/tf/0.2/lx.tf\">lx</a>  <a target=\"_blank\" href=\"https://github.com/q-ran/quran/blob/master/docs/features-0.2.md#mood\" title=\"/Users/dirk/text-fabric-data/q-ran/quran/tf/0.2/mood.tf\">mood</a>  <a target=\"_blank\" href=\"https://github.com/q-ran/quran/blob/master/docs/features-0.2.md#n\" title=\"/Users/dirk/text-fabric-data/q-ran/quran/tf/0.2/n.tf\">n</a>  <a target=\"_blank\" href=\"https://github.com/q-ran/quran/blob/master/docs/features-0.2.md#name\" title=\"/Users/dirk/text-fabric-data/q-ran/quran/tf/0.2/name.tf\">name</a>  <a target=\"_blank\" href=\"https://github.com/q-ran/quran/blob/master/docs/features-0.2.md#name@ll\" title=\"/Users/dirk/text-fabric-data/q-ran/quran/tf/0.2/name@en.tf\">name@ll</a>  <a target=\"_blank\" href=\"https://github.com/q-ran/quran/blob/master/docs/features-0.2.md#nameAscii\" title=\"/Users/dirk/text-fabric-data/q-ran/quran/tf/0.2/nameAscii.tf\">nameAscii</a>  <a target=\"_blank\" href=\"https://github.com/q-ran/quran/blob/master/docs/features-0.2.md#nameTrans\" title=\"/Users/dirk/text-fabric-data/q-ran/quran/tf/0.2/nameTrans.tf\">nameTrans</a>  <a target=\"_blank\" href=\"https://github.com/q-ran/quran/blob/master/docs/features-0.2.md#nu\" title=\"/Users/dirk/text-fabric-data/q-ran/quran/tf/0.2/nu.tf\">nu</a>  <a target=\"_blank\" href=\"https://github.com/q-ran/quran/blob/master/docs/features-0.2.md#number\" title=\"/Users/dirk/text-fabric-data/q-ran/quran/tf/0.2/number.tf\">number</a>  <a target=\"_blank\" href=\"https://github.com/q-ran/quran/blob/master/docs/features-0.2.md#order\" title=\"/Users/dirk/text-fabric-data/q-ran/quran/tf/0.2/order.tf\">order</a>  <a target=\"_blank\" href=\"https://github.com/q-ran/quran/blob/master/docs/features-0.2.md#otype\" title=\"/Users/dirk/text-fabric-data/q-ran/quran/tf/0.2/otype.tf\">otype</a>  <a target=\"_blank\" href=\"https://github.com/q-ran/quran/blob/master/docs/features-0.2.md#pos\" title=\"/Users/dirk/text-fabric-data/q-ran/quran/tf/0.2/pos.tf\">pos</a>  <a target=\"_blank\" href=\"https://github.com/q-ran/quran/blob/master/docs/features-0.2.md#posx\" title=\"/Users/dirk/text-fabric-data/q-ran/quran/tf/0.2/posx.tf\">posx</a>  <a target=\"_blank\" href=\"https://github.com/q-ran/quran/blob/master/docs/features-0.2.md#ps\" title=\"/Users/dirk/text-fabric-data/q-ran/quran/tf/0.2/ps.tf\">ps</a>  <a target=\"_blank\" href=\"https://github.com/q-ran/quran/blob/master/docs/features-0.2.md#root\" title=\"/Users/dirk/text-fabric-data/q-ran/quran/tf/0.2/root.tf\">root</a>  <a target=\"_blank\" href=\"https://github.com/q-ran/quran/blob/master/docs/features-0.2.md#sp\" title=\"/Users/dirk/text-fabric-data/q-ran/quran/tf/0.2/sp.tf\">sp</a>  <a target=\"_blank\" href=\"https://github.com/q-ran/quran/blob/master/docs/features-0.2.md#space\" title=\"/Users/dirk/text-fabric-data/q-ran/quran/tf/0.2/space.tf\">space</a>  <a target=\"_blank\" href=\"https://github.com/q-ran/quran/blob/master/docs/features-0.2.md#tense\" title=\"/Users/dirk/text-fabric-data/q-ran/quran/tf/0.2/tense.tf\">tense</a>  <a target=\"_blank\" href=\"https://github.com/q-ran/quran/blob/master/docs/features-0.2.md#translation@ll\" title=\"/Users/dirk/text-fabric-data/q-ran/quran/tf/0.2/translation@en.tf\">translation@ll</a>  <a target=\"_blank\" href=\"https://github.com/q-ran/quran/blob/master/docs/features-0.2.md#type\" title=\"/Users/dirk/text-fabric-data/q-ran/quran/tf/0.2/type.tf\">type</a>  <a target=\"_blank\" href=\"https://github.com/q-ran/quran/blob/master/docs/features-0.2.md#unicode\" title=\"/Users/dirk/text-fabric-data/q-ran/quran/tf/0.2/unicode.tf\">unicode</a>  <a target=\"_blank\" href=\"https://github.com/q-ran/quran/blob/master/docs/features-0.2.md#voice\" title=\"/Users/dirk/text-fabric-data/q-ran/quran/tf/0.2/voice.tf\">voice</a>  <a target=\"_blank\" href=\"https://github.com/q-ran/quran/blob/master/docs/features-0.2.md#w\" title=\"/Users/dirk/text-fabric-data/q-ran/quran/tf/0.2/w.tf\">w</a>  <a target=\"_blank\" href=\"https://github.com/q-ran/quran/blob/master/docs/features-0.2.md#wx\" title=\"/Users/dirk/text-fabric-data/q-ran/quran/tf/0.2/wx.tf\">wx</a>  <b><i><a target=\"_blank\" href=\"https://github.com/q-ran/quran/blob/master/docs/features-0.2.md#oslots\" title=\"/Users/dirk/text-fabric-data/q-ran/quran/tf/0.2/oslots.tf\">oslots</a></i></b> </p></details>"
      ],
      "text/plain": [
       "<IPython.core.display.HTML object>"
      ]
     },
     "metadata": {},
     "output_type": "display_data"
    },
    {
     "data": {
      "text/html": [
       "<style>\n",
       "@font-face {\n",
       "  font-family: \"AmiriQuran\";\n",
       "  src: url('https://github.com/annotation/text-fabric/blob/master/tf/server/static/fonts/AmiriQuran.ttf?raw=true');\n",
       "  src: url('https://github.com/annotation/text-fabric/blob/master/tf/server/static/fonts/AmiriQuran.woff2?raw=true') format('woff');\n",
       "}\n",
       ".features {\n",
       "    font-family: monospace;\n",
       "    font-size: medium;\n",
       "    font-weight: bold;\n",
       "    color: #0a6611;\n",
       "    display: flex;\n",
       "    flex-flow: column nowrap;\n",
       "    padding: 0.1em;\n",
       "    margin: 0.1em;\n",
       "    direction: ltr;\n",
       "}\n",
       ".features div,.features span {\n",
       "    padding: 0;\n",
       "    margin: -0.1rem 0;\n",
       "}\n",
       ".features .f {\n",
       "    font-family: sans-serif;\n",
       "    font-size: x-small;\n",
       "    font-weight: normal;\n",
       "    color: #5555bb;\n",
       "}\n",
       ".features .xft {\n",
       "  color: #000000;\n",
       "  background-color: #eeeeee;\n",
       "  font-size: medium;\n",
       "  margin: 0.1em 0em;\n",
       "}\n",
       ".features .xft .f {\n",
       "  color: #000000;\n",
       "  background-color: #eeeeee;\n",
       "  font-style: italic;\n",
       "  font-size: small;\n",
       "  font-weight: normal;\n",
       "}\n",
       ".aya {\n",
       "    display: flex;\n",
       "    flex-flow: row wrap;\n",
       "    direction: rtl;\n",
       "}\n",
       ".vl {\n",
       "    display: flex;\n",
       "    flex-flow: column nowrap;\n",
       "    justify-content: flex-end;\n",
       "    align-items: flex-end;\n",
       "    direction: ltr;\n",
       "    width: 100%;\n",
       "}\n",
       ".outeritem {\n",
       "    display: flex;\n",
       "    flex-flow: row wrap;\n",
       "    direction: rtl;\n",
       "}\n",
       ".word {\n",
       "    padding: 0.1em;\n",
       "    margin: 0.1em;\n",
       "    border-radius: 0.1em;\n",
       "    border: 1px solid #cccccc;\n",
       "    display: flex;\n",
       "    flex-flow: column nowrap;\n",
       "    direction: rtl;\n",
       "    background-color: #ffffff;\n",
       "}\n",
       ".lextp {\n",
       "    padding: 0.1em;\n",
       "    margin: 0.1em;\n",
       "    border-radius: 0.1em;\n",
       "    border: 2px solid #888888;\n",
       "    width: fit-content;\n",
       "    display: flex;\n",
       "    flex-flow: column nowrap;\n",
       "    direction: rtl;\n",
       "    background-color: #ffffff;\n",
       "}\n",
       ".occs {\n",
       "    font-size: x-small;\n",
       "}\n",
       ".tr,.tr a:visited,.tr a:link {\n",
       "    font-family: sans-serif;\n",
       "    font-size: large;\n",
       "    color: #000044;\n",
       "    direction: ltr;\n",
       "    text-decoration: none;\n",
       "}\n",
       ".trb,.trb a:visited,.trb a:link {\n",
       "    font-family: sans-serif;\n",
       "    font-size: normal;\n",
       "    direction: ltr;\n",
       "    text-decoration: none;\n",
       "}\n",
       ".ar,.ar a:visited,.ar a:link {\n",
       "    font-family: \"AmiriQuran\", sans-serif;\n",
       "    font-size: large;\n",
       "    color: #000044;\n",
       "    direction: rtl;\n",
       "    text-decoration: none;\n",
       "}\n",
       ".arb,.arb a:visited,.arb a:link {\n",
       "    font-family: \"AmiriQuran\", sans-serif;\n",
       "    font-size: large;\n",
       "    line-height: 3;\n",
       "    direction: rtl;\n",
       "    text-decoration: none;\n",
       "}\n",
       ".vn {\n",
       "  font-size: small !important;\n",
       "  padding-right: 1em;\n",
       "}\n",
       ".sp,.sp a:visited,.sp a:link {\n",
       "    font-family: monospace;\n",
       "    font-size: medium;\n",
       "    color: #0000bb;\n",
       "    text-decoration: none;\n",
       "}\n",
       ".lexeme {\n",
       "    font-family: monospace;\n",
       "    font-size: medium;\n",
       "    color: #0000bb;\n",
       "}\n",
       ".vs {\n",
       "    font-family: monospace;\n",
       "    font-size: medium;\n",
       "    font-weight: bold;\n",
       "    color: #0000bb;\n",
       "}\n",
       ".vt {\n",
       "    font-family: monospace;\n",
       "    font-size: medium;\n",
       "    font-weight: bold;\n",
       "    color: #0000bb;\n",
       "}\n",
       ".nd {\n",
       "    font-family: monospace;\n",
       "    font-size: x-small;\n",
       "    color: #999999;\n",
       "}\n",
       ".hl {\n",
       "    background-color: #ffee66;\n",
       "}\n",
       "\n",
       "span.hldot {\n",
       "\tbackground-color: var(--hl-strong);\n",
       "\tborder: 0.2rem solid var(--hl-rim);\n",
       "\tborder-radius: 0.4rem;\n",
       "\t/*\n",
       "\tdisplay: inline-block;\n",
       "\twidth: 0.8rem;\n",
       "\theight: 0.8rem;\n",
       "\t*/\n",
       "}\n",
       "span.hl {\n",
       "\tbackground-color: var(--hl-strong);\n",
       "\tborder-width: 0;\n",
       "\tborder-radius: 0.1rem;\n",
       "\tborder-style: solid;\n",
       "}\n",
       "\n",
       "span.hlup {\n",
       "\tborder-color: var(--hl-dark);\n",
       "\tborder-width: 0.1rem;\n",
       "\tborder-style: solid;\n",
       "\tborder-radius: 0.2rem;\n",
       "  padding: 0.2rem;\n",
       "}\n",
       "\n",
       ":root {\n",
       "\t--hl-strong:        hsla( 60, 100%,  70%, 0.9  );\n",
       "\t--hl-rim:           hsla( 55, 100%,  60%, 0.9  );\n",
       "\t--hl-dark:          hsla( 55, 100%,  40%, 0.9  );\n",
       "}\n",
       "</style>"
      ],
      "text/plain": [
       "<IPython.core.display.HTML object>"
      ]
     },
     "metadata": {},
     "output_type": "display_data"
    },
    {
     "data": {
      "text/html": [
       "<details open><summary><b>API members</b>:</summary>\n",
       "<a target=\"_blank\" href=\"https://annotation.github.io/text-fabric/Api/Computed/#computed-data\" title=\"doc\">C Computed</a>, <a target=\"_blank\" href=\"https://annotation.github.io/text-fabric/Api/Computed/#computed-data\" title=\"doc\">Call AllComputeds</a>, <a target=\"_blank\" href=\"https://annotation.github.io/text-fabric/Api/Computed/#computed-data\" title=\"doc\">Cs ComputedString</a><br/>\n",
       "<a target=\"_blank\" href=\"https://annotation.github.io/text-fabric/Api/Features/#edge-features\" title=\"doc\">E Edge</a>, <a target=\"_blank\" href=\"https://annotation.github.io/text-fabric/Api/Features/#edge-features\" title=\"doc\">Eall AllEdges</a>, <a target=\"_blank\" href=\"https://annotation.github.io/text-fabric/Api/Features/#edge-features\" title=\"doc\">Es EdgeString</a><br/>\n",
       "<a target=\"_blank\" href=\"https://annotation.github.io/text-fabric/Api/Fabric/#loading\" title=\"doc\">ensureLoaded</a>, <a target=\"_blank\" href=\"https://annotation.github.io/text-fabric/Api/Fabric/#loading\" title=\"doc\">TF</a>, <a target=\"_blank\" href=\"https://annotation.github.io/text-fabric/Api/Fabric/#loading\" title=\"doc\">ignored</a>, <a target=\"_blank\" href=\"https://annotation.github.io/text-fabric/Api/Fabric/#loading\" title=\"doc\">loadLog</a><br/>\n",
       "<a target=\"_blank\" href=\"https://annotation.github.io/text-fabric/Api/Locality/#locality\" title=\"doc\">L Locality</a><br/>\n",
       "<a target=\"_blank\" href=\"https://annotation.github.io/text-fabric/Api/Misc/#messaging\" title=\"doc\">cache</a>, <a target=\"_blank\" href=\"https://annotation.github.io/text-fabric/Api/Misc/#messaging\" title=\"doc\">error</a>, <a target=\"_blank\" href=\"https://annotation.github.io/text-fabric/Api/Misc/#messaging\" title=\"doc\">indent</a>, <a target=\"_blank\" href=\"https://annotation.github.io/text-fabric/Api/Misc/#messaging\" title=\"doc\">info</a>, <a target=\"_blank\" href=\"https://annotation.github.io/text-fabric/Api/Misc/#messaging\" title=\"doc\">reset</a><br/>\n",
       "<a target=\"_blank\" href=\"https://annotation.github.io/text-fabric/Api/Nodes/#navigating-nodes\" title=\"doc\">N Nodes</a>, <a target=\"_blank\" href=\"https://annotation.github.io/text-fabric/Api/Nodes/#navigating-nodes\" title=\"doc\">sortKey</a>, <a target=\"_blank\" href=\"https://annotation.github.io/text-fabric/Api/Nodes/#navigating-nodes\" title=\"doc\">sortKeyTuple</a>, <a target=\"_blank\" href=\"https://annotation.github.io/text-fabric/Api/Nodes/#navigating-nodes\" title=\"doc\">otypeRank</a>, <a target=\"_blank\" href=\"https://annotation.github.io/text-fabric/Api/Nodes/#navigating-nodes\" title=\"doc\">sortNodes</a><br/>\n",
       "<a target=\"_blank\" href=\"https://annotation.github.io/text-fabric/Api/Features/#node-features\" title=\"doc\">F Feature</a>, <a target=\"_blank\" href=\"https://annotation.github.io/text-fabric/Api/Features/#node-features\" title=\"doc\">Fall AllFeatures</a>, <a target=\"_blank\" href=\"https://annotation.github.io/text-fabric/Api/Features/#node-features\" title=\"doc\">Fs FeatureString</a><br/>\n",
       "<a target=\"_blank\" href=\"https://annotation.github.io/text-fabric/Api/Search/#search\" title=\"doc\">S Search</a><br/>\n",
       "<a target=\"_blank\" href=\"https://annotation.github.io/text-fabric/Api/Text/#text\" title=\"doc\">T Text</a></details>"
      ],
      "text/plain": [
       "<IPython.core.display.HTML object>"
      ]
     },
     "metadata": {},
     "output_type": "display_data"
    }
   ],
   "source": [
    "A = use('quran', hoist=globals())"
   ]
  },
  {
   "cell_type": "markdown",
   "metadata": {},
   "source": [
    "# Inspect the contents of a file\n",
    "We write a function that can peek into file on your system, and show the first few lines.\n",
    "We'll use it to inspect the exported files that we are going to produce."
   ]
  },
  {
   "cell_type": "code",
   "execution_count": 4,
   "metadata": {},
   "outputs": [],
   "source": [
    "EXPORT_FILE = os.path.expanduser('~/Downloads/results.tsv')\n",
    "UPTO = 10\n",
    "\n",
    "def checkout():\n",
    "    with open(EXPORT_FILE, encoding='utf_16') as fh:\n",
    "        for (i, line) in enumerate(fh):\n",
    "            if i >= UPTO:\n",
    "                break\n",
    "            print(line)"
   ]
  },
  {
   "cell_type": "markdown",
   "metadata": {},
   "source": [
    "# Encoding\n",
    "\n",
    "Our exported `.tsv` files open in Excel without hassle, even if they contain non-latin characters.\n",
    "That is because TF writes such files in an\n",
    "encoding that works well with Excel: `utf_16_le`.\n",
    "You can just open them in Excel, there is no need for conversion before or after opening these files.\n",
    "\n",
    "Should you want to process these files by means of a (Python) program, \n",
    "take care to read them with encoding `utf_16`."
   ]
  },
  {
   "cell_type": "markdown",
   "metadata": {},
   "source": [
    "# Example query\n",
    "\n",
    "We first run a query in order to export the results."
   ]
  },
  {
   "cell_type": "code",
   "execution_count": 5,
   "metadata": {
    "ExecuteTime": {
     "end_time": "2018-05-24T07:46:55.998382Z",
     "start_time": "2018-05-24T07:46:55.137956Z"
    }
   },
   "outputs": [
    {
     "name": "stdout",
     "output_type": "stream",
     "text": [
      "  0.33s 529 results\n"
     ]
    }
   ],
   "source": [
    "query = '''\n",
    "aya\n",
    "  word pos=verb\n",
    "  <: word pos=noun posx=proper root=Alh\n",
    "  <: word\n",
    "'''\n",
    "results = A.search(query)"
   ]
  },
  {
   "cell_type": "markdown",
   "metadata": {},
   "source": [
    "# Bare export\n",
    "\n",
    "You can export the table of results to Excel.\n",
    "\n",
    "The following command writes a tab-separated file `results.tsv` to your downloads directory.\n",
    "\n",
    "You can specify arguments `toDir=directory` and `toFile=file name` to write to a different file.\n",
    "If the directory does not exist, it will be created.\n",
    "\n",
    "We stick to the default, however."
   ]
  },
  {
   "cell_type": "code",
   "execution_count": 6,
   "metadata": {},
   "outputs": [],
   "source": [
    "A.export(results)"
   ]
  },
  {
   "cell_type": "markdown",
   "metadata": {},
   "source": [
    "Check out the contents:"
   ]
  },
  {
   "cell_type": "code",
   "execution_count": 7,
   "metadata": {},
   "outputs": [
    {
     "name": "stdout",
     "output_type": "stream",
     "text": [
      "R\tS1\tS2\tNODE1\tTYPE1\tNODE2\tTYPE2\tTEXT2\tpos2\tNODE3\tTYPE3\tTEXT3\tpos3\tposx3\troot3\tNODE4\tTYPE4\tTEXT4\n",
      "\n",
      "1\t2\t7\t205662\taya\t131\tword\tخَتَمَ \tverb\t132\tword\tٱللَّهُ \tnoun\tproper\tAlh\t133\tword\tعَلَىٰ \n",
      "\n",
      "2\t2\t17\t205672\taya\t341\tword\tذَهَبَ \tverb\t342\tword\tٱللَّهُ \tnoun\tproper\tAlh\t343\tword\tبِ\n",
      "\n",
      "3\t2\t20\t205675\taya\t417\tword\tشَآءَ \tverb\t418\tword\tٱللَّهُ \tnoun\tproper\tAlh\t419\tword\tلَ\n",
      "\n",
      "4\t2\t26\t205681\taya\t641\tword\tأَرَادَ \tverb\t642\tword\tٱللَّهُ \tnoun\tproper\tAlh\t643\tword\tبِ\n",
      "\n",
      "5\t2\t27\t205682\taya\t676\tword\tأَمَرَ \tverb\t677\tword\tٱللَّهُ \tnoun\tproper\tAlh\t678\tword\tبِ\n",
      "\n",
      "6\t2\t55\t205710\taya\t1393\tword\tنَرَى \tverb\t1394\tword\tٱللَّهَ \tnoun\tproper\tAlh\t1395\tword\tجَهْرَةً \n",
      "\n",
      "7\t2\t70\t205725\taya\t1922\tword\tشَآءَ \tverb\t1923\tword\tٱللَّهُ \tnoun\tproper\tAlh\t1924\tword\tلَ\n",
      "\n",
      "8\t2\t73\t205728\taya\t1996\tword\tيُحْىِ \tverb\t1997\tword\tٱللَّهُ \tnoun\tproper\tAlh\t1998\tword\tٱلْ\n",
      "\n",
      "9\t2\t76\t205731\taya\t2127\tword\tفَتَحَ \tverb\t2128\tword\tٱللَّهُ \tnoun\tproper\tAlh\t2129\tword\tعَلَيْ\n",
      "\n"
     ]
    }
   ],
   "source": [
    "checkout()"
   ]
  },
  {
   "cell_type": "markdown",
   "metadata": {},
   "source": [
    "You see the following columns:\n",
    "\n",
    "* **R** the sequence number of the result tuple in the result list\n",
    "* **S1 S2** the section as sura and aya in separate columns\n",
    "* **NODEi TYPEi** the node and its type, for each node **i** in the result tuple\n",
    "* **TEXTi** the full text of node **i**, if the node type admits a concise text representation\n",
    "* **pos2** the value of feature `pos` on node 2, since our query mentions the feature `pos` on node 2\n",
    "* other features: likewise for `pos3`, `posx3`, `root3`"
   ]
  },
  {
   "cell_type": "markdown",
   "metadata": {},
   "source": [
    "# Richer exports\n",
    "\n",
    "If we want to see the feature `posx` and the word gender (feature `gn`) on the last word (4), we must mention them\n",
    "in the query. \n",
    "\n",
    "We can do so as follows:"
   ]
  },
  {
   "cell_type": "code",
   "execution_count": 8,
   "metadata": {
    "ExecuteTime": {
     "end_time": "2018-05-24T07:46:55.998382Z",
     "start_time": "2018-05-24T07:46:55.137956Z"
    }
   },
   "outputs": [
    {
     "name": "stdout",
     "output_type": "stream",
     "text": [
      "  0.55s 529 results\n"
     ]
    }
   ],
   "source": [
    "query = '''\n",
    "aya\n",
    "  word pos=verb\n",
    "  <: word pos=noun posx=proper root=Alh\n",
    "  <: word posx* gn*\n",
    "'''\n",
    "results = A.search(query)"
   ]
  },
  {
   "cell_type": "markdown",
   "metadata": {},
   "source": [
    "The same number of results as before. \n",
    "The `*` is a trivial condition, it is always true.\n",
    "\n",
    "We do the export again and peek at the results."
   ]
  },
  {
   "cell_type": "code",
   "execution_count": 9,
   "metadata": {},
   "outputs": [
    {
     "name": "stdout",
     "output_type": "stream",
     "text": [
      "R\tS1\tS2\tNODE1\tTYPE1\tNODE2\tTYPE2\tTEXT2\tpos2\tNODE3\tTYPE3\tTEXT3\tpos3\tposx3\troot3\tNODE4\tTYPE4\tTEXT4\tgn4\tposx4\n",
      "\n",
      "1\t2\t7\t205662\taya\t131\tword\tخَتَمَ \tverb\t132\tword\tٱللَّهُ \tnoun\tproper\tAlh\t133\tword\tعَلَىٰ \t\t\n",
      "\n",
      "2\t2\t17\t205672\taya\t341\tword\tذَهَبَ \tverb\t342\tword\tٱللَّهُ \tnoun\tproper\tAlh\t343\tword\tبِ\t\t\n",
      "\n",
      "3\t2\t20\t205675\taya\t417\tword\tشَآءَ \tverb\t418\tword\tٱللَّهُ \tnoun\tproper\tAlh\t419\tword\tلَ\t\temphatic\n",
      "\n",
      "4\t2\t26\t205681\taya\t641\tword\tأَرَادَ \tverb\t642\tword\tٱللَّهُ \tnoun\tproper\tAlh\t643\tword\tبِ\t\t\n",
      "\n",
      "5\t2\t27\t205682\taya\t676\tword\tأَمَرَ \tverb\t677\tword\tٱللَّهُ \tnoun\tproper\tAlh\t678\tword\tبِ\t\t\n",
      "\n",
      "6\t2\t55\t205710\taya\t1393\tword\tنَرَى \tverb\t1394\tword\tٱللَّهَ \tnoun\tproper\tAlh\t1395\tword\tجَهْرَةً \tf\t\n",
      "\n",
      "7\t2\t70\t205725\taya\t1922\tword\tشَآءَ \tverb\t1923\tword\tٱللَّهُ \tnoun\tproper\tAlh\t1924\tword\tلَ\t\temphatic\n",
      "\n",
      "8\t2\t73\t205728\taya\t1996\tword\tيُحْىِ \tverb\t1997\tword\tٱللَّهُ \tnoun\tproper\tAlh\t1998\tword\tٱلْ\t\t\n",
      "\n",
      "9\t2\t76\t205731\taya\t2127\tword\tفَتَحَ \tverb\t2128\tword\tٱللَّهُ \tnoun\tproper\tAlh\t2129\tword\tعَلَيْ\t\t\n",
      "\n"
     ]
    }
   ],
   "source": [
    "A.export(results)\n",
    "checkout()"
   ]
  },
  {
   "cell_type": "markdown",
   "metadata": {},
   "source": [
    "As you see, you have extra columns **gn4** and **posx4**.\n",
    "\n",
    "This gives you a lot of control over the generation of spreadsheets."
   ]
  },
  {
   "cell_type": "markdown",
   "metadata": {},
   "source": [
    "# Not from queries\n",
    "\n",
    "You can also export lists of node tuples that are not obtained by a query:"
   ]
  },
  {
   "cell_type": "code",
   "execution_count": 10,
   "metadata": {},
   "outputs": [
    {
     "data": {
      "text/plain": [
       "((131, 132), (341, 342))"
      ]
     },
     "execution_count": 10,
     "metadata": {},
     "output_type": "execute_result"
    }
   ],
   "source": [
    "tuples = (\n",
    "    tuple(results[0][1:3]),\n",
    "    tuple(results[1][1:3]),\n",
    ")\n",
    "\n",
    "tuples"
   ]
  },
  {
   "cell_type": "markdown",
   "metadata": {},
   "source": [
    "Two rows, each row has a clause node and a word node.\n",
    "\n",
    "Let's do a bare export:"
   ]
  },
  {
   "cell_type": "code",
   "execution_count": 11,
   "metadata": {},
   "outputs": [
    {
     "name": "stdout",
     "output_type": "stream",
     "text": [
      "R\tS1\tS2\tNODE1\tTYPE1\tTEXT1\tNODE2\tTYPE2\tTEXT2\tpos2\n",
      "\n",
      "1\t2\t7\t131\tword\tخَتَمَ \t132\tword\tٱللَّهُ \tnoun\n",
      "\n",
      "2\t2\t17\t341\tword\tذَهَبَ \t342\tword\tٱللَّهُ \tnoun\n",
      "\n"
     ]
    }
   ],
   "source": [
    "A.export(tuples)\n",
    "checkout()"
   ]
  },
  {
   "cell_type": "markdown",
   "metadata": {},
   "source": [
    "Wait a minute: why is the `pos2` there?\n",
    "\n",
    "It is because we have run a query before where we asked for `pos`.\n",
    "\n",
    "If we do not want to be influenced by previous things we've run, we need to reset the display:"
   ]
  },
  {
   "cell_type": "code",
   "execution_count": 12,
   "metadata": {},
   "outputs": [],
   "source": [
    "A.displayReset('tupleFeatures')"
   ]
  },
  {
   "cell_type": "markdown",
   "metadata": {},
   "source": [
    "Again:"
   ]
  },
  {
   "cell_type": "code",
   "execution_count": 13,
   "metadata": {},
   "outputs": [
    {
     "name": "stdout",
     "output_type": "stream",
     "text": [
      "R\tS1\tS2\tNODE1\tTYPE1\tTEXT1\tNODE2\tTYPE2\tTEXT2\n",
      "\n",
      "1\t2\t7\t131\tword\tخَتَمَ \t132\tword\tٱللَّهُ \n",
      "\n",
      "2\t2\t17\t341\tword\tذَهَبَ \t342\tword\tٱللَّهُ \n",
      "\n"
     ]
    }
   ],
   "source": [
    "A.export(tuples)\n",
    "checkout()"
   ]
  },
  {
   "cell_type": "markdown",
   "metadata": {},
   "source": [
    "# Display setup\n",
    "\n",
    "We can get richer exports by means of\n",
    "`A.displaySetup()`, using the parameter `tupleFeatures`:"
   ]
  },
  {
   "cell_type": "code",
   "execution_count": 14,
   "metadata": {},
   "outputs": [],
   "source": [
    "A.displaySetup(tupleFeatures=(\n",
    "    (0, 'pos posx'),\n",
    "    (1, 'pos root'),\n",
    "))"
   ]
  },
  {
   "cell_type": "markdown",
   "metadata": {},
   "source": [
    "We assign extra features per member of the tuple.\n",
    "\n",
    "In the above case:\n",
    "\n",
    "* the first (`0`) member (the first word node), gets features `pos` and `posx`;\n",
    "* the second (`1`) member (the second word node), gets features `pos` and `root`."
   ]
  },
  {
   "cell_type": "code",
   "execution_count": 15,
   "metadata": {},
   "outputs": [
    {
     "name": "stdout",
     "output_type": "stream",
     "text": [
      "R\tS1\tS2\tNODE1\tTYPE1\tTEXT1\tpos1\tposx1\tNODE2\tTYPE2\tTEXT2\tpos2\troot2\n",
      "\n",
      "1\t2\t7\t131\tword\tخَتَمَ \tverb\t\t132\tword\tٱللَّهُ \tnoun\tAlh\n",
      "\n",
      "2\t2\t17\t341\tword\tذَهَبَ \tverb\t\t342\tword\tٱللَّهُ \tnoun\tAlh\n",
      "\n"
     ]
    }
   ],
   "source": [
    "A.export(tuples)\n",
    "checkout()"
   ]
  },
  {
   "cell_type": "markdown",
   "metadata": {},
   "source": [
    "Talking about display setup: other parameters also have effect, e.g. the text format.\n",
    "\n",
    "Let's change it to the ascii transcription."
   ]
  },
  {
   "cell_type": "code",
   "execution_count": 16,
   "metadata": {},
   "outputs": [
    {
     "name": "stdout",
     "output_type": "stream",
     "text": [
      "R\tS1\tS2\tNODE1\tTYPE1\tTEXT1\tpos1\tposx1\tNODE2\tTYPE2\tTEXT2\tpos2\troot2\n",
      "\n",
      "1\t2\t7\t131\tword\txatama \tverb\t\t132\tword\t{ll~ahu \tnoun\tAlh\n",
      "\n",
      "2\t2\t17\t341\tword\t*ahaba \tverb\t\t342\tword\t{ll~ahu \tnoun\tAlh\n",
      "\n"
     ]
    }
   ],
   "source": [
    "A.export(tuples, fmt='text-trans-full')\n",
    "checkout()"
   ]
  },
  {
   "cell_type": "markdown",
   "metadata": {},
   "source": [
    "# Chained queries\n",
    "\n",
    "You can chain queries like this:"
   ]
  },
  {
   "cell_type": "code",
   "execution_count": 17,
   "metadata": {},
   "outputs": [
    {
     "name": "stdout",
     "output_type": "stream",
     "text": [
      "  0.42s 24 results\n",
      "  0.41s 101 results\n"
     ]
    }
   ],
   "source": [
    "results = (\n",
    "    A.search('''\n",
    "aya\n",
    "  word pos=verb\n",
    "  <: word pos=noun posx=proper root=Alh\n",
    "  <: word pos=verb\n",
    "''')[0:2]\n",
    "    +\n",
    "    A.search('''\n",
    "aya\n",
    "  word pos=verb\n",
    "  <: word pos=noun posx=proper root=Alh\n",
    "  <: word pos=noun\n",
    "''')[0:2]\n",
    ")"
   ]
  },
  {
   "cell_type": "markdown",
   "metadata": {},
   "source": [
    "In such cases, it is better to setup the features yourself:"
   ]
  },
  {
   "cell_type": "code",
   "execution_count": 18,
   "metadata": {},
   "outputs": [],
   "source": [
    "A.displaySetup(\n",
    "    tupleFeatures=(\n",
    "        (1, 'root formation tense'),\n",
    "        (3, 'pos gn nu ps mood'),\n",
    "    ),\n",
    "    fmt='text-phono-full',\n",
    ")"
   ]
  },
  {
   "cell_type": "markdown",
   "metadata": {},
   "source": [
    "Now we can do a fine export:"
   ]
  },
  {
   "cell_type": "code",
   "execution_count": 19,
   "metadata": {},
   "outputs": [
    {
     "name": "stdout",
     "output_type": "stream",
     "text": [
      "R\tS1\tS2\tNODE1\tTYPE1\tNODE2\tTYPE2\tTEXT2\troot2\tformation2\ttense2\tNODE3\tTYPE3\tTEXT3\tNODE4\tTYPE4\tTEXT4\tpos4\tgn4\tnu4\tps4\tmood4\n",
      "\n",
      "1\t2\t91\t205746\taya\t2645\tword\tأَنزَلَ \tnzl\tIV\tperfect\t2646\tword\tٱللَّهُ \t2647\tword\tقَالُ\tverb\tm\tp\t3\t\n",
      "\n",
      "2\t2\t170\t205825\taya\t5164\tword\tأَنزَلَ \tnzl\tIV\tperfect\t5165\tword\tٱللَّهُ \t5166\tword\tقَالُ\tverb\tm\tp\t3\t\n",
      "\n",
      "3\t2\t55\t205710\taya\t1393\tword\tنَرَى \trAy\t\timperfect\t1394\tword\tٱللَّهَ \t1395\tword\tجَهْرَةً \tnoun\tf\t\t\t\n",
      "\n",
      "4\t2\t80\t205735\taya\t2239\tword\tيُخْلِفَ \txlf\tIV\timperfect\t2240\tword\tٱللَّهُ \t2241\tword\tعَهْدَ\tnoun\tm\t\t\t\n",
      "\n"
     ]
    }
   ],
   "source": [
    "A.export(results)\n",
    "checkout()"
   ]
  },
  {
   "cell_type": "markdown",
   "metadata": {},
   "source": [
    "---\n",
    "\n",
    "All chapters:\n",
    "\n",
    "* **[start](start.ipynb)** introduction to computing with your corpus\n",
    "* **[display](display.ipynb)** become an expert in creating pretty displays of your text structures\n",
    "* **[search](search.ipynb)** turbo charge your hand-coding with search templates\n",
    "* **exportExcel** make tailor-made spreadsheets out of your results\n",
    "* (to come) **[share](share.ipynb)** draw in other people's data and let them use yours\n",
    "* **[similarAyas](similarAyas.ipynb)** spot the similarities between lines\n",
    "\n",
    "Back to [start](start.ipynb)"
   ]
  }
 ],
 "metadata": {
  "kernelspec": {
   "display_name": "Python 3",
   "language": "python",
   "name": "python3"
  },
  "language_info": {
   "codemirror_mode": {
    "name": "ipython",
    "version": 3
   },
   "file_extension": ".py",
   "mimetype": "text/x-python",
   "name": "python",
   "nbconvert_exporter": "python",
   "pygments_lexer": "ipython3",
   "version": "3.7.2"
  }
 },
 "nbformat": 4,
 "nbformat_minor": 2
}
