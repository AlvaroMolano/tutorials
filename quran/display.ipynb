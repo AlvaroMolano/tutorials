{
 "cells": [
  {
   "cell_type": "markdown",
   "metadata": {},
   "source": [
    "<img align=\"right\" src=\"images/tf.png\" width=\"128\"/>\n",
    "<img align=\"right\" src=\"images/uu-small.png\" width=\"128\"/>\n",
    "<img align=\"right\" src=\"images/dans.png\" width=\"128\"/>\n",
    "\n",
    "---\n",
    "\n",
    "To get started: consult [start](start.ipynb)\n",
    "\n",
    "---\n",
    "\n",
    "# Rich display\n",
    "\n",
    "The apps of Text-Fabric know more about a corpus than vanilla TF.\n",
    "That knowledge is used by the apps to define pretty and plain displays of textual objects.\n",
    "\n",
    "A **plain** display of an object is a simple reference to that object if it is big, or the text of that object if it is small.\n",
    "\n",
    "A **pretty** display of an object is a representation of the structure of that object. It contains text and features of sub objects.\n",
    "Provided the object is not too big."
   ]
  },
  {
   "cell_type": "code",
   "execution_count": 1,
   "metadata": {},
   "outputs": [],
   "source": [
    "%load_ext autoreload\n",
    "%autoreload 2"
   ]
  },
  {
   "cell_type": "code",
   "execution_count": 2,
   "metadata": {
    "ExecuteTime": {
     "end_time": "2018-05-24T10:06:39.818664Z",
     "start_time": "2018-05-24T10:06:39.796588Z"
    }
   },
   "outputs": [],
   "source": [
    "from tf.app import use"
   ]
  },
  {
   "cell_type": "code",
   "execution_count": 75,
   "metadata": {
    "ExecuteTime": {
     "end_time": "2018-05-24T10:06:51.615044Z",
     "start_time": "2018-05-24T10:06:50.161456Z"
    }
   },
   "outputs": [
    {
     "name": "stdout",
     "output_type": "stream",
     "text": [
      "Using TF-app in /Users/dirk/github/annotation/app-quran/code:\n",
      "\trepo clone offline under ~/github (local github)\n",
      "Using data in /Users/dirk/github/q-ran/quran/tf/0.4:\n",
      "\trepo clone offline under ~/github (local github)\n"
     ]
    },
    {
     "data": {
      "text/html": [
       "<b>Documentation:</b> <a target=\"_blank\" href=\"https://github.com/q-ran/quran/blob/master/docs\" title=\"provenance of Quran\">QURAN</a> <a target=\"_blank\" href=\"https://annotation.github.io/text-fabric/Writing/Arabic\" title=\"('Arabic characters and transcriptions',)\">Character table</a> <a target=\"_blank\" href=\"https://github.com/q-ran/quran/blob/master/docs/features.md#features.md\" title=\"QURAN feature documentation\">Feature docs</a> <a target=\"_blank\" href=\"https://github.com/annotation/app-quran\" title=\"quran API documentation\">quran API</a> <a target=\"_blank\" href=\"https://annotation.github.io/text-fabric/Api/Fabric/\" title=\"text-fabric-api\">Text-Fabric API 7.11.1</a> <a target=\"_blank\" href=\"https://annotation.github.io/text-fabric/Use/Search/\" title=\"Search Templates Introduction and Reference\">Search Reference</a><details open><summary><b>Loaded features</b>:</summary>\n",
       "<p><b>Quran</b>: <a target=\"_blank\" href=\"https://github.com/q-ran/quran/blob/master/docs/features.md#a\" title=\"/Users/dirk/github/q-ran/quran/tf/0.4/a.tf\">a</a>  <a target=\"_blank\" href=\"https://github.com/q-ran/quran/blob/master/docs/features.md#ascii\" title=\"/Users/dirk/github/q-ran/quran/tf/0.4/ascii.tf\">ascii</a>  <a target=\"_blank\" href=\"https://github.com/q-ran/quran/blob/master/docs/features.md#ax\" title=\"/Users/dirk/github/q-ran/quran/tf/0.4/ax.tf\">ax</a>  <a target=\"_blank\" href=\"https://github.com/q-ran/quran/blob/master/docs/features.md#case\" title=\"/Users/dirk/github/q-ran/quran/tf/0.4/case.tf\">case</a>  <a target=\"_blank\" href=\"https://github.com/q-ran/quran/blob/master/docs/features.md#component\" title=\"/Users/dirk/github/q-ran/quran/tf/0.4/component.tf\">component</a>  <a target=\"_blank\" href=\"https://github.com/q-ran/quran/blob/master/docs/features.md#definite\" title=\"/Users/dirk/github/q-ran/quran/tf/0.4/definite.tf\">definite</a>  <a target=\"_blank\" href=\"https://github.com/q-ran/quran/blob/master/docs/features.md#f\" title=\"/Users/dirk/github/q-ran/quran/tf/0.4/f.tf\">f</a>  <a target=\"_blank\" href=\"https://github.com/q-ran/quran/blob/master/docs/features.md#formation\" title=\"/Users/dirk/github/q-ran/quran/tf/0.4/formation.tf\">formation</a>  <a target=\"_blank\" href=\"https://github.com/q-ran/quran/blob/master/docs/features.md#fx\" title=\"/Users/dirk/github/q-ran/quran/tf/0.4/fx.tf\">fx</a>  <a target=\"_blank\" href=\"https://github.com/q-ran/quran/blob/master/docs/features.md#gn\" title=\"/Users/dirk/github/q-ran/quran/tf/0.4/gn.tf\">gn</a>  <a target=\"_blank\" href=\"https://github.com/q-ran/quran/blob/master/docs/features.md#interjection\" title=\"/Users/dirk/github/q-ran/quran/tf/0.4/interjection.tf\">interjection</a>  <a target=\"_blank\" href=\"https://github.com/q-ran/quran/blob/master/docs/features.md#l\" title=\"/Users/dirk/github/q-ran/quran/tf/0.4/l.tf\">l</a>  <a target=\"_blank\" href=\"https://github.com/q-ran/quran/blob/master/docs/features.md#lemma\" title=\"/Users/dirk/github/q-ran/quran/tf/0.4/lemma.tf\">lemma</a>  <a target=\"_blank\" href=\"https://github.com/q-ran/quran/blob/master/docs/features.md#lx\" title=\"/Users/dirk/github/q-ran/quran/tf/0.4/lx.tf\">lx</a>  <a target=\"_blank\" href=\"https://github.com/q-ran/quran/blob/master/docs/features.md#mood\" title=\"/Users/dirk/github/q-ran/quran/tf/0.4/mood.tf\">mood</a>  <a target=\"_blank\" href=\"https://github.com/q-ran/quran/blob/master/docs/features.md#n\" title=\"/Users/dirk/github/q-ran/quran/tf/0.4/n.tf\">n</a>  <a target=\"_blank\" href=\"https://github.com/q-ran/quran/blob/master/docs/features.md#name\" title=\"/Users/dirk/github/q-ran/quran/tf/0.4/name.tf\">name</a>  <a target=\"_blank\" href=\"https://github.com/q-ran/quran/blob/master/docs/features.md#name@ll\" title=\"/Users/dirk/github/q-ran/quran/tf/0.4/name@en.tf\">name@ll</a>  <a target=\"_blank\" href=\"https://github.com/q-ran/quran/blob/master/docs/features.md#nameAscii\" title=\"/Users/dirk/github/q-ran/quran/tf/0.4/nameAscii.tf\">nameAscii</a>  <a target=\"_blank\" href=\"https://github.com/q-ran/quran/blob/master/docs/features.md#nameTrans\" title=\"/Users/dirk/github/q-ran/quran/tf/0.4/nameTrans.tf\">nameTrans</a>  <a target=\"_blank\" href=\"https://github.com/q-ran/quran/blob/master/docs/features.md#nu\" title=\"/Users/dirk/github/q-ran/quran/tf/0.4/nu.tf\">nu</a>  <a target=\"_blank\" href=\"https://github.com/q-ran/quran/blob/master/docs/features.md#number\" title=\"/Users/dirk/github/q-ran/quran/tf/0.4/number.tf\">number</a>  <a target=\"_blank\" href=\"https://github.com/q-ran/quran/blob/master/docs/features.md#order\" title=\"/Users/dirk/github/q-ran/quran/tf/0.4/order.tf\">order</a>  <a target=\"_blank\" href=\"https://github.com/q-ran/quran/blob/master/docs/features.md#otype\" title=\"/Users/dirk/github/q-ran/quran/tf/0.4/otype.tf\">otype</a>  <a target=\"_blank\" href=\"https://github.com/q-ran/quran/blob/master/docs/features.md#pos\" title=\"/Users/dirk/github/q-ran/quran/tf/0.4/pos.tf\">pos</a>  <a target=\"_blank\" href=\"https://github.com/q-ran/quran/blob/master/docs/features.md#posx\" title=\"/Users/dirk/github/q-ran/quran/tf/0.4/posx.tf\">posx</a>  <a target=\"_blank\" href=\"https://github.com/q-ran/quran/blob/master/docs/features.md#ps\" title=\"/Users/dirk/github/q-ran/quran/tf/0.4/ps.tf\">ps</a>  <a target=\"_blank\" href=\"https://github.com/q-ran/quran/blob/master/docs/features.md#root\" title=\"/Users/dirk/github/q-ran/quran/tf/0.4/root.tf\">root</a>  <a target=\"_blank\" href=\"https://github.com/q-ran/quran/blob/master/docs/features.md#sp\" title=\"/Users/dirk/github/q-ran/quran/tf/0.4/sp.tf\">sp</a>  <a target=\"_blank\" href=\"https://github.com/q-ran/quran/blob/master/docs/features.md#space\" title=\"/Users/dirk/github/q-ran/quran/tf/0.4/space.tf\">space</a>  <a target=\"_blank\" href=\"https://github.com/q-ran/quran/blob/master/docs/features.md#tense\" title=\"/Users/dirk/github/q-ran/quran/tf/0.4/tense.tf\">tense</a>  <a target=\"_blank\" href=\"https://github.com/q-ran/quran/blob/master/docs/features.md#translation@ll\" title=\"/Users/dirk/github/q-ran/quran/tf/0.4/translation@en.tf\">translation@ll</a>  <a target=\"_blank\" href=\"https://github.com/q-ran/quran/blob/master/docs/features.md#type\" title=\"/Users/dirk/github/q-ran/quran/tf/0.4/type.tf\">type</a>  <a target=\"_blank\" href=\"https://github.com/q-ran/quran/blob/master/docs/features.md#unicode\" title=\"/Users/dirk/github/q-ran/quran/tf/0.4/unicode.tf\">unicode</a>  <a target=\"_blank\" href=\"https://github.com/q-ran/quran/blob/master/docs/features.md#voice\" title=\"/Users/dirk/github/q-ran/quran/tf/0.4/voice.tf\">voice</a>  <a target=\"_blank\" href=\"https://github.com/q-ran/quran/blob/master/docs/features.md#w\" title=\"/Users/dirk/github/q-ran/quran/tf/0.4/w.tf\">w</a>  <a target=\"_blank\" href=\"https://github.com/q-ran/quran/blob/master/docs/features.md#wx\" title=\"/Users/dirk/github/q-ran/quran/tf/0.4/wx.tf\">wx</a>  <b><i><a target=\"_blank\" href=\"https://github.com/q-ran/quran/blob/master/docs/features.md#oslots\" title=\"/Users/dirk/github/q-ran/quran/tf/0.4/oslots.tf\">oslots</a></i></b> </p></details>"
      ],
      "text/plain": [
       "<IPython.core.display.HTML object>"
      ]
     },
     "metadata": {},
     "output_type": "display_data"
    },
    {
     "data": {
      "text/html": [
       "<style>\n",
       "@font-face {\n",
       "  font-family: \"AmiriQuran\";\n",
       "  src:\n",
       "    local(\"AmiriQuran.ttf\"),\n",
       "    url(\"https://github.com/annotation/text-fabric/blob/master/tf/server/static/fonts/AmiriQuran.woff2?raw=true\");\n",
       "}\n",
       ".features {\n",
       "    font-family: monospace;\n",
       "    font-size: medium;\n",
       "    font-weight: bold;\n",
       "    color: #0a6611;\n",
       "    display: flex;\n",
       "    flex-flow: column nowrap;\n",
       "    padding: 0.1em;\n",
       "    margin: 0.1em;\n",
       "    direction: ltr;\n",
       "}\n",
       ".features div,.features span {\n",
       "    padding: 0;\n",
       "    margin: -0.1rem 0;\n",
       "}\n",
       ".features .f {\n",
       "    font-family: sans-serif;\n",
       "    font-size: x-small;\n",
       "    font-weight: normal;\n",
       "    color: #5555bb;\n",
       "}\n",
       ".features .xft {\n",
       "  color: #000000;\n",
       "  background-color: #eeeeee;\n",
       "  font-size: medium;\n",
       "  margin: 0.1em 0em;\n",
       "}\n",
       ".features .xft .f {\n",
       "  color: #000000;\n",
       "  background-color: #eeeeee;\n",
       "  font-style: italic;\n",
       "  font-size: small;\n",
       "  font-weight: normal;\n",
       "}\n",
       ".nd {\n",
       "    font-family: monospace;\n",
       "    font-size: x-small;\n",
       "    color: #999999;\n",
       "}\n",
       ".hl {\n",
       "    background-color: #ffee66;\n",
       "}\n",
       ".outerplain {\n",
       "    direction: rtl;\n",
       "}\n",
       ".outeritem {\n",
       "    display: flex;\n",
       "    flex-flow: row wrap;\n",
       "    direction: rtl;\n",
       "}\n",
       ".ltr {\n",
       "    direction: ltr ! important;\n",
       "}\n",
       ".rtl {\n",
       "    direction: rtl ! important;\n",
       "}\n",
       ".aya {\n",
       "    display: flex;\n",
       "    flex-flow: row wrap;\n",
       "    direction: rtl;\n",
       "}\n",
       ".vl {\n",
       "    display: flex;\n",
       "    flex-flow: column nowrap;\n",
       "    justify-content: flex-end;\n",
       "    align-items: flex-end;\n",
       "    direction: ltr;\n",
       "    width: 100%;\n",
       "}\n",
       ".vn {\n",
       "  font-size: small !important;\n",
       "  padding-right: 1em;\n",
       "}\n",
       ".vrs {\n",
       "    font-family: sans-serif;\n",
       "    font-size: small;\n",
       "    font-weight: bold;\n",
       "    color: #444444;\n",
       "}\n",
       ".group {\n",
       "    display: flex;\n",
       "    flex-flow: row wrap;\n",
       "    direction: rtl;\n",
       "    padding: 0.1em;\n",
       "    margin: 0.1em;\n",
       "    border-radius: 0.1em;\n",
       "    border: 2px solid #dd9911;\n",
       "}\n",
       ".word {\n",
       "    padding: 0.1em;\n",
       "    margin: 0.1em;\n",
       "    border-radius: 0.1em;\n",
       "    border: 1px solid #ffcc44;\n",
       "    display: flex;\n",
       "    flex-flow: column nowrap;\n",
       "    direction: rtl;\n",
       "}\n",
       ".lextp {\n",
       "    padding: 0.1em;\n",
       "    margin: 0.1em;\n",
       "    border-radius: 0.1em;\n",
       "    border: 2px solid #888888;\n",
       "    width: fit-content;\n",
       "    display: flex;\n",
       "    flex-flow: column nowrap;\n",
       "    direction: rtl;\n",
       "}\n",
       ".occs {\n",
       "    font-size: x-small;\n",
       "}\n",
       ".tr,.tr a:visited,.tr a:link {\n",
       "    font-family: sans-serif;\n",
       "    font-size: large;\n",
       "    color: #000044;\n",
       "    direction: ltr;\n",
       "    text-decoration: none;\n",
       "}\n",
       ".trb,.trb a:visited,.trb a:link {\n",
       "    font-family: sans-serif;\n",
       "    font-size: normal;\n",
       "    direction: ltr;\n",
       "    text-decoration: none;\n",
       "}\n",
       ".ar,.ar a:visited,.ar a:link {\n",
       "    font-family: \"AmiriQuran\", sans-serif;\n",
       "    font-size: large;\n",
       "    color: #000044;\n",
       "    direction: rtl;\n",
       "    text-decoration: none;\n",
       "}\n",
       ".arb,.arb a:visited,.arb a:link {\n",
       "    font-family: \"AmiriQuran\", sans-serif;\n",
       "    font-size: large;\n",
       "    line-height: 3;\n",
       "    direction: rtl;\n",
       "    text-decoration: none;\n",
       "}\n",
       ".sp,.sp a:visited,.sp a:link {\n",
       "    font-family: monospace;\n",
       "    font-size: medium;\n",
       "    color: #0000bb;\n",
       "    text-decoration: none;\n",
       "}\n",
       ".lexeme {\n",
       "    font-family: monospace;\n",
       "    font-size: medium;\n",
       "    color: #0000bb;\n",
       "}\n",
       ".vs {\n",
       "    font-family: monospace;\n",
       "    font-size: medium;\n",
       "    font-weight: bold;\n",
       "    color: #0000bb;\n",
       "}\n",
       ".vt {\n",
       "    font-family: monospace;\n",
       "    font-size: medium;\n",
       "    font-weight: bold;\n",
       "    color: #0000bb;\n",
       "}\n",
       "\n",
       "\n",
       "tr.tf, td.tf, th.tf {\n",
       "  text-align: left;\n",
       "}\n",
       "\n",
       "span.hldot {\n",
       "\tbackground-color: var(--hl-strong);\n",
       "\tborder: 0.2rem solid var(--hl-rim);\n",
       "\tborder-radius: 0.4rem;\n",
       "\t/*\n",
       "\tdisplay: inline-block;\n",
       "\twidth: 0.8rem;\n",
       "\theight: 0.8rem;\n",
       "\t*/\n",
       "}\n",
       "span.hl {\n",
       "\tbackground-color: var(--hl-strong);\n",
       "\tborder-width: 0;\n",
       "\tborder-radius: 0.1rem;\n",
       "\tborder-style: solid;\n",
       "}\n",
       "\n",
       "span.hlbx {\n",
       "\tborder-color: var(--hl-dark);\n",
       "\tborder-width: 0.1rem;\n",
       "\tborder-style: solid;\n",
       "\tborder-radius: 0.2rem;\n",
       "  padding: 0.2rem;\n",
       "  margin: 0.2rem;\n",
       "}\n",
       "\n",
       "span.plain {\n",
       "  display: inline-block;\n",
       "  white-space: pre-wrap;\n",
       "}\n",
       "\n",
       ":root {\n",
       "\t--hl-strong:        hsla( 60, 100%,  70%, 0.9  );\n",
       "\t--hl-rim:           hsla( 55, 100%,  60%, 0.9  );\n",
       "\t--hl-dark:          hsla( 55, 100%,  40%, 0.9  );\n",
       "}\n",
       "</style>"
      ],
      "text/plain": [
       "<IPython.core.display.HTML object>"
      ]
     },
     "metadata": {},
     "output_type": "display_data"
    },
    {
     "data": {
      "text/html": [
       "<details open><summary><b>API members</b>:</summary>\n",
       "<a target=\"_blank\" href=\"https://annotation.github.io/text-fabric/Api/Computed/#computed-data\" title=\"doc\">C Computed</a>, <a target=\"_blank\" href=\"https://annotation.github.io/text-fabric/Api/Computed/#computed-data\" title=\"doc\">Call AllComputeds</a>, <a target=\"_blank\" href=\"https://annotation.github.io/text-fabric/Api/Computed/#computed-data\" title=\"doc\">Cs ComputedString</a><br/>\n",
       "<a target=\"_blank\" href=\"https://annotation.github.io/text-fabric/Api/Features/#edge-features\" title=\"doc\">E Edge</a>, <a target=\"_blank\" href=\"https://annotation.github.io/text-fabric/Api/Features/#edge-features\" title=\"doc\">Eall AllEdges</a>, <a target=\"_blank\" href=\"https://annotation.github.io/text-fabric/Api/Features/#edge-features\" title=\"doc\">Es EdgeString</a><br/>\n",
       "<a target=\"_blank\" href=\"https://annotation.github.io/text-fabric/Api/Fabric/#loading\" title=\"doc\">ensureLoaded</a>, <a target=\"_blank\" href=\"https://annotation.github.io/text-fabric/Api/Fabric/#loading\" title=\"doc\">TF</a>, <a target=\"_blank\" href=\"https://annotation.github.io/text-fabric/Api/Fabric/#loading\" title=\"doc\">ignored</a>, <a target=\"_blank\" href=\"https://annotation.github.io/text-fabric/Api/Fabric/#loading\" title=\"doc\">loadLog</a><br/>\n",
       "<a target=\"_blank\" href=\"https://annotation.github.io/text-fabric/Api/Locality/#locality\" title=\"doc\">L Locality</a><br/>\n",
       "<a target=\"_blank\" href=\"https://annotation.github.io/text-fabric/Api/Misc/#messaging\" title=\"doc\">cache</a>, <a target=\"_blank\" href=\"https://annotation.github.io/text-fabric/Api/Misc/#messaging\" title=\"doc\">error</a>, <a target=\"_blank\" href=\"https://annotation.github.io/text-fabric/Api/Misc/#messaging\" title=\"doc\">indent</a>, <a target=\"_blank\" href=\"https://annotation.github.io/text-fabric/Api/Misc/#messaging\" title=\"doc\">info</a>, <a target=\"_blank\" href=\"https://annotation.github.io/text-fabric/Api/Misc/#messaging\" title=\"doc\">isSilent</a>, <a target=\"_blank\" href=\"https://annotation.github.io/text-fabric/Api/Misc/#messaging\" title=\"doc\">reset</a>, <a target=\"_blank\" href=\"https://annotation.github.io/text-fabric/Api/Misc/#messaging\" title=\"doc\">setSilent</a>, <a target=\"_blank\" href=\"https://annotation.github.io/text-fabric/Api/Misc/#messaging\" title=\"doc\">silentOff</a>, <a target=\"_blank\" href=\"https://annotation.github.io/text-fabric/Api/Misc/#messaging\" title=\"doc\">silentOn</a>, <a target=\"_blank\" href=\"https://annotation.github.io/text-fabric/Api/Misc/#messaging\" title=\"doc\">warning</a><br/>\n",
       "<a target=\"_blank\" href=\"https://annotation.github.io/text-fabric/Api/Nodes/#navigating-nodes\" title=\"doc\">N Nodes</a>, <a target=\"_blank\" href=\"https://annotation.github.io/text-fabric/Api/Nodes/#navigating-nodes\" title=\"doc\">sortKey</a>, <a target=\"_blank\" href=\"https://annotation.github.io/text-fabric/Api/Nodes/#navigating-nodes\" title=\"doc\">sortKeyTuple</a>, <a target=\"_blank\" href=\"https://annotation.github.io/text-fabric/Api/Nodes/#navigating-nodes\" title=\"doc\">otypeRank</a>, <a target=\"_blank\" href=\"https://annotation.github.io/text-fabric/Api/Nodes/#navigating-nodes\" title=\"doc\">sortNodes</a><br/>\n",
       "<a target=\"_blank\" href=\"https://annotation.github.io/text-fabric/Api/Features/#node-features\" title=\"doc\">F Feature</a>, <a target=\"_blank\" href=\"https://annotation.github.io/text-fabric/Api/Features/#node-features\" title=\"doc\">Fall AllFeatures</a>, <a target=\"_blank\" href=\"https://annotation.github.io/text-fabric/Api/Features/#node-features\" title=\"doc\">Fs FeatureString</a><br/>\n",
       "<a target=\"_blank\" href=\"https://annotation.github.io/text-fabric/Api/Search/#search\" title=\"doc\">S Search</a><br/>\n",
       "<a target=\"_blank\" href=\"https://annotation.github.io/text-fabric/Api/Text/#text\" title=\"doc\">T Text</a></details>"
      ],
      "text/plain": [
       "<IPython.core.display.HTML object>"
      ]
     },
     "metadata": {},
     "output_type": "display_data"
    }
   ],
   "source": [
    "# A = use('quran', hoist=globals())\n",
    "A = use('quran:clone', checkout=\"clone\", hoist=globals())"
   ]
  },
  {
   "cell_type": "markdown",
   "metadata": {},
   "source": [
    "# Arbitrary nodes\n",
    "We pretty-print an arbitrary node."
   ]
  },
  {
   "cell_type": "code",
   "execution_count": 54,
   "metadata": {
    "ExecuteTime": {
     "end_time": "2018-04-25T13:57:33.060576Z",
     "start_time": "2018-04-25T13:57:33.051457Z"
    }
   },
   "outputs": [
    {
     "data": {
      "text/html": [
       "<div class=\"outeritem\"><div class=\"aya   rtl \" >\n",
       "    <div class=\"vl\">\n",
       "        <div class=\"vrs\"><a href=\"http://tanzil.net/#7:47\" title=\"show this passage on Tanzil\" sec=\"7:47\">7:47</a></div>\n",
       "        \n",
       "        <div class=\"features\"></div>\n",
       "    </div>\n",
       "<div class=\"group   rtl \" ><div class=\"features\"></div><div class=\"word   rtl \" ><div class=\"ar\">وَ</div><div class=\"features\"> <span class=\"pos\">particle</span> <span class=\"posx\">resumption</span></div></div><div class=\"word   rtl \" ><div class=\"ar\">إِذَا </div><div class=\"features\"> <span class=\"lemma\">&lt;i*aA</span> <span class=\"pos\">adverb</span> <span class=\"posx\">time</span></div></div></div><div class=\"group   rtl \" ><div class=\"features\"></div><div class=\"word   rtl \" ><div class=\"ar\">صُرِفَتْ </div><div class=\"features\"> <span class=\"lemma\">Sarafa</span> <span class=\"root\">Srf</span> <span class=\"pos\">verb</span> <span class=\"tense\">perfect</span></div></div></div><div class=\"group   rtl \" ><div class=\"features\"></div><div class=\"word   rtl \" ><div class=\"ar\">أَبْصَٰرُ</div><div class=\"features\"> <span class=\"lemma\">baSar</span> <span class=\"root\">bSr</span> <span class=\"pos\">noun</span></div></div><div class=\"word   rtl \" ><div class=\"ar\">هُمْ </div><div class=\"features\"> <span class=\"pos\">pronoun</span> <span class=\"posx\">personal</span></div></div></div><div class=\"group   rtl \" ><div class=\"features\"></div><div class=\"word   rtl \" ><div class=\"ar\">تِلْقَآءَ </div><div class=\"features\"> <span class=\"lemma\">tiloqaA^'</span> <span class=\"root\">lqy</span> <span class=\"pos\">adverb</span> <span class=\"posx\">location</span></div></div></div><div class=\"group   rtl \" ><div class=\"features\"></div><div class=\"word   rtl \" ><div class=\"ar\">أَصْحَٰبِ </div><div class=\"features\"> <span class=\"lemma\">>aSoHa`b</span> <span class=\"root\">SHb</span> <span class=\"pos\">noun</span></div></div></div><div class=\"group   rtl \" ><div class=\"features\"></div><div class=\"word   rtl \" ><div class=\"ar\">ٱل</div><div class=\"features\"> <span class=\"pos\">determiner</span></div></div><div class=\"word   rtl \" ><div class=\"ar\">نَّارِ </div><div class=\"features\"> <span class=\"lemma\">naAr</span> <span class=\"root\">nwr</span> <span class=\"pos\">noun</span></div></div></div><div class=\"group   rtl \" ><div class=\"features\"></div><div class=\"word   rtl \" ><div class=\"ar\">قَالُ</div><div class=\"features\"> <span class=\"lemma\">qaAla</span> <span class=\"root\">qwl</span> <span class=\"pos\">verb</span> <span class=\"tense\">perfect</span></div></div><div class=\"word   rtl \" ><div class=\"ar\">وا۟ </div><div class=\"features\"> <span class=\"pos\">pronoun</span> <span class=\"posx\">personal</span></div></div></div><div class=\"group   rtl \" ><div class=\"features\"></div><div class=\"word   rtl \" ><div class=\"ar\">رَبَّ</div><div class=\"features\"> <span class=\"lemma\">rab~</span> <span class=\"root\">rbb</span> <span class=\"pos\">noun</span></div></div><div class=\"word   rtl \" ><div class=\"ar\">نَا </div><div class=\"features\"> <span class=\"pos\">pronoun</span> <span class=\"posx\">personal</span></div></div></div><div class=\"group   rtl \" ><div class=\"features\"></div><div class=\"word   rtl \" ><div class=\"ar\">لَا </div><div class=\"features\"> <span class=\"lemma\">laA</span> <span class=\"pos\">particle</span> <span class=\"posx\">prohibition</span></div></div></div><div class=\"group   rtl \" ><div class=\"features\"></div><div class=\"word   rtl \" ><div class=\"ar\">تَجْعَلْ</div><div class=\"features\"> <span class=\"lemma\">jaEala</span> <span class=\"root\">jEl</span> <span class=\"pos\">verb</span> <span class=\"tense\">imperfect</span></div></div><div class=\"word   rtl \" ><div class=\"ar\">نَا </div><div class=\"features\"> <span class=\"pos\">pronoun</span> <span class=\"posx\">personal</span></div></div></div><div class=\"group   rtl \" ><div class=\"features\"></div><div class=\"word   rtl \" ><div class=\"ar\">مَعَ </div><div class=\"features\"> <span class=\"lemma\">maE</span> <span class=\"pos\">adverb</span> <span class=\"posx\">location</span></div></div></div><div class=\"group   rtl \" ><div class=\"features\"></div><div class=\"word   rtl \" ><div class=\"ar\">ٱلْ</div><div class=\"features\"> <span class=\"pos\">determiner</span></div></div><div class=\"word   rtl \" ><div class=\"ar\">قَوْمِ </div><div class=\"features\"> <span class=\"lemma\">qawom</span> <span class=\"root\">qwm</span> <span class=\"pos\">noun</span></div></div></div><div class=\"group   rtl \" ><div class=\"features\"></div><div class=\"word   rtl \" ><div class=\"ar\">ٱل</div><div class=\"features\"> <span class=\"pos\">determiner</span></div></div><div class=\"word   rtl \" ><div class=\"ar\">ظَّٰلِمِينَ</div><div class=\"features\"> <span class=\"lemma\">ZaAlim</span> <span class=\"root\">Zlm</span> <span class=\"pos\">adjective</span> <span class=\"tense\">participle</span></div></div></div></div></div>"
      ],
      "text/plain": [
       "<IPython.core.display.HTML object>"
      ]
     },
     "metadata": {},
     "output_type": "display_data"
    }
   ],
   "source": [
    "aya = F.otype.s('aya')[1000]\n",
    "A.pretty(aya)"
   ]
  },
  {
   "cell_type": "markdown",
   "metadata": {},
   "source": [
    "Where is this phrase on Tanzil?\n",
    "You can click on the passage reference.\n",
    "\n",
    "You can generate this link as follows:"
   ]
  },
  {
   "cell_type": "code",
   "execution_count": 55,
   "metadata": {
    "ExecuteTime": {
     "end_time": "2018-04-25T13:57:36.441490Z",
     "start_time": "2018-04-25T13:57:36.432236Z"
    }
   },
   "outputs": [
    {
     "data": {
      "text/html": [
       "<a href=\"http://tanzil.net/#7:47\" title=\"show this passage on Tanzil\" sec=\"7:47\">7:47</a>"
      ],
      "text/plain": [
       "<IPython.core.display.HTML object>"
      ]
     },
     "metadata": {},
     "output_type": "display_data"
    }
   ],
   "source": [
    "A.webLink(aya)"
   ]
  },
  {
   "cell_type": "markdown",
   "metadata": {},
   "source": [
    "A link to another passage:"
   ]
  },
  {
   "cell_type": "code",
   "execution_count": 56,
   "metadata": {
    "ExecuteTime": {
     "end_time": "2018-04-25T13:57:46.144712Z",
     "start_time": "2018-04-25T13:57:46.138983Z"
    }
   },
   "outputs": [],
   "source": [
    "z = A.nodeFromSectionStr('3:4')"
   ]
  },
  {
   "cell_type": "code",
   "execution_count": 57,
   "metadata": {
    "ExecuteTime": {
     "end_time": "2018-04-25T13:57:47.022343Z",
     "start_time": "2018-04-25T13:57:47.012756Z"
    }
   },
   "outputs": [
    {
     "data": {
      "text/html": [
       "<a href=\"http://tanzil.net/#3:4\" title=\"show this passage on Tanzil\" sec=\"3:4\">3:4</a>"
      ],
      "text/plain": [
       "<IPython.core.display.HTML object>"
      ]
     },
     "metadata": {},
     "output_type": "display_data"
    }
   ],
   "source": [
    "A.webLink(z)"
   ]
  },
  {
   "cell_type": "markdown",
   "metadata": {},
   "source": [
    "# Plain\n",
    "\n",
    "We can represent a node in plain representation and highlight specific portions."
   ]
  },
  {
   "cell_type": "code",
   "execution_count": 58,
   "metadata": {},
   "outputs": [],
   "source": [
    "aya = F.otype.s('aya')[1000]\n",
    "groups = L.d(aya, otype='group')\n",
    "words = L.d(aya, otype='word')"
   ]
  },
  {
   "cell_type": "markdown",
   "metadata": {},
   "source": [
    "First we highlight some words:"
   ]
  },
  {
   "cell_type": "code",
   "execution_count": 59,
   "metadata": {},
   "outputs": [
    {
     "data": {
      "text/html": [
       "<span class=\"vrs ltr\"><a href=\"http://tanzil.net/#7:47\" title=\"show this passage on Tanzil\" sec=\"7:47\">7:47</a></span><span class=\"plain outer  rtl  \" ><span class=\"plain rtl \"><span class=\"plain rtl  \" ><span class=\"plain rtl  \" ><span class=\"arb\">وَ</span></span><span class=\"plain rtl  hl\" ><span class=\"arb\">إِذَا </span></span></span><span class=\"plain rtl  \" ><span class=\"plain rtl  \" ><span class=\"arb\">صُرِفَتْ </span></span></span><span class=\"plain rtl  \" ><span class=\"plain rtl  hl\" ><span class=\"arb\">أَبْصَٰرُ</span></span><span class=\"plain rtl  \" ><span class=\"arb\">هُمْ </span></span></span><span class=\"plain rtl  \" ><span class=\"plain rtl  hl\" ><span class=\"arb\">تِلْقَآءَ </span></span></span><span class=\"plain rtl  \" ><span class=\"plain rtl  \" ><span class=\"arb\">أَصْحَٰبِ </span></span></span><span class=\"plain rtl  \" ><span class=\"plain rtl  hl\" ><span class=\"arb\">ٱل</span></span><span class=\"plain rtl  \" ><span class=\"arb\">نَّارِ </span></span></span><span class=\"plain rtl  \" ><span class=\"plain rtl  hl\" ><span class=\"arb\">قَالُ</span></span><span class=\"plain rtl  \" ><span class=\"arb\">وا۟ </span></span></span><span class=\"plain rtl  \" ><span class=\"plain rtl  \" ><span class=\"arb\">رَبَّ</span></span><span class=\"plain rtl  \" ><span class=\"arb\">نَا </span></span></span><span class=\"plain rtl  \" ><span class=\"plain rtl  \" ><span class=\"arb\">لَا </span></span></span><span class=\"plain rtl  \" ><span class=\"plain rtl  \" ><span class=\"arb\">تَجْعَلْ</span></span><span class=\"plain rtl  \" ><span class=\"arb\">نَا </span></span></span><span class=\"plain rtl  \" ><span class=\"plain rtl  \" ><span class=\"arb\">مَعَ </span></span></span><span class=\"plain rtl  \" ><span class=\"plain rtl  \" ><span class=\"arb\">ٱلْ</span></span><span class=\"plain rtl  \" ><span class=\"arb\">قَوْمِ </span></span></span><span class=\"plain rtl  \" ><span class=\"plain rtl  \" ><span class=\"arb\">ٱل</span></span><span class=\"plain rtl  \" ><span class=\"arb\">ظَّٰلِمِينَ</span></span></span></span></span>"
      ],
      "text/plain": [
       "<IPython.core.display.HTML object>"
      ]
     },
     "metadata": {},
     "output_type": "display_data"
    }
   ],
   "source": [
    "wordHighlights = set(words[i] for i in {1, 3, 5, 7, 9})\n",
    "A.plain(aya, highlights=wordHighlights)"
   ]
  },
  {
   "cell_type": "markdown",
   "metadata": {},
   "source": [
    "Now some wordgroups:"
   ]
  },
  {
   "cell_type": "code",
   "execution_count": 60,
   "metadata": {},
   "outputs": [
    {
     "data": {
      "text/html": [
       "<span class=\"vrs ltr\"><a href=\"http://tanzil.net/#7:47\" title=\"show this passage on Tanzil\" sec=\"7:47\">7:47</a></span><span class=\"plain outer  rtl  \" ><span class=\"plain rtl \"><span class=\"plain rtl  \" ><span class=\"plain rtl  \" ><span class=\"arb\">وَ</span></span><span class=\"plain rtl  \" ><span class=\"arb\">إِذَا </span></span></span><span class=\"plain rtl  \" ><span class=\"plain rtl  \" ><span class=\"arb\">صُرِفَتْ </span></span></span><span class=\"plain rtl  \" ><span class=\"plain rtl  \" ><span class=\"arb\">أَبْصَٰرُ</span></span><span class=\"plain rtl  \" ><span class=\"arb\">هُمْ </span></span></span><span class=\"plain rtl  \" ><span class=\"plain rtl  \" ><span class=\"arb\">تِلْقَآءَ </span></span></span><span class=\"plain rtl  \" ><span class=\"plain rtl  \" ><span class=\"arb\">أَصْحَٰبِ </span></span></span><span class=\"plain rtl  \" ><span class=\"plain rtl  \" ><span class=\"arb\">ٱل</span></span><span class=\"plain rtl  \" ><span class=\"arb\">نَّارِ </span></span></span><span class=\"plain rtl  \" ><span class=\"plain rtl  \" ><span class=\"arb\">قَالُ</span></span><span class=\"plain rtl  \" ><span class=\"arb\">وا۟ </span></span></span><span class=\"plain rtl  hlbx\" ><span class=\"plain rtl  \" ><span class=\"arb\">رَبَّ</span></span><span class=\"plain rtl  \" ><span class=\"arb\">نَا </span></span></span><span class=\"plain rtl  \" ><span class=\"plain rtl  \" ><span class=\"arb\">لَا </span></span></span><span class=\"plain rtl  \" ><span class=\"plain rtl  \" ><span class=\"arb\">تَجْعَلْ</span></span><span class=\"plain rtl  \" ><span class=\"arb\">نَا </span></span></span><span class=\"plain rtl  \" ><span class=\"plain rtl  \" ><span class=\"arb\">مَعَ </span></span></span><span class=\"plain rtl  \" ><span class=\"plain rtl  \" ><span class=\"arb\">ٱلْ</span></span><span class=\"plain rtl  \" ><span class=\"arb\">قَوْمِ </span></span></span><span class=\"plain rtl  hlbx\" ><span class=\"plain rtl  \" ><span class=\"arb\">ٱل</span></span><span class=\"plain rtl  \" ><span class=\"arb\">ظَّٰلِمِينَ</span></span></span></span></span>"
      ],
      "text/plain": [
       "<IPython.core.display.HTML object>"
      ]
     },
     "metadata": {},
     "output_type": "display_data"
    }
   ],
   "source": [
    "groupHighlights = set(groups[i] for i in {7, 12})\n",
    "A.plain(aya, highlights=groupHighlights)"
   ]
  },
  {
   "cell_type": "markdown",
   "metadata": {},
   "source": [
    "As you see, when we highlight bigger things than words, we put a \n",
    "highlighted border around the words in those things."
   ]
  },
  {
   "cell_type": "markdown",
   "metadata": {},
   "source": [
    "We can do both:"
   ]
  },
  {
   "cell_type": "code",
   "execution_count": 61,
   "metadata": {},
   "outputs": [
    {
     "data": {
      "text/html": [
       "<span class=\"vrs ltr\"><a href=\"http://tanzil.net/#7:47\" title=\"show this passage on Tanzil\" sec=\"7:47\">7:47</a></span><span class=\"plain outer  rtl  \" ><span class=\"plain rtl \"><span class=\"plain rtl  \" ><span class=\"plain rtl  \" ><span class=\"arb\">وَ</span></span><span class=\"plain rtl  hl\" ><span class=\"arb\">إِذَا </span></span></span><span class=\"plain rtl  \" ><span class=\"plain rtl  \" ><span class=\"arb\">صُرِفَتْ </span></span></span><span class=\"plain rtl  \" ><span class=\"plain rtl  hl\" ><span class=\"arb\">أَبْصَٰرُ</span></span><span class=\"plain rtl  \" ><span class=\"arb\">هُمْ </span></span></span><span class=\"plain rtl  \" ><span class=\"plain rtl  hl\" ><span class=\"arb\">تِلْقَآءَ </span></span></span><span class=\"plain rtl  \" ><span class=\"plain rtl  \" ><span class=\"arb\">أَصْحَٰبِ </span></span></span><span class=\"plain rtl  \" ><span class=\"plain rtl  hl\" ><span class=\"arb\">ٱل</span></span><span class=\"plain rtl  \" ><span class=\"arb\">نَّارِ </span></span></span><span class=\"plain rtl  \" ><span class=\"plain rtl  hl\" ><span class=\"arb\">قَالُ</span></span><span class=\"plain rtl  \" ><span class=\"arb\">وا۟ </span></span></span><span class=\"plain rtl  hlbx\" ><span class=\"plain rtl  \" ><span class=\"arb\">رَبَّ</span></span><span class=\"plain rtl  \" ><span class=\"arb\">نَا </span></span></span><span class=\"plain rtl  \" ><span class=\"plain rtl  \" ><span class=\"arb\">لَا </span></span></span><span class=\"plain rtl  \" ><span class=\"plain rtl  \" ><span class=\"arb\">تَجْعَلْ</span></span><span class=\"plain rtl  \" ><span class=\"arb\">نَا </span></span></span><span class=\"plain rtl  \" ><span class=\"plain rtl  \" ><span class=\"arb\">مَعَ </span></span></span><span class=\"plain rtl  \" ><span class=\"plain rtl  \" ><span class=\"arb\">ٱلْ</span></span><span class=\"plain rtl  \" ><span class=\"arb\">قَوْمِ </span></span></span><span class=\"plain rtl  hlbx\" ><span class=\"plain rtl  \" ><span class=\"arb\">ٱل</span></span><span class=\"plain rtl  \" ><span class=\"arb\">ظَّٰلِمِينَ</span></span></span></span></span>"
      ],
      "text/plain": [
       "<IPython.core.display.HTML object>"
      ]
     },
     "metadata": {},
     "output_type": "display_data"
    }
   ],
   "source": [
    "highlights = set(wordHighlights) | set(groupHighlights)\n",
    "A.plain(aya, highlights=highlights)"
   ]
  },
  {
   "cell_type": "markdown",
   "metadata": {},
   "source": [
    "We can also highlight the aya itself."
   ]
  },
  {
   "cell_type": "code",
   "execution_count": 62,
   "metadata": {},
   "outputs": [
    {
     "data": {
      "text/html": [
       "<span class=\"vrs ltr\"><a href=\"http://tanzil.net/#7:47\" title=\"show this passage on Tanzil\" sec=\"7:47\">7:47</a></span><span class=\"plain outer  rtl  hlbx\" ><span class=\"plain rtl \"><span class=\"plain rtl  \" ><span class=\"plain rtl  \" ><span class=\"arb\">وَ</span></span><span class=\"plain rtl  \" ><span class=\"arb\">إِذَا </span></span></span><span class=\"plain rtl  \" ><span class=\"plain rtl  \" ><span class=\"arb\">صُرِفَتْ </span></span></span><span class=\"plain rtl  \" ><span class=\"plain rtl  \" ><span class=\"arb\">أَبْصَٰرُ</span></span><span class=\"plain rtl  \" ><span class=\"arb\">هُمْ </span></span></span><span class=\"plain rtl  \" ><span class=\"plain rtl  \" ><span class=\"arb\">تِلْقَآءَ </span></span></span><span class=\"plain rtl  \" ><span class=\"plain rtl  \" ><span class=\"arb\">أَصْحَٰبِ </span></span></span><span class=\"plain rtl  \" ><span class=\"plain rtl  \" ><span class=\"arb\">ٱل</span></span><span class=\"plain rtl  \" ><span class=\"arb\">نَّارِ </span></span></span><span class=\"plain rtl  \" ><span class=\"plain rtl  \" ><span class=\"arb\">قَالُ</span></span><span class=\"plain rtl  \" ><span class=\"arb\">وا۟ </span></span></span><span class=\"plain rtl  \" ><span class=\"plain rtl  \" ><span class=\"arb\">رَبَّ</span></span><span class=\"plain rtl  \" ><span class=\"arb\">نَا </span></span></span><span class=\"plain rtl  \" ><span class=\"plain rtl  \" ><span class=\"arb\">لَا </span></span></span><span class=\"plain rtl  \" ><span class=\"plain rtl  \" ><span class=\"arb\">تَجْعَلْ</span></span><span class=\"plain rtl  \" ><span class=\"arb\">نَا </span></span></span><span class=\"plain rtl  \" ><span class=\"plain rtl  \" ><span class=\"arb\">مَعَ </span></span></span><span class=\"plain rtl  \" ><span class=\"plain rtl  \" ><span class=\"arb\">ٱلْ</span></span><span class=\"plain rtl  \" ><span class=\"arb\">قَوْمِ </span></span></span><span class=\"plain rtl  \" ><span class=\"plain rtl  \" ><span class=\"arb\">ٱل</span></span><span class=\"plain rtl  \" ><span class=\"arb\">ظَّٰلِمِينَ</span></span></span></span></span>"
      ],
      "text/plain": [
       "<IPython.core.display.HTML object>"
      ]
     },
     "metadata": {},
     "output_type": "display_data"
    }
   ],
   "source": [
    "highlights = {aya}\n",
    "A.plain(aya, highlights=highlights)"
   ]
  },
  {
   "cell_type": "markdown",
   "metadata": {},
   "source": [
    "As you see, only the aya label is highlighted, not the contents.\n",
    "The same policy is followed for suras and other sectional units."
   ]
  },
  {
   "cell_type": "code",
   "execution_count": 63,
   "metadata": {},
   "outputs": [
    {
     "data": {
      "text/html": [
       "<a href=\"http://tanzil.net/#29:46\" title=\"show this passage on Tanzil\" sec=\"29:46\">29:46</a>&nbsp;<span class=\"plain outer  rtl  hlbx\" ><span class=\"vn\">juz 21</span><br></span>"
      ],
      "text/plain": [
       "<IPython.core.display.HTML object>"
      ]
     },
     "metadata": {},
     "output_type": "display_data"
    }
   ],
   "source": [
    "juz = F.otype.s('juz')[20]\n",
    "A.plain(juz, highlights={juz})"
   ]
  },
  {
   "cell_type": "code",
   "execution_count": 64,
   "metadata": {},
   "outputs": [
    {
     "data": {
      "text/html": [
       "<a href=\"http://tanzil.net/#2:164\" title=\"show this passage on Tanzil\" sec=\"2:164\">2:164</a>&nbsp;<span class=\"plain outer  rtl  hlbx\" ><span class=\"vn\">ruku 21</span><br></span>"
      ],
      "text/plain": [
       "<IPython.core.display.HTML object>"
      ]
     },
     "metadata": {},
     "output_type": "display_data"
    }
   ],
   "source": [
    "ruku = F.otype.s('ruku')[20]\n",
    "A.plain(ruku, highlights={ruku})"
   ]
  },
  {
   "cell_type": "markdown",
   "metadata": {},
   "source": [
    "But if we pass a condense type that is bigger than the section type, we get the material of the section.\n",
    "\n",
    "Remember that we can see the types and their bigness as follows:"
   ]
  },
  {
   "cell_type": "code",
   "execution_count": 65,
   "metadata": {},
   "outputs": [
    {
     "data": {
      "text/plain": [
       "(('manzil', 18317.0, 216987, 216993),\n",
       " ('sajda', 6043.066666666667, 218154, 218168),\n",
       " ('juz', 4273.966666666666, 212125, 212154),\n",
       " ('sura', 1124.7280701754387, 218169, 218282),\n",
       " ('hizb', 534.2458333333333, 211885, 212124),\n",
       " ('ruku', 230.60971223021582, 217598, 218153),\n",
       " ('page', 212.28311258278146, 216994, 217597),\n",
       " ('aya', 20.56109685695959, 128220, 134455),\n",
       " ('lex', 15.440397350993377, 212155, 216986),\n",
       " ('group', 1.6559557788425525, 134456, 211884),\n",
       " ('word', 1, 1, 128219))"
      ]
     },
     "execution_count": 65,
     "metadata": {},
     "output_type": "execute_result"
    }
   ],
   "source": [
    "C.levels.data"
   ]
  },
  {
   "cell_type": "markdown",
   "metadata": {},
   "source": [
    "So the *hizb* is bigger than the *page*.\n",
    "\n",
    "Let's print a plain *page* with condense type *hizb*:"
   ]
  },
  {
   "cell_type": "code",
   "execution_count": 66,
   "metadata": {},
   "outputs": [
    {
     "data": {
      "text/html": [
       "<a href=\"http://tanzil.net/#2:135\" title=\"show this passage on Tanzil\" sec=\"2:135\">2:135</a>&nbsp;<span class=\"plain outer  rtl  \" ><span class=\"vn\">page 21</span><br><span class=\"arb\"><span class=\"vrs ltr\"><a href=\"http://tanzil.net/#2:135\" title=\"show this passage on Tanzil\" sec=\"2:135\">2:135</a></span><span class=\"plain outer  rtl  \" ><span class=\"plain rtl \"><span class=\"plain rtl  \" ><span class=\"plain rtl  \" ><span class=\"arb\">وَ</span></span><span class=\"plain rtl  \" ><span class=\"arb\">قَالُ</span></span><span class=\"plain rtl  \" ><span class=\"arb\">وا۟ </span></span></span><span class=\"plain rtl  \" ><span class=\"plain rtl  \" ><span class=\"arb\">كُونُ</span></span><span class=\"plain rtl  \" ><span class=\"arb\">وا۟ </span></span></span><span class=\"plain rtl  \" ><span class=\"plain rtl  \" ><span class=\"arb\">هُودًا </span></span></span><span class=\"plain rtl  \" ><span class=\"plain rtl  \" ><span class=\"arb\">أَوْ </span></span></span><span class=\"plain rtl  \" ><span class=\"plain rtl  \" ><span class=\"arb\">نَصَٰرَىٰ </span></span></span><span class=\"plain rtl  \" ><span class=\"plain rtl  \" ><span class=\"arb\">تَهْتَدُ</span></span><span class=\"plain rtl  \" ><span class=\"arb\">وا۟ </span></span></span><span class=\"plain rtl  \" ><span class=\"plain rtl  \" ><span class=\"arb\">قُلْ </span></span></span><span class=\"plain rtl  \" ><span class=\"plain rtl  \" ><span class=\"arb\">بَلْ </span></span></span><span class=\"plain rtl  \" ><span class=\"plain rtl  \" ><span class=\"arb\">مِلَّةَ </span></span></span><span class=\"plain rtl  \" ><span class=\"plain rtl  \" ><span class=\"arb\">إِبْرَٰهِۦمَ </span></span></span><span class=\"plain rtl  \" ><span class=\"plain rtl  \" ><span class=\"arb\">حَنِيفًا </span></span></span><span class=\"plain rtl  \" ><span class=\"plain rtl  \" ><span class=\"arb\">وَ</span></span><span class=\"plain rtl  \" ><span class=\"arb\">مَا </span></span></span><span class=\"plain rtl  \" ><span class=\"plain rtl  \" ><span class=\"arb\">كَانَ </span></span></span><span class=\"plain rtl  \" ><span class=\"plain rtl  \" ><span class=\"arb\">مِنَ </span></span></span><span class=\"plain rtl  \" ><span class=\"plain rtl  \" ><span class=\"arb\">ٱلْ</span></span><span class=\"plain rtl  \" ><span class=\"arb\">مُشْرِكِينَ</span></span></span></span></span></span><br/><span class=\"arb\"><span class=\"vrs ltr\"><a href=\"http://tanzil.net/#2:136\" title=\"show this passage on Tanzil\" sec=\"2:136\">2:136</a></span><span class=\"plain outer  rtl  \" ><span class=\"plain rtl \"><span class=\"plain rtl  \" ><span class=\"plain rtl  \" ><span class=\"arb\">قُولُ</span></span><span class=\"plain rtl  \" ><span class=\"arb\">وٓا۟ </span></span></span><span class=\"plain rtl  \" ><span class=\"plain rtl  \" ><span class=\"arb\">ءَامَ</span></span><span class=\"plain rtl  \" ><span class=\"arb\">نَّا </span></span></span><span class=\"plain rtl  \" ><span class=\"plain rtl  \" ><span class=\"arb\">بِ</span></span><span class=\"plain rtl  \" ><span class=\"arb\">ٱللَّهِ </span></span></span><span class=\"plain rtl  \" ><span class=\"plain rtl  \" ><span class=\"arb\">وَ</span></span><span class=\"plain rtl  \" ><span class=\"arb\">مَآ </span></span></span><span class=\"plain rtl  \" ><span class=\"plain rtl  \" ><span class=\"arb\">أُنزِلَ </span></span></span><span class=\"plain rtl  \" ><span class=\"plain rtl  \" ><span class=\"arb\">إِلَيْ</span></span><span class=\"plain rtl  \" ><span class=\"arb\">نَا </span></span></span><span class=\"plain rtl  \" ><span class=\"plain rtl  \" ><span class=\"arb\">وَ</span></span><span class=\"plain rtl  \" ><span class=\"arb\">مَآ </span></span></span><span class=\"plain rtl  \" ><span class=\"plain rtl  \" ><span class=\"arb\">أُنزِلَ </span></span></span><span class=\"plain rtl  \" ><span class=\"plain rtl  \" ><span class=\"arb\">إِلَىٰٓ </span></span></span><span class=\"plain rtl  \" ><span class=\"plain rtl  \" ><span class=\"arb\">إِبْرَٰهِۦمَ </span></span></span><span class=\"plain rtl  \" ><span class=\"plain rtl  \" ><span class=\"arb\">وَ</span></span><span class=\"plain rtl  \" ><span class=\"arb\">إِسْمَٰعِيلَ </span></span></span><span class=\"plain rtl  \" ><span class=\"plain rtl  \" ><span class=\"arb\">وَ</span></span><span class=\"plain rtl  \" ><span class=\"arb\">إِسْحَٰقَ </span></span></span><span class=\"plain rtl  \" ><span class=\"plain rtl  \" ><span class=\"arb\">وَ</span></span><span class=\"plain rtl  \" ><span class=\"arb\">يَعْقُوبَ </span></span></span><span class=\"plain rtl  \" ><span class=\"plain rtl  \" ><span class=\"arb\">وَ</span></span><span class=\"plain rtl  \" ><span class=\"arb\">ٱلْ</span></span><span class=\"plain rtl  \" ><span class=\"arb\">أَسْبَاطِ </span></span></span><span class=\"plain rtl  \" ><span class=\"plain rtl  \" ><span class=\"arb\">وَ</span></span><span class=\"plain rtl  \" ><span class=\"arb\">مَآ </span></span></span><span class=\"plain rtl  \" ><span class=\"plain rtl  \" ><span class=\"arb\">أُوتِىَ </span></span></span><span class=\"plain rtl  \" ><span class=\"plain rtl  \" ><span class=\"arb\">مُوسَىٰ </span></span></span><span class=\"plain rtl  \" ><span class=\"plain rtl  \" ><span class=\"arb\">وَ</span></span><span class=\"plain rtl  \" ><span class=\"arb\">عِيسَىٰ </span></span></span><span class=\"plain rtl  \" ><span class=\"plain rtl  \" ><span class=\"arb\">وَ</span></span><span class=\"plain rtl  \" ><span class=\"arb\">مَآ </span></span></span><span class=\"plain rtl  \" ><span class=\"plain rtl  \" ><span class=\"arb\">أُوتِىَ </span></span></span><span class=\"plain rtl  \" ><span class=\"plain rtl  \" ><span class=\"arb\">ٱل</span></span><span class=\"plain rtl  \" ><span class=\"arb\">نَّبِيُّونَ </span></span></span><span class=\"plain rtl  \" ><span class=\"plain rtl  \" ><span class=\"arb\">مِن </span></span></span><span class=\"plain rtl  \" ><span class=\"plain rtl  \" ><span class=\"arb\">رَّبِّ</span></span><span class=\"plain rtl  \" ><span class=\"arb\">هِمْ </span></span></span><span class=\"plain rtl  \" ><span class=\"plain rtl  \" ><span class=\"arb\">لَا </span></span></span><span class=\"plain rtl  \" ><span class=\"plain rtl  \" ><span class=\"arb\">نُفَرِّقُ </span></span></span><span class=\"plain rtl  \" ><span class=\"plain rtl  \" ><span class=\"arb\">بَيْنَ </span></span></span><span class=\"plain rtl  \" ><span class=\"plain rtl  \" ><span class=\"arb\">أَحَدٍ </span></span></span><span class=\"plain rtl  \" ><span class=\"plain rtl  \" ><span class=\"arb\">مِّنْ</span></span><span class=\"plain rtl  \" ><span class=\"arb\">هُمْ </span></span></span><span class=\"plain rtl  \" ><span class=\"plain rtl  \" ><span class=\"arb\">وَ</span></span><span class=\"plain rtl  \" ><span class=\"arb\">نَحْنُ </span></span></span><span class=\"plain rtl  \" ><span class=\"plain rtl  \" ><span class=\"arb\">لَ</span></span><span class=\"plain rtl  \" ><span class=\"arb\">هُۥ </span></span></span><span class=\"plain rtl  \" ><span class=\"plain rtl  \" ><span class=\"arb\">مُسْلِمُونَ</span></span></span></span></span></span><br/><span class=\"arb\"><span class=\"vrs ltr\"><a href=\"http://tanzil.net/#2:137\" title=\"show this passage on Tanzil\" sec=\"2:137\">2:137</a></span><span class=\"plain outer  rtl  \" ><span class=\"plain rtl \"><span class=\"plain rtl  \" ><span class=\"plain rtl  \" ><span class=\"arb\">فَ</span></span><span class=\"plain rtl  \" ><span class=\"arb\">إِنْ </span></span></span><span class=\"plain rtl  \" ><span class=\"plain rtl  \" ><span class=\"arb\">ءَامَنُ</span></span><span class=\"plain rtl  \" ><span class=\"arb\">وا۟ </span></span></span><span class=\"plain rtl  \" ><span class=\"plain rtl  \" ><span class=\"arb\">بِ</span></span><span class=\"plain rtl  \" ><span class=\"arb\">مِثْلِ </span></span></span><span class=\"plain rtl  \" ><span class=\"plain rtl  \" ><span class=\"arb\">مَآ </span></span></span><span class=\"plain rtl  \" ><span class=\"plain rtl  \" ><span class=\"arb\">ءَامَن</span></span><span class=\"plain rtl  \" ><span class=\"arb\">تُم </span></span></span><span class=\"plain rtl  \" ><span class=\"plain rtl  \" ><span class=\"arb\">بِ</span></span><span class=\"plain rtl  \" ><span class=\"arb\">هِۦ </span></span></span><span class=\"plain rtl  \" ><span class=\"plain rtl  \" ><span class=\"arb\">فَ</span></span><span class=\"plain rtl  \" ><span class=\"arb\">قَدِ </span></span></span><span class=\"plain rtl  \" ><span class=\"plain rtl  \" ><span class=\"arb\">ٱهْتَدَ</span></span><span class=\"plain rtl  \" ><span class=\"arb\">وا۟ </span></span></span><span class=\"plain rtl  \" ><span class=\"plain rtl  \" ><span class=\"arb\">وَّ</span></span><span class=\"plain rtl  \" ><span class=\"arb\">إِن </span></span></span><span class=\"plain rtl  \" ><span class=\"plain rtl  \" ><span class=\"arb\">تَوَلَّ</span></span><span class=\"plain rtl  \" ><span class=\"arb\">وْا۟ </span></span></span><span class=\"plain rtl  \" ><span class=\"plain rtl  \" ><span class=\"arb\">فَ</span></span><span class=\"plain rtl  \" ><span class=\"arb\">إِنَّ</span></span><span class=\"plain rtl  \" ><span class=\"arb\">مَا </span></span></span><span class=\"plain rtl  \" ><span class=\"plain rtl  \" ><span class=\"arb\">هُمْ </span></span></span><span class=\"plain rtl  \" ><span class=\"plain rtl  \" ><span class=\"arb\">فِى </span></span></span><span class=\"plain rtl  \" ><span class=\"plain rtl  \" ><span class=\"arb\">شِقَاقٍ </span></span></span><span class=\"plain rtl  \" ><span class=\"plain rtl  \" ><span class=\"arb\">فَ</span></span><span class=\"plain rtl  \" ><span class=\"arb\">سَ</span></span><span class=\"plain rtl  \" ><span class=\"arb\">يَكْفِي</span></span><span class=\"plain rtl  \" ><span class=\"arb\">كَ</span></span><span class=\"plain rtl  \" ><span class=\"arb\">هُمُ </span></span></span><span class=\"plain rtl  \" ><span class=\"plain rtl  \" ><span class=\"arb\">ٱللَّهُ </span></span></span><span class=\"plain rtl  \" ><span class=\"plain rtl  \" ><span class=\"arb\">وَ</span></span><span class=\"plain rtl  \" ><span class=\"arb\">هُوَ </span></span></span><span class=\"plain rtl  \" ><span class=\"plain rtl  \" ><span class=\"arb\">ٱل</span></span><span class=\"plain rtl  \" ><span class=\"arb\">سَّمِيعُ </span></span></span><span class=\"plain rtl  \" ><span class=\"plain rtl  \" ><span class=\"arb\">ٱلْ</span></span><span class=\"plain rtl  \" ><span class=\"arb\">عَلِيمُ</span></span></span></span></span></span><br/><span class=\"arb\"><span class=\"vrs ltr\"><a href=\"http://tanzil.net/#2:138\" title=\"show this passage on Tanzil\" sec=\"2:138\">2:138</a></span><span class=\"plain outer  rtl  \" ><span class=\"plain rtl \"><span class=\"plain rtl  \" ><span class=\"plain rtl  \" ><span class=\"arb\">صِبْغَةَ </span></span></span><span class=\"plain rtl  \" ><span class=\"plain rtl  \" ><span class=\"arb\">ٱللَّهِ </span></span></span><span class=\"plain rtl  \" ><span class=\"plain rtl  \" ><span class=\"arb\">وَ</span></span><span class=\"plain rtl  \" ><span class=\"arb\">مَنْ </span></span></span><span class=\"plain rtl  \" ><span class=\"plain rtl  \" ><span class=\"arb\">أَحْسَنُ </span></span></span><span class=\"plain rtl  \" ><span class=\"plain rtl  \" ><span class=\"arb\">مِنَ </span></span></span><span class=\"plain rtl  \" ><span class=\"plain rtl  \" ><span class=\"arb\">ٱللَّهِ </span></span></span><span class=\"plain rtl  \" ><span class=\"plain rtl  \" ><span class=\"arb\">صِبْغَةً </span></span></span><span class=\"plain rtl  \" ><span class=\"plain rtl  \" ><span class=\"arb\">وَ</span></span><span class=\"plain rtl  \" ><span class=\"arb\">نَحْنُ </span></span></span><span class=\"plain rtl  \" ><span class=\"plain rtl  \" ><span class=\"arb\">لَ</span></span><span class=\"plain rtl  \" ><span class=\"arb\">هُۥ </span></span></span><span class=\"plain rtl  \" ><span class=\"plain rtl  \" ><span class=\"arb\">عَٰبِدُونَ</span></span></span></span></span></span><br/><span class=\"arb\"><span class=\"vrs ltr\"><a href=\"http://tanzil.net/#2:139\" title=\"show this passage on Tanzil\" sec=\"2:139\">2:139</a></span><span class=\"plain outer  rtl  \" ><span class=\"plain rtl \"><span class=\"plain rtl  \" ><span class=\"plain rtl  \" ><span class=\"arb\">قُلْ </span></span></span><span class=\"plain rtl  \" ><span class=\"plain rtl  \" ><span class=\"arb\">أَ</span></span><span class=\"plain rtl  \" ><span class=\"arb\">تُحَآجُّ</span></span><span class=\"plain rtl  \" ><span class=\"arb\">ونَ</span></span><span class=\"plain rtl  \" ><span class=\"arb\">نَا </span></span></span><span class=\"plain rtl  \" ><span class=\"plain rtl  \" ><span class=\"arb\">فِى </span></span></span><span class=\"plain rtl  \" ><span class=\"plain rtl  \" ><span class=\"arb\">ٱللَّهِ </span></span></span><span class=\"plain rtl  \" ><span class=\"plain rtl  \" ><span class=\"arb\">وَ</span></span><span class=\"plain rtl  \" ><span class=\"arb\">هُوَ </span></span></span><span class=\"plain rtl  \" ><span class=\"plain rtl  \" ><span class=\"arb\">رَبُّ</span></span><span class=\"plain rtl  \" ><span class=\"arb\">نَا </span></span></span><span class=\"plain rtl  \" ><span class=\"plain rtl  \" ><span class=\"arb\">وَ</span></span><span class=\"plain rtl  \" ><span class=\"arb\">رَبُّ</span></span><span class=\"plain rtl  \" ><span class=\"arb\">كُمْ </span></span></span><span class=\"plain rtl  \" ><span class=\"plain rtl  \" ><span class=\"arb\">وَ</span></span><span class=\"plain rtl  \" ><span class=\"arb\">لَ</span></span><span class=\"plain rtl  \" ><span class=\"arb\">نَآ </span></span></span><span class=\"plain rtl  \" ><span class=\"plain rtl  \" ><span class=\"arb\">أَعْمَٰلُ</span></span><span class=\"plain rtl  \" ><span class=\"arb\">نَا </span></span></span><span class=\"plain rtl  \" ><span class=\"plain rtl  \" ><span class=\"arb\">وَ</span></span><span class=\"plain rtl  \" ><span class=\"arb\">لَ</span></span><span class=\"plain rtl  \" ><span class=\"arb\">كُمْ </span></span></span><span class=\"plain rtl  \" ><span class=\"plain rtl  \" ><span class=\"arb\">أَعْمَٰلُ</span></span><span class=\"plain rtl  \" ><span class=\"arb\">كُمْ </span></span></span><span class=\"plain rtl  \" ><span class=\"plain rtl  \" ><span class=\"arb\">وَ</span></span><span class=\"plain rtl  \" ><span class=\"arb\">نَحْنُ </span></span></span><span class=\"plain rtl  \" ><span class=\"plain rtl  \" ><span class=\"arb\">لَ</span></span><span class=\"plain rtl  \" ><span class=\"arb\">هُۥ </span></span></span><span class=\"plain rtl  \" ><span class=\"plain rtl  \" ><span class=\"arb\">مُخْلِصُونَ</span></span></span></span></span></span><br/><span class=\"arb\"><span class=\"vrs ltr\"><a href=\"http://tanzil.net/#2:140\" title=\"show this passage on Tanzil\" sec=\"2:140\">2:140</a></span><span class=\"plain outer  rtl  \" ><span class=\"plain rtl \"><span class=\"plain rtl  \" ><span class=\"plain rtl  \" ><span class=\"arb\">أَمْ </span></span></span><span class=\"plain rtl  \" ><span class=\"plain rtl  \" ><span class=\"arb\">تَقُولُ</span></span><span class=\"plain rtl  \" ><span class=\"arb\">ونَ </span></span></span><span class=\"plain rtl  \" ><span class=\"plain rtl  \" ><span class=\"arb\">إِنَّ </span></span></span><span class=\"plain rtl  \" ><span class=\"plain rtl  \" ><span class=\"arb\">إِبْرَٰهِۦمَ </span></span></span><span class=\"plain rtl  \" ><span class=\"plain rtl  \" ><span class=\"arb\">وَ</span></span><span class=\"plain rtl  \" ><span class=\"arb\">إِسْمَٰعِيلَ </span></span></span><span class=\"plain rtl  \" ><span class=\"plain rtl  \" ><span class=\"arb\">وَ</span></span><span class=\"plain rtl  \" ><span class=\"arb\">إِسْحَٰقَ </span></span></span><span class=\"plain rtl  \" ><span class=\"plain rtl  \" ><span class=\"arb\">وَ</span></span><span class=\"plain rtl  \" ><span class=\"arb\">يَعْقُوبَ </span></span></span><span class=\"plain rtl  \" ><span class=\"plain rtl  \" ><span class=\"arb\">وَ</span></span><span class=\"plain rtl  \" ><span class=\"arb\">ٱلْ</span></span><span class=\"plain rtl  \" ><span class=\"arb\">أَسْبَاطَ </span></span></span><span class=\"plain rtl  \" ><span class=\"plain rtl  \" ><span class=\"arb\">كَانُ</span></span><span class=\"plain rtl  \" ><span class=\"arb\">وا۟ </span></span></span><span class=\"plain rtl  \" ><span class=\"plain rtl  \" ><span class=\"arb\">هُودًا </span></span></span><span class=\"plain rtl  \" ><span class=\"plain rtl  \" ><span class=\"arb\">أَوْ </span></span></span><span class=\"plain rtl  \" ><span class=\"plain rtl  \" ><span class=\"arb\">نَصَٰرَىٰ </span></span></span><span class=\"plain rtl  \" ><span class=\"plain rtl  \" ><span class=\"arb\">قُلْ </span></span></span><span class=\"plain rtl  \" ><span class=\"plain rtl  \" ><span class=\"arb\">ءَ</span></span><span class=\"plain rtl  \" ><span class=\"arb\">أَنتُمْ </span></span></span><span class=\"plain rtl  \" ><span class=\"plain rtl  \" ><span class=\"arb\">أَعْلَمُ </span></span></span><span class=\"plain rtl  \" ><span class=\"plain rtl  \" ><span class=\"arb\">أَمِ </span></span></span><span class=\"plain rtl  \" ><span class=\"plain rtl  \" ><span class=\"arb\">ٱللَّهُ </span></span></span><span class=\"plain rtl  \" ><span class=\"plain rtl  \" ><span class=\"arb\">وَ</span></span><span class=\"plain rtl  \" ><span class=\"arb\">مَنْ </span></span></span><span class=\"plain rtl  \" ><span class=\"plain rtl  \" ><span class=\"arb\">أَظْلَمُ </span></span></span><span class=\"plain rtl  \" ><span class=\"plain rtl  \" ><span class=\"arb\">مِ</span></span><span class=\"plain rtl  \" ><span class=\"arb\">مَّن </span></span></span><span class=\"plain rtl  \" ><span class=\"plain rtl  \" ><span class=\"arb\">كَتَمَ </span></span></span><span class=\"plain rtl  \" ><span class=\"plain rtl  \" ><span class=\"arb\">شَهَٰدَةً </span></span></span><span class=\"plain rtl  \" ><span class=\"plain rtl  \" ><span class=\"arb\">عِندَ</span></span><span class=\"plain rtl  \" ><span class=\"arb\">هُۥ </span></span></span><span class=\"plain rtl  \" ><span class=\"plain rtl  \" ><span class=\"arb\">مِنَ </span></span></span><span class=\"plain rtl  \" ><span class=\"plain rtl  \" ><span class=\"arb\">ٱللَّهِ </span></span></span><span class=\"plain rtl  \" ><span class=\"plain rtl  \" ><span class=\"arb\">وَ</span></span><span class=\"plain rtl  \" ><span class=\"arb\">مَا </span></span></span><span class=\"plain rtl  \" ><span class=\"plain rtl  \" ><span class=\"arb\">ٱللَّهُ </span></span></span><span class=\"plain rtl  \" ><span class=\"plain rtl  \" ><span class=\"arb\">بِ</span></span><span class=\"plain rtl  \" ><span class=\"arb\">غَٰفِلٍ </span></span></span><span class=\"plain rtl  \" ><span class=\"plain rtl  \" ><span class=\"arb\">عَ</span></span><span class=\"plain rtl  \" ><span class=\"arb\">مَّا </span></span></span><span class=\"plain rtl  \" ><span class=\"plain rtl  \" ><span class=\"arb\">تَعْمَلُ</span></span><span class=\"plain rtl  \" ><span class=\"arb\">ونَ</span></span></span></span></span></span><br/><span class=\"arb\"><span class=\"vrs ltr\"><a href=\"http://tanzil.net/#2:141\" title=\"show this passage on Tanzil\" sec=\"2:141\">2:141</a></span><span class=\"plain outer  rtl  \" ><span class=\"plain rtl \"><span class=\"plain rtl  \" ><span class=\"plain rtl  \" ><span class=\"arb\">تِلْكَ </span></span></span><span class=\"plain rtl  \" ><span class=\"plain rtl  \" ><span class=\"arb\">أُمَّةٌ </span></span></span><span class=\"plain rtl  \" ><span class=\"plain rtl  \" ><span class=\"arb\">قَدْ </span></span></span><span class=\"plain rtl  \" ><span class=\"plain rtl  \" ><span class=\"arb\">خَلَتْ </span></span></span><span class=\"plain rtl  \" ><span class=\"plain rtl  \" ><span class=\"arb\">لَ</span></span><span class=\"plain rtl  \" ><span class=\"arb\">هَا </span></span></span><span class=\"plain rtl  \" ><span class=\"plain rtl  \" ><span class=\"arb\">مَا </span></span></span><span class=\"plain rtl  \" ><span class=\"plain rtl  \" ><span class=\"arb\">كَسَبَتْ </span></span></span><span class=\"plain rtl  \" ><span class=\"plain rtl  \" ><span class=\"arb\">وَ</span></span><span class=\"plain rtl  \" ><span class=\"arb\">لَ</span></span><span class=\"plain rtl  \" ><span class=\"arb\">كُم </span></span></span><span class=\"plain rtl  \" ><span class=\"plain rtl  \" ><span class=\"arb\">مَّا </span></span></span><span class=\"plain rtl  \" ><span class=\"plain rtl  \" ><span class=\"arb\">كَسَبْ</span></span><span class=\"plain rtl  \" ><span class=\"arb\">تُمْ </span></span></span><span class=\"plain rtl  \" ><span class=\"plain rtl  \" ><span class=\"arb\">وَ</span></span><span class=\"plain rtl  \" ><span class=\"arb\">لَا </span></span></span><span class=\"plain rtl  \" ><span class=\"plain rtl  \" ><span class=\"arb\">تُسْـَٔلُ</span></span><span class=\"plain rtl  \" ><span class=\"arb\">ونَ </span></span></span><span class=\"plain rtl  \" ><span class=\"plain rtl  \" ><span class=\"arb\">عَ</span></span><span class=\"plain rtl  \" ><span class=\"arb\">مَّا </span></span></span><span class=\"plain rtl  \" ><span class=\"plain rtl  \" ><span class=\"arb\">كَانُ</span></span><span class=\"plain rtl  \" ><span class=\"arb\">وا۟ </span></span></span><span class=\"plain rtl  \" ><span class=\"plain rtl  \" ><span class=\"arb\">يَعْمَلُ</span></span><span class=\"plain rtl  \" ><span class=\"arb\">ونَ</span></span></span></span></span></span><br/><span class=\"plain rtl  \" ><span class=\"plain rtl \"><span class=\"plain rtl  \" ><span class=\"plain rtl  \" ><span class=\"arb\">وَ</span></span><span class=\"plain rtl  \" ><span class=\"arb\">قَالُ</span></span><span class=\"plain rtl  \" ><span class=\"arb\">وا۟ </span></span></span><span class=\"plain rtl  \" ><span class=\"plain rtl  \" ><span class=\"arb\">كُونُ</span></span><span class=\"plain rtl  \" ><span class=\"arb\">وا۟ </span></span></span><span class=\"plain rtl  \" ><span class=\"plain rtl  \" ><span class=\"arb\">هُودًا </span></span></span><span class=\"plain rtl  \" ><span class=\"plain rtl  \" ><span class=\"arb\">أَوْ </span></span></span><span class=\"plain rtl  \" ><span class=\"plain rtl  \" ><span class=\"arb\">نَصَٰرَىٰ </span></span></span><span class=\"plain rtl  \" ><span class=\"plain rtl  \" ><span class=\"arb\">تَهْتَدُ</span></span><span class=\"plain rtl  \" ><span class=\"arb\">وا۟ </span></span></span><span class=\"plain rtl  \" ><span class=\"plain rtl  \" ><span class=\"arb\">قُلْ </span></span></span><span class=\"plain rtl  \" ><span class=\"plain rtl  \" ><span class=\"arb\">بَلْ </span></span></span><span class=\"plain rtl  \" ><span class=\"plain rtl  \" ><span class=\"arb\">مِلَّةَ </span></span></span><span class=\"plain rtl  \" ><span class=\"plain rtl  \" ><span class=\"arb\">إِبْرَٰهِۦمَ </span></span></span><span class=\"plain rtl  \" ><span class=\"plain rtl  \" ><span class=\"arb\">حَنِيفًا </span></span></span><span class=\"plain rtl  \" ><span class=\"plain rtl  \" ><span class=\"arb\">وَ</span></span><span class=\"plain rtl  \" ><span class=\"arb\">مَا </span></span></span><span class=\"plain rtl  \" ><span class=\"plain rtl  \" ><span class=\"arb\">كَانَ </span></span></span><span class=\"plain rtl  \" ><span class=\"plain rtl  \" ><span class=\"arb\">مِنَ </span></span></span><span class=\"plain rtl  \" ><span class=\"plain rtl  \" ><span class=\"arb\">ٱلْ</span></span><span class=\"plain rtl  \" ><span class=\"arb\">مُشْرِكِينَ</span></span></span></span></span><span class=\"plain rtl  \" ><span class=\"plain rtl \"><span class=\"plain rtl  \" ><span class=\"plain rtl  \" ><span class=\"arb\">قُولُ</span></span><span class=\"plain rtl  \" ><span class=\"arb\">وٓا۟ </span></span></span><span class=\"plain rtl  \" ><span class=\"plain rtl  \" ><span class=\"arb\">ءَامَ</span></span><span class=\"plain rtl  \" ><span class=\"arb\">نَّا </span></span></span><span class=\"plain rtl  \" ><span class=\"plain rtl  \" ><span class=\"arb\">بِ</span></span><span class=\"plain rtl  \" ><span class=\"arb\">ٱللَّهِ </span></span></span><span class=\"plain rtl  \" ><span class=\"plain rtl  \" ><span class=\"arb\">وَ</span></span><span class=\"plain rtl  \" ><span class=\"arb\">مَآ </span></span></span><span class=\"plain rtl  \" ><span class=\"plain rtl  \" ><span class=\"arb\">أُنزِلَ </span></span></span><span class=\"plain rtl  \" ><span class=\"plain rtl  \" ><span class=\"arb\">إِلَيْ</span></span><span class=\"plain rtl  \" ><span class=\"arb\">نَا </span></span></span><span class=\"plain rtl  \" ><span class=\"plain rtl  \" ><span class=\"arb\">وَ</span></span><span class=\"plain rtl  \" ><span class=\"arb\">مَآ </span></span></span><span class=\"plain rtl  \" ><span class=\"plain rtl  \" ><span class=\"arb\">أُنزِلَ </span></span></span><span class=\"plain rtl  \" ><span class=\"plain rtl  \" ><span class=\"arb\">إِلَىٰٓ </span></span></span><span class=\"plain rtl  \" ><span class=\"plain rtl  \" ><span class=\"arb\">إِبْرَٰهِۦمَ </span></span></span><span class=\"plain rtl  \" ><span class=\"plain rtl  \" ><span class=\"arb\">وَ</span></span><span class=\"plain rtl  \" ><span class=\"arb\">إِسْمَٰعِيلَ </span></span></span><span class=\"plain rtl  \" ><span class=\"plain rtl  \" ><span class=\"arb\">وَ</span></span><span class=\"plain rtl  \" ><span class=\"arb\">إِسْحَٰقَ </span></span></span><span class=\"plain rtl  \" ><span class=\"plain rtl  \" ><span class=\"arb\">وَ</span></span><span class=\"plain rtl  \" ><span class=\"arb\">يَعْقُوبَ </span></span></span><span class=\"plain rtl  \" ><span class=\"plain rtl  \" ><span class=\"arb\">وَ</span></span><span class=\"plain rtl  \" ><span class=\"arb\">ٱلْ</span></span><span class=\"plain rtl  \" ><span class=\"arb\">أَسْبَاطِ </span></span></span><span class=\"plain rtl  \" ><span class=\"plain rtl  \" ><span class=\"arb\">وَ</span></span><span class=\"plain rtl  \" ><span class=\"arb\">مَآ </span></span></span><span class=\"plain rtl  \" ><span class=\"plain rtl  \" ><span class=\"arb\">أُوتِىَ </span></span></span><span class=\"plain rtl  \" ><span class=\"plain rtl  \" ><span class=\"arb\">مُوسَىٰ </span></span></span><span class=\"plain rtl  \" ><span class=\"plain rtl  \" ><span class=\"arb\">وَ</span></span><span class=\"plain rtl  \" ><span class=\"arb\">عِيسَىٰ </span></span></span><span class=\"plain rtl  \" ><span class=\"plain rtl  \" ><span class=\"arb\">وَ</span></span><span class=\"plain rtl  \" ><span class=\"arb\">مَآ </span></span></span><span class=\"plain rtl  \" ><span class=\"plain rtl  \" ><span class=\"arb\">أُوتِىَ </span></span></span><span class=\"plain rtl  \" ><span class=\"plain rtl  \" ><span class=\"arb\">ٱل</span></span><span class=\"plain rtl  \" ><span class=\"arb\">نَّبِيُّونَ </span></span></span><span class=\"plain rtl  \" ><span class=\"plain rtl  \" ><span class=\"arb\">مِن </span></span></span><span class=\"plain rtl  \" ><span class=\"plain rtl  \" ><span class=\"arb\">رَّبِّ</span></span><span class=\"plain rtl  \" ><span class=\"arb\">هِمْ </span></span></span><span class=\"plain rtl  \" ><span class=\"plain rtl  \" ><span class=\"arb\">لَا </span></span></span><span class=\"plain rtl  \" ><span class=\"plain rtl  \" ><span class=\"arb\">نُفَرِّقُ </span></span></span><span class=\"plain rtl  \" ><span class=\"plain rtl  \" ><span class=\"arb\">بَيْنَ </span></span></span><span class=\"plain rtl  \" ><span class=\"plain rtl  \" ><span class=\"arb\">أَحَدٍ </span></span></span><span class=\"plain rtl  \" ><span class=\"plain rtl  \" ><span class=\"arb\">مِّنْ</span></span><span class=\"plain rtl  \" ><span class=\"arb\">هُمْ </span></span></span><span class=\"plain rtl  \" ><span class=\"plain rtl  \" ><span class=\"arb\">وَ</span></span><span class=\"plain rtl  \" ><span class=\"arb\">نَحْنُ </span></span></span><span class=\"plain rtl  \" ><span class=\"plain rtl  \" ><span class=\"arb\">لَ</span></span><span class=\"plain rtl  \" ><span class=\"arb\">هُۥ </span></span></span><span class=\"plain rtl  \" ><span class=\"plain rtl  \" ><span class=\"arb\">مُسْلِمُونَ</span></span></span></span></span><span class=\"plain rtl  \" ><span class=\"plain rtl \"><span class=\"plain rtl  \" ><span class=\"plain rtl  \" ><span class=\"arb\">فَ</span></span><span class=\"plain rtl  \" ><span class=\"arb\">إِنْ </span></span></span><span class=\"plain rtl  \" ><span class=\"plain rtl  \" ><span class=\"arb\">ءَامَنُ</span></span><span class=\"plain rtl  \" ><span class=\"arb\">وا۟ </span></span></span><span class=\"plain rtl  \" ><span class=\"plain rtl  \" ><span class=\"arb\">بِ</span></span><span class=\"plain rtl  \" ><span class=\"arb\">مِثْلِ </span></span></span><span class=\"plain rtl  \" ><span class=\"plain rtl  \" ><span class=\"arb\">مَآ </span></span></span><span class=\"plain rtl  \" ><span class=\"plain rtl  \" ><span class=\"arb\">ءَامَن</span></span><span class=\"plain rtl  \" ><span class=\"arb\">تُم </span></span></span><span class=\"plain rtl  \" ><span class=\"plain rtl  \" ><span class=\"arb\">بِ</span></span><span class=\"plain rtl  \" ><span class=\"arb\">هِۦ </span></span></span><span class=\"plain rtl  \" ><span class=\"plain rtl  \" ><span class=\"arb\">فَ</span></span><span class=\"plain rtl  \" ><span class=\"arb\">قَدِ </span></span></span><span class=\"plain rtl  \" ><span class=\"plain rtl  \" ><span class=\"arb\">ٱهْتَدَ</span></span><span class=\"plain rtl  \" ><span class=\"arb\">وا۟ </span></span></span><span class=\"plain rtl  \" ><span class=\"plain rtl  \" ><span class=\"arb\">وَّ</span></span><span class=\"plain rtl  \" ><span class=\"arb\">إِن </span></span></span><span class=\"plain rtl  \" ><span class=\"plain rtl  \" ><span class=\"arb\">تَوَلَّ</span></span><span class=\"plain rtl  \" ><span class=\"arb\">وْا۟ </span></span></span><span class=\"plain rtl  \" ><span class=\"plain rtl  \" ><span class=\"arb\">فَ</span></span><span class=\"plain rtl  \" ><span class=\"arb\">إِنَّ</span></span><span class=\"plain rtl  \" ><span class=\"arb\">مَا </span></span></span><span class=\"plain rtl  \" ><span class=\"plain rtl  \" ><span class=\"arb\">هُمْ </span></span></span><span class=\"plain rtl  \" ><span class=\"plain rtl  \" ><span class=\"arb\">فِى </span></span></span><span class=\"plain rtl  \" ><span class=\"plain rtl  \" ><span class=\"arb\">شِقَاقٍ </span></span></span><span class=\"plain rtl  \" ><span class=\"plain rtl  \" ><span class=\"arb\">فَ</span></span><span class=\"plain rtl  \" ><span class=\"arb\">سَ</span></span><span class=\"plain rtl  \" ><span class=\"arb\">يَكْفِي</span></span><span class=\"plain rtl  \" ><span class=\"arb\">كَ</span></span><span class=\"plain rtl  \" ><span class=\"arb\">هُمُ </span></span></span><span class=\"plain rtl  \" ><span class=\"plain rtl  \" ><span class=\"arb\">ٱللَّهُ </span></span></span><span class=\"plain rtl  \" ><span class=\"plain rtl  \" ><span class=\"arb\">وَ</span></span><span class=\"plain rtl  \" ><span class=\"arb\">هُوَ </span></span></span><span class=\"plain rtl  \" ><span class=\"plain rtl  \" ><span class=\"arb\">ٱل</span></span><span class=\"plain rtl  \" ><span class=\"arb\">سَّمِيعُ </span></span></span><span class=\"plain rtl  \" ><span class=\"plain rtl  \" ><span class=\"arb\">ٱلْ</span></span><span class=\"plain rtl  \" ><span class=\"arb\">عَلِيمُ</span></span></span></span></span><span class=\"plain rtl  \" ><span class=\"plain rtl \"><span class=\"plain rtl  \" ><span class=\"plain rtl  \" ><span class=\"arb\">صِبْغَةَ </span></span></span><span class=\"plain rtl  \" ><span class=\"plain rtl  \" ><span class=\"arb\">ٱللَّهِ </span></span></span><span class=\"plain rtl  \" ><span class=\"plain rtl  \" ><span class=\"arb\">وَ</span></span><span class=\"plain rtl  \" ><span class=\"arb\">مَنْ </span></span></span><span class=\"plain rtl  \" ><span class=\"plain rtl  \" ><span class=\"arb\">أَحْسَنُ </span></span></span><span class=\"plain rtl  \" ><span class=\"plain rtl  \" ><span class=\"arb\">مِنَ </span></span></span><span class=\"plain rtl  \" ><span class=\"plain rtl  \" ><span class=\"arb\">ٱللَّهِ </span></span></span><span class=\"plain rtl  \" ><span class=\"plain rtl  \" ><span class=\"arb\">صِبْغَةً </span></span></span><span class=\"plain rtl  \" ><span class=\"plain rtl  \" ><span class=\"arb\">وَ</span></span><span class=\"plain rtl  \" ><span class=\"arb\">نَحْنُ </span></span></span><span class=\"plain rtl  \" ><span class=\"plain rtl  \" ><span class=\"arb\">لَ</span></span><span class=\"plain rtl  \" ><span class=\"arb\">هُۥ </span></span></span><span class=\"plain rtl  \" ><span class=\"plain rtl  \" ><span class=\"arb\">عَٰبِدُونَ</span></span></span></span></span><span class=\"plain rtl  \" ><span class=\"plain rtl \"><span class=\"plain rtl  \" ><span class=\"plain rtl  \" ><span class=\"arb\">قُلْ </span></span></span><span class=\"plain rtl  \" ><span class=\"plain rtl  \" ><span class=\"arb\">أَ</span></span><span class=\"plain rtl  \" ><span class=\"arb\">تُحَآجُّ</span></span><span class=\"plain rtl  \" ><span class=\"arb\">ونَ</span></span><span class=\"plain rtl  \" ><span class=\"arb\">نَا </span></span></span><span class=\"plain rtl  \" ><span class=\"plain rtl  \" ><span class=\"arb\">فِى </span></span></span><span class=\"plain rtl  \" ><span class=\"plain rtl  \" ><span class=\"arb\">ٱللَّهِ </span></span></span><span class=\"plain rtl  \" ><span class=\"plain rtl  \" ><span class=\"arb\">وَ</span></span><span class=\"plain rtl  \" ><span class=\"arb\">هُوَ </span></span></span><span class=\"plain rtl  \" ><span class=\"plain rtl  \" ><span class=\"arb\">رَبُّ</span></span><span class=\"plain rtl  \" ><span class=\"arb\">نَا </span></span></span><span class=\"plain rtl  \" ><span class=\"plain rtl  \" ><span class=\"arb\">وَ</span></span><span class=\"plain rtl  \" ><span class=\"arb\">رَبُّ</span></span><span class=\"plain rtl  \" ><span class=\"arb\">كُمْ </span></span></span><span class=\"plain rtl  \" ><span class=\"plain rtl  \" ><span class=\"arb\">وَ</span></span><span class=\"plain rtl  \" ><span class=\"arb\">لَ</span></span><span class=\"plain rtl  \" ><span class=\"arb\">نَآ </span></span></span><span class=\"plain rtl  \" ><span class=\"plain rtl  \" ><span class=\"arb\">أَعْمَٰلُ</span></span><span class=\"plain rtl  \" ><span class=\"arb\">نَا </span></span></span><span class=\"plain rtl  \" ><span class=\"plain rtl  \" ><span class=\"arb\">وَ</span></span><span class=\"plain rtl  \" ><span class=\"arb\">لَ</span></span><span class=\"plain rtl  \" ><span class=\"arb\">كُمْ </span></span></span><span class=\"plain rtl  \" ><span class=\"plain rtl  \" ><span class=\"arb\">أَعْمَٰلُ</span></span><span class=\"plain rtl  \" ><span class=\"arb\">كُمْ </span></span></span><span class=\"plain rtl  \" ><span class=\"plain rtl  \" ><span class=\"arb\">وَ</span></span><span class=\"plain rtl  \" ><span class=\"arb\">نَحْنُ </span></span></span><span class=\"plain rtl  \" ><span class=\"plain rtl  \" ><span class=\"arb\">لَ</span></span><span class=\"plain rtl  \" ><span class=\"arb\">هُۥ </span></span></span><span class=\"plain rtl  \" ><span class=\"plain rtl  \" ><span class=\"arb\">مُخْلِصُونَ</span></span></span></span></span><span class=\"plain rtl  \" ><span class=\"plain rtl \"><span class=\"plain rtl  \" ><span class=\"plain rtl  \" ><span class=\"arb\">أَمْ </span></span></span><span class=\"plain rtl  \" ><span class=\"plain rtl  \" ><span class=\"arb\">تَقُولُ</span></span><span class=\"plain rtl  \" ><span class=\"arb\">ونَ </span></span></span><span class=\"plain rtl  \" ><span class=\"plain rtl  \" ><span class=\"arb\">إِنَّ </span></span></span><span class=\"plain rtl  \" ><span class=\"plain rtl  \" ><span class=\"arb\">إِبْرَٰهِۦمَ </span></span></span><span class=\"plain rtl  \" ><span class=\"plain rtl  \" ><span class=\"arb\">وَ</span></span><span class=\"plain rtl  \" ><span class=\"arb\">إِسْمَٰعِيلَ </span></span></span><span class=\"plain rtl  \" ><span class=\"plain rtl  \" ><span class=\"arb\">وَ</span></span><span class=\"plain rtl  \" ><span class=\"arb\">إِسْحَٰقَ </span></span></span><span class=\"plain rtl  \" ><span class=\"plain rtl  \" ><span class=\"arb\">وَ</span></span><span class=\"plain rtl  \" ><span class=\"arb\">يَعْقُوبَ </span></span></span><span class=\"plain rtl  \" ><span class=\"plain rtl  \" ><span class=\"arb\">وَ</span></span><span class=\"plain rtl  \" ><span class=\"arb\">ٱلْ</span></span><span class=\"plain rtl  \" ><span class=\"arb\">أَسْبَاطَ </span></span></span><span class=\"plain rtl  \" ><span class=\"plain rtl  \" ><span class=\"arb\">كَانُ</span></span><span class=\"plain rtl  \" ><span class=\"arb\">وا۟ </span></span></span><span class=\"plain rtl  \" ><span class=\"plain rtl  \" ><span class=\"arb\">هُودًا </span></span></span><span class=\"plain rtl  \" ><span class=\"plain rtl  \" ><span class=\"arb\">أَوْ </span></span></span><span class=\"plain rtl  \" ><span class=\"plain rtl  \" ><span class=\"arb\">نَصَٰرَىٰ </span></span></span><span class=\"plain rtl  \" ><span class=\"plain rtl  \" ><span class=\"arb\">قُلْ </span></span></span><span class=\"plain rtl  \" ><span class=\"plain rtl  \" ><span class=\"arb\">ءَ</span></span><span class=\"plain rtl  \" ><span class=\"arb\">أَنتُمْ </span></span></span><span class=\"plain rtl  \" ><span class=\"plain rtl  \" ><span class=\"arb\">أَعْلَمُ </span></span></span><span class=\"plain rtl  \" ><span class=\"plain rtl  \" ><span class=\"arb\">أَمِ </span></span></span><span class=\"plain rtl  \" ><span class=\"plain rtl  \" ><span class=\"arb\">ٱللَّهُ </span></span></span><span class=\"plain rtl  \" ><span class=\"plain rtl  \" ><span class=\"arb\">وَ</span></span><span class=\"plain rtl  \" ><span class=\"arb\">مَنْ </span></span></span><span class=\"plain rtl  \" ><span class=\"plain rtl  \" ><span class=\"arb\">أَظْلَمُ </span></span></span><span class=\"plain rtl  \" ><span class=\"plain rtl  \" ><span class=\"arb\">مِ</span></span><span class=\"plain rtl  \" ><span class=\"arb\">مَّن </span></span></span><span class=\"plain rtl  \" ><span class=\"plain rtl  \" ><span class=\"arb\">كَتَمَ </span></span></span><span class=\"plain rtl  \" ><span class=\"plain rtl  \" ><span class=\"arb\">شَهَٰدَةً </span></span></span><span class=\"plain rtl  \" ><span class=\"plain rtl  \" ><span class=\"arb\">عِندَ</span></span><span class=\"plain rtl  \" ><span class=\"arb\">هُۥ </span></span></span><span class=\"plain rtl  \" ><span class=\"plain rtl  \" ><span class=\"arb\">مِنَ </span></span></span><span class=\"plain rtl  \" ><span class=\"plain rtl  \" ><span class=\"arb\">ٱللَّهِ </span></span></span><span class=\"plain rtl  \" ><span class=\"plain rtl  \" ><span class=\"arb\">وَ</span></span><span class=\"plain rtl  \" ><span class=\"arb\">مَا </span></span></span><span class=\"plain rtl  \" ><span class=\"plain rtl  \" ><span class=\"arb\">ٱللَّهُ </span></span></span><span class=\"plain rtl  \" ><span class=\"plain rtl  \" ><span class=\"arb\">بِ</span></span><span class=\"plain rtl  \" ><span class=\"arb\">غَٰفِلٍ </span></span></span><span class=\"plain rtl  \" ><span class=\"plain rtl  \" ><span class=\"arb\">عَ</span></span><span class=\"plain rtl  \" ><span class=\"arb\">مَّا </span></span></span><span class=\"plain rtl  \" ><span class=\"plain rtl  \" ><span class=\"arb\">تَعْمَلُ</span></span><span class=\"plain rtl  \" ><span class=\"arb\">ونَ</span></span></span></span></span><span class=\"plain rtl  \" ><span class=\"plain rtl \"><span class=\"plain rtl  \" ><span class=\"plain rtl  \" ><span class=\"arb\">تِلْكَ </span></span></span><span class=\"plain rtl  \" ><span class=\"plain rtl  \" ><span class=\"arb\">أُمَّةٌ </span></span></span><span class=\"plain rtl  \" ><span class=\"plain rtl  \" ><span class=\"arb\">قَدْ </span></span></span><span class=\"plain rtl  \" ><span class=\"plain rtl  \" ><span class=\"arb\">خَلَتْ </span></span></span><span class=\"plain rtl  \" ><span class=\"plain rtl  \" ><span class=\"arb\">لَ</span></span><span class=\"plain rtl  \" ><span class=\"arb\">هَا </span></span></span><span class=\"plain rtl  \" ><span class=\"plain rtl  \" ><span class=\"arb\">مَا </span></span></span><span class=\"plain rtl  \" ><span class=\"plain rtl  \" ><span class=\"arb\">كَسَبَتْ </span></span></span><span class=\"plain rtl  \" ><span class=\"plain rtl  \" ><span class=\"arb\">وَ</span></span><span class=\"plain rtl  \" ><span class=\"arb\">لَ</span></span><span class=\"plain rtl  \" ><span class=\"arb\">كُم </span></span></span><span class=\"plain rtl  \" ><span class=\"plain rtl  \" ><span class=\"arb\">مَّا </span></span></span><span class=\"plain rtl  \" ><span class=\"plain rtl  \" ><span class=\"arb\">كَسَبْ</span></span><span class=\"plain rtl  \" ><span class=\"arb\">تُمْ </span></span></span><span class=\"plain rtl  \" ><span class=\"plain rtl  \" ><span class=\"arb\">وَ</span></span><span class=\"plain rtl  \" ><span class=\"arb\">لَا </span></span></span><span class=\"plain rtl  \" ><span class=\"plain rtl  \" ><span class=\"arb\">تُسْـَٔلُ</span></span><span class=\"plain rtl  \" ><span class=\"arb\">ونَ </span></span></span><span class=\"plain rtl  \" ><span class=\"plain rtl  \" ><span class=\"arb\">عَ</span></span><span class=\"plain rtl  \" ><span class=\"arb\">مَّا </span></span></span><span class=\"plain rtl  \" ><span class=\"plain rtl  \" ><span class=\"arb\">كَانُ</span></span><span class=\"plain rtl  \" ><span class=\"arb\">وا۟ </span></span></span><span class=\"plain rtl  \" ><span class=\"plain rtl  \" ><span class=\"arb\">يَعْمَلُ</span></span><span class=\"plain rtl  \" ><span class=\"arb\">ونَ</span></span></span></span></span></span>"
      ],
      "text/plain": [
       "<IPython.core.display.HTML object>"
      ]
     },
     "metadata": {},
     "output_type": "display_data"
    }
   ],
   "source": [
    "page = F.otype.s('page')[20]\n",
    "A.plain(page, condenseType='hizb')"
   ]
  },
  {
   "cell_type": "markdown",
   "metadata": {},
   "source": [
    "We can use different colors for highlighting.\n",
    "Lets color even words differently from uneven words, and ayas in yet another color."
   ]
  },
  {
   "cell_type": "code",
   "execution_count": 67,
   "metadata": {},
   "outputs": [
    {
     "data": {
      "text/html": [
       "<span class=\"vrs ltr\"><a href=\"http://tanzil.net/#7:47\" title=\"show this passage on Tanzil\" sec=\"7:47\">7:47</a></span><span class=\"plain outer  rtl  hlbx\"  style=\"border-color: #eeeeff;\" ><span class=\"plain rtl \"><span class=\"plain rtl  \" ><span class=\"plain rtl  hl\"  style=\"background-color: mediumaquamarine;\" ><span class=\"arb\">وَ</span></span><span class=\"plain rtl  hl\"  style=\"background-color: lightsalmon;\" ><span class=\"arb\">إِذَا </span></span></span><span class=\"plain rtl  \" ><span class=\"plain rtl  hl\"  style=\"background-color: mediumaquamarine;\" ><span class=\"arb\">صُرِفَتْ </span></span></span><span class=\"plain rtl  hlbx\"  style=\"border-color: blue;\" ><span class=\"plain rtl  hl\"  style=\"background-color: lightsalmon;\" ><span class=\"arb\">أَبْصَٰرُ</span></span><span class=\"plain rtl  hl\"  style=\"background-color: mediumaquamarine;\" ><span class=\"arb\">هُمْ </span></span></span><span class=\"plain rtl  \" ><span class=\"plain rtl  hl\"  style=\"background-color: lightsalmon;\" ><span class=\"arb\">تِلْقَآءَ </span></span></span><span class=\"plain rtl  \" ><span class=\"plain rtl  hl\"  style=\"background-color: mediumaquamarine;\" ><span class=\"arb\">أَصْحَٰبِ </span></span></span><span class=\"plain rtl  \" ><span class=\"plain rtl  hl\"  style=\"background-color: lightsalmon;\" ><span class=\"arb\">ٱل</span></span><span class=\"plain rtl  hl\"  style=\"background-color: mediumaquamarine;\" ><span class=\"arb\">نَّارِ </span></span></span><span class=\"plain rtl  \" ><span class=\"plain rtl  hl\"  style=\"background-color: lightsalmon;\" ><span class=\"arb\">قَالُ</span></span><span class=\"plain rtl  hl\"  style=\"background-color: mediumaquamarine;\" ><span class=\"arb\">وا۟ </span></span></span><span class=\"plain rtl  hlbx\"  style=\"border-color: blue;\" ><span class=\"plain rtl  hl\"  style=\"background-color: lightsalmon;\" ><span class=\"arb\">رَبَّ</span></span><span class=\"plain rtl  hl\"  style=\"background-color: mediumaquamarine;\" ><span class=\"arb\">نَا </span></span></span><span class=\"plain rtl  \" ><span class=\"plain rtl  hl\"  style=\"background-color: lightsalmon;\" ><span class=\"arb\">لَا </span></span></span><span class=\"plain rtl  \" ><span class=\"plain rtl  hl\"  style=\"background-color: mediumaquamarine;\" ><span class=\"arb\">تَجْعَلْ</span></span><span class=\"plain rtl  hl\"  style=\"background-color: lightsalmon;\" ><span class=\"arb\">نَا </span></span></span><span class=\"plain rtl  \" ><span class=\"plain rtl  hl\"  style=\"background-color: mediumaquamarine;\" ><span class=\"arb\">مَعَ </span></span></span><span class=\"plain rtl  \" ><span class=\"plain rtl  hl\"  style=\"background-color: lightsalmon;\" ><span class=\"arb\">ٱلْ</span></span><span class=\"plain rtl  hl\"  style=\"background-color: mediumaquamarine;\" ><span class=\"arb\">قَوْمِ </span></span></span><span class=\"plain rtl  hlbx\"  style=\"border-color: blue;\" ><span class=\"plain rtl  hl\"  style=\"background-color: lightsalmon;\" ><span class=\"arb\">ٱل</span></span><span class=\"plain rtl  hl\"  style=\"background-color: mediumaquamarine;\" ><span class=\"arb\">ظَّٰلِمِينَ</span></span></span></span></span>"
      ],
      "text/plain": [
       "<IPython.core.display.HTML object>"
      ]
     },
     "metadata": {},
     "output_type": "display_data"
    }
   ],
   "source": [
    "highlights = {i: 'lightsalmon' for i in words if i % 2 == 0}\n",
    "highlights.update({i: 'mediumaquamarine' for i in words if i % 2 == 1})\n",
    "highlights.update({i: 'blue' for i in groups if i % 5 == 1})\n",
    "highlights[aya] = '#eeeeff'\n",
    "A.plain(aya, highlights=highlights)"
   ]
  },
  {
   "cell_type": "markdown",
   "metadata": {},
   "source": [
    "# Ayas\n",
    "\n",
    "Now a couple of ayas:"
   ]
  },
  {
   "cell_type": "code",
   "execution_count": 68,
   "metadata": {
    "ExecuteTime": {
     "end_time": "2018-04-25T13:57:50.369004Z",
     "start_time": "2018-04-25T13:57:50.363695Z"
    }
   },
   "outputs": [],
   "source": [
    "aya1 = A.nodeFromSectionStr('2:7')\n",
    "aya2 = A.nodeFromSectionStr('3:17')"
   ]
  },
  {
   "cell_type": "code",
   "execution_count": 69,
   "metadata": {
    "ExecuteTime": {
     "end_time": "2018-04-25T13:57:53.124725Z",
     "start_time": "2018-04-25T13:57:53.108960Z"
    }
   },
   "outputs": [
    {
     "data": {
      "text/html": [
       "<div class=\"outeritem\"><div class=\"aya   rtl \" >\n",
       "    <div class=\"vl\">\n",
       "        <div class=\"vrs\"><a href=\"http://tanzil.net/#3:17\" title=\"show this passage on Tanzil\" sec=\"3:17\">3:17</a></div>\n",
       "        \n",
       "        <div class=\"features\"></div>\n",
       "    </div>\n",
       "<div class=\"group   rtl \" ><div class=\"features\"></div><div class=\"word   rtl \" ><div class=\"ar\">ٱل</div><div class=\"features\"> <span class=\"pos\">determiner</span></div></div><div class=\"word   rtl \" ><div class=\"ar\">صَّٰبِرِينَ </div><div class=\"features\"> <span class=\"lemma\">SaAbir</span> <span class=\"root\">Sbr</span> <span class=\"pos\">noun</span> <span class=\"tense\">participle</span></div></div></div><div class=\"group   rtl \" ><div class=\"features\"></div><div class=\"word   rtl \" ><div class=\"ar\">وَ</div><div class=\"features\"> <span class=\"pos\">conjunction</span> <span class=\"posx\">coordinating</span></div></div><div class=\"word   rtl \" ><div class=\"ar\">ٱل</div><div class=\"features\"> <span class=\"pos\">determiner</span></div></div><div class=\"word   rtl \" ><div class=\"ar\">صَّٰدِقِينَ </div><div class=\"features\"> <span class=\"lemma\">SaAdiq</span> <span class=\"root\">Sdq</span> <span class=\"pos\">noun</span> <span class=\"tense\">participle</span></div></div></div><div class=\"group   rtl \" ><div class=\"features\"></div><div class=\"word   rtl \" ><div class=\"ar\">وَ</div><div class=\"features\"> <span class=\"pos\">conjunction</span> <span class=\"posx\">coordinating</span></div></div><div class=\"word   rtl \" ><div class=\"ar\">ٱلْ</div><div class=\"features\"> <span class=\"pos\">determiner</span></div></div><div class=\"word   rtl \" ><div class=\"ar\">قَٰنِتِينَ </div><div class=\"features\"> <span class=\"lemma\">qaAnit</span> <span class=\"root\">qnt</span> <span class=\"pos\">noun</span> <span class=\"tense\">participle</span></div></div></div><div class=\"group   rtl \" ><div class=\"features\"></div><div class=\"word   rtl \" ><div class=\"ar\">وَ</div><div class=\"features\"> <span class=\"pos\">conjunction</span> <span class=\"posx\">coordinating</span></div></div><div class=\"word   rtl \" ><div class=\"ar\">ٱلْ</div><div class=\"features\"> <span class=\"pos\">determiner</span></div></div><div class=\"word   rtl \" ><div class=\"ar\">مُنفِقِينَ </div><div class=\"features\"> <span class=\"lemma\">munfiqiyn</span> <span class=\"root\">nfq</span> <span class=\"pos\">noun</span> <span class=\"formation\">IV</span> <span class=\"tense\">participle</span></div></div></div><div class=\"group   rtl \" ><div class=\"features\"></div><div class=\"word   rtl \" ><div class=\"ar\">وَ</div><div class=\"features\"> <span class=\"pos\">conjunction</span> <span class=\"posx\">coordinating</span></div></div><div class=\"word   rtl \" ><div class=\"ar\">ٱلْ</div><div class=\"features\"> <span class=\"pos\">determiner</span></div></div><div class=\"word   rtl \" ><div class=\"ar\">مُسْتَغْفِرِينَ </div><div class=\"features\"> <span class=\"lemma\">musotagofiriyn</span> <span class=\"root\">gfr</span> <span class=\"pos\">noun</span> <span class=\"formation\">X</span> <span class=\"tense\">participle</span></div></div></div><div class=\"group   rtl \" ><div class=\"features\"></div><div class=\"word   rtl \" ><div class=\"ar\">بِ</div><div class=\"features\"> <span class=\"pos\">preposition</span></div></div><div class=\"word   rtl \" ><div class=\"ar\">ٱلْ</div><div class=\"features\"> <span class=\"pos\">determiner</span></div></div><div class=\"word   rtl \" ><div class=\"ar\">أَسْحَارِ</div><div class=\"features\"> <span class=\"lemma\">saHar</span> <span class=\"root\">sHr</span> <span class=\"pos\">noun</span></div></div></div></div></div>"
      ],
      "text/plain": [
       "<IPython.core.display.HTML object>"
      ]
     },
     "metadata": {},
     "output_type": "display_data"
    }
   ],
   "source": [
    "A.pretty(aya2)"
   ]
  },
  {
   "cell_type": "markdown",
   "metadata": {},
   "source": [
    "The other aya with node numbers."
   ]
  },
  {
   "cell_type": "code",
   "execution_count": 76,
   "metadata": {
    "ExecuteTime": {
     "end_time": "2018-04-25T13:58:01.798768Z",
     "start_time": "2018-04-25T13:58:01.787884Z"
    }
   },
   "outputs": [
    {
     "data": {
      "text/html": [
       "<div class=\"outeritem\"><div class=\"aya   rtl \" >\n",
       "    <div class=\"vl\">\n",
       "        <div class=\"vrs\"><a href=\"http://tanzil.net/#2:7\" title=\"show this passage on Tanzil\" sec=\"2:7\">2:7</a></div>\n",
       "        <span class=\"nd\">128233</span>\n",
       "        <div class=\"features\"></div>\n",
       "    </div>\n",
       "<div class=\"group   rtl \" ><span class=\"nd\">134532</span><div class=\"features\"></div><div class=\"word   rtl \" ><span class=\"nd\">131</span><div class=\"ar\">خَتَمَ </div><div class=\"features\"> <span class=\"lemma\">xatama</span> <span class=\"root\">xtm</span> <span class=\"pos\">verb</span> <span class=\"tense\">perfect</span></div></div></div><div class=\"group   rtl \" ><span class=\"nd\">134533</span><div class=\"features\"></div><div class=\"word   rtl \" ><span class=\"nd\">132</span><div class=\"ar\">ٱللَّهُ </div><div class=\"features\"> <span class=\"lemma\">{ll~ah</span> <span class=\"root\">Alh</span> <span class=\"pos\">noun</span> <span class=\"posx\">proper</span></div></div></div><div class=\"group   rtl \" ><span class=\"nd\">134534</span><div class=\"features\"></div><div class=\"word   rtl \" ><span class=\"nd\">133</span><div class=\"ar\">عَلَىٰ </div><div class=\"features\"> <span class=\"lemma\">EalaY`</span> <span class=\"pos\">preposition</span></div></div></div><div class=\"group   rtl \" ><span class=\"nd\">134535</span><div class=\"features\"></div><div class=\"word   rtl \" ><span class=\"nd\">134</span><div class=\"ar\">قُلُوبِ</div><div class=\"features\"> <span class=\"lemma\">qalob</span> <span class=\"root\">qlb</span> <span class=\"pos\">noun</span></div></div><div class=\"word   rtl \" ><span class=\"nd\">135</span><div class=\"ar\">هِمْ </div><div class=\"features\"> <span class=\"pos\">pronoun</span> <span class=\"posx\">personal</span></div></div></div><div class=\"group   rtl \" ><span class=\"nd\">134536</span><div class=\"features\"></div><div class=\"word   rtl \" ><span class=\"nd\">136</span><div class=\"ar\">وَ</div><div class=\"features\"> <span class=\"pos\">conjunction</span> <span class=\"posx\">coordinating</span></div></div><div class=\"word   rtl \" ><span class=\"nd\">137</span><div class=\"ar\">عَلَىٰ </div><div class=\"features\"> <span class=\"lemma\">EalaY`</span> <span class=\"pos\">preposition</span></div></div></div><div class=\"group   rtl \" ><span class=\"nd\">134537</span><div class=\"features\"></div><div class=\"word   rtl \" ><span class=\"nd\">138</span><div class=\"ar\">سَمْعِ</div><div class=\"features\"> <span class=\"lemma\">samoE</span> <span class=\"root\">smE</span> <span class=\"pos\">noun</span></div></div><div class=\"word   rtl \" ><span class=\"nd\">139</span><div class=\"ar\">هِمْ </div><div class=\"features\"> <span class=\"pos\">pronoun</span> <span class=\"posx\">personal</span></div></div></div><div class=\"group   rtl \" ><span class=\"nd\">134538</span><div class=\"features\"></div><div class=\"word   rtl \" ><span class=\"nd\">140</span><div class=\"ar\">وَ</div><div class=\"features\"> <span class=\"pos\">particle</span> <span class=\"posx\">resumption</span></div></div><div class=\"word   rtl \" ><span class=\"nd\">141</span><div class=\"ar\">عَلَىٰٓ </div><div class=\"features\"> <span class=\"lemma\">EalaY`</span> <span class=\"pos\">preposition</span></div></div></div><div class=\"group   rtl \" ><span class=\"nd\">134539</span><div class=\"features\"></div><div class=\"word   rtl \" ><span class=\"nd\">142</span><div class=\"ar\">أَبْصَٰرِ</div><div class=\"features\"> <span class=\"lemma\">baSar</span> <span class=\"root\">bSr</span> <span class=\"pos\">noun</span></div></div><div class=\"word   rtl \" ><span class=\"nd\">143</span><div class=\"ar\">هِمْ </div><div class=\"features\"> <span class=\"pos\">pronoun</span> <span class=\"posx\">personal</span></div></div></div><div class=\"group   rtl \" ><span class=\"nd\">134540</span><div class=\"features\"></div><div class=\"word   rtl \" ><span class=\"nd\">144</span><div class=\"ar\">غِشَٰوَةٌ </div><div class=\"features\"> <span class=\"lemma\">gi<span>$</span>a`wap</span> <span class=\"root\">g<span>$</span>w</span> <span class=\"pos\">noun</span></div></div></div><div class=\"group   rtl \" ><span class=\"nd\">134541</span><div class=\"features\"></div><div class=\"word   rtl \" ><span class=\"nd\">145</span><div class=\"ar\">وَ</div><div class=\"features\"> <span class=\"pos\">particle</span> <span class=\"posx\">resumption</span></div></div><div class=\"word   rtl \" ><span class=\"nd\">146</span><div class=\"ar\">لَ</div><div class=\"features\"> <span class=\"pos\">preposition</span></div></div><div class=\"word   rtl \" ><span class=\"nd\">147</span><div class=\"ar\">هُمْ </div><div class=\"features\"> <span class=\"pos\">pronoun</span> <span class=\"posx\">personal</span></div></div></div><div class=\"group   rtl \" ><span class=\"nd\">134542</span><div class=\"features\"></div><div class=\"word   rtl \" ><span class=\"nd\">148</span><div class=\"ar\">عَذَابٌ </div><div class=\"features\"> <span class=\"lemma\">Ea*aAb</span> <span class=\"root\">E*b</span> <span class=\"pos\">noun</span></div></div></div><div class=\"group   rtl \" ><span class=\"nd\">134543</span><div class=\"features\"></div><div class=\"word   rtl \" ><span class=\"nd\">149</span><div class=\"ar\">عَظِيمٌ</div><div class=\"features\"> <span class=\"lemma\">EaZiym</span> <span class=\"root\">EZm</span> <span class=\"pos\">adjective</span></div></div></div></div></div>"
      ],
      "text/plain": [
       "<IPython.core.display.HTML object>"
      ]
     },
     "metadata": {},
     "output_type": "display_data"
    }
   ],
   "source": [
    "A.pretty(aya1, withNodes=True)"
   ]
  },
  {
   "cell_type": "markdown",
   "metadata": {},
   "source": [
    "Now we selectively remove a few features from the display:"
   ]
  },
  {
   "cell_type": "code",
   "execution_count": 77,
   "metadata": {
    "ExecuteTime": {
     "end_time": "2018-04-25T13:58:07.808474Z",
     "start_time": "2018-04-25T13:58:07.784567Z"
    }
   },
   "outputs": [
    {
     "data": {
      "text/html": [
       "<div class=\"outeritem\"><div class=\"aya   rtl \" >\n",
       "    <div class=\"vl\">\n",
       "        <div class=\"vrs\"><a href=\"http://tanzil.net/#2:7\" title=\"show this passage on Tanzil\" sec=\"2:7\">2:7</a></div>\n",
       "        \n",
       "        <div class=\"features\"></div>\n",
       "    </div>\n",
       "<div class=\"group   rtl \" ><div class=\"features\"></div><div class=\"word   rtl \" ><div class=\"ar\">خَتَمَ </div><div class=\"features\"> <span class=\"lemma\">xatama</span> <span class=\"root\">xtm</span> <span class=\"pos\">verb</span></div></div></div><div class=\"group   rtl \" ><div class=\"features\"></div><div class=\"word   rtl \" ><div class=\"ar\">ٱللَّهُ </div><div class=\"features\"> <span class=\"lemma\">{ll~ah</span> <span class=\"root\">Alh</span> <span class=\"pos\">noun</span></div></div></div><div class=\"group   rtl \" ><div class=\"features\"></div><div class=\"word   rtl \" ><div class=\"ar\">عَلَىٰ </div><div class=\"features\"> <span class=\"lemma\">EalaY`</span> <span class=\"pos\">preposition</span></div></div></div><div class=\"group   rtl \" ><div class=\"features\"></div><div class=\"word   rtl \" ><div class=\"ar\">قُلُوبِ</div><div class=\"features\"> <span class=\"lemma\">qalob</span> <span class=\"root\">qlb</span> <span class=\"pos\">noun</span></div></div><div class=\"word   rtl \" ><div class=\"ar\">هِمْ </div><div class=\"features\"> <span class=\"pos\">pronoun</span></div></div></div><div class=\"group   rtl \" ><div class=\"features\"></div><div class=\"word   rtl \" ><div class=\"ar\">وَ</div><div class=\"features\"> <span class=\"pos\">conjunction</span></div></div><div class=\"word   rtl \" ><div class=\"ar\">عَلَىٰ </div><div class=\"features\"> <span class=\"lemma\">EalaY`</span> <span class=\"pos\">preposition</span></div></div></div><div class=\"group   rtl \" ><div class=\"features\"></div><div class=\"word   rtl \" ><div class=\"ar\">سَمْعِ</div><div class=\"features\"> <span class=\"lemma\">samoE</span> <span class=\"root\">smE</span> <span class=\"pos\">noun</span></div></div><div class=\"word   rtl \" ><div class=\"ar\">هِمْ </div><div class=\"features\"> <span class=\"pos\">pronoun</span></div></div></div><div class=\"group   rtl \" ><div class=\"features\"></div><div class=\"word   rtl \" ><div class=\"ar\">وَ</div><div class=\"features\"> <span class=\"pos\">particle</span></div></div><div class=\"word   rtl \" ><div class=\"ar\">عَلَىٰٓ </div><div class=\"features\"> <span class=\"lemma\">EalaY`</span> <span class=\"pos\">preposition</span></div></div></div><div class=\"group   rtl \" ><div class=\"features\"></div><div class=\"word   rtl \" ><div class=\"ar\">أَبْصَٰرِ</div><div class=\"features\"> <span class=\"lemma\">baSar</span> <span class=\"root\">bSr</span> <span class=\"pos\">noun</span></div></div><div class=\"word   rtl \" ><div class=\"ar\">هِمْ </div><div class=\"features\"> <span class=\"pos\">pronoun</span></div></div></div><div class=\"group   rtl \" ><div class=\"features\"></div><div class=\"word   rtl \" ><div class=\"ar\">غِشَٰوَةٌ </div><div class=\"features\"> <span class=\"lemma\">gi<span>$</span>a`wap</span> <span class=\"root\">g<span>$</span>w</span> <span class=\"pos\">noun</span></div></div></div><div class=\"group   rtl \" ><div class=\"features\"></div><div class=\"word   rtl \" ><div class=\"ar\">وَ</div><div class=\"features\"> <span class=\"pos\">particle</span></div></div><div class=\"word   rtl \" ><div class=\"ar\">لَ</div><div class=\"features\"> <span class=\"pos\">preposition</span></div></div><div class=\"word   rtl \" ><div class=\"ar\">هُمْ </div><div class=\"features\"> <span class=\"pos\">pronoun</span></div></div></div><div class=\"group   rtl \" ><div class=\"features\"></div><div class=\"word   rtl \" ><div class=\"ar\">عَذَابٌ </div><div class=\"features\"> <span class=\"lemma\">Ea*aAb</span> <span class=\"root\">E*b</span> <span class=\"pos\">noun</span></div></div></div><div class=\"group   rtl \" ><div class=\"features\"></div><div class=\"word   rtl \" ><div class=\"ar\">عَظِيمٌ</div><div class=\"features\"> <span class=\"lemma\">EaZiym</span> <span class=\"root\">EZm</span> <span class=\"pos\">adjective</span></div></div></div></div></div>"
      ],
      "text/plain": [
       "<IPython.core.display.HTML object>"
      ]
     },
     "metadata": {},
     "output_type": "display_data"
    }
   ],
   "source": [
    "A.pretty(aya1, suppress={'posx', 'tense'})"
   ]
  },
  {
   "cell_type": "markdown",
   "metadata": {},
   "source": [
    "Now we add features to the display: "
   ]
  },
  {
   "cell_type": "code",
   "execution_count": 78,
   "metadata": {},
   "outputs": [],
   "source": [
    "A.displaySetup(extraFeatures=['ps', 'nu', 'gn'])"
   ]
  },
  {
   "cell_type": "code",
   "execution_count": 79,
   "metadata": {},
   "outputs": [
    {
     "data": {
      "text/html": [
       "<div class=\"outeritem\"><div class=\"aya   rtl \" >\n",
       "    <div class=\"vl\">\n",
       "        <div class=\"vrs\"><a href=\"http://tanzil.net/#2:7\" title=\"show this passage on Tanzil\" sec=\"2:7\">2:7</a></div>\n",
       "        \n",
       "        <div class=\"features\"></div>\n",
       "    </div>\n",
       "<div class=\"group   rtl \" ><div class=\"features\"></div><div class=\"word   rtl \" ><div class=\"ar\">خَتَمَ </div><div class=\"features\"> <span class=\"lemma\">xatama</span> <span class=\"root\">xtm</span> <span class=\"pos\">verb</span> <span class=\"tense\">perfect</span> <span class=\"gn xft\"><span class=\"f\">gn=</span>m</span> <span class=\"nu xft\"><span class=\"f\">nu=</span>s</span> <span class=\"ps xft\"><span class=\"f\">ps=</span>3</span></div></div></div><div class=\"group   rtl \" ><div class=\"features\"></div><div class=\"word   rtl \" ><div class=\"ar\">ٱللَّهُ </div><div class=\"features\"> <span class=\"lemma\">{ll~ah</span> <span class=\"root\">Alh</span> <span class=\"pos\">noun</span> <span class=\"posx\">proper</span></div></div></div><div class=\"group   rtl \" ><div class=\"features\"></div><div class=\"word   rtl \" ><div class=\"ar\">عَلَىٰ </div><div class=\"features\"> <span class=\"lemma\">EalaY`</span> <span class=\"pos\">preposition</span></div></div></div><div class=\"group   rtl \" ><div class=\"features\"></div><div class=\"word   rtl \" ><div class=\"ar\">قُلُوبِ</div><div class=\"features\"> <span class=\"lemma\">qalob</span> <span class=\"root\">qlb</span> <span class=\"pos\">noun</span> <span class=\"gn xft\"><span class=\"f\">gn=</span>f</span> <span class=\"nu xft\"><span class=\"f\">nu=</span>p</span></div></div><div class=\"word   rtl \" ><div class=\"ar\">هِمْ </div><div class=\"features\"> <span class=\"pos\">pronoun</span> <span class=\"posx\">personal</span> <span class=\"gn xft\"><span class=\"f\">gn=</span>m</span> <span class=\"nu xft\"><span class=\"f\">nu=</span>p</span> <span class=\"ps xft\"><span class=\"f\">ps=</span>3</span></div></div></div><div class=\"group   rtl \" ><div class=\"features\"></div><div class=\"word   rtl \" ><div class=\"ar\">وَ</div><div class=\"features\"> <span class=\"pos\">conjunction</span> <span class=\"posx\">coordinating</span></div></div><div class=\"word   rtl \" ><div class=\"ar\">عَلَىٰ </div><div class=\"features\"> <span class=\"lemma\">EalaY`</span> <span class=\"pos\">preposition</span></div></div></div><div class=\"group   rtl \" ><div class=\"features\"></div><div class=\"word   rtl \" ><div class=\"ar\">سَمْعِ</div><div class=\"features\"> <span class=\"lemma\">samoE</span> <span class=\"root\">smE</span> <span class=\"pos\">noun</span> <span class=\"gn xft\"><span class=\"f\">gn=</span>m</span></div></div><div class=\"word   rtl \" ><div class=\"ar\">هِمْ </div><div class=\"features\"> <span class=\"pos\">pronoun</span> <span class=\"posx\">personal</span> <span class=\"gn xft\"><span class=\"f\">gn=</span>m</span> <span class=\"nu xft\"><span class=\"f\">nu=</span>p</span> <span class=\"ps xft\"><span class=\"f\">ps=</span>3</span></div></div></div><div class=\"group   rtl \" ><div class=\"features\"></div><div class=\"word   rtl \" ><div class=\"ar\">وَ</div><div class=\"features\"> <span class=\"pos\">particle</span> <span class=\"posx\">resumption</span></div></div><div class=\"word   rtl \" ><div class=\"ar\">عَلَىٰٓ </div><div class=\"features\"> <span class=\"lemma\">EalaY`</span> <span class=\"pos\">preposition</span></div></div></div><div class=\"group   rtl \" ><div class=\"features\"></div><div class=\"word   rtl \" ><div class=\"ar\">أَبْصَٰرِ</div><div class=\"features\"> <span class=\"lemma\">baSar</span> <span class=\"root\">bSr</span> <span class=\"pos\">noun</span> <span class=\"gn xft\"><span class=\"f\">gn=</span>m</span> <span class=\"nu xft\"><span class=\"f\">nu=</span>p</span></div></div><div class=\"word   rtl \" ><div class=\"ar\">هِمْ </div><div class=\"features\"> <span class=\"pos\">pronoun</span> <span class=\"posx\">personal</span> <span class=\"gn xft\"><span class=\"f\">gn=</span>m</span> <span class=\"nu xft\"><span class=\"f\">nu=</span>p</span> <span class=\"ps xft\"><span class=\"f\">ps=</span>3</span></div></div></div><div class=\"group   rtl \" ><div class=\"features\"></div><div class=\"word   rtl \" ><div class=\"ar\">غِشَٰوَةٌ </div><div class=\"features\"> <span class=\"lemma\">gi<span>$</span>a`wap</span> <span class=\"root\">g<span>$</span>w</span> <span class=\"pos\">noun</span> <span class=\"gn xft\"><span class=\"f\">gn=</span>f</span></div></div></div><div class=\"group   rtl \" ><div class=\"features\"></div><div class=\"word   rtl \" ><div class=\"ar\">وَ</div><div class=\"features\"> <span class=\"pos\">particle</span> <span class=\"posx\">resumption</span></div></div><div class=\"word   rtl \" ><div class=\"ar\">لَ</div><div class=\"features\"> <span class=\"pos\">preposition</span></div></div><div class=\"word   rtl \" ><div class=\"ar\">هُمْ </div><div class=\"features\"> <span class=\"pos\">pronoun</span> <span class=\"posx\">personal</span> <span class=\"gn xft\"><span class=\"f\">gn=</span>m</span> <span class=\"nu xft\"><span class=\"f\">nu=</span>p</span> <span class=\"ps xft\"><span class=\"f\">ps=</span>3</span></div></div></div><div class=\"group   rtl \" ><div class=\"features\"></div><div class=\"word   rtl \" ><div class=\"ar\">عَذَابٌ </div><div class=\"features\"> <span class=\"lemma\">Ea*aAb</span> <span class=\"root\">E*b</span> <span class=\"pos\">noun</span> <span class=\"gn xft\"><span class=\"f\">gn=</span>m</span></div></div></div><div class=\"group   rtl \" ><div class=\"features\"></div><div class=\"word   rtl \" ><div class=\"ar\">عَظِيمٌ</div><div class=\"features\"> <span class=\"lemma\">EaZiym</span> <span class=\"root\">EZm</span> <span class=\"pos\">adjective</span> <span class=\"gn xft\"><span class=\"f\">gn=</span>m</span> <span class=\"nu xft\"><span class=\"f\">nu=</span>s</span></div></div></div></div></div>"
      ],
      "text/plain": [
       "<IPython.core.display.HTML object>"
      ]
     },
     "metadata": {},
     "output_type": "display_data"
    }
   ],
   "source": [
    "A.pretty(aya1)"
   ]
  },
  {
   "cell_type": "markdown",
   "metadata": {},
   "source": [
    "and we reset the pretty features to the default values:"
   ]
  },
  {
   "cell_type": "code",
   "execution_count": 80,
   "metadata": {},
   "outputs": [],
   "source": [
    "A.displayReset('extraFeatures')"
   ]
  },
  {
   "cell_type": "code",
   "execution_count": 81,
   "metadata": {},
   "outputs": [
    {
     "data": {
      "text/html": [
       "<div class=\"outeritem\"><div class=\"aya   rtl \" >\n",
       "    <div class=\"vl\">\n",
       "        <div class=\"vrs\"><a href=\"http://tanzil.net/#2:7\" title=\"show this passage on Tanzil\" sec=\"2:7\">2:7</a></div>\n",
       "        \n",
       "        <div class=\"features\"></div>\n",
       "    </div>\n",
       "<div class=\"group   rtl \" ><div class=\"features\"></div><div class=\"word   rtl \" ><div class=\"ar\">خَتَمَ </div><div class=\"features\"> <span class=\"lemma\">xatama</span> <span class=\"root\">xtm</span> <span class=\"pos\">verb</span> <span class=\"tense\">perfect</span></div></div></div><div class=\"group   rtl \" ><div class=\"features\"></div><div class=\"word   rtl \" ><div class=\"ar\">ٱللَّهُ </div><div class=\"features\"> <span class=\"lemma\">{ll~ah</span> <span class=\"root\">Alh</span> <span class=\"pos\">noun</span> <span class=\"posx\">proper</span></div></div></div><div class=\"group   rtl \" ><div class=\"features\"></div><div class=\"word   rtl \" ><div class=\"ar\">عَلَىٰ </div><div class=\"features\"> <span class=\"lemma\">EalaY`</span> <span class=\"pos\">preposition</span></div></div></div><div class=\"group   rtl \" ><div class=\"features\"></div><div class=\"word   rtl \" ><div class=\"ar\">قُلُوبِ</div><div class=\"features\"> <span class=\"lemma\">qalob</span> <span class=\"root\">qlb</span> <span class=\"pos\">noun</span></div></div><div class=\"word   rtl \" ><div class=\"ar\">هِمْ </div><div class=\"features\"> <span class=\"pos\">pronoun</span> <span class=\"posx\">personal</span></div></div></div><div class=\"group   rtl \" ><div class=\"features\"></div><div class=\"word   rtl \" ><div class=\"ar\">وَ</div><div class=\"features\"> <span class=\"pos\">conjunction</span> <span class=\"posx\">coordinating</span></div></div><div class=\"word   rtl \" ><div class=\"ar\">عَلَىٰ </div><div class=\"features\"> <span class=\"lemma\">EalaY`</span> <span class=\"pos\">preposition</span></div></div></div><div class=\"group   rtl \" ><div class=\"features\"></div><div class=\"word   rtl \" ><div class=\"ar\">سَمْعِ</div><div class=\"features\"> <span class=\"lemma\">samoE</span> <span class=\"root\">smE</span> <span class=\"pos\">noun</span></div></div><div class=\"word   rtl \" ><div class=\"ar\">هِمْ </div><div class=\"features\"> <span class=\"pos\">pronoun</span> <span class=\"posx\">personal</span></div></div></div><div class=\"group   rtl \" ><div class=\"features\"></div><div class=\"word   rtl \" ><div class=\"ar\">وَ</div><div class=\"features\"> <span class=\"pos\">particle</span> <span class=\"posx\">resumption</span></div></div><div class=\"word   rtl \" ><div class=\"ar\">عَلَىٰٓ </div><div class=\"features\"> <span class=\"lemma\">EalaY`</span> <span class=\"pos\">preposition</span></div></div></div><div class=\"group   rtl \" ><div class=\"features\"></div><div class=\"word   rtl \" ><div class=\"ar\">أَبْصَٰرِ</div><div class=\"features\"> <span class=\"lemma\">baSar</span> <span class=\"root\">bSr</span> <span class=\"pos\">noun</span></div></div><div class=\"word   rtl \" ><div class=\"ar\">هِمْ </div><div class=\"features\"> <span class=\"pos\">pronoun</span> <span class=\"posx\">personal</span></div></div></div><div class=\"group   rtl \" ><div class=\"features\"></div><div class=\"word   rtl \" ><div class=\"ar\">غِشَٰوَةٌ </div><div class=\"features\"> <span class=\"lemma\">gi<span>$</span>a`wap</span> <span class=\"root\">g<span>$</span>w</span> <span class=\"pos\">noun</span></div></div></div><div class=\"group   rtl \" ><div class=\"features\"></div><div class=\"word   rtl \" ><div class=\"ar\">وَ</div><div class=\"features\"> <span class=\"pos\">particle</span> <span class=\"posx\">resumption</span></div></div><div class=\"word   rtl \" ><div class=\"ar\">لَ</div><div class=\"features\"> <span class=\"pos\">preposition</span></div></div><div class=\"word   rtl \" ><div class=\"ar\">هُمْ </div><div class=\"features\"> <span class=\"pos\">pronoun</span> <span class=\"posx\">personal</span></div></div></div><div class=\"group   rtl \" ><div class=\"features\"></div><div class=\"word   rtl \" ><div class=\"ar\">عَذَابٌ </div><div class=\"features\"> <span class=\"lemma\">Ea*aAb</span> <span class=\"root\">E*b</span> <span class=\"pos\">noun</span></div></div></div><div class=\"group   rtl \" ><div class=\"features\"></div><div class=\"word   rtl \" ><div class=\"ar\">عَظِيمٌ</div><div class=\"features\"> <span class=\"lemma\">EaZiym</span> <span class=\"root\">EZm</span> <span class=\"pos\">adjective</span></div></div></div></div></div>"
      ],
      "text/plain": [
       "<IPython.core.display.HTML object>"
      ]
     },
     "metadata": {},
     "output_type": "display_data"
    }
   ],
   "source": [
    "A.pretty(aya1)"
   ]
  },
  {
   "cell_type": "code",
   "execution_count": 82,
   "metadata": {},
   "outputs": [],
   "source": [
    "A.displaySetup(extraFeatures=['translation@en', 'translation@nl'])"
   ]
  },
  {
   "cell_type": "code",
   "execution_count": 83,
   "metadata": {},
   "outputs": [
    {
     "data": {
      "text/html": [
       "<div class=\"outeritem\"><div class=\"aya   rtl \" >\n",
       "    <div class=\"vl\">\n",
       "        <div class=\"vrs\"><a href=\"http://tanzil.net/#2:7\" title=\"show this passage on Tanzil\" sec=\"2:7\">2:7</a></div>\n",
       "        \n",
       "        <div class=\"features\"> <span class=\"translation@en xft\"><span class=\"f\">translation@en=</span>God has set a seal on their hearts and on their hearing, and on their eyes is a covering, and there awaits them a mighty chastisement.</span> <span class=\"translation@nl xft\"><span class=\"f\">translation@nl=</span>God heeft hun harten en hun gehoor verzegeld en over hun ogen is een sluier; voor hen is er een geweldige bestraffing.</span></div>\n",
       "    </div>\n",
       "<div class=\"group   rtl \" ><div class=\"features\"></div><div class=\"word   rtl \" ><div class=\"ar\">خَتَمَ </div><div class=\"features\"> <span class=\"lemma\">xatama</span> <span class=\"root\">xtm</span> <span class=\"pos\">verb</span> <span class=\"tense\">perfect</span></div></div></div><div class=\"group   rtl \" ><div class=\"features\"></div><div class=\"word   rtl \" ><div class=\"ar\">ٱللَّهُ </div><div class=\"features\"> <span class=\"lemma\">{ll~ah</span> <span class=\"root\">Alh</span> <span class=\"pos\">noun</span> <span class=\"posx\">proper</span></div></div></div><div class=\"group   rtl \" ><div class=\"features\"></div><div class=\"word   rtl \" ><div class=\"ar\">عَلَىٰ </div><div class=\"features\"> <span class=\"lemma\">EalaY`</span> <span class=\"pos\">preposition</span></div></div></div><div class=\"group   rtl \" ><div class=\"features\"></div><div class=\"word   rtl \" ><div class=\"ar\">قُلُوبِ</div><div class=\"features\"> <span class=\"lemma\">qalob</span> <span class=\"root\">qlb</span> <span class=\"pos\">noun</span></div></div><div class=\"word   rtl \" ><div class=\"ar\">هِمْ </div><div class=\"features\"> <span class=\"pos\">pronoun</span> <span class=\"posx\">personal</span></div></div></div><div class=\"group   rtl \" ><div class=\"features\"></div><div class=\"word   rtl \" ><div class=\"ar\">وَ</div><div class=\"features\"> <span class=\"pos\">conjunction</span> <span class=\"posx\">coordinating</span></div></div><div class=\"word   rtl \" ><div class=\"ar\">عَلَىٰ </div><div class=\"features\"> <span class=\"lemma\">EalaY`</span> <span class=\"pos\">preposition</span></div></div></div><div class=\"group   rtl \" ><div class=\"features\"></div><div class=\"word   rtl \" ><div class=\"ar\">سَمْعِ</div><div class=\"features\"> <span class=\"lemma\">samoE</span> <span class=\"root\">smE</span> <span class=\"pos\">noun</span></div></div><div class=\"word   rtl \" ><div class=\"ar\">هِمْ </div><div class=\"features\"> <span class=\"pos\">pronoun</span> <span class=\"posx\">personal</span></div></div></div><div class=\"group   rtl \" ><div class=\"features\"></div><div class=\"word   rtl \" ><div class=\"ar\">وَ</div><div class=\"features\"> <span class=\"pos\">particle</span> <span class=\"posx\">resumption</span></div></div><div class=\"word   rtl \" ><div class=\"ar\">عَلَىٰٓ </div><div class=\"features\"> <span class=\"lemma\">EalaY`</span> <span class=\"pos\">preposition</span></div></div></div><div class=\"group   rtl \" ><div class=\"features\"></div><div class=\"word   rtl \" ><div class=\"ar\">أَبْصَٰرِ</div><div class=\"features\"> <span class=\"lemma\">baSar</span> <span class=\"root\">bSr</span> <span class=\"pos\">noun</span></div></div><div class=\"word   rtl \" ><div class=\"ar\">هِمْ </div><div class=\"features\"> <span class=\"pos\">pronoun</span> <span class=\"posx\">personal</span></div></div></div><div class=\"group   rtl \" ><div class=\"features\"></div><div class=\"word   rtl \" ><div class=\"ar\">غِشَٰوَةٌ </div><div class=\"features\"> <span class=\"lemma\">gi<span>$</span>a`wap</span> <span class=\"root\">g<span>$</span>w</span> <span class=\"pos\">noun</span></div></div></div><div class=\"group   rtl \" ><div class=\"features\"></div><div class=\"word   rtl \" ><div class=\"ar\">وَ</div><div class=\"features\"> <span class=\"pos\">particle</span> <span class=\"posx\">resumption</span></div></div><div class=\"word   rtl \" ><div class=\"ar\">لَ</div><div class=\"features\"> <span class=\"pos\">preposition</span></div></div><div class=\"word   rtl \" ><div class=\"ar\">هُمْ </div><div class=\"features\"> <span class=\"pos\">pronoun</span> <span class=\"posx\">personal</span></div></div></div><div class=\"group   rtl \" ><div class=\"features\"></div><div class=\"word   rtl \" ><div class=\"ar\">عَذَابٌ </div><div class=\"features\"> <span class=\"lemma\">Ea*aAb</span> <span class=\"root\">E*b</span> <span class=\"pos\">noun</span></div></div></div><div class=\"group   rtl \" ><div class=\"features\"></div><div class=\"word   rtl \" ><div class=\"ar\">عَظِيمٌ</div><div class=\"features\"> <span class=\"lemma\">EaZiym</span> <span class=\"root\">EZm</span> <span class=\"pos\">adjective</span></div></div></div></div></div>"
      ],
      "text/plain": [
       "<IPython.core.display.HTML object>"
      ]
     },
     "metadata": {},
     "output_type": "display_data"
    }
   ],
   "source": [
    "A.pretty(aya1)"
   ]
  },
  {
   "cell_type": "markdown",
   "metadata": {},
   "source": [
    "# Translations in pretty display\n",
    "\n",
    "We can add the translation features `translation@ll` for `ll = en` or `nl` to the extra features for pretty display.\n",
    "Let's pretty display the first sura with both translations."
   ]
  },
  {
   "cell_type": "code",
   "execution_count": 84,
   "metadata": {},
   "outputs": [],
   "source": [
    "sura1 = F.otype.s('sura')[0]"
   ]
  },
  {
   "cell_type": "code",
   "execution_count": 85,
   "metadata": {},
   "outputs": [
    {
     "data": {
      "text/html": [
       "<div class=\"outeritem\"><div class=\"sura   rtl \" >\n",
       "    <div class=\"vl\">\n",
       "        <div class=\"vrs\"><a href=\"http://tanzil.net/#1:1\" title=\"show this passage on Tanzil\" sec=\"1\">1</a></div>\n",
       "        \n",
       "        <div class=\"features\"></div>\n",
       "    </div>\n",
       "</div></div>"
      ],
      "text/plain": [
       "<IPython.core.display.HTML object>"
      ]
     },
     "metadata": {},
     "output_type": "display_data"
    }
   ],
   "source": [
    "A.pretty(sura1)"
   ]
  },
  {
   "cell_type": "markdown",
   "metadata": {},
   "source": [
    "That is a bit meager. The reason is that the *sura* is a **big** type, i.e. bigger than the default *condenseType*, which is the *aya*.\n",
    "\n",
    "If we want a complete display of a sura, we have to pass a big enough `condenseType` to `pretty()`:"
   ]
  },
  {
   "cell_type": "code",
   "execution_count": 86,
   "metadata": {},
   "outputs": [
    {
     "data": {
      "text/html": [
       "<div class=\"outeritem\"><div class=\"sura   rtl \" >\n",
       "    <div class=\"vl\">\n",
       "        <div class=\"vrs\"><a href=\"http://tanzil.net/#1:1\" title=\"show this passage on Tanzil\" sec=\"1\">1</a></div>\n",
       "        \n",
       "        <div class=\"features\"></div>\n",
       "    </div>\n",
       "<div class=\"aya   rtl \" >\n",
       "    <div class=\"vl\">\n",
       "        <div class=\"vrs\"><a href=\"http://tanzil.net/#1:1\" title=\"show this passage on Tanzil\" sec=\"1:1\">1:1</a></div>\n",
       "        \n",
       "        <div class=\"features\"> <span class=\"translation@en xft\"><span class=\"f\">translation@en=</span>In the Name of God, the Merciful, the Compassionate</span> <span class=\"translation@nl xft\"><span class=\"f\">translation@nl=</span>In de naam van God, de erbarmer, de barmhartige.</span></div>\n",
       "    </div>\n",
       "<div class=\"group   rtl \" ><div class=\"features\"></div><div class=\"word   rtl \" ><div class=\"ar\">بِ</div><div class=\"features\"> <span class=\"pos\">preposition</span></div></div><div class=\"word   rtl \" ><div class=\"ar\">سْمِ </div><div class=\"features\"> <span class=\"lemma\">{som</span> <span class=\"root\">smw</span> <span class=\"pos\">noun</span></div></div></div><div class=\"group   rtl \" ><div class=\"features\"></div><div class=\"word   rtl \" ><div class=\"ar\">ٱللَّهِ </div><div class=\"features\"> <span class=\"lemma\">{ll~ah</span> <span class=\"root\">Alh</span> <span class=\"pos\">noun</span> <span class=\"posx\">proper</span></div></div></div><div class=\"group   rtl \" ><div class=\"features\"></div><div class=\"word   rtl \" ><div class=\"ar\">ٱل</div><div class=\"features\"> <span class=\"pos\">determiner</span></div></div><div class=\"word   rtl \" ><div class=\"ar\">رَّحْمَٰنِ </div><div class=\"features\"> <span class=\"lemma\">r~aHoma`n</span> <span class=\"root\">rHm</span> <span class=\"pos\">adjective</span></div></div></div><div class=\"group   rtl \" ><div class=\"features\"></div><div class=\"word   rtl \" ><div class=\"ar\">ٱل</div><div class=\"features\"> <span class=\"pos\">determiner</span></div></div><div class=\"word   rtl \" ><div class=\"ar\">رَّحِيمِ</div><div class=\"features\"> <span class=\"lemma\">r~aHiym</span> <span class=\"root\">rHm</span> <span class=\"pos\">adjective</span></div></div></div></div><div class=\"aya   rtl \" >\n",
       "    <div class=\"vl\">\n",
       "        <div class=\"vrs\"><a href=\"http://tanzil.net/#1:2\" title=\"show this passage on Tanzil\" sec=\"1:2\">1:2</a></div>\n",
       "        \n",
       "        <div class=\"features\"> <span class=\"translation@en xft\"><span class=\"f\">translation@en=</span>Praise belongs to God, the Lord of all Being,</span> <span class=\"translation@nl xft\"><span class=\"f\">translation@nl=</span>Lof zij God, de Heer van de wereldbewoners,</span></div>\n",
       "    </div>\n",
       "<div class=\"group   rtl \" ><div class=\"features\"></div><div class=\"word   rtl \" ><div class=\"ar\">ٱلْ</div><div class=\"features\"> <span class=\"pos\">determiner</span></div></div><div class=\"word   rtl \" ><div class=\"ar\">حَمْدُ </div><div class=\"features\"> <span class=\"lemma\">Hamod</span> <span class=\"root\">Hmd</span> <span class=\"pos\">noun</span></div></div></div><div class=\"group   rtl \" ><div class=\"features\"></div><div class=\"word   rtl \" ><div class=\"ar\">لِ</div><div class=\"features\"> <span class=\"pos\">preposition</span></div></div><div class=\"word   rtl \" ><div class=\"ar\">لَّهِ </div><div class=\"features\"> <span class=\"lemma\">{ll~ah</span> <span class=\"root\">Alh</span> <span class=\"pos\">noun</span> <span class=\"posx\">proper</span></div></div></div><div class=\"group   rtl \" ><div class=\"features\"></div><div class=\"word   rtl \" ><div class=\"ar\">رَبِّ </div><div class=\"features\"> <span class=\"lemma\">rab~</span> <span class=\"root\">rbb</span> <span class=\"pos\">noun</span></div></div></div><div class=\"group   rtl \" ><div class=\"features\"></div><div class=\"word   rtl \" ><div class=\"ar\">ٱلْ</div><div class=\"features\"> <span class=\"pos\">determiner</span></div></div><div class=\"word   rtl \" ><div class=\"ar\">عَٰلَمِينَ</div><div class=\"features\"> <span class=\"lemma\">Ea`lamiyn</span> <span class=\"root\">Elm</span> <span class=\"pos\">noun</span></div></div></div></div><div class=\"aya   rtl \" >\n",
       "    <div class=\"vl\">\n",
       "        <div class=\"vrs\"><a href=\"http://tanzil.net/#1:3\" title=\"show this passage on Tanzil\" sec=\"1:3\">1:3</a></div>\n",
       "        \n",
       "        <div class=\"features\"> <span class=\"translation@en xft\"><span class=\"f\">translation@en=</span>the All-merciful, the All-compassionate,</span> <span class=\"translation@nl xft\"><span class=\"f\">translation@nl=</span>de erbarmer, de barmhartige,</span></div>\n",
       "    </div>\n",
       "<div class=\"group   rtl \" ><div class=\"features\"></div><div class=\"word   rtl \" ><div class=\"ar\">ٱل</div><div class=\"features\"> <span class=\"pos\">determiner</span></div></div><div class=\"word   rtl \" ><div class=\"ar\">رَّحْمَٰنِ </div><div class=\"features\"> <span class=\"lemma\">r~aHoma`n</span> <span class=\"root\">rHm</span> <span class=\"pos\">adjective</span></div></div></div><div class=\"group   rtl \" ><div class=\"features\"></div><div class=\"word   rtl \" ><div class=\"ar\">ٱل</div><div class=\"features\"> <span class=\"pos\">determiner</span></div></div><div class=\"word   rtl \" ><div class=\"ar\">رَّحِيمِ</div><div class=\"features\"> <span class=\"lemma\">r~aHiym</span> <span class=\"root\">rHm</span> <span class=\"pos\">adjective</span></div></div></div></div><div class=\"aya   rtl \" >\n",
       "    <div class=\"vl\">\n",
       "        <div class=\"vrs\"><a href=\"http://tanzil.net/#1:4\" title=\"show this passage on Tanzil\" sec=\"1:4\">1:4</a></div>\n",
       "        \n",
       "        <div class=\"features\"> <span class=\"translation@en xft\"><span class=\"f\">translation@en=</span>the Master of the Day of Doom.</span> <span class=\"translation@nl xft\"><span class=\"f\">translation@nl=</span>de heerser op de oordeelsdag.</span></div>\n",
       "    </div>\n",
       "<div class=\"group   rtl \" ><div class=\"features\"></div><div class=\"word   rtl \" ><div class=\"ar\">مَٰلِكِ </div><div class=\"features\"> <span class=\"lemma\">ma`lik</span> <span class=\"root\">mlk</span> <span class=\"pos\">noun</span> <span class=\"tense\">participle</span></div></div></div><div class=\"group   rtl \" ><div class=\"features\"></div><div class=\"word   rtl \" ><div class=\"ar\">يَوْمِ </div><div class=\"features\"> <span class=\"lemma\">yawom</span> <span class=\"root\">ywm</span> <span class=\"pos\">noun</span></div></div></div><div class=\"group   rtl \" ><div class=\"features\"></div><div class=\"word   rtl \" ><div class=\"ar\">ٱل</div><div class=\"features\"> <span class=\"pos\">determiner</span></div></div><div class=\"word   rtl \" ><div class=\"ar\">دِّينِ</div><div class=\"features\"> <span class=\"lemma\">diyn</span> <span class=\"root\">dyn</span> <span class=\"pos\">noun</span></div></div></div></div><div class=\"aya   rtl \" >\n",
       "    <div class=\"vl\">\n",
       "        <div class=\"vrs\"><a href=\"http://tanzil.net/#1:5\" title=\"show this passage on Tanzil\" sec=\"1:5\">1:5</a></div>\n",
       "        \n",
       "        <div class=\"features\"> <span class=\"translation@en xft\"><span class=\"f\">translation@en=</span>Thee only we serve; to Thee alone we pray for succour.</span> <span class=\"translation@nl xft\"><span class=\"f\">translation@nl=</span>U dienen wij en U vragen wij om hulp.</span></div>\n",
       "    </div>\n",
       "<div class=\"group   rtl \" ><div class=\"features\"></div><div class=\"word   rtl \" ><div class=\"ar\">إِيَّاكَ </div><div class=\"features\"> <span class=\"lemma\">&lt;iy~aA</span> <span class=\"pos\">pronoun</span> <span class=\"posx\">personal</span></div></div></div><div class=\"group   rtl \" ><div class=\"features\"></div><div class=\"word   rtl \" ><div class=\"ar\">نَعْبُدُ </div><div class=\"features\"> <span class=\"lemma\">Eabada</span> <span class=\"root\">Ebd</span> <span class=\"pos\">verb</span> <span class=\"tense\">imperfect</span></div></div></div><div class=\"group   rtl \" ><div class=\"features\"></div><div class=\"word   rtl \" ><div class=\"ar\">وَ</div><div class=\"features\"> <span class=\"pos\">conjunction</span> <span class=\"posx\">coordinating</span></div></div><div class=\"word   rtl \" ><div class=\"ar\">إِيَّاكَ </div><div class=\"features\"> <span class=\"lemma\">&lt;iy~aA</span> <span class=\"pos\">pronoun</span> <span class=\"posx\">personal</span></div></div></div><div class=\"group   rtl \" ><div class=\"features\"></div><div class=\"word   rtl \" ><div class=\"ar\">نَسْتَعِينُ</div><div class=\"features\"> <span class=\"lemma\">{sotaEiynu</span> <span class=\"root\">Ewn</span> <span class=\"pos\">verb</span> <span class=\"formation\">X</span> <span class=\"tense\">imperfect</span></div></div></div></div><div class=\"aya   rtl \" >\n",
       "    <div class=\"vl\">\n",
       "        <div class=\"vrs\"><a href=\"http://tanzil.net/#1:6\" title=\"show this passage on Tanzil\" sec=\"1:6\">1:6</a></div>\n",
       "        \n",
       "        <div class=\"features\"> <span class=\"translation@en xft\"><span class=\"f\">translation@en=</span>Guide us in the straight path,</span> <span class=\"translation@nl xft\"><span class=\"f\">translation@nl=</span>Leid ons op de juiste weg,</span></div>\n",
       "    </div>\n",
       "<div class=\"group   rtl \" ><div class=\"features\"></div><div class=\"word   rtl \" ><div class=\"ar\">ٱهْدِ</div><div class=\"features\"> <span class=\"lemma\">hadaY</span> <span class=\"root\">hdy</span> <span class=\"pos\">verb</span> <span class=\"tense\">imperative</span></div></div><div class=\"word   rtl \" ><div class=\"ar\">نَا </div><div class=\"features\"> <span class=\"pos\">pronoun</span> <span class=\"posx\">personal</span></div></div></div><div class=\"group   rtl \" ><div class=\"features\"></div><div class=\"word   rtl \" ><div class=\"ar\">ٱل</div><div class=\"features\"> <span class=\"pos\">determiner</span></div></div><div class=\"word   rtl \" ><div class=\"ar\">صِّرَٰطَ </div><div class=\"features\"> <span class=\"lemma\">Sira`T</span> <span class=\"root\">SrT</span> <span class=\"pos\">noun</span></div></div></div><div class=\"group   rtl \" ><div class=\"features\"></div><div class=\"word   rtl \" ><div class=\"ar\">ٱلْ</div><div class=\"features\"> <span class=\"pos\">determiner</span></div></div><div class=\"word   rtl \" ><div class=\"ar\">مُسْتَقِيمَ</div><div class=\"features\"> <span class=\"lemma\">m~usotaqiym</span> <span class=\"root\">qwm</span> <span class=\"pos\">adjective</span> <span class=\"formation\">X</span> <span class=\"tense\">participle</span></div></div></div></div><div class=\"aya   rtl \" >\n",
       "    <div class=\"vl\">\n",
       "        <div class=\"vrs\"><a href=\"http://tanzil.net/#1:7\" title=\"show this passage on Tanzil\" sec=\"1:7\">1:7</a></div>\n",
       "        \n",
       "        <div class=\"features\"> <span class=\"translation@en xft\"><span class=\"f\">translation@en=</span>the path of those whom Thou hast blessed, not of those against whom Thou art wrathful, nor of those who are astray.</span> <span class=\"translation@nl xft\"><span class=\"f\">translation@nl=</span>de weg van hen aan wie U genade geschonken hebt, op wie geen toorn rust en die niet dwalen.</span></div>\n",
       "    </div>\n",
       "<div class=\"group   rtl \" ><div class=\"features\"></div><div class=\"word   rtl \" ><div class=\"ar\">صِرَٰطَ </div><div class=\"features\"> <span class=\"lemma\">Sira`T</span> <span class=\"root\">SrT</span> <span class=\"pos\">noun</span></div></div></div><div class=\"group   rtl \" ><div class=\"features\"></div><div class=\"word   rtl \" ><div class=\"ar\">ٱلَّذِينَ </div><div class=\"features\"> <span class=\"lemma\">{l~a*iY</span> <span class=\"pos\">pronoun</span> <span class=\"posx\">relative</span></div></div></div><div class=\"group   rtl \" ><div class=\"features\"></div><div class=\"word   rtl \" ><div class=\"ar\">أَنْعَمْ</div><div class=\"features\"> <span class=\"lemma\">>anoEama</span> <span class=\"root\">nEm</span> <span class=\"pos\">verb</span> <span class=\"formation\">IV</span> <span class=\"tense\">perfect</span></div></div><div class=\"word   rtl \" ><div class=\"ar\">تَ </div><div class=\"features\"> <span class=\"pos\">pronoun</span> <span class=\"posx\">personal</span></div></div></div><div class=\"group   rtl \" ><div class=\"features\"></div><div class=\"word   rtl \" ><div class=\"ar\">عَلَيْ</div><div class=\"features\"> <span class=\"lemma\">EalaY`</span> <span class=\"pos\">preposition</span></div></div><div class=\"word   rtl \" ><div class=\"ar\">هِمْ </div><div class=\"features\"> <span class=\"pos\">pronoun</span> <span class=\"posx\">personal</span></div></div></div><div class=\"group   rtl \" ><div class=\"features\"></div><div class=\"word   rtl \" ><div class=\"ar\">غَيْرِ </div><div class=\"features\"> <span class=\"lemma\">gayor</span> <span class=\"root\">gyr</span> <span class=\"pos\">noun</span></div></div></div><div class=\"group   rtl \" ><div class=\"features\"></div><div class=\"word   rtl \" ><div class=\"ar\">ٱلْ</div><div class=\"features\"> <span class=\"pos\">determiner</span></div></div><div class=\"word   rtl \" ><div class=\"ar\">مَغْضُوبِ </div><div class=\"features\"> <span class=\"lemma\">magoDuwb</span> <span class=\"root\">gDb</span> <span class=\"pos\">noun</span> <span class=\"tense\">participle</span></div></div></div><div class=\"group   rtl \" ><div class=\"features\"></div><div class=\"word   rtl \" ><div class=\"ar\">عَلَيْ</div><div class=\"features\"> <span class=\"lemma\">EalaY`</span> <span class=\"pos\">preposition</span></div></div><div class=\"word   rtl \" ><div class=\"ar\">هِمْ </div><div class=\"features\"> <span class=\"pos\">pronoun</span> <span class=\"posx\">personal</span></div></div></div><div class=\"group   rtl \" ><div class=\"features\"></div><div class=\"word   rtl \" ><div class=\"ar\">وَ</div><div class=\"features\"> <span class=\"pos\">conjunction</span> <span class=\"posx\">coordinating</span></div></div><div class=\"word   rtl \" ><div class=\"ar\">لَا </div><div class=\"features\"> <span class=\"lemma\">laA</span> <span class=\"pos\">particle</span> <span class=\"posx\">negative</span></div></div></div><div class=\"group   rtl \" ><div class=\"features\"></div><div class=\"word   rtl \" ><div class=\"ar\">ٱل</div><div class=\"features\"> <span class=\"pos\">determiner</span></div></div><div class=\"word   rtl \" ><div class=\"ar\">ضَّآلِّينَ</div><div class=\"features\"> <span class=\"lemma\">DaA^l~</span> <span class=\"root\">Dll</span> <span class=\"pos\">noun</span> <span class=\"tense\">participle</span></div></div></div></div></div></div>"
      ],
      "text/plain": [
       "<IPython.core.display.HTML object>"
      ]
     },
     "metadata": {},
     "output_type": "display_data"
    }
   ],
   "source": [
    "A.pretty(sura1, condenseType='sura')"
   ]
  },
  {
   "cell_type": "markdown",
   "metadata": {},
   "source": [
    "---\n",
    "\n",
    "All chapters:\n",
    "\n",
    "* **[start](start.ipynb)** introduction to computing with your corpus\n",
    "* **display** become an expert in creating pretty displays of your text structures\n",
    "* **[search](search.ipynb)** turbo charge your hand-coding with search templates\n",
    "* **[exportExcel](exportExcel.ipynb)** make tailor-made spreadsheets out of your results\n",
    "* **[share](share.ipynb)** draw in other people's data and let them use yours\n",
    "* **[similarAyas](similarAyas.ipynb)** spot the similarities between lines\n",
    "* **[rings](rings.ipynb)** ring structures in sura 2"
   ]
  }
 ],
 "metadata": {
  "kernelspec": {
   "display_name": "Python 3",
   "language": "python",
   "name": "python3"
  },
  "language_info": {
   "codemirror_mode": {
    "name": "ipython",
    "version": 3
   },
   "file_extension": ".py",
   "mimetype": "text/x-python",
   "name": "python",
   "nbconvert_exporter": "python",
   "pygments_lexer": "ipython3",
   "version": "3.7.7"
  },
  "toc": {
   "base_numbering": 1,
   "nav_menu": {},
   "number_sections": true,
   "sideBar": true,
   "skip_h1_title": true,
   "title_cell": "Table of Contents",
   "title_sidebar": "Contents",
   "toc_cell": true,
   "toc_position": {},
   "toc_section_display": "block",
   "toc_window_display": false
  }
 },
 "nbformat": 4,
 "nbformat_minor": 4
}
