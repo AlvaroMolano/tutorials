{
 "cells": [
  {
   "cell_type": "markdown",
   "metadata": {},
   "source": [
    "<img align=\"right\" src=\"images/tf.png\" width=\"128\"/>\n",
    "<img align=\"right\" src=\"images/uu-small.png\" width=\"128\"/>\n",
    "<img align=\"right\" src=\"images/dans.png\" width=\"128\"/>\n",
    "\n",
    "---\n",
    "\n",
    "To get started: consult [start](start.ipynb)\n",
    "\n",
    "---\n",
    "\n",
    "# Rich display\n",
    "\n",
    "The apps of Text-Fabric know more about a corpus than vanilla TF.\n",
    "That knowledge is used by the apps to define pretty and plain displays of textual objects.\n",
    "\n",
    "A **plain** display of an object is a simple reference to that object if it is big, or the text of that object if it is small.\n",
    "\n",
    "A **pretty** display of an object is a representation of the structure of that object. It contains text and features of sub objects.\n",
    "Provided the object is not too big."
   ]
  },
  {
   "cell_type": "code",
   "execution_count": 1,
   "metadata": {},
   "outputs": [],
   "source": [
    "%load_ext autoreload\n",
    "%autoreload 2"
   ]
  },
  {
   "cell_type": "code",
   "execution_count": 2,
   "metadata": {
    "ExecuteTime": {
     "end_time": "2018-05-24T10:06:39.818664Z",
     "start_time": "2018-05-24T10:06:39.796588Z"
    }
   },
   "outputs": [],
   "source": [
    "from tf.app import use"
   ]
  },
  {
   "cell_type": "code",
   "execution_count": 30,
   "metadata": {
    "ExecuteTime": {
     "end_time": "2018-05-24T10:06:51.615044Z",
     "start_time": "2018-05-24T10:06:50.161456Z"
    }
   },
   "outputs": [
    {
     "name": "stdout",
     "output_type": "stream",
     "text": [
      "rate limit is 5000 requests per hour, with 4670 left for this hour\n",
      "\tconnecting to online GitHub repo annotation/app-quran ... connected\n",
      "Using TF-app in /Users/dirk/text-fabric-data/annotation/app-quran/code:\n",
      "\trv2.0.0=#7ed05405acfec44765b15b6e0cb8325bded2db27 (latest release)\n",
      "rate limit is 5000 requests per hour, with 4665 left for this hour\n",
      "\tconnecting to online GitHub repo q-ran/quran ... connected\n",
      "Using data in /Users/dirk/text-fabric-data/q-ran/quran/tf/0.4:\n",
      "\trv0.5=#60bd6788dadb13974e89df55cde7687c0593e65f (latest release)\n"
     ]
    },
    {
     "data": {
      "text/html": [
       "<b>Documentation:</b> <a target=\"_blank\" href=\"https://github.com/q-ran/quran/blob/master/docs/features.md\" title=\"provenance of Quran\">QURAN</a> <a target=\"_blank\" href=\"https://annotation.github.io/text-fabric/Writing/Transcription/Arabic\" title=\"How TF features represent text\">Character table</a> <a target=\"_blank\" href=\"https://github.com/q-ran/quran/blob/master/docs/features.md\" title=\"QURAN feature documentation\">Feature docs</a> <a target=\"_blank\" href=\"https://github.com/annotation/app-quran\" title=\"quran API documentation\">quran API</a> <a target=\"_blank\" href=\"https://annotation.github.io/text-fabric/Api/Fabric/\" title=\"text-fabric-api\">Text-Fabric API 8.0.1</a> <a target=\"_blank\" href=\"https://annotation.github.io/text-fabric/Use/Search/\" title=\"Search Templates Introduction and Reference\">Search Reference</a><details open><summary><b>Loaded features</b>:</summary>\n",
       "<p><b>Quran</b>: <a target=\"_blank\" href=\"https://github.com/q-ran/quran/blob/master/docs/features.md\" title=\"/Users/dirk/text-fabric-data/q-ran/quran/tf/0.4/a.tf\">a</a>  <a target=\"_blank\" href=\"https://github.com/q-ran/quran/blob/master/docs/features.md\" title=\"/Users/dirk/text-fabric-data/q-ran/quran/tf/0.4/ascii.tf\">ascii</a>  <a target=\"_blank\" href=\"https://github.com/q-ran/quran/blob/master/docs/features.md\" title=\"/Users/dirk/text-fabric-data/q-ran/quran/tf/0.4/ax.tf\">ax</a>  <a target=\"_blank\" href=\"https://github.com/q-ran/quran/blob/master/docs/features.md\" title=\"/Users/dirk/text-fabric-data/q-ran/quran/tf/0.4/case.tf\">case</a>  <a target=\"_blank\" href=\"https://github.com/q-ran/quran/blob/master/docs/features.md\" title=\"/Users/dirk/text-fabric-data/q-ran/quran/tf/0.4/component.tf\">component</a>  <a target=\"_blank\" href=\"https://github.com/q-ran/quran/blob/master/docs/features.md\" title=\"/Users/dirk/text-fabric-data/q-ran/quran/tf/0.4/definite.tf\">definite</a>  <a target=\"_blank\" href=\"https://github.com/q-ran/quran/blob/master/docs/features.md\" title=\"/Users/dirk/text-fabric-data/q-ran/quran/tf/0.4/f.tf\">f</a>  <a target=\"_blank\" href=\"https://github.com/q-ran/quran/blob/master/docs/features.md\" title=\"/Users/dirk/text-fabric-data/q-ran/quran/tf/0.4/formation.tf\">formation</a>  <a target=\"_blank\" href=\"https://github.com/q-ran/quran/blob/master/docs/features.md\" title=\"/Users/dirk/text-fabric-data/q-ran/quran/tf/0.4/fx.tf\">fx</a>  <a target=\"_blank\" href=\"https://github.com/q-ran/quran/blob/master/docs/features.md\" title=\"/Users/dirk/text-fabric-data/q-ran/quran/tf/0.4/gn.tf\">gn</a>  <a target=\"_blank\" href=\"https://github.com/q-ran/quran/blob/master/docs/features.md\" title=\"/Users/dirk/text-fabric-data/q-ran/quran/tf/0.4/interjection.tf\">interjection</a>  <a target=\"_blank\" href=\"https://github.com/q-ran/quran/blob/master/docs/features.md\" title=\"/Users/dirk/text-fabric-data/q-ran/quran/tf/0.4/l.tf\">l</a>  <a target=\"_blank\" href=\"https://github.com/q-ran/quran/blob/master/docs/features.md\" title=\"/Users/dirk/text-fabric-data/q-ran/quran/tf/0.4/lemma.tf\">lemma</a>  <a target=\"_blank\" href=\"https://github.com/q-ran/quran/blob/master/docs/features.md\" title=\"/Users/dirk/text-fabric-data/q-ran/quran/tf/0.4/lx.tf\">lx</a>  <a target=\"_blank\" href=\"https://github.com/q-ran/quran/blob/master/docs/features.md\" title=\"/Users/dirk/text-fabric-data/q-ran/quran/tf/0.4/mood.tf\">mood</a>  <a target=\"_blank\" href=\"https://github.com/q-ran/quran/blob/master/docs/features.md\" title=\"/Users/dirk/text-fabric-data/q-ran/quran/tf/0.4/n.tf\">n</a>  <a target=\"_blank\" href=\"https://github.com/q-ran/quran/blob/master/docs/features.md\" title=\"/Users/dirk/text-fabric-data/q-ran/quran/tf/0.4/name.tf\">name</a>  <a target=\"_blank\" href=\"https://github.com/q-ran/quran/blob/master/docs/features.md\" title=\"/Users/dirk/text-fabric-data/q-ran/quran/tf/0.4/name@en.tf\">name@ll</a>  <a target=\"_blank\" href=\"https://github.com/q-ran/quran/blob/master/docs/features.md\" title=\"/Users/dirk/text-fabric-data/q-ran/quran/tf/0.4/nameAscii.tf\">nameAscii</a>  <a target=\"_blank\" href=\"https://github.com/q-ran/quran/blob/master/docs/features.md\" title=\"/Users/dirk/text-fabric-data/q-ran/quran/tf/0.4/nameTrans.tf\">nameTrans</a>  <a target=\"_blank\" href=\"https://github.com/q-ran/quran/blob/master/docs/features.md\" title=\"/Users/dirk/text-fabric-data/q-ran/quran/tf/0.4/nu.tf\">nu</a>  <a target=\"_blank\" href=\"https://github.com/q-ran/quran/blob/master/docs/features.md\" title=\"/Users/dirk/text-fabric-data/q-ran/quran/tf/0.4/number.tf\">number</a>  <a target=\"_blank\" href=\"https://github.com/q-ran/quran/blob/master/docs/features.md\" title=\"/Users/dirk/text-fabric-data/q-ran/quran/tf/0.4/order.tf\">order</a>  <a target=\"_blank\" href=\"https://github.com/q-ran/quran/blob/master/docs/features.md\" title=\"/Users/dirk/text-fabric-data/q-ran/quran/tf/0.4/otype.tf\">otype</a>  <a target=\"_blank\" href=\"https://github.com/q-ran/quran/blob/master/docs/features.md\" title=\"/Users/dirk/text-fabric-data/q-ran/quran/tf/0.4/pos.tf\">pos</a>  <a target=\"_blank\" href=\"https://github.com/q-ran/quran/blob/master/docs/features.md\" title=\"/Users/dirk/text-fabric-data/q-ran/quran/tf/0.4/posx.tf\">posx</a>  <a target=\"_blank\" href=\"https://github.com/q-ran/quran/blob/master/docs/features.md\" title=\"/Users/dirk/text-fabric-data/q-ran/quran/tf/0.4/ps.tf\">ps</a>  <a target=\"_blank\" href=\"https://github.com/q-ran/quran/blob/master/docs/features.md\" title=\"/Users/dirk/text-fabric-data/q-ran/quran/tf/0.4/root.tf\">root</a>  <a target=\"_blank\" href=\"https://github.com/q-ran/quran/blob/master/docs/features.md\" title=\"/Users/dirk/text-fabric-data/q-ran/quran/tf/0.4/sp.tf\">sp</a>  <a target=\"_blank\" href=\"https://github.com/q-ran/quran/blob/master/docs/features.md\" title=\"/Users/dirk/text-fabric-data/q-ran/quran/tf/0.4/space.tf\">space</a>  <a target=\"_blank\" href=\"https://github.com/q-ran/quran/blob/master/docs/features.md\" title=\"/Users/dirk/text-fabric-data/q-ran/quran/tf/0.4/tense.tf\">tense</a>  <a target=\"_blank\" href=\"https://github.com/q-ran/quran/blob/master/docs/features.md\" title=\"/Users/dirk/text-fabric-data/q-ran/quran/tf/0.4/translation@en.tf\">translation@ll</a>  <a target=\"_blank\" href=\"https://github.com/q-ran/quran/blob/master/docs/features.md\" title=\"/Users/dirk/text-fabric-data/q-ran/quran/tf/0.4/type.tf\">type</a>  <a target=\"_blank\" href=\"https://github.com/q-ran/quran/blob/master/docs/features.md\" title=\"/Users/dirk/text-fabric-data/q-ran/quran/tf/0.4/unicode.tf\">unicode</a>  <a target=\"_blank\" href=\"https://github.com/q-ran/quran/blob/master/docs/features.md\" title=\"/Users/dirk/text-fabric-data/q-ran/quran/tf/0.4/voice.tf\">voice</a>  <a target=\"_blank\" href=\"https://github.com/q-ran/quran/blob/master/docs/features.md\" title=\"/Users/dirk/text-fabric-data/q-ran/quran/tf/0.4/w.tf\">w</a>  <a target=\"_blank\" href=\"https://github.com/q-ran/quran/blob/master/docs/features.md\" title=\"/Users/dirk/text-fabric-data/q-ran/quran/tf/0.4/wx.tf\">wx</a>  <b><i><a target=\"_blank\" href=\"https://github.com/q-ran/quran/blob/master/docs/features.md\" title=\"/Users/dirk/text-fabric-data/q-ran/quran/tf/0.4/oslots.tf\">oslots</a></i></b> </p></details>"
      ],
      "text/plain": [
       "<IPython.core.display.HTML object>"
      ]
     },
     "metadata": {},
     "output_type": "display_data"
    },
    {
     "data": {
      "text/html": [
       "<style>tr.tf, td.tf, th.tf { text-align: left ! important;}@font-face {\n",
       "  font-family: \"Ezra SIL\";\n",
       "  src: local('Ezra SIL'), local('EzraSIL'),\n",
       "    url('/server/static/fonts/SILEOT.woff') format('woff'),\n",
       "    url('https://github.com/annotation/text-fabric/blob/master/tf/server/static/fonts/SILEOT.woff?raw=true') format('woff');\n",
       "}\n",
       "\n",
       "@font-face {\n",
       "  font-family: \"SBL Hebrew\";\n",
       "  src: local('SBL Hebrew'), local('SBLHebrew'),\n",
       "    url('/server/static/fonts/SBL_Hbrw.woff') format('woff'),\n",
       "    url('https://github.com/annotation/text-fabric/blob/master/tf/server/static/fonts/SBL_Hbrw.woff?raw=true') format('woff');\n",
       "}\n",
       "\n",
       "@font-face {\n",
       "  font-family: \"Estrangelo Edessa\";\n",
       "  src: local('Estrangelo Edessa'), local('EstrangeloEdessa');\n",
       "    url('/server/static/fonts/SyrCOMEdessa.woff') format('woff'),\n",
       "    url('https://github.com/annotation/text-fabric/blob/master/tf/server/static/fonts/SyrCOMEdessa.woff?raw=true') format('woff');\n",
       "}\n",
       "\n",
       "@font-face {\n",
       "  font-family: AmiriQuran;\n",
       "  font-style: normal;\n",
       "  font-weight: 400;\n",
       "  src: local('Amiri Quran'), local('AmiriQuran'),\n",
       "    url('/server/static/fonts/AmiriQuran.woff') format('woff'),\n",
       "    url('https://github.com/annotation/text-fabric/blob/master/tf/server/static/fonts/AmiriQuran.woff?raw=true') format('woff');\n",
       "}\n",
       "\n",
       "@font-face {\n",
       "  font-family: AmiriQuranColored;\n",
       "  font-style: normal;\n",
       "  font-weight: 400;\n",
       "  src: local('Amiri Quran Colored'), local('AmiriQuranColored'),\n",
       "    url('/server/static/fonts/AmiriQuranColored.woff') format('woff'),\n",
       "    url('https://github.com/annotation/text-fabric/blob/master/tf/server/static/fonts/AmiriQuranColored.woff?raw=true') format('woff');\n",
       "}\n",
       "\n",
       "@font-face {\n",
       "  font-family: \"Santakku\";\n",
       "  src: local('Santakku'),\n",
       "    url('/server/static/fonts/Santakku.woff') format('woff'),\n",
       "    url('https://github.com/annotation/text-fabric/blob/master/tf/server/static/fonts/Santakku.woff?raw=true') format('woff');\n",
       "}\n",
       "\n",
       "@font-face {\n",
       "  font-family: \"SantakkuM\";\n",
       "  src: local('SantakkuM'),\n",
       "    url('/server/static/fonts/SantakkuM.woff') format('woff'),\n",
       "    url('https://github.com/annotation/text-fabric/blob/master/tf/server/static/fonts/SantakkuM.woff?raw=true') format('woff');\n",
       "}\n",
       "/* bypassing some classical notebook settings */\n",
       "div#notebook {\n",
       "  line-height: unset;\n",
       "}\n",
       "/* neutral text */\n",
       ".txtn,.txtn a:visited,.txtn a:link {\n",
       "    font-family: sans-serif;\n",
       "    font-size: medium;\n",
       "    direction: ltr;\n",
       "    text-decoration: none;\n",
       "    color: var(--text-color);\n",
       "}\n",
       "/* transcription text */\n",
       ".txtt,.txtt a:visited,.txtt a:link {\n",
       "    font-family: monospace;\n",
       "    font-size: medium;\n",
       "    direction: ltr;\n",
       "    text-decoration: none;\n",
       "    color: var(--text-color);\n",
       "}\n",
       "/* source text */\n",
       ".txto,.txto a:visited,.txto a:link {\n",
       "    font-family: serif;\n",
       "    font-size: medium;\n",
       "    direction: ltr;\n",
       "    text-decoration: none;\n",
       "    color: var(--text-color);\n",
       "}\n",
       "/* phonetic text */\n",
       ".txtp,.txtp a:visited,.txtp a:link {\n",
       "    font-family: Gentium, sans-serif;\n",
       "    font-size: large;\n",
       "    direction: ltr;\n",
       "    text-decoration: none;\n",
       "    color: var(--text-color);\n",
       "}\n",
       "/* original script text */\n",
       ".txtu,.txtu a:visited,.txtu a:link {\n",
       "    font-family: Gentium, sans-serif;\n",
       "    font-size: large;\n",
       "    text-decoration: none;\n",
       "    color: var(--text-color);\n",
       "}\n",
       "/* hebrew */\n",
       ".txtu.hbo,.lex.hbo {\n",
       "    font-family: \"Ezra SIL\", \"SBL Hebrew\", sans-serif;\n",
       "    font-size: x-large;\n",
       "    direction: rtl ! important;\n",
       "    unicode-bidi: embed;\n",
       "}\n",
       "/* syriac */\n",
       ".txtu.syc,.lex.syc {\n",
       "    font-family: \"Estrangelo Edessa\", sans-serif;\n",
       "    font-size: large;\n",
       "    direction: rtl ! important;\n",
       "    unicode-bidi: embed;\n",
       "}\n",
       "/* neo aramaic */\n",
       ".txtu.cld,.lex.cld {\n",
       "    font-family: \"CharisSIL-R\", sans-serif;\n",
       "    font-size: medium;\n",
       "    direction: ltr ! important;\n",
       "    unicode-bidi: embed;\n",
       "}\n",
       "/* standard arabic */\n",
       ".txtu.ara,.lex.ara {\n",
       "    font-family: \"AmiriQuran\", sans-serif;\n",
       "    font-size: large;\n",
       "    direction: rtl ! important;\n",
       "    unicode-bidi: embed;\n",
       "}\n",
       "/* cuneiform */\n",
       ".txtu.akk,.lex.akk {\n",
       "    font-family: Santakku, sans-serif;\n",
       "    font-size: x-large;\n",
       "    direction: ltr ! important;\n",
       "    unicode-bidi: embed;\n",
       "}\n",
       "/* greek */\n",
       ".txtu.grc,.lex.grc a:link {\n",
       "    font-family: Gentium, sans-serif;\n",
       "    font-size: medium;\n",
       "    direction: ltr ! important;\n",
       "    unicode-bidi: embed;\n",
       "}\n",
       "a:hover {\n",
       "    text-decoration: underline | important;\n",
       "    color: #0000ff | important;\n",
       "}\n",
       ".ltr {\n",
       "    direction: ltr ! important;\n",
       "}\n",
       ".rtl {\n",
       "    direction: rtl ! important;\n",
       "}\n",
       "span.plain {\n",
       "    display: inline-block;\n",
       "    white-space: pre-wrap;\n",
       "    text-align: start;\n",
       "}\n",
       ".features {\n",
       "    font-family: monospace;\n",
       "    font-size: medium;\n",
       "    font-weight: bold;\n",
       "    color: var(--features);\n",
       "    display: flex;\n",
       "    flex-flow: column nowrap;\n",
       "    justify-content: flex-start;\n",
       "    align-items: flex-start;\n",
       "    align-content: flex-start;\n",
       "    padding: 0.1rem;\n",
       "    margin: 0.1rem;\n",
       "    direction: ltr;\n",
       "    border: var(--meta-width) solid var(--meta-color);\n",
       "    border-radius: var(--meta-width);\n",
       "}\n",
       ".features div,.features span {\n",
       "    padding: 0;\n",
       "    margin: -0.1rem 0;\n",
       "}\n",
       ".features .f {\n",
       "    font-family: sans-serif;\n",
       "    font-size: small;\n",
       "    font-weight: normal;\n",
       "    color: #5555bb;\n",
       "}\n",
       ".features .xft {\n",
       "  color: #000000;\n",
       "  background-color: #eeeeee;\n",
       "  font-size: medium;\n",
       "  margin: 0.1rem 0rem;\n",
       "}\n",
       ".features .xft .f {\n",
       "  color: #000000;\n",
       "  background-color: #eeeeee;\n",
       "  font-size: small;\n",
       "  font-weight: normal;\n",
       "}\n",
       ".section {\n",
       "    font-family: sans-serif;\n",
       "    font-size: small;\n",
       "    font-weight: bold;\n",
       "    color: var(--section);\n",
       "}\n",
       ".structure {\n",
       "    font-family: sans-serif;\n",
       "    font-size: small;\n",
       "    font-weight: bold;\n",
       "    color: var(--structure);\n",
       "}\n",
       ".comments {\n",
       "    display: flex;\n",
       "    justify-content: flex-start;\n",
       "    align-items: flex-start;\n",
       "    align-content: flex-start;\n",
       "    flex-flow: column nowrap;\n",
       "}\n",
       ".nd {\n",
       "    font-family: sans-serif;\n",
       "    font-size: small;\n",
       "    color: var(--node);\n",
       "    vertical-align: super;\n",
       "}\n",
       ".lex {\n",
       "  color: var(--lex-color);;\n",
       "}\n",
       ".children,.children.ltr {\n",
       "    display: flex;\n",
       "    border: 0;\n",
       "    background-color: #ffffff;\n",
       "    justify-content: flex-start;\n",
       "    align-items: flex-start;\n",
       "    align-content: flex-start;\n",
       "}\n",
       ".children.stretch {\n",
       "    align-items: stretch;\n",
       "}\n",
       ".children.hor {\n",
       "    flex-flow: row nowrap;\n",
       "}\n",
       ".children.hor.wrap {\n",
       "    flex-flow: row wrap;\n",
       "}\n",
       ".children.ver {\n",
       "    flex-flow: column nowrap;\n",
       "}\n",
       ".children.ver.wrap {\n",
       "    flex-flow: column wrap;\n",
       "}\n",
       ".contnr {\n",
       "    width: fit-content;\n",
       "    display: flex;\n",
       "    justify-content: flex-start;\n",
       "    align-items: flex-start;\n",
       "    align-content: flex-start;\n",
       "    flex-flow: column nowrap;\n",
       "    background: #ffffff none repeat scroll 0 0;\n",
       "    padding:  0.5rem 0.1rem 0.1rem 0.1rem;\n",
       "    margin: 0.8rem 0.1rem 0.1rem 0.1rem;\n",
       "    border-style: solid;\n",
       "    font-size: small;\n",
       "}\n",
       ".contnr.trm {\n",
       "    background-attachment: local;\n",
       "}\n",
       ".contnr.cnul {\n",
       "    padding:  0;\n",
       "    margin: 0;\n",
       "    border-style: solid;\n",
       "    font-size: xx-small;\n",
       "}\n",
       ".contnr.cnul,.lbl.cnul {\n",
       "    border-color: var(--border-color-nul);\n",
       "    border-width: var(--border-width-nul);\n",
       "    border-radius: var(--border-width-nul);\n",
       "}\n",
       ".contnr.c0,.lbl.c0 {\n",
       "    border-color: var(--border-color0);\n",
       "    border-width: var(--border-width0);\n",
       "    border-radius: var(--border-width0);\n",
       "}\n",
       ".contnr.c1,.lbl.c1 {\n",
       "    border-color: var(--border-color1);\n",
       "    border-width: var(--border-width1);\n",
       "    border-radius: var(--border-width1);\n",
       "}\n",
       ".contnr.c2,.lbl.c2 {\n",
       "    border-color: var(--border-color2);\n",
       "    border-width: var(--border-width2);\n",
       "    border-radius: var(--border-width2);\n",
       "}\n",
       ".contnr.c3,.lbl.c3 {\n",
       "    border-color: var(--border-color3);\n",
       "    border-width: var(--border-width3);\n",
       "    border-radius: var(--border-width3);\n",
       "}\n",
       ".contnr.c4,.lbl.c4 {\n",
       "    border-color: var(--border-color4);\n",
       "    border-width: var(--border-width4);\n",
       "    border-radius: var(--border-width4);\n",
       "}\n",
       ".contnr.l {\n",
       "    border-left-style: dotted\n",
       "}\n",
       ".contnr.r {\n",
       "    border-right-style: dotted\n",
       "}\n",
       ".contnr.lno {\n",
       "    border-left-style: none\n",
       "}\n",
       ".contnr.rno {\n",
       "    border-right-style: none\n",
       "}\n",
       ".lbl {\n",
       "    font-family: monospace;\n",
       "    margin-top: -1.2rem;\n",
       "    margin-left: 1rem;\n",
       "    background: #ffffff none repeat scroll 0 0;\n",
       "    padding: 0 0.3rem;\n",
       "    border-style: solid;\n",
       "    display: block;\n",
       "    color: var(--label)\n",
       "}\n",
       ".lbl.trm {\n",
       "    background-attachment: local;\n",
       "    margin-top: 0.1rem;\n",
       "    margin-left: 0.1rem;\n",
       "    padding: 0.1rem 0.1rem;\n",
       "    border-style: none;\n",
       "}\n",
       ".lbl.cnul {\n",
       "    font-size: xx-small;\n",
       "}\n",
       ".lbl.c0 {\n",
       "    font-size: small;\n",
       "}\n",
       ".lbl.c1 {\n",
       "    font-size: small;\n",
       "}\n",
       ".lbl.c2 {\n",
       "    font-size: medium;\n",
       "}\n",
       ".lbl.c3 {\n",
       "    font-size: medium;\n",
       "}\n",
       ".lbl.c4 {\n",
       "    font-size: large;\n",
       "}\n",
       ".occs {\n",
       "    font-size: small;\n",
       "}\n",
       "\n",
       ":root {\n",
       "\t--node:             hsla(120, 100%,  20%, 1.0  );\n",
       "\t--label:            hsla(  0, 100%,  20%, 1.0  );\n",
       "\t--section:          hsla(  0, 100%,  25%, 1.0  );\n",
       "\t--structure:        hsla(120, 100%,  25%, 1.0  );\n",
       "\t--features:         hsla(  0,   0%,  30%, 1.0  );\n",
       "  --text-color:       hsla( 60,  80%,  10%, 1.0  );\n",
       "  --lex-color:        hsla(220,  90%,  60%, 1.0  );\n",
       "  --meta-color:       hsla(  0,   0%,  90%, 0.7  );\n",
       "  --meta-width:       0.15rem;\n",
       "  --border-color-nul: hsla(  0,   0%,  90%, 0.5  );\n",
       "  --border-color0:    hsla(  0,   0%,  90%, 0.9  );\n",
       "  --border-color1:    hsla(  0,   0%,  80%, 0.9  );\n",
       "  --border-color2:    hsla(  0,   0%,  70%, 0.9  );\n",
       "  --border-color3:    hsla(  0,   0%,  80%, 0.8  );\n",
       "  --border-color4:    hsla(  0,   0%,  60%, 0.9  );\n",
       "  --border-width-nul: 0.1rem;\n",
       "  --border-width0:    0.1rem;\n",
       "  --border-width1:    0.15rem;\n",
       "  --border-width2:    0.2rem;\n",
       "  --border-width3:    0.3rem;\n",
       "  --border-width4:    0.25rem;\n",
       "}\n",
       ".hl {\n",
       "  background-color: var(--hl-strong);\n",
       "}\n",
       "span.hl {\n",
       "\tbackground-color: var(--hl-strong);\n",
       "\tborder-width: 0;\n",
       "\tborder-radius: 0.1rem;\n",
       "\tborder-style: solid;\n",
       "}\n",
       "div.contnr.hl,div.lbl.hl {\n",
       "  background-color: var(--hl-strong);\n",
       "}\n",
       "div.contnr.hl {\n",
       "  border-color: var(--hl-rim) ! important;\n",
       "\tborder-width: 0.2rem ! important;\n",
       "}\n",
       "\n",
       "span.hlbx {\n",
       "\tborder-color: var(--hl-rim);\n",
       "\tborder-width: 0.2rem;\n",
       "\tborder-style: solid;\n",
       "\tborder-radius: 0.3rem;\n",
       "  padding: 0.2rem;\n",
       "  margin: 0.2rem;\n",
       "}\n",
       "\n",
       "span.plain {\n",
       "  display: inline-block;\n",
       "  white-space: pre-wrap;\n",
       "}\n",
       "\n",
       ":root {\n",
       "\t--hl-strong:        hsla( 60, 100%,  70%, 0.9  );\n",
       "\t--hl-rim:           hsla( 55,  80%,  50%, 1.0  );\n",
       "}\n",
       "</style>"
      ],
      "text/plain": [
       "<IPython.core.display.HTML object>"
      ]
     },
     "metadata": {},
     "output_type": "display_data"
    },
    {
     "data": {
      "text/html": [
       "<details open><summary><b>API members</b>:</summary>\n",
       "<a target=\"_blank\" href=\"https://annotation.github.io/text-fabric/Api/Computed/#computed-data\" title=\"doc\">C Computed</a>, <a target=\"_blank\" href=\"https://annotation.github.io/text-fabric/Api/Computed/#computed-data\" title=\"doc\">Call AllComputeds</a>, <a target=\"_blank\" href=\"https://annotation.github.io/text-fabric/Api/Computed/#computed-data\" title=\"doc\">Cs ComputedString</a><br/>\n",
       "<a target=\"_blank\" href=\"https://annotation.github.io/text-fabric/Api/Features/#edge-features\" title=\"doc\">E Edge</a>, <a target=\"_blank\" href=\"https://annotation.github.io/text-fabric/Api/Features/#edge-features\" title=\"doc\">Eall AllEdges</a>, <a target=\"_blank\" href=\"https://annotation.github.io/text-fabric/Api/Features/#edge-features\" title=\"doc\">Es EdgeString</a><br/>\n",
       "<a target=\"_blank\" href=\"https://annotation.github.io/text-fabric/Api/Fabric/#loading\" title=\"doc\">ensureLoaded</a>, <a target=\"_blank\" href=\"https://annotation.github.io/text-fabric/Api/Fabric/#loading\" title=\"doc\">TF</a>, <a target=\"_blank\" href=\"https://annotation.github.io/text-fabric/Api/Fabric/#loading\" title=\"doc\">ignored</a>, <a target=\"_blank\" href=\"https://annotation.github.io/text-fabric/Api/Fabric/#loading\" title=\"doc\">loadLog</a><br/>\n",
       "<a target=\"_blank\" href=\"https://annotation.github.io/text-fabric/Api/Locality/#locality\" title=\"doc\">L Locality</a><br/>\n",
       "<a target=\"_blank\" href=\"https://annotation.github.io/text-fabric/Api/Misc/#messaging\" title=\"doc\">cache</a>, <a target=\"_blank\" href=\"https://annotation.github.io/text-fabric/Api/Misc/#messaging\" title=\"doc\">error</a>, <a target=\"_blank\" href=\"https://annotation.github.io/text-fabric/Api/Misc/#messaging\" title=\"doc\">indent</a>, <a target=\"_blank\" href=\"https://annotation.github.io/text-fabric/Api/Misc/#messaging\" title=\"doc\">info</a>, <a target=\"_blank\" href=\"https://annotation.github.io/text-fabric/Api/Misc/#messaging\" title=\"doc\">isSilent</a>, <a target=\"_blank\" href=\"https://annotation.github.io/text-fabric/Api/Misc/#messaging\" title=\"doc\">reset</a>, <a target=\"_blank\" href=\"https://annotation.github.io/text-fabric/Api/Misc/#messaging\" title=\"doc\">setSilent</a>, <a target=\"_blank\" href=\"https://annotation.github.io/text-fabric/Api/Misc/#messaging\" title=\"doc\">silentOff</a>, <a target=\"_blank\" href=\"https://annotation.github.io/text-fabric/Api/Misc/#messaging\" title=\"doc\">silentOn</a>, <a target=\"_blank\" href=\"https://annotation.github.io/text-fabric/Api/Misc/#messaging\" title=\"doc\">warning</a><br/>\n",
       "<a target=\"_blank\" href=\"https://annotation.github.io/text-fabric/Api/Nodes/#navigating-nodes\" title=\"doc\">N Nodes</a>, <a target=\"_blank\" href=\"https://annotation.github.io/text-fabric/Api/Nodes/#navigating-nodes\" title=\"doc\">sortKey</a>, <a target=\"_blank\" href=\"https://annotation.github.io/text-fabric/Api/Nodes/#navigating-nodes\" title=\"doc\">sortKeyTuple</a>, <a target=\"_blank\" href=\"https://annotation.github.io/text-fabric/Api/Nodes/#navigating-nodes\" title=\"doc\">otypeRank</a>, <a target=\"_blank\" href=\"https://annotation.github.io/text-fabric/Api/Nodes/#navigating-nodes\" title=\"doc\">sortNodes</a><br/>\n",
       "<a target=\"_blank\" href=\"https://annotation.github.io/text-fabric/Api/Features/#node-features\" title=\"doc\">F Feature</a>, <a target=\"_blank\" href=\"https://annotation.github.io/text-fabric/Api/Features/#node-features\" title=\"doc\">Fall AllFeatures</a>, <a target=\"_blank\" href=\"https://annotation.github.io/text-fabric/Api/Features/#node-features\" title=\"doc\">Fs FeatureString</a><br/>\n",
       "<a target=\"_blank\" href=\"https://annotation.github.io/text-fabric/Api/Search/#search\" title=\"doc\">S Search</a><br/>\n",
       "<a target=\"_blank\" href=\"https://annotation.github.io/text-fabric/Api/Text/#text\" title=\"doc\">T Text</a></details>"
      ],
      "text/plain": [
       "<IPython.core.display.HTML object>"
      ]
     },
     "metadata": {},
     "output_type": "display_data"
    }
   ],
   "source": [
    "A = use('quran', hoist=globals())\n",
    "# A = use('quran:clone', checkout=\"clone\", hoist=globals())"
   ]
  },
  {
   "cell_type": "markdown",
   "metadata": {},
   "source": [
    "# Arbitrary nodes\n",
    "We pretty-print an arbitrary node."
   ]
  },
  {
   "cell_type": "code",
   "execution_count": 4,
   "metadata": {
    "ExecuteTime": {
     "end_time": "2018-04-25T13:57:33.060576Z",
     "start_time": "2018-04-25T13:57:33.051457Z"
    }
   },
   "outputs": [
    {
     "data": {
      "text/html": [
       "<span class=\"section ltr\"><a target=\"_blank\" href=\"/#7:47\" title=\"show this passage on Tanzil\" sec=\"7:47\">7:47</a> </span><div class=\"contnr c3  rtl  \" ><div class=\"lbl c3  \" ><span class=\"nd\">aya</span></div> <div class=\"children hor wrap rtl\"><div class=\"contnr c1  rtl  \" ><div class=\"lbl c1  \" ><span class=\"nd\">group</span></div> <div class=\"children hor  rtl\"><div class=\"contnr c0 trm rtl  \" ><div class=\"lbl c0 trm \" ><span class=\"txtu ara\">وَ</span></div> </div><div class=\"contnr c0 trm rtl  \" ><div class=\"lbl c0 trm \" ><a target=\"_blank\" href=\"http://tanzil.net\" title=\"show this passage on Tanzil\"><span class=\"txtu ara\">إِذَا </span></a></div> </div></div></div><div class=\"contnr c1  rtl  \" ><div class=\"lbl c1  \" ><span class=\"nd\">group</span></div> <div class=\"children hor  rtl\"><div class=\"contnr c0 trm rtl  \" ><div class=\"lbl c0 trm \" ><a target=\"_blank\" href=\"http://tanzil.net\" title=\"show this passage on Tanzil\"><span class=\"txtu ara\">صُرِفَتْ </span></a></div> </div></div></div><div class=\"contnr c1  rtl  \" ><div class=\"lbl c1  \" ><span class=\"nd\">group</span></div> <div class=\"children hor  rtl\"><div class=\"contnr c0 trm rtl  \" ><div class=\"lbl c0 trm \" ><a target=\"_blank\" href=\"http://tanzil.net\" title=\"show this passage on Tanzil\"><span class=\"txtu ara\">أَبْصَٰرُ</span></a></div> </div><div class=\"contnr c0 trm rtl  \" ><div class=\"lbl c0 trm \" ><span class=\"txtu ara\">هُمْ </span></div> </div></div></div><div class=\"contnr c1  rtl  \" ><div class=\"lbl c1  \" ><span class=\"nd\">group</span></div> <div class=\"children hor  rtl\"><div class=\"contnr c0 trm rtl  \" ><div class=\"lbl c0 trm \" ><a target=\"_blank\" href=\"http://tanzil.net\" title=\"show this passage on Tanzil\"><span class=\"txtu ara\">تِلْقَآءَ </span></a></div> </div></div></div><div class=\"contnr c1  rtl  \" ><div class=\"lbl c1  \" ><span class=\"nd\">group</span></div> <div class=\"children hor  rtl\"><div class=\"contnr c0 trm rtl  \" ><div class=\"lbl c0 trm \" ><a target=\"_blank\" href=\"http://tanzil.net\" title=\"show this passage on Tanzil\"><span class=\"txtu ara\">أَصْحَٰبِ </span></a></div> </div></div></div><div class=\"contnr c1  rtl  \" ><div class=\"lbl c1  \" ><span class=\"nd\">group</span></div> <div class=\"children hor  rtl\"><div class=\"contnr c0 trm rtl  \" ><div class=\"lbl c0 trm \" ><span class=\"txtu ara\">ٱل</span></div> </div><div class=\"contnr c0 trm rtl  \" ><div class=\"lbl c0 trm \" ><a target=\"_blank\" href=\"http://tanzil.net\" title=\"show this passage on Tanzil\"><span class=\"txtu ara\">نَّارِ </span></a></div> </div></div></div><div class=\"contnr c1  rtl  \" ><div class=\"lbl c1  \" ><span class=\"nd\">group</span></div> <div class=\"children hor  rtl\"><div class=\"contnr c0 trm rtl  \" ><div class=\"lbl c0 trm \" ><a target=\"_blank\" href=\"http://tanzil.net\" title=\"show this passage on Tanzil\"><span class=\"txtu ara\">قَالُ</span></a></div> </div><div class=\"contnr c0 trm rtl  \" ><div class=\"lbl c0 trm \" ><span class=\"txtu ara\">وا۟ </span></div> </div></div></div><div class=\"contnr c1  rtl  \" ><div class=\"lbl c1  \" ><span class=\"nd\">group</span></div> <div class=\"children hor  rtl\"><div class=\"contnr c0 trm rtl  \" ><div class=\"lbl c0 trm \" ><a target=\"_blank\" href=\"http://tanzil.net\" title=\"show this passage on Tanzil\"><span class=\"txtu ara\">رَبَّ</span></a></div> </div><div class=\"contnr c0 trm rtl  \" ><div class=\"lbl c0 trm \" ><span class=\"txtu ara\">نَا </span></div> </div></div></div><div class=\"contnr c1  rtl  \" ><div class=\"lbl c1  \" ><span class=\"nd\">group</span></div> <div class=\"children hor  rtl\"><div class=\"contnr c0 trm rtl  \" ><div class=\"lbl c0 trm \" ><a target=\"_blank\" href=\"http://tanzil.net\" title=\"show this passage on Tanzil\"><span class=\"txtu ara\">لَا </span></a></div> </div></div></div><div class=\"contnr c1  rtl  \" ><div class=\"lbl c1  \" ><span class=\"nd\">group</span></div> <div class=\"children hor  rtl\"><div class=\"contnr c0 trm rtl  \" ><div class=\"lbl c0 trm \" ><a target=\"_blank\" href=\"http://tanzil.net\" title=\"show this passage on Tanzil\"><span class=\"txtu ara\">تَجْعَلْ</span></a></div> </div><div class=\"contnr c0 trm rtl  \" ><div class=\"lbl c0 trm \" ><span class=\"txtu ara\">نَا </span></div> </div></div></div><div class=\"contnr c1  rtl  \" ><div class=\"lbl c1  \" ><span class=\"nd\">group</span></div> <div class=\"children hor  rtl\"><div class=\"contnr c0 trm rtl  \" ><div class=\"lbl c0 trm \" ><a target=\"_blank\" href=\"http://tanzil.net\" title=\"show this passage on Tanzil\"><span class=\"txtu ara\">مَعَ </span></a></div> </div></div></div><div class=\"contnr c1  rtl  \" ><div class=\"lbl c1  \" ><span class=\"nd\">group</span></div> <div class=\"children hor  rtl\"><div class=\"contnr c0 trm rtl  \" ><div class=\"lbl c0 trm \" ><span class=\"txtu ara\">ٱلْ</span></div> </div><div class=\"contnr c0 trm rtl  \" ><div class=\"lbl c0 trm \" ><a target=\"_blank\" href=\"http://tanzil.net\" title=\"show this passage on Tanzil\"><span class=\"txtu ara\">قَوْمِ </span></a></div> </div></div></div><div class=\"contnr c1  rtl  \" ><div class=\"lbl c1  \" ><span class=\"nd\">group</span></div> <div class=\"children hor  rtl\"><div class=\"contnr c0 trm rtl  \" ><div class=\"lbl c0 trm \" ><span class=\"txtu ara\">ٱل</span></div> </div><div class=\"contnr c0 trm rtl  \" ><div class=\"lbl c0 trm \" ><a target=\"_blank\" href=\"http://tanzil.net\" title=\"show this passage on Tanzil\"><span class=\"txtu ara\">ظَّٰلِمِينَ</span></a></div> </div></div></div></div></div>"
      ],
      "text/plain": [
       "<IPython.core.display.HTML object>"
      ]
     },
     "metadata": {},
     "output_type": "display_data"
    }
   ],
   "source": [
    "aya = F.otype.s('aya')[1000]\n",
    "A.pretty(aya)"
   ]
  },
  {
   "cell_type": "markdown",
   "metadata": {},
   "source": [
    "Where is this phrase on Tanzil?\n",
    "You can click on the passage reference.\n",
    "\n",
    "You can generate this link as follows:"
   ]
  },
  {
   "cell_type": "code",
   "execution_count": 5,
   "metadata": {
    "ExecuteTime": {
     "end_time": "2018-04-25T13:57:36.441490Z",
     "start_time": "2018-04-25T13:57:36.432236Z"
    }
   },
   "outputs": [
    {
     "data": {
      "text/html": [
       "<a target=\"_blank\" href=\"/#7:47\" title=\"show this passage on Tanzil\" sec=\"7:47\">7:47</a>"
      ],
      "text/plain": [
       "<IPython.core.display.HTML object>"
      ]
     },
     "metadata": {},
     "output_type": "display_data"
    }
   ],
   "source": [
    "A.webLink(aya)"
   ]
  },
  {
   "cell_type": "markdown",
   "metadata": {},
   "source": [
    "A link to another passage:"
   ]
  },
  {
   "cell_type": "code",
   "execution_count": 6,
   "metadata": {
    "ExecuteTime": {
     "end_time": "2018-04-25T13:57:46.144712Z",
     "start_time": "2018-04-25T13:57:46.138983Z"
    }
   },
   "outputs": [],
   "source": [
    "z = A.nodeFromSectionStr('3:4')"
   ]
  },
  {
   "cell_type": "code",
   "execution_count": 7,
   "metadata": {
    "ExecuteTime": {
     "end_time": "2018-04-25T13:57:47.022343Z",
     "start_time": "2018-04-25T13:57:47.012756Z"
    }
   },
   "outputs": [
    {
     "data": {
      "text/html": [
       "<a target=\"_blank\" href=\"/#3:4\" title=\"show this passage on Tanzil\" sec=\"3:4\">3:4</a>"
      ],
      "text/plain": [
       "<IPython.core.display.HTML object>"
      ]
     },
     "metadata": {},
     "output_type": "display_data"
    }
   ],
   "source": [
    "A.webLink(z)"
   ]
  },
  {
   "cell_type": "markdown",
   "metadata": {},
   "source": [
    "# Plain\n",
    "\n",
    "We can represent a node in plain representation and highlight specific portions."
   ]
  },
  {
   "cell_type": "code",
   "execution_count": 8,
   "metadata": {},
   "outputs": [],
   "source": [
    "aya = F.otype.s('aya')[1000]\n",
    "groups = L.d(aya, otype='group')\n",
    "words = L.d(aya, otype='word')"
   ]
  },
  {
   "cell_type": "markdown",
   "metadata": {},
   "source": [
    "First we highlight some words:"
   ]
  },
  {
   "cell_type": "code",
   "execution_count": 9,
   "metadata": {},
   "outputs": [
    {
     "data": {
      "text/html": [
       "<span class=\"section ltr\"><a target=\"_blank\" href=\"/#7:47\" title=\"show this passage on Tanzil\" sec=\"7:47\">7:47</a> </span> <span class=\"plain outer rtl  \" ><span class=\"plain txtu ara rtl\"></span><span class=\"plain  rtl  \" ><span class=\"plain txtu ara rtl\"></span><span class=\"plain  rtl  \" ><span class=\"txtu ara\">وَ</span></span><span class=\"plain  rtl  hl\" ><span class=\"txtu ara\">إِذَا </span></span></span><span class=\"plain  rtl  \" ><span class=\"plain txtu ara rtl\"></span><span class=\"plain  rtl  \" ><span class=\"txtu ara\">صُرِفَتْ </span></span></span><span class=\"plain  rtl  \" ><span class=\"plain txtu ara rtl\"></span><span class=\"plain  rtl  hl\" ><span class=\"txtu ara\">أَبْصَٰرُ</span></span><span class=\"plain  rtl  \" ><span class=\"txtu ara\">هُمْ </span></span></span><span class=\"plain  rtl  \" ><span class=\"plain txtu ara rtl\"></span><span class=\"plain  rtl  hl\" ><span class=\"txtu ara\">تِلْقَآءَ </span></span></span><span class=\"plain  rtl  \" ><span class=\"plain txtu ara rtl\"></span><span class=\"plain  rtl  \" ><span class=\"txtu ara\">أَصْحَٰبِ </span></span></span><span class=\"plain  rtl  \" ><span class=\"plain txtu ara rtl\"></span><span class=\"plain  rtl  hl\" ><span class=\"txtu ara\">ٱل</span></span><span class=\"plain  rtl  \" ><span class=\"txtu ara\">نَّارِ </span></span></span><span class=\"plain  rtl  \" ><span class=\"plain txtu ara rtl\"></span><span class=\"plain  rtl  hl\" ><span class=\"txtu ara\">قَالُ</span></span><span class=\"plain  rtl  \" ><span class=\"txtu ara\">وا۟ </span></span></span><span class=\"plain  rtl  \" ><span class=\"plain txtu ara rtl\"></span><span class=\"plain  rtl  \" ><span class=\"txtu ara\">رَبَّ</span></span><span class=\"plain  rtl  \" ><span class=\"txtu ara\">نَا </span></span></span><span class=\"plain  rtl  \" ><span class=\"plain txtu ara rtl\"></span><span class=\"plain  rtl  \" ><span class=\"txtu ara\">لَا </span></span></span><span class=\"plain  rtl  \" ><span class=\"plain txtu ara rtl\"></span><span class=\"plain  rtl  \" ><span class=\"txtu ara\">تَجْعَلْ</span></span><span class=\"plain  rtl  \" ><span class=\"txtu ara\">نَا </span></span></span><span class=\"plain  rtl  \" ><span class=\"plain txtu ara rtl\"></span><span class=\"plain  rtl  \" ><span class=\"txtu ara\">مَعَ </span></span></span><span class=\"plain  rtl  \" ><span class=\"plain txtu ara rtl\"></span><span class=\"plain  rtl  \" ><span class=\"txtu ara\">ٱلْ</span></span><span class=\"plain  rtl  \" ><span class=\"txtu ara\">قَوْمِ </span></span></span><span class=\"plain  rtl  \" ><span class=\"plain txtu ara rtl\"></span><span class=\"plain  rtl  \" ><span class=\"txtu ara\">ٱل</span></span><span class=\"plain  rtl  \" ><span class=\"txtu ara\">ظَّٰلِمِينَ</span></span></span></span>"
      ],
      "text/plain": [
       "<IPython.core.display.HTML object>"
      ]
     },
     "metadata": {},
     "output_type": "display_data"
    }
   ],
   "source": [
    "wordHighlights = set(words[i] for i in {1, 3, 5, 7, 9})\n",
    "A.plain(aya, highlights=wordHighlights)"
   ]
  },
  {
   "cell_type": "markdown",
   "metadata": {},
   "source": [
    "Now some wordgroups:"
   ]
  },
  {
   "cell_type": "code",
   "execution_count": 10,
   "metadata": {},
   "outputs": [
    {
     "data": {
      "text/html": [
       "<span class=\"section ltr\"><a target=\"_blank\" href=\"/#7:47\" title=\"show this passage on Tanzil\" sec=\"7:47\">7:47</a> </span> <span class=\"plain outer rtl  \" ><span class=\"plain txtu ara rtl\"></span><span class=\"plain  rtl  \" ><span class=\"plain txtu ara rtl\"></span><span class=\"plain  rtl  \" ><span class=\"txtu ara\">وَ</span></span><span class=\"plain  rtl  \" ><span class=\"txtu ara\">إِذَا </span></span></span><span class=\"plain  rtl  \" ><span class=\"plain txtu ara rtl\"></span><span class=\"plain  rtl  \" ><span class=\"txtu ara\">صُرِفَتْ </span></span></span><span class=\"plain  rtl  \" ><span class=\"plain txtu ara rtl\"></span><span class=\"plain  rtl  \" ><span class=\"txtu ara\">أَبْصَٰرُ</span></span><span class=\"plain  rtl  \" ><span class=\"txtu ara\">هُمْ </span></span></span><span class=\"plain  rtl  \" ><span class=\"plain txtu ara rtl\"></span><span class=\"plain  rtl  \" ><span class=\"txtu ara\">تِلْقَآءَ </span></span></span><span class=\"plain  rtl  \" ><span class=\"plain txtu ara rtl\"></span><span class=\"plain  rtl  \" ><span class=\"txtu ara\">أَصْحَٰبِ </span></span></span><span class=\"plain  rtl  \" ><span class=\"plain txtu ara rtl\"></span><span class=\"plain  rtl  \" ><span class=\"txtu ara\">ٱل</span></span><span class=\"plain  rtl  \" ><span class=\"txtu ara\">نَّارِ </span></span></span><span class=\"plain  rtl  \" ><span class=\"plain txtu ara rtl\"></span><span class=\"plain  rtl  \" ><span class=\"txtu ara\">قَالُ</span></span><span class=\"plain  rtl  \" ><span class=\"txtu ara\">وا۟ </span></span></span><span class=\"plain  rtl  hlbx\" ><span class=\"plain txtu ara rtl\"></span><span class=\"plain  rtl  \" ><span class=\"txtu ara\">رَبَّ</span></span><span class=\"plain  rtl  \" ><span class=\"txtu ara\">نَا </span></span></span><span class=\"plain  rtl  \" ><span class=\"plain txtu ara rtl\"></span><span class=\"plain  rtl  \" ><span class=\"txtu ara\">لَا </span></span></span><span class=\"plain  rtl  \" ><span class=\"plain txtu ara rtl\"></span><span class=\"plain  rtl  \" ><span class=\"txtu ara\">تَجْعَلْ</span></span><span class=\"plain  rtl  \" ><span class=\"txtu ara\">نَا </span></span></span><span class=\"plain  rtl  \" ><span class=\"plain txtu ara rtl\"></span><span class=\"plain  rtl  \" ><span class=\"txtu ara\">مَعَ </span></span></span><span class=\"plain  rtl  \" ><span class=\"plain txtu ara rtl\"></span><span class=\"plain  rtl  \" ><span class=\"txtu ara\">ٱلْ</span></span><span class=\"plain  rtl  \" ><span class=\"txtu ara\">قَوْمِ </span></span></span><span class=\"plain  rtl  hlbx\" ><span class=\"plain txtu ara rtl\"></span><span class=\"plain  rtl  \" ><span class=\"txtu ara\">ٱل</span></span><span class=\"plain  rtl  \" ><span class=\"txtu ara\">ظَّٰلِمِينَ</span></span></span></span>"
      ],
      "text/plain": [
       "<IPython.core.display.HTML object>"
      ]
     },
     "metadata": {},
     "output_type": "display_data"
    }
   ],
   "source": [
    "groupHighlights = set(groups[i] for i in {7, 12})\n",
    "A.plain(aya, highlights=groupHighlights)"
   ]
  },
  {
   "cell_type": "markdown",
   "metadata": {},
   "source": [
    "As you see, when we highlight bigger things than words, we put a \n",
    "highlighted border around the words in those things."
   ]
  },
  {
   "cell_type": "markdown",
   "metadata": {},
   "source": [
    "We can do both:"
   ]
  },
  {
   "cell_type": "code",
   "execution_count": 11,
   "metadata": {},
   "outputs": [
    {
     "data": {
      "text/html": [
       "<span class=\"section ltr\"><a target=\"_blank\" href=\"/#7:47\" title=\"show this passage on Tanzil\" sec=\"7:47\">7:47</a> </span> <span class=\"plain outer rtl  \" ><span class=\"plain txtu ara rtl\"></span><span class=\"plain  rtl  \" ><span class=\"plain txtu ara rtl\"></span><span class=\"plain  rtl  \" ><span class=\"txtu ara\">وَ</span></span><span class=\"plain  rtl  hl\" ><span class=\"txtu ara\">إِذَا </span></span></span><span class=\"plain  rtl  \" ><span class=\"plain txtu ara rtl\"></span><span class=\"plain  rtl  \" ><span class=\"txtu ara\">صُرِفَتْ </span></span></span><span class=\"plain  rtl  \" ><span class=\"plain txtu ara rtl\"></span><span class=\"plain  rtl  hl\" ><span class=\"txtu ara\">أَبْصَٰرُ</span></span><span class=\"plain  rtl  \" ><span class=\"txtu ara\">هُمْ </span></span></span><span class=\"plain  rtl  \" ><span class=\"plain txtu ara rtl\"></span><span class=\"plain  rtl  hl\" ><span class=\"txtu ara\">تِلْقَآءَ </span></span></span><span class=\"plain  rtl  \" ><span class=\"plain txtu ara rtl\"></span><span class=\"plain  rtl  \" ><span class=\"txtu ara\">أَصْحَٰبِ </span></span></span><span class=\"plain  rtl  \" ><span class=\"plain txtu ara rtl\"></span><span class=\"plain  rtl  hl\" ><span class=\"txtu ara\">ٱل</span></span><span class=\"plain  rtl  \" ><span class=\"txtu ara\">نَّارِ </span></span></span><span class=\"plain  rtl  \" ><span class=\"plain txtu ara rtl\"></span><span class=\"plain  rtl  hl\" ><span class=\"txtu ara\">قَالُ</span></span><span class=\"plain  rtl  \" ><span class=\"txtu ara\">وا۟ </span></span></span><span class=\"plain  rtl  hlbx\" ><span class=\"plain txtu ara rtl\"></span><span class=\"plain  rtl  \" ><span class=\"txtu ara\">رَبَّ</span></span><span class=\"plain  rtl  \" ><span class=\"txtu ara\">نَا </span></span></span><span class=\"plain  rtl  \" ><span class=\"plain txtu ara rtl\"></span><span class=\"plain  rtl  \" ><span class=\"txtu ara\">لَا </span></span></span><span class=\"plain  rtl  \" ><span class=\"plain txtu ara rtl\"></span><span class=\"plain  rtl  \" ><span class=\"txtu ara\">تَجْعَلْ</span></span><span class=\"plain  rtl  \" ><span class=\"txtu ara\">نَا </span></span></span><span class=\"plain  rtl  \" ><span class=\"plain txtu ara rtl\"></span><span class=\"plain  rtl  \" ><span class=\"txtu ara\">مَعَ </span></span></span><span class=\"plain  rtl  \" ><span class=\"plain txtu ara rtl\"></span><span class=\"plain  rtl  \" ><span class=\"txtu ara\">ٱلْ</span></span><span class=\"plain  rtl  \" ><span class=\"txtu ara\">قَوْمِ </span></span></span><span class=\"plain  rtl  hlbx\" ><span class=\"plain txtu ara rtl\"></span><span class=\"plain  rtl  \" ><span class=\"txtu ara\">ٱل</span></span><span class=\"plain  rtl  \" ><span class=\"txtu ara\">ظَّٰلِمِينَ</span></span></span></span>"
      ],
      "text/plain": [
       "<IPython.core.display.HTML object>"
      ]
     },
     "metadata": {},
     "output_type": "display_data"
    }
   ],
   "source": [
    "highlights = set(wordHighlights) | set(groupHighlights)\n",
    "A.plain(aya, highlights=highlights)"
   ]
  },
  {
   "cell_type": "markdown",
   "metadata": {},
   "source": [
    "We can also highlight the aya itself."
   ]
  },
  {
   "cell_type": "code",
   "execution_count": 12,
   "metadata": {},
   "outputs": [
    {
     "data": {
      "text/html": [
       "<span class=\"section ltr\"><a target=\"_blank\" href=\"/#7:47\" title=\"show this passage on Tanzil\" sec=\"7:47\">7:47</a> </span> <span class=\"plain outer rtl  hlbx\" ><span class=\"plain txtu ara rtl\"></span><span class=\"plain  rtl  \" ><span class=\"plain txtu ara rtl\"></span><span class=\"plain  rtl  \" ><span class=\"txtu ara\">وَ</span></span><span class=\"plain  rtl  \" ><span class=\"txtu ara\">إِذَا </span></span></span><span class=\"plain  rtl  \" ><span class=\"plain txtu ara rtl\"></span><span class=\"plain  rtl  \" ><span class=\"txtu ara\">صُرِفَتْ </span></span></span><span class=\"plain  rtl  \" ><span class=\"plain txtu ara rtl\"></span><span class=\"plain  rtl  \" ><span class=\"txtu ara\">أَبْصَٰرُ</span></span><span class=\"plain  rtl  \" ><span class=\"txtu ara\">هُمْ </span></span></span><span class=\"plain  rtl  \" ><span class=\"plain txtu ara rtl\"></span><span class=\"plain  rtl  \" ><span class=\"txtu ara\">تِلْقَآءَ </span></span></span><span class=\"plain  rtl  \" ><span class=\"plain txtu ara rtl\"></span><span class=\"plain  rtl  \" ><span class=\"txtu ara\">أَصْحَٰبِ </span></span></span><span class=\"plain  rtl  \" ><span class=\"plain txtu ara rtl\"></span><span class=\"plain  rtl  \" ><span class=\"txtu ara\">ٱل</span></span><span class=\"plain  rtl  \" ><span class=\"txtu ara\">نَّارِ </span></span></span><span class=\"plain  rtl  \" ><span class=\"plain txtu ara rtl\"></span><span class=\"plain  rtl  \" ><span class=\"txtu ara\">قَالُ</span></span><span class=\"plain  rtl  \" ><span class=\"txtu ara\">وا۟ </span></span></span><span class=\"plain  rtl  \" ><span class=\"plain txtu ara rtl\"></span><span class=\"plain  rtl  \" ><span class=\"txtu ara\">رَبَّ</span></span><span class=\"plain  rtl  \" ><span class=\"txtu ara\">نَا </span></span></span><span class=\"plain  rtl  \" ><span class=\"plain txtu ara rtl\"></span><span class=\"plain  rtl  \" ><span class=\"txtu ara\">لَا </span></span></span><span class=\"plain  rtl  \" ><span class=\"plain txtu ara rtl\"></span><span class=\"plain  rtl  \" ><span class=\"txtu ara\">تَجْعَلْ</span></span><span class=\"plain  rtl  \" ><span class=\"txtu ara\">نَا </span></span></span><span class=\"plain  rtl  \" ><span class=\"plain txtu ara rtl\"></span><span class=\"plain  rtl  \" ><span class=\"txtu ara\">مَعَ </span></span></span><span class=\"plain  rtl  \" ><span class=\"plain txtu ara rtl\"></span><span class=\"plain  rtl  \" ><span class=\"txtu ara\">ٱلْ</span></span><span class=\"plain  rtl  \" ><span class=\"txtu ara\">قَوْمِ </span></span></span><span class=\"plain  rtl  \" ><span class=\"plain txtu ara rtl\"></span><span class=\"plain  rtl  \" ><span class=\"txtu ara\">ٱل</span></span><span class=\"plain  rtl  \" ><span class=\"txtu ara\">ظَّٰلِمِينَ</span></span></span></span>"
      ],
      "text/plain": [
       "<IPython.core.display.HTML object>"
      ]
     },
     "metadata": {},
     "output_type": "display_data"
    }
   ],
   "source": [
    "highlights = {aya}\n",
    "A.plain(aya, highlights=highlights)"
   ]
  },
  {
   "cell_type": "markdown",
   "metadata": {},
   "source": [
    "As you see, only the aya label is highlighted, not the contents.\n",
    "The same policy is followed for suras and other sectional units."
   ]
  },
  {
   "cell_type": "code",
   "execution_count": 13,
   "metadata": {},
   "outputs": [
    {
     "data": {
      "text/html": [
       "<span class=\"section ltr\"><a target=\"_blank\" href=\"/#29:46\" title=\"show this passage on Tanzil\" sec=\"29:46\">29:46</a> </span> <span class=\"plain outer rtl  hlbx\" ><span class=\"plain txtu ara rtl\"></span></span>"
      ],
      "text/plain": [
       "<IPython.core.display.HTML object>"
      ]
     },
     "metadata": {},
     "output_type": "display_data"
    }
   ],
   "source": [
    "juz = F.otype.s('juz')[20]\n",
    "A.plain(juz, highlights={juz})"
   ]
  },
  {
   "cell_type": "code",
   "execution_count": 14,
   "metadata": {},
   "outputs": [
    {
     "data": {
      "text/html": [
       "<span class=\"section ltr\"><a target=\"_blank\" href=\"/#2:164\" title=\"show this passage on Tanzil\" sec=\"2:164\">2:164</a> </span> <span class=\"plain outer rtl  hlbx\" ><span class=\"plain txtu ara rtl\"><span class=\"structure\"><span class=\"nd\">sura</span> 2, <span class=\"nd\">ruku</span> 21</span></span></span>"
      ],
      "text/plain": [
       "<IPython.core.display.HTML object>"
      ]
     },
     "metadata": {},
     "output_type": "display_data"
    }
   ],
   "source": [
    "ruku = F.otype.s('ruku')[20]\n",
    "A.plain(ruku, highlights={ruku})"
   ]
  },
  {
   "cell_type": "markdown",
   "metadata": {},
   "source": [
    "But if we pass a condense type that is bigger than the section type, we get the material of the section.\n",
    "\n",
    "Remember that we can see the types and their bigness as follows:"
   ]
  },
  {
   "cell_type": "code",
   "execution_count": 15,
   "metadata": {},
   "outputs": [
    {
     "data": {
      "text/plain": [
       "(('manzil', 18317.0, 216987, 216993),\n",
       " ('sajda', 6043.066666666667, 218154, 218168),\n",
       " ('juz', 4273.966666666666, 212125, 212154),\n",
       " ('sura', 1124.7280701754387, 218169, 218282),\n",
       " ('hizb', 534.2458333333333, 211885, 212124),\n",
       " ('ruku', 230.60971223021582, 217598, 218153),\n",
       " ('page', 212.28311258278146, 216994, 217597),\n",
       " ('aya', 20.56109685695959, 128220, 134455),\n",
       " ('lex', 15.440397350993377, 212155, 216986),\n",
       " ('group', 1.6559557788425525, 134456, 211884),\n",
       " ('word', 1, 1, 128219))"
      ]
     },
     "execution_count": 15,
     "metadata": {},
     "output_type": "execute_result"
    }
   ],
   "source": [
    "C.levels.data"
   ]
  },
  {
   "cell_type": "markdown",
   "metadata": {},
   "source": [
    "So the *hizb* is bigger than the *page*.\n",
    "\n",
    "Let's print a plain *page* with condense type *hizb*:"
   ]
  },
  {
   "cell_type": "code",
   "execution_count": 16,
   "metadata": {},
   "outputs": [
    {
     "data": {
      "text/html": [
       "<span class=\"section ltr\"><a target=\"_blank\" href=\"/#2:135\" title=\"show this passage on Tanzil\" sec=\"2:135\">2:135</a> </span> <span class=\"plain outer rtl  \" ><span class=\"plain txtu ara rtl\"></span></span>"
      ],
      "text/plain": [
       "<IPython.core.display.HTML object>"
      ]
     },
     "metadata": {},
     "output_type": "display_data"
    }
   ],
   "source": [
    "page = F.otype.s('page')[20]\n",
    "A.plain(page, condenseType='hizb')"
   ]
  },
  {
   "cell_type": "markdown",
   "metadata": {},
   "source": [
    "We can use different colors for highlighting.\n",
    "Lets color even words differently from uneven words, and ayas in yet another color."
   ]
  },
  {
   "cell_type": "code",
   "execution_count": 17,
   "metadata": {},
   "outputs": [
    {
     "data": {
      "text/html": [
       "<span class=\"section ltr\"><a target=\"_blank\" href=\"/#7:47\" title=\"show this passage on Tanzil\" sec=\"7:47\">7:47</a> </span> <span class=\"plain outer rtl  hlbx\"  style=\"border-color: #eeeeff;\" ><span class=\"plain txtu ara rtl\"></span><span class=\"plain  rtl  \" ><span class=\"plain txtu ara rtl\"></span><span class=\"plain  rtl  hl\"  style=\"background-color: mediumaquamarine;\" ><span class=\"txtu ara\">وَ</span></span><span class=\"plain  rtl  hl\"  style=\"background-color: lightsalmon;\" ><span class=\"txtu ara\">إِذَا </span></span></span><span class=\"plain  rtl  \" ><span class=\"plain txtu ara rtl\"></span><span class=\"plain  rtl  hl\"  style=\"background-color: mediumaquamarine;\" ><span class=\"txtu ara\">صُرِفَتْ </span></span></span><span class=\"plain  rtl  hlbx\"  style=\"border-color: blue;\" ><span class=\"plain txtu ara rtl\"></span><span class=\"plain  rtl  hl\"  style=\"background-color: lightsalmon;\" ><span class=\"txtu ara\">أَبْصَٰرُ</span></span><span class=\"plain  rtl  hl\"  style=\"background-color: mediumaquamarine;\" ><span class=\"txtu ara\">هُمْ </span></span></span><span class=\"plain  rtl  \" ><span class=\"plain txtu ara rtl\"></span><span class=\"plain  rtl  hl\"  style=\"background-color: lightsalmon;\" ><span class=\"txtu ara\">تِلْقَآءَ </span></span></span><span class=\"plain  rtl  \" ><span class=\"plain txtu ara rtl\"></span><span class=\"plain  rtl  hl\"  style=\"background-color: mediumaquamarine;\" ><span class=\"txtu ara\">أَصْحَٰبِ </span></span></span><span class=\"plain  rtl  \" ><span class=\"plain txtu ara rtl\"></span><span class=\"plain  rtl  hl\"  style=\"background-color: lightsalmon;\" ><span class=\"txtu ara\">ٱل</span></span><span class=\"plain  rtl  hl\"  style=\"background-color: mediumaquamarine;\" ><span class=\"txtu ara\">نَّارِ </span></span></span><span class=\"plain  rtl  \" ><span class=\"plain txtu ara rtl\"></span><span class=\"plain  rtl  hl\"  style=\"background-color: lightsalmon;\" ><span class=\"txtu ara\">قَالُ</span></span><span class=\"plain  rtl  hl\"  style=\"background-color: mediumaquamarine;\" ><span class=\"txtu ara\">وا۟ </span></span></span><span class=\"plain  rtl  hlbx\"  style=\"border-color: blue;\" ><span class=\"plain txtu ara rtl\"></span><span class=\"plain  rtl  hl\"  style=\"background-color: lightsalmon;\" ><span class=\"txtu ara\">رَبَّ</span></span><span class=\"plain  rtl  hl\"  style=\"background-color: mediumaquamarine;\" ><span class=\"txtu ara\">نَا </span></span></span><span class=\"plain  rtl  \" ><span class=\"plain txtu ara rtl\"></span><span class=\"plain  rtl  hl\"  style=\"background-color: lightsalmon;\" ><span class=\"txtu ara\">لَا </span></span></span><span class=\"plain  rtl  \" ><span class=\"plain txtu ara rtl\"></span><span class=\"plain  rtl  hl\"  style=\"background-color: mediumaquamarine;\" ><span class=\"txtu ara\">تَجْعَلْ</span></span><span class=\"plain  rtl  hl\"  style=\"background-color: lightsalmon;\" ><span class=\"txtu ara\">نَا </span></span></span><span class=\"plain  rtl  \" ><span class=\"plain txtu ara rtl\"></span><span class=\"plain  rtl  hl\"  style=\"background-color: mediumaquamarine;\" ><span class=\"txtu ara\">مَعَ </span></span></span><span class=\"plain  rtl  \" ><span class=\"plain txtu ara rtl\"></span><span class=\"plain  rtl  hl\"  style=\"background-color: lightsalmon;\" ><span class=\"txtu ara\">ٱلْ</span></span><span class=\"plain  rtl  hl\"  style=\"background-color: mediumaquamarine;\" ><span class=\"txtu ara\">قَوْمِ </span></span></span><span class=\"plain  rtl  hlbx\"  style=\"border-color: blue;\" ><span class=\"plain txtu ara rtl\"></span><span class=\"plain  rtl  hl\"  style=\"background-color: lightsalmon;\" ><span class=\"txtu ara\">ٱل</span></span><span class=\"plain  rtl  hl\"  style=\"background-color: mediumaquamarine;\" ><span class=\"txtu ara\">ظَّٰلِمِينَ</span></span></span></span>"
      ],
      "text/plain": [
       "<IPython.core.display.HTML object>"
      ]
     },
     "metadata": {},
     "output_type": "display_data"
    }
   ],
   "source": [
    "highlights = {i: 'lightsalmon' for i in words if i % 2 == 0}\n",
    "highlights.update({i: 'mediumaquamarine' for i in words if i % 2 == 1})\n",
    "highlights.update({i: 'blue' for i in groups if i % 5 == 1})\n",
    "highlights[aya] = '#eeeeff'\n",
    "A.plain(aya, highlights=highlights)"
   ]
  },
  {
   "cell_type": "markdown",
   "metadata": {},
   "source": [
    "# Ayas\n",
    "\n",
    "Now a couple of ayas:"
   ]
  },
  {
   "cell_type": "code",
   "execution_count": 18,
   "metadata": {
    "ExecuteTime": {
     "end_time": "2018-04-25T13:57:50.369004Z",
     "start_time": "2018-04-25T13:57:50.363695Z"
    }
   },
   "outputs": [],
   "source": [
    "aya1 = A.nodeFromSectionStr('2:7')\n",
    "aya2 = A.nodeFromSectionStr('3:17')"
   ]
  },
  {
   "cell_type": "code",
   "execution_count": 19,
   "metadata": {
    "ExecuteTime": {
     "end_time": "2018-04-25T13:57:53.124725Z",
     "start_time": "2018-04-25T13:57:53.108960Z"
    }
   },
   "outputs": [
    {
     "data": {
      "text/html": [
       "<span class=\"section ltr\"><a target=\"_blank\" href=\"/#3:17\" title=\"show this passage on Tanzil\" sec=\"3:17\">3:17</a> </span><div class=\"contnr c3  rtl  \" ><div class=\"lbl c3  \" ><span class=\"nd\">aya</span></div> <div class=\"children hor wrap rtl\"><div class=\"contnr c1  rtl  \" ><div class=\"lbl c1  \" ><span class=\"nd\">group</span></div> <div class=\"children hor  rtl\"><div class=\"contnr c0 trm rtl  \" ><div class=\"lbl c0 trm \" ><span class=\"txtu ara\">ٱل</span></div> </div><div class=\"contnr c0 trm rtl  \" ><div class=\"lbl c0 trm \" ><a target=\"_blank\" href=\"http://tanzil.net\" title=\"show this passage on Tanzil\"><span class=\"txtu ara\">صَّٰبِرِينَ </span></a></div> </div></div></div><div class=\"contnr c1  rtl  \" ><div class=\"lbl c1  \" ><span class=\"nd\">group</span></div> <div class=\"children hor  rtl\"><div class=\"contnr c0 trm rtl  \" ><div class=\"lbl c0 trm \" ><span class=\"txtu ara\">وَ</span></div> </div><div class=\"contnr c0 trm rtl  \" ><div class=\"lbl c0 trm \" ><span class=\"txtu ara\">ٱل</span></div> </div><div class=\"contnr c0 trm rtl  \" ><div class=\"lbl c0 trm \" ><a target=\"_blank\" href=\"http://tanzil.net\" title=\"show this passage on Tanzil\"><span class=\"txtu ara\">صَّٰدِقِينَ </span></a></div> </div></div></div><div class=\"contnr c1  rtl  \" ><div class=\"lbl c1  \" ><span class=\"nd\">group</span></div> <div class=\"children hor  rtl\"><div class=\"contnr c0 trm rtl  \" ><div class=\"lbl c0 trm \" ><span class=\"txtu ara\">وَ</span></div> </div><div class=\"contnr c0 trm rtl  \" ><div class=\"lbl c0 trm \" ><span class=\"txtu ara\">ٱلْ</span></div> </div><div class=\"contnr c0 trm rtl  \" ><div class=\"lbl c0 trm \" ><a target=\"_blank\" href=\"http://tanzil.net\" title=\"show this passage on Tanzil\"><span class=\"txtu ara\">قَٰنِتِينَ </span></a></div> </div></div></div><div class=\"contnr c1  rtl  \" ><div class=\"lbl c1  \" ><span class=\"nd\">group</span></div> <div class=\"children hor  rtl\"><div class=\"contnr c0 trm rtl  \" ><div class=\"lbl c0 trm \" ><span class=\"txtu ara\">وَ</span></div> </div><div class=\"contnr c0 trm rtl  \" ><div class=\"lbl c0 trm \" ><span class=\"txtu ara\">ٱلْ</span></div> </div><div class=\"contnr c0 trm rtl  \" ><div class=\"lbl c0 trm \" ><a target=\"_blank\" href=\"http://tanzil.net\" title=\"show this passage on Tanzil\"><span class=\"txtu ara\">مُنفِقِينَ </span></a></div> </div></div></div><div class=\"contnr c1  rtl  \" ><div class=\"lbl c1  \" ><span class=\"nd\">group</span></div> <div class=\"children hor  rtl\"><div class=\"contnr c0 trm rtl  \" ><div class=\"lbl c0 trm \" ><span class=\"txtu ara\">وَ</span></div> </div><div class=\"contnr c0 trm rtl  \" ><div class=\"lbl c0 trm \" ><span class=\"txtu ara\">ٱلْ</span></div> </div><div class=\"contnr c0 trm rtl  \" ><div class=\"lbl c0 trm \" ><a target=\"_blank\" href=\"http://tanzil.net\" title=\"show this passage on Tanzil\"><span class=\"txtu ara\">مُسْتَغْفِرِينَ </span></a></div> </div></div></div><div class=\"contnr c1  rtl  \" ><div class=\"lbl c1  \" ><span class=\"nd\">group</span></div> <div class=\"children hor  rtl\"><div class=\"contnr c0 trm rtl  \" ><div class=\"lbl c0 trm \" ><span class=\"txtu ara\">بِ</span></div> </div><div class=\"contnr c0 trm rtl  \" ><div class=\"lbl c0 trm \" ><span class=\"txtu ara\">ٱلْ</span></div> </div><div class=\"contnr c0 trm rtl  \" ><div class=\"lbl c0 trm \" ><a target=\"_blank\" href=\"http://tanzil.net\" title=\"show this passage on Tanzil\"><span class=\"txtu ara\">أَسْحَارِ</span></a></div> </div></div></div></div></div>"
      ],
      "text/plain": [
       "<IPython.core.display.HTML object>"
      ]
     },
     "metadata": {},
     "output_type": "display_data"
    }
   ],
   "source": [
    "A.pretty(aya2)"
   ]
  },
  {
   "cell_type": "markdown",
   "metadata": {},
   "source": [
    "The other aya with node numbers and standard features."
   ]
  },
  {
   "cell_type": "code",
   "execution_count": 20,
   "metadata": {
    "ExecuteTime": {
     "end_time": "2018-04-25T13:58:01.798768Z",
     "start_time": "2018-04-25T13:58:01.787884Z"
    }
   },
   "outputs": [
    {
     "data": {
      "text/html": [
       "<span class=\"section ltr\"><a target=\"_blank\" href=\"/#2:7\" title=\"show this passage on Tanzil\" sec=\"2:7\">2:7</a> </span><div class=\"contnr c3  rtl  \" ><div class=\"lbl c3  \" ><span class=\"nd\">aya:128233</span></div> <div class=\"children hor wrap rtl\"><div class=\"contnr c1  rtl  \" ><div class=\"lbl c1  \" ><span class=\"nd\">group:134532</span></div> <div class=\"children hor  rtl\"><div class=\"contnr c0 trm rtl  \" ><div class=\"lbl c0 trm \" ><span class=\"nd\">131</span> <a target=\"_blank\" href=\"http://tanzil.net\" title=\"show this passage on Tanzil\"><span class=\"txtu ara\">خَتَمَ </span></a></div> <div class='features'><span class=\"pos \" title=\"pos\">verb</span><span class=\"lemma \" ><span class=\"f\">lemma=</span>xatama</span><span class=\"root \" ><span class=\"f\">root=</span>xtm</span><span class=\"tense \" ><span class=\"f\">tense=</span>perfect</span></div></div></div></div><div class=\"contnr c1  rtl  \" ><div class=\"lbl c1  \" ><span class=\"nd\">group:134533</span></div> <div class=\"children hor  rtl\"><div class=\"contnr c0 trm rtl  \" ><div class=\"lbl c0 trm \" ><span class=\"nd\">132</span> <a target=\"_blank\" href=\"http://tanzil.net\" title=\"show this passage on Tanzil\"><span class=\"txtu ara\">ٱللَّهُ </span></a></div> <div class='features'><span class=\"pos \" title=\"pos\">noun</span><span class=\"posx \" title=\"posx\">proper</span><span class=\"lemma \" ><span class=\"f\">lemma=</span>{ll~ah</span><span class=\"root \" ><span class=\"f\">root=</span>Alh</span></div></div></div></div><div class=\"contnr c1  rtl  \" ><div class=\"lbl c1  \" ><span class=\"nd\">group:134534</span></div> <div class=\"children hor  rtl\"><div class=\"contnr c0 trm rtl  \" ><div class=\"lbl c0 trm \" ><span class=\"nd\">133</span> <a target=\"_blank\" href=\"http://tanzil.net\" title=\"show this passage on Tanzil\"><span class=\"txtu ara\">عَلَىٰ </span></a></div> <div class='features'><span class=\"pos \" title=\"pos\">preposition</span><span class=\"lemma \" ><span class=\"f\">lemma=</span>EalaY`</span></div></div></div></div><div class=\"contnr c1  rtl  \" ><div class=\"lbl c1  \" ><span class=\"nd\">group:134535</span></div> <div class=\"children hor  rtl\"><div class=\"contnr c0 trm rtl  \" ><div class=\"lbl c0 trm \" ><span class=\"nd\">134</span> <a target=\"_blank\" href=\"http://tanzil.net\" title=\"show this passage on Tanzil\"><span class=\"txtu ara\">قُلُوبِ</span></a></div> <div class='features'><span class=\"pos \" title=\"pos\">noun</span><span class=\"lemma \" ><span class=\"f\">lemma=</span>qalob</span><span class=\"root \" ><span class=\"f\">root=</span>qlb</span></div></div><div class=\"contnr c0 trm rtl  \" ><div class=\"lbl c0 trm \" ><span class=\"nd\">135</span> <span class=\"txtu ara\">هِمْ </span></div> <div class='features'><span class=\"pos \" title=\"pos\">pronoun</span><span class=\"posx \" title=\"posx\">personal</span></div></div></div></div><div class=\"contnr c1  rtl  \" ><div class=\"lbl c1  \" ><span class=\"nd\">group:134536</span></div> <div class=\"children hor  rtl\"><div class=\"contnr c0 trm rtl  \" ><div class=\"lbl c0 trm \" ><span class=\"nd\">136</span> <span class=\"txtu ara\">وَ</span></div> <div class='features'><span class=\"pos \" title=\"pos\">conjunction</span><span class=\"posx \" title=\"posx\">coordinating</span></div></div><div class=\"contnr c0 trm rtl  \" ><div class=\"lbl c0 trm \" ><span class=\"nd\">137</span> <a target=\"_blank\" href=\"http://tanzil.net\" title=\"show this passage on Tanzil\"><span class=\"txtu ara\">عَلَىٰ </span></a></div> <div class='features'><span class=\"pos \" title=\"pos\">preposition</span><span class=\"lemma \" ><span class=\"f\">lemma=</span>EalaY`</span></div></div></div></div><div class=\"contnr c1  rtl  \" ><div class=\"lbl c1  \" ><span class=\"nd\">group:134537</span></div> <div class=\"children hor  rtl\"><div class=\"contnr c0 trm rtl  \" ><div class=\"lbl c0 trm \" ><span class=\"nd\">138</span> <a target=\"_blank\" href=\"http://tanzil.net\" title=\"show this passage on Tanzil\"><span class=\"txtu ara\">سَمْعِ</span></a></div> <div class='features'><span class=\"pos \" title=\"pos\">noun</span><span class=\"lemma \" ><span class=\"f\">lemma=</span>samoE</span><span class=\"root \" ><span class=\"f\">root=</span>smE</span></div></div><div class=\"contnr c0 trm rtl  \" ><div class=\"lbl c0 trm \" ><span class=\"nd\">139</span> <span class=\"txtu ara\">هِمْ </span></div> <div class='features'><span class=\"pos \" title=\"pos\">pronoun</span><span class=\"posx \" title=\"posx\">personal</span></div></div></div></div><div class=\"contnr c1  rtl  \" ><div class=\"lbl c1  \" ><span class=\"nd\">group:134538</span></div> <div class=\"children hor  rtl\"><div class=\"contnr c0 trm rtl  \" ><div class=\"lbl c0 trm \" ><span class=\"nd\">140</span> <span class=\"txtu ara\">وَ</span></div> <div class='features'><span class=\"pos \" title=\"pos\">particle</span><span class=\"posx \" title=\"posx\">resumption</span></div></div><div class=\"contnr c0 trm rtl  \" ><div class=\"lbl c0 trm \" ><span class=\"nd\">141</span> <a target=\"_blank\" href=\"http://tanzil.net\" title=\"show this passage on Tanzil\"><span class=\"txtu ara\">عَلَىٰٓ </span></a></div> <div class='features'><span class=\"pos \" title=\"pos\">preposition</span><span class=\"lemma \" ><span class=\"f\">lemma=</span>EalaY`</span></div></div></div></div><div class=\"contnr c1  rtl  \" ><div class=\"lbl c1  \" ><span class=\"nd\">group:134539</span></div> <div class=\"children hor  rtl\"><div class=\"contnr c0 trm rtl  \" ><div class=\"lbl c0 trm \" ><span class=\"nd\">142</span> <a target=\"_blank\" href=\"http://tanzil.net\" title=\"show this passage on Tanzil\"><span class=\"txtu ara\">أَبْصَٰرِ</span></a></div> <div class='features'><span class=\"pos \" title=\"pos\">noun</span><span class=\"lemma \" ><span class=\"f\">lemma=</span>baSar</span><span class=\"root \" ><span class=\"f\">root=</span>bSr</span></div></div><div class=\"contnr c0 trm rtl  \" ><div class=\"lbl c0 trm \" ><span class=\"nd\">143</span> <span class=\"txtu ara\">هِمْ </span></div> <div class='features'><span class=\"pos \" title=\"pos\">pronoun</span><span class=\"posx \" title=\"posx\">personal</span></div></div></div></div><div class=\"contnr c1  rtl  \" ><div class=\"lbl c1  \" ><span class=\"nd\">group:134540</span></div> <div class=\"children hor  rtl\"><div class=\"contnr c0 trm rtl  \" ><div class=\"lbl c0 trm \" ><span class=\"nd\">144</span> <a target=\"_blank\" href=\"http://tanzil.net\" title=\"show this passage on Tanzil\"><span class=\"txtu ara\">غِشَٰوَةٌ </span></a></div> <div class='features'><span class=\"pos \" title=\"pos\">noun</span><span class=\"lemma \" ><span class=\"f\">lemma=</span>gi<span>$</span>a`wap</span><span class=\"root \" ><span class=\"f\">root=</span>g<span>$</span>w</span></div></div></div></div><div class=\"contnr c1  rtl  \" ><div class=\"lbl c1  \" ><span class=\"nd\">group:134541</span></div> <div class=\"children hor  rtl\"><div class=\"contnr c0 trm rtl  \" ><div class=\"lbl c0 trm \" ><span class=\"nd\">145</span> <span class=\"txtu ara\">وَ</span></div> <div class='features'><span class=\"pos \" title=\"pos\">particle</span><span class=\"posx \" title=\"posx\">resumption</span></div></div><div class=\"contnr c0 trm rtl  \" ><div class=\"lbl c0 trm \" ><span class=\"nd\">146</span> <span class=\"txtu ara\">لَ</span></div> <div class='features'><span class=\"pos \" title=\"pos\">preposition</span></div></div><div class=\"contnr c0 trm rtl  \" ><div class=\"lbl c0 trm \" ><span class=\"nd\">147</span> <span class=\"txtu ara\">هُمْ </span></div> <div class='features'><span class=\"pos \" title=\"pos\">pronoun</span><span class=\"posx \" title=\"posx\">personal</span></div></div></div></div><div class=\"contnr c1  rtl  \" ><div class=\"lbl c1  \" ><span class=\"nd\">group:134542</span></div> <div class=\"children hor  rtl\"><div class=\"contnr c0 trm rtl  \" ><div class=\"lbl c0 trm \" ><span class=\"nd\">148</span> <a target=\"_blank\" href=\"http://tanzil.net\" title=\"show this passage on Tanzil\"><span class=\"txtu ara\">عَذَابٌ </span></a></div> <div class='features'><span class=\"pos \" title=\"pos\">noun</span><span class=\"lemma \" ><span class=\"f\">lemma=</span>Ea*aAb</span><span class=\"root \" ><span class=\"f\">root=</span>E*b</span></div></div></div></div><div class=\"contnr c1  rtl  \" ><div class=\"lbl c1  \" ><span class=\"nd\">group:134543</span></div> <div class=\"children hor  rtl\"><div class=\"contnr c0 trm rtl  \" ><div class=\"lbl c0 trm \" ><span class=\"nd\">149</span> <a target=\"_blank\" href=\"http://tanzil.net\" title=\"show this passage on Tanzil\"><span class=\"txtu ara\">عَظِيمٌ</span></a></div> <div class='features'><span class=\"pos \" title=\"pos\">adjective</span><span class=\"lemma \" ><span class=\"f\">lemma=</span>EaZiym</span><span class=\"root \" ><span class=\"f\">root=</span>EZm</span></div></div></div></div></div></div>"
      ],
      "text/plain": [
       "<IPython.core.display.HTML object>"
      ]
     },
     "metadata": {},
     "output_type": "display_data"
    }
   ],
   "source": [
    "A.pretty(aya1, withNodes=True, standardFeatures=True)"
   ]
  },
  {
   "cell_type": "markdown",
   "metadata": {},
   "source": [
    "Now we selectively remove a few features from the display:"
   ]
  },
  {
   "cell_type": "code",
   "execution_count": 21,
   "metadata": {
    "ExecuteTime": {
     "end_time": "2018-04-25T13:58:07.808474Z",
     "start_time": "2018-04-25T13:58:07.784567Z"
    }
   },
   "outputs": [
    {
     "data": {
      "text/html": [
       "<span class=\"section ltr\"><a target=\"_blank\" href=\"/#2:7\" title=\"show this passage on Tanzil\" sec=\"2:7\">2:7</a> </span><div class=\"contnr c3  rtl  \" ><div class=\"lbl c3  \" ><span class=\"nd\">aya</span></div> <div class=\"children hor wrap rtl\"><div class=\"contnr c1  rtl  \" ><div class=\"lbl c1  \" ><span class=\"nd\">group</span></div> <div class=\"children hor  rtl\"><div class=\"contnr c0 trm rtl  \" ><div class=\"lbl c0 trm \" ><a target=\"_blank\" href=\"http://tanzil.net\" title=\"show this passage on Tanzil\"><span class=\"txtu ara\">خَتَمَ </span></a></div> <div class='features'><span class=\"pos \" title=\"pos\">verb</span><span class=\"lemma \" ><span class=\"f\">lemma=</span>xatama</span><span class=\"root \" ><span class=\"f\">root=</span>xtm</span></div></div></div></div><div class=\"contnr c1  rtl  \" ><div class=\"lbl c1  \" ><span class=\"nd\">group</span></div> <div class=\"children hor  rtl\"><div class=\"contnr c0 trm rtl  \" ><div class=\"lbl c0 trm \" ><a target=\"_blank\" href=\"http://tanzil.net\" title=\"show this passage on Tanzil\"><span class=\"txtu ara\">ٱللَّهُ </span></a></div> <div class='features'><span class=\"pos \" title=\"pos\">noun</span><span class=\"lemma \" ><span class=\"f\">lemma=</span>{ll~ah</span><span class=\"root \" ><span class=\"f\">root=</span>Alh</span></div></div></div></div><div class=\"contnr c1  rtl  \" ><div class=\"lbl c1  \" ><span class=\"nd\">group</span></div> <div class=\"children hor  rtl\"><div class=\"contnr c0 trm rtl  \" ><div class=\"lbl c0 trm \" ><a target=\"_blank\" href=\"http://tanzil.net\" title=\"show this passage on Tanzil\"><span class=\"txtu ara\">عَلَىٰ </span></a></div> <div class='features'><span class=\"pos \" title=\"pos\">preposition</span><span class=\"lemma \" ><span class=\"f\">lemma=</span>EalaY`</span></div></div></div></div><div class=\"contnr c1  rtl  \" ><div class=\"lbl c1  \" ><span class=\"nd\">group</span></div> <div class=\"children hor  rtl\"><div class=\"contnr c0 trm rtl  \" ><div class=\"lbl c0 trm \" ><a target=\"_blank\" href=\"http://tanzil.net\" title=\"show this passage on Tanzil\"><span class=\"txtu ara\">قُلُوبِ</span></a></div> <div class='features'><span class=\"pos \" title=\"pos\">noun</span><span class=\"lemma \" ><span class=\"f\">lemma=</span>qalob</span><span class=\"root \" ><span class=\"f\">root=</span>qlb</span></div></div><div class=\"contnr c0 trm rtl  \" ><div class=\"lbl c0 trm \" ><span class=\"txtu ara\">هِمْ </span></div> <div class='features'><span class=\"pos \" title=\"pos\">pronoun</span></div></div></div></div><div class=\"contnr c1  rtl  \" ><div class=\"lbl c1  \" ><span class=\"nd\">group</span></div> <div class=\"children hor  rtl\"><div class=\"contnr c0 trm rtl  \" ><div class=\"lbl c0 trm \" ><span class=\"txtu ara\">وَ</span></div> <div class='features'><span class=\"pos \" title=\"pos\">conjunction</span></div></div><div class=\"contnr c0 trm rtl  \" ><div class=\"lbl c0 trm \" ><a target=\"_blank\" href=\"http://tanzil.net\" title=\"show this passage on Tanzil\"><span class=\"txtu ara\">عَلَىٰ </span></a></div> <div class='features'><span class=\"pos \" title=\"pos\">preposition</span><span class=\"lemma \" ><span class=\"f\">lemma=</span>EalaY`</span></div></div></div></div><div class=\"contnr c1  rtl  \" ><div class=\"lbl c1  \" ><span class=\"nd\">group</span></div> <div class=\"children hor  rtl\"><div class=\"contnr c0 trm rtl  \" ><div class=\"lbl c0 trm \" ><a target=\"_blank\" href=\"http://tanzil.net\" title=\"show this passage on Tanzil\"><span class=\"txtu ara\">سَمْعِ</span></a></div> <div class='features'><span class=\"pos \" title=\"pos\">noun</span><span class=\"lemma \" ><span class=\"f\">lemma=</span>samoE</span><span class=\"root \" ><span class=\"f\">root=</span>smE</span></div></div><div class=\"contnr c0 trm rtl  \" ><div class=\"lbl c0 trm \" ><span class=\"txtu ara\">هِمْ </span></div> <div class='features'><span class=\"pos \" title=\"pos\">pronoun</span></div></div></div></div><div class=\"contnr c1  rtl  \" ><div class=\"lbl c1  \" ><span class=\"nd\">group</span></div> <div class=\"children hor  rtl\"><div class=\"contnr c0 trm rtl  \" ><div class=\"lbl c0 trm \" ><span class=\"txtu ara\">وَ</span></div> <div class='features'><span class=\"pos \" title=\"pos\">particle</span></div></div><div class=\"contnr c0 trm rtl  \" ><div class=\"lbl c0 trm \" ><a target=\"_blank\" href=\"http://tanzil.net\" title=\"show this passage on Tanzil\"><span class=\"txtu ara\">عَلَىٰٓ </span></a></div> <div class='features'><span class=\"pos \" title=\"pos\">preposition</span><span class=\"lemma \" ><span class=\"f\">lemma=</span>EalaY`</span></div></div></div></div><div class=\"contnr c1  rtl  \" ><div class=\"lbl c1  \" ><span class=\"nd\">group</span></div> <div class=\"children hor  rtl\"><div class=\"contnr c0 trm rtl  \" ><div class=\"lbl c0 trm \" ><a target=\"_blank\" href=\"http://tanzil.net\" title=\"show this passage on Tanzil\"><span class=\"txtu ara\">أَبْصَٰرِ</span></a></div> <div class='features'><span class=\"pos \" title=\"pos\">noun</span><span class=\"lemma \" ><span class=\"f\">lemma=</span>baSar</span><span class=\"root \" ><span class=\"f\">root=</span>bSr</span></div></div><div class=\"contnr c0 trm rtl  \" ><div class=\"lbl c0 trm \" ><span class=\"txtu ara\">هِمْ </span></div> <div class='features'><span class=\"pos \" title=\"pos\">pronoun</span></div></div></div></div><div class=\"contnr c1  rtl  \" ><div class=\"lbl c1  \" ><span class=\"nd\">group</span></div> <div class=\"children hor  rtl\"><div class=\"contnr c0 trm rtl  \" ><div class=\"lbl c0 trm \" ><a target=\"_blank\" href=\"http://tanzil.net\" title=\"show this passage on Tanzil\"><span class=\"txtu ara\">غِشَٰوَةٌ </span></a></div> <div class='features'><span class=\"pos \" title=\"pos\">noun</span><span class=\"lemma \" ><span class=\"f\">lemma=</span>gi<span>$</span>a`wap</span><span class=\"root \" ><span class=\"f\">root=</span>g<span>$</span>w</span></div></div></div></div><div class=\"contnr c1  rtl  \" ><div class=\"lbl c1  \" ><span class=\"nd\">group</span></div> <div class=\"children hor  rtl\"><div class=\"contnr c0 trm rtl  \" ><div class=\"lbl c0 trm \" ><span class=\"txtu ara\">وَ</span></div> <div class='features'><span class=\"pos \" title=\"pos\">particle</span></div></div><div class=\"contnr c0 trm rtl  \" ><div class=\"lbl c0 trm \" ><span class=\"txtu ara\">لَ</span></div> <div class='features'><span class=\"pos \" title=\"pos\">preposition</span></div></div><div class=\"contnr c0 trm rtl  \" ><div class=\"lbl c0 trm \" ><span class=\"txtu ara\">هُمْ </span></div> <div class='features'><span class=\"pos \" title=\"pos\">pronoun</span></div></div></div></div><div class=\"contnr c1  rtl  \" ><div class=\"lbl c1  \" ><span class=\"nd\">group</span></div> <div class=\"children hor  rtl\"><div class=\"contnr c0 trm rtl  \" ><div class=\"lbl c0 trm \" ><a target=\"_blank\" href=\"http://tanzil.net\" title=\"show this passage on Tanzil\"><span class=\"txtu ara\">عَذَابٌ </span></a></div> <div class='features'><span class=\"pos \" title=\"pos\">noun</span><span class=\"lemma \" ><span class=\"f\">lemma=</span>Ea*aAb</span><span class=\"root \" ><span class=\"f\">root=</span>E*b</span></div></div></div></div><div class=\"contnr c1  rtl  \" ><div class=\"lbl c1  \" ><span class=\"nd\">group</span></div> <div class=\"children hor  rtl\"><div class=\"contnr c0 trm rtl  \" ><div class=\"lbl c0 trm \" ><a target=\"_blank\" href=\"http://tanzil.net\" title=\"show this passage on Tanzil\"><span class=\"txtu ara\">عَظِيمٌ</span></a></div> <div class='features'><span class=\"pos \" title=\"pos\">adjective</span><span class=\"lemma \" ><span class=\"f\">lemma=</span>EaZiym</span><span class=\"root \" ><span class=\"f\">root=</span>EZm</span></div></div></div></div></div></div>"
      ],
      "text/plain": [
       "<IPython.core.display.HTML object>"
      ]
     },
     "metadata": {},
     "output_type": "display_data"
    }
   ],
   "source": [
    "A.pretty(aya1, suppress={'posx', 'tense'}, standardFeatures=True)"
   ]
  },
  {
   "cell_type": "markdown",
   "metadata": {},
   "source": [
    "Now we add features to the display: "
   ]
  },
  {
   "cell_type": "code",
   "execution_count": 22,
   "metadata": {},
   "outputs": [],
   "source": [
    "A.displaySetup(extraFeatures=['ps', 'nu', 'gn'])"
   ]
  },
  {
   "cell_type": "code",
   "execution_count": 23,
   "metadata": {},
   "outputs": [
    {
     "data": {
      "text/html": [
       "<span class=\"section ltr\"><a target=\"_blank\" href=\"/#2:7\" title=\"show this passage on Tanzil\" sec=\"2:7\">2:7</a> </span><div class=\"contnr c3  rtl  \" ><div class=\"lbl c3  \" ><span class=\"nd\">aya</span></div> <div class=\"children hor wrap rtl\"><div class=\"contnr c1  rtl  \" ><div class=\"lbl c1  \" ><span class=\"nd\">group</span></div> <div class=\"children hor  rtl\"><div class=\"contnr c0 trm rtl  \" ><div class=\"lbl c0 trm \" ><a target=\"_blank\" href=\"http://tanzil.net\" title=\"show this passage on Tanzil\"><span class=\"txtu ara\">خَتَمَ </span></a></div> <div class='features'><span class=\"gn xft\" ><span class=\"f\">gn=</span>m</span><span class=\"nu xft\" ><span class=\"f\">nu=</span>s</span><span class=\"ps xft\" ><span class=\"f\">ps=</span>3</span></div></div></div></div><div class=\"contnr c1  rtl  \" ><div class=\"lbl c1  \" ><span class=\"nd\">group</span></div> <div class=\"children hor  rtl\"><div class=\"contnr c0 trm rtl  \" ><div class=\"lbl c0 trm \" ><a target=\"_blank\" href=\"http://tanzil.net\" title=\"show this passage on Tanzil\"><span class=\"txtu ara\">ٱللَّهُ </span></a></div> </div></div></div><div class=\"contnr c1  rtl  \" ><div class=\"lbl c1  \" ><span class=\"nd\">group</span></div> <div class=\"children hor  rtl\"><div class=\"contnr c0 trm rtl  \" ><div class=\"lbl c0 trm \" ><a target=\"_blank\" href=\"http://tanzil.net\" title=\"show this passage on Tanzil\"><span class=\"txtu ara\">عَلَىٰ </span></a></div> </div></div></div><div class=\"contnr c1  rtl  \" ><div class=\"lbl c1  \" ><span class=\"nd\">group</span></div> <div class=\"children hor  rtl\"><div class=\"contnr c0 trm rtl  \" ><div class=\"lbl c0 trm \" ><a target=\"_blank\" href=\"http://tanzil.net\" title=\"show this passage on Tanzil\"><span class=\"txtu ara\">قُلُوبِ</span></a></div> <div class='features'><span class=\"gn xft\" ><span class=\"f\">gn=</span>f</span><span class=\"nu xft\" ><span class=\"f\">nu=</span>p</span></div></div><div class=\"contnr c0 trm rtl  \" ><div class=\"lbl c0 trm \" ><span class=\"txtu ara\">هِمْ </span></div> <div class='features'><span class=\"gn xft\" ><span class=\"f\">gn=</span>m</span><span class=\"nu xft\" ><span class=\"f\">nu=</span>p</span><span class=\"ps xft\" ><span class=\"f\">ps=</span>3</span></div></div></div></div><div class=\"contnr c1  rtl  \" ><div class=\"lbl c1  \" ><span class=\"nd\">group</span></div> <div class=\"children hor  rtl\"><div class=\"contnr c0 trm rtl  \" ><div class=\"lbl c0 trm \" ><span class=\"txtu ara\">وَ</span></div> </div><div class=\"contnr c0 trm rtl  \" ><div class=\"lbl c0 trm \" ><a target=\"_blank\" href=\"http://tanzil.net\" title=\"show this passage on Tanzil\"><span class=\"txtu ara\">عَلَىٰ </span></a></div> </div></div></div><div class=\"contnr c1  rtl  \" ><div class=\"lbl c1  \" ><span class=\"nd\">group</span></div> <div class=\"children hor  rtl\"><div class=\"contnr c0 trm rtl  \" ><div class=\"lbl c0 trm \" ><a target=\"_blank\" href=\"http://tanzil.net\" title=\"show this passage on Tanzil\"><span class=\"txtu ara\">سَمْعِ</span></a></div> <div class='features'><span class=\"gn xft\" ><span class=\"f\">gn=</span>m</span></div></div><div class=\"contnr c0 trm rtl  \" ><div class=\"lbl c0 trm \" ><span class=\"txtu ara\">هِمْ </span></div> <div class='features'><span class=\"gn xft\" ><span class=\"f\">gn=</span>m</span><span class=\"nu xft\" ><span class=\"f\">nu=</span>p</span><span class=\"ps xft\" ><span class=\"f\">ps=</span>3</span></div></div></div></div><div class=\"contnr c1  rtl  \" ><div class=\"lbl c1  \" ><span class=\"nd\">group</span></div> <div class=\"children hor  rtl\"><div class=\"contnr c0 trm rtl  \" ><div class=\"lbl c0 trm \" ><span class=\"txtu ara\">وَ</span></div> </div><div class=\"contnr c0 trm rtl  \" ><div class=\"lbl c0 trm \" ><a target=\"_blank\" href=\"http://tanzil.net\" title=\"show this passage on Tanzil\"><span class=\"txtu ara\">عَلَىٰٓ </span></a></div> </div></div></div><div class=\"contnr c1  rtl  \" ><div class=\"lbl c1  \" ><span class=\"nd\">group</span></div> <div class=\"children hor  rtl\"><div class=\"contnr c0 trm rtl  \" ><div class=\"lbl c0 trm \" ><a target=\"_blank\" href=\"http://tanzil.net\" title=\"show this passage on Tanzil\"><span class=\"txtu ara\">أَبْصَٰرِ</span></a></div> <div class='features'><span class=\"gn xft\" ><span class=\"f\">gn=</span>m</span><span class=\"nu xft\" ><span class=\"f\">nu=</span>p</span></div></div><div class=\"contnr c0 trm rtl  \" ><div class=\"lbl c0 trm \" ><span class=\"txtu ara\">هِمْ </span></div> <div class='features'><span class=\"gn xft\" ><span class=\"f\">gn=</span>m</span><span class=\"nu xft\" ><span class=\"f\">nu=</span>p</span><span class=\"ps xft\" ><span class=\"f\">ps=</span>3</span></div></div></div></div><div class=\"contnr c1  rtl  \" ><div class=\"lbl c1  \" ><span class=\"nd\">group</span></div> <div class=\"children hor  rtl\"><div class=\"contnr c0 trm rtl  \" ><div class=\"lbl c0 trm \" ><a target=\"_blank\" href=\"http://tanzil.net\" title=\"show this passage on Tanzil\"><span class=\"txtu ara\">غِشَٰوَةٌ </span></a></div> <div class='features'><span class=\"gn xft\" ><span class=\"f\">gn=</span>f</span></div></div></div></div><div class=\"contnr c1  rtl  \" ><div class=\"lbl c1  \" ><span class=\"nd\">group</span></div> <div class=\"children hor  rtl\"><div class=\"contnr c0 trm rtl  \" ><div class=\"lbl c0 trm \" ><span class=\"txtu ara\">وَ</span></div> </div><div class=\"contnr c0 trm rtl  \" ><div class=\"lbl c0 trm \" ><span class=\"txtu ara\">لَ</span></div> </div><div class=\"contnr c0 trm rtl  \" ><div class=\"lbl c0 trm \" ><span class=\"txtu ara\">هُمْ </span></div> <div class='features'><span class=\"gn xft\" ><span class=\"f\">gn=</span>m</span><span class=\"nu xft\" ><span class=\"f\">nu=</span>p</span><span class=\"ps xft\" ><span class=\"f\">ps=</span>3</span></div></div></div></div><div class=\"contnr c1  rtl  \" ><div class=\"lbl c1  \" ><span class=\"nd\">group</span></div> <div class=\"children hor  rtl\"><div class=\"contnr c0 trm rtl  \" ><div class=\"lbl c0 trm \" ><a target=\"_blank\" href=\"http://tanzil.net\" title=\"show this passage on Tanzil\"><span class=\"txtu ara\">عَذَابٌ </span></a></div> <div class='features'><span class=\"gn xft\" ><span class=\"f\">gn=</span>m</span></div></div></div></div><div class=\"contnr c1  rtl  \" ><div class=\"lbl c1  \" ><span class=\"nd\">group</span></div> <div class=\"children hor  rtl\"><div class=\"contnr c0 trm rtl  \" ><div class=\"lbl c0 trm \" ><a target=\"_blank\" href=\"http://tanzil.net\" title=\"show this passage on Tanzil\"><span class=\"txtu ara\">عَظِيمٌ</span></a></div> <div class='features'><span class=\"gn xft\" ><span class=\"f\">gn=</span>m</span><span class=\"nu xft\" ><span class=\"f\">nu=</span>s</span></div></div></div></div></div></div>"
      ],
      "text/plain": [
       "<IPython.core.display.HTML object>"
      ]
     },
     "metadata": {},
     "output_type": "display_data"
    }
   ],
   "source": [
    "A.pretty(aya1)"
   ]
  },
  {
   "cell_type": "markdown",
   "metadata": {},
   "source": [
    "and we reset the pretty features to the default values:"
   ]
  },
  {
   "cell_type": "code",
   "execution_count": 24,
   "metadata": {},
   "outputs": [],
   "source": [
    "A.displayReset('extraFeatures')"
   ]
  },
  {
   "cell_type": "code",
   "execution_count": 25,
   "metadata": {},
   "outputs": [
    {
     "data": {
      "text/html": [
       "<span class=\"section ltr\"><a target=\"_blank\" href=\"/#2:7\" title=\"show this passage on Tanzil\" sec=\"2:7\">2:7</a> </span><div class=\"contnr c3  rtl  \" ><div class=\"lbl c3  \" ><span class=\"nd\">aya</span></div> <div class=\"children hor wrap rtl\"><div class=\"contnr c1  rtl  \" ><div class=\"lbl c1  \" ><span class=\"nd\">group</span></div> <div class=\"children hor  rtl\"><div class=\"contnr c0 trm rtl  \" ><div class=\"lbl c0 trm \" ><a target=\"_blank\" href=\"http://tanzil.net\" title=\"show this passage on Tanzil\"><span class=\"txtu ara\">خَتَمَ </span></a></div> </div></div></div><div class=\"contnr c1  rtl  \" ><div class=\"lbl c1  \" ><span class=\"nd\">group</span></div> <div class=\"children hor  rtl\"><div class=\"contnr c0 trm rtl  \" ><div class=\"lbl c0 trm \" ><a target=\"_blank\" href=\"http://tanzil.net\" title=\"show this passage on Tanzil\"><span class=\"txtu ara\">ٱللَّهُ </span></a></div> </div></div></div><div class=\"contnr c1  rtl  \" ><div class=\"lbl c1  \" ><span class=\"nd\">group</span></div> <div class=\"children hor  rtl\"><div class=\"contnr c0 trm rtl  \" ><div class=\"lbl c0 trm \" ><a target=\"_blank\" href=\"http://tanzil.net\" title=\"show this passage on Tanzil\"><span class=\"txtu ara\">عَلَىٰ </span></a></div> </div></div></div><div class=\"contnr c1  rtl  \" ><div class=\"lbl c1  \" ><span class=\"nd\">group</span></div> <div class=\"children hor  rtl\"><div class=\"contnr c0 trm rtl  \" ><div class=\"lbl c0 trm \" ><a target=\"_blank\" href=\"http://tanzil.net\" title=\"show this passage on Tanzil\"><span class=\"txtu ara\">قُلُوبِ</span></a></div> </div><div class=\"contnr c0 trm rtl  \" ><div class=\"lbl c0 trm \" ><span class=\"txtu ara\">هِمْ </span></div> </div></div></div><div class=\"contnr c1  rtl  \" ><div class=\"lbl c1  \" ><span class=\"nd\">group</span></div> <div class=\"children hor  rtl\"><div class=\"contnr c0 trm rtl  \" ><div class=\"lbl c0 trm \" ><span class=\"txtu ara\">وَ</span></div> </div><div class=\"contnr c0 trm rtl  \" ><div class=\"lbl c0 trm \" ><a target=\"_blank\" href=\"http://tanzil.net\" title=\"show this passage on Tanzil\"><span class=\"txtu ara\">عَلَىٰ </span></a></div> </div></div></div><div class=\"contnr c1  rtl  \" ><div class=\"lbl c1  \" ><span class=\"nd\">group</span></div> <div class=\"children hor  rtl\"><div class=\"contnr c0 trm rtl  \" ><div class=\"lbl c0 trm \" ><a target=\"_blank\" href=\"http://tanzil.net\" title=\"show this passage on Tanzil\"><span class=\"txtu ara\">سَمْعِ</span></a></div> </div><div class=\"contnr c0 trm rtl  \" ><div class=\"lbl c0 trm \" ><span class=\"txtu ara\">هِمْ </span></div> </div></div></div><div class=\"contnr c1  rtl  \" ><div class=\"lbl c1  \" ><span class=\"nd\">group</span></div> <div class=\"children hor  rtl\"><div class=\"contnr c0 trm rtl  \" ><div class=\"lbl c0 trm \" ><span class=\"txtu ara\">وَ</span></div> </div><div class=\"contnr c0 trm rtl  \" ><div class=\"lbl c0 trm \" ><a target=\"_blank\" href=\"http://tanzil.net\" title=\"show this passage on Tanzil\"><span class=\"txtu ara\">عَلَىٰٓ </span></a></div> </div></div></div><div class=\"contnr c1  rtl  \" ><div class=\"lbl c1  \" ><span class=\"nd\">group</span></div> <div class=\"children hor  rtl\"><div class=\"contnr c0 trm rtl  \" ><div class=\"lbl c0 trm \" ><a target=\"_blank\" href=\"http://tanzil.net\" title=\"show this passage on Tanzil\"><span class=\"txtu ara\">أَبْصَٰرِ</span></a></div> </div><div class=\"contnr c0 trm rtl  \" ><div class=\"lbl c0 trm \" ><span class=\"txtu ara\">هِمْ </span></div> </div></div></div><div class=\"contnr c1  rtl  \" ><div class=\"lbl c1  \" ><span class=\"nd\">group</span></div> <div class=\"children hor  rtl\"><div class=\"contnr c0 trm rtl  \" ><div class=\"lbl c0 trm \" ><a target=\"_blank\" href=\"http://tanzil.net\" title=\"show this passage on Tanzil\"><span class=\"txtu ara\">غِشَٰوَةٌ </span></a></div> </div></div></div><div class=\"contnr c1  rtl  \" ><div class=\"lbl c1  \" ><span class=\"nd\">group</span></div> <div class=\"children hor  rtl\"><div class=\"contnr c0 trm rtl  \" ><div class=\"lbl c0 trm \" ><span class=\"txtu ara\">وَ</span></div> </div><div class=\"contnr c0 trm rtl  \" ><div class=\"lbl c0 trm \" ><span class=\"txtu ara\">لَ</span></div> </div><div class=\"contnr c0 trm rtl  \" ><div class=\"lbl c0 trm \" ><span class=\"txtu ara\">هُمْ </span></div> </div></div></div><div class=\"contnr c1  rtl  \" ><div class=\"lbl c1  \" ><span class=\"nd\">group</span></div> <div class=\"children hor  rtl\"><div class=\"contnr c0 trm rtl  \" ><div class=\"lbl c0 trm \" ><a target=\"_blank\" href=\"http://tanzil.net\" title=\"show this passage on Tanzil\"><span class=\"txtu ara\">عَذَابٌ </span></a></div> </div></div></div><div class=\"contnr c1  rtl  \" ><div class=\"lbl c1  \" ><span class=\"nd\">group</span></div> <div class=\"children hor  rtl\"><div class=\"contnr c0 trm rtl  \" ><div class=\"lbl c0 trm \" ><a target=\"_blank\" href=\"http://tanzil.net\" title=\"show this passage on Tanzil\"><span class=\"txtu ara\">عَظِيمٌ</span></a></div> </div></div></div></div></div>"
      ],
      "text/plain": [
       "<IPython.core.display.HTML object>"
      ]
     },
     "metadata": {},
     "output_type": "display_data"
    }
   ],
   "source": [
    "A.pretty(aya1)"
   ]
  },
  {
   "cell_type": "code",
   "execution_count": 26,
   "metadata": {},
   "outputs": [],
   "source": [
    "A.displaySetup(extraFeatures=['translation@en', 'translation@nl'])"
   ]
  },
  {
   "cell_type": "code",
   "execution_count": 27,
   "metadata": {},
   "outputs": [
    {
     "data": {
      "text/html": [
       "<span class=\"section ltr\"><a target=\"_blank\" href=\"/#2:7\" title=\"show this passage on Tanzil\" sec=\"2:7\">2:7</a> </span><div class=\"contnr c3  rtl  \" ><div class=\"lbl c3  \" ><span class=\"nd\">aya</span></div> <div class='features'><span class=\"translation@en xft\" ><span class=\"f\">translation@en=</span>God has set a seal on their hearts and on their hearing, and on their eyes is a covering, and there awaits them a mighty chastisement.</span><span class=\"translation@nl xft\" ><span class=\"f\">translation@nl=</span>God heeft hun harten en hun gehoor verzegeld en over hun ogen is een sluier; voor hen is er een geweldige bestraffing.</span></div><div class=\"children hor wrap rtl\"><div class=\"contnr c1  rtl  \" ><div class=\"lbl c1  \" ><span class=\"nd\">group</span></div> <div class=\"children hor  rtl\"><div class=\"contnr c0 trm rtl  \" ><div class=\"lbl c0 trm \" ><a target=\"_blank\" href=\"http://tanzil.net\" title=\"show this passage on Tanzil\"><span class=\"txtu ara\">خَتَمَ </span></a></div> </div></div></div><div class=\"contnr c1  rtl  \" ><div class=\"lbl c1  \" ><span class=\"nd\">group</span></div> <div class=\"children hor  rtl\"><div class=\"contnr c0 trm rtl  \" ><div class=\"lbl c0 trm \" ><a target=\"_blank\" href=\"http://tanzil.net\" title=\"show this passage on Tanzil\"><span class=\"txtu ara\">ٱللَّهُ </span></a></div> </div></div></div><div class=\"contnr c1  rtl  \" ><div class=\"lbl c1  \" ><span class=\"nd\">group</span></div> <div class=\"children hor  rtl\"><div class=\"contnr c0 trm rtl  \" ><div class=\"lbl c0 trm \" ><a target=\"_blank\" href=\"http://tanzil.net\" title=\"show this passage on Tanzil\"><span class=\"txtu ara\">عَلَىٰ </span></a></div> </div></div></div><div class=\"contnr c1  rtl  \" ><div class=\"lbl c1  \" ><span class=\"nd\">group</span></div> <div class=\"children hor  rtl\"><div class=\"contnr c0 trm rtl  \" ><div class=\"lbl c0 trm \" ><a target=\"_blank\" href=\"http://tanzil.net\" title=\"show this passage on Tanzil\"><span class=\"txtu ara\">قُلُوبِ</span></a></div> </div><div class=\"contnr c0 trm rtl  \" ><div class=\"lbl c0 trm \" ><span class=\"txtu ara\">هِمْ </span></div> </div></div></div><div class=\"contnr c1  rtl  \" ><div class=\"lbl c1  \" ><span class=\"nd\">group</span></div> <div class=\"children hor  rtl\"><div class=\"contnr c0 trm rtl  \" ><div class=\"lbl c0 trm \" ><span class=\"txtu ara\">وَ</span></div> </div><div class=\"contnr c0 trm rtl  \" ><div class=\"lbl c0 trm \" ><a target=\"_blank\" href=\"http://tanzil.net\" title=\"show this passage on Tanzil\"><span class=\"txtu ara\">عَلَىٰ </span></a></div> </div></div></div><div class=\"contnr c1  rtl  \" ><div class=\"lbl c1  \" ><span class=\"nd\">group</span></div> <div class=\"children hor  rtl\"><div class=\"contnr c0 trm rtl  \" ><div class=\"lbl c0 trm \" ><a target=\"_blank\" href=\"http://tanzil.net\" title=\"show this passage on Tanzil\"><span class=\"txtu ara\">سَمْعِ</span></a></div> </div><div class=\"contnr c0 trm rtl  \" ><div class=\"lbl c0 trm \" ><span class=\"txtu ara\">هِمْ </span></div> </div></div></div><div class=\"contnr c1  rtl  \" ><div class=\"lbl c1  \" ><span class=\"nd\">group</span></div> <div class=\"children hor  rtl\"><div class=\"contnr c0 trm rtl  \" ><div class=\"lbl c0 trm \" ><span class=\"txtu ara\">وَ</span></div> </div><div class=\"contnr c0 trm rtl  \" ><div class=\"lbl c0 trm \" ><a target=\"_blank\" href=\"http://tanzil.net\" title=\"show this passage on Tanzil\"><span class=\"txtu ara\">عَلَىٰٓ </span></a></div> </div></div></div><div class=\"contnr c1  rtl  \" ><div class=\"lbl c1  \" ><span class=\"nd\">group</span></div> <div class=\"children hor  rtl\"><div class=\"contnr c0 trm rtl  \" ><div class=\"lbl c0 trm \" ><a target=\"_blank\" href=\"http://tanzil.net\" title=\"show this passage on Tanzil\"><span class=\"txtu ara\">أَبْصَٰرِ</span></a></div> </div><div class=\"contnr c0 trm rtl  \" ><div class=\"lbl c0 trm \" ><span class=\"txtu ara\">هِمْ </span></div> </div></div></div><div class=\"contnr c1  rtl  \" ><div class=\"lbl c1  \" ><span class=\"nd\">group</span></div> <div class=\"children hor  rtl\"><div class=\"contnr c0 trm rtl  \" ><div class=\"lbl c0 trm \" ><a target=\"_blank\" href=\"http://tanzil.net\" title=\"show this passage on Tanzil\"><span class=\"txtu ara\">غِشَٰوَةٌ </span></a></div> </div></div></div><div class=\"contnr c1  rtl  \" ><div class=\"lbl c1  \" ><span class=\"nd\">group</span></div> <div class=\"children hor  rtl\"><div class=\"contnr c0 trm rtl  \" ><div class=\"lbl c0 trm \" ><span class=\"txtu ara\">وَ</span></div> </div><div class=\"contnr c0 trm rtl  \" ><div class=\"lbl c0 trm \" ><span class=\"txtu ara\">لَ</span></div> </div><div class=\"contnr c0 trm rtl  \" ><div class=\"lbl c0 trm \" ><span class=\"txtu ara\">هُمْ </span></div> </div></div></div><div class=\"contnr c1  rtl  \" ><div class=\"lbl c1  \" ><span class=\"nd\">group</span></div> <div class=\"children hor  rtl\"><div class=\"contnr c0 trm rtl  \" ><div class=\"lbl c0 trm \" ><a target=\"_blank\" href=\"http://tanzil.net\" title=\"show this passage on Tanzil\"><span class=\"txtu ara\">عَذَابٌ </span></a></div> </div></div></div><div class=\"contnr c1  rtl  \" ><div class=\"lbl c1  \" ><span class=\"nd\">group</span></div> <div class=\"children hor  rtl\"><div class=\"contnr c0 trm rtl  \" ><div class=\"lbl c0 trm \" ><a target=\"_blank\" href=\"http://tanzil.net\" title=\"show this passage on Tanzil\"><span class=\"txtu ara\">عَظِيمٌ</span></a></div> </div></div></div></div></div>"
      ],
      "text/plain": [
       "<IPython.core.display.HTML object>"
      ]
     },
     "metadata": {},
     "output_type": "display_data"
    }
   ],
   "source": [
    "A.pretty(aya1)"
   ]
  },
  {
   "cell_type": "markdown",
   "metadata": {},
   "source": [
    "# Translations in pretty display\n",
    "\n",
    "We can add the translation features `translation@ll` for `ll = en` or `nl` to the extra features for pretty display.\n",
    "Let's pretty display the first sura with both translations."
   ]
  },
  {
   "cell_type": "code",
   "execution_count": 28,
   "metadata": {},
   "outputs": [],
   "source": [
    "sura1 = F.otype.s('sura')[0]"
   ]
  },
  {
   "cell_type": "code",
   "execution_count": 29,
   "metadata": {},
   "outputs": [
    {
     "data": {
      "text/html": [
       "<span class=\"section ltr\"><a target=\"_blank\" href=\"/#1:1\" title=\"show this passage on Tanzil\" sec=\"1\">1</a> </span><div class=\"contnr c4 trm rtl  \" ><div class=\"lbl c4 trm \" ><span class=\"nd\">sura</span> <span class=\"txtu ara\"><span class=\"section\">1</span></span></div> </div>"
      ],
      "text/plain": [
       "<IPython.core.display.HTML object>"
      ]
     },
     "metadata": {},
     "output_type": "display_data"
    }
   ],
   "source": [
    "A.pretty(sura1)"
   ]
  },
  {
   "cell_type": "markdown",
   "metadata": {},
   "source": [
    "That is a bit meager. The reason is that the *sura* is a **big** type.\n"
   ]
  },
  {
   "cell_type": "markdown",
   "metadata": {},
   "source": [
    "---\n",
    "\n",
    "All chapters:\n",
    "\n",
    "* **[start](start.ipynb)** introduction to computing with your corpus\n",
    "* **display** become an expert in creating pretty displays of your text structures\n",
    "* **[search](search.ipynb)** turbo charge your hand-coding with search templates\n",
    "* **[exportExcel](exportExcel.ipynb)** make tailor-made spreadsheets out of your results\n",
    "* **[share](share.ipynb)** draw in other people's data and let them use yours\n",
    "* **[similarAyas](similarAyas.ipynb)** spot the similarities between lines\n",
    "* **[rings](rings.ipynb)** ring structures in sura 2\n",
    "\n",
    "CC-BY Dirk Roorda"
   ]
  }
 ],
 "metadata": {
  "kernelspec": {
   "display_name": "Python 3",
   "language": "python",
   "name": "python3"
  },
  "language_info": {
   "codemirror_mode": {
    "name": "ipython",
    "version": 3
   },
   "file_extension": ".py",
   "mimetype": "text/x-python",
   "name": "python",
   "nbconvert_exporter": "python",
   "pygments_lexer": "ipython3",
   "version": "3.7.7"
  },
  "toc": {
   "base_numbering": 1,
   "nav_menu": {},
   "number_sections": true,
   "sideBar": true,
   "skip_h1_title": true,
   "title_cell": "Table of Contents",
   "title_sidebar": "Contents",
   "toc_cell": true,
   "toc_position": {},
   "toc_section_display": "block",
   "toc_window_display": false
  }
 },
 "nbformat": 4,
 "nbformat_minor": 4
}
