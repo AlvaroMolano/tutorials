{
 "cells": [
  {
   "cell_type": "markdown",
   "metadata": {},
   "source": [
    "<img align=\"right\" src=\"images/tf.png\" width=\"128\"/>\n",
    "<img align=\"right\" src=\"images/uu-small.png\" width=\"128\"/>\n",
    "<img align=\"right\" src=\"images/dans.png\" width=\"128\"/>\n",
    "\n",
    "---\n",
    "\n",
    "To get started: consult [start](start.ipynb)\n",
    "\n",
    "---\n",
    "\n",
    "# Sharing data features\n",
    "\n",
    "## Explore additional data\n",
    "\n",
    "Once you analyse a corpus, it is likely that you produce data that others can reuse.\n",
    "Maybe you have defined a set of proper name occurrences, or you have computed sentiments.\n",
    "\n",
    "It is possible to turn these insights into *new features*, i.e. new `.tf` files with values assigned to specific nodes.\n",
    "\n",
    "## Make your own data\n",
    "\n",
    "New data is a product of your own methods and computations in the first place.\n",
    "But how do you turn that data into new TF features?\n",
    "It turns out that the last step is not that difficult.\n",
    "\n",
    "If you can shape your data as a mapping (dictionary) from node numbers (integers) to values\n",
    "(strings or integers), then TF can turn that data into a feature file for you with one command.\n",
    "\n",
    "## Share your new data\n",
    "You can then easily share your new features on GitHub, so that your colleagues everywhere \n",
    "can try it out for themselves.\n",
    "\n",
    "You can add such data on the fly, by passing a `mod={org}/{repo}/{path}` parameter,\n",
    "or a bunch of them separated by commas.\n",
    "\n",
    "If the data is there, it will be auto-downloaded and stored on your machine.\n",
    "\n",
    "Let's do it."
   ]
  },
  {
   "cell_type": "code",
   "execution_count": 1,
   "metadata": {},
   "outputs": [],
   "source": [
    "%load_ext autoreload\n",
    "%autoreload 2"
   ]
  },
  {
   "cell_type": "code",
   "execution_count": 2,
   "metadata": {
    "ExecuteTime": {
     "end_time": "2018-05-24T10:06:39.818664Z",
     "start_time": "2018-05-24T10:06:39.796588Z"
    }
   },
   "outputs": [],
   "source": [
    "import collections\n",
    "\n",
    "from tf.app import use"
   ]
  },
  {
   "cell_type": "code",
   "execution_count": 3,
   "metadata": {},
   "outputs": [
    {
     "name": "stdout",
     "output_type": "stream",
     "text": [
      "Using TF-app in /Users/dirk/github/annotation/app-quran/code:\n",
      "\trepo clone offline under ~/github (local github)\n",
      "Using data in /Users/dirk/github/q-ran/quran/tf/0.4:\n",
      "\trepo clone offline under ~/github (local github)\n"
     ]
    },
    {
     "data": {
      "text/html": [
       "<b>Documentation:</b> <a target=\"_blank\" href=\"https://github.com/q-ran/quran/blob/master/docs\" title=\"provenance of Quran\">QURAN</a> <a target=\"_blank\" href=\"https://annotation.github.io/text-fabric/Writing/Arabic\" title=\"('Arabic characters and transcriptions',)\">Character table</a> <a target=\"_blank\" href=\"https://github.com/q-ran/quran/blob/master/docs/features.md#features.md\" title=\"QURAN feature documentation\">Feature docs</a> <a target=\"_blank\" href=\"https://github.com/annotation/app-quran\" title=\"quran API documentation\">quran API</a> <a target=\"_blank\" href=\"https://annotation.github.io/text-fabric/Api/Fabric/\" title=\"text-fabric-api\">Text-Fabric API 7.11.1</a> <a target=\"_blank\" href=\"https://annotation.github.io/text-fabric/Use/Search/\" title=\"Search Templates Introduction and Reference\">Search Reference</a><details open><summary><b>Loaded features</b>:</summary>\n",
       "<p><b>Quran</b>: <a target=\"_blank\" href=\"https://github.com/q-ran/quran/blob/master/docs/features.md#a\" title=\"/Users/dirk/github/q-ran/quran/tf/0.4/a.tf\">a</a>  <a target=\"_blank\" href=\"https://github.com/q-ran/quran/blob/master/docs/features.md#ascii\" title=\"/Users/dirk/github/q-ran/quran/tf/0.4/ascii.tf\">ascii</a>  <a target=\"_blank\" href=\"https://github.com/q-ran/quran/blob/master/docs/features.md#ax\" title=\"/Users/dirk/github/q-ran/quran/tf/0.4/ax.tf\">ax</a>  <a target=\"_blank\" href=\"https://github.com/q-ran/quran/blob/master/docs/features.md#case\" title=\"/Users/dirk/github/q-ran/quran/tf/0.4/case.tf\">case</a>  <a target=\"_blank\" href=\"https://github.com/q-ran/quran/blob/master/docs/features.md#component\" title=\"/Users/dirk/github/q-ran/quran/tf/0.4/component.tf\">component</a>  <a target=\"_blank\" href=\"https://github.com/q-ran/quran/blob/master/docs/features.md#definite\" title=\"/Users/dirk/github/q-ran/quran/tf/0.4/definite.tf\">definite</a>  <a target=\"_blank\" href=\"https://github.com/q-ran/quran/blob/master/docs/features.md#f\" title=\"/Users/dirk/github/q-ran/quran/tf/0.4/f.tf\">f</a>  <a target=\"_blank\" href=\"https://github.com/q-ran/quran/blob/master/docs/features.md#formation\" title=\"/Users/dirk/github/q-ran/quran/tf/0.4/formation.tf\">formation</a>  <a target=\"_blank\" href=\"https://github.com/q-ran/quran/blob/master/docs/features.md#fx\" title=\"/Users/dirk/github/q-ran/quran/tf/0.4/fx.tf\">fx</a>  <a target=\"_blank\" href=\"https://github.com/q-ran/quran/blob/master/docs/features.md#gn\" title=\"/Users/dirk/github/q-ran/quran/tf/0.4/gn.tf\">gn</a>  <a target=\"_blank\" href=\"https://github.com/q-ran/quran/blob/master/docs/features.md#interjection\" title=\"/Users/dirk/github/q-ran/quran/tf/0.4/interjection.tf\">interjection</a>  <a target=\"_blank\" href=\"https://github.com/q-ran/quran/blob/master/docs/features.md#l\" title=\"/Users/dirk/github/q-ran/quran/tf/0.4/l.tf\">l</a>  <a target=\"_blank\" href=\"https://github.com/q-ran/quran/blob/master/docs/features.md#lemma\" title=\"/Users/dirk/github/q-ran/quran/tf/0.4/lemma.tf\">lemma</a>  <a target=\"_blank\" href=\"https://github.com/q-ran/quran/blob/master/docs/features.md#lx\" title=\"/Users/dirk/github/q-ran/quran/tf/0.4/lx.tf\">lx</a>  <a target=\"_blank\" href=\"https://github.com/q-ran/quran/blob/master/docs/features.md#mood\" title=\"/Users/dirk/github/q-ran/quran/tf/0.4/mood.tf\">mood</a>  <a target=\"_blank\" href=\"https://github.com/q-ran/quran/blob/master/docs/features.md#n\" title=\"/Users/dirk/github/q-ran/quran/tf/0.4/n.tf\">n</a>  <a target=\"_blank\" href=\"https://github.com/q-ran/quran/blob/master/docs/features.md#name\" title=\"/Users/dirk/github/q-ran/quran/tf/0.4/name.tf\">name</a>  <a target=\"_blank\" href=\"https://github.com/q-ran/quran/blob/master/docs/features.md#name@ll\" title=\"/Users/dirk/github/q-ran/quran/tf/0.4/name@en.tf\">name@ll</a>  <a target=\"_blank\" href=\"https://github.com/q-ran/quran/blob/master/docs/features.md#nameAscii\" title=\"/Users/dirk/github/q-ran/quran/tf/0.4/nameAscii.tf\">nameAscii</a>  <a target=\"_blank\" href=\"https://github.com/q-ran/quran/blob/master/docs/features.md#nameTrans\" title=\"/Users/dirk/github/q-ran/quran/tf/0.4/nameTrans.tf\">nameTrans</a>  <a target=\"_blank\" href=\"https://github.com/q-ran/quran/blob/master/docs/features.md#nu\" title=\"/Users/dirk/github/q-ran/quran/tf/0.4/nu.tf\">nu</a>  <a target=\"_blank\" href=\"https://github.com/q-ran/quran/blob/master/docs/features.md#number\" title=\"/Users/dirk/github/q-ran/quran/tf/0.4/number.tf\">number</a>  <a target=\"_blank\" href=\"https://github.com/q-ran/quran/blob/master/docs/features.md#order\" title=\"/Users/dirk/github/q-ran/quran/tf/0.4/order.tf\">order</a>  <a target=\"_blank\" href=\"https://github.com/q-ran/quran/blob/master/docs/features.md#otype\" title=\"/Users/dirk/github/q-ran/quran/tf/0.4/otype.tf\">otype</a>  <a target=\"_blank\" href=\"https://github.com/q-ran/quran/blob/master/docs/features.md#pos\" title=\"/Users/dirk/github/q-ran/quran/tf/0.4/pos.tf\">pos</a>  <a target=\"_blank\" href=\"https://github.com/q-ran/quran/blob/master/docs/features.md#posx\" title=\"/Users/dirk/github/q-ran/quran/tf/0.4/posx.tf\">posx</a>  <a target=\"_blank\" href=\"https://github.com/q-ran/quran/blob/master/docs/features.md#ps\" title=\"/Users/dirk/github/q-ran/quran/tf/0.4/ps.tf\">ps</a>  <a target=\"_blank\" href=\"https://github.com/q-ran/quran/blob/master/docs/features.md#root\" title=\"/Users/dirk/github/q-ran/quran/tf/0.4/root.tf\">root</a>  <a target=\"_blank\" href=\"https://github.com/q-ran/quran/blob/master/docs/features.md#sp\" title=\"/Users/dirk/github/q-ran/quran/tf/0.4/sp.tf\">sp</a>  <a target=\"_blank\" href=\"https://github.com/q-ran/quran/blob/master/docs/features.md#space\" title=\"/Users/dirk/github/q-ran/quran/tf/0.4/space.tf\">space</a>  <a target=\"_blank\" href=\"https://github.com/q-ran/quran/blob/master/docs/features.md#tense\" title=\"/Users/dirk/github/q-ran/quran/tf/0.4/tense.tf\">tense</a>  <a target=\"_blank\" href=\"https://github.com/q-ran/quran/blob/master/docs/features.md#translation@ll\" title=\"/Users/dirk/github/q-ran/quran/tf/0.4/translation@en.tf\">translation@ll</a>  <a target=\"_blank\" href=\"https://github.com/q-ran/quran/blob/master/docs/features.md#type\" title=\"/Users/dirk/github/q-ran/quran/tf/0.4/type.tf\">type</a>  <a target=\"_blank\" href=\"https://github.com/q-ran/quran/blob/master/docs/features.md#unicode\" title=\"/Users/dirk/github/q-ran/quran/tf/0.4/unicode.tf\">unicode</a>  <a target=\"_blank\" href=\"https://github.com/q-ran/quran/blob/master/docs/features.md#voice\" title=\"/Users/dirk/github/q-ran/quran/tf/0.4/voice.tf\">voice</a>  <a target=\"_blank\" href=\"https://github.com/q-ran/quran/blob/master/docs/features.md#w\" title=\"/Users/dirk/github/q-ran/quran/tf/0.4/w.tf\">w</a>  <a target=\"_blank\" href=\"https://github.com/q-ran/quran/blob/master/docs/features.md#wx\" title=\"/Users/dirk/github/q-ran/quran/tf/0.4/wx.tf\">wx</a>  <b><i><a target=\"_blank\" href=\"https://github.com/q-ran/quran/blob/master/docs/features.md#oslots\" title=\"/Users/dirk/github/q-ran/quran/tf/0.4/oslots.tf\">oslots</a></i></b> </p></details>"
      ],
      "text/plain": [
       "<IPython.core.display.HTML object>"
      ]
     },
     "metadata": {},
     "output_type": "display_data"
    },
    {
     "data": {
      "text/html": [
       "<style>\n",
       "@font-face {\n",
       "  font-family: \"AmiriQuran\";\n",
       "  src:\n",
       "    local(\"AmiriQuran.ttf\"),\n",
       "    url(\"https://github.com/annotation/text-fabric/blob/master/tf/server/static/fonts/AmiriQuran.woff2?raw=true\");\n",
       "}\n",
       ".features {\n",
       "    font-family: monospace;\n",
       "    font-size: medium;\n",
       "    font-weight: bold;\n",
       "    color: #0a6611;\n",
       "    display: flex;\n",
       "    flex-flow: column nowrap;\n",
       "    padding: 0.1em;\n",
       "    margin: 0.1em;\n",
       "    direction: ltr;\n",
       "}\n",
       ".features div,.features span {\n",
       "    padding: 0;\n",
       "    margin: -0.1rem 0;\n",
       "}\n",
       ".features .f {\n",
       "    font-family: sans-serif;\n",
       "    font-size: x-small;\n",
       "    font-weight: normal;\n",
       "    color: #5555bb;\n",
       "}\n",
       ".features .xft {\n",
       "  color: #000000;\n",
       "  background-color: #eeeeee;\n",
       "  font-size: medium;\n",
       "  margin: 0.1em 0em;\n",
       "}\n",
       ".features .xft .f {\n",
       "  color: #000000;\n",
       "  background-color: #eeeeee;\n",
       "  font-style: italic;\n",
       "  font-size: small;\n",
       "  font-weight: normal;\n",
       "}\n",
       ".nd {\n",
       "    font-family: monospace;\n",
       "    font-size: x-small;\n",
       "    color: #999999;\n",
       "}\n",
       ".hl {\n",
       "    background-color: #ffee66;\n",
       "}\n",
       ".outerplain {\n",
       "    direction: rtl;\n",
       "}\n",
       ".outeritem {\n",
       "    display: flex;\n",
       "    flex-flow: row wrap;\n",
       "    direction: rtl;\n",
       "}\n",
       ".ltr {\n",
       "    direction: ltr ! important;\n",
       "}\n",
       ".rtl {\n",
       "    direction: rtl ! important;\n",
       "}\n",
       ".aya {\n",
       "    display: flex;\n",
       "    flex-flow: row wrap;\n",
       "    direction: rtl;\n",
       "}\n",
       ".vl {\n",
       "    display: flex;\n",
       "    flex-flow: column nowrap;\n",
       "    justify-content: flex-end;\n",
       "    align-items: flex-end;\n",
       "    direction: ltr;\n",
       "    width: 100%;\n",
       "}\n",
       ".vn {\n",
       "  font-size: small !important;\n",
       "  padding-right: 1em;\n",
       "}\n",
       ".vrs {\n",
       "    font-family: sans-serif;\n",
       "    font-size: small;\n",
       "    font-weight: bold;\n",
       "    color: #444444;\n",
       "}\n",
       ".group {\n",
       "    display: flex;\n",
       "    flex-flow: row wrap;\n",
       "    direction: rtl;\n",
       "    padding: 0.1em;\n",
       "    margin: 0.1em;\n",
       "    border-radius: 0.1em;\n",
       "    border: 2px solid #dd9911;\n",
       "}\n",
       ".word {\n",
       "    padding: 0.1em;\n",
       "    margin: 0.1em;\n",
       "    border-radius: 0.1em;\n",
       "    border: 1px solid #ffcc44;\n",
       "    display: flex;\n",
       "    flex-flow: column nowrap;\n",
       "    direction: rtl;\n",
       "}\n",
       ".lextp {\n",
       "    padding: 0.1em;\n",
       "    margin: 0.1em;\n",
       "    border-radius: 0.1em;\n",
       "    border: 2px solid #888888;\n",
       "    width: fit-content;\n",
       "    display: flex;\n",
       "    flex-flow: column nowrap;\n",
       "    direction: rtl;\n",
       "}\n",
       ".occs {\n",
       "    font-size: x-small;\n",
       "}\n",
       ".tr,.tr a:visited,.tr a:link {\n",
       "    font-family: sans-serif;\n",
       "    font-size: large;\n",
       "    color: #000044;\n",
       "    direction: ltr;\n",
       "    text-decoration: none;\n",
       "}\n",
       ".trb,.trb a:visited,.trb a:link {\n",
       "    font-family: sans-serif;\n",
       "    font-size: normal;\n",
       "    direction: ltr;\n",
       "    text-decoration: none;\n",
       "}\n",
       ".ar,.ar a:visited,.ar a:link {\n",
       "    font-family: \"AmiriQuran\", sans-serif;\n",
       "    font-size: large;\n",
       "    color: #000044;\n",
       "    direction: rtl;\n",
       "    text-decoration: none;\n",
       "}\n",
       ".arb,.arb a:visited,.arb a:link {\n",
       "    font-family: \"AmiriQuran\", sans-serif;\n",
       "    font-size: large;\n",
       "    line-height: 3;\n",
       "    direction: rtl;\n",
       "    text-decoration: none;\n",
       "}\n",
       ".sp,.sp a:visited,.sp a:link {\n",
       "    font-family: monospace;\n",
       "    font-size: medium;\n",
       "    color: #0000bb;\n",
       "    text-decoration: none;\n",
       "}\n",
       ".lexeme {\n",
       "    font-family: monospace;\n",
       "    font-size: medium;\n",
       "    color: #0000bb;\n",
       "}\n",
       ".vs {\n",
       "    font-family: monospace;\n",
       "    font-size: medium;\n",
       "    font-weight: bold;\n",
       "    color: #0000bb;\n",
       "}\n",
       ".vt {\n",
       "    font-family: monospace;\n",
       "    font-size: medium;\n",
       "    font-weight: bold;\n",
       "    color: #0000bb;\n",
       "}\n",
       "\n",
       "\n",
       "tr.tf, td.tf, th.tf {\n",
       "  text-align: left;\n",
       "}\n",
       "\n",
       "span.hldot {\n",
       "\tbackground-color: var(--hl-strong);\n",
       "\tborder: 0.2rem solid var(--hl-rim);\n",
       "\tborder-radius: 0.4rem;\n",
       "\t/*\n",
       "\tdisplay: inline-block;\n",
       "\twidth: 0.8rem;\n",
       "\theight: 0.8rem;\n",
       "\t*/\n",
       "}\n",
       "span.hl {\n",
       "\tbackground-color: var(--hl-strong);\n",
       "\tborder-width: 0;\n",
       "\tborder-radius: 0.1rem;\n",
       "\tborder-style: solid;\n",
       "}\n",
       "\n",
       "span.hlbx {\n",
       "\tborder-color: var(--hl-dark);\n",
       "\tborder-width: 0.1rem;\n",
       "\tborder-style: solid;\n",
       "\tborder-radius: 0.2rem;\n",
       "  padding: 0.2rem;\n",
       "  margin: 0.2rem;\n",
       "}\n",
       "\n",
       "span.plain {\n",
       "  display: inline-block;\n",
       "  white-space: pre-wrap;\n",
       "}\n",
       "\n",
       ":root {\n",
       "\t--hl-strong:        hsla( 60, 100%,  70%, 0.9  );\n",
       "\t--hl-rim:           hsla( 55, 100%,  60%, 0.9  );\n",
       "\t--hl-dark:          hsla( 55, 100%,  40%, 0.9  );\n",
       "}\n",
       "</style>"
      ],
      "text/plain": [
       "<IPython.core.display.HTML object>"
      ]
     },
     "metadata": {},
     "output_type": "display_data"
    },
    {
     "data": {
      "text/html": [
       "<details open><summary><b>API members</b>:</summary>\n",
       "<a target=\"_blank\" href=\"https://annotation.github.io/text-fabric/Api/Computed/#computed-data\" title=\"doc\">C Computed</a>, <a target=\"_blank\" href=\"https://annotation.github.io/text-fabric/Api/Computed/#computed-data\" title=\"doc\">Call AllComputeds</a>, <a target=\"_blank\" href=\"https://annotation.github.io/text-fabric/Api/Computed/#computed-data\" title=\"doc\">Cs ComputedString</a><br/>\n",
       "<a target=\"_blank\" href=\"https://annotation.github.io/text-fabric/Api/Features/#edge-features\" title=\"doc\">E Edge</a>, <a target=\"_blank\" href=\"https://annotation.github.io/text-fabric/Api/Features/#edge-features\" title=\"doc\">Eall AllEdges</a>, <a target=\"_blank\" href=\"https://annotation.github.io/text-fabric/Api/Features/#edge-features\" title=\"doc\">Es EdgeString</a><br/>\n",
       "<a target=\"_blank\" href=\"https://annotation.github.io/text-fabric/Api/Fabric/#loading\" title=\"doc\">ensureLoaded</a>, <a target=\"_blank\" href=\"https://annotation.github.io/text-fabric/Api/Fabric/#loading\" title=\"doc\">TF</a>, <a target=\"_blank\" href=\"https://annotation.github.io/text-fabric/Api/Fabric/#loading\" title=\"doc\">ignored</a>, <a target=\"_blank\" href=\"https://annotation.github.io/text-fabric/Api/Fabric/#loading\" title=\"doc\">loadLog</a><br/>\n",
       "<a target=\"_blank\" href=\"https://annotation.github.io/text-fabric/Api/Locality/#locality\" title=\"doc\">L Locality</a><br/>\n",
       "<a target=\"_blank\" href=\"https://annotation.github.io/text-fabric/Api/Misc/#messaging\" title=\"doc\">cache</a>, <a target=\"_blank\" href=\"https://annotation.github.io/text-fabric/Api/Misc/#messaging\" title=\"doc\">error</a>, <a target=\"_blank\" href=\"https://annotation.github.io/text-fabric/Api/Misc/#messaging\" title=\"doc\">indent</a>, <a target=\"_blank\" href=\"https://annotation.github.io/text-fabric/Api/Misc/#messaging\" title=\"doc\">info</a>, <a target=\"_blank\" href=\"https://annotation.github.io/text-fabric/Api/Misc/#messaging\" title=\"doc\">isSilent</a>, <a target=\"_blank\" href=\"https://annotation.github.io/text-fabric/Api/Misc/#messaging\" title=\"doc\">reset</a>, <a target=\"_blank\" href=\"https://annotation.github.io/text-fabric/Api/Misc/#messaging\" title=\"doc\">setSilent</a>, <a target=\"_blank\" href=\"https://annotation.github.io/text-fabric/Api/Misc/#messaging\" title=\"doc\">silentOff</a>, <a target=\"_blank\" href=\"https://annotation.github.io/text-fabric/Api/Misc/#messaging\" title=\"doc\">silentOn</a>, <a target=\"_blank\" href=\"https://annotation.github.io/text-fabric/Api/Misc/#messaging\" title=\"doc\">warning</a><br/>\n",
       "<a target=\"_blank\" href=\"https://annotation.github.io/text-fabric/Api/Nodes/#navigating-nodes\" title=\"doc\">N Nodes</a>, <a target=\"_blank\" href=\"https://annotation.github.io/text-fabric/Api/Nodes/#navigating-nodes\" title=\"doc\">sortKey</a>, <a target=\"_blank\" href=\"https://annotation.github.io/text-fabric/Api/Nodes/#navigating-nodes\" title=\"doc\">sortKeyTuple</a>, <a target=\"_blank\" href=\"https://annotation.github.io/text-fabric/Api/Nodes/#navigating-nodes\" title=\"doc\">otypeRank</a>, <a target=\"_blank\" href=\"https://annotation.github.io/text-fabric/Api/Nodes/#navigating-nodes\" title=\"doc\">sortNodes</a><br/>\n",
       "<a target=\"_blank\" href=\"https://annotation.github.io/text-fabric/Api/Features/#node-features\" title=\"doc\">F Feature</a>, <a target=\"_blank\" href=\"https://annotation.github.io/text-fabric/Api/Features/#node-features\" title=\"doc\">Fall AllFeatures</a>, <a target=\"_blank\" href=\"https://annotation.github.io/text-fabric/Api/Features/#node-features\" title=\"doc\">Fs FeatureString</a><br/>\n",
       "<a target=\"_blank\" href=\"https://annotation.github.io/text-fabric/Api/Search/#search\" title=\"doc\">S Search</a><br/>\n",
       "<a target=\"_blank\" href=\"https://annotation.github.io/text-fabric/Api/Text/#text\" title=\"doc\">T Text</a></details>"
      ],
      "text/plain": [
       "<IPython.core.display.HTML object>"
      ]
     },
     "metadata": {},
     "output_type": "display_data"
    }
   ],
   "source": [
    "# A = use('quran', hoist=globals())\n",
    "A = use('quran:clone', checkout=\"clone\", hoist=globals())"
   ]
  },
  {
   "cell_type": "markdown",
   "metadata": {},
   "source": [
    "# Making data\n",
    "\n",
    "We illustrate the data creation part by creating a new feature, `sentiment`.\n",
    "\n",
    "It is not very sensical, but it serves to illustrate the workflow.\n",
    "\n",
    "We consider ayas that start with a vocative particle as a positive context,\n",
    "and ayas that start with a resumptive particle as a negative context.\n",
    "\n",
    "For each lemma of a noun, verb, or adjective in the corpus,\n",
    "we count how often it occurs in a positive context,\n",
    "and subtract how many times it occurs in a negative context.\n",
    "\n",
    "The resulting number is the sentiment.\n",
    "\n",
    "We use a query to fetch the postive contexts and the negative contexts."
   ]
  },
  {
   "cell_type": "code",
   "execution_count": 4,
   "metadata": {},
   "outputs": [],
   "source": [
    "contentTypes = set('verb noun adjective'.split())\n",
    "contentTypeCrit = '|'.join(contentTypes)"
   ]
  },
  {
   "cell_type": "code",
   "execution_count": 5,
   "metadata": {},
   "outputs": [],
   "source": [
    "queryP = f'''\n",
    "aya\n",
    "  =: word posx=vocative\n",
    "  word pos={contentTypeCrit}\n",
    "'''\n",
    "\n",
    "queryN = f'''\n",
    "aya\n",
    "  =: word posx=resumption\n",
    "  word pos={contentTypeCrit}\n",
    "'''"
   ]
  },
  {
   "cell_type": "code",
   "execution_count": 6,
   "metadata": {},
   "outputs": [
    {
     "name": "stdout",
     "output_type": "stream",
     "text": [
      "  0.32s 2513 results\n",
      "  0.32s 7351 results\n"
     ]
    }
   ],
   "source": [
    "resultsP = A.search(queryP)\n",
    "resultsN = A.search(queryN)"
   ]
  },
  {
   "cell_type": "markdown",
   "metadata": {},
   "source": [
    "Here are the first few results of both:"
   ]
  },
  {
   "cell_type": "code",
   "execution_count": 7,
   "metadata": {},
   "outputs": [],
   "source": [
    "A.displaySetup(extraFeatures='translation@en')"
   ]
  },
  {
   "cell_type": "code",
   "execution_count": 8,
   "metadata": {},
   "outputs": [
    {
     "data": {
      "text/html": [
       "<p><b>aya</b> <i>1</i></p>"
      ],
      "text/plain": [
       "<IPython.core.display.HTML object>"
      ]
     },
     "metadata": {},
     "output_type": "display_data"
    },
    {
     "data": {
      "text/html": [
       "<div class=\"outeritem\"><div class=\"aya   rtl \" >\n",
       "    <div class=\"vl\">\n",
       "        <div class=\"vrs\"><a href=\"http://tanzil.net/#2:21\" title=\"show this passage on Tanzil\" sec=\"2:21\">2:21</a></div>\n",
       "        \n",
       "        <div class=\"features\"> <span class=\"translation@en xft\"><span class=\"f\">translation@en=</span>O you men, serve your Lord Who created you, and those that were before you; haply so you will be godfearing;</span></div>\n",
       "    </div>\n",
       "<div class=\"group   rtl \" ><div class=\"features\"></div><div class=\"word  hl rtl \" ><div class=\"ar\">يَٰٓ</div><div class=\"features\"> <span class=\"pos\">particle</span> <span class=\"posx\">vocative</span></div></div><div class=\"word  hl rtl \" ><div class=\"ar\">أَيُّهَا </div><div class=\"features\"> <span class=\"lemma\">>ay~uhaA</span> <span class=\"pos\">noun</span></div></div></div><div class=\"group   rtl \" ><div class=\"features\"></div><div class=\"word   rtl \" ><div class=\"ar\">ٱل</div><div class=\"features\"> <span class=\"pos\">determiner</span></div></div><div class=\"word  hl rtl \" ><div class=\"ar\">نَّاسُ </div><div class=\"features\"> <span class=\"lemma\">n~aAs</span> <span class=\"root\">nws</span> <span class=\"pos\">noun</span></div></div></div><div class=\"group   rtl \" ><div class=\"features\"></div><div class=\"word  hl rtl \" ><div class=\"ar\">ٱعْبُدُ</div><div class=\"features\"> <span class=\"lemma\">Eabada</span> <span class=\"root\">Ebd</span> <span class=\"pos\">verb</span> <span class=\"tense\">imperative</span></div></div><div class=\"word   rtl \" ><div class=\"ar\">وا۟ </div><div class=\"features\"> <span class=\"pos\">pronoun</span> <span class=\"posx\">personal</span></div></div></div><div class=\"group   rtl \" ><div class=\"features\"></div><div class=\"word  hl rtl \" ><div class=\"ar\">رَبَّ</div><div class=\"features\"> <span class=\"lemma\">rab~</span> <span class=\"root\">rbb</span> <span class=\"pos\">noun</span></div></div><div class=\"word   rtl \" ><div class=\"ar\">كُمُ </div><div class=\"features\"> <span class=\"pos\">pronoun</span> <span class=\"posx\">personal</span></div></div></div><div class=\"group   rtl \" ><div class=\"features\"></div><div class=\"word   rtl \" ><div class=\"ar\">ٱلَّذِى </div><div class=\"features\"> <span class=\"lemma\">{l~a*iY</span> <span class=\"pos\">pronoun</span> <span class=\"posx\">relative</span></div></div></div><div class=\"group   rtl \" ><div class=\"features\"></div><div class=\"word  hl rtl \" ><div class=\"ar\">خَلَقَ</div><div class=\"features\"> <span class=\"lemma\">xalaqa</span> <span class=\"root\">xlq</span> <span class=\"pos\">verb</span> <span class=\"tense\">perfect</span></div></div><div class=\"word   rtl \" ><div class=\"ar\">كُمْ </div><div class=\"features\"> <span class=\"pos\">pronoun</span> <span class=\"posx\">personal</span></div></div></div><div class=\"group   rtl \" ><div class=\"features\"></div><div class=\"word   rtl \" ><div class=\"ar\">وَ</div><div class=\"features\"> <span class=\"pos\">conjunction</span> <span class=\"posx\">coordinating</span></div></div><div class=\"word   rtl \" ><div class=\"ar\">ٱلَّذِينَ </div><div class=\"features\"> <span class=\"lemma\">{l~a*iY</span> <span class=\"pos\">pronoun</span> <span class=\"posx\">relative</span></div></div></div><div class=\"group   rtl \" ><div class=\"features\"></div><div class=\"word   rtl \" ><div class=\"ar\">مِن </div><div class=\"features\"> <span class=\"lemma\">min</span> <span class=\"pos\">preposition</span></div></div></div><div class=\"group   rtl \" ><div class=\"features\"></div><div class=\"word  hl rtl \" ><div class=\"ar\">قَبْلِ</div><div class=\"features\"> <span class=\"lemma\">qabol</span> <span class=\"root\">qbl</span> <span class=\"pos\">noun</span></div></div><div class=\"word   rtl \" ><div class=\"ar\">كُمْ </div><div class=\"features\"> <span class=\"pos\">pronoun</span> <span class=\"posx\">personal</span></div></div></div><div class=\"group   rtl \" ><div class=\"features\"></div><div class=\"word   rtl \" ><div class=\"ar\">لَعَلَّ</div><div class=\"features\"> <span class=\"lemma\">laEal~</span> <span class=\"pos\">particle</span> <span class=\"posx\">accusative</span></div></div><div class=\"word   rtl \" ><div class=\"ar\">كُمْ </div><div class=\"features\"> <span class=\"pos\">pronoun</span> <span class=\"posx\">personal</span></div></div></div><div class=\"group   rtl \" ><div class=\"features\"></div><div class=\"word  hl rtl \" ><div class=\"ar\">تَتَّقُ</div><div class=\"features\"> <span class=\"lemma\">{t~aqaY`</span> <span class=\"root\">wqy</span> <span class=\"pos\">verb</span> <span class=\"formation\">VIII</span> <span class=\"tense\">imperfect</span></div></div><div class=\"word   rtl \" ><div class=\"ar\">ونَ</div><div class=\"features\"> <span class=\"pos\">pronoun</span> <span class=\"posx\">personal</span></div></div></div></div></div>"
      ],
      "text/plain": [
       "<IPython.core.display.HTML object>"
      ]
     },
     "metadata": {},
     "output_type": "display_data"
    },
    {
     "data": {
      "text/html": [
       "<p><b>aya</b> <i>2</i></p>"
      ],
      "text/plain": [
       "<IPython.core.display.HTML object>"
      ]
     },
     "metadata": {},
     "output_type": "display_data"
    },
    {
     "data": {
      "text/html": [
       "<div class=\"outeritem\"><div class=\"aya   rtl \" >\n",
       "    <div class=\"vl\">\n",
       "        <div class=\"vrs\"><a href=\"http://tanzil.net/#2:40\" title=\"show this passage on Tanzil\" sec=\"2:40\">2:40</a></div>\n",
       "        \n",
       "        <div class=\"features\"> <span class=\"translation@en xft\"><span class=\"f\">translation@en=</span>Children of Israel, remember My blessing wherewith I blessed you, and fulfil My covenant and I shall fulfil your covenant; and have awe of Me.</span></div>\n",
       "    </div>\n",
       "<div class=\"group   rtl \" ><div class=\"features\"></div><div class=\"word  hl rtl \" ><div class=\"ar\">يَٰ</div><div class=\"features\"> <span class=\"pos\">particle</span> <span class=\"posx\">vocative</span></div></div><div class=\"word  hl rtl \" ><div class=\"ar\">بَنِىٓ </div><div class=\"features\"> <span class=\"lemma\">bunaY~</span> <span class=\"root\">bny</span> <span class=\"pos\">noun</span></div></div></div><div class=\"group   rtl \" ><div class=\"features\"></div><div class=\"word  hl rtl \" ><div class=\"ar\">إِسْرَٰٓءِيلَ </div><div class=\"features\"> <span class=\"lemma\">&lt;isoraA}iyl</span> <span class=\"pos\">noun</span> <span class=\"posx\">proper</span></div></div></div><div class=\"group   rtl \" ><div class=\"features\"></div><div class=\"word  hl rtl \" ><div class=\"ar\">ٱذْكُرُ</div><div class=\"features\"> <span class=\"lemma\">*akara</span> <span class=\"root\">*kr</span> <span class=\"pos\">verb</span> <span class=\"tense\">imperative</span></div></div><div class=\"word   rtl \" ><div class=\"ar\">وا۟ </div><div class=\"features\"> <span class=\"pos\">pronoun</span> <span class=\"posx\">personal</span></div></div></div><div class=\"group   rtl \" ><div class=\"features\"></div><div class=\"word  hl rtl \" ><div class=\"ar\">نِعْمَتِ</div><div class=\"features\"> <span class=\"lemma\">niEomap</span> <span class=\"root\">nEm</span> <span class=\"pos\">noun</span></div></div><div class=\"word   rtl \" ><div class=\"ar\">ىَ </div><div class=\"features\"> <span class=\"pos\">pronoun</span> <span class=\"posx\">personal</span></div></div></div><div class=\"group   rtl \" ><div class=\"features\"></div><div class=\"word   rtl \" ><div class=\"ar\">ٱلَّتِىٓ </div><div class=\"features\"> <span class=\"lemma\">{l~a*iY</span> <span class=\"pos\">pronoun</span> <span class=\"posx\">relative</span></div></div></div><div class=\"group   rtl \" ><div class=\"features\"></div><div class=\"word  hl rtl \" ><div class=\"ar\">أَنْعَمْ</div><div class=\"features\"> <span class=\"lemma\">>anoEama</span> <span class=\"root\">nEm</span> <span class=\"pos\">verb</span> <span class=\"formation\">IV</span> <span class=\"tense\">perfect</span></div></div><div class=\"word   rtl \" ><div class=\"ar\">تُ </div><div class=\"features\"> <span class=\"pos\">pronoun</span> <span class=\"posx\">personal</span></div></div></div><div class=\"group   rtl \" ><div class=\"features\"></div><div class=\"word   rtl \" ><div class=\"ar\">عَلَيْ</div><div class=\"features\"> <span class=\"lemma\">EalaY`</span> <span class=\"pos\">preposition</span></div></div><div class=\"word   rtl \" ><div class=\"ar\">كُمْ </div><div class=\"features\"> <span class=\"pos\">pronoun</span> <span class=\"posx\">personal</span></div></div></div><div class=\"group   rtl \" ><div class=\"features\"></div><div class=\"word   rtl \" ><div class=\"ar\">وَ</div><div class=\"features\"> <span class=\"pos\">conjunction</span> <span class=\"posx\">coordinating</span></div></div><div class=\"word  hl rtl \" ><div class=\"ar\">أَوْفُ</div><div class=\"features\"> <span class=\"lemma\">>awofaY`</span> <span class=\"root\">wfy</span> <span class=\"pos\">verb</span> <span class=\"formation\">IV</span> <span class=\"tense\">imperative</span></div></div><div class=\"word   rtl \" ><div class=\"ar\">وا۟ </div><div class=\"features\"> <span class=\"pos\">pronoun</span> <span class=\"posx\">personal</span></div></div></div><div class=\"group   rtl \" ><div class=\"features\"></div><div class=\"word   rtl \" ><div class=\"ar\">بِ</div><div class=\"features\"> <span class=\"pos\">preposition</span></div></div><div class=\"word  hl rtl \" ><div class=\"ar\">عَهْدِ</div><div class=\"features\"> <span class=\"lemma\">Eahod</span> <span class=\"root\">Ehd</span> <span class=\"pos\">noun</span></div></div><div class=\"word   rtl \" ><div class=\"ar\">ىٓ </div><div class=\"features\"> <span class=\"pos\">pronoun</span> <span class=\"posx\">personal</span></div></div></div><div class=\"group   rtl \" ><div class=\"features\"></div><div class=\"word  hl rtl \" ><div class=\"ar\">أُوفِ </div><div class=\"features\"> <span class=\"lemma\">>awofaY`</span> <span class=\"root\">wfy</span> <span class=\"pos\">verb</span> <span class=\"formation\">IV</span> <span class=\"tense\">imperfect</span></div></div></div><div class=\"group   rtl \" ><div class=\"features\"></div><div class=\"word   rtl \" ><div class=\"ar\">بِ</div><div class=\"features\"> <span class=\"pos\">preposition</span></div></div><div class=\"word  hl rtl \" ><div class=\"ar\">عَهْدِ</div><div class=\"features\"> <span class=\"lemma\">Eahod</span> <span class=\"root\">Ehd</span> <span class=\"pos\">noun</span></div></div><div class=\"word   rtl \" ><div class=\"ar\">كُمْ </div><div class=\"features\"> <span class=\"pos\">pronoun</span> <span class=\"posx\">personal</span></div></div></div><div class=\"group   rtl \" ><div class=\"features\"></div><div class=\"word   rtl \" ><div class=\"ar\">وَ</div><div class=\"features\"> <span class=\"pos\">conjunction</span> <span class=\"posx\">coordinating</span></div></div><div class=\"word   rtl \" ><div class=\"ar\">إِيَّٰىَ </div><div class=\"features\"> <span class=\"lemma\">&lt;iy~aA</span> <span class=\"pos\">pronoun</span> <span class=\"posx\">personal</span></div></div></div><div class=\"group   rtl \" ><div class=\"features\"></div><div class=\"word   rtl \" ><div class=\"ar\">فَ</div><div class=\"features\"> <span class=\"pos\">conjunction</span> <span class=\"posx\">coordinating</span></div></div><div class=\"word  hl rtl \" ><div class=\"ar\">ٱرْهَبُ</div><div class=\"features\"> <span class=\"lemma\">yarohabu</span> <span class=\"root\">rhb</span> <span class=\"pos\">verb</span> <span class=\"tense\">imperative</span></div></div><div class=\"word   rtl \" ><div class=\"ar\">و</div><div class=\"features\"> <span class=\"pos\">pronoun</span> <span class=\"posx\">personal</span></div></div><div class=\"word   rtl \" ><div class=\"ar\">نِ</div><div class=\"features\"> <span class=\"pos\">pronoun</span> <span class=\"posx\">personal</span></div></div></div></div></div>"
      ],
      "text/plain": [
       "<IPython.core.display.HTML object>"
      ]
     },
     "metadata": {},
     "output_type": "display_data"
    }
   ],
   "source": [
    "A.show(resultsP, end=2, condensed=True)"
   ]
  },
  {
   "cell_type": "code",
   "execution_count": 9,
   "metadata": {},
   "outputs": [
    {
     "data": {
      "text/html": [
       "<p><b>aya</b> <i>1</i></p>"
      ],
      "text/plain": [
       "<IPython.core.display.HTML object>"
      ]
     },
     "metadata": {},
     "output_type": "display_data"
    },
    {
     "data": {
      "text/html": [
       "<div class=\"outeritem\"><div class=\"aya   rtl \" >\n",
       "    <div class=\"vl\">\n",
       "        <div class=\"vrs\"><a href=\"http://tanzil.net/#2:8\" title=\"show this passage on Tanzil\" sec=\"2:8\">2:8</a></div>\n",
       "        \n",
       "        <div class=\"features\"> <span class=\"translation@en xft\"><span class=\"f\">translation@en=</span>And some men there are who say, 'We believe in God and the Last Day'; but they are not believers.</span></div>\n",
       "    </div>\n",
       "<div class=\"group   rtl \" ><div class=\"features\"></div><div class=\"word  hl rtl \" ><div class=\"ar\">وَ</div><div class=\"features\"> <span class=\"pos\">particle</span> <span class=\"posx\">resumption</span></div></div><div class=\"word   rtl \" ><div class=\"ar\">مِنَ </div><div class=\"features\"> <span class=\"lemma\">min</span> <span class=\"pos\">preposition</span></div></div></div><div class=\"group   rtl \" ><div class=\"features\"></div><div class=\"word   rtl \" ><div class=\"ar\">ٱل</div><div class=\"features\"> <span class=\"pos\">determiner</span></div></div><div class=\"word  hl rtl \" ><div class=\"ar\">نَّاسِ </div><div class=\"features\"> <span class=\"lemma\">n~aAs</span> <span class=\"root\">nws</span> <span class=\"pos\">noun</span></div></div></div><div class=\"group   rtl \" ><div class=\"features\"></div><div class=\"word   rtl \" ><div class=\"ar\">مَن </div><div class=\"features\"> <span class=\"lemma\">man</span> <span class=\"pos\">pronoun</span> <span class=\"posx\">relative</span></div></div></div><div class=\"group   rtl \" ><div class=\"features\"></div><div class=\"word  hl rtl \" ><div class=\"ar\">يَقُولُ </div><div class=\"features\"> <span class=\"lemma\">qaAla</span> <span class=\"root\">qwl</span> <span class=\"pos\">verb</span> <span class=\"tense\">imperfect</span></div></div></div><div class=\"group   rtl \" ><div class=\"features\"></div><div class=\"word  hl rtl \" ><div class=\"ar\">ءَامَ</div><div class=\"features\"> <span class=\"lemma\">'aAmana</span> <span class=\"root\">Amn</span> <span class=\"pos\">verb</span> <span class=\"formation\">IV</span> <span class=\"tense\">perfect</span></div></div><div class=\"word   rtl \" ><div class=\"ar\">نَّا </div><div class=\"features\"> <span class=\"pos\">pronoun</span> <span class=\"posx\">personal</span></div></div></div><div class=\"group   rtl \" ><div class=\"features\"></div><div class=\"word   rtl \" ><div class=\"ar\">بِ</div><div class=\"features\"> <span class=\"pos\">preposition</span></div></div><div class=\"word  hl rtl \" ><div class=\"ar\">ٱللَّهِ </div><div class=\"features\"> <span class=\"lemma\">{ll~ah</span> <span class=\"root\">Alh</span> <span class=\"pos\">noun</span> <span class=\"posx\">proper</span></div></div></div><div class=\"group   rtl \" ><div class=\"features\"></div><div class=\"word   rtl \" ><div class=\"ar\">وَ</div><div class=\"features\"> <span class=\"pos\">conjunction</span> <span class=\"posx\">coordinating</span></div></div><div class=\"word   rtl \" ><div class=\"ar\">بِ</div><div class=\"features\"> <span class=\"pos\">preposition</span></div></div><div class=\"word   rtl \" ><div class=\"ar\">ٱلْ</div><div class=\"features\"> <span class=\"pos\">determiner</span></div></div><div class=\"word  hl rtl \" ><div class=\"ar\">يَوْمِ </div><div class=\"features\"> <span class=\"lemma\">yawom</span> <span class=\"root\">ywm</span> <span class=\"pos\">noun</span></div></div></div><div class=\"group   rtl \" ><div class=\"features\"></div><div class=\"word   rtl \" ><div class=\"ar\">ٱلْ</div><div class=\"features\"> <span class=\"pos\">determiner</span></div></div><div class=\"word  hl rtl \" ><div class=\"ar\">ءَاخِرِ </div><div class=\"features\"> <span class=\"lemma\">A^xir</span> <span class=\"root\">Axr</span> <span class=\"pos\">adjective</span></div></div></div><div class=\"group   rtl \" ><div class=\"features\"></div><div class=\"word   rtl \" ><div class=\"ar\">وَ</div><div class=\"features\"> <span class=\"pos\">particle</span> <span class=\"posx\">circumstantial</span></div></div><div class=\"word   rtl \" ><div class=\"ar\">مَا </div><div class=\"features\"> <span class=\"lemma\">maA</span> <span class=\"pos\">particle</span> <span class=\"posx\">negative</span></div></div></div><div class=\"group   rtl \" ><div class=\"features\"></div><div class=\"word   rtl \" ><div class=\"ar\">هُم </div><div class=\"features\"> <span class=\"pos\">pronoun</span> <span class=\"posx\">personal</span></div></div></div><div class=\"group   rtl \" ><div class=\"features\"></div><div class=\"word   rtl \" ><div class=\"ar\">بِ</div><div class=\"features\"> <span class=\"pos\">preposition</span></div></div><div class=\"word  hl rtl \" ><div class=\"ar\">مُؤْمِنِينَ</div><div class=\"features\"> <span class=\"lemma\">mu&amp;omin</span> <span class=\"root\">Amn</span> <span class=\"pos\">noun</span> <span class=\"formation\">IV</span> <span class=\"tense\">participle</span></div></div></div></div></div>"
      ],
      "text/plain": [
       "<IPython.core.display.HTML object>"
      ]
     },
     "metadata": {},
     "output_type": "display_data"
    },
    {
     "data": {
      "text/html": [
       "<p><b>aya</b> <i>2</i></p>"
      ],
      "text/plain": [
       "<IPython.core.display.HTML object>"
      ]
     },
     "metadata": {},
     "output_type": "display_data"
    },
    {
     "data": {
      "text/html": [
       "<div class=\"outeritem\"><div class=\"aya   rtl \" >\n",
       "    <div class=\"vl\">\n",
       "        <div class=\"vrs\"><a href=\"http://tanzil.net/#2:11\" title=\"show this passage on Tanzil\" sec=\"2:11\">2:11</a></div>\n",
       "        \n",
       "        <div class=\"features\"> <span class=\"translation@en xft\"><span class=\"f\">translation@en=</span>When it is said to them, 'Do not corruption in the land', they say, 'We are only ones that put things right.'</span></div>\n",
       "    </div>\n",
       "<div class=\"group   rtl \" ><div class=\"features\"></div><div class=\"word  hl rtl \" ><div class=\"ar\">وَ</div><div class=\"features\"> <span class=\"pos\">particle</span> <span class=\"posx\">resumption</span></div></div><div class=\"word   rtl \" ><div class=\"ar\">إِذَا </div><div class=\"features\"> <span class=\"lemma\">&lt;i*aA</span> <span class=\"pos\">adverb</span> <span class=\"posx\">time</span></div></div></div><div class=\"group   rtl \" ><div class=\"features\"></div><div class=\"word  hl rtl \" ><div class=\"ar\">قِيلَ </div><div class=\"features\"> <span class=\"lemma\">qaAla</span> <span class=\"root\">qwl</span> <span class=\"pos\">verb</span> <span class=\"tense\">perfect</span></div></div></div><div class=\"group   rtl \" ><div class=\"features\"></div><div class=\"word   rtl \" ><div class=\"ar\">لَ</div><div class=\"features\"> <span class=\"pos\">preposition</span></div></div><div class=\"word   rtl \" ><div class=\"ar\">هُمْ </div><div class=\"features\"> <span class=\"pos\">pronoun</span> <span class=\"posx\">personal</span></div></div></div><div class=\"group   rtl \" ><div class=\"features\"></div><div class=\"word   rtl \" ><div class=\"ar\">لَا </div><div class=\"features\"> <span class=\"lemma\">laA</span> <span class=\"pos\">particle</span> <span class=\"posx\">prohibition</span></div></div></div><div class=\"group   rtl \" ><div class=\"features\"></div><div class=\"word  hl rtl \" ><div class=\"ar\">تُفْسِدُ</div><div class=\"features\"> <span class=\"lemma\">>afosadu</span> <span class=\"root\">fsd</span> <span class=\"pos\">verb</span> <span class=\"formation\">IV</span> <span class=\"tense\">imperfect</span></div></div><div class=\"word   rtl \" ><div class=\"ar\">وا۟ </div><div class=\"features\"> <span class=\"pos\">pronoun</span> <span class=\"posx\">personal</span></div></div></div><div class=\"group   rtl \" ><div class=\"features\"></div><div class=\"word   rtl \" ><div class=\"ar\">فِى </div><div class=\"features\"> <span class=\"lemma\">fiY</span> <span class=\"pos\">preposition</span></div></div></div><div class=\"group   rtl \" ><div class=\"features\"></div><div class=\"word   rtl \" ><div class=\"ar\">ٱلْ</div><div class=\"features\"> <span class=\"pos\">determiner</span></div></div><div class=\"word  hl rtl \" ><div class=\"ar\">أَرْضِ </div><div class=\"features\"> <span class=\"lemma\">>aroD</span> <span class=\"root\">ArD</span> <span class=\"pos\">noun</span></div></div></div><div class=\"group   rtl \" ><div class=\"features\"></div><div class=\"word  hl rtl \" ><div class=\"ar\">قَالُ</div><div class=\"features\"> <span class=\"lemma\">qaAla</span> <span class=\"root\">qwl</span> <span class=\"pos\">verb</span> <span class=\"tense\">perfect</span></div></div><div class=\"word   rtl \" ><div class=\"ar\">وٓا۟ </div><div class=\"features\"> <span class=\"pos\">pronoun</span> <span class=\"posx\">personal</span></div></div></div><div class=\"group   rtl \" ><div class=\"features\"></div><div class=\"word   rtl \" ><div class=\"ar\">إِنَّ</div><div class=\"features\"> <span class=\"lemma\">&lt;in~</span> <span class=\"pos\">particle</span> <span class=\"posx\">accusative</span></div></div><div class=\"word   rtl \" ><div class=\"ar\">مَا </div><div class=\"features\"> <span class=\"lemma\">maA</span> <span class=\"pos\">particle</span> <span class=\"posx\">preventive</span></div></div></div><div class=\"group   rtl \" ><div class=\"features\"></div><div class=\"word   rtl \" ><div class=\"ar\">نَحْنُ </div><div class=\"features\"> <span class=\"pos\">pronoun</span> <span class=\"posx\">personal</span></div></div></div><div class=\"group   rtl \" ><div class=\"features\"></div><div class=\"word  hl rtl \" ><div class=\"ar\">مُصْلِحُونَ</div><div class=\"features\"> <span class=\"lemma\">muSoliH</span> <span class=\"root\">SlH</span> <span class=\"pos\">noun</span> <span class=\"formation\">IV</span> <span class=\"tense\">participle</span></div></div></div></div></div>"
      ],
      "text/plain": [
       "<IPython.core.display.HTML object>"
      ]
     },
     "metadata": {},
     "output_type": "display_data"
    }
   ],
   "source": [
    "A.show(resultsN, end=2, condensed=True)"
   ]
  },
  {
   "cell_type": "markdown",
   "metadata": {},
   "source": [
    "Observe how the positive results indeed have a positive sentiment, and the negative ones are indeed negative.\n",
    "\n",
    "However, we do not attempt at all to weed out the positive words under negation from the negative contexts.\n",
    "\n",
    "So our sentiments have to work against a massive \"pollution\", and are probably not useful."
   ]
  },
  {
   "cell_type": "code",
   "execution_count": 10,
   "metadata": {},
   "outputs": [],
   "source": [
    "sentiment = collections.Counter()\n",
    "\n",
    "for (results, kind) in ((resultsP, 1), (resultsN, -1)):\n",
    "  for (aya, particle, word) in results:\n",
    "    sentiment[F.lemma.v(word)] += kind"
   ]
  },
  {
   "cell_type": "markdown",
   "metadata": {},
   "source": [
    "Let's check what we found: how many lemma's per sentiment."
   ]
  },
  {
   "cell_type": "code",
   "execution_count": 11,
   "metadata": {},
   "outputs": [
    {
     "name": "stdout",
     "output_type": "stream",
     "text": [
      "sentiment  -1 is assigned to  870 lemmas\n",
      "sentiment   1 is assigned to  273 lemmas\n",
      "sentiment  -2 is assigned to  248 lemmas\n",
      "sentiment   0 is assigned to  118 lemmas\n",
      "sentiment  -3 is assigned to  107 lemmas\n",
      "sentiment  -4 is assigned to   87 lemmas\n",
      "sentiment   2 is assigned to   56 lemmas\n",
      "sentiment  -5 is assigned to   53 lemmas\n",
      "sentiment  -6 is assigned to   38 lemmas\n",
      "sentiment  -7 is assigned to   30 lemmas\n",
      "sentiment  -8 is assigned to   20 lemmas\n",
      "sentiment   3 is assigned to   17 lemmas\n",
      "sentiment -10 is assigned to   16 lemmas\n",
      "sentiment  -9 is assigned to   10 lemmas\n",
      "sentiment -13 is assigned to    7 lemmas\n",
      "sentiment -11 is assigned to    7 lemmas\n",
      "sentiment -14 is assigned to    6 lemmas\n",
      "sentiment -12 is assigned to    6 lemmas\n",
      "sentiment -17 is assigned to    5 lemmas\n",
      "sentiment -32 is assigned to    4 lemmas\n",
      "sentiment -21 is assigned to    4 lemmas\n",
      "sentiment -49 is assigned to    3 lemmas\n",
      "sentiment -22 is assigned to    3 lemmas\n",
      "sentiment -18 is assigned to    3 lemmas\n",
      "sentiment -16 is assigned to    3 lemmas\n",
      "sentiment   4 is assigned to    3 lemmas\n",
      "sentiment   5 is assigned to    3 lemmas\n",
      "sentiment -36 is assigned to    2 lemmas\n",
      "sentiment -30 is assigned to    2 lemmas\n",
      "sentiment -25 is assigned to    2 lemmas\n",
      "sentiment -24 is assigned to    2 lemmas\n",
      "sentiment -23 is assigned to    2 lemmas\n",
      "sentiment -233 is assigned to    1 lemmas\n",
      "sentiment -195 is assigned to    1 lemmas\n",
      "sentiment -138 is assigned to    1 lemmas\n",
      "sentiment -130 is assigned to    1 lemmas\n",
      "sentiment -73 is assigned to    1 lemmas\n",
      "sentiment -54 is assigned to    1 lemmas\n",
      "sentiment -45 is assigned to    1 lemmas\n",
      "sentiment -39 is assigned to    1 lemmas\n",
      "sentiment -37 is assigned to    1 lemmas\n",
      "sentiment -34 is assigned to    1 lemmas\n",
      "sentiment -33 is assigned to    1 lemmas\n",
      "sentiment -31 is assigned to    1 lemmas\n",
      "sentiment -26 is assigned to    1 lemmas\n",
      "sentiment -20 is assigned to    1 lemmas\n",
      "sentiment -15 is assigned to    1 lemmas\n",
      "sentiment  11 is assigned to    1 lemmas\n",
      "sentiment  29 is assigned to    1 lemmas\n",
      "sentiment 122 is assigned to    1 lemmas\n"
     ]
    }
   ],
   "source": [
    "sentimentDist = collections.Counter()\n",
    "\n",
    "for (lemma, sent) in sentiment.items():\n",
    "  sentimentDist[sent] += 1\n",
    "  \n",
    "for (sent, amount) in sorted(\n",
    "  sentimentDist.items(),\n",
    "  key=lambda x: (-x[1], x[0]),\n",
    "):\n",
    "  print(f'sentiment {sent:>3} is assigned to {amount:>4} lemmas')"
   ]
  },
  {
   "cell_type": "markdown",
   "metadata": {},
   "source": [
    "We show the most negative and most positive sentiments in context."
   ]
  },
  {
   "cell_type": "code",
   "execution_count": 12,
   "metadata": {},
   "outputs": [
    {
     "name": "stdout",
     "output_type": "stream",
     "text": [
      "929 extremely positive word occurrences\n",
      "6650 extremely negative word occurrences\n"
     ]
    }
   ],
   "source": [
    "negaThreshold = -100\n",
    "posiThreshold = 4\n",
    "\n",
    "xPlemmas = {lemma for lemma in sentiment if sentiment[lemma] >= posiThreshold}\n",
    "xNlemmas = {lemma for lemma in sentiment if sentiment[lemma] <= negaThreshold}\n",
    "\n",
    "xPwords = [w for w in F.otype.s('word') if F.lemma.v(w) in xPlemmas and F.pos.v(w) in contentTypes]\n",
    "xNwords = [w for w in F.otype.s('word') if F.lemma.v(w) in xNlemmas and F.pos.v(w) in contentTypes]\n",
    "\n",
    "print(f'{len(xPwords)} extremely positive word occurrences')\n",
    "print(f'{len(xNwords)} extremely negative word occurrences')"
   ]
  },
  {
   "cell_type": "markdown",
   "metadata": {},
   "source": [
    "We put the words in their ayas, and show a few."
   ]
  },
  {
   "cell_type": "code",
   "execution_count": 13,
   "metadata": {},
   "outputs": [
    {
     "name": "stdout",
     "output_type": "stream",
     "text": [
      "692 ayas with extremely positive word occurrences\n",
      "3558 ayas with extremely negative word occurrences\n"
     ]
    }
   ],
   "source": [
    "xPayas = collections.defaultdict(list)\n",
    "xNayas = collections.defaultdict(list)\n",
    "\n",
    "for w in xPwords:\n",
    "  a = L.u(w, otype='aya')[0]\n",
    "  xPayas[a].append(w)\n",
    "  \n",
    "for w in xNwords:\n",
    "  a = L.u(w, otype='aya')[0]\n",
    "  xNayas[a].append(w)\n",
    "  \n",
    "print(f'{len(xPayas)} ayas with extremely positive word occurrences')\n",
    "print(f'{len(xNayas)} ayas with extremely negative word occurrences')\n",
    "\n",
    "xPtuples = [(a, *words) for (a, words) in sorted(xPayas.items())]\n",
    "xNtuples = [(a, *words) for (a, words) in sorted(xNayas.items())]"
   ]
  },
  {
   "cell_type": "markdown",
   "metadata": {},
   "source": [
    "We show three ayas of each category"
   ]
  },
  {
   "cell_type": "code",
   "execution_count": 14,
   "metadata": {},
   "outputs": [
    {
     "data": {
      "text/html": [
       "<p><b>result</b> <i>1</i></p>"
      ],
      "text/plain": [
       "<IPython.core.display.HTML object>"
      ]
     },
     "metadata": {},
     "output_type": "display_data"
    },
    {
     "data": {
      "text/html": [
       "<div class=\"outeritem\"><div class=\"aya   rtl \" >\n",
       "    <div class=\"vl\">\n",
       "        <div class=\"vrs\"><a href=\"http://tanzil.net/#2:3\" title=\"show this passage on Tanzil\" sec=\"2:3\">2:3</a></div>\n",
       "        \n",
       "        <div class=\"features\"> <span class=\"translation@en xft\"><span class=\"f\">translation@en=</span>who believe in the Unseen, and perform the prayer, and expend of that We have provided them;</span></div>\n",
       "    </div>\n",
       "<div class=\"group   rtl \" ><div class=\"features\"></div><div class=\"word   rtl \" ><div class=\"ar\">ٱلَّذِينَ </div><div class=\"features\"> <span class=\"lemma\">{l~a*iY</span> <span class=\"pos\">pronoun</span> <span class=\"posx\">relative</span></div></div></div><div class=\"group   rtl \" ><div class=\"features\"></div><div class=\"word  hl rtl \" ><div class=\"ar\">يُؤْمِنُ</div><div class=\"features\"> <span class=\"lemma\">'aAmana</span> <span class=\"root\">Amn</span> <span class=\"pos\">verb</span> <span class=\"formation\">IV</span> <span class=\"tense\">imperfect</span></div></div><div class=\"word   rtl \" ><div class=\"ar\">ونَ </div><div class=\"features\"> <span class=\"pos\">pronoun</span> <span class=\"posx\">personal</span></div></div></div><div class=\"group   rtl \" ><div class=\"features\"></div><div class=\"word   rtl \" ><div class=\"ar\">بِ</div><div class=\"features\"> <span class=\"pos\">preposition</span></div></div><div class=\"word   rtl \" ><div class=\"ar\">ٱلْ</div><div class=\"features\"> <span class=\"pos\">determiner</span></div></div><div class=\"word   rtl \" ><div class=\"ar\">غَيْبِ </div><div class=\"features\"> <span class=\"lemma\">gayob</span> <span class=\"root\">gyb</span> <span class=\"pos\">noun</span></div></div></div><div class=\"group   rtl \" ><div class=\"features\"></div><div class=\"word   rtl \" ><div class=\"ar\">وَ</div><div class=\"features\"> <span class=\"pos\">conjunction</span> <span class=\"posx\">coordinating</span></div></div><div class=\"word   rtl \" ><div class=\"ar\">يُقِيمُ</div><div class=\"features\"> <span class=\"lemma\">>aqaAma</span> <span class=\"root\">qwm</span> <span class=\"pos\">verb</span> <span class=\"formation\">IV</span> <span class=\"tense\">imperfect</span></div></div><div class=\"word   rtl \" ><div class=\"ar\">ونَ </div><div class=\"features\"> <span class=\"pos\">pronoun</span> <span class=\"posx\">personal</span></div></div></div><div class=\"group   rtl \" ><div class=\"features\"></div><div class=\"word   rtl \" ><div class=\"ar\">ٱل</div><div class=\"features\"> <span class=\"pos\">determiner</span></div></div><div class=\"word   rtl \" ><div class=\"ar\">صَّلَوٰةَ </div><div class=\"features\"> <span class=\"lemma\">Salaw`p</span> <span class=\"root\">Slw</span> <span class=\"pos\">noun</span></div></div></div><div class=\"group   rtl \" ><div class=\"features\"></div><div class=\"word   rtl \" ><div class=\"ar\">وَ</div><div class=\"features\"> <span class=\"pos\">particle</span> <span class=\"posx\">resumption</span></div></div><div class=\"word   rtl \" ><div class=\"ar\">مِ</div><div class=\"features\"> <span class=\"lemma\">min</span> <span class=\"pos\">preposition</span></div></div><div class=\"word   rtl \" ><div class=\"ar\">مَّا </div><div class=\"features\"> <span class=\"lemma\">maA</span> <span class=\"pos\">pronoun</span> <span class=\"posx\">relative</span></div></div></div><div class=\"group   rtl \" ><div class=\"features\"></div><div class=\"word   rtl \" ><div class=\"ar\">رَزَقْ</div><div class=\"features\"> <span class=\"lemma\">razaqa</span> <span class=\"root\">rzq</span> <span class=\"pos\">verb</span> <span class=\"tense\">perfect</span></div></div><div class=\"word   rtl \" ><div class=\"ar\">نَٰ</div><div class=\"features\"> <span class=\"pos\">pronoun</span> <span class=\"posx\">personal</span></div></div><div class=\"word   rtl \" ><div class=\"ar\">هُمْ </div><div class=\"features\"> <span class=\"pos\">pronoun</span> <span class=\"posx\">personal</span></div></div></div><div class=\"group   rtl \" ><div class=\"features\"></div><div class=\"word   rtl \" ><div class=\"ar\">يُنفِقُ</div><div class=\"features\"> <span class=\"lemma\">>anfaqa</span> <span class=\"root\">nfq</span> <span class=\"pos\">verb</span> <span class=\"formation\">IV</span> <span class=\"tense\">imperfect</span></div></div><div class=\"word   rtl \" ><div class=\"ar\">ونَ</div><div class=\"features\"> <span class=\"pos\">pronoun</span> <span class=\"posx\">personal</span></div></div></div></div></div>"
      ],
      "text/plain": [
       "<IPython.core.display.HTML object>"
      ]
     },
     "metadata": {},
     "output_type": "display_data"
    },
    {
     "data": {
      "text/html": [
       "<p><b>result</b> <i>2</i></p>"
      ],
      "text/plain": [
       "<IPython.core.display.HTML object>"
      ]
     },
     "metadata": {},
     "output_type": "display_data"
    },
    {
     "data": {
      "text/html": [
       "<div class=\"outeritem\"><div class=\"aya   rtl \" >\n",
       "    <div class=\"vl\">\n",
       "        <div class=\"vrs\"><a href=\"http://tanzil.net/#2:4\" title=\"show this passage on Tanzil\" sec=\"2:4\">2:4</a></div>\n",
       "        \n",
       "        <div class=\"features\"> <span class=\"translation@en xft\"><span class=\"f\">translation@en=</span>who believe in what has been sent down to thee and what has been sent down before thee, and have faith in the Hereafter;</span></div>\n",
       "    </div>\n",
       "<div class=\"group   rtl \" ><div class=\"features\"></div><div class=\"word   rtl \" ><div class=\"ar\">وَ</div><div class=\"features\"> <span class=\"pos\">conjunction</span> <span class=\"posx\">coordinating</span></div></div><div class=\"word   rtl \" ><div class=\"ar\">ٱلَّذِينَ </div><div class=\"features\"> <span class=\"lemma\">{l~a*iY</span> <span class=\"pos\">pronoun</span> <span class=\"posx\">relative</span></div></div></div><div class=\"group   rtl \" ><div class=\"features\"></div><div class=\"word  hl rtl \" ><div class=\"ar\">يُؤْمِنُ</div><div class=\"features\"> <span class=\"lemma\">'aAmana</span> <span class=\"root\">Amn</span> <span class=\"pos\">verb</span> <span class=\"formation\">IV</span> <span class=\"tense\">imperfect</span></div></div><div class=\"word   rtl \" ><div class=\"ar\">ونَ </div><div class=\"features\"> <span class=\"pos\">pronoun</span> <span class=\"posx\">personal</span></div></div></div><div class=\"group   rtl \" ><div class=\"features\"></div><div class=\"word   rtl \" ><div class=\"ar\">بِ</div><div class=\"features\"> <span class=\"pos\">preposition</span></div></div><div class=\"word   rtl \" ><div class=\"ar\">مَآ </div><div class=\"features\"> <span class=\"lemma\">maA</span> <span class=\"pos\">pronoun</span> <span class=\"posx\">relative</span></div></div></div><div class=\"group   rtl \" ><div class=\"features\"></div><div class=\"word   rtl \" ><div class=\"ar\">أُنزِلَ </div><div class=\"features\"> <span class=\"lemma\">>anzala</span> <span class=\"root\">nzl</span> <span class=\"pos\">verb</span> <span class=\"formation\">IV</span> <span class=\"tense\">perfect</span></div></div></div><div class=\"group   rtl \" ><div class=\"features\"></div><div class=\"word   rtl \" ><div class=\"ar\">إِلَيْ</div><div class=\"features\"> <span class=\"lemma\">&lt;ilaY`</span> <span class=\"pos\">preposition</span></div></div><div class=\"word   rtl \" ><div class=\"ar\">كَ </div><div class=\"features\"> <span class=\"pos\">pronoun</span> <span class=\"posx\">personal</span></div></div></div><div class=\"group   rtl \" ><div class=\"features\"></div><div class=\"word   rtl \" ><div class=\"ar\">وَ</div><div class=\"features\"> <span class=\"pos\">conjunction</span> <span class=\"posx\">coordinating</span></div></div><div class=\"word   rtl \" ><div class=\"ar\">مَآ </div><div class=\"features\"> <span class=\"lemma\">maA</span> <span class=\"pos\">pronoun</span> <span class=\"posx\">relative</span></div></div></div><div class=\"group   rtl \" ><div class=\"features\"></div><div class=\"word   rtl \" ><div class=\"ar\">أُنزِلَ </div><div class=\"features\"> <span class=\"lemma\">>anzala</span> <span class=\"root\">nzl</span> <span class=\"pos\">verb</span> <span class=\"formation\">IV</span> <span class=\"tense\">perfect</span></div></div></div><div class=\"group   rtl \" ><div class=\"features\"></div><div class=\"word   rtl \" ><div class=\"ar\">مِن </div><div class=\"features\"> <span class=\"lemma\">min</span> <span class=\"pos\">preposition</span></div></div></div><div class=\"group   rtl \" ><div class=\"features\"></div><div class=\"word   rtl \" ><div class=\"ar\">قَبْلِ</div><div class=\"features\"> <span class=\"lemma\">qabol</span> <span class=\"root\">qbl</span> <span class=\"pos\">noun</span></div></div><div class=\"word   rtl \" ><div class=\"ar\">كَ </div><div class=\"features\"> <span class=\"pos\">pronoun</span> <span class=\"posx\">personal</span></div></div></div><div class=\"group   rtl \" ><div class=\"features\"></div><div class=\"word   rtl \" ><div class=\"ar\">وَ</div><div class=\"features\"> <span class=\"pos\">particle</span> <span class=\"posx\">resumption</span></div></div><div class=\"word   rtl \" ><div class=\"ar\">بِ</div><div class=\"features\"> <span class=\"pos\">preposition</span></div></div><div class=\"word   rtl \" ><div class=\"ar\">ٱلْ</div><div class=\"features\"> <span class=\"pos\">determiner</span></div></div><div class=\"word   rtl \" ><div class=\"ar\">ءَاخِرَةِ </div><div class=\"features\"> <span class=\"lemma\">A^xir</span> <span class=\"root\">Axr</span> <span class=\"pos\">noun</span></div></div></div><div class=\"group   rtl \" ><div class=\"features\"></div><div class=\"word   rtl \" ><div class=\"ar\">هُمْ </div><div class=\"features\"> <span class=\"pos\">pronoun</span> <span class=\"posx\">personal</span></div></div></div><div class=\"group   rtl \" ><div class=\"features\"></div><div class=\"word   rtl \" ><div class=\"ar\">يُوقِنُ</div><div class=\"features\"> <span class=\"lemma\">yuwqinu</span> <span class=\"root\">yqn</span> <span class=\"pos\">verb</span> <span class=\"formation\">IV</span> <span class=\"tense\">imperfect</span></div></div><div class=\"word   rtl \" ><div class=\"ar\">ونَ</div><div class=\"features\"> <span class=\"pos\">pronoun</span> <span class=\"posx\">personal</span></div></div></div></div></div>"
      ],
      "text/plain": [
       "<IPython.core.display.HTML object>"
      ]
     },
     "metadata": {},
     "output_type": "display_data"
    },
    {
     "data": {
      "text/html": [
       "<p><b>result</b> <i>3</i></p>"
      ],
      "text/plain": [
       "<IPython.core.display.HTML object>"
      ]
     },
     "metadata": {},
     "output_type": "display_data"
    },
    {
     "data": {
      "text/html": [
       "<div class=\"outeritem\"><div class=\"aya   rtl \" >\n",
       "    <div class=\"vl\">\n",
       "        <div class=\"vrs\"><a href=\"http://tanzil.net/#2:6\" title=\"show this passage on Tanzil\" sec=\"2:6\">2:6</a></div>\n",
       "        \n",
       "        <div class=\"features\"> <span class=\"translation@en xft\"><span class=\"f\">translation@en=</span>As for the unbelievers, alike it is to them whether thou hast warned them or hast not warned them, they do not believe.</span></div>\n",
       "    </div>\n",
       "<div class=\"group   rtl \" ><div class=\"features\"></div><div class=\"word   rtl \" ><div class=\"ar\">إِنَّ </div><div class=\"features\"> <span class=\"lemma\">&lt;in~</span> <span class=\"pos\">particle</span> <span class=\"posx\">accusative</span></div></div></div><div class=\"group   rtl \" ><div class=\"features\"></div><div class=\"word   rtl \" ><div class=\"ar\">ٱلَّذِينَ </div><div class=\"features\"> <span class=\"lemma\">{l~a*iY</span> <span class=\"pos\">pronoun</span> <span class=\"posx\">relative</span></div></div></div><div class=\"group   rtl \" ><div class=\"features\"></div><div class=\"word   rtl \" ><div class=\"ar\">كَفَرُ</div><div class=\"features\"> <span class=\"lemma\">kafara</span> <span class=\"root\">kfr</span> <span class=\"pos\">verb</span> <span class=\"tense\">perfect</span></div></div><div class=\"word   rtl \" ><div class=\"ar\">وا۟ </div><div class=\"features\"> <span class=\"pos\">pronoun</span> <span class=\"posx\">personal</span></div></div></div><div class=\"group   rtl \" ><div class=\"features\"></div><div class=\"word   rtl \" ><div class=\"ar\">سَوَآءٌ </div><div class=\"features\"> <span class=\"lemma\">sawaA^'</span> <span class=\"root\">swy</span> <span class=\"pos\">noun</span></div></div></div><div class=\"group   rtl \" ><div class=\"features\"></div><div class=\"word   rtl \" ><div class=\"ar\">عَلَيْ</div><div class=\"features\"> <span class=\"lemma\">EalaY`</span> <span class=\"pos\">preposition</span></div></div><div class=\"word   rtl \" ><div class=\"ar\">هِمْ </div><div class=\"features\"> <span class=\"pos\">pronoun</span> <span class=\"posx\">personal</span></div></div></div><div class=\"group   rtl \" ><div class=\"features\"></div><div class=\"word   rtl \" ><div class=\"ar\">ءَ</div><div class=\"features\"> <span class=\"pos\">particle</span> <span class=\"posx\">equalization</span></div></div><div class=\"word   rtl \" ><div class=\"ar\">أَنذَرْ</div><div class=\"features\"> <span class=\"lemma\">>an*ara</span> <span class=\"root\">n*r</span> <span class=\"pos\">verb</span> <span class=\"formation\">IV</span> <span class=\"tense\">perfect</span></div></div><div class=\"word   rtl \" ><div class=\"ar\">تَ</div><div class=\"features\"> <span class=\"pos\">pronoun</span> <span class=\"posx\">personal</span></div></div><div class=\"word   rtl \" ><div class=\"ar\">هُمْ </div><div class=\"features\"> <span class=\"pos\">pronoun</span> <span class=\"posx\">personal</span></div></div></div><div class=\"group   rtl \" ><div class=\"features\"></div><div class=\"word   rtl \" ><div class=\"ar\">أَمْ </div><div class=\"features\"> <span class=\"lemma\">>am</span> <span class=\"pos\">conjunction</span> <span class=\"posx\">coordinating</span></div></div></div><div class=\"group   rtl \" ><div class=\"features\"></div><div class=\"word   rtl \" ><div class=\"ar\">لَمْ </div><div class=\"features\"> <span class=\"lemma\">lam</span> <span class=\"pos\">particle</span> <span class=\"posx\">negative</span></div></div></div><div class=\"group   rtl \" ><div class=\"features\"></div><div class=\"word   rtl \" ><div class=\"ar\">تُنذِرْ</div><div class=\"features\"> <span class=\"lemma\">>an*ara</span> <span class=\"root\">n*r</span> <span class=\"pos\">verb</span> <span class=\"formation\">IV</span> <span class=\"tense\">imperfect</span></div></div><div class=\"word   rtl \" ><div class=\"ar\">هُمْ </div><div class=\"features\"> <span class=\"pos\">pronoun</span> <span class=\"posx\">personal</span></div></div></div><div class=\"group   rtl \" ><div class=\"features\"></div><div class=\"word   rtl \" ><div class=\"ar\">لَا </div><div class=\"features\"> <span class=\"lemma\">laA</span> <span class=\"pos\">particle</span> <span class=\"posx\">negative</span></div></div></div><div class=\"group   rtl \" ><div class=\"features\"></div><div class=\"word  hl rtl \" ><div class=\"ar\">يُؤْمِنُ</div><div class=\"features\"> <span class=\"lemma\">'aAmana</span> <span class=\"root\">Amn</span> <span class=\"pos\">verb</span> <span class=\"formation\">IV</span> <span class=\"tense\">imperfect</span></div></div><div class=\"word   rtl \" ><div class=\"ar\">ونَ</div><div class=\"features\"> <span class=\"pos\">pronoun</span> <span class=\"posx\">personal</span></div></div></div></div></div>"
      ],
      "text/plain": [
       "<IPython.core.display.HTML object>"
      ]
     },
     "metadata": {},
     "output_type": "display_data"
    }
   ],
   "source": [
    "A.show(xPtuples, end=3)"
   ]
  },
  {
   "cell_type": "code",
   "execution_count": 15,
   "metadata": {},
   "outputs": [
    {
     "data": {
      "text/html": [
       "<p><b>result</b> <i>1</i></p>"
      ],
      "text/plain": [
       "<IPython.core.display.HTML object>"
      ]
     },
     "metadata": {},
     "output_type": "display_data"
    },
    {
     "data": {
      "text/html": [
       "<div class=\"outeritem\"><div class=\"aya   rtl \" >\n",
       "    <div class=\"vl\">\n",
       "        <div class=\"vrs\"><a href=\"http://tanzil.net/#1:1\" title=\"show this passage on Tanzil\" sec=\"1:1\">1:1</a></div>\n",
       "        \n",
       "        <div class=\"features\"> <span class=\"translation@en xft\"><span class=\"f\">translation@en=</span>In the Name of God, the Merciful, the Compassionate</span></div>\n",
       "    </div>\n",
       "<div class=\"group   rtl \" ><div class=\"features\"></div><div class=\"word   rtl \" ><div class=\"ar\">بِ</div><div class=\"features\"> <span class=\"pos\">preposition</span></div></div><div class=\"word   rtl \" ><div class=\"ar\">سْمِ </div><div class=\"features\"> <span class=\"lemma\">{som</span> <span class=\"root\">smw</span> <span class=\"pos\">noun</span></div></div></div><div class=\"group   rtl \" ><div class=\"features\"></div><div class=\"word  hl rtl \" ><div class=\"ar\">ٱللَّهِ </div><div class=\"features\"> <span class=\"lemma\">{ll~ah</span> <span class=\"root\">Alh</span> <span class=\"pos\">noun</span> <span class=\"posx\">proper</span></div></div></div><div class=\"group   rtl \" ><div class=\"features\"></div><div class=\"word   rtl \" ><div class=\"ar\">ٱل</div><div class=\"features\"> <span class=\"pos\">determiner</span></div></div><div class=\"word   rtl \" ><div class=\"ar\">رَّحْمَٰنِ </div><div class=\"features\"> <span class=\"lemma\">r~aHoma`n</span> <span class=\"root\">rHm</span> <span class=\"pos\">adjective</span></div></div></div><div class=\"group   rtl \" ><div class=\"features\"></div><div class=\"word   rtl \" ><div class=\"ar\">ٱل</div><div class=\"features\"> <span class=\"pos\">determiner</span></div></div><div class=\"word   rtl \" ><div class=\"ar\">رَّحِيمِ</div><div class=\"features\"> <span class=\"lemma\">r~aHiym</span> <span class=\"root\">rHm</span> <span class=\"pos\">adjective</span></div></div></div></div></div>"
      ],
      "text/plain": [
       "<IPython.core.display.HTML object>"
      ]
     },
     "metadata": {},
     "output_type": "display_data"
    },
    {
     "data": {
      "text/html": [
       "<p><b>result</b> <i>2</i></p>"
      ],
      "text/plain": [
       "<IPython.core.display.HTML object>"
      ]
     },
     "metadata": {},
     "output_type": "display_data"
    },
    {
     "data": {
      "text/html": [
       "<div class=\"outeritem\"><div class=\"aya   rtl \" >\n",
       "    <div class=\"vl\">\n",
       "        <div class=\"vrs\"><a href=\"http://tanzil.net/#1:2\" title=\"show this passage on Tanzil\" sec=\"1:2\">1:2</a></div>\n",
       "        \n",
       "        <div class=\"features\"> <span class=\"translation@en xft\"><span class=\"f\">translation@en=</span>Praise belongs to God, the Lord of all Being,</span></div>\n",
       "    </div>\n",
       "<div class=\"group   rtl \" ><div class=\"features\"></div><div class=\"word   rtl \" ><div class=\"ar\">ٱلْ</div><div class=\"features\"> <span class=\"pos\">determiner</span></div></div><div class=\"word   rtl \" ><div class=\"ar\">حَمْدُ </div><div class=\"features\"> <span class=\"lemma\">Hamod</span> <span class=\"root\">Hmd</span> <span class=\"pos\">noun</span></div></div></div><div class=\"group   rtl \" ><div class=\"features\"></div><div class=\"word   rtl \" ><div class=\"ar\">لِ</div><div class=\"features\"> <span class=\"pos\">preposition</span></div></div><div class=\"word  hl rtl \" ><div class=\"ar\">لَّهِ </div><div class=\"features\"> <span class=\"lemma\">{ll~ah</span> <span class=\"root\">Alh</span> <span class=\"pos\">noun</span> <span class=\"posx\">proper</span></div></div></div><div class=\"group   rtl \" ><div class=\"features\"></div><div class=\"word  hl rtl \" ><div class=\"ar\">رَبِّ </div><div class=\"features\"> <span class=\"lemma\">rab~</span> <span class=\"root\">rbb</span> <span class=\"pos\">noun</span></div></div></div><div class=\"group   rtl \" ><div class=\"features\"></div><div class=\"word   rtl \" ><div class=\"ar\">ٱلْ</div><div class=\"features\"> <span class=\"pos\">determiner</span></div></div><div class=\"word   rtl \" ><div class=\"ar\">عَٰلَمِينَ</div><div class=\"features\"> <span class=\"lemma\">Ea`lamiyn</span> <span class=\"root\">Elm</span> <span class=\"pos\">noun</span></div></div></div></div></div>"
      ],
      "text/plain": [
       "<IPython.core.display.HTML object>"
      ]
     },
     "metadata": {},
     "output_type": "display_data"
    },
    {
     "data": {
      "text/html": [
       "<p><b>result</b> <i>3</i></p>"
      ],
      "text/plain": [
       "<IPython.core.display.HTML object>"
      ]
     },
     "metadata": {},
     "output_type": "display_data"
    },
    {
     "data": {
      "text/html": [
       "<div class=\"outeritem\"><div class=\"aya   rtl \" >\n",
       "    <div class=\"vl\">\n",
       "        <div class=\"vrs\"><a href=\"http://tanzil.net/#2:5\" title=\"show this passage on Tanzil\" sec=\"2:5\">2:5</a></div>\n",
       "        \n",
       "        <div class=\"features\"> <span class=\"translation@en xft\"><span class=\"f\">translation@en=</span>those are upon guidance from their Lord, those are the ones who prosper.</span></div>\n",
       "    </div>\n",
       "<div class=\"group   rtl \" ><div class=\"features\"></div><div class=\"word   rtl \" ><div class=\"ar\">أُو۟لَٰٓئِكَ </div><div class=\"features\"> <span class=\"lemma\">>uwla`^}ik</span> <span class=\"pos\">pronoun</span> <span class=\"posx\">demonstrative</span></div></div></div><div class=\"group   rtl \" ><div class=\"features\"></div><div class=\"word   rtl \" ><div class=\"ar\">عَلَىٰ </div><div class=\"features\"> <span class=\"lemma\">EalaY`</span> <span class=\"pos\">preposition</span></div></div></div><div class=\"group   rtl \" ><div class=\"features\"></div><div class=\"word   rtl \" ><div class=\"ar\">هُدًى </div><div class=\"features\"> <span class=\"lemma\">hudFY</span> <span class=\"root\">hdy</span> <span class=\"pos\">noun</span></div></div></div><div class=\"group   rtl \" ><div class=\"features\"></div><div class=\"word   rtl \" ><div class=\"ar\">مِّن </div><div class=\"features\"> <span class=\"lemma\">min</span> <span class=\"pos\">preposition</span></div></div></div><div class=\"group   rtl \" ><div class=\"features\"></div><div class=\"word  hl rtl \" ><div class=\"ar\">رَّبِّ</div><div class=\"features\"> <span class=\"lemma\">rab~</span> <span class=\"root\">rbb</span> <span class=\"pos\">noun</span></div></div><div class=\"word   rtl \" ><div class=\"ar\">هِمْ </div><div class=\"features\"> <span class=\"pos\">pronoun</span> <span class=\"posx\">personal</span></div></div></div><div class=\"group   rtl \" ><div class=\"features\"></div><div class=\"word   rtl \" ><div class=\"ar\">وَ</div><div class=\"features\"> <span class=\"pos\">conjunction</span> <span class=\"posx\">coordinating</span></div></div><div class=\"word   rtl \" ><div class=\"ar\">أُو۟لَٰٓئِكَ </div><div class=\"features\"> <span class=\"lemma\">>uwla`^}ik</span> <span class=\"pos\">pronoun</span> <span class=\"posx\">demonstrative</span></div></div></div><div class=\"group   rtl \" ><div class=\"features\"></div><div class=\"word   rtl \" ><div class=\"ar\">هُمُ </div><div class=\"features\"> <span class=\"pos\">pronoun</span> <span class=\"posx\">personal</span></div></div></div><div class=\"group   rtl \" ><div class=\"features\"></div><div class=\"word   rtl \" ><div class=\"ar\">ٱلْ</div><div class=\"features\"> <span class=\"pos\">determiner</span></div></div><div class=\"word   rtl \" ><div class=\"ar\">مُفْلِحُونَ</div><div class=\"features\"> <span class=\"lemma\">mufoliHuwn</span> <span class=\"root\">flH</span> <span class=\"pos\">noun</span> <span class=\"formation\">IV</span> <span class=\"tense\">participle</span></div></div></div></div></div>"
      ],
      "text/plain": [
       "<IPython.core.display.HTML object>"
      ]
     },
     "metadata": {},
     "output_type": "display_data"
    }
   ],
   "source": [
    "A.show(xNtuples, end=3)"
   ]
  },
  {
   "cell_type": "markdown",
   "metadata": {},
   "source": [
    "Probably Allah has a negative sentiment because He occurs in many negative contexts as a punisher.\n",
    "\n",
    "Anyway, we do not try to be sophisticated here.\n",
    "\n",
    "We move on to export this sentiment feature."
   ]
  },
  {
   "cell_type": "markdown",
   "metadata": {},
   "source": [
    "# Saving data\n",
    "\n",
    "The [documentation](https://annotation.github.io/text-fabric/Api/Fabric/#saving-features) explains how to save this data into a text-fabric\n",
    "data file.\n",
    "\n",
    "We choose a location where to save it, the `exercises` repository in the `q-ran` organization, in the folder `mining`. \n",
    "\n",
    "In order to do this, we restart the TF api, but now with the desired output location in the `locations` parameter."
   ]
  },
  {
   "cell_type": "code",
   "execution_count": 16,
   "metadata": {},
   "outputs": [],
   "source": [
    "import os"
   ]
  },
  {
   "cell_type": "code",
   "execution_count": 17,
   "metadata": {},
   "outputs": [],
   "source": [
    "GITHUB = os.path.expanduser('~/github')\n",
    "ORG = 'q-ran'\n",
    "REPO = 'exercises'\n",
    "PATH = 'mining'\n",
    "VERSION = A.version"
   ]
  },
  {
   "cell_type": "markdown",
   "metadata": {},
   "source": [
    "Note the version: we have built the version against a specific version of the data:"
   ]
  },
  {
   "cell_type": "code",
   "execution_count": 18,
   "metadata": {},
   "outputs": [
    {
     "data": {
      "text/plain": [
       "'0.4'"
      ]
     },
     "execution_count": 18,
     "metadata": {},
     "output_type": "execute_result"
    }
   ],
   "source": [
    "A.version"
   ]
  },
  {
   "cell_type": "markdown",
   "metadata": {},
   "source": [
    "Later on, we pass this version on, so that users of our data will get the shared data in exactly the same version as their core data."
   ]
  },
  {
   "cell_type": "markdown",
   "metadata": {},
   "source": [
    "We have to specify a bit of metadata for this feature:"
   ]
  },
  {
   "cell_type": "code",
   "execution_count": 19,
   "metadata": {},
   "outputs": [],
   "source": [
    "metaData = {\n",
    "  'sentiment': dict(\n",
    "    valueType='int',\n",
    "    description='crude sentiments in the Quran',\n",
    "    creator='Dirk Roorda',\n",
    "  ),\n",
    "}\n",
    "\n",
    "sentimentData = {w: sentiment[F.lemma.v(w)] for w in F.otype.s('word') if F.lemma.v(w) in sentiment and F.pos.v(w) in contentTypes}"
   ]
  },
  {
   "cell_type": "markdown",
   "metadata": {},
   "source": [
    "Now we can give the save command:"
   ]
  },
  {
   "cell_type": "code",
   "execution_count": 20,
   "metadata": {},
   "outputs": [
    {
     "data": {
      "text/plain": [
       "True"
      ]
     },
     "execution_count": 20,
     "metadata": {},
     "output_type": "execute_result"
    }
   ],
   "source": [
    "TF.save(nodeFeatures=dict(sentiment=sentimentData), metaData=metaData, location=f'{GITHUB}/{ORG}/{REPO}/{PATH}/tf', module=VERSION)"
   ]
  },
  {
   "cell_type": "markdown",
   "metadata": {},
   "source": [
    "# Sharing data\n",
    "\n",
    "How to share your own data is explained in the\n",
    "[documentation](https://annotation.github.io/text-fabric/Api/Data/).\n",
    "\n",
    "Here we show it step by step for the `sentiment` feature."
   ]
  },
  {
   "cell_type": "markdown",
   "metadata": {},
   "source": [
    "## Zip the data\n",
    "\n",
    "We need to zip the data in exactly the right directory structure. Text-Fabric can do that for us:"
   ]
  },
  {
   "cell_type": "code",
   "execution_count": 21,
   "metadata": {},
   "outputs": [
    {
     "name": "stdout",
     "output_type": "stream",
     "text": [
      "True\n",
      "Create release data for q-ran/exercises/mining/tf\n",
      "Found 2 versions\n",
      "zip files end up in /Users/dirk/Downloads/q-ran-release/exercises\n",
      "zipping q-ran/exercises            0.3 with   1 features ==> mining-tf-0.3.zip\n",
      "zipping q-ran/exercises            0.4 with   1 features ==> mining-tf-0.4.zip\n"
     ]
    }
   ],
   "source": [
    "%%sh\n",
    "\n",
    "text-fabric-zip q-ran/exercises/mining/tf"
   ]
  },
  {
   "cell_type": "markdown",
   "metadata": {},
   "source": [
    "Now you have the file in the desired structure in your Downloads folder.\n",
    "\n",
    "## Put the data on Github\n",
    "\n",
    "The next thing is: make a new release in your Github directory, in this case Nino-cunei/exercises, and attach\n",
    "the zip file as a binary.\n",
    "\n",
    "You have to do this in your web browser, on the Github website.\n",
    "\n",
    "Here is the result for our case:\n",
    "\n",
    "![release](images/release.png)"
   ]
  },
  {
   "cell_type": "markdown",
   "metadata": {},
   "source": [
    "# Use the data\n",
    "\n",
    "We can use the data by calling it up when we say `use('quran', ...)`.\n",
    "\n",
    "Here is how:"
   ]
  },
  {
   "cell_type": "code",
   "execution_count": 24,
   "metadata": {},
   "outputs": [
    {
     "name": "stdout",
     "output_type": "stream",
     "text": [
      "Using TF-app in /Users/dirk/github/annotation/app-quran/code:\n",
      "\trepo clone offline under ~/github (local github)\n",
      "Using data in /Users/dirk/github/q-ran/quran/tf/0.4:\n",
      "\trepo clone offline under ~/github (local github)\n",
      "Using data in /Users/dirk/github/q-ran/exercises/mining/tf/0.4:\n",
      "\trepo clone offline under ~/github (local github)\n"
     ]
    },
    {
     "data": {
      "text/html": [
       "<b>Documentation:</b> <a target=\"_blank\" href=\"https://github.com/q-ran/quran/blob/master/docs\" title=\"provenance of Quran\">QURAN</a> <a target=\"_blank\" href=\"https://annotation.github.io/text-fabric/Writing/Arabic\" title=\"('Arabic characters and transcriptions',)\">Character table</a> <a target=\"_blank\" href=\"https://github.com/q-ran/quran/blob/master/docs/features.md#features.md\" title=\"QURAN feature documentation\">Feature docs</a> <a target=\"_blank\" href=\"https://github.com/annotation/app-quran\" title=\"quran API documentation\">quran API</a> <a target=\"_blank\" href=\"https://annotation.github.io/text-fabric/Api/Fabric/\" title=\"text-fabric-api\">Text-Fabric API 7.11.1</a> <a target=\"_blank\" href=\"https://annotation.github.io/text-fabric/Use/Search/\" title=\"Search Templates Introduction and Reference\">Search Reference</a><details open><summary><b>Loaded features</b>:</summary>\n",
       "<p><b>Quran</b>: <a target=\"_blank\" href=\"https://github.com/q-ran/quran/blob/master/docs/features.md#a\" title=\"/Users/dirk/github/q-ran/quran/tf/0.4/a.tf\">a</a>  <a target=\"_blank\" href=\"https://github.com/q-ran/quran/blob/master/docs/features.md#ascii\" title=\"/Users/dirk/github/q-ran/quran/tf/0.4/ascii.tf\">ascii</a>  <a target=\"_blank\" href=\"https://github.com/q-ran/quran/blob/master/docs/features.md#ax\" title=\"/Users/dirk/github/q-ran/quran/tf/0.4/ax.tf\">ax</a>  <a target=\"_blank\" href=\"https://github.com/q-ran/quran/blob/master/docs/features.md#case\" title=\"/Users/dirk/github/q-ran/quran/tf/0.4/case.tf\">case</a>  <a target=\"_blank\" href=\"https://github.com/q-ran/quran/blob/master/docs/features.md#component\" title=\"/Users/dirk/github/q-ran/quran/tf/0.4/component.tf\">component</a>  <a target=\"_blank\" href=\"https://github.com/q-ran/quran/blob/master/docs/features.md#definite\" title=\"/Users/dirk/github/q-ran/quran/tf/0.4/definite.tf\">definite</a>  <a target=\"_blank\" href=\"https://github.com/q-ran/quran/blob/master/docs/features.md#f\" title=\"/Users/dirk/github/q-ran/quran/tf/0.4/f.tf\">f</a>  <a target=\"_blank\" href=\"https://github.com/q-ran/quran/blob/master/docs/features.md#formation\" title=\"/Users/dirk/github/q-ran/quran/tf/0.4/formation.tf\">formation</a>  <a target=\"_blank\" href=\"https://github.com/q-ran/quran/blob/master/docs/features.md#fx\" title=\"/Users/dirk/github/q-ran/quran/tf/0.4/fx.tf\">fx</a>  <a target=\"_blank\" href=\"https://github.com/q-ran/quran/blob/master/docs/features.md#gn\" title=\"/Users/dirk/github/q-ran/quran/tf/0.4/gn.tf\">gn</a>  <a target=\"_blank\" href=\"https://github.com/q-ran/quran/blob/master/docs/features.md#interjection\" title=\"/Users/dirk/github/q-ran/quran/tf/0.4/interjection.tf\">interjection</a>  <a target=\"_blank\" href=\"https://github.com/q-ran/quran/blob/master/docs/features.md#l\" title=\"/Users/dirk/github/q-ran/quran/tf/0.4/l.tf\">l</a>  <a target=\"_blank\" href=\"https://github.com/q-ran/quran/blob/master/docs/features.md#lemma\" title=\"/Users/dirk/github/q-ran/quran/tf/0.4/lemma.tf\">lemma</a>  <a target=\"_blank\" href=\"https://github.com/q-ran/quran/blob/master/docs/features.md#lx\" title=\"/Users/dirk/github/q-ran/quran/tf/0.4/lx.tf\">lx</a>  <a target=\"_blank\" href=\"https://github.com/q-ran/quran/blob/master/docs/features.md#mood\" title=\"/Users/dirk/github/q-ran/quran/tf/0.4/mood.tf\">mood</a>  <a target=\"_blank\" href=\"https://github.com/q-ran/quran/blob/master/docs/features.md#n\" title=\"/Users/dirk/github/q-ran/quran/tf/0.4/n.tf\">n</a>  <a target=\"_blank\" href=\"https://github.com/q-ran/quran/blob/master/docs/features.md#name\" title=\"/Users/dirk/github/q-ran/quran/tf/0.4/name.tf\">name</a>  <a target=\"_blank\" href=\"https://github.com/q-ran/quran/blob/master/docs/features.md#name@ll\" title=\"/Users/dirk/github/q-ran/quran/tf/0.4/name@en.tf\">name@ll</a>  <a target=\"_blank\" href=\"https://github.com/q-ran/quran/blob/master/docs/features.md#nameAscii\" title=\"/Users/dirk/github/q-ran/quran/tf/0.4/nameAscii.tf\">nameAscii</a>  <a target=\"_blank\" href=\"https://github.com/q-ran/quran/blob/master/docs/features.md#nameTrans\" title=\"/Users/dirk/github/q-ran/quran/tf/0.4/nameTrans.tf\">nameTrans</a>  <a target=\"_blank\" href=\"https://github.com/q-ran/quran/blob/master/docs/features.md#nu\" title=\"/Users/dirk/github/q-ran/quran/tf/0.4/nu.tf\">nu</a>  <a target=\"_blank\" href=\"https://github.com/q-ran/quran/blob/master/docs/features.md#number\" title=\"/Users/dirk/github/q-ran/quran/tf/0.4/number.tf\">number</a>  <a target=\"_blank\" href=\"https://github.com/q-ran/quran/blob/master/docs/features.md#order\" title=\"/Users/dirk/github/q-ran/quran/tf/0.4/order.tf\">order</a>  <a target=\"_blank\" href=\"https://github.com/q-ran/quran/blob/master/docs/features.md#otype\" title=\"/Users/dirk/github/q-ran/quran/tf/0.4/otype.tf\">otype</a>  <a target=\"_blank\" href=\"https://github.com/q-ran/quran/blob/master/docs/features.md#pos\" title=\"/Users/dirk/github/q-ran/quran/tf/0.4/pos.tf\">pos</a>  <a target=\"_blank\" href=\"https://github.com/q-ran/quran/blob/master/docs/features.md#posx\" title=\"/Users/dirk/github/q-ran/quran/tf/0.4/posx.tf\">posx</a>  <a target=\"_blank\" href=\"https://github.com/q-ran/quran/blob/master/docs/features.md#ps\" title=\"/Users/dirk/github/q-ran/quran/tf/0.4/ps.tf\">ps</a>  <a target=\"_blank\" href=\"https://github.com/q-ran/quran/blob/master/docs/features.md#root\" title=\"/Users/dirk/github/q-ran/quran/tf/0.4/root.tf\">root</a>  <a target=\"_blank\" href=\"https://github.com/q-ran/quran/blob/master/docs/features.md#sp\" title=\"/Users/dirk/github/q-ran/quran/tf/0.4/sp.tf\">sp</a>  <a target=\"_blank\" href=\"https://github.com/q-ran/quran/blob/master/docs/features.md#space\" title=\"/Users/dirk/github/q-ran/quran/tf/0.4/space.tf\">space</a>  <a target=\"_blank\" href=\"https://github.com/q-ran/quran/blob/master/docs/features.md#tense\" title=\"/Users/dirk/github/q-ran/quran/tf/0.4/tense.tf\">tense</a>  <a target=\"_blank\" href=\"https://github.com/q-ran/quran/blob/master/docs/features.md#translation@ll\" title=\"/Users/dirk/github/q-ran/quran/tf/0.4/translation@en.tf\">translation@ll</a>  <a target=\"_blank\" href=\"https://github.com/q-ran/quran/blob/master/docs/features.md#type\" title=\"/Users/dirk/github/q-ran/quran/tf/0.4/type.tf\">type</a>  <a target=\"_blank\" href=\"https://github.com/q-ran/quran/blob/master/docs/features.md#unicode\" title=\"/Users/dirk/github/q-ran/quran/tf/0.4/unicode.tf\">unicode</a>  <a target=\"_blank\" href=\"https://github.com/q-ran/quran/blob/master/docs/features.md#voice\" title=\"/Users/dirk/github/q-ran/quran/tf/0.4/voice.tf\">voice</a>  <a target=\"_blank\" href=\"https://github.com/q-ran/quran/blob/master/docs/features.md#w\" title=\"/Users/dirk/github/q-ran/quran/tf/0.4/w.tf\">w</a>  <a target=\"_blank\" href=\"https://github.com/q-ran/quran/blob/master/docs/features.md#wx\" title=\"/Users/dirk/github/q-ran/quran/tf/0.4/wx.tf\">wx</a>  <b><i><a target=\"_blank\" href=\"https://github.com/q-ran/quran/blob/master/docs/features.md#oslots\" title=\"/Users/dirk/github/q-ran/quran/tf/0.4/oslots.tf\">oslots</a></i></b> </p><p><b>q-ran/exercises/mining/tf</b>: <a target=\"_blank\" href=\"https://github.com/q-ran/exercises/tree/master/mining/tf\" title=\"/Users/dirk/github/q-ran/exercises/mining/tf/0.4/sentiment.tf\">sentiment</a> </p></details>"
      ],
      "text/plain": [
       "<IPython.core.display.HTML object>"
      ]
     },
     "metadata": {},
     "output_type": "display_data"
    },
    {
     "data": {
      "text/html": [
       "<style>\n",
       "@font-face {\n",
       "  font-family: \"AmiriQuran\";\n",
       "  src:\n",
       "    local(\"AmiriQuran.ttf\"),\n",
       "    url(\"https://github.com/annotation/text-fabric/blob/master/tf/server/static/fonts/AmiriQuran.woff2?raw=true\");\n",
       "}\n",
       ".features {\n",
       "    font-family: monospace;\n",
       "    font-size: medium;\n",
       "    font-weight: bold;\n",
       "    color: #0a6611;\n",
       "    display: flex;\n",
       "    flex-flow: column nowrap;\n",
       "    padding: 0.1em;\n",
       "    margin: 0.1em;\n",
       "    direction: ltr;\n",
       "}\n",
       ".features div,.features span {\n",
       "    padding: 0;\n",
       "    margin: -0.1rem 0;\n",
       "}\n",
       ".features .f {\n",
       "    font-family: sans-serif;\n",
       "    font-size: x-small;\n",
       "    font-weight: normal;\n",
       "    color: #5555bb;\n",
       "}\n",
       ".features .xft {\n",
       "  color: #000000;\n",
       "  background-color: #eeeeee;\n",
       "  font-size: medium;\n",
       "  margin: 0.1em 0em;\n",
       "}\n",
       ".features .xft .f {\n",
       "  color: #000000;\n",
       "  background-color: #eeeeee;\n",
       "  font-style: italic;\n",
       "  font-size: small;\n",
       "  font-weight: normal;\n",
       "}\n",
       ".nd {\n",
       "    font-family: monospace;\n",
       "    font-size: x-small;\n",
       "    color: #999999;\n",
       "}\n",
       ".hl {\n",
       "    background-color: #ffee66;\n",
       "}\n",
       ".outerplain {\n",
       "    direction: rtl;\n",
       "}\n",
       ".outeritem {\n",
       "    display: flex;\n",
       "    flex-flow: row wrap;\n",
       "    direction: rtl;\n",
       "}\n",
       ".ltr {\n",
       "    direction: ltr ! important;\n",
       "}\n",
       ".rtl {\n",
       "    direction: rtl ! important;\n",
       "}\n",
       ".aya {\n",
       "    display: flex;\n",
       "    flex-flow: row wrap;\n",
       "    direction: rtl;\n",
       "}\n",
       ".vl {\n",
       "    display: flex;\n",
       "    flex-flow: column nowrap;\n",
       "    justify-content: flex-end;\n",
       "    align-items: flex-end;\n",
       "    direction: ltr;\n",
       "    width: 100%;\n",
       "}\n",
       ".vn {\n",
       "  font-size: small !important;\n",
       "  padding-right: 1em;\n",
       "}\n",
       ".vrs {\n",
       "    font-family: sans-serif;\n",
       "    font-size: small;\n",
       "    font-weight: bold;\n",
       "    color: #444444;\n",
       "}\n",
       ".group {\n",
       "    display: flex;\n",
       "    flex-flow: row wrap;\n",
       "    direction: rtl;\n",
       "    padding: 0.1em;\n",
       "    margin: 0.1em;\n",
       "    border-radius: 0.1em;\n",
       "    border: 2px solid #dd9911;\n",
       "}\n",
       ".word {\n",
       "    padding: 0.1em;\n",
       "    margin: 0.1em;\n",
       "    border-radius: 0.1em;\n",
       "    border: 1px solid #ffcc44;\n",
       "    display: flex;\n",
       "    flex-flow: column nowrap;\n",
       "    direction: rtl;\n",
       "}\n",
       ".lextp {\n",
       "    padding: 0.1em;\n",
       "    margin: 0.1em;\n",
       "    border-radius: 0.1em;\n",
       "    border: 2px solid #888888;\n",
       "    width: fit-content;\n",
       "    display: flex;\n",
       "    flex-flow: column nowrap;\n",
       "    direction: rtl;\n",
       "}\n",
       ".occs {\n",
       "    font-size: x-small;\n",
       "}\n",
       ".tr,.tr a:visited,.tr a:link {\n",
       "    font-family: sans-serif;\n",
       "    font-size: large;\n",
       "    color: #000044;\n",
       "    direction: ltr;\n",
       "    text-decoration: none;\n",
       "}\n",
       ".trb,.trb a:visited,.trb a:link {\n",
       "    font-family: sans-serif;\n",
       "    font-size: normal;\n",
       "    direction: ltr;\n",
       "    text-decoration: none;\n",
       "}\n",
       ".ar,.ar a:visited,.ar a:link {\n",
       "    font-family: \"AmiriQuran\", sans-serif;\n",
       "    font-size: large;\n",
       "    color: #000044;\n",
       "    direction: rtl;\n",
       "    text-decoration: none;\n",
       "}\n",
       ".arb,.arb a:visited,.arb a:link {\n",
       "    font-family: \"AmiriQuran\", sans-serif;\n",
       "    font-size: large;\n",
       "    line-height: 3;\n",
       "    direction: rtl;\n",
       "    text-decoration: none;\n",
       "}\n",
       ".sp,.sp a:visited,.sp a:link {\n",
       "    font-family: monospace;\n",
       "    font-size: medium;\n",
       "    color: #0000bb;\n",
       "    text-decoration: none;\n",
       "}\n",
       ".lexeme {\n",
       "    font-family: monospace;\n",
       "    font-size: medium;\n",
       "    color: #0000bb;\n",
       "}\n",
       ".vs {\n",
       "    font-family: monospace;\n",
       "    font-size: medium;\n",
       "    font-weight: bold;\n",
       "    color: #0000bb;\n",
       "}\n",
       ".vt {\n",
       "    font-family: monospace;\n",
       "    font-size: medium;\n",
       "    font-weight: bold;\n",
       "    color: #0000bb;\n",
       "}\n",
       "\n",
       "\n",
       "tr.tf, td.tf, th.tf {\n",
       "  text-align: left;\n",
       "}\n",
       "\n",
       "span.hldot {\n",
       "\tbackground-color: var(--hl-strong);\n",
       "\tborder: 0.2rem solid var(--hl-rim);\n",
       "\tborder-radius: 0.4rem;\n",
       "\t/*\n",
       "\tdisplay: inline-block;\n",
       "\twidth: 0.8rem;\n",
       "\theight: 0.8rem;\n",
       "\t*/\n",
       "}\n",
       "span.hl {\n",
       "\tbackground-color: var(--hl-strong);\n",
       "\tborder-width: 0;\n",
       "\tborder-radius: 0.1rem;\n",
       "\tborder-style: solid;\n",
       "}\n",
       "\n",
       "span.hlbx {\n",
       "\tborder-color: var(--hl-dark);\n",
       "\tborder-width: 0.1rem;\n",
       "\tborder-style: solid;\n",
       "\tborder-radius: 0.2rem;\n",
       "  padding: 0.2rem;\n",
       "  margin: 0.2rem;\n",
       "}\n",
       "\n",
       "span.plain {\n",
       "  display: inline-block;\n",
       "  white-space: pre-wrap;\n",
       "}\n",
       "\n",
       ":root {\n",
       "\t--hl-strong:        hsla( 60, 100%,  70%, 0.9  );\n",
       "\t--hl-rim:           hsla( 55, 100%,  60%, 0.9  );\n",
       "\t--hl-dark:          hsla( 55, 100%,  40%, 0.9  );\n",
       "}\n",
       "</style>"
      ],
      "text/plain": [
       "<IPython.core.display.HTML object>"
      ]
     },
     "metadata": {},
     "output_type": "display_data"
    },
    {
     "data": {
      "text/html": [
       "<details open><summary><b>API members</b>:</summary>\n",
       "<a target=\"_blank\" href=\"https://annotation.github.io/text-fabric/Api/Computed/#computed-data\" title=\"doc\">C Computed</a>, <a target=\"_blank\" href=\"https://annotation.github.io/text-fabric/Api/Computed/#computed-data\" title=\"doc\">Call AllComputeds</a>, <a target=\"_blank\" href=\"https://annotation.github.io/text-fabric/Api/Computed/#computed-data\" title=\"doc\">Cs ComputedString</a><br/>\n",
       "<a target=\"_blank\" href=\"https://annotation.github.io/text-fabric/Api/Features/#edge-features\" title=\"doc\">E Edge</a>, <a target=\"_blank\" href=\"https://annotation.github.io/text-fabric/Api/Features/#edge-features\" title=\"doc\">Eall AllEdges</a>, <a target=\"_blank\" href=\"https://annotation.github.io/text-fabric/Api/Features/#edge-features\" title=\"doc\">Es EdgeString</a><br/>\n",
       "<a target=\"_blank\" href=\"https://annotation.github.io/text-fabric/Api/Fabric/#loading\" title=\"doc\">ensureLoaded</a>, <a target=\"_blank\" href=\"https://annotation.github.io/text-fabric/Api/Fabric/#loading\" title=\"doc\">TF</a>, <a target=\"_blank\" href=\"https://annotation.github.io/text-fabric/Api/Fabric/#loading\" title=\"doc\">ignored</a>, <a target=\"_blank\" href=\"https://annotation.github.io/text-fabric/Api/Fabric/#loading\" title=\"doc\">loadLog</a><br/>\n",
       "<a target=\"_blank\" href=\"https://annotation.github.io/text-fabric/Api/Locality/#locality\" title=\"doc\">L Locality</a><br/>\n",
       "<a target=\"_blank\" href=\"https://annotation.github.io/text-fabric/Api/Misc/#messaging\" title=\"doc\">cache</a>, <a target=\"_blank\" href=\"https://annotation.github.io/text-fabric/Api/Misc/#messaging\" title=\"doc\">error</a>, <a target=\"_blank\" href=\"https://annotation.github.io/text-fabric/Api/Misc/#messaging\" title=\"doc\">indent</a>, <a target=\"_blank\" href=\"https://annotation.github.io/text-fabric/Api/Misc/#messaging\" title=\"doc\">info</a>, <a target=\"_blank\" href=\"https://annotation.github.io/text-fabric/Api/Misc/#messaging\" title=\"doc\">isSilent</a>, <a target=\"_blank\" href=\"https://annotation.github.io/text-fabric/Api/Misc/#messaging\" title=\"doc\">reset</a>, <a target=\"_blank\" href=\"https://annotation.github.io/text-fabric/Api/Misc/#messaging\" title=\"doc\">setSilent</a>, <a target=\"_blank\" href=\"https://annotation.github.io/text-fabric/Api/Misc/#messaging\" title=\"doc\">silentOff</a>, <a target=\"_blank\" href=\"https://annotation.github.io/text-fabric/Api/Misc/#messaging\" title=\"doc\">silentOn</a>, <a target=\"_blank\" href=\"https://annotation.github.io/text-fabric/Api/Misc/#messaging\" title=\"doc\">warning</a><br/>\n",
       "<a target=\"_blank\" href=\"https://annotation.github.io/text-fabric/Api/Nodes/#navigating-nodes\" title=\"doc\">N Nodes</a>, <a target=\"_blank\" href=\"https://annotation.github.io/text-fabric/Api/Nodes/#navigating-nodes\" title=\"doc\">sortKey</a>, <a target=\"_blank\" href=\"https://annotation.github.io/text-fabric/Api/Nodes/#navigating-nodes\" title=\"doc\">sortKeyTuple</a>, <a target=\"_blank\" href=\"https://annotation.github.io/text-fabric/Api/Nodes/#navigating-nodes\" title=\"doc\">otypeRank</a>, <a target=\"_blank\" href=\"https://annotation.github.io/text-fabric/Api/Nodes/#navigating-nodes\" title=\"doc\">sortNodes</a><br/>\n",
       "<a target=\"_blank\" href=\"https://annotation.github.io/text-fabric/Api/Features/#node-features\" title=\"doc\">F Feature</a>, <a target=\"_blank\" href=\"https://annotation.github.io/text-fabric/Api/Features/#node-features\" title=\"doc\">Fall AllFeatures</a>, <a target=\"_blank\" href=\"https://annotation.github.io/text-fabric/Api/Features/#node-features\" title=\"doc\">Fs FeatureString</a><br/>\n",
       "<a target=\"_blank\" href=\"https://annotation.github.io/text-fabric/Api/Search/#search\" title=\"doc\">S Search</a><br/>\n",
       "<a target=\"_blank\" href=\"https://annotation.github.io/text-fabric/Api/Text/#text\" title=\"doc\">T Text</a></details>"
      ],
      "text/plain": [
       "<IPython.core.display.HTML object>"
      ]
     },
     "metadata": {},
     "output_type": "display_data"
    }
   ],
   "source": [
    "# A = use('quran', hoist=globals(), check=True, mod='q-ran/exercises/mining/tf')\n",
    "A = use('quran:clone', checkout=\"clone\", hoist=globals(), mod='q-ran/exercises/mining/tf:clone')"
   ]
  },
  {
   "cell_type": "markdown",
   "metadata": {},
   "source": [
    "Above you see a new section in the feature list: **q-ran/exercises/mining/tf** with our foreign feature in it: `sentiment`.\n",
    "\n",
    "Now, suppose did not know much about this feature, then we would like to do a few basic checks:"
   ]
  },
  {
   "cell_type": "code",
   "execution_count": 25,
   "metadata": {},
   "outputs": [
    {
     "data": {
      "text/plain": [
       "((-1, 4509),\n",
       " (-2, 3044),\n",
       " (-233, 2699),\n",
       " (-4, 2368),\n",
       " (-3, 2217),\n",
       " (1, 2040),\n",
       " (-5, 1964),\n",
       " (-7, 1693),\n",
       " (-195, 1618),\n",
       " (-8, 1541),\n",
       " (0, 1517),\n",
       " (-6, 1416),\n",
       " (-10, 1406),\n",
       " (-138, 1358),\n",
       " (-49, 1147),\n",
       " (-130, 975),\n",
       " (-32, 865),\n",
       " (-21, 841),\n",
       " (2, 833),\n",
       " (-13, 696),\n",
       " (-12, 690),\n",
       " (-14, 669),\n",
       " (-36, 662),\n",
       " (-25, 589),\n",
       " (-17, 589),\n",
       " (-9, 577),\n",
       " (-30, 571),\n",
       " (29, 537),\n",
       " (-22, 529),\n",
       " (-11, 431),\n",
       " (-23, 410),\n",
       " (-18, 360),\n",
       " (-45, 358),\n",
       " (-33, 289),\n",
       " (-54, 278),\n",
       " (-37, 271),\n",
       " (-31, 271),\n",
       " (-24, 261),\n",
       " (-16, 245),\n",
       " (-26, 236),\n",
       " (3, 205),\n",
       " (-73, 176),\n",
       " (122, 153),\n",
       " (-34, 136),\n",
       " (-39, 127),\n",
       " (5, 115),\n",
       " (-20, 75),\n",
       " (11, 75),\n",
       " (-15, 72),\n",
       " (4, 49))"
      ]
     },
     "execution_count": 25,
     "metadata": {},
     "output_type": "execute_result"
    }
   ],
   "source": [
    "F.sentiment.freqList()"
   ]
  },
  {
   "cell_type": "markdown",
   "metadata": {},
   "source": [
    "Which nodes have a sentiment feature?"
   ]
  },
  {
   "cell_type": "code",
   "execution_count": 26,
   "metadata": {},
   "outputs": [
    {
     "data": {
      "text/plain": [
       "{'word'}"
      ]
     },
     "execution_count": 26,
     "metadata": {},
     "output_type": "execute_result"
    }
   ],
   "source": [
    "{F.otype.v(n) for n in N() if F.sentiment.v(n)}"
   ]
  },
  {
   "cell_type": "markdown",
   "metadata": {},
   "source": [
    "Only words have the feature.\n",
    "\n",
    "Which part of speech do these words have?"
   ]
  },
  {
   "cell_type": "code",
   "execution_count": 27,
   "metadata": {},
   "outputs": [
    {
     "data": {
      "text/plain": [
       "{'adjective', 'noun', 'verb'}"
      ]
     },
     "execution_count": 27,
     "metadata": {},
     "output_type": "execute_result"
    }
   ],
   "source": [
    "{F.pos.v(n) for n in F.otype.s('word') if F.sentiment.v(n)}"
   ]
  },
  {
   "cell_type": "markdown",
   "metadata": {},
   "source": [
    "Let's have a look at a table of some words with positive sentiments."
   ]
  },
  {
   "cell_type": "code",
   "execution_count": 28,
   "metadata": {},
   "outputs": [
    {
     "name": "stdout",
     "output_type": "stream",
     "text": [
      "  0.13s 4007 results\n"
     ]
    }
   ],
   "source": [
    "results = A.search('''\n",
    "word sentiment>0\n",
    "''')"
   ]
  },
  {
   "cell_type": "code",
   "execution_count": 29,
   "metadata": {},
   "outputs": [
    {
     "data": {
      "text/html": [
       "<table>\n",
       "<tr class=\"tf\">\n",
       "  <th class=\"tf\">n</th><th class=\"tf\">p</th>\n",
       "  <th class=\"tf\">word</th>\n",
       "</tr>\n",
       "\n",
       "<tr class=\"tf\"><td class=\"tf\">1</td><td class=\"tf\"> <a href=\"http://tanzil.net/#1:1\" title=\"show this passage on Tanzil\" sec=\"1:1\">1:1</a></td><td class=\"tf\"><a href=\"http://tanzil.net/#1:1\" title=\"1:1\" sec=\"1:1\"><span class=\"plain outer  rtl  hl\" ><span class=\"arb\">رَّحْمَٰنِ </span></span></a></td></tr>\n",
       "<tr class=\"tf\"><td class=\"tf\">2</td><td class=\"tf\"> <a href=\"http://tanzil.net/#1:3\" title=\"show this passage on Tanzil\" sec=\"1:3\">1:3</a></td><td class=\"tf\"><a href=\"http://tanzil.net/#1:3\" title=\"1:3\" sec=\"1:3\"><span class=\"plain outer  rtl  hl\" ><span class=\"arb\">رَّحْمَٰنِ </span></span></a></td></tr>\n",
       "<tr class=\"tf\"><td class=\"tf\">3</td><td class=\"tf\"> <a href=\"http://tanzil.net/#1:5\" title=\"show this passage on Tanzil\" sec=\"1:5\">1:5</a></td><td class=\"tf\"><a href=\"http://tanzil.net/#1:5\" title=\"1:5\" sec=\"1:5\"><span class=\"plain outer  rtl  hl\" ><span class=\"arb\">نَسْتَعِينُ</span></span></a></td></tr>\n",
       "<tr class=\"tf\"><td class=\"tf\">4</td><td class=\"tf\"> <a href=\"http://tanzil.net/#2:3\" title=\"show this passage on Tanzil\" sec=\"2:3\">2:3</a></td><td class=\"tf\"><a href=\"http://tanzil.net/#2:3\" title=\"2:3\" sec=\"2:3\"><span class=\"plain outer  rtl  hl\" ><span class=\"arb\">يُؤْمِنُ</span></span></a></td></tr>\n",
       "<tr class=\"tf\"><td class=\"tf\">5</td><td class=\"tf\"> <a href=\"http://tanzil.net/#2:3\" title=\"show this passage on Tanzil\" sec=\"2:3\">2:3</a></td><td class=\"tf\"><a href=\"http://tanzil.net/#2:3\" title=\"2:3\" sec=\"2:3\"><span class=\"plain outer  rtl  hl\" ><span class=\"arb\">يُنفِقُ</span></span></a></td></tr></table>"
      ],
      "text/plain": [
       "<IPython.core.display.HTML object>"
      ]
     },
     "metadata": {},
     "output_type": "display_data"
    }
   ],
   "source": [
    "A.table(results, start=1, end=5)"
   ]
  },
  {
   "cell_type": "code",
   "execution_count": 30,
   "metadata": {},
   "outputs": [
    {
     "name": "stdout",
     "output_type": "stream",
     "text": [
      "  0.16s 39229 results\n"
     ]
    }
   ],
   "source": [
    "results = A.search('''\n",
    "word sentiment<0\n",
    "''')"
   ]
  },
  {
   "cell_type": "code",
   "execution_count": 31,
   "metadata": {},
   "outputs": [
    {
     "data": {
      "text/html": [
       "<table>\n",
       "<tr class=\"tf\">\n",
       "  <th class=\"tf\">n</th><th class=\"tf\">p</th>\n",
       "  <th class=\"tf\">word</th>\n",
       "</tr>\n",
       "\n",
       "<tr class=\"tf\"><td class=\"tf\">1</td><td class=\"tf\"> <a href=\"http://tanzil.net/#1:1\" title=\"show this passage on Tanzil\" sec=\"1:1\">1:1</a></td><td class=\"tf\"><a href=\"http://tanzil.net/#1:1\" title=\"1:1\" sec=\"1:1\"><span class=\"plain outer  rtl  hl\" ><span class=\"arb\">سْمِ </span></span></a></td></tr>\n",
       "<tr class=\"tf\"><td class=\"tf\">2</td><td class=\"tf\"> <a href=\"http://tanzil.net/#1:1\" title=\"show this passage on Tanzil\" sec=\"1:1\">1:1</a></td><td class=\"tf\"><a href=\"http://tanzil.net/#1:1\" title=\"1:1\" sec=\"1:1\"><span class=\"plain outer  rtl  hl\" ><span class=\"arb\">ٱللَّهِ </span></span></a></td></tr>\n",
       "<tr class=\"tf\"><td class=\"tf\">3</td><td class=\"tf\"> <a href=\"http://tanzil.net/#1:1\" title=\"show this passage on Tanzil\" sec=\"1:1\">1:1</a></td><td class=\"tf\"><a href=\"http://tanzil.net/#1:1\" title=\"1:1\" sec=\"1:1\"><span class=\"plain outer  rtl  hl\" ><span class=\"arb\">رَّحِيمِ</span></span></a></td></tr>\n",
       "<tr class=\"tf\"><td class=\"tf\">4</td><td class=\"tf\"> <a href=\"http://tanzil.net/#1:2\" title=\"show this passage on Tanzil\" sec=\"1:2\">1:2</a></td><td class=\"tf\"><a href=\"http://tanzil.net/#1:2\" title=\"1:2\" sec=\"1:2\"><span class=\"plain outer  rtl  hl\" ><span class=\"arb\">حَمْدُ </span></span></a></td></tr>\n",
       "<tr class=\"tf\"><td class=\"tf\">5</td><td class=\"tf\"> <a href=\"http://tanzil.net/#1:2\" title=\"show this passage on Tanzil\" sec=\"1:2\">1:2</a></td><td class=\"tf\"><a href=\"http://tanzil.net/#1:2\" title=\"1:2\" sec=\"1:2\"><span class=\"plain outer  rtl  hl\" ><span class=\"arb\">لَّهِ </span></span></a></td></tr></table>"
      ],
      "text/plain": [
       "<IPython.core.display.HTML object>"
      ]
     },
     "metadata": {},
     "output_type": "display_data"
    }
   ],
   "source": [
    "A.table(results, start=1, end=5)"
   ]
  },
  {
   "cell_type": "markdown",
   "metadata": {},
   "source": [
    "Let's get lines with both positive and negative signs:"
   ]
  },
  {
   "cell_type": "code",
   "execution_count": 32,
   "metadata": {},
   "outputs": [
    {
     "name": "stdout",
     "output_type": "stream",
     "text": [
      "  0.38s 40238 results\n"
     ]
    }
   ],
   "source": [
    "results = A.search('''\n",
    "aya\n",
    "  word sentiment>0\n",
    "  word sentiment<0\n",
    "''')"
   ]
  },
  {
   "cell_type": "code",
   "execution_count": 33,
   "metadata": {},
   "outputs": [
    {
     "data": {
      "text/html": [
       "<table>\n",
       "<tr class=\"tf\">\n",
       "  <th class=\"tf\">n</th><th class=\"tf\">p</th>\n",
       "  <th class=\"tf\">aya</th><th>word</th><th>word</th><th>word</th><th>word</th>\n",
       "</tr>\n",
       "\n",
       "<tr class=\"tf\"><td class=\"tf\">1</td><td class=\"tf\"> <a href=\"http://tanzil.net/#1:1\" title=\"show this passage on Tanzil\" sec=\"1:1\">1:1</a></td><td class=\"tf\"><span class=\"vrs ltr\"><a href=\"http://tanzil.net/#1:1\" title=\"show this passage on Tanzil\" sec=\"1:1\">1:1</a></span><span class=\"plain outer  rtl  \" ><span class=\"plain rtl \"><span class=\"plain rtl  \" ><span class=\"plain rtl  \" ><span class=\"arb\">بِ</span></span><span class=\"plain rtl  hl\" ><span class=\"arb\">سْمِ </span></span></span><span class=\"plain rtl  \" ><span class=\"plain rtl  hl\" ><span class=\"arb\">ٱللَّهِ </span></span></span><span class=\"plain rtl  \" ><span class=\"plain rtl  \" ><span class=\"arb\">ٱل</span></span><span class=\"plain rtl  hl\" ><span class=\"arb\">رَّحْمَٰنِ </span></span></span><span class=\"plain rtl  \" ><span class=\"plain rtl  \" ><span class=\"arb\">ٱل</span></span><span class=\"plain rtl  hl\" ><span class=\"arb\">رَّحِيمِ</span></span></span></span></span></td><td class=\"tf\"><span class=\"plain outer  rtl  hl\" ><span class=\"arb\">سْمِ </span></span></td><td class=\"tf\"><span class=\"plain outer  rtl  hl\" ><span class=\"arb\">ٱللَّهِ </span></span></td><td class=\"tf\"><span class=\"plain outer  rtl  hl\" ><span class=\"arb\">رَّحْمَٰنِ </span></span></td><td class=\"tf\"><span class=\"plain outer  rtl  hl\" ><span class=\"arb\">رَّحِيمِ</span></span></td></tr>\n",
       "<tr class=\"tf\"><td class=\"tf\">2</td><td class=\"tf\"> <a href=\"http://tanzil.net/#1:3\" title=\"show this passage on Tanzil\" sec=\"1:3\">1:3</a></td><td class=\"tf\"><span class=\"vrs ltr\"><a href=\"http://tanzil.net/#1:3\" title=\"show this passage on Tanzil\" sec=\"1:3\">1:3</a></span><span class=\"plain outer  rtl  \" ><span class=\"plain rtl \"><span class=\"plain rtl  \" ><span class=\"plain rtl  \" ><span class=\"arb\">ٱل</span></span><span class=\"plain rtl  hl\" ><span class=\"arb\">رَّحْمَٰنِ </span></span></span><span class=\"plain rtl  \" ><span class=\"plain rtl  \" ><span class=\"arb\">ٱل</span></span><span class=\"plain rtl  hl\" ><span class=\"arb\">رَّحِيمِ</span></span></span></span></span></td><td class=\"tf\"><span class=\"plain outer  rtl  hl\" ><span class=\"arb\">رَّحْمَٰنِ </span></span></td><td class=\"tf\"><span class=\"plain outer  rtl  hl\" ><span class=\"arb\">رَّحِيمِ</span></span></td></tr></table>"
      ],
      "text/plain": [
       "<IPython.core.display.HTML object>"
      ]
     },
     "metadata": {},
     "output_type": "display_data"
    }
   ],
   "source": [
    "A.table(results, start=1, end=2, condensed=True)"
   ]
  },
  {
   "cell_type": "markdown",
   "metadata": {},
   "source": [
    "With highlights:"
   ]
  },
  {
   "cell_type": "code",
   "execution_count": 34,
   "metadata": {},
   "outputs": [],
   "source": [
    "highlights = {}\n",
    "\n",
    "for w in F.otype.s('word'):\n",
    "  sent = F.sentiment.v(w)\n",
    "  if sent:\n",
    "    color = 'lightsalmon' if sent < 0 else 'mediumaquamarine'\n",
    "    highlights[w] = color"
   ]
  },
  {
   "cell_type": "code",
   "execution_count": 35,
   "metadata": {},
   "outputs": [
    {
     "data": {
      "text/html": [
       "<table>\n",
       "<tr class=\"tf\">\n",
       "  <th class=\"tf\">n</th><th class=\"tf\">p</th>\n",
       "  <th class=\"tf\">aya</th><th>word</th><th>word</th><th>word</th><th>word</th>\n",
       "</tr>\n",
       "\n",
       "<tr class=\"tf\"><td class=\"tf\">1</td><td class=\"tf\"> <a href=\"http://tanzil.net/#1:1\" title=\"show this passage on Tanzil\" sec=\"1:1\">1:1</a></td><td class=\"tf\"><span class=\"vrs ltr\"><a href=\"http://tanzil.net/#1:1\" title=\"show this passage on Tanzil\" sec=\"1:1\">1:1</a></span><span class=\"plain outer  rtl  \" ><span class=\"plain rtl \"><span class=\"plain rtl  \" ><span class=\"plain rtl  \" ><span class=\"arb\">بِ</span></span><span class=\"plain rtl  hl\"  style=\"background-color: lightsalmon;\" ><span class=\"arb\">سْمِ </span></span></span><span class=\"plain rtl  \" ><span class=\"plain rtl  hl\"  style=\"background-color: lightsalmon;\" ><span class=\"arb\">ٱللَّهِ </span></span></span><span class=\"plain rtl  \" ><span class=\"plain rtl  \" ><span class=\"arb\">ٱل</span></span><span class=\"plain rtl  hl\"  style=\"background-color: mediumaquamarine;\" ><span class=\"arb\">رَّحْمَٰنِ </span></span></span><span class=\"plain rtl  \" ><span class=\"plain rtl  \" ><span class=\"arb\">ٱل</span></span><span class=\"plain rtl  hl\"  style=\"background-color: lightsalmon;\" ><span class=\"arb\">رَّحِيمِ</span></span></span></span></span></td><td class=\"tf\"><span class=\"plain outer  rtl  hl\"  style=\"background-color: lightsalmon;\" ><span class=\"arb\">سْمِ </span></span></td><td class=\"tf\"><span class=\"plain outer  rtl  hl\"  style=\"background-color: lightsalmon;\" ><span class=\"arb\">ٱللَّهِ </span></span></td><td class=\"tf\"><span class=\"plain outer  rtl  hl\"  style=\"background-color: mediumaquamarine;\" ><span class=\"arb\">رَّحْمَٰنِ </span></span></td><td class=\"tf\"><span class=\"plain outer  rtl  hl\"  style=\"background-color: lightsalmon;\" ><span class=\"arb\">رَّحِيمِ</span></span></td></tr>\n",
       "<tr class=\"tf\"><td class=\"tf\">2</td><td class=\"tf\"> <a href=\"http://tanzil.net/#1:3\" title=\"show this passage on Tanzil\" sec=\"1:3\">1:3</a></td><td class=\"tf\"><span class=\"vrs ltr\"><a href=\"http://tanzil.net/#1:3\" title=\"show this passage on Tanzil\" sec=\"1:3\">1:3</a></span><span class=\"plain outer  rtl  \" ><span class=\"plain rtl \"><span class=\"plain rtl  \" ><span class=\"plain rtl  \" ><span class=\"arb\">ٱل</span></span><span class=\"plain rtl  hl\"  style=\"background-color: mediumaquamarine;\" ><span class=\"arb\">رَّحْمَٰنِ </span></span></span><span class=\"plain rtl  \" ><span class=\"plain rtl  \" ><span class=\"arb\">ٱل</span></span><span class=\"plain rtl  hl\"  style=\"background-color: lightsalmon;\" ><span class=\"arb\">رَّحِيمِ</span></span></span></span></span></td><td class=\"tf\"><span class=\"plain outer  rtl  hl\"  style=\"background-color: mediumaquamarine;\" ><span class=\"arb\">رَّحْمَٰنِ </span></span></td><td class=\"tf\"><span class=\"plain outer  rtl  hl\"  style=\"background-color: lightsalmon;\" ><span class=\"arb\">رَّحِيمِ</span></span></td></tr>\n",
       "<tr class=\"tf\"><td class=\"tf\">3</td><td class=\"tf\"> <a href=\"http://tanzil.net/#1:5\" title=\"show this passage on Tanzil\" sec=\"1:5\">1:5</a></td><td class=\"tf\"><span class=\"vrs ltr\"><a href=\"http://tanzil.net/#1:5\" title=\"show this passage on Tanzil\" sec=\"1:5\">1:5</a></span><span class=\"plain outer  rtl  \" ><span class=\"plain rtl \"><span class=\"plain rtl  \" ><span class=\"plain rtl  \" ><span class=\"arb\">إِيَّاكَ </span></span></span><span class=\"plain rtl  \" ><span class=\"plain rtl  hl\"  style=\"background-color: lightsalmon;\" ><span class=\"arb\">نَعْبُدُ </span></span></span><span class=\"plain rtl  \" ><span class=\"plain rtl  \" ><span class=\"arb\">وَ</span></span><span class=\"plain rtl  \" ><span class=\"arb\">إِيَّاكَ </span></span></span><span class=\"plain rtl  \" ><span class=\"plain rtl  hl\"  style=\"background-color: mediumaquamarine;\" ><span class=\"arb\">نَسْتَعِينُ</span></span></span></span></span></td><td class=\"tf\"><span class=\"plain outer  rtl  hl\"  style=\"background-color: lightsalmon;\" ><span class=\"arb\">نَعْبُدُ </span></span></td><td class=\"tf\"><span class=\"plain outer  rtl  hl\"  style=\"background-color: mediumaquamarine;\" ><span class=\"arb\">نَسْتَعِينُ</span></span></td></tr>\n",
       "<tr class=\"tf\"><td class=\"tf\">4</td><td class=\"tf\"> <a href=\"http://tanzil.net/#2:3\" title=\"show this passage on Tanzil\" sec=\"2:3\">2:3</a></td><td class=\"tf\"><span class=\"vrs ltr\"><a href=\"http://tanzil.net/#2:3\" title=\"show this passage on Tanzil\" sec=\"2:3\">2:3</a></span><span class=\"plain outer  rtl  \" ><span class=\"plain rtl \"><span class=\"plain rtl  \" ><span class=\"plain rtl  \" ><span class=\"arb\">ٱلَّذِينَ </span></span></span><span class=\"plain rtl  \" ><span class=\"plain rtl  hl\"  style=\"background-color: mediumaquamarine;\" ><span class=\"arb\">يُؤْمِنُ</span></span><span class=\"plain rtl  \" ><span class=\"arb\">ونَ </span></span></span><span class=\"plain rtl  \" ><span class=\"plain rtl  \" ><span class=\"arb\">بِ</span></span><span class=\"plain rtl  \" ><span class=\"arb\">ٱلْ</span></span><span class=\"plain rtl  hl\"  style=\"background-color: lightsalmon;\" ><span class=\"arb\">غَيْبِ </span></span></span><span class=\"plain rtl  \" ><span class=\"plain rtl  \" ><span class=\"arb\">وَ</span></span><span class=\"plain rtl  hl\"  style=\"background-color: lightsalmon;\" ><span class=\"arb\">يُقِيمُ</span></span><span class=\"plain rtl  \" ><span class=\"arb\">ونَ </span></span></span><span class=\"plain rtl  \" ><span class=\"plain rtl  \" ><span class=\"arb\">ٱل</span></span><span class=\"plain rtl  hl\"  style=\"background-color: lightsalmon;\" ><span class=\"arb\">صَّلَوٰةَ </span></span></span><span class=\"plain rtl  \" ><span class=\"plain rtl  \" ><span class=\"arb\">وَ</span></span><span class=\"plain rtl  \" ><span class=\"arb\">مِ</span></span><span class=\"plain rtl  \" ><span class=\"arb\">مَّا </span></span></span><span class=\"plain rtl  \" ><span class=\"plain rtl  hl\"  style=\"background-color: lightsalmon;\" ><span class=\"arb\">رَزَقْ</span></span><span class=\"plain rtl  \" ><span class=\"arb\">نَٰ</span></span><span class=\"plain rtl  \" ><span class=\"arb\">هُمْ </span></span></span><span class=\"plain rtl  \" ><span class=\"plain rtl  hl\"  style=\"background-color: mediumaquamarine;\" ><span class=\"arb\">يُنفِقُ</span></span><span class=\"plain rtl  \" ><span class=\"arb\">ونَ</span></span></span></span></span></td><td class=\"tf\"><span class=\"plain outer  rtl  hl\"  style=\"background-color: lightsalmon;\" ><span class=\"arb\">غَيْبِ </span></span></td><td class=\"tf\"><span class=\"plain outer  rtl  hl\"  style=\"background-color: lightsalmon;\" ><span class=\"arb\">يُقِيمُ</span></span></td><td class=\"tf\"><span class=\"plain outer  rtl  hl\"  style=\"background-color: lightsalmon;\" ><span class=\"arb\">صَّلَوٰةَ </span></span></td><td class=\"tf\"><span class=\"plain outer  rtl  hl\"  style=\"background-color: lightsalmon;\" ><span class=\"arb\">رَزَقْ</span></span></td><td class=\"tf\"><span class=\"plain outer  rtl  hl\"  style=\"background-color: mediumaquamarine;\" ><span class=\"arb\">يُنفِقُ</span></span></td><td class=\"tf\"><span class=\"plain outer  rtl  hl\"  style=\"background-color: mediumaquamarine;\" ><span class=\"arb\">يُؤْمِنُ</span></span></td></tr>\n",
       "<tr class=\"tf\"><td class=\"tf\">5</td><td class=\"tf\"> <a href=\"http://tanzil.net/#2:4\" title=\"show this passage on Tanzil\" sec=\"2:4\">2:4</a></td><td class=\"tf\"><span class=\"vrs ltr\"><a href=\"http://tanzil.net/#2:4\" title=\"show this passage on Tanzil\" sec=\"2:4\">2:4</a></span><span class=\"plain outer  rtl  \" ><span class=\"plain rtl \"><span class=\"plain rtl  \" ><span class=\"plain rtl  \" ><span class=\"arb\">وَ</span></span><span class=\"plain rtl  \" ><span class=\"arb\">ٱلَّذِينَ </span></span></span><span class=\"plain rtl  \" ><span class=\"plain rtl  hl\"  style=\"background-color: mediumaquamarine;\" ><span class=\"arb\">يُؤْمِنُ</span></span><span class=\"plain rtl  \" ><span class=\"arb\">ونَ </span></span></span><span class=\"plain rtl  \" ><span class=\"plain rtl  \" ><span class=\"arb\">بِ</span></span><span class=\"plain rtl  \" ><span class=\"arb\">مَآ </span></span></span><span class=\"plain rtl  \" ><span class=\"plain rtl  hl\"  style=\"background-color: lightsalmon;\" ><span class=\"arb\">أُنزِلَ </span></span></span><span class=\"plain rtl  \" ><span class=\"plain rtl  \" ><span class=\"arb\">إِلَيْ</span></span><span class=\"plain rtl  \" ><span class=\"arb\">كَ </span></span></span><span class=\"plain rtl  \" ><span class=\"plain rtl  \" ><span class=\"arb\">وَ</span></span><span class=\"plain rtl  \" ><span class=\"arb\">مَآ </span></span></span><span class=\"plain rtl  \" ><span class=\"plain rtl  hl\"  style=\"background-color: lightsalmon;\" ><span class=\"arb\">أُنزِلَ </span></span></span><span class=\"plain rtl  \" ><span class=\"plain rtl  \" ><span class=\"arb\">مِن </span></span></span><span class=\"plain rtl  \" ><span class=\"plain rtl  hl\"  style=\"background-color: lightsalmon;\" ><span class=\"arb\">قَبْلِ</span></span><span class=\"plain rtl  \" ><span class=\"arb\">كَ </span></span></span><span class=\"plain rtl  \" ><span class=\"plain rtl  \" ><span class=\"arb\">وَ</span></span><span class=\"plain rtl  \" ><span class=\"arb\">بِ</span></span><span class=\"plain rtl  \" ><span class=\"arb\">ٱلْ</span></span><span class=\"plain rtl  hl\"  style=\"background-color: lightsalmon;\" ><span class=\"arb\">ءَاخِرَةِ </span></span></span><span class=\"plain rtl  \" ><span class=\"plain rtl  \" ><span class=\"arb\">هُمْ </span></span></span><span class=\"plain rtl  \" ><span class=\"plain rtl  hl\"  style=\"background-color: lightsalmon;\" ><span class=\"arb\">يُوقِنُ</span></span><span class=\"plain rtl  \" ><span class=\"arb\">ونَ</span></span></span></span></span></td><td class=\"tf\"><span class=\"plain outer  rtl  hl\"  style=\"background-color: lightsalmon;\" ><span class=\"arb\">ءَاخِرَةِ </span></span></td><td class=\"tf\"><span class=\"plain outer  rtl  hl\"  style=\"background-color: lightsalmon;\" ><span class=\"arb\">يُوقِنُ</span></span></td><td class=\"tf\"><span class=\"plain outer  rtl  hl\"  style=\"background-color: mediumaquamarine;\" ><span class=\"arb\">يُؤْمِنُ</span></span></td><td class=\"tf\"><span class=\"plain outer  rtl  hl\"  style=\"background-color: lightsalmon;\" ><span class=\"arb\">أُنزِلَ </span></span></td><td class=\"tf\"><span class=\"plain outer  rtl  hl\"  style=\"background-color: lightsalmon;\" ><span class=\"arb\">أُنزِلَ </span></span></td><td class=\"tf\"><span class=\"plain outer  rtl  hl\"  style=\"background-color: lightsalmon;\" ><span class=\"arb\">قَبْلِ</span></span></td></tr>\n",
       "<tr class=\"tf\"><td class=\"tf\">6</td><td class=\"tf\"> <a href=\"http://tanzil.net/#2:6\" title=\"show this passage on Tanzil\" sec=\"2:6\">2:6</a></td><td class=\"tf\"><span class=\"vrs ltr\"><a href=\"http://tanzil.net/#2:6\" title=\"show this passage on Tanzil\" sec=\"2:6\">2:6</a></span><span class=\"plain outer  rtl  \" ><span class=\"plain rtl \"><span class=\"plain rtl  \" ><span class=\"plain rtl  \" ><span class=\"arb\">إِنَّ </span></span></span><span class=\"plain rtl  \" ><span class=\"plain rtl  \" ><span class=\"arb\">ٱلَّذِينَ </span></span></span><span class=\"plain rtl  \" ><span class=\"plain rtl  hl\"  style=\"background-color: lightsalmon;\" ><span class=\"arb\">كَفَرُ</span></span><span class=\"plain rtl  \" ><span class=\"arb\">وا۟ </span></span></span><span class=\"plain rtl  \" ><span class=\"plain rtl  hl\"  style=\"background-color: lightsalmon;\" ><span class=\"arb\">سَوَآءٌ </span></span></span><span class=\"plain rtl  \" ><span class=\"plain rtl  \" ><span class=\"arb\">عَلَيْ</span></span><span class=\"plain rtl  \" ><span class=\"arb\">هِمْ </span></span></span><span class=\"plain rtl  \" ><span class=\"plain rtl  \" ><span class=\"arb\">ءَ</span></span><span class=\"plain rtl  hl\"  style=\"background-color: lightsalmon;\" ><span class=\"arb\">أَنذَرْ</span></span><span class=\"plain rtl  \" ><span class=\"arb\">تَ</span></span><span class=\"plain rtl  \" ><span class=\"arb\">هُمْ </span></span></span><span class=\"plain rtl  \" ><span class=\"plain rtl  \" ><span class=\"arb\">أَمْ </span></span></span><span class=\"plain rtl  \" ><span class=\"plain rtl  \" ><span class=\"arb\">لَمْ </span></span></span><span class=\"plain rtl  \" ><span class=\"plain rtl  hl\"  style=\"background-color: lightsalmon;\" ><span class=\"arb\">تُنذِرْ</span></span><span class=\"plain rtl  \" ><span class=\"arb\">هُمْ </span></span></span><span class=\"plain rtl  \" ><span class=\"plain rtl  \" ><span class=\"arb\">لَا </span></span></span><span class=\"plain rtl  \" ><span class=\"plain rtl  hl\"  style=\"background-color: mediumaquamarine;\" ><span class=\"arb\">يُؤْمِنُ</span></span><span class=\"plain rtl  \" ><span class=\"arb\">ونَ</span></span></span></span></span></td><td class=\"tf\"><span class=\"plain outer  rtl  hl\"  style=\"background-color: mediumaquamarine;\" ><span class=\"arb\">يُؤْمِنُ</span></span></td><td class=\"tf\"><span class=\"plain outer  rtl  hl\"  style=\"background-color: lightsalmon;\" ><span class=\"arb\">كَفَرُ</span></span></td><td class=\"tf\"><span class=\"plain outer  rtl  hl\"  style=\"background-color: lightsalmon;\" ><span class=\"arb\">سَوَآءٌ </span></span></td><td class=\"tf\"><span class=\"plain outer  rtl  hl\"  style=\"background-color: lightsalmon;\" ><span class=\"arb\">أَنذَرْ</span></span></td><td class=\"tf\"><span class=\"plain outer  rtl  hl\"  style=\"background-color: lightsalmon;\" ><span class=\"arb\">تُنذِرْ</span></span></td></tr>\n",
       "<tr class=\"tf\"><td class=\"tf\">7</td><td class=\"tf\"> <a href=\"http://tanzil.net/#2:8\" title=\"show this passage on Tanzil\" sec=\"2:8\">2:8</a></td><td class=\"tf\"><span class=\"vrs ltr\"><a href=\"http://tanzil.net/#2:8\" title=\"show this passage on Tanzil\" sec=\"2:8\">2:8</a></span><span class=\"plain outer  rtl  \" ><span class=\"plain rtl \"><span class=\"plain rtl  \" ><span class=\"plain rtl  \" ><span class=\"arb\">وَ</span></span><span class=\"plain rtl  \" ><span class=\"arb\">مِنَ </span></span></span><span class=\"plain rtl  \" ><span class=\"plain rtl  \" ><span class=\"arb\">ٱل</span></span><span class=\"plain rtl  hl\"  style=\"background-color: mediumaquamarine;\" ><span class=\"arb\">نَّاسِ </span></span></span><span class=\"plain rtl  \" ><span class=\"plain rtl  \" ><span class=\"arb\">مَن </span></span></span><span class=\"plain rtl  \" ><span class=\"plain rtl  hl\"  style=\"background-color: lightsalmon;\" ><span class=\"arb\">يَقُولُ </span></span></span><span class=\"plain rtl  \" ><span class=\"plain rtl  hl\"  style=\"background-color: mediumaquamarine;\" ><span class=\"arb\">ءَامَ</span></span><span class=\"plain rtl  \" ><span class=\"arb\">نَّا </span></span></span><span class=\"plain rtl  \" ><span class=\"plain rtl  \" ><span class=\"arb\">بِ</span></span><span class=\"plain rtl  hl\"  style=\"background-color: lightsalmon;\" ><span class=\"arb\">ٱللَّهِ </span></span></span><span class=\"plain rtl  \" ><span class=\"plain rtl  \" ><span class=\"arb\">وَ</span></span><span class=\"plain rtl  \" ><span class=\"arb\">بِ</span></span><span class=\"plain rtl  \" ><span class=\"arb\">ٱلْ</span></span><span class=\"plain rtl  hl\"  style=\"background-color: lightsalmon;\" ><span class=\"arb\">يَوْمِ </span></span></span><span class=\"plain rtl  \" ><span class=\"plain rtl  \" ><span class=\"arb\">ٱلْ</span></span><span class=\"plain rtl  hl\"  style=\"background-color: lightsalmon;\" ><span class=\"arb\">ءَاخِرِ </span></span></span><span class=\"plain rtl  \" ><span class=\"plain rtl  \" ><span class=\"arb\">وَ</span></span><span class=\"plain rtl  \" ><span class=\"arb\">مَا </span></span></span><span class=\"plain rtl  \" ><span class=\"plain rtl  \" ><span class=\"arb\">هُم </span></span></span><span class=\"plain rtl  \" ><span class=\"plain rtl  \" ><span class=\"arb\">بِ</span></span><span class=\"plain rtl  hl\"  style=\"background-color: lightsalmon;\" ><span class=\"arb\">مُؤْمِنِينَ</span></span></span></span></span></td><td class=\"tf\"><span class=\"plain outer  rtl  hl\"  style=\"background-color: lightsalmon;\" ><span class=\"arb\">يَوْمِ </span></span></td><td class=\"tf\"><span class=\"plain outer  rtl  hl\"  style=\"background-color: lightsalmon;\" ><span class=\"arb\">ءَاخِرِ </span></span></td><td class=\"tf\"><span class=\"plain outer  rtl  hl\"  style=\"background-color: lightsalmon;\" ><span class=\"arb\">مُؤْمِنِينَ</span></span></td><td class=\"tf\"><span class=\"plain outer  rtl  hl\"  style=\"background-color: mediumaquamarine;\" ><span class=\"arb\">نَّاسِ </span></span></td><td class=\"tf\"><span class=\"plain outer  rtl  hl\"  style=\"background-color: lightsalmon;\" ><span class=\"arb\">يَقُولُ </span></span></td><td class=\"tf\"><span class=\"plain outer  rtl  hl\"  style=\"background-color: mediumaquamarine;\" ><span class=\"arb\">ءَامَ</span></span></td><td class=\"tf\"><span class=\"plain outer  rtl  hl\"  style=\"background-color: lightsalmon;\" ><span class=\"arb\">ٱللَّهِ </span></span></td></tr>\n",
       "<tr class=\"tf\"><td class=\"tf\">8</td><td class=\"tf\"> <a href=\"http://tanzil.net/#2:9\" title=\"show this passage on Tanzil\" sec=\"2:9\">2:9</a></td><td class=\"tf\"><span class=\"vrs ltr\"><a href=\"http://tanzil.net/#2:9\" title=\"show this passage on Tanzil\" sec=\"2:9\">2:9</a></span><span class=\"plain outer  rtl  \" ><span class=\"plain rtl \"><span class=\"plain rtl  \" ><span class=\"plain rtl  \" ><span class=\"arb\">يُخَٰدِعُ</span></span><span class=\"plain rtl  \" ><span class=\"arb\">ونَ </span></span></span><span class=\"plain rtl  \" ><span class=\"plain rtl  hl\"  style=\"background-color: lightsalmon;\" ><span class=\"arb\">ٱللَّهَ </span></span></span><span class=\"plain rtl  \" ><span class=\"plain rtl  \" ><span class=\"arb\">وَ</span></span><span class=\"plain rtl  \" ><span class=\"arb\">ٱلَّذِينَ </span></span></span><span class=\"plain rtl  \" ><span class=\"plain rtl  hl\"  style=\"background-color: mediumaquamarine;\" ><span class=\"arb\">ءَامَنُ</span></span><span class=\"plain rtl  \" ><span class=\"arb\">وا۟ </span></span></span><span class=\"plain rtl  \" ><span class=\"plain rtl  \" ><span class=\"arb\">وَ</span></span><span class=\"plain rtl  \" ><span class=\"arb\">مَا </span></span></span><span class=\"plain rtl  \" ><span class=\"plain rtl  \" ><span class=\"arb\">يَخْدَعُ</span></span><span class=\"plain rtl  \" ><span class=\"arb\">ونَ </span></span></span><span class=\"plain rtl  \" ><span class=\"plain rtl  \" ><span class=\"arb\">إِلَّآ </span></span></span><span class=\"plain rtl  \" ><span class=\"plain rtl  hl\"  style=\"background-color: lightsalmon;\" ><span class=\"arb\">أَنفُسَ</span></span><span class=\"plain rtl  \" ><span class=\"arb\">هُمْ </span></span></span><span class=\"plain rtl  \" ><span class=\"plain rtl  \" ><span class=\"arb\">وَ</span></span><span class=\"plain rtl  \" ><span class=\"arb\">مَا </span></span></span><span class=\"plain rtl  \" ><span class=\"plain rtl  hl\"  style=\"background-color: lightsalmon;\" ><span class=\"arb\">يَشْعُرُ</span></span><span class=\"plain rtl  \" ><span class=\"arb\">ونَ</span></span></span></span></span></td><td class=\"tf\"><span class=\"plain outer  rtl  hl\"  style=\"background-color: mediumaquamarine;\" ><span class=\"arb\">ءَامَنُ</span></span></td><td class=\"tf\"><span class=\"plain outer  rtl  hl\"  style=\"background-color: lightsalmon;\" ><span class=\"arb\">يَشْعُرُ</span></span></td><td class=\"tf\"><span class=\"plain outer  rtl  hl\"  style=\"background-color: lightsalmon;\" ><span class=\"arb\">ٱللَّهَ </span></span></td><td class=\"tf\"><span class=\"plain outer  rtl  hl\"  style=\"background-color: lightsalmon;\" ><span class=\"arb\">أَنفُسَ</span></span></td></tr>\n",
       "<tr class=\"tf\"><td class=\"tf\">9</td><td class=\"tf\"> <a href=\"http://tanzil.net/#2:10\" title=\"show this passage on Tanzil\" sec=\"2:10\">2:10</a></td><td class=\"tf\"><span class=\"vrs ltr\"><a href=\"http://tanzil.net/#2:10\" title=\"show this passage on Tanzil\" sec=\"2:10\">2:10</a></span><span class=\"plain outer  rtl  \" ><span class=\"plain rtl \"><span class=\"plain rtl  \" ><span class=\"plain rtl  \" ><span class=\"arb\">فِى </span></span></span><span class=\"plain rtl  \" ><span class=\"plain rtl  hl\"  style=\"background-color: lightsalmon;\" ><span class=\"arb\">قُلُوبِ</span></span><span class=\"plain rtl  \" ><span class=\"arb\">هِم </span></span></span><span class=\"plain rtl  \" ><span class=\"plain rtl  hl\"  style=\"background-color: lightsalmon;\" ><span class=\"arb\">مَّرَضٌ </span></span></span><span class=\"plain rtl  \" ><span class=\"plain rtl  \" ><span class=\"arb\">فَ</span></span><span class=\"plain rtl  hl\"  style=\"background-color: lightsalmon;\" ><span class=\"arb\">زَادَ</span></span><span class=\"plain rtl  \" ><span class=\"arb\">هُمُ </span></span></span><span class=\"plain rtl  \" ><span class=\"plain rtl  hl\"  style=\"background-color: lightsalmon;\" ><span class=\"arb\">ٱللَّهُ </span></span></span><span class=\"plain rtl  \" ><span class=\"plain rtl  hl\"  style=\"background-color: lightsalmon;\" ><span class=\"arb\">مَرَضًا </span></span></span><span class=\"plain rtl  \" ><span class=\"plain rtl  \" ><span class=\"arb\">وَ</span></span><span class=\"plain rtl  \" ><span class=\"arb\">لَ</span></span><span class=\"plain rtl  \" ><span class=\"arb\">هُمْ </span></span></span><span class=\"plain rtl  \" ><span class=\"plain rtl  hl\"  style=\"background-color: lightsalmon;\" ><span class=\"arb\">عَذَابٌ </span></span></span><span class=\"plain rtl  \" ><span class=\"plain rtl  hl\"  style=\"background-color: mediumaquamarine;\" ><span class=\"arb\">أَلِيمٌۢ </span></span></span><span class=\"plain rtl  \" ><span class=\"plain rtl  \" ><span class=\"arb\">بِ</span></span><span class=\"plain rtl  \" ><span class=\"arb\">مَا </span></span></span><span class=\"plain rtl  \" ><span class=\"plain rtl  hl\"  style=\"background-color: lightsalmon;\" ><span class=\"arb\">كَانُ</span></span><span class=\"plain rtl  \" ><span class=\"arb\">وا۟ </span></span></span><span class=\"plain rtl  \" ><span class=\"plain rtl  hl\"  style=\"background-color: lightsalmon;\" ><span class=\"arb\">يَكْذِبُ</span></span><span class=\"plain rtl  \" ><span class=\"arb\">ونَ</span></span></span></span></span></td><td class=\"tf\"><span class=\"plain outer  rtl  hl\"  style=\"background-color: lightsalmon;\" ><span class=\"arb\">مَّرَضٌ </span></span></td><td class=\"tf\"><span class=\"plain outer  rtl  hl\"  style=\"background-color: lightsalmon;\" ><span class=\"arb\">زَادَ</span></span></td><td class=\"tf\"><span class=\"plain outer  rtl  hl\"  style=\"background-color: lightsalmon;\" ><span class=\"arb\">ٱللَّهُ </span></span></td><td class=\"tf\"><span class=\"plain outer  rtl  hl\"  style=\"background-color: lightsalmon;\" ><span class=\"arb\">مَرَضًا </span></span></td><td class=\"tf\"><span class=\"plain outer  rtl  hl\"  style=\"background-color: lightsalmon;\" ><span class=\"arb\">عَذَابٌ </span></span></td><td class=\"tf\"><span class=\"plain outer  rtl  hl\"  style=\"background-color: mediumaquamarine;\" ><span class=\"arb\">أَلِيمٌۢ </span></span></td><td class=\"tf\"><span class=\"plain outer  rtl  hl\"  style=\"background-color: lightsalmon;\" ><span class=\"arb\">كَانُ</span></span></td><td class=\"tf\"><span class=\"plain outer  rtl  hl\"  style=\"background-color: lightsalmon;\" ><span class=\"arb\">يَكْذِبُ</span></span></td><td class=\"tf\"><span class=\"plain outer  rtl  hl\"  style=\"background-color: lightsalmon;\" ><span class=\"arb\">قُلُوبِ</span></span></td></tr>\n",
       "<tr class=\"tf\"><td class=\"tf\">10</td><td class=\"tf\"> <a href=\"http://tanzil.net/#2:13\" title=\"show this passage on Tanzil\" sec=\"2:13\">2:13</a></td><td class=\"tf\"><span class=\"vrs ltr\"><a href=\"http://tanzil.net/#2:13\" title=\"show this passage on Tanzil\" sec=\"2:13\">2:13</a></span><span class=\"plain outer  rtl  \" ><span class=\"plain rtl \"><span class=\"plain rtl  \" ><span class=\"plain rtl  \" ><span class=\"arb\">وَ</span></span><span class=\"plain rtl  \" ><span class=\"arb\">إِذَا </span></span></span><span class=\"plain rtl  \" ><span class=\"plain rtl  hl\"  style=\"background-color: lightsalmon;\" ><span class=\"arb\">قِيلَ </span></span></span><span class=\"plain rtl  \" ><span class=\"plain rtl  \" ><span class=\"arb\">لَ</span></span><span class=\"plain rtl  \" ><span class=\"arb\">هُمْ </span></span></span><span class=\"plain rtl  \" ><span class=\"plain rtl  hl\"  style=\"background-color: mediumaquamarine;\" ><span class=\"arb\">ءَامِنُ</span></span><span class=\"plain rtl  \" ><span class=\"arb\">وا۟ </span></span></span><span class=\"plain rtl  \" ><span class=\"plain rtl  \" ><span class=\"arb\">كَ</span></span><span class=\"plain rtl  \" ><span class=\"arb\">مَآ </span></span></span><span class=\"plain rtl  \" ><span class=\"plain rtl  hl\"  style=\"background-color: mediumaquamarine;\" ><span class=\"arb\">ءَامَنَ </span></span></span><span class=\"plain rtl  \" ><span class=\"plain rtl  \" ><span class=\"arb\">ٱل</span></span><span class=\"plain rtl  hl\"  style=\"background-color: mediumaquamarine;\" ><span class=\"arb\">نَّاسُ </span></span></span><span class=\"plain rtl  \" ><span class=\"plain rtl  hl\"  style=\"background-color: lightsalmon;\" ><span class=\"arb\">قَالُ</span></span><span class=\"plain rtl  \" ><span class=\"arb\">وٓا۟ </span></span></span><span class=\"plain rtl  \" ><span class=\"plain rtl  \" ><span class=\"arb\">أَ</span></span><span class=\"plain rtl  hl\"  style=\"background-color: mediumaquamarine;\" ><span class=\"arb\">نُؤْمِنُ </span></span></span><span class=\"plain rtl  \" ><span class=\"plain rtl  \" ><span class=\"arb\">كَ</span></span><span class=\"plain rtl  \" ><span class=\"arb\">مَآ </span></span></span><span class=\"plain rtl  \" ><span class=\"plain rtl  hl\"  style=\"background-color: mediumaquamarine;\" ><span class=\"arb\">ءَامَنَ </span></span></span><span class=\"plain rtl  \" ><span class=\"plain rtl  \" ><span class=\"arb\">ٱل</span></span><span class=\"plain rtl  hl\"  style=\"background-color: mediumaquamarine;\" ><span class=\"arb\">سُّفَهَآءُ </span></span></span><span class=\"plain rtl  \" ><span class=\"plain rtl  \" ><span class=\"arb\">أَلَآ </span></span></span><span class=\"plain rtl  \" ><span class=\"plain rtl  \" ><span class=\"arb\">إِنَّ</span></span><span class=\"plain rtl  \" ><span class=\"arb\">هُمْ </span></span></span><span class=\"plain rtl  \" ><span class=\"plain rtl  \" ><span class=\"arb\">هُمُ </span></span></span><span class=\"plain rtl  \" ><span class=\"plain rtl  \" ><span class=\"arb\">ٱل</span></span><span class=\"plain rtl  hl\"  style=\"background-color: mediumaquamarine;\" ><span class=\"arb\">سُّفَهَآءُ </span></span></span><span class=\"plain rtl  \" ><span class=\"plain rtl  \" ><span class=\"arb\">وَ</span></span><span class=\"plain rtl  \" ><span class=\"arb\">لَٰكِن </span></span></span><span class=\"plain rtl  \" ><span class=\"plain rtl  \" ><span class=\"arb\">لَّا </span></span></span><span class=\"plain rtl  \" ><span class=\"plain rtl  hl\"  style=\"background-color: lightsalmon;\" ><span class=\"arb\">يَعْلَمُ</span></span><span class=\"plain rtl  \" ><span class=\"arb\">ونَ</span></span></span></span></span></td><td class=\"tf\"><span class=\"plain outer  rtl  hl\"  style=\"background-color: mediumaquamarine;\" ><span class=\"arb\">سُّفَهَآءُ </span></span></td><td class=\"tf\"><span class=\"plain outer  rtl  hl\"  style=\"background-color: mediumaquamarine;\" ><span class=\"arb\">سُّفَهَآءُ </span></span></td><td class=\"tf\"><span class=\"plain outer  rtl  hl\"  style=\"background-color: lightsalmon;\" ><span class=\"arb\">يَعْلَمُ</span></span></td><td class=\"tf\"><span class=\"plain outer  rtl  hl\"  style=\"background-color: lightsalmon;\" ><span class=\"arb\">قِيلَ </span></span></td><td class=\"tf\"><span class=\"plain outer  rtl  hl\"  style=\"background-color: mediumaquamarine;\" ><span class=\"arb\">ءَامِنُ</span></span></td><td class=\"tf\"><span class=\"plain outer  rtl  hl\"  style=\"background-color: mediumaquamarine;\" ><span class=\"arb\">ءَامَنَ </span></span></td><td class=\"tf\"><span class=\"plain outer  rtl  hl\"  style=\"background-color: mediumaquamarine;\" ><span class=\"arb\">نَّاسُ </span></span></td><td class=\"tf\"><span class=\"plain outer  rtl  hl\"  style=\"background-color: lightsalmon;\" ><span class=\"arb\">قَالُ</span></span></td><td class=\"tf\"><span class=\"plain outer  rtl  hl\"  style=\"background-color: mediumaquamarine;\" ><span class=\"arb\">نُؤْمِنُ </span></span></td><td class=\"tf\"><span class=\"plain outer  rtl  hl\"  style=\"background-color: mediumaquamarine;\" ><span class=\"arb\">ءَامَنَ </span></span></td></tr></table>"
      ],
      "text/plain": [
       "<IPython.core.display.HTML object>"
      ]
     },
     "metadata": {},
     "output_type": "display_data"
    }
   ],
   "source": [
    "A.table(results, start=1, end=10, condensed=True, highlights=highlights)"
   ]
  },
  {
   "cell_type": "markdown",
   "metadata": {},
   "source": [
    "If we do a pretty display, the `sentiment` feature shows up."
   ]
  },
  {
   "cell_type": "code",
   "execution_count": 36,
   "metadata": {},
   "outputs": [
    {
     "data": {
      "text/html": [
       "<p><b>aya</b> <i>1</i></p>"
      ],
      "text/plain": [
       "<IPython.core.display.HTML object>"
      ]
     },
     "metadata": {},
     "output_type": "display_data"
    },
    {
     "data": {
      "text/html": [
       "<div class=\"outeritem\"><div class=\"aya   rtl \" >\n",
       "    <div class=\"vl\">\n",
       "        <div class=\"vrs\"><a href=\"http://tanzil.net/#1:1\" title=\"show this passage on Tanzil\" sec=\"1:1\">1:1</a></div>\n",
       "        <span class=\"nd\">128220</span>\n",
       "        <div class=\"features\"></div>\n",
       "    </div>\n",
       "<div class=\"group   rtl \" ><span class=\"nd\">134456</span><div class=\"features\"></div><div class=\"word   rtl \" ><span class=\"nd\">1</span><div class=\"ar\">بِ</div><div class=\"features\"> <span class=\"pos\">preposition</span></div></div><div class=\"word  hl rtl \"  style=\"background-color: lightsalmon;\" ><span class=\"nd\">2</span><div class=\"ar\">سْمِ </div><div class=\"features\"> <span class=\"lemma\">{som</span> <span class=\"root\">smw</span> <span class=\"pos\">noun</span> <span class=\"sentiment xft\"><span class=\"f\">sentiment=</span>-10</span></div></div></div><div class=\"group   rtl \" ><span class=\"nd\">134457</span><div class=\"features\"></div><div class=\"word  hl rtl \"  style=\"background-color: lightsalmon;\" ><span class=\"nd\">3</span><div class=\"ar\">ٱللَّهِ </div><div class=\"features\"> <span class=\"lemma\">{ll~ah</span> <span class=\"root\">Alh</span> <span class=\"pos\">noun</span> <span class=\"posx\">proper</span> <span class=\"sentiment xft\"><span class=\"f\">sentiment=</span>-233</span></div></div></div><div class=\"group   rtl \" ><span class=\"nd\">134458</span><div class=\"features\"></div><div class=\"word   rtl \" ><span class=\"nd\">4</span><div class=\"ar\">ٱل</div><div class=\"features\"> <span class=\"pos\">determiner</span></div></div><div class=\"word  hl rtl \"  style=\"background-color: mediumaquamarine;\" ><span class=\"nd\">5</span><div class=\"ar\">رَّحْمَٰنِ </div><div class=\"features\"> <span class=\"lemma\">r~aHoma`n</span> <span class=\"root\">rHm</span> <span class=\"pos\">adjective</span> <span class=\"sentiment xft\"><span class=\"f\">sentiment=</span>1</span></div></div></div><div class=\"group   rtl \" ><span class=\"nd\">134459</span><div class=\"features\"></div><div class=\"word   rtl \" ><span class=\"nd\">6</span><div class=\"ar\">ٱل</div><div class=\"features\"> <span class=\"pos\">determiner</span></div></div><div class=\"word  hl rtl \"  style=\"background-color: lightsalmon;\" ><span class=\"nd\">7</span><div class=\"ar\">رَّحِيمِ</div><div class=\"features\"> <span class=\"lemma\">r~aHiym</span> <span class=\"root\">rHm</span> <span class=\"pos\">adjective</span> <span class=\"sentiment xft\"><span class=\"f\">sentiment=</span>-7</span></div></div></div></div></div>"
      ],
      "text/plain": [
       "<IPython.core.display.HTML object>"
      ]
     },
     "metadata": {},
     "output_type": "display_data"
    },
    {
     "data": {
      "text/html": [
       "<p><b>aya</b> <i>2</i></p>"
      ],
      "text/plain": [
       "<IPython.core.display.HTML object>"
      ]
     },
     "metadata": {},
     "output_type": "display_data"
    },
    {
     "data": {
      "text/html": [
       "<div class=\"outeritem\"><div class=\"aya   rtl \" >\n",
       "    <div class=\"vl\">\n",
       "        <div class=\"vrs\"><a href=\"http://tanzil.net/#1:3\" title=\"show this passage on Tanzil\" sec=\"1:3\">1:3</a></div>\n",
       "        <span class=\"nd\">128222</span>\n",
       "        <div class=\"features\"></div>\n",
       "    </div>\n",
       "<div class=\"group   rtl \" ><span class=\"nd\">134464</span><div class=\"features\"></div><div class=\"word   rtl \" ><span class=\"nd\">15</span><div class=\"ar\">ٱل</div><div class=\"features\"> <span class=\"pos\">determiner</span></div></div><div class=\"word  hl rtl \"  style=\"background-color: mediumaquamarine;\" ><span class=\"nd\">16</span><div class=\"ar\">رَّحْمَٰنِ </div><div class=\"features\"> <span class=\"lemma\">r~aHoma`n</span> <span class=\"root\">rHm</span> <span class=\"pos\">adjective</span> <span class=\"sentiment xft\"><span class=\"f\">sentiment=</span>1</span></div></div></div><div class=\"group   rtl \" ><span class=\"nd\">134465</span><div class=\"features\"></div><div class=\"word   rtl \" ><span class=\"nd\">17</span><div class=\"ar\">ٱل</div><div class=\"features\"> <span class=\"pos\">determiner</span></div></div><div class=\"word  hl rtl \"  style=\"background-color: lightsalmon;\" ><span class=\"nd\">18</span><div class=\"ar\">رَّحِيمِ</div><div class=\"features\"> <span class=\"lemma\">r~aHiym</span> <span class=\"root\">rHm</span> <span class=\"pos\">adjective</span> <span class=\"sentiment xft\"><span class=\"f\">sentiment=</span>-7</span></div></div></div></div></div>"
      ],
      "text/plain": [
       "<IPython.core.display.HTML object>"
      ]
     },
     "metadata": {},
     "output_type": "display_data"
    },
    {
     "data": {
      "text/html": [
       "<p><b>aya</b> <i>3</i></p>"
      ],
      "text/plain": [
       "<IPython.core.display.HTML object>"
      ]
     },
     "metadata": {},
     "output_type": "display_data"
    },
    {
     "data": {
      "text/html": [
       "<div class=\"outeritem\"><div class=\"aya   rtl \" >\n",
       "    <div class=\"vl\">\n",
       "        <div class=\"vrs\"><a href=\"http://tanzil.net/#1:5\" title=\"show this passage on Tanzil\" sec=\"1:5\">1:5</a></div>\n",
       "        <span class=\"nd\">128224</span>\n",
       "        <div class=\"features\"></div>\n",
       "    </div>\n",
       "<div class=\"group   rtl \" ><span class=\"nd\">134469</span><div class=\"features\"></div><div class=\"word   rtl \" ><span class=\"nd\">23</span><div class=\"ar\">إِيَّاكَ </div><div class=\"features\"> <span class=\"lemma\">&lt;iy~aA</span> <span class=\"pos\">pronoun</span> <span class=\"posx\">personal</span></div></div></div><div class=\"group   rtl \" ><span class=\"nd\">134470</span><div class=\"features\"></div><div class=\"word  hl rtl \"  style=\"background-color: lightsalmon;\" ><span class=\"nd\">24</span><div class=\"ar\">نَعْبُدُ </div><div class=\"features\"> <span class=\"lemma\">Eabada</span> <span class=\"root\">Ebd</span> <span class=\"pos\">verb</span> <span class=\"tense\">imperfect</span> <span class=\"sentiment xft\"><span class=\"f\">sentiment=</span>-4</span></div></div></div><div class=\"group   rtl \" ><span class=\"nd\">134471</span><div class=\"features\"></div><div class=\"word   rtl \" ><span class=\"nd\">25</span><div class=\"ar\">وَ</div><div class=\"features\"> <span class=\"pos\">conjunction</span> <span class=\"posx\">coordinating</span></div></div><div class=\"word   rtl \" ><span class=\"nd\">26</span><div class=\"ar\">إِيَّاكَ </div><div class=\"features\"> <span class=\"lemma\">&lt;iy~aA</span> <span class=\"pos\">pronoun</span> <span class=\"posx\">personal</span></div></div></div><div class=\"group   rtl \" ><span class=\"nd\">134472</span><div class=\"features\"></div><div class=\"word  hl rtl \"  style=\"background-color: mediumaquamarine;\" ><span class=\"nd\">27</span><div class=\"ar\">نَسْتَعِينُ</div><div class=\"features\"> <span class=\"lemma\">{sotaEiynu</span> <span class=\"root\">Ewn</span> <span class=\"pos\">verb</span> <span class=\"formation\">X</span> <span class=\"tense\">imperfect</span> <span class=\"sentiment xft\"><span class=\"f\">sentiment=</span>1</span></div></div></div></div></div>"
      ],
      "text/plain": [
       "<IPython.core.display.HTML object>"
      ]
     },
     "metadata": {},
     "output_type": "display_data"
    }
   ],
   "source": [
    "A.show(results, start=1, end=3, condensed=True, withNodes=True, highlights=highlights)"
   ]
  },
  {
   "cell_type": "markdown",
   "metadata": {},
   "source": [
    "# All together!\n",
    "\n",
    "If more researchers have shared data modules, you can draw them all in.\n",
    "\n",
    "Then you can design queries that use features from all these different sources.\n",
    "\n",
    "In that way, you build your own research on top of the work of others."
   ]
  },
  {
   "cell_type": "markdown",
   "metadata": {},
   "source": [
    "---\n",
    "\n",
    "All chapters:\n",
    "\n",
    "* **[start](start.ipynb)** introduction to computing with your corpus\n",
    "* **[display](display.ipynb)** become an expert in creating pretty displays of your text structures\n",
    "* **[search](search.ipynb)** turbo charge your hand-coding with search templates\n",
    "* **[exportExcel](exportExcel.ipynb)** make tailor-made spreadsheets out of your results\n",
    "* **share** draw in other people's data and let them use yours\n",
    "* **[similarAyas](similarAyas.ipynb)** spot the similarities between lines\n",
    "* **[rings](rings.ipynb)** ring structures in sura 2"
   ]
  }
 ],
 "metadata": {
  "kernelspec": {
   "display_name": "Python 3",
   "language": "python",
   "name": "python3"
  },
  "language_info": {
   "codemirror_mode": {
    "name": "ipython",
    "version": 3
   },
   "file_extension": ".py",
   "mimetype": "text/x-python",
   "name": "python",
   "nbconvert_exporter": "python",
   "pygments_lexer": "ipython3",
   "version": "3.7.7"
  }
 },
 "nbformat": 4,
 "nbformat_minor": 4
}
