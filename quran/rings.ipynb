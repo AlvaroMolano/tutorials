{
 "cells": [
  {
   "cell_type": "markdown",
   "metadata": {},
   "source": [
    "<img align=\"right\" src=\"images/tf.png\" width=\"128\"/>\n",
    "<img align=\"right\" src=\"images/uu-small.png\" width=\"128\"/>\n",
    "<img align=\"right\" src=\"images/dans.png\" width=\"128\"/>\n",
    "\n",
    "---\n",
    "\n",
    "To get started: consult [start](start.ipynb)\n",
    "\n",
    "---\n",
    "\n",
    "# Rings\n",
    "\n",
    "Rings are literary structures of text composition, typically at the sub-sura level.\n",
    "They are marked by certain formal characteristics and a semantic structure where elements at the start\n",
    "are mirrored semantically at the end.\n",
    "The resulting effect is that the crux of the narrative/exposition appears at its center.\n",
    "\n",
    "This is not an easy concept to deal with computationally, because our dataset has only limited semantic information,\n",
    "and the observed patterns are the result of sensitivity of the human mind to a literary and religious text.\n",
    "\n",
    "So, do not expect to a recipe to identify rokings, but just a scratching of their surface.\n",
    "\n",
    "Moreover, this notebook is written from the view-point of a non-expert in Islam and Arabic.\n",
    "It serves as a testimony of how much perception such a person can muster.\n",
    "If you, as an expert, read on, it will become clear how much room for improvement there is.\n",
    "The challenge for you is then to strengthen your computational skills, so that you\n",
    "can actually make those improvements.\n",
    "\n",
    "The notebook finishes off by showing how to save, export and share the data you create."
   ]
  },
  {
   "cell_type": "code",
   "execution_count": 1,
   "metadata": {},
   "outputs": [],
   "source": [
    "%load_ext autoreload\n",
    "%autoreload 2"
   ]
  },
  {
   "cell_type": "code",
   "execution_count": 2,
   "metadata": {
    "ExecuteTime": {
     "end_time": "2018-05-24T10:06:39.818664Z",
     "start_time": "2018-05-24T10:06:39.796588Z"
    }
   },
   "outputs": [],
   "source": [
    "import os\n",
    "import collections\n",
    "from IPython.display import Markdown, display\n",
    "\n",
    "from tf.app import use"
   ]
  },
  {
   "cell_type": "code",
   "execution_count": 3,
   "metadata": {
    "ExecuteTime": {
     "end_time": "2018-05-24T10:06:51.615044Z",
     "start_time": "2018-05-24T10:06:50.161456Z"
    }
   },
   "outputs": [
    {
     "name": "stdout",
     "output_type": "stream",
     "text": [
      "Using TF-app in /Users/dirk/github/annotation/app-quran/code:\n",
      "\trepo clone offline under ~/github (local github)\n",
      "Using data in /Users/dirk/github/q-ran/quran/tf/0.4:\n",
      "\trepo clone offline under ~/github (local github)\n"
     ]
    },
    {
     "data": {
      "text/html": [
       "<b>Documentation:</b> <a target=\"_blank\" href=\"https://github.com/q-ran/quran/blob/master/docs/features.md\" title=\"provenance of Quran\">QURAN</a> <a target=\"_blank\" href=\"https://annotation.github.io/text-fabric/Writing/Transcription/Arabic\" title=\"How TF features represent text\">Character table</a> <a target=\"_blank\" href=\"https://github.com/q-ran/quran/blob/master/docs/features.md\" title=\"QURAN feature documentation\">Feature docs</a> <a target=\"_blank\" href=\"https://github.com/annotation/app-quran\" title=\"quran API documentation\">quran API</a> <a target=\"_blank\" href=\"https://annotation.github.io/text-fabric/Api/Fabric/\" title=\"text-fabric-api\">Text-Fabric API 8.0.0</a> <a target=\"_blank\" href=\"https://annotation.github.io/text-fabric/Use/Search/\" title=\"Search Templates Introduction and Reference\">Search Reference</a><details open><summary><b>Loaded features</b>:</summary>\n",
       "<p><b>Quran</b>: <a target=\"_blank\" href=\"https://github.com/q-ran/quran/blob/master/docs/features.md\" title=\"/Users/dirk/github/q-ran/quran/tf/0.4/a.tf\">a</a>  <a target=\"_blank\" href=\"https://github.com/q-ran/quran/blob/master/docs/features.md\" title=\"/Users/dirk/github/q-ran/quran/tf/0.4/ascii.tf\">ascii</a>  <a target=\"_blank\" href=\"https://github.com/q-ran/quran/blob/master/docs/features.md\" title=\"/Users/dirk/github/q-ran/quran/tf/0.4/ax.tf\">ax</a>  <a target=\"_blank\" href=\"https://github.com/q-ran/quran/blob/master/docs/features.md\" title=\"/Users/dirk/github/q-ran/quran/tf/0.4/case.tf\">case</a>  <a target=\"_blank\" href=\"https://github.com/q-ran/quran/blob/master/docs/features.md\" title=\"/Users/dirk/github/q-ran/quran/tf/0.4/component.tf\">component</a>  <a target=\"_blank\" href=\"https://github.com/q-ran/quran/blob/master/docs/features.md\" title=\"/Users/dirk/github/q-ran/quran/tf/0.4/definite.tf\">definite</a>  <a target=\"_blank\" href=\"https://github.com/q-ran/quran/blob/master/docs/features.md\" title=\"/Users/dirk/github/q-ran/quran/tf/0.4/f.tf\">f</a>  <a target=\"_blank\" href=\"https://github.com/q-ran/quran/blob/master/docs/features.md\" title=\"/Users/dirk/github/q-ran/quran/tf/0.4/formation.tf\">formation</a>  <a target=\"_blank\" href=\"https://github.com/q-ran/quran/blob/master/docs/features.md\" title=\"/Users/dirk/github/q-ran/quran/tf/0.4/fx.tf\">fx</a>  <a target=\"_blank\" href=\"https://github.com/q-ran/quran/blob/master/docs/features.md\" title=\"/Users/dirk/github/q-ran/quran/tf/0.4/gn.tf\">gn</a>  <a target=\"_blank\" href=\"https://github.com/q-ran/quran/blob/master/docs/features.md\" title=\"/Users/dirk/github/q-ran/quran/tf/0.4/interjection.tf\">interjection</a>  <a target=\"_blank\" href=\"https://github.com/q-ran/quran/blob/master/docs/features.md\" title=\"/Users/dirk/github/q-ran/quran/tf/0.4/l.tf\">l</a>  <a target=\"_blank\" href=\"https://github.com/q-ran/quran/blob/master/docs/features.md\" title=\"/Users/dirk/github/q-ran/quran/tf/0.4/lemma.tf\">lemma</a>  <a target=\"_blank\" href=\"https://github.com/q-ran/quran/blob/master/docs/features.md\" title=\"/Users/dirk/github/q-ran/quran/tf/0.4/lx.tf\">lx</a>  <a target=\"_blank\" href=\"https://github.com/q-ran/quran/blob/master/docs/features.md\" title=\"/Users/dirk/github/q-ran/quran/tf/0.4/mood.tf\">mood</a>  <a target=\"_blank\" href=\"https://github.com/q-ran/quran/blob/master/docs/features.md\" title=\"/Users/dirk/github/q-ran/quran/tf/0.4/n.tf\">n</a>  <a target=\"_blank\" href=\"https://github.com/q-ran/quran/blob/master/docs/features.md\" title=\"/Users/dirk/github/q-ran/quran/tf/0.4/name.tf\">name</a>  <a target=\"_blank\" href=\"https://github.com/q-ran/quran/blob/master/docs/features.md\" title=\"/Users/dirk/github/q-ran/quran/tf/0.4/name@en.tf\">name@ll</a>  <a target=\"_blank\" href=\"https://github.com/q-ran/quran/blob/master/docs/features.md\" title=\"/Users/dirk/github/q-ran/quran/tf/0.4/nameAscii.tf\">nameAscii</a>  <a target=\"_blank\" href=\"https://github.com/q-ran/quran/blob/master/docs/features.md\" title=\"/Users/dirk/github/q-ran/quran/tf/0.4/nameTrans.tf\">nameTrans</a>  <a target=\"_blank\" href=\"https://github.com/q-ran/quran/blob/master/docs/features.md\" title=\"/Users/dirk/github/q-ran/quran/tf/0.4/nu.tf\">nu</a>  <a target=\"_blank\" href=\"https://github.com/q-ran/quran/blob/master/docs/features.md\" title=\"/Users/dirk/github/q-ran/quran/tf/0.4/number.tf\">number</a>  <a target=\"_blank\" href=\"https://github.com/q-ran/quran/blob/master/docs/features.md\" title=\"/Users/dirk/github/q-ran/quran/tf/0.4/order.tf\">order</a>  <a target=\"_blank\" href=\"https://github.com/q-ran/quran/blob/master/docs/features.md\" title=\"/Users/dirk/github/q-ran/quran/tf/0.4/otype.tf\">otype</a>  <a target=\"_blank\" href=\"https://github.com/q-ran/quran/blob/master/docs/features.md\" title=\"/Users/dirk/github/q-ran/quran/tf/0.4/pos.tf\">pos</a>  <a target=\"_blank\" href=\"https://github.com/q-ran/quran/blob/master/docs/features.md\" title=\"/Users/dirk/github/q-ran/quran/tf/0.4/posx.tf\">posx</a>  <a target=\"_blank\" href=\"https://github.com/q-ran/quran/blob/master/docs/features.md\" title=\"/Users/dirk/github/q-ran/quran/tf/0.4/ps.tf\">ps</a>  <a target=\"_blank\" href=\"https://github.com/q-ran/quran/blob/master/docs/features.md\" title=\"/Users/dirk/github/q-ran/quran/tf/0.4/root.tf\">root</a>  <a target=\"_blank\" href=\"https://github.com/q-ran/quran/blob/master/docs/features.md\" title=\"/Users/dirk/github/q-ran/quran/tf/0.4/sp.tf\">sp</a>  <a target=\"_blank\" href=\"https://github.com/q-ran/quran/blob/master/docs/features.md\" title=\"/Users/dirk/github/q-ran/quran/tf/0.4/space.tf\">space</a>  <a target=\"_blank\" href=\"https://github.com/q-ran/quran/blob/master/docs/features.md\" title=\"/Users/dirk/github/q-ran/quran/tf/0.4/tense.tf\">tense</a>  <a target=\"_blank\" href=\"https://github.com/q-ran/quran/blob/master/docs/features.md\" title=\"/Users/dirk/github/q-ran/quran/tf/0.4/translation@en.tf\">translation@ll</a>  <a target=\"_blank\" href=\"https://github.com/q-ran/quran/blob/master/docs/features.md\" title=\"/Users/dirk/github/q-ran/quran/tf/0.4/type.tf\">type</a>  <a target=\"_blank\" href=\"https://github.com/q-ran/quran/blob/master/docs/features.md\" title=\"/Users/dirk/github/q-ran/quran/tf/0.4/unicode.tf\">unicode</a>  <a target=\"_blank\" href=\"https://github.com/q-ran/quran/blob/master/docs/features.md\" title=\"/Users/dirk/github/q-ran/quran/tf/0.4/voice.tf\">voice</a>  <a target=\"_blank\" href=\"https://github.com/q-ran/quran/blob/master/docs/features.md\" title=\"/Users/dirk/github/q-ran/quran/tf/0.4/w.tf\">w</a>  <a target=\"_blank\" href=\"https://github.com/q-ran/quran/blob/master/docs/features.md\" title=\"/Users/dirk/github/q-ran/quran/tf/0.4/wx.tf\">wx</a>  <b><i><a target=\"_blank\" href=\"https://github.com/q-ran/quran/blob/master/docs/features.md\" title=\"/Users/dirk/github/q-ran/quran/tf/0.4/oslots.tf\">oslots</a></i></b> </p></details>"
      ],
      "text/plain": [
       "<IPython.core.display.HTML object>"
      ]
     },
     "metadata": {},
     "output_type": "display_data"
    },
    {
     "data": {
      "text/html": [
       "<style>tr.tf, td.tf, th.tf { text-align: left ! important;}@font-face {\n",
       "  font-family: \"Ezra SIL\";\n",
       "  src: local('Ezra SIL'), local('EzraSIL'),\n",
       "    url('/server/static/fonts/SILEOT.woff') format('woff'),\n",
       "    url('https://github.com/annotation/text-fabric/blob/master/tf/server/static/fonts/SILEOT.woff?raw=true') format('woff');\n",
       "}\n",
       "\n",
       "@font-face {\n",
       "  font-family: \"SBL Hebrew\";\n",
       "  src: local('SBL Hebrew'), local('SBLHebrew'),\n",
       "    url('/server/static/fonts/SBL_Hbrw.woff') format('woff'),\n",
       "    url('https://github.com/annotation/text-fabric/blob/master/tf/server/static/fonts/SBL_Hbrw.woff?raw=true') format('woff');\n",
       "}\n",
       "\n",
       "@font-face {\n",
       "  font-family: \"Estrangelo Edessa\";\n",
       "  src: local('Estrangelo Edessa'), local('EstrangeloEdessa');\n",
       "    url('/server/static/fonts/SyrCOMEdessa.woff') format('woff'),\n",
       "    url('https://github.com/annotation/text-fabric/blob/master/tf/server/static/fonts/SyrCOMEdessa.woff?raw=true') format('woff');\n",
       "}\n",
       "\n",
       "@font-face {\n",
       "  font-family: AmiriQuran;\n",
       "  font-style: normal;\n",
       "  font-weight: 400;\n",
       "  src: local('Amiri Quran'), local('AmiriQuran'),\n",
       "    url('/server/static/fonts/AmiriQuran.woff') format('woff'),\n",
       "    url('https://github.com/annotation/text-fabric/blob/master/tf/server/static/fonts/AmiriQuran.woff?raw=true') format('woff');\n",
       "}\n",
       "\n",
       "@font-face {\n",
       "  font-family: AmiriQuranColored;\n",
       "  font-style: normal;\n",
       "  font-weight: 400;\n",
       "  src: local('Amiri Quran Colored'), local('AmiriQuranColored'),\n",
       "    url('/server/static/fonts/AmiriQuranColored.woff') format('woff'),\n",
       "    url('https://github.com/annotation/text-fabric/blob/master/tf/server/static/fonts/AmiriQuranColored.woff?raw=true') format('woff');\n",
       "}\n",
       "\n",
       "@font-face {\n",
       "  font-family: \"Santakku\";\n",
       "  src: local('Santakku'),\n",
       "    url('/server/static/fonts/Santakku.woff') format('woff'),\n",
       "    url('https://github.com/annotation/text-fabric/blob/master/tf/server/static/fonts/Santakku.woff?raw=true') format('woff');\n",
       "}\n",
       "\n",
       "@font-face {\n",
       "  font-family: \"SantakkuM\";\n",
       "  src: local('SantakkuM'),\n",
       "    url('/server/static/fonts/SantakkuM.woff') format('woff'),\n",
       "    url('https://github.com/annotation/text-fabric/blob/master/tf/server/static/fonts/SantakkuM.woff?raw=true') format('woff');\n",
       "}\n",
       "/* neutral text */\n",
       ".txtn,.txtn a:visited,.txtn a:link {\n",
       "    font-family: sans-serif;\n",
       "    font-size: medium;\n",
       "    direction: ltr;\n",
       "    text-decoration: none;\n",
       "    color: var(--text-color);\n",
       "}\n",
       "/* transcription text */\n",
       ".txtt,.txtt a:visited,.txtt a:link {\n",
       "    font-family: monospace;\n",
       "    font-size: medium;\n",
       "    direction: ltr;\n",
       "    text-decoration: none;\n",
       "    color: var(--text-color);\n",
       "}\n",
       "/* source text */\n",
       ".txto,.txto a:visited,.txto a:link {\n",
       "    font-family: serif;\n",
       "    font-size: medium;\n",
       "    direction: ltr;\n",
       "    text-decoration: none;\n",
       "    color: var(--text-color);\n",
       "}\n",
       "/* phonetic text */\n",
       ".txtp,.txtp a:visited,.txtp a:link {\n",
       "    font-family: Gentium, sans-serif;\n",
       "    font-size: large;\n",
       "    direction: ltr;\n",
       "    text-decoration: none;\n",
       "    color: var(--text-color);\n",
       "}\n",
       "/* original script text */\n",
       ".txtu,.txtu a:visited,.txtu a:link {\n",
       "    font-family: Gentium, sans-serif;\n",
       "    font-size: large;\n",
       "    text-decoration: none;\n",
       "    color: var(--text-color);\n",
       "}\n",
       "/* hebrew */\n",
       ".txtu.hbo,.lex.hbo {\n",
       "    font-family: \"Ezra SIL\", \"SBL Hebrew\", sans-serif;\n",
       "    font-size: x-large;\n",
       "    direction: rtl ! important;\n",
       "    unicode-bidi: embed;\n",
       "}\n",
       "/* syriac */\n",
       ".txtu.syc,.lex.syc {\n",
       "    font-family: \"Estrangelo Edessa\", sans-serif;\n",
       "    font-size: large;\n",
       "    direction: rtl ! important;\n",
       "    unicode-bidi: embed;\n",
       "}\n",
       "/* neo aramaic */\n",
       ".txtu.cld,.lex.cld {\n",
       "    font-family: \"CharisSIL-R\", sans-serif;\n",
       "    font-size: medium;\n",
       "    direction: ltr ! important;\n",
       "    unicode-bidi: embed;\n",
       "}\n",
       "/* standard arabic */\n",
       ".txtu.ara,.lex.ara {\n",
       "    font-family: \"AmiriQuran\", sans-serif;\n",
       "    font-size: large;\n",
       "    direction: rtl ! important;\n",
       "    unicode-bidi: embed;\n",
       "}\n",
       "/* cuneiform */\n",
       ".txtu.akk,.lex.akk {\n",
       "    font-family: Santakku, sans-serif;\n",
       "    font-size: x-large;\n",
       "    direction: ltr ! important;\n",
       "    unicode-bidi: embed;\n",
       "}\n",
       "/* greek */\n",
       ".txtu.grc,.lex.grc a:link {\n",
       "    font-family: Gentium, sans-serif;\n",
       "    font-size: medium;\n",
       "    direction: ltr ! important;\n",
       "    unicode-bidi: embed;\n",
       "}\n",
       "a:hover {\n",
       "    text-decoration: underline | important;\n",
       "    color: #0000ff | important;\n",
       "}\n",
       ".ltr {\n",
       "    direction: ltr ! important;\n",
       "}\n",
       ".rtl {\n",
       "    direction: rtl ! important;\n",
       "}\n",
       "span.plain {\n",
       "    display: inline-block;\n",
       "    white-space: pre-wrap;\n",
       "    text-align: start;\n",
       "}\n",
       ".features {\n",
       "    font-family: monospace;\n",
       "    font-size: medium;\n",
       "    font-weight: bold;\n",
       "    color: var(--features);\n",
       "    display: flex;\n",
       "    flex-flow: column nowrap;\n",
       "    justify-content: flex-start;\n",
       "    align-items: flex-start;\n",
       "    align-content: flex-start;\n",
       "    padding: 0.1rem;\n",
       "    margin: 0.1rem;\n",
       "    direction: ltr;\n",
       "    border: var(--meta-width) solid var(--meta-color);\n",
       "    border-radius: var(--meta-width);\n",
       "}\n",
       ".features div,.features span {\n",
       "    padding: 0;\n",
       "    margin: -0.1rem 0;\n",
       "}\n",
       ".features .f {\n",
       "    font-family: sans-serif;\n",
       "    font-size: small;\n",
       "    font-weight: normal;\n",
       "    color: #5555bb;\n",
       "}\n",
       ".features .xft {\n",
       "  color: #000000;\n",
       "  background-color: #eeeeee;\n",
       "  font-size: medium;\n",
       "  margin: 0.1rem 0rem;\n",
       "}\n",
       ".features .xft .f {\n",
       "  color: #000000;\n",
       "  background-color: #eeeeee;\n",
       "  font-size: small;\n",
       "  font-weight: normal;\n",
       "}\n",
       ".section {\n",
       "    font-family: sans-serif;\n",
       "    font-size: small;\n",
       "    font-weight: bold;\n",
       "    color: var(--section);\n",
       "}\n",
       ".structure {\n",
       "    font-family: sans-serif;\n",
       "    font-size: small;\n",
       "    font-weight: bold;\n",
       "    color: var(--structure);\n",
       "}\n",
       ".comments {\n",
       "    display: flex;\n",
       "    justify-content: flex-start;\n",
       "    align-items: flex-start;\n",
       "    align-content: flex-start;\n",
       "    flex-flow: column nowrap;\n",
       "}\n",
       ".nd {\n",
       "    font-family: sans-serif;\n",
       "    font-size: small;\n",
       "    color: var(--node);\n",
       "    vertical-align: super;\n",
       "}\n",
       ".lex {\n",
       "  color: var(--lex-color);;\n",
       "}\n",
       ".children,.children.ltr {\n",
       "    display: flex;\n",
       "    border: 0;\n",
       "    background-color: #ffffff;\n",
       "    justify-content: flex-start;\n",
       "    align-items: flex-start;\n",
       "    align-content: flex-start;\n",
       "}\n",
       ".children.stretch {\n",
       "    align-items: stretch;\n",
       "}\n",
       ".children.row {\n",
       "    flex-flow: row nowrap;\n",
       "}\n",
       ".children.row.wrap {\n",
       "    flex-flow: row wrap;\n",
       "}\n",
       ".children.col {\n",
       "    flex-flow: column nowrap;\n",
       "}\n",
       ".children.col.wrap {\n",
       "    flex-flow: column wrap;\n",
       "}\n",
       ".contnr {\n",
       "    width: fit-content;\n",
       "    display: flex;\n",
       "    justify-content: flex-start;\n",
       "    align-items: flex-start;\n",
       "    align-content: flex-start;\n",
       "    flex-flow: column nowrap;\n",
       "    background: #ffffff none repeat scroll 0 0;\n",
       "    padding:  0.5rem 0.1rem 0.1rem 0.1rem;\n",
       "    margin: 0.8rem 0.1rem 0.1rem 0.1rem;\n",
       "    border-style: solid;\n",
       "    font-size: small;\n",
       "}\n",
       ".contnr.trm {\n",
       "    background-attachment: local;\n",
       "}\n",
       ".contnr.cnul {\n",
       "    padding:  0;\n",
       "    margin: 0;\n",
       "    border-style: solid;\n",
       "    font-size: xx-small;\n",
       "}\n",
       ".contnr.cnul,.lbl.cnul {\n",
       "    border-color: var(--border-color-nul);\n",
       "    border-width: var(--border-width-nul);\n",
       "    border-radius: var(--border-width-nul);\n",
       "}\n",
       ".contnr.c0,.lbl.c0 {\n",
       "    border-color: var(--border-color0);\n",
       "    border-width: var(--border-width0);\n",
       "    border-radius: var(--border-width0);\n",
       "}\n",
       ".contnr.c1,.lbl.c1 {\n",
       "    border-color: var(--border-color1);\n",
       "    border-width: var(--border-width1);\n",
       "    border-radius: var(--border-width1);\n",
       "}\n",
       ".contnr.c2,.lbl.c2 {\n",
       "    border-color: var(--border-color2);\n",
       "    border-width: var(--border-width2);\n",
       "    border-radius: var(--border-width2);\n",
       "}\n",
       ".contnr.c3,.lbl.c3 {\n",
       "    border-color: var(--border-color3);\n",
       "    border-width: var(--border-width3);\n",
       "    border-radius: var(--border-width3);\n",
       "}\n",
       ".contnr.c4,.lbl.c4 {\n",
       "    border-color: var(--border-color4);\n",
       "    border-width: var(--border-width4);\n",
       "    border-radius: var(--border-width4);\n",
       "}\n",
       ".contnr.l {\n",
       "    border-left-style: dotted\n",
       "}\n",
       ".contnr.r {\n",
       "    border-right-style: dotted\n",
       "}\n",
       ".contnr.lno {\n",
       "    border-left-style: none\n",
       "}\n",
       ".contnr.rno {\n",
       "    border-right-style: none\n",
       "}\n",
       ".lbl {\n",
       "    font-family: monospace;\n",
       "    margin-top: -1.2rem;\n",
       "    margin-left: 1rem;\n",
       "    background: #ffffff none repeat scroll 0 0;\n",
       "    padding: 0 0.3rem;\n",
       "    border-style: solid;\n",
       "    display: block;\n",
       "    color: var(--label)\n",
       "}\n",
       ".lbl.trm {\n",
       "    background-attachment: local;\n",
       "    margin-top: 0.1rem;\n",
       "    margin-left: 0.1rem;\n",
       "    padding: 0.1rem 0.1rem;\n",
       "    border-style: none;\n",
       "}\n",
       ".lbl.cnul {\n",
       "    font-size: xx-small;\n",
       "}\n",
       ".lbl.c0 {\n",
       "    font-size: small;\n",
       "}\n",
       ".lbl.c1 {\n",
       "    font-size: small;\n",
       "}\n",
       ".lbl.c2 {\n",
       "    font-size: medium;\n",
       "}\n",
       ".lbl.c3 {\n",
       "    font-size: medium;\n",
       "}\n",
       ".lbl.c4 {\n",
       "    font-size: large;\n",
       "}\n",
       ".occs {\n",
       "    font-size: small;\n",
       "}\n",
       "\n",
       ":root {\n",
       "\t--node:             hsla(120, 100%,  20%, 1.0  );\n",
       "\t--label:            hsla(  0, 100%,  20%, 1.0  );\n",
       "\t--section:          hsla(  0, 100%,  25%, 1.0  );\n",
       "\t--structure:        hsla(120, 100%,  25%, 1.0  );\n",
       "\t--features:         hsla(  0,   0%,  30%, 1.0  );\n",
       "  --text-color:       hsla( 60,  80%,  10%, 1.0  );\n",
       "  --lex-color:        hsla(220,  90%,  60%, 1.0  );\n",
       "  --meta-color:       hsla(  0,   0%,  90%, 0.7  );\n",
       "  --meta-width:       0.15rem;\n",
       "  --border-color-nul: hsla(  0,   0%,  90%, 0.5  );\n",
       "  --border-color0:    hsla(  0,   0%,  90%, 0.9  );\n",
       "  --border-color1:    hsla(  0,   0%,  80%, 0.9  );\n",
       "  --border-color2:    hsla(  0,   0%,  70%, 0.9  );\n",
       "  --border-color3:    hsla(  0,   0%,  80%, 0.8  );\n",
       "  --border-color4:    hsla(  0,   0%,  60%, 0.9  );\n",
       "  --border-width-nul: 0.1rem;\n",
       "  --border-width0:    0.1rem;\n",
       "  --border-width1:    0.15rem;\n",
       "  --border-width2:    0.2rem;\n",
       "  --border-width3:    0.3rem;\n",
       "  --border-width4:    0.25rem;\n",
       "}\n",
       ".hl {\n",
       "  background-color: var(--hl-strong);\n",
       "}\n",
       "span.hl {\n",
       "\tbackground-color: var(--hl-strong);\n",
       "\tborder-width: 0;\n",
       "\tborder-radius: 0.1rem;\n",
       "\tborder-style: solid;\n",
       "}\n",
       "div.contnr.hl,div.lbl.hl {\n",
       "  background-color: var(--hl-strong);\n",
       "}\n",
       "div.contnr.hl {\n",
       "  border-color: var(--hl-rim) ! important;\n",
       "\tborder-width: 0.2rem ! important;\n",
       "}\n",
       "\n",
       "span.hlbx {\n",
       "\tborder-color: var(--hl-rim);\n",
       "\tborder-width: 0.2rem;\n",
       "\tborder-style: solid;\n",
       "\tborder-radius: 0.3rem;\n",
       "  padding: 0.2rem;\n",
       "  margin: 0.2rem;\n",
       "}\n",
       "\n",
       "span.plain {\n",
       "  display: inline-block;\n",
       "  white-space: pre-wrap;\n",
       "}\n",
       "\n",
       ":root {\n",
       "\t--hl-strong:        hsla( 60, 100%,  70%, 0.9  );\n",
       "\t--hl-rim:           hsla( 55,  80%,  50%, 1.0  );\n",
       "}\n",
       "</style>"
      ],
      "text/plain": [
       "<IPython.core.display.HTML object>"
      ]
     },
     "metadata": {},
     "output_type": "display_data"
    },
    {
     "data": {
      "text/html": [
       "<details open><summary><b>API members</b>:</summary>\n",
       "<a target=\"_blank\" href=\"https://annotation.github.io/text-fabric/Api/Computed/#computed-data\" title=\"doc\">C Computed</a>, <a target=\"_blank\" href=\"https://annotation.github.io/text-fabric/Api/Computed/#computed-data\" title=\"doc\">Call AllComputeds</a>, <a target=\"_blank\" href=\"https://annotation.github.io/text-fabric/Api/Computed/#computed-data\" title=\"doc\">Cs ComputedString</a><br/>\n",
       "<a target=\"_blank\" href=\"https://annotation.github.io/text-fabric/Api/Features/#edge-features\" title=\"doc\">E Edge</a>, <a target=\"_blank\" href=\"https://annotation.github.io/text-fabric/Api/Features/#edge-features\" title=\"doc\">Eall AllEdges</a>, <a target=\"_blank\" href=\"https://annotation.github.io/text-fabric/Api/Features/#edge-features\" title=\"doc\">Es EdgeString</a><br/>\n",
       "<a target=\"_blank\" href=\"https://annotation.github.io/text-fabric/Api/Fabric/#loading\" title=\"doc\">ensureLoaded</a>, <a target=\"_blank\" href=\"https://annotation.github.io/text-fabric/Api/Fabric/#loading\" title=\"doc\">TF</a>, <a target=\"_blank\" href=\"https://annotation.github.io/text-fabric/Api/Fabric/#loading\" title=\"doc\">ignored</a>, <a target=\"_blank\" href=\"https://annotation.github.io/text-fabric/Api/Fabric/#loading\" title=\"doc\">loadLog</a><br/>\n",
       "<a target=\"_blank\" href=\"https://annotation.github.io/text-fabric/Api/Locality/#locality\" title=\"doc\">L Locality</a><br/>\n",
       "<a target=\"_blank\" href=\"https://annotation.github.io/text-fabric/Api/Misc/#messaging\" title=\"doc\">cache</a>, <a target=\"_blank\" href=\"https://annotation.github.io/text-fabric/Api/Misc/#messaging\" title=\"doc\">error</a>, <a target=\"_blank\" href=\"https://annotation.github.io/text-fabric/Api/Misc/#messaging\" title=\"doc\">indent</a>, <a target=\"_blank\" href=\"https://annotation.github.io/text-fabric/Api/Misc/#messaging\" title=\"doc\">info</a>, <a target=\"_blank\" href=\"https://annotation.github.io/text-fabric/Api/Misc/#messaging\" title=\"doc\">isSilent</a>, <a target=\"_blank\" href=\"https://annotation.github.io/text-fabric/Api/Misc/#messaging\" title=\"doc\">reset</a>, <a target=\"_blank\" href=\"https://annotation.github.io/text-fabric/Api/Misc/#messaging\" title=\"doc\">setSilent</a>, <a target=\"_blank\" href=\"https://annotation.github.io/text-fabric/Api/Misc/#messaging\" title=\"doc\">silentOff</a>, <a target=\"_blank\" href=\"https://annotation.github.io/text-fabric/Api/Misc/#messaging\" title=\"doc\">silentOn</a>, <a target=\"_blank\" href=\"https://annotation.github.io/text-fabric/Api/Misc/#messaging\" title=\"doc\">warning</a><br/>\n",
       "<a target=\"_blank\" href=\"https://annotation.github.io/text-fabric/Api/Nodes/#navigating-nodes\" title=\"doc\">N Nodes</a>, <a target=\"_blank\" href=\"https://annotation.github.io/text-fabric/Api/Nodes/#navigating-nodes\" title=\"doc\">sortKey</a>, <a target=\"_blank\" href=\"https://annotation.github.io/text-fabric/Api/Nodes/#navigating-nodes\" title=\"doc\">sortKeyTuple</a>, <a target=\"_blank\" href=\"https://annotation.github.io/text-fabric/Api/Nodes/#navigating-nodes\" title=\"doc\">otypeRank</a>, <a target=\"_blank\" href=\"https://annotation.github.io/text-fabric/Api/Nodes/#navigating-nodes\" title=\"doc\">sortNodes</a><br/>\n",
       "<a target=\"_blank\" href=\"https://annotation.github.io/text-fabric/Api/Features/#node-features\" title=\"doc\">F Feature</a>, <a target=\"_blank\" href=\"https://annotation.github.io/text-fabric/Api/Features/#node-features\" title=\"doc\">Fall AllFeatures</a>, <a target=\"_blank\" href=\"https://annotation.github.io/text-fabric/Api/Features/#node-features\" title=\"doc\">Fs FeatureString</a><br/>\n",
       "<a target=\"_blank\" href=\"https://annotation.github.io/text-fabric/Api/Search/#search\" title=\"doc\">S Search</a><br/>\n",
       "<a target=\"_blank\" href=\"https://annotation.github.io/text-fabric/Api/Text/#text\" title=\"doc\">T Text</a></details>"
      ],
      "text/plain": [
       "<IPython.core.display.HTML object>"
      ]
     },
     "metadata": {},
     "output_type": "display_data"
    }
   ],
   "source": [
    "# A = use('quran', hoist=globals())\n",
    "A = use('quran:clone', checkout=\"clone\", hoist=globals())"
   ]
  },
  {
   "cell_type": "markdown",
   "metadata": {
    "toc-hr-collapsed": false
   },
   "source": [
    "# Exploration\n",
    "\n",
    "We follow an article by\n",
    "Raymond K. Farrin, [*Surat al-Baqara: A Structural Analysis*](https://www.academia.edu/8642515/Surat_al-Baqarah_A_Structural_Analysis)"
   ]
  },
  {
   "cell_type": "markdown",
   "metadata": {},
   "source": [
    "## Trival detail: names of suras\n",
    "\n",
    "The layman does not know what the Al-Baqara sura is. But there is data!\n",
    "Let's print the names of the suras."
   ]
  },
  {
   "cell_type": "code",
   "execution_count": 4,
   "metadata": {},
   "outputs": [
    {
     "name": "stdout",
     "output_type": "stream",
     "text": [
      "1: Al-Faatiha (الفاتحة)\n",
      "2: Al-Baqara (البقرة)\n",
      "3: Aal-i-Imraan (آل عمران)\n",
      "4: An-Nisaa (النساء)\n",
      "5: Al-Maaida (المائدة)\n",
      "6: Al-An'aam (الأنعام)\n",
      "7: Al-A'raaf (الأعراف)\n",
      "8: Al-Anfaal (الأنفال)\n",
      "9: At-Tawba (التوبة)\n",
      "10: Yunus (يونس)\n",
      "11: Hud (هود)\n",
      "12: Yusuf (يوسف)\n",
      "13: Ar-Ra'd (الرعد)\n",
      "14: Ibrahim (ابراهيم)\n",
      "15: Al-Hijr (الحجر)\n",
      "16: An-Nahl (النحل)\n",
      "17: Al-Israa (الإسراء)\n",
      "18: Al-Kahf (الكهف)\n",
      "19: Maryam (مريم)\n",
      "20: Taa-Haa (طه)\n",
      "21: Al-Anbiyaa (الأنبياء)\n",
      "22: Al-Hajj (الحج)\n",
      "23: Al-Muminoon (المؤمنون)\n",
      "24: An-Noor (النور)\n",
      "25: Al-Furqaan (الفرقان)\n",
      "26: Ash-Shu'araa (الشعراء)\n",
      "27: An-Naml (النمل)\n",
      "28: Al-Qasas (القصص)\n",
      "29: Al-Ankaboot (العنكبوت)\n",
      "30: Ar-Room (الروم)\n",
      "31: Luqman (لقمان)\n",
      "32: As-Sajda (السجدة)\n",
      "33: Al-Ahzaab (الأحزاب)\n",
      "34: Saba (سبإ)\n",
      "35: Faatir (فاطر)\n",
      "36: Yaseen (يس)\n",
      "37: As-Saaffaat (الصافات)\n",
      "38: Saad (ص)\n",
      "39: Az-Zumar (الزمر)\n",
      "40: Al-Ghaafir (غافر)\n",
      "41: Fussilat (فصلت)\n",
      "42: Ash-Shura (الشورى)\n",
      "43: Az-Zukhruf (الزخرف)\n",
      "44: Ad-Dukhaan (الدخان)\n",
      "45: Al-Jaathiya (الجاثية)\n",
      "46: Al-Ahqaf (الأحقاف)\n",
      "47: Muhammad (محمد)\n",
      "48: Al-Fath (الفتح)\n",
      "49: Al-Hujuraat (الحجرات)\n",
      "50: Qaaf (ق)\n",
      "51: Adh-Dhaariyat (الذاريات)\n",
      "52: At-Tur (الطور)\n",
      "53: An-Najm (النجم)\n",
      "54: Al-Qamar (القمر)\n",
      "55: Ar-Rahmaan (الرحمن)\n",
      "56: Al-Waaqia (الواقعة)\n",
      "57: Al-Hadid (الحديد)\n",
      "58: Al-Mujaadila (المجادلة)\n",
      "59: Al-Hashr (الحشر)\n",
      "60: Al-Mumtahana (الممتحنة)\n",
      "61: As-Saff (الصف)\n",
      "62: Al-Jumu'a (الجمعة)\n",
      "63: Al-Munaafiqoon (المنافقون)\n",
      "64: At-Taghaabun (التغابن)\n",
      "65: At-Talaaq (الطلاق)\n",
      "66: At-Tahrim (التحريم)\n",
      "67: Al-Mulk (الملك)\n",
      "68: Al-Qalam (القلم)\n",
      "69: Al-Haaqqa (الحاقة)\n",
      "70: Al-Ma'aarij (المعارج)\n",
      "71: Nooh (نوح)\n",
      "72: Al-Jinn (الجن)\n",
      "73: Al-Muzzammil (المزمل)\n",
      "74: Al-Muddaththir (المدثر)\n",
      "75: Al-Qiyaama (القيامة)\n",
      "76: Al-Insaan (الانسان)\n",
      "77: Al-Mursalaat (المرسلات)\n",
      "78: An-Naba (النبإ)\n",
      "79: An-Naazi'aat (النازعات)\n",
      "80: Abasa (عبس)\n",
      "81: At-Takwir (التكوير)\n",
      "82: Al-Infitaar (الإنفطار)\n",
      "83: Al-Mutaffifin (المطففين)\n",
      "84: Al-Inshiqaaq (الإنشقاق)\n",
      "85: Al-Burooj (البروج)\n",
      "86: At-Taariq (الطارق)\n",
      "87: Al-A'laa (الأعلى)\n",
      "88: Al-Ghaashiya (الغاشية)\n",
      "89: Al-Fajr (الفجر)\n",
      "90: Al-Balad (البلد)\n",
      "91: Ash-Shams (الشمس)\n",
      "92: Al-Lail (الليل)\n",
      "93: Ad-Dhuhaa (الضحى)\n",
      "94: Ash-Sharh (الشرح)\n",
      "95: At-Tin (التين)\n",
      "96: Al-Alaq (العلق)\n",
      "97: Al-Qadr (القدر)\n",
      "98: Al-Bayyina (البينة)\n",
      "99: Az-Zalzala (الزلزلة)\n",
      "100: Al-Aadiyaat (العاديات)\n",
      "101: Al-Qaari'a (القارعة)\n",
      "102: At-Takaathur (التكاثر)\n",
      "103: Al-Asr (العصر)\n",
      "104: Al-Humaza (الهمزة)\n",
      "105: Al-Fil (الفيل)\n",
      "106: Quraish (قريش)\n",
      "107: Al-Maa'un (الماعون)\n",
      "108: Al-Kawthar (الكوثر)\n",
      "109: Al-Kaafiroon (الكافرون)\n",
      "110: An-Nasr (النصر)\n",
      "111: Al-Masad (المسد)\n",
      "112: Al-Ikhlaas (الإخلاص)\n",
      "113: Al-Falaq (الفلق)\n",
      "114: An-Naas (الناس)\n"
     ]
    }
   ],
   "source": [
    "for s in F.otype.s('sura'):\n",
    "  print(f'{F.number.v(s)}: {F.nameTrans.v(s)} ({F.name.v(s)})')"
   ]
  },
  {
   "cell_type": "markdown",
   "metadata": {},
   "source": [
    "The article is about sura 2."
   ]
  },
  {
   "cell_type": "code",
   "execution_count": 5,
   "metadata": {},
   "outputs": [],
   "source": [
    "sura2 = F.otype.s('sura')[1]"
   ]
  },
  {
   "cell_type": "markdown",
   "metadata": {},
   "source": [
    "## Sections\n",
    "\n",
    "The article speaks about sections in sura2.\n",
    "Those sections apparently form a level between the sura and the aya.\n",
    "\n",
    "> The sura, 286 verses, consists of nine sections. \n",
    "\n",
    "```\n",
    "A    1 -  20\n",
    "B   21 -  39\n",
    "C   40 - 103\n",
    "D  104 - 141\n",
    "E  142 - 152\n",
    "D' 153 - 177\n",
    "C' 178 - 253\n",
    "B' 254 - 284\n",
    "A' 285 - 286\n",
    "```\n",
    "\n",
    "Can we identify those sections in the data?"
   ]
  },
  {
   "cell_type": "code",
   "execution_count": 6,
   "metadata": {},
   "outputs": [],
   "source": [
    "sections = [\n",
    "  (1, 20),\n",
    "  (21, 39),\n",
    "  (40, 103),\n",
    "  (104, 141),\n",
    "  (142, 152),\n",
    "  (153, 177),\n",
    "  (178, 253),\n",
    "  (254, 284),\n",
    "  (285, 286),\n",
    "]\n",
    "\n",
    "nSections = len(sections)\n",
    "sectionStarts = {b for (b, e) in sections}"
   ]
  },
  {
   "cell_type": "markdown",
   "metadata": {},
   "source": [
    "Apart from suras and ayas, there are other sectional objects in our data, see the \n",
    "feature documentation (one of the links after the incantation):\n",
    "\n",
    "* juz\n",
    "* hizb\n",
    "* manzil\n",
    "* ruku\n",
    "* page\n",
    "* sajda\n",
    "\n",
    "Let's see how our sura is divided into these units.\n",
    "\n",
    "Per unit type we list the how many of those units there are in this sura."
   ]
  },
  {
   "cell_type": "code",
   "execution_count": 7,
   "metadata": {},
   "outputs": [],
   "source": [
    "UTYPES = '''\n",
    "juz\n",
    "hizb\n",
    "manzil\n",
    "ruku\n",
    "page\n",
    "sajda\n",
    "'''.strip().split()"
   ]
  },
  {
   "cell_type": "code",
   "execution_count": 8,
   "metadata": {},
   "outputs": [
    {
     "name": "stdout",
     "output_type": "stream",
     "text": [
      "JUZ   :  1 x\n",
      "HIZB  : 18 x\n",
      "MANZIL:  0 x\n",
      "RUKU  : 40 x\n",
      "PAGE  : 48 x\n",
      "SAJDA :  0 x\n"
     ]
    }
   ],
   "source": [
    "for uType in UTYPES:\n",
    "  units = L.d(sura2, otype=uType)\n",
    "  print(f'{uType.upper():<6}: {len(units):>2} x')"
   ]
  },
  {
   "cell_type": "markdown",
   "metadata": {},
   "source": [
    "Now we want to now the exact aya intervals of the hizb, ruku and page units."
   ]
  },
  {
   "cell_type": "code",
   "execution_count": 9,
   "metadata": {},
   "outputs": [
    {
     "name": "stdout",
     "output_type": "stream",
     "text": [
      "JUZ   :  1 x\n",
      "\t 2: aya 142-252\n",
      "HIZB  : 18 x\n",
      "\t 2: aya  26- 43\n",
      "\t 3: aya  44- 59\n",
      "\t 4: aya  60- 74\n",
      "\t 5: aya  75- 91\n",
      "\t 6: aya  92-105\n",
      "\t 7: aya 106-123\n",
      "\t 8: aya 124-141\n",
      "\t 9: aya 142-157\n",
      "\t10: aya 158-176\n",
      "\t11: aya 177-188\n",
      "\t12: aya 189-202\n",
      "\t13: aya 203-218\n",
      "\t14: aya 219-232\n",
      "\t15: aya 233-242\n",
      "\t16: aya 243-252\n",
      "\t17: aya 253-262\n",
      "\t18: aya 263-271\n",
      "\t19: aya 272-282\n",
      "RUKU  : 40 x\n",
      "\t 2: aya   1-  7\n",
      "\t 3: aya   8- 20\n",
      "\t 4: aya  21- 29\n",
      "\t 5: aya  30- 39\n",
      "\t 6: aya  40- 46\n",
      "\t 7: aya  47- 59\n",
      "\t 8: aya  60- 61\n",
      "\t 9: aya  62- 71\n",
      "\t10: aya  72- 82\n",
      "\t11: aya  83- 86\n",
      "\t12: aya  87- 96\n",
      "\t13: aya  97-103\n",
      "\t14: aya 104-112\n",
      "\t15: aya 113-121\n",
      "\t16: aya 122-129\n",
      "\t17: aya 130-141\n",
      "\t18: aya 142-147\n",
      "\t19: aya 148-152\n",
      "\t20: aya 153-163\n",
      "\t21: aya 164-167\n",
      "\t22: aya 168-176\n",
      "\t23: aya 177-182\n",
      "\t24: aya 183-188\n",
      "\t25: aya 189-196\n",
      "\t26: aya 197-210\n",
      "\t27: aya 211-216\n",
      "\t28: aya 217-221\n",
      "\t29: aya 222-228\n",
      "\t30: aya 229-231\n",
      "\t31: aya 232-235\n",
      "\t32: aya 236-242\n",
      "\t33: aya 243-248\n",
      "\t34: aya 249-253\n",
      "\t35: aya 254-257\n",
      "\t36: aya 258-260\n",
      "\t37: aya 261-266\n",
      "\t38: aya 267-273\n",
      "\t39: aya 274-281\n",
      "\t40: aya 282-283\n",
      "\t41: aya 284-286\n",
      "PAGE  : 48 x\n",
      "\t 2: aya   1-  5\n",
      "\t 3: aya   6- 16\n",
      "\t 4: aya  17- 24\n",
      "\t 5: aya  25- 29\n",
      "\t 6: aya  30- 37\n",
      "\t 7: aya  38- 48\n",
      "\t 8: aya  49- 57\n",
      "\t 9: aya  58- 61\n",
      "\t10: aya  62- 69\n",
      "\t11: aya  70- 76\n",
      "\t12: aya  77- 83\n",
      "\t13: aya  84- 88\n",
      "\t14: aya  89- 93\n",
      "\t15: aya  94-101\n",
      "\t16: aya 102-105\n",
      "\t17: aya 106-112\n",
      "\t18: aya 113-119\n",
      "\t19: aya 120-126\n",
      "\t20: aya 127-134\n",
      "\t21: aya 135-141\n",
      "\t22: aya 142-145\n",
      "\t23: aya 146-153\n",
      "\t24: aya 154-163\n",
      "\t25: aya 164-169\n",
      "\t26: aya 170-176\n",
      "\t27: aya 177-181\n",
      "\t28: aya 182-186\n",
      "\t29: aya 187-190\n",
      "\t30: aya 191-196\n",
      "\t31: aya 197-202\n",
      "\t32: aya 203-210\n",
      "\t33: aya 211-215\n",
      "\t34: aya 216-219\n",
      "\t35: aya 220-224\n",
      "\t36: aya 225-230\n",
      "\t37: aya 231-233\n",
      "\t38: aya 234-237\n",
      "\t39: aya 238-245\n",
      "\t40: aya 246-248\n",
      "\t41: aya 249-252\n",
      "\t42: aya 253-256\n",
      "\t43: aya 257-259\n",
      "\t44: aya 260-264\n",
      "\t45: aya 265-269\n",
      "\t46: aya 270-274\n",
      "\t47: aya 275-281\n",
      "\t48: aya 282-282\n",
      "\t49: aya 283-286\n"
     ]
    }
   ],
   "source": [
    "for uType in UTYPES:\n",
    "  units = L.d(sura2, otype=uType)\n",
    "  if not len(units):\n",
    "    continue\n",
    "  print(f'{uType.upper():<6}: {len(units):>2} x')\n",
    "  for unit in units:\n",
    "    unitNum = F.number.v(unit)\n",
    "    ayas = L.d(unit, otype='aya')\n",
    "    firstAya = F.number.v(ayas[0])\n",
    "    lastAya = F.number.v(ayas[-1])\n",
    "    print(f'\\t{unitNum:>2}: aya {firstAya:>3}-{lastAya:>3}')"
   ]
  },
  {
   "cell_type": "markdown",
   "metadata": {},
   "source": [
    "It seems that the section boundaries all coincide with ruku boundaries.\n",
    "\n",
    "Let's check the degree in which the section boundaries respect the unit boundaries, for each unit type.\n",
    "\n",
    "We collect the start ayas for each unit."
   ]
  },
  {
   "cell_type": "code",
   "execution_count": 10,
   "metadata": {},
   "outputs": [],
   "source": [
    "startAyas = collections.defaultdict(set)\n",
    "\n",
    "for uType in UTYPES:\n",
    "  units = L.d(sura2, otype=uType)\n",
    "  if not len(units):\n",
    "    continue\n",
    "  for unit in units:\n",
    "    unitNum = F.number.v(unit)\n",
    "    ayas = L.d(unit, otype='aya')\n",
    "    firstAya = F.number.v(ayas[0])\n",
    "    startAyas[uType].add(firstAya)"
   ]
  },
  {
   "cell_type": "markdown",
   "metadata": {},
   "source": [
    "Now we count how many section starts are members of the startAyas for each unit type. "
   ]
  },
  {
   "cell_type": "code",
   "execution_count": 11,
   "metadata": {},
   "outputs": [
    {
     "name": "stdout",
     "output_type": "stream",
     "text": [
      "1 out of 9 section starts coincide with a juz start\n",
      "1 out of 9 section starts coincide with a hizb start\n",
      "7 out of 9 section starts coincide with a ruku start\n",
      "2 out of 9 section starts coincide with a page start\n"
     ]
    }
   ],
   "source": [
    "agreement = {}\n",
    "\n",
    "for uType in UTYPES:\n",
    "  units = L.d(sura2, otype=uType)\n",
    "  if not len(units):\n",
    "    continue\n",
    "  agreement[uType] = len(startAyas[uType] & sectionStarts)\n",
    "  \n",
    "for (uType, agreement) in agreement.items():\n",
    "  print(f'{agreement} out of {nSections} section starts coincide with a {uType} start')"
   ]
  },
  {
   "cell_type": "markdown",
   "metadata": {},
   "source": [
    "The rukus are the best match, but two sections cross a ruku boundary:"
   ]
  },
  {
   "cell_type": "code",
   "execution_count": 12,
   "metadata": {},
   "outputs": [
    {
     "data": {
      "text/plain": [
       "[178, 285]"
      ]
     },
     "execution_count": 12,
     "metadata": {},
     "output_type": "execute_result"
    }
   ],
   "source": [
    "sorted(sectionStarts - startAyas['ruku'])"
   ]
  },
  {
   "cell_type": "markdown",
   "metadata": {},
   "source": [
    "## First and last lines\n",
    "\n",
    "We explore the first and last ayas of each section.\n",
    "\n",
    "We make a list of tuples of their nodes.\n",
    "\n",
    "Note that the number of an aya is not the same as the node number of the aya.\n",
    "\n",
    "Node numbers are like barcodes: they identify objects uniquely within the whole universe.\n",
    "Aya numbers only identify an aya within its sura.\n",
    "But no two ayas have the same node number.\n",
    "\n",
    "All functions of TF require node numbers, so every now and then we have to move from the\n",
    "identifications in front of our nose to the underlying node numbers.\n",
    "\n",
    "That is what the `T.nodeFromSection()` does: it takes a pair (sura number, aya number) and\n",
    "converts it into a unique aya node number."
   ]
  },
  {
   "cell_type": "code",
   "execution_count": 13,
   "metadata": {},
   "outputs": [],
   "source": [
    "boundaryAyaNodes = []\n",
    "\n",
    "for (beginAnum, endAnum) in sections:\n",
    "  beginA = T.nodeFromSection((2, beginAnum))\n",
    "  endA = T.nodeFromSection((2, endAnum))\n",
    "  boundaryAyaNodes.append((beginA, endA))"
   ]
  },
  {
   "cell_type": "markdown",
   "metadata": {},
   "source": [
    "Here is the tuple we constructed: an abstract ensemble of barcodes:"
   ]
  },
  {
   "cell_type": "code",
   "execution_count": 14,
   "metadata": {},
   "outputs": [
    {
     "data": {
      "text/plain": [
       "[(128227, 128246),\n",
       " (128247, 128265),\n",
       " (128266, 128329),\n",
       " (128330, 128367),\n",
       " (128368, 128378),\n",
       " (128379, 128403),\n",
       " (128404, 128479),\n",
       " (128480, 128510),\n",
       " (128511, 128512)]"
      ]
     },
     "execution_count": 14,
     "metadata": {},
     "output_type": "execute_result"
    }
   ],
   "source": [
    "boundaryAyaNodes"
   ]
  },
  {
   "cell_type": "markdown",
   "metadata": {},
   "source": [
    "Now we ask TF to show them in a more insightful way:"
   ]
  },
  {
   "cell_type": "code",
   "execution_count": 15,
   "metadata": {},
   "outputs": [
    {
     "data": {
      "text/html": [
       "<table><tr class=\"tf\"><th class=\"tf\">n</th><th class=\"tf\">p</th><th class=\"tf\">aya</th><th class=\"tf\">aya</th></tr>\n",
       "<tr class=\"tf\"><td class=\"tf\">1</td><td class=\"tf\"><span class=\"section ltr\"><a target=\"_blank\" href=\"/#2:1\" title=\"show this passage on Tanzil\" sec=\"2:1\">2:1</a></span></td><td class=\"tf\"><span class=\"plain outer rtl  \" ><span class=\"plain txtu ara rtl\"></span><span class=\"plain  rtl  \" ><span class=\"plain txtu ara rtl\"></span><span class=\"plain  rtl  \" ><span class=\"txtu ara\">الٓمٓ</span></span></span></span></td><td class=\"tf\"><span class=\"plain outer rtl  \" ><span class=\"plain txtu ara rtl\"></span><span class=\"plain  rtl  \" ><span class=\"plain txtu ara rtl\"></span><span class=\"plain  rtl  \" ><span class=\"txtu ara\">يَكَادُ </span></span></span><span class=\"plain  rtl  \" ><span class=\"plain txtu ara rtl\"></span><span class=\"plain  rtl  \" ><span class=\"txtu ara\">ٱلْ</span></span><span class=\"plain  rtl  \" ><span class=\"txtu ara\">بَرْقُ </span></span></span><span class=\"plain  rtl  \" ><span class=\"plain txtu ara rtl\"></span><span class=\"plain  rtl  \" ><span class=\"txtu ara\">يَخْطَفُ </span></span></span><span class=\"plain  rtl  \" ><span class=\"plain txtu ara rtl\"></span><span class=\"plain  rtl  \" ><span class=\"txtu ara\">أَبْصَٰرَ</span></span><span class=\"plain  rtl  \" ><span class=\"txtu ara\">هُمْ </span></span></span><span class=\"plain  rtl  \" ><span class=\"plain txtu ara rtl\"></span><span class=\"plain  rtl  \" ><span class=\"txtu ara\">كُلَّمَآ </span></span></span><span class=\"plain  rtl  \" ><span class=\"plain txtu ara rtl\"></span><span class=\"plain  rtl  \" ><span class=\"txtu ara\">أَضَآءَ </span></span></span><span class=\"plain  rtl  \" ><span class=\"plain txtu ara rtl\"></span><span class=\"plain  rtl  \" ><span class=\"txtu ara\">لَ</span></span><span class=\"plain  rtl  \" ><span class=\"txtu ara\">هُم </span></span></span><span class=\"plain  rtl  \" ><span class=\"plain txtu ara rtl\"></span><span class=\"plain  rtl  \" ><span class=\"txtu ara\">مَّشَ</span></span><span class=\"plain  rtl  \" ><span class=\"txtu ara\">وْا۟ </span></span></span><span class=\"plain  rtl  \" ><span class=\"plain txtu ara rtl\"></span><span class=\"plain  rtl  \" ><span class=\"txtu ara\">فِي</span></span><span class=\"plain  rtl  \" ><span class=\"txtu ara\">هِ </span></span></span><span class=\"plain  rtl  \" ><span class=\"plain txtu ara rtl\"></span><span class=\"plain  rtl  \" ><span class=\"txtu ara\">وَ</span></span><span class=\"plain  rtl  \" ><span class=\"txtu ara\">إِذَآ </span></span></span><span class=\"plain  rtl  \" ><span class=\"plain txtu ara rtl\"></span><span class=\"plain  rtl  \" ><span class=\"txtu ara\">أَظْلَمَ </span></span></span><span class=\"plain  rtl  \" ><span class=\"plain txtu ara rtl\"></span><span class=\"plain  rtl  \" ><span class=\"txtu ara\">عَلَيْ</span></span><span class=\"plain  rtl  \" ><span class=\"txtu ara\">هِمْ </span></span></span><span class=\"plain  rtl  \" ><span class=\"plain txtu ara rtl\"></span><span class=\"plain  rtl  \" ><span class=\"txtu ara\">قَامُ</span></span><span class=\"plain  rtl  \" ><span class=\"txtu ara\">وا۟ </span></span></span><span class=\"plain  rtl  \" ><span class=\"plain txtu ara rtl\"></span><span class=\"plain  rtl  \" ><span class=\"txtu ara\">وَ</span></span><span class=\"plain  rtl  \" ><span class=\"txtu ara\">لَوْ </span></span></span><span class=\"plain  rtl  \" ><span class=\"plain txtu ara rtl\"></span><span class=\"plain  rtl  \" ><span class=\"txtu ara\">شَآءَ </span></span></span><span class=\"plain  rtl  \" ><span class=\"plain txtu ara rtl\"></span><span class=\"plain  rtl  \" ><span class=\"txtu ara\">ٱللَّهُ </span></span></span><span class=\"plain  rtl  \" ><span class=\"plain txtu ara rtl\"></span><span class=\"plain  rtl  \" ><span class=\"txtu ara\">لَ</span></span><span class=\"plain  rtl  \" ><span class=\"txtu ara\">ذَهَبَ </span></span></span><span class=\"plain  rtl  \" ><span class=\"plain txtu ara rtl\"></span><span class=\"plain  rtl  \" ><span class=\"txtu ara\">بِ</span></span><span class=\"plain  rtl  \" ><span class=\"txtu ara\">سَمْعِ</span></span><span class=\"plain  rtl  \" ><span class=\"txtu ara\">هِمْ </span></span></span><span class=\"plain  rtl  \" ><span class=\"plain txtu ara rtl\"></span><span class=\"plain  rtl  \" ><span class=\"txtu ara\">وَ</span></span><span class=\"plain  rtl  \" ><span class=\"txtu ara\">أَبْصَٰرِ</span></span><span class=\"plain  rtl  \" ><span class=\"txtu ara\">هِمْ </span></span></span><span class=\"plain  rtl  \" ><span class=\"plain txtu ara rtl\"></span><span class=\"plain  rtl  \" ><span class=\"txtu ara\">إِنَّ </span></span></span><span class=\"plain  rtl  \" ><span class=\"plain txtu ara rtl\"></span><span class=\"plain  rtl  \" ><span class=\"txtu ara\">ٱللَّهَ </span></span></span><span class=\"plain  rtl  \" ><span class=\"plain txtu ara rtl\"></span><span class=\"plain  rtl  \" ><span class=\"txtu ara\">عَلَىٰ </span></span></span><span class=\"plain  rtl  \" ><span class=\"plain txtu ara rtl\"></span><span class=\"plain  rtl  \" ><span class=\"txtu ara\">كُلِّ </span></span></span><span class=\"plain  rtl  \" ><span class=\"plain txtu ara rtl\"></span><span class=\"plain  rtl  \" ><span class=\"txtu ara\">شَىْءٍ </span></span></span><span class=\"plain  rtl  \" ><span class=\"plain txtu ara rtl\"></span><span class=\"plain  rtl  \" ><span class=\"txtu ara\">قَدِيرٌ</span></span></span></span></td></tr>\n",
       "<tr class=\"tf\"><td class=\"tf\">2</td><td class=\"tf\"><span class=\"section ltr\"><a target=\"_blank\" href=\"/#2:21\" title=\"show this passage on Tanzil\" sec=\"2:21\">2:21</a></span></td><td class=\"tf\"><span class=\"plain outer rtl  \" ><span class=\"plain txtu ara rtl\"></span><span class=\"plain  rtl  \" ><span class=\"plain txtu ara rtl\"></span><span class=\"plain  rtl  \" ><span class=\"txtu ara\">يَٰٓ</span></span><span class=\"plain  rtl  \" ><span class=\"txtu ara\">أَيُّهَا </span></span></span><span class=\"plain  rtl  \" ><span class=\"plain txtu ara rtl\"></span><span class=\"plain  rtl  \" ><span class=\"txtu ara\">ٱل</span></span><span class=\"plain  rtl  \" ><span class=\"txtu ara\">نَّاسُ </span></span></span><span class=\"plain  rtl  \" ><span class=\"plain txtu ara rtl\"></span><span class=\"plain  rtl  \" ><span class=\"txtu ara\">ٱعْبُدُ</span></span><span class=\"plain  rtl  \" ><span class=\"txtu ara\">وا۟ </span></span></span><span class=\"plain  rtl  \" ><span class=\"plain txtu ara rtl\"></span><span class=\"plain  rtl  \" ><span class=\"txtu ara\">رَبَّ</span></span><span class=\"plain  rtl  \" ><span class=\"txtu ara\">كُمُ </span></span></span><span class=\"plain  rtl  \" ><span class=\"plain txtu ara rtl\"></span><span class=\"plain  rtl  \" ><span class=\"txtu ara\">ٱلَّذِى </span></span></span><span class=\"plain  rtl  \" ><span class=\"plain txtu ara rtl\"></span><span class=\"plain  rtl  \" ><span class=\"txtu ara\">خَلَقَ</span></span><span class=\"plain  rtl  \" ><span class=\"txtu ara\">كُمْ </span></span></span><span class=\"plain  rtl  \" ><span class=\"plain txtu ara rtl\"></span><span class=\"plain  rtl  \" ><span class=\"txtu ara\">وَ</span></span><span class=\"plain  rtl  \" ><span class=\"txtu ara\">ٱلَّذِينَ </span></span></span><span class=\"plain  rtl  \" ><span class=\"plain txtu ara rtl\"></span><span class=\"plain  rtl  \" ><span class=\"txtu ara\">مِن </span></span></span><span class=\"plain  rtl  \" ><span class=\"plain txtu ara rtl\"></span><span class=\"plain  rtl  \" ><span class=\"txtu ara\">قَبْلِ</span></span><span class=\"plain  rtl  \" ><span class=\"txtu ara\">كُمْ </span></span></span><span class=\"plain  rtl  \" ><span class=\"plain txtu ara rtl\"></span><span class=\"plain  rtl  \" ><span class=\"txtu ara\">لَعَلَّ</span></span><span class=\"plain  rtl  \" ><span class=\"txtu ara\">كُمْ </span></span></span><span class=\"plain  rtl  \" ><span class=\"plain txtu ara rtl\"></span><span class=\"plain  rtl  \" ><span class=\"txtu ara\">تَتَّقُ</span></span><span class=\"plain  rtl  \" ><span class=\"txtu ara\">ونَ</span></span></span></span></td><td class=\"tf\"><span class=\"plain outer rtl  \" ><span class=\"plain txtu ara rtl\"></span><span class=\"plain  rtl  \" ><span class=\"plain txtu ara rtl\"></span><span class=\"plain  rtl  \" ><span class=\"txtu ara\">وَ</span></span><span class=\"plain  rtl  \" ><span class=\"txtu ara\">ٱلَّذِينَ </span></span></span><span class=\"plain  rtl  \" ><span class=\"plain txtu ara rtl\"></span><span class=\"plain  rtl  \" ><span class=\"txtu ara\">كَفَرُ</span></span><span class=\"plain  rtl  \" ><span class=\"txtu ara\">وا۟ </span></span></span><span class=\"plain  rtl  \" ><span class=\"plain txtu ara rtl\"></span><span class=\"plain  rtl  \" ><span class=\"txtu ara\">وَ</span></span><span class=\"plain  rtl  \" ><span class=\"txtu ara\">كَذَّبُ</span></span><span class=\"plain  rtl  \" ><span class=\"txtu ara\">وا۟ </span></span></span><span class=\"plain  rtl  \" ><span class=\"plain txtu ara rtl\"></span><span class=\"plain  rtl  \" ><span class=\"txtu ara\">بِ</span></span><span class=\"plain  rtl  \" ><span class=\"txtu ara\">ـَٔايَٰتِ</span></span><span class=\"plain  rtl  \" ><span class=\"txtu ara\">نَآ </span></span></span><span class=\"plain  rtl  \" ><span class=\"plain txtu ara rtl\"></span><span class=\"plain  rtl  \" ><span class=\"txtu ara\">أُو۟لَٰٓئِكَ </span></span></span><span class=\"plain  rtl  \" ><span class=\"plain txtu ara rtl\"></span><span class=\"plain  rtl  \" ><span class=\"txtu ara\">أَصْحَٰبُ </span></span></span><span class=\"plain  rtl  \" ><span class=\"plain txtu ara rtl\"></span><span class=\"plain  rtl  \" ><span class=\"txtu ara\">ٱل</span></span><span class=\"plain  rtl  \" ><span class=\"txtu ara\">نَّارِ </span></span></span><span class=\"plain  rtl  \" ><span class=\"plain txtu ara rtl\"></span><span class=\"plain  rtl  \" ><span class=\"txtu ara\">هُمْ </span></span></span><span class=\"plain  rtl  \" ><span class=\"plain txtu ara rtl\"></span><span class=\"plain  rtl  \" ><span class=\"txtu ara\">فِي</span></span><span class=\"plain  rtl  \" ><span class=\"txtu ara\">هَا </span></span></span><span class=\"plain  rtl  \" ><span class=\"plain txtu ara rtl\"></span><span class=\"plain  rtl  \" ><span class=\"txtu ara\">خَٰلِدُونَ</span></span></span></span></td></tr>\n",
       "<tr class=\"tf\"><td class=\"tf\">3</td><td class=\"tf\"><span class=\"section ltr\"><a target=\"_blank\" href=\"/#2:40\" title=\"show this passage on Tanzil\" sec=\"2:40\">2:40</a></span></td><td class=\"tf\"><span class=\"plain outer rtl  \" ><span class=\"plain txtu ara rtl\"></span><span class=\"plain  rtl  \" ><span class=\"plain txtu ara rtl\"></span><span class=\"plain  rtl  \" ><span class=\"txtu ara\">يَٰ</span></span><span class=\"plain  rtl  \" ><span class=\"txtu ara\">بَنِىٓ </span></span></span><span class=\"plain  rtl  \" ><span class=\"plain txtu ara rtl\"></span><span class=\"plain  rtl  \" ><span class=\"txtu ara\">إِسْرَٰٓءِيلَ </span></span></span><span class=\"plain  rtl  \" ><span class=\"plain txtu ara rtl\"></span><span class=\"plain  rtl  \" ><span class=\"txtu ara\">ٱذْكُرُ</span></span><span class=\"plain  rtl  \" ><span class=\"txtu ara\">وا۟ </span></span></span><span class=\"plain  rtl  \" ><span class=\"plain txtu ara rtl\"></span><span class=\"plain  rtl  \" ><span class=\"txtu ara\">نِعْمَتِ</span></span><span class=\"plain  rtl  \" ><span class=\"txtu ara\">ىَ </span></span></span><span class=\"plain  rtl  \" ><span class=\"plain txtu ara rtl\"></span><span class=\"plain  rtl  \" ><span class=\"txtu ara\">ٱلَّتِىٓ </span></span></span><span class=\"plain  rtl  \" ><span class=\"plain txtu ara rtl\"></span><span class=\"plain  rtl  \" ><span class=\"txtu ara\">أَنْعَمْ</span></span><span class=\"plain  rtl  \" ><span class=\"txtu ara\">تُ </span></span></span><span class=\"plain  rtl  \" ><span class=\"plain txtu ara rtl\"></span><span class=\"plain  rtl  \" ><span class=\"txtu ara\">عَلَيْ</span></span><span class=\"plain  rtl  \" ><span class=\"txtu ara\">كُمْ </span></span></span><span class=\"plain  rtl  \" ><span class=\"plain txtu ara rtl\"></span><span class=\"plain  rtl  \" ><span class=\"txtu ara\">وَ</span></span><span class=\"plain  rtl  \" ><span class=\"txtu ara\">أَوْفُ</span></span><span class=\"plain  rtl  \" ><span class=\"txtu ara\">وا۟ </span></span></span><span class=\"plain  rtl  \" ><span class=\"plain txtu ara rtl\"></span><span class=\"plain  rtl  \" ><span class=\"txtu ara\">بِ</span></span><span class=\"plain  rtl  \" ><span class=\"txtu ara\">عَهْدِ</span></span><span class=\"plain  rtl  \" ><span class=\"txtu ara\">ىٓ </span></span></span><span class=\"plain  rtl  \" ><span class=\"plain txtu ara rtl\"></span><span class=\"plain  rtl  \" ><span class=\"txtu ara\">أُوفِ </span></span></span><span class=\"plain  rtl  \" ><span class=\"plain txtu ara rtl\"></span><span class=\"plain  rtl  \" ><span class=\"txtu ara\">بِ</span></span><span class=\"plain  rtl  \" ><span class=\"txtu ara\">عَهْدِ</span></span><span class=\"plain  rtl  \" ><span class=\"txtu ara\">كُمْ </span></span></span><span class=\"plain  rtl  \" ><span class=\"plain txtu ara rtl\"></span><span class=\"plain  rtl  \" ><span class=\"txtu ara\">وَ</span></span><span class=\"plain  rtl  \" ><span class=\"txtu ara\">إِيَّٰىَ </span></span></span><span class=\"plain  rtl  \" ><span class=\"plain txtu ara rtl\"></span><span class=\"plain  rtl  \" ><span class=\"txtu ara\">فَ</span></span><span class=\"plain  rtl  \" ><span class=\"txtu ara\">ٱرْهَبُ</span></span><span class=\"plain  rtl  \" ><span class=\"txtu ara\">و</span></span><span class=\"plain  rtl  \" ><span class=\"txtu ara\">نِ</span></span></span></span></td><td class=\"tf\"><span class=\"plain outer rtl  \" ><span class=\"plain txtu ara rtl\"></span><span class=\"plain  rtl  \" ><span class=\"plain txtu ara rtl\"></span><span class=\"plain  rtl  \" ><span class=\"txtu ara\">وَ</span></span><span class=\"plain  rtl  \" ><span class=\"txtu ara\">لَوْ </span></span></span><span class=\"plain  rtl  \" ><span class=\"plain txtu ara rtl\"></span><span class=\"plain  rtl  \" ><span class=\"txtu ara\">أَنَّ</span></span><span class=\"plain  rtl  \" ><span class=\"txtu ara\">هُمْ </span></span></span><span class=\"plain  rtl  \" ><span class=\"plain txtu ara rtl\"></span><span class=\"plain  rtl  \" ><span class=\"txtu ara\">ءَامَنُ</span></span><span class=\"plain  rtl  \" ><span class=\"txtu ara\">وا۟ </span></span></span><span class=\"plain  rtl  \" ><span class=\"plain txtu ara rtl\"></span><span class=\"plain  rtl  \" ><span class=\"txtu ara\">وَ</span></span><span class=\"plain  rtl  \" ><span class=\"txtu ara\">ٱتَّقَ</span></span><span class=\"plain  rtl  \" ><span class=\"txtu ara\">وْا۟ </span></span></span><span class=\"plain  rtl  \" ><span class=\"plain txtu ara rtl\"></span><span class=\"plain  rtl  \" ><span class=\"txtu ara\">لَ</span></span><span class=\"plain  rtl  \" ><span class=\"txtu ara\">مَثُوبَةٌ </span></span></span><span class=\"plain  rtl  \" ><span class=\"plain txtu ara rtl\"></span><span class=\"plain  rtl  \" ><span class=\"txtu ara\">مِّنْ </span></span></span><span class=\"plain  rtl  \" ><span class=\"plain txtu ara rtl\"></span><span class=\"plain  rtl  \" ><span class=\"txtu ara\">عِندِ </span></span></span><span class=\"plain  rtl  \" ><span class=\"plain txtu ara rtl\"></span><span class=\"plain  rtl  \" ><span class=\"txtu ara\">ٱللَّهِ </span></span></span><span class=\"plain  rtl  \" ><span class=\"plain txtu ara rtl\"></span><span class=\"plain  rtl  \" ><span class=\"txtu ara\">خَيْرٌ </span></span></span><span class=\"plain  rtl  \" ><span class=\"plain txtu ara rtl\"></span><span class=\"plain  rtl  \" ><span class=\"txtu ara\">لَّوْ </span></span></span><span class=\"plain  rtl  \" ><span class=\"plain txtu ara rtl\"></span><span class=\"plain  rtl  \" ><span class=\"txtu ara\">كَانُ</span></span><span class=\"plain  rtl  \" ><span class=\"txtu ara\">وا۟ </span></span></span><span class=\"plain  rtl  \" ><span class=\"plain txtu ara rtl\"></span><span class=\"plain  rtl  \" ><span class=\"txtu ara\">يَعْلَمُ</span></span><span class=\"plain  rtl  \" ><span class=\"txtu ara\">ونَ</span></span></span></span></td></tr>\n",
       "<tr class=\"tf\"><td class=\"tf\">4</td><td class=\"tf\"><span class=\"section ltr\"><a target=\"_blank\" href=\"/#2:104\" title=\"show this passage on Tanzil\" sec=\"2:104\">2:104</a></span></td><td class=\"tf\"><span class=\"plain outer rtl  \" ><span class=\"plain txtu ara rtl\"></span><span class=\"plain  rtl  \" ><span class=\"plain txtu ara rtl\"></span><span class=\"plain  rtl  \" ><span class=\"txtu ara\">يَٰٓ</span></span><span class=\"plain  rtl  \" ><span class=\"txtu ara\">أَيُّهَا </span></span></span><span class=\"plain  rtl  \" ><span class=\"plain txtu ara rtl\"></span><span class=\"plain  rtl  \" ><span class=\"txtu ara\">ٱلَّذِينَ </span></span></span><span class=\"plain  rtl  \" ><span class=\"plain txtu ara rtl\"></span><span class=\"plain  rtl  \" ><span class=\"txtu ara\">ءَامَنُ</span></span><span class=\"plain  rtl  \" ><span class=\"txtu ara\">وا۟ </span></span></span><span class=\"plain  rtl  \" ><span class=\"plain txtu ara rtl\"></span><span class=\"plain  rtl  \" ><span class=\"txtu ara\">لَا </span></span></span><span class=\"plain  rtl  \" ><span class=\"plain txtu ara rtl\"></span><span class=\"plain  rtl  \" ><span class=\"txtu ara\">تَقُولُ</span></span><span class=\"plain  rtl  \" ><span class=\"txtu ara\">وا۟ </span></span></span><span class=\"plain  rtl  \" ><span class=\"plain txtu ara rtl\"></span><span class=\"plain  rtl  \" ><span class=\"txtu ara\">رَٰعِ</span></span><span class=\"plain  rtl  \" ><span class=\"txtu ara\">نَا </span></span></span><span class=\"plain  rtl  \" ><span class=\"plain txtu ara rtl\"></span><span class=\"plain  rtl  \" ><span class=\"txtu ara\">وَ</span></span><span class=\"plain  rtl  \" ><span class=\"txtu ara\">قُولُ</span></span><span class=\"plain  rtl  \" ><span class=\"txtu ara\">وا۟ </span></span></span><span class=\"plain  rtl  \" ><span class=\"plain txtu ara rtl\"></span><span class=\"plain  rtl  \" ><span class=\"txtu ara\">ٱنظُرْ</span></span><span class=\"plain  rtl  \" ><span class=\"txtu ara\">نَا </span></span></span><span class=\"plain  rtl  \" ><span class=\"plain txtu ara rtl\"></span><span class=\"plain  rtl  \" ><span class=\"txtu ara\">وَ</span></span><span class=\"plain  rtl  \" ><span class=\"txtu ara\">ٱسْمَعُ</span></span><span class=\"plain  rtl  \" ><span class=\"txtu ara\">وا۟ </span></span></span><span class=\"plain  rtl  \" ><span class=\"plain txtu ara rtl\"></span><span class=\"plain  rtl  \" ><span class=\"txtu ara\">وَ</span></span><span class=\"plain  rtl  \" ><span class=\"txtu ara\">لِ</span></span><span class=\"plain  rtl  \" ><span class=\"txtu ara\">لْ</span></span><span class=\"plain  rtl  \" ><span class=\"txtu ara\">كَٰفِرِينَ </span></span></span><span class=\"plain  rtl  \" ><span class=\"plain txtu ara rtl\"></span><span class=\"plain  rtl  \" ><span class=\"txtu ara\">عَذَابٌ </span></span></span><span class=\"plain  rtl  \" ><span class=\"plain txtu ara rtl\"></span><span class=\"plain  rtl  \" ><span class=\"txtu ara\">أَلِيمٌ</span></span></span></span></td><td class=\"tf\"><span class=\"plain outer rtl  \" ><span class=\"plain txtu ara rtl\"></span><span class=\"plain  rtl  \" ><span class=\"plain txtu ara rtl\"></span><span class=\"plain  rtl  \" ><span class=\"txtu ara\">تِلْكَ </span></span></span><span class=\"plain  rtl  \" ><span class=\"plain txtu ara rtl\"></span><span class=\"plain  rtl  \" ><span class=\"txtu ara\">أُمَّةٌ </span></span></span><span class=\"plain  rtl  \" ><span class=\"plain txtu ara rtl\"></span><span class=\"plain  rtl  \" ><span class=\"txtu ara\">قَدْ </span></span></span><span class=\"plain  rtl  \" ><span class=\"plain txtu ara rtl\"></span><span class=\"plain  rtl  \" ><span class=\"txtu ara\">خَلَتْ </span></span></span><span class=\"plain  rtl  \" ><span class=\"plain txtu ara rtl\"></span><span class=\"plain  rtl  \" ><span class=\"txtu ara\">لَ</span></span><span class=\"plain  rtl  \" ><span class=\"txtu ara\">هَا </span></span></span><span class=\"plain  rtl  \" ><span class=\"plain txtu ara rtl\"></span><span class=\"plain  rtl  \" ><span class=\"txtu ara\">مَا </span></span></span><span class=\"plain  rtl  \" ><span class=\"plain txtu ara rtl\"></span><span class=\"plain  rtl  \" ><span class=\"txtu ara\">كَسَبَتْ </span></span></span><span class=\"plain  rtl  \" ><span class=\"plain txtu ara rtl\"></span><span class=\"plain  rtl  \" ><span class=\"txtu ara\">وَ</span></span><span class=\"plain  rtl  \" ><span class=\"txtu ara\">لَ</span></span><span class=\"plain  rtl  \" ><span class=\"txtu ara\">كُم </span></span></span><span class=\"plain  rtl  \" ><span class=\"plain txtu ara rtl\"></span><span class=\"plain  rtl  \" ><span class=\"txtu ara\">مَّا </span></span></span><span class=\"plain  rtl  \" ><span class=\"plain txtu ara rtl\"></span><span class=\"plain  rtl  \" ><span class=\"txtu ara\">كَسَبْ</span></span><span class=\"plain  rtl  \" ><span class=\"txtu ara\">تُمْ </span></span></span><span class=\"plain  rtl  \" ><span class=\"plain txtu ara rtl\"></span><span class=\"plain  rtl  \" ><span class=\"txtu ara\">وَ</span></span><span class=\"plain  rtl  \" ><span class=\"txtu ara\">لَا </span></span></span><span class=\"plain  rtl  \" ><span class=\"plain txtu ara rtl\"></span><span class=\"plain  rtl  \" ><span class=\"txtu ara\">تُسْـَٔلُ</span></span><span class=\"plain  rtl  \" ><span class=\"txtu ara\">ونَ </span></span></span><span class=\"plain  rtl  \" ><span class=\"plain txtu ara rtl\"></span><span class=\"plain  rtl  \" ><span class=\"txtu ara\">عَ</span></span><span class=\"plain  rtl  \" ><span class=\"txtu ara\">مَّا </span></span></span><span class=\"plain  rtl  \" ><span class=\"plain txtu ara rtl\"></span><span class=\"plain  rtl  \" ><span class=\"txtu ara\">كَانُ</span></span><span class=\"plain  rtl  \" ><span class=\"txtu ara\">وا۟ </span></span></span><span class=\"plain  rtl  \" ><span class=\"plain txtu ara rtl\"></span><span class=\"plain  rtl  \" ><span class=\"txtu ara\">يَعْمَلُ</span></span><span class=\"plain  rtl  \" ><span class=\"txtu ara\">ونَ</span></span></span></span></td></tr>\n",
       "<tr class=\"tf\"><td class=\"tf\">5</td><td class=\"tf\"><span class=\"section ltr\"><a target=\"_blank\" href=\"/#2:142\" title=\"show this passage on Tanzil\" sec=\"2:142\">2:142</a></span></td><td class=\"tf\"><span class=\"plain outer rtl  \" ><span class=\"plain txtu ara rtl\"></span><span class=\"plain  rtl  \" ><span class=\"plain txtu ara rtl\"></span><span class=\"plain  rtl  \" ><span class=\"txtu ara\">سَ</span></span><span class=\"plain  rtl  \" ><span class=\"txtu ara\">يَقُولُ </span></span></span><span class=\"plain  rtl  \" ><span class=\"plain txtu ara rtl\"></span><span class=\"plain  rtl  \" ><span class=\"txtu ara\">ٱل</span></span><span class=\"plain  rtl  \" ><span class=\"txtu ara\">سُّفَهَآءُ </span></span></span><span class=\"plain  rtl  \" ><span class=\"plain txtu ara rtl\"></span><span class=\"plain  rtl  \" ><span class=\"txtu ara\">مِنَ </span></span></span><span class=\"plain  rtl  \" ><span class=\"plain txtu ara rtl\"></span><span class=\"plain  rtl  \" ><span class=\"txtu ara\">ٱل</span></span><span class=\"plain  rtl  \" ><span class=\"txtu ara\">نَّاسِ </span></span></span><span class=\"plain  rtl  \" ><span class=\"plain txtu ara rtl\"></span><span class=\"plain  rtl  \" ><span class=\"txtu ara\">مَا </span></span></span><span class=\"plain  rtl  \" ><span class=\"plain txtu ara rtl\"></span><span class=\"plain  rtl  \" ><span class=\"txtu ara\">وَلَّىٰ</span></span><span class=\"plain  rtl  \" ><span class=\"txtu ara\">هُمْ </span></span></span><span class=\"plain  rtl  \" ><span class=\"plain txtu ara rtl\"></span><span class=\"plain  rtl  \" ><span class=\"txtu ara\">عَن </span></span></span><span class=\"plain  rtl  \" ><span class=\"plain txtu ara rtl\"></span><span class=\"plain  rtl  \" ><span class=\"txtu ara\">قِبْلَتِ</span></span><span class=\"plain  rtl  \" ><span class=\"txtu ara\">هِمُ </span></span></span><span class=\"plain  rtl  \" ><span class=\"plain txtu ara rtl\"></span><span class=\"plain  rtl  \" ><span class=\"txtu ara\">ٱلَّتِى </span></span></span><span class=\"plain  rtl  \" ><span class=\"plain txtu ara rtl\"></span><span class=\"plain  rtl  \" ><span class=\"txtu ara\">كَانُ</span></span><span class=\"plain  rtl  \" ><span class=\"txtu ara\">وا۟ </span></span></span><span class=\"plain  rtl  \" ><span class=\"plain txtu ara rtl\"></span><span class=\"plain  rtl  \" ><span class=\"txtu ara\">عَلَيْ</span></span><span class=\"plain  rtl  \" ><span class=\"txtu ara\">هَا </span></span></span><span class=\"plain  rtl  \" ><span class=\"plain txtu ara rtl\"></span><span class=\"plain  rtl  \" ><span class=\"txtu ara\">قُل </span></span></span><span class=\"plain  rtl  \" ><span class=\"plain txtu ara rtl\"></span><span class=\"plain  rtl  \" ><span class=\"txtu ara\">لِّ</span></span><span class=\"plain  rtl  \" ><span class=\"txtu ara\">لَّهِ </span></span></span><span class=\"plain  rtl  \" ><span class=\"plain txtu ara rtl\"></span><span class=\"plain  rtl  \" ><span class=\"txtu ara\">ٱلْ</span></span><span class=\"plain  rtl  \" ><span class=\"txtu ara\">مَشْرِقُ </span></span></span><span class=\"plain  rtl  \" ><span class=\"plain txtu ara rtl\"></span><span class=\"plain  rtl  \" ><span class=\"txtu ara\">وَ</span></span><span class=\"plain  rtl  \" ><span class=\"txtu ara\">ٱلْ</span></span><span class=\"plain  rtl  \" ><span class=\"txtu ara\">مَغْرِبُ </span></span></span><span class=\"plain  rtl  \" ><span class=\"plain txtu ara rtl\"></span><span class=\"plain  rtl  \" ><span class=\"txtu ara\">يَهْدِى </span></span></span><span class=\"plain  rtl  \" ><span class=\"plain txtu ara rtl\"></span><span class=\"plain  rtl  \" ><span class=\"txtu ara\">مَن </span></span></span><span class=\"plain  rtl  \" ><span class=\"plain txtu ara rtl\"></span><span class=\"plain  rtl  \" ><span class=\"txtu ara\">يَشَآءُ </span></span></span><span class=\"plain  rtl  \" ><span class=\"plain txtu ara rtl\"></span><span class=\"plain  rtl  \" ><span class=\"txtu ara\">إِلَىٰ </span></span></span><span class=\"plain  rtl  \" ><span class=\"plain txtu ara rtl\"></span><span class=\"plain  rtl  \" ><span class=\"txtu ara\">صِرَٰطٍ </span></span></span><span class=\"plain  rtl  \" ><span class=\"plain txtu ara rtl\"></span><span class=\"plain  rtl  \" ><span class=\"txtu ara\">مُّسْتَقِيمٍ</span></span></span></span></td><td class=\"tf\"><span class=\"plain outer rtl  \" ><span class=\"plain txtu ara rtl\"></span><span class=\"plain  rtl  \" ><span class=\"plain txtu ara rtl\"></span><span class=\"plain  rtl  \" ><span class=\"txtu ara\">فَ</span></span><span class=\"plain  rtl  \" ><span class=\"txtu ara\">ٱذْكُرُ</span></span><span class=\"plain  rtl  \" ><span class=\"txtu ara\">و</span></span><span class=\"plain  rtl  \" ><span class=\"txtu ara\">نِىٓ </span></span></span><span class=\"plain  rtl  \" ><span class=\"plain txtu ara rtl\"></span><span class=\"plain  rtl  \" ><span class=\"txtu ara\">أَذْكُرْ</span></span><span class=\"plain  rtl  \" ><span class=\"txtu ara\">كُمْ </span></span></span><span class=\"plain  rtl  \" ><span class=\"plain txtu ara rtl\"></span><span class=\"plain  rtl  \" ><span class=\"txtu ara\">وَ</span></span><span class=\"plain  rtl  \" ><span class=\"txtu ara\">ٱشْكُرُ</span></span><span class=\"plain  rtl  \" ><span class=\"txtu ara\">وا۟ </span></span></span><span class=\"plain  rtl  \" ><span class=\"plain txtu ara rtl\"></span><span class=\"plain  rtl  \" ><span class=\"txtu ara\">لِ</span></span><span class=\"plain  rtl  \" ><span class=\"txtu ara\">ى </span></span></span><span class=\"plain  rtl  \" ><span class=\"plain txtu ara rtl\"></span><span class=\"plain  rtl  \" ><span class=\"txtu ara\">وَ</span></span><span class=\"plain  rtl  \" ><span class=\"txtu ara\">لَا </span></span></span><span class=\"plain  rtl  \" ><span class=\"plain txtu ara rtl\"></span><span class=\"plain  rtl  \" ><span class=\"txtu ara\">تَكْفُرُ</span></span><span class=\"plain  rtl  \" ><span class=\"txtu ara\">و</span></span><span class=\"plain  rtl  \" ><span class=\"txtu ara\">نِ</span></span></span></span></td></tr>\n",
       "<tr class=\"tf\"><td class=\"tf\">6</td><td class=\"tf\"><span class=\"section ltr\"><a target=\"_blank\" href=\"/#2:153\" title=\"show this passage on Tanzil\" sec=\"2:153\">2:153</a></span></td><td class=\"tf\"><span class=\"plain outer rtl  \" ><span class=\"plain txtu ara rtl\"></span><span class=\"plain  rtl  \" ><span class=\"plain txtu ara rtl\"></span><span class=\"plain  rtl  \" ><span class=\"txtu ara\">يَٰٓ</span></span><span class=\"plain  rtl  \" ><span class=\"txtu ara\">أَيُّهَا </span></span></span><span class=\"plain  rtl  \" ><span class=\"plain txtu ara rtl\"></span><span class=\"plain  rtl  \" ><span class=\"txtu ara\">ٱلَّذِينَ </span></span></span><span class=\"plain  rtl  \" ><span class=\"plain txtu ara rtl\"></span><span class=\"plain  rtl  \" ><span class=\"txtu ara\">ءَامَنُ</span></span><span class=\"plain  rtl  \" ><span class=\"txtu ara\">وا۟ </span></span></span><span class=\"plain  rtl  \" ><span class=\"plain txtu ara rtl\"></span><span class=\"plain  rtl  \" ><span class=\"txtu ara\">ٱسْتَعِينُ</span></span><span class=\"plain  rtl  \" ><span class=\"txtu ara\">وا۟ </span></span></span><span class=\"plain  rtl  \" ><span class=\"plain txtu ara rtl\"></span><span class=\"plain  rtl  \" ><span class=\"txtu ara\">بِ</span></span><span class=\"plain  rtl  \" ><span class=\"txtu ara\">ٱل</span></span><span class=\"plain  rtl  \" ><span class=\"txtu ara\">صَّبْرِ </span></span></span><span class=\"plain  rtl  \" ><span class=\"plain txtu ara rtl\"></span><span class=\"plain  rtl  \" ><span class=\"txtu ara\">وَ</span></span><span class=\"plain  rtl  \" ><span class=\"txtu ara\">ٱل</span></span><span class=\"plain  rtl  \" ><span class=\"txtu ara\">صَّلَوٰةِ </span></span></span><span class=\"plain  rtl  \" ><span class=\"plain txtu ara rtl\"></span><span class=\"plain  rtl  \" ><span class=\"txtu ara\">إِنَّ </span></span></span><span class=\"plain  rtl  \" ><span class=\"plain txtu ara rtl\"></span><span class=\"plain  rtl  \" ><span class=\"txtu ara\">ٱللَّهَ </span></span></span><span class=\"plain  rtl  \" ><span class=\"plain txtu ara rtl\"></span><span class=\"plain  rtl  \" ><span class=\"txtu ara\">مَعَ </span></span></span><span class=\"plain  rtl  \" ><span class=\"plain txtu ara rtl\"></span><span class=\"plain  rtl  \" ><span class=\"txtu ara\">ٱل</span></span><span class=\"plain  rtl  \" ><span class=\"txtu ara\">صَّٰبِرِينَ</span></span></span></span></td><td class=\"tf\"><span class=\"plain outer rtl  \" ><span class=\"plain txtu ara rtl\"></span><span class=\"plain  rtl  \" ><span class=\"plain txtu ara rtl\"></span><span class=\"plain  rtl  \" ><span class=\"txtu ara\">لَّيْسَ </span></span></span><span class=\"plain  rtl  \" ><span class=\"plain txtu ara rtl\"></span><span class=\"plain  rtl  \" ><span class=\"txtu ara\">ٱلْ</span></span><span class=\"plain  rtl  \" ><span class=\"txtu ara\">بِرَّ </span></span></span><span class=\"plain  rtl  \" ><span class=\"plain txtu ara rtl\"></span><span class=\"plain  rtl  \" ><span class=\"txtu ara\">أَن </span></span></span><span class=\"plain  rtl  \" ><span class=\"plain txtu ara rtl\"></span><span class=\"plain  rtl  \" ><span class=\"txtu ara\">تُوَلُّ</span></span><span class=\"plain  rtl  \" ><span class=\"txtu ara\">وا۟ </span></span></span><span class=\"plain  rtl  \" ><span class=\"plain txtu ara rtl\"></span><span class=\"plain  rtl  \" ><span class=\"txtu ara\">وُجُوهَ</span></span><span class=\"plain  rtl  \" ><span class=\"txtu ara\">كُمْ </span></span></span><span class=\"plain  rtl  \" ><span class=\"plain txtu ara rtl\"></span><span class=\"plain  rtl  \" ><span class=\"txtu ara\">قِبَلَ </span></span></span><span class=\"plain  rtl  \" ><span class=\"plain txtu ara rtl\"></span><span class=\"plain  rtl  \" ><span class=\"txtu ara\">ٱلْ</span></span><span class=\"plain  rtl  \" ><span class=\"txtu ara\">مَشْرِقِ </span></span></span><span class=\"plain  rtl  \" ><span class=\"plain txtu ara rtl\"></span><span class=\"plain  rtl  \" ><span class=\"txtu ara\">وَ</span></span><span class=\"plain  rtl  \" ><span class=\"txtu ara\">ٱلْ</span></span><span class=\"plain  rtl  \" ><span class=\"txtu ara\">مَغْرِبِ </span></span></span><span class=\"plain  rtl  \" ><span class=\"plain txtu ara rtl\"></span><span class=\"plain  rtl  \" ><span class=\"txtu ara\">وَ</span></span><span class=\"plain  rtl  \" ><span class=\"txtu ara\">لَٰكِنَّ </span></span></span><span class=\"plain  rtl  \" ><span class=\"plain txtu ara rtl\"></span><span class=\"plain  rtl  \" ><span class=\"txtu ara\">ٱلْ</span></span><span class=\"plain  rtl  \" ><span class=\"txtu ara\">بِرَّ </span></span></span><span class=\"plain  rtl  \" ><span class=\"plain txtu ara rtl\"></span><span class=\"plain  rtl  \" ><span class=\"txtu ara\">مَنْ </span></span></span><span class=\"plain  rtl  \" ><span class=\"plain txtu ara rtl\"></span><span class=\"plain  rtl  \" ><span class=\"txtu ara\">ءَامَنَ </span></span></span><span class=\"plain  rtl  \" ><span class=\"plain txtu ara rtl\"></span><span class=\"plain  rtl  \" ><span class=\"txtu ara\">بِ</span></span><span class=\"plain  rtl  \" ><span class=\"txtu ara\">ٱللَّهِ </span></span></span><span class=\"plain  rtl  \" ><span class=\"plain txtu ara rtl\"></span><span class=\"plain  rtl  \" ><span class=\"txtu ara\">وَ</span></span><span class=\"plain  rtl  \" ><span class=\"txtu ara\">ٱلْ</span></span><span class=\"plain  rtl  \" ><span class=\"txtu ara\">يَوْمِ </span></span></span><span class=\"plain  rtl  \" ><span class=\"plain txtu ara rtl\"></span><span class=\"plain  rtl  \" ><span class=\"txtu ara\">ٱلْ</span></span><span class=\"plain  rtl  \" ><span class=\"txtu ara\">ءَاخِرِ </span></span></span><span class=\"plain  rtl  \" ><span class=\"plain txtu ara rtl\"></span><span class=\"plain  rtl  \" ><span class=\"txtu ara\">وَ</span></span><span class=\"plain  rtl  \" ><span class=\"txtu ara\">ٱلْ</span></span><span class=\"plain  rtl  \" ><span class=\"txtu ara\">مَلَٰٓئِكَةِ </span></span></span><span class=\"plain  rtl  \" ><span class=\"plain txtu ara rtl\"></span><span class=\"plain  rtl  \" ><span class=\"txtu ara\">وَ</span></span><span class=\"plain  rtl  \" ><span class=\"txtu ara\">ٱلْ</span></span><span class=\"plain  rtl  \" ><span class=\"txtu ara\">كِتَٰبِ </span></span></span><span class=\"plain  rtl  \" ><span class=\"plain txtu ara rtl\"></span><span class=\"plain  rtl  \" ><span class=\"txtu ara\">وَ</span></span><span class=\"plain  rtl  \" ><span class=\"txtu ara\">ٱل</span></span><span class=\"plain  rtl  \" ><span class=\"txtu ara\">نَّبِيِّۦنَ </span></span></span><span class=\"plain  rtl  \" ><span class=\"plain txtu ara rtl\"></span><span class=\"plain  rtl  \" ><span class=\"txtu ara\">وَ</span></span><span class=\"plain  rtl  \" ><span class=\"txtu ara\">ءَاتَى </span></span></span><span class=\"plain  rtl  \" ><span class=\"plain txtu ara rtl\"></span><span class=\"plain  rtl  \" ><span class=\"txtu ara\">ٱلْ</span></span><span class=\"plain  rtl  \" ><span class=\"txtu ara\">مَالَ </span></span></span><span class=\"plain  rtl  \" ><span class=\"plain txtu ara rtl\"></span><span class=\"plain  rtl  \" ><span class=\"txtu ara\">عَلَىٰ </span></span></span><span class=\"plain  rtl  \" ><span class=\"plain txtu ara rtl\"></span><span class=\"plain  rtl  \" ><span class=\"txtu ara\">حُبِّ</span></span><span class=\"plain  rtl  \" ><span class=\"txtu ara\">هِۦ </span></span></span><span class=\"plain  rtl  \" ><span class=\"plain txtu ara rtl\"></span><span class=\"plain  rtl  \" ><span class=\"txtu ara\">ذَوِى </span></span></span><span class=\"plain  rtl  \" ><span class=\"plain txtu ara rtl\"></span><span class=\"plain  rtl  \" ><span class=\"txtu ara\">ٱلْ</span></span><span class=\"plain  rtl  \" ><span class=\"txtu ara\">قُرْبَىٰ </span></span></span><span class=\"plain  rtl  \" ><span class=\"plain txtu ara rtl\"></span><span class=\"plain  rtl  \" ><span class=\"txtu ara\">وَ</span></span><span class=\"plain  rtl  \" ><span class=\"txtu ara\">ٱلْ</span></span><span class=\"plain  rtl  \" ><span class=\"txtu ara\">يَتَٰمَىٰ </span></span></span><span class=\"plain  rtl  \" ><span class=\"plain txtu ara rtl\"></span><span class=\"plain  rtl  \" ><span class=\"txtu ara\">وَ</span></span><span class=\"plain  rtl  \" ><span class=\"txtu ara\">ٱلْ</span></span><span class=\"plain  rtl  \" ><span class=\"txtu ara\">مَسَٰكِينَ </span></span></span><span class=\"plain  rtl  \" ><span class=\"plain txtu ara rtl\"></span><span class=\"plain  rtl  \" ><span class=\"txtu ara\">وَ</span></span><span class=\"plain  rtl  \" ><span class=\"txtu ara\">ٱبْنَ </span></span></span><span class=\"plain  rtl  \" ><span class=\"plain txtu ara rtl\"></span><span class=\"plain  rtl  \" ><span class=\"txtu ara\">ٱل</span></span><span class=\"plain  rtl  \" ><span class=\"txtu ara\">سَّبِيلِ </span></span></span><span class=\"plain  rtl  \" ><span class=\"plain txtu ara rtl\"></span><span class=\"plain  rtl  \" ><span class=\"txtu ara\">وَ</span></span><span class=\"plain  rtl  \" ><span class=\"txtu ara\">ٱل</span></span><span class=\"plain  rtl  \" ><span class=\"txtu ara\">سَّآئِلِينَ </span></span></span><span class=\"plain  rtl  \" ><span class=\"plain txtu ara rtl\"></span><span class=\"plain  rtl  \" ><span class=\"txtu ara\">وَ</span></span><span class=\"plain  rtl  \" ><span class=\"txtu ara\">فِى </span></span></span><span class=\"plain  rtl  \" ><span class=\"plain txtu ara rtl\"></span><span class=\"plain  rtl  \" ><span class=\"txtu ara\">ٱل</span></span><span class=\"plain  rtl  \" ><span class=\"txtu ara\">رِّقَابِ </span></span></span><span class=\"plain  rtl  \" ><span class=\"plain txtu ara rtl\"></span><span class=\"plain  rtl  \" ><span class=\"txtu ara\">وَ</span></span><span class=\"plain  rtl  \" ><span class=\"txtu ara\">أَقَامَ </span></span></span><span class=\"plain  rtl  \" ><span class=\"plain txtu ara rtl\"></span><span class=\"plain  rtl  \" ><span class=\"txtu ara\">ٱل</span></span><span class=\"plain  rtl  \" ><span class=\"txtu ara\">صَّلَوٰةَ </span></span></span><span class=\"plain  rtl  \" ><span class=\"plain txtu ara rtl\"></span><span class=\"plain  rtl  \" ><span class=\"txtu ara\">وَ</span></span><span class=\"plain  rtl  \" ><span class=\"txtu ara\">ءَاتَى </span></span></span><span class=\"plain  rtl  \" ><span class=\"plain txtu ara rtl\"></span><span class=\"plain  rtl  \" ><span class=\"txtu ara\">ٱل</span></span><span class=\"plain  rtl  \" ><span class=\"txtu ara\">زَّكَوٰةَ </span></span></span><span class=\"plain  rtl  \" ><span class=\"plain txtu ara rtl\"></span><span class=\"plain  rtl  \" ><span class=\"txtu ara\">وَ</span></span><span class=\"plain  rtl  \" ><span class=\"txtu ara\">ٱلْ</span></span><span class=\"plain  rtl  \" ><span class=\"txtu ara\">مُوفُونَ </span></span></span><span class=\"plain  rtl  \" ><span class=\"plain txtu ara rtl\"></span><span class=\"plain  rtl  \" ><span class=\"txtu ara\">بِ</span></span><span class=\"plain  rtl  \" ><span class=\"txtu ara\">عَهْدِ</span></span><span class=\"plain  rtl  \" ><span class=\"txtu ara\">هِمْ </span></span></span><span class=\"plain  rtl  \" ><span class=\"plain txtu ara rtl\"></span><span class=\"plain  rtl  \" ><span class=\"txtu ara\">إِذَا </span></span></span><span class=\"plain  rtl  \" ><span class=\"plain txtu ara rtl\"></span><span class=\"plain  rtl  \" ><span class=\"txtu ara\">عَٰهَدُ</span></span><span class=\"plain  rtl  \" ><span class=\"txtu ara\">وا۟ </span></span></span><span class=\"plain  rtl  \" ><span class=\"plain txtu ara rtl\"></span><span class=\"plain  rtl  \" ><span class=\"txtu ara\">وَ</span></span><span class=\"plain  rtl  \" ><span class=\"txtu ara\">ٱل</span></span><span class=\"plain  rtl  \" ><span class=\"txtu ara\">صَّٰبِرِينَ </span></span></span><span class=\"plain  rtl  \" ><span class=\"plain txtu ara rtl\"></span><span class=\"plain  rtl  \" ><span class=\"txtu ara\">فِى </span></span></span><span class=\"plain  rtl  \" ><span class=\"plain txtu ara rtl\"></span><span class=\"plain  rtl  \" ><span class=\"txtu ara\">ٱلْ</span></span><span class=\"plain  rtl  \" ><span class=\"txtu ara\">بَأْسَآءِ </span></span></span><span class=\"plain  rtl  \" ><span class=\"plain txtu ara rtl\"></span><span class=\"plain  rtl  \" ><span class=\"txtu ara\">وَ</span></span><span class=\"plain  rtl  \" ><span class=\"txtu ara\">ٱل</span></span><span class=\"plain  rtl  \" ><span class=\"txtu ara\">ضَّرَّآءِ </span></span></span><span class=\"plain  rtl  \" ><span class=\"plain txtu ara rtl\"></span><span class=\"plain  rtl  \" ><span class=\"txtu ara\">وَ</span></span><span class=\"plain  rtl  \" ><span class=\"txtu ara\">حِينَ </span></span></span><span class=\"plain  rtl  \" ><span class=\"plain txtu ara rtl\"></span><span class=\"plain  rtl  \" ><span class=\"txtu ara\">ٱلْ</span></span><span class=\"plain  rtl  \" ><span class=\"txtu ara\">بَأْسِ </span></span></span><span class=\"plain  rtl  \" ><span class=\"plain txtu ara rtl\"></span><span class=\"plain  rtl  \" ><span class=\"txtu ara\">أُو۟لَٰٓئِكَ </span></span></span><span class=\"plain  rtl  \" ><span class=\"plain txtu ara rtl\"></span><span class=\"plain  rtl  \" ><span class=\"txtu ara\">ٱلَّذِينَ </span></span></span><span class=\"plain  rtl  \" ><span class=\"plain txtu ara rtl\"></span><span class=\"plain  rtl  \" ><span class=\"txtu ara\">صَدَقُ</span></span><span class=\"plain  rtl  \" ><span class=\"txtu ara\">وا۟ </span></span></span><span class=\"plain  rtl  \" ><span class=\"plain txtu ara rtl\"></span><span class=\"plain  rtl  \" ><span class=\"txtu ara\">وَ</span></span><span class=\"plain  rtl  \" ><span class=\"txtu ara\">أُو۟لَٰٓئِكَ </span></span></span><span class=\"plain  rtl  \" ><span class=\"plain txtu ara rtl\"></span><span class=\"plain  rtl  \" ><span class=\"txtu ara\">هُمُ </span></span></span><span class=\"plain  rtl  \" ><span class=\"plain txtu ara rtl\"></span><span class=\"plain  rtl  \" ><span class=\"txtu ara\">ٱلْ</span></span><span class=\"plain  rtl  \" ><span class=\"txtu ara\">مُتَّقُونَ</span></span></span></span></td></tr>\n",
       "<tr class=\"tf\"><td class=\"tf\">7</td><td class=\"tf\"><span class=\"section ltr\"><a target=\"_blank\" href=\"/#2:178\" title=\"show this passage on Tanzil\" sec=\"2:178\">2:178</a></span></td><td class=\"tf\"><span class=\"plain outer rtl  \" ><span class=\"plain txtu ara rtl\"></span><span class=\"plain  rtl  \" ><span class=\"plain txtu ara rtl\"></span><span class=\"plain  rtl  \" ><span class=\"txtu ara\">يَٰٓ</span></span><span class=\"plain  rtl  \" ><span class=\"txtu ara\">أَيُّهَا </span></span></span><span class=\"plain  rtl  \" ><span class=\"plain txtu ara rtl\"></span><span class=\"plain  rtl  \" ><span class=\"txtu ara\">ٱلَّذِينَ </span></span></span><span class=\"plain  rtl  \" ><span class=\"plain txtu ara rtl\"></span><span class=\"plain  rtl  \" ><span class=\"txtu ara\">ءَامَنُ</span></span><span class=\"plain  rtl  \" ><span class=\"txtu ara\">وا۟ </span></span></span><span class=\"plain  rtl  \" ><span class=\"plain txtu ara rtl\"></span><span class=\"plain  rtl  \" ><span class=\"txtu ara\">كُتِبَ </span></span></span><span class=\"plain  rtl  \" ><span class=\"plain txtu ara rtl\"></span><span class=\"plain  rtl  \" ><span class=\"txtu ara\">عَلَيْ</span></span><span class=\"plain  rtl  \" ><span class=\"txtu ara\">كُمُ </span></span></span><span class=\"plain  rtl  \" ><span class=\"plain txtu ara rtl\"></span><span class=\"plain  rtl  \" ><span class=\"txtu ara\">ٱلْ</span></span><span class=\"plain  rtl  \" ><span class=\"txtu ara\">قِصَاصُ </span></span></span><span class=\"plain  rtl  \" ><span class=\"plain txtu ara rtl\"></span><span class=\"plain  rtl  \" ><span class=\"txtu ara\">فِى </span></span></span><span class=\"plain  rtl  \" ><span class=\"plain txtu ara rtl\"></span><span class=\"plain  rtl  \" ><span class=\"txtu ara\">ٱلْ</span></span><span class=\"plain  rtl  \" ><span class=\"txtu ara\">قَتْلَى </span></span></span><span class=\"plain  rtl  \" ><span class=\"plain txtu ara rtl\"></span><span class=\"plain  rtl  \" ><span class=\"txtu ara\">ٱلْ</span></span><span class=\"plain  rtl  \" ><span class=\"txtu ara\">حُرُّ </span></span></span><span class=\"plain  rtl  \" ><span class=\"plain txtu ara rtl\"></span><span class=\"plain  rtl  \" ><span class=\"txtu ara\">بِ</span></span><span class=\"plain  rtl  \" ><span class=\"txtu ara\">ٱلْ</span></span><span class=\"plain  rtl  \" ><span class=\"txtu ara\">حُرِّ </span></span></span><span class=\"plain  rtl  \" ><span class=\"plain txtu ara rtl\"></span><span class=\"plain  rtl  \" ><span class=\"txtu ara\">وَ</span></span><span class=\"plain  rtl  \" ><span class=\"txtu ara\">ٱلْ</span></span><span class=\"plain  rtl  \" ><span class=\"txtu ara\">عَبْدُ </span></span></span><span class=\"plain  rtl  \" ><span class=\"plain txtu ara rtl\"></span><span class=\"plain  rtl  \" ><span class=\"txtu ara\">بِ</span></span><span class=\"plain  rtl  \" ><span class=\"txtu ara\">ٱلْ</span></span><span class=\"plain  rtl  \" ><span class=\"txtu ara\">عَبْدِ </span></span></span><span class=\"plain  rtl  \" ><span class=\"plain txtu ara rtl\"></span><span class=\"plain  rtl  \" ><span class=\"txtu ara\">وَ</span></span><span class=\"plain  rtl  \" ><span class=\"txtu ara\">ٱلْ</span></span><span class=\"plain  rtl  \" ><span class=\"txtu ara\">أُنثَىٰ </span></span></span><span class=\"plain  rtl  \" ><span class=\"plain txtu ara rtl\"></span><span class=\"plain  rtl  \" ><span class=\"txtu ara\">بِ</span></span><span class=\"plain  rtl  \" ><span class=\"txtu ara\">ٱلْ</span></span><span class=\"plain  rtl  \" ><span class=\"txtu ara\">أُنثَىٰ </span></span></span><span class=\"plain  rtl  \" ><span class=\"plain txtu ara rtl\"></span><span class=\"plain  rtl  \" ><span class=\"txtu ara\">فَ</span></span><span class=\"plain  rtl  \" ><span class=\"txtu ara\">مَنْ </span></span></span><span class=\"plain  rtl  \" ><span class=\"plain txtu ara rtl\"></span><span class=\"plain  rtl  \" ><span class=\"txtu ara\">عُفِىَ </span></span></span><span class=\"plain  rtl  \" ><span class=\"plain txtu ara rtl\"></span><span class=\"plain  rtl  \" ><span class=\"txtu ara\">لَ</span></span><span class=\"plain  rtl  \" ><span class=\"txtu ara\">هُۥ </span></span></span><span class=\"plain  rtl  \" ><span class=\"plain txtu ara rtl\"></span><span class=\"plain  rtl  \" ><span class=\"txtu ara\">مِنْ </span></span></span><span class=\"plain  rtl  \" ><span class=\"plain txtu ara rtl\"></span><span class=\"plain  rtl  \" ><span class=\"txtu ara\">أَخِي</span></span><span class=\"plain  rtl  \" ><span class=\"txtu ara\">هِ </span></span></span><span class=\"plain  rtl  \" ><span class=\"plain txtu ara rtl\"></span><span class=\"plain  rtl  \" ><span class=\"txtu ara\">شَىْءٌ </span></span></span><span class=\"plain  rtl  \" ><span class=\"plain txtu ara rtl\"></span><span class=\"plain  rtl  \" ><span class=\"txtu ara\">فَ</span></span><span class=\"plain  rtl  \" ><span class=\"txtu ara\">ٱتِّبَاعٌۢ </span></span></span><span class=\"plain  rtl  \" ><span class=\"plain txtu ara rtl\"></span><span class=\"plain  rtl  \" ><span class=\"txtu ara\">بِ</span></span><span class=\"plain  rtl  \" ><span class=\"txtu ara\">ٱلْ</span></span><span class=\"plain  rtl  \" ><span class=\"txtu ara\">مَعْرُوفِ </span></span></span><span class=\"plain  rtl  \" ><span class=\"plain txtu ara rtl\"></span><span class=\"plain  rtl  \" ><span class=\"txtu ara\">وَ</span></span><span class=\"plain  rtl  \" ><span class=\"txtu ara\">أَدَآءٌ </span></span></span><span class=\"plain  rtl  \" ><span class=\"plain txtu ara rtl\"></span><span class=\"plain  rtl  \" ><span class=\"txtu ara\">إِلَيْ</span></span><span class=\"plain  rtl  \" ><span class=\"txtu ara\">هِ </span></span></span><span class=\"plain  rtl  \" ><span class=\"plain txtu ara rtl\"></span><span class=\"plain  rtl  \" ><span class=\"txtu ara\">بِ</span></span><span class=\"plain  rtl  \" ><span class=\"txtu ara\">إِحْسَٰنٍ </span></span></span><span class=\"plain  rtl  \" ><span class=\"plain txtu ara rtl\"></span><span class=\"plain  rtl  \" ><span class=\"txtu ara\">ذَٰلِكَ </span></span></span><span class=\"plain  rtl  \" ><span class=\"plain txtu ara rtl\"></span><span class=\"plain  rtl  \" ><span class=\"txtu ara\">تَخْفِيفٌ </span></span></span><span class=\"plain  rtl  \" ><span class=\"plain txtu ara rtl\"></span><span class=\"plain  rtl  \" ><span class=\"txtu ara\">مِّن </span></span></span><span class=\"plain  rtl  \" ><span class=\"plain txtu ara rtl\"></span><span class=\"plain  rtl  \" ><span class=\"txtu ara\">رَّبِّ</span></span><span class=\"plain  rtl  \" ><span class=\"txtu ara\">كُمْ </span></span></span><span class=\"plain  rtl  \" ><span class=\"plain txtu ara rtl\"></span><span class=\"plain  rtl  \" ><span class=\"txtu ara\">وَ</span></span><span class=\"plain  rtl  \" ><span class=\"txtu ara\">رَحْمَةٌ </span></span></span><span class=\"plain  rtl  \" ><span class=\"plain txtu ara rtl\"></span><span class=\"plain  rtl  \" ><span class=\"txtu ara\">فَ</span></span><span class=\"plain  rtl  \" ><span class=\"txtu ara\">مَنِ </span></span></span><span class=\"plain  rtl  \" ><span class=\"plain txtu ara rtl\"></span><span class=\"plain  rtl  \" ><span class=\"txtu ara\">ٱعْتَدَىٰ </span></span></span><span class=\"plain  rtl  \" ><span class=\"plain txtu ara rtl\"></span><span class=\"plain  rtl  \" ><span class=\"txtu ara\">بَعْدَ </span></span></span><span class=\"plain  rtl  \" ><span class=\"plain txtu ara rtl\"></span><span class=\"plain  rtl  \" ><span class=\"txtu ara\">ذَٰلِكَ </span></span></span><span class=\"plain  rtl  \" ><span class=\"plain txtu ara rtl\"></span><span class=\"plain  rtl  \" ><span class=\"txtu ara\">فَ</span></span><span class=\"plain  rtl  \" ><span class=\"txtu ara\">لَ</span></span><span class=\"plain  rtl  \" ><span class=\"txtu ara\">هُۥ </span></span></span><span class=\"plain  rtl  \" ><span class=\"plain txtu ara rtl\"></span><span class=\"plain  rtl  \" ><span class=\"txtu ara\">عَذَابٌ </span></span></span><span class=\"plain  rtl  \" ><span class=\"plain txtu ara rtl\"></span><span class=\"plain  rtl  \" ><span class=\"txtu ara\">أَلِيمٌ</span></span></span></span></td><td class=\"tf\"><span class=\"plain outer rtl  \" ><span class=\"plain txtu ara rtl\"></span><span class=\"plain  rtl  \" ><span class=\"plain txtu ara rtl\"></span><span class=\"plain  rtl  \" ><span class=\"txtu ara\">تِلْكَ </span></span></span><span class=\"plain  rtl  \" ><span class=\"plain txtu ara rtl\"></span><span class=\"plain  rtl  \" ><span class=\"txtu ara\">ٱل</span></span><span class=\"plain  rtl  \" ><span class=\"txtu ara\">رُّسُلُ </span></span></span><span class=\"plain  rtl  \" ><span class=\"plain txtu ara rtl\"></span><span class=\"plain  rtl  \" ><span class=\"txtu ara\">فَضَّلْ</span></span><span class=\"plain  rtl  \" ><span class=\"txtu ara\">نَا </span></span></span><span class=\"plain  rtl  \" ><span class=\"plain txtu ara rtl\"></span><span class=\"plain  rtl  \" ><span class=\"txtu ara\">بَعْضَ</span></span><span class=\"plain  rtl  \" ><span class=\"txtu ara\">هُمْ </span></span></span><span class=\"plain  rtl  \" ><span class=\"plain txtu ara rtl\"></span><span class=\"plain  rtl  \" ><span class=\"txtu ara\">عَلَىٰ </span></span></span><span class=\"plain  rtl  \" ><span class=\"plain txtu ara rtl\"></span><span class=\"plain  rtl  \" ><span class=\"txtu ara\">بَعْضٍ </span></span></span><span class=\"plain  rtl  \" ><span class=\"plain txtu ara rtl\"></span><span class=\"plain  rtl  \" ><span class=\"txtu ara\">مِّنْ</span></span><span class=\"plain  rtl  \" ><span class=\"txtu ara\">هُم </span></span></span><span class=\"plain  rtl  \" ><span class=\"plain txtu ara rtl\"></span><span class=\"plain  rtl  \" ><span class=\"txtu ara\">مَّن </span></span></span><span class=\"plain  rtl  \" ><span class=\"plain txtu ara rtl\"></span><span class=\"plain  rtl  \" ><span class=\"txtu ara\">كَلَّمَ </span></span></span><span class=\"plain  rtl  \" ><span class=\"plain txtu ara rtl\"></span><span class=\"plain  rtl  \" ><span class=\"txtu ara\">ٱللَّهُ </span></span></span><span class=\"plain  rtl  \" ><span class=\"plain txtu ara rtl\"></span><span class=\"plain  rtl  \" ><span class=\"txtu ara\">وَ</span></span><span class=\"plain  rtl  \" ><span class=\"txtu ara\">رَفَعَ </span></span></span><span class=\"plain  rtl  \" ><span class=\"plain txtu ara rtl\"></span><span class=\"plain  rtl  \" ><span class=\"txtu ara\">بَعْضَ</span></span><span class=\"plain  rtl  \" ><span class=\"txtu ara\">هُمْ </span></span></span><span class=\"plain  rtl  \" ><span class=\"plain txtu ara rtl\"></span><span class=\"plain  rtl  \" ><span class=\"txtu ara\">دَرَجَٰتٍ </span></span></span><span class=\"plain  rtl  \" ><span class=\"plain txtu ara rtl\"></span><span class=\"plain  rtl  \" ><span class=\"txtu ara\">وَ</span></span><span class=\"plain  rtl  \" ><span class=\"txtu ara\">ءَاتَيْ</span></span><span class=\"plain  rtl  \" ><span class=\"txtu ara\">نَا </span></span></span><span class=\"plain  rtl  \" ><span class=\"plain txtu ara rtl\"></span><span class=\"plain  rtl  \" ><span class=\"txtu ara\">عِيسَى </span></span></span><span class=\"plain  rtl  \" ><span class=\"plain txtu ara rtl\"></span><span class=\"plain  rtl  \" ><span class=\"txtu ara\">ٱبْنَ </span></span></span><span class=\"plain  rtl  \" ><span class=\"plain txtu ara rtl\"></span><span class=\"plain  rtl  \" ><span class=\"txtu ara\">مَرْيَمَ </span></span></span><span class=\"plain  rtl  \" ><span class=\"plain txtu ara rtl\"></span><span class=\"plain  rtl  \" ><span class=\"txtu ara\">ٱلْ</span></span><span class=\"plain  rtl  \" ><span class=\"txtu ara\">بَيِّنَٰتِ </span></span></span><span class=\"plain  rtl  \" ><span class=\"plain txtu ara rtl\"></span><span class=\"plain  rtl  \" ><span class=\"txtu ara\">وَ</span></span><span class=\"plain  rtl  \" ><span class=\"txtu ara\">أَيَّدْ</span></span><span class=\"plain  rtl  \" ><span class=\"txtu ara\">نَٰ</span></span><span class=\"plain  rtl  \" ><span class=\"txtu ara\">هُ </span></span></span><span class=\"plain  rtl  \" ><span class=\"plain txtu ara rtl\"></span><span class=\"plain  rtl  \" ><span class=\"txtu ara\">بِ</span></span><span class=\"plain  rtl  \" ><span class=\"txtu ara\">رُوحِ </span></span></span><span class=\"plain  rtl  \" ><span class=\"plain txtu ara rtl\"></span><span class=\"plain  rtl  \" ><span class=\"txtu ara\">ٱلْ</span></span><span class=\"plain  rtl  \" ><span class=\"txtu ara\">قُدُسِ </span></span></span><span class=\"plain  rtl  \" ><span class=\"plain txtu ara rtl\"></span><span class=\"plain  rtl  \" ><span class=\"txtu ara\">وَ</span></span><span class=\"plain  rtl  \" ><span class=\"txtu ara\">لَوْ </span></span></span><span class=\"plain  rtl  \" ><span class=\"plain txtu ara rtl\"></span><span class=\"plain  rtl  \" ><span class=\"txtu ara\">شَآءَ </span></span></span><span class=\"plain  rtl  \" ><span class=\"plain txtu ara rtl\"></span><span class=\"plain  rtl  \" ><span class=\"txtu ara\">ٱللَّهُ </span></span></span><span class=\"plain  rtl  \" ><span class=\"plain txtu ara rtl\"></span><span class=\"plain  rtl  \" ><span class=\"txtu ara\">مَا </span></span></span><span class=\"plain  rtl  \" ><span class=\"plain txtu ara rtl\"></span><span class=\"plain  rtl  \" ><span class=\"txtu ara\">ٱقْتَتَلَ </span></span></span><span class=\"plain  rtl  \" ><span class=\"plain txtu ara rtl\"></span><span class=\"plain  rtl  \" ><span class=\"txtu ara\">ٱلَّذِينَ </span></span></span><span class=\"plain  rtl  \" ><span class=\"plain txtu ara rtl\"></span><span class=\"plain  rtl  \" ><span class=\"txtu ara\">مِنۢ </span></span></span><span class=\"plain  rtl  \" ><span class=\"plain txtu ara rtl\"></span><span class=\"plain  rtl  \" ><span class=\"txtu ara\">بَعْدِ</span></span><span class=\"plain  rtl  \" ><span class=\"txtu ara\">هِم </span></span></span><span class=\"plain  rtl  \" ><span class=\"plain txtu ara rtl\"></span><span class=\"plain  rtl  \" ><span class=\"txtu ara\">مِّنۢ </span></span></span><span class=\"plain  rtl  \" ><span class=\"plain txtu ara rtl\"></span><span class=\"plain  rtl  \" ><span class=\"txtu ara\">بَعْدِ </span></span></span><span class=\"plain  rtl  \" ><span class=\"plain txtu ara rtl\"></span><span class=\"plain  rtl  \" ><span class=\"txtu ara\">مَا </span></span></span><span class=\"plain  rtl  \" ><span class=\"plain txtu ara rtl\"></span><span class=\"plain  rtl  \" ><span class=\"txtu ara\">جَآءَتْ</span></span><span class=\"plain  rtl  \" ><span class=\"txtu ara\">هُمُ </span></span></span><span class=\"plain  rtl  \" ><span class=\"plain txtu ara rtl\"></span><span class=\"plain  rtl  \" ><span class=\"txtu ara\">ٱلْ</span></span><span class=\"plain  rtl  \" ><span class=\"txtu ara\">بَيِّنَٰتُ </span></span></span><span class=\"plain  rtl  \" ><span class=\"plain txtu ara rtl\"></span><span class=\"plain  rtl  \" ><span class=\"txtu ara\">وَ</span></span><span class=\"plain  rtl  \" ><span class=\"txtu ara\">لَٰكِنِ </span></span></span><span class=\"plain  rtl  \" ><span class=\"plain txtu ara rtl\"></span><span class=\"plain  rtl  \" ><span class=\"txtu ara\">ٱخْتَلَفُ</span></span><span class=\"plain  rtl  \" ><span class=\"txtu ara\">وا۟ </span></span></span><span class=\"plain  rtl  \" ><span class=\"plain txtu ara rtl\"></span><span class=\"plain  rtl  \" ><span class=\"txtu ara\">فَ</span></span><span class=\"plain  rtl  \" ><span class=\"txtu ara\">مِنْ</span></span><span class=\"plain  rtl  \" ><span class=\"txtu ara\">هُم </span></span></span><span class=\"plain  rtl  \" ><span class=\"plain txtu ara rtl\"></span><span class=\"plain  rtl  \" ><span class=\"txtu ara\">مَّنْ </span></span></span><span class=\"plain  rtl  \" ><span class=\"plain txtu ara rtl\"></span><span class=\"plain  rtl  \" ><span class=\"txtu ara\">ءَامَنَ </span></span></span><span class=\"plain  rtl  \" ><span class=\"plain txtu ara rtl\"></span><span class=\"plain  rtl  \" ><span class=\"txtu ara\">وَ</span></span><span class=\"plain  rtl  \" ><span class=\"txtu ara\">مِنْ</span></span><span class=\"plain  rtl  \" ><span class=\"txtu ara\">هُم </span></span></span><span class=\"plain  rtl  \" ><span class=\"plain txtu ara rtl\"></span><span class=\"plain  rtl  \" ><span class=\"txtu ara\">مَّن </span></span></span><span class=\"plain  rtl  \" ><span class=\"plain txtu ara rtl\"></span><span class=\"plain  rtl  \" ><span class=\"txtu ara\">كَفَرَ </span></span></span><span class=\"plain  rtl  \" ><span class=\"plain txtu ara rtl\"></span><span class=\"plain  rtl  \" ><span class=\"txtu ara\">وَ</span></span><span class=\"plain  rtl  \" ><span class=\"txtu ara\">لَوْ </span></span></span><span class=\"plain  rtl  \" ><span class=\"plain txtu ara rtl\"></span><span class=\"plain  rtl  \" ><span class=\"txtu ara\">شَآءَ </span></span></span><span class=\"plain  rtl  \" ><span class=\"plain txtu ara rtl\"></span><span class=\"plain  rtl  \" ><span class=\"txtu ara\">ٱللَّهُ </span></span></span><span class=\"plain  rtl  \" ><span class=\"plain txtu ara rtl\"></span><span class=\"plain  rtl  \" ><span class=\"txtu ara\">مَا </span></span></span><span class=\"plain  rtl  \" ><span class=\"plain txtu ara rtl\"></span><span class=\"plain  rtl  \" ><span class=\"txtu ara\">ٱقْتَتَلُ</span></span><span class=\"plain  rtl  \" ><span class=\"txtu ara\">وا۟ </span></span></span><span class=\"plain  rtl  \" ><span class=\"plain txtu ara rtl\"></span><span class=\"plain  rtl  \" ><span class=\"txtu ara\">وَ</span></span><span class=\"plain  rtl  \" ><span class=\"txtu ara\">لَٰكِنَّ </span></span></span><span class=\"plain  rtl  \" ><span class=\"plain txtu ara rtl\"></span><span class=\"plain  rtl  \" ><span class=\"txtu ara\">ٱللَّهَ </span></span></span><span class=\"plain  rtl  \" ><span class=\"plain txtu ara rtl\"></span><span class=\"plain  rtl  \" ><span class=\"txtu ara\">يَفْعَلُ </span></span></span><span class=\"plain  rtl  \" ><span class=\"plain txtu ara rtl\"></span><span class=\"plain  rtl  \" ><span class=\"txtu ara\">مَا </span></span></span><span class=\"plain  rtl  \" ><span class=\"plain txtu ara rtl\"></span><span class=\"plain  rtl  \" ><span class=\"txtu ara\">يُرِيدُ</span></span></span></span></td></tr>\n",
       "<tr class=\"tf\"><td class=\"tf\">8</td><td class=\"tf\"><span class=\"section ltr\"><a target=\"_blank\" href=\"/#2:254\" title=\"show this passage on Tanzil\" sec=\"2:254\">2:254</a></span></td><td class=\"tf\"><span class=\"plain outer rtl  \" ><span class=\"plain txtu ara rtl\"></span><span class=\"plain  rtl  \" ><span class=\"plain txtu ara rtl\"></span><span class=\"plain  rtl  \" ><span class=\"txtu ara\">يَٰٓ</span></span><span class=\"plain  rtl  \" ><span class=\"txtu ara\">أَيُّهَا </span></span></span><span class=\"plain  rtl  \" ><span class=\"plain txtu ara rtl\"></span><span class=\"plain  rtl  \" ><span class=\"txtu ara\">ٱلَّذِينَ </span></span></span><span class=\"plain  rtl  \" ><span class=\"plain txtu ara rtl\"></span><span class=\"plain  rtl  \" ><span class=\"txtu ara\">ءَامَنُ</span></span><span class=\"plain  rtl  \" ><span class=\"txtu ara\">وٓا۟ </span></span></span><span class=\"plain  rtl  \" ><span class=\"plain txtu ara rtl\"></span><span class=\"plain  rtl  \" ><span class=\"txtu ara\">أَنفِقُ</span></span><span class=\"plain  rtl  \" ><span class=\"txtu ara\">وا۟ </span></span></span><span class=\"plain  rtl  \" ><span class=\"plain txtu ara rtl\"></span><span class=\"plain  rtl  \" ><span class=\"txtu ara\">مِ</span></span><span class=\"plain  rtl  \" ><span class=\"txtu ara\">مَّا </span></span></span><span class=\"plain  rtl  \" ><span class=\"plain txtu ara rtl\"></span><span class=\"plain  rtl  \" ><span class=\"txtu ara\">رَزَقْ</span></span><span class=\"plain  rtl  \" ><span class=\"txtu ara\">نَٰ</span></span><span class=\"plain  rtl  \" ><span class=\"txtu ara\">كُم </span></span></span><span class=\"plain  rtl  \" ><span class=\"plain txtu ara rtl\"></span><span class=\"plain  rtl  \" ><span class=\"txtu ara\">مِّن </span></span></span><span class=\"plain  rtl  \" ><span class=\"plain txtu ara rtl\"></span><span class=\"plain  rtl  \" ><span class=\"txtu ara\">قَبْلِ </span></span></span><span class=\"plain  rtl  \" ><span class=\"plain txtu ara rtl\"></span><span class=\"plain  rtl  \" ><span class=\"txtu ara\">أَن </span></span></span><span class=\"plain  rtl  \" ><span class=\"plain txtu ara rtl\"></span><span class=\"plain  rtl  \" ><span class=\"txtu ara\">يَأْتِىَ </span></span></span><span class=\"plain  rtl  \" ><span class=\"plain txtu ara rtl\"></span><span class=\"plain  rtl  \" ><span class=\"txtu ara\">يَوْمٌ </span></span></span><span class=\"plain  rtl  \" ><span class=\"plain txtu ara rtl\"></span><span class=\"plain  rtl  \" ><span class=\"txtu ara\">لَّا </span></span></span><span class=\"plain  rtl  \" ><span class=\"plain txtu ara rtl\"></span><span class=\"plain  rtl  \" ><span class=\"txtu ara\">بَيْعٌ </span></span></span><span class=\"plain  rtl  \" ><span class=\"plain txtu ara rtl\"></span><span class=\"plain  rtl  \" ><span class=\"txtu ara\">فِي</span></span><span class=\"plain  rtl  \" ><span class=\"txtu ara\">هِ </span></span></span><span class=\"plain  rtl  \" ><span class=\"plain txtu ara rtl\"></span><span class=\"plain  rtl  \" ><span class=\"txtu ara\">وَ</span></span><span class=\"plain  rtl  \" ><span class=\"txtu ara\">لَا </span></span></span><span class=\"plain  rtl  \" ><span class=\"plain txtu ara rtl\"></span><span class=\"plain  rtl  \" ><span class=\"txtu ara\">خُلَّةٌ </span></span></span><span class=\"plain  rtl  \" ><span class=\"plain txtu ara rtl\"></span><span class=\"plain  rtl  \" ><span class=\"txtu ara\">وَ</span></span><span class=\"plain  rtl  \" ><span class=\"txtu ara\">لَا </span></span></span><span class=\"plain  rtl  \" ><span class=\"plain txtu ara rtl\"></span><span class=\"plain  rtl  \" ><span class=\"txtu ara\">شَفَٰعَةٌ </span></span></span><span class=\"plain  rtl  \" ><span class=\"plain txtu ara rtl\"></span><span class=\"plain  rtl  \" ><span class=\"txtu ara\">وَ</span></span><span class=\"plain  rtl  \" ><span class=\"txtu ara\">ٱلْ</span></span><span class=\"plain  rtl  \" ><span class=\"txtu ara\">كَٰفِرُونَ </span></span></span><span class=\"plain  rtl  \" ><span class=\"plain txtu ara rtl\"></span><span class=\"plain  rtl  \" ><span class=\"txtu ara\">هُمُ </span></span></span><span class=\"plain  rtl  \" ><span class=\"plain txtu ara rtl\"></span><span class=\"plain  rtl  \" ><span class=\"txtu ara\">ٱل</span></span><span class=\"plain  rtl  \" ><span class=\"txtu ara\">ظَّٰلِمُونَ</span></span></span></span></td><td class=\"tf\"><span class=\"plain outer rtl  \" ><span class=\"plain txtu ara rtl\"></span><span class=\"plain  rtl  \" ><span class=\"plain txtu ara rtl\"></span><span class=\"plain  rtl  \" ><span class=\"txtu ara\">لِّ</span></span><span class=\"plain  rtl  \" ><span class=\"txtu ara\">لَّهِ </span></span></span><span class=\"plain  rtl  \" ><span class=\"plain txtu ara rtl\"></span><span class=\"plain  rtl  \" ><span class=\"txtu ara\">مَا </span></span></span><span class=\"plain  rtl  \" ><span class=\"plain txtu ara rtl\"></span><span class=\"plain  rtl  \" ><span class=\"txtu ara\">فِى </span></span></span><span class=\"plain  rtl  \" ><span class=\"plain txtu ara rtl\"></span><span class=\"plain  rtl  \" ><span class=\"txtu ara\">ٱل</span></span><span class=\"plain  rtl  \" ><span class=\"txtu ara\">سَّمَٰوَٰتِ </span></span></span><span class=\"plain  rtl  \" ><span class=\"plain txtu ara rtl\"></span><span class=\"plain  rtl  \" ><span class=\"txtu ara\">وَ</span></span><span class=\"plain  rtl  \" ><span class=\"txtu ara\">مَا </span></span></span><span class=\"plain  rtl  \" ><span class=\"plain txtu ara rtl\"></span><span class=\"plain  rtl  \" ><span class=\"txtu ara\">فِى </span></span></span><span class=\"plain  rtl  \" ><span class=\"plain txtu ara rtl\"></span><span class=\"plain  rtl  \" ><span class=\"txtu ara\">ٱلْ</span></span><span class=\"plain  rtl  \" ><span class=\"txtu ara\">أَرْضِ </span></span></span><span class=\"plain  rtl  \" ><span class=\"plain txtu ara rtl\"></span><span class=\"plain  rtl  \" ><span class=\"txtu ara\">وَ</span></span><span class=\"plain  rtl  \" ><span class=\"txtu ara\">إِن </span></span></span><span class=\"plain  rtl  \" ><span class=\"plain txtu ara rtl\"></span><span class=\"plain  rtl  \" ><span class=\"txtu ara\">تُبْدُ</span></span><span class=\"plain  rtl  \" ><span class=\"txtu ara\">وا۟ </span></span></span><span class=\"plain  rtl  \" ><span class=\"plain txtu ara rtl\"></span><span class=\"plain  rtl  \" ><span class=\"txtu ara\">مَا </span></span></span><span class=\"plain  rtl  \" ><span class=\"plain txtu ara rtl\"></span><span class=\"plain  rtl  \" ><span class=\"txtu ara\">فِىٓ </span></span></span><span class=\"plain  rtl  \" ><span class=\"plain txtu ara rtl\"></span><span class=\"plain  rtl  \" ><span class=\"txtu ara\">أَنفُسِ</span></span><span class=\"plain  rtl  \" ><span class=\"txtu ara\">كُمْ </span></span></span><span class=\"plain  rtl  \" ><span class=\"plain txtu ara rtl\"></span><span class=\"plain  rtl  \" ><span class=\"txtu ara\">أَوْ </span></span></span><span class=\"plain  rtl  \" ><span class=\"plain txtu ara rtl\"></span><span class=\"plain  rtl  \" ><span class=\"txtu ara\">تُخْفُ</span></span><span class=\"plain  rtl  \" ><span class=\"txtu ara\">و</span></span><span class=\"plain  rtl  \" ><span class=\"txtu ara\">هُ </span></span></span><span class=\"plain  rtl  \" ><span class=\"plain txtu ara rtl\"></span><span class=\"plain  rtl  \" ><span class=\"txtu ara\">يُحَاسِبْ</span></span><span class=\"plain  rtl  \" ><span class=\"txtu ara\">كُم </span></span></span><span class=\"plain  rtl  \" ><span class=\"plain txtu ara rtl\"></span><span class=\"plain  rtl  \" ><span class=\"txtu ara\">بِ</span></span><span class=\"plain  rtl  \" ><span class=\"txtu ara\">هِ </span></span></span><span class=\"plain  rtl  \" ><span class=\"plain txtu ara rtl\"></span><span class=\"plain  rtl  \" ><span class=\"txtu ara\">ٱللَّهُ </span></span></span><span class=\"plain  rtl  \" ><span class=\"plain txtu ara rtl\"></span><span class=\"plain  rtl  \" ><span class=\"txtu ara\">فَ</span></span><span class=\"plain  rtl  \" ><span class=\"txtu ara\">يَغْفِرُ </span></span></span><span class=\"plain  rtl  \" ><span class=\"plain txtu ara rtl\"></span><span class=\"plain  rtl  \" ><span class=\"txtu ara\">لِ</span></span><span class=\"plain  rtl  \" ><span class=\"txtu ara\">مَن </span></span></span><span class=\"plain  rtl  \" ><span class=\"plain txtu ara rtl\"></span><span class=\"plain  rtl  \" ><span class=\"txtu ara\">يَشَآءُ </span></span></span><span class=\"plain  rtl  \" ><span class=\"plain txtu ara rtl\"></span><span class=\"plain  rtl  \" ><span class=\"txtu ara\">وَ</span></span><span class=\"plain  rtl  \" ><span class=\"txtu ara\">يُعَذِّبُ </span></span></span><span class=\"plain  rtl  \" ><span class=\"plain txtu ara rtl\"></span><span class=\"plain  rtl  \" ><span class=\"txtu ara\">مَن </span></span></span><span class=\"plain  rtl  \" ><span class=\"plain txtu ara rtl\"></span><span class=\"plain  rtl  \" ><span class=\"txtu ara\">يَشَآءُ </span></span></span><span class=\"plain  rtl  \" ><span class=\"plain txtu ara rtl\"></span><span class=\"plain  rtl  \" ><span class=\"txtu ara\">وَ</span></span><span class=\"plain  rtl  \" ><span class=\"txtu ara\">ٱللَّهُ </span></span></span><span class=\"plain  rtl  \" ><span class=\"plain txtu ara rtl\"></span><span class=\"plain  rtl  \" ><span class=\"txtu ara\">عَلَىٰ </span></span></span><span class=\"plain  rtl  \" ><span class=\"plain txtu ara rtl\"></span><span class=\"plain  rtl  \" ><span class=\"txtu ara\">كُلِّ </span></span></span><span class=\"plain  rtl  \" ><span class=\"plain txtu ara rtl\"></span><span class=\"plain  rtl  \" ><span class=\"txtu ara\">شَىْءٍ </span></span></span><span class=\"plain  rtl  \" ><span class=\"plain txtu ara rtl\"></span><span class=\"plain  rtl  \" ><span class=\"txtu ara\">قَدِيرٌ</span></span></span></span></td></tr>\n",
       "<tr class=\"tf\"><td class=\"tf\">9</td><td class=\"tf\"><span class=\"section ltr\"><a target=\"_blank\" href=\"/#2:285\" title=\"show this passage on Tanzil\" sec=\"2:285\">2:285</a></span></td><td class=\"tf\"><span class=\"plain outer rtl  \" ><span class=\"plain txtu ara rtl\"></span><span class=\"plain  rtl  \" ><span class=\"plain txtu ara rtl\"></span><span class=\"plain  rtl  \" ><span class=\"txtu ara\">ءَامَنَ </span></span></span><span class=\"plain  rtl  \" ><span class=\"plain txtu ara rtl\"></span><span class=\"plain  rtl  \" ><span class=\"txtu ara\">ٱل</span></span><span class=\"plain  rtl  \" ><span class=\"txtu ara\">رَّسُولُ </span></span></span><span class=\"plain  rtl  \" ><span class=\"plain txtu ara rtl\"></span><span class=\"plain  rtl  \" ><span class=\"txtu ara\">بِ</span></span><span class=\"plain  rtl  \" ><span class=\"txtu ara\">مَآ </span></span></span><span class=\"plain  rtl  \" ><span class=\"plain txtu ara rtl\"></span><span class=\"plain  rtl  \" ><span class=\"txtu ara\">أُنزِلَ </span></span></span><span class=\"plain  rtl  \" ><span class=\"plain txtu ara rtl\"></span><span class=\"plain  rtl  \" ><span class=\"txtu ara\">إِلَيْ</span></span><span class=\"plain  rtl  \" ><span class=\"txtu ara\">هِ </span></span></span><span class=\"plain  rtl  \" ><span class=\"plain txtu ara rtl\"></span><span class=\"plain  rtl  \" ><span class=\"txtu ara\">مِن </span></span></span><span class=\"plain  rtl  \" ><span class=\"plain txtu ara rtl\"></span><span class=\"plain  rtl  \" ><span class=\"txtu ara\">رَّبِّ</span></span><span class=\"plain  rtl  \" ><span class=\"txtu ara\">هِۦ </span></span></span><span class=\"plain  rtl  \" ><span class=\"plain txtu ara rtl\"></span><span class=\"plain  rtl  \" ><span class=\"txtu ara\">وَ</span></span><span class=\"plain  rtl  \" ><span class=\"txtu ara\">ٱلْ</span></span><span class=\"plain  rtl  \" ><span class=\"txtu ara\">مُؤْمِنُونَ </span></span></span><span class=\"plain  rtl  \" ><span class=\"plain txtu ara rtl\"></span><span class=\"plain  rtl  \" ><span class=\"txtu ara\">كُلٌّ </span></span></span><span class=\"plain  rtl  \" ><span class=\"plain txtu ara rtl\"></span><span class=\"plain  rtl  \" ><span class=\"txtu ara\">ءَامَنَ </span></span></span><span class=\"plain  rtl  \" ><span class=\"plain txtu ara rtl\"></span><span class=\"plain  rtl  \" ><span class=\"txtu ara\">بِ</span></span><span class=\"plain  rtl  \" ><span class=\"txtu ara\">ٱللَّهِ </span></span></span><span class=\"plain  rtl  \" ><span class=\"plain txtu ara rtl\"></span><span class=\"plain  rtl  \" ><span class=\"txtu ara\">وَ</span></span><span class=\"plain  rtl  \" ><span class=\"txtu ara\">مَلَٰٓئِكَتِ</span></span><span class=\"plain  rtl  \" ><span class=\"txtu ara\">هِۦ </span></span></span><span class=\"plain  rtl  \" ><span class=\"plain txtu ara rtl\"></span><span class=\"plain  rtl  \" ><span class=\"txtu ara\">وَ</span></span><span class=\"plain  rtl  \" ><span class=\"txtu ara\">كُتُبِ</span></span><span class=\"plain  rtl  \" ><span class=\"txtu ara\">هِۦ </span></span></span><span class=\"plain  rtl  \" ><span class=\"plain txtu ara rtl\"></span><span class=\"plain  rtl  \" ><span class=\"txtu ara\">وَ</span></span><span class=\"plain  rtl  \" ><span class=\"txtu ara\">رُسُلِ</span></span><span class=\"plain  rtl  \" ><span class=\"txtu ara\">هِۦ </span></span></span><span class=\"plain  rtl  \" ><span class=\"plain txtu ara rtl\"></span><span class=\"plain  rtl  \" ><span class=\"txtu ara\">لَا </span></span></span><span class=\"plain  rtl  \" ><span class=\"plain txtu ara rtl\"></span><span class=\"plain  rtl  \" ><span class=\"txtu ara\">نُفَرِّقُ </span></span></span><span class=\"plain  rtl  \" ><span class=\"plain txtu ara rtl\"></span><span class=\"plain  rtl  \" ><span class=\"txtu ara\">بَيْنَ </span></span></span><span class=\"plain  rtl  \" ><span class=\"plain txtu ara rtl\"></span><span class=\"plain  rtl  \" ><span class=\"txtu ara\">أَحَدٍ </span></span></span><span class=\"plain  rtl  \" ><span class=\"plain txtu ara rtl\"></span><span class=\"plain  rtl  \" ><span class=\"txtu ara\">مِّن </span></span></span><span class=\"plain  rtl  \" ><span class=\"plain txtu ara rtl\"></span><span class=\"plain  rtl  \" ><span class=\"txtu ara\">رُّسُلِ</span></span><span class=\"plain  rtl  \" ><span class=\"txtu ara\">هِۦ </span></span></span><span class=\"plain  rtl  \" ><span class=\"plain txtu ara rtl\"></span><span class=\"plain  rtl  \" ><span class=\"txtu ara\">وَ</span></span><span class=\"plain  rtl  \" ><span class=\"txtu ara\">قَالُ</span></span><span class=\"plain  rtl  \" ><span class=\"txtu ara\">وا۟ </span></span></span><span class=\"plain  rtl  \" ><span class=\"plain txtu ara rtl\"></span><span class=\"plain  rtl  \" ><span class=\"txtu ara\">سَمِعْ</span></span><span class=\"plain  rtl  \" ><span class=\"txtu ara\">نَا </span></span></span><span class=\"plain  rtl  \" ><span class=\"plain txtu ara rtl\"></span><span class=\"plain  rtl  \" ><span class=\"txtu ara\">وَ</span></span><span class=\"plain  rtl  \" ><span class=\"txtu ara\">أَطَعْ</span></span><span class=\"plain  rtl  \" ><span class=\"txtu ara\">نَا </span></span></span><span class=\"plain  rtl  \" ><span class=\"plain txtu ara rtl\"></span><span class=\"plain  rtl  \" ><span class=\"txtu ara\">غُفْرَانَ</span></span><span class=\"plain  rtl  \" ><span class=\"txtu ara\">كَ </span></span></span><span class=\"plain  rtl  \" ><span class=\"plain txtu ara rtl\"></span><span class=\"plain  rtl  \" ><span class=\"txtu ara\">رَبَّ</span></span><span class=\"plain  rtl  \" ><span class=\"txtu ara\">نَا </span></span></span><span class=\"plain  rtl  \" ><span class=\"plain txtu ara rtl\"></span><span class=\"plain  rtl  \" ><span class=\"txtu ara\">وَ</span></span><span class=\"plain  rtl  \" ><span class=\"txtu ara\">إِلَيْ</span></span><span class=\"plain  rtl  \" ><span class=\"txtu ara\">كَ </span></span></span><span class=\"plain  rtl  \" ><span class=\"plain txtu ara rtl\"></span><span class=\"plain  rtl  \" ><span class=\"txtu ara\">ٱلْ</span></span><span class=\"plain  rtl  \" ><span class=\"txtu ara\">مَصِيرُ</span></span></span></span></td><td class=\"tf\"><span class=\"plain outer rtl  \" ><span class=\"plain txtu ara rtl\"></span><span class=\"plain  rtl  \" ><span class=\"plain txtu ara rtl\"></span><span class=\"plain  rtl  \" ><span class=\"txtu ara\">لَا </span></span></span><span class=\"plain  rtl  \" ><span class=\"plain txtu ara rtl\"></span><span class=\"plain  rtl  \" ><span class=\"txtu ara\">يُكَلِّفُ </span></span></span><span class=\"plain  rtl  \" ><span class=\"plain txtu ara rtl\"></span><span class=\"plain  rtl  \" ><span class=\"txtu ara\">ٱللَّهُ </span></span></span><span class=\"plain  rtl  \" ><span class=\"plain txtu ara rtl\"></span><span class=\"plain  rtl  \" ><span class=\"txtu ara\">نَفْسًا </span></span></span><span class=\"plain  rtl  \" ><span class=\"plain txtu ara rtl\"></span><span class=\"plain  rtl  \" ><span class=\"txtu ara\">إِلَّا </span></span></span><span class=\"plain  rtl  \" ><span class=\"plain txtu ara rtl\"></span><span class=\"plain  rtl  \" ><span class=\"txtu ara\">وُسْعَ</span></span><span class=\"plain  rtl  \" ><span class=\"txtu ara\">هَا </span></span></span><span class=\"plain  rtl  \" ><span class=\"plain txtu ara rtl\"></span><span class=\"plain  rtl  \" ><span class=\"txtu ara\">لَ</span></span><span class=\"plain  rtl  \" ><span class=\"txtu ara\">هَا </span></span></span><span class=\"plain  rtl  \" ><span class=\"plain txtu ara rtl\"></span><span class=\"plain  rtl  \" ><span class=\"txtu ara\">مَا </span></span></span><span class=\"plain  rtl  \" ><span class=\"plain txtu ara rtl\"></span><span class=\"plain  rtl  \" ><span class=\"txtu ara\">كَسَبَتْ </span></span></span><span class=\"plain  rtl  \" ><span class=\"plain txtu ara rtl\"></span><span class=\"plain  rtl  \" ><span class=\"txtu ara\">وَ</span></span><span class=\"plain  rtl  \" ><span class=\"txtu ara\">عَلَيْ</span></span><span class=\"plain  rtl  \" ><span class=\"txtu ara\">هَا </span></span></span><span class=\"plain  rtl  \" ><span class=\"plain txtu ara rtl\"></span><span class=\"plain  rtl  \" ><span class=\"txtu ara\">مَا </span></span></span><span class=\"plain  rtl  \" ><span class=\"plain txtu ara rtl\"></span><span class=\"plain  rtl  \" ><span class=\"txtu ara\">ٱكْتَسَبَتْ </span></span></span><span class=\"plain  rtl  \" ><span class=\"plain txtu ara rtl\"></span><span class=\"plain  rtl  \" ><span class=\"txtu ara\">رَبَّ</span></span><span class=\"plain  rtl  \" ><span class=\"txtu ara\">نَا </span></span></span><span class=\"plain  rtl  \" ><span class=\"plain txtu ara rtl\"></span><span class=\"plain  rtl  \" ><span class=\"txtu ara\">لَا </span></span></span><span class=\"plain  rtl  \" ><span class=\"plain txtu ara rtl\"></span><span class=\"plain  rtl  \" ><span class=\"txtu ara\">تُؤَاخِذْ</span></span><span class=\"plain  rtl  \" ><span class=\"txtu ara\">نَآ </span></span></span><span class=\"plain  rtl  \" ><span class=\"plain txtu ara rtl\"></span><span class=\"plain  rtl  \" ><span class=\"txtu ara\">إِن </span></span></span><span class=\"plain  rtl  \" ><span class=\"plain txtu ara rtl\"></span><span class=\"plain  rtl  \" ><span class=\"txtu ara\">نَّسِي</span></span><span class=\"plain  rtl  \" ><span class=\"txtu ara\">نَآ </span></span></span><span class=\"plain  rtl  \" ><span class=\"plain txtu ara rtl\"></span><span class=\"plain  rtl  \" ><span class=\"txtu ara\">أَوْ </span></span></span><span class=\"plain  rtl  \" ><span class=\"plain txtu ara rtl\"></span><span class=\"plain  rtl  \" ><span class=\"txtu ara\">أَخْطَأْ</span></span><span class=\"plain  rtl  \" ><span class=\"txtu ara\">نَا </span></span></span><span class=\"plain  rtl  \" ><span class=\"plain txtu ara rtl\"></span><span class=\"plain  rtl  \" ><span class=\"txtu ara\">رَبَّ</span></span><span class=\"plain  rtl  \" ><span class=\"txtu ara\">نَا </span></span></span><span class=\"plain  rtl  \" ><span class=\"plain txtu ara rtl\"></span><span class=\"plain  rtl  \" ><span class=\"txtu ara\">وَ</span></span><span class=\"plain  rtl  \" ><span class=\"txtu ara\">لَا </span></span></span><span class=\"plain  rtl  \" ><span class=\"plain txtu ara rtl\"></span><span class=\"plain  rtl  \" ><span class=\"txtu ara\">تَحْمِلْ </span></span></span><span class=\"plain  rtl  \" ><span class=\"plain txtu ara rtl\"></span><span class=\"plain  rtl  \" ><span class=\"txtu ara\">عَلَيْ</span></span><span class=\"plain  rtl  \" ><span class=\"txtu ara\">نَآ </span></span></span><span class=\"plain  rtl  \" ><span class=\"plain txtu ara rtl\"></span><span class=\"plain  rtl  \" ><span class=\"txtu ara\">إِصْرًا </span></span></span><span class=\"plain  rtl  \" ><span class=\"plain txtu ara rtl\"></span><span class=\"plain  rtl  \" ><span class=\"txtu ara\">كَ</span></span><span class=\"plain  rtl  \" ><span class=\"txtu ara\">مَا </span></span></span><span class=\"plain  rtl  \" ><span class=\"plain txtu ara rtl\"></span><span class=\"plain  rtl  \" ><span class=\"txtu ara\">حَمَلْ</span></span><span class=\"plain  rtl  \" ><span class=\"txtu ara\">تَ</span></span><span class=\"plain  rtl  \" ><span class=\"txtu ara\">هُۥ </span></span></span><span class=\"plain  rtl  \" ><span class=\"plain txtu ara rtl\"></span><span class=\"plain  rtl  \" ><span class=\"txtu ara\">عَلَى </span></span></span><span class=\"plain  rtl  \" ><span class=\"plain txtu ara rtl\"></span><span class=\"plain  rtl  \" ><span class=\"txtu ara\">ٱلَّذِينَ </span></span></span><span class=\"plain  rtl  \" ><span class=\"plain txtu ara rtl\"></span><span class=\"plain  rtl  \" ><span class=\"txtu ara\">مِن </span></span></span><span class=\"plain  rtl  \" ><span class=\"plain txtu ara rtl\"></span><span class=\"plain  rtl  \" ><span class=\"txtu ara\">قَبْلِ</span></span><span class=\"plain  rtl  \" ><span class=\"txtu ara\">نَا </span></span></span><span class=\"plain  rtl  \" ><span class=\"plain txtu ara rtl\"></span><span class=\"plain  rtl  \" ><span class=\"txtu ara\">رَبَّ</span></span><span class=\"plain  rtl  \" ><span class=\"txtu ara\">نَا </span></span></span><span class=\"plain  rtl  \" ><span class=\"plain txtu ara rtl\"></span><span class=\"plain  rtl  \" ><span class=\"txtu ara\">وَ</span></span><span class=\"plain  rtl  \" ><span class=\"txtu ara\">لَا </span></span></span><span class=\"plain  rtl  \" ><span class=\"plain txtu ara rtl\"></span><span class=\"plain  rtl  \" ><span class=\"txtu ara\">تُحَمِّلْ</span></span><span class=\"plain  rtl  \" ><span class=\"txtu ara\">نَا </span></span></span><span class=\"plain  rtl  \" ><span class=\"plain txtu ara rtl\"></span><span class=\"plain  rtl  \" ><span class=\"txtu ara\">مَا </span></span></span><span class=\"plain  rtl  \" ><span class=\"plain txtu ara rtl\"></span><span class=\"plain  rtl  \" ><span class=\"txtu ara\">لَا </span></span></span><span class=\"plain  rtl  \" ><span class=\"plain txtu ara rtl\"></span><span class=\"plain  rtl  \" ><span class=\"txtu ara\">طَاقَةَ </span></span></span><span class=\"plain  rtl  \" ><span class=\"plain txtu ara rtl\"></span><span class=\"plain  rtl  \" ><span class=\"txtu ara\">لَ</span></span><span class=\"plain  rtl  \" ><span class=\"txtu ara\">نَا </span></span></span><span class=\"plain  rtl  \" ><span class=\"plain txtu ara rtl\"></span><span class=\"plain  rtl  \" ><span class=\"txtu ara\">بِ</span></span><span class=\"plain  rtl  \" ><span class=\"txtu ara\">هِۦ </span></span></span><span class=\"plain  rtl  \" ><span class=\"plain txtu ara rtl\"></span><span class=\"plain  rtl  \" ><span class=\"txtu ara\">وَ</span></span><span class=\"plain  rtl  \" ><span class=\"txtu ara\">ٱعْفُ </span></span></span><span class=\"plain  rtl  \" ><span class=\"plain txtu ara rtl\"></span><span class=\"plain  rtl  \" ><span class=\"txtu ara\">عَنَّ</span></span><span class=\"plain  rtl  \" ><span class=\"txtu ara\">ا </span></span></span><span class=\"plain  rtl  \" ><span class=\"plain txtu ara rtl\"></span><span class=\"plain  rtl  \" ><span class=\"txtu ara\">وَ</span></span><span class=\"plain  rtl  \" ><span class=\"txtu ara\">ٱغْفِرْ </span></span></span><span class=\"plain  rtl  \" ><span class=\"plain txtu ara rtl\"></span><span class=\"plain  rtl  \" ><span class=\"txtu ara\">لَ</span></span><span class=\"plain  rtl  \" ><span class=\"txtu ara\">نَا </span></span></span><span class=\"plain  rtl  \" ><span class=\"plain txtu ara rtl\"></span><span class=\"plain  rtl  \" ><span class=\"txtu ara\">وَ</span></span><span class=\"plain  rtl  \" ><span class=\"txtu ara\">ٱرْحَمْ</span></span><span class=\"plain  rtl  \" ><span class=\"txtu ara\">نَآ </span></span></span><span class=\"plain  rtl  \" ><span class=\"plain txtu ara rtl\"></span><span class=\"plain  rtl  \" ><span class=\"txtu ara\">أَنتَ </span></span></span><span class=\"plain  rtl  \" ><span class=\"plain txtu ara rtl\"></span><span class=\"plain  rtl  \" ><span class=\"txtu ara\">مَوْلَىٰ</span></span><span class=\"plain  rtl  \" ><span class=\"txtu ara\">نَا </span></span></span><span class=\"plain  rtl  \" ><span class=\"plain txtu ara rtl\"></span><span class=\"plain  rtl  \" ><span class=\"txtu ara\">فَ</span></span><span class=\"plain  rtl  \" ><span class=\"txtu ara\">ٱنصُرْ</span></span><span class=\"plain  rtl  \" ><span class=\"txtu ara\">نَا </span></span></span><span class=\"plain  rtl  \" ><span class=\"plain txtu ara rtl\"></span><span class=\"plain  rtl  \" ><span class=\"txtu ara\">عَلَى </span></span></span><span class=\"plain  rtl  \" ><span class=\"plain txtu ara rtl\"></span><span class=\"plain  rtl  \" ><span class=\"txtu ara\">ٱلْ</span></span><span class=\"plain  rtl  \" ><span class=\"txtu ara\">قَوْمِ </span></span></span><span class=\"plain  rtl  \" ><span class=\"plain txtu ara rtl\"></span><span class=\"plain  rtl  \" ><span class=\"txtu ara\">ٱلْ</span></span><span class=\"plain  rtl  \" ><span class=\"txtu ara\">كَٰفِرِينَ</span></span></span></span></td></tr></table>"
      ],
      "text/plain": [
       "<IPython.core.display.HTML object>"
      ]
     },
     "metadata": {},
     "output_type": "display_data"
    }
   ],
   "source": [
    "A.table(boundaryAyaNodes)"
   ]
  },
  {
   "cell_type": "markdown",
   "metadata": {},
   "source": [
    "But I do not read Arabic, and I want to get a sense of what is going on.\n",
    "\n",
    "We display them more extensively by using `A.show()` instead. \n",
    "Before we make the call, we set up a\n",
    "[display parameter](https://annotation.github.io/text-fabric/Api/App/#display)\n",
    "that calls up the `translation@en` feature for each aya."
   ]
  },
  {
   "cell_type": "code",
   "execution_count": 20,
   "metadata": {},
   "outputs": [],
   "source": [
    "A.displaySetup(extraFeatures='translation@en', prettyTypes=False)"
   ]
  },
  {
   "cell_type": "markdown",
   "metadata": {},
   "source": [
    "If we run `A.show()` now, we get a display of ayas and words with translations and morphological information."
   ]
  },
  {
   "cell_type": "code",
   "execution_count": 21,
   "metadata": {},
   "outputs": [
    {
     "data": {
      "text/html": [
       "<p><b>result</b> <i>1</i></p>"
      ],
      "text/plain": [
       "<IPython.core.display.HTML object>"
      ]
     },
     "metadata": {},
     "output_type": "display_data"
    },
    {
     "data": {
      "text/html": [
       "<span class=\"section ltr\"><a target=\"_blank\" href=\"/#2:1\" title=\"show this passage on Tanzil\" sec=\"2:1\">2:1</a> </span><div class=\"contnr c3  rtl  \" > <div class='features'><span class=\"translation@en xft\" ><span class=\"f\">translation@en=</span>Alif Lam Mim</span></div><div class=\"children row wrap rtl\"><div class=\"contnr c1 trm rtl  \" ><div class=\"lbl c1 trm \" ><span class=\"txtu ara\"><span class=\"plain outer rtl  \" ><span class=\"plain txtu ara rtl\"></span><span class=\"plain  rtl  \" ><span class=\"txtu ara\">الٓمٓ</span></span></span></span></div> </div></div></div>"
      ],
      "text/plain": [
       "<IPython.core.display.HTML object>"
      ]
     },
     "metadata": {},
     "output_type": "display_data"
    },
    {
     "data": {
      "text/html": [
       "<span class=\"section ltr\"><a target=\"_blank\" href=\"/#2:20\" title=\"show this passage on Tanzil\" sec=\"2:20\">2:20</a> </span><div class=\"contnr c3  rtl  \" > <div class='features'><span class=\"translation@en xft\" ><span class=\"f\">translation@en=</span>the lightning wellnigh snatches away their sight; whensoever it gives them light, they walk in it, and when the darkness is over them, they halt; had God willed, He would have taken away their hearing and their sight. Truly, God is powerful over everything.</span></div><div class=\"children row wrap rtl\"><div class=\"contnr c1 trm rtl  \" ><div class=\"lbl c1 trm \" ><span class=\"txtu ara\"><span class=\"plain outer rtl  \" ><span class=\"plain txtu ara rtl\"></span><span class=\"plain  rtl  \" ><span class=\"txtu ara\">يَكَادُ </span></span></span></span></div> </div><div class=\"contnr c1 trm rtl  \" ><div class=\"lbl c1 trm \" ><span class=\"txtu ara\"><span class=\"plain outer rtl  \" ><span class=\"plain txtu ara rtl\"></span><span class=\"plain  rtl  \" ><span class=\"txtu ara\">ٱلْ</span></span><span class=\"plain  rtl  \" ><span class=\"txtu ara\">بَرْقُ </span></span></span></span></div> </div><div class=\"contnr c1 trm rtl  \" ><div class=\"lbl c1 trm \" ><span class=\"txtu ara\"><span class=\"plain outer rtl  \" ><span class=\"plain txtu ara rtl\"></span><span class=\"plain  rtl  \" ><span class=\"txtu ara\">يَخْطَفُ </span></span></span></span></div> </div><div class=\"contnr c1 trm rtl  \" ><div class=\"lbl c1 trm \" ><span class=\"txtu ara\"><span class=\"plain outer rtl  \" ><span class=\"plain txtu ara rtl\"></span><span class=\"plain  rtl  \" ><span class=\"txtu ara\">أَبْصَٰرَ</span></span><span class=\"plain  rtl  \" ><span class=\"txtu ara\">هُمْ </span></span></span></span></div> </div><div class=\"contnr c1 trm rtl  \" ><div class=\"lbl c1 trm \" ><span class=\"txtu ara\"><span class=\"plain outer rtl  \" ><span class=\"plain txtu ara rtl\"></span><span class=\"plain  rtl  \" ><span class=\"txtu ara\">كُلَّمَآ </span></span></span></span></div> </div><div class=\"contnr c1 trm rtl  \" ><div class=\"lbl c1 trm \" ><span class=\"txtu ara\"><span class=\"plain outer rtl  \" ><span class=\"plain txtu ara rtl\"></span><span class=\"plain  rtl  \" ><span class=\"txtu ara\">أَضَآءَ </span></span></span></span></div> </div><div class=\"contnr c1 trm rtl  \" ><div class=\"lbl c1 trm \" ><span class=\"txtu ara\"><span class=\"plain outer rtl  \" ><span class=\"plain txtu ara rtl\"></span><span class=\"plain  rtl  \" ><span class=\"txtu ara\">لَ</span></span><span class=\"plain  rtl  \" ><span class=\"txtu ara\">هُم </span></span></span></span></div> </div><div class=\"contnr c1 trm rtl  \" ><div class=\"lbl c1 trm \" ><span class=\"txtu ara\"><span class=\"plain outer rtl  \" ><span class=\"plain txtu ara rtl\"></span><span class=\"plain  rtl  \" ><span class=\"txtu ara\">مَّشَ</span></span><span class=\"plain  rtl  \" ><span class=\"txtu ara\">وْا۟ </span></span></span></span></div> </div><div class=\"contnr c1 trm rtl  \" ><div class=\"lbl c1 trm \" ><span class=\"txtu ara\"><span class=\"plain outer rtl  \" ><span class=\"plain txtu ara rtl\"></span><span class=\"plain  rtl  \" ><span class=\"txtu ara\">فِي</span></span><span class=\"plain  rtl  \" ><span class=\"txtu ara\">هِ </span></span></span></span></div> </div><div class=\"contnr c1 trm rtl  \" ><div class=\"lbl c1 trm \" ><span class=\"txtu ara\"><span class=\"plain outer rtl  \" ><span class=\"plain txtu ara rtl\"></span><span class=\"plain  rtl  \" ><span class=\"txtu ara\">وَ</span></span><span class=\"plain  rtl  \" ><span class=\"txtu ara\">إِذَآ </span></span></span></span></div> </div><div class=\"contnr c1 trm rtl  \" ><div class=\"lbl c1 trm \" ><span class=\"txtu ara\"><span class=\"plain outer rtl  \" ><span class=\"plain txtu ara rtl\"></span><span class=\"plain  rtl  \" ><span class=\"txtu ara\">أَظْلَمَ </span></span></span></span></div> </div><div class=\"contnr c1 trm rtl  \" ><div class=\"lbl c1 trm \" ><span class=\"txtu ara\"><span class=\"plain outer rtl  \" ><span class=\"plain txtu ara rtl\"></span><span class=\"plain  rtl  \" ><span class=\"txtu ara\">عَلَيْ</span></span><span class=\"plain  rtl  \" ><span class=\"txtu ara\">هِمْ </span></span></span></span></div> </div><div class=\"contnr c1 trm rtl  \" ><div class=\"lbl c1 trm \" ><span class=\"txtu ara\"><span class=\"plain outer rtl  \" ><span class=\"plain txtu ara rtl\"></span><span class=\"plain  rtl  \" ><span class=\"txtu ara\">قَامُ</span></span><span class=\"plain  rtl  \" ><span class=\"txtu ara\">وا۟ </span></span></span></span></div> </div><div class=\"contnr c1 trm rtl  \" ><div class=\"lbl c1 trm \" ><span class=\"txtu ara\"><span class=\"plain outer rtl  \" ><span class=\"plain txtu ara rtl\"></span><span class=\"plain  rtl  \" ><span class=\"txtu ara\">وَ</span></span><span class=\"plain  rtl  \" ><span class=\"txtu ara\">لَوْ </span></span></span></span></div> </div><div class=\"contnr c1 trm rtl  \" ><div class=\"lbl c1 trm \" ><span class=\"txtu ara\"><span class=\"plain outer rtl  \" ><span class=\"plain txtu ara rtl\"></span><span class=\"plain  rtl  \" ><span class=\"txtu ara\">شَآءَ </span></span></span></span></div> </div><div class=\"contnr c1 trm rtl  \" ><div class=\"lbl c1 trm \" ><span class=\"txtu ara\"><span class=\"plain outer rtl  \" ><span class=\"plain txtu ara rtl\"></span><span class=\"plain  rtl  \" ><span class=\"txtu ara\">ٱللَّهُ </span></span></span></span></div> </div><div class=\"contnr c1 trm rtl  \" ><div class=\"lbl c1 trm \" ><span class=\"txtu ara\"><span class=\"plain outer rtl  \" ><span class=\"plain txtu ara rtl\"></span><span class=\"plain  rtl  \" ><span class=\"txtu ara\">لَ</span></span><span class=\"plain  rtl  \" ><span class=\"txtu ara\">ذَهَبَ </span></span></span></span></div> </div><div class=\"contnr c1 trm rtl  \" ><div class=\"lbl c1 trm \" ><span class=\"txtu ara\"><span class=\"plain outer rtl  \" ><span class=\"plain txtu ara rtl\"></span><span class=\"plain  rtl  \" ><span class=\"txtu ara\">بِ</span></span><span class=\"plain  rtl  \" ><span class=\"txtu ara\">سَمْعِ</span></span><span class=\"plain  rtl  \" ><span class=\"txtu ara\">هِمْ </span></span></span></span></div> </div><div class=\"contnr c1 trm rtl  \" ><div class=\"lbl c1 trm \" ><span class=\"txtu ara\"><span class=\"plain outer rtl  \" ><span class=\"plain txtu ara rtl\"></span><span class=\"plain  rtl  \" ><span class=\"txtu ara\">وَ</span></span><span class=\"plain  rtl  \" ><span class=\"txtu ara\">أَبْصَٰرِ</span></span><span class=\"plain  rtl  \" ><span class=\"txtu ara\">هِمْ </span></span></span></span></div> </div><div class=\"contnr c1 trm rtl  \" ><div class=\"lbl c1 trm \" ><span class=\"txtu ara\"><span class=\"plain outer rtl  \" ><span class=\"plain txtu ara rtl\"></span><span class=\"plain  rtl  \" ><span class=\"txtu ara\">إِنَّ </span></span></span></span></div> </div><div class=\"contnr c1 trm rtl  \" ><div class=\"lbl c1 trm \" ><span class=\"txtu ara\"><span class=\"plain outer rtl  \" ><span class=\"plain txtu ara rtl\"></span><span class=\"plain  rtl  \" ><span class=\"txtu ara\">ٱللَّهَ </span></span></span></span></div> </div><div class=\"contnr c1 trm rtl  \" ><div class=\"lbl c1 trm \" ><span class=\"txtu ara\"><span class=\"plain outer rtl  \" ><span class=\"plain txtu ara rtl\"></span><span class=\"plain  rtl  \" ><span class=\"txtu ara\">عَلَىٰ </span></span></span></span></div> </div><div class=\"contnr c1 trm rtl  \" ><div class=\"lbl c1 trm \" ><span class=\"txtu ara\"><span class=\"plain outer rtl  \" ><span class=\"plain txtu ara rtl\"></span><span class=\"plain  rtl  \" ><span class=\"txtu ara\">كُلِّ </span></span></span></span></div> </div><div class=\"contnr c1 trm rtl  \" ><div class=\"lbl c1 trm \" ><span class=\"txtu ara\"><span class=\"plain outer rtl  \" ><span class=\"plain txtu ara rtl\"></span><span class=\"plain  rtl  \" ><span class=\"txtu ara\">شَىْءٍ </span></span></span></span></div> </div><div class=\"contnr c1 trm rtl  \" ><div class=\"lbl c1 trm \" ><span class=\"txtu ara\"><span class=\"plain outer rtl  \" ><span class=\"plain txtu ara rtl\"></span><span class=\"plain  rtl  \" ><span class=\"txtu ara\">قَدِيرٌ</span></span></span></span></div> </div></div></div>"
      ],
      "text/plain": [
       "<IPython.core.display.HTML object>"
      ]
     },
     "metadata": {},
     "output_type": "display_data"
    },
    {
     "data": {
      "text/html": [
       "<p><b>result</b> <i>2</i></p>"
      ],
      "text/plain": [
       "<IPython.core.display.HTML object>"
      ]
     },
     "metadata": {},
     "output_type": "display_data"
    },
    {
     "data": {
      "text/html": [
       "<span class=\"section ltr\"><a target=\"_blank\" href=\"/#2:21\" title=\"show this passage on Tanzil\" sec=\"2:21\">2:21</a> </span><div class=\"contnr c3  rtl  \" > <div class='features'><span class=\"translation@en xft\" ><span class=\"f\">translation@en=</span>O you men, serve your Lord Who created you, and those that were before you; haply so you will be godfearing;</span></div><div class=\"children row wrap rtl\"><div class=\"contnr c1 trm rtl  \" ><div class=\"lbl c1 trm \" ><span class=\"txtu ara\"><span class=\"plain outer rtl  \" ><span class=\"plain txtu ara rtl\"></span><span class=\"plain  rtl  \" ><span class=\"txtu ara\">يَٰٓ</span></span><span class=\"plain  rtl  \" ><span class=\"txtu ara\">أَيُّهَا </span></span></span></span></div> </div><div class=\"contnr c1 trm rtl  \" ><div class=\"lbl c1 trm \" ><span class=\"txtu ara\"><span class=\"plain outer rtl  \" ><span class=\"plain txtu ara rtl\"></span><span class=\"plain  rtl  \" ><span class=\"txtu ara\">ٱل</span></span><span class=\"plain  rtl  \" ><span class=\"txtu ara\">نَّاسُ </span></span></span></span></div> </div><div class=\"contnr c1 trm rtl  \" ><div class=\"lbl c1 trm \" ><span class=\"txtu ara\"><span class=\"plain outer rtl  \" ><span class=\"plain txtu ara rtl\"></span><span class=\"plain  rtl  \" ><span class=\"txtu ara\">ٱعْبُدُ</span></span><span class=\"plain  rtl  \" ><span class=\"txtu ara\">وا۟ </span></span></span></span></div> </div><div class=\"contnr c1 trm rtl  \" ><div class=\"lbl c1 trm \" ><span class=\"txtu ara\"><span class=\"plain outer rtl  \" ><span class=\"plain txtu ara rtl\"></span><span class=\"plain  rtl  \" ><span class=\"txtu ara\">رَبَّ</span></span><span class=\"plain  rtl  \" ><span class=\"txtu ara\">كُمُ </span></span></span></span></div> </div><div class=\"contnr c1 trm rtl  \" ><div class=\"lbl c1 trm \" ><span class=\"txtu ara\"><span class=\"plain outer rtl  \" ><span class=\"plain txtu ara rtl\"></span><span class=\"plain  rtl  \" ><span class=\"txtu ara\">ٱلَّذِى </span></span></span></span></div> </div><div class=\"contnr c1 trm rtl  \" ><div class=\"lbl c1 trm \" ><span class=\"txtu ara\"><span class=\"plain outer rtl  \" ><span class=\"plain txtu ara rtl\"></span><span class=\"plain  rtl  \" ><span class=\"txtu ara\">خَلَقَ</span></span><span class=\"plain  rtl  \" ><span class=\"txtu ara\">كُمْ </span></span></span></span></div> </div><div class=\"contnr c1 trm rtl  \" ><div class=\"lbl c1 trm \" ><span class=\"txtu ara\"><span class=\"plain outer rtl  \" ><span class=\"plain txtu ara rtl\"></span><span class=\"plain  rtl  \" ><span class=\"txtu ara\">وَ</span></span><span class=\"plain  rtl  \" ><span class=\"txtu ara\">ٱلَّذِينَ </span></span></span></span></div> </div><div class=\"contnr c1 trm rtl  \" ><div class=\"lbl c1 trm \" ><span class=\"txtu ara\"><span class=\"plain outer rtl  \" ><span class=\"plain txtu ara rtl\"></span><span class=\"plain  rtl  \" ><span class=\"txtu ara\">مِن </span></span></span></span></div> </div><div class=\"contnr c1 trm rtl  \" ><div class=\"lbl c1 trm \" ><span class=\"txtu ara\"><span class=\"plain outer rtl  \" ><span class=\"plain txtu ara rtl\"></span><span class=\"plain  rtl  \" ><span class=\"txtu ara\">قَبْلِ</span></span><span class=\"plain  rtl  \" ><span class=\"txtu ara\">كُمْ </span></span></span></span></div> </div><div class=\"contnr c1 trm rtl  \" ><div class=\"lbl c1 trm \" ><span class=\"txtu ara\"><span class=\"plain outer rtl  \" ><span class=\"plain txtu ara rtl\"></span><span class=\"plain  rtl  \" ><span class=\"txtu ara\">لَعَلَّ</span></span><span class=\"plain  rtl  \" ><span class=\"txtu ara\">كُمْ </span></span></span></span></div> </div><div class=\"contnr c1 trm rtl  \" ><div class=\"lbl c1 trm \" ><span class=\"txtu ara\"><span class=\"plain outer rtl  \" ><span class=\"plain txtu ara rtl\"></span><span class=\"plain  rtl  \" ><span class=\"txtu ara\">تَتَّقُ</span></span><span class=\"plain  rtl  \" ><span class=\"txtu ara\">ونَ</span></span></span></span></div> </div></div></div>"
      ],
      "text/plain": [
       "<IPython.core.display.HTML object>"
      ]
     },
     "metadata": {},
     "output_type": "display_data"
    },
    {
     "data": {
      "text/html": [
       "<span class=\"section ltr\"><a target=\"_blank\" href=\"/#2:39\" title=\"show this passage on Tanzil\" sec=\"2:39\">2:39</a> </span><div class=\"contnr c3  rtl  \" > <div class='features'><span class=\"translation@en xft\" ><span class=\"f\">translation@en=</span>As for the unbelievers who cry lies to Our signs, those shall be the inhabitants of the Fire, therein dwelling forever.'</span></div><div class=\"children row wrap rtl\"><div class=\"contnr c1 trm rtl  \" ><div class=\"lbl c1 trm \" ><span class=\"txtu ara\"><span class=\"plain outer rtl  \" ><span class=\"plain txtu ara rtl\"></span><span class=\"plain  rtl  \" ><span class=\"txtu ara\">وَ</span></span><span class=\"plain  rtl  \" ><span class=\"txtu ara\">ٱلَّذِينَ </span></span></span></span></div> </div><div class=\"contnr c1 trm rtl  \" ><div class=\"lbl c1 trm \" ><span class=\"txtu ara\"><span class=\"plain outer rtl  \" ><span class=\"plain txtu ara rtl\"></span><span class=\"plain  rtl  \" ><span class=\"txtu ara\">كَفَرُ</span></span><span class=\"plain  rtl  \" ><span class=\"txtu ara\">وا۟ </span></span></span></span></div> </div><div class=\"contnr c1 trm rtl  \" ><div class=\"lbl c1 trm \" ><span class=\"txtu ara\"><span class=\"plain outer rtl  \" ><span class=\"plain txtu ara rtl\"></span><span class=\"plain  rtl  \" ><span class=\"txtu ara\">وَ</span></span><span class=\"plain  rtl  \" ><span class=\"txtu ara\">كَذَّبُ</span></span><span class=\"plain  rtl  \" ><span class=\"txtu ara\">وا۟ </span></span></span></span></div> </div><div class=\"contnr c1 trm rtl  \" ><div class=\"lbl c1 trm \" ><span class=\"txtu ara\"><span class=\"plain outer rtl  \" ><span class=\"plain txtu ara rtl\"></span><span class=\"plain  rtl  \" ><span class=\"txtu ara\">بِ</span></span><span class=\"plain  rtl  \" ><span class=\"txtu ara\">ـَٔايَٰتِ</span></span><span class=\"plain  rtl  \" ><span class=\"txtu ara\">نَآ </span></span></span></span></div> </div><div class=\"contnr c1 trm rtl  \" ><div class=\"lbl c1 trm \" ><span class=\"txtu ara\"><span class=\"plain outer rtl  \" ><span class=\"plain txtu ara rtl\"></span><span class=\"plain  rtl  \" ><span class=\"txtu ara\">أُو۟لَٰٓئِكَ </span></span></span></span></div> </div><div class=\"contnr c1 trm rtl  \" ><div class=\"lbl c1 trm \" ><span class=\"txtu ara\"><span class=\"plain outer rtl  \" ><span class=\"plain txtu ara rtl\"></span><span class=\"plain  rtl  \" ><span class=\"txtu ara\">أَصْحَٰبُ </span></span></span></span></div> </div><div class=\"contnr c1 trm rtl  \" ><div class=\"lbl c1 trm \" ><span class=\"txtu ara\"><span class=\"plain outer rtl  \" ><span class=\"plain txtu ara rtl\"></span><span class=\"plain  rtl  \" ><span class=\"txtu ara\">ٱل</span></span><span class=\"plain  rtl  \" ><span class=\"txtu ara\">نَّارِ </span></span></span></span></div> </div><div class=\"contnr c1 trm rtl  \" ><div class=\"lbl c1 trm \" ><span class=\"txtu ara\"><span class=\"plain outer rtl  \" ><span class=\"plain txtu ara rtl\"></span><span class=\"plain  rtl  \" ><span class=\"txtu ara\">هُمْ </span></span></span></span></div> </div><div class=\"contnr c1 trm rtl  \" ><div class=\"lbl c1 trm \" ><span class=\"txtu ara\"><span class=\"plain outer rtl  \" ><span class=\"plain txtu ara rtl\"></span><span class=\"plain  rtl  \" ><span class=\"txtu ara\">فِي</span></span><span class=\"plain  rtl  \" ><span class=\"txtu ara\">هَا </span></span></span></span></div> </div><div class=\"contnr c1 trm rtl  \" ><div class=\"lbl c1 trm \" ><span class=\"txtu ara\"><span class=\"plain outer rtl  \" ><span class=\"plain txtu ara rtl\"></span><span class=\"plain  rtl  \" ><span class=\"txtu ara\">خَٰلِدُونَ</span></span></span></span></div> </div></div></div>"
      ],
      "text/plain": [
       "<IPython.core.display.HTML object>"
      ]
     },
     "metadata": {},
     "output_type": "display_data"
    },
    {
     "data": {
      "text/html": [
       "<p><b>result</b> <i>3</i></p>"
      ],
      "text/plain": [
       "<IPython.core.display.HTML object>"
      ]
     },
     "metadata": {},
     "output_type": "display_data"
    },
    {
     "data": {
      "text/html": [
       "<span class=\"section ltr\"><a target=\"_blank\" href=\"/#2:40\" title=\"show this passage on Tanzil\" sec=\"2:40\">2:40</a> </span><div class=\"contnr c3  rtl  \" > <div class='features'><span class=\"translation@en xft\" ><span class=\"f\">translation@en=</span>Children of Israel, remember My blessing wherewith I blessed you, and fulfil My covenant and I shall fulfil your covenant; and have awe of Me.</span></div><div class=\"children row wrap rtl\"><div class=\"contnr c1 trm rtl  \" ><div class=\"lbl c1 trm \" ><span class=\"txtu ara\"><span class=\"plain outer rtl  \" ><span class=\"plain txtu ara rtl\"></span><span class=\"plain  rtl  \" ><span class=\"txtu ara\">يَٰ</span></span><span class=\"plain  rtl  \" ><span class=\"txtu ara\">بَنِىٓ </span></span></span></span></div> </div><div class=\"contnr c1 trm rtl  \" ><div class=\"lbl c1 trm \" ><span class=\"txtu ara\"><span class=\"plain outer rtl  \" ><span class=\"plain txtu ara rtl\"></span><span class=\"plain  rtl  \" ><span class=\"txtu ara\">إِسْرَٰٓءِيلَ </span></span></span></span></div> </div><div class=\"contnr c1 trm rtl  \" ><div class=\"lbl c1 trm \" ><span class=\"txtu ara\"><span class=\"plain outer rtl  \" ><span class=\"plain txtu ara rtl\"></span><span class=\"plain  rtl  \" ><span class=\"txtu ara\">ٱذْكُرُ</span></span><span class=\"plain  rtl  \" ><span class=\"txtu ara\">وا۟ </span></span></span></span></div> </div><div class=\"contnr c1 trm rtl  \" ><div class=\"lbl c1 trm \" ><span class=\"txtu ara\"><span class=\"plain outer rtl  \" ><span class=\"plain txtu ara rtl\"></span><span class=\"plain  rtl  \" ><span class=\"txtu ara\">نِعْمَتِ</span></span><span class=\"plain  rtl  \" ><span class=\"txtu ara\">ىَ </span></span></span></span></div> </div><div class=\"contnr c1 trm rtl  \" ><div class=\"lbl c1 trm \" ><span class=\"txtu ara\"><span class=\"plain outer rtl  \" ><span class=\"plain txtu ara rtl\"></span><span class=\"plain  rtl  \" ><span class=\"txtu ara\">ٱلَّتِىٓ </span></span></span></span></div> </div><div class=\"contnr c1 trm rtl  \" ><div class=\"lbl c1 trm \" ><span class=\"txtu ara\"><span class=\"plain outer rtl  \" ><span class=\"plain txtu ara rtl\"></span><span class=\"plain  rtl  \" ><span class=\"txtu ara\">أَنْعَمْ</span></span><span class=\"plain  rtl  \" ><span class=\"txtu ara\">تُ </span></span></span></span></div> </div><div class=\"contnr c1 trm rtl  \" ><div class=\"lbl c1 trm \" ><span class=\"txtu ara\"><span class=\"plain outer rtl  \" ><span class=\"plain txtu ara rtl\"></span><span class=\"plain  rtl  \" ><span class=\"txtu ara\">عَلَيْ</span></span><span class=\"plain  rtl  \" ><span class=\"txtu ara\">كُمْ </span></span></span></span></div> </div><div class=\"contnr c1 trm rtl  \" ><div class=\"lbl c1 trm \" ><span class=\"txtu ara\"><span class=\"plain outer rtl  \" ><span class=\"plain txtu ara rtl\"></span><span class=\"plain  rtl  \" ><span class=\"txtu ara\">وَ</span></span><span class=\"plain  rtl  \" ><span class=\"txtu ara\">أَوْفُ</span></span><span class=\"plain  rtl  \" ><span class=\"txtu ara\">وا۟ </span></span></span></span></div> </div><div class=\"contnr c1 trm rtl  \" ><div class=\"lbl c1 trm \" ><span class=\"txtu ara\"><span class=\"plain outer rtl  \" ><span class=\"plain txtu ara rtl\"></span><span class=\"plain  rtl  \" ><span class=\"txtu ara\">بِ</span></span><span class=\"plain  rtl  \" ><span class=\"txtu ara\">عَهْدِ</span></span><span class=\"plain  rtl  \" ><span class=\"txtu ara\">ىٓ </span></span></span></span></div> </div><div class=\"contnr c1 trm rtl  \" ><div class=\"lbl c1 trm \" ><span class=\"txtu ara\"><span class=\"plain outer rtl  \" ><span class=\"plain txtu ara rtl\"></span><span class=\"plain  rtl  \" ><span class=\"txtu ara\">أُوفِ </span></span></span></span></div> </div><div class=\"contnr c1 trm rtl  \" ><div class=\"lbl c1 trm \" ><span class=\"txtu ara\"><span class=\"plain outer rtl  \" ><span class=\"plain txtu ara rtl\"></span><span class=\"plain  rtl  \" ><span class=\"txtu ara\">بِ</span></span><span class=\"plain  rtl  \" ><span class=\"txtu ara\">عَهْدِ</span></span><span class=\"plain  rtl  \" ><span class=\"txtu ara\">كُمْ </span></span></span></span></div> </div><div class=\"contnr c1 trm rtl  \" ><div class=\"lbl c1 trm \" ><span class=\"txtu ara\"><span class=\"plain outer rtl  \" ><span class=\"plain txtu ara rtl\"></span><span class=\"plain  rtl  \" ><span class=\"txtu ara\">وَ</span></span><span class=\"plain  rtl  \" ><span class=\"txtu ara\">إِيَّٰىَ </span></span></span></span></div> </div><div class=\"contnr c1 trm rtl  \" ><div class=\"lbl c1 trm \" ><span class=\"txtu ara\"><span class=\"plain outer rtl  \" ><span class=\"plain txtu ara rtl\"></span><span class=\"plain  rtl  \" ><span class=\"txtu ara\">فَ</span></span><span class=\"plain  rtl  \" ><span class=\"txtu ara\">ٱرْهَبُ</span></span><span class=\"plain  rtl  \" ><span class=\"txtu ara\">و</span></span><span class=\"plain  rtl  \" ><span class=\"txtu ara\">نِ</span></span></span></span></div> </div></div></div>"
      ],
      "text/plain": [
       "<IPython.core.display.HTML object>"
      ]
     },
     "metadata": {},
     "output_type": "display_data"
    },
    {
     "data": {
      "text/html": [
       "<span class=\"section ltr\"><a target=\"_blank\" href=\"/#2:103\" title=\"show this passage on Tanzil\" sec=\"2:103\">2:103</a> </span><div class=\"contnr c3  rtl  \" > <div class='features'><span class=\"translation@en xft\" ><span class=\"f\">translation@en=</span>Yet had they believed, and been godfearing, a recompense from God had been better, if they had but known.</span></div><div class=\"children row wrap rtl\"><div class=\"contnr c1 trm rtl  \" ><div class=\"lbl c1 trm \" ><span class=\"txtu ara\"><span class=\"plain outer rtl  \" ><span class=\"plain txtu ara rtl\"></span><span class=\"plain  rtl  \" ><span class=\"txtu ara\">وَ</span></span><span class=\"plain  rtl  \" ><span class=\"txtu ara\">لَوْ </span></span></span></span></div> </div><div class=\"contnr c1 trm rtl  \" ><div class=\"lbl c1 trm \" ><span class=\"txtu ara\"><span class=\"plain outer rtl  \" ><span class=\"plain txtu ara rtl\"></span><span class=\"plain  rtl  \" ><span class=\"txtu ara\">أَنَّ</span></span><span class=\"plain  rtl  \" ><span class=\"txtu ara\">هُمْ </span></span></span></span></div> </div><div class=\"contnr c1 trm rtl  \" ><div class=\"lbl c1 trm \" ><span class=\"txtu ara\"><span class=\"plain outer rtl  \" ><span class=\"plain txtu ara rtl\"></span><span class=\"plain  rtl  \" ><span class=\"txtu ara\">ءَامَنُ</span></span><span class=\"plain  rtl  \" ><span class=\"txtu ara\">وا۟ </span></span></span></span></div> </div><div class=\"contnr c1 trm rtl  \" ><div class=\"lbl c1 trm \" ><span class=\"txtu ara\"><span class=\"plain outer rtl  \" ><span class=\"plain txtu ara rtl\"></span><span class=\"plain  rtl  \" ><span class=\"txtu ara\">وَ</span></span><span class=\"plain  rtl  \" ><span class=\"txtu ara\">ٱتَّقَ</span></span><span class=\"plain  rtl  \" ><span class=\"txtu ara\">وْا۟ </span></span></span></span></div> </div><div class=\"contnr c1 trm rtl  \" ><div class=\"lbl c1 trm \" ><span class=\"txtu ara\"><span class=\"plain outer rtl  \" ><span class=\"plain txtu ara rtl\"></span><span class=\"plain  rtl  \" ><span class=\"txtu ara\">لَ</span></span><span class=\"plain  rtl  \" ><span class=\"txtu ara\">مَثُوبَةٌ </span></span></span></span></div> </div><div class=\"contnr c1 trm rtl  \" ><div class=\"lbl c1 trm \" ><span class=\"txtu ara\"><span class=\"plain outer rtl  \" ><span class=\"plain txtu ara rtl\"></span><span class=\"plain  rtl  \" ><span class=\"txtu ara\">مِّنْ </span></span></span></span></div> </div><div class=\"contnr c1 trm rtl  \" ><div class=\"lbl c1 trm \" ><span class=\"txtu ara\"><span class=\"plain outer rtl  \" ><span class=\"plain txtu ara rtl\"></span><span class=\"plain  rtl  \" ><span class=\"txtu ara\">عِندِ </span></span></span></span></div> </div><div class=\"contnr c1 trm rtl  \" ><div class=\"lbl c1 trm \" ><span class=\"txtu ara\"><span class=\"plain outer rtl  \" ><span class=\"plain txtu ara rtl\"></span><span class=\"plain  rtl  \" ><span class=\"txtu ara\">ٱللَّهِ </span></span></span></span></div> </div><div class=\"contnr c1 trm rtl  \" ><div class=\"lbl c1 trm \" ><span class=\"txtu ara\"><span class=\"plain outer rtl  \" ><span class=\"plain txtu ara rtl\"></span><span class=\"plain  rtl  \" ><span class=\"txtu ara\">خَيْرٌ </span></span></span></span></div> </div><div class=\"contnr c1 trm rtl  \" ><div class=\"lbl c1 trm \" ><span class=\"txtu ara\"><span class=\"plain outer rtl  \" ><span class=\"plain txtu ara rtl\"></span><span class=\"plain  rtl  \" ><span class=\"txtu ara\">لَّوْ </span></span></span></span></div> </div><div class=\"contnr c1 trm rtl  \" ><div class=\"lbl c1 trm \" ><span class=\"txtu ara\"><span class=\"plain outer rtl  \" ><span class=\"plain txtu ara rtl\"></span><span class=\"plain  rtl  \" ><span class=\"txtu ara\">كَانُ</span></span><span class=\"plain  rtl  \" ><span class=\"txtu ara\">وا۟ </span></span></span></span></div> </div><div class=\"contnr c1 trm rtl  \" ><div class=\"lbl c1 trm \" ><span class=\"txtu ara\"><span class=\"plain outer rtl  \" ><span class=\"plain txtu ara rtl\"></span><span class=\"plain  rtl  \" ><span class=\"txtu ara\">يَعْلَمُ</span></span><span class=\"plain  rtl  \" ><span class=\"txtu ara\">ونَ</span></span></span></span></div> </div></div></div>"
      ],
      "text/plain": [
       "<IPython.core.display.HTML object>"
      ]
     },
     "metadata": {},
     "output_type": "display_data"
    },
    {
     "data": {
      "text/html": [
       "<p><b>result</b> <i>4</i></p>"
      ],
      "text/plain": [
       "<IPython.core.display.HTML object>"
      ]
     },
     "metadata": {},
     "output_type": "display_data"
    },
    {
     "data": {
      "text/html": [
       "<span class=\"section ltr\"><a target=\"_blank\" href=\"/#2:104\" title=\"show this passage on Tanzil\" sec=\"2:104\">2:104</a> </span><div class=\"contnr c3  rtl  \" > <div class='features'><span class=\"translation@en xft\" ><span class=\"f\">translation@en=</span>O believers, do not say, 'Observe us,' but say, 'Regard us'; and give ear; for unbelievers awaits a painful chastisement.</span></div><div class=\"children row wrap rtl\"><div class=\"contnr c1 trm rtl  \" ><div class=\"lbl c1 trm \" ><span class=\"txtu ara\"><span class=\"plain outer rtl  \" ><span class=\"plain txtu ara rtl\"></span><span class=\"plain  rtl  \" ><span class=\"txtu ara\">يَٰٓ</span></span><span class=\"plain  rtl  \" ><span class=\"txtu ara\">أَيُّهَا </span></span></span></span></div> </div><div class=\"contnr c1 trm rtl  \" ><div class=\"lbl c1 trm \" ><span class=\"txtu ara\"><span class=\"plain outer rtl  \" ><span class=\"plain txtu ara rtl\"></span><span class=\"plain  rtl  \" ><span class=\"txtu ara\">ٱلَّذِينَ </span></span></span></span></div> </div><div class=\"contnr c1 trm rtl  \" ><div class=\"lbl c1 trm \" ><span class=\"txtu ara\"><span class=\"plain outer rtl  \" ><span class=\"plain txtu ara rtl\"></span><span class=\"plain  rtl  \" ><span class=\"txtu ara\">ءَامَنُ</span></span><span class=\"plain  rtl  \" ><span class=\"txtu ara\">وا۟ </span></span></span></span></div> </div><div class=\"contnr c1 trm rtl  \" ><div class=\"lbl c1 trm \" ><span class=\"txtu ara\"><span class=\"plain outer rtl  \" ><span class=\"plain txtu ara rtl\"></span><span class=\"plain  rtl  \" ><span class=\"txtu ara\">لَا </span></span></span></span></div> </div><div class=\"contnr c1 trm rtl  \" ><div class=\"lbl c1 trm \" ><span class=\"txtu ara\"><span class=\"plain outer rtl  \" ><span class=\"plain txtu ara rtl\"></span><span class=\"plain  rtl  \" ><span class=\"txtu ara\">تَقُولُ</span></span><span class=\"plain  rtl  \" ><span class=\"txtu ara\">وا۟ </span></span></span></span></div> </div><div class=\"contnr c1 trm rtl  \" ><div class=\"lbl c1 trm \" ><span class=\"txtu ara\"><span class=\"plain outer rtl  \" ><span class=\"plain txtu ara rtl\"></span><span class=\"plain  rtl  \" ><span class=\"txtu ara\">رَٰعِ</span></span><span class=\"plain  rtl  \" ><span class=\"txtu ara\">نَا </span></span></span></span></div> </div><div class=\"contnr c1 trm rtl  \" ><div class=\"lbl c1 trm \" ><span class=\"txtu ara\"><span class=\"plain outer rtl  \" ><span class=\"plain txtu ara rtl\"></span><span class=\"plain  rtl  \" ><span class=\"txtu ara\">وَ</span></span><span class=\"plain  rtl  \" ><span class=\"txtu ara\">قُولُ</span></span><span class=\"plain  rtl  \" ><span class=\"txtu ara\">وا۟ </span></span></span></span></div> </div><div class=\"contnr c1 trm rtl  \" ><div class=\"lbl c1 trm \" ><span class=\"txtu ara\"><span class=\"plain outer rtl  \" ><span class=\"plain txtu ara rtl\"></span><span class=\"plain  rtl  \" ><span class=\"txtu ara\">ٱنظُرْ</span></span><span class=\"plain  rtl  \" ><span class=\"txtu ara\">نَا </span></span></span></span></div> </div><div class=\"contnr c1 trm rtl  \" ><div class=\"lbl c1 trm \" ><span class=\"txtu ara\"><span class=\"plain outer rtl  \" ><span class=\"plain txtu ara rtl\"></span><span class=\"plain  rtl  \" ><span class=\"txtu ara\">وَ</span></span><span class=\"plain  rtl  \" ><span class=\"txtu ara\">ٱسْمَعُ</span></span><span class=\"plain  rtl  \" ><span class=\"txtu ara\">وا۟ </span></span></span></span></div> </div><div class=\"contnr c1 trm rtl  \" ><div class=\"lbl c1 trm \" ><span class=\"txtu ara\"><span class=\"plain outer rtl  \" ><span class=\"plain txtu ara rtl\"></span><span class=\"plain  rtl  \" ><span class=\"txtu ara\">وَ</span></span><span class=\"plain  rtl  \" ><span class=\"txtu ara\">لِ</span></span><span class=\"plain  rtl  \" ><span class=\"txtu ara\">لْ</span></span><span class=\"plain  rtl  \" ><span class=\"txtu ara\">كَٰفِرِينَ </span></span></span></span></div> </div><div class=\"contnr c1 trm rtl  \" ><div class=\"lbl c1 trm \" ><span class=\"txtu ara\"><span class=\"plain outer rtl  \" ><span class=\"plain txtu ara rtl\"></span><span class=\"plain  rtl  \" ><span class=\"txtu ara\">عَذَابٌ </span></span></span></span></div> </div><div class=\"contnr c1 trm rtl  \" ><div class=\"lbl c1 trm \" ><span class=\"txtu ara\"><span class=\"plain outer rtl  \" ><span class=\"plain txtu ara rtl\"></span><span class=\"plain  rtl  \" ><span class=\"txtu ara\">أَلِيمٌ</span></span></span></span></div> </div></div></div>"
      ],
      "text/plain": [
       "<IPython.core.display.HTML object>"
      ]
     },
     "metadata": {},
     "output_type": "display_data"
    },
    {
     "data": {
      "text/html": [
       "<span class=\"section ltr\"><a target=\"_blank\" href=\"/#2:141\" title=\"show this passage on Tanzil\" sec=\"2:141\">2:141</a> </span><div class=\"contnr c3  rtl  \" > <div class='features'><span class=\"translation@en xft\" ><span class=\"f\">translation@en=</span>That is a nation that has passed away; there awaits them that they have earned, and there awaits you that you have earned; you shall not be questioned concerning the things they did.</span></div><div class=\"children row wrap rtl\"><div class=\"contnr c1 trm rtl  \" ><div class=\"lbl c1 trm \" ><span class=\"txtu ara\"><span class=\"plain outer rtl  \" ><span class=\"plain txtu ara rtl\"></span><span class=\"plain  rtl  \" ><span class=\"txtu ara\">تِلْكَ </span></span></span></span></div> </div><div class=\"contnr c1 trm rtl  \" ><div class=\"lbl c1 trm \" ><span class=\"txtu ara\"><span class=\"plain outer rtl  \" ><span class=\"plain txtu ara rtl\"></span><span class=\"plain  rtl  \" ><span class=\"txtu ara\">أُمَّةٌ </span></span></span></span></div> </div><div class=\"contnr c1 trm rtl  \" ><div class=\"lbl c1 trm \" ><span class=\"txtu ara\"><span class=\"plain outer rtl  \" ><span class=\"plain txtu ara rtl\"></span><span class=\"plain  rtl  \" ><span class=\"txtu ara\">قَدْ </span></span></span></span></div> </div><div class=\"contnr c1 trm rtl  \" ><div class=\"lbl c1 trm \" ><span class=\"txtu ara\"><span class=\"plain outer rtl  \" ><span class=\"plain txtu ara rtl\"></span><span class=\"plain  rtl  \" ><span class=\"txtu ara\">خَلَتْ </span></span></span></span></div> </div><div class=\"contnr c1 trm rtl  \" ><div class=\"lbl c1 trm \" ><span class=\"txtu ara\"><span class=\"plain outer rtl  \" ><span class=\"plain txtu ara rtl\"></span><span class=\"plain  rtl  \" ><span class=\"txtu ara\">لَ</span></span><span class=\"plain  rtl  \" ><span class=\"txtu ara\">هَا </span></span></span></span></div> </div><div class=\"contnr c1 trm rtl  \" ><div class=\"lbl c1 trm \" ><span class=\"txtu ara\"><span class=\"plain outer rtl  \" ><span class=\"plain txtu ara rtl\"></span><span class=\"plain  rtl  \" ><span class=\"txtu ara\">مَا </span></span></span></span></div> </div><div class=\"contnr c1 trm rtl  \" ><div class=\"lbl c1 trm \" ><span class=\"txtu ara\"><span class=\"plain outer rtl  \" ><span class=\"plain txtu ara rtl\"></span><span class=\"plain  rtl  \" ><span class=\"txtu ara\">كَسَبَتْ </span></span></span></span></div> </div><div class=\"contnr c1 trm rtl  \" ><div class=\"lbl c1 trm \" ><span class=\"txtu ara\"><span class=\"plain outer rtl  \" ><span class=\"plain txtu ara rtl\"></span><span class=\"plain  rtl  \" ><span class=\"txtu ara\">وَ</span></span><span class=\"plain  rtl  \" ><span class=\"txtu ara\">لَ</span></span><span class=\"plain  rtl  \" ><span class=\"txtu ara\">كُم </span></span></span></span></div> </div><div class=\"contnr c1 trm rtl  \" ><div class=\"lbl c1 trm \" ><span class=\"txtu ara\"><span class=\"plain outer rtl  \" ><span class=\"plain txtu ara rtl\"></span><span class=\"plain  rtl  \" ><span class=\"txtu ara\">مَّا </span></span></span></span></div> </div><div class=\"contnr c1 trm rtl  \" ><div class=\"lbl c1 trm \" ><span class=\"txtu ara\"><span class=\"plain outer rtl  \" ><span class=\"plain txtu ara rtl\"></span><span class=\"plain  rtl  \" ><span class=\"txtu ara\">كَسَبْ</span></span><span class=\"plain  rtl  \" ><span class=\"txtu ara\">تُمْ </span></span></span></span></div> </div><div class=\"contnr c1 trm rtl  \" ><div class=\"lbl c1 trm \" ><span class=\"txtu ara\"><span class=\"plain outer rtl  \" ><span class=\"plain txtu ara rtl\"></span><span class=\"plain  rtl  \" ><span class=\"txtu ara\">وَ</span></span><span class=\"plain  rtl  \" ><span class=\"txtu ara\">لَا </span></span></span></span></div> </div><div class=\"contnr c1 trm rtl  \" ><div class=\"lbl c1 trm \" ><span class=\"txtu ara\"><span class=\"plain outer rtl  \" ><span class=\"plain txtu ara rtl\"></span><span class=\"plain  rtl  \" ><span class=\"txtu ara\">تُسْـَٔلُ</span></span><span class=\"plain  rtl  \" ><span class=\"txtu ara\">ونَ </span></span></span></span></div> </div><div class=\"contnr c1 trm rtl  \" ><div class=\"lbl c1 trm \" ><span class=\"txtu ara\"><span class=\"plain outer rtl  \" ><span class=\"plain txtu ara rtl\"></span><span class=\"plain  rtl  \" ><span class=\"txtu ara\">عَ</span></span><span class=\"plain  rtl  \" ><span class=\"txtu ara\">مَّا </span></span></span></span></div> </div><div class=\"contnr c1 trm rtl  \" ><div class=\"lbl c1 trm \" ><span class=\"txtu ara\"><span class=\"plain outer rtl  \" ><span class=\"plain txtu ara rtl\"></span><span class=\"plain  rtl  \" ><span class=\"txtu ara\">كَانُ</span></span><span class=\"plain  rtl  \" ><span class=\"txtu ara\">وا۟ </span></span></span></span></div> </div><div class=\"contnr c1 trm rtl  \" ><div class=\"lbl c1 trm \" ><span class=\"txtu ara\"><span class=\"plain outer rtl  \" ><span class=\"plain txtu ara rtl\"></span><span class=\"plain  rtl  \" ><span class=\"txtu ara\">يَعْمَلُ</span></span><span class=\"plain  rtl  \" ><span class=\"txtu ara\">ونَ</span></span></span></span></div> </div></div></div>"
      ],
      "text/plain": [
       "<IPython.core.display.HTML object>"
      ]
     },
     "metadata": {},
     "output_type": "display_data"
    },
    {
     "data": {
      "text/html": [
       "<p><b>result</b> <i>5</i></p>"
      ],
      "text/plain": [
       "<IPython.core.display.HTML object>"
      ]
     },
     "metadata": {},
     "output_type": "display_data"
    },
    {
     "data": {
      "text/html": [
       "<span class=\"section ltr\"><a target=\"_blank\" href=\"/#2:142\" title=\"show this passage on Tanzil\" sec=\"2:142\">2:142</a> </span><div class=\"contnr c3  rtl  \" > <div class='features'><span class=\"translation@en xft\" ><span class=\"f\">translation@en=</span>The fools among the people will say, 'What has turned them from the direction they were facing in their prayers aforetime?' Say: \"To God belong the East and the West; He guides whomsoever He will to a straight path.'</span></div><div class=\"children row wrap rtl\"><div class=\"contnr c1 trm rtl  \" ><div class=\"lbl c1 trm \" ><span class=\"txtu ara\"><span class=\"plain outer rtl  \" ><span class=\"plain txtu ara rtl\"></span><span class=\"plain  rtl  \" ><span class=\"txtu ara\">سَ</span></span><span class=\"plain  rtl  \" ><span class=\"txtu ara\">يَقُولُ </span></span></span></span></div> </div><div class=\"contnr c1 trm rtl  \" ><div class=\"lbl c1 trm \" ><span class=\"txtu ara\"><span class=\"plain outer rtl  \" ><span class=\"plain txtu ara rtl\"></span><span class=\"plain  rtl  \" ><span class=\"txtu ara\">ٱل</span></span><span class=\"plain  rtl  \" ><span class=\"txtu ara\">سُّفَهَآءُ </span></span></span></span></div> </div><div class=\"contnr c1 trm rtl  \" ><div class=\"lbl c1 trm \" ><span class=\"txtu ara\"><span class=\"plain outer rtl  \" ><span class=\"plain txtu ara rtl\"></span><span class=\"plain  rtl  \" ><span class=\"txtu ara\">مِنَ </span></span></span></span></div> </div><div class=\"contnr c1 trm rtl  \" ><div class=\"lbl c1 trm \" ><span class=\"txtu ara\"><span class=\"plain outer rtl  \" ><span class=\"plain txtu ara rtl\"></span><span class=\"plain  rtl  \" ><span class=\"txtu ara\">ٱل</span></span><span class=\"plain  rtl  \" ><span class=\"txtu ara\">نَّاسِ </span></span></span></span></div> </div><div class=\"contnr c1 trm rtl  \" ><div class=\"lbl c1 trm \" ><span class=\"txtu ara\"><span class=\"plain outer rtl  \" ><span class=\"plain txtu ara rtl\"></span><span class=\"plain  rtl  \" ><span class=\"txtu ara\">مَا </span></span></span></span></div> </div><div class=\"contnr c1 trm rtl  \" ><div class=\"lbl c1 trm \" ><span class=\"txtu ara\"><span class=\"plain outer rtl  \" ><span class=\"plain txtu ara rtl\"></span><span class=\"plain  rtl  \" ><span class=\"txtu ara\">وَلَّىٰ</span></span><span class=\"plain  rtl  \" ><span class=\"txtu ara\">هُمْ </span></span></span></span></div> </div><div class=\"contnr c1 trm rtl  \" ><div class=\"lbl c1 trm \" ><span class=\"txtu ara\"><span class=\"plain outer rtl  \" ><span class=\"plain txtu ara rtl\"></span><span class=\"plain  rtl  \" ><span class=\"txtu ara\">عَن </span></span></span></span></div> </div><div class=\"contnr c1 trm rtl  \" ><div class=\"lbl c1 trm \" ><span class=\"txtu ara\"><span class=\"plain outer rtl  \" ><span class=\"plain txtu ara rtl\"></span><span class=\"plain  rtl  \" ><span class=\"txtu ara\">قِبْلَتِ</span></span><span class=\"plain  rtl  \" ><span class=\"txtu ara\">هِمُ </span></span></span></span></div> </div><div class=\"contnr c1 trm rtl  \" ><div class=\"lbl c1 trm \" ><span class=\"txtu ara\"><span class=\"plain outer rtl  \" ><span class=\"plain txtu ara rtl\"></span><span class=\"plain  rtl  \" ><span class=\"txtu ara\">ٱلَّتِى </span></span></span></span></div> </div><div class=\"contnr c1 trm rtl  \" ><div class=\"lbl c1 trm \" ><span class=\"txtu ara\"><span class=\"plain outer rtl  \" ><span class=\"plain txtu ara rtl\"></span><span class=\"plain  rtl  \" ><span class=\"txtu ara\">كَانُ</span></span><span class=\"plain  rtl  \" ><span class=\"txtu ara\">وا۟ </span></span></span></span></div> </div><div class=\"contnr c1 trm rtl  \" ><div class=\"lbl c1 trm \" ><span class=\"txtu ara\"><span class=\"plain outer rtl  \" ><span class=\"plain txtu ara rtl\"></span><span class=\"plain  rtl  \" ><span class=\"txtu ara\">عَلَيْ</span></span><span class=\"plain  rtl  \" ><span class=\"txtu ara\">هَا </span></span></span></span></div> </div><div class=\"contnr c1 trm rtl  \" ><div class=\"lbl c1 trm \" ><span class=\"txtu ara\"><span class=\"plain outer rtl  \" ><span class=\"plain txtu ara rtl\"></span><span class=\"plain  rtl  \" ><span class=\"txtu ara\">قُل </span></span></span></span></div> </div><div class=\"contnr c1 trm rtl  \" ><div class=\"lbl c1 trm \" ><span class=\"txtu ara\"><span class=\"plain outer rtl  \" ><span class=\"plain txtu ara rtl\"></span><span class=\"plain  rtl  \" ><span class=\"txtu ara\">لِّ</span></span><span class=\"plain  rtl  \" ><span class=\"txtu ara\">لَّهِ </span></span></span></span></div> </div><div class=\"contnr c1 trm rtl  \" ><div class=\"lbl c1 trm \" ><span class=\"txtu ara\"><span class=\"plain outer rtl  \" ><span class=\"plain txtu ara rtl\"></span><span class=\"plain  rtl  \" ><span class=\"txtu ara\">ٱلْ</span></span><span class=\"plain  rtl  \" ><span class=\"txtu ara\">مَشْرِقُ </span></span></span></span></div> </div><div class=\"contnr c1 trm rtl  \" ><div class=\"lbl c1 trm \" ><span class=\"txtu ara\"><span class=\"plain outer rtl  \" ><span class=\"plain txtu ara rtl\"></span><span class=\"plain  rtl  \" ><span class=\"txtu ara\">وَ</span></span><span class=\"plain  rtl  \" ><span class=\"txtu ara\">ٱلْ</span></span><span class=\"plain  rtl  \" ><span class=\"txtu ara\">مَغْرِبُ </span></span></span></span></div> </div><div class=\"contnr c1 trm rtl  \" ><div class=\"lbl c1 trm \" ><span class=\"txtu ara\"><span class=\"plain outer rtl  \" ><span class=\"plain txtu ara rtl\"></span><span class=\"plain  rtl  \" ><span class=\"txtu ara\">يَهْدِى </span></span></span></span></div> </div><div class=\"contnr c1 trm rtl  \" ><div class=\"lbl c1 trm \" ><span class=\"txtu ara\"><span class=\"plain outer rtl  \" ><span class=\"plain txtu ara rtl\"></span><span class=\"plain  rtl  \" ><span class=\"txtu ara\">مَن </span></span></span></span></div> </div><div class=\"contnr c1 trm rtl  \" ><div class=\"lbl c1 trm \" ><span class=\"txtu ara\"><span class=\"plain outer rtl  \" ><span class=\"plain txtu ara rtl\"></span><span class=\"plain  rtl  \" ><span class=\"txtu ara\">يَشَآءُ </span></span></span></span></div> </div><div class=\"contnr c1 trm rtl  \" ><div class=\"lbl c1 trm \" ><span class=\"txtu ara\"><span class=\"plain outer rtl  \" ><span class=\"plain txtu ara rtl\"></span><span class=\"plain  rtl  \" ><span class=\"txtu ara\">إِلَىٰ </span></span></span></span></div> </div><div class=\"contnr c1 trm rtl  \" ><div class=\"lbl c1 trm \" ><span class=\"txtu ara\"><span class=\"plain outer rtl  \" ><span class=\"plain txtu ara rtl\"></span><span class=\"plain  rtl  \" ><span class=\"txtu ara\">صِرَٰطٍ </span></span></span></span></div> </div><div class=\"contnr c1 trm rtl  \" ><div class=\"lbl c1 trm \" ><span class=\"txtu ara\"><span class=\"plain outer rtl  \" ><span class=\"plain txtu ara rtl\"></span><span class=\"plain  rtl  \" ><span class=\"txtu ara\">مُّسْتَقِيمٍ</span></span></span></span></div> </div></div></div>"
      ],
      "text/plain": [
       "<IPython.core.display.HTML object>"
      ]
     },
     "metadata": {},
     "output_type": "display_data"
    },
    {
     "data": {
      "text/html": [
       "<span class=\"section ltr\"><a target=\"_blank\" href=\"/#2:152\" title=\"show this passage on Tanzil\" sec=\"2:152\">2:152</a> </span><div class=\"contnr c3  rtl  \" > <div class='features'><span class=\"translation@en xft\" ><span class=\"f\">translation@en=</span>So remember Me, and I will remember you; and be thankful to Me; and be you not ungrateful towards Me.</span></div><div class=\"children row wrap rtl\"><div class=\"contnr c1 trm rtl  \" ><div class=\"lbl c1 trm \" ><span class=\"txtu ara\"><span class=\"plain outer rtl  \" ><span class=\"plain txtu ara rtl\"></span><span class=\"plain  rtl  \" ><span class=\"txtu ara\">فَ</span></span><span class=\"plain  rtl  \" ><span class=\"txtu ara\">ٱذْكُرُ</span></span><span class=\"plain  rtl  \" ><span class=\"txtu ara\">و</span></span><span class=\"plain  rtl  \" ><span class=\"txtu ara\">نِىٓ </span></span></span></span></div> </div><div class=\"contnr c1 trm rtl  \" ><div class=\"lbl c1 trm \" ><span class=\"txtu ara\"><span class=\"plain outer rtl  \" ><span class=\"plain txtu ara rtl\"></span><span class=\"plain  rtl  \" ><span class=\"txtu ara\">أَذْكُرْ</span></span><span class=\"plain  rtl  \" ><span class=\"txtu ara\">كُمْ </span></span></span></span></div> </div><div class=\"contnr c1 trm rtl  \" ><div class=\"lbl c1 trm \" ><span class=\"txtu ara\"><span class=\"plain outer rtl  \" ><span class=\"plain txtu ara rtl\"></span><span class=\"plain  rtl  \" ><span class=\"txtu ara\">وَ</span></span><span class=\"plain  rtl  \" ><span class=\"txtu ara\">ٱشْكُرُ</span></span><span class=\"plain  rtl  \" ><span class=\"txtu ara\">وا۟ </span></span></span></span></div> </div><div class=\"contnr c1 trm rtl  \" ><div class=\"lbl c1 trm \" ><span class=\"txtu ara\"><span class=\"plain outer rtl  \" ><span class=\"plain txtu ara rtl\"></span><span class=\"plain  rtl  \" ><span class=\"txtu ara\">لِ</span></span><span class=\"plain  rtl  \" ><span class=\"txtu ara\">ى </span></span></span></span></div> </div><div class=\"contnr c1 trm rtl  \" ><div class=\"lbl c1 trm \" ><span class=\"txtu ara\"><span class=\"plain outer rtl  \" ><span class=\"plain txtu ara rtl\"></span><span class=\"plain  rtl  \" ><span class=\"txtu ara\">وَ</span></span><span class=\"plain  rtl  \" ><span class=\"txtu ara\">لَا </span></span></span></span></div> </div><div class=\"contnr c1 trm rtl  \" ><div class=\"lbl c1 trm \" ><span class=\"txtu ara\"><span class=\"plain outer rtl  \" ><span class=\"plain txtu ara rtl\"></span><span class=\"plain  rtl  \" ><span class=\"txtu ara\">تَكْفُرُ</span></span><span class=\"plain  rtl  \" ><span class=\"txtu ara\">و</span></span><span class=\"plain  rtl  \" ><span class=\"txtu ara\">نِ</span></span></span></span></div> </div></div></div>"
      ],
      "text/plain": [
       "<IPython.core.display.HTML object>"
      ]
     },
     "metadata": {},
     "output_type": "display_data"
    },
    {
     "data": {
      "text/html": [
       "<p><b>result</b> <i>6</i></p>"
      ],
      "text/plain": [
       "<IPython.core.display.HTML object>"
      ]
     },
     "metadata": {},
     "output_type": "display_data"
    },
    {
     "data": {
      "text/html": [
       "<span class=\"section ltr\"><a target=\"_blank\" href=\"/#2:153\" title=\"show this passage on Tanzil\" sec=\"2:153\">2:153</a> </span><div class=\"contnr c3  rtl  \" > <div class='features'><span class=\"translation@en xft\" ><span class=\"f\">translation@en=</span>O all you who believe, seek you help in patience and prayer; surely God is with the patient.</span></div><div class=\"children row wrap rtl\"><div class=\"contnr c1 trm rtl  \" ><div class=\"lbl c1 trm \" ><span class=\"txtu ara\"><span class=\"plain outer rtl  \" ><span class=\"plain txtu ara rtl\"></span><span class=\"plain  rtl  \" ><span class=\"txtu ara\">يَٰٓ</span></span><span class=\"plain  rtl  \" ><span class=\"txtu ara\">أَيُّهَا </span></span></span></span></div> </div><div class=\"contnr c1 trm rtl  \" ><div class=\"lbl c1 trm \" ><span class=\"txtu ara\"><span class=\"plain outer rtl  \" ><span class=\"plain txtu ara rtl\"></span><span class=\"plain  rtl  \" ><span class=\"txtu ara\">ٱلَّذِينَ </span></span></span></span></div> </div><div class=\"contnr c1 trm rtl  \" ><div class=\"lbl c1 trm \" ><span class=\"txtu ara\"><span class=\"plain outer rtl  \" ><span class=\"plain txtu ara rtl\"></span><span class=\"plain  rtl  \" ><span class=\"txtu ara\">ءَامَنُ</span></span><span class=\"plain  rtl  \" ><span class=\"txtu ara\">وا۟ </span></span></span></span></div> </div><div class=\"contnr c1 trm rtl  \" ><div class=\"lbl c1 trm \" ><span class=\"txtu ara\"><span class=\"plain outer rtl  \" ><span class=\"plain txtu ara rtl\"></span><span class=\"plain  rtl  \" ><span class=\"txtu ara\">ٱسْتَعِينُ</span></span><span class=\"plain  rtl  \" ><span class=\"txtu ara\">وا۟ </span></span></span></span></div> </div><div class=\"contnr c1 trm rtl  \" ><div class=\"lbl c1 trm \" ><span class=\"txtu ara\"><span class=\"plain outer rtl  \" ><span class=\"plain txtu ara rtl\"></span><span class=\"plain  rtl  \" ><span class=\"txtu ara\">بِ</span></span><span class=\"plain  rtl  \" ><span class=\"txtu ara\">ٱل</span></span><span class=\"plain  rtl  \" ><span class=\"txtu ara\">صَّبْرِ </span></span></span></span></div> </div><div class=\"contnr c1 trm rtl  \" ><div class=\"lbl c1 trm \" ><span class=\"txtu ara\"><span class=\"plain outer rtl  \" ><span class=\"plain txtu ara rtl\"></span><span class=\"plain  rtl  \" ><span class=\"txtu ara\">وَ</span></span><span class=\"plain  rtl  \" ><span class=\"txtu ara\">ٱل</span></span><span class=\"plain  rtl  \" ><span class=\"txtu ara\">صَّلَوٰةِ </span></span></span></span></div> </div><div class=\"contnr c1 trm rtl  \" ><div class=\"lbl c1 trm \" ><span class=\"txtu ara\"><span class=\"plain outer rtl  \" ><span class=\"plain txtu ara rtl\"></span><span class=\"plain  rtl  \" ><span class=\"txtu ara\">إِنَّ </span></span></span></span></div> </div><div class=\"contnr c1 trm rtl  \" ><div class=\"lbl c1 trm \" ><span class=\"txtu ara\"><span class=\"plain outer rtl  \" ><span class=\"plain txtu ara rtl\"></span><span class=\"plain  rtl  \" ><span class=\"txtu ara\">ٱللَّهَ </span></span></span></span></div> </div><div class=\"contnr c1 trm rtl  \" ><div class=\"lbl c1 trm \" ><span class=\"txtu ara\"><span class=\"plain outer rtl  \" ><span class=\"plain txtu ara rtl\"></span><span class=\"plain  rtl  \" ><span class=\"txtu ara\">مَعَ </span></span></span></span></div> </div><div class=\"contnr c1 trm rtl  \" ><div class=\"lbl c1 trm \" ><span class=\"txtu ara\"><span class=\"plain outer rtl  \" ><span class=\"plain txtu ara rtl\"></span><span class=\"plain  rtl  \" ><span class=\"txtu ara\">ٱل</span></span><span class=\"plain  rtl  \" ><span class=\"txtu ara\">صَّٰبِرِينَ</span></span></span></span></div> </div></div></div>"
      ],
      "text/plain": [
       "<IPython.core.display.HTML object>"
      ]
     },
     "metadata": {},
     "output_type": "display_data"
    },
    {
     "data": {
      "text/html": [
       "<span class=\"section ltr\"><a target=\"_blank\" href=\"/#2:177\" title=\"show this passage on Tanzil\" sec=\"2:177\">2:177</a> </span><div class=\"contnr c3  rtl  \" > <div class='features'><span class=\"translation@en xft\" ><span class=\"f\">translation@en=</span>It is not piety, that you turn your faces to the East and to the West. True piety is this: to believe in God, and the Last Day, the angels, the Book, and the Prophets, to give of one's substance, however cherished, to kinsmen, and orphans, the needy, the traveller, beggars, and to ransom the slave, to perform the prayer, to pay the alms. And they who fulfil their covenant when they have engaged in a covenant, and endure with fortitude misfortune, hardship and peril, these are they who are true in their faith, these are the truly godfearing.</span></div><div class=\"children row wrap rtl\"><div class=\"contnr c1 trm rtl  \" ><div class=\"lbl c1 trm \" ><span class=\"txtu ara\"><span class=\"plain outer rtl  \" ><span class=\"plain txtu ara rtl\"></span><span class=\"plain  rtl  \" ><span class=\"txtu ara\">لَّيْسَ </span></span></span></span></div> </div><div class=\"contnr c1 trm rtl  \" ><div class=\"lbl c1 trm \" ><span class=\"txtu ara\"><span class=\"plain outer rtl  \" ><span class=\"plain txtu ara rtl\"></span><span class=\"plain  rtl  \" ><span class=\"txtu ara\">ٱلْ</span></span><span class=\"plain  rtl  \" ><span class=\"txtu ara\">بِرَّ </span></span></span></span></div> </div><div class=\"contnr c1 trm rtl  \" ><div class=\"lbl c1 trm \" ><span class=\"txtu ara\"><span class=\"plain outer rtl  \" ><span class=\"plain txtu ara rtl\"></span><span class=\"plain  rtl  \" ><span class=\"txtu ara\">أَن </span></span></span></span></div> </div><div class=\"contnr c1 trm rtl  \" ><div class=\"lbl c1 trm \" ><span class=\"txtu ara\"><span class=\"plain outer rtl  \" ><span class=\"plain txtu ara rtl\"></span><span class=\"plain  rtl  \" ><span class=\"txtu ara\">تُوَلُّ</span></span><span class=\"plain  rtl  \" ><span class=\"txtu ara\">وا۟ </span></span></span></span></div> </div><div class=\"contnr c1 trm rtl  \" ><div class=\"lbl c1 trm \" ><span class=\"txtu ara\"><span class=\"plain outer rtl  \" ><span class=\"plain txtu ara rtl\"></span><span class=\"plain  rtl  \" ><span class=\"txtu ara\">وُجُوهَ</span></span><span class=\"plain  rtl  \" ><span class=\"txtu ara\">كُمْ </span></span></span></span></div> </div><div class=\"contnr c1 trm rtl  \" ><div class=\"lbl c1 trm \" ><span class=\"txtu ara\"><span class=\"plain outer rtl  \" ><span class=\"plain txtu ara rtl\"></span><span class=\"plain  rtl  \" ><span class=\"txtu ara\">قِبَلَ </span></span></span></span></div> </div><div class=\"contnr c1 trm rtl  \" ><div class=\"lbl c1 trm \" ><span class=\"txtu ara\"><span class=\"plain outer rtl  \" ><span class=\"plain txtu ara rtl\"></span><span class=\"plain  rtl  \" ><span class=\"txtu ara\">ٱلْ</span></span><span class=\"plain  rtl  \" ><span class=\"txtu ara\">مَشْرِقِ </span></span></span></span></div> </div><div class=\"contnr c1 trm rtl  \" ><div class=\"lbl c1 trm \" ><span class=\"txtu ara\"><span class=\"plain outer rtl  \" ><span class=\"plain txtu ara rtl\"></span><span class=\"plain  rtl  \" ><span class=\"txtu ara\">وَ</span></span><span class=\"plain  rtl  \" ><span class=\"txtu ara\">ٱلْ</span></span><span class=\"plain  rtl  \" ><span class=\"txtu ara\">مَغْرِبِ </span></span></span></span></div> </div><div class=\"contnr c1 trm rtl  \" ><div class=\"lbl c1 trm \" ><span class=\"txtu ara\"><span class=\"plain outer rtl  \" ><span class=\"plain txtu ara rtl\"></span><span class=\"plain  rtl  \" ><span class=\"txtu ara\">وَ</span></span><span class=\"plain  rtl  \" ><span class=\"txtu ara\">لَٰكِنَّ </span></span></span></span></div> </div><div class=\"contnr c1 trm rtl  \" ><div class=\"lbl c1 trm \" ><span class=\"txtu ara\"><span class=\"plain outer rtl  \" ><span class=\"plain txtu ara rtl\"></span><span class=\"plain  rtl  \" ><span class=\"txtu ara\">ٱلْ</span></span><span class=\"plain  rtl  \" ><span class=\"txtu ara\">بِرَّ </span></span></span></span></div> </div><div class=\"contnr c1 trm rtl  \" ><div class=\"lbl c1 trm \" ><span class=\"txtu ara\"><span class=\"plain outer rtl  \" ><span class=\"plain txtu ara rtl\"></span><span class=\"plain  rtl  \" ><span class=\"txtu ara\">مَنْ </span></span></span></span></div> </div><div class=\"contnr c1 trm rtl  \" ><div class=\"lbl c1 trm \" ><span class=\"txtu ara\"><span class=\"plain outer rtl  \" ><span class=\"plain txtu ara rtl\"></span><span class=\"plain  rtl  \" ><span class=\"txtu ara\">ءَامَنَ </span></span></span></span></div> </div><div class=\"contnr c1 trm rtl  \" ><div class=\"lbl c1 trm \" ><span class=\"txtu ara\"><span class=\"plain outer rtl  \" ><span class=\"plain txtu ara rtl\"></span><span class=\"plain  rtl  \" ><span class=\"txtu ara\">بِ</span></span><span class=\"plain  rtl  \" ><span class=\"txtu ara\">ٱللَّهِ </span></span></span></span></div> </div><div class=\"contnr c1 trm rtl  \" ><div class=\"lbl c1 trm \" ><span class=\"txtu ara\"><span class=\"plain outer rtl  \" ><span class=\"plain txtu ara rtl\"></span><span class=\"plain  rtl  \" ><span class=\"txtu ara\">وَ</span></span><span class=\"plain  rtl  \" ><span class=\"txtu ara\">ٱلْ</span></span><span class=\"plain  rtl  \" ><span class=\"txtu ara\">يَوْمِ </span></span></span></span></div> </div><div class=\"contnr c1 trm rtl  \" ><div class=\"lbl c1 trm \" ><span class=\"txtu ara\"><span class=\"plain outer rtl  \" ><span class=\"plain txtu ara rtl\"></span><span class=\"plain  rtl  \" ><span class=\"txtu ara\">ٱلْ</span></span><span class=\"plain  rtl  \" ><span class=\"txtu ara\">ءَاخِرِ </span></span></span></span></div> </div><div class=\"contnr c1 trm rtl  \" ><div class=\"lbl c1 trm \" ><span class=\"txtu ara\"><span class=\"plain outer rtl  \" ><span class=\"plain txtu ara rtl\"></span><span class=\"plain  rtl  \" ><span class=\"txtu ara\">وَ</span></span><span class=\"plain  rtl  \" ><span class=\"txtu ara\">ٱلْ</span></span><span class=\"plain  rtl  \" ><span class=\"txtu ara\">مَلَٰٓئِكَةِ </span></span></span></span></div> </div><div class=\"contnr c1 trm rtl  \" ><div class=\"lbl c1 trm \" ><span class=\"txtu ara\"><span class=\"plain outer rtl  \" ><span class=\"plain txtu ara rtl\"></span><span class=\"plain  rtl  \" ><span class=\"txtu ara\">وَ</span></span><span class=\"plain  rtl  \" ><span class=\"txtu ara\">ٱلْ</span></span><span class=\"plain  rtl  \" ><span class=\"txtu ara\">كِتَٰبِ </span></span></span></span></div> </div><div class=\"contnr c1 trm rtl  \" ><div class=\"lbl c1 trm \" ><span class=\"txtu ara\"><span class=\"plain outer rtl  \" ><span class=\"plain txtu ara rtl\"></span><span class=\"plain  rtl  \" ><span class=\"txtu ara\">وَ</span></span><span class=\"plain  rtl  \" ><span class=\"txtu ara\">ٱل</span></span><span class=\"plain  rtl  \" ><span class=\"txtu ara\">نَّبِيِّۦنَ </span></span></span></span></div> </div><div class=\"contnr c1 trm rtl  \" ><div class=\"lbl c1 trm \" ><span class=\"txtu ara\"><span class=\"plain outer rtl  \" ><span class=\"plain txtu ara rtl\"></span><span class=\"plain  rtl  \" ><span class=\"txtu ara\">وَ</span></span><span class=\"plain  rtl  \" ><span class=\"txtu ara\">ءَاتَى </span></span></span></span></div> </div><div class=\"contnr c1 trm rtl  \" ><div class=\"lbl c1 trm \" ><span class=\"txtu ara\"><span class=\"plain outer rtl  \" ><span class=\"plain txtu ara rtl\"></span><span class=\"plain  rtl  \" ><span class=\"txtu ara\">ٱلْ</span></span><span class=\"plain  rtl  \" ><span class=\"txtu ara\">مَالَ </span></span></span></span></div> </div><div class=\"contnr c1 trm rtl  \" ><div class=\"lbl c1 trm \" ><span class=\"txtu ara\"><span class=\"plain outer rtl  \" ><span class=\"plain txtu ara rtl\"></span><span class=\"plain  rtl  \" ><span class=\"txtu ara\">عَلَىٰ </span></span></span></span></div> </div><div class=\"contnr c1 trm rtl  \" ><div class=\"lbl c1 trm \" ><span class=\"txtu ara\"><span class=\"plain outer rtl  \" ><span class=\"plain txtu ara rtl\"></span><span class=\"plain  rtl  \" ><span class=\"txtu ara\">حُبِّ</span></span><span class=\"plain  rtl  \" ><span class=\"txtu ara\">هِۦ </span></span></span></span></div> </div><div class=\"contnr c1 trm rtl  \" ><div class=\"lbl c1 trm \" ><span class=\"txtu ara\"><span class=\"plain outer rtl  \" ><span class=\"plain txtu ara rtl\"></span><span class=\"plain  rtl  \" ><span class=\"txtu ara\">ذَوِى </span></span></span></span></div> </div><div class=\"contnr c1 trm rtl  \" ><div class=\"lbl c1 trm \" ><span class=\"txtu ara\"><span class=\"plain outer rtl  \" ><span class=\"plain txtu ara rtl\"></span><span class=\"plain  rtl  \" ><span class=\"txtu ara\">ٱلْ</span></span><span class=\"plain  rtl  \" ><span class=\"txtu ara\">قُرْبَىٰ </span></span></span></span></div> </div><div class=\"contnr c1 trm rtl  \" ><div class=\"lbl c1 trm \" ><span class=\"txtu ara\"><span class=\"plain outer rtl  \" ><span class=\"plain txtu ara rtl\"></span><span class=\"plain  rtl  \" ><span class=\"txtu ara\">وَ</span></span><span class=\"plain  rtl  \" ><span class=\"txtu ara\">ٱلْ</span></span><span class=\"plain  rtl  \" ><span class=\"txtu ara\">يَتَٰمَىٰ </span></span></span></span></div> </div><div class=\"contnr c1 trm rtl  \" ><div class=\"lbl c1 trm \" ><span class=\"txtu ara\"><span class=\"plain outer rtl  \" ><span class=\"plain txtu ara rtl\"></span><span class=\"plain  rtl  \" ><span class=\"txtu ara\">وَ</span></span><span class=\"plain  rtl  \" ><span class=\"txtu ara\">ٱلْ</span></span><span class=\"plain  rtl  \" ><span class=\"txtu ara\">مَسَٰكِينَ </span></span></span></span></div> </div><div class=\"contnr c1 trm rtl  \" ><div class=\"lbl c1 trm \" ><span class=\"txtu ara\"><span class=\"plain outer rtl  \" ><span class=\"plain txtu ara rtl\"></span><span class=\"plain  rtl  \" ><span class=\"txtu ara\">وَ</span></span><span class=\"plain  rtl  \" ><span class=\"txtu ara\">ٱبْنَ </span></span></span></span></div> </div><div class=\"contnr c1 trm rtl  \" ><div class=\"lbl c1 trm \" ><span class=\"txtu ara\"><span class=\"plain outer rtl  \" ><span class=\"plain txtu ara rtl\"></span><span class=\"plain  rtl  \" ><span class=\"txtu ara\">ٱل</span></span><span class=\"plain  rtl  \" ><span class=\"txtu ara\">سَّبِيلِ </span></span></span></span></div> </div><div class=\"contnr c1 trm rtl  \" ><div class=\"lbl c1 trm \" ><span class=\"txtu ara\"><span class=\"plain outer rtl  \" ><span class=\"plain txtu ara rtl\"></span><span class=\"plain  rtl  \" ><span class=\"txtu ara\">وَ</span></span><span class=\"plain  rtl  \" ><span class=\"txtu ara\">ٱل</span></span><span class=\"plain  rtl  \" ><span class=\"txtu ara\">سَّآئِلِينَ </span></span></span></span></div> </div><div class=\"contnr c1 trm rtl  \" ><div class=\"lbl c1 trm \" ><span class=\"txtu ara\"><span class=\"plain outer rtl  \" ><span class=\"plain txtu ara rtl\"></span><span class=\"plain  rtl  \" ><span class=\"txtu ara\">وَ</span></span><span class=\"plain  rtl  \" ><span class=\"txtu ara\">فِى </span></span></span></span></div> </div><div class=\"contnr c1 trm rtl  \" ><div class=\"lbl c1 trm \" ><span class=\"txtu ara\"><span class=\"plain outer rtl  \" ><span class=\"plain txtu ara rtl\"></span><span class=\"plain  rtl  \" ><span class=\"txtu ara\">ٱل</span></span><span class=\"plain  rtl  \" ><span class=\"txtu ara\">رِّقَابِ </span></span></span></span></div> </div><div class=\"contnr c1 trm rtl  \" ><div class=\"lbl c1 trm \" ><span class=\"txtu ara\"><span class=\"plain outer rtl  \" ><span class=\"plain txtu ara rtl\"></span><span class=\"plain  rtl  \" ><span class=\"txtu ara\">وَ</span></span><span class=\"plain  rtl  \" ><span class=\"txtu ara\">أَقَامَ </span></span></span></span></div> </div><div class=\"contnr c1 trm rtl  \" ><div class=\"lbl c1 trm \" ><span class=\"txtu ara\"><span class=\"plain outer rtl  \" ><span class=\"plain txtu ara rtl\"></span><span class=\"plain  rtl  \" ><span class=\"txtu ara\">ٱل</span></span><span class=\"plain  rtl  \" ><span class=\"txtu ara\">صَّلَوٰةَ </span></span></span></span></div> </div><div class=\"contnr c1 trm rtl  \" ><div class=\"lbl c1 trm \" ><span class=\"txtu ara\"><span class=\"plain outer rtl  \" ><span class=\"plain txtu ara rtl\"></span><span class=\"plain  rtl  \" ><span class=\"txtu ara\">وَ</span></span><span class=\"plain  rtl  \" ><span class=\"txtu ara\">ءَاتَى </span></span></span></span></div> </div><div class=\"contnr c1 trm rtl  \" ><div class=\"lbl c1 trm \" ><span class=\"txtu ara\"><span class=\"plain outer rtl  \" ><span class=\"plain txtu ara rtl\"></span><span class=\"plain  rtl  \" ><span class=\"txtu ara\">ٱل</span></span><span class=\"plain  rtl  \" ><span class=\"txtu ara\">زَّكَوٰةَ </span></span></span></span></div> </div><div class=\"contnr c1 trm rtl  \" ><div class=\"lbl c1 trm \" ><span class=\"txtu ara\"><span class=\"plain outer rtl  \" ><span class=\"plain txtu ara rtl\"></span><span class=\"plain  rtl  \" ><span class=\"txtu ara\">وَ</span></span><span class=\"plain  rtl  \" ><span class=\"txtu ara\">ٱلْ</span></span><span class=\"plain  rtl  \" ><span class=\"txtu ara\">مُوفُونَ </span></span></span></span></div> </div><div class=\"contnr c1 trm rtl  \" ><div class=\"lbl c1 trm \" ><span class=\"txtu ara\"><span class=\"plain outer rtl  \" ><span class=\"plain txtu ara rtl\"></span><span class=\"plain  rtl  \" ><span class=\"txtu ara\">بِ</span></span><span class=\"plain  rtl  \" ><span class=\"txtu ara\">عَهْدِ</span></span><span class=\"plain  rtl  \" ><span class=\"txtu ara\">هِمْ </span></span></span></span></div> </div><div class=\"contnr c1 trm rtl  \" ><div class=\"lbl c1 trm \" ><span class=\"txtu ara\"><span class=\"plain outer rtl  \" ><span class=\"plain txtu ara rtl\"></span><span class=\"plain  rtl  \" ><span class=\"txtu ara\">إِذَا </span></span></span></span></div> </div><div class=\"contnr c1 trm rtl  \" ><div class=\"lbl c1 trm \" ><span class=\"txtu ara\"><span class=\"plain outer rtl  \" ><span class=\"plain txtu ara rtl\"></span><span class=\"plain  rtl  \" ><span class=\"txtu ara\">عَٰهَدُ</span></span><span class=\"plain  rtl  \" ><span class=\"txtu ara\">وا۟ </span></span></span></span></div> </div><div class=\"contnr c1 trm rtl  \" ><div class=\"lbl c1 trm \" ><span class=\"txtu ara\"><span class=\"plain outer rtl  \" ><span class=\"plain txtu ara rtl\"></span><span class=\"plain  rtl  \" ><span class=\"txtu ara\">وَ</span></span><span class=\"plain  rtl  \" ><span class=\"txtu ara\">ٱل</span></span><span class=\"plain  rtl  \" ><span class=\"txtu ara\">صَّٰبِرِينَ </span></span></span></span></div> </div><div class=\"contnr c1 trm rtl  \" ><div class=\"lbl c1 trm \" ><span class=\"txtu ara\"><span class=\"plain outer rtl  \" ><span class=\"plain txtu ara rtl\"></span><span class=\"plain  rtl  \" ><span class=\"txtu ara\">فِى </span></span></span></span></div> </div><div class=\"contnr c1 trm rtl  \" ><div class=\"lbl c1 trm \" ><span class=\"txtu ara\"><span class=\"plain outer rtl  \" ><span class=\"plain txtu ara rtl\"></span><span class=\"plain  rtl  \" ><span class=\"txtu ara\">ٱلْ</span></span><span class=\"plain  rtl  \" ><span class=\"txtu ara\">بَأْسَآءِ </span></span></span></span></div> </div><div class=\"contnr c1 trm rtl  \" ><div class=\"lbl c1 trm \" ><span class=\"txtu ara\"><span class=\"plain outer rtl  \" ><span class=\"plain txtu ara rtl\"></span><span class=\"plain  rtl  \" ><span class=\"txtu ara\">وَ</span></span><span class=\"plain  rtl  \" ><span class=\"txtu ara\">ٱل</span></span><span class=\"plain  rtl  \" ><span class=\"txtu ara\">ضَّرَّآءِ </span></span></span></span></div> </div><div class=\"contnr c1 trm rtl  \" ><div class=\"lbl c1 trm \" ><span class=\"txtu ara\"><span class=\"plain outer rtl  \" ><span class=\"plain txtu ara rtl\"></span><span class=\"plain  rtl  \" ><span class=\"txtu ara\">وَ</span></span><span class=\"plain  rtl  \" ><span class=\"txtu ara\">حِينَ </span></span></span></span></div> </div><div class=\"contnr c1 trm rtl  \" ><div class=\"lbl c1 trm \" ><span class=\"txtu ara\"><span class=\"plain outer rtl  \" ><span class=\"plain txtu ara rtl\"></span><span class=\"plain  rtl  \" ><span class=\"txtu ara\">ٱلْ</span></span><span class=\"plain  rtl  \" ><span class=\"txtu ara\">بَأْسِ </span></span></span></span></div> </div><div class=\"contnr c1 trm rtl  \" ><div class=\"lbl c1 trm \" ><span class=\"txtu ara\"><span class=\"plain outer rtl  \" ><span class=\"plain txtu ara rtl\"></span><span class=\"plain  rtl  \" ><span class=\"txtu ara\">أُو۟لَٰٓئِكَ </span></span></span></span></div> </div><div class=\"contnr c1 trm rtl  \" ><div class=\"lbl c1 trm \" ><span class=\"txtu ara\"><span class=\"plain outer rtl  \" ><span class=\"plain txtu ara rtl\"></span><span class=\"plain  rtl  \" ><span class=\"txtu ara\">ٱلَّذِينَ </span></span></span></span></div> </div><div class=\"contnr c1 trm rtl  \" ><div class=\"lbl c1 trm \" ><span class=\"txtu ara\"><span class=\"plain outer rtl  \" ><span class=\"plain txtu ara rtl\"></span><span class=\"plain  rtl  \" ><span class=\"txtu ara\">صَدَقُ</span></span><span class=\"plain  rtl  \" ><span class=\"txtu ara\">وا۟ </span></span></span></span></div> </div><div class=\"contnr c1 trm rtl  \" ><div class=\"lbl c1 trm \" ><span class=\"txtu ara\"><span class=\"plain outer rtl  \" ><span class=\"plain txtu ara rtl\"></span><span class=\"plain  rtl  \" ><span class=\"txtu ara\">وَ</span></span><span class=\"plain  rtl  \" ><span class=\"txtu ara\">أُو۟لَٰٓئِكَ </span></span></span></span></div> </div><div class=\"contnr c1 trm rtl  \" ><div class=\"lbl c1 trm \" ><span class=\"txtu ara\"><span class=\"plain outer rtl  \" ><span class=\"plain txtu ara rtl\"></span><span class=\"plain  rtl  \" ><span class=\"txtu ara\">هُمُ </span></span></span></span></div> </div><div class=\"contnr c1 trm rtl  \" ><div class=\"lbl c1 trm \" ><span class=\"txtu ara\"><span class=\"plain outer rtl  \" ><span class=\"plain txtu ara rtl\"></span><span class=\"plain  rtl  \" ><span class=\"txtu ara\">ٱلْ</span></span><span class=\"plain  rtl  \" ><span class=\"txtu ara\">مُتَّقُونَ</span></span></span></span></div> </div></div></div>"
      ],
      "text/plain": [
       "<IPython.core.display.HTML object>"
      ]
     },
     "metadata": {},
     "output_type": "display_data"
    },
    {
     "data": {
      "text/html": [
       "<p><b>result</b> <i>7</i></p>"
      ],
      "text/plain": [
       "<IPython.core.display.HTML object>"
      ]
     },
     "metadata": {},
     "output_type": "display_data"
    },
    {
     "data": {
      "text/html": [
       "<span class=\"section ltr\"><a target=\"_blank\" href=\"/#2:178\" title=\"show this passage on Tanzil\" sec=\"2:178\">2:178</a> </span><div class=\"contnr c3  rtl  \" > <div class='features'><span class=\"translation@en xft\" ><span class=\"f\">translation@en=</span>O believers, prescribed for you is retaliation, touching the slain; freeman for freeman, slave for slave, female for female. But if aught is pardoned a man by his brother, let the pursuing be honourable, and let the payment be with kindliness. That is a lightening granted you by your Lord, and a mercy; and for him who commits aggression after that -- for him there awaits a painful chastisement.</span></div><div class=\"children row wrap rtl\"><div class=\"contnr c1 trm rtl  \" ><div class=\"lbl c1 trm \" ><span class=\"txtu ara\"><span class=\"plain outer rtl  \" ><span class=\"plain txtu ara rtl\"></span><span class=\"plain  rtl  \" ><span class=\"txtu ara\">يَٰٓ</span></span><span class=\"plain  rtl  \" ><span class=\"txtu ara\">أَيُّهَا </span></span></span></span></div> </div><div class=\"contnr c1 trm rtl  \" ><div class=\"lbl c1 trm \" ><span class=\"txtu ara\"><span class=\"plain outer rtl  \" ><span class=\"plain txtu ara rtl\"></span><span class=\"plain  rtl  \" ><span class=\"txtu ara\">ٱلَّذِينَ </span></span></span></span></div> </div><div class=\"contnr c1 trm rtl  \" ><div class=\"lbl c1 trm \" ><span class=\"txtu ara\"><span class=\"plain outer rtl  \" ><span class=\"plain txtu ara rtl\"></span><span class=\"plain  rtl  \" ><span class=\"txtu ara\">ءَامَنُ</span></span><span class=\"plain  rtl  \" ><span class=\"txtu ara\">وا۟ </span></span></span></span></div> </div><div class=\"contnr c1 trm rtl  \" ><div class=\"lbl c1 trm \" ><span class=\"txtu ara\"><span class=\"plain outer rtl  \" ><span class=\"plain txtu ara rtl\"></span><span class=\"plain  rtl  \" ><span class=\"txtu ara\">كُتِبَ </span></span></span></span></div> </div><div class=\"contnr c1 trm rtl  \" ><div class=\"lbl c1 trm \" ><span class=\"txtu ara\"><span class=\"plain outer rtl  \" ><span class=\"plain txtu ara rtl\"></span><span class=\"plain  rtl  \" ><span class=\"txtu ara\">عَلَيْ</span></span><span class=\"plain  rtl  \" ><span class=\"txtu ara\">كُمُ </span></span></span></span></div> </div><div class=\"contnr c1 trm rtl  \" ><div class=\"lbl c1 trm \" ><span class=\"txtu ara\"><span class=\"plain outer rtl  \" ><span class=\"plain txtu ara rtl\"></span><span class=\"plain  rtl  \" ><span class=\"txtu ara\">ٱلْ</span></span><span class=\"plain  rtl  \" ><span class=\"txtu ara\">قِصَاصُ </span></span></span></span></div> </div><div class=\"contnr c1 trm rtl  \" ><div class=\"lbl c1 trm \" ><span class=\"txtu ara\"><span class=\"plain outer rtl  \" ><span class=\"plain txtu ara rtl\"></span><span class=\"plain  rtl  \" ><span class=\"txtu ara\">فِى </span></span></span></span></div> </div><div class=\"contnr c1 trm rtl  \" ><div class=\"lbl c1 trm \" ><span class=\"txtu ara\"><span class=\"plain outer rtl  \" ><span class=\"plain txtu ara rtl\"></span><span class=\"plain  rtl  \" ><span class=\"txtu ara\">ٱلْ</span></span><span class=\"plain  rtl  \" ><span class=\"txtu ara\">قَتْلَى </span></span></span></span></div> </div><div class=\"contnr c1 trm rtl  \" ><div class=\"lbl c1 trm \" ><span class=\"txtu ara\"><span class=\"plain outer rtl  \" ><span class=\"plain txtu ara rtl\"></span><span class=\"plain  rtl  \" ><span class=\"txtu ara\">ٱلْ</span></span><span class=\"plain  rtl  \" ><span class=\"txtu ara\">حُرُّ </span></span></span></span></div> </div><div class=\"contnr c1 trm rtl  \" ><div class=\"lbl c1 trm \" ><span class=\"txtu ara\"><span class=\"plain outer rtl  \" ><span class=\"plain txtu ara rtl\"></span><span class=\"plain  rtl  \" ><span class=\"txtu ara\">بِ</span></span><span class=\"plain  rtl  \" ><span class=\"txtu ara\">ٱلْ</span></span><span class=\"plain  rtl  \" ><span class=\"txtu ara\">حُرِّ </span></span></span></span></div> </div><div class=\"contnr c1 trm rtl  \" ><div class=\"lbl c1 trm \" ><span class=\"txtu ara\"><span class=\"plain outer rtl  \" ><span class=\"plain txtu ara rtl\"></span><span class=\"plain  rtl  \" ><span class=\"txtu ara\">وَ</span></span><span class=\"plain  rtl  \" ><span class=\"txtu ara\">ٱلْ</span></span><span class=\"plain  rtl  \" ><span class=\"txtu ara\">عَبْدُ </span></span></span></span></div> </div><div class=\"contnr c1 trm rtl  \" ><div class=\"lbl c1 trm \" ><span class=\"txtu ara\"><span class=\"plain outer rtl  \" ><span class=\"plain txtu ara rtl\"></span><span class=\"plain  rtl  \" ><span class=\"txtu ara\">بِ</span></span><span class=\"plain  rtl  \" ><span class=\"txtu ara\">ٱلْ</span></span><span class=\"plain  rtl  \" ><span class=\"txtu ara\">عَبْدِ </span></span></span></span></div> </div><div class=\"contnr c1 trm rtl  \" ><div class=\"lbl c1 trm \" ><span class=\"txtu ara\"><span class=\"plain outer rtl  \" ><span class=\"plain txtu ara rtl\"></span><span class=\"plain  rtl  \" ><span class=\"txtu ara\">وَ</span></span><span class=\"plain  rtl  \" ><span class=\"txtu ara\">ٱلْ</span></span><span class=\"plain  rtl  \" ><span class=\"txtu ara\">أُنثَىٰ </span></span></span></span></div> </div><div class=\"contnr c1 trm rtl  \" ><div class=\"lbl c1 trm \" ><span class=\"txtu ara\"><span class=\"plain outer rtl  \" ><span class=\"plain txtu ara rtl\"></span><span class=\"plain  rtl  \" ><span class=\"txtu ara\">بِ</span></span><span class=\"plain  rtl  \" ><span class=\"txtu ara\">ٱلْ</span></span><span class=\"plain  rtl  \" ><span class=\"txtu ara\">أُنثَىٰ </span></span></span></span></div> </div><div class=\"contnr c1 trm rtl  \" ><div class=\"lbl c1 trm \" ><span class=\"txtu ara\"><span class=\"plain outer rtl  \" ><span class=\"plain txtu ara rtl\"></span><span class=\"plain  rtl  \" ><span class=\"txtu ara\">فَ</span></span><span class=\"plain  rtl  \" ><span class=\"txtu ara\">مَنْ </span></span></span></span></div> </div><div class=\"contnr c1 trm rtl  \" ><div class=\"lbl c1 trm \" ><span class=\"txtu ara\"><span class=\"plain outer rtl  \" ><span class=\"plain txtu ara rtl\"></span><span class=\"plain  rtl  \" ><span class=\"txtu ara\">عُفِىَ </span></span></span></span></div> </div><div class=\"contnr c1 trm rtl  \" ><div class=\"lbl c1 trm \" ><span class=\"txtu ara\"><span class=\"plain outer rtl  \" ><span class=\"plain txtu ara rtl\"></span><span class=\"plain  rtl  \" ><span class=\"txtu ara\">لَ</span></span><span class=\"plain  rtl  \" ><span class=\"txtu ara\">هُۥ </span></span></span></span></div> </div><div class=\"contnr c1 trm rtl  \" ><div class=\"lbl c1 trm \" ><span class=\"txtu ara\"><span class=\"plain outer rtl  \" ><span class=\"plain txtu ara rtl\"></span><span class=\"plain  rtl  \" ><span class=\"txtu ara\">مِنْ </span></span></span></span></div> </div><div class=\"contnr c1 trm rtl  \" ><div class=\"lbl c1 trm \" ><span class=\"txtu ara\"><span class=\"plain outer rtl  \" ><span class=\"plain txtu ara rtl\"></span><span class=\"plain  rtl  \" ><span class=\"txtu ara\">أَخِي</span></span><span class=\"plain  rtl  \" ><span class=\"txtu ara\">هِ </span></span></span></span></div> </div><div class=\"contnr c1 trm rtl  \" ><div class=\"lbl c1 trm \" ><span class=\"txtu ara\"><span class=\"plain outer rtl  \" ><span class=\"plain txtu ara rtl\"></span><span class=\"plain  rtl  \" ><span class=\"txtu ara\">شَىْءٌ </span></span></span></span></div> </div><div class=\"contnr c1 trm rtl  \" ><div class=\"lbl c1 trm \" ><span class=\"txtu ara\"><span class=\"plain outer rtl  \" ><span class=\"plain txtu ara rtl\"></span><span class=\"plain  rtl  \" ><span class=\"txtu ara\">فَ</span></span><span class=\"plain  rtl  \" ><span class=\"txtu ara\">ٱتِّبَاعٌۢ </span></span></span></span></div> </div><div class=\"contnr c1 trm rtl  \" ><div class=\"lbl c1 trm \" ><span class=\"txtu ara\"><span class=\"plain outer rtl  \" ><span class=\"plain txtu ara rtl\"></span><span class=\"plain  rtl  \" ><span class=\"txtu ara\">بِ</span></span><span class=\"plain  rtl  \" ><span class=\"txtu ara\">ٱلْ</span></span><span class=\"plain  rtl  \" ><span class=\"txtu ara\">مَعْرُوفِ </span></span></span></span></div> </div><div class=\"contnr c1 trm rtl  \" ><div class=\"lbl c1 trm \" ><span class=\"txtu ara\"><span class=\"plain outer rtl  \" ><span class=\"plain txtu ara rtl\"></span><span class=\"plain  rtl  \" ><span class=\"txtu ara\">وَ</span></span><span class=\"plain  rtl  \" ><span class=\"txtu ara\">أَدَآءٌ </span></span></span></span></div> </div><div class=\"contnr c1 trm rtl  \" ><div class=\"lbl c1 trm \" ><span class=\"txtu ara\"><span class=\"plain outer rtl  \" ><span class=\"plain txtu ara rtl\"></span><span class=\"plain  rtl  \" ><span class=\"txtu ara\">إِلَيْ</span></span><span class=\"plain  rtl  \" ><span class=\"txtu ara\">هِ </span></span></span></span></div> </div><div class=\"contnr c1 trm rtl  \" ><div class=\"lbl c1 trm \" ><span class=\"txtu ara\"><span class=\"plain outer rtl  \" ><span class=\"plain txtu ara rtl\"></span><span class=\"plain  rtl  \" ><span class=\"txtu ara\">بِ</span></span><span class=\"plain  rtl  \" ><span class=\"txtu ara\">إِحْسَٰنٍ </span></span></span></span></div> </div><div class=\"contnr c1 trm rtl  \" ><div class=\"lbl c1 trm \" ><span class=\"txtu ara\"><span class=\"plain outer rtl  \" ><span class=\"plain txtu ara rtl\"></span><span class=\"plain  rtl  \" ><span class=\"txtu ara\">ذَٰلِكَ </span></span></span></span></div> </div><div class=\"contnr c1 trm rtl  \" ><div class=\"lbl c1 trm \" ><span class=\"txtu ara\"><span class=\"plain outer rtl  \" ><span class=\"plain txtu ara rtl\"></span><span class=\"plain  rtl  \" ><span class=\"txtu ara\">تَخْفِيفٌ </span></span></span></span></div> </div><div class=\"contnr c1 trm rtl  \" ><div class=\"lbl c1 trm \" ><span class=\"txtu ara\"><span class=\"plain outer rtl  \" ><span class=\"plain txtu ara rtl\"></span><span class=\"plain  rtl  \" ><span class=\"txtu ara\">مِّن </span></span></span></span></div> </div><div class=\"contnr c1 trm rtl  \" ><div class=\"lbl c1 trm \" ><span class=\"txtu ara\"><span class=\"plain outer rtl  \" ><span class=\"plain txtu ara rtl\"></span><span class=\"plain  rtl  \" ><span class=\"txtu ara\">رَّبِّ</span></span><span class=\"plain  rtl  \" ><span class=\"txtu ara\">كُمْ </span></span></span></span></div> </div><div class=\"contnr c1 trm rtl  \" ><div class=\"lbl c1 trm \" ><span class=\"txtu ara\"><span class=\"plain outer rtl  \" ><span class=\"plain txtu ara rtl\"></span><span class=\"plain  rtl  \" ><span class=\"txtu ara\">وَ</span></span><span class=\"plain  rtl  \" ><span class=\"txtu ara\">رَحْمَةٌ </span></span></span></span></div> </div><div class=\"contnr c1 trm rtl  \" ><div class=\"lbl c1 trm \" ><span class=\"txtu ara\"><span class=\"plain outer rtl  \" ><span class=\"plain txtu ara rtl\"></span><span class=\"plain  rtl  \" ><span class=\"txtu ara\">فَ</span></span><span class=\"plain  rtl  \" ><span class=\"txtu ara\">مَنِ </span></span></span></span></div> </div><div class=\"contnr c1 trm rtl  \" ><div class=\"lbl c1 trm \" ><span class=\"txtu ara\"><span class=\"plain outer rtl  \" ><span class=\"plain txtu ara rtl\"></span><span class=\"plain  rtl  \" ><span class=\"txtu ara\">ٱعْتَدَىٰ </span></span></span></span></div> </div><div class=\"contnr c1 trm rtl  \" ><div class=\"lbl c1 trm \" ><span class=\"txtu ara\"><span class=\"plain outer rtl  \" ><span class=\"plain txtu ara rtl\"></span><span class=\"plain  rtl  \" ><span class=\"txtu ara\">بَعْدَ </span></span></span></span></div> </div><div class=\"contnr c1 trm rtl  \" ><div class=\"lbl c1 trm \" ><span class=\"txtu ara\"><span class=\"plain outer rtl  \" ><span class=\"plain txtu ara rtl\"></span><span class=\"plain  rtl  \" ><span class=\"txtu ara\">ذَٰلِكَ </span></span></span></span></div> </div><div class=\"contnr c1 trm rtl  \" ><div class=\"lbl c1 trm \" ><span class=\"txtu ara\"><span class=\"plain outer rtl  \" ><span class=\"plain txtu ara rtl\"></span><span class=\"plain  rtl  \" ><span class=\"txtu ara\">فَ</span></span><span class=\"plain  rtl  \" ><span class=\"txtu ara\">لَ</span></span><span class=\"plain  rtl  \" ><span class=\"txtu ara\">هُۥ </span></span></span></span></div> </div><div class=\"contnr c1 trm rtl  \" ><div class=\"lbl c1 trm \" ><span class=\"txtu ara\"><span class=\"plain outer rtl  \" ><span class=\"plain txtu ara rtl\"></span><span class=\"plain  rtl  \" ><span class=\"txtu ara\">عَذَابٌ </span></span></span></span></div> </div><div class=\"contnr c1 trm rtl  \" ><div class=\"lbl c1 trm \" ><span class=\"txtu ara\"><span class=\"plain outer rtl  \" ><span class=\"plain txtu ara rtl\"></span><span class=\"plain  rtl  \" ><span class=\"txtu ara\">أَلِيمٌ</span></span></span></span></div> </div></div></div>"
      ],
      "text/plain": [
       "<IPython.core.display.HTML object>"
      ]
     },
     "metadata": {},
     "output_type": "display_data"
    },
    {
     "data": {
      "text/html": [
       "<span class=\"section ltr\"><a target=\"_blank\" href=\"/#2:253\" title=\"show this passage on Tanzil\" sec=\"2:253\">2:253</a> </span><div class=\"contnr c3  rtl  \" > <div class='features'><span class=\"translation@en xft\" ><span class=\"f\">translation@en=</span>And those Messengers, some We have preferred above others; some there are to whom God spoke, and some He raised in rank. And We gave Jesus son of Mary the clear signs, and confirmed him with the Holy Spirit. And had God willed, those who came after him would not have fought one against the other after the clear signs had come to them; but they fell into variance, and some of them believed, and some disbelieved; and had God willed they would not have fought one against the other; but God does whatsoever He desires.</span></div><div class=\"children row wrap rtl\"><div class=\"contnr c1 trm rtl  \" ><div class=\"lbl c1 trm \" ><span class=\"txtu ara\"><span class=\"plain outer rtl  \" ><span class=\"plain txtu ara rtl\"></span><span class=\"plain  rtl  \" ><span class=\"txtu ara\">تِلْكَ </span></span></span></span></div> </div><div class=\"contnr c1 trm rtl  \" ><div class=\"lbl c1 trm \" ><span class=\"txtu ara\"><span class=\"plain outer rtl  \" ><span class=\"plain txtu ara rtl\"></span><span class=\"plain  rtl  \" ><span class=\"txtu ara\">ٱل</span></span><span class=\"plain  rtl  \" ><span class=\"txtu ara\">رُّسُلُ </span></span></span></span></div> </div><div class=\"contnr c1 trm rtl  \" ><div class=\"lbl c1 trm \" ><span class=\"txtu ara\"><span class=\"plain outer rtl  \" ><span class=\"plain txtu ara rtl\"></span><span class=\"plain  rtl  \" ><span class=\"txtu ara\">فَضَّلْ</span></span><span class=\"plain  rtl  \" ><span class=\"txtu ara\">نَا </span></span></span></span></div> </div><div class=\"contnr c1 trm rtl  \" ><div class=\"lbl c1 trm \" ><span class=\"txtu ara\"><span class=\"plain outer rtl  \" ><span class=\"plain txtu ara rtl\"></span><span class=\"plain  rtl  \" ><span class=\"txtu ara\">بَعْضَ</span></span><span class=\"plain  rtl  \" ><span class=\"txtu ara\">هُمْ </span></span></span></span></div> </div><div class=\"contnr c1 trm rtl  \" ><div class=\"lbl c1 trm \" ><span class=\"txtu ara\"><span class=\"plain outer rtl  \" ><span class=\"plain txtu ara rtl\"></span><span class=\"plain  rtl  \" ><span class=\"txtu ara\">عَلَىٰ </span></span></span></span></div> </div><div class=\"contnr c1 trm rtl  \" ><div class=\"lbl c1 trm \" ><span class=\"txtu ara\"><span class=\"plain outer rtl  \" ><span class=\"plain txtu ara rtl\"></span><span class=\"plain  rtl  \" ><span class=\"txtu ara\">بَعْضٍ </span></span></span></span></div> </div><div class=\"contnr c1 trm rtl  \" ><div class=\"lbl c1 trm \" ><span class=\"txtu ara\"><span class=\"plain outer rtl  \" ><span class=\"plain txtu ara rtl\"></span><span class=\"plain  rtl  \" ><span class=\"txtu ara\">مِّنْ</span></span><span class=\"plain  rtl  \" ><span class=\"txtu ara\">هُم </span></span></span></span></div> </div><div class=\"contnr c1 trm rtl  \" ><div class=\"lbl c1 trm \" ><span class=\"txtu ara\"><span class=\"plain outer rtl  \" ><span class=\"plain txtu ara rtl\"></span><span class=\"plain  rtl  \" ><span class=\"txtu ara\">مَّن </span></span></span></span></div> </div><div class=\"contnr c1 trm rtl  \" ><div class=\"lbl c1 trm \" ><span class=\"txtu ara\"><span class=\"plain outer rtl  \" ><span class=\"plain txtu ara rtl\"></span><span class=\"plain  rtl  \" ><span class=\"txtu ara\">كَلَّمَ </span></span></span></span></div> </div><div class=\"contnr c1 trm rtl  \" ><div class=\"lbl c1 trm \" ><span class=\"txtu ara\"><span class=\"plain outer rtl  \" ><span class=\"plain txtu ara rtl\"></span><span class=\"plain  rtl  \" ><span class=\"txtu ara\">ٱللَّهُ </span></span></span></span></div> </div><div class=\"contnr c1 trm rtl  \" ><div class=\"lbl c1 trm \" ><span class=\"txtu ara\"><span class=\"plain outer rtl  \" ><span class=\"plain txtu ara rtl\"></span><span class=\"plain  rtl  \" ><span class=\"txtu ara\">وَ</span></span><span class=\"plain  rtl  \" ><span class=\"txtu ara\">رَفَعَ </span></span></span></span></div> </div><div class=\"contnr c1 trm rtl  \" ><div class=\"lbl c1 trm \" ><span class=\"txtu ara\"><span class=\"plain outer rtl  \" ><span class=\"plain txtu ara rtl\"></span><span class=\"plain  rtl  \" ><span class=\"txtu ara\">بَعْضَ</span></span><span class=\"plain  rtl  \" ><span class=\"txtu ara\">هُمْ </span></span></span></span></div> </div><div class=\"contnr c1 trm rtl  \" ><div class=\"lbl c1 trm \" ><span class=\"txtu ara\"><span class=\"plain outer rtl  \" ><span class=\"plain txtu ara rtl\"></span><span class=\"plain  rtl  \" ><span class=\"txtu ara\">دَرَجَٰتٍ </span></span></span></span></div> </div><div class=\"contnr c1 trm rtl  \" ><div class=\"lbl c1 trm \" ><span class=\"txtu ara\"><span class=\"plain outer rtl  \" ><span class=\"plain txtu ara rtl\"></span><span class=\"plain  rtl  \" ><span class=\"txtu ara\">وَ</span></span><span class=\"plain  rtl  \" ><span class=\"txtu ara\">ءَاتَيْ</span></span><span class=\"plain  rtl  \" ><span class=\"txtu ara\">نَا </span></span></span></span></div> </div><div class=\"contnr c1 trm rtl  \" ><div class=\"lbl c1 trm \" ><span class=\"txtu ara\"><span class=\"plain outer rtl  \" ><span class=\"plain txtu ara rtl\"></span><span class=\"plain  rtl  \" ><span class=\"txtu ara\">عِيسَى </span></span></span></span></div> </div><div class=\"contnr c1 trm rtl  \" ><div class=\"lbl c1 trm \" ><span class=\"txtu ara\"><span class=\"plain outer rtl  \" ><span class=\"plain txtu ara rtl\"></span><span class=\"plain  rtl  \" ><span class=\"txtu ara\">ٱبْنَ </span></span></span></span></div> </div><div class=\"contnr c1 trm rtl  \" ><div class=\"lbl c1 trm \" ><span class=\"txtu ara\"><span class=\"plain outer rtl  \" ><span class=\"plain txtu ara rtl\"></span><span class=\"plain  rtl  \" ><span class=\"txtu ara\">مَرْيَمَ </span></span></span></span></div> </div><div class=\"contnr c1 trm rtl  \" ><div class=\"lbl c1 trm \" ><span class=\"txtu ara\"><span class=\"plain outer rtl  \" ><span class=\"plain txtu ara rtl\"></span><span class=\"plain  rtl  \" ><span class=\"txtu ara\">ٱلْ</span></span><span class=\"plain  rtl  \" ><span class=\"txtu ara\">بَيِّنَٰتِ </span></span></span></span></div> </div><div class=\"contnr c1 trm rtl  \" ><div class=\"lbl c1 trm \" ><span class=\"txtu ara\"><span class=\"plain outer rtl  \" ><span class=\"plain txtu ara rtl\"></span><span class=\"plain  rtl  \" ><span class=\"txtu ara\">وَ</span></span><span class=\"plain  rtl  \" ><span class=\"txtu ara\">أَيَّدْ</span></span><span class=\"plain  rtl  \" ><span class=\"txtu ara\">نَٰ</span></span><span class=\"plain  rtl  \" ><span class=\"txtu ara\">هُ </span></span></span></span></div> </div><div class=\"contnr c1 trm rtl  \" ><div class=\"lbl c1 trm \" ><span class=\"txtu ara\"><span class=\"plain outer rtl  \" ><span class=\"plain txtu ara rtl\"></span><span class=\"plain  rtl  \" ><span class=\"txtu ara\">بِ</span></span><span class=\"plain  rtl  \" ><span class=\"txtu ara\">رُوحِ </span></span></span></span></div> </div><div class=\"contnr c1 trm rtl  \" ><div class=\"lbl c1 trm \" ><span class=\"txtu ara\"><span class=\"plain outer rtl  \" ><span class=\"plain txtu ara rtl\"></span><span class=\"plain  rtl  \" ><span class=\"txtu ara\">ٱلْ</span></span><span class=\"plain  rtl  \" ><span class=\"txtu ara\">قُدُسِ </span></span></span></span></div> </div><div class=\"contnr c1 trm rtl  \" ><div class=\"lbl c1 trm \" ><span class=\"txtu ara\"><span class=\"plain outer rtl  \" ><span class=\"plain txtu ara rtl\"></span><span class=\"plain  rtl  \" ><span class=\"txtu ara\">وَ</span></span><span class=\"plain  rtl  \" ><span class=\"txtu ara\">لَوْ </span></span></span></span></div> </div><div class=\"contnr c1 trm rtl  \" ><div class=\"lbl c1 trm \" ><span class=\"txtu ara\"><span class=\"plain outer rtl  \" ><span class=\"plain txtu ara rtl\"></span><span class=\"plain  rtl  \" ><span class=\"txtu ara\">شَآءَ </span></span></span></span></div> </div><div class=\"contnr c1 trm rtl  \" ><div class=\"lbl c1 trm \" ><span class=\"txtu ara\"><span class=\"plain outer rtl  \" ><span class=\"plain txtu ara rtl\"></span><span class=\"plain  rtl  \" ><span class=\"txtu ara\">ٱللَّهُ </span></span></span></span></div> </div><div class=\"contnr c1 trm rtl  \" ><div class=\"lbl c1 trm \" ><span class=\"txtu ara\"><span class=\"plain outer rtl  \" ><span class=\"plain txtu ara rtl\"></span><span class=\"plain  rtl  \" ><span class=\"txtu ara\">مَا </span></span></span></span></div> </div><div class=\"contnr c1 trm rtl  \" ><div class=\"lbl c1 trm \" ><span class=\"txtu ara\"><span class=\"plain outer rtl  \" ><span class=\"plain txtu ara rtl\"></span><span class=\"plain  rtl  \" ><span class=\"txtu ara\">ٱقْتَتَلَ </span></span></span></span></div> </div><div class=\"contnr c1 trm rtl  \" ><div class=\"lbl c1 trm \" ><span class=\"txtu ara\"><span class=\"plain outer rtl  \" ><span class=\"plain txtu ara rtl\"></span><span class=\"plain  rtl  \" ><span class=\"txtu ara\">ٱلَّذِينَ </span></span></span></span></div> </div><div class=\"contnr c1 trm rtl  \" ><div class=\"lbl c1 trm \" ><span class=\"txtu ara\"><span class=\"plain outer rtl  \" ><span class=\"plain txtu ara rtl\"></span><span class=\"plain  rtl  \" ><span class=\"txtu ara\">مِنۢ </span></span></span></span></div> </div><div class=\"contnr c1 trm rtl  \" ><div class=\"lbl c1 trm \" ><span class=\"txtu ara\"><span class=\"plain outer rtl  \" ><span class=\"plain txtu ara rtl\"></span><span class=\"plain  rtl  \" ><span class=\"txtu ara\">بَعْدِ</span></span><span class=\"plain  rtl  \" ><span class=\"txtu ara\">هِم </span></span></span></span></div> </div><div class=\"contnr c1 trm rtl  \" ><div class=\"lbl c1 trm \" ><span class=\"txtu ara\"><span class=\"plain outer rtl  \" ><span class=\"plain txtu ara rtl\"></span><span class=\"plain  rtl  \" ><span class=\"txtu ara\">مِّنۢ </span></span></span></span></div> </div><div class=\"contnr c1 trm rtl  \" ><div class=\"lbl c1 trm \" ><span class=\"txtu ara\"><span class=\"plain outer rtl  \" ><span class=\"plain txtu ara rtl\"></span><span class=\"plain  rtl  \" ><span class=\"txtu ara\">بَعْدِ </span></span></span></span></div> </div><div class=\"contnr c1 trm rtl  \" ><div class=\"lbl c1 trm \" ><span class=\"txtu ara\"><span class=\"plain outer rtl  \" ><span class=\"plain txtu ara rtl\"></span><span class=\"plain  rtl  \" ><span class=\"txtu ara\">مَا </span></span></span></span></div> </div><div class=\"contnr c1 trm rtl  \" ><div class=\"lbl c1 trm \" ><span class=\"txtu ara\"><span class=\"plain outer rtl  \" ><span class=\"plain txtu ara rtl\"></span><span class=\"plain  rtl  \" ><span class=\"txtu ara\">جَآءَتْ</span></span><span class=\"plain  rtl  \" ><span class=\"txtu ara\">هُمُ </span></span></span></span></div> </div><div class=\"contnr c1 trm rtl  \" ><div class=\"lbl c1 trm \" ><span class=\"txtu ara\"><span class=\"plain outer rtl  \" ><span class=\"plain txtu ara rtl\"></span><span class=\"plain  rtl  \" ><span class=\"txtu ara\">ٱلْ</span></span><span class=\"plain  rtl  \" ><span class=\"txtu ara\">بَيِّنَٰتُ </span></span></span></span></div> </div><div class=\"contnr c1 trm rtl  \" ><div class=\"lbl c1 trm \" ><span class=\"txtu ara\"><span class=\"plain outer rtl  \" ><span class=\"plain txtu ara rtl\"></span><span class=\"plain  rtl  \" ><span class=\"txtu ara\">وَ</span></span><span class=\"plain  rtl  \" ><span class=\"txtu ara\">لَٰكِنِ </span></span></span></span></div> </div><div class=\"contnr c1 trm rtl  \" ><div class=\"lbl c1 trm \" ><span class=\"txtu ara\"><span class=\"plain outer rtl  \" ><span class=\"plain txtu ara rtl\"></span><span class=\"plain  rtl  \" ><span class=\"txtu ara\">ٱخْتَلَفُ</span></span><span class=\"plain  rtl  \" ><span class=\"txtu ara\">وا۟ </span></span></span></span></div> </div><div class=\"contnr c1 trm rtl  \" ><div class=\"lbl c1 trm \" ><span class=\"txtu ara\"><span class=\"plain outer rtl  \" ><span class=\"plain txtu ara rtl\"></span><span class=\"plain  rtl  \" ><span class=\"txtu ara\">فَ</span></span><span class=\"plain  rtl  \" ><span class=\"txtu ara\">مِنْ</span></span><span class=\"plain  rtl  \" ><span class=\"txtu ara\">هُم </span></span></span></span></div> </div><div class=\"contnr c1 trm rtl  \" ><div class=\"lbl c1 trm \" ><span class=\"txtu ara\"><span class=\"plain outer rtl  \" ><span class=\"plain txtu ara rtl\"></span><span class=\"plain  rtl  \" ><span class=\"txtu ara\">مَّنْ </span></span></span></span></div> </div><div class=\"contnr c1 trm rtl  \" ><div class=\"lbl c1 trm \" ><span class=\"txtu ara\"><span class=\"plain outer rtl  \" ><span class=\"plain txtu ara rtl\"></span><span class=\"plain  rtl  \" ><span class=\"txtu ara\">ءَامَنَ </span></span></span></span></div> </div><div class=\"contnr c1 trm rtl  \" ><div class=\"lbl c1 trm \" ><span class=\"txtu ara\"><span class=\"plain outer rtl  \" ><span class=\"plain txtu ara rtl\"></span><span class=\"plain  rtl  \" ><span class=\"txtu ara\">وَ</span></span><span class=\"plain  rtl  \" ><span class=\"txtu ara\">مِنْ</span></span><span class=\"plain  rtl  \" ><span class=\"txtu ara\">هُم </span></span></span></span></div> </div><div class=\"contnr c1 trm rtl  \" ><div class=\"lbl c1 trm \" ><span class=\"txtu ara\"><span class=\"plain outer rtl  \" ><span class=\"plain txtu ara rtl\"></span><span class=\"plain  rtl  \" ><span class=\"txtu ara\">مَّن </span></span></span></span></div> </div><div class=\"contnr c1 trm rtl  \" ><div class=\"lbl c1 trm \" ><span class=\"txtu ara\"><span class=\"plain outer rtl  \" ><span class=\"plain txtu ara rtl\"></span><span class=\"plain  rtl  \" ><span class=\"txtu ara\">كَفَرَ </span></span></span></span></div> </div><div class=\"contnr c1 trm rtl  \" ><div class=\"lbl c1 trm \" ><span class=\"txtu ara\"><span class=\"plain outer rtl  \" ><span class=\"plain txtu ara rtl\"></span><span class=\"plain  rtl  \" ><span class=\"txtu ara\">وَ</span></span><span class=\"plain  rtl  \" ><span class=\"txtu ara\">لَوْ </span></span></span></span></div> </div><div class=\"contnr c1 trm rtl  \" ><div class=\"lbl c1 trm \" ><span class=\"txtu ara\"><span class=\"plain outer rtl  \" ><span class=\"plain txtu ara rtl\"></span><span class=\"plain  rtl  \" ><span class=\"txtu ara\">شَآءَ </span></span></span></span></div> </div><div class=\"contnr c1 trm rtl  \" ><div class=\"lbl c1 trm \" ><span class=\"txtu ara\"><span class=\"plain outer rtl  \" ><span class=\"plain txtu ara rtl\"></span><span class=\"plain  rtl  \" ><span class=\"txtu ara\">ٱللَّهُ </span></span></span></span></div> </div><div class=\"contnr c1 trm rtl  \" ><div class=\"lbl c1 trm \" ><span class=\"txtu ara\"><span class=\"plain outer rtl  \" ><span class=\"plain txtu ara rtl\"></span><span class=\"plain  rtl  \" ><span class=\"txtu ara\">مَا </span></span></span></span></div> </div><div class=\"contnr c1 trm rtl  \" ><div class=\"lbl c1 trm \" ><span class=\"txtu ara\"><span class=\"plain outer rtl  \" ><span class=\"plain txtu ara rtl\"></span><span class=\"plain  rtl  \" ><span class=\"txtu ara\">ٱقْتَتَلُ</span></span><span class=\"plain  rtl  \" ><span class=\"txtu ara\">وا۟ </span></span></span></span></div> </div><div class=\"contnr c1 trm rtl  \" ><div class=\"lbl c1 trm \" ><span class=\"txtu ara\"><span class=\"plain outer rtl  \" ><span class=\"plain txtu ara rtl\"></span><span class=\"plain  rtl  \" ><span class=\"txtu ara\">وَ</span></span><span class=\"plain  rtl  \" ><span class=\"txtu ara\">لَٰكِنَّ </span></span></span></span></div> </div><div class=\"contnr c1 trm rtl  \" ><div class=\"lbl c1 trm \" ><span class=\"txtu ara\"><span class=\"plain outer rtl  \" ><span class=\"plain txtu ara rtl\"></span><span class=\"plain  rtl  \" ><span class=\"txtu ara\">ٱللَّهَ </span></span></span></span></div> </div><div class=\"contnr c1 trm rtl  \" ><div class=\"lbl c1 trm \" ><span class=\"txtu ara\"><span class=\"plain outer rtl  \" ><span class=\"plain txtu ara rtl\"></span><span class=\"plain  rtl  \" ><span class=\"txtu ara\">يَفْعَلُ </span></span></span></span></div> </div><div class=\"contnr c1 trm rtl  \" ><div class=\"lbl c1 trm \" ><span class=\"txtu ara\"><span class=\"plain outer rtl  \" ><span class=\"plain txtu ara rtl\"></span><span class=\"plain  rtl  \" ><span class=\"txtu ara\">مَا </span></span></span></span></div> </div><div class=\"contnr c1 trm rtl  \" ><div class=\"lbl c1 trm \" ><span class=\"txtu ara\"><span class=\"plain outer rtl  \" ><span class=\"plain txtu ara rtl\"></span><span class=\"plain  rtl  \" ><span class=\"txtu ara\">يُرِيدُ</span></span></span></span></div> </div></div></div>"
      ],
      "text/plain": [
       "<IPython.core.display.HTML object>"
      ]
     },
     "metadata": {},
     "output_type": "display_data"
    },
    {
     "data": {
      "text/html": [
       "<p><b>result</b> <i>8</i></p>"
      ],
      "text/plain": [
       "<IPython.core.display.HTML object>"
      ]
     },
     "metadata": {},
     "output_type": "display_data"
    },
    {
     "data": {
      "text/html": [
       "<span class=\"section ltr\"><a target=\"_blank\" href=\"/#2:254\" title=\"show this passage on Tanzil\" sec=\"2:254\">2:254</a> </span><div class=\"contnr c3  rtl  \" > <div class='features'><span class=\"translation@en xft\" ><span class=\"f\">translation@en=</span>O believers, expend of that wherewith We have provided you, before there comes a day wherein shall be neither traffick, nor friendship, nor intercession; and the unbelievers -- they are the evildoers.</span></div><div class=\"children row wrap rtl\"><div class=\"contnr c1 trm rtl  \" ><div class=\"lbl c1 trm \" ><span class=\"txtu ara\"><span class=\"plain outer rtl  \" ><span class=\"plain txtu ara rtl\"></span><span class=\"plain  rtl  \" ><span class=\"txtu ara\">يَٰٓ</span></span><span class=\"plain  rtl  \" ><span class=\"txtu ara\">أَيُّهَا </span></span></span></span></div> </div><div class=\"contnr c1 trm rtl  \" ><div class=\"lbl c1 trm \" ><span class=\"txtu ara\"><span class=\"plain outer rtl  \" ><span class=\"plain txtu ara rtl\"></span><span class=\"plain  rtl  \" ><span class=\"txtu ara\">ٱلَّذِينَ </span></span></span></span></div> </div><div class=\"contnr c1 trm rtl  \" ><div class=\"lbl c1 trm \" ><span class=\"txtu ara\"><span class=\"plain outer rtl  \" ><span class=\"plain txtu ara rtl\"></span><span class=\"plain  rtl  \" ><span class=\"txtu ara\">ءَامَنُ</span></span><span class=\"plain  rtl  \" ><span class=\"txtu ara\">وٓا۟ </span></span></span></span></div> </div><div class=\"contnr c1 trm rtl  \" ><div class=\"lbl c1 trm \" ><span class=\"txtu ara\"><span class=\"plain outer rtl  \" ><span class=\"plain txtu ara rtl\"></span><span class=\"plain  rtl  \" ><span class=\"txtu ara\">أَنفِقُ</span></span><span class=\"plain  rtl  \" ><span class=\"txtu ara\">وا۟ </span></span></span></span></div> </div><div class=\"contnr c1 trm rtl  \" ><div class=\"lbl c1 trm \" ><span class=\"txtu ara\"><span class=\"plain outer rtl  \" ><span class=\"plain txtu ara rtl\"></span><span class=\"plain  rtl  \" ><span class=\"txtu ara\">مِ</span></span><span class=\"plain  rtl  \" ><span class=\"txtu ara\">مَّا </span></span></span></span></div> </div><div class=\"contnr c1 trm rtl  \" ><div class=\"lbl c1 trm \" ><span class=\"txtu ara\"><span class=\"plain outer rtl  \" ><span class=\"plain txtu ara rtl\"></span><span class=\"plain  rtl  \" ><span class=\"txtu ara\">رَزَقْ</span></span><span class=\"plain  rtl  \" ><span class=\"txtu ara\">نَٰ</span></span><span class=\"plain  rtl  \" ><span class=\"txtu ara\">كُم </span></span></span></span></div> </div><div class=\"contnr c1 trm rtl  \" ><div class=\"lbl c1 trm \" ><span class=\"txtu ara\"><span class=\"plain outer rtl  \" ><span class=\"plain txtu ara rtl\"></span><span class=\"plain  rtl  \" ><span class=\"txtu ara\">مِّن </span></span></span></span></div> </div><div class=\"contnr c1 trm rtl  \" ><div class=\"lbl c1 trm \" ><span class=\"txtu ara\"><span class=\"plain outer rtl  \" ><span class=\"plain txtu ara rtl\"></span><span class=\"plain  rtl  \" ><span class=\"txtu ara\">قَبْلِ </span></span></span></span></div> </div><div class=\"contnr c1 trm rtl  \" ><div class=\"lbl c1 trm \" ><span class=\"txtu ara\"><span class=\"plain outer rtl  \" ><span class=\"plain txtu ara rtl\"></span><span class=\"plain  rtl  \" ><span class=\"txtu ara\">أَن </span></span></span></span></div> </div><div class=\"contnr c1 trm rtl  \" ><div class=\"lbl c1 trm \" ><span class=\"txtu ara\"><span class=\"plain outer rtl  \" ><span class=\"plain txtu ara rtl\"></span><span class=\"plain  rtl  \" ><span class=\"txtu ara\">يَأْتِىَ </span></span></span></span></div> </div><div class=\"contnr c1 trm rtl  \" ><div class=\"lbl c1 trm \" ><span class=\"txtu ara\"><span class=\"plain outer rtl  \" ><span class=\"plain txtu ara rtl\"></span><span class=\"plain  rtl  \" ><span class=\"txtu ara\">يَوْمٌ </span></span></span></span></div> </div><div class=\"contnr c1 trm rtl  \" ><div class=\"lbl c1 trm \" ><span class=\"txtu ara\"><span class=\"plain outer rtl  \" ><span class=\"plain txtu ara rtl\"></span><span class=\"plain  rtl  \" ><span class=\"txtu ara\">لَّا </span></span></span></span></div> </div><div class=\"contnr c1 trm rtl  \" ><div class=\"lbl c1 trm \" ><span class=\"txtu ara\"><span class=\"plain outer rtl  \" ><span class=\"plain txtu ara rtl\"></span><span class=\"plain  rtl  \" ><span class=\"txtu ara\">بَيْعٌ </span></span></span></span></div> </div><div class=\"contnr c1 trm rtl  \" ><div class=\"lbl c1 trm \" ><span class=\"txtu ara\"><span class=\"plain outer rtl  \" ><span class=\"plain txtu ara rtl\"></span><span class=\"plain  rtl  \" ><span class=\"txtu ara\">فِي</span></span><span class=\"plain  rtl  \" ><span class=\"txtu ara\">هِ </span></span></span></span></div> </div><div class=\"contnr c1 trm rtl  \" ><div class=\"lbl c1 trm \" ><span class=\"txtu ara\"><span class=\"plain outer rtl  \" ><span class=\"plain txtu ara rtl\"></span><span class=\"plain  rtl  \" ><span class=\"txtu ara\">وَ</span></span><span class=\"plain  rtl  \" ><span class=\"txtu ara\">لَا </span></span></span></span></div> </div><div class=\"contnr c1 trm rtl  \" ><div class=\"lbl c1 trm \" ><span class=\"txtu ara\"><span class=\"plain outer rtl  \" ><span class=\"plain txtu ara rtl\"></span><span class=\"plain  rtl  \" ><span class=\"txtu ara\">خُلَّةٌ </span></span></span></span></div> </div><div class=\"contnr c1 trm rtl  \" ><div class=\"lbl c1 trm \" ><span class=\"txtu ara\"><span class=\"plain outer rtl  \" ><span class=\"plain txtu ara rtl\"></span><span class=\"plain  rtl  \" ><span class=\"txtu ara\">وَ</span></span><span class=\"plain  rtl  \" ><span class=\"txtu ara\">لَا </span></span></span></span></div> </div><div class=\"contnr c1 trm rtl  \" ><div class=\"lbl c1 trm \" ><span class=\"txtu ara\"><span class=\"plain outer rtl  \" ><span class=\"plain txtu ara rtl\"></span><span class=\"plain  rtl  \" ><span class=\"txtu ara\">شَفَٰعَةٌ </span></span></span></span></div> </div><div class=\"contnr c1 trm rtl  \" ><div class=\"lbl c1 trm \" ><span class=\"txtu ara\"><span class=\"plain outer rtl  \" ><span class=\"plain txtu ara rtl\"></span><span class=\"plain  rtl  \" ><span class=\"txtu ara\">وَ</span></span><span class=\"plain  rtl  \" ><span class=\"txtu ara\">ٱلْ</span></span><span class=\"plain  rtl  \" ><span class=\"txtu ara\">كَٰفِرُونَ </span></span></span></span></div> </div><div class=\"contnr c1 trm rtl  \" ><div class=\"lbl c1 trm \" ><span class=\"txtu ara\"><span class=\"plain outer rtl  \" ><span class=\"plain txtu ara rtl\"></span><span class=\"plain  rtl  \" ><span class=\"txtu ara\">هُمُ </span></span></span></span></div> </div><div class=\"contnr c1 trm rtl  \" ><div class=\"lbl c1 trm \" ><span class=\"txtu ara\"><span class=\"plain outer rtl  \" ><span class=\"plain txtu ara rtl\"></span><span class=\"plain  rtl  \" ><span class=\"txtu ara\">ٱل</span></span><span class=\"plain  rtl  \" ><span class=\"txtu ara\">ظَّٰلِمُونَ</span></span></span></span></div> </div></div></div>"
      ],
      "text/plain": [
       "<IPython.core.display.HTML object>"
      ]
     },
     "metadata": {},
     "output_type": "display_data"
    },
    {
     "data": {
      "text/html": [
       "<span class=\"section ltr\"><a target=\"_blank\" href=\"/#2:284\" title=\"show this passage on Tanzil\" sec=\"2:284\">2:284</a> </span><div class=\"contnr c3  rtl  \" > <div class='features'><span class=\"translation@en xft\" ><span class=\"f\">translation@en=</span>To God belongs all that is in the heavers and earth. Whether you publish what is in your hearts or hide it, God shall make reckoning with you for it. He will forgive whom He will, and chastise whom He will; God is powerful over everything.</span></div><div class=\"children row wrap rtl\"><div class=\"contnr c1 trm rtl  \" ><div class=\"lbl c1 trm \" ><span class=\"txtu ara\"><span class=\"plain outer rtl  \" ><span class=\"plain txtu ara rtl\"></span><span class=\"plain  rtl  \" ><span class=\"txtu ara\">لِّ</span></span><span class=\"plain  rtl  \" ><span class=\"txtu ara\">لَّهِ </span></span></span></span></div> </div><div class=\"contnr c1 trm rtl  \" ><div class=\"lbl c1 trm \" ><span class=\"txtu ara\"><span class=\"plain outer rtl  \" ><span class=\"plain txtu ara rtl\"></span><span class=\"plain  rtl  \" ><span class=\"txtu ara\">مَا </span></span></span></span></div> </div><div class=\"contnr c1 trm rtl  \" ><div class=\"lbl c1 trm \" ><span class=\"txtu ara\"><span class=\"plain outer rtl  \" ><span class=\"plain txtu ara rtl\"></span><span class=\"plain  rtl  \" ><span class=\"txtu ara\">فِى </span></span></span></span></div> </div><div class=\"contnr c1 trm rtl  \" ><div class=\"lbl c1 trm \" ><span class=\"txtu ara\"><span class=\"plain outer rtl  \" ><span class=\"plain txtu ara rtl\"></span><span class=\"plain  rtl  \" ><span class=\"txtu ara\">ٱل</span></span><span class=\"plain  rtl  \" ><span class=\"txtu ara\">سَّمَٰوَٰتِ </span></span></span></span></div> </div><div class=\"contnr c1 trm rtl  \" ><div class=\"lbl c1 trm \" ><span class=\"txtu ara\"><span class=\"plain outer rtl  \" ><span class=\"plain txtu ara rtl\"></span><span class=\"plain  rtl  \" ><span class=\"txtu ara\">وَ</span></span><span class=\"plain  rtl  \" ><span class=\"txtu ara\">مَا </span></span></span></span></div> </div><div class=\"contnr c1 trm rtl  \" ><div class=\"lbl c1 trm \" ><span class=\"txtu ara\"><span class=\"plain outer rtl  \" ><span class=\"plain txtu ara rtl\"></span><span class=\"plain  rtl  \" ><span class=\"txtu ara\">فِى </span></span></span></span></div> </div><div class=\"contnr c1 trm rtl  \" ><div class=\"lbl c1 trm \" ><span class=\"txtu ara\"><span class=\"plain outer rtl  \" ><span class=\"plain txtu ara rtl\"></span><span class=\"plain  rtl  \" ><span class=\"txtu ara\">ٱلْ</span></span><span class=\"plain  rtl  \" ><span class=\"txtu ara\">أَرْضِ </span></span></span></span></div> </div><div class=\"contnr c1 trm rtl  \" ><div class=\"lbl c1 trm \" ><span class=\"txtu ara\"><span class=\"plain outer rtl  \" ><span class=\"plain txtu ara rtl\"></span><span class=\"plain  rtl  \" ><span class=\"txtu ara\">وَ</span></span><span class=\"plain  rtl  \" ><span class=\"txtu ara\">إِن </span></span></span></span></div> </div><div class=\"contnr c1 trm rtl  \" ><div class=\"lbl c1 trm \" ><span class=\"txtu ara\"><span class=\"plain outer rtl  \" ><span class=\"plain txtu ara rtl\"></span><span class=\"plain  rtl  \" ><span class=\"txtu ara\">تُبْدُ</span></span><span class=\"plain  rtl  \" ><span class=\"txtu ara\">وا۟ </span></span></span></span></div> </div><div class=\"contnr c1 trm rtl  \" ><div class=\"lbl c1 trm \" ><span class=\"txtu ara\"><span class=\"plain outer rtl  \" ><span class=\"plain txtu ara rtl\"></span><span class=\"plain  rtl  \" ><span class=\"txtu ara\">مَا </span></span></span></span></div> </div><div class=\"contnr c1 trm rtl  \" ><div class=\"lbl c1 trm \" ><span class=\"txtu ara\"><span class=\"plain outer rtl  \" ><span class=\"plain txtu ara rtl\"></span><span class=\"plain  rtl  \" ><span class=\"txtu ara\">فِىٓ </span></span></span></span></div> </div><div class=\"contnr c1 trm rtl  \" ><div class=\"lbl c1 trm \" ><span class=\"txtu ara\"><span class=\"plain outer rtl  \" ><span class=\"plain txtu ara rtl\"></span><span class=\"plain  rtl  \" ><span class=\"txtu ara\">أَنفُسِ</span></span><span class=\"plain  rtl  \" ><span class=\"txtu ara\">كُمْ </span></span></span></span></div> </div><div class=\"contnr c1 trm rtl  \" ><div class=\"lbl c1 trm \" ><span class=\"txtu ara\"><span class=\"plain outer rtl  \" ><span class=\"plain txtu ara rtl\"></span><span class=\"plain  rtl  \" ><span class=\"txtu ara\">أَوْ </span></span></span></span></div> </div><div class=\"contnr c1 trm rtl  \" ><div class=\"lbl c1 trm \" ><span class=\"txtu ara\"><span class=\"plain outer rtl  \" ><span class=\"plain txtu ara rtl\"></span><span class=\"plain  rtl  \" ><span class=\"txtu ara\">تُخْفُ</span></span><span class=\"plain  rtl  \" ><span class=\"txtu ara\">و</span></span><span class=\"plain  rtl  \" ><span class=\"txtu ara\">هُ </span></span></span></span></div> </div><div class=\"contnr c1 trm rtl  \" ><div class=\"lbl c1 trm \" ><span class=\"txtu ara\"><span class=\"plain outer rtl  \" ><span class=\"plain txtu ara rtl\"></span><span class=\"plain  rtl  \" ><span class=\"txtu ara\">يُحَاسِبْ</span></span><span class=\"plain  rtl  \" ><span class=\"txtu ara\">كُم </span></span></span></span></div> </div><div class=\"contnr c1 trm rtl  \" ><div class=\"lbl c1 trm \" ><span class=\"txtu ara\"><span class=\"plain outer rtl  \" ><span class=\"plain txtu ara rtl\"></span><span class=\"plain  rtl  \" ><span class=\"txtu ara\">بِ</span></span><span class=\"plain  rtl  \" ><span class=\"txtu ara\">هِ </span></span></span></span></div> </div><div class=\"contnr c1 trm rtl  \" ><div class=\"lbl c1 trm \" ><span class=\"txtu ara\"><span class=\"plain outer rtl  \" ><span class=\"plain txtu ara rtl\"></span><span class=\"plain  rtl  \" ><span class=\"txtu ara\">ٱللَّهُ </span></span></span></span></div> </div><div class=\"contnr c1 trm rtl  \" ><div class=\"lbl c1 trm \" ><span class=\"txtu ara\"><span class=\"plain outer rtl  \" ><span class=\"plain txtu ara rtl\"></span><span class=\"plain  rtl  \" ><span class=\"txtu ara\">فَ</span></span><span class=\"plain  rtl  \" ><span class=\"txtu ara\">يَغْفِرُ </span></span></span></span></div> </div><div class=\"contnr c1 trm rtl  \" ><div class=\"lbl c1 trm \" ><span class=\"txtu ara\"><span class=\"plain outer rtl  \" ><span class=\"plain txtu ara rtl\"></span><span class=\"plain  rtl  \" ><span class=\"txtu ara\">لِ</span></span><span class=\"plain  rtl  \" ><span class=\"txtu ara\">مَن </span></span></span></span></div> </div><div class=\"contnr c1 trm rtl  \" ><div class=\"lbl c1 trm \" ><span class=\"txtu ara\"><span class=\"plain outer rtl  \" ><span class=\"plain txtu ara rtl\"></span><span class=\"plain  rtl  \" ><span class=\"txtu ara\">يَشَآءُ </span></span></span></span></div> </div><div class=\"contnr c1 trm rtl  \" ><div class=\"lbl c1 trm \" ><span class=\"txtu ara\"><span class=\"plain outer rtl  \" ><span class=\"plain txtu ara rtl\"></span><span class=\"plain  rtl  \" ><span class=\"txtu ara\">وَ</span></span><span class=\"plain  rtl  \" ><span class=\"txtu ara\">يُعَذِّبُ </span></span></span></span></div> </div><div class=\"contnr c1 trm rtl  \" ><div class=\"lbl c1 trm \" ><span class=\"txtu ara\"><span class=\"plain outer rtl  \" ><span class=\"plain txtu ara rtl\"></span><span class=\"plain  rtl  \" ><span class=\"txtu ara\">مَن </span></span></span></span></div> </div><div class=\"contnr c1 trm rtl  \" ><div class=\"lbl c1 trm \" ><span class=\"txtu ara\"><span class=\"plain outer rtl  \" ><span class=\"plain txtu ara rtl\"></span><span class=\"plain  rtl  \" ><span class=\"txtu ara\">يَشَآءُ </span></span></span></span></div> </div><div class=\"contnr c1 trm rtl  \" ><div class=\"lbl c1 trm \" ><span class=\"txtu ara\"><span class=\"plain outer rtl  \" ><span class=\"plain txtu ara rtl\"></span><span class=\"plain  rtl  \" ><span class=\"txtu ara\">وَ</span></span><span class=\"plain  rtl  \" ><span class=\"txtu ara\">ٱللَّهُ </span></span></span></span></div> </div><div class=\"contnr c1 trm rtl  \" ><div class=\"lbl c1 trm \" ><span class=\"txtu ara\"><span class=\"plain outer rtl  \" ><span class=\"plain txtu ara rtl\"></span><span class=\"plain  rtl  \" ><span class=\"txtu ara\">عَلَىٰ </span></span></span></span></div> </div><div class=\"contnr c1 trm rtl  \" ><div class=\"lbl c1 trm \" ><span class=\"txtu ara\"><span class=\"plain outer rtl  \" ><span class=\"plain txtu ara rtl\"></span><span class=\"plain  rtl  \" ><span class=\"txtu ara\">كُلِّ </span></span></span></span></div> </div><div class=\"contnr c1 trm rtl  \" ><div class=\"lbl c1 trm \" ><span class=\"txtu ara\"><span class=\"plain outer rtl  \" ><span class=\"plain txtu ara rtl\"></span><span class=\"plain  rtl  \" ><span class=\"txtu ara\">شَىْءٍ </span></span></span></span></div> </div><div class=\"contnr c1 trm rtl  \" ><div class=\"lbl c1 trm \" ><span class=\"txtu ara\"><span class=\"plain outer rtl  \" ><span class=\"plain txtu ara rtl\"></span><span class=\"plain  rtl  \" ><span class=\"txtu ara\">قَدِيرٌ</span></span></span></span></div> </div></div></div>"
      ],
      "text/plain": [
       "<IPython.core.display.HTML object>"
      ]
     },
     "metadata": {},
     "output_type": "display_data"
    },
    {
     "data": {
      "text/html": [
       "<p><b>result</b> <i>9</i></p>"
      ],
      "text/plain": [
       "<IPython.core.display.HTML object>"
      ]
     },
     "metadata": {},
     "output_type": "display_data"
    },
    {
     "data": {
      "text/html": [
       "<span class=\"section ltr\"><a target=\"_blank\" href=\"/#2:285\" title=\"show this passage on Tanzil\" sec=\"2:285\">2:285</a> </span><div class=\"contnr c3  rtl  \" > <div class='features'><span class=\"translation@en xft\" ><span class=\"f\">translation@en=</span>The Messenger believes in what was sent down to him from his Lord, and the believers; each one believes in God and His angels, and in His Books and His Messengers; we make no division between any one of His Messengers. They say, 'We hear, and obey. Our Lord, grant us Thy forgiveness; unto Thee is the homecoming.'</span></div><div class=\"children row wrap rtl\"><div class=\"contnr c1 trm rtl  \" ><div class=\"lbl c1 trm \" ><span class=\"txtu ara\"><span class=\"plain outer rtl  \" ><span class=\"plain txtu ara rtl\"></span><span class=\"plain  rtl  \" ><span class=\"txtu ara\">ءَامَنَ </span></span></span></span></div> </div><div class=\"contnr c1 trm rtl  \" ><div class=\"lbl c1 trm \" ><span class=\"txtu ara\"><span class=\"plain outer rtl  \" ><span class=\"plain txtu ara rtl\"></span><span class=\"plain  rtl  \" ><span class=\"txtu ara\">ٱل</span></span><span class=\"plain  rtl  \" ><span class=\"txtu ara\">رَّسُولُ </span></span></span></span></div> </div><div class=\"contnr c1 trm rtl  \" ><div class=\"lbl c1 trm \" ><span class=\"txtu ara\"><span class=\"plain outer rtl  \" ><span class=\"plain txtu ara rtl\"></span><span class=\"plain  rtl  \" ><span class=\"txtu ara\">بِ</span></span><span class=\"plain  rtl  \" ><span class=\"txtu ara\">مَآ </span></span></span></span></div> </div><div class=\"contnr c1 trm rtl  \" ><div class=\"lbl c1 trm \" ><span class=\"txtu ara\"><span class=\"plain outer rtl  \" ><span class=\"plain txtu ara rtl\"></span><span class=\"plain  rtl  \" ><span class=\"txtu ara\">أُنزِلَ </span></span></span></span></div> </div><div class=\"contnr c1 trm rtl  \" ><div class=\"lbl c1 trm \" ><span class=\"txtu ara\"><span class=\"plain outer rtl  \" ><span class=\"plain txtu ara rtl\"></span><span class=\"plain  rtl  \" ><span class=\"txtu ara\">إِلَيْ</span></span><span class=\"plain  rtl  \" ><span class=\"txtu ara\">هِ </span></span></span></span></div> </div><div class=\"contnr c1 trm rtl  \" ><div class=\"lbl c1 trm \" ><span class=\"txtu ara\"><span class=\"plain outer rtl  \" ><span class=\"plain txtu ara rtl\"></span><span class=\"plain  rtl  \" ><span class=\"txtu ara\">مِن </span></span></span></span></div> </div><div class=\"contnr c1 trm rtl  \" ><div class=\"lbl c1 trm \" ><span class=\"txtu ara\"><span class=\"plain outer rtl  \" ><span class=\"plain txtu ara rtl\"></span><span class=\"plain  rtl  \" ><span class=\"txtu ara\">رَّبِّ</span></span><span class=\"plain  rtl  \" ><span class=\"txtu ara\">هِۦ </span></span></span></span></div> </div><div class=\"contnr c1 trm rtl  \" ><div class=\"lbl c1 trm \" ><span class=\"txtu ara\"><span class=\"plain outer rtl  \" ><span class=\"plain txtu ara rtl\"></span><span class=\"plain  rtl  \" ><span class=\"txtu ara\">وَ</span></span><span class=\"plain  rtl  \" ><span class=\"txtu ara\">ٱلْ</span></span><span class=\"plain  rtl  \" ><span class=\"txtu ara\">مُؤْمِنُونَ </span></span></span></span></div> </div><div class=\"contnr c1 trm rtl  \" ><div class=\"lbl c1 trm \" ><span class=\"txtu ara\"><span class=\"plain outer rtl  \" ><span class=\"plain txtu ara rtl\"></span><span class=\"plain  rtl  \" ><span class=\"txtu ara\">كُلٌّ </span></span></span></span></div> </div><div class=\"contnr c1 trm rtl  \" ><div class=\"lbl c1 trm \" ><span class=\"txtu ara\"><span class=\"plain outer rtl  \" ><span class=\"plain txtu ara rtl\"></span><span class=\"plain  rtl  \" ><span class=\"txtu ara\">ءَامَنَ </span></span></span></span></div> </div><div class=\"contnr c1 trm rtl  \" ><div class=\"lbl c1 trm \" ><span class=\"txtu ara\"><span class=\"plain outer rtl  \" ><span class=\"plain txtu ara rtl\"></span><span class=\"plain  rtl  \" ><span class=\"txtu ara\">بِ</span></span><span class=\"plain  rtl  \" ><span class=\"txtu ara\">ٱللَّهِ </span></span></span></span></div> </div><div class=\"contnr c1 trm rtl  \" ><div class=\"lbl c1 trm \" ><span class=\"txtu ara\"><span class=\"plain outer rtl  \" ><span class=\"plain txtu ara rtl\"></span><span class=\"plain  rtl  \" ><span class=\"txtu ara\">وَ</span></span><span class=\"plain  rtl  \" ><span class=\"txtu ara\">مَلَٰٓئِكَتِ</span></span><span class=\"plain  rtl  \" ><span class=\"txtu ara\">هِۦ </span></span></span></span></div> </div><div class=\"contnr c1 trm rtl  \" ><div class=\"lbl c1 trm \" ><span class=\"txtu ara\"><span class=\"plain outer rtl  \" ><span class=\"plain txtu ara rtl\"></span><span class=\"plain  rtl  \" ><span class=\"txtu ara\">وَ</span></span><span class=\"plain  rtl  \" ><span class=\"txtu ara\">كُتُبِ</span></span><span class=\"plain  rtl  \" ><span class=\"txtu ara\">هِۦ </span></span></span></span></div> </div><div class=\"contnr c1 trm rtl  \" ><div class=\"lbl c1 trm \" ><span class=\"txtu ara\"><span class=\"plain outer rtl  \" ><span class=\"plain txtu ara rtl\"></span><span class=\"plain  rtl  \" ><span class=\"txtu ara\">وَ</span></span><span class=\"plain  rtl  \" ><span class=\"txtu ara\">رُسُلِ</span></span><span class=\"plain  rtl  \" ><span class=\"txtu ara\">هِۦ </span></span></span></span></div> </div><div class=\"contnr c1 trm rtl  \" ><div class=\"lbl c1 trm \" ><span class=\"txtu ara\"><span class=\"plain outer rtl  \" ><span class=\"plain txtu ara rtl\"></span><span class=\"plain  rtl  \" ><span class=\"txtu ara\">لَا </span></span></span></span></div> </div><div class=\"contnr c1 trm rtl  \" ><div class=\"lbl c1 trm \" ><span class=\"txtu ara\"><span class=\"plain outer rtl  \" ><span class=\"plain txtu ara rtl\"></span><span class=\"plain  rtl  \" ><span class=\"txtu ara\">نُفَرِّقُ </span></span></span></span></div> </div><div class=\"contnr c1 trm rtl  \" ><div class=\"lbl c1 trm \" ><span class=\"txtu ara\"><span class=\"plain outer rtl  \" ><span class=\"plain txtu ara rtl\"></span><span class=\"plain  rtl  \" ><span class=\"txtu ara\">بَيْنَ </span></span></span></span></div> </div><div class=\"contnr c1 trm rtl  \" ><div class=\"lbl c1 trm \" ><span class=\"txtu ara\"><span class=\"plain outer rtl  \" ><span class=\"plain txtu ara rtl\"></span><span class=\"plain  rtl  \" ><span class=\"txtu ara\">أَحَدٍ </span></span></span></span></div> </div><div class=\"contnr c1 trm rtl  \" ><div class=\"lbl c1 trm \" ><span class=\"txtu ara\"><span class=\"plain outer rtl  \" ><span class=\"plain txtu ara rtl\"></span><span class=\"plain  rtl  \" ><span class=\"txtu ara\">مِّن </span></span></span></span></div> </div><div class=\"contnr c1 trm rtl  \" ><div class=\"lbl c1 trm \" ><span class=\"txtu ara\"><span class=\"plain outer rtl  \" ><span class=\"plain txtu ara rtl\"></span><span class=\"plain  rtl  \" ><span class=\"txtu ara\">رُّسُلِ</span></span><span class=\"plain  rtl  \" ><span class=\"txtu ara\">هِۦ </span></span></span></span></div> </div><div class=\"contnr c1 trm rtl  \" ><div class=\"lbl c1 trm \" ><span class=\"txtu ara\"><span class=\"plain outer rtl  \" ><span class=\"plain txtu ara rtl\"></span><span class=\"plain  rtl  \" ><span class=\"txtu ara\">وَ</span></span><span class=\"plain  rtl  \" ><span class=\"txtu ara\">قَالُ</span></span><span class=\"plain  rtl  \" ><span class=\"txtu ara\">وا۟ </span></span></span></span></div> </div><div class=\"contnr c1 trm rtl  \" ><div class=\"lbl c1 trm \" ><span class=\"txtu ara\"><span class=\"plain outer rtl  \" ><span class=\"plain txtu ara rtl\"></span><span class=\"plain  rtl  \" ><span class=\"txtu ara\">سَمِعْ</span></span><span class=\"plain  rtl  \" ><span class=\"txtu ara\">نَا </span></span></span></span></div> </div><div class=\"contnr c1 trm rtl  \" ><div class=\"lbl c1 trm \" ><span class=\"txtu ara\"><span class=\"plain outer rtl  \" ><span class=\"plain txtu ara rtl\"></span><span class=\"plain  rtl  \" ><span class=\"txtu ara\">وَ</span></span><span class=\"plain  rtl  \" ><span class=\"txtu ara\">أَطَعْ</span></span><span class=\"plain  rtl  \" ><span class=\"txtu ara\">نَا </span></span></span></span></div> </div><div class=\"contnr c1 trm rtl  \" ><div class=\"lbl c1 trm \" ><span class=\"txtu ara\"><span class=\"plain outer rtl  \" ><span class=\"plain txtu ara rtl\"></span><span class=\"plain  rtl  \" ><span class=\"txtu ara\">غُفْرَانَ</span></span><span class=\"plain  rtl  \" ><span class=\"txtu ara\">كَ </span></span></span></span></div> </div><div class=\"contnr c1 trm rtl  \" ><div class=\"lbl c1 trm \" ><span class=\"txtu ara\"><span class=\"plain outer rtl  \" ><span class=\"plain txtu ara rtl\"></span><span class=\"plain  rtl  \" ><span class=\"txtu ara\">رَبَّ</span></span><span class=\"plain  rtl  \" ><span class=\"txtu ara\">نَا </span></span></span></span></div> </div><div class=\"contnr c1 trm rtl  \" ><div class=\"lbl c1 trm \" ><span class=\"txtu ara\"><span class=\"plain outer rtl  \" ><span class=\"plain txtu ara rtl\"></span><span class=\"plain  rtl  \" ><span class=\"txtu ara\">وَ</span></span><span class=\"plain  rtl  \" ><span class=\"txtu ara\">إِلَيْ</span></span><span class=\"plain  rtl  \" ><span class=\"txtu ara\">كَ </span></span></span></span></div> </div><div class=\"contnr c1 trm rtl  \" ><div class=\"lbl c1 trm \" ><span class=\"txtu ara\"><span class=\"plain outer rtl  \" ><span class=\"plain txtu ara rtl\"></span><span class=\"plain  rtl  \" ><span class=\"txtu ara\">ٱلْ</span></span><span class=\"plain  rtl  \" ><span class=\"txtu ara\">مَصِيرُ</span></span></span></span></div> </div></div></div>"
      ],
      "text/plain": [
       "<IPython.core.display.HTML object>"
      ]
     },
     "metadata": {},
     "output_type": "display_data"
    },
    {
     "data": {
      "text/html": [
       "<span class=\"section ltr\"><a target=\"_blank\" href=\"/#2:286\" title=\"show this passage on Tanzil\" sec=\"2:286\">2:286</a> </span><div class=\"contnr c3  rtl  \" > <div class='features'><span class=\"translation@en xft\" ><span class=\"f\">translation@en=</span>God charges no soul save to its capacity; standing to its account is what it has earned, and against its account what it has merited. Our Lord, take us not to task if we forget, or make mistake. Our Lord; charge us not with a load such as Thou didst lay upon those before us. Our Lord, do Thou not burden us beyond what we have the strength to bear. And pardon us, and forgive us, and have mercy on us; Thou art our Protector. And help us against the people of the unbelievers.</span></div><div class=\"children row wrap rtl\"><div class=\"contnr c1 trm rtl  \" ><div class=\"lbl c1 trm \" ><span class=\"txtu ara\"><span class=\"plain outer rtl  \" ><span class=\"plain txtu ara rtl\"></span><span class=\"plain  rtl  \" ><span class=\"txtu ara\">لَا </span></span></span></span></div> </div><div class=\"contnr c1 trm rtl  \" ><div class=\"lbl c1 trm \" ><span class=\"txtu ara\"><span class=\"plain outer rtl  \" ><span class=\"plain txtu ara rtl\"></span><span class=\"plain  rtl  \" ><span class=\"txtu ara\">يُكَلِّفُ </span></span></span></span></div> </div><div class=\"contnr c1 trm rtl  \" ><div class=\"lbl c1 trm \" ><span class=\"txtu ara\"><span class=\"plain outer rtl  \" ><span class=\"plain txtu ara rtl\"></span><span class=\"plain  rtl  \" ><span class=\"txtu ara\">ٱللَّهُ </span></span></span></span></div> </div><div class=\"contnr c1 trm rtl  \" ><div class=\"lbl c1 trm \" ><span class=\"txtu ara\"><span class=\"plain outer rtl  \" ><span class=\"plain txtu ara rtl\"></span><span class=\"plain  rtl  \" ><span class=\"txtu ara\">نَفْسًا </span></span></span></span></div> </div><div class=\"contnr c1 trm rtl  \" ><div class=\"lbl c1 trm \" ><span class=\"txtu ara\"><span class=\"plain outer rtl  \" ><span class=\"plain txtu ara rtl\"></span><span class=\"plain  rtl  \" ><span class=\"txtu ara\">إِلَّا </span></span></span></span></div> </div><div class=\"contnr c1 trm rtl  \" ><div class=\"lbl c1 trm \" ><span class=\"txtu ara\"><span class=\"plain outer rtl  \" ><span class=\"plain txtu ara rtl\"></span><span class=\"plain  rtl  \" ><span class=\"txtu ara\">وُسْعَ</span></span><span class=\"plain  rtl  \" ><span class=\"txtu ara\">هَا </span></span></span></span></div> </div><div class=\"contnr c1 trm rtl  \" ><div class=\"lbl c1 trm \" ><span class=\"txtu ara\"><span class=\"plain outer rtl  \" ><span class=\"plain txtu ara rtl\"></span><span class=\"plain  rtl  \" ><span class=\"txtu ara\">لَ</span></span><span class=\"plain  rtl  \" ><span class=\"txtu ara\">هَا </span></span></span></span></div> </div><div class=\"contnr c1 trm rtl  \" ><div class=\"lbl c1 trm \" ><span class=\"txtu ara\"><span class=\"plain outer rtl  \" ><span class=\"plain txtu ara rtl\"></span><span class=\"plain  rtl  \" ><span class=\"txtu ara\">مَا </span></span></span></span></div> </div><div class=\"contnr c1 trm rtl  \" ><div class=\"lbl c1 trm \" ><span class=\"txtu ara\"><span class=\"plain outer rtl  \" ><span class=\"plain txtu ara rtl\"></span><span class=\"plain  rtl  \" ><span class=\"txtu ara\">كَسَبَتْ </span></span></span></span></div> </div><div class=\"contnr c1 trm rtl  \" ><div class=\"lbl c1 trm \" ><span class=\"txtu ara\"><span class=\"plain outer rtl  \" ><span class=\"plain txtu ara rtl\"></span><span class=\"plain  rtl  \" ><span class=\"txtu ara\">وَ</span></span><span class=\"plain  rtl  \" ><span class=\"txtu ara\">عَلَيْ</span></span><span class=\"plain  rtl  \" ><span class=\"txtu ara\">هَا </span></span></span></span></div> </div><div class=\"contnr c1 trm rtl  \" ><div class=\"lbl c1 trm \" ><span class=\"txtu ara\"><span class=\"plain outer rtl  \" ><span class=\"plain txtu ara rtl\"></span><span class=\"plain  rtl  \" ><span class=\"txtu ara\">مَا </span></span></span></span></div> </div><div class=\"contnr c1 trm rtl  \" ><div class=\"lbl c1 trm \" ><span class=\"txtu ara\"><span class=\"plain outer rtl  \" ><span class=\"plain txtu ara rtl\"></span><span class=\"plain  rtl  \" ><span class=\"txtu ara\">ٱكْتَسَبَتْ </span></span></span></span></div> </div><div class=\"contnr c1 trm rtl  \" ><div class=\"lbl c1 trm \" ><span class=\"txtu ara\"><span class=\"plain outer rtl  \" ><span class=\"plain txtu ara rtl\"></span><span class=\"plain  rtl  \" ><span class=\"txtu ara\">رَبَّ</span></span><span class=\"plain  rtl  \" ><span class=\"txtu ara\">نَا </span></span></span></span></div> </div><div class=\"contnr c1 trm rtl  \" ><div class=\"lbl c1 trm \" ><span class=\"txtu ara\"><span class=\"plain outer rtl  \" ><span class=\"plain txtu ara rtl\"></span><span class=\"plain  rtl  \" ><span class=\"txtu ara\">لَا </span></span></span></span></div> </div><div class=\"contnr c1 trm rtl  \" ><div class=\"lbl c1 trm \" ><span class=\"txtu ara\"><span class=\"plain outer rtl  \" ><span class=\"plain txtu ara rtl\"></span><span class=\"plain  rtl  \" ><span class=\"txtu ara\">تُؤَاخِذْ</span></span><span class=\"plain  rtl  \" ><span class=\"txtu ara\">نَآ </span></span></span></span></div> </div><div class=\"contnr c1 trm rtl  \" ><div class=\"lbl c1 trm \" ><span class=\"txtu ara\"><span class=\"plain outer rtl  \" ><span class=\"plain txtu ara rtl\"></span><span class=\"plain  rtl  \" ><span class=\"txtu ara\">إِن </span></span></span></span></div> </div><div class=\"contnr c1 trm rtl  \" ><div class=\"lbl c1 trm \" ><span class=\"txtu ara\"><span class=\"plain outer rtl  \" ><span class=\"plain txtu ara rtl\"></span><span class=\"plain  rtl  \" ><span class=\"txtu ara\">نَّسِي</span></span><span class=\"plain  rtl  \" ><span class=\"txtu ara\">نَآ </span></span></span></span></div> </div><div class=\"contnr c1 trm rtl  \" ><div class=\"lbl c1 trm \" ><span class=\"txtu ara\"><span class=\"plain outer rtl  \" ><span class=\"plain txtu ara rtl\"></span><span class=\"plain  rtl  \" ><span class=\"txtu ara\">أَوْ </span></span></span></span></div> </div><div class=\"contnr c1 trm rtl  \" ><div class=\"lbl c1 trm \" ><span class=\"txtu ara\"><span class=\"plain outer rtl  \" ><span class=\"plain txtu ara rtl\"></span><span class=\"plain  rtl  \" ><span class=\"txtu ara\">أَخْطَأْ</span></span><span class=\"plain  rtl  \" ><span class=\"txtu ara\">نَا </span></span></span></span></div> </div><div class=\"contnr c1 trm rtl  \" ><div class=\"lbl c1 trm \" ><span class=\"txtu ara\"><span class=\"plain outer rtl  \" ><span class=\"plain txtu ara rtl\"></span><span class=\"plain  rtl  \" ><span class=\"txtu ara\">رَبَّ</span></span><span class=\"plain  rtl  \" ><span class=\"txtu ara\">نَا </span></span></span></span></div> </div><div class=\"contnr c1 trm rtl  \" ><div class=\"lbl c1 trm \" ><span class=\"txtu ara\"><span class=\"plain outer rtl  \" ><span class=\"plain txtu ara rtl\"></span><span class=\"plain  rtl  \" ><span class=\"txtu ara\">وَ</span></span><span class=\"plain  rtl  \" ><span class=\"txtu ara\">لَا </span></span></span></span></div> </div><div class=\"contnr c1 trm rtl  \" ><div class=\"lbl c1 trm \" ><span class=\"txtu ara\"><span class=\"plain outer rtl  \" ><span class=\"plain txtu ara rtl\"></span><span class=\"plain  rtl  \" ><span class=\"txtu ara\">تَحْمِلْ </span></span></span></span></div> </div><div class=\"contnr c1 trm rtl  \" ><div class=\"lbl c1 trm \" ><span class=\"txtu ara\"><span class=\"plain outer rtl  \" ><span class=\"plain txtu ara rtl\"></span><span class=\"plain  rtl  \" ><span class=\"txtu ara\">عَلَيْ</span></span><span class=\"plain  rtl  \" ><span class=\"txtu ara\">نَآ </span></span></span></span></div> </div><div class=\"contnr c1 trm rtl  \" ><div class=\"lbl c1 trm \" ><span class=\"txtu ara\"><span class=\"plain outer rtl  \" ><span class=\"plain txtu ara rtl\"></span><span class=\"plain  rtl  \" ><span class=\"txtu ara\">إِصْرًا </span></span></span></span></div> </div><div class=\"contnr c1 trm rtl  \" ><div class=\"lbl c1 trm \" ><span class=\"txtu ara\"><span class=\"plain outer rtl  \" ><span class=\"plain txtu ara rtl\"></span><span class=\"plain  rtl  \" ><span class=\"txtu ara\">كَ</span></span><span class=\"plain  rtl  \" ><span class=\"txtu ara\">مَا </span></span></span></span></div> </div><div class=\"contnr c1 trm rtl  \" ><div class=\"lbl c1 trm \" ><span class=\"txtu ara\"><span class=\"plain outer rtl  \" ><span class=\"plain txtu ara rtl\"></span><span class=\"plain  rtl  \" ><span class=\"txtu ara\">حَمَلْ</span></span><span class=\"plain  rtl  \" ><span class=\"txtu ara\">تَ</span></span><span class=\"plain  rtl  \" ><span class=\"txtu ara\">هُۥ </span></span></span></span></div> </div><div class=\"contnr c1 trm rtl  \" ><div class=\"lbl c1 trm \" ><span class=\"txtu ara\"><span class=\"plain outer rtl  \" ><span class=\"plain txtu ara rtl\"></span><span class=\"plain  rtl  \" ><span class=\"txtu ara\">عَلَى </span></span></span></span></div> </div><div class=\"contnr c1 trm rtl  \" ><div class=\"lbl c1 trm \" ><span class=\"txtu ara\"><span class=\"plain outer rtl  \" ><span class=\"plain txtu ara rtl\"></span><span class=\"plain  rtl  \" ><span class=\"txtu ara\">ٱلَّذِينَ </span></span></span></span></div> </div><div class=\"contnr c1 trm rtl  \" ><div class=\"lbl c1 trm \" ><span class=\"txtu ara\"><span class=\"plain outer rtl  \" ><span class=\"plain txtu ara rtl\"></span><span class=\"plain  rtl  \" ><span class=\"txtu ara\">مِن </span></span></span></span></div> </div><div class=\"contnr c1 trm rtl  \" ><div class=\"lbl c1 trm \" ><span class=\"txtu ara\"><span class=\"plain outer rtl  \" ><span class=\"plain txtu ara rtl\"></span><span class=\"plain  rtl  \" ><span class=\"txtu ara\">قَبْلِ</span></span><span class=\"plain  rtl  \" ><span class=\"txtu ara\">نَا </span></span></span></span></div> </div><div class=\"contnr c1 trm rtl  \" ><div class=\"lbl c1 trm \" ><span class=\"txtu ara\"><span class=\"plain outer rtl  \" ><span class=\"plain txtu ara rtl\"></span><span class=\"plain  rtl  \" ><span class=\"txtu ara\">رَبَّ</span></span><span class=\"plain  rtl  \" ><span class=\"txtu ara\">نَا </span></span></span></span></div> </div><div class=\"contnr c1 trm rtl  \" ><div class=\"lbl c1 trm \" ><span class=\"txtu ara\"><span class=\"plain outer rtl  \" ><span class=\"plain txtu ara rtl\"></span><span class=\"plain  rtl  \" ><span class=\"txtu ara\">وَ</span></span><span class=\"plain  rtl  \" ><span class=\"txtu ara\">لَا </span></span></span></span></div> </div><div class=\"contnr c1 trm rtl  \" ><div class=\"lbl c1 trm \" ><span class=\"txtu ara\"><span class=\"plain outer rtl  \" ><span class=\"plain txtu ara rtl\"></span><span class=\"plain  rtl  \" ><span class=\"txtu ara\">تُحَمِّلْ</span></span><span class=\"plain  rtl  \" ><span class=\"txtu ara\">نَا </span></span></span></span></div> </div><div class=\"contnr c1 trm rtl  \" ><div class=\"lbl c1 trm \" ><span class=\"txtu ara\"><span class=\"plain outer rtl  \" ><span class=\"plain txtu ara rtl\"></span><span class=\"plain  rtl  \" ><span class=\"txtu ara\">مَا </span></span></span></span></div> </div><div class=\"contnr c1 trm rtl  \" ><div class=\"lbl c1 trm \" ><span class=\"txtu ara\"><span class=\"plain outer rtl  \" ><span class=\"plain txtu ara rtl\"></span><span class=\"plain  rtl  \" ><span class=\"txtu ara\">لَا </span></span></span></span></div> </div><div class=\"contnr c1 trm rtl  \" ><div class=\"lbl c1 trm \" ><span class=\"txtu ara\"><span class=\"plain outer rtl  \" ><span class=\"plain txtu ara rtl\"></span><span class=\"plain  rtl  \" ><span class=\"txtu ara\">طَاقَةَ </span></span></span></span></div> </div><div class=\"contnr c1 trm rtl  \" ><div class=\"lbl c1 trm \" ><span class=\"txtu ara\"><span class=\"plain outer rtl  \" ><span class=\"plain txtu ara rtl\"></span><span class=\"plain  rtl  \" ><span class=\"txtu ara\">لَ</span></span><span class=\"plain  rtl  \" ><span class=\"txtu ara\">نَا </span></span></span></span></div> </div><div class=\"contnr c1 trm rtl  \" ><div class=\"lbl c1 trm \" ><span class=\"txtu ara\"><span class=\"plain outer rtl  \" ><span class=\"plain txtu ara rtl\"></span><span class=\"plain  rtl  \" ><span class=\"txtu ara\">بِ</span></span><span class=\"plain  rtl  \" ><span class=\"txtu ara\">هِۦ </span></span></span></span></div> </div><div class=\"contnr c1 trm rtl  \" ><div class=\"lbl c1 trm \" ><span class=\"txtu ara\"><span class=\"plain outer rtl  \" ><span class=\"plain txtu ara rtl\"></span><span class=\"plain  rtl  \" ><span class=\"txtu ara\">وَ</span></span><span class=\"plain  rtl  \" ><span class=\"txtu ara\">ٱعْفُ </span></span></span></span></div> </div><div class=\"contnr c1 trm rtl  \" ><div class=\"lbl c1 trm \" ><span class=\"txtu ara\"><span class=\"plain outer rtl  \" ><span class=\"plain txtu ara rtl\"></span><span class=\"plain  rtl  \" ><span class=\"txtu ara\">عَنَّ</span></span><span class=\"plain  rtl  \" ><span class=\"txtu ara\">ا </span></span></span></span></div> </div><div class=\"contnr c1 trm rtl  \" ><div class=\"lbl c1 trm \" ><span class=\"txtu ara\"><span class=\"plain outer rtl  \" ><span class=\"plain txtu ara rtl\"></span><span class=\"plain  rtl  \" ><span class=\"txtu ara\">وَ</span></span><span class=\"plain  rtl  \" ><span class=\"txtu ara\">ٱغْفِرْ </span></span></span></span></div> </div><div class=\"contnr c1 trm rtl  \" ><div class=\"lbl c1 trm \" ><span class=\"txtu ara\"><span class=\"plain outer rtl  \" ><span class=\"plain txtu ara rtl\"></span><span class=\"plain  rtl  \" ><span class=\"txtu ara\">لَ</span></span><span class=\"plain  rtl  \" ><span class=\"txtu ara\">نَا </span></span></span></span></div> </div><div class=\"contnr c1 trm rtl  \" ><div class=\"lbl c1 trm \" ><span class=\"txtu ara\"><span class=\"plain outer rtl  \" ><span class=\"plain txtu ara rtl\"></span><span class=\"plain  rtl  \" ><span class=\"txtu ara\">وَ</span></span><span class=\"plain  rtl  \" ><span class=\"txtu ara\">ٱرْحَمْ</span></span><span class=\"plain  rtl  \" ><span class=\"txtu ara\">نَآ </span></span></span></span></div> </div><div class=\"contnr c1 trm rtl  \" ><div class=\"lbl c1 trm \" ><span class=\"txtu ara\"><span class=\"plain outer rtl  \" ><span class=\"plain txtu ara rtl\"></span><span class=\"plain  rtl  \" ><span class=\"txtu ara\">أَنتَ </span></span></span></span></div> </div><div class=\"contnr c1 trm rtl  \" ><div class=\"lbl c1 trm \" ><span class=\"txtu ara\"><span class=\"plain outer rtl  \" ><span class=\"plain txtu ara rtl\"></span><span class=\"plain  rtl  \" ><span class=\"txtu ara\">مَوْلَىٰ</span></span><span class=\"plain  rtl  \" ><span class=\"txtu ara\">نَا </span></span></span></span></div> </div><div class=\"contnr c1 trm rtl  \" ><div class=\"lbl c1 trm \" ><span class=\"txtu ara\"><span class=\"plain outer rtl  \" ><span class=\"plain txtu ara rtl\"></span><span class=\"plain  rtl  \" ><span class=\"txtu ara\">فَ</span></span><span class=\"plain  rtl  \" ><span class=\"txtu ara\">ٱنصُرْ</span></span><span class=\"plain  rtl  \" ><span class=\"txtu ara\">نَا </span></span></span></span></div> </div><div class=\"contnr c1 trm rtl  \" ><div class=\"lbl c1 trm \" ><span class=\"txtu ara\"><span class=\"plain outer rtl  \" ><span class=\"plain txtu ara rtl\"></span><span class=\"plain  rtl  \" ><span class=\"txtu ara\">عَلَى </span></span></span></span></div> </div><div class=\"contnr c1 trm rtl  \" ><div class=\"lbl c1 trm \" ><span class=\"txtu ara\"><span class=\"plain outer rtl  \" ><span class=\"plain txtu ara rtl\"></span><span class=\"plain  rtl  \" ><span class=\"txtu ara\">ٱلْ</span></span><span class=\"plain  rtl  \" ><span class=\"txtu ara\">قَوْمِ </span></span></span></span></div> </div><div class=\"contnr c1 trm rtl  \" ><div class=\"lbl c1 trm \" ><span class=\"txtu ara\"><span class=\"plain outer rtl  \" ><span class=\"plain txtu ara rtl\"></span><span class=\"plain  rtl  \" ><span class=\"txtu ara\">ٱلْ</span></span><span class=\"plain  rtl  \" ><span class=\"txtu ara\">كَٰفِرِينَ</span></span></span></span></div> </div></div></div>"
      ],
      "text/plain": [
       "<IPython.core.display.HTML object>"
      ]
     },
     "metadata": {},
     "output_type": "display_data"
    }
   ],
   "source": [
    "A.show(boundaryAyaNodes, baseTypes=\"group\")"
   ]
  },
  {
   "cell_type": "markdown",
   "metadata": {},
   "source": [
    "## Vocative and resumption particles\n",
    "\n",
    "With my unaided eye I can already see that the start aya tends to start with a vocative particle and the end aya with a resumption particle."
   ]
  },
  {
   "cell_type": "markdown",
   "metadata": {},
   "source": [
    "We now build a table of all ayas in this sura, where we highlight first words if they are a resumption or vocative particle.\n",
    "We also highlight the ayas that are the start and end ayas of the sections."
   ]
  },
  {
   "cell_type": "markdown",
   "metadata": {},
   "source": [
    "### Building a tuple of the objects of interest\n",
    "\n",
    "We proceed by building a list of aya nodes and their first words.\n",
    "\n",
    "We also make sets of the ayas where a section starts and where a section ends."
   ]
  },
  {
   "cell_type": "code",
   "execution_count": 22,
   "metadata": {},
   "outputs": [],
   "source": [
    "sura2Ayas = L.d(sura2, otype='aya')\n",
    "\n",
    "ayaTuples = [(a, L.d(a, otype='word')[0]) for a in sura2Ayas]\n",
    "\n",
    "startAyaNodes = set()\n",
    "endAyaNodes = set()\n",
    "\n",
    "for (beginAnum, endAnum) in sections:\n",
    "  beginA = T.nodeFromSection((2, beginAnum))\n",
    "  endA = T.nodeFromSection((2, endAnum))\n",
    "  startAyaNodes.add(beginA)\n",
    "  endAyaNodes.add(endA)"
   ]
  },
  {
   "cell_type": "markdown",
   "metadata": {},
   "source": [
    "### Defining highlights\n",
    "\n",
    "We can make a dictionary of nodes and the colors we want to display their objects in.\n",
    "\n",
    "We can pass that dictionary as a \n",
    "[display parameter](https://annotation.github.io/text-fabric/Api/App/#display)"
   ]
  },
  {
   "cell_type": "code",
   "execution_count": 23,
   "metadata": {},
   "outputs": [],
   "source": [
    "highlights = {}\n",
    "\n",
    "for a in sura2Ayas:\n",
    "  firstWord = L.d(a, otype='word')[0]\n",
    "  isVoc = F.posx.v(firstWord) == 'vocative'\n",
    "  isRes = F.posx.v(firstWord) == 'resumption'\n",
    "  if isVoc or isRes:\n",
    "    highlights[firstWord] = 'lime' if isVoc else 'fuchsia'\n",
    "  if a in startAyaNodes:\n",
    "    highlights[a] = 'gold'\n",
    "  elif a in endAyaNodes:\n",
    "    highlights[a] = 'lightcoral'"
   ]
  },
  {
   "cell_type": "markdown",
   "metadata": {},
   "source": [
    "### Color display of sections and particles\n",
    "\n",
    "Ayas that start a section are marked with a bar in *gold*, the ones that end a section have a *light coral* bar.\n",
    "\n",
    "Resumptive particles at the start of an aya are highlighted in *fuchsia*, the voactive ones in *lime*."
   ]
  },
  {
   "cell_type": "code",
   "execution_count": 25,
   "metadata": {},
   "outputs": [
    {
     "data": {
      "text/html": [
       "<table><tr class=\"tf\"><th class=\"tf\">n</th><th class=\"tf\">p</th><th class=\"tf\">aya</th><th class=\"tf\">word</th></tr>\n",
       "<tr class=\"tf\"><td class=\"tf\">240</td><td class=\"tf\"><span class=\"section ltr\"><a target=\"_blank\" href=\"/#2:240\" title=\"show this passage on Tanzil\" sec=\"2:240\">2:240</a></span></td><td class=\"tf\"><span class=\"plain outer rtl  \" ><span class=\"plain txtu ara rtl\"></span><span class=\"plain  rtl  \" ><span class=\"plain txtu ara rtl\"></span><span class=\"plain  rtl  hl\"  style=\"background-color: fuchsia;\" ><span class=\"txtu ara\">وَ</span></span><span class=\"plain  rtl  \" ><span class=\"txtu ara\">ٱلَّذِينَ </span></span></span><span class=\"plain  rtl  \" ><span class=\"plain txtu ara rtl\"></span><span class=\"plain  rtl  \" ><span class=\"txtu ara\">يُتَوَفَّ</span></span><span class=\"plain  rtl  \" ><span class=\"txtu ara\">وْنَ </span></span></span><span class=\"plain  rtl  \" ><span class=\"plain txtu ara rtl\"></span><span class=\"plain  rtl  \" ><span class=\"txtu ara\">مِن</span></span><span class=\"plain  rtl  \" ><span class=\"txtu ara\">كُمْ </span></span></span><span class=\"plain  rtl  \" ><span class=\"plain txtu ara rtl\"></span><span class=\"plain  rtl  \" ><span class=\"txtu ara\">وَ</span></span><span class=\"plain  rtl  \" ><span class=\"txtu ara\">يَذَرُ</span></span><span class=\"plain  rtl  \" ><span class=\"txtu ara\">ونَ </span></span></span><span class=\"plain  rtl  \" ><span class=\"plain txtu ara rtl\"></span><span class=\"plain  rtl  \" ><span class=\"txtu ara\">أَزْوَٰجًا </span></span></span><span class=\"plain  rtl  \" ><span class=\"plain txtu ara rtl\"></span><span class=\"plain  rtl  \" ><span class=\"txtu ara\">وَصِيَّةً </span></span></span><span class=\"plain  rtl  \" ><span class=\"plain txtu ara rtl\"></span><span class=\"plain  rtl  \" ><span class=\"txtu ara\">لِّ</span></span><span class=\"plain  rtl  \" ><span class=\"txtu ara\">أَزْوَٰجِ</span></span><span class=\"plain  rtl  \" ><span class=\"txtu ara\">هِم </span></span></span><span class=\"plain  rtl  \" ><span class=\"plain txtu ara rtl\"></span><span class=\"plain  rtl  \" ><span class=\"txtu ara\">مَّتَٰعًا </span></span></span><span class=\"plain  rtl  \" ><span class=\"plain txtu ara rtl\"></span><span class=\"plain  rtl  \" ><span class=\"txtu ara\">إِلَى </span></span></span><span class=\"plain  rtl  \" ><span class=\"plain txtu ara rtl\"></span><span class=\"plain  rtl  \" ><span class=\"txtu ara\">ٱلْ</span></span><span class=\"plain  rtl  \" ><span class=\"txtu ara\">حَوْلِ </span></span></span><span class=\"plain  rtl  \" ><span class=\"plain txtu ara rtl\"></span><span class=\"plain  rtl  \" ><span class=\"txtu ara\">غَيْرَ </span></span></span><span class=\"plain  rtl  \" ><span class=\"plain txtu ara rtl\"></span><span class=\"plain  rtl  \" ><span class=\"txtu ara\">إِخْرَاجٍ </span></span></span><span class=\"plain  rtl  \" ><span class=\"plain txtu ara rtl\"></span><span class=\"plain  rtl  \" ><span class=\"txtu ara\">فَ</span></span><span class=\"plain  rtl  \" ><span class=\"txtu ara\">إِنْ </span></span></span><span class=\"plain  rtl  \" ><span class=\"plain txtu ara rtl\"></span><span class=\"plain  rtl  \" ><span class=\"txtu ara\">خَرَجْ</span></span><span class=\"plain  rtl  \" ><span class=\"txtu ara\">نَ </span></span></span><span class=\"plain  rtl  \" ><span class=\"plain txtu ara rtl\"></span><span class=\"plain  rtl  \" ><span class=\"txtu ara\">فَ</span></span><span class=\"plain  rtl  \" ><span class=\"txtu ara\">لَا </span></span></span><span class=\"plain  rtl  \" ><span class=\"plain txtu ara rtl\"></span><span class=\"plain  rtl  \" ><span class=\"txtu ara\">جُنَاحَ </span></span></span><span class=\"plain  rtl  \" ><span class=\"plain txtu ara rtl\"></span><span class=\"plain  rtl  \" ><span class=\"txtu ara\">عَلَيْ</span></span><span class=\"plain  rtl  \" ><span class=\"txtu ara\">كُمْ </span></span></span><span class=\"plain  rtl  \" ><span class=\"plain txtu ara rtl\"></span><span class=\"plain  rtl  \" ><span class=\"txtu ara\">فِى </span></span></span><span class=\"plain  rtl  \" ><span class=\"plain txtu ara rtl\"></span><span class=\"plain  rtl  \" ><span class=\"txtu ara\">مَا </span></span></span><span class=\"plain  rtl  \" ><span class=\"plain txtu ara rtl\"></span><span class=\"plain  rtl  \" ><span class=\"txtu ara\">فَعَلْ</span></span><span class=\"plain  rtl  \" ><span class=\"txtu ara\">نَ </span></span></span><span class=\"plain  rtl  \" ><span class=\"plain txtu ara rtl\"></span><span class=\"plain  rtl  \" ><span class=\"txtu ara\">فِىٓ </span></span></span><span class=\"plain  rtl  \" ><span class=\"plain txtu ara rtl\"></span><span class=\"plain  rtl  \" ><span class=\"txtu ara\">أَنفُسِ</span></span><span class=\"plain  rtl  \" ><span class=\"txtu ara\">هِنَّ </span></span></span><span class=\"plain  rtl  \" ><span class=\"plain txtu ara rtl\"></span><span class=\"plain  rtl  \" ><span class=\"txtu ara\">مِن </span></span></span><span class=\"plain  rtl  \" ><span class=\"plain txtu ara rtl\"></span><span class=\"plain  rtl  \" ><span class=\"txtu ara\">مَّعْرُوفٍ </span></span></span><span class=\"plain  rtl  \" ><span class=\"plain txtu ara rtl\"></span><span class=\"plain  rtl  \" ><span class=\"txtu ara\">وَ</span></span><span class=\"plain  rtl  \" ><span class=\"txtu ara\">ٱللَّهُ </span></span></span><span class=\"plain  rtl  \" ><span class=\"plain txtu ara rtl\"></span><span class=\"plain  rtl  \" ><span class=\"txtu ara\">عَزِيزٌ </span></span></span><span class=\"plain  rtl  \" ><span class=\"plain txtu ara rtl\"></span><span class=\"plain  rtl  \" ><span class=\"txtu ara\">حَكِيمٌ</span></span></span></span></td><td class=\"tf\"><span class=\"plain outer rtl  hl\"  style=\"background-color: fuchsia;\" ><span class=\"txtu ara\">وَ</span></span></td></tr>\n",
       "<tr class=\"tf\"><td class=\"tf\">241</td><td class=\"tf\"><span class=\"section ltr\"><a target=\"_blank\" href=\"/#2:241\" title=\"show this passage on Tanzil\" sec=\"2:241\">2:241</a></span></td><td class=\"tf\"><span class=\"plain outer rtl  \" ><span class=\"plain txtu ara rtl\"></span><span class=\"plain  rtl  \" ><span class=\"plain txtu ara rtl\"></span><span class=\"plain  rtl  hl\"  style=\"background-color: fuchsia;\" ><span class=\"txtu ara\">وَ</span></span><span class=\"plain  rtl  \" ><span class=\"txtu ara\">لِ</span></span><span class=\"plain  rtl  \" ><span class=\"txtu ara\">لْ</span></span><span class=\"plain  rtl  \" ><span class=\"txtu ara\">مُطَلَّقَٰتِ </span></span></span><span class=\"plain  rtl  \" ><span class=\"plain txtu ara rtl\"></span><span class=\"plain  rtl  \" ><span class=\"txtu ara\">مَتَٰعٌۢ </span></span></span><span class=\"plain  rtl  \" ><span class=\"plain txtu ara rtl\"></span><span class=\"plain  rtl  \" ><span class=\"txtu ara\">بِ</span></span><span class=\"plain  rtl  \" ><span class=\"txtu ara\">ٱلْ</span></span><span class=\"plain  rtl  \" ><span class=\"txtu ara\">مَعْرُوفِ </span></span></span><span class=\"plain  rtl  \" ><span class=\"plain txtu ara rtl\"></span><span class=\"plain  rtl  \" ><span class=\"txtu ara\">حَقًّا </span></span></span><span class=\"plain  rtl  \" ><span class=\"plain txtu ara rtl\"></span><span class=\"plain  rtl  \" ><span class=\"txtu ara\">عَلَى </span></span></span><span class=\"plain  rtl  \" ><span class=\"plain txtu ara rtl\"></span><span class=\"plain  rtl  \" ><span class=\"txtu ara\">ٱلْ</span></span><span class=\"plain  rtl  \" ><span class=\"txtu ara\">مُتَّقِينَ</span></span></span></span></td><td class=\"tf\"><span class=\"plain outer rtl  hl\"  style=\"background-color: fuchsia;\" ><span class=\"txtu ara\">وَ</span></span></td></tr>\n",
       "<tr class=\"tf\"><td class=\"tf\">242</td><td class=\"tf\"><span class=\"section ltr\"><a target=\"_blank\" href=\"/#2:242\" title=\"show this passage on Tanzil\" sec=\"2:242\">2:242</a></span></td><td class=\"tf\"><span class=\"plain outer rtl  \" ><span class=\"plain txtu ara rtl\"></span><span class=\"plain  rtl  \" ><span class=\"plain txtu ara rtl\"></span><span class=\"plain  rtl  hl\" ><span class=\"txtu ara\">كَ</span></span><span class=\"plain  rtl  \" ><span class=\"txtu ara\">ذَٰلِكَ </span></span></span><span class=\"plain  rtl  \" ><span class=\"plain txtu ara rtl\"></span><span class=\"plain  rtl  \" ><span class=\"txtu ara\">يُبَيِّنُ </span></span></span><span class=\"plain  rtl  \" ><span class=\"plain txtu ara rtl\"></span><span class=\"plain  rtl  \" ><span class=\"txtu ara\">ٱللَّهُ </span></span></span><span class=\"plain  rtl  \" ><span class=\"plain txtu ara rtl\"></span><span class=\"plain  rtl  \" ><span class=\"txtu ara\">لَ</span></span><span class=\"plain  rtl  \" ><span class=\"txtu ara\">كُمْ </span></span></span><span class=\"plain  rtl  \" ><span class=\"plain txtu ara rtl\"></span><span class=\"plain  rtl  \" ><span class=\"txtu ara\">ءَايَٰتِ</span></span><span class=\"plain  rtl  \" ><span class=\"txtu ara\">هِۦ </span></span></span><span class=\"plain  rtl  \" ><span class=\"plain txtu ara rtl\"></span><span class=\"plain  rtl  \" ><span class=\"txtu ara\">لَعَلَّ</span></span><span class=\"plain  rtl  \" ><span class=\"txtu ara\">كُمْ </span></span></span><span class=\"plain  rtl  \" ><span class=\"plain txtu ara rtl\"></span><span class=\"plain  rtl  \" ><span class=\"txtu ara\">تَعْقِلُ</span></span><span class=\"plain  rtl  \" ><span class=\"txtu ara\">ونَ</span></span></span></span></td><td class=\"tf\"><span class=\"plain outer rtl  hl\" ><span class=\"txtu ara\">كَ</span></span></td></tr>\n",
       "<tr class=\"tf\"><td class=\"tf\">243</td><td class=\"tf\"><span class=\"section ltr\"><a target=\"_blank\" href=\"/#2:243\" title=\"show this passage on Tanzil\" sec=\"2:243\">2:243</a></span></td><td class=\"tf\"><span class=\"plain outer rtl  \" ><span class=\"plain txtu ara rtl\"></span><span class=\"plain  rtl  \" ><span class=\"plain txtu ara rtl\"></span><span class=\"plain  rtl  hl\" ><span class=\"txtu ara\">أَ</span></span><span class=\"plain  rtl  \" ><span class=\"txtu ara\">لَمْ </span></span></span><span class=\"plain  rtl  \" ><span class=\"plain txtu ara rtl\"></span><span class=\"plain  rtl  \" ><span class=\"txtu ara\">تَرَ </span></span></span><span class=\"plain  rtl  \" ><span class=\"plain txtu ara rtl\"></span><span class=\"plain  rtl  \" ><span class=\"txtu ara\">إِلَى </span></span></span><span class=\"plain  rtl  \" ><span class=\"plain txtu ara rtl\"></span><span class=\"plain  rtl  \" ><span class=\"txtu ara\">ٱلَّذِينَ </span></span></span><span class=\"plain  rtl  \" ><span class=\"plain txtu ara rtl\"></span><span class=\"plain  rtl  \" ><span class=\"txtu ara\">خَرَجُ</span></span><span class=\"plain  rtl  \" ><span class=\"txtu ara\">وا۟ </span></span></span><span class=\"plain  rtl  \" ><span class=\"plain txtu ara rtl\"></span><span class=\"plain  rtl  \" ><span class=\"txtu ara\">مِن </span></span></span><span class=\"plain  rtl  \" ><span class=\"plain txtu ara rtl\"></span><span class=\"plain  rtl  \" ><span class=\"txtu ara\">دِيَٰرِ</span></span><span class=\"plain  rtl  \" ><span class=\"txtu ara\">هِمْ </span></span></span><span class=\"plain  rtl  \" ><span class=\"plain txtu ara rtl\"></span><span class=\"plain  rtl  \" ><span class=\"txtu ara\">وَ</span></span><span class=\"plain  rtl  \" ><span class=\"txtu ara\">هُمْ </span></span></span><span class=\"plain  rtl  \" ><span class=\"plain txtu ara rtl\"></span><span class=\"plain  rtl  \" ><span class=\"txtu ara\">أُلُوفٌ </span></span></span><span class=\"plain  rtl  \" ><span class=\"plain txtu ara rtl\"></span><span class=\"plain  rtl  \" ><span class=\"txtu ara\">حَذَرَ </span></span></span><span class=\"plain  rtl  \" ><span class=\"plain txtu ara rtl\"></span><span class=\"plain  rtl  \" ><span class=\"txtu ara\">ٱلْ</span></span><span class=\"plain  rtl  \" ><span class=\"txtu ara\">مَوْتِ </span></span></span><span class=\"plain  rtl  \" ><span class=\"plain txtu ara rtl\"></span><span class=\"plain  rtl  \" ><span class=\"txtu ara\">فَ</span></span><span class=\"plain  rtl  \" ><span class=\"txtu ara\">قَالَ </span></span></span><span class=\"plain  rtl  \" ><span class=\"plain txtu ara rtl\"></span><span class=\"plain  rtl  \" ><span class=\"txtu ara\">لَ</span></span><span class=\"plain  rtl  \" ><span class=\"txtu ara\">هُمُ </span></span></span><span class=\"plain  rtl  \" ><span class=\"plain txtu ara rtl\"></span><span class=\"plain  rtl  \" ><span class=\"txtu ara\">ٱللَّهُ </span></span></span><span class=\"plain  rtl  \" ><span class=\"plain txtu ara rtl\"></span><span class=\"plain  rtl  \" ><span class=\"txtu ara\">مُوتُ</span></span><span class=\"plain  rtl  \" ><span class=\"txtu ara\">وا۟ </span></span></span><span class=\"plain  rtl  \" ><span class=\"plain txtu ara rtl\"></span><span class=\"plain  rtl  \" ><span class=\"txtu ara\">ثُمَّ </span></span></span><span class=\"plain  rtl  \" ><span class=\"plain txtu ara rtl\"></span><span class=\"plain  rtl  \" ><span class=\"txtu ara\">أَحْيَٰ</span></span><span class=\"plain  rtl  \" ><span class=\"txtu ara\">هُمْ </span></span></span><span class=\"plain  rtl  \" ><span class=\"plain txtu ara rtl\"></span><span class=\"plain  rtl  \" ><span class=\"txtu ara\">إِنَّ </span></span></span><span class=\"plain  rtl  \" ><span class=\"plain txtu ara rtl\"></span><span class=\"plain  rtl  \" ><span class=\"txtu ara\">ٱللَّهَ </span></span></span><span class=\"plain  rtl  \" ><span class=\"plain txtu ara rtl\"></span><span class=\"plain  rtl  \" ><span class=\"txtu ara\">لَ</span></span><span class=\"plain  rtl  \" ><span class=\"txtu ara\">ذُو </span></span></span><span class=\"plain  rtl  \" ><span class=\"plain txtu ara rtl\"></span><span class=\"plain  rtl  \" ><span class=\"txtu ara\">فَضْلٍ </span></span></span><span class=\"plain  rtl  \" ><span class=\"plain txtu ara rtl\"></span><span class=\"plain  rtl  \" ><span class=\"txtu ara\">عَلَى </span></span></span><span class=\"plain  rtl  \" ><span class=\"plain txtu ara rtl\"></span><span class=\"plain  rtl  \" ><span class=\"txtu ara\">ٱل</span></span><span class=\"plain  rtl  \" ><span class=\"txtu ara\">نَّاسِ </span></span></span><span class=\"plain  rtl  \" ><span class=\"plain txtu ara rtl\"></span><span class=\"plain  rtl  \" ><span class=\"txtu ara\">وَ</span></span><span class=\"plain  rtl  \" ><span class=\"txtu ara\">لَٰكِنَّ </span></span></span><span class=\"plain  rtl  \" ><span class=\"plain txtu ara rtl\"></span><span class=\"plain  rtl  \" ><span class=\"txtu ara\">أَكْثَرَ </span></span></span><span class=\"plain  rtl  \" ><span class=\"plain txtu ara rtl\"></span><span class=\"plain  rtl  \" ><span class=\"txtu ara\">ٱل</span></span><span class=\"plain  rtl  \" ><span class=\"txtu ara\">نَّاسِ </span></span></span><span class=\"plain  rtl  \" ><span class=\"plain txtu ara rtl\"></span><span class=\"plain  rtl  \" ><span class=\"txtu ara\">لَا </span></span></span><span class=\"plain  rtl  \" ><span class=\"plain txtu ara rtl\"></span><span class=\"plain  rtl  \" ><span class=\"txtu ara\">يَشْكُرُ</span></span><span class=\"plain  rtl  \" ><span class=\"txtu ara\">ونَ</span></span></span></span></td><td class=\"tf\"><span class=\"plain outer rtl  hl\" ><span class=\"txtu ara\">أَ</span></span></td></tr>\n",
       "<tr class=\"tf\"><td class=\"tf\">244</td><td class=\"tf\"><span class=\"section ltr\"><a target=\"_blank\" href=\"/#2:244\" title=\"show this passage on Tanzil\" sec=\"2:244\">2:244</a></span></td><td class=\"tf\"><span class=\"plain outer rtl  \" ><span class=\"plain txtu ara rtl\"></span><span class=\"plain  rtl  \" ><span class=\"plain txtu ara rtl\"></span><span class=\"plain  rtl  hl\" ><span class=\"txtu ara\">وَ</span></span><span class=\"plain  rtl  \" ><span class=\"txtu ara\">قَٰتِلُ</span></span><span class=\"plain  rtl  \" ><span class=\"txtu ara\">وا۟ </span></span></span><span class=\"plain  rtl  \" ><span class=\"plain txtu ara rtl\"></span><span class=\"plain  rtl  \" ><span class=\"txtu ara\">فِى </span></span></span><span class=\"plain  rtl  \" ><span class=\"plain txtu ara rtl\"></span><span class=\"plain  rtl  \" ><span class=\"txtu ara\">سَبِيلِ </span></span></span><span class=\"plain  rtl  \" ><span class=\"plain txtu ara rtl\"></span><span class=\"plain  rtl  \" ><span class=\"txtu ara\">ٱللَّهِ </span></span></span><span class=\"plain  rtl  \" ><span class=\"plain txtu ara rtl\"></span><span class=\"plain  rtl  \" ><span class=\"txtu ara\">وَ</span></span><span class=\"plain  rtl  \" ><span class=\"txtu ara\">ٱعْلَمُ</span></span><span class=\"plain  rtl  \" ><span class=\"txtu ara\">وٓا۟ </span></span></span><span class=\"plain  rtl  \" ><span class=\"plain txtu ara rtl\"></span><span class=\"plain  rtl  \" ><span class=\"txtu ara\">أَنَّ </span></span></span><span class=\"plain  rtl  \" ><span class=\"plain txtu ara rtl\"></span><span class=\"plain  rtl  \" ><span class=\"txtu ara\">ٱللَّهَ </span></span></span><span class=\"plain  rtl  \" ><span class=\"plain txtu ara rtl\"></span><span class=\"plain  rtl  \" ><span class=\"txtu ara\">سَمِيعٌ </span></span></span><span class=\"plain  rtl  \" ><span class=\"plain txtu ara rtl\"></span><span class=\"plain  rtl  \" ><span class=\"txtu ara\">عَلِيمٌ</span></span></span></span></td><td class=\"tf\"><span class=\"plain outer rtl  hl\" ><span class=\"txtu ara\">وَ</span></span></td></tr>\n",
       "<tr class=\"tf\"><td class=\"tf\">245</td><td class=\"tf\"><span class=\"section ltr\"><a target=\"_blank\" href=\"/#2:245\" title=\"show this passage on Tanzil\" sec=\"2:245\">2:245</a></span></td><td class=\"tf\"><span class=\"plain outer rtl  \" ><span class=\"plain txtu ara rtl\"></span><span class=\"plain  rtl  \" ><span class=\"plain txtu ara rtl\"></span><span class=\"plain  rtl  hl\" ><span class=\"txtu ara\">مَّن </span></span></span><span class=\"plain  rtl  \" ><span class=\"plain txtu ara rtl\"></span><span class=\"plain  rtl  \" ><span class=\"txtu ara\">ذَا </span></span></span><span class=\"plain  rtl  \" ><span class=\"plain txtu ara rtl\"></span><span class=\"plain  rtl  \" ><span class=\"txtu ara\">ٱلَّذِى </span></span></span><span class=\"plain  rtl  \" ><span class=\"plain txtu ara rtl\"></span><span class=\"plain  rtl  \" ><span class=\"txtu ara\">يُقْرِضُ </span></span></span><span class=\"plain  rtl  \" ><span class=\"plain txtu ara rtl\"></span><span class=\"plain  rtl  \" ><span class=\"txtu ara\">ٱللَّهَ </span></span></span><span class=\"plain  rtl  \" ><span class=\"plain txtu ara rtl\"></span><span class=\"plain  rtl  \" ><span class=\"txtu ara\">قَرْضًا </span></span></span><span class=\"plain  rtl  \" ><span class=\"plain txtu ara rtl\"></span><span class=\"plain  rtl  \" ><span class=\"txtu ara\">حَسَنًا </span></span></span><span class=\"plain  rtl  \" ><span class=\"plain txtu ara rtl\"></span><span class=\"plain  rtl  \" ><span class=\"txtu ara\">فَ</span></span><span class=\"plain  rtl  \" ><span class=\"txtu ara\">يُضَٰعِفَ</span></span><span class=\"plain  rtl  \" ><span class=\"txtu ara\">هُۥ </span></span></span><span class=\"plain  rtl  \" ><span class=\"plain txtu ara rtl\"></span><span class=\"plain  rtl  \" ><span class=\"txtu ara\">لَ</span></span><span class=\"plain  rtl  \" ><span class=\"txtu ara\">هُۥٓ </span></span></span><span class=\"plain  rtl  \" ><span class=\"plain txtu ara rtl\"></span><span class=\"plain  rtl  \" ><span class=\"txtu ara\">أَضْعَافًا </span></span></span><span class=\"plain  rtl  \" ><span class=\"plain txtu ara rtl\"></span><span class=\"plain  rtl  \" ><span class=\"txtu ara\">كَثِيرَةً </span></span></span><span class=\"plain  rtl  \" ><span class=\"plain txtu ara rtl\"></span><span class=\"plain  rtl  \" ><span class=\"txtu ara\">وَ</span></span><span class=\"plain  rtl  \" ><span class=\"txtu ara\">ٱللَّهُ </span></span></span><span class=\"plain  rtl  \" ><span class=\"plain txtu ara rtl\"></span><span class=\"plain  rtl  \" ><span class=\"txtu ara\">يَقْبِضُ </span></span></span><span class=\"plain  rtl  \" ><span class=\"plain txtu ara rtl\"></span><span class=\"plain  rtl  \" ><span class=\"txtu ara\">وَ</span></span><span class=\"plain  rtl  \" ><span class=\"txtu ara\">يَبْصُۜطُ </span></span></span><span class=\"plain  rtl  \" ><span class=\"plain txtu ara rtl\"></span><span class=\"plain  rtl  \" ><span class=\"txtu ara\">وَ</span></span><span class=\"plain  rtl  \" ><span class=\"txtu ara\">إِلَيْ</span></span><span class=\"plain  rtl  \" ><span class=\"txtu ara\">هِ </span></span></span><span class=\"plain  rtl  \" ><span class=\"plain txtu ara rtl\"></span><span class=\"plain  rtl  \" ><span class=\"txtu ara\">تُرْجَعُ</span></span><span class=\"plain  rtl  \" ><span class=\"txtu ara\">ونَ</span></span></span></span></td><td class=\"tf\"><span class=\"plain outer rtl  hl\" ><span class=\"txtu ara\">مَّن </span></span></td></tr>\n",
       "<tr class=\"tf\"><td class=\"tf\">246</td><td class=\"tf\"><span class=\"section ltr\"><a target=\"_blank\" href=\"/#2:246\" title=\"show this passage on Tanzil\" sec=\"2:246\">2:246</a></span></td><td class=\"tf\"><span class=\"plain outer rtl  \" ><span class=\"plain txtu ara rtl\"></span><span class=\"plain  rtl  \" ><span class=\"plain txtu ara rtl\"></span><span class=\"plain  rtl  hl\" ><span class=\"txtu ara\">أَ</span></span><span class=\"plain  rtl  \" ><span class=\"txtu ara\">لَمْ </span></span></span><span class=\"plain  rtl  \" ><span class=\"plain txtu ara rtl\"></span><span class=\"plain  rtl  \" ><span class=\"txtu ara\">تَرَ </span></span></span><span class=\"plain  rtl  \" ><span class=\"plain txtu ara rtl\"></span><span class=\"plain  rtl  \" ><span class=\"txtu ara\">إِلَى </span></span></span><span class=\"plain  rtl  \" ><span class=\"plain txtu ara rtl\"></span><span class=\"plain  rtl  \" ><span class=\"txtu ara\">ٱلْ</span></span><span class=\"plain  rtl  \" ><span class=\"txtu ara\">مَلَإِ </span></span></span><span class=\"plain  rtl  \" ><span class=\"plain txtu ara rtl\"></span><span class=\"plain  rtl  \" ><span class=\"txtu ara\">مِنۢ </span></span></span><span class=\"plain  rtl  \" ><span class=\"plain txtu ara rtl\"></span><span class=\"plain  rtl  \" ><span class=\"txtu ara\">بَنِىٓ </span></span></span><span class=\"plain  rtl  \" ><span class=\"plain txtu ara rtl\"></span><span class=\"plain  rtl  \" ><span class=\"txtu ara\">إِسْرَٰٓءِيلَ </span></span></span><span class=\"plain  rtl  \" ><span class=\"plain txtu ara rtl\"></span><span class=\"plain  rtl  \" ><span class=\"txtu ara\">مِنۢ </span></span></span><span class=\"plain  rtl  \" ><span class=\"plain txtu ara rtl\"></span><span class=\"plain  rtl  \" ><span class=\"txtu ara\">بَعْدِ </span></span></span><span class=\"plain  rtl  \" ><span class=\"plain txtu ara rtl\"></span><span class=\"plain  rtl  \" ><span class=\"txtu ara\">مُوسَىٰٓ </span></span></span><span class=\"plain  rtl  \" ><span class=\"plain txtu ara rtl\"></span><span class=\"plain  rtl  \" ><span class=\"txtu ara\">إِذْ </span></span></span><span class=\"plain  rtl  \" ><span class=\"plain txtu ara rtl\"></span><span class=\"plain  rtl  \" ><span class=\"txtu ara\">قَالُ</span></span><span class=\"plain  rtl  \" ><span class=\"txtu ara\">وا۟ </span></span></span><span class=\"plain  rtl  \" ><span class=\"plain txtu ara rtl\"></span><span class=\"plain  rtl  \" ><span class=\"txtu ara\">لِ</span></span><span class=\"plain  rtl  \" ><span class=\"txtu ara\">نَبِىٍّ </span></span></span><span class=\"plain  rtl  \" ><span class=\"plain txtu ara rtl\"></span><span class=\"plain  rtl  \" ><span class=\"txtu ara\">لَّ</span></span><span class=\"plain  rtl  \" ><span class=\"txtu ara\">هُمُ </span></span></span><span class=\"plain  rtl  \" ><span class=\"plain txtu ara rtl\"></span><span class=\"plain  rtl  \" ><span class=\"txtu ara\">ٱبْعَثْ </span></span></span><span class=\"plain  rtl  \" ><span class=\"plain txtu ara rtl\"></span><span class=\"plain  rtl  \" ><span class=\"txtu ara\">لَ</span></span><span class=\"plain  rtl  \" ><span class=\"txtu ara\">نَا </span></span></span><span class=\"plain  rtl  \" ><span class=\"plain txtu ara rtl\"></span><span class=\"plain  rtl  \" ><span class=\"txtu ara\">مَلِكًا </span></span></span><span class=\"plain  rtl  \" ><span class=\"plain txtu ara rtl\"></span><span class=\"plain  rtl  \" ><span class=\"txtu ara\">نُّقَٰتِلْ </span></span></span><span class=\"plain  rtl  \" ><span class=\"plain txtu ara rtl\"></span><span class=\"plain  rtl  \" ><span class=\"txtu ara\">فِى </span></span></span><span class=\"plain  rtl  \" ><span class=\"plain txtu ara rtl\"></span><span class=\"plain  rtl  \" ><span class=\"txtu ara\">سَبِيلِ </span></span></span><span class=\"plain  rtl  \" ><span class=\"plain txtu ara rtl\"></span><span class=\"plain  rtl  \" ><span class=\"txtu ara\">ٱللَّهِ </span></span></span><span class=\"plain  rtl  \" ><span class=\"plain txtu ara rtl\"></span><span class=\"plain  rtl  \" ><span class=\"txtu ara\">قَالَ </span></span></span><span class=\"plain  rtl  \" ><span class=\"plain txtu ara rtl\"></span><span class=\"plain  rtl  \" ><span class=\"txtu ara\">هَلْ </span></span></span><span class=\"plain  rtl  \" ><span class=\"plain txtu ara rtl\"></span><span class=\"plain  rtl  \" ><span class=\"txtu ara\">عَسَيْ</span></span><span class=\"plain  rtl  \" ><span class=\"txtu ara\">تُمْ </span></span></span><span class=\"plain  rtl  \" ><span class=\"plain txtu ara rtl\"></span><span class=\"plain  rtl  \" ><span class=\"txtu ara\">إِن </span></span></span><span class=\"plain  rtl  \" ><span class=\"plain txtu ara rtl\"></span><span class=\"plain  rtl  \" ><span class=\"txtu ara\">كُتِبَ </span></span></span><span class=\"plain  rtl  \" ><span class=\"plain txtu ara rtl\"></span><span class=\"plain  rtl  \" ><span class=\"txtu ara\">عَلَيْ</span></span><span class=\"plain  rtl  \" ><span class=\"txtu ara\">كُمُ </span></span></span><span class=\"plain  rtl  \" ><span class=\"plain txtu ara rtl\"></span><span class=\"plain  rtl  \" ><span class=\"txtu ara\">ٱلْ</span></span><span class=\"plain  rtl  \" ><span class=\"txtu ara\">قِتَالُ </span></span></span><span class=\"plain  rtl  \" ><span class=\"plain txtu ara rtl\"></span><span class=\"plain  rtl  \" ><span class=\"txtu ara\">أَ</span></span><span class=\"plain  rtl  \" ><span class=\"txtu ara\">لَّا </span></span></span><span class=\"plain  rtl  \" ><span class=\"plain txtu ara rtl\"></span><span class=\"plain  rtl  \" ><span class=\"txtu ara\">تُقَٰتِلُ</span></span><span class=\"plain  rtl  \" ><span class=\"txtu ara\">وا۟ </span></span></span><span class=\"plain  rtl  \" ><span class=\"plain txtu ara rtl\"></span><span class=\"plain  rtl  \" ><span class=\"txtu ara\">قَالُ</span></span><span class=\"plain  rtl  \" ><span class=\"txtu ara\">وا۟ </span></span></span><span class=\"plain  rtl  \" ><span class=\"plain txtu ara rtl\"></span><span class=\"plain  rtl  \" ><span class=\"txtu ara\">وَ</span></span><span class=\"plain  rtl  \" ><span class=\"txtu ara\">مَا </span></span></span><span class=\"plain  rtl  \" ><span class=\"plain txtu ara rtl\"></span><span class=\"plain  rtl  \" ><span class=\"txtu ara\">لَ</span></span><span class=\"plain  rtl  \" ><span class=\"txtu ara\">نَآ </span></span></span><span class=\"plain  rtl  \" ><span class=\"plain txtu ara rtl\"></span><span class=\"plain  rtl  \" ><span class=\"txtu ara\">أَ</span></span><span class=\"plain  rtl  \" ><span class=\"txtu ara\">لَّا </span></span></span><span class=\"plain  rtl  \" ><span class=\"plain txtu ara rtl\"></span><span class=\"plain  rtl  \" ><span class=\"txtu ara\">نُقَٰتِلَ </span></span></span><span class=\"plain  rtl  \" ><span class=\"plain txtu ara rtl\"></span><span class=\"plain  rtl  \" ><span class=\"txtu ara\">فِى </span></span></span><span class=\"plain  rtl  \" ><span class=\"plain txtu ara rtl\"></span><span class=\"plain  rtl  \" ><span class=\"txtu ara\">سَبِيلِ </span></span></span><span class=\"plain  rtl  \" ><span class=\"plain txtu ara rtl\"></span><span class=\"plain  rtl  \" ><span class=\"txtu ara\">ٱللَّهِ </span></span></span><span class=\"plain  rtl  \" ><span class=\"plain txtu ara rtl\"></span><span class=\"plain  rtl  \" ><span class=\"txtu ara\">وَ</span></span><span class=\"plain  rtl  \" ><span class=\"txtu ara\">قَدْ </span></span></span><span class=\"plain  rtl  \" ><span class=\"plain txtu ara rtl\"></span><span class=\"plain  rtl  \" ><span class=\"txtu ara\">أُخْرِجْ</span></span><span class=\"plain  rtl  \" ><span class=\"txtu ara\">نَا </span></span></span><span class=\"plain  rtl  \" ><span class=\"plain txtu ara rtl\"></span><span class=\"plain  rtl  \" ><span class=\"txtu ara\">مِن </span></span></span><span class=\"plain  rtl  \" ><span class=\"plain txtu ara rtl\"></span><span class=\"plain  rtl  \" ><span class=\"txtu ara\">دِيَٰرِ</span></span><span class=\"plain  rtl  \" ><span class=\"txtu ara\">نَا </span></span></span><span class=\"plain  rtl  \" ><span class=\"plain txtu ara rtl\"></span><span class=\"plain  rtl  \" ><span class=\"txtu ara\">وَ</span></span><span class=\"plain  rtl  \" ><span class=\"txtu ara\">أَبْنَآئِ</span></span><span class=\"plain  rtl  \" ><span class=\"txtu ara\">نَا </span></span></span><span class=\"plain  rtl  \" ><span class=\"plain txtu ara rtl\"></span><span class=\"plain  rtl  \" ><span class=\"txtu ara\">فَ</span></span><span class=\"plain  rtl  \" ><span class=\"txtu ara\">لَمَّا </span></span></span><span class=\"plain  rtl  \" ><span class=\"plain txtu ara rtl\"></span><span class=\"plain  rtl  \" ><span class=\"txtu ara\">كُتِبَ </span></span></span><span class=\"plain  rtl  \" ><span class=\"plain txtu ara rtl\"></span><span class=\"plain  rtl  \" ><span class=\"txtu ara\">عَلَيْ</span></span><span class=\"plain  rtl  \" ><span class=\"txtu ara\">هِمُ </span></span></span><span class=\"plain  rtl  \" ><span class=\"plain txtu ara rtl\"></span><span class=\"plain  rtl  \" ><span class=\"txtu ara\">ٱلْ</span></span><span class=\"plain  rtl  \" ><span class=\"txtu ara\">قِتَالُ </span></span></span><span class=\"plain  rtl  \" ><span class=\"plain txtu ara rtl\"></span><span class=\"plain  rtl  \" ><span class=\"txtu ara\">تَوَلَّ</span></span><span class=\"plain  rtl  \" ><span class=\"txtu ara\">وْا۟ </span></span></span><span class=\"plain  rtl  \" ><span class=\"plain txtu ara rtl\"></span><span class=\"plain  rtl  \" ><span class=\"txtu ara\">إِلَّا </span></span></span><span class=\"plain  rtl  \" ><span class=\"plain txtu ara rtl\"></span><span class=\"plain  rtl  \" ><span class=\"txtu ara\">قَلِيلًا </span></span></span><span class=\"plain  rtl  \" ><span class=\"plain txtu ara rtl\"></span><span class=\"plain  rtl  \" ><span class=\"txtu ara\">مِّنْ</span></span><span class=\"plain  rtl  \" ><span class=\"txtu ara\">هُمْ </span></span></span><span class=\"plain  rtl  \" ><span class=\"plain txtu ara rtl\"></span><span class=\"plain  rtl  \" ><span class=\"txtu ara\">وَ</span></span><span class=\"plain  rtl  \" ><span class=\"txtu ara\">ٱللَّهُ </span></span></span><span class=\"plain  rtl  \" ><span class=\"plain txtu ara rtl\"></span><span class=\"plain  rtl  \" ><span class=\"txtu ara\">عَلِيمٌۢ </span></span></span><span class=\"plain  rtl  \" ><span class=\"plain txtu ara rtl\"></span><span class=\"plain  rtl  \" ><span class=\"txtu ara\">بِ</span></span><span class=\"plain  rtl  \" ><span class=\"txtu ara\">ٱل</span></span><span class=\"plain  rtl  \" ><span class=\"txtu ara\">ظَّٰلِمِينَ</span></span></span></span></td><td class=\"tf\"><span class=\"plain outer rtl  hl\" ><span class=\"txtu ara\">أَ</span></span></td></tr>\n",
       "<tr class=\"tf\"><td class=\"tf\">247</td><td class=\"tf\"><span class=\"section ltr\"><a target=\"_blank\" href=\"/#2:247\" title=\"show this passage on Tanzil\" sec=\"2:247\">2:247</a></span></td><td class=\"tf\"><span class=\"plain outer rtl  \" ><span class=\"plain txtu ara rtl\"></span><span class=\"plain  rtl  \" ><span class=\"plain txtu ara rtl\"></span><span class=\"plain  rtl  hl\" ><span class=\"txtu ara\">وَ</span></span><span class=\"plain  rtl  \" ><span class=\"txtu ara\">قَالَ </span></span></span><span class=\"plain  rtl  \" ><span class=\"plain txtu ara rtl\"></span><span class=\"plain  rtl  \" ><span class=\"txtu ara\">لَ</span></span><span class=\"plain  rtl  \" ><span class=\"txtu ara\">هُمْ </span></span></span><span class=\"plain  rtl  \" ><span class=\"plain txtu ara rtl\"></span><span class=\"plain  rtl  \" ><span class=\"txtu ara\">نَبِيُّ</span></span><span class=\"plain  rtl  \" ><span class=\"txtu ara\">هُمْ </span></span></span><span class=\"plain  rtl  \" ><span class=\"plain txtu ara rtl\"></span><span class=\"plain  rtl  \" ><span class=\"txtu ara\">إِنَّ </span></span></span><span class=\"plain  rtl  \" ><span class=\"plain txtu ara rtl\"></span><span class=\"plain  rtl  \" ><span class=\"txtu ara\">ٱللَّهَ </span></span></span><span class=\"plain  rtl  \" ><span class=\"plain txtu ara rtl\"></span><span class=\"plain  rtl  \" ><span class=\"txtu ara\">قَدْ </span></span></span><span class=\"plain  rtl  \" ><span class=\"plain txtu ara rtl\"></span><span class=\"plain  rtl  \" ><span class=\"txtu ara\">بَعَثَ </span></span></span><span class=\"plain  rtl  \" ><span class=\"plain txtu ara rtl\"></span><span class=\"plain  rtl  \" ><span class=\"txtu ara\">لَ</span></span><span class=\"plain  rtl  \" ><span class=\"txtu ara\">كُمْ </span></span></span><span class=\"plain  rtl  \" ><span class=\"plain txtu ara rtl\"></span><span class=\"plain  rtl  \" ><span class=\"txtu ara\">طَالُوتَ </span></span></span><span class=\"plain  rtl  \" ><span class=\"plain txtu ara rtl\"></span><span class=\"plain  rtl  \" ><span class=\"txtu ara\">مَلِكًا </span></span></span><span class=\"plain  rtl  \" ><span class=\"plain txtu ara rtl\"></span><span class=\"plain  rtl  \" ><span class=\"txtu ara\">قَالُ</span></span><span class=\"plain  rtl  \" ><span class=\"txtu ara\">وٓا۟ </span></span></span><span class=\"plain  rtl  \" ><span class=\"plain txtu ara rtl\"></span><span class=\"plain  rtl  \" ><span class=\"txtu ara\">أَنَّىٰ </span></span></span><span class=\"plain  rtl  \" ><span class=\"plain txtu ara rtl\"></span><span class=\"plain  rtl  \" ><span class=\"txtu ara\">يَكُونُ </span></span></span><span class=\"plain  rtl  \" ><span class=\"plain txtu ara rtl\"></span><span class=\"plain  rtl  \" ><span class=\"txtu ara\">لَ</span></span><span class=\"plain  rtl  \" ><span class=\"txtu ara\">هُ </span></span></span><span class=\"plain  rtl  \" ><span class=\"plain txtu ara rtl\"></span><span class=\"plain  rtl  \" ><span class=\"txtu ara\">ٱلْ</span></span><span class=\"plain  rtl  \" ><span class=\"txtu ara\">مُلْكُ </span></span></span><span class=\"plain  rtl  \" ><span class=\"plain txtu ara rtl\"></span><span class=\"plain  rtl  \" ><span class=\"txtu ara\">عَلَيْ</span></span><span class=\"plain  rtl  \" ><span class=\"txtu ara\">نَا </span></span></span><span class=\"plain  rtl  \" ><span class=\"plain txtu ara rtl\"></span><span class=\"plain  rtl  \" ><span class=\"txtu ara\">وَ</span></span><span class=\"plain  rtl  \" ><span class=\"txtu ara\">نَحْنُ </span></span></span><span class=\"plain  rtl  \" ><span class=\"plain txtu ara rtl\"></span><span class=\"plain  rtl  \" ><span class=\"txtu ara\">أَحَقُّ </span></span></span><span class=\"plain  rtl  \" ><span class=\"plain txtu ara rtl\"></span><span class=\"plain  rtl  \" ><span class=\"txtu ara\">بِ</span></span><span class=\"plain  rtl  \" ><span class=\"txtu ara\">ٱلْ</span></span><span class=\"plain  rtl  \" ><span class=\"txtu ara\">مُلْكِ </span></span></span><span class=\"plain  rtl  \" ><span class=\"plain txtu ara rtl\"></span><span class=\"plain  rtl  \" ><span class=\"txtu ara\">مِنْ</span></span><span class=\"plain  rtl  \" ><span class=\"txtu ara\">هُ </span></span></span><span class=\"plain  rtl  \" ><span class=\"plain txtu ara rtl\"></span><span class=\"plain  rtl  \" ><span class=\"txtu ara\">وَ</span></span><span class=\"plain  rtl  \" ><span class=\"txtu ara\">لَمْ </span></span></span><span class=\"plain  rtl  \" ><span class=\"plain txtu ara rtl\"></span><span class=\"plain  rtl  \" ><span class=\"txtu ara\">يُؤْتَ </span></span></span><span class=\"plain  rtl  \" ><span class=\"plain txtu ara rtl\"></span><span class=\"plain  rtl  \" ><span class=\"txtu ara\">سَعَةً </span></span></span><span class=\"plain  rtl  \" ><span class=\"plain txtu ara rtl\"></span><span class=\"plain  rtl  \" ><span class=\"txtu ara\">مِّنَ </span></span></span><span class=\"plain  rtl  \" ><span class=\"plain txtu ara rtl\"></span><span class=\"plain  rtl  \" ><span class=\"txtu ara\">ٱلْ</span></span><span class=\"plain  rtl  \" ><span class=\"txtu ara\">مَالِ </span></span></span><span class=\"plain  rtl  \" ><span class=\"plain txtu ara rtl\"></span><span class=\"plain  rtl  \" ><span class=\"txtu ara\">قَالَ </span></span></span><span class=\"plain  rtl  \" ><span class=\"plain txtu ara rtl\"></span><span class=\"plain  rtl  \" ><span class=\"txtu ara\">إِنَّ </span></span></span><span class=\"plain  rtl  \" ><span class=\"plain txtu ara rtl\"></span><span class=\"plain  rtl  \" ><span class=\"txtu ara\">ٱللَّهَ </span></span></span><span class=\"plain  rtl  \" ><span class=\"plain txtu ara rtl\"></span><span class=\"plain  rtl  \" ><span class=\"txtu ara\">ٱصْطَفَىٰ</span></span><span class=\"plain  rtl  \" ><span class=\"txtu ara\">هُ </span></span></span><span class=\"plain  rtl  \" ><span class=\"plain txtu ara rtl\"></span><span class=\"plain  rtl  \" ><span class=\"txtu ara\">عَلَيْ</span></span><span class=\"plain  rtl  \" ><span class=\"txtu ara\">كُمْ </span></span></span><span class=\"plain  rtl  \" ><span class=\"plain txtu ara rtl\"></span><span class=\"plain  rtl  \" ><span class=\"txtu ara\">وَ</span></span><span class=\"plain  rtl  \" ><span class=\"txtu ara\">زَادَ</span></span><span class=\"plain  rtl  \" ><span class=\"txtu ara\">هُۥ </span></span></span><span class=\"plain  rtl  \" ><span class=\"plain txtu ara rtl\"></span><span class=\"plain  rtl  \" ><span class=\"txtu ara\">بَسْطَةً </span></span></span><span class=\"plain  rtl  \" ><span class=\"plain txtu ara rtl\"></span><span class=\"plain  rtl  \" ><span class=\"txtu ara\">فِى </span></span></span><span class=\"plain  rtl  \" ><span class=\"plain txtu ara rtl\"></span><span class=\"plain  rtl  \" ><span class=\"txtu ara\">ٱلْ</span></span><span class=\"plain  rtl  \" ><span class=\"txtu ara\">عِلْمِ </span></span></span><span class=\"plain  rtl  \" ><span class=\"plain txtu ara rtl\"></span><span class=\"plain  rtl  \" ><span class=\"txtu ara\">وَ</span></span><span class=\"plain  rtl  \" ><span class=\"txtu ara\">ٱلْ</span></span><span class=\"plain  rtl  \" ><span class=\"txtu ara\">جِسْمِ </span></span></span><span class=\"plain  rtl  \" ><span class=\"plain txtu ara rtl\"></span><span class=\"plain  rtl  \" ><span class=\"txtu ara\">وَ</span></span><span class=\"plain  rtl  \" ><span class=\"txtu ara\">ٱللَّهُ </span></span></span><span class=\"plain  rtl  \" ><span class=\"plain txtu ara rtl\"></span><span class=\"plain  rtl  \" ><span class=\"txtu ara\">يُؤْتِى </span></span></span><span class=\"plain  rtl  \" ><span class=\"plain txtu ara rtl\"></span><span class=\"plain  rtl  \" ><span class=\"txtu ara\">مُلْكَ</span></span><span class=\"plain  rtl  \" ><span class=\"txtu ara\">هُۥ </span></span></span><span class=\"plain  rtl  \" ><span class=\"plain txtu ara rtl\"></span><span class=\"plain  rtl  \" ><span class=\"txtu ara\">مَن </span></span></span><span class=\"plain  rtl  \" ><span class=\"plain txtu ara rtl\"></span><span class=\"plain  rtl  \" ><span class=\"txtu ara\">يَشَآءُ </span></span></span><span class=\"plain  rtl  \" ><span class=\"plain txtu ara rtl\"></span><span class=\"plain  rtl  \" ><span class=\"txtu ara\">وَ</span></span><span class=\"plain  rtl  \" ><span class=\"txtu ara\">ٱللَّهُ </span></span></span><span class=\"plain  rtl  \" ><span class=\"plain txtu ara rtl\"></span><span class=\"plain  rtl  \" ><span class=\"txtu ara\">وَٰسِعٌ </span></span></span><span class=\"plain  rtl  \" ><span class=\"plain txtu ara rtl\"></span><span class=\"plain  rtl  \" ><span class=\"txtu ara\">عَلِيمٌ</span></span></span></span></td><td class=\"tf\"><span class=\"plain outer rtl  hl\" ><span class=\"txtu ara\">وَ</span></span></td></tr>\n",
       "<tr class=\"tf\"><td class=\"tf\">248</td><td class=\"tf\"><span class=\"section ltr\"><a target=\"_blank\" href=\"/#2:248\" title=\"show this passage on Tanzil\" sec=\"2:248\">2:248</a></span></td><td class=\"tf\"><span class=\"plain outer rtl  \" ><span class=\"plain txtu ara rtl\"></span><span class=\"plain  rtl  \" ><span class=\"plain txtu ara rtl\"></span><span class=\"plain  rtl  hl\" ><span class=\"txtu ara\">وَ</span></span><span class=\"plain  rtl  \" ><span class=\"txtu ara\">قَالَ </span></span></span><span class=\"plain  rtl  \" ><span class=\"plain txtu ara rtl\"></span><span class=\"plain  rtl  \" ><span class=\"txtu ara\">لَ</span></span><span class=\"plain  rtl  \" ><span class=\"txtu ara\">هُمْ </span></span></span><span class=\"plain  rtl  \" ><span class=\"plain txtu ara rtl\"></span><span class=\"plain  rtl  \" ><span class=\"txtu ara\">نَبِيُّ</span></span><span class=\"plain  rtl  \" ><span class=\"txtu ara\">هُمْ </span></span></span><span class=\"plain  rtl  \" ><span class=\"plain txtu ara rtl\"></span><span class=\"plain  rtl  \" ><span class=\"txtu ara\">إِنَّ </span></span></span><span class=\"plain  rtl  \" ><span class=\"plain txtu ara rtl\"></span><span class=\"plain  rtl  \" ><span class=\"txtu ara\">ءَايَةَ </span></span></span><span class=\"plain  rtl  \" ><span class=\"plain txtu ara rtl\"></span><span class=\"plain  rtl  \" ><span class=\"txtu ara\">مُلْكِ</span></span><span class=\"plain  rtl  \" ><span class=\"txtu ara\">هِۦٓ </span></span></span><span class=\"plain  rtl  \" ><span class=\"plain txtu ara rtl\"></span><span class=\"plain  rtl  \" ><span class=\"txtu ara\">أَن </span></span></span><span class=\"plain  rtl  \" ><span class=\"plain txtu ara rtl\"></span><span class=\"plain  rtl  \" ><span class=\"txtu ara\">يَأْتِيَ</span></span><span class=\"plain  rtl  \" ><span class=\"txtu ara\">كُمُ </span></span></span><span class=\"plain  rtl  \" ><span class=\"plain txtu ara rtl\"></span><span class=\"plain  rtl  \" ><span class=\"txtu ara\">ٱل</span></span><span class=\"plain  rtl  \" ><span class=\"txtu ara\">تَّابُوتُ </span></span></span><span class=\"plain  rtl  \" ><span class=\"plain txtu ara rtl\"></span><span class=\"plain  rtl  \" ><span class=\"txtu ara\">فِي</span></span><span class=\"plain  rtl  \" ><span class=\"txtu ara\">هِ </span></span></span><span class=\"plain  rtl  \" ><span class=\"plain txtu ara rtl\"></span><span class=\"plain  rtl  \" ><span class=\"txtu ara\">سَكِينَةٌ </span></span></span><span class=\"plain  rtl  \" ><span class=\"plain txtu ara rtl\"></span><span class=\"plain  rtl  \" ><span class=\"txtu ara\">مِّن </span></span></span><span class=\"plain  rtl  \" ><span class=\"plain txtu ara rtl\"></span><span class=\"plain  rtl  \" ><span class=\"txtu ara\">رَّبِّ</span></span><span class=\"plain  rtl  \" ><span class=\"txtu ara\">كُمْ </span></span></span><span class=\"plain  rtl  \" ><span class=\"plain txtu ara rtl\"></span><span class=\"plain  rtl  \" ><span class=\"txtu ara\">وَ</span></span><span class=\"plain  rtl  \" ><span class=\"txtu ara\">بَقِيَّةٌ </span></span></span><span class=\"plain  rtl  \" ><span class=\"plain txtu ara rtl\"></span><span class=\"plain  rtl  \" ><span class=\"txtu ara\">مِّ</span></span><span class=\"plain  rtl  \" ><span class=\"txtu ara\">مَّا </span></span></span><span class=\"plain  rtl  \" ><span class=\"plain txtu ara rtl\"></span><span class=\"plain  rtl  \" ><span class=\"txtu ara\">تَرَكَ </span></span></span><span class=\"plain  rtl  \" ><span class=\"plain txtu ara rtl\"></span><span class=\"plain  rtl  \" ><span class=\"txtu ara\">ءَالُ </span></span></span><span class=\"plain  rtl  \" ><span class=\"plain txtu ara rtl\"></span><span class=\"plain  rtl  \" ><span class=\"txtu ara\">مُوسَىٰ </span></span></span><span class=\"plain  rtl  \" ><span class=\"plain txtu ara rtl\"></span><span class=\"plain  rtl  \" ><span class=\"txtu ara\">وَ</span></span><span class=\"plain  rtl  \" ><span class=\"txtu ara\">ءَالُ </span></span></span><span class=\"plain  rtl  \" ><span class=\"plain txtu ara rtl\"></span><span class=\"plain  rtl  \" ><span class=\"txtu ara\">هَٰرُونَ </span></span></span><span class=\"plain  rtl  \" ><span class=\"plain txtu ara rtl\"></span><span class=\"plain  rtl  \" ><span class=\"txtu ara\">تَحْمِلُ</span></span><span class=\"plain  rtl  \" ><span class=\"txtu ara\">هُ </span></span></span><span class=\"plain  rtl  \" ><span class=\"plain txtu ara rtl\"></span><span class=\"plain  rtl  \" ><span class=\"txtu ara\">ٱلْ</span></span><span class=\"plain  rtl  \" ><span class=\"txtu ara\">مَلَٰٓئِكَةُ </span></span></span><span class=\"plain  rtl  \" ><span class=\"plain txtu ara rtl\"></span><span class=\"plain  rtl  \" ><span class=\"txtu ara\">إِنَّ </span></span></span><span class=\"plain  rtl  \" ><span class=\"plain txtu ara rtl\"></span><span class=\"plain  rtl  \" ><span class=\"txtu ara\">فِى </span></span></span><span class=\"plain  rtl  \" ><span class=\"plain txtu ara rtl\"></span><span class=\"plain  rtl  \" ><span class=\"txtu ara\">ذَٰلِكَ </span></span></span><span class=\"plain  rtl  \" ><span class=\"plain txtu ara rtl\"></span><span class=\"plain  rtl  \" ><span class=\"txtu ara\">لَ</span></span><span class=\"plain  rtl  \" ><span class=\"txtu ara\">ءَايَةً </span></span></span><span class=\"plain  rtl  \" ><span class=\"plain txtu ara rtl\"></span><span class=\"plain  rtl  \" ><span class=\"txtu ara\">لَّ</span></span><span class=\"plain  rtl  \" ><span class=\"txtu ara\">كُمْ </span></span></span><span class=\"plain  rtl  \" ><span class=\"plain txtu ara rtl\"></span><span class=\"plain  rtl  \" ><span class=\"txtu ara\">إِن </span></span></span><span class=\"plain  rtl  \" ><span class=\"plain txtu ara rtl\"></span><span class=\"plain  rtl  \" ><span class=\"txtu ara\">كُن</span></span><span class=\"plain  rtl  \" ><span class=\"txtu ara\">تُم </span></span></span><span class=\"plain  rtl  \" ><span class=\"plain txtu ara rtl\"></span><span class=\"plain  rtl  \" ><span class=\"txtu ara\">مُّؤْمِنِينَ</span></span></span></span></td><td class=\"tf\"><span class=\"plain outer rtl  hl\" ><span class=\"txtu ara\">وَ</span></span></td></tr>\n",
       "<tr class=\"tf\"><td class=\"tf\">249</td><td class=\"tf\"><span class=\"section ltr\"><a target=\"_blank\" href=\"/#2:249\" title=\"show this passage on Tanzil\" sec=\"2:249\">2:249</a></span></td><td class=\"tf\"><span class=\"plain outer rtl  \" ><span class=\"plain txtu ara rtl\"></span><span class=\"plain  rtl  \" ><span class=\"plain txtu ara rtl\"></span><span class=\"plain  rtl  hl\"  style=\"background-color: fuchsia;\" ><span class=\"txtu ara\">فَ</span></span><span class=\"plain  rtl  \" ><span class=\"txtu ara\">لَمَّا </span></span></span><span class=\"plain  rtl  \" ><span class=\"plain txtu ara rtl\"></span><span class=\"plain  rtl  \" ><span class=\"txtu ara\">فَصَلَ </span></span></span><span class=\"plain  rtl  \" ><span class=\"plain txtu ara rtl\"></span><span class=\"plain  rtl  \" ><span class=\"txtu ara\">طَالُوتُ </span></span></span><span class=\"plain  rtl  \" ><span class=\"plain txtu ara rtl\"></span><span class=\"plain  rtl  \" ><span class=\"txtu ara\">بِ</span></span><span class=\"plain  rtl  \" ><span class=\"txtu ara\">ٱلْ</span></span><span class=\"plain  rtl  \" ><span class=\"txtu ara\">جُنُودِ </span></span></span><span class=\"plain  rtl  \" ><span class=\"plain txtu ara rtl\"></span><span class=\"plain  rtl  \" ><span class=\"txtu ara\">قَالَ </span></span></span><span class=\"plain  rtl  \" ><span class=\"plain txtu ara rtl\"></span><span class=\"plain  rtl  \" ><span class=\"txtu ara\">إِنَّ </span></span></span><span class=\"plain  rtl  \" ><span class=\"plain txtu ara rtl\"></span><span class=\"plain  rtl  \" ><span class=\"txtu ara\">ٱللَّهَ </span></span></span><span class=\"plain  rtl  \" ><span class=\"plain txtu ara rtl\"></span><span class=\"plain  rtl  \" ><span class=\"txtu ara\">مُبْتَلِي</span></span><span class=\"plain  rtl  \" ><span class=\"txtu ara\">كُم </span></span></span><span class=\"plain  rtl  \" ><span class=\"plain txtu ara rtl\"></span><span class=\"plain  rtl  \" ><span class=\"txtu ara\">بِ</span></span><span class=\"plain  rtl  \" ><span class=\"txtu ara\">نَهَرٍ </span></span></span><span class=\"plain  rtl  \" ><span class=\"plain txtu ara rtl\"></span><span class=\"plain  rtl  \" ><span class=\"txtu ara\">فَ</span></span><span class=\"plain  rtl  \" ><span class=\"txtu ara\">مَن </span></span></span><span class=\"plain  rtl  \" ><span class=\"plain txtu ara rtl\"></span><span class=\"plain  rtl  \" ><span class=\"txtu ara\">شَرِبَ </span></span></span><span class=\"plain  rtl  \" ><span class=\"plain txtu ara rtl\"></span><span class=\"plain  rtl  \" ><span class=\"txtu ara\">مِنْ</span></span><span class=\"plain  rtl  \" ><span class=\"txtu ara\">هُ </span></span></span><span class=\"plain  rtl  \" ><span class=\"plain txtu ara rtl\"></span><span class=\"plain  rtl  \" ><span class=\"txtu ara\">فَ</span></span><span class=\"plain  rtl  \" ><span class=\"txtu ara\">لَيْسَ </span></span></span><span class=\"plain  rtl  \" ><span class=\"plain txtu ara rtl\"></span><span class=\"plain  rtl  \" ><span class=\"txtu ara\">مِنِّ</span></span><span class=\"plain  rtl  \" ><span class=\"txtu ara\">ى </span></span></span><span class=\"plain  rtl  \" ><span class=\"plain txtu ara rtl\"></span><span class=\"plain  rtl  \" ><span class=\"txtu ara\">وَ</span></span><span class=\"plain  rtl  \" ><span class=\"txtu ara\">مَن </span></span></span><span class=\"plain  rtl  \" ><span class=\"plain txtu ara rtl\"></span><span class=\"plain  rtl  \" ><span class=\"txtu ara\">لَّمْ </span></span></span><span class=\"plain  rtl  \" ><span class=\"plain txtu ara rtl\"></span><span class=\"plain  rtl  \" ><span class=\"txtu ara\">يَطْعَمْ</span></span><span class=\"plain  rtl  \" ><span class=\"txtu ara\">هُ </span></span></span><span class=\"plain  rtl  \" ><span class=\"plain txtu ara rtl\"></span><span class=\"plain  rtl  \" ><span class=\"txtu ara\">فَ</span></span><span class=\"plain  rtl  \" ><span class=\"txtu ara\">إِنَّ</span></span><span class=\"plain  rtl  \" ><span class=\"txtu ara\">هُۥ </span></span></span><span class=\"plain  rtl  \" ><span class=\"plain txtu ara rtl\"></span><span class=\"plain  rtl  \" ><span class=\"txtu ara\">مِنِّ</span></span><span class=\"plain  rtl  \" ><span class=\"txtu ara\">ىٓ </span></span></span><span class=\"plain  rtl  \" ><span class=\"plain txtu ara rtl\"></span><span class=\"plain  rtl  \" ><span class=\"txtu ara\">إِلَّا </span></span></span><span class=\"plain  rtl  \" ><span class=\"plain txtu ara rtl\"></span><span class=\"plain  rtl  \" ><span class=\"txtu ara\">مَنِ </span></span></span><span class=\"plain  rtl  \" ><span class=\"plain txtu ara rtl\"></span><span class=\"plain  rtl  \" ><span class=\"txtu ara\">ٱغْتَرَفَ </span></span></span><span class=\"plain  rtl  \" ><span class=\"plain txtu ara rtl\"></span><span class=\"plain  rtl  \" ><span class=\"txtu ara\">غُرْفَةًۢ </span></span></span><span class=\"plain  rtl  \" ><span class=\"plain txtu ara rtl\"></span><span class=\"plain  rtl  \" ><span class=\"txtu ara\">بِ</span></span><span class=\"plain  rtl  \" ><span class=\"txtu ara\">يَدِ</span></span><span class=\"plain  rtl  \" ><span class=\"txtu ara\">هِۦ </span></span></span><span class=\"plain  rtl  \" ><span class=\"plain txtu ara rtl\"></span><span class=\"plain  rtl  \" ><span class=\"txtu ara\">فَ</span></span><span class=\"plain  rtl  \" ><span class=\"txtu ara\">شَرِبُ</span></span><span class=\"plain  rtl  \" ><span class=\"txtu ara\">وا۟ </span></span></span><span class=\"plain  rtl  \" ><span class=\"plain txtu ara rtl\"></span><span class=\"plain  rtl  \" ><span class=\"txtu ara\">مِنْ</span></span><span class=\"plain  rtl  \" ><span class=\"txtu ara\">هُ </span></span></span><span class=\"plain  rtl  \" ><span class=\"plain txtu ara rtl\"></span><span class=\"plain  rtl  \" ><span class=\"txtu ara\">إِلَّا </span></span></span><span class=\"plain  rtl  \" ><span class=\"plain txtu ara rtl\"></span><span class=\"plain  rtl  \" ><span class=\"txtu ara\">قَلِيلًا </span></span></span><span class=\"plain  rtl  \" ><span class=\"plain txtu ara rtl\"></span><span class=\"plain  rtl  \" ><span class=\"txtu ara\">مِّنْ</span></span><span class=\"plain  rtl  \" ><span class=\"txtu ara\">هُمْ </span></span></span><span class=\"plain  rtl  \" ><span class=\"plain txtu ara rtl\"></span><span class=\"plain  rtl  \" ><span class=\"txtu ara\">فَ</span></span><span class=\"plain  rtl  \" ><span class=\"txtu ara\">لَمَّا </span></span></span><span class=\"plain  rtl  \" ><span class=\"plain txtu ara rtl\"></span><span class=\"plain  rtl  \" ><span class=\"txtu ara\">جَاوَزَ</span></span><span class=\"plain  rtl  \" ><span class=\"txtu ara\">هُۥ </span></span></span><span class=\"plain  rtl  \" ><span class=\"plain txtu ara rtl\"></span><span class=\"plain  rtl  \" ><span class=\"txtu ara\">هُوَ </span></span></span><span class=\"plain  rtl  \" ><span class=\"plain txtu ara rtl\"></span><span class=\"plain  rtl  \" ><span class=\"txtu ara\">وَ</span></span><span class=\"plain  rtl  \" ><span class=\"txtu ara\">ٱلَّذِينَ </span></span></span><span class=\"plain  rtl  \" ><span class=\"plain txtu ara rtl\"></span><span class=\"plain  rtl  \" ><span class=\"txtu ara\">ءَامَنُ</span></span><span class=\"plain  rtl  \" ><span class=\"txtu ara\">وا۟ </span></span></span><span class=\"plain  rtl  \" ><span class=\"plain txtu ara rtl\"></span><span class=\"plain  rtl  \" ><span class=\"txtu ara\">مَعَ</span></span><span class=\"plain  rtl  \" ><span class=\"txtu ara\">هُۥ </span></span></span><span class=\"plain  rtl  \" ><span class=\"plain txtu ara rtl\"></span><span class=\"plain  rtl  \" ><span class=\"txtu ara\">قَالُ</span></span><span class=\"plain  rtl  \" ><span class=\"txtu ara\">وا۟ </span></span></span><span class=\"plain  rtl  \" ><span class=\"plain txtu ara rtl\"></span><span class=\"plain  rtl  \" ><span class=\"txtu ara\">لَا </span></span></span><span class=\"plain  rtl  \" ><span class=\"plain txtu ara rtl\"></span><span class=\"plain  rtl  \" ><span class=\"txtu ara\">طَاقَةَ </span></span></span><span class=\"plain  rtl  \" ><span class=\"plain txtu ara rtl\"></span><span class=\"plain  rtl  \" ><span class=\"txtu ara\">لَ</span></span><span class=\"plain  rtl  \" ><span class=\"txtu ara\">نَا </span></span></span><span class=\"plain  rtl  \" ><span class=\"plain txtu ara rtl\"></span><span class=\"plain  rtl  \" ><span class=\"txtu ara\">ٱلْ</span></span><span class=\"plain  rtl  \" ><span class=\"txtu ara\">يَوْمَ </span></span></span><span class=\"plain  rtl  \" ><span class=\"plain txtu ara rtl\"></span><span class=\"plain  rtl  \" ><span class=\"txtu ara\">بِ</span></span><span class=\"plain  rtl  \" ><span class=\"txtu ara\">جَالُوتَ </span></span></span><span class=\"plain  rtl  \" ><span class=\"plain txtu ara rtl\"></span><span class=\"plain  rtl  \" ><span class=\"txtu ara\">وَ</span></span><span class=\"plain  rtl  \" ><span class=\"txtu ara\">جُنُودِ</span></span><span class=\"plain  rtl  \" ><span class=\"txtu ara\">هِۦ </span></span></span><span class=\"plain  rtl  \" ><span class=\"plain txtu ara rtl\"></span><span class=\"plain  rtl  \" ><span class=\"txtu ara\">قَالَ </span></span></span><span class=\"plain  rtl  \" ><span class=\"plain txtu ara rtl\"></span><span class=\"plain  rtl  \" ><span class=\"txtu ara\">ٱلَّذِينَ </span></span></span><span class=\"plain  rtl  \" ><span class=\"plain txtu ara rtl\"></span><span class=\"plain  rtl  \" ><span class=\"txtu ara\">يَظُنُّ</span></span><span class=\"plain  rtl  \" ><span class=\"txtu ara\">ونَ </span></span></span><span class=\"plain  rtl  \" ><span class=\"plain txtu ara rtl\"></span><span class=\"plain  rtl  \" ><span class=\"txtu ara\">أَنَّ</span></span><span class=\"plain  rtl  \" ><span class=\"txtu ara\">هُم </span></span></span><span class=\"plain  rtl  \" ><span class=\"plain txtu ara rtl\"></span><span class=\"plain  rtl  \" ><span class=\"txtu ara\">مُّلَٰقُوا۟ </span></span></span><span class=\"plain  rtl  \" ><span class=\"plain txtu ara rtl\"></span><span class=\"plain  rtl  \" ><span class=\"txtu ara\">ٱللَّهِ </span></span></span><span class=\"plain  rtl  \" ><span class=\"plain txtu ara rtl\"></span><span class=\"plain  rtl  \" ><span class=\"txtu ara\">كَم </span></span></span><span class=\"plain  rtl  \" ><span class=\"plain txtu ara rtl\"></span><span class=\"plain  rtl  \" ><span class=\"txtu ara\">مِّن </span></span></span><span class=\"plain  rtl  \" ><span class=\"plain txtu ara rtl\"></span><span class=\"plain  rtl  \" ><span class=\"txtu ara\">فِئَةٍ </span></span></span><span class=\"plain  rtl  \" ><span class=\"plain txtu ara rtl\"></span><span class=\"plain  rtl  \" ><span class=\"txtu ara\">قَلِيلَةٍ </span></span></span><span class=\"plain  rtl  \" ><span class=\"plain txtu ara rtl\"></span><span class=\"plain  rtl  \" ><span class=\"txtu ara\">غَلَبَتْ </span></span></span><span class=\"plain  rtl  \" ><span class=\"plain txtu ara rtl\"></span><span class=\"plain  rtl  \" ><span class=\"txtu ara\">فِئَةً </span></span></span><span class=\"plain  rtl  \" ><span class=\"plain txtu ara rtl\"></span><span class=\"plain  rtl  \" ><span class=\"txtu ara\">كَثِيرَةًۢ </span></span></span><span class=\"plain  rtl  \" ><span class=\"plain txtu ara rtl\"></span><span class=\"plain  rtl  \" ><span class=\"txtu ara\">بِ</span></span><span class=\"plain  rtl  \" ><span class=\"txtu ara\">إِذْنِ </span></span></span><span class=\"plain  rtl  \" ><span class=\"plain txtu ara rtl\"></span><span class=\"plain  rtl  \" ><span class=\"txtu ara\">ٱللَّهِ </span></span></span><span class=\"plain  rtl  \" ><span class=\"plain txtu ara rtl\"></span><span class=\"plain  rtl  \" ><span class=\"txtu ara\">وَ</span></span><span class=\"plain  rtl  \" ><span class=\"txtu ara\">ٱللَّهُ </span></span></span><span class=\"plain  rtl  \" ><span class=\"plain txtu ara rtl\"></span><span class=\"plain  rtl  \" ><span class=\"txtu ara\">مَعَ </span></span></span><span class=\"plain  rtl  \" ><span class=\"plain txtu ara rtl\"></span><span class=\"plain  rtl  \" ><span class=\"txtu ara\">ٱل</span></span><span class=\"plain  rtl  \" ><span class=\"txtu ara\">صَّٰبِرِينَ</span></span></span></span></td><td class=\"tf\"><span class=\"plain outer rtl  hl\"  style=\"background-color: fuchsia;\" ><span class=\"txtu ara\">فَ</span></span></td></tr>\n",
       "<tr class=\"tf\"><td class=\"tf\">250</td><td class=\"tf\"><span class=\"section ltr\"><a target=\"_blank\" href=\"/#2:250\" title=\"show this passage on Tanzil\" sec=\"2:250\">2:250</a></span></td><td class=\"tf\"><span class=\"plain outer rtl  \" ><span class=\"plain txtu ara rtl\"></span><span class=\"plain  rtl  \" ><span class=\"plain txtu ara rtl\"></span><span class=\"plain  rtl  hl\"  style=\"background-color: fuchsia;\" ><span class=\"txtu ara\">وَ</span></span><span class=\"plain  rtl  \" ><span class=\"txtu ara\">لَمَّا </span></span></span><span class=\"plain  rtl  \" ><span class=\"plain txtu ara rtl\"></span><span class=\"plain  rtl  \" ><span class=\"txtu ara\">بَرَزُ</span></span><span class=\"plain  rtl  \" ><span class=\"txtu ara\">وا۟ </span></span></span><span class=\"plain  rtl  \" ><span class=\"plain txtu ara rtl\"></span><span class=\"plain  rtl  \" ><span class=\"txtu ara\">لِ</span></span><span class=\"plain  rtl  \" ><span class=\"txtu ara\">جَالُوتَ </span></span></span><span class=\"plain  rtl  \" ><span class=\"plain txtu ara rtl\"></span><span class=\"plain  rtl  \" ><span class=\"txtu ara\">وَ</span></span><span class=\"plain  rtl  \" ><span class=\"txtu ara\">جُنُودِ</span></span><span class=\"plain  rtl  \" ><span class=\"txtu ara\">هِۦ </span></span></span><span class=\"plain  rtl  \" ><span class=\"plain txtu ara rtl\"></span><span class=\"plain  rtl  \" ><span class=\"txtu ara\">قَالُ</span></span><span class=\"plain  rtl  \" ><span class=\"txtu ara\">وا۟ </span></span></span><span class=\"plain  rtl  \" ><span class=\"plain txtu ara rtl\"></span><span class=\"plain  rtl  \" ><span class=\"txtu ara\">رَبَّ</span></span><span class=\"plain  rtl  \" ><span class=\"txtu ara\">نَآ </span></span></span><span class=\"plain  rtl  \" ><span class=\"plain txtu ara rtl\"></span><span class=\"plain  rtl  \" ><span class=\"txtu ara\">أَفْرِغْ </span></span></span><span class=\"plain  rtl  \" ><span class=\"plain txtu ara rtl\"></span><span class=\"plain  rtl  \" ><span class=\"txtu ara\">عَلَيْ</span></span><span class=\"plain  rtl  \" ><span class=\"txtu ara\">نَا </span></span></span><span class=\"plain  rtl  \" ><span class=\"plain txtu ara rtl\"></span><span class=\"plain  rtl  \" ><span class=\"txtu ara\">صَبْرًا </span></span></span><span class=\"plain  rtl  \" ><span class=\"plain txtu ara rtl\"></span><span class=\"plain  rtl  \" ><span class=\"txtu ara\">وَ</span></span><span class=\"plain  rtl  \" ><span class=\"txtu ara\">ثَبِّتْ </span></span></span><span class=\"plain  rtl  \" ><span class=\"plain txtu ara rtl\"></span><span class=\"plain  rtl  \" ><span class=\"txtu ara\">أَقْدَامَ</span></span><span class=\"plain  rtl  \" ><span class=\"txtu ara\">نَا </span></span></span><span class=\"plain  rtl  \" ><span class=\"plain txtu ara rtl\"></span><span class=\"plain  rtl  \" ><span class=\"txtu ara\">وَ</span></span><span class=\"plain  rtl  \" ><span class=\"txtu ara\">ٱنصُرْ</span></span><span class=\"plain  rtl  \" ><span class=\"txtu ara\">نَا </span></span></span><span class=\"plain  rtl  \" ><span class=\"plain txtu ara rtl\"></span><span class=\"plain  rtl  \" ><span class=\"txtu ara\">عَلَى </span></span></span><span class=\"plain  rtl  \" ><span class=\"plain txtu ara rtl\"></span><span class=\"plain  rtl  \" ><span class=\"txtu ara\">ٱلْ</span></span><span class=\"plain  rtl  \" ><span class=\"txtu ara\">قَوْمِ </span></span></span><span class=\"plain  rtl  \" ><span class=\"plain txtu ara rtl\"></span><span class=\"plain  rtl  \" ><span class=\"txtu ara\">ٱلْ</span></span><span class=\"plain  rtl  \" ><span class=\"txtu ara\">كَٰفِرِينَ</span></span></span></span></td><td class=\"tf\"><span class=\"plain outer rtl  hl\"  style=\"background-color: fuchsia;\" ><span class=\"txtu ara\">وَ</span></span></td></tr>\n",
       "<tr class=\"tf\"><td class=\"tf\">251</td><td class=\"tf\"><span class=\"section ltr\"><a target=\"_blank\" href=\"/#2:251\" title=\"show this passage on Tanzil\" sec=\"2:251\">2:251</a></span></td><td class=\"tf\"><span class=\"plain outer rtl  \" ><span class=\"plain txtu ara rtl\"></span><span class=\"plain  rtl  \" ><span class=\"plain txtu ara rtl\"></span><span class=\"plain  rtl  hl\"  style=\"background-color: fuchsia;\" ><span class=\"txtu ara\">فَ</span></span><span class=\"plain  rtl  \" ><span class=\"txtu ara\">هَزَمُ</span></span><span class=\"plain  rtl  \" ><span class=\"txtu ara\">و</span></span><span class=\"plain  rtl  \" ><span class=\"txtu ara\">هُم </span></span></span><span class=\"plain  rtl  \" ><span class=\"plain txtu ara rtl\"></span><span class=\"plain  rtl  \" ><span class=\"txtu ara\">بِ</span></span><span class=\"plain  rtl  \" ><span class=\"txtu ara\">إِذْنِ </span></span></span><span class=\"plain  rtl  \" ><span class=\"plain txtu ara rtl\"></span><span class=\"plain  rtl  \" ><span class=\"txtu ara\">ٱللَّهِ </span></span></span><span class=\"plain  rtl  \" ><span class=\"plain txtu ara rtl\"></span><span class=\"plain  rtl  \" ><span class=\"txtu ara\">وَ</span></span><span class=\"plain  rtl  \" ><span class=\"txtu ara\">قَتَلَ </span></span></span><span class=\"plain  rtl  \" ><span class=\"plain txtu ara rtl\"></span><span class=\"plain  rtl  \" ><span class=\"txtu ara\">دَاوُۥدُ </span></span></span><span class=\"plain  rtl  \" ><span class=\"plain txtu ara rtl\"></span><span class=\"plain  rtl  \" ><span class=\"txtu ara\">جَالُوتَ </span></span></span><span class=\"plain  rtl  \" ><span class=\"plain txtu ara rtl\"></span><span class=\"plain  rtl  \" ><span class=\"txtu ara\">وَ</span></span><span class=\"plain  rtl  \" ><span class=\"txtu ara\">ءَاتَىٰ</span></span><span class=\"plain  rtl  \" ><span class=\"txtu ara\">هُ </span></span></span><span class=\"plain  rtl  \" ><span class=\"plain txtu ara rtl\"></span><span class=\"plain  rtl  \" ><span class=\"txtu ara\">ٱللَّهُ </span></span></span><span class=\"plain  rtl  \" ><span class=\"plain txtu ara rtl\"></span><span class=\"plain  rtl  \" ><span class=\"txtu ara\">ٱلْ</span></span><span class=\"plain  rtl  \" ><span class=\"txtu ara\">مُلْكَ </span></span></span><span class=\"plain  rtl  \" ><span class=\"plain txtu ara rtl\"></span><span class=\"plain  rtl  \" ><span class=\"txtu ara\">وَ</span></span><span class=\"plain  rtl  \" ><span class=\"txtu ara\">ٱلْ</span></span><span class=\"plain  rtl  \" ><span class=\"txtu ara\">حِكْمَةَ </span></span></span><span class=\"plain  rtl  \" ><span class=\"plain txtu ara rtl\"></span><span class=\"plain  rtl  \" ><span class=\"txtu ara\">وَ</span></span><span class=\"plain  rtl  \" ><span class=\"txtu ara\">عَلَّمَ</span></span><span class=\"plain  rtl  \" ><span class=\"txtu ara\">هُۥ </span></span></span><span class=\"plain  rtl  \" ><span class=\"plain txtu ara rtl\"></span><span class=\"plain  rtl  \" ><span class=\"txtu ara\">مِ</span></span><span class=\"plain  rtl  \" ><span class=\"txtu ara\">مَّا </span></span></span><span class=\"plain  rtl  \" ><span class=\"plain txtu ara rtl\"></span><span class=\"plain  rtl  \" ><span class=\"txtu ara\">يَشَآءُ </span></span></span><span class=\"plain  rtl  \" ><span class=\"plain txtu ara rtl\"></span><span class=\"plain  rtl  \" ><span class=\"txtu ara\">وَ</span></span><span class=\"plain  rtl  \" ><span class=\"txtu ara\">لَوْلَا </span></span></span><span class=\"plain  rtl  \" ><span class=\"plain txtu ara rtl\"></span><span class=\"plain  rtl  \" ><span class=\"txtu ara\">دَفْعُ </span></span></span><span class=\"plain  rtl  \" ><span class=\"plain txtu ara rtl\"></span><span class=\"plain  rtl  \" ><span class=\"txtu ara\">ٱللَّهِ </span></span></span><span class=\"plain  rtl  \" ><span class=\"plain txtu ara rtl\"></span><span class=\"plain  rtl  \" ><span class=\"txtu ara\">ٱل</span></span><span class=\"plain  rtl  \" ><span class=\"txtu ara\">نَّاسَ </span></span></span><span class=\"plain  rtl  \" ><span class=\"plain txtu ara rtl\"></span><span class=\"plain  rtl  \" ><span class=\"txtu ara\">بَعْضَ</span></span><span class=\"plain  rtl  \" ><span class=\"txtu ara\">هُم </span></span></span><span class=\"plain  rtl  \" ><span class=\"plain txtu ara rtl\"></span><span class=\"plain  rtl  \" ><span class=\"txtu ara\">بِ</span></span><span class=\"plain  rtl  \" ><span class=\"txtu ara\">بَعْضٍ </span></span></span><span class=\"plain  rtl  \" ><span class=\"plain txtu ara rtl\"></span><span class=\"plain  rtl  \" ><span class=\"txtu ara\">لَّ</span></span><span class=\"plain  rtl  \" ><span class=\"txtu ara\">فَسَدَتِ </span></span></span><span class=\"plain  rtl  \" ><span class=\"plain txtu ara rtl\"></span><span class=\"plain  rtl  \" ><span class=\"txtu ara\">ٱلْ</span></span><span class=\"plain  rtl  \" ><span class=\"txtu ara\">أَرْضُ </span></span></span><span class=\"plain  rtl  \" ><span class=\"plain txtu ara rtl\"></span><span class=\"plain  rtl  \" ><span class=\"txtu ara\">وَ</span></span><span class=\"plain  rtl  \" ><span class=\"txtu ara\">لَٰكِنَّ </span></span></span><span class=\"plain  rtl  \" ><span class=\"plain txtu ara rtl\"></span><span class=\"plain  rtl  \" ><span class=\"txtu ara\">ٱللَّهَ </span></span></span><span class=\"plain  rtl  \" ><span class=\"plain txtu ara rtl\"></span><span class=\"plain  rtl  \" ><span class=\"txtu ara\">ذُو </span></span></span><span class=\"plain  rtl  \" ><span class=\"plain txtu ara rtl\"></span><span class=\"plain  rtl  \" ><span class=\"txtu ara\">فَضْلٍ </span></span></span><span class=\"plain  rtl  \" ><span class=\"plain txtu ara rtl\"></span><span class=\"plain  rtl  \" ><span class=\"txtu ara\">عَلَى </span></span></span><span class=\"plain  rtl  \" ><span class=\"plain txtu ara rtl\"></span><span class=\"plain  rtl  \" ><span class=\"txtu ara\">ٱلْ</span></span><span class=\"plain  rtl  \" ><span class=\"txtu ara\">عَٰلَمِينَ</span></span></span></span></td><td class=\"tf\"><span class=\"plain outer rtl  hl\"  style=\"background-color: fuchsia;\" ><span class=\"txtu ara\">فَ</span></span></td></tr>\n",
       "<tr class=\"tf\"><td class=\"tf\">252</td><td class=\"tf\"><span class=\"section ltr\"><a target=\"_blank\" href=\"/#2:252\" title=\"show this passage on Tanzil\" sec=\"2:252\">2:252</a></span></td><td class=\"tf\"><span class=\"plain outer rtl  \" ><span class=\"plain txtu ara rtl\"></span><span class=\"plain  rtl  \" ><span class=\"plain txtu ara rtl\"></span><span class=\"plain  rtl  hl\" ><span class=\"txtu ara\">تِلْكَ </span></span></span><span class=\"plain  rtl  \" ><span class=\"plain txtu ara rtl\"></span><span class=\"plain  rtl  \" ><span class=\"txtu ara\">ءَايَٰتُ </span></span></span><span class=\"plain  rtl  \" ><span class=\"plain txtu ara rtl\"></span><span class=\"plain  rtl  \" ><span class=\"txtu ara\">ٱللَّهِ </span></span></span><span class=\"plain  rtl  \" ><span class=\"plain txtu ara rtl\"></span><span class=\"plain  rtl  \" ><span class=\"txtu ara\">نَتْلُو</span></span><span class=\"plain  rtl  \" ><span class=\"txtu ara\">هَا </span></span></span><span class=\"plain  rtl  \" ><span class=\"plain txtu ara rtl\"></span><span class=\"plain  rtl  \" ><span class=\"txtu ara\">عَلَيْ</span></span><span class=\"plain  rtl  \" ><span class=\"txtu ara\">كَ </span></span></span><span class=\"plain  rtl  \" ><span class=\"plain txtu ara rtl\"></span><span class=\"plain  rtl  \" ><span class=\"txtu ara\">بِ</span></span><span class=\"plain  rtl  \" ><span class=\"txtu ara\">ٱلْ</span></span><span class=\"plain  rtl  \" ><span class=\"txtu ara\">حَقِّ </span></span></span><span class=\"plain  rtl  \" ><span class=\"plain txtu ara rtl\"></span><span class=\"plain  rtl  \" ><span class=\"txtu ara\">وَ</span></span><span class=\"plain  rtl  \" ><span class=\"txtu ara\">إِنَّ</span></span><span class=\"plain  rtl  \" ><span class=\"txtu ara\">كَ </span></span></span><span class=\"plain  rtl  \" ><span class=\"plain txtu ara rtl\"></span><span class=\"plain  rtl  \" ><span class=\"txtu ara\">لَ</span></span><span class=\"plain  rtl  \" ><span class=\"txtu ara\">مِنَ </span></span></span><span class=\"plain  rtl  \" ><span class=\"plain txtu ara rtl\"></span><span class=\"plain  rtl  \" ><span class=\"txtu ara\">ٱلْ</span></span><span class=\"plain  rtl  \" ><span class=\"txtu ara\">مُرْسَلِينَ</span></span></span></span></td><td class=\"tf\"><span class=\"plain outer rtl  hl\" ><span class=\"txtu ara\">تِلْكَ </span></span></td></tr>\n",
       "<tr class=\"tf\"><td class=\"tf\">253</td><td class=\"tf\"><span class=\"section ltr\"><a target=\"_blank\" href=\"/#2:253\" title=\"show this passage on Tanzil\" sec=\"2:253\">2:253</a></span></td><td class=\"tf\"><span class=\"plain outer rtl  hlbx\"  style=\"border-color: lightcoral;\" ><span class=\"plain txtu ara rtl\"></span><span class=\"plain  rtl  \" ><span class=\"plain txtu ara rtl\"></span><span class=\"plain  rtl  hl\" ><span class=\"txtu ara\">تِلْكَ </span></span></span><span class=\"plain  rtl  \" ><span class=\"plain txtu ara rtl\"></span><span class=\"plain  rtl  \" ><span class=\"txtu ara\">ٱل</span></span><span class=\"plain  rtl  \" ><span class=\"txtu ara\">رُّسُلُ </span></span></span><span class=\"plain  rtl  \" ><span class=\"plain txtu ara rtl\"></span><span class=\"plain  rtl  \" ><span class=\"txtu ara\">فَضَّلْ</span></span><span class=\"plain  rtl  \" ><span class=\"txtu ara\">نَا </span></span></span><span class=\"plain  rtl  \" ><span class=\"plain txtu ara rtl\"></span><span class=\"plain  rtl  \" ><span class=\"txtu ara\">بَعْضَ</span></span><span class=\"plain  rtl  \" ><span class=\"txtu ara\">هُمْ </span></span></span><span class=\"plain  rtl  \" ><span class=\"plain txtu ara rtl\"></span><span class=\"plain  rtl  \" ><span class=\"txtu ara\">عَلَىٰ </span></span></span><span class=\"plain  rtl  \" ><span class=\"plain txtu ara rtl\"></span><span class=\"plain  rtl  \" ><span class=\"txtu ara\">بَعْضٍ </span></span></span><span class=\"plain  rtl  \" ><span class=\"plain txtu ara rtl\"></span><span class=\"plain  rtl  \" ><span class=\"txtu ara\">مِّنْ</span></span><span class=\"plain  rtl  \" ><span class=\"txtu ara\">هُم </span></span></span><span class=\"plain  rtl  \" ><span class=\"plain txtu ara rtl\"></span><span class=\"plain  rtl  \" ><span class=\"txtu ara\">مَّن </span></span></span><span class=\"plain  rtl  \" ><span class=\"plain txtu ara rtl\"></span><span class=\"plain  rtl  \" ><span class=\"txtu ara\">كَلَّمَ </span></span></span><span class=\"plain  rtl  \" ><span class=\"plain txtu ara rtl\"></span><span class=\"plain  rtl  \" ><span class=\"txtu ara\">ٱللَّهُ </span></span></span><span class=\"plain  rtl  \" ><span class=\"plain txtu ara rtl\"></span><span class=\"plain  rtl  \" ><span class=\"txtu ara\">وَ</span></span><span class=\"plain  rtl  \" ><span class=\"txtu ara\">رَفَعَ </span></span></span><span class=\"plain  rtl  \" ><span class=\"plain txtu ara rtl\"></span><span class=\"plain  rtl  \" ><span class=\"txtu ara\">بَعْضَ</span></span><span class=\"plain  rtl  \" ><span class=\"txtu ara\">هُمْ </span></span></span><span class=\"plain  rtl  \" ><span class=\"plain txtu ara rtl\"></span><span class=\"plain  rtl  \" ><span class=\"txtu ara\">دَرَجَٰتٍ </span></span></span><span class=\"plain  rtl  \" ><span class=\"plain txtu ara rtl\"></span><span class=\"plain  rtl  \" ><span class=\"txtu ara\">وَ</span></span><span class=\"plain  rtl  \" ><span class=\"txtu ara\">ءَاتَيْ</span></span><span class=\"plain  rtl  \" ><span class=\"txtu ara\">نَا </span></span></span><span class=\"plain  rtl  \" ><span class=\"plain txtu ara rtl\"></span><span class=\"plain  rtl  \" ><span class=\"txtu ara\">عِيسَى </span></span></span><span class=\"plain  rtl  \" ><span class=\"plain txtu ara rtl\"></span><span class=\"plain  rtl  \" ><span class=\"txtu ara\">ٱبْنَ </span></span></span><span class=\"plain  rtl  \" ><span class=\"plain txtu ara rtl\"></span><span class=\"plain  rtl  \" ><span class=\"txtu ara\">مَرْيَمَ </span></span></span><span class=\"plain  rtl  \" ><span class=\"plain txtu ara rtl\"></span><span class=\"plain  rtl  \" ><span class=\"txtu ara\">ٱلْ</span></span><span class=\"plain  rtl  \" ><span class=\"txtu ara\">بَيِّنَٰتِ </span></span></span><span class=\"plain  rtl  \" ><span class=\"plain txtu ara rtl\"></span><span class=\"plain  rtl  \" ><span class=\"txtu ara\">وَ</span></span><span class=\"plain  rtl  \" ><span class=\"txtu ara\">أَيَّدْ</span></span><span class=\"plain  rtl  \" ><span class=\"txtu ara\">نَٰ</span></span><span class=\"plain  rtl  \" ><span class=\"txtu ara\">هُ </span></span></span><span class=\"plain  rtl  \" ><span class=\"plain txtu ara rtl\"></span><span class=\"plain  rtl  \" ><span class=\"txtu ara\">بِ</span></span><span class=\"plain  rtl  \" ><span class=\"txtu ara\">رُوحِ </span></span></span><span class=\"plain  rtl  \" ><span class=\"plain txtu ara rtl\"></span><span class=\"plain  rtl  \" ><span class=\"txtu ara\">ٱلْ</span></span><span class=\"plain  rtl  \" ><span class=\"txtu ara\">قُدُسِ </span></span></span><span class=\"plain  rtl  \" ><span class=\"plain txtu ara rtl\"></span><span class=\"plain  rtl  \" ><span class=\"txtu ara\">وَ</span></span><span class=\"plain  rtl  \" ><span class=\"txtu ara\">لَوْ </span></span></span><span class=\"plain  rtl  \" ><span class=\"plain txtu ara rtl\"></span><span class=\"plain  rtl  \" ><span class=\"txtu ara\">شَآءَ </span></span></span><span class=\"plain  rtl  \" ><span class=\"plain txtu ara rtl\"></span><span class=\"plain  rtl  \" ><span class=\"txtu ara\">ٱللَّهُ </span></span></span><span class=\"plain  rtl  \" ><span class=\"plain txtu ara rtl\"></span><span class=\"plain  rtl  \" ><span class=\"txtu ara\">مَا </span></span></span><span class=\"plain  rtl  \" ><span class=\"plain txtu ara rtl\"></span><span class=\"plain  rtl  \" ><span class=\"txtu ara\">ٱقْتَتَلَ </span></span></span><span class=\"plain  rtl  \" ><span class=\"plain txtu ara rtl\"></span><span class=\"plain  rtl  \" ><span class=\"txtu ara\">ٱلَّذِينَ </span></span></span><span class=\"plain  rtl  \" ><span class=\"plain txtu ara rtl\"></span><span class=\"plain  rtl  \" ><span class=\"txtu ara\">مِنۢ </span></span></span><span class=\"plain  rtl  \" ><span class=\"plain txtu ara rtl\"></span><span class=\"plain  rtl  \" ><span class=\"txtu ara\">بَعْدِ</span></span><span class=\"plain  rtl  \" ><span class=\"txtu ara\">هِم </span></span></span><span class=\"plain  rtl  \" ><span class=\"plain txtu ara rtl\"></span><span class=\"plain  rtl  \" ><span class=\"txtu ara\">مِّنۢ </span></span></span><span class=\"plain  rtl  \" ><span class=\"plain txtu ara rtl\"></span><span class=\"plain  rtl  \" ><span class=\"txtu ara\">بَعْدِ </span></span></span><span class=\"plain  rtl  \" ><span class=\"plain txtu ara rtl\"></span><span class=\"plain  rtl  \" ><span class=\"txtu ara\">مَا </span></span></span><span class=\"plain  rtl  \" ><span class=\"plain txtu ara rtl\"></span><span class=\"plain  rtl  \" ><span class=\"txtu ara\">جَآءَتْ</span></span><span class=\"plain  rtl  \" ><span class=\"txtu ara\">هُمُ </span></span></span><span class=\"plain  rtl  \" ><span class=\"plain txtu ara rtl\"></span><span class=\"plain  rtl  \" ><span class=\"txtu ara\">ٱلْ</span></span><span class=\"plain  rtl  \" ><span class=\"txtu ara\">بَيِّنَٰتُ </span></span></span><span class=\"plain  rtl  \" ><span class=\"plain txtu ara rtl\"></span><span class=\"plain  rtl  \" ><span class=\"txtu ara\">وَ</span></span><span class=\"plain  rtl  \" ><span class=\"txtu ara\">لَٰكِنِ </span></span></span><span class=\"plain  rtl  \" ><span class=\"plain txtu ara rtl\"></span><span class=\"plain  rtl  \" ><span class=\"txtu ara\">ٱخْتَلَفُ</span></span><span class=\"plain  rtl  \" ><span class=\"txtu ara\">وا۟ </span></span></span><span class=\"plain  rtl  \" ><span class=\"plain txtu ara rtl\"></span><span class=\"plain  rtl  \" ><span class=\"txtu ara\">فَ</span></span><span class=\"plain  rtl  \" ><span class=\"txtu ara\">مِنْ</span></span><span class=\"plain  rtl  \" ><span class=\"txtu ara\">هُم </span></span></span><span class=\"plain  rtl  \" ><span class=\"plain txtu ara rtl\"></span><span class=\"plain  rtl  \" ><span class=\"txtu ara\">مَّنْ </span></span></span><span class=\"plain  rtl  \" ><span class=\"plain txtu ara rtl\"></span><span class=\"plain  rtl  \" ><span class=\"txtu ara\">ءَامَنَ </span></span></span><span class=\"plain  rtl  \" ><span class=\"plain txtu ara rtl\"></span><span class=\"plain  rtl  \" ><span class=\"txtu ara\">وَ</span></span><span class=\"plain  rtl  \" ><span class=\"txtu ara\">مِنْ</span></span><span class=\"plain  rtl  \" ><span class=\"txtu ara\">هُم </span></span></span><span class=\"plain  rtl  \" ><span class=\"plain txtu ara rtl\"></span><span class=\"plain  rtl  \" ><span class=\"txtu ara\">مَّن </span></span></span><span class=\"plain  rtl  \" ><span class=\"plain txtu ara rtl\"></span><span class=\"plain  rtl  \" ><span class=\"txtu ara\">كَفَرَ </span></span></span><span class=\"plain  rtl  \" ><span class=\"plain txtu ara rtl\"></span><span class=\"plain  rtl  \" ><span class=\"txtu ara\">وَ</span></span><span class=\"plain  rtl  \" ><span class=\"txtu ara\">لَوْ </span></span></span><span class=\"plain  rtl  \" ><span class=\"plain txtu ara rtl\"></span><span class=\"plain  rtl  \" ><span class=\"txtu ara\">شَآءَ </span></span></span><span class=\"plain  rtl  \" ><span class=\"plain txtu ara rtl\"></span><span class=\"plain  rtl  \" ><span class=\"txtu ara\">ٱللَّهُ </span></span></span><span class=\"plain  rtl  \" ><span class=\"plain txtu ara rtl\"></span><span class=\"plain  rtl  \" ><span class=\"txtu ara\">مَا </span></span></span><span class=\"plain  rtl  \" ><span class=\"plain txtu ara rtl\"></span><span class=\"plain  rtl  \" ><span class=\"txtu ara\">ٱقْتَتَلُ</span></span><span class=\"plain  rtl  \" ><span class=\"txtu ara\">وا۟ </span></span></span><span class=\"plain  rtl  \" ><span class=\"plain txtu ara rtl\"></span><span class=\"plain  rtl  \" ><span class=\"txtu ara\">وَ</span></span><span class=\"plain  rtl  \" ><span class=\"txtu ara\">لَٰكِنَّ </span></span></span><span class=\"plain  rtl  \" ><span class=\"plain txtu ara rtl\"></span><span class=\"plain  rtl  \" ><span class=\"txtu ara\">ٱللَّهَ </span></span></span><span class=\"plain  rtl  \" ><span class=\"plain txtu ara rtl\"></span><span class=\"plain  rtl  \" ><span class=\"txtu ara\">يَفْعَلُ </span></span></span><span class=\"plain  rtl  \" ><span class=\"plain txtu ara rtl\"></span><span class=\"plain  rtl  \" ><span class=\"txtu ara\">مَا </span></span></span><span class=\"plain  rtl  \" ><span class=\"plain txtu ara rtl\"></span><span class=\"plain  rtl  \" ><span class=\"txtu ara\">يُرِيدُ</span></span></span></span></td><td class=\"tf\"><span class=\"plain outer rtl  hl\" ><span class=\"txtu ara\">تِلْكَ </span></span></td></tr>\n",
       "<tr class=\"tf\"><td class=\"tf\">254</td><td class=\"tf\"><span class=\"section ltr\"><a target=\"_blank\" href=\"/#2:254\" title=\"show this passage on Tanzil\" sec=\"2:254\">2:254</a></span></td><td class=\"tf\"><span class=\"plain outer rtl  hlbx\"  style=\"border-color: gold;\" ><span class=\"plain txtu ara rtl\"></span><span class=\"plain  rtl  \" ><span class=\"plain txtu ara rtl\"></span><span class=\"plain  rtl  hl\"  style=\"background-color: lime;\" ><span class=\"txtu ara\">يَٰٓ</span></span><span class=\"plain  rtl  \" ><span class=\"txtu ara\">أَيُّهَا </span></span></span><span class=\"plain  rtl  \" ><span class=\"plain txtu ara rtl\"></span><span class=\"plain  rtl  \" ><span class=\"txtu ara\">ٱلَّذِينَ </span></span></span><span class=\"plain  rtl  \" ><span class=\"plain txtu ara rtl\"></span><span class=\"plain  rtl  \" ><span class=\"txtu ara\">ءَامَنُ</span></span><span class=\"plain  rtl  \" ><span class=\"txtu ara\">وٓا۟ </span></span></span><span class=\"plain  rtl  \" ><span class=\"plain txtu ara rtl\"></span><span class=\"plain  rtl  \" ><span class=\"txtu ara\">أَنفِقُ</span></span><span class=\"plain  rtl  \" ><span class=\"txtu ara\">وا۟ </span></span></span><span class=\"plain  rtl  \" ><span class=\"plain txtu ara rtl\"></span><span class=\"plain  rtl  \" ><span class=\"txtu ara\">مِ</span></span><span class=\"plain  rtl  \" ><span class=\"txtu ara\">مَّا </span></span></span><span class=\"plain  rtl  \" ><span class=\"plain txtu ara rtl\"></span><span class=\"plain  rtl  \" ><span class=\"txtu ara\">رَزَقْ</span></span><span class=\"plain  rtl  \" ><span class=\"txtu ara\">نَٰ</span></span><span class=\"plain  rtl  \" ><span class=\"txtu ara\">كُم </span></span></span><span class=\"plain  rtl  \" ><span class=\"plain txtu ara rtl\"></span><span class=\"plain  rtl  \" ><span class=\"txtu ara\">مِّن </span></span></span><span class=\"plain  rtl  \" ><span class=\"plain txtu ara rtl\"></span><span class=\"plain  rtl  \" ><span class=\"txtu ara\">قَبْلِ </span></span></span><span class=\"plain  rtl  \" ><span class=\"plain txtu ara rtl\"></span><span class=\"plain  rtl  \" ><span class=\"txtu ara\">أَن </span></span></span><span class=\"plain  rtl  \" ><span class=\"plain txtu ara rtl\"></span><span class=\"plain  rtl  \" ><span class=\"txtu ara\">يَأْتِىَ </span></span></span><span class=\"plain  rtl  \" ><span class=\"plain txtu ara rtl\"></span><span class=\"plain  rtl  \" ><span class=\"txtu ara\">يَوْمٌ </span></span></span><span class=\"plain  rtl  \" ><span class=\"plain txtu ara rtl\"></span><span class=\"plain  rtl  \" ><span class=\"txtu ara\">لَّا </span></span></span><span class=\"plain  rtl  \" ><span class=\"plain txtu ara rtl\"></span><span class=\"plain  rtl  \" ><span class=\"txtu ara\">بَيْعٌ </span></span></span><span class=\"plain  rtl  \" ><span class=\"plain txtu ara rtl\"></span><span class=\"plain  rtl  \" ><span class=\"txtu ara\">فِي</span></span><span class=\"plain  rtl  \" ><span class=\"txtu ara\">هِ </span></span></span><span class=\"plain  rtl  \" ><span class=\"plain txtu ara rtl\"></span><span class=\"plain  rtl  \" ><span class=\"txtu ara\">وَ</span></span><span class=\"plain  rtl  \" ><span class=\"txtu ara\">لَا </span></span></span><span class=\"plain  rtl  \" ><span class=\"plain txtu ara rtl\"></span><span class=\"plain  rtl  \" ><span class=\"txtu ara\">خُلَّةٌ </span></span></span><span class=\"plain  rtl  \" ><span class=\"plain txtu ara rtl\"></span><span class=\"plain  rtl  \" ><span class=\"txtu ara\">وَ</span></span><span class=\"plain  rtl  \" ><span class=\"txtu ara\">لَا </span></span></span><span class=\"plain  rtl  \" ><span class=\"plain txtu ara rtl\"></span><span class=\"plain  rtl  \" ><span class=\"txtu ara\">شَفَٰعَةٌ </span></span></span><span class=\"plain  rtl  \" ><span class=\"plain txtu ara rtl\"></span><span class=\"plain  rtl  \" ><span class=\"txtu ara\">وَ</span></span><span class=\"plain  rtl  \" ><span class=\"txtu ara\">ٱلْ</span></span><span class=\"plain  rtl  \" ><span class=\"txtu ara\">كَٰفِرُونَ </span></span></span><span class=\"plain  rtl  \" ><span class=\"plain txtu ara rtl\"></span><span class=\"plain  rtl  \" ><span class=\"txtu ara\">هُمُ </span></span></span><span class=\"plain  rtl  \" ><span class=\"plain txtu ara rtl\"></span><span class=\"plain  rtl  \" ><span class=\"txtu ara\">ٱل</span></span><span class=\"plain  rtl  \" ><span class=\"txtu ara\">ظَّٰلِمُونَ</span></span></span></span></td><td class=\"tf\"><span class=\"plain outer rtl  hl\"  style=\"background-color: lime;\" ><span class=\"txtu ara\">يَٰٓ</span></span></td></tr>\n",
       "<tr class=\"tf\"><td class=\"tf\">255</td><td class=\"tf\"><span class=\"section ltr\"><a target=\"_blank\" href=\"/#2:255\" title=\"show this passage on Tanzil\" sec=\"2:255\">2:255</a></span></td><td class=\"tf\"><span class=\"plain outer rtl  \" ><span class=\"plain txtu ara rtl\"></span><span class=\"plain  rtl  \" ><span class=\"plain txtu ara rtl\"></span><span class=\"plain  rtl  hl\" ><span class=\"txtu ara\">ٱللَّهُ </span></span></span><span class=\"plain  rtl  \" ><span class=\"plain txtu ara rtl\"></span><span class=\"plain  rtl  \" ><span class=\"txtu ara\">لَآ </span></span></span><span class=\"plain  rtl  \" ><span class=\"plain txtu ara rtl\"></span><span class=\"plain  rtl  \" ><span class=\"txtu ara\">إِلَٰهَ </span></span></span><span class=\"plain  rtl  \" ><span class=\"plain txtu ara rtl\"></span><span class=\"plain  rtl  \" ><span class=\"txtu ara\">إِلَّا </span></span></span><span class=\"plain  rtl  \" ><span class=\"plain txtu ara rtl\"></span><span class=\"plain  rtl  \" ><span class=\"txtu ara\">هُوَ </span></span></span><span class=\"plain  rtl  \" ><span class=\"plain txtu ara rtl\"></span><span class=\"plain  rtl  \" ><span class=\"txtu ara\">ٱلْ</span></span><span class=\"plain  rtl  \" ><span class=\"txtu ara\">حَىُّ </span></span></span><span class=\"plain  rtl  \" ><span class=\"plain txtu ara rtl\"></span><span class=\"plain  rtl  \" ><span class=\"txtu ara\">ٱلْ</span></span><span class=\"plain  rtl  \" ><span class=\"txtu ara\">قَيُّومُ </span></span></span><span class=\"plain  rtl  \" ><span class=\"plain txtu ara rtl\"></span><span class=\"plain  rtl  \" ><span class=\"txtu ara\">لَا </span></span></span><span class=\"plain  rtl  \" ><span class=\"plain txtu ara rtl\"></span><span class=\"plain  rtl  \" ><span class=\"txtu ara\">تَأْخُذُ</span></span><span class=\"plain  rtl  \" ><span class=\"txtu ara\">هُۥ </span></span></span><span class=\"plain  rtl  \" ><span class=\"plain txtu ara rtl\"></span><span class=\"plain  rtl  \" ><span class=\"txtu ara\">سِنَةٌ </span></span></span><span class=\"plain  rtl  \" ><span class=\"plain txtu ara rtl\"></span><span class=\"plain  rtl  \" ><span class=\"txtu ara\">وَ</span></span><span class=\"plain  rtl  \" ><span class=\"txtu ara\">لَا </span></span></span><span class=\"plain  rtl  \" ><span class=\"plain txtu ara rtl\"></span><span class=\"plain  rtl  \" ><span class=\"txtu ara\">نَوْمٌ </span></span></span><span class=\"plain  rtl  \" ><span class=\"plain txtu ara rtl\"></span><span class=\"plain  rtl  \" ><span class=\"txtu ara\">لَّ</span></span><span class=\"plain  rtl  \" ><span class=\"txtu ara\">هُۥ </span></span></span><span class=\"plain  rtl  \" ><span class=\"plain txtu ara rtl\"></span><span class=\"plain  rtl  \" ><span class=\"txtu ara\">مَا </span></span></span><span class=\"plain  rtl  \" ><span class=\"plain txtu ara rtl\"></span><span class=\"plain  rtl  \" ><span class=\"txtu ara\">فِى </span></span></span><span class=\"plain  rtl  \" ><span class=\"plain txtu ara rtl\"></span><span class=\"plain  rtl  \" ><span class=\"txtu ara\">ٱل</span></span><span class=\"plain  rtl  \" ><span class=\"txtu ara\">سَّمَٰوَٰتِ </span></span></span><span class=\"plain  rtl  \" ><span class=\"plain txtu ara rtl\"></span><span class=\"plain  rtl  \" ><span class=\"txtu ara\">وَ</span></span><span class=\"plain  rtl  \" ><span class=\"txtu ara\">مَا </span></span></span><span class=\"plain  rtl  \" ><span class=\"plain txtu ara rtl\"></span><span class=\"plain  rtl  \" ><span class=\"txtu ara\">فِى </span></span></span><span class=\"plain  rtl  \" ><span class=\"plain txtu ara rtl\"></span><span class=\"plain  rtl  \" ><span class=\"txtu ara\">ٱلْ</span></span><span class=\"plain  rtl  \" ><span class=\"txtu ara\">أَرْضِ </span></span></span><span class=\"plain  rtl  \" ><span class=\"plain txtu ara rtl\"></span><span class=\"plain  rtl  \" ><span class=\"txtu ara\">مَن </span></span></span><span class=\"plain  rtl  \" ><span class=\"plain txtu ara rtl\"></span><span class=\"plain  rtl  \" ><span class=\"txtu ara\">ذَا </span></span></span><span class=\"plain  rtl  \" ><span class=\"plain txtu ara rtl\"></span><span class=\"plain  rtl  \" ><span class=\"txtu ara\">ٱلَّذِى </span></span></span><span class=\"plain  rtl  \" ><span class=\"plain txtu ara rtl\"></span><span class=\"plain  rtl  \" ><span class=\"txtu ara\">يَشْفَعُ </span></span></span><span class=\"plain  rtl  \" ><span class=\"plain txtu ara rtl\"></span><span class=\"plain  rtl  \" ><span class=\"txtu ara\">عِندَ</span></span><span class=\"plain  rtl  \" ><span class=\"txtu ara\">هُۥٓ </span></span></span><span class=\"plain  rtl  \" ><span class=\"plain txtu ara rtl\"></span><span class=\"plain  rtl  \" ><span class=\"txtu ara\">إِلَّا </span></span></span><span class=\"plain  rtl  \" ><span class=\"plain txtu ara rtl\"></span><span class=\"plain  rtl  \" ><span class=\"txtu ara\">بِ</span></span><span class=\"plain  rtl  \" ><span class=\"txtu ara\">إِذْنِ</span></span><span class=\"plain  rtl  \" ><span class=\"txtu ara\">هِۦ </span></span></span><span class=\"plain  rtl  \" ><span class=\"plain txtu ara rtl\"></span><span class=\"plain  rtl  \" ><span class=\"txtu ara\">يَعْلَمُ </span></span></span><span class=\"plain  rtl  \" ><span class=\"plain txtu ara rtl\"></span><span class=\"plain  rtl  \" ><span class=\"txtu ara\">مَا </span></span></span><span class=\"plain  rtl  \" ><span class=\"plain txtu ara rtl\"></span><span class=\"plain  rtl  \" ><span class=\"txtu ara\">بَيْنَ </span></span></span><span class=\"plain  rtl  \" ><span class=\"plain txtu ara rtl\"></span><span class=\"plain  rtl  \" ><span class=\"txtu ara\">أَيْدِي</span></span><span class=\"plain  rtl  \" ><span class=\"txtu ara\">هِمْ </span></span></span><span class=\"plain  rtl  \" ><span class=\"plain txtu ara rtl\"></span><span class=\"plain  rtl  \" ><span class=\"txtu ara\">وَ</span></span><span class=\"plain  rtl  \" ><span class=\"txtu ara\">مَا </span></span></span><span class=\"plain  rtl  \" ><span class=\"plain txtu ara rtl\"></span><span class=\"plain  rtl  \" ><span class=\"txtu ara\">خَلْفَ</span></span><span class=\"plain  rtl  \" ><span class=\"txtu ara\">هُمْ </span></span></span><span class=\"plain  rtl  \" ><span class=\"plain txtu ara rtl\"></span><span class=\"plain  rtl  \" ><span class=\"txtu ara\">وَ</span></span><span class=\"plain  rtl  \" ><span class=\"txtu ara\">لَا </span></span></span><span class=\"plain  rtl  \" ><span class=\"plain txtu ara rtl\"></span><span class=\"plain  rtl  \" ><span class=\"txtu ara\">يُحِيطُ</span></span><span class=\"plain  rtl  \" ><span class=\"txtu ara\">ونَ </span></span></span><span class=\"plain  rtl  \" ><span class=\"plain txtu ara rtl\"></span><span class=\"plain  rtl  \" ><span class=\"txtu ara\">بِ</span></span><span class=\"plain  rtl  \" ><span class=\"txtu ara\">شَىْءٍ </span></span></span><span class=\"plain  rtl  \" ><span class=\"plain txtu ara rtl\"></span><span class=\"plain  rtl  \" ><span class=\"txtu ara\">مِّنْ </span></span></span><span class=\"plain  rtl  \" ><span class=\"plain txtu ara rtl\"></span><span class=\"plain  rtl  \" ><span class=\"txtu ara\">عِلْمِ</span></span><span class=\"plain  rtl  \" ><span class=\"txtu ara\">هِۦٓ </span></span></span><span class=\"plain  rtl  \" ><span class=\"plain txtu ara rtl\"></span><span class=\"plain  rtl  \" ><span class=\"txtu ara\">إِلَّا </span></span></span><span class=\"plain  rtl  \" ><span class=\"plain txtu ara rtl\"></span><span class=\"plain  rtl  \" ><span class=\"txtu ara\">بِ</span></span><span class=\"plain  rtl  \" ><span class=\"txtu ara\">مَا </span></span></span><span class=\"plain  rtl  \" ><span class=\"plain txtu ara rtl\"></span><span class=\"plain  rtl  \" ><span class=\"txtu ara\">شَآءَ </span></span></span><span class=\"plain  rtl  \" ><span class=\"plain txtu ara rtl\"></span><span class=\"plain  rtl  \" ><span class=\"txtu ara\">وَسِعَ </span></span></span><span class=\"plain  rtl  \" ><span class=\"plain txtu ara rtl\"></span><span class=\"plain  rtl  \" ><span class=\"txtu ara\">كُرْسِيُّ</span></span><span class=\"plain  rtl  \" ><span class=\"txtu ara\">هُ </span></span></span><span class=\"plain  rtl  \" ><span class=\"plain txtu ara rtl\"></span><span class=\"plain  rtl  \" ><span class=\"txtu ara\">ٱل</span></span><span class=\"plain  rtl  \" ><span class=\"txtu ara\">سَّمَٰوَٰتِ </span></span></span><span class=\"plain  rtl  \" ><span class=\"plain txtu ara rtl\"></span><span class=\"plain  rtl  \" ><span class=\"txtu ara\">وَ</span></span><span class=\"plain  rtl  \" ><span class=\"txtu ara\">ٱلْ</span></span><span class=\"plain  rtl  \" ><span class=\"txtu ara\">أَرْضَ </span></span></span><span class=\"plain  rtl  \" ><span class=\"plain txtu ara rtl\"></span><span class=\"plain  rtl  \" ><span class=\"txtu ara\">وَ</span></span><span class=\"plain  rtl  \" ><span class=\"txtu ara\">لَا </span></span></span><span class=\"plain  rtl  \" ><span class=\"plain txtu ara rtl\"></span><span class=\"plain  rtl  \" ><span class=\"txtu ara\">يَـُٔودُ</span></span><span class=\"plain  rtl  \" ><span class=\"txtu ara\">هُۥ </span></span></span><span class=\"plain  rtl  \" ><span class=\"plain txtu ara rtl\"></span><span class=\"plain  rtl  \" ><span class=\"txtu ara\">حِفْظُ</span></span><span class=\"plain  rtl  \" ><span class=\"txtu ara\">هُمَا </span></span></span><span class=\"plain  rtl  \" ><span class=\"plain txtu ara rtl\"></span><span class=\"plain  rtl  \" ><span class=\"txtu ara\">وَ</span></span><span class=\"plain  rtl  \" ><span class=\"txtu ara\">هُوَ </span></span></span><span class=\"plain  rtl  \" ><span class=\"plain txtu ara rtl\"></span><span class=\"plain  rtl  \" ><span class=\"txtu ara\">ٱلْ</span></span><span class=\"plain  rtl  \" ><span class=\"txtu ara\">عَلِىُّ </span></span></span><span class=\"plain  rtl  \" ><span class=\"plain txtu ara rtl\"></span><span class=\"plain  rtl  \" ><span class=\"txtu ara\">ٱلْ</span></span><span class=\"plain  rtl  \" ><span class=\"txtu ara\">عَظِيمُ</span></span></span></span></td><td class=\"tf\"><span class=\"plain outer rtl  hl\" ><span class=\"txtu ara\">ٱللَّهُ </span></span></td></tr>\n",
       "<tr class=\"tf\"><td class=\"tf\">256</td><td class=\"tf\"><span class=\"section ltr\"><a target=\"_blank\" href=\"/#2:256\" title=\"show this passage on Tanzil\" sec=\"2:256\">2:256</a></span></td><td class=\"tf\"><span class=\"plain outer rtl  \" ><span class=\"plain txtu ara rtl\"></span><span class=\"plain  rtl  \" ><span class=\"plain txtu ara rtl\"></span><span class=\"plain  rtl  hl\" ><span class=\"txtu ara\">لَآ </span></span></span><span class=\"plain  rtl  \" ><span class=\"plain txtu ara rtl\"></span><span class=\"plain  rtl  \" ><span class=\"txtu ara\">إِكْرَاهَ </span></span></span><span class=\"plain  rtl  \" ><span class=\"plain txtu ara rtl\"></span><span class=\"plain  rtl  \" ><span class=\"txtu ara\">فِى </span></span></span><span class=\"plain  rtl  \" ><span class=\"plain txtu ara rtl\"></span><span class=\"plain  rtl  \" ><span class=\"txtu ara\">ٱل</span></span><span class=\"plain  rtl  \" ><span class=\"txtu ara\">دِّينِ </span></span></span><span class=\"plain  rtl  \" ><span class=\"plain txtu ara rtl\"></span><span class=\"plain  rtl  \" ><span class=\"txtu ara\">قَد </span></span></span><span class=\"plain  rtl  \" ><span class=\"plain txtu ara rtl\"></span><span class=\"plain  rtl  \" ><span class=\"txtu ara\">تَّبَيَّنَ </span></span></span><span class=\"plain  rtl  \" ><span class=\"plain txtu ara rtl\"></span><span class=\"plain  rtl  \" ><span class=\"txtu ara\">ٱل</span></span><span class=\"plain  rtl  \" ><span class=\"txtu ara\">رُّشْدُ </span></span></span><span class=\"plain  rtl  \" ><span class=\"plain txtu ara rtl\"></span><span class=\"plain  rtl  \" ><span class=\"txtu ara\">مِنَ </span></span></span><span class=\"plain  rtl  \" ><span class=\"plain txtu ara rtl\"></span><span class=\"plain  rtl  \" ><span class=\"txtu ara\">ٱلْ</span></span><span class=\"plain  rtl  \" ><span class=\"txtu ara\">غَىِّ </span></span></span><span class=\"plain  rtl  \" ><span class=\"plain txtu ara rtl\"></span><span class=\"plain  rtl  \" ><span class=\"txtu ara\">فَ</span></span><span class=\"plain  rtl  \" ><span class=\"txtu ara\">مَن </span></span></span><span class=\"plain  rtl  \" ><span class=\"plain txtu ara rtl\"></span><span class=\"plain  rtl  \" ><span class=\"txtu ara\">يَكْفُرْ </span></span></span><span class=\"plain  rtl  \" ><span class=\"plain txtu ara rtl\"></span><span class=\"plain  rtl  \" ><span class=\"txtu ara\">بِ</span></span><span class=\"plain  rtl  \" ><span class=\"txtu ara\">ٱل</span></span><span class=\"plain  rtl  \" ><span class=\"txtu ara\">طَّٰغُوتِ </span></span></span><span class=\"plain  rtl  \" ><span class=\"plain txtu ara rtl\"></span><span class=\"plain  rtl  \" ><span class=\"txtu ara\">وَ</span></span><span class=\"plain  rtl  \" ><span class=\"txtu ara\">يُؤْمِنۢ </span></span></span><span class=\"plain  rtl  \" ><span class=\"plain txtu ara rtl\"></span><span class=\"plain  rtl  \" ><span class=\"txtu ara\">بِ</span></span><span class=\"plain  rtl  \" ><span class=\"txtu ara\">ٱللَّهِ </span></span></span><span class=\"plain  rtl  \" ><span class=\"plain txtu ara rtl\"></span><span class=\"plain  rtl  \" ><span class=\"txtu ara\">فَ</span></span><span class=\"plain  rtl  \" ><span class=\"txtu ara\">قَدِ </span></span></span><span class=\"plain  rtl  \" ><span class=\"plain txtu ara rtl\"></span><span class=\"plain  rtl  \" ><span class=\"txtu ara\">ٱسْتَمْسَكَ </span></span></span><span class=\"plain  rtl  \" ><span class=\"plain txtu ara rtl\"></span><span class=\"plain  rtl  \" ><span class=\"txtu ara\">بِ</span></span><span class=\"plain  rtl  \" ><span class=\"txtu ara\">ٱلْ</span></span><span class=\"plain  rtl  \" ><span class=\"txtu ara\">عُرْوَةِ </span></span></span><span class=\"plain  rtl  \" ><span class=\"plain txtu ara rtl\"></span><span class=\"plain  rtl  \" ><span class=\"txtu ara\">ٱلْ</span></span><span class=\"plain  rtl  \" ><span class=\"txtu ara\">وُثْقَىٰ </span></span></span><span class=\"plain  rtl  \" ><span class=\"plain txtu ara rtl\"></span><span class=\"plain  rtl  \" ><span class=\"txtu ara\">لَا </span></span></span><span class=\"plain  rtl  \" ><span class=\"plain txtu ara rtl\"></span><span class=\"plain  rtl  \" ><span class=\"txtu ara\">ٱنفِصَامَ </span></span></span><span class=\"plain  rtl  \" ><span class=\"plain txtu ara rtl\"></span><span class=\"plain  rtl  \" ><span class=\"txtu ara\">لَ</span></span><span class=\"plain  rtl  \" ><span class=\"txtu ara\">هَا </span></span></span><span class=\"plain  rtl  \" ><span class=\"plain txtu ara rtl\"></span><span class=\"plain  rtl  \" ><span class=\"txtu ara\">وَ</span></span><span class=\"plain  rtl  \" ><span class=\"txtu ara\">ٱللَّهُ </span></span></span><span class=\"plain  rtl  \" ><span class=\"plain txtu ara rtl\"></span><span class=\"plain  rtl  \" ><span class=\"txtu ara\">سَمِيعٌ </span></span></span><span class=\"plain  rtl  \" ><span class=\"plain txtu ara rtl\"></span><span class=\"plain  rtl  \" ><span class=\"txtu ara\">عَلِيمٌ</span></span></span></span></td><td class=\"tf\"><span class=\"plain outer rtl  hl\" ><span class=\"txtu ara\">لَآ </span></span></td></tr>\n",
       "<tr class=\"tf\"><td class=\"tf\">257</td><td class=\"tf\"><span class=\"section ltr\"><a target=\"_blank\" href=\"/#2:257\" title=\"show this passage on Tanzil\" sec=\"2:257\">2:257</a></span></td><td class=\"tf\"><span class=\"plain outer rtl  \" ><span class=\"plain txtu ara rtl\"></span><span class=\"plain  rtl  \" ><span class=\"plain txtu ara rtl\"></span><span class=\"plain  rtl  hl\" ><span class=\"txtu ara\">ٱللَّهُ </span></span></span><span class=\"plain  rtl  \" ><span class=\"plain txtu ara rtl\"></span><span class=\"plain  rtl  \" ><span class=\"txtu ara\">وَلِىُّ </span></span></span><span class=\"plain  rtl  \" ><span class=\"plain txtu ara rtl\"></span><span class=\"plain  rtl  \" ><span class=\"txtu ara\">ٱلَّذِينَ </span></span></span><span class=\"plain  rtl  \" ><span class=\"plain txtu ara rtl\"></span><span class=\"plain  rtl  \" ><span class=\"txtu ara\">ءَامَنُ</span></span><span class=\"plain  rtl  \" ><span class=\"txtu ara\">وا۟ </span></span></span><span class=\"plain  rtl  \" ><span class=\"plain txtu ara rtl\"></span><span class=\"plain  rtl  \" ><span class=\"txtu ara\">يُخْرِجُ</span></span><span class=\"plain  rtl  \" ><span class=\"txtu ara\">هُم </span></span></span><span class=\"plain  rtl  \" ><span class=\"plain txtu ara rtl\"></span><span class=\"plain  rtl  \" ><span class=\"txtu ara\">مِّنَ </span></span></span><span class=\"plain  rtl  \" ><span class=\"plain txtu ara rtl\"></span><span class=\"plain  rtl  \" ><span class=\"txtu ara\">ٱل</span></span><span class=\"plain  rtl  \" ><span class=\"txtu ara\">ظُّلُمَٰتِ </span></span></span><span class=\"plain  rtl  \" ><span class=\"plain txtu ara rtl\"></span><span class=\"plain  rtl  \" ><span class=\"txtu ara\">إِلَى </span></span></span><span class=\"plain  rtl  \" ><span class=\"plain txtu ara rtl\"></span><span class=\"plain  rtl  \" ><span class=\"txtu ara\">ٱل</span></span><span class=\"plain  rtl  \" ><span class=\"txtu ara\">نُّورِ </span></span></span><span class=\"plain  rtl  \" ><span class=\"plain txtu ara rtl\"></span><span class=\"plain  rtl  \" ><span class=\"txtu ara\">وَ</span></span><span class=\"plain  rtl  \" ><span class=\"txtu ara\">ٱلَّذِينَ </span></span></span><span class=\"plain  rtl  \" ><span class=\"plain txtu ara rtl\"></span><span class=\"plain  rtl  \" ><span class=\"txtu ara\">كَفَرُ</span></span><span class=\"plain  rtl  \" ><span class=\"txtu ara\">وٓا۟ </span></span></span><span class=\"plain  rtl  \" ><span class=\"plain txtu ara rtl\"></span><span class=\"plain  rtl  \" ><span class=\"txtu ara\">أَوْلِيَآؤُ</span></span><span class=\"plain  rtl  \" ><span class=\"txtu ara\">هُمُ </span></span></span><span class=\"plain  rtl  \" ><span class=\"plain txtu ara rtl\"></span><span class=\"plain  rtl  \" ><span class=\"txtu ara\">ٱل</span></span><span class=\"plain  rtl  \" ><span class=\"txtu ara\">طَّٰغُوتُ </span></span></span><span class=\"plain  rtl  \" ><span class=\"plain txtu ara rtl\"></span><span class=\"plain  rtl  \" ><span class=\"txtu ara\">يُخْرِجُ</span></span><span class=\"plain  rtl  \" ><span class=\"txtu ara\">ونَ</span></span><span class=\"plain  rtl  \" ><span class=\"txtu ara\">هُم </span></span></span><span class=\"plain  rtl  \" ><span class=\"plain txtu ara rtl\"></span><span class=\"plain  rtl  \" ><span class=\"txtu ara\">مِّنَ </span></span></span><span class=\"plain  rtl  \" ><span class=\"plain txtu ara rtl\"></span><span class=\"plain  rtl  \" ><span class=\"txtu ara\">ٱل</span></span><span class=\"plain  rtl  \" ><span class=\"txtu ara\">نُّورِ </span></span></span><span class=\"plain  rtl  \" ><span class=\"plain txtu ara rtl\"></span><span class=\"plain  rtl  \" ><span class=\"txtu ara\">إِلَى </span></span></span><span class=\"plain  rtl  \" ><span class=\"plain txtu ara rtl\"></span><span class=\"plain  rtl  \" ><span class=\"txtu ara\">ٱل</span></span><span class=\"plain  rtl  \" ><span class=\"txtu ara\">ظُّلُمَٰتِ </span></span></span><span class=\"plain  rtl  \" ><span class=\"plain txtu ara rtl\"></span><span class=\"plain  rtl  \" ><span class=\"txtu ara\">أُو۟لَٰٓئِكَ </span></span></span><span class=\"plain  rtl  \" ><span class=\"plain txtu ara rtl\"></span><span class=\"plain  rtl  \" ><span class=\"txtu ara\">أَصْحَٰبُ </span></span></span><span class=\"plain  rtl  \" ><span class=\"plain txtu ara rtl\"></span><span class=\"plain  rtl  \" ><span class=\"txtu ara\">ٱل</span></span><span class=\"plain  rtl  \" ><span class=\"txtu ara\">نَّارِ </span></span></span><span class=\"plain  rtl  \" ><span class=\"plain txtu ara rtl\"></span><span class=\"plain  rtl  \" ><span class=\"txtu ara\">هُمْ </span></span></span><span class=\"plain  rtl  \" ><span class=\"plain txtu ara rtl\"></span><span class=\"plain  rtl  \" ><span class=\"txtu ara\">فِي</span></span><span class=\"plain  rtl  \" ><span class=\"txtu ara\">هَا </span></span></span><span class=\"plain  rtl  \" ><span class=\"plain txtu ara rtl\"></span><span class=\"plain  rtl  \" ><span class=\"txtu ara\">خَٰلِدُونَ</span></span></span></span></td><td class=\"tf\"><span class=\"plain outer rtl  hl\" ><span class=\"txtu ara\">ٱللَّهُ </span></span></td></tr>\n",
       "<tr class=\"tf\"><td class=\"tf\">258</td><td class=\"tf\"><span class=\"section ltr\"><a target=\"_blank\" href=\"/#2:258\" title=\"show this passage on Tanzil\" sec=\"2:258\">2:258</a></span></td><td class=\"tf\"><span class=\"plain outer rtl  \" ><span class=\"plain txtu ara rtl\"></span><span class=\"plain  rtl  \" ><span class=\"plain txtu ara rtl\"></span><span class=\"plain  rtl  hl\" ><span class=\"txtu ara\">أَ</span></span><span class=\"plain  rtl  \" ><span class=\"txtu ara\">لَمْ </span></span></span><span class=\"plain  rtl  \" ><span class=\"plain txtu ara rtl\"></span><span class=\"plain  rtl  \" ><span class=\"txtu ara\">تَرَ </span></span></span><span class=\"plain  rtl  \" ><span class=\"plain txtu ara rtl\"></span><span class=\"plain  rtl  \" ><span class=\"txtu ara\">إِلَى </span></span></span><span class=\"plain  rtl  \" ><span class=\"plain txtu ara rtl\"></span><span class=\"plain  rtl  \" ><span class=\"txtu ara\">ٱلَّذِى </span></span></span><span class=\"plain  rtl  \" ><span class=\"plain txtu ara rtl\"></span><span class=\"plain  rtl  \" ><span class=\"txtu ara\">حَآجَّ </span></span></span><span class=\"plain  rtl  \" ><span class=\"plain txtu ara rtl\"></span><span class=\"plain  rtl  \" ><span class=\"txtu ara\">إِبْرَٰهِۦمَ </span></span></span><span class=\"plain  rtl  \" ><span class=\"plain txtu ara rtl\"></span><span class=\"plain  rtl  \" ><span class=\"txtu ara\">فِى </span></span></span><span class=\"plain  rtl  \" ><span class=\"plain txtu ara rtl\"></span><span class=\"plain  rtl  \" ><span class=\"txtu ara\">رَبِّ</span></span><span class=\"plain  rtl  \" ><span class=\"txtu ara\">هِۦٓ </span></span></span><span class=\"plain  rtl  \" ><span class=\"plain txtu ara rtl\"></span><span class=\"plain  rtl  \" ><span class=\"txtu ara\">أَنْ </span></span></span><span class=\"plain  rtl  \" ><span class=\"plain txtu ara rtl\"></span><span class=\"plain  rtl  \" ><span class=\"txtu ara\">ءَاتَىٰ</span></span><span class=\"plain  rtl  \" ><span class=\"txtu ara\">هُ </span></span></span><span class=\"plain  rtl  \" ><span class=\"plain txtu ara rtl\"></span><span class=\"plain  rtl  \" ><span class=\"txtu ara\">ٱللَّهُ </span></span></span><span class=\"plain  rtl  \" ><span class=\"plain txtu ara rtl\"></span><span class=\"plain  rtl  \" ><span class=\"txtu ara\">ٱلْ</span></span><span class=\"plain  rtl  \" ><span class=\"txtu ara\">مُلْكَ </span></span></span><span class=\"plain  rtl  \" ><span class=\"plain txtu ara rtl\"></span><span class=\"plain  rtl  \" ><span class=\"txtu ara\">إِذْ </span></span></span><span class=\"plain  rtl  \" ><span class=\"plain txtu ara rtl\"></span><span class=\"plain  rtl  \" ><span class=\"txtu ara\">قَالَ </span></span></span><span class=\"plain  rtl  \" ><span class=\"plain txtu ara rtl\"></span><span class=\"plain  rtl  \" ><span class=\"txtu ara\">إِبْرَٰهِۦمُ </span></span></span><span class=\"plain  rtl  \" ><span class=\"plain txtu ara rtl\"></span><span class=\"plain  rtl  \" ><span class=\"txtu ara\">رَبِّ</span></span><span class=\"plain  rtl  \" ><span class=\"txtu ara\">ىَ </span></span></span><span class=\"plain  rtl  \" ><span class=\"plain txtu ara rtl\"></span><span class=\"plain  rtl  \" ><span class=\"txtu ara\">ٱلَّذِى </span></span></span><span class=\"plain  rtl  \" ><span class=\"plain txtu ara rtl\"></span><span class=\"plain  rtl  \" ><span class=\"txtu ara\">يُحْىِۦ </span></span></span><span class=\"plain  rtl  \" ><span class=\"plain txtu ara rtl\"></span><span class=\"plain  rtl  \" ><span class=\"txtu ara\">وَ</span></span><span class=\"plain  rtl  \" ><span class=\"txtu ara\">يُمِيتُ </span></span></span><span class=\"plain  rtl  \" ><span class=\"plain txtu ara rtl\"></span><span class=\"plain  rtl  \" ><span class=\"txtu ara\">قَالَ </span></span></span><span class=\"plain  rtl  \" ><span class=\"plain txtu ara rtl\"></span><span class=\"plain  rtl  \" ><span class=\"txtu ara\">أَنَا۠ </span></span></span><span class=\"plain  rtl  \" ><span class=\"plain txtu ara rtl\"></span><span class=\"plain  rtl  \" ><span class=\"txtu ara\">أُحْىِۦ </span></span></span><span class=\"plain  rtl  \" ><span class=\"plain txtu ara rtl\"></span><span class=\"plain  rtl  \" ><span class=\"txtu ara\">وَ</span></span><span class=\"plain  rtl  \" ><span class=\"txtu ara\">أُمِيتُ </span></span></span><span class=\"plain  rtl  \" ><span class=\"plain txtu ara rtl\"></span><span class=\"plain  rtl  \" ><span class=\"txtu ara\">قَالَ </span></span></span><span class=\"plain  rtl  \" ><span class=\"plain txtu ara rtl\"></span><span class=\"plain  rtl  \" ><span class=\"txtu ara\">إِبْرَٰهِۦمُ </span></span></span><span class=\"plain  rtl  \" ><span class=\"plain txtu ara rtl\"></span><span class=\"plain  rtl  \" ><span class=\"txtu ara\">فَ</span></span><span class=\"plain  rtl  \" ><span class=\"txtu ara\">إِنَّ </span></span></span><span class=\"plain  rtl  \" ><span class=\"plain txtu ara rtl\"></span><span class=\"plain  rtl  \" ><span class=\"txtu ara\">ٱللَّهَ </span></span></span><span class=\"plain  rtl  \" ><span class=\"plain txtu ara rtl\"></span><span class=\"plain  rtl  \" ><span class=\"txtu ara\">يَأْتِى </span></span></span><span class=\"plain  rtl  \" ><span class=\"plain txtu ara rtl\"></span><span class=\"plain  rtl  \" ><span class=\"txtu ara\">بِ</span></span><span class=\"plain  rtl  \" ><span class=\"txtu ara\">ٱل</span></span><span class=\"plain  rtl  \" ><span class=\"txtu ara\">شَّمْسِ </span></span></span><span class=\"plain  rtl  \" ><span class=\"plain txtu ara rtl\"></span><span class=\"plain  rtl  \" ><span class=\"txtu ara\">مِنَ </span></span></span><span class=\"plain  rtl  \" ><span class=\"plain txtu ara rtl\"></span><span class=\"plain  rtl  \" ><span class=\"txtu ara\">ٱلْ</span></span><span class=\"plain  rtl  \" ><span class=\"txtu ara\">مَشْرِقِ </span></span></span><span class=\"plain  rtl  \" ><span class=\"plain txtu ara rtl\"></span><span class=\"plain  rtl  \" ><span class=\"txtu ara\">فَ</span></span><span class=\"plain  rtl  \" ><span class=\"txtu ara\">أْتِ </span></span></span><span class=\"plain  rtl  \" ><span class=\"plain txtu ara rtl\"></span><span class=\"plain  rtl  \" ><span class=\"txtu ara\">بِ</span></span><span class=\"plain  rtl  \" ><span class=\"txtu ara\">هَا </span></span></span><span class=\"plain  rtl  \" ><span class=\"plain txtu ara rtl\"></span><span class=\"plain  rtl  \" ><span class=\"txtu ara\">مِنَ </span></span></span><span class=\"plain  rtl  \" ><span class=\"plain txtu ara rtl\"></span><span class=\"plain  rtl  \" ><span class=\"txtu ara\">ٱلْ</span></span><span class=\"plain  rtl  \" ><span class=\"txtu ara\">مَغْرِبِ </span></span></span><span class=\"plain  rtl  \" ><span class=\"plain txtu ara rtl\"></span><span class=\"plain  rtl  \" ><span class=\"txtu ara\">فَ</span></span><span class=\"plain  rtl  \" ><span class=\"txtu ara\">بُهِتَ </span></span></span><span class=\"plain  rtl  \" ><span class=\"plain txtu ara rtl\"></span><span class=\"plain  rtl  \" ><span class=\"txtu ara\">ٱلَّذِى </span></span></span><span class=\"plain  rtl  \" ><span class=\"plain txtu ara rtl\"></span><span class=\"plain  rtl  \" ><span class=\"txtu ara\">كَفَرَ </span></span></span><span class=\"plain  rtl  \" ><span class=\"plain txtu ara rtl\"></span><span class=\"plain  rtl  \" ><span class=\"txtu ara\">وَ</span></span><span class=\"plain  rtl  \" ><span class=\"txtu ara\">ٱللَّهُ </span></span></span><span class=\"plain  rtl  \" ><span class=\"plain txtu ara rtl\"></span><span class=\"plain  rtl  \" ><span class=\"txtu ara\">لَا </span></span></span><span class=\"plain  rtl  \" ><span class=\"plain txtu ara rtl\"></span><span class=\"plain  rtl  \" ><span class=\"txtu ara\">يَهْدِى </span></span></span><span class=\"plain  rtl  \" ><span class=\"plain txtu ara rtl\"></span><span class=\"plain  rtl  \" ><span class=\"txtu ara\">ٱلْ</span></span><span class=\"plain  rtl  \" ><span class=\"txtu ara\">قَوْمَ </span></span></span><span class=\"plain  rtl  \" ><span class=\"plain txtu ara rtl\"></span><span class=\"plain  rtl  \" ><span class=\"txtu ara\">ٱل</span></span><span class=\"plain  rtl  \" ><span class=\"txtu ara\">ظَّٰلِمِينَ</span></span></span></span></td><td class=\"tf\"><span class=\"plain outer rtl  hl\" ><span class=\"txtu ara\">أَ</span></span></td></tr>\n",
       "<tr class=\"tf\"><td class=\"tf\">259</td><td class=\"tf\"><span class=\"section ltr\"><a target=\"_blank\" href=\"/#2:259\" title=\"show this passage on Tanzil\" sec=\"2:259\">2:259</a></span></td><td class=\"tf\"><span class=\"plain outer rtl  \" ><span class=\"plain txtu ara rtl\"></span><span class=\"plain  rtl  \" ><span class=\"plain txtu ara rtl\"></span><span class=\"plain  rtl  hl\" ><span class=\"txtu ara\">أَوْ </span></span></span><span class=\"plain  rtl  \" ><span class=\"plain txtu ara rtl\"></span><span class=\"plain  rtl  \" ><span class=\"txtu ara\">كَ</span></span><span class=\"plain  rtl  \" ><span class=\"txtu ara\">ٱلَّذِى </span></span></span><span class=\"plain  rtl  \" ><span class=\"plain txtu ara rtl\"></span><span class=\"plain  rtl  \" ><span class=\"txtu ara\">مَرَّ </span></span></span><span class=\"plain  rtl  \" ><span class=\"plain txtu ara rtl\"></span><span class=\"plain  rtl  \" ><span class=\"txtu ara\">عَلَىٰ </span></span></span><span class=\"plain  rtl  \" ><span class=\"plain txtu ara rtl\"></span><span class=\"plain  rtl  \" ><span class=\"txtu ara\">قَرْيَةٍ </span></span></span><span class=\"plain  rtl  \" ><span class=\"plain txtu ara rtl\"></span><span class=\"plain  rtl  \" ><span class=\"txtu ara\">وَ</span></span><span class=\"plain  rtl  \" ><span class=\"txtu ara\">هِىَ </span></span></span><span class=\"plain  rtl  \" ><span class=\"plain txtu ara rtl\"></span><span class=\"plain  rtl  \" ><span class=\"txtu ara\">خَاوِيَةٌ </span></span></span><span class=\"plain  rtl  \" ><span class=\"plain txtu ara rtl\"></span><span class=\"plain  rtl  \" ><span class=\"txtu ara\">عَلَىٰ </span></span></span><span class=\"plain  rtl  \" ><span class=\"plain txtu ara rtl\"></span><span class=\"plain  rtl  \" ><span class=\"txtu ara\">عُرُوشِ</span></span><span class=\"plain  rtl  \" ><span class=\"txtu ara\">هَا </span></span></span><span class=\"plain  rtl  \" ><span class=\"plain txtu ara rtl\"></span><span class=\"plain  rtl  \" ><span class=\"txtu ara\">قَالَ </span></span></span><span class=\"plain  rtl  \" ><span class=\"plain txtu ara rtl\"></span><span class=\"plain  rtl  \" ><span class=\"txtu ara\">أَنَّىٰ </span></span></span><span class=\"plain  rtl  \" ><span class=\"plain txtu ara rtl\"></span><span class=\"plain  rtl  \" ><span class=\"txtu ara\">يُحْىِۦ </span></span></span><span class=\"plain  rtl  \" ><span class=\"plain txtu ara rtl\"></span><span class=\"plain  rtl  \" ><span class=\"txtu ara\">هَٰذِهِ </span></span></span><span class=\"plain  rtl  \" ><span class=\"plain txtu ara rtl\"></span><span class=\"plain  rtl  \" ><span class=\"txtu ara\">ٱللَّهُ </span></span></span><span class=\"plain  rtl  \" ><span class=\"plain txtu ara rtl\"></span><span class=\"plain  rtl  \" ><span class=\"txtu ara\">بَعْدَ </span></span></span><span class=\"plain  rtl  \" ><span class=\"plain txtu ara rtl\"></span><span class=\"plain  rtl  \" ><span class=\"txtu ara\">مَوْتِ</span></span><span class=\"plain  rtl  \" ><span class=\"txtu ara\">هَا </span></span></span><span class=\"plain  rtl  \" ><span class=\"plain txtu ara rtl\"></span><span class=\"plain  rtl  \" ><span class=\"txtu ara\">فَ</span></span><span class=\"plain  rtl  \" ><span class=\"txtu ara\">أَمَاتَ</span></span><span class=\"plain  rtl  \" ><span class=\"txtu ara\">هُ </span></span></span><span class=\"plain  rtl  \" ><span class=\"plain txtu ara rtl\"></span><span class=\"plain  rtl  \" ><span class=\"txtu ara\">ٱللَّهُ </span></span></span><span class=\"plain  rtl  \" ><span class=\"plain txtu ara rtl\"></span><span class=\"plain  rtl  \" ><span class=\"txtu ara\">مِا۟ئَةَ </span></span></span><span class=\"plain  rtl  \" ><span class=\"plain txtu ara rtl\"></span><span class=\"plain  rtl  \" ><span class=\"txtu ara\">عَامٍ </span></span></span><span class=\"plain  rtl  \" ><span class=\"plain txtu ara rtl\"></span><span class=\"plain  rtl  \" ><span class=\"txtu ara\">ثُمَّ </span></span></span><span class=\"plain  rtl  \" ><span class=\"plain txtu ara rtl\"></span><span class=\"plain  rtl  \" ><span class=\"txtu ara\">بَعَثَ</span></span><span class=\"plain  rtl  \" ><span class=\"txtu ara\">هُۥ </span></span></span><span class=\"plain  rtl  \" ><span class=\"plain txtu ara rtl\"></span><span class=\"plain  rtl  \" ><span class=\"txtu ara\">قَالَ </span></span></span><span class=\"plain  rtl  \" ><span class=\"plain txtu ara rtl\"></span><span class=\"plain  rtl  \" ><span class=\"txtu ara\">كَمْ </span></span></span><span class=\"plain  rtl  \" ><span class=\"plain txtu ara rtl\"></span><span class=\"plain  rtl  \" ><span class=\"txtu ara\">لَبِثْ</span></span><span class=\"plain  rtl  \" ><span class=\"txtu ara\">تَ </span></span></span><span class=\"plain  rtl  \" ><span class=\"plain txtu ara rtl\"></span><span class=\"plain  rtl  \" ><span class=\"txtu ara\">قَالَ </span></span></span><span class=\"plain  rtl  \" ><span class=\"plain txtu ara rtl\"></span><span class=\"plain  rtl  \" ><span class=\"txtu ara\">لَبِثْ</span></span><span class=\"plain  rtl  \" ><span class=\"txtu ara\">تُ </span></span></span><span class=\"plain  rtl  \" ><span class=\"plain txtu ara rtl\"></span><span class=\"plain  rtl  \" ><span class=\"txtu ara\">يَوْمًا </span></span></span><span class=\"plain  rtl  \" ><span class=\"plain txtu ara rtl\"></span><span class=\"plain  rtl  \" ><span class=\"txtu ara\">أَوْ </span></span></span><span class=\"plain  rtl  \" ><span class=\"plain txtu ara rtl\"></span><span class=\"plain  rtl  \" ><span class=\"txtu ara\">بَعْضَ </span></span></span><span class=\"plain  rtl  \" ><span class=\"plain txtu ara rtl\"></span><span class=\"plain  rtl  \" ><span class=\"txtu ara\">يَوْمٍ </span></span></span><span class=\"plain  rtl  \" ><span class=\"plain txtu ara rtl\"></span><span class=\"plain  rtl  \" ><span class=\"txtu ara\">قَالَ </span></span></span><span class=\"plain  rtl  \" ><span class=\"plain txtu ara rtl\"></span><span class=\"plain  rtl  \" ><span class=\"txtu ara\">بَل </span></span></span><span class=\"plain  rtl  \" ><span class=\"plain txtu ara rtl\"></span><span class=\"plain  rtl  \" ><span class=\"txtu ara\">لَّبِثْ</span></span><span class=\"plain  rtl  \" ><span class=\"txtu ara\">تَ </span></span></span><span class=\"plain  rtl  \" ><span class=\"plain txtu ara rtl\"></span><span class=\"plain  rtl  \" ><span class=\"txtu ara\">مِا۟ئَةَ </span></span></span><span class=\"plain  rtl  \" ><span class=\"plain txtu ara rtl\"></span><span class=\"plain  rtl  \" ><span class=\"txtu ara\">عَامٍ </span></span></span><span class=\"plain  rtl  \" ><span class=\"plain txtu ara rtl\"></span><span class=\"plain  rtl  \" ><span class=\"txtu ara\">فَ</span></span><span class=\"plain  rtl  \" ><span class=\"txtu ara\">ٱنظُرْ </span></span></span><span class=\"plain  rtl  \" ><span class=\"plain txtu ara rtl\"></span><span class=\"plain  rtl  \" ><span class=\"txtu ara\">إِلَىٰ </span></span></span><span class=\"plain  rtl  \" ><span class=\"plain txtu ara rtl\"></span><span class=\"plain  rtl  \" ><span class=\"txtu ara\">طَعَامِ</span></span><span class=\"plain  rtl  \" ><span class=\"txtu ara\">كَ </span></span></span><span class=\"plain  rtl  \" ><span class=\"plain txtu ara rtl\"></span><span class=\"plain  rtl  \" ><span class=\"txtu ara\">وَ</span></span><span class=\"plain  rtl  \" ><span class=\"txtu ara\">شَرَابِ</span></span><span class=\"plain  rtl  \" ><span class=\"txtu ara\">كَ </span></span></span><span class=\"plain  rtl  \" ><span class=\"plain txtu ara rtl\"></span><span class=\"plain  rtl  \" ><span class=\"txtu ara\">لَمْ </span></span></span><span class=\"plain  rtl  \" ><span class=\"plain txtu ara rtl\"></span><span class=\"plain  rtl  \" ><span class=\"txtu ara\">يَتَسَنَّهْ </span></span></span><span class=\"plain  rtl  \" ><span class=\"plain txtu ara rtl\"></span><span class=\"plain  rtl  \" ><span class=\"txtu ara\">وَ</span></span><span class=\"plain  rtl  \" ><span class=\"txtu ara\">ٱنظُرْ </span></span></span><span class=\"plain  rtl  \" ><span class=\"plain txtu ara rtl\"></span><span class=\"plain  rtl  \" ><span class=\"txtu ara\">إِلَىٰ </span></span></span><span class=\"plain  rtl  \" ><span class=\"plain txtu ara rtl\"></span><span class=\"plain  rtl  \" ><span class=\"txtu ara\">حِمَارِ</span></span><span class=\"plain  rtl  \" ><span class=\"txtu ara\">كَ </span></span></span><span class=\"plain  rtl  \" ><span class=\"plain txtu ara rtl\"></span><span class=\"plain  rtl  \" ><span class=\"txtu ara\">وَ</span></span><span class=\"plain  rtl  \" ><span class=\"txtu ara\">لِ</span></span><span class=\"plain  rtl  \" ><span class=\"txtu ara\">نَجْعَلَ</span></span><span class=\"plain  rtl  \" ><span class=\"txtu ara\">كَ </span></span></span><span class=\"plain  rtl  \" ><span class=\"plain txtu ara rtl\"></span><span class=\"plain  rtl  \" ><span class=\"txtu ara\">ءَايَةً </span></span></span><span class=\"plain  rtl  \" ><span class=\"plain txtu ara rtl\"></span><span class=\"plain  rtl  \" ><span class=\"txtu ara\">لِّ</span></span><span class=\"plain  rtl  \" ><span class=\"txtu ara\">ل</span></span><span class=\"plain  rtl  \" ><span class=\"txtu ara\">نَّاسِ </span></span></span><span class=\"plain  rtl  \" ><span class=\"plain txtu ara rtl\"></span><span class=\"plain  rtl  \" ><span class=\"txtu ara\">وَ</span></span><span class=\"plain  rtl  \" ><span class=\"txtu ara\">ٱنظُرْ </span></span></span><span class=\"plain  rtl  \" ><span class=\"plain txtu ara rtl\"></span><span class=\"plain  rtl  \" ><span class=\"txtu ara\">إِلَى </span></span></span><span class=\"plain  rtl  \" ><span class=\"plain txtu ara rtl\"></span><span class=\"plain  rtl  \" ><span class=\"txtu ara\">ٱلْ</span></span><span class=\"plain  rtl  \" ><span class=\"txtu ara\">عِظَامِ </span></span></span><span class=\"plain  rtl  \" ><span class=\"plain txtu ara rtl\"></span><span class=\"plain  rtl  \" ><span class=\"txtu ara\">كَيْفَ </span></span></span><span class=\"plain  rtl  \" ><span class=\"plain txtu ara rtl\"></span><span class=\"plain  rtl  \" ><span class=\"txtu ara\">نُنشِزُ</span></span><span class=\"plain  rtl  \" ><span class=\"txtu ara\">هَا </span></span></span><span class=\"plain  rtl  \" ><span class=\"plain txtu ara rtl\"></span><span class=\"plain  rtl  \" ><span class=\"txtu ara\">ثُمَّ </span></span></span><span class=\"plain  rtl  \" ><span class=\"plain txtu ara rtl\"></span><span class=\"plain  rtl  \" ><span class=\"txtu ara\">نَكْسُو</span></span><span class=\"plain  rtl  \" ><span class=\"txtu ara\">هَا </span></span></span><span class=\"plain  rtl  \" ><span class=\"plain txtu ara rtl\"></span><span class=\"plain  rtl  \" ><span class=\"txtu ara\">لَحْمًا </span></span></span><span class=\"plain  rtl  \" ><span class=\"plain txtu ara rtl\"></span><span class=\"plain  rtl  \" ><span class=\"txtu ara\">فَ</span></span><span class=\"plain  rtl  \" ><span class=\"txtu ara\">لَمَّا </span></span></span><span class=\"plain  rtl  \" ><span class=\"plain txtu ara rtl\"></span><span class=\"plain  rtl  \" ><span class=\"txtu ara\">تَبَيَّنَ </span></span></span><span class=\"plain  rtl  \" ><span class=\"plain txtu ara rtl\"></span><span class=\"plain  rtl  \" ><span class=\"txtu ara\">لَ</span></span><span class=\"plain  rtl  \" ><span class=\"txtu ara\">هُۥ </span></span></span><span class=\"plain  rtl  \" ><span class=\"plain txtu ara rtl\"></span><span class=\"plain  rtl  \" ><span class=\"txtu ara\">قَالَ </span></span></span><span class=\"plain  rtl  \" ><span class=\"plain txtu ara rtl\"></span><span class=\"plain  rtl  \" ><span class=\"txtu ara\">أَعْلَمُ </span></span></span><span class=\"plain  rtl  \" ><span class=\"plain txtu ara rtl\"></span><span class=\"plain  rtl  \" ><span class=\"txtu ara\">أَنَّ </span></span></span><span class=\"plain  rtl  \" ><span class=\"plain txtu ara rtl\"></span><span class=\"plain  rtl  \" ><span class=\"txtu ara\">ٱللَّهَ </span></span></span><span class=\"plain  rtl  \" ><span class=\"plain txtu ara rtl\"></span><span class=\"plain  rtl  \" ><span class=\"txtu ara\">عَلَىٰ </span></span></span><span class=\"plain  rtl  \" ><span class=\"plain txtu ara rtl\"></span><span class=\"plain  rtl  \" ><span class=\"txtu ara\">كُلِّ </span></span></span><span class=\"plain  rtl  \" ><span class=\"plain txtu ara rtl\"></span><span class=\"plain  rtl  \" ><span class=\"txtu ara\">شَىْءٍ </span></span></span><span class=\"plain  rtl  \" ><span class=\"plain txtu ara rtl\"></span><span class=\"plain  rtl  \" ><span class=\"txtu ara\">قَدِيرٌ</span></span></span></span></td><td class=\"tf\"><span class=\"plain outer rtl  hl\" ><span class=\"txtu ara\">أَوْ </span></span></td></tr>\n",
       "<tr class=\"tf\"><td class=\"tf\">260</td><td class=\"tf\"><span class=\"section ltr\"><a target=\"_blank\" href=\"/#2:260\" title=\"show this passage on Tanzil\" sec=\"2:260\">2:260</a></span></td><td class=\"tf\"><span class=\"plain outer rtl  \" ><span class=\"plain txtu ara rtl\"></span><span class=\"plain  rtl  \" ><span class=\"plain txtu ara rtl\"></span><span class=\"plain  rtl  hl\"  style=\"background-color: fuchsia;\" ><span class=\"txtu ara\">وَ</span></span><span class=\"plain  rtl  \" ><span class=\"txtu ara\">إِذْ </span></span></span><span class=\"plain  rtl  \" ><span class=\"plain txtu ara rtl\"></span><span class=\"plain  rtl  \" ><span class=\"txtu ara\">قَالَ </span></span></span><span class=\"plain  rtl  \" ><span class=\"plain txtu ara rtl\"></span><span class=\"plain  rtl  \" ><span class=\"txtu ara\">إِبْرَٰهِۦمُ </span></span></span><span class=\"plain  rtl  \" ><span class=\"plain txtu ara rtl\"></span><span class=\"plain  rtl  \" ><span class=\"txtu ara\">رَبِّ</span></span><span class=\"plain  rtl  \" ><span class=\"txtu ara\"> </span></span></span><span class=\"plain  rtl  \" ><span class=\"plain txtu ara rtl\"></span><span class=\"plain  rtl  \" ><span class=\"txtu ara\">أَرِ</span></span><span class=\"plain  rtl  \" ><span class=\"txtu ara\">نِى </span></span></span><span class=\"plain  rtl  \" ><span class=\"plain txtu ara rtl\"></span><span class=\"plain  rtl  \" ><span class=\"txtu ara\">كَيْفَ </span></span></span><span class=\"plain  rtl  \" ><span class=\"plain txtu ara rtl\"></span><span class=\"plain  rtl  \" ><span class=\"txtu ara\">تُحْىِ </span></span></span><span class=\"plain  rtl  \" ><span class=\"plain txtu ara rtl\"></span><span class=\"plain  rtl  \" ><span class=\"txtu ara\">ٱلْ</span></span><span class=\"plain  rtl  \" ><span class=\"txtu ara\">مَوْتَىٰ </span></span></span><span class=\"plain  rtl  \" ><span class=\"plain txtu ara rtl\"></span><span class=\"plain  rtl  \" ><span class=\"txtu ara\">قَالَ </span></span></span><span class=\"plain  rtl  \" ><span class=\"plain txtu ara rtl\"></span><span class=\"plain  rtl  \" ><span class=\"txtu ara\">أَ</span></span><span class=\"plain  rtl  \" ><span class=\"txtu ara\">وَ</span></span><span class=\"plain  rtl  \" ><span class=\"txtu ara\">لَمْ </span></span></span><span class=\"plain  rtl  \" ><span class=\"plain txtu ara rtl\"></span><span class=\"plain  rtl  \" ><span class=\"txtu ara\">تُؤْمِن </span></span></span><span class=\"plain  rtl  \" ><span class=\"plain txtu ara rtl\"></span><span class=\"plain  rtl  \" ><span class=\"txtu ara\">قَالَ </span></span></span><span class=\"plain  rtl  \" ><span class=\"plain txtu ara rtl\"></span><span class=\"plain  rtl  \" ><span class=\"txtu ara\">بَلَىٰ </span></span></span><span class=\"plain  rtl  \" ><span class=\"plain txtu ara rtl\"></span><span class=\"plain  rtl  \" ><span class=\"txtu ara\">وَ</span></span><span class=\"plain  rtl  \" ><span class=\"txtu ara\">لَٰكِن </span></span></span><span class=\"plain  rtl  \" ><span class=\"plain txtu ara rtl\"></span><span class=\"plain  rtl  \" ><span class=\"txtu ara\">لِّ</span></span><span class=\"plain  rtl  \" ><span class=\"txtu ara\">يَطْمَئِنَّ </span></span></span><span class=\"plain  rtl  \" ><span class=\"plain txtu ara rtl\"></span><span class=\"plain  rtl  \" ><span class=\"txtu ara\">قَلْبِ</span></span><span class=\"plain  rtl  \" ><span class=\"txtu ara\">ى </span></span></span><span class=\"plain  rtl  \" ><span class=\"plain txtu ara rtl\"></span><span class=\"plain  rtl  \" ><span class=\"txtu ara\">قَالَ </span></span></span><span class=\"plain  rtl  \" ><span class=\"plain txtu ara rtl\"></span><span class=\"plain  rtl  \" ><span class=\"txtu ara\">فَ</span></span><span class=\"plain  rtl  \" ><span class=\"txtu ara\">خُذْ </span></span></span><span class=\"plain  rtl  \" ><span class=\"plain txtu ara rtl\"></span><span class=\"plain  rtl  \" ><span class=\"txtu ara\">أَرْبَعَةً </span></span></span><span class=\"plain  rtl  \" ><span class=\"plain txtu ara rtl\"></span><span class=\"plain  rtl  \" ><span class=\"txtu ara\">مِّنَ </span></span></span><span class=\"plain  rtl  \" ><span class=\"plain txtu ara rtl\"></span><span class=\"plain  rtl  \" ><span class=\"txtu ara\">ٱل</span></span><span class=\"plain  rtl  \" ><span class=\"txtu ara\">طَّيْرِ </span></span></span><span class=\"plain  rtl  \" ><span class=\"plain txtu ara rtl\"></span><span class=\"plain  rtl  \" ><span class=\"txtu ara\">فَ</span></span><span class=\"plain  rtl  \" ><span class=\"txtu ara\">صُرْ</span></span><span class=\"plain  rtl  \" ><span class=\"txtu ara\">هُنَّ </span></span></span><span class=\"plain  rtl  \" ><span class=\"plain txtu ara rtl\"></span><span class=\"plain  rtl  \" ><span class=\"txtu ara\">إِلَيْ</span></span><span class=\"plain  rtl  \" ><span class=\"txtu ara\">كَ </span></span></span><span class=\"plain  rtl  \" ><span class=\"plain txtu ara rtl\"></span><span class=\"plain  rtl  \" ><span class=\"txtu ara\">ثُمَّ </span></span></span><span class=\"plain  rtl  \" ><span class=\"plain txtu ara rtl\"></span><span class=\"plain  rtl  \" ><span class=\"txtu ara\">ٱجْعَلْ </span></span></span><span class=\"plain  rtl  \" ><span class=\"plain txtu ara rtl\"></span><span class=\"plain  rtl  \" ><span class=\"txtu ara\">عَلَىٰ </span></span></span><span class=\"plain  rtl  \" ><span class=\"plain txtu ara rtl\"></span><span class=\"plain  rtl  \" ><span class=\"txtu ara\">كُلِّ </span></span></span><span class=\"plain  rtl  \" ><span class=\"plain txtu ara rtl\"></span><span class=\"plain  rtl  \" ><span class=\"txtu ara\">جَبَلٍ </span></span></span><span class=\"plain  rtl  \" ><span class=\"plain txtu ara rtl\"></span><span class=\"plain  rtl  \" ><span class=\"txtu ara\">مِّنْ</span></span><span class=\"plain  rtl  \" ><span class=\"txtu ara\">هُنَّ </span></span></span><span class=\"plain  rtl  \" ><span class=\"plain txtu ara rtl\"></span><span class=\"plain  rtl  \" ><span class=\"txtu ara\">جُزْءًا </span></span></span><span class=\"plain  rtl  \" ><span class=\"plain txtu ara rtl\"></span><span class=\"plain  rtl  \" ><span class=\"txtu ara\">ثُمَّ </span></span></span><span class=\"plain  rtl  \" ><span class=\"plain txtu ara rtl\"></span><span class=\"plain  rtl  \" ><span class=\"txtu ara\">ٱدْعُ</span></span><span class=\"plain  rtl  \" ><span class=\"txtu ara\">هُنَّ </span></span></span><span class=\"plain  rtl  \" ><span class=\"plain txtu ara rtl\"></span><span class=\"plain  rtl  \" ><span class=\"txtu ara\">يَأْتِي</span></span><span class=\"plain  rtl  \" ><span class=\"txtu ara\">نَ</span></span><span class=\"plain  rtl  \" ><span class=\"txtu ara\">كَ </span></span></span><span class=\"plain  rtl  \" ><span class=\"plain txtu ara rtl\"></span><span class=\"plain  rtl  \" ><span class=\"txtu ara\">سَعْيًا </span></span></span><span class=\"plain  rtl  \" ><span class=\"plain txtu ara rtl\"></span><span class=\"plain  rtl  \" ><span class=\"txtu ara\">وَ</span></span><span class=\"plain  rtl  \" ><span class=\"txtu ara\">ٱعْلَمْ </span></span></span><span class=\"plain  rtl  \" ><span class=\"plain txtu ara rtl\"></span><span class=\"plain  rtl  \" ><span class=\"txtu ara\">أَنَّ </span></span></span><span class=\"plain  rtl  \" ><span class=\"plain txtu ara rtl\"></span><span class=\"plain  rtl  \" ><span class=\"txtu ara\">ٱللَّهَ </span></span></span><span class=\"plain  rtl  \" ><span class=\"plain txtu ara rtl\"></span><span class=\"plain  rtl  \" ><span class=\"txtu ara\">عَزِيزٌ </span></span></span><span class=\"plain  rtl  \" ><span class=\"plain txtu ara rtl\"></span><span class=\"plain  rtl  \" ><span class=\"txtu ara\">حَكِيمٌ</span></span></span></span></td><td class=\"tf\"><span class=\"plain outer rtl  hl\"  style=\"background-color: fuchsia;\" ><span class=\"txtu ara\">وَ</span></span></td></tr></table>"
      ],
      "text/plain": [
       "<IPython.core.display.HTML object>"
      ]
     },
     "metadata": {},
     "output_type": "display_data"
    }
   ],
   "source": [
    "A.table(ayaTuples, start=240, end=260, highlights=highlights)"
   ]
  },
  {
   "cell_type": "markdown",
   "metadata": {},
   "source": [
    "## Semantics\n",
    "\n",
    "The article says: \n",
    "\n",
    "> interior sections correspond to each other: the second section corresponds to the second-to-last, and so on concentrically.\n",
    "\n",
    "and\n",
    "\n",
    "> By means of concentric patterning, ring composition calls attention to the center. We are drawn to look here for the essential message.\n",
    "\n",
    "If you don't read Arabic, a translation is the next best way to access the semantics."
   ]
  },
  {
   "cell_type": "markdown",
   "metadata": {},
   "source": [
    "### Shuffled ayas\n",
    "\n",
    "For each section, we will list the first three ayas (b1, b2, b3), the middle three (m1, m2, m3) and the last three (e1, e2, e3).\n",
    "\n",
    "We produce them in the order b1 - e3 - b2 - e2 - b3 - e1 - m1 - m3 - m2.\n",
    "\n",
    "We also put the first words, if they are particles of the vocative or resumption kind in the table.\n",
    "\n",
    "Everything will be formatted in a markdown table."
   ]
  },
  {
   "cell_type": "code",
   "execution_count": 26,
   "metadata": {},
   "outputs": [],
   "source": [
    "def dm(markdownString):\n",
    "  display(Markdown(markdownString))"
   ]
  },
  {
   "cell_type": "markdown",
   "metadata": {},
   "source": [
    "### Construction of the table\n",
    "\n",
    "We walk through the sections and grab all the information we need, and wrap it into a big\n",
    "markdown table."
   ]
  },
  {
   "cell_type": "code",
   "execution_count": 27,
   "metadata": {},
   "outputs": [],
   "source": [
    "markdown = '''\n",
    "section | aya | position | kind | particle | translation\n",
    "--- | --- | --- | --- | --- | ---\n",
    "'''.lstrip()\n",
    "\n",
    "for (i, (beginAnum, endAnum)) in enumerate(sections):\n",
    "  ayas = {}\n",
    "  ayas['b1'] = T.nodeFromSection((2, beginAnum))\n",
    "  ayas['e3'] = T.nodeFromSection((2, endAnum))\n",
    "  ayas['m2'] = (ayas['b1'] + ayas['e3']) // 2\n",
    "  ayas['b2'] = ayas['b1'] + 1\n",
    "  ayas['b3'] = ayas['b1'] + 2\n",
    "  ayas['m1'] = ayas['m2'] - 1\n",
    "  ayas['m3'] = ayas['m2'] + 1\n",
    "  ayas['e1'] = ayas['e3'] - 2\n",
    "  ayas['e2'] = ayas['e3'] - 1\n",
    "  for aName in 'b1 e3 b2 e2 b3 e1 m1 m3 m2'.split():\n",
    "    a = ayas[aName]\n",
    "    w = L.d(a, otype='word')[0]\n",
    "    posx = F.posx.v(w)\n",
    "    kind = posx if posx in {'vocative', 'resumption'} else None\n",
    "    particle = None if kind is None else F.ascii.v(w)\n",
    "    markdown += f'''\n",
    "{i + 1} | {F.number.v(a)} | {aName} | {kind or '&nbsp;'} | {particle or '&nbsp;'} | {Fs('translation@en').v(a)}\n",
    "'''.lstrip()"
   ]
  },
  {
   "cell_type": "markdown",
   "metadata": {},
   "source": [
    "### Shuffled table display"
   ]
  },
  {
   "cell_type": "code",
   "execution_count": 28,
   "metadata": {},
   "outputs": [
    {
     "data": {
      "text/markdown": [
       "section | aya | position | kind | particle | translation\n",
       "--- | --- | --- | --- | --- | ---\n",
       "1 | 1 | b1 | &nbsp; | &nbsp; | Alif Lam Mim\n",
       "1 | 20 | e3 | &nbsp; | &nbsp; | the lightning wellnigh snatches away their sight; whensoever it gives them light, they walk in it, and when the darkness is over them, they halt; had God willed, He would have taken away their hearing and their sight. Truly, God is powerful over everything.\n",
       "1 | 2 | b2 | &nbsp; | &nbsp; | That is the Book, wherein is no doubt, a guidance to the godfearing\n",
       "1 | 19 | e2 | &nbsp; | &nbsp; | or as a cloudburst out of heaven in which is darkness, and thunder, and lightning -- they put their fingers in their ears against the thunderclaps, fearful of death; and God encompasses the unbelievers;\n",
       "1 | 3 | b3 | &nbsp; | &nbsp; | who believe in the Unseen, and perform the prayer, and expend of that We have provided them;\n",
       "1 | 18 | e1 | &nbsp; | &nbsp; | deaf, dumb, blind -- so they shall not return;\n",
       "1 | 9 | m1 | &nbsp; | &nbsp; | They would trick God and the believers, and only themselves they deceive, and they are not aware.\n",
       "1 | 11 | m3 | resumption | wa | When it is said to them, 'Do not corruption in the land', they say, 'We are only ones that put things right.'\n",
       "1 | 10 | m2 | &nbsp; | &nbsp; | In their hearts is a sickness, and God has increased their sickness, and there awaits them a painful chastisement for that they have cried lies.\n",
       "2 | 21 | b1 | vocative | ya`^ | O you men, serve your Lord Who created you, and those that were before you; haply so you will be godfearing;\n",
       "2 | 39 | e3 | resumption | wa | As for the unbelievers who cry lies to Our signs, those shall be the inhabitants of the Fire, therein dwelling forever.'\n",
       "2 | 22 | b2 | &nbsp; | &nbsp; | who assigned to you the earth for a couch, and heaven for an edifice, and sent down out of heaven water, wherewith He brought forth fruits for your provision; so set not up compeers to God wittingly.\n",
       "2 | 38 | e2 | &nbsp; | &nbsp; | We said, 'Get you down out of it, all together; yet there shall come to you guidance from Me, and whosoever follows My guidance, no fear shall be on them, neither shall they sorrow.\n",
       "2 | 23 | b3 | resumption | wa | And if you are in doubt concerning that We have sent down on Our servant, then bring a sura like it, and call your witnesses, apart from God, if you are truthful.\n",
       "2 | 37 | e1 | resumption | fa | Thereafter Adam received certain words from his Lord, and He turned towards him; truly He turns, and is All-compassionate.\n",
       "2 | 29 | m1 | &nbsp; | &nbsp; | It is He who created for you all that is in the earth, then He lifted Himself to heaven and levelled them seven heavens; and He has knowledge of everything.\n",
       "2 | 31 | m3 | resumption | wa | And He taught Adam the names, all of them; then He presented them unto the angels and said, 'Now tell Me the names of these, if you speak truly.'\n",
       "2 | 30 | m2 | resumption | wa | And when thy Lord said to the angels, 'I am setting in the earth a viceroy.' They said, 'What, wilt Thou set therein one who will do corruption there, and shed blood, while We proclaim Thy praise and call Thee Holy?' He said, 'Assuredly I know that you know not.'\n",
       "3 | 40 | b1 | vocative | ya` | Children of Israel, remember My blessing wherewith I blessed you, and fulfil My covenant and I shall fulfil your covenant; and have awe of Me.\n",
       "3 | 103 | e3 | resumption | wa | Yet had they believed, and been godfearing, a recompense from God had been better, if they had but known.\n",
       "3 | 41 | b2 | &nbsp; | &nbsp; | And believe in that I have sent down, confirming that which is with you, and be not the first to disbelieve in it. And sell not My signs for a little price; and fear you Me.\n",
       "3 | 102 | e2 | &nbsp; | &nbsp; | and they follow what the Satans recited over Solomon's kingdom. Solomon disbelieved not, but the Satans disbelieved, teaching the people sorcery, and that which was sent down upon Babylon's two angels, Harut and Marut; they taught not any man, without they said, 'We are but a temptation; do not disbelieve.' From them they learned how they might divide a man and his wife, yet they did not hurt any man thereby, save by the leave of God, and they learned what hurt them, and did not profit them, knowing well that whoso buys it shall have no share in the world to come; evil then was that they sold themselves for, if they had but known.\n",
       "3 | 42 | b3 | &nbsp; | &nbsp; | And do not confound the truth with vanity, and do not conceal the truth wittingly.\n",
       "3 | 101 | e1 | resumption | wa | When there has come to them a Messenger from God confirming what was with them, a party of them that were given the Book reject the Book of God behind their backs, as though they knew not,\n",
       "3 | 70 | m1 | &nbsp; | &nbsp; | They said, 'Pray to thy Lord for us, that He make clear to us what she may be; cows are much alike to us; and, if God will, we shall then be guided.'\n",
       "3 | 72 | m3 | &nbsp; | &nbsp; | And when you killed a living soul, and disputed thereon -- and God disclosed what you were hiding --\n",
       "3 | 71 | m2 | &nbsp; | &nbsp; | He said, 'He says she shall be a cow not broken to plough the earth or to water the tillage, one kept secure, with no blemish on her.' They said, 'Now thou hast brought the truth'; and therefore they sacrificed her, a thing they had scarcely done.\n",
       "4 | 104 | b1 | vocative | ya`^ | O believers, do not say, 'Observe us,' but say, 'Regard us'; and give ear; for unbelievers awaits a painful chastisement.\n",
       "4 | 141 | e3 | &nbsp; | &nbsp; | That is a nation that has passed away; there awaits them that they have earned, and there awaits you that you have earned; you shall not be questioned concerning the things they did.\n",
       "4 | 105 | b2 | &nbsp; | &nbsp; | Those unbelievers of the People of the Book and the idolaters wish not that any good should be sent down upon you from your Lord; but God singles out for His mercy whom He will; God is of bounty abounding.\n",
       "4 | 140 | e2 | &nbsp; | &nbsp; | Or do you say, \"Abraham, Ishmael, Isaac and Jacob, and the Tribes -- they were Jews, or they were Christians\"?' Say: 'Have you then greater knowledge, or God? And who does greater evil than he who conceals a testimony received from God? And God is not heedless of the things you do.'\n",
       "4 | 106 | b3 | &nbsp; | &nbsp; | And for whatever verse We abrogate or cast into oblivion, We bring a better or the like of it; knowest thou not that God is powerful over everything?\n",
       "4 | 139 | e1 | &nbsp; | &nbsp; | Say: 'Would you then dispute with us concerning God, who is our Lord and your Lord? Our deeds belong to us, and to you belong your deeds; Him we serve sincerely.\n",
       "4 | 121 | m1 | &nbsp; | &nbsp; | Those to whom We have given the Book and who recite it with true recitation, they believe in it; and whoso disbelieves in it, they shall be the losers.\n",
       "4 | 123 | m3 | &nbsp; | &nbsp; | and beware a day when no soul for another shall give satisfaction, and no counterpoise shall be accepted from it, nor any intercession shall be profitable to it, neither shall they be helped.\n",
       "4 | 122 | m2 | vocative | ya` | Children of Israel, remember My blessing wherewith I blessed you, and that I have preferred you above all beings;\n",
       "5 | 142 | b1 | &nbsp; | &nbsp; | The fools among the people will say, 'What has turned them from the direction they were facing in their prayers aforetime?' Say: \"To God belong the East and the West; He guides whomsoever He will to a straight path.'\n",
       "5 | 152 | e3 | resumption | fa | So remember Me, and I will remember you; and be thankful to Me; and be you not ungrateful towards Me.\n",
       "5 | 143 | b2 | resumption | wa | Thus We appointed you a midmost nation that you might be witnesses to the people, and that the Messenger might be a witness to you; and We did not appoint the direction thou wast facing, except that We might know who followed the Messenger from him who turned on his heels -- though it were a grave thing save for those whom God has guided; but God would never leave your faith to waste - truly, God is All-gentle with the people, All-compassionate.\n",
       "5 | 151 | e2 | &nbsp; | &nbsp; | as also We have sent among you, of yourselves, a Messenger, to recite Our signs to you and to purify you, and to teach you the Book and the Wisdom, and to teach you that you knew not.\n",
       "5 | 144 | b3 | &nbsp; | &nbsp; | We have seen thee turning thy face about in the heaven; now We will surely turn thee to a direction that shall satisfy thee. Turn thy face towards the Holy Mosque; and wherever you are, turn your faces towards it. Those who have been given the Book know it is the truth from their Lord; God is not heedless of the things they do.\n",
       "5 | 150 | e1 | resumption | wa | From whatsoever place thou issuest, turn thy face towards the Holy Mosque; and wherever you may be, turn your faces towards it, that the people may not have any argument against you, excepting the evildoers of them; and fear you them not, but fear you Me; and that I may perfect My blessing upon you, and that haply so you may be guided;\n",
       "5 | 146 | m1 | &nbsp; | &nbsp; | whom We have given the Book, and they recognize as they recognize their sons, even though there is a party of them conceal the truth and that wittingly.\n",
       "5 | 148 | m3 | resumption | wa | Every man has his direction to which he turns; so be you forward in good works. Wherever you may be, God will bring you all together; surely God is powerful over everything.\n",
       "5 | 147 | m2 | &nbsp; | &nbsp; | The truth comes from thy Lord; then be not among the doubters.\n",
       "6 | 153 | b1 | vocative | ya`^ | O all you who believe, seek you help in patience and prayer; surely God is with the patient.\n",
       "6 | 177 | e3 | &nbsp; | &nbsp; | It is not piety, that you turn your faces to the East and to the West. True piety is this: to believe in God, and the Last Day, the angels, the Book, and the Prophets, to give of one's substance, however cherished, to kinsmen, and orphans, the needy, the traveller, beggars, and to ransom the slave, to perform the prayer, to pay the alms. And they who fulfil their covenant when they have engaged in a covenant, and endure with fortitude misfortune, hardship and peril, these are they who are true in their faith, these are the truly godfearing.\n",
       "6 | 154 | b2 | resumption | wa | And say not of those slain in God's way, 'They are dead'; rather they are living, but you are not aware.\n",
       "6 | 176 | e2 | &nbsp; | &nbsp; | That, because God has sent down the Book with the truth; and those that are at variance regarding the Book are in wide schism.\n",
       "6 | 155 | b3 | resumption | wa | Surely We will try you with something of fear and hunger, and diminution of goods and lives and fruits; yet give thou good tidings unto the patient\n",
       "6 | 175 | e1 | &nbsp; | &nbsp; | Those are they that have bought error at the price of guidance, and chastisement at the price of pardon; how patiently they shall endure the Fire!\n",
       "6 | 164 | m1 | &nbsp; | &nbsp; | .. Surely in the creation of the heavens and the earth and the alternation of night and day and the ship that runs in the sea with profit to men, and the water God sends down from heaven therewith reviving the earth after it is dead and His scattering abroad in it all manner of crawling thing, and the turning about of the winds and the clouds compelled between heaven and earth -- surely there are signs for a people having understanding.\n",
       "6 | 166 | m3 | &nbsp; | &nbsp; | when those that were followed disown their followers, and they see the chastisement, and their cords are cut asunder,\n",
       "6 | 165 | m2 | resumption | wa | Yet there be men who take to themselves compeers apart from God, loving them as God is loved; but those that believe love God more ardently. O if the evildoers might see, when they see the chastisement, that the power altogether belongs to God, and that God is terrible in chastisement,\n",
       "7 | 178 | b1 | vocative | ya`^ | O believers, prescribed for you is retaliation, touching the slain; freeman for freeman, slave for slave, female for female. But if aught is pardoned a man by his brother, let the pursuing be honourable, and let the payment be with kindliness. That is a lightening granted you by your Lord, and a mercy; and for him who commits aggression after that -- for him there awaits a painful chastisement.\n",
       "7 | 253 | e3 | &nbsp; | &nbsp; | And those Messengers, some We have preferred above others; some there are to whom God spoke, and some He raised in rank. And We gave Jesus son of Mary the clear signs, and confirmed him with the Holy Spirit. And had God willed, those who came after him would not have fought one against the other after the clear signs had come to them; but they fell into variance, and some of them believed, and some disbelieved; and had God willed they would not have fought one against the other; but God does whatsoever He desires.\n",
       "7 | 179 | b2 | resumption | wa | In retaliation there is life for you, men possessed of minds; haply you will be godfearing.\n",
       "7 | 252 | e2 | &nbsp; | &nbsp; | These are the signs of God We recite to thee in truth, and assuredly thou art of the number of the Envoys.\n",
       "7 | 180 | b3 | &nbsp; | &nbsp; | Prescribed for you, when any of you is visited by death, and he leaves behind some goods, is to make testament in favour of his parents and kinsmen honourably -- an obligation on the godfearing.\n",
       "7 | 251 | e1 | resumption | fa | And they routed them, by the leave of God, and David slew Goliath; and God gave him the kingship, and Wisdom, and He taught him such as He willed. Had God not driven back the people, some by the means of others, the earth had surely corrupted; but God is bounteous unto all beings.\n",
       "7 | 214 | m1 | &nbsp; | &nbsp; | Or did you suppose you should enter Paradise without there had come upon you the like of those who passed away before you? They were afflicted by misery and hardship and were so convulsed, that the Messenger and those who believed with him said, 'When comes God's help?' Ah, but surely God's help is nigh.\n",
       "7 | 216 | m3 | &nbsp; | &nbsp; | Prescribed for you is fighting, though it be hateful to you. Yet it may happen that you will hate a thing which is better for you; and it may happen that you will love a thing which is worse for you; God knows, and you know not.\n",
       "7 | 215 | m2 | &nbsp; | &nbsp; | They will question thee concerning what they should expend. Say: 'Whatsoever good you expend is for parents and kinsmen, orphans, the needy, and the traveller; and whatever good you may do, God has knowledge of it.'\n",
       "8 | 254 | b1 | vocative | ya`^ | O believers, expend of that wherewith We have provided you, before there comes a day wherein shall be neither traffick, nor friendship, nor intercession; and the unbelievers -- they are the evildoers.\n",
       "8 | 284 | e3 | &nbsp; | &nbsp; | To God belongs all that is in the heavers and earth. Whether you publish what is in your hearts or hide it, God shall make reckoning with you for it. He will forgive whom He will, and chastise whom He will; God is powerful over everything.\n",
       "8 | 255 | b2 | &nbsp; | &nbsp; | God there is no god but He, the Living, the Everlasting. Slumber seizes Him not, neither sleep; to Him belongs all that is in the heavens and the earth. Who is there that shall intercede with Him save by His leave? He knows what lies before them and what is after them, and they comprehend not anything of His knowledge save such as He wills. His Throne comprises the heavens and earth; the preserving of them oppresses Him not; He is the All-high, the All-glorious.\n",
       "8 | 283 | e2 | resumption | wa | And if you are upon a journey, and you do not find a writer, then a pledge in hand. But if one of you trusts another, let him who is trusted deliver his trust, and let him fear God his Lord. And do not conceal the testimony; whoso conceals it, his heart is sinful; and God has knowledge of the things you do.\n",
       "8 | 256 | b3 | &nbsp; | &nbsp; | No compulsion is there in religion. Rectitude has become clear from error. So whosoever disbelieves in idols and believes in God, has laid hold of the most firm handle, unbreaking; God is All-hearing, All-knowing.\n",
       "8 | 282 | e1 | vocative | ya`^ | O believers, when you contract a debt one upon another for a stated term, write it down, and let a writer write it down between you justly, and let not any writer refuse to write it down, as God has taught him; so let him write, and let the debtor dictate, and let him fear God his Lord and not diminish aught of it. And if the debtor be a fool, or weak, or unable to dictate himself, then let his guardian dictate justly. And call in to witness two witnesses, men; or if the two be not men, then one man and two women, such witnesses as you approve of, that if one of the two women errs the other will remind her; and let the witnesses not refuse, whenever they are summoned. And be not loth to write it down, whether it be small or great, with its term; that is more equitable in God's sight, more upright for testimony, and likelier that you will not be in doubt. Unless it be merchandise present that you give and take between you; then it shall be no fault in you if you do not write it down. And take witnesses when you are trafficking one with another. And let not either writer or witness be pressed; or if you do, that is ungodliness in you. And fear God; God teaches you, and God has knowledge of everything.\n",
       "8 | 268 | m1 | &nbsp; | &nbsp; | Satan promises you poverty, and bids you unto indecency; but God promises you His pardon and His bounty; and God is All-embracing, All-knowing.\n",
       "8 | 270 | m3 | resumption | wa | And whatever expenditure you expend, and whatever vow you vow, surely God knows it. No helpers have the evildoers.\n",
       "8 | 269 | m2 | &nbsp; | &nbsp; | He gives the Wisdom to whomsoever He will, and whoso is given the Wisdom, has been given much good; yet none remembers but men possessed of minds.\n",
       "9 | 285 | b1 | &nbsp; | &nbsp; | The Messenger believes in what was sent down to him from his Lord, and the believers; each one believes in God and His angels, and in His Books and His Messengers; we make no division between any one of His Messengers. They say, 'We hear, and obey. Our Lord, grant us Thy forgiveness; unto Thee is the homecoming.'\n",
       "9 | 286 | e3 | &nbsp; | &nbsp; | God charges no soul save to its capacity; standing to its account is what it has earned, and against its account what it has merited. Our Lord, take us not to task if we forget, or make mistake. Our Lord; charge us not with a load such as Thou didst lay upon those before us. Our Lord, do Thou not burden us beyond what we have the strength to bear. And pardon us, and forgive us, and have mercy on us; Thou art our Protector. And help us against the people of the unbelievers.\n",
       "9 | 286 | b2 | &nbsp; | &nbsp; | God charges no soul save to its capacity; standing to its account is what it has earned, and against its account what it has merited. Our Lord, take us not to task if we forget, or make mistake. Our Lord; charge us not with a load such as Thou didst lay upon those before us. Our Lord, do Thou not burden us beyond what we have the strength to bear. And pardon us, and forgive us, and have mercy on us; Thou art our Protector. And help us against the people of the unbelievers.\n",
       "9 | 285 | e2 | &nbsp; | &nbsp; | The Messenger believes in what was sent down to him from his Lord, and the believers; each one believes in God and His angels, and in His Books and His Messengers; we make no division between any one of His Messengers. They say, 'We hear, and obey. Our Lord, grant us Thy forgiveness; unto Thee is the homecoming.'\n",
       "9 | 1 | b3 | &nbsp; | &nbsp; | Alif Lam Mim\n",
       "9 | 284 | e1 | &nbsp; | &nbsp; | To God belongs all that is in the heavers and earth. Whether you publish what is in your hearts or hide it, God shall make reckoning with you for it. He will forgive whom He will, and chastise whom He will; God is powerful over everything.\n",
       "9 | 284 | m1 | &nbsp; | &nbsp; | To God belongs all that is in the heavers and earth. Whether you publish what is in your hearts or hide it, God shall make reckoning with you for it. He will forgive whom He will, and chastise whom He will; God is powerful over everything.\n",
       "9 | 286 | m3 | &nbsp; | &nbsp; | God charges no soul save to its capacity; standing to its account is what it has earned, and against its account what it has merited. Our Lord, take us not to task if we forget, or make mistake. Our Lord; charge us not with a load such as Thou didst lay upon those before us. Our Lord, do Thou not burden us beyond what we have the strength to bear. And pardon us, and forgive us, and have mercy on us; Thou art our Protector. And help us against the people of the unbelievers.\n",
       "9 | 285 | m2 | &nbsp; | &nbsp; | The Messenger believes in what was sent down to him from his Lord, and the believers; each one believes in God and His angels, and in His Books and His Messengers; we make no division between any one of His Messengers. They say, 'We hear, and obey. Our Lord, grant us Thy forgiveness; unto Thee is the homecoming.'\n"
      ],
      "text/plain": [
       "<IPython.core.display.Markdown object>"
      ]
     },
     "metadata": {},
     "output_type": "display_data"
    }
   ],
   "source": [
    "dm(markdown)"
   ]
  },
  {
   "cell_type": "markdown",
   "metadata": {},
   "source": [
    "# Sentiment Mining (primitive)\n",
    "\n",
    "As the article points out, sections often start by speaking to *good* people or actions, and end with condemning *bad*\n",
    "people or actions. Can we base sentiment mining on this idea?"
   ]
  },
  {
   "cell_type": "markdown",
   "metadata": {},
   "source": [
    "## Positivity located in the rings\n",
    "\n",
    "If a verb, noun or adjective occurs in an e1, e2, or e3 aya, its positivity is deccreased by 1, if it occurs in a b1, b2, b3 it is increased by 1.\n",
    "\n",
    "This is very crude, because we have taken the ring structure very rigidly.\n",
    "In the actual text, there might be ayas that are less pertinent to the ring structure, and the middle of the ring \n",
    "does not have to coincide with the exact middle aya of the section.\n",
    "\n",
    "It is up to the expert to devise additional heuristics that help to identify the rings in a more precise mannner."
   ]
  },
  {
   "cell_type": "markdown",
   "metadata": {},
   "source": [
    "## Calculating positivity\n",
    "\n",
    "Now we are going to assign a positivity to all lemmas (verb, noun or adjective) of the sura."
   ]
  },
  {
   "cell_type": "code",
   "execution_count": 29,
   "metadata": {},
   "outputs": [],
   "source": [
    "positivity = collections.Counter()\n",
    "contentCats = {'verb', 'noun', 'word'}\n",
    "\n",
    "for (i, (beginAnum, endAnum)) in enumerate(sections):\n",
    "  ayas = {}\n",
    "  ayas['b1'] = T.nodeFromSection((2, beginAnum))\n",
    "  ayas['e3'] = T.nodeFromSection((2, endAnum))\n",
    "  ayas['m2'] = (ayas['b1'] + ayas['e3']) // 2\n",
    "  ayas['b2'] = ayas['b1'] + 1\n",
    "  ayas['b3'] = ayas['b1'] + 2\n",
    "  ayas['m1'] = ayas['m2'] - 1\n",
    "  ayas['m3'] = ayas['m2'] + 1\n",
    "  ayas['e1'] = ayas['e3'] - 2\n",
    "  ayas['e2'] = ayas['e3'] - 1\n",
    "  for aName in 'b1 e3 b2 e2 b3 e1 m1 m3 m2'.split():\n",
    "    a = ayas[aName]\n",
    "    pos = 1 if aName.startswith('b') else -1 if aName.startswith('e') else 0\n",
    "    for w in L.d(a, otype='word'):\n",
    "      if F.pos.v(w) in contentCats:\n",
    "        positivity[F.lemma.v(w)] += pos"
   ]
  },
  {
   "cell_type": "markdown",
   "metadata": {},
   "source": [
    "## Table of lemmas and their positivity\n",
    "\n",
    "We show the positivity of the lemmas of this sura."
   ]
  },
  {
   "cell_type": "code",
   "execution_count": 30,
   "metadata": {},
   "outputs": [
    {
     "name": "stdout",
     "output_type": "stream",
     "text": [
      ">ay~uhaA             has positivity  4\n",
      "'aAmana              has positivity  3\n",
      "Eabod                has positivity  3\n",
      "jaEala               has positivity  3\n",
      "qibolap              has positivity  3\n",
      ">anfaqa              has positivity  2\n",
      ">ataY                has positivity  2\n",
      ">awofaY`             has positivity  2\n",
      ">unvaY`              has positivity  2\n",
      "Hay~                 has positivity  2\n",
      "Hur~                 has positivity  2\n",
      "hadaY                has positivity  2\n",
      "mivol                has positivity  2\n",
      "m~aEoruwf            has positivity  2\n",
      "qabol                has positivity  2\n",
      "qiSaAS               has positivity  2\n",
      "raHomap              has positivity  2\n",
      "rayob                has positivity  2\n",
      "razaqa               has positivity  2\n",
      "samaA^'              has positivity  2\n",
      "vamara`t             has positivity  2\n",
      "xayor                has positivity  2\n",
      "$afa`Eap             has positivity  1\n",
      "<iHosa`n             has positivity  1\n",
      "<ikoraAh             has positivity  1\n",
      "<ila`h               has positivity  1\n",
      "<isoraA}iyl          has positivity  1\n",
      "<iyma`n              has positivity  1\n",
      ">aDaAEu              has positivity  1\n",
      ">aHaATa              has positivity  1\n",
      ">adaA^'              has positivity  1\n",
      ">ahol                has positivity  1\n",
      ">aloba`b             has positivity  1\n",
      ">andaAd              has positivity  1\n",
      ">anoEama             has positivity  1\n",
      ">ansaY`              has positivity  1\n",
      ">anzala              has positivity  1\n",
      ">aqorab              has positivity  1\n",
      ">aw~al               has positivity  1\n",
      ">ax                  has positivity  1\n",
      ">axa*a               has positivity  1\n",
      ">axoraja             has positivity  1\n",
      ">uwliY               has positivity  1\n",
      "Ea*aAb               has positivity  1\n",
      "Eabada               has positivity  1\n",
      "EafaA                has positivity  1\n",
      "Eahod                has positivity  1\n",
      "Ealima               has positivity  1\n",
      "Ealiy~               has positivity  1\n",
      "Eaqib                has positivity  1\n",
      "Eilom                has positivity  1\n",
      "Eurowap              has positivity  1\n",
      "HaDara               has positivity  1\n",
      "Hayaw`p              has positivity  1\n",
      "HifoZ                has positivity  1\n",
      "SaAbir               has positivity  1\n",
      "SaAdiq               has positivity  1\n",
      "Sabor                has positivity  1\n",
      "Salaw`p              has positivity  1\n",
      "Sira`T               has positivity  1\n",
      "T~a`guwt             has positivity  1\n",
      "ZaAlim               has positivity  1\n",
      "ba`Til               has positivity  1\n",
      "balawo               has positivity  1\n",
      "bayoE                has positivity  1\n",
      "binaA^'              has positivity  1\n",
      "bu$~ira              has positivity  1\n",
      "bunaY~               has positivity  1\n",
      "diyn                 has positivity  1\n",
      "duwn                 has positivity  1\n",
      "fira`$               has positivity  1\n",
      "gayob                has positivity  1\n",
      "gay~                 has positivity  1\n",
      "juwE                 has positivity  1\n",
      "kaAfir               has positivity  1\n",
      "ka`firuwn            has positivity  1\n",
      "kabiyrap             has positivity  1\n",
      "kurosiy~             has positivity  1\n",
      "labaso               has positivity  1\n",
      "maA^'                has positivity  1\n",
      "mu$orik              has positivity  1\n",
      "muSad~iq             has positivity  1\n",
      "mut~aqiyn            has positivity  1\n",
      "m~ay~it              has positivity  1\n",
      "naqoS                has positivity  1\n",
      "nawom                has positivity  1\n",
      "naz~ala              has positivity  1\n",
      "n~aAs                has positivity  1\n",
      "n~aZara              has positivity  1\n",
      "qatolaY              has positivity  1\n",
      "ra'aA                has positivity  1\n",
      "ra'uwf               has positivity  1\n",
      "ra`Ei                has positivity  1\n",
      "rizoq                has positivity  1\n",
      "ru$od                has positivity  1\n",
      "samiEa               has positivity  1\n",
      "samiyE               has positivity  1\n",
      "sinap                has positivity  1\n",
      "suwrap               has positivity  1\n",
      "tabay~ana            has positivity  1\n",
      "taqal~ub             has positivity  1\n",
      "taraka               has positivity  1\n",
      "taxofiyf             has positivity  1\n",
      "vaman                has positivity  1\n",
      "waAlid               has positivity  1\n",
      "waSiy~ap             has positivity  1\n",
      "wad~a                has positivity  1\n",
      "wal~aY`              has positivity  1\n",
      "wasiEa               has positivity  1\n",
      "xalaqa               has positivity  1\n",
      "xul~ap               has positivity  1\n",
      "ya$oEuru             has positivity  1\n",
      "ya$ofaEu             has positivity  1\n",
      "ya_#uwdu             has positivity  1\n",
      "yad                  has positivity  1\n",
      "yansaxu              has positivity  1\n",
      "yarohabu             has positivity  1\n",
      "yaxotaS~u            has positivity  1\n",
      "{EotadaY`            has positivity  1\n",
      "{nfiSaAm             has positivity  1\n",
      "{nqalaba             has positivity  1\n",
      "{sotaEiynu           has positivity  1\n",
      "{sotamosaka          has positivity  1\n",
      "{t~ibaAE             has positivity  1\n",
      "$adiyd               has positivity  0\n",
      "$ar~                 has positivity  0\n",
      "$iyap                has positivity  0\n",
      "*ubiHa               has positivity  0\n",
      "<iSor                has positivity  0\n",
      ">a$ad~               has positivity  0\n",
      ">aHobabo             has positivity  0\n",
      ">aHoyaA              has positivity  0\n",
      ">aTaAEa              has positivity  0\n",
      ">afosadu             has positivity  0\n",
      ">amara               has positivity  0\n",
      ">an[ba>a             has positivity  0\n",
      ">aqaAma              has positivity  0\n",
      ">aroD                has positivity  0\n",
      ">avaAru              has positivity  0\n",
      ">axoTa>o             has positivity  0\n",
      ">um~ap               has positivity  0\n",
      "Eaqalu               has positivity  0\n",
      "EaraDa               has positivity  0\n",
      "Earafa               has positivity  0\n",
      "EasaY                has positivity  0\n",
      "Hamala               has positivity  0\n",
      "Hamod                has positivity  0\n",
      "Haq~                 has positivity  0\n",
      "Harov                has positivity  0\n",
      "Hasiba               has positivity  0\n",
      "Hum~ila              has positivity  0\n",
      "TaAqap               has positivity  0\n",
      "baHor                has positivity  0\n",
      "baqar                has positivity  0\n",
      "baqarap              has positivity  0\n",
      "bav~a                has positivity  0\n",
      "bay~anu              has positivity  0\n",
      "daA^b~ap             has positivity  0\n",
      "daEaA                has positivity  0\n",
      "dam                  has positivity  0\n",
      "daxala               has positivity  0\n",
      "faDol                has positivity  0\n",
      "faHo$aA^'            has positivity  0\n",
      "faqor                has positivity  0\n",
      "fulok                has positivity  0\n",
      "ga`fil               has positivity  0\n",
      "guforaAn             has positivity  0\n",
      "jaAEil               has positivity  0\n",
      "jan~ap               has positivity  0\n",
      "jarayo               has positivity  0\n",
      "jazaY`               has positivity  0\n",
      "ka*aba               has positivity  0\n",
      "kariha               has positivity  0\n",
      "kuroh                has positivity  0\n",
      "layol                has positivity  0\n",
      "ma$oriq              has positivity  0\n",
      "maAl                 has positivity  0\n",
      "maSiyr               has positivity  0\n",
      "magorib              has positivity  0\n",
      "masojid              has positivity  0\n",
      "mas~a                has positivity  0\n",
      "maval                has positivity  0\n",
      "mawolaY`             has positivity  0\n",
      "mawot                has positivity  0\n",
      "mu&omin              has positivity  0\n",
      "muSoliH              has positivity  0\n",
      "mumotariyn           has positivity  0\n",
      "muwal~iy             has positivity  0\n",
      "muxorij              has positivity  0\n",
      "m~araD               has positivity  0\n",
      "m~uhotaduwn          has positivity  0\n",
      "na*aro               has positivity  0\n",
      "naSara               has positivity  0\n",
      "naSiyr               has positivity  0\n",
      "naSor                has positivity  0\n",
      "nafaqap              has positivity  0\n",
      "nahaAr               has positivity  0\n",
      "nasiYa               has positivity  0\n",
      "niEomap              has positivity  0\n",
      "nuqad~isu            has positivity  0\n",
      "n~a*or               has positivity  0\n",
      "qaAla                has positivity  0\n",
      "qariyb               has positivity  0\n",
      "qatala               has positivity  0\n",
      "qawom                has positivity  0\n",
      "qitaAl               has positivity  0\n",
      "quw~ap               has positivity  0\n",
      "riyH                 has positivity  0\n",
      "r~aDiYa              has positivity  0\n",
      "r~aHima              has positivity  0\n",
      "saHaAb               has positivity  0\n",
      "sabab                has positivity  0\n",
      "sabiyl               has positivity  0\n",
      "saboE                has positivity  0\n",
      "sab~aHa              has positivity  0\n",
      "safiyh               has positivity  0\n",
      "saqaY`               has positivity  0\n",
      "saw~aY`              has positivity  0\n",
      "ta$a`baha            has positivity  0\n",
      "ta*ak~ara            has positivity  0\n",
      "taSoriyf             has positivity  0\n",
      "tabar~a>a            has positivity  0\n",
      "tilaAwat             has positivity  0\n",
      "t~aqaT~aEa           has positivity  0\n",
      "waEada               has positivity  0\n",
      "wa`siE               has positivity  0\n",
      "wajoh                has positivity  0\n",
      "wijohap              has positivity  0\n",
      "wusoE                has positivity  0\n",
      "xa`siriyn            has positivity  0\n",
      "xaliyfap             has positivity  0\n",
      "xaloq                has positivity  0\n",
      "xawof                has positivity  0\n",
      "xayora`t             has positivity  0\n",
      "yaqobalu             has positivity  0\n",
      "yasofiku             has positivity  0\n",
      "yawom                has positivity  0\n",
      "yaxodaEu             has positivity  0\n",
      "yu&aAxi*u            has positivity  0\n",
      "yukal~ifu            has positivity  0\n",
      "yuxa`diEu            has positivity  0\n",
      "zaAda                has positivity  0\n",
      "zulozilu             has positivity  0\n",
      "{d~a`ra`#o           has positivity  0\n",
      "{kotasaba            has positivity  0\n",
      "{som                 has positivity  0\n",
      "{sotabaqa            has positivity  0\n",
      "{sotawaY`^           has positivity  0\n",
      "{t~abaEa             has positivity  0\n",
      "{t~axa*a             has positivity  0\n",
      "{xotila`f            has positivity  0\n",
      "$aYo'                has positivity -1\n",
      "$ahiyd               has positivity -1\n",
      "$akara               has positivity -1\n",
      "$ara                 has positivity -1\n",
      "$iqaAq               has positivity -1\n",
      "'aAyap               has positivity -1\n",
      "*ahaba               has positivity -1\n",
      "*akara               has positivity -1\n",
      "*uk~ira              has positivity -1\n",
      "*uw                  has positivity -1\n",
      "<i*on                has positivity -1\n",
      "<iboraAhiym          has positivity -1\n",
      "<isoHaAq             has positivity -1\n",
      "<isomaAEiyl          has positivity -1\n",
      ">a$ohada             has positivity -1\n",
      ">aDaA^'a             has positivity -1\n",
      ">aEolam              has positivity -1\n",
      ">aEomaY`             has positivity -1\n",
      ">aHad                has positivity -1\n",
      ">aSa`biE             has positivity -1\n",
      ">aSam~               has positivity -1\n",
      ">aSoHa`b             has positivity -1\n",
      ">aZolam              has positivity -1\n",
      ">aZolama             has positivity -1\n",
      ">abokam              has positivity -1\n",
      ">adonaY`             has positivity -1\n",
      ">ama`nat             has positivity -1\n",
      ">amina               has positivity -1\n",
      ">aqosaT              has positivity -1\n",
      ">aqowam              has positivity -1\n",
      ">araAda              has positivity -1\n",
      ">arosala             has positivity -1\n",
      ">asobaAT             has positivity -1\n",
      ">atam~a              has positivity -1\n",
      ">ay~ada              has positivity -1\n",
      ">u*unN               has positivity -1\n",
      "A^dam                has positivity -1\n",
      "A^vim                has positivity -1\n",
      "A^xar                has positivity -1\n",
      "A^xir                has positivity -1\n",
      "DaA^r~               has positivity -1\n",
      "DaEiyf               has positivity -1\n",
      "Dala`lap             has positivity -1\n",
      "Dal~a                has positivity -1\n",
      "Dar~aA^'             has positivity -1\n",
      "Ea`hada              has positivity -1\n",
      "Ea`lamiyn            has positivity -1\n",
      "EiysaY               has positivity -1\n",
      "Ha*ar                has positivity -1\n",
      "HaA^j~a              has positivity -1\n",
      "Hayov                has positivity -1\n",
      "Hub~                 has positivity -1\n",
      "Huj~ap               has positivity -1\n",
      "SaAEiqap             has positivity -1\n",
      "Sabara               has positivity -1\n",
      "Sadaqa               has positivity -1\n",
      "Sagiyr               has positivity -1\n",
      "Say~ib               has positivity -1\n",
      "Zahor                has positivity -1\n",
      "Zalama               has positivity -1\n",
      "Zuluma`t             has positivity -1\n",
      "ba>os                has positivity -1\n",
      "ba>osaA^'            has positivity -1\n",
      "baAbil               has positivity -1\n",
      "bi}osa               has positivity -1\n",
      "daAwud               has positivity -1\n",
      "dafoE                has positivity -1\n",
      "darajap              has positivity -1\n",
      "dayon                has positivity -1\n",
      "faD~ala              has positivity -1\n",
      "fariyq               has positivity -1\n",
      "far~aqu              has positivity -1\n",
      "fasadati             has positivity -1\n",
      "fitonap              has positivity -1\n",
      "fusuwq               has positivity -1\n",
      "ha`ruwt              has positivity -1\n",
      "hazamu               has positivity -1\n",
      "huwd2                has positivity -1\n",
      "jaAluwt              has positivity -1\n",
      "jamiyE               has positivity -1\n",
      "junaAH               has positivity -1\n",
      "ka*~aba              has positivity -1\n",
      "kaAda                has positivity -1\n",
      "kaAna                has positivity -1\n",
      "kabiyr               has positivity -1\n",
      "kalima`t             has positivity -1\n",
      "kal~ama              has positivity -1\n",
      "ma`ruwt              has positivity -1\n",
      "maro'                has positivity -1\n",
      "maroyam              has positivity -1\n",
      "mavuwbap             has positivity -1\n",
      "misokiyn             has positivity -1\n",
      "muHiyT               has positivity -1\n",
      "muwfuwn              has positivity -1\n",
      "muxoliS              has positivity -1\n",
      "m~a$a                has positivity -1\n",
      "m~agofirap           has positivity -1\n",
      "m~urosal             has positivity -1\n",
      "naSoraAniy~          has positivity -1\n",
      "naba*a               has positivity -1\n",
      "nafaEa               has positivity -1\n",
      "n~abiY~              has positivity -1\n",
      "qaAma                has positivity -1\n",
      "qalob                has positivity -1\n",
      "qudus                has positivity -1\n",
      "qurobaY`             has positivity -1\n",
      "raEod                has positivity -1\n",
      "rab~                 has positivity -1\n",
      "rafaEa               has positivity -1\n",
      "rajaEa               has positivity -1\n",
      "raqabap              has positivity -1\n",
      "rasuwl               has positivity -1\n",
      "riha`n               has positivity -1\n",
      "rijaAl               has positivity -1\n",
      "ruwH                 has positivity -1\n",
      "sa>ala               has positivity -1\n",
      "saA^}il              has positivity -1\n",
      "safar                has positivity -1\n",
      "samoE                has positivity -1\n",
      "siHor                has positivity -1\n",
      "taAba                has positivity -1\n",
      "tabaAyaEo            has positivity -1\n",
      "tabiEa               has positivity -1\n",
      "tadaAyan             has positivity -1\n",
      "talaq~aY`^           has positivity -1\n",
      "taw~aAb              has positivity -1\n",
      "tija`rap             has positivity -1\n",
      "tudiyru              has positivity -1\n",
      "wajada               has positivity -1\n",
      "waliY~               has positivity -1\n",
      "xaTifa               has positivity -1\n",
      "xa`lid               has positivity -1\n",
      "xalaA                has positivity -1\n",
      "xala`q               has positivity -1\n",
      "xaraja               has positivity -1\n",
      "yaDur~a              has positivity -1\n",
      "yaEoquwb             has positivity -1\n",
      "yaHozun              has positivity -1\n",
      "yaboxaso             has positivity -1\n",
      "yahobiTu             has positivity -1\n",
      "yaso_#amu            has positivity -1\n",
      "yatiym               has positivity -1\n",
      "yu&ad~i              has positivity -1\n",
      "yuDaA^r~a            has positivity -1\n",
      "zakaw`p              has positivity -1\n",
      "zak~aY`              has positivity -1\n",
      "zawoj                has positivity -1\n",
      "{$otaraY`            has positivity -1\n",
      "{&otumina            has positivity -1\n",
      "{hotadaY`            has positivity -1\n",
      "{mora>at             has positivity -1\n",
      "{rotaAba             has positivity -1\n",
      "{sota$ohidu          has positivity -1\n",
      "{sotaTaAEa           has positivity -1\n",
      "{t~aqaY`             has positivity -1\n",
      "$ayoTa`n             has positivity -2\n",
      "<iHodaY              has positivity -2\n",
      ">abaY                has positivity -2\n",
      ">ajal                has positivity -2\n",
      ">uxofiYa             has positivity -2\n",
      "Ea*~aba              has positivity -2\n",
      "Eadol                has positivity -2\n",
      "Ealiym               has positivity -2\n",
      "Eamal                has positivity -2\n",
      "Eamila               has positivity -2\n",
      "Eind                 has positivity -2\n",
      "HaAsabo              has positivity -2\n",
      "Hikomap              has positivity -2\n",
      "baEod                has positivity -2\n",
      "baSar                has positivity -2\n",
      "baroq                has positivity -2\n",
      "bay~inap             has positivity -2\n",
      "bir~                 has positivity -2\n",
      "faEala               has positivity -2\n",
      "gafara               has positivity -2\n",
      "hudFY                has positivity -2\n",
      "jaA^'a               has positivity -2\n",
      "kasaba               has positivity -2\n",
      "katama               has positivity -2\n",
      "l~ayosa              has positivity -2\n",
      "malak                has positivity -2\n",
      "mulok                has positivity -2\n",
      "naAr                 has positivity -2\n",
      "nafos                has positivity -2\n",
      "qadiyr               has positivity -2\n",
      "rajul                has positivity -2\n",
      "sulayoma`n           has positivity -2\n",
      "xa$iYa               has positivity -2\n",
      "yataEal~amu          has positivity -2\n",
      "yubodiYa             has positivity -2\n",
      "{bon                 has positivity -2\n",
      "{qotatala            has positivity -2\n",
      "{xotalafa            has positivity -2\n",
      "$aha`dap             has positivity -3\n",
      "kita`b               has positivity -3\n",
      "kul~                 has positivity -3\n",
      "talaY`               has positivity -3\n",
      "yumil~a              has positivity -3\n",
      "A^taY                has positivity -4\n",
      "kaAtib               has positivity -4\n",
      "kafara               has positivity -4\n",
      "kataba               has positivity -4\n",
      "$aA^'a               has positivity -5\n",
      "Eal~ama              has positivity -7\n",
      "baEoD                has positivity -7\n",
      "{ll~ah               has positivity -21\n"
     ]
    }
   ],
   "source": [
    "for (lemma, pos) in sorted(\n",
    "  positivity.items(),\n",
    "  key=lambda x: (-x[1], x[0]),\n",
    "):\n",
    "  print(f'{lemma:<20} has positivity {pos:>2}')"
   ]
  },
  {
   "cell_type": "markdown",
   "metadata": {},
   "source": [
    "## Coloring the sura\n",
    "\n",
    "Finally, we display the whole sura with words colored according to their positivity or negativity.\n",
    "\n"
   ]
  },
  {
   "cell_type": "markdown",
   "metadata": {},
   "source": [
    "### Color gradients\n",
    "\n",
    "Negative words marked red, and postive ones marked green.\n",
    "The farther from zero, the darker the color.\n",
    "\n",
    "The \n",
    "[HSL scheme](https://developer.mozilla.org/en-US/docs/Web/CSS/color_value#HSL_colors)\n",
    "of color specification is very convenient here."
   ]
  },
  {
   "cell_type": "code",
   "execution_count": 31,
   "metadata": {},
   "outputs": [],
   "source": [
    "def posColor(p):\n",
    "  if p <= -20:\n",
    "    return 'hsl(0, 100%, 50%)'\n",
    "  if p <= -5:\n",
    "    return 'hsl(0, 90%, 60%)'\n",
    "  if p <= -3:\n",
    "    return 'hsl(0, 80%, 70%)'\n",
    "  if p == -2:\n",
    "    return 'hsl(30, 80%, 70%)'\n",
    "  if p == -1:\n",
    "    return 'hsl(60, 80%, 70%)'\n",
    "  if p == 0:\n",
    "    return 'hsl(90, 70%, 80%)'\n",
    "  if p == 1:\n",
    "    return 'hsl(120, 80%, 70%)'\n",
    "  if p == 2:\n",
    "    return 'hsl(120, 90%, 80%)'\n",
    "  if p == 3:\n",
    "    return 'hsl(120, 100%, 90%)'\n",
    "  if p == 4:\n",
    "    return 'hsl(120, 100%, 100%)'\n",
    "  if p >= 4:\n",
    "    return 'hsl(150, 100%, 100%)'"
   ]
  },
  {
   "cell_type": "markdown",
   "metadata": {},
   "source": [
    "### Computing highlights\n",
    "\n",
    "We just compute a highlight mapping, much like we did before, but now we are going to highlight\n",
    "all words in the sura that have a positivity or negativity."
   ]
  },
  {
   "cell_type": "code",
   "execution_count": 32,
   "metadata": {},
   "outputs": [],
   "source": [
    "startAyaNodes = set()\n",
    "endAyaNodes = set()\n",
    "\n",
    "for (beginAnum, endAnum) in sections:\n",
    "  beginA = T.nodeFromSection((2, beginAnum))\n",
    "  endA = T.nodeFromSection((2, endAnum))\n",
    "  startAyaNodes.add(beginA)\n",
    "  endAyaNodes.add(endA)\n",
    "highlights = {}\n",
    "\n",
    "for a in sura2Ayas:\n",
    "  words = L.d(a, otype='word')\n",
    "  firstWord = words[0]\n",
    "  isVoc = F.posx.v(firstWord) == 'vocative'\n",
    "  isRes = F.posx.v(firstWord) == 'resumption'\n",
    "  for w in words:\n",
    "    if w == firstWord:\n",
    "      if isVoc or isRes:\n",
    "        highlights[firstWord] = 'lime' if isVoc else 'fuchsia'\n",
    "    if F.lemma.v(w) in positivity:\n",
    "      pos = positivity[F.lemma.v(w)]\n",
    "      highlights[w] = posColor(pos)\n",
    "  if a in startAyaNodes:\n",
    "    highlights[a] = 'gold'\n",
    "  elif a in endAyaNodes:\n",
    "    highlights[a] = 'lightcoral'"
   ]
  },
  {
   "cell_type": "markdown",
   "metadata": {},
   "source": [
    "### Colored sentiment display"
   ]
  },
  {
   "cell_type": "code",
   "execution_count": 33,
   "metadata": {},
   "outputs": [
    {
     "data": {
      "text/html": [
       "<table><tr class=\"tf\"><th class=\"tf\">n</th><th class=\"tf\">p</th><th class=\"tf\">aya</th><th class=\"tf\">word</th></tr>\n",
       "<tr class=\"tf\"><td class=\"tf\">240</td><td class=\"tf\"><span class=\"section ltr\"><a target=\"_blank\" href=\"/#2:240\" title=\"show this passage on Tanzil\" sec=\"2:240\">2:240</a></span></td><td class=\"tf\"><span class=\"plain outer rtl  \" ><span class=\"plain txtu ara rtl\"></span><span class=\"plain  rtl  \" ><span class=\"plain txtu ara rtl\"></span><span class=\"plain  rtl  hl\"  style=\"background-color: fuchsia;\" ><span class=\"txtu ara\">وَ</span></span><span class=\"plain  rtl  \" ><span class=\"txtu ara\">ٱلَّذِينَ </span></span></span><span class=\"plain  rtl  \" ><span class=\"plain txtu ara rtl\"></span><span class=\"plain  rtl  \" ><span class=\"txtu ara\">يُتَوَفَّ</span></span><span class=\"plain  rtl  \" ><span class=\"txtu ara\">وْنَ </span></span></span><span class=\"plain  rtl  \" ><span class=\"plain txtu ara rtl\"></span><span class=\"plain  rtl  \" ><span class=\"txtu ara\">مِن</span></span><span class=\"plain  rtl  \" ><span class=\"txtu ara\">كُمْ </span></span></span><span class=\"plain  rtl  \" ><span class=\"plain txtu ara rtl\"></span><span class=\"plain  rtl  \" ><span class=\"txtu ara\">وَ</span></span><span class=\"plain  rtl  \" ><span class=\"txtu ara\">يَذَرُ</span></span><span class=\"plain  rtl  \" ><span class=\"txtu ara\">ونَ </span></span></span><span class=\"plain  rtl  \" ><span class=\"plain txtu ara rtl\"></span><span class=\"plain  rtl  hl\"  style=\"background-color: hsl(60, 80%, 70%);\" ><span class=\"txtu ara\">أَزْوَٰجًا </span></span></span><span class=\"plain  rtl  \" ><span class=\"plain txtu ara rtl\"></span><span class=\"plain  rtl  hl\"  style=\"background-color: hsl(120, 80%, 70%);\" ><span class=\"txtu ara\">وَصِيَّةً </span></span></span><span class=\"plain  rtl  \" ><span class=\"plain txtu ara rtl\"></span><span class=\"plain  rtl  \" ><span class=\"txtu ara\">لِّ</span></span><span class=\"plain  rtl  hl\"  style=\"background-color: hsl(60, 80%, 70%);\" ><span class=\"txtu ara\">أَزْوَٰجِ</span></span><span class=\"plain  rtl  \" ><span class=\"txtu ara\">هِم </span></span></span><span class=\"plain  rtl  \" ><span class=\"plain txtu ara rtl\"></span><span class=\"plain  rtl  \" ><span class=\"txtu ara\">مَّتَٰعًا </span></span></span><span class=\"plain  rtl  \" ><span class=\"plain txtu ara rtl\"></span><span class=\"plain  rtl  \" ><span class=\"txtu ara\">إِلَى </span></span></span><span class=\"plain  rtl  \" ><span class=\"plain txtu ara rtl\"></span><span class=\"plain  rtl  \" ><span class=\"txtu ara\">ٱلْ</span></span><span class=\"plain  rtl  \" ><span class=\"txtu ara\">حَوْلِ </span></span></span><span class=\"plain  rtl  \" ><span class=\"plain txtu ara rtl\"></span><span class=\"plain  rtl  \" ><span class=\"txtu ara\">غَيْرَ </span></span></span><span class=\"plain  rtl  \" ><span class=\"plain txtu ara rtl\"></span><span class=\"plain  rtl  \" ><span class=\"txtu ara\">إِخْرَاجٍ </span></span></span><span class=\"plain  rtl  \" ><span class=\"plain txtu ara rtl\"></span><span class=\"plain  rtl  \" ><span class=\"txtu ara\">فَ</span></span><span class=\"plain  rtl  \" ><span class=\"txtu ara\">إِنْ </span></span></span><span class=\"plain  rtl  \" ><span class=\"plain txtu ara rtl\"></span><span class=\"plain  rtl  hl\"  style=\"background-color: hsl(60, 80%, 70%);\" ><span class=\"txtu ara\">خَرَجْ</span></span><span class=\"plain  rtl  \" ><span class=\"txtu ara\">نَ </span></span></span><span class=\"plain  rtl  \" ><span class=\"plain txtu ara rtl\"></span><span class=\"plain  rtl  \" ><span class=\"txtu ara\">فَ</span></span><span class=\"plain  rtl  \" ><span class=\"txtu ara\">لَا </span></span></span><span class=\"plain  rtl  \" ><span class=\"plain txtu ara rtl\"></span><span class=\"plain  rtl  hl\"  style=\"background-color: hsl(60, 80%, 70%);\" ><span class=\"txtu ara\">جُنَاحَ </span></span></span><span class=\"plain  rtl  \" ><span class=\"plain txtu ara rtl\"></span><span class=\"plain  rtl  \" ><span class=\"txtu ara\">عَلَيْ</span></span><span class=\"plain  rtl  \" ><span class=\"txtu ara\">كُمْ </span></span></span><span class=\"plain  rtl  \" ><span class=\"plain txtu ara rtl\"></span><span class=\"plain  rtl  \" ><span class=\"txtu ara\">فِى </span></span></span><span class=\"plain  rtl  \" ><span class=\"plain txtu ara rtl\"></span><span class=\"plain  rtl  \" ><span class=\"txtu ara\">مَا </span></span></span><span class=\"plain  rtl  \" ><span class=\"plain txtu ara rtl\"></span><span class=\"plain  rtl  hl\"  style=\"background-color: hsl(30, 80%, 70%);\" ><span class=\"txtu ara\">فَعَلْ</span></span><span class=\"plain  rtl  \" ><span class=\"txtu ara\">نَ </span></span></span><span class=\"plain  rtl  \" ><span class=\"plain txtu ara rtl\"></span><span class=\"plain  rtl  \" ><span class=\"txtu ara\">فِىٓ </span></span></span><span class=\"plain  rtl  \" ><span class=\"plain txtu ara rtl\"></span><span class=\"plain  rtl  hl\"  style=\"background-color: hsl(30, 80%, 70%);\" ><span class=\"txtu ara\">أَنفُسِ</span></span><span class=\"plain  rtl  \" ><span class=\"txtu ara\">هِنَّ </span></span></span><span class=\"plain  rtl  \" ><span class=\"plain txtu ara rtl\"></span><span class=\"plain  rtl  \" ><span class=\"txtu ara\">مِن </span></span></span><span class=\"plain  rtl  \" ><span class=\"plain txtu ara rtl\"></span><span class=\"plain  rtl  hl\"  style=\"background-color: hsl(120, 90%, 80%);\" ><span class=\"txtu ara\">مَّعْرُوفٍ </span></span></span><span class=\"plain  rtl  \" ><span class=\"plain txtu ara rtl\"></span><span class=\"plain  rtl  \" ><span class=\"txtu ara\">وَ</span></span><span class=\"plain  rtl  hl\"  style=\"background-color: hsl(0, 100%, 50%);\" ><span class=\"txtu ara\">ٱللَّهُ </span></span></span><span class=\"plain  rtl  \" ><span class=\"plain txtu ara rtl\"></span><span class=\"plain  rtl  \" ><span class=\"txtu ara\">عَزِيزٌ </span></span></span><span class=\"plain  rtl  \" ><span class=\"plain txtu ara rtl\"></span><span class=\"plain  rtl  \" ><span class=\"txtu ara\">حَكِيمٌ</span></span></span></span></td><td class=\"tf\"><span class=\"plain outer rtl  hl\"  style=\"background-color: fuchsia;\" ><span class=\"txtu ara\">وَ</span></span></td></tr>\n",
       "<tr class=\"tf\"><td class=\"tf\">241</td><td class=\"tf\"><span class=\"section ltr\"><a target=\"_blank\" href=\"/#2:241\" title=\"show this passage on Tanzil\" sec=\"2:241\">2:241</a></span></td><td class=\"tf\"><span class=\"plain outer rtl  \" ><span class=\"plain txtu ara rtl\"></span><span class=\"plain  rtl  \" ><span class=\"plain txtu ara rtl\"></span><span class=\"plain  rtl  hl\"  style=\"background-color: fuchsia;\" ><span class=\"txtu ara\">وَ</span></span><span class=\"plain  rtl  \" ><span class=\"txtu ara\">لِ</span></span><span class=\"plain  rtl  \" ><span class=\"txtu ara\">لْ</span></span><span class=\"plain  rtl  \" ><span class=\"txtu ara\">مُطَلَّقَٰتِ </span></span></span><span class=\"plain  rtl  \" ><span class=\"plain txtu ara rtl\"></span><span class=\"plain  rtl  \" ><span class=\"txtu ara\">مَتَٰعٌۢ </span></span></span><span class=\"plain  rtl  \" ><span class=\"plain txtu ara rtl\"></span><span class=\"plain  rtl  \" ><span class=\"txtu ara\">بِ</span></span><span class=\"plain  rtl  \" ><span class=\"txtu ara\">ٱلْ</span></span><span class=\"plain  rtl  hl\"  style=\"background-color: hsl(120, 90%, 80%);\" ><span class=\"txtu ara\">مَعْرُوفِ </span></span></span><span class=\"plain  rtl  \" ><span class=\"plain txtu ara rtl\"></span><span class=\"plain  rtl  hl\"  style=\"background-color: hsl(90, 70%, 80%);\" ><span class=\"txtu ara\">حَقًّا </span></span></span><span class=\"plain  rtl  \" ><span class=\"plain txtu ara rtl\"></span><span class=\"plain  rtl  \" ><span class=\"txtu ara\">عَلَى </span></span></span><span class=\"plain  rtl  \" ><span class=\"plain txtu ara rtl\"></span><span class=\"plain  rtl  \" ><span class=\"txtu ara\">ٱلْ</span></span><span class=\"plain  rtl  hl\"  style=\"background-color: hsl(120, 80%, 70%);\" ><span class=\"txtu ara\">مُتَّقِينَ</span></span></span></span></td><td class=\"tf\"><span class=\"plain outer rtl  hl\"  style=\"background-color: fuchsia;\" ><span class=\"txtu ara\">وَ</span></span></td></tr>\n",
       "<tr class=\"tf\"><td class=\"tf\">242</td><td class=\"tf\"><span class=\"section ltr\"><a target=\"_blank\" href=\"/#2:242\" title=\"show this passage on Tanzil\" sec=\"2:242\">2:242</a></span></td><td class=\"tf\"><span class=\"plain outer rtl  \" ><span class=\"plain txtu ara rtl\"></span><span class=\"plain  rtl  \" ><span class=\"plain txtu ara rtl\"></span><span class=\"plain  rtl  hl\" ><span class=\"txtu ara\">كَ</span></span><span class=\"plain  rtl  \" ><span class=\"txtu ara\">ذَٰلِكَ </span></span></span><span class=\"plain  rtl  \" ><span class=\"plain txtu ara rtl\"></span><span class=\"plain  rtl  hl\"  style=\"background-color: hsl(90, 70%, 80%);\" ><span class=\"txtu ara\">يُبَيِّنُ </span></span></span><span class=\"plain  rtl  \" ><span class=\"plain txtu ara rtl\"></span><span class=\"plain  rtl  hl\"  style=\"background-color: hsl(0, 100%, 50%);\" ><span class=\"txtu ara\">ٱللَّهُ </span></span></span><span class=\"plain  rtl  \" ><span class=\"plain txtu ara rtl\"></span><span class=\"plain  rtl  \" ><span class=\"txtu ara\">لَ</span></span><span class=\"plain  rtl  \" ><span class=\"txtu ara\">كُمْ </span></span></span><span class=\"plain  rtl  \" ><span class=\"plain txtu ara rtl\"></span><span class=\"plain  rtl  hl\"  style=\"background-color: hsl(60, 80%, 70%);\" ><span class=\"txtu ara\">ءَايَٰتِ</span></span><span class=\"plain  rtl  \" ><span class=\"txtu ara\">هِۦ </span></span></span><span class=\"plain  rtl  \" ><span class=\"plain txtu ara rtl\"></span><span class=\"plain  rtl  \" ><span class=\"txtu ara\">لَعَلَّ</span></span><span class=\"plain  rtl  \" ><span class=\"txtu ara\">كُمْ </span></span></span><span class=\"plain  rtl  \" ><span class=\"plain txtu ara rtl\"></span><span class=\"plain  rtl  hl\"  style=\"background-color: hsl(90, 70%, 80%);\" ><span class=\"txtu ara\">تَعْقِلُ</span></span><span class=\"plain  rtl  \" ><span class=\"txtu ara\">ونَ</span></span></span></span></td><td class=\"tf\"><span class=\"plain outer rtl  hl\" ><span class=\"txtu ara\">كَ</span></span></td></tr>\n",
       "<tr class=\"tf\"><td class=\"tf\">243</td><td class=\"tf\"><span class=\"section ltr\"><a target=\"_blank\" href=\"/#2:243\" title=\"show this passage on Tanzil\" sec=\"2:243\">2:243</a></span></td><td class=\"tf\"><span class=\"plain outer rtl  \" ><span class=\"plain txtu ara rtl\"></span><span class=\"plain  rtl  \" ><span class=\"plain txtu ara rtl\"></span><span class=\"plain  rtl  hl\" ><span class=\"txtu ara\">أَ</span></span><span class=\"plain  rtl  \" ><span class=\"txtu ara\">لَمْ </span></span></span><span class=\"plain  rtl  \" ><span class=\"plain txtu ara rtl\"></span><span class=\"plain  rtl  hl\"  style=\"background-color: hsl(120, 80%, 70%);\" ><span class=\"txtu ara\">تَرَ </span></span></span><span class=\"plain  rtl  \" ><span class=\"plain txtu ara rtl\"></span><span class=\"plain  rtl  \" ><span class=\"txtu ara\">إِلَى </span></span></span><span class=\"plain  rtl  \" ><span class=\"plain txtu ara rtl\"></span><span class=\"plain  rtl  \" ><span class=\"txtu ara\">ٱلَّذِينَ </span></span></span><span class=\"plain  rtl  \" ><span class=\"plain txtu ara rtl\"></span><span class=\"plain  rtl  hl\"  style=\"background-color: hsl(60, 80%, 70%);\" ><span class=\"txtu ara\">خَرَجُ</span></span><span class=\"plain  rtl  \" ><span class=\"txtu ara\">وا۟ </span></span></span><span class=\"plain  rtl  \" ><span class=\"plain txtu ara rtl\"></span><span class=\"plain  rtl  \" ><span class=\"txtu ara\">مِن </span></span></span><span class=\"plain  rtl  \" ><span class=\"plain txtu ara rtl\"></span><span class=\"plain  rtl  \" ><span class=\"txtu ara\">دِيَٰرِ</span></span><span class=\"plain  rtl  \" ><span class=\"txtu ara\">هِمْ </span></span></span><span class=\"plain  rtl  \" ><span class=\"plain txtu ara rtl\"></span><span class=\"plain  rtl  \" ><span class=\"txtu ara\">وَ</span></span><span class=\"plain  rtl  \" ><span class=\"txtu ara\">هُمْ </span></span></span><span class=\"plain  rtl  \" ><span class=\"plain txtu ara rtl\"></span><span class=\"plain  rtl  \" ><span class=\"txtu ara\">أُلُوفٌ </span></span></span><span class=\"plain  rtl  \" ><span class=\"plain txtu ara rtl\"></span><span class=\"plain  rtl  hl\"  style=\"background-color: hsl(60, 80%, 70%);\" ><span class=\"txtu ara\">حَذَرَ </span></span></span><span class=\"plain  rtl  \" ><span class=\"plain txtu ara rtl\"></span><span class=\"plain  rtl  \" ><span class=\"txtu ara\">ٱلْ</span></span><span class=\"plain  rtl  hl\"  style=\"background-color: hsl(90, 70%, 80%);\" ><span class=\"txtu ara\">مَوْتِ </span></span></span><span class=\"plain  rtl  \" ><span class=\"plain txtu ara rtl\"></span><span class=\"plain  rtl  \" ><span class=\"txtu ara\">فَ</span></span><span class=\"plain  rtl  hl\"  style=\"background-color: hsl(90, 70%, 80%);\" ><span class=\"txtu ara\">قَالَ </span></span></span><span class=\"plain  rtl  \" ><span class=\"plain txtu ara rtl\"></span><span class=\"plain  rtl  \" ><span class=\"txtu ara\">لَ</span></span><span class=\"plain  rtl  \" ><span class=\"txtu ara\">هُمُ </span></span></span><span class=\"plain  rtl  \" ><span class=\"plain txtu ara rtl\"></span><span class=\"plain  rtl  hl\"  style=\"background-color: hsl(0, 100%, 50%);\" ><span class=\"txtu ara\">ٱللَّهُ </span></span></span><span class=\"plain  rtl  \" ><span class=\"plain txtu ara rtl\"></span><span class=\"plain  rtl  \" ><span class=\"txtu ara\">مُوتُ</span></span><span class=\"plain  rtl  \" ><span class=\"txtu ara\">وا۟ </span></span></span><span class=\"plain  rtl  \" ><span class=\"plain txtu ara rtl\"></span><span class=\"plain  rtl  \" ><span class=\"txtu ara\">ثُمَّ </span></span></span><span class=\"plain  rtl  \" ><span class=\"plain txtu ara rtl\"></span><span class=\"plain  rtl  hl\"  style=\"background-color: hsl(90, 70%, 80%);\" ><span class=\"txtu ara\">أَحْيَٰ</span></span><span class=\"plain  rtl  \" ><span class=\"txtu ara\">هُمْ </span></span></span><span class=\"plain  rtl  \" ><span class=\"plain txtu ara rtl\"></span><span class=\"plain  rtl  \" ><span class=\"txtu ara\">إِنَّ </span></span></span><span class=\"plain  rtl  \" ><span class=\"plain txtu ara rtl\"></span><span class=\"plain  rtl  hl\"  style=\"background-color: hsl(0, 100%, 50%);\" ><span class=\"txtu ara\">ٱللَّهَ </span></span></span><span class=\"plain  rtl  \" ><span class=\"plain txtu ara rtl\"></span><span class=\"plain  rtl  \" ><span class=\"txtu ara\">لَ</span></span><span class=\"plain  rtl  hl\"  style=\"background-color: hsl(60, 80%, 70%);\" ><span class=\"txtu ara\">ذُو </span></span></span><span class=\"plain  rtl  \" ><span class=\"plain txtu ara rtl\"></span><span class=\"plain  rtl  hl\"  style=\"background-color: hsl(90, 70%, 80%);\" ><span class=\"txtu ara\">فَضْلٍ </span></span></span><span class=\"plain  rtl  \" ><span class=\"plain txtu ara rtl\"></span><span class=\"plain  rtl  \" ><span class=\"txtu ara\">عَلَى </span></span></span><span class=\"plain  rtl  \" ><span class=\"plain txtu ara rtl\"></span><span class=\"plain  rtl  \" ><span class=\"txtu ara\">ٱل</span></span><span class=\"plain  rtl  hl\"  style=\"background-color: hsl(120, 80%, 70%);\" ><span class=\"txtu ara\">نَّاسِ </span></span></span><span class=\"plain  rtl  \" ><span class=\"plain txtu ara rtl\"></span><span class=\"plain  rtl  \" ><span class=\"txtu ara\">وَ</span></span><span class=\"plain  rtl  \" ><span class=\"txtu ara\">لَٰكِنَّ </span></span></span><span class=\"plain  rtl  \" ><span class=\"plain txtu ara rtl\"></span><span class=\"plain  rtl  \" ><span class=\"txtu ara\">أَكْثَرَ </span></span></span><span class=\"plain  rtl  \" ><span class=\"plain txtu ara rtl\"></span><span class=\"plain  rtl  \" ><span class=\"txtu ara\">ٱل</span></span><span class=\"plain  rtl  hl\"  style=\"background-color: hsl(120, 80%, 70%);\" ><span class=\"txtu ara\">نَّاسِ </span></span></span><span class=\"plain  rtl  \" ><span class=\"plain txtu ara rtl\"></span><span class=\"plain  rtl  \" ><span class=\"txtu ara\">لَا </span></span></span><span class=\"plain  rtl  \" ><span class=\"plain txtu ara rtl\"></span><span class=\"plain  rtl  hl\"  style=\"background-color: hsl(60, 80%, 70%);\" ><span class=\"txtu ara\">يَشْكُرُ</span></span><span class=\"plain  rtl  \" ><span class=\"txtu ara\">ونَ</span></span></span></span></td><td class=\"tf\"><span class=\"plain outer rtl  hl\" ><span class=\"txtu ara\">أَ</span></span></td></tr>\n",
       "<tr class=\"tf\"><td class=\"tf\">244</td><td class=\"tf\"><span class=\"section ltr\"><a target=\"_blank\" href=\"/#2:244\" title=\"show this passage on Tanzil\" sec=\"2:244\">2:244</a></span></td><td class=\"tf\"><span class=\"plain outer rtl  \" ><span class=\"plain txtu ara rtl\"></span><span class=\"plain  rtl  \" ><span class=\"plain txtu ara rtl\"></span><span class=\"plain  rtl  hl\" ><span class=\"txtu ara\">وَ</span></span><span class=\"plain  rtl  \" ><span class=\"txtu ara\">قَٰتِلُ</span></span><span class=\"plain  rtl  \" ><span class=\"txtu ara\">وا۟ </span></span></span><span class=\"plain  rtl  \" ><span class=\"plain txtu ara rtl\"></span><span class=\"plain  rtl  \" ><span class=\"txtu ara\">فِى </span></span></span><span class=\"plain  rtl  \" ><span class=\"plain txtu ara rtl\"></span><span class=\"plain  rtl  hl\"  style=\"background-color: hsl(90, 70%, 80%);\" ><span class=\"txtu ara\">سَبِيلِ </span></span></span><span class=\"plain  rtl  \" ><span class=\"plain txtu ara rtl\"></span><span class=\"plain  rtl  hl\"  style=\"background-color: hsl(0, 100%, 50%);\" ><span class=\"txtu ara\">ٱللَّهِ </span></span></span><span class=\"plain  rtl  \" ><span class=\"plain txtu ara rtl\"></span><span class=\"plain  rtl  \" ><span class=\"txtu ara\">وَ</span></span><span class=\"plain  rtl  hl\"  style=\"background-color: hsl(120, 80%, 70%);\" ><span class=\"txtu ara\">ٱعْلَمُ</span></span><span class=\"plain  rtl  \" ><span class=\"txtu ara\">وٓا۟ </span></span></span><span class=\"plain  rtl  \" ><span class=\"plain txtu ara rtl\"></span><span class=\"plain  rtl  \" ><span class=\"txtu ara\">أَنَّ </span></span></span><span class=\"plain  rtl  \" ><span class=\"plain txtu ara rtl\"></span><span class=\"plain  rtl  hl\"  style=\"background-color: hsl(0, 100%, 50%);\" ><span class=\"txtu ara\">ٱللَّهَ </span></span></span><span class=\"plain  rtl  \" ><span class=\"plain txtu ara rtl\"></span><span class=\"plain  rtl  hl\"  style=\"background-color: hsl(120, 80%, 70%);\" ><span class=\"txtu ara\">سَمِيعٌ </span></span></span><span class=\"plain  rtl  \" ><span class=\"plain txtu ara rtl\"></span><span class=\"plain  rtl  hl\"  style=\"background-color: hsl(30, 80%, 70%);\" ><span class=\"txtu ara\">عَلِيمٌ</span></span></span></span></td><td class=\"tf\"><span class=\"plain outer rtl  hl\" ><span class=\"txtu ara\">وَ</span></span></td></tr>\n",
       "<tr class=\"tf\"><td class=\"tf\">245</td><td class=\"tf\"><span class=\"section ltr\"><a target=\"_blank\" href=\"/#2:245\" title=\"show this passage on Tanzil\" sec=\"2:245\">2:245</a></span></td><td class=\"tf\"><span class=\"plain outer rtl  \" ><span class=\"plain txtu ara rtl\"></span><span class=\"plain  rtl  \" ><span class=\"plain txtu ara rtl\"></span><span class=\"plain  rtl  hl\" ><span class=\"txtu ara\">مَّن </span></span></span><span class=\"plain  rtl  \" ><span class=\"plain txtu ara rtl\"></span><span class=\"plain  rtl  \" ><span class=\"txtu ara\">ذَا </span></span></span><span class=\"plain  rtl  \" ><span class=\"plain txtu ara rtl\"></span><span class=\"plain  rtl  \" ><span class=\"txtu ara\">ٱلَّذِى </span></span></span><span class=\"plain  rtl  \" ><span class=\"plain txtu ara rtl\"></span><span class=\"plain  rtl  \" ><span class=\"txtu ara\">يُقْرِضُ </span></span></span><span class=\"plain  rtl  \" ><span class=\"plain txtu ara rtl\"></span><span class=\"plain  rtl  hl\"  style=\"background-color: hsl(0, 100%, 50%);\" ><span class=\"txtu ara\">ٱللَّهَ </span></span></span><span class=\"plain  rtl  \" ><span class=\"plain txtu ara rtl\"></span><span class=\"plain  rtl  \" ><span class=\"txtu ara\">قَرْضًا </span></span></span><span class=\"plain  rtl  \" ><span class=\"plain txtu ara rtl\"></span><span class=\"plain  rtl  \" ><span class=\"txtu ara\">حَسَنًا </span></span></span><span class=\"plain  rtl  \" ><span class=\"plain txtu ara rtl\"></span><span class=\"plain  rtl  \" ><span class=\"txtu ara\">فَ</span></span><span class=\"plain  rtl  \" ><span class=\"txtu ara\">يُضَٰعِفَ</span></span><span class=\"plain  rtl  \" ><span class=\"txtu ara\">هُۥ </span></span></span><span class=\"plain  rtl  \" ><span class=\"plain txtu ara rtl\"></span><span class=\"plain  rtl  \" ><span class=\"txtu ara\">لَ</span></span><span class=\"plain  rtl  \" ><span class=\"txtu ara\">هُۥٓ </span></span></span><span class=\"plain  rtl  \" ><span class=\"plain txtu ara rtl\"></span><span class=\"plain  rtl  \" ><span class=\"txtu ara\">أَضْعَافًا </span></span></span><span class=\"plain  rtl  \" ><span class=\"plain txtu ara rtl\"></span><span class=\"plain  rtl  \" ><span class=\"txtu ara\">كَثِيرَةً </span></span></span><span class=\"plain  rtl  \" ><span class=\"plain txtu ara rtl\"></span><span class=\"plain  rtl  \" ><span class=\"txtu ara\">وَ</span></span><span class=\"plain  rtl  hl\"  style=\"background-color: hsl(0, 100%, 50%);\" ><span class=\"txtu ara\">ٱللَّهُ </span></span></span><span class=\"plain  rtl  \" ><span class=\"plain txtu ara rtl\"></span><span class=\"plain  rtl  \" ><span class=\"txtu ara\">يَقْبِضُ </span></span></span><span class=\"plain  rtl  \" ><span class=\"plain txtu ara rtl\"></span><span class=\"plain  rtl  \" ><span class=\"txtu ara\">وَ</span></span><span class=\"plain  rtl  \" ><span class=\"txtu ara\">يَبْصُۜطُ </span></span></span><span class=\"plain  rtl  \" ><span class=\"plain txtu ara rtl\"></span><span class=\"plain  rtl  \" ><span class=\"txtu ara\">وَ</span></span><span class=\"plain  rtl  \" ><span class=\"txtu ara\">إِلَيْ</span></span><span class=\"plain  rtl  \" ><span class=\"txtu ara\">هِ </span></span></span><span class=\"plain  rtl  \" ><span class=\"plain txtu ara rtl\"></span><span class=\"plain  rtl  hl\"  style=\"background-color: hsl(60, 80%, 70%);\" ><span class=\"txtu ara\">تُرْجَعُ</span></span><span class=\"plain  rtl  \" ><span class=\"txtu ara\">ونَ</span></span></span></span></td><td class=\"tf\"><span class=\"plain outer rtl  hl\" ><span class=\"txtu ara\">مَّن </span></span></td></tr>\n",
       "<tr class=\"tf\"><td class=\"tf\">246</td><td class=\"tf\"><span class=\"section ltr\"><a target=\"_blank\" href=\"/#2:246\" title=\"show this passage on Tanzil\" sec=\"2:246\">2:246</a></span></td><td class=\"tf\"><span class=\"plain outer rtl  \" ><span class=\"plain txtu ara rtl\"></span><span class=\"plain  rtl  \" ><span class=\"plain txtu ara rtl\"></span><span class=\"plain  rtl  hl\" ><span class=\"txtu ara\">أَ</span></span><span class=\"plain  rtl  \" ><span class=\"txtu ara\">لَمْ </span></span></span><span class=\"plain  rtl  \" ><span class=\"plain txtu ara rtl\"></span><span class=\"plain  rtl  hl\"  style=\"background-color: hsl(120, 80%, 70%);\" ><span class=\"txtu ara\">تَرَ </span></span></span><span class=\"plain  rtl  \" ><span class=\"plain txtu ara rtl\"></span><span class=\"plain  rtl  \" ><span class=\"txtu ara\">إِلَى </span></span></span><span class=\"plain  rtl  \" ><span class=\"plain txtu ara rtl\"></span><span class=\"plain  rtl  \" ><span class=\"txtu ara\">ٱلْ</span></span><span class=\"plain  rtl  \" ><span class=\"txtu ara\">مَلَإِ </span></span></span><span class=\"plain  rtl  \" ><span class=\"plain txtu ara rtl\"></span><span class=\"plain  rtl  \" ><span class=\"txtu ara\">مِنۢ </span></span></span><span class=\"plain  rtl  \" ><span class=\"plain txtu ara rtl\"></span><span class=\"plain  rtl  hl\"  style=\"background-color: hsl(120, 80%, 70%);\" ><span class=\"txtu ara\">بَنِىٓ </span></span></span><span class=\"plain  rtl  \" ><span class=\"plain txtu ara rtl\"></span><span class=\"plain  rtl  hl\"  style=\"background-color: hsl(120, 80%, 70%);\" ><span class=\"txtu ara\">إِسْرَٰٓءِيلَ </span></span></span><span class=\"plain  rtl  \" ><span class=\"plain txtu ara rtl\"></span><span class=\"plain  rtl  \" ><span class=\"txtu ara\">مِنۢ </span></span></span><span class=\"plain  rtl  \" ><span class=\"plain txtu ara rtl\"></span><span class=\"plain  rtl  hl\"  style=\"background-color: hsl(30, 80%, 70%);\" ><span class=\"txtu ara\">بَعْدِ </span></span></span><span class=\"plain  rtl  \" ><span class=\"plain txtu ara rtl\"></span><span class=\"plain  rtl  \" ><span class=\"txtu ara\">مُوسَىٰٓ </span></span></span><span class=\"plain  rtl  \" ><span class=\"plain txtu ara rtl\"></span><span class=\"plain  rtl  \" ><span class=\"txtu ara\">إِذْ </span></span></span><span class=\"plain  rtl  \" ><span class=\"plain txtu ara rtl\"></span><span class=\"plain  rtl  hl\"  style=\"background-color: hsl(90, 70%, 80%);\" ><span class=\"txtu ara\">قَالُ</span></span><span class=\"plain  rtl  \" ><span class=\"txtu ara\">وا۟ </span></span></span><span class=\"plain  rtl  \" ><span class=\"plain txtu ara rtl\"></span><span class=\"plain  rtl  \" ><span class=\"txtu ara\">لِ</span></span><span class=\"plain  rtl  hl\"  style=\"background-color: hsl(60, 80%, 70%);\" ><span class=\"txtu ara\">نَبِىٍّ </span></span></span><span class=\"plain  rtl  \" ><span class=\"plain txtu ara rtl\"></span><span class=\"plain  rtl  \" ><span class=\"txtu ara\">لَّ</span></span><span class=\"plain  rtl  \" ><span class=\"txtu ara\">هُمُ </span></span></span><span class=\"plain  rtl  \" ><span class=\"plain txtu ara rtl\"></span><span class=\"plain  rtl  \" ><span class=\"txtu ara\">ٱبْعَثْ </span></span></span><span class=\"plain  rtl  \" ><span class=\"plain txtu ara rtl\"></span><span class=\"plain  rtl  \" ><span class=\"txtu ara\">لَ</span></span><span class=\"plain  rtl  \" ><span class=\"txtu ara\">نَا </span></span></span><span class=\"plain  rtl  \" ><span class=\"plain txtu ara rtl\"></span><span class=\"plain  rtl  \" ><span class=\"txtu ara\">مَلِكًا </span></span></span><span class=\"plain  rtl  \" ><span class=\"plain txtu ara rtl\"></span><span class=\"plain  rtl  \" ><span class=\"txtu ara\">نُّقَٰتِلْ </span></span></span><span class=\"plain  rtl  \" ><span class=\"plain txtu ara rtl\"></span><span class=\"plain  rtl  \" ><span class=\"txtu ara\">فِى </span></span></span><span class=\"plain  rtl  \" ><span class=\"plain txtu ara rtl\"></span><span class=\"plain  rtl  hl\"  style=\"background-color: hsl(90, 70%, 80%);\" ><span class=\"txtu ara\">سَبِيلِ </span></span></span><span class=\"plain  rtl  \" ><span class=\"plain txtu ara rtl\"></span><span class=\"plain  rtl  hl\"  style=\"background-color: hsl(0, 100%, 50%);\" ><span class=\"txtu ara\">ٱللَّهِ </span></span></span><span class=\"plain  rtl  \" ><span class=\"plain txtu ara rtl\"></span><span class=\"plain  rtl  hl\"  style=\"background-color: hsl(90, 70%, 80%);\" ><span class=\"txtu ara\">قَالَ </span></span></span><span class=\"plain  rtl  \" ><span class=\"plain txtu ara rtl\"></span><span class=\"plain  rtl  \" ><span class=\"txtu ara\">هَلْ </span></span></span><span class=\"plain  rtl  \" ><span class=\"plain txtu ara rtl\"></span><span class=\"plain  rtl  hl\"  style=\"background-color: hsl(90, 70%, 80%);\" ><span class=\"txtu ara\">عَسَيْ</span></span><span class=\"plain  rtl  \" ><span class=\"txtu ara\">تُمْ </span></span></span><span class=\"plain  rtl  \" ><span class=\"plain txtu ara rtl\"></span><span class=\"plain  rtl  \" ><span class=\"txtu ara\">إِن </span></span></span><span class=\"plain  rtl  \" ><span class=\"plain txtu ara rtl\"></span><span class=\"plain  rtl  hl\"  style=\"background-color: hsl(0, 80%, 70%);\" ><span class=\"txtu ara\">كُتِبَ </span></span></span><span class=\"plain  rtl  \" ><span class=\"plain txtu ara rtl\"></span><span class=\"plain  rtl  \" ><span class=\"txtu ara\">عَلَيْ</span></span><span class=\"plain  rtl  \" ><span class=\"txtu ara\">كُمُ </span></span></span><span class=\"plain  rtl  \" ><span class=\"plain txtu ara rtl\"></span><span class=\"plain  rtl  \" ><span class=\"txtu ara\">ٱلْ</span></span><span class=\"plain  rtl  hl\"  style=\"background-color: hsl(90, 70%, 80%);\" ><span class=\"txtu ara\">قِتَالُ </span></span></span><span class=\"plain  rtl  \" ><span class=\"plain txtu ara rtl\"></span><span class=\"plain  rtl  \" ><span class=\"txtu ara\">أَ</span></span><span class=\"plain  rtl  \" ><span class=\"txtu ara\">لَّا </span></span></span><span class=\"plain  rtl  \" ><span class=\"plain txtu ara rtl\"></span><span class=\"plain  rtl  \" ><span class=\"txtu ara\">تُقَٰتِلُ</span></span><span class=\"plain  rtl  \" ><span class=\"txtu ara\">وا۟ </span></span></span><span class=\"plain  rtl  \" ><span class=\"plain txtu ara rtl\"></span><span class=\"plain  rtl  hl\"  style=\"background-color: hsl(90, 70%, 80%);\" ><span class=\"txtu ara\">قَالُ</span></span><span class=\"plain  rtl  \" ><span class=\"txtu ara\">وا۟ </span></span></span><span class=\"plain  rtl  \" ><span class=\"plain txtu ara rtl\"></span><span class=\"plain  rtl  \" ><span class=\"txtu ara\">وَ</span></span><span class=\"plain  rtl  \" ><span class=\"txtu ara\">مَا </span></span></span><span class=\"plain  rtl  \" ><span class=\"plain txtu ara rtl\"></span><span class=\"plain  rtl  \" ><span class=\"txtu ara\">لَ</span></span><span class=\"plain  rtl  \" ><span class=\"txtu ara\">نَآ </span></span></span><span class=\"plain  rtl  \" ><span class=\"plain txtu ara rtl\"></span><span class=\"plain  rtl  \" ><span class=\"txtu ara\">أَ</span></span><span class=\"plain  rtl  \" ><span class=\"txtu ara\">لَّا </span></span></span><span class=\"plain  rtl  \" ><span class=\"plain txtu ara rtl\"></span><span class=\"plain  rtl  \" ><span class=\"txtu ara\">نُقَٰتِلَ </span></span></span><span class=\"plain  rtl  \" ><span class=\"plain txtu ara rtl\"></span><span class=\"plain  rtl  \" ><span class=\"txtu ara\">فِى </span></span></span><span class=\"plain  rtl  \" ><span class=\"plain txtu ara rtl\"></span><span class=\"plain  rtl  hl\"  style=\"background-color: hsl(90, 70%, 80%);\" ><span class=\"txtu ara\">سَبِيلِ </span></span></span><span class=\"plain  rtl  \" ><span class=\"plain txtu ara rtl\"></span><span class=\"plain  rtl  hl\"  style=\"background-color: hsl(0, 100%, 50%);\" ><span class=\"txtu ara\">ٱللَّهِ </span></span></span><span class=\"plain  rtl  \" ><span class=\"plain txtu ara rtl\"></span><span class=\"plain  rtl  \" ><span class=\"txtu ara\">وَ</span></span><span class=\"plain  rtl  \" ><span class=\"txtu ara\">قَدْ </span></span></span><span class=\"plain  rtl  \" ><span class=\"plain txtu ara rtl\"></span><span class=\"plain  rtl  hl\"  style=\"background-color: hsl(120, 80%, 70%);\" ><span class=\"txtu ara\">أُخْرِجْ</span></span><span class=\"plain  rtl  \" ><span class=\"txtu ara\">نَا </span></span></span><span class=\"plain  rtl  \" ><span class=\"plain txtu ara rtl\"></span><span class=\"plain  rtl  \" ><span class=\"txtu ara\">مِن </span></span></span><span class=\"plain  rtl  \" ><span class=\"plain txtu ara rtl\"></span><span class=\"plain  rtl  \" ><span class=\"txtu ara\">دِيَٰرِ</span></span><span class=\"plain  rtl  \" ><span class=\"txtu ara\">نَا </span></span></span><span class=\"plain  rtl  \" ><span class=\"plain txtu ara rtl\"></span><span class=\"plain  rtl  \" ><span class=\"txtu ara\">وَ</span></span><span class=\"plain  rtl  hl\"  style=\"background-color: hsl(30, 80%, 70%);\" ><span class=\"txtu ara\">أَبْنَآئِ</span></span><span class=\"plain  rtl  \" ><span class=\"txtu ara\">نَا </span></span></span><span class=\"plain  rtl  \" ><span class=\"plain txtu ara rtl\"></span><span class=\"plain  rtl  \" ><span class=\"txtu ara\">فَ</span></span><span class=\"plain  rtl  \" ><span class=\"txtu ara\">لَمَّا </span></span></span><span class=\"plain  rtl  \" ><span class=\"plain txtu ara rtl\"></span><span class=\"plain  rtl  hl\"  style=\"background-color: hsl(0, 80%, 70%);\" ><span class=\"txtu ara\">كُتِبَ </span></span></span><span class=\"plain  rtl  \" ><span class=\"plain txtu ara rtl\"></span><span class=\"plain  rtl  \" ><span class=\"txtu ara\">عَلَيْ</span></span><span class=\"plain  rtl  \" ><span class=\"txtu ara\">هِمُ </span></span></span><span class=\"plain  rtl  \" ><span class=\"plain txtu ara rtl\"></span><span class=\"plain  rtl  \" ><span class=\"txtu ara\">ٱلْ</span></span><span class=\"plain  rtl  hl\"  style=\"background-color: hsl(90, 70%, 80%);\" ><span class=\"txtu ara\">قِتَالُ </span></span></span><span class=\"plain  rtl  \" ><span class=\"plain txtu ara rtl\"></span><span class=\"plain  rtl  \" ><span class=\"txtu ara\">تَوَلَّ</span></span><span class=\"plain  rtl  \" ><span class=\"txtu ara\">وْا۟ </span></span></span><span class=\"plain  rtl  \" ><span class=\"plain txtu ara rtl\"></span><span class=\"plain  rtl  \" ><span class=\"txtu ara\">إِلَّا </span></span></span><span class=\"plain  rtl  \" ><span class=\"plain txtu ara rtl\"></span><span class=\"plain  rtl  \" ><span class=\"txtu ara\">قَلِيلًا </span></span></span><span class=\"plain  rtl  \" ><span class=\"plain txtu ara rtl\"></span><span class=\"plain  rtl  \" ><span class=\"txtu ara\">مِّنْ</span></span><span class=\"plain  rtl  \" ><span class=\"txtu ara\">هُمْ </span></span></span><span class=\"plain  rtl  \" ><span class=\"plain txtu ara rtl\"></span><span class=\"plain  rtl  \" ><span class=\"txtu ara\">وَ</span></span><span class=\"plain  rtl  hl\"  style=\"background-color: hsl(0, 100%, 50%);\" ><span class=\"txtu ara\">ٱللَّهُ </span></span></span><span class=\"plain  rtl  \" ><span class=\"plain txtu ara rtl\"></span><span class=\"plain  rtl  hl\"  style=\"background-color: hsl(30, 80%, 70%);\" ><span class=\"txtu ara\">عَلِيمٌۢ </span></span></span><span class=\"plain  rtl  \" ><span class=\"plain txtu ara rtl\"></span><span class=\"plain  rtl  \" ><span class=\"txtu ara\">بِ</span></span><span class=\"plain  rtl  \" ><span class=\"txtu ara\">ٱل</span></span><span class=\"plain  rtl  hl\"  style=\"background-color: hsl(120, 80%, 70%);\" ><span class=\"txtu ara\">ظَّٰلِمِينَ</span></span></span></span></td><td class=\"tf\"><span class=\"plain outer rtl  hl\" ><span class=\"txtu ara\">أَ</span></span></td></tr>\n",
       "<tr class=\"tf\"><td class=\"tf\">247</td><td class=\"tf\"><span class=\"section ltr\"><a target=\"_blank\" href=\"/#2:247\" title=\"show this passage on Tanzil\" sec=\"2:247\">2:247</a></span></td><td class=\"tf\"><span class=\"plain outer rtl  \" ><span class=\"plain txtu ara rtl\"></span><span class=\"plain  rtl  \" ><span class=\"plain txtu ara rtl\"></span><span class=\"plain  rtl  hl\" ><span class=\"txtu ara\">وَ</span></span><span class=\"plain  rtl  hl\"  style=\"background-color: hsl(90, 70%, 80%);\" ><span class=\"txtu ara\">قَالَ </span></span></span><span class=\"plain  rtl  \" ><span class=\"plain txtu ara rtl\"></span><span class=\"plain  rtl  \" ><span class=\"txtu ara\">لَ</span></span><span class=\"plain  rtl  \" ><span class=\"txtu ara\">هُمْ </span></span></span><span class=\"plain  rtl  \" ><span class=\"plain txtu ara rtl\"></span><span class=\"plain  rtl  hl\"  style=\"background-color: hsl(60, 80%, 70%);\" ><span class=\"txtu ara\">نَبِيُّ</span></span><span class=\"plain  rtl  \" ><span class=\"txtu ara\">هُمْ </span></span></span><span class=\"plain  rtl  \" ><span class=\"plain txtu ara rtl\"></span><span class=\"plain  rtl  \" ><span class=\"txtu ara\">إِنَّ </span></span></span><span class=\"plain  rtl  \" ><span class=\"plain txtu ara rtl\"></span><span class=\"plain  rtl  hl\"  style=\"background-color: hsl(0, 100%, 50%);\" ><span class=\"txtu ara\">ٱللَّهَ </span></span></span><span class=\"plain  rtl  \" ><span class=\"plain txtu ara rtl\"></span><span class=\"plain  rtl  \" ><span class=\"txtu ara\">قَدْ </span></span></span><span class=\"plain  rtl  \" ><span class=\"plain txtu ara rtl\"></span><span class=\"plain  rtl  \" ><span class=\"txtu ara\">بَعَثَ </span></span></span><span class=\"plain  rtl  \" ><span class=\"plain txtu ara rtl\"></span><span class=\"plain  rtl  \" ><span class=\"txtu ara\">لَ</span></span><span class=\"plain  rtl  \" ><span class=\"txtu ara\">كُمْ </span></span></span><span class=\"plain  rtl  \" ><span class=\"plain txtu ara rtl\"></span><span class=\"plain  rtl  \" ><span class=\"txtu ara\">طَالُوتَ </span></span></span><span class=\"plain  rtl  \" ><span class=\"plain txtu ara rtl\"></span><span class=\"plain  rtl  \" ><span class=\"txtu ara\">مَلِكًا </span></span></span><span class=\"plain  rtl  \" ><span class=\"plain txtu ara rtl\"></span><span class=\"plain  rtl  hl\"  style=\"background-color: hsl(90, 70%, 80%);\" ><span class=\"txtu ara\">قَالُ</span></span><span class=\"plain  rtl  \" ><span class=\"txtu ara\">وٓا۟ </span></span></span><span class=\"plain  rtl  \" ><span class=\"plain txtu ara rtl\"></span><span class=\"plain  rtl  \" ><span class=\"txtu ara\">أَنَّىٰ </span></span></span><span class=\"plain  rtl  \" ><span class=\"plain txtu ara rtl\"></span><span class=\"plain  rtl  hl\"  style=\"background-color: hsl(60, 80%, 70%);\" ><span class=\"txtu ara\">يَكُونُ </span></span></span><span class=\"plain  rtl  \" ><span class=\"plain txtu ara rtl\"></span><span class=\"plain  rtl  \" ><span class=\"txtu ara\">لَ</span></span><span class=\"plain  rtl  \" ><span class=\"txtu ara\">هُ </span></span></span><span class=\"plain  rtl  \" ><span class=\"plain txtu ara rtl\"></span><span class=\"plain  rtl  \" ><span class=\"txtu ara\">ٱلْ</span></span><span class=\"plain  rtl  hl\"  style=\"background-color: hsl(30, 80%, 70%);\" ><span class=\"txtu ara\">مُلْكُ </span></span></span><span class=\"plain  rtl  \" ><span class=\"plain txtu ara rtl\"></span><span class=\"plain  rtl  \" ><span class=\"txtu ara\">عَلَيْ</span></span><span class=\"plain  rtl  \" ><span class=\"txtu ara\">نَا </span></span></span><span class=\"plain  rtl  \" ><span class=\"plain txtu ara rtl\"></span><span class=\"plain  rtl  \" ><span class=\"txtu ara\">وَ</span></span><span class=\"plain  rtl  \" ><span class=\"txtu ara\">نَحْنُ </span></span></span><span class=\"plain  rtl  \" ><span class=\"plain txtu ara rtl\"></span><span class=\"plain  rtl  \" ><span class=\"txtu ara\">أَحَقُّ </span></span></span><span class=\"plain  rtl  \" ><span class=\"plain txtu ara rtl\"></span><span class=\"plain  rtl  \" ><span class=\"txtu ara\">بِ</span></span><span class=\"plain  rtl  \" ><span class=\"txtu ara\">ٱلْ</span></span><span class=\"plain  rtl  hl\"  style=\"background-color: hsl(30, 80%, 70%);\" ><span class=\"txtu ara\">مُلْكِ </span></span></span><span class=\"plain  rtl  \" ><span class=\"plain txtu ara rtl\"></span><span class=\"plain  rtl  \" ><span class=\"txtu ara\">مِنْ</span></span><span class=\"plain  rtl  \" ><span class=\"txtu ara\">هُ </span></span></span><span class=\"plain  rtl  \" ><span class=\"plain txtu ara rtl\"></span><span class=\"plain  rtl  \" ><span class=\"txtu ara\">وَ</span></span><span class=\"plain  rtl  \" ><span class=\"txtu ara\">لَمْ </span></span></span><span class=\"plain  rtl  \" ><span class=\"plain txtu ara rtl\"></span><span class=\"plain  rtl  hl\"  style=\"background-color: hsl(0, 80%, 70%);\" ><span class=\"txtu ara\">يُؤْتَ </span></span></span><span class=\"plain  rtl  \" ><span class=\"plain txtu ara rtl\"></span><span class=\"plain  rtl  \" ><span class=\"txtu ara\">سَعَةً </span></span></span><span class=\"plain  rtl  \" ><span class=\"plain txtu ara rtl\"></span><span class=\"plain  rtl  \" ><span class=\"txtu ara\">مِّنَ </span></span></span><span class=\"plain  rtl  \" ><span class=\"plain txtu ara rtl\"></span><span class=\"plain  rtl  \" ><span class=\"txtu ara\">ٱلْ</span></span><span class=\"plain  rtl  hl\"  style=\"background-color: hsl(90, 70%, 80%);\" ><span class=\"txtu ara\">مَالِ </span></span></span><span class=\"plain  rtl  \" ><span class=\"plain txtu ara rtl\"></span><span class=\"plain  rtl  hl\"  style=\"background-color: hsl(90, 70%, 80%);\" ><span class=\"txtu ara\">قَالَ </span></span></span><span class=\"plain  rtl  \" ><span class=\"plain txtu ara rtl\"></span><span class=\"plain  rtl  \" ><span class=\"txtu ara\">إِنَّ </span></span></span><span class=\"plain  rtl  \" ><span class=\"plain txtu ara rtl\"></span><span class=\"plain  rtl  hl\"  style=\"background-color: hsl(0, 100%, 50%);\" ><span class=\"txtu ara\">ٱللَّهَ </span></span></span><span class=\"plain  rtl  \" ><span class=\"plain txtu ara rtl\"></span><span class=\"plain  rtl  \" ><span class=\"txtu ara\">ٱصْطَفَىٰ</span></span><span class=\"plain  rtl  \" ><span class=\"txtu ara\">هُ </span></span></span><span class=\"plain  rtl  \" ><span class=\"plain txtu ara rtl\"></span><span class=\"plain  rtl  \" ><span class=\"txtu ara\">عَلَيْ</span></span><span class=\"plain  rtl  \" ><span class=\"txtu ara\">كُمْ </span></span></span><span class=\"plain  rtl  \" ><span class=\"plain txtu ara rtl\"></span><span class=\"plain  rtl  \" ><span class=\"txtu ara\">وَ</span></span><span class=\"plain  rtl  hl\"  style=\"background-color: hsl(90, 70%, 80%);\" ><span class=\"txtu ara\">زَادَ</span></span><span class=\"plain  rtl  \" ><span class=\"txtu ara\">هُۥ </span></span></span><span class=\"plain  rtl  \" ><span class=\"plain txtu ara rtl\"></span><span class=\"plain  rtl  \" ><span class=\"txtu ara\">بَسْطَةً </span></span></span><span class=\"plain  rtl  \" ><span class=\"plain txtu ara rtl\"></span><span class=\"plain  rtl  \" ><span class=\"txtu ara\">فِى </span></span></span><span class=\"plain  rtl  \" ><span class=\"plain txtu ara rtl\"></span><span class=\"plain  rtl  \" ><span class=\"txtu ara\">ٱلْ</span></span><span class=\"plain  rtl  hl\"  style=\"background-color: hsl(120, 80%, 70%);\" ><span class=\"txtu ara\">عِلْمِ </span></span></span><span class=\"plain  rtl  \" ><span class=\"plain txtu ara rtl\"></span><span class=\"plain  rtl  \" ><span class=\"txtu ara\">وَ</span></span><span class=\"plain  rtl  \" ><span class=\"txtu ara\">ٱلْ</span></span><span class=\"plain  rtl  \" ><span class=\"txtu ara\">جِسْمِ </span></span></span><span class=\"plain  rtl  \" ><span class=\"plain txtu ara rtl\"></span><span class=\"plain  rtl  \" ><span class=\"txtu ara\">وَ</span></span><span class=\"plain  rtl  hl\"  style=\"background-color: hsl(0, 100%, 50%);\" ><span class=\"txtu ara\">ٱللَّهُ </span></span></span><span class=\"plain  rtl  \" ><span class=\"plain txtu ara rtl\"></span><span class=\"plain  rtl  hl\"  style=\"background-color: hsl(0, 80%, 70%);\" ><span class=\"txtu ara\">يُؤْتِى </span></span></span><span class=\"plain  rtl  \" ><span class=\"plain txtu ara rtl\"></span><span class=\"plain  rtl  hl\"  style=\"background-color: hsl(30, 80%, 70%);\" ><span class=\"txtu ara\">مُلْكَ</span></span><span class=\"plain  rtl  \" ><span class=\"txtu ara\">هُۥ </span></span></span><span class=\"plain  rtl  \" ><span class=\"plain txtu ara rtl\"></span><span class=\"plain  rtl  \" ><span class=\"txtu ara\">مَن </span></span></span><span class=\"plain  rtl  \" ><span class=\"plain txtu ara rtl\"></span><span class=\"plain  rtl  hl\"  style=\"background-color: hsl(0, 90%, 60%);\" ><span class=\"txtu ara\">يَشَآءُ </span></span></span><span class=\"plain  rtl  \" ><span class=\"plain txtu ara rtl\"></span><span class=\"plain  rtl  \" ><span class=\"txtu ara\">وَ</span></span><span class=\"plain  rtl  hl\"  style=\"background-color: hsl(0, 100%, 50%);\" ><span class=\"txtu ara\">ٱللَّهُ </span></span></span><span class=\"plain  rtl  \" ><span class=\"plain txtu ara rtl\"></span><span class=\"plain  rtl  hl\"  style=\"background-color: hsl(90, 70%, 80%);\" ><span class=\"txtu ara\">وَٰسِعٌ </span></span></span><span class=\"plain  rtl  \" ><span class=\"plain txtu ara rtl\"></span><span class=\"plain  rtl  hl\"  style=\"background-color: hsl(30, 80%, 70%);\" ><span class=\"txtu ara\">عَلِيمٌ</span></span></span></span></td><td class=\"tf\"><span class=\"plain outer rtl  hl\" ><span class=\"txtu ara\">وَ</span></span></td></tr>\n",
       "<tr class=\"tf\"><td class=\"tf\">248</td><td class=\"tf\"><span class=\"section ltr\"><a target=\"_blank\" href=\"/#2:248\" title=\"show this passage on Tanzil\" sec=\"2:248\">2:248</a></span></td><td class=\"tf\"><span class=\"plain outer rtl  \" ><span class=\"plain txtu ara rtl\"></span><span class=\"plain  rtl  \" ><span class=\"plain txtu ara rtl\"></span><span class=\"plain  rtl  hl\" ><span class=\"txtu ara\">وَ</span></span><span class=\"plain  rtl  hl\"  style=\"background-color: hsl(90, 70%, 80%);\" ><span class=\"txtu ara\">قَالَ </span></span></span><span class=\"plain  rtl  \" ><span class=\"plain txtu ara rtl\"></span><span class=\"plain  rtl  \" ><span class=\"txtu ara\">لَ</span></span><span class=\"plain  rtl  \" ><span class=\"txtu ara\">هُمْ </span></span></span><span class=\"plain  rtl  \" ><span class=\"plain txtu ara rtl\"></span><span class=\"plain  rtl  hl\"  style=\"background-color: hsl(60, 80%, 70%);\" ><span class=\"txtu ara\">نَبِيُّ</span></span><span class=\"plain  rtl  \" ><span class=\"txtu ara\">هُمْ </span></span></span><span class=\"plain  rtl  \" ><span class=\"plain txtu ara rtl\"></span><span class=\"plain  rtl  \" ><span class=\"txtu ara\">إِنَّ </span></span></span><span class=\"plain  rtl  \" ><span class=\"plain txtu ara rtl\"></span><span class=\"plain  rtl  hl\"  style=\"background-color: hsl(60, 80%, 70%);\" ><span class=\"txtu ara\">ءَايَةَ </span></span></span><span class=\"plain  rtl  \" ><span class=\"plain txtu ara rtl\"></span><span class=\"plain  rtl  hl\"  style=\"background-color: hsl(30, 80%, 70%);\" ><span class=\"txtu ara\">مُلْكِ</span></span><span class=\"plain  rtl  \" ><span class=\"txtu ara\">هِۦٓ </span></span></span><span class=\"plain  rtl  \" ><span class=\"plain txtu ara rtl\"></span><span class=\"plain  rtl  \" ><span class=\"txtu ara\">أَن </span></span></span><span class=\"plain  rtl  \" ><span class=\"plain txtu ara rtl\"></span><span class=\"plain  rtl  hl\"  style=\"background-color: hsl(120, 90%, 80%);\" ><span class=\"txtu ara\">يَأْتِيَ</span></span><span class=\"plain  rtl  \" ><span class=\"txtu ara\">كُمُ </span></span></span><span class=\"plain  rtl  \" ><span class=\"plain txtu ara rtl\"></span><span class=\"plain  rtl  \" ><span class=\"txtu ara\">ٱل</span></span><span class=\"plain  rtl  \" ><span class=\"txtu ara\">تَّابُوتُ </span></span></span><span class=\"plain  rtl  \" ><span class=\"plain txtu ara rtl\"></span><span class=\"plain  rtl  \" ><span class=\"txtu ara\">فِي</span></span><span class=\"plain  rtl  \" ><span class=\"txtu ara\">هِ </span></span></span><span class=\"plain  rtl  \" ><span class=\"plain txtu ara rtl\"></span><span class=\"plain  rtl  \" ><span class=\"txtu ara\">سَكِينَةٌ </span></span></span><span class=\"plain  rtl  \" ><span class=\"plain txtu ara rtl\"></span><span class=\"plain  rtl  \" ><span class=\"txtu ara\">مِّن </span></span></span><span class=\"plain  rtl  \" ><span class=\"plain txtu ara rtl\"></span><span class=\"plain  rtl  hl\"  style=\"background-color: hsl(60, 80%, 70%);\" ><span class=\"txtu ara\">رَّبِّ</span></span><span class=\"plain  rtl  \" ><span class=\"txtu ara\">كُمْ </span></span></span><span class=\"plain  rtl  \" ><span class=\"plain txtu ara rtl\"></span><span class=\"plain  rtl  \" ><span class=\"txtu ara\">وَ</span></span><span class=\"plain  rtl  \" ><span class=\"txtu ara\">بَقِيَّةٌ </span></span></span><span class=\"plain  rtl  \" ><span class=\"plain txtu ara rtl\"></span><span class=\"plain  rtl  \" ><span class=\"txtu ara\">مِّ</span></span><span class=\"plain  rtl  \" ><span class=\"txtu ara\">مَّا </span></span></span><span class=\"plain  rtl  \" ><span class=\"plain txtu ara rtl\"></span><span class=\"plain  rtl  hl\"  style=\"background-color: hsl(120, 80%, 70%);\" ><span class=\"txtu ara\">تَرَكَ </span></span></span><span class=\"plain  rtl  \" ><span class=\"plain txtu ara rtl\"></span><span class=\"plain  rtl  \" ><span class=\"txtu ara\">ءَالُ </span></span></span><span class=\"plain  rtl  \" ><span class=\"plain txtu ara rtl\"></span><span class=\"plain  rtl  \" ><span class=\"txtu ara\">مُوسَىٰ </span></span></span><span class=\"plain  rtl  \" ><span class=\"plain txtu ara rtl\"></span><span class=\"plain  rtl  \" ><span class=\"txtu ara\">وَ</span></span><span class=\"plain  rtl  \" ><span class=\"txtu ara\">ءَالُ </span></span></span><span class=\"plain  rtl  \" ><span class=\"plain txtu ara rtl\"></span><span class=\"plain  rtl  \" ><span class=\"txtu ara\">هَٰرُونَ </span></span></span><span class=\"plain  rtl  \" ><span class=\"plain txtu ara rtl\"></span><span class=\"plain  rtl  hl\"  style=\"background-color: hsl(90, 70%, 80%);\" ><span class=\"txtu ara\">تَحْمِلُ</span></span><span class=\"plain  rtl  \" ><span class=\"txtu ara\">هُ </span></span></span><span class=\"plain  rtl  \" ><span class=\"plain txtu ara rtl\"></span><span class=\"plain  rtl  \" ><span class=\"txtu ara\">ٱلْ</span></span><span class=\"plain  rtl  hl\"  style=\"background-color: hsl(30, 80%, 70%);\" ><span class=\"txtu ara\">مَلَٰٓئِكَةُ </span></span></span><span class=\"plain  rtl  \" ><span class=\"plain txtu ara rtl\"></span><span class=\"plain  rtl  \" ><span class=\"txtu ara\">إِنَّ </span></span></span><span class=\"plain  rtl  \" ><span class=\"plain txtu ara rtl\"></span><span class=\"plain  rtl  \" ><span class=\"txtu ara\">فِى </span></span></span><span class=\"plain  rtl  \" ><span class=\"plain txtu ara rtl\"></span><span class=\"plain  rtl  \" ><span class=\"txtu ara\">ذَٰلِكَ </span></span></span><span class=\"plain  rtl  \" ><span class=\"plain txtu ara rtl\"></span><span class=\"plain  rtl  \" ><span class=\"txtu ara\">لَ</span></span><span class=\"plain  rtl  hl\"  style=\"background-color: hsl(60, 80%, 70%);\" ><span class=\"txtu ara\">ءَايَةً </span></span></span><span class=\"plain  rtl  \" ><span class=\"plain txtu ara rtl\"></span><span class=\"plain  rtl  \" ><span class=\"txtu ara\">لَّ</span></span><span class=\"plain  rtl  \" ><span class=\"txtu ara\">كُمْ </span></span></span><span class=\"plain  rtl  \" ><span class=\"plain txtu ara rtl\"></span><span class=\"plain  rtl  \" ><span class=\"txtu ara\">إِن </span></span></span><span class=\"plain  rtl  \" ><span class=\"plain txtu ara rtl\"></span><span class=\"plain  rtl  hl\"  style=\"background-color: hsl(60, 80%, 70%);\" ><span class=\"txtu ara\">كُن</span></span><span class=\"plain  rtl  \" ><span class=\"txtu ara\">تُم </span></span></span><span class=\"plain  rtl  \" ><span class=\"plain txtu ara rtl\"></span><span class=\"plain  rtl  hl\"  style=\"background-color: hsl(90, 70%, 80%);\" ><span class=\"txtu ara\">مُّؤْمِنِينَ</span></span></span></span></td><td class=\"tf\"><span class=\"plain outer rtl  hl\" ><span class=\"txtu ara\">وَ</span></span></td></tr>\n",
       "<tr class=\"tf\"><td class=\"tf\">249</td><td class=\"tf\"><span class=\"section ltr\"><a target=\"_blank\" href=\"/#2:249\" title=\"show this passage on Tanzil\" sec=\"2:249\">2:249</a></span></td><td class=\"tf\"><span class=\"plain outer rtl  \" ><span class=\"plain txtu ara rtl\"></span><span class=\"plain  rtl  \" ><span class=\"plain txtu ara rtl\"></span><span class=\"plain  rtl  hl\"  style=\"background-color: fuchsia;\" ><span class=\"txtu ara\">فَ</span></span><span class=\"plain  rtl  \" ><span class=\"txtu ara\">لَمَّا </span></span></span><span class=\"plain  rtl  \" ><span class=\"plain txtu ara rtl\"></span><span class=\"plain  rtl  \" ><span class=\"txtu ara\">فَصَلَ </span></span></span><span class=\"plain  rtl  \" ><span class=\"plain txtu ara rtl\"></span><span class=\"plain  rtl  \" ><span class=\"txtu ara\">طَالُوتُ </span></span></span><span class=\"plain  rtl  \" ><span class=\"plain txtu ara rtl\"></span><span class=\"plain  rtl  \" ><span class=\"txtu ara\">بِ</span></span><span class=\"plain  rtl  \" ><span class=\"txtu ara\">ٱلْ</span></span><span class=\"plain  rtl  \" ><span class=\"txtu ara\">جُنُودِ </span></span></span><span class=\"plain  rtl  \" ><span class=\"plain txtu ara rtl\"></span><span class=\"plain  rtl  hl\"  style=\"background-color: hsl(90, 70%, 80%);\" ><span class=\"txtu ara\">قَالَ </span></span></span><span class=\"plain  rtl  \" ><span class=\"plain txtu ara rtl\"></span><span class=\"plain  rtl  \" ><span class=\"txtu ara\">إِنَّ </span></span></span><span class=\"plain  rtl  \" ><span class=\"plain txtu ara rtl\"></span><span class=\"plain  rtl  hl\"  style=\"background-color: hsl(0, 100%, 50%);\" ><span class=\"txtu ara\">ٱللَّهَ </span></span></span><span class=\"plain  rtl  \" ><span class=\"plain txtu ara rtl\"></span><span class=\"plain  rtl  \" ><span class=\"txtu ara\">مُبْتَلِي</span></span><span class=\"plain  rtl  \" ><span class=\"txtu ara\">كُم </span></span></span><span class=\"plain  rtl  \" ><span class=\"plain txtu ara rtl\"></span><span class=\"plain  rtl  \" ><span class=\"txtu ara\">بِ</span></span><span class=\"plain  rtl  \" ><span class=\"txtu ara\">نَهَرٍ </span></span></span><span class=\"plain  rtl  \" ><span class=\"plain txtu ara rtl\"></span><span class=\"plain  rtl  \" ><span class=\"txtu ara\">فَ</span></span><span class=\"plain  rtl  \" ><span class=\"txtu ara\">مَن </span></span></span><span class=\"plain  rtl  \" ><span class=\"plain txtu ara rtl\"></span><span class=\"plain  rtl  \" ><span class=\"txtu ara\">شَرِبَ </span></span></span><span class=\"plain  rtl  \" ><span class=\"plain txtu ara rtl\"></span><span class=\"plain  rtl  \" ><span class=\"txtu ara\">مِنْ</span></span><span class=\"plain  rtl  \" ><span class=\"txtu ara\">هُ </span></span></span><span class=\"plain  rtl  \" ><span class=\"plain txtu ara rtl\"></span><span class=\"plain  rtl  \" ><span class=\"txtu ara\">فَ</span></span><span class=\"plain  rtl  hl\"  style=\"background-color: hsl(30, 80%, 70%);\" ><span class=\"txtu ara\">لَيْسَ </span></span></span><span class=\"plain  rtl  \" ><span class=\"plain txtu ara rtl\"></span><span class=\"plain  rtl  \" ><span class=\"txtu ara\">مِنِّ</span></span><span class=\"plain  rtl  \" ><span class=\"txtu ara\">ى </span></span></span><span class=\"plain  rtl  \" ><span class=\"plain txtu ara rtl\"></span><span class=\"plain  rtl  \" ><span class=\"txtu ara\">وَ</span></span><span class=\"plain  rtl  \" ><span class=\"txtu ara\">مَن </span></span></span><span class=\"plain  rtl  \" ><span class=\"plain txtu ara rtl\"></span><span class=\"plain  rtl  \" ><span class=\"txtu ara\">لَّمْ </span></span></span><span class=\"plain  rtl  \" ><span class=\"plain txtu ara rtl\"></span><span class=\"plain  rtl  \" ><span class=\"txtu ara\">يَطْعَمْ</span></span><span class=\"plain  rtl  \" ><span class=\"txtu ara\">هُ </span></span></span><span class=\"plain  rtl  \" ><span class=\"plain txtu ara rtl\"></span><span class=\"plain  rtl  \" ><span class=\"txtu ara\">فَ</span></span><span class=\"plain  rtl  \" ><span class=\"txtu ara\">إِنَّ</span></span><span class=\"plain  rtl  \" ><span class=\"txtu ara\">هُۥ </span></span></span><span class=\"plain  rtl  \" ><span class=\"plain txtu ara rtl\"></span><span class=\"plain  rtl  \" ><span class=\"txtu ara\">مِنِّ</span></span><span class=\"plain  rtl  \" ><span class=\"txtu ara\">ىٓ </span></span></span><span class=\"plain  rtl  \" ><span class=\"plain txtu ara rtl\"></span><span class=\"plain  rtl  \" ><span class=\"txtu ara\">إِلَّا </span></span></span><span class=\"plain  rtl  \" ><span class=\"plain txtu ara rtl\"></span><span class=\"plain  rtl  \" ><span class=\"txtu ara\">مَنِ </span></span></span><span class=\"plain  rtl  \" ><span class=\"plain txtu ara rtl\"></span><span class=\"plain  rtl  \" ><span class=\"txtu ara\">ٱغْتَرَفَ </span></span></span><span class=\"plain  rtl  \" ><span class=\"plain txtu ara rtl\"></span><span class=\"plain  rtl  \" ><span class=\"txtu ara\">غُرْفَةًۢ </span></span></span><span class=\"plain  rtl  \" ><span class=\"plain txtu ara rtl\"></span><span class=\"plain  rtl  \" ><span class=\"txtu ara\">بِ</span></span><span class=\"plain  rtl  hl\"  style=\"background-color: hsl(120, 80%, 70%);\" ><span class=\"txtu ara\">يَدِ</span></span><span class=\"plain  rtl  \" ><span class=\"txtu ara\">هِۦ </span></span></span><span class=\"plain  rtl  \" ><span class=\"plain txtu ara rtl\"></span><span class=\"plain  rtl  \" ><span class=\"txtu ara\">فَ</span></span><span class=\"plain  rtl  \" ><span class=\"txtu ara\">شَرِبُ</span></span><span class=\"plain  rtl  \" ><span class=\"txtu ara\">وا۟ </span></span></span><span class=\"plain  rtl  \" ><span class=\"plain txtu ara rtl\"></span><span class=\"plain  rtl  \" ><span class=\"txtu ara\">مِنْ</span></span><span class=\"plain  rtl  \" ><span class=\"txtu ara\">هُ </span></span></span><span class=\"plain  rtl  \" ><span class=\"plain txtu ara rtl\"></span><span class=\"plain  rtl  \" ><span class=\"txtu ara\">إِلَّا </span></span></span><span class=\"plain  rtl  \" ><span class=\"plain txtu ara rtl\"></span><span class=\"plain  rtl  \" ><span class=\"txtu ara\">قَلِيلًا </span></span></span><span class=\"plain  rtl  \" ><span class=\"plain txtu ara rtl\"></span><span class=\"plain  rtl  \" ><span class=\"txtu ara\">مِّنْ</span></span><span class=\"plain  rtl  \" ><span class=\"txtu ara\">هُمْ </span></span></span><span class=\"plain  rtl  \" ><span class=\"plain txtu ara rtl\"></span><span class=\"plain  rtl  \" ><span class=\"txtu ara\">فَ</span></span><span class=\"plain  rtl  \" ><span class=\"txtu ara\">لَمَّا </span></span></span><span class=\"plain  rtl  \" ><span class=\"plain txtu ara rtl\"></span><span class=\"plain  rtl  \" ><span class=\"txtu ara\">جَاوَزَ</span></span><span class=\"plain  rtl  \" ><span class=\"txtu ara\">هُۥ </span></span></span><span class=\"plain  rtl  \" ><span class=\"plain txtu ara rtl\"></span><span class=\"plain  rtl  \" ><span class=\"txtu ara\">هُوَ </span></span></span><span class=\"plain  rtl  \" ><span class=\"plain txtu ara rtl\"></span><span class=\"plain  rtl  \" ><span class=\"txtu ara\">وَ</span></span><span class=\"plain  rtl  \" ><span class=\"txtu ara\">ٱلَّذِينَ </span></span></span><span class=\"plain  rtl  \" ><span class=\"plain txtu ara rtl\"></span><span class=\"plain  rtl  hl\"  style=\"background-color: hsl(120, 100%, 90%);\" ><span class=\"txtu ara\">ءَامَنُ</span></span><span class=\"plain  rtl  \" ><span class=\"txtu ara\">وا۟ </span></span></span><span class=\"plain  rtl  \" ><span class=\"plain txtu ara rtl\"></span><span class=\"plain  rtl  \" ><span class=\"txtu ara\">مَعَ</span></span><span class=\"plain  rtl  \" ><span class=\"txtu ara\">هُۥ </span></span></span><span class=\"plain  rtl  \" ><span class=\"plain txtu ara rtl\"></span><span class=\"plain  rtl  hl\"  style=\"background-color: hsl(90, 70%, 80%);\" ><span class=\"txtu ara\">قَالُ</span></span><span class=\"plain  rtl  \" ><span class=\"txtu ara\">وا۟ </span></span></span><span class=\"plain  rtl  \" ><span class=\"plain txtu ara rtl\"></span><span class=\"plain  rtl  \" ><span class=\"txtu ara\">لَا </span></span></span><span class=\"plain  rtl  \" ><span class=\"plain txtu ara rtl\"></span><span class=\"plain  rtl  hl\"  style=\"background-color: hsl(90, 70%, 80%);\" ><span class=\"txtu ara\">طَاقَةَ </span></span></span><span class=\"plain  rtl  \" ><span class=\"plain txtu ara rtl\"></span><span class=\"plain  rtl  \" ><span class=\"txtu ara\">لَ</span></span><span class=\"plain  rtl  \" ><span class=\"txtu ara\">نَا </span></span></span><span class=\"plain  rtl  \" ><span class=\"plain txtu ara rtl\"></span><span class=\"plain  rtl  \" ><span class=\"txtu ara\">ٱلْ</span></span><span class=\"plain  rtl  hl\"  style=\"background-color: hsl(90, 70%, 80%);\" ><span class=\"txtu ara\">يَوْمَ </span></span></span><span class=\"plain  rtl  \" ><span class=\"plain txtu ara rtl\"></span><span class=\"plain  rtl  \" ><span class=\"txtu ara\">بِ</span></span><span class=\"plain  rtl  hl\"  style=\"background-color: hsl(60, 80%, 70%);\" ><span class=\"txtu ara\">جَالُوتَ </span></span></span><span class=\"plain  rtl  \" ><span class=\"plain txtu ara rtl\"></span><span class=\"plain  rtl  \" ><span class=\"txtu ara\">وَ</span></span><span class=\"plain  rtl  \" ><span class=\"txtu ara\">جُنُودِ</span></span><span class=\"plain  rtl  \" ><span class=\"txtu ara\">هِۦ </span></span></span><span class=\"plain  rtl  \" ><span class=\"plain txtu ara rtl\"></span><span class=\"plain  rtl  hl\"  style=\"background-color: hsl(90, 70%, 80%);\" ><span class=\"txtu ara\">قَالَ </span></span></span><span class=\"plain  rtl  \" ><span class=\"plain txtu ara rtl\"></span><span class=\"plain  rtl  \" ><span class=\"txtu ara\">ٱلَّذِينَ </span></span></span><span class=\"plain  rtl  \" ><span class=\"plain txtu ara rtl\"></span><span class=\"plain  rtl  \" ><span class=\"txtu ara\">يَظُنُّ</span></span><span class=\"plain  rtl  \" ><span class=\"txtu ara\">ونَ </span></span></span><span class=\"plain  rtl  \" ><span class=\"plain txtu ara rtl\"></span><span class=\"plain  rtl  \" ><span class=\"txtu ara\">أَنَّ</span></span><span class=\"plain  rtl  \" ><span class=\"txtu ara\">هُم </span></span></span><span class=\"plain  rtl  \" ><span class=\"plain txtu ara rtl\"></span><span class=\"plain  rtl  \" ><span class=\"txtu ara\">مُّلَٰقُوا۟ </span></span></span><span class=\"plain  rtl  \" ><span class=\"plain txtu ara rtl\"></span><span class=\"plain  rtl  hl\"  style=\"background-color: hsl(0, 100%, 50%);\" ><span class=\"txtu ara\">ٱللَّهِ </span></span></span><span class=\"plain  rtl  \" ><span class=\"plain txtu ara rtl\"></span><span class=\"plain  rtl  \" ><span class=\"txtu ara\">كَم </span></span></span><span class=\"plain  rtl  \" ><span class=\"plain txtu ara rtl\"></span><span class=\"plain  rtl  \" ><span class=\"txtu ara\">مِّن </span></span></span><span class=\"plain  rtl  \" ><span class=\"plain txtu ara rtl\"></span><span class=\"plain  rtl  \" ><span class=\"txtu ara\">فِئَةٍ </span></span></span><span class=\"plain  rtl  \" ><span class=\"plain txtu ara rtl\"></span><span class=\"plain  rtl  \" ><span class=\"txtu ara\">قَلِيلَةٍ </span></span></span><span class=\"plain  rtl  \" ><span class=\"plain txtu ara rtl\"></span><span class=\"plain  rtl  \" ><span class=\"txtu ara\">غَلَبَتْ </span></span></span><span class=\"plain  rtl  \" ><span class=\"plain txtu ara rtl\"></span><span class=\"plain  rtl  \" ><span class=\"txtu ara\">فِئَةً </span></span></span><span class=\"plain  rtl  \" ><span class=\"plain txtu ara rtl\"></span><span class=\"plain  rtl  \" ><span class=\"txtu ara\">كَثِيرَةًۢ </span></span></span><span class=\"plain  rtl  \" ><span class=\"plain txtu ara rtl\"></span><span class=\"plain  rtl  \" ><span class=\"txtu ara\">بِ</span></span><span class=\"plain  rtl  hl\"  style=\"background-color: hsl(60, 80%, 70%);\" ><span class=\"txtu ara\">إِذْنِ </span></span></span><span class=\"plain  rtl  \" ><span class=\"plain txtu ara rtl\"></span><span class=\"plain  rtl  hl\"  style=\"background-color: hsl(0, 100%, 50%);\" ><span class=\"txtu ara\">ٱللَّهِ </span></span></span><span class=\"plain  rtl  \" ><span class=\"plain txtu ara rtl\"></span><span class=\"plain  rtl  \" ><span class=\"txtu ara\">وَ</span></span><span class=\"plain  rtl  hl\"  style=\"background-color: hsl(0, 100%, 50%);\" ><span class=\"txtu ara\">ٱللَّهُ </span></span></span><span class=\"plain  rtl  \" ><span class=\"plain txtu ara rtl\"></span><span class=\"plain  rtl  \" ><span class=\"txtu ara\">مَعَ </span></span></span><span class=\"plain  rtl  \" ><span class=\"plain txtu ara rtl\"></span><span class=\"plain  rtl  \" ><span class=\"txtu ara\">ٱل</span></span><span class=\"plain  rtl  hl\"  style=\"background-color: hsl(120, 80%, 70%);\" ><span class=\"txtu ara\">صَّٰبِرِينَ</span></span></span></span></td><td class=\"tf\"><span class=\"plain outer rtl  hl\"  style=\"background-color: fuchsia;\" ><span class=\"txtu ara\">فَ</span></span></td></tr>\n",
       "<tr class=\"tf\"><td class=\"tf\">250</td><td class=\"tf\"><span class=\"section ltr\"><a target=\"_blank\" href=\"/#2:250\" title=\"show this passage on Tanzil\" sec=\"2:250\">2:250</a></span></td><td class=\"tf\"><span class=\"plain outer rtl  \" ><span class=\"plain txtu ara rtl\"></span><span class=\"plain  rtl  \" ><span class=\"plain txtu ara rtl\"></span><span class=\"plain  rtl  hl\"  style=\"background-color: fuchsia;\" ><span class=\"txtu ara\">وَ</span></span><span class=\"plain  rtl  \" ><span class=\"txtu ara\">لَمَّا </span></span></span><span class=\"plain  rtl  \" ><span class=\"plain txtu ara rtl\"></span><span class=\"plain  rtl  \" ><span class=\"txtu ara\">بَرَزُ</span></span><span class=\"plain  rtl  \" ><span class=\"txtu ara\">وا۟ </span></span></span><span class=\"plain  rtl  \" ><span class=\"plain txtu ara rtl\"></span><span class=\"plain  rtl  \" ><span class=\"txtu ara\">لِ</span></span><span class=\"plain  rtl  hl\"  style=\"background-color: hsl(60, 80%, 70%);\" ><span class=\"txtu ara\">جَالُوتَ </span></span></span><span class=\"plain  rtl  \" ><span class=\"plain txtu ara rtl\"></span><span class=\"plain  rtl  \" ><span class=\"txtu ara\">وَ</span></span><span class=\"plain  rtl  \" ><span class=\"txtu ara\">جُنُودِ</span></span><span class=\"plain  rtl  \" ><span class=\"txtu ara\">هِۦ </span></span></span><span class=\"plain  rtl  \" ><span class=\"plain txtu ara rtl\"></span><span class=\"plain  rtl  hl\"  style=\"background-color: hsl(90, 70%, 80%);\" ><span class=\"txtu ara\">قَالُ</span></span><span class=\"plain  rtl  \" ><span class=\"txtu ara\">وا۟ </span></span></span><span class=\"plain  rtl  \" ><span class=\"plain txtu ara rtl\"></span><span class=\"plain  rtl  hl\"  style=\"background-color: hsl(60, 80%, 70%);\" ><span class=\"txtu ara\">رَبَّ</span></span><span class=\"plain  rtl  \" ><span class=\"txtu ara\">نَآ </span></span></span><span class=\"plain  rtl  \" ><span class=\"plain txtu ara rtl\"></span><span class=\"plain  rtl  \" ><span class=\"txtu ara\">أَفْرِغْ </span></span></span><span class=\"plain  rtl  \" ><span class=\"plain txtu ara rtl\"></span><span class=\"plain  rtl  \" ><span class=\"txtu ara\">عَلَيْ</span></span><span class=\"plain  rtl  \" ><span class=\"txtu ara\">نَا </span></span></span><span class=\"plain  rtl  \" ><span class=\"plain txtu ara rtl\"></span><span class=\"plain  rtl  hl\"  style=\"background-color: hsl(120, 80%, 70%);\" ><span class=\"txtu ara\">صَبْرًا </span></span></span><span class=\"plain  rtl  \" ><span class=\"plain txtu ara rtl\"></span><span class=\"plain  rtl  \" ><span class=\"txtu ara\">وَ</span></span><span class=\"plain  rtl  \" ><span class=\"txtu ara\">ثَبِّتْ </span></span></span><span class=\"plain  rtl  \" ><span class=\"plain txtu ara rtl\"></span><span class=\"plain  rtl  \" ><span class=\"txtu ara\">أَقْدَامَ</span></span><span class=\"plain  rtl  \" ><span class=\"txtu ara\">نَا </span></span></span><span class=\"plain  rtl  \" ><span class=\"plain txtu ara rtl\"></span><span class=\"plain  rtl  \" ><span class=\"txtu ara\">وَ</span></span><span class=\"plain  rtl  hl\"  style=\"background-color: hsl(90, 70%, 80%);\" ><span class=\"txtu ara\">ٱنصُرْ</span></span><span class=\"plain  rtl  \" ><span class=\"txtu ara\">نَا </span></span></span><span class=\"plain  rtl  \" ><span class=\"plain txtu ara rtl\"></span><span class=\"plain  rtl  \" ><span class=\"txtu ara\">عَلَى </span></span></span><span class=\"plain  rtl  \" ><span class=\"plain txtu ara rtl\"></span><span class=\"plain  rtl  \" ><span class=\"txtu ara\">ٱلْ</span></span><span class=\"plain  rtl  hl\"  style=\"background-color: hsl(90, 70%, 80%);\" ><span class=\"txtu ara\">قَوْمِ </span></span></span><span class=\"plain  rtl  \" ><span class=\"plain txtu ara rtl\"></span><span class=\"plain  rtl  \" ><span class=\"txtu ara\">ٱلْ</span></span><span class=\"plain  rtl  hl\"  style=\"background-color: hsl(120, 80%, 70%);\" ><span class=\"txtu ara\">كَٰفِرِينَ</span></span></span></span></td><td class=\"tf\"><span class=\"plain outer rtl  hl\"  style=\"background-color: fuchsia;\" ><span class=\"txtu ara\">وَ</span></span></td></tr>\n",
       "<tr class=\"tf\"><td class=\"tf\">251</td><td class=\"tf\"><span class=\"section ltr\"><a target=\"_blank\" href=\"/#2:251\" title=\"show this passage on Tanzil\" sec=\"2:251\">2:251</a></span></td><td class=\"tf\"><span class=\"plain outer rtl  \" ><span class=\"plain txtu ara rtl\"></span><span class=\"plain  rtl  \" ><span class=\"plain txtu ara rtl\"></span><span class=\"plain  rtl  hl\"  style=\"background-color: fuchsia;\" ><span class=\"txtu ara\">فَ</span></span><span class=\"plain  rtl  hl\"  style=\"background-color: hsl(60, 80%, 70%);\" ><span class=\"txtu ara\">هَزَمُ</span></span><span class=\"plain  rtl  \" ><span class=\"txtu ara\">و</span></span><span class=\"plain  rtl  \" ><span class=\"txtu ara\">هُم </span></span></span><span class=\"plain  rtl  \" ><span class=\"plain txtu ara rtl\"></span><span class=\"plain  rtl  \" ><span class=\"txtu ara\">بِ</span></span><span class=\"plain  rtl  hl\"  style=\"background-color: hsl(60, 80%, 70%);\" ><span class=\"txtu ara\">إِذْنِ </span></span></span><span class=\"plain  rtl  \" ><span class=\"plain txtu ara rtl\"></span><span class=\"plain  rtl  hl\"  style=\"background-color: hsl(0, 100%, 50%);\" ><span class=\"txtu ara\">ٱللَّهِ </span></span></span><span class=\"plain  rtl  \" ><span class=\"plain txtu ara rtl\"></span><span class=\"plain  rtl  \" ><span class=\"txtu ara\">وَ</span></span><span class=\"plain  rtl  hl\"  style=\"background-color: hsl(90, 70%, 80%);\" ><span class=\"txtu ara\">قَتَلَ </span></span></span><span class=\"plain  rtl  \" ><span class=\"plain txtu ara rtl\"></span><span class=\"plain  rtl  hl\"  style=\"background-color: hsl(60, 80%, 70%);\" ><span class=\"txtu ara\">دَاوُۥدُ </span></span></span><span class=\"plain  rtl  \" ><span class=\"plain txtu ara rtl\"></span><span class=\"plain  rtl  hl\"  style=\"background-color: hsl(60, 80%, 70%);\" ><span class=\"txtu ara\">جَالُوتَ </span></span></span><span class=\"plain  rtl  \" ><span class=\"plain txtu ara rtl\"></span><span class=\"plain  rtl  \" ><span class=\"txtu ara\">وَ</span></span><span class=\"plain  rtl  hl\"  style=\"background-color: hsl(0, 80%, 70%);\" ><span class=\"txtu ara\">ءَاتَىٰ</span></span><span class=\"plain  rtl  \" ><span class=\"txtu ara\">هُ </span></span></span><span class=\"plain  rtl  \" ><span class=\"plain txtu ara rtl\"></span><span class=\"plain  rtl  hl\"  style=\"background-color: hsl(0, 100%, 50%);\" ><span class=\"txtu ara\">ٱللَّهُ </span></span></span><span class=\"plain  rtl  \" ><span class=\"plain txtu ara rtl\"></span><span class=\"plain  rtl  \" ><span class=\"txtu ara\">ٱلْ</span></span><span class=\"plain  rtl  hl\"  style=\"background-color: hsl(30, 80%, 70%);\" ><span class=\"txtu ara\">مُلْكَ </span></span></span><span class=\"plain  rtl  \" ><span class=\"plain txtu ara rtl\"></span><span class=\"plain  rtl  \" ><span class=\"txtu ara\">وَ</span></span><span class=\"plain  rtl  \" ><span class=\"txtu ara\">ٱلْ</span></span><span class=\"plain  rtl  hl\"  style=\"background-color: hsl(30, 80%, 70%);\" ><span class=\"txtu ara\">حِكْمَةَ </span></span></span><span class=\"plain  rtl  \" ><span class=\"plain txtu ara rtl\"></span><span class=\"plain  rtl  \" ><span class=\"txtu ara\">وَ</span></span><span class=\"plain  rtl  hl\"  style=\"background-color: hsl(0, 90%, 60%);\" ><span class=\"txtu ara\">عَلَّمَ</span></span><span class=\"plain  rtl  \" ><span class=\"txtu ara\">هُۥ </span></span></span><span class=\"plain  rtl  \" ><span class=\"plain txtu ara rtl\"></span><span class=\"plain  rtl  \" ><span class=\"txtu ara\">مِ</span></span><span class=\"plain  rtl  \" ><span class=\"txtu ara\">مَّا </span></span></span><span class=\"plain  rtl  \" ><span class=\"plain txtu ara rtl\"></span><span class=\"plain  rtl  hl\"  style=\"background-color: hsl(0, 90%, 60%);\" ><span class=\"txtu ara\">يَشَآءُ </span></span></span><span class=\"plain  rtl  \" ><span class=\"plain txtu ara rtl\"></span><span class=\"plain  rtl  \" ><span class=\"txtu ara\">وَ</span></span><span class=\"plain  rtl  \" ><span class=\"txtu ara\">لَوْلَا </span></span></span><span class=\"plain  rtl  \" ><span class=\"plain txtu ara rtl\"></span><span class=\"plain  rtl  hl\"  style=\"background-color: hsl(60, 80%, 70%);\" ><span class=\"txtu ara\">دَفْعُ </span></span></span><span class=\"plain  rtl  \" ><span class=\"plain txtu ara rtl\"></span><span class=\"plain  rtl  hl\"  style=\"background-color: hsl(0, 100%, 50%);\" ><span class=\"txtu ara\">ٱللَّهِ </span></span></span><span class=\"plain  rtl  \" ><span class=\"plain txtu ara rtl\"></span><span class=\"plain  rtl  \" ><span class=\"txtu ara\">ٱل</span></span><span class=\"plain  rtl  hl\"  style=\"background-color: hsl(120, 80%, 70%);\" ><span class=\"txtu ara\">نَّاسَ </span></span></span><span class=\"plain  rtl  \" ><span class=\"plain txtu ara rtl\"></span><span class=\"plain  rtl  hl\"  style=\"background-color: hsl(0, 90%, 60%);\" ><span class=\"txtu ara\">بَعْضَ</span></span><span class=\"plain  rtl  \" ><span class=\"txtu ara\">هُم </span></span></span><span class=\"plain  rtl  \" ><span class=\"plain txtu ara rtl\"></span><span class=\"plain  rtl  \" ><span class=\"txtu ara\">بِ</span></span><span class=\"plain  rtl  hl\"  style=\"background-color: hsl(0, 90%, 60%);\" ><span class=\"txtu ara\">بَعْضٍ </span></span></span><span class=\"plain  rtl  \" ><span class=\"plain txtu ara rtl\"></span><span class=\"plain  rtl  \" ><span class=\"txtu ara\">لَّ</span></span><span class=\"plain  rtl  hl\"  style=\"background-color: hsl(60, 80%, 70%);\" ><span class=\"txtu ara\">فَسَدَتِ </span></span></span><span class=\"plain  rtl  \" ><span class=\"plain txtu ara rtl\"></span><span class=\"plain  rtl  \" ><span class=\"txtu ara\">ٱلْ</span></span><span class=\"plain  rtl  hl\"  style=\"background-color: hsl(90, 70%, 80%);\" ><span class=\"txtu ara\">أَرْضُ </span></span></span><span class=\"plain  rtl  \" ><span class=\"plain txtu ara rtl\"></span><span class=\"plain  rtl  \" ><span class=\"txtu ara\">وَ</span></span><span class=\"plain  rtl  \" ><span class=\"txtu ara\">لَٰكِنَّ </span></span></span><span class=\"plain  rtl  \" ><span class=\"plain txtu ara rtl\"></span><span class=\"plain  rtl  hl\"  style=\"background-color: hsl(0, 100%, 50%);\" ><span class=\"txtu ara\">ٱللَّهَ </span></span></span><span class=\"plain  rtl  \" ><span class=\"plain txtu ara rtl\"></span><span class=\"plain  rtl  hl\"  style=\"background-color: hsl(60, 80%, 70%);\" ><span class=\"txtu ara\">ذُو </span></span></span><span class=\"plain  rtl  \" ><span class=\"plain txtu ara rtl\"></span><span class=\"plain  rtl  hl\"  style=\"background-color: hsl(90, 70%, 80%);\" ><span class=\"txtu ara\">فَضْلٍ </span></span></span><span class=\"plain  rtl  \" ><span class=\"plain txtu ara rtl\"></span><span class=\"plain  rtl  \" ><span class=\"txtu ara\">عَلَى </span></span></span><span class=\"plain  rtl  \" ><span class=\"plain txtu ara rtl\"></span><span class=\"plain  rtl  \" ><span class=\"txtu ara\">ٱلْ</span></span><span class=\"plain  rtl  hl\"  style=\"background-color: hsl(60, 80%, 70%);\" ><span class=\"txtu ara\">عَٰلَمِينَ</span></span></span></span></td><td class=\"tf\"><span class=\"plain outer rtl  hl\"  style=\"background-color: fuchsia;\" ><span class=\"txtu ara\">فَ</span></span></td></tr>\n",
       "<tr class=\"tf\"><td class=\"tf\">252</td><td class=\"tf\"><span class=\"section ltr\"><a target=\"_blank\" href=\"/#2:252\" title=\"show this passage on Tanzil\" sec=\"2:252\">2:252</a></span></td><td class=\"tf\"><span class=\"plain outer rtl  \" ><span class=\"plain txtu ara rtl\"></span><span class=\"plain  rtl  \" ><span class=\"plain txtu ara rtl\"></span><span class=\"plain  rtl  hl\" ><span class=\"txtu ara\">تِلْكَ </span></span></span><span class=\"plain  rtl  \" ><span class=\"plain txtu ara rtl\"></span><span class=\"plain  rtl  hl\"  style=\"background-color: hsl(60, 80%, 70%);\" ><span class=\"txtu ara\">ءَايَٰتُ </span></span></span><span class=\"plain  rtl  \" ><span class=\"plain txtu ara rtl\"></span><span class=\"plain  rtl  hl\"  style=\"background-color: hsl(0, 100%, 50%);\" ><span class=\"txtu ara\">ٱللَّهِ </span></span></span><span class=\"plain  rtl  \" ><span class=\"plain txtu ara rtl\"></span><span class=\"plain  rtl  hl\"  style=\"background-color: hsl(0, 80%, 70%);\" ><span class=\"txtu ara\">نَتْلُو</span></span><span class=\"plain  rtl  \" ><span class=\"txtu ara\">هَا </span></span></span><span class=\"plain  rtl  \" ><span class=\"plain txtu ara rtl\"></span><span class=\"plain  rtl  \" ><span class=\"txtu ara\">عَلَيْ</span></span><span class=\"plain  rtl  \" ><span class=\"txtu ara\">كَ </span></span></span><span class=\"plain  rtl  \" ><span class=\"plain txtu ara rtl\"></span><span class=\"plain  rtl  \" ><span class=\"txtu ara\">بِ</span></span><span class=\"plain  rtl  \" ><span class=\"txtu ara\">ٱلْ</span></span><span class=\"plain  rtl  hl\"  style=\"background-color: hsl(90, 70%, 80%);\" ><span class=\"txtu ara\">حَقِّ </span></span></span><span class=\"plain  rtl  \" ><span class=\"plain txtu ara rtl\"></span><span class=\"plain  rtl  \" ><span class=\"txtu ara\">وَ</span></span><span class=\"plain  rtl  \" ><span class=\"txtu ara\">إِنَّ</span></span><span class=\"plain  rtl  \" ><span class=\"txtu ara\">كَ </span></span></span><span class=\"plain  rtl  \" ><span class=\"plain txtu ara rtl\"></span><span class=\"plain  rtl  \" ><span class=\"txtu ara\">لَ</span></span><span class=\"plain  rtl  \" ><span class=\"txtu ara\">مِنَ </span></span></span><span class=\"plain  rtl  \" ><span class=\"plain txtu ara rtl\"></span><span class=\"plain  rtl  \" ><span class=\"txtu ara\">ٱلْ</span></span><span class=\"plain  rtl  hl\"  style=\"background-color: hsl(60, 80%, 70%);\" ><span class=\"txtu ara\">مُرْسَلِينَ</span></span></span></span></td><td class=\"tf\"><span class=\"plain outer rtl  hl\" ><span class=\"txtu ara\">تِلْكَ </span></span></td></tr>\n",
       "<tr class=\"tf\"><td class=\"tf\">253</td><td class=\"tf\"><span class=\"section ltr\"><a target=\"_blank\" href=\"/#2:253\" title=\"show this passage on Tanzil\" sec=\"2:253\">2:253</a></span></td><td class=\"tf\"><span class=\"plain outer rtl  hlbx\"  style=\"border-color: lightcoral;\" ><span class=\"plain txtu ara rtl\"></span><span class=\"plain  rtl  \" ><span class=\"plain txtu ara rtl\"></span><span class=\"plain  rtl  hl\" ><span class=\"txtu ara\">تِلْكَ </span></span></span><span class=\"plain  rtl  \" ><span class=\"plain txtu ara rtl\"></span><span class=\"plain  rtl  \" ><span class=\"txtu ara\">ٱل</span></span><span class=\"plain  rtl  hl\"  style=\"background-color: hsl(60, 80%, 70%);\" ><span class=\"txtu ara\">رُّسُلُ </span></span></span><span class=\"plain  rtl  \" ><span class=\"plain txtu ara rtl\"></span><span class=\"plain  rtl  hl\"  style=\"background-color: hsl(60, 80%, 70%);\" ><span class=\"txtu ara\">فَضَّلْ</span></span><span class=\"plain  rtl  \" ><span class=\"txtu ara\">نَا </span></span></span><span class=\"plain  rtl  \" ><span class=\"plain txtu ara rtl\"></span><span class=\"plain  rtl  hl\"  style=\"background-color: hsl(0, 90%, 60%);\" ><span class=\"txtu ara\">بَعْضَ</span></span><span class=\"plain  rtl  \" ><span class=\"txtu ara\">هُمْ </span></span></span><span class=\"plain  rtl  \" ><span class=\"plain txtu ara rtl\"></span><span class=\"plain  rtl  \" ><span class=\"txtu ara\">عَلَىٰ </span></span></span><span class=\"plain  rtl  \" ><span class=\"plain txtu ara rtl\"></span><span class=\"plain  rtl  hl\"  style=\"background-color: hsl(0, 90%, 60%);\" ><span class=\"txtu ara\">بَعْضٍ </span></span></span><span class=\"plain  rtl  \" ><span class=\"plain txtu ara rtl\"></span><span class=\"plain  rtl  \" ><span class=\"txtu ara\">مِّنْ</span></span><span class=\"plain  rtl  \" ><span class=\"txtu ara\">هُم </span></span></span><span class=\"plain  rtl  \" ><span class=\"plain txtu ara rtl\"></span><span class=\"plain  rtl  \" ><span class=\"txtu ara\">مَّن </span></span></span><span class=\"plain  rtl  \" ><span class=\"plain txtu ara rtl\"></span><span class=\"plain  rtl  hl\"  style=\"background-color: hsl(60, 80%, 70%);\" ><span class=\"txtu ara\">كَلَّمَ </span></span></span><span class=\"plain  rtl  \" ><span class=\"plain txtu ara rtl\"></span><span class=\"plain  rtl  hl\"  style=\"background-color: hsl(0, 100%, 50%);\" ><span class=\"txtu ara\">ٱللَّهُ </span></span></span><span class=\"plain  rtl  \" ><span class=\"plain txtu ara rtl\"></span><span class=\"plain  rtl  \" ><span class=\"txtu ara\">وَ</span></span><span class=\"plain  rtl  hl\"  style=\"background-color: hsl(60, 80%, 70%);\" ><span class=\"txtu ara\">رَفَعَ </span></span></span><span class=\"plain  rtl  \" ><span class=\"plain txtu ara rtl\"></span><span class=\"plain  rtl  hl\"  style=\"background-color: hsl(0, 90%, 60%);\" ><span class=\"txtu ara\">بَعْضَ</span></span><span class=\"plain  rtl  \" ><span class=\"txtu ara\">هُمْ </span></span></span><span class=\"plain  rtl  \" ><span class=\"plain txtu ara rtl\"></span><span class=\"plain  rtl  hl\"  style=\"background-color: hsl(60, 80%, 70%);\" ><span class=\"txtu ara\">دَرَجَٰتٍ </span></span></span><span class=\"plain  rtl  \" ><span class=\"plain txtu ara rtl\"></span><span class=\"plain  rtl  \" ><span class=\"txtu ara\">وَ</span></span><span class=\"plain  rtl  hl\"  style=\"background-color: hsl(0, 80%, 70%);\" ><span class=\"txtu ara\">ءَاتَيْ</span></span><span class=\"plain  rtl  \" ><span class=\"txtu ara\">نَا </span></span></span><span class=\"plain  rtl  \" ><span class=\"plain txtu ara rtl\"></span><span class=\"plain  rtl  hl\"  style=\"background-color: hsl(60, 80%, 70%);\" ><span class=\"txtu ara\">عِيسَى </span></span></span><span class=\"plain  rtl  \" ><span class=\"plain txtu ara rtl\"></span><span class=\"plain  rtl  hl\"  style=\"background-color: hsl(30, 80%, 70%);\" ><span class=\"txtu ara\">ٱبْنَ </span></span></span><span class=\"plain  rtl  \" ><span class=\"plain txtu ara rtl\"></span><span class=\"plain  rtl  hl\"  style=\"background-color: hsl(60, 80%, 70%);\" ><span class=\"txtu ara\">مَرْيَمَ </span></span></span><span class=\"plain  rtl  \" ><span class=\"plain txtu ara rtl\"></span><span class=\"plain  rtl  \" ><span class=\"txtu ara\">ٱلْ</span></span><span class=\"plain  rtl  hl\"  style=\"background-color: hsl(30, 80%, 70%);\" ><span class=\"txtu ara\">بَيِّنَٰتِ </span></span></span><span class=\"plain  rtl  \" ><span class=\"plain txtu ara rtl\"></span><span class=\"plain  rtl  \" ><span class=\"txtu ara\">وَ</span></span><span class=\"plain  rtl  hl\"  style=\"background-color: hsl(60, 80%, 70%);\" ><span class=\"txtu ara\">أَيَّدْ</span></span><span class=\"plain  rtl  \" ><span class=\"txtu ara\">نَٰ</span></span><span class=\"plain  rtl  \" ><span class=\"txtu ara\">هُ </span></span></span><span class=\"plain  rtl  \" ><span class=\"plain txtu ara rtl\"></span><span class=\"plain  rtl  \" ><span class=\"txtu ara\">بِ</span></span><span class=\"plain  rtl  hl\"  style=\"background-color: hsl(60, 80%, 70%);\" ><span class=\"txtu ara\">رُوحِ </span></span></span><span class=\"plain  rtl  \" ><span class=\"plain txtu ara rtl\"></span><span class=\"plain  rtl  \" ><span class=\"txtu ara\">ٱلْ</span></span><span class=\"plain  rtl  hl\"  style=\"background-color: hsl(60, 80%, 70%);\" ><span class=\"txtu ara\">قُدُسِ </span></span></span><span class=\"plain  rtl  \" ><span class=\"plain txtu ara rtl\"></span><span class=\"plain  rtl  \" ><span class=\"txtu ara\">وَ</span></span><span class=\"plain  rtl  \" ><span class=\"txtu ara\">لَوْ </span></span></span><span class=\"plain  rtl  \" ><span class=\"plain txtu ara rtl\"></span><span class=\"plain  rtl  hl\"  style=\"background-color: hsl(0, 90%, 60%);\" ><span class=\"txtu ara\">شَآءَ </span></span></span><span class=\"plain  rtl  \" ><span class=\"plain txtu ara rtl\"></span><span class=\"plain  rtl  hl\"  style=\"background-color: hsl(0, 100%, 50%);\" ><span class=\"txtu ara\">ٱللَّهُ </span></span></span><span class=\"plain  rtl  \" ><span class=\"plain txtu ara rtl\"></span><span class=\"plain  rtl  \" ><span class=\"txtu ara\">مَا </span></span></span><span class=\"plain  rtl  \" ><span class=\"plain txtu ara rtl\"></span><span class=\"plain  rtl  hl\"  style=\"background-color: hsl(30, 80%, 70%);\" ><span class=\"txtu ara\">ٱقْتَتَلَ </span></span></span><span class=\"plain  rtl  \" ><span class=\"plain txtu ara rtl\"></span><span class=\"plain  rtl  \" ><span class=\"txtu ara\">ٱلَّذِينَ </span></span></span><span class=\"plain  rtl  \" ><span class=\"plain txtu ara rtl\"></span><span class=\"plain  rtl  \" ><span class=\"txtu ara\">مِنۢ </span></span></span><span class=\"plain  rtl  \" ><span class=\"plain txtu ara rtl\"></span><span class=\"plain  rtl  hl\"  style=\"background-color: hsl(30, 80%, 70%);\" ><span class=\"txtu ara\">بَعْدِ</span></span><span class=\"plain  rtl  \" ><span class=\"txtu ara\">هِم </span></span></span><span class=\"plain  rtl  \" ><span class=\"plain txtu ara rtl\"></span><span class=\"plain  rtl  \" ><span class=\"txtu ara\">مِّنۢ </span></span></span><span class=\"plain  rtl  \" ><span class=\"plain txtu ara rtl\"></span><span class=\"plain  rtl  hl\"  style=\"background-color: hsl(30, 80%, 70%);\" ><span class=\"txtu ara\">بَعْدِ </span></span></span><span class=\"plain  rtl  \" ><span class=\"plain txtu ara rtl\"></span><span class=\"plain  rtl  \" ><span class=\"txtu ara\">مَا </span></span></span><span class=\"plain  rtl  \" ><span class=\"plain txtu ara rtl\"></span><span class=\"plain  rtl  hl\"  style=\"background-color: hsl(30, 80%, 70%);\" ><span class=\"txtu ara\">جَآءَتْ</span></span><span class=\"plain  rtl  \" ><span class=\"txtu ara\">هُمُ </span></span></span><span class=\"plain  rtl  \" ><span class=\"plain txtu ara rtl\"></span><span class=\"plain  rtl  \" ><span class=\"txtu ara\">ٱلْ</span></span><span class=\"plain  rtl  hl\"  style=\"background-color: hsl(30, 80%, 70%);\" ><span class=\"txtu ara\">بَيِّنَٰتُ </span></span></span><span class=\"plain  rtl  \" ><span class=\"plain txtu ara rtl\"></span><span class=\"plain  rtl  \" ><span class=\"txtu ara\">وَ</span></span><span class=\"plain  rtl  \" ><span class=\"txtu ara\">لَٰكِنِ </span></span></span><span class=\"plain  rtl  \" ><span class=\"plain txtu ara rtl\"></span><span class=\"plain  rtl  hl\"  style=\"background-color: hsl(30, 80%, 70%);\" ><span class=\"txtu ara\">ٱخْتَلَفُ</span></span><span class=\"plain  rtl  \" ><span class=\"txtu ara\">وا۟ </span></span></span><span class=\"plain  rtl  \" ><span class=\"plain txtu ara rtl\"></span><span class=\"plain  rtl  \" ><span class=\"txtu ara\">فَ</span></span><span class=\"plain  rtl  \" ><span class=\"txtu ara\">مِنْ</span></span><span class=\"plain  rtl  \" ><span class=\"txtu ara\">هُم </span></span></span><span class=\"plain  rtl  \" ><span class=\"plain txtu ara rtl\"></span><span class=\"plain  rtl  \" ><span class=\"txtu ara\">مَّنْ </span></span></span><span class=\"plain  rtl  \" ><span class=\"plain txtu ara rtl\"></span><span class=\"plain  rtl  hl\"  style=\"background-color: hsl(120, 100%, 90%);\" ><span class=\"txtu ara\">ءَامَنَ </span></span></span><span class=\"plain  rtl  \" ><span class=\"plain txtu ara rtl\"></span><span class=\"plain  rtl  \" ><span class=\"txtu ara\">وَ</span></span><span class=\"plain  rtl  \" ><span class=\"txtu ara\">مِنْ</span></span><span class=\"plain  rtl  \" ><span class=\"txtu ara\">هُم </span></span></span><span class=\"plain  rtl  \" ><span class=\"plain txtu ara rtl\"></span><span class=\"plain  rtl  \" ><span class=\"txtu ara\">مَّن </span></span></span><span class=\"plain  rtl  \" ><span class=\"plain txtu ara rtl\"></span><span class=\"plain  rtl  hl\"  style=\"background-color: hsl(0, 80%, 70%);\" ><span class=\"txtu ara\">كَفَرَ </span></span></span><span class=\"plain  rtl  \" ><span class=\"plain txtu ara rtl\"></span><span class=\"plain  rtl  \" ><span class=\"txtu ara\">وَ</span></span><span class=\"plain  rtl  \" ><span class=\"txtu ara\">لَوْ </span></span></span><span class=\"plain  rtl  \" ><span class=\"plain txtu ara rtl\"></span><span class=\"plain  rtl  hl\"  style=\"background-color: hsl(0, 90%, 60%);\" ><span class=\"txtu ara\">شَآءَ </span></span></span><span class=\"plain  rtl  \" ><span class=\"plain txtu ara rtl\"></span><span class=\"plain  rtl  hl\"  style=\"background-color: hsl(0, 100%, 50%);\" ><span class=\"txtu ara\">ٱللَّهُ </span></span></span><span class=\"plain  rtl  \" ><span class=\"plain txtu ara rtl\"></span><span class=\"plain  rtl  \" ><span class=\"txtu ara\">مَا </span></span></span><span class=\"plain  rtl  \" ><span class=\"plain txtu ara rtl\"></span><span class=\"plain  rtl  hl\"  style=\"background-color: hsl(30, 80%, 70%);\" ><span class=\"txtu ara\">ٱقْتَتَلُ</span></span><span class=\"plain  rtl  \" ><span class=\"txtu ara\">وا۟ </span></span></span><span class=\"plain  rtl  \" ><span class=\"plain txtu ara rtl\"></span><span class=\"plain  rtl  \" ><span class=\"txtu ara\">وَ</span></span><span class=\"plain  rtl  \" ><span class=\"txtu ara\">لَٰكِنَّ </span></span></span><span class=\"plain  rtl  \" ><span class=\"plain txtu ara rtl\"></span><span class=\"plain  rtl  hl\"  style=\"background-color: hsl(0, 100%, 50%);\" ><span class=\"txtu ara\">ٱللَّهَ </span></span></span><span class=\"plain  rtl  \" ><span class=\"plain txtu ara rtl\"></span><span class=\"plain  rtl  hl\"  style=\"background-color: hsl(30, 80%, 70%);\" ><span class=\"txtu ara\">يَفْعَلُ </span></span></span><span class=\"plain  rtl  \" ><span class=\"plain txtu ara rtl\"></span><span class=\"plain  rtl  \" ><span class=\"txtu ara\">مَا </span></span></span><span class=\"plain  rtl  \" ><span class=\"plain txtu ara rtl\"></span><span class=\"plain  rtl  hl\"  style=\"background-color: hsl(60, 80%, 70%);\" ><span class=\"txtu ara\">يُرِيدُ</span></span></span></span></td><td class=\"tf\"><span class=\"plain outer rtl  hl\" ><span class=\"txtu ara\">تِلْكَ </span></span></td></tr>\n",
       "<tr class=\"tf\"><td class=\"tf\">254</td><td class=\"tf\"><span class=\"section ltr\"><a target=\"_blank\" href=\"/#2:254\" title=\"show this passage on Tanzil\" sec=\"2:254\">2:254</a></span></td><td class=\"tf\"><span class=\"plain outer rtl  hlbx\"  style=\"border-color: gold;\" ><span class=\"plain txtu ara rtl\"></span><span class=\"plain  rtl  \" ><span class=\"plain txtu ara rtl\"></span><span class=\"plain  rtl  hl\"  style=\"background-color: lime;\" ><span class=\"txtu ara\">يَٰٓ</span></span><span class=\"plain  rtl  hl\"  style=\"background-color: hsl(120, 100%, 100%);\" ><span class=\"txtu ara\">أَيُّهَا </span></span></span><span class=\"plain  rtl  \" ><span class=\"plain txtu ara rtl\"></span><span class=\"plain  rtl  \" ><span class=\"txtu ara\">ٱلَّذِينَ </span></span></span><span class=\"plain  rtl  \" ><span class=\"plain txtu ara rtl\"></span><span class=\"plain  rtl  hl\"  style=\"background-color: hsl(120, 100%, 90%);\" ><span class=\"txtu ara\">ءَامَنُ</span></span><span class=\"plain  rtl  \" ><span class=\"txtu ara\">وٓا۟ </span></span></span><span class=\"plain  rtl  \" ><span class=\"plain txtu ara rtl\"></span><span class=\"plain  rtl  hl\"  style=\"background-color: hsl(120, 90%, 80%);\" ><span class=\"txtu ara\">أَنفِقُ</span></span><span class=\"plain  rtl  \" ><span class=\"txtu ara\">وا۟ </span></span></span><span class=\"plain  rtl  \" ><span class=\"plain txtu ara rtl\"></span><span class=\"plain  rtl  \" ><span class=\"txtu ara\">مِ</span></span><span class=\"plain  rtl  \" ><span class=\"txtu ara\">مَّا </span></span></span><span class=\"plain  rtl  \" ><span class=\"plain txtu ara rtl\"></span><span class=\"plain  rtl  hl\"  style=\"background-color: hsl(120, 90%, 80%);\" ><span class=\"txtu ara\">رَزَقْ</span></span><span class=\"plain  rtl  \" ><span class=\"txtu ara\">نَٰ</span></span><span class=\"plain  rtl  \" ><span class=\"txtu ara\">كُم </span></span></span><span class=\"plain  rtl  \" ><span class=\"plain txtu ara rtl\"></span><span class=\"plain  rtl  \" ><span class=\"txtu ara\">مِّن </span></span></span><span class=\"plain  rtl  \" ><span class=\"plain txtu ara rtl\"></span><span class=\"plain  rtl  hl\"  style=\"background-color: hsl(120, 90%, 80%);\" ><span class=\"txtu ara\">قَبْلِ </span></span></span><span class=\"plain  rtl  \" ><span class=\"plain txtu ara rtl\"></span><span class=\"plain  rtl  \" ><span class=\"txtu ara\">أَن </span></span></span><span class=\"plain  rtl  \" ><span class=\"plain txtu ara rtl\"></span><span class=\"plain  rtl  hl\"  style=\"background-color: hsl(120, 90%, 80%);\" ><span class=\"txtu ara\">يَأْتِىَ </span></span></span><span class=\"plain  rtl  \" ><span class=\"plain txtu ara rtl\"></span><span class=\"plain  rtl  hl\"  style=\"background-color: hsl(90, 70%, 80%);\" ><span class=\"txtu ara\">يَوْمٌ </span></span></span><span class=\"plain  rtl  \" ><span class=\"plain txtu ara rtl\"></span><span class=\"plain  rtl  \" ><span class=\"txtu ara\">لَّا </span></span></span><span class=\"plain  rtl  \" ><span class=\"plain txtu ara rtl\"></span><span class=\"plain  rtl  hl\"  style=\"background-color: hsl(120, 80%, 70%);\" ><span class=\"txtu ara\">بَيْعٌ </span></span></span><span class=\"plain  rtl  \" ><span class=\"plain txtu ara rtl\"></span><span class=\"plain  rtl  \" ><span class=\"txtu ara\">فِي</span></span><span class=\"plain  rtl  \" ><span class=\"txtu ara\">هِ </span></span></span><span class=\"plain  rtl  \" ><span class=\"plain txtu ara rtl\"></span><span class=\"plain  rtl  \" ><span class=\"txtu ara\">وَ</span></span><span class=\"plain  rtl  \" ><span class=\"txtu ara\">لَا </span></span></span><span class=\"plain  rtl  \" ><span class=\"plain txtu ara rtl\"></span><span class=\"plain  rtl  hl\"  style=\"background-color: hsl(120, 80%, 70%);\" ><span class=\"txtu ara\">خُلَّةٌ </span></span></span><span class=\"plain  rtl  \" ><span class=\"plain txtu ara rtl\"></span><span class=\"plain  rtl  \" ><span class=\"txtu ara\">وَ</span></span><span class=\"plain  rtl  \" ><span class=\"txtu ara\">لَا </span></span></span><span class=\"plain  rtl  \" ><span class=\"plain txtu ara rtl\"></span><span class=\"plain  rtl  hl\"  style=\"background-color: hsl(120, 80%, 70%);\" ><span class=\"txtu ara\">شَفَٰعَةٌ </span></span></span><span class=\"plain  rtl  \" ><span class=\"plain txtu ara rtl\"></span><span class=\"plain  rtl  \" ><span class=\"txtu ara\">وَ</span></span><span class=\"plain  rtl  \" ><span class=\"txtu ara\">ٱلْ</span></span><span class=\"plain  rtl  hl\"  style=\"background-color: hsl(120, 80%, 70%);\" ><span class=\"txtu ara\">كَٰفِرُونَ </span></span></span><span class=\"plain  rtl  \" ><span class=\"plain txtu ara rtl\"></span><span class=\"plain  rtl  \" ><span class=\"txtu ara\">هُمُ </span></span></span><span class=\"plain  rtl  \" ><span class=\"plain txtu ara rtl\"></span><span class=\"plain  rtl  \" ><span class=\"txtu ara\">ٱل</span></span><span class=\"plain  rtl  hl\"  style=\"background-color: hsl(120, 80%, 70%);\" ><span class=\"txtu ara\">ظَّٰلِمُونَ</span></span></span></span></td><td class=\"tf\"><span class=\"plain outer rtl  hl\"  style=\"background-color: lime;\" ><span class=\"txtu ara\">يَٰٓ</span></span></td></tr>\n",
       "<tr class=\"tf\"><td class=\"tf\">255</td><td class=\"tf\"><span class=\"section ltr\"><a target=\"_blank\" href=\"/#2:255\" title=\"show this passage on Tanzil\" sec=\"2:255\">2:255</a></span></td><td class=\"tf\"><span class=\"plain outer rtl  \" ><span class=\"plain txtu ara rtl\"></span><span class=\"plain  rtl  \" ><span class=\"plain txtu ara rtl\"></span><span class=\"plain  rtl  hl\"  style=\"background-color: hsl(0, 100%, 50%);\" ><span class=\"txtu ara\">ٱللَّهُ </span></span></span><span class=\"plain  rtl  \" ><span class=\"plain txtu ara rtl\"></span><span class=\"plain  rtl  \" ><span class=\"txtu ara\">لَآ </span></span></span><span class=\"plain  rtl  \" ><span class=\"plain txtu ara rtl\"></span><span class=\"plain  rtl  hl\"  style=\"background-color: hsl(120, 80%, 70%);\" ><span class=\"txtu ara\">إِلَٰهَ </span></span></span><span class=\"plain  rtl  \" ><span class=\"plain txtu ara rtl\"></span><span class=\"plain  rtl  \" ><span class=\"txtu ara\">إِلَّا </span></span></span><span class=\"plain  rtl  \" ><span class=\"plain txtu ara rtl\"></span><span class=\"plain  rtl  \" ><span class=\"txtu ara\">هُوَ </span></span></span><span class=\"plain  rtl  \" ><span class=\"plain txtu ara rtl\"></span><span class=\"plain  rtl  \" ><span class=\"txtu ara\">ٱلْ</span></span><span class=\"plain  rtl  hl\"  style=\"background-color: hsl(120, 90%, 80%);\" ><span class=\"txtu ara\">حَىُّ </span></span></span><span class=\"plain  rtl  \" ><span class=\"plain txtu ara rtl\"></span><span class=\"plain  rtl  \" ><span class=\"txtu ara\">ٱلْ</span></span><span class=\"plain  rtl  \" ><span class=\"txtu ara\">قَيُّومُ </span></span></span><span class=\"plain  rtl  \" ><span class=\"plain txtu ara rtl\"></span><span class=\"plain  rtl  \" ><span class=\"txtu ara\">لَا </span></span></span><span class=\"plain  rtl  \" ><span class=\"plain txtu ara rtl\"></span><span class=\"plain  rtl  hl\"  style=\"background-color: hsl(120, 80%, 70%);\" ><span class=\"txtu ara\">تَأْخُذُ</span></span><span class=\"plain  rtl  \" ><span class=\"txtu ara\">هُۥ </span></span></span><span class=\"plain  rtl  \" ><span class=\"plain txtu ara rtl\"></span><span class=\"plain  rtl  hl\"  style=\"background-color: hsl(120, 80%, 70%);\" ><span class=\"txtu ara\">سِنَةٌ </span></span></span><span class=\"plain  rtl  \" ><span class=\"plain txtu ara rtl\"></span><span class=\"plain  rtl  \" ><span class=\"txtu ara\">وَ</span></span><span class=\"plain  rtl  \" ><span class=\"txtu ara\">لَا </span></span></span><span class=\"plain  rtl  \" ><span class=\"plain txtu ara rtl\"></span><span class=\"plain  rtl  hl\"  style=\"background-color: hsl(120, 80%, 70%);\" ><span class=\"txtu ara\">نَوْمٌ </span></span></span><span class=\"plain  rtl  \" ><span class=\"plain txtu ara rtl\"></span><span class=\"plain  rtl  \" ><span class=\"txtu ara\">لَّ</span></span><span class=\"plain  rtl  \" ><span class=\"txtu ara\">هُۥ </span></span></span><span class=\"plain  rtl  \" ><span class=\"plain txtu ara rtl\"></span><span class=\"plain  rtl  \" ><span class=\"txtu ara\">مَا </span></span></span><span class=\"plain  rtl  \" ><span class=\"plain txtu ara rtl\"></span><span class=\"plain  rtl  \" ><span class=\"txtu ara\">فِى </span></span></span><span class=\"plain  rtl  \" ><span class=\"plain txtu ara rtl\"></span><span class=\"plain  rtl  \" ><span class=\"txtu ara\">ٱل</span></span><span class=\"plain  rtl  hl\"  style=\"background-color: hsl(120, 90%, 80%);\" ><span class=\"txtu ara\">سَّمَٰوَٰتِ </span></span></span><span class=\"plain  rtl  \" ><span class=\"plain txtu ara rtl\"></span><span class=\"plain  rtl  \" ><span class=\"txtu ara\">وَ</span></span><span class=\"plain  rtl  \" ><span class=\"txtu ara\">مَا </span></span></span><span class=\"plain  rtl  \" ><span class=\"plain txtu ara rtl\"></span><span class=\"plain  rtl  \" ><span class=\"txtu ara\">فِى </span></span></span><span class=\"plain  rtl  \" ><span class=\"plain txtu ara rtl\"></span><span class=\"plain  rtl  \" ><span class=\"txtu ara\">ٱلْ</span></span><span class=\"plain  rtl  hl\"  style=\"background-color: hsl(90, 70%, 80%);\" ><span class=\"txtu ara\">أَرْضِ </span></span></span><span class=\"plain  rtl  \" ><span class=\"plain txtu ara rtl\"></span><span class=\"plain  rtl  \" ><span class=\"txtu ara\">مَن </span></span></span><span class=\"plain  rtl  \" ><span class=\"plain txtu ara rtl\"></span><span class=\"plain  rtl  \" ><span class=\"txtu ara\">ذَا </span></span></span><span class=\"plain  rtl  \" ><span class=\"plain txtu ara rtl\"></span><span class=\"plain  rtl  \" ><span class=\"txtu ara\">ٱلَّذِى </span></span></span><span class=\"plain  rtl  \" ><span class=\"plain txtu ara rtl\"></span><span class=\"plain  rtl  hl\"  style=\"background-color: hsl(120, 80%, 70%);\" ><span class=\"txtu ara\">يَشْفَعُ </span></span></span><span class=\"plain  rtl  \" ><span class=\"plain txtu ara rtl\"></span><span class=\"plain  rtl  hl\"  style=\"background-color: hsl(30, 80%, 70%);\" ><span class=\"txtu ara\">عِندَ</span></span><span class=\"plain  rtl  \" ><span class=\"txtu ara\">هُۥٓ </span></span></span><span class=\"plain  rtl  \" ><span class=\"plain txtu ara rtl\"></span><span class=\"plain  rtl  \" ><span class=\"txtu ara\">إِلَّا </span></span></span><span class=\"plain  rtl  \" ><span class=\"plain txtu ara rtl\"></span><span class=\"plain  rtl  \" ><span class=\"txtu ara\">بِ</span></span><span class=\"plain  rtl  hl\"  style=\"background-color: hsl(60, 80%, 70%);\" ><span class=\"txtu ara\">إِذْنِ</span></span><span class=\"plain  rtl  \" ><span class=\"txtu ara\">هِۦ </span></span></span><span class=\"plain  rtl  \" ><span class=\"plain txtu ara rtl\"></span><span class=\"plain  rtl  hl\"  style=\"background-color: hsl(120, 80%, 70%);\" ><span class=\"txtu ara\">يَعْلَمُ </span></span></span><span class=\"plain  rtl  \" ><span class=\"plain txtu ara rtl\"></span><span class=\"plain  rtl  \" ><span class=\"txtu ara\">مَا </span></span></span><span class=\"plain  rtl  \" ><span class=\"plain txtu ara rtl\"></span><span class=\"plain  rtl  \" ><span class=\"txtu ara\">بَيْنَ </span></span></span><span class=\"plain  rtl  \" ><span class=\"plain txtu ara rtl\"></span><span class=\"plain  rtl  hl\"  style=\"background-color: hsl(120, 80%, 70%);\" ><span class=\"txtu ara\">أَيْدِي</span></span><span class=\"plain  rtl  \" ><span class=\"txtu ara\">هِمْ </span></span></span><span class=\"plain  rtl  \" ><span class=\"plain txtu ara rtl\"></span><span class=\"plain  rtl  \" ><span class=\"txtu ara\">وَ</span></span><span class=\"plain  rtl  \" ><span class=\"txtu ara\">مَا </span></span></span><span class=\"plain  rtl  \" ><span class=\"plain txtu ara rtl\"></span><span class=\"plain  rtl  \" ><span class=\"txtu ara\">خَلْفَ</span></span><span class=\"plain  rtl  \" ><span class=\"txtu ara\">هُمْ </span></span></span><span class=\"plain  rtl  \" ><span class=\"plain txtu ara rtl\"></span><span class=\"plain  rtl  \" ><span class=\"txtu ara\">وَ</span></span><span class=\"plain  rtl  \" ><span class=\"txtu ara\">لَا </span></span></span><span class=\"plain  rtl  \" ><span class=\"plain txtu ara rtl\"></span><span class=\"plain  rtl  hl\"  style=\"background-color: hsl(120, 80%, 70%);\" ><span class=\"txtu ara\">يُحِيطُ</span></span><span class=\"plain  rtl  \" ><span class=\"txtu ara\">ونَ </span></span></span><span class=\"plain  rtl  \" ><span class=\"plain txtu ara rtl\"></span><span class=\"plain  rtl  \" ><span class=\"txtu ara\">بِ</span></span><span class=\"plain  rtl  hl\"  style=\"background-color: hsl(60, 80%, 70%);\" ><span class=\"txtu ara\">شَىْءٍ </span></span></span><span class=\"plain  rtl  \" ><span class=\"plain txtu ara rtl\"></span><span class=\"plain  rtl  \" ><span class=\"txtu ara\">مِّنْ </span></span></span><span class=\"plain  rtl  \" ><span class=\"plain txtu ara rtl\"></span><span class=\"plain  rtl  hl\"  style=\"background-color: hsl(120, 80%, 70%);\" ><span class=\"txtu ara\">عِلْمِ</span></span><span class=\"plain  rtl  \" ><span class=\"txtu ara\">هِۦٓ </span></span></span><span class=\"plain  rtl  \" ><span class=\"plain txtu ara rtl\"></span><span class=\"plain  rtl  \" ><span class=\"txtu ara\">إِلَّا </span></span></span><span class=\"plain  rtl  \" ><span class=\"plain txtu ara rtl\"></span><span class=\"plain  rtl  \" ><span class=\"txtu ara\">بِ</span></span><span class=\"plain  rtl  \" ><span class=\"txtu ara\">مَا </span></span></span><span class=\"plain  rtl  \" ><span class=\"plain txtu ara rtl\"></span><span class=\"plain  rtl  hl\"  style=\"background-color: hsl(0, 90%, 60%);\" ><span class=\"txtu ara\">شَآءَ </span></span></span><span class=\"plain  rtl  \" ><span class=\"plain txtu ara rtl\"></span><span class=\"plain  rtl  hl\"  style=\"background-color: hsl(120, 80%, 70%);\" ><span class=\"txtu ara\">وَسِعَ </span></span></span><span class=\"plain  rtl  \" ><span class=\"plain txtu ara rtl\"></span><span class=\"plain  rtl  hl\"  style=\"background-color: hsl(120, 80%, 70%);\" ><span class=\"txtu ara\">كُرْسِيُّ</span></span><span class=\"plain  rtl  \" ><span class=\"txtu ara\">هُ </span></span></span><span class=\"plain  rtl  \" ><span class=\"plain txtu ara rtl\"></span><span class=\"plain  rtl  \" ><span class=\"txtu ara\">ٱل</span></span><span class=\"plain  rtl  hl\"  style=\"background-color: hsl(120, 90%, 80%);\" ><span class=\"txtu ara\">سَّمَٰوَٰتِ </span></span></span><span class=\"plain  rtl  \" ><span class=\"plain txtu ara rtl\"></span><span class=\"plain  rtl  \" ><span class=\"txtu ara\">وَ</span></span><span class=\"plain  rtl  \" ><span class=\"txtu ara\">ٱلْ</span></span><span class=\"plain  rtl  hl\"  style=\"background-color: hsl(90, 70%, 80%);\" ><span class=\"txtu ara\">أَرْضَ </span></span></span><span class=\"plain  rtl  \" ><span class=\"plain txtu ara rtl\"></span><span class=\"plain  rtl  \" ><span class=\"txtu ara\">وَ</span></span><span class=\"plain  rtl  \" ><span class=\"txtu ara\">لَا </span></span></span><span class=\"plain  rtl  \" ><span class=\"plain txtu ara rtl\"></span><span class=\"plain  rtl  hl\"  style=\"background-color: hsl(120, 80%, 70%);\" ><span class=\"txtu ara\">يَـُٔودُ</span></span><span class=\"plain  rtl  \" ><span class=\"txtu ara\">هُۥ </span></span></span><span class=\"plain  rtl  \" ><span class=\"plain txtu ara rtl\"></span><span class=\"plain  rtl  hl\"  style=\"background-color: hsl(120, 80%, 70%);\" ><span class=\"txtu ara\">حِفْظُ</span></span><span class=\"plain  rtl  \" ><span class=\"txtu ara\">هُمَا </span></span></span><span class=\"plain  rtl  \" ><span class=\"plain txtu ara rtl\"></span><span class=\"plain  rtl  \" ><span class=\"txtu ara\">وَ</span></span><span class=\"plain  rtl  \" ><span class=\"txtu ara\">هُوَ </span></span></span><span class=\"plain  rtl  \" ><span class=\"plain txtu ara rtl\"></span><span class=\"plain  rtl  \" ><span class=\"txtu ara\">ٱلْ</span></span><span class=\"plain  rtl  hl\"  style=\"background-color: hsl(120, 80%, 70%);\" ><span class=\"txtu ara\">عَلِىُّ </span></span></span><span class=\"plain  rtl  \" ><span class=\"plain txtu ara rtl\"></span><span class=\"plain  rtl  \" ><span class=\"txtu ara\">ٱلْ</span></span><span class=\"plain  rtl  \" ><span class=\"txtu ara\">عَظِيمُ</span></span></span></span></td><td class=\"tf\"><span class=\"plain outer rtl  hl\"  style=\"background-color: hsl(0, 100%, 50%);\" ><span class=\"txtu ara\">ٱللَّهُ </span></span></td></tr>\n",
       "<tr class=\"tf\"><td class=\"tf\">256</td><td class=\"tf\"><span class=\"section ltr\"><a target=\"_blank\" href=\"/#2:256\" title=\"show this passage on Tanzil\" sec=\"2:256\">2:256</a></span></td><td class=\"tf\"><span class=\"plain outer rtl  \" ><span class=\"plain txtu ara rtl\"></span><span class=\"plain  rtl  \" ><span class=\"plain txtu ara rtl\"></span><span class=\"plain  rtl  hl\" ><span class=\"txtu ara\">لَآ </span></span></span><span class=\"plain  rtl  \" ><span class=\"plain txtu ara rtl\"></span><span class=\"plain  rtl  hl\"  style=\"background-color: hsl(120, 80%, 70%);\" ><span class=\"txtu ara\">إِكْرَاهَ </span></span></span><span class=\"plain  rtl  \" ><span class=\"plain txtu ara rtl\"></span><span class=\"plain  rtl  \" ><span class=\"txtu ara\">فِى </span></span></span><span class=\"plain  rtl  \" ><span class=\"plain txtu ara rtl\"></span><span class=\"plain  rtl  \" ><span class=\"txtu ara\">ٱل</span></span><span class=\"plain  rtl  hl\"  style=\"background-color: hsl(120, 80%, 70%);\" ><span class=\"txtu ara\">دِّينِ </span></span></span><span class=\"plain  rtl  \" ><span class=\"plain txtu ara rtl\"></span><span class=\"plain  rtl  \" ><span class=\"txtu ara\">قَد </span></span></span><span class=\"plain  rtl  \" ><span class=\"plain txtu ara rtl\"></span><span class=\"plain  rtl  hl\"  style=\"background-color: hsl(120, 80%, 70%);\" ><span class=\"txtu ara\">تَّبَيَّنَ </span></span></span><span class=\"plain  rtl  \" ><span class=\"plain txtu ara rtl\"></span><span class=\"plain  rtl  \" ><span class=\"txtu ara\">ٱل</span></span><span class=\"plain  rtl  hl\"  style=\"background-color: hsl(120, 80%, 70%);\" ><span class=\"txtu ara\">رُّشْدُ </span></span></span><span class=\"plain  rtl  \" ><span class=\"plain txtu ara rtl\"></span><span class=\"plain  rtl  \" ><span class=\"txtu ara\">مِنَ </span></span></span><span class=\"plain  rtl  \" ><span class=\"plain txtu ara rtl\"></span><span class=\"plain  rtl  \" ><span class=\"txtu ara\">ٱلْ</span></span><span class=\"plain  rtl  hl\"  style=\"background-color: hsl(120, 80%, 70%);\" ><span class=\"txtu ara\">غَىِّ </span></span></span><span class=\"plain  rtl  \" ><span class=\"plain txtu ara rtl\"></span><span class=\"plain  rtl  \" ><span class=\"txtu ara\">فَ</span></span><span class=\"plain  rtl  \" ><span class=\"txtu ara\">مَن </span></span></span><span class=\"plain  rtl  \" ><span class=\"plain txtu ara rtl\"></span><span class=\"plain  rtl  hl\"  style=\"background-color: hsl(0, 80%, 70%);\" ><span class=\"txtu ara\">يَكْفُرْ </span></span></span><span class=\"plain  rtl  \" ><span class=\"plain txtu ara rtl\"></span><span class=\"plain  rtl  \" ><span class=\"txtu ara\">بِ</span></span><span class=\"plain  rtl  \" ><span class=\"txtu ara\">ٱل</span></span><span class=\"plain  rtl  hl\"  style=\"background-color: hsl(120, 80%, 70%);\" ><span class=\"txtu ara\">طَّٰغُوتِ </span></span></span><span class=\"plain  rtl  \" ><span class=\"plain txtu ara rtl\"></span><span class=\"plain  rtl  \" ><span class=\"txtu ara\">وَ</span></span><span class=\"plain  rtl  hl\"  style=\"background-color: hsl(120, 100%, 90%);\" ><span class=\"txtu ara\">يُؤْمِنۢ </span></span></span><span class=\"plain  rtl  \" ><span class=\"plain txtu ara rtl\"></span><span class=\"plain  rtl  \" ><span class=\"txtu ara\">بِ</span></span><span class=\"plain  rtl  hl\"  style=\"background-color: hsl(0, 100%, 50%);\" ><span class=\"txtu ara\">ٱللَّهِ </span></span></span><span class=\"plain  rtl  \" ><span class=\"plain txtu ara rtl\"></span><span class=\"plain  rtl  \" ><span class=\"txtu ara\">فَ</span></span><span class=\"plain  rtl  \" ><span class=\"txtu ara\">قَدِ </span></span></span><span class=\"plain  rtl  \" ><span class=\"plain txtu ara rtl\"></span><span class=\"plain  rtl  hl\"  style=\"background-color: hsl(120, 80%, 70%);\" ><span class=\"txtu ara\">ٱسْتَمْسَكَ </span></span></span><span class=\"plain  rtl  \" ><span class=\"plain txtu ara rtl\"></span><span class=\"plain  rtl  \" ><span class=\"txtu ara\">بِ</span></span><span class=\"plain  rtl  \" ><span class=\"txtu ara\">ٱلْ</span></span><span class=\"plain  rtl  hl\"  style=\"background-color: hsl(120, 80%, 70%);\" ><span class=\"txtu ara\">عُرْوَةِ </span></span></span><span class=\"plain  rtl  \" ><span class=\"plain txtu ara rtl\"></span><span class=\"plain  rtl  \" ><span class=\"txtu ara\">ٱلْ</span></span><span class=\"plain  rtl  \" ><span class=\"txtu ara\">وُثْقَىٰ </span></span></span><span class=\"plain  rtl  \" ><span class=\"plain txtu ara rtl\"></span><span class=\"plain  rtl  \" ><span class=\"txtu ara\">لَا </span></span></span><span class=\"plain  rtl  \" ><span class=\"plain txtu ara rtl\"></span><span class=\"plain  rtl  hl\"  style=\"background-color: hsl(120, 80%, 70%);\" ><span class=\"txtu ara\">ٱنفِصَامَ </span></span></span><span class=\"plain  rtl  \" ><span class=\"plain txtu ara rtl\"></span><span class=\"plain  rtl  \" ><span class=\"txtu ara\">لَ</span></span><span class=\"plain  rtl  \" ><span class=\"txtu ara\">هَا </span></span></span><span class=\"plain  rtl  \" ><span class=\"plain txtu ara rtl\"></span><span class=\"plain  rtl  \" ><span class=\"txtu ara\">وَ</span></span><span class=\"plain  rtl  hl\"  style=\"background-color: hsl(0, 100%, 50%);\" ><span class=\"txtu ara\">ٱللَّهُ </span></span></span><span class=\"plain  rtl  \" ><span class=\"plain txtu ara rtl\"></span><span class=\"plain  rtl  hl\"  style=\"background-color: hsl(120, 80%, 70%);\" ><span class=\"txtu ara\">سَمِيعٌ </span></span></span><span class=\"plain  rtl  \" ><span class=\"plain txtu ara rtl\"></span><span class=\"plain  rtl  hl\"  style=\"background-color: hsl(30, 80%, 70%);\" ><span class=\"txtu ara\">عَلِيمٌ</span></span></span></span></td><td class=\"tf\"><span class=\"plain outer rtl  hl\" ><span class=\"txtu ara\">لَآ </span></span></td></tr>\n",
       "<tr class=\"tf\"><td class=\"tf\">257</td><td class=\"tf\"><span class=\"section ltr\"><a target=\"_blank\" href=\"/#2:257\" title=\"show this passage on Tanzil\" sec=\"2:257\">2:257</a></span></td><td class=\"tf\"><span class=\"plain outer rtl  \" ><span class=\"plain txtu ara rtl\"></span><span class=\"plain  rtl  \" ><span class=\"plain txtu ara rtl\"></span><span class=\"plain  rtl  hl\"  style=\"background-color: hsl(0, 100%, 50%);\" ><span class=\"txtu ara\">ٱللَّهُ </span></span></span><span class=\"plain  rtl  \" ><span class=\"plain txtu ara rtl\"></span><span class=\"plain  rtl  hl\"  style=\"background-color: hsl(60, 80%, 70%);\" ><span class=\"txtu ara\">وَلِىُّ </span></span></span><span class=\"plain  rtl  \" ><span class=\"plain txtu ara rtl\"></span><span class=\"plain  rtl  \" ><span class=\"txtu ara\">ٱلَّذِينَ </span></span></span><span class=\"plain  rtl  \" ><span class=\"plain txtu ara rtl\"></span><span class=\"plain  rtl  hl\"  style=\"background-color: hsl(120, 100%, 90%);\" ><span class=\"txtu ara\">ءَامَنُ</span></span><span class=\"plain  rtl  \" ><span class=\"txtu ara\">وا۟ </span></span></span><span class=\"plain  rtl  \" ><span class=\"plain txtu ara rtl\"></span><span class=\"plain  rtl  hl\"  style=\"background-color: hsl(120, 80%, 70%);\" ><span class=\"txtu ara\">يُخْرِجُ</span></span><span class=\"plain  rtl  \" ><span class=\"txtu ara\">هُم </span></span></span><span class=\"plain  rtl  \" ><span class=\"plain txtu ara rtl\"></span><span class=\"plain  rtl  \" ><span class=\"txtu ara\">مِّنَ </span></span></span><span class=\"plain  rtl  \" ><span class=\"plain txtu ara rtl\"></span><span class=\"plain  rtl  \" ><span class=\"txtu ara\">ٱل</span></span><span class=\"plain  rtl  hl\"  style=\"background-color: hsl(60, 80%, 70%);\" ><span class=\"txtu ara\">ظُّلُمَٰتِ </span></span></span><span class=\"plain  rtl  \" ><span class=\"plain txtu ara rtl\"></span><span class=\"plain  rtl  \" ><span class=\"txtu ara\">إِلَى </span></span></span><span class=\"plain  rtl  \" ><span class=\"plain txtu ara rtl\"></span><span class=\"plain  rtl  \" ><span class=\"txtu ara\">ٱل</span></span><span class=\"plain  rtl  \" ><span class=\"txtu ara\">نُّورِ </span></span></span><span class=\"plain  rtl  \" ><span class=\"plain txtu ara rtl\"></span><span class=\"plain  rtl  \" ><span class=\"txtu ara\">وَ</span></span><span class=\"plain  rtl  \" ><span class=\"txtu ara\">ٱلَّذِينَ </span></span></span><span class=\"plain  rtl  \" ><span class=\"plain txtu ara rtl\"></span><span class=\"plain  rtl  hl\"  style=\"background-color: hsl(0, 80%, 70%);\" ><span class=\"txtu ara\">كَفَرُ</span></span><span class=\"plain  rtl  \" ><span class=\"txtu ara\">وٓا۟ </span></span></span><span class=\"plain  rtl  \" ><span class=\"plain txtu ara rtl\"></span><span class=\"plain  rtl  hl\"  style=\"background-color: hsl(60, 80%, 70%);\" ><span class=\"txtu ara\">أَوْلِيَآؤُ</span></span><span class=\"plain  rtl  \" ><span class=\"txtu ara\">هُمُ </span></span></span><span class=\"plain  rtl  \" ><span class=\"plain txtu ara rtl\"></span><span class=\"plain  rtl  \" ><span class=\"txtu ara\">ٱل</span></span><span class=\"plain  rtl  hl\"  style=\"background-color: hsl(120, 80%, 70%);\" ><span class=\"txtu ara\">طَّٰغُوتُ </span></span></span><span class=\"plain  rtl  \" ><span class=\"plain txtu ara rtl\"></span><span class=\"plain  rtl  hl\"  style=\"background-color: hsl(120, 80%, 70%);\" ><span class=\"txtu ara\">يُخْرِجُ</span></span><span class=\"plain  rtl  \" ><span class=\"txtu ara\">ونَ</span></span><span class=\"plain  rtl  \" ><span class=\"txtu ara\">هُم </span></span></span><span class=\"plain  rtl  \" ><span class=\"plain txtu ara rtl\"></span><span class=\"plain  rtl  \" ><span class=\"txtu ara\">مِّنَ </span></span></span><span class=\"plain  rtl  \" ><span class=\"plain txtu ara rtl\"></span><span class=\"plain  rtl  \" ><span class=\"txtu ara\">ٱل</span></span><span class=\"plain  rtl  \" ><span class=\"txtu ara\">نُّورِ </span></span></span><span class=\"plain  rtl  \" ><span class=\"plain txtu ara rtl\"></span><span class=\"plain  rtl  \" ><span class=\"txtu ara\">إِلَى </span></span></span><span class=\"plain  rtl  \" ><span class=\"plain txtu ara rtl\"></span><span class=\"plain  rtl  \" ><span class=\"txtu ara\">ٱل</span></span><span class=\"plain  rtl  hl\"  style=\"background-color: hsl(60, 80%, 70%);\" ><span class=\"txtu ara\">ظُّلُمَٰتِ </span></span></span><span class=\"plain  rtl  \" ><span class=\"plain txtu ara rtl\"></span><span class=\"plain  rtl  \" ><span class=\"txtu ara\">أُو۟لَٰٓئِكَ </span></span></span><span class=\"plain  rtl  \" ><span class=\"plain txtu ara rtl\"></span><span class=\"plain  rtl  hl\"  style=\"background-color: hsl(60, 80%, 70%);\" ><span class=\"txtu ara\">أَصْحَٰبُ </span></span></span><span class=\"plain  rtl  \" ><span class=\"plain txtu ara rtl\"></span><span class=\"plain  rtl  \" ><span class=\"txtu ara\">ٱل</span></span><span class=\"plain  rtl  hl\"  style=\"background-color: hsl(30, 80%, 70%);\" ><span class=\"txtu ara\">نَّارِ </span></span></span><span class=\"plain  rtl  \" ><span class=\"plain txtu ara rtl\"></span><span class=\"plain  rtl  \" ><span class=\"txtu ara\">هُمْ </span></span></span><span class=\"plain  rtl  \" ><span class=\"plain txtu ara rtl\"></span><span class=\"plain  rtl  \" ><span class=\"txtu ara\">فِي</span></span><span class=\"plain  rtl  \" ><span class=\"txtu ara\">هَا </span></span></span><span class=\"plain  rtl  \" ><span class=\"plain txtu ara rtl\"></span><span class=\"plain  rtl  hl\"  style=\"background-color: hsl(60, 80%, 70%);\" ><span class=\"txtu ara\">خَٰلِدُونَ</span></span></span></span></td><td class=\"tf\"><span class=\"plain outer rtl  hl\"  style=\"background-color: hsl(0, 100%, 50%);\" ><span class=\"txtu ara\">ٱللَّهُ </span></span></td></tr>\n",
       "<tr class=\"tf\"><td class=\"tf\">258</td><td class=\"tf\"><span class=\"section ltr\"><a target=\"_blank\" href=\"/#2:258\" title=\"show this passage on Tanzil\" sec=\"2:258\">2:258</a></span></td><td class=\"tf\"><span class=\"plain outer rtl  \" ><span class=\"plain txtu ara rtl\"></span><span class=\"plain  rtl  \" ><span class=\"plain txtu ara rtl\"></span><span class=\"plain  rtl  hl\" ><span class=\"txtu ara\">أَ</span></span><span class=\"plain  rtl  \" ><span class=\"txtu ara\">لَمْ </span></span></span><span class=\"plain  rtl  \" ><span class=\"plain txtu ara rtl\"></span><span class=\"plain  rtl  hl\"  style=\"background-color: hsl(120, 80%, 70%);\" ><span class=\"txtu ara\">تَرَ </span></span></span><span class=\"plain  rtl  \" ><span class=\"plain txtu ara rtl\"></span><span class=\"plain  rtl  \" ><span class=\"txtu ara\">إِلَى </span></span></span><span class=\"plain  rtl  \" ><span class=\"plain txtu ara rtl\"></span><span class=\"plain  rtl  \" ><span class=\"txtu ara\">ٱلَّذِى </span></span></span><span class=\"plain  rtl  \" ><span class=\"plain txtu ara rtl\"></span><span class=\"plain  rtl  hl\"  style=\"background-color: hsl(60, 80%, 70%);\" ><span class=\"txtu ara\">حَآجَّ </span></span></span><span class=\"plain  rtl  \" ><span class=\"plain txtu ara rtl\"></span><span class=\"plain  rtl  hl\"  style=\"background-color: hsl(60, 80%, 70%);\" ><span class=\"txtu ara\">إِبْرَٰهِۦمَ </span></span></span><span class=\"plain  rtl  \" ><span class=\"plain txtu ara rtl\"></span><span class=\"plain  rtl  \" ><span class=\"txtu ara\">فِى </span></span></span><span class=\"plain  rtl  \" ><span class=\"plain txtu ara rtl\"></span><span class=\"plain  rtl  hl\"  style=\"background-color: hsl(60, 80%, 70%);\" ><span class=\"txtu ara\">رَبِّ</span></span><span class=\"plain  rtl  \" ><span class=\"txtu ara\">هِۦٓ </span></span></span><span class=\"plain  rtl  \" ><span class=\"plain txtu ara rtl\"></span><span class=\"plain  rtl  \" ><span class=\"txtu ara\">أَنْ </span></span></span><span class=\"plain  rtl  \" ><span class=\"plain txtu ara rtl\"></span><span class=\"plain  rtl  hl\"  style=\"background-color: hsl(0, 80%, 70%);\" ><span class=\"txtu ara\">ءَاتَىٰ</span></span><span class=\"plain  rtl  \" ><span class=\"txtu ara\">هُ </span></span></span><span class=\"plain  rtl  \" ><span class=\"plain txtu ara rtl\"></span><span class=\"plain  rtl  hl\"  style=\"background-color: hsl(0, 100%, 50%);\" ><span class=\"txtu ara\">ٱللَّهُ </span></span></span><span class=\"plain  rtl  \" ><span class=\"plain txtu ara rtl\"></span><span class=\"plain  rtl  \" ><span class=\"txtu ara\">ٱلْ</span></span><span class=\"plain  rtl  hl\"  style=\"background-color: hsl(30, 80%, 70%);\" ><span class=\"txtu ara\">مُلْكَ </span></span></span><span class=\"plain  rtl  \" ><span class=\"plain txtu ara rtl\"></span><span class=\"plain  rtl  \" ><span class=\"txtu ara\">إِذْ </span></span></span><span class=\"plain  rtl  \" ><span class=\"plain txtu ara rtl\"></span><span class=\"plain  rtl  hl\"  style=\"background-color: hsl(90, 70%, 80%);\" ><span class=\"txtu ara\">قَالَ </span></span></span><span class=\"plain  rtl  \" ><span class=\"plain txtu ara rtl\"></span><span class=\"plain  rtl  hl\"  style=\"background-color: hsl(60, 80%, 70%);\" ><span class=\"txtu ara\">إِبْرَٰهِۦمُ </span></span></span><span class=\"plain  rtl  \" ><span class=\"plain txtu ara rtl\"></span><span class=\"plain  rtl  hl\"  style=\"background-color: hsl(60, 80%, 70%);\" ><span class=\"txtu ara\">رَبِّ</span></span><span class=\"plain  rtl  \" ><span class=\"txtu ara\">ىَ </span></span></span><span class=\"plain  rtl  \" ><span class=\"plain txtu ara rtl\"></span><span class=\"plain  rtl  \" ><span class=\"txtu ara\">ٱلَّذِى </span></span></span><span class=\"plain  rtl  \" ><span class=\"plain txtu ara rtl\"></span><span class=\"plain  rtl  hl\"  style=\"background-color: hsl(90, 70%, 80%);\" ><span class=\"txtu ara\">يُحْىِۦ </span></span></span><span class=\"plain  rtl  \" ><span class=\"plain txtu ara rtl\"></span><span class=\"plain  rtl  \" ><span class=\"txtu ara\">وَ</span></span><span class=\"plain  rtl  \" ><span class=\"txtu ara\">يُمِيتُ </span></span></span><span class=\"plain  rtl  \" ><span class=\"plain txtu ara rtl\"></span><span class=\"plain  rtl  hl\"  style=\"background-color: hsl(90, 70%, 80%);\" ><span class=\"txtu ara\">قَالَ </span></span></span><span class=\"plain  rtl  \" ><span class=\"plain txtu ara rtl\"></span><span class=\"plain  rtl  \" ><span class=\"txtu ara\">أَنَا۠ </span></span></span><span class=\"plain  rtl  \" ><span class=\"plain txtu ara rtl\"></span><span class=\"plain  rtl  hl\"  style=\"background-color: hsl(90, 70%, 80%);\" ><span class=\"txtu ara\">أُحْىِۦ </span></span></span><span class=\"plain  rtl  \" ><span class=\"plain txtu ara rtl\"></span><span class=\"plain  rtl  \" ><span class=\"txtu ara\">وَ</span></span><span class=\"plain  rtl  \" ><span class=\"txtu ara\">أُمِيتُ </span></span></span><span class=\"plain  rtl  \" ><span class=\"plain txtu ara rtl\"></span><span class=\"plain  rtl  hl\"  style=\"background-color: hsl(90, 70%, 80%);\" ><span class=\"txtu ara\">قَالَ </span></span></span><span class=\"plain  rtl  \" ><span class=\"plain txtu ara rtl\"></span><span class=\"plain  rtl  hl\"  style=\"background-color: hsl(60, 80%, 70%);\" ><span class=\"txtu ara\">إِبْرَٰهِۦمُ </span></span></span><span class=\"plain  rtl  \" ><span class=\"plain txtu ara rtl\"></span><span class=\"plain  rtl  \" ><span class=\"txtu ara\">فَ</span></span><span class=\"plain  rtl  \" ><span class=\"txtu ara\">إِنَّ </span></span></span><span class=\"plain  rtl  \" ><span class=\"plain txtu ara rtl\"></span><span class=\"plain  rtl  hl\"  style=\"background-color: hsl(0, 100%, 50%);\" ><span class=\"txtu ara\">ٱللَّهَ </span></span></span><span class=\"plain  rtl  \" ><span class=\"plain txtu ara rtl\"></span><span class=\"plain  rtl  hl\"  style=\"background-color: hsl(120, 90%, 80%);\" ><span class=\"txtu ara\">يَأْتِى </span></span></span><span class=\"plain  rtl  \" ><span class=\"plain txtu ara rtl\"></span><span class=\"plain  rtl  \" ><span class=\"txtu ara\">بِ</span></span><span class=\"plain  rtl  \" ><span class=\"txtu ara\">ٱل</span></span><span class=\"plain  rtl  \" ><span class=\"txtu ara\">شَّمْسِ </span></span></span><span class=\"plain  rtl  \" ><span class=\"plain txtu ara rtl\"></span><span class=\"plain  rtl  \" ><span class=\"txtu ara\">مِنَ </span></span></span><span class=\"plain  rtl  \" ><span class=\"plain txtu ara rtl\"></span><span class=\"plain  rtl  \" ><span class=\"txtu ara\">ٱلْ</span></span><span class=\"plain  rtl  hl\"  style=\"background-color: hsl(90, 70%, 80%);\" ><span class=\"txtu ara\">مَشْرِقِ </span></span></span><span class=\"plain  rtl  \" ><span class=\"plain txtu ara rtl\"></span><span class=\"plain  rtl  \" ><span class=\"txtu ara\">فَ</span></span><span class=\"plain  rtl  hl\"  style=\"background-color: hsl(120, 90%, 80%);\" ><span class=\"txtu ara\">أْتِ </span></span></span><span class=\"plain  rtl  \" ><span class=\"plain txtu ara rtl\"></span><span class=\"plain  rtl  \" ><span class=\"txtu ara\">بِ</span></span><span class=\"plain  rtl  \" ><span class=\"txtu ara\">هَا </span></span></span><span class=\"plain  rtl  \" ><span class=\"plain txtu ara rtl\"></span><span class=\"plain  rtl  \" ><span class=\"txtu ara\">مِنَ </span></span></span><span class=\"plain  rtl  \" ><span class=\"plain txtu ara rtl\"></span><span class=\"plain  rtl  \" ><span class=\"txtu ara\">ٱلْ</span></span><span class=\"plain  rtl  hl\"  style=\"background-color: hsl(90, 70%, 80%);\" ><span class=\"txtu ara\">مَغْرِبِ </span></span></span><span class=\"plain  rtl  \" ><span class=\"plain txtu ara rtl\"></span><span class=\"plain  rtl  \" ><span class=\"txtu ara\">فَ</span></span><span class=\"plain  rtl  \" ><span class=\"txtu ara\">بُهِتَ </span></span></span><span class=\"plain  rtl  \" ><span class=\"plain txtu ara rtl\"></span><span class=\"plain  rtl  \" ><span class=\"txtu ara\">ٱلَّذِى </span></span></span><span class=\"plain  rtl  \" ><span class=\"plain txtu ara rtl\"></span><span class=\"plain  rtl  hl\"  style=\"background-color: hsl(0, 80%, 70%);\" ><span class=\"txtu ara\">كَفَرَ </span></span></span><span class=\"plain  rtl  \" ><span class=\"plain txtu ara rtl\"></span><span class=\"plain  rtl  \" ><span class=\"txtu ara\">وَ</span></span><span class=\"plain  rtl  hl\"  style=\"background-color: hsl(0, 100%, 50%);\" ><span class=\"txtu ara\">ٱللَّهُ </span></span></span><span class=\"plain  rtl  \" ><span class=\"plain txtu ara rtl\"></span><span class=\"plain  rtl  \" ><span class=\"txtu ara\">لَا </span></span></span><span class=\"plain  rtl  \" ><span class=\"plain txtu ara rtl\"></span><span class=\"plain  rtl  hl\"  style=\"background-color: hsl(120, 90%, 80%);\" ><span class=\"txtu ara\">يَهْدِى </span></span></span><span class=\"plain  rtl  \" ><span class=\"plain txtu ara rtl\"></span><span class=\"plain  rtl  \" ><span class=\"txtu ara\">ٱلْ</span></span><span class=\"plain  rtl  hl\"  style=\"background-color: hsl(90, 70%, 80%);\" ><span class=\"txtu ara\">قَوْمَ </span></span></span><span class=\"plain  rtl  \" ><span class=\"plain txtu ara rtl\"></span><span class=\"plain  rtl  \" ><span class=\"txtu ara\">ٱل</span></span><span class=\"plain  rtl  hl\"  style=\"background-color: hsl(120, 80%, 70%);\" ><span class=\"txtu ara\">ظَّٰلِمِينَ</span></span></span></span></td><td class=\"tf\"><span class=\"plain outer rtl  hl\" ><span class=\"txtu ara\">أَ</span></span></td></tr>\n",
       "<tr class=\"tf\"><td class=\"tf\">259</td><td class=\"tf\"><span class=\"section ltr\"><a target=\"_blank\" href=\"/#2:259\" title=\"show this passage on Tanzil\" sec=\"2:259\">2:259</a></span></td><td class=\"tf\"><span class=\"plain outer rtl  \" ><span class=\"plain txtu ara rtl\"></span><span class=\"plain  rtl  \" ><span class=\"plain txtu ara rtl\"></span><span class=\"plain  rtl  hl\" ><span class=\"txtu ara\">أَوْ </span></span></span><span class=\"plain  rtl  \" ><span class=\"plain txtu ara rtl\"></span><span class=\"plain  rtl  \" ><span class=\"txtu ara\">كَ</span></span><span class=\"plain  rtl  \" ><span class=\"txtu ara\">ٱلَّذِى </span></span></span><span class=\"plain  rtl  \" ><span class=\"plain txtu ara rtl\"></span><span class=\"plain  rtl  \" ><span class=\"txtu ara\">مَرَّ </span></span></span><span class=\"plain  rtl  \" ><span class=\"plain txtu ara rtl\"></span><span class=\"plain  rtl  \" ><span class=\"txtu ara\">عَلَىٰ </span></span></span><span class=\"plain  rtl  \" ><span class=\"plain txtu ara rtl\"></span><span class=\"plain  rtl  \" ><span class=\"txtu ara\">قَرْيَةٍ </span></span></span><span class=\"plain  rtl  \" ><span class=\"plain txtu ara rtl\"></span><span class=\"plain  rtl  \" ><span class=\"txtu ara\">وَ</span></span><span class=\"plain  rtl  \" ><span class=\"txtu ara\">هِىَ </span></span></span><span class=\"plain  rtl  \" ><span class=\"plain txtu ara rtl\"></span><span class=\"plain  rtl  \" ><span class=\"txtu ara\">خَاوِيَةٌ </span></span></span><span class=\"plain  rtl  \" ><span class=\"plain txtu ara rtl\"></span><span class=\"plain  rtl  \" ><span class=\"txtu ara\">عَلَىٰ </span></span></span><span class=\"plain  rtl  \" ><span class=\"plain txtu ara rtl\"></span><span class=\"plain  rtl  \" ><span class=\"txtu ara\">عُرُوشِ</span></span><span class=\"plain  rtl  \" ><span class=\"txtu ara\">هَا </span></span></span><span class=\"plain  rtl  \" ><span class=\"plain txtu ara rtl\"></span><span class=\"plain  rtl  hl\"  style=\"background-color: hsl(90, 70%, 80%);\" ><span class=\"txtu ara\">قَالَ </span></span></span><span class=\"plain  rtl  \" ><span class=\"plain txtu ara rtl\"></span><span class=\"plain  rtl  \" ><span class=\"txtu ara\">أَنَّىٰ </span></span></span><span class=\"plain  rtl  \" ><span class=\"plain txtu ara rtl\"></span><span class=\"plain  rtl  hl\"  style=\"background-color: hsl(90, 70%, 80%);\" ><span class=\"txtu ara\">يُحْىِۦ </span></span></span><span class=\"plain  rtl  \" ><span class=\"plain txtu ara rtl\"></span><span class=\"plain  rtl  \" ><span class=\"txtu ara\">هَٰذِهِ </span></span></span><span class=\"plain  rtl  \" ><span class=\"plain txtu ara rtl\"></span><span class=\"plain  rtl  hl\"  style=\"background-color: hsl(0, 100%, 50%);\" ><span class=\"txtu ara\">ٱللَّهُ </span></span></span><span class=\"plain  rtl  \" ><span class=\"plain txtu ara rtl\"></span><span class=\"plain  rtl  hl\"  style=\"background-color: hsl(30, 80%, 70%);\" ><span class=\"txtu ara\">بَعْدَ </span></span></span><span class=\"plain  rtl  \" ><span class=\"plain txtu ara rtl\"></span><span class=\"plain  rtl  hl\"  style=\"background-color: hsl(90, 70%, 80%);\" ><span class=\"txtu ara\">مَوْتِ</span></span><span class=\"plain  rtl  \" ><span class=\"txtu ara\">هَا </span></span></span><span class=\"plain  rtl  \" ><span class=\"plain txtu ara rtl\"></span><span class=\"plain  rtl  \" ><span class=\"txtu ara\">فَ</span></span><span class=\"plain  rtl  \" ><span class=\"txtu ara\">أَمَاتَ</span></span><span class=\"plain  rtl  \" ><span class=\"txtu ara\">هُ </span></span></span><span class=\"plain  rtl  \" ><span class=\"plain txtu ara rtl\"></span><span class=\"plain  rtl  hl\"  style=\"background-color: hsl(0, 100%, 50%);\" ><span class=\"txtu ara\">ٱللَّهُ </span></span></span><span class=\"plain  rtl  \" ><span class=\"plain txtu ara rtl\"></span><span class=\"plain  rtl  \" ><span class=\"txtu ara\">مِا۟ئَةَ </span></span></span><span class=\"plain  rtl  \" ><span class=\"plain txtu ara rtl\"></span><span class=\"plain  rtl  \" ><span class=\"txtu ara\">عَامٍ </span></span></span><span class=\"plain  rtl  \" ><span class=\"plain txtu ara rtl\"></span><span class=\"plain  rtl  \" ><span class=\"txtu ara\">ثُمَّ </span></span></span><span class=\"plain  rtl  \" ><span class=\"plain txtu ara rtl\"></span><span class=\"plain  rtl  \" ><span class=\"txtu ara\">بَعَثَ</span></span><span class=\"plain  rtl  \" ><span class=\"txtu ara\">هُۥ </span></span></span><span class=\"plain  rtl  \" ><span class=\"plain txtu ara rtl\"></span><span class=\"plain  rtl  hl\"  style=\"background-color: hsl(90, 70%, 80%);\" ><span class=\"txtu ara\">قَالَ </span></span></span><span class=\"plain  rtl  \" ><span class=\"plain txtu ara rtl\"></span><span class=\"plain  rtl  \" ><span class=\"txtu ara\">كَمْ </span></span></span><span class=\"plain  rtl  \" ><span class=\"plain txtu ara rtl\"></span><span class=\"plain  rtl  \" ><span class=\"txtu ara\">لَبِثْ</span></span><span class=\"plain  rtl  \" ><span class=\"txtu ara\">تَ </span></span></span><span class=\"plain  rtl  \" ><span class=\"plain txtu ara rtl\"></span><span class=\"plain  rtl  hl\"  style=\"background-color: hsl(90, 70%, 80%);\" ><span class=\"txtu ara\">قَالَ </span></span></span><span class=\"plain  rtl  \" ><span class=\"plain txtu ara rtl\"></span><span class=\"plain  rtl  \" ><span class=\"txtu ara\">لَبِثْ</span></span><span class=\"plain  rtl  \" ><span class=\"txtu ara\">تُ </span></span></span><span class=\"plain  rtl  \" ><span class=\"plain txtu ara rtl\"></span><span class=\"plain  rtl  hl\"  style=\"background-color: hsl(90, 70%, 80%);\" ><span class=\"txtu ara\">يَوْمًا </span></span></span><span class=\"plain  rtl  \" ><span class=\"plain txtu ara rtl\"></span><span class=\"plain  rtl  \" ><span class=\"txtu ara\">أَوْ </span></span></span><span class=\"plain  rtl  \" ><span class=\"plain txtu ara rtl\"></span><span class=\"plain  rtl  hl\"  style=\"background-color: hsl(0, 90%, 60%);\" ><span class=\"txtu ara\">بَعْضَ </span></span></span><span class=\"plain  rtl  \" ><span class=\"plain txtu ara rtl\"></span><span class=\"plain  rtl  hl\"  style=\"background-color: hsl(90, 70%, 80%);\" ><span class=\"txtu ara\">يَوْمٍ </span></span></span><span class=\"plain  rtl  \" ><span class=\"plain txtu ara rtl\"></span><span class=\"plain  rtl  hl\"  style=\"background-color: hsl(90, 70%, 80%);\" ><span class=\"txtu ara\">قَالَ </span></span></span><span class=\"plain  rtl  \" ><span class=\"plain txtu ara rtl\"></span><span class=\"plain  rtl  \" ><span class=\"txtu ara\">بَل </span></span></span><span class=\"plain  rtl  \" ><span class=\"plain txtu ara rtl\"></span><span class=\"plain  rtl  \" ><span class=\"txtu ara\">لَّبِثْ</span></span><span class=\"plain  rtl  \" ><span class=\"txtu ara\">تَ </span></span></span><span class=\"plain  rtl  \" ><span class=\"plain txtu ara rtl\"></span><span class=\"plain  rtl  \" ><span class=\"txtu ara\">مِا۟ئَةَ </span></span></span><span class=\"plain  rtl  \" ><span class=\"plain txtu ara rtl\"></span><span class=\"plain  rtl  \" ><span class=\"txtu ara\">عَامٍ </span></span></span><span class=\"plain  rtl  \" ><span class=\"plain txtu ara rtl\"></span><span class=\"plain  rtl  \" ><span class=\"txtu ara\">فَ</span></span><span class=\"plain  rtl  hl\"  style=\"background-color: hsl(120, 80%, 70%);\" ><span class=\"txtu ara\">ٱنظُرْ </span></span></span><span class=\"plain  rtl  \" ><span class=\"plain txtu ara rtl\"></span><span class=\"plain  rtl  \" ><span class=\"txtu ara\">إِلَىٰ </span></span></span><span class=\"plain  rtl  \" ><span class=\"plain txtu ara rtl\"></span><span class=\"plain  rtl  \" ><span class=\"txtu ara\">طَعَامِ</span></span><span class=\"plain  rtl  \" ><span class=\"txtu ara\">كَ </span></span></span><span class=\"plain  rtl  \" ><span class=\"plain txtu ara rtl\"></span><span class=\"plain  rtl  \" ><span class=\"txtu ara\">وَ</span></span><span class=\"plain  rtl  \" ><span class=\"txtu ara\">شَرَابِ</span></span><span class=\"plain  rtl  \" ><span class=\"txtu ara\">كَ </span></span></span><span class=\"plain  rtl  \" ><span class=\"plain txtu ara rtl\"></span><span class=\"plain  rtl  \" ><span class=\"txtu ara\">لَمْ </span></span></span><span class=\"plain  rtl  \" ><span class=\"plain txtu ara rtl\"></span><span class=\"plain  rtl  \" ><span class=\"txtu ara\">يَتَسَنَّهْ </span></span></span><span class=\"plain  rtl  \" ><span class=\"plain txtu ara rtl\"></span><span class=\"plain  rtl  \" ><span class=\"txtu ara\">وَ</span></span><span class=\"plain  rtl  hl\"  style=\"background-color: hsl(120, 80%, 70%);\" ><span class=\"txtu ara\">ٱنظُرْ </span></span></span><span class=\"plain  rtl  \" ><span class=\"plain txtu ara rtl\"></span><span class=\"plain  rtl  \" ><span class=\"txtu ara\">إِلَىٰ </span></span></span><span class=\"plain  rtl  \" ><span class=\"plain txtu ara rtl\"></span><span class=\"plain  rtl  \" ><span class=\"txtu ara\">حِمَارِ</span></span><span class=\"plain  rtl  \" ><span class=\"txtu ara\">كَ </span></span></span><span class=\"plain  rtl  \" ><span class=\"plain txtu ara rtl\"></span><span class=\"plain  rtl  \" ><span class=\"txtu ara\">وَ</span></span><span class=\"plain  rtl  \" ><span class=\"txtu ara\">لِ</span></span><span class=\"plain  rtl  hl\"  style=\"background-color: hsl(120, 100%, 90%);\" ><span class=\"txtu ara\">نَجْعَلَ</span></span><span class=\"plain  rtl  \" ><span class=\"txtu ara\">كَ </span></span></span><span class=\"plain  rtl  \" ><span class=\"plain txtu ara rtl\"></span><span class=\"plain  rtl  hl\"  style=\"background-color: hsl(60, 80%, 70%);\" ><span class=\"txtu ara\">ءَايَةً </span></span></span><span class=\"plain  rtl  \" ><span class=\"plain txtu ara rtl\"></span><span class=\"plain  rtl  \" ><span class=\"txtu ara\">لِّ</span></span><span class=\"plain  rtl  \" ><span class=\"txtu ara\">ل</span></span><span class=\"plain  rtl  hl\"  style=\"background-color: hsl(120, 80%, 70%);\" ><span class=\"txtu ara\">نَّاسِ </span></span></span><span class=\"plain  rtl  \" ><span class=\"plain txtu ara rtl\"></span><span class=\"plain  rtl  \" ><span class=\"txtu ara\">وَ</span></span><span class=\"plain  rtl  hl\"  style=\"background-color: hsl(120, 80%, 70%);\" ><span class=\"txtu ara\">ٱنظُرْ </span></span></span><span class=\"plain  rtl  \" ><span class=\"plain txtu ara rtl\"></span><span class=\"plain  rtl  \" ><span class=\"txtu ara\">إِلَى </span></span></span><span class=\"plain  rtl  \" ><span class=\"plain txtu ara rtl\"></span><span class=\"plain  rtl  \" ><span class=\"txtu ara\">ٱلْ</span></span><span class=\"plain  rtl  \" ><span class=\"txtu ara\">عِظَامِ </span></span></span><span class=\"plain  rtl  \" ><span class=\"plain txtu ara rtl\"></span><span class=\"plain  rtl  \" ><span class=\"txtu ara\">كَيْفَ </span></span></span><span class=\"plain  rtl  \" ><span class=\"plain txtu ara rtl\"></span><span class=\"plain  rtl  \" ><span class=\"txtu ara\">نُنشِزُ</span></span><span class=\"plain  rtl  \" ><span class=\"txtu ara\">هَا </span></span></span><span class=\"plain  rtl  \" ><span class=\"plain txtu ara rtl\"></span><span class=\"plain  rtl  \" ><span class=\"txtu ara\">ثُمَّ </span></span></span><span class=\"plain  rtl  \" ><span class=\"plain txtu ara rtl\"></span><span class=\"plain  rtl  \" ><span class=\"txtu ara\">نَكْسُو</span></span><span class=\"plain  rtl  \" ><span class=\"txtu ara\">هَا </span></span></span><span class=\"plain  rtl  \" ><span class=\"plain txtu ara rtl\"></span><span class=\"plain  rtl  \" ><span class=\"txtu ara\">لَحْمًا </span></span></span><span class=\"plain  rtl  \" ><span class=\"plain txtu ara rtl\"></span><span class=\"plain  rtl  \" ><span class=\"txtu ara\">فَ</span></span><span class=\"plain  rtl  \" ><span class=\"txtu ara\">لَمَّا </span></span></span><span class=\"plain  rtl  \" ><span class=\"plain txtu ara rtl\"></span><span class=\"plain  rtl  hl\"  style=\"background-color: hsl(120, 80%, 70%);\" ><span class=\"txtu ara\">تَبَيَّنَ </span></span></span><span class=\"plain  rtl  \" ><span class=\"plain txtu ara rtl\"></span><span class=\"plain  rtl  \" ><span class=\"txtu ara\">لَ</span></span><span class=\"plain  rtl  \" ><span class=\"txtu ara\">هُۥ </span></span></span><span class=\"plain  rtl  \" ><span class=\"plain txtu ara rtl\"></span><span class=\"plain  rtl  hl\"  style=\"background-color: hsl(90, 70%, 80%);\" ><span class=\"txtu ara\">قَالَ </span></span></span><span class=\"plain  rtl  \" ><span class=\"plain txtu ara rtl\"></span><span class=\"plain  rtl  hl\"  style=\"background-color: hsl(120, 80%, 70%);\" ><span class=\"txtu ara\">أَعْلَمُ </span></span></span><span class=\"plain  rtl  \" ><span class=\"plain txtu ara rtl\"></span><span class=\"plain  rtl  \" ><span class=\"txtu ara\">أَنَّ </span></span></span><span class=\"plain  rtl  \" ><span class=\"plain txtu ara rtl\"></span><span class=\"plain  rtl  hl\"  style=\"background-color: hsl(0, 100%, 50%);\" ><span class=\"txtu ara\">ٱللَّهَ </span></span></span><span class=\"plain  rtl  \" ><span class=\"plain txtu ara rtl\"></span><span class=\"plain  rtl  \" ><span class=\"txtu ara\">عَلَىٰ </span></span></span><span class=\"plain  rtl  \" ><span class=\"plain txtu ara rtl\"></span><span class=\"plain  rtl  hl\"  style=\"background-color: hsl(0, 80%, 70%);\" ><span class=\"txtu ara\">كُلِّ </span></span></span><span class=\"plain  rtl  \" ><span class=\"plain txtu ara rtl\"></span><span class=\"plain  rtl  hl\"  style=\"background-color: hsl(60, 80%, 70%);\" ><span class=\"txtu ara\">شَىْءٍ </span></span></span><span class=\"plain  rtl  \" ><span class=\"plain txtu ara rtl\"></span><span class=\"plain  rtl  hl\"  style=\"background-color: hsl(30, 80%, 70%);\" ><span class=\"txtu ara\">قَدِيرٌ</span></span></span></span></td><td class=\"tf\"><span class=\"plain outer rtl  hl\" ><span class=\"txtu ara\">أَوْ </span></span></td></tr>\n",
       "<tr class=\"tf\"><td class=\"tf\">260</td><td class=\"tf\"><span class=\"section ltr\"><a target=\"_blank\" href=\"/#2:260\" title=\"show this passage on Tanzil\" sec=\"2:260\">2:260</a></span></td><td class=\"tf\"><span class=\"plain outer rtl  \" ><span class=\"plain txtu ara rtl\"></span><span class=\"plain  rtl  \" ><span class=\"plain txtu ara rtl\"></span><span class=\"plain  rtl  hl\"  style=\"background-color: fuchsia;\" ><span class=\"txtu ara\">وَ</span></span><span class=\"plain  rtl  \" ><span class=\"txtu ara\">إِذْ </span></span></span><span class=\"plain  rtl  \" ><span class=\"plain txtu ara rtl\"></span><span class=\"plain  rtl  hl\"  style=\"background-color: hsl(90, 70%, 80%);\" ><span class=\"txtu ara\">قَالَ </span></span></span><span class=\"plain  rtl  \" ><span class=\"plain txtu ara rtl\"></span><span class=\"plain  rtl  hl\"  style=\"background-color: hsl(60, 80%, 70%);\" ><span class=\"txtu ara\">إِبْرَٰهِۦمُ </span></span></span><span class=\"plain  rtl  \" ><span class=\"plain txtu ara rtl\"></span><span class=\"plain  rtl  hl\"  style=\"background-color: hsl(60, 80%, 70%);\" ><span class=\"txtu ara\">رَبِّ</span></span><span class=\"plain  rtl  \" ><span class=\"txtu ara\"> </span></span></span><span class=\"plain  rtl  \" ><span class=\"plain txtu ara rtl\"></span><span class=\"plain  rtl  \" ><span class=\"txtu ara\">أَرِ</span></span><span class=\"plain  rtl  \" ><span class=\"txtu ara\">نِى </span></span></span><span class=\"plain  rtl  \" ><span class=\"plain txtu ara rtl\"></span><span class=\"plain  rtl  \" ><span class=\"txtu ara\">كَيْفَ </span></span></span><span class=\"plain  rtl  \" ><span class=\"plain txtu ara rtl\"></span><span class=\"plain  rtl  hl\"  style=\"background-color: hsl(90, 70%, 80%);\" ><span class=\"txtu ara\">تُحْىِ </span></span></span><span class=\"plain  rtl  \" ><span class=\"plain txtu ara rtl\"></span><span class=\"plain  rtl  \" ><span class=\"txtu ara\">ٱلْ</span></span><span class=\"plain  rtl  hl\"  style=\"background-color: hsl(120, 80%, 70%);\" ><span class=\"txtu ara\">مَوْتَىٰ </span></span></span><span class=\"plain  rtl  \" ><span class=\"plain txtu ara rtl\"></span><span class=\"plain  rtl  hl\"  style=\"background-color: hsl(90, 70%, 80%);\" ><span class=\"txtu ara\">قَالَ </span></span></span><span class=\"plain  rtl  \" ><span class=\"plain txtu ara rtl\"></span><span class=\"plain  rtl  \" ><span class=\"txtu ara\">أَ</span></span><span class=\"plain  rtl  \" ><span class=\"txtu ara\">وَ</span></span><span class=\"plain  rtl  \" ><span class=\"txtu ara\">لَمْ </span></span></span><span class=\"plain  rtl  \" ><span class=\"plain txtu ara rtl\"></span><span class=\"plain  rtl  hl\"  style=\"background-color: hsl(120, 100%, 90%);\" ><span class=\"txtu ara\">تُؤْمِن </span></span></span><span class=\"plain  rtl  \" ><span class=\"plain txtu ara rtl\"></span><span class=\"plain  rtl  hl\"  style=\"background-color: hsl(90, 70%, 80%);\" ><span class=\"txtu ara\">قَالَ </span></span></span><span class=\"plain  rtl  \" ><span class=\"plain txtu ara rtl\"></span><span class=\"plain  rtl  \" ><span class=\"txtu ara\">بَلَىٰ </span></span></span><span class=\"plain  rtl  \" ><span class=\"plain txtu ara rtl\"></span><span class=\"plain  rtl  \" ><span class=\"txtu ara\">وَ</span></span><span class=\"plain  rtl  \" ><span class=\"txtu ara\">لَٰكِن </span></span></span><span class=\"plain  rtl  \" ><span class=\"plain txtu ara rtl\"></span><span class=\"plain  rtl  \" ><span class=\"txtu ara\">لِّ</span></span><span class=\"plain  rtl  \" ><span class=\"txtu ara\">يَطْمَئِنَّ </span></span></span><span class=\"plain  rtl  \" ><span class=\"plain txtu ara rtl\"></span><span class=\"plain  rtl  hl\"  style=\"background-color: hsl(60, 80%, 70%);\" ><span class=\"txtu ara\">قَلْبِ</span></span><span class=\"plain  rtl  \" ><span class=\"txtu ara\">ى </span></span></span><span class=\"plain  rtl  \" ><span class=\"plain txtu ara rtl\"></span><span class=\"plain  rtl  hl\"  style=\"background-color: hsl(90, 70%, 80%);\" ><span class=\"txtu ara\">قَالَ </span></span></span><span class=\"plain  rtl  \" ><span class=\"plain txtu ara rtl\"></span><span class=\"plain  rtl  \" ><span class=\"txtu ara\">فَ</span></span><span class=\"plain  rtl  hl\"  style=\"background-color: hsl(120, 80%, 70%);\" ><span class=\"txtu ara\">خُذْ </span></span></span><span class=\"plain  rtl  \" ><span class=\"plain txtu ara rtl\"></span><span class=\"plain  rtl  \" ><span class=\"txtu ara\">أَرْبَعَةً </span></span></span><span class=\"plain  rtl  \" ><span class=\"plain txtu ara rtl\"></span><span class=\"plain  rtl  \" ><span class=\"txtu ara\">مِّنَ </span></span></span><span class=\"plain  rtl  \" ><span class=\"plain txtu ara rtl\"></span><span class=\"plain  rtl  \" ><span class=\"txtu ara\">ٱل</span></span><span class=\"plain  rtl  \" ><span class=\"txtu ara\">طَّيْرِ </span></span></span><span class=\"plain  rtl  \" ><span class=\"plain txtu ara rtl\"></span><span class=\"plain  rtl  \" ><span class=\"txtu ara\">فَ</span></span><span class=\"plain  rtl  \" ><span class=\"txtu ara\">صُرْ</span></span><span class=\"plain  rtl  \" ><span class=\"txtu ara\">هُنَّ </span></span></span><span class=\"plain  rtl  \" ><span class=\"plain txtu ara rtl\"></span><span class=\"plain  rtl  \" ><span class=\"txtu ara\">إِلَيْ</span></span><span class=\"plain  rtl  \" ><span class=\"txtu ara\">كَ </span></span></span><span class=\"plain  rtl  \" ><span class=\"plain txtu ara rtl\"></span><span class=\"plain  rtl  \" ><span class=\"txtu ara\">ثُمَّ </span></span></span><span class=\"plain  rtl  \" ><span class=\"plain txtu ara rtl\"></span><span class=\"plain  rtl  hl\"  style=\"background-color: hsl(120, 100%, 90%);\" ><span class=\"txtu ara\">ٱجْعَلْ </span></span></span><span class=\"plain  rtl  \" ><span class=\"plain txtu ara rtl\"></span><span class=\"plain  rtl  \" ><span class=\"txtu ara\">عَلَىٰ </span></span></span><span class=\"plain  rtl  \" ><span class=\"plain txtu ara rtl\"></span><span class=\"plain  rtl  hl\"  style=\"background-color: hsl(0, 80%, 70%);\" ><span class=\"txtu ara\">كُلِّ </span></span></span><span class=\"plain  rtl  \" ><span class=\"plain txtu ara rtl\"></span><span class=\"plain  rtl  \" ><span class=\"txtu ara\">جَبَلٍ </span></span></span><span class=\"plain  rtl  \" ><span class=\"plain txtu ara rtl\"></span><span class=\"plain  rtl  \" ><span class=\"txtu ara\">مِّنْ</span></span><span class=\"plain  rtl  \" ><span class=\"txtu ara\">هُنَّ </span></span></span><span class=\"plain  rtl  \" ><span class=\"plain txtu ara rtl\"></span><span class=\"plain  rtl  \" ><span class=\"txtu ara\">جُزْءًا </span></span></span><span class=\"plain  rtl  \" ><span class=\"plain txtu ara rtl\"></span><span class=\"plain  rtl  \" ><span class=\"txtu ara\">ثُمَّ </span></span></span><span class=\"plain  rtl  \" ><span class=\"plain txtu ara rtl\"></span><span class=\"plain  rtl  hl\"  style=\"background-color: hsl(90, 70%, 80%);\" ><span class=\"txtu ara\">ٱدْعُ</span></span><span class=\"plain  rtl  \" ><span class=\"txtu ara\">هُنَّ </span></span></span><span class=\"plain  rtl  \" ><span class=\"plain txtu ara rtl\"></span><span class=\"plain  rtl  hl\"  style=\"background-color: hsl(120, 90%, 80%);\" ><span class=\"txtu ara\">يَأْتِي</span></span><span class=\"plain  rtl  \" ><span class=\"txtu ara\">نَ</span></span><span class=\"plain  rtl  \" ><span class=\"txtu ara\">كَ </span></span></span><span class=\"plain  rtl  \" ><span class=\"plain txtu ara rtl\"></span><span class=\"plain  rtl  \" ><span class=\"txtu ara\">سَعْيًا </span></span></span><span class=\"plain  rtl  \" ><span class=\"plain txtu ara rtl\"></span><span class=\"plain  rtl  \" ><span class=\"txtu ara\">وَ</span></span><span class=\"plain  rtl  hl\"  style=\"background-color: hsl(120, 80%, 70%);\" ><span class=\"txtu ara\">ٱعْلَمْ </span></span></span><span class=\"plain  rtl  \" ><span class=\"plain txtu ara rtl\"></span><span class=\"plain  rtl  \" ><span class=\"txtu ara\">أَنَّ </span></span></span><span class=\"plain  rtl  \" ><span class=\"plain txtu ara rtl\"></span><span class=\"plain  rtl  hl\"  style=\"background-color: hsl(0, 100%, 50%);\" ><span class=\"txtu ara\">ٱللَّهَ </span></span></span><span class=\"plain  rtl  \" ><span class=\"plain txtu ara rtl\"></span><span class=\"plain  rtl  \" ><span class=\"txtu ara\">عَزِيزٌ </span></span></span><span class=\"plain  rtl  \" ><span class=\"plain txtu ara rtl\"></span><span class=\"plain  rtl  \" ><span class=\"txtu ara\">حَكِيمٌ</span></span></span></span></td><td class=\"tf\"><span class=\"plain outer rtl  hl\"  style=\"background-color: fuchsia;\" ><span class=\"txtu ara\">وَ</span></span></td></tr></table>"
      ],
      "text/plain": [
       "<IPython.core.display.HTML object>"
      ]
     },
     "metadata": {},
     "output_type": "display_data"
    }
   ],
   "source": [
    "A.table(ayaTuples, start=240, end=260, highlights=highlights)"
   ]
  },
  {
   "cell_type": "markdown",
   "metadata": {},
   "source": [
    "# Saving data\n",
    "\n",
    "The real power of TF comes now: we can save the sentiments as a new feature and use it as if it were given with the data set.\n",
    "\n",
    "We save it to a temporary location, in your downloads folder, and load it from there.\n",
    "\n",
    "We use\n",
    "[TF.save()](https://annotation.github.io/text-fabric/Api/Fabric/#saving-features) to save the feature."
   ]
  },
  {
   "cell_type": "markdown",
   "metadata": {},
   "source": [
    "## Gathering the parameters\n",
    "\n",
    "We set up all data that `TF.save()` needs."
   ]
  },
  {
   "cell_type": "code",
   "execution_count": 34,
   "metadata": {},
   "outputs": [],
   "source": [
    "metaData = {\n",
    "  'sentiment': {\n",
    "    'valueType': 'int',\n",
    "    'description': 'crude sentiment values for some words in sura 2',\n",
    "  },\n",
    "}\n",
    "\n",
    "edgeFeatures = {}\n",
    "nodeFeatures = {\n",
    "  'sentiment': {w: positivity[F.lemma.v(w)] for w in L.d(sura2, otype='word') if F.lemma.v(w) in positivity},\n",
    "}\n",
    "\n",
    "location = os.path.expanduser('~/Downloads/q-ran/quran/tf')\n",
    "module = A.version"
   ]
  },
  {
   "cell_type": "markdown",
   "metadata": {},
   "source": [
    "## Performing the save\n",
    "\n",
    "Now we do the save action:"
   ]
  },
  {
   "cell_type": "code",
   "execution_count": 35,
   "metadata": {},
   "outputs": [
    {
     "data": {
      "text/plain": [
       "True"
      ]
     },
     "execution_count": 35,
     "metadata": {},
     "output_type": "execute_result"
    }
   ],
   "source": [
    "TF.save(metaData=metaData, edgeFeatures=edgeFeatures, nodeFeatures=nodeFeatures, location=location, module=module)"
   ]
  },
  {
   "cell_type": "markdown",
   "metadata": {},
   "source": [
    "## Checking\n",
    "\n",
    "Let's check (maybe this does not work on Windows. Open the file explorer and locate the file yourself."
   ]
  },
  {
   "cell_type": "code",
   "execution_count": 36,
   "metadata": {},
   "outputs": [
    {
     "name": "stdout",
     "output_type": "stream",
     "text": [
      "total 0\n",
      "drwxr-xr-x  3 dirk  staff  96 May  8 12:49 0.4\n",
      "\n",
      "/Users/dirk/Downloads/q-ran/quran/tf/0.4:\n",
      "total 40\n",
      "-rw-r--r--  1 dirk  staff  19703 May  8 12:49 sentiment.tf\n"
     ]
    }
   ],
   "source": [
    "%%sh\n",
    "ls -lR ~/Downloads/q-ran/quran/tf"
   ]
  },
  {
   "cell_type": "markdown",
   "metadata": {},
   "source": [
    "# Using new data\n",
    "\n",
    "We are going to load the Quran data again plus the sentiment data"
   ]
  },
  {
   "cell_type": "markdown",
   "metadata": {},
   "source": [
    "## Loading the sentiment data\n",
    "\n",
    "We use roughly the same statement as when we first loaded the data,\n",
    "but now we ask TF also to look into the directory where we saved the sentiments.\n",
    "\n",
    "We do that by supplying the `locations` and `modules` parameters.\n",
    "\n",
    "See also\n",
    "[A.use()](https://annotation.github.io/text-fabric/Api/App/#incantation)"
   ]
  },
  {
   "cell_type": "code",
   "execution_count": 37,
   "metadata": {},
   "outputs": [
    {
     "name": "stdout",
     "output_type": "stream",
     "text": [
      "Using TF-app in /Users/dirk/github/annotation/app-quran/code:\n",
      "\trepo clone offline under ~/github (local github)\n",
      "Using data in /Users/dirk/github/q-ran/quran/tf/0.4:\n",
      "\trepo clone offline under ~/github (local github)\n"
     ]
    },
    {
     "data": {
      "text/html": [
       "<b>Documentation:</b> <a target=\"_blank\" href=\"https://github.com/q-ran/quran/blob/master/docs/features.md\" title=\"provenance of Quran\">QURAN</a> <a target=\"_blank\" href=\"https://annotation.github.io/text-fabric/Writing/Transcription/Arabic\" title=\"How TF features represent text\">Character table</a> <a target=\"_blank\" href=\"https://github.com/q-ran/quran/blob/master/docs/features.md\" title=\"QURAN feature documentation\">Feature docs</a> <a target=\"_blank\" href=\"https://github.com/annotation/app-quran\" title=\"quran API documentation\">quran API</a> <a target=\"_blank\" href=\"https://annotation.github.io/text-fabric/Api/Fabric/\" title=\"text-fabric-api\">Text-Fabric API 8.0.0</a> <a target=\"_blank\" href=\"https://annotation.github.io/text-fabric/Use/Search/\" title=\"Search Templates Introduction and Reference\">Search Reference</a><details open><summary><b>Loaded features</b>:</summary>\n",
       "<p><b>Quran</b>: <a target=\"_blank\" href=\"https://github.com/q-ran/quran/blob/master/docs/features.md\" title=\"/Users/dirk/github/q-ran/quran/tf/0.4/a.tf\">a</a>  <a target=\"_blank\" href=\"https://github.com/q-ran/quran/blob/master/docs/features.md\" title=\"/Users/dirk/github/q-ran/quran/tf/0.4/ascii.tf\">ascii</a>  <a target=\"_blank\" href=\"https://github.com/q-ran/quran/blob/master/docs/features.md\" title=\"/Users/dirk/github/q-ran/quran/tf/0.4/ax.tf\">ax</a>  <a target=\"_blank\" href=\"https://github.com/q-ran/quran/blob/master/docs/features.md\" title=\"/Users/dirk/github/q-ran/quran/tf/0.4/case.tf\">case</a>  <a target=\"_blank\" href=\"https://github.com/q-ran/quran/blob/master/docs/features.md\" title=\"/Users/dirk/github/q-ran/quran/tf/0.4/component.tf\">component</a>  <a target=\"_blank\" href=\"https://github.com/q-ran/quran/blob/master/docs/features.md\" title=\"/Users/dirk/github/q-ran/quran/tf/0.4/definite.tf\">definite</a>  <a target=\"_blank\" href=\"https://github.com/q-ran/quran/blob/master/docs/features.md\" title=\"/Users/dirk/github/q-ran/quran/tf/0.4/f.tf\">f</a>  <a target=\"_blank\" href=\"https://github.com/q-ran/quran/blob/master/docs/features.md\" title=\"/Users/dirk/github/q-ran/quran/tf/0.4/formation.tf\">formation</a>  <a target=\"_blank\" href=\"https://github.com/q-ran/quran/blob/master/docs/features.md\" title=\"/Users/dirk/github/q-ran/quran/tf/0.4/fx.tf\">fx</a>  <a target=\"_blank\" href=\"https://github.com/q-ran/quran/blob/master/docs/features.md\" title=\"/Users/dirk/github/q-ran/quran/tf/0.4/gn.tf\">gn</a>  <a target=\"_blank\" href=\"https://github.com/q-ran/quran/blob/master/docs/features.md\" title=\"/Users/dirk/github/q-ran/quran/tf/0.4/interjection.tf\">interjection</a>  <a target=\"_blank\" href=\"https://github.com/q-ran/quran/blob/master/docs/features.md\" title=\"/Users/dirk/github/q-ran/quran/tf/0.4/l.tf\">l</a>  <a target=\"_blank\" href=\"https://github.com/q-ran/quran/blob/master/docs/features.md\" title=\"/Users/dirk/github/q-ran/quran/tf/0.4/lemma.tf\">lemma</a>  <a target=\"_blank\" href=\"https://github.com/q-ran/quran/blob/master/docs/features.md\" title=\"/Users/dirk/github/q-ran/quran/tf/0.4/lx.tf\">lx</a>  <a target=\"_blank\" href=\"https://github.com/q-ran/quran/blob/master/docs/features.md\" title=\"/Users/dirk/github/q-ran/quran/tf/0.4/mood.tf\">mood</a>  <a target=\"_blank\" href=\"https://github.com/q-ran/quran/blob/master/docs/features.md\" title=\"/Users/dirk/github/q-ran/quran/tf/0.4/n.tf\">n</a>  <a target=\"_blank\" href=\"https://github.com/q-ran/quran/blob/master/docs/features.md\" title=\"/Users/dirk/github/q-ran/quran/tf/0.4/name.tf\">name</a>  <a target=\"_blank\" href=\"https://github.com/q-ran/quran/blob/master/docs/features.md\" title=\"/Users/dirk/github/q-ran/quran/tf/0.4/name@en.tf\">name@ll</a>  <a target=\"_blank\" href=\"https://github.com/q-ran/quran/blob/master/docs/features.md\" title=\"/Users/dirk/github/q-ran/quran/tf/0.4/nameAscii.tf\">nameAscii</a>  <a target=\"_blank\" href=\"https://github.com/q-ran/quran/blob/master/docs/features.md\" title=\"/Users/dirk/github/q-ran/quran/tf/0.4/nameTrans.tf\">nameTrans</a>  <a target=\"_blank\" href=\"https://github.com/q-ran/quran/blob/master/docs/features.md\" title=\"/Users/dirk/github/q-ran/quran/tf/0.4/nu.tf\">nu</a>  <a target=\"_blank\" href=\"https://github.com/q-ran/quran/blob/master/docs/features.md\" title=\"/Users/dirk/github/q-ran/quran/tf/0.4/number.tf\">number</a>  <a target=\"_blank\" href=\"https://github.com/q-ran/quran/blob/master/docs/features.md\" title=\"/Users/dirk/github/q-ran/quran/tf/0.4/order.tf\">order</a>  <a target=\"_blank\" href=\"https://github.com/q-ran/quran/blob/master/docs/features.md\" title=\"/Users/dirk/github/q-ran/quran/tf/0.4/otype.tf\">otype</a>  <a target=\"_blank\" href=\"https://github.com/q-ran/quran/blob/master/docs/features.md\" title=\"/Users/dirk/github/q-ran/quran/tf/0.4/pos.tf\">pos</a>  <a target=\"_blank\" href=\"https://github.com/q-ran/quran/blob/master/docs/features.md\" title=\"/Users/dirk/github/q-ran/quran/tf/0.4/posx.tf\">posx</a>  <a target=\"_blank\" href=\"https://github.com/q-ran/quran/blob/master/docs/features.md\" title=\"/Users/dirk/github/q-ran/quran/tf/0.4/ps.tf\">ps</a>  <a target=\"_blank\" href=\"https://github.com/q-ran/quran/blob/master/docs/features.md\" title=\"/Users/dirk/github/q-ran/quran/tf/0.4/root.tf\">root</a>  <a target=\"_blank\" href=\"https://github.com/q-ran/quran/blob/master/docs/features.md\" title=\"/Users/dirk/github/q-ran/quran/tf/0.4/sp.tf\">sp</a>  <a target=\"_blank\" href=\"https://github.com/q-ran/quran/blob/master/docs/features.md\" title=\"/Users/dirk/github/q-ran/quran/tf/0.4/space.tf\">space</a>  <a target=\"_blank\" href=\"https://github.com/q-ran/quran/blob/master/docs/features.md\" title=\"/Users/dirk/github/q-ran/quran/tf/0.4/tense.tf\">tense</a>  <a target=\"_blank\" href=\"https://github.com/q-ran/quran/blob/master/docs/features.md\" title=\"/Users/dirk/github/q-ran/quran/tf/0.4/translation@en.tf\">translation@ll</a>  <a target=\"_blank\" href=\"https://github.com/q-ran/quran/blob/master/docs/features.md\" title=\"/Users/dirk/github/q-ran/quran/tf/0.4/type.tf\">type</a>  <a target=\"_blank\" href=\"https://github.com/q-ran/quran/blob/master/docs/features.md\" title=\"/Users/dirk/github/q-ran/quran/tf/0.4/unicode.tf\">unicode</a>  <a target=\"_blank\" href=\"https://github.com/q-ran/quran/blob/master/docs/features.md\" title=\"/Users/dirk/github/q-ran/quran/tf/0.4/voice.tf\">voice</a>  <a target=\"_blank\" href=\"https://github.com/q-ran/quran/blob/master/docs/features.md\" title=\"/Users/dirk/github/q-ran/quran/tf/0.4/w.tf\">w</a>  <a target=\"_blank\" href=\"https://github.com/q-ran/quran/blob/master/docs/features.md\" title=\"/Users/dirk/github/q-ran/quran/tf/0.4/wx.tf\">wx</a>  <b><i><a target=\"_blank\" href=\"https://github.com/q-ran/quran/blob/master/docs/features.md\" title=\"/Users/dirk/github/q-ran/quran/tf/0.4/oslots.tf\">oslots</a></i></b> </p><p><b>/Users/dirk/Downloads/q-ran/quran/tf/0.4</b>: <span title=\"/Users/dirk/Downloads/q-ran/quran/tf/0.4/sentiment.tf\">sentiment</span> </p></details>"
      ],
      "text/plain": [
       "<IPython.core.display.HTML object>"
      ]
     },
     "metadata": {},
     "output_type": "display_data"
    },
    {
     "data": {
      "text/html": [
       "<style>tr.tf, td.tf, th.tf { text-align: left ! important;}@font-face {\n",
       "  font-family: \"Ezra SIL\";\n",
       "  src: local('Ezra SIL'), local('EzraSIL'),\n",
       "    url('/server/static/fonts/SILEOT.woff') format('woff'),\n",
       "    url('https://github.com/annotation/text-fabric/blob/master/tf/server/static/fonts/SILEOT.woff?raw=true') format('woff');\n",
       "}\n",
       "\n",
       "@font-face {\n",
       "  font-family: \"SBL Hebrew\";\n",
       "  src: local('SBL Hebrew'), local('SBLHebrew'),\n",
       "    url('/server/static/fonts/SBL_Hbrw.woff') format('woff'),\n",
       "    url('https://github.com/annotation/text-fabric/blob/master/tf/server/static/fonts/SBL_Hbrw.woff?raw=true') format('woff');\n",
       "}\n",
       "\n",
       "@font-face {\n",
       "  font-family: \"Estrangelo Edessa\";\n",
       "  src: local('Estrangelo Edessa'), local('EstrangeloEdessa');\n",
       "    url('/server/static/fonts/SyrCOMEdessa.woff') format('woff'),\n",
       "    url('https://github.com/annotation/text-fabric/blob/master/tf/server/static/fonts/SyrCOMEdessa.woff?raw=true') format('woff');\n",
       "}\n",
       "\n",
       "@font-face {\n",
       "  font-family: AmiriQuran;\n",
       "  font-style: normal;\n",
       "  font-weight: 400;\n",
       "  src: local('Amiri Quran'), local('AmiriQuran'),\n",
       "    url('/server/static/fonts/AmiriQuran.woff') format('woff'),\n",
       "    url('https://github.com/annotation/text-fabric/blob/master/tf/server/static/fonts/AmiriQuran.woff?raw=true') format('woff');\n",
       "}\n",
       "\n",
       "@font-face {\n",
       "  font-family: AmiriQuranColored;\n",
       "  font-style: normal;\n",
       "  font-weight: 400;\n",
       "  src: local('Amiri Quran Colored'), local('AmiriQuranColored'),\n",
       "    url('/server/static/fonts/AmiriQuranColored.woff') format('woff'),\n",
       "    url('https://github.com/annotation/text-fabric/blob/master/tf/server/static/fonts/AmiriQuranColored.woff?raw=true') format('woff');\n",
       "}\n",
       "\n",
       "@font-face {\n",
       "  font-family: \"Santakku\";\n",
       "  src: local('Santakku'),\n",
       "    url('/server/static/fonts/Santakku.woff') format('woff'),\n",
       "    url('https://github.com/annotation/text-fabric/blob/master/tf/server/static/fonts/Santakku.woff?raw=true') format('woff');\n",
       "}\n",
       "\n",
       "@font-face {\n",
       "  font-family: \"SantakkuM\";\n",
       "  src: local('SantakkuM'),\n",
       "    url('/server/static/fonts/SantakkuM.woff') format('woff'),\n",
       "    url('https://github.com/annotation/text-fabric/blob/master/tf/server/static/fonts/SantakkuM.woff?raw=true') format('woff');\n",
       "}\n",
       "/* neutral text */\n",
       ".txtn,.txtn a:visited,.txtn a:link {\n",
       "    font-family: sans-serif;\n",
       "    font-size: medium;\n",
       "    direction: ltr;\n",
       "    text-decoration: none;\n",
       "    color: var(--text-color);\n",
       "}\n",
       "/* transcription text */\n",
       ".txtt,.txtt a:visited,.txtt a:link {\n",
       "    font-family: monospace;\n",
       "    font-size: medium;\n",
       "    direction: ltr;\n",
       "    text-decoration: none;\n",
       "    color: var(--text-color);\n",
       "}\n",
       "/* source text */\n",
       ".txto,.txto a:visited,.txto a:link {\n",
       "    font-family: serif;\n",
       "    font-size: medium;\n",
       "    direction: ltr;\n",
       "    text-decoration: none;\n",
       "    color: var(--text-color);\n",
       "}\n",
       "/* phonetic text */\n",
       ".txtp,.txtp a:visited,.txtp a:link {\n",
       "    font-family: Gentium, sans-serif;\n",
       "    font-size: large;\n",
       "    direction: ltr;\n",
       "    text-decoration: none;\n",
       "    color: var(--text-color);\n",
       "}\n",
       "/* original script text */\n",
       ".txtu,.txtu a:visited,.txtu a:link {\n",
       "    font-family: Gentium, sans-serif;\n",
       "    font-size: large;\n",
       "    text-decoration: none;\n",
       "    color: var(--text-color);\n",
       "}\n",
       "/* hebrew */\n",
       ".txtu.hbo,.lex.hbo {\n",
       "    font-family: \"Ezra SIL\", \"SBL Hebrew\", sans-serif;\n",
       "    font-size: x-large;\n",
       "    direction: rtl ! important;\n",
       "    unicode-bidi: embed;\n",
       "}\n",
       "/* syriac */\n",
       ".txtu.syc,.lex.syc {\n",
       "    font-family: \"Estrangelo Edessa\", sans-serif;\n",
       "    font-size: large;\n",
       "    direction: rtl ! important;\n",
       "    unicode-bidi: embed;\n",
       "}\n",
       "/* neo aramaic */\n",
       ".txtu.cld,.lex.cld {\n",
       "    font-family: \"CharisSIL-R\", sans-serif;\n",
       "    font-size: medium;\n",
       "    direction: ltr ! important;\n",
       "    unicode-bidi: embed;\n",
       "}\n",
       "/* standard arabic */\n",
       ".txtu.ara,.lex.ara {\n",
       "    font-family: \"AmiriQuran\", sans-serif;\n",
       "    font-size: large;\n",
       "    direction: rtl ! important;\n",
       "    unicode-bidi: embed;\n",
       "}\n",
       "/* cuneiform */\n",
       ".txtu.akk,.lex.akk {\n",
       "    font-family: Santakku, sans-serif;\n",
       "    font-size: x-large;\n",
       "    direction: ltr ! important;\n",
       "    unicode-bidi: embed;\n",
       "}\n",
       "/* greek */\n",
       ".txtu.grc,.lex.grc a:link {\n",
       "    font-family: Gentium, sans-serif;\n",
       "    font-size: medium;\n",
       "    direction: ltr ! important;\n",
       "    unicode-bidi: embed;\n",
       "}\n",
       "a:hover {\n",
       "    text-decoration: underline | important;\n",
       "    color: #0000ff | important;\n",
       "}\n",
       ".ltr {\n",
       "    direction: ltr ! important;\n",
       "}\n",
       ".rtl {\n",
       "    direction: rtl ! important;\n",
       "}\n",
       "span.plain {\n",
       "    display: inline-block;\n",
       "    white-space: pre-wrap;\n",
       "    text-align: start;\n",
       "}\n",
       ".features {\n",
       "    font-family: monospace;\n",
       "    font-size: medium;\n",
       "    font-weight: bold;\n",
       "    color: var(--features);\n",
       "    display: flex;\n",
       "    flex-flow: column nowrap;\n",
       "    justify-content: flex-start;\n",
       "    align-items: flex-start;\n",
       "    align-content: flex-start;\n",
       "    padding: 0.1rem;\n",
       "    margin: 0.1rem;\n",
       "    direction: ltr;\n",
       "    border: var(--meta-width) solid var(--meta-color);\n",
       "    border-radius: var(--meta-width);\n",
       "}\n",
       ".features div,.features span {\n",
       "    padding: 0;\n",
       "    margin: -0.1rem 0;\n",
       "}\n",
       ".features .f {\n",
       "    font-family: sans-serif;\n",
       "    font-size: small;\n",
       "    font-weight: normal;\n",
       "    color: #5555bb;\n",
       "}\n",
       ".features .xft {\n",
       "  color: #000000;\n",
       "  background-color: #eeeeee;\n",
       "  font-size: medium;\n",
       "  margin: 0.1rem 0rem;\n",
       "}\n",
       ".features .xft .f {\n",
       "  color: #000000;\n",
       "  background-color: #eeeeee;\n",
       "  font-size: small;\n",
       "  font-weight: normal;\n",
       "}\n",
       ".section {\n",
       "    font-family: sans-serif;\n",
       "    font-size: small;\n",
       "    font-weight: bold;\n",
       "    color: var(--section);\n",
       "}\n",
       ".structure {\n",
       "    font-family: sans-serif;\n",
       "    font-size: small;\n",
       "    font-weight: bold;\n",
       "    color: var(--structure);\n",
       "}\n",
       ".comments {\n",
       "    display: flex;\n",
       "    justify-content: flex-start;\n",
       "    align-items: flex-start;\n",
       "    align-content: flex-start;\n",
       "    flex-flow: column nowrap;\n",
       "}\n",
       ".nd {\n",
       "    font-family: sans-serif;\n",
       "    font-size: small;\n",
       "    color: var(--node);\n",
       "    vertical-align: super;\n",
       "}\n",
       ".lex {\n",
       "  color: var(--lex-color);;\n",
       "}\n",
       ".children,.children.ltr {\n",
       "    display: flex;\n",
       "    border: 0;\n",
       "    background-color: #ffffff;\n",
       "    justify-content: flex-start;\n",
       "    align-items: flex-start;\n",
       "    align-content: flex-start;\n",
       "}\n",
       ".children.stretch {\n",
       "    align-items: stretch;\n",
       "}\n",
       ".children.row {\n",
       "    flex-flow: row nowrap;\n",
       "}\n",
       ".children.row.wrap {\n",
       "    flex-flow: row wrap;\n",
       "}\n",
       ".children.col {\n",
       "    flex-flow: column nowrap;\n",
       "}\n",
       ".children.col.wrap {\n",
       "    flex-flow: column wrap;\n",
       "}\n",
       ".contnr {\n",
       "    width: fit-content;\n",
       "    display: flex;\n",
       "    justify-content: flex-start;\n",
       "    align-items: flex-start;\n",
       "    align-content: flex-start;\n",
       "    flex-flow: column nowrap;\n",
       "    background: #ffffff none repeat scroll 0 0;\n",
       "    padding:  0.5rem 0.1rem 0.1rem 0.1rem;\n",
       "    margin: 0.8rem 0.1rem 0.1rem 0.1rem;\n",
       "    border-style: solid;\n",
       "    font-size: small;\n",
       "}\n",
       ".contnr.trm {\n",
       "    background-attachment: local;\n",
       "}\n",
       ".contnr.cnul {\n",
       "    padding:  0;\n",
       "    margin: 0;\n",
       "    border-style: solid;\n",
       "    font-size: xx-small;\n",
       "}\n",
       ".contnr.cnul,.lbl.cnul {\n",
       "    border-color: var(--border-color-nul);\n",
       "    border-width: var(--border-width-nul);\n",
       "    border-radius: var(--border-width-nul);\n",
       "}\n",
       ".contnr.c0,.lbl.c0 {\n",
       "    border-color: var(--border-color0);\n",
       "    border-width: var(--border-width0);\n",
       "    border-radius: var(--border-width0);\n",
       "}\n",
       ".contnr.c1,.lbl.c1 {\n",
       "    border-color: var(--border-color1);\n",
       "    border-width: var(--border-width1);\n",
       "    border-radius: var(--border-width1);\n",
       "}\n",
       ".contnr.c2,.lbl.c2 {\n",
       "    border-color: var(--border-color2);\n",
       "    border-width: var(--border-width2);\n",
       "    border-radius: var(--border-width2);\n",
       "}\n",
       ".contnr.c3,.lbl.c3 {\n",
       "    border-color: var(--border-color3);\n",
       "    border-width: var(--border-width3);\n",
       "    border-radius: var(--border-width3);\n",
       "}\n",
       ".contnr.c4,.lbl.c4 {\n",
       "    border-color: var(--border-color4);\n",
       "    border-width: var(--border-width4);\n",
       "    border-radius: var(--border-width4);\n",
       "}\n",
       ".contnr.l {\n",
       "    border-left-style: dotted\n",
       "}\n",
       ".contnr.r {\n",
       "    border-right-style: dotted\n",
       "}\n",
       ".contnr.lno {\n",
       "    border-left-style: none\n",
       "}\n",
       ".contnr.rno {\n",
       "    border-right-style: none\n",
       "}\n",
       ".lbl {\n",
       "    font-family: monospace;\n",
       "    margin-top: -1.2rem;\n",
       "    margin-left: 1rem;\n",
       "    background: #ffffff none repeat scroll 0 0;\n",
       "    padding: 0 0.3rem;\n",
       "    border-style: solid;\n",
       "    display: block;\n",
       "    color: var(--label)\n",
       "}\n",
       ".lbl.trm {\n",
       "    background-attachment: local;\n",
       "    margin-top: 0.1rem;\n",
       "    margin-left: 0.1rem;\n",
       "    padding: 0.1rem 0.1rem;\n",
       "    border-style: none;\n",
       "}\n",
       ".lbl.cnul {\n",
       "    font-size: xx-small;\n",
       "}\n",
       ".lbl.c0 {\n",
       "    font-size: small;\n",
       "}\n",
       ".lbl.c1 {\n",
       "    font-size: small;\n",
       "}\n",
       ".lbl.c2 {\n",
       "    font-size: medium;\n",
       "}\n",
       ".lbl.c3 {\n",
       "    font-size: medium;\n",
       "}\n",
       ".lbl.c4 {\n",
       "    font-size: large;\n",
       "}\n",
       ".occs {\n",
       "    font-size: small;\n",
       "}\n",
       "\n",
       ":root {\n",
       "\t--node:             hsla(120, 100%,  20%, 1.0  );\n",
       "\t--label:            hsla(  0, 100%,  20%, 1.0  );\n",
       "\t--section:          hsla(  0, 100%,  25%, 1.0  );\n",
       "\t--structure:        hsla(120, 100%,  25%, 1.0  );\n",
       "\t--features:         hsla(  0,   0%,  30%, 1.0  );\n",
       "  --text-color:       hsla( 60,  80%,  10%, 1.0  );\n",
       "  --lex-color:        hsla(220,  90%,  60%, 1.0  );\n",
       "  --meta-color:       hsla(  0,   0%,  90%, 0.7  );\n",
       "  --meta-width:       0.15rem;\n",
       "  --border-color-nul: hsla(  0,   0%,  90%, 0.5  );\n",
       "  --border-color0:    hsla(  0,   0%,  90%, 0.9  );\n",
       "  --border-color1:    hsla(  0,   0%,  80%, 0.9  );\n",
       "  --border-color2:    hsla(  0,   0%,  70%, 0.9  );\n",
       "  --border-color3:    hsla(  0,   0%,  80%, 0.8  );\n",
       "  --border-color4:    hsla(  0,   0%,  60%, 0.9  );\n",
       "  --border-width-nul: 0.1rem;\n",
       "  --border-width0:    0.1rem;\n",
       "  --border-width1:    0.15rem;\n",
       "  --border-width2:    0.2rem;\n",
       "  --border-width3:    0.3rem;\n",
       "  --border-width4:    0.25rem;\n",
       "}\n",
       ".hl {\n",
       "  background-color: var(--hl-strong);\n",
       "}\n",
       "span.hl {\n",
       "\tbackground-color: var(--hl-strong);\n",
       "\tborder-width: 0;\n",
       "\tborder-radius: 0.1rem;\n",
       "\tborder-style: solid;\n",
       "}\n",
       "div.contnr.hl,div.lbl.hl {\n",
       "  background-color: var(--hl-strong);\n",
       "}\n",
       "div.contnr.hl {\n",
       "  border-color: var(--hl-rim) ! important;\n",
       "\tborder-width: 0.2rem ! important;\n",
       "}\n",
       "\n",
       "span.hlbx {\n",
       "\tborder-color: var(--hl-rim);\n",
       "\tborder-width: 0.2rem;\n",
       "\tborder-style: solid;\n",
       "\tborder-radius: 0.3rem;\n",
       "  padding: 0.2rem;\n",
       "  margin: 0.2rem;\n",
       "}\n",
       "\n",
       "span.plain {\n",
       "  display: inline-block;\n",
       "  white-space: pre-wrap;\n",
       "}\n",
       "\n",
       ":root {\n",
       "\t--hl-strong:        hsla( 60, 100%,  70%, 0.9  );\n",
       "\t--hl-rim:           hsla( 55,  80%,  50%, 1.0  );\n",
       "}\n",
       "</style>"
      ],
      "text/plain": [
       "<IPython.core.display.HTML object>"
      ]
     },
     "metadata": {},
     "output_type": "display_data"
    },
    {
     "data": {
      "text/html": [
       "<details open><summary><b>API members</b>:</summary>\n",
       "<a target=\"_blank\" href=\"https://annotation.github.io/text-fabric/Api/Computed/#computed-data\" title=\"doc\">C Computed</a>, <a target=\"_blank\" href=\"https://annotation.github.io/text-fabric/Api/Computed/#computed-data\" title=\"doc\">Call AllComputeds</a>, <a target=\"_blank\" href=\"https://annotation.github.io/text-fabric/Api/Computed/#computed-data\" title=\"doc\">Cs ComputedString</a><br/>\n",
       "<a target=\"_blank\" href=\"https://annotation.github.io/text-fabric/Api/Features/#edge-features\" title=\"doc\">E Edge</a>, <a target=\"_blank\" href=\"https://annotation.github.io/text-fabric/Api/Features/#edge-features\" title=\"doc\">Eall AllEdges</a>, <a target=\"_blank\" href=\"https://annotation.github.io/text-fabric/Api/Features/#edge-features\" title=\"doc\">Es EdgeString</a><br/>\n",
       "<a target=\"_blank\" href=\"https://annotation.github.io/text-fabric/Api/Fabric/#loading\" title=\"doc\">ensureLoaded</a>, <a target=\"_blank\" href=\"https://annotation.github.io/text-fabric/Api/Fabric/#loading\" title=\"doc\">TF</a>, <a target=\"_blank\" href=\"https://annotation.github.io/text-fabric/Api/Fabric/#loading\" title=\"doc\">ignored</a>, <a target=\"_blank\" href=\"https://annotation.github.io/text-fabric/Api/Fabric/#loading\" title=\"doc\">loadLog</a><br/>\n",
       "<a target=\"_blank\" href=\"https://annotation.github.io/text-fabric/Api/Locality/#locality\" title=\"doc\">L Locality</a><br/>\n",
       "<a target=\"_blank\" href=\"https://annotation.github.io/text-fabric/Api/Misc/#messaging\" title=\"doc\">cache</a>, <a target=\"_blank\" href=\"https://annotation.github.io/text-fabric/Api/Misc/#messaging\" title=\"doc\">error</a>, <a target=\"_blank\" href=\"https://annotation.github.io/text-fabric/Api/Misc/#messaging\" title=\"doc\">indent</a>, <a target=\"_blank\" href=\"https://annotation.github.io/text-fabric/Api/Misc/#messaging\" title=\"doc\">info</a>, <a target=\"_blank\" href=\"https://annotation.github.io/text-fabric/Api/Misc/#messaging\" title=\"doc\">isSilent</a>, <a target=\"_blank\" href=\"https://annotation.github.io/text-fabric/Api/Misc/#messaging\" title=\"doc\">reset</a>, <a target=\"_blank\" href=\"https://annotation.github.io/text-fabric/Api/Misc/#messaging\" title=\"doc\">setSilent</a>, <a target=\"_blank\" href=\"https://annotation.github.io/text-fabric/Api/Misc/#messaging\" title=\"doc\">silentOff</a>, <a target=\"_blank\" href=\"https://annotation.github.io/text-fabric/Api/Misc/#messaging\" title=\"doc\">silentOn</a>, <a target=\"_blank\" href=\"https://annotation.github.io/text-fabric/Api/Misc/#messaging\" title=\"doc\">warning</a><br/>\n",
       "<a target=\"_blank\" href=\"https://annotation.github.io/text-fabric/Api/Nodes/#navigating-nodes\" title=\"doc\">N Nodes</a>, <a target=\"_blank\" href=\"https://annotation.github.io/text-fabric/Api/Nodes/#navigating-nodes\" title=\"doc\">sortKey</a>, <a target=\"_blank\" href=\"https://annotation.github.io/text-fabric/Api/Nodes/#navigating-nodes\" title=\"doc\">sortKeyTuple</a>, <a target=\"_blank\" href=\"https://annotation.github.io/text-fabric/Api/Nodes/#navigating-nodes\" title=\"doc\">otypeRank</a>, <a target=\"_blank\" href=\"https://annotation.github.io/text-fabric/Api/Nodes/#navigating-nodes\" title=\"doc\">sortNodes</a><br/>\n",
       "<a target=\"_blank\" href=\"https://annotation.github.io/text-fabric/Api/Features/#node-features\" title=\"doc\">F Feature</a>, <a target=\"_blank\" href=\"https://annotation.github.io/text-fabric/Api/Features/#node-features\" title=\"doc\">Fall AllFeatures</a>, <a target=\"_blank\" href=\"https://annotation.github.io/text-fabric/Api/Features/#node-features\" title=\"doc\">Fs FeatureString</a><br/>\n",
       "<a target=\"_blank\" href=\"https://annotation.github.io/text-fabric/Api/Search/#search\" title=\"doc\">S Search</a><br/>\n",
       "<a target=\"_blank\" href=\"https://annotation.github.io/text-fabric/Api/Text/#text\" title=\"doc\">T Text</a></details>"
      ],
      "text/plain": [
       "<IPython.core.display.HTML object>"
      ]
     },
     "metadata": {},
     "output_type": "display_data"
    }
   ],
   "source": [
    "# A = use('quran', hoist=globals(), locations=location, modules=module)\n",
    "A = use('quran:clone', checkout=\"clone\", hoist=globals(), locations=location, modules=module)"
   ]
  },
  {
   "cell_type": "markdown",
   "metadata": {},
   "source": [
    "See: the feature `sentiment` got loaded."
   ]
  },
  {
   "cell_type": "markdown",
   "metadata": {},
   "source": [
    "## Inspecting the sentiment data\n",
    "\n",
    "Let's inspect it."
   ]
  },
  {
   "cell_type": "code",
   "execution_count": 38,
   "metadata": {},
   "outputs": [
    {
     "data": {
      "text/plain": [
       "((-1, 710),\n",
       " (0, 621),\n",
       " (1, 475),\n",
       " (-2, 317),\n",
       " (-21, 282),\n",
       " (2, 159),\n",
       " (3, 89),\n",
       " (-4, 79),\n",
       " (-3, 62),\n",
       " (-7, 28),\n",
       " (-5, 21),\n",
       " (4, 13))"
      ]
     },
     "execution_count": 38,
     "metadata": {},
     "output_type": "execute_result"
    }
   ],
   "source": [
    "F.sentiment.freqList()"
   ]
  },
  {
   "cell_type": "markdown",
   "metadata": {},
   "source": [
    "or, a bit more pleasing"
   ]
  },
  {
   "cell_type": "code",
   "execution_count": 39,
   "metadata": {},
   "outputs": [
    {
     "name": "stdout",
     "output_type": "stream",
     "text": [
      "sentiment  -1 occurs 710 times\n",
      "sentiment   0 occurs 621 times\n",
      "sentiment   1 occurs 475 times\n",
      "sentiment  -2 occurs 317 times\n",
      "sentiment -21 occurs 282 times\n",
      "sentiment   2 occurs 159 times\n",
      "sentiment   3 occurs  89 times\n",
      "sentiment  -4 occurs  79 times\n",
      "sentiment  -3 occurs  62 times\n",
      "sentiment  -7 occurs  28 times\n",
      "sentiment  -5 occurs  21 times\n",
      "sentiment   4 occurs  13 times\n"
     ]
    }
   ],
   "source": [
    "for (sent, amount) in F.sentiment.freqList():\n",
    "  print(f'sentiment {sent:>3} occurs {amount:>3} times')"
   ]
  },
  {
   "cell_type": "markdown",
   "metadata": {},
   "source": [
    "## Displaying sentiment data\n",
    "\n",
    "Remember the display where we showed the morphology and the translations?\n",
    "\n",
    "We can make the same display, but now with sentiments shown.\n",
    "\n",
    "We show only some of the ayas.\n",
    "\n",
    "We have to add the feature `sentiment` to the features to be displayed."
   ]
  },
  {
   "cell_type": "code",
   "execution_count": 40,
   "metadata": {},
   "outputs": [
    {
     "data": {
      "text/html": [
       "<p><b>result</b> <i>10</i></p>"
      ],
      "text/plain": [
       "<IPython.core.display.HTML object>"
      ]
     },
     "metadata": {},
     "output_type": "display_data"
    },
    {
     "data": {
      "text/html": [
       "<span class=\"section ltr\"><a target=\"_blank\" href=\"/#2:10\" title=\"show this passage on Tanzil\" sec=\"2:10\">2:10</a> </span><div class=\"contnr c3  rtl  \" ><div class=\"lbl c3  \" ><span class=\"nd\">aya</span></div> <div class='features'><span class=\"translation@en xft\" ><span class=\"f\">translation@en=</span>In their hearts is a sickness, and God has increased their sickness, and there awaits them a painful chastisement for that they have cried lies.</span></div><div class=\"children row wrap rtl\"><div class=\"contnr c1  rtl  \" ><div class=\"lbl c1  \" ><span class=\"nd\">group</span></div> <div class=\"children row  rtl\"><div class=\"contnr c0 trm rtl  hl\" ><div class=\"lbl c0 trm hl\" ><a target=\"_blank\" href=\"http://tanzil.net\" title=\"show this passage on Tanzil\"><span class=\"txtu ara\">فِى </span></a></div> </div></div></div><div class=\"contnr c1  rtl  \" ><div class=\"lbl c1  \" ><span class=\"nd\">group</span></div> <div class=\"children row  rtl\"><div class=\"contnr c0 trm rtl  \" ><div class=\"lbl c0 trm \" ><a target=\"_blank\" href=\"http://tanzil.net\" title=\"show this passage on Tanzil\"><span class=\"txtu ara\">قُلُوبِ</span></a></div> <div class='features'><span class=\"sentiment xft\" ><span class=\"f\">sentiment=</span>-1</span></div></div><div class=\"contnr c0 trm rtl  \" ><div class=\"lbl c0 trm \" ><span class=\"txtu ara\">هِم </span></div> </div></div></div><div class=\"contnr c1  rtl  \" ><div class=\"lbl c1  \" ><span class=\"nd\">group</span></div> <div class=\"children row  rtl\"><div class=\"contnr c0 trm rtl  \" ><div class=\"lbl c0 trm \" ><a target=\"_blank\" href=\"http://tanzil.net\" title=\"show this passage on Tanzil\"><span class=\"txtu ara\">مَّرَضٌ </span></a></div> <div class='features'><span class=\"sentiment xft\" ><span class=\"f\">sentiment=</span></span></div></div></div></div><div class=\"contnr c1  rtl  \" ><div class=\"lbl c1  \" ><span class=\"nd\">group</span></div> <div class=\"children row  rtl\"><div class=\"contnr c0 trm rtl  \" ><div class=\"lbl c0 trm \" ><span class=\"txtu ara\">فَ</span></div> </div><div class=\"contnr c0 trm rtl  \" ><div class=\"lbl c0 trm \" ><a target=\"_blank\" href=\"http://tanzil.net\" title=\"show this passage on Tanzil\"><span class=\"txtu ara\">زَادَ</span></a></div> <div class='features'><span class=\"sentiment xft\" ><span class=\"f\">sentiment=</span></span></div></div><div class=\"contnr c0 trm rtl  \" ><div class=\"lbl c0 trm \" ><span class=\"txtu ara\">هُمُ </span></div> </div></div></div><div class=\"contnr c1  rtl  \" ><div class=\"lbl c1  \" ><span class=\"nd\">group</span></div> <div class=\"children row  rtl\"><div class=\"contnr c0 trm rtl  \" ><div class=\"lbl c0 trm \" ><a target=\"_blank\" href=\"http://tanzil.net\" title=\"show this passage on Tanzil\"><span class=\"txtu ara\">ٱللَّهُ </span></a></div> <div class='features'><span class=\"sentiment xft\" ><span class=\"f\">sentiment=</span>-21</span></div></div></div></div><div class=\"contnr c1  rtl  \" ><div class=\"lbl c1  \" ><span class=\"nd\">group</span></div> <div class=\"children row  rtl\"><div class=\"contnr c0 trm rtl  \" ><div class=\"lbl c0 trm \" ><a target=\"_blank\" href=\"http://tanzil.net\" title=\"show this passage on Tanzil\"><span class=\"txtu ara\">مَرَضًا </span></a></div> <div class='features'><span class=\"sentiment xft\" ><span class=\"f\">sentiment=</span></span></div></div></div></div><div class=\"contnr c1  rtl  \" ><div class=\"lbl c1  \" ><span class=\"nd\">group</span></div> <div class=\"children row  rtl\"><div class=\"contnr c0 trm rtl  \" ><div class=\"lbl c0 trm \" ><span class=\"txtu ara\">وَ</span></div> </div><div class=\"contnr c0 trm rtl  \" ><div class=\"lbl c0 trm \" ><span class=\"txtu ara\">لَ</span></div> </div><div class=\"contnr c0 trm rtl  \" ><div class=\"lbl c0 trm \" ><span class=\"txtu ara\">هُمْ </span></div> </div></div></div><div class=\"contnr c1  rtl  \" ><div class=\"lbl c1  \" ><span class=\"nd\">group</span></div> <div class=\"children row  rtl\"><div class=\"contnr c0 trm rtl  \" ><div class=\"lbl c0 trm \" ><a target=\"_blank\" href=\"http://tanzil.net\" title=\"show this passage on Tanzil\"><span class=\"txtu ara\">عَذَابٌ </span></a></div> <div class='features'><span class=\"sentiment xft\" ><span class=\"f\">sentiment=</span>1</span></div></div></div></div><div class=\"contnr c1  rtl  \" ><div class=\"lbl c1  \" ><span class=\"nd\">group</span></div> <div class=\"children row  rtl\"><div class=\"contnr c0 trm rtl  \" ><div class=\"lbl c0 trm \" ><a target=\"_blank\" href=\"http://tanzil.net\" title=\"show this passage on Tanzil\"><span class=\"txtu ara\">أَلِيمٌۢ </span></a></div> </div></div></div><div class=\"contnr c1  rtl  \" ><div class=\"lbl c1  \" ><span class=\"nd\">group</span></div> <div class=\"children row  rtl\"><div class=\"contnr c0 trm rtl  \" ><div class=\"lbl c0 trm \" ><span class=\"txtu ara\">بِ</span></div> </div><div class=\"contnr c0 trm rtl  \" ><div class=\"lbl c0 trm \" ><a target=\"_blank\" href=\"http://tanzil.net\" title=\"show this passage on Tanzil\"><span class=\"txtu ara\">مَا </span></a></div> </div></div></div><div class=\"contnr c1  rtl  \" ><div class=\"lbl c1  \" ><span class=\"nd\">group</span></div> <div class=\"children row  rtl\"><div class=\"contnr c0 trm rtl  \" ><div class=\"lbl c0 trm \" ><a target=\"_blank\" href=\"http://tanzil.net\" title=\"show this passage on Tanzil\"><span class=\"txtu ara\">كَانُ</span></a></div> <div class='features'><span class=\"sentiment xft\" ><span class=\"f\">sentiment=</span>-1</span></div></div><div class=\"contnr c0 trm rtl  \" ><div class=\"lbl c0 trm \" ><span class=\"txtu ara\">وا۟ </span></div> </div></div></div><div class=\"contnr c1  rtl  \" ><div class=\"lbl c1  \" ><span class=\"nd\">group</span></div> <div class=\"children row  rtl\"><div class=\"contnr c0 trm rtl  \" ><div class=\"lbl c0 trm \" ><a target=\"_blank\" href=\"http://tanzil.net\" title=\"show this passage on Tanzil\"><span class=\"txtu ara\">يَكْذِبُ</span></a></div> <div class='features'><span class=\"sentiment xft\" ><span class=\"f\">sentiment=</span></span></div></div><div class=\"contnr c0 trm rtl  \" ><div class=\"lbl c0 trm \" ><span class=\"txtu ara\">ونَ</span></div> </div></div></div></div></div>"
      ],
      "text/plain": [
       "<IPython.core.display.HTML object>"
      ]
     },
     "metadata": {},
     "output_type": "display_data"
    },
    {
     "data": {
      "text/html": [
       "<p><b>result</b> <i>11</i></p>"
      ],
      "text/plain": [
       "<IPython.core.display.HTML object>"
      ]
     },
     "metadata": {},
     "output_type": "display_data"
    },
    {
     "data": {
      "text/html": [
       "<span class=\"section ltr\"><a target=\"_blank\" href=\"/#2:11\" title=\"show this passage on Tanzil\" sec=\"2:11\">2:11</a> </span><div class=\"contnr c3  rtl  \" ><div class=\"lbl c3  \" ><span class=\"nd\">aya</span></div> <div class='features'><span class=\"translation@en xft\" ><span class=\"f\">translation@en=</span>When it is said to them, 'Do not corruption in the land', they say, 'We are only ones that put things right.'</span></div><div class=\"children row wrap rtl\"><div class=\"contnr c1  rtl  \" ><div class=\"lbl c1  \" ><span class=\"nd\">group</span></div> <div class=\"children row  rtl\"><div class=\"contnr c0 trm rtl  hl\" ><div class=\"lbl c0 trm hl\" ><span class=\"txtu ara\">وَ</span></div> </div><div class=\"contnr c0 trm rtl  \" ><div class=\"lbl c0 trm \" ><a target=\"_blank\" href=\"http://tanzil.net\" title=\"show this passage on Tanzil\"><span class=\"txtu ara\">إِذَا </span></a></div> </div></div></div><div class=\"contnr c1  rtl  \" ><div class=\"lbl c1  \" ><span class=\"nd\">group</span></div> <div class=\"children row  rtl\"><div class=\"contnr c0 trm rtl  \" ><div class=\"lbl c0 trm \" ><a target=\"_blank\" href=\"http://tanzil.net\" title=\"show this passage on Tanzil\"><span class=\"txtu ara\">قِيلَ </span></a></div> <div class='features'><span class=\"sentiment xft\" ><span class=\"f\">sentiment=</span></span></div></div></div></div><div class=\"contnr c1  rtl  \" ><div class=\"lbl c1  \" ><span class=\"nd\">group</span></div> <div class=\"children row  rtl\"><div class=\"contnr c0 trm rtl  \" ><div class=\"lbl c0 trm \" ><span class=\"txtu ara\">لَ</span></div> </div><div class=\"contnr c0 trm rtl  \" ><div class=\"lbl c0 trm \" ><span class=\"txtu ara\">هُمْ </span></div> </div></div></div><div class=\"contnr c1  rtl  \" ><div class=\"lbl c1  \" ><span class=\"nd\">group</span></div> <div class=\"children row  rtl\"><div class=\"contnr c0 trm rtl  \" ><div class=\"lbl c0 trm \" ><a target=\"_blank\" href=\"http://tanzil.net\" title=\"show this passage on Tanzil\"><span class=\"txtu ara\">لَا </span></a></div> </div></div></div><div class=\"contnr c1  rtl  \" ><div class=\"lbl c1  \" ><span class=\"nd\">group</span></div> <div class=\"children row  rtl\"><div class=\"contnr c0 trm rtl  \" ><div class=\"lbl c0 trm \" ><a target=\"_blank\" href=\"http://tanzil.net\" title=\"show this passage on Tanzil\"><span class=\"txtu ara\">تُفْسِدُ</span></a></div> <div class='features'><span class=\"sentiment xft\" ><span class=\"f\">sentiment=</span></span></div></div><div class=\"contnr c0 trm rtl  \" ><div class=\"lbl c0 trm \" ><span class=\"txtu ara\">وا۟ </span></div> </div></div></div><div class=\"contnr c1  rtl  \" ><div class=\"lbl c1  \" ><span class=\"nd\">group</span></div> <div class=\"children row  rtl\"><div class=\"contnr c0 trm rtl  \" ><div class=\"lbl c0 trm \" ><a target=\"_blank\" href=\"http://tanzil.net\" title=\"show this passage on Tanzil\"><span class=\"txtu ara\">فِى </span></a></div> </div></div></div><div class=\"contnr c1  rtl  \" ><div class=\"lbl c1  \" ><span class=\"nd\">group</span></div> <div class=\"children row  rtl\"><div class=\"contnr c0 trm rtl  \" ><div class=\"lbl c0 trm \" ><span class=\"txtu ara\">ٱلْ</span></div> </div><div class=\"contnr c0 trm rtl  \" ><div class=\"lbl c0 trm \" ><a target=\"_blank\" href=\"http://tanzil.net\" title=\"show this passage on Tanzil\"><span class=\"txtu ara\">أَرْضِ </span></a></div> <div class='features'><span class=\"sentiment xft\" ><span class=\"f\">sentiment=</span></span></div></div></div></div><div class=\"contnr c1  rtl  \" ><div class=\"lbl c1  \" ><span class=\"nd\">group</span></div> <div class=\"children row  rtl\"><div class=\"contnr c0 trm rtl  \" ><div class=\"lbl c0 trm \" ><a target=\"_blank\" href=\"http://tanzil.net\" title=\"show this passage on Tanzil\"><span class=\"txtu ara\">قَالُ</span></a></div> <div class='features'><span class=\"sentiment xft\" ><span class=\"f\">sentiment=</span></span></div></div><div class=\"contnr c0 trm rtl  \" ><div class=\"lbl c0 trm \" ><span class=\"txtu ara\">وٓا۟ </span></div> </div></div></div><div class=\"contnr c1  rtl  \" ><div class=\"lbl c1  \" ><span class=\"nd\">group</span></div> <div class=\"children row  rtl\"><div class=\"contnr c0 trm rtl  \" ><div class=\"lbl c0 trm \" ><a target=\"_blank\" href=\"http://tanzil.net\" title=\"show this passage on Tanzil\"><span class=\"txtu ara\">إِنَّ</span></a></div> </div><div class=\"contnr c0 trm rtl  \" ><div class=\"lbl c0 trm \" ><a target=\"_blank\" href=\"http://tanzil.net\" title=\"show this passage on Tanzil\"><span class=\"txtu ara\">مَا </span></a></div> </div></div></div><div class=\"contnr c1  rtl  \" ><div class=\"lbl c1  \" ><span class=\"nd\">group</span></div> <div class=\"children row  rtl\"><div class=\"contnr c0 trm rtl  \" ><div class=\"lbl c0 trm \" ><span class=\"txtu ara\">نَحْنُ </span></div> </div></div></div><div class=\"contnr c1  rtl  \" ><div class=\"lbl c1  \" ><span class=\"nd\">group</span></div> <div class=\"children row  rtl\"><div class=\"contnr c0 trm rtl  \" ><div class=\"lbl c0 trm \" ><a target=\"_blank\" href=\"http://tanzil.net\" title=\"show this passage on Tanzil\"><span class=\"txtu ara\">مُصْلِحُونَ</span></a></div> <div class='features'><span class=\"sentiment xft\" ><span class=\"f\">sentiment=</span></span></div></div></div></div></div></div>"
      ],
      "text/plain": [
       "<IPython.core.display.HTML object>"
      ]
     },
     "metadata": {},
     "output_type": "display_data"
    },
    {
     "data": {
      "text/html": [
       "<p><b>result</b> <i>12</i></p>"
      ],
      "text/plain": [
       "<IPython.core.display.HTML object>"
      ]
     },
     "metadata": {},
     "output_type": "display_data"
    },
    {
     "data": {
      "text/html": [
       "<span class=\"section ltr\"><a target=\"_blank\" href=\"/#2:12\" title=\"show this passage on Tanzil\" sec=\"2:12\">2:12</a> </span><div class=\"contnr c3  rtl  \" ><div class=\"lbl c3  \" ><span class=\"nd\">aya</span></div> <div class='features'><span class=\"translation@en xft\" ><span class=\"f\">translation@en=</span>Truly, they are the workers of corruption but they are not aware.</span></div><div class=\"children row wrap rtl\"><div class=\"contnr c1  rtl  \" ><div class=\"lbl c1  \" ><span class=\"nd\">group</span></div> <div class=\"children row  rtl\"><div class=\"contnr c0 trm rtl  hl\" ><div class=\"lbl c0 trm hl\" ><a target=\"_blank\" href=\"http://tanzil.net\" title=\"show this passage on Tanzil\"><span class=\"txtu ara\">أَلَآ </span></a></div> </div></div></div><div class=\"contnr c1  rtl  \" ><div class=\"lbl c1  \" ><span class=\"nd\">group</span></div> <div class=\"children row  rtl\"><div class=\"contnr c0 trm rtl  \" ><div class=\"lbl c0 trm \" ><a target=\"_blank\" href=\"http://tanzil.net\" title=\"show this passage on Tanzil\"><span class=\"txtu ara\">إِنَّ</span></a></div> </div><div class=\"contnr c0 trm rtl  \" ><div class=\"lbl c0 trm \" ><span class=\"txtu ara\">هُمْ </span></div> </div></div></div><div class=\"contnr c1  rtl  \" ><div class=\"lbl c1  \" ><span class=\"nd\">group</span></div> <div class=\"children row  rtl\"><div class=\"contnr c0 trm rtl  \" ><div class=\"lbl c0 trm \" ><span class=\"txtu ara\">هُمُ </span></div> </div></div></div><div class=\"contnr c1  rtl  \" ><div class=\"lbl c1  \" ><span class=\"nd\">group</span></div> <div class=\"children row  rtl\"><div class=\"contnr c0 trm rtl  \" ><div class=\"lbl c0 trm \" ><span class=\"txtu ara\">ٱلْ</span></div> </div><div class=\"contnr c0 trm rtl  \" ><div class=\"lbl c0 trm \" ><a target=\"_blank\" href=\"http://tanzil.net\" title=\"show this passage on Tanzil\"><span class=\"txtu ara\">مُفْسِدُونَ </span></a></div> </div></div></div><div class=\"contnr c1  rtl  \" ><div class=\"lbl c1  \" ><span class=\"nd\">group</span></div> <div class=\"children row  rtl\"><div class=\"contnr c0 trm rtl  \" ><div class=\"lbl c0 trm \" ><span class=\"txtu ara\">وَ</span></div> </div><div class=\"contnr c0 trm rtl  \" ><div class=\"lbl c0 trm \" ><a target=\"_blank\" href=\"http://tanzil.net\" title=\"show this passage on Tanzil\"><span class=\"txtu ara\">لَٰكِن </span></a></div> </div></div></div><div class=\"contnr c1  rtl  \" ><div class=\"lbl c1  \" ><span class=\"nd\">group</span></div> <div class=\"children row  rtl\"><div class=\"contnr c0 trm rtl  \" ><div class=\"lbl c0 trm \" ><a target=\"_blank\" href=\"http://tanzil.net\" title=\"show this passage on Tanzil\"><span class=\"txtu ara\">لَّا </span></a></div> </div></div></div><div class=\"contnr c1  rtl  \" ><div class=\"lbl c1  \" ><span class=\"nd\">group</span></div> <div class=\"children row  rtl\"><div class=\"contnr c0 trm rtl  \" ><div class=\"lbl c0 trm \" ><a target=\"_blank\" href=\"http://tanzil.net\" title=\"show this passage on Tanzil\"><span class=\"txtu ara\">يَشْعُرُ</span></a></div> <div class='features'><span class=\"sentiment xft\" ><span class=\"f\">sentiment=</span>1</span></div></div><div class=\"contnr c0 trm rtl  \" ><div class=\"lbl c0 trm \" ><span class=\"txtu ara\">ونَ</span></div> </div></div></div></div></div>"
      ],
      "text/plain": [
       "<IPython.core.display.HTML object>"
      ]
     },
     "metadata": {},
     "output_type": "display_data"
    },
    {
     "data": {
      "text/html": [
       "<p><b>result</b> <i>13</i></p>"
      ],
      "text/plain": [
       "<IPython.core.display.HTML object>"
      ]
     },
     "metadata": {},
     "output_type": "display_data"
    },
    {
     "data": {
      "text/html": [
       "<span class=\"section ltr\"><a target=\"_blank\" href=\"/#2:13\" title=\"show this passage on Tanzil\" sec=\"2:13\">2:13</a> </span><div class=\"contnr c3  rtl  \" ><div class=\"lbl c3  \" ><span class=\"nd\">aya</span></div> <div class='features'><span class=\"translation@en xft\" ><span class=\"f\">translation@en=</span>When it is said to them, 'Believe as the people believe', they say, 'Shall we believe, as fools believe?' Truly, they are the foolish ones, but they do not know.</span></div><div class=\"children row wrap rtl\"><div class=\"contnr c1  rtl  \" ><div class=\"lbl c1  \" ><span class=\"nd\">group</span></div> <div class=\"children row  rtl\"><div class=\"contnr c0 trm rtl  hl\" ><div class=\"lbl c0 trm hl\" ><span class=\"txtu ara\">وَ</span></div> </div><div class=\"contnr c0 trm rtl  \" ><div class=\"lbl c0 trm \" ><a target=\"_blank\" href=\"http://tanzil.net\" title=\"show this passage on Tanzil\"><span class=\"txtu ara\">إِذَا </span></a></div> </div></div></div><div class=\"contnr c1  rtl  \" ><div class=\"lbl c1  \" ><span class=\"nd\">group</span></div> <div class=\"children row  rtl\"><div class=\"contnr c0 trm rtl  \" ><div class=\"lbl c0 trm \" ><a target=\"_blank\" href=\"http://tanzil.net\" title=\"show this passage on Tanzil\"><span class=\"txtu ara\">قِيلَ </span></a></div> <div class='features'><span class=\"sentiment xft\" ><span class=\"f\">sentiment=</span></span></div></div></div></div><div class=\"contnr c1  rtl  \" ><div class=\"lbl c1  \" ><span class=\"nd\">group</span></div> <div class=\"children row  rtl\"><div class=\"contnr c0 trm rtl  \" ><div class=\"lbl c0 trm \" ><span class=\"txtu ara\">لَ</span></div> </div><div class=\"contnr c0 trm rtl  \" ><div class=\"lbl c0 trm \" ><span class=\"txtu ara\">هُمْ </span></div> </div></div></div><div class=\"contnr c1  rtl  \" ><div class=\"lbl c1  \" ><span class=\"nd\">group</span></div> <div class=\"children row  rtl\"><div class=\"contnr c0 trm rtl  \" ><div class=\"lbl c0 trm \" ><a target=\"_blank\" href=\"http://tanzil.net\" title=\"show this passage on Tanzil\"><span class=\"txtu ara\">ءَامِنُ</span></a></div> <div class='features'><span class=\"sentiment xft\" ><span class=\"f\">sentiment=</span>3</span></div></div><div class=\"contnr c0 trm rtl  \" ><div class=\"lbl c0 trm \" ><span class=\"txtu ara\">وا۟ </span></div> </div></div></div><div class=\"contnr c1  rtl  \" ><div class=\"lbl c1  \" ><span class=\"nd\">group</span></div> <div class=\"children row  rtl\"><div class=\"contnr c0 trm rtl  \" ><div class=\"lbl c0 trm \" ><span class=\"txtu ara\">كَ</span></div> </div><div class=\"contnr c0 trm rtl  \" ><div class=\"lbl c0 trm \" ><a target=\"_blank\" href=\"http://tanzil.net\" title=\"show this passage on Tanzil\"><span class=\"txtu ara\">مَآ </span></a></div> </div></div></div><div class=\"contnr c1  rtl  \" ><div class=\"lbl c1  \" ><span class=\"nd\">group</span></div> <div class=\"children row  rtl\"><div class=\"contnr c0 trm rtl  \" ><div class=\"lbl c0 trm \" ><a target=\"_blank\" href=\"http://tanzil.net\" title=\"show this passage on Tanzil\"><span class=\"txtu ara\">ءَامَنَ </span></a></div> <div class='features'><span class=\"sentiment xft\" ><span class=\"f\">sentiment=</span>3</span></div></div></div></div><div class=\"contnr c1  rtl  \" ><div class=\"lbl c1  \" ><span class=\"nd\">group</span></div> <div class=\"children row  rtl\"><div class=\"contnr c0 trm rtl  \" ><div class=\"lbl c0 trm \" ><span class=\"txtu ara\">ٱل</span></div> </div><div class=\"contnr c0 trm rtl  \" ><div class=\"lbl c0 trm \" ><a target=\"_blank\" href=\"http://tanzil.net\" title=\"show this passage on Tanzil\"><span class=\"txtu ara\">نَّاسُ </span></a></div> <div class='features'><span class=\"sentiment xft\" ><span class=\"f\">sentiment=</span>1</span></div></div></div></div><div class=\"contnr c1  rtl  \" ><div class=\"lbl c1  \" ><span class=\"nd\">group</span></div> <div class=\"children row  rtl\"><div class=\"contnr c0 trm rtl  \" ><div class=\"lbl c0 trm \" ><a target=\"_blank\" href=\"http://tanzil.net\" title=\"show this passage on Tanzil\"><span class=\"txtu ara\">قَالُ</span></a></div> <div class='features'><span class=\"sentiment xft\" ><span class=\"f\">sentiment=</span></span></div></div><div class=\"contnr c0 trm rtl  \" ><div class=\"lbl c0 trm \" ><span class=\"txtu ara\">وٓا۟ </span></div> </div></div></div><div class=\"contnr c1  rtl  \" ><div class=\"lbl c1  \" ><span class=\"nd\">group</span></div> <div class=\"children row  rtl\"><div class=\"contnr c0 trm rtl  \" ><div class=\"lbl c0 trm \" ><span class=\"txtu ara\">أَ</span></div> </div><div class=\"contnr c0 trm rtl  \" ><div class=\"lbl c0 trm \" ><a target=\"_blank\" href=\"http://tanzil.net\" title=\"show this passage on Tanzil\"><span class=\"txtu ara\">نُؤْمِنُ </span></a></div> <div class='features'><span class=\"sentiment xft\" ><span class=\"f\">sentiment=</span>3</span></div></div></div></div><div class=\"contnr c1  rtl  \" ><div class=\"lbl c1  \" ><span class=\"nd\">group</span></div> <div class=\"children row  rtl\"><div class=\"contnr c0 trm rtl  \" ><div class=\"lbl c0 trm \" ><span class=\"txtu ara\">كَ</span></div> </div><div class=\"contnr c0 trm rtl  \" ><div class=\"lbl c0 trm \" ><a target=\"_blank\" href=\"http://tanzil.net\" title=\"show this passage on Tanzil\"><span class=\"txtu ara\">مَآ </span></a></div> </div></div></div><div class=\"contnr c1  rtl  \" ><div class=\"lbl c1  \" ><span class=\"nd\">group</span></div> <div class=\"children row  rtl\"><div class=\"contnr c0 trm rtl  \" ><div class=\"lbl c0 trm \" ><a target=\"_blank\" href=\"http://tanzil.net\" title=\"show this passage on Tanzil\"><span class=\"txtu ara\">ءَامَنَ </span></a></div> <div class='features'><span class=\"sentiment xft\" ><span class=\"f\">sentiment=</span>3</span></div></div></div></div><div class=\"contnr c1  rtl  \" ><div class=\"lbl c1  \" ><span class=\"nd\">group</span></div> <div class=\"children row  rtl\"><div class=\"contnr c0 trm rtl  \" ><div class=\"lbl c0 trm \" ><span class=\"txtu ara\">ٱل</span></div> </div><div class=\"contnr c0 trm rtl  \" ><div class=\"lbl c0 trm \" ><a target=\"_blank\" href=\"http://tanzil.net\" title=\"show this passage on Tanzil\"><span class=\"txtu ara\">سُّفَهَآءُ </span></a></div> <div class='features'><span class=\"sentiment xft\" ><span class=\"f\">sentiment=</span></span></div></div></div></div><div class=\"contnr c1  rtl  \" ><div class=\"lbl c1  \" ><span class=\"nd\">group</span></div> <div class=\"children row  rtl\"><div class=\"contnr c0 trm rtl  \" ><div class=\"lbl c0 trm \" ><a target=\"_blank\" href=\"http://tanzil.net\" title=\"show this passage on Tanzil\"><span class=\"txtu ara\">أَلَآ </span></a></div> </div></div></div><div class=\"contnr c1  rtl  \" ><div class=\"lbl c1  \" ><span class=\"nd\">group</span></div> <div class=\"children row  rtl\"><div class=\"contnr c0 trm rtl  \" ><div class=\"lbl c0 trm \" ><a target=\"_blank\" href=\"http://tanzil.net\" title=\"show this passage on Tanzil\"><span class=\"txtu ara\">إِنَّ</span></a></div> </div><div class=\"contnr c0 trm rtl  \" ><div class=\"lbl c0 trm \" ><span class=\"txtu ara\">هُمْ </span></div> </div></div></div><div class=\"contnr c1  rtl  \" ><div class=\"lbl c1  \" ><span class=\"nd\">group</span></div> <div class=\"children row  rtl\"><div class=\"contnr c0 trm rtl  \" ><div class=\"lbl c0 trm \" ><span class=\"txtu ara\">هُمُ </span></div> </div></div></div><div class=\"contnr c1  rtl  \" ><div class=\"lbl c1  \" ><span class=\"nd\">group</span></div> <div class=\"children row  rtl\"><div class=\"contnr c0 trm rtl  \" ><div class=\"lbl c0 trm \" ><span class=\"txtu ara\">ٱل</span></div> </div><div class=\"contnr c0 trm rtl  \" ><div class=\"lbl c0 trm \" ><a target=\"_blank\" href=\"http://tanzil.net\" title=\"show this passage on Tanzil\"><span class=\"txtu ara\">سُّفَهَآءُ </span></a></div> <div class='features'><span class=\"sentiment xft\" ><span class=\"f\">sentiment=</span></span></div></div></div></div><div class=\"contnr c1  rtl  \" ><div class=\"lbl c1  \" ><span class=\"nd\">group</span></div> <div class=\"children row  rtl\"><div class=\"contnr c0 trm rtl  \" ><div class=\"lbl c0 trm \" ><span class=\"txtu ara\">وَ</span></div> </div><div class=\"contnr c0 trm rtl  \" ><div class=\"lbl c0 trm \" ><a target=\"_blank\" href=\"http://tanzil.net\" title=\"show this passage on Tanzil\"><span class=\"txtu ara\">لَٰكِن </span></a></div> </div></div></div><div class=\"contnr c1  rtl  \" ><div class=\"lbl c1  \" ><span class=\"nd\">group</span></div> <div class=\"children row  rtl\"><div class=\"contnr c0 trm rtl  \" ><div class=\"lbl c0 trm \" ><a target=\"_blank\" href=\"http://tanzil.net\" title=\"show this passage on Tanzil\"><span class=\"txtu ara\">لَّا </span></a></div> </div></div></div><div class=\"contnr c1  rtl  \" ><div class=\"lbl c1  \" ><span class=\"nd\">group</span></div> <div class=\"children row  rtl\"><div class=\"contnr c0 trm rtl  \" ><div class=\"lbl c0 trm \" ><a target=\"_blank\" href=\"http://tanzil.net\" title=\"show this passage on Tanzil\"><span class=\"txtu ara\">يَعْلَمُ</span></a></div> <div class='features'><span class=\"sentiment xft\" ><span class=\"f\">sentiment=</span>1</span></div></div><div class=\"contnr c0 trm rtl  \" ><div class=\"lbl c0 trm \" ><span class=\"txtu ara\">ونَ</span></div> </div></div></div></div></div>"
      ],
      "text/plain": [
       "<IPython.core.display.HTML object>"
      ]
     },
     "metadata": {},
     "output_type": "display_data"
    },
    {
     "data": {
      "text/html": [
       "<p><b>result</b> <i>14</i></p>"
      ],
      "text/plain": [
       "<IPython.core.display.HTML object>"
      ]
     },
     "metadata": {},
     "output_type": "display_data"
    },
    {
     "data": {
      "text/html": [
       "<span class=\"section ltr\"><a target=\"_blank\" href=\"/#2:14\" title=\"show this passage on Tanzil\" sec=\"2:14\">2:14</a> </span><div class=\"contnr c3  rtl  \" ><div class=\"lbl c3  \" ><span class=\"nd\">aya</span></div> <div class='features'><span class=\"translation@en xft\" ><span class=\"f\">translation@en=</span>When they meet those who believe, they say, 'We believe'; but when they go privily to their Satans, they say, 'We are with you; we were only mocking.'</span></div><div class=\"children row wrap rtl\"><div class=\"contnr c1  rtl  \" ><div class=\"lbl c1  \" ><span class=\"nd\">group</span></div> <div class=\"children row  rtl\"><div class=\"contnr c0 trm rtl  hl\" ><div class=\"lbl c0 trm hl\" ><span class=\"txtu ara\">وَ</span></div> </div><div class=\"contnr c0 trm rtl  \" ><div class=\"lbl c0 trm \" ><a target=\"_blank\" href=\"http://tanzil.net\" title=\"show this passage on Tanzil\"><span class=\"txtu ara\">إِذَا </span></a></div> </div></div></div><div class=\"contnr c1  rtl  \" ><div class=\"lbl c1  \" ><span class=\"nd\">group</span></div> <div class=\"children row  rtl\"><div class=\"contnr c0 trm rtl  \" ><div class=\"lbl c0 trm \" ><a target=\"_blank\" href=\"http://tanzil.net\" title=\"show this passage on Tanzil\"><span class=\"txtu ara\">لَقُ</span></a></div> </div><div class=\"contnr c0 trm rtl  \" ><div class=\"lbl c0 trm \" ><span class=\"txtu ara\">وا۟ </span></div> </div></div></div><div class=\"contnr c1  rtl  \" ><div class=\"lbl c1  \" ><span class=\"nd\">group</span></div> <div class=\"children row  rtl\"><div class=\"contnr c0 trm rtl  \" ><div class=\"lbl c0 trm \" ><a target=\"_blank\" href=\"http://tanzil.net\" title=\"show this passage on Tanzil\"><span class=\"txtu ara\">ٱلَّذِينَ </span></a></div> </div></div></div><div class=\"contnr c1  rtl  \" ><div class=\"lbl c1  \" ><span class=\"nd\">group</span></div> <div class=\"children row  rtl\"><div class=\"contnr c0 trm rtl  \" ><div class=\"lbl c0 trm \" ><a target=\"_blank\" href=\"http://tanzil.net\" title=\"show this passage on Tanzil\"><span class=\"txtu ara\">ءَامَنُ</span></a></div> <div class='features'><span class=\"sentiment xft\" ><span class=\"f\">sentiment=</span>3</span></div></div><div class=\"contnr c0 trm rtl  \" ><div class=\"lbl c0 trm \" ><span class=\"txtu ara\">وا۟ </span></div> </div></div></div><div class=\"contnr c1  rtl  \" ><div class=\"lbl c1  \" ><span class=\"nd\">group</span></div> <div class=\"children row  rtl\"><div class=\"contnr c0 trm rtl  \" ><div class=\"lbl c0 trm \" ><a target=\"_blank\" href=\"http://tanzil.net\" title=\"show this passage on Tanzil\"><span class=\"txtu ara\">قَالُ</span></a></div> <div class='features'><span class=\"sentiment xft\" ><span class=\"f\">sentiment=</span></span></div></div><div class=\"contnr c0 trm rtl  \" ><div class=\"lbl c0 trm \" ><span class=\"txtu ara\">وٓا۟ </span></div> </div></div></div><div class=\"contnr c1  rtl  \" ><div class=\"lbl c1  \" ><span class=\"nd\">group</span></div> <div class=\"children row  rtl\"><div class=\"contnr c0 trm rtl  \" ><div class=\"lbl c0 trm \" ><a target=\"_blank\" href=\"http://tanzil.net\" title=\"show this passage on Tanzil\"><span class=\"txtu ara\">ءَامَ</span></a></div> <div class='features'><span class=\"sentiment xft\" ><span class=\"f\">sentiment=</span>3</span></div></div><div class=\"contnr c0 trm rtl  \" ><div class=\"lbl c0 trm \" ><span class=\"txtu ara\">نَّا </span></div> </div></div></div><div class=\"contnr c1  rtl  \" ><div class=\"lbl c1  \" ><span class=\"nd\">group</span></div> <div class=\"children row  rtl\"><div class=\"contnr c0 trm rtl  \" ><div class=\"lbl c0 trm \" ><span class=\"txtu ara\">وَ</span></div> </div><div class=\"contnr c0 trm rtl  \" ><div class=\"lbl c0 trm \" ><a target=\"_blank\" href=\"http://tanzil.net\" title=\"show this passage on Tanzil\"><span class=\"txtu ara\">إِذَا </span></a></div> </div></div></div><div class=\"contnr c1  rtl  \" ><div class=\"lbl c1  \" ><span class=\"nd\">group</span></div> <div class=\"children row  rtl\"><div class=\"contnr c0 trm rtl  \" ><div class=\"lbl c0 trm \" ><a target=\"_blank\" href=\"http://tanzil.net\" title=\"show this passage on Tanzil\"><span class=\"txtu ara\">خَلَ</span></a></div> <div class='features'><span class=\"sentiment xft\" ><span class=\"f\">sentiment=</span>-1</span></div></div><div class=\"contnr c0 trm rtl  \" ><div class=\"lbl c0 trm \" ><span class=\"txtu ara\">وْا۟ </span></div> </div></div></div><div class=\"contnr c1  rtl  \" ><div class=\"lbl c1  \" ><span class=\"nd\">group</span></div> <div class=\"children row  rtl\"><div class=\"contnr c0 trm rtl  \" ><div class=\"lbl c0 trm \" ><a target=\"_blank\" href=\"http://tanzil.net\" title=\"show this passage on Tanzil\"><span class=\"txtu ara\">إِلَىٰ </span></a></div> </div></div></div><div class=\"contnr c1  rtl  \" ><div class=\"lbl c1  \" ><span class=\"nd\">group</span></div> <div class=\"children row  rtl\"><div class=\"contnr c0 trm rtl  \" ><div class=\"lbl c0 trm \" ><a target=\"_blank\" href=\"http://tanzil.net\" title=\"show this passage on Tanzil\"><span class=\"txtu ara\">شَيَٰطِينِ</span></a></div> <div class='features'><span class=\"sentiment xft\" ><span class=\"f\">sentiment=</span>-2</span></div></div><div class=\"contnr c0 trm rtl  \" ><div class=\"lbl c0 trm \" ><span class=\"txtu ara\">هِمْ </span></div> </div></div></div><div class=\"contnr c1  rtl  \" ><div class=\"lbl c1  \" ><span class=\"nd\">group</span></div> <div class=\"children row  rtl\"><div class=\"contnr c0 trm rtl  \" ><div class=\"lbl c0 trm \" ><a target=\"_blank\" href=\"http://tanzil.net\" title=\"show this passage on Tanzil\"><span class=\"txtu ara\">قَالُ</span></a></div> <div class='features'><span class=\"sentiment xft\" ><span class=\"f\">sentiment=</span></span></div></div><div class=\"contnr c0 trm rtl  \" ><div class=\"lbl c0 trm \" ><span class=\"txtu ara\">وٓا۟ </span></div> </div></div></div><div class=\"contnr c1  rtl  \" ><div class=\"lbl c1  \" ><span class=\"nd\">group</span></div> <div class=\"children row  rtl\"><div class=\"contnr c0 trm rtl  \" ><div class=\"lbl c0 trm \" ><a target=\"_blank\" href=\"http://tanzil.net\" title=\"show this passage on Tanzil\"><span class=\"txtu ara\">إِنَّ</span></a></div> </div><div class=\"contnr c0 trm rtl  \" ><div class=\"lbl c0 trm \" ><span class=\"txtu ara\">ا </span></div> </div></div></div><div class=\"contnr c1  rtl  \" ><div class=\"lbl c1  \" ><span class=\"nd\">group</span></div> <div class=\"children row  rtl\"><div class=\"contnr c0 trm rtl  \" ><div class=\"lbl c0 trm \" ><a target=\"_blank\" href=\"http://tanzil.net\" title=\"show this passage on Tanzil\"><span class=\"txtu ara\">مَعَ</span></a></div> </div><div class=\"contnr c0 trm rtl  \" ><div class=\"lbl c0 trm \" ><span class=\"txtu ara\">كُمْ </span></div> </div></div></div><div class=\"contnr c1  rtl  \" ><div class=\"lbl c1  \" ><span class=\"nd\">group</span></div> <div class=\"children row  rtl\"><div class=\"contnr c0 trm rtl  \" ><div class=\"lbl c0 trm \" ><a target=\"_blank\" href=\"http://tanzil.net\" title=\"show this passage on Tanzil\"><span class=\"txtu ara\">إِنَّ</span></a></div> </div><div class=\"contnr c0 trm rtl  \" ><div class=\"lbl c0 trm \" ><a target=\"_blank\" href=\"http://tanzil.net\" title=\"show this passage on Tanzil\"><span class=\"txtu ara\">مَا </span></a></div> </div></div></div><div class=\"contnr c1  rtl  \" ><div class=\"lbl c1  \" ><span class=\"nd\">group</span></div> <div class=\"children row  rtl\"><div class=\"contnr c0 trm rtl  \" ><div class=\"lbl c0 trm \" ><span class=\"txtu ara\">نَحْنُ </span></div> </div></div></div><div class=\"contnr c1  rtl  \" ><div class=\"lbl c1  \" ><span class=\"nd\">group</span></div> <div class=\"children row  rtl\"><div class=\"contnr c0 trm rtl  \" ><div class=\"lbl c0 trm \" ><a target=\"_blank\" href=\"http://tanzil.net\" title=\"show this passage on Tanzil\"><span class=\"txtu ara\">مُسْتَهْزِءُونَ</span></a></div> </div></div></div></div></div>"
      ],
      "text/plain": [
       "<IPython.core.display.HTML object>"
      ]
     },
     "metadata": {},
     "output_type": "display_data"
    },
    {
     "data": {
      "text/html": [
       "<p><b>result</b> <i>15</i></p>"
      ],
      "text/plain": [
       "<IPython.core.display.HTML object>"
      ]
     },
     "metadata": {},
     "output_type": "display_data"
    },
    {
     "data": {
      "text/html": [
       "<span class=\"section ltr\"><a target=\"_blank\" href=\"/#2:15\" title=\"show this passage on Tanzil\" sec=\"2:15\">2:15</a> </span><div class=\"contnr c3  rtl  \" ><div class=\"lbl c3  \" ><span class=\"nd\">aya</span></div> <div class='features'><span class=\"translation@en xft\" ><span class=\"f\">translation@en=</span>God shall mock them, and shall lead them on blindly wandering in their insolence.</span></div><div class=\"children row wrap rtl\"><div class=\"contnr c1  rtl  \" ><div class=\"lbl c1  \" ><span class=\"nd\">group</span></div> <div class=\"children row  rtl\"><div class=\"contnr c0 trm rtl  hl\" ><div class=\"lbl c0 trm hl\" ><a target=\"_blank\" href=\"http://tanzil.net\" title=\"show this passage on Tanzil\"><span class=\"txtu ara\">ٱللَّهُ </span></a></div> <div class='features'><span class=\"sentiment xft\" ><span class=\"f\">sentiment=</span>-21</span></div></div></div></div><div class=\"contnr c1  rtl  \" ><div class=\"lbl c1  \" ><span class=\"nd\">group</span></div> <div class=\"children row  rtl\"><div class=\"contnr c0 trm rtl  \" ><div class=\"lbl c0 trm \" ><a target=\"_blank\" href=\"http://tanzil.net\" title=\"show this passage on Tanzil\"><span class=\"txtu ara\">يَسْتَهْزِئُ </span></a></div> </div></div></div><div class=\"contnr c1  rtl  \" ><div class=\"lbl c1  \" ><span class=\"nd\">group</span></div> <div class=\"children row  rtl\"><div class=\"contnr c0 trm rtl  \" ><div class=\"lbl c0 trm \" ><span class=\"txtu ara\">بِ</span></div> </div><div class=\"contnr c0 trm rtl  \" ><div class=\"lbl c0 trm \" ><span class=\"txtu ara\">هِمْ </span></div> </div></div></div><div class=\"contnr c1  rtl  \" ><div class=\"lbl c1  \" ><span class=\"nd\">group</span></div> <div class=\"children row  rtl\"><div class=\"contnr c0 trm rtl  \" ><div class=\"lbl c0 trm \" ><span class=\"txtu ara\">وَ</span></div> </div><div class=\"contnr c0 trm rtl  \" ><div class=\"lbl c0 trm \" ><a target=\"_blank\" href=\"http://tanzil.net\" title=\"show this passage on Tanzil\"><span class=\"txtu ara\">يَمُدُّ</span></a></div> </div><div class=\"contnr c0 trm rtl  \" ><div class=\"lbl c0 trm \" ><span class=\"txtu ara\">هُمْ </span></div> </div></div></div><div class=\"contnr c1  rtl  \" ><div class=\"lbl c1  \" ><span class=\"nd\">group</span></div> <div class=\"children row  rtl\"><div class=\"contnr c0 trm rtl  \" ><div class=\"lbl c0 trm \" ><a target=\"_blank\" href=\"http://tanzil.net\" title=\"show this passage on Tanzil\"><span class=\"txtu ara\">فِى </span></a></div> </div></div></div><div class=\"contnr c1  rtl  \" ><div class=\"lbl c1  \" ><span class=\"nd\">group</span></div> <div class=\"children row  rtl\"><div class=\"contnr c0 trm rtl  \" ><div class=\"lbl c0 trm \" ><a target=\"_blank\" href=\"http://tanzil.net\" title=\"show this passage on Tanzil\"><span class=\"txtu ara\">طُغْيَٰنِ</span></a></div> </div><div class=\"contnr c0 trm rtl  \" ><div class=\"lbl c0 trm \" ><span class=\"txtu ara\">هِمْ </span></div> </div></div></div><div class=\"contnr c1  rtl  \" ><div class=\"lbl c1  \" ><span class=\"nd\">group</span></div> <div class=\"children row  rtl\"><div class=\"contnr c0 trm rtl  \" ><div class=\"lbl c0 trm \" ><a target=\"_blank\" href=\"http://tanzil.net\" title=\"show this passage on Tanzil\"><span class=\"txtu ara\">يَعْمَهُ</span></a></div> </div><div class=\"contnr c0 trm rtl  \" ><div class=\"lbl c0 trm \" ><span class=\"txtu ara\">ونَ</span></div> </div></div></div></div></div>"
      ],
      "text/plain": [
       "<IPython.core.display.HTML object>"
      ]
     },
     "metadata": {},
     "output_type": "display_data"
    },
    {
     "data": {
      "text/html": [
       "<p><b>result</b> <i>16</i></p>"
      ],
      "text/plain": [
       "<IPython.core.display.HTML object>"
      ]
     },
     "metadata": {},
     "output_type": "display_data"
    },
    {
     "data": {
      "text/html": [
       "<span class=\"section ltr\"><a target=\"_blank\" href=\"/#2:16\" title=\"show this passage on Tanzil\" sec=\"2:16\">2:16</a> </span><div class=\"contnr c3  rtl  \" ><div class=\"lbl c3  \" ><span class=\"nd\">aya</span></div> <div class='features'><span class=\"translation@en xft\" ><span class=\"f\">translation@en=</span>Those are they that have bought error at the price of guidance, and their commerce has not profited them, and they are not right-guided.</span></div><div class=\"children row wrap rtl\"><div class=\"contnr c1  rtl  \" ><div class=\"lbl c1  \" ><span class=\"nd\">group</span></div> <div class=\"children row  rtl\"><div class=\"contnr c0 trm rtl  hl\" ><div class=\"lbl c0 trm hl\" ><a target=\"_blank\" href=\"http://tanzil.net\" title=\"show this passage on Tanzil\"><span class=\"txtu ara\">أُو۟لَٰٓئِكَ </span></a></div> </div></div></div><div class=\"contnr c1  rtl  \" ><div class=\"lbl c1  \" ><span class=\"nd\">group</span></div> <div class=\"children row  rtl\"><div class=\"contnr c0 trm rtl  \" ><div class=\"lbl c0 trm \" ><a target=\"_blank\" href=\"http://tanzil.net\" title=\"show this passage on Tanzil\"><span class=\"txtu ara\">ٱلَّذِينَ </span></a></div> </div></div></div><div class=\"contnr c1  rtl  \" ><div class=\"lbl c1  \" ><span class=\"nd\">group</span></div> <div class=\"children row  rtl\"><div class=\"contnr c0 trm rtl  \" ><div class=\"lbl c0 trm \" ><a target=\"_blank\" href=\"http://tanzil.net\" title=\"show this passage on Tanzil\"><span class=\"txtu ara\">ٱشْتَرَ</span></a></div> <div class='features'><span class=\"sentiment xft\" ><span class=\"f\">sentiment=</span>-1</span></div></div><div class=\"contnr c0 trm rtl  \" ><div class=\"lbl c0 trm \" ><span class=\"txtu ara\">وُا۟ </span></div> </div></div></div><div class=\"contnr c1  rtl  \" ><div class=\"lbl c1  \" ><span class=\"nd\">group</span></div> <div class=\"children row  rtl\"><div class=\"contnr c0 trm rtl  \" ><div class=\"lbl c0 trm \" ><span class=\"txtu ara\">ٱل</span></div> </div><div class=\"contnr c0 trm rtl  \" ><div class=\"lbl c0 trm \" ><a target=\"_blank\" href=\"http://tanzil.net\" title=\"show this passage on Tanzil\"><span class=\"txtu ara\">ضَّلَٰلَةَ </span></a></div> <div class='features'><span class=\"sentiment xft\" ><span class=\"f\">sentiment=</span>-1</span></div></div></div></div><div class=\"contnr c1  rtl  \" ><div class=\"lbl c1  \" ><span class=\"nd\">group</span></div> <div class=\"children row  rtl\"><div class=\"contnr c0 trm rtl  \" ><div class=\"lbl c0 trm \" ><span class=\"txtu ara\">بِ</span></div> </div><div class=\"contnr c0 trm rtl  \" ><div class=\"lbl c0 trm \" ><span class=\"txtu ara\">ٱلْ</span></div> </div><div class=\"contnr c0 trm rtl  \" ><div class=\"lbl c0 trm \" ><a target=\"_blank\" href=\"http://tanzil.net\" title=\"show this passage on Tanzil\"><span class=\"txtu ara\">هُدَىٰ </span></a></div> <div class='features'><span class=\"sentiment xft\" ><span class=\"f\">sentiment=</span>-2</span></div></div></div></div><div class=\"contnr c1  rtl  \" ><div class=\"lbl c1  \" ><span class=\"nd\">group</span></div> <div class=\"children row  rtl\"><div class=\"contnr c0 trm rtl  \" ><div class=\"lbl c0 trm \" ><span class=\"txtu ara\">فَ</span></div> </div><div class=\"contnr c0 trm rtl  \" ><div class=\"lbl c0 trm \" ><a target=\"_blank\" href=\"http://tanzil.net\" title=\"show this passage on Tanzil\"><span class=\"txtu ara\">مَا </span></a></div> </div></div></div><div class=\"contnr c1  rtl  \" ><div class=\"lbl c1  \" ><span class=\"nd\">group</span></div> <div class=\"children row  rtl\"><div class=\"contnr c0 trm rtl  \" ><div class=\"lbl c0 trm \" ><a target=\"_blank\" href=\"http://tanzil.net\" title=\"show this passage on Tanzil\"><span class=\"txtu ara\">رَبِحَت </span></a></div> </div></div></div><div class=\"contnr c1  rtl  \" ><div class=\"lbl c1  \" ><span class=\"nd\">group</span></div> <div class=\"children row  rtl\"><div class=\"contnr c0 trm rtl  \" ><div class=\"lbl c0 trm \" ><a target=\"_blank\" href=\"http://tanzil.net\" title=\"show this passage on Tanzil\"><span class=\"txtu ara\">تِّجَٰرَتُ</span></a></div> <div class='features'><span class=\"sentiment xft\" ><span class=\"f\">sentiment=</span>-1</span></div></div><div class=\"contnr c0 trm rtl  \" ><div class=\"lbl c0 trm \" ><span class=\"txtu ara\">هُمْ </span></div> </div></div></div><div class=\"contnr c1  rtl  \" ><div class=\"lbl c1  \" ><span class=\"nd\">group</span></div> <div class=\"children row  rtl\"><div class=\"contnr c0 trm rtl  \" ><div class=\"lbl c0 trm \" ><span class=\"txtu ara\">وَ</span></div> </div><div class=\"contnr c0 trm rtl  \" ><div class=\"lbl c0 trm \" ><a target=\"_blank\" href=\"http://tanzil.net\" title=\"show this passage on Tanzil\"><span class=\"txtu ara\">مَا </span></a></div> </div></div></div><div class=\"contnr c1  rtl  \" ><div class=\"lbl c1  \" ><span class=\"nd\">group</span></div> <div class=\"children row  rtl\"><div class=\"contnr c0 trm rtl  \" ><div class=\"lbl c0 trm \" ><a target=\"_blank\" href=\"http://tanzil.net\" title=\"show this passage on Tanzil\"><span class=\"txtu ara\">كَانُ</span></a></div> <div class='features'><span class=\"sentiment xft\" ><span class=\"f\">sentiment=</span>-1</span></div></div><div class=\"contnr c0 trm rtl  \" ><div class=\"lbl c0 trm \" ><span class=\"txtu ara\">وا۟ </span></div> </div></div></div><div class=\"contnr c1  rtl  \" ><div class=\"lbl c1  \" ><span class=\"nd\">group</span></div> <div class=\"children row  rtl\"><div class=\"contnr c0 trm rtl  \" ><div class=\"lbl c0 trm \" ><a target=\"_blank\" href=\"http://tanzil.net\" title=\"show this passage on Tanzil\"><span class=\"txtu ara\">مُهْتَدِينَ</span></a></div> <div class='features'><span class=\"sentiment xft\" ><span class=\"f\">sentiment=</span></span></div></div></div></div></div></div>"
      ],
      "text/plain": [
       "<IPython.core.display.HTML object>"
      ]
     },
     "metadata": {},
     "output_type": "display_data"
    },
    {
     "data": {
      "text/html": [
       "<p><b>result</b> <i>17</i></p>"
      ],
      "text/plain": [
       "<IPython.core.display.HTML object>"
      ]
     },
     "metadata": {},
     "output_type": "display_data"
    },
    {
     "data": {
      "text/html": [
       "<span class=\"section ltr\"><a target=\"_blank\" href=\"/#2:17\" title=\"show this passage on Tanzil\" sec=\"2:17\">2:17</a> </span><div class=\"contnr c3  rtl  \" ><div class=\"lbl c3  \" ><span class=\"nd\">aya</span></div> <div class='features'><span class=\"translation@en xft\" ><span class=\"f\">translation@en=</span>The likeness of them is as the likeness of a man who kindled a fire, and when it lit all about him God took away their light, and left them in darkness unseeing</span></div><div class=\"children row wrap rtl\"><div class=\"contnr c1  rtl  \" ><div class=\"lbl c1  \" ><span class=\"nd\">group</span></div> <div class=\"children row  rtl\"><div class=\"contnr c0 trm rtl  hl\" ><div class=\"lbl c0 trm hl\" ><a target=\"_blank\" href=\"http://tanzil.net\" title=\"show this passage on Tanzil\"><span class=\"txtu ara\">مَثَلُ</span></a></div> <div class='features'><span class=\"sentiment xft\" ><span class=\"f\">sentiment=</span></span></div></div><div class=\"contnr c0 trm rtl  \" ><div class=\"lbl c0 trm \" ><span class=\"txtu ara\">هُمْ </span></div> </div></div></div><div class=\"contnr c1  rtl  \" ><div class=\"lbl c1  \" ><span class=\"nd\">group</span></div> <div class=\"children row  rtl\"><div class=\"contnr c0 trm rtl  \" ><div class=\"lbl c0 trm \" ><span class=\"txtu ara\">كَ</span></div> </div><div class=\"contnr c0 trm rtl  \" ><div class=\"lbl c0 trm \" ><a target=\"_blank\" href=\"http://tanzil.net\" title=\"show this passage on Tanzil\"><span class=\"txtu ara\">مَثَلِ </span></a></div> <div class='features'><span class=\"sentiment xft\" ><span class=\"f\">sentiment=</span></span></div></div></div></div><div class=\"contnr c1  rtl  \" ><div class=\"lbl c1  \" ><span class=\"nd\">group</span></div> <div class=\"children row  rtl\"><div class=\"contnr c0 trm rtl  \" ><div class=\"lbl c0 trm \" ><a target=\"_blank\" href=\"http://tanzil.net\" title=\"show this passage on Tanzil\"><span class=\"txtu ara\">ٱلَّذِى </span></a></div> </div></div></div><div class=\"contnr c1  rtl  \" ><div class=\"lbl c1  \" ><span class=\"nd\">group</span></div> <div class=\"children row  rtl\"><div class=\"contnr c0 trm rtl  \" ><div class=\"lbl c0 trm \" ><a target=\"_blank\" href=\"http://tanzil.net\" title=\"show this passage on Tanzil\"><span class=\"txtu ara\">ٱسْتَوْقَدَ </span></a></div> </div></div></div><div class=\"contnr c1  rtl  \" ><div class=\"lbl c1  \" ><span class=\"nd\">group</span></div> <div class=\"children row  rtl\"><div class=\"contnr c0 trm rtl  \" ><div class=\"lbl c0 trm \" ><a target=\"_blank\" href=\"http://tanzil.net\" title=\"show this passage on Tanzil\"><span class=\"txtu ara\">نَارًا </span></a></div> <div class='features'><span class=\"sentiment xft\" ><span class=\"f\">sentiment=</span>-2</span></div></div></div></div><div class=\"contnr c1  rtl  \" ><div class=\"lbl c1  \" ><span class=\"nd\">group</span></div> <div class=\"children row  rtl\"><div class=\"contnr c0 trm rtl  \" ><div class=\"lbl c0 trm \" ><span class=\"txtu ara\">فَ</span></div> </div><div class=\"contnr c0 trm rtl  \" ><div class=\"lbl c0 trm \" ><a target=\"_blank\" href=\"http://tanzil.net\" title=\"show this passage on Tanzil\"><span class=\"txtu ara\">لَمَّآ </span></a></div> </div></div></div><div class=\"contnr c1  rtl  \" ><div class=\"lbl c1  \" ><span class=\"nd\">group</span></div> <div class=\"children row  rtl\"><div class=\"contnr c0 trm rtl  \" ><div class=\"lbl c0 trm \" ><a target=\"_blank\" href=\"http://tanzil.net\" title=\"show this passage on Tanzil\"><span class=\"txtu ara\">أَضَآءَتْ </span></a></div> <div class='features'><span class=\"sentiment xft\" ><span class=\"f\">sentiment=</span>-1</span></div></div></div></div><div class=\"contnr c1  rtl  \" ><div class=\"lbl c1  \" ><span class=\"nd\">group</span></div> <div class=\"children row  rtl\"><div class=\"contnr c0 trm rtl  \" ><div class=\"lbl c0 trm \" ><a target=\"_blank\" href=\"http://tanzil.net\" title=\"show this passage on Tanzil\"><span class=\"txtu ara\">مَا </span></a></div> </div></div></div><div class=\"contnr c1  rtl  \" ><div class=\"lbl c1  \" ><span class=\"nd\">group</span></div> <div class=\"children row  rtl\"><div class=\"contnr c0 trm rtl  \" ><div class=\"lbl c0 trm \" ><a target=\"_blank\" href=\"http://tanzil.net\" title=\"show this passage on Tanzil\"><span class=\"txtu ara\">حَوْلَ</span></a></div> </div><div class=\"contnr c0 trm rtl  \" ><div class=\"lbl c0 trm \" ><span class=\"txtu ara\">هُۥ </span></div> </div></div></div><div class=\"contnr c1  rtl  \" ><div class=\"lbl c1  \" ><span class=\"nd\">group</span></div> <div class=\"children row  rtl\"><div class=\"contnr c0 trm rtl  \" ><div class=\"lbl c0 trm \" ><a target=\"_blank\" href=\"http://tanzil.net\" title=\"show this passage on Tanzil\"><span class=\"txtu ara\">ذَهَبَ </span></a></div> <div class='features'><span class=\"sentiment xft\" ><span class=\"f\">sentiment=</span>-1</span></div></div></div></div><div class=\"contnr c1  rtl  \" ><div class=\"lbl c1  \" ><span class=\"nd\">group</span></div> <div class=\"children row  rtl\"><div class=\"contnr c0 trm rtl  \" ><div class=\"lbl c0 trm \" ><a target=\"_blank\" href=\"http://tanzil.net\" title=\"show this passage on Tanzil\"><span class=\"txtu ara\">ٱللَّهُ </span></a></div> <div class='features'><span class=\"sentiment xft\" ><span class=\"f\">sentiment=</span>-21</span></div></div></div></div><div class=\"contnr c1  rtl  \" ><div class=\"lbl c1  \" ><span class=\"nd\">group</span></div> <div class=\"children row  rtl\"><div class=\"contnr c0 trm rtl  \" ><div class=\"lbl c0 trm \" ><span class=\"txtu ara\">بِ</span></div> </div><div class=\"contnr c0 trm rtl  \" ><div class=\"lbl c0 trm \" ><a target=\"_blank\" href=\"http://tanzil.net\" title=\"show this passage on Tanzil\"><span class=\"txtu ara\">نُورِ</span></a></div> </div><div class=\"contnr c0 trm rtl  \" ><div class=\"lbl c0 trm \" ><span class=\"txtu ara\">هِمْ </span></div> </div></div></div><div class=\"contnr c1  rtl  \" ><div class=\"lbl c1  \" ><span class=\"nd\">group</span></div> <div class=\"children row  rtl\"><div class=\"contnr c0 trm rtl  \" ><div class=\"lbl c0 trm \" ><span class=\"txtu ara\">وَ</span></div> </div><div class=\"contnr c0 trm rtl  \" ><div class=\"lbl c0 trm \" ><a target=\"_blank\" href=\"http://tanzil.net\" title=\"show this passage on Tanzil\"><span class=\"txtu ara\">تَرَكَ</span></a></div> <div class='features'><span class=\"sentiment xft\" ><span class=\"f\">sentiment=</span>1</span></div></div><div class=\"contnr c0 trm rtl  \" ><div class=\"lbl c0 trm \" ><span class=\"txtu ara\">هُمْ </span></div> </div></div></div><div class=\"contnr c1  rtl  \" ><div class=\"lbl c1  \" ><span class=\"nd\">group</span></div> <div class=\"children row  rtl\"><div class=\"contnr c0 trm rtl  \" ><div class=\"lbl c0 trm \" ><a target=\"_blank\" href=\"http://tanzil.net\" title=\"show this passage on Tanzil\"><span class=\"txtu ara\">فِى </span></a></div> </div></div></div><div class=\"contnr c1  rtl  \" ><div class=\"lbl c1  \" ><span class=\"nd\">group</span></div> <div class=\"children row  rtl\"><div class=\"contnr c0 trm rtl  \" ><div class=\"lbl c0 trm \" ><a target=\"_blank\" href=\"http://tanzil.net\" title=\"show this passage on Tanzil\"><span class=\"txtu ara\">ظُلُمَٰتٍ </span></a></div> <div class='features'><span class=\"sentiment xft\" ><span class=\"f\">sentiment=</span>-1</span></div></div></div></div><div class=\"contnr c1  rtl  \" ><div class=\"lbl c1  \" ><span class=\"nd\">group</span></div> <div class=\"children row  rtl\"><div class=\"contnr c0 trm rtl  \" ><div class=\"lbl c0 trm \" ><a target=\"_blank\" href=\"http://tanzil.net\" title=\"show this passage on Tanzil\"><span class=\"txtu ara\">لَّا </span></a></div> </div></div></div><div class=\"contnr c1  rtl  \" ><div class=\"lbl c1  \" ><span class=\"nd\">group</span></div> <div class=\"children row  rtl\"><div class=\"contnr c0 trm rtl  \" ><div class=\"lbl c0 trm \" ><a target=\"_blank\" href=\"http://tanzil.net\" title=\"show this passage on Tanzil\"><span class=\"txtu ara\">يُبْصِرُ</span></a></div> </div><div class=\"contnr c0 trm rtl  \" ><div class=\"lbl c0 trm \" ><span class=\"txtu ara\">ونَ</span></div> </div></div></div></div></div>"
      ],
      "text/plain": [
       "<IPython.core.display.HTML object>"
      ]
     },
     "metadata": {},
     "output_type": "display_data"
    },
    {
     "data": {
      "text/html": [
       "<p><b>result</b> <i>18</i></p>"
      ],
      "text/plain": [
       "<IPython.core.display.HTML object>"
      ]
     },
     "metadata": {},
     "output_type": "display_data"
    },
    {
     "data": {
      "text/html": [
       "<span class=\"section ltr\"><a target=\"_blank\" href=\"/#2:18\" title=\"show this passage on Tanzil\" sec=\"2:18\">2:18</a> </span><div class=\"contnr c3  rtl  \" ><div class=\"lbl c3  \" ><span class=\"nd\">aya</span></div> <div class='features'><span class=\"translation@en xft\" ><span class=\"f\">translation@en=</span>deaf, dumb, blind -- so they shall not return;</span></div><div class=\"children row wrap rtl\"><div class=\"contnr c1  rtl  \" ><div class=\"lbl c1  \" ><span class=\"nd\">group</span></div> <div class=\"children row  rtl\"><div class=\"contnr c0 trm rtl  hl\" ><div class=\"lbl c0 trm hl\" ><a target=\"_blank\" href=\"http://tanzil.net\" title=\"show this passage on Tanzil\"><span class=\"txtu ara\">صُمٌّۢ </span></a></div> <div class='features'><span class=\"sentiment xft\" ><span class=\"f\">sentiment=</span>-1</span></div></div></div></div><div class=\"contnr c1  rtl  \" ><div class=\"lbl c1  \" ><span class=\"nd\">group</span></div> <div class=\"children row  rtl\"><div class=\"contnr c0 trm rtl  \" ><div class=\"lbl c0 trm \" ><a target=\"_blank\" href=\"http://tanzil.net\" title=\"show this passage on Tanzil\"><span class=\"txtu ara\">بُكْمٌ </span></a></div> <div class='features'><span class=\"sentiment xft\" ><span class=\"f\">sentiment=</span>-1</span></div></div></div></div><div class=\"contnr c1  rtl  \" ><div class=\"lbl c1  \" ><span class=\"nd\">group</span></div> <div class=\"children row  rtl\"><div class=\"contnr c0 trm rtl  \" ><div class=\"lbl c0 trm \" ><a target=\"_blank\" href=\"http://tanzil.net\" title=\"show this passage on Tanzil\"><span class=\"txtu ara\">عُمْىٌ </span></a></div> <div class='features'><span class=\"sentiment xft\" ><span class=\"f\">sentiment=</span>-1</span></div></div></div></div><div class=\"contnr c1  rtl  \" ><div class=\"lbl c1  \" ><span class=\"nd\">group</span></div> <div class=\"children row  rtl\"><div class=\"contnr c0 trm rtl  \" ><div class=\"lbl c0 trm \" ><span class=\"txtu ara\">فَ</span></div> </div><div class=\"contnr c0 trm rtl  \" ><div class=\"lbl c0 trm \" ><span class=\"txtu ara\">هُمْ </span></div> </div></div></div><div class=\"contnr c1  rtl  \" ><div class=\"lbl c1  \" ><span class=\"nd\">group</span></div> <div class=\"children row  rtl\"><div class=\"contnr c0 trm rtl  \" ><div class=\"lbl c0 trm \" ><a target=\"_blank\" href=\"http://tanzil.net\" title=\"show this passage on Tanzil\"><span class=\"txtu ara\">لَا </span></a></div> </div></div></div><div class=\"contnr c1  rtl  \" ><div class=\"lbl c1  \" ><span class=\"nd\">group</span></div> <div class=\"children row  rtl\"><div class=\"contnr c0 trm rtl  \" ><div class=\"lbl c0 trm \" ><a target=\"_blank\" href=\"http://tanzil.net\" title=\"show this passage on Tanzil\"><span class=\"txtu ara\">يَرْجِعُ</span></a></div> <div class='features'><span class=\"sentiment xft\" ><span class=\"f\">sentiment=</span>-1</span></div></div><div class=\"contnr c0 trm rtl  \" ><div class=\"lbl c0 trm \" ><span class=\"txtu ara\">ونَ</span></div> </div></div></div></div></div>"
      ],
      "text/plain": [
       "<IPython.core.display.HTML object>"
      ]
     },
     "metadata": {},
     "output_type": "display_data"
    },
    {
     "data": {
      "text/html": [
       "<p><b>result</b> <i>19</i></p>"
      ],
      "text/plain": [
       "<IPython.core.display.HTML object>"
      ]
     },
     "metadata": {},
     "output_type": "display_data"
    },
    {
     "data": {
      "text/html": [
       "<span class=\"section ltr\"><a target=\"_blank\" href=\"/#2:19\" title=\"show this passage on Tanzil\" sec=\"2:19\">2:19</a> </span><div class=\"contnr c3  rtl  \" ><div class=\"lbl c3  \" ><span class=\"nd\">aya</span></div> <div class='features'><span class=\"translation@en xft\" ><span class=\"f\">translation@en=</span>or as a cloudburst out of heaven in which is darkness, and thunder, and lightning -- they put their fingers in their ears against the thunderclaps, fearful of death; and God encompasses the unbelievers;</span></div><div class=\"children row wrap rtl\"><div class=\"contnr c1  rtl  \" ><div class=\"lbl c1  \" ><span class=\"nd\">group</span></div> <div class=\"children row  rtl\"><div class=\"contnr c0 trm rtl  hl\" ><div class=\"lbl c0 trm hl\" ><a target=\"_blank\" href=\"http://tanzil.net\" title=\"show this passage on Tanzil\"><span class=\"txtu ara\">أَوْ </span></a></div> </div></div></div><div class=\"contnr c1  rtl  \" ><div class=\"lbl c1  \" ><span class=\"nd\">group</span></div> <div class=\"children row  rtl\"><div class=\"contnr c0 trm rtl  \" ><div class=\"lbl c0 trm \" ><span class=\"txtu ara\">كَ</span></div> </div><div class=\"contnr c0 trm rtl  \" ><div class=\"lbl c0 trm \" ><a target=\"_blank\" href=\"http://tanzil.net\" title=\"show this passage on Tanzil\"><span class=\"txtu ara\">صَيِّبٍ </span></a></div> <div class='features'><span class=\"sentiment xft\" ><span class=\"f\">sentiment=</span>-1</span></div></div></div></div><div class=\"contnr c1  rtl  \" ><div class=\"lbl c1  \" ><span class=\"nd\">group</span></div> <div class=\"children row  rtl\"><div class=\"contnr c0 trm rtl  \" ><div class=\"lbl c0 trm \" ><a target=\"_blank\" href=\"http://tanzil.net\" title=\"show this passage on Tanzil\"><span class=\"txtu ara\">مِّنَ </span></a></div> </div></div></div><div class=\"contnr c1  rtl  \" ><div class=\"lbl c1  \" ><span class=\"nd\">group</span></div> <div class=\"children row  rtl\"><div class=\"contnr c0 trm rtl  \" ><div class=\"lbl c0 trm \" ><span class=\"txtu ara\">ٱل</span></div> </div><div class=\"contnr c0 trm rtl  \" ><div class=\"lbl c0 trm \" ><a target=\"_blank\" href=\"http://tanzil.net\" title=\"show this passage on Tanzil\"><span class=\"txtu ara\">سَّمَآءِ </span></a></div> <div class='features'><span class=\"sentiment xft\" ><span class=\"f\">sentiment=</span>2</span></div></div></div></div><div class=\"contnr c1  rtl  \" ><div class=\"lbl c1  \" ><span class=\"nd\">group</span></div> <div class=\"children row  rtl\"><div class=\"contnr c0 trm rtl  \" ><div class=\"lbl c0 trm \" ><a target=\"_blank\" href=\"http://tanzil.net\" title=\"show this passage on Tanzil\"><span class=\"txtu ara\">فِي</span></a></div> </div><div class=\"contnr c0 trm rtl  \" ><div class=\"lbl c0 trm \" ><span class=\"txtu ara\">هِ </span></div> </div></div></div><div class=\"contnr c1  rtl  \" ><div class=\"lbl c1  \" ><span class=\"nd\">group</span></div> <div class=\"children row  rtl\"><div class=\"contnr c0 trm rtl  \" ><div class=\"lbl c0 trm \" ><a target=\"_blank\" href=\"http://tanzil.net\" title=\"show this passage on Tanzil\"><span class=\"txtu ara\">ظُلُمَٰتٌ </span></a></div> <div class='features'><span class=\"sentiment xft\" ><span class=\"f\">sentiment=</span>-1</span></div></div></div></div><div class=\"contnr c1  rtl  \" ><div class=\"lbl c1  \" ><span class=\"nd\">group</span></div> <div class=\"children row  rtl\"><div class=\"contnr c0 trm rtl  \" ><div class=\"lbl c0 trm \" ><span class=\"txtu ara\">وَ</span></div> </div><div class=\"contnr c0 trm rtl  \" ><div class=\"lbl c0 trm \" ><a target=\"_blank\" href=\"http://tanzil.net\" title=\"show this passage on Tanzil\"><span class=\"txtu ara\">رَعْدٌ </span></a></div> <div class='features'><span class=\"sentiment xft\" ><span class=\"f\">sentiment=</span>-1</span></div></div></div></div><div class=\"contnr c1  rtl  \" ><div class=\"lbl c1  \" ><span class=\"nd\">group</span></div> <div class=\"children row  rtl\"><div class=\"contnr c0 trm rtl  \" ><div class=\"lbl c0 trm \" ><span class=\"txtu ara\">وَ</span></div> </div><div class=\"contnr c0 trm rtl  \" ><div class=\"lbl c0 trm \" ><a target=\"_blank\" href=\"http://tanzil.net\" title=\"show this passage on Tanzil\"><span class=\"txtu ara\">بَرْقٌ </span></a></div> <div class='features'><span class=\"sentiment xft\" ><span class=\"f\">sentiment=</span>-2</span></div></div></div></div><div class=\"contnr c1  rtl  \" ><div class=\"lbl c1  \" ><span class=\"nd\">group</span></div> <div class=\"children row  rtl\"><div class=\"contnr c0 trm rtl  \" ><div class=\"lbl c0 trm \" ><a target=\"_blank\" href=\"http://tanzil.net\" title=\"show this passage on Tanzil\"><span class=\"txtu ara\">يَجْعَلُ</span></a></div> <div class='features'><span class=\"sentiment xft\" ><span class=\"f\">sentiment=</span>3</span></div></div><div class=\"contnr c0 trm rtl  \" ><div class=\"lbl c0 trm \" ><span class=\"txtu ara\">ونَ </span></div> </div></div></div><div class=\"contnr c1  rtl  \" ><div class=\"lbl c1  \" ><span class=\"nd\">group</span></div> <div class=\"children row  rtl\"><div class=\"contnr c0 trm rtl  \" ><div class=\"lbl c0 trm \" ><a target=\"_blank\" href=\"http://tanzil.net\" title=\"show this passage on Tanzil\"><span class=\"txtu ara\">أَصَٰبِعَ</span></a></div> <div class='features'><span class=\"sentiment xft\" ><span class=\"f\">sentiment=</span>-1</span></div></div><div class=\"contnr c0 trm rtl  \" ><div class=\"lbl c0 trm \" ><span class=\"txtu ara\">هُمْ </span></div> </div></div></div><div class=\"contnr c1  rtl  \" ><div class=\"lbl c1  \" ><span class=\"nd\">group</span></div> <div class=\"children row  rtl\"><div class=\"contnr c0 trm rtl  \" ><div class=\"lbl c0 trm \" ><a target=\"_blank\" href=\"http://tanzil.net\" title=\"show this passage on Tanzil\"><span class=\"txtu ara\">فِىٓ </span></a></div> </div></div></div><div class=\"contnr c1  rtl  \" ><div class=\"lbl c1  \" ><span class=\"nd\">group</span></div> <div class=\"children row  rtl\"><div class=\"contnr c0 trm rtl  \" ><div class=\"lbl c0 trm \" ><a target=\"_blank\" href=\"http://tanzil.net\" title=\"show this passage on Tanzil\"><span class=\"txtu ara\">ءَاذَانِ</span></a></div> <div class='features'><span class=\"sentiment xft\" ><span class=\"f\">sentiment=</span>-1</span></div></div><div class=\"contnr c0 trm rtl  \" ><div class=\"lbl c0 trm \" ><span class=\"txtu ara\">هِم </span></div> </div></div></div><div class=\"contnr c1  rtl  \" ><div class=\"lbl c1  \" ><span class=\"nd\">group</span></div> <div class=\"children row  rtl\"><div class=\"contnr c0 trm rtl  \" ><div class=\"lbl c0 trm \" ><a target=\"_blank\" href=\"http://tanzil.net\" title=\"show this passage on Tanzil\"><span class=\"txtu ara\">مِّنَ </span></a></div> </div></div></div><div class=\"contnr c1  rtl  \" ><div class=\"lbl c1  \" ><span class=\"nd\">group</span></div> <div class=\"children row  rtl\"><div class=\"contnr c0 trm rtl  \" ><div class=\"lbl c0 trm \" ><span class=\"txtu ara\">ٱل</span></div> </div><div class=\"contnr c0 trm rtl  \" ><div class=\"lbl c0 trm \" ><a target=\"_blank\" href=\"http://tanzil.net\" title=\"show this passage on Tanzil\"><span class=\"txtu ara\">صَّوَٰعِقِ </span></a></div> <div class='features'><span class=\"sentiment xft\" ><span class=\"f\">sentiment=</span>-1</span></div></div></div></div><div class=\"contnr c1  rtl  \" ><div class=\"lbl c1  \" ><span class=\"nd\">group</span></div> <div class=\"children row  rtl\"><div class=\"contnr c0 trm rtl  \" ><div class=\"lbl c0 trm \" ><a target=\"_blank\" href=\"http://tanzil.net\" title=\"show this passage on Tanzil\"><span class=\"txtu ara\">حَذَرَ </span></a></div> <div class='features'><span class=\"sentiment xft\" ><span class=\"f\">sentiment=</span>-1</span></div></div></div></div><div class=\"contnr c1  rtl  \" ><div class=\"lbl c1  \" ><span class=\"nd\">group</span></div> <div class=\"children row  rtl\"><div class=\"contnr c0 trm rtl  \" ><div class=\"lbl c0 trm \" ><span class=\"txtu ara\">ٱلْ</span></div> </div><div class=\"contnr c0 trm rtl  \" ><div class=\"lbl c0 trm \" ><a target=\"_blank\" href=\"http://tanzil.net\" title=\"show this passage on Tanzil\"><span class=\"txtu ara\">مَوْتِ </span></a></div> <div class='features'><span class=\"sentiment xft\" ><span class=\"f\">sentiment=</span></span></div></div></div></div><div class=\"contnr c1  rtl  \" ><div class=\"lbl c1  \" ><span class=\"nd\">group</span></div> <div class=\"children row  rtl\"><div class=\"contnr c0 trm rtl  \" ><div class=\"lbl c0 trm \" ><span class=\"txtu ara\">وَ</span></div> </div><div class=\"contnr c0 trm rtl  \" ><div class=\"lbl c0 trm \" ><a target=\"_blank\" href=\"http://tanzil.net\" title=\"show this passage on Tanzil\"><span class=\"txtu ara\">ٱللَّهُ </span></a></div> <div class='features'><span class=\"sentiment xft\" ><span class=\"f\">sentiment=</span>-21</span></div></div></div></div><div class=\"contnr c1  rtl  \" ><div class=\"lbl c1  \" ><span class=\"nd\">group</span></div> <div class=\"children row  rtl\"><div class=\"contnr c0 trm rtl  \" ><div class=\"lbl c0 trm \" ><a target=\"_blank\" href=\"http://tanzil.net\" title=\"show this passage on Tanzil\"><span class=\"txtu ara\">مُحِيطٌۢ </span></a></div> <div class='features'><span class=\"sentiment xft\" ><span class=\"f\">sentiment=</span>-1</span></div></div></div></div><div class=\"contnr c1  rtl  \" ><div class=\"lbl c1  \" ><span class=\"nd\">group</span></div> <div class=\"children row  rtl\"><div class=\"contnr c0 trm rtl  \" ><div class=\"lbl c0 trm \" ><span class=\"txtu ara\">بِ</span></div> </div><div class=\"contnr c0 trm rtl  \" ><div class=\"lbl c0 trm \" ><span class=\"txtu ara\">ٱلْ</span></div> </div><div class=\"contnr c0 trm rtl  \" ><div class=\"lbl c0 trm \" ><a target=\"_blank\" href=\"http://tanzil.net\" title=\"show this passage on Tanzil\"><span class=\"txtu ara\">كَٰفِرِينَ</span></a></div> <div class='features'><span class=\"sentiment xft\" ><span class=\"f\">sentiment=</span>1</span></div></div></div></div></div></div>"
      ],
      "text/plain": [
       "<IPython.core.display.HTML object>"
      ]
     },
     "metadata": {},
     "output_type": "display_data"
    },
    {
     "data": {
      "text/html": [
       "<p><b>result</b> <i>20</i></p>"
      ],
      "text/plain": [
       "<IPython.core.display.HTML object>"
      ]
     },
     "metadata": {},
     "output_type": "display_data"
    },
    {
     "data": {
      "text/html": [
       "<span class=\"section ltr\"><a target=\"_blank\" href=\"/#2:20\" title=\"show this passage on Tanzil\" sec=\"2:20\">2:20</a> </span><div class=\"contnr c3  rtl  \" ><div class=\"lbl c3  \" ><span class=\"nd\">aya</span></div> <div class='features'><span class=\"translation@en xft\" ><span class=\"f\">translation@en=</span>the lightning wellnigh snatches away their sight; whensoever it gives them light, they walk in it, and when the darkness is over them, they halt; had God willed, He would have taken away their hearing and their sight. Truly, God is powerful over everything.</span></div><div class=\"children row wrap rtl\"><div class=\"contnr c1  rtl  \" ><div class=\"lbl c1  \" ><span class=\"nd\">group</span></div> <div class=\"children row  rtl\"><div class=\"contnr c0 trm rtl  hl\" ><div class=\"lbl c0 trm hl\" ><a target=\"_blank\" href=\"http://tanzil.net\" title=\"show this passage on Tanzil\"><span class=\"txtu ara\">يَكَادُ </span></a></div> <div class='features'><span class=\"sentiment xft\" ><span class=\"f\">sentiment=</span>-1</span></div></div></div></div><div class=\"contnr c1  rtl  \" ><div class=\"lbl c1  \" ><span class=\"nd\">group</span></div> <div class=\"children row  rtl\"><div class=\"contnr c0 trm rtl  \" ><div class=\"lbl c0 trm \" ><span class=\"txtu ara\">ٱلْ</span></div> </div><div class=\"contnr c0 trm rtl  \" ><div class=\"lbl c0 trm \" ><a target=\"_blank\" href=\"http://tanzil.net\" title=\"show this passage on Tanzil\"><span class=\"txtu ara\">بَرْقُ </span></a></div> <div class='features'><span class=\"sentiment xft\" ><span class=\"f\">sentiment=</span>-2</span></div></div></div></div><div class=\"contnr c1  rtl  \" ><div class=\"lbl c1  \" ><span class=\"nd\">group</span></div> <div class=\"children row  rtl\"><div class=\"contnr c0 trm rtl  \" ><div class=\"lbl c0 trm \" ><a target=\"_blank\" href=\"http://tanzil.net\" title=\"show this passage on Tanzil\"><span class=\"txtu ara\">يَخْطَفُ </span></a></div> <div class='features'><span class=\"sentiment xft\" ><span class=\"f\">sentiment=</span>-1</span></div></div></div></div><div class=\"contnr c1  rtl  \" ><div class=\"lbl c1  \" ><span class=\"nd\">group</span></div> <div class=\"children row  rtl\"><div class=\"contnr c0 trm rtl  \" ><div class=\"lbl c0 trm \" ><a target=\"_blank\" href=\"http://tanzil.net\" title=\"show this passage on Tanzil\"><span class=\"txtu ara\">أَبْصَٰرَ</span></a></div> <div class='features'><span class=\"sentiment xft\" ><span class=\"f\">sentiment=</span>-2</span></div></div><div class=\"contnr c0 trm rtl  \" ><div class=\"lbl c0 trm \" ><span class=\"txtu ara\">هُمْ </span></div> </div></div></div><div class=\"contnr c1  rtl  \" ><div class=\"lbl c1  \" ><span class=\"nd\">group</span></div> <div class=\"children row  rtl\"><div class=\"contnr c0 trm rtl  \" ><div class=\"lbl c0 trm \" ><a target=\"_blank\" href=\"http://tanzil.net\" title=\"show this passage on Tanzil\"><span class=\"txtu ara\">كُلَّمَآ </span></a></div> </div></div></div><div class=\"contnr c1  rtl  \" ><div class=\"lbl c1  \" ><span class=\"nd\">group</span></div> <div class=\"children row  rtl\"><div class=\"contnr c0 trm rtl  \" ><div class=\"lbl c0 trm \" ><a target=\"_blank\" href=\"http://tanzil.net\" title=\"show this passage on Tanzil\"><span class=\"txtu ara\">أَضَآءَ </span></a></div> <div class='features'><span class=\"sentiment xft\" ><span class=\"f\">sentiment=</span>-1</span></div></div></div></div><div class=\"contnr c1  rtl  \" ><div class=\"lbl c1  \" ><span class=\"nd\">group</span></div> <div class=\"children row  rtl\"><div class=\"contnr c0 trm rtl  \" ><div class=\"lbl c0 trm \" ><span class=\"txtu ara\">لَ</span></div> </div><div class=\"contnr c0 trm rtl  \" ><div class=\"lbl c0 trm \" ><span class=\"txtu ara\">هُم </span></div> </div></div></div><div class=\"contnr c1  rtl  \" ><div class=\"lbl c1  \" ><span class=\"nd\">group</span></div> <div class=\"children row  rtl\"><div class=\"contnr c0 trm rtl  \" ><div class=\"lbl c0 trm \" ><a target=\"_blank\" href=\"http://tanzil.net\" title=\"show this passage on Tanzil\"><span class=\"txtu ara\">مَّشَ</span></a></div> <div class='features'><span class=\"sentiment xft\" ><span class=\"f\">sentiment=</span>-1</span></div></div><div class=\"contnr c0 trm rtl  \" ><div class=\"lbl c0 trm \" ><span class=\"txtu ara\">وْا۟ </span></div> </div></div></div><div class=\"contnr c1  rtl  \" ><div class=\"lbl c1  \" ><span class=\"nd\">group</span></div> <div class=\"children row  rtl\"><div class=\"contnr c0 trm rtl  \" ><div class=\"lbl c0 trm \" ><a target=\"_blank\" href=\"http://tanzil.net\" title=\"show this passage on Tanzil\"><span class=\"txtu ara\">فِي</span></a></div> </div><div class=\"contnr c0 trm rtl  \" ><div class=\"lbl c0 trm \" ><span class=\"txtu ara\">هِ </span></div> </div></div></div><div class=\"contnr c1  rtl  \" ><div class=\"lbl c1  \" ><span class=\"nd\">group</span></div> <div class=\"children row  rtl\"><div class=\"contnr c0 trm rtl  \" ><div class=\"lbl c0 trm \" ><span class=\"txtu ara\">وَ</span></div> </div><div class=\"contnr c0 trm rtl  \" ><div class=\"lbl c0 trm \" ><a target=\"_blank\" href=\"http://tanzil.net\" title=\"show this passage on Tanzil\"><span class=\"txtu ara\">إِذَآ </span></a></div> </div></div></div><div class=\"contnr c1  rtl  \" ><div class=\"lbl c1  \" ><span class=\"nd\">group</span></div> <div class=\"children row  rtl\"><div class=\"contnr c0 trm rtl  \" ><div class=\"lbl c0 trm \" ><a target=\"_blank\" href=\"http://tanzil.net\" title=\"show this passage on Tanzil\"><span class=\"txtu ara\">أَظْلَمَ </span></a></div> <div class='features'><span class=\"sentiment xft\" ><span class=\"f\">sentiment=</span>-1</span></div></div></div></div><div class=\"contnr c1  rtl  \" ><div class=\"lbl c1  \" ><span class=\"nd\">group</span></div> <div class=\"children row  rtl\"><div class=\"contnr c0 trm rtl  \" ><div class=\"lbl c0 trm \" ><a target=\"_blank\" href=\"http://tanzil.net\" title=\"show this passage on Tanzil\"><span class=\"txtu ara\">عَلَيْ</span></a></div> </div><div class=\"contnr c0 trm rtl  \" ><div class=\"lbl c0 trm \" ><span class=\"txtu ara\">هِمْ </span></div> </div></div></div><div class=\"contnr c1  rtl  \" ><div class=\"lbl c1  \" ><span class=\"nd\">group</span></div> <div class=\"children row  rtl\"><div class=\"contnr c0 trm rtl  \" ><div class=\"lbl c0 trm \" ><a target=\"_blank\" href=\"http://tanzil.net\" title=\"show this passage on Tanzil\"><span class=\"txtu ara\">قَامُ</span></a></div> <div class='features'><span class=\"sentiment xft\" ><span class=\"f\">sentiment=</span>-1</span></div></div><div class=\"contnr c0 trm rtl  \" ><div class=\"lbl c0 trm \" ><span class=\"txtu ara\">وا۟ </span></div> </div></div></div><div class=\"contnr c1  rtl  \" ><div class=\"lbl c1  \" ><span class=\"nd\">group</span></div> <div class=\"children row  rtl\"><div class=\"contnr c0 trm rtl  \" ><div class=\"lbl c0 trm \" ><span class=\"txtu ara\">وَ</span></div> </div><div class=\"contnr c0 trm rtl  \" ><div class=\"lbl c0 trm \" ><a target=\"_blank\" href=\"http://tanzil.net\" title=\"show this passage on Tanzil\"><span class=\"txtu ara\">لَوْ </span></a></div> </div></div></div><div class=\"contnr c1  rtl  \" ><div class=\"lbl c1  \" ><span class=\"nd\">group</span></div> <div class=\"children row  rtl\"><div class=\"contnr c0 trm rtl  \" ><div class=\"lbl c0 trm \" ><a target=\"_blank\" href=\"http://tanzil.net\" title=\"show this passage on Tanzil\"><span class=\"txtu ara\">شَآءَ </span></a></div> <div class='features'><span class=\"sentiment xft\" ><span class=\"f\">sentiment=</span>-5</span></div></div></div></div><div class=\"contnr c1  rtl  \" ><div class=\"lbl c1  \" ><span class=\"nd\">group</span></div> <div class=\"children row  rtl\"><div class=\"contnr c0 trm rtl  \" ><div class=\"lbl c0 trm \" ><a target=\"_blank\" href=\"http://tanzil.net\" title=\"show this passage on Tanzil\"><span class=\"txtu ara\">ٱللَّهُ </span></a></div> <div class='features'><span class=\"sentiment xft\" ><span class=\"f\">sentiment=</span>-21</span></div></div></div></div><div class=\"contnr c1  rtl  \" ><div class=\"lbl c1  \" ><span class=\"nd\">group</span></div> <div class=\"children row  rtl\"><div class=\"contnr c0 trm rtl  \" ><div class=\"lbl c0 trm \" ><span class=\"txtu ara\">لَ</span></div> </div><div class=\"contnr c0 trm rtl  \" ><div class=\"lbl c0 trm \" ><a target=\"_blank\" href=\"http://tanzil.net\" title=\"show this passage on Tanzil\"><span class=\"txtu ara\">ذَهَبَ </span></a></div> <div class='features'><span class=\"sentiment xft\" ><span class=\"f\">sentiment=</span>-1</span></div></div></div></div><div class=\"contnr c1  rtl  \" ><div class=\"lbl c1  \" ><span class=\"nd\">group</span></div> <div class=\"children row  rtl\"><div class=\"contnr c0 trm rtl  \" ><div class=\"lbl c0 trm \" ><span class=\"txtu ara\">بِ</span></div> </div><div class=\"contnr c0 trm rtl  \" ><div class=\"lbl c0 trm \" ><a target=\"_blank\" href=\"http://tanzil.net\" title=\"show this passage on Tanzil\"><span class=\"txtu ara\">سَمْعِ</span></a></div> <div class='features'><span class=\"sentiment xft\" ><span class=\"f\">sentiment=</span>-1</span></div></div><div class=\"contnr c0 trm rtl  \" ><div class=\"lbl c0 trm \" ><span class=\"txtu ara\">هِمْ </span></div> </div></div></div><div class=\"contnr c1  rtl  \" ><div class=\"lbl c1  \" ><span class=\"nd\">group</span></div> <div class=\"children row  rtl\"><div class=\"contnr c0 trm rtl  \" ><div class=\"lbl c0 trm \" ><span class=\"txtu ara\">وَ</span></div> </div><div class=\"contnr c0 trm rtl  \" ><div class=\"lbl c0 trm \" ><a target=\"_blank\" href=\"http://tanzil.net\" title=\"show this passage on Tanzil\"><span class=\"txtu ara\">أَبْصَٰرِ</span></a></div> <div class='features'><span class=\"sentiment xft\" ><span class=\"f\">sentiment=</span>-2</span></div></div><div class=\"contnr c0 trm rtl  \" ><div class=\"lbl c0 trm \" ><span class=\"txtu ara\">هِمْ </span></div> </div></div></div><div class=\"contnr c1  rtl  \" ><div class=\"lbl c1  \" ><span class=\"nd\">group</span></div> <div class=\"children row  rtl\"><div class=\"contnr c0 trm rtl  \" ><div class=\"lbl c0 trm \" ><a target=\"_blank\" href=\"http://tanzil.net\" title=\"show this passage on Tanzil\"><span class=\"txtu ara\">إِنَّ </span></a></div> </div></div></div><div class=\"contnr c1  rtl  \" ><div class=\"lbl c1  \" ><span class=\"nd\">group</span></div> <div class=\"children row  rtl\"><div class=\"contnr c0 trm rtl  \" ><div class=\"lbl c0 trm \" ><a target=\"_blank\" href=\"http://tanzil.net\" title=\"show this passage on Tanzil\"><span class=\"txtu ara\">ٱللَّهَ </span></a></div> <div class='features'><span class=\"sentiment xft\" ><span class=\"f\">sentiment=</span>-21</span></div></div></div></div><div class=\"contnr c1  rtl  \" ><div class=\"lbl c1  \" ><span class=\"nd\">group</span></div> <div class=\"children row  rtl\"><div class=\"contnr c0 trm rtl  \" ><div class=\"lbl c0 trm \" ><a target=\"_blank\" href=\"http://tanzil.net\" title=\"show this passage on Tanzil\"><span class=\"txtu ara\">عَلَىٰ </span></a></div> </div></div></div><div class=\"contnr c1  rtl  \" ><div class=\"lbl c1  \" ><span class=\"nd\">group</span></div> <div class=\"children row  rtl\"><div class=\"contnr c0 trm rtl  \" ><div class=\"lbl c0 trm \" ><a target=\"_blank\" href=\"http://tanzil.net\" title=\"show this passage on Tanzil\"><span class=\"txtu ara\">كُلِّ </span></a></div> <div class='features'><span class=\"sentiment xft\" ><span class=\"f\">sentiment=</span>-3</span></div></div></div></div><div class=\"contnr c1  rtl  \" ><div class=\"lbl c1  \" ><span class=\"nd\">group</span></div> <div class=\"children row  rtl\"><div class=\"contnr c0 trm rtl  \" ><div class=\"lbl c0 trm \" ><a target=\"_blank\" href=\"http://tanzil.net\" title=\"show this passage on Tanzil\"><span class=\"txtu ara\">شَىْءٍ </span></a></div> <div class='features'><span class=\"sentiment xft\" ><span class=\"f\">sentiment=</span>-1</span></div></div></div></div><div class=\"contnr c1  rtl  \" ><div class=\"lbl c1  \" ><span class=\"nd\">group</span></div> <div class=\"children row  rtl\"><div class=\"contnr c0 trm rtl  \" ><div class=\"lbl c0 trm \" ><a target=\"_blank\" href=\"http://tanzil.net\" title=\"show this passage on Tanzil\"><span class=\"txtu ara\">قَدِيرٌ</span></a></div> <div class='features'><span class=\"sentiment xft\" ><span class=\"f\">sentiment=</span>-2</span></div></div></div></div></div></div>"
      ],
      "text/plain": [
       "<IPython.core.display.HTML object>"
      ]
     },
     "metadata": {},
     "output_type": "display_data"
    }
   ],
   "source": [
    "A.displaySetup(extraFeatures='translation@en sentiment')\n",
    "A.show(ayaTuples, start=10, end=20)"
   ]
  },
  {
   "cell_type": "markdown",
   "metadata": {},
   "source": [
    "## Searching for sentiment data\n",
    "\n",
    "We can use the sentiment feature in searches.\n",
    "\n",
    "Let's look for negative words in ayas starting with a vocative particle."
   ]
  },
  {
   "cell_type": "code",
   "execution_count": 41,
   "metadata": {},
   "outputs": [],
   "source": [
    "query = '''\n",
    "sura number=2\n",
    "  aya\n",
    "    =: word posx=vocative\n",
    "    word sentiment<0\n",
    "'''"
   ]
  },
  {
   "cell_type": "code",
   "execution_count": 42,
   "metadata": {},
   "outputs": [
    {
     "name": "stdout",
     "output_type": "stream",
     "text": [
      "  0.25s 107 results\n"
     ]
    }
   ],
   "source": [
    "results = A.search(query)"
   ]
  },
  {
   "cell_type": "markdown",
   "metadata": {},
   "source": [
    "Before we show the results, lets furnish an uncluttered\n",
    "[display](https://annotation.github.io/text-fabric/Api/App/#display)\n",
    "by suppressing a number of features."
   ]
  },
  {
   "cell_type": "code",
   "execution_count": 47,
   "metadata": {},
   "outputs": [],
   "source": [
    "A.displaySetup(extraFeatures='translation@en', suppress=\"number posx\")"
   ]
  },
  {
   "cell_type": "markdown",
   "metadata": {},
   "source": [
    "We want to see multiple negative words of an aya highlighted in the same aya, instead of displaying the aya over and over again for each\n",
    "negative word. Hence we'll pass `condensed=True`."
   ]
  },
  {
   "cell_type": "code",
   "execution_count": 49,
   "metadata": {},
   "outputs": [
    {
     "data": {
      "text/html": [
       "<p><b>aya</b> <i>1</i></p>"
      ],
      "text/plain": [
       "<IPython.core.display.HTML object>"
      ]
     },
     "metadata": {},
     "output_type": "display_data"
    },
    {
     "data": {
      "text/html": [
       "<span class=\"section ltr\"><a target=\"_blank\" href=\"/#2:21\" title=\"show this passage on Tanzil\" sec=\"2:21\">2:21</a> </span><div class=\"contnr c3  rtl  \" ><div class=\"lbl c3  \" ><span class=\"nd\">aya</span></div> <div class='features'><span class=\"translation@en xft\" ><span class=\"f\">translation@en=</span>O you men, serve your Lord Who created you, and those that were before you; haply so you will be godfearing;</span></div><div class=\"children row wrap rtl\"><div class=\"contnr c1  rtl  \" ><div class=\"lbl c1  \" ><span class=\"nd\">group</span></div> <div class=\"children row  rtl\"><div class=\"contnr c0 trm rtl  hl\" ><div class=\"lbl c0 trm hl\" ><span class=\"txtu ara\">يَٰٓ</span></div> </div><div class=\"contnr c0 trm rtl  \" ><div class=\"lbl c0 trm \" ><a target=\"_blank\" href=\"http://tanzil.net\" title=\"show this passage on Tanzil\"><span class=\"txtu ara\">أَيُّهَا </span></a></div> <div class='features'><span class=\"sentiment xft\" ><span class=\"f\">sentiment=</span>4</span></div></div></div></div><div class=\"contnr c1  rtl  \" ><div class=\"lbl c1  \" ><span class=\"nd\">group</span></div> <div class=\"children row  rtl\"><div class=\"contnr c0 trm rtl  \" ><div class=\"lbl c0 trm \" ><span class=\"txtu ara\">ٱل</span></div> </div><div class=\"contnr c0 trm rtl  \" ><div class=\"lbl c0 trm \" ><a target=\"_blank\" href=\"http://tanzil.net\" title=\"show this passage on Tanzil\"><span class=\"txtu ara\">نَّاسُ </span></a></div> <div class='features'><span class=\"sentiment xft\" ><span class=\"f\">sentiment=</span>1</span></div></div></div></div><div class=\"contnr c1  rtl  \" ><div class=\"lbl c1  \" ><span class=\"nd\">group</span></div> <div class=\"children row  rtl\"><div class=\"contnr c0 trm rtl  \" ><div class=\"lbl c0 trm \" ><a target=\"_blank\" href=\"http://tanzil.net\" title=\"show this passage on Tanzil\"><span class=\"txtu ara\">ٱعْبُدُ</span></a></div> <div class='features'><span class=\"sentiment xft\" ><span class=\"f\">sentiment=</span>1</span></div></div><div class=\"contnr c0 trm rtl  \" ><div class=\"lbl c0 trm \" ><span class=\"txtu ara\">وا۟ </span></div> </div></div></div><div class=\"contnr c1  rtl  \" ><div class=\"lbl c1  \" ><span class=\"nd\">group</span></div> <div class=\"children row  rtl\"><div class=\"contnr c0 trm rtl  hl\" ><div class=\"lbl c0 trm hl\" ><a target=\"_blank\" href=\"http://tanzil.net\" title=\"show this passage on Tanzil\"><span class=\"txtu ara\">رَبَّ</span></a></div> <div class='features'><span class=\"sentiment xft\" ><span class=\"f\">sentiment=</span>-1</span></div></div><div class=\"contnr c0 trm rtl  \" ><div class=\"lbl c0 trm \" ><span class=\"txtu ara\">كُمُ </span></div> </div></div></div><div class=\"contnr c1  rtl  \" ><div class=\"lbl c1  \" ><span class=\"nd\">group</span></div> <div class=\"children row  rtl\"><div class=\"contnr c0 trm rtl  \" ><div class=\"lbl c0 trm \" ><a target=\"_blank\" href=\"http://tanzil.net\" title=\"show this passage on Tanzil\"><span class=\"txtu ara\">ٱلَّذِى </span></a></div> </div></div></div><div class=\"contnr c1  rtl  \" ><div class=\"lbl c1  \" ><span class=\"nd\">group</span></div> <div class=\"children row  rtl\"><div class=\"contnr c0 trm rtl  \" ><div class=\"lbl c0 trm \" ><a target=\"_blank\" href=\"http://tanzil.net\" title=\"show this passage on Tanzil\"><span class=\"txtu ara\">خَلَقَ</span></a></div> <div class='features'><span class=\"sentiment xft\" ><span class=\"f\">sentiment=</span>1</span></div></div><div class=\"contnr c0 trm rtl  \" ><div class=\"lbl c0 trm \" ><span class=\"txtu ara\">كُمْ </span></div> </div></div></div><div class=\"contnr c1  rtl  \" ><div class=\"lbl c1  \" ><span class=\"nd\">group</span></div> <div class=\"children row  rtl\"><div class=\"contnr c0 trm rtl  \" ><div class=\"lbl c0 trm \" ><span class=\"txtu ara\">وَ</span></div> </div><div class=\"contnr c0 trm rtl  \" ><div class=\"lbl c0 trm \" ><a target=\"_blank\" href=\"http://tanzil.net\" title=\"show this passage on Tanzil\"><span class=\"txtu ara\">ٱلَّذِينَ </span></a></div> </div></div></div><div class=\"contnr c1  rtl  \" ><div class=\"lbl c1  \" ><span class=\"nd\">group</span></div> <div class=\"children row  rtl\"><div class=\"contnr c0 trm rtl  \" ><div class=\"lbl c0 trm \" ><a target=\"_blank\" href=\"http://tanzil.net\" title=\"show this passage on Tanzil\"><span class=\"txtu ara\">مِن </span></a></div> </div></div></div><div class=\"contnr c1  rtl  \" ><div class=\"lbl c1  \" ><span class=\"nd\">group</span></div> <div class=\"children row  rtl\"><div class=\"contnr c0 trm rtl  \" ><div class=\"lbl c0 trm \" ><a target=\"_blank\" href=\"http://tanzil.net\" title=\"show this passage on Tanzil\"><span class=\"txtu ara\">قَبْلِ</span></a></div> <div class='features'><span class=\"sentiment xft\" ><span class=\"f\">sentiment=</span>2</span></div></div><div class=\"contnr c0 trm rtl  \" ><div class=\"lbl c0 trm \" ><span class=\"txtu ara\">كُمْ </span></div> </div></div></div><div class=\"contnr c1  rtl  \" ><div class=\"lbl c1  \" ><span class=\"nd\">group</span></div> <div class=\"children row  rtl\"><div class=\"contnr c0 trm rtl  \" ><div class=\"lbl c0 trm \" ><a target=\"_blank\" href=\"http://tanzil.net\" title=\"show this passage on Tanzil\"><span class=\"txtu ara\">لَعَلَّ</span></a></div> </div><div class=\"contnr c0 trm rtl  \" ><div class=\"lbl c0 trm \" ><span class=\"txtu ara\">كُمْ </span></div> </div></div></div><div class=\"contnr c1  rtl  \" ><div class=\"lbl c1  \" ><span class=\"nd\">group</span></div> <div class=\"children row  rtl\"><div class=\"contnr c0 trm rtl  hl\" ><div class=\"lbl c0 trm hl\" ><a target=\"_blank\" href=\"http://tanzil.net\" title=\"show this passage on Tanzil\"><span class=\"txtu ara\">تَتَّقُ</span></a></div> <div class='features'><span class=\"sentiment xft\" ><span class=\"f\">sentiment=</span>-1</span></div></div><div class=\"contnr c0 trm rtl  \" ><div class=\"lbl c0 trm \" ><span class=\"txtu ara\">ونَ</span></div> </div></div></div></div></div>"
      ],
      "text/plain": [
       "<IPython.core.display.HTML object>"
      ]
     },
     "metadata": {},
     "output_type": "display_data"
    },
    {
     "data": {
      "text/html": [
       "<p><b>aya</b> <i>2</i></p>"
      ],
      "text/plain": [
       "<IPython.core.display.HTML object>"
      ]
     },
     "metadata": {},
     "output_type": "display_data"
    },
    {
     "data": {
      "text/html": [
       "<span class=\"section ltr\"><a target=\"_blank\" href=\"/#2:40\" title=\"show this passage on Tanzil\" sec=\"2:40\">2:40</a> </span><div class=\"contnr c3  rtl  \" ><div class=\"lbl c3  \" ><span class=\"nd\">aya</span></div> <div class='features'><span class=\"translation@en xft\" ><span class=\"f\">translation@en=</span>Children of Israel, remember My blessing wherewith I blessed you, and fulfil My covenant and I shall fulfil your covenant; and have awe of Me.</span></div><div class=\"children row wrap rtl\"><div class=\"contnr c1  rtl  \" ><div class=\"lbl c1  \" ><span class=\"nd\">group</span></div> <div class=\"children row  rtl\"><div class=\"contnr c0 trm rtl  hl\" ><div class=\"lbl c0 trm hl\" ><span class=\"txtu ara\">يَٰ</span></div> </div><div class=\"contnr c0 trm rtl  \" ><div class=\"lbl c0 trm \" ><a target=\"_blank\" href=\"http://tanzil.net\" title=\"show this passage on Tanzil\"><span class=\"txtu ara\">بَنِىٓ </span></a></div> <div class='features'><span class=\"sentiment xft\" ><span class=\"f\">sentiment=</span>1</span></div></div></div></div><div class=\"contnr c1  rtl  \" ><div class=\"lbl c1  \" ><span class=\"nd\">group</span></div> <div class=\"children row  rtl\"><div class=\"contnr c0 trm rtl  \" ><div class=\"lbl c0 trm \" ><a target=\"_blank\" href=\"http://tanzil.net\" title=\"show this passage on Tanzil\"><span class=\"txtu ara\">إِسْرَٰٓءِيلَ </span></a></div> <div class='features'><span class=\"sentiment xft\" ><span class=\"f\">sentiment=</span>1</span></div></div></div></div><div class=\"contnr c1  rtl  \" ><div class=\"lbl c1  \" ><span class=\"nd\">group</span></div> <div class=\"children row  rtl\"><div class=\"contnr c0 trm rtl  hl\" ><div class=\"lbl c0 trm hl\" ><a target=\"_blank\" href=\"http://tanzil.net\" title=\"show this passage on Tanzil\"><span class=\"txtu ara\">ٱذْكُرُ</span></a></div> <div class='features'><span class=\"sentiment xft\" ><span class=\"f\">sentiment=</span>-1</span></div></div><div class=\"contnr c0 trm rtl  \" ><div class=\"lbl c0 trm \" ><span class=\"txtu ara\">وا۟ </span></div> </div></div></div><div class=\"contnr c1  rtl  \" ><div class=\"lbl c1  \" ><span class=\"nd\">group</span></div> <div class=\"children row  rtl\"><div class=\"contnr c0 trm rtl  \" ><div class=\"lbl c0 trm \" ><a target=\"_blank\" href=\"http://tanzil.net\" title=\"show this passage on Tanzil\"><span class=\"txtu ara\">نِعْمَتِ</span></a></div> <div class='features'><span class=\"sentiment xft\" ><span class=\"f\">sentiment=</span></span></div></div><div class=\"contnr c0 trm rtl  \" ><div class=\"lbl c0 trm \" ><span class=\"txtu ara\">ىَ </span></div> </div></div></div><div class=\"contnr c1  rtl  \" ><div class=\"lbl c1  \" ><span class=\"nd\">group</span></div> <div class=\"children row  rtl\"><div class=\"contnr c0 trm rtl  \" ><div class=\"lbl c0 trm \" ><a target=\"_blank\" href=\"http://tanzil.net\" title=\"show this passage on Tanzil\"><span class=\"txtu ara\">ٱلَّتِىٓ </span></a></div> </div></div></div><div class=\"contnr c1  rtl  \" ><div class=\"lbl c1  \" ><span class=\"nd\">group</span></div> <div class=\"children row  rtl\"><div class=\"contnr c0 trm rtl  \" ><div class=\"lbl c0 trm \" ><a target=\"_blank\" href=\"http://tanzil.net\" title=\"show this passage on Tanzil\"><span class=\"txtu ara\">أَنْعَمْ</span></a></div> <div class='features'><span class=\"sentiment xft\" ><span class=\"f\">sentiment=</span>1</span></div></div><div class=\"contnr c0 trm rtl  \" ><div class=\"lbl c0 trm \" ><span class=\"txtu ara\">تُ </span></div> </div></div></div><div class=\"contnr c1  rtl  \" ><div class=\"lbl c1  \" ><span class=\"nd\">group</span></div> <div class=\"children row  rtl\"><div class=\"contnr c0 trm rtl  \" ><div class=\"lbl c0 trm \" ><a target=\"_blank\" href=\"http://tanzil.net\" title=\"show this passage on Tanzil\"><span class=\"txtu ara\">عَلَيْ</span></a></div> </div><div class=\"contnr c0 trm rtl  \" ><div class=\"lbl c0 trm \" ><span class=\"txtu ara\">كُمْ </span></div> </div></div></div><div class=\"contnr c1  rtl  \" ><div class=\"lbl c1  \" ><span class=\"nd\">group</span></div> <div class=\"children row  rtl\"><div class=\"contnr c0 trm rtl  \" ><div class=\"lbl c0 trm \" ><span class=\"txtu ara\">وَ</span></div> </div><div class=\"contnr c0 trm rtl  \" ><div class=\"lbl c0 trm \" ><a target=\"_blank\" href=\"http://tanzil.net\" title=\"show this passage on Tanzil\"><span class=\"txtu ara\">أَوْفُ</span></a></div> <div class='features'><span class=\"sentiment xft\" ><span class=\"f\">sentiment=</span>2</span></div></div><div class=\"contnr c0 trm rtl  \" ><div class=\"lbl c0 trm \" ><span class=\"txtu ara\">وا۟ </span></div> </div></div></div><div class=\"contnr c1  rtl  \" ><div class=\"lbl c1  \" ><span class=\"nd\">group</span></div> <div class=\"children row  rtl\"><div class=\"contnr c0 trm rtl  \" ><div class=\"lbl c0 trm \" ><span class=\"txtu ara\">بِ</span></div> </div><div class=\"contnr c0 trm rtl  \" ><div class=\"lbl c0 trm \" ><a target=\"_blank\" href=\"http://tanzil.net\" title=\"show this passage on Tanzil\"><span class=\"txtu ara\">عَهْدِ</span></a></div> <div class='features'><span class=\"sentiment xft\" ><span class=\"f\">sentiment=</span>1</span></div></div><div class=\"contnr c0 trm rtl  \" ><div class=\"lbl c0 trm \" ><span class=\"txtu ara\">ىٓ </span></div> </div></div></div><div class=\"contnr c1  rtl  \" ><div class=\"lbl c1  \" ><span class=\"nd\">group</span></div> <div class=\"children row  rtl\"><div class=\"contnr c0 trm rtl  \" ><div class=\"lbl c0 trm \" ><a target=\"_blank\" href=\"http://tanzil.net\" title=\"show this passage on Tanzil\"><span class=\"txtu ara\">أُوفِ </span></a></div> <div class='features'><span class=\"sentiment xft\" ><span class=\"f\">sentiment=</span>2</span></div></div></div></div><div class=\"contnr c1  rtl  \" ><div class=\"lbl c1  \" ><span class=\"nd\">group</span></div> <div class=\"children row  rtl\"><div class=\"contnr c0 trm rtl  \" ><div class=\"lbl c0 trm \" ><span class=\"txtu ara\">بِ</span></div> </div><div class=\"contnr c0 trm rtl  \" ><div class=\"lbl c0 trm \" ><a target=\"_blank\" href=\"http://tanzil.net\" title=\"show this passage on Tanzil\"><span class=\"txtu ara\">عَهْدِ</span></a></div> <div class='features'><span class=\"sentiment xft\" ><span class=\"f\">sentiment=</span>1</span></div></div><div class=\"contnr c0 trm rtl  \" ><div class=\"lbl c0 trm \" ><span class=\"txtu ara\">كُمْ </span></div> </div></div></div><div class=\"contnr c1  rtl  \" ><div class=\"lbl c1  \" ><span class=\"nd\">group</span></div> <div class=\"children row  rtl\"><div class=\"contnr c0 trm rtl  \" ><div class=\"lbl c0 trm \" ><span class=\"txtu ara\">وَ</span></div> </div><div class=\"contnr c0 trm rtl  \" ><div class=\"lbl c0 trm \" ><a target=\"_blank\" href=\"http://tanzil.net\" title=\"show this passage on Tanzil\"><span class=\"txtu ara\">إِيَّٰىَ </span></a></div> </div></div></div><div class=\"contnr c1  rtl  \" ><div class=\"lbl c1  \" ><span class=\"nd\">group</span></div> <div class=\"children row  rtl\"><div class=\"contnr c0 trm rtl  \" ><div class=\"lbl c0 trm \" ><span class=\"txtu ara\">فَ</span></div> </div><div class=\"contnr c0 trm rtl  \" ><div class=\"lbl c0 trm \" ><a target=\"_blank\" href=\"http://tanzil.net\" title=\"show this passage on Tanzil\"><span class=\"txtu ara\">ٱرْهَبُ</span></a></div> <div class='features'><span class=\"sentiment xft\" ><span class=\"f\">sentiment=</span>1</span></div></div><div class=\"contnr c0 trm rtl  \" ><div class=\"lbl c0 trm \" ><span class=\"txtu ara\">و</span></div> </div><div class=\"contnr c0 trm rtl  \" ><div class=\"lbl c0 trm \" ><span class=\"txtu ara\">نِ</span></div> </div></div></div></div></div>"
      ],
      "text/plain": [
       "<IPython.core.display.HTML object>"
      ]
     },
     "metadata": {},
     "output_type": "display_data"
    },
    {
     "data": {
      "text/html": [
       "<p><b>aya</b> <i>3</i></p>"
      ],
      "text/plain": [
       "<IPython.core.display.HTML object>"
      ]
     },
     "metadata": {},
     "output_type": "display_data"
    },
    {
     "data": {
      "text/html": [
       "<span class=\"section ltr\"><a target=\"_blank\" href=\"/#2:47\" title=\"show this passage on Tanzil\" sec=\"2:47\">2:47</a> </span><div class=\"contnr c3  rtl  \" ><div class=\"lbl c3  \" ><span class=\"nd\">aya</span></div> <div class='features'><span class=\"translation@en xft\" ><span class=\"f\">translation@en=</span>Children of Israel, remember My blessing wherewith I blessed you, and that I have preferred you above all beings;</span></div><div class=\"children row wrap rtl\"><div class=\"contnr c1  rtl  \" ><div class=\"lbl c1  \" ><span class=\"nd\">group</span></div> <div class=\"children row  rtl\"><div class=\"contnr c0 trm rtl  hl\" ><div class=\"lbl c0 trm hl\" ><span class=\"txtu ara\">يَٰ</span></div> </div><div class=\"contnr c0 trm rtl  \" ><div class=\"lbl c0 trm \" ><a target=\"_blank\" href=\"http://tanzil.net\" title=\"show this passage on Tanzil\"><span class=\"txtu ara\">بَنِىٓ </span></a></div> <div class='features'><span class=\"sentiment xft\" ><span class=\"f\">sentiment=</span>1</span></div></div></div></div><div class=\"contnr c1  rtl  \" ><div class=\"lbl c1  \" ><span class=\"nd\">group</span></div> <div class=\"children row  rtl\"><div class=\"contnr c0 trm rtl  \" ><div class=\"lbl c0 trm \" ><a target=\"_blank\" href=\"http://tanzil.net\" title=\"show this passage on Tanzil\"><span class=\"txtu ara\">إِسْرَٰٓءِيلَ </span></a></div> <div class='features'><span class=\"sentiment xft\" ><span class=\"f\">sentiment=</span>1</span></div></div></div></div><div class=\"contnr c1  rtl  \" ><div class=\"lbl c1  \" ><span class=\"nd\">group</span></div> <div class=\"children row  rtl\"><div class=\"contnr c0 trm rtl  hl\" ><div class=\"lbl c0 trm hl\" ><a target=\"_blank\" href=\"http://tanzil.net\" title=\"show this passage on Tanzil\"><span class=\"txtu ara\">ٱذْكُرُ</span></a></div> <div class='features'><span class=\"sentiment xft\" ><span class=\"f\">sentiment=</span>-1</span></div></div><div class=\"contnr c0 trm rtl  \" ><div class=\"lbl c0 trm \" ><span class=\"txtu ara\">وا۟ </span></div> </div></div></div><div class=\"contnr c1  rtl  \" ><div class=\"lbl c1  \" ><span class=\"nd\">group</span></div> <div class=\"children row  rtl\"><div class=\"contnr c0 trm rtl  \" ><div class=\"lbl c0 trm \" ><a target=\"_blank\" href=\"http://tanzil.net\" title=\"show this passage on Tanzil\"><span class=\"txtu ara\">نِعْمَتِ</span></a></div> <div class='features'><span class=\"sentiment xft\" ><span class=\"f\">sentiment=</span></span></div></div><div class=\"contnr c0 trm rtl  \" ><div class=\"lbl c0 trm \" ><span class=\"txtu ara\">ىَ </span></div> </div></div></div><div class=\"contnr c1  rtl  \" ><div class=\"lbl c1  \" ><span class=\"nd\">group</span></div> <div class=\"children row  rtl\"><div class=\"contnr c0 trm rtl  \" ><div class=\"lbl c0 trm \" ><a target=\"_blank\" href=\"http://tanzil.net\" title=\"show this passage on Tanzil\"><span class=\"txtu ara\">ٱلَّتِىٓ </span></a></div> </div></div></div><div class=\"contnr c1  rtl  \" ><div class=\"lbl c1  \" ><span class=\"nd\">group</span></div> <div class=\"children row  rtl\"><div class=\"contnr c0 trm rtl  \" ><div class=\"lbl c0 trm \" ><a target=\"_blank\" href=\"http://tanzil.net\" title=\"show this passage on Tanzil\"><span class=\"txtu ara\">أَنْعَمْ</span></a></div> <div class='features'><span class=\"sentiment xft\" ><span class=\"f\">sentiment=</span>1</span></div></div><div class=\"contnr c0 trm rtl  \" ><div class=\"lbl c0 trm \" ><span class=\"txtu ara\">تُ </span></div> </div></div></div><div class=\"contnr c1  rtl  \" ><div class=\"lbl c1  \" ><span class=\"nd\">group</span></div> <div class=\"children row  rtl\"><div class=\"contnr c0 trm rtl  \" ><div class=\"lbl c0 trm \" ><a target=\"_blank\" href=\"http://tanzil.net\" title=\"show this passage on Tanzil\"><span class=\"txtu ara\">عَلَيْ</span></a></div> </div><div class=\"contnr c0 trm rtl  \" ><div class=\"lbl c0 trm \" ><span class=\"txtu ara\">كُمْ </span></div> </div></div></div><div class=\"contnr c1  rtl  \" ><div class=\"lbl c1  \" ><span class=\"nd\">group</span></div> <div class=\"children row  rtl\"><div class=\"contnr c0 trm rtl  \" ><div class=\"lbl c0 trm \" ><span class=\"txtu ara\">وَ</span></div> </div><div class=\"contnr c0 trm rtl  \" ><div class=\"lbl c0 trm \" ><a target=\"_blank\" href=\"http://tanzil.net\" title=\"show this passage on Tanzil\"><span class=\"txtu ara\">أَنِّ</span></a></div> </div><div class=\"contnr c0 trm rtl  \" ><div class=\"lbl c0 trm \" ><span class=\"txtu ara\">ى </span></div> </div></div></div><div class=\"contnr c1  rtl  \" ><div class=\"lbl c1  \" ><span class=\"nd\">group</span></div> <div class=\"children row  rtl\"><div class=\"contnr c0 trm rtl  hl\" ><div class=\"lbl c0 trm hl\" ><a target=\"_blank\" href=\"http://tanzil.net\" title=\"show this passage on Tanzil\"><span class=\"txtu ara\">فَضَّلْ</span></a></div> <div class='features'><span class=\"sentiment xft\" ><span class=\"f\">sentiment=</span>-1</span></div></div><div class=\"contnr c0 trm rtl  \" ><div class=\"lbl c0 trm \" ><span class=\"txtu ara\">تُ</span></div> </div><div class=\"contnr c0 trm rtl  \" ><div class=\"lbl c0 trm \" ><span class=\"txtu ara\">كُمْ </span></div> </div></div></div><div class=\"contnr c1  rtl  \" ><div class=\"lbl c1  \" ><span class=\"nd\">group</span></div> <div class=\"children row  rtl\"><div class=\"contnr c0 trm rtl  \" ><div class=\"lbl c0 trm \" ><a target=\"_blank\" href=\"http://tanzil.net\" title=\"show this passage on Tanzil\"><span class=\"txtu ara\">عَلَى </span></a></div> </div></div></div><div class=\"contnr c1  rtl  \" ><div class=\"lbl c1  \" ><span class=\"nd\">group</span></div> <div class=\"children row  rtl\"><div class=\"contnr c0 trm rtl  \" ><div class=\"lbl c0 trm \" ><span class=\"txtu ara\">ٱلْ</span></div> </div><div class=\"contnr c0 trm rtl  hl\" ><div class=\"lbl c0 trm hl\" ><a target=\"_blank\" href=\"http://tanzil.net\" title=\"show this passage on Tanzil\"><span class=\"txtu ara\">عَٰلَمِينَ</span></a></div> <div class='features'><span class=\"sentiment xft\" ><span class=\"f\">sentiment=</span>-1</span></div></div></div></div></div></div>"
      ],
      "text/plain": [
       "<IPython.core.display.HTML object>"
      ]
     },
     "metadata": {},
     "output_type": "display_data"
    },
    {
     "data": {
      "text/html": [
       "<p><b>aya</b> <i>4</i></p>"
      ],
      "text/plain": [
       "<IPython.core.display.HTML object>"
      ]
     },
     "metadata": {},
     "output_type": "display_data"
    },
    {
     "data": {
      "text/html": [
       "<span class=\"section ltr\"><a target=\"_blank\" href=\"/#2:122\" title=\"show this passage on Tanzil\" sec=\"2:122\">2:122</a> </span><div class=\"contnr c3  rtl  \" ><div class=\"lbl c3  \" ><span class=\"nd\">aya</span></div> <div class='features'><span class=\"translation@en xft\" ><span class=\"f\">translation@en=</span>Children of Israel, remember My blessing wherewith I blessed you, and that I have preferred you above all beings;</span></div><div class=\"children row wrap rtl\"><div class=\"contnr c1  rtl  \" ><div class=\"lbl c1  \" ><span class=\"nd\">group</span></div> <div class=\"children row  rtl\"><div class=\"contnr c0 trm rtl  hl\" ><div class=\"lbl c0 trm hl\" ><span class=\"txtu ara\">يَٰ</span></div> </div><div class=\"contnr c0 trm rtl  \" ><div class=\"lbl c0 trm \" ><a target=\"_blank\" href=\"http://tanzil.net\" title=\"show this passage on Tanzil\"><span class=\"txtu ara\">بَنِىٓ </span></a></div> <div class='features'><span class=\"sentiment xft\" ><span class=\"f\">sentiment=</span>1</span></div></div></div></div><div class=\"contnr c1  rtl  \" ><div class=\"lbl c1  \" ><span class=\"nd\">group</span></div> <div class=\"children row  rtl\"><div class=\"contnr c0 trm rtl  \" ><div class=\"lbl c0 trm \" ><a target=\"_blank\" href=\"http://tanzil.net\" title=\"show this passage on Tanzil\"><span class=\"txtu ara\">إِسْرَٰٓءِيلَ </span></a></div> <div class='features'><span class=\"sentiment xft\" ><span class=\"f\">sentiment=</span>1</span></div></div></div></div><div class=\"contnr c1  rtl  \" ><div class=\"lbl c1  \" ><span class=\"nd\">group</span></div> <div class=\"children row  rtl\"><div class=\"contnr c0 trm rtl  hl\" ><div class=\"lbl c0 trm hl\" ><a target=\"_blank\" href=\"http://tanzil.net\" title=\"show this passage on Tanzil\"><span class=\"txtu ara\">ٱذْكُرُ</span></a></div> <div class='features'><span class=\"sentiment xft\" ><span class=\"f\">sentiment=</span>-1</span></div></div><div class=\"contnr c0 trm rtl  \" ><div class=\"lbl c0 trm \" ><span class=\"txtu ara\">وا۟ </span></div> </div></div></div><div class=\"contnr c1  rtl  \" ><div class=\"lbl c1  \" ><span class=\"nd\">group</span></div> <div class=\"children row  rtl\"><div class=\"contnr c0 trm rtl  \" ><div class=\"lbl c0 trm \" ><a target=\"_blank\" href=\"http://tanzil.net\" title=\"show this passage on Tanzil\"><span class=\"txtu ara\">نِعْمَتِ</span></a></div> <div class='features'><span class=\"sentiment xft\" ><span class=\"f\">sentiment=</span></span></div></div><div class=\"contnr c0 trm rtl  \" ><div class=\"lbl c0 trm \" ><span class=\"txtu ara\">ىَ </span></div> </div></div></div><div class=\"contnr c1  rtl  \" ><div class=\"lbl c1  \" ><span class=\"nd\">group</span></div> <div class=\"children row  rtl\"><div class=\"contnr c0 trm rtl  \" ><div class=\"lbl c0 trm \" ><a target=\"_blank\" href=\"http://tanzil.net\" title=\"show this passage on Tanzil\"><span class=\"txtu ara\">ٱلَّتِىٓ </span></a></div> </div></div></div><div class=\"contnr c1  rtl  \" ><div class=\"lbl c1  \" ><span class=\"nd\">group</span></div> <div class=\"children row  rtl\"><div class=\"contnr c0 trm rtl  \" ><div class=\"lbl c0 trm \" ><a target=\"_blank\" href=\"http://tanzil.net\" title=\"show this passage on Tanzil\"><span class=\"txtu ara\">أَنْعَمْ</span></a></div> <div class='features'><span class=\"sentiment xft\" ><span class=\"f\">sentiment=</span>1</span></div></div><div class=\"contnr c0 trm rtl  \" ><div class=\"lbl c0 trm \" ><span class=\"txtu ara\">تُ </span></div> </div></div></div><div class=\"contnr c1  rtl  \" ><div class=\"lbl c1  \" ><span class=\"nd\">group</span></div> <div class=\"children row  rtl\"><div class=\"contnr c0 trm rtl  \" ><div class=\"lbl c0 trm \" ><a target=\"_blank\" href=\"http://tanzil.net\" title=\"show this passage on Tanzil\"><span class=\"txtu ara\">عَلَيْ</span></a></div> </div><div class=\"contnr c0 trm rtl  \" ><div class=\"lbl c0 trm \" ><span class=\"txtu ara\">كُمْ </span></div> </div></div></div><div class=\"contnr c1  rtl  \" ><div class=\"lbl c1  \" ><span class=\"nd\">group</span></div> <div class=\"children row  rtl\"><div class=\"contnr c0 trm rtl  \" ><div class=\"lbl c0 trm \" ><span class=\"txtu ara\">وَ</span></div> </div><div class=\"contnr c0 trm rtl  \" ><div class=\"lbl c0 trm \" ><a target=\"_blank\" href=\"http://tanzil.net\" title=\"show this passage on Tanzil\"><span class=\"txtu ara\">أَنِّ</span></a></div> </div><div class=\"contnr c0 trm rtl  \" ><div class=\"lbl c0 trm \" ><span class=\"txtu ara\">ى </span></div> </div></div></div><div class=\"contnr c1  rtl  \" ><div class=\"lbl c1  \" ><span class=\"nd\">group</span></div> <div class=\"children row  rtl\"><div class=\"contnr c0 trm rtl  hl\" ><div class=\"lbl c0 trm hl\" ><a target=\"_blank\" href=\"http://tanzil.net\" title=\"show this passage on Tanzil\"><span class=\"txtu ara\">فَضَّلْ</span></a></div> <div class='features'><span class=\"sentiment xft\" ><span class=\"f\">sentiment=</span>-1</span></div></div><div class=\"contnr c0 trm rtl  \" ><div class=\"lbl c0 trm \" ><span class=\"txtu ara\">تُ</span></div> </div><div class=\"contnr c0 trm rtl  \" ><div class=\"lbl c0 trm \" ><span class=\"txtu ara\">كُمْ </span></div> </div></div></div><div class=\"contnr c1  rtl  \" ><div class=\"lbl c1  \" ><span class=\"nd\">group</span></div> <div class=\"children row  rtl\"><div class=\"contnr c0 trm rtl  \" ><div class=\"lbl c0 trm \" ><a target=\"_blank\" href=\"http://tanzil.net\" title=\"show this passage on Tanzil\"><span class=\"txtu ara\">عَلَى </span></a></div> </div></div></div><div class=\"contnr c1  rtl  \" ><div class=\"lbl c1  \" ><span class=\"nd\">group</span></div> <div class=\"children row  rtl\"><div class=\"contnr c0 trm rtl  \" ><div class=\"lbl c0 trm \" ><span class=\"txtu ara\">ٱلْ</span></div> </div><div class=\"contnr c0 trm rtl  hl\" ><div class=\"lbl c0 trm hl\" ><a target=\"_blank\" href=\"http://tanzil.net\" title=\"show this passage on Tanzil\"><span class=\"txtu ara\">عَٰلَمِينَ</span></a></div> <div class='features'><span class=\"sentiment xft\" ><span class=\"f\">sentiment=</span>-1</span></div></div></div></div></div></div>"
      ],
      "text/plain": [
       "<IPython.core.display.HTML object>"
      ]
     },
     "metadata": {},
     "output_type": "display_data"
    },
    {
     "data": {
      "text/html": [
       "<p><b>aya</b> <i>5</i></p>"
      ],
      "text/plain": [
       "<IPython.core.display.HTML object>"
      ]
     },
     "metadata": {},
     "output_type": "display_data"
    },
    {
     "data": {
      "text/html": [
       "<span class=\"section ltr\"><a target=\"_blank\" href=\"/#2:153\" title=\"show this passage on Tanzil\" sec=\"2:153\">2:153</a> </span><div class=\"contnr c3  rtl  \" ><div class=\"lbl c3  \" ><span class=\"nd\">aya</span></div> <div class='features'><span class=\"translation@en xft\" ><span class=\"f\">translation@en=</span>O all you who believe, seek you help in patience and prayer; surely God is with the patient.</span></div><div class=\"children row wrap rtl\"><div class=\"contnr c1  rtl  \" ><div class=\"lbl c1  \" ><span class=\"nd\">group</span></div> <div class=\"children row  rtl\"><div class=\"contnr c0 trm rtl  hl\" ><div class=\"lbl c0 trm hl\" ><span class=\"txtu ara\">يَٰٓ</span></div> </div><div class=\"contnr c0 trm rtl  \" ><div class=\"lbl c0 trm \" ><a target=\"_blank\" href=\"http://tanzil.net\" title=\"show this passage on Tanzil\"><span class=\"txtu ara\">أَيُّهَا </span></a></div> <div class='features'><span class=\"sentiment xft\" ><span class=\"f\">sentiment=</span>4</span></div></div></div></div><div class=\"contnr c1  rtl  \" ><div class=\"lbl c1  \" ><span class=\"nd\">group</span></div> <div class=\"children row  rtl\"><div class=\"contnr c0 trm rtl  \" ><div class=\"lbl c0 trm \" ><a target=\"_blank\" href=\"http://tanzil.net\" title=\"show this passage on Tanzil\"><span class=\"txtu ara\">ٱلَّذِينَ </span></a></div> </div></div></div><div class=\"contnr c1  rtl  \" ><div class=\"lbl c1  \" ><span class=\"nd\">group</span></div> <div class=\"children row  rtl\"><div class=\"contnr c0 trm rtl  \" ><div class=\"lbl c0 trm \" ><a target=\"_blank\" href=\"http://tanzil.net\" title=\"show this passage on Tanzil\"><span class=\"txtu ara\">ءَامَنُ</span></a></div> <div class='features'><span class=\"sentiment xft\" ><span class=\"f\">sentiment=</span>3</span></div></div><div class=\"contnr c0 trm rtl  \" ><div class=\"lbl c0 trm \" ><span class=\"txtu ara\">وا۟ </span></div> </div></div></div><div class=\"contnr c1  rtl  \" ><div class=\"lbl c1  \" ><span class=\"nd\">group</span></div> <div class=\"children row  rtl\"><div class=\"contnr c0 trm rtl  \" ><div class=\"lbl c0 trm \" ><a target=\"_blank\" href=\"http://tanzil.net\" title=\"show this passage on Tanzil\"><span class=\"txtu ara\">ٱسْتَعِينُ</span></a></div> <div class='features'><span class=\"sentiment xft\" ><span class=\"f\">sentiment=</span>1</span></div></div><div class=\"contnr c0 trm rtl  \" ><div class=\"lbl c0 trm \" ><span class=\"txtu ara\">وا۟ </span></div> </div></div></div><div class=\"contnr c1  rtl  \" ><div class=\"lbl c1  \" ><span class=\"nd\">group</span></div> <div class=\"children row  rtl\"><div class=\"contnr c0 trm rtl  \" ><div class=\"lbl c0 trm \" ><span class=\"txtu ara\">بِ</span></div> </div><div class=\"contnr c0 trm rtl  \" ><div class=\"lbl c0 trm \" ><span class=\"txtu ara\">ٱل</span></div> </div><div class=\"contnr c0 trm rtl  \" ><div class=\"lbl c0 trm \" ><a target=\"_blank\" href=\"http://tanzil.net\" title=\"show this passage on Tanzil\"><span class=\"txtu ara\">صَّبْرِ </span></a></div> <div class='features'><span class=\"sentiment xft\" ><span class=\"f\">sentiment=</span>1</span></div></div></div></div><div class=\"contnr c1  rtl  \" ><div class=\"lbl c1  \" ><span class=\"nd\">group</span></div> <div class=\"children row  rtl\"><div class=\"contnr c0 trm rtl  \" ><div class=\"lbl c0 trm \" ><span class=\"txtu ara\">وَ</span></div> </div><div class=\"contnr c0 trm rtl  \" ><div class=\"lbl c0 trm \" ><span class=\"txtu ara\">ٱل</span></div> </div><div class=\"contnr c0 trm rtl  \" ><div class=\"lbl c0 trm \" ><a target=\"_blank\" href=\"http://tanzil.net\" title=\"show this passage on Tanzil\"><span class=\"txtu ara\">صَّلَوٰةِ </span></a></div> <div class='features'><span class=\"sentiment xft\" ><span class=\"f\">sentiment=</span>1</span></div></div></div></div><div class=\"contnr c1  rtl  \" ><div class=\"lbl c1  \" ><span class=\"nd\">group</span></div> <div class=\"children row  rtl\"><div class=\"contnr c0 trm rtl  \" ><div class=\"lbl c0 trm \" ><a target=\"_blank\" href=\"http://tanzil.net\" title=\"show this passage on Tanzil\"><span class=\"txtu ara\">إِنَّ </span></a></div> </div></div></div><div class=\"contnr c1  rtl  \" ><div class=\"lbl c1  \" ><span class=\"nd\">group</span></div> <div class=\"children row  rtl\"><div class=\"contnr c0 trm rtl  hl\" ><div class=\"lbl c0 trm hl\" ><a target=\"_blank\" href=\"http://tanzil.net\" title=\"show this passage on Tanzil\"><span class=\"txtu ara\">ٱللَّهَ </span></a></div> <div class='features'><span class=\"sentiment xft\" ><span class=\"f\">sentiment=</span>-21</span></div></div></div></div><div class=\"contnr c1  rtl  \" ><div class=\"lbl c1  \" ><span class=\"nd\">group</span></div> <div class=\"children row  rtl\"><div class=\"contnr c0 trm rtl  \" ><div class=\"lbl c0 trm \" ><a target=\"_blank\" href=\"http://tanzil.net\" title=\"show this passage on Tanzil\"><span class=\"txtu ara\">مَعَ </span></a></div> </div></div></div><div class=\"contnr c1  rtl  \" ><div class=\"lbl c1  \" ><span class=\"nd\">group</span></div> <div class=\"children row  rtl\"><div class=\"contnr c0 trm rtl  \" ><div class=\"lbl c0 trm \" ><span class=\"txtu ara\">ٱل</span></div> </div><div class=\"contnr c0 trm rtl  \" ><div class=\"lbl c0 trm \" ><a target=\"_blank\" href=\"http://tanzil.net\" title=\"show this passage on Tanzil\"><span class=\"txtu ara\">صَّٰبِرِينَ</span></a></div> <div class='features'><span class=\"sentiment xft\" ><span class=\"f\">sentiment=</span>1</span></div></div></div></div></div></div>"
      ],
      "text/plain": [
       "<IPython.core.display.HTML object>"
      ]
     },
     "metadata": {},
     "output_type": "display_data"
    }
   ],
   "source": [
    "A.show(results, start=1, end=5, condensed=True)"
   ]
  },
  {
   "cell_type": "markdown",
   "metadata": {},
   "source": [
    "# Export to Excel\n",
    "\n",
    "It is convenient to export this to Excel, for more intense inspection, aided by all the tools that Excel has to offer for sorting, filtering and making charts.\n",
    "\n",
    "We use the function \n",
    "[A.export()]()\n",
    "to do this.\n",
    "\n",
    "This function takes a list of node tuples, retrieves data about those nodes, and writes it to a .tsv file (tab-separated), that\n",
    "can be opened by Excel (even with Arabic characters)."
   ]
  },
  {
   "cell_type": "code",
   "execution_count": 50,
   "metadata": {},
   "outputs": [],
   "source": [
    "A.export(results)"
   ]
  },
  {
   "cell_type": "markdown",
   "metadata": {},
   "source": [
    "The result is now in your Downloads folder, with name `results.tsv`"
   ]
  },
  {
   "cell_type": "code",
   "execution_count": 51,
   "metadata": {},
   "outputs": [
    {
     "name": "stdout",
     "output_type": "stream",
     "text": [
      "-rw-r--r--@ 1 dirk  staff  204326 May  8 12:52 /Users/dirk/Downloads/results.tsv\n",
      "��R\u0000\t\u0000S\u00001\u0000\t\u0000S\u00002\u0000\t\u0000N\u0000O\u0000D\u0000E\u00001\u0000\t\u0000T\u0000Y\u0000P\u0000E\u00001\u0000\t\u0000n\u0000u\u0000m\u0000b\u0000e\u0000r\u00001\u0000\t\u0000N\u0000O\u0000D\u0000E\u00002\u0000\t\u0000T\u0000Y\u0000P\u0000E\u00002\u0000\t\u0000T\u0000E\u0000X\u0000T\u00002\u0000\t\u0000N\u0000O\u0000D\u0000E\u00003\u0000\t\u0000T\u0000Y\u0000P\u0000E\u00003\u0000\t\u0000T\u0000E\u0000X\u0000T\u00003\u0000\t\u0000p\u0000o\u0000s\u0000x\u00003\u0000\t\u0000N\u0000O\u0000D\u0000E\u00004\u0000\t\u0000T\u0000Y\u0000P\u0000E\u00004\u0000\t\u0000T\u0000E\u0000X\u0000T\u00004\u0000\t\u0000s\u0000e\u0000n\u0000t\u0000i\u0000m\u0000e\u0000n\u0000t\u00004\u0000\n",
      "\u00001\u0000\t\u00002\u0000\t\u00002\u00001\u0000\t\u00002\u00001\u00008\u00001\u00007\u00000\u0000\t\u0000s\u0000u\u0000r\u0000a\u0000\t\u00002\u0000\t\u00001\u00002\u00008\u00002\u00004\u00007\u0000\t\u0000a\u0000y\u0000a\u0000\t\u0000J\u0006N\u0006p\u0006S\u0006#\u0006N\u0006J\u0006Q\u0006O\u0006G\u0006N\u0006'\u0006 \u0000q\u0006D\u0006F\u0006Q\u0006N\u0006'\u00063\u0006O\u0006 \u0000q\u00069\u0006R\u0006(\u0006O\u0006/\u0006O\u0006H\u0006'\u0006�\u0006 \u00001\u0006N\u0006(\u0006Q\u0006N\u0006C\u0006O\u0006E\u0006O\u0006 \u0000q\u0006D\u0006Q\u0006N\u00060\u0006P\u0006I\u0006 \u0000.\u0006N\u0006D\u0006N\u0006B\u0006N\u0006C\u0006O\u0006E\u0006R\u0006 \u0000H\u0006N\u0006q\u0006D\u0006Q\u0006N\u00060\u0006P\u0006J\u0006F\u0006N\u0006 \u0000E\u0006P\u0006F\u0006 \u0000B\u0006N\u0006(\u0006R\u0006D\u0006P\u0006C\u0006O\u0006E\u0006R\u0006 \u0000D\u0006N\u00069\u0006N\u0006D\u0006Q\u0006N\u0006C\u0006O\u0006E\u0006R\u0006 \u0000*\u0006N\u0006*\u0006Q\u0006N\u0006B\u0006O\u0006H\u0006F\u0006N\u0006\t\u00004\u00003\u00003\u0000\t\u0000w\u0000o\u0000r\u0000d\u0000\t\u0000J\u0006N\u0006p\u0006S\u0006\t\u0000v\u0000o\u0000c\u0000a\u0000t\u0000i\u0000v\u0000e\u0000\t\u00004\u00003\u00009\u0000\t\u0000w\u0000o\u0000r\u0000d\u0000\t\u00001\u0006N\u0006(\u0006Q\u0006N\u0006\t\u0000-\u00001\u0000\n",
      "\u00002\u0000\t\u00002\u0000\t\u00002\u00001\u0000\t\u00002\u00001\u00008\u00001\u00007\u00000\u0000\t\u0000s\u0000u\u0000r\u0000a\u0000\t\u00002\u0000\t\u00001\u00002\u00008\u00002\u00004\u00007\u0000\t\u0000a\u0000y\u0000a\u0000\t\u0000J\u0006N\u0006p\u0006S\u0006#\u0006N\u0006J\u0006Q\u0006O\u0006G\u0006N\u0006'\u0006 \u0000q\u0006D\u0006F\u0006Q\u0006N\u0006'\u00063\u0006O\u0006 \u0000q\u00069\u0006R\u0006(\u0006O\u0006/\u0006O\u0006H\u0006'\u0006�\u0006 \u00001\u0006N\u0006(\u0006Q\u0006N\u0006C\u0006O\u0006E\u0006O\u0006 \u0000q\u0006D\u0006Q\u0006N\u00060\u0006P\u0006I\u0006 \u0000.\u0006N\u0006D\u0006N\u0006B\u0006N\u0006C\u0006O\u0006E\u0006R\u0006 \u0000H\u0006N\u0006q\u0006D\u0006Q\u0006N\u00060\u0006P\u0006J\u0006F\u0006N\u0006 \u0000E\u0006P\u0006F\u0006 \u0000B\u0006N\u0006(\u0006R\u0006D\u0006P\u0006C\u0006O\u0006E\u0006R\u0006 \u0000D\u0006N\u00069\u0006N\u0006D\u0006Q\u0006N\u0006C\u0006O\u0006E\u0006R\u0006 \u0000*\u0006N\u0006*\u0006Q\u0006N\u0006B\u0006O\u0006H\u0006F\u0006N\u0006\t\u00004\u00003\u00003\u0000\t\u0000w\u0000o\u0000r\u0000d\u0000\t\u0000J\u0006N\u0006p\u0006S\u0006\t\u0000v\u0000o\u0000c\u0000a\u0000t\u0000i\u0000v\u0000e\u0000\t\u00004\u00005\u00001\u0000\t\u0000w\u0000o\u0000r\u0000d\u0000\t\u0000*\u0006N\u0006*\u0006Q\u0006N\u0006B\u0006O\u0006\t\u0000-\u00001\u0000\n",
      "\u00003\u0000\t\u00002\u0000\t\u00004\u00000\u0000\t\u00002\u00001\u00008\u00001\u00007\u00000\u0000\t\u0000s\u0000u\u0000r\u0000a\u0000\t\u00002\u0000\t\u00001\u00002\u00008\u00002\u00006\u00006\u0000\t\u0000a\u0000y\u0000a\u0000\t\u0000J\u0006N\u0006p\u0006(\u0006N\u0006F\u0006P\u0006I\u0006S\u0006 \u0000%\u0006P\u00063\u0006R\u00061\u0006N\u0006p\u0006S\u0006!\u0006P\u0006J\u0006D\u0006N\u0006 \u0000q\u00060\u0006R\u0006C\u0006O\u00061\u0006O\u0006H\u0006'\u0006�\u0006 \u0000F\u0006P\u00069\u0006R\u0006E\u0006N\u0006*\u0006P\u0006I\u0006N\u0006 \u0000q\u0006D\u0006Q\u0006N\u0006*\u0006P\u0006I\u0006S\u0006 \u0000#\u0006N\u0006F\u0006R\u00069\u0006N\u0006E\u0006R\u0006*\u0006O\u0006 \u00009\u0006N\u0006D\u0006N\u0006J\u0006R\u0006C\u0006O\u0006E\u0006R\u0006 \u0000H\u0006N\u0006#\u0006N\u0006H\u0006R\u0006A\u0006O\u0006H\u0006'\u0006�\u0006 \u0000(\u0006P\u00069\u0006N\u0006G\u0006R\u0006/\u0006P\u0006I\u0006S\u0006 \u0000#\u0006O\u0006H\u0006A\u0006P\u0006 \u0000(\u0006P\u00069\u0006N\u0006G\u0006R\u0006/\u0006P\u0006C\u0006O\u0006E\u0006R\u0006 \u0000H\u0006N\u0006%\u0006P\u0006J\u0006Q\u0006N\u0006p\u0006I\u0006N\u0006 \u0000A\u0006N\u0006q\u00061\u0006R\u0006G\u0006N\u0006(\u0006O\u0006H\u0006F\u0006P\u0006\t\u00001\u00000\u00003\u00005\u0000\t\u0000w\u0000o\u0000r\u0000d\u0000\t\u0000J\u0006N\u0006p\u0006\t\u0000v\u0000o\u0000c\u0000a\u0000t\u0000i\u0000v\u0000e\u0000\t\u00001\u00000\u00003\u00008\u0000\t\u0000w\u0000o\u0000r\u0000d\u0000\t\u0000q\u00060\u0006R\u0006C\u0006O\u00061\u0006O\u0006\t\u0000-\u00001\u0000\n",
      "\u00004\u0000\t\u00002\u0000\t\u00004\u00007\u0000\t\u00002\u00001\u00008\u00001\u00007\u00000\u0000\t\u0000s\u0000u\u0000r\u0000a\u0000\t\u00002\u0000\t\u00001\u00002\u00008\u00002\u00007\u00003\u0000\t\u0000a\u0000y\u0000a\u0000\t\u0000J\u0006N\u0006p\u0006(\u0006N\u0006F\u0006P\u0006I\u0006S\u0006 \u0000%\u0006P\u00063\u0006R\u00061\u0006N\u0006p\u0006S\u0006!\u0006P\u0006J\u0006D\u0006N\u0006 \u0000q\u00060\u0006R\u0006C\u0006O\u00061\u0006O\u0006H\u0006'\u0006�\u0006 \u0000F\u0006P\u00069\u0006R\u0006E\u0006N\u0006*\u0006P\u0006I\u0006N\u0006 \u0000q\u0006D\u0006Q\u0006N\u0006*\u0006P\u0006I\u0006S\u0006 \u0000#\u0006N\u0006F\u0006R\u00069\u0006N\u0006E\u0006R\u0006*\u0006O\u0006 \u00009\u0006N\u0006D\u0006N\u0006J\u0006R\u0006C\u0006O\u0006E\u0006R\u0006 \u0000H\u0006N\u0006#\u0006N\u0006F\u0006Q\u0006P\u0006I\u0006 \u0000A\u0006N\u00066\u0006Q\u0006N\u0006D\u0006R\u0006*\u0006O\u0006C\u0006O\u0006E\u0006R\u0006 \u00009\u0006N\u0006D\u0006N\u0006I\u0006 \u0000q\u0006D\u0006R\u00069\u0006N\u0006p\u0006D\u0006N\u0006E\u0006P\u0006J\u0006F\u0006N\u0006\t\u00001\u00001\u00008\u00008\u0000\t\u0000w\u0000o\u0000r\u0000d\u0000\t\u0000J\u0006N\u0006p\u0006\t\u0000v\u0000o\u0000c\u0000a\u0000t\u0000i\u0000v\u0000e\u0000\t\u00001\u00001\u00009\u00001\u0000\t\u0000w\u0000o\u0000r\u0000d\u0000\t\u0000q\u00060\u0006R\u0006C\u0006O\u00061\u0006O\u0006\t\u0000-\u00001\u0000\n",
      "\u00005\u0000\t\u00002\u0000\t\u00004\u00007\u0000\t\u00002\u00001\u00008\u00001\u00007\u00000\u0000\t\u0000s\u0000u\u0000r\u0000a\u0000\t\u00002\u0000\t\u00001\u00002\u00008\u00002\u00007\u00003\u0000\t\u0000a\u0000y\u0000a\u0000\t\u0000J\u0006N\u0006p\u0006(\u0006N\u0006F\u0006P\u0006I\u0006S\u0006 \u0000%\u0006P\u00063\u0006R\u00061\u0006N\u0006p\u0006S\u0006!\u0006P\u0006J\u0006D\u0006N\u0006 \u0000q\u00060\u0006R\u0006C\u0006O\u00061\u0006O\u0006H\u0006'\u0006�\u0006 \u0000F\u0006P\u00069\u0006R\u0006E\u0006N\u0006*\u0006P\u0006I\u0006N\u0006 \u0000q\u0006D\u0006Q\u0006N\u0006*\u0006P\u0006I\u0006S\u0006 \u0000#\u0006N\u0006F\u0006R\u00069\u0006N\u0006E\u0006R\u0006*\u0006O\u0006 \u00009\u0006N\u0006D\u0006N\u0006J\u0006R\u0006C\u0006O\u0006E\u0006R\u0006 \u0000H\u0006N\u0006#\u0006N\u0006F\u0006Q\u0006P\u0006I\u0006 \u0000A\u0006N\u00066\u0006Q\u0006N\u0006D\u0006R\u0006*\u0006O\u0006C\u0006O\u0006E\u0006R\u0006 \u00009\u0006N\u0006D\u0006N\u0006I\u0006 \u0000q\u0006D\u0006R\u00069\u0006N\u0006p\u0006D\u0006N\u0006E\u0006P\u0006J\u0006F\u0006N\u0006\t\u00001\u00001\u00008\u00008\u0000\t\u0000w\u0000o\u0000r\u0000d\u0000\t\u0000J\u0006N\u0006p\u0006\t\u0000v\u0000o\u0000c\u0000a\u0000t\u0000i\u0000v\u0000e\u0000\t\u00001\u00002\u00000\u00003\u0000\t\u0000w\u0000o\u0000r\u0000d\u0000\t\u0000A\u0006N\u00066\u0006Q\u0006N\u0006D\u0006R\u0006\t\u0000-\u00001\u0000\n",
      "\u00006\u0000\t\u00002\u0000\t\u00004\u00007\u0000\t\u00002\u00001\u00008\u00001\u00007\u00000\u0000\t\u0000s\u0000u\u0000r\u0000a\u0000\t\u00002\u0000\t\u00001\u00002\u00008\u00002\u00007\u00003\u0000\t\u0000a\u0000y\u0000a\u0000\t\u0000J\u0006N\u0006p\u0006(\u0006N\u0006F\u0006P\u0006I\u0006S\u0006 \u0000%\u0006P\u00063\u0006R\u00061\u0006N\u0006p\u0006S\u0006!\u0006P\u0006J\u0006D\u0006N\u0006 \u0000q\u00060\u0006R\u0006C\u0006O\u00061\u0006O\u0006H\u0006'\u0006�\u0006 \u0000F\u0006P\u00069\u0006R\u0006E\u0006N\u0006*\u0006P\u0006I\u0006N\u0006 \u0000q\u0006D\u0006Q\u0006N\u0006*\u0006P\u0006I\u0006S\u0006 \u0000#\u0006N\u0006F\u0006R\u00069\u0006N\u0006E\u0006R\u0006*\u0006O\u0006 \u00009\u0006N\u0006D\u0006N\u0006J\u0006R\u0006C\u0006O\u0006E\u0006R\u0006 \u0000H\u0006N\u0006#\u0006N\u0006F\u0006Q\u0006P\u0006I\u0006 \u0000A\u0006N\u00066\u0006Q\u0006N\u0006D\u0006R\u0006*\u0006O\u0006C\u0006O\u0006E\u0006R\u0006 \u00009\u0006N\u0006D\u0006N\u0006I\u0006 \u0000q\u0006D\u0006R\u00069\u0006N\u0006p\u0006D\u0006N\u0006E\u0006P\u0006J\u0006F\u0006N\u0006\t\u00001\u00001\u00008\u00008\u0000\t\u0000w\u0000o\u0000r\u0000d\u0000\t\u0000J\u0006N\u0006p\u0006\t\u0000v\u0000o\u0000c\u0000a\u0000t\u0000i\u0000v\u0000e\u0000\t\u00001\u00002\u00000\u00008\u0000\t\u0000w\u0000o\u0000r\u0000d\u0000\t\u00009\u0006N\u0006p\u0006D\u0006N\u0006E\u0006P\u0006J\u0006F\u0006N\u0006\t\u0000-\u00001\u0000\n",
      "\u00007\u0000\t\u00002\u0000\t\u00001\u00002\u00002\u0000\t\u00002\u00001\u00008\u00001\u00007\u00000\u0000\t\u0000s\u0000u\u0000r\u0000a\u0000\t\u00002\u0000\t\u00001\u00002\u00008\u00003\u00004\u00008\u0000\t\u0000a\u0000y\u0000a\u0000\t\u0000J\u0006N\u0006p\u0006(\u0006N\u0006F\u0006P\u0006I\u0006S\u0006 \u0000%\u0006P\u00063\u0006R\u00061\u0006N\u0006p\u0006S\u0006!\u0006P\u0006J\u0006D\u0006N\u0006 \u0000q\u00060\u0006R\u0006C\u0006O\u00061\u0006O\u0006H\u0006'\u0006�\u0006 \u0000F\u0006P\u00069\u0006R\u0006E\u0006N\u0006*\u0006P\u0006I\u0006N\u0006 \u0000q\u0006D\u0006Q\u0006N\u0006*\u0006P\u0006I\u0006S\u0006 \u0000#\u0006N\u0006F\u0006R\u00069\u0006N\u0006E\u0006R\u0006*\u0006O\u0006 \u00009\u0006N\u0006D\u0006N\u0006J\u0006R\u0006C\u0006O\u0006E\u0006R\u0006 \u0000H\u0006N\u0006#\u0006N\u0006F\u0006Q\u0006P\u0006I\u0006 \u0000A\u0006N\u00066\u0006Q\u0006N\u0006D\u0006R\u0006*\u0006O\u0006C\u0006O\u0006E\u0006R\u0006 \u00009\u0006N\u0006D\u0006N\u0006I\u0006 \u0000q\u0006D\u0006R\u00069\u0006N\u0006p\u0006D\u0006N\u0006E\u0006P\u0006J\u0006F\u0006N\u0006\t\u00003\u00006\u00005\u00003\u0000\t\u0000w\u0000o\u0000r\u0000d\u0000\t\u0000J\u0006N\u0006p\u0006\t\u0000v\u0000o\u0000c\u0000a\u0000t\u0000i\u0000v\u0000e\u0000\t\u00003\u00006\u00005\u00006\u0000\t\u0000w\u0000o\u0000r\u0000d\u0000\t\u0000q\u00060\u0006R\u0006C\u0006O\u00061\u0006O\u0006\t\u0000-\u00001\u0000\n",
      "\u00008\u0000\t\u00002\u0000\t\u00001\u00002\u00002\u0000\t\u00002\u00001\u00008\u00001\u00007\u00000\u0000\t\u0000s\u0000u\u0000r\u0000a\u0000\t\u00002\u0000\t\u00001\u00002\u00008\u00003\u00004\u00008\u0000\t\u0000a\u0000y\u0000a\u0000\t\u0000J\u0006N\u0006p\u0006(\u0006N\u0006F\u0006P\u0006I\u0006S\u0006 \u0000%\u0006P\u00063\u0006R\u00061\u0006N\u0006p\u0006S\u0006!\u0006P\u0006J\u0006D\u0006N\u0006 \u0000q\u00060\u0006R\u0006C\u0006O\u00061\u0006O\u0006H\u0006'\u0006�\u0006 \u0000F\u0006P\u00069\u0006R\u0006E\u0006N\u0006*\u0006P\u0006I\u0006N\u0006 \u0000q\u0006D\u0006Q\u0006N\u0006*\u0006P\u0006I\u0006S\u0006 \u0000#\u0006N\u0006F\u0006R\u00069\u0006N\u0006E\u0006R\u0006*\u0006O\u0006 \u00009\u0006N\u0006D\u0006N\u0006J\u0006R\u0006C\u0006O\u0006E\u0006R\u0006 \u0000H\u0006N\u0006#\u0006N\u0006F\u0006Q\u0006P\u0006I\u0006 \u0000A\u0006N\u00066\u0006Q\u0006N\u0006D\u0006R\u0006*\u0006O\u0006C\u0006O\u0006E\u0006R\u0006 \u00009\u0006N\u0006D\u0006N\u0006I\u0006 \u0000q\u0006D\u0006R\u00069\u0006N\u0006p\u0006D\u0006N\u0006E\u0006P\u0006J\u0006F\u0006N\u0006\t\u00003\u00006\u00005\u00003\u0000\t\u0000w\u0000o\u0000r\u0000d\u0000\t\u0000J\u0006N\u0006p\u0006\t\u0000v\u0000o\u0000c\u0000a\u0000t\u0000i\u0000v\u0000e\u0000\t\u00003\u00006\u00006\u00008\u0000\t\u0000w\u0000o\u0000r\u0000d\u0000\t\u0000A\u0006N\u00066\u0006Q\u0006N\u0006D\u0006R\u0006\t\u0000-\u00001\u0000\n",
      "\u00009\u0000\t\u00002\u0000\t\u00001\u00002\u00002\u0000\t\u00002\u00001\u00008\u00001\u00007\u00000\u0000\t\u0000s\u0000u\u0000r\u0000a\u0000\t\u00002\u0000\t\u00001\u00002\u00008\u00003\u00004\u00008\u0000\t\u0000a\u0000y\u0000a\u0000\t\u0000J\u0006N\u0006p\u0006(\u0006N\u0006F\u0006P\u0006I\u0006S\u0006 \u0000%\u0006P\u00063\u0006R\u00061\u0006N\u0006p\u0006S\u0006!\u0006P\u0006J\u0006D\u0006N\u0006 \u0000q\u00060\u0006R\u0006C\u0006O\u00061\u0006O\u0006H\u0006'\u0006�\u0006 \u0000F\u0006P\u00069\u0006R\u0006E\u0006N\u0006*\u0006P\u0006I\u0006N\u0006 \u0000q\u0006D\u0006Q\u0006N\u0006*\u0006P\u0006I\u0006S\u0006 \u0000#\u0006N\u0006F\u0006R\u00069\u0006N\u0006E\u0006R\u0006*\u0006O\u0006 \u00009\u0006N\u0006D\u0006N\u0006J\u0006R\u0006C\u0006O\u0006E\u0006R\u0006 \u0000H\u0006N\u0006#\u0006N\u0006F\u0006Q\u0006P\u0006I\u0006 \u0000A\u0006N\u00066\u0006Q\u0006N\u0006D\u0006R\u0006*\u0006O\u0006C\u0006O\u0006E\u0006R\u0006 \u00009\u0006N\u0006D\u0006N\u0006I\u0006 \u0000q\u0006D\u0006R\u00069\u0006N\u0006p\u0006D\u0006N\u0006E\u0006P\u0006J\u0006F\u0006N\u0006\t\u00003\u00006\u00005\u00003\u0000\t\u0000w\u0000o\u0000r\u0000d\u0000\t\u0000J\u0006N\u0006p\u0006\t\u0000v\u0000o\u0000c\u0000a\u0000t\u0000i\u0000v\u0000e\u0000\t\u00003\u00006\u00007\u00003\u0000\t\u0000w\u0000o\u0000r\u0000d\u0000\t\u00009\u0006N\u0006p\u0006D\u0006N\u0006E\u0006P\u0006J\u0006F\u0006N\u0006\t\u0000-\u00001\u0000\n"
     ]
    }
   ],
   "source": [
    "%%sh\n",
    "ls -l ~/Downloads/results.tsv\n",
    "head -n 10 ~/Downloads/results.tsv"
   ]
  },
  {
   "cell_type": "markdown",
   "metadata": {},
   "source": [
    "Not very pretty, because the file is in utf16 and the terminal does not handle that well.\n",
    "But this is the encoding that Excel can use, and there it looks allright:\n",
    "\n",
    "![nega](images/negativeExcel.png)"
   ]
  },
  {
   "cell_type": "markdown",
   "metadata": {},
   "source": [
    "# Share your data\n",
    "\n",
    "You can share the new `sentiment` feature in such a way that others can use it easily, even more easy than we just did.\n",
    "\n",
    "The thing to do is:\n",
    "\n",
    "* use text-fabric to store your features in a zip file\n",
    "* make or use a github repository\n",
    "* create a new release and add the zip file to it\n",
    "\n",
    "These steps are explained in the [share](share.ipynb) tutorial.\n",
    "There we made an even cruder feature `sentiment`, with words in all suras, and stored it on GitHub\n",
    "in\n",
    "[q-ran/exercises/mining/tf](https://github.com/q-ran/exercises/tree/master/mining/tf/0.3)."
   ]
  },
  {
   "cell_type": "markdown",
   "metadata": {},
   "source": [
    "# Re-use your data\n",
    "\n",
    "That means that we can call up that data alongside the Quran data by passing an extra argument to `use()`:"
   ]
  },
  {
   "cell_type": "code",
   "execution_count": 52,
   "metadata": {},
   "outputs": [
    {
     "name": "stdout",
     "output_type": "stream",
     "text": [
      "Using TF-app in /Users/dirk/github/annotation/app-quran/code:\n",
      "\trepo clone offline under ~/github (local github)\n",
      "Using data in /Users/dirk/github/q-ran/quran/tf/0.4:\n",
      "\trepo clone offline under ~/github (local github)\n",
      "Using data in /Users/dirk/github/q-ran/exercises/mining/tf/0.4:\n",
      "\trepo clone offline under ~/github (local github)\n"
     ]
    },
    {
     "data": {
      "text/html": [
       "<b>Documentation:</b> <a target=\"_blank\" href=\"https://github.com/q-ran/quran/blob/master/docs/features.md\" title=\"provenance of Quran\">QURAN</a> <a target=\"_blank\" href=\"https://annotation.github.io/text-fabric/Writing/Transcription/Arabic\" title=\"How TF features represent text\">Character table</a> <a target=\"_blank\" href=\"https://github.com/q-ran/quran/blob/master/docs/features.md\" title=\"QURAN feature documentation\">Feature docs</a> <a target=\"_blank\" href=\"https://github.com/annotation/app-quran\" title=\"quran API documentation\">quran API</a> <a target=\"_blank\" href=\"https://annotation.github.io/text-fabric/Api/Fabric/\" title=\"text-fabric-api\">Text-Fabric API 8.0.0</a> <a target=\"_blank\" href=\"https://annotation.github.io/text-fabric/Use/Search/\" title=\"Search Templates Introduction and Reference\">Search Reference</a><details open><summary><b>Loaded features</b>:</summary>\n",
       "<p><b>q-ran/exercises/mining/tf</b>: <a target=\"_blank\" href=\"https://github.com/q-ran/exercises/tree/master/mining/tf\" title=\"/Users/dirk/github/q-ran/exercises/mining/tf/0.4/sentiment.tf\">sentiment</a> </p><p><b>Quran</b>: <a target=\"_blank\" href=\"https://github.com/q-ran/quran/blob/master/docs/features.md\" title=\"/Users/dirk/github/q-ran/quran/tf/0.4/a.tf\">a</a>  <a target=\"_blank\" href=\"https://github.com/q-ran/quran/blob/master/docs/features.md\" title=\"/Users/dirk/github/q-ran/quran/tf/0.4/ascii.tf\">ascii</a>  <a target=\"_blank\" href=\"https://github.com/q-ran/quran/blob/master/docs/features.md\" title=\"/Users/dirk/github/q-ran/quran/tf/0.4/ax.tf\">ax</a>  <a target=\"_blank\" href=\"https://github.com/q-ran/quran/blob/master/docs/features.md\" title=\"/Users/dirk/github/q-ran/quran/tf/0.4/case.tf\">case</a>  <a target=\"_blank\" href=\"https://github.com/q-ran/quran/blob/master/docs/features.md\" title=\"/Users/dirk/github/q-ran/quran/tf/0.4/component.tf\">component</a>  <a target=\"_blank\" href=\"https://github.com/q-ran/quran/blob/master/docs/features.md\" title=\"/Users/dirk/github/q-ran/quran/tf/0.4/definite.tf\">definite</a>  <a target=\"_blank\" href=\"https://github.com/q-ran/quran/blob/master/docs/features.md\" title=\"/Users/dirk/github/q-ran/quran/tf/0.4/f.tf\">f</a>  <a target=\"_blank\" href=\"https://github.com/q-ran/quran/blob/master/docs/features.md\" title=\"/Users/dirk/github/q-ran/quran/tf/0.4/formation.tf\">formation</a>  <a target=\"_blank\" href=\"https://github.com/q-ran/quran/blob/master/docs/features.md\" title=\"/Users/dirk/github/q-ran/quran/tf/0.4/fx.tf\">fx</a>  <a target=\"_blank\" href=\"https://github.com/q-ran/quran/blob/master/docs/features.md\" title=\"/Users/dirk/github/q-ran/quran/tf/0.4/gn.tf\">gn</a>  <a target=\"_blank\" href=\"https://github.com/q-ran/quran/blob/master/docs/features.md\" title=\"/Users/dirk/github/q-ran/quran/tf/0.4/interjection.tf\">interjection</a>  <a target=\"_blank\" href=\"https://github.com/q-ran/quran/blob/master/docs/features.md\" title=\"/Users/dirk/github/q-ran/quran/tf/0.4/l.tf\">l</a>  <a target=\"_blank\" href=\"https://github.com/q-ran/quran/blob/master/docs/features.md\" title=\"/Users/dirk/github/q-ran/quran/tf/0.4/lemma.tf\">lemma</a>  <a target=\"_blank\" href=\"https://github.com/q-ran/quran/blob/master/docs/features.md\" title=\"/Users/dirk/github/q-ran/quran/tf/0.4/lx.tf\">lx</a>  <a target=\"_blank\" href=\"https://github.com/q-ran/quran/blob/master/docs/features.md\" title=\"/Users/dirk/github/q-ran/quran/tf/0.4/mood.tf\">mood</a>  <a target=\"_blank\" href=\"https://github.com/q-ran/quran/blob/master/docs/features.md\" title=\"/Users/dirk/github/q-ran/quran/tf/0.4/n.tf\">n</a>  <a target=\"_blank\" href=\"https://github.com/q-ran/quran/blob/master/docs/features.md\" title=\"/Users/dirk/github/q-ran/quran/tf/0.4/name.tf\">name</a>  <a target=\"_blank\" href=\"https://github.com/q-ran/quran/blob/master/docs/features.md\" title=\"/Users/dirk/github/q-ran/quran/tf/0.4/name@en.tf\">name@ll</a>  <a target=\"_blank\" href=\"https://github.com/q-ran/quran/blob/master/docs/features.md\" title=\"/Users/dirk/github/q-ran/quran/tf/0.4/nameAscii.tf\">nameAscii</a>  <a target=\"_blank\" href=\"https://github.com/q-ran/quran/blob/master/docs/features.md\" title=\"/Users/dirk/github/q-ran/quran/tf/0.4/nameTrans.tf\">nameTrans</a>  <a target=\"_blank\" href=\"https://github.com/q-ran/quran/blob/master/docs/features.md\" title=\"/Users/dirk/github/q-ran/quran/tf/0.4/nu.tf\">nu</a>  <a target=\"_blank\" href=\"https://github.com/q-ran/quran/blob/master/docs/features.md\" title=\"/Users/dirk/github/q-ran/quran/tf/0.4/number.tf\">number</a>  <a target=\"_blank\" href=\"https://github.com/q-ran/quran/blob/master/docs/features.md\" title=\"/Users/dirk/github/q-ran/quran/tf/0.4/order.tf\">order</a>  <a target=\"_blank\" href=\"https://github.com/q-ran/quran/blob/master/docs/features.md\" title=\"/Users/dirk/github/q-ran/quran/tf/0.4/otype.tf\">otype</a>  <a target=\"_blank\" href=\"https://github.com/q-ran/quran/blob/master/docs/features.md\" title=\"/Users/dirk/github/q-ran/quran/tf/0.4/pos.tf\">pos</a>  <a target=\"_blank\" href=\"https://github.com/q-ran/quran/blob/master/docs/features.md\" title=\"/Users/dirk/github/q-ran/quran/tf/0.4/posx.tf\">posx</a>  <a target=\"_blank\" href=\"https://github.com/q-ran/quran/blob/master/docs/features.md\" title=\"/Users/dirk/github/q-ran/quran/tf/0.4/ps.tf\">ps</a>  <a target=\"_blank\" href=\"https://github.com/q-ran/quran/blob/master/docs/features.md\" title=\"/Users/dirk/github/q-ran/quran/tf/0.4/root.tf\">root</a>  <a target=\"_blank\" href=\"https://github.com/q-ran/quran/blob/master/docs/features.md\" title=\"/Users/dirk/github/q-ran/quran/tf/0.4/sp.tf\">sp</a>  <a target=\"_blank\" href=\"https://github.com/q-ran/quran/blob/master/docs/features.md\" title=\"/Users/dirk/github/q-ran/quran/tf/0.4/space.tf\">space</a>  <a target=\"_blank\" href=\"https://github.com/q-ran/quran/blob/master/docs/features.md\" title=\"/Users/dirk/github/q-ran/quran/tf/0.4/tense.tf\">tense</a>  <a target=\"_blank\" href=\"https://github.com/q-ran/quran/blob/master/docs/features.md\" title=\"/Users/dirk/github/q-ran/quran/tf/0.4/translation@en.tf\">translation@ll</a>  <a target=\"_blank\" href=\"https://github.com/q-ran/quran/blob/master/docs/features.md\" title=\"/Users/dirk/github/q-ran/quran/tf/0.4/type.tf\">type</a>  <a target=\"_blank\" href=\"https://github.com/q-ran/quran/blob/master/docs/features.md\" title=\"/Users/dirk/github/q-ran/quran/tf/0.4/unicode.tf\">unicode</a>  <a target=\"_blank\" href=\"https://github.com/q-ran/quran/blob/master/docs/features.md\" title=\"/Users/dirk/github/q-ran/quran/tf/0.4/voice.tf\">voice</a>  <a target=\"_blank\" href=\"https://github.com/q-ran/quran/blob/master/docs/features.md\" title=\"/Users/dirk/github/q-ran/quran/tf/0.4/w.tf\">w</a>  <a target=\"_blank\" href=\"https://github.com/q-ran/quran/blob/master/docs/features.md\" title=\"/Users/dirk/github/q-ran/quran/tf/0.4/wx.tf\">wx</a>  <b><i><a target=\"_blank\" href=\"https://github.com/q-ran/quran/blob/master/docs/features.md\" title=\"/Users/dirk/github/q-ran/quran/tf/0.4/oslots.tf\">oslots</a></i></b> </p></details>"
      ],
      "text/plain": [
       "<IPython.core.display.HTML object>"
      ]
     },
     "metadata": {},
     "output_type": "display_data"
    },
    {
     "data": {
      "text/html": [
       "<style>tr.tf, td.tf, th.tf { text-align: left ! important;}@font-face {\n",
       "  font-family: \"Ezra SIL\";\n",
       "  src: local('Ezra SIL'), local('EzraSIL'),\n",
       "    url('/server/static/fonts/SILEOT.woff') format('woff'),\n",
       "    url('https://github.com/annotation/text-fabric/blob/master/tf/server/static/fonts/SILEOT.woff?raw=true') format('woff');\n",
       "}\n",
       "\n",
       "@font-face {\n",
       "  font-family: \"SBL Hebrew\";\n",
       "  src: local('SBL Hebrew'), local('SBLHebrew'),\n",
       "    url('/server/static/fonts/SBL_Hbrw.woff') format('woff'),\n",
       "    url('https://github.com/annotation/text-fabric/blob/master/tf/server/static/fonts/SBL_Hbrw.woff?raw=true') format('woff');\n",
       "}\n",
       "\n",
       "@font-face {\n",
       "  font-family: \"Estrangelo Edessa\";\n",
       "  src: local('Estrangelo Edessa'), local('EstrangeloEdessa');\n",
       "    url('/server/static/fonts/SyrCOMEdessa.woff') format('woff'),\n",
       "    url('https://github.com/annotation/text-fabric/blob/master/tf/server/static/fonts/SyrCOMEdessa.woff?raw=true') format('woff');\n",
       "}\n",
       "\n",
       "@font-face {\n",
       "  font-family: AmiriQuran;\n",
       "  font-style: normal;\n",
       "  font-weight: 400;\n",
       "  src: local('Amiri Quran'), local('AmiriQuran'),\n",
       "    url('/server/static/fonts/AmiriQuran.woff') format('woff'),\n",
       "    url('https://github.com/annotation/text-fabric/blob/master/tf/server/static/fonts/AmiriQuran.woff?raw=true') format('woff');\n",
       "}\n",
       "\n",
       "@font-face {\n",
       "  font-family: AmiriQuranColored;\n",
       "  font-style: normal;\n",
       "  font-weight: 400;\n",
       "  src: local('Amiri Quran Colored'), local('AmiriQuranColored'),\n",
       "    url('/server/static/fonts/AmiriQuranColored.woff') format('woff'),\n",
       "    url('https://github.com/annotation/text-fabric/blob/master/tf/server/static/fonts/AmiriQuranColored.woff?raw=true') format('woff');\n",
       "}\n",
       "\n",
       "@font-face {\n",
       "  font-family: \"Santakku\";\n",
       "  src: local('Santakku'),\n",
       "    url('/server/static/fonts/Santakku.woff') format('woff'),\n",
       "    url('https://github.com/annotation/text-fabric/blob/master/tf/server/static/fonts/Santakku.woff?raw=true') format('woff');\n",
       "}\n",
       "\n",
       "@font-face {\n",
       "  font-family: \"SantakkuM\";\n",
       "  src: local('SantakkuM'),\n",
       "    url('/server/static/fonts/SantakkuM.woff') format('woff'),\n",
       "    url('https://github.com/annotation/text-fabric/blob/master/tf/server/static/fonts/SantakkuM.woff?raw=true') format('woff');\n",
       "}\n",
       "/* neutral text */\n",
       ".txtn,.txtn a:visited,.txtn a:link {\n",
       "    font-family: sans-serif;\n",
       "    font-size: medium;\n",
       "    direction: ltr;\n",
       "    text-decoration: none;\n",
       "    color: var(--text-color);\n",
       "}\n",
       "/* transcription text */\n",
       ".txtt,.txtt a:visited,.txtt a:link {\n",
       "    font-family: monospace;\n",
       "    font-size: medium;\n",
       "    direction: ltr;\n",
       "    text-decoration: none;\n",
       "    color: var(--text-color);\n",
       "}\n",
       "/* source text */\n",
       ".txto,.txto a:visited,.txto a:link {\n",
       "    font-family: serif;\n",
       "    font-size: medium;\n",
       "    direction: ltr;\n",
       "    text-decoration: none;\n",
       "    color: var(--text-color);\n",
       "}\n",
       "/* phonetic text */\n",
       ".txtp,.txtp a:visited,.txtp a:link {\n",
       "    font-family: Gentium, sans-serif;\n",
       "    font-size: large;\n",
       "    direction: ltr;\n",
       "    text-decoration: none;\n",
       "    color: var(--text-color);\n",
       "}\n",
       "/* original script text */\n",
       ".txtu,.txtu a:visited,.txtu a:link {\n",
       "    font-family: Gentium, sans-serif;\n",
       "    font-size: large;\n",
       "    text-decoration: none;\n",
       "    color: var(--text-color);\n",
       "}\n",
       "/* hebrew */\n",
       ".txtu.hbo,.lex.hbo {\n",
       "    font-family: \"Ezra SIL\", \"SBL Hebrew\", sans-serif;\n",
       "    font-size: x-large;\n",
       "    direction: rtl ! important;\n",
       "    unicode-bidi: embed;\n",
       "}\n",
       "/* syriac */\n",
       ".txtu.syc,.lex.syc {\n",
       "    font-family: \"Estrangelo Edessa\", sans-serif;\n",
       "    font-size: large;\n",
       "    direction: rtl ! important;\n",
       "    unicode-bidi: embed;\n",
       "}\n",
       "/* neo aramaic */\n",
       ".txtu.cld,.lex.cld {\n",
       "    font-family: \"CharisSIL-R\", sans-serif;\n",
       "    font-size: medium;\n",
       "    direction: ltr ! important;\n",
       "    unicode-bidi: embed;\n",
       "}\n",
       "/* standard arabic */\n",
       ".txtu.ara,.lex.ara {\n",
       "    font-family: \"AmiriQuran\", sans-serif;\n",
       "    font-size: large;\n",
       "    direction: rtl ! important;\n",
       "    unicode-bidi: embed;\n",
       "}\n",
       "/* cuneiform */\n",
       ".txtu.akk,.lex.akk {\n",
       "    font-family: Santakku, sans-serif;\n",
       "    font-size: x-large;\n",
       "    direction: ltr ! important;\n",
       "    unicode-bidi: embed;\n",
       "}\n",
       "/* greek */\n",
       ".txtu.grc,.lex.grc a:link {\n",
       "    font-family: Gentium, sans-serif;\n",
       "    font-size: medium;\n",
       "    direction: ltr ! important;\n",
       "    unicode-bidi: embed;\n",
       "}\n",
       "a:hover {\n",
       "    text-decoration: underline | important;\n",
       "    color: #0000ff | important;\n",
       "}\n",
       ".ltr {\n",
       "    direction: ltr ! important;\n",
       "}\n",
       ".rtl {\n",
       "    direction: rtl ! important;\n",
       "}\n",
       "span.plain {\n",
       "    display: inline-block;\n",
       "    white-space: pre-wrap;\n",
       "    text-align: start;\n",
       "}\n",
       ".features {\n",
       "    font-family: monospace;\n",
       "    font-size: medium;\n",
       "    font-weight: bold;\n",
       "    color: var(--features);\n",
       "    display: flex;\n",
       "    flex-flow: column nowrap;\n",
       "    justify-content: flex-start;\n",
       "    align-items: flex-start;\n",
       "    align-content: flex-start;\n",
       "    padding: 0.1rem;\n",
       "    margin: 0.1rem;\n",
       "    direction: ltr;\n",
       "    border: var(--meta-width) solid var(--meta-color);\n",
       "    border-radius: var(--meta-width);\n",
       "}\n",
       ".features div,.features span {\n",
       "    padding: 0;\n",
       "    margin: -0.1rem 0;\n",
       "}\n",
       ".features .f {\n",
       "    font-family: sans-serif;\n",
       "    font-size: small;\n",
       "    font-weight: normal;\n",
       "    color: #5555bb;\n",
       "}\n",
       ".features .xft {\n",
       "  color: #000000;\n",
       "  background-color: #eeeeee;\n",
       "  font-size: medium;\n",
       "  margin: 0.1rem 0rem;\n",
       "}\n",
       ".features .xft .f {\n",
       "  color: #000000;\n",
       "  background-color: #eeeeee;\n",
       "  font-size: small;\n",
       "  font-weight: normal;\n",
       "}\n",
       ".section {\n",
       "    font-family: sans-serif;\n",
       "    font-size: small;\n",
       "    font-weight: bold;\n",
       "    color: var(--section);\n",
       "}\n",
       ".structure {\n",
       "    font-family: sans-serif;\n",
       "    font-size: small;\n",
       "    font-weight: bold;\n",
       "    color: var(--structure);\n",
       "}\n",
       ".comments {\n",
       "    display: flex;\n",
       "    justify-content: flex-start;\n",
       "    align-items: flex-start;\n",
       "    align-content: flex-start;\n",
       "    flex-flow: column nowrap;\n",
       "}\n",
       ".nd {\n",
       "    font-family: sans-serif;\n",
       "    font-size: small;\n",
       "    color: var(--node);\n",
       "    vertical-align: super;\n",
       "}\n",
       ".lex {\n",
       "  color: var(--lex-color);;\n",
       "}\n",
       ".children,.children.ltr {\n",
       "    display: flex;\n",
       "    border: 0;\n",
       "    background-color: #ffffff;\n",
       "    justify-content: flex-start;\n",
       "    align-items: flex-start;\n",
       "    align-content: flex-start;\n",
       "}\n",
       ".children.stretch {\n",
       "    align-items: stretch;\n",
       "}\n",
       ".children.row {\n",
       "    flex-flow: row nowrap;\n",
       "}\n",
       ".children.row.wrap {\n",
       "    flex-flow: row wrap;\n",
       "}\n",
       ".children.col {\n",
       "    flex-flow: column nowrap;\n",
       "}\n",
       ".children.col.wrap {\n",
       "    flex-flow: column wrap;\n",
       "}\n",
       ".contnr {\n",
       "    width: fit-content;\n",
       "    display: flex;\n",
       "    justify-content: flex-start;\n",
       "    align-items: flex-start;\n",
       "    align-content: flex-start;\n",
       "    flex-flow: column nowrap;\n",
       "    background: #ffffff none repeat scroll 0 0;\n",
       "    padding:  0.5rem 0.1rem 0.1rem 0.1rem;\n",
       "    margin: 0.8rem 0.1rem 0.1rem 0.1rem;\n",
       "    border-style: solid;\n",
       "    font-size: small;\n",
       "}\n",
       ".contnr.trm {\n",
       "    background-attachment: local;\n",
       "}\n",
       ".contnr.cnul {\n",
       "    padding:  0;\n",
       "    margin: 0;\n",
       "    border-style: solid;\n",
       "    font-size: xx-small;\n",
       "}\n",
       ".contnr.cnul,.lbl.cnul {\n",
       "    border-color: var(--border-color-nul);\n",
       "    border-width: var(--border-width-nul);\n",
       "    border-radius: var(--border-width-nul);\n",
       "}\n",
       ".contnr.c0,.lbl.c0 {\n",
       "    border-color: var(--border-color0);\n",
       "    border-width: var(--border-width0);\n",
       "    border-radius: var(--border-width0);\n",
       "}\n",
       ".contnr.c1,.lbl.c1 {\n",
       "    border-color: var(--border-color1);\n",
       "    border-width: var(--border-width1);\n",
       "    border-radius: var(--border-width1);\n",
       "}\n",
       ".contnr.c2,.lbl.c2 {\n",
       "    border-color: var(--border-color2);\n",
       "    border-width: var(--border-width2);\n",
       "    border-radius: var(--border-width2);\n",
       "}\n",
       ".contnr.c3,.lbl.c3 {\n",
       "    border-color: var(--border-color3);\n",
       "    border-width: var(--border-width3);\n",
       "    border-radius: var(--border-width3);\n",
       "}\n",
       ".contnr.c4,.lbl.c4 {\n",
       "    border-color: var(--border-color4);\n",
       "    border-width: var(--border-width4);\n",
       "    border-radius: var(--border-width4);\n",
       "}\n",
       ".contnr.l {\n",
       "    border-left-style: dotted\n",
       "}\n",
       ".contnr.r {\n",
       "    border-right-style: dotted\n",
       "}\n",
       ".contnr.lno {\n",
       "    border-left-style: none\n",
       "}\n",
       ".contnr.rno {\n",
       "    border-right-style: none\n",
       "}\n",
       ".lbl {\n",
       "    font-family: monospace;\n",
       "    margin-top: -1.2rem;\n",
       "    margin-left: 1rem;\n",
       "    background: #ffffff none repeat scroll 0 0;\n",
       "    padding: 0 0.3rem;\n",
       "    border-style: solid;\n",
       "    display: block;\n",
       "    color: var(--label)\n",
       "}\n",
       ".lbl.trm {\n",
       "    background-attachment: local;\n",
       "    margin-top: 0.1rem;\n",
       "    margin-left: 0.1rem;\n",
       "    padding: 0.1rem 0.1rem;\n",
       "    border-style: none;\n",
       "}\n",
       ".lbl.cnul {\n",
       "    font-size: xx-small;\n",
       "}\n",
       ".lbl.c0 {\n",
       "    font-size: small;\n",
       "}\n",
       ".lbl.c1 {\n",
       "    font-size: small;\n",
       "}\n",
       ".lbl.c2 {\n",
       "    font-size: medium;\n",
       "}\n",
       ".lbl.c3 {\n",
       "    font-size: medium;\n",
       "}\n",
       ".lbl.c4 {\n",
       "    font-size: large;\n",
       "}\n",
       ".occs {\n",
       "    font-size: small;\n",
       "}\n",
       "\n",
       ":root {\n",
       "\t--node:             hsla(120, 100%,  20%, 1.0  );\n",
       "\t--label:            hsla(  0, 100%,  20%, 1.0  );\n",
       "\t--section:          hsla(  0, 100%,  25%, 1.0  );\n",
       "\t--structure:        hsla(120, 100%,  25%, 1.0  );\n",
       "\t--features:         hsla(  0,   0%,  30%, 1.0  );\n",
       "  --text-color:       hsla( 60,  80%,  10%, 1.0  );\n",
       "  --lex-color:        hsla(220,  90%,  60%, 1.0  );\n",
       "  --meta-color:       hsla(  0,   0%,  90%, 0.7  );\n",
       "  --meta-width:       0.15rem;\n",
       "  --border-color-nul: hsla(  0,   0%,  90%, 0.5  );\n",
       "  --border-color0:    hsla(  0,   0%,  90%, 0.9  );\n",
       "  --border-color1:    hsla(  0,   0%,  80%, 0.9  );\n",
       "  --border-color2:    hsla(  0,   0%,  70%, 0.9  );\n",
       "  --border-color3:    hsla(  0,   0%,  80%, 0.8  );\n",
       "  --border-color4:    hsla(  0,   0%,  60%, 0.9  );\n",
       "  --border-width-nul: 0.1rem;\n",
       "  --border-width0:    0.1rem;\n",
       "  --border-width1:    0.15rem;\n",
       "  --border-width2:    0.2rem;\n",
       "  --border-width3:    0.3rem;\n",
       "  --border-width4:    0.25rem;\n",
       "}\n",
       ".hl {\n",
       "  background-color: var(--hl-strong);\n",
       "}\n",
       "span.hl {\n",
       "\tbackground-color: var(--hl-strong);\n",
       "\tborder-width: 0;\n",
       "\tborder-radius: 0.1rem;\n",
       "\tborder-style: solid;\n",
       "}\n",
       "div.contnr.hl,div.lbl.hl {\n",
       "  background-color: var(--hl-strong);\n",
       "}\n",
       "div.contnr.hl {\n",
       "  border-color: var(--hl-rim) ! important;\n",
       "\tborder-width: 0.2rem ! important;\n",
       "}\n",
       "\n",
       "span.hlbx {\n",
       "\tborder-color: var(--hl-rim);\n",
       "\tborder-width: 0.2rem;\n",
       "\tborder-style: solid;\n",
       "\tborder-radius: 0.3rem;\n",
       "  padding: 0.2rem;\n",
       "  margin: 0.2rem;\n",
       "}\n",
       "\n",
       "span.plain {\n",
       "  display: inline-block;\n",
       "  white-space: pre-wrap;\n",
       "}\n",
       "\n",
       ":root {\n",
       "\t--hl-strong:        hsla( 60, 100%,  70%, 0.9  );\n",
       "\t--hl-rim:           hsla( 55,  80%,  50%, 1.0  );\n",
       "}\n",
       "</style>"
      ],
      "text/plain": [
       "<IPython.core.display.HTML object>"
      ]
     },
     "metadata": {},
     "output_type": "display_data"
    },
    {
     "data": {
      "text/html": [
       "<details open><summary><b>API members</b>:</summary>\n",
       "<a target=\"_blank\" href=\"https://annotation.github.io/text-fabric/Api/Computed/#computed-data\" title=\"doc\">C Computed</a>, <a target=\"_blank\" href=\"https://annotation.github.io/text-fabric/Api/Computed/#computed-data\" title=\"doc\">Call AllComputeds</a>, <a target=\"_blank\" href=\"https://annotation.github.io/text-fabric/Api/Computed/#computed-data\" title=\"doc\">Cs ComputedString</a><br/>\n",
       "<a target=\"_blank\" href=\"https://annotation.github.io/text-fabric/Api/Features/#edge-features\" title=\"doc\">E Edge</a>, <a target=\"_blank\" href=\"https://annotation.github.io/text-fabric/Api/Features/#edge-features\" title=\"doc\">Eall AllEdges</a>, <a target=\"_blank\" href=\"https://annotation.github.io/text-fabric/Api/Features/#edge-features\" title=\"doc\">Es EdgeString</a><br/>\n",
       "<a target=\"_blank\" href=\"https://annotation.github.io/text-fabric/Api/Fabric/#loading\" title=\"doc\">ensureLoaded</a>, <a target=\"_blank\" href=\"https://annotation.github.io/text-fabric/Api/Fabric/#loading\" title=\"doc\">TF</a>, <a target=\"_blank\" href=\"https://annotation.github.io/text-fabric/Api/Fabric/#loading\" title=\"doc\">ignored</a>, <a target=\"_blank\" href=\"https://annotation.github.io/text-fabric/Api/Fabric/#loading\" title=\"doc\">loadLog</a><br/>\n",
       "<a target=\"_blank\" href=\"https://annotation.github.io/text-fabric/Api/Locality/#locality\" title=\"doc\">L Locality</a><br/>\n",
       "<a target=\"_blank\" href=\"https://annotation.github.io/text-fabric/Api/Misc/#messaging\" title=\"doc\">cache</a>, <a target=\"_blank\" href=\"https://annotation.github.io/text-fabric/Api/Misc/#messaging\" title=\"doc\">error</a>, <a target=\"_blank\" href=\"https://annotation.github.io/text-fabric/Api/Misc/#messaging\" title=\"doc\">indent</a>, <a target=\"_blank\" href=\"https://annotation.github.io/text-fabric/Api/Misc/#messaging\" title=\"doc\">info</a>, <a target=\"_blank\" href=\"https://annotation.github.io/text-fabric/Api/Misc/#messaging\" title=\"doc\">isSilent</a>, <a target=\"_blank\" href=\"https://annotation.github.io/text-fabric/Api/Misc/#messaging\" title=\"doc\">reset</a>, <a target=\"_blank\" href=\"https://annotation.github.io/text-fabric/Api/Misc/#messaging\" title=\"doc\">setSilent</a>, <a target=\"_blank\" href=\"https://annotation.github.io/text-fabric/Api/Misc/#messaging\" title=\"doc\">silentOff</a>, <a target=\"_blank\" href=\"https://annotation.github.io/text-fabric/Api/Misc/#messaging\" title=\"doc\">silentOn</a>, <a target=\"_blank\" href=\"https://annotation.github.io/text-fabric/Api/Misc/#messaging\" title=\"doc\">warning</a><br/>\n",
       "<a target=\"_blank\" href=\"https://annotation.github.io/text-fabric/Api/Nodes/#navigating-nodes\" title=\"doc\">N Nodes</a>, <a target=\"_blank\" href=\"https://annotation.github.io/text-fabric/Api/Nodes/#navigating-nodes\" title=\"doc\">sortKey</a>, <a target=\"_blank\" href=\"https://annotation.github.io/text-fabric/Api/Nodes/#navigating-nodes\" title=\"doc\">sortKeyTuple</a>, <a target=\"_blank\" href=\"https://annotation.github.io/text-fabric/Api/Nodes/#navigating-nodes\" title=\"doc\">otypeRank</a>, <a target=\"_blank\" href=\"https://annotation.github.io/text-fabric/Api/Nodes/#navigating-nodes\" title=\"doc\">sortNodes</a><br/>\n",
       "<a target=\"_blank\" href=\"https://annotation.github.io/text-fabric/Api/Features/#node-features\" title=\"doc\">F Feature</a>, <a target=\"_blank\" href=\"https://annotation.github.io/text-fabric/Api/Features/#node-features\" title=\"doc\">Fall AllFeatures</a>, <a target=\"_blank\" href=\"https://annotation.github.io/text-fabric/Api/Features/#node-features\" title=\"doc\">Fs FeatureString</a><br/>\n",
       "<a target=\"_blank\" href=\"https://annotation.github.io/text-fabric/Api/Search/#search\" title=\"doc\">S Search</a><br/>\n",
       "<a target=\"_blank\" href=\"https://annotation.github.io/text-fabric/Api/Text/#text\" title=\"doc\">T Text</a></details>"
      ],
      "text/plain": [
       "<IPython.core.display.HTML object>"
      ]
     },
     "metadata": {},
     "output_type": "display_data"
    }
   ],
   "source": [
    "# A = use('quran', hoist=globals(), mod='q-ran/exercises/mining/tf')\n",
    "A = use('quran:clone', checkout=\"clone\", hoist=globals(), mod='q-ran/exercises/mining/tf:clone')"
   ]
  },
  {
   "cell_type": "markdown",
   "metadata": {},
   "source": [
    "Note that you can now click on the `sentiment` feature above, which will bring you to\n",
    "the repository where it is stored.\n",
    "If the creator of the data did a good job, you'll find documentation about `sentiment` in its readme file\n",
    "or docs directory.\n",
    "\n",
    "We check the feature itself for its distribution."
   ]
  },
  {
   "cell_type": "code",
   "execution_count": 53,
   "metadata": {},
   "outputs": [
    {
     "data": {
      "text/plain": [
       "((-1, 4509),\n",
       " (-2, 3044),\n",
       " (-233, 2699),\n",
       " (-4, 2368),\n",
       " (-3, 2217),\n",
       " (1, 2040),\n",
       " (-5, 1964),\n",
       " (-7, 1693),\n",
       " (-195, 1618),\n",
       " (-8, 1541),\n",
       " (0, 1517),\n",
       " (-6, 1416),\n",
       " (-10, 1406),\n",
       " (-138, 1358),\n",
       " (-49, 1147),\n",
       " (-130, 975),\n",
       " (-32, 865),\n",
       " (-21, 841),\n",
       " (2, 833),\n",
       " (-13, 696),\n",
       " (-12, 690),\n",
       " (-14, 669),\n",
       " (-36, 662),\n",
       " (-25, 589),\n",
       " (-17, 589),\n",
       " (-9, 577),\n",
       " (-30, 571),\n",
       " (29, 537),\n",
       " (-22, 529),\n",
       " (-11, 431),\n",
       " (-23, 410),\n",
       " (-18, 360),\n",
       " (-45, 358),\n",
       " (-33, 289),\n",
       " (-54, 278),\n",
       " (-37, 271),\n",
       " (-31, 271),\n",
       " (-24, 261),\n",
       " (-16, 245),\n",
       " (-26, 236),\n",
       " (3, 205),\n",
       " (-73, 176),\n",
       " (122, 153),\n",
       " (-34, 136),\n",
       " (-39, 127),\n",
       " (5, 115),\n",
       " (-20, 75),\n",
       " (11, 75),\n",
       " (-15, 72),\n",
       " (4, 49))"
      ]
     },
     "execution_count": 53,
     "metadata": {},
     "output_type": "execute_result"
    }
   ],
   "source": [
    "F.sentiment.freqList()"
   ]
  },
  {
   "cell_type": "markdown",
   "metadata": {},
   "source": [
    "Note that you can load as many extra modules as you want. If one researcher adds semantic domains, another sentiments, yet another named\n",
    "entities, then everybody can use semantics, sentiments and entities in one go."
   ]
  },
  {
   "cell_type": "markdown",
   "metadata": {},
   "source": [
    "---\n",
    "\n",
    "All chapters:\n",
    "\n",
    "* **[start](start.ipynb)** introduction to computing with your corpus\n",
    "* **[display](display.ipynb)** become an expert in creating pretty displays of your text structures\n",
    "* **[search](search.ipynb)** turbo charge your hand-coding with search templates\n",
    "* **[exportExcel](exportExcel.ipynb)** make tailor-made spreadsheets out of your results\n",
    "* **[share](share.ipynb)** draw in other people's data and let them use yours\n",
    "* **[similarAyas](similarAyas.ipynb)** spot the similarities between lines\n",
    "* **rings** ring structures in sura 2\n",
    "\n",
    "CC-BY Dirk Roorda"
   ]
  }
 ],
 "metadata": {
  "kernelspec": {
   "display_name": "Python 3",
   "language": "python",
   "name": "python3"
  },
  "language_info": {
   "codemirror_mode": {
    "name": "ipython",
    "version": 3
   },
   "file_extension": ".py",
   "mimetype": "text/x-python",
   "name": "python",
   "nbconvert_exporter": "python",
   "pygments_lexer": "ipython3",
   "version": "3.7.7"
  },
  "toc-autonumbering": true,
  "toc-showcode": false,
  "toc-showmarkdowntxt": false,
  "toc-showtags": false
 },
 "nbformat": 4,
 "nbformat_minor": 4
}
