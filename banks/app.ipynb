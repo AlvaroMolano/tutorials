{
 "cells": [
  {
   "cell_type": "markdown",
   "metadata": {},
   "source": [
    "<img align=\"right\" src=\"images/tf-small.png\" width=\"128\"/>\n",
    "<img align=\"right\" src=\"images/phblogo.png\" width=\"128\"/>\n",
    "<img align=\"right\" src=\"images/dans.png\"/>\n",
    "\n",
    "---\n",
    "Start with [convert](https://nbviewer.jupyter.org/github/annotation/banks/blob/master/programs/convert.ipynb)\n",
    "\n",
    "---"
   ]
  },
  {
   "cell_type": "markdown",
   "metadata": {},
   "source": [
    "# The Banks example corpus as app"
   ]
  },
  {
   "cell_type": "code",
   "execution_count": 1,
   "metadata": {},
   "outputs": [],
   "source": [
    "from tf.app import use"
   ]
  },
  {
   "cell_type": "markdown",
   "metadata": {},
   "source": [
    "We do not only load the main corpus data, but also the additional *sim* (similarity) feature that is in a\n",
    "module."
   ]
  },
  {
   "cell_type": "code",
   "execution_count": 2,
   "metadata": {},
   "outputs": [
    {
     "name": "stdout",
     "output_type": "stream",
     "text": [
      "Using TF-app in /Users/dirk/github/annotation/app-banks/code:\n",
      "\trepo clone offline under ~/github (local github)\n",
      "Using data in /Users/dirk/github/annotation/banks/tf/0.2:\n",
      "\trepo clone offline under ~/github (local github)\n",
      "Using data in /Users/dirk/github/annotation/banks/sim/tf/0.2:\n",
      "\trepo clone offline under ~/github (local github)\n"
     ]
    },
    {
     "data": {
      "text/html": [
       "<b>Documentation:</b> <a target=\"_blank\" href=\"https://nbviewer.jupyter.org/github/annotation/banks/blob/master/programs/convert.ipynb\" title=\"provenance of Two quotes from Consider Phlebas by Iain M. Banks\">BANKS</a> <a target=\"_blank\" href=\"https://annotation.github.io/text-fabric/Writing/Transcription/\" title=\"How TF features represent text\">Character table</a> <a target=\"_blank\" href=\"https://nbviewer.jupyter.org/github/annotation/banks/blob/master/programs\" title=\"BANKS feature documentation\">Feature docs</a> <a target=\"_blank\" href=\"https://github.com/annotation/app-banks\" title=\"banks API documentation\">banks API</a> <a target=\"_blank\" href=\"https://annotation.github.io/text-fabric/Api/Fabric/\" title=\"text-fabric-api\">Text-Fabric API 8.0.0</a> <a target=\"_blank\" href=\"https://annotation.github.io/text-fabric/Use/Search/\" title=\"Search Templates Introduction and Reference\">Search Reference</a><details open><summary><b>Loaded features</b>:</summary>\n",
       "<p><b>annotation/banks/sim/tf</b>: <b><i><a target=\"_blank\" href=\"https://github.com/annotation/banks/tree/master/sim/tf\" title=\"/Users/dirk/github/annotation/banks/sim/tf/0.2/sim.tf\">sim</a></i></b> </p><p><b>Two quotes from Consider Phlebas by Iain M. Banks</b>: <a target=\"_blank\" href=\"https://nbviewer.jupyter.org/github/annotation/banks/blob/master/programs\" title=\"/Users/dirk/github/annotation/banks/tf/0.2/author.tf\">author</a>  <a target=\"_blank\" href=\"https://nbviewer.jupyter.org/github/annotation/banks/blob/master/programs\" title=\"/Users/dirk/github/annotation/banks/tf/0.2/gap.tf\">gap</a>  <a target=\"_blank\" href=\"https://nbviewer.jupyter.org/github/annotation/banks/blob/master/programs\" title=\"/Users/dirk/github/annotation/banks/tf/0.2/letters.tf\">letters</a>  <a target=\"_blank\" href=\"https://nbviewer.jupyter.org/github/annotation/banks/blob/master/programs\" title=\"/Users/dirk/github/annotation/banks/tf/0.2/number.tf\">number</a>  <a target=\"_blank\" href=\"https://nbviewer.jupyter.org/github/annotation/banks/blob/master/programs\" title=\"/Users/dirk/github/annotation/banks/tf/0.2/otype.tf\">otype</a>  <a target=\"_blank\" href=\"https://nbviewer.jupyter.org/github/annotation/banks/blob/master/programs\" title=\"/Users/dirk/github/annotation/banks/tf/0.2/punc.tf\">punc</a>  <a target=\"_blank\" href=\"https://nbviewer.jupyter.org/github/annotation/banks/blob/master/programs\" title=\"/Users/dirk/github/annotation/banks/tf/0.2/terminator.tf\">terminator</a>  <a target=\"_blank\" href=\"https://nbviewer.jupyter.org/github/annotation/banks/blob/master/programs\" title=\"/Users/dirk/github/annotation/banks/tf/0.2/title.tf\">title</a>  <b><i><a target=\"_blank\" href=\"https://nbviewer.jupyter.org/github/annotation/banks/blob/master/programs\" title=\"/Users/dirk/github/annotation/banks/tf/0.2/oslots.tf\">oslots</a></i></b> </p></details>"
      ],
      "text/plain": [
       "<IPython.core.display.HTML object>"
      ]
     },
     "metadata": {},
     "output_type": "display_data"
    },
    {
     "data": {
      "text/html": [
       "<style>tr.tf, td.tf, th.tf { text-align: left ! important;}@font-face {\n",
       "  font-family: \"Ezra SIL\";\n",
       "  src: local('Ezra SIL'), local('EzraSIL'),\n",
       "    url('/server/static/fonts/SILEOT.woff') format('woff'),\n",
       "    url('https://github.com/annotation/text-fabric/blob/master/tf/server/static/fonts/SILEOT.woff?raw=true') format('woff');\n",
       "}\n",
       "\n",
       "@font-face {\n",
       "  font-family: \"SBL Hebrew\";\n",
       "  src: local('SBL Hebrew'), local('SBLHebrew'),\n",
       "    url('/server/static/fonts/SBL_Hbrw.woff') format('woff'),\n",
       "    url('https://github.com/annotation/text-fabric/blob/master/tf/server/static/fonts/SBL_Hbrw.woff?raw=true') format('woff');\n",
       "}\n",
       "\n",
       "@font-face {\n",
       "  font-family: \"Estrangelo Edessa\";\n",
       "  src: local('Estrangelo Edessa'), local('EstrangeloEdessa');\n",
       "    url('/server/static/fonts/SyrCOMEdessa.woff') format('woff'),\n",
       "    url('https://github.com/annotation/text-fabric/blob/master/tf/server/static/fonts/SyrCOMEdessa.woff?raw=true') format('woff');\n",
       "}\n",
       "\n",
       "@font-face {\n",
       "  font-family: AmiriQuran;\n",
       "  font-style: normal;\n",
       "  font-weight: 400;\n",
       "  src: local('Amiri Quran'), local('AmiriQuran'),\n",
       "    url('/server/static/fonts/AmiriQuran.woff') format('woff'),\n",
       "    url('https://github.com/annotation/text-fabric/blob/master/tf/server/static/fonts/AmiriQuran.woff?raw=true') format('woff');\n",
       "}\n",
       "\n",
       "@font-face {\n",
       "  font-family: AmiriQuranColored;\n",
       "  font-style: normal;\n",
       "  font-weight: 400;\n",
       "  src: local('Amiri Quran Colored'), local('AmiriQuranColored'),\n",
       "    url('/server/static/fonts/AmiriQuranColored.woff') format('woff'),\n",
       "    url('https://github.com/annotation/text-fabric/blob/master/tf/server/static/fonts/AmiriQuranColored.woff?raw=true') format('woff');\n",
       "}\n",
       "\n",
       "@font-face {\n",
       "  font-family: \"Santakku\";\n",
       "  src: local('Santakku'),\n",
       "    url('/server/static/fonts/Santakku.woff') format('woff'),\n",
       "    url('https://github.com/annotation/text-fabric/blob/master/tf/server/static/fonts/Santakku.woff?raw=true') format('woff');\n",
       "}\n",
       "\n",
       "@font-face {\n",
       "  font-family: \"SantakkuM\";\n",
       "  src: local('SantakkuM'),\n",
       "    url('/server/static/fonts/SantakkuM.woff') format('woff'),\n",
       "    url('https://github.com/annotation/text-fabric/blob/master/tf/server/static/fonts/SantakkuM.woff?raw=true') format('woff');\n",
       "}\n",
       "/* neutral text */\n",
       ".txtn,.txtn a:visited,.txtn a:link {\n",
       "    font-family: sans-serif;\n",
       "    font-size: medium;\n",
       "    direction: ltr;\n",
       "    text-decoration: none;\n",
       "    color: var(--text-color);\n",
       "}\n",
       "/* transcription text */\n",
       ".txtt,.txtt a:visited,.txtt a:link {\n",
       "    font-family: monospace;\n",
       "    font-size: medium;\n",
       "    direction: ltr;\n",
       "    text-decoration: none;\n",
       "    color: var(--text-color);\n",
       "}\n",
       "/* source text */\n",
       ".txto,.txto a:visited,.txto a:link {\n",
       "    font-family: serif;\n",
       "    font-size: medium;\n",
       "    direction: ltr;\n",
       "    text-decoration: none;\n",
       "    color: var(--text-color);\n",
       "}\n",
       "/* phonetic text */\n",
       ".txtp,.txtp a:visited,.txtp a:link {\n",
       "    font-family: Gentium, sans-serif;\n",
       "    font-size: large;\n",
       "    direction: ltr;\n",
       "    text-decoration: none;\n",
       "    color: var(--text-color);\n",
       "}\n",
       "/* original script text */\n",
       ".txtu,.txtu a:visited,.txtu a:link {\n",
       "    font-family: Gentium, sans-serif;\n",
       "    font-size: large;\n",
       "    text-decoration: none;\n",
       "    color: var(--text-color);\n",
       "}\n",
       "/* hebrew */\n",
       ".txtu.hbo,.lex.hbo {\n",
       "    font-family: \"Ezra SIL\", \"SBL Hebrew\", sans-serif;\n",
       "    font-size: x-large;\n",
       "    direction: rtl ! important;\n",
       "    unicode-bidi: embed;\n",
       "}\n",
       "/* syriac */\n",
       ".txtu.syc,.lex.syc {\n",
       "    font-family: \"Estrangelo Edessa\", sans-serif;\n",
       "    font-size: large;\n",
       "    direction: rtl ! important;\n",
       "    unicode-bidi: embed;\n",
       "}\n",
       "/* neo aramaic */\n",
       ".txtu.cld,.lex.cld {\n",
       "    font-family: \"CharisSIL-R\", sans-serif;\n",
       "    font-size: medium;\n",
       "    direction: ltr ! important;\n",
       "    unicode-bidi: embed;\n",
       "}\n",
       "/* standard arabic */\n",
       ".txtu.ara,.lex.ara {\n",
       "    font-family: \"AmiriQuran\", sans-serif;\n",
       "    font-size: large;\n",
       "    direction: rtl ! important;\n",
       "    unicode-bidi: embed;\n",
       "}\n",
       "/* cuneiform */\n",
       ".txtu.akk,.lex.akk {\n",
       "    font-family: Santakku, sans-serif;\n",
       "    font-size: x-large;\n",
       "    direction: ltr ! important;\n",
       "    unicode-bidi: embed;\n",
       "}\n",
       "/* greek */\n",
       ".txtu.grc,.lex.grc a:link {\n",
       "    font-family: Gentium, sans-serif;\n",
       "    font-size: medium;\n",
       "    direction: ltr ! important;\n",
       "    unicode-bidi: embed;\n",
       "}\n",
       "a:hover {\n",
       "    text-decoration: underline | important;\n",
       "    color: #0000ff | important;\n",
       "}\n",
       ".ltr {\n",
       "    direction: ltr ! important;\n",
       "}\n",
       ".rtl {\n",
       "    direction: rtl ! important;\n",
       "}\n",
       "span.plain {\n",
       "    display: inline-block;\n",
       "    white-space: pre-wrap;\n",
       "    text-align: start;\n",
       "}\n",
       ".features {\n",
       "    font-family: monospace;\n",
       "    font-size: medium;\n",
       "    font-weight: bold;\n",
       "    color: var(--features);\n",
       "    display: flex;\n",
       "    flex-flow: column nowrap;\n",
       "    justify-content: flex-start;\n",
       "    align-items: flex-start;\n",
       "    align-content: flex-start;\n",
       "    padding: 0.1rem;\n",
       "    margin: 0.1rem;\n",
       "    direction: ltr;\n",
       "    border: var(--meta-width) solid var(--meta-color);\n",
       "    border-radius: var(--meta-width);\n",
       "}\n",
       ".features div,.features span {\n",
       "    padding: 0;\n",
       "    margin: -0.1rem 0;\n",
       "}\n",
       ".features .f {\n",
       "    font-family: sans-serif;\n",
       "    font-size: small;\n",
       "    font-weight: normal;\n",
       "    color: #5555bb;\n",
       "}\n",
       ".features .xft {\n",
       "  color: #000000;\n",
       "  background-color: #eeeeee;\n",
       "  font-size: medium;\n",
       "  margin: 0.1rem 0rem;\n",
       "}\n",
       ".features .xft .f {\n",
       "  color: #000000;\n",
       "  background-color: #eeeeee;\n",
       "  font-size: small;\n",
       "  font-weight: normal;\n",
       "}\n",
       ".section {\n",
       "    font-family: sans-serif;\n",
       "    font-size: small;\n",
       "    font-weight: bold;\n",
       "    color: var(--section);\n",
       "}\n",
       ".structure {\n",
       "    font-family: sans-serif;\n",
       "    font-size: small;\n",
       "    font-weight: bold;\n",
       "    color: var(--structure);\n",
       "}\n",
       ".comments {\n",
       "    display: flex;\n",
       "    justify-content: flex-start;\n",
       "    align-items: flex-start;\n",
       "    align-content: flex-start;\n",
       "    flex-flow: column nowrap;\n",
       "}\n",
       ".nd {\n",
       "    font-family: sans-serif;\n",
       "    font-size: small;\n",
       "    color: var(--node);\n",
       "    vertical-align: super;\n",
       "}\n",
       ".lex {\n",
       "  color: var(--lex-color);;\n",
       "}\n",
       ".children,.children.ltr {\n",
       "    display: flex;\n",
       "    border: 0;\n",
       "    background-color: #ffffff;\n",
       "    justify-content: flex-start;\n",
       "    align-items: flex-start;\n",
       "    align-content: flex-start;\n",
       "}\n",
       ".children.stretch {\n",
       "    align-items: stretch;\n",
       "}\n",
       ".children.row {\n",
       "    flex-flow: row nowrap;\n",
       "}\n",
       ".children.row.wrap {\n",
       "    flex-flow: row wrap;\n",
       "}\n",
       ".children.col {\n",
       "    flex-flow: column nowrap;\n",
       "}\n",
       ".children.col.wrap {\n",
       "    flex-flow: column wrap;\n",
       "}\n",
       ".contnr {\n",
       "    width: fit-content;\n",
       "    display: flex;\n",
       "    justify-content: flex-start;\n",
       "    align-items: flex-start;\n",
       "    align-content: flex-start;\n",
       "    flex-flow: column nowrap;\n",
       "    background: #ffffff none repeat scroll 0 0;\n",
       "    padding:  0.5rem 0.1rem 0.1rem 0.1rem;\n",
       "    margin: 0.8rem 0.1rem 0.1rem 0.1rem;\n",
       "    border-style: solid;\n",
       "    font-size: small;\n",
       "}\n",
       ".contnr.trm {\n",
       "    background-attachment: local;\n",
       "}\n",
       ".contnr.cnul {\n",
       "    padding:  0;\n",
       "    margin: 0;\n",
       "    border-style: solid;\n",
       "    font-size: xx-small;\n",
       "}\n",
       ".contnr.cnul,.lbl.cnul {\n",
       "    border-color: var(--border-color-nul);\n",
       "    border-width: var(--border-width-nul);\n",
       "    border-radius: var(--border-width-nul);\n",
       "}\n",
       ".contnr.c0,.lbl.c0 {\n",
       "    border-color: var(--border-color0);\n",
       "    border-width: var(--border-width0);\n",
       "    border-radius: var(--border-width0);\n",
       "}\n",
       ".contnr.c1,.lbl.c1 {\n",
       "    border-color: var(--border-color1);\n",
       "    border-width: var(--border-width1);\n",
       "    border-radius: var(--border-width1);\n",
       "}\n",
       ".contnr.c2,.lbl.c2 {\n",
       "    border-color: var(--border-color2);\n",
       "    border-width: var(--border-width2);\n",
       "    border-radius: var(--border-width2);\n",
       "}\n",
       ".contnr.c3,.lbl.c3 {\n",
       "    border-color: var(--border-color3);\n",
       "    border-width: var(--border-width3);\n",
       "    border-radius: var(--border-width3);\n",
       "}\n",
       ".contnr.c4,.lbl.c4 {\n",
       "    border-color: var(--border-color4);\n",
       "    border-width: var(--border-width4);\n",
       "    border-radius: var(--border-width4);\n",
       "}\n",
       ".contnr.l {\n",
       "    border-left-style: dotted\n",
       "}\n",
       ".contnr.r {\n",
       "    border-right-style: dotted\n",
       "}\n",
       ".contnr.lno {\n",
       "    border-left-style: none\n",
       "}\n",
       ".contnr.rno {\n",
       "    border-right-style: none\n",
       "}\n",
       ".lbl {\n",
       "    font-family: monospace;\n",
       "    margin-top: -1.2rem;\n",
       "    margin-left: 1rem;\n",
       "    background: #ffffff none repeat scroll 0 0;\n",
       "    padding: 0 0.3rem;\n",
       "    border-style: solid;\n",
       "    display: block;\n",
       "    color: var(--label)\n",
       "}\n",
       ".lbl.trm {\n",
       "    background-attachment: local;\n",
       "    margin-top: 0.1rem;\n",
       "    margin-left: 0.1rem;\n",
       "    padding: 0.1rem 0.1rem;\n",
       "    border-style: none;\n",
       "}\n",
       ".lbl.cnul {\n",
       "    font-size: xx-small;\n",
       "}\n",
       ".lbl.c0 {\n",
       "    font-size: small;\n",
       "}\n",
       ".lbl.c1 {\n",
       "    font-size: small;\n",
       "}\n",
       ".lbl.c2 {\n",
       "    font-size: medium;\n",
       "}\n",
       ".lbl.c3 {\n",
       "    font-size: medium;\n",
       "}\n",
       ".lbl.c4 {\n",
       "    font-size: large;\n",
       "}\n",
       ".occs {\n",
       "    font-size: small;\n",
       "}\n",
       "\n",
       ":root {\n",
       "\t--node:             hsla(120, 100%,  20%, 1.0  );\n",
       "\t--label:            hsla(  0, 100%,  20%, 1.0  );\n",
       "\t--section:          hsla(  0, 100%,  25%, 1.0  );\n",
       "\t--structure:        hsla(120, 100%,  25%, 1.0  );\n",
       "\t--features:         hsla(  0,   0%,  30%, 1.0  );\n",
       "  --text-color:       hsla( 60,  80%,  10%, 1.0  );\n",
       "  --lex-color:        hsla(220,  90%,  60%, 1.0  );\n",
       "  --meta-color:       hsla(  0,   0%,  90%, 0.7  );\n",
       "  --meta-width:       0.15rem;\n",
       "  --border-color-nul: hsla(  0,   0%,  90%, 0.5  );\n",
       "  --border-color0:    hsla(  0,   0%,  90%, 0.9  );\n",
       "  --border-color1:    hsla(  0,   0%,  80%, 0.9  );\n",
       "  --border-color2:    hsla(  0,   0%,  70%, 0.9  );\n",
       "  --border-color3:    hsla(  0,   0%,  80%, 0.8  );\n",
       "  --border-color4:    hsla(  0,   0%,  60%, 0.9  );\n",
       "  --border-width-nul: 0.1rem;\n",
       "  --border-width0:    0.1rem;\n",
       "  --border-width1:    0.15rem;\n",
       "  --border-width2:    0.2rem;\n",
       "  --border-width3:    0.3rem;\n",
       "  --border-width4:    0.25rem;\n",
       "}\n",
       ".hl {\n",
       "  background-color: var(--hl-strong);\n",
       "}\n",
       "span.hl {\n",
       "\tbackground-color: var(--hl-strong);\n",
       "\tborder-width: 0;\n",
       "\tborder-radius: 0.1rem;\n",
       "\tborder-style: solid;\n",
       "}\n",
       "div.contnr.hl,div.lbl.hl {\n",
       "  background-color: var(--hl-strong);\n",
       "}\n",
       "div.contnr.hl {\n",
       "  border-color: var(--hl-rim) ! important;\n",
       "\tborder-width: 0.2rem ! important;\n",
       "}\n",
       "\n",
       "span.hlbx {\n",
       "\tborder-color: var(--hl-rim);\n",
       "\tborder-width: 0.2rem;\n",
       "\tborder-style: solid;\n",
       "\tborder-radius: 0.3rem;\n",
       "  padding: 0.2rem;\n",
       "  margin: 0.2rem;\n",
       "}\n",
       "\n",
       "span.plain {\n",
       "  display: inline-block;\n",
       "  white-space: pre-wrap;\n",
       "}\n",
       "\n",
       ":root {\n",
       "\t--hl-strong:        hsla( 60, 100%,  70%, 0.9  );\n",
       "\t--hl-rim:           hsla( 55,  80%,  50%, 1.0  );\n",
       "}\n",
       "</style>"
      ],
      "text/plain": [
       "<IPython.core.display.HTML object>"
      ]
     },
     "metadata": {},
     "output_type": "display_data"
    },
    {
     "data": {
      "text/html": [
       "<details open><summary><b>API members</b>:</summary>\n",
       "<a target=\"_blank\" href=\"https://annotation.github.io/text-fabric/Api/Computed/#computed-data\" title=\"doc\">C Computed</a>, <a target=\"_blank\" href=\"https://annotation.github.io/text-fabric/Api/Computed/#computed-data\" title=\"doc\">Call AllComputeds</a>, <a target=\"_blank\" href=\"https://annotation.github.io/text-fabric/Api/Computed/#computed-data\" title=\"doc\">Cs ComputedString</a><br/>\n",
       "<a target=\"_blank\" href=\"https://annotation.github.io/text-fabric/Api/Features/#edge-features\" title=\"doc\">E Edge</a>, <a target=\"_blank\" href=\"https://annotation.github.io/text-fabric/Api/Features/#edge-features\" title=\"doc\">Eall AllEdges</a>, <a target=\"_blank\" href=\"https://annotation.github.io/text-fabric/Api/Features/#edge-features\" title=\"doc\">Es EdgeString</a><br/>\n",
       "<a target=\"_blank\" href=\"https://annotation.github.io/text-fabric/Api/Fabric/#loading\" title=\"doc\">ensureLoaded</a>, <a target=\"_blank\" href=\"https://annotation.github.io/text-fabric/Api/Fabric/#loading\" title=\"doc\">TF</a>, <a target=\"_blank\" href=\"https://annotation.github.io/text-fabric/Api/Fabric/#loading\" title=\"doc\">ignored</a>, <a target=\"_blank\" href=\"https://annotation.github.io/text-fabric/Api/Fabric/#loading\" title=\"doc\">loadLog</a><br/>\n",
       "<a target=\"_blank\" href=\"https://annotation.github.io/text-fabric/Api/Locality/#locality\" title=\"doc\">L Locality</a><br/>\n",
       "<a target=\"_blank\" href=\"https://annotation.github.io/text-fabric/Api/Misc/#messaging\" title=\"doc\">cache</a>, <a target=\"_blank\" href=\"https://annotation.github.io/text-fabric/Api/Misc/#messaging\" title=\"doc\">error</a>, <a target=\"_blank\" href=\"https://annotation.github.io/text-fabric/Api/Misc/#messaging\" title=\"doc\">indent</a>, <a target=\"_blank\" href=\"https://annotation.github.io/text-fabric/Api/Misc/#messaging\" title=\"doc\">info</a>, <a target=\"_blank\" href=\"https://annotation.github.io/text-fabric/Api/Misc/#messaging\" title=\"doc\">isSilent</a>, <a target=\"_blank\" href=\"https://annotation.github.io/text-fabric/Api/Misc/#messaging\" title=\"doc\">reset</a>, <a target=\"_blank\" href=\"https://annotation.github.io/text-fabric/Api/Misc/#messaging\" title=\"doc\">setSilent</a>, <a target=\"_blank\" href=\"https://annotation.github.io/text-fabric/Api/Misc/#messaging\" title=\"doc\">silentOff</a>, <a target=\"_blank\" href=\"https://annotation.github.io/text-fabric/Api/Misc/#messaging\" title=\"doc\">silentOn</a>, <a target=\"_blank\" href=\"https://annotation.github.io/text-fabric/Api/Misc/#messaging\" title=\"doc\">warning</a><br/>\n",
       "<a target=\"_blank\" href=\"https://annotation.github.io/text-fabric/Api/Nodes/#navigating-nodes\" title=\"doc\">N Nodes</a>, <a target=\"_blank\" href=\"https://annotation.github.io/text-fabric/Api/Nodes/#navigating-nodes\" title=\"doc\">sortKey</a>, <a target=\"_blank\" href=\"https://annotation.github.io/text-fabric/Api/Nodes/#navigating-nodes\" title=\"doc\">sortKeyTuple</a>, <a target=\"_blank\" href=\"https://annotation.github.io/text-fabric/Api/Nodes/#navigating-nodes\" title=\"doc\">otypeRank</a>, <a target=\"_blank\" href=\"https://annotation.github.io/text-fabric/Api/Nodes/#navigating-nodes\" title=\"doc\">sortNodes</a><br/>\n",
       "<a target=\"_blank\" href=\"https://annotation.github.io/text-fabric/Api/Features/#node-features\" title=\"doc\">F Feature</a>, <a target=\"_blank\" href=\"https://annotation.github.io/text-fabric/Api/Features/#node-features\" title=\"doc\">Fall AllFeatures</a>, <a target=\"_blank\" href=\"https://annotation.github.io/text-fabric/Api/Features/#node-features\" title=\"doc\">Fs FeatureString</a><br/>\n",
       "<a target=\"_blank\" href=\"https://annotation.github.io/text-fabric/Api/Search/#search\" title=\"doc\">S Search</a><br/>\n",
       "<a target=\"_blank\" href=\"https://annotation.github.io/text-fabric/Api/Text/#text\" title=\"doc\">T Text</a></details>"
      ],
      "text/plain": [
       "<IPython.core.display.HTML object>"
      ]
     },
     "metadata": {},
     "output_type": "display_data"
    }
   ],
   "source": [
    "# A = use('banks', mod='annotation/banks/sim/tf', hoist=globals())\n",
    "A = use('banks:clone', checkout=\"clone\", mod='annotation/banks/sim/tf:clone', hoist=globals())"
   ]
  },
  {
   "cell_type": "markdown",
   "metadata": {},
   "source": [
    "# Use the similarity edge feature\n",
    "\n",
    "We print all similar pairs of words that are at least 50% similar but not 100%."
   ]
  },
  {
   "cell_type": "code",
   "execution_count": 3,
   "metadata": {},
   "outputs": [],
   "source": [
    "query = '''\n",
    "word\n",
    "<sim>50> word\n",
    "'''"
   ]
  },
  {
   "cell_type": "code",
   "execution_count": 4,
   "metadata": {},
   "outputs": [
    {
     "name": "stdout",
     "output_type": "stream",
     "text": [
      "  0.01s 170 results\n"
     ]
    }
   ],
   "source": [
    "results = A.search(query)"
   ]
  },
  {
   "cell_type": "code",
   "execution_count": 6,
   "metadata": {},
   "outputs": [
    {
     "data": {
      "text/html": [
       "<table><tr class=\"tf\"><th class=\"tf\">n</th><th class=\"tf\">word</th><th class=\"tf\">word</th></tr>\n",
       "<tr class=\"tf\"><td class=\"tf\">1</td><td class=\"tf\"><span class=\"section ltr\">Consider Phlebas 1:1 </span> <span class=\"plain outer   hl\" ><span class=\"txtu\">Everything </span></span></td><td class=\"tf\"><span class=\"section ltr\">Consider Phlebas 1:1 </span> <span class=\"plain outer   hl\" ><span class=\"txtu\">everything </span></span></td></tr>\n",
       "<tr class=\"tf\"><td class=\"tf\">2</td><td class=\"tf\"><span class=\"section ltr\">Consider Phlebas 1:1 </span> <span class=\"plain outer   hl\" ><span class=\"txtu\">Everything </span></span></td><td class=\"tf\"><span class=\"section ltr\">Consider Phlebas 1:1 </span> <span class=\"plain outer   hl\" ><span class=\"txtu\">everything </span></span></td></tr>\n",
       "<tr class=\"tf\"><td class=\"tf\">3</td><td class=\"tf\"><span class=\"section ltr\">Consider Phlebas 1:1 </span> <span class=\"plain outer   hl\" ><span class=\"txtu\">us, </span></span></td><td class=\"tf\"><span class=\"section ltr\">Consider Phlebas 1:1 </span> <span class=\"plain outer   hl\" ><span class=\"txtu\">us, </span></span></td></tr>\n",
       "<tr class=\"tf\"><td class=\"tf\">4</td><td class=\"tf\"><span class=\"section ltr\">Consider Phlebas 1:1 </span> <span class=\"plain outer   hl\" ><span class=\"txtu\">everything </span></span></td><td class=\"tf\"><span class=\"section ltr\">Consider Phlebas 1:1 </span> <span class=\"plain outer   hl\" ><span class=\"txtu\">Everything </span></span></td></tr>\n",
       "<tr class=\"tf\"><td class=\"tf\">5</td><td class=\"tf\"><span class=\"section ltr\">Consider Phlebas 1:1 </span> <span class=\"plain outer   hl\" ><span class=\"txtu\">everything </span></span></td><td class=\"tf\"><span class=\"section ltr\">Consider Phlebas 1:1 </span> <span class=\"plain outer   hl\" ><span class=\"txtu\">everything </span></span></td></tr>\n",
       "<tr class=\"tf\"><td class=\"tf\">6</td><td class=\"tf\"><span class=\"section ltr\">Consider Phlebas 1:1 </span> <span class=\"plain outer   hl\" ><span class=\"txtu\">us, </span></span></td><td class=\"tf\"><span class=\"section ltr\">Consider Phlebas 1:1 </span> <span class=\"plain outer   hl\" ><span class=\"txtu\">us, </span></span></td></tr>\n",
       "<tr class=\"tf\"><td class=\"tf\">7</td><td class=\"tf\"><span class=\"section ltr\">Consider Phlebas 1:1 </span> <span class=\"plain outer   hl\" ><span class=\"txtu\">everything </span></span></td><td class=\"tf\"><span class=\"section ltr\">Consider Phlebas 1:1 </span> <span class=\"plain outer   hl\" ><span class=\"txtu\">Everything </span></span></td></tr>\n",
       "<tr class=\"tf\"><td class=\"tf\">8</td><td class=\"tf\"><span class=\"section ltr\">Consider Phlebas 1:1 </span> <span class=\"plain outer   hl\" ><span class=\"txtu\">everything </span></span></td><td class=\"tf\"><span class=\"section ltr\">Consider Phlebas 1:1 </span> <span class=\"plain outer   hl\" ><span class=\"txtu\">everything </span></span></td></tr>\n",
       "<tr class=\"tf\"><td class=\"tf\">9</td><td class=\"tf\"><span class=\"section ltr\">Consider Phlebas 1:1 </span> <span class=\"plain outer   hl\" ><span class=\"txtu\">we </span></span></td><td class=\"tf\"><span class=\"section ltr\">Consider Phlebas 1:2 </span> <span class=\"plain outer   hl\" ><span class=\"txtu\">we </span></span></td></tr>\n",
       "<tr class=\"tf\"><td class=\"tf\">10</td><td class=\"tf\"><span class=\"section ltr\">Consider Phlebas 1:1 </span> <span class=\"plain outer   hl\" ><span class=\"txtu\">we </span></span></td><td class=\"tf\"><span class=\"section ltr\">Consider Phlebas 1:2 </span> <span class=\"plain outer   hl\" ><span class=\"txtu\">we </span></span></td></tr></table>"
      ],
      "text/plain": [
       "<IPython.core.display.HTML object>"
      ]
     },
     "metadata": {},
     "output_type": "display_data"
    }
   ],
   "source": [
    "A.table(results, end=10, withPassage=\"1 2\")"
   ]
  },
  {
   "cell_type": "code",
   "execution_count": 7,
   "metadata": {},
   "outputs": [
    {
     "data": {
      "text/html": [
       "<p><b>result</b> <i>1</i></p>"
      ],
      "text/plain": [
       "<IPython.core.display.HTML object>"
      ]
     },
     "metadata": {},
     "output_type": "display_data"
    },
    {
     "data": {
      "text/html": [
       "<span class=\"section ltr\">Consider Phlebas 1:1 </span><div class=\"contnr c3    \" ><div class=\"lbl c3  \" ><span class=\"nd\">sentence</span></div> <div class=\"children row wrap \"><div class=\"contnr c3    r \" ><div class=\"lbl c3  \" ><span class=\"nd\">line</span></div> <div class=\"children row wrap \"><div class=\"contnr c0 trm   hl\" ><div class=\"lbl c0 trm hl\" ><span class=\"txtu\">Everything </span></div> </div></div></div><div class=\"contnr c3    l r \" ><div class=\"lbl c3  \" ><span class=\"nd\">line</span></div> <div class=\"children row wrap \"><div class=\"contnr c0 trm   \" ><div class=\"lbl c0 trm \" ><span class=\"txtu\">about </span></div> </div></div></div><div class=\"contnr c3    l \" ><div class=\"lbl c3  \" ><span class=\"nd\">line</span></div> <div class=\"children row wrap \"><div class=\"contnr c0 trm   \" ><div class=\"lbl c0 trm \" ><span class=\"txtu\">us, </span></div> </div></div></div><div class=\"contnr c3    r \" ><div class=\"lbl c3  \" ><span class=\"nd\">line</span></div> <div class=\"children row wrap \"><div class=\"contnr c0 trm   hl\" ><div class=\"lbl c0 trm hl\" ><span class=\"txtu\">everything </span></div> </div></div></div><div class=\"contnr c3    l r \" ><div class=\"lbl c3  \" ><span class=\"nd\">line</span></div> <div class=\"children row wrap \"><div class=\"contnr c0 trm   \" ><div class=\"lbl c0 trm \" ><span class=\"txtu\">around </span></div> </div></div></div><div class=\"contnr c3    l \" ><div class=\"lbl c3  \" ><span class=\"nd\">line</span></div> <div class=\"children row wrap \"><div class=\"contnr c0 trm   \" ><div class=\"lbl c0 trm \" ><span class=\"txtu\">us, </span></div> </div></div></div><div class=\"contnr c3    r \" ><div class=\"lbl c3  \" ><span class=\"nd\">line</span></div> <div class=\"children row wrap \"><div class=\"contnr c0 trm   \" ><div class=\"lbl c0 trm \" ><span class=\"txtu\">everything </span></div> </div></div></div><div class=\"contnr c3    l r \" ><div class=\"lbl c3  \" ><span class=\"nd\">line</span></div> <div class=\"children row wrap \"><div class=\"contnr c0 trm   \" ><div class=\"lbl c0 trm \" ><span class=\"txtu\">we </span></div> </div></div></div><div class=\"contnr c3    l r \" ><div class=\"lbl c3  \" ><span class=\"nd\">line</span></div> <div class=\"children row wrap \"><div class=\"contnr c0 trm   \" ><div class=\"lbl c0 trm \" ><span class=\"txtu\">know </span></div> </div></div></div><div class=\"contnr c0 trm   \" ><div class=\"lbl c0 trm \" ><span class=\"txtu\">and </span></div> </div><div class=\"contnr c0 trm   \" ><div class=\"lbl c0 trm \" ><span class=\"txtu\">can </span></div> </div><div class=\"contnr c0 trm   \" ><div class=\"lbl c0 trm \" ><span class=\"txtu\">know </span></div> </div><div class=\"contnr c0 trm   \" ><div class=\"lbl c0 trm \" ><span class=\"txtu\">of </span></div> </div><div class=\"contnr c3    l r \" ><div class=\"lbl c3  \" ><span class=\"nd\">line</span></div> <div class=\"children row wrap \"><div class=\"contnr c0 trm   \" ><div class=\"lbl c0 trm \" ><span class=\"txtu\">is </span></div> </div></div></div><div class=\"contnr c3    l r \" ><div class=\"lbl c3  \" ><span class=\"nd\">line</span></div> <div class=\"children row wrap \"><div class=\"contnr c0 trm   \" ><div class=\"lbl c0 trm \" ><span class=\"txtu\">composed </span></div> </div></div></div><div class=\"contnr c3    l r \" ><div class=\"lbl c3  \" ><span class=\"nd\">line</span></div> <div class=\"children row wrap \"><div class=\"contnr c0 trm   \" ><div class=\"lbl c0 trm \" ><span class=\"txtu\">ultimately </span></div> </div></div></div><div class=\"contnr c3    l r \" ><div class=\"lbl c3  \" ><span class=\"nd\">line</span></div> <div class=\"children row wrap \"><div class=\"contnr c0 trm   \" ><div class=\"lbl c0 trm \" ><span class=\"txtu\">of </span></div> </div></div></div><div class=\"contnr c3    l r \" ><div class=\"lbl c3  \" ><span class=\"nd\">line</span></div> <div class=\"children row wrap \"><div class=\"contnr c0 trm   \" ><div class=\"lbl c0 trm \" ><span class=\"txtu\">patterns </span></div> </div></div></div><div class=\"contnr c3    l r \" ><div class=\"lbl c3  \" ><span class=\"nd\">line</span></div> <div class=\"children row wrap \"><div class=\"contnr c0 trm   \" ><div class=\"lbl c0 trm \" ><span class=\"txtu\">of </span></div> </div></div></div><div class=\"contnr c3    l \" ><div class=\"lbl c3  \" ><span class=\"nd\">line</span></div> <div class=\"children row wrap \"><div class=\"contnr c0 trm   \" ><div class=\"lbl c0 trm \" ><span class=\"txtu\">nothing; </span></div> </div></div></div><div class=\"contnr c3    r \" ><div class=\"lbl c3  \" ><span class=\"nd\">line</span></div> <div class=\"children row wrap \"><div class=\"contnr c0 trm   \" ><div class=\"lbl c0 trm \" ><span class=\"txtu\">that’s </span></div> </div></div></div><div class=\"contnr c3    l r \" ><div class=\"lbl c3  \" ><span class=\"nd\">line</span></div> <div class=\"children row wrap \"><div class=\"contnr c0 trm   \" ><div class=\"lbl c0 trm \" ><span class=\"txtu\">the </span></div> </div></div></div><div class=\"contnr c3    l r \" ><div class=\"lbl c3  \" ><span class=\"nd\">line</span></div> <div class=\"children row wrap \"><div class=\"contnr c0 trm   \" ><div class=\"lbl c0 trm \" ><span class=\"txtu\">bottom </span></div> </div></div></div><div class=\"contnr c3    l r \" ><div class=\"lbl c3  \" ><span class=\"nd\">line</span></div> <div class=\"children row wrap \"><div class=\"contnr c0 trm   \" ><div class=\"lbl c0 trm \" ><span class=\"txtu\">line, </span></div> </div></div></div><div class=\"contnr c3    l r \" ><div class=\"lbl c3  \" ><span class=\"nd\">line</span></div> <div class=\"children row wrap \"><div class=\"contnr c0 trm   \" ><div class=\"lbl c0 trm \" ><span class=\"txtu\">the </span></div> </div></div></div><div class=\"contnr c3    l r \" ><div class=\"lbl c3  \" ><span class=\"nd\">line</span></div> <div class=\"children row wrap \"><div class=\"contnr c0 trm   \" ><div class=\"lbl c0 trm \" ><span class=\"txtu\">final </span></div> </div></div></div><div class=\"contnr c3    l \" ><div class=\"lbl c3  \" ><span class=\"nd\">line</span></div> <div class=\"children row wrap \"><div class=\"contnr c0 trm   \" ><div class=\"lbl c0 trm \" ><span class=\"txtu\">truth. </span></div> </div></div></div></div></div>"
      ],
      "text/plain": [
       "<IPython.core.display.HTML object>"
      ]
     },
     "metadata": {},
     "output_type": "display_data"
    },
    {
     "data": {
      "text/html": [
       "<p><b>result</b> <i>2</i></p>"
      ],
      "text/plain": [
       "<IPython.core.display.HTML object>"
      ]
     },
     "metadata": {},
     "output_type": "display_data"
    },
    {
     "data": {
      "text/html": [
       "<span class=\"section ltr\">Consider Phlebas 1:1 </span><div class=\"contnr c3    \" ><div class=\"lbl c3  \" ><span class=\"nd\">sentence</span></div> <div class=\"children row wrap \"><div class=\"contnr c3    r \" ><div class=\"lbl c3  \" ><span class=\"nd\">line</span></div> <div class=\"children row wrap \"><div class=\"contnr c0 trm   hl\" ><div class=\"lbl c0 trm hl\" ><span class=\"txtu\">Everything </span></div> </div></div></div><div class=\"contnr c3    l r \" ><div class=\"lbl c3  \" ><span class=\"nd\">line</span></div> <div class=\"children row wrap \"><div class=\"contnr c0 trm   \" ><div class=\"lbl c0 trm \" ><span class=\"txtu\">about </span></div> </div></div></div><div class=\"contnr c3    l \" ><div class=\"lbl c3  \" ><span class=\"nd\">line</span></div> <div class=\"children row wrap \"><div class=\"contnr c0 trm   \" ><div class=\"lbl c0 trm \" ><span class=\"txtu\">us, </span></div> </div></div></div><div class=\"contnr c3    r \" ><div class=\"lbl c3  \" ><span class=\"nd\">line</span></div> <div class=\"children row wrap \"><div class=\"contnr c0 trm   \" ><div class=\"lbl c0 trm \" ><span class=\"txtu\">everything </span></div> </div></div></div><div class=\"contnr c3    l r \" ><div class=\"lbl c3  \" ><span class=\"nd\">line</span></div> <div class=\"children row wrap \"><div class=\"contnr c0 trm   \" ><div class=\"lbl c0 trm \" ><span class=\"txtu\">around </span></div> </div></div></div><div class=\"contnr c3    l \" ><div class=\"lbl c3  \" ><span class=\"nd\">line</span></div> <div class=\"children row wrap \"><div class=\"contnr c0 trm   \" ><div class=\"lbl c0 trm \" ><span class=\"txtu\">us, </span></div> </div></div></div><div class=\"contnr c3    r \" ><div class=\"lbl c3  \" ><span class=\"nd\">line</span></div> <div class=\"children row wrap \"><div class=\"contnr c0 trm   hl\" ><div class=\"lbl c0 trm hl\" ><span class=\"txtu\">everything </span></div> </div></div></div><div class=\"contnr c3    l r \" ><div class=\"lbl c3  \" ><span class=\"nd\">line</span></div> <div class=\"children row wrap \"><div class=\"contnr c0 trm   \" ><div class=\"lbl c0 trm \" ><span class=\"txtu\">we </span></div> </div></div></div><div class=\"contnr c3    l r \" ><div class=\"lbl c3  \" ><span class=\"nd\">line</span></div> <div class=\"children row wrap \"><div class=\"contnr c0 trm   \" ><div class=\"lbl c0 trm \" ><span class=\"txtu\">know </span></div> </div></div></div><div class=\"contnr c0 trm   \" ><div class=\"lbl c0 trm \" ><span class=\"txtu\">and </span></div> </div><div class=\"contnr c0 trm   \" ><div class=\"lbl c0 trm \" ><span class=\"txtu\">can </span></div> </div><div class=\"contnr c0 trm   \" ><div class=\"lbl c0 trm \" ><span class=\"txtu\">know </span></div> </div><div class=\"contnr c0 trm   \" ><div class=\"lbl c0 trm \" ><span class=\"txtu\">of </span></div> </div><div class=\"contnr c3    l r \" ><div class=\"lbl c3  \" ><span class=\"nd\">line</span></div> <div class=\"children row wrap \"><div class=\"contnr c0 trm   \" ><div class=\"lbl c0 trm \" ><span class=\"txtu\">is </span></div> </div></div></div><div class=\"contnr c3    l r \" ><div class=\"lbl c3  \" ><span class=\"nd\">line</span></div> <div class=\"children row wrap \"><div class=\"contnr c0 trm   \" ><div class=\"lbl c0 trm \" ><span class=\"txtu\">composed </span></div> </div></div></div><div class=\"contnr c3    l r \" ><div class=\"lbl c3  \" ><span class=\"nd\">line</span></div> <div class=\"children row wrap \"><div class=\"contnr c0 trm   \" ><div class=\"lbl c0 trm \" ><span class=\"txtu\">ultimately </span></div> </div></div></div><div class=\"contnr c3    l r \" ><div class=\"lbl c3  \" ><span class=\"nd\">line</span></div> <div class=\"children row wrap \"><div class=\"contnr c0 trm   \" ><div class=\"lbl c0 trm \" ><span class=\"txtu\">of </span></div> </div></div></div><div class=\"contnr c3    l r \" ><div class=\"lbl c3  \" ><span class=\"nd\">line</span></div> <div class=\"children row wrap \"><div class=\"contnr c0 trm   \" ><div class=\"lbl c0 trm \" ><span class=\"txtu\">patterns </span></div> </div></div></div><div class=\"contnr c3    l r \" ><div class=\"lbl c3  \" ><span class=\"nd\">line</span></div> <div class=\"children row wrap \"><div class=\"contnr c0 trm   \" ><div class=\"lbl c0 trm \" ><span class=\"txtu\">of </span></div> </div></div></div><div class=\"contnr c3    l \" ><div class=\"lbl c3  \" ><span class=\"nd\">line</span></div> <div class=\"children row wrap \"><div class=\"contnr c0 trm   \" ><div class=\"lbl c0 trm \" ><span class=\"txtu\">nothing; </span></div> </div></div></div><div class=\"contnr c3    r \" ><div class=\"lbl c3  \" ><span class=\"nd\">line</span></div> <div class=\"children row wrap \"><div class=\"contnr c0 trm   \" ><div class=\"lbl c0 trm \" ><span class=\"txtu\">that’s </span></div> </div></div></div><div class=\"contnr c3    l r \" ><div class=\"lbl c3  \" ><span class=\"nd\">line</span></div> <div class=\"children row wrap \"><div class=\"contnr c0 trm   \" ><div class=\"lbl c0 trm \" ><span class=\"txtu\">the </span></div> </div></div></div><div class=\"contnr c3    l r \" ><div class=\"lbl c3  \" ><span class=\"nd\">line</span></div> <div class=\"children row wrap \"><div class=\"contnr c0 trm   \" ><div class=\"lbl c0 trm \" ><span class=\"txtu\">bottom </span></div> </div></div></div><div class=\"contnr c3    l r \" ><div class=\"lbl c3  \" ><span class=\"nd\">line</span></div> <div class=\"children row wrap \"><div class=\"contnr c0 trm   \" ><div class=\"lbl c0 trm \" ><span class=\"txtu\">line, </span></div> </div></div></div><div class=\"contnr c3    l r \" ><div class=\"lbl c3  \" ><span class=\"nd\">line</span></div> <div class=\"children row wrap \"><div class=\"contnr c0 trm   \" ><div class=\"lbl c0 trm \" ><span class=\"txtu\">the </span></div> </div></div></div><div class=\"contnr c3    l r \" ><div class=\"lbl c3  \" ><span class=\"nd\">line</span></div> <div class=\"children row wrap \"><div class=\"contnr c0 trm   \" ><div class=\"lbl c0 trm \" ><span class=\"txtu\">final </span></div> </div></div></div><div class=\"contnr c3    l \" ><div class=\"lbl c3  \" ><span class=\"nd\">line</span></div> <div class=\"children row wrap \"><div class=\"contnr c0 trm   \" ><div class=\"lbl c0 trm \" ><span class=\"txtu\">truth. </span></div> </div></div></div></div></div>"
      ],
      "text/plain": [
       "<IPython.core.display.HTML object>"
      ]
     },
     "metadata": {},
     "output_type": "display_data"
    },
    {
     "data": {
      "text/html": [
       "<p><b>result</b> <i>3</i></p>"
      ],
      "text/plain": [
       "<IPython.core.display.HTML object>"
      ]
     },
     "metadata": {},
     "output_type": "display_data"
    },
    {
     "data": {
      "text/html": [
       "<span class=\"section ltr\">Consider Phlebas 1:1 </span><div class=\"contnr c3    \" ><div class=\"lbl c3  \" ><span class=\"nd\">sentence</span></div> <div class=\"children row wrap \"><div class=\"contnr c3    r \" ><div class=\"lbl c3  \" ><span class=\"nd\">line</span></div> <div class=\"children row wrap \"><div class=\"contnr c0 trm   \" ><div class=\"lbl c0 trm \" ><span class=\"txtu\">Everything </span></div> </div></div></div><div class=\"contnr c3    l r \" ><div class=\"lbl c3  \" ><span class=\"nd\">line</span></div> <div class=\"children row wrap \"><div class=\"contnr c0 trm   \" ><div class=\"lbl c0 trm \" ><span class=\"txtu\">about </span></div> </div></div></div><div class=\"contnr c3    l \" ><div class=\"lbl c3  \" ><span class=\"nd\">line</span></div> <div class=\"children row wrap \"><div class=\"contnr c0 trm   hl\" ><div class=\"lbl c0 trm hl\" ><span class=\"txtu\">us, </span></div> </div></div></div><div class=\"contnr c3    r \" ><div class=\"lbl c3  \" ><span class=\"nd\">line</span></div> <div class=\"children row wrap \"><div class=\"contnr c0 trm   \" ><div class=\"lbl c0 trm \" ><span class=\"txtu\">everything </span></div> </div></div></div><div class=\"contnr c3    l r \" ><div class=\"lbl c3  \" ><span class=\"nd\">line</span></div> <div class=\"children row wrap \"><div class=\"contnr c0 trm   \" ><div class=\"lbl c0 trm \" ><span class=\"txtu\">around </span></div> </div></div></div><div class=\"contnr c3    l \" ><div class=\"lbl c3  \" ><span class=\"nd\">line</span></div> <div class=\"children row wrap \"><div class=\"contnr c0 trm   hl\" ><div class=\"lbl c0 trm hl\" ><span class=\"txtu\">us, </span></div> </div></div></div><div class=\"contnr c3    r \" ><div class=\"lbl c3  \" ><span class=\"nd\">line</span></div> <div class=\"children row wrap \"><div class=\"contnr c0 trm   \" ><div class=\"lbl c0 trm \" ><span class=\"txtu\">everything </span></div> </div></div></div><div class=\"contnr c3    l r \" ><div class=\"lbl c3  \" ><span class=\"nd\">line</span></div> <div class=\"children row wrap \"><div class=\"contnr c0 trm   \" ><div class=\"lbl c0 trm \" ><span class=\"txtu\">we </span></div> </div></div></div><div class=\"contnr c3    l r \" ><div class=\"lbl c3  \" ><span class=\"nd\">line</span></div> <div class=\"children row wrap \"><div class=\"contnr c0 trm   \" ><div class=\"lbl c0 trm \" ><span class=\"txtu\">know </span></div> </div></div></div><div class=\"contnr c0 trm   \" ><div class=\"lbl c0 trm \" ><span class=\"txtu\">and </span></div> </div><div class=\"contnr c0 trm   \" ><div class=\"lbl c0 trm \" ><span class=\"txtu\">can </span></div> </div><div class=\"contnr c0 trm   \" ><div class=\"lbl c0 trm \" ><span class=\"txtu\">know </span></div> </div><div class=\"contnr c0 trm   \" ><div class=\"lbl c0 trm \" ><span class=\"txtu\">of </span></div> </div><div class=\"contnr c3    l r \" ><div class=\"lbl c3  \" ><span class=\"nd\">line</span></div> <div class=\"children row wrap \"><div class=\"contnr c0 trm   \" ><div class=\"lbl c0 trm \" ><span class=\"txtu\">is </span></div> </div></div></div><div class=\"contnr c3    l r \" ><div class=\"lbl c3  \" ><span class=\"nd\">line</span></div> <div class=\"children row wrap \"><div class=\"contnr c0 trm   \" ><div class=\"lbl c0 trm \" ><span class=\"txtu\">composed </span></div> </div></div></div><div class=\"contnr c3    l r \" ><div class=\"lbl c3  \" ><span class=\"nd\">line</span></div> <div class=\"children row wrap \"><div class=\"contnr c0 trm   \" ><div class=\"lbl c0 trm \" ><span class=\"txtu\">ultimately </span></div> </div></div></div><div class=\"contnr c3    l r \" ><div class=\"lbl c3  \" ><span class=\"nd\">line</span></div> <div class=\"children row wrap \"><div class=\"contnr c0 trm   \" ><div class=\"lbl c0 trm \" ><span class=\"txtu\">of </span></div> </div></div></div><div class=\"contnr c3    l r \" ><div class=\"lbl c3  \" ><span class=\"nd\">line</span></div> <div class=\"children row wrap \"><div class=\"contnr c0 trm   \" ><div class=\"lbl c0 trm \" ><span class=\"txtu\">patterns </span></div> </div></div></div><div class=\"contnr c3    l r \" ><div class=\"lbl c3  \" ><span class=\"nd\">line</span></div> <div class=\"children row wrap \"><div class=\"contnr c0 trm   \" ><div class=\"lbl c0 trm \" ><span class=\"txtu\">of </span></div> </div></div></div><div class=\"contnr c3    l \" ><div class=\"lbl c3  \" ><span class=\"nd\">line</span></div> <div class=\"children row wrap \"><div class=\"contnr c0 trm   \" ><div class=\"lbl c0 trm \" ><span class=\"txtu\">nothing; </span></div> </div></div></div><div class=\"contnr c3    r \" ><div class=\"lbl c3  \" ><span class=\"nd\">line</span></div> <div class=\"children row wrap \"><div class=\"contnr c0 trm   \" ><div class=\"lbl c0 trm \" ><span class=\"txtu\">that’s </span></div> </div></div></div><div class=\"contnr c3    l r \" ><div class=\"lbl c3  \" ><span class=\"nd\">line</span></div> <div class=\"children row wrap \"><div class=\"contnr c0 trm   \" ><div class=\"lbl c0 trm \" ><span class=\"txtu\">the </span></div> </div></div></div><div class=\"contnr c3    l r \" ><div class=\"lbl c3  \" ><span class=\"nd\">line</span></div> <div class=\"children row wrap \"><div class=\"contnr c0 trm   \" ><div class=\"lbl c0 trm \" ><span class=\"txtu\">bottom </span></div> </div></div></div><div class=\"contnr c3    l r \" ><div class=\"lbl c3  \" ><span class=\"nd\">line</span></div> <div class=\"children row wrap \"><div class=\"contnr c0 trm   \" ><div class=\"lbl c0 trm \" ><span class=\"txtu\">line, </span></div> </div></div></div><div class=\"contnr c3    l r \" ><div class=\"lbl c3  \" ><span class=\"nd\">line</span></div> <div class=\"children row wrap \"><div class=\"contnr c0 trm   \" ><div class=\"lbl c0 trm \" ><span class=\"txtu\">the </span></div> </div></div></div><div class=\"contnr c3    l r \" ><div class=\"lbl c3  \" ><span class=\"nd\">line</span></div> <div class=\"children row wrap \"><div class=\"contnr c0 trm   \" ><div class=\"lbl c0 trm \" ><span class=\"txtu\">final </span></div> </div></div></div><div class=\"contnr c3    l \" ><div class=\"lbl c3  \" ><span class=\"nd\">line</span></div> <div class=\"children row wrap \"><div class=\"contnr c0 trm   \" ><div class=\"lbl c0 trm \" ><span class=\"txtu\">truth. </span></div> </div></div></div></div></div>"
      ],
      "text/plain": [
       "<IPython.core.display.HTML object>"
      ]
     },
     "metadata": {},
     "output_type": "display_data"
    },
    {
     "data": {
      "text/html": [
       "<p><b>result</b> <i>4</i></p>"
      ],
      "text/plain": [
       "<IPython.core.display.HTML object>"
      ]
     },
     "metadata": {},
     "output_type": "display_data"
    },
    {
     "data": {
      "text/html": [
       "<span class=\"section ltr\">Consider Phlebas 1:1 </span><div class=\"contnr c3    \" ><div class=\"lbl c3  \" ><span class=\"nd\">sentence</span></div> <div class=\"children row wrap \"><div class=\"contnr c3    r \" ><div class=\"lbl c3  \" ><span class=\"nd\">line</span></div> <div class=\"children row wrap \"><div class=\"contnr c0 trm   hl\" ><div class=\"lbl c0 trm hl\" ><span class=\"txtu\">Everything </span></div> </div></div></div><div class=\"contnr c3    l r \" ><div class=\"lbl c3  \" ><span class=\"nd\">line</span></div> <div class=\"children row wrap \"><div class=\"contnr c0 trm   \" ><div class=\"lbl c0 trm \" ><span class=\"txtu\">about </span></div> </div></div></div><div class=\"contnr c3    l \" ><div class=\"lbl c3  \" ><span class=\"nd\">line</span></div> <div class=\"children row wrap \"><div class=\"contnr c0 trm   \" ><div class=\"lbl c0 trm \" ><span class=\"txtu\">us, </span></div> </div></div></div><div class=\"contnr c3    r \" ><div class=\"lbl c3  \" ><span class=\"nd\">line</span></div> <div class=\"children row wrap \"><div class=\"contnr c0 trm   hl\" ><div class=\"lbl c0 trm hl\" ><span class=\"txtu\">everything </span></div> </div></div></div><div class=\"contnr c3    l r \" ><div class=\"lbl c3  \" ><span class=\"nd\">line</span></div> <div class=\"children row wrap \"><div class=\"contnr c0 trm   \" ><div class=\"lbl c0 trm \" ><span class=\"txtu\">around </span></div> </div></div></div><div class=\"contnr c3    l \" ><div class=\"lbl c3  \" ><span class=\"nd\">line</span></div> <div class=\"children row wrap \"><div class=\"contnr c0 trm   \" ><div class=\"lbl c0 trm \" ><span class=\"txtu\">us, </span></div> </div></div></div><div class=\"contnr c3    r \" ><div class=\"lbl c3  \" ><span class=\"nd\">line</span></div> <div class=\"children row wrap \"><div class=\"contnr c0 trm   \" ><div class=\"lbl c0 trm \" ><span class=\"txtu\">everything </span></div> </div></div></div><div class=\"contnr c3    l r \" ><div class=\"lbl c3  \" ><span class=\"nd\">line</span></div> <div class=\"children row wrap \"><div class=\"contnr c0 trm   \" ><div class=\"lbl c0 trm \" ><span class=\"txtu\">we </span></div> </div></div></div><div class=\"contnr c3    l r \" ><div class=\"lbl c3  \" ><span class=\"nd\">line</span></div> <div class=\"children row wrap \"><div class=\"contnr c0 trm   \" ><div class=\"lbl c0 trm \" ><span class=\"txtu\">know </span></div> </div></div></div><div class=\"contnr c0 trm   \" ><div class=\"lbl c0 trm \" ><span class=\"txtu\">and </span></div> </div><div class=\"contnr c0 trm   \" ><div class=\"lbl c0 trm \" ><span class=\"txtu\">can </span></div> </div><div class=\"contnr c0 trm   \" ><div class=\"lbl c0 trm \" ><span class=\"txtu\">know </span></div> </div><div class=\"contnr c0 trm   \" ><div class=\"lbl c0 trm \" ><span class=\"txtu\">of </span></div> </div><div class=\"contnr c3    l r \" ><div class=\"lbl c3  \" ><span class=\"nd\">line</span></div> <div class=\"children row wrap \"><div class=\"contnr c0 trm   \" ><div class=\"lbl c0 trm \" ><span class=\"txtu\">is </span></div> </div></div></div><div class=\"contnr c3    l r \" ><div class=\"lbl c3  \" ><span class=\"nd\">line</span></div> <div class=\"children row wrap \"><div class=\"contnr c0 trm   \" ><div class=\"lbl c0 trm \" ><span class=\"txtu\">composed </span></div> </div></div></div><div class=\"contnr c3    l r \" ><div class=\"lbl c3  \" ><span class=\"nd\">line</span></div> <div class=\"children row wrap \"><div class=\"contnr c0 trm   \" ><div class=\"lbl c0 trm \" ><span class=\"txtu\">ultimately </span></div> </div></div></div><div class=\"contnr c3    l r \" ><div class=\"lbl c3  \" ><span class=\"nd\">line</span></div> <div class=\"children row wrap \"><div class=\"contnr c0 trm   \" ><div class=\"lbl c0 trm \" ><span class=\"txtu\">of </span></div> </div></div></div><div class=\"contnr c3    l r \" ><div class=\"lbl c3  \" ><span class=\"nd\">line</span></div> <div class=\"children row wrap \"><div class=\"contnr c0 trm   \" ><div class=\"lbl c0 trm \" ><span class=\"txtu\">patterns </span></div> </div></div></div><div class=\"contnr c3    l r \" ><div class=\"lbl c3  \" ><span class=\"nd\">line</span></div> <div class=\"children row wrap \"><div class=\"contnr c0 trm   \" ><div class=\"lbl c0 trm \" ><span class=\"txtu\">of </span></div> </div></div></div><div class=\"contnr c3    l \" ><div class=\"lbl c3  \" ><span class=\"nd\">line</span></div> <div class=\"children row wrap \"><div class=\"contnr c0 trm   \" ><div class=\"lbl c0 trm \" ><span class=\"txtu\">nothing; </span></div> </div></div></div><div class=\"contnr c3    r \" ><div class=\"lbl c3  \" ><span class=\"nd\">line</span></div> <div class=\"children row wrap \"><div class=\"contnr c0 trm   \" ><div class=\"lbl c0 trm \" ><span class=\"txtu\">that’s </span></div> </div></div></div><div class=\"contnr c3    l r \" ><div class=\"lbl c3  \" ><span class=\"nd\">line</span></div> <div class=\"children row wrap \"><div class=\"contnr c0 trm   \" ><div class=\"lbl c0 trm \" ><span class=\"txtu\">the </span></div> </div></div></div><div class=\"contnr c3    l r \" ><div class=\"lbl c3  \" ><span class=\"nd\">line</span></div> <div class=\"children row wrap \"><div class=\"contnr c0 trm   \" ><div class=\"lbl c0 trm \" ><span class=\"txtu\">bottom </span></div> </div></div></div><div class=\"contnr c3    l r \" ><div class=\"lbl c3  \" ><span class=\"nd\">line</span></div> <div class=\"children row wrap \"><div class=\"contnr c0 trm   \" ><div class=\"lbl c0 trm \" ><span class=\"txtu\">line, </span></div> </div></div></div><div class=\"contnr c3    l r \" ><div class=\"lbl c3  \" ><span class=\"nd\">line</span></div> <div class=\"children row wrap \"><div class=\"contnr c0 trm   \" ><div class=\"lbl c0 trm \" ><span class=\"txtu\">the </span></div> </div></div></div><div class=\"contnr c3    l r \" ><div class=\"lbl c3  \" ><span class=\"nd\">line</span></div> <div class=\"children row wrap \"><div class=\"contnr c0 trm   \" ><div class=\"lbl c0 trm \" ><span class=\"txtu\">final </span></div> </div></div></div><div class=\"contnr c3    l \" ><div class=\"lbl c3  \" ><span class=\"nd\">line</span></div> <div class=\"children row wrap \"><div class=\"contnr c0 trm   \" ><div class=\"lbl c0 trm \" ><span class=\"txtu\">truth. </span></div> </div></div></div></div></div>"
      ],
      "text/plain": [
       "<IPython.core.display.HTML object>"
      ]
     },
     "metadata": {},
     "output_type": "display_data"
    },
    {
     "data": {
      "text/html": [
       "<p><b>result</b> <i>5</i></p>"
      ],
      "text/plain": [
       "<IPython.core.display.HTML object>"
      ]
     },
     "metadata": {},
     "output_type": "display_data"
    },
    {
     "data": {
      "text/html": [
       "<span class=\"section ltr\">Consider Phlebas 1:1 </span><div class=\"contnr c3    \" ><div class=\"lbl c3  \" ><span class=\"nd\">sentence</span></div> <div class=\"children row wrap \"><div class=\"contnr c3    r \" ><div class=\"lbl c3  \" ><span class=\"nd\">line</span></div> <div class=\"children row wrap \"><div class=\"contnr c0 trm   \" ><div class=\"lbl c0 trm \" ><span class=\"txtu\">Everything </span></div> </div></div></div><div class=\"contnr c3    l r \" ><div class=\"lbl c3  \" ><span class=\"nd\">line</span></div> <div class=\"children row wrap \"><div class=\"contnr c0 trm   \" ><div class=\"lbl c0 trm \" ><span class=\"txtu\">about </span></div> </div></div></div><div class=\"contnr c3    l \" ><div class=\"lbl c3  \" ><span class=\"nd\">line</span></div> <div class=\"children row wrap \"><div class=\"contnr c0 trm   \" ><div class=\"lbl c0 trm \" ><span class=\"txtu\">us, </span></div> </div></div></div><div class=\"contnr c3    r \" ><div class=\"lbl c3  \" ><span class=\"nd\">line</span></div> <div class=\"children row wrap \"><div class=\"contnr c0 trm   hl\" ><div class=\"lbl c0 trm hl\" ><span class=\"txtu\">everything </span></div> </div></div></div><div class=\"contnr c3    l r \" ><div class=\"lbl c3  \" ><span class=\"nd\">line</span></div> <div class=\"children row wrap \"><div class=\"contnr c0 trm   \" ><div class=\"lbl c0 trm \" ><span class=\"txtu\">around </span></div> </div></div></div><div class=\"contnr c3    l \" ><div class=\"lbl c3  \" ><span class=\"nd\">line</span></div> <div class=\"children row wrap \"><div class=\"contnr c0 trm   \" ><div class=\"lbl c0 trm \" ><span class=\"txtu\">us, </span></div> </div></div></div><div class=\"contnr c3    r \" ><div class=\"lbl c3  \" ><span class=\"nd\">line</span></div> <div class=\"children row wrap \"><div class=\"contnr c0 trm   hl\" ><div class=\"lbl c0 trm hl\" ><span class=\"txtu\">everything </span></div> </div></div></div><div class=\"contnr c3    l r \" ><div class=\"lbl c3  \" ><span class=\"nd\">line</span></div> <div class=\"children row wrap \"><div class=\"contnr c0 trm   \" ><div class=\"lbl c0 trm \" ><span class=\"txtu\">we </span></div> </div></div></div><div class=\"contnr c3    l r \" ><div class=\"lbl c3  \" ><span class=\"nd\">line</span></div> <div class=\"children row wrap \"><div class=\"contnr c0 trm   \" ><div class=\"lbl c0 trm \" ><span class=\"txtu\">know </span></div> </div></div></div><div class=\"contnr c0 trm   \" ><div class=\"lbl c0 trm \" ><span class=\"txtu\">and </span></div> </div><div class=\"contnr c0 trm   \" ><div class=\"lbl c0 trm \" ><span class=\"txtu\">can </span></div> </div><div class=\"contnr c0 trm   \" ><div class=\"lbl c0 trm \" ><span class=\"txtu\">know </span></div> </div><div class=\"contnr c0 trm   \" ><div class=\"lbl c0 trm \" ><span class=\"txtu\">of </span></div> </div><div class=\"contnr c3    l r \" ><div class=\"lbl c3  \" ><span class=\"nd\">line</span></div> <div class=\"children row wrap \"><div class=\"contnr c0 trm   \" ><div class=\"lbl c0 trm \" ><span class=\"txtu\">is </span></div> </div></div></div><div class=\"contnr c3    l r \" ><div class=\"lbl c3  \" ><span class=\"nd\">line</span></div> <div class=\"children row wrap \"><div class=\"contnr c0 trm   \" ><div class=\"lbl c0 trm \" ><span class=\"txtu\">composed </span></div> </div></div></div><div class=\"contnr c3    l r \" ><div class=\"lbl c3  \" ><span class=\"nd\">line</span></div> <div class=\"children row wrap \"><div class=\"contnr c0 trm   \" ><div class=\"lbl c0 trm \" ><span class=\"txtu\">ultimately </span></div> </div></div></div><div class=\"contnr c3    l r \" ><div class=\"lbl c3  \" ><span class=\"nd\">line</span></div> <div class=\"children row wrap \"><div class=\"contnr c0 trm   \" ><div class=\"lbl c0 trm \" ><span class=\"txtu\">of </span></div> </div></div></div><div class=\"contnr c3    l r \" ><div class=\"lbl c3  \" ><span class=\"nd\">line</span></div> <div class=\"children row wrap \"><div class=\"contnr c0 trm   \" ><div class=\"lbl c0 trm \" ><span class=\"txtu\">patterns </span></div> </div></div></div><div class=\"contnr c3    l r \" ><div class=\"lbl c3  \" ><span class=\"nd\">line</span></div> <div class=\"children row wrap \"><div class=\"contnr c0 trm   \" ><div class=\"lbl c0 trm \" ><span class=\"txtu\">of </span></div> </div></div></div><div class=\"contnr c3    l \" ><div class=\"lbl c3  \" ><span class=\"nd\">line</span></div> <div class=\"children row wrap \"><div class=\"contnr c0 trm   \" ><div class=\"lbl c0 trm \" ><span class=\"txtu\">nothing; </span></div> </div></div></div><div class=\"contnr c3    r \" ><div class=\"lbl c3  \" ><span class=\"nd\">line</span></div> <div class=\"children row wrap \"><div class=\"contnr c0 trm   \" ><div class=\"lbl c0 trm \" ><span class=\"txtu\">that’s </span></div> </div></div></div><div class=\"contnr c3    l r \" ><div class=\"lbl c3  \" ><span class=\"nd\">line</span></div> <div class=\"children row wrap \"><div class=\"contnr c0 trm   \" ><div class=\"lbl c0 trm \" ><span class=\"txtu\">the </span></div> </div></div></div><div class=\"contnr c3    l r \" ><div class=\"lbl c3  \" ><span class=\"nd\">line</span></div> <div class=\"children row wrap \"><div class=\"contnr c0 trm   \" ><div class=\"lbl c0 trm \" ><span class=\"txtu\">bottom </span></div> </div></div></div><div class=\"contnr c3    l r \" ><div class=\"lbl c3  \" ><span class=\"nd\">line</span></div> <div class=\"children row wrap \"><div class=\"contnr c0 trm   \" ><div class=\"lbl c0 trm \" ><span class=\"txtu\">line, </span></div> </div></div></div><div class=\"contnr c3    l r \" ><div class=\"lbl c3  \" ><span class=\"nd\">line</span></div> <div class=\"children row wrap \"><div class=\"contnr c0 trm   \" ><div class=\"lbl c0 trm \" ><span class=\"txtu\">the </span></div> </div></div></div><div class=\"contnr c3    l r \" ><div class=\"lbl c3  \" ><span class=\"nd\">line</span></div> <div class=\"children row wrap \"><div class=\"contnr c0 trm   \" ><div class=\"lbl c0 trm \" ><span class=\"txtu\">final </span></div> </div></div></div><div class=\"contnr c3    l \" ><div class=\"lbl c3  \" ><span class=\"nd\">line</span></div> <div class=\"children row wrap \"><div class=\"contnr c0 trm   \" ><div class=\"lbl c0 trm \" ><span class=\"txtu\">truth. </span></div> </div></div></div></div></div>"
      ],
      "text/plain": [
       "<IPython.core.display.HTML object>"
      ]
     },
     "metadata": {},
     "output_type": "display_data"
    }
   ],
   "source": [
    "A.show(results, end=5)"
   ]
  },
  {
   "cell_type": "markdown",
   "metadata": {},
   "source": [
    "We sort each pair.\n",
    "We keep track of pairs we have seen in order to prevent printing duplicate pairs."
   ]
  },
  {
   "cell_type": "code",
   "execution_count": 8,
   "metadata": {},
   "outputs": [
    {
     "name": "stdout",
     "output_type": "stream",
     "text": [
      "know ~ own\n",
      "harness ~ patterns\n",
      "nothing ~ things\n",
      "that ~ that’s\n",
      "the ~ those\n",
      "bottom ~ most\n",
      "life ~ line\n",
      "societies ~ those\n",
      "not ~ to\n",
      "make ~ take\n",
      "elegant ~ languages\n",
      "mattered ~ terms\n",
      "left ~ life\n",
      "humans ~ mountains\n",
      "care ~ romance\n",
      "studying ~ things\n",
      "impossible ~ problems\n"
     ]
    }
   ],
   "source": [
    "seen = set()\n",
    "for (w1, w2) in results:\n",
    "  if (w2, 100) in E.sim.b(w1):\n",
    "    continue\n",
    "  letters1 = F.letters.v(w1)\n",
    "  letters2 = F.letters.v(w2)\n",
    "  pair = tuple(sorted((letters1, letters2)))\n",
    "  if pair in seen:\n",
    "    continue\n",
    "  seen.add(pair)\n",
    "  print(' ~ '.join(pair))"
   ]
  },
  {
   "cell_type": "markdown",
   "metadata": {},
   "source": [
    "---\n",
    "All chapters:\n",
    "\n",
    "* [use](use.ipynb)\n",
    "* [share](share.ipynb)\n",
    "* *app*\n",
    "* [repo](repo.ipynb)\n",
    "* [compose](compose.ipynb)\n",
    "\n",
    "---\n",
    "\n",
    "CC-BY Dirk Roorda"
   ]
  }
 ],
 "metadata": {
  "kernelspec": {
   "display_name": "Python 3",
   "language": "python",
   "name": "python3"
  },
  "language_info": {
   "codemirror_mode": {
    "name": "ipython",
    "version": 3
   },
   "file_extension": ".py",
   "mimetype": "text/x-python",
   "name": "python",
   "nbconvert_exporter": "python",
   "pygments_lexer": "ipython3",
   "version": "3.7.7"
  }
 },
 "nbformat": 4,
 "nbformat_minor": 4
}
