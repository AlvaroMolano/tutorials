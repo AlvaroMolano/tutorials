{
 "cells": [
  {
   "cell_type": "markdown",
   "metadata": {},
   "source": [
    "<img align=\"right\" src=\"images/tf.png\" width=\"128\"/>\n",
    "<img align=\"right\" src=\"images/ninologo.png\" width=\"128\"/>\n",
    "<img align=\"right\" src=\"images/dans.png\" width=\"128\"/>\n",
    "\n",
    "---\n",
    "\n",
    "To get started: consult [start](start.ipynb)\n",
    "\n",
    "---\n",
    "\n",
    "# Sharing data features\n",
    "\n",
    "## Explore additional data\n",
    "\n",
    "Once you analyse a corpus, it is likely that you produce data that others can reuse.\n",
    "Maybe you have defined a set of proper name occurrences, or special numerals, or you have computed part-of-speech assignments.\n",
    "\n",
    "It is possible to turn these insights into *new features*, i.e. new `.tf` files with values assigned to specific nodes.\n",
    "\n",
    "## Make your own data\n",
    "\n",
    "New data is a product of your own methods and computations in the first place.\n",
    "But how do you turn that data into new TF features?\n",
    "It turns out that the last step is not that difficult.\n",
    "\n",
    "If you can shape your data as a mapping (dictionary) from node numbers (integers) to values\n",
    "(strings or integers), then TF can turn that data into a feature file for you with one command.\n",
    "\n",
    "## Share your new data\n",
    "You can then easily share your new features on GitHub, so that your colleagues everywhere \n",
    "can try it out for themselves.\n",
    "\n",
    "You can add such data on the fly, by passing a `mod={org}/{repo}/{path}` parameter,\n",
    "or a bunch of them separated by commas.\n",
    "\n",
    "If the data is there, it will be auto-downloaded and stored on your machine.\n",
    "\n",
    "Let's do it."
   ]
  },
  {
   "cell_type": "code",
   "execution_count": 1,
   "metadata": {},
   "outputs": [],
   "source": [
    "%load_ext autoreload\n",
    "%autoreload 2"
   ]
  },
  {
   "cell_type": "code",
   "execution_count": 2,
   "metadata": {
    "ExecuteTime": {
     "end_time": "2018-05-24T10:06:39.818664Z",
     "start_time": "2018-05-24T10:06:39.796588Z"
    }
   },
   "outputs": [],
   "source": [
    "import collections\n",
    "\n",
    "from tf.app import use"
   ]
  },
  {
   "cell_type": "code",
   "execution_count": 3,
   "metadata": {},
   "outputs": [
    {
     "name": "stdout",
     "output_type": "stream",
     "text": [
      "Using TF-app in /Users/dirk/github/annotation/app-oldbabylonian/code:\n",
      "\trepo clone offline under ~/github (local github)\n",
      "Using data in /Users/dirk/github/Nino-cunei/oldbabylonian/tf/1.0.4:\n",
      "\trepo clone offline under ~/github (local github)\n",
      "   |     0.00s No structure info in otext, the structure part of the T-API cannot be used\n"
     ]
    },
    {
     "data": {
      "text/html": [
       "<b>Documentation:</b> <a target=\"_blank\" href=\"https://github.com/Nino-cunei/oldbabylonian/blob/master/docs/\" title=\"provenance of Old Babylonian Letters 1900-1600: Cuneiform tablets \">OLDBABYLONIAN</a> <a target=\"_blank\" href=\"https://github.com/Nino-cunei/oldbabylonian/blob/master/docs/transcription.md\" title=\"How TF features represent ATF\">Character table</a> <a target=\"_blank\" href=\"https://github.com/Nino-cunei/oldbabylonian/blob/master/docs//transcription.md\" title=\"OLDBABYLONIAN feature documentation\">Feature docs</a> <a target=\"_blank\" href=\"https://github.com/annotation/app-oldbabylonian\" title=\"oldbabylonian API documentation\">oldbabylonian API</a> <a target=\"_blank\" href=\"https://annotation.github.io/text-fabric/Api/Fabric/\" title=\"text-fabric-api\">Text-Fabric API 7.11.1</a> <a target=\"_blank\" href=\"https://annotation.github.io/text-fabric/Use/Search/\" title=\"Search Templates Introduction and Reference\">Search Reference</a><details open><summary><b>Loaded features</b>:</summary>\n",
       "<p><b>Old Babylonian Letters 1900-1600: Cuneiform tablets </b>: <a target=\"_blank\" href=\"https://github.com/Nino-cunei/oldbabylonian/blob/master/docs//transcription.md\" title=\"/Users/dirk/github/Nino-cunei/oldbabylonian/tf/1.0.4/ARK.tf\">ARK</a>  <a target=\"_blank\" href=\"https://github.com/Nino-cunei/oldbabylonian/blob/master/docs//transcription.md\" title=\"/Users/dirk/github/Nino-cunei/oldbabylonian/tf/1.0.4/after.tf\">after</a>  <a target=\"_blank\" href=\"https://github.com/Nino-cunei/oldbabylonian/blob/master/docs//transcription.md\" title=\"/Users/dirk/github/Nino-cunei/oldbabylonian/tf/1.0.4/afterr.tf\">afterr</a>  <a target=\"_blank\" href=\"https://github.com/Nino-cunei/oldbabylonian/blob/master/docs//transcription.md\" title=\"/Users/dirk/github/Nino-cunei/oldbabylonian/tf/1.0.4/afteru.tf\">afteru</a>  <a target=\"_blank\" href=\"https://github.com/Nino-cunei/oldbabylonian/blob/master/docs//transcription.md\" title=\"/Users/dirk/github/Nino-cunei/oldbabylonian/tf/1.0.4/atf.tf\">atf</a>  <a target=\"_blank\" href=\"https://github.com/Nino-cunei/oldbabylonian/blob/master/docs//transcription.md\" title=\"/Users/dirk/github/Nino-cunei/oldbabylonian/tf/1.0.4/atfpost.tf\">atfpost</a>  <a target=\"_blank\" href=\"https://github.com/Nino-cunei/oldbabylonian/blob/master/docs//transcription.md\" title=\"/Users/dirk/github/Nino-cunei/oldbabylonian/tf/1.0.4/atfpre.tf\">atfpre</a>  <a target=\"_blank\" href=\"https://github.com/Nino-cunei/oldbabylonian/blob/master/docs//transcription.md\" title=\"/Users/dirk/github/Nino-cunei/oldbabylonian/tf/1.0.4/author.tf\">author</a>  <a target=\"_blank\" href=\"https://github.com/Nino-cunei/oldbabylonian/blob/master/docs//transcription.md\" title=\"/Users/dirk/github/Nino-cunei/oldbabylonian/tf/1.0.4/col.tf\">col</a>  <a target=\"_blank\" href=\"https://github.com/Nino-cunei/oldbabylonian/blob/master/docs//transcription.md\" title=\"/Users/dirk/github/Nino-cunei/oldbabylonian/tf/1.0.4/collated.tf\">collated</a>  <a target=\"_blank\" href=\"https://github.com/Nino-cunei/oldbabylonian/blob/master/docs//transcription.md\" title=\"/Users/dirk/github/Nino-cunei/oldbabylonian/tf/1.0.4/collection.tf\">collection</a>  <a target=\"_blank\" href=\"https://github.com/Nino-cunei/oldbabylonian/blob/master/docs//transcription.md\" title=\"/Users/dirk/github/Nino-cunei/oldbabylonian/tf/1.0.4/comment.tf\">comment</a>  <a target=\"_blank\" href=\"https://github.com/Nino-cunei/oldbabylonian/blob/master/docs//transcription.md\" title=\"/Users/dirk/github/Nino-cunei/oldbabylonian/tf/1.0.4/damage.tf\">damage</a>  <a target=\"_blank\" href=\"https://github.com/Nino-cunei/oldbabylonian/blob/master/docs//transcription.md\" title=\"/Users/dirk/github/Nino-cunei/oldbabylonian/tf/1.0.4/det.tf\">det</a>  <a target=\"_blank\" href=\"https://github.com/Nino-cunei/oldbabylonian/blob/master/docs//transcription.md\" title=\"/Users/dirk/github/Nino-cunei/oldbabylonian/tf/1.0.4/docnote.tf\">docnote</a>  <a target=\"_blank\" href=\"https://github.com/Nino-cunei/oldbabylonian/blob/master/docs//transcription.md\" title=\"/Users/dirk/github/Nino-cunei/oldbabylonian/tf/1.0.4/docnumber.tf\">docnumber</a>  <a target=\"_blank\" href=\"https://github.com/Nino-cunei/oldbabylonian/blob/master/docs//transcription.md\" title=\"/Users/dirk/github/Nino-cunei/oldbabylonian/tf/1.0.4/excavation.tf\">excavation</a>  <a target=\"_blank\" href=\"https://github.com/Nino-cunei/oldbabylonian/blob/master/docs//transcription.md\" title=\"/Users/dirk/github/Nino-cunei/oldbabylonian/tf/1.0.4/excised.tf\">excised</a>  <a target=\"_blank\" href=\"https://github.com/Nino-cunei/oldbabylonian/blob/master/docs//transcription.md\" title=\"/Users/dirk/github/Nino-cunei/oldbabylonian/tf/1.0.4/face.tf\">face</a>  <a target=\"_blank\" href=\"https://github.com/Nino-cunei/oldbabylonian/blob/master/docs//transcription.md\" title=\"/Users/dirk/github/Nino-cunei/oldbabylonian/tf/1.0.4/flags.tf\">flags</a>  <a target=\"_blank\" href=\"https://github.com/Nino-cunei/oldbabylonian/blob/master/docs//transcription.md\" title=\"/Users/dirk/github/Nino-cunei/oldbabylonian/tf/1.0.4/fraction.tf\">fraction</a>  <a target=\"_blank\" href=\"https://github.com/Nino-cunei/oldbabylonian/blob/master/docs//transcription.md\" title=\"/Users/dirk/github/Nino-cunei/oldbabylonian/tf/1.0.4/genre.tf\">genre</a>  <a target=\"_blank\" href=\"https://github.com/Nino-cunei/oldbabylonian/blob/master/docs//transcription.md\" title=\"/Users/dirk/github/Nino-cunei/oldbabylonian/tf/1.0.4/grapheme.tf\">grapheme</a>  <a target=\"_blank\" href=\"https://github.com/Nino-cunei/oldbabylonian/blob/master/docs//transcription.md\" title=\"/Users/dirk/github/Nino-cunei/oldbabylonian/tf/1.0.4/graphemer.tf\">graphemer</a>  <a target=\"_blank\" href=\"https://github.com/Nino-cunei/oldbabylonian/blob/master/docs//transcription.md\" title=\"/Users/dirk/github/Nino-cunei/oldbabylonian/tf/1.0.4/graphemeu.tf\">graphemeu</a>  <a target=\"_blank\" href=\"https://github.com/Nino-cunei/oldbabylonian/blob/master/docs//transcription.md\" title=\"/Users/dirk/github/Nino-cunei/oldbabylonian/tf/1.0.4/lang.tf\">lang</a>  <a target=\"_blank\" href=\"https://github.com/Nino-cunei/oldbabylonian/blob/master/docs//transcription.md\" title=\"/Users/dirk/github/Nino-cunei/oldbabylonian/tf/1.0.4/langalt.tf\">langalt</a>  <a target=\"_blank\" href=\"https://github.com/Nino-cunei/oldbabylonian/blob/master/docs//transcription.md\" title=\"/Users/dirk/github/Nino-cunei/oldbabylonian/tf/1.0.4/ln.tf\">ln</a>  <a target=\"_blank\" href=\"https://github.com/Nino-cunei/oldbabylonian/blob/master/docs//transcription.md\" title=\"/Users/dirk/github/Nino-cunei/oldbabylonian/tf/1.0.4/lnc.tf\">lnc</a>  <a target=\"_blank\" href=\"https://github.com/Nino-cunei/oldbabylonian/blob/master/docs//transcription.md\" title=\"/Users/dirk/github/Nino-cunei/oldbabylonian/tf/1.0.4/lnno.tf\">lnno</a>  <a target=\"_blank\" href=\"https://github.com/Nino-cunei/oldbabylonian/blob/master/docs//transcription.md\" title=\"/Users/dirk/github/Nino-cunei/oldbabylonian/tf/1.0.4/material.tf\">material</a>  <a target=\"_blank\" href=\"https://github.com/Nino-cunei/oldbabylonian/blob/master/docs//transcription.md\" title=\"/Users/dirk/github/Nino-cunei/oldbabylonian/tf/1.0.4/missing.tf\">missing</a>  <a target=\"_blank\" href=\"https://github.com/Nino-cunei/oldbabylonian/blob/master/docs//transcription.md\" title=\"/Users/dirk/github/Nino-cunei/oldbabylonian/tf/1.0.4/museumcode.tf\">museumcode</a>  <a target=\"_blank\" href=\"https://github.com/Nino-cunei/oldbabylonian/blob/master/docs//transcription.md\" title=\"/Users/dirk/github/Nino-cunei/oldbabylonian/tf/1.0.4/museumname.tf\">museumname</a>  <a target=\"_blank\" href=\"https://github.com/Nino-cunei/oldbabylonian/blob/master/docs//transcription.md\" title=\"/Users/dirk/github/Nino-cunei/oldbabylonian/tf/1.0.4/object.tf\">object</a>  <a target=\"_blank\" href=\"https://github.com/Nino-cunei/oldbabylonian/blob/master/docs//transcription.md\" title=\"/Users/dirk/github/Nino-cunei/oldbabylonian/tf/1.0.4/operator.tf\">operator</a>  <a target=\"_blank\" href=\"https://github.com/Nino-cunei/oldbabylonian/blob/master/docs//transcription.md\" title=\"/Users/dirk/github/Nino-cunei/oldbabylonian/tf/1.0.4/operatorr.tf\">operatorr</a>  <a target=\"_blank\" href=\"https://github.com/Nino-cunei/oldbabylonian/blob/master/docs//transcription.md\" title=\"/Users/dirk/github/Nino-cunei/oldbabylonian/tf/1.0.4/operatoru.tf\">operatoru</a>  <a target=\"_blank\" href=\"https://github.com/Nino-cunei/oldbabylonian/blob/master/docs//transcription.md\" title=\"/Users/dirk/github/Nino-cunei/oldbabylonian/tf/1.0.4/otype.tf\">otype</a>  <a target=\"_blank\" href=\"https://github.com/Nino-cunei/oldbabylonian/blob/master/docs//transcription.md\" title=\"/Users/dirk/github/Nino-cunei/oldbabylonian/tf/1.0.4/period.tf\">period</a>  <a target=\"_blank\" href=\"https://github.com/Nino-cunei/oldbabylonian/blob/master/docs//transcription.md\" title=\"/Users/dirk/github/Nino-cunei/oldbabylonian/tf/1.0.4/pnumber.tf\">pnumber</a>  <a target=\"_blank\" href=\"https://github.com/Nino-cunei/oldbabylonian/blob/master/docs//transcription.md\" title=\"/Users/dirk/github/Nino-cunei/oldbabylonian/tf/1.0.4/primecol.tf\">primecol</a>  <a target=\"_blank\" href=\"https://github.com/Nino-cunei/oldbabylonian/blob/master/docs//transcription.md\" title=\"/Users/dirk/github/Nino-cunei/oldbabylonian/tf/1.0.4/primeln.tf\">primeln</a>  <a target=\"_blank\" href=\"https://github.com/Nino-cunei/oldbabylonian/blob/master/docs//transcription.md\" title=\"/Users/dirk/github/Nino-cunei/oldbabylonian/tf/1.0.4/pubdate.tf\">pubdate</a>  <a target=\"_blank\" href=\"https://github.com/Nino-cunei/oldbabylonian/blob/master/docs//transcription.md\" title=\"/Users/dirk/github/Nino-cunei/oldbabylonian/tf/1.0.4/question.tf\">question</a>  <a target=\"_blank\" href=\"https://github.com/Nino-cunei/oldbabylonian/blob/master/docs//transcription.md\" title=\"/Users/dirk/github/Nino-cunei/oldbabylonian/tf/1.0.4/reading.tf\">reading</a>  <a target=\"_blank\" href=\"https://github.com/Nino-cunei/oldbabylonian/blob/master/docs//transcription.md\" title=\"/Users/dirk/github/Nino-cunei/oldbabylonian/tf/1.0.4/readingr.tf\">readingr</a>  <a target=\"_blank\" href=\"https://github.com/Nino-cunei/oldbabylonian/blob/master/docs//transcription.md\" title=\"/Users/dirk/github/Nino-cunei/oldbabylonian/tf/1.0.4/readingu.tf\">readingu</a>  <a target=\"_blank\" href=\"https://github.com/Nino-cunei/oldbabylonian/blob/master/docs//transcription.md\" title=\"/Users/dirk/github/Nino-cunei/oldbabylonian/tf/1.0.4/remarkable.tf\">remarkable</a>  <a target=\"_blank\" href=\"https://github.com/Nino-cunei/oldbabylonian/blob/master/docs//transcription.md\" title=\"/Users/dirk/github/Nino-cunei/oldbabylonian/tf/1.0.4/remarks.tf\">remarks</a>  <a target=\"_blank\" href=\"https://github.com/Nino-cunei/oldbabylonian/blob/master/docs//transcription.md\" title=\"/Users/dirk/github/Nino-cunei/oldbabylonian/tf/1.0.4/repeat.tf\">repeat</a>  <a target=\"_blank\" href=\"https://github.com/Nino-cunei/oldbabylonian/blob/master/docs//transcription.md\" title=\"/Users/dirk/github/Nino-cunei/oldbabylonian/tf/1.0.4/srcLn.tf\">srcLn</a>  <a target=\"_blank\" href=\"https://github.com/Nino-cunei/oldbabylonian/blob/master/docs//transcription.md\" title=\"/Users/dirk/github/Nino-cunei/oldbabylonian/tf/1.0.4/srcLnNum.tf\">srcLnNum</a>  <a target=\"_blank\" href=\"https://github.com/Nino-cunei/oldbabylonian/blob/master/docs//transcription.md\" title=\"/Users/dirk/github/Nino-cunei/oldbabylonian/tf/1.0.4/srcfile.tf\">srcfile</a>  <a target=\"_blank\" href=\"https://github.com/Nino-cunei/oldbabylonian/blob/master/docs//transcription.md\" title=\"/Users/dirk/github/Nino-cunei/oldbabylonian/tf/1.0.4/subgenre.tf\">subgenre</a>  <a target=\"_blank\" href=\"https://github.com/Nino-cunei/oldbabylonian/blob/master/docs//transcription.md\" title=\"/Users/dirk/github/Nino-cunei/oldbabylonian/tf/1.0.4/supplied.tf\">supplied</a>  <a target=\"_blank\" href=\"https://github.com/Nino-cunei/oldbabylonian/blob/master/docs//transcription.md\" title=\"/Users/dirk/github/Nino-cunei/oldbabylonian/tf/1.0.4/sym.tf\">sym</a>  <a target=\"_blank\" href=\"https://github.com/Nino-cunei/oldbabylonian/blob/master/docs//transcription.md\" title=\"/Users/dirk/github/Nino-cunei/oldbabylonian/tf/1.0.4/symr.tf\">symr</a>  <a target=\"_blank\" href=\"https://github.com/Nino-cunei/oldbabylonian/blob/master/docs//transcription.md\" title=\"/Users/dirk/github/Nino-cunei/oldbabylonian/tf/1.0.4/symu.tf\">symu</a>  <a target=\"_blank\" href=\"https://github.com/Nino-cunei/oldbabylonian/blob/master/docs//transcription.md\" title=\"/Users/dirk/github/Nino-cunei/oldbabylonian/tf/1.0.4/trans.tf\">trans</a>  <a target=\"_blank\" href=\"https://github.com/Nino-cunei/oldbabylonian/blob/master/docs//transcription.md\" title=\"/Users/dirk/github/Nino-cunei/oldbabylonian/tf/1.0.4/transcriber.tf\">transcriber</a>  <a target=\"_blank\" href=\"https://github.com/Nino-cunei/oldbabylonian/blob/master/docs//transcription.md\" title=\"/Users/dirk/github/Nino-cunei/oldbabylonian/tf/1.0.4/translation@en.tf\">translation@ll</a>  <a target=\"_blank\" href=\"https://github.com/Nino-cunei/oldbabylonian/blob/master/docs//transcription.md\" title=\"/Users/dirk/github/Nino-cunei/oldbabylonian/tf/1.0.4/type.tf\">type</a>  <a target=\"_blank\" href=\"https://github.com/Nino-cunei/oldbabylonian/blob/master/docs//transcription.md\" title=\"/Users/dirk/github/Nino-cunei/oldbabylonian/tf/1.0.4/uncertain.tf\">uncertain</a>  <a target=\"_blank\" href=\"https://github.com/Nino-cunei/oldbabylonian/blob/master/docs//transcription.md\" title=\"/Users/dirk/github/Nino-cunei/oldbabylonian/tf/1.0.4/volume.tf\">volume</a>  <b><i><a target=\"_blank\" href=\"https://github.com/Nino-cunei/oldbabylonian/blob/master/docs//transcription.md\" title=\"/Users/dirk/github/Nino-cunei/oldbabylonian/tf/1.0.4/oslots.tf\">oslots</a></i></b> </p></details>"
      ],
      "text/plain": [
       "<IPython.core.display.HTML object>"
      ]
     },
     "metadata": {},
     "output_type": "display_data"
    },
    {
     "data": {
      "text/html": [
       "<style>\n",
       "@font-face {\n",
       "  font-family: \"Santakku\";\n",
       "  src:\n",
       "    local(\"Santakku.ttf\"),\n",
       "    url(\"https://github.com/annotation/text-fabric/blob/master/tf/server/static/fonts/Santakku.woff?raw=true\");\n",
       "}\n",
       ".features {\n",
       "    font-family: monospace;\n",
       "    font-size: medium;\n",
       "    font-weight: bold;\n",
       "    color: #0a6611;\n",
       "    display: flex;\n",
       "    flex-flow: column nowrap;\n",
       "    padding: 0.1em;\n",
       "    margin: 0.1em;\n",
       "    direction: ltr;\n",
       "}\n",
       ".features div,.features span {\n",
       "    padding: 0;\n",
       "    margin: -0.1rem 0;\n",
       "}\n",
       ".features .f {\n",
       "    font-family: sans-serif;\n",
       "    font-size: x-small;\n",
       "    font-weight: normal;\n",
       "    color: #5555bb;\n",
       "}\n",
       ".features .xft {\n",
       "  color: #000000;\n",
       "  background-color: #eeeeee;\n",
       "  font-size: medium;\n",
       "  margin: 0.1em 0em;\n",
       "}\n",
       ".features .xft .f {\n",
       "  color: #000000;\n",
       "  background-color: #eeeeee;\n",
       "  font-style: italic;\n",
       "  font-size: small;\n",
       "  font-weight: normal;\n",
       "}\n",
       ".pnum {\n",
       "    font-family: sans-serif;\n",
       "    font-size: small;\n",
       "    font-weight: bold;\n",
       "    color: #444444;\n",
       "}\n",
       ".nd {\n",
       "    font-family: monospace;\n",
       "    font-size: x-small;\n",
       "    color: #999999;\n",
       "}\n",
       ".outerplain {\n",
       "}\n",
       ".verse {\n",
       "    display: flex;\n",
       "    flex-flow: row wrap;\n",
       "}\n",
       ".vl {\n",
       "    display: flex;\n",
       "    flex-flow: column nowrap;\n",
       "    justify-content: flex-start;\n",
       "    align-items: flex-start;\n",
       "    width: 100%;\n",
       "}\n",
       ".vn {\n",
       "  font-size: small !important;\n",
       "  padding-right: 1em;\n",
       "}\n",
       ".vrs {\n",
       "    font-family: sans-serif;\n",
       "    font-size: small;\n",
       "    font-weight: bold;\n",
       "    color: #444444;\n",
       "}\n",
       ".txtn,.txtn a:visited,.txtn a:link {\n",
       "    font-family: sans-serif;\n",
       "    font-size: normal;\n",
       "    text-decoration: none;\n",
       "}\n",
       ".txtp,.txtp a:visited,.txtp a:link {\n",
       "    font-family: monospace;\n",
       "    font-size: normal;\n",
       "    text-decoration: none;\n",
       "}\n",
       ".txtr,.txtr a:visited,.txtr a:link {\n",
       "    font-family: serif;\n",
       "    font-size: large;\n",
       "    text-decoration: none;\n",
       "}\n",
       ".txtu,.txtu a:visited,.txtu a:link {\n",
       "    font-family: Santakku;\n",
       "    font-size: x-large;\n",
       "    text-decoration: none;\n",
       "}\n",
       ".meta {\n",
       "    display: flex;\n",
       "    justify-content: flex-start;\n",
       "    align-items: flex-start;\n",
       "    align-content: flex-start;\n",
       "    flex-flow: row nowrap;\n",
       "}\n",
       ".features,.comments {\n",
       "    display: flex;\n",
       "    justify-content: flex-start;\n",
       "    align-items: flex-start;\n",
       "    align-content: flex-start;\n",
       "    flex-flow: column nowrap;\n",
       "}\n",
       ".children {\n",
       "    display: flex;\n",
       "    justify-content: flex-start;\n",
       "    align-items: flex-start;\n",
       "    align-content: flex-start;\n",
       "    border: 0;\n",
       "    background-color: #ffffff;\n",
       "}\n",
       ".children.document {\n",
       "    flex-flow: column nowrap;\n",
       "}\n",
       ".children.face {\n",
       "    flex-flow: column nowrap;\n",
       "}\n",
       ".children.line {\n",
       "    align-items: stretch;\n",
       "    flex-flow: row nowrap;\n",
       "}\n",
       ".children.cluster {\n",
       "    flex-flow: row wrap;\n",
       "}\n",
       ".children.word {\n",
       "    align-items: stretch;\n",
       "    flex-flow: row nowrap;\n",
       "}\n",
       ".children.sign {\n",
       "    flex-flow: column nowrap;\n",
       "}\n",
       ".contnr {\n",
       "    width: fit-content;\n",
       "}\n",
       ".contnr.document,.contnr.face,\n",
       ".contnr.line,\n",
       ".contnr.cluster,\n",
       ".contnr.word,\n",
       ".contnr.sign {\n",
       "    display: flex;\n",
       "    justify-content: flex-start;\n",
       "    align-items: flex-start;\n",
       "    align-content: flex-start;\n",
       "    flex-flow: column nowrap;\n",
       "    background: #ffffff none repeat scroll 0 0;\n",
       "    padding:  0.5em 0.1em 0.1em 0.1em;\n",
       "    margin: 0.8em 0.1em 0.1em 0.1em;\n",
       "    border-radius: 0.2rem;\n",
       "    border-style: solid;\n",
       "    border-width: 0.1rem;\n",
       "    font-size: small;\n",
       "}\n",
       ".contnr.document,.contnr.face {\n",
       "    border-color: #bb9966;\n",
       "}\n",
       ".contnr.line {\n",
       "    border-color: #6699bb;\n",
       "}\n",
       ".contnr.cluster {\n",
       "    flex-flow: row wrap;\n",
       "    border: 0;\n",
       "}\n",
       ".contnr.word {\n",
       "    border-color: #bbbbbb;\n",
       "}\n",
       ".contnr.sign {\n",
       "    border-color: #dddddd;\n",
       "}\n",
       ".contnr.hl {\n",
       "    background-color: #ffee66;\n",
       "}\n",
       ".lbl.document,.lbl.face,\n",
       ".lbl.line,\n",
       ".lbl.cluster,\n",
       ".lbl.sign,.lbl.word {\n",
       "    margin-top: -1.2em;\n",
       "    margin-left: 1em;\n",
       "    background: #ffffff none repeat scroll 0 0;\n",
       "    padding: 0 0.3em;\n",
       "    border-style: solid;\n",
       "    font-size: small;\n",
       "    display: block;\n",
       "}\n",
       ".lbl.document,.lbl.face {\n",
       "    border-color: #bb9966;\n",
       "    border-width: 0.1rem;\n",
       "    border-radius: 0.1rem;\n",
       "    color: #bb8800;\n",
       "}\n",
       ".lbl.line {\n",
       "    border-color: #6699bb;\n",
       "    border-width: 0.1rem;\n",
       "    border-radius: 0.1rem;\n",
       "    color: #0088bb;\n",
       "}\n",
       ".lbl.cluster {\n",
       "    border-color: #dddddd;\n",
       "    border-width: 0.1rem;\n",
       "    border-radius: 0.1rem;\n",
       "    color: #0000cc;\n",
       "}\n",
       ".lbl.word {\n",
       "    border-color: #bbbbbb;\n",
       "    border-width: 0.1rem;\n",
       "    border-radius: 0.1rem;\n",
       "    font-size: medium;\n",
       "    color: #000000;\n",
       "}\n",
       ".lbl.sign {\n",
       "    border-color: #dddddd;\n",
       "    border-width: 0.1rem;\n",
       "    border-radius: 0.1rem;\n",
       "    font-size: small;\n",
       "    color: #000000;\n",
       "}\n",
       ".op {\n",
       "    padding:  0.5em 0.1em 0.1em 0.1em;\n",
       "    margin: 0.8em 0.1em 0.1em 0.1em;\n",
       "    font-family: monospace;\n",
       "    font-size: x-large;\n",
       "    font-weight: bold;\n",
       "}\n",
       ".name {\n",
       "    font-family: monospace;\n",
       "    font-size: medium;\n",
       "    color: #0000bb;\n",
       "}\n",
       ".period {\n",
       "    font-family: monospace;\n",
       "    font-size: medium;\n",
       "    font-weight: bold;\n",
       "    color: #0000bb;\n",
       "}\n",
       ".text {\n",
       "    font-family: sans-serif;\n",
       "    font-size: x-small;\n",
       "    color: #000000;\n",
       "}\n",
       ".srcln {\n",
       "    font-family: monospace;\n",
       "    font-size: medium;\n",
       "    color: #000000;\n",
       "}\n",
       ".srclnnum {\n",
       "    font-family: monospace;\n",
       "    font-size: x-small;\n",
       "    color: #0000bb;\n",
       "}\n",
       ".comment {\n",
       "    color: #7777dd;\n",
       "    font-family: monospace;\n",
       "    font-size: small;\n",
       "}\n",
       ".operator {\n",
       "    color: #ff77ff;\n",
       "    font-size: large;\n",
       "}\n",
       "/* LANGUAGE: superscript and subscript */\n",
       "\n",
       "/* cluster */\n",
       ".det {\n",
       "    vertical-align: super;\n",
       "}\n",
       "/* cluster */\n",
       ".langalt {\n",
       "    vertical-align: sub;\n",
       "}\n",
       "/* REDACTIONAL: line over or under  */\n",
       "\n",
       "/* flag */\n",
       ".collated {\n",
       "    font-weight: bold;\n",
       "    text-decoration: underline;\n",
       "}\n",
       "/* cluster */\n",
       ".excised {\n",
       "    color: #dd0000;\n",
       "    text-decoration: line-through;\n",
       "}\n",
       "/* cluster */\n",
       ".supplied {\n",
       "    color: #0000ff;\n",
       "    text-decoration: overline;\n",
       "}\n",
       "/* flag */\n",
       ".remarkable {\n",
       "    font-weight: bold;\n",
       "    text-decoration: overline;\n",
       "}\n",
       "\n",
       "/* UNSURE: italic*/\n",
       "\n",
       "/* cluster */\n",
       ".uncertain {\n",
       "    font-style: italic\n",
       "}\n",
       "/* flag */\n",
       ".question {\n",
       "    font-weight: bold;\n",
       "    font-style: italic\n",
       "}\n",
       "\n",
       "/* BROKEN: text-shadow */\n",
       "\n",
       "/* cluster */\n",
       ".missing {\n",
       "    color: #999999;\n",
       "    text-shadow: #bbbbbb 1px 1px;\n",
       "}\n",
       "/* flag */\n",
       ".damage {\n",
       "    font-weight: bold;\n",
       "    color: #999999;\n",
       "    text-shadow: #bbbbbb 1px 1px;\n",
       "}\n",
       ".empty {\n",
       "  color: #ff0000;\n",
       "}\n",
       "\n",
       "\n",
       "tr.tf, td.tf, th.tf {\n",
       "  text-align: left;\n",
       "}\n",
       "\n",
       "span.hldot {\n",
       "\tbackground-color: var(--hl-strong);\n",
       "\tborder: 0.2rem solid var(--hl-rim);\n",
       "\tborder-radius: 0.4rem;\n",
       "\t/*\n",
       "\tdisplay: inline-block;\n",
       "\twidth: 0.8rem;\n",
       "\theight: 0.8rem;\n",
       "\t*/\n",
       "}\n",
       "span.hl {\n",
       "\tbackground-color: var(--hl-strong);\n",
       "\tborder-width: 0;\n",
       "\tborder-radius: 0.1rem;\n",
       "\tborder-style: solid;\n",
       "}\n",
       "\n",
       "span.hlbx {\n",
       "\tborder-color: var(--hl-dark);\n",
       "\tborder-width: 0.2rem;\n",
       "\tborder-style: solid;\n",
       "\tborder-radius: 0.3rem;\n",
       "  padding: 0.2rem;\n",
       "  margin: 0.2rem;\n",
       "}\n",
       "\n",
       "span.plain {\n",
       "  display: inline-block;\n",
       "  white-space: pre-wrap;\n",
       "}\n",
       "\n",
       ":root {\n",
       "\t--hl-strong:        hsla( 60, 100%,  70%, 0.9  );\n",
       "\t--hl-rim:           hsla( 55, 100%,  60%, 0.9  );\n",
       "\t--hl-dark:          hsla( 55, 100%,  40%, 0.9  );\n",
       "}\n",
       "</style>"
      ],
      "text/plain": [
       "<IPython.core.display.HTML object>"
      ]
     },
     "metadata": {},
     "output_type": "display_data"
    },
    {
     "data": {
      "text/html": [
       "<details open><summary><b>API members</b>:</summary>\n",
       "<a target=\"_blank\" href=\"https://annotation.github.io/text-fabric/Api/Computed/#computed-data\" title=\"doc\">C Computed</a>, <a target=\"_blank\" href=\"https://annotation.github.io/text-fabric/Api/Computed/#computed-data\" title=\"doc\">Call AllComputeds</a>, <a target=\"_blank\" href=\"https://annotation.github.io/text-fabric/Api/Computed/#computed-data\" title=\"doc\">Cs ComputedString</a><br/>\n",
       "<a target=\"_blank\" href=\"https://annotation.github.io/text-fabric/Api/Features/#edge-features\" title=\"doc\">E Edge</a>, <a target=\"_blank\" href=\"https://annotation.github.io/text-fabric/Api/Features/#edge-features\" title=\"doc\">Eall AllEdges</a>, <a target=\"_blank\" href=\"https://annotation.github.io/text-fabric/Api/Features/#edge-features\" title=\"doc\">Es EdgeString</a><br/>\n",
       "<a target=\"_blank\" href=\"https://annotation.github.io/text-fabric/Api/Fabric/#loading\" title=\"doc\">ensureLoaded</a>, <a target=\"_blank\" href=\"https://annotation.github.io/text-fabric/Api/Fabric/#loading\" title=\"doc\">TF</a>, <a target=\"_blank\" href=\"https://annotation.github.io/text-fabric/Api/Fabric/#loading\" title=\"doc\">ignored</a>, <a target=\"_blank\" href=\"https://annotation.github.io/text-fabric/Api/Fabric/#loading\" title=\"doc\">loadLog</a><br/>\n",
       "<a target=\"_blank\" href=\"https://annotation.github.io/text-fabric/Api/Locality/#locality\" title=\"doc\">L Locality</a><br/>\n",
       "<a target=\"_blank\" href=\"https://annotation.github.io/text-fabric/Api/Misc/#messaging\" title=\"doc\">cache</a>, <a target=\"_blank\" href=\"https://annotation.github.io/text-fabric/Api/Misc/#messaging\" title=\"doc\">error</a>, <a target=\"_blank\" href=\"https://annotation.github.io/text-fabric/Api/Misc/#messaging\" title=\"doc\">indent</a>, <a target=\"_blank\" href=\"https://annotation.github.io/text-fabric/Api/Misc/#messaging\" title=\"doc\">info</a>, <a target=\"_blank\" href=\"https://annotation.github.io/text-fabric/Api/Misc/#messaging\" title=\"doc\">isSilent</a>, <a target=\"_blank\" href=\"https://annotation.github.io/text-fabric/Api/Misc/#messaging\" title=\"doc\">reset</a>, <a target=\"_blank\" href=\"https://annotation.github.io/text-fabric/Api/Misc/#messaging\" title=\"doc\">setSilent</a>, <a target=\"_blank\" href=\"https://annotation.github.io/text-fabric/Api/Misc/#messaging\" title=\"doc\">silentOff</a>, <a target=\"_blank\" href=\"https://annotation.github.io/text-fabric/Api/Misc/#messaging\" title=\"doc\">silentOn</a>, <a target=\"_blank\" href=\"https://annotation.github.io/text-fabric/Api/Misc/#messaging\" title=\"doc\">warning</a><br/>\n",
       "<a target=\"_blank\" href=\"https://annotation.github.io/text-fabric/Api/Nodes/#navigating-nodes\" title=\"doc\">N Nodes</a>, <a target=\"_blank\" href=\"https://annotation.github.io/text-fabric/Api/Nodes/#navigating-nodes\" title=\"doc\">sortKey</a>, <a target=\"_blank\" href=\"https://annotation.github.io/text-fabric/Api/Nodes/#navigating-nodes\" title=\"doc\">sortKeyTuple</a>, <a target=\"_blank\" href=\"https://annotation.github.io/text-fabric/Api/Nodes/#navigating-nodes\" title=\"doc\">otypeRank</a>, <a target=\"_blank\" href=\"https://annotation.github.io/text-fabric/Api/Nodes/#navigating-nodes\" title=\"doc\">sortNodes</a><br/>\n",
       "<a target=\"_blank\" href=\"https://annotation.github.io/text-fabric/Api/Features/#node-features\" title=\"doc\">F Feature</a>, <a target=\"_blank\" href=\"https://annotation.github.io/text-fabric/Api/Features/#node-features\" title=\"doc\">Fall AllFeatures</a>, <a target=\"_blank\" href=\"https://annotation.github.io/text-fabric/Api/Features/#node-features\" title=\"doc\">Fs FeatureString</a><br/>\n",
       "<a target=\"_blank\" href=\"https://annotation.github.io/text-fabric/Api/Search/#search\" title=\"doc\">S Search</a><br/>\n",
       "<a target=\"_blank\" href=\"https://annotation.github.io/text-fabric/Api/Text/#text\" title=\"doc\">T Text</a></details>"
      ],
      "text/plain": [
       "<IPython.core.display.HTML object>"
      ]
     },
     "metadata": {},
     "output_type": "display_data"
    }
   ],
   "source": [
    "# A = use('oldbabylonian', hoist=globals())\n",
    "A = use('oldbabylonian:clone', checkout=\"clone\", hoist=globals())"
   ]
  },
  {
   "cell_type": "markdown",
   "metadata": {},
   "source": [
    "# Making data\n",
    "\n",
    "We illustrate the data creation part by creating a new feature, `ummama`.\n",
    "The idea is that we mark every sign reading that occurs between `um-ma` and `ma` some where in the first 3 lines of a face.\n",
    "We want to mark every occurrence of such signs elsewhere in the corpus with `ummama=1`.\n",
    "\n",
    "We only do it if the sign between the `um-ma` and `ma` (which must be on the same line) is not missing, damaged, or questionable.\n",
    "\n",
    "The easiest way to get started is to run a query:"
   ]
  },
  {
   "cell_type": "code",
   "execution_count": 4,
   "metadata": {},
   "outputs": [],
   "source": [
    "query = '''\n",
    "line ln<4\n",
    "  =: sign reading=um missing# damage# question#\n",
    "  <: sign reading=ma missing# damage# question#\n",
    "% the next sign is the one that we are after\n",
    "  < sign missing# damage# question#\n",
    "  < sign reading=ma missing# damage# question#\n",
    "'''"
   ]
  },
  {
   "cell_type": "code",
   "execution_count": 5,
   "metadata": {},
   "outputs": [
    {
     "name": "stdout",
     "output_type": "stream",
     "text": [
      "  2.08s 3466 results\n"
     ]
    }
   ],
   "source": [
    "results = A.search(query)"
   ]
  },
  {
   "cell_type": "code",
   "execution_count": 6,
   "metadata": {},
   "outputs": [
    {
     "data": {
      "text/html": [
       "<table>\n",
       "<tr class=\"tf\">\n",
       "  <th class=\"tf\">n</th><th class=\"tf\">p</th>\n",
       "  <th class=\"tf\">line</th><th>sign</th><th>sign</th><th>sign</th><th>sign</th>\n",
       "</tr>\n",
       "\n",
       "<tr class=\"tf\"><td class=\"tf\">1</td><td class=\"tf\"> <a href=\"https://cdli.ucla.edu/search/search_results.php?SearchMode=Text&amp;ObjectID=P509373\" title=\"show this document on CDLI\" sec=\"P509373 obverse:3\">P509373 obverse:3</a></td><td class=\"tf\"><span class=\"plain outer  \" ><span class=\"plain\"><span class=\"plain \" ><span class=\"plain hlbx\" ><span class=\"txtp\">um-</span></span><span class=\"plain hlbx\" ><span class=\"txtp\">ma </span></span></span><span class=\"plain \" ><span class=\"plain hlbx\" ><span class=\"txtp\">_{d}</span></span><span class=\"plain \" ><span class=\"txtp\">en-</span></span><span class=\"plain \" ><span class=\"txtp\">lil2_-</span></span><span class=\"plain \" ><span class=\"txtp\">sza-</span></span><span class=\"plain \" ><span class=\"txtp\">du-</span></span><span class=\"plain \" ><span class=\"txtp\">u2-</span></span><span class=\"plain \" ><span class=\"txtp\">ni-</span></span><span class=\"plain hlbx\" ><span class=\"txtp\">ma</span></span></span></span></span></td><td class=\"tf\"><span class=\"plain outer  hlbx\" ><span class=\"txtp\">um-</span></span></td><td class=\"tf\"><span class=\"plain outer  hlbx\" ><span class=\"txtp\">ma </span></span></td><td class=\"tf\"><span class=\"plain outer  hlbx\" ><span class=\"txtp\">_{d}</span></span></td><td class=\"tf\"><span class=\"plain outer  hlbx\" ><span class=\"txtp\">ma</span></span></td></tr>\n",
       "<tr class=\"tf\"><td class=\"tf\">2</td><td class=\"tf\"> <a href=\"https://cdli.ucla.edu/search/search_results.php?SearchMode=Text&amp;ObjectID=P509373\" title=\"show this document on CDLI\" sec=\"P509373 obverse:3\">P509373 obverse:3</a></td><td class=\"tf\"><span class=\"plain outer  \" ><span class=\"plain\"><span class=\"plain \" ><span class=\"plain hlbx\" ><span class=\"txtp\">um-</span></span><span class=\"plain hlbx\" ><span class=\"txtp\">ma </span></span></span><span class=\"plain \" ><span class=\"plain \" ><span class=\"txtp\">_{d}</span></span><span class=\"plain hlbx\" ><span class=\"txtp\">en-</span></span><span class=\"plain \" ><span class=\"txtp\">lil2_-</span></span><span class=\"plain \" ><span class=\"txtp\">sza-</span></span><span class=\"plain \" ><span class=\"txtp\">du-</span></span><span class=\"plain \" ><span class=\"txtp\">u2-</span></span><span class=\"plain \" ><span class=\"txtp\">ni-</span></span><span class=\"plain hlbx\" ><span class=\"txtp\">ma</span></span></span></span></span></td><td class=\"tf\"><span class=\"plain outer  hlbx\" ><span class=\"txtp\">um-</span></span></td><td class=\"tf\"><span class=\"plain outer  hlbx\" ><span class=\"txtp\">ma </span></span></td><td class=\"tf\"><span class=\"plain outer  hlbx\" ><span class=\"txtp\">en-</span></span></td><td class=\"tf\"><span class=\"plain outer  hlbx\" ><span class=\"txtp\">ma</span></span></td></tr>\n",
       "<tr class=\"tf\"><td class=\"tf\">3</td><td class=\"tf\"> <a href=\"https://cdli.ucla.edu/search/search_results.php?SearchMode=Text&amp;ObjectID=P509373\" title=\"show this document on CDLI\" sec=\"P509373 obverse:3\">P509373 obverse:3</a></td><td class=\"tf\"><span class=\"plain outer  \" ><span class=\"plain\"><span class=\"plain \" ><span class=\"plain hlbx\" ><span class=\"txtp\">um-</span></span><span class=\"plain hlbx\" ><span class=\"txtp\">ma </span></span></span><span class=\"plain \" ><span class=\"plain \" ><span class=\"txtp\">_{d}</span></span><span class=\"plain \" ><span class=\"txtp\">en-</span></span><span class=\"plain hlbx\" ><span class=\"txtp\">lil2_-</span></span><span class=\"plain \" ><span class=\"txtp\">sza-</span></span><span class=\"plain \" ><span class=\"txtp\">du-</span></span><span class=\"plain \" ><span class=\"txtp\">u2-</span></span><span class=\"plain \" ><span class=\"txtp\">ni-</span></span><span class=\"plain hlbx\" ><span class=\"txtp\">ma</span></span></span></span></span></td><td class=\"tf\"><span class=\"plain outer  hlbx\" ><span class=\"txtp\">um-</span></span></td><td class=\"tf\"><span class=\"plain outer  hlbx\" ><span class=\"txtp\">ma </span></span></td><td class=\"tf\"><span class=\"plain outer  hlbx\" ><span class=\"txtp\">lil2_-</span></span></td><td class=\"tf\"><span class=\"plain outer  hlbx\" ><span class=\"txtp\">ma</span></span></td></tr>\n",
       "<tr class=\"tf\"><td class=\"tf\">4</td><td class=\"tf\"> <a href=\"https://cdli.ucla.edu/search/search_results.php?SearchMode=Text&amp;ObjectID=P509373\" title=\"show this document on CDLI\" sec=\"P509373 obverse:3\">P509373 obverse:3</a></td><td class=\"tf\"><span class=\"plain outer  \" ><span class=\"plain\"><span class=\"plain \" ><span class=\"plain hlbx\" ><span class=\"txtp\">um-</span></span><span class=\"plain hlbx\" ><span class=\"txtp\">ma </span></span></span><span class=\"plain \" ><span class=\"plain \" ><span class=\"txtp\">_{d}</span></span><span class=\"plain \" ><span class=\"txtp\">en-</span></span><span class=\"plain \" ><span class=\"txtp\">lil2_-</span></span><span class=\"plain hlbx\" ><span class=\"txtp\">sza-</span></span><span class=\"plain \" ><span class=\"txtp\">du-</span></span><span class=\"plain \" ><span class=\"txtp\">u2-</span></span><span class=\"plain \" ><span class=\"txtp\">ni-</span></span><span class=\"plain hlbx\" ><span class=\"txtp\">ma</span></span></span></span></span></td><td class=\"tf\"><span class=\"plain outer  hlbx\" ><span class=\"txtp\">um-</span></span></td><td class=\"tf\"><span class=\"plain outer  hlbx\" ><span class=\"txtp\">ma </span></span></td><td class=\"tf\"><span class=\"plain outer  hlbx\" ><span class=\"txtp\">sza-</span></span></td><td class=\"tf\"><span class=\"plain outer  hlbx\" ><span class=\"txtp\">ma</span></span></td></tr>\n",
       "<tr class=\"tf\"><td class=\"tf\">5</td><td class=\"tf\"> <a href=\"https://cdli.ucla.edu/search/search_results.php?SearchMode=Text&amp;ObjectID=P509373\" title=\"show this document on CDLI\" sec=\"P509373 obverse:3\">P509373 obverse:3</a></td><td class=\"tf\"><span class=\"plain outer  \" ><span class=\"plain\"><span class=\"plain \" ><span class=\"plain hlbx\" ><span class=\"txtp\">um-</span></span><span class=\"plain hlbx\" ><span class=\"txtp\">ma </span></span></span><span class=\"plain \" ><span class=\"plain \" ><span class=\"txtp\">_{d}</span></span><span class=\"plain \" ><span class=\"txtp\">en-</span></span><span class=\"plain \" ><span class=\"txtp\">lil2_-</span></span><span class=\"plain \" ><span class=\"txtp\">sza-</span></span><span class=\"plain hlbx\" ><span class=\"txtp\">du-</span></span><span class=\"plain \" ><span class=\"txtp\">u2-</span></span><span class=\"plain \" ><span class=\"txtp\">ni-</span></span><span class=\"plain hlbx\" ><span class=\"txtp\">ma</span></span></span></span></span></td><td class=\"tf\"><span class=\"plain outer  hlbx\" ><span class=\"txtp\">um-</span></span></td><td class=\"tf\"><span class=\"plain outer  hlbx\" ><span class=\"txtp\">ma </span></span></td><td class=\"tf\"><span class=\"plain outer  hlbx\" ><span class=\"txtp\">du-</span></span></td><td class=\"tf\"><span class=\"plain outer  hlbx\" ><span class=\"txtp\">ma</span></span></td></tr>\n",
       "<tr class=\"tf\"><td class=\"tf\">6</td><td class=\"tf\"> <a href=\"https://cdli.ucla.edu/search/search_results.php?SearchMode=Text&amp;ObjectID=P509373\" title=\"show this document on CDLI\" sec=\"P509373 obverse:3\">P509373 obverse:3</a></td><td class=\"tf\"><span class=\"plain outer  \" ><span class=\"plain\"><span class=\"plain \" ><span class=\"plain hlbx\" ><span class=\"txtp\">um-</span></span><span class=\"plain hlbx\" ><span class=\"txtp\">ma </span></span></span><span class=\"plain \" ><span class=\"plain \" ><span class=\"txtp\">_{d}</span></span><span class=\"plain \" ><span class=\"txtp\">en-</span></span><span class=\"plain \" ><span class=\"txtp\">lil2_-</span></span><span class=\"plain \" ><span class=\"txtp\">sza-</span></span><span class=\"plain \" ><span class=\"txtp\">du-</span></span><span class=\"plain hlbx\" ><span class=\"txtp\">u2-</span></span><span class=\"plain \" ><span class=\"txtp\">ni-</span></span><span class=\"plain hlbx\" ><span class=\"txtp\">ma</span></span></span></span></span></td><td class=\"tf\"><span class=\"plain outer  hlbx\" ><span class=\"txtp\">um-</span></span></td><td class=\"tf\"><span class=\"plain outer  hlbx\" ><span class=\"txtp\">ma </span></span></td><td class=\"tf\"><span class=\"plain outer  hlbx\" ><span class=\"txtp\">u2-</span></span></td><td class=\"tf\"><span class=\"plain outer  hlbx\" ><span class=\"txtp\">ma</span></span></td></tr>\n",
       "<tr class=\"tf\"><td class=\"tf\">7</td><td class=\"tf\"> <a href=\"https://cdli.ucla.edu/search/search_results.php?SearchMode=Text&amp;ObjectID=P509373\" title=\"show this document on CDLI\" sec=\"P509373 obverse:3\">P509373 obverse:3</a></td><td class=\"tf\"><span class=\"plain outer  \" ><span class=\"plain\"><span class=\"plain \" ><span class=\"plain hlbx\" ><span class=\"txtp\">um-</span></span><span class=\"plain hlbx\" ><span class=\"txtp\">ma </span></span></span><span class=\"plain \" ><span class=\"plain \" ><span class=\"txtp\">_{d}</span></span><span class=\"plain \" ><span class=\"txtp\">en-</span></span><span class=\"plain \" ><span class=\"txtp\">lil2_-</span></span><span class=\"plain \" ><span class=\"txtp\">sza-</span></span><span class=\"plain \" ><span class=\"txtp\">du-</span></span><span class=\"plain \" ><span class=\"txtp\">u2-</span></span><span class=\"plain hlbx\" ><span class=\"txtp\">ni-</span></span><span class=\"plain hlbx\" ><span class=\"txtp\">ma</span></span></span></span></span></td><td class=\"tf\"><span class=\"plain outer  hlbx\" ><span class=\"txtp\">um-</span></span></td><td class=\"tf\"><span class=\"plain outer  hlbx\" ><span class=\"txtp\">ma </span></span></td><td class=\"tf\"><span class=\"plain outer  hlbx\" ><span class=\"txtp\">ni-</span></span></td><td class=\"tf\"><span class=\"plain outer  hlbx\" ><span class=\"txtp\">ma</span></span></td></tr>\n",
       "<tr class=\"tf\"><td class=\"tf\">8</td><td class=\"tf\"> <a href=\"https://cdli.ucla.edu/search/search_results.php?SearchMode=Text&amp;ObjectID=P481190\" title=\"show this document on CDLI\" sec=\"P481190 obverse:3\">P481190 obverse:3</a></td><td class=\"tf\"><span class=\"plain outer  \" ><span class=\"plain\"><span class=\"plain \" ><span class=\"plain hlbx\" ><span class=\"txtp\">um-</span></span><span class=\"plain hlbx\" ><span class=\"txtp\">ma </span></span></span><span class=\"plain \" ><span class=\"plain \" ><span class=\"txtp\">nu#-</span></span><span class=\"plain \" ><span class=\"txtp\">ur2#-</span></span><span class=\"plain hlbx\" ><span class=\"txtp\">i3-</span></span><span class=\"plain \" ><span class=\"txtp\">li2-</span></span><span class=\"plain \" ><span class=\"txtp\">szu-</span></span><span class=\"plain hlbx\" ><span class=\"txtp\">ma</span></span></span></span></span></td><td class=\"tf\"><span class=\"plain outer  hlbx\" ><span class=\"txtp\">um-</span></span></td><td class=\"tf\"><span class=\"plain outer  hlbx\" ><span class=\"txtp\">ma </span></span></td><td class=\"tf\"><span class=\"plain outer  hlbx\" ><span class=\"txtp\">i3-</span></span></td><td class=\"tf\"><span class=\"plain outer  hlbx\" ><span class=\"txtp\">ma</span></span></td></tr>\n",
       "<tr class=\"tf\"><td class=\"tf\">9</td><td class=\"tf\"> <a href=\"https://cdli.ucla.edu/search/search_results.php?SearchMode=Text&amp;ObjectID=P481190\" title=\"show this document on CDLI\" sec=\"P481190 obverse:3\">P481190 obverse:3</a></td><td class=\"tf\"><span class=\"plain outer  \" ><span class=\"plain\"><span class=\"plain \" ><span class=\"plain hlbx\" ><span class=\"txtp\">um-</span></span><span class=\"plain hlbx\" ><span class=\"txtp\">ma </span></span></span><span class=\"plain \" ><span class=\"plain \" ><span class=\"txtp\">nu#-</span></span><span class=\"plain \" ><span class=\"txtp\">ur2#-</span></span><span class=\"plain \" ><span class=\"txtp\">i3-</span></span><span class=\"plain hlbx\" ><span class=\"txtp\">li2-</span></span><span class=\"plain \" ><span class=\"txtp\">szu-</span></span><span class=\"plain hlbx\" ><span class=\"txtp\">ma</span></span></span></span></span></td><td class=\"tf\"><span class=\"plain outer  hlbx\" ><span class=\"txtp\">um-</span></span></td><td class=\"tf\"><span class=\"plain outer  hlbx\" ><span class=\"txtp\">ma </span></span></td><td class=\"tf\"><span class=\"plain outer  hlbx\" ><span class=\"txtp\">li2-</span></span></td><td class=\"tf\"><span class=\"plain outer  hlbx\" ><span class=\"txtp\">ma</span></span></td></tr>\n",
       "<tr class=\"tf\"><td class=\"tf\">10</td><td class=\"tf\"> <a href=\"https://cdli.ucla.edu/search/search_results.php?SearchMode=Text&amp;ObjectID=P481190\" title=\"show this document on CDLI\" sec=\"P481190 obverse:3\">P481190 obverse:3</a></td><td class=\"tf\"><span class=\"plain outer  \" ><span class=\"plain\"><span class=\"plain \" ><span class=\"plain hlbx\" ><span class=\"txtp\">um-</span></span><span class=\"plain hlbx\" ><span class=\"txtp\">ma </span></span></span><span class=\"plain \" ><span class=\"plain \" ><span class=\"txtp\">nu#-</span></span><span class=\"plain \" ><span class=\"txtp\">ur2#-</span></span><span class=\"plain \" ><span class=\"txtp\">i3-</span></span><span class=\"plain \" ><span class=\"txtp\">li2-</span></span><span class=\"plain hlbx\" ><span class=\"txtp\">szu-</span></span><span class=\"plain hlbx\" ><span class=\"txtp\">ma</span></span></span></span></span></td><td class=\"tf\"><span class=\"plain outer  hlbx\" ><span class=\"txtp\">um-</span></span></td><td class=\"tf\"><span class=\"plain outer  hlbx\" ><span class=\"txtp\">ma </span></span></td><td class=\"tf\"><span class=\"plain outer  hlbx\" ><span class=\"txtp\">szu-</span></span></td><td class=\"tf\"><span class=\"plain outer  hlbx\" ><span class=\"txtp\">ma</span></span></td></tr></table>"
      ],
      "text/plain": [
       "<IPython.core.display.HTML object>"
      ]
     },
     "metadata": {},
     "output_type": "display_data"
    }
   ],
   "source": [
    "A.table(results, end=10)"
   ]
  },
  {
   "cell_type": "markdown",
   "metadata": {},
   "source": [
    "Observe how the signs between `um-ma` and `ma` are picked up, except the damaged `nu` and `ur2`.\n",
    "\n",
    "First we are collect these readings, and survey the frequencies in the result.\n",
    "\n",
    "Some signs do not have a reading, but then they have a grapheme.\n",
    "If they do not have a grapheme, they might be comment signs, and we skip them."
   ]
  },
  {
   "cell_type": "code",
   "execution_count": 7,
   "metadata": {},
   "outputs": [
    {
     "name": "stdout",
     "output_type": "stream",
     "text": [
      "Found 249 distinct readings\n",
      "d       324 x\n",
      "a       133 x\n",
      "ra      128 x\n",
      "mu      123 x\n",
      "am      112 x\n",
      "ha       99 x\n",
      "na       95 x\n",
      "pi2      94 x\n",
      "suen     78 x\n",
      "i        66 x\n",
      "ni       66 x\n",
      "szu      66 x\n",
      "utu      61 x\n",
      "um       59 x\n",
      "li2      55 x\n",
      "tum      55 x\n",
      "ma       50 x\n",
      "marduk   50 x\n",
      "bi       46 x\n",
      "nu       43 x\n",
      " ... and 229 more ...\n"
     ]
    }
   ],
   "source": [
    "umaReadings = collections.Counter()\n",
    "\n",
    "# collect\n",
    "\n",
    "for (line, um, ma1, sign, ma2) in results:\n",
    "  reading = F.reading.v(sign) or F.grapheme.v(sign)\n",
    "  if not reading:\n",
    "    continue\n",
    "  umaReadings[reading] += 1\n",
    "  \n",
    "# show\n",
    "\n",
    "print(f'Found {len(umaReadings)} distinct readings')\n",
    "limit = 20\n",
    "\n",
    "for (reading, amount) in sorted(\n",
    "  umaReadings.items(),\n",
    "  key=lambda x: (-x[1], x[0]),\n",
    ")[0:limit]:\n",
    "  print(f'{reading:<6} {amount:>4} x')\n",
    "print(f' ... and {len(umaReadings) - limit} more ...')"
   ]
  },
  {
   "cell_type": "markdown",
   "metadata": {},
   "source": [
    "Now we visit all signs in the whole corpus and check whether their reading or grapheme is in this set.\n",
    "If so, we give that sign a value 1 in the dictionary `ummama`."
   ]
  },
  {
   "cell_type": "code",
   "execution_count": 8,
   "metadata": {},
   "outputs": [
    {
     "name": "stdout",
     "output_type": "stream",
     "text": [
      "Assigned `ummama=1` to 182221 sign occurrences out of 203219\n"
     ]
    }
   ],
   "source": [
    "ummama = {}\n",
    "\n",
    "allSigns = F.otype.s('sign')\n",
    "\n",
    "for s in allSigns:\n",
    "  reading = F.reading.v(s) or F.grapheme.v(s)\n",
    "  if not reading:\n",
    "    continue\n",
    "  if reading in umaReadings:\n",
    "    ummama[s] = 1\n",
    "    \n",
    "print(f'Assigned `ummama=1` to {len(ummama)} sign occurrences out of {len(allSigns)}')"
   ]
  },
  {
   "cell_type": "markdown",
   "metadata": {},
   "source": [
    "Note that the majority of all signs also occurs between `um-ma` and `ma` at the start of a document.\n",
    "\n",
    "Maybe this is an indication that we are not capturing the idea of selecting specific signs,\n",
    "we may have to strengthen our search criterion.\n",
    "\n",
    "But that is beyond this tutorial. We suppose these ummama words form a valueable set that we want to share."
   ]
  },
  {
   "cell_type": "markdown",
   "metadata": {},
   "source": [
    "# Saving data\n",
    "\n",
    "The [documentation](https://annotation.github.io/text-fabric/Api/Fabric/#saving-features) explains how to save this data into a text-fabric\n",
    "data file.\n",
    "\n",
    "We choose a location where to save it, the `exercises` repository in the `Nino-cunei` organization, in the folder `analysis`. \n",
    "\n",
    "In order to do this, we restart the TF api, but now with the desired output location in the `locations` parameter."
   ]
  },
  {
   "cell_type": "code",
   "execution_count": 9,
   "metadata": {},
   "outputs": [],
   "source": [
    "import os"
   ]
  },
  {
   "cell_type": "code",
   "execution_count": 10,
   "metadata": {},
   "outputs": [],
   "source": [
    "GITHUB = os.path.expanduser('~/github')\n",
    "ORG = 'Nino-cunei'\n",
    "REPO = 'exercises'\n",
    "PATH = 'analysis'\n",
    "VERSION = A.version"
   ]
  },
  {
   "cell_type": "markdown",
   "metadata": {},
   "source": [
    "Note the version: we have built the version against a specific version of the data:"
   ]
  },
  {
   "cell_type": "code",
   "execution_count": 11,
   "metadata": {},
   "outputs": [
    {
     "data": {
      "text/plain": [
       "'1.0.4'"
      ]
     },
     "execution_count": 11,
     "metadata": {},
     "output_type": "execute_result"
    }
   ],
   "source": [
    "A.version"
   ]
  },
  {
   "cell_type": "markdown",
   "metadata": {},
   "source": [
    "Later on, we pass this version on, so that users of our data will get the shared data in exactly the same version as their core data."
   ]
  },
  {
   "cell_type": "markdown",
   "metadata": {},
   "source": [
    "We have to specify a bit of metadata for this feature:"
   ]
  },
  {
   "cell_type": "code",
   "execution_count": 12,
   "metadata": {},
   "outputs": [],
   "source": [
    "metaData = {\n",
    "  'ummama': dict(\n",
    "    valueType='int',\n",
    "    description='reading occurs somewhere between um-ma and ma',\n",
    "    creator='Dirk Roorda',\n",
    "  ),\n",
    "}"
   ]
  },
  {
   "cell_type": "markdown",
   "metadata": {},
   "source": [
    "Now we can give the save command:"
   ]
  },
  {
   "cell_type": "code",
   "execution_count": 13,
   "metadata": {},
   "outputs": [
    {
     "data": {
      "text/plain": [
       "True"
      ]
     },
     "execution_count": 13,
     "metadata": {},
     "output_type": "execute_result"
    }
   ],
   "source": [
    "TF.save(nodeFeatures=dict(ummama=ummama), metaData=metaData, location=f'{GITHUB}/{ORG}/{REPO}/{PATH}/tf', module=VERSION)"
   ]
  },
  {
   "cell_type": "markdown",
   "metadata": {},
   "source": [
    "# Sharing data\n",
    "\n",
    "How to share your own data is explained in the\n",
    "[documentation](https://annotation.github.io/text-fabric/Api/Data/).\n",
    "\n",
    "Here we show it step by step for the `ummama` feature.\n",
    "\n",
    "If you commit your changes to the exercises repo, and have done a `git push origin master`,\n",
    "you already have shared your data!\n",
    "\n",
    "If you want to make a stable release, so that you can keep developing, while your users fall back\n",
    "on the stable data, you can make a new release.\n",
    "\n",
    "Go to the GitHub website for that, go to your repo, and click *Releases* and follow the nudges.\n",
    "\n",
    "If you want to make it even smoother for your users, you can zip the data and attach it as a binary to the release just created.\n",
    "\n",
    "We need to zip the data in exactly the right directory structure. Text-Fabric can do that for us:"
   ]
  },
  {
   "cell_type": "code",
   "execution_count": 14,
   "metadata": {},
   "outputs": [
    {
     "name": "stdout",
     "output_type": "stream",
     "text": [
      "True\n",
      "Create release data for Nino-cunei/exercises/analysis/tf\n",
      "Found 2 versions\n",
      "zip files end up in /Users/dirk/Downloads/Nino-cunei-release/exercises\n",
      "zipping Nino-cunei/exercises      1.0.1 with   1 features ==> analysis-tf-1.0.1.zip\n",
      "zipping Nino-cunei/exercises      1.0.4 with   1 features ==> analysis-tf-1.0.4.zip\n"
     ]
    }
   ],
   "source": [
    "%%sh\n",
    "\n",
    "text-fabric-zip Nino-cunei/exercises/analysis/tf"
   ]
  },
  {
   "cell_type": "markdown",
   "metadata": {},
   "source": [
    "All versions have been zipped, but it works OK if you only attach the newest version to the newest release.\n",
    "\n",
    "If a user asks for an older version in this release, the system can still find it."
   ]
  },
  {
   "cell_type": "markdown",
   "metadata": {},
   "source": [
    "Here is the result for our case\n",
    "\n",
    "![ummama](images/ummama.png)"
   ]
  },
  {
   "cell_type": "markdown",
   "metadata": {},
   "source": [
    "# Use the data\n",
    "\n",
    "We can use the data by calling it up when we say `use('oldbabylonian', ...)`.\n",
    "\n",
    "Here is how:"
   ]
  },
  {
   "cell_type": "code",
   "execution_count": 15,
   "metadata": {},
   "outputs": [
    {
     "name": "stdout",
     "output_type": "stream",
     "text": [
      "Using TF-app in /Users/dirk/github/annotation/app-oldbabylonian/code:\n",
      "\trepo clone offline under ~/github (local github)\n",
      "Using data in /Users/dirk/github/Nino-cunei/oldbabylonian/tf/1.0.4:\n",
      "\trepo clone offline under ~/github (local github)\n",
      "Using data in /Users/dirk/github/Nino-cunei/exercises/analysis/tf/1.0.4:\n",
      "\trepo clone offline under ~/github (local github)\n",
      "   |     0.00s No structure info in otext, the structure part of the T-API cannot be used\n"
     ]
    },
    {
     "data": {
      "text/html": [
       "<b>Documentation:</b> <a target=\"_blank\" href=\"https://github.com/Nino-cunei/oldbabylonian/blob/master/docs/\" title=\"provenance of Old Babylonian Letters 1900-1600: Cuneiform tablets \">OLDBABYLONIAN</a> <a target=\"_blank\" href=\"https://github.com/Nino-cunei/oldbabylonian/blob/master/docs/transcription.md\" title=\"How TF features represent ATF\">Character table</a> <a target=\"_blank\" href=\"https://github.com/Nino-cunei/oldbabylonian/blob/master/docs//transcription.md\" title=\"OLDBABYLONIAN feature documentation\">Feature docs</a> <a target=\"_blank\" href=\"https://github.com/annotation/app-oldbabylonian\" title=\"oldbabylonian API documentation\">oldbabylonian API</a> <a target=\"_blank\" href=\"https://annotation.github.io/text-fabric/Api/Fabric/\" title=\"text-fabric-api\">Text-Fabric API 7.11.1</a> <a target=\"_blank\" href=\"https://annotation.github.io/text-fabric/Use/Search/\" title=\"Search Templates Introduction and Reference\">Search Reference</a><details open><summary><b>Loaded features</b>:</summary>\n",
       "<p><b>Old Babylonian Letters 1900-1600: Cuneiform tablets </b>: <a target=\"_blank\" href=\"https://github.com/Nino-cunei/oldbabylonian/blob/master/docs//transcription.md\" title=\"/Users/dirk/github/Nino-cunei/oldbabylonian/tf/1.0.4/ARK.tf\">ARK</a>  <a target=\"_blank\" href=\"https://github.com/Nino-cunei/oldbabylonian/blob/master/docs//transcription.md\" title=\"/Users/dirk/github/Nino-cunei/oldbabylonian/tf/1.0.4/after.tf\">after</a>  <a target=\"_blank\" href=\"https://github.com/Nino-cunei/oldbabylonian/blob/master/docs//transcription.md\" title=\"/Users/dirk/github/Nino-cunei/oldbabylonian/tf/1.0.4/afterr.tf\">afterr</a>  <a target=\"_blank\" href=\"https://github.com/Nino-cunei/oldbabylonian/blob/master/docs//transcription.md\" title=\"/Users/dirk/github/Nino-cunei/oldbabylonian/tf/1.0.4/afteru.tf\">afteru</a>  <a target=\"_blank\" href=\"https://github.com/Nino-cunei/oldbabylonian/blob/master/docs//transcription.md\" title=\"/Users/dirk/github/Nino-cunei/oldbabylonian/tf/1.0.4/atf.tf\">atf</a>  <a target=\"_blank\" href=\"https://github.com/Nino-cunei/oldbabylonian/blob/master/docs//transcription.md\" title=\"/Users/dirk/github/Nino-cunei/oldbabylonian/tf/1.0.4/atfpost.tf\">atfpost</a>  <a target=\"_blank\" href=\"https://github.com/Nino-cunei/oldbabylonian/blob/master/docs//transcription.md\" title=\"/Users/dirk/github/Nino-cunei/oldbabylonian/tf/1.0.4/atfpre.tf\">atfpre</a>  <a target=\"_blank\" href=\"https://github.com/Nino-cunei/oldbabylonian/blob/master/docs//transcription.md\" title=\"/Users/dirk/github/Nino-cunei/oldbabylonian/tf/1.0.4/author.tf\">author</a>  <a target=\"_blank\" href=\"https://github.com/Nino-cunei/oldbabylonian/blob/master/docs//transcription.md\" title=\"/Users/dirk/github/Nino-cunei/oldbabylonian/tf/1.0.4/col.tf\">col</a>  <a target=\"_blank\" href=\"https://github.com/Nino-cunei/oldbabylonian/blob/master/docs//transcription.md\" title=\"/Users/dirk/github/Nino-cunei/oldbabylonian/tf/1.0.4/collated.tf\">collated</a>  <a target=\"_blank\" href=\"https://github.com/Nino-cunei/oldbabylonian/blob/master/docs//transcription.md\" title=\"/Users/dirk/github/Nino-cunei/oldbabylonian/tf/1.0.4/collection.tf\">collection</a>  <a target=\"_blank\" href=\"https://github.com/Nino-cunei/oldbabylonian/blob/master/docs//transcription.md\" title=\"/Users/dirk/github/Nino-cunei/oldbabylonian/tf/1.0.4/comment.tf\">comment</a>  <a target=\"_blank\" href=\"https://github.com/Nino-cunei/oldbabylonian/blob/master/docs//transcription.md\" title=\"/Users/dirk/github/Nino-cunei/oldbabylonian/tf/1.0.4/damage.tf\">damage</a>  <a target=\"_blank\" href=\"https://github.com/Nino-cunei/oldbabylonian/blob/master/docs//transcription.md\" title=\"/Users/dirk/github/Nino-cunei/oldbabylonian/tf/1.0.4/det.tf\">det</a>  <a target=\"_blank\" href=\"https://github.com/Nino-cunei/oldbabylonian/blob/master/docs//transcription.md\" title=\"/Users/dirk/github/Nino-cunei/oldbabylonian/tf/1.0.4/docnote.tf\">docnote</a>  <a target=\"_blank\" href=\"https://github.com/Nino-cunei/oldbabylonian/blob/master/docs//transcription.md\" title=\"/Users/dirk/github/Nino-cunei/oldbabylonian/tf/1.0.4/docnumber.tf\">docnumber</a>  <a target=\"_blank\" href=\"https://github.com/Nino-cunei/oldbabylonian/blob/master/docs//transcription.md\" title=\"/Users/dirk/github/Nino-cunei/oldbabylonian/tf/1.0.4/excavation.tf\">excavation</a>  <a target=\"_blank\" href=\"https://github.com/Nino-cunei/oldbabylonian/blob/master/docs//transcription.md\" title=\"/Users/dirk/github/Nino-cunei/oldbabylonian/tf/1.0.4/excised.tf\">excised</a>  <a target=\"_blank\" href=\"https://github.com/Nino-cunei/oldbabylonian/blob/master/docs//transcription.md\" title=\"/Users/dirk/github/Nino-cunei/oldbabylonian/tf/1.0.4/face.tf\">face</a>  <a target=\"_blank\" href=\"https://github.com/Nino-cunei/oldbabylonian/blob/master/docs//transcription.md\" title=\"/Users/dirk/github/Nino-cunei/oldbabylonian/tf/1.0.4/flags.tf\">flags</a>  <a target=\"_blank\" href=\"https://github.com/Nino-cunei/oldbabylonian/blob/master/docs//transcription.md\" title=\"/Users/dirk/github/Nino-cunei/oldbabylonian/tf/1.0.4/fraction.tf\">fraction</a>  <a target=\"_blank\" href=\"https://github.com/Nino-cunei/oldbabylonian/blob/master/docs//transcription.md\" title=\"/Users/dirk/github/Nino-cunei/oldbabylonian/tf/1.0.4/genre.tf\">genre</a>  <a target=\"_blank\" href=\"https://github.com/Nino-cunei/oldbabylonian/blob/master/docs//transcription.md\" title=\"/Users/dirk/github/Nino-cunei/oldbabylonian/tf/1.0.4/grapheme.tf\">grapheme</a>  <a target=\"_blank\" href=\"https://github.com/Nino-cunei/oldbabylonian/blob/master/docs//transcription.md\" title=\"/Users/dirk/github/Nino-cunei/oldbabylonian/tf/1.0.4/graphemer.tf\">graphemer</a>  <a target=\"_blank\" href=\"https://github.com/Nino-cunei/oldbabylonian/blob/master/docs//transcription.md\" title=\"/Users/dirk/github/Nino-cunei/oldbabylonian/tf/1.0.4/graphemeu.tf\">graphemeu</a>  <a target=\"_blank\" href=\"https://github.com/Nino-cunei/oldbabylonian/blob/master/docs//transcription.md\" title=\"/Users/dirk/github/Nino-cunei/oldbabylonian/tf/1.0.4/lang.tf\">lang</a>  <a target=\"_blank\" href=\"https://github.com/Nino-cunei/oldbabylonian/blob/master/docs//transcription.md\" title=\"/Users/dirk/github/Nino-cunei/oldbabylonian/tf/1.0.4/langalt.tf\">langalt</a>  <a target=\"_blank\" href=\"https://github.com/Nino-cunei/oldbabylonian/blob/master/docs//transcription.md\" title=\"/Users/dirk/github/Nino-cunei/oldbabylonian/tf/1.0.4/ln.tf\">ln</a>  <a target=\"_blank\" href=\"https://github.com/Nino-cunei/oldbabylonian/blob/master/docs//transcription.md\" title=\"/Users/dirk/github/Nino-cunei/oldbabylonian/tf/1.0.4/lnc.tf\">lnc</a>  <a target=\"_blank\" href=\"https://github.com/Nino-cunei/oldbabylonian/blob/master/docs//transcription.md\" title=\"/Users/dirk/github/Nino-cunei/oldbabylonian/tf/1.0.4/lnno.tf\">lnno</a>  <a target=\"_blank\" href=\"https://github.com/Nino-cunei/oldbabylonian/blob/master/docs//transcription.md\" title=\"/Users/dirk/github/Nino-cunei/oldbabylonian/tf/1.0.4/material.tf\">material</a>  <a target=\"_blank\" href=\"https://github.com/Nino-cunei/oldbabylonian/blob/master/docs//transcription.md\" title=\"/Users/dirk/github/Nino-cunei/oldbabylonian/tf/1.0.4/missing.tf\">missing</a>  <a target=\"_blank\" href=\"https://github.com/Nino-cunei/oldbabylonian/blob/master/docs//transcription.md\" title=\"/Users/dirk/github/Nino-cunei/oldbabylonian/tf/1.0.4/museumcode.tf\">museumcode</a>  <a target=\"_blank\" href=\"https://github.com/Nino-cunei/oldbabylonian/blob/master/docs//transcription.md\" title=\"/Users/dirk/github/Nino-cunei/oldbabylonian/tf/1.0.4/museumname.tf\">museumname</a>  <a target=\"_blank\" href=\"https://github.com/Nino-cunei/oldbabylonian/blob/master/docs//transcription.md\" title=\"/Users/dirk/github/Nino-cunei/oldbabylonian/tf/1.0.4/object.tf\">object</a>  <a target=\"_blank\" href=\"https://github.com/Nino-cunei/oldbabylonian/blob/master/docs//transcription.md\" title=\"/Users/dirk/github/Nino-cunei/oldbabylonian/tf/1.0.4/operator.tf\">operator</a>  <a target=\"_blank\" href=\"https://github.com/Nino-cunei/oldbabylonian/blob/master/docs//transcription.md\" title=\"/Users/dirk/github/Nino-cunei/oldbabylonian/tf/1.0.4/operatorr.tf\">operatorr</a>  <a target=\"_blank\" href=\"https://github.com/Nino-cunei/oldbabylonian/blob/master/docs//transcription.md\" title=\"/Users/dirk/github/Nino-cunei/oldbabylonian/tf/1.0.4/operatoru.tf\">operatoru</a>  <a target=\"_blank\" href=\"https://github.com/Nino-cunei/oldbabylonian/blob/master/docs//transcription.md\" title=\"/Users/dirk/github/Nino-cunei/oldbabylonian/tf/1.0.4/otype.tf\">otype</a>  <a target=\"_blank\" href=\"https://github.com/Nino-cunei/oldbabylonian/blob/master/docs//transcription.md\" title=\"/Users/dirk/github/Nino-cunei/oldbabylonian/tf/1.0.4/period.tf\">period</a>  <a target=\"_blank\" href=\"https://github.com/Nino-cunei/oldbabylonian/blob/master/docs//transcription.md\" title=\"/Users/dirk/github/Nino-cunei/oldbabylonian/tf/1.0.4/pnumber.tf\">pnumber</a>  <a target=\"_blank\" href=\"https://github.com/Nino-cunei/oldbabylonian/blob/master/docs//transcription.md\" title=\"/Users/dirk/github/Nino-cunei/oldbabylonian/tf/1.0.4/primecol.tf\">primecol</a>  <a target=\"_blank\" href=\"https://github.com/Nino-cunei/oldbabylonian/blob/master/docs//transcription.md\" title=\"/Users/dirk/github/Nino-cunei/oldbabylonian/tf/1.0.4/primeln.tf\">primeln</a>  <a target=\"_blank\" href=\"https://github.com/Nino-cunei/oldbabylonian/blob/master/docs//transcription.md\" title=\"/Users/dirk/github/Nino-cunei/oldbabylonian/tf/1.0.4/pubdate.tf\">pubdate</a>  <a target=\"_blank\" href=\"https://github.com/Nino-cunei/oldbabylonian/blob/master/docs//transcription.md\" title=\"/Users/dirk/github/Nino-cunei/oldbabylonian/tf/1.0.4/question.tf\">question</a>  <a target=\"_blank\" href=\"https://github.com/Nino-cunei/oldbabylonian/blob/master/docs//transcription.md\" title=\"/Users/dirk/github/Nino-cunei/oldbabylonian/tf/1.0.4/reading.tf\">reading</a>  <a target=\"_blank\" href=\"https://github.com/Nino-cunei/oldbabylonian/blob/master/docs//transcription.md\" title=\"/Users/dirk/github/Nino-cunei/oldbabylonian/tf/1.0.4/readingr.tf\">readingr</a>  <a target=\"_blank\" href=\"https://github.com/Nino-cunei/oldbabylonian/blob/master/docs//transcription.md\" title=\"/Users/dirk/github/Nino-cunei/oldbabylonian/tf/1.0.4/readingu.tf\">readingu</a>  <a target=\"_blank\" href=\"https://github.com/Nino-cunei/oldbabylonian/blob/master/docs//transcription.md\" title=\"/Users/dirk/github/Nino-cunei/oldbabylonian/tf/1.0.4/remarkable.tf\">remarkable</a>  <a target=\"_blank\" href=\"https://github.com/Nino-cunei/oldbabylonian/blob/master/docs//transcription.md\" title=\"/Users/dirk/github/Nino-cunei/oldbabylonian/tf/1.0.4/remarks.tf\">remarks</a>  <a target=\"_blank\" href=\"https://github.com/Nino-cunei/oldbabylonian/blob/master/docs//transcription.md\" title=\"/Users/dirk/github/Nino-cunei/oldbabylonian/tf/1.0.4/repeat.tf\">repeat</a>  <a target=\"_blank\" href=\"https://github.com/Nino-cunei/oldbabylonian/blob/master/docs//transcription.md\" title=\"/Users/dirk/github/Nino-cunei/oldbabylonian/tf/1.0.4/srcLn.tf\">srcLn</a>  <a target=\"_blank\" href=\"https://github.com/Nino-cunei/oldbabylonian/blob/master/docs//transcription.md\" title=\"/Users/dirk/github/Nino-cunei/oldbabylonian/tf/1.0.4/srcLnNum.tf\">srcLnNum</a>  <a target=\"_blank\" href=\"https://github.com/Nino-cunei/oldbabylonian/blob/master/docs//transcription.md\" title=\"/Users/dirk/github/Nino-cunei/oldbabylonian/tf/1.0.4/srcfile.tf\">srcfile</a>  <a target=\"_blank\" href=\"https://github.com/Nino-cunei/oldbabylonian/blob/master/docs//transcription.md\" title=\"/Users/dirk/github/Nino-cunei/oldbabylonian/tf/1.0.4/subgenre.tf\">subgenre</a>  <a target=\"_blank\" href=\"https://github.com/Nino-cunei/oldbabylonian/blob/master/docs//transcription.md\" title=\"/Users/dirk/github/Nino-cunei/oldbabylonian/tf/1.0.4/supplied.tf\">supplied</a>  <a target=\"_blank\" href=\"https://github.com/Nino-cunei/oldbabylonian/blob/master/docs//transcription.md\" title=\"/Users/dirk/github/Nino-cunei/oldbabylonian/tf/1.0.4/sym.tf\">sym</a>  <a target=\"_blank\" href=\"https://github.com/Nino-cunei/oldbabylonian/blob/master/docs//transcription.md\" title=\"/Users/dirk/github/Nino-cunei/oldbabylonian/tf/1.0.4/symr.tf\">symr</a>  <a target=\"_blank\" href=\"https://github.com/Nino-cunei/oldbabylonian/blob/master/docs//transcription.md\" title=\"/Users/dirk/github/Nino-cunei/oldbabylonian/tf/1.0.4/symu.tf\">symu</a>  <a target=\"_blank\" href=\"https://github.com/Nino-cunei/oldbabylonian/blob/master/docs//transcription.md\" title=\"/Users/dirk/github/Nino-cunei/oldbabylonian/tf/1.0.4/trans.tf\">trans</a>  <a target=\"_blank\" href=\"https://github.com/Nino-cunei/oldbabylonian/blob/master/docs//transcription.md\" title=\"/Users/dirk/github/Nino-cunei/oldbabylonian/tf/1.0.4/transcriber.tf\">transcriber</a>  <a target=\"_blank\" href=\"https://github.com/Nino-cunei/oldbabylonian/blob/master/docs//transcription.md\" title=\"/Users/dirk/github/Nino-cunei/oldbabylonian/tf/1.0.4/translation@en.tf\">translation@ll</a>  <a target=\"_blank\" href=\"https://github.com/Nino-cunei/oldbabylonian/blob/master/docs//transcription.md\" title=\"/Users/dirk/github/Nino-cunei/oldbabylonian/tf/1.0.4/type.tf\">type</a>  <a target=\"_blank\" href=\"https://github.com/Nino-cunei/oldbabylonian/blob/master/docs//transcription.md\" title=\"/Users/dirk/github/Nino-cunei/oldbabylonian/tf/1.0.4/uncertain.tf\">uncertain</a>  <a target=\"_blank\" href=\"https://github.com/Nino-cunei/oldbabylonian/blob/master/docs//transcription.md\" title=\"/Users/dirk/github/Nino-cunei/oldbabylonian/tf/1.0.4/volume.tf\">volume</a>  <b><i><a target=\"_blank\" href=\"https://github.com/Nino-cunei/oldbabylonian/blob/master/docs//transcription.md\" title=\"/Users/dirk/github/Nino-cunei/oldbabylonian/tf/1.0.4/oslots.tf\">oslots</a></i></b> </p><p><b>Nino-cunei/exercises/analysis/tf</b>: <a target=\"_blank\" href=\"https://github.com/Nino-cunei/exercises/tree/master/analysis/tf\" title=\"/Users/dirk/github/Nino-cunei/exercises/analysis/tf/1.0.4/ummama.tf\">ummama</a> </p></details>"
      ],
      "text/plain": [
       "<IPython.core.display.HTML object>"
      ]
     },
     "metadata": {},
     "output_type": "display_data"
    },
    {
     "data": {
      "text/html": [
       "<style>\n",
       "@font-face {\n",
       "  font-family: \"Santakku\";\n",
       "  src:\n",
       "    local(\"Santakku.ttf\"),\n",
       "    url(\"https://github.com/annotation/text-fabric/blob/master/tf/server/static/fonts/Santakku.woff?raw=true\");\n",
       "}\n",
       ".features {\n",
       "    font-family: monospace;\n",
       "    font-size: medium;\n",
       "    font-weight: bold;\n",
       "    color: #0a6611;\n",
       "    display: flex;\n",
       "    flex-flow: column nowrap;\n",
       "    padding: 0.1em;\n",
       "    margin: 0.1em;\n",
       "    direction: ltr;\n",
       "}\n",
       ".features div,.features span {\n",
       "    padding: 0;\n",
       "    margin: -0.1rem 0;\n",
       "}\n",
       ".features .f {\n",
       "    font-family: sans-serif;\n",
       "    font-size: x-small;\n",
       "    font-weight: normal;\n",
       "    color: #5555bb;\n",
       "}\n",
       ".features .xft {\n",
       "  color: #000000;\n",
       "  background-color: #eeeeee;\n",
       "  font-size: medium;\n",
       "  margin: 0.1em 0em;\n",
       "}\n",
       ".features .xft .f {\n",
       "  color: #000000;\n",
       "  background-color: #eeeeee;\n",
       "  font-style: italic;\n",
       "  font-size: small;\n",
       "  font-weight: normal;\n",
       "}\n",
       ".pnum {\n",
       "    font-family: sans-serif;\n",
       "    font-size: small;\n",
       "    font-weight: bold;\n",
       "    color: #444444;\n",
       "}\n",
       ".nd {\n",
       "    font-family: monospace;\n",
       "    font-size: x-small;\n",
       "    color: #999999;\n",
       "}\n",
       ".outerplain {\n",
       "}\n",
       ".verse {\n",
       "    display: flex;\n",
       "    flex-flow: row wrap;\n",
       "}\n",
       ".vl {\n",
       "    display: flex;\n",
       "    flex-flow: column nowrap;\n",
       "    justify-content: flex-start;\n",
       "    align-items: flex-start;\n",
       "    width: 100%;\n",
       "}\n",
       ".vn {\n",
       "  font-size: small !important;\n",
       "  padding-right: 1em;\n",
       "}\n",
       ".vrs {\n",
       "    font-family: sans-serif;\n",
       "    font-size: small;\n",
       "    font-weight: bold;\n",
       "    color: #444444;\n",
       "}\n",
       ".txtn,.txtn a:visited,.txtn a:link {\n",
       "    font-family: sans-serif;\n",
       "    font-size: normal;\n",
       "    text-decoration: none;\n",
       "}\n",
       ".txtp,.txtp a:visited,.txtp a:link {\n",
       "    font-family: monospace;\n",
       "    font-size: normal;\n",
       "    text-decoration: none;\n",
       "}\n",
       ".txtr,.txtr a:visited,.txtr a:link {\n",
       "    font-family: serif;\n",
       "    font-size: large;\n",
       "    text-decoration: none;\n",
       "}\n",
       ".txtu,.txtu a:visited,.txtu a:link {\n",
       "    font-family: Santakku;\n",
       "    font-size: x-large;\n",
       "    text-decoration: none;\n",
       "}\n",
       ".meta {\n",
       "    display: flex;\n",
       "    justify-content: flex-start;\n",
       "    align-items: flex-start;\n",
       "    align-content: flex-start;\n",
       "    flex-flow: row nowrap;\n",
       "}\n",
       ".features,.comments {\n",
       "    display: flex;\n",
       "    justify-content: flex-start;\n",
       "    align-items: flex-start;\n",
       "    align-content: flex-start;\n",
       "    flex-flow: column nowrap;\n",
       "}\n",
       ".children {\n",
       "    display: flex;\n",
       "    justify-content: flex-start;\n",
       "    align-items: flex-start;\n",
       "    align-content: flex-start;\n",
       "    border: 0;\n",
       "    background-color: #ffffff;\n",
       "}\n",
       ".children.document {\n",
       "    flex-flow: column nowrap;\n",
       "}\n",
       ".children.face {\n",
       "    flex-flow: column nowrap;\n",
       "}\n",
       ".children.line {\n",
       "    align-items: stretch;\n",
       "    flex-flow: row nowrap;\n",
       "}\n",
       ".children.cluster {\n",
       "    flex-flow: row wrap;\n",
       "}\n",
       ".children.word {\n",
       "    align-items: stretch;\n",
       "    flex-flow: row nowrap;\n",
       "}\n",
       ".children.sign {\n",
       "    flex-flow: column nowrap;\n",
       "}\n",
       ".contnr {\n",
       "    width: fit-content;\n",
       "}\n",
       ".contnr.document,.contnr.face,\n",
       ".contnr.line,\n",
       ".contnr.cluster,\n",
       ".contnr.word,\n",
       ".contnr.sign {\n",
       "    display: flex;\n",
       "    justify-content: flex-start;\n",
       "    align-items: flex-start;\n",
       "    align-content: flex-start;\n",
       "    flex-flow: column nowrap;\n",
       "    background: #ffffff none repeat scroll 0 0;\n",
       "    padding:  0.5em 0.1em 0.1em 0.1em;\n",
       "    margin: 0.8em 0.1em 0.1em 0.1em;\n",
       "    border-radius: 0.2rem;\n",
       "    border-style: solid;\n",
       "    border-width: 0.1rem;\n",
       "    font-size: small;\n",
       "}\n",
       ".contnr.document,.contnr.face {\n",
       "    border-color: #bb9966;\n",
       "}\n",
       ".contnr.line {\n",
       "    border-color: #6699bb;\n",
       "}\n",
       ".contnr.cluster {\n",
       "    flex-flow: row wrap;\n",
       "    border: 0;\n",
       "}\n",
       ".contnr.word {\n",
       "    border-color: #bbbbbb;\n",
       "}\n",
       ".contnr.sign {\n",
       "    border-color: #dddddd;\n",
       "}\n",
       ".contnr.hl {\n",
       "    background-color: #ffee66;\n",
       "}\n",
       ".lbl.document,.lbl.face,\n",
       ".lbl.line,\n",
       ".lbl.cluster,\n",
       ".lbl.sign,.lbl.word {\n",
       "    margin-top: -1.2em;\n",
       "    margin-left: 1em;\n",
       "    background: #ffffff none repeat scroll 0 0;\n",
       "    padding: 0 0.3em;\n",
       "    border-style: solid;\n",
       "    font-size: small;\n",
       "    display: block;\n",
       "}\n",
       ".lbl.document,.lbl.face {\n",
       "    border-color: #bb9966;\n",
       "    border-width: 0.1rem;\n",
       "    border-radius: 0.1rem;\n",
       "    color: #bb8800;\n",
       "}\n",
       ".lbl.line {\n",
       "    border-color: #6699bb;\n",
       "    border-width: 0.1rem;\n",
       "    border-radius: 0.1rem;\n",
       "    color: #0088bb;\n",
       "}\n",
       ".lbl.cluster {\n",
       "    border-color: #dddddd;\n",
       "    border-width: 0.1rem;\n",
       "    border-radius: 0.1rem;\n",
       "    color: #0000cc;\n",
       "}\n",
       ".lbl.word {\n",
       "    border-color: #bbbbbb;\n",
       "    border-width: 0.1rem;\n",
       "    border-radius: 0.1rem;\n",
       "    font-size: medium;\n",
       "    color: #000000;\n",
       "}\n",
       ".lbl.sign {\n",
       "    border-color: #dddddd;\n",
       "    border-width: 0.1rem;\n",
       "    border-radius: 0.1rem;\n",
       "    font-size: small;\n",
       "    color: #000000;\n",
       "}\n",
       ".op {\n",
       "    padding:  0.5em 0.1em 0.1em 0.1em;\n",
       "    margin: 0.8em 0.1em 0.1em 0.1em;\n",
       "    font-family: monospace;\n",
       "    font-size: x-large;\n",
       "    font-weight: bold;\n",
       "}\n",
       ".name {\n",
       "    font-family: monospace;\n",
       "    font-size: medium;\n",
       "    color: #0000bb;\n",
       "}\n",
       ".period {\n",
       "    font-family: monospace;\n",
       "    font-size: medium;\n",
       "    font-weight: bold;\n",
       "    color: #0000bb;\n",
       "}\n",
       ".text {\n",
       "    font-family: sans-serif;\n",
       "    font-size: x-small;\n",
       "    color: #000000;\n",
       "}\n",
       ".srcln {\n",
       "    font-family: monospace;\n",
       "    font-size: medium;\n",
       "    color: #000000;\n",
       "}\n",
       ".srclnnum {\n",
       "    font-family: monospace;\n",
       "    font-size: x-small;\n",
       "    color: #0000bb;\n",
       "}\n",
       ".comment {\n",
       "    color: #7777dd;\n",
       "    font-family: monospace;\n",
       "    font-size: small;\n",
       "}\n",
       ".operator {\n",
       "    color: #ff77ff;\n",
       "    font-size: large;\n",
       "}\n",
       "/* LANGUAGE: superscript and subscript */\n",
       "\n",
       "/* cluster */\n",
       ".det {\n",
       "    vertical-align: super;\n",
       "}\n",
       "/* cluster */\n",
       ".langalt {\n",
       "    vertical-align: sub;\n",
       "}\n",
       "/* REDACTIONAL: line over or under  */\n",
       "\n",
       "/* flag */\n",
       ".collated {\n",
       "    font-weight: bold;\n",
       "    text-decoration: underline;\n",
       "}\n",
       "/* cluster */\n",
       ".excised {\n",
       "    color: #dd0000;\n",
       "    text-decoration: line-through;\n",
       "}\n",
       "/* cluster */\n",
       ".supplied {\n",
       "    color: #0000ff;\n",
       "    text-decoration: overline;\n",
       "}\n",
       "/* flag */\n",
       ".remarkable {\n",
       "    font-weight: bold;\n",
       "    text-decoration: overline;\n",
       "}\n",
       "\n",
       "/* UNSURE: italic*/\n",
       "\n",
       "/* cluster */\n",
       ".uncertain {\n",
       "    font-style: italic\n",
       "}\n",
       "/* flag */\n",
       ".question {\n",
       "    font-weight: bold;\n",
       "    font-style: italic\n",
       "}\n",
       "\n",
       "/* BROKEN: text-shadow */\n",
       "\n",
       "/* cluster */\n",
       ".missing {\n",
       "    color: #999999;\n",
       "    text-shadow: #bbbbbb 1px 1px;\n",
       "}\n",
       "/* flag */\n",
       ".damage {\n",
       "    font-weight: bold;\n",
       "    color: #999999;\n",
       "    text-shadow: #bbbbbb 1px 1px;\n",
       "}\n",
       ".empty {\n",
       "  color: #ff0000;\n",
       "}\n",
       "\n",
       "\n",
       "tr.tf, td.tf, th.tf {\n",
       "  text-align: left;\n",
       "}\n",
       "\n",
       "span.hldot {\n",
       "\tbackground-color: var(--hl-strong);\n",
       "\tborder: 0.2rem solid var(--hl-rim);\n",
       "\tborder-radius: 0.4rem;\n",
       "\t/*\n",
       "\tdisplay: inline-block;\n",
       "\twidth: 0.8rem;\n",
       "\theight: 0.8rem;\n",
       "\t*/\n",
       "}\n",
       "span.hl {\n",
       "\tbackground-color: var(--hl-strong);\n",
       "\tborder-width: 0;\n",
       "\tborder-radius: 0.1rem;\n",
       "\tborder-style: solid;\n",
       "}\n",
       "\n",
       "span.hlbx {\n",
       "\tborder-color: var(--hl-dark);\n",
       "\tborder-width: 0.2rem;\n",
       "\tborder-style: solid;\n",
       "\tborder-radius: 0.3rem;\n",
       "  padding: 0.2rem;\n",
       "  margin: 0.2rem;\n",
       "}\n",
       "\n",
       "span.plain {\n",
       "  display: inline-block;\n",
       "  white-space: pre-wrap;\n",
       "}\n",
       "\n",
       ":root {\n",
       "\t--hl-strong:        hsla( 60, 100%,  70%, 0.9  );\n",
       "\t--hl-rim:           hsla( 55, 100%,  60%, 0.9  );\n",
       "\t--hl-dark:          hsla( 55, 100%,  40%, 0.9  );\n",
       "}\n",
       "</style>"
      ],
      "text/plain": [
       "<IPython.core.display.HTML object>"
      ]
     },
     "metadata": {},
     "output_type": "display_data"
    },
    {
     "data": {
      "text/html": [
       "<details open><summary><b>API members</b>:</summary>\n",
       "<a target=\"_blank\" href=\"https://annotation.github.io/text-fabric/Api/Computed/#computed-data\" title=\"doc\">C Computed</a>, <a target=\"_blank\" href=\"https://annotation.github.io/text-fabric/Api/Computed/#computed-data\" title=\"doc\">Call AllComputeds</a>, <a target=\"_blank\" href=\"https://annotation.github.io/text-fabric/Api/Computed/#computed-data\" title=\"doc\">Cs ComputedString</a><br/>\n",
       "<a target=\"_blank\" href=\"https://annotation.github.io/text-fabric/Api/Features/#edge-features\" title=\"doc\">E Edge</a>, <a target=\"_blank\" href=\"https://annotation.github.io/text-fabric/Api/Features/#edge-features\" title=\"doc\">Eall AllEdges</a>, <a target=\"_blank\" href=\"https://annotation.github.io/text-fabric/Api/Features/#edge-features\" title=\"doc\">Es EdgeString</a><br/>\n",
       "<a target=\"_blank\" href=\"https://annotation.github.io/text-fabric/Api/Fabric/#loading\" title=\"doc\">ensureLoaded</a>, <a target=\"_blank\" href=\"https://annotation.github.io/text-fabric/Api/Fabric/#loading\" title=\"doc\">TF</a>, <a target=\"_blank\" href=\"https://annotation.github.io/text-fabric/Api/Fabric/#loading\" title=\"doc\">ignored</a>, <a target=\"_blank\" href=\"https://annotation.github.io/text-fabric/Api/Fabric/#loading\" title=\"doc\">loadLog</a><br/>\n",
       "<a target=\"_blank\" href=\"https://annotation.github.io/text-fabric/Api/Locality/#locality\" title=\"doc\">L Locality</a><br/>\n",
       "<a target=\"_blank\" href=\"https://annotation.github.io/text-fabric/Api/Misc/#messaging\" title=\"doc\">cache</a>, <a target=\"_blank\" href=\"https://annotation.github.io/text-fabric/Api/Misc/#messaging\" title=\"doc\">error</a>, <a target=\"_blank\" href=\"https://annotation.github.io/text-fabric/Api/Misc/#messaging\" title=\"doc\">indent</a>, <a target=\"_blank\" href=\"https://annotation.github.io/text-fabric/Api/Misc/#messaging\" title=\"doc\">info</a>, <a target=\"_blank\" href=\"https://annotation.github.io/text-fabric/Api/Misc/#messaging\" title=\"doc\">isSilent</a>, <a target=\"_blank\" href=\"https://annotation.github.io/text-fabric/Api/Misc/#messaging\" title=\"doc\">reset</a>, <a target=\"_blank\" href=\"https://annotation.github.io/text-fabric/Api/Misc/#messaging\" title=\"doc\">setSilent</a>, <a target=\"_blank\" href=\"https://annotation.github.io/text-fabric/Api/Misc/#messaging\" title=\"doc\">silentOff</a>, <a target=\"_blank\" href=\"https://annotation.github.io/text-fabric/Api/Misc/#messaging\" title=\"doc\">silentOn</a>, <a target=\"_blank\" href=\"https://annotation.github.io/text-fabric/Api/Misc/#messaging\" title=\"doc\">warning</a><br/>\n",
       "<a target=\"_blank\" href=\"https://annotation.github.io/text-fabric/Api/Nodes/#navigating-nodes\" title=\"doc\">N Nodes</a>, <a target=\"_blank\" href=\"https://annotation.github.io/text-fabric/Api/Nodes/#navigating-nodes\" title=\"doc\">sortKey</a>, <a target=\"_blank\" href=\"https://annotation.github.io/text-fabric/Api/Nodes/#navigating-nodes\" title=\"doc\">sortKeyTuple</a>, <a target=\"_blank\" href=\"https://annotation.github.io/text-fabric/Api/Nodes/#navigating-nodes\" title=\"doc\">otypeRank</a>, <a target=\"_blank\" href=\"https://annotation.github.io/text-fabric/Api/Nodes/#navigating-nodes\" title=\"doc\">sortNodes</a><br/>\n",
       "<a target=\"_blank\" href=\"https://annotation.github.io/text-fabric/Api/Features/#node-features\" title=\"doc\">F Feature</a>, <a target=\"_blank\" href=\"https://annotation.github.io/text-fabric/Api/Features/#node-features\" title=\"doc\">Fall AllFeatures</a>, <a target=\"_blank\" href=\"https://annotation.github.io/text-fabric/Api/Features/#node-features\" title=\"doc\">Fs FeatureString</a><br/>\n",
       "<a target=\"_blank\" href=\"https://annotation.github.io/text-fabric/Api/Search/#search\" title=\"doc\">S Search</a><br/>\n",
       "<a target=\"_blank\" href=\"https://annotation.github.io/text-fabric/Api/Text/#text\" title=\"doc\">T Text</a></details>"
      ],
      "text/plain": [
       "<IPython.core.display.HTML object>"
      ]
     },
     "metadata": {},
     "output_type": "display_data"
    }
   ],
   "source": [
    "# A = use('oldbabylonian', hoist=globals(), mod='Nino-cunei/exercises/analysis/tf')\n",
    "A = use('oldbabylonian:clone', checkout=\"clone\", hoist=globals(), mod='Nino-cunei/exercises/analysis/tf:clone')"
   ]
  },
  {
   "cell_type": "markdown",
   "metadata": {},
   "source": [
    "Above you see a new section in the feature list: **Nino-cunei/exercises/analysis/tf** with our foreign feature in it: `ummama`.\n",
    "\n",
    "Now, suppose did not know much about this feature, then we would like to do a few basic checks:"
   ]
  },
  {
   "cell_type": "code",
   "execution_count": 16,
   "metadata": {},
   "outputs": [
    {
     "data": {
      "text/plain": [
       "((1, 182221),)"
      ]
     },
     "execution_count": 16,
     "metadata": {},
     "output_type": "execute_result"
    }
   ],
   "source": [
    "F.ummama.freqList()"
   ]
  },
  {
   "cell_type": "markdown",
   "metadata": {},
   "source": [
    "We see that the feature has only one value, `1`, and that 182222 nodes have it."
   ]
  },
  {
   "cell_type": "markdown",
   "metadata": {},
   "source": [
    "Which nodes have a ummmama feature?"
   ]
  },
  {
   "cell_type": "code",
   "execution_count": 17,
   "metadata": {},
   "outputs": [
    {
     "data": {
      "text/plain": [
       "{'sign'}"
      ]
     },
     "execution_count": 17,
     "metadata": {},
     "output_type": "execute_result"
    }
   ],
   "source": [
    "{F.otype.v(n) for n in N() if F.ummama.v(n)}"
   ]
  },
  {
   "cell_type": "markdown",
   "metadata": {},
   "source": [
    "Only signs have the feature.\n",
    "\n",
    "Let's have a look at a table of some ummama signs."
   ]
  },
  {
   "cell_type": "code",
   "execution_count": 18,
   "metadata": {},
   "outputs": [
    {
     "name": "stdout",
     "output_type": "stream",
     "text": [
      "  0.32s 182221 results\n"
     ]
    }
   ],
   "source": [
    "results = A.search('''\n",
    "sign ummama\n",
    "''')"
   ]
  },
  {
   "cell_type": "code",
   "execution_count": 19,
   "metadata": {},
   "outputs": [
    {
     "data": {
      "text/html": [
       "<table>\n",
       "<tr class=\"tf\">\n",
       "  <th class=\"tf\">n</th><th class=\"tf\">p</th>\n",
       "  <th class=\"tf\">sign</th>\n",
       "</tr>\n",
       "\n",
       "<tr class=\"tf\"><td class=\"tf\">1</td><td class=\"tf\"> <a href=\"https://cdli.ucla.edu/search/search_results.php?SearchMode=Text&amp;ObjectID=P509373\" title=\"show this document on CDLI\" sec=\"P509373 obverse:1\">P509373 obverse:1</a></td><td class=\"tf\"><span class=\"plain outer  hlbx\" ><span class=\"txtp\">[a-</span></span></td></tr>\n",
       "<tr class=\"tf\"><td class=\"tf\">2</td><td class=\"tf\"> <a href=\"https://cdli.ucla.edu/search/search_results.php?SearchMode=Text&amp;ObjectID=P509373\" title=\"show this document on CDLI\" sec=\"P509373 obverse:1\">P509373 obverse:1</a></td><td class=\"tf\"><span class=\"plain outer  hlbx\" ><span class=\"txtp\">na] </span></span></td></tr>\n",
       "<tr class=\"tf\"><td class=\"tf\">3</td><td class=\"tf\"> <a href=\"https://cdli.ucla.edu/search/search_results.php?SearchMode=Text&amp;ObjectID=P509373\" title=\"show this document on CDLI\" sec=\"P509373 obverse:1\">P509373 obverse:1</a></td><td class=\"tf\"><span class=\"plain outer  hlbx\" ><span class=\"txtp\">_{d}</span></span></td></tr>\n",
       "<tr class=\"tf\"><td class=\"tf\">4</td><td class=\"tf\"> <a href=\"https://cdli.ucla.edu/search/search_results.php?SearchMode=Text&amp;ObjectID=P509373\" title=\"show this document on CDLI\" sec=\"P509373 obverse:1\">P509373 obverse:1</a></td><td class=\"tf\"><span class=\"plain outer  hlbx\" ><span class=\"txtp\">suen_-</span></span></td></tr>\n",
       "<tr class=\"tf\"><td class=\"tf\">5</td><td class=\"tf\"> <a href=\"https://cdli.ucla.edu/search/search_results.php?SearchMode=Text&amp;ObjectID=P509373\" title=\"show this document on CDLI\" sec=\"P509373 obverse:1\">P509373 obverse:1</a></td><td class=\"tf\"><span class=\"plain outer  hlbx\" ><span class=\"txtp\">i-</span></span></td></tr>\n",
       "<tr class=\"tf\"><td class=\"tf\">6</td><td class=\"tf\"> <a href=\"https://cdli.ucla.edu/search/search_results.php?SearchMode=Text&amp;ObjectID=P509373\" title=\"show this document on CDLI\" sec=\"P509373 obverse:1\">P509373 obverse:1</a></td><td class=\"tf\"><span class=\"plain outer  hlbx\" ><span class=\"txtp\">[din-</span></span></td></tr>\n",
       "<tr class=\"tf\"><td class=\"tf\">7</td><td class=\"tf\"> <a href=\"https://cdli.ucla.edu/search/search_results.php?SearchMode=Text&amp;ObjectID=P509373\" title=\"show this document on CDLI\" sec=\"P509373 obverse:1\">P509373 obverse:1</a></td><td class=\"tf\"><span class=\"plain outer  hlbx\" ><span class=\"txtp\">nam]</span></span></td></tr>\n",
       "<tr class=\"tf\"><td class=\"tf\">8</td><td class=\"tf\"> <a href=\"https://cdli.ucla.edu/search/search_results.php?SearchMode=Text&amp;ObjectID=P509373\" title=\"show this document on CDLI\" sec=\"P509373 obverse:2\">P509373 obverse:2</a></td><td class=\"tf\"><span class=\"plain outer  hlbx\" ><span class=\"txtp\">qi2-</span></span></td></tr>\n",
       "<tr class=\"tf\"><td class=\"tf\">9</td><td class=\"tf\"> <a href=\"https://cdli.ucla.edu/search/search_results.php?SearchMode=Text&amp;ObjectID=P509373\" title=\"show this document on CDLI\" sec=\"P509373 obverse:2\">P509373 obverse:2</a></td><td class=\"tf\"><span class=\"plain outer  hlbx\" ><span class=\"txtp\">[ma]</span></span></td></tr>\n",
       "<tr class=\"tf\"><td class=\"tf\">10</td><td class=\"tf\"> <a href=\"https://cdli.ucla.edu/search/search_results.php?SearchMode=Text&amp;ObjectID=P509373\" title=\"show this document on CDLI\" sec=\"P509373 obverse:3\">P509373 obverse:3</a></td><td class=\"tf\"><span class=\"plain outer  hlbx\" ><span class=\"txtp\">um-</span></span></td></tr>\n",
       "<tr class=\"tf\"><td class=\"tf\">11</td><td class=\"tf\"> <a href=\"https://cdli.ucla.edu/search/search_results.php?SearchMode=Text&amp;ObjectID=P509373\" title=\"show this document on CDLI\" sec=\"P509373 obverse:3\">P509373 obverse:3</a></td><td class=\"tf\"><span class=\"plain outer  hlbx\" ><span class=\"txtp\">ma </span></span></td></tr>\n",
       "<tr class=\"tf\"><td class=\"tf\">12</td><td class=\"tf\"> <a href=\"https://cdli.ucla.edu/search/search_results.php?SearchMode=Text&amp;ObjectID=P509373\" title=\"show this document on CDLI\" sec=\"P509373 obverse:3\">P509373 obverse:3</a></td><td class=\"tf\"><span class=\"plain outer  hlbx\" ><span class=\"txtp\">_{d}</span></span></td></tr>\n",
       "<tr class=\"tf\"><td class=\"tf\">13</td><td class=\"tf\"> <a href=\"https://cdli.ucla.edu/search/search_results.php?SearchMode=Text&amp;ObjectID=P509373\" title=\"show this document on CDLI\" sec=\"P509373 obverse:3\">P509373 obverse:3</a></td><td class=\"tf\"><span class=\"plain outer  hlbx\" ><span class=\"txtp\">en-</span></span></td></tr>\n",
       "<tr class=\"tf\"><td class=\"tf\">14</td><td class=\"tf\"> <a href=\"https://cdli.ucla.edu/search/search_results.php?SearchMode=Text&amp;ObjectID=P509373\" title=\"show this document on CDLI\" sec=\"P509373 obverse:3\">P509373 obverse:3</a></td><td class=\"tf\"><span class=\"plain outer  hlbx\" ><span class=\"txtp\">lil2_-</span></span></td></tr>\n",
       "<tr class=\"tf\"><td class=\"tf\">15</td><td class=\"tf\"> <a href=\"https://cdli.ucla.edu/search/search_results.php?SearchMode=Text&amp;ObjectID=P509373\" title=\"show this document on CDLI\" sec=\"P509373 obverse:3\">P509373 obverse:3</a></td><td class=\"tf\"><span class=\"plain outer  hlbx\" ><span class=\"txtp\">sza-</span></span></td></tr>\n",
       "<tr class=\"tf\"><td class=\"tf\">16</td><td class=\"tf\"> <a href=\"https://cdli.ucla.edu/search/search_results.php?SearchMode=Text&amp;ObjectID=P509373\" title=\"show this document on CDLI\" sec=\"P509373 obverse:3\">P509373 obverse:3</a></td><td class=\"tf\"><span class=\"plain outer  hlbx\" ><span class=\"txtp\">du-</span></span></td></tr>\n",
       "<tr class=\"tf\"><td class=\"tf\">17</td><td class=\"tf\"> <a href=\"https://cdli.ucla.edu/search/search_results.php?SearchMode=Text&amp;ObjectID=P509373\" title=\"show this document on CDLI\" sec=\"P509373 obverse:3\">P509373 obverse:3</a></td><td class=\"tf\"><span class=\"plain outer  hlbx\" ><span class=\"txtp\">u2-</span></span></td></tr>\n",
       "<tr class=\"tf\"><td class=\"tf\">18</td><td class=\"tf\"> <a href=\"https://cdli.ucla.edu/search/search_results.php?SearchMode=Text&amp;ObjectID=P509373\" title=\"show this document on CDLI\" sec=\"P509373 obverse:3\">P509373 obverse:3</a></td><td class=\"tf\"><span class=\"plain outer  hlbx\" ><span class=\"txtp\">ni-</span></span></td></tr>\n",
       "<tr class=\"tf\"><td class=\"tf\">19</td><td class=\"tf\"> <a href=\"https://cdli.ucla.edu/search/search_results.php?SearchMode=Text&amp;ObjectID=P509373\" title=\"show this document on CDLI\" sec=\"P509373 obverse:3\">P509373 obverse:3</a></td><td class=\"tf\"><span class=\"plain outer  hlbx\" ><span class=\"txtp\">ma</span></span></td></tr>\n",
       "<tr class=\"tf\"><td class=\"tf\">20</td><td class=\"tf\"> <a href=\"https://cdli.ucla.edu/search/search_results.php?SearchMode=Text&amp;ObjectID=P509373\" title=\"show this document on CDLI\" sec=\"P509373 obverse:4\">P509373 obverse:4</a></td><td class=\"tf\"><span class=\"plain outer  hlbx\" ><span class=\"txtp\">_{d}</span></span></td></tr></table>"
      ],
      "text/plain": [
       "<IPython.core.display.HTML object>"
      ]
     },
     "metadata": {},
     "output_type": "display_data"
    }
   ],
   "source": [
    "A.table(results, start=1, end=20)"
   ]
  },
  {
   "cell_type": "markdown",
   "metadata": {},
   "source": [
    "Now let's get some non-ummama signs:"
   ]
  },
  {
   "cell_type": "code",
   "execution_count": 20,
   "metadata": {},
   "outputs": [
    {
     "name": "stdout",
     "output_type": "stream",
     "text": [
      "  0.18s 20998 results\n"
     ]
    }
   ],
   "source": [
    "results = A.search('''\n",
    "sign ummama#\n",
    "''')"
   ]
  },
  {
   "cell_type": "code",
   "execution_count": 21,
   "metadata": {},
   "outputs": [
    {
     "data": {
      "text/html": [
       "<table>\n",
       "<tr class=\"tf\">\n",
       "  <th class=\"tf\">n</th><th class=\"tf\">p</th>\n",
       "  <th class=\"tf\">sign</th>\n",
       "</tr>\n",
       "\n",
       "<tr class=\"tf\"><td class=\"tf\">1</td><td class=\"tf\"> <a href=\"https://cdli.ucla.edu/search/search_results.php?SearchMode=Text&amp;ObjectID=P509373\" title=\"show this document on CDLI\" sec=\"P509373 obverse:2\">P509373 obverse:2</a></td><td class=\"tf\"><span class=\"plain outer  hlbx\" ><span class=\"txtp\">bi2-</span></span></td></tr>\n",
       "<tr class=\"tf\"><td class=\"tf\">2</td><td class=\"tf\"> <a href=\"https://cdli.ucla.edu/search/search_results.php?SearchMode=Text&amp;ObjectID=P509373\" title=\"show this document on CDLI\" sec=\"P509373 obverse:5\">P509373 obverse:5</a></td><td class=\"tf\"><span class=\"plain outer  hlbx\" ><span class=\"txtp\">t,u2-</span></span></td></tr>\n",
       "<tr class=\"tf\"><td class=\"tf\">3</td><td class=\"tf\"> <a href=\"https://cdli.ucla.edu/search/search_results.php?SearchMode=Text&amp;ObjectID=P509373\" title=\"show this document on CDLI\" sec=\"P509373 obverse:6\">P509373 obverse:6</a></td><td class=\"tf\"><span class=\"plain outer  hlbx\" ><span class=\"txtp\">a2-</span></span></td></tr>\n",
       "<tr class=\"tf\"><td class=\"tf\">4</td><td class=\"tf\"> <a href=\"https://cdli.ucla.edu/search/search_results.php?SearchMode=Text&amp;ObjectID=P509373\" title=\"show this document on CDLI\" sec=\"P509373 obverse:6\">P509373 obverse:6</a></td><td class=\"tf\"><span class=\"plain outer  hlbx\" ><span class=\"txtp\">gal2 </span></span></td></tr>\n",
       "<tr class=\"tf\"><td class=\"tf\">5</td><td class=\"tf\"> <a href=\"https://cdli.ucla.edu/search/search_results.php?SearchMode=Text&amp;ObjectID=P509373\" title=\"show this document on CDLI\" sec=\"P509373 obverse:9\">P509373 obverse:9</a></td><td class=\"tf\"><span class=\"plain outer  hlbx\" ><span class=\"txtp\">2(esze3) </span></span></td></tr>\n",
       "<tr class=\"tf\"><td class=\"tf\">6</td><td class=\"tf\"> <a href=\"https://cdli.ucla.edu/search/search_results.php?SearchMode=Text&amp;ObjectID=P509373\" title=\"show this document on CDLI\" sec=\"P509373 obverse:9\">P509373 obverse:9</a></td><td class=\"tf\"><span class=\"plain outer  hlbx\" ><span class=\"txtp\">gud_</span></span></td></tr>\n",
       "<tr class=\"tf\"><td class=\"tf\">7</td><td class=\"tf\"> <a href=\"https://cdli.ucla.edu/search/search_results.php?SearchMode=Text&amp;ObjectID=P509373\" title=\"show this document on CDLI\" sec=\"P509373 obverse:10\">P509373 obverse:10</a></td><td class=\"tf\"><span class=\"plain outer  hlbx\" ><span class=\"txtp\">gar3_ </span></span></td></tr>\n",
       "<tr class=\"tf\"><td class=\"tf\">8</td><td class=\"tf\"> <a href=\"https://cdli.ucla.edu/search/search_results.php?SearchMode=Text&amp;ObjectID=P509373\" title=\"show this document on CDLI\" sec=\"P509373 obverse:10\">P509373 obverse:10</a></td><td class=\"tf\"><span class=\"plain outer  hlbx\" ><span class=\"txtp\">ag-</span></span></td></tr>\n",
       "<tr class=\"tf\"><td class=\"tf\">9</td><td class=\"tf\"> <a href=\"https://cdli.ucla.edu/search/search_results.php?SearchMode=Text&amp;ObjectID=P509373\" title=\"show this document on CDLI\" sec=\"P509373 obverse:10\">P509373 obverse:10</a></td><td class=\"tf\"><span class=\"plain outer  hlbx\" ><span class=\"txtp\">_uru_ </span></span></td></tr>\n",
       "<tr class=\"tf\"><td class=\"tf\">10</td><td class=\"tf\"> <a href=\"https://cdli.ucla.edu/search/search_results.php?SearchMode=Text&amp;ObjectID=P509373\" title=\"show this document on CDLI\" sec=\"P509373 obverse:11\">P509373 obverse:11</a></td><td class=\"tf\"><span class=\"plain outer  hlbx\" ><span class=\"txtp\">kam_ </span></span></td></tr>\n",
       "<tr class=\"tf\"><td class=\"tf\">11</td><td class=\"tf\"> <a href=\"https://cdli.ucla.edu/search/search_results.php?SearchMode=Text&amp;ObjectID=P509373\" title=\"show this document on CDLI\" sec=\"P509373 obverse:12\">P509373 obverse:12</a></td><td class=\"tf\"><span class=\"plain outer  hlbx\" ><span class=\"txtp\">_uru_ </span></span></td></tr>\n",
       "<tr class=\"tf\"><td class=\"tf\">12</td><td class=\"tf\"> <a href=\"https://cdli.ucla.edu/search/search_results.php?SearchMode=Text&amp;ObjectID=P509373\" title=\"show this document on CDLI\" sec=\"P509373 obverse:12\">P509373 obverse:12</a></td><td class=\"tf\"><span class=\"plain outer  hlbx\" ><span class=\"txtp\">ak-</span></span></td></tr>\n",
       "<tr class=\"tf\"><td class=\"tf\">13</td><td class=\"tf\"> <a href=\"https://cdli.ucla.edu/search/search_results.php?SearchMode=Text&amp;ObjectID=P509373\" title=\"show this document on CDLI\" sec=\"P509373 obverse:13\">P509373 obverse:13</a></td><td class=\"tf\"><span class=\"plain outer  hlbx\" ><span class=\"txtp\">2(esze3) </span></span></td></tr>\n",
       "<tr class=\"tf\"><td class=\"tf\">14</td><td class=\"tf\"> <a href=\"https://cdli.ucla.edu/search/search_results.php?SearchMode=Text&amp;ObjectID=P509373\" title=\"show this document on CDLI\" sec=\"P509373 obverse:13\">P509373 obverse:13</a></td><td class=\"tf\"><span class=\"plain outer  hlbx\" ><span class=\"txtp\">szuku_ </span></span></td></tr>\n",
       "<tr class=\"tf\"><td class=\"tf\">15</td><td class=\"tf\"> <a href=\"https://cdli.ucla.edu/search/search_results.php?SearchMode=Text&amp;ObjectID=P509373\" title=\"show this document on CDLI\" sec=\"P509373 obverse:13\">P509373 obverse:13</a></td><td class=\"tf\"><span class=\"plain outer  hlbx\" ><span class=\"txtp\">_nagar-</span></span></td></tr>\n",
       "<tr class=\"tf\"><td class=\"tf\">16</td><td class=\"tf\"> <a href=\"https://cdli.ucla.edu/search/search_results.php?SearchMode=Text&amp;ObjectID=P509373\" title=\"show this document on CDLI\" sec=\"P509373 obverse:14\">P509373 obverse:14</a></td><td class=\"tf\"><span class=\"plain outer  hlbx\" ><span class=\"txtp\">gar3 </span></span></td></tr>\n",
       "<tr class=\"tf\"><td class=\"tf\">17</td><td class=\"tf\"> <a href=\"https://cdli.ucla.edu/search/search_results.php?SearchMode=Text&amp;ObjectID=P509373\" title=\"show this document on CDLI\" sec=\"P509373 obverse:14\">P509373 obverse:14</a></td><td class=\"tf\"><span class=\"plain outer  hlbx\" ><span class=\"txtp\">uru_ </span></span></td></tr>\n",
       "<tr class=\"tf\"><td class=\"tf\">18</td><td class=\"tf\"> <a href=\"https://cdli.ucla.edu/search/search_results.php?SearchMode=Text&amp;ObjectID=P509373\" title=\"show this document on CDLI\" sec=\"P509373 obverse:14\">P509373 obverse:14</a></td><td class=\"tf\"><span class=\"plain outer  hlbx\" ><span class=\"txtp\">[...]</span></span></td></tr>\n",
       "<tr class=\"tf\"><td class=\"tf\">19</td><td class=\"tf\"> <a href=\"https://cdli.ucla.edu/search/search_results.php?SearchMode=Text&amp;ObjectID=P509373\" title=\"show this document on CDLI\" sec=\"P509373 obverse:15\">P509373 obverse:15</a></td><td class=\"tf\"><span class=\"plain outer  hlbx\" ><span class=\"txtp\">[...]</span></span></td></tr>\n",
       "<tr class=\"tf\"><td class=\"tf\">20</td><td class=\"tf\"> <a href=\"https://cdli.ucla.edu/search/search_results.php?SearchMode=Text&amp;ObjectID=P509373\" title=\"show this document on CDLI\" sec=\"P509373 obverse:$a\">P509373 obverse:$a</a></td><td class=\"tf\"><span class=\"plain outer  hlbx\" ><span class=\"txtp\"><span>$</span> rest broken</span></span></td></tr></table>"
      ],
      "text/plain": [
       "<IPython.core.display.HTML object>"
      ]
     },
     "metadata": {},
     "output_type": "display_data"
    }
   ],
   "source": [
    "A.table(results, start=1, end=20)"
   ]
  },
  {
   "cell_type": "markdown",
   "metadata": {},
   "source": [
    "Let's get lines with both ummama and non-ummama signs:"
   ]
  },
  {
   "cell_type": "code",
   "execution_count": 22,
   "metadata": {},
   "outputs": [
    {
     "name": "stdout",
     "output_type": "stream",
     "text": [
      "  0.79s 133413 results\n"
     ]
    }
   ],
   "source": [
    "results = A.search('''\n",
    "line\n",
    "  sign ummama\n",
    "  sign ummama#\n",
    "''')"
   ]
  },
  {
   "cell_type": "code",
   "execution_count": 23,
   "metadata": {},
   "outputs": [
    {
     "data": {
      "text/html": [
       "<table>\n",
       "<tr class=\"tf\">\n",
       "  <th class=\"tf\">n</th><th class=\"tf\">p</th>\n",
       "  <th class=\"tf\">line</th><th>sign</th><th>sign</th><th>sign</th>\n",
       "</tr>\n",
       "\n",
       "<tr class=\"tf\"><td class=\"tf\">1</td><td class=\"tf\"> <a href=\"https://cdli.ucla.edu/search/search_results.php?SearchMode=Text&amp;ObjectID=P509373\" title=\"show this document on CDLI\" sec=\"P509373 obverse:2\">P509373 obverse:2</a></td><td class=\"tf\"><span class=\"plain outer  \" ><span class=\"plain\"><span class=\"plain \" ><span class=\"plain hlbx\" ><span class=\"txtp\">qi2-</span></span><span class=\"plain hlbx\" ><span class=\"txtp\">bi2-</span></span><span class=\"plain hlbx\" ><span class=\"txtp\">[ma]</span></span></span></span></span></td><td class=\"tf\"><span class=\"plain outer  hlbx\" ><span class=\"txtp\">qi2-</span></span></td><td class=\"tf\"><span class=\"plain outer  hlbx\" ><span class=\"txtp\">bi2-</span></span></td><td class=\"tf\"><span class=\"plain outer  hlbx\" ><span class=\"txtp\">[ma]</span></span></td></tr>\n",
       "<tr class=\"tf\"><td class=\"tf\">2</td><td class=\"tf\"> <a href=\"https://cdli.ucla.edu/search/search_results.php?SearchMode=Text&amp;ObjectID=P509373\" title=\"show this document on CDLI\" sec=\"P509373 obverse:5\">P509373 obverse:5</a></td><td class=\"tf\"><span class=\"plain outer  \" ><span class=\"plain\"><span class=\"plain \" ><span class=\"plain hlbx\" ><span class=\"txtp\">li-</span></span><span class=\"plain hlbx\" ><span class=\"txtp\">ba-</span></span><span class=\"plain hlbx\" ><span class=\"txtp\">al-</span></span><span class=\"plain hlbx\" ><span class=\"txtp\">li-</span></span><span class=\"plain hlbx\" ><span class=\"txtp\">t,u2-</span></span><span class=\"plain hlbx\" ><span class=\"txtp\">u2-</span></span><span class=\"plain hlbx\" ><span class=\"txtp\">ka</span></span></span></span></span></td><td class=\"tf\"><span class=\"plain outer  hlbx\" ><span class=\"txtp\">li-</span></span></td><td class=\"tf\"><span class=\"plain outer  hlbx\" ><span class=\"txtp\">ba-</span></span></td><td class=\"tf\"><span class=\"plain outer  hlbx\" ><span class=\"txtp\">al-</span></span></td><td class=\"tf\"><span class=\"plain outer  hlbx\" ><span class=\"txtp\">li-</span></span></td><td class=\"tf\"><span class=\"plain outer  hlbx\" ><span class=\"txtp\">t,u2-</span></span></td><td class=\"tf\"><span class=\"plain outer  hlbx\" ><span class=\"txtp\">u2-</span></span></td><td class=\"tf\"><span class=\"plain outer  hlbx\" ><span class=\"txtp\">ka</span></span></td></tr></table>"
      ],
      "text/plain": [
       "<IPython.core.display.HTML object>"
      ]
     },
     "metadata": {},
     "output_type": "display_data"
    }
   ],
   "source": [
    "A.table(results, start=1, end=2, condensed=True)"
   ]
  },
  {
   "cell_type": "markdown",
   "metadata": {},
   "source": [
    "With highlights:"
   ]
  },
  {
   "cell_type": "code",
   "execution_count": 24,
   "metadata": {},
   "outputs": [],
   "source": [
    "highlights = {}\n",
    "\n",
    "for s in F.otype.s('sign'):\n",
    "  color = 'lightsalmon' if F.ummama.v(s) else 'mediumaquamarine'\n",
    "  highlights[s] = color"
   ]
  },
  {
   "cell_type": "code",
   "execution_count": 26,
   "metadata": {},
   "outputs": [
    {
     "data": {
      "text/html": [
       "<table>\n",
       "<tr class=\"tf\">\n",
       "  <th class=\"tf\">n</th><th class=\"tf\">p</th>\n",
       "  <th class=\"tf\">line</th><th>sign</th><th>sign</th><th>sign</th>\n",
       "</tr>\n",
       "\n",
       "<tr class=\"tf\"><td class=\"tf\">1</td><td class=\"tf\"> <a href=\"https://cdli.ucla.edu/search/search_results.php?SearchMode=Text&amp;ObjectID=P509373\" title=\"show this document on CDLI\" sec=\"P509373 obverse:2\">P509373 obverse:2</a></td><td class=\"tf\"><span class=\"plain outer  \" ><span class=\"plain\"><span class=\"plain \" ><span class=\"plain hl\"  style=\"background-color: lightsalmon;\" ><span class=\"txtp\">qi2-</span></span><span class=\"plain hl\"  style=\"background-color: mediumaquamarine;\" ><span class=\"txtp\">bi2-</span></span><span class=\"plain hl\"  style=\"background-color: lightsalmon;\" ><span class=\"txtp\">[ma]</span></span></span></span></span></td><td class=\"tf\"><span class=\"plain outer  hl\"  style=\"background-color: lightsalmon;\" ><span class=\"txtp\">qi2-</span></span></td><td class=\"tf\"><span class=\"plain outer  hl\"  style=\"background-color: mediumaquamarine;\" ><span class=\"txtp\">bi2-</span></span></td><td class=\"tf\"><span class=\"plain outer  hl\"  style=\"background-color: lightsalmon;\" ><span class=\"txtp\">[ma]</span></span></td></tr>\n",
       "<tr class=\"tf\"><td class=\"tf\">2</td><td class=\"tf\"> <a href=\"https://cdli.ucla.edu/search/search_results.php?SearchMode=Text&amp;ObjectID=P509373\" title=\"show this document on CDLI\" sec=\"P509373 obverse:5\">P509373 obverse:5</a></td><td class=\"tf\"><span class=\"plain outer  \" ><span class=\"plain\"><span class=\"plain \" ><span class=\"plain hl\"  style=\"background-color: lightsalmon;\" ><span class=\"txtp\">li-</span></span><span class=\"plain hl\"  style=\"background-color: lightsalmon;\" ><span class=\"txtp\">ba-</span></span><span class=\"plain hl\"  style=\"background-color: lightsalmon;\" ><span class=\"txtp\">al-</span></span><span class=\"plain hl\"  style=\"background-color: lightsalmon;\" ><span class=\"txtp\">li-</span></span><span class=\"plain hl\"  style=\"background-color: mediumaquamarine;\" ><span class=\"txtp\">t,u2-</span></span><span class=\"plain hl\"  style=\"background-color: lightsalmon;\" ><span class=\"txtp\">u2-</span></span><span class=\"plain hl\"  style=\"background-color: lightsalmon;\" ><span class=\"txtp\">ka</span></span></span></span></span></td><td class=\"tf\"><span class=\"plain outer  hl\"  style=\"background-color: lightsalmon;\" ><span class=\"txtp\">li-</span></span></td><td class=\"tf\"><span class=\"plain outer  hl\"  style=\"background-color: lightsalmon;\" ><span class=\"txtp\">ba-</span></span></td><td class=\"tf\"><span class=\"plain outer  hl\"  style=\"background-color: lightsalmon;\" ><span class=\"txtp\">al-</span></span></td><td class=\"tf\"><span class=\"plain outer  hl\"  style=\"background-color: lightsalmon;\" ><span class=\"txtp\">li-</span></span></td><td class=\"tf\"><span class=\"plain outer  hl\"  style=\"background-color: mediumaquamarine;\" ><span class=\"txtp\">t,u2-</span></span></td><td class=\"tf\"><span class=\"plain outer  hl\"  style=\"background-color: lightsalmon;\" ><span class=\"txtp\">u2-</span></span></td><td class=\"tf\"><span class=\"plain outer  hl\"  style=\"background-color: lightsalmon;\" ><span class=\"txtp\">ka</span></span></td></tr>\n",
       "<tr class=\"tf\"><td class=\"tf\">3</td><td class=\"tf\"> <a href=\"https://cdli.ucla.edu/search/search_results.php?SearchMode=Text&amp;ObjectID=P509373\" title=\"show this document on CDLI\" sec=\"P509373 obverse:6\">P509373 obverse:6</a></td><td class=\"tf\"><span class=\"plain outer  \" ><span class=\"plain\"><span class=\"plain \" ><span class=\"plain hl\"  style=\"background-color: lightsalmon;\" ><span class=\"txtp\">{disz}</span></span><span class=\"plain hl\"  style=\"background-color: lightsalmon;\" ><span class=\"txtp\">sze-</span></span><span class=\"plain hl\"  style=\"background-color: lightsalmon;\" ><span class=\"txtp\">ep-</span></span><span class=\"plain hl\"  style=\"background-color: lightsalmon;\" ><span class=\"txtp\">_{d}</span></span><span class=\"plain hl\"  style=\"background-color: lightsalmon;\" ><span class=\"txtp\">suen </span></span></span><span class=\"plain \" ><span class=\"plain hl\"  style=\"background-color: mediumaquamarine;\" ><span class=\"txtp\">a2-</span></span><span class=\"plain hl\"  style=\"background-color: mediumaquamarine;\" ><span class=\"txtp\">gal2 </span></span></span><span class=\"plain \" ><span class=\"plain hl\"  style=\"background-color: lightsalmon;\" ><span class=\"txtp\">[dumu] </span></span></span><span class=\"plain \" ><span class=\"plain hl\"  style=\"background-color: lightsalmon;\" ><span class=\"txtp\">um-</span></span><span class=\"plain hl\"  style=\"background-color: lightsalmon;\" ><span class=\"txtp\">mi-</span></span><span class=\"plain hl\"  style=\"background-color: lightsalmon;\" ><span class=\"txtp\">a-</span></span><span class=\"plain hl\"  style=\"background-color: lightsalmon;\" ><span class=\"txtp\">mesz_</span></span></span></span></span></td><td class=\"tf\"><span class=\"plain outer  hl\"  style=\"background-color: lightsalmon;\" ><span class=\"txtp\">{disz}</span></span></td><td class=\"tf\"><span class=\"plain outer  hl\"  style=\"background-color: lightsalmon;\" ><span class=\"txtp\">sze-</span></span></td><td class=\"tf\"><span class=\"plain outer  hl\"  style=\"background-color: lightsalmon;\" ><span class=\"txtp\">ep-</span></span></td><td class=\"tf\"><span class=\"plain outer  hl\"  style=\"background-color: lightsalmon;\" ><span class=\"txtp\">_{d}</span></span></td><td class=\"tf\"><span class=\"plain outer  hl\"  style=\"background-color: lightsalmon;\" ><span class=\"txtp\">suen </span></span></td><td class=\"tf\"><span class=\"plain outer  hl\"  style=\"background-color: mediumaquamarine;\" ><span class=\"txtp\">a2-</span></span></td><td class=\"tf\"><span class=\"plain outer  hl\"  style=\"background-color: mediumaquamarine;\" ><span class=\"txtp\">gal2 </span></span></td><td class=\"tf\"><span class=\"plain outer  hl\"  style=\"background-color: lightsalmon;\" ><span class=\"txtp\">[dumu] </span></span></td><td class=\"tf\"><span class=\"plain outer  hl\"  style=\"background-color: lightsalmon;\" ><span class=\"txtp\">um-</span></span></td><td class=\"tf\"><span class=\"plain outer  hl\"  style=\"background-color: lightsalmon;\" ><span class=\"txtp\">mi-</span></span></td><td class=\"tf\"><span class=\"plain outer  hl\"  style=\"background-color: lightsalmon;\" ><span class=\"txtp\">a-</span></span></td><td class=\"tf\"><span class=\"plain outer  hl\"  style=\"background-color: lightsalmon;\" ><span class=\"txtp\">mesz_</span></span></td></tr>\n",
       "<tr class=\"tf\"><td class=\"tf\">4</td><td class=\"tf\"> <a href=\"https://cdli.ucla.edu/search/search_results.php?SearchMode=Text&amp;ObjectID=P509373\" title=\"show this document on CDLI\" sec=\"P509373 obverse:9\">P509373 obverse:9</a></td><td class=\"tf\"><span class=\"plain outer  \" ><span class=\"plain\"><span class=\"plain \" ><span class=\"plain hl\"  style=\"background-color: mediumaquamarine;\" ><span class=\"txtp\">2(esze3) </span></span></span><span class=\"plain \" ><span class=\"plain hl\"  style=\"background-color: lightsalmon;\" ><span class=\"txtp\">_a-</span></span><span class=\"plain hl\"  style=\"background-color: lightsalmon;\" ><span class=\"txtp\">sza3_ </span></span></span><span class=\"plain \" ><span class=\"plain hl\"  style=\"background-color: lightsalmon;\" ><span class=\"txtp\">s,i-</span></span><span class=\"plain hl\"  style=\"background-color: lightsalmon;\" ><span class=\"txtp\">[bi]-</span></span><span class=\"plain hl\"  style=\"background-color: lightsalmon;\" ><span class=\"txtp\">it </span></span></span><span class=\"plain \" ><span class=\"plain hl\"  style=\"background-color: lightsalmon;\" ><span class=\"txtp\">{disz}</span></span><span class=\"plain hl\"  style=\"background-color: lightsalmon;\" ><span class=\"txtp\">[ku]-</span></span><span class=\"plain hl\"  style=\"background-color: lightsalmon;\" ><span class=\"txtp\">un-</span></span><span class=\"plain hl\"  style=\"background-color: lightsalmon;\" ><span class=\"txtp\">zu-</span></span><span class=\"plain hl\"  style=\"background-color: lightsalmon;\" ><span class=\"txtp\">lum </span></span></span><span class=\"plain \" ><span class=\"plain hl\"  style=\"background-color: lightsalmon;\" ><span class=\"txtp\">_sza3-</span></span><span class=\"plain hl\"  style=\"background-color: mediumaquamarine;\" ><span class=\"txtp\">gud_</span></span></span></span></span></td><td class=\"tf\"><span class=\"plain outer  hl\"  style=\"background-color: mediumaquamarine;\" ><span class=\"txtp\">2(esze3) </span></span></td><td class=\"tf\"><span class=\"plain outer  hl\"  style=\"background-color: lightsalmon;\" ><span class=\"txtp\">_a-</span></span></td><td class=\"tf\"><span class=\"plain outer  hl\"  style=\"background-color: lightsalmon;\" ><span class=\"txtp\">sza3_ </span></span></td><td class=\"tf\"><span class=\"plain outer  hl\"  style=\"background-color: lightsalmon;\" ><span class=\"txtp\">s,i-</span></span></td><td class=\"tf\"><span class=\"plain outer  hl\"  style=\"background-color: lightsalmon;\" ><span class=\"txtp\">[bi]-</span></span></td><td class=\"tf\"><span class=\"plain outer  hl\"  style=\"background-color: lightsalmon;\" ><span class=\"txtp\">it </span></span></td><td class=\"tf\"><span class=\"plain outer  hl\"  style=\"background-color: lightsalmon;\" ><span class=\"txtp\">{disz}</span></span></td><td class=\"tf\"><span class=\"plain outer  hl\"  style=\"background-color: lightsalmon;\" ><span class=\"txtp\">[ku]-</span></span></td><td class=\"tf\"><span class=\"plain outer  hl\"  style=\"background-color: lightsalmon;\" ><span class=\"txtp\">un-</span></span></td><td class=\"tf\"><span class=\"plain outer  hl\"  style=\"background-color: lightsalmon;\" ><span class=\"txtp\">zu-</span></span></td><td class=\"tf\"><span class=\"plain outer  hl\"  style=\"background-color: lightsalmon;\" ><span class=\"txtp\">lum </span></span></td><td class=\"tf\"><span class=\"plain outer  hl\"  style=\"background-color: lightsalmon;\" ><span class=\"txtp\">_sza3-</span></span></td><td class=\"tf\"><span class=\"plain outer  hl\"  style=\"background-color: mediumaquamarine;\" ><span class=\"txtp\">gud_</span></span></td></tr>\n",
       "<tr class=\"tf\"><td class=\"tf\">5</td><td class=\"tf\"> <a href=\"https://cdli.ucla.edu/search/search_results.php?SearchMode=Text&amp;ObjectID=P509373\" title=\"show this document on CDLI\" sec=\"P509373 obverse:10\">P509373 obverse:10</a></td><td class=\"tf\"><span class=\"plain outer  \" ><span class=\"plain\"><span class=\"plain \" ><span class=\"plain hl\"  style=\"background-color: lightsalmon;\" ><span class=\"txtp\">_a-</span></span><span class=\"plain hl\"  style=\"background-color: lightsalmon;\" ><span class=\"txtp\">sza3 </span></span></span><span class=\"plain \" ><span class=\"plain hl\"  style=\"background-color: lightsalmon;\" ><span class=\"txtp\">a-</span></span><span class=\"plain hl\"  style=\"background-color: mediumaquamarine;\" ><span class=\"txtp\">gar3_ </span></span></span><span class=\"plain \" ><span class=\"plain hl\"  style=\"background-color: lightsalmon;\" ><span class=\"txtp\">na-</span></span><span class=\"plain hl\"  style=\"background-color: mediumaquamarine;\" ><span class=\"txtp\">ag-</span></span><span class=\"plain hl\"  style=\"background-color: lightsalmon;\" ><span class=\"txtp\">[ma-</span></span><span class=\"plain hl\"  style=\"background-color: lightsalmon;\" ><span class=\"txtp\">lum] </span></span></span><span class=\"plain \" ><span class=\"plain hl\"  style=\"background-color: mediumaquamarine;\" ><span class=\"txtp\">_uru_ </span></span></span><span class=\"plain \" ><span class=\"plain hl\"  style=\"background-color: lightsalmon;\" ><span class=\"txtp\">x </span></span></span><span class=\"plain \" ><span class=\"plain hl\"  style=\"background-color: lightsalmon;\" ><span class=\"txtp\">x </span></span></span><span class=\"plain \" ><span class=\"plain hl\"  style=\"background-color: lightsalmon;\" ><span class=\"txtp\">x</span></span><span class=\"plain hl\"  style=\"background-color: lightsalmon;\" ><span class=\"txtp\">{ki}</span></span></span></span></span></td><td class=\"tf\"><span class=\"plain outer  hl\"  style=\"background-color: lightsalmon;\" ><span class=\"txtp\">[ma-</span></span></td><td class=\"tf\"><span class=\"plain outer  hl\"  style=\"background-color: lightsalmon;\" ><span class=\"txtp\">lum] </span></span></td><td class=\"tf\"><span class=\"plain outer  hl\"  style=\"background-color: mediumaquamarine;\" ><span class=\"txtp\">_uru_ </span></span></td><td class=\"tf\"><span class=\"plain outer  hl\"  style=\"background-color: lightsalmon;\" ><span class=\"txtp\">x </span></span></td><td class=\"tf\"><span class=\"plain outer  hl\"  style=\"background-color: lightsalmon;\" ><span class=\"txtp\">x </span></span></td><td class=\"tf\"><span class=\"plain outer  hl\"  style=\"background-color: lightsalmon;\" ><span class=\"txtp\">x</span></span></td><td class=\"tf\"><span class=\"plain outer  hl\"  style=\"background-color: lightsalmon;\" ><span class=\"txtp\">{ki}</span></span></td><td class=\"tf\"><span class=\"plain outer  hl\"  style=\"background-color: lightsalmon;\" ><span class=\"txtp\">_a-</span></span></td><td class=\"tf\"><span class=\"plain outer  hl\"  style=\"background-color: lightsalmon;\" ><span class=\"txtp\">sza3 </span></span></td><td class=\"tf\"><span class=\"plain outer  hl\"  style=\"background-color: lightsalmon;\" ><span class=\"txtp\">a-</span></span></td><td class=\"tf\"><span class=\"plain outer  hl\"  style=\"background-color: mediumaquamarine;\" ><span class=\"txtp\">gar3_ </span></span></td><td class=\"tf\"><span class=\"plain outer  hl\"  style=\"background-color: lightsalmon;\" ><span class=\"txtp\">na-</span></span></td><td class=\"tf\"><span class=\"plain outer  hl\"  style=\"background-color: mediumaquamarine;\" ><span class=\"txtp\">ag-</span></span></td></tr>\n",
       "<tr class=\"tf\"><td class=\"tf\">6</td><td class=\"tf\"> <a href=\"https://cdli.ucla.edu/search/search_results.php?SearchMode=Text&amp;ObjectID=P509373\" title=\"show this document on CDLI\" sec=\"P509373 obverse:11\">P509373 obverse:11</a></td><td class=\"tf\"><span class=\"plain outer  \" ><span class=\"plain\"><span class=\"plain \" ><span class=\"plain hl\"  style=\"background-color: lightsalmon;\" ><span class=\"txtp\">sza </span></span></span><span class=\"plain \" ><span class=\"plain hl\"  style=\"background-color: lightsalmon;\" ><span class=\"txtp\">_{d}</span></span><span class=\"plain hl\"  style=\"background-color: lightsalmon;\" ><span class=\"txtp\">utu_-</span></span><span class=\"plain hl\"  style=\"background-color: lightsalmon;\" ><span class=\"txtp\">ha-</span></span><span class=\"plain hl\"  style=\"background-color: lightsalmon;\" ><span class=\"txtp\">zi-</span></span><span class=\"plain hl\"  style=\"background-color: lightsalmon;\" ><span class=\"txtp\">[ir] </span></span></span><span class=\"plain \" ><span class=\"plain hl\"  style=\"background-color: lightsalmon;\" ><span class=\"txtp\">isz-</span></span><span class=\"plain hl\"  style=\"background-color: lightsalmon;\" ><span class=\"txtp\">tu </span></span></span><span class=\"plain \" ><span class=\"plain hl\"  style=\"background-color: lightsalmon;\" ><span class=\"txtp\">_mu </span></span></span><span class=\"plain \" ><span class=\"plain hl\"  style=\"background-color: lightsalmon;\" ><span class=\"txtp\">7(disz) </span></span></span><span class=\"plain \" ><span class=\"plain hl\"  style=\"background-color: mediumaquamarine;\" ><span class=\"txtp\">kam_ </span></span></span><span class=\"plain \" ><span class=\"plain hl\"  style=\"background-color: lightsalmon;\" ><span class=\"txtp\">id-</span></span><span class=\"plain hl\"  style=\"background-color: lightsalmon;\" ><span class=\"txtp\">di-</span></span><span class=\"plain hl\"  style=\"background-color: lightsalmon;\" ><span class=\"txtp\">nu-</span></span><span class=\"plain hl\"  style=\"background-color: lightsalmon;\" ><span class=\"txtp\">szum</span></span></span></span></span></td><td class=\"tf\"><span class=\"plain outer  hl\"  style=\"background-color: lightsalmon;\" ><span class=\"txtp\">sza </span></span></td><td class=\"tf\"><span class=\"plain outer  hl\"  style=\"background-color: lightsalmon;\" ><span class=\"txtp\">_{d}</span></span></td><td class=\"tf\"><span class=\"plain outer  hl\"  style=\"background-color: lightsalmon;\" ><span class=\"txtp\">utu_-</span></span></td><td class=\"tf\"><span class=\"plain outer  hl\"  style=\"background-color: lightsalmon;\" ><span class=\"txtp\">ha-</span></span></td><td class=\"tf\"><span class=\"plain outer  hl\"  style=\"background-color: lightsalmon;\" ><span class=\"txtp\">zi-</span></span></td><td class=\"tf\"><span class=\"plain outer  hl\"  style=\"background-color: lightsalmon;\" ><span class=\"txtp\">[ir] </span></span></td><td class=\"tf\"><span class=\"plain outer  hl\"  style=\"background-color: lightsalmon;\" ><span class=\"txtp\">isz-</span></span></td><td class=\"tf\"><span class=\"plain outer  hl\"  style=\"background-color: lightsalmon;\" ><span class=\"txtp\">tu </span></span></td><td class=\"tf\"><span class=\"plain outer  hl\"  style=\"background-color: lightsalmon;\" ><span class=\"txtp\">_mu </span></span></td><td class=\"tf\"><span class=\"plain outer  hl\"  style=\"background-color: lightsalmon;\" ><span class=\"txtp\">7(disz) </span></span></td><td class=\"tf\"><span class=\"plain outer  hl\"  style=\"background-color: mediumaquamarine;\" ><span class=\"txtp\">kam_ </span></span></td><td class=\"tf\"><span class=\"plain outer  hl\"  style=\"background-color: lightsalmon;\" ><span class=\"txtp\">id-</span></span></td><td class=\"tf\"><span class=\"plain outer  hl\"  style=\"background-color: lightsalmon;\" ><span class=\"txtp\">di-</span></span></td><td class=\"tf\"><span class=\"plain outer  hl\"  style=\"background-color: lightsalmon;\" ><span class=\"txtp\">nu-</span></span></td><td class=\"tf\"><span class=\"plain outer  hl\"  style=\"background-color: lightsalmon;\" ><span class=\"txtp\">szum</span></span></td></tr>\n",
       "<tr class=\"tf\"><td class=\"tf\">7</td><td class=\"tf\"> <a href=\"https://cdli.ucla.edu/search/search_results.php?SearchMode=Text&amp;ObjectID=P509373\" title=\"show this document on CDLI\" sec=\"P509373 obverse:12\">P509373 obverse:12</a></td><td class=\"tf\"><span class=\"plain outer  \" ><span class=\"plain\"><span class=\"plain \" ><span class=\"plain hl\"  style=\"background-color: lightsalmon;\" ><span class=\"txtp\">u3 </span></span></span><span class=\"plain \" ><span class=\"plain hl\"  style=\"background-color: lightsalmon;\" ><span class=\"txtp\">i-</span></span><span class=\"plain hl\"  style=\"background-color: lightsalmon;\" ><span class=\"txtp\">na </span></span></span><span class=\"plain \" ><span class=\"plain hl\"  style=\"background-color: mediumaquamarine;\" ><span class=\"txtp\">_uru_ </span></span></span><span class=\"plain \" ><span class=\"plain hl\"  style=\"background-color: lightsalmon;\" ><span class=\"txtp\">x-</span></span><span class=\"plain hl\"  style=\"background-color: lightsalmon;\" ><span class=\"txtp\">szum</span></span><span class=\"plain hl\"  style=\"background-color: lightsalmon;\" ><span class=\"txtp\">{ki} </span></span></span><span class=\"plain \" ><span class=\"plain hl\"  style=\"background-color: lightsalmon;\" ><span class=\"txtp\">sza-</span></span><span class=\"plain hl\"  style=\"background-color: mediumaquamarine;\" ><span class=\"txtp\">ak-</span></span><span class=\"plain hl\"  style=\"background-color: lightsalmon;\" ><span class=\"txtp\">nu </span></span></span><span class=\"plain \" ><span class=\"plain hl\"  style=\"background-color: lightsalmon;\" ><span class=\"txtp\">id-</span></span><span class=\"plain hl\"  style=\"background-color: lightsalmon;\" ><span class=\"txtp\">di-</span></span><span class=\"plain hl\"  style=\"background-color: lightsalmon;\" ><span class=\"txtp\">a-</span></span><span class=\"plain hl\"  style=\"background-color: lightsalmon;\" ><span class=\"txtp\">am-</span></span><span class=\"plain hl\"  style=\"background-color: lightsalmon;\" ><span class=\"txtp\">ma</span></span></span></span></span></td><td class=\"tf\"><span class=\"plain outer  hl\"  style=\"background-color: lightsalmon;\" ><span class=\"txtp\">id-</span></span></td><td class=\"tf\"><span class=\"plain outer  hl\"  style=\"background-color: lightsalmon;\" ><span class=\"txtp\">di-</span></span></td><td class=\"tf\"><span class=\"plain outer  hl\"  style=\"background-color: lightsalmon;\" ><span class=\"txtp\">a-</span></span></td><td class=\"tf\"><span class=\"plain outer  hl\"  style=\"background-color: lightsalmon;\" ><span class=\"txtp\">am-</span></span></td><td class=\"tf\"><span class=\"plain outer  hl\"  style=\"background-color: lightsalmon;\" ><span class=\"txtp\">ma</span></span></td><td class=\"tf\"><span class=\"plain outer  hl\"  style=\"background-color: lightsalmon;\" ><span class=\"txtp\">u3 </span></span></td><td class=\"tf\"><span class=\"plain outer  hl\"  style=\"background-color: lightsalmon;\" ><span class=\"txtp\">i-</span></span></td><td class=\"tf\"><span class=\"plain outer  hl\"  style=\"background-color: lightsalmon;\" ><span class=\"txtp\">na </span></span></td><td class=\"tf\"><span class=\"plain outer  hl\"  style=\"background-color: mediumaquamarine;\" ><span class=\"txtp\">_uru_ </span></span></td><td class=\"tf\"><span class=\"plain outer  hl\"  style=\"background-color: lightsalmon;\" ><span class=\"txtp\">x-</span></span></td><td class=\"tf\"><span class=\"plain outer  hl\"  style=\"background-color: lightsalmon;\" ><span class=\"txtp\">szum</span></span></td><td class=\"tf\"><span class=\"plain outer  hl\"  style=\"background-color: lightsalmon;\" ><span class=\"txtp\">{ki} </span></span></td><td class=\"tf\"><span class=\"plain outer  hl\"  style=\"background-color: lightsalmon;\" ><span class=\"txtp\">sza-</span></span></td><td class=\"tf\"><span class=\"plain outer  hl\"  style=\"background-color: mediumaquamarine;\" ><span class=\"txtp\">ak-</span></span></td><td class=\"tf\"><span class=\"plain outer  hl\"  style=\"background-color: lightsalmon;\" ><span class=\"txtp\">nu </span></span></td></tr>\n",
       "<tr class=\"tf\"><td class=\"tf\">8</td><td class=\"tf\"> <a href=\"https://cdli.ucla.edu/search/search_results.php?SearchMode=Text&amp;ObjectID=P509373\" title=\"show this document on CDLI\" sec=\"P509373 obverse:13\">P509373 obverse:13</a></td><td class=\"tf\"><span class=\"plain outer  \" ><span class=\"plain\"><span class=\"plain \" ><span class=\"plain hl\"  style=\"background-color: mediumaquamarine;\" ><span class=\"txtp\">2(esze3) </span></span></span><span class=\"plain \" ><span class=\"plain hl\"  style=\"background-color: lightsalmon;\" ><span class=\"txtp\">_a-</span></span><span class=\"plain hl\"  style=\"background-color: lightsalmon;\" ><span class=\"txtp\">sza3 </span></span></span><span class=\"plain \" ><span class=\"plain hl\"  style=\"background-color: mediumaquamarine;\" ><span class=\"txtp\">szuku_ </span></span></span><span class=\"plain \" ><span class=\"plain hl\"  style=\"background-color: lightsalmon;\" ><span class=\"txtp\">i-</span></span><span class=\"plain hl\"  style=\"background-color: lightsalmon;\" ><span class=\"txtp\">li-</span></span><span class=\"plain hl\"  style=\"background-color: lightsalmon;\" ><span class=\"txtp\">ib-</span></span><span class=\"plain hl\"  style=\"background-color: lightsalmon;\" ><span class=\"txtp\">bu </span></span></span><span class=\"plain \" ><span class=\"plain hl\"  style=\"background-color: lightsalmon;\" ><span class=\"txtp\">s,i-</span></span><span class=\"plain hl\"  style=\"background-color: lightsalmon;\" ><span class=\"txtp\">bi-</span></span><span class=\"plain hl\"  style=\"background-color: lightsalmon;\" ><span class=\"txtp\">it </span></span></span><span class=\"plain \" ><span class=\"plain hl\"  style=\"background-color: mediumaquamarine;\" ><span class=\"txtp\">_nagar-</span></span><span class=\"plain hl\"  style=\"background-color: lightsalmon;\" ><span class=\"txtp\">mesz_</span></span></span></span></span></td><td class=\"tf\"><span class=\"plain outer  hl\"  style=\"background-color: mediumaquamarine;\" ><span class=\"txtp\">2(esze3) </span></span></td><td class=\"tf\"><span class=\"plain outer  hl\"  style=\"background-color: lightsalmon;\" ><span class=\"txtp\">_a-</span></span></td><td class=\"tf\"><span class=\"plain outer  hl\"  style=\"background-color: lightsalmon;\" ><span class=\"txtp\">sza3 </span></span></td><td class=\"tf\"><span class=\"plain outer  hl\"  style=\"background-color: mediumaquamarine;\" ><span class=\"txtp\">szuku_ </span></span></td><td class=\"tf\"><span class=\"plain outer  hl\"  style=\"background-color: lightsalmon;\" ><span class=\"txtp\">i-</span></span></td><td class=\"tf\"><span class=\"plain outer  hl\"  style=\"background-color: lightsalmon;\" ><span class=\"txtp\">li-</span></span></td><td class=\"tf\"><span class=\"plain outer  hl\"  style=\"background-color: lightsalmon;\" ><span class=\"txtp\">ib-</span></span></td><td class=\"tf\"><span class=\"plain outer  hl\"  style=\"background-color: lightsalmon;\" ><span class=\"txtp\">bu </span></span></td><td class=\"tf\"><span class=\"plain outer  hl\"  style=\"background-color: lightsalmon;\" ><span class=\"txtp\">s,i-</span></span></td><td class=\"tf\"><span class=\"plain outer  hl\"  style=\"background-color: lightsalmon;\" ><span class=\"txtp\">bi-</span></span></td><td class=\"tf\"><span class=\"plain outer  hl\"  style=\"background-color: lightsalmon;\" ><span class=\"txtp\">it </span></span></td><td class=\"tf\"><span class=\"plain outer  hl\"  style=\"background-color: mediumaquamarine;\" ><span class=\"txtp\">_nagar-</span></span></td><td class=\"tf\"><span class=\"plain outer  hl\"  style=\"background-color: lightsalmon;\" ><span class=\"txtp\">mesz_</span></span></td></tr>\n",
       "<tr class=\"tf\"><td class=\"tf\">9</td><td class=\"tf\"> <a href=\"https://cdli.ucla.edu/search/search_results.php?SearchMode=Text&amp;ObjectID=P509373\" title=\"show this document on CDLI\" sec=\"P509373 obverse:14\">P509373 obverse:14</a></td><td class=\"tf\"><span class=\"plain outer  \" ><span class=\"plain\"><span class=\"plain \" ><span class=\"plain hl\"  style=\"background-color: lightsalmon;\" ><span class=\"txtp\">_a-</span></span><span class=\"plain hl\"  style=\"background-color: lightsalmon;\" ><span class=\"txtp\">sza3 </span></span></span><span class=\"plain \" ><span class=\"plain hl\"  style=\"background-color: lightsalmon;\" ><span class=\"txtp\">a-</span></span><span class=\"plain hl\"  style=\"background-color: mediumaquamarine;\" ><span class=\"txtp\">gar3 </span></span></span><span class=\"plain \" ><span class=\"plain hl\"  style=\"background-color: mediumaquamarine;\" ><span class=\"txtp\">uru_ </span></span></span><span class=\"plain \" ><span class=\"plain hl\"  style=\"background-color: lightsalmon;\" ><span class=\"txtp\">ra-</span></span><span class=\"plain hl\"  style=\"background-color: lightsalmon;\" ><span class=\"txtp\">bu-</span></span><span class=\"plain hl\"  style=\"background-color: lightsalmon;\" ><span class=\"txtp\">um </span></span></span><span class=\"plain \" ><span class=\"plain hl\"  style=\"background-color: lightsalmon;\" ><span class=\"txtp\">x </span></span></span><span class=\"plain \" ><span class=\"plain hl\"  style=\"background-color: mediumaquamarine;\" ><span class=\"txtp\">[...]</span></span></span></span></span></td><td class=\"tf\"><span class=\"plain outer  hl\"  style=\"background-color: lightsalmon;\" ><span class=\"txtp\">_a-</span></span></td><td class=\"tf\"><span class=\"plain outer  hl\"  style=\"background-color: lightsalmon;\" ><span class=\"txtp\">sza3 </span></span></td><td class=\"tf\"><span class=\"plain outer  hl\"  style=\"background-color: lightsalmon;\" ><span class=\"txtp\">a-</span></span></td><td class=\"tf\"><span class=\"plain outer  hl\"  style=\"background-color: mediumaquamarine;\" ><span class=\"txtp\">gar3 </span></span></td><td class=\"tf\"><span class=\"plain outer  hl\"  style=\"background-color: mediumaquamarine;\" ><span class=\"txtp\">uru_ </span></span></td><td class=\"tf\"><span class=\"plain outer  hl\"  style=\"background-color: lightsalmon;\" ><span class=\"txtp\">ra-</span></span></td><td class=\"tf\"><span class=\"plain outer  hl\"  style=\"background-color: lightsalmon;\" ><span class=\"txtp\">bu-</span></span></td><td class=\"tf\"><span class=\"plain outer  hl\"  style=\"background-color: lightsalmon;\" ><span class=\"txtp\">um </span></span></td><td class=\"tf\"><span class=\"plain outer  hl\"  style=\"background-color: lightsalmon;\" ><span class=\"txtp\">x </span></span></td><td class=\"tf\"><span class=\"plain outer  hl\"  style=\"background-color: mediumaquamarine;\" ><span class=\"txtp\">[...]</span></span></td></tr>\n",
       "<tr class=\"tf\"><td class=\"tf\">10</td><td class=\"tf\"> <a href=\"https://cdli.ucla.edu/search/search_results.php?SearchMode=Text&amp;ObjectID=P509373\" title=\"show this document on CDLI\" sec=\"P509373 obverse:15\">P509373 obverse:15</a></td><td class=\"tf\"><span class=\"plain outer  \" ><span class=\"plain\"><span class=\"plain \" ><span class=\"plain hl\"  style=\"background-color: lightsalmon;\" ><span class=\"txtp\">x </span></span></span><span class=\"plain \" ><span class=\"plain hl\"  style=\"background-color: lightsalmon;\" ><span class=\"txtp\">x </span></span></span><span class=\"plain \" ><span class=\"plain hl\"  style=\"background-color: lightsalmon;\" ><span class=\"txtp\">x </span></span></span><span class=\"plain \" ><span class=\"plain hl\"  style=\"background-color: lightsalmon;\" ><span class=\"txtp\">x </span></span></span><span class=\"plain \" ><span class=\"plain hl\"  style=\"background-color: lightsalmon;\" ><span class=\"txtp\">x </span></span></span><span class=\"plain \" ><span class=\"plain hl\"  style=\"background-color: lightsalmon;\" ><span class=\"txtp\">x </span></span></span><span class=\"plain \" ><span class=\"plain hl\"  style=\"background-color: mediumaquamarine;\" ><span class=\"txtp\">[...]</span></span></span></span></span></td><td class=\"tf\"><span class=\"plain outer  hl\"  style=\"background-color: lightsalmon;\" ><span class=\"txtp\">x </span></span></td><td class=\"tf\"><span class=\"plain outer  hl\"  style=\"background-color: lightsalmon;\" ><span class=\"txtp\">x </span></span></td><td class=\"tf\"><span class=\"plain outer  hl\"  style=\"background-color: mediumaquamarine;\" ><span class=\"txtp\">[...]</span></span></td><td class=\"tf\"><span class=\"plain outer  hl\"  style=\"background-color: lightsalmon;\" ><span class=\"txtp\">x </span></span></td><td class=\"tf\"><span class=\"plain outer  hl\"  style=\"background-color: lightsalmon;\" ><span class=\"txtp\">x </span></span></td><td class=\"tf\"><span class=\"plain outer  hl\"  style=\"background-color: lightsalmon;\" ><span class=\"txtp\">x </span></span></td><td class=\"tf\"><span class=\"plain outer  hl\"  style=\"background-color: lightsalmon;\" ><span class=\"txtp\">x </span></span></td></tr></table>"
      ],
      "text/plain": [
       "<IPython.core.display.HTML object>"
      ]
     },
     "metadata": {},
     "output_type": "display_data"
    }
   ],
   "source": [
    "A.table(results, start=1, end=10, baseType=\"sign\", condensed=True, highlights=highlights)"
   ]
  },
  {
   "cell_type": "markdown",
   "metadata": {},
   "source": [
    "If we do a pretty display, the `ummama` feature shows up."
   ]
  },
  {
   "cell_type": "code",
   "execution_count": 28,
   "metadata": {},
   "outputs": [
    {
     "data": {
      "text/html": [
       "<p><b>line</b> <i>1</i></p>"
      ],
      "text/plain": [
       "<IPython.core.display.HTML object>"
      ]
     },
     "metadata": {},
     "output_type": "display_data"
    },
    {
     "data": {
      "text/html": [
       "<div class=\"contnr line \" ><div class=\"lbl line\"><a href=\"https://cdli.ucla.edu/search/search_results.php?SearchMode=Text&amp;ObjectID=P509373\" title=\"P509373 obverse:2\" sec=\"P509373 obverse:2\">line <span class=\"txtn\">2</span></a> <span class=\"nd\">230789</span></div><div class=\"meta\"><div class=\"features\"></div></div><div class=\"children line\"><div class=\"contnr word \" ><div class=\"lbl word\"><span class=\"txtp\">qi2-bi2-[ma]</span> <span class=\"nd\">258165</span></div><div class=\"meta\"><div class=\"features\"></div></div><div class=\"children word\"><div class=\"contnr sign hl\"  style=\"background-color: lightsalmon;\" ><div class=\"lbl sign\"><span class=\"txtp\">qi2-</span> <span class=\"nd\">8</span></div><div class=\"meta\"><div class=\"features\"> <span class=\"ummama xft\"><span class=\"f\">ummama=</span>1</span></div></div></div><div class=\"contnr sign hl\"  style=\"background-color: mediumaquamarine;\" ><div class=\"lbl sign\"><span class=\"txtp\">bi2-</span> <span class=\"nd\">9</span></div><div class=\"meta\"><div class=\"features\"></div></div></div><div class=\"contnr sign hl\"  style=\"background-color: lightsalmon;\" ><div class=\"lbl sign\"><span class=\"txtp\">[ma]</span> <span class=\"nd\">10</span></div><div class=\"meta\"><div class=\"features\"> <span class=\"missing\"><span class=\"f\">missing=</span>1</span> <span class=\"ummama xft\"><span class=\"f\">ummama=</span>1</span></div></div></div></div></div></div></div>"
      ],
      "text/plain": [
       "<IPython.core.display.HTML object>"
      ]
     },
     "metadata": {},
     "output_type": "display_data"
    },
    {
     "data": {
      "text/html": [
       "<p><b>line</b> <i>2</i></p>"
      ],
      "text/plain": [
       "<IPython.core.display.HTML object>"
      ]
     },
     "metadata": {},
     "output_type": "display_data"
    },
    {
     "data": {
      "text/html": [
       "<div class=\"contnr line \" ><div class=\"lbl line\"><a href=\"https://cdli.ucla.edu/search/search_results.php?SearchMode=Text&amp;ObjectID=P509373\" title=\"P509373 obverse:5\" sec=\"P509373 obverse:5\">line <span class=\"txtn\">5</span></a> <span class=\"nd\">230792</span></div><div class=\"meta\"><div class=\"features\"></div></div><div class=\"children line\"><div class=\"contnr word \" ><div class=\"lbl word\"><span class=\"txtp\">li-ba-al-li-t,u2-u2-ka</span> <span class=\"nd\">258173</span></div><div class=\"meta\"><div class=\"features\"></div></div><div class=\"children word\"><div class=\"contnr sign hl\"  style=\"background-color: lightsalmon;\" ><div class=\"lbl sign\"><span class=\"txtp\">li-</span> <span class=\"nd\">32</span></div><div class=\"meta\"><div class=\"features\"> <span class=\"ummama xft\"><span class=\"f\">ummama=</span>1</span></div></div></div><div class=\"contnr sign hl\"  style=\"background-color: lightsalmon;\" ><div class=\"lbl sign\"><span class=\"txtp\">ba-</span> <span class=\"nd\">33</span></div><div class=\"meta\"><div class=\"features\"> <span class=\"ummama xft\"><span class=\"f\">ummama=</span>1</span></div></div></div><div class=\"contnr sign hl\"  style=\"background-color: lightsalmon;\" ><div class=\"lbl sign\"><span class=\"txtp\">al-</span> <span class=\"nd\">34</span></div><div class=\"meta\"><div class=\"features\"> <span class=\"ummama xft\"><span class=\"f\">ummama=</span>1</span></div></div></div><div class=\"contnr sign hl\"  style=\"background-color: lightsalmon;\" ><div class=\"lbl sign\"><span class=\"txtp\">li-</span> <span class=\"nd\">35</span></div><div class=\"meta\"><div class=\"features\"> <span class=\"ummama xft\"><span class=\"f\">ummama=</span>1</span></div></div></div><div class=\"contnr sign hl\"  style=\"background-color: mediumaquamarine;\" ><div class=\"lbl sign\"><span class=\"txtp\">t,u2-</span> <span class=\"nd\">36</span></div><div class=\"meta\"><div class=\"features\"></div></div></div><div class=\"contnr sign hl\"  style=\"background-color: lightsalmon;\" ><div class=\"lbl sign\"><span class=\"txtp\">u2-</span> <span class=\"nd\">37</span></div><div class=\"meta\"><div class=\"features\"> <span class=\"ummama xft\"><span class=\"f\">ummama=</span>1</span></div></div></div><div class=\"contnr sign hl\"  style=\"background-color: lightsalmon;\" ><div class=\"lbl sign\"><span class=\"txtp\">ka</span> <span class=\"nd\">38</span></div><div class=\"meta\"><div class=\"features\"> <span class=\"ummama xft\"><span class=\"f\">ummama=</span>1</span></div></div></div></div></div></div></div>"
      ],
      "text/plain": [
       "<IPython.core.display.HTML object>"
      ]
     },
     "metadata": {},
     "output_type": "display_data"
    },
    {
     "data": {
      "text/html": [
       "<p><b>line</b> <i>3</i></p>"
      ],
      "text/plain": [
       "<IPython.core.display.HTML object>"
      ]
     },
     "metadata": {},
     "output_type": "display_data"
    },
    {
     "data": {
      "text/html": [
       "<div class=\"contnr line \" ><div class=\"lbl line\"><a href=\"https://cdli.ucla.edu/search/search_results.php?SearchMode=Text&amp;ObjectID=P509373\" title=\"P509373 obverse:6\" sec=\"P509373 obverse:6\">line <span class=\"txtn\">6</span></a> <span class=\"nd\">230793</span></div><div class=\"meta\"><div class=\"features\"></div></div><div class=\"children line\"><div class=\"contnr word \" ><div class=\"lbl word\"><span class=\"txtp\">{disz}sze-ep-_{d}suen </span> <span class=\"nd\">258174</span></div><div class=\"meta\"><div class=\"features\"></div></div><div class=\"children word\"><div class=\"contnr sign hl\"  style=\"background-color: lightsalmon;\" ><div class=\"lbl sign\"><span class=\"txtp\">{disz}</span> <span class=\"nd\">39</span></div><div class=\"meta\"><div class=\"features\"> <span class=\"det\"><span class=\"f\">det=</span>1</span> <span class=\"ummama xft\"><span class=\"f\">ummama=</span>1</span></div></div></div><div class=\"contnr sign hl\"  style=\"background-color: lightsalmon;\" ><div class=\"lbl sign\"><span class=\"txtp\">sze-</span> <span class=\"nd\">40</span></div><div class=\"meta\"><div class=\"features\"> <span class=\"ummama xft\"><span class=\"f\">ummama=</span>1</span></div></div></div><div class=\"contnr sign hl\"  style=\"background-color: lightsalmon;\" ><div class=\"lbl sign\"><span class=\"txtp\">ep-</span> <span class=\"nd\">41</span></div><div class=\"meta\"><div class=\"features\"> <span class=\"ummama xft\"><span class=\"f\">ummama=</span>1</span></div></div></div><div class=\"contnr sign hl\"  style=\"background-color: lightsalmon;\" ><div class=\"lbl sign\"><span class=\"txtp\">_{d}</span> <span class=\"nd\">42</span></div><div class=\"meta\"><div class=\"features\"> <span class=\"det\"><span class=\"f\">det=</span>1</span> <span class=\"langalt\"><span class=\"f\">langalt=</span>1</span> <span class=\"ummama xft\"><span class=\"f\">ummama=</span>1</span></div></div></div><div class=\"contnr sign hl\"  style=\"background-color: lightsalmon;\" ><div class=\"lbl sign\"><span class=\"txtp\">suen </span> <span class=\"nd\">43</span></div><div class=\"meta\"><div class=\"features\"> <span class=\"langalt\"><span class=\"f\">langalt=</span>1</span> <span class=\"ummama xft\"><span class=\"f\">ummama=</span>1</span></div></div></div></div></div><div class=\"contnr word \" ><div class=\"lbl word\"><span class=\"txtp\">a2-gal2 </span> <span class=\"nd\">258175</span></div><div class=\"meta\"><div class=\"features\"></div></div><div class=\"children word\"><div class=\"contnr sign hl\"  style=\"background-color: mediumaquamarine;\" ><div class=\"lbl sign\"><span class=\"txtp\">a2-</span> <span class=\"nd\">44</span></div><div class=\"meta\"><div class=\"features\"> <span class=\"langalt\"><span class=\"f\">langalt=</span>1</span></div></div></div><div class=\"contnr sign hl\"  style=\"background-color: mediumaquamarine;\" ><div class=\"lbl sign\"><span class=\"txtp\">gal2 </span> <span class=\"nd\">45</span></div><div class=\"meta\"><div class=\"features\"> <span class=\"langalt\"><span class=\"f\">langalt=</span>1</span></div></div></div></div></div><div class=\"contnr word \" ><div class=\"lbl word\"><span class=\"txtp\">[dumu] </span> <span class=\"nd\">258176</span></div><div class=\"meta\"><div class=\"features\"></div></div><div class=\"children word\"><div class=\"contnr sign hl\"  style=\"background-color: lightsalmon;\" ><div class=\"lbl sign\"><span class=\"txtp\">[dumu] </span> <span class=\"nd\">46</span></div><div class=\"meta\"><div class=\"features\"> <span class=\"missing\"><span class=\"f\">missing=</span>1</span> <span class=\"langalt\"><span class=\"f\">langalt=</span>1</span> <span class=\"ummama xft\"><span class=\"f\">ummama=</span>1</span></div></div></div></div></div><div class=\"contnr word \" ><div class=\"lbl word\"><span class=\"txtp\">um-mi-a-mesz_</span> <span class=\"nd\">258177</span></div><div class=\"meta\"><div class=\"features\"></div></div><div class=\"children word\"><div class=\"contnr sign hl\"  style=\"background-color: lightsalmon;\" ><div class=\"lbl sign\"><span class=\"txtp\">um-</span> <span class=\"nd\">47</span></div><div class=\"meta\"><div class=\"features\"> <span class=\"langalt\"><span class=\"f\">langalt=</span>1</span> <span class=\"ummama xft\"><span class=\"f\">ummama=</span>1</span></div></div></div><div class=\"contnr sign hl\"  style=\"background-color: lightsalmon;\" ><div class=\"lbl sign\"><span class=\"txtp\">mi-</span> <span class=\"nd\">48</span></div><div class=\"meta\"><div class=\"features\"> <span class=\"langalt\"><span class=\"f\">langalt=</span>1</span> <span class=\"ummama xft\"><span class=\"f\">ummama=</span>1</span></div></div></div><div class=\"contnr sign hl\"  style=\"background-color: lightsalmon;\" ><div class=\"lbl sign\"><span class=\"txtp\">a-</span> <span class=\"nd\">49</span></div><div class=\"meta\"><div class=\"features\"> <span class=\"langalt\"><span class=\"f\">langalt=</span>1</span> <span class=\"ummama xft\"><span class=\"f\">ummama=</span>1</span></div></div></div><div class=\"contnr sign hl\"  style=\"background-color: lightsalmon;\" ><div class=\"lbl sign\"><span class=\"txtp\">mesz_</span> <span class=\"nd\">50</span></div><div class=\"meta\"><div class=\"features\"> <span class=\"langalt\"><span class=\"f\">langalt=</span>1</span> <span class=\"ummama xft\"><span class=\"f\">ummama=</span>1</span></div></div></div></div></div></div></div>"
      ],
      "text/plain": [
       "<IPython.core.display.HTML object>"
      ]
     },
     "metadata": {},
     "output_type": "display_data"
    }
   ],
   "source": [
    "A.show(results, start=1, end=3, baseType=\"sign\", condensed=True, withNodes=True, highlights=highlights)"
   ]
  },
  {
   "cell_type": "markdown",
   "metadata": {},
   "source": [
    "Or in the context of a whole face:"
   ]
  },
  {
   "cell_type": "code",
   "execution_count": 29,
   "metadata": {},
   "outputs": [
    {
     "data": {
      "text/html": [
       "<p><b>face</b> <i>1</i></p>"
      ],
      "text/plain": [
       "<IPython.core.display.HTML object>"
      ]
     },
     "metadata": {},
     "output_type": "display_data"
    },
    {
     "data": {
      "text/html": [
       "<div class=\"contnr face \" ><div class=\"lbl face\"><a href=\"https://cdli.ucla.edu/search/search_results.php?SearchMode=Text&amp;ObjectID=P509373\" title=\"P509373 obverse\" sec=\"P509373 obverse\">face <span class=\"txtn\">obverse</span></a> </div><div class=\"meta\"><div class=\"features\"> <span class=\"object\">tablet</span></div></div><div class=\"children face\"><div class=\"contnr line \" ><div class=\"lbl line\"><span class=\"txtn\">1</span> </div><div class=\"meta\"><div class=\"features\"></div></div><div class=\"children line\"><div class=\"contnr word \" ><div class=\"lbl word\"><span class=\"txtp\"><span class=\"plain outer  \" ><span class=\"plain hlbx\"  style=\"border-color: lightsalmon;\" ><span class=\"txtp\">[a-</span></span><span class=\"plain hlbx\"  style=\"border-color: lightsalmon;\" ><span class=\"txtp\">na] </span></span></span></span> </div><div class=\"meta\"><div class=\"features\"></div></div></div><div class=\"contnr word \" ><div class=\"lbl word\"><span class=\"txtp\"><span class=\"plain outer  \" ><span class=\"plain hlbx\"  style=\"border-color: lightsalmon;\" ><span class=\"txtp\">_{d}</span></span><span class=\"plain hlbx\"  style=\"border-color: lightsalmon;\" ><span class=\"txtp\">suen_-</span></span><span class=\"plain hlbx\"  style=\"border-color: lightsalmon;\" ><span class=\"txtp\">i-</span></span><span class=\"plain hlbx\"  style=\"border-color: lightsalmon;\" ><span class=\"txtp\">[din-</span></span><span class=\"plain hlbx\"  style=\"border-color: lightsalmon;\" ><span class=\"txtp\">nam]</span></span></span></span> </div><div class=\"meta\"><div class=\"features\"></div></div></div></div></div><div class=\"contnr line hl\" ><div class=\"lbl line\"><span class=\"txtn\">2</span> </div><div class=\"meta\"><div class=\"features\"></div></div><div class=\"children line\"><div class=\"contnr word \" ><div class=\"lbl word\"><span class=\"txtp\"><span class=\"plain outer  \" ><span class=\"plain hlbx\"  style=\"border-color: lightsalmon;\" ><span class=\"txtp\">qi2-</span></span><span class=\"plain hlbx\"  style=\"border-color: mediumaquamarine;\" ><span class=\"txtp\">bi2-</span></span><span class=\"plain hlbx\"  style=\"border-color: lightsalmon;\" ><span class=\"txtp\">[ma]</span></span></span></span> </div><div class=\"meta\"><div class=\"features\"></div></div></div></div></div><div class=\"contnr line \" ><div class=\"lbl line\"><span class=\"txtn\">3</span> </div><div class=\"meta\"><div class=\"features\"></div></div><div class=\"children line\"><div class=\"contnr word \" ><div class=\"lbl word\"><span class=\"txtp\"><span class=\"plain outer  \" ><span class=\"plain hlbx\"  style=\"border-color: lightsalmon;\" ><span class=\"txtp\">um-</span></span><span class=\"plain hlbx\"  style=\"border-color: lightsalmon;\" ><span class=\"txtp\">ma </span></span></span></span> </div><div class=\"meta\"><div class=\"features\"></div></div></div><div class=\"contnr word \" ><div class=\"lbl word\"><span class=\"txtp\"><span class=\"plain outer  \" ><span class=\"plain hlbx\"  style=\"border-color: lightsalmon;\" ><span class=\"txtp\">_{d}</span></span><span class=\"plain hlbx\"  style=\"border-color: lightsalmon;\" ><span class=\"txtp\">en-</span></span><span class=\"plain hlbx\"  style=\"border-color: lightsalmon;\" ><span class=\"txtp\">lil2_-</span></span><span class=\"plain hlbx\"  style=\"border-color: lightsalmon;\" ><span class=\"txtp\">sza-</span></span><span class=\"plain hlbx\"  style=\"border-color: lightsalmon;\" ><span class=\"txtp\">du-</span></span><span class=\"plain hlbx\"  style=\"border-color: lightsalmon;\" ><span class=\"txtp\">u2-</span></span><span class=\"plain hlbx\"  style=\"border-color: lightsalmon;\" ><span class=\"txtp\">ni-</span></span><span class=\"plain hlbx\"  style=\"border-color: lightsalmon;\" ><span class=\"txtp\">ma</span></span></span></span> </div><div class=\"meta\"><div class=\"features\"></div></div></div></div></div><div class=\"contnr line \" ><div class=\"lbl line\"><span class=\"txtn\">4</span> </div><div class=\"meta\"><div class=\"features\"></div></div><div class=\"children line\"><div class=\"contnr word \" ><div class=\"lbl word\"><span class=\"txtp\"><span class=\"plain outer  \" ><span class=\"plain hlbx\"  style=\"border-color: lightsalmon;\" ><span class=\"txtp\">_{d}</span></span><span class=\"plain hlbx\"  style=\"border-color: lightsalmon;\" ><span class=\"txtp\">utu_ </span></span></span></span> </div><div class=\"meta\"><div class=\"features\"></div></div></div><div class=\"contnr word \" ><div class=\"lbl word\"><span class=\"txtp\"><span class=\"plain outer  \" ><span class=\"plain hlbx\"  style=\"border-color: lightsalmon;\" ><span class=\"txtp\">u3 </span></span></span></span> </div><div class=\"meta\"><div class=\"features\"></div></div></div><div class=\"contnr word \" ><div class=\"lbl word\"><span class=\"txtp\"><span class=\"plain outer  \" ><span class=\"plain hlbx\"  style=\"border-color: lightsalmon;\" ><span class=\"txtp\">_{d}</span></span><span class=\"plain hlbx\"  style=\"border-color: lightsalmon;\" ><span class=\"txtp\">[marduk]_ </span></span></span></span> </div><div class=\"meta\"><div class=\"features\"></div></div></div><div class=\"contnr word \" ><div class=\"lbl word\"><span class=\"txtp\"><span class=\"plain outer  \" ><span class=\"plain hlbx\"  style=\"border-color: lightsalmon;\" ><span class=\"txtp\">a-</span></span><span class=\"plain hlbx\"  style=\"border-color: lightsalmon;\" ><span class=\"txtp\">na </span></span></span></span> </div><div class=\"meta\"><div class=\"features\"></div></div></div><div class=\"contnr word \" ><div class=\"lbl word\"><span class=\"txtp\"><span class=\"plain outer  \" ><span class=\"plain hlbx\"  style=\"border-color: lightsalmon;\" ><span class=\"txtp\">da-</span></span><span class=\"plain hlbx\"  style=\"border-color: lightsalmon;\" ><span class=\"txtp\">ri-</span></span><span class=\"plain hlbx\"  style=\"border-color: lightsalmon;\" ><span class=\"txtp\">a-</span></span><span class=\"plain hlbx\"  style=\"border-color: lightsalmon;\" ><span class=\"txtp\">[tim]</span></span></span></span> </div><div class=\"meta\"><div class=\"features\"></div></div></div></div></div><div class=\"contnr line hl\" ><div class=\"lbl line\"><span class=\"txtn\">5</span> </div><div class=\"meta\"><div class=\"features\"></div></div><div class=\"children line\"><div class=\"contnr word \" ><div class=\"lbl word\"><span class=\"txtp\"><span class=\"plain outer  \" ><span class=\"plain hlbx\"  style=\"border-color: lightsalmon;\" ><span class=\"txtp\">li-</span></span><span class=\"plain hlbx\"  style=\"border-color: lightsalmon;\" ><span class=\"txtp\">ba-</span></span><span class=\"plain hlbx\"  style=\"border-color: lightsalmon;\" ><span class=\"txtp\">al-</span></span><span class=\"plain hlbx\"  style=\"border-color: lightsalmon;\" ><span class=\"txtp\">li-</span></span><span class=\"plain hlbx\"  style=\"border-color: mediumaquamarine;\" ><span class=\"txtp\">t,u2-</span></span><span class=\"plain hlbx\"  style=\"border-color: lightsalmon;\" ><span class=\"txtp\">u2-</span></span><span class=\"plain hlbx\"  style=\"border-color: lightsalmon;\" ><span class=\"txtp\">ka</span></span></span></span> </div><div class=\"meta\"><div class=\"features\"></div></div></div></div></div><div class=\"contnr line hl\" ><div class=\"lbl line\"><span class=\"txtn\">6</span> </div><div class=\"meta\"><div class=\"features\"></div></div><div class=\"children line\"><div class=\"contnr word \" ><div class=\"lbl word\"><span class=\"txtp\"><span class=\"plain outer  \" ><span class=\"plain hlbx\"  style=\"border-color: lightsalmon;\" ><span class=\"txtp\">{disz}</span></span><span class=\"plain hlbx\"  style=\"border-color: lightsalmon;\" ><span class=\"txtp\">sze-</span></span><span class=\"plain hlbx\"  style=\"border-color: lightsalmon;\" ><span class=\"txtp\">ep-</span></span><span class=\"plain hlbx\"  style=\"border-color: lightsalmon;\" ><span class=\"txtp\">_{d}</span></span><span class=\"plain hlbx\"  style=\"border-color: lightsalmon;\" ><span class=\"txtp\">suen </span></span></span></span> </div><div class=\"meta\"><div class=\"features\"></div></div></div><div class=\"contnr word \" ><div class=\"lbl word\"><span class=\"txtp\"><span class=\"plain outer  \" ><span class=\"plain hlbx\"  style=\"border-color: mediumaquamarine;\" ><span class=\"txtp\">a2-</span></span><span class=\"plain hlbx\"  style=\"border-color: mediumaquamarine;\" ><span class=\"txtp\">gal2 </span></span></span></span> </div><div class=\"meta\"><div class=\"features\"></div></div></div><div class=\"contnr word \" ><div class=\"lbl word\"><span class=\"txtp\"><span class=\"plain outer  \" ><span class=\"plain hlbx\"  style=\"border-color: lightsalmon;\" ><span class=\"txtp\">[dumu] </span></span></span></span> </div><div class=\"meta\"><div class=\"features\"></div></div></div><div class=\"contnr word \" ><div class=\"lbl word\"><span class=\"txtp\"><span class=\"plain outer  \" ><span class=\"plain hlbx\"  style=\"border-color: lightsalmon;\" ><span class=\"txtp\">um-</span></span><span class=\"plain hlbx\"  style=\"border-color: lightsalmon;\" ><span class=\"txtp\">mi-</span></span><span class=\"plain hlbx\"  style=\"border-color: lightsalmon;\" ><span class=\"txtp\">a-</span></span><span class=\"plain hlbx\"  style=\"border-color: lightsalmon;\" ><span class=\"txtp\">mesz_</span></span></span></span> </div><div class=\"meta\"><div class=\"features\"></div></div></div></div></div><div class=\"contnr line \" ><div class=\"lbl line\"><span class=\"txtn\">7</span> </div><div class=\"meta\"><div class=\"features\"></div></div><div class=\"children line\"><div class=\"contnr word \" ><div class=\"lbl word\"><span class=\"txtp\"><span class=\"plain outer  \" ><span class=\"plain hlbx\"  style=\"border-color: lightsalmon;\" ><span class=\"txtp\">ki-</span></span><span class=\"plain hlbx\"  style=\"border-color: lightsalmon;\" ><span class=\"txtp\">a-</span></span><span class=\"plain hlbx\"  style=\"border-color: lightsalmon;\" ><span class=\"txtp\">am </span></span></span></span> </div><div class=\"meta\"><div class=\"features\"></div></div></div><div class=\"contnr word \" ><div class=\"lbl word\"><span class=\"txtp\"><span class=\"plain outer  \" ><span class=\"plain hlbx\"  style=\"border-color: lightsalmon;\" ><span class=\"txtp\">u2-</span></span><span class=\"plain hlbx\"  style=\"border-color: lightsalmon;\" ><span class=\"txtp\">lam-</span></span><span class=\"plain hlbx\"  style=\"border-color: lightsalmon;\" ><span class=\"txtp\">mi-</span></span><span class=\"plain hlbx\"  style=\"border-color: lightsalmon;\" ><span class=\"txtp\">da-</span></span><span class=\"plain hlbx\"  style=\"border-color: lightsalmon;\" ><span class=\"txtp\">an-</span></span><span class=\"plain hlbx\"  style=\"border-color: lightsalmon;\" ><span class=\"txtp\">ni </span></span></span></span> </div><div class=\"meta\"><div class=\"features\"></div></div></div><div class=\"contnr word \" ><div class=\"lbl word\"><span class=\"txtp\"><span class=\"plain outer  \" ><span class=\"plain hlbx\"  style=\"border-color: lightsalmon;\" ><span class=\"txtp\">um-</span></span><span class=\"plain hlbx\"  style=\"border-color: lightsalmon;\" ><span class=\"txtp\">[ma] </span></span></span></span> </div><div class=\"meta\"><div class=\"features\"></div></div></div><div class=\"contnr word \" ><div class=\"lbl word\"><span class=\"txtp\"><span class=\"plain outer  \" ><span class=\"plain hlbx\"  style=\"border-color: lightsalmon;\" ><span class=\"txtp\">szu-</span></span><span class=\"plain hlbx\"  style=\"border-color: lightsalmon;\" ><span class=\"txtp\">u2-</span></span><span class=\"plain hlbx\"  style=\"border-color: lightsalmon;\" ><span class=\"txtp\">[ma]</span></span></span></span> </div><div class=\"meta\"><div class=\"features\"></div></div></div></div></div><div class=\"contnr line \" ><div class=\"lbl line\"><span class=\"txtn\">8</span> </div><div class=\"meta\"><div class=\"features\"></div></div><div class=\"children line\"><div class=\"contnr word \" ><div class=\"lbl word\"><span class=\"txtp\"><span class=\"plain outer  \" ><span class=\"plain hlbx\"  style=\"border-color: lightsalmon;\" ><span class=\"txtp\">{disz}</span></span><span class=\"plain hlbx\"  style=\"border-color: lightsalmon;\" ><span class=\"txtp\">sa-</span></span><span class=\"plain hlbx\"  style=\"border-color: lightsalmon;\" ><span class=\"txtp\">am-</span></span><span class=\"plain hlbx\"  style=\"border-color: lightsalmon;\" ><span class=\"txtp\">su-</span></span><span class=\"plain hlbx\"  style=\"border-color: lightsalmon;\" ><span class=\"txtp\">ba-</span></span><span class=\"plain hlbx\"  style=\"border-color: lightsalmon;\" ><span class=\"txtp\">ah-</span></span><span class=\"plain hlbx\"  style=\"border-color: lightsalmon;\" ><span class=\"txtp\">li </span></span></span></span> </div><div class=\"meta\"><div class=\"features\"></div></div></div><div class=\"contnr word \" ><div class=\"lbl word\"><span class=\"txtp\"><span class=\"plain outer  \" ><span class=\"plain hlbx\"  style=\"border-color: lightsalmon;\" ><span class=\"txtp\">sza-</span></span><span class=\"plain hlbx\"  style=\"border-color: lightsalmon;\" ><span class=\"txtp\">pi2-</span></span><span class=\"plain hlbx\"  style=\"border-color: lightsalmon;\" ><span class=\"txtp\">ir </span></span></span></span> </div><div class=\"meta\"><div class=\"features\"></div></div></div><div class=\"contnr word \" ><div class=\"lbl word\"><span class=\"txtp\"><span class=\"plain outer  \" ><span class=\"plain hlbx\"  style=\"border-color: lightsalmon;\" ><span class=\"txtp\">ma-</span></span><span class=\"plain hlbx\"  style=\"border-color: lightsalmon;\" ><span class=\"txtp\">[tim]</span></span></span></span> </div><div class=\"meta\"><div class=\"features\"></div></div></div></div></div><div class=\"contnr line hl\" ><div class=\"lbl line\"><span class=\"txtn\">9</span> </div><div class=\"meta\"><div class=\"features\"></div></div><div class=\"children line\"><div class=\"contnr word \" ><div class=\"lbl word\"><span class=\"txtp\"><span class=\"plain outer  \" ><span class=\"plain hlbx\"  style=\"border-color: mediumaquamarine;\" ><span class=\"txtp\">2(esze3) </span></span></span></span> </div><div class=\"meta\"><div class=\"features\"></div></div></div><div class=\"contnr word \" ><div class=\"lbl word\"><span class=\"txtp\"><span class=\"plain outer  \" ><span class=\"plain hlbx\"  style=\"border-color: lightsalmon;\" ><span class=\"txtp\">_a-</span></span><span class=\"plain hlbx\"  style=\"border-color: lightsalmon;\" ><span class=\"txtp\">sza3_ </span></span></span></span> </div><div class=\"meta\"><div class=\"features\"></div></div></div><div class=\"contnr word \" ><div class=\"lbl word\"><span class=\"txtp\"><span class=\"plain outer  \" ><span class=\"plain hlbx\"  style=\"border-color: lightsalmon;\" ><span class=\"txtp\">s,i-</span></span><span class=\"plain hlbx\"  style=\"border-color: lightsalmon;\" ><span class=\"txtp\">[bi]-</span></span><span class=\"plain hlbx\"  style=\"border-color: lightsalmon;\" ><span class=\"txtp\">it </span></span></span></span> </div><div class=\"meta\"><div class=\"features\"></div></div></div><div class=\"contnr word \" ><div class=\"lbl word\"><span class=\"txtp\"><span class=\"plain outer  \" ><span class=\"plain hlbx\"  style=\"border-color: lightsalmon;\" ><span class=\"txtp\">{disz}</span></span><span class=\"plain hlbx\"  style=\"border-color: lightsalmon;\" ><span class=\"txtp\">[ku]-</span></span><span class=\"plain hlbx\"  style=\"border-color: lightsalmon;\" ><span class=\"txtp\">un-</span></span><span class=\"plain hlbx\"  style=\"border-color: lightsalmon;\" ><span class=\"txtp\">zu-</span></span><span class=\"plain hlbx\"  style=\"border-color: lightsalmon;\" ><span class=\"txtp\">lum </span></span></span></span> </div><div class=\"meta\"><div class=\"features\"></div></div></div><div class=\"contnr word \" ><div class=\"lbl word\"><span class=\"txtp\"><span class=\"plain outer  \" ><span class=\"plain hlbx\"  style=\"border-color: lightsalmon;\" ><span class=\"txtp\">_sza3-</span></span><span class=\"plain hlbx\"  style=\"border-color: mediumaquamarine;\" ><span class=\"txtp\">gud_</span></span></span></span> </div><div class=\"meta\"><div class=\"features\"></div></div></div></div></div><div class=\"contnr line hl\" ><div class=\"lbl line\"><span class=\"txtn\">10</span> </div><div class=\"meta\"><div class=\"features\"></div></div><div class=\"children line\"><div class=\"contnr word \" ><div class=\"lbl word\"><span class=\"txtp\"><span class=\"plain outer  \" ><span class=\"plain hlbx\"  style=\"border-color: lightsalmon;\" ><span class=\"txtp\">_a-</span></span><span class=\"plain hlbx\"  style=\"border-color: lightsalmon;\" ><span class=\"txtp\">sza3 </span></span></span></span> </div><div class=\"meta\"><div class=\"features\"></div></div></div><div class=\"contnr word \" ><div class=\"lbl word\"><span class=\"txtp\"><span class=\"plain outer  \" ><span class=\"plain hlbx\"  style=\"border-color: lightsalmon;\" ><span class=\"txtp\">a-</span></span><span class=\"plain hlbx\"  style=\"border-color: mediumaquamarine;\" ><span class=\"txtp\">gar3_ </span></span></span></span> </div><div class=\"meta\"><div class=\"features\"></div></div></div><div class=\"contnr word \" ><div class=\"lbl word\"><span class=\"txtp\"><span class=\"plain outer  \" ><span class=\"plain hlbx\"  style=\"border-color: lightsalmon;\" ><span class=\"txtp\">na-</span></span><span class=\"plain hlbx\"  style=\"border-color: mediumaquamarine;\" ><span class=\"txtp\">ag-</span></span><span class=\"plain hlbx\"  style=\"border-color: lightsalmon;\" ><span class=\"txtp\">[ma-</span></span><span class=\"plain hlbx\"  style=\"border-color: lightsalmon;\" ><span class=\"txtp\">lum] </span></span></span></span> </div><div class=\"meta\"><div class=\"features\"></div></div></div><div class=\"contnr word \" ><div class=\"lbl word\"><span class=\"txtp\"><span class=\"plain outer  \" ><span class=\"plain hlbx\"  style=\"border-color: mediumaquamarine;\" ><span class=\"txtp\">_uru_ </span></span></span></span> </div><div class=\"meta\"><div class=\"features\"></div></div></div><div class=\"contnr word \" ><div class=\"lbl word\"><span class=\"txtp\"><span class=\"plain outer  \" ><span class=\"plain hlbx\"  style=\"border-color: lightsalmon;\" ><span class=\"txtp\">x </span></span></span></span> </div><div class=\"meta\"><div class=\"features\"></div></div></div><div class=\"contnr word \" ><div class=\"lbl word\"><span class=\"txtp\"><span class=\"plain outer  \" ><span class=\"plain hlbx\"  style=\"border-color: lightsalmon;\" ><span class=\"txtp\">x </span></span></span></span> </div><div class=\"meta\"><div class=\"features\"></div></div></div><div class=\"contnr word \" ><div class=\"lbl word\"><span class=\"txtp\"><span class=\"plain outer  \" ><span class=\"plain hlbx\"  style=\"border-color: lightsalmon;\" ><span class=\"txtp\">x</span></span><span class=\"plain hlbx\"  style=\"border-color: lightsalmon;\" ><span class=\"txtp\">{ki}</span></span></span></span> </div><div class=\"meta\"><div class=\"features\"></div></div></div></div></div><div class=\"contnr line hl\" ><div class=\"lbl line\"><span class=\"txtn\">11</span> </div><div class=\"meta\"><div class=\"features\"></div></div><div class=\"children line\"><div class=\"contnr word \" ><div class=\"lbl word\"><span class=\"txtp\"><span class=\"plain outer  \" ><span class=\"plain hlbx\"  style=\"border-color: lightsalmon;\" ><span class=\"txtp\">sza </span></span></span></span> </div><div class=\"meta\"><div class=\"features\"></div></div></div><div class=\"contnr word \" ><div class=\"lbl word\"><span class=\"txtp\"><span class=\"plain outer  \" ><span class=\"plain hlbx\"  style=\"border-color: lightsalmon;\" ><span class=\"txtp\">_{d}</span></span><span class=\"plain hlbx\"  style=\"border-color: lightsalmon;\" ><span class=\"txtp\">utu_-</span></span><span class=\"plain hlbx\"  style=\"border-color: lightsalmon;\" ><span class=\"txtp\">ha-</span></span><span class=\"plain hlbx\"  style=\"border-color: lightsalmon;\" ><span class=\"txtp\">zi-</span></span><span class=\"plain hlbx\"  style=\"border-color: lightsalmon;\" ><span class=\"txtp\">[ir] </span></span></span></span> </div><div class=\"meta\"><div class=\"features\"></div></div></div><div class=\"contnr word \" ><div class=\"lbl word\"><span class=\"txtp\"><span class=\"plain outer  \" ><span class=\"plain hlbx\"  style=\"border-color: lightsalmon;\" ><span class=\"txtp\">isz-</span></span><span class=\"plain hlbx\"  style=\"border-color: lightsalmon;\" ><span class=\"txtp\">tu </span></span></span></span> </div><div class=\"meta\"><div class=\"features\"></div></div></div><div class=\"contnr word \" ><div class=\"lbl word\"><span class=\"txtp\"><span class=\"plain outer  \" ><span class=\"plain hlbx\"  style=\"border-color: lightsalmon;\" ><span class=\"txtp\">_mu </span></span></span></span> </div><div class=\"meta\"><div class=\"features\"></div></div></div><div class=\"contnr word \" ><div class=\"lbl word\"><span class=\"txtp\"><span class=\"plain outer  \" ><span class=\"plain hlbx\"  style=\"border-color: lightsalmon;\" ><span class=\"txtp\">7(disz) </span></span></span></span> </div><div class=\"meta\"><div class=\"features\"></div></div></div><div class=\"contnr word \" ><div class=\"lbl word\"><span class=\"txtp\"><span class=\"plain outer  \" ><span class=\"plain hlbx\"  style=\"border-color: mediumaquamarine;\" ><span class=\"txtp\">kam_ </span></span></span></span> </div><div class=\"meta\"><div class=\"features\"></div></div></div><div class=\"contnr word \" ><div class=\"lbl word\"><span class=\"txtp\"><span class=\"plain outer  \" ><span class=\"plain hlbx\"  style=\"border-color: lightsalmon;\" ><span class=\"txtp\">id-</span></span><span class=\"plain hlbx\"  style=\"border-color: lightsalmon;\" ><span class=\"txtp\">di-</span></span><span class=\"plain hlbx\"  style=\"border-color: lightsalmon;\" ><span class=\"txtp\">nu-</span></span><span class=\"plain hlbx\"  style=\"border-color: lightsalmon;\" ><span class=\"txtp\">szum</span></span></span></span> </div><div class=\"meta\"><div class=\"features\"></div></div></div></div></div><div class=\"contnr line hl\" ><div class=\"lbl line\"><span class=\"txtn\">12</span> </div><div class=\"meta\"><div class=\"features\"></div></div><div class=\"children line\"><div class=\"contnr word \" ><div class=\"lbl word\"><span class=\"txtp\"><span class=\"plain outer  \" ><span class=\"plain hlbx\"  style=\"border-color: lightsalmon;\" ><span class=\"txtp\">u3 </span></span></span></span> </div><div class=\"meta\"><div class=\"features\"></div></div></div><div class=\"contnr word \" ><div class=\"lbl word\"><span class=\"txtp\"><span class=\"plain outer  \" ><span class=\"plain hlbx\"  style=\"border-color: lightsalmon;\" ><span class=\"txtp\">i-</span></span><span class=\"plain hlbx\"  style=\"border-color: lightsalmon;\" ><span class=\"txtp\">na </span></span></span></span> </div><div class=\"meta\"><div class=\"features\"></div></div></div><div class=\"contnr word \" ><div class=\"lbl word\"><span class=\"txtp\"><span class=\"plain outer  \" ><span class=\"plain hlbx\"  style=\"border-color: mediumaquamarine;\" ><span class=\"txtp\">_uru_ </span></span></span></span> </div><div class=\"meta\"><div class=\"features\"></div></div></div><div class=\"contnr word \" ><div class=\"lbl word\"><span class=\"txtp\"><span class=\"plain outer  \" ><span class=\"plain hlbx\"  style=\"border-color: lightsalmon;\" ><span class=\"txtp\">x-</span></span><span class=\"plain hlbx\"  style=\"border-color: lightsalmon;\" ><span class=\"txtp\">szum</span></span><span class=\"plain hlbx\"  style=\"border-color: lightsalmon;\" ><span class=\"txtp\">{ki} </span></span></span></span> </div><div class=\"meta\"><div class=\"features\"></div></div></div><div class=\"contnr word \" ><div class=\"lbl word\"><span class=\"txtp\"><span class=\"plain outer  \" ><span class=\"plain hlbx\"  style=\"border-color: lightsalmon;\" ><span class=\"txtp\">sza-</span></span><span class=\"plain hlbx\"  style=\"border-color: mediumaquamarine;\" ><span class=\"txtp\">ak-</span></span><span class=\"plain hlbx\"  style=\"border-color: lightsalmon;\" ><span class=\"txtp\">nu </span></span></span></span> </div><div class=\"meta\"><div class=\"features\"></div></div></div><div class=\"contnr word \" ><div class=\"lbl word\"><span class=\"txtp\"><span class=\"plain outer  \" ><span class=\"plain hlbx\"  style=\"border-color: lightsalmon;\" ><span class=\"txtp\">id-</span></span><span class=\"plain hlbx\"  style=\"border-color: lightsalmon;\" ><span class=\"txtp\">di-</span></span><span class=\"plain hlbx\"  style=\"border-color: lightsalmon;\" ><span class=\"txtp\">a-</span></span><span class=\"plain hlbx\"  style=\"border-color: lightsalmon;\" ><span class=\"txtp\">am-</span></span><span class=\"plain hlbx\"  style=\"border-color: lightsalmon;\" ><span class=\"txtp\">ma</span></span></span></span> </div><div class=\"meta\"><div class=\"features\"></div></div></div></div></div><div class=\"contnr line hl\" ><div class=\"lbl line\"><span class=\"txtn\">13</span> </div><div class=\"meta\"><div class=\"features\"></div></div><div class=\"children line\"><div class=\"contnr word \" ><div class=\"lbl word\"><span class=\"txtp\"><span class=\"plain outer  \" ><span class=\"plain hlbx\"  style=\"border-color: mediumaquamarine;\" ><span class=\"txtp\">2(esze3) </span></span></span></span> </div><div class=\"meta\"><div class=\"features\"></div></div></div><div class=\"contnr word \" ><div class=\"lbl word\"><span class=\"txtp\"><span class=\"plain outer  \" ><span class=\"plain hlbx\"  style=\"border-color: lightsalmon;\" ><span class=\"txtp\">_a-</span></span><span class=\"plain hlbx\"  style=\"border-color: lightsalmon;\" ><span class=\"txtp\">sza3 </span></span></span></span> </div><div class=\"meta\"><div class=\"features\"></div></div></div><div class=\"contnr word \" ><div class=\"lbl word\"><span class=\"txtp\"><span class=\"plain outer  \" ><span class=\"plain hlbx\"  style=\"border-color: mediumaquamarine;\" ><span class=\"txtp\">szuku_ </span></span></span></span> </div><div class=\"meta\"><div class=\"features\"></div></div></div><div class=\"contnr word \" ><div class=\"lbl word\"><span class=\"txtp\"><span class=\"plain outer  \" ><span class=\"plain hlbx\"  style=\"border-color: lightsalmon;\" ><span class=\"txtp\">i-</span></span><span class=\"plain hlbx\"  style=\"border-color: lightsalmon;\" ><span class=\"txtp\">li-</span></span><span class=\"plain hlbx\"  style=\"border-color: lightsalmon;\" ><span class=\"txtp\">ib-</span></span><span class=\"plain hlbx\"  style=\"border-color: lightsalmon;\" ><span class=\"txtp\">bu </span></span></span></span> </div><div class=\"meta\"><div class=\"features\"></div></div></div><div class=\"contnr word \" ><div class=\"lbl word\"><span class=\"txtp\"><span class=\"plain outer  \" ><span class=\"plain hlbx\"  style=\"border-color: lightsalmon;\" ><span class=\"txtp\">s,i-</span></span><span class=\"plain hlbx\"  style=\"border-color: lightsalmon;\" ><span class=\"txtp\">bi-</span></span><span class=\"plain hlbx\"  style=\"border-color: lightsalmon;\" ><span class=\"txtp\">it </span></span></span></span> </div><div class=\"meta\"><div class=\"features\"></div></div></div><div class=\"contnr word \" ><div class=\"lbl word\"><span class=\"txtp\"><span class=\"plain outer  \" ><span class=\"plain hlbx\"  style=\"border-color: mediumaquamarine;\" ><span class=\"txtp\">_nagar-</span></span><span class=\"plain hlbx\"  style=\"border-color: lightsalmon;\" ><span class=\"txtp\">mesz_</span></span></span></span> </div><div class=\"meta\"><div class=\"features\"></div></div></div></div></div><div class=\"contnr line hl\" ><div class=\"lbl line\"><span class=\"txtn\">14</span> </div><div class=\"meta\"><div class=\"features\"></div></div><div class=\"children line\"><div class=\"contnr word \" ><div class=\"lbl word\"><span class=\"txtp\"><span class=\"plain outer  \" ><span class=\"plain hlbx\"  style=\"border-color: lightsalmon;\" ><span class=\"txtp\">_a-</span></span><span class=\"plain hlbx\"  style=\"border-color: lightsalmon;\" ><span class=\"txtp\">sza3 </span></span></span></span> </div><div class=\"meta\"><div class=\"features\"></div></div></div><div class=\"contnr word \" ><div class=\"lbl word\"><span class=\"txtp\"><span class=\"plain outer  \" ><span class=\"plain hlbx\"  style=\"border-color: lightsalmon;\" ><span class=\"txtp\">a-</span></span><span class=\"plain hlbx\"  style=\"border-color: mediumaquamarine;\" ><span class=\"txtp\">gar3 </span></span></span></span> </div><div class=\"meta\"><div class=\"features\"></div></div></div><div class=\"contnr word \" ><div class=\"lbl word\"><span class=\"txtp\"><span class=\"plain outer  \" ><span class=\"plain hlbx\"  style=\"border-color: mediumaquamarine;\" ><span class=\"txtp\">uru_ </span></span></span></span> </div><div class=\"meta\"><div class=\"features\"></div></div></div><div class=\"contnr word \" ><div class=\"lbl word\"><span class=\"txtp\"><span class=\"plain outer  \" ><span class=\"plain hlbx\"  style=\"border-color: lightsalmon;\" ><span class=\"txtp\">ra-</span></span><span class=\"plain hlbx\"  style=\"border-color: lightsalmon;\" ><span class=\"txtp\">bu-</span></span><span class=\"plain hlbx\"  style=\"border-color: lightsalmon;\" ><span class=\"txtp\">um </span></span></span></span> </div><div class=\"meta\"><div class=\"features\"></div></div></div><div class=\"contnr word \" ><div class=\"lbl word\"><span class=\"txtp\"><span class=\"plain outer  \" ><span class=\"plain hlbx\"  style=\"border-color: lightsalmon;\" ><span class=\"txtp\">x </span></span></span></span> </div><div class=\"meta\"><div class=\"features\"></div></div></div><div class=\"contnr word \" ><div class=\"lbl word\"><span class=\"txtp\"><span class=\"plain outer  \" ><span class=\"plain hlbx\"  style=\"border-color: mediumaquamarine;\" ><span class=\"txtp\">[...]</span></span></span></span> </div><div class=\"meta\"><div class=\"features\"></div></div></div></div></div><div class=\"contnr line hl\" ><div class=\"lbl line\"><span class=\"txtn\">15</span> </div><div class=\"meta\"><div class=\"features\"></div></div><div class=\"children line\"><div class=\"contnr word \" ><div class=\"lbl word\"><span class=\"txtp\"><span class=\"plain outer  \" ><span class=\"plain hlbx\"  style=\"border-color: lightsalmon;\" ><span class=\"txtp\">x </span></span></span></span> </div><div class=\"meta\"><div class=\"features\"></div></div></div><div class=\"contnr word \" ><div class=\"lbl word\"><span class=\"txtp\"><span class=\"plain outer  \" ><span class=\"plain hlbx\"  style=\"border-color: lightsalmon;\" ><span class=\"txtp\">x </span></span></span></span> </div><div class=\"meta\"><div class=\"features\"></div></div></div><div class=\"contnr word \" ><div class=\"lbl word\"><span class=\"txtp\"><span class=\"plain outer  \" ><span class=\"plain hlbx\"  style=\"border-color: lightsalmon;\" ><span class=\"txtp\">x </span></span></span></span> </div><div class=\"meta\"><div class=\"features\"></div></div></div><div class=\"contnr word \" ><div class=\"lbl word\"><span class=\"txtp\"><span class=\"plain outer  \" ><span class=\"plain hlbx\"  style=\"border-color: lightsalmon;\" ><span class=\"txtp\">x </span></span></span></span> </div><div class=\"meta\"><div class=\"features\"></div></div></div><div class=\"contnr word \" ><div class=\"lbl word\"><span class=\"txtp\"><span class=\"plain outer  \" ><span class=\"plain hlbx\"  style=\"border-color: lightsalmon;\" ><span class=\"txtp\">x </span></span></span></span> </div><div class=\"meta\"><div class=\"features\"></div></div></div><div class=\"contnr word \" ><div class=\"lbl word\"><span class=\"txtp\"><span class=\"plain outer  \" ><span class=\"plain hlbx\"  style=\"border-color: lightsalmon;\" ><span class=\"txtp\">x </span></span></span></span> </div><div class=\"meta\"><div class=\"features\"></div></div></div><div class=\"contnr word \" ><div class=\"lbl word\"><span class=\"txtp\"><span class=\"plain outer  \" ><span class=\"plain hlbx\"  style=\"border-color: mediumaquamarine;\" ><span class=\"txtp\">[...]</span></span></span></span> </div><div class=\"meta\"><div class=\"features\"></div></div></div></div></div><div class=\"contnr line \" ><div class=\"lbl line\"><span class=\"txtn\"><span>$</span>a</span> </div><div class=\"meta\"><div class=\"features\"></div></div></div></div></div>"
      ],
      "text/plain": [
       "<IPython.core.display.HTML object>"
      ]
     },
     "metadata": {},
     "output_type": "display_data"
    }
   ],
   "source": [
    "A.show(results, start=1, end=1, condensed=True, condenseType='face', withNodes=False, highlights=highlights)"
   ]
  },
  {
   "cell_type": "markdown",
   "metadata": {},
   "source": [
    "Note how the words that are **_heads_** of their phrases are highlighted within their phrases."
   ]
  },
  {
   "cell_type": "markdown",
   "metadata": {},
   "source": [
    "# All together!\n",
    "\n",
    "If more researchers have shared data modules, you can draw them all in.\n",
    "\n",
    "Then you can design queries that use features from all these different sources.\n",
    "\n",
    "In that way, you build your own research on top of the work of others."
   ]
  },
  {
   "cell_type": "markdown",
   "metadata": {},
   "source": [
    "Hover over the features to see where they come from, and you'll see they come from your local github repo."
   ]
  },
  {
   "cell_type": "markdown",
   "metadata": {},
   "source": [
    "---\n",
    "\n",
    "All chapters:\n",
    "\n",
    "* **[start](start.ipynb)** become an expert in creating pretty displays of your text structures\n",
    "* **[display](display.ipynb)** become an expert in creating pretty displays of your text structures\n",
    "* **[search](search.ipynb)** turbo charge your hand-coding with search templates\n",
    "* **[exportExcel](exportExcel.ipynb)** make tailor-made spreadsheets out of your results\n",
    "* **share** draw in other people's data and let them use yours\n",
    "* **[similarLines](similarLines.ipynb)** spot the similarities between lines\n",
    "\n",
    "---\n",
    "\n",
    "See the [cookbook](cookbook) for recipes for small, concrete tasks."
   ]
  }
 ],
 "metadata": {
  "kernelspec": {
   "display_name": "Python 3",
   "language": "python",
   "name": "python3"
  },
  "language_info": {
   "codemirror_mode": {
    "name": "ipython",
    "version": 3
   },
   "file_extension": ".py",
   "mimetype": "text/x-python",
   "name": "python",
   "nbconvert_exporter": "python",
   "pygments_lexer": "ipython3",
   "version": "3.7.7"
  }
 },
 "nbformat": 4,
 "nbformat_minor": 4
}
