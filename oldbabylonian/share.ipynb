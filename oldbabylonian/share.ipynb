{
 "cells": [
  {
   "cell_type": "markdown",
   "metadata": {},
   "source": [
    "<img align=\"right\" src=\"images/tf.png\" width=\"128\"/>\n",
    "<img align=\"right\" src=\"images/ninologo.png\" width=\"128\"/>\n",
    "<img align=\"right\" src=\"images/dans.png\" width=\"128\"/>\n",
    "\n",
    "---\n",
    "\n",
    "To get started: consult [start](start.ipynb)\n",
    "\n",
    "---\n",
    "\n",
    "# Sharing data features\n",
    "\n",
    "## Explore additional data\n",
    "\n",
    "Once you analyse a corpus, it is likely that you produce data that others can reuse.\n",
    "Maybe you have defined a set of proper name occurrences, or special numerals, or you have computed part-of-speech assignments.\n",
    "\n",
    "It is possible to turn these insights into *new features*, i.e. new `.tf` files with values assigned to specific nodes.\n",
    "\n",
    "## Make your own data\n",
    "\n",
    "New data is a product of your own methods and computations in the first place.\n",
    "But how do you turn that data into new TF features?\n",
    "It turns out that the last step is not that difficult.\n",
    "\n",
    "If you can shape your data as a mapping (dictionary) from node numbers (integers) to values\n",
    "(strings or integers), then TF can turn that data into a feature file for you with one command.\n",
    "\n",
    "## Share your new data\n",
    "You can then easily share your new features on GitHub, so that your colleagues everywhere \n",
    "can try it out for themselves.\n",
    "\n",
    "You can add such data on the fly, by passing a `mod={org}/{repo}/{path}` parameter,\n",
    "or a bunch of them separated by commas.\n",
    "\n",
    "If the data is there, it will be auto-downloaded and stored on your machine.\n",
    "\n",
    "Let's do it."
   ]
  },
  {
   "cell_type": "code",
   "execution_count": 1,
   "metadata": {},
   "outputs": [],
   "source": [
    "%load_ext autoreload\n",
    "%autoreload 2"
   ]
  },
  {
   "cell_type": "code",
   "execution_count": 2,
   "metadata": {
    "ExecuteTime": {
     "end_time": "2018-05-24T10:06:39.818664Z",
     "start_time": "2018-05-24T10:06:39.796588Z"
    }
   },
   "outputs": [],
   "source": [
    "import collections\n",
    "\n",
    "from tf.app import use"
   ]
  },
  {
   "cell_type": "code",
   "execution_count": 3,
   "metadata": {},
   "outputs": [
    {
     "name": "stdout",
     "output_type": "stream",
     "text": [
      "Using TF-app in ~/github/annotation/app-oldbabylonian/code:\n",
      "\trepo clone offline under ~/github (local github)\n",
      "Using data in ~/github/Nino-cunei/oldbabylonian/tf/1.0.5:\n",
      "\trepo clone offline under ~/github (local github)\n",
      "   |     0.00s Dataset without structure sections in otext:no structure functions in the T-API\n"
     ]
    },
    {
     "data": {
      "text/html": [
       "<b>Documentation:</b> <a target=\"_blank\" href=\"https://github.com/Nino-cunei/oldbabylonian/blob/master/docs/about.md\" title=\"provenance of Old Babylonian Letters 1900-1600: Cuneiform tablets \">OLDBABYLONIAN</a> <a target=\"_blank\" href=\"https://github.com/Nino-cunei/oldbabylonian/blob/master/docs/programs/mapReadings.ipynb\" title=\"mapping from readings to UNICODE\">Character table</a> <a target=\"_blank\" href=\"https://github.com/Nino-cunei/oldbabylonian/blob/master/docs/transcription.md\" title=\"OLDBABYLONIAN feature documentation\">Feature docs</a> <a target=\"_blank\" href=\"https://github.com/annotation/app-oldbabylonian\" title=\"oldbabylonian API documentation\">oldbabylonian API</a> <a target=\"_blank\" href=\"https://annotation.github.io/text-fabric/cheatsheet.html\" title=\"text-fabric-api\">Text-Fabric API 8.2.0</a> <a target=\"_blank\" href=\"https://annotation.github.io/text-fabric/about/searchusage.html\" title=\"Search Templates Introduction and Reference\">Search Reference</a><details open><summary><b>Loaded features</b>:</summary>\n",
       "<p><b>Old Babylonian Letters 1900-1600: Cuneiform tablets </b>: <a target=\"_blank\" href=\"https://github.com/Nino-cunei/oldbabylonian/blob/master/docs/transcription.md\" title=\"~/github/Nino-cunei/oldbabylonian/tf/1.0.5/ARK.tf\">ARK</a>  <a target=\"_blank\" href=\"https://github.com/Nino-cunei/oldbabylonian/blob/master/docs/transcription.md\" title=\"~/github/Nino-cunei/oldbabylonian/tf/1.0.5/after.tf\">after</a>  <a target=\"_blank\" href=\"https://github.com/Nino-cunei/oldbabylonian/blob/master/docs/transcription.md\" title=\"~/github/Nino-cunei/oldbabylonian/tf/1.0.5/afterr.tf\">afterr</a>  <a target=\"_blank\" href=\"https://github.com/Nino-cunei/oldbabylonian/blob/master/docs/transcription.md\" title=\"~/github/Nino-cunei/oldbabylonian/tf/1.0.5/afteru.tf\">afteru</a>  <a target=\"_blank\" href=\"https://github.com/Nino-cunei/oldbabylonian/blob/master/docs/transcription.md\" title=\"~/github/Nino-cunei/oldbabylonian/tf/1.0.5/atf.tf\">atf</a>  <a target=\"_blank\" href=\"https://github.com/Nino-cunei/oldbabylonian/blob/master/docs/transcription.md\" title=\"~/github/Nino-cunei/oldbabylonian/tf/1.0.5/atfpost.tf\">atfpost</a>  <a target=\"_blank\" href=\"https://github.com/Nino-cunei/oldbabylonian/blob/master/docs/transcription.md\" title=\"~/github/Nino-cunei/oldbabylonian/tf/1.0.5/atfpre.tf\">atfpre</a>  <a target=\"_blank\" href=\"https://github.com/Nino-cunei/oldbabylonian/blob/master/docs/transcription.md\" title=\"~/github/Nino-cunei/oldbabylonian/tf/1.0.5/author.tf\">author</a>  <a target=\"_blank\" href=\"https://github.com/Nino-cunei/oldbabylonian/blob/master/docs/transcription.md\" title=\"~/github/Nino-cunei/oldbabylonian/tf/1.0.5/col.tf\">col</a>  <a target=\"_blank\" href=\"https://github.com/Nino-cunei/oldbabylonian/blob/master/docs/transcription.md\" title=\"~/github/Nino-cunei/oldbabylonian/tf/1.0.5/collated.tf\">collated</a>  <a target=\"_blank\" href=\"https://github.com/Nino-cunei/oldbabylonian/blob/master/docs/transcription.md\" title=\"~/github/Nino-cunei/oldbabylonian/tf/1.0.5/collection.tf\">collection</a>  <a target=\"_blank\" href=\"https://github.com/Nino-cunei/oldbabylonian/blob/master/docs/transcription.md\" title=\"~/github/Nino-cunei/oldbabylonian/tf/1.0.5/comment.tf\">comment</a>  <a target=\"_blank\" href=\"https://github.com/Nino-cunei/oldbabylonian/blob/master/docs/transcription.md\" title=\"~/github/Nino-cunei/oldbabylonian/tf/1.0.5/damage.tf\">damage</a>  <a target=\"_blank\" href=\"https://github.com/Nino-cunei/oldbabylonian/blob/master/docs/transcription.md\" title=\"~/github/Nino-cunei/oldbabylonian/tf/1.0.5/det.tf\">det</a>  <a target=\"_blank\" href=\"https://github.com/Nino-cunei/oldbabylonian/blob/master/docs/transcription.md\" title=\"~/github/Nino-cunei/oldbabylonian/tf/1.0.5/docnote.tf\">docnote</a>  <a target=\"_blank\" href=\"https://github.com/Nino-cunei/oldbabylonian/blob/master/docs/transcription.md\" title=\"~/github/Nino-cunei/oldbabylonian/tf/1.0.5/docnumber.tf\">docnumber</a>  <a target=\"_blank\" href=\"https://github.com/Nino-cunei/oldbabylonian/blob/master/docs/transcription.md\" title=\"~/github/Nino-cunei/oldbabylonian/tf/1.0.5/excavation.tf\">excavation</a>  <a target=\"_blank\" href=\"https://github.com/Nino-cunei/oldbabylonian/blob/master/docs/transcription.md\" title=\"~/github/Nino-cunei/oldbabylonian/tf/1.0.5/excised.tf\">excised</a>  <a target=\"_blank\" href=\"https://github.com/Nino-cunei/oldbabylonian/blob/master/docs/transcription.md\" title=\"~/github/Nino-cunei/oldbabylonian/tf/1.0.5/face.tf\">face</a>  <a target=\"_blank\" href=\"https://github.com/Nino-cunei/oldbabylonian/blob/master/docs/transcription.md\" title=\"~/github/Nino-cunei/oldbabylonian/tf/1.0.5/flags.tf\">flags</a>  <a target=\"_blank\" href=\"https://github.com/Nino-cunei/oldbabylonian/blob/master/docs/transcription.md\" title=\"~/github/Nino-cunei/oldbabylonian/tf/1.0.5/fraction.tf\">fraction</a>  <a target=\"_blank\" href=\"https://github.com/Nino-cunei/oldbabylonian/blob/master/docs/transcription.md\" title=\"~/github/Nino-cunei/oldbabylonian/tf/1.0.5/genre.tf\">genre</a>  <a target=\"_blank\" href=\"https://github.com/Nino-cunei/oldbabylonian/blob/master/docs/transcription.md\" title=\"~/github/Nino-cunei/oldbabylonian/tf/1.0.5/grapheme.tf\">grapheme</a>  <a target=\"_blank\" href=\"https://github.com/Nino-cunei/oldbabylonian/blob/master/docs/transcription.md\" title=\"~/github/Nino-cunei/oldbabylonian/tf/1.0.5/graphemer.tf\">graphemer</a>  <a target=\"_blank\" href=\"https://github.com/Nino-cunei/oldbabylonian/blob/master/docs/transcription.md\" title=\"~/github/Nino-cunei/oldbabylonian/tf/1.0.5/graphemeu.tf\">graphemeu</a>  <a target=\"_blank\" href=\"https://github.com/Nino-cunei/oldbabylonian/blob/master/docs/transcription.md\" title=\"~/github/Nino-cunei/oldbabylonian/tf/1.0.5/lang.tf\">lang</a>  <a target=\"_blank\" href=\"https://github.com/Nino-cunei/oldbabylonian/blob/master/docs/transcription.md\" title=\"~/github/Nino-cunei/oldbabylonian/tf/1.0.5/langalt.tf\">langalt</a>  <a target=\"_blank\" href=\"https://github.com/Nino-cunei/oldbabylonian/blob/master/docs/transcription.md\" title=\"~/github/Nino-cunei/oldbabylonian/tf/1.0.5/ln.tf\">ln</a>  <a target=\"_blank\" href=\"https://github.com/Nino-cunei/oldbabylonian/blob/master/docs/transcription.md\" title=\"~/github/Nino-cunei/oldbabylonian/tf/1.0.5/lnc.tf\">lnc</a>  <a target=\"_blank\" href=\"https://github.com/Nino-cunei/oldbabylonian/blob/master/docs/transcription.md\" title=\"~/github/Nino-cunei/oldbabylonian/tf/1.0.5/lnno.tf\">lnno</a>  <a target=\"_blank\" href=\"https://github.com/Nino-cunei/oldbabylonian/blob/master/docs/transcription.md\" title=\"~/github/Nino-cunei/oldbabylonian/tf/1.0.5/material.tf\">material</a>  <a target=\"_blank\" href=\"https://github.com/Nino-cunei/oldbabylonian/blob/master/docs/transcription.md\" title=\"~/github/Nino-cunei/oldbabylonian/tf/1.0.5/missing.tf\">missing</a>  <a target=\"_blank\" href=\"https://github.com/Nino-cunei/oldbabylonian/blob/master/docs/transcription.md\" title=\"~/github/Nino-cunei/oldbabylonian/tf/1.0.5/museumcode.tf\">museumcode</a>  <a target=\"_blank\" href=\"https://github.com/Nino-cunei/oldbabylonian/blob/master/docs/transcription.md\" title=\"~/github/Nino-cunei/oldbabylonian/tf/1.0.5/museumname.tf\">museumname</a>  <a target=\"_blank\" href=\"https://github.com/Nino-cunei/oldbabylonian/blob/master/docs/transcription.md\" title=\"~/github/Nino-cunei/oldbabylonian/tf/1.0.5/object.tf\">object</a>  <a target=\"_blank\" href=\"https://github.com/Nino-cunei/oldbabylonian/blob/master/docs/transcription.md\" title=\"~/github/Nino-cunei/oldbabylonian/tf/1.0.5/operator.tf\">operator</a>  <a target=\"_blank\" href=\"https://github.com/Nino-cunei/oldbabylonian/blob/master/docs/transcription.md\" title=\"~/github/Nino-cunei/oldbabylonian/tf/1.0.5/operatorr.tf\">operatorr</a>  <a target=\"_blank\" href=\"https://github.com/Nino-cunei/oldbabylonian/blob/master/docs/transcription.md\" title=\"~/github/Nino-cunei/oldbabylonian/tf/1.0.5/operatoru.tf\">operatoru</a>  <a target=\"_blank\" href=\"https://github.com/Nino-cunei/oldbabylonian/blob/master/docs/transcription.md\" title=\"~/github/Nino-cunei/oldbabylonian/tf/1.0.5/otype.tf\">otype</a>  <a target=\"_blank\" href=\"https://github.com/Nino-cunei/oldbabylonian/blob/master/docs/transcription.md\" title=\"~/github/Nino-cunei/oldbabylonian/tf/1.0.5/period.tf\">period</a>  <a target=\"_blank\" href=\"https://github.com/Nino-cunei/oldbabylonian/blob/master/docs/transcription.md\" title=\"~/github/Nino-cunei/oldbabylonian/tf/1.0.5/pnumber.tf\">pnumber</a>  <a target=\"_blank\" href=\"https://github.com/Nino-cunei/oldbabylonian/blob/master/docs/transcription.md\" title=\"~/github/Nino-cunei/oldbabylonian/tf/1.0.5/primecol.tf\">primecol</a>  <a target=\"_blank\" href=\"https://github.com/Nino-cunei/oldbabylonian/blob/master/docs/transcription.md\" title=\"~/github/Nino-cunei/oldbabylonian/tf/1.0.5/primeln.tf\">primeln</a>  <a target=\"_blank\" href=\"https://github.com/Nino-cunei/oldbabylonian/blob/master/docs/transcription.md\" title=\"~/github/Nino-cunei/oldbabylonian/tf/1.0.5/pubdate.tf\">pubdate</a>  <a target=\"_blank\" href=\"https://github.com/Nino-cunei/oldbabylonian/blob/master/docs/transcription.md\" title=\"~/github/Nino-cunei/oldbabylonian/tf/1.0.5/question.tf\">question</a>  <a target=\"_blank\" href=\"https://github.com/Nino-cunei/oldbabylonian/blob/master/docs/transcription.md\" title=\"~/github/Nino-cunei/oldbabylonian/tf/1.0.5/reading.tf\">reading</a>  <a target=\"_blank\" href=\"https://github.com/Nino-cunei/oldbabylonian/blob/master/docs/transcription.md\" title=\"~/github/Nino-cunei/oldbabylonian/tf/1.0.5/readingr.tf\">readingr</a>  <a target=\"_blank\" href=\"https://github.com/Nino-cunei/oldbabylonian/blob/master/docs/transcription.md\" title=\"~/github/Nino-cunei/oldbabylonian/tf/1.0.5/readingu.tf\">readingu</a>  <a target=\"_blank\" href=\"https://github.com/Nino-cunei/oldbabylonian/blob/master/docs/transcription.md\" title=\"~/github/Nino-cunei/oldbabylonian/tf/1.0.5/remarkable.tf\">remarkable</a>  <a target=\"_blank\" href=\"https://github.com/Nino-cunei/oldbabylonian/blob/master/docs/transcription.md\" title=\"~/github/Nino-cunei/oldbabylonian/tf/1.0.5/remarks.tf\">remarks</a>  <a target=\"_blank\" href=\"https://github.com/Nino-cunei/oldbabylonian/blob/master/docs/transcription.md\" title=\"~/github/Nino-cunei/oldbabylonian/tf/1.0.5/repeat.tf\">repeat</a>  <a target=\"_blank\" href=\"https://github.com/Nino-cunei/oldbabylonian/blob/master/docs/transcription.md\" title=\"~/github/Nino-cunei/oldbabylonian/tf/1.0.5/srcLn.tf\">srcLn</a>  <a target=\"_blank\" href=\"https://github.com/Nino-cunei/oldbabylonian/blob/master/docs/transcription.md\" title=\"~/github/Nino-cunei/oldbabylonian/tf/1.0.5/srcLnNum.tf\">srcLnNum</a>  <a target=\"_blank\" href=\"https://github.com/Nino-cunei/oldbabylonian/blob/master/docs/transcription.md\" title=\"~/github/Nino-cunei/oldbabylonian/tf/1.0.5/srcfile.tf\">srcfile</a>  <a target=\"_blank\" href=\"https://github.com/Nino-cunei/oldbabylonian/blob/master/docs/transcription.md\" title=\"~/github/Nino-cunei/oldbabylonian/tf/1.0.5/subgenre.tf\">subgenre</a>  <a target=\"_blank\" href=\"https://github.com/Nino-cunei/oldbabylonian/blob/master/docs/transcription.md\" title=\"~/github/Nino-cunei/oldbabylonian/tf/1.0.5/supplied.tf\">supplied</a>  <a target=\"_blank\" href=\"https://github.com/Nino-cunei/oldbabylonian/blob/master/docs/transcription.md\" title=\"~/github/Nino-cunei/oldbabylonian/tf/1.0.5/sym.tf\">sym</a>  <a target=\"_blank\" href=\"https://github.com/Nino-cunei/oldbabylonian/blob/master/docs/transcription.md\" title=\"~/github/Nino-cunei/oldbabylonian/tf/1.0.5/symr.tf\">symr</a>  <a target=\"_blank\" href=\"https://github.com/Nino-cunei/oldbabylonian/blob/master/docs/transcription.md\" title=\"~/github/Nino-cunei/oldbabylonian/tf/1.0.5/symu.tf\">symu</a>  <a target=\"_blank\" href=\"https://github.com/Nino-cunei/oldbabylonian/blob/master/docs/transcription.md\" title=\"~/github/Nino-cunei/oldbabylonian/tf/1.0.5/trans.tf\">trans</a>  <a target=\"_blank\" href=\"https://github.com/Nino-cunei/oldbabylonian/blob/master/docs/transcription.md\" title=\"~/github/Nino-cunei/oldbabylonian/tf/1.0.5/transcriber.tf\">transcriber</a>  <a target=\"_blank\" href=\"https://github.com/Nino-cunei/oldbabylonian/blob/master/docs/transcription.md\" title=\"~/github/Nino-cunei/oldbabylonian/tf/1.0.5/translation@en.tf\">translation@ll</a>  <a target=\"_blank\" href=\"https://github.com/Nino-cunei/oldbabylonian/blob/master/docs/transcription.md\" title=\"~/github/Nino-cunei/oldbabylonian/tf/1.0.5/type.tf\">type</a>  <a target=\"_blank\" href=\"https://github.com/Nino-cunei/oldbabylonian/blob/master/docs/transcription.md\" title=\"~/github/Nino-cunei/oldbabylonian/tf/1.0.5/uncertain.tf\">uncertain</a>  <a target=\"_blank\" href=\"https://github.com/Nino-cunei/oldbabylonian/blob/master/docs/transcription.md\" title=\"~/github/Nino-cunei/oldbabylonian/tf/1.0.5/volume.tf\">volume</a>  <b><i><a target=\"_blank\" href=\"https://github.com/Nino-cunei/oldbabylonian/blob/master/docs/transcription.md\" title=\"~/github/Nino-cunei/oldbabylonian/tf/1.0.5/oslots.tf\">oslots</a></i></b> </p></details>"
      ],
      "text/plain": [
       "<IPython.core.display.HTML object>"
      ]
     },
     "metadata": {},
     "output_type": "display_data"
    },
    {
     "data": {
      "text/html": [
       "<style>tr.tf, td.tf, th.tf { text-align: left ! important;}@font-face {\n",
       "  font-family: \"Ezra SIL\";\n",
       "  src: local('Ezra SIL'), local('EzraSIL'),\n",
       "    url('/server/static/fonts/SILEOT.woff') format('woff'),\n",
       "    url('https://github.com/annotation/text-fabric/blob/master/tf/server/static/fonts/SILEOT.woff?raw=true') format('woff');\n",
       "}\n",
       "\n",
       "@font-face {\n",
       "  font-family: \"SBL Hebrew\";\n",
       "  src: local('SBL Hebrew'), local('SBLHebrew'),\n",
       "    url('/server/static/fonts/SBL_Hbrw.woff') format('woff'),\n",
       "    url('https://github.com/annotation/text-fabric/blob/master/tf/server/static/fonts/SBL_Hbrw.woff?raw=true') format('woff');\n",
       "}\n",
       "\n",
       "@font-face {\n",
       "  font-family: \"Estrangelo Edessa\";\n",
       "  src: local('Estrangelo Edessa'), local('EstrangeloEdessa');\n",
       "    url('/server/static/fonts/SyrCOMEdessa.woff') format('woff'),\n",
       "    url('https://github.com/annotation/text-fabric/blob/master/tf/server/static/fonts/SyrCOMEdessa.woff?raw=true') format('woff');\n",
       "}\n",
       "\n",
       "@font-face {\n",
       "  font-family: AmiriQuran;\n",
       "  font-style: normal;\n",
       "  font-weight: 400;\n",
       "  src: local('Amiri Quran'), local('AmiriQuran'),\n",
       "    url('/server/static/fonts/AmiriQuran.woff') format('woff'),\n",
       "    url('https://github.com/annotation/text-fabric/blob/master/tf/server/static/fonts/AmiriQuran.woff?raw=true') format('woff');\n",
       "}\n",
       "\n",
       "@font-face {\n",
       "  font-family: AmiriQuranColored;\n",
       "  font-style: normal;\n",
       "  font-weight: 400;\n",
       "  src: local('Amiri Quran Colored'), local('AmiriQuranColored'),\n",
       "    url('/server/static/fonts/AmiriQuranColored.woff') format('woff'),\n",
       "    url('https://github.com/annotation/text-fabric/blob/master/tf/server/static/fonts/AmiriQuranColored.woff?raw=true') format('woff');\n",
       "}\n",
       "\n",
       "@font-face {\n",
       "  font-family: \"Santakku\";\n",
       "  src: local('Santakku'),\n",
       "    url('/server/static/fonts/Santakku.woff') format('woff'),\n",
       "    url('https://github.com/annotation/text-fabric/blob/master/tf/server/static/fonts/Santakku.woff?raw=true') format('woff');\n",
       "}\n",
       "\n",
       "@font-face {\n",
       "  font-family: \"SantakkuM\";\n",
       "  src: local('SantakkuM'),\n",
       "    url('/server/static/fonts/SantakkuM.woff') format('woff'),\n",
       "    url('https://github.com/annotation/text-fabric/blob/master/tf/server/static/fonts/SantakkuM.woff?raw=true') format('woff');\n",
       "}\n",
       "/* bypassing some classical notebook settings */\n",
       "div#notebook {\n",
       "  line-height: unset;\n",
       "}\n",
       "/* neutral text */\n",
       ".txtn,.txtn a:visited,.txtn a:link {\n",
       "    font-family: sans-serif;\n",
       "    font-size: medium;\n",
       "    direction: ltr;\n",
       "    text-decoration: none;\n",
       "    color: var(--text-color);\n",
       "}\n",
       "/* transcription text */\n",
       ".txtt,.txtt a:visited,.txtt a:link {\n",
       "    font-family: monospace;\n",
       "    font-size: medium;\n",
       "    direction: ltr;\n",
       "    text-decoration: none;\n",
       "    color: var(--text-color);\n",
       "}\n",
       "/* source text */\n",
       ".txto,.txto a:visited,.txto a:link {\n",
       "    font-family: serif;\n",
       "    font-size: medium;\n",
       "    direction: ltr;\n",
       "    text-decoration: none;\n",
       "    color: var(--text-color);\n",
       "}\n",
       "/* phonetic text */\n",
       ".txtp,.txtp a:visited,.txtp a:link {\n",
       "    font-family: Gentium, sans-serif;\n",
       "    font-size: large;\n",
       "    direction: ltr;\n",
       "    text-decoration: none;\n",
       "    color: var(--text-color);\n",
       "}\n",
       "/* original script text */\n",
       ".txtu,.txtu a:visited,.txtu a:link {\n",
       "    font-family: Gentium, sans-serif;\n",
       "    font-size: large;\n",
       "    text-decoration: none;\n",
       "    color: var(--text-color);\n",
       "}\n",
       "/* hebrew */\n",
       ".txtu.hbo,.lex.hbo {\n",
       "    font-family: \"Ezra SIL\", \"SBL Hebrew\", sans-serif;\n",
       "    font-size: x-large;\n",
       "    direction: rtl ! important;\n",
       "    unicode-bidi: embed;\n",
       "}\n",
       "/* syriac */\n",
       ".txtu.syc,.lex.syc {\n",
       "    font-family: \"Estrangelo Edessa\", sans-serif;\n",
       "    font-size: large;\n",
       "    direction: rtl ! important;\n",
       "    unicode-bidi: embed;\n",
       "}\n",
       "/* neo aramaic */\n",
       ".txtu.cld,.lex.cld {\n",
       "    font-family: \"CharisSIL-R\", sans-serif;\n",
       "    font-size: medium;\n",
       "    direction: ltr ! important;\n",
       "    unicode-bidi: embed;\n",
       "}\n",
       "/* standard arabic */\n",
       ".txtu.ara,.lex.ara {\n",
       "    font-family: \"AmiriQuran\", sans-serif;\n",
       "    font-size: large;\n",
       "    direction: rtl ! important;\n",
       "    unicode-bidi: embed;\n",
       "}\n",
       "/* cuneiform */\n",
       ".txtu.akk,.lex.akk {\n",
       "    font-family: Santakku, sans-serif;\n",
       "    font-size: x-large;\n",
       "    direction: ltr ! important;\n",
       "    unicode-bidi: embed;\n",
       "}\n",
       "/* greek */\n",
       ".txtu.grc,.lex.grc a:link {\n",
       "    font-family: Gentium, sans-serif;\n",
       "    font-size: medium;\n",
       "    direction: ltr ! important;\n",
       "    unicode-bidi: embed;\n",
       "}\n",
       "a:hover {\n",
       "    text-decoration: underline | important;\n",
       "    color: #0000ff | important;\n",
       "}\n",
       ".ltr {\n",
       "    direction: ltr ! important;\n",
       "}\n",
       ".rtl {\n",
       "    direction: rtl ! important;\n",
       "}\n",
       "span.plain {\n",
       "    display: inline-block;\n",
       "    white-space: pre-wrap;\n",
       "    text-align: start;\n",
       "}\n",
       ".gr,.gl {\n",
       "    white-space: pre-wrap;\n",
       "    border-color: var(--border-color-gap);\n",
       "    border-width: var(--border-width-gap);\n",
       "    border-top-style: none;\n",
       "    border-bottom-style: none;\n",
       "}\n",
       ".gr {\n",
       "    border-right-style: solid;\n",
       "    border-left-style: dashed;\n",
       "}\n",
       ".gl {\n",
       "    border-right-style: dashed;\n",
       "    border-left-style: solid;\n",
       "}\n",
       ".features {\n",
       "    font-family: monospace;\n",
       "    font-size: medium;\n",
       "    font-weight: bold;\n",
       "    color: var(--features);\n",
       "    display: flex;\n",
       "    flex-flow: column nowrap;\n",
       "    justify-content: flex-start;\n",
       "    align-items: flex-start;\n",
       "    align-content: flex-start;\n",
       "    padding: 0.1rem;\n",
       "    margin: 0.1rem;\n",
       "    direction: ltr;\n",
       "    border: var(--meta-width) solid var(--meta-color);\n",
       "    border-radius: var(--meta-width);\n",
       "}\n",
       ".features div,.features span {\n",
       "    padding: 0;\n",
       "    margin: -0.1rem 0;\n",
       "}\n",
       ".features .f {\n",
       "    font-family: sans-serif;\n",
       "    font-size: small;\n",
       "    font-weight: normal;\n",
       "    color: #5555bb;\n",
       "}\n",
       ".features .xft {\n",
       "  color: #000000;\n",
       "  background-color: #eeeeee;\n",
       "  font-size: medium;\n",
       "  margin: 0.1rem 0rem;\n",
       "}\n",
       ".features .xft .f {\n",
       "  color: #000000;\n",
       "  background-color: #eeeeee;\n",
       "  font-size: small;\n",
       "  font-weight: normal;\n",
       "}\n",
       ".section {\n",
       "    font-family: sans-serif;\n",
       "    font-size: small;\n",
       "    font-weight: bold;\n",
       "    color: var(--section);\n",
       "}\n",
       ".structure {\n",
       "    font-family: sans-serif;\n",
       "    font-size: small;\n",
       "    font-weight: bold;\n",
       "    color: var(--structure);\n",
       "}\n",
       ".comments {\n",
       "    display: flex;\n",
       "    justify-content: flex-start;\n",
       "    align-items: flex-start;\n",
       "    align-content: flex-start;\n",
       "    flex-flow: column nowrap;\n",
       "}\n",
       ".nd {\n",
       "    font-family: sans-serif;\n",
       "    font-size: small;\n",
       "    color: var(--node);\n",
       "    vertical-align: super;\n",
       "}\n",
       ".lex {\n",
       "  color: var(--lex-color);;\n",
       "}\n",
       ".children,.children.ltr {\n",
       "    display: flex;\n",
       "    border: 0;\n",
       "    background-color: #ffffff;\n",
       "    justify-content: flex-start;\n",
       "    align-items: flex-start;\n",
       "    align-content: flex-start;\n",
       "}\n",
       ".children.stretch {\n",
       "    align-items: stretch;\n",
       "}\n",
       ".children.hor {\n",
       "    flex-flow: row nowrap;\n",
       "}\n",
       ".children.hor.wrap {\n",
       "    flex-flow: row wrap;\n",
       "}\n",
       ".children.ver {\n",
       "    flex-flow: column nowrap;\n",
       "}\n",
       ".children.ver.wrap {\n",
       "    flex-flow: column wrap;\n",
       "}\n",
       ".contnr {\n",
       "    width: fit-content;\n",
       "    display: flex;\n",
       "    justify-content: flex-start;\n",
       "    align-items: flex-start;\n",
       "    align-content: flex-start;\n",
       "    flex-flow: column nowrap;\n",
       "    background: #ffffff none repeat scroll 0 0;\n",
       "    padding:  0.5rem 0.1rem 0.1rem 0.1rem;\n",
       "    margin: 0.8rem 0.1rem 0.1rem 0.1rem;\n",
       "    border-style: solid;\n",
       "    font-size: small;\n",
       "}\n",
       ".contnr.trm {\n",
       "    background-attachment: local;\n",
       "}\n",
       ".contnr.cnul {\n",
       "    padding:  0;\n",
       "    margin: 0;\n",
       "    border-style: solid;\n",
       "    font-size: xx-small;\n",
       "}\n",
       ".contnr.cnul,.lbl.cnul {\n",
       "    border-color: var(--border-color-nul);\n",
       "    border-width: var(--border-width-nul);\n",
       "    border-radius: var(--border-width-nul);\n",
       "}\n",
       ".contnr.c0,.lbl.c0 {\n",
       "    border-color: var(--border-color0);\n",
       "    border-width: var(--border-width0);\n",
       "    border-radius: var(--border-width0);\n",
       "}\n",
       ".contnr.c1,.lbl.c1 {\n",
       "    border-color: var(--border-color1);\n",
       "    border-width: var(--border-width1);\n",
       "    border-radius: var(--border-width1);\n",
       "}\n",
       ".contnr.c2,.lbl.c2 {\n",
       "    border-color: var(--border-color2);\n",
       "    border-width: var(--border-width2);\n",
       "    border-radius: var(--border-width2);\n",
       "}\n",
       ".contnr.c3,.lbl.c3 {\n",
       "    border-color: var(--border-color3);\n",
       "    border-width: var(--border-width3);\n",
       "    border-radius: var(--border-width3);\n",
       "}\n",
       ".contnr.c4,.lbl.c4 {\n",
       "    border-color: var(--border-color4);\n",
       "    border-width: var(--border-width4);\n",
       "    border-radius: var(--border-width4);\n",
       "}\n",
       ".contnr.l,.contnr.l>.lbl {\n",
       "    border-left-style: dotted\n",
       "}\n",
       ".contnr.r,.contnr.r>.lbl {\n",
       "    border-right-style: dotted\n",
       "}\n",
       ".contnr.lno,.contnr.lno>.lbl {\n",
       "    border-left-style: none\n",
       "}\n",
       ".contnr.rno,.contnr.rno>.lbl {\n",
       "    border-right-style: none\n",
       "}\n",
       ".lbl {\n",
       "    font-family: monospace;\n",
       "    margin-top: -1.2rem;\n",
       "    margin-left: 1rem;\n",
       "    background: #ffffff none repeat scroll 0 0;\n",
       "    padding: 0 0.3rem;\n",
       "    border-style: solid;\n",
       "    display: block;\n",
       "    color: var(--label)\n",
       "}\n",
       ".lbl.trm {\n",
       "    background-attachment: local;\n",
       "    margin-top: 0.1rem;\n",
       "    margin-left: 0.1rem;\n",
       "    padding: 0.1rem 0.1rem;\n",
       "    border-style: none;\n",
       "}\n",
       ".lbl.cnul {\n",
       "    font-size: xx-small;\n",
       "}\n",
       ".lbl.c0 {\n",
       "    font-size: small;\n",
       "}\n",
       ".lbl.c1 {\n",
       "    font-size: small;\n",
       "}\n",
       ".lbl.c2 {\n",
       "    font-size: medium;\n",
       "}\n",
       ".lbl.c3 {\n",
       "    font-size: medium;\n",
       "}\n",
       ".lbl.c4 {\n",
       "    font-size: large;\n",
       "}\n",
       ".occs {\n",
       "    font-size: small;\n",
       "}\n",
       "\n",
       "/* PROVENANCE */\n",
       "\n",
       "div.prov {\n",
       "\tmargin: 2rem;\n",
       "\tpadding: 1rem;\n",
       "\tborder: 0.1rem solid var(--fog-rim);\n",
       "}\n",
       "div.pline {\n",
       "\tdisplay: flex;\n",
       "\tflex-flow: row nowrap;\n",
       "\tjustify-content: stretch;\n",
       "\talign-items: baseline;\n",
       "}\n",
       "div.p2line {\n",
       "\tmargin-left: 2em;\n",
       "\tdisplay: flex;\n",
       "\tflex-flow: row nowrap;\n",
       "\tjustify-content: stretch;\n",
       "\talign-items: baseline;\n",
       "}\n",
       "div.psline {\n",
       "\tdisplay: flex;\n",
       "\tflex-flow: row nowrap;\n",
       "\tjustify-content: stretch;\n",
       "\talign-items: baseline;\n",
       "\tbackground-color: var(--gold-mist-back);\n",
       "}\n",
       "div.pname {\n",
       "\tflex: 0 0 5rem;\n",
       "\tfont-weight: bold;\n",
       "}\n",
       "div.pval {\n",
       "    flex: 1 1 auto;\n",
       "}\n",
       "\n",
       ":root {\n",
       "\t--node:             hsla(120, 100%,  20%, 1.0  );\n",
       "\t--label:            hsla(  0, 100%,  20%, 1.0  );\n",
       "\t--section:          hsla(  0, 100%,  25%, 1.0  );\n",
       "\t--structure:        hsla(120, 100%,  25%, 1.0  );\n",
       "\t--features:         hsla(  0,   0%,  30%, 1.0  );\n",
       "  --text-color:       hsla( 60,  80%,  10%, 1.0  );\n",
       "  --lex-color:        hsla(220,  90%,  60%, 1.0  );\n",
       "  --meta-color:       hsla(  0,   0%,  90%, 0.7  );\n",
       "  --meta-width:       0.15rem;\n",
       "  --border-color-nul: hsla(  0,   0%,  90%, 0.5  );\n",
       "  --border-color-gap: hsla(  0,  50%,  70%, 1.0  );\n",
       "  --border-color0:    hsla(  0,   0%,  90%, 0.9  );\n",
       "  --border-color1:    hsla(  0,   0%,  80%, 0.9  );\n",
       "  --border-color2:    hsla(  0,   0%,  70%, 0.9  );\n",
       "  --border-color3:    hsla(  0,   0%,  80%, 0.8  );\n",
       "  --border-color4:    hsla(  0,   0%,  60%, 0.9  );\n",
       "  --border-width-nul: 0.1rem;\n",
       "  --border-width-gap: 0.1rem;\n",
       "  --border-width0:    0.1rem;\n",
       "  --border-width1:    0.15rem;\n",
       "  --border-width2:    0.2rem;\n",
       "  --border-width3:    0.3rem;\n",
       "  --border-width4:    0.25rem;\n",
       "}\n",
       ".hl {\n",
       "  background-color: var(--hl-strong);\n",
       "}\n",
       "span.hl {\n",
       "\tbackground-color: var(--hl-strong);\n",
       "\tborder-width: 0;\n",
       "\tborder-radius: 0.1rem;\n",
       "\tborder-style: solid;\n",
       "}\n",
       "div.contnr.hl,div.lbl.hl {\n",
       "  background-color: var(--hl-strong);\n",
       "}\n",
       "div.contnr.hl {\n",
       "  border-color: var(--hl-rim) ! important;\n",
       "\tborder-width: 0.2rem ! important;\n",
       "}\n",
       "\n",
       "span.hlbx {\n",
       "\tborder-color: var(--hl-rim);\n",
       "\tborder-width: 0.2rem;\n",
       "\tborder-style: solid;\n",
       "\tborder-radius: 0.3rem;\n",
       "  padding: 0.2rem;\n",
       "  margin: 0.2rem;\n",
       "}\n",
       "\n",
       "span.plain {\n",
       "  display: inline-block;\n",
       "  white-space: pre-wrap;\n",
       "}\n",
       "\n",
       ":root {\n",
       "\t--hl-strong:        hsla( 60, 100%,  70%, 0.9  );\n",
       "\t--hl-rim:           hsla( 55,  80%,  50%, 1.0  );\n",
       "}\n",
       ".pnum {\n",
       "    font-family: sans-serif;\n",
       "    font-size: small;\n",
       "    font-weight: bold;\n",
       "    color: #444444;\n",
       "}\n",
       ".op {\n",
       "    padding:  0.5em 0.1em 0.1em 0.1em;\n",
       "    margin: 0.8em 0.1em 0.1em 0.1em;\n",
       "    font-family: monospace;\n",
       "    font-size: x-large;\n",
       "    font-weight: bold;\n",
       "}\n",
       ".period {\n",
       "    font-family: monospace;\n",
       "    font-size: medium;\n",
       "    font-weight: bold;\n",
       "    color: #0000bb;\n",
       "}\n",
       ".comment {\n",
       "    color: #7777dd;\n",
       "    font-family: monospace;\n",
       "    font-size: small;\n",
       "}\n",
       ".operator {\n",
       "    color: #ff77ff;\n",
       "    font-size: large;\n",
       "}\n",
       "/* LANGUAGE: superscript and subscript */\n",
       "\n",
       "/* cluster */\n",
       ".det {\n",
       "    vertical-align: super;\n",
       "}\n",
       "/* cluster */\n",
       ".langalt {\n",
       "    vertical-align: sub;\n",
       "}\n",
       "/* REDACTIONAL: line over or under  */\n",
       "\n",
       "/* flag */\n",
       ".collated {\n",
       "    font-weight: bold;\n",
       "    text-decoration: underline;\n",
       "}\n",
       "/* cluster */\n",
       ".excised {\n",
       "    color: #dd0000;\n",
       "    text-decoration: line-through;\n",
       "}\n",
       "/* cluster */\n",
       ".supplied {\n",
       "    color: #0000ff;\n",
       "    text-decoration: overline;\n",
       "}\n",
       "/* flag */\n",
       ".remarkable {\n",
       "    font-weight: bold;\n",
       "    text-decoration: overline;\n",
       "}\n",
       "\n",
       "/* UNSURE: italic*/\n",
       "\n",
       "/* cluster */\n",
       ".uncertain {\n",
       "    font-style: italic\n",
       "}\n",
       "/* flag */\n",
       ".question {\n",
       "    font-weight: bold;\n",
       "    font-style: italic\n",
       "}\n",
       "\n",
       "/* BROKEN: text-shadow */\n",
       "\n",
       "/* cluster */\n",
       ".missing {\n",
       "    color: #999999;\n",
       "    text-shadow: #bbbbbb 1px 1px;\n",
       "}\n",
       "/* flag */\n",
       ".damage {\n",
       "    font-weight: bold;\n",
       "    color: #999999;\n",
       "    text-shadow: #bbbbbb 1px 1px;\n",
       "}\n",
       ".empty {\n",
       "  color: #ff0000;\n",
       "}\n",
       "\n",
       "</style>"
      ],
      "text/plain": [
       "<IPython.core.display.HTML object>"
      ]
     },
     "metadata": {},
     "output_type": "display_data"
    },
    {
     "data": {
      "text/html": [
       "<div><a target=\"_blank\" href=\"https://annotation.github.io/text-fabric/cheatsheet.html\" title=\"doc\">names N F E L T S C TF directly usable</a></div>"
      ],
      "text/plain": [
       "<IPython.core.display.HTML object>"
      ]
     },
     "metadata": {},
     "output_type": "display_data"
    }
   ],
   "source": [
    "A = use('oldbabylonian:clone', checkout=\"clone\", hoist=globals())\n",
    "# A = use('oldbabylonian', hoist=globals())"
   ]
  },
  {
   "cell_type": "markdown",
   "metadata": {},
   "source": [
    "# Making data\n",
    "\n",
    "We illustrate the data creation part by creating a new feature, `ummama`.\n",
    "The idea is that we mark every sign reading that occurs between `um-ma` and `ma` some where in the first 3 lines of a face.\n",
    "We want to mark every occurrence of such signs elsewhere in the corpus with `ummama=1`.\n",
    "\n",
    "We only do it if the sign between the `um-ma` and `ma` (which must be on the same line) is not missing, damaged, or questionable.\n",
    "\n",
    "The easiest way to get started is to run a query:"
   ]
  },
  {
   "cell_type": "code",
   "execution_count": 4,
   "metadata": {},
   "outputs": [],
   "source": [
    "query = '''\n",
    "line ln<4\n",
    "  =: sign reading=um missing# damage# question#\n",
    "  <: sign reading=ma missing# damage# question#\n",
    "% the next sign is the one that we are after\n",
    "  < sign missing# damage# question#\n",
    "  < sign reading=ma missing# damage# question#\n",
    "'''"
   ]
  },
  {
   "cell_type": "code",
   "execution_count": 5,
   "metadata": {},
   "outputs": [
    {
     "name": "stdout",
     "output_type": "stream",
     "text": [
      "  2.05s 3466 results\n"
     ]
    }
   ],
   "source": [
    "results = A.search(query)"
   ]
  },
  {
   "cell_type": "code",
   "execution_count": 6,
   "metadata": {},
   "outputs": [
    {
     "data": {
      "text/html": [
       "<table><tr class=\"tf\"><th class=\"tf\">n</th><th class=\"tf\">p</th><th class=\"tf\">line</th><th class=\"tf\">sign</th><th class=\"tf\">sign</th><th class=\"tf\">sign</th><th class=\"tf\">sign</th></tr>\n",
       "<tr class=\"tf\"><td class=\"tf\">1</td><td class=\"tf\"><span class=\"section ltr\"><a target=\"_blank\" href=\"https://cdli.ucla.edu/search/search_results.php?SearchMode=Text&amp;ObjectID=P509373\" title=\"Show this document on CDLI\" sec=\"P509373 obverse:3\">P509373 obverse:3</a></span></td><td class=\"tf\"><span class=\"plain outer   \" ><span class=\"plain txto \"></span><span class=\"plain     \" ><span class=\"plain txto \"></span><span class=\"plain     hlbx\" ><span class=\"txto\">um-</span></span><span class=\"plain     hlbx\" ><span class=\"txto\">ma </span></span></span><span class=\"plain     \" ><span class=\"plain txto \"></span><span class=\"plain     \" ><span class=\"plain txto \"></span><span class=\"plain     \" ><span class=\"plain txto \"></span><span class=\"plain     hlbx\" ><span class=\"txto\">_{d}</span></span></span><span class=\"plain     \" ><span class=\"txto\">en-</span></span><span class=\"plain     \" ><span class=\"txto\">lil2_-</span></span></span><span class=\"plain     \" ><span class=\"txto\">sza-</span></span><span class=\"plain     \" ><span class=\"txto\">du-</span></span><span class=\"plain     \" ><span class=\"txto\">u2-</span></span><span class=\"plain     \" ><span class=\"txto\">ni-</span></span><span class=\"plain     hlbx\" ><span class=\"txto\">ma</span></span></span></span></td><td class=\"tf\"><span class=\"plain outer   hlbx\" ><span class=\"txto\">um-</span></span></td><td class=\"tf\"><span class=\"plain outer   hlbx\" ><span class=\"txto\">ma </span></span></td><td class=\"tf\"><span class=\"plain outer   hlbx\" ><span class=\"txto\">_{d}</span></span></td><td class=\"tf\"><span class=\"plain outer   hlbx\" ><span class=\"txto\">ma</span></span></td></tr>\n",
       "<tr class=\"tf\"><td class=\"tf\">2</td><td class=\"tf\"><span class=\"section ltr\"><a target=\"_blank\" href=\"https://cdli.ucla.edu/search/search_results.php?SearchMode=Text&amp;ObjectID=P509373\" title=\"Show this document on CDLI\" sec=\"P509373 obverse:3\">P509373 obverse:3</a></span></td><td class=\"tf\"><span class=\"plain outer   \" ><span class=\"plain txto \"></span><span class=\"plain     \" ><span class=\"plain txto \"></span><span class=\"plain     hlbx\" ><span class=\"txto\">um-</span></span><span class=\"plain     hlbx\" ><span class=\"txto\">ma </span></span></span><span class=\"plain     \" ><span class=\"plain txto \"></span><span class=\"plain     \" ><span class=\"plain txto \"></span><span class=\"plain     \" ><span class=\"plain txto \"></span><span class=\"plain     \" ><span class=\"txto\">_{d}</span></span></span><span class=\"plain     hlbx\" ><span class=\"txto\">en-</span></span><span class=\"plain     \" ><span class=\"txto\">lil2_-</span></span></span><span class=\"plain     \" ><span class=\"txto\">sza-</span></span><span class=\"plain     \" ><span class=\"txto\">du-</span></span><span class=\"plain     \" ><span class=\"txto\">u2-</span></span><span class=\"plain     \" ><span class=\"txto\">ni-</span></span><span class=\"plain     hlbx\" ><span class=\"txto\">ma</span></span></span></span></td><td class=\"tf\"><span class=\"plain outer   hlbx\" ><span class=\"txto\">um-</span></span></td><td class=\"tf\"><span class=\"plain outer   hlbx\" ><span class=\"txto\">ma </span></span></td><td class=\"tf\"><span class=\"plain outer   hlbx\" ><span class=\"txto\">en-</span></span></td><td class=\"tf\"><span class=\"plain outer   hlbx\" ><span class=\"txto\">ma</span></span></td></tr>\n",
       "<tr class=\"tf\"><td class=\"tf\">3</td><td class=\"tf\"><span class=\"section ltr\"><a target=\"_blank\" href=\"https://cdli.ucla.edu/search/search_results.php?SearchMode=Text&amp;ObjectID=P509373\" title=\"Show this document on CDLI\" sec=\"P509373 obverse:3\">P509373 obverse:3</a></span></td><td class=\"tf\"><span class=\"plain outer   \" ><span class=\"plain txto \"></span><span class=\"plain     \" ><span class=\"plain txto \"></span><span class=\"plain     hlbx\" ><span class=\"txto\">um-</span></span><span class=\"plain     hlbx\" ><span class=\"txto\">ma </span></span></span><span class=\"plain     \" ><span class=\"plain txto \"></span><span class=\"plain     \" ><span class=\"plain txto \"></span><span class=\"plain     \" ><span class=\"plain txto \"></span><span class=\"plain     \" ><span class=\"txto\">_{d}</span></span></span><span class=\"plain     \" ><span class=\"txto\">en-</span></span><span class=\"plain     hlbx\" ><span class=\"txto\">lil2_-</span></span></span><span class=\"plain     \" ><span class=\"txto\">sza-</span></span><span class=\"plain     \" ><span class=\"txto\">du-</span></span><span class=\"plain     \" ><span class=\"txto\">u2-</span></span><span class=\"plain     \" ><span class=\"txto\">ni-</span></span><span class=\"plain     hlbx\" ><span class=\"txto\">ma</span></span></span></span></td><td class=\"tf\"><span class=\"plain outer   hlbx\" ><span class=\"txto\">um-</span></span></td><td class=\"tf\"><span class=\"plain outer   hlbx\" ><span class=\"txto\">ma </span></span></td><td class=\"tf\"><span class=\"plain outer   hlbx\" ><span class=\"txto\">lil2_-</span></span></td><td class=\"tf\"><span class=\"plain outer   hlbx\" ><span class=\"txto\">ma</span></span></td></tr>\n",
       "<tr class=\"tf\"><td class=\"tf\">4</td><td class=\"tf\"><span class=\"section ltr\"><a target=\"_blank\" href=\"https://cdli.ucla.edu/search/search_results.php?SearchMode=Text&amp;ObjectID=P509373\" title=\"Show this document on CDLI\" sec=\"P509373 obverse:3\">P509373 obverse:3</a></span></td><td class=\"tf\"><span class=\"plain outer   \" ><span class=\"plain txto \"></span><span class=\"plain     \" ><span class=\"plain txto \"></span><span class=\"plain     hlbx\" ><span class=\"txto\">um-</span></span><span class=\"plain     hlbx\" ><span class=\"txto\">ma </span></span></span><span class=\"plain     \" ><span class=\"plain txto \"></span><span class=\"plain     \" ><span class=\"plain txto \"></span><span class=\"plain     \" ><span class=\"plain txto \"></span><span class=\"plain     \" ><span class=\"txto\">_{d}</span></span></span><span class=\"plain     \" ><span class=\"txto\">en-</span></span><span class=\"plain     \" ><span class=\"txto\">lil2_-</span></span></span><span class=\"plain     hlbx\" ><span class=\"txto\">sza-</span></span><span class=\"plain     \" ><span class=\"txto\">du-</span></span><span class=\"plain     \" ><span class=\"txto\">u2-</span></span><span class=\"plain     \" ><span class=\"txto\">ni-</span></span><span class=\"plain     hlbx\" ><span class=\"txto\">ma</span></span></span></span></td><td class=\"tf\"><span class=\"plain outer   hlbx\" ><span class=\"txto\">um-</span></span></td><td class=\"tf\"><span class=\"plain outer   hlbx\" ><span class=\"txto\">ma </span></span></td><td class=\"tf\"><span class=\"plain outer   hlbx\" ><span class=\"txto\">sza-</span></span></td><td class=\"tf\"><span class=\"plain outer   hlbx\" ><span class=\"txto\">ma</span></span></td></tr>\n",
       "<tr class=\"tf\"><td class=\"tf\">5</td><td class=\"tf\"><span class=\"section ltr\"><a target=\"_blank\" href=\"https://cdli.ucla.edu/search/search_results.php?SearchMode=Text&amp;ObjectID=P509373\" title=\"Show this document on CDLI\" sec=\"P509373 obverse:3\">P509373 obverse:3</a></span></td><td class=\"tf\"><span class=\"plain outer   \" ><span class=\"plain txto \"></span><span class=\"plain     \" ><span class=\"plain txto \"></span><span class=\"plain     hlbx\" ><span class=\"txto\">um-</span></span><span class=\"plain     hlbx\" ><span class=\"txto\">ma </span></span></span><span class=\"plain     \" ><span class=\"plain txto \"></span><span class=\"plain     \" ><span class=\"plain txto \"></span><span class=\"plain     \" ><span class=\"plain txto \"></span><span class=\"plain     \" ><span class=\"txto\">_{d}</span></span></span><span class=\"plain     \" ><span class=\"txto\">en-</span></span><span class=\"plain     \" ><span class=\"txto\">lil2_-</span></span></span><span class=\"plain     \" ><span class=\"txto\">sza-</span></span><span class=\"plain     hlbx\" ><span class=\"txto\">du-</span></span><span class=\"plain     \" ><span class=\"txto\">u2-</span></span><span class=\"plain     \" ><span class=\"txto\">ni-</span></span><span class=\"plain     hlbx\" ><span class=\"txto\">ma</span></span></span></span></td><td class=\"tf\"><span class=\"plain outer   hlbx\" ><span class=\"txto\">um-</span></span></td><td class=\"tf\"><span class=\"plain outer   hlbx\" ><span class=\"txto\">ma </span></span></td><td class=\"tf\"><span class=\"plain outer   hlbx\" ><span class=\"txto\">du-</span></span></td><td class=\"tf\"><span class=\"plain outer   hlbx\" ><span class=\"txto\">ma</span></span></td></tr>\n",
       "<tr class=\"tf\"><td class=\"tf\">6</td><td class=\"tf\"><span class=\"section ltr\"><a target=\"_blank\" href=\"https://cdli.ucla.edu/search/search_results.php?SearchMode=Text&amp;ObjectID=P509373\" title=\"Show this document on CDLI\" sec=\"P509373 obverse:3\">P509373 obverse:3</a></span></td><td class=\"tf\"><span class=\"plain outer   \" ><span class=\"plain txto \"></span><span class=\"plain     \" ><span class=\"plain txto \"></span><span class=\"plain     hlbx\" ><span class=\"txto\">um-</span></span><span class=\"plain     hlbx\" ><span class=\"txto\">ma </span></span></span><span class=\"plain     \" ><span class=\"plain txto \"></span><span class=\"plain     \" ><span class=\"plain txto \"></span><span class=\"plain     \" ><span class=\"plain txto \"></span><span class=\"plain     \" ><span class=\"txto\">_{d}</span></span></span><span class=\"plain     \" ><span class=\"txto\">en-</span></span><span class=\"plain     \" ><span class=\"txto\">lil2_-</span></span></span><span class=\"plain     \" ><span class=\"txto\">sza-</span></span><span class=\"plain     \" ><span class=\"txto\">du-</span></span><span class=\"plain     hlbx\" ><span class=\"txto\">u2-</span></span><span class=\"plain     \" ><span class=\"txto\">ni-</span></span><span class=\"plain     hlbx\" ><span class=\"txto\">ma</span></span></span></span></td><td class=\"tf\"><span class=\"plain outer   hlbx\" ><span class=\"txto\">um-</span></span></td><td class=\"tf\"><span class=\"plain outer   hlbx\" ><span class=\"txto\">ma </span></span></td><td class=\"tf\"><span class=\"plain outer   hlbx\" ><span class=\"txto\">u2-</span></span></td><td class=\"tf\"><span class=\"plain outer   hlbx\" ><span class=\"txto\">ma</span></span></td></tr>\n",
       "<tr class=\"tf\"><td class=\"tf\">7</td><td class=\"tf\"><span class=\"section ltr\"><a target=\"_blank\" href=\"https://cdli.ucla.edu/search/search_results.php?SearchMode=Text&amp;ObjectID=P509373\" title=\"Show this document on CDLI\" sec=\"P509373 obverse:3\">P509373 obverse:3</a></span></td><td class=\"tf\"><span class=\"plain outer   \" ><span class=\"plain txto \"></span><span class=\"plain     \" ><span class=\"plain txto \"></span><span class=\"plain     hlbx\" ><span class=\"txto\">um-</span></span><span class=\"plain     hlbx\" ><span class=\"txto\">ma </span></span></span><span class=\"plain     \" ><span class=\"plain txto \"></span><span class=\"plain     \" ><span class=\"plain txto \"></span><span class=\"plain     \" ><span class=\"plain txto \"></span><span class=\"plain     \" ><span class=\"txto\">_{d}</span></span></span><span class=\"plain     \" ><span class=\"txto\">en-</span></span><span class=\"plain     \" ><span class=\"txto\">lil2_-</span></span></span><span class=\"plain     \" ><span class=\"txto\">sza-</span></span><span class=\"plain     \" ><span class=\"txto\">du-</span></span><span class=\"plain     \" ><span class=\"txto\">u2-</span></span><span class=\"plain     hlbx\" ><span class=\"txto\">ni-</span></span><span class=\"plain     hlbx\" ><span class=\"txto\">ma</span></span></span></span></td><td class=\"tf\"><span class=\"plain outer   hlbx\" ><span class=\"txto\">um-</span></span></td><td class=\"tf\"><span class=\"plain outer   hlbx\" ><span class=\"txto\">ma </span></span></td><td class=\"tf\"><span class=\"plain outer   hlbx\" ><span class=\"txto\">ni-</span></span></td><td class=\"tf\"><span class=\"plain outer   hlbx\" ><span class=\"txto\">ma</span></span></td></tr>\n",
       "<tr class=\"tf\"><td class=\"tf\">8</td><td class=\"tf\"><span class=\"section ltr\"><a target=\"_blank\" href=\"https://cdli.ucla.edu/search/search_results.php?SearchMode=Text&amp;ObjectID=P481190\" title=\"Show this document on CDLI\" sec=\"P481190 obverse:3\">P481190 obverse:3</a></span></td><td class=\"tf\"><span class=\"plain outer   \" ><span class=\"plain txto \"></span><span class=\"plain     \" ><span class=\"plain txto \"></span><span class=\"plain     hlbx\" ><span class=\"txto\">um-</span></span><span class=\"plain     hlbx\" ><span class=\"txto\">ma </span></span></span><span class=\"plain     \" ><span class=\"plain txto \"></span><span class=\"plain     \" ><span class=\"txto\">nu#-</span></span><span class=\"plain     \" ><span class=\"txto\">ur2#-</span></span><span class=\"plain     hlbx\" ><span class=\"txto\">i3-</span></span><span class=\"plain     \" ><span class=\"txto\">li2-</span></span><span class=\"plain     \" ><span class=\"txto\">szu-</span></span><span class=\"plain     hlbx\" ><span class=\"txto\">ma</span></span></span></span></td><td class=\"tf\"><span class=\"plain outer   hlbx\" ><span class=\"txto\">um-</span></span></td><td class=\"tf\"><span class=\"plain outer   hlbx\" ><span class=\"txto\">ma </span></span></td><td class=\"tf\"><span class=\"plain outer   hlbx\" ><span class=\"txto\">i3-</span></span></td><td class=\"tf\"><span class=\"plain outer   hlbx\" ><span class=\"txto\">ma</span></span></td></tr>\n",
       "<tr class=\"tf\"><td class=\"tf\">9</td><td class=\"tf\"><span class=\"section ltr\"><a target=\"_blank\" href=\"https://cdli.ucla.edu/search/search_results.php?SearchMode=Text&amp;ObjectID=P481190\" title=\"Show this document on CDLI\" sec=\"P481190 obverse:3\">P481190 obverse:3</a></span></td><td class=\"tf\"><span class=\"plain outer   \" ><span class=\"plain txto \"></span><span class=\"plain     \" ><span class=\"plain txto \"></span><span class=\"plain     hlbx\" ><span class=\"txto\">um-</span></span><span class=\"plain     hlbx\" ><span class=\"txto\">ma </span></span></span><span class=\"plain     \" ><span class=\"plain txto \"></span><span class=\"plain     \" ><span class=\"txto\">nu#-</span></span><span class=\"plain     \" ><span class=\"txto\">ur2#-</span></span><span class=\"plain     \" ><span class=\"txto\">i3-</span></span><span class=\"plain     hlbx\" ><span class=\"txto\">li2-</span></span><span class=\"plain     \" ><span class=\"txto\">szu-</span></span><span class=\"plain     hlbx\" ><span class=\"txto\">ma</span></span></span></span></td><td class=\"tf\"><span class=\"plain outer   hlbx\" ><span class=\"txto\">um-</span></span></td><td class=\"tf\"><span class=\"plain outer   hlbx\" ><span class=\"txto\">ma </span></span></td><td class=\"tf\"><span class=\"plain outer   hlbx\" ><span class=\"txto\">li2-</span></span></td><td class=\"tf\"><span class=\"plain outer   hlbx\" ><span class=\"txto\">ma</span></span></td></tr>\n",
       "<tr class=\"tf\"><td class=\"tf\">10</td><td class=\"tf\"><span class=\"section ltr\"><a target=\"_blank\" href=\"https://cdli.ucla.edu/search/search_results.php?SearchMode=Text&amp;ObjectID=P481190\" title=\"Show this document on CDLI\" sec=\"P481190 obverse:3\">P481190 obverse:3</a></span></td><td class=\"tf\"><span class=\"plain outer   \" ><span class=\"plain txto \"></span><span class=\"plain     \" ><span class=\"plain txto \"></span><span class=\"plain     hlbx\" ><span class=\"txto\">um-</span></span><span class=\"plain     hlbx\" ><span class=\"txto\">ma </span></span></span><span class=\"plain     \" ><span class=\"plain txto \"></span><span class=\"plain     \" ><span class=\"txto\">nu#-</span></span><span class=\"plain     \" ><span class=\"txto\">ur2#-</span></span><span class=\"plain     \" ><span class=\"txto\">i3-</span></span><span class=\"plain     \" ><span class=\"txto\">li2-</span></span><span class=\"plain     hlbx\" ><span class=\"txto\">szu-</span></span><span class=\"plain     hlbx\" ><span class=\"txto\">ma</span></span></span></span></td><td class=\"tf\"><span class=\"plain outer   hlbx\" ><span class=\"txto\">um-</span></span></td><td class=\"tf\"><span class=\"plain outer   hlbx\" ><span class=\"txto\">ma </span></span></td><td class=\"tf\"><span class=\"plain outer   hlbx\" ><span class=\"txto\">szu-</span></span></td><td class=\"tf\"><span class=\"plain outer   hlbx\" ><span class=\"txto\">ma</span></span></td></tr></table>"
      ],
      "text/plain": [
       "<IPython.core.display.HTML object>"
      ]
     },
     "metadata": {},
     "output_type": "display_data"
    }
   ],
   "source": [
    "A.table(results, end=10)"
   ]
  },
  {
   "cell_type": "markdown",
   "metadata": {},
   "source": [
    "Observe how the signs between `um-ma` and `ma` are picked up, except the damaged `nu` and `ur2`.\n",
    "\n",
    "First we are collect these readings, and survey the frequencies in the result.\n",
    "\n",
    "Some signs do not have a reading, but then they have a grapheme.\n",
    "If they do not have a grapheme, they might be comment signs, and we skip them."
   ]
  },
  {
   "cell_type": "code",
   "execution_count": 7,
   "metadata": {},
   "outputs": [
    {
     "name": "stdout",
     "output_type": "stream",
     "text": [
      "Found 249 distinct readings\n",
      "d       324 x\n",
      "a       133 x\n",
      "ra      128 x\n",
      "mu      123 x\n",
      "am      112 x\n",
      "ha       99 x\n",
      "na       95 x\n",
      "pi2      94 x\n",
      "suen     78 x\n",
      "i        66 x\n",
      "ni       66 x\n",
      "szu      66 x\n",
      "utu      61 x\n",
      "um       59 x\n",
      "li2      55 x\n",
      "tum      55 x\n",
      "ma       50 x\n",
      "marduk   50 x\n",
      "bi       46 x\n",
      "nu       43 x\n",
      " ... and 229 more ...\n"
     ]
    }
   ],
   "source": [
    "umaReadings = collections.Counter()\n",
    "\n",
    "# collect\n",
    "\n",
    "for (line, um, ma1, sign, ma2) in results:\n",
    "  reading = F.reading.v(sign) or F.grapheme.v(sign)\n",
    "  if not reading:\n",
    "    continue\n",
    "  umaReadings[reading] += 1\n",
    "  \n",
    "# show\n",
    "\n",
    "print(f'Found {len(umaReadings)} distinct readings')\n",
    "limit = 20\n",
    "\n",
    "for (reading, amount) in sorted(\n",
    "  umaReadings.items(),\n",
    "  key=lambda x: (-x[1], x[0]),\n",
    ")[0:limit]:\n",
    "  print(f'{reading:<6} {amount:>4} x')\n",
    "print(f' ... and {len(umaReadings) - limit} more ...')"
   ]
  },
  {
   "cell_type": "markdown",
   "metadata": {},
   "source": [
    "Now we visit all signs in the whole corpus and check whether their reading or grapheme is in this set.\n",
    "If so, we give that sign a value 1 in the dictionary `ummama`."
   ]
  },
  {
   "cell_type": "code",
   "execution_count": 8,
   "metadata": {},
   "outputs": [
    {
     "name": "stdout",
     "output_type": "stream",
     "text": [
      "Assigned `ummama=1` to 182221 sign occurrences out of 203219\n"
     ]
    }
   ],
   "source": [
    "ummama = {}\n",
    "\n",
    "allSigns = F.otype.s('sign')\n",
    "\n",
    "for s in allSigns:\n",
    "  reading = F.reading.v(s) or F.grapheme.v(s)\n",
    "  if not reading:\n",
    "    continue\n",
    "  if reading in umaReadings:\n",
    "    ummama[s] = 1\n",
    "    \n",
    "print(f'Assigned `ummama=1` to {len(ummama)} sign occurrences out of {len(allSigns)}')"
   ]
  },
  {
   "cell_type": "markdown",
   "metadata": {},
   "source": [
    "Note that the majority of all signs also occurs between `um-ma` and `ma` at the start of a document.\n",
    "\n",
    "Maybe this is an indication that we are not capturing the idea of selecting specific signs,\n",
    "we may have to strengthen our search criterion.\n",
    "\n",
    "But that is beyond this tutorial. We suppose these ummama words form a valueable set that we want to share."
   ]
  },
  {
   "cell_type": "markdown",
   "metadata": {},
   "source": [
    "# Saving data\n",
    "\n",
    "The [documentation](https://annotation.github.io/text-fabric/Api/Fabric/#saving-features) explains how to save this data into a text-fabric\n",
    "data file.\n",
    "\n",
    "We choose a location where to save it, the `exercises` repository in the `Nino-cunei` organization, in the folder `analysis`. \n",
    "\n",
    "In order to do this, we restart the TF api, but now with the desired output location in the `locations` parameter."
   ]
  },
  {
   "cell_type": "code",
   "execution_count": 9,
   "metadata": {},
   "outputs": [],
   "source": [
    "import os"
   ]
  },
  {
   "cell_type": "code",
   "execution_count": 10,
   "metadata": {},
   "outputs": [],
   "source": [
    "GITHUB = os.path.expanduser('~/github')\n",
    "ORG = 'Nino-cunei'\n",
    "REPO = 'exercises'\n",
    "PATH = 'analysis'\n",
    "VERSION = A.version"
   ]
  },
  {
   "cell_type": "markdown",
   "metadata": {},
   "source": [
    "Note the version: we have built the version against a specific version of the data:"
   ]
  },
  {
   "cell_type": "code",
   "execution_count": 11,
   "metadata": {},
   "outputs": [
    {
     "data": {
      "text/plain": [
       "'1.0.5'"
      ]
     },
     "execution_count": 11,
     "metadata": {},
     "output_type": "execute_result"
    }
   ],
   "source": [
    "A.version"
   ]
  },
  {
   "cell_type": "markdown",
   "metadata": {},
   "source": [
    "Later on, we pass this version on, so that users of our data will get the shared data in exactly the same version as their core data."
   ]
  },
  {
   "cell_type": "markdown",
   "metadata": {},
   "source": [
    "We have to specify a bit of metadata for this feature:"
   ]
  },
  {
   "cell_type": "code",
   "execution_count": 12,
   "metadata": {},
   "outputs": [],
   "source": [
    "metaData = {\n",
    "  'ummama': dict(\n",
    "    valueType='int',\n",
    "    description='reading occurs somewhere between um-ma and ma',\n",
    "    creator='Dirk Roorda',\n",
    "  ),\n",
    "}"
   ]
  },
  {
   "cell_type": "markdown",
   "metadata": {},
   "source": [
    "Now we can give the save command:"
   ]
  },
  {
   "cell_type": "code",
   "execution_count": 13,
   "metadata": {},
   "outputs": [
    {
     "name": "stdout",
     "output_type": "stream",
     "text": [
      "  0.00s Exporting 1 node and 0 edge and 0 config features to ~/github/Nino-cunei/exercises/analysis/tf/1.0.5:\n",
      "   |     0.23s T ummama               to ~/github/Nino-cunei/exercises/analysis/tf/1.0.5\n",
      "  0.24s Exported 1 node features and 0 edge features and 0 config features to ~/github/Nino-cunei/exercises/analysis/tf/1.0.5\n"
     ]
    },
    {
     "data": {
      "text/plain": [
       "True"
      ]
     },
     "execution_count": 13,
     "metadata": {},
     "output_type": "execute_result"
    }
   ],
   "source": [
    "TF.save(nodeFeatures=dict(ummama=ummama), metaData=metaData, location=f'{GITHUB}/{ORG}/{REPO}/{PATH}/tf', module=VERSION)"
   ]
  },
  {
   "cell_type": "markdown",
   "metadata": {},
   "source": [
    "# Sharing data\n",
    "\n",
    "How to share your own data is explained in the\n",
    "[documentation](https://annotation.github.io/text-fabric/Api/Data/).\n",
    "\n",
    "Here we show it step by step for the `ummama` feature.\n",
    "\n",
    "If you commit your changes to the exercises repo, and have done a `git push origin master`,\n",
    "you already have shared your data!\n",
    "\n",
    "If you want to make a stable release, so that you can keep developing, while your users fall back\n",
    "on the stable data, you can make a new release.\n",
    "\n",
    "Go to the GitHub website for that, go to your repo, and click *Releases* and follow the nudges.\n",
    "\n",
    "If you want to make it even smoother for your users, you can zip the data and attach it as a binary to the release just created.\n",
    "\n",
    "We need to zip the data in exactly the right directory structure. Text-Fabric can do that for us:"
   ]
  },
  {
   "cell_type": "code",
   "execution_count": 14,
   "metadata": {},
   "outputs": [
    {
     "name": "stdout",
     "output_type": "stream",
     "text": [
      "True\n",
      "Create release data for Nino-cunei/exercises/analysis/tf\n",
      "Found 3 versions\n",
      "zip files end up in ~/Downloads/Nino-cunei-release/exercises\n",
      "zipping Nino-cunei/exercises      1.0.1 with   1 features ==> analysis-tf-1.0.1.zip\n",
      "zipping Nino-cunei/exercises      1.0.4 with   1 features ==> analysis-tf-1.0.4.zip\n",
      "zipping Nino-cunei/exercises      1.0.5 with   1 features ==> analysis-tf-1.0.5.zip\n"
     ]
    }
   ],
   "source": [
    "%%sh\n",
    "\n",
    "text-fabric-zip Nino-cunei/exercises/analysis/tf"
   ]
  },
  {
   "cell_type": "markdown",
   "metadata": {},
   "source": [
    "All versions have been zipped, but it works OK if you only attach the newest version to the newest release.\n",
    "\n",
    "If a user asks for an older version in this release, the system can still find it."
   ]
  },
  {
   "cell_type": "markdown",
   "metadata": {},
   "source": [
    "Here is the result for our case\n",
    "\n",
    "![ummama](images/ummama.png)"
   ]
  },
  {
   "cell_type": "markdown",
   "metadata": {},
   "source": [
    "# Use the data\n",
    "\n",
    "We can use the data by calling it up when we say `use('oldbabylonian', ...)`.\n",
    "\n",
    "Here is how:"
   ]
  },
  {
   "cell_type": "code",
   "execution_count": 15,
   "metadata": {},
   "outputs": [
    {
     "name": "stdout",
     "output_type": "stream",
     "text": [
      "Using TF-app in ~/github/annotation/app-oldbabylonian/code:\n",
      "\trepo clone offline under ~/github (local github)\n",
      "Using data in ~/github/Nino-cunei/oldbabylonian/tf/1.0.5:\n",
      "\trepo clone offline under ~/github (local github)\n",
      "Using data in ~/github/Nino-cunei/exercises/analysis/tf/1.0.5:\n",
      "\trepo clone offline under ~/github (local github)\n",
      "   |     0.00s Dataset without structure sections in otext:no structure functions in the T-API\n",
      "   |     0.30s T ummama               from ~/github/Nino-cunei/exercises/analysis/tf/1.0.5\n"
     ]
    },
    {
     "data": {
      "text/html": [
       "<b>Documentation:</b> <a target=\"_blank\" href=\"https://github.com/Nino-cunei/oldbabylonian/blob/master/docs/about.md\" title=\"provenance of Old Babylonian Letters 1900-1600: Cuneiform tablets \">OLDBABYLONIAN</a> <a target=\"_blank\" href=\"https://github.com/Nino-cunei/oldbabylonian/blob/master/docs/programs/mapReadings.ipynb\" title=\"mapping from readings to UNICODE\">Character table</a> <a target=\"_blank\" href=\"https://github.com/Nino-cunei/oldbabylonian/blob/master/docs/transcription.md\" title=\"OLDBABYLONIAN feature documentation\">Feature docs</a> <a target=\"_blank\" href=\"https://github.com/annotation/app-oldbabylonian\" title=\"oldbabylonian API documentation\">oldbabylonian API</a> <a target=\"_blank\" href=\"https://annotation.github.io/text-fabric/cheatsheet.html\" title=\"text-fabric-api\">Text-Fabric API 8.2.0</a> <a target=\"_blank\" href=\"https://annotation.github.io/text-fabric/about/searchusage.html\" title=\"Search Templates Introduction and Reference\">Search Reference</a><details open><summary><b>Loaded features</b>:</summary>\n",
       "<p><b>Nino-cunei/exercises/analysis/tf</b>: <a target=\"_blank\" href=\"https://github.com/Nino-cunei/exercises/tree/master/analysis/tf\" title=\"~/github/Nino-cunei/exercises/analysis/tf/1.0.5/ummama.tf\">ummama</a> </p><p><b>Old Babylonian Letters 1900-1600: Cuneiform tablets </b>: <a target=\"_blank\" href=\"https://github.com/Nino-cunei/oldbabylonian/blob/master/docs/transcription.md\" title=\"~/github/Nino-cunei/oldbabylonian/tf/1.0.5/ARK.tf\">ARK</a>  <a target=\"_blank\" href=\"https://github.com/Nino-cunei/oldbabylonian/blob/master/docs/transcription.md\" title=\"~/github/Nino-cunei/oldbabylonian/tf/1.0.5/after.tf\">after</a>  <a target=\"_blank\" href=\"https://github.com/Nino-cunei/oldbabylonian/blob/master/docs/transcription.md\" title=\"~/github/Nino-cunei/oldbabylonian/tf/1.0.5/afterr.tf\">afterr</a>  <a target=\"_blank\" href=\"https://github.com/Nino-cunei/oldbabylonian/blob/master/docs/transcription.md\" title=\"~/github/Nino-cunei/oldbabylonian/tf/1.0.5/afteru.tf\">afteru</a>  <a target=\"_blank\" href=\"https://github.com/Nino-cunei/oldbabylonian/blob/master/docs/transcription.md\" title=\"~/github/Nino-cunei/oldbabylonian/tf/1.0.5/atf.tf\">atf</a>  <a target=\"_blank\" href=\"https://github.com/Nino-cunei/oldbabylonian/blob/master/docs/transcription.md\" title=\"~/github/Nino-cunei/oldbabylonian/tf/1.0.5/atfpost.tf\">atfpost</a>  <a target=\"_blank\" href=\"https://github.com/Nino-cunei/oldbabylonian/blob/master/docs/transcription.md\" title=\"~/github/Nino-cunei/oldbabylonian/tf/1.0.5/atfpre.tf\">atfpre</a>  <a target=\"_blank\" href=\"https://github.com/Nino-cunei/oldbabylonian/blob/master/docs/transcription.md\" title=\"~/github/Nino-cunei/oldbabylonian/tf/1.0.5/author.tf\">author</a>  <a target=\"_blank\" href=\"https://github.com/Nino-cunei/oldbabylonian/blob/master/docs/transcription.md\" title=\"~/github/Nino-cunei/oldbabylonian/tf/1.0.5/col.tf\">col</a>  <a target=\"_blank\" href=\"https://github.com/Nino-cunei/oldbabylonian/blob/master/docs/transcription.md\" title=\"~/github/Nino-cunei/oldbabylonian/tf/1.0.5/collated.tf\">collated</a>  <a target=\"_blank\" href=\"https://github.com/Nino-cunei/oldbabylonian/blob/master/docs/transcription.md\" title=\"~/github/Nino-cunei/oldbabylonian/tf/1.0.5/collection.tf\">collection</a>  <a target=\"_blank\" href=\"https://github.com/Nino-cunei/oldbabylonian/blob/master/docs/transcription.md\" title=\"~/github/Nino-cunei/oldbabylonian/tf/1.0.5/comment.tf\">comment</a>  <a target=\"_blank\" href=\"https://github.com/Nino-cunei/oldbabylonian/blob/master/docs/transcription.md\" title=\"~/github/Nino-cunei/oldbabylonian/tf/1.0.5/damage.tf\">damage</a>  <a target=\"_blank\" href=\"https://github.com/Nino-cunei/oldbabylonian/blob/master/docs/transcription.md\" title=\"~/github/Nino-cunei/oldbabylonian/tf/1.0.5/det.tf\">det</a>  <a target=\"_blank\" href=\"https://github.com/Nino-cunei/oldbabylonian/blob/master/docs/transcription.md\" title=\"~/github/Nino-cunei/oldbabylonian/tf/1.0.5/docnote.tf\">docnote</a>  <a target=\"_blank\" href=\"https://github.com/Nino-cunei/oldbabylonian/blob/master/docs/transcription.md\" title=\"~/github/Nino-cunei/oldbabylonian/tf/1.0.5/docnumber.tf\">docnumber</a>  <a target=\"_blank\" href=\"https://github.com/Nino-cunei/oldbabylonian/blob/master/docs/transcription.md\" title=\"~/github/Nino-cunei/oldbabylonian/tf/1.0.5/excavation.tf\">excavation</a>  <a target=\"_blank\" href=\"https://github.com/Nino-cunei/oldbabylonian/blob/master/docs/transcription.md\" title=\"~/github/Nino-cunei/oldbabylonian/tf/1.0.5/excised.tf\">excised</a>  <a target=\"_blank\" href=\"https://github.com/Nino-cunei/oldbabylonian/blob/master/docs/transcription.md\" title=\"~/github/Nino-cunei/oldbabylonian/tf/1.0.5/face.tf\">face</a>  <a target=\"_blank\" href=\"https://github.com/Nino-cunei/oldbabylonian/blob/master/docs/transcription.md\" title=\"~/github/Nino-cunei/oldbabylonian/tf/1.0.5/flags.tf\">flags</a>  <a target=\"_blank\" href=\"https://github.com/Nino-cunei/oldbabylonian/blob/master/docs/transcription.md\" title=\"~/github/Nino-cunei/oldbabylonian/tf/1.0.5/fraction.tf\">fraction</a>  <a target=\"_blank\" href=\"https://github.com/Nino-cunei/oldbabylonian/blob/master/docs/transcription.md\" title=\"~/github/Nino-cunei/oldbabylonian/tf/1.0.5/genre.tf\">genre</a>  <a target=\"_blank\" href=\"https://github.com/Nino-cunei/oldbabylonian/blob/master/docs/transcription.md\" title=\"~/github/Nino-cunei/oldbabylonian/tf/1.0.5/grapheme.tf\">grapheme</a>  <a target=\"_blank\" href=\"https://github.com/Nino-cunei/oldbabylonian/blob/master/docs/transcription.md\" title=\"~/github/Nino-cunei/oldbabylonian/tf/1.0.5/graphemer.tf\">graphemer</a>  <a target=\"_blank\" href=\"https://github.com/Nino-cunei/oldbabylonian/blob/master/docs/transcription.md\" title=\"~/github/Nino-cunei/oldbabylonian/tf/1.0.5/graphemeu.tf\">graphemeu</a>  <a target=\"_blank\" href=\"https://github.com/Nino-cunei/oldbabylonian/blob/master/docs/transcription.md\" title=\"~/github/Nino-cunei/oldbabylonian/tf/1.0.5/lang.tf\">lang</a>  <a target=\"_blank\" href=\"https://github.com/Nino-cunei/oldbabylonian/blob/master/docs/transcription.md\" title=\"~/github/Nino-cunei/oldbabylonian/tf/1.0.5/langalt.tf\">langalt</a>  <a target=\"_blank\" href=\"https://github.com/Nino-cunei/oldbabylonian/blob/master/docs/transcription.md\" title=\"~/github/Nino-cunei/oldbabylonian/tf/1.0.5/ln.tf\">ln</a>  <a target=\"_blank\" href=\"https://github.com/Nino-cunei/oldbabylonian/blob/master/docs/transcription.md\" title=\"~/github/Nino-cunei/oldbabylonian/tf/1.0.5/lnc.tf\">lnc</a>  <a target=\"_blank\" href=\"https://github.com/Nino-cunei/oldbabylonian/blob/master/docs/transcription.md\" title=\"~/github/Nino-cunei/oldbabylonian/tf/1.0.5/lnno.tf\">lnno</a>  <a target=\"_blank\" href=\"https://github.com/Nino-cunei/oldbabylonian/blob/master/docs/transcription.md\" title=\"~/github/Nino-cunei/oldbabylonian/tf/1.0.5/material.tf\">material</a>  <a target=\"_blank\" href=\"https://github.com/Nino-cunei/oldbabylonian/blob/master/docs/transcription.md\" title=\"~/github/Nino-cunei/oldbabylonian/tf/1.0.5/missing.tf\">missing</a>  <a target=\"_blank\" href=\"https://github.com/Nino-cunei/oldbabylonian/blob/master/docs/transcription.md\" title=\"~/github/Nino-cunei/oldbabylonian/tf/1.0.5/museumcode.tf\">museumcode</a>  <a target=\"_blank\" href=\"https://github.com/Nino-cunei/oldbabylonian/blob/master/docs/transcription.md\" title=\"~/github/Nino-cunei/oldbabylonian/tf/1.0.5/museumname.tf\">museumname</a>  <a target=\"_blank\" href=\"https://github.com/Nino-cunei/oldbabylonian/blob/master/docs/transcription.md\" title=\"~/github/Nino-cunei/oldbabylonian/tf/1.0.5/object.tf\">object</a>  <a target=\"_blank\" href=\"https://github.com/Nino-cunei/oldbabylonian/blob/master/docs/transcription.md\" title=\"~/github/Nino-cunei/oldbabylonian/tf/1.0.5/operator.tf\">operator</a>  <a target=\"_blank\" href=\"https://github.com/Nino-cunei/oldbabylonian/blob/master/docs/transcription.md\" title=\"~/github/Nino-cunei/oldbabylonian/tf/1.0.5/operatorr.tf\">operatorr</a>  <a target=\"_blank\" href=\"https://github.com/Nino-cunei/oldbabylonian/blob/master/docs/transcription.md\" title=\"~/github/Nino-cunei/oldbabylonian/tf/1.0.5/operatoru.tf\">operatoru</a>  <a target=\"_blank\" href=\"https://github.com/Nino-cunei/oldbabylonian/blob/master/docs/transcription.md\" title=\"~/github/Nino-cunei/oldbabylonian/tf/1.0.5/otype.tf\">otype</a>  <a target=\"_blank\" href=\"https://github.com/Nino-cunei/oldbabylonian/blob/master/docs/transcription.md\" title=\"~/github/Nino-cunei/oldbabylonian/tf/1.0.5/period.tf\">period</a>  <a target=\"_blank\" href=\"https://github.com/Nino-cunei/oldbabylonian/blob/master/docs/transcription.md\" title=\"~/github/Nino-cunei/oldbabylonian/tf/1.0.5/pnumber.tf\">pnumber</a>  <a target=\"_blank\" href=\"https://github.com/Nino-cunei/oldbabylonian/blob/master/docs/transcription.md\" title=\"~/github/Nino-cunei/oldbabylonian/tf/1.0.5/primecol.tf\">primecol</a>  <a target=\"_blank\" href=\"https://github.com/Nino-cunei/oldbabylonian/blob/master/docs/transcription.md\" title=\"~/github/Nino-cunei/oldbabylonian/tf/1.0.5/primeln.tf\">primeln</a>  <a target=\"_blank\" href=\"https://github.com/Nino-cunei/oldbabylonian/blob/master/docs/transcription.md\" title=\"~/github/Nino-cunei/oldbabylonian/tf/1.0.5/pubdate.tf\">pubdate</a>  <a target=\"_blank\" href=\"https://github.com/Nino-cunei/oldbabylonian/blob/master/docs/transcription.md\" title=\"~/github/Nino-cunei/oldbabylonian/tf/1.0.5/question.tf\">question</a>  <a target=\"_blank\" href=\"https://github.com/Nino-cunei/oldbabylonian/blob/master/docs/transcription.md\" title=\"~/github/Nino-cunei/oldbabylonian/tf/1.0.5/reading.tf\">reading</a>  <a target=\"_blank\" href=\"https://github.com/Nino-cunei/oldbabylonian/blob/master/docs/transcription.md\" title=\"~/github/Nino-cunei/oldbabylonian/tf/1.0.5/readingr.tf\">readingr</a>  <a target=\"_blank\" href=\"https://github.com/Nino-cunei/oldbabylonian/blob/master/docs/transcription.md\" title=\"~/github/Nino-cunei/oldbabylonian/tf/1.0.5/readingu.tf\">readingu</a>  <a target=\"_blank\" href=\"https://github.com/Nino-cunei/oldbabylonian/blob/master/docs/transcription.md\" title=\"~/github/Nino-cunei/oldbabylonian/tf/1.0.5/remarkable.tf\">remarkable</a>  <a target=\"_blank\" href=\"https://github.com/Nino-cunei/oldbabylonian/blob/master/docs/transcription.md\" title=\"~/github/Nino-cunei/oldbabylonian/tf/1.0.5/remarks.tf\">remarks</a>  <a target=\"_blank\" href=\"https://github.com/Nino-cunei/oldbabylonian/blob/master/docs/transcription.md\" title=\"~/github/Nino-cunei/oldbabylonian/tf/1.0.5/repeat.tf\">repeat</a>  <a target=\"_blank\" href=\"https://github.com/Nino-cunei/oldbabylonian/blob/master/docs/transcription.md\" title=\"~/github/Nino-cunei/oldbabylonian/tf/1.0.5/srcLn.tf\">srcLn</a>  <a target=\"_blank\" href=\"https://github.com/Nino-cunei/oldbabylonian/blob/master/docs/transcription.md\" title=\"~/github/Nino-cunei/oldbabylonian/tf/1.0.5/srcLnNum.tf\">srcLnNum</a>  <a target=\"_blank\" href=\"https://github.com/Nino-cunei/oldbabylonian/blob/master/docs/transcription.md\" title=\"~/github/Nino-cunei/oldbabylonian/tf/1.0.5/srcfile.tf\">srcfile</a>  <a target=\"_blank\" href=\"https://github.com/Nino-cunei/oldbabylonian/blob/master/docs/transcription.md\" title=\"~/github/Nino-cunei/oldbabylonian/tf/1.0.5/subgenre.tf\">subgenre</a>  <a target=\"_blank\" href=\"https://github.com/Nino-cunei/oldbabylonian/blob/master/docs/transcription.md\" title=\"~/github/Nino-cunei/oldbabylonian/tf/1.0.5/supplied.tf\">supplied</a>  <a target=\"_blank\" href=\"https://github.com/Nino-cunei/oldbabylonian/blob/master/docs/transcription.md\" title=\"~/github/Nino-cunei/oldbabylonian/tf/1.0.5/sym.tf\">sym</a>  <a target=\"_blank\" href=\"https://github.com/Nino-cunei/oldbabylonian/blob/master/docs/transcription.md\" title=\"~/github/Nino-cunei/oldbabylonian/tf/1.0.5/symr.tf\">symr</a>  <a target=\"_blank\" href=\"https://github.com/Nino-cunei/oldbabylonian/blob/master/docs/transcription.md\" title=\"~/github/Nino-cunei/oldbabylonian/tf/1.0.5/symu.tf\">symu</a>  <a target=\"_blank\" href=\"https://github.com/Nino-cunei/oldbabylonian/blob/master/docs/transcription.md\" title=\"~/github/Nino-cunei/oldbabylonian/tf/1.0.5/trans.tf\">trans</a>  <a target=\"_blank\" href=\"https://github.com/Nino-cunei/oldbabylonian/blob/master/docs/transcription.md\" title=\"~/github/Nino-cunei/oldbabylonian/tf/1.0.5/transcriber.tf\">transcriber</a>  <a target=\"_blank\" href=\"https://github.com/Nino-cunei/oldbabylonian/blob/master/docs/transcription.md\" title=\"~/github/Nino-cunei/oldbabylonian/tf/1.0.5/translation@en.tf\">translation@ll</a>  <a target=\"_blank\" href=\"https://github.com/Nino-cunei/oldbabylonian/blob/master/docs/transcription.md\" title=\"~/github/Nino-cunei/oldbabylonian/tf/1.0.5/type.tf\">type</a>  <a target=\"_blank\" href=\"https://github.com/Nino-cunei/oldbabylonian/blob/master/docs/transcription.md\" title=\"~/github/Nino-cunei/oldbabylonian/tf/1.0.5/uncertain.tf\">uncertain</a>  <a target=\"_blank\" href=\"https://github.com/Nino-cunei/oldbabylonian/blob/master/docs/transcription.md\" title=\"~/github/Nino-cunei/oldbabylonian/tf/1.0.5/volume.tf\">volume</a>  <b><i><a target=\"_blank\" href=\"https://github.com/Nino-cunei/oldbabylonian/blob/master/docs/transcription.md\" title=\"~/github/Nino-cunei/oldbabylonian/tf/1.0.5/oslots.tf\">oslots</a></i></b> </p></details>"
      ],
      "text/plain": [
       "<IPython.core.display.HTML object>"
      ]
     },
     "metadata": {},
     "output_type": "display_data"
    },
    {
     "data": {
      "text/html": [
       "<style>tr.tf, td.tf, th.tf { text-align: left ! important;}@font-face {\n",
       "  font-family: \"Ezra SIL\";\n",
       "  src: local('Ezra SIL'), local('EzraSIL'),\n",
       "    url('/server/static/fonts/SILEOT.woff') format('woff'),\n",
       "    url('https://github.com/annotation/text-fabric/blob/master/tf/server/static/fonts/SILEOT.woff?raw=true') format('woff');\n",
       "}\n",
       "\n",
       "@font-face {\n",
       "  font-family: \"SBL Hebrew\";\n",
       "  src: local('SBL Hebrew'), local('SBLHebrew'),\n",
       "    url('/server/static/fonts/SBL_Hbrw.woff') format('woff'),\n",
       "    url('https://github.com/annotation/text-fabric/blob/master/tf/server/static/fonts/SBL_Hbrw.woff?raw=true') format('woff');\n",
       "}\n",
       "\n",
       "@font-face {\n",
       "  font-family: \"Estrangelo Edessa\";\n",
       "  src: local('Estrangelo Edessa'), local('EstrangeloEdessa');\n",
       "    url('/server/static/fonts/SyrCOMEdessa.woff') format('woff'),\n",
       "    url('https://github.com/annotation/text-fabric/blob/master/tf/server/static/fonts/SyrCOMEdessa.woff?raw=true') format('woff');\n",
       "}\n",
       "\n",
       "@font-face {\n",
       "  font-family: AmiriQuran;\n",
       "  font-style: normal;\n",
       "  font-weight: 400;\n",
       "  src: local('Amiri Quran'), local('AmiriQuran'),\n",
       "    url('/server/static/fonts/AmiriQuran.woff') format('woff'),\n",
       "    url('https://github.com/annotation/text-fabric/blob/master/tf/server/static/fonts/AmiriQuran.woff?raw=true') format('woff');\n",
       "}\n",
       "\n",
       "@font-face {\n",
       "  font-family: AmiriQuranColored;\n",
       "  font-style: normal;\n",
       "  font-weight: 400;\n",
       "  src: local('Amiri Quran Colored'), local('AmiriQuranColored'),\n",
       "    url('/server/static/fonts/AmiriQuranColored.woff') format('woff'),\n",
       "    url('https://github.com/annotation/text-fabric/blob/master/tf/server/static/fonts/AmiriQuranColored.woff?raw=true') format('woff');\n",
       "}\n",
       "\n",
       "@font-face {\n",
       "  font-family: \"Santakku\";\n",
       "  src: local('Santakku'),\n",
       "    url('/server/static/fonts/Santakku.woff') format('woff'),\n",
       "    url('https://github.com/annotation/text-fabric/blob/master/tf/server/static/fonts/Santakku.woff?raw=true') format('woff');\n",
       "}\n",
       "\n",
       "@font-face {\n",
       "  font-family: \"SantakkuM\";\n",
       "  src: local('SantakkuM'),\n",
       "    url('/server/static/fonts/SantakkuM.woff') format('woff'),\n",
       "    url('https://github.com/annotation/text-fabric/blob/master/tf/server/static/fonts/SantakkuM.woff?raw=true') format('woff');\n",
       "}\n",
       "/* bypassing some classical notebook settings */\n",
       "div#notebook {\n",
       "  line-height: unset;\n",
       "}\n",
       "/* neutral text */\n",
       ".txtn,.txtn a:visited,.txtn a:link {\n",
       "    font-family: sans-serif;\n",
       "    font-size: medium;\n",
       "    direction: ltr;\n",
       "    text-decoration: none;\n",
       "    color: var(--text-color);\n",
       "}\n",
       "/* transcription text */\n",
       ".txtt,.txtt a:visited,.txtt a:link {\n",
       "    font-family: monospace;\n",
       "    font-size: medium;\n",
       "    direction: ltr;\n",
       "    text-decoration: none;\n",
       "    color: var(--text-color);\n",
       "}\n",
       "/* source text */\n",
       ".txto,.txto a:visited,.txto a:link {\n",
       "    font-family: serif;\n",
       "    font-size: medium;\n",
       "    direction: ltr;\n",
       "    text-decoration: none;\n",
       "    color: var(--text-color);\n",
       "}\n",
       "/* phonetic text */\n",
       ".txtp,.txtp a:visited,.txtp a:link {\n",
       "    font-family: Gentium, sans-serif;\n",
       "    font-size: large;\n",
       "    direction: ltr;\n",
       "    text-decoration: none;\n",
       "    color: var(--text-color);\n",
       "}\n",
       "/* original script text */\n",
       ".txtu,.txtu a:visited,.txtu a:link {\n",
       "    font-family: Gentium, sans-serif;\n",
       "    font-size: large;\n",
       "    text-decoration: none;\n",
       "    color: var(--text-color);\n",
       "}\n",
       "/* hebrew */\n",
       ".txtu.hbo,.lex.hbo {\n",
       "    font-family: \"Ezra SIL\", \"SBL Hebrew\", sans-serif;\n",
       "    font-size: x-large;\n",
       "    direction: rtl ! important;\n",
       "    unicode-bidi: embed;\n",
       "}\n",
       "/* syriac */\n",
       ".txtu.syc,.lex.syc {\n",
       "    font-family: \"Estrangelo Edessa\", sans-serif;\n",
       "    font-size: large;\n",
       "    direction: rtl ! important;\n",
       "    unicode-bidi: embed;\n",
       "}\n",
       "/* neo aramaic */\n",
       ".txtu.cld,.lex.cld {\n",
       "    font-family: \"CharisSIL-R\", sans-serif;\n",
       "    font-size: medium;\n",
       "    direction: ltr ! important;\n",
       "    unicode-bidi: embed;\n",
       "}\n",
       "/* standard arabic */\n",
       ".txtu.ara,.lex.ara {\n",
       "    font-family: \"AmiriQuran\", sans-serif;\n",
       "    font-size: large;\n",
       "    direction: rtl ! important;\n",
       "    unicode-bidi: embed;\n",
       "}\n",
       "/* cuneiform */\n",
       ".txtu.akk,.lex.akk {\n",
       "    font-family: Santakku, sans-serif;\n",
       "    font-size: x-large;\n",
       "    direction: ltr ! important;\n",
       "    unicode-bidi: embed;\n",
       "}\n",
       "/* greek */\n",
       ".txtu.grc,.lex.grc a:link {\n",
       "    font-family: Gentium, sans-serif;\n",
       "    font-size: medium;\n",
       "    direction: ltr ! important;\n",
       "    unicode-bidi: embed;\n",
       "}\n",
       "a:hover {\n",
       "    text-decoration: underline | important;\n",
       "    color: #0000ff | important;\n",
       "}\n",
       ".ltr {\n",
       "    direction: ltr ! important;\n",
       "}\n",
       ".rtl {\n",
       "    direction: rtl ! important;\n",
       "}\n",
       "span.plain {\n",
       "    display: inline-block;\n",
       "    white-space: pre-wrap;\n",
       "    text-align: start;\n",
       "}\n",
       ".gr,.gl {\n",
       "    white-space: pre-wrap;\n",
       "    border-color: var(--border-color-gap);\n",
       "    border-width: var(--border-width-gap);\n",
       "    border-top-style: none;\n",
       "    border-bottom-style: none;\n",
       "}\n",
       ".gr {\n",
       "    border-right-style: solid;\n",
       "    border-left-style: dashed;\n",
       "}\n",
       ".gl {\n",
       "    border-right-style: dashed;\n",
       "    border-left-style: solid;\n",
       "}\n",
       ".features {\n",
       "    font-family: monospace;\n",
       "    font-size: medium;\n",
       "    font-weight: bold;\n",
       "    color: var(--features);\n",
       "    display: flex;\n",
       "    flex-flow: column nowrap;\n",
       "    justify-content: flex-start;\n",
       "    align-items: flex-start;\n",
       "    align-content: flex-start;\n",
       "    padding: 0.1rem;\n",
       "    margin: 0.1rem;\n",
       "    direction: ltr;\n",
       "    border: var(--meta-width) solid var(--meta-color);\n",
       "    border-radius: var(--meta-width);\n",
       "}\n",
       ".features div,.features span {\n",
       "    padding: 0;\n",
       "    margin: -0.1rem 0;\n",
       "}\n",
       ".features .f {\n",
       "    font-family: sans-serif;\n",
       "    font-size: small;\n",
       "    font-weight: normal;\n",
       "    color: #5555bb;\n",
       "}\n",
       ".features .xft {\n",
       "  color: #000000;\n",
       "  background-color: #eeeeee;\n",
       "  font-size: medium;\n",
       "  margin: 0.1rem 0rem;\n",
       "}\n",
       ".features .xft .f {\n",
       "  color: #000000;\n",
       "  background-color: #eeeeee;\n",
       "  font-size: small;\n",
       "  font-weight: normal;\n",
       "}\n",
       ".section {\n",
       "    font-family: sans-serif;\n",
       "    font-size: small;\n",
       "    font-weight: bold;\n",
       "    color: var(--section);\n",
       "}\n",
       ".structure {\n",
       "    font-family: sans-serif;\n",
       "    font-size: small;\n",
       "    font-weight: bold;\n",
       "    color: var(--structure);\n",
       "}\n",
       ".comments {\n",
       "    display: flex;\n",
       "    justify-content: flex-start;\n",
       "    align-items: flex-start;\n",
       "    align-content: flex-start;\n",
       "    flex-flow: column nowrap;\n",
       "}\n",
       ".nd {\n",
       "    font-family: sans-serif;\n",
       "    font-size: small;\n",
       "    color: var(--node);\n",
       "    vertical-align: super;\n",
       "}\n",
       ".lex {\n",
       "  color: var(--lex-color);;\n",
       "}\n",
       ".children,.children.ltr {\n",
       "    display: flex;\n",
       "    border: 0;\n",
       "    background-color: #ffffff;\n",
       "    justify-content: flex-start;\n",
       "    align-items: flex-start;\n",
       "    align-content: flex-start;\n",
       "}\n",
       ".children.stretch {\n",
       "    align-items: stretch;\n",
       "}\n",
       ".children.hor {\n",
       "    flex-flow: row nowrap;\n",
       "}\n",
       ".children.hor.wrap {\n",
       "    flex-flow: row wrap;\n",
       "}\n",
       ".children.ver {\n",
       "    flex-flow: column nowrap;\n",
       "}\n",
       ".children.ver.wrap {\n",
       "    flex-flow: column wrap;\n",
       "}\n",
       ".contnr {\n",
       "    width: fit-content;\n",
       "    display: flex;\n",
       "    justify-content: flex-start;\n",
       "    align-items: flex-start;\n",
       "    align-content: flex-start;\n",
       "    flex-flow: column nowrap;\n",
       "    background: #ffffff none repeat scroll 0 0;\n",
       "    padding:  0.5rem 0.1rem 0.1rem 0.1rem;\n",
       "    margin: 0.8rem 0.1rem 0.1rem 0.1rem;\n",
       "    border-style: solid;\n",
       "    font-size: small;\n",
       "}\n",
       ".contnr.trm {\n",
       "    background-attachment: local;\n",
       "}\n",
       ".contnr.cnul {\n",
       "    padding:  0;\n",
       "    margin: 0;\n",
       "    border-style: solid;\n",
       "    font-size: xx-small;\n",
       "}\n",
       ".contnr.cnul,.lbl.cnul {\n",
       "    border-color: var(--border-color-nul);\n",
       "    border-width: var(--border-width-nul);\n",
       "    border-radius: var(--border-width-nul);\n",
       "}\n",
       ".contnr.c0,.lbl.c0 {\n",
       "    border-color: var(--border-color0);\n",
       "    border-width: var(--border-width0);\n",
       "    border-radius: var(--border-width0);\n",
       "}\n",
       ".contnr.c1,.lbl.c1 {\n",
       "    border-color: var(--border-color1);\n",
       "    border-width: var(--border-width1);\n",
       "    border-radius: var(--border-width1);\n",
       "}\n",
       ".contnr.c2,.lbl.c2 {\n",
       "    border-color: var(--border-color2);\n",
       "    border-width: var(--border-width2);\n",
       "    border-radius: var(--border-width2);\n",
       "}\n",
       ".contnr.c3,.lbl.c3 {\n",
       "    border-color: var(--border-color3);\n",
       "    border-width: var(--border-width3);\n",
       "    border-radius: var(--border-width3);\n",
       "}\n",
       ".contnr.c4,.lbl.c4 {\n",
       "    border-color: var(--border-color4);\n",
       "    border-width: var(--border-width4);\n",
       "    border-radius: var(--border-width4);\n",
       "}\n",
       ".contnr.l,.contnr.l>.lbl {\n",
       "    border-left-style: dotted\n",
       "}\n",
       ".contnr.r,.contnr.r>.lbl {\n",
       "    border-right-style: dotted\n",
       "}\n",
       ".contnr.lno,.contnr.lno>.lbl {\n",
       "    border-left-style: none\n",
       "}\n",
       ".contnr.rno,.contnr.rno>.lbl {\n",
       "    border-right-style: none\n",
       "}\n",
       ".lbl {\n",
       "    font-family: monospace;\n",
       "    margin-top: -1.2rem;\n",
       "    margin-left: 1rem;\n",
       "    background: #ffffff none repeat scroll 0 0;\n",
       "    padding: 0 0.3rem;\n",
       "    border-style: solid;\n",
       "    display: block;\n",
       "    color: var(--label)\n",
       "}\n",
       ".lbl.trm {\n",
       "    background-attachment: local;\n",
       "    margin-top: 0.1rem;\n",
       "    margin-left: 0.1rem;\n",
       "    padding: 0.1rem 0.1rem;\n",
       "    border-style: none;\n",
       "}\n",
       ".lbl.cnul {\n",
       "    font-size: xx-small;\n",
       "}\n",
       ".lbl.c0 {\n",
       "    font-size: small;\n",
       "}\n",
       ".lbl.c1 {\n",
       "    font-size: small;\n",
       "}\n",
       ".lbl.c2 {\n",
       "    font-size: medium;\n",
       "}\n",
       ".lbl.c3 {\n",
       "    font-size: medium;\n",
       "}\n",
       ".lbl.c4 {\n",
       "    font-size: large;\n",
       "}\n",
       ".occs {\n",
       "    font-size: small;\n",
       "}\n",
       "\n",
       "/* PROVENANCE */\n",
       "\n",
       "div.prov {\n",
       "\tmargin: 2rem;\n",
       "\tpadding: 1rem;\n",
       "\tborder: 0.1rem solid var(--fog-rim);\n",
       "}\n",
       "div.pline {\n",
       "\tdisplay: flex;\n",
       "\tflex-flow: row nowrap;\n",
       "\tjustify-content: stretch;\n",
       "\talign-items: baseline;\n",
       "}\n",
       "div.p2line {\n",
       "\tmargin-left: 2em;\n",
       "\tdisplay: flex;\n",
       "\tflex-flow: row nowrap;\n",
       "\tjustify-content: stretch;\n",
       "\talign-items: baseline;\n",
       "}\n",
       "div.psline {\n",
       "\tdisplay: flex;\n",
       "\tflex-flow: row nowrap;\n",
       "\tjustify-content: stretch;\n",
       "\talign-items: baseline;\n",
       "\tbackground-color: var(--gold-mist-back);\n",
       "}\n",
       "div.pname {\n",
       "\tflex: 0 0 5rem;\n",
       "\tfont-weight: bold;\n",
       "}\n",
       "div.pval {\n",
       "    flex: 1 1 auto;\n",
       "}\n",
       "\n",
       ":root {\n",
       "\t--node:             hsla(120, 100%,  20%, 1.0  );\n",
       "\t--label:            hsla(  0, 100%,  20%, 1.0  );\n",
       "\t--section:          hsla(  0, 100%,  25%, 1.0  );\n",
       "\t--structure:        hsla(120, 100%,  25%, 1.0  );\n",
       "\t--features:         hsla(  0,   0%,  30%, 1.0  );\n",
       "  --text-color:       hsla( 60,  80%,  10%, 1.0  );\n",
       "  --lex-color:        hsla(220,  90%,  60%, 1.0  );\n",
       "  --meta-color:       hsla(  0,   0%,  90%, 0.7  );\n",
       "  --meta-width:       0.15rem;\n",
       "  --border-color-nul: hsla(  0,   0%,  90%, 0.5  );\n",
       "  --border-color-gap: hsla(  0,  50%,  70%, 1.0  );\n",
       "  --border-color0:    hsla(  0,   0%,  90%, 0.9  );\n",
       "  --border-color1:    hsla(  0,   0%,  80%, 0.9  );\n",
       "  --border-color2:    hsla(  0,   0%,  70%, 0.9  );\n",
       "  --border-color3:    hsla(  0,   0%,  80%, 0.8  );\n",
       "  --border-color4:    hsla(  0,   0%,  60%, 0.9  );\n",
       "  --border-width-nul: 0.1rem;\n",
       "  --border-width-gap: 0.1rem;\n",
       "  --border-width0:    0.1rem;\n",
       "  --border-width1:    0.15rem;\n",
       "  --border-width2:    0.2rem;\n",
       "  --border-width3:    0.3rem;\n",
       "  --border-width4:    0.25rem;\n",
       "}\n",
       ".hl {\n",
       "  background-color: var(--hl-strong);\n",
       "}\n",
       "span.hl {\n",
       "\tbackground-color: var(--hl-strong);\n",
       "\tborder-width: 0;\n",
       "\tborder-radius: 0.1rem;\n",
       "\tborder-style: solid;\n",
       "}\n",
       "div.contnr.hl,div.lbl.hl {\n",
       "  background-color: var(--hl-strong);\n",
       "}\n",
       "div.contnr.hl {\n",
       "  border-color: var(--hl-rim) ! important;\n",
       "\tborder-width: 0.2rem ! important;\n",
       "}\n",
       "\n",
       "span.hlbx {\n",
       "\tborder-color: var(--hl-rim);\n",
       "\tborder-width: 0.2rem;\n",
       "\tborder-style: solid;\n",
       "\tborder-radius: 0.3rem;\n",
       "  padding: 0.2rem;\n",
       "  margin: 0.2rem;\n",
       "}\n",
       "\n",
       "span.plain {\n",
       "  display: inline-block;\n",
       "  white-space: pre-wrap;\n",
       "}\n",
       "\n",
       ":root {\n",
       "\t--hl-strong:        hsla( 60, 100%,  70%, 0.9  );\n",
       "\t--hl-rim:           hsla( 55,  80%,  50%, 1.0  );\n",
       "}\n",
       ".pnum {\n",
       "    font-family: sans-serif;\n",
       "    font-size: small;\n",
       "    font-weight: bold;\n",
       "    color: #444444;\n",
       "}\n",
       ".op {\n",
       "    padding:  0.5em 0.1em 0.1em 0.1em;\n",
       "    margin: 0.8em 0.1em 0.1em 0.1em;\n",
       "    font-family: monospace;\n",
       "    font-size: x-large;\n",
       "    font-weight: bold;\n",
       "}\n",
       ".period {\n",
       "    font-family: monospace;\n",
       "    font-size: medium;\n",
       "    font-weight: bold;\n",
       "    color: #0000bb;\n",
       "}\n",
       ".comment {\n",
       "    color: #7777dd;\n",
       "    font-family: monospace;\n",
       "    font-size: small;\n",
       "}\n",
       ".operator {\n",
       "    color: #ff77ff;\n",
       "    font-size: large;\n",
       "}\n",
       "/* LANGUAGE: superscript and subscript */\n",
       "\n",
       "/* cluster */\n",
       ".det {\n",
       "    vertical-align: super;\n",
       "}\n",
       "/* cluster */\n",
       ".langalt {\n",
       "    vertical-align: sub;\n",
       "}\n",
       "/* REDACTIONAL: line over or under  */\n",
       "\n",
       "/* flag */\n",
       ".collated {\n",
       "    font-weight: bold;\n",
       "    text-decoration: underline;\n",
       "}\n",
       "/* cluster */\n",
       ".excised {\n",
       "    color: #dd0000;\n",
       "    text-decoration: line-through;\n",
       "}\n",
       "/* cluster */\n",
       ".supplied {\n",
       "    color: #0000ff;\n",
       "    text-decoration: overline;\n",
       "}\n",
       "/* flag */\n",
       ".remarkable {\n",
       "    font-weight: bold;\n",
       "    text-decoration: overline;\n",
       "}\n",
       "\n",
       "/* UNSURE: italic*/\n",
       "\n",
       "/* cluster */\n",
       ".uncertain {\n",
       "    font-style: italic\n",
       "}\n",
       "/* flag */\n",
       ".question {\n",
       "    font-weight: bold;\n",
       "    font-style: italic\n",
       "}\n",
       "\n",
       "/* BROKEN: text-shadow */\n",
       "\n",
       "/* cluster */\n",
       ".missing {\n",
       "    color: #999999;\n",
       "    text-shadow: #bbbbbb 1px 1px;\n",
       "}\n",
       "/* flag */\n",
       ".damage {\n",
       "    font-weight: bold;\n",
       "    color: #999999;\n",
       "    text-shadow: #bbbbbb 1px 1px;\n",
       "}\n",
       ".empty {\n",
       "  color: #ff0000;\n",
       "}\n",
       "\n",
       "</style>"
      ],
      "text/plain": [
       "<IPython.core.display.HTML object>"
      ]
     },
     "metadata": {},
     "output_type": "display_data"
    },
    {
     "data": {
      "text/html": [
       "<div><a target=\"_blank\" href=\"https://annotation.github.io/text-fabric/cheatsheet.html\" title=\"doc\">names N F E L T S C TF directly usable</a></div>"
      ],
      "text/plain": [
       "<IPython.core.display.HTML object>"
      ]
     },
     "metadata": {},
     "output_type": "display_data"
    }
   ],
   "source": [
    "A = use('oldbabylonian:clone', checkout=\"clone\", hoist=globals(), mod='Nino-cunei/exercises/analysis/tf:clone')\n",
    "# A = use('oldbabylonian', hoist=globals(), mod='Nino-cunei/exercises/analysis/tf')"
   ]
  },
  {
   "cell_type": "markdown",
   "metadata": {},
   "source": [
    "Above you see a new section in the feature list: **Nino-cunei/exercises/analysis/tf** with our foreign feature in it: `ummama`.\n",
    "\n",
    "Now, suppose did not know much about this feature, then we would like to do a few basic checks:"
   ]
  },
  {
   "cell_type": "code",
   "execution_count": 16,
   "metadata": {},
   "outputs": [
    {
     "data": {
      "text/plain": [
       "((1, 182221),)"
      ]
     },
     "execution_count": 16,
     "metadata": {},
     "output_type": "execute_result"
    }
   ],
   "source": [
    "F.ummama.freqList()"
   ]
  },
  {
   "cell_type": "markdown",
   "metadata": {},
   "source": [
    "We see that the feature has only one value, `1`, and that 182222 nodes have it."
   ]
  },
  {
   "cell_type": "markdown",
   "metadata": {},
   "source": [
    "Which nodes have a ummmama feature?"
   ]
  },
  {
   "cell_type": "code",
   "execution_count": 19,
   "metadata": {},
   "outputs": [
    {
     "data": {
      "text/plain": [
       "{'sign'}"
      ]
     },
     "execution_count": 19,
     "metadata": {},
     "output_type": "execute_result"
    }
   ],
   "source": [
    "{F.otype.v(n) for n in N.walk() if F.ummama.v(n)}"
   ]
  },
  {
   "cell_type": "markdown",
   "metadata": {},
   "source": [
    "Only signs have the feature.\n",
    "\n",
    "Let's have a look at a table of some ummama signs."
   ]
  },
  {
   "cell_type": "code",
   "execution_count": 20,
   "metadata": {},
   "outputs": [
    {
     "name": "stdout",
     "output_type": "stream",
     "text": [
      "  0.31s 182221 results\n"
     ]
    }
   ],
   "source": [
    "results = A.search('''\n",
    "sign ummama\n",
    "''')"
   ]
  },
  {
   "cell_type": "code",
   "execution_count": 21,
   "metadata": {},
   "outputs": [
    {
     "data": {
      "text/html": [
       "<table><tr class=\"tf\"><th class=\"tf\">n</th><th class=\"tf\">p</th><th class=\"tf\">sign</th></tr>\n",
       "<tr class=\"tf\"><td class=\"tf\">1</td><td class=\"tf\"><span class=\"section ltr\"><a target=\"_blank\" href=\"https://cdli.ucla.edu/search/search_results.php?SearchMode=Text&amp;ObjectID=P509373\" title=\"Show this document on CDLI\" sec=\"P509373 obverse:1\">P509373 obverse:1</a></span></td><td class=\"tf\"><span class=\"plain outer   hlbx\" ><span class=\"txto\">[a-</span></span></td></tr>\n",
       "<tr class=\"tf\"><td class=\"tf\">2</td><td class=\"tf\"><span class=\"section ltr\"><a target=\"_blank\" href=\"https://cdli.ucla.edu/search/search_results.php?SearchMode=Text&amp;ObjectID=P509373\" title=\"Show this document on CDLI\" sec=\"P509373 obverse:1\">P509373 obverse:1</a></span></td><td class=\"tf\"><span class=\"plain outer   hlbx\" ><span class=\"txto\">na] </span></span></td></tr>\n",
       "<tr class=\"tf\"><td class=\"tf\">3</td><td class=\"tf\"><span class=\"section ltr\"><a target=\"_blank\" href=\"https://cdli.ucla.edu/search/search_results.php?SearchMode=Text&amp;ObjectID=P509373\" title=\"Show this document on CDLI\" sec=\"P509373 obverse:1\">P509373 obverse:1</a></span></td><td class=\"tf\"><span class=\"plain outer   hlbx\" ><span class=\"txto\">_{d}</span></span></td></tr>\n",
       "<tr class=\"tf\"><td class=\"tf\">4</td><td class=\"tf\"><span class=\"section ltr\"><a target=\"_blank\" href=\"https://cdli.ucla.edu/search/search_results.php?SearchMode=Text&amp;ObjectID=P509373\" title=\"Show this document on CDLI\" sec=\"P509373 obverse:1\">P509373 obverse:1</a></span></td><td class=\"tf\"><span class=\"plain outer   hlbx\" ><span class=\"txto\">suen_-</span></span></td></tr>\n",
       "<tr class=\"tf\"><td class=\"tf\">5</td><td class=\"tf\"><span class=\"section ltr\"><a target=\"_blank\" href=\"https://cdli.ucla.edu/search/search_results.php?SearchMode=Text&amp;ObjectID=P509373\" title=\"Show this document on CDLI\" sec=\"P509373 obverse:1\">P509373 obverse:1</a></span></td><td class=\"tf\"><span class=\"plain outer   hlbx\" ><span class=\"txto\">i-</span></span></td></tr>\n",
       "<tr class=\"tf\"><td class=\"tf\">6</td><td class=\"tf\"><span class=\"section ltr\"><a target=\"_blank\" href=\"https://cdli.ucla.edu/search/search_results.php?SearchMode=Text&amp;ObjectID=P509373\" title=\"Show this document on CDLI\" sec=\"P509373 obverse:1\">P509373 obverse:1</a></span></td><td class=\"tf\"><span class=\"plain outer   hlbx\" ><span class=\"txto\">[din-</span></span></td></tr>\n",
       "<tr class=\"tf\"><td class=\"tf\">7</td><td class=\"tf\"><span class=\"section ltr\"><a target=\"_blank\" href=\"https://cdli.ucla.edu/search/search_results.php?SearchMode=Text&amp;ObjectID=P509373\" title=\"Show this document on CDLI\" sec=\"P509373 obverse:1\">P509373 obverse:1</a></span></td><td class=\"tf\"><span class=\"plain outer   hlbx\" ><span class=\"txto\">nam]</span></span></td></tr>\n",
       "<tr class=\"tf\"><td class=\"tf\">8</td><td class=\"tf\"><span class=\"section ltr\"><a target=\"_blank\" href=\"https://cdli.ucla.edu/search/search_results.php?SearchMode=Text&amp;ObjectID=P509373\" title=\"Show this document on CDLI\" sec=\"P509373 obverse:2\">P509373 obverse:2</a></span></td><td class=\"tf\"><span class=\"plain outer   hlbx\" ><span class=\"txto\">qi2-</span></span></td></tr>\n",
       "<tr class=\"tf\"><td class=\"tf\">9</td><td class=\"tf\"><span class=\"section ltr\"><a target=\"_blank\" href=\"https://cdli.ucla.edu/search/search_results.php?SearchMode=Text&amp;ObjectID=P509373\" title=\"Show this document on CDLI\" sec=\"P509373 obverse:2\">P509373 obverse:2</a></span></td><td class=\"tf\"><span class=\"plain outer   hlbx\" ><span class=\"txto\">[ma]</span></span></td></tr>\n",
       "<tr class=\"tf\"><td class=\"tf\">10</td><td class=\"tf\"><span class=\"section ltr\"><a target=\"_blank\" href=\"https://cdli.ucla.edu/search/search_results.php?SearchMode=Text&amp;ObjectID=P509373\" title=\"Show this document on CDLI\" sec=\"P509373 obverse:3\">P509373 obverse:3</a></span></td><td class=\"tf\"><span class=\"plain outer   hlbx\" ><span class=\"txto\">um-</span></span></td></tr>\n",
       "<tr class=\"tf\"><td class=\"tf\">11</td><td class=\"tf\"><span class=\"section ltr\"><a target=\"_blank\" href=\"https://cdli.ucla.edu/search/search_results.php?SearchMode=Text&amp;ObjectID=P509373\" title=\"Show this document on CDLI\" sec=\"P509373 obverse:3\">P509373 obverse:3</a></span></td><td class=\"tf\"><span class=\"plain outer   hlbx\" ><span class=\"txto\">ma </span></span></td></tr>\n",
       "<tr class=\"tf\"><td class=\"tf\">12</td><td class=\"tf\"><span class=\"section ltr\"><a target=\"_blank\" href=\"https://cdli.ucla.edu/search/search_results.php?SearchMode=Text&amp;ObjectID=P509373\" title=\"Show this document on CDLI\" sec=\"P509373 obverse:3\">P509373 obverse:3</a></span></td><td class=\"tf\"><span class=\"plain outer   hlbx\" ><span class=\"txto\">_{d}</span></span></td></tr>\n",
       "<tr class=\"tf\"><td class=\"tf\">13</td><td class=\"tf\"><span class=\"section ltr\"><a target=\"_blank\" href=\"https://cdli.ucla.edu/search/search_results.php?SearchMode=Text&amp;ObjectID=P509373\" title=\"Show this document on CDLI\" sec=\"P509373 obverse:3\">P509373 obverse:3</a></span></td><td class=\"tf\"><span class=\"plain outer   hlbx\" ><span class=\"txto\">en-</span></span></td></tr>\n",
       "<tr class=\"tf\"><td class=\"tf\">14</td><td class=\"tf\"><span class=\"section ltr\"><a target=\"_blank\" href=\"https://cdli.ucla.edu/search/search_results.php?SearchMode=Text&amp;ObjectID=P509373\" title=\"Show this document on CDLI\" sec=\"P509373 obverse:3\">P509373 obverse:3</a></span></td><td class=\"tf\"><span class=\"plain outer   hlbx\" ><span class=\"txto\">lil2_-</span></span></td></tr>\n",
       "<tr class=\"tf\"><td class=\"tf\">15</td><td class=\"tf\"><span class=\"section ltr\"><a target=\"_blank\" href=\"https://cdli.ucla.edu/search/search_results.php?SearchMode=Text&amp;ObjectID=P509373\" title=\"Show this document on CDLI\" sec=\"P509373 obverse:3\">P509373 obverse:3</a></span></td><td class=\"tf\"><span class=\"plain outer   hlbx\" ><span class=\"txto\">sza-</span></span></td></tr>\n",
       "<tr class=\"tf\"><td class=\"tf\">16</td><td class=\"tf\"><span class=\"section ltr\"><a target=\"_blank\" href=\"https://cdli.ucla.edu/search/search_results.php?SearchMode=Text&amp;ObjectID=P509373\" title=\"Show this document on CDLI\" sec=\"P509373 obverse:3\">P509373 obverse:3</a></span></td><td class=\"tf\"><span class=\"plain outer   hlbx\" ><span class=\"txto\">du-</span></span></td></tr>\n",
       "<tr class=\"tf\"><td class=\"tf\">17</td><td class=\"tf\"><span class=\"section ltr\"><a target=\"_blank\" href=\"https://cdli.ucla.edu/search/search_results.php?SearchMode=Text&amp;ObjectID=P509373\" title=\"Show this document on CDLI\" sec=\"P509373 obverse:3\">P509373 obverse:3</a></span></td><td class=\"tf\"><span class=\"plain outer   hlbx\" ><span class=\"txto\">u2-</span></span></td></tr>\n",
       "<tr class=\"tf\"><td class=\"tf\">18</td><td class=\"tf\"><span class=\"section ltr\"><a target=\"_blank\" href=\"https://cdli.ucla.edu/search/search_results.php?SearchMode=Text&amp;ObjectID=P509373\" title=\"Show this document on CDLI\" sec=\"P509373 obverse:3\">P509373 obverse:3</a></span></td><td class=\"tf\"><span class=\"plain outer   hlbx\" ><span class=\"txto\">ni-</span></span></td></tr>\n",
       "<tr class=\"tf\"><td class=\"tf\">19</td><td class=\"tf\"><span class=\"section ltr\"><a target=\"_blank\" href=\"https://cdli.ucla.edu/search/search_results.php?SearchMode=Text&amp;ObjectID=P509373\" title=\"Show this document on CDLI\" sec=\"P509373 obverse:3\">P509373 obverse:3</a></span></td><td class=\"tf\"><span class=\"plain outer   hlbx\" ><span class=\"txto\">ma</span></span></td></tr>\n",
       "<tr class=\"tf\"><td class=\"tf\">20</td><td class=\"tf\"><span class=\"section ltr\"><a target=\"_blank\" href=\"https://cdli.ucla.edu/search/search_results.php?SearchMode=Text&amp;ObjectID=P509373\" title=\"Show this document on CDLI\" sec=\"P509373 obverse:4\">P509373 obverse:4</a></span></td><td class=\"tf\"><span class=\"plain outer   hlbx\" ><span class=\"txto\">_{d}</span></span></td></tr></table>"
      ],
      "text/plain": [
       "<IPython.core.display.HTML object>"
      ]
     },
     "metadata": {},
     "output_type": "display_data"
    }
   ],
   "source": [
    "A.table(results, start=1, end=20)"
   ]
  },
  {
   "cell_type": "markdown",
   "metadata": {},
   "source": [
    "Now let's get some non-ummama signs:"
   ]
  },
  {
   "cell_type": "code",
   "execution_count": 22,
   "metadata": {},
   "outputs": [
    {
     "name": "stdout",
     "output_type": "stream",
     "text": [
      "  0.17s 20998 results\n"
     ]
    }
   ],
   "source": [
    "results = A.search('''\n",
    "sign ummama#\n",
    "''')"
   ]
  },
  {
   "cell_type": "code",
   "execution_count": 23,
   "metadata": {},
   "outputs": [
    {
     "data": {
      "text/html": [
       "<table><tr class=\"tf\"><th class=\"tf\">n</th><th class=\"tf\">p</th><th class=\"tf\">sign</th></tr>\n",
       "<tr class=\"tf\"><td class=\"tf\">1</td><td class=\"tf\"><span class=\"section ltr\"><a target=\"_blank\" href=\"https://cdli.ucla.edu/search/search_results.php?SearchMode=Text&amp;ObjectID=P509373\" title=\"Show this document on CDLI\" sec=\"P509373 obverse:2\">P509373 obverse:2</a></span></td><td class=\"tf\"><span class=\"plain outer   hlbx\" ><span class=\"txto\">bi2-</span></span></td></tr>\n",
       "<tr class=\"tf\"><td class=\"tf\">2</td><td class=\"tf\"><span class=\"section ltr\"><a target=\"_blank\" href=\"https://cdli.ucla.edu/search/search_results.php?SearchMode=Text&amp;ObjectID=P509373\" title=\"Show this document on CDLI\" sec=\"P509373 obverse:5\">P509373 obverse:5</a></span></td><td class=\"tf\"><span class=\"plain outer   hlbx\" ><span class=\"txto\">t,u2-</span></span></td></tr>\n",
       "<tr class=\"tf\"><td class=\"tf\">3</td><td class=\"tf\"><span class=\"section ltr\"><a target=\"_blank\" href=\"https://cdli.ucla.edu/search/search_results.php?SearchMode=Text&amp;ObjectID=P509373\" title=\"Show this document on CDLI\" sec=\"P509373 obverse:6\">P509373 obverse:6</a></span></td><td class=\"tf\"><span class=\"plain outer   hlbx\" ><span class=\"txto\">a2-</span></span></td></tr>\n",
       "<tr class=\"tf\"><td class=\"tf\">4</td><td class=\"tf\"><span class=\"section ltr\"><a target=\"_blank\" href=\"https://cdli.ucla.edu/search/search_results.php?SearchMode=Text&amp;ObjectID=P509373\" title=\"Show this document on CDLI\" sec=\"P509373 obverse:6\">P509373 obverse:6</a></span></td><td class=\"tf\"><span class=\"plain outer   hlbx\" ><span class=\"txto\">gal2 </span></span></td></tr>\n",
       "<tr class=\"tf\"><td class=\"tf\">5</td><td class=\"tf\"><span class=\"section ltr\"><a target=\"_blank\" href=\"https://cdli.ucla.edu/search/search_results.php?SearchMode=Text&amp;ObjectID=P509373\" title=\"Show this document on CDLI\" sec=\"P509373 obverse:9\">P509373 obverse:9</a></span></td><td class=\"tf\"><span class=\"plain outer   hlbx\" ><span class=\"txto\">2(esze3) </span></span></td></tr>\n",
       "<tr class=\"tf\"><td class=\"tf\">6</td><td class=\"tf\"><span class=\"section ltr\"><a target=\"_blank\" href=\"https://cdli.ucla.edu/search/search_results.php?SearchMode=Text&amp;ObjectID=P509373\" title=\"Show this document on CDLI\" sec=\"P509373 obverse:9\">P509373 obverse:9</a></span></td><td class=\"tf\"><span class=\"plain outer   hlbx\" ><span class=\"txto\">gud_</span></span></td></tr>\n",
       "<tr class=\"tf\"><td class=\"tf\">7</td><td class=\"tf\"><span class=\"section ltr\"><a target=\"_blank\" href=\"https://cdli.ucla.edu/search/search_results.php?SearchMode=Text&amp;ObjectID=P509373\" title=\"Show this document on CDLI\" sec=\"P509373 obverse:10\">P509373 obverse:10</a></span></td><td class=\"tf\"><span class=\"plain outer   hlbx\" ><span class=\"txto\">gar3_ </span></span></td></tr>\n",
       "<tr class=\"tf\"><td class=\"tf\">8</td><td class=\"tf\"><span class=\"section ltr\"><a target=\"_blank\" href=\"https://cdli.ucla.edu/search/search_results.php?SearchMode=Text&amp;ObjectID=P509373\" title=\"Show this document on CDLI\" sec=\"P509373 obverse:10\">P509373 obverse:10</a></span></td><td class=\"tf\"><span class=\"plain outer   hlbx\" ><span class=\"txto\">ag-</span></span></td></tr>\n",
       "<tr class=\"tf\"><td class=\"tf\">9</td><td class=\"tf\"><span class=\"section ltr\"><a target=\"_blank\" href=\"https://cdli.ucla.edu/search/search_results.php?SearchMode=Text&amp;ObjectID=P509373\" title=\"Show this document on CDLI\" sec=\"P509373 obverse:10\">P509373 obverse:10</a></span></td><td class=\"tf\"><span class=\"plain outer   hlbx\" ><span class=\"txto\">_uru_ </span></span></td></tr>\n",
       "<tr class=\"tf\"><td class=\"tf\">10</td><td class=\"tf\"><span class=\"section ltr\"><a target=\"_blank\" href=\"https://cdli.ucla.edu/search/search_results.php?SearchMode=Text&amp;ObjectID=P509373\" title=\"Show this document on CDLI\" sec=\"P509373 obverse:11\">P509373 obverse:11</a></span></td><td class=\"tf\"><span class=\"plain outer   hlbx\" ><span class=\"txto\">kam_ </span></span></td></tr>\n",
       "<tr class=\"tf\"><td class=\"tf\">11</td><td class=\"tf\"><span class=\"section ltr\"><a target=\"_blank\" href=\"https://cdli.ucla.edu/search/search_results.php?SearchMode=Text&amp;ObjectID=P509373\" title=\"Show this document on CDLI\" sec=\"P509373 obverse:12\">P509373 obverse:12</a></span></td><td class=\"tf\"><span class=\"plain outer   hlbx\" ><span class=\"txto\">_uru_ </span></span></td></tr>\n",
       "<tr class=\"tf\"><td class=\"tf\">12</td><td class=\"tf\"><span class=\"section ltr\"><a target=\"_blank\" href=\"https://cdli.ucla.edu/search/search_results.php?SearchMode=Text&amp;ObjectID=P509373\" title=\"Show this document on CDLI\" sec=\"P509373 obverse:12\">P509373 obverse:12</a></span></td><td class=\"tf\"><span class=\"plain outer   hlbx\" ><span class=\"txto\">ak-</span></span></td></tr>\n",
       "<tr class=\"tf\"><td class=\"tf\">13</td><td class=\"tf\"><span class=\"section ltr\"><a target=\"_blank\" href=\"https://cdli.ucla.edu/search/search_results.php?SearchMode=Text&amp;ObjectID=P509373\" title=\"Show this document on CDLI\" sec=\"P509373 obverse:13\">P509373 obverse:13</a></span></td><td class=\"tf\"><span class=\"plain outer   hlbx\" ><span class=\"txto\">2(esze3) </span></span></td></tr>\n",
       "<tr class=\"tf\"><td class=\"tf\">14</td><td class=\"tf\"><span class=\"section ltr\"><a target=\"_blank\" href=\"https://cdli.ucla.edu/search/search_results.php?SearchMode=Text&amp;ObjectID=P509373\" title=\"Show this document on CDLI\" sec=\"P509373 obverse:13\">P509373 obverse:13</a></span></td><td class=\"tf\"><span class=\"plain outer   hlbx\" ><span class=\"txto\">szuku_ </span></span></td></tr>\n",
       "<tr class=\"tf\"><td class=\"tf\">15</td><td class=\"tf\"><span class=\"section ltr\"><a target=\"_blank\" href=\"https://cdli.ucla.edu/search/search_results.php?SearchMode=Text&amp;ObjectID=P509373\" title=\"Show this document on CDLI\" sec=\"P509373 obverse:13\">P509373 obverse:13</a></span></td><td class=\"tf\"><span class=\"plain outer   hlbx\" ><span class=\"txto\">_nagar-</span></span></td></tr>\n",
       "<tr class=\"tf\"><td class=\"tf\">16</td><td class=\"tf\"><span class=\"section ltr\"><a target=\"_blank\" href=\"https://cdli.ucla.edu/search/search_results.php?SearchMode=Text&amp;ObjectID=P509373\" title=\"Show this document on CDLI\" sec=\"P509373 obverse:14\">P509373 obverse:14</a></span></td><td class=\"tf\"><span class=\"plain outer   hlbx\" ><span class=\"txto\">gar3 </span></span></td></tr>\n",
       "<tr class=\"tf\"><td class=\"tf\">17</td><td class=\"tf\"><span class=\"section ltr\"><a target=\"_blank\" href=\"https://cdli.ucla.edu/search/search_results.php?SearchMode=Text&amp;ObjectID=P509373\" title=\"Show this document on CDLI\" sec=\"P509373 obverse:14\">P509373 obverse:14</a></span></td><td class=\"tf\"><span class=\"plain outer   hlbx\" ><span class=\"txto\">uru_ </span></span></td></tr>\n",
       "<tr class=\"tf\"><td class=\"tf\">18</td><td class=\"tf\"><span class=\"section ltr\"><a target=\"_blank\" href=\"https://cdli.ucla.edu/search/search_results.php?SearchMode=Text&amp;ObjectID=P509373\" title=\"Show this document on CDLI\" sec=\"P509373 obverse:14\">P509373 obverse:14</a></span></td><td class=\"tf\"><span class=\"plain outer   hlbx\" ><span class=\"txto\">[...]</span></span></td></tr>\n",
       "<tr class=\"tf\"><td class=\"tf\">19</td><td class=\"tf\"><span class=\"section ltr\"><a target=\"_blank\" href=\"https://cdli.ucla.edu/search/search_results.php?SearchMode=Text&amp;ObjectID=P509373\" title=\"Show this document on CDLI\" sec=\"P509373 obverse:15\">P509373 obverse:15</a></span></td><td class=\"tf\"><span class=\"plain outer   hlbx\" ><span class=\"txto\">[...]</span></span></td></tr>\n",
       "<tr class=\"tf\"><td class=\"tf\">20</td><td class=\"tf\"><span class=\"section ltr\"><a target=\"_blank\" href=\"https://cdli.ucla.edu/search/search_results.php?SearchMode=Text&amp;ObjectID=P509373\" title=\"Show this document on CDLI\" sec=\"P509373 obverse:$a\">P509373 obverse:$a</a></span></td><td class=\"tf\"><span class=\"plain outer   hlbx\" ><span class=\"txto\"><span>$</span> rest broken</span></span></td></tr></table>"
      ],
      "text/plain": [
       "<IPython.core.display.HTML object>"
      ]
     },
     "metadata": {},
     "output_type": "display_data"
    }
   ],
   "source": [
    "A.table(results, start=1, end=20)"
   ]
  },
  {
   "cell_type": "markdown",
   "metadata": {},
   "source": [
    "Let's get lines with both ummama and non-ummama signs:"
   ]
  },
  {
   "cell_type": "code",
   "execution_count": 24,
   "metadata": {},
   "outputs": [
    {
     "name": "stdout",
     "output_type": "stream",
     "text": [
      "  0.77s 133413 results\n"
     ]
    }
   ],
   "source": [
    "results = A.search('''\n",
    "line\n",
    "  sign ummama\n",
    "  sign ummama#\n",
    "''')"
   ]
  },
  {
   "cell_type": "code",
   "execution_count": 25,
   "metadata": {},
   "outputs": [
    {
     "data": {
      "text/html": [
       "<table><tr class=\"tf\"><th class=\"tf\">n</th><th class=\"tf\">p</th><th class=\"tf\">line</th><th class=\"tf\">sign</th><th class=\"tf\">sign</th><th class=\"tf\">sign</th></tr>\n",
       "<tr class=\"tf\"><td class=\"tf\">1</td><td class=\"tf\"><span class=\"section ltr\"><a target=\"_blank\" href=\"https://cdli.ucla.edu/search/search_results.php?SearchMode=Text&amp;ObjectID=P509373\" title=\"Show this document on CDLI\" sec=\"P509373 obverse:2\">P509373 obverse:2</a></span></td><td class=\"tf\"><span class=\"plain outer   \" ><span class=\"plain txto \"></span><span class=\"plain     \" ><span class=\"plain txto \"></span><span class=\"plain     hlbx\" ><span class=\"txto\">qi2-</span></span><span class=\"plain     hlbx\" ><span class=\"txto\">bi2-</span></span><span class=\"plain     \" ><span class=\"plain txto \"></span><span class=\"plain     hlbx\" ><span class=\"txto\">[ma]</span></span></span></span></span></td><td class=\"tf\"><span class=\"plain outer   hlbx\" ><span class=\"txto\">qi2-</span></span></td><td class=\"tf\"><span class=\"plain outer   hlbx\" ><span class=\"txto\">bi2-</span></span></td><td class=\"tf\"><span class=\"plain outer   hlbx\" ><span class=\"txto\">[ma]</span></span></td></tr>\n",
       "<tr class=\"tf\"><td class=\"tf\">2</td><td class=\"tf\"><span class=\"section ltr\"><a target=\"_blank\" href=\"https://cdli.ucla.edu/search/search_results.php?SearchMode=Text&amp;ObjectID=P509373\" title=\"Show this document on CDLI\" sec=\"P509373 obverse:5\">P509373 obverse:5</a></span></td><td class=\"tf\"><span class=\"plain outer   \" ><span class=\"plain txto \"></span><span class=\"plain     \" ><span class=\"plain txto \"></span><span class=\"plain     hlbx\" ><span class=\"txto\">li-</span></span><span class=\"plain     hlbx\" ><span class=\"txto\">ba-</span></span><span class=\"plain     hlbx\" ><span class=\"txto\">al-</span></span><span class=\"plain     hlbx\" ><span class=\"txto\">li-</span></span><span class=\"plain     hlbx\" ><span class=\"txto\">t,u2-</span></span><span class=\"plain     hlbx\" ><span class=\"txto\">u2-</span></span><span class=\"plain     hlbx\" ><span class=\"txto\">ka</span></span></span></span></td><td class=\"tf\"><span class=\"plain outer   hlbx\" ><span class=\"txto\">li-</span></span></td><td class=\"tf\"><span class=\"plain outer   hlbx\" ><span class=\"txto\">ba-</span></span></td><td class=\"tf\"><span class=\"plain outer   hlbx\" ><span class=\"txto\">al-</span></span></td><td class=\"tf\"><span class=\"plain outer   hlbx\" ><span class=\"txto\">li-</span></span></td><td class=\"tf\"><span class=\"plain outer   hlbx\" ><span class=\"txto\">t,u2-</span></span></td><td class=\"tf\"><span class=\"plain outer   hlbx\" ><span class=\"txto\">u2-</span></span></td><td class=\"tf\"><span class=\"plain outer   hlbx\" ><span class=\"txto\">ka</span></span></td></tr></table>"
      ],
      "text/plain": [
       "<IPython.core.display.HTML object>"
      ]
     },
     "metadata": {},
     "output_type": "display_data"
    }
   ],
   "source": [
    "A.table(results, start=1, end=2, condensed=True)"
   ]
  },
  {
   "cell_type": "markdown",
   "metadata": {},
   "source": [
    "With highlights:"
   ]
  },
  {
   "cell_type": "code",
   "execution_count": 26,
   "metadata": {},
   "outputs": [],
   "source": [
    "highlights = {}\n",
    "\n",
    "for s in F.otype.s('sign'):\n",
    "  color = 'lightsalmon' if F.ummama.v(s) else 'mediumaquamarine'\n",
    "  highlights[s] = color"
   ]
  },
  {
   "cell_type": "code",
   "execution_count": 27,
   "metadata": {},
   "outputs": [
    {
     "data": {
      "text/html": [
       "<table><tr class=\"tf\"><th class=\"tf\">n</th><th class=\"tf\">p</th><th class=\"tf\">line</th><th class=\"tf\">sign</th><th class=\"tf\">sign</th><th class=\"tf\">sign</th></tr>\n",
       "<tr class=\"tf\"><td class=\"tf\">1</td><td class=\"tf\"><span class=\"section ltr\"><a target=\"_blank\" href=\"https://cdli.ucla.edu/search/search_results.php?SearchMode=Text&amp;ObjectID=P509373\" title=\"Show this document on CDLI\" sec=\"P509373 obverse:2\">P509373 obverse:2</a></span></td><td class=\"tf\"><span class=\"plain outer   \" ><span class=\"plain txto \"></span><span class=\"plain     \" ><span class=\"plain txto \"></span><span class=\"plain     hl\"  style=\"background-color: lightsalmon;\" ><span class=\"txto\">qi2-</span></span><span class=\"plain     hl\"  style=\"background-color: mediumaquamarine;\" ><span class=\"txto\">bi2-</span></span><span class=\"plain     \" ><span class=\"plain txto \"></span><span class=\"plain     hl\"  style=\"background-color: lightsalmon;\" ><span class=\"txto\">[ma]</span></span></span></span></span></td><td class=\"tf\"><span class=\"plain outer   hl\"  style=\"background-color: lightsalmon;\" ><span class=\"txto\">qi2-</span></span></td><td class=\"tf\"><span class=\"plain outer   hl\"  style=\"background-color: mediumaquamarine;\" ><span class=\"txto\">bi2-</span></span></td><td class=\"tf\"><span class=\"plain outer   hl\"  style=\"background-color: lightsalmon;\" ><span class=\"txto\">[ma]</span></span></td></tr>\n",
       "<tr class=\"tf\"><td class=\"tf\">2</td><td class=\"tf\"><span class=\"section ltr\"><a target=\"_blank\" href=\"https://cdli.ucla.edu/search/search_results.php?SearchMode=Text&amp;ObjectID=P509373\" title=\"Show this document on CDLI\" sec=\"P509373 obverse:5\">P509373 obverse:5</a></span></td><td class=\"tf\"><span class=\"plain outer   \" ><span class=\"plain txto \"></span><span class=\"plain     \" ><span class=\"plain txto \"></span><span class=\"plain     hl\"  style=\"background-color: lightsalmon;\" ><span class=\"txto\">li-</span></span><span class=\"plain     hl\"  style=\"background-color: lightsalmon;\" ><span class=\"txto\">ba-</span></span><span class=\"plain     hl\"  style=\"background-color: lightsalmon;\" ><span class=\"txto\">al-</span></span><span class=\"plain     hl\"  style=\"background-color: lightsalmon;\" ><span class=\"txto\">li-</span></span><span class=\"plain     hl\"  style=\"background-color: mediumaquamarine;\" ><span class=\"txto\">t,u2-</span></span><span class=\"plain     hl\"  style=\"background-color: lightsalmon;\" ><span class=\"txto\">u2-</span></span><span class=\"plain     hl\"  style=\"background-color: lightsalmon;\" ><span class=\"txto\">ka</span></span></span></span></td><td class=\"tf\"><span class=\"plain outer   hl\"  style=\"background-color: lightsalmon;\" ><span class=\"txto\">li-</span></span></td><td class=\"tf\"><span class=\"plain outer   hl\"  style=\"background-color: lightsalmon;\" ><span class=\"txto\">ba-</span></span></td><td class=\"tf\"><span class=\"plain outer   hl\"  style=\"background-color: lightsalmon;\" ><span class=\"txto\">al-</span></span></td><td class=\"tf\"><span class=\"plain outer   hl\"  style=\"background-color: lightsalmon;\" ><span class=\"txto\">li-</span></span></td><td class=\"tf\"><span class=\"plain outer   hl\"  style=\"background-color: mediumaquamarine;\" ><span class=\"txto\">t,u2-</span></span></td><td class=\"tf\"><span class=\"plain outer   hl\"  style=\"background-color: lightsalmon;\" ><span class=\"txto\">u2-</span></span></td><td class=\"tf\"><span class=\"plain outer   hl\"  style=\"background-color: lightsalmon;\" ><span class=\"txto\">ka</span></span></td></tr>\n",
       "<tr class=\"tf\"><td class=\"tf\">3</td><td class=\"tf\"><span class=\"section ltr\"><a target=\"_blank\" href=\"https://cdli.ucla.edu/search/search_results.php?SearchMode=Text&amp;ObjectID=P509373\" title=\"Show this document on CDLI\" sec=\"P509373 obverse:6\">P509373 obverse:6</a></span></td><td class=\"tf\"><span class=\"plain outer   \" ><span class=\"plain txto \"></span><span class=\"plain     \" ><span class=\"plain txto \"></span><span class=\"plain     \" ><span class=\"plain txto \"></span><span class=\"plain     hl\"  style=\"background-color: lightsalmon;\" ><span class=\"txto\">{disz}</span></span></span><span class=\"plain     hl\"  style=\"background-color: lightsalmon;\" ><span class=\"txto\">sze-</span></span><span class=\"plain     hl\"  style=\"background-color: lightsalmon;\" ><span class=\"txto\">ep-</span></span><span class=\"plain    rno \" ><span class=\"plain txto \"></span><span class=\"plain     \" ><span class=\"plain txto \"></span><span class=\"plain     hl\"  style=\"background-color: lightsalmon;\" ><span class=\"txto\">_{d}</span></span></span><span class=\"plain     hl\"  style=\"background-color: lightsalmon;\" ><span class=\"txto\">suen </span></span></span></span><span class=\"plain     \" ><span class=\"plain txto \"></span><span class=\"plain     hl\"  style=\"background-color: mediumaquamarine;\" ><span class=\"txto\">a2-</span></span><span class=\"plain     hl\"  style=\"background-color: mediumaquamarine;\" ><span class=\"txto\">gal2 </span></span><span class=\"plain     \" ><span class=\"plain txto \"></span><span class=\"plain     hl\"  style=\"background-color: lightsalmon;\" ><span class=\"txto\">[dumu] </span></span></span><span class=\"plain     hl\"  style=\"background-color: lightsalmon;\" ><span class=\"txto\">um-</span></span><span class=\"plain     hl\"  style=\"background-color: lightsalmon;\" ><span class=\"txto\">mi-</span></span><span class=\"plain     hl\"  style=\"background-color: lightsalmon;\" ><span class=\"txto\">a-</span></span><span class=\"plain     hl\"  style=\"background-color: lightsalmon;\" ><span class=\"txto\">mesz_</span></span></span></span></td><td class=\"tf\"><span class=\"plain outer   hl\"  style=\"background-color: lightsalmon;\" ><span class=\"txto\">{disz}</span></span></td><td class=\"tf\"><span class=\"plain outer   hl\"  style=\"background-color: lightsalmon;\" ><span class=\"txto\">sze-</span></span></td><td class=\"tf\"><span class=\"plain outer   hl\"  style=\"background-color: lightsalmon;\" ><span class=\"txto\">ep-</span></span></td><td class=\"tf\"><span class=\"plain outer   hl\"  style=\"background-color: lightsalmon;\" ><span class=\"txto\">_{d}</span></span></td><td class=\"tf\"><span class=\"plain outer   hl\"  style=\"background-color: lightsalmon;\" ><span class=\"txto\">suen </span></span></td><td class=\"tf\"><span class=\"plain outer   hl\"  style=\"background-color: mediumaquamarine;\" ><span class=\"txto\">a2-</span></span></td><td class=\"tf\"><span class=\"plain outer   hl\"  style=\"background-color: mediumaquamarine;\" ><span class=\"txto\">gal2 </span></span></td><td class=\"tf\"><span class=\"plain outer   hl\"  style=\"background-color: lightsalmon;\" ><span class=\"txto\">[dumu] </span></span></td><td class=\"tf\"><span class=\"plain outer   hl\"  style=\"background-color: lightsalmon;\" ><span class=\"txto\">um-</span></span></td><td class=\"tf\"><span class=\"plain outer   hl\"  style=\"background-color: lightsalmon;\" ><span class=\"txto\">mi-</span></span></td><td class=\"tf\"><span class=\"plain outer   hl\"  style=\"background-color: lightsalmon;\" ><span class=\"txto\">a-</span></span></td><td class=\"tf\"><span class=\"plain outer   hl\"  style=\"background-color: lightsalmon;\" ><span class=\"txto\">mesz_</span></span></td></tr>\n",
       "<tr class=\"tf\"><td class=\"tf\">4</td><td class=\"tf\"><span class=\"section ltr\"><a target=\"_blank\" href=\"https://cdli.ucla.edu/search/search_results.php?SearchMode=Text&amp;ObjectID=P509373\" title=\"Show this document on CDLI\" sec=\"P509373 obverse:9\">P509373 obverse:9</a></span></td><td class=\"tf\"><span class=\"plain outer   \" ><span class=\"plain txto \"></span><span class=\"plain     \" ><span class=\"plain txto \"></span><span class=\"plain     hl\"  style=\"background-color: mediumaquamarine;\" ><span class=\"txto\">2(esze3) </span></span></span><span class=\"plain     \" ><span class=\"plain txto \"></span><span class=\"plain     \" ><span class=\"plain txto \"></span><span class=\"plain     hl\"  style=\"background-color: lightsalmon;\" ><span class=\"txto\">_a-</span></span><span class=\"plain     hl\"  style=\"background-color: lightsalmon;\" ><span class=\"txto\">sza3_ </span></span></span></span><span class=\"plain     \" ><span class=\"plain txto \"></span><span class=\"plain     hl\"  style=\"background-color: lightsalmon;\" ><span class=\"txto\">s,i-</span></span><span class=\"plain     \" ><span class=\"plain txto \"></span><span class=\"plain     hl\"  style=\"background-color: lightsalmon;\" ><span class=\"txto\">[bi]-</span></span></span><span class=\"plain     hl\"  style=\"background-color: lightsalmon;\" ><span class=\"txto\">it </span></span></span><span class=\"plain     \" ><span class=\"plain txto \"></span><span class=\"plain     \" ><span class=\"plain txto \"></span><span class=\"plain     hl\"  style=\"background-color: lightsalmon;\" ><span class=\"txto\">{disz}</span></span></span><span class=\"plain     \" ><span class=\"plain txto \"></span><span class=\"plain     hl\"  style=\"background-color: lightsalmon;\" ><span class=\"txto\">[ku]-</span></span></span><span class=\"plain     hl\"  style=\"background-color: lightsalmon;\" ><span class=\"txto\">un-</span></span><span class=\"plain     hl\"  style=\"background-color: lightsalmon;\" ><span class=\"txto\">zu-</span></span><span class=\"plain     hl\"  style=\"background-color: lightsalmon;\" ><span class=\"txto\">lum </span></span></span><span class=\"plain     \" ><span class=\"plain txto \"></span><span class=\"plain     \" ><span class=\"plain txto \"></span><span class=\"plain     hl\"  style=\"background-color: lightsalmon;\" ><span class=\"txto\">_sza3-</span></span><span class=\"plain     hl\"  style=\"background-color: mediumaquamarine;\" ><span class=\"txto\">gud_</span></span></span></span></span></td><td class=\"tf\"><span class=\"plain outer   hl\"  style=\"background-color: mediumaquamarine;\" ><span class=\"txto\">2(esze3) </span></span></td><td class=\"tf\"><span class=\"plain outer   hl\"  style=\"background-color: lightsalmon;\" ><span class=\"txto\">_a-</span></span></td><td class=\"tf\"><span class=\"plain outer   hl\"  style=\"background-color: lightsalmon;\" ><span class=\"txto\">sza3_ </span></span></td><td class=\"tf\"><span class=\"plain outer   hl\"  style=\"background-color: lightsalmon;\" ><span class=\"txto\">s,i-</span></span></td><td class=\"tf\"><span class=\"plain outer   hl\"  style=\"background-color: lightsalmon;\" ><span class=\"txto\">[bi]-</span></span></td><td class=\"tf\"><span class=\"plain outer   hl\"  style=\"background-color: lightsalmon;\" ><span class=\"txto\">it </span></span></td><td class=\"tf\"><span class=\"plain outer   hl\"  style=\"background-color: lightsalmon;\" ><span class=\"txto\">{disz}</span></span></td><td class=\"tf\"><span class=\"plain outer   hl\"  style=\"background-color: lightsalmon;\" ><span class=\"txto\">[ku]-</span></span></td><td class=\"tf\"><span class=\"plain outer   hl\"  style=\"background-color: lightsalmon;\" ><span class=\"txto\">un-</span></span></td><td class=\"tf\"><span class=\"plain outer   hl\"  style=\"background-color: lightsalmon;\" ><span class=\"txto\">zu-</span></span></td><td class=\"tf\"><span class=\"plain outer   hl\"  style=\"background-color: lightsalmon;\" ><span class=\"txto\">lum </span></span></td><td class=\"tf\"><span class=\"plain outer   hl\"  style=\"background-color: lightsalmon;\" ><span class=\"txto\">_sza3-</span></span></td><td class=\"tf\"><span class=\"plain outer   hl\"  style=\"background-color: mediumaquamarine;\" ><span class=\"txto\">gud_</span></span></td></tr>\n",
       "<tr class=\"tf\"><td class=\"tf\">5</td><td class=\"tf\"><span class=\"section ltr\"><a target=\"_blank\" href=\"https://cdli.ucla.edu/search/search_results.php?SearchMode=Text&amp;ObjectID=P509373\" title=\"Show this document on CDLI\" sec=\"P509373 obverse:10\">P509373 obverse:10</a></span></td><td class=\"tf\"><span class=\"plain outer   \" ><span class=\"plain txto \"></span><span class=\"plain     \" ><span class=\"plain txto \"></span><span class=\"plain     hl\"  style=\"background-color: lightsalmon;\" ><span class=\"txto\">_a-</span></span><span class=\"plain     hl\"  style=\"background-color: lightsalmon;\" ><span class=\"txto\">sza3 </span></span><span class=\"plain     hl\"  style=\"background-color: lightsalmon;\" ><span class=\"txto\">a-</span></span><span class=\"plain     hl\"  style=\"background-color: mediumaquamarine;\" ><span class=\"txto\">gar3_ </span></span></span><span class=\"plain     \" ><span class=\"plain txto \"></span><span class=\"plain     hl\"  style=\"background-color: lightsalmon;\" ><span class=\"txto\">na-</span></span><span class=\"plain     hl\"  style=\"background-color: mediumaquamarine;\" ><span class=\"txto\">ag-</span></span><span class=\"plain     \" ><span class=\"plain txto \"></span><span class=\"plain     hl\"  style=\"background-color: lightsalmon;\" ><span class=\"txto\">[ma-</span></span><span class=\"plain     hl\"  style=\"background-color: lightsalmon;\" ><span class=\"txto\">lum] </span></span></span></span><span class=\"plain     \" ><span class=\"plain txto \"></span><span class=\"plain     \" ><span class=\"plain txto \"></span><span class=\"plain     hl\"  style=\"background-color: mediumaquamarine;\" ><span class=\"txto\">_uru_ </span></span></span></span><span class=\"plain     \" ><span class=\"plain txto \"></span><span class=\"plain     hl\"  style=\"background-color: lightsalmon;\" ><span class=\"txto\">x </span></span></span><span class=\"plain     \" ><span class=\"plain txto \"></span><span class=\"plain     hl\"  style=\"background-color: lightsalmon;\" ><span class=\"txto\">x </span></span></span><span class=\"plain     \" ><span class=\"plain txto \"></span><span class=\"plain     hl\"  style=\"background-color: lightsalmon;\" ><span class=\"txto\">x</span></span><span class=\"plain     \" ><span class=\"plain txto \"></span><span class=\"plain     hl\"  style=\"background-color: lightsalmon;\" ><span class=\"txto\">{ki}</span></span></span></span></span></td><td class=\"tf\"><span class=\"plain outer   hl\"  style=\"background-color: lightsalmon;\" ><span class=\"txto\">[ma-</span></span></td><td class=\"tf\"><span class=\"plain outer   hl\"  style=\"background-color: lightsalmon;\" ><span class=\"txto\">lum] </span></span></td><td class=\"tf\"><span class=\"plain outer   hl\"  style=\"background-color: mediumaquamarine;\" ><span class=\"txto\">_uru_ </span></span></td><td class=\"tf\"><span class=\"plain outer   hl\"  style=\"background-color: lightsalmon;\" ><span class=\"txto\">x </span></span></td><td class=\"tf\"><span class=\"plain outer   hl\"  style=\"background-color: lightsalmon;\" ><span class=\"txto\">x </span></span></td><td class=\"tf\"><span class=\"plain outer   hl\"  style=\"background-color: lightsalmon;\" ><span class=\"txto\">x</span></span></td><td class=\"tf\"><span class=\"plain outer   hl\"  style=\"background-color: lightsalmon;\" ><span class=\"txto\">{ki}</span></span></td><td class=\"tf\"><span class=\"plain outer   hl\"  style=\"background-color: lightsalmon;\" ><span class=\"txto\">_a-</span></span></td><td class=\"tf\"><span class=\"plain outer   hl\"  style=\"background-color: lightsalmon;\" ><span class=\"txto\">sza3 </span></span></td><td class=\"tf\"><span class=\"plain outer   hl\"  style=\"background-color: lightsalmon;\" ><span class=\"txto\">a-</span></span></td><td class=\"tf\"><span class=\"plain outer   hl\"  style=\"background-color: mediumaquamarine;\" ><span class=\"txto\">gar3_ </span></span></td><td class=\"tf\"><span class=\"plain outer   hl\"  style=\"background-color: lightsalmon;\" ><span class=\"txto\">na-</span></span></td><td class=\"tf\"><span class=\"plain outer   hl\"  style=\"background-color: mediumaquamarine;\" ><span class=\"txto\">ag-</span></span></td></tr>\n",
       "<tr class=\"tf\"><td class=\"tf\">6</td><td class=\"tf\"><span class=\"section ltr\"><a target=\"_blank\" href=\"https://cdli.ucla.edu/search/search_results.php?SearchMode=Text&amp;ObjectID=P509373\" title=\"Show this document on CDLI\" sec=\"P509373 obverse:11\">P509373 obverse:11</a></span></td><td class=\"tf\"><span class=\"plain outer   \" ><span class=\"plain txto \"></span><span class=\"plain     \" ><span class=\"plain txto \"></span><span class=\"plain     hl\"  style=\"background-color: lightsalmon;\" ><span class=\"txto\">sza </span></span></span><span class=\"plain     \" ><span class=\"plain txto \"></span><span class=\"plain     \" ><span class=\"plain txto \"></span><span class=\"plain     \" ><span class=\"plain txto \"></span><span class=\"plain     hl\"  style=\"background-color: lightsalmon;\" ><span class=\"txto\">_{d}</span></span></span><span class=\"plain     hl\"  style=\"background-color: lightsalmon;\" ><span class=\"txto\">utu_-</span></span></span><span class=\"plain     hl\"  style=\"background-color: lightsalmon;\" ><span class=\"txto\">ha-</span></span><span class=\"plain     hl\"  style=\"background-color: lightsalmon;\" ><span class=\"txto\">zi-</span></span><span class=\"plain     \" ><span class=\"plain txto \"></span><span class=\"plain     hl\"  style=\"background-color: lightsalmon;\" ><span class=\"txto\">[ir] </span></span></span></span><span class=\"plain     \" ><span class=\"plain txto \"></span><span class=\"plain     hl\"  style=\"background-color: lightsalmon;\" ><span class=\"txto\">isz-</span></span><span class=\"plain     hl\"  style=\"background-color: lightsalmon;\" ><span class=\"txto\">tu </span></span></span><span class=\"plain     \" ><span class=\"plain txto \"></span><span class=\"plain     hl\"  style=\"background-color: lightsalmon;\" ><span class=\"txto\">_mu </span></span><span class=\"plain     hl\"  style=\"background-color: lightsalmon;\" ><span class=\"txto\">7(disz) </span></span><span class=\"plain     hl\"  style=\"background-color: mediumaquamarine;\" ><span class=\"txto\">kam_ </span></span></span><span class=\"plain     \" ><span class=\"plain txto \"></span><span class=\"plain     hl\"  style=\"background-color: lightsalmon;\" ><span class=\"txto\">id-</span></span><span class=\"plain     hl\"  style=\"background-color: lightsalmon;\" ><span class=\"txto\">di-</span></span><span class=\"plain     hl\"  style=\"background-color: lightsalmon;\" ><span class=\"txto\">nu-</span></span><span class=\"plain     hl\"  style=\"background-color: lightsalmon;\" ><span class=\"txto\">szum</span></span></span></span></td><td class=\"tf\"><span class=\"plain outer   hl\"  style=\"background-color: lightsalmon;\" ><span class=\"txto\">sza </span></span></td><td class=\"tf\"><span class=\"plain outer   hl\"  style=\"background-color: lightsalmon;\" ><span class=\"txto\">_{d}</span></span></td><td class=\"tf\"><span class=\"plain outer   hl\"  style=\"background-color: lightsalmon;\" ><span class=\"txto\">utu_-</span></span></td><td class=\"tf\"><span class=\"plain outer   hl\"  style=\"background-color: lightsalmon;\" ><span class=\"txto\">ha-</span></span></td><td class=\"tf\"><span class=\"plain outer   hl\"  style=\"background-color: lightsalmon;\" ><span class=\"txto\">zi-</span></span></td><td class=\"tf\"><span class=\"plain outer   hl\"  style=\"background-color: lightsalmon;\" ><span class=\"txto\">[ir] </span></span></td><td class=\"tf\"><span class=\"plain outer   hl\"  style=\"background-color: lightsalmon;\" ><span class=\"txto\">isz-</span></span></td><td class=\"tf\"><span class=\"plain outer   hl\"  style=\"background-color: lightsalmon;\" ><span class=\"txto\">tu </span></span></td><td class=\"tf\"><span class=\"plain outer   hl\"  style=\"background-color: lightsalmon;\" ><span class=\"txto\">_mu </span></span></td><td class=\"tf\"><span class=\"plain outer   hl\"  style=\"background-color: lightsalmon;\" ><span class=\"txto\">7(disz) </span></span></td><td class=\"tf\"><span class=\"plain outer   hl\"  style=\"background-color: mediumaquamarine;\" ><span class=\"txto\">kam_ </span></span></td><td class=\"tf\"><span class=\"plain outer   hl\"  style=\"background-color: lightsalmon;\" ><span class=\"txto\">id-</span></span></td><td class=\"tf\"><span class=\"plain outer   hl\"  style=\"background-color: lightsalmon;\" ><span class=\"txto\">di-</span></span></td><td class=\"tf\"><span class=\"plain outer   hl\"  style=\"background-color: lightsalmon;\" ><span class=\"txto\">nu-</span></span></td><td class=\"tf\"><span class=\"plain outer   hl\"  style=\"background-color: lightsalmon;\" ><span class=\"txto\">szum</span></span></td></tr>\n",
       "<tr class=\"tf\"><td class=\"tf\">7</td><td class=\"tf\"><span class=\"section ltr\"><a target=\"_blank\" href=\"https://cdli.ucla.edu/search/search_results.php?SearchMode=Text&amp;ObjectID=P509373\" title=\"Show this document on CDLI\" sec=\"P509373 obverse:12\">P509373 obverse:12</a></span></td><td class=\"tf\"><span class=\"plain outer   \" ><span class=\"plain txto \"></span><span class=\"plain     \" ><span class=\"plain txto \"></span><span class=\"plain     hl\"  style=\"background-color: lightsalmon;\" ><span class=\"txto\">u3 </span></span></span><span class=\"plain     \" ><span class=\"plain txto \"></span><span class=\"plain     hl\"  style=\"background-color: lightsalmon;\" ><span class=\"txto\">i-</span></span><span class=\"plain     hl\"  style=\"background-color: lightsalmon;\" ><span class=\"txto\">na </span></span></span><span class=\"plain     \" ><span class=\"plain txto \"></span><span class=\"plain     \" ><span class=\"plain txto \"></span><span class=\"plain     hl\"  style=\"background-color: mediumaquamarine;\" ><span class=\"txto\">_uru_ </span></span></span></span><span class=\"plain     \" ><span class=\"plain txto \"></span><span class=\"plain     hl\"  style=\"background-color: lightsalmon;\" ><span class=\"txto\">x-</span></span><span class=\"plain     hl\"  style=\"background-color: lightsalmon;\" ><span class=\"txto\">szum</span></span><span class=\"plain     \" ><span class=\"plain txto \"></span><span class=\"plain     hl\"  style=\"background-color: lightsalmon;\" ><span class=\"txto\">{ki} </span></span></span></span><span class=\"plain     \" ><span class=\"plain txto \"></span><span class=\"plain     hl\"  style=\"background-color: lightsalmon;\" ><span class=\"txto\">sza-</span></span><span class=\"plain     hl\"  style=\"background-color: mediumaquamarine;\" ><span class=\"txto\">ak-</span></span><span class=\"plain     hl\"  style=\"background-color: lightsalmon;\" ><span class=\"txto\">nu </span></span></span><span class=\"plain     \" ><span class=\"plain txto \"></span><span class=\"plain     hl\"  style=\"background-color: lightsalmon;\" ><span class=\"txto\">id-</span></span><span class=\"plain     hl\"  style=\"background-color: lightsalmon;\" ><span class=\"txto\">di-</span></span><span class=\"plain     hl\"  style=\"background-color: lightsalmon;\" ><span class=\"txto\">a-</span></span><span class=\"plain     hl\"  style=\"background-color: lightsalmon;\" ><span class=\"txto\">am-</span></span><span class=\"plain     hl\"  style=\"background-color: lightsalmon;\" ><span class=\"txto\">ma</span></span></span></span></td><td class=\"tf\"><span class=\"plain outer   hl\"  style=\"background-color: lightsalmon;\" ><span class=\"txto\">id-</span></span></td><td class=\"tf\"><span class=\"plain outer   hl\"  style=\"background-color: lightsalmon;\" ><span class=\"txto\">di-</span></span></td><td class=\"tf\"><span class=\"plain outer   hl\"  style=\"background-color: lightsalmon;\" ><span class=\"txto\">a-</span></span></td><td class=\"tf\"><span class=\"plain outer   hl\"  style=\"background-color: lightsalmon;\" ><span class=\"txto\">am-</span></span></td><td class=\"tf\"><span class=\"plain outer   hl\"  style=\"background-color: lightsalmon;\" ><span class=\"txto\">ma</span></span></td><td class=\"tf\"><span class=\"plain outer   hl\"  style=\"background-color: lightsalmon;\" ><span class=\"txto\">u3 </span></span></td><td class=\"tf\"><span class=\"plain outer   hl\"  style=\"background-color: lightsalmon;\" ><span class=\"txto\">i-</span></span></td><td class=\"tf\"><span class=\"plain outer   hl\"  style=\"background-color: lightsalmon;\" ><span class=\"txto\">na </span></span></td><td class=\"tf\"><span class=\"plain outer   hl\"  style=\"background-color: mediumaquamarine;\" ><span class=\"txto\">_uru_ </span></span></td><td class=\"tf\"><span class=\"plain outer   hl\"  style=\"background-color: lightsalmon;\" ><span class=\"txto\">x-</span></span></td><td class=\"tf\"><span class=\"plain outer   hl\"  style=\"background-color: lightsalmon;\" ><span class=\"txto\">szum</span></span></td><td class=\"tf\"><span class=\"plain outer   hl\"  style=\"background-color: lightsalmon;\" ><span class=\"txto\">{ki} </span></span></td><td class=\"tf\"><span class=\"plain outer   hl\"  style=\"background-color: lightsalmon;\" ><span class=\"txto\">sza-</span></span></td><td class=\"tf\"><span class=\"plain outer   hl\"  style=\"background-color: mediumaquamarine;\" ><span class=\"txto\">ak-</span></span></td><td class=\"tf\"><span class=\"plain outer   hl\"  style=\"background-color: lightsalmon;\" ><span class=\"txto\">nu </span></span></td></tr>\n",
       "<tr class=\"tf\"><td class=\"tf\">8</td><td class=\"tf\"><span class=\"section ltr\"><a target=\"_blank\" href=\"https://cdli.ucla.edu/search/search_results.php?SearchMode=Text&amp;ObjectID=P509373\" title=\"Show this document on CDLI\" sec=\"P509373 obverse:13\">P509373 obverse:13</a></span></td><td class=\"tf\"><span class=\"plain outer   \" ><span class=\"plain txto \"></span><span class=\"plain     \" ><span class=\"plain txto \"></span><span class=\"plain     hl\"  style=\"background-color: mediumaquamarine;\" ><span class=\"txto\">2(esze3) </span></span></span><span class=\"plain     \" ><span class=\"plain txto \"></span><span class=\"plain     hl\"  style=\"background-color: lightsalmon;\" ><span class=\"txto\">_a-</span></span><span class=\"plain     hl\"  style=\"background-color: lightsalmon;\" ><span class=\"txto\">sza3 </span></span><span class=\"plain     hl\"  style=\"background-color: mediumaquamarine;\" ><span class=\"txto\">szuku_ </span></span></span><span class=\"plain     \" ><span class=\"plain txto \"></span><span class=\"plain     hl\"  style=\"background-color: lightsalmon;\" ><span class=\"txto\">i-</span></span><span class=\"plain     hl\"  style=\"background-color: lightsalmon;\" ><span class=\"txto\">li-</span></span><span class=\"plain     hl\"  style=\"background-color: lightsalmon;\" ><span class=\"txto\">ib-</span></span><span class=\"plain     hl\"  style=\"background-color: lightsalmon;\" ><span class=\"txto\">bu </span></span></span><span class=\"plain     \" ><span class=\"plain txto \"></span><span class=\"plain     hl\"  style=\"background-color: lightsalmon;\" ><span class=\"txto\">s,i-</span></span><span class=\"plain     hl\"  style=\"background-color: lightsalmon;\" ><span class=\"txto\">bi-</span></span><span class=\"plain     hl\"  style=\"background-color: lightsalmon;\" ><span class=\"txto\">it </span></span></span><span class=\"plain     \" ><span class=\"plain txto \"></span><span class=\"plain     \" ><span class=\"plain txto \"></span><span class=\"plain     hl\"  style=\"background-color: mediumaquamarine;\" ><span class=\"txto\">_nagar-</span></span><span class=\"plain     hl\"  style=\"background-color: lightsalmon;\" ><span class=\"txto\">mesz_</span></span></span></span></span></td><td class=\"tf\"><span class=\"plain outer   hl\"  style=\"background-color: mediumaquamarine;\" ><span class=\"txto\">2(esze3) </span></span></td><td class=\"tf\"><span class=\"plain outer   hl\"  style=\"background-color: lightsalmon;\" ><span class=\"txto\">_a-</span></span></td><td class=\"tf\"><span class=\"plain outer   hl\"  style=\"background-color: lightsalmon;\" ><span class=\"txto\">sza3 </span></span></td><td class=\"tf\"><span class=\"plain outer   hl\"  style=\"background-color: mediumaquamarine;\" ><span class=\"txto\">szuku_ </span></span></td><td class=\"tf\"><span class=\"plain outer   hl\"  style=\"background-color: lightsalmon;\" ><span class=\"txto\">i-</span></span></td><td class=\"tf\"><span class=\"plain outer   hl\"  style=\"background-color: lightsalmon;\" ><span class=\"txto\">li-</span></span></td><td class=\"tf\"><span class=\"plain outer   hl\"  style=\"background-color: lightsalmon;\" ><span class=\"txto\">ib-</span></span></td><td class=\"tf\"><span class=\"plain outer   hl\"  style=\"background-color: lightsalmon;\" ><span class=\"txto\">bu </span></span></td><td class=\"tf\"><span class=\"plain outer   hl\"  style=\"background-color: lightsalmon;\" ><span class=\"txto\">s,i-</span></span></td><td class=\"tf\"><span class=\"plain outer   hl\"  style=\"background-color: lightsalmon;\" ><span class=\"txto\">bi-</span></span></td><td class=\"tf\"><span class=\"plain outer   hl\"  style=\"background-color: lightsalmon;\" ><span class=\"txto\">it </span></span></td><td class=\"tf\"><span class=\"plain outer   hl\"  style=\"background-color: mediumaquamarine;\" ><span class=\"txto\">_nagar-</span></span></td><td class=\"tf\"><span class=\"plain outer   hl\"  style=\"background-color: lightsalmon;\" ><span class=\"txto\">mesz_</span></span></td></tr>\n",
       "<tr class=\"tf\"><td class=\"tf\">9</td><td class=\"tf\"><span class=\"section ltr\"><a target=\"_blank\" href=\"https://cdli.ucla.edu/search/search_results.php?SearchMode=Text&amp;ObjectID=P509373\" title=\"Show this document on CDLI\" sec=\"P509373 obverse:14\">P509373 obverse:14</a></span></td><td class=\"tf\"><span class=\"plain outer   \" ><span class=\"plain txto \"></span><span class=\"plain     \" ><span class=\"plain txto \"></span><span class=\"plain     hl\"  style=\"background-color: lightsalmon;\" ><span class=\"txto\">_a-</span></span><span class=\"plain     hl\"  style=\"background-color: lightsalmon;\" ><span class=\"txto\">sza3 </span></span><span class=\"plain     hl\"  style=\"background-color: lightsalmon;\" ><span class=\"txto\">a-</span></span><span class=\"plain     hl\"  style=\"background-color: mediumaquamarine;\" ><span class=\"txto\">gar3 </span></span><span class=\"plain     hl\"  style=\"background-color: mediumaquamarine;\" ><span class=\"txto\">uru_ </span></span></span><span class=\"plain     \" ><span class=\"plain txto \"></span><span class=\"plain     hl\"  style=\"background-color: lightsalmon;\" ><span class=\"txto\">ra-</span></span><span class=\"plain     hl\"  style=\"background-color: lightsalmon;\" ><span class=\"txto\">bu-</span></span><span class=\"plain     hl\"  style=\"background-color: lightsalmon;\" ><span class=\"txto\">um </span></span></span><span class=\"plain     \" ><span class=\"plain txto \"></span><span class=\"plain     hl\"  style=\"background-color: lightsalmon;\" ><span class=\"txto\">x </span></span></span><span class=\"plain     \" ><span class=\"plain txto \"></span><span class=\"plain     \" ><span class=\"plain txto \"></span><span class=\"plain     hl\"  style=\"background-color: mediumaquamarine;\" ><span class=\"txto\">[...]</span></span></span></span></span></td><td class=\"tf\"><span class=\"plain outer   hl\"  style=\"background-color: lightsalmon;\" ><span class=\"txto\">_a-</span></span></td><td class=\"tf\"><span class=\"plain outer   hl\"  style=\"background-color: lightsalmon;\" ><span class=\"txto\">sza3 </span></span></td><td class=\"tf\"><span class=\"plain outer   hl\"  style=\"background-color: lightsalmon;\" ><span class=\"txto\">a-</span></span></td><td class=\"tf\"><span class=\"plain outer   hl\"  style=\"background-color: mediumaquamarine;\" ><span class=\"txto\">gar3 </span></span></td><td class=\"tf\"><span class=\"plain outer   hl\"  style=\"background-color: mediumaquamarine;\" ><span class=\"txto\">uru_ </span></span></td><td class=\"tf\"><span class=\"plain outer   hl\"  style=\"background-color: lightsalmon;\" ><span class=\"txto\">ra-</span></span></td><td class=\"tf\"><span class=\"plain outer   hl\"  style=\"background-color: lightsalmon;\" ><span class=\"txto\">bu-</span></span></td><td class=\"tf\"><span class=\"plain outer   hl\"  style=\"background-color: lightsalmon;\" ><span class=\"txto\">um </span></span></td><td class=\"tf\"><span class=\"plain outer   hl\"  style=\"background-color: lightsalmon;\" ><span class=\"txto\">x </span></span></td><td class=\"tf\"><span class=\"plain outer   hl\"  style=\"background-color: mediumaquamarine;\" ><span class=\"txto\">[...]</span></span></td></tr>\n",
       "<tr class=\"tf\"><td class=\"tf\">10</td><td class=\"tf\"><span class=\"section ltr\"><a target=\"_blank\" href=\"https://cdli.ucla.edu/search/search_results.php?SearchMode=Text&amp;ObjectID=P509373\" title=\"Show this document on CDLI\" sec=\"P509373 obverse:15\">P509373 obverse:15</a></span></td><td class=\"tf\"><span class=\"plain outer   \" ><span class=\"plain txto \"></span><span class=\"plain     \" ><span class=\"plain txto \"></span><span class=\"plain     hl\"  style=\"background-color: lightsalmon;\" ><span class=\"txto\">x </span></span></span><span class=\"plain     \" ><span class=\"plain txto \"></span><span class=\"plain     hl\"  style=\"background-color: lightsalmon;\" ><span class=\"txto\">x </span></span></span><span class=\"plain     \" ><span class=\"plain txto \"></span><span class=\"plain     hl\"  style=\"background-color: lightsalmon;\" ><span class=\"txto\">x </span></span></span><span class=\"plain     \" ><span class=\"plain txto \"></span><span class=\"plain     hl\"  style=\"background-color: lightsalmon;\" ><span class=\"txto\">x </span></span></span><span class=\"plain     \" ><span class=\"plain txto \"></span><span class=\"plain     hl\"  style=\"background-color: lightsalmon;\" ><span class=\"txto\">x </span></span></span><span class=\"plain     \" ><span class=\"plain txto \"></span><span class=\"plain     hl\"  style=\"background-color: lightsalmon;\" ><span class=\"txto\">x </span></span></span><span class=\"plain     \" ><span class=\"plain txto \"></span><span class=\"plain     \" ><span class=\"plain txto \"></span><span class=\"plain     hl\"  style=\"background-color: mediumaquamarine;\" ><span class=\"txto\">[...]</span></span></span></span></span></td><td class=\"tf\"><span class=\"plain outer   hl\"  style=\"background-color: lightsalmon;\" ><span class=\"txto\">x </span></span></td><td class=\"tf\"><span class=\"plain outer   hl\"  style=\"background-color: lightsalmon;\" ><span class=\"txto\">x </span></span></td><td class=\"tf\"><span class=\"plain outer   hl\"  style=\"background-color: mediumaquamarine;\" ><span class=\"txto\">[...]</span></span></td><td class=\"tf\"><span class=\"plain outer   hl\"  style=\"background-color: lightsalmon;\" ><span class=\"txto\">x </span></span></td><td class=\"tf\"><span class=\"plain outer   hl\"  style=\"background-color: lightsalmon;\" ><span class=\"txto\">x </span></span></td><td class=\"tf\"><span class=\"plain outer   hl\"  style=\"background-color: lightsalmon;\" ><span class=\"txto\">x </span></span></td><td class=\"tf\"><span class=\"plain outer   hl\"  style=\"background-color: lightsalmon;\" ><span class=\"txto\">x </span></span></td></tr></table>"
      ],
      "text/plain": [
       "<IPython.core.display.HTML object>"
      ]
     },
     "metadata": {},
     "output_type": "display_data"
    }
   ],
   "source": [
    "A.table(results, start=1, end=10, baseTypes=\"sign\", condensed=True, highlights=highlights)"
   ]
  },
  {
   "cell_type": "markdown",
   "metadata": {},
   "source": [
    "If we do a pretty display, the `ummama` feature shows up."
   ]
  },
  {
   "cell_type": "code",
   "execution_count": 28,
   "metadata": {},
   "outputs": [
    {
     "data": {
      "text/html": [
       "<p><b>line</b> <i>1</i></p>"
      ],
      "text/plain": [
       "<IPython.core.display.HTML object>"
      ]
     },
     "metadata": {},
     "output_type": "display_data"
    },
    {
     "data": {
      "text/html": [
       "<span class=\"section ltr\"><a target=\"_blank\" href=\"https://cdli.ucla.edu/search/search_results.php?SearchMode=Text&amp;ObjectID=P509373\" title=\"Show this document on CDLI\" sec=\"P509373 obverse:2\">P509373 obverse:2</a> </span><div class=\"contnr c3    \" ><div class=\"lbl c3  \" ><span class=\"nd\">line:230789</span></div><div class=\"children hor wrap \"><div class=\"contnr c2     \" ><div class=\"lbl c2  \" ><span class=\"nd\">word:258165</span> <span class=\"txto\">qi2-bi2-[ma]</span></div><div class=\"children hor  \"><div class=\"contnr c0 trm    hl\"  style=\"background-color: lightsalmon;\" ><div class=\"lbl c0 trm hl\"  style=\"background-color: lightsalmon;\" ><span class=\"nd\">8</span> <span class=\"txto\">qi2-</span></div><div class='features'><span class=\"ummama xft\" ><span class=\"f\">ummama=</span>1</span></div></div><div class=\"contnr c0 trm    hl\"  style=\"background-color: mediumaquamarine;\" ><div class=\"lbl c0 trm hl\"  style=\"background-color: mediumaquamarine;\" ><span class=\"nd\">9</span> <span class=\"txto\">bi2-</span></div></div><div class=\"contnr c1     \" ><div class=\"lbl c1  \" ><span class=\"nd\">cluster:203224</span></div><div class=\"children hor wrap \"><div class=\"contnr c0 trm    hl\"  style=\"background-color: lightsalmon;\" ><div class=\"lbl c0 trm hl\"  style=\"background-color: lightsalmon;\" ><span class=\"nd\">10</span> <span class=\"txto\">[ma]</span></div><div class='features'><span class=\"ummama xft\" ><span class=\"f\">ummama=</span>1</span></div></div></div></div></div></div></div></div>"
      ],
      "text/plain": [
       "<IPython.core.display.HTML object>"
      ]
     },
     "metadata": {},
     "output_type": "display_data"
    },
    {
     "data": {
      "text/html": [
       "<p><b>line</b> <i>2</i></p>"
      ],
      "text/plain": [
       "<IPython.core.display.HTML object>"
      ]
     },
     "metadata": {},
     "output_type": "display_data"
    },
    {
     "data": {
      "text/html": [
       "<span class=\"section ltr\"><a target=\"_blank\" href=\"https://cdli.ucla.edu/search/search_results.php?SearchMode=Text&amp;ObjectID=P509373\" title=\"Show this document on CDLI\" sec=\"P509373 obverse:5\">P509373 obverse:5</a> </span><div class=\"contnr c3    \" ><div class=\"lbl c3  \" ><span class=\"nd\">line:230792</span></div><div class=\"children hor wrap \"><div class=\"contnr c2     \" ><div class=\"lbl c2  \" ><span class=\"nd\">word:258173</span> <span class=\"txto\">li-ba-al-li-t,u2-u2-ka</span></div><div class=\"children hor  \"><div class=\"contnr c0 trm    hl\"  style=\"background-color: lightsalmon;\" ><div class=\"lbl c0 trm hl\"  style=\"background-color: lightsalmon;\" ><span class=\"nd\">32</span> <span class=\"txto\">li-</span></div><div class='features'><span class=\"ummama xft\" ><span class=\"f\">ummama=</span>1</span></div></div><div class=\"contnr c0 trm    hl\"  style=\"background-color: lightsalmon;\" ><div class=\"lbl c0 trm hl\"  style=\"background-color: lightsalmon;\" ><span class=\"nd\">33</span> <span class=\"txto\">ba-</span></div><div class='features'><span class=\"ummama xft\" ><span class=\"f\">ummama=</span>1</span></div></div><div class=\"contnr c0 trm    hl\"  style=\"background-color: lightsalmon;\" ><div class=\"lbl c0 trm hl\"  style=\"background-color: lightsalmon;\" ><span class=\"nd\">34</span> <span class=\"txto\">al-</span></div><div class='features'><span class=\"ummama xft\" ><span class=\"f\">ummama=</span>1</span></div></div><div class=\"contnr c0 trm    hl\"  style=\"background-color: lightsalmon;\" ><div class=\"lbl c0 trm hl\"  style=\"background-color: lightsalmon;\" ><span class=\"nd\">35</span> <span class=\"txto\">li-</span></div><div class='features'><span class=\"ummama xft\" ><span class=\"f\">ummama=</span>1</span></div></div><div class=\"contnr c0 trm    hl\"  style=\"background-color: mediumaquamarine;\" ><div class=\"lbl c0 trm hl\"  style=\"background-color: mediumaquamarine;\" ><span class=\"nd\">36</span> <span class=\"txto\">t,u2-</span></div></div><div class=\"contnr c0 trm    hl\"  style=\"background-color: lightsalmon;\" ><div class=\"lbl c0 trm hl\"  style=\"background-color: lightsalmon;\" ><span class=\"nd\">37</span> <span class=\"txto\">u2-</span></div><div class='features'><span class=\"ummama xft\" ><span class=\"f\">ummama=</span>1</span></div></div><div class=\"contnr c0 trm    hl\"  style=\"background-color: lightsalmon;\" ><div class=\"lbl c0 trm hl\"  style=\"background-color: lightsalmon;\" ><span class=\"nd\">38</span> <span class=\"txto\">ka</span></div><div class='features'><span class=\"ummama xft\" ><span class=\"f\">ummama=</span>1</span></div></div></div></div></div></div>"
      ],
      "text/plain": [
       "<IPython.core.display.HTML object>"
      ]
     },
     "metadata": {},
     "output_type": "display_data"
    },
    {
     "data": {
      "text/html": [
       "<p><b>line</b> <i>3</i></p>"
      ],
      "text/plain": [
       "<IPython.core.display.HTML object>"
      ]
     },
     "metadata": {},
     "output_type": "display_data"
    },
    {
     "data": {
      "text/html": [
       "<span class=\"section ltr\"><a target=\"_blank\" href=\"https://cdli.ucla.edu/search/search_results.php?SearchMode=Text&amp;ObjectID=P509373\" title=\"Show this document on CDLI\" sec=\"P509373 obverse:6\">P509373 obverse:6</a> </span><div class=\"contnr c3    \" ><div class=\"lbl c3  \" ><span class=\"nd\">line:230793</span></div><div class=\"children hor wrap \"><div class=\"contnr c2     \" ><div class=\"lbl c2  \" ><span class=\"nd\">word:258174</span> <span class=\"txto\">{disz}sze-ep-_{d}suen </span></div><div class=\"children hor  \"><div class=\"contnr c1     \" ><div class=\"lbl c1  \" ><span class=\"nd\">cluster:203233</span></div><div class=\"children hor wrap \"><div class=\"contnr c0 trm    hl\"  style=\"background-color: lightsalmon;\" ><div class=\"lbl c0 trm hl\"  style=\"background-color: lightsalmon;\" ><span class=\"nd\">39</span> <span class=\"txto\">{disz}</span></div><div class='features'><span class=\"ummama xft\" ><span class=\"f\">ummama=</span>1</span></div></div></div></div><div class=\"contnr c0 trm    hl\"  style=\"background-color: lightsalmon;\" ><div class=\"lbl c0 trm hl\"  style=\"background-color: lightsalmon;\" ><span class=\"nd\">40</span> <span class=\"txto\">sze-</span></div><div class='features'><span class=\"ummama xft\" ><span class=\"f\">ummama=</span>1</span></div></div><div class=\"contnr c0 trm    hl\"  style=\"background-color: lightsalmon;\" ><div class=\"lbl c0 trm hl\"  style=\"background-color: lightsalmon;\" ><span class=\"nd\">41</span> <span class=\"txto\">ep-</span></div><div class='features'><span class=\"ummama xft\" ><span class=\"f\">ummama=</span>1</span></div></div><div class=\"contnr c1    rno \" ><div class=\"lbl c1  \" ><span class=\"nd\">cluster:203234</span></div><div class=\"children hor wrap \"><div class=\"contnr c1     \" ><div class=\"lbl c1  \" ><span class=\"nd\">cluster:203235</span></div><div class=\"children hor wrap \"><div class=\"contnr c0 trm    hl\"  style=\"background-color: lightsalmon;\" ><div class=\"lbl c0 trm hl\"  style=\"background-color: lightsalmon;\" ><span class=\"nd\">42</span> <span class=\"txto\">_{d}</span></div><div class='features'><span class=\"ummama xft\" ><span class=\"f\">ummama=</span>1</span></div></div></div></div><div class=\"contnr c0 trm    hl\"  style=\"background-color: lightsalmon;\" ><div class=\"lbl c0 trm hl\"  style=\"background-color: lightsalmon;\" ><span class=\"nd\">43</span> <span class=\"txto\">suen </span></div><div class='features'><span class=\"ummama xft\" ><span class=\"f\">ummama=</span>1</span></div></div></div></div></div></div><div class=\"contnr c1     \" ><div class=\"lbl c1  \" ><span class=\"nd\">cluster:203234</span></div><div class=\"children hor wrap \"><div class=\"contnr c0 trm    hl\"  style=\"background-color: mediumaquamarine;\" ><div class=\"lbl c0 trm hl\"  style=\"background-color: mediumaquamarine;\" ><span class=\"nd\">44</span> <span class=\"txto\">a2-</span></div></div><div class=\"contnr c0 trm    hl\"  style=\"background-color: mediumaquamarine;\" ><div class=\"lbl c0 trm hl\"  style=\"background-color: mediumaquamarine;\" ><span class=\"nd\">45</span> <span class=\"txto\">gal2 </span></div></div><div class=\"contnr c1     \" ><div class=\"lbl c1  \" ><span class=\"nd\">cluster:203236</span></div><div class=\"children hor wrap \"><div class=\"contnr c0 trm    hl\"  style=\"background-color: lightsalmon;\" ><div class=\"lbl c0 trm hl\"  style=\"background-color: lightsalmon;\" ><span class=\"nd\">46</span> <span class=\"txto\">[dumu] </span></div><div class='features'><span class=\"ummama xft\" ><span class=\"f\">ummama=</span>1</span></div></div></div></div><div class=\"contnr c0 trm    hl\"  style=\"background-color: lightsalmon;\" ><div class=\"lbl c0 trm hl\"  style=\"background-color: lightsalmon;\" ><span class=\"nd\">47</span> <span class=\"txto\">um-</span></div><div class='features'><span class=\"ummama xft\" ><span class=\"f\">ummama=</span>1</span></div></div><div class=\"contnr c0 trm    hl\"  style=\"background-color: lightsalmon;\" ><div class=\"lbl c0 trm hl\"  style=\"background-color: lightsalmon;\" ><span class=\"nd\">48</span> <span class=\"txto\">mi-</span></div><div class='features'><span class=\"ummama xft\" ><span class=\"f\">ummama=</span>1</span></div></div><div class=\"contnr c0 trm    hl\"  style=\"background-color: lightsalmon;\" ><div class=\"lbl c0 trm hl\"  style=\"background-color: lightsalmon;\" ><span class=\"nd\">49</span> <span class=\"txto\">a-</span></div><div class='features'><span class=\"ummama xft\" ><span class=\"f\">ummama=</span>1</span></div></div><div class=\"contnr c0 trm    hl\"  style=\"background-color: lightsalmon;\" ><div class=\"lbl c0 trm hl\"  style=\"background-color: lightsalmon;\" ><span class=\"nd\">50</span> <span class=\"txto\">mesz_</span></div><div class='features'><span class=\"ummama xft\" ><span class=\"f\">ummama=</span>1</span></div></div></div></div></div></div>"
      ],
      "text/plain": [
       "<IPython.core.display.HTML object>"
      ]
     },
     "metadata": {},
     "output_type": "display_data"
    }
   ],
   "source": [
    "A.show(results, start=1, end=3, baseTypes=\"sign\", condensed=True, withNodes=True, highlights=highlights)"
   ]
  },
  {
   "cell_type": "markdown",
   "metadata": {},
   "source": [
    "Or in the context of a whole face:"
   ]
  },
  {
   "cell_type": "code",
   "execution_count": 29,
   "metadata": {},
   "outputs": [
    {
     "data": {
      "text/html": [
       "<p><b>face</b> <i>1</i></p>"
      ],
      "text/plain": [
       "<IPython.core.display.HTML object>"
      ]
     },
     "metadata": {},
     "output_type": "display_data"
    },
    {
     "data": {
      "text/html": [
       "<span class=\"section ltr\"><a target=\"_blank\" href=\"https://cdli.ucla.edu/search/search_results.php?SearchMode=Text&amp;ObjectID=P509373\" title=\"Show this document on CDLI\" sec=\"P509373 obverse\">P509373 obverse</a> </span><div class=\"contnr c4    \" ><div class=\"lbl c4  \" ><span class=\"nd\">face</span> <span class=\"txto\"><span class=\"section\">P509373 obverse</span></span></div><div class=\"children hor wrap \"><div class=\"contnr c3     \" ><div class=\"lbl c3  \" ><span class=\"nd\">line</span></div><div class=\"children hor wrap \"><div class=\"contnr c2 trm    \" ><div class=\"lbl c2 trm \" ><span class=\"nd\">word</span> <span class=\"txto\"><span class=\"plain outer    \" ><span class=\"plain txto \"></span><span class=\"plain     \" ><span class=\"plain txto \"></span><span class=\"plain     hlbx\"  style=\"border-color: lightsalmon;\" ><span class=\"txto\">[a-</span></span><span class=\"plain     hlbx\"  style=\"border-color: lightsalmon;\" ><span class=\"txto\">na] </span></span></span></span></span></div></div><div class=\"contnr c2 trm    \" ><div class=\"lbl c2 trm \" ><span class=\"nd\">word</span> <span class=\"txto\"><span class=\"plain outer    \" ><span class=\"plain txto \"></span><span class=\"plain     \" ><span class=\"plain txto \"></span><span class=\"plain     \" ><span class=\"plain txto \"></span><span class=\"plain     hlbx\"  style=\"border-color: lightsalmon;\" ><span class=\"txto\">_{d}</span></span></span><span class=\"plain     hlbx\"  style=\"border-color: lightsalmon;\" ><span class=\"txto\">suen_-</span></span></span><span class=\"plain     hlbx\"  style=\"border-color: lightsalmon;\" ><span class=\"txto\">i-</span></span><span class=\"plain     \" ><span class=\"plain txto \"></span><span class=\"plain     hlbx\"  style=\"border-color: lightsalmon;\" ><span class=\"txto\">[din-</span></span><span class=\"plain     hlbx\"  style=\"border-color: lightsalmon;\" ><span class=\"txto\">nam]</span></span></span></span></span></div></div></div></div><div class=\"contnr c2 trm    \" ><div class=\"lbl c2 trm \" ><span class=\"nd\">word</span> <span class=\"txto\"><span class=\"plain outer    \" ><span class=\"plain txto \"></span><span class=\"plain     hlbx\"  style=\"border-color: lightsalmon;\" ><span class=\"txto\">qi2-</span></span><span class=\"plain     hlbx\"  style=\"border-color: mediumaquamarine;\" ><span class=\"txto\">bi2-</span></span><span class=\"plain     \" ><span class=\"plain txto \"></span><span class=\"plain     hlbx\"  style=\"border-color: lightsalmon;\" ><span class=\"txto\">[ma]</span></span></span></span></span></div></div><div class=\"contnr c3     \" ><div class=\"lbl c3  \" ><span class=\"nd\">line</span></div><div class=\"children hor wrap \"><div class=\"contnr c2 trm    \" ><div class=\"lbl c2 trm \" ><span class=\"nd\">word</span> <span class=\"txto\"><span class=\"plain outer    \" ><span class=\"plain txto \"></span><span class=\"plain     hlbx\"  style=\"border-color: lightsalmon;\" ><span class=\"txto\">um-</span></span><span class=\"plain     hlbx\"  style=\"border-color: lightsalmon;\" ><span class=\"txto\">ma </span></span></span></span></div></div><div class=\"contnr c2 trm    \" ><div class=\"lbl c2 trm \" ><span class=\"nd\">word</span> <span class=\"txto\"><span class=\"plain outer    \" ><span class=\"plain txto \"></span><span class=\"plain     \" ><span class=\"plain txto \"></span><span class=\"plain     \" ><span class=\"plain txto \"></span><span class=\"plain     hlbx\"  style=\"border-color: lightsalmon;\" ><span class=\"txto\">_{d}</span></span></span><span class=\"plain     hlbx\"  style=\"border-color: lightsalmon;\" ><span class=\"txto\">en-</span></span><span class=\"plain     hlbx\"  style=\"border-color: lightsalmon;\" ><span class=\"txto\">lil2_-</span></span></span><span class=\"plain     hlbx\"  style=\"border-color: lightsalmon;\" ><span class=\"txto\">sza-</span></span><span class=\"plain     hlbx\"  style=\"border-color: lightsalmon;\" ><span class=\"txto\">du-</span></span><span class=\"plain     hlbx\"  style=\"border-color: lightsalmon;\" ><span class=\"txto\">u2-</span></span><span class=\"plain     hlbx\"  style=\"border-color: lightsalmon;\" ><span class=\"txto\">ni-</span></span><span class=\"plain     hlbx\"  style=\"border-color: lightsalmon;\" ><span class=\"txto\">ma</span></span></span></span></div></div></div></div><div class=\"contnr c3     \" ><div class=\"lbl c3  \" ><span class=\"nd\">line</span></div><div class=\"children hor wrap \"><div class=\"contnr c2 trm    \" ><div class=\"lbl c2 trm \" ><span class=\"nd\">word</span> <span class=\"txto\"><span class=\"plain outer    \" ><span class=\"plain txto \"></span><span class=\"plain     \" ><span class=\"plain txto \"></span><span class=\"plain     \" ><span class=\"plain txto \"></span><span class=\"plain     hlbx\"  style=\"border-color: lightsalmon;\" ><span class=\"txto\">_{d}</span></span></span><span class=\"plain     hlbx\"  style=\"border-color: lightsalmon;\" ><span class=\"txto\">utu_ </span></span></span></span></span></div></div><div class=\"contnr c2 trm    \" ><div class=\"lbl c2 trm \" ><span class=\"nd\">word</span> <span class=\"txto\"><span class=\"plain outer    \" ><span class=\"plain txto \"></span><span class=\"plain     hlbx\"  style=\"border-color: lightsalmon;\" ><span class=\"txto\">u3 </span></span></span></span></div></div><div class=\"contnr c2 trm    \" ><div class=\"lbl c2 trm \" ><span class=\"nd\">word</span> <span class=\"txto\"><span class=\"plain outer    \" ><span class=\"plain txto \"></span><span class=\"plain     \" ><span class=\"plain txto \"></span><span class=\"plain     \" ><span class=\"plain txto \"></span><span class=\"plain     hlbx\"  style=\"border-color: lightsalmon;\" ><span class=\"txto\">_{d}</span></span></span><span class=\"plain     \" ><span class=\"plain txto \"></span><span class=\"plain     hlbx\"  style=\"border-color: lightsalmon;\" ><span class=\"txto\">[marduk]_ </span></span></span></span></span></span></div></div><div class=\"contnr c2 trm    \" ><div class=\"lbl c2 trm \" ><span class=\"nd\">word</span> <span class=\"txto\"><span class=\"plain outer    \" ><span class=\"plain txto \"></span><span class=\"plain     hlbx\"  style=\"border-color: lightsalmon;\" ><span class=\"txto\">a-</span></span><span class=\"plain     hlbx\"  style=\"border-color: lightsalmon;\" ><span class=\"txto\">na </span></span></span></span></div></div><div class=\"contnr c2 trm    \" ><div class=\"lbl c2 trm \" ><span class=\"nd\">word</span> <span class=\"txto\"><span class=\"plain outer    \" ><span class=\"plain txto \"></span><span class=\"plain     hlbx\"  style=\"border-color: lightsalmon;\" ><span class=\"txto\">da-</span></span><span class=\"plain     hlbx\"  style=\"border-color: lightsalmon;\" ><span class=\"txto\">ri-</span></span><span class=\"plain     hlbx\"  style=\"border-color: lightsalmon;\" ><span class=\"txto\">a-</span></span><span class=\"plain     \" ><span class=\"plain txto \"></span><span class=\"plain     hlbx\"  style=\"border-color: lightsalmon;\" ><span class=\"txto\">[tim]</span></span></span></span></span></div></div></div></div><div class=\"contnr c2 trm    \" ><div class=\"lbl c2 trm \" ><span class=\"nd\">word</span> <span class=\"txto\"><span class=\"plain outer    \" ><span class=\"plain txto \"></span><span class=\"plain     hlbx\"  style=\"border-color: lightsalmon;\" ><span class=\"txto\">li-</span></span><span class=\"plain     hlbx\"  style=\"border-color: lightsalmon;\" ><span class=\"txto\">ba-</span></span><span class=\"plain     hlbx\"  style=\"border-color: lightsalmon;\" ><span class=\"txto\">al-</span></span><span class=\"plain     hlbx\"  style=\"border-color: lightsalmon;\" ><span class=\"txto\">li-</span></span><span class=\"plain     hlbx\"  style=\"border-color: mediumaquamarine;\" ><span class=\"txto\">t,u2-</span></span><span class=\"plain     hlbx\"  style=\"border-color: lightsalmon;\" ><span class=\"txto\">u2-</span></span><span class=\"plain     hlbx\"  style=\"border-color: lightsalmon;\" ><span class=\"txto\">ka</span></span></span></span></div></div><div class=\"contnr c3     hl\" ><div class=\"lbl c3  hl\" ><span class=\"nd\">line</span></div><div class=\"children hor wrap \"><div class=\"contnr c2 trm    \" ><div class=\"lbl c2 trm \" ><span class=\"nd\">word</span> <span class=\"txto\"><span class=\"plain outer    \" ><span class=\"plain txto \"></span><span class=\"plain     \" ><span class=\"plain txto \"></span><span class=\"plain     hlbx\"  style=\"border-color: lightsalmon;\" ><span class=\"txto\">{disz}</span></span></span><span class=\"plain     hlbx\"  style=\"border-color: lightsalmon;\" ><span class=\"txto\">sze-</span></span><span class=\"plain     hlbx\"  style=\"border-color: lightsalmon;\" ><span class=\"txto\">ep-</span></span><span class=\"plain    rno \" ><span class=\"plain txto \"></span><span class=\"plain     \" ><span class=\"plain txto \"></span><span class=\"plain     hlbx\"  style=\"border-color: lightsalmon;\" ><span class=\"txto\">_{d}</span></span></span><span class=\"plain     hlbx\"  style=\"border-color: lightsalmon;\" ><span class=\"txto\">suen </span></span></span></span></span></div></div><div class=\"contnr c2 trm    \" ><div class=\"lbl c2 trm \" ><span class=\"nd\">word</span> <span class=\"txto\"><span class=\"plain outer    \" ><span class=\"plain txto \"></span><span class=\"plain   lno rno \" ><span class=\"plain txto \"></span><span class=\"plain     hlbx\"  style=\"border-color: mediumaquamarine;\" ><span class=\"txto\">a2-</span></span><span class=\"plain     hlbx\"  style=\"border-color: mediumaquamarine;\" ><span class=\"txto\">gal2 </span></span></span></span></span></div></div><div class=\"contnr c2 trm    \" ><div class=\"lbl c2 trm \" ><span class=\"nd\">word</span> <span class=\"txto\"><span class=\"plain outer    \" ><span class=\"plain txto \"></span><span class=\"plain   lno rno \" ><span class=\"plain txto \"></span><span class=\"plain     hlbx\"  style=\"border-color: lightsalmon;\" ><span class=\"txto\">[dumu] </span></span></span></span></span></div></div><div class=\"contnr c2 trm    \" ><div class=\"lbl c2 trm \" ><span class=\"nd\">word</span> <span class=\"txto\"><span class=\"plain outer    \" ><span class=\"plain txto \"></span><span class=\"plain   lno  \" ><span class=\"plain txto \"></span><span class=\"plain     hlbx\"  style=\"border-color: lightsalmon;\" ><span class=\"txto\">um-</span></span><span class=\"plain     hlbx\"  style=\"border-color: lightsalmon;\" ><span class=\"txto\">mi-</span></span><span class=\"plain     hlbx\"  style=\"border-color: lightsalmon;\" ><span class=\"txto\">a-</span></span><span class=\"plain     hlbx\"  style=\"border-color: lightsalmon;\" ><span class=\"txto\">mesz_</span></span></span></span></span></div></div></div></div><div class=\"contnr c3     \" ><div class=\"lbl c3  \" ><span class=\"nd\">line</span></div><div class=\"children hor wrap \"><div class=\"contnr c2 trm    \" ><div class=\"lbl c2 trm \" ><span class=\"nd\">word</span> <span class=\"txto\"><span class=\"plain outer    \" ><span class=\"plain txto \"></span><span class=\"plain     hlbx\"  style=\"border-color: lightsalmon;\" ><span class=\"txto\">ki-</span></span><span class=\"plain     hlbx\"  style=\"border-color: lightsalmon;\" ><span class=\"txto\">a-</span></span><span class=\"plain     hlbx\"  style=\"border-color: lightsalmon;\" ><span class=\"txto\">am </span></span></span></span></div></div><div class=\"contnr c2 trm    \" ><div class=\"lbl c2 trm \" ><span class=\"nd\">word</span> <span class=\"txto\"><span class=\"plain outer    \" ><span class=\"plain txto \"></span><span class=\"plain     hlbx\"  style=\"border-color: lightsalmon;\" ><span class=\"txto\">u2-</span></span><span class=\"plain     hlbx\"  style=\"border-color: lightsalmon;\" ><span class=\"txto\">lam-</span></span><span class=\"plain     hlbx\"  style=\"border-color: lightsalmon;\" ><span class=\"txto\">mi-</span></span><span class=\"plain     hlbx\"  style=\"border-color: lightsalmon;\" ><span class=\"txto\">da-</span></span><span class=\"plain     hlbx\"  style=\"border-color: lightsalmon;\" ><span class=\"txto\">an-</span></span><span class=\"plain     hlbx\"  style=\"border-color: lightsalmon;\" ><span class=\"txto\">ni </span></span></span></span></div></div><div class=\"contnr c2 trm    \" ><div class=\"lbl c2 trm \" ><span class=\"nd\">word</span> <span class=\"txto\"><span class=\"plain outer    \" ><span class=\"plain txto \"></span><span class=\"plain     hlbx\"  style=\"border-color: lightsalmon;\" ><span class=\"txto\">um-</span></span><span class=\"plain     \" ><span class=\"plain txto \"></span><span class=\"plain     hlbx\"  style=\"border-color: lightsalmon;\" ><span class=\"txto\">[ma] </span></span></span></span></span></div></div><div class=\"contnr c2 trm    \" ><div class=\"lbl c2 trm \" ><span class=\"nd\">word</span> <span class=\"txto\"><span class=\"plain outer    \" ><span class=\"plain txto \"></span><span class=\"plain     hlbx\"  style=\"border-color: lightsalmon;\" ><span class=\"txto\">szu-</span></span><span class=\"plain     hlbx\"  style=\"border-color: lightsalmon;\" ><span class=\"txto\">u2-</span></span><span class=\"plain     \" ><span class=\"plain txto \"></span><span class=\"plain     hlbx\"  style=\"border-color: lightsalmon;\" ><span class=\"txto\">[ma]</span></span></span></span></span></div></div></div></div><div class=\"contnr c3     \" ><div class=\"lbl c3  \" ><span class=\"nd\">line</span></div><div class=\"children hor wrap \"><div class=\"contnr c2 trm    \" ><div class=\"lbl c2 trm \" ><span class=\"nd\">word</span> <span class=\"txto\"><span class=\"plain outer    \" ><span class=\"plain txto \"></span><span class=\"plain     \" ><span class=\"plain txto \"></span><span class=\"plain     hlbx\"  style=\"border-color: lightsalmon;\" ><span class=\"txto\">{disz}</span></span></span><span class=\"plain     hlbx\"  style=\"border-color: lightsalmon;\" ><span class=\"txto\">sa-</span></span><span class=\"plain     hlbx\"  style=\"border-color: lightsalmon;\" ><span class=\"txto\">am-</span></span><span class=\"plain     hlbx\"  style=\"border-color: lightsalmon;\" ><span class=\"txto\">su-</span></span><span class=\"plain     hlbx\"  style=\"border-color: lightsalmon;\" ><span class=\"txto\">ba-</span></span><span class=\"plain     hlbx\"  style=\"border-color: lightsalmon;\" ><span class=\"txto\">ah-</span></span><span class=\"plain     hlbx\"  style=\"border-color: lightsalmon;\" ><span class=\"txto\">li </span></span></span></span></div></div><div class=\"contnr c2 trm    \" ><div class=\"lbl c2 trm \" ><span class=\"nd\">word</span> <span class=\"txto\"><span class=\"plain outer    \" ><span class=\"plain txto \"></span><span class=\"plain     hlbx\"  style=\"border-color: lightsalmon;\" ><span class=\"txto\">sza-</span></span><span class=\"plain     hlbx\"  style=\"border-color: lightsalmon;\" ><span class=\"txto\">pi2-</span></span><span class=\"plain     hlbx\"  style=\"border-color: lightsalmon;\" ><span class=\"txto\">ir </span></span></span></span></div></div><div class=\"contnr c2 trm    \" ><div class=\"lbl c2 trm \" ><span class=\"nd\">word</span> <span class=\"txto\"><span class=\"plain outer    \" ><span class=\"plain txto \"></span><span class=\"plain     hlbx\"  style=\"border-color: lightsalmon;\" ><span class=\"txto\">ma-</span></span><span class=\"plain     \" ><span class=\"plain txto \"></span><span class=\"plain     hlbx\"  style=\"border-color: lightsalmon;\" ><span class=\"txto\">[tim]</span></span></span></span></span></div></div></div></div><div class=\"contnr c3     hl\" ><div class=\"lbl c3  hl\" ><span class=\"nd\">line</span></div><div class=\"children hor wrap \"><div class=\"contnr c2 trm    \" ><div class=\"lbl c2 trm \" ><span class=\"nd\">word</span> <span class=\"txto\"><span class=\"plain outer    \" ><span class=\"plain txto \"></span><span class=\"plain     hlbx\"  style=\"border-color: mediumaquamarine;\" ><span class=\"txto\">2(esze3) </span></span></span></span></div></div><div class=\"contnr c2 trm    \" ><div class=\"lbl c2 trm \" ><span class=\"nd\">word</span> <span class=\"txto\"><span class=\"plain outer    \" ><span class=\"plain txto \"></span><span class=\"plain     \" ><span class=\"plain txto \"></span><span class=\"plain     hlbx\"  style=\"border-color: lightsalmon;\" ><span class=\"txto\">_a-</span></span><span class=\"plain     hlbx\"  style=\"border-color: lightsalmon;\" ><span class=\"txto\">sza3_ </span></span></span></span></span></div></div><div class=\"contnr c2 trm    \" ><div class=\"lbl c2 trm \" ><span class=\"nd\">word</span> <span class=\"txto\"><span class=\"plain outer    \" ><span class=\"plain txto \"></span><span class=\"plain     hlbx\"  style=\"border-color: lightsalmon;\" ><span class=\"txto\">s,i-</span></span><span class=\"plain     \" ><span class=\"plain txto \"></span><span class=\"plain     hlbx\"  style=\"border-color: lightsalmon;\" ><span class=\"txto\">[bi]-</span></span></span><span class=\"plain     hlbx\"  style=\"border-color: lightsalmon;\" ><span class=\"txto\">it </span></span></span></span></div></div><div class=\"contnr c2 trm    \" ><div class=\"lbl c2 trm \" ><span class=\"nd\">word</span> <span class=\"txto\"><span class=\"plain outer    \" ><span class=\"plain txto \"></span><span class=\"plain     \" ><span class=\"plain txto \"></span><span class=\"plain     hlbx\"  style=\"border-color: lightsalmon;\" ><span class=\"txto\">{disz}</span></span></span><span class=\"plain     \" ><span class=\"plain txto \"></span><span class=\"plain     hlbx\"  style=\"border-color: lightsalmon;\" ><span class=\"txto\">[ku]-</span></span></span><span class=\"plain     hlbx\"  style=\"border-color: lightsalmon;\" ><span class=\"txto\">un-</span></span><span class=\"plain     hlbx\"  style=\"border-color: lightsalmon;\" ><span class=\"txto\">zu-</span></span><span class=\"plain     hlbx\"  style=\"border-color: lightsalmon;\" ><span class=\"txto\">lum </span></span></span></span></div></div><div class=\"contnr c2 trm    \" ><div class=\"lbl c2 trm \" ><span class=\"nd\">word</span> <span class=\"txto\"><span class=\"plain outer    \" ><span class=\"plain txto \"></span><span class=\"plain     \" ><span class=\"plain txto \"></span><span class=\"plain     hlbx\"  style=\"border-color: lightsalmon;\" ><span class=\"txto\">_sza3-</span></span><span class=\"plain     hlbx\"  style=\"border-color: mediumaquamarine;\" ><span class=\"txto\">gud_</span></span></span></span></span></div></div></div></div><div class=\"contnr c3     hl\" ><div class=\"lbl c3  hl\" ><span class=\"nd\">line</span></div><div class=\"children hor wrap \"><div class=\"contnr c2 trm    \" ><div class=\"lbl c2 trm \" ><span class=\"nd\">word</span> <span class=\"txto\"><span class=\"plain outer    \" ><span class=\"plain txto \"></span><span class=\"plain    rno \" ><span class=\"plain txto \"></span><span class=\"plain     hlbx\"  style=\"border-color: lightsalmon;\" ><span class=\"txto\">_a-</span></span><span class=\"plain     hlbx\"  style=\"border-color: lightsalmon;\" ><span class=\"txto\">sza3 </span></span></span></span></span></div></div><div class=\"contnr c2 trm    \" ><div class=\"lbl c2 trm \" ><span class=\"nd\">word</span> <span class=\"txto\"><span class=\"plain outer    \" ><span class=\"plain txto \"></span><span class=\"plain   lno  \" ><span class=\"plain txto \"></span><span class=\"plain     hlbx\"  style=\"border-color: lightsalmon;\" ><span class=\"txto\">a-</span></span><span class=\"plain     hlbx\"  style=\"border-color: mediumaquamarine;\" ><span class=\"txto\">gar3_ </span></span></span></span></span></div></div><div class=\"contnr c2 trm    \" ><div class=\"lbl c2 trm \" ><span class=\"nd\">word</span> <span class=\"txto\"><span class=\"plain outer    \" ><span class=\"plain txto \"></span><span class=\"plain     hlbx\"  style=\"border-color: lightsalmon;\" ><span class=\"txto\">na-</span></span><span class=\"plain     hlbx\"  style=\"border-color: mediumaquamarine;\" ><span class=\"txto\">ag-</span></span><span class=\"plain     \" ><span class=\"plain txto \"></span><span class=\"plain     hlbx\"  style=\"border-color: lightsalmon;\" ><span class=\"txto\">[ma-</span></span><span class=\"plain     hlbx\"  style=\"border-color: lightsalmon;\" ><span class=\"txto\">lum] </span></span></span></span></span></div></div><div class=\"contnr c2 trm    \" ><div class=\"lbl c2 trm \" ><span class=\"nd\">word</span> <span class=\"txto\"><span class=\"plain outer    \" ><span class=\"plain txto \"></span><span class=\"plain     \" ><span class=\"plain txto \"></span><span class=\"plain     hlbx\"  style=\"border-color: mediumaquamarine;\" ><span class=\"txto\">_uru_ </span></span></span></span></span></div></div><div class=\"contnr c2 trm    \" ><div class=\"lbl c2 trm \" ><span class=\"nd\">word</span> <span class=\"txto\"><span class=\"plain outer    \" ><span class=\"plain txto \"></span><span class=\"plain     hlbx\"  style=\"border-color: lightsalmon;\" ><span class=\"txto\">x </span></span></span></span></div></div><div class=\"contnr c2 trm    \" ><div class=\"lbl c2 trm \" ><span class=\"nd\">word</span> <span class=\"txto\"><span class=\"plain outer    \" ><span class=\"plain txto \"></span><span class=\"plain     hlbx\"  style=\"border-color: lightsalmon;\" ><span class=\"txto\">x </span></span></span></span></div></div><div class=\"contnr c2 trm    \" ><div class=\"lbl c2 trm \" ><span class=\"nd\">word</span> <span class=\"txto\"><span class=\"plain outer    \" ><span class=\"plain txto \"></span><span class=\"plain     hlbx\"  style=\"border-color: lightsalmon;\" ><span class=\"txto\">x</span></span><span class=\"plain     \" ><span class=\"plain txto \"></span><span class=\"plain     hlbx\"  style=\"border-color: lightsalmon;\" ><span class=\"txto\">{ki}</span></span></span></span></span></div></div></div></div><div class=\"contnr c3     hl\" ><div class=\"lbl c3  hl\" ><span class=\"nd\">line</span></div><div class=\"children hor wrap \"><div class=\"contnr c2 trm    \" ><div class=\"lbl c2 trm \" ><span class=\"nd\">word</span> <span class=\"txto\"><span class=\"plain outer    \" ><span class=\"plain txto \"></span><span class=\"plain     hlbx\"  style=\"border-color: lightsalmon;\" ><span class=\"txto\">sza </span></span></span></span></div></div><div class=\"contnr c2 trm    \" ><div class=\"lbl c2 trm \" ><span class=\"nd\">word</span> <span class=\"txto\"><span class=\"plain outer    \" ><span class=\"plain txto \"></span><span class=\"plain     \" ><span class=\"plain txto \"></span><span class=\"plain     \" ><span class=\"plain txto \"></span><span class=\"plain     hlbx\"  style=\"border-color: lightsalmon;\" ><span class=\"txto\">_{d}</span></span></span><span class=\"plain     hlbx\"  style=\"border-color: lightsalmon;\" ><span class=\"txto\">utu_-</span></span></span><span class=\"plain     hlbx\"  style=\"border-color: lightsalmon;\" ><span class=\"txto\">ha-</span></span><span class=\"plain     hlbx\"  style=\"border-color: lightsalmon;\" ><span class=\"txto\">zi-</span></span><span class=\"plain     \" ><span class=\"plain txto \"></span><span class=\"plain     hlbx\"  style=\"border-color: lightsalmon;\" ><span class=\"txto\">[ir] </span></span></span></span></span></div></div><div class=\"contnr c2 trm    \" ><div class=\"lbl c2 trm \" ><span class=\"nd\">word</span> <span class=\"txto\"><span class=\"plain outer    \" ><span class=\"plain txto \"></span><span class=\"plain     hlbx\"  style=\"border-color: lightsalmon;\" ><span class=\"txto\">isz-</span></span><span class=\"plain     hlbx\"  style=\"border-color: lightsalmon;\" ><span class=\"txto\">tu </span></span></span></span></div></div><div class=\"contnr c2 trm    \" ><div class=\"lbl c2 trm \" ><span class=\"nd\">word</span> <span class=\"txto\"><span class=\"plain outer    \" ><span class=\"plain txto \"></span><span class=\"plain    rno \" ><span class=\"plain txto \"></span><span class=\"plain     hlbx\"  style=\"border-color: lightsalmon;\" ><span class=\"txto\">_mu </span></span></span></span></span></div></div><div class=\"contnr c2 trm    \" ><div class=\"lbl c2 trm \" ><span class=\"nd\">word</span> <span class=\"txto\"><span class=\"plain outer    \" ><span class=\"plain txto \"></span><span class=\"plain   lno rno \" ><span class=\"plain txto \"></span><span class=\"plain     hlbx\"  style=\"border-color: lightsalmon;\" ><span class=\"txto\">7(disz) </span></span></span></span></span></div></div><div class=\"contnr c2 trm    \" ><div class=\"lbl c2 trm \" ><span class=\"nd\">word</span> <span class=\"txto\"><span class=\"plain outer    \" ><span class=\"plain txto \"></span><span class=\"plain   lno  \" ><span class=\"plain txto \"></span><span class=\"plain     hlbx\"  style=\"border-color: mediumaquamarine;\" ><span class=\"txto\">kam_ </span></span></span></span></span></div></div><div class=\"contnr c2 trm    \" ><div class=\"lbl c2 trm \" ><span class=\"nd\">word</span> <span class=\"txto\"><span class=\"plain outer    \" ><span class=\"plain txto \"></span><span class=\"plain     hlbx\"  style=\"border-color: lightsalmon;\" ><span class=\"txto\">id-</span></span><span class=\"plain     hlbx\"  style=\"border-color: lightsalmon;\" ><span class=\"txto\">di-</span></span><span class=\"plain     hlbx\"  style=\"border-color: lightsalmon;\" ><span class=\"txto\">nu-</span></span><span class=\"plain     hlbx\"  style=\"border-color: lightsalmon;\" ><span class=\"txto\">szum</span></span></span></span></div></div></div></div><div class=\"contnr c3     hl\" ><div class=\"lbl c3  hl\" ><span class=\"nd\">line</span></div><div class=\"children hor wrap \"><div class=\"contnr c2 trm    \" ><div class=\"lbl c2 trm \" ><span class=\"nd\">word</span> <span class=\"txto\"><span class=\"plain outer    \" ><span class=\"plain txto \"></span><span class=\"plain     hlbx\"  style=\"border-color: lightsalmon;\" ><span class=\"txto\">u3 </span></span></span></span></div></div><div class=\"contnr c2 trm    \" ><div class=\"lbl c2 trm \" ><span class=\"nd\">word</span> <span class=\"txto\"><span class=\"plain outer    \" ><span class=\"plain txto \"></span><span class=\"plain     hlbx\"  style=\"border-color: lightsalmon;\" ><span class=\"txto\">i-</span></span><span class=\"plain     hlbx\"  style=\"border-color: lightsalmon;\" ><span class=\"txto\">na </span></span></span></span></div></div><div class=\"contnr c2 trm    \" ><div class=\"lbl c2 trm \" ><span class=\"nd\">word</span> <span class=\"txto\"><span class=\"plain outer    \" ><span class=\"plain txto \"></span><span class=\"plain     \" ><span class=\"plain txto \"></span><span class=\"plain     hlbx\"  style=\"border-color: mediumaquamarine;\" ><span class=\"txto\">_uru_ </span></span></span></span></span></div></div><div class=\"contnr c2 trm    \" ><div class=\"lbl c2 trm \" ><span class=\"nd\">word</span> <span class=\"txto\"><span class=\"plain outer    \" ><span class=\"plain txto \"></span><span class=\"plain     hlbx\"  style=\"border-color: lightsalmon;\" ><span class=\"txto\">x-</span></span><span class=\"plain     hlbx\"  style=\"border-color: lightsalmon;\" ><span class=\"txto\">szum</span></span><span class=\"plain     \" ><span class=\"plain txto \"></span><span class=\"plain     hlbx\"  style=\"border-color: lightsalmon;\" ><span class=\"txto\">{ki} </span></span></span></span></span></div></div><div class=\"contnr c2 trm    \" ><div class=\"lbl c2 trm \" ><span class=\"nd\">word</span> <span class=\"txto\"><span class=\"plain outer    \" ><span class=\"plain txto \"></span><span class=\"plain     hlbx\"  style=\"border-color: lightsalmon;\" ><span class=\"txto\">sza-</span></span><span class=\"plain     hlbx\"  style=\"border-color: mediumaquamarine;\" ><span class=\"txto\">ak-</span></span><span class=\"plain     hlbx\"  style=\"border-color: lightsalmon;\" ><span class=\"txto\">nu </span></span></span></span></div></div><div class=\"contnr c2 trm    \" ><div class=\"lbl c2 trm \" ><span class=\"nd\">word</span> <span class=\"txto\"><span class=\"plain outer    \" ><span class=\"plain txto \"></span><span class=\"plain     hlbx\"  style=\"border-color: lightsalmon;\" ><span class=\"txto\">id-</span></span><span class=\"plain     hlbx\"  style=\"border-color: lightsalmon;\" ><span class=\"txto\">di-</span></span><span class=\"plain     hlbx\"  style=\"border-color: lightsalmon;\" ><span class=\"txto\">a-</span></span><span class=\"plain     hlbx\"  style=\"border-color: lightsalmon;\" ><span class=\"txto\">am-</span></span><span class=\"plain     hlbx\"  style=\"border-color: lightsalmon;\" ><span class=\"txto\">ma</span></span></span></span></div></div></div></div><div class=\"contnr c3     hl\" ><div class=\"lbl c3  hl\" ><span class=\"nd\">line</span></div><div class=\"children hor wrap \"><div class=\"contnr c2 trm    \" ><div class=\"lbl c2 trm \" ><span class=\"nd\">word</span> <span class=\"txto\"><span class=\"plain outer    \" ><span class=\"plain txto \"></span><span class=\"plain     hlbx\"  style=\"border-color: mediumaquamarine;\" ><span class=\"txto\">2(esze3) </span></span></span></span></div></div><div class=\"contnr c2 trm    \" ><div class=\"lbl c2 trm \" ><span class=\"nd\">word</span> <span class=\"txto\"><span class=\"plain outer    \" ><span class=\"plain txto \"></span><span class=\"plain    rno \" ><span class=\"plain txto \"></span><span class=\"plain     hlbx\"  style=\"border-color: lightsalmon;\" ><span class=\"txto\">_a-</span></span><span class=\"plain     hlbx\"  style=\"border-color: lightsalmon;\" ><span class=\"txto\">sza3 </span></span></span></span></span></div></div><div class=\"contnr c2 trm    \" ><div class=\"lbl c2 trm \" ><span class=\"nd\">word</span> <span class=\"txto\"><span class=\"plain outer    \" ><span class=\"plain txto \"></span><span class=\"plain   lno  \" ><span class=\"plain txto \"></span><span class=\"plain     hlbx\"  style=\"border-color: mediumaquamarine;\" ><span class=\"txto\">szuku_ </span></span></span></span></span></div></div><div class=\"contnr c2 trm    \" ><div class=\"lbl c2 trm \" ><span class=\"nd\">word</span> <span class=\"txto\"><span class=\"plain outer    \" ><span class=\"plain txto \"></span><span class=\"plain     hlbx\"  style=\"border-color: lightsalmon;\" ><span class=\"txto\">i-</span></span><span class=\"plain     hlbx\"  style=\"border-color: lightsalmon;\" ><span class=\"txto\">li-</span></span><span class=\"plain     hlbx\"  style=\"border-color: lightsalmon;\" ><span class=\"txto\">ib-</span></span><span class=\"plain     hlbx\"  style=\"border-color: lightsalmon;\" ><span class=\"txto\">bu </span></span></span></span></div></div><div class=\"contnr c2 trm    \" ><div class=\"lbl c2 trm \" ><span class=\"nd\">word</span> <span class=\"txto\"><span class=\"plain outer    \" ><span class=\"plain txto \"></span><span class=\"plain     hlbx\"  style=\"border-color: lightsalmon;\" ><span class=\"txto\">s,i-</span></span><span class=\"plain     hlbx\"  style=\"border-color: lightsalmon;\" ><span class=\"txto\">bi-</span></span><span class=\"plain     hlbx\"  style=\"border-color: lightsalmon;\" ><span class=\"txto\">it </span></span></span></span></div></div><div class=\"contnr c2 trm    \" ><div class=\"lbl c2 trm \" ><span class=\"nd\">word</span> <span class=\"txto\"><span class=\"plain outer    \" ><span class=\"plain txto \"></span><span class=\"plain     \" ><span class=\"plain txto \"></span><span class=\"plain     hlbx\"  style=\"border-color: mediumaquamarine;\" ><span class=\"txto\">_nagar-</span></span><span class=\"plain     hlbx\"  style=\"border-color: lightsalmon;\" ><span class=\"txto\">mesz_</span></span></span></span></span></div></div></div></div><div class=\"contnr c3     hl\" ><div class=\"lbl c3  hl\" ><span class=\"nd\">line</span></div><div class=\"children hor wrap \"><div class=\"contnr c2 trm    \" ><div class=\"lbl c2 trm \" ><span class=\"nd\">word</span> <span class=\"txto\"><span class=\"plain outer    \" ><span class=\"plain txto \"></span><span class=\"plain    rno \" ><span class=\"plain txto \"></span><span class=\"plain     hlbx\"  style=\"border-color: lightsalmon;\" ><span class=\"txto\">_a-</span></span><span class=\"plain     hlbx\"  style=\"border-color: lightsalmon;\" ><span class=\"txto\">sza3 </span></span></span></span></span></div></div><div class=\"contnr c2 trm    \" ><div class=\"lbl c2 trm \" ><span class=\"nd\">word</span> <span class=\"txto\"><span class=\"plain outer    \" ><span class=\"plain txto \"></span><span class=\"plain   lno rno \" ><span class=\"plain txto \"></span><span class=\"plain     hlbx\"  style=\"border-color: lightsalmon;\" ><span class=\"txto\">a-</span></span><span class=\"plain     hlbx\"  style=\"border-color: mediumaquamarine;\" ><span class=\"txto\">gar3 </span></span></span></span></span></div></div><div class=\"contnr c2 trm    \" ><div class=\"lbl c2 trm \" ><span class=\"nd\">word</span> <span class=\"txto\"><span class=\"plain outer    \" ><span class=\"plain txto \"></span><span class=\"plain   lno  \" ><span class=\"plain txto \"></span><span class=\"plain     hlbx\"  style=\"border-color: mediumaquamarine;\" ><span class=\"txto\">uru_ </span></span></span></span></span></div></div><div class=\"contnr c2 trm    \" ><div class=\"lbl c2 trm \" ><span class=\"nd\">word</span> <span class=\"txto\"><span class=\"plain outer    \" ><span class=\"plain txto \"></span><span class=\"plain     hlbx\"  style=\"border-color: lightsalmon;\" ><span class=\"txto\">ra-</span></span><span class=\"plain     hlbx\"  style=\"border-color: lightsalmon;\" ><span class=\"txto\">bu-</span></span><span class=\"plain     hlbx\"  style=\"border-color: lightsalmon;\" ><span class=\"txto\">um </span></span></span></span></div></div><div class=\"contnr c2 trm    \" ><div class=\"lbl c2 trm \" ><span class=\"nd\">word</span> <span class=\"txto\"><span class=\"plain outer    \" ><span class=\"plain txto \"></span><span class=\"plain     hlbx\"  style=\"border-color: lightsalmon;\" ><span class=\"txto\">x </span></span></span></span></div></div><div class=\"contnr c2 trm    \" ><div class=\"lbl c2 trm \" ><span class=\"nd\">word</span> <span class=\"txto\"><span class=\"plain outer    \" ><span class=\"plain txto \"></span><span class=\"plain     \" ><span class=\"plain txto \"></span><span class=\"plain     hlbx\"  style=\"border-color: mediumaquamarine;\" ><span class=\"txto\">[...]</span></span></span></span></span></div></div></div></div><div class=\"contnr c3     hl\" ><div class=\"lbl c3  hl\" ><span class=\"nd\">line</span></div><div class=\"children hor wrap \"><div class=\"contnr c2 trm    \" ><div class=\"lbl c2 trm \" ><span class=\"nd\">word</span> <span class=\"txto\"><span class=\"plain outer    \" ><span class=\"plain txto \"></span><span class=\"plain     hlbx\"  style=\"border-color: lightsalmon;\" ><span class=\"txto\">x </span></span></span></span></div></div><div class=\"contnr c2 trm    \" ><div class=\"lbl c2 trm \" ><span class=\"nd\">word</span> <span class=\"txto\"><span class=\"plain outer    \" ><span class=\"plain txto \"></span><span class=\"plain     hlbx\"  style=\"border-color: lightsalmon;\" ><span class=\"txto\">x </span></span></span></span></div></div><div class=\"contnr c2 trm    \" ><div class=\"lbl c2 trm \" ><span class=\"nd\">word</span> <span class=\"txto\"><span class=\"plain outer    \" ><span class=\"plain txto \"></span><span class=\"plain     hlbx\"  style=\"border-color: lightsalmon;\" ><span class=\"txto\">x </span></span></span></span></div></div><div class=\"contnr c2 trm    \" ><div class=\"lbl c2 trm \" ><span class=\"nd\">word</span> <span class=\"txto\"><span class=\"plain outer    \" ><span class=\"plain txto \"></span><span class=\"plain     hlbx\"  style=\"border-color: lightsalmon;\" ><span class=\"txto\">x </span></span></span></span></div></div><div class=\"contnr c2 trm    \" ><div class=\"lbl c2 trm \" ><span class=\"nd\">word</span> <span class=\"txto\"><span class=\"plain outer    \" ><span class=\"plain txto \"></span><span class=\"plain     hlbx\"  style=\"border-color: lightsalmon;\" ><span class=\"txto\">x </span></span></span></span></div></div><div class=\"contnr c2 trm    \" ><div class=\"lbl c2 trm \" ><span class=\"nd\">word</span> <span class=\"txto\"><span class=\"plain outer    \" ><span class=\"plain txto \"></span><span class=\"plain     hlbx\"  style=\"border-color: lightsalmon;\" ><span class=\"txto\">x </span></span></span></span></div></div><div class=\"contnr c2 trm    \" ><div class=\"lbl c2 trm \" ><span class=\"nd\">word</span> <span class=\"txto\"><span class=\"plain outer    \" ><span class=\"plain txto \"></span><span class=\"plain     \" ><span class=\"plain txto \"></span><span class=\"plain     hlbx\"  style=\"border-color: mediumaquamarine;\" ><span class=\"txto\">[...]</span></span></span></span></span></div></div></div></div><div class=\"contnr c3 trm    \" ><div class=\"lbl c3 trm \" ><span class=\"nd\">line</span></div></div></div></div>"
      ],
      "text/plain": [
       "<IPython.core.display.HTML object>"
      ]
     },
     "metadata": {},
     "output_type": "display_data"
    }
   ],
   "source": [
    "A.show(results, start=1, end=1, condensed=True, condenseType='face', withNodes=False, highlights=highlights)"
   ]
  },
  {
   "cell_type": "markdown",
   "metadata": {},
   "source": [
    "Note how the words that are **_heads_** of their phrases are highlighted within their phrases."
   ]
  },
  {
   "cell_type": "markdown",
   "metadata": {},
   "source": [
    "# All together!\n",
    "\n",
    "If more researchers have shared data modules, you can draw them all in.\n",
    "\n",
    "Then you can design queries that use features from all these different sources.\n",
    "\n",
    "In that way, you build your own research on top of the work of others."
   ]
  },
  {
   "cell_type": "markdown",
   "metadata": {},
   "source": [
    "Hover over the features to see where they come from, and you'll see they come from your local github repo."
   ]
  },
  {
   "cell_type": "markdown",
   "metadata": {},
   "source": [
    "---\n",
    "\n",
    "All chapters:\n",
    "\n",
    "* **[start](start.ipynb)** become an expert in creating pretty displays of your text structures\n",
    "* **[display](display.ipynb)** become an expert in creating pretty displays of your text structures\n",
    "* **[search](search.ipynb)** turbo charge your hand-coding with search templates\n",
    "* **[exportExcel](exportExcel.ipynb)** make tailor-made spreadsheets out of your results\n",
    "* **share** draw in other people's data and let them use yours\n",
    "* **[similarLines](similarLines.ipynb)** spot the similarities between lines\n",
    "\n",
    "---\n",
    "\n",
    "See the [cookbook](cookbook) for recipes for small, concrete tasks.\n",
    "\n",
    "CC-BY Dirk Roorda"
   ]
  }
 ],
 "metadata": {
  "kernelspec": {
   "display_name": "Python 3",
   "language": "python",
   "name": "python3"
  },
  "language_info": {
   "codemirror_mode": {
    "name": "ipython",
    "version": 3
   },
   "file_extension": ".py",
   "mimetype": "text/x-python",
   "name": "python",
   "nbconvert_exporter": "python",
   "pygments_lexer": "ipython3",
   "version": "3.7.7"
  }
 },
 "nbformat": 4,
 "nbformat_minor": 4
}
