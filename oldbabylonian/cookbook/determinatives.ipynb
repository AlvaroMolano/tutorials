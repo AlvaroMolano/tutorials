{
 "cells": [
  {
   "cell_type": "markdown",
   "metadata": {},
   "source": [
    "For the main tutorial go to [start](../start.ipynb)\n",
    "\n",
    "---"
   ]
  },
  {
   "cell_type": "markdown",
   "metadata": {},
   "source": [
    "# Determinatives\n",
    "\n",
    "Determinatives play a role in finding nouns.\n",
    "\n",
    "Here we do some basic checks."
   ]
  },
  {
   "cell_type": "code",
   "execution_count": 1,
   "metadata": {},
   "outputs": [],
   "source": [
    "import collections\n",
    "\n",
    "from tf.app import use"
   ]
  },
  {
   "cell_type": "code",
   "execution_count": 3,
   "metadata": {},
   "outputs": [
    {
     "name": "stdout",
     "output_type": "stream",
     "text": [
      "Using TF-app in ~/github/annotation/app-oldbabylonian/code:\n",
      "\trepo clone offline under ~/github (local github)\n",
      "Using data in ~/github/Nino-cunei/oldbabylonian/tf/1.0.5:\n",
      "\trepo clone offline under ~/github (local github)\n",
      "   |     0.00s Dataset without structure sections in otext:no structure functions in the T-API\n"
     ]
    },
    {
     "data": {
      "text/html": [
       "<b>Documentation:</b> <a target=\"_blank\" href=\"https://github.com/Nino-cunei/oldbabylonian/blob/master/docs/about.md\" title=\"provenance of Old Babylonian Letters 1900-1600: Cuneiform tablets \">OLDBABYLONIAN</a> <a target=\"_blank\" href=\"https://github.com/Nino-cunei/oldbabylonian/blob/master/docs/programs/mapReadings.ipynb\" title=\"mapping from readings to UNICODE\">Character table</a> <a target=\"_blank\" href=\"https://github.com/Nino-cunei/oldbabylonian/blob/master/docs/transcription.md\" title=\"OLDBABYLONIAN feature documentation\">Feature docs</a> <a target=\"_blank\" href=\"https://github.com/annotation/app-oldbabylonian\" title=\"oldbabylonian API documentation\">oldbabylonian API</a> <a target=\"_blank\" href=\"https://annotation.github.io/text-fabric/cheatsheet.html\" title=\"text-fabric-api\">Text-Fabric API 8.2.0</a> <a target=\"_blank\" href=\"https://annotation.github.io/text-fabric/about/searchusage.html\" title=\"Search Templates Introduction and Reference\">Search Reference</a><details open><summary><b>Loaded features</b>:</summary>\n",
       "<p><b>Old Babylonian Letters 1900-1600: Cuneiform tablets </b>: <a target=\"_blank\" href=\"https://github.com/Nino-cunei/oldbabylonian/blob/master/docs/transcription.md\" title=\"~/github/Nino-cunei/oldbabylonian/tf/1.0.5/ARK.tf\">ARK</a>  <a target=\"_blank\" href=\"https://github.com/Nino-cunei/oldbabylonian/blob/master/docs/transcription.md\" title=\"~/github/Nino-cunei/oldbabylonian/tf/1.0.5/after.tf\">after</a>  <a target=\"_blank\" href=\"https://github.com/Nino-cunei/oldbabylonian/blob/master/docs/transcription.md\" title=\"~/github/Nino-cunei/oldbabylonian/tf/1.0.5/afterr.tf\">afterr</a>  <a target=\"_blank\" href=\"https://github.com/Nino-cunei/oldbabylonian/blob/master/docs/transcription.md\" title=\"~/github/Nino-cunei/oldbabylonian/tf/1.0.5/afteru.tf\">afteru</a>  <a target=\"_blank\" href=\"https://github.com/Nino-cunei/oldbabylonian/blob/master/docs/transcription.md\" title=\"~/github/Nino-cunei/oldbabylonian/tf/1.0.5/atf.tf\">atf</a>  <a target=\"_blank\" href=\"https://github.com/Nino-cunei/oldbabylonian/blob/master/docs/transcription.md\" title=\"~/github/Nino-cunei/oldbabylonian/tf/1.0.5/atfpost.tf\">atfpost</a>  <a target=\"_blank\" href=\"https://github.com/Nino-cunei/oldbabylonian/blob/master/docs/transcription.md\" title=\"~/github/Nino-cunei/oldbabylonian/tf/1.0.5/atfpre.tf\">atfpre</a>  <a target=\"_blank\" href=\"https://github.com/Nino-cunei/oldbabylonian/blob/master/docs/transcription.md\" title=\"~/github/Nino-cunei/oldbabylonian/tf/1.0.5/author.tf\">author</a>  <a target=\"_blank\" href=\"https://github.com/Nino-cunei/oldbabylonian/blob/master/docs/transcription.md\" title=\"~/github/Nino-cunei/oldbabylonian/tf/1.0.5/col.tf\">col</a>  <a target=\"_blank\" href=\"https://github.com/Nino-cunei/oldbabylonian/blob/master/docs/transcription.md\" title=\"~/github/Nino-cunei/oldbabylonian/tf/1.0.5/collated.tf\">collated</a>  <a target=\"_blank\" href=\"https://github.com/Nino-cunei/oldbabylonian/blob/master/docs/transcription.md\" title=\"~/github/Nino-cunei/oldbabylonian/tf/1.0.5/collection.tf\">collection</a>  <a target=\"_blank\" href=\"https://github.com/Nino-cunei/oldbabylonian/blob/master/docs/transcription.md\" title=\"~/github/Nino-cunei/oldbabylonian/tf/1.0.5/comment.tf\">comment</a>  <a target=\"_blank\" href=\"https://github.com/Nino-cunei/oldbabylonian/blob/master/docs/transcription.md\" title=\"~/github/Nino-cunei/oldbabylonian/tf/1.0.5/damage.tf\">damage</a>  <a target=\"_blank\" href=\"https://github.com/Nino-cunei/oldbabylonian/blob/master/docs/transcription.md\" title=\"~/github/Nino-cunei/oldbabylonian/tf/1.0.5/det.tf\">det</a>  <a target=\"_blank\" href=\"https://github.com/Nino-cunei/oldbabylonian/blob/master/docs/transcription.md\" title=\"~/github/Nino-cunei/oldbabylonian/tf/1.0.5/docnote.tf\">docnote</a>  <a target=\"_blank\" href=\"https://github.com/Nino-cunei/oldbabylonian/blob/master/docs/transcription.md\" title=\"~/github/Nino-cunei/oldbabylonian/tf/1.0.5/docnumber.tf\">docnumber</a>  <a target=\"_blank\" href=\"https://github.com/Nino-cunei/oldbabylonian/blob/master/docs/transcription.md\" title=\"~/github/Nino-cunei/oldbabylonian/tf/1.0.5/excavation.tf\">excavation</a>  <a target=\"_blank\" href=\"https://github.com/Nino-cunei/oldbabylonian/blob/master/docs/transcription.md\" title=\"~/github/Nino-cunei/oldbabylonian/tf/1.0.5/excised.tf\">excised</a>  <a target=\"_blank\" href=\"https://github.com/Nino-cunei/oldbabylonian/blob/master/docs/transcription.md\" title=\"~/github/Nino-cunei/oldbabylonian/tf/1.0.5/face.tf\">face</a>  <a target=\"_blank\" href=\"https://github.com/Nino-cunei/oldbabylonian/blob/master/docs/transcription.md\" title=\"~/github/Nino-cunei/oldbabylonian/tf/1.0.5/flags.tf\">flags</a>  <a target=\"_blank\" href=\"https://github.com/Nino-cunei/oldbabylonian/blob/master/docs/transcription.md\" title=\"~/github/Nino-cunei/oldbabylonian/tf/1.0.5/fraction.tf\">fraction</a>  <a target=\"_blank\" href=\"https://github.com/Nino-cunei/oldbabylonian/blob/master/docs/transcription.md\" title=\"~/github/Nino-cunei/oldbabylonian/tf/1.0.5/genre.tf\">genre</a>  <a target=\"_blank\" href=\"https://github.com/Nino-cunei/oldbabylonian/blob/master/docs/transcription.md\" title=\"~/github/Nino-cunei/oldbabylonian/tf/1.0.5/grapheme.tf\">grapheme</a>  <a target=\"_blank\" href=\"https://github.com/Nino-cunei/oldbabylonian/blob/master/docs/transcription.md\" title=\"~/github/Nino-cunei/oldbabylonian/tf/1.0.5/graphemer.tf\">graphemer</a>  <a target=\"_blank\" href=\"https://github.com/Nino-cunei/oldbabylonian/blob/master/docs/transcription.md\" title=\"~/github/Nino-cunei/oldbabylonian/tf/1.0.5/graphemeu.tf\">graphemeu</a>  <a target=\"_blank\" href=\"https://github.com/Nino-cunei/oldbabylonian/blob/master/docs/transcription.md\" title=\"~/github/Nino-cunei/oldbabylonian/tf/1.0.5/lang.tf\">lang</a>  <a target=\"_blank\" href=\"https://github.com/Nino-cunei/oldbabylonian/blob/master/docs/transcription.md\" title=\"~/github/Nino-cunei/oldbabylonian/tf/1.0.5/langalt.tf\">langalt</a>  <a target=\"_blank\" href=\"https://github.com/Nino-cunei/oldbabylonian/blob/master/docs/transcription.md\" title=\"~/github/Nino-cunei/oldbabylonian/tf/1.0.5/ln.tf\">ln</a>  <a target=\"_blank\" href=\"https://github.com/Nino-cunei/oldbabylonian/blob/master/docs/transcription.md\" title=\"~/github/Nino-cunei/oldbabylonian/tf/1.0.5/lnc.tf\">lnc</a>  <a target=\"_blank\" href=\"https://github.com/Nino-cunei/oldbabylonian/blob/master/docs/transcription.md\" title=\"~/github/Nino-cunei/oldbabylonian/tf/1.0.5/lnno.tf\">lnno</a>  <a target=\"_blank\" href=\"https://github.com/Nino-cunei/oldbabylonian/blob/master/docs/transcription.md\" title=\"~/github/Nino-cunei/oldbabylonian/tf/1.0.5/material.tf\">material</a>  <a target=\"_blank\" href=\"https://github.com/Nino-cunei/oldbabylonian/blob/master/docs/transcription.md\" title=\"~/github/Nino-cunei/oldbabylonian/tf/1.0.5/missing.tf\">missing</a>  <a target=\"_blank\" href=\"https://github.com/Nino-cunei/oldbabylonian/blob/master/docs/transcription.md\" title=\"~/github/Nino-cunei/oldbabylonian/tf/1.0.5/museumcode.tf\">museumcode</a>  <a target=\"_blank\" href=\"https://github.com/Nino-cunei/oldbabylonian/blob/master/docs/transcription.md\" title=\"~/github/Nino-cunei/oldbabylonian/tf/1.0.5/museumname.tf\">museumname</a>  <a target=\"_blank\" href=\"https://github.com/Nino-cunei/oldbabylonian/blob/master/docs/transcription.md\" title=\"~/github/Nino-cunei/oldbabylonian/tf/1.0.5/object.tf\">object</a>  <a target=\"_blank\" href=\"https://github.com/Nino-cunei/oldbabylonian/blob/master/docs/transcription.md\" title=\"~/github/Nino-cunei/oldbabylonian/tf/1.0.5/operator.tf\">operator</a>  <a target=\"_blank\" href=\"https://github.com/Nino-cunei/oldbabylonian/blob/master/docs/transcription.md\" title=\"~/github/Nino-cunei/oldbabylonian/tf/1.0.5/operatorr.tf\">operatorr</a>  <a target=\"_blank\" href=\"https://github.com/Nino-cunei/oldbabylonian/blob/master/docs/transcription.md\" title=\"~/github/Nino-cunei/oldbabylonian/tf/1.0.5/operatoru.tf\">operatoru</a>  <a target=\"_blank\" href=\"https://github.com/Nino-cunei/oldbabylonian/blob/master/docs/transcription.md\" title=\"~/github/Nino-cunei/oldbabylonian/tf/1.0.5/otype.tf\">otype</a>  <a target=\"_blank\" href=\"https://github.com/Nino-cunei/oldbabylonian/blob/master/docs/transcription.md\" title=\"~/github/Nino-cunei/oldbabylonian/tf/1.0.5/period.tf\">period</a>  <a target=\"_blank\" href=\"https://github.com/Nino-cunei/oldbabylonian/blob/master/docs/transcription.md\" title=\"~/github/Nino-cunei/oldbabylonian/tf/1.0.5/pnumber.tf\">pnumber</a>  <a target=\"_blank\" href=\"https://github.com/Nino-cunei/oldbabylonian/blob/master/docs/transcription.md\" title=\"~/github/Nino-cunei/oldbabylonian/tf/1.0.5/primecol.tf\">primecol</a>  <a target=\"_blank\" href=\"https://github.com/Nino-cunei/oldbabylonian/blob/master/docs/transcription.md\" title=\"~/github/Nino-cunei/oldbabylonian/tf/1.0.5/primeln.tf\">primeln</a>  <a target=\"_blank\" href=\"https://github.com/Nino-cunei/oldbabylonian/blob/master/docs/transcription.md\" title=\"~/github/Nino-cunei/oldbabylonian/tf/1.0.5/pubdate.tf\">pubdate</a>  <a target=\"_blank\" href=\"https://github.com/Nino-cunei/oldbabylonian/blob/master/docs/transcription.md\" title=\"~/github/Nino-cunei/oldbabylonian/tf/1.0.5/question.tf\">question</a>  <a target=\"_blank\" href=\"https://github.com/Nino-cunei/oldbabylonian/blob/master/docs/transcription.md\" title=\"~/github/Nino-cunei/oldbabylonian/tf/1.0.5/reading.tf\">reading</a>  <a target=\"_blank\" href=\"https://github.com/Nino-cunei/oldbabylonian/blob/master/docs/transcription.md\" title=\"~/github/Nino-cunei/oldbabylonian/tf/1.0.5/readingr.tf\">readingr</a>  <a target=\"_blank\" href=\"https://github.com/Nino-cunei/oldbabylonian/blob/master/docs/transcription.md\" title=\"~/github/Nino-cunei/oldbabylonian/tf/1.0.5/readingu.tf\">readingu</a>  <a target=\"_blank\" href=\"https://github.com/Nino-cunei/oldbabylonian/blob/master/docs/transcription.md\" title=\"~/github/Nino-cunei/oldbabylonian/tf/1.0.5/remarkable.tf\">remarkable</a>  <a target=\"_blank\" href=\"https://github.com/Nino-cunei/oldbabylonian/blob/master/docs/transcription.md\" title=\"~/github/Nino-cunei/oldbabylonian/tf/1.0.5/remarks.tf\">remarks</a>  <a target=\"_blank\" href=\"https://github.com/Nino-cunei/oldbabylonian/blob/master/docs/transcription.md\" title=\"~/github/Nino-cunei/oldbabylonian/tf/1.0.5/repeat.tf\">repeat</a>  <a target=\"_blank\" href=\"https://github.com/Nino-cunei/oldbabylonian/blob/master/docs/transcription.md\" title=\"~/github/Nino-cunei/oldbabylonian/tf/1.0.5/srcLn.tf\">srcLn</a>  <a target=\"_blank\" href=\"https://github.com/Nino-cunei/oldbabylonian/blob/master/docs/transcription.md\" title=\"~/github/Nino-cunei/oldbabylonian/tf/1.0.5/srcLnNum.tf\">srcLnNum</a>  <a target=\"_blank\" href=\"https://github.com/Nino-cunei/oldbabylonian/blob/master/docs/transcription.md\" title=\"~/github/Nino-cunei/oldbabylonian/tf/1.0.5/srcfile.tf\">srcfile</a>  <a target=\"_blank\" href=\"https://github.com/Nino-cunei/oldbabylonian/blob/master/docs/transcription.md\" title=\"~/github/Nino-cunei/oldbabylonian/tf/1.0.5/subgenre.tf\">subgenre</a>  <a target=\"_blank\" href=\"https://github.com/Nino-cunei/oldbabylonian/blob/master/docs/transcription.md\" title=\"~/github/Nino-cunei/oldbabylonian/tf/1.0.5/supplied.tf\">supplied</a>  <a target=\"_blank\" href=\"https://github.com/Nino-cunei/oldbabylonian/blob/master/docs/transcription.md\" title=\"~/github/Nino-cunei/oldbabylonian/tf/1.0.5/sym.tf\">sym</a>  <a target=\"_blank\" href=\"https://github.com/Nino-cunei/oldbabylonian/blob/master/docs/transcription.md\" title=\"~/github/Nino-cunei/oldbabylonian/tf/1.0.5/symr.tf\">symr</a>  <a target=\"_blank\" href=\"https://github.com/Nino-cunei/oldbabylonian/blob/master/docs/transcription.md\" title=\"~/github/Nino-cunei/oldbabylonian/tf/1.0.5/symu.tf\">symu</a>  <a target=\"_blank\" href=\"https://github.com/Nino-cunei/oldbabylonian/blob/master/docs/transcription.md\" title=\"~/github/Nino-cunei/oldbabylonian/tf/1.0.5/trans.tf\">trans</a>  <a target=\"_blank\" href=\"https://github.com/Nino-cunei/oldbabylonian/blob/master/docs/transcription.md\" title=\"~/github/Nino-cunei/oldbabylonian/tf/1.0.5/transcriber.tf\">transcriber</a>  <a target=\"_blank\" href=\"https://github.com/Nino-cunei/oldbabylonian/blob/master/docs/transcription.md\" title=\"~/github/Nino-cunei/oldbabylonian/tf/1.0.5/translation@en.tf\">translation@ll</a>  <a target=\"_blank\" href=\"https://github.com/Nino-cunei/oldbabylonian/blob/master/docs/transcription.md\" title=\"~/github/Nino-cunei/oldbabylonian/tf/1.0.5/type.tf\">type</a>  <a target=\"_blank\" href=\"https://github.com/Nino-cunei/oldbabylonian/blob/master/docs/transcription.md\" title=\"~/github/Nino-cunei/oldbabylonian/tf/1.0.5/uncertain.tf\">uncertain</a>  <a target=\"_blank\" href=\"https://github.com/Nino-cunei/oldbabylonian/blob/master/docs/transcription.md\" title=\"~/github/Nino-cunei/oldbabylonian/tf/1.0.5/volume.tf\">volume</a>  <b><i><a target=\"_blank\" href=\"https://github.com/Nino-cunei/oldbabylonian/blob/master/docs/transcription.md\" title=\"~/github/Nino-cunei/oldbabylonian/tf/1.0.5/oslots.tf\">oslots</a></i></b> </p></details>"
      ],
      "text/plain": [
       "<IPython.core.display.HTML object>"
      ]
     },
     "metadata": {},
     "output_type": "display_data"
    },
    {
     "data": {
      "text/html": [
       "<style>tr.tf, td.tf, th.tf { text-align: left ! important;}@font-face {\n",
       "  font-family: \"Ezra SIL\";\n",
       "  src: local('Ezra SIL'), local('EzraSIL'),\n",
       "    url('/server/static/fonts/SILEOT.woff') format('woff'),\n",
       "    url('https://github.com/annotation/text-fabric/blob/master/tf/server/static/fonts/SILEOT.woff?raw=true') format('woff');\n",
       "}\n",
       "\n",
       "@font-face {\n",
       "  font-family: \"SBL Hebrew\";\n",
       "  src: local('SBL Hebrew'), local('SBLHebrew'),\n",
       "    url('/server/static/fonts/SBL_Hbrw.woff') format('woff'),\n",
       "    url('https://github.com/annotation/text-fabric/blob/master/tf/server/static/fonts/SBL_Hbrw.woff?raw=true') format('woff');\n",
       "}\n",
       "\n",
       "@font-face {\n",
       "  font-family: \"Estrangelo Edessa\";\n",
       "  src: local('Estrangelo Edessa'), local('EstrangeloEdessa');\n",
       "    url('/server/static/fonts/SyrCOMEdessa.woff') format('woff'),\n",
       "    url('https://github.com/annotation/text-fabric/blob/master/tf/server/static/fonts/SyrCOMEdessa.woff?raw=true') format('woff');\n",
       "}\n",
       "\n",
       "@font-face {\n",
       "  font-family: AmiriQuran;\n",
       "  font-style: normal;\n",
       "  font-weight: 400;\n",
       "  src: local('Amiri Quran'), local('AmiriQuran'),\n",
       "    url('/server/static/fonts/AmiriQuran.woff') format('woff'),\n",
       "    url('https://github.com/annotation/text-fabric/blob/master/tf/server/static/fonts/AmiriQuran.woff?raw=true') format('woff');\n",
       "}\n",
       "\n",
       "@font-face {\n",
       "  font-family: AmiriQuranColored;\n",
       "  font-style: normal;\n",
       "  font-weight: 400;\n",
       "  src: local('Amiri Quran Colored'), local('AmiriQuranColored'),\n",
       "    url('/server/static/fonts/AmiriQuranColored.woff') format('woff'),\n",
       "    url('https://github.com/annotation/text-fabric/blob/master/tf/server/static/fonts/AmiriQuranColored.woff?raw=true') format('woff');\n",
       "}\n",
       "\n",
       "@font-face {\n",
       "  font-family: \"Santakku\";\n",
       "  src: local('Santakku'),\n",
       "    url('/server/static/fonts/Santakku.woff') format('woff'),\n",
       "    url('https://github.com/annotation/text-fabric/blob/master/tf/server/static/fonts/Santakku.woff?raw=true') format('woff');\n",
       "}\n",
       "\n",
       "@font-face {\n",
       "  font-family: \"SantakkuM\";\n",
       "  src: local('SantakkuM'),\n",
       "    url('/server/static/fonts/SantakkuM.woff') format('woff'),\n",
       "    url('https://github.com/annotation/text-fabric/blob/master/tf/server/static/fonts/SantakkuM.woff?raw=true') format('woff');\n",
       "}\n",
       "/* bypassing some classical notebook settings */\n",
       "div#notebook {\n",
       "  line-height: unset;\n",
       "}\n",
       "/* neutral text */\n",
       ".txtn,.txtn a:visited,.txtn a:link {\n",
       "    font-family: sans-serif;\n",
       "    font-size: medium;\n",
       "    direction: ltr;\n",
       "    text-decoration: none;\n",
       "    color: var(--text-color);\n",
       "}\n",
       "/* transcription text */\n",
       ".txtt,.txtt a:visited,.txtt a:link {\n",
       "    font-family: monospace;\n",
       "    font-size: medium;\n",
       "    direction: ltr;\n",
       "    text-decoration: none;\n",
       "    color: var(--text-color);\n",
       "}\n",
       "/* source text */\n",
       ".txto,.txto a:visited,.txto a:link {\n",
       "    font-family: serif;\n",
       "    font-size: medium;\n",
       "    direction: ltr;\n",
       "    text-decoration: none;\n",
       "    color: var(--text-color);\n",
       "}\n",
       "/* phonetic text */\n",
       ".txtp,.txtp a:visited,.txtp a:link {\n",
       "    font-family: Gentium, sans-serif;\n",
       "    font-size: large;\n",
       "    direction: ltr;\n",
       "    text-decoration: none;\n",
       "    color: var(--text-color);\n",
       "}\n",
       "/* original script text */\n",
       ".txtu,.txtu a:visited,.txtu a:link {\n",
       "    font-family: Gentium, sans-serif;\n",
       "    font-size: large;\n",
       "    text-decoration: none;\n",
       "    color: var(--text-color);\n",
       "}\n",
       "/* hebrew */\n",
       ".txtu.hbo,.lex.hbo {\n",
       "    font-family: \"Ezra SIL\", \"SBL Hebrew\", sans-serif;\n",
       "    font-size: x-large;\n",
       "    direction: rtl ! important;\n",
       "    unicode-bidi: embed;\n",
       "}\n",
       "/* syriac */\n",
       ".txtu.syc,.lex.syc {\n",
       "    font-family: \"Estrangelo Edessa\", sans-serif;\n",
       "    font-size: large;\n",
       "    direction: rtl ! important;\n",
       "    unicode-bidi: embed;\n",
       "}\n",
       "/* neo aramaic */\n",
       ".txtu.cld,.lex.cld {\n",
       "    font-family: \"CharisSIL-R\", sans-serif;\n",
       "    font-size: medium;\n",
       "    direction: ltr ! important;\n",
       "    unicode-bidi: embed;\n",
       "}\n",
       "/* standard arabic */\n",
       ".txtu.ara,.lex.ara {\n",
       "    font-family: \"AmiriQuran\", sans-serif;\n",
       "    font-size: large;\n",
       "    direction: rtl ! important;\n",
       "    unicode-bidi: embed;\n",
       "}\n",
       "/* cuneiform */\n",
       ".txtu.akk,.lex.akk {\n",
       "    font-family: Santakku, sans-serif;\n",
       "    font-size: x-large;\n",
       "    direction: ltr ! important;\n",
       "    unicode-bidi: embed;\n",
       "}\n",
       "/* greek */\n",
       ".txtu.grc,.lex.grc a:link {\n",
       "    font-family: Gentium, sans-serif;\n",
       "    font-size: medium;\n",
       "    direction: ltr ! important;\n",
       "    unicode-bidi: embed;\n",
       "}\n",
       "a:hover {\n",
       "    text-decoration: underline | important;\n",
       "    color: #0000ff | important;\n",
       "}\n",
       ".ltr {\n",
       "    direction: ltr ! important;\n",
       "}\n",
       ".rtl {\n",
       "    direction: rtl ! important;\n",
       "}\n",
       "span.plain {\n",
       "    display: inline-block;\n",
       "    white-space: pre-wrap;\n",
       "    text-align: start;\n",
       "}\n",
       ".gr,.gl {\n",
       "    white-space: pre-wrap;\n",
       "    border-color: var(--border-color-gap);\n",
       "    border-width: var(--border-width-gap);\n",
       "    border-top-style: none;\n",
       "    border-bottom-style: none;\n",
       "}\n",
       ".gr {\n",
       "    border-right-style: solid;\n",
       "    border-left-style: dashed;\n",
       "}\n",
       ".gl {\n",
       "    border-right-style: dashed;\n",
       "    border-left-style: solid;\n",
       "}\n",
       ".features {\n",
       "    font-family: monospace;\n",
       "    font-size: medium;\n",
       "    font-weight: bold;\n",
       "    color: var(--features);\n",
       "    display: flex;\n",
       "    flex-flow: column nowrap;\n",
       "    justify-content: flex-start;\n",
       "    align-items: flex-start;\n",
       "    align-content: flex-start;\n",
       "    padding: 0.1rem;\n",
       "    margin: 0.1rem;\n",
       "    direction: ltr;\n",
       "    border: var(--meta-width) solid var(--meta-color);\n",
       "    border-radius: var(--meta-width);\n",
       "}\n",
       ".features div,.features span {\n",
       "    padding: 0;\n",
       "    margin: -0.1rem 0;\n",
       "}\n",
       ".features .f {\n",
       "    font-family: sans-serif;\n",
       "    font-size: small;\n",
       "    font-weight: normal;\n",
       "    color: #5555bb;\n",
       "}\n",
       ".features .xft {\n",
       "  color: #000000;\n",
       "  background-color: #eeeeee;\n",
       "  font-size: medium;\n",
       "  margin: 0.1rem 0rem;\n",
       "}\n",
       ".features .xft .f {\n",
       "  color: #000000;\n",
       "  background-color: #eeeeee;\n",
       "  font-size: small;\n",
       "  font-weight: normal;\n",
       "}\n",
       ".section {\n",
       "    font-family: sans-serif;\n",
       "    font-size: small;\n",
       "    font-weight: bold;\n",
       "    color: var(--section);\n",
       "}\n",
       ".structure {\n",
       "    font-family: sans-serif;\n",
       "    font-size: small;\n",
       "    font-weight: bold;\n",
       "    color: var(--structure);\n",
       "}\n",
       ".comments {\n",
       "    display: flex;\n",
       "    justify-content: flex-start;\n",
       "    align-items: flex-start;\n",
       "    align-content: flex-start;\n",
       "    flex-flow: column nowrap;\n",
       "}\n",
       ".nd {\n",
       "    font-family: sans-serif;\n",
       "    font-size: small;\n",
       "    color: var(--node);\n",
       "    vertical-align: super;\n",
       "}\n",
       ".lex {\n",
       "  color: var(--lex-color);;\n",
       "}\n",
       ".children,.children.ltr {\n",
       "    display: flex;\n",
       "    border: 0;\n",
       "    background-color: #ffffff;\n",
       "    justify-content: flex-start;\n",
       "    align-items: flex-start;\n",
       "    align-content: flex-start;\n",
       "}\n",
       ".children.stretch {\n",
       "    align-items: stretch;\n",
       "}\n",
       ".children.hor {\n",
       "    flex-flow: row nowrap;\n",
       "}\n",
       ".children.hor.wrap {\n",
       "    flex-flow: row wrap;\n",
       "}\n",
       ".children.ver {\n",
       "    flex-flow: column nowrap;\n",
       "}\n",
       ".children.ver.wrap {\n",
       "    flex-flow: column wrap;\n",
       "}\n",
       ".contnr {\n",
       "    width: fit-content;\n",
       "    display: flex;\n",
       "    justify-content: flex-start;\n",
       "    align-items: flex-start;\n",
       "    align-content: flex-start;\n",
       "    flex-flow: column nowrap;\n",
       "    background: #ffffff none repeat scroll 0 0;\n",
       "    padding:  0.5rem 0.1rem 0.1rem 0.1rem;\n",
       "    margin: 0.8rem 0.1rem 0.1rem 0.1rem;\n",
       "    border-style: solid;\n",
       "    font-size: small;\n",
       "}\n",
       ".contnr.trm {\n",
       "    background-attachment: local;\n",
       "}\n",
       ".contnr.cnul {\n",
       "    padding:  0;\n",
       "    margin: 0;\n",
       "    border-style: solid;\n",
       "    font-size: xx-small;\n",
       "}\n",
       ".contnr.cnul,.lbl.cnul {\n",
       "    border-color: var(--border-color-nul);\n",
       "    border-width: var(--border-width-nul);\n",
       "    border-radius: var(--border-width-nul);\n",
       "}\n",
       ".contnr.c0,.lbl.c0 {\n",
       "    border-color: var(--border-color0);\n",
       "    border-width: var(--border-width0);\n",
       "    border-radius: var(--border-width0);\n",
       "}\n",
       ".contnr.c1,.lbl.c1 {\n",
       "    border-color: var(--border-color1);\n",
       "    border-width: var(--border-width1);\n",
       "    border-radius: var(--border-width1);\n",
       "}\n",
       ".contnr.c2,.lbl.c2 {\n",
       "    border-color: var(--border-color2);\n",
       "    border-width: var(--border-width2);\n",
       "    border-radius: var(--border-width2);\n",
       "}\n",
       ".contnr.c3,.lbl.c3 {\n",
       "    border-color: var(--border-color3);\n",
       "    border-width: var(--border-width3);\n",
       "    border-radius: var(--border-width3);\n",
       "}\n",
       ".contnr.c4,.lbl.c4 {\n",
       "    border-color: var(--border-color4);\n",
       "    border-width: var(--border-width4);\n",
       "    border-radius: var(--border-width4);\n",
       "}\n",
       ".contnr.l,.contnr.l>.lbl {\n",
       "    border-left-style: dotted\n",
       "}\n",
       ".contnr.r,.contnr.r>.lbl {\n",
       "    border-right-style: dotted\n",
       "}\n",
       ".contnr.lno,.contnr.lno>.lbl {\n",
       "    border-left-style: none\n",
       "}\n",
       ".contnr.rno,.contnr.rno>.lbl {\n",
       "    border-right-style: none\n",
       "}\n",
       ".lbl {\n",
       "    font-family: monospace;\n",
       "    margin-top: -1.2rem;\n",
       "    margin-left: 1rem;\n",
       "    background: #ffffff none repeat scroll 0 0;\n",
       "    padding: 0 0.3rem;\n",
       "    border-style: solid;\n",
       "    display: block;\n",
       "    color: var(--label)\n",
       "}\n",
       ".lbl.trm {\n",
       "    background-attachment: local;\n",
       "    margin-top: 0.1rem;\n",
       "    margin-left: 0.1rem;\n",
       "    padding: 0.1rem 0.1rem;\n",
       "    border-style: none;\n",
       "}\n",
       ".lbl.cnul {\n",
       "    font-size: xx-small;\n",
       "}\n",
       ".lbl.c0 {\n",
       "    font-size: small;\n",
       "}\n",
       ".lbl.c1 {\n",
       "    font-size: small;\n",
       "}\n",
       ".lbl.c2 {\n",
       "    font-size: medium;\n",
       "}\n",
       ".lbl.c3 {\n",
       "    font-size: medium;\n",
       "}\n",
       ".lbl.c4 {\n",
       "    font-size: large;\n",
       "}\n",
       ".occs {\n",
       "    font-size: small;\n",
       "}\n",
       "\n",
       "/* PROVENANCE */\n",
       "\n",
       "div.prov {\n",
       "\tmargin: 2rem;\n",
       "\tpadding: 1rem;\n",
       "\tborder: 0.1rem solid var(--fog-rim);\n",
       "}\n",
       "div.pline {\n",
       "\tdisplay: flex;\n",
       "\tflex-flow: row nowrap;\n",
       "\tjustify-content: stretch;\n",
       "\talign-items: baseline;\n",
       "}\n",
       "div.p2line {\n",
       "\tmargin-left: 2em;\n",
       "\tdisplay: flex;\n",
       "\tflex-flow: row nowrap;\n",
       "\tjustify-content: stretch;\n",
       "\talign-items: baseline;\n",
       "}\n",
       "div.psline {\n",
       "\tdisplay: flex;\n",
       "\tflex-flow: row nowrap;\n",
       "\tjustify-content: stretch;\n",
       "\talign-items: baseline;\n",
       "\tbackground-color: var(--gold-mist-back);\n",
       "}\n",
       "div.pname {\n",
       "\tflex: 0 0 5rem;\n",
       "\tfont-weight: bold;\n",
       "}\n",
       "div.pval {\n",
       "    flex: 1 1 auto;\n",
       "}\n",
       "\n",
       ":root {\n",
       "\t--node:             hsla(120, 100%,  20%, 1.0  );\n",
       "\t--label:            hsla(  0, 100%,  20%, 1.0  );\n",
       "\t--section:          hsla(  0, 100%,  25%, 1.0  );\n",
       "\t--structure:        hsla(120, 100%,  25%, 1.0  );\n",
       "\t--features:         hsla(  0,   0%,  30%, 1.0  );\n",
       "  --text-color:       hsla( 60,  80%,  10%, 1.0  );\n",
       "  --lex-color:        hsla(220,  90%,  60%, 1.0  );\n",
       "  --meta-color:       hsla(  0,   0%,  90%, 0.7  );\n",
       "  --meta-width:       0.15rem;\n",
       "  --border-color-nul: hsla(  0,   0%,  90%, 0.5  );\n",
       "  --border-color-gap: hsla(  0,  50%,  70%, 1.0  );\n",
       "  --border-color0:    hsla(  0,   0%,  90%, 0.9  );\n",
       "  --border-color1:    hsla(  0,   0%,  80%, 0.9  );\n",
       "  --border-color2:    hsla(  0,   0%,  70%, 0.9  );\n",
       "  --border-color3:    hsla(  0,   0%,  80%, 0.8  );\n",
       "  --border-color4:    hsla(  0,   0%,  60%, 0.9  );\n",
       "  --border-width-nul: 0.1rem;\n",
       "  --border-width-gap: 0.1rem;\n",
       "  --border-width0:    0.1rem;\n",
       "  --border-width1:    0.15rem;\n",
       "  --border-width2:    0.2rem;\n",
       "  --border-width3:    0.3rem;\n",
       "  --border-width4:    0.25rem;\n",
       "}\n",
       ".hl {\n",
       "  background-color: var(--hl-strong);\n",
       "}\n",
       "span.hl {\n",
       "\tbackground-color: var(--hl-strong);\n",
       "\tborder-width: 0;\n",
       "\tborder-radius: 0.1rem;\n",
       "\tborder-style: solid;\n",
       "}\n",
       "div.contnr.hl,div.lbl.hl {\n",
       "  background-color: var(--hl-strong);\n",
       "}\n",
       "div.contnr.hl {\n",
       "  border-color: var(--hl-rim) ! important;\n",
       "\tborder-width: 0.2rem ! important;\n",
       "}\n",
       "\n",
       "span.hlbx {\n",
       "\tborder-color: var(--hl-rim);\n",
       "\tborder-width: 0.2rem;\n",
       "\tborder-style: solid;\n",
       "\tborder-radius: 0.3rem;\n",
       "  padding: 0.2rem;\n",
       "  margin: 0.2rem;\n",
       "}\n",
       "\n",
       "span.plain {\n",
       "  display: inline-block;\n",
       "  white-space: pre-wrap;\n",
       "}\n",
       "\n",
       ":root {\n",
       "\t--hl-strong:        hsla( 60, 100%,  70%, 0.9  );\n",
       "\t--hl-rim:           hsla( 55,  80%,  50%, 1.0  );\n",
       "}\n",
       ".pnum {\n",
       "    font-family: sans-serif;\n",
       "    font-size: small;\n",
       "    font-weight: bold;\n",
       "    color: #444444;\n",
       "}\n",
       ".op {\n",
       "    padding:  0.5em 0.1em 0.1em 0.1em;\n",
       "    margin: 0.8em 0.1em 0.1em 0.1em;\n",
       "    font-family: monospace;\n",
       "    font-size: x-large;\n",
       "    font-weight: bold;\n",
       "}\n",
       ".period {\n",
       "    font-family: monospace;\n",
       "    font-size: medium;\n",
       "    font-weight: bold;\n",
       "    color: #0000bb;\n",
       "}\n",
       ".comment {\n",
       "    color: #7777dd;\n",
       "    font-family: monospace;\n",
       "    font-size: small;\n",
       "}\n",
       ".operator {\n",
       "    color: #ff77ff;\n",
       "    font-size: large;\n",
       "}\n",
       "/* LANGUAGE: superscript and subscript */\n",
       "\n",
       "/* cluster */\n",
       ".det {\n",
       "    vertical-align: super;\n",
       "}\n",
       "/* cluster */\n",
       ".langalt {\n",
       "    vertical-align: sub;\n",
       "}\n",
       "/* REDACTIONAL: line over or under  */\n",
       "\n",
       "/* flag */\n",
       ".collated {\n",
       "    font-weight: bold;\n",
       "    text-decoration: underline;\n",
       "}\n",
       "/* cluster */\n",
       ".excised {\n",
       "    color: #dd0000;\n",
       "    text-decoration: line-through;\n",
       "}\n",
       "/* cluster */\n",
       ".supplied {\n",
       "    color: #0000ff;\n",
       "    text-decoration: overline;\n",
       "}\n",
       "/* flag */\n",
       ".remarkable {\n",
       "    font-weight: bold;\n",
       "    text-decoration: overline;\n",
       "}\n",
       "\n",
       "/* UNSURE: italic*/\n",
       "\n",
       "/* cluster */\n",
       ".uncertain {\n",
       "    font-style: italic\n",
       "}\n",
       "/* flag */\n",
       ".question {\n",
       "    font-weight: bold;\n",
       "    font-style: italic\n",
       "}\n",
       "\n",
       "/* BROKEN: text-shadow */\n",
       "\n",
       "/* cluster */\n",
       ".missing {\n",
       "    color: #999999;\n",
       "    text-shadow: #bbbbbb 1px 1px;\n",
       "}\n",
       "/* flag */\n",
       ".damage {\n",
       "    font-weight: bold;\n",
       "    color: #999999;\n",
       "    text-shadow: #bbbbbb 1px 1px;\n",
       "}\n",
       ".empty {\n",
       "  color: #ff0000;\n",
       "}\n",
       "\n",
       "</style>"
      ],
      "text/plain": [
       "<IPython.core.display.HTML object>"
      ]
     },
     "metadata": {},
     "output_type": "display_data"
    },
    {
     "data": {
      "text/html": [
       "<div><a target=\"_blank\" href=\"https://annotation.github.io/text-fabric/cheatsheet.html\" title=\"doc\">names N F E L T S C TF directly usable</a></div>"
      ],
      "text/plain": [
       "<IPython.core.display.HTML object>"
      ]
     },
     "metadata": {},
     "output_type": "display_data"
    }
   ],
   "source": [
    "A = use('oldbabylonian:clone', checkout=\"clone\", hoist=globals())\n",
    "# A = use('oldbabylonian', hoist=globals())"
   ]
  },
  {
   "cell_type": "markdown",
   "metadata": {},
   "source": [
    "# Overview of the determinatives\n",
    "\n",
    "Which readings occur as determinative, and how often?\n",
    "\n",
    "The following cell gets all signs that are a determinative."
   ]
  },
  {
   "cell_type": "code",
   "execution_count": 4,
   "metadata": {},
   "outputs": [
    {
     "data": {
      "text/plain": [
       "6796"
      ]
     },
     "execution_count": 4,
     "metadata": {},
     "output_type": "execute_result"
    }
   ],
   "source": [
    "dets = F.det.s(1)\n",
    "len(dets)"
   ]
  },
  {
   "cell_type": "markdown",
   "metadata": {},
   "source": [
    "*In words:* for the feature `det`, give all nodes that have value 1.\n",
    "\n",
    "From the feature docs (there is a link to it after the incantantion above), we know that the determiners are exactly those signs with `det=1`."
   ]
  },
  {
   "cell_type": "markdown",
   "metadata": {},
   "source": [
    "We are going to count them by reading, and for each reading we want to list one or two examples.\n",
    "\n",
    "So we make a mapping from readings to sign nodes that have that reading.\n",
    "\n",
    "Theoretically, we could have something like `{AN}`, i.e. not a *reading* but a *grapheme*.\n",
    "\n",
    "Let's check whether there are determinatives that do not have a reading."
   ]
  },
  {
   "cell_type": "code",
   "execution_count": 5,
   "metadata": {},
   "outputs": [
    {
     "data": {
      "text/plain": [
       "0"
      ]
     },
     "execution_count": 5,
     "metadata": {},
     "output_type": "execute_result"
    }
   ],
   "source": [
    "noReading = collections.Counter()\n",
    "for s in dets:\n",
    "  if not F.reading.v(s):\n",
    "    noReading[F.grapheme.v(s)] += 1\n",
    "len(noReading)"
   ]
  },
  {
   "cell_type": "markdown",
   "metadata": {},
   "source": [
    "No, we do not have to reckon with determinatives without reading."
   ]
  },
  {
   "cell_type": "code",
   "execution_count": 6,
   "metadata": {},
   "outputs": [
    {
     "data": {
      "text/plain": [
       "40"
      ]
     },
     "execution_count": 6,
     "metadata": {},
     "output_type": "execute_result"
    }
   ],
   "source": [
    "readings = collections.defaultdict(list)\n",
    "\n",
    "for s in dets:\n",
    "  readings[F.reading.v(s)].append(s)\n",
    "  \n",
    "len(readings)"
   ]
  },
  {
   "cell_type": "markdown",
   "metadata": {},
   "source": [
    "We have a limited set of distinct determinatives. Lets print them by frequency.\n",
    "Remember that the keys of the `readings` dictionary are concrete readings, and the value for each key is the list of nodes\n",
    "that have that reading. These are all sign nodes for which `det=1`."
   ]
  },
  {
   "cell_type": "markdown",
   "metadata": {},
   "source": [
    "We are going to sort a dictionary based on frequencies.\n",
    "\n",
    "That kind of sortings occurs quite often.\n",
    "\n",
    "So we define a few *key* functions for that.\n",
    "\n",
    "A key function is a function that maps a value to another value.\n",
    "If we pass a key function to `sorted()`, the values will be sorted by their key values, i.e. the values assigned to\n",
    "them by the key function.\n",
    "\n",
    "If we have a `collections.Counter()` that maps things to amounts, here is a suitable key function:"
   ]
  },
  {
   "cell_type": "code",
   "execution_count": 7,
   "metadata": {},
   "outputs": [],
   "source": [
    "def freqKey(x):\n",
    "  return (-x[1], x[0])"
   ]
  },
  {
   "cell_type": "markdown",
   "metadata": {},
   "source": [
    "Explanation: `x` is an item of a counter, i.e. a pair `(thing, amount)`. So the `x[0]` is the thing, and the `x[1]` is the amount.\n",
    "\n",
    "We want things with a high amount on top, so we should sort on `-x[1]`. If things have the same amount, we want to sort on the thing\n",
    "itself: `x[0]`. We achieve this by sorting on the pair `(-x[1], x[0])`."
   ]
  },
  {
   "cell_type": "markdown",
   "metadata": {},
   "source": [
    "Sometimes we want to sort a dictionary that maps things to sets or lists of nodes, and we want the things that map to large sets first.\n",
    "\n",
    "We do this with a slight adaptation of the `freqKey()` function:"
   ]
  },
  {
   "cell_type": "code",
   "execution_count": 8,
   "metadata": {},
   "outputs": [],
   "source": [
    "def freqKeyL(x):\n",
    "  return (-len(x[1]), x[0])"
   ]
  },
  {
   "cell_type": "markdown",
   "metadata": {},
   "source": [
    "Because `x[1]` is now a set or list, we need to take its length."
   ]
  },
  {
   "cell_type": "code",
   "execution_count": 9,
   "metadata": {},
   "outputs": [
    {
     "name": "stdout",
     "output_type": "stream",
     "text": [
      "d          4078\n",
      "disz       1204\n",
      "ki          884\n",
      "gesz        271\n",
      "sar          84\n",
      "mi2          46\n",
      "gi           39\n",
      "lu2          33\n",
      "tug2         31\n",
      "iri          28\n",
      "na4          17\n",
      "kusz         12\n",
      "uruda        11\n",
      "urudu         7\n",
      "duru5         5\n",
      "ku6           4\n",
      "muszen        4\n",
      "u2            4\n",
      "gar           3\n",
      "szim          3\n",
      "a             2\n",
      "am            2\n",
      "an            2\n",
      "ap            2\n",
      "dug           2\n",
      "id2           2\n",
      "p             2\n",
      "sza3          2\n",
      "ar            1\n",
      "asz           1\n",
      "at            1\n",
      "gisz          1\n",
      "i7            1\n",
      "ir            1\n",
      "iti           1\n",
      "ku            1\n",
      "la            1\n",
      "munus         1\n",
      "ti            1\n",
      "uzu           1\n"
     ]
    }
   ],
   "source": [
    "for (reading, signNodes) in sorted(\n",
    "  readings.items(),\n",
    "  key=freqKeyL\n",
    "):\n",
    "  print(f'{reading:<10} {len(signNodes):>4}')"
   ]
  },
  {
   "cell_type": "markdown",
   "metadata": {},
   "source": [
    "Now we show the first example in the corpus for each reading.\n",
    "\n",
    "If we have tuples of nodes, we can display them with `A.table()`.\n",
    "\n",
    "So let's make a tuple of nodes: for each example, we take the sign node and its encompassing line node."
   ]
  },
  {
   "cell_type": "code",
   "execution_count": 10,
   "metadata": {},
   "outputs": [
    {
     "data": {
      "text/html": [
       "<table><tr class=\"tf\"><th class=\"tf\">n</th><th class=\"tf\">p</th><th class=\"tf\">line</th><th class=\"tf\">sign</th></tr>\n",
       "<tr class=\"tf\"><td class=\"tf\">1</td><td class=\"tf\"><span class=\"section ltr\"><a target=\"_blank\" href=\"https://cdli.ucla.edu/search/search_results.php?SearchMode=Text&amp;ObjectID=P509373\" title=\"Show this document on CDLI\" sec=\"P509373 obverse:1\">P509373 obverse:1</a></span></td><td class=\"tf\"><span class=\"plain outer   \" ><span class=\"plain txto \"></span><span class=\"plain     \" ><span class=\"plain txto \"></span><span class=\"plain     \" ><span class=\"plain txto \"></span><span class=\"plain     \" ><span class=\"txto\">[a-</span></span><span class=\"plain     \" ><span class=\"txto\">na] </span></span></span></span><span class=\"plain     \" ><span class=\"plain txto \"></span><span class=\"plain     \" ><span class=\"plain txto \"></span><span class=\"plain     \" ><span class=\"plain txto \"></span><span class=\"plain     hlbx\" ><span class=\"txto\">_{d}</span></span></span><span class=\"plain     \" ><span class=\"txto\">suen_-</span></span></span><span class=\"plain     \" ><span class=\"txto\">i-</span></span><span class=\"plain     \" ><span class=\"plain txto \"></span><span class=\"plain     \" ><span class=\"txto\">[din-</span></span><span class=\"plain     \" ><span class=\"txto\">nam]</span></span></span></span></span></td><td class=\"tf\"><span class=\"plain outer   hlbx\" ><span class=\"txto\">_{d}</span></span></td></tr>\n",
       "<tr class=\"tf\"><td class=\"tf\">2</td><td class=\"tf\"><span class=\"section ltr\"><a target=\"_blank\" href=\"https://cdli.ucla.edu/search/search_results.php?SearchMode=Text&amp;ObjectID=P509373\" title=\"Show this document on CDLI\" sec=\"P509373 obverse:6\">P509373 obverse:6</a></span></td><td class=\"tf\"><span class=\"plain outer   \" ><span class=\"plain txto \"></span><span class=\"plain     \" ><span class=\"plain txto \"></span><span class=\"plain     \" ><span class=\"plain txto \"></span><span class=\"plain     hlbx\" ><span class=\"txto\">{disz}</span></span></span><span class=\"plain     \" ><span class=\"txto\">sze-</span></span><span class=\"plain     \" ><span class=\"txto\">ep-</span></span><span class=\"plain    rno \" ><span class=\"plain txto \"></span><span class=\"plain     \" ><span class=\"plain txto \"></span><span class=\"plain     \" ><span class=\"txto\">_{d}</span></span></span><span class=\"plain     \" ><span class=\"txto\">suen </span></span></span></span><span class=\"plain     \" ><span class=\"plain txto \"></span><span class=\"plain     \" ><span class=\"txto\">a2-</span></span><span class=\"plain     \" ><span class=\"txto\">gal2 </span></span><span class=\"plain     \" ><span class=\"plain txto \"></span><span class=\"plain     \" ><span class=\"txto\">[dumu] </span></span></span><span class=\"plain     \" ><span class=\"txto\">um-</span></span><span class=\"plain     \" ><span class=\"txto\">mi-</span></span><span class=\"plain     \" ><span class=\"txto\">a-</span></span><span class=\"plain     \" ><span class=\"txto\">mesz_</span></span></span></span></td><td class=\"tf\"><span class=\"plain outer   hlbx\" ><span class=\"txto\">{disz}</span></span></td></tr>\n",
       "<tr class=\"tf\"><td class=\"tf\">3</td><td class=\"tf\"><span class=\"section ltr\"><a target=\"_blank\" href=\"https://cdli.ucla.edu/search/search_results.php?SearchMode=Text&amp;ObjectID=P509373\" title=\"Show this document on CDLI\" sec=\"P509373 obverse:10\">P509373 obverse:10</a></span></td><td class=\"tf\"><span class=\"plain outer   \" ><span class=\"plain txto \"></span><span class=\"plain     \" ><span class=\"plain txto \"></span><span class=\"plain     \" ><span class=\"txto\">_a-</span></span><span class=\"plain     \" ><span class=\"txto\">sza3 </span></span><span class=\"plain     \" ><span class=\"txto\">a-</span></span><span class=\"plain     \" ><span class=\"txto\">gar3_ </span></span></span><span class=\"plain     \" ><span class=\"plain txto \"></span><span class=\"plain     \" ><span class=\"txto\">na-</span></span><span class=\"plain     \" ><span class=\"txto\">ag-</span></span><span class=\"plain     \" ><span class=\"plain txto \"></span><span class=\"plain     \" ><span class=\"txto\">[ma-</span></span><span class=\"plain     \" ><span class=\"txto\">lum] </span></span></span></span><span class=\"plain     \" ><span class=\"plain txto \"></span><span class=\"plain     \" ><span class=\"plain txto \"></span><span class=\"plain     \" ><span class=\"txto\">_uru_ </span></span></span></span><span class=\"plain     \" ><span class=\"plain txto \"></span><span class=\"plain     \" ><span class=\"txto\">x </span></span></span><span class=\"plain     \" ><span class=\"plain txto \"></span><span class=\"plain     \" ><span class=\"txto\">x </span></span></span><span class=\"plain     \" ><span class=\"plain txto \"></span><span class=\"plain     \" ><span class=\"txto\">x</span></span><span class=\"plain     \" ><span class=\"plain txto \"></span><span class=\"plain     hlbx\" ><span class=\"txto\">{ki}</span></span></span></span></span></td><td class=\"tf\"><span class=\"plain outer   hlbx\" ><span class=\"txto\">{ki}</span></span></td></tr>\n",
       "<tr class=\"tf\"><td class=\"tf\">4</td><td class=\"tf\"><span class=\"section ltr\"><a target=\"_blank\" href=\"https://cdli.ucla.edu/search/search_results.php?SearchMode=Text&amp;ObjectID=P389958\" title=\"Show this document on CDLI\" sec=\"P389958 obverse:7'\">P389958 obverse:7'</a></span></td><td class=\"tf\"><span class=\"plain outer   \" ><span class=\"plain txto \"></span><span class=\"plain     \" ><span class=\"plain txto \"></span><span class=\"plain     \" ><span class=\"txto\">_5(disz) </span></span><span class=\"plain     \" ><span class=\"txto\">ma-</span></span><span class=\"plain     \" ><span class=\"txto\">na </span></span><span class=\"plain     \" ><span class=\"plain txto \"></span><span class=\"plain     hlbx\" ><span class=\"txto\">{gesz}</span></span></span><span class=\"plain     \" ><span class=\"txto\">zu2 </span></span><span class=\"plain     \" ><span class=\"txto\">geszimmar_</span></span></span></span></td><td class=\"tf\"><span class=\"plain outer   hlbx\" ><span class=\"txto\">{gesz}</span></span></td></tr>\n",
       "<tr class=\"tf\"><td class=\"tf\">5</td><td class=\"tf\"><span class=\"section ltr\"><a target=\"_blank\" href=\"https://cdli.ucla.edu/search/search_results.php?SearchMode=Text&amp;ObjectID=P510537\" title=\"Show this document on CDLI\" sec=\"P510537 obverse:5\">P510537 obverse:5</a></span></td><td class=\"tf\"><span class=\"plain outer   \" ><span class=\"plain txto \"></span><span class=\"plain     \" ><span class=\"plain txto \"></span><span class=\"plain     \" ><span class=\"txto\">[x </span></span><span class=\"plain     \" ><span class=\"txto\">x </span></span><span class=\"plain     \" ><span class=\"plain txto \"></span><span class=\"plain     \" ><span class=\"txto\">(x)] </span></span></span></span><span class=\"plain     \" ><span class=\"plain txto \"></span><span class=\"plain     \" ><span class=\"txto\">SU</span></span><span class=\"plain     \" ><span class=\"plain txto \"></span><span class=\"plain     hlbx\" ><span class=\"txto\">{sar} </span></span></span></span><span class=\"plain     \" ><span class=\"plain txto \"></span><span class=\"plain     \" ><span class=\"txto\">sza </span></span></span><span class=\"plain     \" ><span class=\"plain txto \"></span><span class=\"plain     \" ><span class=\"txto\">qa2-</span></span><span class=\"plain     \" ><span class=\"txto\">ti </span></span></span><span class=\"plain     \" ><span class=\"plain txto \"></span><span class=\"plain     \" ><span class=\"plain txto \"></span><span class=\"plain     \" ><span class=\"txto\">{disz}</span></span></span><span class=\"plain     \" ><span class=\"txto\">mi#-</span></span><span class=\"plain    rno \" ><span class=\"plain txto \"></span><span class=\"plain     \" ><span class=\"txto\">[x </span></span></span></span><span class=\"plain     \" ><span class=\"plain txto \"></span><span class=\"plain     \" ><span class=\"txto\">x </span></span><span class=\"plain     \" ><span class=\"txto\">x </span></span><span class=\"plain     \" ><span class=\"plain txto \"></span><span class=\"plain     \" ><span class=\"txto\">(x) </span></span></span><span class=\"plain     \" ><span class=\"plain txto \"></span><span class=\"plain     \" ><span class=\"txto\">(x)]</span></span></span></span></span></td><td class=\"tf\"><span class=\"plain outer   hlbx\" ><span class=\"txto\">{sar} </span></span></td></tr>\n",
       "<tr class=\"tf\"><td class=\"tf\">6</td><td class=\"tf\"><span class=\"section ltr\"><a target=\"_blank\" href=\"https://cdli.ucla.edu/search/search_results.php?SearchMode=Text&amp;ObjectID=P510559\" title=\"Show this document on CDLI\" sec=\"P510559 obverse:7\">P510559 obverse:7</a></span></td><td class=\"tf\"><span class=\"plain outer   \" ><span class=\"plain txto \"></span><span class=\"plain     \" ><span class=\"plain txto \"></span><span class=\"plain     \" ><span class=\"plain txto \"></span><span class=\"plain     hlbx\" ><span class=\"txto\">{mi2}</span></span></span><span class=\"plain     \" ><span class=\"txto\">be-</span></span><span class=\"plain     \" ><span class=\"txto\">le-</span></span><span class=\"plain     \" ><span class=\"txto\">su#-</span></span><span class=\"plain     \" ><span class=\"txto\">nu# </span></span></span><span class=\"plain     \" ><span class=\"plain txto \"></span><span class=\"plain     \" ><span class=\"txto\">a-</span></span><span class=\"plain     \" ><span class=\"txto\">ha#-</span></span><span class=\"plain     \" ><span class=\"txto\">ti#</span></span></span></span></td><td class=\"tf\"><span class=\"plain outer   hlbx\" ><span class=\"txto\">{mi2}</span></span></td></tr>\n",
       "<tr class=\"tf\"><td class=\"tf\">7</td><td class=\"tf\"><span class=\"section ltr\"><a target=\"_blank\" href=\"https://cdli.ucla.edu/search/search_results.php?SearchMode=Text&amp;ObjectID=P510569\" title=\"Show this document on CDLI\" sec=\"P510569 obverse:15\">P510569 obverse:15</a></span></td><td class=\"tf\"><span class=\"plain outer   \" ><span class=\"plain txto \"></span><span class=\"plain     \" ><span class=\"plain txto \"></span><span class=\"plain     \" ><span class=\"txto\">asz-</span></span><span class=\"plain     \" ><span class=\"txto\">szum# </span></span></span><span class=\"plain     \" ><span class=\"plain txto \"></span><span class=\"plain     \" ><span class=\"plain txto \"></span><span class=\"plain     hlbx\" ><span class=\"txto\">{gi}</span></span></span><span class=\"plain     \" ><span class=\"txto\">ku-</span></span><span class=\"plain     \" ><span class=\"txto\">ru-</span></span><span class=\"plain     \" ><span class=\"txto\">pe2-</span></span><span class=\"plain     \" ><span class=\"txto\">e </span></span></span><span class=\"plain     \" ><span class=\"plain txto \"></span><span class=\"plain     \" ><span class=\"txto\">asz-</span></span><span class=\"plain     \" ><span class=\"txto\">szum </span></span></span><span class=\"plain     \" ><span class=\"plain txto \"></span><span class=\"plain     \" ><span class=\"txto\">ha </span></span></span><span class=\"plain     \" ><span class=\"plain txto \"></span><span class=\"plain     \" ><span class=\"txto\">nu </span></span></span><span class=\"plain     \" ><span class=\"plain txto \"></span><span class=\"plain     \" ><span class=\"txto\">x</span></span></span></span></td><td class=\"tf\"><span class=\"plain outer   hlbx\" ><span class=\"txto\">{gi}</span></span></td></tr>\n",
       "<tr class=\"tf\"><td class=\"tf\">8</td><td class=\"tf\"><span class=\"section ltr\"><a target=\"_blank\" href=\"https://cdli.ucla.edu/search/search_results.php?SearchMode=Text&amp;ObjectID=P510589\" title=\"Show this document on CDLI\" sec=\"P510589 obverse:3\">P510589 obverse:3</a></span></td><td class=\"tf\"><span class=\"plain outer   \" ><span class=\"plain txto \"></span><span class=\"plain     \" ><span class=\"plain txto \"></span><span class=\"plain     \" ><span class=\"txto\">um-</span></span><span class=\"plain     \" ><span class=\"txto\">ma </span></span></span><span class=\"plain     \" ><span class=\"plain txto \"></span><span class=\"plain     \" ><span class=\"txto\">a-</span></span><span class=\"plain     \" ><span class=\"txto\">na-</span></span><span class=\"plain     \" ><span class=\"txto\">ku-</span></span><span class=\"plain     \" ><span class=\"txto\">ma </span></span></span><span class=\"plain     \" ><span class=\"plain txto \"></span><span class=\"plain     \" ><span class=\"plain txto \"></span><span class=\"plain     \" ><span class=\"plain txto \"></span><span class=\"plain     hlbx\" ><span class=\"txto\">_{lu2}</span></span></span><span class=\"plain     \" ><span class=\"txto\">na-</span></span><span class=\"plain     \" ><span class=\"txto\">asz#-</span></span><span class=\"plain     \" ><span class=\"plain txto \"></span><span class=\"plain     \" ><span class=\"txto\">[bar_]</span></span></span></span></span></span></td><td class=\"tf\"><span class=\"plain outer   hlbx\" ><span class=\"txto\">_{lu2}</span></span></td></tr>\n",
       "<tr class=\"tf\"><td class=\"tf\">9</td><td class=\"tf\"><span class=\"section ltr\"><a target=\"_blank\" href=\"https://cdli.ucla.edu/search/search_results.php?SearchMode=Text&amp;ObjectID=P510618\" title=\"Show this document on CDLI\" sec=\"P510618 reverse:13\">P510618 reverse:13</a></span></td><td class=\"tf\"><span class=\"plain outer   \" ><span class=\"plain txto \"></span><span class=\"plain     \" ><span class=\"plain txto \"></span><span class=\"plain     \" ><span class=\"plain txto \"></span><span class=\"plain     \" ><span class=\"plain txto \"></span><span class=\"plain     hlbx\" ><span class=\"txto\">_{tug2}</span></span></span><span class=\"plain     \" ><span class=\"txto\">bar-</span></span><span class=\"plain     \" ><span class=\"txto\">si-</span></span><span class=\"plain     \" ><span class=\"txto\">ig_ </span></span></span></span><span class=\"plain     \" ><span class=\"plain txto \"></span><span class=\"plain     \" ><span class=\"txto\">ta </span></span></span><span class=\"plain     \" ><span class=\"plain txto \"></span><span class=\"plain     \" ><span class=\"txto\">AH? </span></span></span><span class=\"plain     \" ><span class=\"plain txto \"></span><span class=\"plain     \" ><span class=\"txto\">ti </span></span></span><span class=\"plain     \" ><span class=\"plain txto \"></span><span class=\"plain     \" ><span class=\"txto\">i </span></span></span><span class=\"plain     \" ><span class=\"plain txto \"></span><span class=\"plain     \" ><span class=\"txto\">ma</span></span></span></span></td><td class=\"tf\"><span class=\"plain outer   hlbx\" ><span class=\"txto\">_{tug2}</span></span></td></tr>\n",
       "<tr class=\"tf\"><td class=\"tf\">10</td><td class=\"tf\"><span class=\"section ltr\"><a target=\"_blank\" href=\"https://cdli.ucla.edu/search/search_results.php?SearchMode=Text&amp;ObjectID=P510700\" title=\"Show this document on CDLI\" sec=\"P510700 obverse:5\">P510700 obverse:5</a></span></td><td class=\"tf\"><span class=\"plain outer   \" ><span class=\"plain txto \"></span><span class=\"plain     \" ><span class=\"plain txto \"></span><span class=\"plain     \" ><span class=\"txto\">i-</span></span><span class=\"plain     \" ><span class=\"txto\">na </span></span></span><span class=\"plain     \" ><span class=\"plain txto \"></span><span class=\"plain     \" ><span class=\"plain txto \"></span><span class=\"plain     hlbx\" ><span class=\"txto\">{iri}</span></span></span><span class=\"plain     \" ><span class=\"txto\">dag-</span></span><span class=\"plain     \" ><span class=\"txto\">la-</span></span><span class=\"plain     \" ><span class=\"txto\">a </span></span></span><span class=\"plain     \" ><span class=\"plain txto \"></span><span class=\"plain     \" ><span class=\"txto\">_gu4 </span></span><span class=\"plain     \" ><span class=\"txto\">hi-</span></span><span class=\"plain     \" ><span class=\"txto\">a_-</span></span></span><span class=\"plain     \" ><span class=\"plain txto \"></span><span class=\"plain     \" ><span class=\"txto\">ni </span></span></span><span class=\"plain     \" ><span class=\"plain txto \"></span><span class=\"plain     \" ><span class=\"txto\">ka-</span></span><span class=\"plain     \" ><span class=\"txto\">su2-</span></span><span class=\"plain     \" ><span class=\"txto\">ma</span></span></span></span></td><td class=\"tf\"><span class=\"plain outer   hlbx\" ><span class=\"txto\">{iri}</span></span></td></tr>\n",
       "<tr class=\"tf\"><td class=\"tf\">11</td><td class=\"tf\"><span class=\"section ltr\"><a target=\"_blank\" href=\"https://cdli.ucla.edu/search/search_results.php?SearchMode=Text&amp;ObjectID=P510578\" title=\"Show this document on CDLI\" sec=\"P510578 obverse:8\">P510578 obverse:8</a></span></td><td class=\"tf\"><span class=\"plain outer   \" ><span class=\"plain txto \"></span><span class=\"plain     \" ><span class=\"plain txto \"></span><span class=\"plain     \" ><span class=\"txto\">at-</span></span><span class=\"plain     \" ><span class=\"txto\">ta-</span></span><span class=\"plain     \" ><span class=\"txto\">s,i2 </span></span></span><span class=\"plain     \" ><span class=\"plain txto \"></span><span class=\"plain     \" ><span class=\"plain txto \"></span><span class=\"plain     \" ><span class=\"plain txto \"></span><span class=\"plain     \" ><span class=\"txto\">_{gesz}</span></span></span><span class=\"plain     \" ><span class=\"txto\">ma2_ </span></span></span></span><span class=\"plain     \" ><span class=\"plain txto \"></span><span class=\"plain     \" ><span class=\"txto\">sza </span></span></span><span class=\"plain     \" ><span class=\"plain txto \"></span><span class=\"plain     \" ><span class=\"plain txto \"></span><span class=\"plain     \" ><span class=\"plain txto \"></span><span class=\"plain     hlbx\" ><span class=\"txto\">_{na4}</span></span></span><span class=\"plain     \" ><span class=\"txto\">ur5_</span></span></span></span></span></td><td class=\"tf\"><span class=\"plain outer   hlbx\" ><span class=\"txto\">_{na4}</span></span></td></tr>\n",
       "<tr class=\"tf\"><td class=\"tf\">12</td><td class=\"tf\"><span class=\"section ltr\"><a target=\"_blank\" href=\"https://cdli.ucla.edu/search/search_results.php?SearchMode=Text&amp;ObjectID=P510765\" title=\"Show this document on CDLI\" sec=\"P510765 obverse:9\">P510765 obverse:9</a></span></td><td class=\"tf\"><span class=\"plain outer   \" ><span class=\"plain txto \"></span><span class=\"plain     \" ><span class=\"plain txto \"></span><span class=\"plain     \" ><span class=\"txto\">a-</span></span><span class=\"plain     \" ><span class=\"txto\">na </span></span></span><span class=\"plain     \" ><span class=\"plain txto \"></span><span class=\"plain     \" ><span class=\"plain txto \"></span><span class=\"plain     \" ><span class=\"plain txto \"></span><span class=\"plain     hlbx\" ><span class=\"txto\">_{kusz}</span></span></span><span class=\"plain     \" ><span class=\"txto\">usan3_ </span></span></span></span><span class=\"plain     \" ><span class=\"plain txto \"></span><span class=\"plain     \" ><span class=\"txto\">is,-</span></span><span class=\"plain     \" ><span class=\"txto\">ba-</span></span><span class=\"plain     \" ><span class=\"txto\">at-</span></span><span class=\"plain     \" ><span class=\"txto\">ma </span></span></span><span class=\"plain     \" ><span class=\"plain txto \"></span><span class=\"plain     \" ><span class=\"txto\">ip-</span></span><span class=\"plain     \" ><span class=\"txto\">ta-</span></span><span class=\"plain     \" ><span class=\"txto\">a-</span></span><span class=\"plain     \" ><span class=\"txto\">ad</span></span></span></span></td><td class=\"tf\"><span class=\"plain outer   hlbx\" ><span class=\"txto\">_{kusz}</span></span></td></tr>\n",
       "<tr class=\"tf\"><td class=\"tf\">13</td><td class=\"tf\"><span class=\"section ltr\"><a target=\"_blank\" href=\"https://cdli.ucla.edu/search/search_results.php?SearchMode=Text&amp;ObjectID=P510829\" title=\"Show this document on CDLI\" sec=\"P510829 left:1\">P510829 left:1</a></span></td><td class=\"tf\"><span class=\"plain outer   \" ><span class=\"plain txto \"></span><span class=\"plain     \" ><span class=\"plain txto \"></span><span class=\"plain     \" ><span class=\"plain txto \"></span><span class=\"plain     \" ><span class=\"txto\">_sze_-</span></span></span><span class=\"plain     \" ><span class=\"txto\">a-</span></span><span class=\"plain     \" ><span class=\"txto\">am </span></span></span><span class=\"plain     \" ><span class=\"plain txto \"></span><span class=\"plain     \" ><span class=\"txto\">_szuku </span></span><span class=\"plain     \" ><span class=\"txto\">erin2_ </span></span></span><span class=\"plain     \" ><span class=\"plain txto \"></span><span class=\"plain     \" ><span class=\"txto\">u3 </span></span></span><span class=\"plain     \" ><span class=\"plain txto \"></span><span class=\"plain     \" ><span class=\"txto\">2(disz) </span></span></span><span class=\"plain     \" ><span class=\"plain txto \"></span><span class=\"plain     \" ><span class=\"plain txto \"></span><span class=\"plain     \" ><span class=\"plain txto \"></span><span class=\"plain     hlbx\" ><span class=\"txto\">_{uruda}</span></span></span><span class=\"plain     \" ><span class=\"txto\">mar_</span></span></span></span></span></td><td class=\"tf\"><span class=\"plain outer   hlbx\" ><span class=\"txto\">_{uruda}</span></span></td></tr>\n",
       "<tr class=\"tf\"><td class=\"tf\">14</td><td class=\"tf\"><span class=\"section ltr\"><a target=\"_blank\" href=\"https://cdli.ucla.edu/search/search_results.php?SearchMode=Text&amp;ObjectID=P313347\" title=\"Show this document on CDLI\" sec=\"P313347 obverse:13\">P313347 obverse:13</a></span></td><td class=\"tf\"><span class=\"plain outer   \" ><span class=\"plain txto \"></span><span class=\"plain     \" ><span class=\"plain txto \"></span><span class=\"plain     \" ><span class=\"plain txto \"></span><span class=\"plain     \" ><span class=\"txto\">_{gesz}</span></span></span><span class=\"plain     \" ><span class=\"txto\">mar-</span></span><span class=\"plain     \" ><span class=\"txto\">hi-</span></span><span class=\"plain     \" ><span class=\"txto\">a </span></span><span class=\"plain     \" ><span class=\"plain txto \"></span><span class=\"plain     hlbx\" ><span class=\"txto\">{urudu}</span></span></span><span class=\"plain     \" ><span class=\"txto\">ha-</span></span><span class=\"plain     \" ><span class=\"txto\">zi-</span></span><span class=\"plain     \" ><span class=\"txto\">in-</span></span><span class=\"plain     \" ><span class=\"txto\">hi-</span></span><span class=\"plain     \" ><span class=\"txto\">a_</span></span></span></span></td><td class=\"tf\"><span class=\"plain outer   hlbx\" ><span class=\"txto\">{urudu}</span></span></td></tr>\n",
       "<tr class=\"tf\"><td class=\"tf\">15</td><td class=\"tf\"><span class=\"section ltr\"><a target=\"_blank\" href=\"https://cdli.ucla.edu/search/search_results.php?SearchMode=Text&amp;ObjectID=P510661\" title=\"Show this document on CDLI\" sec=\"P510661 reverse:9\">P510661 reverse:9</a></span></td><td class=\"tf\"><span class=\"plain outer   \" ><span class=\"plain txto \"></span><span class=\"plain     \" ><span class=\"plain txto \"></span><span class=\"plain     \" ><span class=\"txto\">_u4 </span></span><span class=\"plain     \" ><span class=\"plain txto \"></span><span class=\"plain     \" ><span class=\"txto\">&lt;&lt;kam </span></span><span class=\"plain     \" ><span class=\"txto\">iti>> </span></span></span><span class=\"plain     \" ><span class=\"txto\">1(u) </span></span><span class=\"plain     \" ><span class=\"txto\">6(disz)-</span></span><span class=\"plain     \" ><span class=\"txto\">kam_ </span></span></span><span class=\"plain     \" ><span class=\"plain txto \"></span><span class=\"plain     \" ><span class=\"txto\">sza </span></span></span><span class=\"plain     \" ><span class=\"plain txto \"></span><span class=\"plain     \" ><span class=\"txto\">_iti </span></span><span class=\"plain     \" ><span class=\"txto\">udru</span></span><span class=\"plain     \" ><span class=\"plain txto \"></span><span class=\"plain     hlbx\" ><span class=\"txto\">{duru5}_</span></span></span></span></span></td><td class=\"tf\"><span class=\"plain outer   hlbx\" ><span class=\"txto\">{duru5}_</span></span></td></tr>\n",
       "<tr class=\"tf\"><td class=\"tf\">16</td><td class=\"tf\"><span class=\"section ltr\"><a target=\"_blank\" href=\"https://cdli.ucla.edu/search/search_results.php?SearchMode=Text&amp;ObjectID=P372906\" title=\"Show this document on CDLI\" sec=\"P372906 obverse:4\">P372906 obverse:4</a></span></td><td class=\"tf\"><span class=\"plain outer   \" ><span class=\"plain txto \"></span><span class=\"plain     \" ><span class=\"plain txto \"></span><span class=\"plain     \" ><span class=\"txto\">_ba-</span></span><span class=\"plain     \" ><span class=\"txto\">al-</span></span><span class=\"plain     \" ><span class=\"txto\">gi</span></span><span class=\"plain     \" ><span class=\"plain txto \"></span><span class=\"plain     hlbx\" ><span class=\"txto\">{ku6} </span></span></span><span class=\"plain     \" ><span class=\"txto\">hi-</span></span><span class=\"plain     \" ><span class=\"txto\">a </span></span><span class=\"plain     \" ><span class=\"txto\">u3 </span></span><span class=\"plain     \" ><span class=\"txto\">nig2-</span></span><span class=\"plain     \" ><span class=\"txto\">bun2-</span></span><span class=\"plain     \" ><span class=\"txto\">na</span></span><span class=\"plain     \" ><span class=\"plain txto \"></span><span class=\"plain     \" ><span class=\"txto\">{ku6} </span></span></span><span class=\"plain     \" ><span class=\"txto\">hi#-</span></span><span class=\"plain     \" ><span class=\"plain txto \"></span><span class=\"plain     \" ><span class=\"txto\">[a]_</span></span></span></span></span></td><td class=\"tf\"><span class=\"plain outer   hlbx\" ><span class=\"txto\">{ku6} </span></span></td></tr>\n",
       "<tr class=\"tf\"><td class=\"tf\">17</td><td class=\"tf\"><span class=\"section ltr\"><a target=\"_blank\" href=\"https://cdli.ucla.edu/search/search_results.php?SearchMode=Text&amp;ObjectID=P510549\" title=\"Show this document on CDLI\" sec=\"P510549 obverse:8\">P510549 obverse:8</a></span></td><td class=\"tf\"><span class=\"plain outer   \" ><span class=\"plain txto \"></span><span class=\"plain     \" ><span class=\"plain txto \"></span><span class=\"plain     \" ><span class=\"txto\">x </span></span></span><span class=\"plain     \" ><span class=\"plain txto \"></span><span class=\"plain     \" ><span class=\"txto\">x </span></span></span><span class=\"plain     \" ><span class=\"plain txto \"></span><span class=\"plain     \" ><span class=\"txto\">_tu</span></span><span class=\"plain     \" ><span class=\"plain txto \"></span><span class=\"plain     hlbx\" ><span class=\"txto\">{muszen} </span></span></span><span class=\"plain     \" ><span class=\"txto\">hi-</span></span><span class=\"plain     \" ><span class=\"txto\">a_ </span></span></span><span class=\"plain     \" ><span class=\"plain txto \"></span><span class=\"plain     \" ><span class=\"txto\">u3 </span></span></span><span class=\"plain     \" ><span class=\"plain txto \"></span><span class=\"plain     \" ><span class=\"plain txto \"></span><span class=\"plain     \" ><span class=\"txto\">_zi3-</span></span><span class=\"plain     \" ><span class=\"txto\">da_</span></span></span></span></span></td><td class=\"tf\"><span class=\"plain outer   hlbx\" ><span class=\"txto\">{muszen} </span></span></td></tr>\n",
       "<tr class=\"tf\"><td class=\"tf\">18</td><td class=\"tf\"><span class=\"section ltr\"><a target=\"_blank\" href=\"https://cdli.ucla.edu/search/search_results.php?SearchMode=Text&amp;ObjectID=P491915\" title=\"Show this document on CDLI\" sec=\"P491915 obverse:7\">P491915 obverse:7</a></span></td><td class=\"tf\"><span class=\"plain outer   \" ><span class=\"plain txto \"></span><span class=\"plain     \" ><span class=\"plain txto \"></span><span class=\"plain     \" ><span class=\"txto\">_2(gesz'u) </span></span><span class=\"plain     \" ><span class=\"plain txto \"></span><span class=\"plain     hlbx\" ><span class=\"txto\">{u2}</span></span></span><span class=\"plain     \" ><span class=\"txto\">x_</span></span></span></span></td><td class=\"tf\"><span class=\"plain outer   hlbx\" ><span class=\"txto\">{u2}</span></span></td></tr>\n",
       "<tr class=\"tf\"><td class=\"tf\">19</td><td class=\"tf\"><span class=\"section ltr\"><a target=\"_blank\" href=\"https://cdli.ucla.edu/search/search_results.php?SearchMode=Text&amp;ObjectID=P510724\" title=\"Show this document on CDLI\" sec=\"P510724 obverse:1\">P510724 obverse:1</a></span></td><td class=\"tf\"><span class=\"plain outer   \" ><span class=\"plain txto \"></span><span class=\"plain     \" ><span class=\"plain txto \"></span><span class=\"plain     \" ><span class=\"txto\">a-</span></span><span class=\"plain     \" ><span class=\"txto\">na </span></span></span><span class=\"plain     \" ><span class=\"plain txto \"></span><span class=\"plain     \" ><span class=\"plain txto \"></span><span class=\"plain     \" ><span class=\"txto\">{d}</span></span></span><span class=\"plain     \" ><span class=\"txto\">pa4-</span></span><span class=\"plain     \" ><span class=\"txto\">nigar</span></span><span class=\"plain     \" ><span class=\"plain txto \"></span><span class=\"plain     hlbx\" ><span class=\"txto\">{gar}-</span></span></span><span class=\"plain     \" ><span class=\"txto\">ra-</span></span><span class=\"plain     \" ><span class=\"txto\">lugal# </span></span></span><span class=\"plain     \" ><span class=\"plain txto \"></span><span class=\"plain     \" ><span class=\"txto\">[x </span></span><span class=\"plain     \" ><span class=\"txto\">x </span></span><span class=\"plain     \" ><span class=\"txto\">x </span></span><span class=\"plain     \" ><span class=\"txto\">x </span></span><span class=\"plain     \" ><span class=\"plain txto \"></span><span class=\"plain     \" ><span class=\"txto\">(x) </span></span></span><span class=\"plain     \" ><span class=\"plain txto \"></span><span class=\"plain     \" ><span class=\"txto\">(x)]</span></span></span></span></span></td><td class=\"tf\"><span class=\"plain outer   hlbx\" ><span class=\"txto\">{gar}-</span></span></td></tr>\n",
       "<tr class=\"tf\"><td class=\"tf\">20</td><td class=\"tf\"><span class=\"section ltr\"><a target=\"_blank\" href=\"https://cdli.ucla.edu/search/search_results.php?SearchMode=Text&amp;ObjectID=P306561\" title=\"Show this document on CDLI\" sec=\"P306561 obverse:12\">P306561 obverse:12</a></span></td><td class=\"tf\"><span class=\"plain outer   \" ><span class=\"plain txto \"></span><span class=\"plain     \" ><span class=\"plain txto \"></span><span class=\"plain     \" ><span class=\"txto\">kar3-</span></span><span class=\"plain     \" ><span class=\"txto\">szum</span></span><span class=\"plain     \" ><span class=\"plain txto \"></span><span class=\"plain     \" ><span class=\"txto\">{sar} </span></span></span></span><span class=\"plain     \" ><span class=\"plain txto \"></span><span class=\"plain     \" ><span class=\"txto\">u3 </span></span></span><span class=\"plain     \" ><span class=\"plain txto \"></span><span class=\"plain     \" ><span class=\"plain txto \"></span><span class=\"plain     \" ><span class=\"txto\">_szim_ </span></span></span></span><span class=\"plain     \" ><span class=\"plain txto \"></span><span class=\"plain     \" ><span class=\"txto\">u3 </span></span></span><span class=\"plain     \" ><span class=\"plain txto \"></span><span class=\"plain     \" ><span class=\"plain txto \"></span><span class=\"plain     \" ><span class=\"plain txto \"></span><span class=\"plain     hlbx\" ><span class=\"txto\">_{szim}</span></span></span><span class=\"plain     \" ><span class=\"txto\">li_</span></span></span></span></span></td><td class=\"tf\"><span class=\"plain outer   hlbx\" ><span class=\"txto\">_{szim}</span></span></td></tr>\n",
       "<tr class=\"tf\"><td class=\"tf\">21</td><td class=\"tf\"><span class=\"section ltr\"><a target=\"_blank\" href=\"https://cdli.ucla.edu/search/search_results.php?SearchMode=Text&amp;ObjectID=P384863\" title=\"Show this document on CDLI\" sec=\"P384863 obverse:6\">P384863 obverse:6</a></span></td><td class=\"tf\"><span class=\"plain outer   \" ><span class=\"plain txto \"></span><span class=\"plain     \" ><span class=\"plain txto \"></span><span class=\"plain     \" ><span class=\"txto\">_3(bur3) </span></span><span class=\"plain     \" ><span class=\"txto\">asza5</span></span><span class=\"plain     \" ><span class=\"plain txto \"></span><span class=\"plain     hlbx\" ><span class=\"txto\">{a-</span></span><span class=\"plain     \" ><span class=\"txto\">sza3}_ </span></span></span></span><span class=\"plain     \" ><span class=\"plain txto \"></span><span class=\"plain     \" ><span class=\"txto\">sza </span></span></span><span class=\"plain     \" ><span class=\"plain txto \"></span><span class=\"plain     \" ><span class=\"txto\">i-</span></span><span class=\"plain     \" ><span class=\"txto\">na </span></span></span><span class=\"plain     \" ><span class=\"plain txto \"></span><span class=\"plain     \" ><span class=\"txto\">ka-</span></span><span class=\"plain     \" ><span class=\"txto\">ni-</span></span><span class=\"plain     \" ><span class=\"txto\">ik </span></span></span><span class=\"plain     \" ><span class=\"plain txto \"></span><span class=\"plain     \" ><span class=\"txto\">be-</span></span><span class=\"plain     \" ><span class=\"txto\">li2-</span></span><span class=\"plain     \" ><span class=\"txto\">ia</span></span></span></span></td><td class=\"tf\"><span class=\"plain outer   hlbx\" ><span class=\"txto\">{a-</span></span></td></tr>\n",
       "<tr class=\"tf\"><td class=\"tf\">22</td><td class=\"tf\"><span class=\"section ltr\"><a target=\"_blank\" href=\"https://cdli.ucla.edu/search/search_results.php?SearchMode=Text&amp;ObjectID=P510622\" title=\"Show this document on CDLI\" sec=\"P510622 obverse:9\">P510622 obverse:9</a></span></td><td class=\"tf\"><span class=\"plain outer   \" ><span class=\"plain txto \"></span><span class=\"plain     \" ><span class=\"plain txto \"></span><span class=\"plain     \" ><span class=\"txto\">id-</span></span><span class=\"plain     \" ><span class=\"txto\">nam</span></span><span class=\"plain     \" ><span class=\"plain txto \"></span><span class=\"plain     hlbx\" ><span class=\"txto\">{am}</span></span></span></span></span></td><td class=\"tf\"><span class=\"plain outer   hlbx\" ><span class=\"txto\">{am}</span></span></td></tr>\n",
       "<tr class=\"tf\"><td class=\"tf\">23</td><td class=\"tf\"><span class=\"section ltr\"><a target=\"_blank\" href=\"https://cdli.ucla.edu/search/search_results.php?SearchMode=Text&amp;ObjectID=P481778\" title=\"Show this document on CDLI\" sec=\"P481778 reverse:4\">P481778 reverse:4</a></span></td><td class=\"tf\"><span class=\"plain outer   \" ><span class=\"plain txto \"></span><span class=\"plain     \" ><span class=\"plain txto \"></span><span class=\"plain     \" ><span class=\"plain txto \"></span><span class=\"plain     \" ><span class=\"txto\">{disz}</span></span></span><span class=\"plain     \" ><span class=\"txto\">kalag</span></span><span class=\"plain     \" ><span class=\"plain txto \"></span><span class=\"plain     hlbx\" ><span class=\"txto\">{an}-</span></span></span><span class=\"plain     \" ><span class=\"txto\">dingir-</span></span><span class=\"plain     \" ><span class=\"txto\">szu </span></span></span><span class=\"plain     \" ><span class=\"plain txto \"></span><span class=\"plain     \" ><span class=\"txto\">ha-</span></span><span class=\"plain     \" ><span class=\"txto\">li-</span></span><span class=\"plain     \" ><span class=\"txto\">iq</span></span></span></span></td><td class=\"tf\"><span class=\"plain outer   hlbx\" ><span class=\"txto\">{an}-</span></span></td></tr>\n",
       "<tr class=\"tf\"><td class=\"tf\">24</td><td class=\"tf\"><span class=\"section ltr\"><a target=\"_blank\" href=\"https://cdli.ucla.edu/search/search_results.php?SearchMode=Text&amp;ObjectID=P510610\" title=\"Show this document on CDLI\" sec=\"P510610 reverse:14\">P510610 reverse:14</a></span></td><td class=\"tf\"><span class=\"plain outer   \" ><span class=\"plain txto \"></span><span class=\"plain     \" ><span class=\"plain txto \"></span><span class=\"plain     \" ><span class=\"txto\">tap</span></span><span class=\"plain     \" ><span class=\"plain txto \"></span><span class=\"plain     hlbx\" ><span class=\"txto\">{ap}-</span></span></span><span class=\"plain     \" ><span class=\"txto\">pu-</span></span><span class=\"plain     \" ><span class=\"txto\">ut-</span></span><span class=\"plain     \" ><span class=\"txto\">ka </span></span></span><span class=\"plain     \" ><span class=\"plain txto \"></span><span class=\"plain     \" ><span class=\"txto\">a-</span></span><span class=\"plain     \" ><span class=\"txto\">na </span></span></span><span class=\"plain     \" ><span class=\"plain txto \"></span><span class=\"plain     \" ><span class=\"txto\">mi-</span></span><span class=\"plain     \" ><span class=\"txto\">nim# </span></span></span><span class=\"plain     \" ><span class=\"plain txto \"></span><span class=\"plain     \" ><span class=\"plain txto \"></span><span class=\"plain     \" ><span class=\"txto\">[...]</span></span></span></span></span></td><td class=\"tf\"><span class=\"plain outer   hlbx\" ><span class=\"txto\">{ap}-</span></span></td></tr>\n",
       "<tr class=\"tf\"><td class=\"tf\">25</td><td class=\"tf\"><span class=\"section ltr\"><a target=\"_blank\" href=\"https://cdli.ucla.edu/search/search_results.php?SearchMode=Text&amp;ObjectID=P510676\" title=\"Show this document on CDLI\" sec=\"P510676 reverse:5\">P510676 reverse:5</a></span></td><td class=\"tf\"><span class=\"plain outer   \" ><span class=\"plain txto \"></span><span class=\"plain     \" ><span class=\"plain txto \"></span><span class=\"plain     \" ><span class=\"txto\">_igi-</span></span><span class=\"plain     \" ><span class=\"txto\">6(disz)-</span></span><span class=\"plain     \" ><span class=\"txto\">gal2 </span></span><span class=\"plain     \" ><span class=\"txto\">ku3-</span></span><span class=\"plain     \" ><span class=\"txto\">babbar_ </span></span></span><span class=\"plain     \" ><span class=\"plain txto \"></span><span class=\"plain     \" ><span class=\"txto\">sza </span></span></span><span class=\"plain     \" ><span class=\"plain txto \"></span><span class=\"plain     \" ><span class=\"plain txto \"></span><span class=\"plain     hlbx\" ><span class=\"txto\">{dug}</span></span></span><span class=\"plain     \" ><span class=\"txto\">la-</span></span><span class=\"plain     \" ><span class=\"txto\">ah-</span></span><span class=\"plain     \" ><span class=\"txto\">ta-</span></span><span class=\"plain     \" ><span class=\"txto\">nim</span></span></span></span></td><td class=\"tf\"><span class=\"plain outer   hlbx\" ><span class=\"txto\">{dug}</span></span></td></tr>\n",
       "<tr class=\"tf\"><td class=\"tf\">26</td><td class=\"tf\"><span class=\"section ltr\"><a target=\"_blank\" href=\"https://cdli.ucla.edu/search/search_results.php?SearchMode=Text&amp;ObjectID=P313345\" title=\"Show this document on CDLI\" sec=\"P313345 obverse:2\">P313345 obverse:2</a></span></td><td class=\"tf\"><span class=\"plain outer   \" ><span class=\"plain txto \"></span><span class=\"plain     \" ><span class=\"plain txto \"></span><span class=\"plain     \" ><span class=\"txto\">um-</span></span><span class=\"plain     \" ><span class=\"txto\">ma </span></span></span><span class=\"plain     \" ><span class=\"plain txto \"></span><span class=\"plain     \" ><span class=\"plain txto \"></span><span class=\"plain     \" ><span class=\"txto\">_dumu-</span></span><span class=\"plain     \" ><span class=\"plain txto \"></span><span class=\"plain     hlbx\" ><span class=\"txto\">{id2}</span></span></span><span class=\"plain     \" ><span class=\"txto\">UD.</span></span><span class=\"plain     \" ><span class=\"txto\">KIB.</span></span><span class=\"plain     \" ><span class=\"txto\">NUN</span></span><span class=\"plain     \" ><span class=\"plain txto \"></span><span class=\"plain     \" ><span class=\"txto\">{ki}_-</span></span></span></span><span class=\"plain     \" ><span class=\"txto\">ma</span></span></span></span></td><td class=\"tf\"><span class=\"plain outer   hlbx\" ><span class=\"txto\">{id2}</span></span></td></tr>\n",
       "<tr class=\"tf\"><td class=\"tf\">27</td><td class=\"tf\"><span class=\"section ltr\"><a target=\"_blank\" href=\"https://cdli.ucla.edu/search/search_results.php?SearchMode=Text&amp;ObjectID=P313320\" title=\"Show this document on CDLI\" sec=\"P313320 obverse:5\">P313320 obverse:5</a></span></td><td class=\"tf\"><span class=\"plain outer   \" ><span class=\"plain txto \"></span><span class=\"plain     \" ><span class=\"plain txto \"></span><span class=\"plain     \" ><span class=\"txto\">sza </span></span></span><span class=\"plain     \" ><span class=\"plain txto \"></span><span class=\"plain     \" ><span class=\"plain txto \"></span><span class=\"plain     \" ><span class=\"txto\">_sag-</span></span><span class=\"plain     \" ><span class=\"txto\">geme2_ </span></span></span></span><span class=\"plain     \" ><span class=\"plain txto \"></span><span class=\"plain     \" ><span class=\"txto\">a-</span></span><span class=\"plain     \" ><span class=\"txto\">na </span></span></span><span class=\"plain     \" ><span class=\"plain txto \"></span><span class=\"plain     \" ><span class=\"plain txto \"></span><span class=\"plain     hlbx\" ><span class=\"txto\">{p}</span></span></span><span class=\"plain     \" ><span class=\"txto\">be-</span></span><span class=\"plain     \" ><span class=\"txto\">el-</span></span><span class=\"plain     \" ><span class=\"plain txto \"></span><span class=\"plain     \" ><span class=\"txto\">[...]</span></span></span></span></span></td><td class=\"tf\"><span class=\"plain outer   hlbx\" ><span class=\"txto\">{p}</span></span></td></tr>\n",
       "<tr class=\"tf\"><td class=\"tf\">28</td><td class=\"tf\"><span class=\"section ltr\"><a target=\"_blank\" href=\"https://cdli.ucla.edu/search/search_results.php?SearchMode=Text&amp;ObjectID=P384863\" title=\"Show this document on CDLI\" sec=\"P384863 obverse:6\">P384863 obverse:6</a></span></td><td class=\"tf\"><span class=\"plain outer   \" ><span class=\"plain txto \"></span><span class=\"plain     \" ><span class=\"plain txto \"></span><span class=\"plain     \" ><span class=\"txto\">_3(bur3) </span></span><span class=\"plain     \" ><span class=\"txto\">asza5</span></span><span class=\"plain     \" ><span class=\"plain txto \"></span><span class=\"plain     \" ><span class=\"txto\">{a-</span></span><span class=\"plain     hlbx\" ><span class=\"txto\">sza3}_ </span></span></span></span><span class=\"plain     \" ><span class=\"plain txto \"></span><span class=\"plain     \" ><span class=\"txto\">sza </span></span></span><span class=\"plain     \" ><span class=\"plain txto \"></span><span class=\"plain     \" ><span class=\"txto\">i-</span></span><span class=\"plain     \" ><span class=\"txto\">na </span></span></span><span class=\"plain     \" ><span class=\"plain txto \"></span><span class=\"plain     \" ><span class=\"txto\">ka-</span></span><span class=\"plain     \" ><span class=\"txto\">ni-</span></span><span class=\"plain     \" ><span class=\"txto\">ik </span></span></span><span class=\"plain     \" ><span class=\"plain txto \"></span><span class=\"plain     \" ><span class=\"txto\">be-</span></span><span class=\"plain     \" ><span class=\"txto\">li2-</span></span><span class=\"plain     \" ><span class=\"txto\">ia</span></span></span></span></td><td class=\"tf\"><span class=\"plain outer   hlbx\" ><span class=\"txto\">sza3}_ </span></span></td></tr>\n",
       "<tr class=\"tf\"><td class=\"tf\">29</td><td class=\"tf\"><span class=\"section ltr\"><a target=\"_blank\" href=\"https://cdli.ucla.edu/search/search_results.php?SearchMode=Text&amp;ObjectID=P373033\" title=\"Show this document on CDLI\" sec=\"P373033 obverse:5\">P373033 obverse:5</a></span></td><td class=\"tf\"><span class=\"plain outer   \" ><span class=\"plain txto \"></span><span class=\"plain     \" ><span class=\"plain txto \"></span><span class=\"plain     \" ><span class=\"txto\">i-</span></span><span class=\"plain     \" ><span class=\"txto\">na </span></span></span><span class=\"plain     \" ><span class=\"plain txto \"></span><span class=\"plain     \" ><span class=\"plain txto \"></span><span class=\"plain     \" ><span class=\"txto\">_kar</span></span><span class=\"plain     \" ><span class=\"plain txto \"></span><span class=\"plain     hlbx\" ><span class=\"txto\">{ar}_ </span></span></span></span></span><span class=\"plain     \" ><span class=\"plain txto \"></span><span class=\"plain     \" ><span class=\"plain txto \"></span><span class=\"plain     \" ><span class=\"txto\">{d}</span></span></span><span class=\"plain     \" ><span class=\"txto\">e2-</span></span><span class=\"plain     \" ><span class=\"txto\">a</span></span></span></span></td><td class=\"tf\"><span class=\"plain outer   hlbx\" ><span class=\"txto\">{ar}_ </span></span></td></tr>\n",
       "<tr class=\"tf\"><td class=\"tf\">30</td><td class=\"tf\"><span class=\"section ltr\"><a target=\"_blank\" href=\"https://cdli.ucla.edu/search/search_results.php?SearchMode=Text&amp;ObjectID=P313377\" title=\"Show this document on CDLI\" sec=\"P313377 obverse:11\">P313377 obverse:11</a></span></td><td class=\"tf\"><span class=\"plain outer   \" ><span class=\"plain txto \"></span><span class=\"plain     \" ><span class=\"plain txto \"></span><span class=\"plain     \" ><span class=\"plain txto \"></span><span class=\"plain     hlbx\" ><span class=\"txto\">{asz}</span></span></span><span class=\"plain     \" ><span class=\"txto\">i-</span></span><span class=\"plain     \" ><span class=\"txto\">din-</span></span><span class=\"plain     \" ><span class=\"txto\">e2-</span></span><span class=\"plain     \" ><span class=\"txto\">a </span></span></span><span class=\"plain     \" ><span class=\"plain txto \"></span><span class=\"plain     \" ><span class=\"plain txto \"></span><span class=\"plain     \" ><span class=\"txto\">_ugula_</span></span></span></span></span></td><td class=\"tf\"><span class=\"plain outer   hlbx\" ><span class=\"txto\">{asz}</span></span></td></tr>\n",
       "<tr class=\"tf\"><td class=\"tf\">31</td><td class=\"tf\"><span class=\"section ltr\"><a target=\"_blank\" href=\"https://cdli.ucla.edu/search/search_results.php?SearchMode=Text&amp;ObjectID=P372977\" title=\"Show this document on CDLI\" sec=\"P372977 obverse:1\">P372977 obverse:1</a></span></td><td class=\"tf\"><span class=\"plain outer   \" ><span class=\"plain txto \"></span><span class=\"plain     \" ><span class=\"plain txto \"></span><span class=\"plain     \" ><span class=\"txto\">a-</span></span><span class=\"plain     \" ><span class=\"txto\">na </span></span></span><span class=\"plain     \" ><span class=\"plain txto \"></span><span class=\"plain     \" ><span class=\"txto\">dingir-</span></span><span class=\"plain     \" ><span class=\"txto\">szu-</span></span><span class=\"plain     \" ><span class=\"txto\">illat</span></span><span class=\"plain     \" ><span class=\"plain txto \"></span><span class=\"plain     hlbx\" ><span class=\"txto\">{at}-</span></span></span><span class=\"plain     \" ><span class=\"txto\">su2</span></span></span></span></td><td class=\"tf\"><span class=\"plain outer   hlbx\" ><span class=\"txto\">{at}-</span></span></td></tr>\n",
       "<tr class=\"tf\"><td class=\"tf\">32</td><td class=\"tf\"><span class=\"section ltr\"><a target=\"_blank\" href=\"https://cdli.ucla.edu/search/search_results.php?SearchMode=Text&amp;ObjectID=P313391\" title=\"Show this document on CDLI\" sec=\"P313391 obverse:2\">P313391 obverse:2</a></span></td><td class=\"tf\"><span class=\"plain outer   \" ><span class=\"plain txto \"></span><span class=\"plain     \" ><span class=\"plain txto \"></span><span class=\"plain     \" ><span class=\"txto\">u3 </span></span></span><span class=\"plain     \" ><span class=\"plain txto \"></span><span class=\"plain     \" ><span class=\"txto\">_ugula </span></span><span class=\"plain     \" ><span class=\"txto\">lu2-</span></span><span class=\"plain     \" ><span class=\"plain txto \"></span><span class=\"plain     hlbx\" ><span class=\"txto\">{gisz}</span></span></span><span class=\"plain     \" ><span class=\"txto\">ma2_</span></span></span></span></td><td class=\"tf\"><span class=\"plain outer   hlbx\" ><span class=\"txto\">{gisz}</span></span></td></tr>\n",
       "<tr class=\"tf\"><td class=\"tf\">33</td><td class=\"tf\"><span class=\"section ltr\"><a target=\"_blank\" href=\"https://cdli.ucla.edu/search/search_results.php?SearchMode=Text&amp;ObjectID=P313292\" title=\"Show this document on CDLI\" sec=\"P313292 obverse:11\">P313292 obverse:11</a></span></td><td class=\"tf\"><span class=\"plain outer   \" ><span class=\"plain txto \"></span><span class=\"plain     \" ><span class=\"plain txto \"></span><span class=\"plain     \" ><span class=\"txto\">_dub-</span></span><span class=\"plain     \" ><span class=\"txto\">sar </span></span><span class=\"plain     \" ><span class=\"txto\">erin2_ </span></span></span><span class=\"plain     \" ><span class=\"plain txto \"></span><span class=\"plain     \" ><span class=\"txto\">sza </span></span></span><span class=\"plain     \" ><span class=\"plain txto \"></span><span class=\"plain     \" ><span class=\"plain txto \"></span><span class=\"plain     \" ><span class=\"txto\">_an-</span></span><span class=\"plain     \" ><span class=\"txto\">za-</span></span><span class=\"plain     \" ><span class=\"txto\">qar_ </span></span></span></span><span class=\"plain     \" ><span class=\"plain txto \"></span><span class=\"plain     \" ><span class=\"txto\">sza </span></span></span><span class=\"plain     \" ><span class=\"plain txto \"></span><span class=\"plain     \" ><span class=\"plain txto \"></span><span class=\"plain     \" ><span class=\"plain txto \"></span><span class=\"plain     hlbx\" ><span class=\"txto\">_{i7}</span></span></span><span class=\"plain     \" ><span class=\"txto\">idigna_ </span></span></span></span><span class=\"plain     \" ><span class=\"plain txto \"></span><span class=\"plain     \" ><span class=\"txto\">i-</span></span><span class=\"plain     \" ><span class=\"txto\">hi-</span></span><span class=\"plain     \" ><span class=\"txto\">t,a2-</span></span><span class=\"plain     \" ><span class=\"txto\">am-</span></span><span class=\"plain     \" ><span class=\"txto\">ma</span></span></span></span></td><td class=\"tf\"><span class=\"plain outer   hlbx\" ><span class=\"txto\">_{i7}</span></span></td></tr>\n",
       "<tr class=\"tf\"><td class=\"tf\">34</td><td class=\"tf\"><span class=\"section ltr\"><a target=\"_blank\" href=\"https://cdli.ucla.edu/search/search_results.php?SearchMode=Text&amp;ObjectID=P313309\" title=\"Show this document on CDLI\" sec=\"P313309 obverse:3'\">P313309 obverse:3'</a></span></td><td class=\"tf\"><span class=\"plain outer   \" ><span class=\"plain txto \"></span><span class=\"plain     \" ><span class=\"plain txto \"></span><span class=\"plain     \" ><span class=\"plain txto \"></span><span class=\"plain     \" ><span class=\"txto\">_dingir_ </span></span></span></span><span class=\"plain     \" ><span class=\"plain txto \"></span><span class=\"plain     \" ><span class=\"txto\">na-</span></span><span class=\"plain     \" ><span class=\"txto\">s,ir</span></span><span class=\"plain     \" ><span class=\"plain txto \"></span><span class=\"plain     hlbx\" ><span class=\"txto\">{ir}-</span></span></span><span class=\"plain     \" ><span class=\"txto\">ka </span></span></span><span class=\"plain     \" ><span class=\"plain txto \"></span><span class=\"plain     \" ><span class=\"txto\">ri-</span></span><span class=\"plain     \" ><span class=\"txto\">isz-</span></span><span class=\"plain     \" ><span class=\"txto\">ka </span></span></span><span class=\"plain     \" ><span class=\"plain txto \"></span><span class=\"plain     \" ><span class=\"txto\">a-</span></span><span class=\"plain    rno \" ><span class=\"plain txto \"></span><span class=\"plain     \" ><span class=\"txto\">[na </span></span></span></span><span class=\"plain     \" ><span class=\"plain txto \"></span><span class=\"plain     \" ><span class=\"txto\">da-</span></span><span class=\"plain     \" ><span class=\"txto\">mi-</span></span><span class=\"plain     \" ><span class=\"txto\">iq]-</span></span></span><span class=\"plain     \" ><span class=\"plain txto \"></span><span class=\"plain     \" ><span class=\"txto\">tim</span></span></span></span></td><td class=\"tf\"><span class=\"plain outer   hlbx\" ><span class=\"txto\">{ir}-</span></span></td></tr>\n",
       "<tr class=\"tf\"><td class=\"tf\">35</td><td class=\"tf\"><span class=\"section ltr\"><a target=\"_blank\" href=\"https://cdli.ucla.edu/search/search_results.php?SearchMode=Text&amp;ObjectID=P313292\" title=\"Show this document on CDLI\" sec=\"P313292 reverse:6\">P313292 reverse:6</a></span></td><td class=\"tf\"><span class=\"plain outer   \" ><span class=\"plain txto \"></span><span class=\"plain     \" ><span class=\"plain txto \"></span><span class=\"plain     \" ><span class=\"plain txto \"></span><span class=\"plain     hlbx\" ><span class=\"txto\">_{iti}</span></span></span><span class=\"plain     \" ><span class=\"txto\">gan-</span></span><span class=\"plain     \" ><span class=\"txto\">gan-</span></span><span class=\"plain     \" ><span class=\"txto\">e3 </span></span><span class=\"plain     \" ><span class=\"txto\">u4 </span></span><span class=\"plain     \" ><span class=\"txto\">1(u) </span></span><span class=\"plain     \" ><span class=\"txto\">6(disz)-</span></span><span class=\"plain     \" ><span class=\"txto\">kam_</span></span></span></span></td><td class=\"tf\"><span class=\"plain outer   hlbx\" ><span class=\"txto\">_{iti}</span></span></td></tr>\n",
       "<tr class=\"tf\"><td class=\"tf\">36</td><td class=\"tf\"><span class=\"section ltr\"><a target=\"_blank\" href=\"https://cdli.ucla.edu/search/search_results.php?SearchMode=Text&amp;ObjectID=P510687\" title=\"Show this document on CDLI\" sec=\"P510687 obverse:7\">P510687 obverse:7</a></span></td><td class=\"tf\"><span class=\"plain outer   \" ><span class=\"plain txto \"></span><span class=\"plain     \" ><span class=\"plain txto \"></span><span class=\"plain     \" ><span class=\"txto\">a-</span></span><span class=\"plain     \" ><span class=\"txto\">na </span></span></span><span class=\"plain     \" ><span class=\"plain txto \"></span><span class=\"plain     \" ><span class=\"txto\">t,a-</span></span><span class=\"plain     \" ><span class=\"txto\">ab-</span></span><span class=\"plain     \" ><span class=\"txto\">ti </span></span></span><span class=\"plain     \" ><span class=\"plain txto \"></span><span class=\"plain     \" ><span class=\"txto\">i-</span></span><span class=\"plain     \" ><span class=\"txto\">di-</span></span><span class=\"plain     \" ><span class=\"txto\">nu-</span></span><span class=\"plain     \" ><span class=\"plain txto \"></span><span class=\"plain     hlbx\" ><span class=\"txto\">{ku}</span></span></span><span class=\"plain     \" ><span class=\"txto\">kum</span></span></span></span></td><td class=\"tf\"><span class=\"plain outer   hlbx\" ><span class=\"txto\">{ku}</span></span></td></tr>\n",
       "<tr class=\"tf\"><td class=\"tf\">37</td><td class=\"tf\"><span class=\"section ltr\"><a target=\"_blank\" href=\"https://cdli.ucla.edu/search/search_results.php?SearchMode=Text&amp;ObjectID=P387323\" title=\"Show this document on CDLI\" sec=\"P387323 obverse:9\">P387323 obverse:9</a></span></td><td class=\"tf\"><span class=\"plain outer   \" ><span class=\"plain txto \"></span><span class=\"plain     \" ><span class=\"plain txto \"></span><span class=\"plain     \" ><span class=\"txto\">u3 </span></span></span><span class=\"plain     \" ><span class=\"plain txto \"></span><span class=\"plain     \" ><span class=\"txto\">a-</span></span><span class=\"plain     \" ><span class=\"txto\">na </span></span></span><span class=\"plain     \" ><span class=\"plain txto \"></span><span class=\"plain     \" ><span class=\"txto\">ka-</span></span><span class=\"plain     \" ><span class=\"txto\">szum </span></span></span><span class=\"plain     \" ><span class=\"plain txto \"></span><span class=\"plain     \" ><span class=\"txto\">usz-</span></span><span class=\"plain     \" ><span class=\"plain txto \"></span><span class=\"plain     \" ><span class=\"txto\">&lt;ta>-</span></span></span><span class=\"plain     \" ><span class=\"txto\">bi-</span></span><span class=\"plain     \" ><span class=\"plain txto \"></span><span class=\"plain     hlbx\" ><span class=\"txto\">{la}</span></span></span><span class=\"plain     \" ><span class=\"txto\">lam</span></span></span></span></td><td class=\"tf\"><span class=\"plain outer   hlbx\" ><span class=\"txto\">{la}</span></span></td></tr>\n",
       "<tr class=\"tf\"><td class=\"tf\">38</td><td class=\"tf\"><span class=\"section ltr\"><a target=\"_blank\" href=\"https://cdli.ucla.edu/search/search_results.php?SearchMode=Text&amp;ObjectID=P386488\" title=\"Show this document on CDLI\" sec=\"P386488 obverse:10\">P386488 obverse:10</a></span></td><td class=\"tf\"><span class=\"plain outer   \" ><span class=\"plain txto \"></span><span class=\"plain     \" ><span class=\"plain txto \"></span><span class=\"plain     \" ><span class=\"plain txto \"></span><span class=\"plain     \" ><span class=\"txto\">{disz}</span></span></span><span class=\"plain     \" ><span class=\"plain txto \"></span><span class=\"plain     hlbx\" ><span class=\"txto\">{munus}</span></span></span><span class=\"plain     \" ><span class=\"txto\">sza-</span></span><span class=\"plain     \" ><span class=\"txto\">mu-</span></span><span class=\"plain     \" ><span class=\"txto\">uh2-</span></span><span class=\"plain     \" ><span class=\"txto\">tum</span></span></span></span></td><td class=\"tf\"><span class=\"plain outer   hlbx\" ><span class=\"txto\">{munus}</span></span></td></tr>\n",
       "<tr class=\"tf\"><td class=\"tf\">39</td><td class=\"tf\"><span class=\"section ltr\"><a target=\"_blank\" href=\"https://cdli.ucla.edu/search/search_results.php?SearchMode=Text&amp;ObjectID=P386459\" title=\"Show this document on CDLI\" sec=\"P386459 obverse:7\">P386459 obverse:7</a></span></td><td class=\"tf\"><span class=\"plain outer   \" ><span class=\"plain txto \"></span><span class=\"plain     \" ><span class=\"plain txto \"></span><span class=\"plain     \" ><span class=\"txto\">u3 </span></span></span><span class=\"plain     \" ><span class=\"plain txto \"></span><span class=\"plain     \" ><span class=\"txto\">dumu-</span></span><span class=\"plain     \" ><span class=\"txto\">ki-</span></span><span class=\"plain     \" ><span class=\"plain txto \"></span><span class=\"plain     hlbx\" ><span class=\"txto\">{ti}</span></span></span><span class=\"plain     \" ><span class=\"txto\">tim</span></span></span></span></td><td class=\"tf\"><span class=\"plain outer   hlbx\" ><span class=\"txto\">{ti}</span></span></td></tr>\n",
       "<tr class=\"tf\"><td class=\"tf\">40</td><td class=\"tf\"><span class=\"section ltr\"><a target=\"_blank\" href=\"https://cdli.ucla.edu/search/search_results.php?SearchMode=Text&amp;ObjectID=P275129\" title=\"Show this document on CDLI\" sec=\"P275129 reverse:7\">P275129 reverse:7</a></span></td><td class=\"tf\"><span class=\"plain outer   \" ><span class=\"plain txto \"></span><span class=\"plain     \" ><span class=\"plain txto \"></span><span class=\"plain     \" ><span class=\"txto\">i-</span></span><span class=\"plain     \" ><span class=\"txto\">na </span></span></span><span class=\"plain     \" ><span class=\"plain txto \"></span><span class=\"plain     \" ><span class=\"plain txto \"></span><span class=\"plain     hlbx\" ><span class=\"txto\">{uzu}</span></span></span><span class=\"plain     \" ><span class=\"txto\">te-</span></span><span class=\"plain     \" ><span class=\"txto\">re-</span></span><span class=\"plain     \" ><span class=\"txto\">e-</span></span><span class=\"plain     \" ><span class=\"txto\">tim </span></span></span><span class=\"plain     \" ><span class=\"plain txto \"></span><span class=\"plain     \" ><span class=\"txto\">sza-</span></span><span class=\"plain     \" ><span class=\"txto\">al-</span></span><span class=\"plain     \" ><span class=\"txto\">ma-</span></span><span class=\"plain     \" ><span class=\"txto\">a-</span></span><span class=\"plain     \" ><span class=\"txto\">tim#</span></span></span></span></td><td class=\"tf\"><span class=\"plain outer   hlbx\" ><span class=\"txto\">{uzu}</span></span></td></tr></table>"
      ],
      "text/plain": [
       "<IPython.core.display.HTML object>"
      ]
     },
     "metadata": {},
     "output_type": "display_data"
    }
   ],
   "source": [
    "examples = []\n",
    "\n",
    "for (reading, signNodes) in sorted(\n",
    "  readings.items(),\n",
    "  key=freqKeyL,\n",
    "):\n",
    "  exampleSign = signNodes[0]\n",
    "  exampleLine = L.u(exampleSign, otype='line')[0]\n",
    "  examples.append((exampleLine, exampleSign))\n",
    "\n",
    "A.table(examples)"
   ]
  },
  {
   "cell_type": "markdown",
   "metadata": {},
   "source": [
    "It seems that determinatives only occur at the beginning or at the start of words. Let's check that.\n",
    "\n",
    "Search is handy here: we look for a determinative sign between the first and the last sign of a word."
   ]
  },
  {
   "cell_type": "code",
   "execution_count": 11,
   "metadata": {},
   "outputs": [],
   "source": [
    "query = '''\n",
    "word\n",
    "  =: sign det#\n",
    "  < sign det\n",
    "  < sign det#\n",
    "  :=\n",
    "'''"
   ]
  },
  {
   "cell_type": "markdown",
   "metadata": {},
   "source": [
    "A little bit of explanation:\n",
    "\n",
    "We look for a word with three signs in it: one at the start (`=:`), one further on (`<`), and one still further on (`<`) that\n",
    "is also at the end (`:=`).\n",
    "\n",
    "The signs at the start and at the end should *not* be determinatives (`det#`), and the middle sign should be a determinative (`det`)."
   ]
  },
  {
   "cell_type": "code",
   "execution_count": 12,
   "metadata": {},
   "outputs": [
    {
     "name": "stdout",
     "output_type": "stream",
     "text": [
      "  0.52s 913 results\n"
     ]
    }
   ],
   "source": [
    "results = A.search(query)"
   ]
  },
  {
   "cell_type": "markdown",
   "metadata": {},
   "source": [
    "Yes there are, quite many even. Let's show some:"
   ]
  },
  {
   "cell_type": "code",
   "execution_count": 13,
   "metadata": {},
   "outputs": [
    {
     "data": {
      "text/html": [
       "<table><tr class=\"tf\"><th class=\"tf\">n</th><th class=\"tf\">p</th><th class=\"tf\">word</th><th class=\"tf\">sign</th><th class=\"tf\">sign</th><th class=\"tf\">sign</th></tr>\n",
       "<tr class=\"tf\"><td class=\"tf\">1</td><td class=\"tf\"><span class=\"section ltr\"><a target=\"_blank\" href=\"https://cdli.ucla.edu/search/search_results.php?SearchMode=Text&amp;ObjectID=P509376\" title=\"Show this document on CDLI\" sec=\"P509376 obverse:9\">P509376 obverse:9</a></span></td><td class=\"tf\"><span class=\"plain outer   hl\" ><span class=\"plain txto \"></span><span class=\"plain     hlbx\" ><span class=\"txto\">na-</span></span><span class=\"plain     \" ><span class=\"txto\">bi-</span></span><span class=\"plain     \" ><span class=\"plain txto \"></span><span class=\"plain     hlbx\" ><span class=\"txto\">{d}</span></span></span><span class=\"plain     hlbx\" ><span class=\"txto\">suen</span></span></span></td><td class=\"tf\"><span class=\"plain outer   hlbx\" ><span class=\"txto\">na-</span></span></td><td class=\"tf\"><span class=\"plain outer   hlbx\" ><span class=\"txto\">{d}</span></span></td><td class=\"tf\"><span class=\"plain outer   hlbx\" ><span class=\"txto\">suen</span></span></td></tr>\n",
       "<tr class=\"tf\"><td class=\"tf\">2</td><td class=\"tf\"><span class=\"section ltr\"><a target=\"_blank\" href=\"https://cdli.ucla.edu/search/search_results.php?SearchMode=Text&amp;ObjectID=P509376\" title=\"Show this document on CDLI\" sec=\"P509376 reverse:10\">P509376 reverse:10</a></span></td><td class=\"tf\"><span class=\"plain outer   hl\" ><span class=\"plain txto \"></span><span class=\"plain     hlbx\" ><span class=\"txto\">na-</span></span><span class=\"plain     \" ><span class=\"txto\">bi-</span></span><span class=\"plain     \" ><span class=\"plain txto \"></span><span class=\"plain     hlbx\" ><span class=\"txto\">{d}</span></span></span><span class=\"plain     hlbx\" ><span class=\"txto\">suen </span></span></span></td><td class=\"tf\"><span class=\"plain outer   hlbx\" ><span class=\"txto\">na-</span></span></td><td class=\"tf\"><span class=\"plain outer   hlbx\" ><span class=\"txto\">{d}</span></span></td><td class=\"tf\"><span class=\"plain outer   hlbx\" ><span class=\"txto\">suen </span></span></td></tr>\n",
       "<tr class=\"tf\"><td class=\"tf\">3</td><td class=\"tf\"><span class=\"section ltr\"><a target=\"_blank\" href=\"https://cdli.ucla.edu/search/search_results.php?SearchMode=Text&amp;ObjectID=P509377\" title=\"Show this document on CDLI\" sec=\"P509377 obverse:8\">P509377 obverse:8</a></span></td><td class=\"tf\"><span class=\"plain outer   hl\" ><span class=\"plain txto \"></span><span class=\"plain   lno  \" ><span class=\"plain txto \"></span><span class=\"plain     hlbx\" ><span class=\"txto\">kin-</span></span><span class=\"plain     \" ><span class=\"plain txto \"></span><span class=\"plain     hlbx\" ><span class=\"txto\">{d}</span></span></span><span class=\"plain     hlbx\" ><span class=\"txto\">inanna_</span></span></span></span></td><td class=\"tf\"><span class=\"plain outer   hlbx\" ><span class=\"txto\">kin-</span></span></td><td class=\"tf\"><span class=\"plain outer   hlbx\" ><span class=\"txto\">{d}</span></span></td><td class=\"tf\"><span class=\"plain outer   hlbx\" ><span class=\"txto\">inanna_</span></span></td></tr>\n",
       "<tr class=\"tf\"><td class=\"tf\">4</td><td class=\"tf\"><span class=\"section ltr\"><a target=\"_blank\" href=\"https://cdli.ucla.edu/search/search_results.php?SearchMode=Text&amp;ObjectID=P510526\" title=\"Show this document on CDLI\" sec=\"P510526 obverse:3\">P510526 obverse:3</a></span></td><td class=\"tf\"><span class=\"plain outer   hl\" ><span class=\"plain txto \"></span><span class=\"plain     hlbx\" ><span class=\"txto\">geme2-</span></span><span class=\"plain     \" ><span class=\"plain txto \"></span><span class=\"plain     hlbx\" ><span class=\"txto\">{d}</span></span></span><span class=\"plain     \" ><span class=\"txto\">utu-</span></span><span class=\"plain     hlbx\" ><span class=\"txto\">ma</span></span></span></td><td class=\"tf\"><span class=\"plain outer   hlbx\" ><span class=\"txto\">geme2-</span></span></td><td class=\"tf\"><span class=\"plain outer   hlbx\" ><span class=\"txto\">{d}</span></span></td><td class=\"tf\"><span class=\"plain outer   hlbx\" ><span class=\"txto\">ma</span></span></td></tr>\n",
       "<tr class=\"tf\"><td class=\"tf\">5</td><td class=\"tf\"><span class=\"section ltr\"><a target=\"_blank\" href=\"https://cdli.ucla.edu/search/search_results.php?SearchMode=Text&amp;ObjectID=P510527\" title=\"Show this document on CDLI\" sec=\"P510527 obverse:11\">P510527 obverse:11</a></span></td><td class=\"tf\"><span class=\"plain outer   hl\" ><span class=\"plain txto \"></span><span class=\"plain     hlbx\" ><span class=\"txto\">ip-</span></span><span class=\"plain     \" ><span class=\"txto\">qu2-</span></span><span class=\"plain     \" ><span class=\"plain txto \"></span><span class=\"plain     hlbx\" ><span class=\"txto\">{d}</span></span></span><span class=\"plain     \" ><span class=\"txto\">na-</span></span><span class=\"plain     \" ><span class=\"txto\">bi-</span></span><span class=\"plain     hlbx\" ><span class=\"txto\">um </span></span></span></td><td class=\"tf\"><span class=\"plain outer   hlbx\" ><span class=\"txto\">ip-</span></span></td><td class=\"tf\"><span class=\"plain outer   hlbx\" ><span class=\"txto\">{d}</span></span></td><td class=\"tf\"><span class=\"plain outer   hlbx\" ><span class=\"txto\">um </span></span></td></tr>\n",
       "<tr class=\"tf\"><td class=\"tf\">6</td><td class=\"tf\"><span class=\"section ltr\"><a target=\"_blank\" href=\"https://cdli.ucla.edu/search/search_results.php?SearchMode=Text&amp;ObjectID=P510527\" title=\"Show this document on CDLI\" sec=\"P510527 reverse:8\">P510527 reverse:8</a></span></td><td class=\"tf\"><span class=\"plain outer   hl\" ><span class=\"plain txto \"></span><span class=\"plain     hlbx\" ><span class=\"txto\">e-</span></span><span class=\"plain     \" ><span class=\"txto\">tel-</span></span><span class=\"plain     \" ><span class=\"txto\">pi4-</span></span><span class=\"plain     \" ><span class=\"plain txto \"></span><span class=\"plain     hlbx\" ><span class=\"txto\">{d}</span></span></span><span class=\"plain     \" ><span class=\"txto\">na-</span></span><span class=\"plain     \" ><span class=\"txto\">bi-</span></span><span class=\"plain     hlbx\" ><span class=\"txto\">um </span></span></span></td><td class=\"tf\"><span class=\"plain outer   hlbx\" ><span class=\"txto\">e-</span></span></td><td class=\"tf\"><span class=\"plain outer   hlbx\" ><span class=\"txto\">{d}</span></span></td><td class=\"tf\"><span class=\"plain outer   hlbx\" ><span class=\"txto\">um </span></span></td></tr>\n",
       "<tr class=\"tf\"><td class=\"tf\">7</td><td class=\"tf\"><span class=\"section ltr\"><a target=\"_blank\" href=\"https://cdli.ucla.edu/search/search_results.php?SearchMode=Text&amp;ObjectID=P510530\" title=\"Show this document on CDLI\" sec=\"P510530 reverse:15\">P510530 reverse:15</a></span></td><td class=\"tf\"><span class=\"plain outer   hl\" ><span class=\"plain txto \"></span><span class=\"plain     hlbx\" ><span class=\"txto\">ARAD#-</span></span><span class=\"plain     \" ><span class=\"plain txto \"></span><span class=\"plain     hlbx\" ><span class=\"txto\">{d}</span></span></span><span class=\"plain     \" ><span class=\"txto\">ul-</span></span><span class=\"plain     \" ><span class=\"txto\">masz-</span></span><span class=\"plain     \" ><span class=\"txto\">szi-</span></span><span class=\"plain     hlbx\" ><span class=\"txto\">tum </span></span></span></td><td class=\"tf\"><span class=\"plain outer   hlbx\" ><span class=\"txto\">ARAD#-</span></span></td><td class=\"tf\"><span class=\"plain outer   hlbx\" ><span class=\"txto\">{d}</span></span></td><td class=\"tf\"><span class=\"plain outer   hlbx\" ><span class=\"txto\">tum </span></span></td></tr>\n",
       "<tr class=\"tf\"><td class=\"tf\">8</td><td class=\"tf\"><span class=\"section ltr\"><a target=\"_blank\" href=\"https://cdli.ucla.edu/search/search_results.php?SearchMode=Text&amp;ObjectID=P510530\" title=\"Show this document on CDLI\" sec=\"P510530 reverse:18\">P510530 reverse:18</a></span></td><td class=\"tf\"><span class=\"plain outer   hl\" ><span class=\"plain txto \"></span><span class=\"plain     hlbx\" ><span class=\"txto\">ARAD-</span></span><span class=\"plain     \" ><span class=\"plain txto \"></span><span class=\"plain     hlbx\" ><span class=\"txto\">{d}</span></span></span><span class=\"plain     \" ><span class=\"txto\">ul-</span></span><span class=\"plain     \" ><span class=\"txto\">masz-</span></span><span class=\"plain     \" ><span class=\"txto\">szi-</span></span><span class=\"plain     hlbx\" ><span class=\"txto\">tum </span></span></span></td><td class=\"tf\"><span class=\"plain outer   hlbx\" ><span class=\"txto\">ARAD-</span></span></td><td class=\"tf\"><span class=\"plain outer   hlbx\" ><span class=\"txto\">{d}</span></span></td><td class=\"tf\"><span class=\"plain outer   hlbx\" ><span class=\"txto\">tum </span></span></td></tr>\n",
       "<tr class=\"tf\"><td class=\"tf\">9</td><td class=\"tf\"><span class=\"section ltr\"><a target=\"_blank\" href=\"https://cdli.ucla.edu/search/search_results.php?SearchMode=Text&amp;ObjectID=P510530\" title=\"Show this document on CDLI\" sec=\"P510530 reverse:19\">P510530 reverse:19</a></span></td><td class=\"tf\"><span class=\"plain outer   hl\" ><span class=\"plain txto \"></span><span class=\"plain     hlbx\" ><span class=\"txto\">ARAD-</span></span><span class=\"plain     \" ><span class=\"plain txto \"></span><span class=\"plain     hlbx\" ><span class=\"txto\">{d}</span></span></span><span class=\"plain     \" ><span class=\"txto\">ul-</span></span><span class=\"plain     \" ><span class=\"txto\">masz-</span></span><span class=\"plain     \" ><span class=\"txto\">szi-</span></span><span class=\"plain     hlbx\" ><span class=\"txto\">tum </span></span></span></td><td class=\"tf\"><span class=\"plain outer   hlbx\" ><span class=\"txto\">ARAD-</span></span></td><td class=\"tf\"><span class=\"plain outer   hlbx\" ><span class=\"txto\">{d}</span></span></td><td class=\"tf\"><span class=\"plain outer   hlbx\" ><span class=\"txto\">tum </span></span></td></tr>\n",
       "<tr class=\"tf\"><td class=\"tf\">10</td><td class=\"tf\"><span class=\"section ltr\"><a target=\"_blank\" href=\"https://cdli.ucla.edu/search/search_results.php?SearchMode=Text&amp;ObjectID=P510531\" title=\"Show this document on CDLI\" sec=\"P510531 obverse:5\">P510531 obverse:5</a></span></td><td class=\"tf\"><span class=\"plain outer   hl\" ><span class=\"plain txto \"></span><span class=\"plain     hlbx\" ><span class=\"txto\">ip-</span></span><span class=\"plain     \" ><span class=\"txto\">qu2-</span></span><span class=\"plain     \" ><span class=\"plain txto \"></span><span class=\"plain     hlbx\" ><span class=\"txto\">{d}</span></span></span><span class=\"plain     \" ><span class=\"txto\">na#-</span></span><span class=\"plain     \" ><span class=\"txto\">bi-</span></span><span class=\"plain     hlbx\" ><span class=\"txto\">um </span></span></span></td><td class=\"tf\"><span class=\"plain outer   hlbx\" ><span class=\"txto\">ip-</span></span></td><td class=\"tf\"><span class=\"plain outer   hlbx\" ><span class=\"txto\">{d}</span></span></td><td class=\"tf\"><span class=\"plain outer   hlbx\" ><span class=\"txto\">um </span></span></td></tr></table>"
      ],
      "text/plain": [
       "<IPython.core.display.HTML object>"
      ]
     },
     "metadata": {},
     "output_type": "display_data"
    }
   ],
   "source": [
    "A.table(results, end=10)"
   ]
  },
  {
   "cell_type": "markdown",
   "metadata": {},
   "source": [
    "The question arises: can a word be divided into parts my several determinatives inside it?\n",
    "\n",
    "We adjust the query:"
   ]
  },
  {
   "cell_type": "code",
   "execution_count": 14,
   "metadata": {},
   "outputs": [],
   "source": [
    "query2 = '''\n",
    "word\n",
    "  =: sign det#\n",
    "  < sign det\n",
    "  <: sign det#\n",
    "  < sign det\n",
    "  < sign det#\n",
    "  :=\n",
    "'''"
   ]
  },
  {
   "cell_type": "code",
   "execution_count": 15,
   "metadata": {},
   "outputs": [
    {
     "name": "stdout",
     "output_type": "stream",
     "text": [
      "  0.87s 2 results\n"
     ]
    }
   ],
   "source": [
    "results2 = A.search(query2)"
   ]
  },
  {
   "cell_type": "code",
   "execution_count": 16,
   "metadata": {},
   "outputs": [
    {
     "data": {
      "text/html": [
       "<table><tr class=\"tf\"><th class=\"tf\">n</th><th class=\"tf\">p</th><th class=\"tf\">word</th><th class=\"tf\">sign</th><th class=\"tf\">sign</th><th class=\"tf\">sign</th><th class=\"tf\">sign</th><th class=\"tf\">sign</th></tr>\n",
       "<tr class=\"tf\"><td class=\"tf\">1</td><td class=\"tf\"><span class=\"section ltr\"><a target=\"_blank\" href=\"https://cdli.ucla.edu/search/search_results.php?SearchMode=Text&amp;ObjectID=P365956\" title=\"Show this document on CDLI\" sec=\"P365956 obverse:4\">P365956 obverse:4</a></span></td><td class=\"tf\"><span class=\"plain outer   hl\" ><span class=\"plain txto \"></span><span class=\"plain   lno  \" ><span class=\"plain txto \"></span><span class=\"plain     hlbx\" ><span class=\"txto\">kar-</span></span><span class=\"plain     \" ><span class=\"plain txto \"></span><span class=\"plain     hlbx\" ><span class=\"txto\">{d}</span></span></span><span class=\"plain     hlbx\" ><span class=\"txto\">utu</span></span><span class=\"plain     \" ><span class=\"plain txto \"></span><span class=\"plain     hlbx\" ><span class=\"txto\">{ki}-</span></span></span><span class=\"plain     hlbx\" ><span class=\"txto\">mesz_ </span></span></span></span></td><td class=\"tf\"><span class=\"plain outer   hlbx\" ><span class=\"txto\">kar-</span></span></td><td class=\"tf\"><span class=\"plain outer   hlbx\" ><span class=\"txto\">{d}</span></span></td><td class=\"tf\"><span class=\"plain outer   hlbx\" ><span class=\"txto\">utu</span></span></td><td class=\"tf\"><span class=\"plain outer   hlbx\" ><span class=\"txto\">{ki}-</span></span></td><td class=\"tf\"><span class=\"plain outer   hlbx\" ><span class=\"txto\">mesz_ </span></span></td></tr>\n",
       "<tr class=\"tf\"><td class=\"tf\">2</td><td class=\"tf\"><span class=\"section ltr\"><a target=\"_blank\" href=\"https://cdli.ucla.edu/search/search_results.php?SearchMode=Text&amp;ObjectID=P313345\" title=\"Show this document on CDLI\" sec=\"P313345 obverse:2\">P313345 obverse:2</a></span></td><td class=\"tf\"><span class=\"plain outer   hl\" ><span class=\"plain txto \"></span><span class=\"plain     \" ><span class=\"plain txto \"></span><span class=\"plain     hlbx\" ><span class=\"txto\">_dumu-</span></span><span class=\"plain     \" ><span class=\"plain txto \"></span><span class=\"plain     hlbx\" ><span class=\"txto\">{id2}</span></span></span><span class=\"plain     hlbx\" ><span class=\"txto\">UD.</span></span><span class=\"plain     \" ><span class=\"txto\">KIB.</span></span><span class=\"plain     \" ><span class=\"txto\">NUN</span></span><span class=\"plain     \" ><span class=\"plain txto \"></span><span class=\"plain     hlbx\" ><span class=\"txto\">{ki}_-</span></span></span></span><span class=\"plain     hlbx\" ><span class=\"txto\">ma</span></span></span></td><td class=\"tf\"><span class=\"plain outer   hlbx\" ><span class=\"txto\">_dumu-</span></span></td><td class=\"tf\"><span class=\"plain outer   hlbx\" ><span class=\"txto\">{id2}</span></span></td><td class=\"tf\"><span class=\"plain outer   hlbx\" ><span class=\"txto\">UD.</span></span></td><td class=\"tf\"><span class=\"plain outer   hlbx\" ><span class=\"txto\">{ki}_-</span></span></td><td class=\"tf\"><span class=\"plain outer   hlbx\" ><span class=\"txto\">ma</span></span></td></tr></table>"
      ],
      "text/plain": [
       "<IPython.core.display.HTML object>"
      ]
     },
     "metadata": {},
     "output_type": "display_data"
    }
   ],
   "source": [
    "A.table(results2)"
   ]
  },
  {
   "cell_type": "markdown",
   "metadata": {},
   "source": [
    "This seems to be really exceptional."
   ]
  },
  {
   "cell_type": "markdown",
   "metadata": {},
   "source": [
    "# Words starting or ending with specific determinatives\n",
    "\n",
    "We want to single out words that start with a determinative of a certain class and words that end with a determinative of a certain class.\n",
    "\n",
    "We define those classes by means of a few variables, and then construct a query with them."
   ]
  },
  {
   "cell_type": "code",
   "execution_count": 17,
   "metadata": {},
   "outputs": [
    {
     "name": "stdout",
     "output_type": "stream",
     "text": [
      "detStart=['d', 'disz', 'gesz', 'gi', 'mi2', 'na4', 'iri', 'lu2', 'tug2', 'u2']\n",
      "detEnd=['ki', 'sar', 'muszen', 'ku6']\n"
     ]
    }
   ],
   "source": [
    "detStart = '''\n",
    "  d\n",
    "  disz\n",
    "  gesz\n",
    "  gi\n",
    "  mi2\n",
    "  na4\n",
    "  iri\n",
    "  lu2\n",
    "  tug2\n",
    "  u2\n",
    "'''.strip().split()\n",
    "\n",
    "detEnd = '''\n",
    "  ki\n",
    "  sar\n",
    "  muszen\n",
    "  ku6\n",
    "'''.strip().split()\n",
    "\n",
    "print(f'detStart={str(detStart)}')\n",
    "print(f'detEnd={str(detEnd)}')"
   ]
  },
  {
   "cell_type": "markdown",
   "metadata": {},
   "source": [
    "In order to use this in a query, we need a `|`-separated string of those values."
   ]
  },
  {
   "cell_type": "code",
   "execution_count": 18,
   "metadata": {},
   "outputs": [
    {
     "name": "stdout",
     "output_type": "stream",
     "text": [
      "detStartCriterion=d|disz|gesz|gi|mi2|na4|iri|lu2|tug2|u2\n",
      "detEndCriterion=ki|sar|muszen|ku6\n"
     ]
    }
   ],
   "source": [
    "detStartCriterion = '|'.join(detStart)\n",
    "detEndCriterion = '|'.join(detEnd)\n",
    "\n",
    "print(f'detStartCriterion={detStartCriterion}')\n",
    "print(f'detEndCriterion={detEndCriterion}')"
   ]
  },
  {
   "cell_type": "code",
   "execution_count": 19,
   "metadata": {},
   "outputs": [],
   "source": [
    "queryStart = f'''\n",
    "word\n",
    "  =: sign det reading={detStartCriterion}\n",
    "'''\n",
    "\n",
    "queryEnd = f'''\n",
    "word\n",
    "  := sign det reading={detEndCriterion}\n",
    "'''"
   ]
  },
  {
   "cell_type": "code",
   "execution_count": 20,
   "metadata": {},
   "outputs": [
    {
     "name": "stdout",
     "output_type": "stream",
     "text": [
      "  0.21s 4342 results\n",
      "  0.18s 890 results\n"
     ]
    }
   ],
   "source": [
    "resultsStart = A.search(queryStart)\n",
    "resultsEnd = A.search(queryEnd)"
   ]
  },
  {
   "cell_type": "markdown",
   "metadata": {},
   "source": [
    "The results are pairs of a word and a sign (the determinative).\n",
    "\n",
    "Let's just look at the words. Are the words found by the first query distinct from the words found by the second query?\n",
    "\n",
    "We count the number of words in the intersection."
   ]
  },
  {
   "cell_type": "code",
   "execution_count": 21,
   "metadata": {},
   "outputs": [
    {
     "data": {
      "text/plain": [
       "31"
      ]
     },
     "execution_count": 21,
     "metadata": {},
     "output_type": "execute_result"
    }
   ],
   "source": [
    "wordsStart = {w for (w, s) in resultsStart}\n",
    "wordsEnd = {w for (w, s) in resultsEnd}\n",
    "wordsBoth = wordsStart & wordsEnd\n",
    "len(wordsBoth)"
   ]
  },
  {
   "cell_type": "markdown",
   "metadata": {},
   "source": [
    "Just for expository reasons, we are going to show the words with determinatives at both ends in two ways:\n",
    "\n",
    "1. By picking the result sets and combining them\n",
    "2. By writing a modified query."
   ]
  },
  {
   "cell_type": "markdown",
   "metadata": {},
   "source": [
    "### Combine result sets\n",
    "\n",
    "We need to get the word nodes of the intersection and also there first and last signs."
   ]
  },
  {
   "cell_type": "code",
   "execution_count": 22,
   "metadata": {},
   "outputs": [
    {
     "data": {
      "text/html": [
       "<table><tr class=\"tf\"><th class=\"tf\">n</th><th class=\"tf\">p</th><th class=\"tf\">word</th><th class=\"tf\">sign</th><th class=\"tf\">sign</th></tr>\n",
       "<tr class=\"tf\"><td class=\"tf\">1</td><td class=\"tf\"><span class=\"section ltr\"><a target=\"_blank\" href=\"https://cdli.ucla.edu/search/search_results.php?SearchMode=Text&amp;ObjectID=P510644\" title=\"Show this document on CDLI\" sec=\"P510644 reverse:5\">P510644 reverse:5</a></span></td><td class=\"tf\"><span class=\"plain outer   hl\" ><span class=\"plain txto \"></span><span class=\"plain     \" ><span class=\"plain txto \"></span><span class=\"plain     hlbx\" ><span class=\"txto\">{disz}</span></span></span><span class=\"plain     \" ><span class=\"txto\">dumu-</span></span><span class=\"plain     \" ><span class=\"txto\">zimbir</span></span><span class=\"plain     \" ><span class=\"plain txto \"></span><span class=\"plain     hlbx\" ><span class=\"txto\">{ki} </span></span></span></span></td><td class=\"tf\"><span class=\"plain outer   hlbx\" ><span class=\"txto\">{disz}</span></span></td><td class=\"tf\"><span class=\"plain outer   hlbx\" ><span class=\"txto\">{ki} </span></span></td></tr>\n",
       "<tr class=\"tf\"><td class=\"tf\">2</td><td class=\"tf\"><span class=\"section ltr\"><a target=\"_blank\" href=\"https://cdli.ucla.edu/search/search_results.php?SearchMode=Text&amp;ObjectID=P510701\" title=\"Show this document on CDLI\" sec=\"P510701 obverse:10\">P510701 obverse:10</a></span></td><td class=\"tf\"><span class=\"plain outer   hl\" ><span class=\"plain txto \"></span><span class=\"plain     \" ><span class=\"plain txto \"></span><span class=\"plain     hlbx\" ><span class=\"txto\">{d}</span></span></span><span class=\"plain     \" ><span class=\"txto\">nin-</span></span><span class=\"plain     \" ><span class=\"txto\">iri?</span></span><span class=\"plain     \" ><span class=\"plain txto \"></span><span class=\"plain     hlbx\" ><span class=\"txto\">{ki} </span></span></span></span></td><td class=\"tf\"><span class=\"plain outer   hlbx\" ><span class=\"txto\">{d}</span></span></td><td class=\"tf\"><span class=\"plain outer   hlbx\" ><span class=\"txto\">{ki} </span></span></td></tr>\n",
       "<tr class=\"tf\"><td class=\"tf\">3</td><td class=\"tf\"><span class=\"section ltr\"><a target=\"_blank\" href=\"https://cdli.ucla.edu/search/search_results.php?SearchMode=Text&amp;ObjectID=P510744\" title=\"Show this document on CDLI\" sec=\"P510744 obverse:4\">P510744 obverse:4</a></span></td><td class=\"tf\"><span class=\"plain outer   hl\" ><span class=\"plain txto \"></span><span class=\"plain     \" ><span class=\"plain txto \"></span><span class=\"plain     hlbx\" ><span class=\"txto\">{iri#}</span></span></span><span class=\"plain     \" ><span class=\"txto\">ra-</span></span><span class=\"plain     \" ><span class=\"txto\">pi2-</span></span><span class=\"plain     \" ><span class=\"txto\">qum</span></span><span class=\"plain     \" ><span class=\"plain txto \"></span><span class=\"plain     hlbx\" ><span class=\"txto\">{ki} </span></span></span></span></td><td class=\"tf\"><span class=\"plain outer   hlbx\" ><span class=\"txto\">{iri#}</span></span></td><td class=\"tf\"><span class=\"plain outer   hlbx\" ><span class=\"txto\">{ki} </span></span></td></tr>\n",
       "<tr class=\"tf\"><td class=\"tf\">4</td><td class=\"tf\"><span class=\"section ltr\"><a target=\"_blank\" href=\"https://cdli.ucla.edu/search/search_results.php?SearchMode=Text&amp;ObjectID=P413253\" title=\"Show this document on CDLI\" sec=\"P413253 reverse:11'\">P413253 reverse:11'</a></span></td><td class=\"tf\"><span class=\"plain outer   hl\" ><span class=\"plain txto \"></span><span class=\"plain     \" ><span class=\"plain txto \"></span><span class=\"plain     hlbx\" ><span class=\"txto\">{iri}</span></span></span><span class=\"plain     \" ><span class=\"txto\">eresz2</span></span><span class=\"plain     \" ><span class=\"plain txto \"></span><span class=\"plain     hlbx\" ><span class=\"txto\">{ki}</span></span></span></span></td><td class=\"tf\"><span class=\"plain outer   hlbx\" ><span class=\"txto\">{iri}</span></span></td><td class=\"tf\"><span class=\"plain outer   hlbx\" ><span class=\"txto\">{ki}</span></span></td></tr>\n",
       "<tr class=\"tf\"><td class=\"tf\">5</td><td class=\"tf\"><span class=\"section ltr\"><a target=\"_blank\" href=\"https://cdli.ucla.edu/search/search_results.php?SearchMode=Text&amp;ObjectID=P365956\" title=\"Show this document on CDLI\" sec=\"P365956 obverse:9\">P365956 obverse:9</a></span></td><td class=\"tf\"><span class=\"plain outer   hl\" ><span class=\"plain txto \"></span><span class=\"plain     \" ><span class=\"plain txto \"></span><span class=\"plain     hlbx\" ><span class=\"txto\">{iri}</span></span></span><span class=\"plain     \" ><span class=\"txto\">kisz</span></span><span class=\"plain     \" ><span class=\"plain txto \"></span><span class=\"plain     hlbx\" ><span class=\"txto\">{ki} </span></span></span></span></td><td class=\"tf\"><span class=\"plain outer   hlbx\" ><span class=\"txto\">{iri}</span></span></td><td class=\"tf\"><span class=\"plain outer   hlbx\" ><span class=\"txto\">{ki} </span></span></td></tr>\n",
       "<tr class=\"tf\"><td class=\"tf\">6</td><td class=\"tf\"><span class=\"section ltr\"><a target=\"_blank\" href=\"https://cdli.ucla.edu/search/search_results.php?SearchMode=Text&amp;ObjectID=P313376\" title=\"Show this document on CDLI\" sec=\"P313376 obverse:4\">P313376 obverse:4</a></span></td><td class=\"tf\"><span class=\"plain outer   hl\" ><span class=\"plain txto \"></span><span class=\"plain     \" ><span class=\"plain txto \"></span><span class=\"plain     hlbx\" ><span class=\"txto\">{disz}</span></span></span><span class=\"plain     \" ><span class=\"txto\">szi#-</span></span><span class=\"plain     \" ><span class=\"txto\">ma#-</span></span><span class=\"plain     \" ><span class=\"txto\">at-</span></span><span class=\"plain     \" ><span class=\"plain txto \"></span><span class=\"plain     \" ><span class=\"txto\">_uri2</span></span><span class=\"plain     \" ><span class=\"plain txto \"></span><span class=\"plain     hlbx\" ><span class=\"txto\">{ki#}_ </span></span></span></span></span></td><td class=\"tf\"><span class=\"plain outer   hlbx\" ><span class=\"txto\">{disz}</span></span></td><td class=\"tf\"><span class=\"plain outer   hlbx\" ><span class=\"txto\">{ki#}_ </span></span></td></tr>\n",
       "<tr class=\"tf\"><td class=\"tf\">7</td><td class=\"tf\"><span class=\"section ltr\"><a target=\"_blank\" href=\"https://cdli.ucla.edu/search/search_results.php?SearchMode=Text&amp;ObjectID=P313393\" title=\"Show this document on CDLI\" sec=\"P313393 obverse:5\">P313393 obverse:5</a></span></td><td class=\"tf\"><span class=\"plain outer   hl\" ><span class=\"plain txto \"></span><span class=\"plain     \" ><span class=\"plain txto \"></span><span class=\"plain     hlbx\" ><span class=\"txto\">{iri}</span></span></span><span class=\"plain     \" ><span class=\"txto\">za-</span></span><span class=\"plain     \" ><span class=\"txto\">mi-</span></span><span class=\"plain     \" ><span class=\"txto\">ri-</span></span><span class=\"plain     \" ><span class=\"txto\">i</span></span><span class=\"plain     \" ><span class=\"plain txto \"></span><span class=\"plain     hlbx\" ><span class=\"txto\">{ki} </span></span></span></span></td><td class=\"tf\"><span class=\"plain outer   hlbx\" ><span class=\"txto\">{iri}</span></span></td><td class=\"tf\"><span class=\"plain outer   hlbx\" ><span class=\"txto\">{ki} </span></span></td></tr>\n",
       "<tr class=\"tf\"><td class=\"tf\">8</td><td class=\"tf\"><span class=\"section ltr\"><a target=\"_blank\" href=\"https://cdli.ucla.edu/search/search_results.php?SearchMode=Text&amp;ObjectID=P313407\" title=\"Show this document on CDLI\" sec=\"P313407 obverse:5\">P313407 obverse:5</a></span></td><td class=\"tf\"><span class=\"plain outer   hl\" ><span class=\"plain txto \"></span><span class=\"plain     \" ><span class=\"plain txto \"></span><span class=\"plain     hlbx\" ><span class=\"txto\">{iri}</span></span></span><span class=\"plain     \" ><span class=\"txto\">za-</span></span><span class=\"plain     \" ><span class=\"txto\">mi-</span></span><span class=\"plain     \" ><span class=\"txto\">ri-</span></span><span class=\"plain     \" ><span class=\"txto\">i</span></span><span class=\"plain     \" ><span class=\"plain txto \"></span><span class=\"plain     hlbx\" ><span class=\"txto\">{ki} </span></span></span></span></td><td class=\"tf\"><span class=\"plain outer   hlbx\" ><span class=\"txto\">{iri}</span></span></td><td class=\"tf\"><span class=\"plain outer   hlbx\" ><span class=\"txto\">{ki} </span></span></td></tr>\n",
       "<tr class=\"tf\"><td class=\"tf\">9</td><td class=\"tf\"><span class=\"section ltr\"><a target=\"_blank\" href=\"https://cdli.ucla.edu/search/search_results.php?SearchMode=Text&amp;ObjectID=P345556\" title=\"Show this document on CDLI\" sec=\"P345556 reverse:10\">P345556 reverse:10</a></span></td><td class=\"tf\"><span class=\"plain outer   hl\" ><span class=\"plain txto \"></span><span class=\"plain     \" ><span class=\"plain txto \"></span><span class=\"plain     hlbx\" ><span class=\"txto\">{iri}</span></span></span><span class=\"plain     \" ><span class=\"txto\">a-</span></span><span class=\"plain     \" ><span class=\"txto\">ta-</span></span><span class=\"plain     \" ><span class=\"txto\">szum#</span></span><span class=\"plain     \" ><span class=\"plain txto \"></span><span class=\"plain     hlbx\" ><span class=\"txto\">{ki}</span></span></span></span></td><td class=\"tf\"><span class=\"plain outer   hlbx\" ><span class=\"txto\">{iri}</span></span></td><td class=\"tf\"><span class=\"plain outer   hlbx\" ><span class=\"txto\">{ki}</span></span></td></tr>\n",
       "<tr class=\"tf\"><td class=\"tf\">10</td><td class=\"tf\"><span class=\"section ltr\"><a target=\"_blank\" href=\"https://cdli.ucla.edu/search/search_results.php?SearchMode=Text&amp;ObjectID=P345558\" title=\"Show this document on CDLI\" sec=\"P345558 obverse:9\">P345558 obverse:9</a></span></td><td class=\"tf\"><span class=\"plain outer   hl\" ><span class=\"plain txto \"></span><span class=\"plain   lno  \" ><span class=\"plain txto \"></span><span class=\"plain     \" ><span class=\"plain txto \"></span><span class=\"plain     hlbx\" ><span class=\"txto\">{iri}</span></span></span><span class=\"plain     \" ><span class=\"txto\">sza3-</span></span><span class=\"plain     \" ><span class=\"txto\">gu4</span></span><span class=\"plain     \" ><span class=\"plain txto \"></span><span class=\"plain     hlbx\" ><span class=\"txto\">{ki}_</span></span></span></span></span></td><td class=\"tf\"><span class=\"plain outer   hlbx\" ><span class=\"txto\">{iri}</span></span></td><td class=\"tf\"><span class=\"plain outer   hlbx\" ><span class=\"txto\">{ki}_</span></span></td></tr>\n",
       "<tr class=\"tf\"><td class=\"tf\">11</td><td class=\"tf\"><span class=\"section ltr\"><a target=\"_blank\" href=\"https://cdli.ucla.edu/search/search_results.php?SearchMode=Text&amp;ObjectID=P345569\" title=\"Show this document on CDLI\" sec=\"P345569 obverse:6\">P345569 obverse:6</a></span></td><td class=\"tf\"><span class=\"plain outer   hl\" ><span class=\"plain txto \"></span><span class=\"plain     \" ><span class=\"plain txto \"></span><span class=\"plain     \" ><span class=\"plain txto \"></span><span class=\"plain     hlbx\" ><span class=\"txto\">_{iri}</span></span></span><span class=\"plain     \" ><span class=\"txto\">zimbir</span></span><span class=\"plain     \" ><span class=\"plain txto \"></span><span class=\"plain     hlbx\" ><span class=\"txto\">{ki}_ </span></span></span></span></span></td><td class=\"tf\"><span class=\"plain outer   hlbx\" ><span class=\"txto\">_{iri}</span></span></td><td class=\"tf\"><span class=\"plain outer   hlbx\" ><span class=\"txto\">{ki}_ </span></span></td></tr>\n",
       "<tr class=\"tf\"><td class=\"tf\">12</td><td class=\"tf\"><span class=\"section ltr\"><a target=\"_blank\" href=\"https://cdli.ucla.edu/search/search_results.php?SearchMode=Text&amp;ObjectID=P275094\" title=\"Show this document on CDLI\" sec=\"P275094 obverse:4\">P275094 obverse:4</a></span></td><td class=\"tf\"><span class=\"plain outer   hl\" ><span class=\"plain txto \"></span><span class=\"plain     \" ><span class=\"plain txto \"></span><span class=\"plain     hlbx\" ><span class=\"txto\">{iri}</span></span></span><span class=\"plain     \" ><span class=\"txto\">me-</span></span><span class=\"plain     \" ><span class=\"txto\">de-</span></span><span class=\"plain     \" ><span class=\"txto\">e-</span></span><span class=\"plain     \" ><span class=\"txto\">em</span></span><span class=\"plain     \" ><span class=\"plain txto \"></span><span class=\"plain     hlbx\" ><span class=\"txto\">{ki#}</span></span></span></span></td><td class=\"tf\"><span class=\"plain outer   hlbx\" ><span class=\"txto\">{iri}</span></span></td><td class=\"tf\"><span class=\"plain outer   hlbx\" ><span class=\"txto\">{ki#}</span></span></td></tr>\n",
       "<tr class=\"tf\"><td class=\"tf\">13</td><td class=\"tf\"><span class=\"section ltr\"><a target=\"_blank\" href=\"https://cdli.ucla.edu/search/search_results.php?SearchMode=Text&amp;ObjectID=P275094\" title=\"Show this document on CDLI\" sec=\"P275094 obverse:7\">P275094 obverse:7</a></span></td><td class=\"tf\"><span class=\"plain outer   hl\" ><span class=\"plain txto \"></span><span class=\"plain     \" ><span class=\"plain txto \"></span><span class=\"plain     hlbx\" ><span class=\"txto\">{iri}</span></span></span><span class=\"plain     \" ><span class=\"txto\">me-</span></span><span class=\"plain     \" ><span class=\"txto\">de#-</span></span><span class=\"plain     \" ><span class=\"txto\">e#-</span></span><span class=\"plain     \" ><span class=\"txto\">em#</span></span><span class=\"plain     \" ><span class=\"plain txto \"></span><span class=\"plain     hlbx\" ><span class=\"txto\">{ki} </span></span></span></span></td><td class=\"tf\"><span class=\"plain outer   hlbx\" ><span class=\"txto\">{iri}</span></span></td><td class=\"tf\"><span class=\"plain outer   hlbx\" ><span class=\"txto\">{ki} </span></span></td></tr>\n",
       "<tr class=\"tf\"><td class=\"tf\">14</td><td class=\"tf\"><span class=\"section ltr\"><a target=\"_blank\" href=\"https://cdli.ucla.edu/search/search_results.php?SearchMode=Text&amp;ObjectID=P275105\" title=\"Show this document on CDLI\" sec=\"P275105 obverse:11\">P275105 obverse:11</a></span></td><td class=\"tf\"><span class=\"plain outer   hl\" ><span class=\"plain txto \"></span><span class=\"plain     \" ><span class=\"plain txto \"></span><span class=\"plain     hlbx\" ><span class=\"txto\">{iri}</span></span></span><span class=\"plain     \" ><span class=\"txto\">ra-</span></span><span class=\"plain     \" ><span class=\"txto\">ha-</span></span><span class=\"plain     \" ><span class=\"txto\">bu</span></span><span class=\"plain     \" ><span class=\"plain txto \"></span><span class=\"plain     hlbx\" ><span class=\"txto\">{ki} </span></span></span></span></td><td class=\"tf\"><span class=\"plain outer   hlbx\" ><span class=\"txto\">{iri}</span></span></td><td class=\"tf\"><span class=\"plain outer   hlbx\" ><span class=\"txto\">{ki} </span></span></td></tr>\n",
       "<tr class=\"tf\"><td class=\"tf\">15</td><td class=\"tf\"><span class=\"section ltr\"><a target=\"_blank\" href=\"https://cdli.ucla.edu/search/search_results.php?SearchMode=Text&amp;ObjectID=P275112\" title=\"Show this document on CDLI\" sec=\"P275112 obverse:4\">P275112 obverse:4</a></span></td><td class=\"tf\"><span class=\"plain outer   hl\" ><span class=\"plain txto \"></span><span class=\"plain     \" ><span class=\"plain txto \"></span><span class=\"plain     hlbx\" ><span class=\"txto\">{disz}</span></span></span><span class=\"plain     \" ><span class=\"txto\">dumu-</span></span><span class=\"plain     \" ><span class=\"txto\">uri2</span></span><span class=\"plain     \" ><span class=\"plain txto \"></span><span class=\"plain     hlbx\" ><span class=\"txto\">{ki} </span></span></span></span></td><td class=\"tf\"><span class=\"plain outer   hlbx\" ><span class=\"txto\">{disz}</span></span></td><td class=\"tf\"><span class=\"plain outer   hlbx\" ><span class=\"txto\">{ki} </span></span></td></tr>\n",
       "<tr class=\"tf\"><td class=\"tf\">16</td><td class=\"tf\"><span class=\"section ltr\"><a target=\"_blank\" href=\"https://cdli.ucla.edu/search/search_results.php?SearchMode=Text&amp;ObjectID=P275117\" title=\"Show this document on CDLI\" sec=\"P275117 obverse:10\">P275117 obverse:10</a></span></td><td class=\"tf\"><span class=\"plain outer   hl\" ><span class=\"plain txto \"></span><span class=\"plain     \" ><span class=\"plain txto \"></span><span class=\"plain     hlbx\" ><span class=\"txto\">{iri}</span></span></span><span class=\"plain     \" ><span class=\"txto\">a-</span></span><span class=\"plain     \" ><span class=\"txto\">ha-</span></span><span class=\"plain     \" ><span class=\"txto\">am-</span></span><span class=\"plain     \" ><span class=\"txto\">nu-</span></span><span class=\"plain     \" ><span class=\"txto\">ta</span></span><span class=\"plain     \" ><span class=\"plain txto \"></span><span class=\"plain     hlbx\" ><span class=\"txto\">{ki} </span></span></span></span></td><td class=\"tf\"><span class=\"plain outer   hlbx\" ><span class=\"txto\">{iri}</span></span></td><td class=\"tf\"><span class=\"plain outer   hlbx\" ><span class=\"txto\">{ki} </span></span></td></tr>\n",
       "<tr class=\"tf\"><td class=\"tf\">17</td><td class=\"tf\"><span class=\"section ltr\"><a target=\"_blank\" href=\"https://cdli.ucla.edu/search/search_results.php?SearchMode=Text&amp;ObjectID=P275117\" title=\"Show this document on CDLI\" sec=\"P275117 reverse:2\">P275117 reverse:2</a></span></td><td class=\"tf\"><span class=\"plain outer   hl\" ><span class=\"plain txto \"></span><span class=\"plain     \" ><span class=\"plain txto \"></span><span class=\"plain     hlbx\" ><span class=\"txto\">{iri}</span></span></span><span class=\"plain     \" ><span class=\"txto\">giri3-</span></span><span class=\"plain     \" ><span class=\"txto\">ni-</span></span><span class=\"plain     \" ><span class=\"txto\">i3-</span></span><span class=\"plain     \" ><span class=\"txto\">sa6</span></span><span class=\"plain     \" ><span class=\"plain txto \"></span><span class=\"plain     hlbx\" ><span class=\"txto\">{ki}</span></span></span></span></td><td class=\"tf\"><span class=\"plain outer   hlbx\" ><span class=\"txto\">{iri}</span></span></td><td class=\"tf\"><span class=\"plain outer   hlbx\" ><span class=\"txto\">{ki}</span></span></td></tr>\n",
       "<tr class=\"tf\"><td class=\"tf\">18</td><td class=\"tf\"><span class=\"section ltr\"><a target=\"_blank\" href=\"https://cdli.ucla.edu/search/search_results.php?SearchMode=Text&amp;ObjectID=P275117\" title=\"Show this document on CDLI\" sec=\"P275117 reverse:4\">P275117 reverse:4</a></span></td><td class=\"tf\"><span class=\"plain outer   hl\" ><span class=\"plain txto \"></span><span class=\"plain     \" ><span class=\"plain txto \"></span><span class=\"plain     hlbx\" ><span class=\"txto\">{d}</span></span></span><span class=\"plain     \" ><span class=\"txto\">en-</span></span><span class=\"plain     \" ><span class=\"txto\">lil2-</span></span><span class=\"plain     \" ><span class=\"txto\">gar-</span></span><span class=\"plain     \" ><span class=\"txto\">ra</span></span><span class=\"plain     \" ><span class=\"plain txto \"></span><span class=\"plain     hlbx\" ><span class=\"txto\">{ki}</span></span></span></span></td><td class=\"tf\"><span class=\"plain outer   hlbx\" ><span class=\"txto\">{d}</span></span></td><td class=\"tf\"><span class=\"plain outer   hlbx\" ><span class=\"txto\">{ki}</span></span></td></tr>\n",
       "<tr class=\"tf\"><td class=\"tf\">19</td><td class=\"tf\"><span class=\"section ltr\"><a target=\"_blank\" href=\"https://cdli.ucla.edu/search/search_results.php?SearchMode=Text&amp;ObjectID=P386437\" title=\"Show this document on CDLI\" sec=\"P386437 reverse:9\">P386437 reverse:9</a></span></td><td class=\"tf\"><span class=\"plain outer   hl\" ><span class=\"plain txto \"></span><span class=\"plain     \" ><span class=\"plain txto \"></span><span class=\"plain     hlbx\" ><span class=\"txto\">{iri}</span></span></span><span class=\"plain     \" ><span class=\"txto\">a-</span></span><span class=\"plain     \" ><span class=\"txto\">ha-</span></span><span class=\"plain     \" ><span class=\"plain txto \"></span><span class=\"plain     \" ><span class=\"txto\">[nu-</span></span><span class=\"plain     \" ><span class=\"txto\">ta]</span></span></span><span class=\"plain     \" ><span class=\"plain txto \"></span><span class=\"plain     hlbx\" ><span class=\"txto\">{ki}</span></span></span></span></td><td class=\"tf\"><span class=\"plain outer   hlbx\" ><span class=\"txto\">{iri}</span></span></td><td class=\"tf\"><span class=\"plain outer   hlbx\" ><span class=\"txto\">{ki}</span></span></td></tr>\n",
       "<tr class=\"tf\"><td class=\"tf\">20</td><td class=\"tf\"><span class=\"section ltr\"><a target=\"_blank\" href=\"https://cdli.ucla.edu/search/search_results.php?SearchMode=Text&amp;ObjectID=P386439\" title=\"Show this document on CDLI\" sec=\"P386439 obverse:9\">P386439 obverse:9</a></span></td><td class=\"tf\"><span class=\"plain outer   hl\" ><span class=\"plain txto \"></span><span class=\"plain     \" ><span class=\"plain txto \"></span><span class=\"plain     hlbx\" ><span class=\"txto\">{iri}</span></span></span><span class=\"plain     \" ><span class=\"txto\">ra-</span></span><span class=\"plain     \" ><span class=\"txto\">ha-</span></span><span class=\"plain     \" ><span class=\"txto\">bi</span></span><span class=\"plain     \" ><span class=\"plain txto \"></span><span class=\"plain     hlbx\" ><span class=\"txto\">{ki}</span></span></span></span></td><td class=\"tf\"><span class=\"plain outer   hlbx\" ><span class=\"txto\">{iri}</span></span></td><td class=\"tf\"><span class=\"plain outer   hlbx\" ><span class=\"txto\">{ki}</span></span></td></tr>\n",
       "<tr class=\"tf\"><td class=\"tf\">21</td><td class=\"tf\"><span class=\"section ltr\"><a target=\"_blank\" href=\"https://cdli.ucla.edu/search/search_results.php?SearchMode=Text&amp;ObjectID=P387297\" title=\"Show this document on CDLI\" sec=\"P387297 reverse:2\">P387297 reverse:2</a></span></td><td class=\"tf\"><span class=\"plain outer   hl\" ><span class=\"plain txto \"></span><span class=\"plain     \" ><span class=\"plain txto \"></span><span class=\"plain     hlbx\" ><span class=\"txto\">{d}</span></span></span><span class=\"plain     \" ><span class=\"txto\">suen-</span></span><span class=\"plain     \" ><span class=\"txto\">ri-</span></span><span class=\"plain     \" ><span class=\"txto\">im-</span></span><span class=\"plain     \" ><span class=\"txto\">uri2</span></span><span class=\"plain     \" ><span class=\"plain txto \"></span><span class=\"plain     hlbx\" ><span class=\"txto\">{ki}</span></span></span></span></td><td class=\"tf\"><span class=\"plain outer   hlbx\" ><span class=\"txto\">{d}</span></span></td><td class=\"tf\"><span class=\"plain outer   hlbx\" ><span class=\"txto\">{ki}</span></span></td></tr>\n",
       "<tr class=\"tf\"><td class=\"tf\">22</td><td class=\"tf\"><span class=\"section ltr\"><a target=\"_blank\" href=\"https://cdli.ucla.edu/search/search_results.php?SearchMode=Text&amp;ObjectID=P387309\" title=\"Show this document on CDLI\" sec=\"P387309 obverse:5\">P387309 obverse:5</a></span></td><td class=\"tf\"><span class=\"plain outer   hl\" ><span class=\"plain txto \"></span><span class=\"plain     \" ><span class=\"plain txto \"></span><span class=\"plain     hlbx\" ><span class=\"txto\">{iri}</span></span></span><span class=\"plain     \" ><span class=\"txto\">tu-</span></span><span class=\"plain     \" ><span class=\"txto\">ur-</span></span><span class=\"plain     \" ><span class=\"plain txto \"></span><span class=\"plain     \" ><span class=\"txto\">{d}</span></span></span><span class=\"plain     \" ><span class=\"txto\">u3-</span></span><span class=\"plain     \" ><span class=\"txto\">gul-</span></span><span class=\"plain     \" ><span class=\"txto\">la2!</span></span><span class=\"plain     \" ><span class=\"plain txto \"></span><span class=\"plain     hlbx\" ><span class=\"txto\">{ki#}</span></span></span></span></td><td class=\"tf\"><span class=\"plain outer   hlbx\" ><span class=\"txto\">{iri}</span></span></td><td class=\"tf\"><span class=\"plain outer   hlbx\" ><span class=\"txto\">{ki#}</span></span></td></tr>\n",
       "<tr class=\"tf\"><td class=\"tf\">23</td><td class=\"tf\"><span class=\"section ltr\"><a target=\"_blank\" href=\"https://cdli.ucla.edu/search/search_results.php?SearchMode=Text&amp;ObjectID=P372944\" title=\"Show this document on CDLI\" sec=\"P372944 reverse:9\">P372944 reverse:9</a></span></td><td class=\"tf\"><span class=\"plain outer   hl\" ><span class=\"plain txto \"></span><span class=\"plain     \" ><span class=\"plain txto \"></span><span class=\"plain     hlbx\" ><span class=\"txto\">{iri}</span></span></span><span class=\"plain     \" ><span class=\"txto\">ku-</span></span><span class=\"plain     \" ><span class=\"txto\">ma-</span></span><span class=\"plain     \" ><span class=\"txto\">ta-</span></span><span class=\"plain     \" ><span class=\"txto\">ni</span></span><span class=\"plain     \" ><span class=\"plain txto \"></span><span class=\"plain     hlbx\" ><span class=\"txto\">{ki} </span></span></span></span></td><td class=\"tf\"><span class=\"plain outer   hlbx\" ><span class=\"txto\">{iri}</span></span></td><td class=\"tf\"><span class=\"plain outer   hlbx\" ><span class=\"txto\">{ki} </span></span></td></tr>\n",
       "<tr class=\"tf\"><td class=\"tf\">24</td><td class=\"tf\"><span class=\"section ltr\"><a target=\"_blank\" href=\"https://cdli.ucla.edu/search/search_results.php?SearchMode=Text&amp;ObjectID=P372968\" title=\"Show this document on CDLI\" sec=\"P372968 obverse:8\">P372968 obverse:8</a></span></td><td class=\"tf\"><span class=\"plain outer   hl\" ><span class=\"plain txto \"></span><span class=\"plain     \" ><span class=\"plain txto \"></span><span class=\"plain     hlbx\" ><span class=\"txto\">{d}</span></span></span><span class=\"plain     \" ><span class=\"txto\">za-</span></span><span class=\"plain     \" ><span class=\"txto\">ba4-</span></span><span class=\"plain     \" ><span class=\"txto\">ba4</span></span><span class=\"plain     \" ><span class=\"plain txto \"></span><span class=\"plain     hlbx\" ><span class=\"txto\">{ki}</span></span></span></span></td><td class=\"tf\"><span class=\"plain outer   hlbx\" ><span class=\"txto\">{d}</span></span></td><td class=\"tf\"><span class=\"plain outer   hlbx\" ><span class=\"txto\">{ki}</span></span></td></tr>\n",
       "<tr class=\"tf\"><td class=\"tf\">25</td><td class=\"tf\"><span class=\"section ltr\"><a target=\"_blank\" href=\"https://cdli.ucla.edu/search/search_results.php?SearchMode=Text&amp;ObjectID=P372997\" title=\"Show this document on CDLI\" sec=\"P372997 obverse:2\">P372997 obverse:2</a></span></td><td class=\"tf\"><span class=\"plain outer   hl\" ><span class=\"plain txto \"></span><span class=\"plain     \" ><span class=\"plain txto \"></span><span class=\"plain     hlbx\" ><span class=\"txto\">{iri}</span></span></span><span class=\"plain     \" ><span class=\"txto\">BU-</span></span><span class=\"plain     \" ><span class=\"txto\">lum</span></span><span class=\"plain     \" ><span class=\"plain txto \"></span><span class=\"plain     hlbx\" ><span class=\"txto\">{ki}</span></span></span></span></td><td class=\"tf\"><span class=\"plain outer   hlbx\" ><span class=\"txto\">{iri}</span></span></td><td class=\"tf\"><span class=\"plain outer   hlbx\" ><span class=\"txto\">{ki}</span></span></td></tr>\n",
       "<tr class=\"tf\"><td class=\"tf\">26</td><td class=\"tf\"><span class=\"section ltr\"><a target=\"_blank\" href=\"https://cdli.ucla.edu/search/search_results.php?SearchMode=Text&amp;ObjectID=P373000\" title=\"Show this document on CDLI\" sec=\"P373000 obverse:8\">P373000 obverse:8</a></span></td><td class=\"tf\"><span class=\"plain outer   hl\" ><span class=\"plain txto \"></span><span class=\"plain     \" ><span class=\"plain txto \"></span><span class=\"plain     hlbx\" ><span class=\"txto\">{iri}</span></span></span><span class=\"plain     \" ><span class=\"txto\">ra-</span></span><span class=\"plain     \" ><span class=\"txto\">ha-</span></span><span class=\"plain     \" ><span class=\"txto\">bu-</span></span><span class=\"plain     \" ><span class=\"txto\">um</span></span><span class=\"plain     \" ><span class=\"plain txto \"></span><span class=\"plain     hlbx\" ><span class=\"txto\">{ki}</span></span></span></span></td><td class=\"tf\"><span class=\"plain outer   hlbx\" ><span class=\"txto\">{iri}</span></span></td><td class=\"tf\"><span class=\"plain outer   hlbx\" ><span class=\"txto\">{ki}</span></span></td></tr>\n",
       "<tr class=\"tf\"><td class=\"tf\">27</td><td class=\"tf\"><span class=\"section ltr\"><a target=\"_blank\" href=\"https://cdli.ucla.edu/search/search_results.php?SearchMode=Text&amp;ObjectID=P373000\" title=\"Show this document on CDLI\" sec=\"P373000 reverse:2\">P373000 reverse:2</a></span></td><td class=\"tf\"><span class=\"plain outer   hl\" ><span class=\"plain txto \"></span><span class=\"plain     \" ><span class=\"plain txto \"></span><span class=\"plain     hlbx\" ><span class=\"txto\">{iri}</span></span></span><span class=\"plain     \" ><span class=\"txto\">ra-</span></span><span class=\"plain     \" ><span class=\"txto\">ha-</span></span><span class=\"plain     \" ><span class=\"txto\">bu</span></span><span class=\"plain     \" ><span class=\"plain txto \"></span><span class=\"plain     hlbx\" ><span class=\"txto\">{ki}</span></span></span></span></td><td class=\"tf\"><span class=\"plain outer   hlbx\" ><span class=\"txto\">{iri}</span></span></td><td class=\"tf\"><span class=\"plain outer   hlbx\" ><span class=\"txto\">{ki}</span></span></td></tr>\n",
       "<tr class=\"tf\"><td class=\"tf\">28</td><td class=\"tf\"><span class=\"section ltr\"><a target=\"_blank\" href=\"https://cdli.ucla.edu/search/search_results.php?SearchMode=Text&amp;ObjectID=P307174\" title=\"Show this document on CDLI\" sec=\"P307174 reverse:10\">P307174 reverse:10</a></span></td><td class=\"tf\"><span class=\"plain outer   hl\" ><span class=\"plain txto \"></span><span class=\"plain     \" ><span class=\"plain txto \"></span><span class=\"plain     \" ><span class=\"plain txto \"></span><span class=\"plain     hlbx\" ><span class=\"txto\">_{lu2}</span></span></span><span class=\"plain     \" ><span class=\"txto\">sig4</span></span><span class=\"plain     \" ><span class=\"plain txto \"></span><span class=\"plain     hlbx\" ><span class=\"txto\">{ki}_ </span></span></span></span></span></td><td class=\"tf\"><span class=\"plain outer   hlbx\" ><span class=\"txto\">_{lu2}</span></span></td><td class=\"tf\"><span class=\"plain outer   hlbx\" ><span class=\"txto\">{ki}_ </span></span></td></tr>\n",
       "<tr class=\"tf\"><td class=\"tf\">29</td><td class=\"tf\"><span class=\"section ltr\"><a target=\"_blank\" href=\"https://cdli.ucla.edu/search/search_results.php?SearchMode=Text&amp;ObjectID=P307174\" title=\"Show this document on CDLI\" sec=\"P307174 reverse:11\">P307174 reverse:11</a></span></td><td class=\"tf\"><span class=\"plain outer   hl\" ><span class=\"plain txto \"></span><span class=\"plain     \" ><span class=\"plain txto \"></span><span class=\"plain     \" ><span class=\"plain txto \"></span><span class=\"plain     hlbx\" ><span class=\"txto\">_{lu2#}</span></span></span><span class=\"plain     \" ><span class=\"txto\">sig4#</span></span><span class=\"plain     \" ><span class=\"plain txto \"></span><span class=\"plain     hlbx\" ><span class=\"txto\">{ki}_ </span></span></span></span></span></td><td class=\"tf\"><span class=\"plain outer   hlbx\" ><span class=\"txto\">_{lu2#}</span></span></td><td class=\"tf\"><span class=\"plain outer   hlbx\" ><span class=\"txto\">{ki}_ </span></span></td></tr>\n",
       "<tr class=\"tf\"><td class=\"tf\">30</td><td class=\"tf\"><span class=\"section ltr\"><a target=\"_blank\" href=\"https://cdli.ucla.edu/search/search_results.php?SearchMode=Text&amp;ObjectID=P305823\" title=\"Show this document on CDLI\" sec=\"P305823 obverse:11\">P305823 obverse:11</a></span></td><td class=\"tf\"><span class=\"plain outer   hl\" ><span class=\"plain txto \"></span><span class=\"plain     \" ><span class=\"plain txto \"></span><span class=\"plain     hlbx\" ><span class=\"txto\">{iri}</span></span></span><span class=\"plain     \" ><span class=\"txto\">ma-</span></span><span class=\"plain     \" ><span class=\"txto\">nu-</span></span><span class=\"plain     \" ><span class=\"txto\">um</span></span><span class=\"plain     \" ><span class=\"plain txto \"></span><span class=\"plain     hlbx\" ><span class=\"txto\">{ki}</span></span></span></span></td><td class=\"tf\"><span class=\"plain outer   hlbx\" ><span class=\"txto\">{iri}</span></span></td><td class=\"tf\"><span class=\"plain outer   hlbx\" ><span class=\"txto\">{ki}</span></span></td></tr>\n",
       "<tr class=\"tf\"><td class=\"tf\">31</td><td class=\"tf\"><span class=\"section ltr\"><a target=\"_blank\" href=\"https://cdli.ucla.edu/search/search_results.php?SearchMode=Text&amp;ObjectID=P296050\" title=\"Show this document on CDLI\" sec=\"P296050 obverse:9\">P296050 obverse:9</a></span></td><td class=\"tf\"><span class=\"plain outer   hl\" ><span class=\"plain txto \"></span><span class=\"plain     \" ><span class=\"plain txto \"></span><span class=\"plain     hlbx\" ><span class=\"txto\">{disz}</span></span></span><span class=\"plain     \" ><span class=\"txto\">li-</span></span><span class=\"plain     \" ><span class=\"txto\">wi-</span></span><span class=\"plain     \" ><span class=\"txto\">ir-</span></span><span class=\"plain     \" ><span class=\"plain txto \"></span><span class=\"plain     \" ><span class=\"txto\">_ka2-</span></span><span class=\"plain     \" ><span class=\"txto\">dingir-</span></span><span class=\"plain     \" ><span class=\"txto\">ra</span></span><span class=\"plain     \" ><span class=\"plain txto \"></span><span class=\"plain     hlbx\" ><span class=\"txto\">{ki}_</span></span></span></span></span></td><td class=\"tf\"><span class=\"plain outer   hlbx\" ><span class=\"txto\">{disz}</span></span></td><td class=\"tf\"><span class=\"plain outer   hlbx\" ><span class=\"txto\">{ki}_</span></span></td></tr></table>"
      ],
      "text/plain": [
       "<IPython.core.display.HTML object>"
      ]
     },
     "metadata": {},
     "output_type": "display_data"
    }
   ],
   "source": [
    "resultsBoth1 = []\n",
    "for w in sorted(wordsBoth):\n",
    "  signs = L.d(w, otype='sign')\n",
    "  first = signs[0]\n",
    "  last = signs[-1]\n",
    "  resultsBoth1.append((w, first, last))\n",
    "A.table(resultsBoth1)"
   ]
  },
  {
   "cell_type": "markdown",
   "metadata": {},
   "source": [
    "### Modified query\n",
    "\n",
    "We show these cases by means of a third query:"
   ]
  },
  {
   "cell_type": "code",
   "execution_count": 23,
   "metadata": {},
   "outputs": [],
   "source": [
    "queryBoth = f'''\n",
    "word\n",
    "  =: sign det reading={detStartCriterion}\n",
    "  sign det reading={detEndCriterion}\n",
    "  :=\n",
    "'''"
   ]
  },
  {
   "cell_type": "markdown",
   "metadata": {},
   "source": [
    "Note that we do not say:\n",
    "\n",
    "```python\n",
    "queryBoth = f'''\n",
    "word\n",
    "  =: sign det reading={detStartCriterion}\n",
    "  := sign det reading={detEndCriterion}\n",
    "'''\n",
    "```\n",
    "\n",
    "The meaning of this would be that the second sign ends at the same place as the first sign ends.\n",
    "\n",
    "But we want that the second sign ends at the same place as the word ends.\n",
    "\n",
    "The way to achieve that, is to place the `:=` after the second sign on a line of its own.\n",
    "\n",
    "The lonely relation symbol on such a last line holds between the preceding atom (the second sign here)\n",
    "and the latest embedder (the word here)."
   ]
  },
  {
   "cell_type": "code",
   "execution_count": 24,
   "metadata": {},
   "outputs": [
    {
     "name": "stdout",
     "output_type": "stream",
     "text": [
      "  0.34s 31 results\n"
     ]
    }
   ],
   "source": [
    "resultsBoth2 = A.search(queryBoth)"
   ]
  },
  {
   "cell_type": "code",
   "execution_count": 25,
   "metadata": {},
   "outputs": [
    {
     "data": {
      "text/plain": [
       "True"
      ]
     },
     "execution_count": 25,
     "metadata": {},
     "output_type": "execute_result"
    }
   ],
   "source": [
    "resultsBoth1 == resultsBoth2"
   ]
  },
  {
   "cell_type": "markdown",
   "metadata": {},
   "source": [
    "Equal results."
   ]
  },
  {
   "cell_type": "markdown",
   "metadata": {},
   "source": [
    "# Noun compilation\n",
    "\n",
    "We want to compile a list of nouns found in this way:\n",
    "we take all words that have a specified start determiner at the start or a specified end determiner at the end (or both).\n",
    "\n",
    "From all those words, we strip the start and/or end determiners. \n",
    "What remains, we store in a dictionary, with the form as key, and the word nodes that exhibit that form as value.\n",
    "\n",
    "When we compute the form, we pick the basic info of a sign, not the full atf with flags and brackets.\n",
    "\n",
    "Looking at the\n",
    "[feature documentation, section Text-Formats](https://github.com/Nino-cunei/oldbabylonian/blob/master/docs//transcription.md#text-formats), \n",
    "we choose `text-orig-rich` for our representation."
   ]
  },
  {
   "cell_type": "code",
   "execution_count": 26,
   "metadata": {},
   "outputs": [
    {
     "name": "stdout",
     "output_type": "stream",
     "text": [
      "1604 distinct plain words\n"
     ]
    }
   ],
   "source": [
    "nouns = collections.defaultdict(list)\n",
    "\n",
    "for (w, s) in resultsStart + resultsEnd:\n",
    "  signs = L.d(w, otype='sign')\n",
    "  isDetStart = F.det.v(signs[0])\n",
    "  isDetEnd = F.det.v(signs[-1])\n",
    "  # strip determiners\n",
    "  nounSigns = signs[(1 if isDetStart else 0):(-1 if isDetEnd else len(signs))]\n",
    "  \n",
    "  noun = T.text(nounSigns, fmt='text-orig-rich').strip()\n",
    "  \n",
    "  nouns[noun].append(w)\n",
    "  \n",
    "print(f'{len(nouns)} distinct plain words')  "
   ]
  },
  {
   "cell_type": "markdown",
   "metadata": {},
   "source": [
    "We show a frequency list of the top 20 plain words:"
   ]
  },
  {
   "cell_type": "code",
   "execution_count": 27,
   "metadata": {},
   "outputs": [
    {
     "name": "stdout",
     "output_type": "stream",
     "text": [
      "1  utu                   776 x\n",
      "2  marduk                626 x\n",
      "3  babila₂⁼              180 x\n",
      "4  zimbir⁼               154 x\n",
      "5  suen-i-din-nam        114 x\n",
      "6  ma₂                    47 x\n",
      "7  utu-ha-zi-ir           41 x\n",
      "8  iri⁼                   39 x\n",
      "9  kiri₆                  39 x\n",
      "10 x                      36 x\n",
      "11 larsa⁼                 31 x\n",
      "12 ban₂                   29 x\n",
      "13 inanna                 27 x\n",
      "14 ka₂-dingir-ra⁼         24 x\n",
      "15 d⁼suen-i-din-nam       23 x\n",
      "16 na-bi-um-at-pa-lam     23 x\n",
      "17 kiš⁼                   21 x\n",
      "18 suen-i-di₂-nam         20 x\n",
      "19 marduk-na-ṣi-ir        19 x\n",
      "20 marduk-mu-ša-lim-ma    17 x\n"
     ]
    }
   ],
   "source": [
    "showLimit = 20\n",
    "\n",
    "for (i, (noun, ws)) in enumerate(sorted(\n",
    "  nouns.items(),\n",
    "  key=freqKeyL,\n",
    ")[0:showLimit]):\n",
    "  print(f'{i + 1:<2} {noun:<20} {len(ws):>4} x')"
   ]
  },
  {
   "cell_type": "markdown",
   "metadata": {},
   "source": [
    "Note noun 15: it starts with a determiner! Why hasn't it be stripped?\n",
    "\n",
    "We'll have a closer look and make a table of examples-with-context of the top 20 plain words.\n",
    "\n",
    "We recompute the signs to be stripped away and color them red and green.\n",
    "The remaining parts of the words we color yellow."
   ]
  },
  {
   "cell_type": "code",
   "execution_count": 28,
   "metadata": {},
   "outputs": [],
   "source": [
    "highlights = {}\n",
    "nounExamples = []\n",
    "\n",
    "for (noun, ws) in sorted(\n",
    "  nouns.items(),\n",
    "  key=freqKeyL,\n",
    ")[0:showLimit]:\n",
    "  w = ws[0]\n",
    "  \n",
    "  # get to the signs and study the determiners\n",
    "  \n",
    "  signs = L.d(w, otype='sign')\n",
    "  isDetStart = F.det.v(signs[0])\n",
    "  isDetEnd = F.det.v(signs[-1])\n",
    "  nounSigns = signs[(1 if isDetStart else 0):(-1 if isDetEnd else len(signs))]\n",
    "  \n",
    "  # add nodes for highlighting\n",
    "  \n",
    "  if isDetStart:\n",
    "    highlights[signs[0]] = 'red'\n",
    "  if isDetEnd:\n",
    "    highlights[signs[-1]] = 'lightgreen'\n",
    "  for ns in nounSigns:\n",
    "    highlights[ns] = 'yellow'\n",
    "    \n",
    "  # end highlighting\n",
    "\n",
    "  line = L.u(w, otype='line')[0]\n",
    "  nounExamples.append((line, w))"
   ]
  },
  {
   "cell_type": "code",
   "execution_count": 29,
   "metadata": {},
   "outputs": [
    {
     "data": {
      "text/html": [
       "<table><tr class=\"tf\"><th class=\"tf\">n</th><th class=\"tf\">p</th><th class=\"tf\">line</th><th class=\"tf\">word</th></tr>\n",
       "<tr class=\"tf\"><td class=\"tf\">1</td><td class=\"tf\"><span class=\"section ltr\"><a target=\"_blank\" href=\"https://cdli.ucla.edu/search/search_results.php?SearchMode=Text&amp;ObjectID=P509373\" title=\"Show this document on CDLI\" sec=\"P509373 obverse:4\">P509373 obverse:4</a></span></td><td class=\"tf\"><span class=\"plain outer   \" ><span class=\"plain txto \"></span><span class=\"plain     hl\" ><span class=\"plain txto \"></span><span class=\"plain     \" ><span class=\"plain txto \"></span><span class=\"plain     \" ><span class=\"plain txto \"></span><span class=\"plain     hlbx\"  style=\"border-color: red;\" ><span class=\"txto\">_{d}</span></span></span><span class=\"plain     hlbx\"  style=\"border-color: yellow;\" ><span class=\"txto\">utu_ </span></span></span></span><span class=\"plain     \" ><span class=\"plain txto \"></span><span class=\"plain     \" ><span class=\"txto\">u3 </span></span></span><span class=\"plain     \" ><span class=\"plain txto \"></span><span class=\"plain     \" ><span class=\"plain txto \"></span><span class=\"plain     \" ><span class=\"plain txto \"></span><span class=\"plain     hlbx\"  style=\"border-color: red;\" ><span class=\"txto\">_{d}</span></span></span><span class=\"plain     \" ><span class=\"plain txto \"></span><span class=\"plain     hlbx\"  style=\"border-color: yellow;\" ><span class=\"txto\">[marduk]_ </span></span></span></span></span><span class=\"plain     \" ><span class=\"plain txto \"></span><span class=\"plain     \" ><span class=\"txto\">a-</span></span><span class=\"plain     \" ><span class=\"txto\">na </span></span></span><span class=\"plain     \" ><span class=\"plain txto \"></span><span class=\"plain     \" ><span class=\"txto\">da-</span></span><span class=\"plain     \" ><span class=\"txto\">ri-</span></span><span class=\"plain     \" ><span class=\"txto\">a-</span></span><span class=\"plain     \" ><span class=\"plain txto \"></span><span class=\"plain     \" ><span class=\"txto\">[tim]</span></span></span></span></span></td><td class=\"tf\"><span class=\"plain outer   hl\" ><span class=\"plain txto \"></span><span class=\"plain     \" ><span class=\"plain txto \"></span><span class=\"plain     \" ><span class=\"plain txto \"></span><span class=\"plain     hlbx\"  style=\"border-color: red;\" ><span class=\"txto\">_{d}</span></span></span><span class=\"plain     hlbx\"  style=\"border-color: yellow;\" ><span class=\"txto\">utu_ </span></span></span></span></td></tr>\n",
       "<tr class=\"tf\"><td class=\"tf\">2</td><td class=\"tf\"><span class=\"section ltr\"><a target=\"_blank\" href=\"https://cdli.ucla.edu/search/search_results.php?SearchMode=Text&amp;ObjectID=P509373\" title=\"Show this document on CDLI\" sec=\"P509373 obverse:4\">P509373 obverse:4</a></span></td><td class=\"tf\"><span class=\"plain outer   \" ><span class=\"plain txto \"></span><span class=\"plain     \" ><span class=\"plain txto \"></span><span class=\"plain     \" ><span class=\"plain txto \"></span><span class=\"plain     \" ><span class=\"plain txto \"></span><span class=\"plain     hlbx\"  style=\"border-color: red;\" ><span class=\"txto\">_{d}</span></span></span><span class=\"plain     hlbx\"  style=\"border-color: yellow;\" ><span class=\"txto\">utu_ </span></span></span></span><span class=\"plain     \" ><span class=\"plain txto \"></span><span class=\"plain     \" ><span class=\"txto\">u3 </span></span></span><span class=\"plain     hl\" ><span class=\"plain txto \"></span><span class=\"plain     \" ><span class=\"plain txto \"></span><span class=\"plain     \" ><span class=\"plain txto \"></span><span class=\"plain     hlbx\"  style=\"border-color: red;\" ><span class=\"txto\">_{d}</span></span></span><span class=\"plain     \" ><span class=\"plain txto \"></span><span class=\"plain     hlbx\"  style=\"border-color: yellow;\" ><span class=\"txto\">[marduk]_ </span></span></span></span></span><span class=\"plain     \" ><span class=\"plain txto \"></span><span class=\"plain     \" ><span class=\"txto\">a-</span></span><span class=\"plain     \" ><span class=\"txto\">na </span></span></span><span class=\"plain     \" ><span class=\"plain txto \"></span><span class=\"plain     \" ><span class=\"txto\">da-</span></span><span class=\"plain     \" ><span class=\"txto\">ri-</span></span><span class=\"plain     \" ><span class=\"txto\">a-</span></span><span class=\"plain     \" ><span class=\"plain txto \"></span><span class=\"plain     \" ><span class=\"txto\">[tim]</span></span></span></span></span></td><td class=\"tf\"><span class=\"plain outer   hl\" ><span class=\"plain txto \"></span><span class=\"plain     \" ><span class=\"plain txto \"></span><span class=\"plain     \" ><span class=\"plain txto \"></span><span class=\"plain     hlbx\"  style=\"border-color: red;\" ><span class=\"txto\">_{d}</span></span></span><span class=\"plain     \" ><span class=\"plain txto \"></span><span class=\"plain     hlbx\"  style=\"border-color: yellow;\" ><span class=\"txto\">[marduk]_ </span></span></span></span></span></td></tr>\n",
       "<tr class=\"tf\"><td class=\"tf\">3</td><td class=\"tf\"><span class=\"section ltr\"><a target=\"_blank\" href=\"https://cdli.ucla.edu/search/search_results.php?SearchMode=Text&amp;ObjectID=P509376\" title=\"Show this document on CDLI\" sec=\"P509376 obverse:7\">P509376 obverse:7</a></span></td><td class=\"tf\"><span class=\"plain outer   \" ><span class=\"plain txto \"></span><span class=\"plain     \" ><span class=\"plain txto \"></span><span class=\"plain     \" ><span class=\"plain txto \"></span><span class=\"plain     \" ><span class=\"txto\">{disz}</span></span></span><span class=\"plain     \" ><span class=\"txto\">na-</span></span><span class=\"plain     \" ><span class=\"txto\">bi-</span></span><span class=\"plain     \" ><span class=\"plain txto \"></span><span class=\"plain     \" ><span class=\"txto\">{d}</span></span></span><span class=\"plain     \" ><span class=\"txto\">suen </span></span></span><span class=\"plain     \" ><span class=\"plain txto \"></span><span class=\"plain     \" ><span class=\"txto\">a-</span></span><span class=\"plain     \" ><span class=\"txto\">na </span></span></span><span class=\"plain     hl\" ><span class=\"plain txto \"></span><span class=\"plain     hlbx\"  style=\"border-color: yellow;\" ><span class=\"txto\">babila2</span></span><span class=\"plain     \" ><span class=\"plain txto \"></span><span class=\"plain     hlbx\"  style=\"border-color: lightgreen;\" ><span class=\"txto\">{ki} </span></span></span></span><span class=\"plain     \" ><span class=\"plain txto \"></span><span class=\"plain     \" ><span class=\"txto\">i-</span></span><span class=\"plain     \" ><span class=\"txto\">li-</span></span><span class=\"plain     \" ><span class=\"txto\">a-</span></span><span class=\"plain     \" ><span class=\"txto\">am#-</span></span><span class=\"plain     \" ><span class=\"txto\">ma</span></span></span></span></td><td class=\"tf\"><span class=\"plain outer   hl\" ><span class=\"plain txto \"></span><span class=\"plain     hlbx\"  style=\"border-color: yellow;\" ><span class=\"txto\">babila2</span></span><span class=\"plain     \" ><span class=\"plain txto \"></span><span class=\"plain     hlbx\"  style=\"border-color: lightgreen;\" ><span class=\"txto\">{ki} </span></span></span></span></td></tr>\n",
       "<tr class=\"tf\"><td class=\"tf\">4</td><td class=\"tf\"><span class=\"section ltr\"><a target=\"_blank\" href=\"https://cdli.ucla.edu/search/search_results.php?SearchMode=Text&amp;ObjectID=P345569\" title=\"Show this document on CDLI\" sec=\"P345569 obverse:6\">P345569 obverse:6</a></span></td><td class=\"tf\"><span class=\"plain outer   \" ><span class=\"plain txto \"></span><span class=\"plain     \" ><span class=\"plain txto \"></span><span class=\"plain     \" ><span class=\"txto\">i-</span></span><span class=\"plain     \" ><span class=\"txto\">na </span></span></span><span class=\"plain     hl\" ><span class=\"plain txto \"></span><span class=\"plain     \" ><span class=\"plain txto \"></span><span class=\"plain     \" ><span class=\"plain txto \"></span><span class=\"plain     hlbx\"  style=\"border-color: red;\" ><span class=\"txto\">_{iri}</span></span></span><span class=\"plain     hlbx\"  style=\"border-color: yellow;\" ><span class=\"txto\">zimbir</span></span><span class=\"plain     \" ><span class=\"plain txto \"></span><span class=\"plain     hlbx\"  style=\"border-color: lightgreen;\" ><span class=\"txto\">{ki}_ </span></span></span></span></span><span class=\"plain     \" ><span class=\"plain txto \"></span><span class=\"plain     \" ><span class=\"txto\">ni-</span></span><span class=\"plain     \" ><span class=\"txto\">in-</span></span><span class=\"plain     \" ><span class=\"txto\">na-</span></span><span class=\"plain     \" ><span class=\"txto\">am-</span></span><span class=\"plain     \" ><span class=\"txto\">ru</span></span></span></span></td><td class=\"tf\"><span class=\"plain outer   hl\" ><span class=\"plain txto \"></span><span class=\"plain     \" ><span class=\"plain txto \"></span><span class=\"plain     \" ><span class=\"plain txto \"></span><span class=\"plain     hlbx\"  style=\"border-color: red;\" ><span class=\"txto\">_{iri}</span></span></span><span class=\"plain     hlbx\"  style=\"border-color: yellow;\" ><span class=\"txto\">zimbir</span></span><span class=\"plain     \" ><span class=\"plain txto \"></span><span class=\"plain     hlbx\"  style=\"border-color: lightgreen;\" ><span class=\"txto\">{ki}_ </span></span></span></span></span></td></tr>\n",
       "<tr class=\"tf\"><td class=\"tf\">5</td><td class=\"tf\"><span class=\"section ltr\"><a target=\"_blank\" href=\"https://cdli.ucla.edu/search/search_results.php?SearchMode=Text&amp;ObjectID=P509373\" title=\"Show this document on CDLI\" sec=\"P509373 obverse:1\">P509373 obverse:1</a></span></td><td class=\"tf\"><span class=\"plain outer   \" ><span class=\"plain txto \"></span><span class=\"plain     \" ><span class=\"plain txto \"></span><span class=\"plain     \" ><span class=\"plain txto \"></span><span class=\"plain     \" ><span class=\"txto\">[a-</span></span><span class=\"plain     \" ><span class=\"txto\">na] </span></span></span></span><span class=\"plain     hl\" ><span class=\"plain txto \"></span><span class=\"plain     \" ><span class=\"plain txto \"></span><span class=\"plain     \" ><span class=\"plain txto \"></span><span class=\"plain     hlbx\"  style=\"border-color: red;\" ><span class=\"txto\">_{d}</span></span></span><span class=\"plain     hlbx\"  style=\"border-color: yellow;\" ><span class=\"txto\">suen_-</span></span></span><span class=\"plain     hlbx\"  style=\"border-color: yellow;\" ><span class=\"txto\">i-</span></span><span class=\"plain     \" ><span class=\"plain txto \"></span><span class=\"plain     hlbx\"  style=\"border-color: yellow;\" ><span class=\"txto\">[din-</span></span><span class=\"plain     hlbx\"  style=\"border-color: yellow;\" ><span class=\"txto\">nam]</span></span></span></span></span></td><td class=\"tf\"><span class=\"plain outer   hl\" ><span class=\"plain txto \"></span><span class=\"plain     \" ><span class=\"plain txto \"></span><span class=\"plain     \" ><span class=\"plain txto \"></span><span class=\"plain     hlbx\"  style=\"border-color: red;\" ><span class=\"txto\">_{d}</span></span></span><span class=\"plain     hlbx\"  style=\"border-color: yellow;\" ><span class=\"txto\">suen_-</span></span></span><span class=\"plain     hlbx\"  style=\"border-color: yellow;\" ><span class=\"txto\">i-</span></span><span class=\"plain     \" ><span class=\"plain txto \"></span><span class=\"plain     hlbx\"  style=\"border-color: yellow;\" ><span class=\"txto\">[din-</span></span><span class=\"plain     hlbx\"  style=\"border-color: yellow;\" ><span class=\"txto\">nam]</span></span></span></span></td></tr>\n",
       "<tr class=\"tf\"><td class=\"tf\">6</td><td class=\"tf\"><span class=\"section ltr\"><a target=\"_blank\" href=\"https://cdli.ucla.edu/search/search_results.php?SearchMode=Text&amp;ObjectID=P510546\" title=\"Show this document on CDLI\" sec=\"P510546 obverse:10\">P510546 obverse:10</a></span></td><td class=\"tf\"><span class=\"plain outer   \" ><span class=\"plain txto \"></span><span class=\"plain     \" ><span class=\"plain txto \"></span><span class=\"plain     \" ><span class=\"txto\">_1(disz) </span></span><span class=\"plain     \" ><span class=\"plain txto \"></span><span class=\"plain     hlbx\"  style=\"border-color: red;\" ><span class=\"txto\">{gesz}</span></span></span><span class=\"plain     hlbx\"  style=\"border-color: yellow;\" ><span class=\"txto\">ma2_ </span></span></span><span class=\"plain     \" ><span class=\"plain txto \"></span><span class=\"plain     \" ><span class=\"txto\">u3 </span></span></span><span class=\"plain     \" ><span class=\"plain txto \"></span><span class=\"plain     \" ><span class=\"txto\">_1(u) </span></span><span class=\"plain     \" ><span class=\"txto\">erin2_-</span></span></span><span class=\"plain     \" ><span class=\"plain txto \"></span><span class=\"plain     \" ><span class=\"txto\">am</span></span></span></span></td><td class=\"tf\"><span class=\"plain outer   hl\" ><span class=\"plain txto \"></span><span class=\"plain   lno  \" ><span class=\"plain txto \"></span><span class=\"plain     \" ><span class=\"plain txto \"></span><span class=\"plain     hlbx\"  style=\"border-color: red;\" ><span class=\"txto\">{gesz}</span></span></span><span class=\"plain     hlbx\"  style=\"border-color: yellow;\" ><span class=\"txto\">ma2_ </span></span></span></span></td></tr>\n",
       "<tr class=\"tf\"><td class=\"tf\">7</td><td class=\"tf\"><span class=\"section ltr\"><a target=\"_blank\" href=\"https://cdli.ucla.edu/search/search_results.php?SearchMode=Text&amp;ObjectID=P509373\" title=\"Show this document on CDLI\" sec=\"P509373 obverse:11\">P509373 obverse:11</a></span></td><td class=\"tf\"><span class=\"plain outer   \" ><span class=\"plain txto \"></span><span class=\"plain     \" ><span class=\"plain txto \"></span><span class=\"plain     \" ><span class=\"txto\">sza </span></span></span><span class=\"plain     hl\" ><span class=\"plain txto \"></span><span class=\"plain     \" ><span class=\"plain txto \"></span><span class=\"plain     \" ><span class=\"plain txto \"></span><span class=\"plain     hlbx\"  style=\"border-color: red;\" ><span class=\"txto\">_{d}</span></span></span><span class=\"plain     hlbx\"  style=\"border-color: yellow;\" ><span class=\"txto\">utu_-</span></span></span><span class=\"plain     hlbx\"  style=\"border-color: yellow;\" ><span class=\"txto\">ha-</span></span><span class=\"plain     hlbx\"  style=\"border-color: yellow;\" ><span class=\"txto\">zi-</span></span><span class=\"plain     \" ><span class=\"plain txto \"></span><span class=\"plain     hlbx\"  style=\"border-color: yellow;\" ><span class=\"txto\">[ir] </span></span></span></span><span class=\"plain     \" ><span class=\"plain txto \"></span><span class=\"plain     \" ><span class=\"txto\">isz-</span></span><span class=\"plain     \" ><span class=\"txto\">tu </span></span></span><span class=\"plain     \" ><span class=\"plain txto \"></span><span class=\"plain     \" ><span class=\"txto\">_mu </span></span><span class=\"plain     \" ><span class=\"txto\">7(disz) </span></span><span class=\"plain     \" ><span class=\"txto\">kam_ </span></span></span><span class=\"plain     \" ><span class=\"plain txto \"></span><span class=\"plain     \" ><span class=\"txto\">id-</span></span><span class=\"plain     \" ><span class=\"txto\">di-</span></span><span class=\"plain     \" ><span class=\"txto\">nu-</span></span><span class=\"plain     \" ><span class=\"txto\">szum</span></span></span></span></td><td class=\"tf\"><span class=\"plain outer   hl\" ><span class=\"plain txto \"></span><span class=\"plain     \" ><span class=\"plain txto \"></span><span class=\"plain     \" ><span class=\"plain txto \"></span><span class=\"plain     hlbx\"  style=\"border-color: red;\" ><span class=\"txto\">_{d}</span></span></span><span class=\"plain     hlbx\"  style=\"border-color: yellow;\" ><span class=\"txto\">utu_-</span></span></span><span class=\"plain     hlbx\"  style=\"border-color: yellow;\" ><span class=\"txto\">ha-</span></span><span class=\"plain     hlbx\"  style=\"border-color: yellow;\" ><span class=\"txto\">zi-</span></span><span class=\"plain     \" ><span class=\"plain txto \"></span><span class=\"plain     hlbx\"  style=\"border-color: yellow;\" ><span class=\"txto\">[ir] </span></span></span></span></td></tr>\n",
       "<tr class=\"tf\"><td class=\"tf\">8</td><td class=\"tf\"><span class=\"section ltr\"><a target=\"_blank\" href=\"https://cdli.ucla.edu/search/search_results.php?SearchMode=Text&amp;ObjectID=P510534\" title=\"Show this document on CDLI\" sec=\"P510534 obverse:11\">P510534 obverse:11</a></span></td><td class=\"tf\"><span class=\"plain outer   \" ><span class=\"plain txto \"></span><span class=\"plain     \" ><span class=\"plain txto \"></span><span class=\"plain     \" ><span class=\"txto\">i-</span></span><span class=\"plain     \" ><span class=\"txto\">nu-</span></span><span class=\"plain     \" ><span class=\"txto\">ma </span></span></span><span class=\"plain     \" ><span class=\"plain txto \"></span><span class=\"plain     \" ><span class=\"plain txto \"></span><span class=\"plain     \" ><span class=\"txto\">_{gesz}</span></span></span><span class=\"plain     \" ><span class=\"txto\">apin </span></span><span class=\"plain     \" ><span class=\"txto\">hi-</span></span><span class=\"plain     \" ><span class=\"txto\">a_ </span></span></span><span class=\"plain     \" ><span class=\"plain txto \"></span><span class=\"plain     \" ><span class=\"txto\">sza </span></span></span><span class=\"plain     hl\" ><span class=\"plain txto \"></span><span class=\"plain     \" ><span class=\"plain txto \"></span><span class=\"plain     hlbx\"  style=\"border-color: yellow;\" ><span class=\"txto\">_iri</span></span><span class=\"plain     \" ><span class=\"plain txto \"></span><span class=\"plain     hlbx\"  style=\"border-color: lightgreen;\" ><span class=\"txto\">{ki}_ </span></span></span></span></span><span class=\"plain     \" ><span class=\"plain txto \"></span><span class=\"plain     \" ><span class=\"plain txto \"></span><span class=\"plain     \" ><span class=\"txto\">[(x) </span></span></span><span class=\"plain     \" ><span class=\"plain txto \"></span><span class=\"plain     \" ><span class=\"txto\">(x)]</span></span></span></span></span></td><td class=\"tf\"><span class=\"plain outer   hl\" ><span class=\"plain txto \"></span><span class=\"plain     \" ><span class=\"plain txto \"></span><span class=\"plain     hlbx\"  style=\"border-color: yellow;\" ><span class=\"txto\">_iri</span></span><span class=\"plain     \" ><span class=\"plain txto \"></span><span class=\"plain     hlbx\"  style=\"border-color: lightgreen;\" ><span class=\"txto\">{ki}_ </span></span></span></span></span></td></tr>\n",
       "<tr class=\"tf\"><td class=\"tf\">9</td><td class=\"tf\"><span class=\"section ltr\"><a target=\"_blank\" href=\"https://cdli.ucla.edu/search/search_results.php?SearchMode=Text&amp;ObjectID=P510762\" title=\"Show this document on CDLI\" sec=\"P510762 obverse:11\">P510762 obverse:11</a></span></td><td class=\"tf\"><span class=\"plain outer   \" ><span class=\"plain txto \"></span><span class=\"plain     \" ><span class=\"plain txto \"></span><span class=\"plain     \" ><span class=\"txto\">u3 </span></span></span><span class=\"plain     hl\" ><span class=\"plain txto \"></span><span class=\"plain     \" ><span class=\"plain txto \"></span><span class=\"plain     \" ><span class=\"plain txto \"></span><span class=\"plain     hlbx\"  style=\"border-color: red;\" ><span class=\"txto\">_{gesz}</span></span></span><span class=\"plain     hlbx\"  style=\"border-color: yellow;\" ><span class=\"txto\">kiri6_ </span></span></span></span><span class=\"plain     \" ><span class=\"plain txto \"></span><span class=\"plain     \" ><span class=\"txto\">e-</span></span><span class=\"plain     \" ><span class=\"txto\">tel-</span></span><span class=\"plain     \" ><span class=\"txto\">pi4-</span></span><span class=\"plain     \" ><span class=\"plain txto \"></span><span class=\"plain     \" ><span class=\"txto\">{d}</span></span></span><span class=\"plain     \" ><span class=\"txto\">marduk</span></span></span></span></td><td class=\"tf\"><span class=\"plain outer   hl\" ><span class=\"plain txto \"></span><span class=\"plain     \" ><span class=\"plain txto \"></span><span class=\"plain     \" ><span class=\"plain txto \"></span><span class=\"plain     hlbx\"  style=\"border-color: red;\" ><span class=\"txto\">_{gesz}</span></span></span><span class=\"plain     hlbx\"  style=\"border-color: yellow;\" ><span class=\"txto\">kiri6_ </span></span></span></span></td></tr>\n",
       "<tr class=\"tf\"><td class=\"tf\">10</td><td class=\"tf\"><span class=\"section ltr\"><a target=\"_blank\" href=\"https://cdli.ucla.edu/search/search_results.php?SearchMode=Text&amp;ObjectID=P481192\" title=\"Show this document on CDLI\" sec=\"P481192 obverse:6'\">P481192 obverse:6'</a></span></td><td class=\"tf\"><span class=\"plain outer   \" ><span class=\"plain txto \"></span><span class=\"plain     \" ><span class=\"plain txto \"></span><span class=\"plain     \" ><span class=\"txto\">szu-</span></span><span class=\"plain     \" ><span class=\"txto\">lum-</span></span><span class=\"plain     \" ><span class=\"txto\">ka </span></span></span><span class=\"plain     \" ><span class=\"plain txto \"></span><span class=\"plain     \" ><span class=\"txto\">ma-</span></span><span class=\"plain     \" ><span class=\"txto\">har </span></span></span><span class=\"plain     hl\" ><span class=\"plain txto \"></span><span class=\"plain     \" ><span class=\"plain txto \"></span><span class=\"plain     hlbx\"  style=\"border-color: red;\" ><span class=\"txto\">{d}</span></span></span><span class=\"plain    rno \" ><span class=\"plain txto \"></span><span class=\"plain     hlbx\"  style=\"border-color: yellow;\" ><span class=\"txto\">[x </span></span></span></span><span class=\"plain     \" ><span class=\"plain txto \"></span><span class=\"plain     \" ><span class=\"txto\">u3] </span></span></span><span class=\"plain     \" ><span class=\"plain txto \"></span><span class=\"plain     \" ><span class=\"plain txto \"></span><span class=\"plain     \" ><span class=\"txto\">{d}</span></span></span><span class=\"plain    rno \" ><span class=\"plain txto \"></span><span class=\"plain     \" ><span class=\"txto\">[x </span></span></span></span><span class=\"plain     \" ><span class=\"plain txto \"></span><span class=\"plain     \" ><span class=\"txto\">lu </span></span><span class=\"plain     \" ><span class=\"txto\">da-</span></span><span class=\"plain     \" ><span class=\"txto\">ri]</span></span></span></span></td><td class=\"tf\"><span class=\"plain outer   hl\" ><span class=\"plain txto \"></span><span class=\"plain     \" ><span class=\"plain txto \"></span><span class=\"plain     hlbx\"  style=\"border-color: red;\" ><span class=\"txto\">{d}</span></span></span><span class=\"plain    rno \" ><span class=\"plain txto \"></span><span class=\"plain     hlbx\"  style=\"border-color: yellow;\" ><span class=\"txto\">[x </span></span></span></span></td></tr>\n",
       "<tr class=\"tf\"><td class=\"tf\">11</td><td class=\"tf\"><span class=\"section ltr\"><a target=\"_blank\" href=\"https://cdli.ucla.edu/search/search_results.php?SearchMode=Text&amp;ObjectID=P510592\" title=\"Show this document on CDLI\" sec=\"P510592 obverse:13\">P510592 obverse:13</a></span></td><td class=\"tf\"><span class=\"plain outer   \" ><span class=\"plain txto \"></span><span class=\"plain     \" ><span class=\"plain txto \"></span><span class=\"plain     \" ><span class=\"txto\">i-</span></span><span class=\"plain     \" ><span class=\"txto\">na </span></span></span><span class=\"plain     hl\" ><span class=\"plain txto \"></span><span class=\"plain     hlbx\"  style=\"border-color: yellow;\" ><span class=\"txto\">larsa</span></span><span class=\"plain     \" ><span class=\"plain txto \"></span><span class=\"plain     hlbx\"  style=\"border-color: lightgreen;\" ><span class=\"txto\">{ki}</span></span></span></span></span></td><td class=\"tf\"><span class=\"plain outer   hl\" ><span class=\"plain txto \"></span><span class=\"plain     hlbx\"  style=\"border-color: yellow;\" ><span class=\"txto\">larsa</span></span><span class=\"plain     \" ><span class=\"plain txto \"></span><span class=\"plain     hlbx\"  style=\"border-color: lightgreen;\" ><span class=\"txto\">{ki}</span></span></span></span></td></tr>\n",
       "<tr class=\"tf\"><td class=\"tf\">12</td><td class=\"tf\"><span class=\"section ltr\"><a target=\"_blank\" href=\"https://cdli.ucla.edu/search/search_results.php?SearchMode=Text&amp;ObjectID=P510556\" title=\"Show this document on CDLI\" sec=\"P510556 reverse:4\">P510556 reverse:4</a></span></td><td class=\"tf\"><span class=\"plain outer   \" ><span class=\"plain txto \"></span><span class=\"plain     \" ><span class=\"plain txto \"></span><span class=\"plain     \" ><span class=\"txto\">ib-</span></span><span class=\"plain     \" ><span class=\"txto\">ba-</span></span><span class=\"plain     \" ><span class=\"txto\">szu-</span></span><span class=\"plain     \" ><span class=\"txto\">u2 </span></span></span><span class=\"plain     \" ><span class=\"plain txto \"></span><span class=\"plain     \" ><span class=\"txto\">_5(gesz2) </span></span><span class=\"plain     \" ><span class=\"txto\">3(u) </span></span><span class=\"plain     \" ><span class=\"txto\">sze </span></span><span class=\"plain     \" ><span class=\"txto\">gur </span></span><span class=\"plain     \" ><span class=\"plain txto \"></span><span class=\"plain     hlbx\"  style=\"border-color: red;\" ><span class=\"txto\">{gesz#}</span></span></span><span class=\"plain     hlbx\"  style=\"border-color: yellow;\" ><span class=\"txto\">ban2#_ </span></span></span><span class=\"plain     \" ><span class=\"plain txto \"></span><span class=\"plain     \" ><span class=\"plain txto \"></span><span class=\"plain     \" ><span class=\"txto\">{gesz#}</span></span></span><span class=\"plain     \" ><span class=\"txto\">me-</span></span><span class=\"plain     \" ><span class=\"txto\">sze-</span></span><span class=\"plain     \" ><span class=\"txto\">qum#</span></span></span></span></td><td class=\"tf\"><span class=\"plain outer   hl\" ><span class=\"plain txto \"></span><span class=\"plain   lno  \" ><span class=\"plain txto \"></span><span class=\"plain     \" ><span class=\"plain txto \"></span><span class=\"plain     hlbx\"  style=\"border-color: red;\" ><span class=\"txto\">{gesz#}</span></span></span><span class=\"plain     hlbx\"  style=\"border-color: yellow;\" ><span class=\"txto\">ban2#_ </span></span></span></span></td></tr>\n",
       "<tr class=\"tf\"><td class=\"tf\">13</td><td class=\"tf\"><span class=\"section ltr\"><a target=\"_blank\" href=\"https://cdli.ucla.edu/search/search_results.php?SearchMode=Text&amp;ObjectID=P510611\" title=\"Show this document on CDLI\" sec=\"P510611 obverse:4\">P510611 obverse:4</a></span></td><td class=\"tf\"><span class=\"plain outer   \" ><span class=\"plain txto \"></span><span class=\"plain     \" ><span class=\"plain txto \"></span><span class=\"plain     \" ><span class=\"plain txto \"></span><span class=\"plain     \" ><span class=\"txto\">{d}</span></span></span><span class=\"plain     \" ><span class=\"txto\">utu </span></span></span><span class=\"plain     \" ><span class=\"plain txto \"></span><span class=\"plain     \" ><span class=\"txto\">u3 </span></span></span><span class=\"plain     hl\" ><span class=\"plain txto \"></span><span class=\"plain     \" ><span class=\"plain txto \"></span><span class=\"plain     hlbx\"  style=\"border-color: red;\" ><span class=\"txto\">{d}</span></span></span><span class=\"plain     hlbx\"  style=\"border-color: yellow;\" ><span class=\"txto\">inanna </span></span></span><span class=\"plain     \" ><span class=\"plain txto \"></span><span class=\"plain     \" ><span class=\"txto\">asz-</span></span><span class=\"plain     \" ><span class=\"txto\">szu-</span></span><span class=\"plain     \" ><span class=\"txto\">mi-</span></span><span class=\"plain     \" ><span class=\"txto\">ia</span></span></span></span></td><td class=\"tf\"><span class=\"plain outer   hl\" ><span class=\"plain txto \"></span><span class=\"plain     \" ><span class=\"plain txto \"></span><span class=\"plain     hlbx\"  style=\"border-color: red;\" ><span class=\"txto\">{d}</span></span></span><span class=\"plain     hlbx\"  style=\"border-color: yellow;\" ><span class=\"txto\">inanna </span></span></span></td></tr>\n",
       "<tr class=\"tf\"><td class=\"tf\">14</td><td class=\"tf\"><span class=\"section ltr\"><a target=\"_blank\" href=\"https://cdli.ucla.edu/search/search_results.php?SearchMode=Text&amp;ObjectID=P297172\" title=\"Show this document on CDLI\" sec=\"P297172 reverse:12\">P297172 reverse:12</a></span></td><td class=\"tf\"><span class=\"plain outer   \" ><span class=\"plain txto \"></span><span class=\"plain     \" ><span class=\"plain txto \"></span><span class=\"plain     \" ><span class=\"txto\">ma#-</span></span><span class=\"plain     \" ><span class=\"txto\">na#-</span></span><span class=\"plain     \" ><span class=\"txto\">ha-</span></span><span class=\"plain     \" ><span class=\"txto\">at# </span></span></span><span class=\"plain     \" ><span class=\"plain txto \"></span><span class=\"plain     \" ><span class=\"txto\">[x </span></span><span class=\"plain     \" ><span class=\"txto\">x </span></span><span class=\"plain     \" ><span class=\"txto\">x] </span></span></span><span class=\"plain     hl\" ><span class=\"plain txto \"></span><span class=\"plain     \" ><span class=\"plain txto \"></span><span class=\"plain     hlbx\"  style=\"border-color: yellow;\" ><span class=\"txto\">_ka2#-</span></span><span class=\"plain     \" ><span class=\"plain txto \"></span><span class=\"plain     hlbx\"  style=\"border-color: yellow;\" ><span class=\"txto\">[dingir]-</span></span></span><span class=\"plain     hlbx\"  style=\"border-color: yellow;\" ><span class=\"txto\">ra</span></span><span class=\"plain     \" ><span class=\"plain txto \"></span><span class=\"plain     hlbx\"  style=\"border-color: lightgreen;\" ><span class=\"txto\">{ki}_</span></span></span></span></span></span></td><td class=\"tf\"><span class=\"plain outer   hl\" ><span class=\"plain txto \"></span><span class=\"plain     \" ><span class=\"plain txto \"></span><span class=\"plain     hlbx\"  style=\"border-color: yellow;\" ><span class=\"txto\">_ka2#-</span></span><span class=\"plain     \" ><span class=\"plain txto \"></span><span class=\"plain     hlbx\"  style=\"border-color: yellow;\" ><span class=\"txto\">[dingir]-</span></span></span><span class=\"plain     hlbx\"  style=\"border-color: yellow;\" ><span class=\"txto\">ra</span></span><span class=\"plain     \" ><span class=\"plain txto \"></span><span class=\"plain     hlbx\"  style=\"border-color: lightgreen;\" ><span class=\"txto\">{ki}_</span></span></span></span></span></td></tr>\n",
       "<tr class=\"tf\"><td class=\"tf\">15</td><td class=\"tf\"><span class=\"section ltr\"><a target=\"_blank\" href=\"https://cdli.ucla.edu/search/search_results.php?SearchMode=Text&amp;ObjectID=P510531\" title=\"Show this document on CDLI\" sec=\"P510531 obverse:9\">P510531 obverse:9</a></span></td><td class=\"tf\"><span class=\"plain outer   \" ><span class=\"plain txto \"></span><span class=\"plain     hl\" ><span class=\"plain txto \"></span><span class=\"plain     \" ><span class=\"plain txto \"></span><span class=\"plain     \" ><span class=\"plain txto \"></span><span class=\"plain     hlbx\"  style=\"border-color: red;\" ><span class=\"txto\">[{disz}</span></span></span><span class=\"plain     \" ><span class=\"plain txto \"></span><span class=\"plain     hlbx\"  style=\"border-color: yellow;\" ><span class=\"txto\">{d}]</span></span></span></span><span class=\"plain     hlbx\"  style=\"border-color: yellow;\" ><span class=\"txto\">suen#-</span></span><span class=\"plain     hlbx\"  style=\"border-color: yellow;\" ><span class=\"txto\">i-</span></span><span class=\"plain     hlbx\"  style=\"border-color: yellow;\" ><span class=\"txto\">din-</span></span><span class=\"plain     hlbx\"  style=\"border-color: yellow;\" ><span class=\"txto\">nam </span></span></span><span class=\"plain     \" ><span class=\"plain txto \"></span><span class=\"plain     \" ><span class=\"plain txto \"></span><span class=\"plain     \" ><span class=\"txto\">{disz}</span></span></span><span class=\"plain     \" ><span class=\"plain txto \"></span><span class=\"plain     \" ><span class=\"txto\">{d}</span></span></span><span class=\"plain     \" ><span class=\"txto\">suen-</span></span><span class=\"plain     \" ><span class=\"txto\">mu-</span></span><span class=\"plain     \" ><span class=\"txto\">sza-</span></span><span class=\"plain     \" ><span class=\"txto\">lim </span></span></span><span class=\"plain     \" ><span class=\"plain txto \"></span><span class=\"plain     \" ><span class=\"txto\">u3 </span></span></span><span class=\"plain     \" ><span class=\"plain txto \"></span><span class=\"plain     \" ><span class=\"txto\">u2-</span></span><span class=\"plain     \" ><span class=\"txto\">s,ur-</span></span><span class=\"plain     \" ><span class=\"txto\">pi4-</span></span><span class=\"plain     \" ><span class=\"txto\">esz18-</span></span><span class=\"plain     \" ><span class=\"txto\">dar</span></span></span></span></td><td class=\"tf\"><span class=\"plain outer   hl\" ><span class=\"plain txto \"></span><span class=\"plain     \" ><span class=\"plain txto \"></span><span class=\"plain     \" ><span class=\"plain txto \"></span><span class=\"plain     hlbx\"  style=\"border-color: red;\" ><span class=\"txto\">[{disz}</span></span></span><span class=\"plain     \" ><span class=\"plain txto \"></span><span class=\"plain     hlbx\"  style=\"border-color: yellow;\" ><span class=\"txto\">{d}]</span></span></span></span><span class=\"plain     hlbx\"  style=\"border-color: yellow;\" ><span class=\"txto\">suen#-</span></span><span class=\"plain     hlbx\"  style=\"border-color: yellow;\" ><span class=\"txto\">i-</span></span><span class=\"plain     hlbx\"  style=\"border-color: yellow;\" ><span class=\"txto\">din-</span></span><span class=\"plain     hlbx\"  style=\"border-color: yellow;\" ><span class=\"txto\">nam </span></span></span></td></tr>\n",
       "<tr class=\"tf\"><td class=\"tf\">16</td><td class=\"tf\"><span class=\"section ltr\"><a target=\"_blank\" href=\"https://cdli.ucla.edu/search/search_results.php?SearchMode=Text&amp;ObjectID=P510535\" title=\"Show this document on CDLI\" sec=\"P510535 obverse:1\">P510535 obverse:1</a></span></td><td class=\"tf\"><span class=\"plain outer   \" ><span class=\"plain txto \"></span><span class=\"plain     \" ><span class=\"plain txto \"></span><span class=\"plain     \" ><span class=\"txto\">a-</span></span><span class=\"plain     \" ><span class=\"txto\">na </span></span></span><span class=\"plain     hl\" ><span class=\"plain txto \"></span><span class=\"plain     \" ><span class=\"plain txto \"></span><span class=\"plain     hlbx\"  style=\"border-color: red;\" ><span class=\"txto\">{d}</span></span></span><span class=\"plain     hlbx\"  style=\"border-color: yellow;\" ><span class=\"txto\">na-</span></span><span class=\"plain     hlbx\"  style=\"border-color: yellow;\" ><span class=\"txto\">bi-</span></span><span class=\"plain     hlbx\"  style=\"border-color: yellow;\" ><span class=\"txto\">um-</span></span><span class=\"plain     hlbx\"  style=\"border-color: yellow;\" ><span class=\"txto\">at-</span></span><span class=\"plain     hlbx\"  style=\"border-color: yellow;\" ><span class=\"txto\">pa-</span></span><span class=\"plain     hlbx\"  style=\"border-color: yellow;\" ><span class=\"txto\">lam</span></span></span></span></td><td class=\"tf\"><span class=\"plain outer   hl\" ><span class=\"plain txto \"></span><span class=\"plain     \" ><span class=\"plain txto \"></span><span class=\"plain     hlbx\"  style=\"border-color: red;\" ><span class=\"txto\">{d}</span></span></span><span class=\"plain     hlbx\"  style=\"border-color: yellow;\" ><span class=\"txto\">na-</span></span><span class=\"plain     hlbx\"  style=\"border-color: yellow;\" ><span class=\"txto\">bi-</span></span><span class=\"plain     hlbx\"  style=\"border-color: yellow;\" ><span class=\"txto\">um-</span></span><span class=\"plain     hlbx\"  style=\"border-color: yellow;\" ><span class=\"txto\">at-</span></span><span class=\"plain     hlbx\"  style=\"border-color: yellow;\" ><span class=\"txto\">pa-</span></span><span class=\"plain     hlbx\"  style=\"border-color: yellow;\" ><span class=\"txto\">lam</span></span></span></td></tr>\n",
       "<tr class=\"tf\"><td class=\"tf\">17</td><td class=\"tf\"><span class=\"section ltr\"><a target=\"_blank\" href=\"https://cdli.ucla.edu/search/search_results.php?SearchMode=Text&amp;ObjectID=P365956\" title=\"Show this document on CDLI\" sec=\"P365956 obverse:9\">P365956 obverse:9</a></span></td><td class=\"tf\"><span class=\"plain outer   \" ><span class=\"plain txto \"></span><span class=\"plain     \" ><span class=\"plain txto \"></span><span class=\"plain     \" ><span class=\"txto\">it-</span></span><span class=\"plain     \" ><span class=\"txto\">ru-</span></span><span class=\"plain     \" ><span class=\"txto\">ma </span></span></span><span class=\"plain     \" ><span class=\"plain txto \"></span><span class=\"plain     \" ><span class=\"txto\">i-</span></span><span class=\"plain     \" ><span class=\"txto\">na </span></span></span><span class=\"plain     hl\" ><span class=\"plain txto \"></span><span class=\"plain     \" ><span class=\"plain txto \"></span><span class=\"plain     hlbx\"  style=\"border-color: red;\" ><span class=\"txto\">{iri}</span></span></span><span class=\"plain     hlbx\"  style=\"border-color: yellow;\" ><span class=\"txto\">kisz</span></span><span class=\"plain     \" ><span class=\"plain txto \"></span><span class=\"plain     hlbx\"  style=\"border-color: lightgreen;\" ><span class=\"txto\">{ki} </span></span></span></span><span class=\"plain     \" ><span class=\"plain txto \"></span><span class=\"plain     \" ><span class=\"txto\">ip-</span></span><span class=\"plain     \" ><span class=\"txto\">ta-</span></span><span class=\"plain     \" ><span class=\"txto\">ad</span></span></span></span></td><td class=\"tf\"><span class=\"plain outer   hl\" ><span class=\"plain txto \"></span><span class=\"plain     \" ><span class=\"plain txto \"></span><span class=\"plain     hlbx\"  style=\"border-color: red;\" ><span class=\"txto\">{iri}</span></span></span><span class=\"plain     hlbx\"  style=\"border-color: yellow;\" ><span class=\"txto\">kisz</span></span><span class=\"plain     \" ><span class=\"plain txto \"></span><span class=\"plain     hlbx\"  style=\"border-color: lightgreen;\" ><span class=\"txto\">{ki} </span></span></span></span></td></tr>\n",
       "<tr class=\"tf\"><td class=\"tf\">18</td><td class=\"tf\"><span class=\"section ltr\"><a target=\"_blank\" href=\"https://cdli.ucla.edu/search/search_results.php?SearchMode=Text&amp;ObjectID=P293189\" title=\"Show this document on CDLI\" sec=\"P293189 reverse:3\">P293189 reverse:3</a></span></td><td class=\"tf\"><span class=\"plain outer   \" ><span class=\"plain txto \"></span><span class=\"plain     \" ><span class=\"plain txto \"></span><span class=\"plain     \" ><span class=\"txto\">sza </span></span></span><span class=\"plain     hl\" ><span class=\"plain txto \"></span><span class=\"plain     \" ><span class=\"plain txto \"></span><span class=\"plain     hlbx\"  style=\"border-color: red;\" ><span class=\"txto\">{d}</span></span></span><span class=\"plain     hlbx\"  style=\"border-color: yellow;\" ><span class=\"txto\">suen-</span></span><span class=\"plain     hlbx\"  style=\"border-color: yellow;\" ><span class=\"txto\">i-</span></span><span class=\"plain     hlbx\"  style=\"border-color: yellow;\" ><span class=\"txto\">di2-</span></span><span class=\"plain     hlbx\"  style=\"border-color: yellow;\" ><span class=\"txto\">nam </span></span></span><span class=\"plain     \" ><span class=\"plain txto \"></span><span class=\"plain     \" ><span class=\"txto\">ip-</span></span><span class=\"plain     \" ><span class=\"txto\">pu-</span></span><span class=\"plain     \" ><span class=\"txto\">u2</span></span></span></span></td><td class=\"tf\"><span class=\"plain outer   hl\" ><span class=\"plain txto \"></span><span class=\"plain     \" ><span class=\"plain txto \"></span><span class=\"plain     hlbx\"  style=\"border-color: red;\" ><span class=\"txto\">{d}</span></span></span><span class=\"plain     hlbx\"  style=\"border-color: yellow;\" ><span class=\"txto\">suen-</span></span><span class=\"plain     hlbx\"  style=\"border-color: yellow;\" ><span class=\"txto\">i-</span></span><span class=\"plain     hlbx\"  style=\"border-color: yellow;\" ><span class=\"txto\">di2-</span></span><span class=\"plain     hlbx\"  style=\"border-color: yellow;\" ><span class=\"txto\">nam </span></span></span></td></tr>\n",
       "<tr class=\"tf\"><td class=\"tf\">19</td><td class=\"tf\"><span class=\"section ltr\"><a target=\"_blank\" href=\"https://cdli.ucla.edu/search/search_results.php?SearchMode=Text&amp;ObjectID=P510840\" title=\"Show this document on CDLI\" sec=\"P510840 obverse:1\">P510840 obverse:1</a></span></td><td class=\"tf\"><span class=\"plain outer   \" ><span class=\"plain txto \"></span><span class=\"plain     \" ><span class=\"plain txto \"></span><span class=\"plain     \" ><span class=\"txto\">a-</span></span><span class=\"plain     \" ><span class=\"txto\">na# </span></span></span><span class=\"plain     hl\" ><span class=\"plain txto \"></span><span class=\"plain     \" ><span class=\"plain txto \"></span><span class=\"plain     hlbx\"  style=\"border-color: red;\" ><span class=\"txto\">{d}</span></span></span><span class=\"plain     hlbx\"  style=\"border-color: yellow;\" ><span class=\"txto\">marduk-</span></span><span class=\"plain     hlbx\"  style=\"border-color: yellow;\" ><span class=\"txto\">na-</span></span><span class=\"plain     hlbx\"  style=\"border-color: yellow;\" ><span class=\"txto\">s,i-</span></span><span class=\"plain     hlbx\"  style=\"border-color: yellow;\" ><span class=\"txto\">ir </span></span></span><span class=\"plain     \" ><span class=\"plain txto \"></span><span class=\"plain     \" ><span class=\"txto\">_ugula </span></span><span class=\"plain     \" ><span class=\"txto\">dam-</span></span><span class=\"plain     \" ><span class=\"txto\">gar3_</span></span></span></span></td><td class=\"tf\"><span class=\"plain outer   hl\" ><span class=\"plain txto \"></span><span class=\"plain     \" ><span class=\"plain txto \"></span><span class=\"plain     hlbx\"  style=\"border-color: red;\" ><span class=\"txto\">{d}</span></span></span><span class=\"plain     hlbx\"  style=\"border-color: yellow;\" ><span class=\"txto\">marduk-</span></span><span class=\"plain     hlbx\"  style=\"border-color: yellow;\" ><span class=\"txto\">na-</span></span><span class=\"plain     hlbx\"  style=\"border-color: yellow;\" ><span class=\"txto\">s,i-</span></span><span class=\"plain     hlbx\"  style=\"border-color: yellow;\" ><span class=\"txto\">ir </span></span></span></td></tr>\n",
       "<tr class=\"tf\"><td class=\"tf\">20</td><td class=\"tf\"><span class=\"section ltr\"><a target=\"_blank\" href=\"https://cdli.ucla.edu/search/search_results.php?SearchMode=Text&amp;ObjectID=P510541\" title=\"Show this document on CDLI\" sec=\"P510541 obverse:3\">P510541 obverse:3</a></span></td><td class=\"tf\"><span class=\"plain outer   \" ><span class=\"plain txto \"></span><span class=\"plain     \" ><span class=\"plain txto \"></span><span class=\"plain     \" ><span class=\"txto\">um#-</span></span><span class=\"plain     \" ><span class=\"txto\">ma </span></span></span><span class=\"plain     hl\" ><span class=\"plain txto \"></span><span class=\"plain     \" ><span class=\"plain txto \"></span><span class=\"plain     hlbx\"  style=\"border-color: red;\" ><span class=\"txto\">{d}</span></span></span><span class=\"plain     hlbx\"  style=\"border-color: yellow;\" ><span class=\"txto\">marduk-</span></span><span class=\"plain     hlbx\"  style=\"border-color: yellow;\" ><span class=\"txto\">mu-</span></span><span class=\"plain     hlbx\"  style=\"border-color: yellow;\" ><span class=\"txto\">sza-</span></span><span class=\"plain     hlbx\"  style=\"border-color: yellow;\" ><span class=\"txto\">lim-</span></span><span class=\"plain     hlbx\"  style=\"border-color: yellow;\" ><span class=\"txto\">ma</span></span></span></span></td><td class=\"tf\"><span class=\"plain outer   hl\" ><span class=\"plain txto \"></span><span class=\"plain     \" ><span class=\"plain txto \"></span><span class=\"plain     hlbx\"  style=\"border-color: red;\" ><span class=\"txto\">{d}</span></span></span><span class=\"plain     hlbx\"  style=\"border-color: yellow;\" ><span class=\"txto\">marduk-</span></span><span class=\"plain     hlbx\"  style=\"border-color: yellow;\" ><span class=\"txto\">mu-</span></span><span class=\"plain     hlbx\"  style=\"border-color: yellow;\" ><span class=\"txto\">sza-</span></span><span class=\"plain     hlbx\"  style=\"border-color: yellow;\" ><span class=\"txto\">lim-</span></span><span class=\"plain     hlbx\"  style=\"border-color: yellow;\" ><span class=\"txto\">ma</span></span></span></td></tr></table>"
      ],
      "text/plain": [
       "<IPython.core.display.HTML object>"
      ]
     },
     "metadata": {},
     "output_type": "display_data"
    }
   ],
   "source": [
    "A.table(nounExamples, highlights=highlights)"
   ]
  },
  {
   "cell_type": "markdown",
   "metadata": {},
   "source": [
    "Looking again at noun 15, we see that it starts with *two* determinatives, and only the first one got stripped."
   ]
  }
 ],
 "metadata": {
  "kernelspec": {
   "display_name": "Python 3",
   "language": "python",
   "name": "python3"
  },
  "language_info": {
   "codemirror_mode": {
    "name": "ipython",
    "version": 3
   },
   "file_extension": ".py",
   "mimetype": "text/x-python",
   "name": "python",
   "nbconvert_exporter": "python",
   "pygments_lexer": "ipython3",
   "version": "3.7.7"
  }
 },
 "nbformat": 4,
 "nbformat_minor": 4
}
