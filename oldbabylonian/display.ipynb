{
 "cells": [
  {
   "cell_type": "markdown",
   "metadata": {},
   "source": [
    "<img align=\"right\" src=\"images/tf.png\" width=\"128\"/>\n",
    "<img align=\"right\" src=\"images/ninologo.png\" width=\"128\"/>\n",
    "<img align=\"right\" src=\"images/dans.png\" width=\"128\"/>\n",
    "\n",
    "---\n",
    "\n",
    "To get started: consult [start](start.ipynb)\n",
    "\n",
    "---\n",
    "\n",
    "# Display\n",
    "\n",
    "We show the ins and outs of displaying cuneiform ATF transcriptions."
   ]
  },
  {
   "cell_type": "code",
   "execution_count": 1,
   "metadata": {},
   "outputs": [],
   "source": [
    "%load_ext autoreload\n",
    "%autoreload 2"
   ]
  },
  {
   "cell_type": "code",
   "execution_count": 2,
   "metadata": {
    "ExecuteTime": {
     "end_time": "2018-05-18T09:17:16.202764Z",
     "start_time": "2018-05-18T09:17:16.197546Z"
    }
   },
   "outputs": [],
   "source": [
    "import sys, os, collections\n",
    "from tf.app import use\n",
    "from tf.applib.helpers import dm, dh"
   ]
  },
  {
   "cell_type": "code",
   "execution_count": 32,
   "metadata": {},
   "outputs": [
    {
     "name": "stdout",
     "output_type": "stream",
     "text": [
      "Using TF-app in /Users/dirk/github/annotation/app-oldbabylonian/code:\n",
      "\trepo clone offline under ~/github (local github)\n",
      "Using data in /Users/dirk/github/Nino-cunei/oldbabylonian/tf/1.0.4:\n",
      "\trepo clone offline under ~/github (local github)\n",
      "   |     0.00s No structure info in otext, the structure part of the T-API cannot be used\n"
     ]
    },
    {
     "data": {
      "text/html": [
       "<b>Documentation:</b> <a target=\"_blank\" href=\"https://github.com/Nino-cunei/oldbabylonian/blob/master/docs/\" title=\"provenance of Old Babylonian Letters 1900-1600: Cuneiform tablets \">OLDBABYLONIAN</a> <a target=\"_blank\" href=\"https://github.com/Nino-cunei/oldbabylonian/blob/master/docs/transcription.md\" title=\"How TF features represent ATF\">Character table</a> <a target=\"_blank\" href=\"https://github.com/Nino-cunei/oldbabylonian/blob/master/docs//transcription.md\" title=\"OLDBABYLONIAN feature documentation\">Feature docs</a> <a target=\"_blank\" href=\"https://github.com/annotation/app-oldbabylonian\" title=\"oldbabylonian API documentation\">oldbabylonian API</a> <a target=\"_blank\" href=\"https://annotation.github.io/text-fabric/Api/Fabric/\" title=\"text-fabric-api\">Text-Fabric API 7.11.1</a> <a target=\"_blank\" href=\"https://annotation.github.io/text-fabric/Use/Search/\" title=\"Search Templates Introduction and Reference\">Search Reference</a><details open><summary><b>Loaded features</b>:</summary>\n",
       "<p><b>Old Babylonian Letters 1900-1600: Cuneiform tablets </b>: <a target=\"_blank\" href=\"https://github.com/Nino-cunei/oldbabylonian/blob/master/docs//transcription.md\" title=\"/Users/dirk/github/Nino-cunei/oldbabylonian/tf/1.0.4/ARK.tf\">ARK</a>  <a target=\"_blank\" href=\"https://github.com/Nino-cunei/oldbabylonian/blob/master/docs//transcription.md\" title=\"/Users/dirk/github/Nino-cunei/oldbabylonian/tf/1.0.4/after.tf\">after</a>  <a target=\"_blank\" href=\"https://github.com/Nino-cunei/oldbabylonian/blob/master/docs//transcription.md\" title=\"/Users/dirk/github/Nino-cunei/oldbabylonian/tf/1.0.4/afterr.tf\">afterr</a>  <a target=\"_blank\" href=\"https://github.com/Nino-cunei/oldbabylonian/blob/master/docs//transcription.md\" title=\"/Users/dirk/github/Nino-cunei/oldbabylonian/tf/1.0.4/afteru.tf\">afteru</a>  <a target=\"_blank\" href=\"https://github.com/Nino-cunei/oldbabylonian/blob/master/docs//transcription.md\" title=\"/Users/dirk/github/Nino-cunei/oldbabylonian/tf/1.0.4/atf.tf\">atf</a>  <a target=\"_blank\" href=\"https://github.com/Nino-cunei/oldbabylonian/blob/master/docs//transcription.md\" title=\"/Users/dirk/github/Nino-cunei/oldbabylonian/tf/1.0.4/atfpost.tf\">atfpost</a>  <a target=\"_blank\" href=\"https://github.com/Nino-cunei/oldbabylonian/blob/master/docs//transcription.md\" title=\"/Users/dirk/github/Nino-cunei/oldbabylonian/tf/1.0.4/atfpre.tf\">atfpre</a>  <a target=\"_blank\" href=\"https://github.com/Nino-cunei/oldbabylonian/blob/master/docs//transcription.md\" title=\"/Users/dirk/github/Nino-cunei/oldbabylonian/tf/1.0.4/author.tf\">author</a>  <a target=\"_blank\" href=\"https://github.com/Nino-cunei/oldbabylonian/blob/master/docs//transcription.md\" title=\"/Users/dirk/github/Nino-cunei/oldbabylonian/tf/1.0.4/col.tf\">col</a>  <a target=\"_blank\" href=\"https://github.com/Nino-cunei/oldbabylonian/blob/master/docs//transcription.md\" title=\"/Users/dirk/github/Nino-cunei/oldbabylonian/tf/1.0.4/collated.tf\">collated</a>  <a target=\"_blank\" href=\"https://github.com/Nino-cunei/oldbabylonian/blob/master/docs//transcription.md\" title=\"/Users/dirk/github/Nino-cunei/oldbabylonian/tf/1.0.4/collection.tf\">collection</a>  <a target=\"_blank\" href=\"https://github.com/Nino-cunei/oldbabylonian/blob/master/docs//transcription.md\" title=\"/Users/dirk/github/Nino-cunei/oldbabylonian/tf/1.0.4/comment.tf\">comment</a>  <a target=\"_blank\" href=\"https://github.com/Nino-cunei/oldbabylonian/blob/master/docs//transcription.md\" title=\"/Users/dirk/github/Nino-cunei/oldbabylonian/tf/1.0.4/damage.tf\">damage</a>  <a target=\"_blank\" href=\"https://github.com/Nino-cunei/oldbabylonian/blob/master/docs//transcription.md\" title=\"/Users/dirk/github/Nino-cunei/oldbabylonian/tf/1.0.4/det.tf\">det</a>  <a target=\"_blank\" href=\"https://github.com/Nino-cunei/oldbabylonian/blob/master/docs//transcription.md\" title=\"/Users/dirk/github/Nino-cunei/oldbabylonian/tf/1.0.4/docnote.tf\">docnote</a>  <a target=\"_blank\" href=\"https://github.com/Nino-cunei/oldbabylonian/blob/master/docs//transcription.md\" title=\"/Users/dirk/github/Nino-cunei/oldbabylonian/tf/1.0.4/docnumber.tf\">docnumber</a>  <a target=\"_blank\" href=\"https://github.com/Nino-cunei/oldbabylonian/blob/master/docs//transcription.md\" title=\"/Users/dirk/github/Nino-cunei/oldbabylonian/tf/1.0.4/excavation.tf\">excavation</a>  <a target=\"_blank\" href=\"https://github.com/Nino-cunei/oldbabylonian/blob/master/docs//transcription.md\" title=\"/Users/dirk/github/Nino-cunei/oldbabylonian/tf/1.0.4/excised.tf\">excised</a>  <a target=\"_blank\" href=\"https://github.com/Nino-cunei/oldbabylonian/blob/master/docs//transcription.md\" title=\"/Users/dirk/github/Nino-cunei/oldbabylonian/tf/1.0.4/face.tf\">face</a>  <a target=\"_blank\" href=\"https://github.com/Nino-cunei/oldbabylonian/blob/master/docs//transcription.md\" title=\"/Users/dirk/github/Nino-cunei/oldbabylonian/tf/1.0.4/flags.tf\">flags</a>  <a target=\"_blank\" href=\"https://github.com/Nino-cunei/oldbabylonian/blob/master/docs//transcription.md\" title=\"/Users/dirk/github/Nino-cunei/oldbabylonian/tf/1.0.4/fraction.tf\">fraction</a>  <a target=\"_blank\" href=\"https://github.com/Nino-cunei/oldbabylonian/blob/master/docs//transcription.md\" title=\"/Users/dirk/github/Nino-cunei/oldbabylonian/tf/1.0.4/genre.tf\">genre</a>  <a target=\"_blank\" href=\"https://github.com/Nino-cunei/oldbabylonian/blob/master/docs//transcription.md\" title=\"/Users/dirk/github/Nino-cunei/oldbabylonian/tf/1.0.4/grapheme.tf\">grapheme</a>  <a target=\"_blank\" href=\"https://github.com/Nino-cunei/oldbabylonian/blob/master/docs//transcription.md\" title=\"/Users/dirk/github/Nino-cunei/oldbabylonian/tf/1.0.4/graphemer.tf\">graphemer</a>  <a target=\"_blank\" href=\"https://github.com/Nino-cunei/oldbabylonian/blob/master/docs//transcription.md\" title=\"/Users/dirk/github/Nino-cunei/oldbabylonian/tf/1.0.4/graphemeu.tf\">graphemeu</a>  <a target=\"_blank\" href=\"https://github.com/Nino-cunei/oldbabylonian/blob/master/docs//transcription.md\" title=\"/Users/dirk/github/Nino-cunei/oldbabylonian/tf/1.0.4/lang.tf\">lang</a>  <a target=\"_blank\" href=\"https://github.com/Nino-cunei/oldbabylonian/blob/master/docs//transcription.md\" title=\"/Users/dirk/github/Nino-cunei/oldbabylonian/tf/1.0.4/langalt.tf\">langalt</a>  <a target=\"_blank\" href=\"https://github.com/Nino-cunei/oldbabylonian/blob/master/docs//transcription.md\" title=\"/Users/dirk/github/Nino-cunei/oldbabylonian/tf/1.0.4/ln.tf\">ln</a>  <a target=\"_blank\" href=\"https://github.com/Nino-cunei/oldbabylonian/blob/master/docs//transcription.md\" title=\"/Users/dirk/github/Nino-cunei/oldbabylonian/tf/1.0.4/lnc.tf\">lnc</a>  <a target=\"_blank\" href=\"https://github.com/Nino-cunei/oldbabylonian/blob/master/docs//transcription.md\" title=\"/Users/dirk/github/Nino-cunei/oldbabylonian/tf/1.0.4/lnno.tf\">lnno</a>  <a target=\"_blank\" href=\"https://github.com/Nino-cunei/oldbabylonian/blob/master/docs//transcription.md\" title=\"/Users/dirk/github/Nino-cunei/oldbabylonian/tf/1.0.4/material.tf\">material</a>  <a target=\"_blank\" href=\"https://github.com/Nino-cunei/oldbabylonian/blob/master/docs//transcription.md\" title=\"/Users/dirk/github/Nino-cunei/oldbabylonian/tf/1.0.4/missing.tf\">missing</a>  <a target=\"_blank\" href=\"https://github.com/Nino-cunei/oldbabylonian/blob/master/docs//transcription.md\" title=\"/Users/dirk/github/Nino-cunei/oldbabylonian/tf/1.0.4/museumcode.tf\">museumcode</a>  <a target=\"_blank\" href=\"https://github.com/Nino-cunei/oldbabylonian/blob/master/docs//transcription.md\" title=\"/Users/dirk/github/Nino-cunei/oldbabylonian/tf/1.0.4/museumname.tf\">museumname</a>  <a target=\"_blank\" href=\"https://github.com/Nino-cunei/oldbabylonian/blob/master/docs//transcription.md\" title=\"/Users/dirk/github/Nino-cunei/oldbabylonian/tf/1.0.4/object.tf\">object</a>  <a target=\"_blank\" href=\"https://github.com/Nino-cunei/oldbabylonian/blob/master/docs//transcription.md\" title=\"/Users/dirk/github/Nino-cunei/oldbabylonian/tf/1.0.4/operator.tf\">operator</a>  <a target=\"_blank\" href=\"https://github.com/Nino-cunei/oldbabylonian/blob/master/docs//transcription.md\" title=\"/Users/dirk/github/Nino-cunei/oldbabylonian/tf/1.0.4/operatorr.tf\">operatorr</a>  <a target=\"_blank\" href=\"https://github.com/Nino-cunei/oldbabylonian/blob/master/docs//transcription.md\" title=\"/Users/dirk/github/Nino-cunei/oldbabylonian/tf/1.0.4/operatoru.tf\">operatoru</a>  <a target=\"_blank\" href=\"https://github.com/Nino-cunei/oldbabylonian/blob/master/docs//transcription.md\" title=\"/Users/dirk/github/Nino-cunei/oldbabylonian/tf/1.0.4/otype.tf\">otype</a>  <a target=\"_blank\" href=\"https://github.com/Nino-cunei/oldbabylonian/blob/master/docs//transcription.md\" title=\"/Users/dirk/github/Nino-cunei/oldbabylonian/tf/1.0.4/period.tf\">period</a>  <a target=\"_blank\" href=\"https://github.com/Nino-cunei/oldbabylonian/blob/master/docs//transcription.md\" title=\"/Users/dirk/github/Nino-cunei/oldbabylonian/tf/1.0.4/pnumber.tf\">pnumber</a>  <a target=\"_blank\" href=\"https://github.com/Nino-cunei/oldbabylonian/blob/master/docs//transcription.md\" title=\"/Users/dirk/github/Nino-cunei/oldbabylonian/tf/1.0.4/primecol.tf\">primecol</a>  <a target=\"_blank\" href=\"https://github.com/Nino-cunei/oldbabylonian/blob/master/docs//transcription.md\" title=\"/Users/dirk/github/Nino-cunei/oldbabylonian/tf/1.0.4/primeln.tf\">primeln</a>  <a target=\"_blank\" href=\"https://github.com/Nino-cunei/oldbabylonian/blob/master/docs//transcription.md\" title=\"/Users/dirk/github/Nino-cunei/oldbabylonian/tf/1.0.4/pubdate.tf\">pubdate</a>  <a target=\"_blank\" href=\"https://github.com/Nino-cunei/oldbabylonian/blob/master/docs//transcription.md\" title=\"/Users/dirk/github/Nino-cunei/oldbabylonian/tf/1.0.4/question.tf\">question</a>  <a target=\"_blank\" href=\"https://github.com/Nino-cunei/oldbabylonian/blob/master/docs//transcription.md\" title=\"/Users/dirk/github/Nino-cunei/oldbabylonian/tf/1.0.4/reading.tf\">reading</a>  <a target=\"_blank\" href=\"https://github.com/Nino-cunei/oldbabylonian/blob/master/docs//transcription.md\" title=\"/Users/dirk/github/Nino-cunei/oldbabylonian/tf/1.0.4/readingr.tf\">readingr</a>  <a target=\"_blank\" href=\"https://github.com/Nino-cunei/oldbabylonian/blob/master/docs//transcription.md\" title=\"/Users/dirk/github/Nino-cunei/oldbabylonian/tf/1.0.4/readingu.tf\">readingu</a>  <a target=\"_blank\" href=\"https://github.com/Nino-cunei/oldbabylonian/blob/master/docs//transcription.md\" title=\"/Users/dirk/github/Nino-cunei/oldbabylonian/tf/1.0.4/remarkable.tf\">remarkable</a>  <a target=\"_blank\" href=\"https://github.com/Nino-cunei/oldbabylonian/blob/master/docs//transcription.md\" title=\"/Users/dirk/github/Nino-cunei/oldbabylonian/tf/1.0.4/remarks.tf\">remarks</a>  <a target=\"_blank\" href=\"https://github.com/Nino-cunei/oldbabylonian/blob/master/docs//transcription.md\" title=\"/Users/dirk/github/Nino-cunei/oldbabylonian/tf/1.0.4/repeat.tf\">repeat</a>  <a target=\"_blank\" href=\"https://github.com/Nino-cunei/oldbabylonian/blob/master/docs//transcription.md\" title=\"/Users/dirk/github/Nino-cunei/oldbabylonian/tf/1.0.4/srcLn.tf\">srcLn</a>  <a target=\"_blank\" href=\"https://github.com/Nino-cunei/oldbabylonian/blob/master/docs//transcription.md\" title=\"/Users/dirk/github/Nino-cunei/oldbabylonian/tf/1.0.4/srcLnNum.tf\">srcLnNum</a>  <a target=\"_blank\" href=\"https://github.com/Nino-cunei/oldbabylonian/blob/master/docs//transcription.md\" title=\"/Users/dirk/github/Nino-cunei/oldbabylonian/tf/1.0.4/srcfile.tf\">srcfile</a>  <a target=\"_blank\" href=\"https://github.com/Nino-cunei/oldbabylonian/blob/master/docs//transcription.md\" title=\"/Users/dirk/github/Nino-cunei/oldbabylonian/tf/1.0.4/subgenre.tf\">subgenre</a>  <a target=\"_blank\" href=\"https://github.com/Nino-cunei/oldbabylonian/blob/master/docs//transcription.md\" title=\"/Users/dirk/github/Nino-cunei/oldbabylonian/tf/1.0.4/supplied.tf\">supplied</a>  <a target=\"_blank\" href=\"https://github.com/Nino-cunei/oldbabylonian/blob/master/docs//transcription.md\" title=\"/Users/dirk/github/Nino-cunei/oldbabylonian/tf/1.0.4/sym.tf\">sym</a>  <a target=\"_blank\" href=\"https://github.com/Nino-cunei/oldbabylonian/blob/master/docs//transcription.md\" title=\"/Users/dirk/github/Nino-cunei/oldbabylonian/tf/1.0.4/symr.tf\">symr</a>  <a target=\"_blank\" href=\"https://github.com/Nino-cunei/oldbabylonian/blob/master/docs//transcription.md\" title=\"/Users/dirk/github/Nino-cunei/oldbabylonian/tf/1.0.4/symu.tf\">symu</a>  <a target=\"_blank\" href=\"https://github.com/Nino-cunei/oldbabylonian/blob/master/docs//transcription.md\" title=\"/Users/dirk/github/Nino-cunei/oldbabylonian/tf/1.0.4/trans.tf\">trans</a>  <a target=\"_blank\" href=\"https://github.com/Nino-cunei/oldbabylonian/blob/master/docs//transcription.md\" title=\"/Users/dirk/github/Nino-cunei/oldbabylonian/tf/1.0.4/transcriber.tf\">transcriber</a>  <a target=\"_blank\" href=\"https://github.com/Nino-cunei/oldbabylonian/blob/master/docs//transcription.md\" title=\"/Users/dirk/github/Nino-cunei/oldbabylonian/tf/1.0.4/translation@en.tf\">translation@ll</a>  <a target=\"_blank\" href=\"https://github.com/Nino-cunei/oldbabylonian/blob/master/docs//transcription.md\" title=\"/Users/dirk/github/Nino-cunei/oldbabylonian/tf/1.0.4/type.tf\">type</a>  <a target=\"_blank\" href=\"https://github.com/Nino-cunei/oldbabylonian/blob/master/docs//transcription.md\" title=\"/Users/dirk/github/Nino-cunei/oldbabylonian/tf/1.0.4/uncertain.tf\">uncertain</a>  <a target=\"_blank\" href=\"https://github.com/Nino-cunei/oldbabylonian/blob/master/docs//transcription.md\" title=\"/Users/dirk/github/Nino-cunei/oldbabylonian/tf/1.0.4/volume.tf\">volume</a>  <b><i><a target=\"_blank\" href=\"https://github.com/Nino-cunei/oldbabylonian/blob/master/docs//transcription.md\" title=\"/Users/dirk/github/Nino-cunei/oldbabylonian/tf/1.0.4/oslots.tf\">oslots</a></i></b> </p></details>"
      ],
      "text/plain": [
       "<IPython.core.display.HTML object>"
      ]
     },
     "metadata": {},
     "output_type": "display_data"
    },
    {
     "data": {
      "text/html": [
       "<style>\n",
       "@font-face {\n",
       "  font-family: \"Santakku\";\n",
       "  src:\n",
       "    local(\"Santakku.ttf\"),\n",
       "    url(\"https://github.com/annotation/text-fabric/blob/master/tf/server/static/fonts/Santakku.woff?raw=true\");\n",
       "}\n",
       ".features {\n",
       "    font-family: monospace;\n",
       "    font-size: medium;\n",
       "    font-weight: bold;\n",
       "    color: #0a6611;\n",
       "    display: flex;\n",
       "    flex-flow: column nowrap;\n",
       "    padding: 0.1em;\n",
       "    margin: 0.1em;\n",
       "    direction: ltr;\n",
       "}\n",
       ".features div,.features span {\n",
       "    padding: 0;\n",
       "    margin: -0.1rem 0;\n",
       "}\n",
       ".features .f {\n",
       "    font-family: sans-serif;\n",
       "    font-size: x-small;\n",
       "    font-weight: normal;\n",
       "    color: #5555bb;\n",
       "}\n",
       ".features .xft {\n",
       "  color: #000000;\n",
       "  background-color: #eeeeee;\n",
       "  font-size: medium;\n",
       "  margin: 0.1em 0em;\n",
       "}\n",
       ".features .xft .f {\n",
       "  color: #000000;\n",
       "  background-color: #eeeeee;\n",
       "  font-style: italic;\n",
       "  font-size: small;\n",
       "  font-weight: normal;\n",
       "}\n",
       ".pnum {\n",
       "    font-family: sans-serif;\n",
       "    font-size: small;\n",
       "    font-weight: bold;\n",
       "    color: #444444;\n",
       "}\n",
       ".nd {\n",
       "    font-family: monospace;\n",
       "    font-size: x-small;\n",
       "    color: #999999;\n",
       "}\n",
       ".outerplain {\n",
       "}\n",
       ".verse {\n",
       "    display: flex;\n",
       "    flex-flow: row wrap;\n",
       "    direction: rtl;\n",
       "}\n",
       ".vl {\n",
       "    display: flex;\n",
       "    flex-flow: column nowrap;\n",
       "    justify-content: flex-end;\n",
       "    align-items: flex-end;\n",
       "    direction: ltr;\n",
       "    width: 100%;\n",
       "}\n",
       ".vn {\n",
       "  font-size: small !important;\n",
       "  padding-right: 1em;\n",
       "}\n",
       ".vrs {\n",
       "    font-family: sans-serif;\n",
       "    font-size: small;\n",
       "    font-weight: bold;\n",
       "    color: #444444;\n",
       "}\n",
       ".txtn,.txtn a:visited,.txtn a:link {\n",
       "    font-family: sans-serif;\n",
       "    font-size: normal;\n",
       "    text-decoration: none;\n",
       "}\n",
       ".txtp,.txtp a:visited,.txtp a:link {\n",
       "    font-family: monospace;\n",
       "    font-size: normal;\n",
       "    text-decoration: none;\n",
       "}\n",
       ".txtr,.txtr a:visited,.txtr a:link {\n",
       "    font-family: serif;\n",
       "    font-size: large;\n",
       "    text-decoration: none;\n",
       "}\n",
       ".txtu,.txtu a:visited,.txtu a:link {\n",
       "    font-family: Santakku;\n",
       "    font-size: x-large;\n",
       "    text-decoration: none;\n",
       "}\n",
       ".meta {\n",
       "    display: flex;\n",
       "    justify-content: flex-start;\n",
       "    align-items: flex-start;\n",
       "    align-content: flex-start;\n",
       "    flex-flow: row nowrap;\n",
       "}\n",
       ".features,.comments {\n",
       "    display: flex;\n",
       "    justify-content: flex-start;\n",
       "    align-items: flex-start;\n",
       "    align-content: flex-start;\n",
       "    flex-flow: column nowrap;\n",
       "}\n",
       ".children {\n",
       "    display: flex;\n",
       "    justify-content: flex-start;\n",
       "    align-items: flex-start;\n",
       "    align-content: flex-start;\n",
       "    border: 0;\n",
       "    background-color: #ffffff;\n",
       "}\n",
       ".children.document {\n",
       "    flex-flow: column nowrap;\n",
       "}\n",
       ".children.face {\n",
       "    flex-flow: column nowrap;\n",
       "}\n",
       ".children.line {\n",
       "    align-items: stretch;\n",
       "    flex-flow: row nowrap;\n",
       "}\n",
       ".children.cluster {\n",
       "    flex-flow: row wrap;\n",
       "}\n",
       ".children.word {\n",
       "    align-items: stretch;\n",
       "    flex-flow: row nowrap;\n",
       "}\n",
       ".children.sign {\n",
       "    flex-flow: column nowrap;\n",
       "}\n",
       ".contnr {\n",
       "    width: fit-content;\n",
       "}\n",
       ".contnr.document,.contnr.face,\n",
       ".contnr.line,\n",
       ".contnr.cluster,\n",
       ".contnr.word,\n",
       ".contnr.sign {\n",
       "    display: flex;\n",
       "    justify-content: flex-start;\n",
       "    align-items: flex-start;\n",
       "    align-content: flex-start;\n",
       "    flex-flow: column nowrap;\n",
       "    background: #ffffff none repeat scroll 0 0;\n",
       "    padding:  0.5em 0.1em 0.1em 0.1em;\n",
       "    margin: 0.8em 0.1em 0.1em 0.1em;\n",
       "    border-radius: 0.2em;\n",
       "    border-style: solid;\n",
       "    border-width: 0.2em;\n",
       "    font-size: small;\n",
       "}\n",
       ".contnr.document,.contnr.face {\n",
       "    border-color: #bb8800;\n",
       "}\n",
       ".contnr.line {\n",
       "    border-color: #0088bb;\n",
       "}\n",
       ".contnr.cluster {\n",
       "    flex-flow: row wrap;\n",
       "    border: 0;\n",
       "}\n",
       ".contnr.word {\n",
       "    border-color: #44bbff;\n",
       "}\n",
       ".contnr.sign {\n",
       "    border-color: #bbbbbb;\n",
       "}\n",
       ".contnr.hl {\n",
       "    background-color: #ffee66;\n",
       "}\n",
       ".lbl.document,.lbl.face,\n",
       ".lbl.line,\n",
       ".lbl.cluster,\n",
       ".lbl.sign,.lbl.word {\n",
       "    margin-top: -1.2em;\n",
       "    margin-left: 1em;\n",
       "    background: #ffffff none repeat scroll 0 0;\n",
       "    padding: 0 0.3em;\n",
       "    border-style: solid;\n",
       "    font-size: small;\n",
       "    display: block;\n",
       "}\n",
       ".lbl.document,.lbl.face {\n",
       "    border-color: #bb8800;\n",
       "    border-width: 0.3em;\n",
       "    border-radius: 0.3em;\n",
       "    color: #bb8800;\n",
       "}\n",
       ".lbl.line {\n",
       "    border-color: #0088bb;\n",
       "    border-width: 0.3em;\n",
       "    border-radius: 0.3em;\n",
       "    color: #0088bb;\n",
       "}\n",
       ".lbl.cluster {\n",
       "    border-color: #dddddd;\n",
       "    border-width: 0.2em;\n",
       "    border-radius: 0.2em;\n",
       "    color: #0000cc;\n",
       "}\n",
       ".lbl.word {\n",
       "    border-color: #44bbff;\n",
       "    border-width: 0.2em;\n",
       "    border-radius: 0.2em;\n",
       "    font-size: medium;\n",
       "    color: #000000;\n",
       "}\n",
       ".lbl.sign {\n",
       "    border-color: #bbbbbb;\n",
       "    border-width: 0.1em;\n",
       "    border-radius: 0.1em;\n",
       "    font-size: small;\n",
       "    color: #000000;\n",
       "}\n",
       ".op {\n",
       "    padding:  0.5em 0.1em 0.1em 0.1em;\n",
       "    margin: 0.8em 0.1em 0.1em 0.1em;\n",
       "    font-family: monospace;\n",
       "    font-size: x-large;\n",
       "    font-weight: bold;\n",
       "}\n",
       ".name {\n",
       "    font-family: monospace;\n",
       "    font-size: medium;\n",
       "    color: #0000bb;\n",
       "}\n",
       ".period {\n",
       "    font-family: monospace;\n",
       "    font-size: medium;\n",
       "    font-weight: bold;\n",
       "    color: #0000bb;\n",
       "}\n",
       ".text {\n",
       "    font-family: sans-serif;\n",
       "    font-size: x-small;\n",
       "    color: #000000;\n",
       "}\n",
       ".srcln {\n",
       "    font-family: monospace;\n",
       "    font-size: medium;\n",
       "    color: #000000;\n",
       "}\n",
       ".srclnnum {\n",
       "    font-family: monospace;\n",
       "    font-size: x-small;\n",
       "    color: #0000bb;\n",
       "}\n",
       ".comment {\n",
       "    color: #7777dd;\n",
       "    font-family: monospace;\n",
       "    font-size: small;\n",
       "}\n",
       ".operator {\n",
       "    color: #ff77ff;\n",
       "    font-size: large;\n",
       "}\n",
       "/* LANGUAGE: superscript and subscript */\n",
       "\n",
       "/* cluster */\n",
       ".det {\n",
       "    vertical-align: super;\n",
       "}\n",
       "/* cluster */\n",
       ".langalt {\n",
       "    vertical-align: sub;\n",
       "}\n",
       "/* REDACTIONAL: line over or under  */\n",
       "\n",
       "/* flag */\n",
       ".collated {\n",
       "    font-weight: bold;\n",
       "    text-decoration: underline;\n",
       "}\n",
       "/* cluster */\n",
       ".excised {\n",
       "    color: #dd0000;\n",
       "    text-decoration: line-through;\n",
       "}\n",
       "/* cluster */\n",
       ".supplied {\n",
       "    color: #0000ff;\n",
       "    text-decoration: overline;\n",
       "}\n",
       "/* flag */\n",
       ".remarkable {\n",
       "    font-weight: bold;\n",
       "    text-decoration: overline;\n",
       "}\n",
       "\n",
       "/* UNSURE: italic*/\n",
       "\n",
       "/* cluster */\n",
       ".uncertain {\n",
       "    font-style: italic\n",
       "}\n",
       "/* flag */\n",
       ".question {\n",
       "    font-weight: bold;\n",
       "    font-style: italic\n",
       "}\n",
       "\n",
       "/* BROKEN: text-shadow */\n",
       "\n",
       "/* cluster */\n",
       ".missing {\n",
       "    color: #999999;\n",
       "    text-shadow: #bbbbbb 1px 1px;\n",
       "}\n",
       "/* flag */\n",
       ".damage {\n",
       "    font-weight: bold;\n",
       "    color: #999999;\n",
       "    text-shadow: #bbbbbb 1px 1px;\n",
       "}\n",
       ".empty {\n",
       "  color: #ff0000;\n",
       "}\n",
       "\n",
       "\n",
       "tr.tf, td.tf, th.tf {\n",
       "  text-align: left;\n",
       "}\n",
       "\n",
       "span.hldot {\n",
       "\tbackground-color: var(--hl-strong);\n",
       "\tborder: 0.2rem solid var(--hl-rim);\n",
       "\tborder-radius: 0.4rem;\n",
       "\t/*\n",
       "\tdisplay: inline-block;\n",
       "\twidth: 0.8rem;\n",
       "\theight: 0.8rem;\n",
       "\t*/\n",
       "}\n",
       "span.hl {\n",
       "\tbackground-color: var(--hl-strong);\n",
       "\tborder-width: 0;\n",
       "\tborder-radius: 0.1rem;\n",
       "\tborder-style: solid;\n",
       "}\n",
       "\n",
       "span.hlbx {\n",
       "\tborder-color: var(--hl-dark);\n",
       "\tborder-width: 0.1rem;\n",
       "\tborder-style: solid;\n",
       "\tborder-radius: 0.2rem;\n",
       "  padding: 0.2rem;\n",
       "  margin: 0.2rem;\n",
       "}\n",
       "\n",
       "span.plain {\n",
       "  display: inline-block;\n",
       "  white-space: pre-wrap;\n",
       "}\n",
       "\n",
       ":root {\n",
       "\t--hl-strong:        hsla( 60, 100%,  70%, 0.9  );\n",
       "\t--hl-rim:           hsla( 55, 100%,  60%, 0.9  );\n",
       "\t--hl-dark:          hsla( 55, 100%,  40%, 0.9  );\n",
       "}\n",
       "</style>"
      ],
      "text/plain": [
       "<IPython.core.display.HTML object>"
      ]
     },
     "metadata": {},
     "output_type": "display_data"
    },
    {
     "data": {
      "text/html": [
       "<details open><summary><b>API members</b>:</summary>\n",
       "<a target=\"_blank\" href=\"https://annotation.github.io/text-fabric/Api/Computed/#computed-data\" title=\"doc\">C Computed</a>, <a target=\"_blank\" href=\"https://annotation.github.io/text-fabric/Api/Computed/#computed-data\" title=\"doc\">Call AllComputeds</a>, <a target=\"_blank\" href=\"https://annotation.github.io/text-fabric/Api/Computed/#computed-data\" title=\"doc\">Cs ComputedString</a><br/>\n",
       "<a target=\"_blank\" href=\"https://annotation.github.io/text-fabric/Api/Features/#edge-features\" title=\"doc\">E Edge</a>, <a target=\"_blank\" href=\"https://annotation.github.io/text-fabric/Api/Features/#edge-features\" title=\"doc\">Eall AllEdges</a>, <a target=\"_blank\" href=\"https://annotation.github.io/text-fabric/Api/Features/#edge-features\" title=\"doc\">Es EdgeString</a><br/>\n",
       "<a target=\"_blank\" href=\"https://annotation.github.io/text-fabric/Api/Fabric/#loading\" title=\"doc\">ensureLoaded</a>, <a target=\"_blank\" href=\"https://annotation.github.io/text-fabric/Api/Fabric/#loading\" title=\"doc\">TF</a>, <a target=\"_blank\" href=\"https://annotation.github.io/text-fabric/Api/Fabric/#loading\" title=\"doc\">ignored</a>, <a target=\"_blank\" href=\"https://annotation.github.io/text-fabric/Api/Fabric/#loading\" title=\"doc\">loadLog</a><br/>\n",
       "<a target=\"_blank\" href=\"https://annotation.github.io/text-fabric/Api/Locality/#locality\" title=\"doc\">L Locality</a><br/>\n",
       "<a target=\"_blank\" href=\"https://annotation.github.io/text-fabric/Api/Misc/#messaging\" title=\"doc\">cache</a>, <a target=\"_blank\" href=\"https://annotation.github.io/text-fabric/Api/Misc/#messaging\" title=\"doc\">error</a>, <a target=\"_blank\" href=\"https://annotation.github.io/text-fabric/Api/Misc/#messaging\" title=\"doc\">indent</a>, <a target=\"_blank\" href=\"https://annotation.github.io/text-fabric/Api/Misc/#messaging\" title=\"doc\">info</a>, <a target=\"_blank\" href=\"https://annotation.github.io/text-fabric/Api/Misc/#messaging\" title=\"doc\">isSilent</a>, <a target=\"_blank\" href=\"https://annotation.github.io/text-fabric/Api/Misc/#messaging\" title=\"doc\">reset</a>, <a target=\"_blank\" href=\"https://annotation.github.io/text-fabric/Api/Misc/#messaging\" title=\"doc\">setSilent</a>, <a target=\"_blank\" href=\"https://annotation.github.io/text-fabric/Api/Misc/#messaging\" title=\"doc\">silentOff</a>, <a target=\"_blank\" href=\"https://annotation.github.io/text-fabric/Api/Misc/#messaging\" title=\"doc\">silentOn</a>, <a target=\"_blank\" href=\"https://annotation.github.io/text-fabric/Api/Misc/#messaging\" title=\"doc\">warning</a><br/>\n",
       "<a target=\"_blank\" href=\"https://annotation.github.io/text-fabric/Api/Nodes/#navigating-nodes\" title=\"doc\">N Nodes</a>, <a target=\"_blank\" href=\"https://annotation.github.io/text-fabric/Api/Nodes/#navigating-nodes\" title=\"doc\">sortKey</a>, <a target=\"_blank\" href=\"https://annotation.github.io/text-fabric/Api/Nodes/#navigating-nodes\" title=\"doc\">sortKeyTuple</a>, <a target=\"_blank\" href=\"https://annotation.github.io/text-fabric/Api/Nodes/#navigating-nodes\" title=\"doc\">otypeRank</a>, <a target=\"_blank\" href=\"https://annotation.github.io/text-fabric/Api/Nodes/#navigating-nodes\" title=\"doc\">sortNodes</a><br/>\n",
       "<a target=\"_blank\" href=\"https://annotation.github.io/text-fabric/Api/Features/#node-features\" title=\"doc\">F Feature</a>, <a target=\"_blank\" href=\"https://annotation.github.io/text-fabric/Api/Features/#node-features\" title=\"doc\">Fall AllFeatures</a>, <a target=\"_blank\" href=\"https://annotation.github.io/text-fabric/Api/Features/#node-features\" title=\"doc\">Fs FeatureString</a><br/>\n",
       "<a target=\"_blank\" href=\"https://annotation.github.io/text-fabric/Api/Search/#search\" title=\"doc\">S Search</a><br/>\n",
       "<a target=\"_blank\" href=\"https://annotation.github.io/text-fabric/Api/Text/#text\" title=\"doc\">T Text</a></details>"
      ],
      "text/plain": [
       "<IPython.core.display.HTML object>"
      ]
     },
     "metadata": {},
     "output_type": "display_data"
    }
   ],
   "source": [
    "# A = use('oldbabylonian', hoist=globals())\n",
    "A = use('oldbabylonian:clone', checkout=\"clone\", hoist=globals())"
   ]
  },
  {
   "cell_type": "markdown",
   "metadata": {},
   "source": [
    "We pick an example face with which we illustrate many ways to represent cuneiform text."
   ]
  },
  {
   "cell_type": "code",
   "execution_count": 33,
   "metadata": {},
   "outputs": [],
   "source": [
    "# exampleFace = ('P509373', 'obverse')\n",
    "# exampleFace = ('P292990', 'obverse')\n",
    "exampleFace = ('P292987', 'reverse')\n",
    "f = T.nodeFromSection(exampleFace)\n",
    "lines = L.d(f, otype='line')"
   ]
  },
  {
   "cell_type": "markdown",
   "metadata": {},
   "source": [
    "# Raw text\n",
    "\n",
    "The most basic way is to show the source material for each line, which is in the feature `srcLn`.\n",
    "\n",
    "This feature has been filled by mere copying the numbered lines from the CDLI ATF sources."
   ]
  },
  {
   "cell_type": "code",
   "execution_count": 34,
   "metadata": {},
   "outputs": [
    {
     "name": "stdout",
     "output_type": "stream",
     "text": [
      "1. nu-uk!(AZ)-ta-la-al-li-mu\n",
      "2. dumu ku3#-{d}nanna\n",
      "3. i-he#-[er]-ri#\n",
      "4. la-ma qa2-as-su2\n",
      "5. isz#-ku-nu\n",
      "6. at#-ta hi-i-ri\n",
      "7. u3 a-na\n",
      "8. i-szar-ku-bi\n"
     ]
    }
   ],
   "source": [
    "for l in lines:\n",
    "  print(F.srcLn.v(l))"
   ]
  },
  {
   "cell_type": "markdown",
   "metadata": {},
   "source": [
    "# Text formats\n",
    "\n",
    "The TF API supports *text formats*. Text formats make selections and apply templates and styles based\n",
    "on the analysed features of the text. For example: a text-format may ignore flags or clusters, or\n",
    "format numerals in special ways.\n",
    "\n",
    "Text formats are not baked into TF, but they are defined in the feature `otext` of the corpus.\n",
    "\n",
    "Moreover, for this corpus a TF app has been build that defines additional text-formats.\n",
    "\n",
    "Whereas the formats defined in `otext` are strictly plain text formats, the formats\n",
    "defined in the app are able to use typographic styles to shape the text, such as bold, italic, colors, etc.\n",
    "\n",
    "Here is the list of all formats."
   ]
  },
  {
   "cell_type": "code",
   "execution_count": 35,
   "metadata": {},
   "outputs": [
    {
     "data": {
      "text/plain": [
       "{'text-orig-full': 'sign',\n",
       " 'text-orig-plain': 'sign',\n",
       " 'text-orig-rich': 'sign',\n",
       " 'text-orig-unicode': 'sign',\n",
       " 'layout-orig-rich': 'sign',\n",
       " 'layout-orig-unicode': 'sign'}"
      ]
     },
     "execution_count": 35,
     "metadata": {},
     "output_type": "execute_result"
    }
   ],
   "source": [
    "T.formats"
   ]
  },
  {
   "cell_type": "markdown",
   "metadata": {},
   "source": [
    "## Plain text formats\n",
    "\n",
    "The formats whose names start with `text-` are the plain text formats.\n",
    "\n",
    "### `text-orig-full`\n",
    "\n",
    "This format is really close to the ATF. It contains all original information.\n",
    "\n",
    "This is the default format. We do not have to specify it."
   ]
  },
  {
   "cell_type": "code",
   "execution_count": 36,
   "metadata": {},
   "outputs": [
    {
     "data": {
      "text/html": [
       "<span class=\"vrs ltr\"><a href=\"https://cdli.ucla.edu/search/search_results.php?SearchMode=Text&amp;ObjectID=P292987\" title=\"show this document on CDLI\" sec=\"P292987 reverse:1\">P292987 reverse:1</a></span>&nbsp;<span class=\"plain outer  \" ><span class=\"plain\"><span class=\"plain \" ><span class=\"plain \" ><span class=\"txtp\">nu-</span></span><span class=\"plain \" ><span class=\"txtp\">uk!(AZ)-</span></span><span class=\"plain \" ><span class=\"txtp\">ta-</span></span><span class=\"plain \" ><span class=\"txtp\">la-</span></span><span class=\"plain \" ><span class=\"txtp\">al-</span></span><span class=\"plain \" ><span class=\"txtp\">li-</span></span><span class=\"plain \" ><span class=\"txtp\">mu</span></span></span></span></span>"
      ],
      "text/plain": [
       "<IPython.core.display.HTML object>"
      ]
     },
     "metadata": {},
     "output_type": "display_data"
    },
    {
     "data": {
      "text/html": [
       "<span class=\"vrs ltr\"><a href=\"https://cdli.ucla.edu/search/search_results.php?SearchMode=Text&amp;ObjectID=P292987\" title=\"show this document on CDLI\" sec=\"P292987 reverse:2\">P292987 reverse:2</a></span>&nbsp;<span class=\"plain outer  \" ><span class=\"plain\"><span class=\"plain \" ><span class=\"plain \" ><span class=\"txtp\">dumu </span></span></span><span class=\"plain \" ><span class=\"plain \" ><span class=\"txtp\">ku3#-</span></span><span class=\"plain \" ><span class=\"txtp\">{d}</span></span><span class=\"plain \" ><span class=\"txtp\">nanna</span></span></span></span></span>"
      ],
      "text/plain": [
       "<IPython.core.display.HTML object>"
      ]
     },
     "metadata": {},
     "output_type": "display_data"
    },
    {
     "data": {
      "text/html": [
       "<span class=\"vrs ltr\"><a href=\"https://cdli.ucla.edu/search/search_results.php?SearchMode=Text&amp;ObjectID=P292987\" title=\"show this document on CDLI\" sec=\"P292987 reverse:3\">P292987 reverse:3</a></span>&nbsp;<span class=\"plain outer  \" ><span class=\"plain\"><span class=\"plain \" ><span class=\"plain \" ><span class=\"txtp\">i-</span></span><span class=\"plain \" ><span class=\"txtp\">he#-</span></span><span class=\"plain \" ><span class=\"txtp\">[er]-</span></span><span class=\"plain \" ><span class=\"txtp\">ri#</span></span></span></span></span>"
      ],
      "text/plain": [
       "<IPython.core.display.HTML object>"
      ]
     },
     "metadata": {},
     "output_type": "display_data"
    },
    {
     "data": {
      "text/html": [
       "<span class=\"vrs ltr\"><a href=\"https://cdli.ucla.edu/search/search_results.php?SearchMode=Text&amp;ObjectID=P292987\" title=\"show this document on CDLI\" sec=\"P292987 reverse:4\">P292987 reverse:4</a></span>&nbsp;<span class=\"plain outer  \" ><span class=\"plain\"><span class=\"plain \" ><span class=\"plain \" ><span class=\"txtp\">la-</span></span><span class=\"plain \" ><span class=\"txtp\">ma </span></span></span><span class=\"plain \" ><span class=\"plain \" ><span class=\"txtp\">qa2-</span></span><span class=\"plain \" ><span class=\"txtp\">as-</span></span><span class=\"plain \" ><span class=\"txtp\">su2</span></span></span></span></span>"
      ],
      "text/plain": [
       "<IPython.core.display.HTML object>"
      ]
     },
     "metadata": {},
     "output_type": "display_data"
    },
    {
     "data": {
      "text/html": [
       "<span class=\"vrs ltr\"><a href=\"https://cdli.ucla.edu/search/search_results.php?SearchMode=Text&amp;ObjectID=P292987\" title=\"show this document on CDLI\" sec=\"P292987 reverse:5\">P292987 reverse:5</a></span>&nbsp;<span class=\"plain outer  \" ><span class=\"plain\"><span class=\"plain \" ><span class=\"plain \" ><span class=\"txtp\">isz#-</span></span><span class=\"plain \" ><span class=\"txtp\">ku-</span></span><span class=\"plain \" ><span class=\"txtp\">nu</span></span></span></span></span>"
      ],
      "text/plain": [
       "<IPython.core.display.HTML object>"
      ]
     },
     "metadata": {},
     "output_type": "display_data"
    },
    {
     "data": {
      "text/html": [
       "<span class=\"vrs ltr\"><a href=\"https://cdli.ucla.edu/search/search_results.php?SearchMode=Text&amp;ObjectID=P292987\" title=\"show this document on CDLI\" sec=\"P292987 reverse:6\">P292987 reverse:6</a></span>&nbsp;<span class=\"plain outer  \" ><span class=\"plain\"><span class=\"plain \" ><span class=\"plain \" ><span class=\"txtp\">at#-</span></span><span class=\"plain \" ><span class=\"txtp\">ta </span></span></span><span class=\"plain \" ><span class=\"plain \" ><span class=\"txtp\">hi-</span></span><span class=\"plain \" ><span class=\"txtp\">i-</span></span><span class=\"plain \" ><span class=\"txtp\">ri</span></span></span></span></span>"
      ],
      "text/plain": [
       "<IPython.core.display.HTML object>"
      ]
     },
     "metadata": {},
     "output_type": "display_data"
    },
    {
     "data": {
      "text/html": [
       "<span class=\"vrs ltr\"><a href=\"https://cdli.ucla.edu/search/search_results.php?SearchMode=Text&amp;ObjectID=P292987\" title=\"show this document on CDLI\" sec=\"P292987 reverse:7\">P292987 reverse:7</a></span>&nbsp;<span class=\"plain outer  \" ><span class=\"plain\"><span class=\"plain \" ><span class=\"plain \" ><span class=\"txtp\">u3 </span></span></span><span class=\"plain \" ><span class=\"plain \" ><span class=\"txtp\">a-</span></span><span class=\"plain \" ><span class=\"txtp\">na</span></span></span></span></span>"
      ],
      "text/plain": [
       "<IPython.core.display.HTML object>"
      ]
     },
     "metadata": {},
     "output_type": "display_data"
    },
    {
     "data": {
      "text/html": [
       "<span class=\"vrs ltr\"><a href=\"https://cdli.ucla.edu/search/search_results.php?SearchMode=Text&amp;ObjectID=P292987\" title=\"show this document on CDLI\" sec=\"P292987 reverse:8\">P292987 reverse:8</a></span>&nbsp;<span class=\"plain outer  \" ><span class=\"plain\"><span class=\"plain \" ><span class=\"plain \" ><span class=\"txtp\">i-</span></span><span class=\"plain \" ><span class=\"txtp\">szar-</span></span><span class=\"plain \" ><span class=\"txtp\">ku-</span></span><span class=\"plain \" ><span class=\"txtp\">bi</span></span></span></span></span>"
      ],
      "text/plain": [
       "<IPython.core.display.HTML object>"
      ]
     },
     "metadata": {},
     "output_type": "display_data"
    }
   ],
   "source": [
    "for l in lines:\n",
    "  A.plain(l)"
   ]
  },
  {
   "cell_type": "markdown",
   "metadata": {},
   "source": [
    "The `plain()` function focuses on the *contents*, and instead of the line number, it gives a full specification\n",
    "of the location, linked to the online source on CDLI. \n",
    "\n",
    "But we can omit the locations:"
   ]
  },
  {
   "cell_type": "code",
   "execution_count": 37,
   "metadata": {},
   "outputs": [
    {
     "data": {
      "text/html": [
       "<a href=\"https://cdli.ucla.edu/search/search_results.php?SearchMode=Text&amp;ObjectID=P292987\" title=\"P292987 reverse:1\" sec=\"P292987 reverse:1\"><span class=\"plain outer  \" ><span class=\"plain\"><span class=\"plain \" ><span class=\"plain \" ><span class=\"txtp\">nu-</span></span><span class=\"plain \" ><span class=\"txtp\">uk!(AZ)-</span></span><span class=\"plain \" ><span class=\"txtp\">ta-</span></span><span class=\"plain \" ><span class=\"txtp\">la-</span></span><span class=\"plain \" ><span class=\"txtp\">al-</span></span><span class=\"plain \" ><span class=\"txtp\">li-</span></span><span class=\"plain \" ><span class=\"txtp\">mu</span></span></span></span></span></a>"
      ],
      "text/plain": [
       "<IPython.core.display.HTML object>"
      ]
     },
     "metadata": {},
     "output_type": "display_data"
    },
    {
     "data": {
      "text/html": [
       "<a href=\"https://cdli.ucla.edu/search/search_results.php?SearchMode=Text&amp;ObjectID=P292987\" title=\"P292987 reverse:2\" sec=\"P292987 reverse:2\"><span class=\"plain outer  \" ><span class=\"plain\"><span class=\"plain \" ><span class=\"plain \" ><span class=\"txtp\">dumu </span></span></span><span class=\"plain \" ><span class=\"plain \" ><span class=\"txtp\">ku3#-</span></span><span class=\"plain \" ><span class=\"txtp\">{d}</span></span><span class=\"plain \" ><span class=\"txtp\">nanna</span></span></span></span></span></a>"
      ],
      "text/plain": [
       "<IPython.core.display.HTML object>"
      ]
     },
     "metadata": {},
     "output_type": "display_data"
    },
    {
     "data": {
      "text/html": [
       "<a href=\"https://cdli.ucla.edu/search/search_results.php?SearchMode=Text&amp;ObjectID=P292987\" title=\"P292987 reverse:3\" sec=\"P292987 reverse:3\"><span class=\"plain outer  \" ><span class=\"plain\"><span class=\"plain \" ><span class=\"plain \" ><span class=\"txtp\">i-</span></span><span class=\"plain \" ><span class=\"txtp\">he#-</span></span><span class=\"plain \" ><span class=\"txtp\">[er]-</span></span><span class=\"plain \" ><span class=\"txtp\">ri#</span></span></span></span></span></a>"
      ],
      "text/plain": [
       "<IPython.core.display.HTML object>"
      ]
     },
     "metadata": {},
     "output_type": "display_data"
    },
    {
     "data": {
      "text/html": [
       "<a href=\"https://cdli.ucla.edu/search/search_results.php?SearchMode=Text&amp;ObjectID=P292987\" title=\"P292987 reverse:4\" sec=\"P292987 reverse:4\"><span class=\"plain outer  \" ><span class=\"plain\"><span class=\"plain \" ><span class=\"plain \" ><span class=\"txtp\">la-</span></span><span class=\"plain \" ><span class=\"txtp\">ma </span></span></span><span class=\"plain \" ><span class=\"plain \" ><span class=\"txtp\">qa2-</span></span><span class=\"plain \" ><span class=\"txtp\">as-</span></span><span class=\"plain \" ><span class=\"txtp\">su2</span></span></span></span></span></a>"
      ],
      "text/plain": [
       "<IPython.core.display.HTML object>"
      ]
     },
     "metadata": {},
     "output_type": "display_data"
    },
    {
     "data": {
      "text/html": [
       "<a href=\"https://cdli.ucla.edu/search/search_results.php?SearchMode=Text&amp;ObjectID=P292987\" title=\"P292987 reverse:5\" sec=\"P292987 reverse:5\"><span class=\"plain outer  \" ><span class=\"plain\"><span class=\"plain \" ><span class=\"plain \" ><span class=\"txtp\">isz#-</span></span><span class=\"plain \" ><span class=\"txtp\">ku-</span></span><span class=\"plain \" ><span class=\"txtp\">nu</span></span></span></span></span></a>"
      ],
      "text/plain": [
       "<IPython.core.display.HTML object>"
      ]
     },
     "metadata": {},
     "output_type": "display_data"
    },
    {
     "data": {
      "text/html": [
       "<a href=\"https://cdli.ucla.edu/search/search_results.php?SearchMode=Text&amp;ObjectID=P292987\" title=\"P292987 reverse:6\" sec=\"P292987 reverse:6\"><span class=\"plain outer  \" ><span class=\"plain\"><span class=\"plain \" ><span class=\"plain \" ><span class=\"txtp\">at#-</span></span><span class=\"plain \" ><span class=\"txtp\">ta </span></span></span><span class=\"plain \" ><span class=\"plain \" ><span class=\"txtp\">hi-</span></span><span class=\"plain \" ><span class=\"txtp\">i-</span></span><span class=\"plain \" ><span class=\"txtp\">ri</span></span></span></span></span></a>"
      ],
      "text/plain": [
       "<IPython.core.display.HTML object>"
      ]
     },
     "metadata": {},
     "output_type": "display_data"
    },
    {
     "data": {
      "text/html": [
       "<a href=\"https://cdli.ucla.edu/search/search_results.php?SearchMode=Text&amp;ObjectID=P292987\" title=\"P292987 reverse:7\" sec=\"P292987 reverse:7\"><span class=\"plain outer  \" ><span class=\"plain\"><span class=\"plain \" ><span class=\"plain \" ><span class=\"txtp\">u3 </span></span></span><span class=\"plain \" ><span class=\"plain \" ><span class=\"txtp\">a-</span></span><span class=\"plain \" ><span class=\"txtp\">na</span></span></span></span></span></a>"
      ],
      "text/plain": [
       "<IPython.core.display.HTML object>"
      ]
     },
     "metadata": {},
     "output_type": "display_data"
    },
    {
     "data": {
      "text/html": [
       "<a href=\"https://cdli.ucla.edu/search/search_results.php?SearchMode=Text&amp;ObjectID=P292987\" title=\"P292987 reverse:8\" sec=\"P292987 reverse:8\"><span class=\"plain outer  \" ><span class=\"plain\"><span class=\"plain \" ><span class=\"plain \" ><span class=\"txtp\">i-</span></span><span class=\"plain \" ><span class=\"txtp\">szar-</span></span><span class=\"plain \" ><span class=\"txtp\">ku-</span></span><span class=\"plain \" ><span class=\"txtp\">bi</span></span></span></span></span></a>"
      ],
      "text/plain": [
       "<IPython.core.display.HTML object>"
      ]
     },
     "metadata": {},
     "output_type": "display_data"
    }
   ],
   "source": [
    "for l in lines:\n",
    "  A.plain(l, secLabel=False)"
   ]
  },
  {
   "cell_type": "markdown",
   "metadata": {},
   "source": [
    "### `text-orig-plain`\n",
    "\n",
    "This is a somewhat reduced format. It omits all flags and bracketing constructs.\n",
    "\n",
    "For clarity, adjacent signs are separated with a `⁼` character."
   ]
  },
  {
   "cell_type": "code",
   "execution_count": 38,
   "metadata": {},
   "outputs": [
    {
     "data": {
      "text/html": [
       "<span class=\"vrs ltr\"><a href=\"https://cdli.ucla.edu/search/search_results.php?SearchMode=Text&amp;ObjectID=P292987\" title=\"show this document on CDLI\" sec=\"P292987 reverse:1\">P292987 reverse:1</a></span>&nbsp;<span class=\"plain outer  \" ><span class=\"plain\"><span class=\"plain \" ><span class=\"plain \" ><span class=\"txtp\">nu-</span></span><span class=\"plain \" ><span class=\"txtp\">uk!AZ-</span></span><span class=\"plain \" ><span class=\"txtp\">ta-</span></span><span class=\"plain \" ><span class=\"txtp\">la-</span></span><span class=\"plain \" ><span class=\"txtp\">al-</span></span><span class=\"plain \" ><span class=\"txtp\">li-</span></span><span class=\"plain \" ><span class=\"txtp\">mu</span></span></span></span></span>"
      ],
      "text/plain": [
       "<IPython.core.display.HTML object>"
      ]
     },
     "metadata": {},
     "output_type": "display_data"
    },
    {
     "data": {
      "text/html": [
       "<span class=\"vrs ltr\"><a href=\"https://cdli.ucla.edu/search/search_results.php?SearchMode=Text&amp;ObjectID=P292987\" title=\"show this document on CDLI\" sec=\"P292987 reverse:2\">P292987 reverse:2</a></span>&nbsp;<span class=\"plain outer  \" ><span class=\"plain\"><span class=\"plain \" ><span class=\"plain \" ><span class=\"txtp\">dumu </span></span></span><span class=\"plain \" ><span class=\"plain \" ><span class=\"txtp\">ku3-</span></span><span class=\"plain \" ><span class=\"txtp\">d⁼</span></span><span class=\"plain \" ><span class=\"txtp\">nanna</span></span></span></span></span>"
      ],
      "text/plain": [
       "<IPython.core.display.HTML object>"
      ]
     },
     "metadata": {},
     "output_type": "display_data"
    },
    {
     "data": {
      "text/html": [
       "<span class=\"vrs ltr\"><a href=\"https://cdli.ucla.edu/search/search_results.php?SearchMode=Text&amp;ObjectID=P292987\" title=\"show this document on CDLI\" sec=\"P292987 reverse:3\">P292987 reverse:3</a></span>&nbsp;<span class=\"plain outer  \" ><span class=\"plain\"><span class=\"plain \" ><span class=\"plain \" ><span class=\"txtp\">i-</span></span><span class=\"plain \" ><span class=\"txtp\">he-</span></span><span class=\"plain \" ><span class=\"txtp\">er-</span></span><span class=\"plain \" ><span class=\"txtp\">ri</span></span></span></span></span>"
      ],
      "text/plain": [
       "<IPython.core.display.HTML object>"
      ]
     },
     "metadata": {},
     "output_type": "display_data"
    },
    {
     "data": {
      "text/html": [
       "<span class=\"vrs ltr\"><a href=\"https://cdli.ucla.edu/search/search_results.php?SearchMode=Text&amp;ObjectID=P292987\" title=\"show this document on CDLI\" sec=\"P292987 reverse:4\">P292987 reverse:4</a></span>&nbsp;<span class=\"plain outer  \" ><span class=\"plain\"><span class=\"plain \" ><span class=\"plain \" ><span class=\"txtp\">la-</span></span><span class=\"plain \" ><span class=\"txtp\">ma </span></span></span><span class=\"plain \" ><span class=\"plain \" ><span class=\"txtp\">qa2-</span></span><span class=\"plain \" ><span class=\"txtp\">as-</span></span><span class=\"plain \" ><span class=\"txtp\">su2</span></span></span></span></span>"
      ],
      "text/plain": [
       "<IPython.core.display.HTML object>"
      ]
     },
     "metadata": {},
     "output_type": "display_data"
    },
    {
     "data": {
      "text/html": [
       "<span class=\"vrs ltr\"><a href=\"https://cdli.ucla.edu/search/search_results.php?SearchMode=Text&amp;ObjectID=P292987\" title=\"show this document on CDLI\" sec=\"P292987 reverse:5\">P292987 reverse:5</a></span>&nbsp;<span class=\"plain outer  \" ><span class=\"plain\"><span class=\"plain \" ><span class=\"plain \" ><span class=\"txtp\">isz-</span></span><span class=\"plain \" ><span class=\"txtp\">ku-</span></span><span class=\"plain \" ><span class=\"txtp\">nu</span></span></span></span></span>"
      ],
      "text/plain": [
       "<IPython.core.display.HTML object>"
      ]
     },
     "metadata": {},
     "output_type": "display_data"
    },
    {
     "data": {
      "text/html": [
       "<span class=\"vrs ltr\"><a href=\"https://cdli.ucla.edu/search/search_results.php?SearchMode=Text&amp;ObjectID=P292987\" title=\"show this document on CDLI\" sec=\"P292987 reverse:6\">P292987 reverse:6</a></span>&nbsp;<span class=\"plain outer  \" ><span class=\"plain\"><span class=\"plain \" ><span class=\"plain \" ><span class=\"txtp\">at-</span></span><span class=\"plain \" ><span class=\"txtp\">ta </span></span></span><span class=\"plain \" ><span class=\"plain \" ><span class=\"txtp\">hi-</span></span><span class=\"plain \" ><span class=\"txtp\">i-</span></span><span class=\"plain \" ><span class=\"txtp\">ri</span></span></span></span></span>"
      ],
      "text/plain": [
       "<IPython.core.display.HTML object>"
      ]
     },
     "metadata": {},
     "output_type": "display_data"
    },
    {
     "data": {
      "text/html": [
       "<span class=\"vrs ltr\"><a href=\"https://cdli.ucla.edu/search/search_results.php?SearchMode=Text&amp;ObjectID=P292987\" title=\"show this document on CDLI\" sec=\"P292987 reverse:7\">P292987 reverse:7</a></span>&nbsp;<span class=\"plain outer  \" ><span class=\"plain\"><span class=\"plain \" ><span class=\"plain \" ><span class=\"txtp\">u3 </span></span></span><span class=\"plain \" ><span class=\"plain \" ><span class=\"txtp\">a-</span></span><span class=\"plain \" ><span class=\"txtp\">na</span></span></span></span></span>"
      ],
      "text/plain": [
       "<IPython.core.display.HTML object>"
      ]
     },
     "metadata": {},
     "output_type": "display_data"
    },
    {
     "data": {
      "text/html": [
       "<span class=\"vrs ltr\"><a href=\"https://cdli.ucla.edu/search/search_results.php?SearchMode=Text&amp;ObjectID=P292987\" title=\"show this document on CDLI\" sec=\"P292987 reverse:8\">P292987 reverse:8</a></span>&nbsp;<span class=\"plain outer  \" ><span class=\"plain\"><span class=\"plain \" ><span class=\"plain \" ><span class=\"txtp\">i-</span></span><span class=\"plain \" ><span class=\"txtp\">szar-</span></span><span class=\"plain \" ><span class=\"txtp\">ku-</span></span><span class=\"plain \" ><span class=\"txtp\">bi</span></span></span></span></span>"
      ],
      "text/plain": [
       "<IPython.core.display.HTML object>"
      ]
     },
     "metadata": {},
     "output_type": "display_data"
    }
   ],
   "source": [
    "for l in lines:\n",
    "  A.plain(l, fmt='text-orig-plain')"
   ]
  },
  {
   "cell_type": "markdown",
   "metadata": {},
   "source": [
    "### `text-orig-rich`\n",
    "\n",
    "This format is a bit prettier: instead of the strict ASCII encoding used by the CDLI archive, it uses\n",
    "characters with diacritics.\n",
    "\n",
    "There is no flag/cluster information in this representation."
   ]
  },
  {
   "cell_type": "code",
   "execution_count": 39,
   "metadata": {},
   "outputs": [
    {
     "data": {
      "text/html": [
       "<span class=\"vrs ltr\"><a href=\"https://cdli.ucla.edu/search/search_results.php?SearchMode=Text&amp;ObjectID=P292987\" title=\"show this document on CDLI\" sec=\"P292987 reverse:1\">P292987 reverse:1</a></span>&nbsp;<span class=\"plain outer  \" ><span class=\"plain\"><span class=\"plain \" ><span class=\"plain \" ><span class=\"txtr\">nu-</span></span><span class=\"plain \" ><span class=\"txtr\">uk=AZ-</span></span><span class=\"plain \" ><span class=\"txtr\">ta-</span></span><span class=\"plain \" ><span class=\"txtr\">la-</span></span><span class=\"plain \" ><span class=\"txtr\">al-</span></span><span class=\"plain \" ><span class=\"txtr\">li-</span></span><span class=\"plain \" ><span class=\"txtr\">mu</span></span></span></span></span>"
      ],
      "text/plain": [
       "<IPython.core.display.HTML object>"
      ]
     },
     "metadata": {},
     "output_type": "display_data"
    },
    {
     "data": {
      "text/html": [
       "<span class=\"vrs ltr\"><a href=\"https://cdli.ucla.edu/search/search_results.php?SearchMode=Text&amp;ObjectID=P292987\" title=\"show this document on CDLI\" sec=\"P292987 reverse:2\">P292987 reverse:2</a></span>&nbsp;<span class=\"plain outer  \" ><span class=\"plain\"><span class=\"plain \" ><span class=\"plain \" ><span class=\"txtr\">dumu </span></span></span><span class=\"plain \" ><span class=\"plain \" ><span class=\"txtr\">ku₃-</span></span><span class=\"plain \" ><span class=\"txtr\">d⁼</span></span><span class=\"plain \" ><span class=\"txtr\">nanna</span></span></span></span></span>"
      ],
      "text/plain": [
       "<IPython.core.display.HTML object>"
      ]
     },
     "metadata": {},
     "output_type": "display_data"
    },
    {
     "data": {
      "text/html": [
       "<span class=\"vrs ltr\"><a href=\"https://cdli.ucla.edu/search/search_results.php?SearchMode=Text&amp;ObjectID=P292987\" title=\"show this document on CDLI\" sec=\"P292987 reverse:3\">P292987 reverse:3</a></span>&nbsp;<span class=\"plain outer  \" ><span class=\"plain\"><span class=\"plain \" ><span class=\"plain \" ><span class=\"txtr\">i-</span></span><span class=\"plain \" ><span class=\"txtr\">he-</span></span><span class=\"plain \" ><span class=\"txtr\">er-</span></span><span class=\"plain \" ><span class=\"txtr\">ri</span></span></span></span></span>"
      ],
      "text/plain": [
       "<IPython.core.display.HTML object>"
      ]
     },
     "metadata": {},
     "output_type": "display_data"
    },
    {
     "data": {
      "text/html": [
       "<span class=\"vrs ltr\"><a href=\"https://cdli.ucla.edu/search/search_results.php?SearchMode=Text&amp;ObjectID=P292987\" title=\"show this document on CDLI\" sec=\"P292987 reverse:4\">P292987 reverse:4</a></span>&nbsp;<span class=\"plain outer  \" ><span class=\"plain\"><span class=\"plain \" ><span class=\"plain \" ><span class=\"txtr\">la-</span></span><span class=\"plain \" ><span class=\"txtr\">ma </span></span></span><span class=\"plain \" ><span class=\"plain \" ><span class=\"txtr\">qa₂-</span></span><span class=\"plain \" ><span class=\"txtr\">as-</span></span><span class=\"plain \" ><span class=\"txtr\">su₂</span></span></span></span></span>"
      ],
      "text/plain": [
       "<IPython.core.display.HTML object>"
      ]
     },
     "metadata": {},
     "output_type": "display_data"
    },
    {
     "data": {
      "text/html": [
       "<span class=\"vrs ltr\"><a href=\"https://cdli.ucla.edu/search/search_results.php?SearchMode=Text&amp;ObjectID=P292987\" title=\"show this document on CDLI\" sec=\"P292987 reverse:5\">P292987 reverse:5</a></span>&nbsp;<span class=\"plain outer  \" ><span class=\"plain\"><span class=\"plain \" ><span class=\"plain \" ><span class=\"txtr\">iš-</span></span><span class=\"plain \" ><span class=\"txtr\">ku-</span></span><span class=\"plain \" ><span class=\"txtr\">nu</span></span></span></span></span>"
      ],
      "text/plain": [
       "<IPython.core.display.HTML object>"
      ]
     },
     "metadata": {},
     "output_type": "display_data"
    },
    {
     "data": {
      "text/html": [
       "<span class=\"vrs ltr\"><a href=\"https://cdli.ucla.edu/search/search_results.php?SearchMode=Text&amp;ObjectID=P292987\" title=\"show this document on CDLI\" sec=\"P292987 reverse:6\">P292987 reverse:6</a></span>&nbsp;<span class=\"plain outer  \" ><span class=\"plain\"><span class=\"plain \" ><span class=\"plain \" ><span class=\"txtr\">at-</span></span><span class=\"plain \" ><span class=\"txtr\">ta </span></span></span><span class=\"plain \" ><span class=\"plain \" ><span class=\"txtr\">hi-</span></span><span class=\"plain \" ><span class=\"txtr\">i-</span></span><span class=\"plain \" ><span class=\"txtr\">ri</span></span></span></span></span>"
      ],
      "text/plain": [
       "<IPython.core.display.HTML object>"
      ]
     },
     "metadata": {},
     "output_type": "display_data"
    },
    {
     "data": {
      "text/html": [
       "<span class=\"vrs ltr\"><a href=\"https://cdli.ucla.edu/search/search_results.php?SearchMode=Text&amp;ObjectID=P292987\" title=\"show this document on CDLI\" sec=\"P292987 reverse:7\">P292987 reverse:7</a></span>&nbsp;<span class=\"plain outer  \" ><span class=\"plain\"><span class=\"plain \" ><span class=\"plain \" ><span class=\"txtr\">u₃ </span></span></span><span class=\"plain \" ><span class=\"plain \" ><span class=\"txtr\">a-</span></span><span class=\"plain \" ><span class=\"txtr\">na</span></span></span></span></span>"
      ],
      "text/plain": [
       "<IPython.core.display.HTML object>"
      ]
     },
     "metadata": {},
     "output_type": "display_data"
    },
    {
     "data": {
      "text/html": [
       "<span class=\"vrs ltr\"><a href=\"https://cdli.ucla.edu/search/search_results.php?SearchMode=Text&amp;ObjectID=P292987\" title=\"show this document on CDLI\" sec=\"P292987 reverse:8\">P292987 reverse:8</a></span>&nbsp;<span class=\"plain outer  \" ><span class=\"plain\"><span class=\"plain \" ><span class=\"plain \" ><span class=\"txtr\">i-</span></span><span class=\"plain \" ><span class=\"txtr\">šar-</span></span><span class=\"plain \" ><span class=\"txtr\">ku-</span></span><span class=\"plain \" ><span class=\"txtr\">bi</span></span></span></span></span>"
      ],
      "text/plain": [
       "<IPython.core.display.HTML object>"
      ]
     },
     "metadata": {},
     "output_type": "display_data"
    }
   ],
   "source": [
    "for l in lines:\n",
    "  A.plain(l, fmt='text-orig-rich')"
   ]
  },
  {
   "cell_type": "markdown",
   "metadata": {},
   "source": [
    "### `text-orig-unicode`\n",
    "\n",
    "This format uses the Cuneiform Unicode characters.\n",
    "\n",
    "Numerals with repeats are represented by placing that many copies of the character in question.\n",
    "\n",
    "Readings that could not be found in the\n",
    "[mapping](https://github.com/Nino-cunei/oldbabylonian/blob/master/sources/writing/GeneratedSignList.json)\n",
    "we use, appear in latin characters.\n",
    "\n",
    "There is no flag/cluster information in this representation."
   ]
  },
  {
   "cell_type": "code",
   "execution_count": 40,
   "metadata": {},
   "outputs": [
    {
     "data": {
      "text/html": [
       "<span class=\"vrs ltr\"><a href=\"https://cdli.ucla.edu/search/search_results.php?SearchMode=Text&amp;ObjectID=P292987\" title=\"show this document on CDLI\" sec=\"P292987 reverse:1\">P292987 reverse:1</a></span>&nbsp;<span class=\"plain outer  \" ><span class=\"plain\"><span class=\"plain \" ><span class=\"plain \" ><span class=\"txtu\">𒉡</span></span><span class=\"plain \" ><span class=\"txtu\">𒊌=𒊍</span></span><span class=\"plain \" ><span class=\"txtu\">𒋫</span></span><span class=\"plain \" ><span class=\"txtu\">𒆷</span></span><span class=\"plain \" ><span class=\"txtu\">𒀠</span></span><span class=\"plain \" ><span class=\"txtu\">𒇷</span></span><span class=\"plain \" ><span class=\"txtu\">𒈬</span></span></span></span></span>"
      ],
      "text/plain": [
       "<IPython.core.display.HTML object>"
      ]
     },
     "metadata": {},
     "output_type": "display_data"
    },
    {
     "data": {
      "text/html": [
       "<span class=\"vrs ltr\"><a href=\"https://cdli.ucla.edu/search/search_results.php?SearchMode=Text&amp;ObjectID=P292987\" title=\"show this document on CDLI\" sec=\"P292987 reverse:2\">P292987 reverse:2</a></span>&nbsp;<span class=\"plain outer  \" ><span class=\"plain\"><span class=\"plain \" ><span class=\"plain \" ><span class=\"txtu\">𒌉 </span></span></span><span class=\"plain \" ><span class=\"plain \" ><span class=\"txtu\">𒆬</span></span><span class=\"plain \" ><span class=\"txtu\">𒀭</span></span><span class=\"plain \" ><span class=\"txtu\">𒌶𒆠</span></span></span></span></span>"
      ],
      "text/plain": [
       "<IPython.core.display.HTML object>"
      ]
     },
     "metadata": {},
     "output_type": "display_data"
    },
    {
     "data": {
      "text/html": [
       "<span class=\"vrs ltr\"><a href=\"https://cdli.ucla.edu/search/search_results.php?SearchMode=Text&amp;ObjectID=P292987\" title=\"show this document on CDLI\" sec=\"P292987 reverse:3\">P292987 reverse:3</a></span>&nbsp;<span class=\"plain outer  \" ><span class=\"plain\"><span class=\"plain \" ><span class=\"plain \" ><span class=\"txtu\">𒄿</span></span><span class=\"plain \" ><span class=\"txtu\">𒄭</span></span><span class=\"plain \" ><span class=\"txtu\">𒅕</span></span><span class=\"plain \" ><span class=\"txtu\">𒊑</span></span></span></span></span>"
      ],
      "text/plain": [
       "<IPython.core.display.HTML object>"
      ]
     },
     "metadata": {},
     "output_type": "display_data"
    },
    {
     "data": {
      "text/html": [
       "<span class=\"vrs ltr\"><a href=\"https://cdli.ucla.edu/search/search_results.php?SearchMode=Text&amp;ObjectID=P292987\" title=\"show this document on CDLI\" sec=\"P292987 reverse:4\">P292987 reverse:4</a></span>&nbsp;<span class=\"plain outer  \" ><span class=\"plain\"><span class=\"plain \" ><span class=\"plain \" ><span class=\"txtu\">𒆷</span></span><span class=\"plain \" ><span class=\"txtu\">𒈠 </span></span></span><span class=\"plain \" ><span class=\"plain \" ><span class=\"txtu\">𒂵</span></span><span class=\"plain \" ><span class=\"txtu\">𒊍</span></span><span class=\"plain \" ><span class=\"txtu\">𒍪</span></span></span></span></span>"
      ],
      "text/plain": [
       "<IPython.core.display.HTML object>"
      ]
     },
     "metadata": {},
     "output_type": "display_data"
    },
    {
     "data": {
      "text/html": [
       "<span class=\"vrs ltr\"><a href=\"https://cdli.ucla.edu/search/search_results.php?SearchMode=Text&amp;ObjectID=P292987\" title=\"show this document on CDLI\" sec=\"P292987 reverse:5\">P292987 reverse:5</a></span>&nbsp;<span class=\"plain outer  \" ><span class=\"plain\"><span class=\"plain \" ><span class=\"plain \" ><span class=\"txtu\">𒅖</span></span><span class=\"plain \" ><span class=\"txtu\">𒆪</span></span><span class=\"plain \" ><span class=\"txtu\">𒉡</span></span></span></span></span>"
      ],
      "text/plain": [
       "<IPython.core.display.HTML object>"
      ]
     },
     "metadata": {},
     "output_type": "display_data"
    },
    {
     "data": {
      "text/html": [
       "<span class=\"vrs ltr\"><a href=\"https://cdli.ucla.edu/search/search_results.php?SearchMode=Text&amp;ObjectID=P292987\" title=\"show this document on CDLI\" sec=\"P292987 reverse:6\">P292987 reverse:6</a></span>&nbsp;<span class=\"plain outer  \" ><span class=\"plain\"><span class=\"plain \" ><span class=\"plain \" ><span class=\"txtu\">𒀜</span></span><span class=\"plain \" ><span class=\"txtu\">𒋫 </span></span></span><span class=\"plain \" ><span class=\"plain \" ><span class=\"txtu\">𒄭</span></span><span class=\"plain \" ><span class=\"txtu\">𒄿</span></span><span class=\"plain \" ><span class=\"txtu\">𒊑</span></span></span></span></span>"
      ],
      "text/plain": [
       "<IPython.core.display.HTML object>"
      ]
     },
     "metadata": {},
     "output_type": "display_data"
    },
    {
     "data": {
      "text/html": [
       "<span class=\"vrs ltr\"><a href=\"https://cdli.ucla.edu/search/search_results.php?SearchMode=Text&amp;ObjectID=P292987\" title=\"show this document on CDLI\" sec=\"P292987 reverse:7\">P292987 reverse:7</a></span>&nbsp;<span class=\"plain outer  \" ><span class=\"plain\"><span class=\"plain \" ><span class=\"plain \" ><span class=\"txtu\">𒅇 </span></span></span><span class=\"plain \" ><span class=\"plain \" ><span class=\"txtu\">𒀀</span></span><span class=\"plain \" ><span class=\"txtu\">𒈾</span></span></span></span></span>"
      ],
      "text/plain": [
       "<IPython.core.display.HTML object>"
      ]
     },
     "metadata": {},
     "output_type": "display_data"
    },
    {
     "data": {
      "text/html": [
       "<span class=\"vrs ltr\"><a href=\"https://cdli.ucla.edu/search/search_results.php?SearchMode=Text&amp;ObjectID=P292987\" title=\"show this document on CDLI\" sec=\"P292987 reverse:8\">P292987 reverse:8</a></span>&nbsp;<span class=\"plain outer  \" ><span class=\"plain\"><span class=\"plain \" ><span class=\"plain \" ><span class=\"txtu\">𒄿</span></span><span class=\"plain \" ><span class=\"txtu\">𒊬</span></span><span class=\"plain \" ><span class=\"txtu\">𒆪</span></span><span class=\"plain \" ><span class=\"txtu\">𒁉</span></span></span></span></span>"
      ],
      "text/plain": [
       "<IPython.core.display.HTML object>"
      ]
     },
     "metadata": {},
     "output_type": "display_data"
    }
   ],
   "source": [
    "for l in lines:\n",
    "  A.plain(l, fmt='text-orig-unicode')"
   ]
  },
  {
   "cell_type": "markdown",
   "metadata": {},
   "source": [
    "## Styled text formats\n",
    "\n",
    "The formats whose names start with `layout-` are the styled text formats.\n",
    "\n",
    "### `layout-orig-rich`\n",
    "\n",
    "This format looks like `text-orig-rich`, but now we re-introduce the flags and clusters by specific\n",
    "layout devices.\n",
    "\n",
    "See below for detailed examples."
   ]
  },
  {
   "cell_type": "code",
   "execution_count": 41,
   "metadata": {},
   "outputs": [
    {
     "data": {
      "text/html": [
       "<span class=\"vrs ltr\"><a href=\"https://cdli.ucla.edu/search/search_results.php?SearchMode=Text&amp;ObjectID=P292987\" title=\"show this document on CDLI\" sec=\"P292987 reverse:1\">P292987 reverse:1</a></span>&nbsp;<span class=\"plain outer  \" ><span class=\"plain\"><span class=\"plain \" ><span class=\"plain \" ><span class=\"txtr\"><span class=\"r\">nu</span>-</span></span><span class=\"plain \" ><span class=\"txtr\"><span class=\"r\">uk</span><span class=\"operator\">=</span>⌈<span class=\"g\">AZ</span>⌉-</span></span><span class=\"plain \" ><span class=\"txtr\"><span class=\"r\">ta</span>-</span></span><span class=\"plain \" ><span class=\"txtr\"><span class=\"r\">la</span>-</span></span><span class=\"plain \" ><span class=\"txtr\"><span class=\"r\">al</span>-</span></span><span class=\"plain \" ><span class=\"txtr\"><span class=\"r\">li</span>-</span></span><span class=\"plain \" ><span class=\"txtr\"><span class=\"r\">mu</span></span></span></span></span></span>"
      ],
      "text/plain": [
       "<IPython.core.display.HTML object>"
      ]
     },
     "metadata": {},
     "output_type": "display_data"
    },
    {
     "data": {
      "text/html": [
       "<span class=\"vrs ltr\"><a href=\"https://cdli.ucla.edu/search/search_results.php?SearchMode=Text&amp;ObjectID=P292987\" title=\"show this document on CDLI\" sec=\"P292987 reverse:2\">P292987 reverse:2</a></span>&nbsp;<span class=\"plain outer  \" ><span class=\"plain\"><span class=\"plain \" ><span class=\"plain \" ><span class=\"txtr\"><span class=\"r\">dumu</span> </span></span></span><span class=\"plain \" ><span class=\"plain \" ><span class=\"txtr\"><span class=\"damage\"><span class=\"r\">ku₃</span></span>-</span></span><span class=\"plain \" ><span class=\"txtr\"><span class=\"det\"><span class=\"r\">d</span></span></span></span><span class=\"plain \" ><span class=\"txtr\"><span class=\"r\">nanna</span></span></span></span></span></span>"
      ],
      "text/plain": [
       "<IPython.core.display.HTML object>"
      ]
     },
     "metadata": {},
     "output_type": "display_data"
    },
    {
     "data": {
      "text/html": [
       "<span class=\"vrs ltr\"><a href=\"https://cdli.ucla.edu/search/search_results.php?SearchMode=Text&amp;ObjectID=P292987\" title=\"show this document on CDLI\" sec=\"P292987 reverse:3\">P292987 reverse:3</a></span>&nbsp;<span class=\"plain outer  \" ><span class=\"plain\"><span class=\"plain \" ><span class=\"plain \" ><span class=\"txtr\"><span class=\"r\">i</span>-</span></span><span class=\"plain \" ><span class=\"txtr\"><span class=\"damage\"><span class=\"r\">he</span></span>-</span></span><span class=\"plain \" ><span class=\"txtr\"><span class=\"missing\"><span class=\"r\">er</span></span>-</span></span><span class=\"plain \" ><span class=\"txtr\"><span class=\"damage\"><span class=\"r\">ri</span></span></span></span></span></span></span>"
      ],
      "text/plain": [
       "<IPython.core.display.HTML object>"
      ]
     },
     "metadata": {},
     "output_type": "display_data"
    },
    {
     "data": {
      "text/html": [
       "<span class=\"vrs ltr\"><a href=\"https://cdli.ucla.edu/search/search_results.php?SearchMode=Text&amp;ObjectID=P292987\" title=\"show this document on CDLI\" sec=\"P292987 reverse:4\">P292987 reverse:4</a></span>&nbsp;<span class=\"plain outer  \" ><span class=\"plain\"><span class=\"plain \" ><span class=\"plain \" ><span class=\"txtr\"><span class=\"r\">la</span>-</span></span><span class=\"plain \" ><span class=\"txtr\"><span class=\"r\">ma</span> </span></span></span><span class=\"plain \" ><span class=\"plain \" ><span class=\"txtr\"><span class=\"r\">qa₂</span>-</span></span><span class=\"plain \" ><span class=\"txtr\"><span class=\"r\">as</span>-</span></span><span class=\"plain \" ><span class=\"txtr\"><span class=\"r\">su₂</span></span></span></span></span></span>"
      ],
      "text/plain": [
       "<IPython.core.display.HTML object>"
      ]
     },
     "metadata": {},
     "output_type": "display_data"
    },
    {
     "data": {
      "text/html": [
       "<span class=\"vrs ltr\"><a href=\"https://cdli.ucla.edu/search/search_results.php?SearchMode=Text&amp;ObjectID=P292987\" title=\"show this document on CDLI\" sec=\"P292987 reverse:5\">P292987 reverse:5</a></span>&nbsp;<span class=\"plain outer  \" ><span class=\"plain\"><span class=\"plain \" ><span class=\"plain \" ><span class=\"txtr\"><span class=\"damage\"><span class=\"r\">iš</span></span>-</span></span><span class=\"plain \" ><span class=\"txtr\"><span class=\"r\">ku</span>-</span></span><span class=\"plain \" ><span class=\"txtr\"><span class=\"r\">nu</span></span></span></span></span></span>"
      ],
      "text/plain": [
       "<IPython.core.display.HTML object>"
      ]
     },
     "metadata": {},
     "output_type": "display_data"
    },
    {
     "data": {
      "text/html": [
       "<span class=\"vrs ltr\"><a href=\"https://cdli.ucla.edu/search/search_results.php?SearchMode=Text&amp;ObjectID=P292987\" title=\"show this document on CDLI\" sec=\"P292987 reverse:6\">P292987 reverse:6</a></span>&nbsp;<span class=\"plain outer  \" ><span class=\"plain\"><span class=\"plain \" ><span class=\"plain \" ><span class=\"txtr\"><span class=\"damage\"><span class=\"r\">at</span></span>-</span></span><span class=\"plain \" ><span class=\"txtr\"><span class=\"r\">ta</span> </span></span></span><span class=\"plain \" ><span class=\"plain \" ><span class=\"txtr\"><span class=\"r\">hi</span>-</span></span><span class=\"plain \" ><span class=\"txtr\"><span class=\"r\">i</span>-</span></span><span class=\"plain \" ><span class=\"txtr\"><span class=\"r\">ri</span></span></span></span></span></span>"
      ],
      "text/plain": [
       "<IPython.core.display.HTML object>"
      ]
     },
     "metadata": {},
     "output_type": "display_data"
    },
    {
     "data": {
      "text/html": [
       "<span class=\"vrs ltr\"><a href=\"https://cdli.ucla.edu/search/search_results.php?SearchMode=Text&amp;ObjectID=P292987\" title=\"show this document on CDLI\" sec=\"P292987 reverse:7\">P292987 reverse:7</a></span>&nbsp;<span class=\"plain outer  \" ><span class=\"plain\"><span class=\"plain \" ><span class=\"plain \" ><span class=\"txtr\"><span class=\"r\">u₃</span> </span></span></span><span class=\"plain \" ><span class=\"plain \" ><span class=\"txtr\"><span class=\"r\">a</span>-</span></span><span class=\"plain \" ><span class=\"txtr\"><span class=\"r\">na</span></span></span></span></span></span>"
      ],
      "text/plain": [
       "<IPython.core.display.HTML object>"
      ]
     },
     "metadata": {},
     "output_type": "display_data"
    },
    {
     "data": {
      "text/html": [
       "<span class=\"vrs ltr\"><a href=\"https://cdli.ucla.edu/search/search_results.php?SearchMode=Text&amp;ObjectID=P292987\" title=\"show this document on CDLI\" sec=\"P292987 reverse:8\">P292987 reverse:8</a></span>&nbsp;<span class=\"plain outer  \" ><span class=\"plain\"><span class=\"plain \" ><span class=\"plain \" ><span class=\"txtr\"><span class=\"r\">i</span>-</span></span><span class=\"plain \" ><span class=\"txtr\"><span class=\"r\">šar</span>-</span></span><span class=\"plain \" ><span class=\"txtr\"><span class=\"r\">ku</span>-</span></span><span class=\"plain \" ><span class=\"txtr\"><span class=\"r\">bi</span></span></span></span></span></span>"
      ],
      "text/plain": [
       "<IPython.core.display.HTML object>"
      ]
     },
     "metadata": {},
     "output_type": "display_data"
    }
   ],
   "source": [
    "for l in lines:\n",
    "  A.plain(l, fmt='layout-orig-rich')"
   ]
  },
  {
   "cell_type": "markdown",
   "metadata": {},
   "source": [
    "### `layout-orig-unicode`\n",
    "\n",
    "This format looks like `text-orig-unicode`, but now we re-introduce the flags and clusters by specific\n",
    "layout devices.\n",
    "\n",
    "See below for detailed examples."
   ]
  },
  {
   "cell_type": "code",
   "execution_count": 42,
   "metadata": {},
   "outputs": [
    {
     "data": {
      "text/html": [
       "<span class=\"vrs ltr\"><a href=\"https://cdli.ucla.edu/search/search_results.php?SearchMode=Text&amp;ObjectID=P292987\" title=\"show this document on CDLI\" sec=\"P292987 reverse:1\">P292987 reverse:1</a></span>&nbsp;<span class=\"plain outer  \" ><span class=\"plain\"><span class=\"plain \" ><span class=\"plain \" ><span class=\"txtu\"><span class=\"r\">𒉡</span></span></span><span class=\"plain \" ><span class=\"txtu\"><span class=\"r\">𒊌</span><span class=\"operator\">=</span>⌈<span class=\"g\">𒊍</span>⌉</span></span><span class=\"plain \" ><span class=\"txtu\"><span class=\"r\">𒋫</span></span></span><span class=\"plain \" ><span class=\"txtu\"><span class=\"r\">𒆷</span></span></span><span class=\"plain \" ><span class=\"txtu\"><span class=\"r\">𒀠</span></span></span><span class=\"plain \" ><span class=\"txtu\"><span class=\"r\">𒇷</span></span></span><span class=\"plain \" ><span class=\"txtu\"><span class=\"r\">𒈬</span></span></span></span></span></span>"
      ],
      "text/plain": [
       "<IPython.core.display.HTML object>"
      ]
     },
     "metadata": {},
     "output_type": "display_data"
    },
    {
     "data": {
      "text/html": [
       "<span class=\"vrs ltr\"><a href=\"https://cdli.ucla.edu/search/search_results.php?SearchMode=Text&amp;ObjectID=P292987\" title=\"show this document on CDLI\" sec=\"P292987 reverse:2\">P292987 reverse:2</a></span>&nbsp;<span class=\"plain outer  \" ><span class=\"plain\"><span class=\"plain \" ><span class=\"plain \" ><span class=\"txtu\"><span class=\"r\">𒌉</span> </span></span></span><span class=\"plain \" ><span class=\"plain \" ><span class=\"txtu\"><span class=\"damage\"><span class=\"r\">𒆬</span></span></span></span><span class=\"plain \" ><span class=\"txtu\"><span class=\"det\"><span class=\"r\">𒀭</span></span></span></span><span class=\"plain \" ><span class=\"txtu\"><span class=\"r\">𒌶𒆠</span></span></span></span></span></span>"
      ],
      "text/plain": [
       "<IPython.core.display.HTML object>"
      ]
     },
     "metadata": {},
     "output_type": "display_data"
    },
    {
     "data": {
      "text/html": [
       "<span class=\"vrs ltr\"><a href=\"https://cdli.ucla.edu/search/search_results.php?SearchMode=Text&amp;ObjectID=P292987\" title=\"show this document on CDLI\" sec=\"P292987 reverse:3\">P292987 reverse:3</a></span>&nbsp;<span class=\"plain outer  \" ><span class=\"plain\"><span class=\"plain \" ><span class=\"plain \" ><span class=\"txtu\"><span class=\"r\">𒄿</span></span></span><span class=\"plain \" ><span class=\"txtu\"><span class=\"damage\"><span class=\"r\">𒄭</span></span></span></span><span class=\"plain \" ><span class=\"txtu\"><span class=\"missing\"><span class=\"r\">𒅕</span></span></span></span><span class=\"plain \" ><span class=\"txtu\"><span class=\"damage\"><span class=\"r\">𒊑</span></span></span></span></span></span></span>"
      ],
      "text/plain": [
       "<IPython.core.display.HTML object>"
      ]
     },
     "metadata": {},
     "output_type": "display_data"
    },
    {
     "data": {
      "text/html": [
       "<span class=\"vrs ltr\"><a href=\"https://cdli.ucla.edu/search/search_results.php?SearchMode=Text&amp;ObjectID=P292987\" title=\"show this document on CDLI\" sec=\"P292987 reverse:4\">P292987 reverse:4</a></span>&nbsp;<span class=\"plain outer  \" ><span class=\"plain\"><span class=\"plain \" ><span class=\"plain \" ><span class=\"txtu\"><span class=\"r\">𒆷</span></span></span><span class=\"plain \" ><span class=\"txtu\"><span class=\"r\">𒈠</span> </span></span></span><span class=\"plain \" ><span class=\"plain \" ><span class=\"txtu\"><span class=\"r\">𒂵</span></span></span><span class=\"plain \" ><span class=\"txtu\"><span class=\"r\">𒊍</span></span></span><span class=\"plain \" ><span class=\"txtu\"><span class=\"r\">𒍪</span></span></span></span></span></span>"
      ],
      "text/plain": [
       "<IPython.core.display.HTML object>"
      ]
     },
     "metadata": {},
     "output_type": "display_data"
    },
    {
     "data": {
      "text/html": [
       "<span class=\"vrs ltr\"><a href=\"https://cdli.ucla.edu/search/search_results.php?SearchMode=Text&amp;ObjectID=P292987\" title=\"show this document on CDLI\" sec=\"P292987 reverse:5\">P292987 reverse:5</a></span>&nbsp;<span class=\"plain outer  \" ><span class=\"plain\"><span class=\"plain \" ><span class=\"plain \" ><span class=\"txtu\"><span class=\"damage\"><span class=\"r\">𒅖</span></span></span></span><span class=\"plain \" ><span class=\"txtu\"><span class=\"r\">𒆪</span></span></span><span class=\"plain \" ><span class=\"txtu\"><span class=\"r\">𒉡</span></span></span></span></span></span>"
      ],
      "text/plain": [
       "<IPython.core.display.HTML object>"
      ]
     },
     "metadata": {},
     "output_type": "display_data"
    },
    {
     "data": {
      "text/html": [
       "<span class=\"vrs ltr\"><a href=\"https://cdli.ucla.edu/search/search_results.php?SearchMode=Text&amp;ObjectID=P292987\" title=\"show this document on CDLI\" sec=\"P292987 reverse:6\">P292987 reverse:6</a></span>&nbsp;<span class=\"plain outer  \" ><span class=\"plain\"><span class=\"plain \" ><span class=\"plain \" ><span class=\"txtu\"><span class=\"damage\"><span class=\"r\">𒀜</span></span></span></span><span class=\"plain \" ><span class=\"txtu\"><span class=\"r\">𒋫</span> </span></span></span><span class=\"plain \" ><span class=\"plain \" ><span class=\"txtu\"><span class=\"r\">𒄭</span></span></span><span class=\"plain \" ><span class=\"txtu\"><span class=\"r\">𒄿</span></span></span><span class=\"plain \" ><span class=\"txtu\"><span class=\"r\">𒊑</span></span></span></span></span></span>"
      ],
      "text/plain": [
       "<IPython.core.display.HTML object>"
      ]
     },
     "metadata": {},
     "output_type": "display_data"
    },
    {
     "data": {
      "text/html": [
       "<span class=\"vrs ltr\"><a href=\"https://cdli.ucla.edu/search/search_results.php?SearchMode=Text&amp;ObjectID=P292987\" title=\"show this document on CDLI\" sec=\"P292987 reverse:7\">P292987 reverse:7</a></span>&nbsp;<span class=\"plain outer  \" ><span class=\"plain\"><span class=\"plain \" ><span class=\"plain \" ><span class=\"txtu\"><span class=\"r\">𒅇</span> </span></span></span><span class=\"plain \" ><span class=\"plain \" ><span class=\"txtu\"><span class=\"r\">𒀀</span></span></span><span class=\"plain \" ><span class=\"txtu\"><span class=\"r\">𒈾</span></span></span></span></span></span>"
      ],
      "text/plain": [
       "<IPython.core.display.HTML object>"
      ]
     },
     "metadata": {},
     "output_type": "display_data"
    },
    {
     "data": {
      "text/html": [
       "<span class=\"vrs ltr\"><a href=\"https://cdli.ucla.edu/search/search_results.php?SearchMode=Text&amp;ObjectID=P292987\" title=\"show this document on CDLI\" sec=\"P292987 reverse:8\">P292987 reverse:8</a></span>&nbsp;<span class=\"plain outer  \" ><span class=\"plain\"><span class=\"plain \" ><span class=\"plain \" ><span class=\"txtu\"><span class=\"r\">𒄿</span></span></span><span class=\"plain \" ><span class=\"txtu\"><span class=\"r\">𒊬</span></span></span><span class=\"plain \" ><span class=\"txtu\"><span class=\"r\">𒆪</span></span></span><span class=\"plain \" ><span class=\"txtu\"><span class=\"r\">𒁉</span></span></span></span></span></span>"
      ],
      "text/plain": [
       "<IPython.core.display.HTML object>"
      ]
     },
     "metadata": {},
     "output_type": "display_data"
    }
   ],
   "source": [
    "for l in lines:\n",
    "  A.plain(l, fmt='layout-orig-unicode')"
   ]
  },
  {
   "cell_type": "markdown",
   "metadata": {},
   "source": [
    "Here is the text of the face in each of the plain text formats, i.e. no additional HTML formatting is applied."
   ]
  },
  {
   "cell_type": "markdown",
   "metadata": {},
   "source": [
    "# Pretty\n",
    "\n",
    "The ultimate of graphical display is by means of the `pretty()` function.\n",
    "\n",
    "This display is less useful for reading, but instead optimized for showing all information that you might\n",
    "wish for.\n",
    "\n",
    "It shows a base representation according to a text format of your choice\n",
    "(here we choose `layout-orig-rich`), and it shows the values\n",
    "of a standard set of features."
   ]
  },
  {
   "cell_type": "code",
   "execution_count": 43,
   "metadata": {},
   "outputs": [
    {
     "data": {
      "text/html": [
       "<a href=\"https://cdli.ucla.edu/search/search_results.php?SearchMode=Text&amp;ObjectID=P509373\" title=\"show this document on CDLI\" sec=\"P509373 obverse:1\">P509373 obverse:1</a><div class=\"contnr word \" ><div class=\"lbl word\"><a href=\"https://cdli.ucla.edu/search/search_results.php?SearchMode=Text&amp;ObjectID=P509373\" title=\"P509373 obverse:1\" sec=\"P509373 obverse:1\">word <span class=\"txtu\"><span class=\"plain outer  \" ><span class=\"plain \" ><span class=\"txtu\"><span class=\"langalt\"><span class=\"det\"><span class=\"r\">𒀭</span></span></span></span></span><span class=\"plain \" ><span class=\"txtu\"><span class=\"langalt\"><span class=\"r\">𒂗𒍪</span></span></span></span><span class=\"plain \" ><span class=\"txtu\"><span class=\"r\">𒄿</span></span></span><span class=\"plain \" ><span class=\"txtu\"><span class=\"missing\"><span class=\"r\">𒁷</span></span></span></span><span class=\"plain \" ><span class=\"txtu\"><span class=\"missing\"><span class=\"r\">𒉆</span></span></span></span></span></span></a> <span class=\"nd\">258164</span></div><div class=\"meta\"><div class=\"features\"></div></div></div>"
      ],
      "text/plain": [
       "<IPython.core.display.HTML object>"
      ]
     },
     "metadata": {},
     "output_type": "display_data"
    }
   ],
   "source": [
    "A.pretty(F.otype.s('word')[1], fmt='layout-orig-unicode', withNodes=True)"
   ]
  },
  {
   "cell_type": "markdown",
   "metadata": {},
   "source": [
    "By default, pretty displays descend to the word level, but you can also descend to the sign level:"
   ]
  },
  {
   "cell_type": "code",
   "execution_count": 44,
   "metadata": {},
   "outputs": [
    {
     "data": {
      "text/html": [
       "<a href=\"https://cdli.ucla.edu/search/search_results.php?SearchMode=Text&amp;ObjectID=P509373\" title=\"show this document on CDLI\" sec=\"P509373 obverse:1\">P509373 obverse:1</a><div class=\"contnr word \" ><div class=\"lbl word\"><a href=\"https://cdli.ucla.edu/search/search_results.php?SearchMode=Text&amp;ObjectID=P509373\" title=\"P509373 obverse:1\" sec=\"P509373 obverse:1\">word <span class=\"txtu\"><span class=\"langalt\"><span class=\"det\"><span class=\"r\">𒀭</span></span></span><span class=\"langalt\"><span class=\"r\">𒂗𒍪</span></span><span class=\"r\">𒄿</span><span class=\"missing\"><span class=\"r\">𒁷</span></span><span class=\"missing\"><span class=\"r\">𒉆</span></span></span></a> <span class=\"nd\">258164</span></div><div class=\"meta\"><div class=\"features\"></div></div><div class=\"children word\"><div class=\"contnr sign \" ><div class=\"lbl sign\"><span class=\"txtu\"><span class=\"langalt\"><span class=\"det\"><span class=\"r\">𒀭</span></span></span></span> <span class=\"nd\">3</span></div><div class=\"meta\"><div class=\"features\"> <span class=\"det\"><span class=\"f\">det=</span>1</span> <span class=\"langalt\"><span class=\"f\">langalt=</span>1</span></div></div></div><div class=\"contnr sign \" ><div class=\"lbl sign\"><span class=\"txtu\"><span class=\"langalt\"><span class=\"r\">𒂗𒍪</span></span></span> <span class=\"nd\">4</span></div><div class=\"meta\"><div class=\"features\"> <span class=\"langalt\"><span class=\"f\">langalt=</span>1</span></div></div></div><div class=\"contnr sign \" ><div class=\"lbl sign\"><span class=\"txtu\"><span class=\"r\">𒄿</span></span> <span class=\"nd\">5</span></div><div class=\"meta\"><div class=\"features\"></div></div></div><div class=\"contnr sign \" ><div class=\"lbl sign\"><span class=\"txtu\"><span class=\"missing\"><span class=\"r\">𒁷</span></span></span> <span class=\"nd\">6</span></div><div class=\"meta\"><div class=\"features\"> <span class=\"missing\"><span class=\"f\">missing=</span>1</span></div></div></div><div class=\"contnr sign \" ><div class=\"lbl sign\"><span class=\"txtu\"><span class=\"missing\"><span class=\"r\">𒉆</span></span></span> <span class=\"nd\">7</span></div><div class=\"meta\"><div class=\"features\"> <span class=\"missing\"><span class=\"f\">missing=</span>1</span></div></div></div></div></div>"
      ],
      "text/plain": [
       "<IPython.core.display.HTML object>"
      ]
     },
     "metadata": {},
     "output_type": "display_data"
    }
   ],
   "source": [
    "A.pretty(F.otype.s('word')[1], fmt='layout-orig-unicode', baseType=\"sign\", withNodes=True)"
   ]
  },
  {
   "cell_type": "markdown",
   "metadata": {},
   "source": [
    "Later on, in the [search](search.ipynb) tutorial we see that `pretty()` can also display other features,\n",
    "even features that you or other people have created and added later.\n",
    "\n",
    "Here we call for the feature `atf`, which shows the original atf for the sign in question\n",
    "excluding the bracketing characters.\n",
    "\n",
    "Consult the\n",
    "[feature documentation](https://github.com/Nino-cunei/oldbabylonian/blob/master/docs//transcription.md)\n",
    "to see what information is stored in all the features.\n",
    "\n",
    "We show it with node numbers, but you could leave them out in an obvious way."
   ]
  },
  {
   "cell_type": "code",
   "execution_count": 45,
   "metadata": {},
   "outputs": [
    {
     "data": {
      "text/html": [
       "<div class=\"contnr face \" ><div class=\"lbl face\"><a href=\"https://cdli.ucla.edu/search/search_results.php?SearchMode=Text&amp;ObjectID=P292987\" title=\"P292987 reverse\" sec=\"P292987 reverse\">face <span class=\"txtn\">reverse</span></a> <span class=\"nd\">228928</span></div><div class=\"meta\"><div class=\"features\"> <span class=\"object\">tablet</span></div></div></div>"
      ],
      "text/plain": [
       "<IPython.core.display.HTML object>"
      ]
     },
     "metadata": {},
     "output_type": "display_data"
    }
   ],
   "source": [
    "A.pretty(f, extraFeatures='atf', fmt='layout-orig-rich', withNodes=True)"
   ]
  },
  {
   "cell_type": "markdown",
   "metadata": {},
   "source": [
    "We do not see much, because the default condense type is `line`, and a `document` is bigger than that.\n",
    "Objects bigger than de condense type will be abbreviated to a label that indicates their identity,\n",
    "not their contents.\n",
    "\n",
    "But we can override this by adding `full=True`.\n",
    "\n",
    "See also the documentation on [`pretty`](https://annotation.github.io/text-fabric/Api/App/#display)."
   ]
  },
  {
   "cell_type": "code",
   "execution_count": 46,
   "metadata": {},
   "outputs": [
    {
     "data": {
      "text/html": [
       "<div class=\"contnr face \" ><div class=\"lbl face\"><a href=\"https://cdli.ucla.edu/search/search_results.php?SearchMode=Text&amp;ObjectID=P292987\" title=\"P292987 reverse\" sec=\"P292987 reverse\">face <span class=\"txtn\">reverse</span></a> <span class=\"nd\">228928</span></div><div class=\"meta\"><div class=\"features\"> <span class=\"object\">tablet</span></div></div><div class=\"children face\"><div class=\"contnr line \" ><div class=\"lbl line\"><span class=\"txtn\">1</span> <span class=\"nd\">239995</span></div><div class=\"meta\"><div class=\"features\"></div></div><div class=\"children line\"><div class=\"contnr word \" ><div class=\"lbl word\"><span class=\"txtr\"><span class=\"plain outer  \" ><span class=\"plain \" ><span class=\"txtr\"><span class=\"r\">nu</span>-</span></span><span class=\"plain \" ><span class=\"txtr\"><span class=\"r\">uk</span><span class=\"operator\">=</span>⌈<span class=\"g\">AZ</span>⌉-</span></span><span class=\"plain \" ><span class=\"txtr\"><span class=\"r\">ta</span>-</span></span><span class=\"plain \" ><span class=\"txtr\"><span class=\"r\">la</span>-</span></span><span class=\"plain \" ><span class=\"txtr\"><span class=\"r\">al</span>-</span></span><span class=\"plain \" ><span class=\"txtr\"><span class=\"r\">li</span>-</span></span><span class=\"plain \" ><span class=\"txtr\"><span class=\"r\">mu</span></span></span></span></span> <span class=\"nd\">284534</span></div><div class=\"meta\"><div class=\"features\"> <span class=\"atf xft\"><span class=\"f\">atf=</span>nu-uk!(AZ)-ta-la-al-li-mu</span></div></div></div></div></div><div class=\"contnr line \" ><div class=\"lbl line\"><span class=\"txtn\">2</span> <span class=\"nd\">239996</span></div><div class=\"meta\"><div class=\"features\"></div></div><div class=\"children line\"><div class=\"contnr word \" ><div class=\"lbl word\"><span class=\"txtr\"><span class=\"plain outer  \" ><span class=\"plain \" ><span class=\"txtr\"><span class=\"r\">dumu</span> </span></span></span></span> <span class=\"nd\">284535</span></div><div class=\"meta\"><div class=\"features\"> <span class=\"atf xft\"><span class=\"f\">atf=</span>dumu</span></div></div></div><div class=\"contnr word \" ><div class=\"lbl word\"><span class=\"txtr\"><span class=\"plain outer  \" ><span class=\"plain \" ><span class=\"txtr\"><span class=\"damage\"><span class=\"r\">ku₃</span></span>-</span></span><span class=\"plain \" ><span class=\"txtr\"><span class=\"det\"><span class=\"r\">d</span></span></span></span><span class=\"plain \" ><span class=\"txtr\"><span class=\"r\">nanna</span></span></span></span></span> <span class=\"nd\">284536</span></div><div class=\"meta\"><div class=\"features\"> <span class=\"atf xft\"><span class=\"f\">atf=</span>ku3#-{d}nanna</span></div></div></div></div></div><div class=\"contnr line \" ><div class=\"lbl line\"><span class=\"txtn\">3</span> <span class=\"nd\">239997</span></div><div class=\"meta\"><div class=\"features\"></div></div><div class=\"children line\"><div class=\"contnr word \" ><div class=\"lbl word\"><span class=\"txtr\"><span class=\"plain outer  \" ><span class=\"plain \" ><span class=\"txtr\"><span class=\"r\">i</span>-</span></span><span class=\"plain \" ><span class=\"txtr\"><span class=\"damage\"><span class=\"r\">he</span></span>-</span></span><span class=\"plain \" ><span class=\"txtr\"><span class=\"missing\"><span class=\"r\">er</span></span>-</span></span><span class=\"plain \" ><span class=\"txtr\"><span class=\"damage\"><span class=\"r\">ri</span></span></span></span></span></span> <span class=\"nd\">284537</span></div><div class=\"meta\"><div class=\"features\"> <span class=\"atf xft\"><span class=\"f\">atf=</span>i-he#-[er]-ri#</span></div></div></div></div></div><div class=\"contnr line \" ><div class=\"lbl line\"><span class=\"txtn\">4</span> <span class=\"nd\">239998</span></div><div class=\"meta\"><div class=\"features\"></div></div><div class=\"children line\"><div class=\"contnr word \" ><div class=\"lbl word\"><span class=\"txtr\"><span class=\"plain outer  \" ><span class=\"plain \" ><span class=\"txtr\"><span class=\"r\">la</span>-</span></span><span class=\"plain \" ><span class=\"txtr\"><span class=\"r\">ma</span> </span></span></span></span> <span class=\"nd\">284538</span></div><div class=\"meta\"><div class=\"features\"> <span class=\"atf xft\"><span class=\"f\">atf=</span>la-ma</span></div></div></div><div class=\"contnr word \" ><div class=\"lbl word\"><span class=\"txtr\"><span class=\"plain outer  \" ><span class=\"plain \" ><span class=\"txtr\"><span class=\"r\">qa₂</span>-</span></span><span class=\"plain \" ><span class=\"txtr\"><span class=\"r\">as</span>-</span></span><span class=\"plain \" ><span class=\"txtr\"><span class=\"r\">su₂</span></span></span></span></span> <span class=\"nd\">284539</span></div><div class=\"meta\"><div class=\"features\"> <span class=\"atf xft\"><span class=\"f\">atf=</span>qa2-as-su2</span></div></div></div></div></div><div class=\"contnr line \" ><div class=\"lbl line\"><span class=\"txtn\">5</span> <span class=\"nd\">239999</span></div><div class=\"meta\"><div class=\"features\"></div></div><div class=\"children line\"><div class=\"contnr word \" ><div class=\"lbl word\"><span class=\"txtr\"><span class=\"plain outer  \" ><span class=\"plain \" ><span class=\"txtr\"><span class=\"damage\"><span class=\"r\">iš</span></span>-</span></span><span class=\"plain \" ><span class=\"txtr\"><span class=\"r\">ku</span>-</span></span><span class=\"plain \" ><span class=\"txtr\"><span class=\"r\">nu</span></span></span></span></span> <span class=\"nd\">284540</span></div><div class=\"meta\"><div class=\"features\"> <span class=\"atf xft\"><span class=\"f\">atf=</span>isz#-ku-nu</span></div></div></div></div></div><div class=\"contnr line \" ><div class=\"lbl line\"><span class=\"txtn\">6</span> <span class=\"nd\">240000</span></div><div class=\"meta\"><div class=\"features\"></div></div><div class=\"children line\"><div class=\"contnr word \" ><div class=\"lbl word\"><span class=\"txtr\"><span class=\"plain outer  \" ><span class=\"plain \" ><span class=\"txtr\"><span class=\"damage\"><span class=\"r\">at</span></span>-</span></span><span class=\"plain \" ><span class=\"txtr\"><span class=\"r\">ta</span> </span></span></span></span> <span class=\"nd\">284541</span></div><div class=\"meta\"><div class=\"features\"> <span class=\"atf xft\"><span class=\"f\">atf=</span>at#-ta</span></div></div></div><div class=\"contnr word \" ><div class=\"lbl word\"><span class=\"txtr\"><span class=\"plain outer  \" ><span class=\"plain \" ><span class=\"txtr\"><span class=\"r\">hi</span>-</span></span><span class=\"plain \" ><span class=\"txtr\"><span class=\"r\">i</span>-</span></span><span class=\"plain \" ><span class=\"txtr\"><span class=\"r\">ri</span></span></span></span></span> <span class=\"nd\">284542</span></div><div class=\"meta\"><div class=\"features\"> <span class=\"atf xft\"><span class=\"f\">atf=</span>hi-i-ri</span></div></div></div></div></div><div class=\"contnr line \" ><div class=\"lbl line\"><span class=\"txtn\">7</span> <span class=\"nd\">240001</span></div><div class=\"meta\"><div class=\"features\"></div></div><div class=\"children line\"><div class=\"contnr word \" ><div class=\"lbl word\"><span class=\"txtr\"><span class=\"plain outer  \" ><span class=\"plain \" ><span class=\"txtr\"><span class=\"r\">u₃</span> </span></span></span></span> <span class=\"nd\">284543</span></div><div class=\"meta\"><div class=\"features\"> <span class=\"atf xft\"><span class=\"f\">atf=</span>u3</span></div></div></div><div class=\"contnr word \" ><div class=\"lbl word\"><span class=\"txtr\"><span class=\"plain outer  \" ><span class=\"plain \" ><span class=\"txtr\"><span class=\"r\">a</span>-</span></span><span class=\"plain \" ><span class=\"txtr\"><span class=\"r\">na</span></span></span></span></span> <span class=\"nd\">284544</span></div><div class=\"meta\"><div class=\"features\"> <span class=\"atf xft\"><span class=\"f\">atf=</span>a-na</span></div></div></div></div></div><div class=\"contnr line \" ><div class=\"lbl line\"><span class=\"txtn\">8</span> <span class=\"nd\">240002</span></div><div class=\"meta\"><div class=\"features\"></div></div><div class=\"children line\"><div class=\"contnr word \" ><div class=\"lbl word\"><span class=\"txtr\"><span class=\"plain outer  \" ><span class=\"plain \" ><span class=\"txtr\"><span class=\"r\">i</span>-</span></span><span class=\"plain \" ><span class=\"txtr\"><span class=\"r\">šar</span>-</span></span><span class=\"plain \" ><span class=\"txtr\"><span class=\"r\">ku</span>-</span></span><span class=\"plain \" ><span class=\"txtr\"><span class=\"r\">bi</span></span></span></span></span> <span class=\"nd\">284545</span></div><div class=\"meta\"><div class=\"features\"> <span class=\"atf xft\"><span class=\"f\">atf=</span>i-szar-ku-bi</span></div></div></div></div></div></div></div>"
      ],
      "text/plain": [
       "<IPython.core.display.HTML object>"
      ]
     },
     "metadata": {},
     "output_type": "display_data"
    }
   ],
   "source": [
    "A.pretty(f, extraFeatures='atf', fmt='layout-orig-rich', withNodes=True, full=True)"
   ]
  },
  {
   "cell_type": "markdown",
   "metadata": {},
   "source": [
    "# Layout formats: the details\n",
    "\n",
    "We give detailed examples of how the material is styled in the `layout-` formats.\n",
    "\n",
    "We show the representation of all kinds of signs and also what the influence of\n",
    "clustering and flags are.\n",
    "\n",
    "Here are the design principles:\n",
    "\n",
    "* all flags `# ? ! *` cause the preceding sign to be in bold\n",
    "* damage `#` and missing `[ ]` text is blurry and in grey\n",
    "* questioned `?` and uncertain `( )` text is in italics\n",
    "* remarkable `!` and supplied `< >` text is overlined, supplied text is in blue\n",
    "* excised `<< >>` text has a strike-through and is in red\n",
    "* collated `*` text is underlined\n",
    "\n",
    "**Numerals** are written with repeats/fractions and the repeated material is in `⌈ ⌉`.\n",
    "If represented in cuneiform unicode, repeated material is actually repeated that many times, and the repeat number and\n",
    "the brackets are not shown.\n",
    "\n",
    "**Ligatures** (the `x` operator as in `kux(DU)`) are written with the `␣` character between the operands, and the second\n",
    "operand (`DU`) is written between `⌈ ⌉`.\n",
    "\n",
    "**Corrections** (as in `ku!(LU)`) are written as `ku=⌈LU⌉`.\n",
    "\n",
    "Just a quick overview of the sign types:"
   ]
  },
  {
   "cell_type": "code",
   "execution_count": 47,
   "metadata": {},
   "outputs": [
    {
     "data": {
      "text/plain": [
       "(('reading', 188292),\n",
       " ('unknown', 8761),\n",
       " ('numeral', 2184),\n",
       " ('ellipsis', 1617),\n",
       " ('grapheme', 1272),\n",
       " ('commentline', 969),\n",
       " ('complex', 122),\n",
       " ('comment', 2))"
      ]
     },
     "execution_count": 47,
     "metadata": {},
     "output_type": "execute_result"
    }
   ],
   "source": [
    "F.type.freqList('sign')"
   ]
  },
  {
   "cell_type": "markdown",
   "metadata": {},
   "source": [
    "# Styled display of ATF text"
   ]
  },
  {
   "cell_type": "code",
   "execution_count": 48,
   "metadata": {},
   "outputs": [],
   "source": [
    "lines = (\n",
    "  (('P510536', 'obverse', \"15\"), ('cluster: language', [1, 2, 3])),\n",
    "  (('P509373', 'obverse', \"1\"), ('cluster: determinative', [3])),\n",
    "  (('P509375', 'obverse', \"3\"), ('cluster: missing', [1, 2, 3, 6])),\n",
    "  (('P510736', 'reverse', \"5\"), ('cluster: uncertain', [6, 7, 8])),\n",
    "  (('P510526', 'obverse', \"8\"), ('cluster: supplied', [7, 8, 9])),\n",
    "  (('P373056', 'obverse', \"11\"), ('cluster: excised', [9, 10])),\n",
    "  (('P510536', 'obverse', \"8\"), ('flag: damage', [1, 2, 3, 6, 9, 10])),\n",
    "  (('P297171', 'reverse', \"1\"), ('flag: question', [3, 4, 5])),\n",
    "  (('P510536', 'obverse', \"15\"), ('flag: remarkable', [6])),\n",
    "  (('P387299', 'obverse', \"5\"), ('flag: collated', [1])),\n",
    "  (('P510534', 'reverse', \"20'\"), ('flag: damage + question', [3])),\n",
    "  (('P497780', 'reverse', \"4\"), ('flag: damage + remarkable', [1])),\n",
    "  (('P305744', 'obverse', \"10\"), ('flag: damage + collated', [5])),\n",
    "  (('P305799', 'left side', \"1\"), ('flag: collated + remarkable', [3, 5])),\n",
    "  (('P305806', 'reverse', \"1\"), ('flag: remarkable + question + collated', [3])),\n",
    "  (('P305744', 'obverse', \"10\"), ('flag collated in cluster missing', [6, 7])),\n",
    "  (('P275088', 'reverse', \"2\"), ('sign: comment', [1])),\n",
    "  (('P510636', 'obverse', \"3\"), ('sign: grapheme', [9])),\n",
    "  (('P386451', 'reverse', \"11\"), ('sign: correction', [6])),\n",
    "  (('P312032', 'left edge', \"1\"), ('sign: numeral', [4, 6])),\n",
    "  (('P492284', 'obverse', \"5\"), ('sign: ligature', [2, 3])),\n",
    "  (('P509373', 'reverse', \"18'\"), ('sign: unknown and ellipsis', [7, 8])),\n",
    ")"
   ]
  },
  {
   "cell_type": "code",
   "execution_count": 49,
   "metadata": {},
   "outputs": [
    {
     "data": {
      "text/markdown": [
       "---\n",
       "# cluster: language\n",
       "\n",
       "Location: P510536 obverse:15"
      ],
      "text/plain": [
       "<IPython.core.display.Markdown object>"
      ]
     },
     "metadata": {},
     "output_type": "display_data"
    },
    {
     "data": {
      "text/html": [
       "<span class=\"vrs ltr\"><a href=\"https://cdli.ucla.edu/search/search_results.php?SearchMode=Text&amp;ObjectID=P510536\" title=\"show this document on CDLI\" sec=\"P510536 obverse:15\">P510536 obverse:15</a></span>&nbsp;<span class=\"plain outer  \" ><span class=\"plain\"><span class=\"plain \" ><span class=\"plain hlbx\" ><span class=\"txtr\"><span class=\"langalt\"><span class=\"r\">ma₂</span></span> </span></span></span><span class=\"plain \" ><span class=\"plain \" ><span class=\"txtr\"><span class=\"r\">as</span>-</span></span><span class=\"plain \" ><span class=\"txtr\"><span class=\"r\">sa₃</span>-</span></span><span class=\"plain \" ><span class=\"txtr\"><span class=\"remarkable\"><span class=\"r\">ki</span></span>-</span></span><span class=\"plain \" ><span class=\"txtr\"><span class=\"r\">ip</span></span></span></span></span></span>"
      ],
      "text/plain": [
       "<IPython.core.display.HTML object>"
      ]
     },
     "metadata": {},
     "output_type": "display_data"
    },
    {
     "data": {
      "text/html": [
       "<span class=\"vrs ltr\"><a href=\"https://cdli.ucla.edu/search/search_results.php?SearchMode=Text&amp;ObjectID=P510536\" title=\"show this document on CDLI\" sec=\"P510536 obverse:15\">P510536 obverse:15</a></span>&nbsp;<span class=\"plain outer  \" ><span class=\"plain\"><span class=\"plain \" ><span class=\"plain hlbx\" ><span class=\"txtu\"><span class=\"langalt\"><span class=\"r\">𒈣</span></span> </span></span></span><span class=\"plain \" ><span class=\"plain \" ><span class=\"txtu\"><span class=\"r\">𒊍</span></span></span><span class=\"plain \" ><span class=\"txtu\"><span class=\"r\">𒍝</span></span></span><span class=\"plain \" ><span class=\"txtu\"><span class=\"remarkable\"><span class=\"r\">𒆠</span></span></span></span><span class=\"plain \" ><span class=\"txtu\"><span class=\"r\">𒅁</span></span></span></span></span></span>"
      ],
      "text/plain": [
       "<IPython.core.display.HTML object>"
      ]
     },
     "metadata": {},
     "output_type": "display_data"
    },
    {
     "data": {
      "text/html": [
       "<div class=\"contnr line \" ><div class=\"lbl line\"><a href=\"https://cdli.ucla.edu/search/search_results.php?SearchMode=Text&amp;ObjectID=P510536\" title=\"P510536 obverse:15\" sec=\"P510536 obverse:15\">line <span class=\"txtn\">15</span></a> </div><div class=\"meta\"><div class=\"features\"></div></div><div class=\"children line\"><div class=\"contnr word \" ><div class=\"lbl word\"><span class=\"txtr\">ma₂ </span> </div><div class=\"meta\"><div class=\"features\"> <span class=\"atf xft\"><span class=\"f\">atf=</span>_ma2</span></div></div><div class=\"children word\"><div class=\"contnr sign hl\" ><div class=\"lbl sign\"><span class=\"txtr\">ma₂ </span> </div><div class=\"meta\"><div class=\"features\"> <span class=\"langalt\"><span class=\"f\">langalt=</span>1</span> <span class=\"atf xft\"><span class=\"f\">atf=</span>ma2</span></div></div></div></div></div><div class=\"contnr word \" ><div class=\"lbl word\"><span class=\"txtr\">as-sa₃-ki-ip</span> </div><div class=\"meta\"><div class=\"features\"> <span class=\"atf xft\"><span class=\"f\">atf=</span>as-sa3-ki!-ip</span></div></div><div class=\"children word\"><div class=\"contnr sign \" ><div class=\"lbl sign\"><span class=\"txtr\">as-</span> </div><div class=\"meta\"><div class=\"features\"> <span class=\"atf xft\"><span class=\"f\">atf=</span>as</span></div></div></div><div class=\"contnr sign \" ><div class=\"lbl sign\"><span class=\"txtr\">sa₃-</span> </div><div class=\"meta\"><div class=\"features\"> <span class=\"atf xft\"><span class=\"f\">atf=</span>sa3</span></div></div></div><div class=\"contnr sign \" ><div class=\"lbl sign\"><span class=\"txtr\">ki-</span> </div><div class=\"meta\"><div class=\"features\"> <span class=\"remarkable\"><span class=\"f\">remarkable=</span>1</span> <span class=\"atf xft\"><span class=\"f\">atf=</span>ki!</span></div></div></div><div class=\"contnr sign \" ><div class=\"lbl sign\"><span class=\"txtr\">ip</span> </div><div class=\"meta\"><div class=\"features\"> <span class=\"atf xft\"><span class=\"f\">atf=</span>ip</span></div></div></div></div></div></div></div>"
      ],
      "text/plain": [
       "<IPython.core.display.HTML object>"
      ]
     },
     "metadata": {},
     "output_type": "display_data"
    },
    {
     "data": {
      "text/markdown": [
       "---\n",
       "# cluster: determinative\n",
       "\n",
       "Location: P509373 obverse:1"
      ],
      "text/plain": [
       "<IPython.core.display.Markdown object>"
      ]
     },
     "metadata": {},
     "output_type": "display_data"
    },
    {
     "data": {
      "text/html": [
       "<span class=\"vrs ltr\"><a href=\"https://cdli.ucla.edu/search/search_results.php?SearchMode=Text&amp;ObjectID=P509373\" title=\"show this document on CDLI\" sec=\"P509373 obverse:1\">P509373 obverse:1</a></span>&nbsp;<span class=\"plain outer  \" ><span class=\"plain\"><span class=\"plain \" ><span class=\"plain \" ><span class=\"txtr\"><span class=\"missing\"><span class=\"r\">a</span></span>-</span></span><span class=\"plain \" ><span class=\"txtr\"><span class=\"missing\"><span class=\"r\">na</span></span> </span></span></span><span class=\"plain \" ><span class=\"plain hlbx\" ><span class=\"txtr\"><span class=\"langalt\"><span class=\"det\"><span class=\"r\">d</span></span></span></span></span><span class=\"plain \" ><span class=\"txtr\"><span class=\"langalt\"><span class=\"r\">suen</span></span>-</span></span><span class=\"plain \" ><span class=\"txtr\"><span class=\"r\">i</span>-</span></span><span class=\"plain \" ><span class=\"txtr\"><span class=\"missing\"><span class=\"r\">din</span></span>-</span></span><span class=\"plain \" ><span class=\"txtr\"><span class=\"missing\"><span class=\"r\">nam</span></span></span></span></span></span></span>"
      ],
      "text/plain": [
       "<IPython.core.display.HTML object>"
      ]
     },
     "metadata": {},
     "output_type": "display_data"
    },
    {
     "data": {
      "text/html": [
       "<span class=\"vrs ltr\"><a href=\"https://cdli.ucla.edu/search/search_results.php?SearchMode=Text&amp;ObjectID=P509373\" title=\"show this document on CDLI\" sec=\"P509373 obverse:1\">P509373 obverse:1</a></span>&nbsp;<span class=\"plain outer  \" ><span class=\"plain\"><span class=\"plain \" ><span class=\"plain \" ><span class=\"txtu\"><span class=\"missing\"><span class=\"r\">𒀀</span></span></span></span><span class=\"plain \" ><span class=\"txtu\"><span class=\"missing\"><span class=\"r\">𒈾</span></span> </span></span></span><span class=\"plain \" ><span class=\"plain hlbx\" ><span class=\"txtu\"><span class=\"langalt\"><span class=\"det\"><span class=\"r\">𒀭</span></span></span></span></span><span class=\"plain \" ><span class=\"txtu\"><span class=\"langalt\"><span class=\"r\">𒂗𒍪</span></span></span></span><span class=\"plain \" ><span class=\"txtu\"><span class=\"r\">𒄿</span></span></span><span class=\"plain \" ><span class=\"txtu\"><span class=\"missing\"><span class=\"r\">𒁷</span></span></span></span><span class=\"plain \" ><span class=\"txtu\"><span class=\"missing\"><span class=\"r\">𒉆</span></span></span></span></span></span></span>"
      ],
      "text/plain": [
       "<IPython.core.display.HTML object>"
      ]
     },
     "metadata": {},
     "output_type": "display_data"
    },
    {
     "data": {
      "text/html": [
       "<div class=\"contnr line \" ><div class=\"lbl line\"><a href=\"https://cdli.ucla.edu/search/search_results.php?SearchMode=Text&amp;ObjectID=P509373\" title=\"P509373 obverse:1\" sec=\"P509373 obverse:1\">line <span class=\"txtn\">1</span></a> </div><div class=\"meta\"><div class=\"features\"></div></div><div class=\"children line\"><div class=\"contnr word \" ><div class=\"lbl word\"><span class=\"txtr\">a-na </span> </div><div class=\"meta\"><div class=\"features\"> <span class=\"atf xft\"><span class=\"f\">atf=</span>[a-na]</span></div></div><div class=\"children word\"><div class=\"contnr sign \" ><div class=\"lbl sign\"><span class=\"txtr\">a-</span> </div><div class=\"meta\"><div class=\"features\"> <span class=\"missing\"><span class=\"f\">missing=</span>1</span> <span class=\"atf xft\"><span class=\"f\">atf=</span>a</span></div></div></div><div class=\"contnr sign \" ><div class=\"lbl sign\"><span class=\"txtr\">na </span> </div><div class=\"meta\"><div class=\"features\"> <span class=\"missing\"><span class=\"f\">missing=</span>1</span> <span class=\"atf xft\"><span class=\"f\">atf=</span>na</span></div></div></div></div></div><div class=\"contnr word \" ><div class=\"lbl word\"><span class=\"txtr\">d⁼suen-i-din-nam</span> </div><div class=\"meta\"><div class=\"features\"> <span class=\"atf xft\"><span class=\"f\">atf=</span>_{d}suen_-i-[din-nam]</span></div></div><div class=\"children word\"><div class=\"contnr sign hl\" ><div class=\"lbl sign\"><span class=\"txtr\">d⁼</span> </div><div class=\"meta\"><div class=\"features\"> <span class=\"det\"><span class=\"f\">det=</span>1</span> <span class=\"langalt\"><span class=\"f\">langalt=</span>1</span> <span class=\"atf xft\"><span class=\"f\">atf=</span>d</span></div></div></div><div class=\"contnr sign \" ><div class=\"lbl sign\"><span class=\"txtr\">suen-</span> </div><div class=\"meta\"><div class=\"features\"> <span class=\"langalt\"><span class=\"f\">langalt=</span>1</span> <span class=\"atf xft\"><span class=\"f\">atf=</span>suen</span></div></div></div><div class=\"contnr sign \" ><div class=\"lbl sign\"><span class=\"txtr\">i-</span> </div><div class=\"meta\"><div class=\"features\"> <span class=\"atf xft\"><span class=\"f\">atf=</span>i</span></div></div></div><div class=\"contnr sign \" ><div class=\"lbl sign\"><span class=\"txtr\">din-</span> </div><div class=\"meta\"><div class=\"features\"> <span class=\"missing\"><span class=\"f\">missing=</span>1</span> <span class=\"atf xft\"><span class=\"f\">atf=</span>din</span></div></div></div><div class=\"contnr sign \" ><div class=\"lbl sign\"><span class=\"txtr\">nam</span> </div><div class=\"meta\"><div class=\"features\"> <span class=\"missing\"><span class=\"f\">missing=</span>1</span> <span class=\"atf xft\"><span class=\"f\">atf=</span>nam</span></div></div></div></div></div></div></div>"
      ],
      "text/plain": [
       "<IPython.core.display.HTML object>"
      ]
     },
     "metadata": {},
     "output_type": "display_data"
    },
    {
     "data": {
      "text/markdown": [
       "---\n",
       "# cluster: missing\n",
       "\n",
       "Location: P509375 obverse:3"
      ],
      "text/plain": [
       "<IPython.core.display.Markdown object>"
      ]
     },
     "metadata": {},
     "output_type": "display_data"
    },
    {
     "data": {
      "text/html": [
       "<span class=\"vrs ltr\"><a href=\"https://cdli.ucla.edu/search/search_results.php?SearchMode=Text&amp;ObjectID=P509375\" title=\"show this document on CDLI\" sec=\"P509375 obverse:3\">P509375 obverse:3</a></span>&nbsp;<span class=\"plain outer  \" ><span class=\"plain\"><span class=\"plain \" ><span class=\"plain hlbx\" ><span class=\"txtr\"><span class=\"missing\"><span class=\"r\">um</span></span>-</span></span><span class=\"plain hlbx\" ><span class=\"txtr\"><span class=\"missing\"><span class=\"r\">ma</span></span> </span></span></span><span class=\"plain \" ><span class=\"plain hlbx\" ><span class=\"txtr\"><span class=\"missing\"><span class=\"uncertain\"><span class=\"r\">x</span></span></span>-</span></span><span class=\"plain \" ><span class=\"txtr\"><span class=\"r\">na</span>-</span></span><span class=\"plain \" ><span class=\"txtr\"><span class=\"r\">su</span>-</span></span><span class=\"plain hlbx\" ><span class=\"txtr\"><span class=\"missing\"><span class=\"uncertain\"><span class=\"r\">x</span></span></span>-</span></span><span class=\"plain \" ><span class=\"txtr\"><span class=\"r\">ma</span></span></span></span></span></span>"
      ],
      "text/plain": [
       "<IPython.core.display.HTML object>"
      ]
     },
     "metadata": {},
     "output_type": "display_data"
    },
    {
     "data": {
      "text/html": [
       "<span class=\"vrs ltr\"><a href=\"https://cdli.ucla.edu/search/search_results.php?SearchMode=Text&amp;ObjectID=P509375\" title=\"show this document on CDLI\" sec=\"P509375 obverse:3\">P509375 obverse:3</a></span>&nbsp;<span class=\"plain outer  \" ><span class=\"plain\"><span class=\"plain \" ><span class=\"plain hlbx\" ><span class=\"txtu\"><span class=\"missing\"><span class=\"r\">𒌝</span></span></span></span><span class=\"plain hlbx\" ><span class=\"txtu\"><span class=\"missing\"><span class=\"r\">𒈠</span></span> </span></span></span><span class=\"plain \" ><span class=\"plain hlbx\" ><span class=\"txtu\"><span class=\"missing\"><span class=\"uncertain\"><span class=\"r\">x</span></span></span></span></span><span class=\"plain \" ><span class=\"txtu\"><span class=\"r\">𒈾</span></span></span><span class=\"plain \" ><span class=\"txtu\"><span class=\"r\">𒋢</span></span></span><span class=\"plain hlbx\" ><span class=\"txtu\"><span class=\"missing\"><span class=\"uncertain\"><span class=\"r\">x</span></span></span></span></span><span class=\"plain \" ><span class=\"txtu\"><span class=\"r\">𒈠</span></span></span></span></span></span>"
      ],
      "text/plain": [
       "<IPython.core.display.HTML object>"
      ]
     },
     "metadata": {},
     "output_type": "display_data"
    },
    {
     "data": {
      "text/html": [
       "<div class=\"contnr line \" ><div class=\"lbl line\"><a href=\"https://cdli.ucla.edu/search/search_results.php?SearchMode=Text&amp;ObjectID=P509375\" title=\"P509375 obverse:3\" sec=\"P509375 obverse:3\">line <span class=\"txtn\">3</span></a> </div><div class=\"meta\"><div class=\"features\"></div></div><div class=\"children line\"><div class=\"contnr word \" ><div class=\"lbl word\"><span class=\"txtr\">um-ma </span> </div><div class=\"meta\"><div class=\"features\"> <span class=\"atf xft\"><span class=\"f\">atf=</span>[um-ma</span></div></div><div class=\"children word\"><div class=\"contnr sign hl\" ><div class=\"lbl sign\"><span class=\"txtr\">um-</span> </div><div class=\"meta\"><div class=\"features\"> <span class=\"missing\"><span class=\"f\">missing=</span>1</span> <span class=\"atf xft\"><span class=\"f\">atf=</span>um</span></div></div></div><div class=\"contnr sign hl\" ><div class=\"lbl sign\"><span class=\"txtr\">ma </span> </div><div class=\"meta\"><div class=\"features\"> <span class=\"missing\"><span class=\"f\">missing=</span>1</span> <span class=\"atf xft\"><span class=\"f\">atf=</span>ma</span></div></div></div></div></div><div class=\"contnr word \" ><div class=\"lbl word\"><span class=\"txtr\">x-na-su-x-ma</span> </div><div class=\"meta\"><div class=\"features\"> <span class=\"atf xft\"><span class=\"f\">atf=</span>x]-na-su-[x]-ma</span></div></div><div class=\"children word\"><div class=\"contnr sign hl\" ><div class=\"lbl sign\"><span class=\"txtr\">x-</span> </div><div class=\"meta\"><div class=\"features\"> <span class=\"missing\"><span class=\"f\">missing=</span>1</span> <span class=\"atf xft\"><span class=\"f\">atf=</span>x</span></div></div></div><div class=\"contnr sign \" ><div class=\"lbl sign\"><span class=\"txtr\">na-</span> </div><div class=\"meta\"><div class=\"features\"> <span class=\"atf xft\"><span class=\"f\">atf=</span>na</span></div></div></div><div class=\"contnr sign \" ><div class=\"lbl sign\"><span class=\"txtr\">su-</span> </div><div class=\"meta\"><div class=\"features\"> <span class=\"atf xft\"><span class=\"f\">atf=</span>su</span></div></div></div><div class=\"contnr sign hl\" ><div class=\"lbl sign\"><span class=\"txtr\">x-</span> </div><div class=\"meta\"><div class=\"features\"> <span class=\"missing\"><span class=\"f\">missing=</span>1</span> <span class=\"atf xft\"><span class=\"f\">atf=</span>x</span></div></div></div><div class=\"contnr sign \" ><div class=\"lbl sign\"><span class=\"txtr\">ma</span> </div><div class=\"meta\"><div class=\"features\"> <span class=\"atf xft\"><span class=\"f\">atf=</span>ma</span></div></div></div></div></div></div></div>"
      ],
      "text/plain": [
       "<IPython.core.display.HTML object>"
      ]
     },
     "metadata": {},
     "output_type": "display_data"
    },
    {
     "data": {
      "text/markdown": [
       "---\n",
       "# cluster: uncertain\n",
       "\n",
       "Location: P510736 reverse:5"
      ],
      "text/plain": [
       "<IPython.core.display.Markdown object>"
      ]
     },
     "metadata": {},
     "output_type": "display_data"
    },
    {
     "data": {
      "text/html": [
       "<span class=\"vrs ltr\"><a href=\"https://cdli.ucla.edu/search/search_results.php?SearchMode=Text&amp;ObjectID=P510736\" title=\"show this document on CDLI\" sec=\"P510736 reverse:5\">P510736 reverse:5</a></span>&nbsp;<span class=\"plain outer  \" ><span class=\"plain\"><span class=\"plain \" ><span class=\"plain \" ><span class=\"txtr\"><span class=\"r\">uṭ</span>-</span></span><span class=\"plain \" ><span class=\"txtr\"><span class=\"r\">ṭe₄</span>-</span></span><span class=\"plain \" ><span class=\"txtr\"><span class=\"r\">eh</span>-</span></span><span class=\"plain \" ><span class=\"txtr\"><span class=\"missing\"><span class=\"r\">hu</span></span>-</span></span><span class=\"plain \" ><span class=\"txtr\"><span class=\"missing\"><span class=\"r\">u₂</span></span>-</span></span><span class=\"plain hlbx\" ><span class=\"txtr\"><span class=\"uncertain missing\"><span class=\"r\">šu</span></span>-</span></span><span class=\"plain hlbx\" ><span class=\"txtr\"><span class=\"uncertain missing\"><span class=\"r\">nu</span></span>-</span></span><span class=\"plain hlbx\" ><span class=\"txtr\"><span class=\"uncertain missing\"><span class=\"r\">ti</span></span></span></span></span></span></span>"
      ],
      "text/plain": [
       "<IPython.core.display.HTML object>"
      ]
     },
     "metadata": {},
     "output_type": "display_data"
    },
    {
     "data": {
      "text/html": [
       "<span class=\"vrs ltr\"><a href=\"https://cdli.ucla.edu/search/search_results.php?SearchMode=Text&amp;ObjectID=P510736\" title=\"show this document on CDLI\" sec=\"P510736 reverse:5\">P510736 reverse:5</a></span>&nbsp;<span class=\"plain outer  \" ><span class=\"plain\"><span class=\"plain \" ><span class=\"plain \" ><span class=\"txtu\"><span class=\"r\">𒌓</span></span></span><span class=\"plain \" ><span class=\"txtu\"><span class=\"r\">𒋼</span></span></span><span class=\"plain \" ><span class=\"txtu\"><span class=\"r\">𒄴</span></span></span><span class=\"plain \" ><span class=\"txtu\"><span class=\"missing\"><span class=\"r\">𒄷</span></span></span></span><span class=\"plain \" ><span class=\"txtu\"><span class=\"missing\"><span class=\"r\">𒌑</span></span></span></span><span class=\"plain hlbx\" ><span class=\"txtu\"><span class=\"uncertain missing\"><span class=\"r\">𒋗</span></span></span></span><span class=\"plain hlbx\" ><span class=\"txtu\"><span class=\"uncertain missing\"><span class=\"r\">𒉡</span></span></span></span><span class=\"plain hlbx\" ><span class=\"txtu\"><span class=\"uncertain missing\"><span class=\"r\">𒋾</span></span></span></span></span></span></span>"
      ],
      "text/plain": [
       "<IPython.core.display.HTML object>"
      ]
     },
     "metadata": {},
     "output_type": "display_data"
    },
    {
     "data": {
      "text/html": [
       "<div class=\"contnr line \" ><div class=\"lbl line\"><a href=\"https://cdli.ucla.edu/search/search_results.php?SearchMode=Text&amp;ObjectID=P510736\" title=\"P510736 reverse:5\" sec=\"P510736 reverse:5\">line <span class=\"txtn\">5</span></a> </div><div class=\"meta\"><div class=\"features\"></div></div><div class=\"children line\"><div class=\"contnr word \" ><div class=\"lbl word\"><span class=\"txtr\">uṭ-ṭe₄-eh-hu-u₂-šu-nu-ti</span> </div><div class=\"meta\"><div class=\"features\"> <span class=\"atf xft\"><span class=\"f\">atf=</span>ut,-t,e4-eh-[hu-u2-(szu-nu-ti)]</span></div></div><div class=\"children word\"><div class=\"contnr sign \" ><div class=\"lbl sign\"><span class=\"txtr\">uṭ-</span> </div><div class=\"meta\"><div class=\"features\"> <span class=\"atf xft\"><span class=\"f\">atf=</span>ut,</span></div></div></div><div class=\"contnr sign \" ><div class=\"lbl sign\"><span class=\"txtr\">ṭe₄-</span> </div><div class=\"meta\"><div class=\"features\"> <span class=\"atf xft\"><span class=\"f\">atf=</span>t,e4</span></div></div></div><div class=\"contnr sign \" ><div class=\"lbl sign\"><span class=\"txtr\">eh-</span> </div><div class=\"meta\"><div class=\"features\"> <span class=\"atf xft\"><span class=\"f\">atf=</span>eh</span></div></div></div><div class=\"contnr sign \" ><div class=\"lbl sign\"><span class=\"txtr\">hu-</span> </div><div class=\"meta\"><div class=\"features\"> <span class=\"missing\"><span class=\"f\">missing=</span>1</span> <span class=\"atf xft\"><span class=\"f\">atf=</span>hu</span></div></div></div><div class=\"contnr sign \" ><div class=\"lbl sign\"><span class=\"txtr\">u₂-</span> </div><div class=\"meta\"><div class=\"features\"> <span class=\"missing\"><span class=\"f\">missing=</span>1</span> <span class=\"atf xft\"><span class=\"f\">atf=</span>u2</span></div></div></div><div class=\"contnr sign hl\" ><div class=\"lbl sign\"><span class=\"txtr\">šu-</span> </div><div class=\"meta\"><div class=\"features\"> <span class=\"uncertain\"><span class=\"f\">uncertain=</span>1</span> <span class=\"missing\"><span class=\"f\">missing=</span>1</span> <span class=\"atf xft\"><span class=\"f\">atf=</span>szu</span></div></div></div><div class=\"contnr sign hl\" ><div class=\"lbl sign\"><span class=\"txtr\">nu-</span> </div><div class=\"meta\"><div class=\"features\"> <span class=\"uncertain\"><span class=\"f\">uncertain=</span>1</span> <span class=\"missing\"><span class=\"f\">missing=</span>1</span> <span class=\"atf xft\"><span class=\"f\">atf=</span>nu</span></div></div></div><div class=\"contnr sign hl\" ><div class=\"lbl sign\"><span class=\"txtr\">ti</span> </div><div class=\"meta\"><div class=\"features\"> <span class=\"uncertain\"><span class=\"f\">uncertain=</span>1</span> <span class=\"missing\"><span class=\"f\">missing=</span>1</span> <span class=\"atf xft\"><span class=\"f\">atf=</span>ti</span></div></div></div></div></div></div></div>"
      ],
      "text/plain": [
       "<IPython.core.display.HTML object>"
      ]
     },
     "metadata": {},
     "output_type": "display_data"
    },
    {
     "data": {
      "text/markdown": [
       "---\n",
       "# cluster: supplied\n",
       "\n",
       "Location: P510526 obverse:8"
      ],
      "text/plain": [
       "<IPython.core.display.Markdown object>"
      ]
     },
     "metadata": {},
     "output_type": "display_data"
    },
    {
     "data": {
      "text/html": [
       "<span class=\"vrs ltr\"><a href=\"https://cdli.ucla.edu/search/search_results.php?SearchMode=Text&amp;ObjectID=P510526\" title=\"show this document on CDLI\" sec=\"P510526 obverse:8\">P510526 obverse:8</a></span>&nbsp;<span class=\"plain outer  \" ><span class=\"plain\"><span class=\"plain \" ><span class=\"plain \" ><span class=\"txtr\"><span class=\"r\">a</span>-</span></span><span class=\"plain \" ><span class=\"txtr\"><span class=\"r\">na</span> </span></span></span><span class=\"plain \" ><span class=\"plain hlbx\" ><span class=\"txtr\"><span class=\"supplied\"><span class=\"r\">li</span></span>-</span></span><span class=\"plain hlbx\" ><span class=\"txtr\"><span class=\"supplied\"><span class=\"r\">ki</span></span>-</span></span><span class=\"plain hlbx\" ><span class=\"txtr\"><span class=\"supplied\"><span class=\"r\">il</span></span></span></span></span></span></span>"
      ],
      "text/plain": [
       "<IPython.core.display.HTML object>"
      ]
     },
     "metadata": {},
     "output_type": "display_data"
    },
    {
     "data": {
      "text/html": [
       "<span class=\"vrs ltr\"><a href=\"https://cdli.ucla.edu/search/search_results.php?SearchMode=Text&amp;ObjectID=P510526\" title=\"show this document on CDLI\" sec=\"P510526 obverse:8\">P510526 obverse:8</a></span>&nbsp;<span class=\"plain outer  \" ><span class=\"plain\"><span class=\"plain \" ><span class=\"plain \" ><span class=\"txtu\"><span class=\"r\">𒀀</span></span></span><span class=\"plain \" ><span class=\"txtu\"><span class=\"r\">𒈾</span> </span></span></span><span class=\"plain \" ><span class=\"plain hlbx\" ><span class=\"txtu\"><span class=\"supplied\"><span class=\"r\">𒇷</span></span></span></span><span class=\"plain hlbx\" ><span class=\"txtu\"><span class=\"supplied\"><span class=\"r\">𒆠</span></span></span></span><span class=\"plain hlbx\" ><span class=\"txtu\"><span class=\"supplied\"><span class=\"r\">𒀧</span></span></span></span></span></span></span>"
      ],
      "text/plain": [
       "<IPython.core.display.HTML object>"
      ]
     },
     "metadata": {},
     "output_type": "display_data"
    },
    {
     "data": {
      "text/html": [
       "<div class=\"contnr line \" ><div class=\"lbl line\"><a href=\"https://cdli.ucla.edu/search/search_results.php?SearchMode=Text&amp;ObjectID=P510526\" title=\"P510526 obverse:8\" sec=\"P510526 obverse:8\">line <span class=\"txtn\">8</span></a> </div><div class=\"meta\"><div class=\"features\"></div></div><div class=\"children line\"><div class=\"contnr word \" ><div class=\"lbl word\"><span class=\"txtr\">a-na </span> </div><div class=\"meta\"><div class=\"features\"> <span class=\"atf xft\"><span class=\"f\">atf=</span>a-na</span></div></div><div class=\"children word\"><div class=\"contnr sign \" ><div class=\"lbl sign\"><span class=\"txtr\">a-</span> </div><div class=\"meta\"><div class=\"features\"> <span class=\"atf xft\"><span class=\"f\">atf=</span>a</span></div></div></div><div class=\"contnr sign \" ><div class=\"lbl sign\"><span class=\"txtr\">na </span> </div><div class=\"meta\"><div class=\"features\"> <span class=\"atf xft\"><span class=\"f\">atf=</span>na</span></div></div></div></div></div><div class=\"contnr word \" ><div class=\"lbl word\"><span class=\"txtr\">li-ki-il</span> </div><div class=\"meta\"><div class=\"features\"> <span class=\"atf xft\"><span class=\"f\">atf=</span>&lt;li-ki-il></span></div></div><div class=\"children word\"><div class=\"contnr sign hl\" ><div class=\"lbl sign\"><span class=\"txtr\">li-</span> </div><div class=\"meta\"><div class=\"features\"> <span class=\"supplied\"><span class=\"f\">supplied=</span>1</span> <span class=\"atf xft\"><span class=\"f\">atf=</span>li</span></div></div></div><div class=\"contnr sign hl\" ><div class=\"lbl sign\"><span class=\"txtr\">ki-</span> </div><div class=\"meta\"><div class=\"features\"> <span class=\"supplied\"><span class=\"f\">supplied=</span>1</span> <span class=\"atf xft\"><span class=\"f\">atf=</span>ki</span></div></div></div><div class=\"contnr sign hl\" ><div class=\"lbl sign\"><span class=\"txtr\">il</span> </div><div class=\"meta\"><div class=\"features\"> <span class=\"supplied\"><span class=\"f\">supplied=</span>1</span> <span class=\"atf xft\"><span class=\"f\">atf=</span>il</span></div></div></div></div></div></div></div>"
      ],
      "text/plain": [
       "<IPython.core.display.HTML object>"
      ]
     },
     "metadata": {},
     "output_type": "display_data"
    },
    {
     "data": {
      "text/markdown": [
       "---\n",
       "# cluster: excised\n",
       "\n",
       "Location: P373056 obverse:11"
      ],
      "text/plain": [
       "<IPython.core.display.Markdown object>"
      ]
     },
     "metadata": {},
     "output_type": "display_data"
    },
    {
     "data": {
      "text/html": [
       "<span class=\"vrs ltr\"><a href=\"https://cdli.ucla.edu/search/search_results.php?SearchMode=Text&amp;ObjectID=P373056\" title=\"show this document on CDLI\" sec=\"P373056 obverse:11\">P373056 obverse:11</a></span>&nbsp;<span class=\"plain outer  \" ><span class=\"plain\"><span class=\"plain \" ><span class=\"plain \" ><span class=\"txtr\"><span class=\"r\">pu</span>-</span></span><span class=\"plain \" ><span class=\"txtr\"><span class=\"damage\"><span class=\"r\">ru</span></span>-</span></span><span class=\"plain \" ><span class=\"txtr\"><span class=\"damage\"><span class=\"r\">us</span></span> </span></span></span><span class=\"plain \" ><span class=\"plain hlbx\" ><span class=\"txtr\"><span class=\"excised\"><span class=\"r\">i</span></span>-</span></span><span class=\"plain hlbx\" ><span class=\"txtr\"><span class=\"excised\"><span class=\"r\">na</span></span></span></span></span></span></span>"
      ],
      "text/plain": [
       "<IPython.core.display.HTML object>"
      ]
     },
     "metadata": {},
     "output_type": "display_data"
    },
    {
     "data": {
      "text/html": [
       "<span class=\"vrs ltr\"><a href=\"https://cdli.ucla.edu/search/search_results.php?SearchMode=Text&amp;ObjectID=P373056\" title=\"show this document on CDLI\" sec=\"P373056 obverse:11\">P373056 obverse:11</a></span>&nbsp;<span class=\"plain outer  \" ><span class=\"plain\"><span class=\"plain \" ><span class=\"plain \" ><span class=\"txtu\"><span class=\"r\">𒁍</span></span></span><span class=\"plain \" ><span class=\"txtu\"><span class=\"damage\"><span class=\"r\">𒊒</span></span></span></span><span class=\"plain \" ><span class=\"txtu\"><span class=\"damage\"><span class=\"r\">𒊻</span></span> </span></span></span><span class=\"plain \" ><span class=\"plain hlbx\" ><span class=\"txtu\"><span class=\"excised\"><span class=\"r\">𒄿</span></span></span></span><span class=\"plain hlbx\" ><span class=\"txtu\"><span class=\"excised\"><span class=\"r\">𒈾</span></span></span></span></span></span></span>"
      ],
      "text/plain": [
       "<IPython.core.display.HTML object>"
      ]
     },
     "metadata": {},
     "output_type": "display_data"
    },
    {
     "data": {
      "text/html": [
       "<div class=\"contnr line \" ><div class=\"lbl line\"><a href=\"https://cdli.ucla.edu/search/search_results.php?SearchMode=Text&amp;ObjectID=P373056\" title=\"P373056 obverse:11\" sec=\"P373056 obverse:11\">line <span class=\"txtn\">11</span></a> </div><div class=\"meta\"><div class=\"features\"></div></div><div class=\"children line\"><div class=\"contnr word \" ><div class=\"lbl word\"><span class=\"txtr\">pu-ru-us </span> </div><div class=\"meta\"><div class=\"features\"> <span class=\"atf xft\"><span class=\"f\">atf=</span>pu-ru#-us#</span></div></div><div class=\"children word\"><div class=\"contnr sign \" ><div class=\"lbl sign\"><span class=\"txtr\">pu-</span> </div><div class=\"meta\"><div class=\"features\"> <span class=\"atf xft\"><span class=\"f\">atf=</span>pu</span></div></div></div><div class=\"contnr sign \" ><div class=\"lbl sign\"><span class=\"txtr\">ru-</span> </div><div class=\"meta\"><div class=\"features\"> <span class=\"damage\"><span class=\"f\">damage=</span>1</span> <span class=\"atf xft\"><span class=\"f\">atf=</span>ru#</span></div></div></div><div class=\"contnr sign \" ><div class=\"lbl sign\"><span class=\"txtr\">us </span> </div><div class=\"meta\"><div class=\"features\"> <span class=\"damage\"><span class=\"f\">damage=</span>1</span> <span class=\"atf xft\"><span class=\"f\">atf=</span>us#</span></div></div></div></div></div><div class=\"contnr word \" ><div class=\"lbl word\"><span class=\"txtr\">i-na</span> </div><div class=\"meta\"><div class=\"features\"> <span class=\"atf xft\"><span class=\"f\">atf=</span>&lt;&lt;i-na>></span></div></div><div class=\"children word\"><div class=\"contnr sign hl\" ><div class=\"lbl sign\"><span class=\"txtr\">i-</span> </div><div class=\"meta\"><div class=\"features\"> <span class=\"excised\"><span class=\"f\">excised=</span>1</span> <span class=\"atf xft\"><span class=\"f\">atf=</span>i</span></div></div></div><div class=\"contnr sign hl\" ><div class=\"lbl sign\"><span class=\"txtr\">na</span> </div><div class=\"meta\"><div class=\"features\"> <span class=\"excised\"><span class=\"f\">excised=</span>1</span> <span class=\"atf xft\"><span class=\"f\">atf=</span>na</span></div></div></div></div></div></div></div>"
      ],
      "text/plain": [
       "<IPython.core.display.HTML object>"
      ]
     },
     "metadata": {},
     "output_type": "display_data"
    },
    {
     "data": {
      "text/markdown": [
       "---\n",
       "# flag: damage\n",
       "\n",
       "Location: P510536 obverse:8"
      ],
      "text/plain": [
       "<IPython.core.display.Markdown object>"
      ]
     },
     "metadata": {},
     "output_type": "display_data"
    },
    {
     "data": {
      "text/html": [
       "<span class=\"vrs ltr\"><a href=\"https://cdli.ucla.edu/search/search_results.php?SearchMode=Text&amp;ObjectID=P510536\" title=\"show this document on CDLI\" sec=\"P510536 obverse:8\">P510536 obverse:8</a></span>&nbsp;<span class=\"plain outer  \" ><span class=\"plain\"><span class=\"plain \" ><span class=\"plain hlbx\" ><span class=\"txtr\"><span class=\"damage\"><span class=\"r\">tup</span></span>-</span></span><span class=\"plain hlbx\" ><span class=\"txtr\"><span class=\"damage\"><span class=\"r\">pi₂</span></span> </span></span></span><span class=\"plain \" ><span class=\"plain \" ><span class=\"txtr\"><span class=\"missing\"><span class=\"r\">is₃</span></span>-</span></span><span class=\"plain \" ><span class=\"txtr\"><span class=\"missing\"><span class=\"r\">ni</span></span>-</span></span><span class=\"plain hlbx\" ><span class=\"txtr\"><span class=\"damage\"><span class=\"r\">qa₂</span></span>-</span></span><span class=\"plain hlbx\" ><span class=\"txtr\"><span class=\"damage\"><span class=\"r\">am</span></span></span></span></span></span></span>"
      ],
      "text/plain": [
       "<IPython.core.display.HTML object>"
      ]
     },
     "metadata": {},
     "output_type": "display_data"
    },
    {
     "data": {
      "text/html": [
       "<span class=\"vrs ltr\"><a href=\"https://cdli.ucla.edu/search/search_results.php?SearchMode=Text&amp;ObjectID=P510536\" title=\"show this document on CDLI\" sec=\"P510536 obverse:8\">P510536 obverse:8</a></span>&nbsp;<span class=\"plain outer  \" ><span class=\"plain\"><span class=\"plain \" ><span class=\"plain hlbx\" ><span class=\"txtu\"><span class=\"damage\"><span class=\"r\">𒁾</span></span></span></span><span class=\"plain hlbx\" ><span class=\"txtu\"><span class=\"damage\"><span class=\"r\">𒁉</span></span> </span></span></span><span class=\"plain \" ><span class=\"plain \" ><span class=\"txtu\"><span class=\"missing\"><span class=\"r\">𒀊</span></span></span></span><span class=\"plain \" ><span class=\"txtu\"><span class=\"missing\"><span class=\"r\">𒉌</span></span></span></span><span class=\"plain hlbx\" ><span class=\"txtu\"><span class=\"damage\"><span class=\"r\">𒂵</span></span></span></span><span class=\"plain hlbx\" ><span class=\"txtu\"><span class=\"damage\"><span class=\"r\">𒄠</span></span></span></span></span></span></span>"
      ],
      "text/plain": [
       "<IPython.core.display.HTML object>"
      ]
     },
     "metadata": {},
     "output_type": "display_data"
    },
    {
     "data": {
      "text/html": [
       "<div class=\"contnr line \" ><div class=\"lbl line\"><a href=\"https://cdli.ucla.edu/search/search_results.php?SearchMode=Text&amp;ObjectID=P510536\" title=\"P510536 obverse:8\" sec=\"P510536 obverse:8\">line <span class=\"txtn\">8</span></a> </div><div class=\"meta\"><div class=\"features\"></div></div><div class=\"children line\"><div class=\"contnr word \" ><div class=\"lbl word\"><span class=\"txtr\">tup-pi₂ </span> </div><div class=\"meta\"><div class=\"features\"> <span class=\"atf xft\"><span class=\"f\">atf=</span>tup#-pi2#</span></div></div><div class=\"children word\"><div class=\"contnr sign hl\" ><div class=\"lbl sign\"><span class=\"txtr\">tup-</span> </div><div class=\"meta\"><div class=\"features\"> <span class=\"damage\"><span class=\"f\">damage=</span>1</span> <span class=\"atf xft\"><span class=\"f\">atf=</span>tup#</span></div></div></div><div class=\"contnr sign hl\" ><div class=\"lbl sign\"><span class=\"txtr\">pi₂ </span> </div><div class=\"meta\"><div class=\"features\"> <span class=\"damage\"><span class=\"f\">damage=</span>1</span> <span class=\"atf xft\"><span class=\"f\">atf=</span>pi2#</span></div></div></div></div></div><div class=\"contnr word \" ><div class=\"lbl word\"><span class=\"txtr\">is₃-ni-qa₂-am</span> </div><div class=\"meta\"><div class=\"features\"> <span class=\"atf xft\"><span class=\"f\">atf=</span>[is3-ni]-qa2#-am#</span></div></div><div class=\"children word\"><div class=\"contnr sign \" ><div class=\"lbl sign\"><span class=\"txtr\">is₃-</span> </div><div class=\"meta\"><div class=\"features\"> <span class=\"missing\"><span class=\"f\">missing=</span>1</span> <span class=\"atf xft\"><span class=\"f\">atf=</span>is3</span></div></div></div><div class=\"contnr sign \" ><div class=\"lbl sign\"><span class=\"txtr\">ni-</span> </div><div class=\"meta\"><div class=\"features\"> <span class=\"missing\"><span class=\"f\">missing=</span>1</span> <span class=\"atf xft\"><span class=\"f\">atf=</span>ni</span></div></div></div><div class=\"contnr sign hl\" ><div class=\"lbl sign\"><span class=\"txtr\">qa₂-</span> </div><div class=\"meta\"><div class=\"features\"> <span class=\"damage\"><span class=\"f\">damage=</span>1</span> <span class=\"atf xft\"><span class=\"f\">atf=</span>qa2#</span></div></div></div><div class=\"contnr sign hl\" ><div class=\"lbl sign\"><span class=\"txtr\">am</span> </div><div class=\"meta\"><div class=\"features\"> <span class=\"damage\"><span class=\"f\">damage=</span>1</span> <span class=\"atf xft\"><span class=\"f\">atf=</span>am#</span></div></div></div></div></div></div></div>"
      ],
      "text/plain": [
       "<IPython.core.display.HTML object>"
      ]
     },
     "metadata": {},
     "output_type": "display_data"
    },
    {
     "data": {
      "text/markdown": [
       "---\n",
       "# flag: question\n",
       "\n",
       "Location: P297171 reverse:1"
      ],
      "text/plain": [
       "<IPython.core.display.Markdown object>"
      ]
     },
     "metadata": {},
     "output_type": "display_data"
    },
    {
     "data": {
      "text/html": [
       "<span class=\"vrs ltr\"><a href=\"https://cdli.ucla.edu/search/search_results.php?SearchMode=Text&amp;ObjectID=P297171\" title=\"show this document on CDLI\" sec=\"P297171 reverse:1\">P297171 reverse:1</a></span>&nbsp;<span class=\"plain outer  \" ><span class=\"plain\"><span class=\"plain \" ><span class=\"plain \" ><span class=\"txtr\"><span class=\"r\">ki</span>-</span></span><span class=\"plain \" ><span class=\"txtr\"><span class=\"r\">ma</span> </span></span></span><span class=\"plain \" ><span class=\"plain \" ><span class=\"txtr\"><span class=\"r\">i</span>-</span></span><span class=\"plain \" ><span class=\"txtr\"><span class=\"r\">na</span>-</span></span><span class=\"plain \" ><span class=\"txtr\"><span class=\"r\">ad</span>-</span></span><span class=\"plain \" ><span class=\"txtr\"><span class=\"r\">di</span>-</span></span><span class=\"plain \" ><span class=\"txtr\"><span class=\"missing\"><span class=\"uncertain\"><span class=\"r\">x</span></span></span></span></span></span></span></span>"
      ],
      "text/plain": [
       "<IPython.core.display.HTML object>"
      ]
     },
     "metadata": {},
     "output_type": "display_data"
    },
    {
     "data": {
      "text/html": [
       "<span class=\"vrs ltr\"><a href=\"https://cdli.ucla.edu/search/search_results.php?SearchMode=Text&amp;ObjectID=P297171\" title=\"show this document on CDLI\" sec=\"P297171 reverse:1\">P297171 reverse:1</a></span>&nbsp;<span class=\"plain outer  \" ><span class=\"plain\"><span class=\"plain \" ><span class=\"plain \" ><span class=\"txtu\"><span class=\"r\">𒆠</span></span></span><span class=\"plain \" ><span class=\"txtu\"><span class=\"r\">𒈠</span> </span></span></span><span class=\"plain \" ><span class=\"plain \" ><span class=\"txtu\"><span class=\"r\">𒄿</span></span></span><span class=\"plain \" ><span class=\"txtu\"><span class=\"r\">𒈾</span></span></span><span class=\"plain \" ><span class=\"txtu\"><span class=\"r\">𒀜</span></span></span><span class=\"plain \" ><span class=\"txtu\"><span class=\"r\">𒁲</span></span></span><span class=\"plain \" ><span class=\"txtu\"><span class=\"missing\"><span class=\"uncertain\"><span class=\"r\">x</span></span></span></span></span></span></span></span>"
      ],
      "text/plain": [
       "<IPython.core.display.HTML object>"
      ]
     },
     "metadata": {},
     "output_type": "display_data"
    },
    {
     "data": {
      "text/html": [
       "<div class=\"contnr line \" ><div class=\"lbl line\"><a href=\"https://cdli.ucla.edu/search/search_results.php?SearchMode=Text&amp;ObjectID=P297171\" title=\"P297171 reverse:1\" sec=\"P297171 reverse:1\">line <span class=\"txtn\">1</span></a> </div><div class=\"meta\"><div class=\"features\"></div></div><div class=\"children line\"><div class=\"contnr word \" ><div class=\"lbl word\"><span class=\"txtr\">ki-ma </span> </div><div class=\"meta\"><div class=\"features\"> <span class=\"atf xft\"><span class=\"f\">atf=</span>ki-ma</span></div></div><div class=\"children word\"><div class=\"contnr sign \" ><div class=\"lbl sign\"><span class=\"txtr\">ki-</span> </div><div class=\"meta\"><div class=\"features\"> <span class=\"atf xft\"><span class=\"f\">atf=</span>ki</span></div></div></div><div class=\"contnr sign \" ><div class=\"lbl sign\"><span class=\"txtr\">ma </span> </div><div class=\"meta\"><div class=\"features\"> <span class=\"atf xft\"><span class=\"f\">atf=</span>ma</span></div></div></div></div></div><div class=\"contnr word \" ><div class=\"lbl word\"><span class=\"txtr\">i-na-ad-di-x</span> </div><div class=\"meta\"><div class=\"features\"> <span class=\"atf xft\"><span class=\"f\">atf=</span>i-na-ad-di-[x]</span></div></div><div class=\"children word\"><div class=\"contnr sign \" ><div class=\"lbl sign\"><span class=\"txtr\">i-</span> </div><div class=\"meta\"><div class=\"features\"> <span class=\"atf xft\"><span class=\"f\">atf=</span>i</span></div></div></div><div class=\"contnr sign \" ><div class=\"lbl sign\"><span class=\"txtr\">na-</span> </div><div class=\"meta\"><div class=\"features\"> <span class=\"atf xft\"><span class=\"f\">atf=</span>na</span></div></div></div><div class=\"contnr sign \" ><div class=\"lbl sign\"><span class=\"txtr\">ad-</span> </div><div class=\"meta\"><div class=\"features\"> <span class=\"atf xft\"><span class=\"f\">atf=</span>ad</span></div></div></div><div class=\"contnr sign \" ><div class=\"lbl sign\"><span class=\"txtr\">di-</span> </div><div class=\"meta\"><div class=\"features\"> <span class=\"atf xft\"><span class=\"f\">atf=</span>di</span></div></div></div><div class=\"contnr sign \" ><div class=\"lbl sign\"><span class=\"txtr\">x</span> </div><div class=\"meta\"><div class=\"features\"> <span class=\"missing\"><span class=\"f\">missing=</span>1</span> <span class=\"atf xft\"><span class=\"f\">atf=</span>x</span></div></div></div></div></div></div></div>"
      ],
      "text/plain": [
       "<IPython.core.display.HTML object>"
      ]
     },
     "metadata": {},
     "output_type": "display_data"
    },
    {
     "data": {
      "text/markdown": [
       "---\n",
       "# flag: remarkable\n",
       "\n",
       "Location: P510536 obverse:15"
      ],
      "text/plain": [
       "<IPython.core.display.Markdown object>"
      ]
     },
     "metadata": {},
     "output_type": "display_data"
    },
    {
     "data": {
      "text/html": [
       "<span class=\"vrs ltr\"><a href=\"https://cdli.ucla.edu/search/search_results.php?SearchMode=Text&amp;ObjectID=P510536\" title=\"show this document on CDLI\" sec=\"P510536 obverse:15\">P510536 obverse:15</a></span>&nbsp;<span class=\"plain outer  \" ><span class=\"plain\"><span class=\"plain \" ><span class=\"plain \" ><span class=\"txtr\"><span class=\"langalt\"><span class=\"r\">ma₂</span></span> </span></span></span><span class=\"plain \" ><span class=\"plain \" ><span class=\"txtr\"><span class=\"r\">as</span>-</span></span><span class=\"plain \" ><span class=\"txtr\"><span class=\"r\">sa₃</span>-</span></span><span class=\"plain hlbx\" ><span class=\"txtr\"><span class=\"remarkable\"><span class=\"r\">ki</span></span>-</span></span><span class=\"plain \" ><span class=\"txtr\"><span class=\"r\">ip</span></span></span></span></span></span>"
      ],
      "text/plain": [
       "<IPython.core.display.HTML object>"
      ]
     },
     "metadata": {},
     "output_type": "display_data"
    },
    {
     "data": {
      "text/html": [
       "<span class=\"vrs ltr\"><a href=\"https://cdli.ucla.edu/search/search_results.php?SearchMode=Text&amp;ObjectID=P510536\" title=\"show this document on CDLI\" sec=\"P510536 obverse:15\">P510536 obverse:15</a></span>&nbsp;<span class=\"plain outer  \" ><span class=\"plain\"><span class=\"plain \" ><span class=\"plain \" ><span class=\"txtu\"><span class=\"langalt\"><span class=\"r\">𒈣</span></span> </span></span></span><span class=\"plain \" ><span class=\"plain \" ><span class=\"txtu\"><span class=\"r\">𒊍</span></span></span><span class=\"plain \" ><span class=\"txtu\"><span class=\"r\">𒍝</span></span></span><span class=\"plain hlbx\" ><span class=\"txtu\"><span class=\"remarkable\"><span class=\"r\">𒆠</span></span></span></span><span class=\"plain \" ><span class=\"txtu\"><span class=\"r\">𒅁</span></span></span></span></span></span>"
      ],
      "text/plain": [
       "<IPython.core.display.HTML object>"
      ]
     },
     "metadata": {},
     "output_type": "display_data"
    },
    {
     "data": {
      "text/html": [
       "<div class=\"contnr line \" ><div class=\"lbl line\"><a href=\"https://cdli.ucla.edu/search/search_results.php?SearchMode=Text&amp;ObjectID=P510536\" title=\"P510536 obverse:15\" sec=\"P510536 obverse:15\">line <span class=\"txtn\">15</span></a> </div><div class=\"meta\"><div class=\"features\"></div></div><div class=\"children line\"><div class=\"contnr word \" ><div class=\"lbl word\"><span class=\"txtr\">ma₂ </span> </div><div class=\"meta\"><div class=\"features\"> <span class=\"atf xft\"><span class=\"f\">atf=</span>_ma2</span></div></div><div class=\"children word\"><div class=\"contnr sign \" ><div class=\"lbl sign\"><span class=\"txtr\">ma₂ </span> </div><div class=\"meta\"><div class=\"features\"> <span class=\"langalt\"><span class=\"f\">langalt=</span>1</span> <span class=\"atf xft\"><span class=\"f\">atf=</span>ma2</span></div></div></div></div></div><div class=\"contnr word \" ><div class=\"lbl word\"><span class=\"txtr\">as-sa₃-ki-ip</span> </div><div class=\"meta\"><div class=\"features\"> <span class=\"atf xft\"><span class=\"f\">atf=</span>as-sa3-ki!-ip</span></div></div><div class=\"children word\"><div class=\"contnr sign \" ><div class=\"lbl sign\"><span class=\"txtr\">as-</span> </div><div class=\"meta\"><div class=\"features\"> <span class=\"atf xft\"><span class=\"f\">atf=</span>as</span></div></div></div><div class=\"contnr sign \" ><div class=\"lbl sign\"><span class=\"txtr\">sa₃-</span> </div><div class=\"meta\"><div class=\"features\"> <span class=\"atf xft\"><span class=\"f\">atf=</span>sa3</span></div></div></div><div class=\"contnr sign hl\" ><div class=\"lbl sign\"><span class=\"txtr\">ki-</span> </div><div class=\"meta\"><div class=\"features\"> <span class=\"remarkable\"><span class=\"f\">remarkable=</span>1</span> <span class=\"atf xft\"><span class=\"f\">atf=</span>ki!</span></div></div></div><div class=\"contnr sign \" ><div class=\"lbl sign\"><span class=\"txtr\">ip</span> </div><div class=\"meta\"><div class=\"features\"> <span class=\"atf xft\"><span class=\"f\">atf=</span>ip</span></div></div></div></div></div></div></div>"
      ],
      "text/plain": [
       "<IPython.core.display.HTML object>"
      ]
     },
     "metadata": {},
     "output_type": "display_data"
    },
    {
     "data": {
      "text/markdown": [
       "---\n",
       "# flag: collated\n",
       "\n",
       "Location: P387299 obverse:5"
      ],
      "text/plain": [
       "<IPython.core.display.Markdown object>"
      ]
     },
     "metadata": {},
     "output_type": "display_data"
    },
    {
     "data": {
      "text/html": [
       "<span class=\"vrs ltr\"><a href=\"https://cdli.ucla.edu/search/search_results.php?SearchMode=Text&amp;ObjectID=P387299\" title=\"show this document on CDLI\" sec=\"P387299 obverse:5\">P387299 obverse:5</a></span>&nbsp;<span class=\"plain outer  \" ><span class=\"plain\"><span class=\"plain \" ><span class=\"plain hlbx\" ><span class=\"txtr\"><span class=\"langalt\"><span class=\"collated\"><span class=\"quantity\">8</span>⌈<span class=\"r\">geš₂</span>⌉</span></span> </span></span></span><span class=\"plain \" ><span class=\"plain \" ><span class=\"txtr\"><span class=\"r\">i</span>-</span></span><span class=\"plain \" ><span class=\"txtr\"><span class=\"r\">ib</span>-</span></span><span class=\"plain \" ><span class=\"txtr\"><span class=\"r\">šu</span>-</span></span><span class=\"plain \" ><span class=\"txtr\"><span class=\"r\">u₂</span></span></span></span></span></span>"
      ],
      "text/plain": [
       "<IPython.core.display.HTML object>"
      ]
     },
     "metadata": {},
     "output_type": "display_data"
    },
    {
     "data": {
      "text/html": [
       "<span class=\"vrs ltr\"><a href=\"https://cdli.ucla.edu/search/search_results.php?SearchMode=Text&amp;ObjectID=P387299\" title=\"show this document on CDLI\" sec=\"P387299 obverse:5\">P387299 obverse:5</a></span>&nbsp;<span class=\"plain outer  \" ><span class=\"plain\"><span class=\"plain \" ><span class=\"plain hlbx\" ><span class=\"txtu\"><span class=\"langalt\"><span class=\"collated\">𒐜</span></span> </span></span></span><span class=\"plain \" ><span class=\"plain \" ><span class=\"txtu\"><span class=\"r\">𒄿</span></span></span><span class=\"plain \" ><span class=\"txtu\"><span class=\"r\">𒅁</span></span></span><span class=\"plain \" ><span class=\"txtu\"><span class=\"r\">𒋗</span></span></span><span class=\"plain \" ><span class=\"txtu\"><span class=\"r\">𒌑</span></span></span></span></span></span>"
      ],
      "text/plain": [
       "<IPython.core.display.HTML object>"
      ]
     },
     "metadata": {},
     "output_type": "display_data"
    },
    {
     "data": {
      "text/html": [
       "<div class=\"contnr line \" ><div class=\"lbl line\"><a href=\"https://cdli.ucla.edu/search/search_results.php?SearchMode=Text&amp;ObjectID=P387299\" title=\"P387299 obverse:5\" sec=\"P387299 obverse:5\">line <span class=\"txtn\">5</span></a> </div><div class=\"meta\"><div class=\"features\"></div></div><div class=\"children line\"><div class=\"contnr word \" ><div class=\"lbl word\"><span class=\"txtr\">8(₈(geš₂)) </span> </div><div class=\"meta\"><div class=\"features\"> <span class=\"atf xft\"><span class=\"f\">atf=</span>_8(gesz2)*</span></div></div><div class=\"children word\"><div class=\"contnr sign hl\" ><div class=\"lbl sign\"><span class=\"txtr\">8(₈(geš₂)) </span> </div><div class=\"meta\"><div class=\"features\"> <span class=\"collated\"><span class=\"f\">collated=</span>1</span> <span class=\"langalt\"><span class=\"f\">langalt=</span>1</span> <span class=\"repeat\"><span class=\"f\">repeat=</span>8</span> <span class=\"atf xft\"><span class=\"f\">atf=</span>8(gesz2)*</span></div></div></div></div></div><div class=\"contnr word \" ><div class=\"lbl word\"><span class=\"txtr\">i-ib-šu-u₂</span> </div><div class=\"meta\"><div class=\"features\"> <span class=\"atf xft\"><span class=\"f\">atf=</span>i-ib-szu-u2</span></div></div><div class=\"children word\"><div class=\"contnr sign \" ><div class=\"lbl sign\"><span class=\"txtr\">i-</span> </div><div class=\"meta\"><div class=\"features\"> <span class=\"atf xft\"><span class=\"f\">atf=</span>i</span></div></div></div><div class=\"contnr sign \" ><div class=\"lbl sign\"><span class=\"txtr\">ib-</span> </div><div class=\"meta\"><div class=\"features\"> <span class=\"atf xft\"><span class=\"f\">atf=</span>ib</span></div></div></div><div class=\"contnr sign \" ><div class=\"lbl sign\"><span class=\"txtr\">šu-</span> </div><div class=\"meta\"><div class=\"features\"> <span class=\"atf xft\"><span class=\"f\">atf=</span>szu</span></div></div></div><div class=\"contnr sign \" ><div class=\"lbl sign\"><span class=\"txtr\">u₂</span> </div><div class=\"meta\"><div class=\"features\"> <span class=\"atf xft\"><span class=\"f\">atf=</span>u2</span></div></div></div></div></div></div></div>"
      ],
      "text/plain": [
       "<IPython.core.display.HTML object>"
      ]
     },
     "metadata": {},
     "output_type": "display_data"
    },
    {
     "data": {
      "text/markdown": [
       "---\n",
       "# flag: damage + question\n",
       "\n",
       "Location: P510534 reverse:20'"
      ],
      "text/plain": [
       "<IPython.core.display.Markdown object>"
      ]
     },
     "metadata": {},
     "output_type": "display_data"
    },
    {
     "data": {
      "text/html": [
       "<span class=\"vrs ltr\"><a href=\"https://cdli.ucla.edu/search/search_results.php?SearchMode=Text&amp;ObjectID=P510534\" title=\"show this document on CDLI\" sec=\"P510534 reverse:20'\">P510534 reverse:20'</a></span>&nbsp;<span class=\"plain outer  \" ><span class=\"plain\"><span class=\"plain \" ><span class=\"plain \" ><span class=\"txtr\"><span class=\"damage\"><span class=\"r\">li</span></span>-</span></span><span class=\"plain \" ><span class=\"txtr\"><span class=\"damage\"><span class=\"r\">il</span></span>-</span></span><span class=\"plain hlbx\" ><span class=\"txtr\"><span class=\"question damage\"><span class=\"r\">qe₂</span></span>-</span></span><span class=\"plain \" ><span class=\"txtr\"><span class=\"missing\"><span class=\"r\">šu</span></span>-</span></span><span class=\"plain \" ><span class=\"txtr\"><span class=\"question missing\"><span class=\"r\">ma</span></span></span></span></span></span></span>"
      ],
      "text/plain": [
       "<IPython.core.display.HTML object>"
      ]
     },
     "metadata": {},
     "output_type": "display_data"
    },
    {
     "data": {
      "text/html": [
       "<span class=\"vrs ltr\"><a href=\"https://cdli.ucla.edu/search/search_results.php?SearchMode=Text&amp;ObjectID=P510534\" title=\"show this document on CDLI\" sec=\"P510534 reverse:20'\">P510534 reverse:20'</a></span>&nbsp;<span class=\"plain outer  \" ><span class=\"plain\"><span class=\"plain \" ><span class=\"plain \" ><span class=\"txtu\"><span class=\"damage\"><span class=\"r\">𒇷</span></span></span></span><span class=\"plain \" ><span class=\"txtu\"><span class=\"damage\"><span class=\"r\">𒀧</span></span></span></span><span class=\"plain hlbx\" ><span class=\"txtu\"><span class=\"question damage\"><span class=\"r\">𒆠</span></span></span></span><span class=\"plain \" ><span class=\"txtu\"><span class=\"missing\"><span class=\"r\">𒋗</span></span></span></span><span class=\"plain \" ><span class=\"txtu\"><span class=\"question missing\"><span class=\"r\">𒈠</span></span></span></span></span></span></span>"
      ],
      "text/plain": [
       "<IPython.core.display.HTML object>"
      ]
     },
     "metadata": {},
     "output_type": "display_data"
    },
    {
     "data": {
      "text/html": [
       "<div class=\"contnr line \" ><div class=\"lbl line\"><a href=\"https://cdli.ucla.edu/search/search_results.php?SearchMode=Text&amp;ObjectID=P510534\" title=\"P510534 reverse:20'\" sec=\"P510534 reverse:20'\">line <span class=\"txtn\">20'</span></a> </div><div class=\"meta\"><div class=\"features\"></div></div><div class=\"children line\"><div class=\"contnr word \" ><div class=\"lbl word\"><span class=\"txtr\">li-il-qe₂-šu-ma</span> </div><div class=\"meta\"><div class=\"features\"> <span class=\"atf xft\"><span class=\"f\">atf=</span>li#-il#-qe2#?-[szu-ma?]</span></div></div><div class=\"children word\"><div class=\"contnr sign \" ><div class=\"lbl sign\"><span class=\"txtr\">li-</span> </div><div class=\"meta\"><div class=\"features\"> <span class=\"damage\"><span class=\"f\">damage=</span>1</span> <span class=\"atf xft\"><span class=\"f\">atf=</span>li#</span></div></div></div><div class=\"contnr sign \" ><div class=\"lbl sign\"><span class=\"txtr\">il-</span> </div><div class=\"meta\"><div class=\"features\"> <span class=\"damage\"><span class=\"f\">damage=</span>1</span> <span class=\"atf xft\"><span class=\"f\">atf=</span>il#</span></div></div></div><div class=\"contnr sign hl\" ><div class=\"lbl sign\"><span class=\"txtr\">qe₂-</span> </div><div class=\"meta\"><div class=\"features\"> <span class=\"question\"><span class=\"f\">question=</span>1</span> <span class=\"damage\"><span class=\"f\">damage=</span>1</span> <span class=\"atf xft\"><span class=\"f\">atf=</span>qe2#?</span></div></div></div><div class=\"contnr sign \" ><div class=\"lbl sign\"><span class=\"txtr\">šu-</span> </div><div class=\"meta\"><div class=\"features\"> <span class=\"missing\"><span class=\"f\">missing=</span>1</span> <span class=\"atf xft\"><span class=\"f\">atf=</span>szu</span></div></div></div><div class=\"contnr sign \" ><div class=\"lbl sign\"><span class=\"txtr\">ma</span> </div><div class=\"meta\"><div class=\"features\"> <span class=\"question\"><span class=\"f\">question=</span>1</span> <span class=\"missing\"><span class=\"f\">missing=</span>1</span> <span class=\"atf xft\"><span class=\"f\">atf=</span>ma?</span></div></div></div></div></div></div></div>"
      ],
      "text/plain": [
       "<IPython.core.display.HTML object>"
      ]
     },
     "metadata": {},
     "output_type": "display_data"
    },
    {
     "data": {
      "text/markdown": [
       "---\n",
       "# flag: damage + remarkable\n",
       "\n",
       "Location: P497780 reverse:4"
      ],
      "text/plain": [
       "<IPython.core.display.Markdown object>"
      ]
     },
     "metadata": {},
     "output_type": "display_data"
    },
    {
     "data": {
      "text/html": [
       "<span class=\"vrs ltr\"><a href=\"https://cdli.ucla.edu/search/search_results.php?SearchMode=Text&amp;ObjectID=P497780\" title=\"show this document on CDLI\" sec=\"P497780 reverse:4\">P497780 reverse:4</a></span>&nbsp;<span class=\"plain outer  \" ><span class=\"plain\"><span class=\"plain \" ><span class=\"plain hlbx\" ><span class=\"txtr\"><span class=\"remarkable damage\"><span class=\"r\">lu</span></span>-</span></span><span class=\"plain \" ><span class=\"txtr\"><span class=\"r\">uš</span>-</span></span><span class=\"plain \" ><span class=\"txtr\"><span class=\"r\">ku</span>-</span></span><span class=\"plain \" ><span class=\"txtr\"><span class=\"r\">un</span>-</span></span><span class=\"plain \" ><span class=\"txtr\"><span class=\"r\">ma</span></span></span></span></span></span>"
      ],
      "text/plain": [
       "<IPython.core.display.HTML object>"
      ]
     },
     "metadata": {},
     "output_type": "display_data"
    },
    {
     "data": {
      "text/html": [
       "<span class=\"vrs ltr\"><a href=\"https://cdli.ucla.edu/search/search_results.php?SearchMode=Text&amp;ObjectID=P497780\" title=\"show this document on CDLI\" sec=\"P497780 reverse:4\">P497780 reverse:4</a></span>&nbsp;<span class=\"plain outer  \" ><span class=\"plain\"><span class=\"plain \" ><span class=\"plain hlbx\" ><span class=\"txtu\"><span class=\"remarkable damage\"><span class=\"r\">𒇻</span></span></span></span><span class=\"plain \" ><span class=\"txtu\"><span class=\"r\">𒍑</span></span></span><span class=\"plain \" ><span class=\"txtu\"><span class=\"r\">𒆪</span></span></span><span class=\"plain \" ><span class=\"txtu\"><span class=\"r\">𒌦</span></span></span><span class=\"plain \" ><span class=\"txtu\"><span class=\"r\">𒈠</span></span></span></span></span></span>"
      ],
      "text/plain": [
       "<IPython.core.display.HTML object>"
      ]
     },
     "metadata": {},
     "output_type": "display_data"
    },
    {
     "data": {
      "text/html": [
       "<div class=\"contnr line \" ><div class=\"lbl line\"><a href=\"https://cdli.ucla.edu/search/search_results.php?SearchMode=Text&amp;ObjectID=P497780\" title=\"P497780 reverse:4\" sec=\"P497780 reverse:4\">line <span class=\"txtn\">4</span></a> </div><div class=\"meta\"><div class=\"features\"></div></div><div class=\"children line\"><div class=\"contnr word \" ><div class=\"lbl word\"><span class=\"txtr\">lu-uš-ku-un-ma</span> </div><div class=\"meta\"><div class=\"features\"> <span class=\"atf xft\"><span class=\"f\">atf=</span>lu#!-usz-ku-un-ma</span></div></div><div class=\"children word\"><div class=\"contnr sign hl\" ><div class=\"lbl sign\"><span class=\"txtr\">lu-</span> </div><div class=\"meta\"><div class=\"features\"> <span class=\"remarkable\"><span class=\"f\">remarkable=</span>1</span> <span class=\"damage\"><span class=\"f\">damage=</span>1</span> <span class=\"atf xft\"><span class=\"f\">atf=</span>lu#!</span></div></div></div><div class=\"contnr sign \" ><div class=\"lbl sign\"><span class=\"txtr\">uš-</span> </div><div class=\"meta\"><div class=\"features\"> <span class=\"atf xft\"><span class=\"f\">atf=</span>usz</span></div></div></div><div class=\"contnr sign \" ><div class=\"lbl sign\"><span class=\"txtr\">ku-</span> </div><div class=\"meta\"><div class=\"features\"> <span class=\"atf xft\"><span class=\"f\">atf=</span>ku</span></div></div></div><div class=\"contnr sign \" ><div class=\"lbl sign\"><span class=\"txtr\">un-</span> </div><div class=\"meta\"><div class=\"features\"> <span class=\"atf xft\"><span class=\"f\">atf=</span>un</span></div></div></div><div class=\"contnr sign \" ><div class=\"lbl sign\"><span class=\"txtr\">ma</span> </div><div class=\"meta\"><div class=\"features\"> <span class=\"atf xft\"><span class=\"f\">atf=</span>ma</span></div></div></div></div></div></div></div>"
      ],
      "text/plain": [
       "<IPython.core.display.HTML object>"
      ]
     },
     "metadata": {},
     "output_type": "display_data"
    },
    {
     "data": {
      "text/markdown": [
       "---\n",
       "# flag: damage + collated\n",
       "\n",
       "Location: P305744 obverse:10"
      ],
      "text/plain": [
       "<IPython.core.display.Markdown object>"
      ]
     },
     "metadata": {},
     "output_type": "display_data"
    },
    {
     "data": {
      "text/html": [
       "<span class=\"vrs ltr\"><a href=\"https://cdli.ucla.edu/search/search_results.php?SearchMode=Text&amp;ObjectID=P305744\" title=\"show this document on CDLI\" sec=\"P305744 obverse:10\">P305744 obverse:10</a></span>&nbsp;<span class=\"plain outer  \" ><span class=\"plain\"><span class=\"plain \" ><span class=\"plain \" ><span class=\"txtr\"><span class=\"r\">u₃</span> </span></span></span><span class=\"plain \" ><span class=\"plain \" ><span class=\"txtr\"><span class=\"collated missing\"><span class=\"r\">ṭe</span></span>-</span></span><span class=\"plain \" ><span class=\"txtr\"><span class=\"r\">e</span>-</span></span><span class=\"plain \" ><span class=\"txtr\"><span class=\"r\">em</span></span></span></span></span></span>"
      ],
      "text/plain": [
       "<IPython.core.display.HTML object>"
      ]
     },
     "metadata": {},
     "output_type": "display_data"
    },
    {
     "data": {
      "text/html": [
       "<span class=\"vrs ltr\"><a href=\"https://cdli.ucla.edu/search/search_results.php?SearchMode=Text&amp;ObjectID=P305744\" title=\"show this document on CDLI\" sec=\"P305744 obverse:10\">P305744 obverse:10</a></span>&nbsp;<span class=\"plain outer  \" ><span class=\"plain\"><span class=\"plain \" ><span class=\"plain \" ><span class=\"txtu\"><span class=\"r\">𒅇</span> </span></span></span><span class=\"plain \" ><span class=\"plain \" ><span class=\"txtu\"><span class=\"collated missing\"><span class=\"r\">𒁲</span></span></span></span><span class=\"plain \" ><span class=\"txtu\"><span class=\"r\">𒂊</span></span></span><span class=\"plain \" ><span class=\"txtu\"><span class=\"r\">𒅎</span></span></span></span></span></span>"
      ],
      "text/plain": [
       "<IPython.core.display.HTML object>"
      ]
     },
     "metadata": {},
     "output_type": "display_data"
    },
    {
     "data": {
      "text/html": [
       "<div class=\"contnr line \" ><div class=\"lbl line\"><a href=\"https://cdli.ucla.edu/search/search_results.php?SearchMode=Text&amp;ObjectID=P305744\" title=\"P305744 obverse:10\" sec=\"P305744 obverse:10\">line <span class=\"txtn\">10</span></a> </div><div class=\"meta\"><div class=\"features\"></div></div><div class=\"children line\"><div class=\"contnr word \" ><div class=\"lbl word\"><span class=\"txtr\">u₃ </span> </div><div class=\"meta\"><div class=\"features\"> <span class=\"atf xft\"><span class=\"f\">atf=</span>u3</span></div></div><div class=\"children word\"><div class=\"contnr sign \" ><div class=\"lbl sign\"><span class=\"txtr\">u₃ </span> </div><div class=\"meta\"><div class=\"features\"> <span class=\"atf xft\"><span class=\"f\">atf=</span>u3</span></div></div></div></div></div><div class=\"contnr word \" ><div class=\"lbl word\"><span class=\"txtr\">ṭe-e-em</span> </div><div class=\"meta\"><div class=\"features\"> <span class=\"atf xft\"><span class=\"f\">atf=</span>t,e*]-e-em</span></div></div><div class=\"children word\"><div class=\"contnr sign \" ><div class=\"lbl sign\"><span class=\"txtr\">ṭe-</span> </div><div class=\"meta\"><div class=\"features\"> <span class=\"collated\"><span class=\"f\">collated=</span>1</span> <span class=\"missing\"><span class=\"f\">missing=</span>1</span> <span class=\"atf xft\"><span class=\"f\">atf=</span>t,e*</span></div></div></div><div class=\"contnr sign \" ><div class=\"lbl sign\"><span class=\"txtr\">e-</span> </div><div class=\"meta\"><div class=\"features\"> <span class=\"atf xft\"><span class=\"f\">atf=</span>e</span></div></div></div><div class=\"contnr sign \" ><div class=\"lbl sign\"><span class=\"txtr\">em</span> </div><div class=\"meta\"><div class=\"features\"> <span class=\"atf xft\"><span class=\"f\">atf=</span>em</span></div></div></div></div></div></div></div>"
      ],
      "text/plain": [
       "<IPython.core.display.HTML object>"
      ]
     },
     "metadata": {},
     "output_type": "display_data"
    },
    {
     "data": {
      "text/markdown": [
       "---\n",
       "# flag: collated + remarkable\n",
       "\n",
       "Location: P305799 left side:1"
      ],
      "text/plain": [
       "<IPython.core.display.Markdown object>"
      ]
     },
     "metadata": {},
     "output_type": "display_data"
    },
    {
     "data": {
      "text/html": [
       "<span class=\"vrs ltr\"><a href=\"https://cdli.ucla.edu/search/search_results.php?SearchMode=Text&amp;ObjectID=P305799\" title=\"show this document on CDLI\" sec=\"P305799 left side:1\">P305799 left side:1</a></span>&nbsp;<span class=\"plain outer  \" ><span class=\"plain\"><span class=\"plain \" ><span class=\"plain \" ><span class=\"txtr\"><span class=\"r\">ki</span>-</span></span><span class=\"plain \" ><span class=\"txtr\"><span class=\"r\">ma</span> </span></span></span><span class=\"plain \" ><span class=\"plain \" ><span class=\"txtr\"><span class=\"collated\"><span class=\"r\">eb</span></span>-</span></span><span class=\"plain \" ><span class=\"txtr\"><span class=\"r\">ši</span></span></span></span></span></span>"
      ],
      "text/plain": [
       "<IPython.core.display.HTML object>"
      ]
     },
     "metadata": {},
     "output_type": "display_data"
    },
    {
     "data": {
      "text/html": [
       "<span class=\"vrs ltr\"><a href=\"https://cdli.ucla.edu/search/search_results.php?SearchMode=Text&amp;ObjectID=P305799\" title=\"show this document on CDLI\" sec=\"P305799 left side:1\">P305799 left side:1</a></span>&nbsp;<span class=\"plain outer  \" ><span class=\"plain\"><span class=\"plain \" ><span class=\"plain \" ><span class=\"txtu\"><span class=\"r\">𒆠</span></span></span><span class=\"plain \" ><span class=\"txtu\"><span class=\"r\">𒈠</span> </span></span></span><span class=\"plain \" ><span class=\"plain \" ><span class=\"txtu\"><span class=\"collated\"><span class=\"r\">𒅁</span></span></span></span><span class=\"plain \" ><span class=\"txtu\"><span class=\"r\">𒅆</span></span></span></span></span></span>"
      ],
      "text/plain": [
       "<IPython.core.display.HTML object>"
      ]
     },
     "metadata": {},
     "output_type": "display_data"
    },
    {
     "data": {
      "text/html": [
       "<div class=\"contnr line \" ><div class=\"lbl line\"><a href=\"https://cdli.ucla.edu/search/search_results.php?SearchMode=Text&amp;ObjectID=P305799\" title=\"P305799 left side:1\" sec=\"P305799 left side:1\">line <span class=\"txtn\">1</span></a> </div><div class=\"meta\"><div class=\"features\"></div></div><div class=\"children line\"><div class=\"contnr word \" ><div class=\"lbl word\"><span class=\"txtr\">ki-ma </span> </div><div class=\"meta\"><div class=\"features\"> <span class=\"atf xft\"><span class=\"f\">atf=</span>ki-ma</span></div></div><div class=\"children word\"><div class=\"contnr sign \" ><div class=\"lbl sign\"><span class=\"txtr\">ki-</span> </div><div class=\"meta\"><div class=\"features\"> <span class=\"atf xft\"><span class=\"f\">atf=</span>ki</span></div></div></div><div class=\"contnr sign \" ><div class=\"lbl sign\"><span class=\"txtr\">ma </span> </div><div class=\"meta\"><div class=\"features\"> <span class=\"atf xft\"><span class=\"f\">atf=</span>ma</span></div></div></div></div></div><div class=\"contnr word \" ><div class=\"lbl word\"><span class=\"txtr\">eb-ši</span> </div><div class=\"meta\"><div class=\"features\"> <span class=\"atf xft\"><span class=\"f\">atf=</span>eb*-szi</span></div></div><div class=\"children word\"><div class=\"contnr sign \" ><div class=\"lbl sign\"><span class=\"txtr\">eb-</span> </div><div class=\"meta\"><div class=\"features\"> <span class=\"collated\"><span class=\"f\">collated=</span>1</span> <span class=\"atf xft\"><span class=\"f\">atf=</span>eb*</span></div></div></div><div class=\"contnr sign \" ><div class=\"lbl sign\"><span class=\"txtr\">ši</span> </div><div class=\"meta\"><div class=\"features\"> <span class=\"atf xft\"><span class=\"f\">atf=</span>szi</span></div></div></div></div></div></div></div>"
      ],
      "text/plain": [
       "<IPython.core.display.HTML object>"
      ]
     },
     "metadata": {},
     "output_type": "display_data"
    },
    {
     "data": {
      "text/markdown": [
       "---\n",
       "# flag: remarkable + question + collated\n",
       "\n",
       "Location: P305806 reverse:1"
      ],
      "text/plain": [
       "<IPython.core.display.Markdown object>"
      ]
     },
     "metadata": {},
     "output_type": "display_data"
    },
    {
     "data": {
      "text/html": [
       "<span class=\"vrs ltr\"><a href=\"https://cdli.ucla.edu/search/search_results.php?SearchMode=Text&amp;ObjectID=P305806\" title=\"show this document on CDLI\" sec=\"P305806 reverse:1\">P305806 reverse:1</a></span>&nbsp;<span class=\"plain outer  \" ><span class=\"plain\"><span class=\"plain \" ><span class=\"plain \" ><span class=\"txtr\"><span class=\"r\">ia</span>-</span></span><span class=\"plain \" ><span class=\"txtr\"><span class=\"r\">ti</span> </span></span></span><span class=\"plain \" ><span class=\"plain hlbx\" ><span class=\"txtr\"><span class=\"collated remarkable question\"><span class=\"r\">er</span></span>-</span></span><span class=\"plain \" ><span class=\"txtr\"><span class=\"r\">ha</span>-</span></span><span class=\"plain \" ><span class=\"txtr\"><span class=\"r\">tu</span>-</span></span><span class=\"plain \" ><span class=\"txtr\"><span class=\"r\">šu</span></span></span></span></span></span>"
      ],
      "text/plain": [
       "<IPython.core.display.HTML object>"
      ]
     },
     "metadata": {},
     "output_type": "display_data"
    },
    {
     "data": {
      "text/html": [
       "<span class=\"vrs ltr\"><a href=\"https://cdli.ucla.edu/search/search_results.php?SearchMode=Text&amp;ObjectID=P305806\" title=\"show this document on CDLI\" sec=\"P305806 reverse:1\">P305806 reverse:1</a></span>&nbsp;<span class=\"plain outer  \" ><span class=\"plain\"><span class=\"plain \" ><span class=\"plain \" ><span class=\"txtu\"><span class=\"r\">𒅀</span></span></span><span class=\"plain \" ><span class=\"txtu\"><span class=\"r\">𒋾</span> </span></span></span><span class=\"plain \" ><span class=\"plain hlbx\" ><span class=\"txtu\"><span class=\"collated remarkable question\"><span class=\"r\">𒅕</span></span></span></span><span class=\"plain \" ><span class=\"txtu\"><span class=\"r\">𒄩</span></span></span><span class=\"plain \" ><span class=\"txtu\"><span class=\"r\">𒌅</span></span></span><span class=\"plain \" ><span class=\"txtu\"><span class=\"r\">𒋗</span></span></span></span></span></span>"
      ],
      "text/plain": [
       "<IPython.core.display.HTML object>"
      ]
     },
     "metadata": {},
     "output_type": "display_data"
    },
    {
     "data": {
      "text/html": [
       "<div class=\"contnr line \" ><div class=\"lbl line\"><a href=\"https://cdli.ucla.edu/search/search_results.php?SearchMode=Text&amp;ObjectID=P305806\" title=\"P305806 reverse:1\" sec=\"P305806 reverse:1\">line <span class=\"txtn\">1</span></a> </div><div class=\"meta\"><div class=\"features\"></div></div><div class=\"children line\"><div class=\"contnr word \" ><div class=\"lbl word\"><span class=\"txtr\">ia-ti </span> </div><div class=\"meta\"><div class=\"features\"> <span class=\"atf xft\"><span class=\"f\">atf=</span>ia-ti</span></div></div><div class=\"children word\"><div class=\"contnr sign \" ><div class=\"lbl sign\"><span class=\"txtr\">ia-</span> </div><div class=\"meta\"><div class=\"features\"> <span class=\"atf xft\"><span class=\"f\">atf=</span>ia</span></div></div></div><div class=\"contnr sign \" ><div class=\"lbl sign\"><span class=\"txtr\">ti </span> </div><div class=\"meta\"><div class=\"features\"> <span class=\"atf xft\"><span class=\"f\">atf=</span>ti</span></div></div></div></div></div><div class=\"contnr word \" ><div class=\"lbl word\"><span class=\"txtr\">er-ha-tu-šu</span> </div><div class=\"meta\"><div class=\"features\"> <span class=\"atf xft\"><span class=\"f\">atf=</span>er?!*-ha-tu-szu</span></div></div><div class=\"children word\"><div class=\"contnr sign hl\" ><div class=\"lbl sign\"><span class=\"txtr\">er-</span> </div><div class=\"meta\"><div class=\"features\"> <span class=\"collated\"><span class=\"f\">collated=</span>1</span> <span class=\"remarkable\"><span class=\"f\">remarkable=</span>1</span> <span class=\"question\"><span class=\"f\">question=</span>1</span> <span class=\"atf xft\"><span class=\"f\">atf=</span>er?!*</span></div></div></div><div class=\"contnr sign \" ><div class=\"lbl sign\"><span class=\"txtr\">ha-</span> </div><div class=\"meta\"><div class=\"features\"> <span class=\"atf xft\"><span class=\"f\">atf=</span>ha</span></div></div></div><div class=\"contnr sign \" ><div class=\"lbl sign\"><span class=\"txtr\">tu-</span> </div><div class=\"meta\"><div class=\"features\"> <span class=\"atf xft\"><span class=\"f\">atf=</span>tu</span></div></div></div><div class=\"contnr sign \" ><div class=\"lbl sign\"><span class=\"txtr\">šu</span> </div><div class=\"meta\"><div class=\"features\"> <span class=\"atf xft\"><span class=\"f\">atf=</span>szu</span></div></div></div></div></div></div></div>"
      ],
      "text/plain": [
       "<IPython.core.display.HTML object>"
      ]
     },
     "metadata": {},
     "output_type": "display_data"
    },
    {
     "data": {
      "text/markdown": [
       "---\n",
       "# flag collated in cluster missing\n",
       "\n",
       "Location: P305744 obverse:10"
      ],
      "text/plain": [
       "<IPython.core.display.Markdown object>"
      ]
     },
     "metadata": {},
     "output_type": "display_data"
    },
    {
     "data": {
      "text/html": [
       "<span class=\"vrs ltr\"><a href=\"https://cdli.ucla.edu/search/search_results.php?SearchMode=Text&amp;ObjectID=P305744\" title=\"show this document on CDLI\" sec=\"P305744 obverse:10\">P305744 obverse:10</a></span>&nbsp;<span class=\"plain outer  \" ><span class=\"plain\"><span class=\"plain \" ><span class=\"plain \" ><span class=\"txtr\"><span class=\"r\">u₃</span> </span></span></span><span class=\"plain \" ><span class=\"plain hlbx\" ><span class=\"txtr\"><span class=\"collated missing\"><span class=\"r\">ṭe</span></span>-</span></span><span class=\"plain \" ><span class=\"txtr\"><span class=\"r\">e</span>-</span></span><span class=\"plain \" ><span class=\"txtr\"><span class=\"r\">em</span></span></span></span></span></span>"
      ],
      "text/plain": [
       "<IPython.core.display.HTML object>"
      ]
     },
     "metadata": {},
     "output_type": "display_data"
    },
    {
     "data": {
      "text/html": [
       "<span class=\"vrs ltr\"><a href=\"https://cdli.ucla.edu/search/search_results.php?SearchMode=Text&amp;ObjectID=P305744\" title=\"show this document on CDLI\" sec=\"P305744 obverse:10\">P305744 obverse:10</a></span>&nbsp;<span class=\"plain outer  \" ><span class=\"plain\"><span class=\"plain \" ><span class=\"plain \" ><span class=\"txtu\"><span class=\"r\">𒅇</span> </span></span></span><span class=\"plain \" ><span class=\"plain hlbx\" ><span class=\"txtu\"><span class=\"collated missing\"><span class=\"r\">𒁲</span></span></span></span><span class=\"plain \" ><span class=\"txtu\"><span class=\"r\">𒂊</span></span></span><span class=\"plain \" ><span class=\"txtu\"><span class=\"r\">𒅎</span></span></span></span></span></span>"
      ],
      "text/plain": [
       "<IPython.core.display.HTML object>"
      ]
     },
     "metadata": {},
     "output_type": "display_data"
    },
    {
     "data": {
      "text/html": [
       "<div class=\"contnr line \" ><div class=\"lbl line\"><a href=\"https://cdli.ucla.edu/search/search_results.php?SearchMode=Text&amp;ObjectID=P305744\" title=\"P305744 obverse:10\" sec=\"P305744 obverse:10\">line <span class=\"txtn\">10</span></a> </div><div class=\"meta\"><div class=\"features\"></div></div><div class=\"children line\"><div class=\"contnr word \" ><div class=\"lbl word\"><span class=\"txtr\">u₃ </span> </div><div class=\"meta\"><div class=\"features\"> <span class=\"atf xft\"><span class=\"f\">atf=</span>u3</span></div></div><div class=\"children word\"><div class=\"contnr sign \" ><div class=\"lbl sign\"><span class=\"txtr\">u₃ </span> </div><div class=\"meta\"><div class=\"features\"> <span class=\"atf xft\"><span class=\"f\">atf=</span>u3</span></div></div></div></div></div><div class=\"contnr word \" ><div class=\"lbl word\"><span class=\"txtr\">ṭe-e-em</span> </div><div class=\"meta\"><div class=\"features\"> <span class=\"atf xft\"><span class=\"f\">atf=</span>t,e*]-e-em</span></div></div><div class=\"children word\"><div class=\"contnr sign hl\" ><div class=\"lbl sign\"><span class=\"txtr\">ṭe-</span> </div><div class=\"meta\"><div class=\"features\"> <span class=\"collated\"><span class=\"f\">collated=</span>1</span> <span class=\"missing\"><span class=\"f\">missing=</span>1</span> <span class=\"atf xft\"><span class=\"f\">atf=</span>t,e*</span></div></div></div><div class=\"contnr sign \" ><div class=\"lbl sign\"><span class=\"txtr\">e-</span> </div><div class=\"meta\"><div class=\"features\"> <span class=\"atf xft\"><span class=\"f\">atf=</span>e</span></div></div></div><div class=\"contnr sign \" ><div class=\"lbl sign\"><span class=\"txtr\">em</span> </div><div class=\"meta\"><div class=\"features\"> <span class=\"atf xft\"><span class=\"f\">atf=</span>em</span></div></div></div></div></div></div></div>"
      ],
      "text/plain": [
       "<IPython.core.display.HTML object>"
      ]
     },
     "metadata": {},
     "output_type": "display_data"
    },
    {
     "data": {
      "text/markdown": [
       "---\n",
       "# sign: comment\n",
       "\n",
       "Location: P275088 reverse:2"
      ],
      "text/plain": [
       "<IPython.core.display.Markdown object>"
      ]
     },
     "metadata": {},
     "output_type": "display_data"
    },
    {
     "data": {
      "text/html": [
       "<span class=\"vrs ltr\"><a href=\"https://cdli.ucla.edu/search/search_results.php?SearchMode=Text&amp;ObjectID=P275088\" title=\"show this document on CDLI\" sec=\"P275088 reverse:2\">P275088 reverse:2</a></span>&nbsp;<span class=\"plain outer  \" ><span class=\"plain\"><span class=\"plain \" ><span class=\"plain hlbx\" ><span class=\"txtr\"><span class=\"comment\">blank space</span> </span></span></span><span class=\"plain \" ><span class=\"plain \" ><span class=\"txtr\"><span class=\"r\">an</span>-</span></span><span class=\"plain \" ><span class=\"txtr\"><span class=\"r\">nu</span>-</span></span><span class=\"plain \" ><span class=\"txtr\"><span class=\"r\">ti</span>-</span></span><span class=\"plain \" ><span class=\"txtr\"><span class=\"r\">in</span></span></span></span></span></span>"
      ],
      "text/plain": [
       "<IPython.core.display.HTML object>"
      ]
     },
     "metadata": {},
     "output_type": "display_data"
    },
    {
     "data": {
      "text/html": [
       "<span class=\"vrs ltr\"><a href=\"https://cdli.ucla.edu/search/search_results.php?SearchMode=Text&amp;ObjectID=P275088\" title=\"show this document on CDLI\" sec=\"P275088 reverse:2\">P275088 reverse:2</a></span>&nbsp;<span class=\"plain outer  \" ><span class=\"plain\"><span class=\"plain \" ><span class=\"plain hlbx\" ><span class=\"txtu\"><span class=\"comment\">blank space</span> </span></span></span><span class=\"plain \" ><span class=\"plain \" ><span class=\"txtu\"><span class=\"r\">𒀭</span></span></span><span class=\"plain \" ><span class=\"txtu\"><span class=\"r\">𒉡</span></span></span><span class=\"plain \" ><span class=\"txtu\"><span class=\"r\">𒋾</span></span></span><span class=\"plain \" ><span class=\"txtu\"><span class=\"r\">𒅔</span></span></span></span></span></span>"
      ],
      "text/plain": [
       "<IPython.core.display.HTML object>"
      ]
     },
     "metadata": {},
     "output_type": "display_data"
    },
    {
     "data": {
      "text/html": [
       "<div class=\"contnr line \" ><div class=\"lbl line\"><a href=\"https://cdli.ucla.edu/search/search_results.php?SearchMode=Text&amp;ObjectID=P275088\" title=\"P275088 reverse:2\" sec=\"P275088 reverse:2\">line <span class=\"txtn\">2</span></a> </div><div class=\"meta\"><div class=\"features\"></div></div><div class=\"children line\"><div class=\"contnr word \" ><div class=\"lbl word\"><span class=\"txtr\">(<span>$</span> blank space <span>$</span>) </span> </div><div class=\"meta\"><div class=\"features\"></div></div><div class=\"children word\"><div class=\"contnr sign hl\" ><div class=\"lbl sign\"><span class=\"txtr\">(<span>$</span> blank space <span>$</span>) </span> </div><div class=\"meta\"><div class=\"features\"> <span class=\"comment\"><span class=\"f\">comment=</span>blank space</span> <span class=\"atf xft\"><span class=\"f\">atf=</span>(<span>$</span> blank space <span>$</span>)</span></div></div></div></div></div><div class=\"contnr word \" ><div class=\"lbl word\"><span class=\"txtr\">an-nu-ti-in</span> </div><div class=\"meta\"><div class=\"features\"> <span class=\"atf xft\"><span class=\"f\">atf=</span>an-nu-ti-in</span></div></div><div class=\"children word\"><div class=\"contnr sign \" ><div class=\"lbl sign\"><span class=\"txtr\">an-</span> </div><div class=\"meta\"><div class=\"features\"> <span class=\"atf xft\"><span class=\"f\">atf=</span>an</span></div></div></div><div class=\"contnr sign \" ><div class=\"lbl sign\"><span class=\"txtr\">nu-</span> </div><div class=\"meta\"><div class=\"features\"> <span class=\"atf xft\"><span class=\"f\">atf=</span>nu</span></div></div></div><div class=\"contnr sign \" ><div class=\"lbl sign\"><span class=\"txtr\">ti-</span> </div><div class=\"meta\"><div class=\"features\"> <span class=\"atf xft\"><span class=\"f\">atf=</span>ti</span></div></div></div><div class=\"contnr sign \" ><div class=\"lbl sign\"><span class=\"txtr\">in</span> </div><div class=\"meta\"><div class=\"features\"> <span class=\"atf xft\"><span class=\"f\">atf=</span>in</span></div></div></div></div></div></div></div>"
      ],
      "text/plain": [
       "<IPython.core.display.HTML object>"
      ]
     },
     "metadata": {},
     "output_type": "display_data"
    },
    {
     "data": {
      "text/markdown": [
       "---\n",
       "# sign: grapheme\n",
       "\n",
       "Location: P510636 obverse:3"
      ],
      "text/plain": [
       "<IPython.core.display.Markdown object>"
      ]
     },
     "metadata": {},
     "output_type": "display_data"
    },
    {
     "data": {
      "text/html": [
       "<span class=\"vrs ltr\"><a href=\"https://cdli.ucla.edu/search/search_results.php?SearchMode=Text&amp;ObjectID=P510636\" title=\"show this document on CDLI\" sec=\"P510636 obverse:3\">P510636 obverse:3</a></span>&nbsp;<span class=\"plain outer  \" ><span class=\"plain\"><span class=\"plain \" ><span class=\"plain \" ><span class=\"txtr\"><span class=\"r\">um</span>-</span></span><span class=\"plain \" ><span class=\"txtr\"><span class=\"r\">ma</span> </span></span></span><span class=\"plain \" ><span class=\"plain hlbx\" ><span class=\"txtr\"><span class=\"langalt\"><span class=\"g\">ARAD</span></span>-</span></span><span class=\"plain \" ><span class=\"txtr\"><span class=\"r\">ka</span>-</span></span><span class=\"plain \" ><span class=\"txtr\"><span class=\"r\">ma</span></span></span></span></span></span>"
      ],
      "text/plain": [
       "<IPython.core.display.HTML object>"
      ]
     },
     "metadata": {},
     "output_type": "display_data"
    },
    {
     "data": {
      "text/html": [
       "<span class=\"vrs ltr\"><a href=\"https://cdli.ucla.edu/search/search_results.php?SearchMode=Text&amp;ObjectID=P510636\" title=\"show this document on CDLI\" sec=\"P510636 obverse:3\">P510636 obverse:3</a></span>&nbsp;<span class=\"plain outer  \" ><span class=\"plain\"><span class=\"plain \" ><span class=\"plain \" ><span class=\"txtu\"><span class=\"r\">𒌝</span></span></span><span class=\"plain \" ><span class=\"txtu\"><span class=\"r\">𒈠</span> </span></span></span><span class=\"plain \" ><span class=\"plain hlbx\" ><span class=\"txtu\"><span class=\"langalt\"><span class=\"g\">𒀴</span></span></span></span><span class=\"plain \" ><span class=\"txtu\"><span class=\"r\">𒅗</span></span></span><span class=\"plain \" ><span class=\"txtu\"><span class=\"r\">𒈠</span></span></span></span></span></span>"
      ],
      "text/plain": [
       "<IPython.core.display.HTML object>"
      ]
     },
     "metadata": {},
     "output_type": "display_data"
    },
    {
     "data": {
      "text/html": [
       "<div class=\"contnr line \" ><div class=\"lbl line\"><a href=\"https://cdli.ucla.edu/search/search_results.php?SearchMode=Text&amp;ObjectID=P510636\" title=\"P510636 obverse:3\" sec=\"P510636 obverse:3\">line <span class=\"txtn\">3</span></a> </div><div class=\"meta\"><div class=\"features\"></div></div><div class=\"children line\"><div class=\"contnr word \" ><div class=\"lbl word\"><span class=\"txtr\">um-ma </span> </div><div class=\"meta\"><div class=\"features\"> <span class=\"atf xft\"><span class=\"f\">atf=</span>um-ma</span></div></div><div class=\"children word\"><div class=\"contnr sign \" ><div class=\"lbl sign\"><span class=\"txtr\">um-</span> </div><div class=\"meta\"><div class=\"features\"> <span class=\"atf xft\"><span class=\"f\">atf=</span>um</span></div></div></div><div class=\"contnr sign \" ><div class=\"lbl sign\"><span class=\"txtr\">ma </span> </div><div class=\"meta\"><div class=\"features\"> <span class=\"atf xft\"><span class=\"f\">atf=</span>ma</span></div></div></div></div></div><div class=\"contnr word \" ><div class=\"lbl word\"><span class=\"txtr\">ARAD-ka-ma</span> </div><div class=\"meta\"><div class=\"features\"> <span class=\"atf xft\"><span class=\"f\">atf=</span>_ARAD_-ka-ma</span></div></div><div class=\"children word\"><div class=\"contnr sign hl\" ><div class=\"lbl sign\"><span class=\"txtr\">ARAD-</span> </div><div class=\"meta\"><div class=\"features\"> <span class=\"langalt\"><span class=\"f\">langalt=</span>1</span> <span class=\"grapheme\"><span class=\"f\">grapheme=</span>ARAD</span> <span class=\"atf xft\"><span class=\"f\">atf=</span>ARAD</span></div></div></div><div class=\"contnr sign \" ><div class=\"lbl sign\"><span class=\"txtr\">ka-</span> </div><div class=\"meta\"><div class=\"features\"> <span class=\"atf xft\"><span class=\"f\">atf=</span>ka</span></div></div></div><div class=\"contnr sign \" ><div class=\"lbl sign\"><span class=\"txtr\">ma</span> </div><div class=\"meta\"><div class=\"features\"> <span class=\"atf xft\"><span class=\"f\">atf=</span>ma</span></div></div></div></div></div></div></div>"
      ],
      "text/plain": [
       "<IPython.core.display.HTML object>"
      ]
     },
     "metadata": {},
     "output_type": "display_data"
    },
    {
     "data": {
      "text/markdown": [
       "---\n",
       "# sign: correction\n",
       "\n",
       "Location: P386451 reverse:11"
      ],
      "text/plain": [
       "<IPython.core.display.Markdown object>"
      ]
     },
     "metadata": {},
     "output_type": "display_data"
    },
    {
     "data": {
      "text/html": [
       "<span class=\"vrs ltr\"><a href=\"https://cdli.ucla.edu/search/search_results.php?SearchMode=Text&amp;ObjectID=P386451\" title=\"show this document on CDLI\" sec=\"P386451 reverse:11\">P386451 reverse:11</a></span>&nbsp;<span class=\"plain outer  \" ><span class=\"plain\"><span class=\"plain \" ><span class=\"plain \" ><span class=\"txtr\"><span class=\"det\"><span class=\"r\">diš</span></span></span></span><span class=\"plain \" ><span class=\"txtr\"><span class=\"damage\"><span class=\"r\">pa</span></span>-</span></span><span class=\"plain \" ><span class=\"txtr\"><span class=\"r\">ri</span>-</span></span><span class=\"plain \" ><span class=\"txtr\"><span class=\"r\">du</span>-</span></span><span class=\"plain \" ><span class=\"txtr\"><span class=\"r\">um</span> </span></span></span><span class=\"plain \" ><span class=\"plain hlbx\" ><span class=\"txtr\"><span class=\"r\">il</span><span class=\"operator\">=</span>⌈<span class=\"g\">AL</span>⌉-</span></span><span class=\"plain \" ><span class=\"txtr\"><span class=\"r\">qe₂</span></span></span></span></span></span>"
      ],
      "text/plain": [
       "<IPython.core.display.HTML object>"
      ]
     },
     "metadata": {},
     "output_type": "display_data"
    },
    {
     "data": {
      "text/html": [
       "<span class=\"vrs ltr\"><a href=\"https://cdli.ucla.edu/search/search_results.php?SearchMode=Text&amp;ObjectID=P386451\" title=\"show this document on CDLI\" sec=\"P386451 reverse:11\">P386451 reverse:11</a></span>&nbsp;<span class=\"plain outer  \" ><span class=\"plain\"><span class=\"plain \" ><span class=\"plain \" ><span class=\"txtu\"><span class=\"det\"><span class=\"r\">𒁹</span></span></span></span><span class=\"plain \" ><span class=\"txtu\"><span class=\"damage\"><span class=\"r\">𒉺</span></span></span></span><span class=\"plain \" ><span class=\"txtu\"><span class=\"r\">𒊑</span></span></span><span class=\"plain \" ><span class=\"txtu\"><span class=\"r\">𒁺</span></span></span><span class=\"plain \" ><span class=\"txtu\"><span class=\"r\">𒌝</span> </span></span></span><span class=\"plain \" ><span class=\"plain hlbx\" ><span class=\"txtu\"><span class=\"r\">𒀧</span><span class=\"operator\">=</span>⌈<span class=\"g\">𒀠</span>⌉</span></span><span class=\"plain \" ><span class=\"txtu\"><span class=\"r\">𒆠</span></span></span></span></span></span>"
      ],
      "text/plain": [
       "<IPython.core.display.HTML object>"
      ]
     },
     "metadata": {},
     "output_type": "display_data"
    },
    {
     "data": {
      "text/html": [
       "<div class=\"contnr line \" ><div class=\"lbl line\"><a href=\"https://cdli.ucla.edu/search/search_results.php?SearchMode=Text&amp;ObjectID=P386451\" title=\"P386451 reverse:11\" sec=\"P386451 reverse:11\">line <span class=\"txtn\">11</span></a> </div><div class=\"meta\"><div class=\"features\"></div></div><div class=\"children line\"><div class=\"contnr word \" ><div class=\"lbl word\"><span class=\"txtr\">diš⁼pa-ri-du-um </span> </div><div class=\"meta\"><div class=\"features\"> <span class=\"atf xft\"><span class=\"f\">atf=</span>{disz}pa#-ri-du-um</span></div></div><div class=\"children word\"><div class=\"contnr sign \" ><div class=\"lbl sign\"><span class=\"txtr\">diš⁼</span> </div><div class=\"meta\"><div class=\"features\"> <span class=\"det\"><span class=\"f\">det=</span>1</span> <span class=\"atf xft\"><span class=\"f\">atf=</span>disz</span></div></div></div><div class=\"contnr sign \" ><div class=\"lbl sign\"><span class=\"txtr\">pa-</span> </div><div class=\"meta\"><div class=\"features\"> <span class=\"damage\"><span class=\"f\">damage=</span>1</span> <span class=\"atf xft\"><span class=\"f\">atf=</span>pa#</span></div></div></div><div class=\"contnr sign \" ><div class=\"lbl sign\"><span class=\"txtr\">ri-</span> </div><div class=\"meta\"><div class=\"features\"> <span class=\"atf xft\"><span class=\"f\">atf=</span>ri</span></div></div></div><div class=\"contnr sign \" ><div class=\"lbl sign\"><span class=\"txtr\">du-</span> </div><div class=\"meta\"><div class=\"features\"> <span class=\"atf xft\"><span class=\"f\">atf=</span>du</span></div></div></div><div class=\"contnr sign \" ><div class=\"lbl sign\"><span class=\"txtr\">um </span> </div><div class=\"meta\"><div class=\"features\"> <span class=\"atf xft\"><span class=\"f\">atf=</span>um</span></div></div></div></div></div><div class=\"contnr word \" ><div class=\"lbl word\"><span class=\"txtr\">il=AL-qe₂</span> </div><div class=\"meta\"><div class=\"features\"> <span class=\"atf xft\"><span class=\"f\">atf=</span>il!(AL)-qe2</span></div></div><div class=\"children word\"><div class=\"contnr sign hl\" ><div class=\"lbl sign\"><span class=\"txtr\">il=AL-</span> </div><div class=\"meta\"><div class=\"features\"> <span class=\"operator\"><span class=\"f\">operator=</span>!</span> <span class=\"grapheme\"><span class=\"f\">grapheme=</span>AL</span> <span class=\"atf xft\"><span class=\"f\">atf=</span>il!(AL)</span></div></div></div><div class=\"contnr sign \" ><div class=\"lbl sign\"><span class=\"txtr\">qe₂</span> </div><div class=\"meta\"><div class=\"features\"> <span class=\"atf xft\"><span class=\"f\">atf=</span>qe2</span></div></div></div></div></div></div></div>"
      ],
      "text/plain": [
       "<IPython.core.display.HTML object>"
      ]
     },
     "metadata": {},
     "output_type": "display_data"
    },
    {
     "data": {
      "text/markdown": [
       "---\n",
       "# sign: numeral\n",
       "\n",
       "Location: P312032 left edge:1"
      ],
      "text/plain": [
       "<IPython.core.display.Markdown object>"
      ]
     },
     "metadata": {},
     "output_type": "display_data"
    },
    {
     "data": {
      "text/html": [
       "<span class=\"vrs ltr\"><a href=\"https://cdli.ucla.edu/search/search_results.php?SearchMode=Text&amp;ObjectID=P312032\" title=\"show this document on CDLI\" sec=\"P312032 left edge:1\">P312032 left edge:1</a></span>&nbsp;<span class=\"plain outer  \" ><span class=\"plain\"><span class=\"plain \" ><span class=\"plain \" ><span class=\"txtr\"><span class=\"r\">e</span>-</span></span><span class=\"plain \" ><span class=\"txtr\"><span class=\"r\">zi</span>-</span></span><span class=\"plain \" ><span class=\"txtr\"><span class=\"r\">ib</span> </span></span></span><span class=\"plain \" ><span class=\"plain \" ><span class=\"txtr\"><span class=\"langalt\"><span class=\"r\">ziz₂</span></span>-</span></span><span class=\"plain \" ><span class=\"txtr\"><span class=\"langalt\"><span class=\"r\">an</span></span>-</span></span><span class=\"plain \" ><span class=\"txtr\"><span class=\"langalt\"><span class=\"r\">na</span></span></span></span></span></span></span>"
      ],
      "text/plain": [
       "<IPython.core.display.HTML object>"
      ]
     },
     "metadata": {},
     "output_type": "display_data"
    },
    {
     "data": {
      "text/html": [
       "<span class=\"vrs ltr\"><a href=\"https://cdli.ucla.edu/search/search_results.php?SearchMode=Text&amp;ObjectID=P312032\" title=\"show this document on CDLI\" sec=\"P312032 left edge:1\">P312032 left edge:1</a></span>&nbsp;<span class=\"plain outer  \" ><span class=\"plain\"><span class=\"plain \" ><span class=\"plain \" ><span class=\"txtu\"><span class=\"r\">𒂊</span></span></span><span class=\"plain \" ><span class=\"txtu\"><span class=\"r\">𒍣</span></span></span><span class=\"plain \" ><span class=\"txtu\"><span class=\"r\">𒅁</span> </span></span></span><span class=\"plain \" ><span class=\"plain \" ><span class=\"txtu\"><span class=\"langalt\"><span class=\"r\">𒀾</span></span></span></span><span class=\"plain \" ><span class=\"txtu\"><span class=\"langalt\"><span class=\"r\">𒀭</span></span></span></span><span class=\"plain \" ><span class=\"txtu\"><span class=\"langalt\"><span class=\"r\">𒈾</span></span></span></span></span></span></span>"
      ],
      "text/plain": [
       "<IPython.core.display.HTML object>"
      ]
     },
     "metadata": {},
     "output_type": "display_data"
    },
    {
     "data": {
      "text/html": [
       "<div class=\"contnr line \" ><div class=\"lbl line\"><a href=\"https://cdli.ucla.edu/search/search_results.php?SearchMode=Text&amp;ObjectID=P312032\" title=\"P312032 left edge:1\" sec=\"P312032 left edge:1\">line <span class=\"txtn\">1</span></a> </div><div class=\"meta\"><div class=\"features\"></div></div><div class=\"children line\"><div class=\"contnr word \" ><div class=\"lbl word\"><span class=\"txtr\">e-zi-ib </span> </div><div class=\"meta\"><div class=\"features\"> <span class=\"atf xft\"><span class=\"f\">atf=</span>e-zi-ib</span></div></div><div class=\"children word\"><div class=\"contnr sign \" ><div class=\"lbl sign\"><span class=\"txtr\">e-</span> </div><div class=\"meta\"><div class=\"features\"> <span class=\"atf xft\"><span class=\"f\">atf=</span>e</span></div></div></div><div class=\"contnr sign \" ><div class=\"lbl sign\"><span class=\"txtr\">zi-</span> </div><div class=\"meta\"><div class=\"features\"> <span class=\"atf xft\"><span class=\"f\">atf=</span>zi</span></div></div></div><div class=\"contnr sign \" ><div class=\"lbl sign\"><span class=\"txtr\">ib </span> </div><div class=\"meta\"><div class=\"features\"> <span class=\"atf xft\"><span class=\"f\">atf=</span>ib</span></div></div></div></div></div><div class=\"contnr word \" ><div class=\"lbl word\"><span class=\"txtr\">ziz₂-an-na</span> </div><div class=\"meta\"><div class=\"features\"> <span class=\"atf xft\"><span class=\"f\">atf=</span>ziz2-an-na_</span></div></div><div class=\"children word\"><div class=\"contnr sign \" ><div class=\"lbl sign\"><span class=\"txtr\">ziz₂-</span> </div><div class=\"meta\"><div class=\"features\"> <span class=\"langalt\"><span class=\"f\">langalt=</span>1</span> <span class=\"atf xft\"><span class=\"f\">atf=</span>ziz2</span></div></div></div><div class=\"contnr sign \" ><div class=\"lbl sign\"><span class=\"txtr\">an-</span> </div><div class=\"meta\"><div class=\"features\"> <span class=\"langalt\"><span class=\"f\">langalt=</span>1</span> <span class=\"atf xft\"><span class=\"f\">atf=</span>an</span></div></div></div><div class=\"contnr sign \" ><div class=\"lbl sign\"><span class=\"txtr\">na</span> </div><div class=\"meta\"><div class=\"features\"> <span class=\"langalt\"><span class=\"f\">langalt=</span>1</span> <span class=\"atf xft\"><span class=\"f\">atf=</span>na</span></div></div></div></div></div></div></div>"
      ],
      "text/plain": [
       "<IPython.core.display.HTML object>"
      ]
     },
     "metadata": {},
     "output_type": "display_data"
    },
    {
     "data": {
      "text/markdown": [
       "---\n",
       "# sign: ligature\n",
       "\n",
       "Location: P492284 obverse:5"
      ],
      "text/plain": [
       "<IPython.core.display.Markdown object>"
      ]
     },
     "metadata": {},
     "output_type": "display_data"
    },
    {
     "data": {
      "text/html": [
       "<span class=\"vrs ltr\"><a href=\"https://cdli.ucla.edu/search/search_results.php?SearchMode=Text&amp;ObjectID=P492284\" title=\"show this document on CDLI\" sec=\"P492284 obverse:5\">P492284 obverse:5</a></span>&nbsp;<span class=\"plain outer  \" ><span class=\"plain\"><span class=\"plain \" ><span class=\"plain \" ><span class=\"txtr\"><span class=\"langalt\"><span class=\"r\">mu</span></span>-</span></span><span class=\"plain hlbx\" ><span class=\"txtr\"><span class=\"langalt\"><span class=\"damage\"><span class=\"r\">ku</span><span class=\"operator\">␣</span>⌈<span class=\"g\">DU</span>⌉</span></span> </span></span></span><span class=\"plain \" ><span class=\"plain \" ><span class=\"txtr\"><span class=\"missing\"><span class=\"uncertain\"><span class=\"r\">x</span></span></span>-</span></span><span class=\"plain \" ><span class=\"txtr\"><span class=\"question\"><span class=\"r\">tum</span></span></span></span></span></span></span>"
      ],
      "text/plain": [
       "<IPython.core.display.HTML object>"
      ]
     },
     "metadata": {},
     "output_type": "display_data"
    },
    {
     "data": {
      "text/html": [
       "<span class=\"vrs ltr\"><a href=\"https://cdli.ucla.edu/search/search_results.php?SearchMode=Text&amp;ObjectID=P492284\" title=\"show this document on CDLI\" sec=\"P492284 obverse:5\">P492284 obverse:5</a></span>&nbsp;<span class=\"plain outer  \" ><span class=\"plain\"><span class=\"plain \" ><span class=\"plain \" ><span class=\"txtu\"><span class=\"langalt\"><span class=\"r\">𒈬</span></span></span></span><span class=\"plain hlbx\" ><span class=\"txtu\"><span class=\"langalt\"><span class=\"damage\"><span class=\"r\">𒆪</span><span class=\"operator\">␣</span>⌈<span class=\"g\">𒁺</span>⌉</span></span> </span></span></span><span class=\"plain \" ><span class=\"plain \" ><span class=\"txtu\"><span class=\"missing\"><span class=\"uncertain\"><span class=\"r\">x</span></span></span></span></span><span class=\"plain \" ><span class=\"txtu\"><span class=\"question\"><span class=\"r\">𒌈</span></span></span></span></span></span></span>"
      ],
      "text/plain": [
       "<IPython.core.display.HTML object>"
      ]
     },
     "metadata": {},
     "output_type": "display_data"
    },
    {
     "data": {
      "text/html": [
       "<div class=\"contnr line \" ><div class=\"lbl line\"><a href=\"https://cdli.ucla.edu/search/search_results.php?SearchMode=Text&amp;ObjectID=P492284\" title=\"P492284 obverse:5\" sec=\"P492284 obverse:5\">line <span class=\"txtn\">5</span></a> </div><div class=\"meta\"><div class=\"features\"></div></div><div class=\"children line\"><div class=\"contnr word \" ><div class=\"lbl word\"><span class=\"txtr\">mu-ku␣DU </span> </div><div class=\"meta\"><div class=\"features\"> <span class=\"atf xft\"><span class=\"f\">atf=</span>_mu-kux(DU)#_</span></div></div><div class=\"children word\"><div class=\"contnr sign \" ><div class=\"lbl sign\"><span class=\"txtr\">mu-</span> </div><div class=\"meta\"><div class=\"features\"> <span class=\"langalt\"><span class=\"f\">langalt=</span>1</span> <span class=\"atf xft\"><span class=\"f\">atf=</span>mu</span></div></div></div><div class=\"contnr sign hl\" ><div class=\"lbl sign\"><span class=\"txtr\">ku␣DU </span> </div><div class=\"meta\"><div class=\"features\"> <span class=\"damage\"><span class=\"f\">damage=</span>1</span> <span class=\"langalt\"><span class=\"f\">langalt=</span>1</span> <span class=\"operator\"><span class=\"f\">operator=</span>x</span> <span class=\"grapheme\"><span class=\"f\">grapheme=</span>DU</span> <span class=\"atf xft\"><span class=\"f\">atf=</span>kux(DU)#</span></div></div></div></div></div><div class=\"contnr word \" ><div class=\"lbl word\"><span class=\"txtr\">x-tum</span> </div><div class=\"meta\"><div class=\"features\"> <span class=\"atf xft\"><span class=\"f\">atf=</span>x]-tum?</span></div></div><div class=\"children word\"><div class=\"contnr sign \" ><div class=\"lbl sign\"><span class=\"txtr\">x-</span> </div><div class=\"meta\"><div class=\"features\"> <span class=\"missing\"><span class=\"f\">missing=</span>1</span> <span class=\"atf xft\"><span class=\"f\">atf=</span>x</span></div></div></div><div class=\"contnr sign \" ><div class=\"lbl sign\"><span class=\"txtr\">tum</span> </div><div class=\"meta\"><div class=\"features\"> <span class=\"question\"><span class=\"f\">question=</span>1</span> <span class=\"atf xft\"><span class=\"f\">atf=</span>tum?</span></div></div></div></div></div></div></div>"
      ],
      "text/plain": [
       "<IPython.core.display.HTML object>"
      ]
     },
     "metadata": {},
     "output_type": "display_data"
    },
    {
     "data": {
      "text/markdown": [
       "---\n",
       "# sign: unknown and ellipsis\n",
       "\n",
       "Location: P509373 reverse:18'"
      ],
      "text/plain": [
       "<IPython.core.display.Markdown object>"
      ]
     },
     "metadata": {},
     "output_type": "display_data"
    },
    {
     "data": {
      "text/html": [
       "<span class=\"vrs ltr\"><a href=\"https://cdli.ucla.edu/search/search_results.php?SearchMode=Text&amp;ObjectID=P509373\" title=\"show this document on CDLI\" sec=\"P509373 reverse:18'\">P509373 reverse:18'</a></span>&nbsp;<span class=\"plain outer  \" ><span class=\"plain\"><span class=\"plain \" ><span class=\"plain \" ><span class=\"txtr\"><span class=\"r\">u₂</span>-</span></span><span class=\"plain \" ><span class=\"txtr\"><span class=\"r\">ul</span> </span></span></span><span class=\"plain \" ><span class=\"plain hlbx\" ><span class=\"txtr\"><span class=\"missing\"><span class=\"missing\">...</span></span></span></span></span></span></span>"
      ],
      "text/plain": [
       "<IPython.core.display.HTML object>"
      ]
     },
     "metadata": {},
     "output_type": "display_data"
    },
    {
     "data": {
      "text/html": [
       "<span class=\"vrs ltr\"><a href=\"https://cdli.ucla.edu/search/search_results.php?SearchMode=Text&amp;ObjectID=P509373\" title=\"show this document on CDLI\" sec=\"P509373 reverse:18'\">P509373 reverse:18'</a></span>&nbsp;<span class=\"plain outer  \" ><span class=\"plain\"><span class=\"plain \" ><span class=\"plain \" ><span class=\"txtu\"><span class=\"r\">𒌑</span></span></span><span class=\"plain \" ><span class=\"txtu\"><span class=\"r\">𒌌</span> </span></span></span><span class=\"plain \" ><span class=\"plain hlbx\" ><span class=\"txtu\"><span class=\"missing\"><span class=\"missing\">...</span></span></span></span></span></span></span>"
      ],
      "text/plain": [
       "<IPython.core.display.HTML object>"
      ]
     },
     "metadata": {},
     "output_type": "display_data"
    },
    {
     "data": {
      "text/html": [
       "<div class=\"contnr line \" ><div class=\"lbl line\"><a href=\"https://cdli.ucla.edu/search/search_results.php?SearchMode=Text&amp;ObjectID=P509373\" title=\"P509373 reverse:18'\" sec=\"P509373 reverse:18'\">line <span class=\"txtn\">18'</span></a> </div><div class=\"meta\"><div class=\"features\"></div></div><div class=\"children line\"><div class=\"contnr word \" ><div class=\"lbl word\"><span class=\"txtr\">u₂-ul </span> </div><div class=\"meta\"><div class=\"features\"> <span class=\"atf xft\"><span class=\"f\">atf=</span>u2-ul</span></div></div><div class=\"children word\"><div class=\"contnr sign \" ><div class=\"lbl sign\"><span class=\"txtr\">u₂-</span> </div><div class=\"meta\"><div class=\"features\"> <span class=\"atf xft\"><span class=\"f\">atf=</span>u2</span></div></div></div><div class=\"contnr sign \" ><div class=\"lbl sign\"><span class=\"txtr\">ul </span> </div><div class=\"meta\"><div class=\"features\"> <span class=\"atf xft\"><span class=\"f\">atf=</span>ul</span></div></div></div></div></div><div class=\"contnr word \" ><div class=\"lbl word\"><span class=\"txtr\">…</span> </div><div class=\"meta\"><div class=\"features\"> <span class=\"atf xft\"><span class=\"f\">atf=</span>...]</span></div></div><div class=\"children word\"><div class=\"contnr sign hl\" ><div class=\"lbl sign\"><span class=\"txtr\">…</span> </div><div class=\"meta\"><div class=\"features\"> <span class=\"missing\"><span class=\"f\">missing=</span>1</span> <span class=\"grapheme\"><span class=\"f\">grapheme=</span>...</span> <span class=\"atf xft\"><span class=\"f\">atf=</span>...</span></div></div></div></div></div></div></div>"
      ],
      "text/plain": [
       "<IPython.core.display.HTML object>"
      ]
     },
     "metadata": {},
     "output_type": "display_data"
    }
   ],
   "source": [
    "for (line, (desc, positions)) in lines:\n",
    "  l = T.nodeFromSection(line)\n",
    "  dm('---\\n# {}\\n\\nLocation: {} {}:{}'.format(desc, *line))\n",
    "  s = L.d(l, otype='sign')[0]\n",
    "  highlights = {s + p -1 for p in positions}\n",
    "  A.plain(l, fmt='layout-orig-rich', highlights=highlights)\n",
    "  A.plain(l, fmt='layout-orig-unicode', highlights=highlights)\n",
    "  A.pretty(l, extraFeatures='atf', fmt='text-orig-rich', baseType=\"sign\", highlights=highlights)"
   ]
  },
  {
   "cell_type": "markdown",
   "metadata": {},
   "source": [
    "---\n",
    "\n",
    "All chapters:\n",
    "\n",
    "* **[start](start.ipynb)** introduction to computing with your corpus\n",
    "* **display** become an expert in creating pretty displays of your text structures\n",
    "* **[search](search.ipynb)** turbo charge your hand-coding with search templates\n",
    "* **[exportExcel](exportExcel.ipynb)** make tailor-made spreadsheets out of your results\n",
    "* **[share](share.ipynb)** draw in other people's data and let them use yours\n",
    "* **[similarLines](similarLines.ipynb)** spot the similarities between lines\n",
    "\n",
    "---\n",
    "\n",
    "See the [cookbook](cookbook) for recipes for small, concrete tasks."
   ]
  }
 ],
 "metadata": {
  "kernelspec": {
   "display_name": "Python 3",
   "language": "python",
   "name": "python3"
  },
  "language_info": {
   "codemirror_mode": {
    "name": "ipython",
    "version": 3
   },
   "file_extension": ".py",
   "mimetype": "text/x-python",
   "name": "python",
   "nbconvert_exporter": "python",
   "pygments_lexer": "ipython3",
   "version": "3.7.7"
  },
  "toc": {
   "base_numbering": 1,
   "nav_menu": {},
   "number_sections": true,
   "sideBar": true,
   "skip_h1_title": false,
   "title_cell": "Table of Contents",
   "title_sidebar": "Contents",
   "toc_cell": false,
   "toc_position": {},
   "toc_section_display": "block",
   "toc_window_display": false
  }
 },
 "nbformat": 4,
 "nbformat_minor": 4
}
