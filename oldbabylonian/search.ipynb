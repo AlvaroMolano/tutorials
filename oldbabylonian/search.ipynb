{
 "cells": [
  {
   "cell_type": "markdown",
   "metadata": {},
   "source": [
    "<img align=\"right\" src=\"images/tf.png\" width=\"128\"/>\n",
    "<img align=\"right\" src=\"images/ninologo.png\" width=\"128\"/>\n",
    "<img align=\"right\" src=\"images/dans.png\" width=\"128\"/>\n",
    "\n",
    "---\n",
    "\n",
    "To get started: consult [start](start.ipynb)\n",
    "\n",
    "---\n",
    "\n",
    "# Search Introduction\n",
    "\n",
    "*Search* in Text-Fabric is a template based way of looking for structural patterns in your dataset.\n",
    "\n",
    "It is inspired by the idea of\n",
    "[topographic query](http://books.google.nl/books?id=9ggOBRz1dO4C).\n",
    "\n",
    "Within Text-Fabric we have the unique possibility to combine the ease of formulating search templates for\n",
    "complicated patterns with the power of programmatically processing the results.\n",
    "\n",
    "This notebook will show you how to get up and running.\n",
    "\n",
    "## Alternative for hand-coding\n",
    "\n",
    "Search is a powerful feature for a wide range of purposes.\n",
    "\n",
    "Quite a bit of the implementation work has been dedicated to optimize performance.\n",
    "Yet I do not pretend to have found optimal strategies for all \n",
    "possible search templates.\n",
    "Some search tasks may turn out to be somewhat costly or even very costly.\n",
    "\n",
    "That being said, I think search might turn out helpful in many cases,\n",
    "especially by reducing the amount of hand-coding needed to work with special subsets of your data.\n",
    "\n",
    "## Easy command\n",
    "\n",
    "Search is as simple as saying (just an example)\n",
    "\n",
    "```python\n",
    "results = A.search(template)\n",
    "A.show(results)\n",
    "```\n",
    "\n",
    "See all ins and outs in the\n",
    "[search template docs](https://annotation.github.io/text-fabric/Use/Search/#search-templates)."
   ]
  },
  {
   "cell_type": "code",
   "execution_count": 1,
   "metadata": {},
   "outputs": [],
   "source": [
    "%load_ext autoreload\n",
    "%autoreload 2"
   ]
  },
  {
   "cell_type": "code",
   "execution_count": 2,
   "metadata": {
    "ExecuteTime": {
     "end_time": "2018-05-24T10:06:39.818664Z",
     "start_time": "2018-05-24T10:06:39.796588Z"
    }
   },
   "outputs": [],
   "source": [
    "from tf.app import use"
   ]
  },
  {
   "cell_type": "code",
   "execution_count": 3,
   "metadata": {},
   "outputs": [
    {
     "name": "stdout",
     "output_type": "stream",
     "text": [
      "Using TF-app in /Users/dirk/github/annotation/app-oldbabylonian/code:\n",
      "\trepo clone offline under ~/github (local github)\n",
      "Using data in /Users/dirk/github/Nino-cunei/oldbabylonian/tf/1.0.4:\n",
      "\trepo clone offline under ~/github (local github)\n",
      "   |     0.00s No structure info in otext, the structure part of the T-API cannot be used\n"
     ]
    },
    {
     "data": {
      "text/html": [
       "<b>Documentation:</b> <a target=\"_blank\" href=\"https://github.com/Nino-cunei/oldbabylonian/blob/master/docs/\" title=\"provenance of Old Babylonian Letters 1900-1600: Cuneiform tablets \">OLDBABYLONIAN</a> <a target=\"_blank\" href=\"https://github.com/Nino-cunei/oldbabylonian/blob/master/docs/transcription.md\" title=\"How TF features represent ATF\">Character table</a> <a target=\"_blank\" href=\"https://github.com/Nino-cunei/oldbabylonian/blob/master/docs//transcription.md\" title=\"OLDBABYLONIAN feature documentation\">Feature docs</a> <a target=\"_blank\" href=\"https://github.com/annotation/app-oldbabylonian\" title=\"oldbabylonian API documentation\">oldbabylonian API</a> <a target=\"_blank\" href=\"https://annotation.github.io/text-fabric/Api/Fabric/\" title=\"text-fabric-api\">Text-Fabric API 7.11.1</a> <a target=\"_blank\" href=\"https://annotation.github.io/text-fabric/Use/Search/\" title=\"Search Templates Introduction and Reference\">Search Reference</a><details open><summary><b>Loaded features</b>:</summary>\n",
       "<p><b>Old Babylonian Letters 1900-1600: Cuneiform tablets </b>: <a target=\"_blank\" href=\"https://github.com/Nino-cunei/oldbabylonian/blob/master/docs//transcription.md\" title=\"/Users/dirk/github/Nino-cunei/oldbabylonian/tf/1.0.4/ARK.tf\">ARK</a>  <a target=\"_blank\" href=\"https://github.com/Nino-cunei/oldbabylonian/blob/master/docs//transcription.md\" title=\"/Users/dirk/github/Nino-cunei/oldbabylonian/tf/1.0.4/after.tf\">after</a>  <a target=\"_blank\" href=\"https://github.com/Nino-cunei/oldbabylonian/blob/master/docs//transcription.md\" title=\"/Users/dirk/github/Nino-cunei/oldbabylonian/tf/1.0.4/afterr.tf\">afterr</a>  <a target=\"_blank\" href=\"https://github.com/Nino-cunei/oldbabylonian/blob/master/docs//transcription.md\" title=\"/Users/dirk/github/Nino-cunei/oldbabylonian/tf/1.0.4/afteru.tf\">afteru</a>  <a target=\"_blank\" href=\"https://github.com/Nino-cunei/oldbabylonian/blob/master/docs//transcription.md\" title=\"/Users/dirk/github/Nino-cunei/oldbabylonian/tf/1.0.4/atf.tf\">atf</a>  <a target=\"_blank\" href=\"https://github.com/Nino-cunei/oldbabylonian/blob/master/docs//transcription.md\" title=\"/Users/dirk/github/Nino-cunei/oldbabylonian/tf/1.0.4/atfpost.tf\">atfpost</a>  <a target=\"_blank\" href=\"https://github.com/Nino-cunei/oldbabylonian/blob/master/docs//transcription.md\" title=\"/Users/dirk/github/Nino-cunei/oldbabylonian/tf/1.0.4/atfpre.tf\">atfpre</a>  <a target=\"_blank\" href=\"https://github.com/Nino-cunei/oldbabylonian/blob/master/docs//transcription.md\" title=\"/Users/dirk/github/Nino-cunei/oldbabylonian/tf/1.0.4/author.tf\">author</a>  <a target=\"_blank\" href=\"https://github.com/Nino-cunei/oldbabylonian/blob/master/docs//transcription.md\" title=\"/Users/dirk/github/Nino-cunei/oldbabylonian/tf/1.0.4/col.tf\">col</a>  <a target=\"_blank\" href=\"https://github.com/Nino-cunei/oldbabylonian/blob/master/docs//transcription.md\" title=\"/Users/dirk/github/Nino-cunei/oldbabylonian/tf/1.0.4/collated.tf\">collated</a>  <a target=\"_blank\" href=\"https://github.com/Nino-cunei/oldbabylonian/blob/master/docs//transcription.md\" title=\"/Users/dirk/github/Nino-cunei/oldbabylonian/tf/1.0.4/collection.tf\">collection</a>  <a target=\"_blank\" href=\"https://github.com/Nino-cunei/oldbabylonian/blob/master/docs//transcription.md\" title=\"/Users/dirk/github/Nino-cunei/oldbabylonian/tf/1.0.4/comment.tf\">comment</a>  <a target=\"_blank\" href=\"https://github.com/Nino-cunei/oldbabylonian/blob/master/docs//transcription.md\" title=\"/Users/dirk/github/Nino-cunei/oldbabylonian/tf/1.0.4/damage.tf\">damage</a>  <a target=\"_blank\" href=\"https://github.com/Nino-cunei/oldbabylonian/blob/master/docs//transcription.md\" title=\"/Users/dirk/github/Nino-cunei/oldbabylonian/tf/1.0.4/det.tf\">det</a>  <a target=\"_blank\" href=\"https://github.com/Nino-cunei/oldbabylonian/blob/master/docs//transcription.md\" title=\"/Users/dirk/github/Nino-cunei/oldbabylonian/tf/1.0.4/docnote.tf\">docnote</a>  <a target=\"_blank\" href=\"https://github.com/Nino-cunei/oldbabylonian/blob/master/docs//transcription.md\" title=\"/Users/dirk/github/Nino-cunei/oldbabylonian/tf/1.0.4/docnumber.tf\">docnumber</a>  <a target=\"_blank\" href=\"https://github.com/Nino-cunei/oldbabylonian/blob/master/docs//transcription.md\" title=\"/Users/dirk/github/Nino-cunei/oldbabylonian/tf/1.0.4/excavation.tf\">excavation</a>  <a target=\"_blank\" href=\"https://github.com/Nino-cunei/oldbabylonian/blob/master/docs//transcription.md\" title=\"/Users/dirk/github/Nino-cunei/oldbabylonian/tf/1.0.4/excised.tf\">excised</a>  <a target=\"_blank\" href=\"https://github.com/Nino-cunei/oldbabylonian/blob/master/docs//transcription.md\" title=\"/Users/dirk/github/Nino-cunei/oldbabylonian/tf/1.0.4/face.tf\">face</a>  <a target=\"_blank\" href=\"https://github.com/Nino-cunei/oldbabylonian/blob/master/docs//transcription.md\" title=\"/Users/dirk/github/Nino-cunei/oldbabylonian/tf/1.0.4/flags.tf\">flags</a>  <a target=\"_blank\" href=\"https://github.com/Nino-cunei/oldbabylonian/blob/master/docs//transcription.md\" title=\"/Users/dirk/github/Nino-cunei/oldbabylonian/tf/1.0.4/fraction.tf\">fraction</a>  <a target=\"_blank\" href=\"https://github.com/Nino-cunei/oldbabylonian/blob/master/docs//transcription.md\" title=\"/Users/dirk/github/Nino-cunei/oldbabylonian/tf/1.0.4/genre.tf\">genre</a>  <a target=\"_blank\" href=\"https://github.com/Nino-cunei/oldbabylonian/blob/master/docs//transcription.md\" title=\"/Users/dirk/github/Nino-cunei/oldbabylonian/tf/1.0.4/grapheme.tf\">grapheme</a>  <a target=\"_blank\" href=\"https://github.com/Nino-cunei/oldbabylonian/blob/master/docs//transcription.md\" title=\"/Users/dirk/github/Nino-cunei/oldbabylonian/tf/1.0.4/graphemer.tf\">graphemer</a>  <a target=\"_blank\" href=\"https://github.com/Nino-cunei/oldbabylonian/blob/master/docs//transcription.md\" title=\"/Users/dirk/github/Nino-cunei/oldbabylonian/tf/1.0.4/graphemeu.tf\">graphemeu</a>  <a target=\"_blank\" href=\"https://github.com/Nino-cunei/oldbabylonian/blob/master/docs//transcription.md\" title=\"/Users/dirk/github/Nino-cunei/oldbabylonian/tf/1.0.4/lang.tf\">lang</a>  <a target=\"_blank\" href=\"https://github.com/Nino-cunei/oldbabylonian/blob/master/docs//transcription.md\" title=\"/Users/dirk/github/Nino-cunei/oldbabylonian/tf/1.0.4/langalt.tf\">langalt</a>  <a target=\"_blank\" href=\"https://github.com/Nino-cunei/oldbabylonian/blob/master/docs//transcription.md\" title=\"/Users/dirk/github/Nino-cunei/oldbabylonian/tf/1.0.4/ln.tf\">ln</a>  <a target=\"_blank\" href=\"https://github.com/Nino-cunei/oldbabylonian/blob/master/docs//transcription.md\" title=\"/Users/dirk/github/Nino-cunei/oldbabylonian/tf/1.0.4/lnc.tf\">lnc</a>  <a target=\"_blank\" href=\"https://github.com/Nino-cunei/oldbabylonian/blob/master/docs//transcription.md\" title=\"/Users/dirk/github/Nino-cunei/oldbabylonian/tf/1.0.4/lnno.tf\">lnno</a>  <a target=\"_blank\" href=\"https://github.com/Nino-cunei/oldbabylonian/blob/master/docs//transcription.md\" title=\"/Users/dirk/github/Nino-cunei/oldbabylonian/tf/1.0.4/material.tf\">material</a>  <a target=\"_blank\" href=\"https://github.com/Nino-cunei/oldbabylonian/blob/master/docs//transcription.md\" title=\"/Users/dirk/github/Nino-cunei/oldbabylonian/tf/1.0.4/missing.tf\">missing</a>  <a target=\"_blank\" href=\"https://github.com/Nino-cunei/oldbabylonian/blob/master/docs//transcription.md\" title=\"/Users/dirk/github/Nino-cunei/oldbabylonian/tf/1.0.4/museumcode.tf\">museumcode</a>  <a target=\"_blank\" href=\"https://github.com/Nino-cunei/oldbabylonian/blob/master/docs//transcription.md\" title=\"/Users/dirk/github/Nino-cunei/oldbabylonian/tf/1.0.4/museumname.tf\">museumname</a>  <a target=\"_blank\" href=\"https://github.com/Nino-cunei/oldbabylonian/blob/master/docs//transcription.md\" title=\"/Users/dirk/github/Nino-cunei/oldbabylonian/tf/1.0.4/object.tf\">object</a>  <a target=\"_blank\" href=\"https://github.com/Nino-cunei/oldbabylonian/blob/master/docs//transcription.md\" title=\"/Users/dirk/github/Nino-cunei/oldbabylonian/tf/1.0.4/operator.tf\">operator</a>  <a target=\"_blank\" href=\"https://github.com/Nino-cunei/oldbabylonian/blob/master/docs//transcription.md\" title=\"/Users/dirk/github/Nino-cunei/oldbabylonian/tf/1.0.4/operatorr.tf\">operatorr</a>  <a target=\"_blank\" href=\"https://github.com/Nino-cunei/oldbabylonian/blob/master/docs//transcription.md\" title=\"/Users/dirk/github/Nino-cunei/oldbabylonian/tf/1.0.4/operatoru.tf\">operatoru</a>  <a target=\"_blank\" href=\"https://github.com/Nino-cunei/oldbabylonian/blob/master/docs//transcription.md\" title=\"/Users/dirk/github/Nino-cunei/oldbabylonian/tf/1.0.4/otype.tf\">otype</a>  <a target=\"_blank\" href=\"https://github.com/Nino-cunei/oldbabylonian/blob/master/docs//transcription.md\" title=\"/Users/dirk/github/Nino-cunei/oldbabylonian/tf/1.0.4/period.tf\">period</a>  <a target=\"_blank\" href=\"https://github.com/Nino-cunei/oldbabylonian/blob/master/docs//transcription.md\" title=\"/Users/dirk/github/Nino-cunei/oldbabylonian/tf/1.0.4/pnumber.tf\">pnumber</a>  <a target=\"_blank\" href=\"https://github.com/Nino-cunei/oldbabylonian/blob/master/docs//transcription.md\" title=\"/Users/dirk/github/Nino-cunei/oldbabylonian/tf/1.0.4/primecol.tf\">primecol</a>  <a target=\"_blank\" href=\"https://github.com/Nino-cunei/oldbabylonian/blob/master/docs//transcription.md\" title=\"/Users/dirk/github/Nino-cunei/oldbabylonian/tf/1.0.4/primeln.tf\">primeln</a>  <a target=\"_blank\" href=\"https://github.com/Nino-cunei/oldbabylonian/blob/master/docs//transcription.md\" title=\"/Users/dirk/github/Nino-cunei/oldbabylonian/tf/1.0.4/pubdate.tf\">pubdate</a>  <a target=\"_blank\" href=\"https://github.com/Nino-cunei/oldbabylonian/blob/master/docs//transcription.md\" title=\"/Users/dirk/github/Nino-cunei/oldbabylonian/tf/1.0.4/question.tf\">question</a>  <a target=\"_blank\" href=\"https://github.com/Nino-cunei/oldbabylonian/blob/master/docs//transcription.md\" title=\"/Users/dirk/github/Nino-cunei/oldbabylonian/tf/1.0.4/reading.tf\">reading</a>  <a target=\"_blank\" href=\"https://github.com/Nino-cunei/oldbabylonian/blob/master/docs//transcription.md\" title=\"/Users/dirk/github/Nino-cunei/oldbabylonian/tf/1.0.4/readingr.tf\">readingr</a>  <a target=\"_blank\" href=\"https://github.com/Nino-cunei/oldbabylonian/blob/master/docs//transcription.md\" title=\"/Users/dirk/github/Nino-cunei/oldbabylonian/tf/1.0.4/readingu.tf\">readingu</a>  <a target=\"_blank\" href=\"https://github.com/Nino-cunei/oldbabylonian/blob/master/docs//transcription.md\" title=\"/Users/dirk/github/Nino-cunei/oldbabylonian/tf/1.0.4/remarkable.tf\">remarkable</a>  <a target=\"_blank\" href=\"https://github.com/Nino-cunei/oldbabylonian/blob/master/docs//transcription.md\" title=\"/Users/dirk/github/Nino-cunei/oldbabylonian/tf/1.0.4/remarks.tf\">remarks</a>  <a target=\"_blank\" href=\"https://github.com/Nino-cunei/oldbabylonian/blob/master/docs//transcription.md\" title=\"/Users/dirk/github/Nino-cunei/oldbabylonian/tf/1.0.4/repeat.tf\">repeat</a>  <a target=\"_blank\" href=\"https://github.com/Nino-cunei/oldbabylonian/blob/master/docs//transcription.md\" title=\"/Users/dirk/github/Nino-cunei/oldbabylonian/tf/1.0.4/srcLn.tf\">srcLn</a>  <a target=\"_blank\" href=\"https://github.com/Nino-cunei/oldbabylonian/blob/master/docs//transcription.md\" title=\"/Users/dirk/github/Nino-cunei/oldbabylonian/tf/1.0.4/srcLnNum.tf\">srcLnNum</a>  <a target=\"_blank\" href=\"https://github.com/Nino-cunei/oldbabylonian/blob/master/docs//transcription.md\" title=\"/Users/dirk/github/Nino-cunei/oldbabylonian/tf/1.0.4/srcfile.tf\">srcfile</a>  <a target=\"_blank\" href=\"https://github.com/Nino-cunei/oldbabylonian/blob/master/docs//transcription.md\" title=\"/Users/dirk/github/Nino-cunei/oldbabylonian/tf/1.0.4/subgenre.tf\">subgenre</a>  <a target=\"_blank\" href=\"https://github.com/Nino-cunei/oldbabylonian/blob/master/docs//transcription.md\" title=\"/Users/dirk/github/Nino-cunei/oldbabylonian/tf/1.0.4/supplied.tf\">supplied</a>  <a target=\"_blank\" href=\"https://github.com/Nino-cunei/oldbabylonian/blob/master/docs//transcription.md\" title=\"/Users/dirk/github/Nino-cunei/oldbabylonian/tf/1.0.4/sym.tf\">sym</a>  <a target=\"_blank\" href=\"https://github.com/Nino-cunei/oldbabylonian/blob/master/docs//transcription.md\" title=\"/Users/dirk/github/Nino-cunei/oldbabylonian/tf/1.0.4/symr.tf\">symr</a>  <a target=\"_blank\" href=\"https://github.com/Nino-cunei/oldbabylonian/blob/master/docs//transcription.md\" title=\"/Users/dirk/github/Nino-cunei/oldbabylonian/tf/1.0.4/symu.tf\">symu</a>  <a target=\"_blank\" href=\"https://github.com/Nino-cunei/oldbabylonian/blob/master/docs//transcription.md\" title=\"/Users/dirk/github/Nino-cunei/oldbabylonian/tf/1.0.4/trans.tf\">trans</a>  <a target=\"_blank\" href=\"https://github.com/Nino-cunei/oldbabylonian/blob/master/docs//transcription.md\" title=\"/Users/dirk/github/Nino-cunei/oldbabylonian/tf/1.0.4/transcriber.tf\">transcriber</a>  <a target=\"_blank\" href=\"https://github.com/Nino-cunei/oldbabylonian/blob/master/docs//transcription.md\" title=\"/Users/dirk/github/Nino-cunei/oldbabylonian/tf/1.0.4/translation@en.tf\">translation@ll</a>  <a target=\"_blank\" href=\"https://github.com/Nino-cunei/oldbabylonian/blob/master/docs//transcription.md\" title=\"/Users/dirk/github/Nino-cunei/oldbabylonian/tf/1.0.4/type.tf\">type</a>  <a target=\"_blank\" href=\"https://github.com/Nino-cunei/oldbabylonian/blob/master/docs//transcription.md\" title=\"/Users/dirk/github/Nino-cunei/oldbabylonian/tf/1.0.4/uncertain.tf\">uncertain</a>  <a target=\"_blank\" href=\"https://github.com/Nino-cunei/oldbabylonian/blob/master/docs//transcription.md\" title=\"/Users/dirk/github/Nino-cunei/oldbabylonian/tf/1.0.4/volume.tf\">volume</a>  <b><i><a target=\"_blank\" href=\"https://github.com/Nino-cunei/oldbabylonian/blob/master/docs//transcription.md\" title=\"/Users/dirk/github/Nino-cunei/oldbabylonian/tf/1.0.4/oslots.tf\">oslots</a></i></b> </p></details>"
      ],
      "text/plain": [
       "<IPython.core.display.HTML object>"
      ]
     },
     "metadata": {},
     "output_type": "display_data"
    },
    {
     "data": {
      "text/html": [
       "<style>\n",
       "@font-face {\n",
       "  font-family: \"Santakku\";\n",
       "  src:\n",
       "    local(\"Santakku.ttf\"),\n",
       "    url(\"https://github.com/annotation/text-fabric/blob/master/tf/server/static/fonts/Santakku.woff?raw=true\");\n",
       "}\n",
       ".features {\n",
       "    font-family: monospace;\n",
       "    font-size: medium;\n",
       "    font-weight: bold;\n",
       "    color: #0a6611;\n",
       "    display: flex;\n",
       "    flex-flow: column nowrap;\n",
       "    padding: 0.1em;\n",
       "    margin: 0.1em;\n",
       "    direction: ltr;\n",
       "}\n",
       ".features div,.features span {\n",
       "    padding: 0;\n",
       "    margin: -0.1rem 0;\n",
       "}\n",
       ".features .f {\n",
       "    font-family: sans-serif;\n",
       "    font-size: x-small;\n",
       "    font-weight: normal;\n",
       "    color: #5555bb;\n",
       "}\n",
       ".features .xft {\n",
       "  color: #000000;\n",
       "  background-color: #eeeeee;\n",
       "  font-size: medium;\n",
       "  margin: 0.1em 0em;\n",
       "}\n",
       ".features .xft .f {\n",
       "  color: #000000;\n",
       "  background-color: #eeeeee;\n",
       "  font-style: italic;\n",
       "  font-size: small;\n",
       "  font-weight: normal;\n",
       "}\n",
       ".pnum {\n",
       "    font-family: sans-serif;\n",
       "    font-size: small;\n",
       "    font-weight: bold;\n",
       "    color: #444444;\n",
       "}\n",
       ".nd {\n",
       "    font-family: monospace;\n",
       "    font-size: x-small;\n",
       "    color: #999999;\n",
       "}\n",
       ".outerplain {\n",
       "}\n",
       ".verse {\n",
       "    display: flex;\n",
       "    flex-flow: row wrap;\n",
       "}\n",
       ".vl {\n",
       "    display: flex;\n",
       "    flex-flow: column nowrap;\n",
       "    justify-content: flex-start;\n",
       "    align-items: flex-start;\n",
       "    width: 100%;\n",
       "}\n",
       ".vn {\n",
       "  font-size: small !important;\n",
       "  padding-right: 1em;\n",
       "}\n",
       ".vrs {\n",
       "    font-family: sans-serif;\n",
       "    font-size: small;\n",
       "    font-weight: bold;\n",
       "    color: #444444;\n",
       "}\n",
       ".txtn,.txtn a:visited,.txtn a:link {\n",
       "    font-family: sans-serif;\n",
       "    font-size: normal;\n",
       "    text-decoration: none;\n",
       "}\n",
       ".txtp,.txtp a:visited,.txtp a:link {\n",
       "    font-family: monospace;\n",
       "    font-size: normal;\n",
       "    text-decoration: none;\n",
       "}\n",
       ".txtr,.txtr a:visited,.txtr a:link {\n",
       "    font-family: serif;\n",
       "    font-size: large;\n",
       "    text-decoration: none;\n",
       "}\n",
       ".txtu,.txtu a:visited,.txtu a:link {\n",
       "    font-family: Santakku;\n",
       "    font-size: x-large;\n",
       "    text-decoration: none;\n",
       "}\n",
       ".meta {\n",
       "    display: flex;\n",
       "    justify-content: flex-start;\n",
       "    align-items: flex-start;\n",
       "    align-content: flex-start;\n",
       "    flex-flow: row nowrap;\n",
       "}\n",
       ".features,.comments {\n",
       "    display: flex;\n",
       "    justify-content: flex-start;\n",
       "    align-items: flex-start;\n",
       "    align-content: flex-start;\n",
       "    flex-flow: column nowrap;\n",
       "}\n",
       ".children {\n",
       "    display: flex;\n",
       "    justify-content: flex-start;\n",
       "    align-items: flex-start;\n",
       "    align-content: flex-start;\n",
       "    border: 0;\n",
       "    background-color: #ffffff;\n",
       "}\n",
       ".children.document {\n",
       "    flex-flow: column nowrap;\n",
       "}\n",
       ".children.face {\n",
       "    flex-flow: column nowrap;\n",
       "}\n",
       ".children.line {\n",
       "    align-items: stretch;\n",
       "    flex-flow: row nowrap;\n",
       "}\n",
       ".children.cluster {\n",
       "    flex-flow: row wrap;\n",
       "}\n",
       ".children.word {\n",
       "    align-items: stretch;\n",
       "    flex-flow: row nowrap;\n",
       "}\n",
       ".children.sign {\n",
       "    flex-flow: column nowrap;\n",
       "}\n",
       ".contnr {\n",
       "    width: fit-content;\n",
       "}\n",
       ".contnr.document,.contnr.face,\n",
       ".contnr.line,\n",
       ".contnr.cluster,\n",
       ".contnr.word,\n",
       ".contnr.sign {\n",
       "    display: flex;\n",
       "    justify-content: flex-start;\n",
       "    align-items: flex-start;\n",
       "    align-content: flex-start;\n",
       "    flex-flow: column nowrap;\n",
       "    background: #ffffff none repeat scroll 0 0;\n",
       "    padding:  0.5em 0.1em 0.1em 0.1em;\n",
       "    margin: 0.8em 0.1em 0.1em 0.1em;\n",
       "    border-radius: 0.2rem;\n",
       "    border-style: solid;\n",
       "    border-width: 0.1rem;\n",
       "    font-size: small;\n",
       "}\n",
       ".contnr.document,.contnr.face {\n",
       "    border-color: #bb9966;\n",
       "}\n",
       ".contnr.line {\n",
       "    border-color: #6699bb;\n",
       "}\n",
       ".contnr.cluster {\n",
       "    flex-flow: row wrap;\n",
       "    border: 0;\n",
       "}\n",
       ".contnr.word {\n",
       "    border-color: #bbbbbb;\n",
       "}\n",
       ".contnr.sign {\n",
       "    border-color: #dddddd;\n",
       "}\n",
       ".contnr.hl {\n",
       "    background-color: #ffee66;\n",
       "}\n",
       ".lbl.document,.lbl.face,\n",
       ".lbl.line,\n",
       ".lbl.cluster,\n",
       ".lbl.sign,.lbl.word {\n",
       "    margin-top: -1.2em;\n",
       "    margin-left: 1em;\n",
       "    background: #ffffff none repeat scroll 0 0;\n",
       "    padding: 0 0.3em;\n",
       "    border-style: solid;\n",
       "    font-size: small;\n",
       "    display: block;\n",
       "}\n",
       ".lbl.document,.lbl.face {\n",
       "    border-color: #bb9966;\n",
       "    border-width: 0.1rem;\n",
       "    border-radius: 0.1rem;\n",
       "    color: #bb8800;\n",
       "}\n",
       ".lbl.line {\n",
       "    border-color: #6699bb;\n",
       "    border-width: 0.1rem;\n",
       "    border-radius: 0.1rem;\n",
       "    color: #0088bb;\n",
       "}\n",
       ".lbl.cluster {\n",
       "    border-color: #dddddd;\n",
       "    border-width: 0.1rem;\n",
       "    border-radius: 0.1rem;\n",
       "    color: #0000cc;\n",
       "}\n",
       ".lbl.word {\n",
       "    border-color: #bbbbbb;\n",
       "    border-width: 0.1rem;\n",
       "    border-radius: 0.1rem;\n",
       "    font-size: medium;\n",
       "    color: #000000;\n",
       "}\n",
       ".lbl.sign {\n",
       "    border-color: #dddddd;\n",
       "    border-width: 0.1rem;\n",
       "    border-radius: 0.1rem;\n",
       "    font-size: small;\n",
       "    color: #000000;\n",
       "}\n",
       ".op {\n",
       "    padding:  0.5em 0.1em 0.1em 0.1em;\n",
       "    margin: 0.8em 0.1em 0.1em 0.1em;\n",
       "    font-family: monospace;\n",
       "    font-size: x-large;\n",
       "    font-weight: bold;\n",
       "}\n",
       ".name {\n",
       "    font-family: monospace;\n",
       "    font-size: medium;\n",
       "    color: #0000bb;\n",
       "}\n",
       ".period {\n",
       "    font-family: monospace;\n",
       "    font-size: medium;\n",
       "    font-weight: bold;\n",
       "    color: #0000bb;\n",
       "}\n",
       ".text {\n",
       "    font-family: sans-serif;\n",
       "    font-size: x-small;\n",
       "    color: #000000;\n",
       "}\n",
       ".srcln {\n",
       "    font-family: monospace;\n",
       "    font-size: medium;\n",
       "    color: #000000;\n",
       "}\n",
       ".srclnnum {\n",
       "    font-family: monospace;\n",
       "    font-size: x-small;\n",
       "    color: #0000bb;\n",
       "}\n",
       ".comment {\n",
       "    color: #7777dd;\n",
       "    font-family: monospace;\n",
       "    font-size: small;\n",
       "}\n",
       ".operator {\n",
       "    color: #ff77ff;\n",
       "    font-size: large;\n",
       "}\n",
       "/* LANGUAGE: superscript and subscript */\n",
       "\n",
       "/* cluster */\n",
       ".det {\n",
       "    vertical-align: super;\n",
       "}\n",
       "/* cluster */\n",
       ".langalt {\n",
       "    vertical-align: sub;\n",
       "}\n",
       "/* REDACTIONAL: line over or under  */\n",
       "\n",
       "/* flag */\n",
       ".collated {\n",
       "    font-weight: bold;\n",
       "    text-decoration: underline;\n",
       "}\n",
       "/* cluster */\n",
       ".excised {\n",
       "    color: #dd0000;\n",
       "    text-decoration: line-through;\n",
       "}\n",
       "/* cluster */\n",
       ".supplied {\n",
       "    color: #0000ff;\n",
       "    text-decoration: overline;\n",
       "}\n",
       "/* flag */\n",
       ".remarkable {\n",
       "    font-weight: bold;\n",
       "    text-decoration: overline;\n",
       "}\n",
       "\n",
       "/* UNSURE: italic*/\n",
       "\n",
       "/* cluster */\n",
       ".uncertain {\n",
       "    font-style: italic\n",
       "}\n",
       "/* flag */\n",
       ".question {\n",
       "    font-weight: bold;\n",
       "    font-style: italic\n",
       "}\n",
       "\n",
       "/* BROKEN: text-shadow */\n",
       "\n",
       "/* cluster */\n",
       ".missing {\n",
       "    color: #999999;\n",
       "    text-shadow: #bbbbbb 1px 1px;\n",
       "}\n",
       "/* flag */\n",
       ".damage {\n",
       "    font-weight: bold;\n",
       "    color: #999999;\n",
       "    text-shadow: #bbbbbb 1px 1px;\n",
       "}\n",
       ".empty {\n",
       "  color: #ff0000;\n",
       "}\n",
       "\n",
       "\n",
       "tr.tf, td.tf, th.tf {\n",
       "  text-align: left ! important;\n",
       "}\n",
       "\n",
       "span.hldot {\n",
       "\tbackground-color: var(--hl-strong);\n",
       "\tborder: 0.2rem solid var(--hl-rim);\n",
       "\tborder-radius: 0.4rem;\n",
       "\t/*\n",
       "\tdisplay: inline-block;\n",
       "\twidth: 0.8rem;\n",
       "\theight: 0.8rem;\n",
       "\t*/\n",
       "}\n",
       "span.hl {\n",
       "\tbackground-color: var(--hl-strong);\n",
       "\tborder-width: 0;\n",
       "\tborder-radius: 0.1rem;\n",
       "\tborder-style: solid;\n",
       "}\n",
       "\n",
       "span.hlbx {\n",
       "\tborder-color: var(--hl-dark);\n",
       "\tborder-width: 0.2rem;\n",
       "\tborder-style: solid;\n",
       "\tborder-radius: 0.3rem;\n",
       "  padding: 0.2rem;\n",
       "  margin: 0.2rem;\n",
       "}\n",
       "\n",
       "span.plain {\n",
       "  display: inline-block;\n",
       "  white-space: pre-wrap;\n",
       "}\n",
       "\n",
       ":root {\n",
       "\t--hl-strong:        hsla( 60, 100%,  70%, 0.9  );\n",
       "\t--hl-rim:           hsla( 55, 100%,  60%, 0.9  );\n",
       "\t--hl-dark:          hsla( 55, 100%,  40%, 0.9  );\n",
       "}\n",
       "</style>"
      ],
      "text/plain": [
       "<IPython.core.display.HTML object>"
      ]
     },
     "metadata": {},
     "output_type": "display_data"
    },
    {
     "data": {
      "text/html": [
       "<details open><summary><b>API members</b>:</summary>\n",
       "<a target=\"_blank\" href=\"https://annotation.github.io/text-fabric/Api/Computed/#computed-data\" title=\"doc\">C Computed</a>, <a target=\"_blank\" href=\"https://annotation.github.io/text-fabric/Api/Computed/#computed-data\" title=\"doc\">Call AllComputeds</a>, <a target=\"_blank\" href=\"https://annotation.github.io/text-fabric/Api/Computed/#computed-data\" title=\"doc\">Cs ComputedString</a><br/>\n",
       "<a target=\"_blank\" href=\"https://annotation.github.io/text-fabric/Api/Features/#edge-features\" title=\"doc\">E Edge</a>, <a target=\"_blank\" href=\"https://annotation.github.io/text-fabric/Api/Features/#edge-features\" title=\"doc\">Eall AllEdges</a>, <a target=\"_blank\" href=\"https://annotation.github.io/text-fabric/Api/Features/#edge-features\" title=\"doc\">Es EdgeString</a><br/>\n",
       "<a target=\"_blank\" href=\"https://annotation.github.io/text-fabric/Api/Fabric/#loading\" title=\"doc\">ensureLoaded</a>, <a target=\"_blank\" href=\"https://annotation.github.io/text-fabric/Api/Fabric/#loading\" title=\"doc\">TF</a>, <a target=\"_blank\" href=\"https://annotation.github.io/text-fabric/Api/Fabric/#loading\" title=\"doc\">ignored</a>, <a target=\"_blank\" href=\"https://annotation.github.io/text-fabric/Api/Fabric/#loading\" title=\"doc\">loadLog</a><br/>\n",
       "<a target=\"_blank\" href=\"https://annotation.github.io/text-fabric/Api/Locality/#locality\" title=\"doc\">L Locality</a><br/>\n",
       "<a target=\"_blank\" href=\"https://annotation.github.io/text-fabric/Api/Misc/#messaging\" title=\"doc\">cache</a>, <a target=\"_blank\" href=\"https://annotation.github.io/text-fabric/Api/Misc/#messaging\" title=\"doc\">error</a>, <a target=\"_blank\" href=\"https://annotation.github.io/text-fabric/Api/Misc/#messaging\" title=\"doc\">indent</a>, <a target=\"_blank\" href=\"https://annotation.github.io/text-fabric/Api/Misc/#messaging\" title=\"doc\">info</a>, <a target=\"_blank\" href=\"https://annotation.github.io/text-fabric/Api/Misc/#messaging\" title=\"doc\">isSilent</a>, <a target=\"_blank\" href=\"https://annotation.github.io/text-fabric/Api/Misc/#messaging\" title=\"doc\">reset</a>, <a target=\"_blank\" href=\"https://annotation.github.io/text-fabric/Api/Misc/#messaging\" title=\"doc\">setSilent</a>, <a target=\"_blank\" href=\"https://annotation.github.io/text-fabric/Api/Misc/#messaging\" title=\"doc\">silentOff</a>, <a target=\"_blank\" href=\"https://annotation.github.io/text-fabric/Api/Misc/#messaging\" title=\"doc\">silentOn</a>, <a target=\"_blank\" href=\"https://annotation.github.io/text-fabric/Api/Misc/#messaging\" title=\"doc\">warning</a><br/>\n",
       "<a target=\"_blank\" href=\"https://annotation.github.io/text-fabric/Api/Nodes/#navigating-nodes\" title=\"doc\">N Nodes</a>, <a target=\"_blank\" href=\"https://annotation.github.io/text-fabric/Api/Nodes/#navigating-nodes\" title=\"doc\">sortKey</a>, <a target=\"_blank\" href=\"https://annotation.github.io/text-fabric/Api/Nodes/#navigating-nodes\" title=\"doc\">sortKeyTuple</a>, <a target=\"_blank\" href=\"https://annotation.github.io/text-fabric/Api/Nodes/#navigating-nodes\" title=\"doc\">otypeRank</a>, <a target=\"_blank\" href=\"https://annotation.github.io/text-fabric/Api/Nodes/#navigating-nodes\" title=\"doc\">sortNodes</a><br/>\n",
       "<a target=\"_blank\" href=\"https://annotation.github.io/text-fabric/Api/Features/#node-features\" title=\"doc\">F Feature</a>, <a target=\"_blank\" href=\"https://annotation.github.io/text-fabric/Api/Features/#node-features\" title=\"doc\">Fall AllFeatures</a>, <a target=\"_blank\" href=\"https://annotation.github.io/text-fabric/Api/Features/#node-features\" title=\"doc\">Fs FeatureString</a><br/>\n",
       "<a target=\"_blank\" href=\"https://annotation.github.io/text-fabric/Api/Search/#search\" title=\"doc\">S Search</a><br/>\n",
       "<a target=\"_blank\" href=\"https://annotation.github.io/text-fabric/Api/Text/#text\" title=\"doc\">T Text</a></details>"
      ],
      "text/plain": [
       "<IPython.core.display.HTML object>"
      ]
     },
     "metadata": {},
     "output_type": "display_data"
    }
   ],
   "source": [
    "# A = use('oldbabylonian', hoist=globals())\n",
    "A = use('oldbabylonian:clone', checkout=\"clone\", hoist=globals())"
   ]
  },
  {
   "cell_type": "markdown",
   "metadata": {},
   "source": [
    "# Basic search command\n",
    "\n",
    "We start with the most simple form of issuing a query.\n",
    "Let's look for the numerals with a repeat greater than 3.\n",
    "We also want to show the words in which they occur.\n",
    "\n",
    "All work involved in searching takes place under the hood."
   ]
  },
  {
   "cell_type": "code",
   "execution_count": 4,
   "metadata": {
    "ExecuteTime": {
     "end_time": "2018-05-24T07:46:55.998382Z",
     "start_time": "2018-05-24T07:46:55.137956Z"
    }
   },
   "outputs": [
    {
     "name": "stdout",
     "output_type": "stream",
     "text": [
      "  0.20s 546 results\n"
     ]
    }
   ],
   "source": [
    "query = '''\n",
    "word\n",
    "  sign type=numeral repeat>3\n",
    "'''\n",
    "results = A.search(query)"
   ]
  },
  {
   "cell_type": "code",
   "execution_count": 5,
   "metadata": {
    "ExecuteTime": {
     "end_time": "2018-05-24T07:46:55.998382Z",
     "start_time": "2018-05-24T07:46:55.137956Z"
    }
   },
   "outputs": [
    {
     "data": {
      "text/html": [
       "<table>\n",
       "<tr class=\"tf\">\n",
       "  <th class=\"tf\">n</th><th class=\"tf\">p</th>\n",
       "  <th class=\"tf\">word</th><th>sign</th>\n",
       "</tr>\n",
       "\n",
       "<tr class=\"tf\"><td class=\"tf\">1</td><td class=\"tf\"> <a href=\"https://cdli.ucla.edu/search/search_results.php?SearchMode=Text&amp;ObjectID=P509373\" title=\"show this document on CDLI\" sec=\"P509373 obverse:11\">P509373 obverse:11</a></td><td class=\"tf\"><span class=\"plain outer  hl\" ><span class=\"plain hlbx\" ><span class=\"txtp\">7(disz) </span></span></span></td><td class=\"tf\"><span class=\"plain outer  hlbx\" ><span class=\"txtp\">7(disz) </span></span></td></tr>\n",
       "<tr class=\"tf\"><td class=\"tf\">2</td><td class=\"tf\"> <a href=\"https://cdli.ucla.edu/search/search_results.php?SearchMode=Text&amp;ObjectID=P509376\" title=\"show this document on CDLI\" sec=\"P509376 obverse:4\">P509376 obverse:4</a></td><td class=\"tf\"><span class=\"plain outer  hl\" ><span class=\"plain hlbx\" ><span class=\"txtp\">4(disz)-</span></span><span class=\"plain \" ><span class=\"txtp\">kam_ </span></span></span></td><td class=\"tf\"><span class=\"plain outer  hlbx\" ><span class=\"txtp\">4(disz)-</span></span></td></tr>\n",
       "<tr class=\"tf\"><td class=\"tf\">3</td><td class=\"tf\"> <a href=\"https://cdli.ucla.edu/search/search_results.php?SearchMode=Text&amp;ObjectID=P509377\" title=\"show this document on CDLI\" sec=\"P509377 reverse:10\">P509377 reverse:10</a></td><td class=\"tf\"><span class=\"plain outer  hl\" ><span class=\"plain hlbx\" ><span class=\"txtp\">6(disz) </span></span></span></td><td class=\"tf\"><span class=\"plain outer  hlbx\" ><span class=\"txtp\">6(disz) </span></span></td></tr>\n",
       "<tr class=\"tf\"><td class=\"tf\">4</td><td class=\"tf\"> <a href=\"https://cdli.ucla.edu/search/search_results.php?SearchMode=Text&amp;ObjectID=P389958\" title=\"show this document on CDLI\" sec=\"P389958 obverse:7'\">P389958 obverse:7'</a></td><td class=\"tf\"><span class=\"plain outer  hl\" ><span class=\"plain hlbx\" ><span class=\"txtp\">_5(disz) </span></span></span></td><td class=\"tf\"><span class=\"plain outer  hlbx\" ><span class=\"txtp\">_5(disz) </span></span></td></tr>\n",
       "<tr class=\"tf\"><td class=\"tf\">5</td><td class=\"tf\"> <a href=\"https://cdli.ucla.edu/search/search_results.php?SearchMode=Text&amp;ObjectID=P510527\" title=\"show this document on CDLI\" sec=\"P510527 reverse:11\">P510527 reverse:11</a></td><td class=\"tf\"><span class=\"plain outer  hl\" ><span class=\"plain \" ><span class=\"txtp\">_igi-</span></span><span class=\"plain hlbx\" ><span class=\"txtp\">6(disz)-</span></span><span class=\"plain \" ><span class=\"txtp\">gal2 </span></span></span></td><td class=\"tf\"><span class=\"plain outer  hlbx\" ><span class=\"txtp\">6(disz)-</span></span></td></tr>\n",
       "<tr class=\"tf\"><td class=\"tf\">6</td><td class=\"tf\"> <a href=\"https://cdli.ucla.edu/search/search_results.php?SearchMode=Text&amp;ObjectID=P510530\" title=\"show this document on CDLI\" sec=\"P510530 reverse:17\">P510530 reverse:17</a></td><td class=\"tf\"><span class=\"plain outer  hl\" ><span class=\"plain hlbx\" ><span class=\"txtp\">4(disz)-</span></span><span class=\"plain \" ><span class=\"txtp\">kam_</span></span></span></td><td class=\"tf\"><span class=\"plain outer  hlbx\" ><span class=\"txtp\">4(disz)-</span></span></td></tr>\n",
       "<tr class=\"tf\"><td class=\"tf\">7</td><td class=\"tf\"> <a href=\"https://cdli.ucla.edu/search/search_results.php?SearchMode=Text&amp;ObjectID=P510534\" title=\"show this document on CDLI\" sec=\"P510534 reverse:5'\">P510534 reverse:5'</a></td><td class=\"tf\"><span class=\"plain outer  hl\" ><span class=\"plain hlbx\" ><span class=\"txtp\">4(disz) </span></span></span></td><td class=\"tf\"><span class=\"plain outer  hlbx\" ><span class=\"txtp\">4(disz) </span></span></td></tr>\n",
       "<tr class=\"tf\"><td class=\"tf\">8</td><td class=\"tf\"> <a href=\"https://cdli.ucla.edu/search/search_results.php?SearchMode=Text&amp;ObjectID=P510534\" title=\"show this document on CDLI\" sec=\"P510534 reverse:10'\">P510534 reverse:10'</a></td><td class=\"tf\"><span class=\"plain outer  hl\" ><span class=\"plain hlbx\" ><span class=\"txtp\">_5(disz)-</span></span><span class=\"plain \" ><span class=\"txtp\">ta-</span></span><span class=\"plain \" ><span class=\"txtp\">am3_ </span></span></span></td><td class=\"tf\"><span class=\"plain outer  hlbx\" ><span class=\"txtp\">_5(disz)-</span></span></td></tr>\n",
       "<tr class=\"tf\"><td class=\"tf\">9</td><td class=\"tf\"> <a href=\"https://cdli.ucla.edu/search/search_results.php?SearchMode=Text&amp;ObjectID=P510536\" title=\"show this document on CDLI\" sec=\"P510536 obverse:5\">P510536 obverse:5</a></td><td class=\"tf\"><span class=\"plain outer  hl\" ><span class=\"plain hlbx\" ><span class=\"txtp\">6(disz) </span></span></span></td><td class=\"tf\"><span class=\"plain outer  hlbx\" ><span class=\"txtp\">6(disz) </span></span></td></tr>\n",
       "<tr class=\"tf\"><td class=\"tf\">10</td><td class=\"tf\"> <a href=\"https://cdli.ucla.edu/search/search_results.php?SearchMode=Text&amp;ObjectID=P510539\" title=\"show this document on CDLI\" sec=\"P510539 obverse:7\">P510539 obverse:7</a></td><td class=\"tf\"><span class=\"plain outer  hl\" ><span class=\"plain hlbx\" ><span class=\"txtp\">4(disz) </span></span></span></td><td class=\"tf\"><span class=\"plain outer  hlbx\" ><span class=\"txtp\">4(disz) </span></span></td></tr></table>"
      ],
      "text/plain": [
       "<IPython.core.display.HTML object>"
      ]
     },
     "metadata": {},
     "output_type": "display_data"
    }
   ],
   "source": [
    "A.table(results, end=10)"
   ]
  },
  {
   "cell_type": "markdown",
   "metadata": {},
   "source": [
    "We can show them in unicode representation as well:"
   ]
  },
  {
   "cell_type": "code",
   "execution_count": 6,
   "metadata": {},
   "outputs": [
    {
     "data": {
      "text/html": [
       "<table>\n",
       "<tr class=\"tf\">\n",
       "  <th class=\"tf\">n</th><th class=\"tf\">p</th>\n",
       "  <th class=\"tf\">word</th><th>sign</th>\n",
       "</tr>\n",
       "\n",
       "<tr class=\"tf\"><td class=\"tf\">1</td><td class=\"tf\"> <a href=\"https://cdli.ucla.edu/search/search_results.php?SearchMode=Text&amp;ObjectID=P509373\" title=\"show this document on CDLI\" sec=\"P509373 obverse:11\">P509373 obverse:11</a></td><td class=\"tf\"><span class=\"plain outer  hl\" ><span class=\"plain hlbx\" ><span class=\"txtu\">𒐌 </span></span></span></td><td class=\"tf\"><span class=\"plain outer  hlbx\" ><span class=\"txtu\">𒐌 </span></span></td></tr>\n",
       "<tr class=\"tf\"><td class=\"tf\">2</td><td class=\"tf\"> <a href=\"https://cdli.ucla.edu/search/search_results.php?SearchMode=Text&amp;ObjectID=P509376\" title=\"show this document on CDLI\" sec=\"P509376 obverse:4\">P509376 obverse:4</a></td><td class=\"tf\"><span class=\"plain outer  hl\" ><span class=\"plain hlbx\" ><span class=\"txtu\">𒐉</span></span><span class=\"plain \" ><span class=\"txtu\">𒄭𒁁 </span></span></span></td><td class=\"tf\"><span class=\"plain outer  hlbx\" ><span class=\"txtu\">𒐉</span></span></td></tr>\n",
       "<tr class=\"tf\"><td class=\"tf\">3</td><td class=\"tf\"> <a href=\"https://cdli.ucla.edu/search/search_results.php?SearchMode=Text&amp;ObjectID=P509377\" title=\"show this document on CDLI\" sec=\"P509377 reverse:10\">P509377 reverse:10</a></td><td class=\"tf\"><span class=\"plain outer  hl\" ><span class=\"plain hlbx\" ><span class=\"txtu\">𒐋 </span></span></span></td><td class=\"tf\"><span class=\"plain outer  hlbx\" ><span class=\"txtu\">𒐋 </span></span></td></tr>\n",
       "<tr class=\"tf\"><td class=\"tf\">4</td><td class=\"tf\"> <a href=\"https://cdli.ucla.edu/search/search_results.php?SearchMode=Text&amp;ObjectID=P389958\" title=\"show this document on CDLI\" sec=\"P389958 obverse:7'\">P389958 obverse:7'</a></td><td class=\"tf\"><span class=\"plain outer  hl\" ><span class=\"plain hlbx\" ><span class=\"txtu\">𒐊 </span></span></span></td><td class=\"tf\"><span class=\"plain outer  hlbx\" ><span class=\"txtu\">𒐊 </span></span></td></tr>\n",
       "<tr class=\"tf\"><td class=\"tf\">5</td><td class=\"tf\"> <a href=\"https://cdli.ucla.edu/search/search_results.php?SearchMode=Text&amp;ObjectID=P510527\" title=\"show this document on CDLI\" sec=\"P510527 reverse:11\">P510527 reverse:11</a></td><td class=\"tf\"><span class=\"plain outer  hl\" ><span class=\"plain \" ><span class=\"txtu\">𒅆</span></span><span class=\"plain hlbx\" ><span class=\"txtu\">𒐋</span></span><span class=\"plain \" ><span class=\"txtu\">𒅅 </span></span></span></td><td class=\"tf\"><span class=\"plain outer  hlbx\" ><span class=\"txtu\">𒐋</span></span></td></tr>\n",
       "<tr class=\"tf\"><td class=\"tf\">6</td><td class=\"tf\"> <a href=\"https://cdli.ucla.edu/search/search_results.php?SearchMode=Text&amp;ObjectID=P510530\" title=\"show this document on CDLI\" sec=\"P510530 reverse:17\">P510530 reverse:17</a></td><td class=\"tf\"><span class=\"plain outer  hl\" ><span class=\"plain hlbx\" ><span class=\"txtu\">𒐉</span></span><span class=\"plain \" ><span class=\"txtu\">𒄭𒁁</span></span></span></td><td class=\"tf\"><span class=\"plain outer  hlbx\" ><span class=\"txtu\">𒐉</span></span></td></tr>\n",
       "<tr class=\"tf\"><td class=\"tf\">7</td><td class=\"tf\"> <a href=\"https://cdli.ucla.edu/search/search_results.php?SearchMode=Text&amp;ObjectID=P510534\" title=\"show this document on CDLI\" sec=\"P510534 reverse:5'\">P510534 reverse:5'</a></td><td class=\"tf\"><span class=\"plain outer  hl\" ><span class=\"plain hlbx\" ><span class=\"txtu\">𒐉 </span></span></span></td><td class=\"tf\"><span class=\"plain outer  hlbx\" ><span class=\"txtu\">𒐉 </span></span></td></tr>\n",
       "<tr class=\"tf\"><td class=\"tf\">8</td><td class=\"tf\"> <a href=\"https://cdli.ucla.edu/search/search_results.php?SearchMode=Text&amp;ObjectID=P510534\" title=\"show this document on CDLI\" sec=\"P510534 reverse:10'\">P510534 reverse:10'</a></td><td class=\"tf\"><span class=\"plain outer  hl\" ><span class=\"plain hlbx\" ><span class=\"txtu\">𒐊</span></span><span class=\"plain \" ><span class=\"txtu\">𒋫</span></span><span class=\"plain \" ><span class=\"txtu\">𒀀𒀭 </span></span></span></td><td class=\"tf\"><span class=\"plain outer  hlbx\" ><span class=\"txtu\">𒐊</span></span></td></tr>\n",
       "<tr class=\"tf\"><td class=\"tf\">9</td><td class=\"tf\"> <a href=\"https://cdli.ucla.edu/search/search_results.php?SearchMode=Text&amp;ObjectID=P510536\" title=\"show this document on CDLI\" sec=\"P510536 obverse:5\">P510536 obverse:5</a></td><td class=\"tf\"><span class=\"plain outer  hl\" ><span class=\"plain hlbx\" ><span class=\"txtu\">𒐋 </span></span></span></td><td class=\"tf\"><span class=\"plain outer  hlbx\" ><span class=\"txtu\">𒐋 </span></span></td></tr>\n",
       "<tr class=\"tf\"><td class=\"tf\">10</td><td class=\"tf\"> <a href=\"https://cdli.ucla.edu/search/search_results.php?SearchMode=Text&amp;ObjectID=P510539\" title=\"show this document on CDLI\" sec=\"P510539 obverse:7\">P510539 obverse:7</a></td><td class=\"tf\"><span class=\"plain outer  hl\" ><span class=\"plain hlbx\" ><span class=\"txtu\">𒐉 </span></span></span></td><td class=\"tf\"><span class=\"plain outer  hlbx\" ><span class=\"txtu\">𒐉 </span></span></td></tr></table>"
      ],
      "text/plain": [
       "<IPython.core.display.HTML object>"
      ]
     },
     "metadata": {},
     "output_type": "display_data"
    }
   ],
   "source": [
    "A.table(results, end=10, fmt='text-orig-unicode')"
   ]
  },
  {
   "cell_type": "markdown",
   "metadata": {},
   "source": [
    "The hyperlinks take us all to the CDLI archival page of the document (tablet) in question.\n",
    "\n",
    "Note that we can choose start and/or end points in the results list."
   ]
  },
  {
   "cell_type": "code",
   "execution_count": 7,
   "metadata": {
    "ExecuteTime": {
     "end_time": "2018-05-24T07:47:03.299872Z",
     "start_time": "2018-05-24T07:47:03.261873Z"
    }
   },
   "outputs": [
    {
     "data": {
      "text/html": [
       "<table>\n",
       "<tr class=\"tf\">\n",
       "  <th class=\"tf\">n</th><th class=\"tf\">p</th>\n",
       "  <th class=\"tf\">word</th><th>sign</th>\n",
       "</tr>\n",
       "\n",
       "<tr class=\"tf\"><td class=\"tf\">500</td><td class=\"tf\"> <a href=\"https://cdli.ucla.edu/search/search_results.php?SearchMode=Text&amp;ObjectID=P305753\" title=\"show this document on CDLI\" sec=\"P305753 case - obverse:10\">P305753 case - obverse:10</a></td><td class=\"tf\"><span class=\"plain outer  hl\" ><span class=\"plain hlbx\" ><span class=\"txtr\">5(₅(diš)) </span></span></span></td><td class=\"tf\"><span class=\"plain outer  hlbx\" ><span class=\"txtr\">5(₅(diš)) </span></span></td></tr>\n",
       "<tr class=\"tf\"><td class=\"tf\">501</td><td class=\"tf\"> <a href=\"https://cdli.ucla.edu/search/search_results.php?SearchMode=Text&amp;ObjectID=P305753\" title=\"show this document on CDLI\" sec=\"P305753 case - reverse:10\">P305753 case - reverse:10</a></td><td class=\"tf\"><span class=\"plain outer  hl\" ><span class=\"plain hlbx\" ><span class=\"txtr\">5(₅(diš)) </span></span></span></td><td class=\"tf\"><span class=\"plain outer  hlbx\" ><span class=\"txtr\">5(₅(diš)) </span></span></td></tr>\n",
       "<tr class=\"tf\"><td class=\"tf\">502</td><td class=\"tf\"> <a href=\"https://cdli.ucla.edu/search/search_results.php?SearchMode=Text&amp;ObjectID=P305753\" title=\"show this document on CDLI\" sec=\"P305753 case - reverse:14\">P305753 case - reverse:14</a></td><td class=\"tf\"><span class=\"plain outer  hl\" ><span class=\"plain hlbx\" ><span class=\"txtr\">4(₄(u)) </span></span></span></td><td class=\"tf\"><span class=\"plain outer  hlbx\" ><span class=\"txtr\">4(₄(u)) </span></span></td></tr>\n",
       "<tr class=\"tf\"><td class=\"tf\">503</td><td class=\"tf\"> <a href=\"https://cdli.ucla.edu/search/search_results.php?SearchMode=Text&amp;ObjectID=P305753\" title=\"show this document on CDLI\" sec=\"P305753 case - lower edge:1\">P305753 case - lower edge:1</a></td><td class=\"tf\"><span class=\"plain outer  hl\" ><span class=\"plain \" ><span class=\"txtr\">igi-</span></span><span class=\"plain hlbx\" ><span class=\"txtr\">6(₆(diš))-</span></span><span class=\"plain \" ><span class=\"txtr\">gal₂ </span></span></span></td><td class=\"tf\"><span class=\"plain outer  hlbx\" ><span class=\"txtr\">6(₆(diš))-</span></span></td></tr></table>"
      ],
      "text/plain": [
       "<IPython.core.display.HTML object>"
      ]
     },
     "metadata": {},
     "output_type": "display_data"
    }
   ],
   "source": [
    "A.table(results, start=500, end=503, fmt='text-orig-rich')"
   ]
  },
  {
   "cell_type": "markdown",
   "metadata": {},
   "source": [
    "We can show the results more fully with `show()`.\n",
    "\n",
    "That gives us pretty displays of tablet lines with the results highlighted."
   ]
  },
  {
   "cell_type": "code",
   "execution_count": 8,
   "metadata": {
    "ExecuteTime": {
     "end_time": "2018-05-24T07:47:06.875859Z",
     "start_time": "2018-05-24T07:47:06.757345Z"
    }
   },
   "outputs": [
    {
     "data": {
      "text/html": [
       "<p><b>result</b> <i>1</i></p>"
      ],
      "text/plain": [
       "<IPython.core.display.HTML object>"
      ]
     },
     "metadata": {},
     "output_type": "display_data"
    },
    {
     "data": {
      "text/html": [
       "<div class=\"contnr line \" ><div class=\"lbl line\"><a href=\"https://cdli.ucla.edu/search/search_results.php?SearchMode=Text&amp;ObjectID=P509373\" title=\"P509373 obverse:11\" sec=\"P509373 obverse:11\">line <span class=\"txtn\">11</span></a> </div><div class=\"meta\"><div class=\"features\"></div></div><div class=\"children line\"><div class=\"contnr word \" ><div class=\"lbl word\"><span class=\"txtp\"><span class=\"plain outer  \" ><span class=\"plain \" ><span class=\"txtp\">sza </span></span></span></span> </div><div class=\"meta\"><div class=\"features\"></div></div></div><div class=\"contnr word \" ><div class=\"lbl word\"><span class=\"txtp\"><span class=\"plain outer  \" ><span class=\"plain \" ><span class=\"txtp\">_{d}</span></span><span class=\"plain \" ><span class=\"txtp\">utu_-</span></span><span class=\"plain \" ><span class=\"txtp\">ha-</span></span><span class=\"plain \" ><span class=\"txtp\">zi-</span></span><span class=\"plain \" ><span class=\"txtp\">[ir] </span></span></span></span> </div><div class=\"meta\"><div class=\"features\"></div></div></div><div class=\"contnr word \" ><div class=\"lbl word\"><span class=\"txtp\"><span class=\"plain outer  \" ><span class=\"plain \" ><span class=\"txtp\">isz-</span></span><span class=\"plain \" ><span class=\"txtp\">tu </span></span></span></span> </div><div class=\"meta\"><div class=\"features\"></div></div></div><div class=\"contnr word \" ><div class=\"lbl word\"><span class=\"txtp\"><span class=\"plain outer  \" ><span class=\"plain \" ><span class=\"txtp\">_mu </span></span></span></span> </div><div class=\"meta\"><div class=\"features\"></div></div></div><div class=\"contnr word hl\" ><div class=\"lbl word\"><span class=\"txtp\"><span class=\"plain outer  hl\" ><span class=\"plain hlbx\" ><span class=\"txtp\">7(disz) </span></span></span></span> </div><div class=\"meta\"><div class=\"features\"></div></div></div><div class=\"contnr word \" ><div class=\"lbl word\"><span class=\"txtp\"><span class=\"plain outer  \" ><span class=\"plain \" ><span class=\"txtp\">kam_ </span></span></span></span> </div><div class=\"meta\"><div class=\"features\"></div></div></div><div class=\"contnr word \" ><div class=\"lbl word\"><span class=\"txtp\"><span class=\"plain outer  \" ><span class=\"plain \" ><span class=\"txtp\">id-</span></span><span class=\"plain \" ><span class=\"txtp\">di-</span></span><span class=\"plain \" ><span class=\"txtp\">nu-</span></span><span class=\"plain \" ><span class=\"txtp\">szum</span></span></span></span> </div><div class=\"meta\"><div class=\"features\"></div></div></div></div></div>"
      ],
      "text/plain": [
       "<IPython.core.display.HTML object>"
      ]
     },
     "metadata": {},
     "output_type": "display_data"
    },
    {
     "data": {
      "text/html": [
       "<p><b>result</b> <i>2</i></p>"
      ],
      "text/plain": [
       "<IPython.core.display.HTML object>"
      ]
     },
     "metadata": {},
     "output_type": "display_data"
    },
    {
     "data": {
      "text/html": [
       "<div class=\"contnr line \" ><div class=\"lbl line\"><a href=\"https://cdli.ucla.edu/search/search_results.php?SearchMode=Text&amp;ObjectID=P509376\" title=\"P509376 obverse:4\" sec=\"P509376 obverse:4\">line <span class=\"txtn\">4</span></a> </div><div class=\"meta\"><div class=\"features\"></div></div><div class=\"children line\"><div class=\"contnr word \" ><div class=\"lbl word\"><span class=\"txtp\"><span class=\"plain outer  \" ><span class=\"plain \" ><span class=\"txtp\">_u4 </span></span></span></span> </div><div class=\"meta\"><div class=\"features\"></div></div></div><div class=\"contnr word hl\" ><div class=\"lbl word\"><span class=\"txtp\"><span class=\"plain outer  hl\" ><span class=\"plain hlbx\" ><span class=\"txtp\">4(disz)-</span></span><span class=\"plain \" ><span class=\"txtp\">kam_ </span></span></span></span> </div><div class=\"meta\"><div class=\"features\"></div></div></div><div class=\"contnr word \" ><div class=\"lbl word\"><span class=\"txtp\"><span class=\"plain outer  \" ><span class=\"plain \" ><span class=\"txtp\">a-</span></span><span class=\"plain \" ><span class=\"txtp\">di </span></span></span></span> </div><div class=\"meta\"><div class=\"features\"></div></div></div><div class=\"contnr word \" ><div class=\"lbl word\"><span class=\"txtp\"><span class=\"plain outer  \" ><span class=\"plain \" ><span class=\"txtp\">i-</span></span><span class=\"plain \" ><span class=\"txtp\">na-</span></span><span class=\"plain \" ><span class=\"txtp\">an-</span></span><span class=\"plain \" ><span class=\"txtp\">na</span></span></span></span> </div><div class=\"meta\"><div class=\"features\"></div></div></div></div></div>"
      ],
      "text/plain": [
       "<IPython.core.display.HTML object>"
      ]
     },
     "metadata": {},
     "output_type": "display_data"
    },
    {
     "data": {
      "text/html": [
       "<p><b>result</b> <i>3</i></p>"
      ],
      "text/plain": [
       "<IPython.core.display.HTML object>"
      ]
     },
     "metadata": {},
     "output_type": "display_data"
    },
    {
     "data": {
      "text/html": [
       "<div class=\"contnr line \" ><div class=\"lbl line\"><a href=\"https://cdli.ucla.edu/search/search_results.php?SearchMode=Text&amp;ObjectID=P509377\" title=\"P509377 reverse:10\" sec=\"P509377 reverse:10\">line <span class=\"txtn\">10</span></a> </div><div class=\"meta\"><div class=\"features\"></div></div><div class=\"children line\"><div class=\"contnr word \" ><div class=\"lbl word\"><span class=\"txtp\"><span class=\"plain outer  \" ><span class=\"plain \" ><span class=\"txtp\">szum-</span></span><span class=\"plain \" ><span class=\"txtp\">ma </span></span></span></span> </div><div class=\"meta\"><div class=\"features\"></div></div></div><div class=\"contnr word hl\" ><div class=\"lbl word\"><span class=\"txtp\"><span class=\"plain outer  hl\" ><span class=\"plain hlbx\" ><span class=\"txtp\">6(disz) </span></span></span></span> </div><div class=\"meta\"><div class=\"features\"></div></div></div><div class=\"contnr word \" ><div class=\"lbl word\"><span class=\"txtp\"><span class=\"plain outer  \" ><span class=\"plain \" ><span class=\"txtp\">_gin2 </span></span></span></span> </div><div class=\"meta\"><div class=\"features\"></div></div></div><div class=\"contnr word \" ><div class=\"lbl word\"><span class=\"txtp\"><span class=\"plain outer  \" ><span class=\"plain \" ><span class=\"txtp\">ku3-</span></span><span class=\"plain \" ><span class=\"txtp\">babbar_ </span></span></span></span> </div><div class=\"meta\"><div class=\"features\"></div></div></div><div class=\"contnr word \" ><div class=\"lbl word\"><span class=\"txtp\"><span class=\"plain outer  \" ><span class=\"plain \" ><span class=\"txtp\">i-</span></span><span class=\"plain \" ><span class=\"txtp\">di-</span></span><span class=\"plain \" ><span class=\"txtp\">in-</span></span><span class=\"plain \" ><span class=\"txtp\">szum</span></span></span></span> </div><div class=\"meta\"><div class=\"features\"></div></div></div></div></div>"
      ],
      "text/plain": [
       "<IPython.core.display.HTML object>"
      ]
     },
     "metadata": {},
     "output_type": "display_data"
    }
   ],
   "source": [
    "A.show(results, end=3)"
   ]
  },
  {
   "cell_type": "markdown",
   "metadata": {},
   "source": [
    "# Condense results\n",
    "\n",
    "There are two fundamentally different ways of presenting the results: condensed and uncondensed.\n",
    "\n",
    "In **uncondensed** view, all results are listed individually.\n",
    "You can keep track of which parts belong to which results.\n",
    "The display can become unwieldy.\n",
    "\n",
    "This is the default view, because it is the straightest, most logical, answer to your query.\n",
    "\n",
    "In **condensed** view all nodes of all results are grouped in containers first (e.g. verses), and then presented \n",
    "container by container.\n",
    "You loose the information of what parts belong to what result.\n",
    "\n",
    "As an example of is the difference, we look for all numerals."
   ]
  },
  {
   "cell_type": "code",
   "execution_count": 9,
   "metadata": {
    "ExecuteTime": {
     "end_time": "2018-05-24T07:47:14.547656Z",
     "start_time": "2018-05-24T07:47:14.544433Z"
    }
   },
   "outputs": [],
   "source": [
    "query = '''\n",
    "% we choose a tablet with several numerals\n",
    "document pnumber=P510556\n",
    "  sign type=numeral repeat>3\n",
    "'''"
   ]
  },
  {
   "cell_type": "markdown",
   "metadata": {},
   "source": [
    "Note that you can have comments in a search template. Comment lines start with a `%`."
   ]
  },
  {
   "cell_type": "code",
   "execution_count": 10,
   "metadata": {
    "ExecuteTime": {
     "end_time": "2018-05-24T07:47:18.913432Z",
     "start_time": "2018-05-24T07:47:17.357992Z"
    }
   },
   "outputs": [
    {
     "name": "stdout",
     "output_type": "stream",
     "text": [
      "  0.19s 5 results\n"
     ]
    },
    {
     "data": {
      "text/html": [
       "<table>\n",
       "<tr class=\"tf\">\n",
       "  <th class=\"tf\">n</th><th class=\"tf\">p</th>\n",
       "  <th class=\"tf\">document</th><th>sign</th>\n",
       "</tr>\n",
       "\n",
       "<tr class=\"tf\"><td class=\"tf\">1</td><td class=\"tf\"> <a href=\"https://cdli.ucla.edu/search/search_results.php?SearchMode=Text&amp;ObjectID=P510556\" title=\"show this document on CDLI\" sec=\"P510556 obverse:6\">P510556 obverse:6</a></td><td class=\"tf\"><span class=\"plain outer  \" ></span></td><td class=\"tf\"><span class=\"plain outer  hlbx\" ><span class=\"txtp\">4(disz)-</span></span></td></tr>\n",
       "<tr class=\"tf\"><td class=\"tf\">2</td><td class=\"tf\"> <a href=\"https://cdli.ucla.edu/search/search_results.php?SearchMode=Text&amp;ObjectID=P510556\" title=\"show this document on CDLI\" sec=\"P510556 obverse:12\">P510556 obverse:12</a></td><td class=\"tf\"><span class=\"plain outer  \" ></span></td><td class=\"tf\"><span class=\"plain outer  hlbx\" ><span class=\"txtp\">5(disz) </span></span></td></tr>\n",
       "<tr class=\"tf\"><td class=\"tf\">3</td><td class=\"tf\"> <a href=\"https://cdli.ucla.edu/search/search_results.php?SearchMode=Text&amp;ObjectID=P510556\" title=\"show this document on CDLI\" sec=\"P510556 reverse:4\">P510556 reverse:4</a></td><td class=\"tf\"><span class=\"plain outer  \" ></span></td><td class=\"tf\"><span class=\"plain outer  hlbx\" ><span class=\"txtp\">_5(gesz2) </span></span></td></tr>\n",
       "<tr class=\"tf\"><td class=\"tf\">4</td><td class=\"tf\"> <a href=\"https://cdli.ucla.edu/search/search_results.php?SearchMode=Text&amp;ObjectID=P510556\" title=\"show this document on CDLI\" sec=\"P510556 reverse:8\">P510556 reverse:8</a></td><td class=\"tf\"><span class=\"plain outer  \" ></span></td><td class=\"tf\"><span class=\"plain outer  hlbx\" ><span class=\"txtp\">6(gesz2) </span></span></td></tr>\n",
       "<tr class=\"tf\"><td class=\"tf\">5</td><td class=\"tf\"> <a href=\"https://cdli.ucla.edu/search/search_results.php?SearchMode=Text&amp;ObjectID=P510556\" title=\"show this document on CDLI\" sec=\"P510556 reverse:8\">P510556 reverse:8</a></td><td class=\"tf\"><span class=\"plain outer  \" ></span></td><td class=\"tf\"><span class=\"plain outer  hlbx\" ><span class=\"txtp\">5(ban2) </span></span></td></tr></table>"
      ],
      "text/plain": [
       "<IPython.core.display.HTML object>"
      ]
     },
     "metadata": {},
     "output_type": "display_data"
    }
   ],
   "source": [
    "results = A.search(query)\n",
    "A.table(results, end=100)"
   ]
  },
  {
   "cell_type": "markdown",
   "metadata": {},
   "source": [
    "Let's expand the results display:"
   ]
  },
  {
   "cell_type": "code",
   "execution_count": 11,
   "metadata": {
    "ExecuteTime": {
     "end_time": "2018-05-24T07:47:21.573937Z",
     "start_time": "2018-05-24T07:47:21.561079Z"
    }
   },
   "outputs": [
    {
     "data": {
      "text/html": [
       "<p><b>result</b> <i>1</i></p>"
      ],
      "text/plain": [
       "<IPython.core.display.HTML object>"
      ]
     },
     "metadata": {},
     "output_type": "display_data"
    },
    {
     "data": {
      "text/html": [
       "<div class=\"contnr document \" ><div class=\"lbl document\"><a href=\"https://cdli.ucla.edu/search/search_results.php?SearchMode=Text&amp;ObjectID=P510556\" title=\"P510556\" sec=\"P510556\">document <span class=\"txtn\"></span></a> </div><div class=\"meta\"><div class=\"features\"> <span class=\"pnumber xft\"><span class=\"f\">pnumber=</span>P510556</span></div></div></div>"
      ],
      "text/plain": [
       "<IPython.core.display.HTML object>"
      ]
     },
     "metadata": {},
     "output_type": "display_data"
    },
    {
     "data": {
      "text/html": [
       "<div class=\"contnr line \" ><div class=\"lbl line\"><a href=\"https://cdli.ucla.edu/search/search_results.php?SearchMode=Text&amp;ObjectID=P510556\" title=\"P510556 obverse:6\" sec=\"P510556 obverse:6\">line <span class=\"txtn\">6</span></a> </div><div class=\"meta\"><div class=\"features\"></div></div><div class=\"children line\"><div class=\"contnr word \" ><div class=\"lbl word\"><span class=\"txtp\"><span class=\"plain outer  \" ><span class=\"plain \" ><span class=\"txtp\">i-</span></span><span class=\"plain \" ><span class=\"txtp\">na </span></span></span></span> </div><div class=\"meta\"><div class=\"features\"></div></div></div><div class=\"contnr word \" ><div class=\"lbl word\"><span class=\"txtp\"><span class=\"plain outer  \" ><span class=\"plain \" ><span class=\"txtp\">_u4 </span></span></span></span> </div><div class=\"meta\"><div class=\"features\"></div></div></div><div class=\"contnr word \" ><div class=\"lbl word\"><span class=\"txtp\"><span class=\"plain outer  \" ><span class=\"plain \" ><span class=\"txtp\">1(u) </span></span></span></span> </div><div class=\"meta\"><div class=\"features\"></div></div></div><div class=\"contnr word \" ><div class=\"lbl word\"><span class=\"txtp\"><span class=\"plain outer  \" ><span class=\"plain hlbx\" ><span class=\"txtp\">4(disz)-</span></span><span class=\"plain \" ><span class=\"txtp\">kam_ </span></span></span></span> </div><div class=\"meta\"><div class=\"features\"></div></div></div><div class=\"contnr word \" ><div class=\"lbl word\"><span class=\"txtp\"><span class=\"plain outer  \" ><span class=\"plain \" ><span class=\"txtp\">sza </span></span></span></span> </div><div class=\"meta\"><div class=\"features\"></div></div></div><div class=\"contnr word \" ><div class=\"lbl word\"><span class=\"txtp\"><span class=\"plain outer  \" ><span class=\"plain \" ><span class=\"txtp\">_iti </span></span></span></span> </div><div class=\"meta\"><div class=\"features\"></div></div></div><div class=\"contnr word \" ><div class=\"lbl word\"><span class=\"txtp\"><span class=\"plain outer  \" ><span class=\"plain \" ><span class=\"txtp\">NE-</span></span><span class=\"plain \" ><span class=\"txtp\">NE-</span></span><span class=\"plain \" ><span class=\"txtp\">gar_ </span></span></span></span> </div><div class=\"meta\"><div class=\"features\"></div></div></div><div class=\"contnr word \" ><div class=\"lbl word\"><span class=\"txtp\"><span class=\"plain outer  \" ><span class=\"plain \" ><span class=\"txtp\">a-</span></span><span class=\"plain \" ><span class=\"txtp\">na </span></span></span></span> </div><div class=\"meta\"><div class=\"features\"></div></div></div><div class=\"contnr word \" ><div class=\"lbl word\"><span class=\"txtp\"><span class=\"plain outer  \" ><span class=\"plain \" ><span class=\"txtp\">sze-</span></span><span class=\"plain \" ><span class=\"txtp\">e </span></span></span></span> </div><div class=\"meta\"><div class=\"features\"></div></div></div><div class=\"contnr word \" ><div class=\"lbl word\"><span class=\"txtp\"><span class=\"plain outer  \" ><span class=\"plain \" ><span class=\"txtp\">szu-</span></span><span class=\"plain \" ><span class=\"txtp\">ut-</span></span><span class=\"plain \" ><span class=\"txtp\">_sipa-</span></span><span class=\"plain \" ><span class=\"txtp\">mesz_</span></span><span class=\"plain \" ><span class=\"txtp\">{ki}</span></span></span></span> </div><div class=\"meta\"><div class=\"features\"></div></div></div></div></div>"
      ],
      "text/plain": [
       "<IPython.core.display.HTML object>"
      ]
     },
     "metadata": {},
     "output_type": "display_data"
    },
    {
     "data": {
      "text/html": [
       "<p><b>result</b> <i>2</i></p>"
      ],
      "text/plain": [
       "<IPython.core.display.HTML object>"
      ]
     },
     "metadata": {},
     "output_type": "display_data"
    },
    {
     "data": {
      "text/html": [
       "<div class=\"contnr document \" ><div class=\"lbl document\"><a href=\"https://cdli.ucla.edu/search/search_results.php?SearchMode=Text&amp;ObjectID=P510556\" title=\"P510556\" sec=\"P510556\">document <span class=\"txtn\"></span></a> </div><div class=\"meta\"><div class=\"features\"> <span class=\"pnumber xft\"><span class=\"f\">pnumber=</span>P510556</span></div></div></div>"
      ],
      "text/plain": [
       "<IPython.core.display.HTML object>"
      ]
     },
     "metadata": {},
     "output_type": "display_data"
    },
    {
     "data": {
      "text/html": [
       "<div class=\"contnr line \" ><div class=\"lbl line\"><a href=\"https://cdli.ucla.edu/search/search_results.php?SearchMode=Text&amp;ObjectID=P510556\" title=\"P510556 obverse:12\" sec=\"P510556 obverse:12\">line <span class=\"txtn\">12</span></a> </div><div class=\"meta\"><div class=\"features\"></div></div><div class=\"children line\"><div class=\"contnr word \" ><div class=\"lbl word\"><span class=\"txtp\"><span class=\"plain outer  \" ><span class=\"plain \" ><span class=\"txtp\">_dumu_ </span></span></span></span> </div><div class=\"meta\"><div class=\"features\"></div></div></div><div class=\"contnr word \" ><div class=\"lbl word\"><span class=\"txtp\"><span class=\"plain outer  \" ><span class=\"plain \" ><span class=\"txtp\">hi-</span></span><span class=\"plain \" ><span class=\"txtp\">IZ-</span></span><span class=\"plain \" ><span class=\"txtp\">BI-</span></span><span class=\"plain \" ><span class=\"txtp\">SZI </span></span></span></span> </div><div class=\"meta\"><div class=\"features\"></div></div></div><div class=\"contnr word \" ><div class=\"lbl word\"><span class=\"txtp\"><span class=\"plain outer  \" ><span class=\"plain hlbx\" ><span class=\"txtp\">5(disz) </span></span></span></span> </div><div class=\"meta\"><div class=\"features\"></div></div></div><div class=\"contnr word \" ><div class=\"lbl word\"><span class=\"txtp\"><span class=\"plain outer  \" ><span class=\"plain \" ><span class=\"txtp\">szu-</span></span><span class=\"plain \" ><span class=\"txtp\">szi </span></span></span></span> </div><div class=\"meta\"><div class=\"features\"></div></div></div><div class=\"contnr word \" ><div class=\"lbl word\"><span class=\"txtp\"><span class=\"plain outer  \" ><span class=\"plain \" ><span class=\"txtp\">_sze </span></span></span></span> </div><div class=\"meta\"><div class=\"features\"></div></div></div><div class=\"contnr word \" ><div class=\"lbl word\"><span class=\"txtp\"><span class=\"plain outer  \" ><span class=\"plain \" ><span class=\"txtp\">gur_ </span></span></span></span> </div><div class=\"meta\"><div class=\"features\"></div></div></div><div class=\"contnr word \" ><div class=\"lbl word\"><span class=\"txtp\"><span class=\"plain outer  \" ><span class=\"plain \" ><span class=\"txtp\">sza# </span></span></span></span> </div><div class=\"meta\"><div class=\"features\"></div></div></div><div class=\"contnr word \" ><div class=\"lbl word\"><span class=\"txtp\"><span class=\"plain outer  \" ><span class=\"plain \" ><span class=\"txtp\">a-</span></span><span class=\"plain \" ><span class=\"txtp\">na# </span></span></span></span> </div><div class=\"meta\"><div class=\"features\"></div></div></div><div class=\"contnr word \" ><div class=\"lbl word\"><span class=\"txtp\"><span class=\"plain outer  \" ><span class=\"plain \" ><span class=\"txtp\">x </span></span></span></span> </div><div class=\"meta\"><div class=\"features\"></div></div></div><div class=\"contnr word \" ><div class=\"lbl word\"><span class=\"txtp\"><span class=\"plain outer  \" ><span class=\"plain \" ><span class=\"txtp\">[x </span></span></span></span> </div><div class=\"meta\"><div class=\"features\"></div></div></div><div class=\"contnr word \" ><div class=\"lbl word\"><span class=\"txtp\"><span class=\"plain outer  \" ><span class=\"plain \" ><span class=\"txtp\">(x)]</span></span></span></span> </div><div class=\"meta\"><div class=\"features\"></div></div></div></div></div>"
      ],
      "text/plain": [
       "<IPython.core.display.HTML object>"
      ]
     },
     "metadata": {},
     "output_type": "display_data"
    },
    {
     "data": {
      "text/html": [
       "<p><b>result</b> <i>3</i></p>"
      ],
      "text/plain": [
       "<IPython.core.display.HTML object>"
      ]
     },
     "metadata": {},
     "output_type": "display_data"
    },
    {
     "data": {
      "text/html": [
       "<div class=\"contnr document \" ><div class=\"lbl document\"><a href=\"https://cdli.ucla.edu/search/search_results.php?SearchMode=Text&amp;ObjectID=P510556\" title=\"P510556\" sec=\"P510556\">document <span class=\"txtn\"></span></a> </div><div class=\"meta\"><div class=\"features\"> <span class=\"pnumber xft\"><span class=\"f\">pnumber=</span>P510556</span></div></div></div>"
      ],
      "text/plain": [
       "<IPython.core.display.HTML object>"
      ]
     },
     "metadata": {},
     "output_type": "display_data"
    },
    {
     "data": {
      "text/html": [
       "<div class=\"contnr line \" ><div class=\"lbl line\"><a href=\"https://cdli.ucla.edu/search/search_results.php?SearchMode=Text&amp;ObjectID=P510556\" title=\"P510556 reverse:4\" sec=\"P510556 reverse:4\">line <span class=\"txtn\">4</span></a> </div><div class=\"meta\"><div class=\"features\"></div></div><div class=\"children line\"><div class=\"contnr word \" ><div class=\"lbl word\"><span class=\"txtp\"><span class=\"plain outer  \" ><span class=\"plain \" ><span class=\"txtp\">ib-</span></span><span class=\"plain \" ><span class=\"txtp\">ba-</span></span><span class=\"plain \" ><span class=\"txtp\">szu-</span></span><span class=\"plain \" ><span class=\"txtp\">u2 </span></span></span></span> </div><div class=\"meta\"><div class=\"features\"></div></div></div><div class=\"contnr word \" ><div class=\"lbl word\"><span class=\"txtp\"><span class=\"plain outer  \" ><span class=\"plain hlbx\" ><span class=\"txtp\">_5(gesz2) </span></span></span></span> </div><div class=\"meta\"><div class=\"features\"></div></div></div><div class=\"contnr word \" ><div class=\"lbl word\"><span class=\"txtp\"><span class=\"plain outer  \" ><span class=\"plain \" ><span class=\"txtp\">3(u) </span></span></span></span> </div><div class=\"meta\"><div class=\"features\"></div></div></div><div class=\"contnr word \" ><div class=\"lbl word\"><span class=\"txtp\"><span class=\"plain outer  \" ><span class=\"plain \" ><span class=\"txtp\">sze </span></span></span></span> </div><div class=\"meta\"><div class=\"features\"></div></div></div><div class=\"contnr word \" ><div class=\"lbl word\"><span class=\"txtp\"><span class=\"plain outer  \" ><span class=\"plain \" ><span class=\"txtp\">gur </span></span></span></span> </div><div class=\"meta\"><div class=\"features\"></div></div></div><div class=\"contnr word \" ><div class=\"lbl word\"><span class=\"txtp\"><span class=\"plain outer  \" ><span class=\"plain \" ><span class=\"txtp\">{gesz#}</span></span><span class=\"plain \" ><span class=\"txtp\">ban2#_ </span></span></span></span> </div><div class=\"meta\"><div class=\"features\"></div></div></div><div class=\"contnr word \" ><div class=\"lbl word\"><span class=\"txtp\"><span class=\"plain outer  \" ><span class=\"plain \" ><span class=\"txtp\">{gesz#}</span></span><span class=\"plain \" ><span class=\"txtp\">me-</span></span><span class=\"plain \" ><span class=\"txtp\">sze-</span></span><span class=\"plain \" ><span class=\"txtp\">qum#</span></span></span></span> </div><div class=\"meta\"><div class=\"features\"></div></div></div></div></div>"
      ],
      "text/plain": [
       "<IPython.core.display.HTML object>"
      ]
     },
     "metadata": {},
     "output_type": "display_data"
    },
    {
     "data": {
      "text/html": [
       "<p><b>result</b> <i>4</i></p>"
      ],
      "text/plain": [
       "<IPython.core.display.HTML object>"
      ]
     },
     "metadata": {},
     "output_type": "display_data"
    },
    {
     "data": {
      "text/html": [
       "<div class=\"contnr document \" ><div class=\"lbl document\"><a href=\"https://cdli.ucla.edu/search/search_results.php?SearchMode=Text&amp;ObjectID=P510556\" title=\"P510556\" sec=\"P510556\">document <span class=\"txtn\"></span></a> </div><div class=\"meta\"><div class=\"features\"> <span class=\"pnumber xft\"><span class=\"f\">pnumber=</span>P510556</span></div></div></div>"
      ],
      "text/plain": [
       "<IPython.core.display.HTML object>"
      ]
     },
     "metadata": {},
     "output_type": "display_data"
    },
    {
     "data": {
      "text/html": [
       "<div class=\"contnr line \" ><div class=\"lbl line\"><a href=\"https://cdli.ucla.edu/search/search_results.php?SearchMode=Text&amp;ObjectID=P510556\" title=\"P510556 reverse:8\" sec=\"P510556 reverse:8\">line <span class=\"txtn\">8</span></a> </div><div class=\"meta\"><div class=\"features\"></div></div><div class=\"children line\"><div class=\"contnr word \" ><div class=\"lbl word\"><span class=\"txtp\"><span class=\"plain outer  \" ><span class=\"plain \" ><span class=\"txtp\">_szunigin </span></span></span></span> </div><div class=\"meta\"><div class=\"features\"></div></div></div><div class=\"contnr word \" ><div class=\"lbl word\"><span class=\"txtp\"><span class=\"plain outer  \" ><span class=\"plain hlbx\" ><span class=\"txtp\">6(gesz2) </span></span></span></span> </div><div class=\"meta\"><div class=\"features\"></div></div></div><div class=\"contnr word \" ><div class=\"lbl word\"><span class=\"txtp\"><span class=\"plain outer  \" ><span class=\"plain \" ><span class=\"txtp\">2(u) </span></span></span></span> </div><div class=\"meta\"><div class=\"features\"></div></div></div><div class=\"contnr word \" ><div class=\"lbl word\"><span class=\"txtp\"><span class=\"plain outer  \" ><span class=\"plain \" ><span class=\"txtp\">1(asz) </span></span></span></span> </div><div class=\"meta\"><div class=\"features\"></div></div></div><div class=\"contnr word \" ><div class=\"lbl word\"><span class=\"txtp\"><span class=\"plain outer  \" ><span class=\"plain \" ><span class=\"txtp\">5(ban2) </span></span></span></span> </div><div class=\"meta\"><div class=\"features\"></div></div></div><div class=\"contnr word \" ><div class=\"lbl word\"><span class=\"txtp\"><span class=\"plain outer  \" ><span class=\"plain \" ><span class=\"txtp\">sze </span></span></span></span> </div><div class=\"meta\"><div class=\"features\"></div></div></div><div class=\"contnr word \" ><div class=\"lbl word\"><span class=\"txtp\"><span class=\"plain outer  \" ><span class=\"plain \" ><span class=\"txtp\">gur </span></span></span></span> </div><div class=\"meta\"><div class=\"features\"></div></div></div><div class=\"contnr word \" ><div class=\"lbl word\"><span class=\"txtp\"><span class=\"plain outer  \" ><span class=\"plain \" ><span class=\"txtp\">{gesz}</span></span><span class=\"plain \" ><span class=\"txtp\">ban2#_ </span></span></span></span> </div><div class=\"meta\"><div class=\"features\"></div></div></div><div class=\"contnr word \" ><div class=\"lbl word\"><span class=\"txtp\"><span class=\"plain outer  \" ><span class=\"plain \" ><span class=\"txtp\">[{gesz}</span></span><span class=\"plain \" ><span class=\"txtp\">me]-</span></span><span class=\"plain \" ><span class=\"txtp\">sze#-</span></span><span class=\"plain \" ><span class=\"txtp\">qum</span></span></span></span> </div><div class=\"meta\"><div class=\"features\"></div></div></div></div></div>"
      ],
      "text/plain": [
       "<IPython.core.display.HTML object>"
      ]
     },
     "metadata": {},
     "output_type": "display_data"
    },
    {
     "data": {
      "text/html": [
       "<p><b>result</b> <i>5</i></p>"
      ],
      "text/plain": [
       "<IPython.core.display.HTML object>"
      ]
     },
     "metadata": {},
     "output_type": "display_data"
    },
    {
     "data": {
      "text/html": [
       "<div class=\"contnr document \" ><div class=\"lbl document\"><a href=\"https://cdli.ucla.edu/search/search_results.php?SearchMode=Text&amp;ObjectID=P510556\" title=\"P510556\" sec=\"P510556\">document <span class=\"txtn\"></span></a> </div><div class=\"meta\"><div class=\"features\"> <span class=\"pnumber xft\"><span class=\"f\">pnumber=</span>P510556</span></div></div></div>"
      ],
      "text/plain": [
       "<IPython.core.display.HTML object>"
      ]
     },
     "metadata": {},
     "output_type": "display_data"
    },
    {
     "data": {
      "text/html": [
       "<div class=\"contnr line \" ><div class=\"lbl line\"><a href=\"https://cdli.ucla.edu/search/search_results.php?SearchMode=Text&amp;ObjectID=P510556\" title=\"P510556 reverse:8\" sec=\"P510556 reverse:8\">line <span class=\"txtn\">8</span></a> </div><div class=\"meta\"><div class=\"features\"></div></div><div class=\"children line\"><div class=\"contnr word \" ><div class=\"lbl word\"><span class=\"txtp\"><span class=\"plain outer  \" ><span class=\"plain \" ><span class=\"txtp\">_szunigin </span></span></span></span> </div><div class=\"meta\"><div class=\"features\"></div></div></div><div class=\"contnr word \" ><div class=\"lbl word\"><span class=\"txtp\"><span class=\"plain outer  \" ><span class=\"plain \" ><span class=\"txtp\">6(gesz2) </span></span></span></span> </div><div class=\"meta\"><div class=\"features\"></div></div></div><div class=\"contnr word \" ><div class=\"lbl word\"><span class=\"txtp\"><span class=\"plain outer  \" ><span class=\"plain \" ><span class=\"txtp\">2(u) </span></span></span></span> </div><div class=\"meta\"><div class=\"features\"></div></div></div><div class=\"contnr word \" ><div class=\"lbl word\"><span class=\"txtp\"><span class=\"plain outer  \" ><span class=\"plain \" ><span class=\"txtp\">1(asz) </span></span></span></span> </div><div class=\"meta\"><div class=\"features\"></div></div></div><div class=\"contnr word \" ><div class=\"lbl word\"><span class=\"txtp\"><span class=\"plain outer  \" ><span class=\"plain hlbx\" ><span class=\"txtp\">5(ban2) </span></span></span></span> </div><div class=\"meta\"><div class=\"features\"></div></div></div><div class=\"contnr word \" ><div class=\"lbl word\"><span class=\"txtp\"><span class=\"plain outer  \" ><span class=\"plain \" ><span class=\"txtp\">sze </span></span></span></span> </div><div class=\"meta\"><div class=\"features\"></div></div></div><div class=\"contnr word \" ><div class=\"lbl word\"><span class=\"txtp\"><span class=\"plain outer  \" ><span class=\"plain \" ><span class=\"txtp\">gur </span></span></span></span> </div><div class=\"meta\"><div class=\"features\"></div></div></div><div class=\"contnr word \" ><div class=\"lbl word\"><span class=\"txtp\"><span class=\"plain outer  \" ><span class=\"plain \" ><span class=\"txtp\">{gesz}</span></span><span class=\"plain \" ><span class=\"txtp\">ban2#_ </span></span></span></span> </div><div class=\"meta\"><div class=\"features\"></div></div></div><div class=\"contnr word \" ><div class=\"lbl word\"><span class=\"txtp\"><span class=\"plain outer  \" ><span class=\"plain \" ><span class=\"txtp\">[{gesz}</span></span><span class=\"plain \" ><span class=\"txtp\">me]-</span></span><span class=\"plain \" ><span class=\"txtp\">sze#-</span></span><span class=\"plain \" ><span class=\"txtp\">qum</span></span></span></span> </div><div class=\"meta\"><div class=\"features\"></div></div></div></div></div>"
      ],
      "text/plain": [
       "<IPython.core.display.HTML object>"
      ]
     },
     "metadata": {},
     "output_type": "display_data"
    }
   ],
   "source": [
    "A.show(results)"
   ]
  },
  {
   "cell_type": "markdown",
   "metadata": {},
   "source": [
    "As you see, the results are listed per result tuple, even if they occur all in the same verse.\n",
    "This way you can keep track of what exactly belongs to each result.\n",
    "\n",
    "Now in condensed mode:"
   ]
  },
  {
   "cell_type": "code",
   "execution_count": 12,
   "metadata": {
    "ExecuteTime": {
     "end_time": "2018-05-24T07:47:21.573937Z",
     "start_time": "2018-05-24T07:47:21.561079Z"
    }
   },
   "outputs": [
    {
     "data": {
      "text/html": [
       "<p><b>line</b> <i>1</i></p>"
      ],
      "text/plain": [
       "<IPython.core.display.HTML object>"
      ]
     },
     "metadata": {},
     "output_type": "display_data"
    },
    {
     "data": {
      "text/html": [
       "<div class=\"contnr line \" ><div class=\"lbl line\"><a href=\"https://cdli.ucla.edu/search/search_results.php?SearchMode=Text&amp;ObjectID=P510556\" title=\"P510556 obverse:6\" sec=\"P510556 obverse:6\">line <span class=\"txtn\">6</span></a> </div><div class=\"meta\"><div class=\"features\"></div></div><div class=\"children line\"><div class=\"contnr word \" ><div class=\"lbl word\"><span class=\"txtp\"><span class=\"plain outer  \" ><span class=\"plain \" ><span class=\"txtp\">i-</span></span><span class=\"plain \" ><span class=\"txtp\">na </span></span></span></span> </div><div class=\"meta\"><div class=\"features\"></div></div></div><div class=\"contnr word \" ><div class=\"lbl word\"><span class=\"txtp\"><span class=\"plain outer  \" ><span class=\"plain \" ><span class=\"txtp\">_u4 </span></span></span></span> </div><div class=\"meta\"><div class=\"features\"></div></div></div><div class=\"contnr word \" ><div class=\"lbl word\"><span class=\"txtp\"><span class=\"plain outer  \" ><span class=\"plain \" ><span class=\"txtp\">1(u) </span></span></span></span> </div><div class=\"meta\"><div class=\"features\"></div></div></div><div class=\"contnr word \" ><div class=\"lbl word\"><span class=\"txtp\"><span class=\"plain outer  \" ><span class=\"plain hlbx\" ><span class=\"txtp\">4(disz)-</span></span><span class=\"plain \" ><span class=\"txtp\">kam_ </span></span></span></span> </div><div class=\"meta\"><div class=\"features\"></div></div></div><div class=\"contnr word \" ><div class=\"lbl word\"><span class=\"txtp\"><span class=\"plain outer  \" ><span class=\"plain \" ><span class=\"txtp\">sza </span></span></span></span> </div><div class=\"meta\"><div class=\"features\"></div></div></div><div class=\"contnr word \" ><div class=\"lbl word\"><span class=\"txtp\"><span class=\"plain outer  \" ><span class=\"plain \" ><span class=\"txtp\">_iti </span></span></span></span> </div><div class=\"meta\"><div class=\"features\"></div></div></div><div class=\"contnr word \" ><div class=\"lbl word\"><span class=\"txtp\"><span class=\"plain outer  \" ><span class=\"plain \" ><span class=\"txtp\">NE-</span></span><span class=\"plain \" ><span class=\"txtp\">NE-</span></span><span class=\"plain \" ><span class=\"txtp\">gar_ </span></span></span></span> </div><div class=\"meta\"><div class=\"features\"></div></div></div><div class=\"contnr word \" ><div class=\"lbl word\"><span class=\"txtp\"><span class=\"plain outer  \" ><span class=\"plain \" ><span class=\"txtp\">a-</span></span><span class=\"plain \" ><span class=\"txtp\">na </span></span></span></span> </div><div class=\"meta\"><div class=\"features\"></div></div></div><div class=\"contnr word \" ><div class=\"lbl word\"><span class=\"txtp\"><span class=\"plain outer  \" ><span class=\"plain \" ><span class=\"txtp\">sze-</span></span><span class=\"plain \" ><span class=\"txtp\">e </span></span></span></span> </div><div class=\"meta\"><div class=\"features\"></div></div></div><div class=\"contnr word \" ><div class=\"lbl word\"><span class=\"txtp\"><span class=\"plain outer  \" ><span class=\"plain \" ><span class=\"txtp\">szu-</span></span><span class=\"plain \" ><span class=\"txtp\">ut-</span></span><span class=\"plain \" ><span class=\"txtp\">_sipa-</span></span><span class=\"plain \" ><span class=\"txtp\">mesz_</span></span><span class=\"plain \" ><span class=\"txtp\">{ki}</span></span></span></span> </div><div class=\"meta\"><div class=\"features\"></div></div></div></div></div>"
      ],
      "text/plain": [
       "<IPython.core.display.HTML object>"
      ]
     },
     "metadata": {},
     "output_type": "display_data"
    },
    {
     "data": {
      "text/html": [
       "<p><b>line</b> <i>2</i></p>"
      ],
      "text/plain": [
       "<IPython.core.display.HTML object>"
      ]
     },
     "metadata": {},
     "output_type": "display_data"
    },
    {
     "data": {
      "text/html": [
       "<div class=\"contnr line \" ><div class=\"lbl line\"><a href=\"https://cdli.ucla.edu/search/search_results.php?SearchMode=Text&amp;ObjectID=P510556\" title=\"P510556 obverse:12\" sec=\"P510556 obverse:12\">line <span class=\"txtn\">12</span></a> </div><div class=\"meta\"><div class=\"features\"></div></div><div class=\"children line\"><div class=\"contnr word \" ><div class=\"lbl word\"><span class=\"txtp\"><span class=\"plain outer  \" ><span class=\"plain \" ><span class=\"txtp\">_dumu_ </span></span></span></span> </div><div class=\"meta\"><div class=\"features\"></div></div></div><div class=\"contnr word \" ><div class=\"lbl word\"><span class=\"txtp\"><span class=\"plain outer  \" ><span class=\"plain \" ><span class=\"txtp\">hi-</span></span><span class=\"plain \" ><span class=\"txtp\">IZ-</span></span><span class=\"plain \" ><span class=\"txtp\">BI-</span></span><span class=\"plain \" ><span class=\"txtp\">SZI </span></span></span></span> </div><div class=\"meta\"><div class=\"features\"></div></div></div><div class=\"contnr word \" ><div class=\"lbl word\"><span class=\"txtp\"><span class=\"plain outer  \" ><span class=\"plain hlbx\" ><span class=\"txtp\">5(disz) </span></span></span></span> </div><div class=\"meta\"><div class=\"features\"></div></div></div><div class=\"contnr word \" ><div class=\"lbl word\"><span class=\"txtp\"><span class=\"plain outer  \" ><span class=\"plain \" ><span class=\"txtp\">szu-</span></span><span class=\"plain \" ><span class=\"txtp\">szi </span></span></span></span> </div><div class=\"meta\"><div class=\"features\"></div></div></div><div class=\"contnr word \" ><div class=\"lbl word\"><span class=\"txtp\"><span class=\"plain outer  \" ><span class=\"plain \" ><span class=\"txtp\">_sze </span></span></span></span> </div><div class=\"meta\"><div class=\"features\"></div></div></div><div class=\"contnr word \" ><div class=\"lbl word\"><span class=\"txtp\"><span class=\"plain outer  \" ><span class=\"plain \" ><span class=\"txtp\">gur_ </span></span></span></span> </div><div class=\"meta\"><div class=\"features\"></div></div></div><div class=\"contnr word \" ><div class=\"lbl word\"><span class=\"txtp\"><span class=\"plain outer  \" ><span class=\"plain \" ><span class=\"txtp\">sza# </span></span></span></span> </div><div class=\"meta\"><div class=\"features\"></div></div></div><div class=\"contnr word \" ><div class=\"lbl word\"><span class=\"txtp\"><span class=\"plain outer  \" ><span class=\"plain \" ><span class=\"txtp\">a-</span></span><span class=\"plain \" ><span class=\"txtp\">na# </span></span></span></span> </div><div class=\"meta\"><div class=\"features\"></div></div></div><div class=\"contnr word \" ><div class=\"lbl word\"><span class=\"txtp\"><span class=\"plain outer  \" ><span class=\"plain \" ><span class=\"txtp\">x </span></span></span></span> </div><div class=\"meta\"><div class=\"features\"></div></div></div><div class=\"contnr word \" ><div class=\"lbl word\"><span class=\"txtp\"><span class=\"plain outer  \" ><span class=\"plain \" ><span class=\"txtp\">[x </span></span></span></span> </div><div class=\"meta\"><div class=\"features\"></div></div></div><div class=\"contnr word \" ><div class=\"lbl word\"><span class=\"txtp\"><span class=\"plain outer  \" ><span class=\"plain \" ><span class=\"txtp\">(x)]</span></span></span></span> </div><div class=\"meta\"><div class=\"features\"></div></div></div></div></div>"
      ],
      "text/plain": [
       "<IPython.core.display.HTML object>"
      ]
     },
     "metadata": {},
     "output_type": "display_data"
    },
    {
     "data": {
      "text/html": [
       "<p><b>line</b> <i>3</i></p>"
      ],
      "text/plain": [
       "<IPython.core.display.HTML object>"
      ]
     },
     "metadata": {},
     "output_type": "display_data"
    },
    {
     "data": {
      "text/html": [
       "<div class=\"contnr line \" ><div class=\"lbl line\"><a href=\"https://cdli.ucla.edu/search/search_results.php?SearchMode=Text&amp;ObjectID=P510556\" title=\"P510556 reverse:4\" sec=\"P510556 reverse:4\">line <span class=\"txtn\">4</span></a> </div><div class=\"meta\"><div class=\"features\"></div></div><div class=\"children line\"><div class=\"contnr word \" ><div class=\"lbl word\"><span class=\"txtp\"><span class=\"plain outer  \" ><span class=\"plain \" ><span class=\"txtp\">ib-</span></span><span class=\"plain \" ><span class=\"txtp\">ba-</span></span><span class=\"plain \" ><span class=\"txtp\">szu-</span></span><span class=\"plain \" ><span class=\"txtp\">u2 </span></span></span></span> </div><div class=\"meta\"><div class=\"features\"></div></div></div><div class=\"contnr word \" ><div class=\"lbl word\"><span class=\"txtp\"><span class=\"plain outer  \" ><span class=\"plain hlbx\" ><span class=\"txtp\">_5(gesz2) </span></span></span></span> </div><div class=\"meta\"><div class=\"features\"></div></div></div><div class=\"contnr word \" ><div class=\"lbl word\"><span class=\"txtp\"><span class=\"plain outer  \" ><span class=\"plain \" ><span class=\"txtp\">3(u) </span></span></span></span> </div><div class=\"meta\"><div class=\"features\"></div></div></div><div class=\"contnr word \" ><div class=\"lbl word\"><span class=\"txtp\"><span class=\"plain outer  \" ><span class=\"plain \" ><span class=\"txtp\">sze </span></span></span></span> </div><div class=\"meta\"><div class=\"features\"></div></div></div><div class=\"contnr word \" ><div class=\"lbl word\"><span class=\"txtp\"><span class=\"plain outer  \" ><span class=\"plain \" ><span class=\"txtp\">gur </span></span></span></span> </div><div class=\"meta\"><div class=\"features\"></div></div></div><div class=\"contnr word \" ><div class=\"lbl word\"><span class=\"txtp\"><span class=\"plain outer  \" ><span class=\"plain \" ><span class=\"txtp\">{gesz#}</span></span><span class=\"plain \" ><span class=\"txtp\">ban2#_ </span></span></span></span> </div><div class=\"meta\"><div class=\"features\"></div></div></div><div class=\"contnr word \" ><div class=\"lbl word\"><span class=\"txtp\"><span class=\"plain outer  \" ><span class=\"plain \" ><span class=\"txtp\">{gesz#}</span></span><span class=\"plain \" ><span class=\"txtp\">me-</span></span><span class=\"plain \" ><span class=\"txtp\">sze-</span></span><span class=\"plain \" ><span class=\"txtp\">qum#</span></span></span></span> </div><div class=\"meta\"><div class=\"features\"></div></div></div></div></div>"
      ],
      "text/plain": [
       "<IPython.core.display.HTML object>"
      ]
     },
     "metadata": {},
     "output_type": "display_data"
    },
    {
     "data": {
      "text/html": [
       "<p><b>line</b> <i>4</i></p>"
      ],
      "text/plain": [
       "<IPython.core.display.HTML object>"
      ]
     },
     "metadata": {},
     "output_type": "display_data"
    },
    {
     "data": {
      "text/html": [
       "<div class=\"contnr line \" ><div class=\"lbl line\"><a href=\"https://cdli.ucla.edu/search/search_results.php?SearchMode=Text&amp;ObjectID=P510556\" title=\"P510556 reverse:8\" sec=\"P510556 reverse:8\">line <span class=\"txtn\">8</span></a> </div><div class=\"meta\"><div class=\"features\"></div></div><div class=\"children line\"><div class=\"contnr word \" ><div class=\"lbl word\"><span class=\"txtp\"><span class=\"plain outer  \" ><span class=\"plain \" ><span class=\"txtp\">_szunigin </span></span></span></span> </div><div class=\"meta\"><div class=\"features\"></div></div></div><div class=\"contnr word \" ><div class=\"lbl word\"><span class=\"txtp\"><span class=\"plain outer  \" ><span class=\"plain hlbx\" ><span class=\"txtp\">6(gesz2) </span></span></span></span> </div><div class=\"meta\"><div class=\"features\"></div></div></div><div class=\"contnr word \" ><div class=\"lbl word\"><span class=\"txtp\"><span class=\"plain outer  \" ><span class=\"plain \" ><span class=\"txtp\">2(u) </span></span></span></span> </div><div class=\"meta\"><div class=\"features\"></div></div></div><div class=\"contnr word \" ><div class=\"lbl word\"><span class=\"txtp\"><span class=\"plain outer  \" ><span class=\"plain \" ><span class=\"txtp\">1(asz) </span></span></span></span> </div><div class=\"meta\"><div class=\"features\"></div></div></div><div class=\"contnr word \" ><div class=\"lbl word\"><span class=\"txtp\"><span class=\"plain outer  \" ><span class=\"plain hlbx\" ><span class=\"txtp\">5(ban2) </span></span></span></span> </div><div class=\"meta\"><div class=\"features\"></div></div></div><div class=\"contnr word \" ><div class=\"lbl word\"><span class=\"txtp\"><span class=\"plain outer  \" ><span class=\"plain \" ><span class=\"txtp\">sze </span></span></span></span> </div><div class=\"meta\"><div class=\"features\"></div></div></div><div class=\"contnr word \" ><div class=\"lbl word\"><span class=\"txtp\"><span class=\"plain outer  \" ><span class=\"plain \" ><span class=\"txtp\">gur </span></span></span></span> </div><div class=\"meta\"><div class=\"features\"></div></div></div><div class=\"contnr word \" ><div class=\"lbl word\"><span class=\"txtp\"><span class=\"plain outer  \" ><span class=\"plain \" ><span class=\"txtp\">{gesz}</span></span><span class=\"plain \" ><span class=\"txtp\">ban2#_ </span></span></span></span> </div><div class=\"meta\"><div class=\"features\"></div></div></div><div class=\"contnr word \" ><div class=\"lbl word\"><span class=\"txtp\"><span class=\"plain outer  \" ><span class=\"plain \" ><span class=\"txtp\">[{gesz}</span></span><span class=\"plain \" ><span class=\"txtp\">me]-</span></span><span class=\"plain \" ><span class=\"txtp\">sze#-</span></span><span class=\"plain \" ><span class=\"txtp\">qum</span></span></span></span> </div><div class=\"meta\"><div class=\"features\"></div></div></div></div></div>"
      ],
      "text/plain": [
       "<IPython.core.display.HTML object>"
      ]
     },
     "metadata": {},
     "output_type": "display_data"
    }
   ],
   "source": [
    "A.show(results, condensed=True)"
   ]
  },
  {
   "cell_type": "markdown",
   "metadata": {},
   "source": [
    "The last line has two results, and both results are highlighted in the same line display.\n",
    "\n",
    "We can modify the container in which we see our results.\n",
    "\n",
    "By default, it is `line`, but we can make it `face` as well:"
   ]
  },
  {
   "cell_type": "code",
   "execution_count": 13,
   "metadata": {
    "ExecuteTime": {
     "end_time": "2018-05-24T07:47:21.573937Z",
     "start_time": "2018-05-24T07:47:21.561079Z"
    }
   },
   "outputs": [
    {
     "data": {
      "text/html": [
       "<p><b>face</b> <i>1</i></p>"
      ],
      "text/plain": [
       "<IPython.core.display.HTML object>"
      ]
     },
     "metadata": {},
     "output_type": "display_data"
    },
    {
     "data": {
      "text/html": [
       "<div class=\"contnr face \" ><div class=\"lbl face\"><a href=\"https://cdli.ucla.edu/search/search_results.php?SearchMode=Text&amp;ObjectID=P510556\" title=\"P510556 obverse\" sec=\"P510556 obverse\">face <span class=\"txtn\">obverse</span></a> </div><div class=\"meta\"><div class=\"features\"> <span class=\"object\">tablet</span></div></div><div class=\"children face\"><div class=\"contnr line \" ><div class=\"lbl line\"><span class=\"txtn\">1</span> </div><div class=\"meta\"><div class=\"features\"></div></div><div class=\"children line\"><div class=\"contnr word \" ><div class=\"lbl word\"><span class=\"txtp\"><span class=\"plain outer  \" ><span class=\"plain \" ><span class=\"txtp\">a-</span></span><span class=\"plain \" ><span class=\"txtp\">na </span></span></span></span> </div><div class=\"meta\"><div class=\"features\"></div></div></div><div class=\"contnr word \" ><div class=\"lbl word\"><span class=\"txtp\"><span class=\"plain outer  \" ><span class=\"plain \" ><span class=\"txtp\">be-</span></span><span class=\"plain \" ><span class=\"txtp\">li2-</span></span><span class=\"plain \" ><span class=\"txtp\">ia </span></span></span></span> </div><div class=\"meta\"><div class=\"features\"></div></div></div><div class=\"contnr word \" ><div class=\"lbl word\"><span class=\"txtp\"><span class=\"plain outer  \" ><span class=\"plain \" ><span class=\"txtp\">qi2-</span></span><span class=\"plain \" ><span class=\"txtp\">bi2-</span></span><span class=\"plain \" ><span class=\"txtp\">ma</span></span></span></span> </div><div class=\"meta\"><div class=\"features\"></div></div></div></div></div><div class=\"contnr line \" ><div class=\"lbl line\"><span class=\"txtn\">2</span> </div><div class=\"meta\"><div class=\"features\"></div></div><div class=\"children line\"><div class=\"contnr word \" ><div class=\"lbl word\"><span class=\"txtp\"><span class=\"plain outer  \" ><span class=\"plain \" ><span class=\"txtp\">um-</span></span><span class=\"plain \" ><span class=\"txtp\">ma </span></span></span></span> </div><div class=\"meta\"><div class=\"features\"></div></div></div><div class=\"contnr word \" ><div class=\"lbl word\"><span class=\"txtp\"><span class=\"plain outer  \" ><span class=\"plain \" ><span class=\"txtp\">{d}</span></span><span class=\"plain \" ><span class=\"txtp\">na-</span></span><span class=\"plain \" ><span class=\"txtp\">bi-</span></span><span class=\"plain \" ><span class=\"txtp\">um-</span></span><span class=\"plain \" ><span class=\"txtp\">at-</span></span><span class=\"plain \" ><span class=\"txtp\">pa-</span></span><span class=\"plain \" ><span class=\"txtp\">lam </span></span></span></span> </div><div class=\"meta\"><div class=\"features\"></div></div></div><div class=\"contnr word \" ><div class=\"lbl word\"><span class=\"txtp\"><span class=\"plain outer  \" ><span class=\"plain \" ><span class=\"txtp\">ARAD-</span></span><span class=\"plain \" ><span class=\"txtp\">ka-</span></span><span class=\"plain \" ><span class=\"txtp\">ma</span></span></span></span> </div><div class=\"meta\"><div class=\"features\"></div></div></div></div></div><div class=\"contnr line \" ><div class=\"lbl line\"><span class=\"txtn\">3</span> </div><div class=\"meta\"><div class=\"features\"></div></div><div class=\"children line\"><div class=\"contnr word \" ><div class=\"lbl word\"><span class=\"txtp\"><span class=\"plain outer  \" ><span class=\"plain \" ><span class=\"txtp\">asz-</span></span><span class=\"plain \" ><span class=\"txtp\">szum </span></span></span></span> </div><div class=\"meta\"><div class=\"features\"></div></div></div><div class=\"contnr word \" ><div class=\"lbl word\"><span class=\"txtp\"><span class=\"plain outer  \" ><span class=\"plain \" ><span class=\"txtp\">sze-</span></span><span class=\"plain \" ><span class=\"txtp\">e </span></span></span></span> </div><div class=\"meta\"><div class=\"features\"></div></div></div><div class=\"contnr word \" ><div class=\"lbl word\"><span class=\"txtp\"><span class=\"plain outer  \" ><span class=\"plain \" ><span class=\"txtp\">ar-</span></span><span class=\"plain \" ><span class=\"txtp\">hi-</span></span><span class=\"plain \" ><span class=\"txtp\">isz </span></span></span></span> </div><div class=\"meta\"><div class=\"features\"></div></div></div><div class=\"contnr word \" ><div class=\"lbl word\"><span class=\"txtp\"><span class=\"plain outer  \" ><span class=\"plain \" ><span class=\"txtp\">la </span></span></span></span> </div><div class=\"meta\"><div class=\"features\"></div></div></div><div class=\"contnr word \" ><div class=\"lbl word\"><span class=\"txtp\"><span class=\"plain outer  \" ><span class=\"plain \" ><span class=\"txtp\">ka-</span></span><span class=\"plain \" ><span class=\"txtp\">ma-</span></span><span class=\"plain \" ><span class=\"txtp\">si-</span></span><span class=\"plain \" ><span class=\"txtp\">im </span></span></span></span> </div><div class=\"meta\"><div class=\"features\"></div></div></div><div class=\"contnr word \" ><div class=\"lbl word\"><span class=\"txtp\"><span class=\"plain outer  \" ><span class=\"plain \" ><span class=\"txtp\">sza </span></span></span></span> </div><div class=\"meta\"><div class=\"features\"></div></div></div><div class=\"contnr word \" ><div class=\"lbl word\"><span class=\"txtp\"><span class=\"plain outer  \" ><span class=\"plain \" ><span class=\"txtp\">be-</span></span><span class=\"plain \" ><span class=\"txtp\">li2 </span></span></span></span> </div><div class=\"meta\"><div class=\"features\"></div></div></div><div class=\"contnr word \" ><div class=\"lbl word\"><span class=\"txtp\"><span class=\"plain outer  \" ><span class=\"plain \" ><span class=\"txtp\">isz-</span></span><span class=\"plain \" ><span class=\"txtp\">pur-</span></span><span class=\"plain \" ><span class=\"txtp\">am</span></span></span></span> </div><div class=\"meta\"><div class=\"features\"></div></div></div></div></div><div class=\"contnr line \" ><div class=\"lbl line\"><span class=\"txtn\">4</span> </div><div class=\"meta\"><div class=\"features\"></div></div><div class=\"children line\"><div class=\"contnr word \" ><div class=\"lbl word\"><span class=\"txtp\"><span class=\"plain outer  \" ><span class=\"plain \" ><span class=\"txtp\">sze-</span></span><span class=\"plain \" ><span class=\"txtp\">e </span></span></span></span> </div><div class=\"meta\"><div class=\"features\"></div></div></div><div class=\"contnr word \" ><div class=\"lbl word\"><span class=\"txtp\"><span class=\"plain outer  \" ><span class=\"plain \" ><span class=\"txtp\">szu-</span></span><span class=\"plain \" ><span class=\"txtp\">ut-</span></span><span class=\"plain \" ><span class=\"txtp\">_sipa-</span></span><span class=\"plain \" ><span class=\"txtp\">mesz_</span></span><span class=\"plain \" ><span class=\"txtp\">{ki} </span></span></span></span> </div><div class=\"meta\"><div class=\"features\"></div></div></div><div class=\"contnr word \" ><div class=\"lbl word\"><span class=\"txtp\"><span class=\"plain outer  \" ><span class=\"plain \" ><span class=\"txtp\">i-</span></span><span class=\"plain \" ><span class=\"txtp\">na# </span></span></span></span> </div><div class=\"meta\"><div class=\"features\"></div></div></div><div class=\"contnr word \" ><div class=\"lbl word\"><span class=\"txtp\"><span class=\"plain outer  \" ><span class=\"plain \" ><span class=\"txtp\">za#-</span></span><span class=\"plain \" ><span class=\"txtp\">re-</span></span><span class=\"plain \" ><span class=\"txtp\">e-</span></span><span class=\"plain \" ><span class=\"txtp\">em </span></span></span></span> </div><div class=\"meta\"><div class=\"features\"></div></div></div><div class=\"contnr word \" ><div class=\"lbl word\"><span class=\"txtp\"><span class=\"plain outer  \" ><span class=\"plain \" ><span class=\"txtp\">ka-</span></span><span class=\"plain \" ><span class=\"txtp\">mi-</span></span><span class=\"plain \" ><span class=\"txtp\">is</span></span></span></span> </div><div class=\"meta\"><div class=\"features\"></div></div></div></div></div><div class=\"contnr line \" ><div class=\"lbl line\"><span class=\"txtn\">5</span> </div><div class=\"meta\"><div class=\"features\"></div></div><div class=\"children line\"><div class=\"contnr word \" ><div class=\"lbl word\"><span class=\"txtp\"><span class=\"plain outer  \" ><span class=\"plain \" ><span class=\"txtp\">sze-</span></span><span class=\"plain \" ><span class=\"txtp\">e </span></span></span></span> </div><div class=\"meta\"><div class=\"features\"></div></div></div><div class=\"contnr word \" ><div class=\"lbl word\"><span class=\"txtp\"><span class=\"plain outer  \" ><span class=\"plain \" ><span class=\"txtp\">iri-</span></span><span class=\"plain \" ><span class=\"txtp\">{d}</span></span><span class=\"plain \" ><span class=\"txtp\">gu-</span></span><span class=\"plain \" ><span class=\"txtp\">la</span></span><span class=\"plain \" ><span class=\"txtp\">{ki} </span></span></span></span> </div><div class=\"meta\"><div class=\"features\"></div></div></div><div class=\"contnr word \" ><div class=\"lbl word\"><span class=\"txtp\"><span class=\"plain outer  \" ><span class=\"plain \" ><span class=\"txtp\">a-</span></span><span class=\"plain \" ><span class=\"txtp\">na </span></span></span></span> </div><div class=\"meta\"><div class=\"features\"></div></div></div><div class=\"contnr word \" ><div class=\"lbl word\"><span class=\"txtp\"><span class=\"plain outer  \" ><span class=\"plain \" ><span class=\"txtp\">zimbir</span></span><span class=\"plain \" ><span class=\"txtp\">{ki} </span></span></span></span> </div><div class=\"meta\"><div class=\"features\"></div></div></div><div class=\"contnr word \" ><div class=\"lbl word\"><span class=\"txtp\"><span class=\"plain outer  \" ><span class=\"plain \" ><span class=\"txtp\">at-</span></span><span class=\"plain \" ><span class=\"txtp\">ba-</span></span><span class=\"plain \" ><span class=\"txtp\">lam</span></span></span></span> </div><div class=\"meta\"><div class=\"features\"></div></div></div></div></div><div class=\"contnr line \" ><div class=\"lbl line\"><span class=\"txtn\">6</span> </div><div class=\"meta\"><div class=\"features\"></div></div><div class=\"children line\"><div class=\"contnr word \" ><div class=\"lbl word\"><span class=\"txtp\"><span class=\"plain outer  \" ><span class=\"plain \" ><span class=\"txtp\">i-</span></span><span class=\"plain \" ><span class=\"txtp\">na </span></span></span></span> </div><div class=\"meta\"><div class=\"features\"></div></div></div><div class=\"contnr word \" ><div class=\"lbl word\"><span class=\"txtp\"><span class=\"plain outer  \" ><span class=\"plain \" ><span class=\"txtp\">_u4 </span></span></span></span> </div><div class=\"meta\"><div class=\"features\"></div></div></div><div class=\"contnr word \" ><div class=\"lbl word\"><span class=\"txtp\"><span class=\"plain outer  \" ><span class=\"plain \" ><span class=\"txtp\">1(u) </span></span></span></span> </div><div class=\"meta\"><div class=\"features\"></div></div></div><div class=\"contnr word \" ><div class=\"lbl word\"><span class=\"txtp\"><span class=\"plain outer  \" ><span class=\"plain hlbx\" ><span class=\"txtp\">4(disz)-</span></span><span class=\"plain \" ><span class=\"txtp\">kam_ </span></span></span></span> </div><div class=\"meta\"><div class=\"features\"></div></div></div><div class=\"contnr word \" ><div class=\"lbl word\"><span class=\"txtp\"><span class=\"plain outer  \" ><span class=\"plain \" ><span class=\"txtp\">sza </span></span></span></span> </div><div class=\"meta\"><div class=\"features\"></div></div></div><div class=\"contnr word \" ><div class=\"lbl word\"><span class=\"txtp\"><span class=\"plain outer  \" ><span class=\"plain \" ><span class=\"txtp\">_iti </span></span></span></span> </div><div class=\"meta\"><div class=\"features\"></div></div></div><div class=\"contnr word \" ><div class=\"lbl word\"><span class=\"txtp\"><span class=\"plain outer  \" ><span class=\"plain \" ><span class=\"txtp\">NE-</span></span><span class=\"plain \" ><span class=\"txtp\">NE-</span></span><span class=\"plain \" ><span class=\"txtp\">gar_ </span></span></span></span> </div><div class=\"meta\"><div class=\"features\"></div></div></div><div class=\"contnr word \" ><div class=\"lbl word\"><span class=\"txtp\"><span class=\"plain outer  \" ><span class=\"plain \" ><span class=\"txtp\">a-</span></span><span class=\"plain \" ><span class=\"txtp\">na </span></span></span></span> </div><div class=\"meta\"><div class=\"features\"></div></div></div><div class=\"contnr word \" ><div class=\"lbl word\"><span class=\"txtp\"><span class=\"plain outer  \" ><span class=\"plain \" ><span class=\"txtp\">sze-</span></span><span class=\"plain \" ><span class=\"txtp\">e </span></span></span></span> </div><div class=\"meta\"><div class=\"features\"></div></div></div><div class=\"contnr word \" ><div class=\"lbl word\"><span class=\"txtp\"><span class=\"plain outer  \" ><span class=\"plain \" ><span class=\"txtp\">szu-</span></span><span class=\"plain \" ><span class=\"txtp\">ut-</span></span><span class=\"plain \" ><span class=\"txtp\">_sipa-</span></span><span class=\"plain \" ><span class=\"txtp\">mesz_</span></span><span class=\"plain \" ><span class=\"txtp\">{ki}</span></span></span></span> </div><div class=\"meta\"><div class=\"features\"></div></div></div></div></div><div class=\"contnr line \" ><div class=\"lbl line\"><span class=\"txtn\">7</span> </div><div class=\"meta\"><div class=\"features\"></div></div><div class=\"children line\"><div class=\"contnr word \" ><div class=\"lbl word\"><span class=\"txtp\"><span class=\"plain outer  \" ><span class=\"plain \" ><span class=\"txtp\">pa-</span></span><span class=\"plain \" ><span class=\"txtp\">sza-</span></span><span class=\"plain \" ><span class=\"txtp\">ri-</span></span><span class=\"plain \" ><span class=\"txtp\">im </span></span></span></span> </div><div class=\"meta\"><div class=\"features\"></div></div></div><div class=\"contnr word \" ><div class=\"lbl word\"><span class=\"txtp\"><span class=\"plain outer  \" ><span class=\"plain \" ><span class=\"txtp\">qa2-</span></span><span class=\"plain \" ><span class=\"txtp\">ti </span></span></span></span> </div><div class=\"meta\"><div class=\"features\"></div></div></div><div class=\"contnr word \" ><div class=\"lbl word\"><span class=\"txtp\"><span class=\"plain outer  \" ><span class=\"plain \" ><span class=\"txtp\">a-</span></span><span class=\"plain \" ><span class=\"txtp\">sza-</span></span><span class=\"plain \" ><span class=\"txtp\">ak-</span></span><span class=\"plain \" ><span class=\"txtp\">ka-</span></span><span class=\"plain \" ><span class=\"txtp\">an</span></span></span></span> </div><div class=\"meta\"><div class=\"features\"></div></div></div></div></div><div class=\"contnr line \" ><div class=\"lbl line\"><span class=\"txtn\">8</span> </div><div class=\"meta\"><div class=\"features\"></div></div><div class=\"children line\"><div class=\"contnr word \" ><div class=\"lbl word\"><span class=\"txtp\"><span class=\"plain outer  \" ><span class=\"plain \" ><span class=\"txtp\">asz#-</span></span><span class=\"plain \" ><span class=\"txtp\">szum </span></span></span></span> </div><div class=\"meta\"><div class=\"features\"></div></div></div><div class=\"contnr word \" ><div class=\"lbl word\"><span class=\"txtp\"><span class=\"plain outer  \" ><span class=\"plain \" ><span class=\"txtp\">sza </span></span></span></span> </div><div class=\"meta\"><div class=\"features\"></div></div></div><div class=\"contnr word \" ><div class=\"lbl word\"><span class=\"txtp\"><span class=\"plain outer  \" ><span class=\"plain \" ><span class=\"txtp\">um-</span></span><span class=\"plain \" ><span class=\"txtp\">ma </span></span></span></span> </div><div class=\"meta\"><div class=\"features\"></div></div></div><div class=\"contnr word \" ><div class=\"lbl word\"><span class=\"txtp\"><span class=\"plain outer  \" ><span class=\"plain \" ><span class=\"txtp\">be-</span></span><span class=\"plain \" ><span class=\"txtp\">li2-</span></span><span class=\"plain \" ><span class=\"txtp\">ma </span></span></span></span> </div><div class=\"meta\"><div class=\"features\"></div></div></div><div class=\"contnr word \" ><div class=\"lbl word\"><span class=\"txtp\"><span class=\"plain outer  \" ><span class=\"plain \" ><span class=\"txtp\">sza </span></span></span></span> </div><div class=\"meta\"><div class=\"features\"></div></div></div><div class=\"contnr word \" ><div class=\"lbl word\"><span class=\"txtp\"><span class=\"plain outer  \" ><span class=\"plain \" ><span class=\"txtp\">isz-</span></span><span class=\"plain \" ><span class=\"txtp\">ku-</span></span><span class=\"plain \" ><span class=\"txtp\">un-</span></span><span class=\"plain \" ><span class=\"txtp\">{d}</span></span><span class=\"plain \" ><span class=\"txtp\">en-</span></span><span class=\"plain \" ><span class=\"txtp\">lil2</span></span><span class=\"plain \" ><span class=\"txtp\">{ki}</span></span></span></span> </div><div class=\"meta\"><div class=\"features\"></div></div></div></div></div><div class=\"contnr line \" ><div class=\"lbl line\"><span class=\"txtn\">9</span> </div><div class=\"meta\"><div class=\"features\"></div></div><div class=\"children line\"><div class=\"contnr word \" ><div class=\"lbl word\"><span class=\"txtp\"><span class=\"plain outer  \" ><span class=\"plain \" ><span class=\"txtp\">i-</span></span><span class=\"plain \" ><span class=\"txtp\">na </span></span></span></span> </div><div class=\"meta\"><div class=\"features\"></div></div></div><div class=\"contnr word \" ><div class=\"lbl word\"><span class=\"txtp\"><span class=\"plain outer  \" ><span class=\"plain \" ><span class=\"txtp\">pa-</span></span><span class=\"plain \" ><span class=\"txtp\">ni-</span></span><span class=\"plain \" ><span class=\"txtp\">ka </span></span></span></span> </div><div class=\"meta\"><div class=\"features\"></div></div></div><div class=\"contnr word \" ><div class=\"lbl word\"><span class=\"txtp\"><span class=\"plain outer  \" ><span class=\"plain \" ><span class=\"txtp\">sze-</span></span><span class=\"plain \" ><span class=\"txtp\">am </span></span></span></span> </div><div class=\"meta\"><div class=\"features\"></div></div></div><div class=\"contnr word \" ><div class=\"lbl word\"><span class=\"txtp\"><span class=\"plain outer  \" ><span class=\"plain \" ><span class=\"txtp\">am-</span></span><span class=\"plain \" ><span class=\"txtp\">mi-</span></span><span class=\"plain \" ><span class=\"txtp\">ni </span></span></span></span> </div><div class=\"meta\"><div class=\"features\"></div></div></div><div class=\"contnr word \" ><div class=\"lbl word\"><span class=\"txtp\"><span class=\"plain outer  \" ><span class=\"plain \" ><span class=\"txtp\">ik-</span></span><span class=\"plain \" ><span class=\"txtp\">mi-</span></span><span class=\"plain \" ><span class=\"txtp\">su-</span></span><span class=\"plain \" ><span class=\"txtp\">nim</span></span></span></span> </div><div class=\"meta\"><div class=\"features\"></div></div></div></div></div><div class=\"contnr line \" ><div class=\"lbl line\"><span class=\"txtn\">10</span> </div><div class=\"meta\"><div class=\"features\"></div></div><div class=\"children line\"><div class=\"contnr word \" ><div class=\"lbl word\"><span class=\"txtp\"><span class=\"plain outer  \" ><span class=\"plain \" ><span class=\"txtp\">isz-</span></span><span class=\"plain \" ><span class=\"txtp\">tu </span></span></span></span> </div><div class=\"meta\"><div class=\"features\"></div></div></div><div class=\"contnr word \" ><div class=\"lbl word\"><span class=\"txtp\"><span class=\"plain outer  \" ><span class=\"plain \" ><span class=\"txtp\">du#-</span></span><span class=\"plain \" ><span class=\"txtp\">ri-</span></span><span class=\"plain \" ><span class=\"txtp\">im </span></span></span></span> </div><div class=\"meta\"><div class=\"features\"></div></div></div><div class=\"contnr word \" ><div class=\"lbl word\"><span class=\"txtp\"><span class=\"plain outer  \" ><span class=\"plain \" ><span class=\"txtp\">ma-</span></span><span class=\"plain \" ><span class=\"txtp\">ti-</span></span><span class=\"plain \" ><span class=\"txtp\">ma </span></span></span></span> </div><div class=\"meta\"><div class=\"features\"></div></div></div><div class=\"contnr word \" ><div class=\"lbl word\"><span class=\"txtp\"><span class=\"plain outer  \" ><span class=\"plain \" ><span class=\"txtp\">sze-</span></span><span class=\"plain \" ><span class=\"txtp\">am# </span></span></span></span> </div><div class=\"meta\"><div class=\"features\"></div></div></div><div class=\"contnr word \" ><div class=\"lbl word\"><span class=\"txtp\"><span class=\"plain outer  \" ><span class=\"plain \" ><span class=\"txtp\">i-</span></span><span class=\"plain \" ><span class=\"txtp\">na </span></span></span></span> </div><div class=\"meta\"><div class=\"features\"></div></div></div><div class=\"contnr word \" ><div class=\"lbl word\"><span class=\"txtp\"><span class=\"plain outer  \" ><span class=\"plain \" ><span class=\"txtp\">pa-</span></span><span class=\"plain \" ><span class=\"txtp\">ni-</span></span><span class=\"plain \" ><span class=\"txtp\">ia#</span></span></span></span> </div><div class=\"meta\"><div class=\"features\"></div></div></div></div></div><div class=\"contnr line \" ><div class=\"lbl line\"><span class=\"txtn\">11</span> </div><div class=\"meta\"><div class=\"features\"></div></div><div class=\"children line\"><div class=\"contnr word \" ><div class=\"lbl word\"><span class=\"txtp\"><span class=\"plain outer  \" ><span class=\"plain \" ><span class=\"txtp\">u2-</span></span><span class=\"plain \" ><span class=\"txtp\">ul </span></span></span></span> </div><div class=\"meta\"><div class=\"features\"></div></div></div><div class=\"contnr word \" ><div class=\"lbl word\"><span class=\"txtp\"><span class=\"plain outer  \" ><span class=\"plain \" ><span class=\"txtp\">ik-</span></span><span class=\"plain \" ><span class=\"txtp\">mi-</span></span><span class=\"plain \" ><span class=\"txtp\">su-</span></span><span class=\"plain \" ><span class=\"txtp\">nim </span></span></span></span> </div><div class=\"meta\"><div class=\"features\"></div></div></div><div class=\"contnr word \" ><div class=\"lbl word\"><span class=\"txtp\"><span class=\"plain outer  \" ><span class=\"plain \" ><span class=\"txtp\">{disz}</span></span><span class=\"plain \" ><span class=\"txtp\">a-</span></span><span class=\"plain \" ><span class=\"txtp\">pil2-</span></span><span class=\"plain \" ><span class=\"txtp\">{d}</span></span><span class=\"plain \" ><span class=\"txtp\">ki-</span></span><span class=\"plain \" ><span class=\"txtp\">it-</span></span><span class=\"plain \" ><span class=\"txtp\">tum#</span></span></span></span> </div><div class=\"meta\"><div class=\"features\"></div></div></div></div></div><div class=\"contnr line \" ><div class=\"lbl line\"><span class=\"txtn\">12</span> </div><div class=\"meta\"><div class=\"features\"></div></div><div class=\"children line\"><div class=\"contnr word \" ><div class=\"lbl word\"><span class=\"txtp\"><span class=\"plain outer  \" ><span class=\"plain \" ><span class=\"txtp\">_dumu_ </span></span></span></span> </div><div class=\"meta\"><div class=\"features\"></div></div></div><div class=\"contnr word \" ><div class=\"lbl word\"><span class=\"txtp\"><span class=\"plain outer  \" ><span class=\"plain \" ><span class=\"txtp\">hi-</span></span><span class=\"plain \" ><span class=\"txtp\">IZ-</span></span><span class=\"plain \" ><span class=\"txtp\">BI-</span></span><span class=\"plain \" ><span class=\"txtp\">SZI </span></span></span></span> </div><div class=\"meta\"><div class=\"features\"></div></div></div><div class=\"contnr word \" ><div class=\"lbl word\"><span class=\"txtp\"><span class=\"plain outer  \" ><span class=\"plain hlbx\" ><span class=\"txtp\">5(disz) </span></span></span></span> </div><div class=\"meta\"><div class=\"features\"></div></div></div><div class=\"contnr word \" ><div class=\"lbl word\"><span class=\"txtp\"><span class=\"plain outer  \" ><span class=\"plain \" ><span class=\"txtp\">szu-</span></span><span class=\"plain \" ><span class=\"txtp\">szi </span></span></span></span> </div><div class=\"meta\"><div class=\"features\"></div></div></div><div class=\"contnr word \" ><div class=\"lbl word\"><span class=\"txtp\"><span class=\"plain outer  \" ><span class=\"plain \" ><span class=\"txtp\">_sze </span></span></span></span> </div><div class=\"meta\"><div class=\"features\"></div></div></div><div class=\"contnr word \" ><div class=\"lbl word\"><span class=\"txtp\"><span class=\"plain outer  \" ><span class=\"plain \" ><span class=\"txtp\">gur_ </span></span></span></span> </div><div class=\"meta\"><div class=\"features\"></div></div></div><div class=\"contnr word \" ><div class=\"lbl word\"><span class=\"txtp\"><span class=\"plain outer  \" ><span class=\"plain \" ><span class=\"txtp\">sza# </span></span></span></span> </div><div class=\"meta\"><div class=\"features\"></div></div></div><div class=\"contnr word \" ><div class=\"lbl word\"><span class=\"txtp\"><span class=\"plain outer  \" ><span class=\"plain \" ><span class=\"txtp\">a-</span></span><span class=\"plain \" ><span class=\"txtp\">na# </span></span></span></span> </div><div class=\"meta\"><div class=\"features\"></div></div></div><div class=\"contnr word \" ><div class=\"lbl word\"><span class=\"txtp\"><span class=\"plain outer  \" ><span class=\"plain \" ><span class=\"txtp\">x </span></span></span></span> </div><div class=\"meta\"><div class=\"features\"></div></div></div><div class=\"contnr word \" ><div class=\"lbl word\"><span class=\"txtp\"><span class=\"plain outer  \" ><span class=\"plain \" ><span class=\"txtp\">[x </span></span></span></span> </div><div class=\"meta\"><div class=\"features\"></div></div></div><div class=\"contnr word \" ><div class=\"lbl word\"><span class=\"txtp\"><span class=\"plain outer  \" ><span class=\"plain \" ><span class=\"txtp\">(x)]</span></span></span></span> </div><div class=\"meta\"><div class=\"features\"></div></div></div></div></div><div class=\"contnr line \" ><div class=\"lbl line\"><span class=\"txtn\">13</span> </div><div class=\"meta\"><div class=\"features\"></div></div><div class=\"children line\"><div class=\"contnr word \" ><div class=\"lbl word\"><span class=\"txtp\"><span class=\"plain outer  \" ><span class=\"plain \" ><span class=\"txtp\">u3 </span></span></span></span> </div><div class=\"meta\"><div class=\"features\"></div></div></div><div class=\"contnr word \" ><div class=\"lbl word\"><span class=\"txtp\"><span class=\"plain outer  \" ><span class=\"plain \" ><span class=\"txtp\">i-</span></span><span class=\"plain \" ><span class=\"txtp\">na </span></span></span></span> </div><div class=\"meta\"><div class=\"features\"></div></div></div><div class=\"contnr word \" ><div class=\"lbl word\"><span class=\"txtp\"><span class=\"plain outer  \" ><span class=\"plain \" ><span class=\"txtp\">zu-</span></span><span class=\"plain \" ><span class=\"txtp\">mur </span></span></span></span> </div><div class=\"meta\"><div class=\"features\"></div></div></div><div class=\"contnr word \" ><div class=\"lbl word\"><span class=\"txtp\"><span class=\"plain outer  \" ><span class=\"plain \" ><span class=\"txtp\">_iri</span></span><span class=\"plain \" ><span class=\"txtp\">{ki}_ </span></span></span></span> </div><div class=\"meta\"><div class=\"features\"></div></div></div><div class=\"contnr word \" ><div class=\"lbl word\"><span class=\"txtp\"><span class=\"plain outer  \" ><span class=\"plain \" ><span class=\"txtp\">2(disz) </span></span></span></span> </div><div class=\"meta\"><div class=\"features\"></div></div></div><div class=\"contnr word \" ><div class=\"lbl word\"><span class=\"txtp\"><span class=\"plain outer  \" ><span class=\"plain \" ><span class=\"txtp\">szu-</span></span><span class=\"plain \" ><span class=\"txtp\">szi </span></span></span></span> </div><div class=\"meta\"><div class=\"features\"></div></div></div><div class=\"contnr word \" ><div class=\"lbl word\"><span class=\"txtp\"><span class=\"plain outer  \" ><span class=\"plain \" ><span class=\"txtp\">x </span></span></span></span> </div><div class=\"meta\"><div class=\"features\"></div></div></div><div class=\"contnr word \" ><div class=\"lbl word\"><span class=\"txtp\"><span class=\"plain outer  \" ><span class=\"plain \" ><span class=\"txtp\">[...]</span></span></span></span> </div><div class=\"meta\"><div class=\"features\"></div></div></div></div></div><div class=\"contnr line \" ><div class=\"lbl line\"><span class=\"txtn\">14</span> </div><div class=\"meta\"><div class=\"features\"></div></div><div class=\"children line\"><div class=\"contnr word \" ><div class=\"lbl word\"><span class=\"txtp\"><span class=\"plain outer  \" ><span class=\"plain \" ><span class=\"txtp\">_iri</span></span><span class=\"plain \" ><span class=\"txtp\">{ki}_ </span></span></span></span> </div><div class=\"meta\"><div class=\"features\"></div></div></div><div class=\"contnr word \" ><div class=\"lbl word\"><span class=\"txtp\"><span class=\"plain outer  \" ><span class=\"plain \" ><span class=\"txtp\">ka-</span></span><span class=\"plain \" ><span class=\"txtp\">lu-</span></span><span class=\"plain \" ><span class=\"txtp\">szu </span></span></span></span> </div><div class=\"meta\"><div class=\"features\"></div></div></div><div class=\"contnr word \" ><div class=\"lbl word\"><span class=\"txtp\"><span class=\"plain outer  \" ><span class=\"plain \" ><span class=\"txtp\">a-</span></span><span class=\"plain \" ><span class=\"txtp\">na </span></span></span></span> </div><div class=\"meta\"><div class=\"features\"></div></div></div><div class=\"contnr word \" ><div class=\"lbl word\"><span class=\"txtp\"><span class=\"plain outer  \" ><span class=\"plain \" ><span class=\"txtp\">szu-</span></span><span class=\"plain \" ><span class=\"txtp\">nu-</span></span><span class=\"plain \" ><span class=\"txtp\">szi-</span></span><span class=\"plain \" ><span class=\"txtp\">im-</span></span><span class=\"plain \" ><span class=\"txtp\">ma </span></span></span></span> </div><div class=\"meta\"><div class=\"features\"></div></div></div><div class=\"contnr word \" ><div class=\"lbl word\"><span class=\"txtp\"><span class=\"plain outer  \" ><span class=\"plain \" ><span class=\"txtp\">x </span></span></span></span> </div><div class=\"meta\"><div class=\"features\"></div></div></div><div class=\"contnr word \" ><div class=\"lbl word\"><span class=\"txtp\"><span class=\"plain outer  \" ><span class=\"plain \" ><span class=\"txtp\">[...]</span></span></span></span> </div><div class=\"meta\"><div class=\"features\"></div></div></div></div></div><div class=\"contnr line \" ><div class=\"lbl line\"><span class=\"txtn\">15</span> </div><div class=\"meta\"><div class=\"features\"></div></div><div class=\"children line\"><div class=\"contnr word \" ><div class=\"lbl word\"><span class=\"txtp\"><span class=\"plain outer  \" ><span class=\"plain \" ><span class=\"txtp\">isz-</span></span><span class=\"plain \" ><span class=\"txtp\">tu </span></span></span></span> </div><div class=\"meta\"><div class=\"features\"></div></div></div><div class=\"contnr word \" ><div class=\"lbl word\"><span class=\"txtp\"><span class=\"plain outer  \" ><span class=\"plain \" ><span class=\"txtp\">sze-</span></span><span class=\"plain \" ><span class=\"txtp\">um </span></span></span></span> </div><div class=\"meta\"><div class=\"features\"></div></div></div><div class=\"contnr word \" ><div class=\"lbl word\"><span class=\"txtp\"><span class=\"plain outer  \" ><span class=\"plain \" ><span class=\"txtp\">a-</span></span><span class=\"plain \" ><span class=\"txtp\">na </span></span></span></span> </div><div class=\"meta\"><div class=\"features\"></div></div></div><div class=\"contnr word \" ><div class=\"lbl word\"><span class=\"txtp\"><span class=\"plain outer  \" ><span class=\"plain \" ><span class=\"txtp\">ma-</span></span><span class=\"plain \" ><span class=\"txtp\">asz-</span></span><span class=\"plain \" ><span class=\"txtp\">ka-</span></span><span class=\"plain \" ><span class=\"txtp\">nim </span></span></span></span> </div><div class=\"meta\"><div class=\"features\"></div></div></div><div class=\"contnr word \" ><div class=\"lbl word\"><span class=\"txtp\"><span class=\"plain outer  \" ><span class=\"plain \" ><span class=\"txtp\">i-</span></span><span class=\"plain \" ><span class=\"txtp\">lu-</span></span><span class=\"plain \" ><span class=\"txtp\">u2</span></span></span></span> </div><div class=\"meta\"><div class=\"features\"></div></div></div></div></div><div class=\"contnr line \" ><div class=\"lbl line\"><span class=\"txtn\">16</span> </div><div class=\"meta\"><div class=\"features\"></div></div><div class=\"children line\"><div class=\"contnr word \" ><div class=\"lbl word\"><span class=\"txtp\"><span class=\"plain outer  \" ><span class=\"plain \" ><span class=\"txtp\">_3(u) </span></span></span></span> </div><div class=\"meta\"><div class=\"features\"></div></div></div><div class=\"contnr word \" ><div class=\"lbl word\"><span class=\"txtp\"><span class=\"plain outer  \" ><span class=\"plain \" ><span class=\"txtp\">aga-</span></span><span class=\"plain \" ><span class=\"txtp\">us2-</span></span><span class=\"plain \" ><span class=\"txtp\">ta-</span></span><span class=\"plain \" ><span class=\"txtp\">am3_ </span></span></span></span> </div><div class=\"meta\"><div class=\"features\"></div></div></div><div class=\"contnr word \" ><div class=\"lbl word\"><span class=\"txtp\"><span class=\"plain outer  \" ><span class=\"plain \" ><span class=\"txtp\">i-</span></span><span class=\"plain \" ><span class=\"txtp\">na </span></span></span></span> </div><div class=\"meta\"><div class=\"features\"></div></div></div><div class=\"contnr word \" ><div class=\"lbl word\"><span class=\"txtp\"><span class=\"plain outer  \" ><span class=\"plain \" ><span class=\"txtp\">ma-</span></span><span class=\"plain \" ><span class=\"txtp\">ah-</span></span><span class=\"plain \" ><span class=\"txtp\">ri-</span></span><span class=\"plain \" ><span class=\"txtp\">szu-</span></span><span class=\"plain \" ><span class=\"txtp\">nu#</span></span></span></span> </div><div class=\"meta\"><div class=\"features\"></div></div></div></div></div><div class=\"contnr line \" ><div class=\"lbl line\"><span class=\"txtn\">17</span> </div><div class=\"meta\"><div class=\"features\"></div></div><div class=\"children line\"><div class=\"contnr word \" ><div class=\"lbl word\"><span class=\"txtp\"><span class=\"plain outer  \" ><span class=\"plain \" ><span class=\"txtp\">u2-</span></span><span class=\"plain \" ><span class=\"txtp\">ul </span></span></span></span> </div><div class=\"meta\"><div class=\"features\"></div></div></div><div class=\"contnr word \" ><div class=\"lbl word\"><span class=\"txtp\"><span class=\"plain outer  \" ><span class=\"plain \" ><span class=\"txtp\">ip-</span></span><span class=\"plain \" ><span class=\"txtp\">pa-</span></span><span class=\"plain \" ><span class=\"txtp\">at,-</span></span><span class=\"plain \" ><span class=\"txtp\">t,a-</span></span><span class=\"plain \" ><span class=\"txtp\">ru </span></span></span></span> </div><div class=\"meta\"><div class=\"features\"></div></div></div><div class=\"contnr word \" ><div class=\"lbl word\"><span class=\"txtp\"><span class=\"plain outer  \" ><span class=\"plain \" ><span class=\"txtp\">a-</span></span><span class=\"plain \" ><span class=\"txtp\">na-</span></span><span class=\"plain \" ><span class=\"txtp\">ku </span></span></span></span> </div><div class=\"meta\"><div class=\"features\"></div></div></div><div class=\"contnr word \" ><div class=\"lbl word\"><span class=\"txtp\"><span class=\"plain outer  \" ><span class=\"plain \" ><span class=\"txtp\">i-</span></span><span class=\"plain \" ><span class=\"txtp\">na# </span></span></span></span> </div><div class=\"meta\"><div class=\"features\"></div></div></div><div class=\"contnr word \" ><div class=\"lbl word\"><span class=\"txtp\"><span class=\"plain outer  \" ><span class=\"plain \" ><span class=\"txtp\">_lu2# </span></span></span></span> </div><div class=\"meta\"><div class=\"features\"></div></div></div><div class=\"contnr word \" ><div class=\"lbl word\"><span class=\"txtp\"><span class=\"plain outer  \" ><span class=\"plain \" ><span class=\"txtp\">hun-</span></span><span class=\"plain \" ><span class=\"txtp\">ga2-</span></span><span class=\"plain \" ><span class=\"txtp\">mesz#_-</span></span><span class=\"plain \" ><span class=\"txtp\">ma</span></span></span></span> </div><div class=\"meta\"><div class=\"features\"></div></div></div></div></div><div class=\"contnr line \" ><div class=\"lbl line\"><span class=\"txtn\">18</span> </div><div class=\"meta\"><div class=\"features\"></div></div><div class=\"children line\"><div class=\"contnr word \" ><div class=\"lbl word\"><span class=\"txtp\"><span class=\"plain outer  \" ><span class=\"plain \" ><span class=\"txtp\">am-</span></span><span class=\"plain \" ><span class=\"txtp\">ta-</span></span><span class=\"plain \" ><span class=\"txtp\">ah-</span></span><span class=\"plain \" ><span class=\"txtp\">ha-</span></span><span class=\"plain \" ><span class=\"txtp\">as, </span></span></span></span> </div><div class=\"meta\"><div class=\"features\"></div></div></div><div class=\"contnr word \" ><div class=\"lbl word\"><span class=\"txtp\"><span class=\"plain outer  \" ><span class=\"plain \" ><span class=\"txtp\">i-</span></span><span class=\"plain \" ><span class=\"txtp\">na </span></span></span></span> </div><div class=\"meta\"><div class=\"features\"></div></div></div><div class=\"contnr word \" ><div class=\"lbl word\"><span class=\"txtp\"><span class=\"plain outer  \" ><span class=\"plain \" ><span class=\"txtp\">pa-</span></span><span class=\"plain \" ><span class=\"txtp\">ni-</span></span><span class=\"plain \" ><span class=\"txtp\">ia </span></span></span></span> </div><div class=\"meta\"><div class=\"features\"></div></div></div><div class=\"contnr word \" ><div class=\"lbl word\"><span class=\"txtp\"><span class=\"plain outer  \" ><span class=\"plain \" ><span class=\"txtp\">ki-</span></span><span class=\"plain \" ><span class=\"txtp\">i#-</span></span><span class=\"plain \" ><span class=\"txtp\">[x]-</span></span><span class=\"plain \" ><span class=\"txtp\">x-</span></span><span class=\"plain \" ><span class=\"txtp\">ka-</span></span><span class=\"plain \" ><span class=\"txtp\">am</span></span></span></span> </div><div class=\"meta\"><div class=\"features\"></div></div></div></div></div><div class=\"contnr line \" ><div class=\"lbl line\"><span class=\"txtn\">19</span> </div><div class=\"meta\"><div class=\"features\"></div></div><div class=\"children line\"><div class=\"contnr word \" ><div class=\"lbl word\"><span class=\"txtp\"><span class=\"plain outer  \" ><span class=\"plain \" ><span class=\"txtp\">asz-</span></span><span class=\"plain \" ><span class=\"txtp\">szum </span></span></span></span> </div><div class=\"meta\"><div class=\"features\"></div></div></div><div class=\"contnr word \" ><div class=\"lbl word\"><span class=\"txtp\"><span class=\"plain outer  \" ><span class=\"plain \" ><span class=\"txtp\">sze-</span></span><span class=\"plain \" ><span class=\"txtp\">e </span></span></span></span> </div><div class=\"meta\"><div class=\"features\"></div></div></div><div class=\"contnr word \" ><div class=\"lbl word\"><span class=\"txtp\"><span class=\"plain outer  \" ><span class=\"plain \" ><span class=\"txtp\">hal-</span></span><span class=\"plain \" ><span class=\"txtp\">hal-</span></span><span class=\"plain \" ><span class=\"txtp\">la</span></span><span class=\"plain \" ><span class=\"txtp\">{ki} </span></span></span></span> </div><div class=\"meta\"><div class=\"features\"></div></div></div><div class=\"contnr word \" ><div class=\"lbl word\"><span class=\"txtp\"><span class=\"plain outer  \" ><span class=\"plain \" ><span class=\"txtp\">sza </span></span></span></span> </div><div class=\"meta\"><div class=\"features\"></div></div></div><div class=\"contnr word \" ><div class=\"lbl word\"><span class=\"txtp\"><span class=\"plain outer  \" ><span class=\"plain \" ><span class=\"txtp\">[x </span></span></span></span> </div><div class=\"meta\"><div class=\"features\"></div></div></div><div class=\"contnr word \" ><div class=\"lbl word\"><span class=\"txtp\"><span class=\"plain outer  \" ><span class=\"plain \" ><span class=\"txtp\">x </span></span></span></span> </div><div class=\"meta\"><div class=\"features\"></div></div></div><div class=\"contnr word \" ><div class=\"lbl word\"><span class=\"txtp\"><span class=\"plain outer  \" ><span class=\"plain \" ><span class=\"txtp\">(x)] </span></span></span></span> </div><div class=\"meta\"><div class=\"features\"></div></div></div><div class=\"contnr word \" ><div class=\"lbl word\"><span class=\"txtp\"><span class=\"plain outer  \" ><span class=\"plain \" ><span class=\"txtp\">x </span></span></span></span> </div><div class=\"meta\"><div class=\"features\"></div></div></div><div class=\"contnr word \" ><div class=\"lbl word\"><span class=\"txtp\"><span class=\"plain outer  \" ><span class=\"plain \" ><span class=\"txtp\">x </span></span></span></span> </div><div class=\"meta\"><div class=\"features\"></div></div></div><div class=\"contnr word \" ><div class=\"lbl word\"><span class=\"txtp\"><span class=\"plain outer  \" ><span class=\"plain \" ><span class=\"txtp\">[...]</span></span></span></span> </div><div class=\"meta\"><div class=\"features\"></div></div></div></div></div><div class=\"contnr line \" ><div class=\"lbl line\"><span class=\"txtn\">20</span> </div><div class=\"meta\"><div class=\"features\"></div></div><div class=\"children line\"><div class=\"contnr word \" ><div class=\"lbl word\"><span class=\"txtp\"><span class=\"plain outer  \" ><span class=\"plain \" ><span class=\"txtp\">x </span></span></span></span> </div><div class=\"meta\"><div class=\"features\"></div></div></div><div class=\"contnr word \" ><div class=\"lbl word\"><span class=\"txtp\"><span class=\"plain outer  \" ><span class=\"plain \" ><span class=\"txtp\">[x </span></span></span></span> </div><div class=\"meta\"><div class=\"features\"></div></div></div><div class=\"contnr word \" ><div class=\"lbl word\"><span class=\"txtp\"><span class=\"plain outer  \" ><span class=\"plain \" ><span class=\"txtp\">x </span></span></span></span> </div><div class=\"meta\"><div class=\"features\"></div></div></div><div class=\"contnr word \" ><div class=\"lbl word\"><span class=\"txtp\"><span class=\"plain outer  \" ><span class=\"plain \" ><span class=\"txtp\">x </span></span></span></span> </div><div class=\"meta\"><div class=\"features\"></div></div></div><div class=\"contnr word \" ><div class=\"lbl word\"><span class=\"txtp\"><span class=\"plain outer  \" ><span class=\"plain \" ><span class=\"txtp\">x </span></span></span></span> </div><div class=\"meta\"><div class=\"features\"></div></div></div><div class=\"contnr word \" ><div class=\"lbl word\"><span class=\"txtp\"><span class=\"plain outer  \" ><span class=\"plain \" ><span class=\"txtp\">x </span></span></span></span> </div><div class=\"meta\"><div class=\"features\"></div></div></div><div class=\"contnr word \" ><div class=\"lbl word\"><span class=\"txtp\"><span class=\"plain outer  \" ><span class=\"plain \" ><span class=\"txtp\">(x)] </span></span></span></span> </div><div class=\"meta\"><div class=\"features\"></div></div></div><div class=\"contnr word \" ><div class=\"lbl word\"><span class=\"txtp\"><span class=\"plain outer  \" ><span class=\"plain \" ><span class=\"txtp\">x-</span></span><span class=\"plain \" ><span class=\"txtp\">ni#-</span></span><span class=\"plain \" ><span class=\"txtp\">isz </span></span></span></span> </div><div class=\"meta\"><div class=\"features\"></div></div></div><div class=\"contnr word \" ><div class=\"lbl word\"><span class=\"txtp\"><span class=\"plain outer  \" ><span class=\"plain \" ><span class=\"txtp\">[...]</span></span></span></span> </div><div class=\"meta\"><div class=\"features\"></div></div></div></div></div><div class=\"contnr line \" ><div class=\"lbl line\"><span class=\"txtn\"><span>$</span>a</span> </div><div class=\"meta\"><div class=\"features\"></div></div></div></div></div>"
      ],
      "text/plain": [
       "<IPython.core.display.HTML object>"
      ]
     },
     "metadata": {},
     "output_type": "display_data"
    },
    {
     "data": {
      "text/html": [
       "<p><b>face</b> <i>2</i></p>"
      ],
      "text/plain": [
       "<IPython.core.display.HTML object>"
      ]
     },
     "metadata": {},
     "output_type": "display_data"
    },
    {
     "data": {
      "text/html": [
       "<div class=\"contnr face \" ><div class=\"lbl face\"><a href=\"https://cdli.ucla.edu/search/search_results.php?SearchMode=Text&amp;ObjectID=P510556\" title=\"P510556 reverse\" sec=\"P510556 reverse\">face <span class=\"txtn\">reverse</span></a> </div><div class=\"meta\"><div class=\"features\"> <span class=\"object\">tablet</span></div></div><div class=\"children face\"><div class=\"contnr line \" ><div class=\"lbl line\"><span class=\"txtn\">1</span> </div><div class=\"meta\"><div class=\"features\"></div></div><div class=\"children line\"><div class=\"contnr word \" ><div class=\"lbl word\"><span class=\"txtp\"><span class=\"plain outer  \" ><span class=\"plain \" ><span class=\"txtp\">a-</span></span><span class=\"plain \" ><span class=\"txtp\">di# </span></span></span></span> </div><div class=\"meta\"><div class=\"features\"></div></div></div><div class=\"contnr word \" ><div class=\"lbl word\"><span class=\"txtp\"><span class=\"plain outer  \" ><span class=\"plain \" ><span class=\"txtp\">i-</span></span><span class=\"plain \" ><span class=\"txtp\">na#-</span></span><span class=\"plain \" ><span class=\"txtp\">an#-</span></span><span class=\"plain \" ><span class=\"txtp\">na# </span></span></span></span> </div><div class=\"meta\"><div class=\"features\"></div></div></div><div class=\"contnr word \" ><div class=\"lbl word\"><span class=\"txtp\"><span class=\"plain outer  \" ><span class=\"plain \" ><span class=\"txtp\">x </span></span></span></span> </div><div class=\"meta\"><div class=\"features\"></div></div></div><div class=\"contnr word \" ><div class=\"lbl word\"><span class=\"txtp\"><span class=\"plain outer  \" ><span class=\"plain \" ><span class=\"txtp\">[...]</span></span></span></span> </div><div class=\"meta\"><div class=\"features\"></div></div></div></div></div><div class=\"contnr line \" ><div class=\"lbl line\"><span class=\"txtn\">2</span> </div><div class=\"meta\"><div class=\"features\"></div></div><div class=\"children line\"><div class=\"contnr word \" ><div class=\"lbl word\"><span class=\"txtp\"><span class=\"plain outer  \" ><span class=\"plain \" ><span class=\"txtp\">sze-</span></span><span class=\"plain \" ><span class=\"txtp\">e </span></span></span></span> </div><div class=\"meta\"><div class=\"features\"></div></div></div><div class=\"contnr word \" ><div class=\"lbl word\"><span class=\"txtp\"><span class=\"plain outer  \" ><span class=\"plain \" ><span class=\"txtp\">be-</span></span><span class=\"plain \" ><span class=\"txtp\">li2-</span></span><span class=\"plain \" ><span class=\"txtp\">ia </span></span></span></span> </div><div class=\"meta\"><div class=\"features\"></div></div></div><div class=\"contnr word \" ><div class=\"lbl word\"><span class=\"txtp\"><span class=\"plain outer  \" ><span class=\"plain \" ><span class=\"txtp\">ki-</span></span><span class=\"plain \" ><span class=\"txtp\">ma </span></span></span></span> </div><div class=\"meta\"><div class=\"features\"></div></div></div><div class=\"contnr word \" ><div class=\"lbl word\"><span class=\"txtp\"><span class=\"plain outer  \" ><span class=\"plain \" ><span class=\"txtp\">x </span></span></span></span> </div><div class=\"meta\"><div class=\"features\"></div></div></div><div class=\"contnr word \" ><div class=\"lbl word\"><span class=\"txtp\"><span class=\"plain outer  \" ><span class=\"plain \" ><span class=\"txtp\">[...]</span></span></span></span> </div><div class=\"meta\"><div class=\"features\"></div></div></div></div></div><div class=\"contnr line \" ><div class=\"lbl line\"><span class=\"txtn\">3</span> </div><div class=\"meta\"><div class=\"features\"></div></div><div class=\"children line\"><div class=\"contnr word \" ><div class=\"lbl word\"><span class=\"txtp\"><span class=\"plain outer  \" ><span class=\"plain \" ><span class=\"txtp\">sze-</span></span><span class=\"plain \" ><span class=\"txtp\">um </span></span></span></span> </div><div class=\"meta\"><div class=\"features\"></div></div></div><div class=\"contnr word \" ><div class=\"lbl word\"><span class=\"txtp\"><span class=\"plain outer  \" ><span class=\"plain \" ><span class=\"txtp\">sza </span></span></span></span> </div><div class=\"meta\"><div class=\"features\"></div></div></div><div class=\"contnr word \" ><div class=\"lbl word\"><span class=\"txtp\"><span class=\"plain outer  \" ><span class=\"plain \" ><span class=\"txtp\">i-</span></span><span class=\"plain \" ><span class=\"txtp\">na </span></span></span></span> </div><div class=\"meta\"><div class=\"features\"></div></div></div><div class=\"contnr word \" ><div class=\"lbl word\"><span class=\"txtp\"><span class=\"plain outer  \" ><span class=\"plain \" ><span class=\"txtp\">iri-</span></span><span class=\"plain \" ><span class=\"txtp\">{d}</span></span><span class=\"plain \" ><span class=\"txtp\">gu-</span></span><span class=\"plain \" ><span class=\"txtp\">la#</span></span><span class=\"plain \" ><span class=\"txtp\">[{ki} </span></span></span></span> </div><div class=\"meta\"><div class=\"features\"></div></div></div><div class=\"contnr word \" ><div class=\"lbl word\"><span class=\"txtp\"><span class=\"plain outer  \" ><span class=\"plain \" ><span class=\"txtp\">...]</span></span></span></span> </div><div class=\"meta\"><div class=\"features\"></div></div></div></div></div><div class=\"contnr line \" ><div class=\"lbl line\"><span class=\"txtn\">4</span> </div><div class=\"meta\"><div class=\"features\"></div></div><div class=\"children line\"><div class=\"contnr word \" ><div class=\"lbl word\"><span class=\"txtp\"><span class=\"plain outer  \" ><span class=\"plain \" ><span class=\"txtp\">ib-</span></span><span class=\"plain \" ><span class=\"txtp\">ba-</span></span><span class=\"plain \" ><span class=\"txtp\">szu-</span></span><span class=\"plain \" ><span class=\"txtp\">u2 </span></span></span></span> </div><div class=\"meta\"><div class=\"features\"></div></div></div><div class=\"contnr word \" ><div class=\"lbl word\"><span class=\"txtp\"><span class=\"plain outer  \" ><span class=\"plain hlbx\" ><span class=\"txtp\">_5(gesz2) </span></span></span></span> </div><div class=\"meta\"><div class=\"features\"></div></div></div><div class=\"contnr word \" ><div class=\"lbl word\"><span class=\"txtp\"><span class=\"plain outer  \" ><span class=\"plain \" ><span class=\"txtp\">3(u) </span></span></span></span> </div><div class=\"meta\"><div class=\"features\"></div></div></div><div class=\"contnr word \" ><div class=\"lbl word\"><span class=\"txtp\"><span class=\"plain outer  \" ><span class=\"plain \" ><span class=\"txtp\">sze </span></span></span></span> </div><div class=\"meta\"><div class=\"features\"></div></div></div><div class=\"contnr word \" ><div class=\"lbl word\"><span class=\"txtp\"><span class=\"plain outer  \" ><span class=\"plain \" ><span class=\"txtp\">gur </span></span></span></span> </div><div class=\"meta\"><div class=\"features\"></div></div></div><div class=\"contnr word \" ><div class=\"lbl word\"><span class=\"txtp\"><span class=\"plain outer  \" ><span class=\"plain \" ><span class=\"txtp\">{gesz#}</span></span><span class=\"plain \" ><span class=\"txtp\">ban2#_ </span></span></span></span> </div><div class=\"meta\"><div class=\"features\"></div></div></div><div class=\"contnr word \" ><div class=\"lbl word\"><span class=\"txtp\"><span class=\"plain outer  \" ><span class=\"plain \" ><span class=\"txtp\">{gesz#}</span></span><span class=\"plain \" ><span class=\"txtp\">me-</span></span><span class=\"plain \" ><span class=\"txtp\">sze-</span></span><span class=\"plain \" ><span class=\"txtp\">qum#</span></span></span></span> </div><div class=\"meta\"><div class=\"features\"></div></div></div></div></div><div class=\"contnr line \" ><div class=\"lbl line\"><span class=\"txtn\">5</span> </div><div class=\"meta\"><div class=\"features\"></div></div><div class=\"children line\"><div class=\"contnr word \" ><div class=\"lbl word\"><span class=\"txtp\"><span class=\"plain outer  \" ><span class=\"plain \" ><span class=\"txtp\">sza </span></span></span></span> </div><div class=\"meta\"><div class=\"features\"></div></div></div><div class=\"contnr word \" ><div class=\"lbl word\"><span class=\"txtp\"><span class=\"plain outer  \" ><span class=\"plain \" ><span class=\"txtp\">a-</span></span><span class=\"plain \" ><span class=\"txtp\">na </span></span></span></span> </div><div class=\"meta\"><div class=\"features\"></div></div></div><div class=\"contnr word \" ><div class=\"lbl word\"><span class=\"txtp\"><span class=\"plain outer  \" ><span class=\"plain \" ><span class=\"txtp\">zimbir</span></span><span class=\"plain \" ><span class=\"txtp\">{ki} </span></span></span></span> </div><div class=\"meta\"><div class=\"features\"></div></div></div><div class=\"contnr word \" ><div class=\"lbl word\"><span class=\"txtp\"><span class=\"plain outer  \" ><span class=\"plain \" ><span class=\"txtp\">il-</span></span><span class=\"plain \" ><span class=\"txtp\">li-</span></span><span class=\"plain \" ><span class=\"txtp\">kam</span></span></span></span> </div><div class=\"meta\"><div class=\"features\"></div></div></div></div></div><div class=\"contnr line \" ><div class=\"lbl line\"><span class=\"txtn\">6</span> </div><div class=\"meta\"><div class=\"features\"></div></div><div class=\"children line\"><div class=\"contnr word \" ><div class=\"lbl word\"><span class=\"txtp\"><span class=\"plain outer  \" ><span class=\"plain \" ><span class=\"txtp\">_1(gesz2) </span></span></span></span> </div><div class=\"meta\"><div class=\"features\"></div></div></div><div class=\"contnr word \" ><div class=\"lbl word\"><span class=\"txtp\"><span class=\"plain outer  \" ><span class=\"plain \" ><span class=\"txtp\">sze </span></span></span></span> </div><div class=\"meta\"><div class=\"features\"></div></div></div><div class=\"contnr word \" ><div class=\"lbl word\"><span class=\"txtp\"><span class=\"plain outer  \" ><span class=\"plain \" ><span class=\"txtp\">gur </span></span></span></span> </div><div class=\"meta\"><div class=\"features\"></div></div></div><div class=\"contnr word \" ><div class=\"lbl word\"><span class=\"txtp\"><span class=\"plain outer  \" ><span class=\"plain \" ><span class=\"txtp\">{gesz}</span></span><span class=\"plain \" ><span class=\"txtp\">ban2_ </span></span></span></span> </div><div class=\"meta\"><div class=\"features\"></div></div></div><div class=\"contnr word \" ><div class=\"lbl word\"><span class=\"txtp\"><span class=\"plain outer  \" ><span class=\"plain \" ><span class=\"txtp\">{gesz}</span></span><span class=\"plain \" ><span class=\"txtp\">me-</span></span><span class=\"plain \" ><span class=\"txtp\">sze-</span></span><span class=\"plain \" ><span class=\"txtp\">qum </span></span></span></span> </div><div class=\"meta\"><div class=\"features\"></div></div></div><div class=\"contnr word \" ><div class=\"lbl word\"><span class=\"txtp\"><span class=\"plain outer  \" ><span class=\"plain \" ><span class=\"txtp\">a-</span></span><span class=\"plain \" ><span class=\"txtp\">na </span></span></span></span> </div><div class=\"meta\"><div class=\"features\"></div></div></div><div class=\"contnr word \" ><div class=\"lbl word\"><span class=\"txtp\"><span class=\"plain outer  \" ><span class=\"plain \" ><span class=\"txtp\">_al-</span></span><span class=\"plain \" ><span class=\"txtp\">du3_</span></span></span></span> </div><div class=\"meta\"><div class=\"features\"></div></div></div></div></div><div class=\"contnr line \" ><div class=\"lbl line\"><span class=\"txtn\">7</span> </div><div class=\"meta\"><div class=\"features\"></div></div><div class=\"children line\"><div class=\"contnr word \" ><div class=\"lbl word\"><span class=\"txtp\"><span class=\"plain outer  \" ><span class=\"plain \" ><span class=\"txtp\">in-</span></span><span class=\"plain \" ><span class=\"txtp\">ne-</span></span><span class=\"plain \" ><span class=\"txtp\">ez-</span></span><span class=\"plain \" ><span class=\"txtp\">ba-</span></span><span class=\"plain \" ><span class=\"txtp\">am</span></span></span></span> </div><div class=\"meta\"><div class=\"features\"></div></div></div></div></div><div class=\"contnr line \" ><div class=\"lbl line\"><span class=\"txtn\">8</span> </div><div class=\"meta\"><div class=\"features\"></div></div><div class=\"children line\"><div class=\"contnr word \" ><div class=\"lbl word\"><span class=\"txtp\"><span class=\"plain outer  \" ><span class=\"plain \" ><span class=\"txtp\">_szunigin </span></span></span></span> </div><div class=\"meta\"><div class=\"features\"></div></div></div><div class=\"contnr word \" ><div class=\"lbl word\"><span class=\"txtp\"><span class=\"plain outer  \" ><span class=\"plain hlbx\" ><span class=\"txtp\">6(gesz2) </span></span></span></span> </div><div class=\"meta\"><div class=\"features\"></div></div></div><div class=\"contnr word \" ><div class=\"lbl word\"><span class=\"txtp\"><span class=\"plain outer  \" ><span class=\"plain \" ><span class=\"txtp\">2(u) </span></span></span></span> </div><div class=\"meta\"><div class=\"features\"></div></div></div><div class=\"contnr word \" ><div class=\"lbl word\"><span class=\"txtp\"><span class=\"plain outer  \" ><span class=\"plain \" ><span class=\"txtp\">1(asz) </span></span></span></span> </div><div class=\"meta\"><div class=\"features\"></div></div></div><div class=\"contnr word \" ><div class=\"lbl word\"><span class=\"txtp\"><span class=\"plain outer  \" ><span class=\"plain hlbx\" ><span class=\"txtp\">5(ban2) </span></span></span></span> </div><div class=\"meta\"><div class=\"features\"></div></div></div><div class=\"contnr word \" ><div class=\"lbl word\"><span class=\"txtp\"><span class=\"plain outer  \" ><span class=\"plain \" ><span class=\"txtp\">sze </span></span></span></span> </div><div class=\"meta\"><div class=\"features\"></div></div></div><div class=\"contnr word \" ><div class=\"lbl word\"><span class=\"txtp\"><span class=\"plain outer  \" ><span class=\"plain \" ><span class=\"txtp\">gur </span></span></span></span> </div><div class=\"meta\"><div class=\"features\"></div></div></div><div class=\"contnr word \" ><div class=\"lbl word\"><span class=\"txtp\"><span class=\"plain outer  \" ><span class=\"plain \" ><span class=\"txtp\">{gesz}</span></span><span class=\"plain \" ><span class=\"txtp\">ban2#_ </span></span></span></span> </div><div class=\"meta\"><div class=\"features\"></div></div></div><div class=\"contnr word \" ><div class=\"lbl word\"><span class=\"txtp\"><span class=\"plain outer  \" ><span class=\"plain \" ><span class=\"txtp\">[{gesz}</span></span><span class=\"plain \" ><span class=\"txtp\">me]-</span></span><span class=\"plain \" ><span class=\"txtp\">sze#-</span></span><span class=\"plain \" ><span class=\"txtp\">qum</span></span></span></span> </div><div class=\"meta\"><div class=\"features\"></div></div></div></div></div><div class=\"contnr line \" ><div class=\"lbl line\"><span class=\"txtn\">9</span> </div><div class=\"meta\"><div class=\"features\"></div></div><div class=\"children line\"><div class=\"contnr word \" ><div class=\"lbl word\"><span class=\"txtp\"><span class=\"plain outer  \" ><span class=\"plain \" ><span class=\"txtp\">sza </span></span></span></span> </div><div class=\"meta\"><div class=\"features\"></div></div></div><div class=\"contnr word \" ><div class=\"lbl word\"><span class=\"txtp\"><span class=\"plain outer  \" ><span class=\"plain \" ><span class=\"txtp\">i-</span></span><span class=\"plain \" ><span class=\"txtp\">na </span></span></span></span> </div><div class=\"meta\"><div class=\"features\"></div></div></div><div class=\"contnr word \" ><div class=\"lbl word\"><span class=\"txtp\"><span class=\"plain outer  \" ><span class=\"plain \" ><span class=\"txtp\">iri-</span></span><span class=\"plain \" ><span class=\"txtp\">{d}</span></span><span class=\"plain \" ><span class=\"txtp\">gu-</span></span><span class=\"plain \" ><span class=\"txtp\">la</span></span><span class=\"plain \" ><span class=\"txtp\">{ki} </span></span></span></span> </div><div class=\"meta\"><div class=\"features\"></div></div></div><div class=\"contnr word \" ><div class=\"lbl word\"><span class=\"txtp\"><span class=\"plain outer  \" ><span class=\"plain \" ><span class=\"txtp\">ib-</span></span><span class=\"plain \" ><span class=\"txtp\">ba-</span></span><span class=\"plain \" ><span class=\"txtp\">szu-</span></span><span class=\"plain \" ><span class=\"txtp\">[u2 </span></span></span></span> </div><div class=\"meta\"><div class=\"features\"></div></div></div><div class=\"contnr word \" ><div class=\"lbl word\"><span class=\"txtp\"><span class=\"plain outer  \" ><span class=\"plain \" ><span class=\"txtp\">...]</span></span></span></span> </div><div class=\"meta\"><div class=\"features\"></div></div></div></div></div><div class=\"contnr line \" ><div class=\"lbl line\"><span class=\"txtn\">10</span> </div><div class=\"meta\"><div class=\"features\"></div></div><div class=\"children line\"><div class=\"contnr word \" ><div class=\"lbl word\"><span class=\"txtp\"><span class=\"plain outer  \" ><span class=\"plain \" ><span class=\"txtp\">asz-</span></span><span class=\"plain \" ><span class=\"txtp\">szum </span></span></span></span> </div><div class=\"meta\"><div class=\"features\"></div></div></div><div class=\"contnr word \" ><div class=\"lbl word\"><span class=\"txtp\"><span class=\"plain outer  \" ><span class=\"plain \" ><span class=\"txtp\">tup-</span></span><span class=\"plain \" ><span class=\"txtp\">pi2 </span></span></span></span> </div><div class=\"meta\"><div class=\"features\"></div></div></div><div class=\"contnr word \" ><div class=\"lbl word\"><span class=\"txtp\"><span class=\"plain outer  \" ><span class=\"plain \" ><span class=\"txtp\">sza </span></span></span></span> </div><div class=\"meta\"><div class=\"features\"></div></div></div><div class=\"contnr word \" ><div class=\"lbl word\"><span class=\"txtp\"><span class=\"plain outer  \" ><span class=\"plain \" ><span class=\"txtp\">a-</span></span><span class=\"plain \" ><span class=\"txtp\">na </span></span></span></span> </div><div class=\"meta\"><div class=\"features\"></div></div></div><div class=\"contnr word \" ><div class=\"lbl word\"><span class=\"txtp\"><span class=\"plain outer  \" ><span class=\"plain \" ><span class=\"txtp\">ig-</span></span><span class=\"plain \" ><span class=\"txtp\">mil-</span></span><span class=\"plain \" ><span class=\"txtp\">{d}</span></span><span class=\"plain \" ><span class=\"txtp\">suen# </span></span></span></span> </div><div class=\"meta\"><div class=\"features\"></div></div></div><div class=\"contnr word \" ><div class=\"lbl word\"><span class=\"txtp\"><span class=\"plain outer  \" ><span class=\"plain \" ><span class=\"txtp\">[...]</span></span></span></span> </div><div class=\"meta\"><div class=\"features\"></div></div></div></div></div><div class=\"contnr line \" ><div class=\"lbl line\"><span class=\"txtn\">11</span> </div><div class=\"meta\"><div class=\"features\"></div></div><div class=\"children line\"><div class=\"contnr word \" ><div class=\"lbl word\"><span class=\"txtp\"><span class=\"plain outer  \" ><span class=\"plain \" ><span class=\"txtp\">szu-</span></span><span class=\"plain \" ><span class=\"txtp\">bu-</span></span><span class=\"plain \" ><span class=\"txtp\">lim </span></span></span></span> </div><div class=\"meta\"><div class=\"features\"></div></div></div><div class=\"contnr word \" ><div class=\"lbl word\"><span class=\"txtp\"><span class=\"plain outer  \" ><span class=\"plain \" ><span class=\"txtp\">sza </span></span></span></span> </div><div class=\"meta\"><div class=\"features\"></div></div></div><div class=\"contnr word \" ><div class=\"lbl word\"><span class=\"txtp\"><span class=\"plain outer  \" ><span class=\"plain \" ><span class=\"txtp\">a-</span></span><span class=\"plain \" ><span class=\"txtp\">na </span></span></span></span> </div><div class=\"meta\"><div class=\"features\"></div></div></div><div class=\"contnr word \" ><div class=\"lbl word\"><span class=\"txtp\"><span class=\"plain outer  \" ><span class=\"plain \" ><span class=\"txtp\">be#-</span></span><span class=\"plain \" ><span class=\"txtp\">li2#-</span></span><span class=\"plain \" ><span class=\"txtp\">ia# </span></span></span></span> </div><div class=\"meta\"><div class=\"features\"></div></div></div><div class=\"contnr word \" ><div class=\"lbl word\"><span class=\"txtp\"><span class=\"plain outer  \" ><span class=\"plain \" ><span class=\"txtp\">[x </span></span></span></span> </div><div class=\"meta\"><div class=\"features\"></div></div></div><div class=\"contnr word \" ><div class=\"lbl word\"><span class=\"txtp\"><span class=\"plain outer  \" ><span class=\"plain \" ><span class=\"txtp\">x </span></span></span></span> </div><div class=\"meta\"><div class=\"features\"></div></div></div><div class=\"contnr word \" ><div class=\"lbl word\"><span class=\"txtp\"><span class=\"plain outer  \" ><span class=\"plain \" ><span class=\"txtp\">(x) </span></span></span></span> </div><div class=\"meta\"><div class=\"features\"></div></div></div><div class=\"contnr word \" ><div class=\"lbl word\"><span class=\"txtp\"><span class=\"plain outer  \" ><span class=\"plain \" ><span class=\"txtp\">(x)]</span></span></span></span> </div><div class=\"meta\"><div class=\"features\"></div></div></div></div></div><div class=\"contnr line \" ><div class=\"lbl line\"><span class=\"txtn\">12</span> </div><div class=\"meta\"><div class=\"features\"></div></div><div class=\"children line\"><div class=\"contnr word \" ><div class=\"lbl word\"><span class=\"txtp\"><span class=\"plain outer  \" ><span class=\"plain \" ><span class=\"txtp\">asz-</span></span><span class=\"plain \" ><span class=\"txtp\">pur-</span></span><span class=\"plain \" ><span class=\"txtp\">am-</span></span><span class=\"plain \" ><span class=\"txtp\">ma </span></span></span></span> </div><div class=\"meta\"><div class=\"features\"></div></div></div><div class=\"contnr word \" ><div class=\"lbl word\"><span class=\"txtp\"><span class=\"plain outer  \" ><span class=\"plain \" ><span class=\"txtp\">um#-</span></span><span class=\"plain \" ><span class=\"txtp\">[ma </span></span></span></span> </div><div class=\"meta\"><div class=\"features\"></div></div></div><div class=\"contnr word \" ><div class=\"lbl word\"><span class=\"txtp\"><span class=\"plain outer  \" ><span class=\"plain \" ><span class=\"txtp\">be-</span></span><span class=\"plain \" ><span class=\"txtp\">li2-</span></span><span class=\"plain \" ><span class=\"txtp\">ma]</span></span></span></span> </div><div class=\"meta\"><div class=\"features\"></div></div></div></div></div><div class=\"contnr line \" ><div class=\"lbl line\"><span class=\"txtn\">13</span> </div><div class=\"meta\"><div class=\"features\"></div></div><div class=\"children line\"><div class=\"contnr word \" ><div class=\"lbl word\"><span class=\"txtp\"><span class=\"plain outer  \" ><span class=\"plain \" ><span class=\"txtp\">tup-</span></span><span class=\"plain \" ><span class=\"txtp\">pa-</span></span><span class=\"plain \" ><span class=\"txtp\">am </span></span></span></span> </div><div class=\"meta\"><div class=\"features\"></div></div></div><div class=\"contnr word \" ><div class=\"lbl word\"><span class=\"txtp\"><span class=\"plain outer  \" ><span class=\"plain \" ><span class=\"txtp\">a-</span></span><span class=\"plain \" ><span class=\"txtp\">na </span></span></span></span> </div><div class=\"meta\"><div class=\"features\"></div></div></div><div class=\"contnr word \" ><div class=\"lbl word\"><span class=\"txtp\"><span class=\"plain outer  \" ><span class=\"plain \" ><span class=\"txtp\">ig-</span></span><span class=\"plain \" ><span class=\"txtp\">mil-</span></span><span class=\"plain \" ><span class=\"txtp\">{d}</span></span><span class=\"plain \" ><span class=\"txtp\">suen# </span></span></span></span> </div><div class=\"meta\"><div class=\"features\"></div></div></div><div class=\"contnr word \" ><div class=\"lbl word\"><span class=\"txtp\"><span class=\"plain outer  \" ><span class=\"plain \" ><span class=\"txtp\">[...]</span></span></span></span> </div><div class=\"meta\"><div class=\"features\"></div></div></div></div></div><div class=\"contnr line \" ><div class=\"lbl line\"><span class=\"txtn\">14</span> </div><div class=\"meta\"><div class=\"features\"></div></div><div class=\"children line\"><div class=\"contnr word \" ><div class=\"lbl word\"><span class=\"txtp\"><span class=\"plain outer  \" ><span class=\"plain \" ><span class=\"txtp\">usz-</span></span><span class=\"plain \" ><span class=\"txtp\">ta-</span></span><span class=\"plain \" ><span class=\"txtp\">bi-</span></span><span class=\"plain \" ><span class=\"txtp\">lam </span></span></span></span> </div><div class=\"meta\"><div class=\"features\"></div></div></div><div class=\"contnr word \" ><div class=\"lbl word\"><span class=\"txtp\"><span class=\"plain outer  \" ><span class=\"plain \" ><span class=\"txtp\">tup-</span></span><span class=\"plain \" ><span class=\"txtp\">pi2 </span></span></span></span> </div><div class=\"meta\"><div class=\"features\"></div></div></div><div class=\"contnr word \" ><div class=\"lbl word\"><span class=\"txtp\"><span class=\"plain outer  \" ><span class=\"plain \" ><span class=\"txtp\">be-</span></span><span class=\"plain \" ><span class=\"txtp\">li2-</span></span><span class=\"plain \" ><span class=\"txtp\">ia </span></span></span></span> </div><div class=\"meta\"><div class=\"features\"></div></div></div><div class=\"contnr word \" ><div class=\"lbl word\"><span class=\"txtp\"><span class=\"plain outer  \" ><span class=\"plain \" ><span class=\"txtp\">mi-</span></span><span class=\"plain \" ><span class=\"txtp\">im#-</span></span><span class=\"plain \" ><span class=\"txtp\">ma#</span></span></span></span> </div><div class=\"meta\"><div class=\"features\"></div></div></div></div></div><div class=\"contnr line \" ><div class=\"lbl line\"><span class=\"txtn\">15</span> </div><div class=\"meta\"><div class=\"features\"></div></div><div class=\"children line\"><div class=\"contnr word \" ><div class=\"lbl word\"><span class=\"txtp\"><span class=\"plain outer  \" ><span class=\"plain \" ><span class=\"txtp\">a-</span></span><span class=\"plain \" ><span class=\"txtp\">na </span></span></span></span> </div><div class=\"meta\"><div class=\"features\"></div></div></div><div class=\"contnr word \" ><div class=\"lbl word\"><span class=\"txtp\"><span class=\"plain outer  \" ><span class=\"plain \" ><span class=\"txtp\">ig-</span></span><span class=\"plain \" ><span class=\"txtp\">mil-</span></span><span class=\"plain \" ><span class=\"txtp\">{d}</span></span><span class=\"plain \" ><span class=\"txtp\">suen </span></span></span></span> </div><div class=\"meta\"><div class=\"features\"></div></div></div><div class=\"contnr word \" ><div class=\"lbl word\"><span class=\"txtp\"><span class=\"plain outer  \" ><span class=\"plain \" ><span class=\"txtp\">u2-</span></span><span class=\"plain \" ><span class=\"txtp\">ul </span></span></span></span> </div><div class=\"meta\"><div class=\"features\"></div></div></div><div class=\"contnr word \" ><div class=\"lbl word\"><span class=\"txtp\"><span class=\"plain outer  \" ><span class=\"plain \" ><span class=\"txtp\">il-</span></span><span class=\"plain \" ><span class=\"txtp\">li-</span></span><span class=\"plain \" ><span class=\"txtp\">kam</span></span></span></span> </div><div class=\"meta\"><div class=\"features\"></div></div></div></div></div><div class=\"contnr line \" ><div class=\"lbl line\"><span class=\"txtn\">16</span> </div><div class=\"meta\"><div class=\"features\"></div></div><div class=\"children line\"><div class=\"contnr word \" ><div class=\"lbl word\"><span class=\"txtp\"><span class=\"plain outer  \" ><span class=\"plain \" ><span class=\"txtp\">tup-</span></span><span class=\"plain \" ><span class=\"txtp\">pi2 </span></span></span></span> </div><div class=\"meta\"><div class=\"features\"></div></div></div><div class=\"contnr word \" ><div class=\"lbl word\"><span class=\"txtp\"><span class=\"plain outer  \" ><span class=\"plain \" ><span class=\"txtp\">be-</span></span><span class=\"plain \" ><span class=\"txtp\">li2-</span></span><span class=\"plain \" ><span class=\"txtp\">ia </span></span></span></span> </div><div class=\"meta\"><div class=\"features\"></div></div></div><div class=\"contnr word \" ><div class=\"lbl word\"><span class=\"txtp\"><span class=\"plain outer  \" ><span class=\"plain \" ><span class=\"txtp\">a-</span></span><span class=\"plain \" ><span class=\"txtp\">na </span></span></span></span> </div><div class=\"meta\"><div class=\"features\"></div></div></div><div class=\"contnr word \" ><div class=\"lbl word\"><span class=\"txtp\"><span class=\"plain outer  \" ><span class=\"plain \" ><span class=\"txtp\">ig-</span></span><span class=\"plain \" ><span class=\"txtp\">mil-</span></span><span class=\"plain \" ><span class=\"txtp\">{d}</span></span><span class=\"plain \" ><span class=\"txtp\">suen</span></span></span></span> </div><div class=\"meta\"><div class=\"features\"></div></div></div></div></div><div class=\"contnr line \" ><div class=\"lbl line\"><span class=\"txtn\">17</span> </div><div class=\"meta\"><div class=\"features\"></div></div><div class=\"children line\"><div class=\"contnr word \" ><div class=\"lbl word\"><span class=\"txtp\"><span class=\"plain outer  \" ><span class=\"plain \" ><span class=\"txtp\">ar-</span></span><span class=\"plain \" ><span class=\"txtp\">hi-</span></span><span class=\"plain \" ><span class=\"txtp\">isz </span></span></span></span> </div><div class=\"meta\"><div class=\"features\"></div></div></div><div class=\"contnr word \" ><div class=\"lbl word\"><span class=\"txtp\"><span class=\"plain outer  \" ><span class=\"plain \" ><span class=\"txtp\">li-</span></span><span class=\"plain \" ><span class=\"txtp\">il-</span></span><span class=\"plain \" ><span class=\"txtp\">li-</span></span><span class=\"plain \" ><span class=\"txtp\">kam-</span></span><span class=\"plain \" ><span class=\"txtp\">ma</span></span></span></span> </div><div class=\"meta\"><div class=\"features\"></div></div></div></div></div><div class=\"contnr line \" ><div class=\"lbl line\"><span class=\"txtn\">18</span> </div><div class=\"meta\"><div class=\"features\"></div></div><div class=\"children line\"><div class=\"contnr word \" ><div class=\"lbl word\"><span class=\"txtp\"><span class=\"plain outer  \" ><span class=\"plain \" ><span class=\"txtp\">sze-</span></span><span class=\"plain \" ><span class=\"txtp\">am </span></span></span></span> </div><div class=\"meta\"><div class=\"features\"></div></div></div><div class=\"contnr word \" ><div class=\"lbl word\"><span class=\"txtp\"><span class=\"plain outer  \" ><span class=\"plain \" ><span class=\"txtp\">lu-</span></span><span class=\"plain \" ><span class=\"txtp\">ut-</span></span><span class=\"plain \" ><span class=\"txtp\">ba-</span></span><span class=\"plain \" ><span class=\"txtp\">lam</span></span></span></span> </div><div class=\"meta\"><div class=\"features\"></div></div></div></div></div></div></div>"
      ],
      "text/plain": [
       "<IPython.core.display.HTML object>"
      ]
     },
     "metadata": {},
     "output_type": "display_data"
    }
   ],
   "source": [
    "A.show(results, condensed=True, condenseType='face')"
   ]
  },
  {
   "cell_type": "markdown",
   "metadata": {},
   "source": [
    "We now see the the displays of two faces, one with two numerals in it and one with three."
   ]
  },
  {
   "cell_type": "markdown",
   "metadata": {},
   "source": [
    "# Custom highlighting\n",
    "\n",
    "Let us make a new search where we look for two different things in the same line.\n",
    "\n",
    "We can apply different highlight colors to different parts of the result.\n",
    "The signs in the pair are member 0 and 1 of the result tuples.\n",
    "The members that we do not map, will not be highlighted.\n",
    "The members that we map to the empty string will be highlighted with the default color.\n",
    "\n",
    "**NB:** Choose your colors from the\n",
    "[CSS specification](https://developer.mozilla.org/en-US/docs/Web/CSS/color_value)."
   ]
  },
  {
   "cell_type": "code",
   "execution_count": 14,
   "metadata": {
    "ExecuteTime": {
     "end_time": "2018-05-24T07:47:14.547656Z",
     "start_time": "2018-05-24T07:47:14.544433Z"
    }
   },
   "outputs": [],
   "source": [
    "query = '''\n",
    "line\n",
    "  sign missing=1\n",
    "  sign question=1\n",
    "  sign damage=1\n",
    "'''"
   ]
  },
  {
   "cell_type": "code",
   "execution_count": 15,
   "metadata": {
    "ExecuteTime": {
     "end_time": "2018-05-24T07:47:18.913432Z",
     "start_time": "2018-05-24T07:47:17.357992Z"
    }
   },
   "outputs": [
    {
     "name": "stdout",
     "output_type": "stream",
     "text": [
      "  0.60s 776 results\n"
     ]
    },
    {
     "data": {
      "text/html": [
       "<table>\n",
       "<tr class=\"tf\">\n",
       "  <th class=\"tf\">n</th><th class=\"tf\">p</th>\n",
       "  <th class=\"tf\">line</th><th>sign</th><th>sign</th><th>sign</th>\n",
       "</tr>\n",
       "\n",
       "<tr class=\"tf\"><td class=\"tf\">1</td><td class=\"tf\"> <a href=\"https://cdli.ucla.edu/search/search_results.php?SearchMode=Text&amp;ObjectID=P510530\" title=\"show this document on CDLI\" sec=\"P510530 obverse:5\">P510530 obverse:5</a></td><td class=\"tf\"><span class=\"plain outer  \" ><span class=\"plain\"><span class=\"plain \" ><span class=\"plain \" ><span class=\"txtp\">{disz}</span></span><span class=\"plain hl\" ><span class=\"txtp\">[{d}</span></span><span class=\"plain \" ><span class=\"txtp\">x]-</span></span><span class=\"plain hl\" ><span class=\"txtp\">ra#?-</span></span><span class=\"plain \" ><span class=\"txtp\">bi </span></span></span><span class=\"plain \" ><span class=\"plain \" ><span class=\"txtp\">il-</span></span><span class=\"plain \" ><span class=\"txtp\">qe2-</span></span><span class=\"plain \" ><span class=\"txtp\">a-</span></span><span class=\"plain \" ><span class=\"txtp\">am-</span></span><span class=\"plain \" ><span class=\"txtp\">ma</span></span></span></span></span></td><td class=\"tf\"><span class=\"plain outer  hl\" ><span class=\"txtp\">[{d}</span></span></td><td class=\"tf\"><span class=\"plain outer  hl\" ><span class=\"txtp\">ra#?-</span></span></td><td class=\"tf\"><span class=\"plain outer  hl\" ><span class=\"txtp\">ra#?-</span></span></td></tr>\n",
       "<tr class=\"tf\"><td class=\"tf\">2</td><td class=\"tf\"> <a href=\"https://cdli.ucla.edu/search/search_results.php?SearchMode=Text&amp;ObjectID=P510530\" title=\"show this document on CDLI\" sec=\"P510530 obverse:5\">P510530 obverse:5</a></td><td class=\"tf\"><span class=\"plain outer  \" ><span class=\"plain\"><span class=\"plain \" ><span class=\"plain \" ><span class=\"txtp\">{disz}</span></span><span class=\"plain \" ><span class=\"txtp\">[{d}</span></span><span class=\"plain hl\" ><span class=\"txtp\">x]-</span></span><span class=\"plain hl\" ><span class=\"txtp\">ra#?-</span></span><span class=\"plain \" ><span class=\"txtp\">bi </span></span></span><span class=\"plain \" ><span class=\"plain \" ><span class=\"txtp\">il-</span></span><span class=\"plain \" ><span class=\"txtp\">qe2-</span></span><span class=\"plain \" ><span class=\"txtp\">a-</span></span><span class=\"plain \" ><span class=\"txtp\">am-</span></span><span class=\"plain \" ><span class=\"txtp\">ma</span></span></span></span></span></td><td class=\"tf\"><span class=\"plain outer  hl\" ><span class=\"txtp\">x]-</span></span></td><td class=\"tf\"><span class=\"plain outer  hl\" ><span class=\"txtp\">ra#?-</span></span></td><td class=\"tf\"><span class=\"plain outer  hl\" ><span class=\"txtp\">ra#?-</span></span></td></tr>\n",
       "<tr class=\"tf\"><td class=\"tf\">3</td><td class=\"tf\"> <a href=\"https://cdli.ucla.edu/search/search_results.php?SearchMode=Text&amp;ObjectID=P510530\" title=\"show this document on CDLI\" sec=\"P510530 reverse:11\">P510530 reverse:11</a></td><td class=\"tf\"><span class=\"plain outer  \" ><span class=\"plain\"><span class=\"plain \" ><span class=\"plain hl\" ><span class=\"txtp\">[szu-</span></span><span class=\"plain \" ><span class=\"txtp\">bu-</span></span><span class=\"plain hl\" ><span class=\"txtp\">lim?] </span></span></span><span class=\"plain \" ><span class=\"plain hl\" ><span class=\"txtp\">sza# </span></span></span><span class=\"plain \" ><span class=\"plain \" ><span class=\"txtp\">ta-</span></span><span class=\"plain \" ><span class=\"txtp\">asz-</span></span><span class=\"plain \" ><span class=\"txtp\">pu-</span></span><span class=\"plain \" ><span class=\"txtp\">ra-</span></span><span class=\"plain \" ><span class=\"txtp\">am</span></span></span></span></span></td><td class=\"tf\"><span class=\"plain outer  hl\" ><span class=\"txtp\">[szu-</span></span></td><td class=\"tf\"><span class=\"plain outer  hl\" ><span class=\"txtp\">lim?] </span></span></td><td class=\"tf\"><span class=\"plain outer  hl\" ><span class=\"txtp\">sza# </span></span></td></tr>\n",
       "<tr class=\"tf\"><td class=\"tf\">4</td><td class=\"tf\"> <a href=\"https://cdli.ucla.edu/search/search_results.php?SearchMode=Text&amp;ObjectID=P510530\" title=\"show this document on CDLI\" sec=\"P510530 reverse:11\">P510530 reverse:11</a></td><td class=\"tf\"><span class=\"plain outer  \" ><span class=\"plain\"><span class=\"plain \" ><span class=\"plain \" ><span class=\"txtp\">[szu-</span></span><span class=\"plain hl\" ><span class=\"txtp\">bu-</span></span><span class=\"plain hl\" ><span class=\"txtp\">lim?] </span></span></span><span class=\"plain \" ><span class=\"plain hl\" ><span class=\"txtp\">sza# </span></span></span><span class=\"plain \" ><span class=\"plain \" ><span class=\"txtp\">ta-</span></span><span class=\"plain \" ><span class=\"txtp\">asz-</span></span><span class=\"plain \" ><span class=\"txtp\">pu-</span></span><span class=\"plain \" ><span class=\"txtp\">ra-</span></span><span class=\"plain \" ><span class=\"txtp\">am</span></span></span></span></span></td><td class=\"tf\"><span class=\"plain outer  hl\" ><span class=\"txtp\">bu-</span></span></td><td class=\"tf\"><span class=\"plain outer  hl\" ><span class=\"txtp\">lim?] </span></span></td><td class=\"tf\"><span class=\"plain outer  hl\" ><span class=\"txtp\">sza# </span></span></td></tr>\n",
       "<tr class=\"tf\"><td class=\"tf\">5</td><td class=\"tf\"> <a href=\"https://cdli.ucla.edu/search/search_results.php?SearchMode=Text&amp;ObjectID=P510530\" title=\"show this document on CDLI\" sec=\"P510530 reverse:11\">P510530 reverse:11</a></td><td class=\"tf\"><span class=\"plain outer  \" ><span class=\"plain\"><span class=\"plain \" ><span class=\"plain \" ><span class=\"txtp\">[szu-</span></span><span class=\"plain \" ><span class=\"txtp\">bu-</span></span><span class=\"plain hl\" ><span class=\"txtp\">lim?] </span></span></span><span class=\"plain \" ><span class=\"plain hl\" ><span class=\"txtp\">sza# </span></span></span><span class=\"plain \" ><span class=\"plain \" ><span class=\"txtp\">ta-</span></span><span class=\"plain \" ><span class=\"txtp\">asz-</span></span><span class=\"plain \" ><span class=\"txtp\">pu-</span></span><span class=\"plain \" ><span class=\"txtp\">ra-</span></span><span class=\"plain \" ><span class=\"txtp\">am</span></span></span></span></span></td><td class=\"tf\"><span class=\"plain outer  hl\" ><span class=\"txtp\">lim?] </span></span></td><td class=\"tf\"><span class=\"plain outer  hl\" ><span class=\"txtp\">lim?] </span></span></td><td class=\"tf\"><span class=\"plain outer  hl\" ><span class=\"txtp\">sza# </span></span></td></tr>\n",
       "<tr class=\"tf\"><td class=\"tf\">6</td><td class=\"tf\"> <a href=\"https://cdli.ucla.edu/search/search_results.php?SearchMode=Text&amp;ObjectID=P510534\" title=\"show this document on CDLI\" sec=\"P510534 reverse:15'\">P510534 reverse:15'</a></td><td class=\"tf\"><span class=\"plain outer  \" ><span class=\"plain\"><span class=\"plain \" ><span class=\"plain hl\" ><span class=\"txtp\">li#-</span></span><span class=\"plain \" ><span class=\"txtp\">iq#-</span></span><span class=\"plain \" ><span class=\"txtp\">bi-</span></span><span class=\"plain \" ><span class=\"txtp\">ma </span></span></span><span class=\"plain \" ><span class=\"plain \" ><span class=\"txtp\">da-</span></span><span class=\"plain \" ><span class=\"txtp\">ba-</span></span><span class=\"plain \" ><span class=\"txtp\">ab#-</span></span><span class=\"plain \" ><span class=\"txtp\">szu </span></span></span><span class=\"plain \" ><span class=\"plain hl\" ><span class=\"txtp\">li#?-</span></span><span class=\"plain \" ><span class=\"txtp\">in-</span></span><span class=\"plain \" ><span class=\"txtp\">na-</span></span><span class=\"plain \" ><span class=\"txtp\">me-</span></span><span class=\"plain hl\" ><span class=\"txtp\">[er]</span></span></span></span></span></td><td class=\"tf\"><span class=\"plain outer  hl\" ><span class=\"txtp\">[er]</span></span></td><td class=\"tf\"><span class=\"plain outer  hl\" ><span class=\"txtp\">li#?-</span></span></td><td class=\"tf\"><span class=\"plain outer  hl\" ><span class=\"txtp\">li#-</span></span></td></tr>\n",
       "<tr class=\"tf\"><td class=\"tf\">7</td><td class=\"tf\"> <a href=\"https://cdli.ucla.edu/search/search_results.php?SearchMode=Text&amp;ObjectID=P510534\" title=\"show this document on CDLI\" sec=\"P510534 reverse:15'\">P510534 reverse:15'</a></td><td class=\"tf\"><span class=\"plain outer  \" ><span class=\"plain\"><span class=\"plain \" ><span class=\"plain \" ><span class=\"txtp\">li#-</span></span><span class=\"plain hl\" ><span class=\"txtp\">iq#-</span></span><span class=\"plain \" ><span class=\"txtp\">bi-</span></span><span class=\"plain \" ><span class=\"txtp\">ma </span></span></span><span class=\"plain \" ><span class=\"plain \" ><span class=\"txtp\">da-</span></span><span class=\"plain \" ><span class=\"txtp\">ba-</span></span><span class=\"plain \" ><span class=\"txtp\">ab#-</span></span><span class=\"plain \" ><span class=\"txtp\">szu </span></span></span><span class=\"plain \" ><span class=\"plain hl\" ><span class=\"txtp\">li#?-</span></span><span class=\"plain \" ><span class=\"txtp\">in-</span></span><span class=\"plain \" ><span class=\"txtp\">na-</span></span><span class=\"plain \" ><span class=\"txtp\">me-</span></span><span class=\"plain hl\" ><span class=\"txtp\">[er]</span></span></span></span></span></td><td class=\"tf\"><span class=\"plain outer  hl\" ><span class=\"txtp\">[er]</span></span></td><td class=\"tf\"><span class=\"plain outer  hl\" ><span class=\"txtp\">li#?-</span></span></td><td class=\"tf\"><span class=\"plain outer  hl\" ><span class=\"txtp\">iq#-</span></span></td></tr>\n",
       "<tr class=\"tf\"><td class=\"tf\">8</td><td class=\"tf\"> <a href=\"https://cdli.ucla.edu/search/search_results.php?SearchMode=Text&amp;ObjectID=P510534\" title=\"show this document on CDLI\" sec=\"P510534 reverse:15'\">P510534 reverse:15'</a></td><td class=\"tf\"><span class=\"plain outer  \" ><span class=\"plain\"><span class=\"plain \" ><span class=\"plain \" ><span class=\"txtp\">li#-</span></span><span class=\"plain \" ><span class=\"txtp\">iq#-</span></span><span class=\"plain \" ><span class=\"txtp\">bi-</span></span><span class=\"plain \" ><span class=\"txtp\">ma </span></span></span><span class=\"plain \" ><span class=\"plain \" ><span class=\"txtp\">da-</span></span><span class=\"plain \" ><span class=\"txtp\">ba-</span></span><span class=\"plain hl\" ><span class=\"txtp\">ab#-</span></span><span class=\"plain \" ><span class=\"txtp\">szu </span></span></span><span class=\"plain \" ><span class=\"plain hl\" ><span class=\"txtp\">li#?-</span></span><span class=\"plain \" ><span class=\"txtp\">in-</span></span><span class=\"plain \" ><span class=\"txtp\">na-</span></span><span class=\"plain \" ><span class=\"txtp\">me-</span></span><span class=\"plain hl\" ><span class=\"txtp\">[er]</span></span></span></span></span></td><td class=\"tf\"><span class=\"plain outer  hl\" ><span class=\"txtp\">[er]</span></span></td><td class=\"tf\"><span class=\"plain outer  hl\" ><span class=\"txtp\">li#?-</span></span></td><td class=\"tf\"><span class=\"plain outer  hl\" ><span class=\"txtp\">ab#-</span></span></td></tr>\n",
       "<tr class=\"tf\"><td class=\"tf\">9</td><td class=\"tf\"> <a href=\"https://cdli.ucla.edu/search/search_results.php?SearchMode=Text&amp;ObjectID=P510534\" title=\"show this document on CDLI\" sec=\"P510534 reverse:15'\">P510534 reverse:15'</a></td><td class=\"tf\"><span class=\"plain outer  \" ><span class=\"plain\"><span class=\"plain \" ><span class=\"plain \" ><span class=\"txtp\">li#-</span></span><span class=\"plain \" ><span class=\"txtp\">iq#-</span></span><span class=\"plain \" ><span class=\"txtp\">bi-</span></span><span class=\"plain \" ><span class=\"txtp\">ma </span></span></span><span class=\"plain \" ><span class=\"plain \" ><span class=\"txtp\">da-</span></span><span class=\"plain \" ><span class=\"txtp\">ba-</span></span><span class=\"plain \" ><span class=\"txtp\">ab#-</span></span><span class=\"plain \" ><span class=\"txtp\">szu </span></span></span><span class=\"plain \" ><span class=\"plain hl\" ><span class=\"txtp\">li#?-</span></span><span class=\"plain \" ><span class=\"txtp\">in-</span></span><span class=\"plain \" ><span class=\"txtp\">na-</span></span><span class=\"plain \" ><span class=\"txtp\">me-</span></span><span class=\"plain hl\" ><span class=\"txtp\">[er]</span></span></span></span></span></td><td class=\"tf\"><span class=\"plain outer  hl\" ><span class=\"txtp\">[er]</span></span></td><td class=\"tf\"><span class=\"plain outer  hl\" ><span class=\"txtp\">li#?-</span></span></td><td class=\"tf\"><span class=\"plain outer  hl\" ><span class=\"txtp\">li#?-</span></span></td></tr>\n",
       "<tr class=\"tf\"><td class=\"tf\">10</td><td class=\"tf\"> <a href=\"https://cdli.ucla.edu/search/search_results.php?SearchMode=Text&amp;ObjectID=P510534\" title=\"show this document on CDLI\" sec=\"P510534 reverse:20'\">P510534 reverse:20'</a></td><td class=\"tf\"><span class=\"plain outer  \" ><span class=\"plain\"><span class=\"plain \" ><span class=\"plain hl\" ><span class=\"txtp\">li#-</span></span><span class=\"plain \" ><span class=\"txtp\">il#-</span></span><span class=\"plain hl\" ><span class=\"txtp\">qe2#?-</span></span><span class=\"plain hl\" ><span class=\"txtp\">[szu-</span></span><span class=\"plain \" ><span class=\"txtp\">ma?]</span></span></span></span></span></td><td class=\"tf\"><span class=\"plain outer  hl\" ><span class=\"txtp\">[szu-</span></span></td><td class=\"tf\"><span class=\"plain outer  hl\" ><span class=\"txtp\">qe2#?-</span></span></td><td class=\"tf\"><span class=\"plain outer  hl\" ><span class=\"txtp\">li#-</span></span></td></tr></table>"
      ],
      "text/plain": [
       "<IPython.core.display.HTML object>"
      ]
     },
     "metadata": {},
     "output_type": "display_data"
    }
   ],
   "source": [
    "results = A.search(query)\n",
    "A.table(results, end=10, baseType=\"sign\")"
   ]
  },
  {
   "cell_type": "code",
   "execution_count": 16,
   "metadata": {},
   "outputs": [
    {
     "data": {
      "text/html": [
       "<table>\n",
       "<tr class=\"tf\">\n",
       "  <th class=\"tf\">n</th><th class=\"tf\">p</th>\n",
       "  <th class=\"tf\">line</th><th>sign</th><th>sign</th><th>sign</th>\n",
       "</tr>\n",
       "\n",
       "<tr class=\"tf\"><td class=\"tf\">1</td><td class=\"tf\"> <a href=\"https://cdli.ucla.edu/search/search_results.php?SearchMode=Text&amp;ObjectID=P510530\" title=\"show this document on CDLI\" sec=\"P510530 obverse:5\">P510530 obverse:5</a></td><td class=\"tf\"><span class=\"plain outer  \" ><span class=\"plain\"><span class=\"plain \" ><span class=\"plain \" ><span class=\"txtp\">{disz}</span></span><span class=\"plain hl\"  style=\"background-color: cyan;\" ><span class=\"txtp\">[{d}</span></span><span class=\"plain \" ><span class=\"txtp\">x]-</span></span><span class=\"plain hl\"  style=\"background-color: magenta;\" ><span class=\"txtp\">ra#?-</span></span><span class=\"plain \" ><span class=\"txtp\">bi </span></span></span><span class=\"plain \" ><span class=\"plain \" ><span class=\"txtp\">il-</span></span><span class=\"plain \" ><span class=\"txtp\">qe2-</span></span><span class=\"plain \" ><span class=\"txtp\">a-</span></span><span class=\"plain \" ><span class=\"txtp\">am-</span></span><span class=\"plain \" ><span class=\"txtp\">ma</span></span></span></span></span></td><td class=\"tf\"><span class=\"plain outer  hl\"  style=\"background-color: cyan;\" ><span class=\"txtp\">[{d}</span></span></td><td class=\"tf\"><span class=\"plain outer  hl\"  style=\"background-color: magenta;\" ><span class=\"txtp\">ra#?-</span></span></td><td class=\"tf\"><span class=\"plain outer  hl\"  style=\"background-color: magenta;\" ><span class=\"txtp\">ra#?-</span></span></td></tr>\n",
       "<tr class=\"tf\"><td class=\"tf\">2</td><td class=\"tf\"> <a href=\"https://cdli.ucla.edu/search/search_results.php?SearchMode=Text&amp;ObjectID=P510530\" title=\"show this document on CDLI\" sec=\"P510530 obverse:5\">P510530 obverse:5</a></td><td class=\"tf\"><span class=\"plain outer  \" ><span class=\"plain\"><span class=\"plain \" ><span class=\"plain \" ><span class=\"txtp\">{disz}</span></span><span class=\"plain \" ><span class=\"txtp\">[{d}</span></span><span class=\"plain hl\"  style=\"background-color: cyan;\" ><span class=\"txtp\">x]-</span></span><span class=\"plain hl\"  style=\"background-color: magenta;\" ><span class=\"txtp\">ra#?-</span></span><span class=\"plain \" ><span class=\"txtp\">bi </span></span></span><span class=\"plain \" ><span class=\"plain \" ><span class=\"txtp\">il-</span></span><span class=\"plain \" ><span class=\"txtp\">qe2-</span></span><span class=\"plain \" ><span class=\"txtp\">a-</span></span><span class=\"plain \" ><span class=\"txtp\">am-</span></span><span class=\"plain \" ><span class=\"txtp\">ma</span></span></span></span></span></td><td class=\"tf\"><span class=\"plain outer  hl\"  style=\"background-color: cyan;\" ><span class=\"txtp\">x]-</span></span></td><td class=\"tf\"><span class=\"plain outer  hl\"  style=\"background-color: magenta;\" ><span class=\"txtp\">ra#?-</span></span></td><td class=\"tf\"><span class=\"plain outer  hl\"  style=\"background-color: magenta;\" ><span class=\"txtp\">ra#?-</span></span></td></tr>\n",
       "<tr class=\"tf\"><td class=\"tf\">3</td><td class=\"tf\"> <a href=\"https://cdli.ucla.edu/search/search_results.php?SearchMode=Text&amp;ObjectID=P510530\" title=\"show this document on CDLI\" sec=\"P510530 reverse:11\">P510530 reverse:11</a></td><td class=\"tf\"><span class=\"plain outer  \" ><span class=\"plain\"><span class=\"plain \" ><span class=\"plain hl\"  style=\"background-color: cyan;\" ><span class=\"txtp\">[szu-</span></span><span class=\"plain \" ><span class=\"txtp\">bu-</span></span><span class=\"plain hl\"  style=\"background-color: magenta;\" ><span class=\"txtp\">lim?] </span></span></span><span class=\"plain \" ><span class=\"plain hl\"  style=\"background-color: lightsalmon;\" ><span class=\"txtp\">sza# </span></span></span><span class=\"plain \" ><span class=\"plain \" ><span class=\"txtp\">ta-</span></span><span class=\"plain \" ><span class=\"txtp\">asz-</span></span><span class=\"plain \" ><span class=\"txtp\">pu-</span></span><span class=\"plain \" ><span class=\"txtp\">ra-</span></span><span class=\"plain \" ><span class=\"txtp\">am</span></span></span></span></span></td><td class=\"tf\"><span class=\"plain outer  hl\"  style=\"background-color: cyan;\" ><span class=\"txtp\">[szu-</span></span></td><td class=\"tf\"><span class=\"plain outer  hl\"  style=\"background-color: magenta;\" ><span class=\"txtp\">lim?] </span></span></td><td class=\"tf\"><span class=\"plain outer  hl\"  style=\"background-color: lightsalmon;\" ><span class=\"txtp\">sza# </span></span></td></tr>\n",
       "<tr class=\"tf\"><td class=\"tf\">4</td><td class=\"tf\"> <a href=\"https://cdli.ucla.edu/search/search_results.php?SearchMode=Text&amp;ObjectID=P510530\" title=\"show this document on CDLI\" sec=\"P510530 reverse:11\">P510530 reverse:11</a></td><td class=\"tf\"><span class=\"plain outer  \" ><span class=\"plain\"><span class=\"plain \" ><span class=\"plain \" ><span class=\"txtp\">[szu-</span></span><span class=\"plain hl\"  style=\"background-color: cyan;\" ><span class=\"txtp\">bu-</span></span><span class=\"plain hl\"  style=\"background-color: magenta;\" ><span class=\"txtp\">lim?] </span></span></span><span class=\"plain \" ><span class=\"plain hl\"  style=\"background-color: lightsalmon;\" ><span class=\"txtp\">sza# </span></span></span><span class=\"plain \" ><span class=\"plain \" ><span class=\"txtp\">ta-</span></span><span class=\"plain \" ><span class=\"txtp\">asz-</span></span><span class=\"plain \" ><span class=\"txtp\">pu-</span></span><span class=\"plain \" ><span class=\"txtp\">ra-</span></span><span class=\"plain \" ><span class=\"txtp\">am</span></span></span></span></span></td><td class=\"tf\"><span class=\"plain outer  hl\"  style=\"background-color: cyan;\" ><span class=\"txtp\">bu-</span></span></td><td class=\"tf\"><span class=\"plain outer  hl\"  style=\"background-color: magenta;\" ><span class=\"txtp\">lim?] </span></span></td><td class=\"tf\"><span class=\"plain outer  hl\"  style=\"background-color: lightsalmon;\" ><span class=\"txtp\">sza# </span></span></td></tr>\n",
       "<tr class=\"tf\"><td class=\"tf\">5</td><td class=\"tf\"> <a href=\"https://cdli.ucla.edu/search/search_results.php?SearchMode=Text&amp;ObjectID=P510530\" title=\"show this document on CDLI\" sec=\"P510530 reverse:11\">P510530 reverse:11</a></td><td class=\"tf\"><span class=\"plain outer  \" ><span class=\"plain\"><span class=\"plain \" ><span class=\"plain \" ><span class=\"txtp\">[szu-</span></span><span class=\"plain \" ><span class=\"txtp\">bu-</span></span><span class=\"plain hl\"  style=\"background-color: cyan;\" ><span class=\"txtp\">lim?] </span></span></span><span class=\"plain \" ><span class=\"plain hl\"  style=\"background-color: lightsalmon;\" ><span class=\"txtp\">sza# </span></span></span><span class=\"plain \" ><span class=\"plain \" ><span class=\"txtp\">ta-</span></span><span class=\"plain \" ><span class=\"txtp\">asz-</span></span><span class=\"plain \" ><span class=\"txtp\">pu-</span></span><span class=\"plain \" ><span class=\"txtp\">ra-</span></span><span class=\"plain \" ><span class=\"txtp\">am</span></span></span></span></span></td><td class=\"tf\"><span class=\"plain outer  hl\"  style=\"background-color: cyan;\" ><span class=\"txtp\">lim?] </span></span></td><td class=\"tf\"><span class=\"plain outer  hl\"  style=\"background-color: cyan;\" ><span class=\"txtp\">lim?] </span></span></td><td class=\"tf\"><span class=\"plain outer  hl\"  style=\"background-color: lightsalmon;\" ><span class=\"txtp\">sza# </span></span></td></tr>\n",
       "<tr class=\"tf\"><td class=\"tf\">6</td><td class=\"tf\"> <a href=\"https://cdli.ucla.edu/search/search_results.php?SearchMode=Text&amp;ObjectID=P510534\" title=\"show this document on CDLI\" sec=\"P510534 reverse:15'\">P510534 reverse:15'</a></td><td class=\"tf\"><span class=\"plain outer  \" ><span class=\"plain\"><span class=\"plain \" ><span class=\"plain hl\"  style=\"background-color: lightsalmon;\" ><span class=\"txtp\">li#-</span></span><span class=\"plain \" ><span class=\"txtp\">iq#-</span></span><span class=\"plain \" ><span class=\"txtp\">bi-</span></span><span class=\"plain \" ><span class=\"txtp\">ma </span></span></span><span class=\"plain \" ><span class=\"plain \" ><span class=\"txtp\">da-</span></span><span class=\"plain \" ><span class=\"txtp\">ba-</span></span><span class=\"plain \" ><span class=\"txtp\">ab#-</span></span><span class=\"plain \" ><span class=\"txtp\">szu </span></span></span><span class=\"plain \" ><span class=\"plain hl\"  style=\"background-color: magenta;\" ><span class=\"txtp\">li#?-</span></span><span class=\"plain \" ><span class=\"txtp\">in-</span></span><span class=\"plain \" ><span class=\"txtp\">na-</span></span><span class=\"plain \" ><span class=\"txtp\">me-</span></span><span class=\"plain hl\"  style=\"background-color: cyan;\" ><span class=\"txtp\">[er]</span></span></span></span></span></td><td class=\"tf\"><span class=\"plain outer  hl\"  style=\"background-color: cyan;\" ><span class=\"txtp\">[er]</span></span></td><td class=\"tf\"><span class=\"plain outer  hl\"  style=\"background-color: magenta;\" ><span class=\"txtp\">li#?-</span></span></td><td class=\"tf\"><span class=\"plain outer  hl\"  style=\"background-color: lightsalmon;\" ><span class=\"txtp\">li#-</span></span></td></tr>\n",
       "<tr class=\"tf\"><td class=\"tf\">7</td><td class=\"tf\"> <a href=\"https://cdli.ucla.edu/search/search_results.php?SearchMode=Text&amp;ObjectID=P510534\" title=\"show this document on CDLI\" sec=\"P510534 reverse:15'\">P510534 reverse:15'</a></td><td class=\"tf\"><span class=\"plain outer  \" ><span class=\"plain\"><span class=\"plain \" ><span class=\"plain \" ><span class=\"txtp\">li#-</span></span><span class=\"plain hl\"  style=\"background-color: lightsalmon;\" ><span class=\"txtp\">iq#-</span></span><span class=\"plain \" ><span class=\"txtp\">bi-</span></span><span class=\"plain \" ><span class=\"txtp\">ma </span></span></span><span class=\"plain \" ><span class=\"plain \" ><span class=\"txtp\">da-</span></span><span class=\"plain \" ><span class=\"txtp\">ba-</span></span><span class=\"plain \" ><span class=\"txtp\">ab#-</span></span><span class=\"plain \" ><span class=\"txtp\">szu </span></span></span><span class=\"plain \" ><span class=\"plain hl\"  style=\"background-color: magenta;\" ><span class=\"txtp\">li#?-</span></span><span class=\"plain \" ><span class=\"txtp\">in-</span></span><span class=\"plain \" ><span class=\"txtp\">na-</span></span><span class=\"plain \" ><span class=\"txtp\">me-</span></span><span class=\"plain hl\"  style=\"background-color: cyan;\" ><span class=\"txtp\">[er]</span></span></span></span></span></td><td class=\"tf\"><span class=\"plain outer  hl\"  style=\"background-color: cyan;\" ><span class=\"txtp\">[er]</span></span></td><td class=\"tf\"><span class=\"plain outer  hl\"  style=\"background-color: magenta;\" ><span class=\"txtp\">li#?-</span></span></td><td class=\"tf\"><span class=\"plain outer  hl\"  style=\"background-color: lightsalmon;\" ><span class=\"txtp\">iq#-</span></span></td></tr>\n",
       "<tr class=\"tf\"><td class=\"tf\">8</td><td class=\"tf\"> <a href=\"https://cdli.ucla.edu/search/search_results.php?SearchMode=Text&amp;ObjectID=P510534\" title=\"show this document on CDLI\" sec=\"P510534 reverse:15'\">P510534 reverse:15'</a></td><td class=\"tf\"><span class=\"plain outer  \" ><span class=\"plain\"><span class=\"plain \" ><span class=\"plain \" ><span class=\"txtp\">li#-</span></span><span class=\"plain \" ><span class=\"txtp\">iq#-</span></span><span class=\"plain \" ><span class=\"txtp\">bi-</span></span><span class=\"plain \" ><span class=\"txtp\">ma </span></span></span><span class=\"plain \" ><span class=\"plain \" ><span class=\"txtp\">da-</span></span><span class=\"plain \" ><span class=\"txtp\">ba-</span></span><span class=\"plain hl\"  style=\"background-color: lightsalmon;\" ><span class=\"txtp\">ab#-</span></span><span class=\"plain \" ><span class=\"txtp\">szu </span></span></span><span class=\"plain \" ><span class=\"plain hl\"  style=\"background-color: magenta;\" ><span class=\"txtp\">li#?-</span></span><span class=\"plain \" ><span class=\"txtp\">in-</span></span><span class=\"plain \" ><span class=\"txtp\">na-</span></span><span class=\"plain \" ><span class=\"txtp\">me-</span></span><span class=\"plain hl\"  style=\"background-color: cyan;\" ><span class=\"txtp\">[er]</span></span></span></span></span></td><td class=\"tf\"><span class=\"plain outer  hl\"  style=\"background-color: cyan;\" ><span class=\"txtp\">[er]</span></span></td><td class=\"tf\"><span class=\"plain outer  hl\"  style=\"background-color: magenta;\" ><span class=\"txtp\">li#?-</span></span></td><td class=\"tf\"><span class=\"plain outer  hl\"  style=\"background-color: lightsalmon;\" ><span class=\"txtp\">ab#-</span></span></td></tr>\n",
       "<tr class=\"tf\"><td class=\"tf\">9</td><td class=\"tf\"> <a href=\"https://cdli.ucla.edu/search/search_results.php?SearchMode=Text&amp;ObjectID=P510534\" title=\"show this document on CDLI\" sec=\"P510534 reverse:15'\">P510534 reverse:15'</a></td><td class=\"tf\"><span class=\"plain outer  \" ><span class=\"plain\"><span class=\"plain \" ><span class=\"plain \" ><span class=\"txtp\">li#-</span></span><span class=\"plain \" ><span class=\"txtp\">iq#-</span></span><span class=\"plain \" ><span class=\"txtp\">bi-</span></span><span class=\"plain \" ><span class=\"txtp\">ma </span></span></span><span class=\"plain \" ><span class=\"plain \" ><span class=\"txtp\">da-</span></span><span class=\"plain \" ><span class=\"txtp\">ba-</span></span><span class=\"plain \" ><span class=\"txtp\">ab#-</span></span><span class=\"plain \" ><span class=\"txtp\">szu </span></span></span><span class=\"plain \" ><span class=\"plain hl\"  style=\"background-color: magenta;\" ><span class=\"txtp\">li#?-</span></span><span class=\"plain \" ><span class=\"txtp\">in-</span></span><span class=\"plain \" ><span class=\"txtp\">na-</span></span><span class=\"plain \" ><span class=\"txtp\">me-</span></span><span class=\"plain hl\"  style=\"background-color: cyan;\" ><span class=\"txtp\">[er]</span></span></span></span></span></td><td class=\"tf\"><span class=\"plain outer  hl\"  style=\"background-color: cyan;\" ><span class=\"txtp\">[er]</span></span></td><td class=\"tf\"><span class=\"plain outer  hl\"  style=\"background-color: magenta;\" ><span class=\"txtp\">li#?-</span></span></td><td class=\"tf\"><span class=\"plain outer  hl\"  style=\"background-color: magenta;\" ><span class=\"txtp\">li#?-</span></span></td></tr>\n",
       "<tr class=\"tf\"><td class=\"tf\">10</td><td class=\"tf\"> <a href=\"https://cdli.ucla.edu/search/search_results.php?SearchMode=Text&amp;ObjectID=P510534\" title=\"show this document on CDLI\" sec=\"P510534 reverse:20'\">P510534 reverse:20'</a></td><td class=\"tf\"><span class=\"plain outer  \" ><span class=\"plain\"><span class=\"plain \" ><span class=\"plain hl\"  style=\"background-color: lightsalmon;\" ><span class=\"txtp\">li#-</span></span><span class=\"plain \" ><span class=\"txtp\">il#-</span></span><span class=\"plain hl\"  style=\"background-color: magenta;\" ><span class=\"txtp\">qe2#?-</span></span><span class=\"plain hl\"  style=\"background-color: cyan;\" ><span class=\"txtp\">[szu-</span></span><span class=\"plain \" ><span class=\"txtp\">ma?]</span></span></span></span></span></td><td class=\"tf\"><span class=\"plain outer  hl\"  style=\"background-color: cyan;\" ><span class=\"txtp\">[szu-</span></span></td><td class=\"tf\"><span class=\"plain outer  hl\"  style=\"background-color: magenta;\" ><span class=\"txtp\">qe2#?-</span></span></td><td class=\"tf\"><span class=\"plain outer  hl\"  style=\"background-color: lightsalmon;\" ><span class=\"txtp\">li#-</span></span></td></tr></table>"
      ],
      "text/plain": [
       "<IPython.core.display.HTML object>"
      ]
     },
     "metadata": {},
     "output_type": "display_data"
    }
   ],
   "source": [
    "A.table(results, end=10, baseType=\"sign\", colorMap={0: '', 2: 'cyan', 3: 'magenta', 4: 'lightsalmon'})"
   ]
  },
  {
   "cell_type": "code",
   "execution_count": 17,
   "metadata": {
    "ExecuteTime": {
     "end_time": "2018-05-24T07:47:25.094797Z",
     "start_time": "2018-05-24T07:47:25.048277Z"
    }
   },
   "outputs": [
    {
     "data": {
      "text/html": [
       "<p><b>result</b> <i>1</i></p>"
      ],
      "text/plain": [
       "<IPython.core.display.HTML object>"
      ]
     },
     "metadata": {},
     "output_type": "display_data"
    },
    {
     "data": {
      "text/html": [
       "<div class=\"contnr line \" ><div class=\"lbl line\"><a href=\"https://cdli.ucla.edu/search/search_results.php?SearchMode=Text&amp;ObjectID=P510530\" title=\"P510530 obverse:5\" sec=\"P510530 obverse:5\">line <span class=\"txtn\">5</span></a> </div><div class=\"meta\"><div class=\"features\"></div></div><div class=\"children line\"><div class=\"contnr word \" ><div class=\"lbl word\"><span class=\"txtp\"><span class=\"plain outer  \" ><span class=\"plain \" ><span class=\"txtp\">{disz}</span></span><span class=\"plain hlbx\"  style=\"border-color: cyan;\" ><span class=\"txtp\">[{d}</span></span><span class=\"plain \" ><span class=\"txtp\">x]-</span></span><span class=\"plain hlbx\"  style=\"border-color: magenta;\" ><span class=\"txtp\">ra#?-</span></span><span class=\"plain \" ><span class=\"txtp\">bi </span></span></span></span> </div><div class=\"meta\"><div class=\"features\"></div></div></div><div class=\"contnr word \" ><div class=\"lbl word\"><span class=\"txtp\"><span class=\"plain outer  \" ><span class=\"plain \" ><span class=\"txtp\">il-</span></span><span class=\"plain \" ><span class=\"txtp\">qe2-</span></span><span class=\"plain \" ><span class=\"txtp\">a-</span></span><span class=\"plain \" ><span class=\"txtp\">am-</span></span><span class=\"plain \" ><span class=\"txtp\">ma</span></span></span></span> </div><div class=\"meta\"><div class=\"features\"></div></div></div></div></div>"
      ],
      "text/plain": [
       "<IPython.core.display.HTML object>"
      ]
     },
     "metadata": {},
     "output_type": "display_data"
    },
    {
     "data": {
      "text/html": [
       "<p><b>result</b> <i>2</i></p>"
      ],
      "text/plain": [
       "<IPython.core.display.HTML object>"
      ]
     },
     "metadata": {},
     "output_type": "display_data"
    },
    {
     "data": {
      "text/html": [
       "<div class=\"contnr line \" ><div class=\"lbl line\"><a href=\"https://cdli.ucla.edu/search/search_results.php?SearchMode=Text&amp;ObjectID=P510530\" title=\"P510530 obverse:5\" sec=\"P510530 obverse:5\">line <span class=\"txtn\">5</span></a> </div><div class=\"meta\"><div class=\"features\"></div></div><div class=\"children line\"><div class=\"contnr word \" ><div class=\"lbl word\"><span class=\"txtp\"><span class=\"plain outer  \" ><span class=\"plain \" ><span class=\"txtp\">{disz}</span></span><span class=\"plain \" ><span class=\"txtp\">[{d}</span></span><span class=\"plain hlbx\"  style=\"border-color: cyan;\" ><span class=\"txtp\">x]-</span></span><span class=\"plain hlbx\"  style=\"border-color: magenta;\" ><span class=\"txtp\">ra#?-</span></span><span class=\"plain \" ><span class=\"txtp\">bi </span></span></span></span> </div><div class=\"meta\"><div class=\"features\"></div></div></div><div class=\"contnr word \" ><div class=\"lbl word\"><span class=\"txtp\"><span class=\"plain outer  \" ><span class=\"plain \" ><span class=\"txtp\">il-</span></span><span class=\"plain \" ><span class=\"txtp\">qe2-</span></span><span class=\"plain \" ><span class=\"txtp\">a-</span></span><span class=\"plain \" ><span class=\"txtp\">am-</span></span><span class=\"plain \" ><span class=\"txtp\">ma</span></span></span></span> </div><div class=\"meta\"><div class=\"features\"></div></div></div></div></div>"
      ],
      "text/plain": [
       "<IPython.core.display.HTML object>"
      ]
     },
     "metadata": {},
     "output_type": "display_data"
    },
    {
     "data": {
      "text/html": [
       "<p><b>result</b> <i>3</i></p>"
      ],
      "text/plain": [
       "<IPython.core.display.HTML object>"
      ]
     },
     "metadata": {},
     "output_type": "display_data"
    },
    {
     "data": {
      "text/html": [
       "<div class=\"contnr line \" ><div class=\"lbl line\"><a href=\"https://cdli.ucla.edu/search/search_results.php?SearchMode=Text&amp;ObjectID=P510530\" title=\"P510530 reverse:11\" sec=\"P510530 reverse:11\">line <span class=\"txtn\">11</span></a> </div><div class=\"meta\"><div class=\"features\"></div></div><div class=\"children line\"><div class=\"contnr word \" ><div class=\"lbl word\"><span class=\"txtp\"><span class=\"plain outer  \" ><span class=\"plain hlbx\"  style=\"border-color: cyan;\" ><span class=\"txtp\">[szu-</span></span><span class=\"plain \" ><span class=\"txtp\">bu-</span></span><span class=\"plain hlbx\"  style=\"border-color: magenta;\" ><span class=\"txtp\">lim?] </span></span></span></span> </div><div class=\"meta\"><div class=\"features\"></div></div></div><div class=\"contnr word \" ><div class=\"lbl word\"><span class=\"txtp\"><span class=\"plain outer  \" ><span class=\"plain hlbx\"  style=\"border-color: lightsalmon;\" ><span class=\"txtp\">sza# </span></span></span></span> </div><div class=\"meta\"><div class=\"features\"></div></div></div><div class=\"contnr word \" ><div class=\"lbl word\"><span class=\"txtp\"><span class=\"plain outer  \" ><span class=\"plain \" ><span class=\"txtp\">ta-</span></span><span class=\"plain \" ><span class=\"txtp\">asz-</span></span><span class=\"plain \" ><span class=\"txtp\">pu-</span></span><span class=\"plain \" ><span class=\"txtp\">ra-</span></span><span class=\"plain \" ><span class=\"txtp\">am</span></span></span></span> </div><div class=\"meta\"><div class=\"features\"></div></div></div></div></div>"
      ],
      "text/plain": [
       "<IPython.core.display.HTML object>"
      ]
     },
     "metadata": {},
     "output_type": "display_data"
    },
    {
     "data": {
      "text/html": [
       "<p><b>result</b> <i>4</i></p>"
      ],
      "text/plain": [
       "<IPython.core.display.HTML object>"
      ]
     },
     "metadata": {},
     "output_type": "display_data"
    },
    {
     "data": {
      "text/html": [
       "<div class=\"contnr line \" ><div class=\"lbl line\"><a href=\"https://cdli.ucla.edu/search/search_results.php?SearchMode=Text&amp;ObjectID=P510530\" title=\"P510530 reverse:11\" sec=\"P510530 reverse:11\">line <span class=\"txtn\">11</span></a> </div><div class=\"meta\"><div class=\"features\"></div></div><div class=\"children line\"><div class=\"contnr word \" ><div class=\"lbl word\"><span class=\"txtp\"><span class=\"plain outer  \" ><span class=\"plain \" ><span class=\"txtp\">[szu-</span></span><span class=\"plain hlbx\"  style=\"border-color: cyan;\" ><span class=\"txtp\">bu-</span></span><span class=\"plain hlbx\"  style=\"border-color: magenta;\" ><span class=\"txtp\">lim?] </span></span></span></span> </div><div class=\"meta\"><div class=\"features\"></div></div></div><div class=\"contnr word \" ><div class=\"lbl word\"><span class=\"txtp\"><span class=\"plain outer  \" ><span class=\"plain hlbx\"  style=\"border-color: lightsalmon;\" ><span class=\"txtp\">sza# </span></span></span></span> </div><div class=\"meta\"><div class=\"features\"></div></div></div><div class=\"contnr word \" ><div class=\"lbl word\"><span class=\"txtp\"><span class=\"plain outer  \" ><span class=\"plain \" ><span class=\"txtp\">ta-</span></span><span class=\"plain \" ><span class=\"txtp\">asz-</span></span><span class=\"plain \" ><span class=\"txtp\">pu-</span></span><span class=\"plain \" ><span class=\"txtp\">ra-</span></span><span class=\"plain \" ><span class=\"txtp\">am</span></span></span></span> </div><div class=\"meta\"><div class=\"features\"></div></div></div></div></div>"
      ],
      "text/plain": [
       "<IPython.core.display.HTML object>"
      ]
     },
     "metadata": {},
     "output_type": "display_data"
    },
    {
     "data": {
      "text/html": [
       "<p><b>result</b> <i>5</i></p>"
      ],
      "text/plain": [
       "<IPython.core.display.HTML object>"
      ]
     },
     "metadata": {},
     "output_type": "display_data"
    },
    {
     "data": {
      "text/html": [
       "<div class=\"contnr line \" ><div class=\"lbl line\"><a href=\"https://cdli.ucla.edu/search/search_results.php?SearchMode=Text&amp;ObjectID=P510530\" title=\"P510530 reverse:11\" sec=\"P510530 reverse:11\">line <span class=\"txtn\">11</span></a> </div><div class=\"meta\"><div class=\"features\"></div></div><div class=\"children line\"><div class=\"contnr word \" ><div class=\"lbl word\"><span class=\"txtp\"><span class=\"plain outer  \" ><span class=\"plain \" ><span class=\"txtp\">[szu-</span></span><span class=\"plain \" ><span class=\"txtp\">bu-</span></span><span class=\"plain hlbx\"  style=\"border-color: cyan;\" ><span class=\"txtp\">lim?] </span></span></span></span> </div><div class=\"meta\"><div class=\"features\"></div></div></div><div class=\"contnr word \" ><div class=\"lbl word\"><span class=\"txtp\"><span class=\"plain outer  \" ><span class=\"plain hlbx\"  style=\"border-color: lightsalmon;\" ><span class=\"txtp\">sza# </span></span></span></span> </div><div class=\"meta\"><div class=\"features\"></div></div></div><div class=\"contnr word \" ><div class=\"lbl word\"><span class=\"txtp\"><span class=\"plain outer  \" ><span class=\"plain \" ><span class=\"txtp\">ta-</span></span><span class=\"plain \" ><span class=\"txtp\">asz-</span></span><span class=\"plain \" ><span class=\"txtp\">pu-</span></span><span class=\"plain \" ><span class=\"txtp\">ra-</span></span><span class=\"plain \" ><span class=\"txtp\">am</span></span></span></span> </div><div class=\"meta\"><div class=\"features\"></div></div></div></div></div>"
      ],
      "text/plain": [
       "<IPython.core.display.HTML object>"
      ]
     },
     "metadata": {},
     "output_type": "display_data"
    },
    {
     "data": {
      "text/html": [
       "<p><b>result</b> <i>6</i></p>"
      ],
      "text/plain": [
       "<IPython.core.display.HTML object>"
      ]
     },
     "metadata": {},
     "output_type": "display_data"
    },
    {
     "data": {
      "text/html": [
       "<div class=\"contnr line \" ><div class=\"lbl line\"><a href=\"https://cdli.ucla.edu/search/search_results.php?SearchMode=Text&amp;ObjectID=P510534\" title=\"P510534 reverse:15'\" sec=\"P510534 reverse:15'\">line <span class=\"txtn\">15'</span></a> </div><div class=\"meta\"><div class=\"features\"></div></div><div class=\"children line\"><div class=\"contnr word \" ><div class=\"lbl word\"><span class=\"txtp\"><span class=\"plain outer  \" ><span class=\"plain hlbx\"  style=\"border-color: lightsalmon;\" ><span class=\"txtp\">li#-</span></span><span class=\"plain \" ><span class=\"txtp\">iq#-</span></span><span class=\"plain \" ><span class=\"txtp\">bi-</span></span><span class=\"plain \" ><span class=\"txtp\">ma </span></span></span></span> </div><div class=\"meta\"><div class=\"features\"></div></div></div><div class=\"contnr word \" ><div class=\"lbl word\"><span class=\"txtp\"><span class=\"plain outer  \" ><span class=\"plain \" ><span class=\"txtp\">da-</span></span><span class=\"plain \" ><span class=\"txtp\">ba-</span></span><span class=\"plain \" ><span class=\"txtp\">ab#-</span></span><span class=\"plain \" ><span class=\"txtp\">szu </span></span></span></span> </div><div class=\"meta\"><div class=\"features\"></div></div></div><div class=\"contnr word \" ><div class=\"lbl word\"><span class=\"txtp\"><span class=\"plain outer  \" ><span class=\"plain hlbx\"  style=\"border-color: magenta;\" ><span class=\"txtp\">li#?-</span></span><span class=\"plain \" ><span class=\"txtp\">in-</span></span><span class=\"plain \" ><span class=\"txtp\">na-</span></span><span class=\"plain \" ><span class=\"txtp\">me-</span></span><span class=\"plain hlbx\"  style=\"border-color: cyan;\" ><span class=\"txtp\">[er]</span></span></span></span> </div><div class=\"meta\"><div class=\"features\"></div></div></div></div></div>"
      ],
      "text/plain": [
       "<IPython.core.display.HTML object>"
      ]
     },
     "metadata": {},
     "output_type": "display_data"
    },
    {
     "data": {
      "text/html": [
       "<p><b>result</b> <i>7</i></p>"
      ],
      "text/plain": [
       "<IPython.core.display.HTML object>"
      ]
     },
     "metadata": {},
     "output_type": "display_data"
    },
    {
     "data": {
      "text/html": [
       "<div class=\"contnr line \" ><div class=\"lbl line\"><a href=\"https://cdli.ucla.edu/search/search_results.php?SearchMode=Text&amp;ObjectID=P510534\" title=\"P510534 reverse:15'\" sec=\"P510534 reverse:15'\">line <span class=\"txtn\">15'</span></a> </div><div class=\"meta\"><div class=\"features\"></div></div><div class=\"children line\"><div class=\"contnr word \" ><div class=\"lbl word\"><span class=\"txtp\"><span class=\"plain outer  \" ><span class=\"plain \" ><span class=\"txtp\">li#-</span></span><span class=\"plain hlbx\"  style=\"border-color: lightsalmon;\" ><span class=\"txtp\">iq#-</span></span><span class=\"plain \" ><span class=\"txtp\">bi-</span></span><span class=\"plain \" ><span class=\"txtp\">ma </span></span></span></span> </div><div class=\"meta\"><div class=\"features\"></div></div></div><div class=\"contnr word \" ><div class=\"lbl word\"><span class=\"txtp\"><span class=\"plain outer  \" ><span class=\"plain \" ><span class=\"txtp\">da-</span></span><span class=\"plain \" ><span class=\"txtp\">ba-</span></span><span class=\"plain \" ><span class=\"txtp\">ab#-</span></span><span class=\"plain \" ><span class=\"txtp\">szu </span></span></span></span> </div><div class=\"meta\"><div class=\"features\"></div></div></div><div class=\"contnr word \" ><div class=\"lbl word\"><span class=\"txtp\"><span class=\"plain outer  \" ><span class=\"plain hlbx\"  style=\"border-color: magenta;\" ><span class=\"txtp\">li#?-</span></span><span class=\"plain \" ><span class=\"txtp\">in-</span></span><span class=\"plain \" ><span class=\"txtp\">na-</span></span><span class=\"plain \" ><span class=\"txtp\">me-</span></span><span class=\"plain hlbx\"  style=\"border-color: cyan;\" ><span class=\"txtp\">[er]</span></span></span></span> </div><div class=\"meta\"><div class=\"features\"></div></div></div></div></div>"
      ],
      "text/plain": [
       "<IPython.core.display.HTML object>"
      ]
     },
     "metadata": {},
     "output_type": "display_data"
    },
    {
     "data": {
      "text/html": [
       "<p><b>result</b> <i>8</i></p>"
      ],
      "text/plain": [
       "<IPython.core.display.HTML object>"
      ]
     },
     "metadata": {},
     "output_type": "display_data"
    },
    {
     "data": {
      "text/html": [
       "<div class=\"contnr line \" ><div class=\"lbl line\"><a href=\"https://cdli.ucla.edu/search/search_results.php?SearchMode=Text&amp;ObjectID=P510534\" title=\"P510534 reverse:15'\" sec=\"P510534 reverse:15'\">line <span class=\"txtn\">15'</span></a> </div><div class=\"meta\"><div class=\"features\"></div></div><div class=\"children line\"><div class=\"contnr word \" ><div class=\"lbl word\"><span class=\"txtp\"><span class=\"plain outer  \" ><span class=\"plain \" ><span class=\"txtp\">li#-</span></span><span class=\"plain \" ><span class=\"txtp\">iq#-</span></span><span class=\"plain \" ><span class=\"txtp\">bi-</span></span><span class=\"plain \" ><span class=\"txtp\">ma </span></span></span></span> </div><div class=\"meta\"><div class=\"features\"></div></div></div><div class=\"contnr word \" ><div class=\"lbl word\"><span class=\"txtp\"><span class=\"plain outer  \" ><span class=\"plain \" ><span class=\"txtp\">da-</span></span><span class=\"plain \" ><span class=\"txtp\">ba-</span></span><span class=\"plain hlbx\"  style=\"border-color: lightsalmon;\" ><span class=\"txtp\">ab#-</span></span><span class=\"plain \" ><span class=\"txtp\">szu </span></span></span></span> </div><div class=\"meta\"><div class=\"features\"></div></div></div><div class=\"contnr word \" ><div class=\"lbl word\"><span class=\"txtp\"><span class=\"plain outer  \" ><span class=\"plain hlbx\"  style=\"border-color: magenta;\" ><span class=\"txtp\">li#?-</span></span><span class=\"plain \" ><span class=\"txtp\">in-</span></span><span class=\"plain \" ><span class=\"txtp\">na-</span></span><span class=\"plain \" ><span class=\"txtp\">me-</span></span><span class=\"plain hlbx\"  style=\"border-color: cyan;\" ><span class=\"txtp\">[er]</span></span></span></span> </div><div class=\"meta\"><div class=\"features\"></div></div></div></div></div>"
      ],
      "text/plain": [
       "<IPython.core.display.HTML object>"
      ]
     },
     "metadata": {},
     "output_type": "display_data"
    },
    {
     "data": {
      "text/html": [
       "<p><b>result</b> <i>9</i></p>"
      ],
      "text/plain": [
       "<IPython.core.display.HTML object>"
      ]
     },
     "metadata": {},
     "output_type": "display_data"
    },
    {
     "data": {
      "text/html": [
       "<div class=\"contnr line \" ><div class=\"lbl line\"><a href=\"https://cdli.ucla.edu/search/search_results.php?SearchMode=Text&amp;ObjectID=P510534\" title=\"P510534 reverse:15'\" sec=\"P510534 reverse:15'\">line <span class=\"txtn\">15'</span></a> </div><div class=\"meta\"><div class=\"features\"></div></div><div class=\"children line\"><div class=\"contnr word \" ><div class=\"lbl word\"><span class=\"txtp\"><span class=\"plain outer  \" ><span class=\"plain \" ><span class=\"txtp\">li#-</span></span><span class=\"plain \" ><span class=\"txtp\">iq#-</span></span><span class=\"plain \" ><span class=\"txtp\">bi-</span></span><span class=\"plain \" ><span class=\"txtp\">ma </span></span></span></span> </div><div class=\"meta\"><div class=\"features\"></div></div></div><div class=\"contnr word \" ><div class=\"lbl word\"><span class=\"txtp\"><span class=\"plain outer  \" ><span class=\"plain \" ><span class=\"txtp\">da-</span></span><span class=\"plain \" ><span class=\"txtp\">ba-</span></span><span class=\"plain \" ><span class=\"txtp\">ab#-</span></span><span class=\"plain \" ><span class=\"txtp\">szu </span></span></span></span> </div><div class=\"meta\"><div class=\"features\"></div></div></div><div class=\"contnr word \" ><div class=\"lbl word\"><span class=\"txtp\"><span class=\"plain outer  \" ><span class=\"plain hlbx\"  style=\"border-color: magenta;\" ><span class=\"txtp\">li#?-</span></span><span class=\"plain \" ><span class=\"txtp\">in-</span></span><span class=\"plain \" ><span class=\"txtp\">na-</span></span><span class=\"plain \" ><span class=\"txtp\">me-</span></span><span class=\"plain hlbx\"  style=\"border-color: cyan;\" ><span class=\"txtp\">[er]</span></span></span></span> </div><div class=\"meta\"><div class=\"features\"></div></div></div></div></div>"
      ],
      "text/plain": [
       "<IPython.core.display.HTML object>"
      ]
     },
     "metadata": {},
     "output_type": "display_data"
    },
    {
     "data": {
      "text/html": [
       "<p><b>result</b> <i>10</i></p>"
      ],
      "text/plain": [
       "<IPython.core.display.HTML object>"
      ]
     },
     "metadata": {},
     "output_type": "display_data"
    },
    {
     "data": {
      "text/html": [
       "<div class=\"contnr line \" ><div class=\"lbl line\"><a href=\"https://cdli.ucla.edu/search/search_results.php?SearchMode=Text&amp;ObjectID=P510534\" title=\"P510534 reverse:20'\" sec=\"P510534 reverse:20'\">line <span class=\"txtn\">20'</span></a> </div><div class=\"meta\"><div class=\"features\"></div></div><div class=\"children line\"><div class=\"contnr word \" ><div class=\"lbl word\"><span class=\"txtp\"><span class=\"plain outer  \" ><span class=\"plain hlbx\"  style=\"border-color: lightsalmon;\" ><span class=\"txtp\">li#-</span></span><span class=\"plain \" ><span class=\"txtp\">il#-</span></span><span class=\"plain hlbx\"  style=\"border-color: magenta;\" ><span class=\"txtp\">qe2#?-</span></span><span class=\"plain hlbx\"  style=\"border-color: cyan;\" ><span class=\"txtp\">[szu-</span></span><span class=\"plain \" ><span class=\"txtp\">ma?]</span></span></span></span> </div><div class=\"meta\"><div class=\"features\"></div></div></div></div></div>"
      ],
      "text/plain": [
       "<IPython.core.display.HTML object>"
      ]
     },
     "metadata": {},
     "output_type": "display_data"
    }
   ],
   "source": [
    "A.show(results, end=10, colorMap={0: '', 2: 'cyan', 3: 'magenta', 4: 'lightsalmon'})"
   ]
  },
  {
   "cell_type": "markdown",
   "metadata": {},
   "source": [
    "Color mapping works best for uncondensed results. If you condense results, some nodes may occupy\n",
    "different positions in different results. It is unpredictable which color will be used \n",
    "for such nodes:"
   ]
  },
  {
   "cell_type": "code",
   "execution_count": 18,
   "metadata": {
    "ExecuteTime": {
     "end_time": "2018-05-24T07:47:25.094797Z",
     "start_time": "2018-05-24T07:47:25.048277Z"
    }
   },
   "outputs": [
    {
     "data": {
      "text/html": [
       "<p><b>line</b> <i>1</i></p>"
      ],
      "text/plain": [
       "<IPython.core.display.HTML object>"
      ]
     },
     "metadata": {},
     "output_type": "display_data"
    },
    {
     "data": {
      "text/html": [
       "<div class=\"contnr line \" ><div class=\"lbl line\"><a href=\"https://cdli.ucla.edu/search/search_results.php?SearchMode=Text&amp;ObjectID=P510530\" title=\"P510530 obverse:5\" sec=\"P510530 obverse:5\">line <span class=\"txtn\">5</span></a> </div><div class=\"meta\"><div class=\"features\"></div></div><div class=\"children line\"><div class=\"contnr word \" ><div class=\"lbl word\"><span class=\"txtp\"><span class=\"plain outer  \" ><span class=\"plain \" ><span class=\"txtp\">{disz}</span></span><span class=\"plain hlbx\"  style=\"border-color: cyan;\" ><span class=\"txtp\">[{d}</span></span><span class=\"plain hlbx\"  style=\"border-color: magenta;\" ><span class=\"txtp\">x]-</span></span><span class=\"plain hlbx\"  style=\"border-color: lightsalmon;\" ><span class=\"txtp\">ra#?-</span></span><span class=\"plain \" ><span class=\"txtp\">bi </span></span></span></span> </div><div class=\"meta\"><div class=\"features\"></div></div></div><div class=\"contnr word \" ><div class=\"lbl word\"><span class=\"txtp\"><span class=\"plain outer  \" ><span class=\"plain \" ><span class=\"txtp\">il-</span></span><span class=\"plain \" ><span class=\"txtp\">qe2-</span></span><span class=\"plain \" ><span class=\"txtp\">a-</span></span><span class=\"plain \" ><span class=\"txtp\">am-</span></span><span class=\"plain \" ><span class=\"txtp\">ma</span></span></span></span> </div><div class=\"meta\"><div class=\"features\"></div></div></div></div></div>"
      ],
      "text/plain": [
       "<IPython.core.display.HTML object>"
      ]
     },
     "metadata": {},
     "output_type": "display_data"
    },
    {
     "data": {
      "text/html": [
       "<p><b>line</b> <i>2</i></p>"
      ],
      "text/plain": [
       "<IPython.core.display.HTML object>"
      ]
     },
     "metadata": {},
     "output_type": "display_data"
    },
    {
     "data": {
      "text/html": [
       "<div class=\"contnr line \" ><div class=\"lbl line\"><a href=\"https://cdli.ucla.edu/search/search_results.php?SearchMode=Text&amp;ObjectID=P510530\" title=\"P510530 reverse:11\" sec=\"P510530 reverse:11\">line <span class=\"txtn\">11</span></a> </div><div class=\"meta\"><div class=\"features\"></div></div><div class=\"children line\"><div class=\"contnr word \" ><div class=\"lbl word\"><span class=\"txtp\"><span class=\"plain outer  \" ><span class=\"plain hlbx\"  style=\"border-color: cyan;\" ><span class=\"txtp\">[szu-</span></span><span class=\"plain hlbx\"  style=\"border-color: magenta;\" ><span class=\"txtp\">bu-</span></span><span class=\"plain hlbx\"  style=\"border-color: lightsalmon;\" ><span class=\"txtp\">lim?] </span></span></span></span> </div><div class=\"meta\"><div class=\"features\"></div></div></div><div class=\"contnr word \" ><div class=\"lbl word\"><span class=\"txtp\"><span class=\"plain outer  \" ><span class=\"plain hlbx\" ><span class=\"txtp\">sza# </span></span></span></span> </div><div class=\"meta\"><div class=\"features\"></div></div></div><div class=\"contnr word \" ><div class=\"lbl word\"><span class=\"txtp\"><span class=\"plain outer  \" ><span class=\"plain \" ><span class=\"txtp\">ta-</span></span><span class=\"plain \" ><span class=\"txtp\">asz-</span></span><span class=\"plain \" ><span class=\"txtp\">pu-</span></span><span class=\"plain \" ><span class=\"txtp\">ra-</span></span><span class=\"plain \" ><span class=\"txtp\">am</span></span></span></span> </div><div class=\"meta\"><div class=\"features\"></div></div></div></div></div>"
      ],
      "text/plain": [
       "<IPython.core.display.HTML object>"
      ]
     },
     "metadata": {},
     "output_type": "display_data"
    },
    {
     "data": {
      "text/html": [
       "<p><b>line</b> <i>3</i></p>"
      ],
      "text/plain": [
       "<IPython.core.display.HTML object>"
      ]
     },
     "metadata": {},
     "output_type": "display_data"
    },
    {
     "data": {
      "text/html": [
       "<div class=\"contnr line \" ><div class=\"lbl line\"><a href=\"https://cdli.ucla.edu/search/search_results.php?SearchMode=Text&amp;ObjectID=P510534\" title=\"P510534 reverse:15'\" sec=\"P510534 reverse:15'\">line <span class=\"txtn\">15'</span></a> </div><div class=\"meta\"><div class=\"features\"></div></div><div class=\"children line\"><div class=\"contnr word \" ><div class=\"lbl word\"><span class=\"txtp\"><span class=\"plain outer  \" ><span class=\"plain hlbx\"  style=\"border-color: magenta;\" ><span class=\"txtp\">li#-</span></span><span class=\"plain hlbx\"  style=\"border-color: lightsalmon;\" ><span class=\"txtp\">iq#-</span></span><span class=\"plain \" ><span class=\"txtp\">bi-</span></span><span class=\"plain \" ><span class=\"txtp\">ma </span></span></span></span> </div><div class=\"meta\"><div class=\"features\"></div></div></div><div class=\"contnr word \" ><div class=\"lbl word\"><span class=\"txtp\"><span class=\"plain outer  \" ><span class=\"plain \" ><span class=\"txtp\">da-</span></span><span class=\"plain \" ><span class=\"txtp\">ba-</span></span><span class=\"plain hlbx\" ><span class=\"txtp\">ab#-</span></span><span class=\"plain \" ><span class=\"txtp\">szu </span></span></span></span> </div><div class=\"meta\"><div class=\"features\"></div></div></div><div class=\"contnr word \" ><div class=\"lbl word\"><span class=\"txtp\"><span class=\"plain outer  \" ><span class=\"plain hlbx\" ><span class=\"txtp\">li#?-</span></span><span class=\"plain \" ><span class=\"txtp\">in-</span></span><span class=\"plain \" ><span class=\"txtp\">na-</span></span><span class=\"plain \" ><span class=\"txtp\">me-</span></span><span class=\"plain hlbx\"  style=\"border-color: cyan;\" ><span class=\"txtp\">[er]</span></span></span></span> </div><div class=\"meta\"><div class=\"features\"></div></div></div></div></div>"
      ],
      "text/plain": [
       "<IPython.core.display.HTML object>"
      ]
     },
     "metadata": {},
     "output_type": "display_data"
    },
    {
     "data": {
      "text/html": [
       "<p><b>line</b> <i>4</i></p>"
      ],
      "text/plain": [
       "<IPython.core.display.HTML object>"
      ]
     },
     "metadata": {},
     "output_type": "display_data"
    },
    {
     "data": {
      "text/html": [
       "<div class=\"contnr line \" ><div class=\"lbl line\"><a href=\"https://cdli.ucla.edu/search/search_results.php?SearchMode=Text&amp;ObjectID=P510534\" title=\"P510534 reverse:20'\" sec=\"P510534 reverse:20'\">line <span class=\"txtn\">20'</span></a> </div><div class=\"meta\"><div class=\"features\"></div></div><div class=\"children line\"><div class=\"contnr word \" ><div class=\"lbl word\"><span class=\"txtp\"><span class=\"plain outer  \" ><span class=\"plain hlbx\"  style=\"border-color: cyan;\" ><span class=\"txtp\">li#-</span></span><span class=\"plain hlbx\"  style=\"border-color: magenta;\" ><span class=\"txtp\">il#-</span></span><span class=\"plain hlbx\"  style=\"border-color: lightsalmon;\" ><span class=\"txtp\">qe2#?-</span></span><span class=\"plain hlbx\" ><span class=\"txtp\">[szu-</span></span><span class=\"plain hlbx\" ><span class=\"txtp\">ma?]</span></span></span></span> </div><div class=\"meta\"><div class=\"features\"></div></div></div></div></div>"
      ],
      "text/plain": [
       "<IPython.core.display.HTML object>"
      ]
     },
     "metadata": {},
     "output_type": "display_data"
    },
    {
     "data": {
      "text/html": [
       "<p><b>line</b> <i>5</i></p>"
      ],
      "text/plain": [
       "<IPython.core.display.HTML object>"
      ]
     },
     "metadata": {},
     "output_type": "display_data"
    },
    {
     "data": {
      "text/html": [
       "<div class=\"contnr line \" ><div class=\"lbl line\"><a href=\"https://cdli.ucla.edu/search/search_results.php?SearchMode=Text&amp;ObjectID=P510546\" title=\"P510546 obverse:1\" sec=\"P510546 obverse:1\">line <span class=\"txtn\">1</span></a> </div><div class=\"meta\"><div class=\"features\"></div></div><div class=\"children line\"><div class=\"contnr word \" ><div class=\"lbl word\"><span class=\"txtp\"><span class=\"plain outer  \" ><span class=\"plain \" ><span class=\"txtp\">a-</span></span><span class=\"plain \" ><span class=\"txtp\">na </span></span></span></span> </div><div class=\"meta\"><div class=\"features\"></div></div></div><div class=\"contnr word \" ><div class=\"lbl word\"><span class=\"txtp\"><span class=\"plain outer  \" ><span class=\"plain \" ><span class=\"txtp\">{d}</span></span><span class=\"plain hlbx\"  style=\"border-color: cyan;\" ><span class=\"txtp\">na#-</span></span><span class=\"plain hlbx\"  style=\"border-color: magenta;\" ><span class=\"txtp\">[bi-</span></span><span class=\"plain hlbx\"  style=\"border-color: lightsalmon;\" ><span class=\"txtp\">um-</span></span><span class=\"plain hlbx\" ><span class=\"txtp\">at-</span></span><span class=\"plain hlbx\" ><span class=\"txtp\">pa-</span></span><span class=\"plain hlbx\" ><span class=\"txtp\">lam?]</span></span></span></span> </div><div class=\"meta\"><div class=\"features\"></div></div></div></div></div>"
      ],
      "text/plain": [
       "<IPython.core.display.HTML object>"
      ]
     },
     "metadata": {},
     "output_type": "display_data"
    },
    {
     "data": {
      "text/html": [
       "<p><b>line</b> <i>6</i></p>"
      ],
      "text/plain": [
       "<IPython.core.display.HTML object>"
      ]
     },
     "metadata": {},
     "output_type": "display_data"
    },
    {
     "data": {
      "text/html": [
       "<div class=\"contnr line \" ><div class=\"lbl line\"><a href=\"https://cdli.ucla.edu/search/search_results.php?SearchMode=Text&amp;ObjectID=P510550\" title=\"P510550 obverse:9\" sec=\"P510550 obverse:9\">line <span class=\"txtn\">9</span></a> </div><div class=\"meta\"><div class=\"features\"></div></div><div class=\"children line\"><div class=\"contnr word \" ><div class=\"lbl word\"><span class=\"txtp\"><span class=\"plain outer  \" ><span class=\"plain \" ><span class=\"txtp\">_ha-</span></span><span class=\"plain \" ><span class=\"txtp\">za-</span></span><span class=\"plain \" ><span class=\"txtp\">nu-</span></span><span class=\"plain \" ><span class=\"txtp\">um</span></span><span class=\"plain \" ><span class=\"txtp\">{sar}_ </span></span></span></span> </div><div class=\"meta\"><div class=\"features\"></div></div></div><div class=\"contnr word \" ><div class=\"lbl word\"><span class=\"txtp\"><span class=\"plain outer  \" ><span class=\"plain \" ><span class=\"txtp\">i-</span></span><span class=\"plain \" ><span class=\"txtp\">ka-</span></span><span class=\"plain hlbx\"  style=\"border-color: cyan;\" ><span class=\"txtp\">am#? </span></span></span></span> </div><div class=\"meta\"><div class=\"features\"></div></div></div><div class=\"contnr word \" ><div class=\"lbl word\"><span class=\"txtp\"><span class=\"plain outer  \" ><span class=\"plain hlbx\"  style=\"border-color: magenta;\" ><span class=\"txtp\">[x] </span></span></span></span> </div><div class=\"meta\"><div class=\"features\"></div></div></div><div class=\"contnr word \" ><div class=\"lbl word\"><span class=\"txtp\"><span class=\"plain outer  \" ><span class=\"plain \" ><span class=\"txtp\">x-</span></span><span class=\"plain hlbx\"  style=\"border-color: lightsalmon;\" ><span class=\"txtp\">al#-</span></span><span class=\"plain \" ><span class=\"txtp\">la-</span></span><span class=\"plain \" ><span class=\"txtp\">x-</span></span><span class=\"plain \" ><span class=\"txtp\">ma</span></span></span></span> </div><div class=\"meta\"><div class=\"features\"></div></div></div></div></div>"
      ],
      "text/plain": [
       "<IPython.core.display.HTML object>"
      ]
     },
     "metadata": {},
     "output_type": "display_data"
    },
    {
     "data": {
      "text/html": [
       "<p><b>line</b> <i>7</i></p>"
      ],
      "text/plain": [
       "<IPython.core.display.HTML object>"
      ]
     },
     "metadata": {},
     "output_type": "display_data"
    },
    {
     "data": {
      "text/html": [
       "<div class=\"contnr line \" ><div class=\"lbl line\"><a href=\"https://cdli.ucla.edu/search/search_results.php?SearchMode=Text&amp;ObjectID=P510554\" title=\"P510554 reverse:10\" sec=\"P510554 reverse:10\">line <span class=\"txtn\">10</span></a> </div><div class=\"meta\"><div class=\"features\"></div></div><div class=\"children line\"><div class=\"contnr word \" ><div class=\"lbl word\"><span class=\"txtp\"><span class=\"plain outer  \" ><span class=\"plain \" ><span class=\"txtp\">_1(disz) </span></span></span></span> </div><div class=\"meta\"><div class=\"features\"></div></div></div><div class=\"contnr word \" ><div class=\"lbl word\"><span class=\"txtp\"><span class=\"plain outer  \" ><span class=\"plain \" ><span class=\"txtp\">sila3 </span></span></span></span> </div><div class=\"meta\"><div class=\"features\"></div></div></div><div class=\"contnr word \" ><div class=\"lbl word\"><span class=\"txtp\"><span class=\"plain outer  \" ><span class=\"plain \" ><span class=\"txtp\">sze_ </span></span></span></span> </div><div class=\"meta\"><div class=\"features\"></div></div></div><div class=\"contnr word \" ><div class=\"lbl word\"><span class=\"txtp\"><span class=\"plain outer  \" ><span class=\"plain hlbx\"  style=\"border-color: cyan;\" ><span class=\"txtp\">la# </span></span></span></span> </div><div class=\"meta\"><div class=\"features\"></div></div></div><div class=\"contnr word \" ><div class=\"lbl word\"><span class=\"txtp\"><span class=\"plain outer  \" ><span class=\"plain hlbx\"  style=\"border-color: magenta;\" ><span class=\"txtp\">[i-</span></span><span class=\"plain hlbx\"  style=\"border-color: lightsalmon;\" ><span class=\"txtp\">ka-</span></span><span class=\"plain hlbx\" ><span class=\"txtp\">al-</span></span><span class=\"plain hlbx\" ><span class=\"txtp\">la?]</span></span></span></span> </div><div class=\"meta\"><div class=\"features\"></div></div></div></div></div>"
      ],
      "text/plain": [
       "<IPython.core.display.HTML object>"
      ]
     },
     "metadata": {},
     "output_type": "display_data"
    },
    {
     "data": {
      "text/html": [
       "<p><b>line</b> <i>8</i></p>"
      ],
      "text/plain": [
       "<IPython.core.display.HTML object>"
      ]
     },
     "metadata": {},
     "output_type": "display_data"
    },
    {
     "data": {
      "text/html": [
       "<div class=\"contnr line \" ><div class=\"lbl line\"><a href=\"https://cdli.ucla.edu/search/search_results.php?SearchMode=Text&amp;ObjectID=P510560\" title=\"P510560 obverse:9\" sec=\"P510560 obverse:9\">line <span class=\"txtn\">9</span></a> </div><div class=\"meta\"><div class=\"features\"></div></div><div class=\"children line\"><div class=\"contnr word \" ><div class=\"lbl word\"><span class=\"txtp\"><span class=\"plain outer  \" ><span class=\"plain \" ><span class=\"txtp\">isz-</span></span><span class=\"plain \" ><span class=\"txtp\">ti-</span></span><span class=\"plain hlbx\"  style=\"border-color: cyan;\" ><span class=\"txtp\">isz#-</span></span><span class=\"plain hlbx\"  style=\"border-color: magenta;\" ><span class=\"txtp\">[szu </span></span></span></span> </div><div class=\"meta\"><div class=\"features\"></div></div></div><div class=\"contnr word \" ><div class=\"lbl word\"><span class=\"txtp\"><span class=\"plain outer  \" ><span class=\"plain hlbx\"  style=\"border-color: lightsalmon;\" ><span class=\"txtp\">szi-</span></span><span class=\"plain hlbx\" ><span class=\"txtp\">ni-</span></span><span class=\"plain hlbx\" ><span class=\"txtp\">szu?] </span></span></span></span> </div><div class=\"meta\"><div class=\"features\"></div></div></div><div class=\"contnr word \" ><div class=\"lbl word\"><span class=\"txtp\"><span class=\"plain outer  \" ><span class=\"plain \" ><span class=\"txtp\">x </span></span></span></span> </div><div class=\"meta\"><div class=\"features\"></div></div></div><div class=\"contnr word \" ><div class=\"lbl word\"><span class=\"txtp\"><span class=\"plain outer  \" ><span class=\"plain \" ><span class=\"txtp\">_hi-</span></span><span class=\"plain \" ><span class=\"txtp\">a_</span></span></span></span> </div><div class=\"meta\"><div class=\"features\"></div></div></div></div></div>"
      ],
      "text/plain": [
       "<IPython.core.display.HTML object>"
      ]
     },
     "metadata": {},
     "output_type": "display_data"
    },
    {
     "data": {
      "text/html": [
       "<p><b>line</b> <i>9</i></p>"
      ],
      "text/plain": [
       "<IPython.core.display.HTML object>"
      ]
     },
     "metadata": {},
     "output_type": "display_data"
    },
    {
     "data": {
      "text/html": [
       "<div class=\"contnr line \" ><div class=\"lbl line\"><a href=\"https://cdli.ucla.edu/search/search_results.php?SearchMode=Text&amp;ObjectID=P510562\" title=\"P510562 reverse:15\" sec=\"P510562 reverse:15\">line <span class=\"txtn\">15</span></a> </div><div class=\"meta\"><div class=\"features\"></div></div><div class=\"children line\"><div class=\"contnr word \" ><div class=\"lbl word\"><span class=\"txtp\"><span class=\"plain outer  \" ><span class=\"plain \" ><span class=\"txtp\">i-</span></span><span class=\"plain \" ><span class=\"txtp\">ri-</span></span><span class=\"plain \" ><span class=\"txtp\">isz-</span></span><span class=\"plain \" ><span class=\"txtp\">ka </span></span></span></span> </div><div class=\"meta\"><div class=\"features\"></div></div></div><div class=\"contnr word \" ><div class=\"lbl word\"><span class=\"txtp\"><span class=\"plain outer  \" ><span class=\"plain \" ><span class=\"txtp\">um-</span></span><span class=\"plain hlbx\"  style=\"border-color: cyan;\" ><span class=\"txtp\">ma# </span></span></span></span> </div><div class=\"meta\"><div class=\"features\"></div></div></div><div class=\"contnr word \" ><div class=\"lbl word\"><span class=\"txtp\"><span class=\"plain outer  \" ><span class=\"plain hlbx\"  style=\"border-color: magenta;\" ><span class=\"txtp\">[at-</span></span><span class=\"plain hlbx\"  style=\"border-color: lightsalmon;\" ><span class=\"txtp\">ta]-</span></span><span class=\"plain \" ><span class=\"txtp\">a-</span></span><span class=\"plain \" ><span class=\"txtp\">ma </span></span></span></span> </div><div class=\"meta\"><div class=\"features\"></div></div></div><div class=\"contnr word \" ><div class=\"lbl word\"><span class=\"txtp\"><span class=\"plain outer  \" ><span class=\"plain \" ><span class=\"txtp\">i-</span></span><span class=\"plain \" ><span class=\"txtp\">na </span></span></span></span> </div><div class=\"meta\"><div class=\"features\"></div></div></div><div class=\"contnr word \" ><div class=\"lbl word\"><span class=\"txtp\"><span class=\"plain outer  \" ><span class=\"plain \" ><span class=\"txtp\">_{gesz}</span></span><span class=\"plain hlbx\" ><span class=\"txtp\">ma2?_-</span></span><span class=\"plain hlbx\" ><span class=\"txtp\">[ma?]</span></span></span></span> </div><div class=\"meta\"><div class=\"features\"></div></div></div></div></div>"
      ],
      "text/plain": [
       "<IPython.core.display.HTML object>"
      ]
     },
     "metadata": {},
     "output_type": "display_data"
    },
    {
     "data": {
      "text/html": [
       "<p><b>line</b> <i>10</i></p>"
      ],
      "text/plain": [
       "<IPython.core.display.HTML object>"
      ]
     },
     "metadata": {},
     "output_type": "display_data"
    },
    {
     "data": {
      "text/html": [
       "<div class=\"contnr line \" ><div class=\"lbl line\"><a href=\"https://cdli.ucla.edu/search/search_results.php?SearchMode=Text&amp;ObjectID=P510565\" title=\"P510565 reverse:4\" sec=\"P510565 reverse:4\">line <span class=\"txtn\">4</span></a> </div><div class=\"meta\"><div class=\"features\"></div></div><div class=\"children line\"><div class=\"contnr word \" ><div class=\"lbl word\"><span class=\"txtp\"><span class=\"plain outer  \" ><span class=\"plain hlbx\"  style=\"border-color: cyan;\" ><span class=\"txtp\">[a-</span></span><span class=\"plain hlbx\"  style=\"border-color: magenta;\" ><span class=\"txtp\">na?] </span></span></span></span> </div><div class=\"meta\"><div class=\"features\"></div></div></div><div class=\"contnr word \" ><div class=\"lbl word\"><span class=\"txtp\"><span class=\"plain outer  \" ><span class=\"plain \" ><span class=\"txtp\">_e2_ </span></span></span></span> </div><div class=\"meta\"><div class=\"features\"></div></div></div><div class=\"contnr word \" ><div class=\"lbl word\"><span class=\"txtp\"><span class=\"plain outer  \" ><span class=\"plain \" ><span class=\"txtp\">{d}</span></span><span class=\"plain \" ><span class=\"txtp\">utu </span></span></span></span> </div><div class=\"meta\"><div class=\"features\"></div></div></div><div class=\"contnr word \" ><div class=\"lbl word\"><span class=\"txtp\"><span class=\"plain outer  \" ><span class=\"plain \" ><span class=\"txtp\">szu-</span></span><span class=\"plain \" ><span class=\"txtp\">ri-</span></span><span class=\"plain \" ><span class=\"txtp\">ba-</span></span><span class=\"plain hlbx\"  style=\"border-color: lightsalmon;\" ><span class=\"txtp\">am#</span></span></span></span> </div><div class=\"meta\"><div class=\"features\"></div></div></div></div></div>"
      ],
      "text/plain": [
       "<IPython.core.display.HTML object>"
      ]
     },
     "metadata": {},
     "output_type": "display_data"
    }
   ],
   "source": [
    "A.show(results, condensed=True, end=10, colorMap={0: '', 2: 'cyan', 3: 'magenta', 4: 'lightsalmon'})"
   ]
  },
  {
   "cell_type": "markdown",
   "metadata": {},
   "source": [
    "You can specify to what container you want to condense. By default, everything is condensed to lines.\n",
    "\n",
    "Let's change that to faces.\n",
    "Note that the `end` parameter counts the number of faces now."
   ]
  },
  {
   "cell_type": "code",
   "execution_count": 19,
   "metadata": {},
   "outputs": [
    {
     "data": {
      "text/html": [
       "<p><b>face</b> <i>1</i></p>"
      ],
      "text/plain": [
       "<IPython.core.display.HTML object>"
      ]
     },
     "metadata": {},
     "output_type": "display_data"
    },
    {
     "data": {
      "text/html": [
       "<div class=\"contnr face \" ><div class=\"lbl face\"><a href=\"https://cdli.ucla.edu/search/search_results.php?SearchMode=Text&amp;ObjectID=P510530\" title=\"P510530 obverse\" sec=\"P510530 obverse\">face <span class=\"txtn\">obverse</span></a> </div><div class=\"meta\"><div class=\"features\"> <span class=\"object\">tablet</span></div></div><div class=\"children face\"><div class=\"contnr line \" ><div class=\"lbl line\"><span class=\"txtn\">1</span> </div><div class=\"meta\"><div class=\"features\"></div></div><div class=\"children line\"><div class=\"contnr word \" ><div class=\"lbl word\"><span class=\"txtp\"><span class=\"plain outer  \" ><span class=\"plain \" ><span class=\"txtp\">[a-</span></span><span class=\"plain \" ><span class=\"txtp\">na] </span></span></span></span> </div><div class=\"meta\"><div class=\"features\"></div></div></div><div class=\"contnr word \" ><div class=\"lbl word\"><span class=\"txtp\"><span class=\"plain outer  \" ><span class=\"plain \" ><span class=\"txtp\">dingir-</span></span><span class=\"plain \" ><span class=\"txtp\">szu-</span></span><span class=\"plain \" ><span class=\"txtp\">ib-</span></span><span class=\"plain \" ><span class=\"txtp\">ni</span></span></span></span> </div><div class=\"meta\"><div class=\"features\"></div></div></div></div></div><div class=\"contnr line \" ><div class=\"lbl line\"><span class=\"txtn\">2</span> </div><div class=\"meta\"><div class=\"features\"></div></div><div class=\"children line\"><div class=\"contnr word \" ><div class=\"lbl word\"><span class=\"txtp\"><span class=\"plain outer  \" ><span class=\"plain \" ><span class=\"txtp\">[qi2]-</span></span><span class=\"plain \" ><span class=\"txtp\">bi2#-</span></span><span class=\"plain \" ><span class=\"txtp\">ma</span></span></span></span> </div><div class=\"meta\"><div class=\"features\"></div></div></div></div></div><div class=\"contnr line \" ><div class=\"lbl line\"><span class=\"txtn\">3</span> </div><div class=\"meta\"><div class=\"features\"></div></div><div class=\"children line\"><div class=\"contnr word \" ><div class=\"lbl word\"><span class=\"txtp\"><span class=\"plain outer  \" ><span class=\"plain \" ><span class=\"txtp\">[um-</span></span><span class=\"plain \" ><span class=\"txtp\">ma </span></span></span></span> </div><div class=\"meta\"><div class=\"features\"></div></div></div><div class=\"contnr word \" ><div class=\"lbl word\"><span class=\"txtp\"><span class=\"plain outer  \" ><span class=\"plain \" ><span class=\"txtp\">{d}</span></span><span class=\"plain \" ><span class=\"txtp\">na-</span></span><span class=\"plain \" ><span class=\"txtp\">bi]-</span></span><span class=\"plain \" ><span class=\"txtp\">um#-</span></span><span class=\"plain \" ><span class=\"txtp\">na-</span></span><span class=\"plain \" ><span class=\"txtp\">s,i-</span></span><span class=\"plain \" ><span class=\"txtp\">ir-</span></span><span class=\"plain \" ><span class=\"txtp\">ma</span></span></span></span> </div><div class=\"meta\"><div class=\"features\"></div></div></div></div></div><div class=\"contnr line \" ><div class=\"lbl line\"><span class=\"txtn\">4</span> </div><div class=\"meta\"><div class=\"features\"></div></div><div class=\"children line\"><div class=\"contnr word \" ><div class=\"lbl word\"><span class=\"txtp\"><span class=\"plain outer  \" ><span class=\"plain \" ><span class=\"txtp\">[sze-</span></span><span class=\"plain \" ><span class=\"txtp\">a-</span></span><span class=\"plain \" ><span class=\"txtp\">am] </span></span></span></span> </div><div class=\"meta\"><div class=\"features\"></div></div></div><div class=\"contnr word \" ><div class=\"lbl word\"><span class=\"txtp\"><span class=\"plain outer  \" ><span class=\"plain \" ><span class=\"txtp\">a-</span></span><span class=\"plain \" ><span class=\"txtp\">na </span></span></span></span> </div><div class=\"meta\"><div class=\"features\"></div></div></div><div class=\"contnr word \" ><div class=\"lbl word\"><span class=\"txtp\"><span class=\"plain outer  \" ><span class=\"plain \" ><span class=\"txtp\">_al-</span></span><span class=\"plain \" ><span class=\"txtp\">du3_-</span></span><span class=\"plain \" ><span class=\"txtp\">e-</span></span><span class=\"plain \" ><span class=\"txtp\">ka</span></span></span></span> </div><div class=\"meta\"><div class=\"features\"></div></div></div></div></div><div class=\"contnr line hl\"  style=\"background-color: cyan;\" ><div class=\"lbl line\"><span class=\"txtn\">5</span> </div><div class=\"meta\"><div class=\"features\"></div></div><div class=\"children line\"><div class=\"contnr word \" ><div class=\"lbl word\"><span class=\"txtp\"><span class=\"plain outer  \" ><span class=\"plain \" ><span class=\"txtp\">{disz}</span></span><span class=\"plain hlbx\"  style=\"border-color: magenta;\" ><span class=\"txtp\">[{d}</span></span><span class=\"plain hlbx\"  style=\"border-color: lightsalmon;\" ><span class=\"txtp\">x]-</span></span><span class=\"plain hlbx\" ><span class=\"txtp\">ra#?-</span></span><span class=\"plain \" ><span class=\"txtp\">bi </span></span></span></span> </div><div class=\"meta\"><div class=\"features\"></div></div></div><div class=\"contnr word \" ><div class=\"lbl word\"><span class=\"txtp\"><span class=\"plain outer  \" ><span class=\"plain \" ><span class=\"txtp\">il-</span></span><span class=\"plain \" ><span class=\"txtp\">qe2-</span></span><span class=\"plain \" ><span class=\"txtp\">a-</span></span><span class=\"plain \" ><span class=\"txtp\">am-</span></span><span class=\"plain \" ><span class=\"txtp\">ma</span></span></span></span> </div><div class=\"meta\"><div class=\"features\"></div></div></div></div></div><div class=\"contnr line \" ><div class=\"lbl line\"><span class=\"txtn\">6</span> </div><div class=\"meta\"><div class=\"features\"></div></div><div class=\"children line\"><div class=\"contnr word \" ><div class=\"lbl word\"><span class=\"txtp\"><span class=\"plain outer  \" ><span class=\"plain \" ><span class=\"txtp\">a-</span></span><span class=\"plain \" ><span class=\"txtp\">na </span></span></span></span> </div><div class=\"meta\"><div class=\"features\"></div></div></div><div class=\"contnr word \" ><div class=\"lbl word\"><span class=\"txtp\"><span class=\"plain outer  \" ><span class=\"plain \" ><span class=\"txtp\">ma#-</span></span><span class=\"plain \" ><span class=\"txtp\">ah-</span></span><span class=\"plain \" ><span class=\"txtp\">ri-</span></span><span class=\"plain \" ><span class=\"txtp\">ka </span></span></span></span> </div><div class=\"meta\"><div class=\"features\"></div></div></div><div class=\"contnr word \" ><div class=\"lbl word\"><span class=\"txtp\"><span class=\"plain outer  \" ><span class=\"plain \" ><span class=\"txtp\">it-</span></span><span class=\"plain \" ><span class=\"txtp\">ta-</span></span><span class=\"plain \" ><span class=\"txtp\">al-</span></span><span class=\"plain \" ><span class=\"txtp\">kam</span></span></span></span> </div><div class=\"meta\"><div class=\"features\"></div></div></div></div></div><div class=\"contnr line \" ><div class=\"lbl line\"><span class=\"txtn\">7</span> </div><div class=\"meta\"><div class=\"features\"></div></div><div class=\"children line\"><div class=\"contnr word \" ><div class=\"lbl word\"><span class=\"txtp\"><span class=\"plain outer  \" ><span class=\"plain \" ><span class=\"txtp\">_a-</span></span><span class=\"plain \" ><span class=\"txtp\">sza3_ </span></span></span></span> </div><div class=\"meta\"><div class=\"features\"></div></div></div><div class=\"contnr word \" ><div class=\"lbl word\"><span class=\"txtp\"><span class=\"plain outer  \" ><span class=\"plain \" ><span class=\"txtp\">pi2-</span></span><span class=\"plain \" ><span class=\"txtp\">ha-</span></span><span class=\"plain \" ><span class=\"txtp\">ti-</span></span><span class=\"plain \" ><span class=\"txtp\">ka </span></span></span></span> </div><div class=\"meta\"><div class=\"features\"></div></div></div><div class=\"contnr word \" ><div class=\"lbl word\"><span class=\"txtp\"><span class=\"plain outer  \" ><span class=\"plain \" ><span class=\"txtp\">szu-</span></span><span class=\"plain \" ><span class=\"txtp\">ta-</span></span><span class=\"plain \" ><span class=\"txtp\">ak-</span></span><span class=\"plain \" ><span class=\"txtp\">szi-</span></span><span class=\"plain \" ><span class=\"txtp\">id-</span></span><span class=\"plain \" ><span class=\"txtp\">ma</span></span></span></span> </div><div class=\"meta\"><div class=\"features\"></div></div></div></div></div><div class=\"contnr line \" ><div class=\"lbl line\"><span class=\"txtn\">8</span> </div><div class=\"meta\"><div class=\"features\"></div></div><div class=\"children line\"><div class=\"contnr word \" ><div class=\"lbl word\"><span class=\"txtp\"><span class=\"plain outer  \" ><span class=\"plain \" ><span class=\"txtp\">ne-</span></span><span class=\"plain \" ><span class=\"txtp\">me-</span></span><span class=\"plain \" ><span class=\"txtp\">et-</span></span><span class=\"plain \" ><span class=\"txtp\">tam </span></span></span></span> </div><div class=\"meta\"><div class=\"features\"></div></div></div><div class=\"contnr word \" ><div class=\"lbl word\"><span class=\"txtp\"><span class=\"plain outer  \" ><span class=\"plain \" ><span class=\"txtp\">la </span></span></span></span> </div><div class=\"meta\"><div class=\"features\"></div></div></div><div class=\"contnr word \" ><div class=\"lbl word\"><span class=\"txtp\"><span class=\"plain outer  \" ><span class=\"plain \" ><span class=\"txtp\">ta-</span></span><span class=\"plain \" ><span class=\"txtp\">ra-</span></span><span class=\"plain \" ><span class=\"txtp\">asz-</span></span><span class=\"plain \" ><span class=\"txtp\">szi</span></span></span></span> </div><div class=\"meta\"><div class=\"features\"></div></div></div></div></div><div class=\"contnr line \" ><div class=\"lbl line\"><span class=\"txtn\">9</span> </div><div class=\"meta\"><div class=\"features\"></div></div><div class=\"children line\"><div class=\"contnr word \" ><div class=\"lbl word\"><span class=\"txtp\"><span class=\"plain outer  \" ><span class=\"plain \" ><span class=\"txtp\">asz-</span></span><span class=\"plain \" ><span class=\"txtp\">szum </span></span></span></span> </div><div class=\"meta\"><div class=\"features\"></div></div></div><div class=\"contnr word \" ><div class=\"lbl word\"><span class=\"txtp\"><span class=\"plain outer  \" ><span class=\"plain \" ><span class=\"txtp\">dingir-</span></span><span class=\"plain \" ><span class=\"txtp\">szu-</span></span><span class=\"plain \" ><span class=\"txtp\">ib-</span></span><span class=\"plain \" ><span class=\"txtp\">ni </span></span></span></span> </div><div class=\"meta\"><div class=\"features\"></div></div></div><div class=\"contnr word \" ><div class=\"lbl word\"><span class=\"txtp\"><span class=\"plain outer  \" ><span class=\"plain \" ><span class=\"txtp\">sza-</span></span><span class=\"plain \" ><span class=\"txtp\">pir </span></span></span></span> </div><div class=\"meta\"><div class=\"features\"></div></div></div><div class=\"contnr word \" ><div class=\"lbl word\"><span class=\"txtp\"><span class=\"plain outer  \" ><span class=\"plain \" ><span class=\"txtp\">zimbir</span></span><span class=\"plain \" ><span class=\"txtp\">{ki}</span></span></span></span> </div><div class=\"meta\"><div class=\"features\"></div></div></div></div></div><div class=\"contnr line \" ><div class=\"lbl line\"><span class=\"txtn\">10</span> </div><div class=\"meta\"><div class=\"features\"></div></div><div class=\"children line\"><div class=\"contnr word \" ><div class=\"lbl word\"><span class=\"txtp\"><span class=\"plain outer  \" ><span class=\"plain \" ><span class=\"txtp\">sza </span></span></span></span> </div><div class=\"meta\"><div class=\"features\"></div></div></div><div class=\"contnr word \" ><div class=\"lbl word\"><span class=\"txtp\"><span class=\"plain outer  \" ><span class=\"plain \" ><span class=\"txtp\">ki-</span></span><span class=\"plain \" ><span class=\"txtp\">a-</span></span><span class=\"plain \" ><span class=\"txtp\">am </span></span></span></span> </div><div class=\"meta\"><div class=\"features\"></div></div></div><div class=\"contnr word \" ><div class=\"lbl word\"><span class=\"txtp\"><span class=\"plain outer  \" ><span class=\"plain \" ><span class=\"txtp\">ta-</span></span><span class=\"plain \" ><span class=\"txtp\">asz-</span></span><span class=\"plain \" ><span class=\"txtp\">pu-</span></span><span class=\"plain \" ><span class=\"txtp\">ra-</span></span><span class=\"plain \" ><span class=\"txtp\">am </span></span></span></span> </div><div class=\"meta\"><div class=\"features\"></div></div></div><div class=\"contnr word \" ><div class=\"lbl word\"><span class=\"txtp\"><span class=\"plain outer  \" ><span class=\"plain \" ><span class=\"txtp\">um-</span></span><span class=\"plain \" ><span class=\"txtp\">ma </span></span></span></span> </div><div class=\"meta\"><div class=\"features\"></div></div></div><div class=\"contnr word \" ><div class=\"lbl word\"><span class=\"txtp\"><span class=\"plain outer  \" ><span class=\"plain \" ><span class=\"txtp\">at-</span></span><span class=\"plain \" ><span class=\"txtp\">ta-</span></span><span class=\"plain \" ><span class=\"txtp\">ma#</span></span></span></span> </div><div class=\"meta\"><div class=\"features\"></div></div></div></div></div><div class=\"contnr line \" ><div class=\"lbl line\"><span class=\"txtn\">11</span> </div><div class=\"meta\"><div class=\"features\"></div></div><div class=\"children line\"><div class=\"contnr word \" ><div class=\"lbl word\"><span class=\"txtp\"><span class=\"plain outer  \" ><span class=\"plain \" ><span class=\"txtp\">_1(disz) </span></span></span></span> </div><div class=\"meta\"><div class=\"features\"></div></div></div><div class=\"contnr word \" ><div class=\"lbl word\"><span class=\"txtp\"><span class=\"plain outer  \" ><span class=\"plain \" ><span class=\"txtp\">gu4_ </span></span></span></span> </div><div class=\"meta\"><div class=\"features\"></div></div></div><div class=\"contnr word \" ><div class=\"lbl word\"><span class=\"txtp\"><span class=\"plain outer  \" ><span class=\"plain \" ><span class=\"txtp\">ar-</span></span><span class=\"plain \" ><span class=\"txtp\">ki-</span></span><span class=\"plain \" ><span class=\"txtp\">a </span></span></span></span> </div><div class=\"meta\"><div class=\"features\"></div></div></div><div class=\"contnr word \" ><div class=\"lbl word\"><span class=\"txtp\"><span class=\"plain outer  \" ><span class=\"plain \" ><span class=\"txtp\">a-</span></span><span class=\"plain \" ><span class=\"txtp\">na </span></span></span></span> </div><div class=\"meta\"><div class=\"features\"></div></div></div><div class=\"contnr word \" ><div class=\"lbl word\"><span class=\"txtp\"><span class=\"plain outer  \" ><span class=\"plain \" ><span class=\"txtp\">_gu4_ </span></span></span></span> </div><div class=\"meta\"><div class=\"features\"></div></div></div><div class=\"contnr word \" ><div class=\"lbl word\"><span class=\"txtp\"><span class=\"plain outer  \" ><span class=\"plain \" ><span class=\"txtp\">ki-</span></span><span class=\"plain \" ><span class=\"txtp\">ma </span></span></span></span> </div><div class=\"meta\"><div class=\"features\"></div></div></div><div class=\"contnr word \" ><div class=\"lbl word\"><span class=\"txtp\"><span class=\"plain outer  \" ><span class=\"plain \" ><span class=\"txtp\">_gu4_ </span></span></span></span> </div><div class=\"meta\"><div class=\"features\"></div></div></div><div class=\"contnr word \" ><div class=\"lbl word\"><span class=\"txtp\"><span class=\"plain outer  \" ><span class=\"plain \" ><span class=\"txtp\">pu-</span></span><span class=\"plain \" ><span class=\"txtp\">uh2-</span></span><span class=\"plain \" ><span class=\"txtp\">hi</span></span></span></span> </div><div class=\"meta\"><div class=\"features\"></div></div></div></div></div><div class=\"contnr line \" ><div class=\"lbl line\"><span class=\"txtn\">12</span> </div><div class=\"meta\"><div class=\"features\"></div></div><div class=\"children line\"><div class=\"contnr word \" ><div class=\"lbl word\"><span class=\"txtp\"><span class=\"plain outer  \" ><span class=\"plain \" ><span class=\"txtp\">ad-</span></span><span class=\"plain \" ><span class=\"txtp\">di-</span></span><span class=\"plain \" ><span class=\"txtp\">in-</span></span><span class=\"plain \" ><span class=\"txtp\">szum-</span></span><span class=\"plain \" ><span class=\"txtp\">ma </span></span></span></span> </div><div class=\"meta\"><div class=\"features\"></div></div></div><div class=\"contnr word \" ><div class=\"lbl word\"><span class=\"txtp\"><span class=\"plain outer  \" ><span class=\"plain \" ><span class=\"txtp\">_1(disz) </span></span></span></span> </div><div class=\"meta\"><div class=\"features\"></div></div></div><div class=\"contnr word \" ><div class=\"lbl word\"><span class=\"txtp\"><span class=\"plain outer  \" ><span class=\"plain \" ><span class=\"txtp\">gu4 </span></span></span></span> </div><div class=\"meta\"><div class=\"features\"></div></div></div><div class=\"contnr word \" ><div class=\"lbl word\"><span class=\"txtp\"><span class=\"plain outer  \" ><span class=\"plain \" ><span class=\"txtp\">mu </span></span></span></span> </div><div class=\"meta\"><div class=\"features\"></div></div></div><div class=\"contnr word \" ><div class=\"lbl word\"><span class=\"txtp\"><span class=\"plain outer  \" ><span class=\"plain \" ><span class=\"txtp\">2(disz)_ </span></span></span></span> </div><div class=\"meta\"><div class=\"features\"></div></div></div><div class=\"contnr word \" ><div class=\"lbl word\"><span class=\"txtp\"><span class=\"plain outer  \" ><span class=\"plain \" ><span class=\"txtp\">id-</span></span><span class=\"plain \" ><span class=\"txtp\">di-</span></span><span class=\"plain \" ><span class=\"txtp\">nam#</span></span></span></span> </div><div class=\"meta\"><div class=\"features\"></div></div></div></div></div><div class=\"contnr line \" ><div class=\"lbl line\"><span class=\"txtn\">13</span> </div><div class=\"meta\"><div class=\"features\"></div></div><div class=\"children line\"><div class=\"contnr word \" ><div class=\"lbl word\"><span class=\"txtp\"><span class=\"plain outer  \" ><span class=\"plain \" ><span class=\"txtp\">ka-</span></span><span class=\"plain \" ><span class=\"txtp\">ni-</span></span><span class=\"plain \" ><span class=\"txtp\">ik </span></span></span></span> </div><div class=\"meta\"><div class=\"features\"></div></div></div><div class=\"contnr word \" ><div class=\"lbl word\"><span class=\"txtp\"><span class=\"plain outer  \" ><span class=\"plain \" ><span class=\"txtp\">szi-</span></span><span class=\"plain \" ><span class=\"txtp\">ma-</span></span><span class=\"plain \" ><span class=\"txtp\">tim </span></span></span></span> </div><div class=\"meta\"><div class=\"features\"></div></div></div><div class=\"contnr word \" ><div class=\"lbl word\"><span class=\"txtp\"><span class=\"plain outer  \" ><span class=\"plain \" ><span class=\"txtp\">nu-</span></span><span class=\"plain \" ><span class=\"txtp\">usz-</span></span><span class=\"plain \" ><span class=\"txtp\">te-</span></span><span class=\"plain \" ><span class=\"txtp\">zi-</span></span><span class=\"plain \" ><span class=\"txtp\">ib# </span></span></span></span> </div><div class=\"meta\"><div class=\"features\"></div></div></div><div class=\"contnr word \" ><div class=\"lbl word\"><span class=\"txtp\"><span class=\"plain outer  \" ><span class=\"plain \" ><span class=\"txtp\">[(x)]</span></span></span></span> </div><div class=\"meta\"><div class=\"features\"></div></div></div></div></div><div class=\"contnr line \" ><div class=\"lbl line\"><span class=\"txtn\">14</span> </div><div class=\"meta\"><div class=\"features\"></div></div><div class=\"children line\"><div class=\"contnr word \" ><div class=\"lbl word\"><span class=\"txtp\"><span class=\"plain outer  \" ><span class=\"plain \" ><span class=\"txtp\">i-</span></span><span class=\"plain \" ><span class=\"txtp\">na-</span></span><span class=\"plain \" ><span class=\"txtp\">an-</span></span><span class=\"plain \" ><span class=\"txtp\">na </span></span></span></span> </div><div class=\"meta\"><div class=\"features\"></div></div></div><div class=\"contnr word \" ><div class=\"lbl word\"><span class=\"txtp\"><span class=\"plain outer  \" ><span class=\"plain \" ><span class=\"txtp\">dingir-</span></span><span class=\"plain \" ><span class=\"txtp\">szu-</span></span><span class=\"plain \" ><span class=\"txtp\">ib-</span></span><span class=\"plain \" ><span class=\"txtp\">ni </span></span></span></span> </div><div class=\"meta\"><div class=\"features\"></div></div></div><div class=\"contnr word \" ><div class=\"lbl word\"><span class=\"txtp\"><span class=\"plain outer  \" ><span class=\"plain \" ><span class=\"txtp\">sza-</span></span><span class=\"plain \" ><span class=\"txtp\">pir </span></span></span></span> </div><div class=\"meta\"><div class=\"features\"></div></div></div><div class=\"contnr word \" ><div class=\"lbl word\"><span class=\"txtp\"><span class=\"plain outer  \" ><span class=\"plain \" ><span class=\"txtp\">zimbir#</span></span><span class=\"plain \" ><span class=\"txtp\">[{ki}]</span></span></span></span> </div><div class=\"meta\"><div class=\"features\"></div></div></div></div></div><div class=\"contnr line \" ><div class=\"lbl line\"><span class=\"txtn\">15</span> </div><div class=\"meta\"><div class=\"features\"></div></div><div class=\"children line\"><div class=\"contnr word \" ><div class=\"lbl word\"><span class=\"txtp\"><span class=\"plain outer  \" ><span class=\"plain \" ><span class=\"txtp\">um-</span></span><span class=\"plain \" ><span class=\"txtp\">ma </span></span></span></span> </div><div class=\"meta\"><div class=\"features\"></div></div></div><div class=\"contnr word \" ><div class=\"lbl word\"><span class=\"txtp\"><span class=\"plain outer  \" ><span class=\"plain \" ><span class=\"txtp\">szu-</span></span><span class=\"plain \" ><span class=\"txtp\">ma </span></span></span></span> </div><div class=\"meta\"><div class=\"features\"></div></div></div><div class=\"contnr word \" ><div class=\"lbl word\"><span class=\"txtp\"><span class=\"plain outer  \" ><span class=\"plain \" ><span class=\"txtp\">_gu4_-</span></span><span class=\"plain \" ><span class=\"txtp\">ka </span></span></span></span> </div><div class=\"meta\"><div class=\"features\"></div></div></div><div class=\"contnr word \" ><div class=\"lbl word\"><span class=\"txtp\"><span class=\"plain outer  \" ><span class=\"plain \" ><span class=\"txtp\">u2-</span></span><span class=\"plain \" ><span class=\"txtp\">ta-</span></span><span class=\"plain \" ><span class=\"txtp\">ar-</span></span><span class=\"plain \" ><span class=\"txtp\">ra-</span></span><span class=\"plain \" ><span class=\"txtp\">ak-</span></span><span class=\"plain \" ><span class=\"txtp\">ku#</span></span></span></span> </div><div class=\"meta\"><div class=\"features\"></div></div></div></div></div><div class=\"contnr line \" ><div class=\"lbl line\"><span class=\"txtn\">16</span> </div><div class=\"meta\"><div class=\"features\"></div></div><div class=\"children line\"><div class=\"contnr word \" ><div class=\"lbl word\"><span class=\"txtp\"><span class=\"plain outer  \" ><span class=\"plain \" ><span class=\"txtp\">sza </span></span></span></span> </div><div class=\"meta\"><div class=\"features\"></div></div></div><div class=\"contnr word \" ><div class=\"lbl word\"><span class=\"txtp\"><span class=\"plain outer  \" ><span class=\"plain \" ><span class=\"txtp\">ta-</span></span><span class=\"plain \" ><span class=\"txtp\">asz-</span></span><span class=\"plain \" ><span class=\"txtp\">pu-</span></span><span class=\"plain \" ><span class=\"txtp\">ra-</span></span><span class=\"plain \" ><span class=\"txtp\">am</span></span></span></span> </div><div class=\"meta\"><div class=\"features\"></div></div></div></div></div><div class=\"contnr line \" ><div class=\"lbl line\"><span class=\"txtn\">17</span> </div><div class=\"meta\"><div class=\"features\"></div></div><div class=\"children line\"><div class=\"contnr word \" ><div class=\"lbl word\"><span class=\"txtp\"><span class=\"plain outer  \" ><span class=\"plain \" ><span class=\"txtp\">{disz}</span></span><span class=\"plain \" ><span class=\"txtp\">dingir-</span></span><span class=\"plain \" ><span class=\"txtp\">szu-</span></span><span class=\"plain \" ><span class=\"txtp\">ib#-</span></span><span class=\"plain \" ><span class=\"txtp\">ni# </span></span></span></span> </div><div class=\"meta\"><div class=\"features\"></div></div></div><div class=\"contnr word \" ><div class=\"lbl word\"><span class=\"txtp\"><span class=\"plain outer  \" ><span class=\"plain \" ><span class=\"txtp\">szu-</span></span><span class=\"plain \" ><span class=\"txtp\">a-</span></span><span class=\"plain \" ><span class=\"txtp\">ti </span></span></span></span> </div><div class=\"meta\"><div class=\"features\"></div></div></div><div class=\"contnr word \" ><div class=\"lbl word\"><span class=\"txtp\"><span class=\"plain outer  \" ><span class=\"plain \" ><span class=\"txtp\">u2-</span></span><span class=\"plain \" ><span class=\"txtp\">qe2-</span></span><span class=\"plain \" ><span class=\"txtp\">er-</span></span><span class=\"plain \" ><span class=\"txtp\">ri#-</span></span><span class=\"plain \" ><span class=\"txtp\">bu#-</span></span><span class=\"plain \" ><span class=\"txtp\">nim-</span></span><span class=\"plain \" ><span class=\"txtp\">ma</span></span></span></span> </div><div class=\"meta\"><div class=\"features\"></div></div></div></div></div><div class=\"contnr line \" ><div class=\"lbl line\"><span class=\"txtn\">18</span> </div><div class=\"meta\"><div class=\"features\"></div></div><div class=\"children line\"><div class=\"contnr word \" ><div class=\"lbl word\"><span class=\"txtp\"><span class=\"plain outer  \" ><span class=\"plain \" ><span class=\"txtp\">ki-</span></span><span class=\"plain \" ><span class=\"txtp\">a-</span></span><span class=\"plain \" ><span class=\"txtp\">am </span></span></span></span> </div><div class=\"meta\"><div class=\"features\"></div></div></div><div class=\"contnr word \" ><div class=\"lbl word\"><span class=\"txtp\"><span class=\"plain outer  \" ><span class=\"plain \" ><span class=\"txtp\">aq-</span></span><span class=\"plain \" ><span class=\"txtp\">bi-</span></span><span class=\"plain \" ><span class=\"txtp\">szum </span></span></span></span> </div><div class=\"meta\"><div class=\"features\"></div></div></div><div class=\"contnr word \" ><div class=\"lbl word\"><span class=\"txtp\"><span class=\"plain outer  \" ><span class=\"plain \" ><span class=\"txtp\">i-</span></span><span class=\"plain \" ><span class=\"txtp\">qa2-</span></span><span class=\"plain \" ><span class=\"txtp\">ab-</span></span><span class=\"plain \" ><span class=\"txtp\">bu-</span></span><span class=\"plain \" ><span class=\"txtp\">ma#</span></span></span></span> </div><div class=\"meta\"><div class=\"features\"></div></div></div></div></div><div class=\"contnr line \" ><div class=\"lbl line\"><span class=\"txtn\">19</span> </div><div class=\"meta\"><div class=\"features\"></div></div><div class=\"children line\"><div class=\"contnr word \" ><div class=\"lbl word\"><span class=\"txtp\"><span class=\"plain outer  \" ><span class=\"plain \" ><span class=\"txtp\">_gu4_ </span></span></span></span> </div><div class=\"meta\"><div class=\"features\"></div></div></div><div class=\"contnr word \" ><div class=\"lbl word\"><span class=\"txtp\"><span class=\"plain outer  \" ><span class=\"plain \" ><span class=\"txtp\">ar-</span></span><span class=\"plain \" ><span class=\"txtp\">ki-</span></span><span class=\"plain \" ><span class=\"txtp\">a </span></span></span></span> </div><div class=\"meta\"><div class=\"features\"></div></div></div><div class=\"contnr word \" ><div class=\"lbl word\"><span class=\"txtp\"><span class=\"plain outer  \" ><span class=\"plain \" ><span class=\"txtp\">a-</span></span><span class=\"plain \" ><span class=\"txtp\">na </span></span></span></span> </div><div class=\"meta\"><div class=\"features\"></div></div></div><div class=\"contnr word \" ><div class=\"lbl word\"><span class=\"txtp\"><span class=\"plain outer  \" ><span class=\"plain \" ><span class=\"txtp\">_1(u) </span></span></span></span> </div><div class=\"meta\"><div class=\"features\"></div></div></div><div class=\"contnr word \" ><div class=\"lbl word\"><span class=\"txtp\"><span class=\"plain outer  \" ><span class=\"plain \" ><span class=\"txtp\">gin2 </span></span></span></span> </div><div class=\"meta\"><div class=\"features\"></div></div></div><div class=\"contnr word \" ><div class=\"lbl word\"><span class=\"txtp\"><span class=\"plain outer  \" ><span class=\"plain \" ><span class=\"txtp\">ku3-</span></span><span class=\"plain \" ><span class=\"txtp\">babbar_</span></span></span></span> </div><div class=\"meta\"><div class=\"features\"></div></div></div></div></div><div class=\"contnr line \" ><div class=\"lbl line\"><span class=\"txtn\">20</span> </div><div class=\"meta\"><div class=\"features\"></div></div><div class=\"children line\"><div class=\"contnr word \" ><div class=\"lbl word\"><span class=\"txtp\"><span class=\"plain outer  \" ><span class=\"plain \" ><span class=\"txtp\">id-</span></span><span class=\"plain \" ><span class=\"txtp\">di-</span></span><span class=\"plain \" ><span class=\"txtp\">nu-</span></span><span class=\"plain \" ><span class=\"txtp\">ni-</span></span><span class=\"plain \" ><span class=\"txtp\">ik-</span></span><span class=\"plain \" ><span class=\"txtp\">ku</span></span></span></span> </div><div class=\"meta\"><div class=\"features\"></div></div></div></div></div></div></div>"
      ],
      "text/plain": [
       "<IPython.core.display.HTML object>"
      ]
     },
     "metadata": {},
     "output_type": "display_data"
    },
    {
     "data": {
      "text/html": [
       "<p><b>face</b> <i>2</i></p>"
      ],
      "text/plain": [
       "<IPython.core.display.HTML object>"
      ]
     },
     "metadata": {},
     "output_type": "display_data"
    },
    {
     "data": {
      "text/html": [
       "<div class=\"contnr face \" ><div class=\"lbl face\"><a href=\"https://cdli.ucla.edu/search/search_results.php?SearchMode=Text&amp;ObjectID=P510530\" title=\"P510530 reverse\" sec=\"P510530 reverse\">face <span class=\"txtn\">reverse</span></a> </div><div class=\"meta\"><div class=\"features\"> <span class=\"object\">tablet</span></div></div><div class=\"children face\"><div class=\"contnr line \" ><div class=\"lbl line\"><span class=\"txtn\">1</span> </div><div class=\"meta\"><div class=\"features\"></div></div><div class=\"children line\"><div class=\"contnr word \" ><div class=\"lbl word\"><span class=\"txtp\"><span class=\"plain outer  \" ><span class=\"plain \" ><span class=\"txtp\">u3 </span></span></span></span> </div><div class=\"meta\"><div class=\"features\"></div></div></div><div class=\"contnr word \" ><div class=\"lbl word\"><span class=\"txtp\"><span class=\"plain outer  \" ><span class=\"plain \" ><span class=\"txtp\">ka-</span></span><span class=\"plain \" ><span class=\"txtp\">ni-</span></span><span class=\"plain \" ><span class=\"txtp\">ik </span></span></span></span> </div><div class=\"meta\"><div class=\"features\"></div></div></div><div class=\"contnr word \" ><div class=\"lbl word\"><span class=\"txtp\"><span class=\"plain outer  \" ><span class=\"plain \" ><span class=\"txtp\">szi-</span></span><span class=\"plain \" ><span class=\"txtp\">ma-</span></span><span class=\"plain \" ><span class=\"txtp\">tim </span></span></span></span> </div><div class=\"meta\"><div class=\"features\"></div></div></div><div class=\"contnr word \" ><div class=\"lbl word\"><span class=\"txtp\"><span class=\"plain outer  \" ><span class=\"plain \" ><span class=\"txtp\">ta-</span></span><span class=\"plain \" ><span class=\"txtp\">ad-</span></span><span class=\"plain \" ><span class=\"txtp\">di-</span></span><span class=\"plain \" ><span class=\"txtp\">in</span></span></span></span> </div><div class=\"meta\"><div class=\"features\"></div></div></div></div></div><div class=\"contnr line \" ><div class=\"lbl line\"><span class=\"txtn\">2</span> </div><div class=\"meta\"><div class=\"features\"></div></div><div class=\"children line\"><div class=\"contnr word \" ><div class=\"lbl word\"><span class=\"txtp\"><span class=\"plain outer  \" ><span class=\"plain \" ><span class=\"txtp\">mi-</span></span><span class=\"plain \" ><span class=\"txtp\">nu-</span></span><span class=\"plain \" ><span class=\"txtp\">u2 </span></span></span></span> </div><div class=\"meta\"><div class=\"features\"></div></div></div><div class=\"contnr word \" ><div class=\"lbl word\"><span class=\"txtp\"><span class=\"plain outer  \" ><span class=\"plain \" ><span class=\"txtp\">a-</span></span><span class=\"plain \" ><span class=\"txtp\">wa-</span></span><span class=\"plain \" ><span class=\"txtp\">tum-</span></span><span class=\"plain \" ><span class=\"txtp\">ma </span></span></span></span> </div><div class=\"meta\"><div class=\"features\"></div></div></div><div class=\"contnr word \" ><div class=\"lbl word\"><span class=\"txtp\"><span class=\"plain outer  \" ><span class=\"plain \" ><span class=\"txtp\">da-</span></span><span class=\"plain \" ><span class=\"txtp\">ba-</span></span><span class=\"plain \" ><span class=\"txtp\">ba-</span></span><span class=\"plain \" ><span class=\"txtp\">am </span></span></span></span> </div><div class=\"meta\"><div class=\"features\"></div></div></div><div class=\"contnr word \" ><div class=\"lbl word\"><span class=\"txtp\"><span class=\"plain outer  \" ><span class=\"plain \" ><span class=\"txtp\">tu-</span></span><span class=\"plain \" ><span class=\"txtp\">sze-</span></span><span class=\"plain \" ><span class=\"txtp\">er-</span></span><span class=\"plain \" ><span class=\"txtp\">szi</span></span></span></span> </div><div class=\"meta\"><div class=\"features\"></div></div></div></div></div><div class=\"contnr line \" ><div class=\"lbl line\"><span class=\"txtn\">3</span> </div><div class=\"meta\"><div class=\"features\"></div></div><div class=\"children line\"><div class=\"contnr word \" ><div class=\"lbl word\"><span class=\"txtp\"><span class=\"plain outer  \" ><span class=\"plain \" ><span class=\"txtp\">{disz}</span></span><span class=\"plain \" ><span class=\"txtp\">dingir-</span></span><span class=\"plain \" ><span class=\"txtp\">szu-</span></span><span class=\"plain \" ><span class=\"txtp\">ib-</span></span><span class=\"plain \" ><span class=\"txtp\">ni </span></span></span></span> </div><div class=\"meta\"><div class=\"features\"></div></div></div><div class=\"contnr word \" ><div class=\"lbl word\"><span class=\"txtp\"><span class=\"plain outer  \" ><span class=\"plain \" ><span class=\"txtp\">sza-</span></span><span class=\"plain \" ><span class=\"txtp\">pir </span></span></span></span> </div><div class=\"meta\"><div class=\"features\"></div></div></div><div class=\"contnr word \" ><div class=\"lbl word\"><span class=\"txtp\"><span class=\"plain outer  \" ><span class=\"plain \" ><span class=\"txtp\">zimbir</span></span><span class=\"plain \" ><span class=\"txtp\">{ki}</span></span></span></span> </div><div class=\"meta\"><div class=\"features\"></div></div></div></div></div><div class=\"contnr line \" ><div class=\"lbl line\"><span class=\"txtn\">4</span> </div><div class=\"meta\"><div class=\"features\"></div></div><div class=\"children line\"><div class=\"contnr word \" ><div class=\"lbl word\"><span class=\"txtp\"><span class=\"plain outer  \" ><span class=\"plain \" ><span class=\"txtp\">um-</span></span><span class=\"plain \" ><span class=\"txtp\">ma </span></span></span></span> </div><div class=\"meta\"><div class=\"features\"></div></div></div><div class=\"contnr word \" ><div class=\"lbl word\"><span class=\"txtp\"><span class=\"plain outer  \" ><span class=\"plain \" ><span class=\"txtp\">szu-</span></span><span class=\"plain \" ><span class=\"txtp\">ma </span></span></span></span> </div><div class=\"meta\"><div class=\"features\"></div></div></div><div class=\"contnr word \" ><div class=\"lbl word\"><span class=\"txtp\"><span class=\"plain outer  \" ><span class=\"plain \" ><span class=\"txtp\">a-</span></span><span class=\"plain \" ><span class=\"txtp\">na-</span></span><span class=\"plain \" ><span class=\"txtp\">ku </span></span></span></span> </div><div class=\"meta\"><div class=\"features\"></div></div></div><div class=\"contnr word \" ><div class=\"lbl word\"><span class=\"txtp\"><span class=\"plain outer  \" ><span class=\"plain \" ><span class=\"txtp\">u3 </span></span></span></span> </div><div class=\"meta\"><div class=\"features\"></div></div></div><div class=\"contnr word \" ><div class=\"lbl word\"><span class=\"txtp\"><span class=\"plain outer  \" ><span class=\"plain \" ><span class=\"txtp\">dingir-</span></span><span class=\"plain \" ><span class=\"txtp\">szu-</span></span><span class=\"plain \" ><span class=\"txtp\">ib-</span></span><span class=\"plain \" ><span class=\"txtp\">ni </span></span></span></span> </div><div class=\"meta\"><div class=\"features\"></div></div></div><div class=\"contnr word \" ><div class=\"lbl word\"><span class=\"txtp\"><span class=\"plain outer  \" ><span class=\"plain \" ><span class=\"txtp\">ARAD-</span></span><span class=\"plain \" ><span class=\"txtp\">ka</span></span></span></span> </div><div class=\"meta\"><div class=\"features\"></div></div></div></div></div><div class=\"contnr line \" ><div class=\"lbl line\"><span class=\"txtn\">5</span> </div><div class=\"meta\"><div class=\"features\"></div></div><div class=\"children line\"><div class=\"contnr word \" ><div class=\"lbl word\"><span class=\"txtp\"><span class=\"plain outer  \" ><span class=\"plain \" ><span class=\"txtp\">_gu4_ </span></span></span></span> </div><div class=\"meta\"><div class=\"features\"></div></div></div><div class=\"contnr word \" ><div class=\"lbl word\"><span class=\"txtp\"><span class=\"plain outer  \" ><span class=\"plain \" ><span class=\"txtp\">ki-</span></span><span class=\"plain \" ><span class=\"txtp\">ma </span></span></span></span> </div><div class=\"meta\"><div class=\"features\"></div></div></div><div class=\"contnr word \" ><div class=\"lbl word\"><span class=\"txtp\"><span class=\"plain outer  \" ><span class=\"plain \" ><span class=\"txtp\">_gu4_ </span></span></span></span> </div><div class=\"meta\"><div class=\"features\"></div></div></div><div class=\"contnr word \" ><div class=\"lbl word\"><span class=\"txtp\"><span class=\"plain outer  \" ><span class=\"plain \" ><span class=\"txtp\">nu-</span></span><span class=\"plain \" ><span class=\"txtp\">up-</span></span><span class=\"plain \" ><span class=\"txtp\">te-</span></span><span class=\"plain \" ><span class=\"txtp\">eh-</span></span><span class=\"plain \" ><span class=\"txtp\">ma</span></span></span></span> </div><div class=\"meta\"><div class=\"features\"></div></div></div></div></div><div class=\"contnr line \" ><div class=\"lbl line\"><span class=\"txtn\">6</span> </div><div class=\"meta\"><div class=\"features\"></div></div><div class=\"children line\"><div class=\"contnr word \" ><div class=\"lbl word\"><span class=\"txtp\"><span class=\"plain outer  \" ><span class=\"plain \" ><span class=\"txtp\">ka-</span></span><span class=\"plain \" ><span class=\"txtp\">ni-</span></span><span class=\"plain \" ><span class=\"txtp\">ik </span></span></span></span> </div><div class=\"meta\"><div class=\"features\"></div></div></div><div class=\"contnr word \" ><div class=\"lbl word\"><span class=\"txtp\"><span class=\"plain outer  \" ><span class=\"plain \" ><span class=\"txtp\">szi-</span></span><span class=\"plain \" ><span class=\"txtp\">ma-</span></span><span class=\"plain \" ><span class=\"txtp\">tim </span></span></span></span> </div><div class=\"meta\"><div class=\"features\"></div></div></div><div class=\"contnr word \" ><div class=\"lbl word\"><span class=\"txtp\"><span class=\"plain outer  \" ><span class=\"plain \" ><span class=\"txtp\">nu-</span></span><span class=\"plain \" ><span class=\"txtp\">usz-</span></span><span class=\"plain \" ><span class=\"txtp\">te-</span></span><span class=\"plain \" ><span class=\"txtp\">&lt;&lt;TE>>-</span></span><span class=\"plain \" ><span class=\"txtp\">zi-</span></span><span class=\"plain \" ><span class=\"txtp\">ib</span></span></span></span> </div><div class=\"meta\"><div class=\"features\"></div></div></div></div></div><div class=\"contnr line \" ><div class=\"lbl line\"><span class=\"txtn\">7</span> </div><div class=\"meta\"><div class=\"features\"></div></div><div class=\"children line\"><div class=\"contnr word \" ><div class=\"lbl word\"><span class=\"txtp\"><span class=\"plain outer  \" ><span class=\"plain \" ><span class=\"txtp\">_gu4_ </span></span></span></span> </div><div class=\"meta\"><div class=\"features\"></div></div></div><div class=\"contnr word \" ><div class=\"lbl word\"><span class=\"txtp\"><span class=\"plain outer  \" ><span class=\"plain \" ><span class=\"txtp\">sza </span></span></span></span> </div><div class=\"meta\"><div class=\"features\"></div></div></div><div class=\"contnr word \" ><div class=\"lbl word\"><span class=\"txtp\"><span class=\"plain outer  \" ><span class=\"plain \" ><span class=\"txtp\">el-</span></span><span class=\"plain \" ><span class=\"txtp\">qu2-</span></span><span class=\"plain \" ><span class=\"txtp\">u2 </span></span></span></span> </div><div class=\"meta\"><div class=\"features\"></div></div></div><div class=\"contnr word \" ><div class=\"lbl word\"><span class=\"txtp\"><span class=\"plain outer  \" ><span class=\"plain \" ><span class=\"txtp\">_iti </span></span></span></span> </div><div class=\"meta\"><div class=\"features\"></div></div></div><div class=\"contnr word \" ><div class=\"lbl word\"><span class=\"txtp\"><span class=\"plain outer  \" ><span class=\"plain \" ><span class=\"txtp\">1(disz)-</span></span><span class=\"plain \" ><span class=\"txtp\">kam_ </span></span></span></span> </div><div class=\"meta\"><div class=\"features\"></div></div></div><div class=\"contnr word \" ><div class=\"lbl word\"><span class=\"txtp\"><span class=\"plain outer  \" ><span class=\"plain \" ><span class=\"txtp\">ma-</span></span><span class=\"plain \" ><span class=\"txtp\">ah-</span></span><span class=\"plain \" ><span class=\"txtp\">ri-</span></span><span class=\"plain \" ><span class=\"txtp\">ia </span></span></span></span> </div><div class=\"meta\"><div class=\"features\"></div></div></div><div class=\"contnr word \" ><div class=\"lbl word\"><span class=\"txtp\"><span class=\"plain outer  \" ><span class=\"plain \" ><span class=\"txtp\">isz-</span></span><span class=\"plain \" ><span class=\"txtp\">sza#-</span></span><span class=\"plain \" ><span class=\"txtp\">[ak]-</span></span><span class=\"plain \" ><span class=\"txtp\">na#</span></span></span></span> </div><div class=\"meta\"><div class=\"features\"></div></div></div></div></div><div class=\"contnr line \" ><div class=\"lbl line\"><span class=\"txtn\">8</span> </div><div class=\"meta\"><div class=\"features\"></div></div><div class=\"children line\"><div class=\"contnr word \" ><div class=\"lbl word\"><span class=\"txtp\"><span class=\"plain outer  \" ><span class=\"plain \" ><span class=\"txtp\">ri-</span></span><span class=\"plain \" ><span class=\"txtp\">ik-</span></span><span class=\"plain \" ><span class=\"txtp\">sa-</span></span><span class=\"plain \" ><span class=\"txtp\">ti-</span></span><span class=\"plain \" ><span class=\"txtp\">ia </span></span></span></span> </div><div class=\"meta\"><div class=\"features\"></div></div></div><div class=\"contnr word \" ><div class=\"lbl word\"><span class=\"txtp\"><span class=\"plain outer  \" ><span class=\"plain \" ><span class=\"txtp\">u2-</span></span><span class=\"plain \" ><span class=\"txtp\">ul </span></span></span></span> </div><div class=\"meta\"><div class=\"features\"></div></div></div><div class=\"contnr word \" ><div class=\"lbl word\"><span class=\"txtp\"><span class=\"plain outer  \" ><span class=\"plain \" ><span class=\"txtp\">e-</span></span><span class=\"plain \" ><span class=\"txtp\">en-</span></span><span class=\"plain \" ><span class=\"txtp\">ni </span></span></span></span> </div><div class=\"meta\"><div class=\"features\"></div></div></div><div class=\"contnr word \" ><div class=\"lbl word\"><span class=\"txtp\"><span class=\"plain outer  \" ><span class=\"plain \" ><span class=\"txtp\">an-</span></span><span class=\"plain \" ><span class=\"txtp\">ni-</span></span><span class=\"plain \" ><span class=\"txtp\">tam </span></span></span></span> </div><div class=\"meta\"><div class=\"features\"></div></div></div><div class=\"contnr word \" ><div class=\"lbl word\"><span class=\"txtp\"><span class=\"plain outer  \" ><span class=\"plain \" ><span class=\"txtp\">iq-</span></span><span class=\"plain \" ><span class=\"txtp\">bi#</span></span></span></span> </div><div class=\"meta\"><div class=\"features\"></div></div></div></div></div><div class=\"contnr line \" ><div class=\"lbl line\"><span class=\"txtn\">9</span> </div><div class=\"meta\"><div class=\"features\"></div></div><div class=\"children line\"><div class=\"contnr word \" ><div class=\"lbl word\"><span class=\"txtp\"><span class=\"plain outer  \" ><span class=\"plain \" ><span class=\"txtp\">asz-</span></span><span class=\"plain \" ><span class=\"txtp\">szum# </span></span></span></span> </div><div class=\"meta\"><div class=\"features\"></div></div></div><div class=\"contnr word \" ><div class=\"lbl word\"><span class=\"txtp\"><span class=\"plain outer  \" ><span class=\"plain \" ><span class=\"txtp\">_2(disz)# </span></span></span></span> </div><div class=\"meta\"><div class=\"features\"></div></div></div><div class=\"contnr word \" ><div class=\"lbl word\"><span class=\"txtp\"><span class=\"plain outer  \" ><span class=\"plain \" ><span class=\"txtp\">gin2 </span></span></span></span> </div><div class=\"meta\"><div class=\"features\"></div></div></div><div class=\"contnr word \" ><div class=\"lbl word\"><span class=\"txtp\"><span class=\"plain outer  \" ><span class=\"plain \" ><span class=\"txtp\">ku3-</span></span><span class=\"plain \" ><span class=\"txtp\">babbar_ </span></span></span></span> </div><div class=\"meta\"><div class=\"features\"></div></div></div><div class=\"contnr word \" ><div class=\"lbl word\"><span class=\"txtp\"><span class=\"plain outer  \" ><span class=\"plain \" ><span class=\"txtp\">sza </span></span></span></span> </div><div class=\"meta\"><div class=\"features\"></div></div></div><div class=\"contnr word \" ><div class=\"lbl word\"><span class=\"txtp\"><span class=\"plain outer  \" ><span class=\"plain \" ><span class=\"txtp\">a-</span></span><span class=\"plain \" ><span class=\"txtp\">na </span></span></span></span> </div><div class=\"meta\"><div class=\"features\"></div></div></div><div class=\"contnr word \" ><div class=\"lbl word\"><span class=\"txtp\"><span class=\"plain outer  \" ><span class=\"plain \" ><span class=\"txtp\">be-</span></span><span class=\"plain \" ><span class=\"txtp\">el-</span></span><span class=\"plain \" ><span class=\"txtp\">szu-</span></span><span class=\"plain \" ><span class=\"txtp\">nu </span></span></span></span> </div><div class=\"meta\"><div class=\"features\"></div></div></div><div class=\"contnr word \" ><div class=\"lbl word\"><span class=\"txtp\"><span class=\"plain outer  \" ><span class=\"plain \" ><span class=\"txtp\">_dumu_ </span></span></span></span> </div><div class=\"meta\"><div class=\"features\"></div></div></div><div class=\"contnr word \" ><div class=\"lbl word\"><span class=\"txtp\"><span class=\"plain outer  \" ><span class=\"plain \" ><span class=\"txtp\">dingir-</span></span><span class=\"plain \" ><span class=\"txtp\">da-</span></span><span class=\"plain \" ><span class=\"txtp\">mi-</span></span><span class=\"plain \" ><span class=\"txtp\">iq</span></span></span></span> </div><div class=\"meta\"><div class=\"features\"></div></div></div></div></div><div class=\"contnr line \" ><div class=\"lbl line\"><span class=\"txtn\">10</span> </div><div class=\"meta\"><div class=\"features\"></div></div><div class=\"children line\"><div class=\"contnr word \" ><div class=\"lbl word\"><span class=\"txtp\"><span class=\"plain outer  \" ><span class=\"plain \" ><span class=\"txtp\">_n </span></span></span></span> </div><div class=\"meta\"><div class=\"features\"></div></div></div><div class=\"contnr word \" ><div class=\"lbl word\"><span class=\"txtp\"><span class=\"plain outer  \" ><span class=\"plain \" ><span class=\"txtp\">[n] </span></span></span></span> </div><div class=\"meta\"><div class=\"features\"></div></div></div><div class=\"contnr word \" ><div class=\"lbl word\"><span class=\"txtp\"><span class=\"plain outer  \" ><span class=\"plain \" ><span class=\"txtp\">GAN2 </span></span></span></span> </div><div class=\"meta\"><div class=\"features\"></div></div></div><div class=\"contnr word \" ><div class=\"lbl word\"><span class=\"txtp\"><span class=\"plain outer  \" ><span class=\"plain \" ><span class=\"txtp\">a-</span></span><span class=\"plain \" ><span class=\"txtp\">sza3_ </span></span></span></span> </div><div class=\"meta\"><div class=\"features\"></div></div></div><div class=\"contnr word \" ><div class=\"lbl word\"><span class=\"txtp\"><span class=\"plain outer  \" ><span class=\"plain \" ><span class=\"txtp\">la </span></span></span></span> </div><div class=\"meta\"><div class=\"features\"></div></div></div><div class=\"contnr word \" ><div class=\"lbl word\"><span class=\"txtp\"><span class=\"plain outer  \" ><span class=\"plain \" ><span class=\"txtp\">te-</span></span><span class=\"plain \" ><span class=\"txtp\">pu-</span></span><span class=\"plain \" ><span class=\"txtp\">szu </span></span></span></span> </div><div class=\"meta\"><div class=\"features\"></div></div></div><div class=\"contnr word \" ><div class=\"lbl word\"><span class=\"txtp\"><span class=\"plain outer  \" ><span class=\"plain \" ><span class=\"txtp\">_ku3-</span></span><span class=\"plain \" ><span class=\"txtp\">babbar_ </span></span></span></span> </div><div class=\"meta\"><div class=\"features\"></div></div></div><div class=\"contnr word \" ><div class=\"lbl word\"><span class=\"txtp\"><span class=\"plain outer  \" ><span class=\"plain \" ><span class=\"txtp\">e-</span></span><span class=\"plain \" ><span class=\"txtp\">se-</span></span><span class=\"plain \" ><span class=\"txtp\">ri-</span></span><span class=\"plain \" ><span class=\"txtp\">im-</span></span><span class=\"plain \" ><span class=\"txtp\">ma</span></span></span></span> </div><div class=\"meta\"><div class=\"features\"></div></div></div></div></div><div class=\"contnr line hl\"  style=\"background-color: lightsalmon;\" ><div class=\"lbl line\"><span class=\"txtn\">11</span> </div><div class=\"meta\"><div class=\"features\"></div></div><div class=\"children line\"><div class=\"contnr word \" ><div class=\"lbl word\"><span class=\"txtp\"><span class=\"plain outer  \" ><span class=\"plain hlbx\"  style=\"border-color: cyan;\" ><span class=\"txtp\">[szu-</span></span><span class=\"plain hlbx\"  style=\"border-color: magenta;\" ><span class=\"txtp\">bu-</span></span><span class=\"plain hlbx\" ><span class=\"txtp\">lim?] </span></span></span></span> </div><div class=\"meta\"><div class=\"features\"></div></div></div><div class=\"contnr word \" ><div class=\"lbl word\"><span class=\"txtp\"><span class=\"plain outer  \" ><span class=\"plain hlbx\" ><span class=\"txtp\">sza# </span></span></span></span> </div><div class=\"meta\"><div class=\"features\"></div></div></div><div class=\"contnr word \" ><div class=\"lbl word\"><span class=\"txtp\"><span class=\"plain outer  \" ><span class=\"plain \" ><span class=\"txtp\">ta-</span></span><span class=\"plain \" ><span class=\"txtp\">asz-</span></span><span class=\"plain \" ><span class=\"txtp\">pu-</span></span><span class=\"plain \" ><span class=\"txtp\">ra-</span></span><span class=\"plain \" ><span class=\"txtp\">am</span></span></span></span> </div><div class=\"meta\"><div class=\"features\"></div></div></div></div></div><div class=\"contnr line \" ><div class=\"lbl line\"><span class=\"txtn\">12</span> </div><div class=\"meta\"><div class=\"features\"></div></div><div class=\"children line\"><div class=\"contnr word \" ><div class=\"lbl word\"><span class=\"txtp\"><span class=\"plain outer  \" ><span class=\"plain \" ><span class=\"txtp\">[x </span></span></span></span> </div><div class=\"meta\"><div class=\"features\"></div></div></div><div class=\"contnr word \" ><div class=\"lbl word\"><span class=\"txtp\"><span class=\"plain outer  \" ><span class=\"plain \" ><span class=\"txtp\">x </span></span></span></span> </div><div class=\"meta\"><div class=\"features\"></div></div></div><div class=\"contnr word \" ><div class=\"lbl word\"><span class=\"txtp\"><span class=\"plain outer  \" ><span class=\"plain \" ><span class=\"txtp\">x </span></span></span></span> </div><div class=\"meta\"><div class=\"features\"></div></div></div><div class=\"contnr word \" ><div class=\"lbl word\"><span class=\"txtp\"><span class=\"plain outer  \" ><span class=\"plain \" ><span class=\"txtp\">x] </span></span></span></span> </div><div class=\"meta\"><div class=\"features\"></div></div></div><div class=\"contnr word \" ><div class=\"lbl word\"><span class=\"txtp\"><span class=\"plain outer  \" ><span class=\"plain \" ><span class=\"txtp\">_dumu </span></span></span></span> </div><div class=\"meta\"><div class=\"features\"></div></div></div><div class=\"contnr word \" ><div class=\"lbl word\"><span class=\"txtp\"><span class=\"plain outer  \" ><span class=\"plain \" ><span class=\"txtp\">e2-</span></span><span class=\"plain \" ><span class=\"txtp\">dub-</span></span><span class=\"plain \" ><span class=\"txtp\">ba-</span></span><span class=\"plain \" ><span class=\"txtp\">a_ </span></span></span></span> </div><div class=\"meta\"><div class=\"features\"></div></div></div><div class=\"contnr word \" ><div class=\"lbl word\"><span class=\"txtp\"><span class=\"plain outer  \" ><span class=\"plain \" ><span class=\"txtp\">a-</span></span><span class=\"plain \" ><span class=\"txtp\">na </span></span></span></span> </div><div class=\"meta\"><div class=\"features\"></div></div></div><div class=\"contnr word \" ><div class=\"lbl word\"><span class=\"txtp\"><span class=\"plain outer  \" ><span class=\"plain \" ><span class=\"txtp\">_ku3-</span></span><span class=\"plain \" ><span class=\"txtp\">babbar_ </span></span></span></span> </div><div class=\"meta\"><div class=\"features\"></div></div></div><div class=\"contnr word \" ><div class=\"lbl word\"><span class=\"txtp\"><span class=\"plain outer  \" ><span class=\"plain \" ><span class=\"txtp\">szu-</span></span><span class=\"plain \" ><span class=\"txtp\">a-</span></span><span class=\"plain \" ><span class=\"txtp\">ti</span></span></span></span> </div><div class=\"meta\"><div class=\"features\"></div></div></div></div></div><div class=\"contnr line \" ><div class=\"lbl line\"><span class=\"txtn\">13</span> </div><div class=\"meta\"><div class=\"features\"></div></div><div class=\"children line\"><div class=\"contnr word \" ><div class=\"lbl word\"><span class=\"txtp\"><span class=\"plain outer  \" ><span class=\"plain \" ><span class=\"txtp\">[x </span></span></span></span> </div><div class=\"meta\"><div class=\"features\"></div></div></div><div class=\"contnr word \" ><div class=\"lbl word\"><span class=\"txtp\"><span class=\"plain outer  \" ><span class=\"plain \" ><span class=\"txtp\">x </span></span></span></span> </div><div class=\"meta\"><div class=\"features\"></div></div></div><div class=\"contnr word \" ><div class=\"lbl word\"><span class=\"txtp\"><span class=\"plain outer  \" ><span class=\"plain \" ><span class=\"txtp\">x </span></span></span></span> </div><div class=\"meta\"><div class=\"features\"></div></div></div><div class=\"contnr word \" ><div class=\"lbl word\"><span class=\"txtp\"><span class=\"plain outer  \" ><span class=\"plain \" ><span class=\"txtp\">x] </span></span></span></span> </div><div class=\"meta\"><div class=\"features\"></div></div></div><div class=\"contnr word \" ><div class=\"lbl word\"><span class=\"txtp\"><span class=\"plain outer  \" ><span class=\"plain \" ><span class=\"txtp\">szu#-</span></span><span class=\"plain \" ><span class=\"txtp\">ud#-</span></span><span class=\"plain \" ><span class=\"txtp\">du-</span></span><span class=\"plain \" ><span class=\"txtp\">nim </span></span></span></span> </div><div class=\"meta\"><div class=\"features\"></div></div></div><div class=\"contnr word \" ><div class=\"lbl word\"><span class=\"txtp\"><span class=\"plain outer  \" ><span class=\"plain \" ><span class=\"txtp\">a-</span></span><span class=\"plain \" ><span class=\"txtp\">wa-</span></span><span class=\"plain \" ><span class=\"txtp\">tam </span></span></span></span> </div><div class=\"meta\"><div class=\"features\"></div></div></div><div class=\"contnr word \" ><div class=\"lbl word\"><span class=\"txtp\"><span class=\"plain outer  \" ><span class=\"plain \" ><span class=\"txtp\">ap-</span></span><span class=\"plain \" ><span class=\"txtp\">ta-</span></span><span class=\"plain \" ><span class=\"txtp\">qi2-</span></span><span class=\"plain \" ><span class=\"txtp\">id</span></span></span></span> </div><div class=\"meta\"><div class=\"features\"></div></div></div></div></div><div class=\"contnr line \" ><div class=\"lbl line\"><span class=\"txtn\">14</span> </div><div class=\"meta\"><div class=\"features\"></div></div><div class=\"children line\"><div class=\"contnr word \" ><div class=\"lbl word\"><span class=\"txtp\"><span class=\"plain outer  \" ><span class=\"plain \" ><span class=\"txtp\">[...] </span></span></span></span> </div><div class=\"meta\"><div class=\"features\"></div></div></div><div class=\"contnr word \" ><div class=\"lbl word\"><span class=\"txtp\"><span class=\"plain outer  \" ><span class=\"plain \" ><span class=\"txtp\">x-</span></span><span class=\"plain \" ><span class=\"txtp\">ti#-</span></span><span class=\"plain \" ><span class=\"txtp\">ka#</span></span></span></span> </div><div class=\"meta\"><div class=\"features\"></div></div></div></div></div><div class=\"contnr line \" ><div class=\"lbl line\"><span class=\"txtn\">15</span> </div><div class=\"meta\"><div class=\"features\"></div></div><div class=\"children line\"><div class=\"contnr word \" ><div class=\"lbl word\"><span class=\"txtp\"><span class=\"plain outer  \" ><span class=\"plain \" ><span class=\"txtp\">[...] </span></span></span></span> </div><div class=\"meta\"><div class=\"features\"></div></div></div><div class=\"contnr word \" ><div class=\"lbl word\"><span class=\"txtp\"><span class=\"plain outer  \" ><span class=\"plain \" ><span class=\"txtp\">ARAD#-</span></span><span class=\"plain \" ><span class=\"txtp\">{d}</span></span><span class=\"plain \" ><span class=\"txtp\">ul-</span></span><span class=\"plain \" ><span class=\"txtp\">masz-</span></span><span class=\"plain \" ><span class=\"txtp\">szi-</span></span><span class=\"plain \" ><span class=\"txtp\">tum </span></span></span></span> </div><div class=\"meta\"><div class=\"features\"></div></div></div><div class=\"contnr word \" ><div class=\"lbl word\"><span class=\"txtp\"><span class=\"plain outer  \" ><span class=\"plain \" ><span class=\"txtp\">_ugula </span></span></span></span> </div><div class=\"meta\"><div class=\"features\"></div></div></div><div class=\"contnr word \" ><div class=\"lbl word\"><span class=\"txtp\"><span class=\"plain outer  \" ><span class=\"plain \" ><span class=\"txtp\">gidri_</span></span></span></span> </div><div class=\"meta\"><div class=\"features\"></div></div></div></div></div><div class=\"contnr line \" ><div class=\"lbl line\"><span class=\"txtn\">16</span> </div><div class=\"meta\"><div class=\"features\"></div></div><div class=\"children line\"><div class=\"contnr word \" ><div class=\"lbl word\"><span class=\"txtp\"><span class=\"plain outer  \" ><span class=\"plain \" ><span class=\"txtp\">[x] </span></span></span></span> </div><div class=\"meta\"><div class=\"features\"></div></div></div><div class=\"contnr word \" ><div class=\"lbl word\"><span class=\"txtp\"><span class=\"plain outer  \" ><span class=\"plain \" ><span class=\"txtp\">x </span></span></span></span> </div><div class=\"meta\"><div class=\"features\"></div></div></div><div class=\"contnr word \" ><div class=\"lbl word\"><span class=\"txtp\"><span class=\"plain outer  \" ><span class=\"plain \" ><span class=\"txtp\">_a-</span></span><span class=\"plain \" ><span class=\"txtp\">sza3_ </span></span></span></span> </div><div class=\"meta\"><div class=\"features\"></div></div></div><div class=\"contnr word \" ><div class=\"lbl word\"><span class=\"txtp\"><span class=\"plain outer  \" ><span class=\"plain \" ><span class=\"txtp\">x </span></span></span></span> </div><div class=\"meta\"><div class=\"features\"></div></div></div><div class=\"contnr word \" ><div class=\"lbl word\"><span class=\"txtp\"><span class=\"plain outer  \" ><span class=\"plain \" ><span class=\"txtp\">[x </span></span></span></span> </div><div class=\"meta\"><div class=\"features\"></div></div></div><div class=\"contnr word \" ><div class=\"lbl word\"><span class=\"txtp\"><span class=\"plain outer  \" ><span class=\"plain \" ><span class=\"txtp\">x </span></span></span></span> </div><div class=\"meta\"><div class=\"features\"></div></div></div><div class=\"contnr word \" ><div class=\"lbl word\"><span class=\"txtp\"><span class=\"plain outer  \" ><span class=\"plain \" ><span class=\"txtp\">x </span></span></span></span> </div><div class=\"meta\"><div class=\"features\"></div></div></div><div class=\"contnr word \" ><div class=\"lbl word\"><span class=\"txtp\"><span class=\"plain outer  \" ><span class=\"plain \" ><span class=\"txtp\">(x)] </span></span></span></span> </div><div class=\"meta\"><div class=\"features\"></div></div></div><div class=\"contnr word \" ><div class=\"lbl word\"><span class=\"txtp\"><span class=\"plain outer  \" ><span class=\"plain \" ><span class=\"txtp\">u2-</span></span><span class=\"plain \" ><span class=\"txtp\">da-</span></span><span class=\"plain \" ><span class=\"txtp\">an-</span></span><span class=\"plain \" ><span class=\"txtp\">ni-</span></span><span class=\"plain \" ><span class=\"txtp\">na-</span></span><span class=\"plain \" ><span class=\"txtp\">am-</span></span><span class=\"plain \" ><span class=\"txtp\">ma</span></span></span></span> </div><div class=\"meta\"><div class=\"features\"></div></div></div></div></div><div class=\"contnr line \" ><div class=\"lbl line\"><span class=\"txtn\">17</span> </div><div class=\"meta\"><div class=\"features\"></div></div><div class=\"children line\"><div class=\"contnr word \" ><div class=\"lbl word\"><span class=\"txtp\"><span class=\"plain outer  \" ><span class=\"plain \" ><span class=\"txtp\">usz#-</span></span><span class=\"plain \" ><span class=\"txtp\">ta-</span></span><span class=\"plain \" ><span class=\"txtp\">bi-</span></span><span class=\"plain \" ><span class=\"txtp\">lam </span></span></span></span> </div><div class=\"meta\"><div class=\"features\"></div></div></div><div class=\"contnr word \" ><div class=\"lbl word\"><span class=\"txtp\"><span class=\"plain outer  \" ><span class=\"plain \" ><span class=\"txtp\">asz-</span></span><span class=\"plain \" ><span class=\"txtp\">szum </span></span></span></span> </div><div class=\"meta\"><div class=\"features\"></div></div></div><div class=\"contnr word \" ><div class=\"lbl word\"><span class=\"txtp\"><span class=\"plain outer  \" ><span class=\"plain \" ><span class=\"txtp\">sze-</span></span><span class=\"plain \" ><span class=\"txtp\">e </span></span></span></span> </div><div class=\"meta\"><div class=\"features\"></div></div></div><div class=\"contnr word \" ><div class=\"lbl word\"><span class=\"txtp\"><span class=\"plain outer  \" ><span class=\"plain \" ><span class=\"txtp\">_szuku#_-</span></span><span class=\"plain \" ><span class=\"txtp\">ka </span></span></span></span> </div><div class=\"meta\"><div class=\"features\"></div></div></div><div class=\"contnr word \" ><div class=\"lbl word\"><span class=\"txtp\"><span class=\"plain outer  \" ><span class=\"plain \" ><span class=\"txtp\">sza </span></span></span></span> </div><div class=\"meta\"><div class=\"features\"></div></div></div><div class=\"contnr word \" ><div class=\"lbl word\"><span class=\"txtp\"><span class=\"plain outer  \" ><span class=\"plain \" ><span class=\"txtp\">_mu </span></span></span></span> </div><div class=\"meta\"><div class=\"features\"></div></div></div><div class=\"contnr word \" ><div class=\"lbl word\"><span class=\"txtp\"><span class=\"plain outer  \" ><span class=\"plain \" ><span class=\"txtp\">4(disz)-</span></span><span class=\"plain \" ><span class=\"txtp\">kam_</span></span></span></span> </div><div class=\"meta\"><div class=\"features\"></div></div></div></div></div><div class=\"contnr line \" ><div class=\"lbl line\"><span class=\"txtn\">18</span> </div><div class=\"meta\"><div class=\"features\"></div></div><div class=\"children line\"><div class=\"contnr word \" ><div class=\"lbl word\"><span class=\"txtp\"><span class=\"plain outer  \" ><span class=\"plain \" ><span class=\"txtp\">sza </span></span></span></span> </div><div class=\"meta\"><div class=\"features\"></div></div></div><div class=\"contnr word \" ><div class=\"lbl word\"><span class=\"txtp\"><span class=\"plain outer  \" ><span class=\"plain \" ><span class=\"txtp\">i-</span></span><span class=\"plain \" ><span class=\"txtp\">na </span></span></span></span> </div><div class=\"meta\"><div class=\"features\"></div></div></div><div class=\"contnr word \" ><div class=\"lbl word\"><span class=\"txtp\"><span class=\"plain outer  \" ><span class=\"plain \" ><span class=\"txtp\">qa2-</span></span><span class=\"plain \" ><span class=\"txtp\">ti </span></span></span></span> </div><div class=\"meta\"><div class=\"features\"></div></div></div><div class=\"contnr word \" ><div class=\"lbl word\"><span class=\"txtp\"><span class=\"plain outer  \" ><span class=\"plain \" ><span class=\"txtp\">ARAD-</span></span><span class=\"plain \" ><span class=\"txtp\">{d}</span></span><span class=\"plain \" ><span class=\"txtp\">ul-</span></span><span class=\"plain \" ><span class=\"txtp\">masz-</span></span><span class=\"plain \" ><span class=\"txtp\">szi-</span></span><span class=\"plain \" ><span class=\"txtp\">tum </span></span></span></span> </div><div class=\"meta\"><div class=\"features\"></div></div></div><div class=\"contnr word \" ><div class=\"lbl word\"><span class=\"txtp\"><span class=\"plain outer  \" ><span class=\"plain \" ><span class=\"txtp\">_ugula </span></span></span></span> </div><div class=\"meta\"><div class=\"features\"></div></div></div><div class=\"contnr word \" ><div class=\"lbl word\"><span class=\"txtp\"><span class=\"plain outer  \" ><span class=\"plain \" ><span class=\"txtp\">gidri_ </span></span></span></span> </div><div class=\"meta\"><div class=\"features\"></div></div></div><div class=\"contnr word \" ><div class=\"lbl word\"><span class=\"txtp\"><span class=\"plain outer  \" ><span class=\"plain \" ><span class=\"txtp\">szu-</span></span><span class=\"plain \" ><span class=\"txtp\">ud-</span></span><span class=\"plain \" ><span class=\"txtp\">du-</span></span><span class=\"plain \" ><span class=\"txtp\">nim</span></span></span></span> </div><div class=\"meta\"><div class=\"features\"></div></div></div></div></div><div class=\"contnr line \" ><div class=\"lbl line\"><span class=\"txtn\">19</span> </div><div class=\"meta\"><div class=\"features\"></div></div><div class=\"children line\"><div class=\"contnr word \" ><div class=\"lbl word\"><span class=\"txtp\"><span class=\"plain outer  \" ><span class=\"plain \" ><span class=\"txtp\">sza </span></span></span></span> </div><div class=\"meta\"><div class=\"features\"></div></div></div><div class=\"contnr word \" ><div class=\"lbl word\"><span class=\"txtp\"><span class=\"plain outer  \" ><span class=\"plain \" ><span class=\"txtp\">ta-</span></span><span class=\"plain \" ><span class=\"txtp\">asz-</span></span><span class=\"plain \" ><span class=\"txtp\">pu-</span></span><span class=\"plain \" ><span class=\"txtp\">ra-</span></span><span class=\"plain \" ><span class=\"txtp\">am </span></span></span></span> </div><div class=\"meta\"><div class=\"features\"></div></div></div><div class=\"contnr word \" ><div class=\"lbl word\"><span class=\"txtp\"><span class=\"plain outer  \" ><span class=\"plain \" ><span class=\"txtp\">i-</span></span><span class=\"plain \" ><span class=\"txtp\">nu-</span></span><span class=\"plain \" ><span class=\"txtp\">ma </span></span></span></span> </div><div class=\"meta\"><div class=\"features\"></div></div></div><div class=\"contnr word \" ><div class=\"lbl word\"><span class=\"txtp\"><span class=\"plain outer  \" ><span class=\"plain \" ><span class=\"txtp\">ARAD-</span></span><span class=\"plain \" ><span class=\"txtp\">{d}</span></span><span class=\"plain \" ><span class=\"txtp\">ul-</span></span><span class=\"plain \" ><span class=\"txtp\">masz-</span></span><span class=\"plain \" ><span class=\"txtp\">szi-</span></span><span class=\"plain \" ><span class=\"txtp\">tum </span></span></span></span> </div><div class=\"meta\"><div class=\"features\"></div></div></div><div class=\"contnr word \" ><div class=\"lbl word\"><span class=\"txtp\"><span class=\"plain outer  \" ><span class=\"plain \" ><span class=\"txtp\">szu-</span></span><span class=\"plain \" ><span class=\"txtp\">u2</span></span></span></span> </div><div class=\"meta\"><div class=\"features\"></div></div></div></div></div><div class=\"contnr line \" ><div class=\"lbl line\"><span class=\"txtn\">20</span> </div><div class=\"meta\"><div class=\"features\"></div></div><div class=\"children line\"><div class=\"contnr word \" ><div class=\"lbl word\"><span class=\"txtp\"><span class=\"plain outer  \" ><span class=\"plain \" ><span class=\"txtp\">a-</span></span><span class=\"plain \" ><span class=\"txtp\">na </span></span></span></span> </div><div class=\"meta\"><div class=\"features\"></div></div></div><div class=\"contnr word \" ><div class=\"lbl word\"><span class=\"txtp\"><span class=\"plain outer  \" ><span class=\"plain \" ><span class=\"txtp\">babila2</span></span><span class=\"plain \" ><span class=\"txtp\">{ki} </span></span></span></span> </div><div class=\"meta\"><div class=\"features\"></div></div></div><div class=\"contnr word \" ><div class=\"lbl word\"><span class=\"txtp\"><span class=\"plain outer  \" ><span class=\"plain \" ><span class=\"txtp\">i-</span></span><span class=\"plain \" ><span class=\"txtp\">il-</span></span><span class=\"plain \" ><span class=\"txtp\">la-</span></span><span class=\"plain \" ><span class=\"txtp\">kam</span></span></span></span> </div><div class=\"meta\"><div class=\"features\"></div></div></div></div></div><div class=\"contnr line \" ><div class=\"lbl line\"><span class=\"txtn\">21</span> </div><div class=\"meta\"><div class=\"features\"></div></div><div class=\"children line\"><div class=\"contnr word \" ><div class=\"lbl word\"><span class=\"txtp\"><span class=\"plain outer  \" ><span class=\"plain \" ><span class=\"txtp\">tup-</span></span><span class=\"plain \" ><span class=\"txtp\">pa-</span></span><span class=\"plain \" ><span class=\"txtp\">ka </span></span></span></span> </div><div class=\"meta\"><div class=\"features\"></div></div></div><div class=\"contnr word \" ><div class=\"lbl word\"><span class=\"txtp\"><span class=\"plain outer  \" ><span class=\"plain \" ><span class=\"txtp\">szu-</span></span><span class=\"plain \" ><span class=\"txtp\">bi-</span></span><span class=\"plain \" ><span class=\"txtp\">lam </span></span></span></span> </div><div class=\"meta\"><div class=\"features\"></div></div></div><div class=\"contnr word \" ><div class=\"lbl word\"><span class=\"txtp\"><span class=\"plain outer  \" ><span class=\"plain \" ><span class=\"txtp\">_ugula </span></span></span></span> </div><div class=\"meta\"><div class=\"features\"></div></div></div><div class=\"contnr word \" ><div class=\"lbl word\"><span class=\"txtp\"><span class=\"plain outer  \" ><span class=\"plain \" ><span class=\"txtp\">gidri_ </span></span></span></span> </div><div class=\"meta\"><div class=\"features\"></div></div></div><div class=\"contnr word \" ><div class=\"lbl word\"><span class=\"txtp\"><span class=\"plain outer  \" ><span class=\"plain \" ><span class=\"txtp\">szu-</span></span><span class=\"plain \" ><span class=\"txtp\">a-</span></span><span class=\"plain \" ><span class=\"txtp\">ti </span></span></span></span> </div><div class=\"meta\"><div class=\"features\"></div></div></div><div class=\"contnr word \" ><div class=\"lbl word\"><span class=\"txtp\"><span class=\"plain outer  \" ><span class=\"plain \" ><span class=\"txtp\">li-</span></span><span class=\"plain \" ><span class=\"txtp\">x </span></span></span></span> </div><div class=\"meta\"><div class=\"features\"></div></div></div><div class=\"contnr word \" ><div class=\"lbl word\"><span class=\"txtp\"><span class=\"plain outer  \" ><span class=\"plain \" ><span class=\"txtp\">x </span></span></span></span> </div><div class=\"meta\"><div class=\"features\"></div></div></div><div class=\"contnr word \" ><div class=\"lbl word\"><span class=\"txtp\"><span class=\"plain outer  \" ><span class=\"plain \" ><span class=\"txtp\">x</span></span></span></span> </div><div class=\"meta\"><div class=\"features\"></div></div></div></div></div><div class=\"contnr line \" ><div class=\"lbl line\"><span class=\"txtn\">22</span> </div><div class=\"meta\"><div class=\"features\"></div></div><div class=\"children line\"><div class=\"contnr word \" ><div class=\"lbl word\"><span class=\"txtp\"><span class=\"plain outer  \" ><span class=\"plain \" ><span class=\"txtp\">[sze-</span></span><span class=\"plain \" ><span class=\"txtp\">e] </span></span></span></span> </div><div class=\"meta\"><div class=\"features\"></div></div></div><div class=\"contnr word \" ><div class=\"lbl word\"><span class=\"txtp\"><span class=\"plain outer  \" ><span class=\"plain \" ><span class=\"txtp\">_szuku_-</span></span><span class=\"plain \" ><span class=\"txtp\">ka </span></span></span></span> </div><div class=\"meta\"><div class=\"features\"></div></div></div><div class=\"contnr word \" ><div class=\"lbl word\"><span class=\"txtp\"><span class=\"plain outer  \" ><span class=\"plain \" ><span class=\"txtp\">li-</span></span><span class=\"plain \" ><span class=\"txtp\">sza-</span></span><span class=\"plain \" ><span class=\"txtp\">li-</span></span><span class=\"plain \" ><span class=\"txtp\">mu-</span></span><span class=\"plain \" ><span class=\"txtp\">ka</span></span></span></span> </div><div class=\"meta\"><div class=\"features\"></div></div></div></div></div></div></div>"
      ],
      "text/plain": [
       "<IPython.core.display.HTML object>"
      ]
     },
     "metadata": {},
     "output_type": "display_data"
    }
   ],
   "source": [
    "A.show(results, end=2, condensed=True, condenseType='face', colorMap={0: '', 2: 'cyan', 3: 'magenta', 4: 'lightsalmon'})"
   ]
  },
  {
   "cell_type": "markdown",
   "metadata": {},
   "source": [
    "# Constraining order\n",
    "You can stipulate an order on the things in your template.\n",
    "You only have to put a relational operator between them.\n",
    "Say we want only results where the damage follows the missing."
   ]
  },
  {
   "cell_type": "code",
   "execution_count": 20,
   "metadata": {
    "ExecuteTime": {
     "end_time": "2018-05-24T07:47:14.547656Z",
     "start_time": "2018-05-24T07:47:14.544433Z"
    }
   },
   "outputs": [],
   "source": [
    "query = '''\n",
    "line\n",
    "  sign question=1\n",
    "  sign missing=1\n",
    "  < sign damage=1\n",
    "'''"
   ]
  },
  {
   "cell_type": "code",
   "execution_count": 24,
   "metadata": {
    "ExecuteTime": {
     "end_time": "2018-05-24T07:48:04.746084Z",
     "start_time": "2018-05-24T07:48:03.223548Z"
    }
   },
   "outputs": [
    {
     "name": "stdout",
     "output_type": "stream",
     "text": [
      "  0.61s 84 results\n"
     ]
    },
    {
     "data": {
      "text/html": [
       "<table>\n",
       "<tr class=\"tf\">\n",
       "  <th class=\"tf\">n</th><th class=\"tf\">p</th>\n",
       "  <th class=\"tf\">line</th><th>sign</th><th>sign</th><th>sign</th>\n",
       "</tr>\n",
       "\n",
       "<tr class=\"tf\"><td class=\"tf\">1</td><td class=\"tf\"> <a href=\"https://cdli.ucla.edu/search/search_results.php?SearchMode=Text&amp;ObjectID=P510530\" title=\"show this document on CDLI\" sec=\"P510530 obverse:5\">P510530 obverse:5</a></td><td class=\"tf\"><span class=\"plain outer  \" ><span class=\"plain\"><span class=\"plain \" ><span class=\"plain \" ><span class=\"txtp\">{disz}</span></span><span class=\"plain \" ><span class=\"txtp\">[{d}</span></span><span class=\"plain hl\" ><span class=\"txtp\">x]-</span></span><span class=\"plain hl\" ><span class=\"txtp\">ra#?-</span></span><span class=\"plain \" ><span class=\"txtp\">bi </span></span></span><span class=\"plain \" ><span class=\"plain \" ><span class=\"txtp\">il-</span></span><span class=\"plain \" ><span class=\"txtp\">qe2-</span></span><span class=\"plain \" ><span class=\"txtp\">a-</span></span><span class=\"plain \" ><span class=\"txtp\">am-</span></span><span class=\"plain \" ><span class=\"txtp\">ma</span></span></span></span></span></td><td class=\"tf\"><span class=\"plain outer  hl\" ><span class=\"txtp\">ra#?-</span></span></td><td class=\"tf\"><span class=\"plain outer  hl\" ><span class=\"txtp\">x]-</span></span></td><td class=\"tf\"><span class=\"plain outer  hl\" ><span class=\"txtp\">ra#?-</span></span></td></tr>\n",
       "<tr class=\"tf\"><td class=\"tf\">2</td><td class=\"tf\"> <a href=\"https://cdli.ucla.edu/search/search_results.php?SearchMode=Text&amp;ObjectID=P510530\" title=\"show this document on CDLI\" sec=\"P510530 reverse:11\">P510530 reverse:11</a></td><td class=\"tf\"><span class=\"plain outer  \" ><span class=\"plain\"><span class=\"plain \" ><span class=\"plain \" ><span class=\"txtp\">[szu-</span></span><span class=\"plain \" ><span class=\"txtp\">bu-</span></span><span class=\"plain hl\" ><span class=\"txtp\">lim?] </span></span></span><span class=\"plain \" ><span class=\"plain hl\" ><span class=\"txtp\">sza# </span></span></span><span class=\"plain \" ><span class=\"plain \" ><span class=\"txtp\">ta-</span></span><span class=\"plain \" ><span class=\"txtp\">asz-</span></span><span class=\"plain \" ><span class=\"txtp\">pu-</span></span><span class=\"plain \" ><span class=\"txtp\">ra-</span></span><span class=\"plain \" ><span class=\"txtp\">am</span></span></span></span></span></td><td class=\"tf\"><span class=\"plain outer  hl\" ><span class=\"txtp\">lim?] </span></span></td><td class=\"tf\"><span class=\"plain outer  hl\" ><span class=\"txtp\">lim?] </span></span></td><td class=\"tf\"><span class=\"plain outer  hl\" ><span class=\"txtp\">sza# </span></span></td></tr>\n",
       "<tr class=\"tf\"><td class=\"tf\">3</td><td class=\"tf\"> <a href=\"https://cdli.ucla.edu/search/search_results.php?SearchMode=Text&amp;ObjectID=P510567\" title=\"show this document on CDLI\" sec=\"P510567 reverse:2\">P510567 reverse:2</a></td><td class=\"tf\"><span class=\"plain outer  \" ><span class=\"plain\"><span class=\"plain \" ><span class=\"plain hl\" ><span class=\"txtp\">[...] </span></span></span><span class=\"plain \" ><span class=\"plain hl\" ><span class=\"txtp\">ia#? </span></span></span><span class=\"plain \" ><span class=\"plain \" ><span class=\"txtp\">_sag-</span></span><span class=\"plain \" ><span class=\"txtp\">us2_</span></span></span></span></span></td><td class=\"tf\"><span class=\"plain outer  hl\" ><span class=\"txtp\">ia#? </span></span></td><td class=\"tf\"><span class=\"plain outer  hl\" ><span class=\"txtp\">[...] </span></span></td><td class=\"tf\"><span class=\"plain outer  hl\" ><span class=\"txtp\">ia#? </span></span></td></tr>\n",
       "<tr class=\"tf\"><td class=\"tf\">4</td><td class=\"tf\"> <a href=\"https://cdli.ucla.edu/search/search_results.php?SearchMode=Text&amp;ObjectID=P510586\" title=\"show this document on CDLI\" sec=\"P510586 obverse:27\">P510586 obverse:27</a></td><td class=\"tf\"><span class=\"plain outer  \" ><span class=\"plain\"><span class=\"plain \" ><span class=\"plain \" ><span class=\"txtp\">[asz-</span></span><span class=\"plain \" ><span class=\"txtp\">szum </span></span></span><span class=\"plain \" ><span class=\"plain hl\" ><span class=\"txtp\">ha]-</span></span><span class=\"plain hl\" ><span class=\"txtp\">bil2#?-</span></span><span class=\"plain \" ><span class=\"txtp\">we?-</span></span><span class=\"plain \" ><span class=\"txtp\">du-</span></span><span class=\"plain \" ><span class=\"txtp\">um </span></span></span><span class=\"plain \" ><span class=\"plain \" ><span class=\"txtp\">sza </span></span></span><span class=\"plain \" ><span class=\"plain \" ><span class=\"txtp\">asz-</span></span><span class=\"plain \" ><span class=\"txtp\">pu-</span></span><span class=\"plain \" ><span class=\"txtp\">ra#-</span></span><span class=\"plain \" ><span class=\"txtp\">[ak-</span></span><span class=\"plain \" ><span class=\"txtp\">kum]</span></span></span></span></span></td><td class=\"tf\"><span class=\"plain outer  hl\" ><span class=\"txtp\">bil2#?-</span></span></td><td class=\"tf\"><span class=\"plain outer  hl\" ><span class=\"txtp\">ha]-</span></span></td><td class=\"tf\"><span class=\"plain outer  hl\" ><span class=\"txtp\">bil2#?-</span></span></td></tr>\n",
       "<tr class=\"tf\"><td class=\"tf\">5</td><td class=\"tf\"> <a href=\"https://cdli.ucla.edu/search/search_results.php?SearchMode=Text&amp;ObjectID=P510586\" title=\"show this document on CDLI\" sec=\"P510586 obverse:27\">P510586 obverse:27</a></td><td class=\"tf\"><span class=\"plain outer  \" ><span class=\"plain\"><span class=\"plain \" ><span class=\"plain \" ><span class=\"txtp\">[asz-</span></span><span class=\"plain \" ><span class=\"txtp\">szum </span></span></span><span class=\"plain \" ><span class=\"plain hl\" ><span class=\"txtp\">ha]-</span></span><span class=\"plain hl\" ><span class=\"txtp\">bil2#?-</span></span><span class=\"plain hl\" ><span class=\"txtp\">we?-</span></span><span class=\"plain \" ><span class=\"txtp\">du-</span></span><span class=\"plain \" ><span class=\"txtp\">um </span></span></span><span class=\"plain \" ><span class=\"plain \" ><span class=\"txtp\">sza </span></span></span><span class=\"plain \" ><span class=\"plain \" ><span class=\"txtp\">asz-</span></span><span class=\"plain \" ><span class=\"txtp\">pu-</span></span><span class=\"plain \" ><span class=\"txtp\">ra#-</span></span><span class=\"plain \" ><span class=\"txtp\">[ak-</span></span><span class=\"plain \" ><span class=\"txtp\">kum]</span></span></span></span></span></td><td class=\"tf\"><span class=\"plain outer  hl\" ><span class=\"txtp\">we?-</span></span></td><td class=\"tf\"><span class=\"plain outer  hl\" ><span class=\"txtp\">ha]-</span></span></td><td class=\"tf\"><span class=\"plain outer  hl\" ><span class=\"txtp\">bil2#?-</span></span></td></tr>\n",
       "<tr class=\"tf\"><td class=\"tf\">6</td><td class=\"tf\"> <a href=\"https://cdli.ucla.edu/search/search_results.php?SearchMode=Text&amp;ObjectID=P510588\" title=\"show this document on CDLI\" sec=\"P510588 left:1':2\">P510588 left:1':2</a></td><td class=\"tf\"><span class=\"plain outer  \" ><span class=\"plain\"><span class=\"plain \" ><span class=\"plain hl\" ><span class=\"txtp\">[i?]-</span></span><span class=\"plain hl\" ><span class=\"txtp\">na# </span></span></span><span class=\"plain \" ><span class=\"plain \" ><span class=\"txtp\">zimbir</span></span><span class=\"plain \" ><span class=\"txtp\">{ki#}</span></span></span></span></span></td><td class=\"tf\"><span class=\"plain outer  hl\" ><span class=\"txtp\">[i?]-</span></span></td><td class=\"tf\"><span class=\"plain outer  hl\" ><span class=\"txtp\">[i?]-</span></span></td><td class=\"tf\"><span class=\"plain outer  hl\" ><span class=\"txtp\">na# </span></span></td></tr>\n",
       "<tr class=\"tf\"><td class=\"tf\">7</td><td class=\"tf\"> <a href=\"https://cdli.ucla.edu/search/search_results.php?SearchMode=Text&amp;ObjectID=P510597\" title=\"show this document on CDLI\" sec=\"P510597 obverse:12\">P510597 obverse:12</a></td><td class=\"tf\"><span class=\"plain outer  \" ><span class=\"plain\"><span class=\"plain \" ><span class=\"plain hl\" ><span class=\"txtp\">[a?-</span></span><span class=\"plain hl\" ><span class=\"txtp\">na] </span></span></span><span class=\"plain \" ><span class=\"plain hl\" ><span class=\"txtp\">babila2#</span></span><span class=\"plain \" ><span class=\"txtp\">[{ki}]</span></span></span></span></span></td><td class=\"tf\"><span class=\"plain outer  hl\" ><span class=\"txtp\">[a?-</span></span></td><td class=\"tf\"><span class=\"plain outer  hl\" ><span class=\"txtp\">na] </span></span></td><td class=\"tf\"><span class=\"plain outer  hl\" ><span class=\"txtp\">babila2#</span></span></td></tr>\n",
       "<tr class=\"tf\"><td class=\"tf\">8</td><td class=\"tf\"> <a href=\"https://cdli.ucla.edu/search/search_results.php?SearchMode=Text&amp;ObjectID=P510657\" title=\"show this document on CDLI\" sec=\"P510657 envelope - obverse:1\">P510657 envelope - obverse:1</a></td><td class=\"tf\"><span class=\"plain outer  \" ><span class=\"plain\"><span class=\"plain \" ><span class=\"plain hl\" ><span class=\"txtp\">[tup]-</span></span><span class=\"plain hl\" ><span class=\"txtp\">pi#? </span></span></span><span class=\"plain \" ><span class=\"plain \" ><span class=\"txtp\">a-</span></span><span class=\"plain \" ><span class=\"txtp\">hi-</span></span><span class=\"plain \" ><span class=\"txtp\">i3-</span></span><span class=\"plain \" ><span class=\"txtp\">li2-</span></span><span class=\"plain \" ><span class=\"txtp\">ia</span></span></span></span></span></td><td class=\"tf\"><span class=\"plain outer  hl\" ><span class=\"txtp\">pi#? </span></span></td><td class=\"tf\"><span class=\"plain outer  hl\" ><span class=\"txtp\">[tup]-</span></span></td><td class=\"tf\"><span class=\"plain outer  hl\" ><span class=\"txtp\">pi#? </span></span></td></tr>\n",
       "<tr class=\"tf\"><td class=\"tf\">9</td><td class=\"tf\"> <a href=\"https://cdli.ucla.edu/search/search_results.php?SearchMode=Text&amp;ObjectID=P510660\" title=\"show this document on CDLI\" sec=\"P510660 reverse:7\">P510660 reverse:7</a></td><td class=\"tf\"><span class=\"plain outer  \" ><span class=\"plain\"><span class=\"plain \" ><span class=\"plain hl\" ><span class=\"txtp\">[t,e4?]-</span></span><span class=\"plain hl\" ><span class=\"txtp\">em# </span></span></span><span class=\"plain \" ><span class=\"plain \" ><span class=\"txtp\">_a-</span></span><span class=\"plain \" ><span class=\"txtp\">sza3_ </span></span></span><span class=\"plain \" ><span class=\"plain \" ><span class=\"txtp\">ma-</span></span><span class=\"plain \" ><span class=\"txtp\">la </span></span></span><span class=\"plain \" ><span class=\"plain \" ><span class=\"txtp\">a-</span></span><span class=\"plain \" ><span class=\"txtp\">di </span></span></span><span class=\"plain \" ><span class=\"plain \" ><span class=\"txtp\">i-</span></span><span class=\"plain \" ><span class=\"txtp\">na-</span></span><span class=\"plain \" ><span class=\"txtp\">an-</span></span><span class=\"plain \" ><span class=\"txtp\">na</span></span></span></span></span></td><td class=\"tf\"><span class=\"plain outer  hl\" ><span class=\"txtp\">[t,e4?]-</span></span></td><td class=\"tf\"><span class=\"plain outer  hl\" ><span class=\"txtp\">[t,e4?]-</span></span></td><td class=\"tf\"><span class=\"plain outer  hl\" ><span class=\"txtp\">em# </span></span></td></tr>\n",
       "<tr class=\"tf\"><td class=\"tf\">10</td><td class=\"tf\"> <a href=\"https://cdli.ucla.edu/search/search_results.php?SearchMode=Text&amp;ObjectID=P510662\" title=\"show this document on CDLI\" sec=\"P510662 reverse:1\">P510662 reverse:1</a></td><td class=\"tf\"><span class=\"plain outer  \" ><span class=\"plain\"><span class=\"plain \" ><span class=\"plain hl\" ><span class=\"txtp\">[1(disz)?] </span></span></span><span class=\"plain \" ><span class=\"plain hl\" ><span class=\"txtp\">_tug2#?_ </span></span></span><span class=\"plain \" ><span class=\"plain \" ><span class=\"txtp\">a-</span></span><span class=\"plain \" ><span class=\"txtp\">la-</span></span><span class=\"plain \" ><span class=\"txtp\">qe2-</span></span><span class=\"plain \" ><span class=\"txtp\">am</span></span></span></span></span></td><td class=\"tf\"><span class=\"plain outer  hl\" ><span class=\"txtp\">[1(disz)?] </span></span></td><td class=\"tf\"><span class=\"plain outer  hl\" ><span class=\"txtp\">[1(disz)?] </span></span></td><td class=\"tf\"><span class=\"plain outer  hl\" ><span class=\"txtp\">_tug2#?_ </span></span></td></tr></table>"
      ],
      "text/plain": [
       "<IPython.core.display.HTML object>"
      ]
     },
     "metadata": {},
     "output_type": "display_data"
    }
   ],
   "source": [
    "results = A.search(query)\n",
    "A.table(results, end=10, baseType=\"sign\")"
   ]
  },
  {
   "cell_type": "markdown",
   "metadata": {},
   "source": [
    "We can also require the things to be adjacent."
   ]
  },
  {
   "cell_type": "code",
   "execution_count": 26,
   "metadata": {
    "ExecuteTime": {
     "end_time": "2018-05-24T07:47:14.547656Z",
     "start_time": "2018-05-24T07:47:14.544433Z"
    }
   },
   "outputs": [],
   "source": [
    "query = '''\n",
    "line\n",
    "  sign question=1\n",
    "  sign missing=1\n",
    "  <: sign damage=1\n",
    "'''"
   ]
  },
  {
   "cell_type": "code",
   "execution_count": 30,
   "metadata": {
    "ExecuteTime": {
     "end_time": "2018-05-24T07:48:04.746084Z",
     "start_time": "2018-05-24T07:48:03.223548Z"
    }
   },
   "outputs": [
    {
     "name": "stdout",
     "output_type": "stream",
     "text": [
      "  0.61s 84 results\n"
     ]
    },
    {
     "data": {
      "text/html": [
       "<table>\n",
       "<tr class=\"tf\">\n",
       "  <th class=\"tf\">n</th><th class=\"tf\">p</th>\n",
       "  <th class=\"tf\">line</th><th>sign</th><th>sign</th><th>sign</th>\n",
       "</tr>\n",
       "\n",
       "<tr class=\"tf\"><td class=\"tf\">1</td><td class=\"tf\"> <a href=\"https://cdli.ucla.edu/search/search_results.php?SearchMode=Text&amp;ObjectID=P510530\" title=\"show this document on CDLI\" sec=\"P510530 obverse:5\">P510530 obverse:5</a></td><td class=\"tf\"><span class=\"plain outer  \" ><span class=\"plain\"><span class=\"plain \" ><span class=\"plain \" ><span class=\"txtp\">{disz}</span></span><span class=\"plain \" ><span class=\"txtp\">[{d}</span></span><span class=\"plain hl\" ><span class=\"txtp\">x]-</span></span><span class=\"plain hl\" ><span class=\"txtp\">ra#?-</span></span><span class=\"plain \" ><span class=\"txtp\">bi </span></span></span><span class=\"plain \" ><span class=\"plain \" ><span class=\"txtp\">il-</span></span><span class=\"plain \" ><span class=\"txtp\">qe2-</span></span><span class=\"plain \" ><span class=\"txtp\">a-</span></span><span class=\"plain \" ><span class=\"txtp\">am-</span></span><span class=\"plain \" ><span class=\"txtp\">ma</span></span></span></span></span></td><td class=\"tf\"><span class=\"plain outer  hl\" ><span class=\"txtp\">ra#?-</span></span></td><td class=\"tf\"><span class=\"plain outer  hl\" ><span class=\"txtp\">x]-</span></span></td><td class=\"tf\"><span class=\"plain outer  hl\" ><span class=\"txtp\">ra#?-</span></span></td></tr>\n",
       "<tr class=\"tf\"><td class=\"tf\">2</td><td class=\"tf\"> <a href=\"https://cdli.ucla.edu/search/search_results.php?SearchMode=Text&amp;ObjectID=P510530\" title=\"show this document on CDLI\" sec=\"P510530 reverse:11\">P510530 reverse:11</a></td><td class=\"tf\"><span class=\"plain outer  \" ><span class=\"plain\"><span class=\"plain \" ><span class=\"plain \" ><span class=\"txtp\">[szu-</span></span><span class=\"plain \" ><span class=\"txtp\">bu-</span></span><span class=\"plain hl\" ><span class=\"txtp\">lim?] </span></span></span><span class=\"plain \" ><span class=\"plain hl\" ><span class=\"txtp\">sza# </span></span></span><span class=\"plain \" ><span class=\"plain \" ><span class=\"txtp\">ta-</span></span><span class=\"plain \" ><span class=\"txtp\">asz-</span></span><span class=\"plain \" ><span class=\"txtp\">pu-</span></span><span class=\"plain \" ><span class=\"txtp\">ra-</span></span><span class=\"plain \" ><span class=\"txtp\">am</span></span></span></span></span></td><td class=\"tf\"><span class=\"plain outer  hl\" ><span class=\"txtp\">lim?] </span></span></td><td class=\"tf\"><span class=\"plain outer  hl\" ><span class=\"txtp\">lim?] </span></span></td><td class=\"tf\"><span class=\"plain outer  hl\" ><span class=\"txtp\">sza# </span></span></td></tr>\n",
       "<tr class=\"tf\"><td class=\"tf\">3</td><td class=\"tf\"> <a href=\"https://cdli.ucla.edu/search/search_results.php?SearchMode=Text&amp;ObjectID=P510567\" title=\"show this document on CDLI\" sec=\"P510567 reverse:2\">P510567 reverse:2</a></td><td class=\"tf\"><span class=\"plain outer  \" ><span class=\"plain\"><span class=\"plain \" ><span class=\"plain hl\" ><span class=\"txtp\">[...] </span></span></span><span class=\"plain \" ><span class=\"plain hl\" ><span class=\"txtp\">ia#? </span></span></span><span class=\"plain \" ><span class=\"plain \" ><span class=\"txtp\">_sag-</span></span><span class=\"plain \" ><span class=\"txtp\">us2_</span></span></span></span></span></td><td class=\"tf\"><span class=\"plain outer  hl\" ><span class=\"txtp\">ia#? </span></span></td><td class=\"tf\"><span class=\"plain outer  hl\" ><span class=\"txtp\">[...] </span></span></td><td class=\"tf\"><span class=\"plain outer  hl\" ><span class=\"txtp\">ia#? </span></span></td></tr>\n",
       "<tr class=\"tf\"><td class=\"tf\">4</td><td class=\"tf\"> <a href=\"https://cdli.ucla.edu/search/search_results.php?SearchMode=Text&amp;ObjectID=P510586\" title=\"show this document on CDLI\" sec=\"P510586 obverse:27\">P510586 obverse:27</a></td><td class=\"tf\"><span class=\"plain outer  \" ><span class=\"plain\"><span class=\"plain \" ><span class=\"plain \" ><span class=\"txtp\">[asz-</span></span><span class=\"plain \" ><span class=\"txtp\">szum </span></span></span><span class=\"plain \" ><span class=\"plain hl\" ><span class=\"txtp\">ha]-</span></span><span class=\"plain hl\" ><span class=\"txtp\">bil2#?-</span></span><span class=\"plain \" ><span class=\"txtp\">we?-</span></span><span class=\"plain \" ><span class=\"txtp\">du-</span></span><span class=\"plain \" ><span class=\"txtp\">um </span></span></span><span class=\"plain \" ><span class=\"plain \" ><span class=\"txtp\">sza </span></span></span><span class=\"plain \" ><span class=\"plain \" ><span class=\"txtp\">asz-</span></span><span class=\"plain \" ><span class=\"txtp\">pu-</span></span><span class=\"plain \" ><span class=\"txtp\">ra#-</span></span><span class=\"plain \" ><span class=\"txtp\">[ak-</span></span><span class=\"plain \" ><span class=\"txtp\">kum]</span></span></span></span></span></td><td class=\"tf\"><span class=\"plain outer  hl\" ><span class=\"txtp\">bil2#?-</span></span></td><td class=\"tf\"><span class=\"plain outer  hl\" ><span class=\"txtp\">ha]-</span></span></td><td class=\"tf\"><span class=\"plain outer  hl\" ><span class=\"txtp\">bil2#?-</span></span></td></tr>\n",
       "<tr class=\"tf\"><td class=\"tf\">5</td><td class=\"tf\"> <a href=\"https://cdli.ucla.edu/search/search_results.php?SearchMode=Text&amp;ObjectID=P510586\" title=\"show this document on CDLI\" sec=\"P510586 obverse:27\">P510586 obverse:27</a></td><td class=\"tf\"><span class=\"plain outer  \" ><span class=\"plain\"><span class=\"plain \" ><span class=\"plain \" ><span class=\"txtp\">[asz-</span></span><span class=\"plain \" ><span class=\"txtp\">szum </span></span></span><span class=\"plain \" ><span class=\"plain hl\" ><span class=\"txtp\">ha]-</span></span><span class=\"plain hl\" ><span class=\"txtp\">bil2#?-</span></span><span class=\"plain hl\" ><span class=\"txtp\">we?-</span></span><span class=\"plain \" ><span class=\"txtp\">du-</span></span><span class=\"plain \" ><span class=\"txtp\">um </span></span></span><span class=\"plain \" ><span class=\"plain \" ><span class=\"txtp\">sza </span></span></span><span class=\"plain \" ><span class=\"plain \" ><span class=\"txtp\">asz-</span></span><span class=\"plain \" ><span class=\"txtp\">pu-</span></span><span class=\"plain \" ><span class=\"txtp\">ra#-</span></span><span class=\"plain \" ><span class=\"txtp\">[ak-</span></span><span class=\"plain \" ><span class=\"txtp\">kum]</span></span></span></span></span></td><td class=\"tf\"><span class=\"plain outer  hl\" ><span class=\"txtp\">we?-</span></span></td><td class=\"tf\"><span class=\"plain outer  hl\" ><span class=\"txtp\">ha]-</span></span></td><td class=\"tf\"><span class=\"plain outer  hl\" ><span class=\"txtp\">bil2#?-</span></span></td></tr>\n",
       "<tr class=\"tf\"><td class=\"tf\">6</td><td class=\"tf\"> <a href=\"https://cdli.ucla.edu/search/search_results.php?SearchMode=Text&amp;ObjectID=P510588\" title=\"show this document on CDLI\" sec=\"P510588 left:1':2\">P510588 left:1':2</a></td><td class=\"tf\"><span class=\"plain outer  \" ><span class=\"plain\"><span class=\"plain \" ><span class=\"plain hl\" ><span class=\"txtp\">[i?]-</span></span><span class=\"plain hl\" ><span class=\"txtp\">na# </span></span></span><span class=\"plain \" ><span class=\"plain \" ><span class=\"txtp\">zimbir</span></span><span class=\"plain \" ><span class=\"txtp\">{ki#}</span></span></span></span></span></td><td class=\"tf\"><span class=\"plain outer  hl\" ><span class=\"txtp\">[i?]-</span></span></td><td class=\"tf\"><span class=\"plain outer  hl\" ><span class=\"txtp\">[i?]-</span></span></td><td class=\"tf\"><span class=\"plain outer  hl\" ><span class=\"txtp\">na# </span></span></td></tr>\n",
       "<tr class=\"tf\"><td class=\"tf\">7</td><td class=\"tf\"> <a href=\"https://cdli.ucla.edu/search/search_results.php?SearchMode=Text&amp;ObjectID=P510597\" title=\"show this document on CDLI\" sec=\"P510597 obverse:12\">P510597 obverse:12</a></td><td class=\"tf\"><span class=\"plain outer  \" ><span class=\"plain\"><span class=\"plain \" ><span class=\"plain hl\" ><span class=\"txtp\">[a?-</span></span><span class=\"plain hl\" ><span class=\"txtp\">na] </span></span></span><span class=\"plain \" ><span class=\"plain hl\" ><span class=\"txtp\">babila2#</span></span><span class=\"plain \" ><span class=\"txtp\">[{ki}]</span></span></span></span></span></td><td class=\"tf\"><span class=\"plain outer  hl\" ><span class=\"txtp\">[a?-</span></span></td><td class=\"tf\"><span class=\"plain outer  hl\" ><span class=\"txtp\">na] </span></span></td><td class=\"tf\"><span class=\"plain outer  hl\" ><span class=\"txtp\">babila2#</span></span></td></tr>\n",
       "<tr class=\"tf\"><td class=\"tf\">8</td><td class=\"tf\"> <a href=\"https://cdli.ucla.edu/search/search_results.php?SearchMode=Text&amp;ObjectID=P510657\" title=\"show this document on CDLI\" sec=\"P510657 envelope - obverse:1\">P510657 envelope - obverse:1</a></td><td class=\"tf\"><span class=\"plain outer  \" ><span class=\"plain\"><span class=\"plain \" ><span class=\"plain hl\" ><span class=\"txtp\">[tup]-</span></span><span class=\"plain hl\" ><span class=\"txtp\">pi#? </span></span></span><span class=\"plain \" ><span class=\"plain \" ><span class=\"txtp\">a-</span></span><span class=\"plain \" ><span class=\"txtp\">hi-</span></span><span class=\"plain \" ><span class=\"txtp\">i3-</span></span><span class=\"plain \" ><span class=\"txtp\">li2-</span></span><span class=\"plain \" ><span class=\"txtp\">ia</span></span></span></span></span></td><td class=\"tf\"><span class=\"plain outer  hl\" ><span class=\"txtp\">pi#? </span></span></td><td class=\"tf\"><span class=\"plain outer  hl\" ><span class=\"txtp\">[tup]-</span></span></td><td class=\"tf\"><span class=\"plain outer  hl\" ><span class=\"txtp\">pi#? </span></span></td></tr>\n",
       "<tr class=\"tf\"><td class=\"tf\">9</td><td class=\"tf\"> <a href=\"https://cdli.ucla.edu/search/search_results.php?SearchMode=Text&amp;ObjectID=P510660\" title=\"show this document on CDLI\" sec=\"P510660 reverse:7\">P510660 reverse:7</a></td><td class=\"tf\"><span class=\"plain outer  \" ><span class=\"plain\"><span class=\"plain \" ><span class=\"plain hl\" ><span class=\"txtp\">[t,e4?]-</span></span><span class=\"plain hl\" ><span class=\"txtp\">em# </span></span></span><span class=\"plain \" ><span class=\"plain \" ><span class=\"txtp\">_a-</span></span><span class=\"plain \" ><span class=\"txtp\">sza3_ </span></span></span><span class=\"plain \" ><span class=\"plain \" ><span class=\"txtp\">ma-</span></span><span class=\"plain \" ><span class=\"txtp\">la </span></span></span><span class=\"plain \" ><span class=\"plain \" ><span class=\"txtp\">a-</span></span><span class=\"plain \" ><span class=\"txtp\">di </span></span></span><span class=\"plain \" ><span class=\"plain \" ><span class=\"txtp\">i-</span></span><span class=\"plain \" ><span class=\"txtp\">na-</span></span><span class=\"plain \" ><span class=\"txtp\">an-</span></span><span class=\"plain \" ><span class=\"txtp\">na</span></span></span></span></span></td><td class=\"tf\"><span class=\"plain outer  hl\" ><span class=\"txtp\">[t,e4?]-</span></span></td><td class=\"tf\"><span class=\"plain outer  hl\" ><span class=\"txtp\">[t,e4?]-</span></span></td><td class=\"tf\"><span class=\"plain outer  hl\" ><span class=\"txtp\">em# </span></span></td></tr>\n",
       "<tr class=\"tf\"><td class=\"tf\">10</td><td class=\"tf\"> <a href=\"https://cdli.ucla.edu/search/search_results.php?SearchMode=Text&amp;ObjectID=P510662\" title=\"show this document on CDLI\" sec=\"P510662 reverse:1\">P510662 reverse:1</a></td><td class=\"tf\"><span class=\"plain outer  \" ><span class=\"plain\"><span class=\"plain \" ><span class=\"plain hl\" ><span class=\"txtp\">[1(disz)?] </span></span></span><span class=\"plain \" ><span class=\"plain hl\" ><span class=\"txtp\">_tug2#?_ </span></span></span><span class=\"plain \" ><span class=\"plain \" ><span class=\"txtp\">a-</span></span><span class=\"plain \" ><span class=\"txtp\">la-</span></span><span class=\"plain \" ><span class=\"txtp\">qe2-</span></span><span class=\"plain \" ><span class=\"txtp\">am</span></span></span></span></span></td><td class=\"tf\"><span class=\"plain outer  hl\" ><span class=\"txtp\">[1(disz)?] </span></span></td><td class=\"tf\"><span class=\"plain outer  hl\" ><span class=\"txtp\">[1(disz)?] </span></span></td><td class=\"tf\"><span class=\"plain outer  hl\" ><span class=\"txtp\">_tug2#?_ </span></span></td></tr></table>"
      ],
      "text/plain": [
       "<IPython.core.display.HTML object>"
      ]
     },
     "metadata": {},
     "output_type": "display_data"
    },
    {
     "data": {
      "text/html": [
       "<p><b>result</b> <i>1</i></p>"
      ],
      "text/plain": [
       "<IPython.core.display.HTML object>"
      ]
     },
     "metadata": {},
     "output_type": "display_data"
    },
    {
     "data": {
      "text/html": [
       "<div class=\"contnr line \" ><div class=\"lbl line\"><a href=\"https://cdli.ucla.edu/search/search_results.php?SearchMode=Text&amp;ObjectID=P510530\" title=\"P510530 obverse:5\" sec=\"P510530 obverse:5\">line <span class=\"txtn\">5</span></a> </div><div class=\"meta\"><div class=\"features\"></div></div><div class=\"children line\"><div class=\"contnr word \" ><div class=\"lbl word\"><span class=\"txtp\">{disz}[{d}x]-ra#?-bi </span> </div><div class=\"meta\"><div class=\"features\"></div></div><div class=\"children word\"><div class=\"contnr sign \" ><div class=\"lbl sign\"><span class=\"txtp\">{disz}</span> </div><div class=\"meta\"><div class=\"features\"> <span class=\"det\"><span class=\"f\">det=</span>1</span></div></div></div><div class=\"contnr sign \" ><div class=\"lbl sign\"><span class=\"txtp\">[{d}</span> </div><div class=\"meta\"><div class=\"features\"> <span class=\"det\"><span class=\"f\">det=</span>1</span> <span class=\"missing\"><span class=\"f\">missing=</span>1</span></div></div></div><div class=\"contnr sign hl\"  style=\"background-color: magenta;\" ><div class=\"lbl sign\"><span class=\"txtp\">x]-</span> </div><div class=\"meta\"><div class=\"features\"> <span class=\"missing\"><span class=\"f\">missing=</span>1</span></div></div></div><div class=\"contnr sign hl\"  style=\"background-color: cyan;\" ><div class=\"lbl sign\"><span class=\"txtp\">ra#?-</span> </div><div class=\"meta\"><div class=\"features\"> <span class=\"question\"><span class=\"f\">question=</span>1</span> <span class=\"damage\"><span class=\"f\">damage=</span>1</span></div></div></div><div class=\"contnr sign \" ><div class=\"lbl sign\"><span class=\"txtp\">bi </span> </div><div class=\"meta\"><div class=\"features\"></div></div></div></div></div><div class=\"contnr word \" ><div class=\"lbl word\"><span class=\"txtp\">il-qe2-a-am-ma</span> </div><div class=\"meta\"><div class=\"features\"></div></div><div class=\"children word\"><div class=\"contnr sign \" ><div class=\"lbl sign\"><span class=\"txtp\">il-</span> </div><div class=\"meta\"><div class=\"features\"></div></div></div><div class=\"contnr sign \" ><div class=\"lbl sign\"><span class=\"txtp\">qe2-</span> </div><div class=\"meta\"><div class=\"features\"></div></div></div><div class=\"contnr sign \" ><div class=\"lbl sign\"><span class=\"txtp\">a-</span> </div><div class=\"meta\"><div class=\"features\"></div></div></div><div class=\"contnr sign \" ><div class=\"lbl sign\"><span class=\"txtp\">am-</span> </div><div class=\"meta\"><div class=\"features\"></div></div></div><div class=\"contnr sign \" ><div class=\"lbl sign\"><span class=\"txtp\">ma</span> </div><div class=\"meta\"><div class=\"features\"></div></div></div></div></div></div></div>"
      ],
      "text/plain": [
       "<IPython.core.display.HTML object>"
      ]
     },
     "metadata": {},
     "output_type": "display_data"
    },
    {
     "data": {
      "text/html": [
       "<p><b>result</b> <i>2</i></p>"
      ],
      "text/plain": [
       "<IPython.core.display.HTML object>"
      ]
     },
     "metadata": {},
     "output_type": "display_data"
    },
    {
     "data": {
      "text/html": [
       "<div class=\"contnr line \" ><div class=\"lbl line\"><a href=\"https://cdli.ucla.edu/search/search_results.php?SearchMode=Text&amp;ObjectID=P510530\" title=\"P510530 reverse:11\" sec=\"P510530 reverse:11\">line <span class=\"txtn\">11</span></a> </div><div class=\"meta\"><div class=\"features\"></div></div><div class=\"children line\"><div class=\"contnr word \" ><div class=\"lbl word\"><span class=\"txtp\">[szu-bu-lim?] </span> </div><div class=\"meta\"><div class=\"features\"></div></div><div class=\"children word\"><div class=\"contnr sign \" ><div class=\"lbl sign\"><span class=\"txtp\">[szu-</span> </div><div class=\"meta\"><div class=\"features\"> <span class=\"missing\"><span class=\"f\">missing=</span>1</span></div></div></div><div class=\"contnr sign \" ><div class=\"lbl sign\"><span class=\"txtp\">bu-</span> </div><div class=\"meta\"><div class=\"features\"> <span class=\"missing\"><span class=\"f\">missing=</span>1</span></div></div></div><div class=\"contnr sign hl\"  style=\"background-color: cyan;\" ><div class=\"lbl sign\"><span class=\"txtp\">lim?] </span> </div><div class=\"meta\"><div class=\"features\"> <span class=\"question\"><span class=\"f\">question=</span>1</span> <span class=\"missing\"><span class=\"f\">missing=</span>1</span></div></div></div></div></div><div class=\"contnr word \" ><div class=\"lbl word\"><span class=\"txtp\">sza# </span> </div><div class=\"meta\"><div class=\"features\"></div></div><div class=\"children word\"><div class=\"contnr sign hl\"  style=\"background-color: lightsalmon;\" ><div class=\"lbl sign\"><span class=\"txtp\">sza# </span> </div><div class=\"meta\"><div class=\"features\"> <span class=\"damage\"><span class=\"f\">damage=</span>1</span></div></div></div></div></div><div class=\"contnr word \" ><div class=\"lbl word\"><span class=\"txtp\">ta-asz-pu-ra-am</span> </div><div class=\"meta\"><div class=\"features\"></div></div><div class=\"children word\"><div class=\"contnr sign \" ><div class=\"lbl sign\"><span class=\"txtp\">ta-</span> </div><div class=\"meta\"><div class=\"features\"></div></div></div><div class=\"contnr sign \" ><div class=\"lbl sign\"><span class=\"txtp\">asz-</span> </div><div class=\"meta\"><div class=\"features\"></div></div></div><div class=\"contnr sign \" ><div class=\"lbl sign\"><span class=\"txtp\">pu-</span> </div><div class=\"meta\"><div class=\"features\"></div></div></div><div class=\"contnr sign \" ><div class=\"lbl sign\"><span class=\"txtp\">ra-</span> </div><div class=\"meta\"><div class=\"features\"></div></div></div><div class=\"contnr sign \" ><div class=\"lbl sign\"><span class=\"txtp\">am</span> </div><div class=\"meta\"><div class=\"features\"></div></div></div></div></div></div></div>"
      ],
      "text/plain": [
       "<IPython.core.display.HTML object>"
      ]
     },
     "metadata": {},
     "output_type": "display_data"
    },
    {
     "data": {
      "text/html": [
       "<p><b>result</b> <i>3</i></p>"
      ],
      "text/plain": [
       "<IPython.core.display.HTML object>"
      ]
     },
     "metadata": {},
     "output_type": "display_data"
    },
    {
     "data": {
      "text/html": [
       "<div class=\"contnr line \" ><div class=\"lbl line\"><a href=\"https://cdli.ucla.edu/search/search_results.php?SearchMode=Text&amp;ObjectID=P510567\" title=\"P510567 reverse:2\" sec=\"P510567 reverse:2\">line <span class=\"txtn\">2</span></a> </div><div class=\"meta\"><div class=\"features\"></div></div><div class=\"children line\"><div class=\"contnr word \" ><div class=\"lbl word\"><span class=\"txtp\">[...] </span> </div><div class=\"meta\"><div class=\"features\"></div></div><div class=\"children word\"><div class=\"contnr sign hl\"  style=\"background-color: magenta;\" ><div class=\"lbl sign\"><span class=\"txtp\">[...] </span> </div><div class=\"meta\"><div class=\"features\"> <span class=\"missing\"><span class=\"f\">missing=</span>1</span> <span class=\"grapheme\"><span class=\"f\">grapheme=</span>...</span></div></div></div></div></div><div class=\"contnr word \" ><div class=\"lbl word\"><span class=\"txtp\">ia#? </span> </div><div class=\"meta\"><div class=\"features\"></div></div><div class=\"children word\"><div class=\"contnr sign hl\"  style=\"background-color: cyan;\" ><div class=\"lbl sign\"><span class=\"txtp\">ia#? </span> </div><div class=\"meta\"><div class=\"features\"> <span class=\"question\"><span class=\"f\">question=</span>1</span> <span class=\"damage\"><span class=\"f\">damage=</span>1</span></div></div></div></div></div><div class=\"contnr word \" ><div class=\"lbl word\"><span class=\"txtp\">_sag-us2_</span> </div><div class=\"meta\"><div class=\"features\"></div></div><div class=\"children word\"><div class=\"contnr sign \" ><div class=\"lbl sign\"><span class=\"txtp\">_sag-</span> </div><div class=\"meta\"><div class=\"features\"> <span class=\"langalt\"><span class=\"f\">langalt=</span>1</span></div></div></div><div class=\"contnr sign \" ><div class=\"lbl sign\"><span class=\"txtp\">us2_</span> </div><div class=\"meta\"><div class=\"features\"> <span class=\"langalt\"><span class=\"f\">langalt=</span>1</span></div></div></div></div></div></div></div>"
      ],
      "text/plain": [
       "<IPython.core.display.HTML object>"
      ]
     },
     "metadata": {},
     "output_type": "display_data"
    },
    {
     "data": {
      "text/html": [
       "<p><b>result</b> <i>4</i></p>"
      ],
      "text/plain": [
       "<IPython.core.display.HTML object>"
      ]
     },
     "metadata": {},
     "output_type": "display_data"
    },
    {
     "data": {
      "text/html": [
       "<div class=\"contnr line \" ><div class=\"lbl line\"><a href=\"https://cdli.ucla.edu/search/search_results.php?SearchMode=Text&amp;ObjectID=P510586\" title=\"P510586 obverse:27\" sec=\"P510586 obverse:27\">line <span class=\"txtn\">27</span></a> </div><div class=\"meta\"><div class=\"features\"></div></div><div class=\"children line\"><div class=\"contnr word \" ><div class=\"lbl word\"><span class=\"txtp\">[asz-szum </span> </div><div class=\"meta\"><div class=\"features\"></div></div><div class=\"children word\"><div class=\"contnr sign \" ><div class=\"lbl sign\"><span class=\"txtp\">[asz-</span> </div><div class=\"meta\"><div class=\"features\"> <span class=\"missing\"><span class=\"f\">missing=</span>1</span></div></div></div><div class=\"contnr sign \" ><div class=\"lbl sign\"><span class=\"txtp\">szum </span> </div><div class=\"meta\"><div class=\"features\"> <span class=\"missing\"><span class=\"f\">missing=</span>1</span></div></div></div></div></div><div class=\"contnr word \" ><div class=\"lbl word\"><span class=\"txtp\">ha]-bil2#?-we?-du-um </span> </div><div class=\"meta\"><div class=\"features\"></div></div><div class=\"children word\"><div class=\"contnr sign hl\"  style=\"background-color: magenta;\" ><div class=\"lbl sign\"><span class=\"txtp\">ha]-</span> </div><div class=\"meta\"><div class=\"features\"> <span class=\"missing\"><span class=\"f\">missing=</span>1</span></div></div></div><div class=\"contnr sign hl\"  style=\"background-color: cyan;\" ><div class=\"lbl sign\"><span class=\"txtp\">bil2#?-</span> </div><div class=\"meta\"><div class=\"features\"> <span class=\"question\"><span class=\"f\">question=</span>1</span> <span class=\"damage\"><span class=\"f\">damage=</span>1</span></div></div></div><div class=\"contnr sign \" ><div class=\"lbl sign\"><span class=\"txtp\">we?-</span> </div><div class=\"meta\"><div class=\"features\"> <span class=\"question\"><span class=\"f\">question=</span>1</span></div></div></div><div class=\"contnr sign \" ><div class=\"lbl sign\"><span class=\"txtp\">du-</span> </div><div class=\"meta\"><div class=\"features\"></div></div></div><div class=\"contnr sign \" ><div class=\"lbl sign\"><span class=\"txtp\">um </span> </div><div class=\"meta\"><div class=\"features\"></div></div></div></div></div><div class=\"contnr word \" ><div class=\"lbl word\"><span class=\"txtp\">sza </span> </div><div class=\"meta\"><div class=\"features\"></div></div><div class=\"children word\"><div class=\"contnr sign \" ><div class=\"lbl sign\"><span class=\"txtp\">sza </span> </div><div class=\"meta\"><div class=\"features\"></div></div></div></div></div><div class=\"contnr word \" ><div class=\"lbl word\"><span class=\"txtp\">asz-pu-ra#-[ak-kum]</span> </div><div class=\"meta\"><div class=\"features\"></div></div><div class=\"children word\"><div class=\"contnr sign \" ><div class=\"lbl sign\"><span class=\"txtp\">asz-</span> </div><div class=\"meta\"><div class=\"features\"></div></div></div><div class=\"contnr sign \" ><div class=\"lbl sign\"><span class=\"txtp\">pu-</span> </div><div class=\"meta\"><div class=\"features\"></div></div></div><div class=\"contnr sign \" ><div class=\"lbl sign\"><span class=\"txtp\">ra#-</span> </div><div class=\"meta\"><div class=\"features\"> <span class=\"damage\"><span class=\"f\">damage=</span>1</span></div></div></div><div class=\"contnr sign \" ><div class=\"lbl sign\"><span class=\"txtp\">[ak-</span> </div><div class=\"meta\"><div class=\"features\"> <span class=\"missing\"><span class=\"f\">missing=</span>1</span></div></div></div><div class=\"contnr sign \" ><div class=\"lbl sign\"><span class=\"txtp\">kum]</span> </div><div class=\"meta\"><div class=\"features\"> <span class=\"missing\"><span class=\"f\">missing=</span>1</span></div></div></div></div></div></div></div>"
      ],
      "text/plain": [
       "<IPython.core.display.HTML object>"
      ]
     },
     "metadata": {},
     "output_type": "display_data"
    },
    {
     "data": {
      "text/html": [
       "<p><b>result</b> <i>5</i></p>"
      ],
      "text/plain": [
       "<IPython.core.display.HTML object>"
      ]
     },
     "metadata": {},
     "output_type": "display_data"
    },
    {
     "data": {
      "text/html": [
       "<div class=\"contnr line \" ><div class=\"lbl line\"><a href=\"https://cdli.ucla.edu/search/search_results.php?SearchMode=Text&amp;ObjectID=P510586\" title=\"P510586 obverse:27\" sec=\"P510586 obverse:27\">line <span class=\"txtn\">27</span></a> </div><div class=\"meta\"><div class=\"features\"></div></div><div class=\"children line\"><div class=\"contnr word \" ><div class=\"lbl word\"><span class=\"txtp\">[asz-szum </span> </div><div class=\"meta\"><div class=\"features\"></div></div><div class=\"children word\"><div class=\"contnr sign \" ><div class=\"lbl sign\"><span class=\"txtp\">[asz-</span> </div><div class=\"meta\"><div class=\"features\"> <span class=\"missing\"><span class=\"f\">missing=</span>1</span></div></div></div><div class=\"contnr sign \" ><div class=\"lbl sign\"><span class=\"txtp\">szum </span> </div><div class=\"meta\"><div class=\"features\"> <span class=\"missing\"><span class=\"f\">missing=</span>1</span></div></div></div></div></div><div class=\"contnr word \" ><div class=\"lbl word\"><span class=\"txtp\">ha]-bil2#?-we?-du-um </span> </div><div class=\"meta\"><div class=\"features\"></div></div><div class=\"children word\"><div class=\"contnr sign hl\"  style=\"background-color: magenta;\" ><div class=\"lbl sign\"><span class=\"txtp\">ha]-</span> </div><div class=\"meta\"><div class=\"features\"> <span class=\"missing\"><span class=\"f\">missing=</span>1</span></div></div></div><div class=\"contnr sign hl\"  style=\"background-color: lightsalmon;\" ><div class=\"lbl sign\"><span class=\"txtp\">bil2#?-</span> </div><div class=\"meta\"><div class=\"features\"> <span class=\"question\"><span class=\"f\">question=</span>1</span> <span class=\"damage\"><span class=\"f\">damage=</span>1</span></div></div></div><div class=\"contnr sign hl\"  style=\"background-color: cyan;\" ><div class=\"lbl sign\"><span class=\"txtp\">we?-</span> </div><div class=\"meta\"><div class=\"features\"> <span class=\"question\"><span class=\"f\">question=</span>1</span></div></div></div><div class=\"contnr sign \" ><div class=\"lbl sign\"><span class=\"txtp\">du-</span> </div><div class=\"meta\"><div class=\"features\"></div></div></div><div class=\"contnr sign \" ><div class=\"lbl sign\"><span class=\"txtp\">um </span> </div><div class=\"meta\"><div class=\"features\"></div></div></div></div></div><div class=\"contnr word \" ><div class=\"lbl word\"><span class=\"txtp\">sza </span> </div><div class=\"meta\"><div class=\"features\"></div></div><div class=\"children word\"><div class=\"contnr sign \" ><div class=\"lbl sign\"><span class=\"txtp\">sza </span> </div><div class=\"meta\"><div class=\"features\"></div></div></div></div></div><div class=\"contnr word \" ><div class=\"lbl word\"><span class=\"txtp\">asz-pu-ra#-[ak-kum]</span> </div><div class=\"meta\"><div class=\"features\"></div></div><div class=\"children word\"><div class=\"contnr sign \" ><div class=\"lbl sign\"><span class=\"txtp\">asz-</span> </div><div class=\"meta\"><div class=\"features\"></div></div></div><div class=\"contnr sign \" ><div class=\"lbl sign\"><span class=\"txtp\">pu-</span> </div><div class=\"meta\"><div class=\"features\"></div></div></div><div class=\"contnr sign \" ><div class=\"lbl sign\"><span class=\"txtp\">ra#-</span> </div><div class=\"meta\"><div class=\"features\"> <span class=\"damage\"><span class=\"f\">damage=</span>1</span></div></div></div><div class=\"contnr sign \" ><div class=\"lbl sign\"><span class=\"txtp\">[ak-</span> </div><div class=\"meta\"><div class=\"features\"> <span class=\"missing\"><span class=\"f\">missing=</span>1</span></div></div></div><div class=\"contnr sign \" ><div class=\"lbl sign\"><span class=\"txtp\">kum]</span> </div><div class=\"meta\"><div class=\"features\"> <span class=\"missing\"><span class=\"f\">missing=</span>1</span></div></div></div></div></div></div></div>"
      ],
      "text/plain": [
       "<IPython.core.display.HTML object>"
      ]
     },
     "metadata": {},
     "output_type": "display_data"
    },
    {
     "data": {
      "text/html": [
       "<p><b>result</b> <i>6</i></p>"
      ],
      "text/plain": [
       "<IPython.core.display.HTML object>"
      ]
     },
     "metadata": {},
     "output_type": "display_data"
    },
    {
     "data": {
      "text/html": [
       "<div class=\"contnr line \" ><div class=\"lbl line\"><a href=\"https://cdli.ucla.edu/search/search_results.php?SearchMode=Text&amp;ObjectID=P510588\" title=\"P510588 left:1':2\" sec=\"P510588 left:1':2\">line <span class=\"txtn\">1':2</span></a> </div><div class=\"meta\"><div class=\"features\"></div></div><div class=\"children line\"><div class=\"contnr word \" ><div class=\"lbl word\"><span class=\"txtp\">[i?]-na# </span> </div><div class=\"meta\"><div class=\"features\"></div></div><div class=\"children word\"><div class=\"contnr sign hl\"  style=\"background-color: cyan;\" ><div class=\"lbl sign\"><span class=\"txtp\">[i?]-</span> </div><div class=\"meta\"><div class=\"features\"> <span class=\"question\"><span class=\"f\">question=</span>1</span> <span class=\"missing\"><span class=\"f\">missing=</span>1</span></div></div></div><div class=\"contnr sign hl\"  style=\"background-color: lightsalmon;\" ><div class=\"lbl sign\"><span class=\"txtp\">na# </span> </div><div class=\"meta\"><div class=\"features\"> <span class=\"damage\"><span class=\"f\">damage=</span>1</span></div></div></div></div></div><div class=\"contnr word \" ><div class=\"lbl word\"><span class=\"txtp\">zimbir{ki#}</span> </div><div class=\"meta\"><div class=\"features\"></div></div><div class=\"children word\"><div class=\"contnr sign \" ><div class=\"lbl sign\"><span class=\"txtp\">zimbir</span> </div><div class=\"meta\"><div class=\"features\"></div></div></div><div class=\"contnr sign \" ><div class=\"lbl sign\"><span class=\"txtp\">{ki#}</span> </div><div class=\"meta\"><div class=\"features\"> <span class=\"damage\"><span class=\"f\">damage=</span>1</span> <span class=\"det\"><span class=\"f\">det=</span>1</span></div></div></div></div></div></div></div>"
      ],
      "text/plain": [
       "<IPython.core.display.HTML object>"
      ]
     },
     "metadata": {},
     "output_type": "display_data"
    },
    {
     "data": {
      "text/html": [
       "<p><b>result</b> <i>7</i></p>"
      ],
      "text/plain": [
       "<IPython.core.display.HTML object>"
      ]
     },
     "metadata": {},
     "output_type": "display_data"
    },
    {
     "data": {
      "text/html": [
       "<div class=\"contnr line \" ><div class=\"lbl line\"><a href=\"https://cdli.ucla.edu/search/search_results.php?SearchMode=Text&amp;ObjectID=P510597\" title=\"P510597 obverse:12\" sec=\"P510597 obverse:12\">line <span class=\"txtn\">12</span></a> </div><div class=\"meta\"><div class=\"features\"></div></div><div class=\"children line\"><div class=\"contnr word \" ><div class=\"lbl word\"><span class=\"txtp\">[a?-na] </span> </div><div class=\"meta\"><div class=\"features\"></div></div><div class=\"children word\"><div class=\"contnr sign hl\"  style=\"background-color: cyan;\" ><div class=\"lbl sign\"><span class=\"txtp\">[a?-</span> </div><div class=\"meta\"><div class=\"features\"> <span class=\"question\"><span class=\"f\">question=</span>1</span> <span class=\"missing\"><span class=\"f\">missing=</span>1</span></div></div></div><div class=\"contnr sign hl\"  style=\"background-color: magenta;\" ><div class=\"lbl sign\"><span class=\"txtp\">na] </span> </div><div class=\"meta\"><div class=\"features\"> <span class=\"missing\"><span class=\"f\">missing=</span>1</span></div></div></div></div></div><div class=\"contnr word \" ><div class=\"lbl word\"><span class=\"txtp\">babila2#[{ki}]</span> </div><div class=\"meta\"><div class=\"features\"></div></div><div class=\"children word\"><div class=\"contnr sign hl\"  style=\"background-color: lightsalmon;\" ><div class=\"lbl sign\"><span class=\"txtp\">babila2#</span> </div><div class=\"meta\"><div class=\"features\"> <span class=\"damage\"><span class=\"f\">damage=</span>1</span></div></div></div><div class=\"contnr sign \" ><div class=\"lbl sign\"><span class=\"txtp\">[{ki}]</span> </div><div class=\"meta\"><div class=\"features\"> <span class=\"det\"><span class=\"f\">det=</span>1</span> <span class=\"missing\"><span class=\"f\">missing=</span>1</span></div></div></div></div></div></div></div>"
      ],
      "text/plain": [
       "<IPython.core.display.HTML object>"
      ]
     },
     "metadata": {},
     "output_type": "display_data"
    },
    {
     "data": {
      "text/html": [
       "<p><b>result</b> <i>8</i></p>"
      ],
      "text/plain": [
       "<IPython.core.display.HTML object>"
      ]
     },
     "metadata": {},
     "output_type": "display_data"
    },
    {
     "data": {
      "text/html": [
       "<div class=\"contnr line \" ><div class=\"lbl line\"><a href=\"https://cdli.ucla.edu/search/search_results.php?SearchMode=Text&amp;ObjectID=P510657\" title=\"P510657 envelope - obverse:1\" sec=\"P510657 envelope - obverse:1\">line <span class=\"txtn\">1</span></a> </div><div class=\"meta\"><div class=\"features\"></div></div><div class=\"children line\"><div class=\"contnr word \" ><div class=\"lbl word\"><span class=\"txtp\">[tup]-pi#? </span> </div><div class=\"meta\"><div class=\"features\"></div></div><div class=\"children word\"><div class=\"contnr sign hl\"  style=\"background-color: magenta;\" ><div class=\"lbl sign\"><span class=\"txtp\">[tup]-</span> </div><div class=\"meta\"><div class=\"features\"> <span class=\"missing\"><span class=\"f\">missing=</span>1</span></div></div></div><div class=\"contnr sign hl\"  style=\"background-color: cyan;\" ><div class=\"lbl sign\"><span class=\"txtp\">pi#? </span> </div><div class=\"meta\"><div class=\"features\"> <span class=\"question\"><span class=\"f\">question=</span>1</span> <span class=\"damage\"><span class=\"f\">damage=</span>1</span></div></div></div></div></div><div class=\"contnr word \" ><div class=\"lbl word\"><span class=\"txtp\">a-hi-i3-li2-ia</span> </div><div class=\"meta\"><div class=\"features\"></div></div><div class=\"children word\"><div class=\"contnr sign \" ><div class=\"lbl sign\"><span class=\"txtp\">a-</span> </div><div class=\"meta\"><div class=\"features\"></div></div></div><div class=\"contnr sign \" ><div class=\"lbl sign\"><span class=\"txtp\">hi-</span> </div><div class=\"meta\"><div class=\"features\"></div></div></div><div class=\"contnr sign \" ><div class=\"lbl sign\"><span class=\"txtp\">i3-</span> </div><div class=\"meta\"><div class=\"features\"></div></div></div><div class=\"contnr sign \" ><div class=\"lbl sign\"><span class=\"txtp\">li2-</span> </div><div class=\"meta\"><div class=\"features\"></div></div></div><div class=\"contnr sign \" ><div class=\"lbl sign\"><span class=\"txtp\">ia</span> </div><div class=\"meta\"><div class=\"features\"></div></div></div></div></div></div></div>"
      ],
      "text/plain": [
       "<IPython.core.display.HTML object>"
      ]
     },
     "metadata": {},
     "output_type": "display_data"
    },
    {
     "data": {
      "text/html": [
       "<p><b>result</b> <i>9</i></p>"
      ],
      "text/plain": [
       "<IPython.core.display.HTML object>"
      ]
     },
     "metadata": {},
     "output_type": "display_data"
    },
    {
     "data": {
      "text/html": [
       "<div class=\"contnr line \" ><div class=\"lbl line\"><a href=\"https://cdli.ucla.edu/search/search_results.php?SearchMode=Text&amp;ObjectID=P510660\" title=\"P510660 reverse:7\" sec=\"P510660 reverse:7\">line <span class=\"txtn\">7</span></a> </div><div class=\"meta\"><div class=\"features\"></div></div><div class=\"children line\"><div class=\"contnr word \" ><div class=\"lbl word\"><span class=\"txtp\">[t,e4?]-em# </span> </div><div class=\"meta\"><div class=\"features\"></div></div><div class=\"children word\"><div class=\"contnr sign hl\"  style=\"background-color: cyan;\" ><div class=\"lbl sign\"><span class=\"txtp\">[t,e4?]-</span> </div><div class=\"meta\"><div class=\"features\"> <span class=\"question\"><span class=\"f\">question=</span>1</span> <span class=\"missing\"><span class=\"f\">missing=</span>1</span></div></div></div><div class=\"contnr sign hl\"  style=\"background-color: lightsalmon;\" ><div class=\"lbl sign\"><span class=\"txtp\">em# </span> </div><div class=\"meta\"><div class=\"features\"> <span class=\"damage\"><span class=\"f\">damage=</span>1</span></div></div></div></div></div><div class=\"contnr word \" ><div class=\"lbl word\"><span class=\"txtp\">_a-sza3_ </span> </div><div class=\"meta\"><div class=\"features\"></div></div><div class=\"children word\"><div class=\"contnr sign \" ><div class=\"lbl sign\"><span class=\"txtp\">_a-</span> </div><div class=\"meta\"><div class=\"features\"> <span class=\"langalt\"><span class=\"f\">langalt=</span>1</span></div></div></div><div class=\"contnr sign \" ><div class=\"lbl sign\"><span class=\"txtp\">sza3_ </span> </div><div class=\"meta\"><div class=\"features\"> <span class=\"langalt\"><span class=\"f\">langalt=</span>1</span></div></div></div></div></div><div class=\"contnr word \" ><div class=\"lbl word\"><span class=\"txtp\">ma-la </span> </div><div class=\"meta\"><div class=\"features\"></div></div><div class=\"children word\"><div class=\"contnr sign \" ><div class=\"lbl sign\"><span class=\"txtp\">ma-</span> </div><div class=\"meta\"><div class=\"features\"></div></div></div><div class=\"contnr sign \" ><div class=\"lbl sign\"><span class=\"txtp\">la </span> </div><div class=\"meta\"><div class=\"features\"></div></div></div></div></div><div class=\"contnr word \" ><div class=\"lbl word\"><span class=\"txtp\">a-di </span> </div><div class=\"meta\"><div class=\"features\"></div></div><div class=\"children word\"><div class=\"contnr sign \" ><div class=\"lbl sign\"><span class=\"txtp\">a-</span> </div><div class=\"meta\"><div class=\"features\"></div></div></div><div class=\"contnr sign \" ><div class=\"lbl sign\"><span class=\"txtp\">di </span> </div><div class=\"meta\"><div class=\"features\"></div></div></div></div></div><div class=\"contnr word \" ><div class=\"lbl word\"><span class=\"txtp\">i-na-an-na</span> </div><div class=\"meta\"><div class=\"features\"></div></div><div class=\"children word\"><div class=\"contnr sign \" ><div class=\"lbl sign\"><span class=\"txtp\">i-</span> </div><div class=\"meta\"><div class=\"features\"></div></div></div><div class=\"contnr sign \" ><div class=\"lbl sign\"><span class=\"txtp\">na-</span> </div><div class=\"meta\"><div class=\"features\"></div></div></div><div class=\"contnr sign \" ><div class=\"lbl sign\"><span class=\"txtp\">an-</span> </div><div class=\"meta\"><div class=\"features\"></div></div></div><div class=\"contnr sign \" ><div class=\"lbl sign\"><span class=\"txtp\">na</span> </div><div class=\"meta\"><div class=\"features\"></div></div></div></div></div></div></div>"
      ],
      "text/plain": [
       "<IPython.core.display.HTML object>"
      ]
     },
     "metadata": {},
     "output_type": "display_data"
    },
    {
     "data": {
      "text/html": [
       "<p><b>result</b> <i>10</i></p>"
      ],
      "text/plain": [
       "<IPython.core.display.HTML object>"
      ]
     },
     "metadata": {},
     "output_type": "display_data"
    },
    {
     "data": {
      "text/html": [
       "<div class=\"contnr line \" ><div class=\"lbl line\"><a href=\"https://cdli.ucla.edu/search/search_results.php?SearchMode=Text&amp;ObjectID=P510662\" title=\"P510662 reverse:1\" sec=\"P510662 reverse:1\">line <span class=\"txtn\">1</span></a> </div><div class=\"meta\"><div class=\"features\"></div></div><div class=\"children line\"><div class=\"contnr word \" ><div class=\"lbl word\"><span class=\"txtp\">[1(disz)?] </span> </div><div class=\"meta\"><div class=\"features\"></div></div><div class=\"children word\"><div class=\"contnr sign hl\"  style=\"background-color: cyan;\" ><div class=\"lbl sign\"><span class=\"txtp\">[1(disz)?] </span> </div><div class=\"meta\"><div class=\"features\"> <span class=\"question\"><span class=\"f\">question=</span>1</span> <span class=\"missing\"><span class=\"f\">missing=</span>1</span> <span class=\"repeat\"><span class=\"f\">repeat=</span>1</span></div></div></div></div></div><div class=\"contnr word \" ><div class=\"lbl word\"><span class=\"txtp\">_tug2#?_ </span> </div><div class=\"meta\"><div class=\"features\"></div></div><div class=\"children word\"><div class=\"contnr sign hl\"  style=\"background-color: lightsalmon;\" ><div class=\"lbl sign\"><span class=\"txtp\">_tug2#?_ </span> </div><div class=\"meta\"><div class=\"features\"> <span class=\"question\"><span class=\"f\">question=</span>1</span> <span class=\"damage\"><span class=\"f\">damage=</span>1</span> <span class=\"langalt\"><span class=\"f\">langalt=</span>1</span></div></div></div></div></div><div class=\"contnr word \" ><div class=\"lbl word\"><span class=\"txtp\">a-la-qe2-am</span> </div><div class=\"meta\"><div class=\"features\"></div></div><div class=\"children word\"><div class=\"contnr sign \" ><div class=\"lbl sign\"><span class=\"txtp\">a-</span> </div><div class=\"meta\"><div class=\"features\"></div></div></div><div class=\"contnr sign \" ><div class=\"lbl sign\"><span class=\"txtp\">la-</span> </div><div class=\"meta\"><div class=\"features\"></div></div></div><div class=\"contnr sign \" ><div class=\"lbl sign\"><span class=\"txtp\">qe2-</span> </div><div class=\"meta\"><div class=\"features\"></div></div></div><div class=\"contnr sign \" ><div class=\"lbl sign\"><span class=\"txtp\">am</span> </div><div class=\"meta\"><div class=\"features\"></div></div></div></div></div></div></div>"
      ],
      "text/plain": [
       "<IPython.core.display.HTML object>"
      ]
     },
     "metadata": {},
     "output_type": "display_data"
    }
   ],
   "source": [
    "results = A.search(query)\n",
    "A.table(results, end=10, baseType=\"sign\")\n",
    "A.show(results, end=10, baseType=\"sign\", colorMap={0: '', 2: 'cyan', 3: 'magenta', 4: 'lightsalmon'})"
   ]
  },
  {
   "cell_type": "markdown",
   "metadata": {},
   "source": [
    "Finally, we make the three things fully adjacent in fixed order:"
   ]
  },
  {
   "cell_type": "code",
   "execution_count": 31,
   "metadata": {
    "ExecuteTime": {
     "end_time": "2018-05-24T07:47:14.547656Z",
     "start_time": "2018-05-24T07:47:14.544433Z"
    }
   },
   "outputs": [],
   "source": [
    "query = '''\n",
    "line\n",
    "  sign question=1\n",
    "  <: sign missing=1\n",
    "  <: sign damage=1\n",
    "'''"
   ]
  },
  {
   "cell_type": "code",
   "execution_count": 33,
   "metadata": {
    "ExecuteTime": {
     "end_time": "2018-05-24T07:48:04.746084Z",
     "start_time": "2018-05-24T07:48:03.223548Z"
    }
   },
   "outputs": [
    {
     "name": "stdout",
     "output_type": "stream",
     "text": [
      "  0.60s 7 results\n"
     ]
    },
    {
     "data": {
      "text/html": [
       "<table>\n",
       "<tr class=\"tf\">\n",
       "  <th class=\"tf\">n</th><th class=\"tf\">p</th>\n",
       "  <th class=\"tf\">line</th><th>sign</th><th>sign</th><th>sign</th>\n",
       "</tr>\n",
       "\n",
       "<tr class=\"tf\"><td class=\"tf\">1</td><td class=\"tf\"> <a href=\"https://cdli.ucla.edu/search/search_results.php?SearchMode=Text&amp;ObjectID=P510597\" title=\"show this document on CDLI\" sec=\"P510597 obverse:12\">P510597 obverse:12</a></td><td class=\"tf\"><span class=\"plain outer  \" ><span class=\"plain\"><span class=\"plain \" ><span class=\"plain hl\" ><span class=\"txtp\">[a?-</span></span><span class=\"plain hl\" ><span class=\"txtp\">na] </span></span></span><span class=\"plain \" ><span class=\"plain hl\" ><span class=\"txtp\">babila2#</span></span><span class=\"plain \" ><span class=\"txtp\">[{ki}]</span></span></span></span></span></td><td class=\"tf\"><span class=\"plain outer  hl\" ><span class=\"txtp\">[a?-</span></span></td><td class=\"tf\"><span class=\"plain outer  hl\" ><span class=\"txtp\">na] </span></span></td><td class=\"tf\"><span class=\"plain outer  hl\" ><span class=\"txtp\">babila2#</span></span></td></tr>\n",
       "<tr class=\"tf\"><td class=\"tf\">2</td><td class=\"tf\"> <a href=\"https://cdli.ucla.edu/search/search_results.php?SearchMode=Text&amp;ObjectID=P292756\" title=\"show this document on CDLI\" sec=\"P292756 obverse:21\">P292756 obverse:21</a></td><td class=\"tf\"><span class=\"plain outer  \" ><span class=\"plain\"><span class=\"plain \" ><span class=\"plain hl\" ><span class=\"txtp\">[sza? </span></span></span><span class=\"plain \" ><span class=\"plain hl\" ><span class=\"txtp\">(...)] </span></span></span><span class=\"plain \" ><span class=\"plain hl\" ><span class=\"txtp\">it#-</span></span><span class=\"plain \" ><span class=\"txtp\">ti-</span></span><span class=\"plain \" ><span class=\"txtp\">ia </span></span></span><span class=\"plain \" ><span class=\"plain \" ><span class=\"txtp\">u2-</span></span><span class=\"plain \" ><span class=\"txtp\">ul </span></span></span><span class=\"plain \" ><span class=\"plain \" ><span class=\"txtp\">in-</span></span><span class=\"plain \" ><span class=\"txtp\">nam-</span></span><span class=\"plain \" ><span class=\"txtp\">ru-</span></span><span class=\"plain \" ><span class=\"txtp\">ma</span></span></span></span></span></td><td class=\"tf\"><span class=\"plain outer  hl\" ><span class=\"txtp\">[sza? </span></span></td><td class=\"tf\"><span class=\"plain outer  hl\" ><span class=\"txtp\">(...)] </span></span></td><td class=\"tf\"><span class=\"plain outer  hl\" ><span class=\"txtp\">it#-</span></span></td></tr>\n",
       "<tr class=\"tf\"><td class=\"tf\">3</td><td class=\"tf\"> <a href=\"https://cdli.ucla.edu/search/search_results.php?SearchMode=Text&amp;ObjectID=P313393\" title=\"show this document on CDLI\" sec=\"P313393 obverse:3\">P313393 obverse:3</a></td><td class=\"tf\"><span class=\"plain outer  \" ><span class=\"plain\"><span class=\"plain \" ><span class=\"plain \" ><span class=\"txtp\">um-</span></span><span class=\"plain \" ><span class=\"txtp\">ma </span></span></span><span class=\"plain \" ><span class=\"plain hl\" ><span class=\"txtp\">ni?-</span></span><span class=\"plain hl\" ><span class=\"txtp\">[...]-</span></span><span class=\"plain hl\" ><span class=\"txtp\">ma#</span></span></span></span></span></td><td class=\"tf\"><span class=\"plain outer  hl\" ><span class=\"txtp\">ni?-</span></span></td><td class=\"tf\"><span class=\"plain outer  hl\" ><span class=\"txtp\">[...]-</span></span></td><td class=\"tf\"><span class=\"plain outer  hl\" ><span class=\"txtp\">ma#</span></span></td></tr>\n",
       "<tr class=\"tf\"><td class=\"tf\">4</td><td class=\"tf\"> <a href=\"https://cdli.ucla.edu/search/search_results.php?SearchMode=Text&amp;ObjectID=P386470\" title=\"show this document on CDLI\" sec=\"P386470 reverse:15'\">P386470 reverse:15'</a></td><td class=\"tf\"><span class=\"plain outer  \" ><span class=\"plain\"><span class=\"plain \" ><span class=\"plain hl\" ><span class=\"txtp\">[u2?-</span></span><span class=\"plain hl\" ><span class=\"txtp\">sze]-</span></span><span class=\"plain hl\" ><span class=\"txtp\">et#-</span></span><span class=\"plain \" ><span class=\"txtp\">bu-</span></span><span class=\"plain \" ><span class=\"txtp\">u2-</span></span><span class=\"plain \" ><span class=\"txtp\">[szu?]</span></span></span></span></span></td><td class=\"tf\"><span class=\"plain outer  hl\" ><span class=\"txtp\">[u2?-</span></span></td><td class=\"tf\"><span class=\"plain outer  hl\" ><span class=\"txtp\">sze]-</span></span></td><td class=\"tf\"><span class=\"plain outer  hl\" ><span class=\"txtp\">et#-</span></span></td></tr>\n",
       "<tr class=\"tf\"><td class=\"tf\">5</td><td class=\"tf\"> <a href=\"https://cdli.ucla.edu/search/search_results.php?SearchMode=Text&amp;ObjectID=P305755\" title=\"show this document on CDLI\" sec=\"P305755 reverse:3\">P305755 reverse:3</a></td><td class=\"tf\"><span class=\"plain outer  \" ><span class=\"plain\"><span class=\"plain \" ><span class=\"plain \" ><span class=\"txtp\">u3 </span></span></span><span class=\"plain \" ><span class=\"plain hl\" ><span class=\"txtp\">KA#?-</span></span><span class=\"plain hl\" ><span class=\"txtp\">[x]-</span></span><span class=\"plain hl\" ><span class=\"txtp\">UM#? </span></span></span><span class=\"plain \" ><span class=\"plain \" ><span class=\"txtp\">a-</span></span><span class=\"plain \" ><span class=\"txtp\">hu-</span></span><span class=\"plain \" ><span class=\"txtp\">u2-</span></span><span class=\"plain \" ><span class=\"txtp\">szu </span></span></span><span class=\"plain \" ><span class=\"plain \" ><span class=\"txtp\">qa2-</span></span><span class=\"plain \" ><span class=\"txtp\">ta-</span></span><span class=\"plain \" ><span class=\"txtp\">ti-</span></span><span class=\"plain \" ><span class=\"txtp\">szu-</span></span><span class=\"plain \" ><span class=\"txtp\">ma</span></span></span></span></span></td><td class=\"tf\"><span class=\"plain outer  hl\" ><span class=\"txtp\">KA#?-</span></span></td><td class=\"tf\"><span class=\"plain outer  hl\" ><span class=\"txtp\">[x]-</span></span></td><td class=\"tf\"><span class=\"plain outer  hl\" ><span class=\"txtp\">UM#? </span></span></td></tr>\n",
       "<tr class=\"tf\"><td class=\"tf\">6</td><td class=\"tf\"> <a href=\"https://cdli.ucla.edu/search/search_results.php?SearchMode=Text&amp;ObjectID=P307155\" title=\"show this document on CDLI\" sec=\"P307155 obverse:11\">P307155 obverse:11</a></td><td class=\"tf\"><span class=\"plain outer  \" ><span class=\"plain\"><span class=\"plain \" ><span class=\"plain \" ><span class=\"txtp\">mi-</span></span><span class=\"plain \" ><span class=\"txtp\">im#-</span></span><span class=\"plain \" ><span class=\"txtp\">ma# </span></span></span><span class=\"plain \" ><span class=\"plain \" ><span class=\"txtp\">sza </span></span></span><span class=\"plain \" ><span class=\"plain \" ><span class=\"txtp\">ta#-</span></span><span class=\"plain hl\" ><span class=\"txtp\">GA?-</span></span><span class=\"plain hl\" ><span class=\"txtp\">[x]-</span></span><span class=\"plain hl\" ><span class=\"txtp\">BU#? </span></span></span><span class=\"plain \" ><span class=\"plain \" ><span class=\"txtp\">[x]</span></span></span></span></span></td><td class=\"tf\"><span class=\"plain outer  hl\" ><span class=\"txtp\">GA?-</span></span></td><td class=\"tf\"><span class=\"plain outer  hl\" ><span class=\"txtp\">[x]-</span></span></td><td class=\"tf\"><span class=\"plain outer  hl\" ><span class=\"txtp\">BU#? </span></span></td></tr>\n",
       "<tr class=\"tf\"><td class=\"tf\">7</td><td class=\"tf\"> <a href=\"https://cdli.ucla.edu/search/search_results.php?SearchMode=Text&amp;ObjectID=P308015\" title=\"show this document on CDLI\" sec=\"P308015 reverse:2\">P308015 reverse:2</a></td><td class=\"tf\"><span class=\"plain outer  \" ><span class=\"plain\"><span class=\"plain \" ><span class=\"plain \" ><span class=\"txtp\">{disz}</span></span><span class=\"plain hl\" ><span class=\"txtp\">UD?-</span></span><span class=\"plain hl\" ><span class=\"txtp\">[x] </span></span></span><span class=\"plain \" ><span class=\"plain hl\" ><span class=\"txtp\">{ki#}-</span></span><span class=\"plain \" ><span class=\"txtp\">li-</span></span><span class=\"plain \" ><span class=\"txtp\">ib-</span></span><span class=\"plain \" ><span class=\"txtp\">lu-</span></span><span class=\"plain \" ><span class=\"txtp\">ut,</span></span></span></span></span></td><td class=\"tf\"><span class=\"plain outer  hl\" ><span class=\"txtp\">UD?-</span></span></td><td class=\"tf\"><span class=\"plain outer  hl\" ><span class=\"txtp\">[x] </span></span></td><td class=\"tf\"><span class=\"plain outer  hl\" ><span class=\"txtp\">{ki#}-</span></span></td></tr></table>"
      ],
      "text/plain": [
       "<IPython.core.display.HTML object>"
      ]
     },
     "metadata": {},
     "output_type": "display_data"
    },
    {
     "data": {
      "text/html": [
       "<p><b>result</b> <i>1</i></p>"
      ],
      "text/plain": [
       "<IPython.core.display.HTML object>"
      ]
     },
     "metadata": {},
     "output_type": "display_data"
    },
    {
     "data": {
      "text/html": [
       "<div class=\"contnr line \" ><div class=\"lbl line\"><a href=\"https://cdli.ucla.edu/search/search_results.php?SearchMode=Text&amp;ObjectID=P510597\" title=\"P510597 obverse:12\" sec=\"P510597 obverse:12\">line <span class=\"txtn\">12</span></a> </div><div class=\"meta\"><div class=\"features\"></div></div><div class=\"children line\"><div class=\"contnr word \" ><div class=\"lbl word\"><span class=\"txtp\"><span class=\"plain outer  \" ><span class=\"plain hlbx\"  style=\"border-color: cyan;\" ><span class=\"txtp\">[a?-</span></span><span class=\"plain hlbx\"  style=\"border-color: magenta;\" ><span class=\"txtp\">na] </span></span></span></span> </div><div class=\"meta\"><div class=\"features\"></div></div></div><div class=\"contnr word \" ><div class=\"lbl word\"><span class=\"txtp\"><span class=\"plain outer  \" ><span class=\"plain hlbx\"  style=\"border-color: lightsalmon;\" ><span class=\"txtp\">babila2#</span></span><span class=\"plain \" ><span class=\"txtp\">[{ki}]</span></span></span></span> </div><div class=\"meta\"><div class=\"features\"></div></div></div></div></div>"
      ],
      "text/plain": [
       "<IPython.core.display.HTML object>"
      ]
     },
     "metadata": {},
     "output_type": "display_data"
    },
    {
     "data": {
      "text/html": [
       "<p><b>result</b> <i>2</i></p>"
      ],
      "text/plain": [
       "<IPython.core.display.HTML object>"
      ]
     },
     "metadata": {},
     "output_type": "display_data"
    },
    {
     "data": {
      "text/html": [
       "<div class=\"contnr line \" ><div class=\"lbl line\"><a href=\"https://cdli.ucla.edu/search/search_results.php?SearchMode=Text&amp;ObjectID=P292756\" title=\"P292756 obverse:21\" sec=\"P292756 obverse:21\">line <span class=\"txtn\">21</span></a> </div><div class=\"meta\"><div class=\"features\"></div></div><div class=\"children line\"><div class=\"contnr word \" ><div class=\"lbl word\"><span class=\"txtp\"><span class=\"plain outer  \" ><span class=\"plain hlbx\"  style=\"border-color: cyan;\" ><span class=\"txtp\">[sza? </span></span></span></span> </div><div class=\"meta\"><div class=\"features\"></div></div></div><div class=\"contnr word \" ><div class=\"lbl word\"><span class=\"txtp\"><span class=\"plain outer  \" ><span class=\"plain hlbx\"  style=\"border-color: magenta;\" ><span class=\"txtp\">(...)] </span></span></span></span> </div><div class=\"meta\"><div class=\"features\"></div></div></div><div class=\"contnr word \" ><div class=\"lbl word\"><span class=\"txtp\"><span class=\"plain outer  \" ><span class=\"plain hlbx\"  style=\"border-color: lightsalmon;\" ><span class=\"txtp\">it#-</span></span><span class=\"plain \" ><span class=\"txtp\">ti-</span></span><span class=\"plain \" ><span class=\"txtp\">ia </span></span></span></span> </div><div class=\"meta\"><div class=\"features\"></div></div></div><div class=\"contnr word \" ><div class=\"lbl word\"><span class=\"txtp\"><span class=\"plain outer  \" ><span class=\"plain \" ><span class=\"txtp\">u2-</span></span><span class=\"plain \" ><span class=\"txtp\">ul </span></span></span></span> </div><div class=\"meta\"><div class=\"features\"></div></div></div><div class=\"contnr word \" ><div class=\"lbl word\"><span class=\"txtp\"><span class=\"plain outer  \" ><span class=\"plain \" ><span class=\"txtp\">in-</span></span><span class=\"plain \" ><span class=\"txtp\">nam-</span></span><span class=\"plain \" ><span class=\"txtp\">ru-</span></span><span class=\"plain \" ><span class=\"txtp\">ma</span></span></span></span> </div><div class=\"meta\"><div class=\"features\"></div></div></div></div></div>"
      ],
      "text/plain": [
       "<IPython.core.display.HTML object>"
      ]
     },
     "metadata": {},
     "output_type": "display_data"
    },
    {
     "data": {
      "text/html": [
       "<p><b>result</b> <i>3</i></p>"
      ],
      "text/plain": [
       "<IPython.core.display.HTML object>"
      ]
     },
     "metadata": {},
     "output_type": "display_data"
    },
    {
     "data": {
      "text/html": [
       "<div class=\"contnr line \" ><div class=\"lbl line\"><a href=\"https://cdli.ucla.edu/search/search_results.php?SearchMode=Text&amp;ObjectID=P313393\" title=\"P313393 obverse:3\" sec=\"P313393 obverse:3\">line <span class=\"txtn\">3</span></a> </div><div class=\"meta\"><div class=\"features\"></div></div><div class=\"children line\"><div class=\"contnr word \" ><div class=\"lbl word\"><span class=\"txtp\"><span class=\"plain outer  \" ><span class=\"plain \" ><span class=\"txtp\">um-</span></span><span class=\"plain \" ><span class=\"txtp\">ma </span></span></span></span> </div><div class=\"meta\"><div class=\"features\"></div></div></div><div class=\"contnr word \" ><div class=\"lbl word\"><span class=\"txtp\"><span class=\"plain outer  \" ><span class=\"plain hlbx\"  style=\"border-color: cyan;\" ><span class=\"txtp\">ni?-</span></span><span class=\"plain hlbx\"  style=\"border-color: magenta;\" ><span class=\"txtp\">[...]-</span></span><span class=\"plain hlbx\"  style=\"border-color: lightsalmon;\" ><span class=\"txtp\">ma#</span></span></span></span> </div><div class=\"meta\"><div class=\"features\"></div></div></div></div></div>"
      ],
      "text/plain": [
       "<IPython.core.display.HTML object>"
      ]
     },
     "metadata": {},
     "output_type": "display_data"
    },
    {
     "data": {
      "text/html": [
       "<p><b>result</b> <i>4</i></p>"
      ],
      "text/plain": [
       "<IPython.core.display.HTML object>"
      ]
     },
     "metadata": {},
     "output_type": "display_data"
    },
    {
     "data": {
      "text/html": [
       "<div class=\"contnr line \" ><div class=\"lbl line\"><a href=\"https://cdli.ucla.edu/search/search_results.php?SearchMode=Text&amp;ObjectID=P386470\" title=\"P386470 reverse:15'\" sec=\"P386470 reverse:15'\">line <span class=\"txtn\">15'</span></a> </div><div class=\"meta\"><div class=\"features\"></div></div><div class=\"children line\"><div class=\"contnr word \" ><div class=\"lbl word\"><span class=\"txtp\"><span class=\"plain outer  \" ><span class=\"plain hlbx\"  style=\"border-color: cyan;\" ><span class=\"txtp\">[u2?-</span></span><span class=\"plain hlbx\"  style=\"border-color: magenta;\" ><span class=\"txtp\">sze]-</span></span><span class=\"plain hlbx\"  style=\"border-color: lightsalmon;\" ><span class=\"txtp\">et#-</span></span><span class=\"plain \" ><span class=\"txtp\">bu-</span></span><span class=\"plain \" ><span class=\"txtp\">u2-</span></span><span class=\"plain \" ><span class=\"txtp\">[szu?]</span></span></span></span> </div><div class=\"meta\"><div class=\"features\"></div></div></div></div></div>"
      ],
      "text/plain": [
       "<IPython.core.display.HTML object>"
      ]
     },
     "metadata": {},
     "output_type": "display_data"
    },
    {
     "data": {
      "text/html": [
       "<p><b>result</b> <i>5</i></p>"
      ],
      "text/plain": [
       "<IPython.core.display.HTML object>"
      ]
     },
     "metadata": {},
     "output_type": "display_data"
    },
    {
     "data": {
      "text/html": [
       "<div class=\"contnr line \" ><div class=\"lbl line\"><a href=\"https://cdli.ucla.edu/search/search_results.php?SearchMode=Text&amp;ObjectID=P305755\" title=\"P305755 reverse:3\" sec=\"P305755 reverse:3\">line <span class=\"txtn\">3</span></a> </div><div class=\"meta\"><div class=\"features\"></div></div><div class=\"children line\"><div class=\"contnr word \" ><div class=\"lbl word\"><span class=\"txtp\"><span class=\"plain outer  \" ><span class=\"plain \" ><span class=\"txtp\">u3 </span></span></span></span> </div><div class=\"meta\"><div class=\"features\"></div></div></div><div class=\"contnr word \" ><div class=\"lbl word\"><span class=\"txtp\"><span class=\"plain outer  \" ><span class=\"plain hlbx\"  style=\"border-color: cyan;\" ><span class=\"txtp\">KA#?-</span></span><span class=\"plain hlbx\"  style=\"border-color: magenta;\" ><span class=\"txtp\">[x]-</span></span><span class=\"plain hlbx\"  style=\"border-color: lightsalmon;\" ><span class=\"txtp\">UM#? </span></span></span></span> </div><div class=\"meta\"><div class=\"features\"></div></div></div><div class=\"contnr word \" ><div class=\"lbl word\"><span class=\"txtp\"><span class=\"plain outer  \" ><span class=\"plain \" ><span class=\"txtp\">a-</span></span><span class=\"plain \" ><span class=\"txtp\">hu-</span></span><span class=\"plain \" ><span class=\"txtp\">u2-</span></span><span class=\"plain \" ><span class=\"txtp\">szu </span></span></span></span> </div><div class=\"meta\"><div class=\"features\"></div></div></div><div class=\"contnr word \" ><div class=\"lbl word\"><span class=\"txtp\"><span class=\"plain outer  \" ><span class=\"plain \" ><span class=\"txtp\">qa2-</span></span><span class=\"plain \" ><span class=\"txtp\">ta-</span></span><span class=\"plain \" ><span class=\"txtp\">ti-</span></span><span class=\"plain \" ><span class=\"txtp\">szu-</span></span><span class=\"plain \" ><span class=\"txtp\">ma</span></span></span></span> </div><div class=\"meta\"><div class=\"features\"></div></div></div></div></div>"
      ],
      "text/plain": [
       "<IPython.core.display.HTML object>"
      ]
     },
     "metadata": {},
     "output_type": "display_data"
    },
    {
     "data": {
      "text/html": [
       "<p><b>result</b> <i>6</i></p>"
      ],
      "text/plain": [
       "<IPython.core.display.HTML object>"
      ]
     },
     "metadata": {},
     "output_type": "display_data"
    },
    {
     "data": {
      "text/html": [
       "<div class=\"contnr line \" ><div class=\"lbl line\"><a href=\"https://cdli.ucla.edu/search/search_results.php?SearchMode=Text&amp;ObjectID=P307155\" title=\"P307155 obverse:11\" sec=\"P307155 obverse:11\">line <span class=\"txtn\">11</span></a> </div><div class=\"meta\"><div class=\"features\"></div></div><div class=\"children line\"><div class=\"contnr word \" ><div class=\"lbl word\"><span class=\"txtp\"><span class=\"plain outer  \" ><span class=\"plain \" ><span class=\"txtp\">mi-</span></span><span class=\"plain \" ><span class=\"txtp\">im#-</span></span><span class=\"plain \" ><span class=\"txtp\">ma# </span></span></span></span> </div><div class=\"meta\"><div class=\"features\"></div></div></div><div class=\"contnr word \" ><div class=\"lbl word\"><span class=\"txtp\"><span class=\"plain outer  \" ><span class=\"plain \" ><span class=\"txtp\">sza </span></span></span></span> </div><div class=\"meta\"><div class=\"features\"></div></div></div><div class=\"contnr word \" ><div class=\"lbl word\"><span class=\"txtp\"><span class=\"plain outer  \" ><span class=\"plain \" ><span class=\"txtp\">ta#-</span></span><span class=\"plain hlbx\"  style=\"border-color: cyan;\" ><span class=\"txtp\">GA?-</span></span><span class=\"plain hlbx\"  style=\"border-color: magenta;\" ><span class=\"txtp\">[x]-</span></span><span class=\"plain hlbx\"  style=\"border-color: lightsalmon;\" ><span class=\"txtp\">BU#? </span></span></span></span> </div><div class=\"meta\"><div class=\"features\"></div></div></div><div class=\"contnr word \" ><div class=\"lbl word\"><span class=\"txtp\"><span class=\"plain outer  \" ><span class=\"plain \" ><span class=\"txtp\">[x]</span></span></span></span> </div><div class=\"meta\"><div class=\"features\"></div></div></div></div></div>"
      ],
      "text/plain": [
       "<IPython.core.display.HTML object>"
      ]
     },
     "metadata": {},
     "output_type": "display_data"
    },
    {
     "data": {
      "text/html": [
       "<p><b>result</b> <i>7</i></p>"
      ],
      "text/plain": [
       "<IPython.core.display.HTML object>"
      ]
     },
     "metadata": {},
     "output_type": "display_data"
    },
    {
     "data": {
      "text/html": [
       "<div class=\"contnr line \" ><div class=\"lbl line\"><a href=\"https://cdli.ucla.edu/search/search_results.php?SearchMode=Text&amp;ObjectID=P308015\" title=\"P308015 reverse:2\" sec=\"P308015 reverse:2\">line <span class=\"txtn\">2</span></a> </div><div class=\"meta\"><div class=\"features\"></div></div><div class=\"children line\"><div class=\"contnr word \" ><div class=\"lbl word\"><span class=\"txtp\"><span class=\"plain outer  \" ><span class=\"plain \" ><span class=\"txtp\">{disz}</span></span><span class=\"plain hlbx\"  style=\"border-color: cyan;\" ><span class=\"txtp\">UD?-</span></span><span class=\"plain hlbx\"  style=\"border-color: magenta;\" ><span class=\"txtp\">[x] </span></span></span></span> </div><div class=\"meta\"><div class=\"features\"></div></div></div><div class=\"contnr word \" ><div class=\"lbl word\"><span class=\"txtp\"><span class=\"plain outer  \" ><span class=\"plain hlbx\"  style=\"border-color: lightsalmon;\" ><span class=\"txtp\">{ki#}-</span></span><span class=\"plain \" ><span class=\"txtp\">li-</span></span><span class=\"plain \" ><span class=\"txtp\">ib-</span></span><span class=\"plain \" ><span class=\"txtp\">lu-</span></span><span class=\"plain \" ><span class=\"txtp\">ut,</span></span></span></span> </div><div class=\"meta\"><div class=\"features\"></div></div></div></div></div>"
      ],
      "text/plain": [
       "<IPython.core.display.HTML object>"
      ]
     },
     "metadata": {},
     "output_type": "display_data"
    }
   ],
   "source": [
    "results = A.search(query)\n",
    "A.table(results, end=10, baseType=\"sign\")\n",
    "A.show(results, end=10, colorMap={0: '', 2: 'cyan', 3: 'magenta', 4: 'lightsalmon'})"
   ]
  },
  {
   "cell_type": "markdown",
   "metadata": {},
   "source": [
    "# Custom feature display\n",
    "\n",
    "We would like to see the original atf and the flags for signs.\n",
    "The way to do that, is to perform a `A.prettySetup(features)` first.\n",
    "\n",
    "We concentrate on one specific result."
   ]
  },
  {
   "cell_type": "code",
   "execution_count": 34,
   "metadata": {
    "ExecuteTime": {
     "end_time": "2018-05-24T07:49:51.867815Z",
     "start_time": "2018-05-24T07:49:51.864197Z"
    }
   },
   "outputs": [],
   "source": [
    "A.displaySetup(extraFeatures='atf flags')"
   ]
  },
  {
   "cell_type": "code",
   "execution_count": 36,
   "metadata": {
    "ExecuteTime": {
     "end_time": "2018-05-24T07:49:53.189127Z",
     "start_time": "2018-05-24T07:49:53.176377Z"
    }
   },
   "outputs": [
    {
     "data": {
      "text/html": [
       "<p><b>result</b> <i>4</i></p>"
      ],
      "text/plain": [
       "<IPython.core.display.HTML object>"
      ]
     },
     "metadata": {},
     "output_type": "display_data"
    },
    {
     "data": {
      "text/html": [
       "<div class=\"contnr line \" ><div class=\"lbl line\"><a href=\"https://cdli.ucla.edu/search/search_results.php?SearchMode=Text&amp;ObjectID=P386470\" title=\"P386470 reverse:15'\" sec=\"P386470 reverse:15'\">line <span class=\"txtn\">15'</span></a> </div><div class=\"meta\"><div class=\"features\"></div></div><div class=\"children line\"><div class=\"contnr word \" ><div class=\"lbl word\"><span class=\"txtp\">[u2?-sze]-et#-bu-u2-[szu?]</span> </div><div class=\"meta\"><div class=\"features\"> <span class=\"atf xft\"><span class=\"f\">atf=</span>[u2?-sze]-et#-bu-u2-[szu?]</span></div></div><div class=\"children word\"><div class=\"contnr sign hl\"  style=\"background-color: cyan;\" ><div class=\"lbl sign\"><span class=\"txtp\">[u2?-</span> </div><div class=\"meta\"><div class=\"features\"> <span class=\"question\"><span class=\"f\">question=</span>1</span> <span class=\"missing\"><span class=\"f\">missing=</span>1</span> <span class=\"atf xft\"><span class=\"f\">atf=</span>u2?</span> <span class=\"flags xft\"><span class=\"f\">flags=</span>?</span></div></div></div><div class=\"contnr sign hl\"  style=\"background-color: magenta;\" ><div class=\"lbl sign\"><span class=\"txtp\">sze]-</span> </div><div class=\"meta\"><div class=\"features\"> <span class=\"missing\"><span class=\"f\">missing=</span>1</span> <span class=\"atf xft\"><span class=\"f\">atf=</span>sze</span></div></div></div><div class=\"contnr sign hl\"  style=\"background-color: lightsalmon;\" ><div class=\"lbl sign\"><span class=\"txtp\">et#-</span> </div><div class=\"meta\"><div class=\"features\"> <span class=\"damage\"><span class=\"f\">damage=</span>1</span> <span class=\"atf xft\"><span class=\"f\">atf=</span>et#</span> <span class=\"flags xft\"><span class=\"f\">flags=</span>#</span></div></div></div><div class=\"contnr sign \" ><div class=\"lbl sign\"><span class=\"txtp\">bu-</span> </div><div class=\"meta\"><div class=\"features\"> <span class=\"atf xft\"><span class=\"f\">atf=</span>bu</span></div></div></div><div class=\"contnr sign \" ><div class=\"lbl sign\"><span class=\"txtp\">u2-</span> </div><div class=\"meta\"><div class=\"features\"> <span class=\"atf xft\"><span class=\"f\">atf=</span>u2</span></div></div></div><div class=\"contnr sign \" ><div class=\"lbl sign\"><span class=\"txtp\">[szu?]</span> </div><div class=\"meta\"><div class=\"features\"> <span class=\"question\"><span class=\"f\">question=</span>1</span> <span class=\"missing\"><span class=\"f\">missing=</span>1</span> <span class=\"atf xft\"><span class=\"f\">atf=</span>szu?</span> <span class=\"flags xft\"><span class=\"f\">flags=</span>?</span></div></div></div></div></div></div></div>"
      ],
      "text/plain": [
       "<IPython.core.display.HTML object>"
      ]
     },
     "metadata": {},
     "output_type": "display_data"
    }
   ],
   "source": [
    "A.show(results, start=4, end=4, baseType=\"sign\", colorMap={0: '', 2: 'cyan', 3: 'magenta', 4: 'lightsalmon'})"
   ]
  },
  {
   "cell_type": "markdown",
   "metadata": {},
   "source": [
    "The features without meaningful values have been left out. We can also change that by passing a set of values\n",
    "we think are not meaningful. The default set is \n",
    "\n",
    "```python\n",
    "{None, 'NA', 'none', 'unknown'}\n",
    "```"
   ]
  },
  {
   "cell_type": "code",
   "execution_count": 37,
   "metadata": {
    "ExecuteTime": {
     "end_time": "2018-05-24T07:49:56.593302Z",
     "start_time": "2018-05-24T07:49:56.579038Z"
    }
   },
   "outputs": [
    {
     "data": {
      "text/html": [
       "<p><b>result</b> <i>4</i></p>"
      ],
      "text/plain": [
       "<IPython.core.display.HTML object>"
      ]
     },
     "metadata": {},
     "output_type": "display_data"
    },
    {
     "data": {
      "text/html": [
       "<div class=\"contnr line \" ><div class=\"lbl line\"><a href=\"https://cdli.ucla.edu/search/search_results.php?SearchMode=Text&amp;ObjectID=P386470\" title=\"P386470 reverse:15'\" sec=\"P386470 reverse:15'\">line <span class=\"txtn\">15'</span></a> </div><div class=\"meta\"><div class=\"features\"> <span class=\"remarks\"></span> <span class=\"translation@en\"></span> <span class=\"atf xft\"><span class=\"f\">atf=</span></span> <span class=\"damage xft\"><span class=\"f\">damage=</span></span> <span class=\"flags xft\"><span class=\"f\">flags=</span></span> <span class=\"missing xft\"><span class=\"f\">missing=</span></span> <span class=\"question xft\"><span class=\"f\">question=</span></span></div></div><div class=\"children line\"><div class=\"contnr word \" ><div class=\"lbl word\"><span class=\"txtp\">[u2?-sze]-et#-bu-u2-[szu?]</span> </div><div class=\"meta\"><div class=\"features\"> <span class=\"atf xft\"><span class=\"f\">atf=</span>[u2?-sze]-et#-bu-u2-[szu?]</span> <span class=\"damage xft\"><span class=\"f\">damage=</span></span> <span class=\"flags xft\"><span class=\"f\">flags=</span></span> <span class=\"missing xft\"><span class=\"f\">missing=</span></span> <span class=\"question xft\"><span class=\"f\">question=</span></span></div></div><div class=\"children word\"><div class=\"contnr sign hl\"  style=\"background-color: cyan;\" ><div class=\"lbl sign\"><span class=\"txtp\">[u2?-</span> </div><div class=\"meta\"><div class=\"features\"> <span class=\"collated\"><span class=\"f\">collated=</span></span> <span class=\"remarkable\"><span class=\"f\">remarkable=</span></span> <span class=\"question\"><span class=\"f\">question=</span>1</span> <span class=\"damage\"><span class=\"f\">damage=</span></span> <span class=\"det\"><span class=\"f\">det=</span></span> <span class=\"uncertain\"><span class=\"f\">uncertain=</span></span> <span class=\"missing\"><span class=\"f\">missing=</span>1</span> <span class=\"excised\"><span class=\"f\">excised=</span></span> <span class=\"supplied\"><span class=\"f\">supplied=</span></span> <span class=\"langalt\"><span class=\"f\">langalt=</span></span> <span class=\"comment\"><span class=\"f\">comment=</span></span> <span class=\"remarks\"><span class=\"f\">remarks=</span></span> <span class=\"repeat\"><span class=\"f\">repeat=</span></span> <span class=\"fraction\"><span class=\"f\">fraction=</span></span> <span class=\"operator\"><span class=\"f\">operator=</span></span> <span class=\"grapheme\"><span class=\"f\">grapheme=</span></span> <span class=\"atf xft\"><span class=\"f\">atf=</span>u2?</span> <span class=\"flags xft\"><span class=\"f\">flags=</span>?</span></div></div></div><div class=\"contnr sign hl\"  style=\"background-color: magenta;\" ><div class=\"lbl sign\"><span class=\"txtp\">sze]-</span> </div><div class=\"meta\"><div class=\"features\"> <span class=\"collated\"><span class=\"f\">collated=</span></span> <span class=\"remarkable\"><span class=\"f\">remarkable=</span></span> <span class=\"question\"><span class=\"f\">question=</span></span> <span class=\"damage\"><span class=\"f\">damage=</span></span> <span class=\"det\"><span class=\"f\">det=</span></span> <span class=\"uncertain\"><span class=\"f\">uncertain=</span></span> <span class=\"missing\"><span class=\"f\">missing=</span>1</span> <span class=\"excised\"><span class=\"f\">excised=</span></span> <span class=\"supplied\"><span class=\"f\">supplied=</span></span> <span class=\"langalt\"><span class=\"f\">langalt=</span></span> <span class=\"comment\"><span class=\"f\">comment=</span></span> <span class=\"remarks\"><span class=\"f\">remarks=</span></span> <span class=\"repeat\"><span class=\"f\">repeat=</span></span> <span class=\"fraction\"><span class=\"f\">fraction=</span></span> <span class=\"operator\"><span class=\"f\">operator=</span></span> <span class=\"grapheme\"><span class=\"f\">grapheme=</span></span> <span class=\"atf xft\"><span class=\"f\">atf=</span>sze</span> <span class=\"flags xft\"><span class=\"f\">flags=</span></span></div></div></div><div class=\"contnr sign hl\"  style=\"background-color: lightsalmon;\" ><div class=\"lbl sign\"><span class=\"txtp\">et#-</span> </div><div class=\"meta\"><div class=\"features\"> <span class=\"collated\"><span class=\"f\">collated=</span></span> <span class=\"remarkable\"><span class=\"f\">remarkable=</span></span> <span class=\"question\"><span class=\"f\">question=</span></span> <span class=\"damage\"><span class=\"f\">damage=</span>1</span> <span class=\"det\"><span class=\"f\">det=</span></span> <span class=\"uncertain\"><span class=\"f\">uncertain=</span></span> <span class=\"missing\"><span class=\"f\">missing=</span></span> <span class=\"excised\"><span class=\"f\">excised=</span></span> <span class=\"supplied\"><span class=\"f\">supplied=</span></span> <span class=\"langalt\"><span class=\"f\">langalt=</span></span> <span class=\"comment\"><span class=\"f\">comment=</span></span> <span class=\"remarks\"><span class=\"f\">remarks=</span></span> <span class=\"repeat\"><span class=\"f\">repeat=</span></span> <span class=\"fraction\"><span class=\"f\">fraction=</span></span> <span class=\"operator\"><span class=\"f\">operator=</span></span> <span class=\"grapheme\"><span class=\"f\">grapheme=</span></span> <span class=\"atf xft\"><span class=\"f\">atf=</span>et#</span> <span class=\"flags xft\"><span class=\"f\">flags=</span>#</span></div></div></div><div class=\"contnr sign \" ><div class=\"lbl sign\"><span class=\"txtp\">bu-</span> </div><div class=\"meta\"><div class=\"features\"> <span class=\"collated\"><span class=\"f\">collated=</span></span> <span class=\"remarkable\"><span class=\"f\">remarkable=</span></span> <span class=\"question\"><span class=\"f\">question=</span></span> <span class=\"damage\"><span class=\"f\">damage=</span></span> <span class=\"det\"><span class=\"f\">det=</span></span> <span class=\"uncertain\"><span class=\"f\">uncertain=</span></span> <span class=\"missing\"><span class=\"f\">missing=</span></span> <span class=\"excised\"><span class=\"f\">excised=</span></span> <span class=\"supplied\"><span class=\"f\">supplied=</span></span> <span class=\"langalt\"><span class=\"f\">langalt=</span></span> <span class=\"comment\"><span class=\"f\">comment=</span></span> <span class=\"remarks\"><span class=\"f\">remarks=</span></span> <span class=\"repeat\"><span class=\"f\">repeat=</span></span> <span class=\"fraction\"><span class=\"f\">fraction=</span></span> <span class=\"operator\"><span class=\"f\">operator=</span></span> <span class=\"grapheme\"><span class=\"f\">grapheme=</span></span> <span class=\"atf xft\"><span class=\"f\">atf=</span>bu</span> <span class=\"flags xft\"><span class=\"f\">flags=</span></span></div></div></div><div class=\"contnr sign \" ><div class=\"lbl sign\"><span class=\"txtp\">u2-</span> </div><div class=\"meta\"><div class=\"features\"> <span class=\"collated\"><span class=\"f\">collated=</span></span> <span class=\"remarkable\"><span class=\"f\">remarkable=</span></span> <span class=\"question\"><span class=\"f\">question=</span></span> <span class=\"damage\"><span class=\"f\">damage=</span></span> <span class=\"det\"><span class=\"f\">det=</span></span> <span class=\"uncertain\"><span class=\"f\">uncertain=</span></span> <span class=\"missing\"><span class=\"f\">missing=</span></span> <span class=\"excised\"><span class=\"f\">excised=</span></span> <span class=\"supplied\"><span class=\"f\">supplied=</span></span> <span class=\"langalt\"><span class=\"f\">langalt=</span></span> <span class=\"comment\"><span class=\"f\">comment=</span></span> <span class=\"remarks\"><span class=\"f\">remarks=</span></span> <span class=\"repeat\"><span class=\"f\">repeat=</span></span> <span class=\"fraction\"><span class=\"f\">fraction=</span></span> <span class=\"operator\"><span class=\"f\">operator=</span></span> <span class=\"grapheme\"><span class=\"f\">grapheme=</span></span> <span class=\"atf xft\"><span class=\"f\">atf=</span>u2</span> <span class=\"flags xft\"><span class=\"f\">flags=</span></span></div></div></div><div class=\"contnr sign \" ><div class=\"lbl sign\"><span class=\"txtp\">[szu?]</span> </div><div class=\"meta\"><div class=\"features\"> <span class=\"collated\"><span class=\"f\">collated=</span></span> <span class=\"remarkable\"><span class=\"f\">remarkable=</span></span> <span class=\"question\"><span class=\"f\">question=</span>1</span> <span class=\"damage\"><span class=\"f\">damage=</span></span> <span class=\"det\"><span class=\"f\">det=</span></span> <span class=\"uncertain\"><span class=\"f\">uncertain=</span></span> <span class=\"missing\"><span class=\"f\">missing=</span>1</span> <span class=\"excised\"><span class=\"f\">excised=</span></span> <span class=\"supplied\"><span class=\"f\">supplied=</span></span> <span class=\"langalt\"><span class=\"f\">langalt=</span></span> <span class=\"comment\"><span class=\"f\">comment=</span></span> <span class=\"remarks\"><span class=\"f\">remarks=</span></span> <span class=\"repeat\"><span class=\"f\">repeat=</span></span> <span class=\"fraction\"><span class=\"f\">fraction=</span></span> <span class=\"operator\"><span class=\"f\">operator=</span></span> <span class=\"grapheme\"><span class=\"f\">grapheme=</span></span> <span class=\"atf xft\"><span class=\"f\">atf=</span>szu?</span> <span class=\"flags xft\"><span class=\"f\">flags=</span>?</span></div></div></div></div></div></div></div>"
      ],
      "text/plain": [
       "<IPython.core.display.HTML object>"
      ]
     },
     "metadata": {},
     "output_type": "display_data"
    }
   ],
   "source": [
    "A.displaySetup(noneValues=set())\n",
    "A.show(results, start=4, end=4, baseType=\"sign\", colorMap={0: '', 2: 'cyan', 3: 'magenta', 4: 'lightsalmon'})"
   ]
  },
  {
   "cell_type": "markdown",
   "metadata": {},
   "source": [
    "This makes clear that it is convenient to keep `None` in the `noneValues`:"
   ]
  },
  {
   "cell_type": "code",
   "execution_count": 38,
   "metadata": {
    "ExecuteTime": {
     "end_time": "2018-05-24T07:50:03.094084Z",
     "start_time": "2018-05-24T07:50:03.080237Z"
    }
   },
   "outputs": [
    {
     "data": {
      "text/html": [
       "<p><b>result</b> <i>4</i></p>"
      ],
      "text/plain": [
       "<IPython.core.display.HTML object>"
      ]
     },
     "metadata": {},
     "output_type": "display_data"
    },
    {
     "data": {
      "text/html": [
       "<div class=\"contnr line \" ><div class=\"lbl line\"><a href=\"https://cdli.ucla.edu/search/search_results.php?SearchMode=Text&amp;ObjectID=P386470\" title=\"P386470 reverse:15'\" sec=\"P386470 reverse:15'\">line <span class=\"txtn\">15'</span></a> </div><div class=\"meta\"><div class=\"features\"></div></div><div class=\"children line\"><div class=\"contnr word \" ><div class=\"lbl word\"><span class=\"txtp\">[u2?-sze]-et#-bu-u2-[szu?]</span> </div><div class=\"meta\"><div class=\"features\"> <span class=\"atf xft\"><span class=\"f\">atf=</span>[u2?-sze]-et#-bu-u2-[szu?]</span></div></div><div class=\"children word\"><div class=\"contnr sign hl\"  style=\"background-color: cyan;\" ><div class=\"lbl sign\"><span class=\"txtp\">[u2?-</span> </div><div class=\"meta\"><div class=\"features\"> <span class=\"question\"><span class=\"f\">question=</span>1</span> <span class=\"missing\"><span class=\"f\">missing=</span>1</span> <span class=\"atf xft\"><span class=\"f\">atf=</span>u2?</span> <span class=\"flags xft\"><span class=\"f\">flags=</span>?</span></div></div></div><div class=\"contnr sign hl\"  style=\"background-color: magenta;\" ><div class=\"lbl sign\"><span class=\"txtp\">sze]-</span> </div><div class=\"meta\"><div class=\"features\"> <span class=\"missing\"><span class=\"f\">missing=</span>1</span> <span class=\"atf xft\"><span class=\"f\">atf=</span>sze</span></div></div></div><div class=\"contnr sign hl\"  style=\"background-color: lightsalmon;\" ><div class=\"lbl sign\"><span class=\"txtp\">et#-</span> </div><div class=\"meta\"><div class=\"features\"> <span class=\"damage\"><span class=\"f\">damage=</span>1</span> <span class=\"atf xft\"><span class=\"f\">atf=</span>et#</span> <span class=\"flags xft\"><span class=\"f\">flags=</span>#</span></div></div></div><div class=\"contnr sign \" ><div class=\"lbl sign\"><span class=\"txtp\">bu-</span> </div><div class=\"meta\"><div class=\"features\"> <span class=\"atf xft\"><span class=\"f\">atf=</span>bu</span></div></div></div><div class=\"contnr sign \" ><div class=\"lbl sign\"><span class=\"txtp\">u2-</span> </div><div class=\"meta\"><div class=\"features\"> <span class=\"atf xft\"><span class=\"f\">atf=</span>u2</span></div></div></div><div class=\"contnr sign \" ><div class=\"lbl sign\"><span class=\"txtp\">[szu?]</span> </div><div class=\"meta\"><div class=\"features\"> <span class=\"question\"><span class=\"f\">question=</span>1</span> <span class=\"missing\"><span class=\"f\">missing=</span>1</span> <span class=\"atf xft\"><span class=\"f\">atf=</span>szu?</span> <span class=\"flags xft\"><span class=\"f\">flags=</span>?</span></div></div></div></div></div></div></div>"
      ],
      "text/plain": [
       "<IPython.core.display.HTML object>"
      ]
     },
     "metadata": {},
     "output_type": "display_data"
    }
   ],
   "source": [
    "A.displaySetup(noneValues={None})\n",
    "A.show(results, start=4, end=4, baseType=\"sign\", colorMap={0: '', 2: 'cyan', 3: 'magenta', 4: 'lightsalmon'})"
   ]
  },
  {
   "cell_type": "markdown",
   "metadata": {},
   "source": [
    "We can even choose to suppress other values, e.g. the value 1.\n",
    "\n",
    "That will remove all the features such as `question`, `missing`."
   ]
  },
  {
   "cell_type": "code",
   "execution_count": 39,
   "metadata": {
    "ExecuteTime": {
     "end_time": "2018-05-24T07:50:08.244221Z",
     "start_time": "2018-05-24T07:50:08.232311Z"
    }
   },
   "outputs": [
    {
     "data": {
      "text/html": [
       "<p><b>result</b> <i>4</i></p>"
      ],
      "text/plain": [
       "<IPython.core.display.HTML object>"
      ]
     },
     "metadata": {},
     "output_type": "display_data"
    },
    {
     "data": {
      "text/html": [
       "<div class=\"contnr line \" ><div class=\"lbl line\"><a href=\"https://cdli.ucla.edu/search/search_results.php?SearchMode=Text&amp;ObjectID=P386470\" title=\"P386470 reverse:15'\" sec=\"P386470 reverse:15'\">line <span class=\"txtn\">15'</span></a> </div><div class=\"meta\"><div class=\"features\"></div></div><div class=\"children line\"><div class=\"contnr word \" ><div class=\"lbl word\"><span class=\"txtp\">[u2?-sze]-et#-bu-u2-[szu?]</span> </div><div class=\"meta\"><div class=\"features\"> <span class=\"atf xft\"><span class=\"f\">atf=</span>[u2?-sze]-et#-bu-u2-[szu?]</span></div></div><div class=\"children word\"><div class=\"contnr sign hl\"  style=\"background-color: cyan;\" ><div class=\"lbl sign\"><span class=\"txtp\">[u2?-</span> </div><div class=\"meta\"><div class=\"features\"> <span class=\"atf xft\"><span class=\"f\">atf=</span>u2?</span> <span class=\"flags xft\"><span class=\"f\">flags=</span>?</span></div></div></div><div class=\"contnr sign hl\"  style=\"background-color: magenta;\" ><div class=\"lbl sign\"><span class=\"txtp\">sze]-</span> </div><div class=\"meta\"><div class=\"features\"> <span class=\"atf xft\"><span class=\"f\">atf=</span>sze</span></div></div></div><div class=\"contnr sign hl\"  style=\"background-color: lightsalmon;\" ><div class=\"lbl sign\"><span class=\"txtp\">et#-</span> </div><div class=\"meta\"><div class=\"features\"> <span class=\"atf xft\"><span class=\"f\">atf=</span>et#</span> <span class=\"flags xft\"><span class=\"f\">flags=</span>#</span></div></div></div><div class=\"contnr sign \" ><div class=\"lbl sign\"><span class=\"txtp\">bu-</span> </div><div class=\"meta\"><div class=\"features\"> <span class=\"atf xft\"><span class=\"f\">atf=</span>bu</span></div></div></div><div class=\"contnr sign \" ><div class=\"lbl sign\"><span class=\"txtp\">u2-</span> </div><div class=\"meta\"><div class=\"features\"> <span class=\"atf xft\"><span class=\"f\">atf=</span>u2</span></div></div></div><div class=\"contnr sign \" ><div class=\"lbl sign\"><span class=\"txtp\">[szu?]</span> </div><div class=\"meta\"><div class=\"features\"> <span class=\"atf xft\"><span class=\"f\">atf=</span>szu?</span> <span class=\"flags xft\"><span class=\"f\">flags=</span>?</span></div></div></div></div></div></div></div>"
      ],
      "text/plain": [
       "<IPython.core.display.HTML object>"
      ]
     },
     "metadata": {},
     "output_type": "display_data"
    }
   ],
   "source": [
    "A.displaySetup(noneValues={None, 'NA', 'unknown', 1})\n",
    "A.show(results, start=4, end=4, baseType=\"sign\", colorMap={0: '', 2: 'cyan', 3: 'magenta', 4: 'lightsalmon'})"
   ]
  },
  {
   "cell_type": "markdown",
   "metadata": {},
   "source": [
    "In the rest of the notebook we stick to our normal setup, so we reset the extra features."
   ]
  },
  {
   "cell_type": "code",
   "execution_count": 40,
   "metadata": {
    "ExecuteTime": {
     "end_time": "2018-05-24T07:50:18.030145Z",
     "start_time": "2018-05-24T07:50:18.019245Z"
    }
   },
   "outputs": [
    {
     "data": {
      "text/html": [
       "<p><b>result</b> <i>4</i></p>"
      ],
      "text/plain": [
       "<IPython.core.display.HTML object>"
      ]
     },
     "metadata": {},
     "output_type": "display_data"
    },
    {
     "data": {
      "text/html": [
       "<div class=\"contnr line \" ><div class=\"lbl line\"><a href=\"https://cdli.ucla.edu/search/search_results.php?SearchMode=Text&amp;ObjectID=P386470\" title=\"P386470 reverse:15'\" sec=\"P386470 reverse:15'\">line <span class=\"txtn\">15'</span></a> </div><div class=\"meta\"><div class=\"features\"></div></div><div class=\"children line\"><div class=\"contnr word \" ><div class=\"lbl word\"><span class=\"txtp\">[u2?-sze]-et#-bu-u2-[szu?]</span> </div><div class=\"meta\"><div class=\"features\"></div></div><div class=\"children word\"><div class=\"contnr sign hl\"  style=\"background-color: cyan;\" ><div class=\"lbl sign\"><span class=\"txtp\">[u2?-</span> </div><div class=\"meta\"><div class=\"features\"> <span class=\"question\"><span class=\"f\">question=</span>1</span> <span class=\"missing\"><span class=\"f\">missing=</span>1</span></div></div></div><div class=\"contnr sign hl\"  style=\"background-color: magenta;\" ><div class=\"lbl sign\"><span class=\"txtp\">sze]-</span> </div><div class=\"meta\"><div class=\"features\"> <span class=\"missing\"><span class=\"f\">missing=</span>1</span></div></div></div><div class=\"contnr sign hl\"  style=\"background-color: lightsalmon;\" ><div class=\"lbl sign\"><span class=\"txtp\">et#-</span> </div><div class=\"meta\"><div class=\"features\"> <span class=\"damage\"><span class=\"f\">damage=</span>1</span></div></div></div><div class=\"contnr sign \" ><div class=\"lbl sign\"><span class=\"txtp\">bu-</span> </div><div class=\"meta\"><div class=\"features\"></div></div></div><div class=\"contnr sign \" ><div class=\"lbl sign\"><span class=\"txtp\">u2-</span> </div><div class=\"meta\"><div class=\"features\"></div></div></div><div class=\"contnr sign \" ><div class=\"lbl sign\"><span class=\"txtp\">[szu?]</span> </div><div class=\"meta\"><div class=\"features\"> <span class=\"question\"><span class=\"f\">question=</span>1</span> <span class=\"missing\"><span class=\"f\">missing=</span>1</span></div></div></div></div></div></div></div>"
      ],
      "text/plain": [
       "<IPython.core.display.HTML object>"
      ]
     },
     "metadata": {},
     "output_type": "display_data"
    }
   ],
   "source": [
    "A.displayReset()\n",
    "A.show(results, start=4, end=4, baseType=\"sign\", colorMap={0: '', 2: 'cyan', 3: 'magenta', 4: 'lightsalmon'})"
   ]
  },
  {
   "cell_type": "markdown",
   "metadata": {},
   "source": [
    "# Features from queries\n",
    "\n",
    "In earlier displays we saw the *types* of signs, because the query mentioned it.\n",
    "\n",
    "Suppose we want to display the type also here, then we can modify the query by mentioning the feature `type`.\n",
    "\n",
    "But we do not want to impose extra limitations, so we say `type*`, meaning: no conditions on type whatsoever."
   ]
  },
  {
   "cell_type": "code",
   "execution_count": 41,
   "metadata": {
    "ExecuteTime": {
     "end_time": "2018-05-24T07:47:14.547656Z",
     "start_time": "2018-05-24T07:47:14.544433Z"
    }
   },
   "outputs": [],
   "source": [
    "query = '''\n",
    "line\n",
    "  sign question=1 type*\n",
    "  <: sign missing=1\n",
    "  <: sign damage=1\n",
    "'''"
   ]
  },
  {
   "cell_type": "code",
   "execution_count": 42,
   "metadata": {
    "ExecuteTime": {
     "end_time": "2018-05-24T07:48:04.746084Z",
     "start_time": "2018-05-24T07:48:03.223548Z"
    }
   },
   "outputs": [
    {
     "name": "stdout",
     "output_type": "stream",
     "text": [
      "  0.60s 7 results\n"
     ]
    },
    {
     "data": {
      "text/html": [
       "<p><b>result</b> <i>4</i></p>"
      ],
      "text/plain": [
       "<IPython.core.display.HTML object>"
      ]
     },
     "metadata": {},
     "output_type": "display_data"
    },
    {
     "data": {
      "text/html": [
       "<div class=\"contnr line \" ><div class=\"lbl line\"><a href=\"https://cdli.ucla.edu/search/search_results.php?SearchMode=Text&amp;ObjectID=P386470\" title=\"P386470 reverse:15'\" sec=\"P386470 reverse:15'\">line <span class=\"txtn\">15'</span></a> </div><div class=\"meta\"><div class=\"features\"></div></div><div class=\"children line\"><div class=\"contnr word \" ><div class=\"lbl word\"><span class=\"txtp\"><span class=\"plain outer  \" ><span class=\"plain hlbx\"  style=\"border-color: cyan;\" ><span class=\"txtp\">[u2?-</span></span><span class=\"plain hlbx\"  style=\"border-color: magenta;\" ><span class=\"txtp\">sze]-</span></span><span class=\"plain hlbx\"  style=\"border-color: lightsalmon;\" ><span class=\"txtp\">et#-</span></span><span class=\"plain \" ><span class=\"txtp\">bu-</span></span><span class=\"plain \" ><span class=\"txtp\">u2-</span></span><span class=\"plain \" ><span class=\"txtp\">[szu?]</span></span></span></span> </div><div class=\"meta\"><div class=\"features\"></div></div></div></div></div>"
      ],
      "text/plain": [
       "<IPython.core.display.HTML object>"
      ]
     },
     "metadata": {},
     "output_type": "display_data"
    }
   ],
   "source": [
    "results = A.search(query)\n",
    "A.show(results, start=4, end=4, colorMap={0: '', 2: 'cyan', 3: 'magenta', 4: 'lightsalmon'})"
   ]
  },
  {
   "cell_type": "markdown",
   "metadata": {},
   "source": [
    "We do not see the features, because they are `sign` features, and our display stops at the `word` level.\n",
    "But we can improve on that:"
   ]
  },
  {
   "cell_type": "code",
   "execution_count": 43,
   "metadata": {},
   "outputs": [
    {
     "data": {
      "text/html": [
       "<p><b>result</b> <i>4</i></p>"
      ],
      "text/plain": [
       "<IPython.core.display.HTML object>"
      ]
     },
     "metadata": {},
     "output_type": "display_data"
    },
    {
     "data": {
      "text/html": [
       "<div class=\"contnr line \" ><div class=\"lbl line\"><a href=\"https://cdli.ucla.edu/search/search_results.php?SearchMode=Text&amp;ObjectID=P386470\" title=\"P386470 reverse:15'\" sec=\"P386470 reverse:15'\">line <span class=\"txtn\">15'</span></a> </div><div class=\"meta\"><div class=\"features\"></div></div><div class=\"children line\"><div class=\"contnr word \" ><div class=\"lbl word\"><span class=\"txtp\">[u2?-sze]-et#-bu-u2-[szu?]</span> </div><div class=\"meta\"><div class=\"features\"></div></div><div class=\"children word\"><div class=\"contnr sign hl\"  style=\"background-color: cyan;\" ><div class=\"lbl sign\"><span class=\"txtp\">[u2?-</span> </div><div class=\"meta\"><div class=\"features\"> <span class=\"question\"><span class=\"f\">question=</span>1</span> <span class=\"missing\"><span class=\"f\">missing=</span>1</span> <span class=\"type xft\"><span class=\"f\">type=</span>reading</span></div></div></div><div class=\"contnr sign hl\"  style=\"background-color: magenta;\" ><div class=\"lbl sign\"><span class=\"txtp\">sze]-</span> </div><div class=\"meta\"><div class=\"features\"> <span class=\"missing\"><span class=\"f\">missing=</span>1</span> <span class=\"type xft\"><span class=\"f\">type=</span>reading</span></div></div></div><div class=\"contnr sign hl\"  style=\"background-color: lightsalmon;\" ><div class=\"lbl sign\"><span class=\"txtp\">et#-</span> </div><div class=\"meta\"><div class=\"features\"> <span class=\"damage\"><span class=\"f\">damage=</span>1</span> <span class=\"type xft\"><span class=\"f\">type=</span>reading</span></div></div></div><div class=\"contnr sign \" ><div class=\"lbl sign\"><span class=\"txtp\">bu-</span> </div><div class=\"meta\"><div class=\"features\"> <span class=\"type xft\"><span class=\"f\">type=</span>reading</span></div></div></div><div class=\"contnr sign \" ><div class=\"lbl sign\"><span class=\"txtp\">u2-</span> </div><div class=\"meta\"><div class=\"features\"> <span class=\"type xft\"><span class=\"f\">type=</span>reading</span></div></div></div><div class=\"contnr sign \" ><div class=\"lbl sign\"><span class=\"txtp\">[szu?]</span> </div><div class=\"meta\"><div class=\"features\"> <span class=\"question\"><span class=\"f\">question=</span>1</span> <span class=\"missing\"><span class=\"f\">missing=</span>1</span> <span class=\"type xft\"><span class=\"f\">type=</span>reading</span></div></div></div></div></div></div></div>"
      ],
      "text/plain": [
       "<IPython.core.display.HTML object>"
      ]
     },
     "metadata": {},
     "output_type": "display_data"
    }
   ],
   "source": [
    "A.show(results, start=4, end=4, baseType=\"sign\", colorMap={0: '', 2: 'cyan', 3: 'magenta', 4: 'lightsalmon'})"
   ]
  },
  {
   "cell_type": "markdown",
   "metadata": {},
   "source": [
    "# Show your own tuples\n",
    "\n",
    "So far we have `show()`n the results of searches.\n",
    "But you can also construct your own tuples and show them.\n",
    "\n",
    "Whereas you can use search to get a pretty good approximation of what you want, most of the times\n",
    "you do not arrive precisely at your destination.\n",
    "\n",
    "Here is an example where we use search to come close, and then work our way to produce the end result.\n",
    "\n",
    "## More missing than damaged\n",
    "\n",
    "We look for lines that have more missing signs than damaged signs.\n",
    "\n",
    "In our search templates we cannot formulate that a feature has different values on two nodes in the template.\n",
    "We could spell out all possible combinations of values and make a search template for each of them, \n",
    "but that is needlessly complex.\n",
    "\n",
    "Let's first use search to find all clauses containing missing and damaged signs."
   ]
  },
  {
   "cell_type": "code",
   "execution_count": 44,
   "metadata": {
    "ExecuteTime": {
     "end_time": "2018-05-24T07:51:05.187418Z",
     "start_time": "2018-05-24T07:51:02.450365Z"
    }
   },
   "outputs": [
    {
     "name": "stdout",
     "output_type": "stream",
     "text": [
      "  0.36s 9900 results\n"
     ]
    }
   ],
   "source": [
    "query = '''\n",
    "line\n",
    "  sign missing\n",
    "  sign damage\n",
    "'''\n",
    "results = A.search(query)"
   ]
  },
  {
   "cell_type": "markdown",
   "metadata": {},
   "source": [
    "Now the hand coding begins. We are going to extract the tuples we want."
   ]
  },
  {
   "cell_type": "code",
   "execution_count": 45,
   "metadata": {
    "ExecuteTime": {
     "end_time": "2018-05-24T07:51:06.901462Z",
     "start_time": "2018-05-24T07:51:06.878281Z"
    }
   },
   "outputs": [
    {
     "name": "stdout",
     "output_type": "stream",
     "text": [
      "3031 lines\n"
     ]
    }
   ],
   "source": [
    "lines = {}\n",
    "for (l, m, d) in results:\n",
    "  lines.setdefault(l, (set(), set()))\n",
    "  lines[l][0].add(m)\n",
    "  lines[l][1].add(d)\n",
    "print(f'{len(lines)} lines')"
   ]
  },
  {
   "cell_type": "markdown",
   "metadata": {},
   "source": [
    "Now we have all lines with both missing and damaged signs, without duplicates.\n",
    "\n",
    "For each line we have a set with its missing signs and one with its damaged signs.\n",
    "\n",
    "We filter in order to retain the lines with more missing than damaged signs.\n",
    "We put all missing signs in one big set and all damaged signs in one big set."
   ]
  },
  {
   "cell_type": "code",
   "execution_count": 46,
   "metadata": {},
   "outputs": [
    {
     "data": {
      "text/plain": [
       "1345"
      ]
     },
     "execution_count": 46,
     "metadata": {},
     "output_type": "execute_result"
    }
   ],
   "source": [
    "answer = []\n",
    "missing = set()\n",
    "damage = set()\n",
    "\n",
    "for (l, (m, d)) in lines.items():\n",
    "  if len(m) > len(d):\n",
    "    answer.append((l, *m, *d))\n",
    "    missing |= m\n",
    "    damage |= d\n",
    "len(answer)"
   ]
  },
  {
   "cell_type": "code",
   "execution_count": 47,
   "metadata": {},
   "outputs": [
    {
     "data": {
      "text/plain": [
       "(230894, 955, 956, 954)"
      ]
     },
     "execution_count": 47,
     "metadata": {},
     "output_type": "execute_result"
    }
   ],
   "source": [
    "answer[0]"
   ]
  },
  {
   "cell_type": "markdown",
   "metadata": {},
   "source": [
    "We are going to make a dictionary of highligts: one color for the missing signs and one for the damaged."
   ]
  },
  {
   "cell_type": "code",
   "execution_count": 48,
   "metadata": {},
   "outputs": [],
   "source": [
    "highlights = {}\n",
    "colorM = 'lightsalmon'\n",
    "colorD = 'mediumaquamarine'\n",
    "for s in missing:\n",
    "  highlights[s] = colorM\n",
    "for s in damage:\n",
    "  highlights[s] = colorD"
   ]
  },
  {
   "cell_type": "markdown",
   "metadata": {},
   "source": [
    "And now we can show them:"
   ]
  },
  {
   "cell_type": "code",
   "execution_count": 49,
   "metadata": {},
   "outputs": [
    {
     "data": {
      "text/html": [
       "<table>\n",
       "<tr class=\"tf\">\n",
       "  <th class=\"tf\">n</th><th class=\"tf\">p</th>\n",
       "  <th class=\"tf\">line</th><th>sign</th><th>sign</th><th>sign</th>\n",
       "</tr>\n",
       "\n",
       "<tr class=\"tf\"><td class=\"tf\">1</td><td class=\"tf\"> <a href=\"https://cdli.ucla.edu/search/search_results.php?SearchMode=Text&amp;ObjectID=P509377\" title=\"show this document on CDLI\" sec=\"P509377 reverse:2\">P509377 reverse:2</a></td><td class=\"tf\"><span class=\"plain outer  \" ><span class=\"plain\"><span class=\"plain \" ><span class=\"plain \" ><span class=\"txtp\">_sze_ </span></span></span><span class=\"plain \" ><span class=\"plain \" ><span class=\"txtp\">u3 </span></span></span><span class=\"plain \" ><span class=\"plain \" ><span class=\"txtp\">_ku3-</span></span><span class=\"plain \" ><span class=\"txtp\">babbar_ </span></span></span><span class=\"plain \" ><span class=\"plain \" ><span class=\"txtp\">ad-</span></span><span class=\"plain \" ><span class=\"txtp\">di-</span></span><span class=\"plain \" ><span class=\"txtp\">na-</span></span><span class=\"plain hlbx\"  style=\"border-color: mediumaquamarine;\" ><span class=\"txtp\">ak#-</span></span><span class=\"plain hlbx\"  style=\"border-color: lightsalmon;\" ><span class=\"txtp\">[kum-</span></span><span class=\"plain hlbx\"  style=\"border-color: lightsalmon;\" ><span class=\"txtp\">ma]</span></span></span></span></span></td><td class=\"tf\"><span class=\"plain outer  hlbx\"  style=\"border-color: lightsalmon;\" ><span class=\"txtp\">[kum-</span></span></td><td class=\"tf\"><span class=\"plain outer  hlbx\"  style=\"border-color: lightsalmon;\" ><span class=\"txtp\">ma]</span></span></td><td class=\"tf\"><span class=\"plain outer  hlbx\"  style=\"border-color: mediumaquamarine;\" ><span class=\"txtp\">ak#-</span></span></td></tr>\n",
       "<tr class=\"tf\"><td class=\"tf\">2</td><td class=\"tf\"> <a href=\"https://cdli.ucla.edu/search/search_results.php?SearchMode=Text&amp;ObjectID=P481192\" title=\"show this document on CDLI\" sec=\"P481192 obverse:10'\">P481192 obverse:10'</a></td><td class=\"tf\"><span class=\"plain outer  \" ><span class=\"plain\"><span class=\"plain \" ><span class=\"plain \" ><span class=\"txtp\">_a-</span></span><span class=\"plain \" ><span class=\"txtp\">sza3_ </span></span></span><span class=\"plain \" ><span class=\"plain \" ><span class=\"txtp\">u2-</span></span><span class=\"plain \" ><span class=\"txtp\">ul </span></span></span><span class=\"plain \" ><span class=\"plain \" ><span class=\"txtp\">e-</span></span><span class=\"plain hlbx\"  style=\"border-color: mediumaquamarine;\" ><span class=\"txtp\">ri#-</span></span><span class=\"plain hlbx\"  style=\"border-color: lightsalmon;\" ><span class=\"txtp\">[isz </span></span></span><span class=\"plain \" ><span class=\"plain hlbx\"  style=\"border-color: lightsalmon;\" ><span class=\"txtp\">...]</span></span></span></span></span></td><td class=\"tf\"><span class=\"plain outer  hlbx\"  style=\"border-color: lightsalmon;\" ><span class=\"txtp\">[isz </span></span></td><td class=\"tf\"><span class=\"plain outer  hlbx\"  style=\"border-color: lightsalmon;\" ><span class=\"txtp\">...]</span></span></td><td class=\"tf\"><span class=\"plain outer  hlbx\"  style=\"border-color: mediumaquamarine;\" ><span class=\"txtp\">ri#-</span></span></td></tr>\n",
       "<tr class=\"tf\"><td class=\"tf\">3</td><td class=\"tf\"> <a href=\"https://cdli.ucla.edu/search/search_results.php?SearchMode=Text&amp;ObjectID=P481192\" title=\"show this document on CDLI\" sec=\"P481192 obverse:13'\">P481192 obverse:13'</a></td><td class=\"tf\"><span class=\"plain outer  \" ><span class=\"plain\"><span class=\"plain \" ><span class=\"plain hlbx\"  style=\"border-color: lightsalmon;\" ><span class=\"txtp\">[x </span></span></span><span class=\"plain \" ><span class=\"plain hlbx\"  style=\"border-color: lightsalmon;\" ><span class=\"txtp\">(x)] </span></span></span><span class=\"plain \" ><span class=\"plain \" ><span class=\"txtp\">x-</span></span><span class=\"plain \" ><span class=\"txtp\">a-</span></span><span class=\"plain \" ><span class=\"txtp\">tum </span></span></span><span class=\"plain \" ><span class=\"plain \" ><span class=\"txtp\">it-</span></span><span class=\"plain hlbx\"  style=\"border-color: mediumaquamarine;\" ><span class=\"txtp\">ta#-</span></span><span class=\"plain \" ><span class=\"txtp\">za-</span></span><span class=\"plain \" ><span class=\"txtp\">az-</span></span><span class=\"plain \" ><span class=\"txtp\">za </span></span></span><span class=\"plain \" ><span class=\"plain \" ><span class=\"txtp\">i-</span></span><span class=\"plain \" ><span class=\"txtp\">mu-</span></span><span class=\"plain \" ><span class=\"txtp\">ut-</span></span><span class=\"plain \" ><span class=\"txtp\">ta</span></span></span></span></span></td><td class=\"tf\"><span class=\"plain outer  hlbx\"  style=\"border-color: lightsalmon;\" ><span class=\"txtp\">[x </span></span></td><td class=\"tf\"><span class=\"plain outer  hlbx\"  style=\"border-color: lightsalmon;\" ><span class=\"txtp\">(x)] </span></span></td><td class=\"tf\"><span class=\"plain outer  hlbx\"  style=\"border-color: mediumaquamarine;\" ><span class=\"txtp\">ta#-</span></span></td></tr>\n",
       "<tr class=\"tf\"><td class=\"tf\">4</td><td class=\"tf\"> <a href=\"https://cdli.ucla.edu/search/search_results.php?SearchMode=Text&amp;ObjectID=P481192\" title=\"show this document on CDLI\" sec=\"P481192 obverse:14'\">P481192 obverse:14'</a></td><td class=\"tf\"><span class=\"plain outer  \" ><span class=\"plain\"><span class=\"plain \" ><span class=\"plain hlbx\"  style=\"border-color: lightsalmon;\" ><span class=\"txtp\">[...] </span></span></span><span class=\"plain \" ><span class=\"plain \" ><span class=\"txtp\">x </span></span></span><span class=\"plain \" ><span class=\"plain \" ><span class=\"txtp\">tup-</span></span><span class=\"plain hlbx\"  style=\"border-color: mediumaquamarine;\" ><span class=\"txtp\">pu# </span></span></span><span class=\"plain \" ><span class=\"plain hlbx\"  style=\"border-color: lightsalmon;\" ><span class=\"txtp\">[x </span></span></span><span class=\"plain \" ><span class=\"plain hlbx\"  style=\"border-color: lightsalmon;\" ><span class=\"txtp\">x] </span></span></span><span class=\"plain \" ><span class=\"plain \" ><span class=\"txtp\">a-</span></span><span class=\"plain hlbx\"  style=\"border-color: mediumaquamarine;\" ><span class=\"txtp\">na# </span></span></span><span class=\"plain \" ><span class=\"plain hlbx\"  style=\"border-color: mediumaquamarine;\" ><span class=\"txtp\">ma#-</span></span><span class=\"plain \" ><span class=\"txtp\">har </span></span></span><span class=\"plain \" ><span class=\"plain \" ><span class=\"txtp\">a-</span></span><span class=\"plain hlbx\"  style=\"border-color: lightsalmon;\" ><span class=\"txtp\">[wi-</span></span><span class=\"plain hlbx\"  style=\"border-color: lightsalmon;\" ><span class=\"txtp\">le-</span></span><span class=\"plain hlbx\"  style=\"border-color: lightsalmon;\" ><span class=\"txtp\">e]</span></span></span></span></span></td><td class=\"tf\"><span class=\"plain outer  hlbx\"  style=\"border-color: lightsalmon;\" ><span class=\"txtp\">[...] </span></span></td><td class=\"tf\"><span class=\"plain outer  hlbx\"  style=\"border-color: lightsalmon;\" ><span class=\"txtp\">[x </span></span></td><td class=\"tf\"><span class=\"plain outer  hlbx\"  style=\"border-color: lightsalmon;\" ><span class=\"txtp\">x] </span></span></td><td class=\"tf\"><span class=\"plain outer  hlbx\"  style=\"border-color: lightsalmon;\" ><span class=\"txtp\">[wi-</span></span></td><td class=\"tf\"><span class=\"plain outer  hlbx\"  style=\"border-color: lightsalmon;\" ><span class=\"txtp\">le-</span></span></td><td class=\"tf\"><span class=\"plain outer  hlbx\"  style=\"border-color: lightsalmon;\" ><span class=\"txtp\">e]</span></span></td><td class=\"tf\"><span class=\"plain outer  hlbx\"  style=\"border-color: mediumaquamarine;\" ><span class=\"txtp\">na# </span></span></td><td class=\"tf\"><span class=\"plain outer  hlbx\"  style=\"border-color: mediumaquamarine;\" ><span class=\"txtp\">ma#-</span></span></td><td class=\"tf\"><span class=\"plain outer  hlbx\"  style=\"border-color: mediumaquamarine;\" ><span class=\"txtp\">pu# </span></span></td></tr>\n",
       "<tr class=\"tf\"><td class=\"tf\">5</td><td class=\"tf\"> <a href=\"https://cdli.ucla.edu/search/search_results.php?SearchMode=Text&amp;ObjectID=P481192\" title=\"show this document on CDLI\" sec=\"P481192 reverse:13'\">P481192 reverse:13'</a></td><td class=\"tf\"><span class=\"plain outer  \" ><span class=\"plain\"><span class=\"plain \" ><span class=\"plain hlbx\"  style=\"border-color: lightsalmon;\" ><span class=\"txtp\">[x </span></span></span><span class=\"plain \" ><span class=\"plain hlbx\"  style=\"border-color: lightsalmon;\" ><span class=\"txtp\">(x)] </span></span></span><span class=\"plain \" ><span class=\"plain \" ><span class=\"txtp\">x-</span></span><span class=\"plain \" ><span class=\"txtp\">ma </span></span></span><span class=\"plain \" ><span class=\"plain \" ><span class=\"txtp\">a-</span></span><span class=\"plain \" ><span class=\"txtp\">na </span></span></span><span class=\"plain \" ><span class=\"plain \" ><span class=\"txtp\">ma-</span></span><span class=\"plain \" ><span class=\"txtp\">ah-</span></span><span class=\"plain hlbx\"  style=\"border-color: mediumaquamarine;\" ><span class=\"txtp\">ri#-</span></span><span class=\"plain hlbx\"  style=\"border-color: mediumaquamarine;\" ><span class=\"txtp\">ka# </span></span></span><span class=\"plain \" ><span class=\"plain \" ><span class=\"txtp\">il-</span></span><span class=\"plain \" ><span class=\"txtp\">li-</span></span><span class=\"plain \" ><span class=\"txtp\">kam </span></span></span><span class=\"plain \" ><span class=\"plain \" ><span class=\"txtp\">x </span></span></span><span class=\"plain \" ><span class=\"plain \" ><span class=\"txtp\">x </span></span></span><span class=\"plain \" ><span class=\"plain hlbx\"  style=\"border-color: lightsalmon;\" ><span class=\"txtp\">[(x) </span></span></span><span class=\"plain \" ><span class=\"plain hlbx\"  style=\"border-color: lightsalmon;\" ><span class=\"txtp\">(x)]</span></span></span></span></span></td><td class=\"tf\"><span class=\"plain outer  hlbx\"  style=\"border-color: lightsalmon;\" ><span class=\"txtp\">(x)]</span></span></td><td class=\"tf\"><span class=\"plain outer  hlbx\"  style=\"border-color: lightsalmon;\" ><span class=\"txtp\">[(x) </span></span></td><td class=\"tf\"><span class=\"plain outer  hlbx\"  style=\"border-color: lightsalmon;\" ><span class=\"txtp\">[x </span></span></td><td class=\"tf\"><span class=\"plain outer  hlbx\"  style=\"border-color: lightsalmon;\" ><span class=\"txtp\">(x)] </span></span></td><td class=\"tf\"><span class=\"plain outer  hlbx\"  style=\"border-color: mediumaquamarine;\" ><span class=\"txtp\">ri#-</span></span></td><td class=\"tf\"><span class=\"plain outer  hlbx\"  style=\"border-color: mediumaquamarine;\" ><span class=\"txtp\">ka# </span></span></td></tr>\n",
       "<tr class=\"tf\"><td class=\"tf\">6</td><td class=\"tf\"> <a href=\"https://cdli.ucla.edu/search/search_results.php?SearchMode=Text&amp;ObjectID=P389256\" title=\"show this document on CDLI\" sec=\"P389256 obverse:4'\">P389256 obverse:4'</a></td><td class=\"tf\"><span class=\"plain outer  \" ><span class=\"plain\"><span class=\"plain \" ><span class=\"plain \" ><span class=\"txtp\">uz-</span></span><span class=\"plain \" ><span class=\"txtp\">ni-</span></span><span class=\"plain \" ><span class=\"txtp\">ia </span></span></span><span class=\"plain \" ><span class=\"plain hlbx\"  style=\"border-color: mediumaquamarine;\" ><span class=\"txtp\">li#-</span></span><span class=\"plain hlbx\"  style=\"border-color: lightsalmon;\" ><span class=\"txtp\">[x </span></span></span><span class=\"plain \" ><span class=\"plain hlbx\"  style=\"border-color: lightsalmon;\" ><span class=\"txtp\">...]</span></span></span></span></span></td><td class=\"tf\"><span class=\"plain outer  hlbx\"  style=\"border-color: lightsalmon;\" ><span class=\"txtp\">[x </span></span></td><td class=\"tf\"><span class=\"plain outer  hlbx\"  style=\"border-color: lightsalmon;\" ><span class=\"txtp\">...]</span></span></td><td class=\"tf\"><span class=\"plain outer  hlbx\"  style=\"border-color: mediumaquamarine;\" ><span class=\"txtp\">li#-</span></span></td></tr>\n",
       "<tr class=\"tf\"><td class=\"tf\">7</td><td class=\"tf\"> <a href=\"https://cdli.ucla.edu/search/search_results.php?SearchMode=Text&amp;ObjectID=P389256\" title=\"show this document on CDLI\" sec=\"P389256 left:2\">P389256 left:2</a></td><td class=\"tf\"><span class=\"plain outer  \" ><span class=\"plain\"><span class=\"plain \" ><span class=\"plain hlbx\"  style=\"border-color: lightsalmon;\" ><span class=\"txtp\">[...] </span></span></span><span class=\"plain \" ><span class=\"plain \" ><span class=\"txtp\">i-</span></span><span class=\"plain \" ><span class=\"txtp\">di-</span></span><span class=\"plain hlbx\"  style=\"border-color: mediumaquamarine;\" ><span class=\"txtp\">in# </span></span></span><span class=\"plain \" ><span class=\"plain hlbx\"  style=\"border-color: lightsalmon;\" ><span class=\"txtp\">[...]</span></span></span></span></span></td><td class=\"tf\"><span class=\"plain outer  hlbx\"  style=\"border-color: lightsalmon;\" ><span class=\"txtp\">[...] </span></span></td><td class=\"tf\"><span class=\"plain outer  hlbx\"  style=\"border-color: lightsalmon;\" ><span class=\"txtp\">[...]</span></span></td><td class=\"tf\"><span class=\"plain outer  hlbx\"  style=\"border-color: mediumaquamarine;\" ><span class=\"txtp\">in# </span></span></td></tr>\n",
       "<tr class=\"tf\"><td class=\"tf\">8</td><td class=\"tf\"> <a href=\"https://cdli.ucla.edu/search/search_results.php?SearchMode=Text&amp;ObjectID=P510527\" title=\"show this document on CDLI\" sec=\"P510527 reverse:1\">P510527 reverse:1</a></td><td class=\"tf\"><span class=\"plain outer  \" ><span class=\"plain\"><span class=\"plain \" ><span class=\"plain hlbx\"  style=\"border-color: lightsalmon;\" ><span class=\"txtp\">[a-</span></span><span class=\"plain hlbx\"  style=\"border-color: lightsalmon;\" ><span class=\"txtp\">wi]-</span></span><span class=\"plain hlbx\"  style=\"border-color: mediumaquamarine;\" ><span class=\"txtp\">lu#-</span></span><span class=\"plain \" ><span class=\"txtp\">u2 </span></span></span><span class=\"plain \" ><span class=\"plain \" ><span class=\"txtp\">i-</span></span><span class=\"plain \" ><span class=\"txtp\">na </span></span></span><span class=\"plain \" ><span class=\"plain \" ><span class=\"txtp\">mu-</span></span><span class=\"plain \" ><span class=\"txtp\">uh2-</span></span><span class=\"plain \" ><span class=\"txtp\">hi </span></span></span><span class=\"plain \" ><span class=\"plain \" ><span class=\"txtp\">ip-</span></span><span class=\"plain \" ><span class=\"txtp\">qu2-</span></span><span class=\"plain \" ><span class=\"txtp\">i3-</span></span><span class=\"plain \" ><span class=\"txtp\">li2-</span></span><span class=\"plain \" ><span class=\"txtp\">szu </span></span></span><span class=\"plain \" ><span class=\"plain \" ><span class=\"txtp\">_di-</span></span><span class=\"plain \" ><span class=\"txtp\">ku5_</span></span></span></span></span></td><td class=\"tf\"><span class=\"plain outer  hlbx\"  style=\"border-color: lightsalmon;\" ><span class=\"txtp\">[a-</span></span></td><td class=\"tf\"><span class=\"plain outer  hlbx\"  style=\"border-color: lightsalmon;\" ><span class=\"txtp\">wi]-</span></span></td><td class=\"tf\"><span class=\"plain outer  hlbx\"  style=\"border-color: mediumaquamarine;\" ><span class=\"txtp\">lu#-</span></span></td></tr>\n",
       "<tr class=\"tf\"><td class=\"tf\">9</td><td class=\"tf\"> <a href=\"https://cdli.ucla.edu/search/search_results.php?SearchMode=Text&amp;ObjectID=P510528\" title=\"show this document on CDLI\" sec=\"P510528 reverse:1\">P510528 reverse:1</a></td><td class=\"tf\"><span class=\"plain outer  \" ><span class=\"plain\"><span class=\"plain \" ><span class=\"plain hlbx\"  style=\"border-color: lightsalmon;\" ><span class=\"txtp\">[x </span></span></span><span class=\"plain \" ><span class=\"plain hlbx\"  style=\"border-color: lightsalmon;\" ><span class=\"txtp\">x] </span></span></span><span class=\"plain \" ><span class=\"plain \" ><span class=\"txtp\">x </span></span></span><span class=\"plain \" ><span class=\"plain \" ><span class=\"txtp\">x </span></span></span><span class=\"plain \" ><span class=\"plain hlbx\"  style=\"border-color: mediumaquamarine;\" ><span class=\"txtp\">ra# </span></span></span><span class=\"plain \" ><span class=\"plain hlbx\"  style=\"border-color: lightsalmon;\" ><span class=\"txtp\">[...] </span></span></span><span class=\"plain \" ><span class=\"plain hlbx\"  style=\"border-color: lightsalmon;\" ><span class=\"txtp\">[tup]-</span></span><span class=\"plain hlbx\"  style=\"border-color: mediumaquamarine;\" ><span class=\"txtp\">pi2#-</span></span><span class=\"plain hlbx\"  style=\"border-color: mediumaquamarine;\" ><span class=\"txtp\">im# </span></span></span><span class=\"plain \" ><span class=\"plain \" ><span class=\"txtp\">lu </span></span></span><span class=\"plain \" ><span class=\"plain \" ><span class=\"txtp\">x </span></span></span><span class=\"plain \" ><span class=\"plain hlbx\"  style=\"border-color: lightsalmon;\" ><span class=\"txtp\">[x </span></span></span><span class=\"plain \" ><span class=\"plain hlbx\"  style=\"border-color: lightsalmon;\" ><span class=\"txtp\">x]</span></span></span></span></span></td><td class=\"tf\"><span class=\"plain outer  hlbx\"  style=\"border-color: lightsalmon;\" ><span class=\"txtp\">[x </span></span></td><td class=\"tf\"><span class=\"plain outer  hlbx\"  style=\"border-color: lightsalmon;\" ><span class=\"txtp\">x] </span></span></td><td class=\"tf\"><span class=\"plain outer  hlbx\"  style=\"border-color: lightsalmon;\" ><span class=\"txtp\">[...] </span></span></td><td class=\"tf\"><span class=\"plain outer  hlbx\"  style=\"border-color: lightsalmon;\" ><span class=\"txtp\">[tup]-</span></span></td><td class=\"tf\"><span class=\"plain outer  hlbx\"  style=\"border-color: lightsalmon;\" ><span class=\"txtp\">[x </span></span></td><td class=\"tf\"><span class=\"plain outer  hlbx\"  style=\"border-color: lightsalmon;\" ><span class=\"txtp\">x]</span></span></td><td class=\"tf\"><span class=\"plain outer  hlbx\"  style=\"border-color: mediumaquamarine;\" ><span class=\"txtp\">pi2#-</span></span></td><td class=\"tf\"><span class=\"plain outer  hlbx\"  style=\"border-color: mediumaquamarine;\" ><span class=\"txtp\">im# </span></span></td><td class=\"tf\"><span class=\"plain outer  hlbx\"  style=\"border-color: mediumaquamarine;\" ><span class=\"txtp\">ra# </span></span></td></tr>\n",
       "<tr class=\"tf\"><td class=\"tf\">10</td><td class=\"tf\"> <a href=\"https://cdli.ucla.edu/search/search_results.php?SearchMode=Text&amp;ObjectID=P510530\" title=\"show this document on CDLI\" sec=\"P510530 obverse:3\">P510530 obverse:3</a></td><td class=\"tf\"><span class=\"plain outer  \" ><span class=\"plain\"><span class=\"plain \" ><span class=\"plain hlbx\"  style=\"border-color: lightsalmon;\" ><span class=\"txtp\">[um-</span></span><span class=\"plain hlbx\"  style=\"border-color: lightsalmon;\" ><span class=\"txtp\">ma </span></span></span><span class=\"plain \" ><span class=\"plain hlbx\"  style=\"border-color: lightsalmon;\" ><span class=\"txtp\">{d}</span></span><span class=\"plain hlbx\"  style=\"border-color: lightsalmon;\" ><span class=\"txtp\">na-</span></span><span class=\"plain hlbx\"  style=\"border-color: lightsalmon;\" ><span class=\"txtp\">bi]-</span></span><span class=\"plain hlbx\"  style=\"border-color: mediumaquamarine;\" ><span class=\"txtp\">um#-</span></span><span class=\"plain \" ><span class=\"txtp\">na-</span></span><span class=\"plain \" ><span class=\"txtp\">s,i-</span></span><span class=\"plain \" ><span class=\"txtp\">ir-</span></span><span class=\"plain \" ><span class=\"txtp\">ma</span></span></span></span></span></td><td class=\"tf\"><span class=\"plain outer  hlbx\"  style=\"border-color: lightsalmon;\" ><span class=\"txtp\">[um-</span></span></td><td class=\"tf\"><span class=\"plain outer  hlbx\"  style=\"border-color: lightsalmon;\" ><span class=\"txtp\">ma </span></span></td><td class=\"tf\"><span class=\"plain outer  hlbx\"  style=\"border-color: lightsalmon;\" ><span class=\"txtp\">{d}</span></span></td><td class=\"tf\"><span class=\"plain outer  hlbx\"  style=\"border-color: lightsalmon;\" ><span class=\"txtp\">na-</span></span></td><td class=\"tf\"><span class=\"plain outer  hlbx\"  style=\"border-color: lightsalmon;\" ><span class=\"txtp\">bi]-</span></span></td><td class=\"tf\"><span class=\"plain outer  hlbx\"  style=\"border-color: mediumaquamarine;\" ><span class=\"txtp\">um#-</span></span></td></tr></table>"
      ],
      "text/plain": [
       "<IPython.core.display.HTML object>"
      ]
     },
     "metadata": {},
     "output_type": "display_data"
    }
   ],
   "source": [
    "A.table(answer, start=1, end=10, highlights=highlights)"
   ]
  },
  {
   "cell_type": "markdown",
   "metadata": {},
   "source": [
    "or, with a different type of highlighting, triggered by `baseType`:"
   ]
  },
  {
   "cell_type": "code",
   "execution_count": 50,
   "metadata": {},
   "outputs": [
    {
     "data": {
      "text/html": [
       "<table>\n",
       "<tr class=\"tf\">\n",
       "  <th class=\"tf\">n</th><th class=\"tf\">p</th>\n",
       "  <th class=\"tf\">line</th><th>sign</th><th>sign</th><th>sign</th>\n",
       "</tr>\n",
       "\n",
       "<tr class=\"tf\"><td class=\"tf\">1</td><td class=\"tf\"> <a href=\"https://cdli.ucla.edu/search/search_results.php?SearchMode=Text&amp;ObjectID=P509377\" title=\"show this document on CDLI\" sec=\"P509377 reverse:2\">P509377 reverse:2</a></td><td class=\"tf\"><span class=\"plain outer  \" ><span class=\"plain\"><span class=\"plain \" ><span class=\"plain \" ><span class=\"txtp\">_sze_ </span></span></span><span class=\"plain \" ><span class=\"plain \" ><span class=\"txtp\">u3 </span></span></span><span class=\"plain \" ><span class=\"plain \" ><span class=\"txtp\">_ku3-</span></span><span class=\"plain \" ><span class=\"txtp\">babbar_ </span></span></span><span class=\"plain \" ><span class=\"plain \" ><span class=\"txtp\">ad-</span></span><span class=\"plain \" ><span class=\"txtp\">di-</span></span><span class=\"plain \" ><span class=\"txtp\">na-</span></span><span class=\"plain hl\"  style=\"background-color: mediumaquamarine;\" ><span class=\"txtp\">ak#-</span></span><span class=\"plain hl\"  style=\"background-color: lightsalmon;\" ><span class=\"txtp\">[kum-</span></span><span class=\"plain hl\"  style=\"background-color: lightsalmon;\" ><span class=\"txtp\">ma]</span></span></span></span></span></td><td class=\"tf\"><span class=\"plain outer  hl\"  style=\"background-color: lightsalmon;\" ><span class=\"txtp\">[kum-</span></span></td><td class=\"tf\"><span class=\"plain outer  hl\"  style=\"background-color: lightsalmon;\" ><span class=\"txtp\">ma]</span></span></td><td class=\"tf\"><span class=\"plain outer  hl\"  style=\"background-color: mediumaquamarine;\" ><span class=\"txtp\">ak#-</span></span></td></tr>\n",
       "<tr class=\"tf\"><td class=\"tf\">2</td><td class=\"tf\"> <a href=\"https://cdli.ucla.edu/search/search_results.php?SearchMode=Text&amp;ObjectID=P481192\" title=\"show this document on CDLI\" sec=\"P481192 obverse:10'\">P481192 obverse:10'</a></td><td class=\"tf\"><span class=\"plain outer  \" ><span class=\"plain\"><span class=\"plain \" ><span class=\"plain \" ><span class=\"txtp\">_a-</span></span><span class=\"plain \" ><span class=\"txtp\">sza3_ </span></span></span><span class=\"plain \" ><span class=\"plain \" ><span class=\"txtp\">u2-</span></span><span class=\"plain \" ><span class=\"txtp\">ul </span></span></span><span class=\"plain \" ><span class=\"plain \" ><span class=\"txtp\">e-</span></span><span class=\"plain hl\"  style=\"background-color: mediumaquamarine;\" ><span class=\"txtp\">ri#-</span></span><span class=\"plain hl\"  style=\"background-color: lightsalmon;\" ><span class=\"txtp\">[isz </span></span></span><span class=\"plain \" ><span class=\"plain hl\"  style=\"background-color: lightsalmon;\" ><span class=\"txtp\">...]</span></span></span></span></span></td><td class=\"tf\"><span class=\"plain outer  hl\"  style=\"background-color: lightsalmon;\" ><span class=\"txtp\">[isz </span></span></td><td class=\"tf\"><span class=\"plain outer  hl\"  style=\"background-color: lightsalmon;\" ><span class=\"txtp\">...]</span></span></td><td class=\"tf\"><span class=\"plain outer  hl\"  style=\"background-color: mediumaquamarine;\" ><span class=\"txtp\">ri#-</span></span></td></tr>\n",
       "<tr class=\"tf\"><td class=\"tf\">3</td><td class=\"tf\"> <a href=\"https://cdli.ucla.edu/search/search_results.php?SearchMode=Text&amp;ObjectID=P481192\" title=\"show this document on CDLI\" sec=\"P481192 obverse:13'\">P481192 obverse:13'</a></td><td class=\"tf\"><span class=\"plain outer  \" ><span class=\"plain\"><span class=\"plain \" ><span class=\"plain hl\"  style=\"background-color: lightsalmon;\" ><span class=\"txtp\">[x </span></span></span><span class=\"plain \" ><span class=\"plain hl\"  style=\"background-color: lightsalmon;\" ><span class=\"txtp\">(x)] </span></span></span><span class=\"plain \" ><span class=\"plain \" ><span class=\"txtp\">x-</span></span><span class=\"plain \" ><span class=\"txtp\">a-</span></span><span class=\"plain \" ><span class=\"txtp\">tum </span></span></span><span class=\"plain \" ><span class=\"plain \" ><span class=\"txtp\">it-</span></span><span class=\"plain hl\"  style=\"background-color: mediumaquamarine;\" ><span class=\"txtp\">ta#-</span></span><span class=\"plain \" ><span class=\"txtp\">za-</span></span><span class=\"plain \" ><span class=\"txtp\">az-</span></span><span class=\"plain \" ><span class=\"txtp\">za </span></span></span><span class=\"plain \" ><span class=\"plain \" ><span class=\"txtp\">i-</span></span><span class=\"plain \" ><span class=\"txtp\">mu-</span></span><span class=\"plain \" ><span class=\"txtp\">ut-</span></span><span class=\"plain \" ><span class=\"txtp\">ta</span></span></span></span></span></td><td class=\"tf\"><span class=\"plain outer  hl\"  style=\"background-color: lightsalmon;\" ><span class=\"txtp\">[x </span></span></td><td class=\"tf\"><span class=\"plain outer  hl\"  style=\"background-color: lightsalmon;\" ><span class=\"txtp\">(x)] </span></span></td><td class=\"tf\"><span class=\"plain outer  hl\"  style=\"background-color: mediumaquamarine;\" ><span class=\"txtp\">ta#-</span></span></td></tr>\n",
       "<tr class=\"tf\"><td class=\"tf\">4</td><td class=\"tf\"> <a href=\"https://cdli.ucla.edu/search/search_results.php?SearchMode=Text&amp;ObjectID=P481192\" title=\"show this document on CDLI\" sec=\"P481192 obverse:14'\">P481192 obverse:14'</a></td><td class=\"tf\"><span class=\"plain outer  \" ><span class=\"plain\"><span class=\"plain \" ><span class=\"plain hl\"  style=\"background-color: lightsalmon;\" ><span class=\"txtp\">[...] </span></span></span><span class=\"plain \" ><span class=\"plain \" ><span class=\"txtp\">x </span></span></span><span class=\"plain \" ><span class=\"plain \" ><span class=\"txtp\">tup-</span></span><span class=\"plain hl\"  style=\"background-color: mediumaquamarine;\" ><span class=\"txtp\">pu# </span></span></span><span class=\"plain \" ><span class=\"plain hl\"  style=\"background-color: lightsalmon;\" ><span class=\"txtp\">[x </span></span></span><span class=\"plain \" ><span class=\"plain hl\"  style=\"background-color: lightsalmon;\" ><span class=\"txtp\">x] </span></span></span><span class=\"plain \" ><span class=\"plain \" ><span class=\"txtp\">a-</span></span><span class=\"plain hl\"  style=\"background-color: mediumaquamarine;\" ><span class=\"txtp\">na# </span></span></span><span class=\"plain \" ><span class=\"plain hl\"  style=\"background-color: mediumaquamarine;\" ><span class=\"txtp\">ma#-</span></span><span class=\"plain \" ><span class=\"txtp\">har </span></span></span><span class=\"plain \" ><span class=\"plain \" ><span class=\"txtp\">a-</span></span><span class=\"plain hl\"  style=\"background-color: lightsalmon;\" ><span class=\"txtp\">[wi-</span></span><span class=\"plain hl\"  style=\"background-color: lightsalmon;\" ><span class=\"txtp\">le-</span></span><span class=\"plain hl\"  style=\"background-color: lightsalmon;\" ><span class=\"txtp\">e]</span></span></span></span></span></td><td class=\"tf\"><span class=\"plain outer  hl\"  style=\"background-color: lightsalmon;\" ><span class=\"txtp\">[...] </span></span></td><td class=\"tf\"><span class=\"plain outer  hl\"  style=\"background-color: lightsalmon;\" ><span class=\"txtp\">[x </span></span></td><td class=\"tf\"><span class=\"plain outer  hl\"  style=\"background-color: lightsalmon;\" ><span class=\"txtp\">x] </span></span></td><td class=\"tf\"><span class=\"plain outer  hl\"  style=\"background-color: lightsalmon;\" ><span class=\"txtp\">[wi-</span></span></td><td class=\"tf\"><span class=\"plain outer  hl\"  style=\"background-color: lightsalmon;\" ><span class=\"txtp\">le-</span></span></td><td class=\"tf\"><span class=\"plain outer  hl\"  style=\"background-color: lightsalmon;\" ><span class=\"txtp\">e]</span></span></td><td class=\"tf\"><span class=\"plain outer  hl\"  style=\"background-color: mediumaquamarine;\" ><span class=\"txtp\">na# </span></span></td><td class=\"tf\"><span class=\"plain outer  hl\"  style=\"background-color: mediumaquamarine;\" ><span class=\"txtp\">ma#-</span></span></td><td class=\"tf\"><span class=\"plain outer  hl\"  style=\"background-color: mediumaquamarine;\" ><span class=\"txtp\">pu# </span></span></td></tr>\n",
       "<tr class=\"tf\"><td class=\"tf\">5</td><td class=\"tf\"> <a href=\"https://cdli.ucla.edu/search/search_results.php?SearchMode=Text&amp;ObjectID=P481192\" title=\"show this document on CDLI\" sec=\"P481192 reverse:13'\">P481192 reverse:13'</a></td><td class=\"tf\"><span class=\"plain outer  \" ><span class=\"plain\"><span class=\"plain \" ><span class=\"plain hl\"  style=\"background-color: lightsalmon;\" ><span class=\"txtp\">[x </span></span></span><span class=\"plain \" ><span class=\"plain hl\"  style=\"background-color: lightsalmon;\" ><span class=\"txtp\">(x)] </span></span></span><span class=\"plain \" ><span class=\"plain \" ><span class=\"txtp\">x-</span></span><span class=\"plain \" ><span class=\"txtp\">ma </span></span></span><span class=\"plain \" ><span class=\"plain \" ><span class=\"txtp\">a-</span></span><span class=\"plain \" ><span class=\"txtp\">na </span></span></span><span class=\"plain \" ><span class=\"plain \" ><span class=\"txtp\">ma-</span></span><span class=\"plain \" ><span class=\"txtp\">ah-</span></span><span class=\"plain hl\"  style=\"background-color: mediumaquamarine;\" ><span class=\"txtp\">ri#-</span></span><span class=\"plain hl\"  style=\"background-color: mediumaquamarine;\" ><span class=\"txtp\">ka# </span></span></span><span class=\"plain \" ><span class=\"plain \" ><span class=\"txtp\">il-</span></span><span class=\"plain \" ><span class=\"txtp\">li-</span></span><span class=\"plain \" ><span class=\"txtp\">kam </span></span></span><span class=\"plain \" ><span class=\"plain \" ><span class=\"txtp\">x </span></span></span><span class=\"plain \" ><span class=\"plain \" ><span class=\"txtp\">x </span></span></span><span class=\"plain \" ><span class=\"plain hl\"  style=\"background-color: lightsalmon;\" ><span class=\"txtp\">[(x) </span></span></span><span class=\"plain \" ><span class=\"plain hl\"  style=\"background-color: lightsalmon;\" ><span class=\"txtp\">(x)]</span></span></span></span></span></td><td class=\"tf\"><span class=\"plain outer  hl\"  style=\"background-color: lightsalmon;\" ><span class=\"txtp\">(x)]</span></span></td><td class=\"tf\"><span class=\"plain outer  hl\"  style=\"background-color: lightsalmon;\" ><span class=\"txtp\">[(x) </span></span></td><td class=\"tf\"><span class=\"plain outer  hl\"  style=\"background-color: lightsalmon;\" ><span class=\"txtp\">[x </span></span></td><td class=\"tf\"><span class=\"plain outer  hl\"  style=\"background-color: lightsalmon;\" ><span class=\"txtp\">(x)] </span></span></td><td class=\"tf\"><span class=\"plain outer  hl\"  style=\"background-color: mediumaquamarine;\" ><span class=\"txtp\">ri#-</span></span></td><td class=\"tf\"><span class=\"plain outer  hl\"  style=\"background-color: mediumaquamarine;\" ><span class=\"txtp\">ka# </span></span></td></tr>\n",
       "<tr class=\"tf\"><td class=\"tf\">6</td><td class=\"tf\"> <a href=\"https://cdli.ucla.edu/search/search_results.php?SearchMode=Text&amp;ObjectID=P389256\" title=\"show this document on CDLI\" sec=\"P389256 obverse:4'\">P389256 obverse:4'</a></td><td class=\"tf\"><span class=\"plain outer  \" ><span class=\"plain\"><span class=\"plain \" ><span class=\"plain \" ><span class=\"txtp\">uz-</span></span><span class=\"plain \" ><span class=\"txtp\">ni-</span></span><span class=\"plain \" ><span class=\"txtp\">ia </span></span></span><span class=\"plain \" ><span class=\"plain hl\"  style=\"background-color: mediumaquamarine;\" ><span class=\"txtp\">li#-</span></span><span class=\"plain hl\"  style=\"background-color: lightsalmon;\" ><span class=\"txtp\">[x </span></span></span><span class=\"plain \" ><span class=\"plain hl\"  style=\"background-color: lightsalmon;\" ><span class=\"txtp\">...]</span></span></span></span></span></td><td class=\"tf\"><span class=\"plain outer  hl\"  style=\"background-color: lightsalmon;\" ><span class=\"txtp\">[x </span></span></td><td class=\"tf\"><span class=\"plain outer  hl\"  style=\"background-color: lightsalmon;\" ><span class=\"txtp\">...]</span></span></td><td class=\"tf\"><span class=\"plain outer  hl\"  style=\"background-color: mediumaquamarine;\" ><span class=\"txtp\">li#-</span></span></td></tr>\n",
       "<tr class=\"tf\"><td class=\"tf\">7</td><td class=\"tf\"> <a href=\"https://cdli.ucla.edu/search/search_results.php?SearchMode=Text&amp;ObjectID=P389256\" title=\"show this document on CDLI\" sec=\"P389256 left:2\">P389256 left:2</a></td><td class=\"tf\"><span class=\"plain outer  \" ><span class=\"plain\"><span class=\"plain \" ><span class=\"plain hl\"  style=\"background-color: lightsalmon;\" ><span class=\"txtp\">[...] </span></span></span><span class=\"plain \" ><span class=\"plain \" ><span class=\"txtp\">i-</span></span><span class=\"plain \" ><span class=\"txtp\">di-</span></span><span class=\"plain hl\"  style=\"background-color: mediumaquamarine;\" ><span class=\"txtp\">in# </span></span></span><span class=\"plain \" ><span class=\"plain hl\"  style=\"background-color: lightsalmon;\" ><span class=\"txtp\">[...]</span></span></span></span></span></td><td class=\"tf\"><span class=\"plain outer  hl\"  style=\"background-color: lightsalmon;\" ><span class=\"txtp\">[...] </span></span></td><td class=\"tf\"><span class=\"plain outer  hl\"  style=\"background-color: lightsalmon;\" ><span class=\"txtp\">[...]</span></span></td><td class=\"tf\"><span class=\"plain outer  hl\"  style=\"background-color: mediumaquamarine;\" ><span class=\"txtp\">in# </span></span></td></tr>\n",
       "<tr class=\"tf\"><td class=\"tf\">8</td><td class=\"tf\"> <a href=\"https://cdli.ucla.edu/search/search_results.php?SearchMode=Text&amp;ObjectID=P510527\" title=\"show this document on CDLI\" sec=\"P510527 reverse:1\">P510527 reverse:1</a></td><td class=\"tf\"><span class=\"plain outer  \" ><span class=\"plain\"><span class=\"plain \" ><span class=\"plain hl\"  style=\"background-color: lightsalmon;\" ><span class=\"txtp\">[a-</span></span><span class=\"plain hl\"  style=\"background-color: lightsalmon;\" ><span class=\"txtp\">wi]-</span></span><span class=\"plain hl\"  style=\"background-color: mediumaquamarine;\" ><span class=\"txtp\">lu#-</span></span><span class=\"plain \" ><span class=\"txtp\">u2 </span></span></span><span class=\"plain \" ><span class=\"plain \" ><span class=\"txtp\">i-</span></span><span class=\"plain \" ><span class=\"txtp\">na </span></span></span><span class=\"plain \" ><span class=\"plain \" ><span class=\"txtp\">mu-</span></span><span class=\"plain \" ><span class=\"txtp\">uh2-</span></span><span class=\"plain \" ><span class=\"txtp\">hi </span></span></span><span class=\"plain \" ><span class=\"plain \" ><span class=\"txtp\">ip-</span></span><span class=\"plain \" ><span class=\"txtp\">qu2-</span></span><span class=\"plain \" ><span class=\"txtp\">i3-</span></span><span class=\"plain \" ><span class=\"txtp\">li2-</span></span><span class=\"plain \" ><span class=\"txtp\">szu </span></span></span><span class=\"plain \" ><span class=\"plain \" ><span class=\"txtp\">_di-</span></span><span class=\"plain \" ><span class=\"txtp\">ku5_</span></span></span></span></span></td><td class=\"tf\"><span class=\"plain outer  hl\"  style=\"background-color: lightsalmon;\" ><span class=\"txtp\">[a-</span></span></td><td class=\"tf\"><span class=\"plain outer  hl\"  style=\"background-color: lightsalmon;\" ><span class=\"txtp\">wi]-</span></span></td><td class=\"tf\"><span class=\"plain outer  hl\"  style=\"background-color: mediumaquamarine;\" ><span class=\"txtp\">lu#-</span></span></td></tr>\n",
       "<tr class=\"tf\"><td class=\"tf\">9</td><td class=\"tf\"> <a href=\"https://cdli.ucla.edu/search/search_results.php?SearchMode=Text&amp;ObjectID=P510528\" title=\"show this document on CDLI\" sec=\"P510528 reverse:1\">P510528 reverse:1</a></td><td class=\"tf\"><span class=\"plain outer  \" ><span class=\"plain\"><span class=\"plain \" ><span class=\"plain hl\"  style=\"background-color: lightsalmon;\" ><span class=\"txtp\">[x </span></span></span><span class=\"plain \" ><span class=\"plain hl\"  style=\"background-color: lightsalmon;\" ><span class=\"txtp\">x] </span></span></span><span class=\"plain \" ><span class=\"plain \" ><span class=\"txtp\">x </span></span></span><span class=\"plain \" ><span class=\"plain \" ><span class=\"txtp\">x </span></span></span><span class=\"plain \" ><span class=\"plain hl\"  style=\"background-color: mediumaquamarine;\" ><span class=\"txtp\">ra# </span></span></span><span class=\"plain \" ><span class=\"plain hl\"  style=\"background-color: lightsalmon;\" ><span class=\"txtp\">[...] </span></span></span><span class=\"plain \" ><span class=\"plain hl\"  style=\"background-color: lightsalmon;\" ><span class=\"txtp\">[tup]-</span></span><span class=\"plain hl\"  style=\"background-color: mediumaquamarine;\" ><span class=\"txtp\">pi2#-</span></span><span class=\"plain hl\"  style=\"background-color: mediumaquamarine;\" ><span class=\"txtp\">im# </span></span></span><span class=\"plain \" ><span class=\"plain \" ><span class=\"txtp\">lu </span></span></span><span class=\"plain \" ><span class=\"plain \" ><span class=\"txtp\">x </span></span></span><span class=\"plain \" ><span class=\"plain hl\"  style=\"background-color: lightsalmon;\" ><span class=\"txtp\">[x </span></span></span><span class=\"plain \" ><span class=\"plain hl\"  style=\"background-color: lightsalmon;\" ><span class=\"txtp\">x]</span></span></span></span></span></td><td class=\"tf\"><span class=\"plain outer  hl\"  style=\"background-color: lightsalmon;\" ><span class=\"txtp\">[x </span></span></td><td class=\"tf\"><span class=\"plain outer  hl\"  style=\"background-color: lightsalmon;\" ><span class=\"txtp\">x] </span></span></td><td class=\"tf\"><span class=\"plain outer  hl\"  style=\"background-color: lightsalmon;\" ><span class=\"txtp\">[...] </span></span></td><td class=\"tf\"><span class=\"plain outer  hl\"  style=\"background-color: lightsalmon;\" ><span class=\"txtp\">[tup]-</span></span></td><td class=\"tf\"><span class=\"plain outer  hl\"  style=\"background-color: lightsalmon;\" ><span class=\"txtp\">[x </span></span></td><td class=\"tf\"><span class=\"plain outer  hl\"  style=\"background-color: lightsalmon;\" ><span class=\"txtp\">x]</span></span></td><td class=\"tf\"><span class=\"plain outer  hl\"  style=\"background-color: mediumaquamarine;\" ><span class=\"txtp\">pi2#-</span></span></td><td class=\"tf\"><span class=\"plain outer  hl\"  style=\"background-color: mediumaquamarine;\" ><span class=\"txtp\">im# </span></span></td><td class=\"tf\"><span class=\"plain outer  hl\"  style=\"background-color: mediumaquamarine;\" ><span class=\"txtp\">ra# </span></span></td></tr>\n",
       "<tr class=\"tf\"><td class=\"tf\">10</td><td class=\"tf\"> <a href=\"https://cdli.ucla.edu/search/search_results.php?SearchMode=Text&amp;ObjectID=P510530\" title=\"show this document on CDLI\" sec=\"P510530 obverse:3\">P510530 obverse:3</a></td><td class=\"tf\"><span class=\"plain outer  \" ><span class=\"plain\"><span class=\"plain \" ><span class=\"plain hl\"  style=\"background-color: lightsalmon;\" ><span class=\"txtp\">[um-</span></span><span class=\"plain hl\"  style=\"background-color: lightsalmon;\" ><span class=\"txtp\">ma </span></span></span><span class=\"plain \" ><span class=\"plain hl\"  style=\"background-color: lightsalmon;\" ><span class=\"txtp\">{d}</span></span><span class=\"plain hl\"  style=\"background-color: lightsalmon;\" ><span class=\"txtp\">na-</span></span><span class=\"plain hl\"  style=\"background-color: lightsalmon;\" ><span class=\"txtp\">bi]-</span></span><span class=\"plain hl\"  style=\"background-color: mediumaquamarine;\" ><span class=\"txtp\">um#-</span></span><span class=\"plain \" ><span class=\"txtp\">na-</span></span><span class=\"plain \" ><span class=\"txtp\">s,i-</span></span><span class=\"plain \" ><span class=\"txtp\">ir-</span></span><span class=\"plain \" ><span class=\"txtp\">ma</span></span></span></span></span></td><td class=\"tf\"><span class=\"plain outer  hl\"  style=\"background-color: lightsalmon;\" ><span class=\"txtp\">[um-</span></span></td><td class=\"tf\"><span class=\"plain outer  hl\"  style=\"background-color: lightsalmon;\" ><span class=\"txtp\">ma </span></span></td><td class=\"tf\"><span class=\"plain outer  hl\"  style=\"background-color: lightsalmon;\" ><span class=\"txtp\">{d}</span></span></td><td class=\"tf\"><span class=\"plain outer  hl\"  style=\"background-color: lightsalmon;\" ><span class=\"txtp\">na-</span></span></td><td class=\"tf\"><span class=\"plain outer  hl\"  style=\"background-color: lightsalmon;\" ><span class=\"txtp\">bi]-</span></span></td><td class=\"tf\"><span class=\"plain outer  hl\"  style=\"background-color: mediumaquamarine;\" ><span class=\"txtp\">um#-</span></span></td></tr></table>"
      ],
      "text/plain": [
       "<IPython.core.display.HTML object>"
      ]
     },
     "metadata": {},
     "output_type": "display_data"
    }
   ],
   "source": [
    "A.table(answer, start=1, end=10, baseType=\"sign\", highlights=highlights)"
   ]
  },
  {
   "cell_type": "markdown",
   "metadata": {},
   "source": [
    "As you see, you have total control."
   ]
  },
  {
   "cell_type": "markdown",
   "metadata": {},
   "source": [
    "---\n",
    "\n",
    "All chapters:\n",
    "\n",
    "* **[start](start.ipynb)** become an expert in creating pretty displays of your text structures\n",
    "* **[display](display.ipynb)** become an expert in creating pretty displays of your text structures\n",
    "* **search** turbo charge your hand-coding with search templates\n",
    "* **[exportExcel](exportExcel.ipynb)** make tailor-made spreadsheets out of your results\n",
    "* **[share](share.ipynb)** draw in other people's data and let them use yours\n",
    "* **[similarLines](similarLines.ipynb)** spot the similarities between lines\n",
    "\n",
    "---\n",
    "\n",
    "See the [cookbook](cookbook) for recipes for small, concrete tasks."
   ]
  }
 ],
 "metadata": {
  "kernelspec": {
   "display_name": "Python 3",
   "language": "python",
   "name": "python3"
  },
  "language_info": {
   "codemirror_mode": {
    "name": "ipython",
    "version": 3
   },
   "file_extension": ".py",
   "mimetype": "text/x-python",
   "name": "python",
   "nbconvert_exporter": "python",
   "pygments_lexer": "ipython3",
   "version": "3.7.7"
  }
 },
 "nbformat": 4,
 "nbformat_minor": 4
}
