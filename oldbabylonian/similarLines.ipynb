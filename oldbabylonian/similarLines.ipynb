{
 "cells": [
  {
   "cell_type": "markdown",
   "metadata": {},
   "source": [
    "<img align=\"right\" src=\"images/tf.png\" width=\"128\"/>\n",
    "<img align=\"right\" src=\"images/ninologo.png\" width=\"128\"/>\n",
    "<img align=\"right\" src=\"images/dans.png\" width=\"128\"/>\n",
    "\n",
    "---\n",
    "\n",
    "To get started: consult [start](start.ipynb)\n",
    "\n",
    "---\n",
    "\n",
    "# Similar lines\n",
    "\n",
    "We spot the many similarities between lines in the corpus.\n",
    "\n",
    "There are ca 25000 lines in the corpus. To compare them all requires 300 million comparisons.\n",
    "That is a costly operation.\n",
    "[On this laptop it took 6 whole minutes](https://nbviewer.jupyter.org/github/nino-cunei/oldbabylonian/blob/master/programs/parallels.ipynb).\n",
    "\n",
    "The good news it that we have stored the outcome in an extra feature.\n",
    "\n",
    "This feature is packaged in a TF data module, that we will load below, by using the parameter `mod` in the `use()` statement."
   ]
  },
  {
   "cell_type": "code",
   "execution_count": 1,
   "metadata": {},
   "outputs": [],
   "source": [
    "%load_ext autoreload\n",
    "%autoreload 2"
   ]
  },
  {
   "cell_type": "code",
   "execution_count": 2,
   "metadata": {
    "ExecuteTime": {
     "end_time": "2018-05-24T10:06:39.818664Z",
     "start_time": "2018-05-24T10:06:39.796588Z"
    }
   },
   "outputs": [],
   "source": [
    "import collections\n",
    "\n",
    "from tf.app import use"
   ]
  },
  {
   "cell_type": "code",
   "execution_count": 3,
   "metadata": {},
   "outputs": [
    {
     "name": "stdout",
     "output_type": "stream",
     "text": [
      "TF app is up-to-date.\n",
      "Using annotation/app-oldbabylonian commit 82fffd1ec080e9aada4018099c1ad7686317fb2c (=latest)\n",
      "  in /Users/dirk/text-fabric-data/__apps__/oldbabylonian.\n",
      "No new data release available online.\n",
      "Using Nino-cunei/oldbabylonian/tf - 1.0.1 rv1.1 (=latest) in /Users/dirk/text-fabric-data.\n",
      "No new data release available online.\n",
      "Using Nino-cunei/oldbabylonian/parallels/tf - 1.0.1 rv1.1 (=latest) in /Users/dirk/text-fabric-data.\n"
     ]
    },
    {
     "data": {
      "text/html": [
       "<b>Documentation:</b> <a target=\"_blank\" href=\"https://github.com/Nino-cunei/oldbabylonian/blob/master/docs/\" title=\"provenance of Old Babylonian Letters 1900-1600: Cuneiform tablets \">OLDBABYLONIAN</a> <a target=\"_blank\" href=\"https://github.com/Nino-cunei/oldbabylonian/blob/master/docs/transcription.md\" title=\"How TF features represent ATF\">Character table</a> <a target=\"_blank\" href=\"https://github.com/Nino-cunei/oldbabylonian/blob/master/docs//transcription.md\" title=\"OLDBABYLONIAN feature documentation\">Feature docs</a> <a target=\"_blank\" href=\"https://github.com/annotation/app-oldbabylonian\" title=\"oldbabylonian API documentation\">oldbabylonian API</a> <a target=\"_blank\" href=\"https://annotation.github.io/text-fabric/Api/Fabric/\" title=\"text-fabric-api\">Text-Fabric API 7.5.0</a> <a target=\"_blank\" href=\"https://annotation.github.io/text-fabric/Use/Search/\" title=\"Search Templates Introduction and Reference\">Search Reference</a><details open><summary><b>Loaded features</b>:</summary>\n",
       "<p><b>Old Babylonian Letters 1900-1600: Cuneiform tablets </b>: <a target=\"_blank\" href=\"https://github.com/Nino-cunei/oldbabylonian/blob/master/docs//transcription.md\" title=\"/Users/dirk/text-fabric-data/Nino-cunei/oldbabylonian/tf/1.0.1/after.tf\">after</a>  <a target=\"_blank\" href=\"https://github.com/Nino-cunei/oldbabylonian/blob/master/docs//transcription.md\" title=\"/Users/dirk/text-fabric-data/Nino-cunei/oldbabylonian/tf/1.0.1/afterr.tf\">afterr</a>  <a target=\"_blank\" href=\"https://github.com/Nino-cunei/oldbabylonian/blob/master/docs//transcription.md\" title=\"/Users/dirk/text-fabric-data/Nino-cunei/oldbabylonian/tf/1.0.1/afteru.tf\">afteru</a>  <a target=\"_blank\" href=\"https://github.com/Nino-cunei/oldbabylonian/blob/master/docs//transcription.md\" title=\"/Users/dirk/text-fabric-data/Nino-cunei/oldbabylonian/tf/1.0.1/atf.tf\">atf</a>  <a target=\"_blank\" href=\"https://github.com/Nino-cunei/oldbabylonian/blob/master/docs//transcription.md\" title=\"/Users/dirk/text-fabric-data/Nino-cunei/oldbabylonian/tf/1.0.1/atfpost.tf\">atfpost</a>  <a target=\"_blank\" href=\"https://github.com/Nino-cunei/oldbabylonian/blob/master/docs//transcription.md\" title=\"/Users/dirk/text-fabric-data/Nino-cunei/oldbabylonian/tf/1.0.1/atfpre.tf\">atfpre</a>  <a target=\"_blank\" href=\"https://github.com/Nino-cunei/oldbabylonian/blob/master/docs//transcription.md\" title=\"/Users/dirk/text-fabric-data/Nino-cunei/oldbabylonian/tf/1.0.1/col.tf\">col</a>  <a target=\"_blank\" href=\"https://github.com/Nino-cunei/oldbabylonian/blob/master/docs//transcription.md\" title=\"/Users/dirk/text-fabric-data/Nino-cunei/oldbabylonian/tf/1.0.1/collated.tf\">collated</a>  <a target=\"_blank\" href=\"https://github.com/Nino-cunei/oldbabylonian/blob/master/docs//transcription.md\" title=\"/Users/dirk/text-fabric-data/Nino-cunei/oldbabylonian/tf/1.0.1/collection.tf\">collection</a>  <a target=\"_blank\" href=\"https://github.com/Nino-cunei/oldbabylonian/blob/master/docs//transcription.md\" title=\"/Users/dirk/text-fabric-data/Nino-cunei/oldbabylonian/tf/1.0.1/comment.tf\">comment</a>  <a target=\"_blank\" href=\"https://github.com/Nino-cunei/oldbabylonian/blob/master/docs//transcription.md\" title=\"/Users/dirk/text-fabric-data/Nino-cunei/oldbabylonian/tf/1.0.1/damage.tf\">damage</a>  <a target=\"_blank\" href=\"https://github.com/Nino-cunei/oldbabylonian/blob/master/docs//transcription.md\" title=\"/Users/dirk/text-fabric-data/Nino-cunei/oldbabylonian/tf/1.0.1/det.tf\">det</a>  <a target=\"_blank\" href=\"https://github.com/Nino-cunei/oldbabylonian/blob/master/docs//transcription.md\" title=\"/Users/dirk/text-fabric-data/Nino-cunei/oldbabylonian/tf/1.0.1/docnote.tf\">docnote</a>  <a target=\"_blank\" href=\"https://github.com/Nino-cunei/oldbabylonian/blob/master/docs//transcription.md\" title=\"/Users/dirk/text-fabric-data/Nino-cunei/oldbabylonian/tf/1.0.1/docnumber.tf\">docnumber</a>  <a target=\"_blank\" href=\"https://github.com/Nino-cunei/oldbabylonian/blob/master/docs//transcription.md\" title=\"/Users/dirk/text-fabric-data/Nino-cunei/oldbabylonian/tf/1.0.1/excised.tf\">excised</a>  <a target=\"_blank\" href=\"https://github.com/Nino-cunei/oldbabylonian/blob/master/docs//transcription.md\" title=\"/Users/dirk/text-fabric-data/Nino-cunei/oldbabylonian/tf/1.0.1/face.tf\">face</a>  <a target=\"_blank\" href=\"https://github.com/Nino-cunei/oldbabylonian/blob/master/docs//transcription.md\" title=\"/Users/dirk/text-fabric-data/Nino-cunei/oldbabylonian/tf/1.0.1/flags.tf\">flags</a>  <a target=\"_blank\" href=\"https://github.com/Nino-cunei/oldbabylonian/blob/master/docs//transcription.md\" title=\"/Users/dirk/text-fabric-data/Nino-cunei/oldbabylonian/tf/1.0.1/fraction.tf\">fraction</a>  <a target=\"_blank\" href=\"https://github.com/Nino-cunei/oldbabylonian/blob/master/docs//transcription.md\" title=\"/Users/dirk/text-fabric-data/Nino-cunei/oldbabylonian/tf/1.0.1/grapheme.tf\">grapheme</a>  <a target=\"_blank\" href=\"https://github.com/Nino-cunei/oldbabylonian/blob/master/docs//transcription.md\" title=\"/Users/dirk/text-fabric-data/Nino-cunei/oldbabylonian/tf/1.0.1/graphemer.tf\">graphemer</a>  <a target=\"_blank\" href=\"https://github.com/Nino-cunei/oldbabylonian/blob/master/docs//transcription.md\" title=\"/Users/dirk/text-fabric-data/Nino-cunei/oldbabylonian/tf/1.0.1/graphemeu.tf\">graphemeu</a>  <a target=\"_blank\" href=\"https://github.com/Nino-cunei/oldbabylonian/blob/master/docs//transcription.md\" title=\"/Users/dirk/text-fabric-data/Nino-cunei/oldbabylonian/tf/1.0.1/lang.tf\">lang</a>  <a target=\"_blank\" href=\"https://github.com/Nino-cunei/oldbabylonian/blob/master/docs//transcription.md\" title=\"/Users/dirk/text-fabric-data/Nino-cunei/oldbabylonian/tf/1.0.1/langalt.tf\">langalt</a>  <a target=\"_blank\" href=\"https://github.com/Nino-cunei/oldbabylonian/blob/master/docs//transcription.md\" title=\"/Users/dirk/text-fabric-data/Nino-cunei/oldbabylonian/tf/1.0.1/ln.tf\">ln</a>  <a target=\"_blank\" href=\"https://github.com/Nino-cunei/oldbabylonian/blob/master/docs//transcription.md\" title=\"/Users/dirk/text-fabric-data/Nino-cunei/oldbabylonian/tf/1.0.1/lnc.tf\">lnc</a>  <a target=\"_blank\" href=\"https://github.com/Nino-cunei/oldbabylonian/blob/master/docs//transcription.md\" title=\"/Users/dirk/text-fabric-data/Nino-cunei/oldbabylonian/tf/1.0.1/lnno.tf\">lnno</a>  <a target=\"_blank\" href=\"https://github.com/Nino-cunei/oldbabylonian/blob/master/docs//transcription.md\" title=\"/Users/dirk/text-fabric-data/Nino-cunei/oldbabylonian/tf/1.0.1/missing.tf\">missing</a>  <a target=\"_blank\" href=\"https://github.com/Nino-cunei/oldbabylonian/blob/master/docs//transcription.md\" title=\"/Users/dirk/text-fabric-data/Nino-cunei/oldbabylonian/tf/1.0.1/object.tf\">object</a>  <a target=\"_blank\" href=\"https://github.com/Nino-cunei/oldbabylonian/blob/master/docs//transcription.md\" title=\"/Users/dirk/text-fabric-data/Nino-cunei/oldbabylonian/tf/1.0.1/operator.tf\">operator</a>  <a target=\"_blank\" href=\"https://github.com/Nino-cunei/oldbabylonian/blob/master/docs//transcription.md\" title=\"/Users/dirk/text-fabric-data/Nino-cunei/oldbabylonian/tf/1.0.1/operatorr.tf\">operatorr</a>  <a target=\"_blank\" href=\"https://github.com/Nino-cunei/oldbabylonian/blob/master/docs//transcription.md\" title=\"/Users/dirk/text-fabric-data/Nino-cunei/oldbabylonian/tf/1.0.1/operatoru.tf\">operatoru</a>  <a target=\"_blank\" href=\"https://github.com/Nino-cunei/oldbabylonian/blob/master/docs//transcription.md\" title=\"/Users/dirk/text-fabric-data/Nino-cunei/oldbabylonian/tf/1.0.1/otype.tf\">otype</a>  <a target=\"_blank\" href=\"https://github.com/Nino-cunei/oldbabylonian/blob/master/docs//transcription.md\" title=\"/Users/dirk/text-fabric-data/Nino-cunei/oldbabylonian/tf/1.0.1/pnumber.tf\">pnumber</a>  <a target=\"_blank\" href=\"https://github.com/Nino-cunei/oldbabylonian/blob/master/docs//transcription.md\" title=\"/Users/dirk/text-fabric-data/Nino-cunei/oldbabylonian/tf/1.0.1/primecol.tf\">primecol</a>  <a target=\"_blank\" href=\"https://github.com/Nino-cunei/oldbabylonian/blob/master/docs//transcription.md\" title=\"/Users/dirk/text-fabric-data/Nino-cunei/oldbabylonian/tf/1.0.1/primeln.tf\">primeln</a>  <a target=\"_blank\" href=\"https://github.com/Nino-cunei/oldbabylonian/blob/master/docs//transcription.md\" title=\"/Users/dirk/text-fabric-data/Nino-cunei/oldbabylonian/tf/1.0.1/question.tf\">question</a>  <a target=\"_blank\" href=\"https://github.com/Nino-cunei/oldbabylonian/blob/master/docs//transcription.md\" title=\"/Users/dirk/text-fabric-data/Nino-cunei/oldbabylonian/tf/1.0.1/reading.tf\">reading</a>  <a target=\"_blank\" href=\"https://github.com/Nino-cunei/oldbabylonian/blob/master/docs//transcription.md\" title=\"/Users/dirk/text-fabric-data/Nino-cunei/oldbabylonian/tf/1.0.1/readingr.tf\">readingr</a>  <a target=\"_blank\" href=\"https://github.com/Nino-cunei/oldbabylonian/blob/master/docs//transcription.md\" title=\"/Users/dirk/text-fabric-data/Nino-cunei/oldbabylonian/tf/1.0.1/readingu.tf\">readingu</a>  <a target=\"_blank\" href=\"https://github.com/Nino-cunei/oldbabylonian/blob/master/docs//transcription.md\" title=\"/Users/dirk/text-fabric-data/Nino-cunei/oldbabylonian/tf/1.0.1/remarkable.tf\">remarkable</a>  <a target=\"_blank\" href=\"https://github.com/Nino-cunei/oldbabylonian/blob/master/docs//transcription.md\" title=\"/Users/dirk/text-fabric-data/Nino-cunei/oldbabylonian/tf/1.0.1/remarks.tf\">remarks</a>  <a target=\"_blank\" href=\"https://github.com/Nino-cunei/oldbabylonian/blob/master/docs//transcription.md\" title=\"/Users/dirk/text-fabric-data/Nino-cunei/oldbabylonian/tf/1.0.1/repeat.tf\">repeat</a>  <a target=\"_blank\" href=\"https://github.com/Nino-cunei/oldbabylonian/blob/master/docs//transcription.md\" title=\"/Users/dirk/text-fabric-data/Nino-cunei/oldbabylonian/tf/1.0.1/srcLn.tf\">srcLn</a>  <a target=\"_blank\" href=\"https://github.com/Nino-cunei/oldbabylonian/blob/master/docs//transcription.md\" title=\"/Users/dirk/text-fabric-data/Nino-cunei/oldbabylonian/tf/1.0.1/srcLnNum.tf\">srcLnNum</a>  <a target=\"_blank\" href=\"https://github.com/Nino-cunei/oldbabylonian/blob/master/docs//transcription.md\" title=\"/Users/dirk/text-fabric-data/Nino-cunei/oldbabylonian/tf/1.0.1/srcfile.tf\">srcfile</a>  <a target=\"_blank\" href=\"https://github.com/Nino-cunei/oldbabylonian/blob/master/docs//transcription.md\" title=\"/Users/dirk/text-fabric-data/Nino-cunei/oldbabylonian/tf/1.0.1/supplied.tf\">supplied</a>  <a target=\"_blank\" href=\"https://github.com/Nino-cunei/oldbabylonian/blob/master/docs//transcription.md\" title=\"/Users/dirk/text-fabric-data/Nino-cunei/oldbabylonian/tf/1.0.1/sym.tf\">sym</a>  <a target=\"_blank\" href=\"https://github.com/Nino-cunei/oldbabylonian/blob/master/docs//transcription.md\" title=\"/Users/dirk/text-fabric-data/Nino-cunei/oldbabylonian/tf/1.0.1/symr.tf\">symr</a>  <a target=\"_blank\" href=\"https://github.com/Nino-cunei/oldbabylonian/blob/master/docs//transcription.md\" title=\"/Users/dirk/text-fabric-data/Nino-cunei/oldbabylonian/tf/1.0.1/symu.tf\">symu</a>  <a target=\"_blank\" href=\"https://github.com/Nino-cunei/oldbabylonian/blob/master/docs//transcription.md\" title=\"/Users/dirk/text-fabric-data/Nino-cunei/oldbabylonian/tf/1.0.1/trans.tf\">trans</a>  <a target=\"_blank\" href=\"https://github.com/Nino-cunei/oldbabylonian/blob/master/docs//transcription.md\" title=\"/Users/dirk/text-fabric-data/Nino-cunei/oldbabylonian/tf/1.0.1/translation@en.tf\">translation@ll</a>  <a target=\"_blank\" href=\"https://github.com/Nino-cunei/oldbabylonian/blob/master/docs//transcription.md\" title=\"/Users/dirk/text-fabric-data/Nino-cunei/oldbabylonian/tf/1.0.1/type.tf\">type</a>  <a target=\"_blank\" href=\"https://github.com/Nino-cunei/oldbabylonian/blob/master/docs//transcription.md\" title=\"/Users/dirk/text-fabric-data/Nino-cunei/oldbabylonian/tf/1.0.1/uncertain.tf\">uncertain</a>  <a target=\"_blank\" href=\"https://github.com/Nino-cunei/oldbabylonian/blob/master/docs//transcription.md\" title=\"/Users/dirk/text-fabric-data/Nino-cunei/oldbabylonian/tf/1.0.1/volume.tf\">volume</a>  <b><i><a target=\"_blank\" href=\"https://github.com/Nino-cunei/oldbabylonian/blob/master/docs//transcription.md\" title=\"/Users/dirk/text-fabric-data/Nino-cunei/oldbabylonian/tf/1.0.1/oslots.tf\">oslots</a></i></b> </p><p><b>Nino-cunei/oldbabylonian/parallels/tf</b>: <b><i><a target=\"_blank\" href=\"https://github.com/Nino-cunei/oldbabylonian/tree/master/parallels/tf\" title=\"/Users/dirk/text-fabric-data/Nino-cunei/oldbabylonian/parallels/tf/1.0.1/sim.tf\">sim</a></i></b> </p></details>"
      ],
      "text/plain": [
       "<IPython.core.display.HTML object>"
      ]
     },
     "metadata": {},
     "output_type": "display_data"
    },
    {
     "data": {
      "text/html": [
       "<style>\n",
       "@font-face {\n",
       "  font-family: \"Santakku\";\n",
       "  src:\n",
       "    local(\"Santakku.ttf\"),\n",
       "    url(\"https://github.com/annotation/text-fabric/blob/master/tf/server/static/fonts/Santakku.woff?raw=true\");\n",
       "}\n",
       ".txtn,.txtn a:visited,.txtn a:link {\n",
       "    font-family: sans-serif;\n",
       "    font-size: normal;\n",
       "    text-decoration: none;\n",
       "}\n",
       ".txtp,.txtp a:visited,.txtp a:link {\n",
       "    font-family: monospace;\n",
       "    font-size: normal;\n",
       "    text-decoration: none;\n",
       "}\n",
       ".txtr,.txtr a:visited,.txtr a:link {\n",
       "    font-family: serif;\n",
       "    font-size: large;\n",
       "    text-decoration: none;\n",
       "}\n",
       ".txtu,.txtu a:visited,.txtu a:link {\n",
       "    font-family: Santakku;\n",
       "    font-size: x-large;\n",
       "    text-decoration: none;\n",
       "}\n",
       ".features {\n",
       "    font-family: monospace;\n",
       "    font-size: medium;\n",
       "    font-weight: bold;\n",
       "    color: #0a6611;\n",
       "    display: flex;\n",
       "    flex-flow: column nowrap;\n",
       "    padding: 0.1em;\n",
       "    margin: 0.1em;\n",
       "    direction: ltr;\n",
       "}\n",
       ".features div,.features span {\n",
       "    padding: 0;\n",
       "    margin: -0.1rem 0;\n",
       "}\n",
       ".features .f {\n",
       "    font-family: sans-serif;\n",
       "    font-size: x-small;\n",
       "    font-weight: normal;\n",
       "    color: #5555bb;\n",
       "}\n",
       ".features .xft {\n",
       "  color: #000000;\n",
       "  background-color: #eeeeee;\n",
       "  font-size: medium;\n",
       "  margin: 0.1em 0em;\n",
       "}\n",
       ".features .xft .f {\n",
       "  color: #000000;\n",
       "  background-color: #eeeeee;\n",
       "  font-style: italic;\n",
       "  font-size: small;\n",
       "  font-weight: normal;\n",
       "}\n",
       ".pnum {\n",
       "    font-family: sans-serif;\n",
       "    font-size: small;\n",
       "    font-weight: bold;\n",
       "    color: #444444;\n",
       "}\n",
       ".nd {\n",
       "    font-family: monospace;\n",
       "    font-size: x-small;\n",
       "    color: #999999;\n",
       "}\n",
       ".meta {\n",
       "    display: flex;\n",
       "    justify-content: flex-start;\n",
       "    align-items: flex-start;\n",
       "    align-content: flex-start;\n",
       "    flex-flow: row nowrap;\n",
       "}\n",
       ".features,.comments {\n",
       "    display: flex;\n",
       "    justify-content: flex-start;\n",
       "    align-items: flex-start;\n",
       "    align-content: flex-start;\n",
       "    flex-flow: column nowrap;\n",
       "}\n",
       ".children {\n",
       "    display: flex;\n",
       "    justify-content: flex-start;\n",
       "    align-items: flex-start;\n",
       "    align-content: flex-start;\n",
       "    border: 0;\n",
       "    background-color: #ffffff;\n",
       "}\n",
       ".children.document {\n",
       "    flex-flow: column nowrap;\n",
       "}\n",
       ".children.face {\n",
       "    flex-flow: column nowrap;\n",
       "}\n",
       ".children.line {\n",
       "    align-items: stretch;\n",
       "    flex-flow: row nowrap;\n",
       "}\n",
       ".children.cluster {\n",
       "    flex-flow: row wrap;\n",
       "}\n",
       ".children.line {\n",
       "    align-items: stretch;\n",
       "    flex-flow: row nowrap;\n",
       "}\n",
       ".children.sign {\n",
       "    flex-flow: column nowrap;\n",
       "}\n",
       ".contnr {\n",
       "    width: fit-content;\n",
       "}\n",
       ".contnr.document,.contnr.face,\n",
       ".contnr.line,\n",
       ".contnr.cluster,\n",
       ".contnr.word,\n",
       ".contnr.sign {\n",
       "    display: flex;\n",
       "    justify-content: flex-start;\n",
       "    align-items: flex-start;\n",
       "    align-content: flex-start;\n",
       "    flex-flow: column nowrap;\n",
       "    background: #ffffff none repeat scroll 0 0;\n",
       "    padding:  0.5em 0.1em 0.1em 0.1em;\n",
       "    margin: 0.8em 0.1em 0.1em 0.1em;\n",
       "    border-radius: 0.2em;\n",
       "    border-style: solid;\n",
       "    border-width: 0.2em;\n",
       "    font-size: small;\n",
       "}\n",
       ".contnr.document,.contnr.face {\n",
       "    border-color: #bb8800;\n",
       "}\n",
       ".contnr.line {\n",
       "    border-color: #0088bb;\n",
       "}\n",
       ".contnr.cluster {\n",
       "    flex-flow: row wrap;\n",
       "    border: 0;\n",
       "}\n",
       ".contnr.word {\n",
       "    border-color: #44bbff;\n",
       "}\n",
       ".contnr.sign {\n",
       "    border-color: #bbbbbb;\n",
       "}\n",
       ".contnr.hl {\n",
       "    background-color: #ffee66;\n",
       "}\n",
       ".lbl.document,.lbl.face,\n",
       ".lbl.line,\n",
       ".lbl.cluster,\n",
       ".lbl.sign,.lbl.word {\n",
       "    margin-top: -1.2em;\n",
       "    margin-left: 1em;\n",
       "    background: #ffffff none repeat scroll 0 0;\n",
       "    padding: 0 0.3em;\n",
       "    border-style: solid;\n",
       "    font-size: small;\n",
       "    display: block;\n",
       "}\n",
       ".lbl.document,.lbl.face {\n",
       "    border-color: #bb8800;\n",
       "    border-width: 0.3em;\n",
       "    border-radius: 0.3em;\n",
       "    color: #bb8800;\n",
       "}\n",
       ".lbl.line {\n",
       "    border-color: #0088bb;\n",
       "    border-width: 0.3em;\n",
       "    border-radius: 0.3em;\n",
       "    color: #0088bb;\n",
       "}\n",
       ".lbl.cluster {\n",
       "    border-color: #dddddd;\n",
       "    border-width: 0.2em;\n",
       "    border-radius: 0.2em;\n",
       "    color: #0000cc;\n",
       "}\n",
       ".lbl.word {\n",
       "    border-color: #44bbff;\n",
       "    border-width: 0.2em;\n",
       "    border-radius: 0.2em;\n",
       "    font-size: medium;\n",
       "    color: #000000;\n",
       "}\n",
       ".lbl.sign {\n",
       "    border-color: #bbbbbb;\n",
       "    border-width: 0.1em;\n",
       "    border-radius: 0.1em;\n",
       "    font-size: small;\n",
       "    color: #000000;\n",
       "}\n",
       ".op {\n",
       "    padding:  0.5em 0.1em 0.1em 0.1em;\n",
       "    margin: 0.8em 0.1em 0.1em 0.1em;\n",
       "    font-family: monospace;\n",
       "    font-size: x-large;\n",
       "    font-weight: bold;\n",
       "}\n",
       ".name {\n",
       "    font-family: monospace;\n",
       "    font-size: medium;\n",
       "    color: #0000bb;\n",
       "}\n",
       ".period {\n",
       "    font-family: monospace;\n",
       "    font-size: medium;\n",
       "    font-weight: bold;\n",
       "    color: #0000bb;\n",
       "}\n",
       ".text {\n",
       "    font-family: sans-serif;\n",
       "    font-size: x-small;\n",
       "    color: #000000;\n",
       "}\n",
       ".srcln {\n",
       "    font-family: monospace;\n",
       "    font-size: medium;\n",
       "    color: #000000;\n",
       "}\n",
       ".srclnnum {\n",
       "    font-family: monospace;\n",
       "    font-size: x-small;\n",
       "    color: #0000bb;\n",
       "}\n",
       ".comment {\n",
       "    color: #7777dd;\n",
       "    font-family: monospace;\n",
       "    font-size: small;\n",
       "}\n",
       ".operator {\n",
       "    color: #ff77ff;\n",
       "    font-size: large;\n",
       "}\n",
       "/* LANGUAGE: superscript and subscript */\n",
       "\n",
       "/* cluster */\n",
       ".det {\n",
       "    vertical-align: super;\n",
       "}\n",
       "/* cluster */\n",
       ".langalt {\n",
       "    vertical-align: sub;\n",
       "}\n",
       "/* REDACTIONAL: line over or under  */\n",
       "\n",
       "/* flag */\n",
       ".collated {\n",
       "    font-weight: bold;\n",
       "    text-decoration: underline;\n",
       "}\n",
       "/* cluster */\n",
       ".excised {\n",
       "    color: #dd0000;\n",
       "    text-decoration: line-through;\n",
       "}\n",
       "/* cluster */\n",
       ".supplied {\n",
       "    color: #0000ff;\n",
       "    text-decoration: overline;\n",
       "}\n",
       "/* flag */\n",
       ".remarkable {\n",
       "    font-weight: bold;\n",
       "    text-decoration: overline;\n",
       "}\n",
       "\n",
       "/* UNSURE: italic*/\n",
       "\n",
       "/* cluster */\n",
       ".uncertain {\n",
       "    font-style: italic\n",
       "}\n",
       "/* flag */\n",
       ".question {\n",
       "    font-weight: bold;\n",
       "    font-style: italic\n",
       "}\n",
       "\n",
       "/* BROKEN: text-shadow */\n",
       "\n",
       "/* cluster */\n",
       ".missing {\n",
       "    color: #999999;\n",
       "    text-shadow: #bbbbbb 1px 1px;\n",
       "}\n",
       "/* flag */\n",
       ".damage {\n",
       "    font-weight: bold;\n",
       "    color: #999999;\n",
       "    text-shadow: #bbbbbb 1px 1px;\n",
       "}\n",
       ".empty {\n",
       "  color: #ff0000;\n",
       "}\n",
       "\n",
       "\n",
       "tr.tf td, tr.tf th {\n",
       "  text-align: left;\n",
       "}\n",
       "\n",
       "span.hldot {\n",
       "\tbackground-color: var(--hl-strong);\n",
       "\tborder: 0.2rem solid var(--hl-rim);\n",
       "\tborder-radius: 0.4rem;\n",
       "\t/*\n",
       "\tdisplay: inline-block;\n",
       "\twidth: 0.8rem;\n",
       "\theight: 0.8rem;\n",
       "\t*/\n",
       "}\n",
       "span.hl {\n",
       "\tbackground-color: var(--hl-strong);\n",
       "\tborder-width: 0;\n",
       "\tborder-radius: 0.1rem;\n",
       "\tborder-style: solid;\n",
       "}\n",
       "\n",
       "span.hlup {\n",
       "\tborder-color: var(--hl-dark);\n",
       "\tborder-width: 0.1rem;\n",
       "\tborder-style: solid;\n",
       "\tborder-radius: 0.2rem;\n",
       "  padding: 0.2rem;\n",
       "}\n",
       "\n",
       ":root {\n",
       "\t--hl-strong:        hsla( 60, 100%,  70%, 0.9  );\n",
       "\t--hl-rim:           hsla( 55, 100%,  60%, 0.9  );\n",
       "\t--hl-dark:          hsla( 55, 100%,  40%, 0.9  );\n",
       "}\n",
       "</style>"
      ],
      "text/plain": [
       "<IPython.core.display.HTML object>"
      ]
     },
     "metadata": {},
     "output_type": "display_data"
    },
    {
     "data": {
      "text/html": [
       "<details open><summary><b>API members</b>:</summary>\n",
       "<a target=\"_blank\" href=\"https://annotation.github.io/text-fabric/Api/Computed/#computed-data\" title=\"doc\">C Computed</a>, <a target=\"_blank\" href=\"https://annotation.github.io/text-fabric/Api/Computed/#computed-data\" title=\"doc\">Call AllComputeds</a>, <a target=\"_blank\" href=\"https://annotation.github.io/text-fabric/Api/Computed/#computed-data\" title=\"doc\">Cs ComputedString</a><br/>\n",
       "<a target=\"_blank\" href=\"https://annotation.github.io/text-fabric/Api/Features/#edge-features\" title=\"doc\">E Edge</a>, <a target=\"_blank\" href=\"https://annotation.github.io/text-fabric/Api/Features/#edge-features\" title=\"doc\">Eall AllEdges</a>, <a target=\"_blank\" href=\"https://annotation.github.io/text-fabric/Api/Features/#edge-features\" title=\"doc\">Es EdgeString</a><br/>\n",
       "<a target=\"_blank\" href=\"https://annotation.github.io/text-fabric/Api/Fabric/#loading\" title=\"doc\">ensureLoaded</a>, <a target=\"_blank\" href=\"https://annotation.github.io/text-fabric/Api/Fabric/#loading\" title=\"doc\">TF</a>, <a target=\"_blank\" href=\"https://annotation.github.io/text-fabric/Api/Fabric/#loading\" title=\"doc\">ignored</a>, <a target=\"_blank\" href=\"https://annotation.github.io/text-fabric/Api/Fabric/#loading\" title=\"doc\">loadLog</a><br/>\n",
       "<a target=\"_blank\" href=\"https://annotation.github.io/text-fabric/Api/Locality/#locality\" title=\"doc\">L Locality</a><br/>\n",
       "<a target=\"_blank\" href=\"https://annotation.github.io/text-fabric/Api/Misc/#messaging\" title=\"doc\">cache</a>, <a target=\"_blank\" href=\"https://annotation.github.io/text-fabric/Api/Misc/#messaging\" title=\"doc\">error</a>, <a target=\"_blank\" href=\"https://annotation.github.io/text-fabric/Api/Misc/#messaging\" title=\"doc\">indent</a>, <a target=\"_blank\" href=\"https://annotation.github.io/text-fabric/Api/Misc/#messaging\" title=\"doc\">info</a>, <a target=\"_blank\" href=\"https://annotation.github.io/text-fabric/Api/Misc/#messaging\" title=\"doc\">reset</a><br/>\n",
       "<a target=\"_blank\" href=\"https://annotation.github.io/text-fabric/Api/Nodes/#navigating-nodes\" title=\"doc\">N Nodes</a>, <a target=\"_blank\" href=\"https://annotation.github.io/text-fabric/Api/Nodes/#navigating-nodes\" title=\"doc\">sortKey</a>, <a target=\"_blank\" href=\"https://annotation.github.io/text-fabric/Api/Nodes/#navigating-nodes\" title=\"doc\">sortKeyTuple</a>, <a target=\"_blank\" href=\"https://annotation.github.io/text-fabric/Api/Nodes/#navigating-nodes\" title=\"doc\">otypeRank</a>, <a target=\"_blank\" href=\"https://annotation.github.io/text-fabric/Api/Nodes/#navigating-nodes\" title=\"doc\">sortNodes</a><br/>\n",
       "<a target=\"_blank\" href=\"https://annotation.github.io/text-fabric/Api/Features/#node-features\" title=\"doc\">F Feature</a>, <a target=\"_blank\" href=\"https://annotation.github.io/text-fabric/Api/Features/#node-features\" title=\"doc\">Fall AllFeatures</a>, <a target=\"_blank\" href=\"https://annotation.github.io/text-fabric/Api/Features/#node-features\" title=\"doc\">Fs FeatureString</a><br/>\n",
       "<a target=\"_blank\" href=\"https://annotation.github.io/text-fabric/Api/Search/#search\" title=\"doc\">S Search</a><br/>\n",
       "<a target=\"_blank\" href=\"https://annotation.github.io/text-fabric/Api/Text/#text\" title=\"doc\">T Text</a></details>"
      ],
      "text/plain": [
       "<IPython.core.display.HTML object>"
      ]
     },
     "metadata": {},
     "output_type": "display_data"
    }
   ],
   "source": [
    "A = use('oldbabylonian', hoist=globals(), check=True, mod='Nino-cunei/oldbabylonian/parallels/tf')"
   ]
  },
  {
   "cell_type": "markdown",
   "metadata": {},
   "source": [
    "The new feature is **sim** and it it an edge feature.\n",
    "It annotates pairs of lines $(l, m)$ where $l$ and $m$ have similar content.\n",
    "The degree of similarity is a percentage (between 90 and 100), and this value\n",
    "is annotated onto the edges.\n",
    "\n",
    "Here is an example:"
   ]
  },
  {
   "cell_type": "code",
   "execution_count": 4,
   "metadata": {},
   "outputs": [
    {
     "name": "stdout",
     "output_type": "stream",
     "text": [
      "75 similar lines\n",
      "235393 with similarity 100\n",
      "235420 with similarity 100\n",
      "235433 with similarity 100\n",
      "235463 with similarity 100\n",
      "235477 with similarity 100\n",
      "235502 with similarity 100\n",
      "235528 with similarity 100\n",
      "235584 with similarity 100\n",
      "235614 with similarity 100\n",
      "235628 with similarity 100\n"
     ]
    },
    {
     "data": {
      "text/html": [
       "<table><tr class=\"tf\"><th>n</th><th>p</th><th>line</th></tr>\n",
       "<tr class=\"tf\"><td>1</td><td> <a href=\"https://cdli.ucla.edu/search/search_results.php?SearchMode=Text&amp;ObjectID=P510729\" title=\"show this document on CDLI\" sec=\"P510729 obverse:1\">P510729 obverse:1</a></td><td><span class=\"txtp\">a-na {d}suen-i-din-[nam]</span></td></tr>\n",
       "<tr class=\"tf\"><td>2</td><td> <a href=\"https://cdli.ucla.edu/search/search_results.php?SearchMode=Text&amp;ObjectID=P510730\" title=\"show this document on CDLI\" sec=\"P510730 obverse:1\">P510730 obverse:1</a></td><td><span class=\"txtp\">a-na {d}suen-i-din-nam</span></td></tr>\n",
       "<tr class=\"tf\"><td>3</td><td> <a href=\"https://cdli.ucla.edu/search/search_results.php?SearchMode=Text&amp;ObjectID=P510731\" title=\"show this document on CDLI\" sec=\"P510731 obverse:1\">P510731 obverse:1</a></td><td><span class=\"txtp\">a-na {d}suen-i-din-nam</span></td></tr>\n",
       "<tr class=\"tf\"><td>4</td><td> <a href=\"https://cdli.ucla.edu/search/search_results.php?SearchMode=Text&amp;ObjectID=P510732\" title=\"show this document on CDLI\" sec=\"P510732 obverse:1\">P510732 obverse:1</a></td><td><span class=\"txtp\">a-na {d}suen#-i-din-nam#</span></td></tr>\n",
       "<tr class=\"tf\"><td>5</td><td> <a href=\"https://cdli.ucla.edu/search/search_results.php?SearchMode=Text&amp;ObjectID=P497779\" title=\"show this document on CDLI\" sec=\"P497779 obverse:1\">P497779 obverse:1</a></td><td><span class=\"txtp\">a-na {d}suen#-[i]-din-nam</span></td></tr>\n",
       "<tr class=\"tf\"><td>6</td><td> <a href=\"https://cdli.ucla.edu/search/search_results.php?SearchMode=Text&amp;ObjectID=P510733\" title=\"show this document on CDLI\" sec=\"P510733 obverse:1\">P510733 obverse:1</a></td><td><span class=\"txtp\">[a-na] {d}[suen-i-din-nam]</span></td></tr>\n",
       "<tr class=\"tf\"><td>7</td><td> <a href=\"https://cdli.ucla.edu/search/search_results.php?SearchMode=Text&amp;ObjectID=P510734\" title=\"show this document on CDLI\" sec=\"P510734 obverse:1\">P510734 obverse:1</a></td><td><span class=\"txtp\">[a-na {d}suen-i-din-nam]</span></td></tr>\n",
       "<tr class=\"tf\"><td>8</td><td> <a href=\"https://cdli.ucla.edu/search/search_results.php?SearchMode=Text&amp;ObjectID=P510736\" title=\"show this document on CDLI\" sec=\"P510736 obverse:1\">P510736 obverse:1</a></td><td><span class=\"txtp\">a-na {d}suen-i-din-nam</span></td></tr>\n",
       "<tr class=\"tf\"><td>9</td><td> <a href=\"https://cdli.ucla.edu/search/search_results.php?SearchMode=Text&amp;ObjectID=P510737\" title=\"show this document on CDLI\" sec=\"P510737 obverse:1\">P510737 obverse:1</a></td><td><span class=\"txtp\">a-na {d}suen-i-din-nam#</span></td></tr>\n",
       "<tr class=\"tf\"><td>10</td><td> <a href=\"https://cdli.ucla.edu/search/search_results.php?SearchMode=Text&amp;ObjectID=P370926\" title=\"show this document on CDLI\" sec=\"P370926 obverse:1\">P370926 obverse:1</a></td><td><span class=\"txtp\">a-na {d}suen-i-din-nam</span></td></tr></table>"
      ],
      "text/plain": [
       "<IPython.core.display.HTML object>"
      ]
     },
     "metadata": {},
     "output_type": "display_data"
    }
   ],
   "source": [
    "exampleLine = F.otype.s('line')[0]\n",
    "sisters = E.sim.b(exampleLine)\n",
    "print(f'{len(sisters)} similar lines')\n",
    "print('\\n'.join(f'{s[0]} with similarity {s[1]}' for s in sisters[0:10]))\n",
    "A.table(tuple((s[0],) for s in sisters), end=10)"
   ]
  },
  {
   "cell_type": "markdown",
   "metadata": {},
   "source": [
    "# All similarities\n",
    "\n",
    "Let's first find out the range of similarities:"
   ]
  },
  {
   "cell_type": "code",
   "execution_count": 5,
   "metadata": {},
   "outputs": [
    {
     "name": "stdout",
     "output_type": "stream",
     "text": [
      "minimum similarity is  90\n",
      "maximum similarity is 100\n"
     ]
    }
   ],
   "source": [
    "minSim = None\n",
    "maxSim = None\n",
    "\n",
    "for l in F.otype.s('line'):\n",
    "  sisters = E.sim.f(l)\n",
    "  if not sisters:\n",
    "    continue\n",
    "  thisMin = min(s[1] for s in sisters)\n",
    "  thisMax = max(s[1] for s in sisters)\n",
    "  if minSim is None or thisMin < minSim:\n",
    "    minSim = thisMin\n",
    "  if maxSim is None or thisMax > maxSim:\n",
    "    maxSim = thisMax\n",
    "\n",
    "print(f'minimum similarity is {minSim:>3}')\n",
    "print(f'maximum similarity is {maxSim:>3}')"
   ]
  },
  {
   "cell_type": "markdown",
   "metadata": {},
   "source": [
    "# The bottom lines\n",
    "\n",
    "We give a few examples of the least similar lines.\n",
    "\n",
    "**N.B.** When lines are less than 90% similar, they have not made it into the `sim` feature!\n",
    "\n",
    "We can use a search template to get the 90% lines."
   ]
  },
  {
   "cell_type": "code",
   "execution_count": 6,
   "metadata": {},
   "outputs": [],
   "source": [
    "query = '''\n",
    "line\n",
    "-sim=90> line\n",
    "'''"
   ]
  },
  {
   "cell_type": "markdown",
   "metadata": {},
   "source": [
    "In words: find a line connected via a sim-edge with value 90 to an other line."
   ]
  },
  {
   "cell_type": "code",
   "execution_count": 7,
   "metadata": {},
   "outputs": [
    {
     "name": "stdout",
     "output_type": "stream",
     "text": [
      "  0.22s 722 results\n"
     ]
    }
   ],
   "source": [
    "results = A.search(query)"
   ]
  },
  {
   "cell_type": "markdown",
   "metadata": {},
   "source": [
    "Not very much indeed. It seems that lines are either very similar, or not so similar at all."
   ]
  },
  {
   "cell_type": "code",
   "execution_count": 9,
   "metadata": {},
   "outputs": [
    {
     "data": {
      "text/html": [
       "<table>\n",
       "<tr class=\"tf\">\n",
       "  <th class=\"tf\">n</th><th class=\"tf\">p</th>\n",
       "  <th class=\"tf\">line</th><th>line</th>\n",
       "</tr>\n",
       "\n",
       "<tr class=\"tf\"><td class=\"tf\">1</td><td class=\"tf\"> <a href=\"https://cdli.ucla.edu/search/search_results.php?SearchMode=Text&amp;ObjectID=P509373\" title=\"show this document on CDLI\" sec=\"P509373 reverse:7'\">P509373 reverse:7'</a></td><td class=\"tf\"><span class=\"txtp\">_a-sza3 a-gar3_ na-ag-[ma-lum] _uru_ x x x{ki}</span></td><td class=\"tf\"><span class=\"txtp\">_a-[sza3 a-gar3_ na-ag]-ma-lum _uru gan2_ x x{ki}</span></td></tr>\n",
       "<tr class=\"tf\"><td class=\"tf\">2</td><td class=\"tf\"> <a href=\"https://cdli.ucla.edu/search/search_results.php?SearchMode=Text&amp;ObjectID=P510753\" title=\"show this document on CDLI\" sec=\"P510753 obverse:1'\">P510753 obverse:1'</a></td><td class=\"tf\"><span class=\"txtp\">_{d}utu_ u3 _{d}marduk_ da-ri-[isz] _u4_-[mi x]</span></td><td class=\"tf\"><span class=\"txtp\">{d}utu# u3 {d}marduk# [da-ri-isz _u4_-mi-im]</span></td></tr>\n",
       "<tr class=\"tf\"><td class=\"tf\">3</td><td class=\"tf\"> <a href=\"https://cdli.ucla.edu/search/search_results.php?SearchMode=Text&amp;ObjectID=P313342\" title=\"show this document on CDLI\" sec=\"P313342 obverse:4\">P313342 obverse:4</a></td><td class=\"tf\"><span class=\"txtp\">_{d}utu_ u3 _{d}marduk_ da-ri-[isz] _u4_-[mi x]</span></td><td class=\"tf\"><span class=\"txtp\">_{d}utu_ u3 _{d}marduk_ da-ri-isz u4-mi-im</span></td></tr>\n",
       "<tr class=\"tf\"><td class=\"tf\">4</td><td class=\"tf\"> <a href=\"https://cdli.ucla.edu/search/search_results.php?SearchMode=Text&amp;ObjectID=P386479\" title=\"show this document on CDLI\" sec=\"P386479 obverse:3\">P386479 obverse:3</a></td><td class=\"tf\"><span class=\"txtp\">_{d}utu_ u3 _{d}marduk_ da-ri-[isz] _u4_-[mi x]</span></td><td class=\"tf\"><span class=\"txtp\">{d}utu u3 {d}[marduk da-ri-isz _u4_]-mi#-im</span></td></tr>\n",
       "<tr class=\"tf\"><td class=\"tf\">5</td><td class=\"tf\"> <a href=\"https://cdli.ucla.edu/search/search_results.php?SearchMode=Text&amp;ObjectID=P510531\" title=\"show this document on CDLI\" sec=\"P510531 obverse:11\">P510531 obverse:11</a></td><td class=\"tf\"><span class=\"txtp\">it-ti-szu a-na _a-sza3_ ri-id-ma</span></td><td class=\"tf\"><span class=\"txtp\">[it-ti]-szu#-nu a-na _a-sza3_ ri-id-ma</span></td></tr>\n",
       "<tr class=\"tf\"><td class=\"tf\">6</td><td class=\"tf\"> <a href=\"https://cdli.ucla.edu/search/search_results.php?SearchMode=Text&amp;ObjectID=P510569\" title=\"show this document on CDLI\" sec=\"P510569 obverse:4\">P510569 obverse:4</a></td><td class=\"tf\"><span class=\"txtp\">{d}utu u3 {d}marduk li-ba-al-li-t,u2-ka</span></td><td class=\"tf\"><span class=\"txtp\">{d}utu u3 {d}marduk li-ba-al-li-t,u2-ka!(KI)</span></td></tr>\n",
       "<tr class=\"tf\"><td class=\"tf\">7</td><td class=\"tf\"> <a href=\"https://cdli.ucla.edu/search/search_results.php?SearchMode=Text&amp;ObjectID=P387309\" title=\"show this document on CDLI\" sec=\"P387309 obverse:4\">P387309 obverse:4</a></td><td class=\"tf\"><span class=\"txtp\">{d}utu u3 {d}marduk li-ba-al-li-t,u2-ka</span></td><td class=\"tf\"><span class=\"txtp\">{d}utu u3 {d}marduk tu-ba-al-li-t,u2-ka</span></td></tr>\n",
       "<tr class=\"tf\"><td class=\"tf\">8</td><td class=\"tf\"> <a href=\"https://cdli.ucla.edu/search/search_results.php?SearchMode=Text&amp;ObjectID=P510753\" title=\"show this document on CDLI\" sec=\"P510753 obverse:1'\">P510753 obverse:1'</a></td><td class=\"tf\"><span class=\"txtp\">{d}utu u3 {d}marduk da-ri-isz _u4_-mi</span></td><td class=\"tf\"><span class=\"txtp\">{d}utu# u3 {d}marduk# [da-ri-isz _u4_-mi-im]</span></td></tr>\n",
       "<tr class=\"tf\"><td class=\"tf\">9</td><td class=\"tf\"> <a href=\"https://cdli.ucla.edu/search/search_results.php?SearchMode=Text&amp;ObjectID=P313342\" title=\"show this document on CDLI\" sec=\"P313342 obverse:4\">P313342 obverse:4</a></td><td class=\"tf\"><span class=\"txtp\">{d}utu u3 {d}marduk da-ri-isz _u4_-mi</span></td><td class=\"tf\"><span class=\"txtp\">_{d}utu_ u3 _{d}marduk_ da-ri-isz u4-mi-im</span></td></tr>\n",
       "<tr class=\"tf\"><td class=\"tf\">10</td><td class=\"tf\"> <a href=\"https://cdli.ucla.edu/search/search_results.php?SearchMode=Text&amp;ObjectID=P386479\" title=\"show this document on CDLI\" sec=\"P386479 obverse:3\">P386479 obverse:3</a></td><td class=\"tf\"><span class=\"txtp\">{d}utu u3 {d}marduk da-ri-isz _u4_-mi</span></td><td class=\"tf\"><span class=\"txtp\">{d}utu u3 {d}[marduk da-ri-isz _u4_]-mi#-im</span></td></tr></table>"
      ],
      "text/plain": [
       "<IPython.core.display.HTML object>"
      ]
     },
     "metadata": {},
     "output_type": "display_data"
    }
   ],
   "source": [
    "A.table(results, start=1, end=10)"
   ]
  },
  {
   "cell_type": "markdown",
   "metadata": {},
   "source": [
    "In case the atf flags and clusters are a bit heavy on the eye, you can switch to a more pleasing rich text layout:"
   ]
  },
  {
   "cell_type": "code",
   "execution_count": 32,
   "metadata": {},
   "outputs": [
    {
     "data": {
      "text/html": [
       "<table><tr><th>n</th><th>p</th><th>line</th><th>line</th></tr>\n",
       "<tr><td>1</td><td> <a href=\"https://cdli.ucla.edu/search/search_results.php?SearchMode=Text&amp;ObjectID=P509373\" title=\"show this document on CDLI\" sec=\"P509373 reverse:7'\">P509373 reverse:7'</a></td><td><span class=\"txtr\"><span class=\"langalt\"><span class=\"r\">a</span></span>-<span class=\"langalt\"><span class=\"r\">ša₃</span></span> <span class=\"langalt\"><span class=\"r\">a</span></span>-<span class=\"langalt\"><span class=\"r\">gar₃</span></span> <span class=\"r\">na</span>-<span class=\"r\">ag</span>-<span class=\"missing\"><span class=\"r\">ma</span></span>-<span class=\"missing\"><span class=\"r\">lum</span></span> <span class=\"langalt\"><span class=\"r\">uru</span></span> <span class=\"uncertain\"><span class=\"r\">x</span></span> <span class=\"uncertain\"><span class=\"r\">x</span></span> <span class=\"uncertain\"><span class=\"r\">x</span></span><span class=\"det\"><span class=\"r\">ki</span></span></span></td><td><span class=\"txtr\"><span class=\"langalt\"><span class=\"r\">a</span></span>-<span class=\"langalt\"><span class=\"missing\"><span class=\"r\">ša₃</span></span></span> <span class=\"langalt\"><span class=\"missing\"><span class=\"r\">a</span></span></span>-<span class=\"langalt\"><span class=\"missing\"><span class=\"r\">gar₃</span></span></span> <span class=\"missing\"><span class=\"r\">na</span></span>-<span class=\"missing\"><span class=\"r\">ag</span></span>-<span class=\"r\">ma</span>-<span class=\"r\">lum</span> <span class=\"langalt\"><span class=\"r\">uru</span></span> <span class=\"langalt\"><span class=\"r\">gan₂</span></span> <span class=\"uncertain\"><span class=\"r\">x</span></span> <span class=\"uncertain\"><span class=\"r\">x</span></span><span class=\"det\"><span class=\"r\">ki</span></span></span></td></tr>\n",
       "<tr><td>2</td><td> <a href=\"https://cdli.ucla.edu/search/search_results.php?SearchMode=Text&amp;ObjectID=P510753\" title=\"show this document on CDLI\" sec=\"P510753 obverse:1'\">P510753 obverse:1'</a></td><td><span class=\"txtr\"><span class=\"langalt\"><span class=\"det\"><span class=\"r\">d</span></span></span><span class=\"langalt\"><span class=\"r\">utu</span></span> <span class=\"r\">u₃</span> <span class=\"langalt\"><span class=\"det\"><span class=\"r\">d</span></span></span><span class=\"langalt\"><span class=\"r\">marduk</span></span> <span class=\"r\">da</span>-<span class=\"r\">ri</span>-<span class=\"missing\"><span class=\"r\">iš</span></span> <span class=\"langalt\"><span class=\"r\">u₄</span></span>-<span class=\"missing\"><span class=\"r\">mi</span></span> <span class=\"missing\"><span class=\"uncertain\"><span class=\"r\">x</span></span></span></span></td><td><span class=\"txtr\"><span class=\"det\"><span class=\"r\">d</span></span><span class=\"damage\"><span class=\"r\">utu</span></span> <span class=\"r\">u₃</span> <span class=\"det\"><span class=\"r\">d</span></span><span class=\"damage\"><span class=\"r\">marduk</span></span> <span class=\"missing\"><span class=\"r\">da</span></span>-<span class=\"missing\"><span class=\"r\">ri</span></span>-<span class=\"missing\"><span class=\"r\">iš</span></span> <span class=\"langalt\"><span class=\"missing\"><span class=\"r\">u₄</span></span></span>-<span class=\"missing\"><span class=\"r\">mi</span></span>-<span class=\"missing\"><span class=\"r\">im</span></span></span></td></tr>\n",
       "<tr><td>3</td><td> <a href=\"https://cdli.ucla.edu/search/search_results.php?SearchMode=Text&amp;ObjectID=P313342\" title=\"show this document on CDLI\" sec=\"P313342 obverse:4\">P313342 obverse:4</a></td><td><span class=\"txtr\"><span class=\"langalt\"><span class=\"det\"><span class=\"r\">d</span></span></span><span class=\"langalt\"><span class=\"r\">utu</span></span> <span class=\"r\">u₃</span> <span class=\"langalt\"><span class=\"det\"><span class=\"r\">d</span></span></span><span class=\"langalt\"><span class=\"r\">marduk</span></span> <span class=\"r\">da</span>-<span class=\"r\">ri</span>-<span class=\"missing\"><span class=\"r\">iš</span></span> <span class=\"langalt\"><span class=\"r\">u₄</span></span>-<span class=\"missing\"><span class=\"r\">mi</span></span> <span class=\"missing\"><span class=\"uncertain\"><span class=\"r\">x</span></span></span></span></td><td><span class=\"txtr\"><span class=\"langalt\"><span class=\"det\"><span class=\"r\">d</span></span></span><span class=\"langalt\"><span class=\"r\">utu</span></span> <span class=\"r\">u₃</span> <span class=\"langalt\"><span class=\"det\"><span class=\"r\">d</span></span></span><span class=\"langalt\"><span class=\"r\">marduk</span></span> <span class=\"r\">da</span>-<span class=\"r\">ri</span>-<span class=\"r\">iš</span> <span class=\"r\">u₄</span>-<span class=\"r\">mi</span>-<span class=\"r\">im</span></span></td></tr>\n",
       "<tr><td>4</td><td> <a href=\"https://cdli.ucla.edu/search/search_results.php?SearchMode=Text&amp;ObjectID=P386479\" title=\"show this document on CDLI\" sec=\"P386479 obverse:3\">P386479 obverse:3</a></td><td><span class=\"txtr\"><span class=\"langalt\"><span class=\"det\"><span class=\"r\">d</span></span></span><span class=\"langalt\"><span class=\"r\">utu</span></span> <span class=\"r\">u₃</span> <span class=\"langalt\"><span class=\"det\"><span class=\"r\">d</span></span></span><span class=\"langalt\"><span class=\"r\">marduk</span></span> <span class=\"r\">da</span>-<span class=\"r\">ri</span>-<span class=\"missing\"><span class=\"r\">iš</span></span> <span class=\"langalt\"><span class=\"r\">u₄</span></span>-<span class=\"missing\"><span class=\"r\">mi</span></span> <span class=\"missing\"><span class=\"uncertain\"><span class=\"r\">x</span></span></span></span></td><td><span class=\"txtr\"><span class=\"det\"><span class=\"r\">d</span></span><span class=\"r\">utu</span> <span class=\"r\">u₃</span> <span class=\"det\"><span class=\"r\">d</span></span><span class=\"missing\"><span class=\"r\">marduk</span></span> <span class=\"missing\"><span class=\"r\">da</span></span>-<span class=\"missing\"><span class=\"r\">ri</span></span>-<span class=\"missing\"><span class=\"r\">iš</span></span> <span class=\"langalt\"><span class=\"missing\"><span class=\"r\">u₄</span></span></span>-<span class=\"damage\"><span class=\"r\">mi</span></span>-<span class=\"r\">im</span></span></td></tr>\n",
       "<tr><td>5</td><td> <a href=\"https://cdli.ucla.edu/search/search_results.php?SearchMode=Text&amp;ObjectID=P510531\" title=\"show this document on CDLI\" sec=\"P510531 obverse:11\">P510531 obverse:11</a></td><td><span class=\"txtr\"><span class=\"r\">it</span>-<span class=\"r\">ti</span>-<span class=\"r\">šu</span> <span class=\"r\">a</span>-<span class=\"r\">na</span> <span class=\"langalt\"><span class=\"r\">a</span></span>-<span class=\"langalt\"><span class=\"r\">ša₃</span></span> <span class=\"r\">ri</span>-<span class=\"r\">id</span>-<span class=\"r\">ma</span></span></td><td><span class=\"txtr\"><span class=\"missing\"><span class=\"r\">it</span></span>-<span class=\"missing\"><span class=\"r\">ti</span></span>-<span class=\"damage\"><span class=\"r\">šu</span></span>-<span class=\"r\">nu</span> <span class=\"r\">a</span>-<span class=\"r\">na</span> <span class=\"langalt\"><span class=\"r\">a</span></span>-<span class=\"langalt\"><span class=\"r\">ša₃</span></span> <span class=\"r\">ri</span>-<span class=\"r\">id</span>-<span class=\"r\">ma</span></span></td></tr>\n",
       "<tr><td>6</td><td> <a href=\"https://cdli.ucla.edu/search/search_results.php?SearchMode=Text&amp;ObjectID=P510569\" title=\"show this document on CDLI\" sec=\"P510569 obverse:4\">P510569 obverse:4</a></td><td><span class=\"txtr\"><span class=\"det\"><span class=\"r\">d</span></span><span class=\"r\">utu</span> <span class=\"r\">u₃</span> <span class=\"det\"><span class=\"r\">d</span></span><span class=\"r\">marduk</span> <span class=\"r\">li</span>-<span class=\"r\">ba</span>-<span class=\"r\">al</span>-<span class=\"r\">li</span>-<span class=\"r\">ṭu₂</span>-<span class=\"r\">ka</span></span></td><td><span class=\"txtr\"><span class=\"det\"><span class=\"r\">d</span></span><span class=\"r\">utu</span> <span class=\"r\">u₃</span> <span class=\"det\"><span class=\"r\">d</span></span><span class=\"r\">marduk</span> <span class=\"r\">li</span>-<span class=\"r\">ba</span>-<span class=\"r\">al</span>-<span class=\"r\">li</span>-<span class=\"r\">ṭu₂</span>-<span class=\"r\">ka</span><span class=\"operator\">=</span>⌈<span class=\"g\">KI</span>⌉</span></td></tr>\n",
       "<tr><td>7</td><td> <a href=\"https://cdli.ucla.edu/search/search_results.php?SearchMode=Text&amp;ObjectID=P387309\" title=\"show this document on CDLI\" sec=\"P387309 obverse:4\">P387309 obverse:4</a></td><td><span class=\"txtr\"><span class=\"det\"><span class=\"r\">d</span></span><span class=\"r\">utu</span> <span class=\"r\">u₃</span> <span class=\"det\"><span class=\"r\">d</span></span><span class=\"r\">marduk</span> <span class=\"r\">li</span>-<span class=\"r\">ba</span>-<span class=\"r\">al</span>-<span class=\"r\">li</span>-<span class=\"r\">ṭu₂</span>-<span class=\"r\">ka</span></span></td><td><span class=\"txtr\"><span class=\"det\"><span class=\"r\">d</span></span><span class=\"r\">utu</span> <span class=\"r\">u₃</span> <span class=\"det\"><span class=\"r\">d</span></span><span class=\"r\">marduk</span> <span class=\"r\">tu</span>-<span class=\"r\">ba</span>-<span class=\"r\">al</span>-<span class=\"r\">li</span>-<span class=\"r\">ṭu₂</span>-<span class=\"r\">ka</span></span></td></tr>\n",
       "<tr><td>8</td><td> <a href=\"https://cdli.ucla.edu/search/search_results.php?SearchMode=Text&amp;ObjectID=P510753\" title=\"show this document on CDLI\" sec=\"P510753 obverse:1'\">P510753 obverse:1'</a></td><td><span class=\"txtr\"><span class=\"det\"><span class=\"r\">d</span></span><span class=\"r\">utu</span> <span class=\"r\">u₃</span> <span class=\"det\"><span class=\"r\">d</span></span><span class=\"r\">marduk</span> <span class=\"r\">da</span>-<span class=\"r\">ri</span>-<span class=\"r\">iš</span> <span class=\"langalt\"><span class=\"r\">u₄</span></span>-<span class=\"r\">mi</span></span></td><td><span class=\"txtr\"><span class=\"det\"><span class=\"r\">d</span></span><span class=\"damage\"><span class=\"r\">utu</span></span> <span class=\"r\">u₃</span> <span class=\"det\"><span class=\"r\">d</span></span><span class=\"damage\"><span class=\"r\">marduk</span></span> <span class=\"missing\"><span class=\"r\">da</span></span>-<span class=\"missing\"><span class=\"r\">ri</span></span>-<span class=\"missing\"><span class=\"r\">iš</span></span> <span class=\"langalt\"><span class=\"missing\"><span class=\"r\">u₄</span></span></span>-<span class=\"missing\"><span class=\"r\">mi</span></span>-<span class=\"missing\"><span class=\"r\">im</span></span></span></td></tr>\n",
       "<tr><td>9</td><td> <a href=\"https://cdli.ucla.edu/search/search_results.php?SearchMode=Text&amp;ObjectID=P313342\" title=\"show this document on CDLI\" sec=\"P313342 obverse:4\">P313342 obverse:4</a></td><td><span class=\"txtr\"><span class=\"det\"><span class=\"r\">d</span></span><span class=\"r\">utu</span> <span class=\"r\">u₃</span> <span class=\"det\"><span class=\"r\">d</span></span><span class=\"r\">marduk</span> <span class=\"r\">da</span>-<span class=\"r\">ri</span>-<span class=\"r\">iš</span> <span class=\"langalt\"><span class=\"r\">u₄</span></span>-<span class=\"r\">mi</span></span></td><td><span class=\"txtr\"><span class=\"langalt\"><span class=\"det\"><span class=\"r\">d</span></span></span><span class=\"langalt\"><span class=\"r\">utu</span></span> <span class=\"r\">u₃</span> <span class=\"langalt\"><span class=\"det\"><span class=\"r\">d</span></span></span><span class=\"langalt\"><span class=\"r\">marduk</span></span> <span class=\"r\">da</span>-<span class=\"r\">ri</span>-<span class=\"r\">iš</span> <span class=\"r\">u₄</span>-<span class=\"r\">mi</span>-<span class=\"r\">im</span></span></td></tr>\n",
       "<tr><td>10</td><td> <a href=\"https://cdli.ucla.edu/search/search_results.php?SearchMode=Text&amp;ObjectID=P386479\" title=\"show this document on CDLI\" sec=\"P386479 obverse:3\">P386479 obverse:3</a></td><td><span class=\"txtr\"><span class=\"det\"><span class=\"r\">d</span></span><span class=\"r\">utu</span> <span class=\"r\">u₃</span> <span class=\"det\"><span class=\"r\">d</span></span><span class=\"r\">marduk</span> <span class=\"r\">da</span>-<span class=\"r\">ri</span>-<span class=\"r\">iš</span> <span class=\"langalt\"><span class=\"r\">u₄</span></span>-<span class=\"r\">mi</span></span></td><td><span class=\"txtr\"><span class=\"det\"><span class=\"r\">d</span></span><span class=\"r\">utu</span> <span class=\"r\">u₃</span> <span class=\"det\"><span class=\"r\">d</span></span><span class=\"missing\"><span class=\"r\">marduk</span></span> <span class=\"missing\"><span class=\"r\">da</span></span>-<span class=\"missing\"><span class=\"r\">ri</span></span>-<span class=\"missing\"><span class=\"r\">iš</span></span> <span class=\"langalt\"><span class=\"missing\"><span class=\"r\">u₄</span></span></span>-<span class=\"damage\"><span class=\"r\">mi</span></span>-<span class=\"r\">im</span></span></td></tr></table>"
      ],
      "text/plain": [
       "<IPython.core.display.HTML object>"
      ]
     },
     "metadata": {},
     "output_type": "display_data"
    }
   ],
   "source": [
    "A.table(results, start=1, end=10, fmt='layout-orig-rich')"
   ]
  },
  {
   "cell_type": "markdown",
   "metadata": {},
   "source": [
    "Or even in cuneiform unicode:"
   ]
  },
  {
   "cell_type": "code",
   "execution_count": 33,
   "metadata": {},
   "outputs": [
    {
     "data": {
      "text/html": [
       "<table><tr><th>n</th><th>p</th><th>line</th><th>line</th></tr>\n",
       "<tr><td>1</td><td> <a href=\"https://cdli.ucla.edu/search/search_results.php?SearchMode=Text&amp;ObjectID=P509373\" title=\"show this document on CDLI\" sec=\"P509373 reverse:7'\">P509373 reverse:7'</a></td><td><span class=\"txtu\"><span class=\"langalt\"><span class=\"r\">𒀀</span></span><span class=\"langalt\"><span class=\"r\">𒊮</span></span> <span class=\"langalt\"><span class=\"r\">𒀀</span></span><span class=\"langalt\"><span class=\"r\">𒃼</span></span> <span class=\"r\">𒈾</span><span class=\"r\">𒀝</span><span class=\"missing\"><span class=\"r\">𒈠</span></span><span class=\"missing\"><span class=\"r\">𒈝|𒋞</span></span> <span class=\"langalt\"><span class=\"r\">𒌷</span></span> <span class=\"uncertain\"><span class=\"r\">x</span></span> <span class=\"uncertain\"><span class=\"r\">x</span></span> <span class=\"uncertain\"><span class=\"r\">x</span></span><span class=\"det\"><span class=\"r\">𒆠</span></span></span></td><td><span class=\"txtu\"><span class=\"langalt\"><span class=\"r\">𒀀</span></span><span class=\"langalt\"><span class=\"missing\"><span class=\"r\">𒊮</span></span></span> <span class=\"langalt\"><span class=\"missing\"><span class=\"r\">𒀀</span></span></span><span class=\"langalt\"><span class=\"missing\"><span class=\"r\">𒃼</span></span></span> <span class=\"missing\"><span class=\"r\">𒈾</span></span><span class=\"missing\"><span class=\"r\">𒀝</span></span><span class=\"r\">𒈠</span><span class=\"r\">𒈝|𒋞</span> <span class=\"langalt\"><span class=\"r\">𒌷</span></span> <span class=\"langalt\"><span class=\"r\">𒃷</span></span> <span class=\"uncertain\"><span class=\"r\">x</span></span> <span class=\"uncertain\"><span class=\"r\">x</span></span><span class=\"det\"><span class=\"r\">𒆠</span></span></span></td></tr>\n",
       "<tr><td>2</td><td> <a href=\"https://cdli.ucla.edu/search/search_results.php?SearchMode=Text&amp;ObjectID=P510753\" title=\"show this document on CDLI\" sec=\"P510753 obverse:1'\">P510753 obverse:1'</a></td><td><span class=\"txtu\"><span class=\"langalt\"><span class=\"det\"><span class=\"r\">𒀭</span></span></span><span class=\"langalt\"><span class=\"r\">𒌓</span></span> <span class=\"r\">𒅇</span> <span class=\"langalt\"><span class=\"det\"><span class=\"r\">𒀭</span></span></span><span class=\"langalt\"><span class=\"r\">𒀫𒌓</span></span> <span class=\"r\">𒁕</span><span class=\"r\">𒊑</span><span class=\"missing\"><span class=\"r\">𒅖</span></span> <span class=\"langalt\"><span class=\"r\">𒌓</span></span><span class=\"missing\"><span class=\"r\">𒈪</span></span> <span class=\"missing\"><span class=\"uncertain\"><span class=\"r\">x</span></span></span></span></td><td><span class=\"txtu\"><span class=\"det\"><span class=\"r\">𒀭</span></span><span class=\"damage\"><span class=\"r\">𒌓</span></span> <span class=\"r\">𒅇</span> <span class=\"det\"><span class=\"r\">𒀭</span></span><span class=\"damage\"><span class=\"r\">𒀫𒌓</span></span> <span class=\"missing\"><span class=\"r\">𒁕</span></span><span class=\"missing\"><span class=\"r\">𒊑</span></span><span class=\"missing\"><span class=\"r\">𒅖</span></span> <span class=\"langalt\"><span class=\"missing\"><span class=\"r\">𒌓</span></span></span><span class=\"missing\"><span class=\"r\">𒈪</span></span><span class=\"missing\"><span class=\"r\">𒅎</span></span></span></td></tr>\n",
       "<tr><td>3</td><td> <a href=\"https://cdli.ucla.edu/search/search_results.php?SearchMode=Text&amp;ObjectID=P313342\" title=\"show this document on CDLI\" sec=\"P313342 obverse:4\">P313342 obverse:4</a></td><td><span class=\"txtu\"><span class=\"langalt\"><span class=\"det\"><span class=\"r\">𒀭</span></span></span><span class=\"langalt\"><span class=\"r\">𒌓</span></span> <span class=\"r\">𒅇</span> <span class=\"langalt\"><span class=\"det\"><span class=\"r\">𒀭</span></span></span><span class=\"langalt\"><span class=\"r\">𒀫𒌓</span></span> <span class=\"r\">𒁕</span><span class=\"r\">𒊑</span><span class=\"missing\"><span class=\"r\">𒅖</span></span> <span class=\"langalt\"><span class=\"r\">𒌓</span></span><span class=\"missing\"><span class=\"r\">𒈪</span></span> <span class=\"missing\"><span class=\"uncertain\"><span class=\"r\">x</span></span></span></span></td><td><span class=\"txtu\"><span class=\"langalt\"><span class=\"det\"><span class=\"r\">𒀭</span></span></span><span class=\"langalt\"><span class=\"r\">𒌓</span></span> <span class=\"r\">𒅇</span> <span class=\"langalt\"><span class=\"det\"><span class=\"r\">𒀭</span></span></span><span class=\"langalt\"><span class=\"r\">𒀫𒌓</span></span> <span class=\"r\">𒁕</span><span class=\"r\">𒊑</span><span class=\"r\">𒅖</span> <span class=\"r\">𒌓</span><span class=\"r\">𒈪</span><span class=\"r\">𒅎</span></span></td></tr>\n",
       "<tr><td>4</td><td> <a href=\"https://cdli.ucla.edu/search/search_results.php?SearchMode=Text&amp;ObjectID=P386479\" title=\"show this document on CDLI\" sec=\"P386479 obverse:3\">P386479 obverse:3</a></td><td><span class=\"txtu\"><span class=\"langalt\"><span class=\"det\"><span class=\"r\">𒀭</span></span></span><span class=\"langalt\"><span class=\"r\">𒌓</span></span> <span class=\"r\">𒅇</span> <span class=\"langalt\"><span class=\"det\"><span class=\"r\">𒀭</span></span></span><span class=\"langalt\"><span class=\"r\">𒀫𒌓</span></span> <span class=\"r\">𒁕</span><span class=\"r\">𒊑</span><span class=\"missing\"><span class=\"r\">𒅖</span></span> <span class=\"langalt\"><span class=\"r\">𒌓</span></span><span class=\"missing\"><span class=\"r\">𒈪</span></span> <span class=\"missing\"><span class=\"uncertain\"><span class=\"r\">x</span></span></span></span></td><td><span class=\"txtu\"><span class=\"det\"><span class=\"r\">𒀭</span></span><span class=\"r\">𒌓</span> <span class=\"r\">𒅇</span> <span class=\"det\"><span class=\"r\">𒀭</span></span><span class=\"missing\"><span class=\"r\">𒀫𒌓</span></span> <span class=\"missing\"><span class=\"r\">𒁕</span></span><span class=\"missing\"><span class=\"r\">𒊑</span></span><span class=\"missing\"><span class=\"r\">𒅖</span></span> <span class=\"langalt\"><span class=\"missing\"><span class=\"r\">𒌓</span></span></span><span class=\"damage\"><span class=\"r\">𒈪</span></span><span class=\"r\">𒅎</span></span></td></tr>\n",
       "<tr><td>5</td><td> <a href=\"https://cdli.ucla.edu/search/search_results.php?SearchMode=Text&amp;ObjectID=P510531\" title=\"show this document on CDLI\" sec=\"P510531 obverse:11\">P510531 obverse:11</a></td><td><span class=\"txtu\"><span class=\"r\">𒀉</span><span class=\"r\">𒋾</span><span class=\"r\">𒋗</span> <span class=\"r\">𒀀</span><span class=\"r\">𒈾</span> <span class=\"langalt\"><span class=\"r\">𒀀</span></span><span class=\"langalt\"><span class=\"r\">𒊮</span></span> <span class=\"r\">𒊑</span><span class=\"r\">𒀉</span><span class=\"r\">𒈠</span></span></td><td><span class=\"txtu\"><span class=\"missing\"><span class=\"r\">𒀉</span></span><span class=\"missing\"><span class=\"r\">𒋾</span></span><span class=\"damage\"><span class=\"r\">𒋗</span></span><span class=\"r\">𒉡</span> <span class=\"r\">𒀀</span><span class=\"r\">𒈾</span> <span class=\"langalt\"><span class=\"r\">𒀀</span></span><span class=\"langalt\"><span class=\"r\">𒊮</span></span> <span class=\"r\">𒊑</span><span class=\"r\">𒀉</span><span class=\"r\">𒈠</span></span></td></tr>\n",
       "<tr><td>6</td><td> <a href=\"https://cdli.ucla.edu/search/search_results.php?SearchMode=Text&amp;ObjectID=P510569\" title=\"show this document on CDLI\" sec=\"P510569 obverse:4\">P510569 obverse:4</a></td><td><span class=\"txtu\"><span class=\"det\"><span class=\"r\">𒀭</span></span><span class=\"r\">𒌓</span> <span class=\"r\">𒅇</span> <span class=\"det\"><span class=\"r\">𒀭</span></span><span class=\"r\">𒀫𒌓</span> <span class=\"r\">𒇷</span><span class=\"r\">𒁀</span><span class=\"r\">𒀠</span><span class=\"r\">𒇷</span><span class=\"r\">𒌅</span><span class=\"r\">𒅗</span></span></td><td><span class=\"txtu\"><span class=\"det\"><span class=\"r\">𒀭</span></span><span class=\"r\">𒌓</span> <span class=\"r\">𒅇</span> <span class=\"det\"><span class=\"r\">𒀭</span></span><span class=\"r\">𒀫𒌓</span> <span class=\"r\">𒇷</span><span class=\"r\">𒁀</span><span class=\"r\">𒀠</span><span class=\"r\">𒇷</span><span class=\"r\">𒌅</span><span class=\"r\">𒅗</span><span class=\"operator\">=</span>⌈<span class=\"g\">𒆠</span>⌉</span></td></tr>\n",
       "<tr><td>7</td><td> <a href=\"https://cdli.ucla.edu/search/search_results.php?SearchMode=Text&amp;ObjectID=P387309\" title=\"show this document on CDLI\" sec=\"P387309 obverse:4\">P387309 obverse:4</a></td><td><span class=\"txtu\"><span class=\"det\"><span class=\"r\">𒀭</span></span><span class=\"r\">𒌓</span> <span class=\"r\">𒅇</span> <span class=\"det\"><span class=\"r\">𒀭</span></span><span class=\"r\">𒀫𒌓</span> <span class=\"r\">𒇷</span><span class=\"r\">𒁀</span><span class=\"r\">𒀠</span><span class=\"r\">𒇷</span><span class=\"r\">𒌅</span><span class=\"r\">𒅗</span></span></td><td><span class=\"txtu\"><span class=\"det\"><span class=\"r\">𒀭</span></span><span class=\"r\">𒌓</span> <span class=\"r\">𒅇</span> <span class=\"det\"><span class=\"r\">𒀭</span></span><span class=\"r\">𒀫𒌓</span> <span class=\"r\">𒌅</span><span class=\"r\">𒁀</span><span class=\"r\">𒀠</span><span class=\"r\">𒇷</span><span class=\"r\">𒌅</span><span class=\"r\">𒅗</span></span></td></tr>\n",
       "<tr><td>8</td><td> <a href=\"https://cdli.ucla.edu/search/search_results.php?SearchMode=Text&amp;ObjectID=P510753\" title=\"show this document on CDLI\" sec=\"P510753 obverse:1'\">P510753 obverse:1'</a></td><td><span class=\"txtu\"><span class=\"det\"><span class=\"r\">𒀭</span></span><span class=\"r\">𒌓</span> <span class=\"r\">𒅇</span> <span class=\"det\"><span class=\"r\">𒀭</span></span><span class=\"r\">𒀫𒌓</span> <span class=\"r\">𒁕</span><span class=\"r\">𒊑</span><span class=\"r\">𒅖</span> <span class=\"langalt\"><span class=\"r\">𒌓</span></span><span class=\"r\">𒈪</span></span></td><td><span class=\"txtu\"><span class=\"det\"><span class=\"r\">𒀭</span></span><span class=\"damage\"><span class=\"r\">𒌓</span></span> <span class=\"r\">𒅇</span> <span class=\"det\"><span class=\"r\">𒀭</span></span><span class=\"damage\"><span class=\"r\">𒀫𒌓</span></span> <span class=\"missing\"><span class=\"r\">𒁕</span></span><span class=\"missing\"><span class=\"r\">𒊑</span></span><span class=\"missing\"><span class=\"r\">𒅖</span></span> <span class=\"langalt\"><span class=\"missing\"><span class=\"r\">𒌓</span></span></span><span class=\"missing\"><span class=\"r\">𒈪</span></span><span class=\"missing\"><span class=\"r\">𒅎</span></span></span></td></tr>\n",
       "<tr><td>9</td><td> <a href=\"https://cdli.ucla.edu/search/search_results.php?SearchMode=Text&amp;ObjectID=P313342\" title=\"show this document on CDLI\" sec=\"P313342 obverse:4\">P313342 obverse:4</a></td><td><span class=\"txtu\"><span class=\"det\"><span class=\"r\">𒀭</span></span><span class=\"r\">𒌓</span> <span class=\"r\">𒅇</span> <span class=\"det\"><span class=\"r\">𒀭</span></span><span class=\"r\">𒀫𒌓</span> <span class=\"r\">𒁕</span><span class=\"r\">𒊑</span><span class=\"r\">𒅖</span> <span class=\"langalt\"><span class=\"r\">𒌓</span></span><span class=\"r\">𒈪</span></span></td><td><span class=\"txtu\"><span class=\"langalt\"><span class=\"det\"><span class=\"r\">𒀭</span></span></span><span class=\"langalt\"><span class=\"r\">𒌓</span></span> <span class=\"r\">𒅇</span> <span class=\"langalt\"><span class=\"det\"><span class=\"r\">𒀭</span></span></span><span class=\"langalt\"><span class=\"r\">𒀫𒌓</span></span> <span class=\"r\">𒁕</span><span class=\"r\">𒊑</span><span class=\"r\">𒅖</span> <span class=\"r\">𒌓</span><span class=\"r\">𒈪</span><span class=\"r\">𒅎</span></span></td></tr>\n",
       "<tr><td>10</td><td> <a href=\"https://cdli.ucla.edu/search/search_results.php?SearchMode=Text&amp;ObjectID=P386479\" title=\"show this document on CDLI\" sec=\"P386479 obverse:3\">P386479 obverse:3</a></td><td><span class=\"txtu\"><span class=\"det\"><span class=\"r\">𒀭</span></span><span class=\"r\">𒌓</span> <span class=\"r\">𒅇</span> <span class=\"det\"><span class=\"r\">𒀭</span></span><span class=\"r\">𒀫𒌓</span> <span class=\"r\">𒁕</span><span class=\"r\">𒊑</span><span class=\"r\">𒅖</span> <span class=\"langalt\"><span class=\"r\">𒌓</span></span><span class=\"r\">𒈪</span></span></td><td><span class=\"txtu\"><span class=\"det\"><span class=\"r\">𒀭</span></span><span class=\"r\">𒌓</span> <span class=\"r\">𒅇</span> <span class=\"det\"><span class=\"r\">𒀭</span></span><span class=\"missing\"><span class=\"r\">𒀫𒌓</span></span> <span class=\"missing\"><span class=\"r\">𒁕</span></span><span class=\"missing\"><span class=\"r\">𒊑</span></span><span class=\"missing\"><span class=\"r\">𒅖</span></span> <span class=\"langalt\"><span class=\"missing\"><span class=\"r\">𒌓</span></span></span><span class=\"damage\"><span class=\"r\">𒈪</span></span><span class=\"r\">𒅎</span></span></td></tr></table>"
      ],
      "text/plain": [
       "<IPython.core.display.HTML object>"
      ]
     },
     "metadata": {},
     "output_type": "display_data"
    }
   ],
   "source": [
    "A.table(results, start=1, end=10, fmt='layout-orig-unicode')"
   ]
  },
  {
   "cell_type": "markdown",
   "metadata": {},
   "source": [
    "From now on we forget about the level of similarity, and focus on whether two lines are just \"similar\", meaning that they have\n",
    "a high degree of similarity."
   ]
  },
  {
   "cell_type": "markdown",
   "metadata": {},
   "source": [
    "# Cluster the lines\n",
    "\n",
    "Before we try to find them, let's see if we can cluster the lines in similar clusters."
   ]
  },
  {
   "cell_type": "code",
   "execution_count": 14,
   "metadata": {},
   "outputs": [],
   "source": [
    "CLUSTER_THRESHOLD = 0.5\n",
    "\n",
    "def makeClusters():\n",
    "  indent(reset=True)\n",
    "  chunkSize = 1000\n",
    "  b = 0\n",
    "  j = 0\n",
    "  clusters = []\n",
    "  for l in F.otype.s('line'):\n",
    "    j += 1\n",
    "    b += 1\n",
    "    if b == chunkSize:\n",
    "      b = 0\n",
    "      info(f'{j:>5} lines and {len(clusters):>5} clusters')\n",
    "    lSisters = {x[0] for x in E.sim.b(l)}\n",
    "    lAdded = False\n",
    "    for cl in clusters:\n",
    "      if len(cl & lSisters) > CLUSTER_THRESHOLD * len(cl):\n",
    "        cl.add(l)\n",
    "        lAdded = True\n",
    "        break\n",
    "    if not lAdded:\n",
    "      clusters.append({l})\n",
    "  info(f'{j} lines and {len(clusters)} clusters')\n",
    "  return clusters"
   ]
  },
  {
   "cell_type": "code",
   "execution_count": 15,
   "metadata": {},
   "outputs": [
    {
     "name": "stdout",
     "output_type": "stream",
     "text": [
      "  0.12s 1000 lines and 858 clusters\n",
      "  0.41s 2000 lines and 1691 clusters\n",
      "  0.85s 3000 lines and 2509 clusters\n",
      "  1.46s 4000 lines and 3338 clusters\n",
      "  2.24s 5000 lines and 4135 clusters\n",
      "  3.35s 6000 lines and 4885 clusters\n",
      "  4.38s 7000 lines and 5659 clusters\n",
      "  5.58s 8000 lines and 6358 clusters\n",
      "  6.94s 9000 lines and 7125 clusters\n",
      "  8.50s 10000 lines and 7894 clusters\n",
      "    10s 11000 lines and 8715 clusters\n",
      "    12s 12000 lines and 9450 clusters\n",
      "    14s 13000 lines and 10166 clusters\n",
      "    16s 14000 lines and 11010 clusters\n",
      "    18s 15000 lines and 11774 clusters\n",
      "    21s 16000 lines and 12593 clusters\n",
      "    23s 17000 lines and 13220 clusters\n",
      "    26s 18000 lines and 13893 clusters\n",
      "    29s 19000 lines and 14638 clusters\n",
      "    32s 20000 lines and 15381 clusters\n",
      "    35s 21000 lines and 16096 clusters\n",
      "    38s 22000 lines and 16799 clusters\n",
      "    41s 23000 lines and 17505 clusters\n",
      "    44s 24000 lines and 18235 clusters\n",
      "    48s 25000 lines and 19006 clusters\n",
      "    52s 26000 lines and 19723 clusters\n",
      "    55s 27000 lines and 20446 clusters\n",
      "Found 20735 clusters\n"
     ]
    }
   ],
   "source": [
    "clusters = makeClusters()"
   ]
  },
  {
   "cell_type": "markdown",
   "metadata": {},
   "source": [
    "What is the distribution of the clusters, in terms of how many similar lines they contain?\n",
    "We count them."
   ]
  },
  {
   "cell_type": "code",
   "execution_count": 17,
   "metadata": {},
   "outputs": [
    {
     "name": "stdout",
     "output_type": "stream",
     "text": [
      "clusters of size 1006:     1\n",
      "clusters of size  129:     1\n",
      "clusters of size  125:     1\n",
      "clusters of size  108:     1\n",
      "clusters of size   84:     1\n",
      "clusters of size   78:     1\n",
      "clusters of size   76:     1\n",
      "clusters of size   74:     1\n",
      "clusters of size   69:     1\n",
      "clusters of size   64:     1\n",
      "clusters of size   56:     1\n",
      "clusters of size   52:     1\n",
      "clusters of size   51:     1\n",
      "clusters of size   49:     1\n",
      "clusters of size   48:     1\n",
      "clusters of size   45:     1\n",
      "clusters of size   44:     1\n",
      "clusters of size   43:     1\n",
      "clusters of size   39:     1\n",
      "clusters of size   35:     1\n",
      "clusters of size   34:     1\n",
      "clusters of size   32:     1\n",
      "clusters of size   30:     3\n",
      "clusters of size   29:     1\n",
      "clusters of size   28:     4\n",
      "clusters of size   27:     2\n",
      "clusters of size   26:     2\n",
      "clusters of size   25:     3\n",
      "clusters of size   24:     1\n",
      "clusters of size   23:     3\n",
      "clusters of size   22:     3\n",
      "clusters of size   20:     4\n",
      "clusters of size   19:     2\n",
      "clusters of size   18:     4\n",
      "clusters of size   17:     3\n",
      "clusters of size   16:     2\n",
      "clusters of size   15:     4\n",
      "clusters of size   14:     9\n",
      "clusters of size   13:     7\n",
      "clusters of size   12:     9\n",
      "clusters of size   11:    12\n",
      "clusters of size   10:    17\n",
      "clusters of size    9:    14\n",
      "clusters of size    8:    28\n",
      "clusters of size    7:    30\n",
      "clusters of size    6:    49\n",
      "clusters of size    5:    58\n",
      "clusters of size    4:   123\n",
      "clusters of size    3:   276\n",
      "clusters of size    2:   998\n",
      "clusters of size    1: 19042\n"
     ]
    }
   ],
   "source": [
    "clusterSizes = collections.Counter()\n",
    "\n",
    "for cl in clusters:\n",
    "  clusterSizes[len(cl)] += 1\n",
    "  \n",
    "for (size, amount) in sorted(\n",
    "  clusterSizes.items(),\n",
    "  key=lambda x: (-x[0], x[1]),\n",
    "):\n",
    "  print(f'clusters of size {size:>4}: {amount:>5}')"
   ]
  },
  {
   "cell_type": "markdown",
   "metadata": {},
   "source": [
    "# Interesting groups\n",
    "\n",
    "Let's investigate some interesting groups, that lie in some sweet spots.\n",
    "\n",
    "* the biggest clusters: more than 31 members\n",
    "* the medium clusters: between 12 and 30 members\n",
    "* the small clusters: between 2 and 11 members"
   ]
  },
  {
   "cell_type": "markdown",
   "metadata": {},
   "source": [
    "---\n",
    "\n",
    "All chapters:\n",
    "\n",
    "* **[start](start.ipynb)** become an expert in creating pretty displays of your text structures\n",
    "* **[display](display.ipynb)** become an expert in creating pretty displays of your text structures\n",
    "* **[search](search.ipynb)** turbo charge your hand-coding with search templates\n",
    "* **[exportExcel](exportExcel.ipynb)** make tailor-made spreadsheets out of your results\n",
    "* **[share](share.ipynb)** draw in other people's data and let them use yours\n",
    "* **similarLines** spot the similarities between lines"
   ]
  }
 ],
 "metadata": {
  "kernelspec": {
   "display_name": "Python 3",
   "language": "python",
   "name": "python3"
  },
  "language_info": {
   "codemirror_mode": {
    "name": "ipython",
    "version": 3
   },
   "file_extension": ".py",
   "mimetype": "text/x-python",
   "name": "python",
   "nbconvert_exporter": "python",
   "pygments_lexer": "ipython3",
   "version": "3.7.2"
  }
 },
 "nbformat": 4,
 "nbformat_minor": 2
}
