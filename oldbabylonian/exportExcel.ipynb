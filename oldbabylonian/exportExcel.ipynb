{
 "cells": [
  {
   "cell_type": "markdown",
   "metadata": {},
   "source": [
    "<img align=\"right\" src=\"images/tf.png\" width=\"128\"/>\n",
    "<img align=\"right\" src=\"images/ninologo.png\" width=\"128\"/>\n",
    "<img align=\"right\" src=\"images/dans.png\" width=\"128\"/>\n",
    "\n",
    "---\n",
    "\n",
    "To get started: consult [start](start.ipynb)\n",
    "\n",
    "---\n",
    "\n",
    "# Export to Excel\n",
    "\n",
    "In a notebook, you can perform searches and view them in a tabular display and zoom in on items with\n",
    "pretty displays.\n",
    "\n",
    "But there are times that you want to take your results outside Text-Fabric, outside a notebook, outside Python, and just\n",
    "work with them in other programs, such as Excel.\n",
    "\n",
    "You want to do that not only with query results, but with all kinds of lists of tuples of nodes.\n",
    "\n",
    "There is a function for that, `A.export()`, and here we show what it can do."
   ]
  },
  {
   "cell_type": "code",
   "execution_count": 1,
   "metadata": {},
   "outputs": [],
   "source": [
    "%load_ext autoreload\n",
    "%autoreload 2"
   ]
  },
  {
   "cell_type": "code",
   "execution_count": 2,
   "metadata": {
    "ExecuteTime": {
     "end_time": "2018-05-24T10:06:39.818664Z",
     "start_time": "2018-05-24T10:06:39.796588Z"
    }
   },
   "outputs": [],
   "source": [
    "import os\n",
    "from tf.app import use"
   ]
  },
  {
   "cell_type": "code",
   "execution_count": 3,
   "metadata": {},
   "outputs": [
    {
     "name": "stdout",
     "output_type": "stream",
     "text": [
      "Using TF-app in /Users/dirk/github/annotation/app-oldbabylonian/code:\n",
      "\trepo clone offline under ~/github (local github)\n",
      "\tconnecting to online GitHub repo Nino-cunei/oldbabylonian ... connected\n",
      "Using data in /Users/dirk/text-fabric-data/Nino-cunei/oldbabylonian/tf/1.0.4:\n",
      "\trv1.4 (latest release)\n"
     ]
    },
    {
     "data": {
      "text/html": [
       "<b>Documentation:</b> <a target=\"_blank\" href=\"https://github.com/Nino-cunei/oldbabylonian/blob/master/docs/\" title=\"provenance of Old Babylonian Letters 1900-1600: Cuneiform tablets \">OLDBABYLONIAN</a> <a target=\"_blank\" href=\"https://github.com/Nino-cunei/oldbabylonian/blob/master/docs/transcription.md\" title=\"How TF features represent ATF\">Character table</a> <a target=\"_blank\" href=\"https://github.com/Nino-cunei/oldbabylonian/blob/master/docs//transcription.md\" title=\"OLDBABYLONIAN feature documentation\">Feature docs</a> <a target=\"_blank\" href=\"https://github.com/annotation/app-oldbabylonian\" title=\"oldbabylonian API documentation\">oldbabylonian API</a> <a target=\"_blank\" href=\"https://annotation.github.io/text-fabric/Api/Fabric/\" title=\"text-fabric-api\">Text-Fabric API 7.5.4</a> <a target=\"_blank\" href=\"https://annotation.github.io/text-fabric/Use/Search/\" title=\"Search Templates Introduction and Reference\">Search Reference</a><details open><summary><b>Loaded features</b>:</summary>\n",
       "<p><b>Old Babylonian Letters 1900-1600: Cuneiform tablets </b>: <a target=\"_blank\" href=\"https://github.com/Nino-cunei/oldbabylonian/blob/master/docs//transcription.md\" title=\"/Users/dirk/text-fabric-data/Nino-cunei/oldbabylonian/tf/1.0.4/ARK.tf\">ARK</a>  <a target=\"_blank\" href=\"https://github.com/Nino-cunei/oldbabylonian/blob/master/docs//transcription.md\" title=\"/Users/dirk/text-fabric-data/Nino-cunei/oldbabylonian/tf/1.0.4/after.tf\">after</a>  <a target=\"_blank\" href=\"https://github.com/Nino-cunei/oldbabylonian/blob/master/docs//transcription.md\" title=\"/Users/dirk/text-fabric-data/Nino-cunei/oldbabylonian/tf/1.0.4/afterr.tf\">afterr</a>  <a target=\"_blank\" href=\"https://github.com/Nino-cunei/oldbabylonian/blob/master/docs//transcription.md\" title=\"/Users/dirk/text-fabric-data/Nino-cunei/oldbabylonian/tf/1.0.4/afteru.tf\">afteru</a>  <a target=\"_blank\" href=\"https://github.com/Nino-cunei/oldbabylonian/blob/master/docs//transcription.md\" title=\"/Users/dirk/text-fabric-data/Nino-cunei/oldbabylonian/tf/1.0.4/atf.tf\">atf</a>  <a target=\"_blank\" href=\"https://github.com/Nino-cunei/oldbabylonian/blob/master/docs//transcription.md\" title=\"/Users/dirk/text-fabric-data/Nino-cunei/oldbabylonian/tf/1.0.4/atfpost.tf\">atfpost</a>  <a target=\"_blank\" href=\"https://github.com/Nino-cunei/oldbabylonian/blob/master/docs//transcription.md\" title=\"/Users/dirk/text-fabric-data/Nino-cunei/oldbabylonian/tf/1.0.4/atfpre.tf\">atfpre</a>  <a target=\"_blank\" href=\"https://github.com/Nino-cunei/oldbabylonian/blob/master/docs//transcription.md\" title=\"/Users/dirk/text-fabric-data/Nino-cunei/oldbabylonian/tf/1.0.4/author.tf\">author</a>  <a target=\"_blank\" href=\"https://github.com/Nino-cunei/oldbabylonian/blob/master/docs//transcription.md\" title=\"/Users/dirk/text-fabric-data/Nino-cunei/oldbabylonian/tf/1.0.4/col.tf\">col</a>  <a target=\"_blank\" href=\"https://github.com/Nino-cunei/oldbabylonian/blob/master/docs//transcription.md\" title=\"/Users/dirk/text-fabric-data/Nino-cunei/oldbabylonian/tf/1.0.4/collated.tf\">collated</a>  <a target=\"_blank\" href=\"https://github.com/Nino-cunei/oldbabylonian/blob/master/docs//transcription.md\" title=\"/Users/dirk/text-fabric-data/Nino-cunei/oldbabylonian/tf/1.0.4/collection.tf\">collection</a>  <a target=\"_blank\" href=\"https://github.com/Nino-cunei/oldbabylonian/blob/master/docs//transcription.md\" title=\"/Users/dirk/text-fabric-data/Nino-cunei/oldbabylonian/tf/1.0.4/comment.tf\">comment</a>  <a target=\"_blank\" href=\"https://github.com/Nino-cunei/oldbabylonian/blob/master/docs//transcription.md\" title=\"/Users/dirk/text-fabric-data/Nino-cunei/oldbabylonian/tf/1.0.4/damage.tf\">damage</a>  <a target=\"_blank\" href=\"https://github.com/Nino-cunei/oldbabylonian/blob/master/docs//transcription.md\" title=\"/Users/dirk/text-fabric-data/Nino-cunei/oldbabylonian/tf/1.0.4/det.tf\">det</a>  <a target=\"_blank\" href=\"https://github.com/Nino-cunei/oldbabylonian/blob/master/docs//transcription.md\" title=\"/Users/dirk/text-fabric-data/Nino-cunei/oldbabylonian/tf/1.0.4/docnote.tf\">docnote</a>  <a target=\"_blank\" href=\"https://github.com/Nino-cunei/oldbabylonian/blob/master/docs//transcription.md\" title=\"/Users/dirk/text-fabric-data/Nino-cunei/oldbabylonian/tf/1.0.4/docnumber.tf\">docnumber</a>  <a target=\"_blank\" href=\"https://github.com/Nino-cunei/oldbabylonian/blob/master/docs//transcription.md\" title=\"/Users/dirk/text-fabric-data/Nino-cunei/oldbabylonian/tf/1.0.4/excavation.tf\">excavation</a>  <a target=\"_blank\" href=\"https://github.com/Nino-cunei/oldbabylonian/blob/master/docs//transcription.md\" title=\"/Users/dirk/text-fabric-data/Nino-cunei/oldbabylonian/tf/1.0.4/excised.tf\">excised</a>  <a target=\"_blank\" href=\"https://github.com/Nino-cunei/oldbabylonian/blob/master/docs//transcription.md\" title=\"/Users/dirk/text-fabric-data/Nino-cunei/oldbabylonian/tf/1.0.4/face.tf\">face</a>  <a target=\"_blank\" href=\"https://github.com/Nino-cunei/oldbabylonian/blob/master/docs//transcription.md\" title=\"/Users/dirk/text-fabric-data/Nino-cunei/oldbabylonian/tf/1.0.4/flags.tf\">flags</a>  <a target=\"_blank\" href=\"https://github.com/Nino-cunei/oldbabylonian/blob/master/docs//transcription.md\" title=\"/Users/dirk/text-fabric-data/Nino-cunei/oldbabylonian/tf/1.0.4/fraction.tf\">fraction</a>  <a target=\"_blank\" href=\"https://github.com/Nino-cunei/oldbabylonian/blob/master/docs//transcription.md\" title=\"/Users/dirk/text-fabric-data/Nino-cunei/oldbabylonian/tf/1.0.4/genre.tf\">genre</a>  <a target=\"_blank\" href=\"https://github.com/Nino-cunei/oldbabylonian/blob/master/docs//transcription.md\" title=\"/Users/dirk/text-fabric-data/Nino-cunei/oldbabylonian/tf/1.0.4/grapheme.tf\">grapheme</a>  <a target=\"_blank\" href=\"https://github.com/Nino-cunei/oldbabylonian/blob/master/docs//transcription.md\" title=\"/Users/dirk/text-fabric-data/Nino-cunei/oldbabylonian/tf/1.0.4/graphemer.tf\">graphemer</a>  <a target=\"_blank\" href=\"https://github.com/Nino-cunei/oldbabylonian/blob/master/docs//transcription.md\" title=\"/Users/dirk/text-fabric-data/Nino-cunei/oldbabylonian/tf/1.0.4/graphemeu.tf\">graphemeu</a>  <a target=\"_blank\" href=\"https://github.com/Nino-cunei/oldbabylonian/blob/master/docs//transcription.md\" title=\"/Users/dirk/text-fabric-data/Nino-cunei/oldbabylonian/tf/1.0.4/lang.tf\">lang</a>  <a target=\"_blank\" href=\"https://github.com/Nino-cunei/oldbabylonian/blob/master/docs//transcription.md\" title=\"/Users/dirk/text-fabric-data/Nino-cunei/oldbabylonian/tf/1.0.4/langalt.tf\">langalt</a>  <a target=\"_blank\" href=\"https://github.com/Nino-cunei/oldbabylonian/blob/master/docs//transcription.md\" title=\"/Users/dirk/text-fabric-data/Nino-cunei/oldbabylonian/tf/1.0.4/ln.tf\">ln</a>  <a target=\"_blank\" href=\"https://github.com/Nino-cunei/oldbabylonian/blob/master/docs//transcription.md\" title=\"/Users/dirk/text-fabric-data/Nino-cunei/oldbabylonian/tf/1.0.4/lnc.tf\">lnc</a>  <a target=\"_blank\" href=\"https://github.com/Nino-cunei/oldbabylonian/blob/master/docs//transcription.md\" title=\"/Users/dirk/text-fabric-data/Nino-cunei/oldbabylonian/tf/1.0.4/lnno.tf\">lnno</a>  <a target=\"_blank\" href=\"https://github.com/Nino-cunei/oldbabylonian/blob/master/docs//transcription.md\" title=\"/Users/dirk/text-fabric-data/Nino-cunei/oldbabylonian/tf/1.0.4/material.tf\">material</a>  <a target=\"_blank\" href=\"https://github.com/Nino-cunei/oldbabylonian/blob/master/docs//transcription.md\" title=\"/Users/dirk/text-fabric-data/Nino-cunei/oldbabylonian/tf/1.0.4/missing.tf\">missing</a>  <a target=\"_blank\" href=\"https://github.com/Nino-cunei/oldbabylonian/blob/master/docs//transcription.md\" title=\"/Users/dirk/text-fabric-data/Nino-cunei/oldbabylonian/tf/1.0.4/museumcode.tf\">museumcode</a>  <a target=\"_blank\" href=\"https://github.com/Nino-cunei/oldbabylonian/blob/master/docs//transcription.md\" title=\"/Users/dirk/text-fabric-data/Nino-cunei/oldbabylonian/tf/1.0.4/museumname.tf\">museumname</a>  <a target=\"_blank\" href=\"https://github.com/Nino-cunei/oldbabylonian/blob/master/docs//transcription.md\" title=\"/Users/dirk/text-fabric-data/Nino-cunei/oldbabylonian/tf/1.0.4/object.tf\">object</a>  <a target=\"_blank\" href=\"https://github.com/Nino-cunei/oldbabylonian/blob/master/docs//transcription.md\" title=\"/Users/dirk/text-fabric-data/Nino-cunei/oldbabylonian/tf/1.0.4/operator.tf\">operator</a>  <a target=\"_blank\" href=\"https://github.com/Nino-cunei/oldbabylonian/blob/master/docs//transcription.md\" title=\"/Users/dirk/text-fabric-data/Nino-cunei/oldbabylonian/tf/1.0.4/operatorr.tf\">operatorr</a>  <a target=\"_blank\" href=\"https://github.com/Nino-cunei/oldbabylonian/blob/master/docs//transcription.md\" title=\"/Users/dirk/text-fabric-data/Nino-cunei/oldbabylonian/tf/1.0.4/operatoru.tf\">operatoru</a>  <a target=\"_blank\" href=\"https://github.com/Nino-cunei/oldbabylonian/blob/master/docs//transcription.md\" title=\"/Users/dirk/text-fabric-data/Nino-cunei/oldbabylonian/tf/1.0.4/otype.tf\">otype</a>  <a target=\"_blank\" href=\"https://github.com/Nino-cunei/oldbabylonian/blob/master/docs//transcription.md\" title=\"/Users/dirk/text-fabric-data/Nino-cunei/oldbabylonian/tf/1.0.4/period.tf\">period</a>  <a target=\"_blank\" href=\"https://github.com/Nino-cunei/oldbabylonian/blob/master/docs//transcription.md\" title=\"/Users/dirk/text-fabric-data/Nino-cunei/oldbabylonian/tf/1.0.4/pnumber.tf\">pnumber</a>  <a target=\"_blank\" href=\"https://github.com/Nino-cunei/oldbabylonian/blob/master/docs//transcription.md\" title=\"/Users/dirk/text-fabric-data/Nino-cunei/oldbabylonian/tf/1.0.4/primecol.tf\">primecol</a>  <a target=\"_blank\" href=\"https://github.com/Nino-cunei/oldbabylonian/blob/master/docs//transcription.md\" title=\"/Users/dirk/text-fabric-data/Nino-cunei/oldbabylonian/tf/1.0.4/primeln.tf\">primeln</a>  <a target=\"_blank\" href=\"https://github.com/Nino-cunei/oldbabylonian/blob/master/docs//transcription.md\" title=\"/Users/dirk/text-fabric-data/Nino-cunei/oldbabylonian/tf/1.0.4/pubdate.tf\">pubdate</a>  <a target=\"_blank\" href=\"https://github.com/Nino-cunei/oldbabylonian/blob/master/docs//transcription.md\" title=\"/Users/dirk/text-fabric-data/Nino-cunei/oldbabylonian/tf/1.0.4/question.tf\">question</a>  <a target=\"_blank\" href=\"https://github.com/Nino-cunei/oldbabylonian/blob/master/docs//transcription.md\" title=\"/Users/dirk/text-fabric-data/Nino-cunei/oldbabylonian/tf/1.0.4/reading.tf\">reading</a>  <a target=\"_blank\" href=\"https://github.com/Nino-cunei/oldbabylonian/blob/master/docs//transcription.md\" title=\"/Users/dirk/text-fabric-data/Nino-cunei/oldbabylonian/tf/1.0.4/readingr.tf\">readingr</a>  <a target=\"_blank\" href=\"https://github.com/Nino-cunei/oldbabylonian/blob/master/docs//transcription.md\" title=\"/Users/dirk/text-fabric-data/Nino-cunei/oldbabylonian/tf/1.0.4/readingu.tf\">readingu</a>  <a target=\"_blank\" href=\"https://github.com/Nino-cunei/oldbabylonian/blob/master/docs//transcription.md\" title=\"/Users/dirk/text-fabric-data/Nino-cunei/oldbabylonian/tf/1.0.4/remarkable.tf\">remarkable</a>  <a target=\"_blank\" href=\"https://github.com/Nino-cunei/oldbabylonian/blob/master/docs//transcription.md\" title=\"/Users/dirk/text-fabric-data/Nino-cunei/oldbabylonian/tf/1.0.4/remarks.tf\">remarks</a>  <a target=\"_blank\" href=\"https://github.com/Nino-cunei/oldbabylonian/blob/master/docs//transcription.md\" title=\"/Users/dirk/text-fabric-data/Nino-cunei/oldbabylonian/tf/1.0.4/repeat.tf\">repeat</a>  <a target=\"_blank\" href=\"https://github.com/Nino-cunei/oldbabylonian/blob/master/docs//transcription.md\" title=\"/Users/dirk/text-fabric-data/Nino-cunei/oldbabylonian/tf/1.0.4/srcLn.tf\">srcLn</a>  <a target=\"_blank\" href=\"https://github.com/Nino-cunei/oldbabylonian/blob/master/docs//transcription.md\" title=\"/Users/dirk/text-fabric-data/Nino-cunei/oldbabylonian/tf/1.0.4/srcLnNum.tf\">srcLnNum</a>  <a target=\"_blank\" href=\"https://github.com/Nino-cunei/oldbabylonian/blob/master/docs//transcription.md\" title=\"/Users/dirk/text-fabric-data/Nino-cunei/oldbabylonian/tf/1.0.4/srcfile.tf\">srcfile</a>  <a target=\"_blank\" href=\"https://github.com/Nino-cunei/oldbabylonian/blob/master/docs//transcription.md\" title=\"/Users/dirk/text-fabric-data/Nino-cunei/oldbabylonian/tf/1.0.4/subgenre.tf\">subgenre</a>  <a target=\"_blank\" href=\"https://github.com/Nino-cunei/oldbabylonian/blob/master/docs//transcription.md\" title=\"/Users/dirk/text-fabric-data/Nino-cunei/oldbabylonian/tf/1.0.4/supplied.tf\">supplied</a>  <a target=\"_blank\" href=\"https://github.com/Nino-cunei/oldbabylonian/blob/master/docs//transcription.md\" title=\"/Users/dirk/text-fabric-data/Nino-cunei/oldbabylonian/tf/1.0.4/sym.tf\">sym</a>  <a target=\"_blank\" href=\"https://github.com/Nino-cunei/oldbabylonian/blob/master/docs//transcription.md\" title=\"/Users/dirk/text-fabric-data/Nino-cunei/oldbabylonian/tf/1.0.4/symr.tf\">symr</a>  <a target=\"_blank\" href=\"https://github.com/Nino-cunei/oldbabylonian/blob/master/docs//transcription.md\" title=\"/Users/dirk/text-fabric-data/Nino-cunei/oldbabylonian/tf/1.0.4/symu.tf\">symu</a>  <a target=\"_blank\" href=\"https://github.com/Nino-cunei/oldbabylonian/blob/master/docs//transcription.md\" title=\"/Users/dirk/text-fabric-data/Nino-cunei/oldbabylonian/tf/1.0.4/trans.tf\">trans</a>  <a target=\"_blank\" href=\"https://github.com/Nino-cunei/oldbabylonian/blob/master/docs//transcription.md\" title=\"/Users/dirk/text-fabric-data/Nino-cunei/oldbabylonian/tf/1.0.4/transcriber.tf\">transcriber</a>  <a target=\"_blank\" href=\"https://github.com/Nino-cunei/oldbabylonian/blob/master/docs//transcription.md\" title=\"/Users/dirk/text-fabric-data/Nino-cunei/oldbabylonian/tf/1.0.4/translation@en.tf\">translation@ll</a>  <a target=\"_blank\" href=\"https://github.com/Nino-cunei/oldbabylonian/blob/master/docs//transcription.md\" title=\"/Users/dirk/text-fabric-data/Nino-cunei/oldbabylonian/tf/1.0.4/type.tf\">type</a>  <a target=\"_blank\" href=\"https://github.com/Nino-cunei/oldbabylonian/blob/master/docs//transcription.md\" title=\"/Users/dirk/text-fabric-data/Nino-cunei/oldbabylonian/tf/1.0.4/uncertain.tf\">uncertain</a>  <a target=\"_blank\" href=\"https://github.com/Nino-cunei/oldbabylonian/blob/master/docs//transcription.md\" title=\"/Users/dirk/text-fabric-data/Nino-cunei/oldbabylonian/tf/1.0.4/volume.tf\">volume</a>  <b><i><a target=\"_blank\" href=\"https://github.com/Nino-cunei/oldbabylonian/blob/master/docs//transcription.md\" title=\"/Users/dirk/text-fabric-data/Nino-cunei/oldbabylonian/tf/1.0.4/oslots.tf\">oslots</a></i></b> </p></details>"
      ],
      "text/plain": [
       "<IPython.core.display.HTML object>"
      ]
     },
     "metadata": {},
     "output_type": "display_data"
    },
    {
     "data": {
      "text/html": [
       "<style>\n",
       "@font-face {\n",
       "  font-family: \"Santakku\";\n",
       "  src:\n",
       "    local(\"Santakku.ttf\"),\n",
       "    url(\"https://github.com/annotation/text-fabric/blob/master/tf/server/static/fonts/Santakku.woff?raw=true\");\n",
       "}\n",
       ".txtn,.txtn a:visited,.txtn a:link {\n",
       "    font-family: sans-serif;\n",
       "    font-size: normal;\n",
       "    text-decoration: none;\n",
       "}\n",
       ".txtp,.txtp a:visited,.txtp a:link {\n",
       "    font-family: monospace;\n",
       "    font-size: normal;\n",
       "    text-decoration: none;\n",
       "}\n",
       ".txtr,.txtr a:visited,.txtr a:link {\n",
       "    font-family: serif;\n",
       "    font-size: large;\n",
       "    text-decoration: none;\n",
       "}\n",
       ".txtu,.txtu a:visited,.txtu a:link {\n",
       "    font-family: Santakku;\n",
       "    font-size: x-large;\n",
       "    text-decoration: none;\n",
       "}\n",
       ".features {\n",
       "    font-family: monospace;\n",
       "    font-size: medium;\n",
       "    font-weight: bold;\n",
       "    color: #0a6611;\n",
       "    display: flex;\n",
       "    flex-flow: column nowrap;\n",
       "    padding: 0.1em;\n",
       "    margin: 0.1em;\n",
       "    direction: ltr;\n",
       "}\n",
       ".features div,.features span {\n",
       "    padding: 0;\n",
       "    margin: -0.1rem 0;\n",
       "}\n",
       ".features .f {\n",
       "    font-family: sans-serif;\n",
       "    font-size: x-small;\n",
       "    font-weight: normal;\n",
       "    color: #5555bb;\n",
       "}\n",
       ".features .xft {\n",
       "  color: #000000;\n",
       "  background-color: #eeeeee;\n",
       "  font-size: medium;\n",
       "  margin: 0.1em 0em;\n",
       "}\n",
       ".features .xft .f {\n",
       "  color: #000000;\n",
       "  background-color: #eeeeee;\n",
       "  font-style: italic;\n",
       "  font-size: small;\n",
       "  font-weight: normal;\n",
       "}\n",
       ".pnum {\n",
       "    font-family: sans-serif;\n",
       "    font-size: small;\n",
       "    font-weight: bold;\n",
       "    color: #444444;\n",
       "}\n",
       ".nd {\n",
       "    font-family: monospace;\n",
       "    font-size: x-small;\n",
       "    color: #999999;\n",
       "}\n",
       ".meta {\n",
       "    display: flex;\n",
       "    justify-content: flex-start;\n",
       "    align-items: flex-start;\n",
       "    align-content: flex-start;\n",
       "    flex-flow: row nowrap;\n",
       "}\n",
       ".features,.comments {\n",
       "    display: flex;\n",
       "    justify-content: flex-start;\n",
       "    align-items: flex-start;\n",
       "    align-content: flex-start;\n",
       "    flex-flow: column nowrap;\n",
       "}\n",
       ".children {\n",
       "    display: flex;\n",
       "    justify-content: flex-start;\n",
       "    align-items: flex-start;\n",
       "    align-content: flex-start;\n",
       "    border: 0;\n",
       "    background-color: #ffffff;\n",
       "}\n",
       ".children.document {\n",
       "    flex-flow: column nowrap;\n",
       "}\n",
       ".children.face {\n",
       "    flex-flow: column nowrap;\n",
       "}\n",
       ".children.line {\n",
       "    align-items: stretch;\n",
       "    flex-flow: row nowrap;\n",
       "}\n",
       ".children.cluster {\n",
       "    flex-flow: row wrap;\n",
       "}\n",
       ".children.line {\n",
       "    align-items: stretch;\n",
       "    flex-flow: row nowrap;\n",
       "}\n",
       ".children.sign {\n",
       "    flex-flow: column nowrap;\n",
       "}\n",
       ".contnr {\n",
       "    width: fit-content;\n",
       "}\n",
       ".contnr.document,.contnr.face,\n",
       ".contnr.line,\n",
       ".contnr.cluster,\n",
       ".contnr.word,\n",
       ".contnr.sign {\n",
       "    display: flex;\n",
       "    justify-content: flex-start;\n",
       "    align-items: flex-start;\n",
       "    align-content: flex-start;\n",
       "    flex-flow: column nowrap;\n",
       "    background: #ffffff none repeat scroll 0 0;\n",
       "    padding:  0.5em 0.1em 0.1em 0.1em;\n",
       "    margin: 0.8em 0.1em 0.1em 0.1em;\n",
       "    border-radius: 0.2em;\n",
       "    border-style: solid;\n",
       "    border-width: 0.2em;\n",
       "    font-size: small;\n",
       "}\n",
       ".contnr.document,.contnr.face {\n",
       "    border-color: #bb8800;\n",
       "}\n",
       ".contnr.line {\n",
       "    border-color: #0088bb;\n",
       "}\n",
       ".contnr.cluster {\n",
       "    flex-flow: row wrap;\n",
       "    border: 0;\n",
       "}\n",
       ".contnr.word {\n",
       "    border-color: #44bbff;\n",
       "}\n",
       ".contnr.sign {\n",
       "    border-color: #bbbbbb;\n",
       "}\n",
       ".contnr.hl {\n",
       "    background-color: #ffee66;\n",
       "}\n",
       ".lbl.document,.lbl.face,\n",
       ".lbl.line,\n",
       ".lbl.cluster,\n",
       ".lbl.sign,.lbl.word {\n",
       "    margin-top: -1.2em;\n",
       "    margin-left: 1em;\n",
       "    background: #ffffff none repeat scroll 0 0;\n",
       "    padding: 0 0.3em;\n",
       "    border-style: solid;\n",
       "    font-size: small;\n",
       "    display: block;\n",
       "}\n",
       ".lbl.document,.lbl.face {\n",
       "    border-color: #bb8800;\n",
       "    border-width: 0.3em;\n",
       "    border-radius: 0.3em;\n",
       "    color: #bb8800;\n",
       "}\n",
       ".lbl.line {\n",
       "    border-color: #0088bb;\n",
       "    border-width: 0.3em;\n",
       "    border-radius: 0.3em;\n",
       "    color: #0088bb;\n",
       "}\n",
       ".lbl.cluster {\n",
       "    border-color: #dddddd;\n",
       "    border-width: 0.2em;\n",
       "    border-radius: 0.2em;\n",
       "    color: #0000cc;\n",
       "}\n",
       ".lbl.word {\n",
       "    border-color: #44bbff;\n",
       "    border-width: 0.2em;\n",
       "    border-radius: 0.2em;\n",
       "    font-size: medium;\n",
       "    color: #000000;\n",
       "}\n",
       ".lbl.sign {\n",
       "    border-color: #bbbbbb;\n",
       "    border-width: 0.1em;\n",
       "    border-radius: 0.1em;\n",
       "    font-size: small;\n",
       "    color: #000000;\n",
       "}\n",
       ".op {\n",
       "    padding:  0.5em 0.1em 0.1em 0.1em;\n",
       "    margin: 0.8em 0.1em 0.1em 0.1em;\n",
       "    font-family: monospace;\n",
       "    font-size: x-large;\n",
       "    font-weight: bold;\n",
       "}\n",
       ".name {\n",
       "    font-family: monospace;\n",
       "    font-size: medium;\n",
       "    color: #0000bb;\n",
       "}\n",
       ".period {\n",
       "    font-family: monospace;\n",
       "    font-size: medium;\n",
       "    font-weight: bold;\n",
       "    color: #0000bb;\n",
       "}\n",
       ".text {\n",
       "    font-family: sans-serif;\n",
       "    font-size: x-small;\n",
       "    color: #000000;\n",
       "}\n",
       ".srcln {\n",
       "    font-family: monospace;\n",
       "    font-size: medium;\n",
       "    color: #000000;\n",
       "}\n",
       ".srclnnum {\n",
       "    font-family: monospace;\n",
       "    font-size: x-small;\n",
       "    color: #0000bb;\n",
       "}\n",
       ".comment {\n",
       "    color: #7777dd;\n",
       "    font-family: monospace;\n",
       "    font-size: small;\n",
       "}\n",
       ".operator {\n",
       "    color: #ff77ff;\n",
       "    font-size: large;\n",
       "}\n",
       "/* LANGUAGE: superscript and subscript */\n",
       "\n",
       "/* cluster */\n",
       ".det {\n",
       "    vertical-align: super;\n",
       "}\n",
       "/* cluster */\n",
       ".langalt {\n",
       "    vertical-align: sub;\n",
       "}\n",
       "/* REDACTIONAL: line over or under  */\n",
       "\n",
       "/* flag */\n",
       ".collated {\n",
       "    font-weight: bold;\n",
       "    text-decoration: underline;\n",
       "}\n",
       "/* cluster */\n",
       ".excised {\n",
       "    color: #dd0000;\n",
       "    text-decoration: line-through;\n",
       "}\n",
       "/* cluster */\n",
       ".supplied {\n",
       "    color: #0000ff;\n",
       "    text-decoration: overline;\n",
       "}\n",
       "/* flag */\n",
       ".remarkable {\n",
       "    font-weight: bold;\n",
       "    text-decoration: overline;\n",
       "}\n",
       "\n",
       "/* UNSURE: italic*/\n",
       "\n",
       "/* cluster */\n",
       ".uncertain {\n",
       "    font-style: italic\n",
       "}\n",
       "/* flag */\n",
       ".question {\n",
       "    font-weight: bold;\n",
       "    font-style: italic\n",
       "}\n",
       "\n",
       "/* BROKEN: text-shadow */\n",
       "\n",
       "/* cluster */\n",
       ".missing {\n",
       "    color: #999999;\n",
       "    text-shadow: #bbbbbb 1px 1px;\n",
       "}\n",
       "/* flag */\n",
       ".damage {\n",
       "    font-weight: bold;\n",
       "    color: #999999;\n",
       "    text-shadow: #bbbbbb 1px 1px;\n",
       "}\n",
       ".empty {\n",
       "  color: #ff0000;\n",
       "}\n",
       "\n",
       "\n",
       "tr.tf, td.tf, th.tf {\n",
       "  text-align: left;\n",
       "}\n",
       "\n",
       "span.hldot {\n",
       "\tbackground-color: var(--hl-strong);\n",
       "\tborder: 0.2rem solid var(--hl-rim);\n",
       "\tborder-radius: 0.4rem;\n",
       "\t/*\n",
       "\tdisplay: inline-block;\n",
       "\twidth: 0.8rem;\n",
       "\theight: 0.8rem;\n",
       "\t*/\n",
       "}\n",
       "span.hl {\n",
       "\tbackground-color: var(--hl-strong);\n",
       "\tborder-width: 0;\n",
       "\tborder-radius: 0.1rem;\n",
       "\tborder-style: solid;\n",
       "}\n",
       "\n",
       "span.hlup {\n",
       "\tborder-color: var(--hl-dark);\n",
       "\tborder-width: 0.1rem;\n",
       "\tborder-style: solid;\n",
       "\tborder-radius: 0.2rem;\n",
       "  padding: 0.2rem;\n",
       "}\n",
       "\n",
       ":root {\n",
       "\t--hl-strong:        hsla( 60, 100%,  70%, 0.9  );\n",
       "\t--hl-rim:           hsla( 55, 100%,  60%, 0.9  );\n",
       "\t--hl-dark:          hsla( 55, 100%,  40%, 0.9  );\n",
       "}\n",
       "</style>"
      ],
      "text/plain": [
       "<IPython.core.display.HTML object>"
      ]
     },
     "metadata": {},
     "output_type": "display_data"
    },
    {
     "data": {
      "text/html": [
       "<details open><summary><b>API members</b>:</summary>\n",
       "<a target=\"_blank\" href=\"https://annotation.github.io/text-fabric/Api/Computed/#computed-data\" title=\"doc\">C Computed</a>, <a target=\"_blank\" href=\"https://annotation.github.io/text-fabric/Api/Computed/#computed-data\" title=\"doc\">Call AllComputeds</a>, <a target=\"_blank\" href=\"https://annotation.github.io/text-fabric/Api/Computed/#computed-data\" title=\"doc\">Cs ComputedString</a><br/>\n",
       "<a target=\"_blank\" href=\"https://annotation.github.io/text-fabric/Api/Features/#edge-features\" title=\"doc\">E Edge</a>, <a target=\"_blank\" href=\"https://annotation.github.io/text-fabric/Api/Features/#edge-features\" title=\"doc\">Eall AllEdges</a>, <a target=\"_blank\" href=\"https://annotation.github.io/text-fabric/Api/Features/#edge-features\" title=\"doc\">Es EdgeString</a><br/>\n",
       "<a target=\"_blank\" href=\"https://annotation.github.io/text-fabric/Api/Fabric/#loading\" title=\"doc\">ensureLoaded</a>, <a target=\"_blank\" href=\"https://annotation.github.io/text-fabric/Api/Fabric/#loading\" title=\"doc\">TF</a>, <a target=\"_blank\" href=\"https://annotation.github.io/text-fabric/Api/Fabric/#loading\" title=\"doc\">ignored</a>, <a target=\"_blank\" href=\"https://annotation.github.io/text-fabric/Api/Fabric/#loading\" title=\"doc\">loadLog</a><br/>\n",
       "<a target=\"_blank\" href=\"https://annotation.github.io/text-fabric/Api/Locality/#locality\" title=\"doc\">L Locality</a><br/>\n",
       "<a target=\"_blank\" href=\"https://annotation.github.io/text-fabric/Api/Misc/#messaging\" title=\"doc\">cache</a>, <a target=\"_blank\" href=\"https://annotation.github.io/text-fabric/Api/Misc/#messaging\" title=\"doc\">error</a>, <a target=\"_blank\" href=\"https://annotation.github.io/text-fabric/Api/Misc/#messaging\" title=\"doc\">indent</a>, <a target=\"_blank\" href=\"https://annotation.github.io/text-fabric/Api/Misc/#messaging\" title=\"doc\">info</a>, <a target=\"_blank\" href=\"https://annotation.github.io/text-fabric/Api/Misc/#messaging\" title=\"doc\">reset</a><br/>\n",
       "<a target=\"_blank\" href=\"https://annotation.github.io/text-fabric/Api/Nodes/#navigating-nodes\" title=\"doc\">N Nodes</a>, <a target=\"_blank\" href=\"https://annotation.github.io/text-fabric/Api/Nodes/#navigating-nodes\" title=\"doc\">sortKey</a>, <a target=\"_blank\" href=\"https://annotation.github.io/text-fabric/Api/Nodes/#navigating-nodes\" title=\"doc\">sortKeyTuple</a>, <a target=\"_blank\" href=\"https://annotation.github.io/text-fabric/Api/Nodes/#navigating-nodes\" title=\"doc\">otypeRank</a>, <a target=\"_blank\" href=\"https://annotation.github.io/text-fabric/Api/Nodes/#navigating-nodes\" title=\"doc\">sortNodes</a><br/>\n",
       "<a target=\"_blank\" href=\"https://annotation.github.io/text-fabric/Api/Features/#node-features\" title=\"doc\">F Feature</a>, <a target=\"_blank\" href=\"https://annotation.github.io/text-fabric/Api/Features/#node-features\" title=\"doc\">Fall AllFeatures</a>, <a target=\"_blank\" href=\"https://annotation.github.io/text-fabric/Api/Features/#node-features\" title=\"doc\">Fs FeatureString</a><br/>\n",
       "<a target=\"_blank\" href=\"https://annotation.github.io/text-fabric/Api/Search/#search\" title=\"doc\">S Search</a><br/>\n",
       "<a target=\"_blank\" href=\"https://annotation.github.io/text-fabric/Api/Text/#text\" title=\"doc\">T Text</a></details>"
      ],
      "text/plain": [
       "<IPython.core.display.HTML object>"
      ]
     },
     "metadata": {},
     "output_type": "display_data"
    }
   ],
   "source": [
    "A = use('oldbabylonian', hoist=globals())"
   ]
  },
  {
   "cell_type": "markdown",
   "metadata": {},
   "source": [
    "# Inspect the contents of a file\n",
    "We write a function that can peek into file on your system, and show the first few lines.\n",
    "We'll use it to inspect the exported files that we are going to produce."
   ]
  },
  {
   "cell_type": "code",
   "execution_count": 4,
   "metadata": {},
   "outputs": [],
   "source": [
    "EXPORT_FILE = os.path.expanduser('~/Downloads/results.tsv')\n",
    "UPTO = 10\n",
    "\n",
    "def checkout():\n",
    "    with open(EXPORT_FILE, encoding='utf_16') as fh:\n",
    "        for (i, line) in enumerate(fh):\n",
    "            if i >= UPTO:\n",
    "                break\n",
    "            print(line.rstrip('\\n'))"
   ]
  },
  {
   "cell_type": "markdown",
   "metadata": {},
   "source": [
    "# Encoding\n",
    "\n",
    "Our exported `.tsv` files open in Excel without hassle, even if they contain non-latin characters.\n",
    "That is because TF writes such files in an\n",
    "encoding that works well with Excel: `utf_16_le`.\n",
    "You can just open them in Excel, there is no need for conversion before or after opening these files.\n",
    "\n",
    "Should you want to process these files by means of a (Python) program, \n",
    "take care to read them with encoding `utf_16`."
   ]
  },
  {
   "cell_type": "markdown",
   "metadata": {},
   "source": [
    "# Example query\n",
    "\n",
    "We first run a query in order to export the results."
   ]
  },
  {
   "cell_type": "code",
   "execution_count": 5,
   "metadata": {
    "ExecuteTime": {
     "end_time": "2018-05-24T07:46:55.998382Z",
     "start_time": "2018-05-24T07:46:55.137956Z"
    }
   },
   "outputs": [
    {
     "name": "stdout",
     "output_type": "stream",
     "text": [
      "  0.63s 1052 results\n"
     ]
    }
   ],
   "source": [
    "query = '''\n",
    "line ln<4\n",
    "  =: sign reading=um\n",
    "  <: sign reading=ma\n",
    "  < sign reading=ma\n",
    "'''\n",
    "results = A.search(query)"
   ]
  },
  {
   "cell_type": "markdown",
   "metadata": {},
   "source": [
    "# Bare export\n",
    "\n",
    "You can export the table of results to Excel.\n",
    "\n",
    "The following command writes a tab-separated file `results.tsv` to your downloads directory.\n",
    "\n",
    "You can specify arguments `toDir=directory` and `toFile=file name` to write to a different file.\n",
    "If the directory does not exist, it will be created.\n",
    "\n",
    "We stick to the default, however."
   ]
  },
  {
   "cell_type": "code",
   "execution_count": 6,
   "metadata": {},
   "outputs": [],
   "source": [
    "A.export(results)"
   ]
  },
  {
   "cell_type": "markdown",
   "metadata": {},
   "source": [
    "Check out the contents:"
   ]
  },
  {
   "cell_type": "code",
   "execution_count": 7,
   "metadata": {},
   "outputs": [
    {
     "name": "stdout",
     "output_type": "stream",
     "text": [
      "R\tS1\tS2\tS3\tNODE1\tTYPE1\tTEXT1\tln1\tNODE2\tTYPE2\tTEXT2\treading2\tNODE3\tTYPE3\tTEXT3\treading3\tNODE4\tTYPE4\tTEXT4\treading4\n",
      "1\tP509373\tobverse\t3\t230790\tline\tum-ma _{d}en-lil2_-sza-du-u2-ni-ma\t3\t11\tsign\tum-\tum\t12\tsign\tma \tma\t20\tsign\tma\tma\n",
      "2\tP509374\tobverse\t3\t230826\tline\tum-[ma] _dingir_ x zi x [...] ma\t3\t359\tsign\tum-\tum\t360\tsign\t[ma] \tma\t366\tsign\tma\tma\n",
      "3\tP509375\tobverse\t3\t230844\tline\t[um-ma x]-na-su-[x]-ma\t3\t509\tsign\t[um-\tum\t510\tsign\tma \tma\t515\tsign\tma\tma\n",
      "4\tP481190\tobverse\t3\t230916\tline\tum-ma nu#-ur2#-i3-li2-szu-ma\t3\t1123\tsign\tum-\tum\t1124\tsign\tma \tma\t1130\tsign\tma\tma\n",
      "5\tP510526\tobverse\t3\t231004\tline\tum-ma geme2-{d}utu-ma\t3\t1686\tsign\tum-\tum\t1687\tsign\tma \tma\t1691\tsign\tma\tma\n",
      "6\tP510527\tobverse\t3\t231022\tline\tum-ma i-lu-ni-ma\t3\t1808\tsign\tum-\tum\t1809\tsign\tma \tma\t1813\tsign\tma\tma\n",
      "7\tP510528\tobverse\t3\t231055\tline\t[um]-ma# i-lu-ni-ma\t3\t2161\tsign\t[um]-\tum\t2162\tsign\tma# \tma\t2166\tsign\tma\tma\n",
      "8\tP510529\tobverse\t3\t231068\tline\tum-ma i-lu-ni-ma\t3\t2272\tsign\tum-\tum\t2273\tsign\tma \tma\t2277\tsign\tma\tma\n",
      "9\tP510530\tobverse\t3\t231088\tline\t[um-ma {d}na-bi]-um#-na-s,i-ir-ma\t3\t2401\tsign\t[um-\tum\t2402\tsign\tma \tma\t2410\tsign\tma\tma\n"
     ]
    }
   ],
   "source": [
    "checkout()"
   ]
  },
  {
   "cell_type": "markdown",
   "metadata": {},
   "source": [
    "You see the following columns:\n",
    "\n",
    "* **R** the sequence number of the result tuple in the result list\n",
    "* **S1 S2 S3** the section as P-number, face, line number, in separate columns\n",
    "* **NODEi TYPEi** the node and its type, for each node **i** in the result tuple\n",
    "* **TEXTi** the full text of node **i**, if the node type admits a concise text representation\n",
    "* **reading2-4** the value of feature **reading**, since our query mentions the feature `reading` on nodes 2-4"
   ]
  },
  {
   "cell_type": "markdown",
   "metadata": {},
   "source": [
    "# Poorer exports\n",
    "\n",
    "If you do not need the full text of the lines, you can leave them out by specifying a smaller *condense type*.\n",
    "\n",
    "The export function provides text for all nodes whose type is not too big.\n",
    "What is too big is determined by the condense type.\n",
    "\n",
    "In this corpus, the default condens type is line. Node types bigger than lines will not get text.\n",
    "\n",
    "Now, if we change the condenseType to something smaller than line, e.g. `word`, the line text will be suppressed."
   ]
  },
  {
   "cell_type": "code",
   "execution_count": 8,
   "metadata": {},
   "outputs": [
    {
     "name": "stdout",
     "output_type": "stream",
     "text": [
      "R\tS1\tS2\tS3\tNODE1\tTYPE1\tln1\tNODE2\tTYPE2\tTEXT2\treading2\tNODE3\tTYPE3\tTEXT3\treading3\tNODE4\tTYPE4\tTEXT4\treading4\n",
      "1\tP509373\tobverse\t3\t230790\tline\t3\t11\tsign\tum-\tum\t12\tsign\tma \tma\t20\tsign\tma\tma\n",
      "2\tP509374\tobverse\t3\t230826\tline\t3\t359\tsign\tum-\tum\t360\tsign\t[ma] \tma\t366\tsign\tma\tma\n",
      "3\tP509375\tobverse\t3\t230844\tline\t3\t509\tsign\t[um-\tum\t510\tsign\tma \tma\t515\tsign\tma\tma\n",
      "4\tP481190\tobverse\t3\t230916\tline\t3\t1123\tsign\tum-\tum\t1124\tsign\tma \tma\t1130\tsign\tma\tma\n",
      "5\tP510526\tobverse\t3\t231004\tline\t3\t1686\tsign\tum-\tum\t1687\tsign\tma \tma\t1691\tsign\tma\tma\n",
      "6\tP510527\tobverse\t3\t231022\tline\t3\t1808\tsign\tum-\tum\t1809\tsign\tma \tma\t1813\tsign\tma\tma\n",
      "7\tP510528\tobverse\t3\t231055\tline\t3\t2161\tsign\t[um]-\tum\t2162\tsign\tma# \tma\t2166\tsign\tma\tma\n",
      "8\tP510529\tobverse\t3\t231068\tline\t3\t2272\tsign\tum-\tum\t2273\tsign\tma \tma\t2277\tsign\tma\tma\n",
      "9\tP510530\tobverse\t3\t231088\tline\t3\t2401\tsign\t[um-\tum\t2402\tsign\tma \tma\t2410\tsign\tma\tma\n"
     ]
    }
   ],
   "source": [
    "A.export(results, condenseType='word')\n",
    "checkout()"
   ]
  },
  {
   "cell_type": "markdown",
   "metadata": {},
   "source": [
    "# Richer exports\n",
    "\n",
    "If we want to see the text in another format, we can specify it:"
   ]
  },
  {
   "cell_type": "code",
   "execution_count": 9,
   "metadata": {},
   "outputs": [
    {
     "name": "stdout",
     "output_type": "stream",
     "text": [
      "R\tS1\tS2\tS3\tNODE1\tTYPE1\tTEXT1\tln1\tNODE2\tTYPE2\tTEXT2\treading2\tNODE3\tTYPE3\tTEXT3\treading3\tNODE4\tTYPE4\tTEXT4\treading4\n",
      "1\tP509373\tobverse\t3\t230790\tline\t𒌝𒈠 𒀭𒂗𒆤𒊭𒁺𒌑𒉌𒈠\t3\t11\tsign\t𒌝\tum\t12\tsign\t𒈠 \tma\t20\tsign\t𒈠\tma\n",
      "2\tP509374\tobverse\t3\t230826\tline\t𒌝𒈠 𒀭 x 𒍣 x … 𒈠\t3\t359\tsign\t𒌝\tum\t360\tsign\t𒈠 \tma\t366\tsign\t𒈠\tma\n",
      "3\tP509375\tobverse\t3\t230844\tline\t𒌝𒈠 x𒈾𒋢x𒈠\t3\t509\tsign\t𒌝\tum\t510\tsign\t𒈠 \tma\t515\tsign\t𒈠\tma\n",
      "4\tP481190\tobverse\t3\t230916\tline\t𒌝𒈠 𒉡𒌫𒉌𒉌𒋗𒈠\t3\t1123\tsign\t𒌝\tum\t1124\tsign\t𒈠 \tma\t1130\tsign\t𒈠\tma\n",
      "5\tP510526\tobverse\t3\t231004\tline\t𒌝𒈠 𒊩𒆳𒀭𒌓𒈠\t3\t1686\tsign\t𒌝\tum\t1687\tsign\t𒈠 \tma\t1691\tsign\t𒈠\tma\n",
      "6\tP510527\tobverse\t3\t231022\tline\t𒌝𒈠 𒄿𒇻𒉌𒈠\t3\t1808\tsign\t𒌝\tum\t1809\tsign\t𒈠 \tma\t1813\tsign\t𒈠\tma\n",
      "7\tP510528\tobverse\t3\t231055\tline\t𒌝𒈠 𒄿𒇻𒉌𒈠\t3\t2161\tsign\t𒌝\tum\t2162\tsign\t𒈠 \tma\t2166\tsign\t𒈠\tma\n",
      "8\tP510529\tobverse\t3\t231068\tline\t𒌝𒈠 𒄿𒇻𒉌𒈠\t3\t2272\tsign\t𒌝\tum\t2273\tsign\t𒈠 \tma\t2277\tsign\t𒈠\tma\n",
      "9\tP510530\tobverse\t3\t231088\tline\t𒌝𒈠 𒀭𒈾𒁉𒌝𒈾𒍢𒅕𒈠\t3\t2401\tsign\t𒌝\tum\t2402\tsign\t𒈠 \tma\t2410\tsign\t𒈠\tma\n"
     ]
    }
   ],
   "source": [
    "A.export(results, fmt='text-orig-unicode')\n",
    "checkout()"
   ]
  },
  {
   "cell_type": "markdown",
   "metadata": {},
   "source": [
    "## Additional features\n",
    "\n",
    "If we want to export additional features, we just have to mention them.\n",
    "In order to do so and not change the result set, put a `*` behind the feature.\n",
    "\n",
    "The `*` means: *always true, no matter what's in the feature, even if there is nothing in there*.\n",
    "\n",
    "Lets ask for the flags on the first `ma`."
   ]
  },
  {
   "cell_type": "code",
   "execution_count": 10,
   "metadata": {
    "ExecuteTime": {
     "end_time": "2018-05-24T07:46:55.998382Z",
     "start_time": "2018-05-24T07:46:55.137956Z"
    }
   },
   "outputs": [
    {
     "name": "stdout",
     "output_type": "stream",
     "text": [
      "  0.78s 1052 results\n"
     ]
    }
   ],
   "source": [
    "query = '''\n",
    "line ln<4\n",
    "  =: sign reading=um\n",
    "  <: sign reading=ma flags*\n",
    "  < sign reading=ma\n",
    "'''\n",
    "results = A.search(query)"
   ]
  },
  {
   "cell_type": "markdown",
   "metadata": {},
   "source": [
    "The same number of results.\n",
    "\n",
    "We do the export again and peek at the results."
   ]
  },
  {
   "cell_type": "code",
   "execution_count": 11,
   "metadata": {},
   "outputs": [
    {
     "name": "stdout",
     "output_type": "stream",
     "text": [
      "R\tS1\tS2\tS3\tNODE1\tTYPE1\tln1\tNODE2\tTYPE2\tTEXT2\treading2\tNODE3\tTYPE3\tTEXT3\tflags3\treading3\tNODE4\tTYPE4\tTEXT4\treading4\n",
      "1\tP509373\tobverse\t3\t230790\tline\t3\t11\tsign\tum-\tum\t12\tsign\tma \t\tma\t20\tsign\tma\tma\n",
      "2\tP509374\tobverse\t3\t230826\tline\t3\t359\tsign\tum-\tum\t360\tsign\t[ma] \t\tma\t366\tsign\tma\tma\n",
      "3\tP509375\tobverse\t3\t230844\tline\t3\t509\tsign\t[um-\tum\t510\tsign\tma \t\tma\t515\tsign\tma\tma\n",
      "4\tP481190\tobverse\t3\t230916\tline\t3\t1123\tsign\tum-\tum\t1124\tsign\tma \t\tma\t1130\tsign\tma\tma\n",
      "5\tP510526\tobverse\t3\t231004\tline\t3\t1686\tsign\tum-\tum\t1687\tsign\tma \t\tma\t1691\tsign\tma\tma\n",
      "6\tP510527\tobverse\t3\t231022\tline\t3\t1808\tsign\tum-\tum\t1809\tsign\tma \t\tma\t1813\tsign\tma\tma\n",
      "7\tP510528\tobverse\t3\t231055\tline\t3\t2161\tsign\t[um]-\tum\t2162\tsign\tma# \t#\tma\t2166\tsign\tma\tma\n",
      "8\tP510529\tobverse\t3\t231068\tline\t3\t2272\tsign\tum-\tum\t2273\tsign\tma \t\tma\t2277\tsign\tma\tma\n",
      "9\tP510530\tobverse\t3\t231088\tline\t3\t2401\tsign\t[um-\tum\t2402\tsign\tma \t\tma\t2410\tsign\tma\tma\n"
     ]
    }
   ],
   "source": [
    "A.export(results, condenseType='word')\n",
    "checkout()"
   ]
  },
  {
   "cell_type": "markdown",
   "metadata": {},
   "source": [
    "As you see, you have an extra column **flags3**.\n",
    "\n",
    "This gives you a lot of control over the generation of spreadsheets."
   ]
  },
  {
   "cell_type": "markdown",
   "metadata": {},
   "source": [
    "# Not from queries\n",
    "\n",
    "You can also export lists of node tuples that are not obtained by a query:"
   ]
  },
  {
   "cell_type": "code",
   "execution_count": 12,
   "metadata": {},
   "outputs": [
    {
     "data": {
      "text/plain": [
       "[(259163, 100001, 200001),\n",
       " (259164, 100002, 200002),\n",
       " (259165, 100003, 200003),\n",
       " (259166, 100004, 200004),\n",
       " (259167, 100005, 200005),\n",
       " (259168, 100006, 200006),\n",
       " (259169, 100007, 200007),\n",
       " (259170, 100008, 200008),\n",
       " (259171, 100009, 200009),\n",
       " (259172, 100010, 200010)]"
      ]
     },
     "execution_count": 12,
     "metadata": {},
     "output_type": "execute_result"
    }
   ],
   "source": [
    "words = F.otype.s('word')[1000:1010]\n",
    "signs1 = F.otype.s('sign')[100000:100010]\n",
    "signs2 = F.otype.s('sign')[200000:200010]\n",
    "tuples = list(zip(words, signs1, signs2))\n",
    "\n",
    "tuples"
   ]
  },
  {
   "cell_type": "markdown",
   "metadata": {},
   "source": [
    "Ten rows, each row has a word node and two sign nodes.\n",
    "\n",
    "The word and the signs in each row do not have any meaningful relationship!\n",
    "\n",
    "Let's do a bare export:"
   ]
  },
  {
   "cell_type": "code",
   "execution_count": 13,
   "metadata": {},
   "outputs": [
    {
     "name": "stdout",
     "output_type": "stream",
     "text": [
      "R\tS1\tS2\tS3\tNODE1\tTYPE1\tTEXT1\tln1\tNODE2\tTYPE2\tTEXT2\treading2\tNODE3\tTYPE3\tTEXT3\tflags3\treading3\n",
      "1\tP510530\tobverse\t19\t259163\tword\tgin2 \t\t100001\tsign\ts,i-\ts,i\t200001\tsign\tka\t\tka\n",
      "2\tP510530\tobverse\t19\t259164\tword\tku3-babbar_\t\t100002\tsign\tbu-\tbu\t200002\tsign\tki-\t\tki\n",
      "3\tP510530\tobverse\t20\t259165\tword\tid-di-nu-ni-ik-ku\t\t100003\tsign\ttam \ttam\t200003\tsign\tma \t\tma\n",
      "4\tP510530\treverse\t1\t259166\tword\tu3 \t\t100004\tsign\tia \tia\t200004\tsign\tti-\t\tti\n",
      "5\tP510530\treverse\t1\t259167\tword\tka-ni-ik \t\t100005\tsign\tir-\tir\t200005\tsign\tdu \t\tdu\n",
      "6\tP510530\treverse\t1\t259168\tword\tszi-ma-tim \t\t100006\tsign\tszi\tszi\t200006\tsign\tma-\t\tma\n",
      "7\tP510530\treverse\t1\t259169\tword\tta-ad-di-in\t\t100007\tsign\ti-\ti\t200007\tsign\tWI?-\t?\t\n",
      "8\tP510530\treverse\t2\t259170\tword\tmi-nu-u2 \t\t100008\tsign\tnu-\tnu\t200008\tsign\ti-\t\ti\n",
      "9\tP510530\treverse\t2\t259171\tword\ta-wa-tum-ma \t\t100009\tsign\tma \tma\t200009\tsign\tma\t\tma\n"
     ]
    }
   ],
   "source": [
    "A.export(tuples)\n",
    "checkout()"
   ]
  },
  {
   "cell_type": "markdown",
   "metadata": {},
   "source": [
    "Wait a minute: why are the `reading2` and `reading3` and `flags3` columns showing up?\n",
    "\n",
    "It is because we have run a query before where we asked for these features.\n",
    "\n",
    "If we do not want to be influenced by previous things we've run, we need to reset the display:"
   ]
  },
  {
   "cell_type": "code",
   "execution_count": 14,
   "metadata": {},
   "outputs": [],
   "source": [
    "A.displayReset('tupleFeatures')"
   ]
  },
  {
   "cell_type": "markdown",
   "metadata": {},
   "source": [
    "Again:"
   ]
  },
  {
   "cell_type": "code",
   "execution_count": 15,
   "metadata": {},
   "outputs": [
    {
     "name": "stdout",
     "output_type": "stream",
     "text": [
      "R\tS1\tS2\tS3\tNODE1\tTYPE1\tTEXT1\tNODE2\tTYPE2\tTEXT2\tNODE3\tTYPE3\tTEXT3\n",
      "1\tP510530\tobverse\t19\t259163\tword\tgin2 \t100001\tsign\ts,i-\t200001\tsign\tka\n",
      "2\tP510530\tobverse\t19\t259164\tword\tku3-babbar_\t100002\tsign\tbu-\t200002\tsign\tki-\n",
      "3\tP510530\tobverse\t20\t259165\tword\tid-di-nu-ni-ik-ku\t100003\tsign\ttam \t200003\tsign\tma \n",
      "4\tP510530\treverse\t1\t259166\tword\tu3 \t100004\tsign\tia \t200004\tsign\tti-\n",
      "5\tP510530\treverse\t1\t259167\tword\tka-ni-ik \t100005\tsign\tir-\t200005\tsign\tdu \n",
      "6\tP510530\treverse\t1\t259168\tword\tszi-ma-tim \t100006\tsign\tszi\t200006\tsign\tma-\n",
      "7\tP510530\treverse\t1\t259169\tword\tta-ad-di-in\t100007\tsign\ti-\t200007\tsign\tWI?-\n",
      "8\tP510530\treverse\t2\t259170\tword\tmi-nu-u2 \t100008\tsign\tnu-\t200008\tsign\ti-\n",
      "9\tP510530\treverse\t2\t259171\tword\ta-wa-tum-ma \t100009\tsign\tma \t200009\tsign\tma\n"
     ]
    }
   ],
   "source": [
    "A.export(tuples)\n",
    "checkout()"
   ]
  },
  {
   "cell_type": "markdown",
   "metadata": {},
   "source": [
    "# Display setup\n",
    "\n",
    "When we exported query results, we could mention features in the query with a `*` so that they got exported.\n",
    "If we do not have a previous query we can achieve the same effect by specifying the desired export features per column.\n",
    "\n",
    "The display option `tupleFeatures` takes care of that."
   ]
  },
  {
   "cell_type": "code",
   "execution_count": 16,
   "metadata": {},
   "outputs": [],
   "source": [
    "A.displaySetup(tupleFeatures=(\n",
    "    (0, 'atfpre atf atfpost'),\n",
    "    (1, 'symr symu'),\n",
    "    (2, 'symr symu'),\n",
    "))"
   ]
  },
  {
   "cell_type": "markdown",
   "metadata": {},
   "source": [
    "We assign extra features per member of the tuple.\n",
    "\n",
    "In the above case:\n",
    "\n",
    "* the first (`0`) member (the word node), gets features `atfpre` (preceding bracketing characters), `atf`, `atfpost` (subsequent clustering characters);\n",
    "* the second and third member (the sign nodes), get features `symr` (subscripted latin text) and `symu` (cuneiform unicode)."
   ]
  },
  {
   "cell_type": "code",
   "execution_count": 17,
   "metadata": {},
   "outputs": [
    {
     "name": "stdout",
     "output_type": "stream",
     "text": [
      "R\tS1\tS2\tS3\tNODE1\tTYPE1\tTEXT1\tatfpre1\tatf1\tatfpost1\tNODE2\tTYPE2\tTEXT2\tsymr2\tsymu2\tNODE3\tTYPE3\tTEXT3\tsymr3\tsymu3\n",
      "1\tP510530\tobverse\t19\t259163\tword\tgin2 \t\tgin2\t\t100001\tsign\ts,i-\tṣi\t𒍢\t200001\tsign\tka\tka\t𒅗\n",
      "2\tP510530\tobverse\t19\t259164\tword\tku3-babbar_\t\tku3-babbar_\t\t100002\tsign\tbu-\tbu\t𒁍\t200002\tsign\tki-\tki\t𒆠\n",
      "3\tP510530\tobverse\t20\t259165\tword\tid-di-nu-ni-ik-ku\t\tid-di-nu-ni-ik-ku\t\t100003\tsign\ttam \ttam\t𒌓\t200003\tsign\tma \tma\t𒈠\n",
      "4\tP510530\treverse\t1\t259166\tword\tu3 \t\tu3\t\t100004\tsign\tia \tia\t𒅀\t200004\tsign\tti-\tti\t𒋾\n",
      "5\tP510530\treverse\t1\t259167\tword\tka-ni-ik \t\tka-ni-ik\t\t100005\tsign\tir-\tir\t𒅕\t200005\tsign\tdu \tdu\t𒁺\n",
      "6\tP510530\treverse\t1\t259168\tword\tszi-ma-tim \t\tszi-ma-tim\t\t100006\tsign\tszi\tši\t𒅆\t200006\tsign\tma-\tma\t𒈠\n",
      "7\tP510530\treverse\t1\t259169\tword\tta-ad-di-in\t\tta-ad-di-in\t\t100007\tsign\ti-\ti\t𒄿\t200007\tsign\tWI?-\tWI\t𒉿\n",
      "8\tP510530\treverse\t2\t259170\tword\tmi-nu-u2 \t\tmi-nu-u2\t\t100008\tsign\tnu-\tnu\t𒉡\t200008\tsign\ti-\ti\t𒄿\n",
      "9\tP510530\treverse\t2\t259171\tword\ta-wa-tum-ma \t\ta-wa-tum-ma\t\t100009\tsign\tma \tma\t𒈠\t200009\tsign\tma\tma\t𒈠\n"
     ]
    }
   ],
   "source": [
    "A.export(tuples)\n",
    "checkout()"
   ]
  },
  {
   "cell_type": "markdown",
   "metadata": {},
   "source": [
    "# Chained queries\n",
    "\n",
    "You can chain queries like this:"
   ]
  },
  {
   "cell_type": "code",
   "execution_count": 18,
   "metadata": {},
   "outputs": [
    {
     "name": "stdout",
     "output_type": "stream",
     "text": [
      "  0.23s 4 results\n",
      "  0.21s 15 results\n"
     ]
    }
   ],
   "source": [
    "results = (\n",
    "    A.search('''\n",
    "line\n",
    "  cluster type=missing\n",
    "    sign reading=disz repeat>4\n",
    "''')\n",
    "    +\n",
    "    A.search('''\n",
    "line\n",
    "  cluster type=langalt\n",
    "    sign reading=um\n",
    "''')\n",
    ")"
   ]
  },
  {
   "cell_type": "markdown",
   "metadata": {},
   "source": [
    "In such cases, it is better to setup the features yourself:"
   ]
  },
  {
   "cell_type": "code",
   "execution_count": 19,
   "metadata": {},
   "outputs": [],
   "source": [
    "A.displaySetup(\n",
    "    tupleFeatures=(\n",
    "        (0, 'lnno'),\n",
    "        (1, 'type'),\n",
    "        (2, 'langalt missing'),\n",
    "    ),\n",
    "    fmt='text-orig-rich',\n",
    ")"
   ]
  },
  {
   "cell_type": "markdown",
   "metadata": {},
   "source": [
    "Now we can do a fine export:"
   ]
  },
  {
   "cell_type": "code",
   "execution_count": 20,
   "metadata": {},
   "outputs": [
    {
     "name": "stdout",
     "output_type": "stream",
     "text": [
      "R\tS1\tS2\tS3\tNODE1\tTYPE1\tTEXT1\tlnno1\tNODE2\tTYPE2\tTEXT2\ttype2\tNODE3\tTYPE3\tTEXT3\tlangalt3\tmissing3\n",
      "1\tP510754\tobverse\t11\t235994\tline\t5(₅(diš)) lu₂-meš an-nu-ti-in lu₂ la-ga-aš⁼ki-meš\t11\t207965\tcluster\t5(₅(diš)) lu₂-meš an-nu-ti-\tmissing\t39275\tsign\t5(₅(diš)) \t\t1\n",
      "2\tP313375\tobverse\t10\t245175\tline\t1(₁(u)) 8(₈(diš)) gin₂ ku₃-babbar wa-at-ra-am\t10\t215367\tcluster\t1(₁(u)) 8(₈(diš)) \tmissing\t106850\tsign\t8(₈(diš)) \t\t1\n",
      "3\tP373035\treverse\t3\t255006\tline\tša 5(₅(diš)) gin₂ ku₃-babbar gu₄ hi-a\t3\t223992\tcluster\tša 5(₅(diš)) \tmissing\t180799\tsign\t5(₅(diš)) \t1\t1\n",
      "4\tP373044\tleft\t1:2\t255237\tline\t1(₁(u)) 5(₅(diš)) ma-na siki hi-a ši-na\t1:2\t224274\tcluster\t1(₁(u)) 5(₅(diš)) ma-na \tmissing\t182906\tsign\t5(₅(diš)) \t1\t1\n",
      "5\tP509373\tobverse\t6\t230793\tline\tdiš⁼še-ep-d⁼suen a₂-gal₂ dumu um-mi-a-meš\t6\t203234\tcluster\td⁼suen a₂-gal₂ dumu um-mi-a-meš\tlangalt\t47\tsign\tum-\t1\t\n",
      "6\tP510550\tobverse\t4\t231520\tline\taš-šum ha-za-nu-um⁼sar\t4\t203984\tcluster\tha-za-nu-um⁼sar\tlangalt\t5899\tsign\tum⁼\t1\t\n",
      "7\tP510550\tobverse\t7\t231523\tline\tšum-ma ha-za-nu-um⁼sar la ba-aš-lu-ma\t7\t203987\tcluster\tha-za-nu-um⁼sar \tlangalt\t5924\tsign\tum⁼\t1\t\n",
      "8\tP510550\tobverse\t9\t231525\tline\tha-za-nu-um⁼sar i-ka-am x x-al-la-x-ma\t9\t203989\tcluster\tha-za-nu-um⁼sar \tlangalt\t5941\tsign\tum⁼\t1\t\n",
      "9\tP510550\treverse\t1\t231528\tline\ta-na mi-nim ha-za-nu-um⁼sar\t1\t203992\tcluster\tha-za-nu-um⁼sar\tlangalt\t5971\tsign\tum⁼\t1\t\n"
     ]
    }
   ],
   "source": [
    "A.export(results)\n",
    "checkout()"
   ]
  },
  {
   "cell_type": "markdown",
   "metadata": {},
   "source": [
    "---\n",
    "\n",
    "All chapters:\n",
    "\n",
    "* **[start](start.ipynb)** become an expert in creating pretty displays of your text structures\n",
    "* **[display](display.ipynb)** become an expert in creating pretty displays of your text structures\n",
    "* **[search](search.ipynb)** turbo charge your hand-coding with search templates\n",
    "* **exportExcel** make tailor-made spreadsheets out of your results\n",
    "* **[share](share.ipynb)** draw in other people's data and let them use yours\n",
    "* **[similarLines](similarLines.ipynb)** spot the similarities between lines\n",
    "\n",
    "---\n",
    "\n",
    "See the [cookbook](cookbook) for recipes for small, concrete tasks."
   ]
  }
 ],
 "metadata": {
  "kernelspec": {
   "display_name": "Python 3",
   "language": "python",
   "name": "python3"
  },
  "language_info": {
   "codemirror_mode": {
    "name": "ipython",
    "version": 3
   },
   "file_extension": ".py",
   "mimetype": "text/x-python",
   "name": "python",
   "nbconvert_exporter": "python",
   "pygments_lexer": "ipython3",
   "version": "3.7.2"
  }
 },
 "nbformat": 4,
 "nbformat_minor": 2
}
