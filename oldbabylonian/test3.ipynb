{
 "cells": [
  {
   "cell_type": "code",
   "execution_count": 1,
   "metadata": {},
   "outputs": [],
   "source": [
    "from IPython.display import display, Markdown"
   ]
  },
  {
   "cell_type": "code",
   "execution_count": 3,
   "metadata": {},
   "outputs": [],
   "source": [
    "def md(dm):\n",
    "  display(Markdown(dm))"
   ]
  },
  {
   "cell_type": "code",
   "execution_count": 36,
   "metadata": {},
   "outputs": [],
   "source": [
    "a1 = '''\n",
    "\n",
    "ha | hb\n",
    "--- | ---\n",
    "<span>xa</span> | <span>xb</span>\n",
    "<span>ya</span> | <span>yb</span>\n",
    "\n",
    "'''\n",
    "\n",
    "a2 = '''\n",
    "\n",
    "ha | hb | hc\n",
    "--- | --- | ---\n",
    "<span>xa</span> | <span>xb</span>\n",
    "<span>ya</span> | <span>yb</span>\n",
    "\n",
    "'''\n",
    "\n",
    "a3 = '''\n",
    "n | sign\n",
    "--- | ---\n",
    "12 |<span><span class=\"hl hlup\">7(disz)</span></span>\n",
    "13 |<span class=\"hl hlup\">7(disz)</span>\n",
    "14 |7(disz)\n",
    "'''"
   ]
  },
  {
   "cell_type": "code",
   "execution_count": 37,
   "metadata": {},
   "outputs": [
    {
     "data": {
      "text/markdown": [
       "\n",
       "\n",
       "ha | hb\n",
       "--- | ---\n",
       "<span>xa</span> | <span>xb</span>\n",
       "<span>ya</span> | <span>yb</span>\n",
       "\n"
      ],
      "text/plain": [
       "<IPython.core.display.Markdown object>"
      ]
     },
     "metadata": {},
     "output_type": "display_data"
    }
   ],
   "source": [
    "md(a1)"
   ]
  },
  {
   "cell_type": "code",
   "execution_count": 38,
   "metadata": {},
   "outputs": [
    {
     "data": {
      "text/markdown": [
       "\n",
       "\n",
       "ha | hb | hc\n",
       "--- | --- | ---\n",
       "<span>xa</span> | <span>xb</span>\n",
       "<span>ya</span> | <span>yb</span>\n",
       "\n"
      ],
      "text/plain": [
       "<IPython.core.display.Markdown object>"
      ]
     },
     "metadata": {},
     "output_type": "display_data"
    }
   ],
   "source": [
    "md(a2)"
   ]
  },
  {
   "cell_type": "code",
   "execution_count": 39,
   "metadata": {},
   "outputs": [
    {
     "data": {
      "text/markdown": [
       "\n",
       "n | sign\n",
       "--- | ---\n",
       "12 |<span><span class=\"hl hlup\">7(disz)</span></span>\n",
       "13 |<span class=\"hl hlup\">7(disz)</span>\n",
       "14 |7(disz)\n"
      ],
      "text/plain": [
       "<IPython.core.display.Markdown object>"
      ]
     },
     "metadata": {},
     "output_type": "display_data"
    }
   ],
   "source": [
    "md(a3)"
   ]
  },
  {
   "cell_type": "code",
   "execution_count": null,
   "metadata": {},
   "outputs": [],
   "source": []
  }
 ],
 "metadata": {
  "kernelspec": {
   "display_name": "Python 3",
   "language": "python",
   "name": "python3"
  },
  "language_info": {
   "codemirror_mode": {
    "name": "ipython",
    "version": 3
   },
   "file_extension": ".py",
   "mimetype": "text/x-python",
   "name": "python",
   "nbconvert_exporter": "python",
   "pygments_lexer": "ipython3",
   "version": "3.7.2"
  }
 },
 "nbformat": 4,
 "nbformat_minor": 2
}
