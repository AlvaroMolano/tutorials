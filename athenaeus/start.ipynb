{
 "cells": [
  {
   "cell_type": "markdown",
   "metadata": {},
   "source": [
    "<img align=\"right\" src=\"images/tf.png\" width=\"128\"/>\n",
    "<img align=\"right\" src=\"images/dans.png\"/>\n",
    "<img align=\"right\" src=\"images/logo.png\"/>\n",
    "\n",
    "# Tutorial\n",
    "\n",
    "This notebook gets you started with using\n",
    "[Text-Fabric](https://annotation.github.io/text-fabric/) for coding in the Athenaeus corpus.\n",
    "\n",
    "Chances are that a bit of reading about the underlying\n",
    "[data model](https://annotation.github.io/text-fabric/Model/Data-Model/)\n",
    "helps you to follow the exercises below, and vice versa."
   ]
  },
  {
   "cell_type": "markdown",
   "metadata": {},
   "source": [
    "## Installing Text-Fabric\n",
    "\n",
    "### Python\n",
    "\n",
    "You need to have Python on your system. Most systems have it out of the box,\n",
    "but alas, that is python2 and we need at least python **3.6**.\n",
    "\n",
    "Install it from [python.org](https://www.python.org) or from\n",
    "[Anaconda](https://www.anaconda.com/download).\n",
    "\n",
    "### TF itself\n",
    "\n",
    "```\n",
    "pip3 install text-fabric\n",
    "```\n",
    "\n",
    "### Jupyter notebook\n",
    "\n",
    "You need [Jupyter](http://jupyter.org).\n",
    "\n",
    "If it is not already installed:\n",
    "\n",
    "```\n",
    "pip3 install jupyter\n",
    "```"
   ]
  },
  {
   "cell_type": "markdown",
   "metadata": {},
   "source": [
    "## Tip\n",
    "If you start computing with this tutorial, first copy its parent directory to somewhere else,\n",
    "outside your `syrnt` directory.\n",
    "If you pull changes from the `syrnt` repository later, your work will not be overwritten.\n",
    "Where you put your tutorial directory is up till you.\n",
    "It will work from any directory."
   ]
  },
  {
   "cell_type": "code",
   "execution_count": 1,
   "metadata": {
    "ExecuteTime": {
     "end_time": "2018-10-18T10:40:34.922214Z",
     "start_time": "2018-10-18T10:40:34.901689Z"
    }
   },
   "outputs": [],
   "source": [
    "%load_ext autoreload\n",
    "%autoreload 2"
   ]
  },
  {
   "cell_type": "code",
   "execution_count": 2,
   "metadata": {
    "ExecuteTime": {
     "end_time": "2018-10-18T10:40:36.468086Z",
     "start_time": "2018-10-18T10:40:36.442023Z"
    }
   },
   "outputs": [],
   "source": [
    "import os, collections"
   ]
  },
  {
   "cell_type": "code",
   "execution_count": 3,
   "metadata": {
    "ExecuteTime": {
     "end_time": "2018-10-18T10:40:37.964346Z",
     "start_time": "2018-10-18T10:40:37.346091Z"
    }
   },
   "outputs": [],
   "source": [
    "from tf.app import use"
   ]
  },
  {
   "cell_type": "markdown",
   "metadata": {},
   "source": [
    "## Corpus data\n",
    "\n",
    "Text-Fabric will fetch the Athenaeus corpus for you.\n",
    "\n",
    "It will fetch the newest version by default, but you can get other versions as well.\n",
    "\n",
    "The data will be stored in the `text-fabric-data` in your home directory.\n"
   ]
  },
  {
   "cell_type": "markdown",
   "metadata": {},
   "source": [
    "# Features\n",
    "The data of the corpus is organized in features.\n",
    "They are *columns* of data.\n",
    "Think of the text as a gigantic spreadsheet, where row 1 corresponds to the\n",
    "first word, row 2 to the second word, and so on, for all 300,000 words.\n",
    "\n",
    "Each piece of information about the words, including the text of the words, constitute a column in that spreadsheet.\n",
    "\n",
    "Instead of putting that information in one big table, the data is organized in separate columns.\n",
    "We call those columns **features**."
   ]
  },
  {
   "cell_type": "code",
   "execution_count": 5,
   "metadata": {},
   "outputs": [
    {
     "name": "stdout",
     "output_type": "stream",
     "text": [
      "The autoreload extension is already loaded. To reload it, use:\n",
      "  %reload_ext autoreload\n"
     ]
    }
   ],
   "source": [
    "%load_ext autoreload\n",
    "%autoreload 2"
   ]
  },
  {
   "cell_type": "code",
   "execution_count": 6,
   "metadata": {
    "ExecuteTime": {
     "end_time": "2018-05-18T09:17:16.202764Z",
     "start_time": "2018-05-18T09:17:16.197546Z"
    }
   },
   "outputs": [],
   "source": [
    "import sys, os, collections"
   ]
  },
  {
   "cell_type": "markdown",
   "metadata": {},
   "source": [
    "# Incantation\n",
    "\n",
    "The simplest way to get going is by this *incantation*:"
   ]
  },
  {
   "cell_type": "code",
   "execution_count": 7,
   "metadata": {
    "ExecuteTime": {
     "end_time": "2018-05-18T09:17:17.537171Z",
     "start_time": "2018-05-18T09:17:17.517809Z"
    }
   },
   "outputs": [],
   "source": [
    "from tf.app import use"
   ]
  },
  {
   "cell_type": "code",
   "execution_count": 11,
   "metadata": {},
   "outputs": [
    {
     "name": "stdout",
     "output_type": "stream",
     "text": [
      "\tconnecting to online GitHub repo annotation/app-athenaeus ... connected\n",
      "\tno releases\n",
      "\tno releases\n",
      "\tcode/__init__.py...downloaded\n",
      "\tcode/app.py...downloaded\n",
      "\tcode/config.py...downloaded\n",
      "\tcode/static...directory\n",
      "\t\tcode/static/display.css...downloaded\n",
      "\t\tcode/static/logo.png...downloaded\n",
      "\tOK\n",
      "Using TF-app in /Users/dirk/text-fabric-data/annotation/app-athenaeus/code:\n",
      "\t#a3dc4f93c3fe3b330a1150756db5e434a81b0894 (latest commit)\n",
      "\tconnecting to online GitHub repo pthu/athenaeus ... connected\n",
      "\tno releases\n",
      "\tno releases\n",
      "\tAthenaeus/Deipnosophistae/tf/1.0/_book.tf...downloaded\n",
      "\tAthenaeus/Deipnosophistae/tf/1.0/_sentence.tf...downloaded\n",
      "\tAthenaeus/Deipnosophistae/tf/1.0/add.tf...downloaded\n",
      "\tAthenaeus/Deipnosophistae/tf/1.0/beta_plain.tf...downloaded\n",
      "\tAthenaeus/Deipnosophistae/tf/1.0/bibl.tf...downloaded\n",
      "\tAthenaeus/Deipnosophistae/tf/1.0/book.tf...downloaded\n",
      "\tAthenaeus/Deipnosophistae/tf/1.0/chapter.tf...downloaded\n",
      "\tAthenaeus/Deipnosophistae/tf/1.0/cit.tf...downloaded\n",
      "\tAthenaeus/Deipnosophistae/tf/1.0/head.tf...downloaded\n",
      "\tAthenaeus/Deipnosophistae/tf/1.0/hi.tf...downloaded\n",
      "\tAthenaeus/Deipnosophistae/tf/1.0/l.tf...downloaded\n",
      "\tAthenaeus/Deipnosophistae/tf/1.0/lemma.tf...downloaded\n",
      "\tAthenaeus/Deipnosophistae/tf/1.0/main.tf...downloaded\n",
      "\tAthenaeus/Deipnosophistae/tf/1.0/norm.tf...downloaded\n",
      "\tAthenaeus/Deipnosophistae/tf/1.0/num.tf...downloaded\n",
      "\tAthenaeus/Deipnosophistae/tf/1.0/orig.tf...downloaded\n",
      "\tAthenaeus/Deipnosophistae/tf/1.0/oslots.tf...downloaded\n",
      "\tAthenaeus/Deipnosophistae/tf/1.0/otext.tf...downloaded\n",
      "\tAthenaeus/Deipnosophistae/tf/1.0/otype.tf...downloaded\n",
      "\tAthenaeus/Deipnosophistae/tf/1.0/p.tf...downloaded\n",
      "\tAthenaeus/Deipnosophistae/tf/1.0/pb.tf...downloaded\n",
      "\tAthenaeus/Deipnosophistae/tf/1.0/plain.tf...downloaded\n",
      "\tAthenaeus/Deipnosophistae/tf/1.0/post.tf...downloaded\n",
      "\tAthenaeus/Deipnosophistae/tf/1.0/pre.tf...downloaded\n",
      "\tAthenaeus/Deipnosophistae/tf/1.0/quote.tf...downloaded\n",
      "\tOK\n",
      "Using data in /Users/dirk/text-fabric-data/pthu/athenaeus/Athenaeus/Deipnosophistae/tf/1.0:\n",
      "\t#be87e1c90753f6b80cdc360c54f6a37e0c29422f (latest commit)\n"
     ]
    },
    {
     "data": {
      "text/html": [
       "<b>Documentation:</b> <a target=\"_blank\" href=\"https://nbviewer.jupyter.org/github/pthu/patristics/blob/master/docs/transcription.md\" title=\"provenance of The Deipnosophistae by Athenaeus\">ATHENAEUS</a> <a target=\"_blank\" href=\"https://nbviewer.jupyter.org/github/pthu/patristics/blob/master/docs/transcription.md\" title=\"How TF features represent text\">Character table</a> <a target=\"_blank\" href=\"https://nbviewer.jupyter.org/github/pthu/patristics/blob/master/docs/transcription.md\" title=\"ATHENAEUS feature documentation\">Feature docs</a> <a target=\"_blank\" href=\"https://github.com/annotation/app-athenaeus\" title=\"athenaeus API documentation\">athenaeus API</a> <a target=\"_blank\" href=\"https://annotation.github.io/text-fabric/Api/Fabric/\" title=\"text-fabric-api\">Text-Fabric API 7.8.8</a> <a target=\"_blank\" href=\"https://annotation.github.io/text-fabric/Use/Search/\" title=\"Search Templates Introduction and Reference\">Search Reference</a><details open><summary><b>Loaded features</b>:</summary>\n",
       "<p><b>The Deipnosophistae by Athenaeus</b>: <a target=\"_blank\" href=\"https://nbviewer.jupyter.org/github/pthu/patristics/blob/master/docs/transcription.md\" title=\"/Users/dirk/text-fabric-data/pthu/athenaeus/Athenaeus/Deipnosophistae/tf/1.0/_book.tf\">_book</a>  <a target=\"_blank\" href=\"https://nbviewer.jupyter.org/github/pthu/patristics/blob/master/docs/transcription.md\" title=\"/Users/dirk/text-fabric-data/pthu/athenaeus/Athenaeus/Deipnosophistae/tf/1.0/_sentence.tf\">_sentence</a>  <a target=\"_blank\" href=\"https://nbviewer.jupyter.org/github/pthu/patristics/blob/master/docs/transcription.md\" title=\"/Users/dirk/text-fabric-data/pthu/athenaeus/Athenaeus/Deipnosophistae/tf/1.0/add.tf\">add</a>  <a target=\"_blank\" href=\"https://nbviewer.jupyter.org/github/pthu/patristics/blob/master/docs/transcription.md\" title=\"/Users/dirk/text-fabric-data/pthu/athenaeus/Athenaeus/Deipnosophistae/tf/1.0/beta_plain.tf\">beta_plain</a>  <a target=\"_blank\" href=\"https://nbviewer.jupyter.org/github/pthu/patristics/blob/master/docs/transcription.md\" title=\"/Users/dirk/text-fabric-data/pthu/athenaeus/Athenaeus/Deipnosophistae/tf/1.0/bibl.tf\">bibl</a>  <a target=\"_blank\" href=\"https://nbviewer.jupyter.org/github/pthu/patristics/blob/master/docs/transcription.md\" title=\"/Users/dirk/text-fabric-data/pthu/athenaeus/Athenaeus/Deipnosophistae/tf/1.0/book.tf\">book</a>  <a target=\"_blank\" href=\"https://nbviewer.jupyter.org/github/pthu/patristics/blob/master/docs/transcription.md\" title=\"/Users/dirk/text-fabric-data/pthu/athenaeus/Athenaeus/Deipnosophistae/tf/1.0/chapter.tf\">chapter</a>  <a target=\"_blank\" href=\"https://nbviewer.jupyter.org/github/pthu/patristics/blob/master/docs/transcription.md\" title=\"/Users/dirk/text-fabric-data/pthu/athenaeus/Athenaeus/Deipnosophistae/tf/1.0/cit.tf\">cit</a>  <a target=\"_blank\" href=\"https://nbviewer.jupyter.org/github/pthu/patristics/blob/master/docs/transcription.md\" title=\"/Users/dirk/text-fabric-data/pthu/athenaeus/Athenaeus/Deipnosophistae/tf/1.0/head.tf\">head</a>  <a target=\"_blank\" href=\"https://nbviewer.jupyter.org/github/pthu/patristics/blob/master/docs/transcription.md\" title=\"/Users/dirk/text-fabric-data/pthu/athenaeus/Athenaeus/Deipnosophistae/tf/1.0/hi.tf\">hi</a>  <a target=\"_blank\" href=\"https://nbviewer.jupyter.org/github/pthu/patristics/blob/master/docs/transcription.md\" title=\"/Users/dirk/text-fabric-data/pthu/athenaeus/Athenaeus/Deipnosophistae/tf/1.0/l.tf\">l</a>  <a target=\"_blank\" href=\"https://nbviewer.jupyter.org/github/pthu/patristics/blob/master/docs/transcription.md\" title=\"/Users/dirk/text-fabric-data/pthu/athenaeus/Athenaeus/Deipnosophistae/tf/1.0/lemma.tf\">lemma</a>  <a target=\"_blank\" href=\"https://nbviewer.jupyter.org/github/pthu/patristics/blob/master/docs/transcription.md\" title=\"/Users/dirk/text-fabric-data/pthu/athenaeus/Athenaeus/Deipnosophistae/tf/1.0/main.tf\">main</a>  <a target=\"_blank\" href=\"https://nbviewer.jupyter.org/github/pthu/patristics/blob/master/docs/transcription.md\" title=\"/Users/dirk/text-fabric-data/pthu/athenaeus/Athenaeus/Deipnosophistae/tf/1.0/norm.tf\">norm</a>  <a target=\"_blank\" href=\"https://nbviewer.jupyter.org/github/pthu/patristics/blob/master/docs/transcription.md\" title=\"/Users/dirk/text-fabric-data/pthu/athenaeus/Athenaeus/Deipnosophistae/tf/1.0/num.tf\">num</a>  <a target=\"_blank\" href=\"https://nbviewer.jupyter.org/github/pthu/patristics/blob/master/docs/transcription.md\" title=\"/Users/dirk/text-fabric-data/pthu/athenaeus/Athenaeus/Deipnosophistae/tf/1.0/orig.tf\">orig</a>  <a target=\"_blank\" href=\"https://nbviewer.jupyter.org/github/pthu/patristics/blob/master/docs/transcription.md\" title=\"/Users/dirk/text-fabric-data/pthu/athenaeus/Athenaeus/Deipnosophistae/tf/1.0/otype.tf\">otype</a>  <a target=\"_blank\" href=\"https://nbviewer.jupyter.org/github/pthu/patristics/blob/master/docs/transcription.md\" title=\"/Users/dirk/text-fabric-data/pthu/athenaeus/Athenaeus/Deipnosophistae/tf/1.0/p.tf\">p</a>  <a target=\"_blank\" href=\"https://nbviewer.jupyter.org/github/pthu/patristics/blob/master/docs/transcription.md\" title=\"/Users/dirk/text-fabric-data/pthu/athenaeus/Athenaeus/Deipnosophistae/tf/1.0/pb.tf\">pb</a>  <a target=\"_blank\" href=\"https://nbviewer.jupyter.org/github/pthu/patristics/blob/master/docs/transcription.md\" title=\"/Users/dirk/text-fabric-data/pthu/athenaeus/Athenaeus/Deipnosophistae/tf/1.0/plain.tf\">plain</a>  <a target=\"_blank\" href=\"https://nbviewer.jupyter.org/github/pthu/patristics/blob/master/docs/transcription.md\" title=\"/Users/dirk/text-fabric-data/pthu/athenaeus/Athenaeus/Deipnosophistae/tf/1.0/post.tf\">post</a>  <a target=\"_blank\" href=\"https://nbviewer.jupyter.org/github/pthu/patristics/blob/master/docs/transcription.md\" title=\"/Users/dirk/text-fabric-data/pthu/athenaeus/Athenaeus/Deipnosophistae/tf/1.0/pre.tf\">pre</a>  <a target=\"_blank\" href=\"https://nbviewer.jupyter.org/github/pthu/patristics/blob/master/docs/transcription.md\" title=\"/Users/dirk/text-fabric-data/pthu/athenaeus/Athenaeus/Deipnosophistae/tf/1.0/quote.tf\">quote</a>  <b><i><a target=\"_blank\" href=\"https://nbviewer.jupyter.org/github/pthu/patristics/blob/master/docs/transcription.md\" title=\"/Users/dirk/text-fabric-data/pthu/athenaeus/Athenaeus/Deipnosophistae/tf/1.0/oslots.tf\">oslots</a></i></b> </p></details>"
      ],
      "text/plain": [
       "<IPython.core.display.HTML object>"
      ]
     },
     "metadata": {},
     "output_type": "display_data"
    },
    {
     "data": {
      "text/html": [
       "<style>\n",
       "@font-face {\n",
       "  font-family: \"Gentium\";\n",
       "  src:\n",
       "    local(\"GentiumPlus-R.ttf\"),\n",
       "    url(\"https://github.com/annotation/text-fabric/blob/master/tf/server/static/fonts/GentiumPlus-R.woff?raw=true\");\n",
       "}\n",
       ".txtn,.txtn a:visited,.txtn a:link {\n",
       "    font-family: Gentium;\n",
       "    font-size: normal;\n",
       "    text-decoration: none;\n",
       "}\n",
       ".features {\n",
       "    font-family: monospace;\n",
       "    font-size: medium;\n",
       "    font-weight: bold;\n",
       "    color: #0a6611;\n",
       "    display: flex;\n",
       "    flex-flow: column nowrap;\n",
       "    padding: 0.1em;\n",
       "    margin: 0.1em;\n",
       "    direction: ltr;\n",
       "}\n",
       ".features div,.features span {\n",
       "    padding: 0;\n",
       "    margin: -0.1rem 0;\n",
       "}\n",
       ".features .f {\n",
       "    font-family: sans-serif;\n",
       "    font-size: x-small;\n",
       "    font-weight: normal;\n",
       "    color: #5555bb;\n",
       "}\n",
       ".features .xft {\n",
       "  color: #000000;\n",
       "  background-color: #eeeeee;\n",
       "  font-size: medium;\n",
       "  margin: 0.1em 0em;\n",
       "}\n",
       ".features .xft .f {\n",
       "  color: #000000;\n",
       "  background-color: #eeeeee;\n",
       "  font-style: italic;\n",
       "  font-size: small;\n",
       "  font-weight: normal;\n",
       "}\n",
       ".title {\n",
       "    font-family: sans-serif;\n",
       "    font-size: small;\n",
       "    font-weight: bold;\n",
       "    color: #444444;\n",
       "}\n",
       ".nd {\n",
       "    font-family: monospace;\n",
       "    font-size: x-small;\n",
       "    color: #999999;\n",
       "}\n",
       ".meta {\n",
       "    display: flex;\n",
       "    justify-content: flex-start;\n",
       "    align-items: flex-start;\n",
       "    align-content: flex-start;\n",
       "    flex-flow: row nowrap;\n",
       "}\n",
       ".features,.comments {\n",
       "    display: flex;\n",
       "    justify-content: flex-start;\n",
       "    align-items: flex-start;\n",
       "    align-content: flex-start;\n",
       "    flex-flow: column nowrap;\n",
       "}\n",
       ".children {\n",
       "    display: flex;\n",
       "    justify-content: flex-start;\n",
       "    align-items: flex-start;\n",
       "    align-content: flex-start;\n",
       "    border: 0;\n",
       "    background-color: #ffffff;\n",
       "}\n",
       ".children._book {\n",
       "    flex-flow: column nowrap;\n",
       "}\n",
       ".children.book {\n",
       "    flex-flow: column nowrap;\n",
       "}\n",
       ".children.chapter {\n",
       "    align-items: stretch;\n",
       "    flex-flow: row wrap;\n",
       "}\n",
       ".children.p {\n",
       "    align-items: stretch;\n",
       "    flex-flow: row nowrap;\n",
       "}\n",
       ".children._sentence {\n",
       "    align-items: stretch;\n",
       "    flex-flow: row nowrap;\n",
       "}\n",
       ".children.word {\n",
       "    flex-flow: column nowrap;\n",
       "}\n",
       ".contnr {\n",
       "    width: fit-content;\n",
       "}\n",
       ".contnr._book,.contnr.book,\n",
       ".contnr.chapter,\n",
       ".contnr.p,\n",
       ".contnr._sentence,\n",
       ".contnr.word {\n",
       "    display: flex;\n",
       "    justify-content: flex-start;\n",
       "    align-items: flex-start;\n",
       "    align-content: flex-start;\n",
       "    flex-flow: column nowrap;\n",
       "    background: #ffffff none repeat scroll 0 0;\n",
       "    padding:  0.5em 0.1em 0.1em 0.1em;\n",
       "    margin: 0.8em 0.1em 0.1em 0.1em;\n",
       "    border-radius: 0.2em;\n",
       "    border-style: solid;\n",
       "    border-width: 0.2em;\n",
       "    font-size: small;\n",
       "}\n",
       ".contnr._book,.contnr.book {\n",
       "    border-color: #bb8800;\n",
       "}\n",
       ".contnr.chapter {\n",
       "    flex-flow: row wrap;\n",
       "    border-color: #0088bb;\n",
       "}\n",
       ".contnr.p {\n",
       "    flex-flow: row nowrap;\n",
       "    border-color: #44bbff;\n",
       "}\n",
       ".contnr._sentence {\n",
       "    flex-flow: row nowrap;\n",
       "    border-color: #44bbff;\n",
       "}\n",
       ".contnr.word {\n",
       "    border-color: #bbbbbb;\n",
       "}\n",
       ".contnr.hl {\n",
       "    background-color: #ffee66;\n",
       "}\n",
       ".lbl._book,.lbl.book,\n",
       ".lbl.chapter,\n",
       ".lbl.p,\n",
       ".lbl._sentence,\n",
       ".lbl.word {\n",
       "    margin-top: -1.2em;\n",
       "    margin-left: 1em;\n",
       "    background: #ffffff none repeat scroll 0 0;\n",
       "    padding: 0 0.3em;\n",
       "    border-style: solid;\n",
       "    font-size: small;\n",
       "    display: block;\n",
       "}\n",
       ".lbl._book,.lbl.book {\n",
       "    border-color: #bb8800;\n",
       "    border-width: 0.3em;\n",
       "    border-radius: 0.3em;\n",
       "    color: #bb8800;\n",
       "}\n",
       ".lbl.chapter {\n",
       "    border-color: #0088bb;\n",
       "    border-width: 0.3em;\n",
       "    border-radius: 0.3em;\n",
       "    color: #0088bb;\n",
       "}\n",
       ".lbl.p {\n",
       "    border-color: #dddddd;\n",
       "    border-width: 0.2em;\n",
       "    border-radius: 0.2em;\n",
       "    color: #0000cc;\n",
       "}\n",
       ".lbl._sentence {\n",
       "    border-color: #dddddd;\n",
       "    border-width: 0.2em;\n",
       "    border-radius: 0.2em;\n",
       "    color: #0000cc;\n",
       "}\n",
       ".lbl.word {\n",
       "    border-color: #bbbbbb;\n",
       "    border-width: 0.1em;\n",
       "    border-radius: 0.1em;\n",
       "    font-size: small;\n",
       "    color: #000000;\n",
       "}\n",
       ".text {\n",
       "    font-family: sans-serif;\n",
       "    font-size: x-small;\n",
       "    color: #000000;\n",
       "}\n",
       ".gap {\n",
       "    color: red;\n",
       "}\n",
       "\n",
       "tr.tf, td.tf, th.tf {\n",
       "  text-align: left;\n",
       "}\n",
       "\n",
       "span.hldot {\n",
       "\tbackground-color: var(--hl-strong);\n",
       "\tborder: 0.2rem solid var(--hl-rim);\n",
       "\tborder-radius: 0.4rem;\n",
       "\t/*\n",
       "\tdisplay: inline-block;\n",
       "\twidth: 0.8rem;\n",
       "\theight: 0.8rem;\n",
       "\t*/\n",
       "}\n",
       "span.hl {\n",
       "\tbackground-color: var(--hl-strong);\n",
       "\tborder-width: 0;\n",
       "\tborder-radius: 0.1rem;\n",
       "\tborder-style: solid;\n",
       "}\n",
       "\n",
       "span.hlup {\n",
       "\tborder-color: var(--hl-dark);\n",
       "\tborder-width: 0.1rem;\n",
       "\tborder-style: solid;\n",
       "\tborder-radius: 0.2rem;\n",
       "  padding: 0.2rem;\n",
       "}\n",
       "\n",
       ":root {\n",
       "\t--hl-strong:        hsla( 60, 100%,  70%, 0.9  );\n",
       "\t--hl-rim:           hsla( 55, 100%,  60%, 0.9  );\n",
       "\t--hl-dark:          hsla( 55, 100%,  40%, 0.9  );\n",
       "}\n",
       "</style>"
      ],
      "text/plain": [
       "<IPython.core.display.HTML object>"
      ]
     },
     "metadata": {},
     "output_type": "display_data"
    },
    {
     "data": {
      "text/html": [
       "<details open><summary><b>API members</b>:</summary>\n",
       "<a target=\"_blank\" href=\"https://annotation.github.io/text-fabric/Api/Computed/#computed-data\" title=\"doc\">C Computed</a>, <a target=\"_blank\" href=\"https://annotation.github.io/text-fabric/Api/Computed/#computed-data\" title=\"doc\">Call AllComputeds</a>, <a target=\"_blank\" href=\"https://annotation.github.io/text-fabric/Api/Computed/#computed-data\" title=\"doc\">Cs ComputedString</a><br/>\n",
       "<a target=\"_blank\" href=\"https://annotation.github.io/text-fabric/Api/Features/#edge-features\" title=\"doc\">E Edge</a>, <a target=\"_blank\" href=\"https://annotation.github.io/text-fabric/Api/Features/#edge-features\" title=\"doc\">Eall AllEdges</a>, <a target=\"_blank\" href=\"https://annotation.github.io/text-fabric/Api/Features/#edge-features\" title=\"doc\">Es EdgeString</a><br/>\n",
       "<a target=\"_blank\" href=\"https://annotation.github.io/text-fabric/Api/Fabric/#loading\" title=\"doc\">ensureLoaded</a>, <a target=\"_blank\" href=\"https://annotation.github.io/text-fabric/Api/Fabric/#loading\" title=\"doc\">TF</a>, <a target=\"_blank\" href=\"https://annotation.github.io/text-fabric/Api/Fabric/#loading\" title=\"doc\">ignored</a>, <a target=\"_blank\" href=\"https://annotation.github.io/text-fabric/Api/Fabric/#loading\" title=\"doc\">loadLog</a><br/>\n",
       "<a target=\"_blank\" href=\"https://annotation.github.io/text-fabric/Api/Locality/#locality\" title=\"doc\">L Locality</a><br/>\n",
       "<a target=\"_blank\" href=\"https://annotation.github.io/text-fabric/Api/Misc/#messaging\" title=\"doc\">cache</a>, <a target=\"_blank\" href=\"https://annotation.github.io/text-fabric/Api/Misc/#messaging\" title=\"doc\">error</a>, <a target=\"_blank\" href=\"https://annotation.github.io/text-fabric/Api/Misc/#messaging\" title=\"doc\">indent</a>, <a target=\"_blank\" href=\"https://annotation.github.io/text-fabric/Api/Misc/#messaging\" title=\"doc\">info</a>, <a target=\"_blank\" href=\"https://annotation.github.io/text-fabric/Api/Misc/#messaging\" title=\"doc\">isSilent</a>, <a target=\"_blank\" href=\"https://annotation.github.io/text-fabric/Api/Misc/#messaging\" title=\"doc\">reset</a>, <a target=\"_blank\" href=\"https://annotation.github.io/text-fabric/Api/Misc/#messaging\" title=\"doc\">setSilent</a>, <a target=\"_blank\" href=\"https://annotation.github.io/text-fabric/Api/Misc/#messaging\" title=\"doc\">silentOff</a>, <a target=\"_blank\" href=\"https://annotation.github.io/text-fabric/Api/Misc/#messaging\" title=\"doc\">silentOn</a>, <a target=\"_blank\" href=\"https://annotation.github.io/text-fabric/Api/Misc/#messaging\" title=\"doc\">warning</a><br/>\n",
       "<a target=\"_blank\" href=\"https://annotation.github.io/text-fabric/Api/Nodes/#navigating-nodes\" title=\"doc\">N Nodes</a>, <a target=\"_blank\" href=\"https://annotation.github.io/text-fabric/Api/Nodes/#navigating-nodes\" title=\"doc\">sortKey</a>, <a target=\"_blank\" href=\"https://annotation.github.io/text-fabric/Api/Nodes/#navigating-nodes\" title=\"doc\">sortKeyTuple</a>, <a target=\"_blank\" href=\"https://annotation.github.io/text-fabric/Api/Nodes/#navigating-nodes\" title=\"doc\">otypeRank</a>, <a target=\"_blank\" href=\"https://annotation.github.io/text-fabric/Api/Nodes/#navigating-nodes\" title=\"doc\">sortNodes</a><br/>\n",
       "<a target=\"_blank\" href=\"https://annotation.github.io/text-fabric/Api/Features/#node-features\" title=\"doc\">F Feature</a>, <a target=\"_blank\" href=\"https://annotation.github.io/text-fabric/Api/Features/#node-features\" title=\"doc\">Fall AllFeatures</a>, <a target=\"_blank\" href=\"https://annotation.github.io/text-fabric/Api/Features/#node-features\" title=\"doc\">Fs FeatureString</a><br/>\n",
       "<a target=\"_blank\" href=\"https://annotation.github.io/text-fabric/Api/Search/#search\" title=\"doc\">S Search</a><br/>\n",
       "<a target=\"_blank\" href=\"https://annotation.github.io/text-fabric/Api/Text/#text\" title=\"doc\">T Text</a></details>"
      ],
      "text/plain": [
       "<IPython.core.display.HTML object>"
      ]
     },
     "metadata": {},
     "output_type": "display_data"
    }
   ],
   "source": [
    "A = use('athenaeus', hoist=globals())"
   ]
  },
  {
   "cell_type": "markdown",
   "metadata": {},
   "source": [
    "You can see which features have been loaded, and if you click on a feature name, you find its documentation.\n",
    "If you hover over a name, you see where the feature is located on your system.\n",
    "\n",
    "Edge features are marked by **_bold italic_** formatting.\n",
    "\n",
    "There are ways to tweak the set of features that is loaded. You can load more and less.\n",
    "\n",
    "See [share](share.ipynb) for examples."
   ]
  },
  {
   "cell_type": "code",
   "execution_count": 13,
   "metadata": {},
   "outputs": [],
   "source": [
    "silentOff()"
   ]
  },
  {
   "cell_type": "markdown",
   "metadata": {},
   "source": [
    "# Counting"
   ]
  },
  {
   "cell_type": "code",
   "execution_count": 14,
   "metadata": {
    "ExecuteTime": {
     "end_time": "2018-05-18T09:17:43.894153Z",
     "start_time": "2018-05-18T09:17:43.597128Z"
    }
   },
   "outputs": [
    {
     "name": "stdout",
     "output_type": "stream",
     "text": [
      "  0.00s Counting nodes ...\n",
      "  0.05s 303385 nodes\n"
     ]
    }
   ],
   "source": [
    "indent(reset=True)\n",
    "info('Counting nodes ...')\n",
    "\n",
    "i = 0\n",
    "for n in N(): i += 1\n",
    "\n",
    "info('{} nodes'.format(i))"
   ]
  },
  {
   "cell_type": "markdown",
   "metadata": {},
   "source": [
    "# Node types"
   ]
  },
  {
   "cell_type": "code",
   "execution_count": 15,
   "metadata": {
    "ExecuteTime": {
     "end_time": "2018-05-18T09:17:47.820323Z",
     "start_time": "2018-05-18T09:17:47.812328Z"
    }
   },
   "outputs": [
    {
     "data": {
      "text/plain": [
       "'word'"
      ]
     },
     "execution_count": 15,
     "metadata": {},
     "output_type": "execute_result"
    }
   ],
   "source": [
    "F.otype.slotType"
   ]
  },
  {
   "cell_type": "code",
   "execution_count": 16,
   "metadata": {
    "ExecuteTime": {
     "end_time": "2018-05-18T09:17:49.922863Z",
     "start_time": "2018-05-18T09:17:49.916078Z"
    }
   },
   "outputs": [
    {
     "data": {
      "text/plain": [
       "('_book',\n",
       " 'head',\n",
       " 'book',\n",
       " 'hi',\n",
       " 'cit',\n",
       " 'num',\n",
       " 'add',\n",
       " 'chapter',\n",
       " 'pb',\n",
       " 'p',\n",
       " 'quote',\n",
       " 'bibl',\n",
       " 'l',\n",
       " '_sentence',\n",
       " 'word')"
      ]
     },
     "execution_count": 16,
     "metadata": {},
     "output_type": "execute_result"
    }
   ],
   "source": [
    "F.otype.all"
   ]
  },
  {
   "cell_type": "code",
   "execution_count": 17,
   "metadata": {
    "ExecuteTime": {
     "end_time": "2018-05-18T09:17:51.782779Z",
     "start_time": "2018-05-18T09:17:51.774167Z"
    }
   },
   "outputs": [
    {
     "data": {
      "text/plain": [
       "(('_book', 265168.0, 265169, 265169),\n",
       " ('head', 265168.0, 285519, 285519),\n",
       " ('book', 17677.866666666665, 284009, 284023),\n",
       " ('hi', 3115.2051282051284, 285520, 285597),\n",
       " ('cit', 1586.1497005988024, 285352, 285518),\n",
       " ('num', 949.8545454545455, 296865, 297139),\n",
       " ('add', 335.96704689480356, 277956, 278744),\n",
       " ('chapter', 199.67469879518072, 284024, 285351),\n",
       " ('pb', 171.19883795997418, 298711, 300259),\n",
       " ('p', 168.7982176957352, 297140, 298710),\n",
       " ('quote', 84.74344209852848, 300260, 303385),\n",
       " ('bibl', 51.090425531914896, 278745, 284008),\n",
       " ('l', 23.501641963255526, 285598, 296864),\n",
       " ('_sentence', 20.743547630220554, 265170, 277955),\n",
       " ('word', 1, 1, 265168))"
      ]
     },
     "execution_count": 17,
     "metadata": {},
     "output_type": "execute_result"
    }
   ],
   "source": [
    "C.levels.data"
   ]
  },
  {
   "cell_type": "code",
   "execution_count": 18,
   "metadata": {},
   "outputs": [
    {
     "name": "stdout",
     "output_type": "stream",
     "text": [
      "      1 _books\n",
      "      1 heads\n",
      "     15 books\n",
      "     78 his\n",
      "    167 cits\n",
      "    275 nums\n",
      "    789 adds\n",
      "   1328 chapters\n",
      "   1549 pbs\n",
      "   1571 ps\n",
      "   3126 quotes\n",
      "   5264 bibls\n",
      "  11267 ls\n",
      "  12786 _sentences\n",
      " 265168 words\n"
     ]
    }
   ],
   "source": [
    "for (typ, av, start, end) in C.levels.data:\n",
    "  print(f'{end - start + 1:>7} {typ}s')"
   ]
  },
  {
   "cell_type": "markdown",
   "metadata": {},
   "source": [
    "# Feature statistics"
   ]
  },
  {
   "cell_type": "markdown",
   "metadata": {},
   "source": [
    "There are no linguistic features, as far as I can see, but there is `lemma`."
   ]
  },
  {
   "cell_type": "markdown",
   "metadata": {},
   "source": [
    "# Word matters\n",
    "\n",
    "## Top 20 frequent words"
   ]
  },
  {
   "cell_type": "code",
   "execution_count": 29,
   "metadata": {},
   "outputs": [
    {
     "name": "stdout",
     "output_type": "stream",
     "text": [
      "24736 ὁ,ὅς\n",
      "12995 καί\n",
      "11725 δέ\n",
      " 5711 εἰς,εἰμί,ἐν\n",
      " 3139 φημί\n",
      " 2917 οὗτος\n",
      " 2696 αὐτός\n",
      " 2457 τίς,ὁ,τις,ὅς\n",
      " 2408 εἰμί\n",
      " 2056 οὐ\n",
      " 2007 γάρ\n",
      " 1934 τεός,σύ,τις,τε\n",
      " 1932 τίς,ὁ,τῷ,ὅς,τις\n",
      " 1856 τίς,ὁ,ὅς\n",
      " 1828 μέν\n",
      " 1807 ὡς,ὅς\n",
      " 1742 περί\n",
      " 1390 ἐπί\n",
      " 1322 λέγω,λέγω1\n",
      " 1312 εἰς,εἰμί,εἶμι\n"
     ]
    }
   ],
   "source": [
    "for (w, amount) in F.lemma.freqList('word')[0:20]:\n",
    "  print(f'{amount:>5} {w}')"
   ]
  },
  {
   "cell_type": "markdown",
   "metadata": {},
   "source": [
    "## Hapaxes"
   ]
  },
  {
   "cell_type": "code",
   "execution_count": 20,
   "metadata": {},
   "outputs": [
    {
     "data": {
      "text/plain": [
       "11204"
      ]
     },
     "execution_count": 20,
     "metadata": {},
     "output_type": "execute_result"
    }
   ],
   "source": [
    "hapaxes1 = sorted(lx for (lx, amount) in F.lemma.freqList('word') if amount == 1)\n",
    "len(hapaxes1)"
   ]
  },
  {
   "cell_type": "code",
   "execution_count": 21,
   "metadata": {},
   "outputs": [
    {
     "name": "stdout",
     "output_type": "stream",
     "text": [
      "*isgreek\n",
      "*p\n",
      "*ʼαγκυλητους\n",
      "*ʼαδεσθαι\n",
      "*ʼαδυφωνον\n",
      "*ʼακουσομεθα\n",
      "*ʼαναξαρχον\n",
      "*ʼανδρομαχον\n",
      "*ʼανθος\n",
      "*ʼαντιφωντος\n",
      "*ʼαπο\n",
      "*ʼαποδιδωσι\n",
      "*ʼαρπασθηναι\n",
      "*ʼαφι\n",
      "*ʼβρενθιν\n",
      "*ʼβυζαντιους\n",
      "*ʼγενη\n",
      "*ʼγλαυκου\n",
      "*ʼγραφει\n",
      "*ʼγραφων\n"
     ]
    }
   ],
   "source": [
    "for lx in hapaxes1[0:20]:\n",
    "  print(lx)"
   ]
  },
  {
   "cell_type": "markdown",
   "metadata": {},
   "source": [
    "### Small occurrence base\n",
    "\n",
    "The occurrence base of a word are the books in which the word occurs."
   ]
  },
  {
   "cell_type": "code",
   "execution_count": 22,
   "metadata": {},
   "outputs": [
    {
     "name": "stdout",
     "output_type": "stream",
     "text": [
      "  0.00s compiling occurrence base ...\n",
      "  0.21s done\n",
      "  0.21s 23441 entries\n"
     ]
    }
   ],
   "source": [
    "occurrenceBase = collections.defaultdict(set)\n",
    "\n",
    "indent(reset=True)\n",
    "info('compiling occurrence base ...')\n",
    "for s in F.otype.s('book'):\n",
    "  book = F.book.v(s)\n",
    "  for w in L.d(s, otype='word'):\n",
    "    occurrenceBase[F.lemma.v(w)].add(book)\n",
    "info('done')\n",
    "info(f'{len(occurrenceBase)} entries')"
   ]
  },
  {
   "cell_type": "markdown",
   "metadata": {},
   "source": [
    "An overview of how many words have how big occurrence bases:"
   ]
  },
  {
   "cell_type": "code",
   "execution_count": 23,
   "metadata": {},
   "outputs": [
    {
     "name": "stdout",
     "output_type": "stream",
     "text": [
      "books    1 : 12909 words\n",
      "books    2 :  3621 words\n",
      "books    3 :  1881 words\n",
      "books    4 :  1179 words\n",
      "books    5 :   779 words\n",
      "books    6 :   572 words\n",
      "books    7 :   437 words\n",
      "books    8 :   373 words\n",
      "books   15 :   345 words\n",
      "books   10 :   296 words\n",
      "...\n",
      "books    6 :   572 words\n",
      "books    7 :   437 words\n",
      "books    8 :   373 words\n",
      "books   15 :   345 words\n",
      "books   10 :   296 words\n",
      "books    9 :   284 words\n",
      "books   11 :   216 words\n",
      "books   12 :   206 words\n",
      "books   13 :   172 words\n",
      "books   14 :   171 words\n"
     ]
    }
   ],
   "source": [
    "occurrenceSize = collections.Counter()\n",
    "\n",
    "for (w, books) in occurrenceBase.items():\n",
    "  occurrenceSize[len(books)] += 1\n",
    "  \n",
    "occurrenceSize = sorted(\n",
    "  occurrenceSize.items(),\n",
    "  key=lambda x: (-x[1], x[0]),\n",
    ")\n",
    "\n",
    "for (size, amount) in occurrenceSize[0:10]:\n",
    "  print(f'books {size:>4} : {amount:>5} words')\n",
    "print('...')\n",
    "for (size, amount) in occurrenceSize[-10:]:\n",
    "  print(f'books {size:>4} : {amount:>5} words')"
   ]
  },
  {
   "cell_type": "markdown",
   "metadata": {},
   "source": [
    "Let's give the predicate *private* to those words whose occurrence base is a single book."
   ]
  },
  {
   "cell_type": "code",
   "execution_count": 24,
   "metadata": {},
   "outputs": [
    {
     "data": {
      "text/plain": [
       "12909"
      ]
     },
     "execution_count": 24,
     "metadata": {},
     "output_type": "execute_result"
    }
   ],
   "source": [
    "privates = {w for (w, base) in occurrenceBase.items() if len(base) == 1}\n",
    "len(privates)"
   ]
  },
  {
   "cell_type": "markdown",
   "metadata": {},
   "source": [
    "### Peculiarity of books\n",
    "\n",
    "As a final exercise with books, lets make a list of all books, and show their\n",
    "\n",
    "* total number of words\n",
    "* number of private words\n",
    "* the percentage of private words: a measure of the peculiarity of the book"
   ]
  },
  {
   "cell_type": "code",
   "execution_count": 25,
   "metadata": {
    "ExecuteTime": {
     "end_time": "2018-05-18T09:18:52.143337Z",
     "start_time": "2018-05-18T09:18:52.130385Z"
    }
   },
   "outputs": [
    {
     "name": "stdout",
     "output_type": "stream",
     "text": [
      "Found    0 empty books\n",
      "Found    0 ordinary books (i.e. without private words)\n"
     ]
    }
   ],
   "source": [
    "bookList = []\n",
    "\n",
    "empty = set()\n",
    "ordinary = set()\n",
    "\n",
    "for d in F.otype.s('book'):\n",
    "  book = F.book.v(d)\n",
    "  words = {F.lemma.v(w) for w in L.d(d, otype='word')}\n",
    "  a = len(words)\n",
    "  if not a:\n",
    "    empty.add(book)\n",
    "    continue\n",
    "  o = len({w for w in words if w in privates})\n",
    "  if not o:\n",
    "    ordinary.add(book)\n",
    "    continue\n",
    "  p = 100 * o / a\n",
    "  bookList.append((book, a, o, p))\n",
    "\n",
    "bookList = sorted(bookList, key=lambda e: (-e[3], -e[1], e[0]))\n",
    "\n",
    "print(f'Found {len(empty):>4} empty books')\n",
    "print(f'Found {len(ordinary):>4} ordinary books (i.e. without private words)')"
   ]
  },
  {
   "cell_type": "code",
   "execution_count": 26,
   "metadata": {
    "ExecuteTime": {
     "end_time": "2018-05-18T09:18:52.143337Z",
     "start_time": "2018-05-18T09:18:52.130385Z"
    }
   },
   "outputs": [
    {
     "name": "stdout",
     "output_type": "stream",
     "text": [
      "book                 #all #own %own\n",
      "-----------------------------------\n",
      "3                    4707 1099 23.3%\n",
      "14                   4765 1092 22.9%\n",
      "15                   3812  843 22.1%\n",
      "13                   4935 1077 21.8%\n",
      "11                   4580  998 21.8%\n",
      "7                    4447  952 21.4%\n",
      "5                    4063  831 20.5%\n",
      "4                    4769  955 20.0%\n",
      "2                    3777  741 19.6%\n",
      "9                    4100  797 19.4%\n",
      "1                    3704  693 18.7%\n",
      "6                    4443  824 18.5%\n",
      "10                   4319  751 17.4%\n",
      "12                   4156  712 17.1%\n",
      "8                    3472  544 15.7%\n",
      "...\n",
      "3                    4707 1099 23.3%\n",
      "14                   4765 1092 22.9%\n",
      "15                   3812  843 22.1%\n",
      "13                   4935 1077 21.8%\n",
      "11                   4580  998 21.8%\n",
      "7                    4447  952 21.4%\n",
      "5                    4063  831 20.5%\n",
      "4                    4769  955 20.0%\n",
      "2                    3777  741 19.6%\n",
      "9                    4100  797 19.4%\n",
      "1                    3704  693 18.7%\n",
      "6                    4443  824 18.5%\n",
      "10                   4319  751 17.4%\n",
      "12                   4156  712 17.1%\n",
      "8                    3472  544 15.7%\n"
     ]
    }
   ],
   "source": [
    "print('{:<20}{:>5}{:>5}{:>5}\\n{}'.format(\n",
    "    'book', '#all', '#own', '%own',\n",
    "    '-'*35,\n",
    "))\n",
    "\n",
    "for x in bookList[0:20]:\n",
    "  print('{:<20} {:>4} {:>4} {:>4.1f}%'.format(*x))\n",
    "print('...')\n",
    "for x in bookList[-20:]:\n",
    "  print('{:<20} {:>4} {:>4} {:>4.1f}%'.format(*x))"
   ]
  },
  {
   "cell_type": "markdown",
   "metadata": {},
   "source": [
    "# Next steps\n",
    "\n",
    "By now you have an impression how to compute around in the Athenaeus.\n",
    "While this is still the beginning, I hope you already sense the power of unlimited programmatic access\n",
    "to all the bits and bytes in the data set.\n",
    "\n",
    "Here are a few directions for unleashing that power.\n",
    "\n",
    "**(in progress, not all of the tutorials below exist already!)**\n",
    "\n",
    "* **[display]\"(display.ipynb)\"** become an expert in creating pretty displays of your text structures\n",
    "* **[search](search.ipynb)** turbo charge your hand-coding with search templates\n",
    "* **[exportExcel]\"(exportExcel.ipynb)\"** make tailor-made spreadsheets out of your results\n",
    "* **[share]\"(share.ipynb)\"** draw in other people's data and let them use yours"
   ]
  }
 ],
 "metadata": {
  "kernelspec": {
   "display_name": "Python 3",
   "language": "python",
   "name": "python3"
  },
  "language_info": {
   "codemirror_mode": {
    "name": "ipython",
    "version": 3
   },
   "file_extension": ".py",
   "mimetype": "text/x-python",
   "name": "python",
   "nbconvert_exporter": "python",
   "pygments_lexer": "ipython3",
   "version": "3.7.2"
  }
 },
 "nbformat": 4,
 "nbformat_minor": 4
}
