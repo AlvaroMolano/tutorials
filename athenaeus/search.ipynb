{
 "cells": [
  {
   "cell_type": "markdown",
   "metadata": {},
   "source": [
    "<img align=\"right\" src=\"images/tf.png\"/>\n",
    "<img align=\"right\" src=\"images/etcbc.png\"/>\n",
    "<img align=\"right\" src=\"images/logo.png\"/>\n",
    "\n",
    "# Search Introduction\n",
    "\n",
    "*Search* in Text-Fabric is a template based way of looking for structural patterns in your dataset.\n",
    "\n",
    "Within Text-Fabric we have the unique possibility to combine the ease of formulating search templates for\n",
    "complicated syntactical patterns with the power of programmatically processing the results.\n",
    "\n",
    "This notebook will show you how to get up and running.\n",
    "\n",
    "## Easy command\n",
    "\n",
    "Search is as simple as saying (just an example)\n",
    "\n",
    "```python\n",
    "results = A.search(template)\n",
    "A.show(results)\n",
    "```\n",
    "\n",
    "See all ins and outs in the\n",
    "[search template docs](https://annotation.github.io/text-fabric/Use/Search/#search-templates)."
   ]
  },
  {
   "cell_type": "markdown",
   "metadata": {},
   "source": [
    "# Incantation\n",
    "\n",
    "The ins and outs of installing Text-Fabric, getting the corpus, and initializing a notebook are\n",
    "explained in the [start tutorial](start.ipynb)."
   ]
  },
  {
   "cell_type": "code",
   "execution_count": 1,
   "metadata": {},
   "outputs": [],
   "source": [
    "%load_ext autoreload\n",
    "%autoreload 2"
   ]
  },
  {
   "cell_type": "code",
   "execution_count": 2,
   "metadata": {
    "ExecuteTime": {
     "end_time": "2018-05-24T10:06:39.818664Z",
     "start_time": "2018-05-24T10:06:39.796588Z"
    }
   },
   "outputs": [],
   "source": [
    "import unicodedata\n",
    "from tf.app import use"
   ]
  },
  {
   "cell_type": "code",
   "execution_count": 3,
   "metadata": {},
   "outputs": [
    {
     "name": "stdout",
     "output_type": "stream",
     "text": [
      "Using TF-app in /Users/dirk/github/annotation/app-athenaeus/code:\n",
      "\trepo clone offline under ~/github (local github)\n",
      "Using data in /Users/dirk/github/pthu/athenaeus/Athenaeus/Deipnosophistae/tf/1.1:\n",
      "\trepo clone offline under ~/github (local github)\n"
     ]
    },
    {
     "data": {
      "text/html": [
       "<b>Documentation:</b> <a target=\"_blank\" href=\"https://nbviewer.jupyter.org/github/pthu/patristics/blob/master/docs/transcription.md\" title=\"provenance of The Deipnosophistae by Athenaeus\">ATHENAEUS</a> <a target=\"_blank\" href=\"https://nbviewer.jupyter.org/github/pthu/patristics/blob/master/docs/transcription.md\" title=\"How TF features represent text\">Character table</a> <a target=\"_blank\" href=\"https://nbviewer.jupyter.org/github/pthu/patristics/blob/master/docs/transcription.md\" title=\"ATHENAEUS feature documentation\">Feature docs</a> <a target=\"_blank\" href=\"https://github.com/annotation/app-athenaeus\" title=\"athenaeus API documentation\">athenaeus API</a> <a target=\"_blank\" href=\"https://annotation.github.io/text-fabric/Api/Fabric/\" title=\"text-fabric-api\">Text-Fabric API 7.11.1</a> <a target=\"_blank\" href=\"https://annotation.github.io/text-fabric/Use/Search/\" title=\"Search Templates Introduction and Reference\">Search Reference</a><details open><summary><b>Loaded features</b>:</summary>\n",
       "<p><b>The Deipnosophistae by Athenaeus</b>: <a target=\"_blank\" href=\"https://nbviewer.jupyter.org/github/pthu/patristics/blob/master/docs/transcription.md\" title=\"/Users/dirk/github/pthu/athenaeus/Athenaeus/Deipnosophistae/tf/1.1/_book.tf\">_book</a>  <a target=\"_blank\" href=\"https://nbviewer.jupyter.org/github/pthu/patristics/blob/master/docs/transcription.md\" title=\"/Users/dirk/github/pthu/athenaeus/Athenaeus/Deipnosophistae/tf/1.1/_sentence.tf\">_sentence</a>  <a target=\"_blank\" href=\"https://nbviewer.jupyter.org/github/pthu/patristics/blob/master/docs/transcription.md\" title=\"/Users/dirk/github/pthu/athenaeus/Athenaeus/Deipnosophistae/tf/1.1/add.tf\">add</a>  <a target=\"_blank\" href=\"https://nbviewer.jupyter.org/github/pthu/patristics/blob/master/docs/transcription.md\" title=\"/Users/dirk/github/pthu/athenaeus/Athenaeus/Deipnosophistae/tf/1.1/beta_plain.tf\">beta_plain</a>  <a target=\"_blank\" href=\"https://nbviewer.jupyter.org/github/pthu/patristics/blob/master/docs/transcription.md\" title=\"/Users/dirk/github/pthu/athenaeus/Athenaeus/Deipnosophistae/tf/1.1/bibl.tf\">bibl</a>  <a target=\"_blank\" href=\"https://nbviewer.jupyter.org/github/pthu/patristics/blob/master/docs/transcription.md\" title=\"/Users/dirk/github/pthu/athenaeus/Athenaeus/Deipnosophistae/tf/1.1/book.tf\">book</a>  <a target=\"_blank\" href=\"https://nbviewer.jupyter.org/github/pthu/patristics/blob/master/docs/transcription.md\" title=\"/Users/dirk/github/pthu/athenaeus/Athenaeus/Deipnosophistae/tf/1.1/chapter.tf\">chapter</a>  <a target=\"_blank\" href=\"https://nbviewer.jupyter.org/github/pthu/patristics/blob/master/docs/transcription.md\" title=\"/Users/dirk/github/pthu/athenaeus/Athenaeus/Deipnosophistae/tf/1.1/cit.tf\">cit</a>  <a target=\"_blank\" href=\"https://nbviewer.jupyter.org/github/pthu/patristics/blob/master/docs/transcription.md\" title=\"/Users/dirk/github/pthu/athenaeus/Athenaeus/Deipnosophistae/tf/1.1/head.tf\">head</a>  <a target=\"_blank\" href=\"https://nbviewer.jupyter.org/github/pthu/patristics/blob/master/docs/transcription.md\" title=\"/Users/dirk/github/pthu/athenaeus/Athenaeus/Deipnosophistae/tf/1.1/hi.tf\">hi</a>  <a target=\"_blank\" href=\"https://nbviewer.jupyter.org/github/pthu/patristics/blob/master/docs/transcription.md\" title=\"/Users/dirk/github/pthu/athenaeus/Athenaeus/Deipnosophistae/tf/1.1/l.tf\">l</a>  <a target=\"_blank\" href=\"https://nbviewer.jupyter.org/github/pthu/patristics/blob/master/docs/transcription.md\" title=\"/Users/dirk/github/pthu/athenaeus/Athenaeus/Deipnosophistae/tf/1.1/lemma.tf\">lemma</a>  <a target=\"_blank\" href=\"https://nbviewer.jupyter.org/github/pthu/patristics/blob/master/docs/transcription.md\" title=\"/Users/dirk/github/pthu/athenaeus/Athenaeus/Deipnosophistae/tf/1.1/main.tf\">main</a>  <a target=\"_blank\" href=\"https://nbviewer.jupyter.org/github/pthu/patristics/blob/master/docs/transcription.md\" title=\"/Users/dirk/github/pthu/athenaeus/Athenaeus/Deipnosophistae/tf/1.1/norm.tf\">norm</a>  <a target=\"_blank\" href=\"https://nbviewer.jupyter.org/github/pthu/patristics/blob/master/docs/transcription.md\" title=\"/Users/dirk/github/pthu/athenaeus/Athenaeus/Deipnosophistae/tf/1.1/num.tf\">num</a>  <a target=\"_blank\" href=\"https://nbviewer.jupyter.org/github/pthu/patristics/blob/master/docs/transcription.md\" title=\"/Users/dirk/github/pthu/athenaeus/Athenaeus/Deipnosophistae/tf/1.1/orig.tf\">orig</a>  <a target=\"_blank\" href=\"https://nbviewer.jupyter.org/github/pthu/patristics/blob/master/docs/transcription.md\" title=\"/Users/dirk/github/pthu/athenaeus/Athenaeus/Deipnosophistae/tf/1.1/otype.tf\">otype</a>  <a target=\"_blank\" href=\"https://nbviewer.jupyter.org/github/pthu/patristics/blob/master/docs/transcription.md\" title=\"/Users/dirk/github/pthu/athenaeus/Athenaeus/Deipnosophistae/tf/1.1/p.tf\">p</a>  <a target=\"_blank\" href=\"https://nbviewer.jupyter.org/github/pthu/patristics/blob/master/docs/transcription.md\" title=\"/Users/dirk/github/pthu/athenaeus/Athenaeus/Deipnosophistae/tf/1.1/pb.tf\">pb</a>  <a target=\"_blank\" href=\"https://nbviewer.jupyter.org/github/pthu/patristics/blob/master/docs/transcription.md\" title=\"/Users/dirk/github/pthu/athenaeus/Athenaeus/Deipnosophistae/tf/1.1/plain.tf\">plain</a>  <a target=\"_blank\" href=\"https://nbviewer.jupyter.org/github/pthu/patristics/blob/master/docs/transcription.md\" title=\"/Users/dirk/github/pthu/athenaeus/Athenaeus/Deipnosophistae/tf/1.1/post.tf\">post</a>  <a target=\"_blank\" href=\"https://nbviewer.jupyter.org/github/pthu/patristics/blob/master/docs/transcription.md\" title=\"/Users/dirk/github/pthu/athenaeus/Athenaeus/Deipnosophistae/tf/1.1/pre.tf\">pre</a>  <a target=\"_blank\" href=\"https://nbviewer.jupyter.org/github/pthu/patristics/blob/master/docs/transcription.md\" title=\"/Users/dirk/github/pthu/athenaeus/Athenaeus/Deipnosophistae/tf/1.1/quote.tf\">quote</a>  <b><i><a target=\"_blank\" href=\"https://nbviewer.jupyter.org/github/pthu/patristics/blob/master/docs/transcription.md\" title=\"/Users/dirk/github/pthu/athenaeus/Athenaeus/Deipnosophistae/tf/1.1/oslots.tf\">oslots</a></i></b> </p></details>"
      ],
      "text/plain": [
       "<IPython.core.display.HTML object>"
      ]
     },
     "metadata": {},
     "output_type": "display_data"
    },
    {
     "data": {
      "text/html": [
       "<style>\n",
       "@font-face {\n",
       "  font-family: \"Gentium\";\n",
       "  src:\n",
       "    local(\"GentiumPlus-R.ttf\"),\n",
       "    url(\"https://github.com/annotation/text-fabric/blob/master/tf/server/static/fonts/GentiumPlus-R.woff?raw=true\");\n",
       "}\n",
       ".features {\n",
       "    font-family: monospace;\n",
       "    font-size: medium;\n",
       "    font-weight: bold;\n",
       "    color: #0a6611;\n",
       "    display: flex;\n",
       "    flex-flow: column nowrap;\n",
       "    padding: 0.1em;\n",
       "    margin: 0.1em;\n",
       "    direction: ltr;\n",
       "}\n",
       ".features div,.features span {\n",
       "    padding: 0;\n",
       "    margin: -0.1rem 0;\n",
       "}\n",
       ".features .f {\n",
       "    font-family: sans-serif;\n",
       "    font-size: x-small;\n",
       "    font-weight: normal;\n",
       "    color: #5555bb;\n",
       "}\n",
       ".features .xft {\n",
       "  color: #000000;\n",
       "  background-color: #eeeeee;\n",
       "  font-size: medium;\n",
       "  margin: 0.1em 0em;\n",
       "}\n",
       ".features .xft .f {\n",
       "  color: #000000;\n",
       "  background-color: #eeeeee;\n",
       "  font-style: italic;\n",
       "  font-size: small;\n",
       "  font-weight: normal;\n",
       "}\n",
       ".title {\n",
       "    font-family: sans-serif;\n",
       "    font-size: small;\n",
       "    font-weight: bold;\n",
       "    color: #444444;\n",
       "}\n",
       ".nd {\n",
       "    font-family: monospace;\n",
       "    font-size: x-small;\n",
       "    color: #999999;\n",
       "}\n",
       ".hl {\n",
       "    background-color: #ffee66;\n",
       "}\n",
       ".outerplain {\n",
       "    direction: rtl;\n",
       "}\n",
       ".meta {\n",
       "    display: flex;\n",
       "    justify-content: flex-start;\n",
       "    align-items: flex-start;\n",
       "    align-content: flex-start;\n",
       "    flex-flow: row nowrap;\n",
       "}\n",
       ".features,.comments {\n",
       "    display: flex;\n",
       "    justify-content: flex-start;\n",
       "    align-items: flex-start;\n",
       "    align-content: flex-start;\n",
       "    flex-flow: column nowrap;\n",
       "}\n",
       ".verse {\n",
       "    display: flex;\n",
       "    flex-flow: row wrap;\n",
       "    direction: rtl;\n",
       "}\n",
       ".vl {\n",
       "    display: flex;\n",
       "    flex-flow: column nowrap;\n",
       "    justify-content: flex-end;\n",
       "    align-items: flex-end;\n",
       "    direction: ltr;\n",
       "    width: 100%;\n",
       "}\n",
       ".vn {\n",
       "  font-size: small !important;\n",
       "  padding-right: 1em;\n",
       "}\n",
       ".vrs {\n",
       "    font-family: sans-serif;\n",
       "    font-size: small;\n",
       "    font-weight: bold;\n",
       "    color: #444444;\n",
       "}\n",
       ".txtn,.txtn a:visited,.txtn a:link {\n",
       "    font-family: Gentium;\n",
       "    font-size: normal;\n",
       "    text-decoration: none;\n",
       "}\n",
       ".children {\n",
       "    display: flex;\n",
       "    justify-content: flex-start;\n",
       "    align-items: flex-start;\n",
       "    align-content: flex-start;\n",
       "    border: 0;\n",
       "    background-color: #ffffff;\n",
       "}\n",
       ".children._book {\n",
       "    flex-flow: column nowrap;\n",
       "}\n",
       ".children.book {\n",
       "    flex-flow: column nowrap;\n",
       "}\n",
       ".children.chapter {\n",
       "    align-items: stretch;\n",
       "    flex-flow: row wrap;\n",
       "}\n",
       ".children.p {\n",
       "    align-items: stretch;\n",
       "    flex-flow: row wrap;\n",
       "}\n",
       ".children._sentence {\n",
       "    align-items: stretch;\n",
       "    flex-flow: row wrap;\n",
       "}\n",
       ".children.word {\n",
       "    flex-flow: column nowrap;\n",
       "}\n",
       ".contnr {\n",
       "    width: fit-content;\n",
       "}\n",
       ".contnr._book,.contnr.book,\n",
       ".contnr.chapter,\n",
       ".contnr.p,\n",
       ".contnr._sentence,\n",
       ".contnr.word {\n",
       "    display: flex;\n",
       "    justify-content: flex-start;\n",
       "    align-items: flex-start;\n",
       "    align-content: flex-start;\n",
       "    flex-flow: column nowrap;\n",
       "    background: #ffffff none repeat scroll 0 0;\n",
       "    padding:  0.5em 0.1em 0.1em 0.1em;\n",
       "    margin: 0.8em 0.1em 0.1em 0.1em;\n",
       "    border-radius: 0.2em;\n",
       "    border-style: solid;\n",
       "    border-width: 0.2em;\n",
       "    font-size: small;\n",
       "}\n",
       ".contnr._book,.contnr.book {\n",
       "    border-color: #bb8800;\n",
       "}\n",
       ".contnr.chapter {\n",
       "    flex-flow: row wrap;\n",
       "    border-color: #0088bb;\n",
       "}\n",
       ".contnr.p {\n",
       "    flex-flow: row wrap;\n",
       "    border-color: #44bbff;\n",
       "}\n",
       ".contnr._sentence {\n",
       "    flex-flow: row wrap;\n",
       "    border-color: #44bbff;\n",
       "}\n",
       ".contnr.word {\n",
       "    border-color: #bbbbbb;\n",
       "}\n",
       ".contnr.hl {\n",
       "    background-color: #ffee66;\n",
       "}\n",
       ".lbl._book,.lbl.book,\n",
       ".lbl.chapter,\n",
       ".lbl.p,\n",
       ".lbl._sentence,\n",
       ".lbl.word {\n",
       "    margin-top: -1.2em;\n",
       "    margin-left: 1em;\n",
       "    background: #ffffff none repeat scroll 0 0;\n",
       "    padding: 0 0.3em;\n",
       "    border-style: solid;\n",
       "    font-size: small;\n",
       "    display: block;\n",
       "}\n",
       ".lbl._book,.lbl.book {\n",
       "    border-color: #bb8800;\n",
       "    border-width: 0.3em;\n",
       "    border-radius: 0.3em;\n",
       "    color: #bb8800;\n",
       "}\n",
       ".lbl.chapter {\n",
       "    border-color: #0088bb;\n",
       "    border-width: 0.3em;\n",
       "    border-radius: 0.3em;\n",
       "    color: #0088bb;\n",
       "}\n",
       ".lbl.p {\n",
       "    border-color: #dddddd;\n",
       "    border-width: 0.2em;\n",
       "    border-radius: 0.2em;\n",
       "    color: #0000cc;\n",
       "}\n",
       ".lbl._sentence {\n",
       "    border-color: #dddddd;\n",
       "    border-width: 0.2em;\n",
       "    border-radius: 0.2em;\n",
       "    color: #0000cc;\n",
       "}\n",
       ".lbl.word {\n",
       "    border-color: #bbbbbb;\n",
       "    border-width: 0.1em;\n",
       "    border-radius: 0.1em;\n",
       "    font-size: small;\n",
       "    color: #000000;\n",
       "}\n",
       ".text {\n",
       "    font-family: sans-serif;\n",
       "    font-size: x-small;\n",
       "    color: #000000;\n",
       "}\n",
       ".gap {\n",
       "    color: red;\n",
       "}\n",
       "\n",
       "tr.tf, td.tf, th.tf {\n",
       "  text-align: left;\n",
       "}\n",
       "\n",
       "span.hldot {\n",
       "\tbackground-color: var(--hl-strong);\n",
       "\tborder: 0.2rem solid var(--hl-rim);\n",
       "\tborder-radius: 0.4rem;\n",
       "\t/*\n",
       "\tdisplay: inline-block;\n",
       "\twidth: 0.8rem;\n",
       "\theight: 0.8rem;\n",
       "\t*/\n",
       "}\n",
       "span.hl {\n",
       "\tbackground-color: var(--hl-strong);\n",
       "\tborder-width: 0;\n",
       "\tborder-radius: 0.1rem;\n",
       "\tborder-style: solid;\n",
       "}\n",
       "\n",
       "span.hlbx {\n",
       "\tborder-color: var(--hl-dark);\n",
       "\tborder-width: 0.1rem;\n",
       "\tborder-style: solid;\n",
       "\tborder-radius: 0.2rem;\n",
       "  padding: 0.2rem;\n",
       "  margin: 0.2rem;\n",
       "}\n",
       "\n",
       "span.plain {\n",
       "  display: inline-block;\n",
       "  white-space: pre-wrap;\n",
       "}\n",
       "\n",
       ":root {\n",
       "\t--hl-strong:        hsla( 60, 100%,  70%, 0.9  );\n",
       "\t--hl-rim:           hsla( 55, 100%,  60%, 0.9  );\n",
       "\t--hl-dark:          hsla( 55, 100%,  40%, 0.9  );\n",
       "}\n",
       "</style>"
      ],
      "text/plain": [
       "<IPython.core.display.HTML object>"
      ]
     },
     "metadata": {},
     "output_type": "display_data"
    },
    {
     "data": {
      "text/html": [
       "<details open><summary><b>API members</b>:</summary>\n",
       "<a target=\"_blank\" href=\"https://annotation.github.io/text-fabric/Api/Computed/#computed-data\" title=\"doc\">C Computed</a>, <a target=\"_blank\" href=\"https://annotation.github.io/text-fabric/Api/Computed/#computed-data\" title=\"doc\">Call AllComputeds</a>, <a target=\"_blank\" href=\"https://annotation.github.io/text-fabric/Api/Computed/#computed-data\" title=\"doc\">Cs ComputedString</a><br/>\n",
       "<a target=\"_blank\" href=\"https://annotation.github.io/text-fabric/Api/Features/#edge-features\" title=\"doc\">E Edge</a>, <a target=\"_blank\" href=\"https://annotation.github.io/text-fabric/Api/Features/#edge-features\" title=\"doc\">Eall AllEdges</a>, <a target=\"_blank\" href=\"https://annotation.github.io/text-fabric/Api/Features/#edge-features\" title=\"doc\">Es EdgeString</a><br/>\n",
       "<a target=\"_blank\" href=\"https://annotation.github.io/text-fabric/Api/Fabric/#loading\" title=\"doc\">ensureLoaded</a>, <a target=\"_blank\" href=\"https://annotation.github.io/text-fabric/Api/Fabric/#loading\" title=\"doc\">TF</a>, <a target=\"_blank\" href=\"https://annotation.github.io/text-fabric/Api/Fabric/#loading\" title=\"doc\">ignored</a>, <a target=\"_blank\" href=\"https://annotation.github.io/text-fabric/Api/Fabric/#loading\" title=\"doc\">loadLog</a><br/>\n",
       "<a target=\"_blank\" href=\"https://annotation.github.io/text-fabric/Api/Locality/#locality\" title=\"doc\">L Locality</a><br/>\n",
       "<a target=\"_blank\" href=\"https://annotation.github.io/text-fabric/Api/Misc/#messaging\" title=\"doc\">cache</a>, <a target=\"_blank\" href=\"https://annotation.github.io/text-fabric/Api/Misc/#messaging\" title=\"doc\">error</a>, <a target=\"_blank\" href=\"https://annotation.github.io/text-fabric/Api/Misc/#messaging\" title=\"doc\">indent</a>, <a target=\"_blank\" href=\"https://annotation.github.io/text-fabric/Api/Misc/#messaging\" title=\"doc\">info</a>, <a target=\"_blank\" href=\"https://annotation.github.io/text-fabric/Api/Misc/#messaging\" title=\"doc\">isSilent</a>, <a target=\"_blank\" href=\"https://annotation.github.io/text-fabric/Api/Misc/#messaging\" title=\"doc\">reset</a>, <a target=\"_blank\" href=\"https://annotation.github.io/text-fabric/Api/Misc/#messaging\" title=\"doc\">setSilent</a>, <a target=\"_blank\" href=\"https://annotation.github.io/text-fabric/Api/Misc/#messaging\" title=\"doc\">silentOff</a>, <a target=\"_blank\" href=\"https://annotation.github.io/text-fabric/Api/Misc/#messaging\" title=\"doc\">silentOn</a>, <a target=\"_blank\" href=\"https://annotation.github.io/text-fabric/Api/Misc/#messaging\" title=\"doc\">warning</a><br/>\n",
       "<a target=\"_blank\" href=\"https://annotation.github.io/text-fabric/Api/Nodes/#navigating-nodes\" title=\"doc\">N Nodes</a>, <a target=\"_blank\" href=\"https://annotation.github.io/text-fabric/Api/Nodes/#navigating-nodes\" title=\"doc\">sortKey</a>, <a target=\"_blank\" href=\"https://annotation.github.io/text-fabric/Api/Nodes/#navigating-nodes\" title=\"doc\">sortKeyTuple</a>, <a target=\"_blank\" href=\"https://annotation.github.io/text-fabric/Api/Nodes/#navigating-nodes\" title=\"doc\">otypeRank</a>, <a target=\"_blank\" href=\"https://annotation.github.io/text-fabric/Api/Nodes/#navigating-nodes\" title=\"doc\">sortNodes</a><br/>\n",
       "<a target=\"_blank\" href=\"https://annotation.github.io/text-fabric/Api/Features/#node-features\" title=\"doc\">F Feature</a>, <a target=\"_blank\" href=\"https://annotation.github.io/text-fabric/Api/Features/#node-features\" title=\"doc\">Fall AllFeatures</a>, <a target=\"_blank\" href=\"https://annotation.github.io/text-fabric/Api/Features/#node-features\" title=\"doc\">Fs FeatureString</a><br/>\n",
       "<a target=\"_blank\" href=\"https://annotation.github.io/text-fabric/Api/Search/#search\" title=\"doc\">S Search</a><br/>\n",
       "<a target=\"_blank\" href=\"https://annotation.github.io/text-fabric/Api/Text/#text\" title=\"doc\">T Text</a></details>"
      ],
      "text/plain": [
       "<IPython.core.display.HTML object>"
      ]
     },
     "metadata": {},
     "output_type": "display_data"
    }
   ],
   "source": [
    "# A = use('athenaeus', hoist=globals())\n",
    "A = use('athenaeus:clone', checkout=\"clone\", hoist=globals())"
   ]
  },
  {
   "cell_type": "markdown",
   "metadata": {},
   "source": [
    "# Basic search command\n",
    "\n",
    "We start with the most simple form of issuing a query.\n",
    "Let's look for the words in book 3, chapter 4.\n",
    "\n",
    "All work involved in searching takes place under the hood."
   ]
  },
  {
   "cell_type": "code",
   "execution_count": 4,
   "metadata": {
    "ExecuteTime": {
     "end_time": "2018-05-24T07:46:55.998382Z",
     "start_time": "2018-05-24T07:46:55.137956Z"
    }
   },
   "outputs": [
    {
     "name": "stdout",
     "output_type": "stream",
     "text": [
      "  0.06s 66 results\n"
     ]
    },
    {
     "data": {
      "text/html": [
       "<table>\n",
       "<tr class=\"tf\">\n",
       "  <th class=\"tf\">n</th><th class=\"tf\">p</th>\n",
       "  <th class=\"tf\">book</th><th>chapter</th><th>word</th>\n",
       "</tr>\n",
       "\n",
       "<tr class=\"tf\"><td class=\"tf\">1</td><td class=\"tf\"> <a href=\"https://nbviewer.jupyter.org/github/pthu/patristics/blob/master/docs/transcription.md\" title=\"show this passage online\" sec=\"3 4\">3 4</a></td><td class=\"tf\"><a href=\"https://nbviewer.jupyter.org/github/pthu/patristics/blob/master/docs/transcription.md\" title=\"show this passage online\" sec=\"3\">3</a>&nbsp;<span class=\"plain outer  \" ></span></td><td class=\"tf\"><a href=\"https://nbviewer.jupyter.org/github/pthu/patristics/blob/master/docs/transcription.md\" title=\"show this passage online\" sec=\"3 4\">3 4</a>&nbsp;<span class=\"plain outer  \" ></span></td><td class=\"tf\"><span class=\"plain outer  hl\" ><span class=\"txtp\">ΣΙΚΥΟΣ. </span></span></td></tr>\n",
       "<tr class=\"tf\"><td class=\"tf\">2</td><td class=\"tf\"> <a href=\"https://nbviewer.jupyter.org/github/pthu/patristics/blob/master/docs/transcription.md\" title=\"show this passage online\" sec=\"3 4\">3 4</a></td><td class=\"tf\"><a href=\"https://nbviewer.jupyter.org/github/pthu/patristics/blob/master/docs/transcription.md\" title=\"show this passage online\" sec=\"3\">3</a>&nbsp;<span class=\"plain outer  \" ></span></td><td class=\"tf\"><a href=\"https://nbviewer.jupyter.org/github/pthu/patristics/blob/master/docs/transcription.md\" title=\"show this passage online\" sec=\"3 4\">3 4</a>&nbsp;<span class=\"plain outer  \" ></span></td><td class=\"tf\"><span class=\"plain outer  hl\" ><span class=\"txtp\">παροιμία· </span></span></td></tr>\n",
       "<tr class=\"tf\"><td class=\"tf\">3</td><td class=\"tf\"> <a href=\"https://nbviewer.jupyter.org/github/pthu/patristics/blob/master/docs/transcription.md\" title=\"show this passage online\" sec=\"3 4\">3 4</a></td><td class=\"tf\"><a href=\"https://nbviewer.jupyter.org/github/pthu/patristics/blob/master/docs/transcription.md\" title=\"show this passage online\" sec=\"3\">3</a>&nbsp;<span class=\"plain outer  \" ></span></td><td class=\"tf\"><a href=\"https://nbviewer.jupyter.org/github/pthu/patristics/blob/master/docs/transcription.md\" title=\"show this passage online\" sec=\"3 4\">3 4</a>&nbsp;<span class=\"plain outer  \" ></span></td><td class=\"tf\"><span class=\"plain outer  hl\" ><span class=\"txtp\">σικυὸν </span></span></td></tr>\n",
       "<tr class=\"tf\"><td class=\"tf\">4</td><td class=\"tf\"> <a href=\"https://nbviewer.jupyter.org/github/pthu/patristics/blob/master/docs/transcription.md\" title=\"show this passage online\" sec=\"3 4\">3 4</a></td><td class=\"tf\"><a href=\"https://nbviewer.jupyter.org/github/pthu/patristics/blob/master/docs/transcription.md\" title=\"show this passage online\" sec=\"3\">3</a>&nbsp;<span class=\"plain outer  \" ></span></td><td class=\"tf\"><a href=\"https://nbviewer.jupyter.org/github/pthu/patristics/blob/master/docs/transcription.md\" title=\"show this passage online\" sec=\"3 4\">3 4</a>&nbsp;<span class=\"plain outer  \" ></span></td><td class=\"tf\"><span class=\"plain outer  hl\" ><span class=\"txtp\">τρώγουσα, </span></span></td></tr>\n",
       "<tr class=\"tf\"><td class=\"tf\">5</td><td class=\"tf\"> <a href=\"https://nbviewer.jupyter.org/github/pthu/patristics/blob/master/docs/transcription.md\" title=\"show this passage online\" sec=\"3 4\">3 4</a></td><td class=\"tf\"><a href=\"https://nbviewer.jupyter.org/github/pthu/patristics/blob/master/docs/transcription.md\" title=\"show this passage online\" sec=\"3\">3</a>&nbsp;<span class=\"plain outer  \" ></span></td><td class=\"tf\"><a href=\"https://nbviewer.jupyter.org/github/pthu/patristics/blob/master/docs/transcription.md\" title=\"show this passage online\" sec=\"3 4\">3 4</a>&nbsp;<span class=\"plain outer  \" ></span></td><td class=\"tf\"><span class=\"plain outer  hl\" ><span class=\"txtp\">γύναι, </span></span></td></tr>\n",
       "<tr class=\"tf\"><td class=\"tf\">6</td><td class=\"tf\"> <a href=\"https://nbviewer.jupyter.org/github/pthu/patristics/blob/master/docs/transcription.md\" title=\"show this passage online\" sec=\"3 4\">3 4</a></td><td class=\"tf\"><a href=\"https://nbviewer.jupyter.org/github/pthu/patristics/blob/master/docs/transcription.md\" title=\"show this passage online\" sec=\"3\">3</a>&nbsp;<span class=\"plain outer  \" ></span></td><td class=\"tf\"><a href=\"https://nbviewer.jupyter.org/github/pthu/patristics/blob/master/docs/transcription.md\" title=\"show this passage online\" sec=\"3 4\">3 4</a>&nbsp;<span class=\"plain outer  \" ></span></td><td class=\"tf\"><span class=\"plain outer  hl\" ><span class=\"txtp\">τὴν </span></span></td></tr>\n",
       "<tr class=\"tf\"><td class=\"tf\">7</td><td class=\"tf\"> <a href=\"https://nbviewer.jupyter.org/github/pthu/patristics/blob/master/docs/transcription.md\" title=\"show this passage online\" sec=\"3 4\">3 4</a></td><td class=\"tf\"><a href=\"https://nbviewer.jupyter.org/github/pthu/patristics/blob/master/docs/transcription.md\" title=\"show this passage online\" sec=\"3\">3</a>&nbsp;<span class=\"plain outer  \" ></span></td><td class=\"tf\"><a href=\"https://nbviewer.jupyter.org/github/pthu/patristics/blob/master/docs/transcription.md\" title=\"show this passage online\" sec=\"3 4\">3 4</a>&nbsp;<span class=\"plain outer  \" ></span></td><td class=\"tf\"><span class=\"plain outer  hl\" ><span class=\"txtp\">χλαῖναν </span></span></td></tr>\n",
       "<tr class=\"tf\"><td class=\"tf\">8</td><td class=\"tf\"> <a href=\"https://nbviewer.jupyter.org/github/pthu/patristics/blob/master/docs/transcription.md\" title=\"show this passage online\" sec=\"3 4\">3 4</a></td><td class=\"tf\"><a href=\"https://nbviewer.jupyter.org/github/pthu/patristics/blob/master/docs/transcription.md\" title=\"show this passage online\" sec=\"3\">3</a>&nbsp;<span class=\"plain outer  \" ></span></td><td class=\"tf\"><a href=\"https://nbviewer.jupyter.org/github/pthu/patristics/blob/master/docs/transcription.md\" title=\"show this passage online\" sec=\"3 4\">3 4</a>&nbsp;<span class=\"plain outer  \" ></span></td><td class=\"tf\"><span class=\"plain outer  hl\" ><span class=\"txtp\">ὕφαινε. </span></span></td></tr>\n",
       "<tr class=\"tf\"><td class=\"tf\">9</td><td class=\"tf\"> <a href=\"https://nbviewer.jupyter.org/github/pthu/patristics/blob/master/docs/transcription.md\" title=\"show this passage online\" sec=\"3 4\">3 4</a></td><td class=\"tf\"><a href=\"https://nbviewer.jupyter.org/github/pthu/patristics/blob/master/docs/transcription.md\" title=\"show this passage online\" sec=\"3\">3</a>&nbsp;<span class=\"plain outer  \" ></span></td><td class=\"tf\"><a href=\"https://nbviewer.jupyter.org/github/pthu/patristics/blob/master/docs/transcription.md\" title=\"show this passage online\" sec=\"3 4\">3 4</a>&nbsp;<span class=\"plain outer  \" ></span></td><td class=\"tf\"><span class=\"plain outer  hl\" ><span class=\"txtp\">Μάτρων </span></span></td></tr>\n",
       "<tr class=\"tf\"><td class=\"tf\">10</td><td class=\"tf\"> <a href=\"https://nbviewer.jupyter.org/github/pthu/patristics/blob/master/docs/transcription.md\" title=\"show this passage online\" sec=\"3 4\">3 4</a></td><td class=\"tf\"><a href=\"https://nbviewer.jupyter.org/github/pthu/patristics/blob/master/docs/transcription.md\" title=\"show this passage online\" sec=\"3\">3</a>&nbsp;<span class=\"plain outer  \" ></span></td><td class=\"tf\"><a href=\"https://nbviewer.jupyter.org/github/pthu/patristics/blob/master/docs/transcription.md\" title=\"show this passage online\" sec=\"3 4\">3 4</a>&nbsp;<span class=\"plain outer  \" ></span></td><td class=\"tf\"><span class=\"plain outer  hl\" ><span class=\"txtp\">ἐν </span></span></td></tr></table>"
      ],
      "text/plain": [
       "<IPython.core.display.HTML object>"
      ]
     },
     "metadata": {},
     "output_type": "display_data"
    }
   ],
   "source": [
    "query = '''\n",
    "book book=3\n",
    "  chapter chapter=4\n",
    "    word\n",
    "'''\n",
    "results = A.search(query)\n",
    "A.table(results, end=10)"
   ]
  },
  {
   "cell_type": "markdown",
   "metadata": {},
   "source": [
    "The hyperlinks take us all to the beginning of the book of Matthew.\n",
    "\n",
    "Note that we can choose start and/or end points in the results list."
   ]
  },
  {
   "cell_type": "code",
   "execution_count": 5,
   "metadata": {
    "ExecuteTime": {
     "end_time": "2018-05-24T07:47:03.299872Z",
     "start_time": "2018-05-24T07:47:03.261873Z"
    }
   },
   "outputs": [
    {
     "data": {
      "text/html": [
       "<table>\n",
       "<tr class=\"tf\">\n",
       "  <th class=\"tf\">n</th><th class=\"tf\">p</th>\n",
       "  <th class=\"tf\">book</th><th>chapter</th><th>word</th>\n",
       "</tr>\n",
       "\n",
       "<tr class=\"tf\"><td class=\"tf\">8</td><td class=\"tf\"> <a href=\"https://nbviewer.jupyter.org/github/pthu/patristics/blob/master/docs/transcription.md\" title=\"show this passage online\" sec=\"3 4:1812\">3 4:1812</a></td><td class=\"tf\"><a href=\"https://nbviewer.jupyter.org/github/pthu/patristics/blob/master/docs/transcription.md\" title=\"show this passage online\" sec=\"3\">3</a>&nbsp;<span class=\"plain outer  \" ></span></td><td class=\"tf\"><a href=\"https://nbviewer.jupyter.org/github/pthu/patristics/blob/master/docs/transcription.md\" title=\"show this passage online\" sec=\"3 4\">3 4</a>&nbsp;<span class=\"plain outer  \" ></span></td><td class=\"tf\"><a href=\"https://nbviewer.jupyter.org/github/pthu/patristics/blob/master/docs/transcription.md\" title=\"3 4:1812\" sec=\"3 4:1812\"><span class=\"plain outer  hl\" ><span class=\"txtp\">ὕφαινε. </span></span></a></td></tr>\n",
       "<tr class=\"tf\"><td class=\"tf\">9</td><td class=\"tf\"> <a href=\"https://nbviewer.jupyter.org/github/pthu/patristics/blob/master/docs/transcription.md\" title=\"show this passage online\" sec=\"3 4:1813\">3 4:1813</a></td><td class=\"tf\"><a href=\"https://nbviewer.jupyter.org/github/pthu/patristics/blob/master/docs/transcription.md\" title=\"show this passage online\" sec=\"3\">3</a>&nbsp;<span class=\"plain outer  \" ></span></td><td class=\"tf\"><a href=\"https://nbviewer.jupyter.org/github/pthu/patristics/blob/master/docs/transcription.md\" title=\"show this passage online\" sec=\"3 4\">3 4</a>&nbsp;<span class=\"plain outer  \" ></span></td><td class=\"tf\"><a href=\"https://nbviewer.jupyter.org/github/pthu/patristics/blob/master/docs/transcription.md\" title=\"3 4:1813\" sec=\"3 4:1813\"><span class=\"plain outer  hl\" ><span class=\"txtp\">Μάτρων </span></span></a></td></tr>\n",
       "<tr class=\"tf\"><td class=\"tf\">10</td><td class=\"tf\"> <a href=\"https://nbviewer.jupyter.org/github/pthu/patristics/blob/master/docs/transcription.md\" title=\"show this passage online\" sec=\"3 4:1813\">3 4:1813</a></td><td class=\"tf\"><a href=\"https://nbviewer.jupyter.org/github/pthu/patristics/blob/master/docs/transcription.md\" title=\"show this passage online\" sec=\"3\">3</a>&nbsp;<span class=\"plain outer  \" ></span></td><td class=\"tf\"><a href=\"https://nbviewer.jupyter.org/github/pthu/patristics/blob/master/docs/transcription.md\" title=\"show this passage online\" sec=\"3 4\">3 4</a>&nbsp;<span class=\"plain outer  \" ></span></td><td class=\"tf\"><a href=\"https://nbviewer.jupyter.org/github/pthu/patristics/blob/master/docs/transcription.md\" title=\"3 4:1813\" sec=\"3 4:1813\"><span class=\"plain outer  hl\" ><span class=\"txtp\">ἐν </span></span></a></td></tr>\n",
       "<tr class=\"tf\"><td class=\"tf\">11</td><td class=\"tf\"> <a href=\"https://nbviewer.jupyter.org/github/pthu/patristics/blob/master/docs/transcription.md\" title=\"show this passage online\" sec=\"3 4:1813\">3 4:1813</a></td><td class=\"tf\"><a href=\"https://nbviewer.jupyter.org/github/pthu/patristics/blob/master/docs/transcription.md\" title=\"show this passage online\" sec=\"3\">3</a>&nbsp;<span class=\"plain outer  \" ></span></td><td class=\"tf\"><a href=\"https://nbviewer.jupyter.org/github/pthu/patristics/blob/master/docs/transcription.md\" title=\"show this passage online\" sec=\"3 4\">3 4</a>&nbsp;<span class=\"plain outer  \" ></span></td><td class=\"tf\"><a href=\"https://nbviewer.jupyter.org/github/pthu/patristics/blob/master/docs/transcription.md\" title=\"3 4:1813\" sec=\"3 4:1813\"><span class=\"plain outer  hl\" ><span class=\"txtp\">παρῳδίαις( )·  </span></span></a></td></tr>\n",
       "<tr class=\"tf\"><td class=\"tf\">12</td><td class=\"tf\"> <a href=\"https://nbviewer.jupyter.org/github/pthu/patristics/blob/master/docs/transcription.md\" title=\"show this passage online\" sec=\"3 4:1813\">3 4:1813</a></td><td class=\"tf\"><a href=\"https://nbviewer.jupyter.org/github/pthu/patristics/blob/master/docs/transcription.md\" title=\"show this passage online\" sec=\"3\">3</a>&nbsp;<span class=\"plain outer  \" ></span></td><td class=\"tf\"><a href=\"https://nbviewer.jupyter.org/github/pthu/patristics/blob/master/docs/transcription.md\" title=\"show this passage online\" sec=\"3 4\">3 4</a>&nbsp;<span class=\"plain outer  \" ></span></td><td class=\"tf\"><a href=\"https://nbviewer.jupyter.org/github/pthu/patristics/blob/master/docs/transcription.md\" title=\"3 4:1813\" sec=\"3 4:1813\"><span class=\"plain outer  hl\" ><span class=\"txtp\">καὶ </span></span></a></td></tr>\n",
       "<tr class=\"tf\"><td class=\"tf\">13</td><td class=\"tf\"> <a href=\"https://nbviewer.jupyter.org/github/pthu/patristics/blob/master/docs/transcription.md\" title=\"show this passage online\" sec=\"3 4:1813\">3 4:1813</a></td><td class=\"tf\"><a href=\"https://nbviewer.jupyter.org/github/pthu/patristics/blob/master/docs/transcription.md\" title=\"show this passage online\" sec=\"3\">3</a>&nbsp;<span class=\"plain outer  \" ></span></td><td class=\"tf\"><a href=\"https://nbviewer.jupyter.org/github/pthu/patristics/blob/master/docs/transcription.md\" title=\"show this passage online\" sec=\"3 4\">3 4</a>&nbsp;<span class=\"plain outer  \" ></span></td><td class=\"tf\"><a href=\"https://nbviewer.jupyter.org/github/pthu/patristics/blob/master/docs/transcription.md\" title=\"3 4:1813\" sec=\"3 4:1813\"><span class=\"plain outer  hl\" ><span class=\"txtp\">σικυὸν </span></span></a></td></tr></table>"
      ],
      "text/plain": [
       "<IPython.core.display.HTML object>"
      ]
     },
     "metadata": {},
     "output_type": "display_data"
    }
   ],
   "source": [
    "A.table(results, start=8, end=13, linked=3)"
   ]
  },
  {
   "cell_type": "markdown",
   "metadata": {},
   "source": [
    "We can show the results more fully with `show()`."
   ]
  },
  {
   "cell_type": "code",
   "execution_count": 6,
   "metadata": {
    "ExecuteTime": {
     "end_time": "2018-05-24T07:47:06.875859Z",
     "start_time": "2018-05-24T07:47:06.757345Z"
    }
   },
   "outputs": [
    {
     "data": {
      "text/html": [
       "<p><b>result</b> <i>1</i></p>"
      ],
      "text/plain": [
       "<IPython.core.display.HTML object>"
      ]
     },
     "metadata": {},
     "output_type": "display_data"
    },
    {
     "data": {
      "text/html": [
       "<div class=\"contnr book \" ><div class=\"lbl book\"><a href=\"https://nbviewer.jupyter.org/github/pthu/patristics/blob/master/docs/transcription.md\" title=\"3\" sec=\"3\">book <span class=\"txtn\">3</span></a> </div><div class=\"meta\"><div class=\"features\"> <span class=\"book xft\"><span class=\"f\">book=</span>3</span></div></div></div>"
      ],
      "text/plain": [
       "<IPython.core.display.HTML object>"
      ]
     },
     "metadata": {},
     "output_type": "display_data"
    },
    {
     "data": {
      "text/html": [
       "<div class=\"contnr chapter \" ><div class=\"lbl chapter\"><a href=\"https://nbviewer.jupyter.org/github/pthu/patristics/blob/master/docs/transcription.md\" title=\"3 4\" sec=\"3 4\">chapter <span class=\"txtn\">4</span></a> </div><div class=\"meta\"><div class=\"features\"> <span class=\"chapter xft\"><span class=\"f\">chapter=</span>4</span></div></div></div>"
      ],
      "text/plain": [
       "<IPython.core.display.HTML object>"
      ]
     },
     "metadata": {},
     "output_type": "display_data"
    },
    {
     "data": {
      "text/html": [
       "<div class=\"contnr _sentence \" ><div class=\"lbl _sentence\"><a href=\"https://nbviewer.jupyter.org/github/pthu/patristics/blob/master/docs/transcription.md\" title=\"3 4:1811\" sec=\"3 4:1811\">_sentence <span class=\"txtn\"></span></a> </div><div class=\"meta\"><div class=\"features\"></div></div><div class=\"children _sentence\"><div class=\"contnr word hl\" ><div class=\"lbl word\"><span class=\"txtp\">ΣΙΚΥΟΣ. </span> </div><div class=\"meta\"><div class=\"features\"></div></div></div></div></div>"
      ],
      "text/plain": [
       "<IPython.core.display.HTML object>"
      ]
     },
     "metadata": {},
     "output_type": "display_data"
    },
    {
     "data": {
      "text/html": [
       "<p><b>result</b> <i>2</i></p>"
      ],
      "text/plain": [
       "<IPython.core.display.HTML object>"
      ]
     },
     "metadata": {},
     "output_type": "display_data"
    },
    {
     "data": {
      "text/html": [
       "<div class=\"contnr book \" ><div class=\"lbl book\"><a href=\"https://nbviewer.jupyter.org/github/pthu/patristics/blob/master/docs/transcription.md\" title=\"3\" sec=\"3\">book <span class=\"txtn\">3</span></a> </div><div class=\"meta\"><div class=\"features\"> <span class=\"book xft\"><span class=\"f\">book=</span>3</span></div></div></div>"
      ],
      "text/plain": [
       "<IPython.core.display.HTML object>"
      ]
     },
     "metadata": {},
     "output_type": "display_data"
    },
    {
     "data": {
      "text/html": [
       "<div class=\"contnr chapter \" ><div class=\"lbl chapter\"><a href=\"https://nbviewer.jupyter.org/github/pthu/patristics/blob/master/docs/transcription.md\" title=\"3 4\" sec=\"3 4\">chapter <span class=\"txtn\">4</span></a> </div><div class=\"meta\"><div class=\"features\"> <span class=\"chapter xft\"><span class=\"f\">chapter=</span>4</span></div></div></div>"
      ],
      "text/plain": [
       "<IPython.core.display.HTML object>"
      ]
     },
     "metadata": {},
     "output_type": "display_data"
    },
    {
     "data": {
      "text/html": [
       "<div class=\"contnr _sentence \" ><div class=\"lbl _sentence\"><a href=\"https://nbviewer.jupyter.org/github/pthu/patristics/blob/master/docs/transcription.md\" title=\"3 4:1812\" sec=\"3 4:1812\">_sentence <span class=\"txtn\"></span></a> </div><div class=\"meta\"><div class=\"features\"></div></div><div class=\"children _sentence\"><div class=\"contnr word hl\" ><div class=\"lbl word\"><span class=\"txtp\">παροιμία· </span> </div><div class=\"meta\"><div class=\"features\"></div></div></div><div class=\"contnr word \" ><div class=\"lbl word\"><span class=\"txtp\">σικυὸν </span> </div><div class=\"meta\"><div class=\"features\"></div></div></div><div class=\"contnr word \" ><div class=\"lbl word\"><span class=\"txtp\">τρώγουσα, </span> </div><div class=\"meta\"><div class=\"features\"></div></div></div><div class=\"contnr word \" ><div class=\"lbl word\"><span class=\"txtp\">γύναι, </span> </div><div class=\"meta\"><div class=\"features\"></div></div></div><div class=\"contnr word \" ><div class=\"lbl word\"><span class=\"txtp\">τὴν </span> </div><div class=\"meta\"><div class=\"features\"></div></div></div><div class=\"contnr word \" ><div class=\"lbl word\"><span class=\"txtp\">χλαῖναν </span> </div><div class=\"meta\"><div class=\"features\"></div></div></div><div class=\"contnr word \" ><div class=\"lbl word\"><span class=\"txtp\">ὕφαινε. </span> </div><div class=\"meta\"><div class=\"features\"></div></div></div></div></div>"
      ],
      "text/plain": [
       "<IPython.core.display.HTML object>"
      ]
     },
     "metadata": {},
     "output_type": "display_data"
    },
    {
     "data": {
      "text/html": [
       "<p><b>result</b> <i>3</i></p>"
      ],
      "text/plain": [
       "<IPython.core.display.HTML object>"
      ]
     },
     "metadata": {},
     "output_type": "display_data"
    },
    {
     "data": {
      "text/html": [
       "<div class=\"contnr book \" ><div class=\"lbl book\"><a href=\"https://nbviewer.jupyter.org/github/pthu/patristics/blob/master/docs/transcription.md\" title=\"3\" sec=\"3\">book <span class=\"txtn\">3</span></a> </div><div class=\"meta\"><div class=\"features\"> <span class=\"book xft\"><span class=\"f\">book=</span>3</span></div></div></div>"
      ],
      "text/plain": [
       "<IPython.core.display.HTML object>"
      ]
     },
     "metadata": {},
     "output_type": "display_data"
    },
    {
     "data": {
      "text/html": [
       "<div class=\"contnr chapter \" ><div class=\"lbl chapter\"><a href=\"https://nbviewer.jupyter.org/github/pthu/patristics/blob/master/docs/transcription.md\" title=\"3 4\" sec=\"3 4\">chapter <span class=\"txtn\">4</span></a> </div><div class=\"meta\"><div class=\"features\"> <span class=\"chapter xft\"><span class=\"f\">chapter=</span>4</span></div></div></div>"
      ],
      "text/plain": [
       "<IPython.core.display.HTML object>"
      ]
     },
     "metadata": {},
     "output_type": "display_data"
    },
    {
     "data": {
      "text/html": [
       "<div class=\"contnr _sentence \" ><div class=\"lbl _sentence\"><a href=\"https://nbviewer.jupyter.org/github/pthu/patristics/blob/master/docs/transcription.md\" title=\"3 4:1812\" sec=\"3 4:1812\">_sentence <span class=\"txtn\"></span></a> </div><div class=\"meta\"><div class=\"features\"></div></div><div class=\"children _sentence\"><div class=\"contnr word \" ><div class=\"lbl word\"><span class=\"txtp\">παροιμία· </span> </div><div class=\"meta\"><div class=\"features\"></div></div></div><div class=\"contnr word hl\" ><div class=\"lbl word\"><span class=\"txtp\">σικυὸν </span> </div><div class=\"meta\"><div class=\"features\"></div></div></div><div class=\"contnr word \" ><div class=\"lbl word\"><span class=\"txtp\">τρώγουσα, </span> </div><div class=\"meta\"><div class=\"features\"></div></div></div><div class=\"contnr word \" ><div class=\"lbl word\"><span class=\"txtp\">γύναι, </span> </div><div class=\"meta\"><div class=\"features\"></div></div></div><div class=\"contnr word \" ><div class=\"lbl word\"><span class=\"txtp\">τὴν </span> </div><div class=\"meta\"><div class=\"features\"></div></div></div><div class=\"contnr word \" ><div class=\"lbl word\"><span class=\"txtp\">χλαῖναν </span> </div><div class=\"meta\"><div class=\"features\"></div></div></div><div class=\"contnr word \" ><div class=\"lbl word\"><span class=\"txtp\">ὕφαινε. </span> </div><div class=\"meta\"><div class=\"features\"></div></div></div></div></div>"
      ],
      "text/plain": [
       "<IPython.core.display.HTML object>"
      ]
     },
     "metadata": {},
     "output_type": "display_data"
    }
   ],
   "source": [
    "A.show(results, start=1, end=3)"
   ]
  },
  {
   "cell_type": "markdown",
   "metadata": {},
   "source": [
    "Before we go on, there is a thing with Unicode.\n",
    "\n",
    "All Greek strings in this corpus are in decomposed normal form. That means e.g. that\n",
    "`ἐπί` has 5 letters.\n",
    "\n",
    "However, when this string is printed in a Jupyter notebook, it is converted to composed normal form.\n",
    "So when we copy and paste such a string in a query, we must make sure that we paste the denormalized form.\n",
    "\n",
    "We use a utility function for that:"
   ]
  },
  {
   "cell_type": "code",
   "execution_count": 7,
   "metadata": {},
   "outputs": [],
   "source": [
    "def ud(s):\n",
    "  return unicodedata.normalize('NFD', s)"
   ]
  },
  {
   "cell_type": "code",
   "execution_count": 8,
   "metadata": {},
   "outputs": [
    {
     "name": "stdout",
     "output_type": "stream",
     "text": [
      "  0.28s 1390 results\n"
     ]
    },
    {
     "data": {
      "text/html": [
       "<p><b>_sentence</b> <i>1</i></p>"
      ],
      "text/plain": [
       "<IPython.core.display.HTML object>"
      ]
     },
     "metadata": {},
     "output_type": "display_data"
    },
    {
     "data": {
      "text/html": [
       "<div class=\"contnr _sentence \" ><div class=\"lbl _sentence\"><a href=\"https://nbviewer.jupyter.org/github/pthu/patristics/blob/master/docs/transcription.md\" title=\"1 2:12\" sec=\"1 2:12\">_sentence <span class=\"txtn\"></span></a> </div><div class=\"meta\"><div class=\"features\"></div></div><div class=\"children _sentence\"><div class=\"contnr word \" ><div class=\"lbl word\"><span class=\"txtp\">οἷον </span> </div><div class=\"meta\"><div class=\"features\"> <span class=\"lemma xft\"><span class=\"f\">lemma=</span>οἷος</span></div></div></div><div class=\"contnr word \" ><div class=\"lbl word\"><span class=\"txtp\">εἰ </span> </div><div class=\"meta\"><div class=\"features\"> <span class=\"lemma xft\"><span class=\"f\">lemma=</span>εἶμι,εἰ,εἰμί</span></div></div></div><div class=\"contnr word \" ><div class=\"lbl word\"><span class=\"txtp\">κεῖται </span> </div><div class=\"meta\"><div class=\"features\"> <span class=\"lemma xft\"><span class=\"f\">lemma=</span>κεῖμαι</span></div></div></div><div class=\"contnr word \" ><div class=\"lbl word\"><span class=\"txtp\">ὥρα </span> </div><div class=\"meta\"><div class=\"features\"> <span class=\"lemma xft\"><span class=\"f\">lemma=</span>ὁράω,ὥρα,ὥρα2</span></div></div></div><div class=\"contnr word hl\" ><div class=\"lbl word\"><span class=\"txtp\">ἐπὶ </span> </div><div class=\"meta\"><div class=\"features\"> <span class=\"lemma xft\"><span class=\"f\">lemma=</span>ἐπί</span></div></div></div><div class=\"contnr word \" ><div class=\"lbl word\"><span class=\"txtp\">τοῦ </span> </div><div class=\"meta\"><div class=\"features\"> <span class=\"lemma xft\"><span class=\"f\">lemma=</span>ὅς,ὁ,τίς,τις</span></div></div></div><div class=\"contnr word \" ><div class=\"lbl word\"><span class=\"txtp\">τῆς </span> </div><div class=\"meta\"><div class=\"features\"> <span class=\"lemma xft\"><span class=\"f\">lemma=</span>ὅς,ὁ</span></div></div></div><div class=\"contnr word \" ><div class=\"lbl word\"><span class=\"txtp\">ἡμέρας </span> </div><div class=\"meta\"><div class=\"features\"> <span class=\"lemma xft\"><span class=\"f\">lemma=</span>ἥμερος,ἡμέρα</span></div></div></div><div class=\"contnr word \" ><div class=\"lbl word\"><span class=\"txtp\">μορίου, </span> </div><div class=\"meta\"><div class=\"features\"> <span class=\"lemma xft\"><span class=\"f\">lemma=</span>μόριος,μόριον</span></div></div></div><div class=\"contnr word \" ><div class=\"lbl word\"><span class=\"txtp\">εἰ </span> </div><div class=\"meta\"><div class=\"features\"> <span class=\"lemma xft\"><span class=\"f\">lemma=</span>εἶμι,εἰ,εἰμί</span></div></div></div><div class=\"contnr word \" ><div class=\"lbl word\"><span class=\"txtp\">ὁ </span> </div><div class=\"meta\"><div class=\"features\"> <span class=\"lemma xft\"><span class=\"f\">lemma=</span>ὅς,ὁ</span></div></div></div><div class=\"contnr word \" ><div class=\"lbl word\"><span class=\"txtp\">μέθυσος </span> </div><div class=\"meta\"><div class=\"features\"> <span class=\"lemma xft\"><span class=\"f\">lemma=</span>μέθυσος</span></div></div></div><div class=\"contnr word hl\" ><div class=\"lbl word\"><span class=\"txtp\">ἐπὶ </span> </div><div class=\"meta\"><div class=\"features\"> <span class=\"lemma xft\"><span class=\"f\">lemma=</span>ἐπί</span></div></div></div><div class=\"contnr word \" ><div class=\"lbl word\"><span class=\"txtp\">ἀνδρός, </span> </div><div class=\"meta\"><div class=\"features\"> <span class=\"lemma xft\"><span class=\"f\">lemma=</span>ἀνήρ</span></div></div></div><div class=\"contnr word \" ><div class=\"lbl word\"><span class=\"txtp\">εἰ </span> </div><div class=\"meta\"><div class=\"features\"> <span class=\"lemma xft\"><span class=\"f\">lemma=</span>εἶμι,εἰ,εἰμί</span></div></div></div><div class=\"contnr word \" ><div class=\"lbl word\"><span class=\"txtp\">ἡ </span> </div><div class=\"meta\"><div class=\"features\"> <span class=\"lemma xft\"><span class=\"f\">lemma=</span>ὅς,ὁ</span></div></div></div><div class=\"contnr word \" ><div class=\"lbl word\"><span class=\"txtp\">μήτρα </span> </div><div class=\"meta\"><div class=\"features\"> <span class=\"lemma xft\"><span class=\"f\">lemma=</span>μήτρα,μήτηρ</span></div></div></div><div class=\"contnr word \" ><div class=\"lbl word\"><span class=\"txtp\">κεῖται </span> </div><div class=\"meta\"><div class=\"features\"> <span class=\"lemma xft\"><span class=\"f\">lemma=</span>κεῖμαι</span></div></div></div><div class=\"contnr word hl\" ><div class=\"lbl word\"><span class=\"txtp\">ἐπὶ </span> </div><div class=\"meta\"><div class=\"features\"> <span class=\"lemma xft\"><span class=\"f\">lemma=</span>ἐπί</span></div></div></div><div class=\"contnr word \" ><div class=\"lbl word\"><span class=\"txtp\">τοῦ </span> </div><div class=\"meta\"><div class=\"features\"> <span class=\"lemma xft\"><span class=\"f\">lemma=</span>ὅς,ὁ,τίς,τις</span></div></div></div><div class=\"contnr word \" ><div class=\"lbl word\"><span class=\"txtp\">ἐδωδίμου </span> </div><div class=\"meta\"><div class=\"features\"> <span class=\"lemma xft\"><span class=\"f\">lemma=</span>ἐδώδιμος</span></div></div></div><div class=\"contnr word \" ><div class=\"lbl word\"><span class=\"txtp\">βρώματος, </span> </div><div class=\"meta\"><div class=\"features\"> <span class=\"lemma xft\"><span class=\"f\">lemma=</span>βρῶμα</span></div></div></div><div class=\"contnr word \" ><div class=\"lbl word\"><span class=\"txtp\">εἰ </span> </div><div class=\"meta\"><div class=\"features\"> <span class=\"lemma xft\"><span class=\"f\">lemma=</span>εἶμι,εἰ,εἰμί</span></div></div></div><div class=\"contnr word \" ><div class=\"lbl word\"><span class=\"txtp\">σύαγρος </span> </div><div class=\"meta\"><div class=\"features\"> <span class=\"lemma xft\"><span class=\"f\">lemma=</span>σύαγρος</span></div></div></div><div class=\"contnr word \" ><div class=\"lbl word\"><span class=\"txtp\">κεῖται </span> </div><div class=\"meta\"><div class=\"features\"> <span class=\"lemma xft\"><span class=\"f\">lemma=</span>κεῖμαι</span></div></div></div><div class=\"contnr word \" ><div class=\"lbl word\"><span class=\"txtp\">τὸ </span> </div><div class=\"meta\"><div class=\"features\"> <span class=\"lemma xft\"><span class=\"f\">lemma=</span>ὅς,ὁ</span></div></div></div><div class=\"contnr word \" ><div class=\"lbl word\"><span class=\"txtp\">σύνθετον </span> </div><div class=\"meta\"><div class=\"features\"> <span class=\"lemma xft\"><span class=\"f\">lemma=</span>συντίθημι,σύνθετος</span></div></div></div><div class=\"contnr word hl\" ><div class=\"lbl word\"><span class=\"txtp\">ἐπὶ </span> </div><div class=\"meta\"><div class=\"features\"> <span class=\"lemma xft\"><span class=\"f\">lemma=</span>ἐπί</span></div></div></div><div class=\"contnr word \" ><div class=\"lbl word\"><span class=\"txtp\">τοῦ </span> </div><div class=\"meta\"><div class=\"features\"> <span class=\"lemma xft\"><span class=\"f\">lemma=</span>ὅς,ὁ,τίς,τις</span></div></div></div><div class=\"contnr word \" ><div class=\"lbl word\"><span class=\"txtp\">συός. </span> </div><div class=\"meta\"><div class=\"features\"> <span class=\"lemma xft\"><span class=\"f\">lemma=</span>ὗς</span></div></div></div></div></div>"
      ],
      "text/plain": [
       "<IPython.core.display.HTML object>"
      ]
     },
     "metadata": {},
     "output_type": "display_data"
    },
    {
     "data": {
      "text/html": [
       "<p><b>_sentence</b> <i>2</i></p>"
      ],
      "text/plain": [
       "<IPython.core.display.HTML object>"
      ]
     },
     "metadata": {},
     "output_type": "display_data"
    },
    {
     "data": {
      "text/html": [
       "<div class=\"contnr _sentence \" ><div class=\"lbl _sentence\"><a href=\"https://nbviewer.jupyter.org/github/pthu/patristics/blob/master/docs/transcription.md\" title=\"1 4:20\" sec=\"1 4:20\">_sentence <span class=\"txtn\"></span></a> </div><div class=\"meta\"><div class=\"features\"></div></div><div class=\"children _sentence\"><div class=\"contnr word \" ><div class=\"lbl word\"><span class=\"txtp\">λέγει </span> </div><div class=\"meta\"><div class=\"features\"> <span class=\"lemma xft\"><span class=\"f\">lemma=</span>λέγω1,λέγω</span></div></div></div><div class=\"contnr word \" ><div class=\"lbl word\"><span class=\"txtp\">δ’  </span> </div><div class=\"meta\"><div class=\"features\"> <span class=\"lemma xft\"><span class=\"f\">lemma=</span>δέ</span></div></div></div><div class=\"contnr word \" ><div class=\"lbl word\"><span class=\"txtp\">αὐτὸν </span> </div><div class=\"meta\"><div class=\"features\"> <span class=\"lemma xft\"><span class=\"f\">lemma=</span>αὐτός</span></div></div></div><div class=\"contnr word \" ><div class=\"lbl word\"><span class=\"txtp\">καὶ </span> </div><div class=\"meta\"><div class=\"features\"> <span class=\"lemma xft\"><span class=\"f\">lemma=</span>καί</span></div></div></div><div class=\"contnr word \" ><div class=\"lbl word\"><span class=\"txtp\">καθεσταμένον </span> </div><div class=\"meta\"><div class=\"features\"> <span class=\"lemma xft\"><span class=\"f\">lemma=</span>καθίστημι</span></div></div></div><div class=\"contnr word hl\" ><div class=\"lbl word\"><span class=\"txtp\">ἐπὶ </span> </div><div class=\"meta\"><div class=\"features\"> <span class=\"lemma xft\"><span class=\"f\">lemma=</span>ἐπί</span></div></div></div><div class=\"contnr word \" ><div class=\"lbl word\"><span class=\"txtp\">τῶν </span> </div><div class=\"meta\"><div class=\"features\"> <span class=\"lemma xft\"><span class=\"f\">lemma=</span>ὅς,ὁ</span></div></div></div><div class=\"contnr word \" ><div class=\"lbl word\"><span class=\"txtp\">ἱερῶν </span> </div><div class=\"meta\"><div class=\"features\"> <span class=\"lemma xft\"><span class=\"f\">lemma=</span>ἱερόω,ἱεραί,ἱερόν,ἱερός,ἱερή</span></div></div></div><div class=\"contnr word \" ><div class=\"lbl word\"><span class=\"txtp\">εἶναι </span> </div><div class=\"meta\"><div class=\"features\"> <span class=\"lemma xft\"><span class=\"f\">lemma=</span>εἶτα,εἰμί</span></div></div></div><div class=\"contnr word \" ><div class=\"lbl word\"><span class=\"txtp\">καὶ </span> </div><div class=\"meta\"><div class=\"features\"> <span class=\"lemma xft\"><span class=\"f\">lemma=</span>καί</span></div></div></div><div class=\"contnr word \" ><div class=\"lbl word\"><span class=\"txtp\">θυσιῶν </span> </div><div class=\"meta\"><div class=\"features\"> <span class=\"lemma xft\"><span class=\"f\">lemma=</span>θυσιάζω,θύω,θυσία</span></div></div></div><div class=\"contnr word \" ><div class=\"lbl word\"><span class=\"txtp\">ὑπὸ </span> </div><div class=\"meta\"><div class=\"features\"> <span class=\"lemma xft\"><span class=\"f\">lemma=</span>ὑπό</span></div></div></div><div class=\"contnr word \" ><div class=\"lbl word\"><span class=\"txtp\">τοῦ </span> </div><div class=\"meta\"><div class=\"features\"> <span class=\"lemma xft\"><span class=\"f\">lemma=</span>ὅς,ὁ,τίς,τις</span></div></div></div><div class=\"contnr word \" ><div class=\"lbl word\"><span class=\"txtp\">πάντα </span> </div><div class=\"meta\"><div class=\"features\"> <span class=\"lemma xft\"><span class=\"f\">lemma=</span>πᾶς,πάντῃ</span></div></div></div><div class=\"contnr word \" ><div class=\"lbl word\"><span class=\"txtp\">ἀρίστου </span> </div><div class=\"meta\"><div class=\"features\"> <span class=\"lemma xft\"><span class=\"f\">lemma=</span>ἄριστος,ἀριστάω,ἄριστον</span></div></div></div><div class=\"contnr word \" ><div class=\"lbl word\"><span class=\"txtp\">βασιλέως </span> </div><div class=\"meta\"><div class=\"features\"> <span class=\"lemma xft\"><span class=\"f\">lemma=</span>βασιλίς,βασιλεύς</span></div></div></div><div class=\"contnr word \" ><div class=\"lbl word\"><span class=\"txtp\">Μάρκου </span> </div><div class=\"meta\"><div class=\"features\"> <span class=\"lemma xft\"><span class=\"f\">lemma=</span>μάρκος</span></div></div></div><div class=\"contnr word \" ><div class=\"lbl word\"><span class=\"txtp\">καὶ </span> </div><div class=\"meta\"><div class=\"features\"> <span class=\"lemma xft\"><span class=\"f\">lemma=</span>καί</span></div></div></div><div class=\"contnr word \" ><div class=\"lbl word\"><span class=\"txtp\">μὴ </span> </div><div class=\"meta\"><div class=\"features\"> <span class=\"lemma xft\"><span class=\"f\">lemma=</span>μή</span></div></div></div><div class=\"contnr word \" ><div class=\"lbl word\"><span class=\"txtp\">ἔλαττον </span> </div><div class=\"meta\"><div class=\"features\"> <span class=\"lemma xft\"><span class=\"f\">lemma=</span>ἐλάσσων</span></div></div></div><div class=\"contnr word \" ><div class=\"lbl word\"><span class=\"txtp\">τῶν </span> </div><div class=\"meta\"><div class=\"features\"> <span class=\"lemma xft\"><span class=\"f\">lemma=</span>ὅς,ὁ</span></div></div></div><div class=\"contnr word \" ><div class=\"lbl word\"><span class=\"txtp\">πατρίων </span> </div><div class=\"meta\"><div class=\"features\"> <span class=\"lemma xft\"><span class=\"f\">lemma=</span>πάτριος,πατριά</span></div></div></div><div class=\"contnr word \" ><div class=\"lbl word\"><span class=\"txtp\">τὰ </span> </div><div class=\"meta\"><div class=\"features\"> <span class=\"lemma xft\"><span class=\"f\">lemma=</span>ὅς,ὁ,τίς</span></div></div></div><div class=\"contnr word \" ><div class=\"lbl word\"><span class=\"txtp\">τῶν </span> </div><div class=\"meta\"><div class=\"features\"> <span class=\"lemma xft\"><span class=\"f\">lemma=</span>ὅς,ὁ</span></div></div></div><div class=\"contnr word \" ><div class=\"lbl word\"><span class=\"txtp\">Ἑλλήνων </span> </div><div class=\"meta\"><div class=\"features\"> <span class=\"lemma xft\"><span class=\"f\">lemma=</span>ἕλλην</span></div></div></div><div class=\"contnr word \" ><div class=\"lbl word\"><span class=\"txtp\">μεταχειρίζεσθαι. </span> </div><div class=\"meta\"><div class=\"features\"> <span class=\"lemma xft\"><span class=\"f\">lemma=</span>μεταχειρίζομαι,μεταχειρίζω</span></div></div></div></div></div>"
      ],
      "text/plain": [
       "<IPython.core.display.HTML object>"
      ]
     },
     "metadata": {},
     "output_type": "display_data"
    },
    {
     "data": {
      "text/html": [
       "<p><b>_sentence</b> <i>3</i></p>"
      ],
      "text/plain": [
       "<IPython.core.display.HTML object>"
      ]
     },
     "metadata": {},
     "output_type": "display_data"
    },
    {
     "data": {
      "text/html": [
       "<div class=\"contnr _sentence \" ><div class=\"lbl _sentence\"><a href=\"https://nbviewer.jupyter.org/github/pthu/patristics/blob/master/docs/transcription.md\" title=\"1 4:21\" sec=\"1 4:21\">_sentence <span class=\"txtn\"></span></a> </div><div class=\"meta\"><div class=\"features\"></div></div><div class=\"children _sentence\"><div class=\"contnr word \" ><div class=\"lbl word\"><span class=\"txtp\">καλεῖ </span> </div><div class=\"meta\"><div class=\"features\"> <span class=\"lemma xft\"><span class=\"f\">lemma=</span>καλέω</span></div></div></div><div class=\"contnr word \" ><div class=\"lbl word\"><span class=\"txtp\">δὲ </span> </div><div class=\"meta\"><div class=\"features\"> <span class=\"lemma xft\"><span class=\"f\">lemma=</span>δέ</span></div></div></div><div class=\"contnr word \" ><div class=\"lbl word\"><span class=\"txtp\">αὐτὸν </span> </div><div class=\"meta\"><div class=\"features\"> <span class=\"lemma xft\"><span class=\"f\">lemma=</span>αὐτός</span></div></div></div><div class=\"contnr word \" ><div class=\"lbl word\"><span class=\"txtp\">καὶ </span> </div><div class=\"meta\"><div class=\"features\"> <span class=\"lemma xft\"><span class=\"f\">lemma=</span>καί</span></div></div></div><div class=\"contnr word \" ><div class=\"lbl word\"><span class=\"txtp\">Ἀστεροπαῖόν </span> </div><div class=\"meta\"><div class=\"features\"> <span class=\"lemma xft\"><span class=\"f\">lemma=</span>ἀστεροπαῖος</span></div></div></div><div class=\"contnr word \" ><div class=\"lbl word\"><span class=\"txtp\">τινα, </span> </div><div class=\"meta\"><div class=\"features\"> <span class=\"lemma xft\"><span class=\"f\">lemma=</span>τίς,τις</span></div></div></div><div class=\"contnr word hl\" ><div class=\"lbl word\"><span class=\"txtp\">ἐπ’  </span> </div><div class=\"meta\"><div class=\"features\"> <span class=\"lemma xft\"><span class=\"f\">lemma=</span>ἐπί</span></div></div></div><div class=\"contnr word \" ><div class=\"lbl word\"><span class=\"txtp\">ἴσης </span> </div><div class=\"meta\"><div class=\"features\"> <span class=\"lemma xft\"><span class=\"f\">lemma=</span>ἰσάζω,ἴσος</span></div></div></div><div class=\"contnr word \" ><div class=\"lbl word\"><span class=\"txtp\">ἀμφοτέρων </span> </div><div class=\"meta\"><div class=\"features\"> <span class=\"lemma xft\"><span class=\"f\">lemma=</span>ἀμφότερος</span></div></div></div><div class=\"contnr word \" ><div class=\"lbl word\"><span class=\"txtp\">τῶν </span> </div><div class=\"meta\"><div class=\"features\"> <span class=\"lemma xft\"><span class=\"f\">lemma=</span>ὅς,ὁ</span></div></div></div><div class=\"contnr word \" ><div class=\"lbl word\"><span class=\"txtp\">φωνῶν </span> </div><div class=\"meta\"><div class=\"features\"> <span class=\"lemma xft\"><span class=\"f\">lemma=</span>φωνή,φωνέω</span></div></div></div><div class=\"contnr word \" ><div class=\"lbl word\"><span class=\"txtp\">προιστάμενον. </span> </div><div class=\"meta\"><div class=\"features\"> <span class=\"lemma xft\"><span class=\"f\">lemma=</span>προίστημι,προΐστημι</span></div></div></div></div></div>"
      ],
      "text/plain": [
       "<IPython.core.display.HTML object>"
      ]
     },
     "metadata": {},
     "output_type": "display_data"
    },
    {
     "data": {
      "text/html": [
       "<p><b>_sentence</b> <i>4</i></p>"
      ],
      "text/plain": [
       "<IPython.core.display.HTML object>"
      ]
     },
     "metadata": {},
     "output_type": "display_data"
    },
    {
     "data": {
      "text/html": [
       "<div class=\"contnr _sentence \" ><div class=\"lbl _sentence\"><a href=\"https://nbviewer.jupyter.org/github/pthu/patristics/blob/master/docs/transcription.md\" title=\"1 4:24\" sec=\"1 4:24\">_sentence <span class=\"txtn\"></span></a> </div><div class=\"meta\"><div class=\"features\"></div></div><div class=\"children _sentence\"><div class=\"contnr word \" ><div class=\"lbl word\"><span class=\"txtp\">ἦν </span> </div><div class=\"meta\"><div class=\"features\"> <span class=\"lemma xft\"><span class=\"f\">lemma=</span>ἠμί,ἐάν,ἤν,εἰμί</span></div></div></div><div class=\"contnr word \" ><div class=\"lbl word\"><span class=\"txtp\">δέ, </span> </div><div class=\"meta\"><div class=\"features\"> <span class=\"lemma xft\"><span class=\"f\">lemma=</span>δέ</span></div></div></div><div class=\"contnr word \" ><div class=\"lbl word\"><span class=\"txtp\">φησί, </span> </div><div class=\"meta\"><div class=\"features\"> <span class=\"lemma xft\"><span class=\"f\">lemma=</span>φημί</span></div></div></div><div class=\"contnr word \" ><div class=\"lbl word\"><span class=\"txtp\">καὶ </span> </div><div class=\"meta\"><div class=\"features\"> <span class=\"lemma xft\"><span class=\"f\">lemma=</span>καί</span></div></div></div><div class=\"contnr word \" ><div class=\"lbl word\"><span class=\"txtp\">βιβλίων </span> </div><div class=\"meta\"><div class=\"features\"> <span class=\"lemma xft\"><span class=\"f\">lemma=</span>βιβλίον</span></div></div></div><div class=\"contnr word \" ><div class=\"lbl word\"><span class=\"txtp\">κτῆσις </span> </div><div class=\"meta\"><div class=\"features\"> <span class=\"lemma xft\"><span class=\"f\">lemma=</span>κτῆσις</span></div></div></div><div class=\"contnr word \" ><div class=\"lbl word\"><span class=\"txtp\">αὐτῷ </span> </div><div class=\"meta\"><div class=\"features\"> <span class=\"lemma xft\"><span class=\"f\">lemma=</span>αὐτός</span></div></div></div><div class=\"contnr word \" ><div class=\"lbl word\"><span class=\"txtp\">ἀρχαίων </span> </div><div class=\"meta\"><div class=\"features\"> <span class=\"lemma xft\"><span class=\"f\">lemma=</span>ἀρχαῖος</span></div></div></div><div class=\"contnr word \" ><div class=\"lbl word\"><span class=\"txtp\">Ἑλληνικῶν </span> </div><div class=\"meta\"><div class=\"features\"> <span class=\"lemma xft\"><span class=\"f\">lemma=</span>ἑλληνικός</span></div></div></div><div class=\"contnr word \" ><div class=\"lbl word\"><span class=\"txtp\">τοσαύτη </span> </div><div class=\"meta\"><div class=\"features\"> <span class=\"lemma xft\"><span class=\"f\">lemma=</span>τοσοῦτος</span></div></div></div><div class=\"contnr word \" ><div class=\"lbl word\"><span class=\"txtp\">ὡς </span> </div><div class=\"meta\"><div class=\"features\"> <span class=\"lemma xft\"><span class=\"f\">lemma=</span>ὅς,ὡς</span></div></div></div><div class=\"contnr word \" ><div class=\"lbl word\"><span class=\"txtp\">ὑπερβάλλειν </span> </div><div class=\"meta\"><div class=\"features\"> <span class=\"lemma xft\"><span class=\"f\">lemma=</span>ὑπερβάλλω</span></div></div></div><div class=\"contnr word \" ><div class=\"lbl word\"><span class=\"txtp\">πάντας </span> </div><div class=\"meta\"><div class=\"features\"> <span class=\"lemma xft\"><span class=\"f\">lemma=</span>πᾶς</span></div></div></div><div class=\"contnr word \" ><div class=\"lbl word\"><span class=\"txtp\">τοὺς </span> </div><div class=\"meta\"><div class=\"features\"> <span class=\"lemma xft\"><span class=\"f\">lemma=</span>ὅς,ὁ</span></div></div></div><div class=\"contnr word hl\" ><div class=\"lbl word\"><span class=\"txtp\">ἐπὶ </span> </div><div class=\"meta\"><div class=\"features\"> <span class=\"lemma xft\"><span class=\"f\">lemma=</span>ἐπί</span></div></div></div><div class=\"contnr word \" ><div class=\"lbl word\"><span class=\"txtp\">συναγωγῇ </span> </div><div class=\"meta\"><div class=\"features\"> <span class=\"lemma xft\"><span class=\"f\">lemma=</span>συναγωγεύς,συναγωγή</span></div></div></div><div class=\"contnr word \" ><div class=\"lbl word\"><span class=\"txtp\">τεθαυμασμένους, </span> </div><div class=\"meta\"><div class=\"features\"> <span class=\"lemma xft\"><span class=\"f\">lemma=</span>θαυμάζω</span></div></div></div><div class=\"contnr word \" ><div class=\"lbl word\"><span class=\"txtp\">Πολυκράτην </span> </div><div class=\"meta\"><div class=\"features\"> <span class=\"lemma xft\"><span class=\"f\">lemma=</span>πολυκράτης</span></div></div></div><div class=\"contnr word \" ><div class=\"lbl word\"><span class=\"txtp\">τε </span> </div><div class=\"meta\"><div class=\"features\"> <span class=\"lemma xft\"><span class=\"f\">lemma=</span>σύ,τις,τεός,τε</span></div></div></div><div class=\"contnr word \" ><div class=\"lbl word\"><span class=\"txtp\">τὸν </span> </div><div class=\"meta\"><div class=\"features\"> <span class=\"lemma xft\"><span class=\"f\">lemma=</span>ὅς,ὁ</span></div></div></div><div class=\"contnr word \" ><div class=\"lbl word\"><span class=\"txtp\">Σάμιον </span> </div><div class=\"meta\"><div class=\"features\"> <span class=\"lemma xft\"><span class=\"f\">lemma=</span>σάμος,σάμιος</span></div></div></div><div class=\"contnr word \" ><div class=\"lbl word\"><span class=\"txtp\">καὶ </span> </div><div class=\"meta\"><div class=\"features\"> <span class=\"lemma xft\"><span class=\"f\">lemma=</span>καί</span></div></div></div><div class=\"contnr word \" ><div class=\"lbl word\"><span class=\"txtp\">Πεισίστρατον </span> </div><div class=\"meta\"><div class=\"features\"> <span class=\"lemma xft\"><span class=\"f\">lemma=</span>πεισίστρατος</span></div></div></div><div class=\"contnr word \" ><div class=\"lbl word\"><span class=\"txtp\">τὸν </span> </div><div class=\"meta\"><div class=\"features\"> <span class=\"lemma xft\"><span class=\"f\">lemma=</span>ὅς,ὁ</span></div></div></div><div class=\"contnr word \" ><div class=\"lbl word\"><span class=\"txtp\">Ἀθηναίων </span> </div><div class=\"meta\"><div class=\"features\"> <span class=\"lemma xft\"><span class=\"f\">lemma=</span>ἀθήνη,ἀθηναῖος,ἀθήναιον,ἀθήναια,ἀθήναιος</span></div></div></div><div class=\"contnr word \" ><div class=\"lbl word\"><span class=\"txtp\">τυραννήσαντα </span> </div><div class=\"meta\"><div class=\"features\"> <span class=\"lemma xft\"><span class=\"f\">lemma=</span>τυραννεύω</span></div></div></div><div class=\"contnr word \" ><div class=\"lbl word\"><span class=\"txtp\">Εὐκλείδην </span> </div><div class=\"meta\"><div class=\"features\"> <span class=\"lemma xft\"><span class=\"f\">lemma=</span>εὐκλείδης</span></div></div></div><div class=\"contnr word \" ><div class=\"lbl word\"><span class=\"txtp\">τε </span> </div><div class=\"meta\"><div class=\"features\"> <span class=\"lemma xft\"><span class=\"f\">lemma=</span>σύ,τις,τεός,τε</span></div></div></div><div class=\"contnr word \" ><div class=\"lbl word\"><span class=\"txtp\">τὸν </span> </div><div class=\"meta\"><div class=\"features\"> <span class=\"lemma xft\"><span class=\"f\">lemma=</span>ὅς,ὁ</span></div></div></div><div class=\"contnr word \" ><div class=\"lbl word\"><span class=\"txtp\">καὶ </span> </div><div class=\"meta\"><div class=\"features\"> <span class=\"lemma xft\"><span class=\"f\">lemma=</span>καί</span></div></div></div><div class=\"contnr word \" ><div class=\"lbl word\"><span class=\"txtp\">αὐτὸν </span> </div><div class=\"meta\"><div class=\"features\"> <span class=\"lemma xft\"><span class=\"f\">lemma=</span>αὐτός</span></div></div></div><div class=\"contnr word \" ><div class=\"lbl word\"><span class=\"txtp\">Ἀθηναῖον </span> </div><div class=\"meta\"><div class=\"features\"> <span class=\"lemma xft\"><span class=\"f\">lemma=</span>ἀθήναιον,ἀθηναῖος</span></div></div></div><div class=\"contnr word \" ><div class=\"lbl word\"><span class=\"txtp\">καὶ </span> </div><div class=\"meta\"><div class=\"features\"> <span class=\"lemma xft\"><span class=\"f\">lemma=</span>καί</span></div></div></div><div class=\"contnr word \" ><div class=\"lbl word\"><span class=\"txtp\">Νικοκράτην </span> </div><div class=\"meta\"><div class=\"features\"> <span class=\"lemma xft\"><span class=\"f\">lemma=</span>νικοκράτης</span></div></div></div><div class=\"contnr word \" ><div class=\"lbl word\"><span class=\"txtp\">τὸν </span> </div><div class=\"meta\"><div class=\"features\"> <span class=\"lemma xft\"><span class=\"f\">lemma=</span>ὅς,ὁ</span></div></div></div><div class=\"contnr word \" ><div class=\"lbl word\"><span class=\"txtp\">Κύπριον </span> </div><div class=\"meta\"><div class=\"features\"> <span class=\"lemma xft\"><span class=\"f\">lemma=</span>κύπριος</span></div></div></div><div class=\"contnr word \" ><div class=\"lbl word\"><span class=\"txtp\">ἔτι </span> </div><div class=\"meta\"><div class=\"features\"> <span class=\"lemma xft\"><span class=\"f\">lemma=</span>ἔτι</span></div></div></div><div class=\"contnr word \" ><div class=\"lbl word\"><span class=\"txtp\">τε </span> </div><div class=\"meta\"><div class=\"features\"> <span class=\"lemma xft\"><span class=\"f\">lemma=</span>σύ,τις,τεός,τε</span></div></div></div><div class=\"contnr word \" ><div class=\"lbl word\"><span class=\"txtp\">τοὺς </span> </div><div class=\"meta\"><div class=\"features\"> <span class=\"lemma xft\"><span class=\"f\">lemma=</span>ὅς,ὁ</span></div></div></div><div class=\"contnr word \" ><div class=\"lbl word\"><span class=\"txtp\">Περγάμου </span> </div><div class=\"meta\"><div class=\"features\"> <span class=\"lemma xft\"><span class=\"f\">lemma=</span>πέργαμος,πέργαμον</span></div></div></div><div class=\"contnr word \" ><div class=\"lbl word\"><span class=\"txtp\">βασιλέας </span> </div><div class=\"meta\"><div class=\"features\"> <span class=\"lemma xft\"><span class=\"f\">lemma=</span>βασιλεύς</span></div></div></div><div class=\"contnr word \" ><div class=\"lbl word\"><span class=\"txtp\">Εὐριπίδην </span> </div><div class=\"meta\"><div class=\"features\"> <span class=\"lemma xft\"><span class=\"f\">lemma=</span>εὐριπίδης</span></div></div></div><div class=\"contnr word \" ><div class=\"lbl word\"><span class=\"txtp\">τε </span> </div><div class=\"meta\"><div class=\"features\"> <span class=\"lemma xft\"><span class=\"f\">lemma=</span>σύ,τις,τεός,τε</span></div></div></div><div class=\"contnr word \" ><div class=\"lbl word\"><span class=\"txtp\">τὸν </span> </div><div class=\"meta\"><div class=\"features\"> <span class=\"lemma xft\"><span class=\"f\">lemma=</span>ὅς,ὁ</span></div></div></div><div class=\"contnr word \" ><div class=\"lbl word\"><span class=\"txtp\">ποιητὴν </span> </div><div class=\"meta\"><div class=\"features\"> <span class=\"lemma xft\"><span class=\"f\">lemma=</span>ποιητός,ποιητής</span></div></div></div><div class=\"contnr word \" ><div class=\"lbl word\"><span class=\"txtp\">Ἀριστοτέλην </span> </div><div class=\"meta\"><div class=\"features\"> <span class=\"lemma xft\"><span class=\"f\">lemma=</span>ἀριστοτέλης</span></div></div></div><div class=\"contnr word \" ><div class=\"lbl word\"><span class=\"txtp\">τε </span> </div><div class=\"meta\"><div class=\"features\"> <span class=\"lemma xft\"><span class=\"f\">lemma=</span>σύ,τις,τεός,τε</span></div></div></div><div class=\"contnr word \" ><div class=\"lbl word\"><span class=\"txtp\">τὸν </span> </div><div class=\"meta\"><div class=\"features\"> <span class=\"lemma xft\"><span class=\"f\">lemma=</span>ὅς,ὁ</span></div></div></div><div class=\"contnr word \" ><div class=\"lbl word\"><span class=\"txtp\">φιλόσοφον </span> </div><div class=\"meta\"><div class=\"features\"> <span class=\"lemma xft\"><span class=\"f\">lemma=</span>φιλόσοφος</span></div></div></div><div class=\"contnr word \" ><div class=\"lbl word\"><span class=\"txtp\">καὶ </span> </div><div class=\"meta\"><div class=\"features\"> <span class=\"lemma xft\"><span class=\"f\">lemma=</span>καί</span></div></div></div><div class=\"contnr word \" ><div class=\"lbl word\"><span class=\"txtp\">Θεόφραστον </span> </div><div class=\"meta\"><div class=\"features\"> <span class=\"lemma xft\"><span class=\"f\">lemma=</span>θεόφραστος</span></div></div></div><div class=\"contnr word \" ><div class=\"lbl word\"><span class=\"txtp\">καὶ </span> </div><div class=\"meta\"><div class=\"features\"> <span class=\"lemma xft\"><span class=\"f\">lemma=</span>καί</span></div></div></div><div class=\"contnr word \" ><div class=\"lbl word\"><span class=\"txtp\">τὸν </span> </div><div class=\"meta\"><div class=\"features\"> <span class=\"lemma xft\"><span class=\"f\">lemma=</span>ὅς,ὁ</span></div></div></div><div class=\"contnr word \" ><div class=\"lbl word\"><span class=\"txtp\">τὰ </span> </div><div class=\"meta\"><div class=\"features\"> <span class=\"lemma xft\"><span class=\"f\">lemma=</span>ὅς,ὁ,τίς</span></div></div></div><div class=\"contnr word \" ><div class=\"lbl word\"><span class=\"txtp\">τούτων </span> </div><div class=\"meta\"><div class=\"features\"> <span class=\"lemma xft\"><span class=\"f\">lemma=</span>οὗτος</span></div></div></div><div class=\"contnr word \" ><div class=\"lbl word\"><span class=\"txtp\">διατηρήσαντα </span> </div><div class=\"meta\"><div class=\"features\"> <span class=\"lemma xft\"><span class=\"f\">lemma=</span>διατηρέω</span></div></div></div><div class=\"contnr word \" ><div class=\"lbl word\"><span class=\"txtp\">βιβλία </span> </div><div class=\"meta\"><div class=\"features\"> <span class=\"lemma xft\"><span class=\"f\">lemma=</span>βιβλίον</span></div></div></div><div class=\"contnr word \" ><div class=\"lbl word\"><span class=\"txtp\">Νηλέα· </span> </div><div class=\"meta\"><div class=\"features\"> <span class=\"lemma xft\"><span class=\"f\">lemma=</span>νηλεύς,νηλής,νηλεής</span></div></div></div><div class=\"contnr word \" ><div class=\"lbl word\"><span class=\"txtp\">παρ’  </span> </div><div class=\"meta\"><div class=\"features\"> <span class=\"lemma xft\"><span class=\"f\">lemma=</span>παρά,πηρός</span></div></div></div><div class=\"contnr word \" ><div class=\"lbl word\"><span class=\"txtp\">οὗ </span> </div><div class=\"meta\"><div class=\"features\"> <span class=\"lemma xft\"><span class=\"f\">lemma=</span>ἕ,ὅς,οὗ2,ὅς2,ἵημι,οὗ</span></div></div></div><div class=\"contnr word \" ><div class=\"lbl word\"><span class=\"txtp\">πάντα, </span> </div><div class=\"meta\"><div class=\"features\"> <span class=\"lemma xft\"><span class=\"f\">lemma=</span>πᾶς,πάντῃ</span></div></div></div><div class=\"contnr word \" ><div class=\"lbl word\"><span class=\"txtp\">φησί, </span> </div><div class=\"meta\"><div class=\"features\"> <span class=\"lemma xft\"><span class=\"f\">lemma=</span>φημί</span></div></div></div><div class=\"contnr word \" ><div class=\"lbl word\"><span class=\"txtp\">πριάμενος </span> </div><div class=\"meta\"><div class=\"features\"> <span class=\"lemma xft\"><span class=\"f\">lemma=</span>πρίαμαι</span></div></div></div><div class=\"contnr word \" ><div class=\"lbl word\"><span class=\"txtp\">ὁ </span> </div><div class=\"meta\"><div class=\"features\"> <span class=\"lemma xft\"><span class=\"f\">lemma=</span>ὅς,ὁ</span></div></div></div><div class=\"contnr word \" ><div class=\"lbl word\"><span class=\"txtp\">ἡμεδαπὸς </span> </div><div class=\"meta\"><div class=\"features\"> <span class=\"lemma xft\"><span class=\"f\">lemma=</span>ἡμεδαπός</span></div></div></div><div class=\"contnr word \" ><div class=\"lbl word\"><span class=\"txtp\">βασιλεὺς </span> </div><div class=\"meta\"><div class=\"features\"> <span class=\"lemma xft\"><span class=\"f\">lemma=</span>βασιλεύς</span></div></div></div><div class=\"contnr word \" ><div class=\"lbl word\"><span class=\"txtp\">Πτολεμαῖος, </span> </div><div class=\"meta\"><div class=\"features\"> <span class=\"lemma xft\"><span class=\"f\">lemma=</span>πτολεμαῖος</span></div></div></div><div class=\"contnr word \" ><div class=\"lbl word\"><span class=\"txtp\">Φιλάδελφος </span> </div><div class=\"meta\"><div class=\"features\"> <span class=\"lemma xft\"><span class=\"f\">lemma=</span>φιλάδελφος</span></div></div></div><div class=\"contnr word \" ><div class=\"lbl word\"><span class=\"txtp\">δὲ </span> </div><div class=\"meta\"><div class=\"features\"> <span class=\"lemma xft\"><span class=\"f\">lemma=</span>δέ</span></div></div></div><div class=\"contnr word \" ><div class=\"lbl word\"><span class=\"txtp\">ἐπίκλην, </span> </div><div class=\"meta\"><div class=\"features\"> <span class=\"lemma xft\"><span class=\"f\">lemma=</span>ἐπίκλην,ἐπικλάω</span></div></div></div><div class=\"contnr word \" ><div class=\"lbl word\"><span class=\"txtp\">μετὰ </span> </div><div class=\"meta\"><div class=\"features\"> <span class=\"lemma xft\"><span class=\"f\">lemma=</span>μετά</span></div></div></div><div class=\"contnr word \" ><div class=\"lbl word\"><span class=\"txtp\">τῶν </span> </div><div class=\"meta\"><div class=\"features\"> <span class=\"lemma xft\"><span class=\"f\">lemma=</span>ὅς,ὁ</span></div></div></div><div class=\"contnr word \" ><div class=\"lbl word\"><span class=\"txtp\">Ἀθήνηθεν </span> </div><div class=\"meta\"><div class=\"features\"> <span class=\"lemma xft\"><span class=\"f\">lemma=</span>ἀθῆναι,ἀθήνηθεν</span></div></div></div><div class=\"contnr word \" ><div class=\"lbl word\"><span class=\"txtp\">καὶ </span> </div><div class=\"meta\"><div class=\"features\"> <span class=\"lemma xft\"><span class=\"f\">lemma=</span>καί</span></div></div></div><div class=\"contnr word \" ><div class=\"lbl word\"><span class=\"txtp\">τῶν </span> </div><div class=\"meta\"><div class=\"features\"> <span class=\"lemma xft\"><span class=\"f\">lemma=</span>ὅς,ὁ</span></div></div></div><div class=\"contnr word \" ><div class=\"lbl word\"><span class=\"txtp\">ἀπὸ </span> </div><div class=\"meta\"><div class=\"features\"> <span class=\"lemma xft\"><span class=\"f\">lemma=</span>ἀπό</span></div></div></div><div class=\"contnr word \" ><div class=\"lbl word\"><span class=\"txtp\">Ῥόδου </span> </div><div class=\"meta\"><div class=\"features\"> <span class=\"lemma xft\"><span class=\"f\">lemma=</span>ῥόδον,ῥόδος</span></div></div></div><div class=\"contnr word \" ><div class=\"lbl word\"><span class=\"txtp\">εἰς </span> </div><div class=\"meta\"><div class=\"features\"> <span class=\"lemma xft\"><span class=\"f\">lemma=</span>εἶμι,εἰς,εἰμί</span></div></div></div><div class=\"contnr word \" ><div class=\"lbl word\"><span class=\"txtp\">τὴν </span> </div><div class=\"meta\"><div class=\"features\"> <span class=\"lemma xft\"><span class=\"f\">lemma=</span>ὅς,ὁ</span></div></div></div><div class=\"contnr word \" ><div class=\"lbl word\"><span class=\"txtp\">καλὴν </span> </div><div class=\"meta\"><div class=\"features\"> <span class=\"lemma xft\"><span class=\"f\">lemma=</span>καλός,καλή</span></div></div></div><div class=\"contnr word \" ><div class=\"lbl word\"><span class=\"txtp\">Ἀλεξάνδρειαν </span> </div><div class=\"meta\"><div class=\"features\"> <span class=\"lemma xft\"><span class=\"f\">lemma=</span>ἀλεξάνδρεια,ἀλεξανδρεία</span></div></div></div><div class=\"contnr word \" ><div class=\"lbl word\"><span class=\"txtp\">μετήγαγε. </span> </div><div class=\"meta\"><div class=\"features\"> <span class=\"lemma xft\"><span class=\"f\">lemma=</span>μετάγω</span></div></div></div></div></div>"
      ],
      "text/plain": [
       "<IPython.core.display.HTML object>"
      ]
     },
     "metadata": {},
     "output_type": "display_data"
    },
    {
     "data": {
      "text/html": [
       "<p><b>_sentence</b> <i>5</i></p>"
      ],
      "text/plain": [
       "<IPython.core.display.HTML object>"
      ]
     },
     "metadata": {},
     "output_type": "display_data"
    },
    {
     "data": {
      "text/html": [
       "<div class=\"contnr _sentence \" ><div class=\"lbl _sentence\"><a href=\"https://nbviewer.jupyter.org/github/pthu/patristics/blob/master/docs/transcription.md\" title=\"1 4:27\" sec=\"1 4:27\">_sentence <span class=\"txtn\"></span></a> </div><div class=\"meta\"><div class=\"features\"></div></div><div class=\"children _sentence\"><div class=\"contnr word \" ><div class=\"lbl word\"><span class=\"txtp\">καὶ </span> </div><div class=\"meta\"><div class=\"features\"> <span class=\"lemma xft\"><span class=\"f\">lemma=</span>καί</span></div></div></div><div class=\"contnr word hl\" ><div class=\"lbl word\"><span class=\"txtp\">ἐπὶ </span> </div><div class=\"meta\"><div class=\"features\"> <span class=\"lemma xft\"><span class=\"f\">lemma=</span>ἐπί</span></div></div></div><div class=\"contnr word \" ><div class=\"lbl word\"><span class=\"txtp\">τὰς </span> </div><div class=\"meta\"><div class=\"features\"> <span class=\"lemma xft\"><span class=\"f\">lemma=</span>ὅς,ὁ</span></div></div></div><div class=\"contnr word \" ><div class=\"lbl word\"><span class=\"txtp\">ἑστιάσεις </span> </div><div class=\"meta\"><div class=\"features\"> <span class=\"lemma xft\"><span class=\"f\">lemma=</span>ἑστιάω,ἑστίασις</span></div></div></div><div class=\"contnr word \" ><div class=\"lbl word\"><span class=\"txtp\">δὲ </span> </div><div class=\"meta\"><div class=\"features\"> <span class=\"lemma xft\"><span class=\"f\">lemma=</span>δέ</span></div></div></div><div class=\"contnr word \" ><div class=\"lbl word\"><span class=\"txtp\">παρακαλῶν </span> </div><div class=\"meta\"><div class=\"features\"> <span class=\"lemma xft\"><span class=\"f\">lemma=</span>παρακαλέω</span></div></div></div><div class=\"contnr word \" ><div class=\"lbl word\"><span class=\"txtp\">πατρίδα, </span> </div><div class=\"meta\"><div class=\"features\"> <span class=\"lemma xft\"><span class=\"f\">lemma=</span>πατρίς</span></div></div></div><div class=\"contnr word \" ><div class=\"lbl word\"><span class=\"txtp\">φησί, </span> </div><div class=\"meta\"><div class=\"features\"> <span class=\"lemma xft\"><span class=\"f\">lemma=</span>φημί</span></div></div></div><div class=\"contnr word \" ><div class=\"lbl word\"><span class=\"txtp\">τὴν </span> </div><div class=\"meta\"><div class=\"features\"> <span class=\"lemma xft\"><span class=\"f\">lemma=</span>ὅς,ὁ</span></div></div></div><div class=\"contnr word \" ><div class=\"lbl word\"><span class=\"txtp\">Ῥώμην </span> </div><div class=\"meta\"><div class=\"features\"> <span class=\"lemma xft\"><span class=\"f\">lemma=</span>ῥώμη</span></div></div></div><div class=\"contnr word \" ><div class=\"lbl word\"><span class=\"txtp\">πᾶσιν </span> </div><div class=\"meta\"><div class=\"features\"> <span class=\"lemma xft\"><span class=\"f\">lemma=</span>πᾶς,πᾶσις</span></div></div></div><div class=\"contnr word \" ><div class=\"lbl word\"><span class=\"txtp\">ἀποφαίνει. </span> </div><div class=\"meta\"><div class=\"features\"> <span class=\"lemma xft\"><span class=\"f\">lemma=</span>ἀποφαίνω</span></div></div></div></div></div>"
      ],
      "text/plain": [
       "<IPython.core.display.HTML object>"
      ]
     },
     "metadata": {},
     "output_type": "display_data"
    },
    {
     "data": {
      "text/html": [
       "<p><b>_sentence</b> <i>6</i></p>"
      ],
      "text/plain": [
       "<IPython.core.display.HTML object>"
      ]
     },
     "metadata": {},
     "output_type": "display_data"
    },
    {
     "data": {
      "text/html": [
       "<div class=\"contnr _sentence \" ><div class=\"lbl _sentence\"><a href=\"https://nbviewer.jupyter.org/github/pthu/patristics/blob/master/docs/transcription.md\" title=\"1 7:55\" sec=\"1 7:55\">_sentence <span class=\"txtn\"></span></a> </div><div class=\"meta\"><div class=\"features\"></div></div><div class=\"children _sentence\"><div class=\"contnr word \" ><div class=\"lbl word\"><span class=\"txtp\">οὗτοι </span> </div><div class=\"meta\"><div class=\"features\"> <span class=\"lemma xft\"><span class=\"f\">lemma=</span>οὗτος</span></div></div></div><div class=\"contnr word \" ><div class=\"lbl word\"><span class=\"txtp\">δὲ </span> </div><div class=\"meta\"><div class=\"features\"> <span class=\"lemma xft\"><span class=\"f\">lemma=</span>δέ</span></div></div></div><div class=\"contnr word \" ><div class=\"lbl word\"><span class=\"txtp\">πρὸσ </span> </div><div class=\"meta\"><div class=\"features\"> <span class=\"lemma xft\"><span class=\"f\">lemma=</span>πρός</span></div></div></div><div class=\"contnr word \" ><div class=\"lbl word\"><span class=\"txtp\">τὰ </span> </div><div class=\"meta\"><div class=\"features\"> <span class=\"lemma xft\"><span class=\"f\">lemma=</span>ὅς,ὁ,τίς</span></div></div></div><div class=\"contnr word \" ><div class=\"lbl word\"><span class=\"txtp\">δεῖπνα </span> </div><div class=\"meta\"><div class=\"features\"> <span class=\"lemma xft\"><span class=\"f\">lemma=</span>δεῖπνον</span></div></div></div><div class=\"contnr word \" ><div class=\"lbl word\"><span class=\"txtp\">τῶν </span> </div><div class=\"meta\"><div class=\"features\"> <span class=\"lemma xft\"><span class=\"f\">lemma=</span>ὅς,ὁ</span></div></div></div><div class=\"contnr word \" ><div class=\"lbl word\"><span class=\"txtp\">ἐν </span> </div><div class=\"meta\"><div class=\"features\"> <span class=\"lemma xft\"><span class=\"f\">lemma=</span>ἐν,εἰς,εἰμί</span></div></div></div><div class=\"contnr word \" ><div class=\"lbl word\"><span class=\"txtp\">τῇ </span> </div><div class=\"meta\"><div class=\"features\"> <span class=\"lemma xft\"><span class=\"f\">lemma=</span>ὅς,ὁ,τῇ</span></div></div></div><div class=\"contnr word \" ><div class=\"lbl word\"><span class=\"txtp\">πόλει </span> </div><div class=\"meta\"><div class=\"features\"> <span class=\"lemma xft\"><span class=\"f\">lemma=</span>πόλις,πολέω</span></div></div></div><div class=\"contnr word \" ><div class=\"lbl word\"><span class=\"txtp\">ἀφορῶσιν </span> </div><div class=\"meta\"><div class=\"features\"> <span class=\"lemma xft\"><span class=\"f\">lemma=</span>ἀφοράω</span></div></div></div><div class=\"contnr word \" ><div class=\"lbl word\"><span class=\"txtp\">ἀεὶ </span> </div><div class=\"meta\"><div class=\"features\"> <span class=\"lemma xft\"><span class=\"f\">lemma=</span>ἀεί</span></div></div></div><div class=\"contnr word \" ><div class=\"lbl word\"><span class=\"txtp\">καὶ </span> </div><div class=\"meta\"><div class=\"features\"> <span class=\"lemma xft\"><span class=\"f\">lemma=</span>καί</span></div></div></div><div class=\"contnr word \" ><div class=\"lbl word\"><span class=\"txtp\">πέτονται </span> </div><div class=\"meta\"><div class=\"features\"> <span class=\"lemma xft\"><span class=\"f\">lemma=</span>πέτομαι</span></div></div></div><div class=\"contnr word \" ><div class=\"lbl word\"><span class=\"txtp\">δεξιῶς </span> </div><div class=\"meta\"><div class=\"features\"> <span class=\"lemma xft\"><span class=\"f\">lemma=</span>δεξιός</span></div></div></div><div class=\"contnr word hl\" ><div class=\"lbl word\"><span class=\"txtp\">ἐπὶ </span> </div><div class=\"meta\"><div class=\"features\"> <span class=\"lemma xft\"><span class=\"f\">lemma=</span>ἐπί</span></div></div></div><div class=\"contnr word \" ><div class=\"lbl word\"><span class=\"txtp\">ταῦτ᾽ </span> </div><div class=\"meta\"><div class=\"features\"> <span class=\"lemma xft\"><span class=\"f\">lemma=</span>ταὐτάζω,ταὐτός,οὗτος,αὐτός</span></div></div></div><div class=\"contnr word \" ><div class=\"lbl word\"><span class=\"txtp\">ἄκλητοι, </span> </div><div class=\"meta\"><div class=\"features\"> <span class=\"lemma xft\"><span class=\"f\">lemma=</span>ἄκλητος</span></div></div></div><div class=\"contnr word \" ><div class=\"lbl word\"><span class=\"txtp\">Ἀντιφάνης </span> </div><div class=\"meta\"><div class=\"features\"> <span class=\"lemma xft\"><span class=\"f\">lemma=</span>ἀντίφαίνω,ἀντιφάνης</span></div></div></div><div class=\"contnr word \" ><div class=\"lbl word\"><span class=\"txtp\">φησί( ),ʼ  </span> </div><div class=\"meta\"><div class=\"features\"> <span class=\"lemma xft\"><span class=\"f\">lemma=</span>φημί</span></div></div></div><div class=\"contnr word \" ><div class=\"lbl word\"><span class=\"txtp\">καὶ </span> </div><div class=\"meta\"><div class=\"features\"> <span class=\"lemma xft\"><span class=\"f\">lemma=</span>καί</span></div></div></div><div class=\"contnr word \" ><div class=\"lbl word\"><span class=\"txtp\">ἐπάγει· </span> </div><div class=\"meta\"><div class=\"features\"> <span class=\"lemma xft\"><span class=\"f\">lemma=</span>ἐφηγέομαι,ἐπάγνυμι,ἐπάγω</span></div></div></div><div class=\"contnr word \" ><div class=\"lbl word\"><span class=\"txtp\">οὓς </span> </div><div class=\"meta\"><div class=\"features\"> <span class=\"lemma xft\"><span class=\"f\">lemma=</span>ὅς,ὅς2</span></div></div></div><div class=\"contnr word \" ><div class=\"lbl word\"><span class=\"txtp\">ἔδει </span> </div><div class=\"meta\"><div class=\"features\"> <span class=\"lemma xft\"><span class=\"f\">lemma=</span>ἐσθίω,δέω2,δεῖ,δέω1,ἔδω,δέω</span></div></div></div><div class=\"contnr word \" ><div class=\"lbl word\"><span class=\"txtp\">τὸν </span> </div><div class=\"meta\"><div class=\"features\"> <span class=\"lemma xft\"><span class=\"f\">lemma=</span>ὅς,ὁ</span></div></div></div><div class=\"contnr word \" ><div class=\"lbl word\"><span class=\"txtp\">δῆμον </span> </div><div class=\"meta\"><div class=\"features\"> <span class=\"lemma xft\"><span class=\"f\">lemma=</span>δημός,δῆμος</span></div></div></div><div class=\"contnr word \" ><div class=\"lbl word\"><span class=\"txtp\">ἐκ </span> </div><div class=\"meta\"><div class=\"features\"> <span class=\"lemma xft\"><span class=\"f\">lemma=</span>ἐκ</span></div></div></div><div class=\"contnr word \" ><div class=\"lbl word\"><span class=\"txtp\">κοινοῦ </span> </div><div class=\"meta\"><div class=\"features\"> <span class=\"lemma xft\"><span class=\"f\">lemma=</span>κοινός,κοινόω</span></div></div></div><div class=\"contnr word \" ><div class=\"lbl word\"><span class=\"txtp\">τρέφειν, </span> </div><div class=\"meta\"><div class=\"features\"> <span class=\"lemma xft\"><span class=\"f\">lemma=</span>τρέφω</span></div></div></div><div class=\"contnr word \" ><div class=\"lbl word\"><span class=\"txtp\">ἀεί </span> </div><div class=\"meta\"><div class=\"features\"> <span class=\"lemma xft\"><span class=\"f\">lemma=</span>ἀεί</span></div></div></div><div class=\"contnr word \" ><div class=\"lbl word\"><span class=\"txtp\">θ’  </span> </div><div class=\"meta\"><div class=\"features\"> <span class=\"lemma xft\"><span class=\"f\">lemma=</span>τίθημι</span></div></div></div><div class=\"contnr word \" ><div class=\"lbl word\"><span class=\"txtp\">ὅπερ </span> </div><div class=\"meta\"><div class=\"features\"> <span class=\"lemma xft\"><span class=\"f\">lemma=</span>ὅσπερ,ὅς</span></div></div></div><div class=\"contnr word \" ><div class=\"lbl word\"><span class=\"txtp\">Ὀλυμπίασί </span> </div><div class=\"meta\"><div class=\"features\"> <span class=\"lemma xft\"><span class=\"f\">lemma=</span>ὀλυμπία</span></div></div></div><div class=\"contnr word \" ><div class=\"lbl word\"><span class=\"txtp\">φασι </span> </div><div class=\"meta\"><div class=\"features\"> <span class=\"lemma xft\"><span class=\"f\">lemma=</span>φημί,φάσις,φᾶσις</span></div></div></div><div class=\"contnr word \" ><div class=\"lbl word\"><span class=\"txtp\">ταῖς </span> </div><div class=\"meta\"><div class=\"features\"> <span class=\"lemma xft\"><span class=\"f\">lemma=</span>ὅς,ὁ</span></div></div></div><div class=\"contnr word \" ><div class=\"lbl word\"><span class=\"txtp\">μυίαις </span> </div><div class=\"meta\"><div class=\"features\"> <span class=\"lemma xft\"><span class=\"f\">lemma=</span>μυῖα</span></div></div></div><div class=\"contnr word \" ><div class=\"lbl word\"><span class=\"txtp\">ποιεῖν, </span> </div><div class=\"meta\"><div class=\"features\"> <span class=\"lemma xft\"><span class=\"f\">lemma=</span>ποιέω</span></div></div></div><div class=\"contnr word \" ><div class=\"lbl word\"><span class=\"txtp\">βοῦν </span> </div><div class=\"meta\"><div class=\"features\"> <span class=\"lemma xft\"><span class=\"f\">lemma=</span>βοῦς</span></div></div></div><div class=\"contnr word \" ><div class=\"lbl word\"><span class=\"txtp\">τοῖς </span> </div><div class=\"meta\"><div class=\"features\"> <span class=\"lemma xft\"><span class=\"f\">lemma=</span>ὅς,ὁ</span></div></div></div><div class=\"contnr word \" ><div class=\"lbl word\"><span class=\"txtp\">ἀκλήτοις </span> </div><div class=\"meta\"><div class=\"features\"> <span class=\"lemma xft\"><span class=\"f\">lemma=</span>ἄκλητος</span></div></div></div><div class=\"contnr word \" ><div class=\"lbl word\"><span class=\"txtp\">προκατακόπτειν </span> </div><div class=\"meta\"><div class=\"features\"> <span class=\"lemma xft\"><span class=\"f\">lemma=</span>πρόκατακόπτω</span></div></div></div><div class=\"contnr word \" ><div class=\"lbl word\"><span class=\"txtp\">πανταχοῦ.—  </span> </div><div class=\"meta\"><div class=\"features\"> <span class=\"lemma xft\"><span class=\"f\">lemma=</span>πανταχοῦ</span></div></div></div></div></div>"
      ],
      "text/plain": [
       "<IPython.core.display.HTML object>"
      ]
     },
     "metadata": {},
     "output_type": "display_data"
    },
    {
     "data": {
      "text/html": [
       "<p><b>_sentence</b> <i>7</i></p>"
      ],
      "text/plain": [
       "<IPython.core.display.HTML object>"
      ]
     },
     "metadata": {},
     "output_type": "display_data"
    },
    {
     "data": {
      "text/html": [
       "<div class=\"contnr _sentence \" ><div class=\"lbl _sentence\"><a href=\"https://nbviewer.jupyter.org/github/pthu/patristics/blob/master/docs/transcription.md\" title=\"1 8:68\" sec=\"1 8:68\">_sentence <span class=\"txtn\"></span></a> </div><div class=\"meta\"><div class=\"features\"></div></div><div class=\"children _sentence\"><div class=\"contnr word \" ><div class=\"lbl word\"><span class=\"txtp\">‘ἄρξομαι </span> </div><div class=\"meta\"><div class=\"features\"> <span class=\"lemma xft\"><span class=\"f\">lemma=</span>ἄρχω</span></div></div></div><div class=\"contnr word \" ><div class=\"lbl word\"><span class=\"txtp\">ἐκ </span> </div><div class=\"meta\"><div class=\"features\"> <span class=\"lemma xft\"><span class=\"f\">lemma=</span>ἐκ</span></div></div></div><div class=\"contnr word \" ><div class=\"lbl word\"><span class=\"txtp\">βολβοῖο, </span> </div><div class=\"meta\"><div class=\"features\"> <span class=\"lemma xft\"><span class=\"f\">lemma=</span>βολβός</span></div></div></div><div class=\"contnr word \" ><div class=\"lbl word\"><span class=\"txtp\">τελευτήσω </span> </div><div class=\"meta\"><div class=\"features\"> <span class=\"lemma xft\"><span class=\"f\">lemma=</span>τελευτάω</span></div></div></div><div class=\"contnr word \" ><div class=\"lbl word\"><span class=\"txtp\">δ’  </span> </div><div class=\"meta\"><div class=\"features\"> <span class=\"lemma xft\"><span class=\"f\">lemma=</span>δέ</span></div></div></div><div class=\"contnr word hl\" ><div class=\"lbl word\"><span class=\"txtp\">ἐπὶ </span> </div><div class=\"meta\"><div class=\"features\"> <span class=\"lemma xft\"><span class=\"f\">lemma=</span>ἐπί</span></div></div></div><div class=\"contnr word \" ><div class=\"lbl word\"><span class=\"txtp\">θύννον.’ </span> </div><div class=\"meta\"><div class=\"features\"> <span class=\"lemma xft\"><span class=\"f\">lemma=</span>θύννος</span></div></div></div></div></div>"
      ],
      "text/plain": [
       "<IPython.core.display.HTML object>"
      ]
     },
     "metadata": {},
     "output_type": "display_data"
    },
    {
     "data": {
      "text/html": [
       "<p><b>_sentence</b> <i>8</i></p>"
      ],
      "text/plain": [
       "<IPython.core.display.HTML object>"
      ]
     },
     "metadata": {},
     "output_type": "display_data"
    },
    {
     "data": {
      "text/html": [
       "<div class=\"contnr _sentence \" ><div class=\"lbl _sentence\"><a href=\"https://nbviewer.jupyter.org/github/pthu/patristics/blob/master/docs/transcription.md\" title=\"1 8:70\" sec=\"1 8:70\">_sentence <span class=\"txtn\"></span></a> </div><div class=\"meta\"><div class=\"features\"></div></div><div class=\"children _sentence\"><div class=\"contnr word hl\" ><div class=\"lbl word\"><span class=\"txtp\">ἐπὶ </span> </div><div class=\"meta\"><div class=\"features\"> <span class=\"lemma xft\"><span class=\"f\">lemma=</span>ἐπί</span></div></div></div><div class=\"contnr word \" ><div class=\"lbl word\"><span class=\"txtp\">θύννον; </span> </div><div class=\"meta\"><div class=\"features\"> <span class=\"lemma xft\"><span class=\"f\">lemma=</span>θύννος</span></div></div></div></div></div>"
      ],
      "text/plain": [
       "<IPython.core.display.HTML object>"
      ]
     },
     "metadata": {},
     "output_type": "display_data"
    },
    {
     "data": {
      "text/html": [
       "<p><b>_sentence</b> <i>9</i></p>"
      ],
      "text/plain": [
       "<IPython.core.display.HTML object>"
      ]
     },
     "metadata": {},
     "output_type": "display_data"
    },
    {
     "data": {
      "text/html": [
       "<div class=\"contnr _sentence \" ><div class=\"lbl _sentence\"><a href=\"https://nbviewer.jupyter.org/github/pthu/patristics/blob/master/docs/transcription.md\" title=\"1 9:82\" sec=\"1 9:82\">_sentence <span class=\"txtn\"></span></a> </div><div class=\"meta\"><div class=\"features\"></div></div><div class=\"children _sentence\"><div class=\"contnr word \" ><div class=\"lbl word\"><span class=\"txtp\">περὶ </span> </div><div class=\"meta\"><div class=\"features\"> <span class=\"lemma xft\"><span class=\"f\">lemma=</span>περί</span></div></div></div><div class=\"contnr word \" ><div class=\"lbl word\"><span class=\"txtp\">τούτου </span> </div><div class=\"meta\"><div class=\"features\"> <span class=\"lemma xft\"><span class=\"f\">lemma=</span>οὗτος</span></div></div></div><div class=\"contnr word \" ><div class=\"lbl word\"><span class=\"txtp\">Χρύσιππός </span> </div><div class=\"meta\"><div class=\"features\"> <span class=\"lemma xft\"><span class=\"f\">lemma=</span>χρύσιππος</span></div></div></div><div class=\"contnr word \" ><div class=\"lbl word\"><span class=\"txtp\">φησιν· </span> </div><div class=\"meta\"><div class=\"features\"> <span class=\"lemma xft\"><span class=\"f\">lemma=</span>φημί</span></div></div></div><div class=\"contnr word \" ><div class=\"lbl word\"><span class=\"txtp\">‘ἐγὼ </span> </div><div class=\"meta\"><div class=\"features\"> <span class=\"lemma xft\"><span class=\"f\">lemma=</span>ἐγώ</span></div></div></div><div class=\"contnr word \" ><div class=\"lbl word\"><span class=\"txtp\">κατέχω </span> </div><div class=\"meta\"><div class=\"features\"> <span class=\"lemma xft\"><span class=\"f\">lemma=</span>κατέχω,καταχώννυμι</span></div></div></div><div class=\"contnr word \" ><div class=\"lbl word\"><span class=\"txtp\">τινὰ </span> </div><div class=\"meta\"><div class=\"features\"> <span class=\"lemma xft\"><span class=\"f\">lemma=</span>τις</span></div></div></div><div class=\"contnr word \" ><div class=\"lbl word\"><span class=\"txtp\">ὀψοφάγον </span> </div><div class=\"meta\"><div class=\"features\"> <span class=\"lemma xft\"><span class=\"f\">lemma=</span>ὀψοφάγος</span></div></div></div><div class=\"contnr word hl\" ><div class=\"lbl word\"><span class=\"txtp\">ἐπὶ </span> </div><div class=\"meta\"><div class=\"features\"> <span class=\"lemma xft\"><span class=\"f\">lemma=</span>ἐπί</span></div></div></div><div class=\"contnr word \" ><div class=\"lbl word\"><span class=\"txtp\">τοσοῦτον </span> </div><div class=\"meta\"><div class=\"features\"> <span class=\"lemma xft\"><span class=\"f\">lemma=</span>τοσοῦτος</span></div></div></div><div class=\"contnr word \" ><div class=\"lbl word\"><span class=\"txtp\">ἐκπεπτωκότα </span> </div><div class=\"meta\"><div class=\"features\"> <span class=\"lemma xft\"><span class=\"f\">lemma=</span>ἐκπίπτω,ἐκπίτνω</span></div></div></div><div class=\"contnr word \" ><div class=\"lbl word\"><span class=\"txtp\">τοῦ </span> </div><div class=\"meta\"><div class=\"features\"> <span class=\"lemma xft\"><span class=\"f\">lemma=</span>ὅς,ὁ,τίς,τις</span></div></div></div><div class=\"contnr word \" ><div class=\"lbl word\"><span class=\"txtp\">μὴ </span> </div><div class=\"meta\"><div class=\"features\"> <span class=\"lemma xft\"><span class=\"f\">lemma=</span>μή</span></div></div></div><div class=\"contnr word \" ><div class=\"lbl word\"><span class=\"txtp\">ἐντρέπεσθαι </span> </div><div class=\"meta\"><div class=\"features\"> <span class=\"lemma xft\"><span class=\"f\">lemma=</span>ἐντρέπω</span></div></div></div><div class=\"contnr word \" ><div class=\"lbl word\"><span class=\"txtp\">τοὺς </span> </div><div class=\"meta\"><div class=\"features\"> <span class=\"lemma xft\"><span class=\"f\">lemma=</span>ὅς,ὁ</span></div></div></div><div class=\"contnr word \" ><div class=\"lbl word\"><span class=\"txtp\">πλησίον </span> </div><div class=\"meta\"><div class=\"features\"> <span class=\"lemma xft\"><span class=\"f\">lemma=</span>πλησίος,πίμπλημι</span></div></div></div><div class=\"contnr word hl\" ><div class=\"lbl word\"><span class=\"txtp\">ἐπὶ </span> </div><div class=\"meta\"><div class=\"features\"> <span class=\"lemma xft\"><span class=\"f\">lemma=</span>ἐπί</span></div></div></div><div class=\"contnr word \" ><div class=\"lbl word\"><span class=\"txtp\">τοῖς </span> </div><div class=\"meta\"><div class=\"features\"> <span class=\"lemma xft\"><span class=\"f\">lemma=</span>ὅς,ὁ</span></div></div></div><div class=\"contnr word \" ><div class=\"lbl word\"><span class=\"txtp\">γινομένοις </span> </div><div class=\"meta\"><div class=\"features\"> <span class=\"lemma xft\"><span class=\"f\">lemma=</span>γίγνομαι</span></div></div></div><div class=\"contnr word \" ><div class=\"lbl word\"><span class=\"txtp\">ὥστε </span> </div><div class=\"meta\"><div class=\"features\"> <span class=\"lemma xft\"><span class=\"f\">lemma=</span>ὥστε,ὡς</span></div></div></div><div class=\"contnr word \" ><div class=\"lbl word\"><span class=\"txtp\">φανερῶς </span> </div><div class=\"meta\"><div class=\"features\"> <span class=\"lemma xft\"><span class=\"f\">lemma=</span>φανερός,φανερόω</span></div></div></div><div class=\"contnr word \" ><div class=\"lbl word\"><span class=\"txtp\">ἐν </span> </div><div class=\"meta\"><div class=\"features\"> <span class=\"lemma xft\"><span class=\"f\">lemma=</span>ἐν,εἰς,εἰμί</span></div></div></div><div class=\"contnr word \" ><div class=\"lbl word\"><span class=\"txtp\">τοῖς </span> </div><div class=\"meta\"><div class=\"features\"> <span class=\"lemma xft\"><span class=\"f\">lemma=</span>ὅς,ὁ</span></div></div></div><div class=\"contnr word \" ><div class=\"lbl word\"><span class=\"txtp\">βαλανείοις </span> </div><div class=\"meta\"><div class=\"features\"> <span class=\"lemma xft\"><span class=\"f\">lemma=</span>βαλανεῖον</span></div></div></div><div class=\"contnr word \" ><div class=\"lbl word\"><span class=\"txtp\">τήν </span> </div><div class=\"meta\"><div class=\"features\"> <span class=\"lemma xft\"><span class=\"f\">lemma=</span>ὅς,ὁ</span></div></div></div><div class=\"contnr word \" ><div class=\"lbl word\"><span class=\"txtp\">τε </span> </div><div class=\"meta\"><div class=\"features\"> <span class=\"lemma xft\"><span class=\"f\">lemma=</span>σύ,τις,τεός,τε</span></div></div></div><div class=\"contnr word \" ><div class=\"lbl word\"><span class=\"txtp\">χεῖρα </span> </div><div class=\"meta\"><div class=\"features\"> <span class=\"lemma xft\"><span class=\"f\">lemma=</span>χείρ</span></div></div></div><div class=\"contnr word \" ><div class=\"lbl word\"><span class=\"txtp\">συνεθίζειν </span> </div><div class=\"meta\"><div class=\"features\"> <span class=\"lemma xft\"><span class=\"f\">lemma=</span>συνεθίζω</span></div></div></div><div class=\"contnr word \" ><div class=\"lbl word\"><span class=\"txtp\">πρὸς </span> </div><div class=\"meta\"><div class=\"features\"> <span class=\"lemma xft\"><span class=\"f\">lemma=</span>πρός</span></div></div></div><div class=\"contnr word \" ><div class=\"lbl word\"><span class=\"txtp\">τὰ </span> </div><div class=\"meta\"><div class=\"features\"> <span class=\"lemma xft\"><span class=\"f\">lemma=</span>ὅς,ὁ,τίς</span></div></div></div><div class=\"contnr word \" ><div class=\"lbl word\"><span class=\"txtp\">θερμὰ </span> </div><div class=\"meta\"><div class=\"features\"> <span class=\"lemma xft\"><span class=\"f\">lemma=</span>θερμός</span></div></div></div><div class=\"contnr word \" ><div class=\"lbl word\"><span class=\"txtp\">καθιέντα </span> </div><div class=\"meta\"><div class=\"features\"> <span class=\"lemma xft\"><span class=\"f\">lemma=</span>καθίημι</span></div></div></div><div class=\"contnr word \" ><div class=\"lbl word\"><span class=\"txtp\">εἰς </span> </div><div class=\"meta\"><div class=\"features\"> <span class=\"lemma xft\"><span class=\"f\">lemma=</span>εἶμι,εἰς,εἰμί</span></div></div></div><div class=\"contnr word \" ><div class=\"lbl word\"><span class=\"txtp\">ὕδωρ </span> </div><div class=\"meta\"><div class=\"features\"> <span class=\"lemma xft\"><span class=\"f\">lemma=</span>ὕδωρ</span></div></div></div><div class=\"contnr word \" ><div class=\"lbl word\"><span class=\"txtp\">θερμὸν </span> </div><div class=\"meta\"><div class=\"features\"> <span class=\"lemma xft\"><span class=\"f\">lemma=</span>θερμός</span></div></div></div><div class=\"contnr word \" ><div class=\"lbl word\"><span class=\"txtp\">καὶ </span> </div><div class=\"meta\"><div class=\"features\"> <span class=\"lemma xft\"><span class=\"f\">lemma=</span>καί</span></div></div></div><div class=\"contnr word \" ><div class=\"lbl word\"><span class=\"txtp\">τὸ </span> </div><div class=\"meta\"><div class=\"features\"> <span class=\"lemma xft\"><span class=\"f\">lemma=</span>ὅς,ὁ</span></div></div></div><div class=\"contnr word \" ><div class=\"lbl word\"><span class=\"txtp\">στόμα </span> </div><div class=\"meta\"><div class=\"features\"> <span class=\"lemma xft\"><span class=\"f\">lemma=</span>στόμα</span></div></div></div><div class=\"contnr word \" ><div class=\"lbl word\"><span class=\"txtp\">ἀναγαργαριζόμενον </span> </div><div class=\"meta\"><div class=\"features\"> <span class=\"lemma xft\"><span class=\"f\">lemma=</span>ἀναγαργαρίζω</span></div></div></div><div class=\"contnr word \" ><div class=\"lbl word\"><span class=\"txtp\">θερμῷ, </span> </div><div class=\"meta\"><div class=\"features\"> <span class=\"lemma xft\"><span class=\"f\">lemma=</span>θέρμος,θερμός</span></div></div></div><div class=\"contnr word \" ><div class=\"lbl word\"><span class=\"txtp\">ὅπως </span> </div><div class=\"meta\"><div class=\"features\"> <span class=\"lemma xft\"><span class=\"f\">lemma=</span>ὅπως</span></div></div></div><div class=\"contnr word \" ><div class=\"lbl word\"><span class=\"txtp\">δηλονότι </span> </div><div class=\"meta\"><div class=\"features\"> <span class=\"lemma xft\"><span class=\"f\">lemma=</span>δηλονότι</span></div></div></div><div class=\"contnr word \" ><div class=\"lbl word\"><span class=\"txtp\">ἐν </span> </div><div class=\"meta\"><div class=\"features\"> <span class=\"lemma xft\"><span class=\"f\">lemma=</span>ἐν,εἰς,εἰμί</span></div></div></div><div class=\"contnr word \" ><div class=\"lbl word\"><span class=\"txtp\">τοῖς </span> </div><div class=\"meta\"><div class=\"features\"> <span class=\"lemma xft\"><span class=\"f\">lemma=</span>ὅς,ὁ</span></div></div></div><div class=\"contnr word \" ><div class=\"lbl word\"><span class=\"txtp\">θερμοῖς </span> </div><div class=\"meta\"><div class=\"features\"> <span class=\"lemma xft\"><span class=\"f\">lemma=</span>θέρμω,θέρμος,θερμός</span></div></div></div><div class=\"contnr word \" ><div class=\"lbl word\"><span class=\"txtp\">δυσκίνητος </span> </div><div class=\"meta\"><div class=\"features\"> <span class=\"lemma xft\"><span class=\"f\">lemma=</span>δυσκίνητος</span></div></div></div><div class=\"contnr word \" ><div class=\"lbl word\"><span class=\"txtp\">ᾖ. </span> </div><div class=\"meta\"><div class=\"features\"> <span class=\"lemma xft\"><span class=\"f\">lemma=</span>εἰμί</span></div></div></div></div></div>"
      ],
      "text/plain": [
       "<IPython.core.display.HTML object>"
      ]
     },
     "metadata": {},
     "output_type": "display_data"
    },
    {
     "data": {
      "text/html": [
       "<p><b>_sentence</b> <i>10</i></p>"
      ],
      "text/plain": [
       "<IPython.core.display.HTML object>"
      ]
     },
     "metadata": {},
     "output_type": "display_data"
    },
    {
     "data": {
      "text/html": [
       "<div class=\"contnr _sentence \" ><div class=\"lbl _sentence\"><a href=\"https://nbviewer.jupyter.org/github/pthu/patristics/blob/master/docs/transcription.md\" title=\"1 12:107\" sec=\"1 12:107\">_sentence <span class=\"txtn\"></span></a> </div><div class=\"meta\"><div class=\"features\"></div></div><div class=\"children _sentence\"><div class=\"contnr word \" ><div class=\"lbl word\"><span class=\"txtp\">ὃ </span> </div><div class=\"meta\"><div class=\"features\"> <span class=\"lemma xft\"><span class=\"f\">lemma=</span>ὅς,ὁ</span></div></div></div><div class=\"contnr word \" ><div class=\"lbl word\"><span class=\"txtp\">δ’  </span> </div><div class=\"meta\"><div class=\"features\"> <span class=\"lemma xft\"><span class=\"f\">lemma=</span>δέ</span></div></div></div><div class=\"contnr word \" ><div class=\"lbl word\"><span class=\"txtp\">ἰδὼν </span> </div><div class=\"meta\"><div class=\"features\"> <span class=\"lemma xft\"><span class=\"f\">lemma=</span>ὁράω</span></div></div></div><div class=\"contnr word \" ><div class=\"lbl word\"><span class=\"txtp\">ἐπύθετο </span> </div><div class=\"meta\"><div class=\"features\"> <span class=\"lemma xft\"><span class=\"f\">lemma=</span>πυνθάνομαι,πύθω</span></div></div></div><div class=\"contnr word \" ><div class=\"lbl word\"><span class=\"txtp\">εἰ </span> </div><div class=\"meta\"><div class=\"features\"> <span class=\"lemma xft\"><span class=\"f\">lemma=</span>εἶμι,εἰ,εἰμί</span></div></div></div><div class=\"contnr word \" ><div class=\"lbl word\"><span class=\"txtp\">μείζους </span> </div><div class=\"meta\"><div class=\"features\"> <span class=\"lemma xft\"><span class=\"f\">lemma=</span>μέγας</span></div></div></div><div class=\"contnr word \" ><div class=\"lbl word\"><span class=\"txtp\">ἔχουσιν· </span> </div><div class=\"meta\"><div class=\"features\"> <span class=\"lemma xft\"><span class=\"f\">lemma=</span>ἔχω</span></div></div></div><div class=\"contnr word \" ><div class=\"lbl word\"><span class=\"txtp\">εἰπόντων </span> </div><div class=\"meta\"><div class=\"features\"> <span class=\"lemma xft\"><span class=\"f\">lemma=</span>εἶπον,λέγω</span></div></div></div><div class=\"contnr word \" ><div class=\"lbl word\"><span class=\"txtp\">δὲ </span> </div><div class=\"meta\"><div class=\"features\"> <span class=\"lemma xft\"><span class=\"f\">lemma=</span>δέ</span></div></div></div><div class=\"contnr word \" ><div class=\"lbl word\"><span class=\"txtp\">μὴ </span> </div><div class=\"meta\"><div class=\"features\"> <span class=\"lemma xft\"><span class=\"f\">lemma=</span>μή</span></div></div></div><div class=\"contnr word \" ><div class=\"lbl word\"><span class=\"txtp\">γίνεσθαι </span> </div><div class=\"meta\"><div class=\"features\"> <span class=\"lemma xft\"><span class=\"f\">lemma=</span>γίγνομαι</span></div></div></div><div class=\"contnr word \" ><div class=\"lbl word\"><span class=\"txtp\">ὧν </span> </div><div class=\"meta\"><div class=\"features\"> <span class=\"lemma xft\"><span class=\"f\">lemma=</span>ὅς,ὅς2</span></div></div></div><div class=\"contnr word \" ><div class=\"lbl word\"><span class=\"txtp\">ἤνεγκαν, </span> </div><div class=\"meta\"><div class=\"features\"> <span class=\"lemma xft\"><span class=\"f\">lemma=</span>φέρω</span></div></div></div><div class=\"contnr word \" ><div class=\"lbl word\"><span class=\"txtp\">ὑπομνησθεὶς </span> </div><div class=\"meta\"><div class=\"features\"> <span class=\"lemma xft\"><span class=\"f\">lemma=</span>ὑπομιμνήσκω</span></div></div></div><div class=\"contnr word \" ><div class=\"lbl word\"><span class=\"txtp\">τῶν </span> </div><div class=\"meta\"><div class=\"features\"> <span class=\"lemma xft\"><span class=\"f\">lemma=</span>ὅς,ὁ</span></div></div></div><div class=\"contnr word \" ><div class=\"lbl word\"><span class=\"txtp\">ἐν </span> </div><div class=\"meta\"><div class=\"features\"> <span class=\"lemma xft\"><span class=\"f\">lemma=</span>ἐν,εἰς,εἰμί</span></div></div></div><div class=\"contnr word \" ><div class=\"lbl word\"><span class=\"txtp\">Μιντούρναις </span> </div><div class=\"meta\"><div class=\"features\"> <span class=\"lemma xft\"><span class=\"f\">lemma=</span>*μιντουρναις</span></div></div></div><div class=\"contnr word \" ><div class=\"lbl word\"><span class=\"txtp\">ἐκέλευσε </span> </div><div class=\"meta\"><div class=\"features\"> <span class=\"lemma xft\"><span class=\"f\">lemma=</span>κελεύω</span></div></div></div><div class=\"contnr word \" ><div class=\"lbl word\"><span class=\"txtp\">τῷ </span> </div><div class=\"meta\"><div class=\"features\"> <span class=\"lemma xft\"><span class=\"f\">lemma=</span>ὅς,ὁ,τίς,τις,τῷ</span></div></div></div><div class=\"contnr word \" ><div class=\"lbl word\"><span class=\"txtp\">κυβερνήτῃ </span> </div><div class=\"meta\"><div class=\"features\"> <span class=\"lemma xft\"><span class=\"f\">lemma=</span>κυβερνήτης</span></div></div></div><div class=\"contnr word \" ><div class=\"lbl word\"><span class=\"txtp\">τὴν </span> </div><div class=\"meta\"><div class=\"features\"> <span class=\"lemma xft\"><span class=\"f\">lemma=</span>ὅς,ὁ</span></div></div></div><div class=\"contnr word \" ><div class=\"lbl word\"><span class=\"txtp\">αὐτὴν </span> </div><div class=\"meta\"><div class=\"features\"> <span class=\"lemma xft\"><span class=\"f\">lemma=</span>αὐτός</span></div></div></div><div class=\"contnr word \" ><div class=\"lbl word\"><span class=\"txtp\">ὁδὸν </span> </div><div class=\"meta\"><div class=\"features\"> <span class=\"lemma xft\"><span class=\"f\">lemma=</span>ὁδός</span></div></div></div><div class=\"contnr word hl\" ><div class=\"lbl word\"><span class=\"txtp\">ἐπὶ </span> </div><div class=\"meta\"><div class=\"features\"> <span class=\"lemma xft\"><span class=\"f\">lemma=</span>ἐπί</span></div></div></div><div class=\"contnr word \" ><div class=\"lbl word\"><span class=\"txtp\">Ἰταλίαν </span> </div><div class=\"meta\"><div class=\"features\"> <span class=\"lemma xft\"><span class=\"f\">lemma=</span>ἰταλία</span></div></div></div><div class=\"contnr word \" ><div class=\"lbl word\"><span class=\"txtp\">ἀναπλεῖν </span> </div><div class=\"meta\"><div class=\"features\"> <span class=\"lemma xft\"><span class=\"f\">lemma=</span>ἀναπλέω</span></div></div></div><div class=\"contnr word \" ><div class=\"lbl word\"><span class=\"txtp\">μηδὲ </span> </div><div class=\"meta\"><div class=\"features\"> <span class=\"lemma xft\"><span class=\"f\">lemma=</span>μηδέ</span></div></div></div><div class=\"contnr word \" ><div class=\"lbl word\"><span class=\"txtp\">προσπελάσαντι </span> </div><div class=\"meta\"><div class=\"features\"> <span class=\"lemma xft\"><span class=\"f\">lemma=</span>προσπελάζω</span></div></div></div><div class=\"contnr word \" ><div class=\"lbl word\"><span class=\"txtp\">τῇ </span> </div><div class=\"meta\"><div class=\"features\"> <span class=\"lemma xft\"><span class=\"f\">lemma=</span>ὅς,ὁ,τῇ</span></div></div></div><div class=\"contnr word \" ><div class=\"lbl word\"><span class=\"txtp\">γῇ. </span> </div><div class=\"meta\"><div class=\"features\"> <span class=\"lemma xft\"><span class=\"f\">lemma=</span>γαῖα,γῆ</span></div></div></div></div></div>"
      ],
      "text/plain": [
       "<IPython.core.display.HTML object>"
      ]
     },
     "metadata": {},
     "output_type": "display_data"
    }
   ],
   "source": [
    "query = f'''\n",
    "word lemma={ud('ἐπί')}\n",
    "'''\n",
    "results = A.search(query)\n",
    "A.show(results, condenseType='_sentence', condensed=True, end=10)"
   ]
  },
  {
   "cell_type": "code",
   "execution_count": 9,
   "metadata": {},
   "outputs": [
    {
     "data": {
      "text/html": [
       "<table>\n",
       "<tr class=\"tf\">\n",
       "  <th class=\"tf\">n</th><th class=\"tf\">p</th>\n",
       "  <th class=\"tf\">word</th>\n",
       "</tr>\n",
       "\n",
       "<tr class=\"tf\"><td class=\"tf\">1</td><td class=\"tf\"> <a href=\"https://nbviewer.jupyter.org/github/pthu/patristics/blob/master/docs/transcription.md\" title=\"show this passage online\" sec=\"1 2:12\">1 2:12</a></td><td class=\"tf\"><a href=\"https://nbviewer.jupyter.org/github/pthu/patristics/blob/master/docs/transcription.md\" title=\"1 2:12\" sec=\"1 2:12\"><span class=\"plain outer  hl\" ><span class=\"txtp\">ἐπὶ </span></span></a></td></tr>\n",
       "<tr class=\"tf\"><td class=\"tf\">2</td><td class=\"tf\"> <a href=\"https://nbviewer.jupyter.org/github/pthu/patristics/blob/master/docs/transcription.md\" title=\"show this passage online\" sec=\"1 2:12\">1 2:12</a></td><td class=\"tf\"><a href=\"https://nbviewer.jupyter.org/github/pthu/patristics/blob/master/docs/transcription.md\" title=\"1 2:12\" sec=\"1 2:12\"><span class=\"plain outer  hl\" ><span class=\"txtp\">ἐπὶ </span></span></a></td></tr>\n",
       "<tr class=\"tf\"><td class=\"tf\">3</td><td class=\"tf\"> <a href=\"https://nbviewer.jupyter.org/github/pthu/patristics/blob/master/docs/transcription.md\" title=\"show this passage online\" sec=\"1 2:12\">1 2:12</a></td><td class=\"tf\"><a href=\"https://nbviewer.jupyter.org/github/pthu/patristics/blob/master/docs/transcription.md\" title=\"1 2:12\" sec=\"1 2:12\"><span class=\"plain outer  hl\" ><span class=\"txtp\">ἐπὶ </span></span></a></td></tr>\n",
       "<tr class=\"tf\"><td class=\"tf\">4</td><td class=\"tf\"> <a href=\"https://nbviewer.jupyter.org/github/pthu/patristics/blob/master/docs/transcription.md\" title=\"show this passage online\" sec=\"1 2:12\">1 2:12</a></td><td class=\"tf\"><a href=\"https://nbviewer.jupyter.org/github/pthu/patristics/blob/master/docs/transcription.md\" title=\"1 2:12\" sec=\"1 2:12\"><span class=\"plain outer  hl\" ><span class=\"txtp\">ἐπὶ </span></span></a></td></tr>\n",
       "<tr class=\"tf\"><td class=\"tf\">5</td><td class=\"tf\"> <a href=\"https://nbviewer.jupyter.org/github/pthu/patristics/blob/master/docs/transcription.md\" title=\"show this passage online\" sec=\"1 4:20\">1 4:20</a></td><td class=\"tf\"><a href=\"https://nbviewer.jupyter.org/github/pthu/patristics/blob/master/docs/transcription.md\" title=\"1 4:20\" sec=\"1 4:20\"><span class=\"plain outer  hl\" ><span class=\"txtp\">ἐπὶ </span></span></a></td></tr>\n",
       "<tr class=\"tf\"><td class=\"tf\">6</td><td class=\"tf\"> <a href=\"https://nbviewer.jupyter.org/github/pthu/patristics/blob/master/docs/transcription.md\" title=\"show this passage online\" sec=\"1 4:21\">1 4:21</a></td><td class=\"tf\"><a href=\"https://nbviewer.jupyter.org/github/pthu/patristics/blob/master/docs/transcription.md\" title=\"1 4:21\" sec=\"1 4:21\"><span class=\"plain outer  hl\" ><span class=\"txtp\">ἐπ’  </span></span></a></td></tr>\n",
       "<tr class=\"tf\"><td class=\"tf\">7</td><td class=\"tf\"> <a href=\"https://nbviewer.jupyter.org/github/pthu/patristics/blob/master/docs/transcription.md\" title=\"show this passage online\" sec=\"1 4:24\">1 4:24</a></td><td class=\"tf\"><a href=\"https://nbviewer.jupyter.org/github/pthu/patristics/blob/master/docs/transcription.md\" title=\"1 4:24\" sec=\"1 4:24\"><span class=\"plain outer  hl\" ><span class=\"txtp\">ἐπὶ </span></span></a></td></tr>\n",
       "<tr class=\"tf\"><td class=\"tf\">8</td><td class=\"tf\"> <a href=\"https://nbviewer.jupyter.org/github/pthu/patristics/blob/master/docs/transcription.md\" title=\"show this passage online\" sec=\"1 4:27\">1 4:27</a></td><td class=\"tf\"><a href=\"https://nbviewer.jupyter.org/github/pthu/patristics/blob/master/docs/transcription.md\" title=\"1 4:27\" sec=\"1 4:27\"><span class=\"plain outer  hl\" ><span class=\"txtp\">ἐπὶ </span></span></a></td></tr>\n",
       "<tr class=\"tf\"><td class=\"tf\">9</td><td class=\"tf\"> <a href=\"https://nbviewer.jupyter.org/github/pthu/patristics/blob/master/docs/transcription.md\" title=\"show this passage online\" sec=\"1 7:55\">1 7:55</a></td><td class=\"tf\"><a href=\"https://nbviewer.jupyter.org/github/pthu/patristics/blob/master/docs/transcription.md\" title=\"1 7:55\" sec=\"1 7:55\"><span class=\"plain outer  hl\" ><span class=\"txtp\">ἐπὶ </span></span></a></td></tr>\n",
       "<tr class=\"tf\"><td class=\"tf\">10</td><td class=\"tf\"> <a href=\"https://nbviewer.jupyter.org/github/pthu/patristics/blob/master/docs/transcription.md\" title=\"show this passage online\" sec=\"1 8:68\">1 8:68</a></td><td class=\"tf\"><a href=\"https://nbviewer.jupyter.org/github/pthu/patristics/blob/master/docs/transcription.md\" title=\"1 8:68\" sec=\"1 8:68\"><span class=\"plain outer  hl\" ><span class=\"txtp\">ἐπὶ </span></span></a></td></tr></table>"
      ],
      "text/plain": [
       "<IPython.core.display.HTML object>"
      ]
     },
     "metadata": {},
     "output_type": "display_data"
    }
   ],
   "source": [
    "A.table(results, end=10)"
   ]
  },
  {
   "cell_type": "code",
   "execution_count": 10,
   "metadata": {},
   "outputs": [
    {
     "name": "stdout",
     "output_type": "stream",
     "text": [
      "  0.29s 2 results\n"
     ]
    },
    {
     "data": {
      "text/html": [
       "<p><b>result</b> <i>1</i></p>"
      ],
      "text/plain": [
       "<IPython.core.display.HTML object>"
      ]
     },
     "metadata": {},
     "output_type": "display_data"
    },
    {
     "data": {
      "text/html": [
       "<div class=\"contnr _sentence \" ><div class=\"lbl _sentence\"><a href=\"https://nbviewer.jupyter.org/github/pthu/patristics/blob/master/docs/transcription.md\" title=\"1 2:13\" sec=\"1 2:13\">_sentence <span class=\"txtn\"></span></a> </div><div class=\"meta\"><div class=\"features\"></div></div><div class=\"children _sentence\"><div class=\"contnr word \" ><div class=\"lbl word\"><span class=\"txtp\">ἰατρῶν </span> </div><div class=\"meta\"><div class=\"features\"> <span class=\"lemma xft\"><span class=\"f\">lemma=</span>ἰατρός</span></div></div></div><div class=\"contnr word \" ><div class=\"lbl word\"><span class=\"txtp\">δὲ </span> </div><div class=\"meta\"><div class=\"features\"> <span class=\"lemma xft\"><span class=\"f\">lemma=</span>δέ</span></div></div></div><div class=\"contnr word \" ><div class=\"lbl word\"><span class=\"txtp\">παρῆσαν </span> </div><div class=\"meta\"><div class=\"features\"> <span class=\"lemma xft\"><span class=\"f\">lemma=</span>πάρειμι,πάρειμι1,πείρω</span></div></div></div><div class=\"contnr word \" ><div class=\"lbl word\"><span class=\"txtp\">Δάφνος </span> </div><div class=\"meta\"><div class=\"features\"> <span class=\"lemma xft\"><span class=\"f\">lemma=</span>δάφνος</span></div></div></div><div class=\"contnr word \" ><div class=\"lbl word\"><span class=\"txtp\">Ἐφέσιος, </span> </div><div class=\"meta\"><div class=\"features\"> <span class=\"lemma xft\"><span class=\"f\">lemma=</span>ἔφεσις,ἐφέσιος</span></div></div></div><div class=\"contnr word \" ><div class=\"lbl word\"><span class=\"txtp\">ἱερὸς </span> </div><div class=\"meta\"><div class=\"features\"> <span class=\"lemma xft\"><span class=\"f\">lemma=</span>ἱερός</span></div></div></div><div class=\"contnr word \" ><div class=\"lbl word\"><span class=\"txtp\">τὴν </span> </div><div class=\"meta\"><div class=\"features\"> <span class=\"lemma xft\"><span class=\"f\">lemma=</span>ὅς,ὁ</span></div></div></div><div class=\"contnr word \" ><div class=\"lbl word\"><span class=\"txtp\">τέχνην </span> </div><div class=\"meta\"><div class=\"features\"> <span class=\"lemma xft\"><span class=\"f\">lemma=</span>τέχνη</span></div></div></div><div class=\"contnr word \" ><div class=\"lbl word\"><span class=\"txtp\">καὶ </span> </div><div class=\"meta\"><div class=\"features\"> <span class=\"lemma xft\"><span class=\"f\">lemma=</span>καί</span></div></div></div><div class=\"contnr word \" ><div class=\"lbl word\"><span class=\"txtp\">κατὰ </span> </div><div class=\"meta\"><div class=\"features\"> <span class=\"lemma xft\"><span class=\"f\">lemma=</span>κατά</span></div></div></div><div class=\"contnr word \" ><div class=\"lbl word\"><span class=\"txtp\">τὰ </span> </div><div class=\"meta\"><div class=\"features\"> <span class=\"lemma xft\"><span class=\"f\">lemma=</span>ὅς,ὁ,τίς</span></div></div></div><div class=\"contnr word \" ><div class=\"lbl word\"><span class=\"txtp\">ἤθη, </span> </div><div class=\"meta\"><div class=\"features\"> <span class=\"lemma xft\"><span class=\"f\">lemma=</span>ἠθέω,ἦθος</span></div></div></div><div class=\"contnr word \" ><div class=\"lbl word\"><span class=\"txtp\">τῶν </span> </div><div class=\"meta\"><div class=\"features\"> <span class=\"lemma xft\"><span class=\"f\">lemma=</span>ὅς,ὁ</span></div></div></div><div class=\"contnr word hl\" ><div class=\"lbl word\"><span class=\"txtp\">Ἀκαδημαικῶν </span> </div><div class=\"meta\"><div class=\"features\"> <span class=\"lemma xft\"><span class=\"f\">lemma=</span>*ακαδημαικων</span></div></div></div><div class=\"contnr word \" ><div class=\"lbl word\"><span class=\"txtp\">λόγων </span> </div><div class=\"meta\"><div class=\"features\"> <span class=\"lemma xft\"><span class=\"f\">lemma=</span>λόγος,λογάω</span></div></div></div><div class=\"contnr word \" ><div class=\"lbl word\"><span class=\"txtp\">οὐ </span> </div><div class=\"meta\"><div class=\"features\"> <span class=\"lemma xft\"><span class=\"f\">lemma=</span>οὐ</span></div></div></div><div class=\"contnr word \" ><div class=\"lbl word\"><span class=\"txtp\">παρέργως </span> </div><div class=\"meta\"><div class=\"features\"> <span class=\"lemma xft\"><span class=\"f\">lemma=</span>πάρεργος,πάρεργον</span></div></div></div><div class=\"contnr word \" ><div class=\"lbl word\"><span class=\"txtp\">ἁπτόμενος, </span> </div><div class=\"meta\"><div class=\"features\"> <span class=\"lemma xft\"><span class=\"f\">lemma=</span>ἅπτω</span></div></div></div><div class=\"contnr word \" ><div class=\"lbl word\"><span class=\"txtp\">Γαληνός </span> </div><div class=\"meta\"><div class=\"features\"> <span class=\"lemma xft\"><span class=\"f\">lemma=</span>γαληνός</span></div></div></div><div class=\"contnr word \" ><div class=\"lbl word\"><span class=\"txtp\">τε </span> </div><div class=\"meta\"><div class=\"features\"> <span class=\"lemma xft\"><span class=\"f\">lemma=</span>σύ,τις,τεός,τε</span></div></div></div><div class=\"contnr word \" ><div class=\"lbl word\"><span class=\"txtp\">ὁ </span> </div><div class=\"meta\"><div class=\"features\"> <span class=\"lemma xft\"><span class=\"f\">lemma=</span>ὅς,ὁ</span></div></div></div><div class=\"contnr word \" ><div class=\"lbl word\"><span class=\"txtp\">Περγαμηνός, </span> </div><div class=\"meta\"><div class=\"features\"> <span class=\"lemma xft\"><span class=\"f\">lemma=</span>περγαμηνός</span></div></div></div><div class=\"contnr word \" ><div class=\"lbl word\"><span class=\"txtp\">ὃς </span> </div><div class=\"meta\"><div class=\"features\"> <span class=\"lemma xft\"><span class=\"f\">lemma=</span>ὅς</span></div></div></div><div class=\"contnr word \" ><div class=\"lbl word\"><span class=\"txtp\">τοσαῦτ’  </span> </div><div class=\"meta\"><div class=\"features\"> <span class=\"lemma xft\"><span class=\"f\">lemma=</span>τοσοῦτος</span></div></div></div><div class=\"contnr word \" ><div class=\"lbl word\"><span class=\"txtp\">ἐκδέδωκε </span> </div><div class=\"meta\"><div class=\"features\"> <span class=\"lemma xft\"><span class=\"f\">lemma=</span>ἐκδίδωμι</span></div></div></div><div class=\"contnr word \" ><div class=\"lbl word\"><span class=\"txtp\">συγγράμματα </span> </div><div class=\"meta\"><div class=\"features\"> <span class=\"lemma xft\"><span class=\"f\">lemma=</span>σύγγραμμα</span></div></div></div><div class=\"contnr word \" ><div class=\"lbl word\"><span class=\"txtp\">φιλόσοφά </span> </div><div class=\"meta\"><div class=\"features\"> <span class=\"lemma xft\"><span class=\"f\">lemma=</span>*φιλοσοφα</span></div></div></div><div class=\"contnr word \" ><div class=\"lbl word\"><span class=\"txtp\">τε </span> </div><div class=\"meta\"><div class=\"features\"> <span class=\"lemma xft\"><span class=\"f\">lemma=</span>σύ,τις,τεός,τε</span></div></div></div><div class=\"contnr word \" ><div class=\"lbl word\"><span class=\"txtp\">καὶ </span> </div><div class=\"meta\"><div class=\"features\"> <span class=\"lemma xft\"><span class=\"f\">lemma=</span>καί</span></div></div></div><div class=\"contnr word \" ><div class=\"lbl word\"><span class=\"txtp\">ἰατρικὰ </span> </div><div class=\"meta\"><div class=\"features\"> <span class=\"lemma xft\"><span class=\"f\">lemma=</span>ἰατρικός</span></div></div></div><div class=\"contnr word \" ><div class=\"lbl word\"><span class=\"txtp\">ὡς </span> </div><div class=\"meta\"><div class=\"features\"> <span class=\"lemma xft\"><span class=\"f\">lemma=</span>ὅς,ὡς</span></div></div></div><div class=\"contnr word \" ><div class=\"lbl word\"><span class=\"txtp\">πάντας </span> </div><div class=\"meta\"><div class=\"features\"> <span class=\"lemma xft\"><span class=\"f\">lemma=</span>πᾶς</span></div></div></div><div class=\"contnr word \" ><div class=\"lbl word\"><span class=\"txtp\">ὑπερβαλεῖν </span> </div><div class=\"meta\"><div class=\"features\"> <span class=\"lemma xft\"><span class=\"f\">lemma=</span>ὑπερβάλλω</span></div></div></div><div class=\"contnr word \" ><div class=\"lbl word\"><span class=\"txtp\">τοὺς </span> </div><div class=\"meta\"><div class=\"features\"> <span class=\"lemma xft\"><span class=\"f\">lemma=</span>ὅς,ὁ</span></div></div></div><div class=\"contnr word \" ><div class=\"lbl word\"><span class=\"txtp\">πρὸ </span> </div><div class=\"meta\"><div class=\"features\"> <span class=\"lemma xft\"><span class=\"f\">lemma=</span>πρό</span></div></div></div><div class=\"contnr word \" ><div class=\"lbl word\"><span class=\"txtp\">αὐτοῦ, </span> </div><div class=\"meta\"><div class=\"features\"> <span class=\"lemma xft\"><span class=\"f\">lemma=</span>αὐτός,αὐτοῦ</span></div></div></div><div class=\"contnr word \" ><div class=\"lbl word\"><span class=\"txtp\">καὶ </span> </div><div class=\"meta\"><div class=\"features\"> <span class=\"lemma xft\"><span class=\"f\">lemma=</span>καί</span></div></div></div><div class=\"contnr word \" ><div class=\"lbl word\"><span class=\"txtp\">κατὰ </span> </div><div class=\"meta\"><div class=\"features\"> <span class=\"lemma xft\"><span class=\"f\">lemma=</span>κατά</span></div></div></div><div class=\"contnr word \" ><div class=\"lbl word\"><span class=\"txtp\">τὴν </span> </div><div class=\"meta\"><div class=\"features\"> <span class=\"lemma xft\"><span class=\"f\">lemma=</span>ὅς,ὁ</span></div></div></div><div class=\"contnr word \" ><div class=\"lbl word\"><span class=\"txtp\">ἑρμηνείαν </span> </div><div class=\"meta\"><div class=\"features\"> <span class=\"lemma xft\"><span class=\"f\">lemma=</span>ἑρμηνεία</span></div></div></div><div class=\"contnr word \" ><div class=\"lbl word\"><span class=\"txtp\">οὐδενὸς </span> </div><div class=\"meta\"><div class=\"features\"> <span class=\"lemma xft\"><span class=\"f\">lemma=</span>οὐδείς</span></div></div></div><div class=\"contnr word \" ><div class=\"lbl word\"><span class=\"txtp\">ὢν </span> </div><div class=\"meta\"><div class=\"features\"> <span class=\"lemma xft\"><span class=\"f\">lemma=</span>εἰμί</span></div></div></div><div class=\"contnr word \" ><div class=\"lbl word\"><span class=\"txtp\">τῶν </span> </div><div class=\"meta\"><div class=\"features\"> <span class=\"lemma xft\"><span class=\"f\">lemma=</span>ὅς,ὁ</span></div></div></div><div class=\"contnr word \" ><div class=\"lbl word\"><span class=\"txtp\">ἀρχαίων </span> </div><div class=\"meta\"><div class=\"features\"> <span class=\"lemma xft\"><span class=\"f\">lemma=</span>ἀρχαῖος</span></div></div></div><div class=\"contnr word \" ><div class=\"lbl word\"><span class=\"txtp\">ἀδυνατώτερος, </span> </div><div class=\"meta\"><div class=\"features\"> <span class=\"lemma xft\"><span class=\"f\">lemma=</span>ἀδύνατος</span></div></div></div><div class=\"contnr word \" ><div class=\"lbl word\"><span class=\"txtp\">Ῥουφῖνός </span> </div><div class=\"meta\"><div class=\"features\"> <span class=\"lemma xft\"><span class=\"f\">lemma=</span>*ρουφινος</span></div></div></div><div class=\"contnr word \" ><div class=\"lbl word\"><span class=\"txtp\">τε </span> </div><div class=\"meta\"><div class=\"features\"> <span class=\"lemma xft\"><span class=\"f\">lemma=</span>σύ,τις,τεός,τε</span></div></div></div><div class=\"contnr word \" ><div class=\"lbl word\"><span class=\"txtp\">ὁ </span> </div><div class=\"meta\"><div class=\"features\"> <span class=\"lemma xft\"><span class=\"f\">lemma=</span>ὅς,ὁ</span></div></div></div><div class=\"contnr word \" ><div class=\"lbl word\"><span class=\"txtp\">Νικαεύς. </span> </div><div class=\"meta\"><div class=\"features\"> <span class=\"lemma xft\"><span class=\"f\">lemma=</span>*νικαευς</span></div></div></div></div></div>"
      ],
      "text/plain": [
       "<IPython.core.display.HTML object>"
      ]
     },
     "metadata": {},
     "output_type": "display_data"
    },
    {
     "data": {
      "text/html": [
       "<p><b>result</b> <i>2</i></p>"
      ],
      "text/plain": [
       "<IPython.core.display.HTML object>"
      ]
     },
     "metadata": {},
     "output_type": "display_data"
    },
    {
     "data": {
      "text/html": [
       "<div class=\"contnr _sentence \" ><div class=\"lbl _sentence\"><a href=\"https://nbviewer.jupyter.org/github/pthu/patristics/blob/master/docs/transcription.md\" title=\"11 119:11199\" sec=\"11 119:11199\">_sentence <span class=\"txtn\"></span></a> </div><div class=\"meta\"><div class=\"features\"></div></div><div class=\"children _sentence\"><div class=\"contnr word \" ><div class=\"lbl word\"><span class=\"txtp\">τοιοῦτοι </span> </div><div class=\"meta\"><div class=\"features\"> <span class=\"lemma xft\"><span class=\"f\">lemma=</span>τοιοῦτος</span></div></div></div><div class=\"contnr word \" ><div class=\"lbl word\"><span class=\"txtp\">δ’  </span> </div><div class=\"meta\"><div class=\"features\"> <span class=\"lemma xft\"><span class=\"f\">lemma=</span>δέ</span></div></div></div><div class=\"contnr word \" ><div class=\"lbl word\"><span class=\"txtp\">εἰσὶ </span> </div><div class=\"meta\"><div class=\"features\"> <span class=\"lemma xft\"><span class=\"f\">lemma=</span>εἰμί</span></div></div></div><div class=\"contnr word \" ><div class=\"lbl word\"><span class=\"txtp\">καὶ </span> </div><div class=\"meta\"><div class=\"features\"> <span class=\"lemma xft\"><span class=\"f\">lemma=</span>καί</span></div></div></div><div class=\"contnr word \" ><div class=\"lbl word\"><span class=\"txtp\">νῦν </span> </div><div class=\"meta\"><div class=\"features\"> <span class=\"lemma xft\"><span class=\"f\">lemma=</span>νῦν</span></div></div></div><div class=\"contnr word \" ><div class=\"lbl word\"><span class=\"txtp\">τῶν </span> </div><div class=\"meta\"><div class=\"features\"> <span class=\"lemma xft\"><span class=\"f\">lemma=</span>ὅς,ὁ</span></div></div></div><div class=\"contnr word hl\" ><div class=\"lbl word\"><span class=\"txtp\">Ἀκαδημαικῶν </span> </div><div class=\"meta\"><div class=\"features\"> <span class=\"lemma xft\"><span class=\"f\">lemma=</span>*ακαδημαικων</span></div></div></div><div class=\"contnr word \" ><div class=\"lbl word\"><span class=\"txtp\">τινες, </span> </div><div class=\"meta\"><div class=\"features\"> <span class=\"lemma xft\"><span class=\"f\">lemma=</span>τίνω,τίς,τις</span></div></div></div><div class=\"contnr word \" ><div class=\"lbl word\"><span class=\"txtp\">ἀνοσίως </span> </div><div class=\"meta\"><div class=\"features\"> <span class=\"lemma xft\"><span class=\"f\">lemma=</span>ἀνόσιος</span></div></div></div><div class=\"contnr word \" ><div class=\"lbl word\"><span class=\"txtp\">καὶ </span> </div><div class=\"meta\"><div class=\"features\"> <span class=\"lemma xft\"><span class=\"f\">lemma=</span>καί</span></div></div></div><div class=\"contnr word \" ><div class=\"lbl word\"><span class=\"txtp\">ἀδόξως </span> </div><div class=\"meta\"><div class=\"features\"> <span class=\"lemma xft\"><span class=\"f\">lemma=</span>ἄδοξος</span></div></div></div><div class=\"contnr word \" ><div class=\"lbl word\"><span class=\"txtp\">βιοῦντες. </span> </div><div class=\"meta\"><div class=\"features\"> <span class=\"lemma xft\"><span class=\"f\">lemma=</span>βιάω,βιόω</span></div></div></div></div></div>"
      ],
      "text/plain": [
       "<IPython.core.display.HTML object>"
      ]
     },
     "metadata": {},
     "output_type": "display_data"
    }
   ],
   "source": [
    "query = f'''\n",
    "word lemma=*ακαδημαικων\n",
    "'''\n",
    "results = A.search(query)\n",
    "A.show(results, condenseType='_sentence', end=10)"
   ]
  },
  {
   "cell_type": "code",
   "execution_count": null,
   "metadata": {},
   "outputs": [],
   "source": []
  }
 ],
 "metadata": {
  "kernelspec": {
   "display_name": "Python 3",
   "language": "python",
   "name": "python3"
  },
  "language_info": {
   "codemirror_mode": {
    "name": "ipython",
    "version": 3
   },
   "file_extension": ".py",
   "mimetype": "text/x-python",
   "name": "python",
   "nbconvert_exporter": "python",
   "pygments_lexer": "ipython3",
   "version": "3.7.7"
  }
 },
 "nbformat": 4,
 "nbformat_minor": 4
}
