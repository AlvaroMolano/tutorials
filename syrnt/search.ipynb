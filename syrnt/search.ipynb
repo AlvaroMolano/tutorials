{
 "cells": [
  {
   "cell_type": "markdown",
   "metadata": {},
   "source": [
    "<img align=\"right\" src=\"images/tf.png\"/>\n",
    "<img align=\"right\" src=\"images/etcbc.png\"/>\n",
    "<img align=\"right\" src=\"images/logo.png\"/>\n",
    "\n",
    "# Search Introduction\n",
    "\n",
    "*Search* in Text-Fabric is a template based way of looking for structural patterns in your dataset.\n",
    "\n",
    "Within Text-Fabric we have the unique possibility to combine the ease of formulating search templates for\n",
    "complicated syntactical patterns with the power of programmatically processing the results.\n",
    "\n",
    "This notebook will show you how to get up and running.\n",
    "\n",
    "## Easy command\n",
    "\n",
    "Search is as simple as saying (just an example)\n",
    "\n",
    "```python\n",
    "results = A.search(template)\n",
    "A.show(results)\n",
    "```\n",
    "\n",
    "See all ins and outs in the\n",
    "[search template docs](https://annotation.github.io/text-fabric/Use/Search/#search-templates)."
   ]
  },
  {
   "cell_type": "markdown",
   "metadata": {},
   "source": [
    "# Incantation\n",
    "\n",
    "The ins and outs of installing Text-Fabric, getting the corpus, and initializing a notebook are\n",
    "explained in the [start tutorial](start.ipynb)."
   ]
  },
  {
   "cell_type": "code",
   "execution_count": 1,
   "metadata": {},
   "outputs": [],
   "source": [
    "%load_ext autoreload\n",
    "%autoreload 2"
   ]
  },
  {
   "cell_type": "code",
   "execution_count": 2,
   "metadata": {
    "ExecuteTime": {
     "end_time": "2018-05-24T10:06:39.818664Z",
     "start_time": "2018-05-24T10:06:39.796588Z"
    }
   },
   "outputs": [],
   "source": [
    "from tf.app import use"
   ]
  },
  {
   "cell_type": "code",
   "execution_count": 3,
   "metadata": {
    "ExecuteTime": {
     "end_time": "2018-05-24T10:06:51.615044Z",
     "start_time": "2018-05-24T10:06:50.161456Z"
    }
   },
   "outputs": [
    {
     "name": "stdout",
     "output_type": "stream",
     "text": [
      "Using TF-app in /Users/dirk/github/annotation/app-syrnt/code:\n",
      "\trepo clone offline under ~/github (local github)\n",
      "Using data in /Users/dirk/github/etcbc/syrnt/tf/0.1:\n",
      "\trepo clone offline under ~/github (local github)\n",
      "   |     0.00s No structure info in otext, the structure part of the T-API cannot be used\n"
     ]
    },
    {
     "data": {
      "text/html": [
       "<b>Documentation:</b> <a target=\"_blank\" href=\"https://github.com/etcbc/syrnt/blob/master/docs\" title=\"provenance of SyrNT\">SYRNT</a> <a target=\"_blank\" href=\"https://annotation.github.io/text-fabric/Writing/Syriac\" title=\"('Syriac characters and transcriptions',)\">Character table</a> <a target=\"_blank\" href=\"https://github.com/etcbc/syrnt/blob/master/docs/transcription-0.1.md#transcription.md\" title=\"SYRNT feature documentation\">Feature docs</a> <a target=\"_blank\" href=\"https://github.com/annotation/app-syrnt\" title=\"syrnt API documentation\">syrnt API</a> <a target=\"_blank\" href=\"https://annotation.github.io/text-fabric/Api/Fabric/\" title=\"text-fabric-api\">Text-Fabric API 7.11.1</a> <a target=\"_blank\" href=\"https://annotation.github.io/text-fabric/Use/Search/\" title=\"Search Templates Introduction and Reference\">Search Reference</a><details open><summary><b>Loaded features</b>:</summary>\n",
       "<p><b>SyrNT</b>: <a target=\"_blank\" href=\"https://github.com/etcbc/syrnt/blob/master/docs/transcription-0.1.md#book\" title=\"/Users/dirk/github/etcbc/syrnt/tf/0.1/book.tf\">book</a>  <a target=\"_blank\" href=\"https://github.com/etcbc/syrnt/blob/master/docs/transcription-0.1.md#book@ll\" title=\"/Users/dirk/github/etcbc/syrnt/tf/0.1/book@en.tf\">book@ll</a>  <a target=\"_blank\" href=\"https://github.com/etcbc/syrnt/blob/master/docs/transcription-0.1.md#chapter\" title=\"/Users/dirk/github/etcbc/syrnt/tf/0.1/chapter.tf\">chapter</a>  <a target=\"_blank\" href=\"https://github.com/etcbc/syrnt/blob/master/docs/transcription-0.1.md#demcat\" title=\"/Users/dirk/github/etcbc/syrnt/tf/0.1/demcat.tf\">demcat</a>  <a target=\"_blank\" href=\"https://github.com/etcbc/syrnt/blob/master/docs/transcription-0.1.md#fmhdot\" title=\"/Users/dirk/github/etcbc/syrnt/tf/0.1/fmhdot.tf\">fmhdot</a>  <a target=\"_blank\" href=\"https://github.com/etcbc/syrnt/blob/master/docs/transcription-0.1.md#gn\" title=\"/Users/dirk/github/etcbc/syrnt/tf/0.1/gn.tf\">gn</a>  <a target=\"_blank\" href=\"https://github.com/etcbc/syrnt/blob/master/docs/transcription-0.1.md#lexeme\" title=\"/Users/dirk/github/etcbc/syrnt/tf/0.1/lexeme.tf\">lexeme</a>  <a target=\"_blank\" href=\"https://github.com/etcbc/syrnt/blob/master/docs/transcription-0.1.md#lexeme_etcbc\" title=\"/Users/dirk/github/etcbc/syrnt/tf/0.1/lexeme_etcbc.tf\">lexeme_etcbc</a>  <a target=\"_blank\" href=\"https://github.com/etcbc/syrnt/blob/master/docs/transcription-0.1.md#lexeme_sedra\" title=\"/Users/dirk/github/etcbc/syrnt/tf/0.1/lexeme_sedra.tf\">lexeme_sedra</a>  <a target=\"_blank\" href=\"https://github.com/etcbc/syrnt/blob/master/docs/transcription-0.1.md#nmtyp\" title=\"/Users/dirk/github/etcbc/syrnt/tf/0.1/nmtyp.tf\">nmtyp</a>  <a target=\"_blank\" href=\"https://github.com/etcbc/syrnt/blob/master/docs/transcription-0.1.md#ntyp\" title=\"/Users/dirk/github/etcbc/syrnt/tf/0.1/ntyp.tf\">ntyp</a>  <a target=\"_blank\" href=\"https://github.com/etcbc/syrnt/blob/master/docs/transcription-0.1.md#nu\" title=\"/Users/dirk/github/etcbc/syrnt/tf/0.1/nu.tf\">nu</a>  <a target=\"_blank\" href=\"https://github.com/etcbc/syrnt/blob/master/docs/transcription-0.1.md#otype\" title=\"/Users/dirk/github/etcbc/syrnt/tf/0.1/otype.tf\">otype</a>  <a target=\"_blank\" href=\"https://github.com/etcbc/syrnt/blob/master/docs/transcription-0.1.md#prefix\" title=\"/Users/dirk/github/etcbc/syrnt/tf/0.1/prefix.tf\">prefix</a>  <a target=\"_blank\" href=\"https://github.com/etcbc/syrnt/blob/master/docs/transcription-0.1.md#prefix_etcbc\" title=\"/Users/dirk/github/etcbc/syrnt/tf/0.1/prefix_etcbc.tf\">prefix_etcbc</a>  <a target=\"_blank\" href=\"https://github.com/etcbc/syrnt/blob/master/docs/transcription-0.1.md#prefix_sedra\" title=\"/Users/dirk/github/etcbc/syrnt/tf/0.1/prefix_sedra.tf\">prefix_sedra</a>  <a target=\"_blank\" href=\"https://github.com/etcbc/syrnt/blob/master/docs/transcription-0.1.md#prtyp\" title=\"/Users/dirk/github/etcbc/syrnt/tf/0.1/prtyp.tf\">prtyp</a>  <a target=\"_blank\" href=\"https://github.com/etcbc/syrnt/blob/master/docs/transcription-0.1.md#ps\" title=\"/Users/dirk/github/etcbc/syrnt/tf/0.1/ps.tf\">ps</a>  <a target=\"_blank\" href=\"https://github.com/etcbc/syrnt/blob/master/docs/transcription-0.1.md#ptctyp\" title=\"/Users/dirk/github/etcbc/syrnt/tf/0.1/ptctyp.tf\">ptctyp</a>  <a target=\"_blank\" href=\"https://github.com/etcbc/syrnt/blob/master/docs/transcription-0.1.md#root\" title=\"/Users/dirk/github/etcbc/syrnt/tf/0.1/root.tf\">root</a>  <a target=\"_blank\" href=\"https://github.com/etcbc/syrnt/blob/master/docs/transcription-0.1.md#root_etcbc\" title=\"/Users/dirk/github/etcbc/syrnt/tf/0.1/root_etcbc.tf\">root_etcbc</a>  <a target=\"_blank\" href=\"https://github.com/etcbc/syrnt/blob/master/docs/transcription-0.1.md#root_sedra\" title=\"/Users/dirk/github/etcbc/syrnt/tf/0.1/root_sedra.tf\">root_sedra</a>  <a target=\"_blank\" href=\"https://github.com/etcbc/syrnt/blob/master/docs/transcription-0.1.md#seyame\" title=\"/Users/dirk/github/etcbc/syrnt/tf/0.1/seyame.tf\">seyame</a>  <a target=\"_blank\" href=\"https://github.com/etcbc/syrnt/blob/master/docs/transcription-0.1.md#sfcontract\" title=\"/Users/dirk/github/etcbc/syrnt/tf/0.1/sfcontract.tf\">sfcontract</a>  <a target=\"_blank\" href=\"https://github.com/etcbc/syrnt/blob/master/docs/transcription-0.1.md#sfgn\" title=\"/Users/dirk/github/etcbc/syrnt/tf/0.1/sfgn.tf\">sfgn</a>  <a target=\"_blank\" href=\"https://github.com/etcbc/syrnt/blob/master/docs/transcription-0.1.md#sfnu\" title=\"/Users/dirk/github/etcbc/syrnt/tf/0.1/sfnu.tf\">sfnu</a>  <a target=\"_blank\" href=\"https://github.com/etcbc/syrnt/blob/master/docs/transcription-0.1.md#sfps\" title=\"/Users/dirk/github/etcbc/syrnt/tf/0.1/sfps.tf\">sfps</a>  <a target=\"_blank\" href=\"https://github.com/etcbc/syrnt/blob/master/docs/transcription-0.1.md#sp\" title=\"/Users/dirk/github/etcbc/syrnt/tf/0.1/sp.tf\">sp</a>  <a target=\"_blank\" href=\"https://github.com/etcbc/syrnt/blob/master/docs/transcription-0.1.md#st\" title=\"/Users/dirk/github/etcbc/syrnt/tf/0.1/st.tf\">st</a>  <a target=\"_blank\" href=\"https://github.com/etcbc/syrnt/blob/master/docs/transcription-0.1.md#stem\" title=\"/Users/dirk/github/etcbc/syrnt/tf/0.1/stem.tf\">stem</a>  <a target=\"_blank\" href=\"https://github.com/etcbc/syrnt/blob/master/docs/transcription-0.1.md#stem_etcbc\" title=\"/Users/dirk/github/etcbc/syrnt/tf/0.1/stem_etcbc.tf\">stem_etcbc</a>  <a target=\"_blank\" href=\"https://github.com/etcbc/syrnt/blob/master/docs/transcription-0.1.md#stem_sedra\" title=\"/Users/dirk/github/etcbc/syrnt/tf/0.1/stem_sedra.tf\">stem_sedra</a>  <a target=\"_blank\" href=\"https://github.com/etcbc/syrnt/blob/master/docs/transcription-0.1.md#suffix\" title=\"/Users/dirk/github/etcbc/syrnt/tf/0.1/suffix.tf\">suffix</a>  <a target=\"_blank\" href=\"https://github.com/etcbc/syrnt/blob/master/docs/transcription-0.1.md#suffix_etcbc\" title=\"/Users/dirk/github/etcbc/syrnt/tf/0.1/suffix_etcbc.tf\">suffix_etcbc</a>  <a target=\"_blank\" href=\"https://github.com/etcbc/syrnt/blob/master/docs/transcription-0.1.md#suffix_sedra\" title=\"/Users/dirk/github/etcbc/syrnt/tf/0.1/suffix_sedra.tf\">suffix_sedra</a>  <a target=\"_blank\" href=\"https://github.com/etcbc/syrnt/blob/master/docs/transcription-0.1.md#verse\" title=\"/Users/dirk/github/etcbc/syrnt/tf/0.1/verse.tf\">verse</a>  <a target=\"_blank\" href=\"https://github.com/etcbc/syrnt/blob/master/docs/transcription-0.1.md#vs\" title=\"/Users/dirk/github/etcbc/syrnt/tf/0.1/vs.tf\">vs</a>  <a target=\"_blank\" href=\"https://github.com/etcbc/syrnt/blob/master/docs/transcription-0.1.md#vt\" title=\"/Users/dirk/github/etcbc/syrnt/tf/0.1/vt.tf\">vt</a>  <a target=\"_blank\" href=\"https://github.com/etcbc/syrnt/blob/master/docs/transcription-0.1.md#word\" title=\"/Users/dirk/github/etcbc/syrnt/tf/0.1/word.tf\">word</a>  <a target=\"_blank\" href=\"https://github.com/etcbc/syrnt/blob/master/docs/transcription-0.1.md#word_etcbc\" title=\"/Users/dirk/github/etcbc/syrnt/tf/0.1/word_etcbc.tf\">word_etcbc</a>  <a target=\"_blank\" href=\"https://github.com/etcbc/syrnt/blob/master/docs/transcription-0.1.md#word_sedra\" title=\"/Users/dirk/github/etcbc/syrnt/tf/0.1/word_sedra.tf\">word_sedra</a>  <b><i><a target=\"_blank\" href=\"https://github.com/etcbc/syrnt/blob/master/docs/transcription-0.1.md#oslots\" title=\"/Users/dirk/github/etcbc/syrnt/tf/0.1/oslots.tf\">oslots</a></i></b> </p></details>"
      ],
      "text/plain": [
       "<IPython.core.display.HTML object>"
      ]
     },
     "metadata": {},
     "output_type": "display_data"
    },
    {
     "data": {
      "text/html": [
       "<style>\n",
       "@font-face {\n",
       "  font-family: \"Estrangelo Edessa\";\n",
       "  src:\n",
       "    local(\"SyrCOMEdessa.otf\"),\n",
       "    url(\"https://github.com/annotation/text-fabric/blob/master/tf/server/static/fonts/SyrCOMEdessa.woff?raw=true\");\n",
       "}\n",
       ".features {\n",
       "    font-family: monospace;\n",
       "    font-size: medium;\n",
       "    font-weight: bold;\n",
       "    color: #0a6611;\n",
       "    display: flex;\n",
       "    flex-flow: column nowrap;\n",
       "    justify-content: flex-start;\n",
       "    align-items: flex-start;\n",
       "    align-content: flex-start;\n",
       "    padding: 0.1em;\n",
       "    margin: 0.1em;\n",
       "    direction: ltr;\n",
       "}\n",
       ".features div,.features span {\n",
       "    padding: 0;\n",
       "    margin: -0.1rem 0;\n",
       "}\n",
       ".features .f {\n",
       "    font-family: sans-serif;\n",
       "    font-size: x-small;\n",
       "    font-weight: normal;\n",
       "    color: #5555bb;\n",
       "}\n",
       ".features .xft {\n",
       "  color: #000000;\n",
       "  background-color: #eeeeee;\n",
       "  font-size: medium;\n",
       "  margin: 0.1em 0em;\n",
       "}\n",
       ".features .xft .f {\n",
       "  color: #000000;\n",
       "  background-color: #eeeeee;\n",
       "  font-style: italic;\n",
       "  font-size: small;\n",
       "  font-weight: normal;\n",
       "}\n",
       ".nd {\n",
       "    font-family: monospace;\n",
       "    font-size: x-small;\n",
       "    color: #999999;\n",
       "}\n",
       ".hl {\n",
       "    background-color: #ffee66;\n",
       "}\n",
       ".outerplain {\n",
       "    direction: rtl;\n",
       "}\n",
       ".outeritem {\n",
       "    display: flex;\n",
       "    flex-flow: row wrap;\n",
       "    direction: rtl;\n",
       "}\n",
       ".verse {\n",
       "    display: flex;\n",
       "    flex-flow: row wrap;\n",
       "    direction: rtl;\n",
       "}\n",
       ".vl {\n",
       "    display: flex;\n",
       "    flex-flow: column nowrap;\n",
       "    justify-content: flex-end;\n",
       "    align-items: flex-end;\n",
       "    direction: ltr;\n",
       "    width: 100%;\n",
       "}\n",
       ".vn {\n",
       "  font-size: small !important;\n",
       "  padding-right: 1em;\n",
       "}\n",
       ".vrs {\n",
       "    font-family: sans-serif;\n",
       "    font-size: small;\n",
       "    font-weight: bold;\n",
       "    color: #444444;\n",
       "}\n",
       ".word {\n",
       "    padding: 0.1em;\n",
       "    margin: 0.1em;\n",
       "    border-radius: 0.1em;\n",
       "    border: 1px solid #cccccc;\n",
       "    display: flex;\n",
       "    flex-flow: column nowrap;\n",
       "    direction: rtl;\n",
       "}\n",
       ".lextp {\n",
       "    padding: 0.1em;\n",
       "    margin: 0.1em;\n",
       "    border-radius: 0.1em;\n",
       "    border: 2px solid #888888;\n",
       "    width: fit-content;\n",
       "    display: flex;\n",
       "    flex-flow: column nowrap;\n",
       "    direction: rtl;\n",
       "}\n",
       ".occs {\n",
       "    font-size: x-small;\n",
       "}\n",
       ".tr,.tr a:visited,.tr a:link {\n",
       "    font-family: sans-serif;\n",
       "    font-size: large;\n",
       "    color: #000044;\n",
       "    direction: ltr;\n",
       "    text-decoration: none;\n",
       "}\n",
       ".trb,.trb a:visited,.trb a:link {\n",
       "    font-family: sans-serif;\n",
       "    font-size: normal;\n",
       "    direction: ltr;\n",
       "    text-decoration: none;\n",
       "}\n",
       ".sy,.sy a:visited,.sy a:link {\n",
       "    font-family: \"Estrangelo Edessa\", sans-serif;\n",
       "    font-size: large;\n",
       "    color: #000044;\n",
       "    direction: rtl;\n",
       "    text-decoration: none;\n",
       "}\n",
       ".syb,.syb a:visited,.syb a:link {\n",
       "    font-family: \"Estrangelo Edessa\", sans-serif;\n",
       "    font-size: large;\n",
       "    line-height: 2;\n",
       "    direction: rtl;\n",
       "    text-decoration: none;\n",
       "}\n",
       ".vn {\n",
       "  font-size: small !important;\n",
       "  padding-right: 1em;\n",
       "}\n",
       ".sp,.sp a:visited,.sp a:link {\n",
       "    font-family: monospace;\n",
       "    font-size: medium;\n",
       "    color: #0000bb;\n",
       "    text-decoration: none;\n",
       "}\n",
       ".lexeme {\n",
       "    font-family: monospace;\n",
       "    font-size: medium;\n",
       "    color: #0000bb;\n",
       "}\n",
       ".vs {\n",
       "    font-family: monospace;\n",
       "    font-size: medium;\n",
       "    font-weight: bold;\n",
       "    color: #0000bb;\n",
       "}\n",
       ".vt {\n",
       "    font-family: monospace;\n",
       "    font-size: medium;\n",
       "    font-weight: bold;\n",
       "    color: #0000bb;\n",
       "}\n",
       "\n",
       "tr.tf, td.tf, th.tf {\n",
       "  text-align: left;\n",
       "}\n",
       "\n",
       "span.hldot {\n",
       "\tbackground-color: var(--hl-strong);\n",
       "\tborder: 0.2rem solid var(--hl-rim);\n",
       "\tborder-radius: 0.4rem;\n",
       "\t/*\n",
       "\tdisplay: inline-block;\n",
       "\twidth: 0.8rem;\n",
       "\theight: 0.8rem;\n",
       "\t*/\n",
       "}\n",
       "span.hl {\n",
       "\tbackground-color: var(--hl-strong);\n",
       "\tborder-width: 0;\n",
       "\tborder-radius: 0.1rem;\n",
       "\tborder-style: solid;\n",
       "}\n",
       "\n",
       "span.hlbx {\n",
       "\tborder-color: var(--hl-dark);\n",
       "\tborder-width: 0.1rem;\n",
       "\tborder-style: solid;\n",
       "\tborder-radius: 0.2rem;\n",
       "  padding: 0.2rem;\n",
       "  margin: 0.2rem;\n",
       "}\n",
       "\n",
       "span.plain {\n",
       "  display: inline-block;\n",
       "  white-space: pre-wrap;\n",
       "}\n",
       "\n",
       ":root {\n",
       "\t--hl-strong:        hsla( 60, 100%,  70%, 0.9  );\n",
       "\t--hl-rim:           hsla( 55, 100%,  60%, 0.9  );\n",
       "\t--hl-dark:          hsla( 55, 100%,  40%, 0.9  );\n",
       "}\n",
       "</style>"
      ],
      "text/plain": [
       "<IPython.core.display.HTML object>"
      ]
     },
     "metadata": {},
     "output_type": "display_data"
    },
    {
     "data": {
      "text/html": [
       "<details open><summary><b>API members</b>:</summary>\n",
       "<a target=\"_blank\" href=\"https://annotation.github.io/text-fabric/Api/Computed/#computed-data\" title=\"doc\">C Computed</a>, <a target=\"_blank\" href=\"https://annotation.github.io/text-fabric/Api/Computed/#computed-data\" title=\"doc\">Call AllComputeds</a>, <a target=\"_blank\" href=\"https://annotation.github.io/text-fabric/Api/Computed/#computed-data\" title=\"doc\">Cs ComputedString</a><br/>\n",
       "<a target=\"_blank\" href=\"https://annotation.github.io/text-fabric/Api/Features/#edge-features\" title=\"doc\">E Edge</a>, <a target=\"_blank\" href=\"https://annotation.github.io/text-fabric/Api/Features/#edge-features\" title=\"doc\">Eall AllEdges</a>, <a target=\"_blank\" href=\"https://annotation.github.io/text-fabric/Api/Features/#edge-features\" title=\"doc\">Es EdgeString</a><br/>\n",
       "<a target=\"_blank\" href=\"https://annotation.github.io/text-fabric/Api/Fabric/#loading\" title=\"doc\">ensureLoaded</a>, <a target=\"_blank\" href=\"https://annotation.github.io/text-fabric/Api/Fabric/#loading\" title=\"doc\">TF</a>, <a target=\"_blank\" href=\"https://annotation.github.io/text-fabric/Api/Fabric/#loading\" title=\"doc\">ignored</a>, <a target=\"_blank\" href=\"https://annotation.github.io/text-fabric/Api/Fabric/#loading\" title=\"doc\">loadLog</a><br/>\n",
       "<a target=\"_blank\" href=\"https://annotation.github.io/text-fabric/Api/Locality/#locality\" title=\"doc\">L Locality</a><br/>\n",
       "<a target=\"_blank\" href=\"https://annotation.github.io/text-fabric/Api/Misc/#messaging\" title=\"doc\">cache</a>, <a target=\"_blank\" href=\"https://annotation.github.io/text-fabric/Api/Misc/#messaging\" title=\"doc\">error</a>, <a target=\"_blank\" href=\"https://annotation.github.io/text-fabric/Api/Misc/#messaging\" title=\"doc\">indent</a>, <a target=\"_blank\" href=\"https://annotation.github.io/text-fabric/Api/Misc/#messaging\" title=\"doc\">info</a>, <a target=\"_blank\" href=\"https://annotation.github.io/text-fabric/Api/Misc/#messaging\" title=\"doc\">isSilent</a>, <a target=\"_blank\" href=\"https://annotation.github.io/text-fabric/Api/Misc/#messaging\" title=\"doc\">reset</a>, <a target=\"_blank\" href=\"https://annotation.github.io/text-fabric/Api/Misc/#messaging\" title=\"doc\">setSilent</a>, <a target=\"_blank\" href=\"https://annotation.github.io/text-fabric/Api/Misc/#messaging\" title=\"doc\">silentOff</a>, <a target=\"_blank\" href=\"https://annotation.github.io/text-fabric/Api/Misc/#messaging\" title=\"doc\">silentOn</a>, <a target=\"_blank\" href=\"https://annotation.github.io/text-fabric/Api/Misc/#messaging\" title=\"doc\">warning</a><br/>\n",
       "<a target=\"_blank\" href=\"https://annotation.github.io/text-fabric/Api/Nodes/#navigating-nodes\" title=\"doc\">N Nodes</a>, <a target=\"_blank\" href=\"https://annotation.github.io/text-fabric/Api/Nodes/#navigating-nodes\" title=\"doc\">sortKey</a>, <a target=\"_blank\" href=\"https://annotation.github.io/text-fabric/Api/Nodes/#navigating-nodes\" title=\"doc\">sortKeyTuple</a>, <a target=\"_blank\" href=\"https://annotation.github.io/text-fabric/Api/Nodes/#navigating-nodes\" title=\"doc\">otypeRank</a>, <a target=\"_blank\" href=\"https://annotation.github.io/text-fabric/Api/Nodes/#navigating-nodes\" title=\"doc\">sortNodes</a><br/>\n",
       "<a target=\"_blank\" href=\"https://annotation.github.io/text-fabric/Api/Features/#node-features\" title=\"doc\">F Feature</a>, <a target=\"_blank\" href=\"https://annotation.github.io/text-fabric/Api/Features/#node-features\" title=\"doc\">Fall AllFeatures</a>, <a target=\"_blank\" href=\"https://annotation.github.io/text-fabric/Api/Features/#node-features\" title=\"doc\">Fs FeatureString</a><br/>\n",
       "<a target=\"_blank\" href=\"https://annotation.github.io/text-fabric/Api/Search/#search\" title=\"doc\">S Search</a><br/>\n",
       "<a target=\"_blank\" href=\"https://annotation.github.io/text-fabric/Api/Text/#text\" title=\"doc\">T Text</a></details>"
      ],
      "text/plain": [
       "<IPython.core.display.HTML object>"
      ]
     },
     "metadata": {},
     "output_type": "display_data"
    }
   ],
   "source": [
    "# A = use('syrnt', hoist=globals())\n",
    "A = use('syrnt:clone', checkout=\"clone\", hoist=globals())"
   ]
  },
  {
   "cell_type": "markdown",
   "metadata": {},
   "source": [
    "# Basic search command\n",
    "\n",
    "We start with the most simple form of issuing a query.\n",
    "Let's look for the words in Matthew, chapter 1.\n",
    "\n",
    "All work involved in searching takes place under the hood."
   ]
  },
  {
   "cell_type": "code",
   "execution_count": 4,
   "metadata": {
    "ExecuteTime": {
     "end_time": "2018-05-24T07:46:55.998382Z",
     "start_time": "2018-05-24T07:46:55.137956Z"
    }
   },
   "outputs": [
    {
     "name": "stdout",
     "output_type": "stream",
     "text": [
      "  0.08s 290 results\n"
     ]
    },
    {
     "data": {
      "text/html": [
       "<table>\n",
       "<tr class=\"tf\">\n",
       "  <th class=\"tf\">n</th><th class=\"tf\">p</th>\n",
       "  <th class=\"tf\">book</th><th>chapter</th><th>word</th>\n",
       "</tr>\n",
       "\n",
       "<tr class=\"tf\"><td class=\"tf\">1</td><td class=\"tf\"> <a href=\"https://github.com/etcbc/syrnt/blob/master/plain/0.1/Matthew.txt\" title=\"show this passage in the SyrNT source\" sec=\"Matthew 1\">Matthew 1</a></td><td class=\"tf\"><a href=\"https://github.com/etcbc/syrnt/blob/master/plain/0.1/Matthew.txt\" title=\"show this passage in the SyrNT source\" sec=\"Matthew\">Matthew</a>&nbsp;<span class=\"plain outer  rtl  \" ></span></td><td class=\"tf\"><a href=\"https://github.com/etcbc/syrnt/blob/master/plain/0.1/Matthew.txt\" title=\"show this passage in the SyrNT source\" sec=\"Matthew 1\">Matthew 1</a>&nbsp;<span class=\"plain outer  rtl  \" ></span></td><td class=\"tf\"><span class=\"plain outer  rtl  hl\" ><span class=\"syb\">ܟܬܒܐ </span></span></td></tr>\n",
       "<tr class=\"tf\"><td class=\"tf\">2</td><td class=\"tf\"> <a href=\"https://github.com/etcbc/syrnt/blob/master/plain/0.1/Matthew.txt\" title=\"show this passage in the SyrNT source\" sec=\"Matthew 1\">Matthew 1</a></td><td class=\"tf\"><a href=\"https://github.com/etcbc/syrnt/blob/master/plain/0.1/Matthew.txt\" title=\"show this passage in the SyrNT source\" sec=\"Matthew\">Matthew</a>&nbsp;<span class=\"plain outer  rtl  \" ></span></td><td class=\"tf\"><a href=\"https://github.com/etcbc/syrnt/blob/master/plain/0.1/Matthew.txt\" title=\"show this passage in the SyrNT source\" sec=\"Matthew 1\">Matthew 1</a>&nbsp;<span class=\"plain outer  rtl  \" ></span></td><td class=\"tf\"><span class=\"plain outer  rtl  hl\" ><span class=\"syb\">ܕܝܠܝܕܘܬܗ </span></span></td></tr>\n",
       "<tr class=\"tf\"><td class=\"tf\">3</td><td class=\"tf\"> <a href=\"https://github.com/etcbc/syrnt/blob/master/plain/0.1/Matthew.txt\" title=\"show this passage in the SyrNT source\" sec=\"Matthew 1\">Matthew 1</a></td><td class=\"tf\"><a href=\"https://github.com/etcbc/syrnt/blob/master/plain/0.1/Matthew.txt\" title=\"show this passage in the SyrNT source\" sec=\"Matthew\">Matthew</a>&nbsp;<span class=\"plain outer  rtl  \" ></span></td><td class=\"tf\"><a href=\"https://github.com/etcbc/syrnt/blob/master/plain/0.1/Matthew.txt\" title=\"show this passage in the SyrNT source\" sec=\"Matthew 1\">Matthew 1</a>&nbsp;<span class=\"plain outer  rtl  \" ></span></td><td class=\"tf\"><span class=\"plain outer  rtl  hl\" ><span class=\"syb\">ܕܝܫܘܥ </span></span></td></tr>\n",
       "<tr class=\"tf\"><td class=\"tf\">4</td><td class=\"tf\"> <a href=\"https://github.com/etcbc/syrnt/blob/master/plain/0.1/Matthew.txt\" title=\"show this passage in the SyrNT source\" sec=\"Matthew 1\">Matthew 1</a></td><td class=\"tf\"><a href=\"https://github.com/etcbc/syrnt/blob/master/plain/0.1/Matthew.txt\" title=\"show this passage in the SyrNT source\" sec=\"Matthew\">Matthew</a>&nbsp;<span class=\"plain outer  rtl  \" ></span></td><td class=\"tf\"><a href=\"https://github.com/etcbc/syrnt/blob/master/plain/0.1/Matthew.txt\" title=\"show this passage in the SyrNT source\" sec=\"Matthew 1\">Matthew 1</a>&nbsp;<span class=\"plain outer  rtl  \" ></span></td><td class=\"tf\"><span class=\"plain outer  rtl  hl\" ><span class=\"syb\">ܡܫܝܚܐ </span></span></td></tr>\n",
       "<tr class=\"tf\"><td class=\"tf\">5</td><td class=\"tf\"> <a href=\"https://github.com/etcbc/syrnt/blob/master/plain/0.1/Matthew.txt\" title=\"show this passage in the SyrNT source\" sec=\"Matthew 1\">Matthew 1</a></td><td class=\"tf\"><a href=\"https://github.com/etcbc/syrnt/blob/master/plain/0.1/Matthew.txt\" title=\"show this passage in the SyrNT source\" sec=\"Matthew\">Matthew</a>&nbsp;<span class=\"plain outer  rtl  \" ></span></td><td class=\"tf\"><a href=\"https://github.com/etcbc/syrnt/blob/master/plain/0.1/Matthew.txt\" title=\"show this passage in the SyrNT source\" sec=\"Matthew 1\">Matthew 1</a>&nbsp;<span class=\"plain outer  rtl  \" ></span></td><td class=\"tf\"><span class=\"plain outer  rtl  hl\" ><span class=\"syb\">ܒܪܗ </span></span></td></tr>\n",
       "<tr class=\"tf\"><td class=\"tf\">6</td><td class=\"tf\"> <a href=\"https://github.com/etcbc/syrnt/blob/master/plain/0.1/Matthew.txt\" title=\"show this passage in the SyrNT source\" sec=\"Matthew 1\">Matthew 1</a></td><td class=\"tf\"><a href=\"https://github.com/etcbc/syrnt/blob/master/plain/0.1/Matthew.txt\" title=\"show this passage in the SyrNT source\" sec=\"Matthew\">Matthew</a>&nbsp;<span class=\"plain outer  rtl  \" ></span></td><td class=\"tf\"><a href=\"https://github.com/etcbc/syrnt/blob/master/plain/0.1/Matthew.txt\" title=\"show this passage in the SyrNT source\" sec=\"Matthew 1\">Matthew 1</a>&nbsp;<span class=\"plain outer  rtl  \" ></span></td><td class=\"tf\"><span class=\"plain outer  rtl  hl\" ><span class=\"syb\">ܕܕܘܝܕ </span></span></td></tr>\n",
       "<tr class=\"tf\"><td class=\"tf\">7</td><td class=\"tf\"> <a href=\"https://github.com/etcbc/syrnt/blob/master/plain/0.1/Matthew.txt\" title=\"show this passage in the SyrNT source\" sec=\"Matthew 1\">Matthew 1</a></td><td class=\"tf\"><a href=\"https://github.com/etcbc/syrnt/blob/master/plain/0.1/Matthew.txt\" title=\"show this passage in the SyrNT source\" sec=\"Matthew\">Matthew</a>&nbsp;<span class=\"plain outer  rtl  \" ></span></td><td class=\"tf\"><a href=\"https://github.com/etcbc/syrnt/blob/master/plain/0.1/Matthew.txt\" title=\"show this passage in the SyrNT source\" sec=\"Matthew 1\">Matthew 1</a>&nbsp;<span class=\"plain outer  rtl  \" ></span></td><td class=\"tf\"><span class=\"plain outer  rtl  hl\" ><span class=\"syb\">ܒܪܗ </span></span></td></tr>\n",
       "<tr class=\"tf\"><td class=\"tf\">8</td><td class=\"tf\"> <a href=\"https://github.com/etcbc/syrnt/blob/master/plain/0.1/Matthew.txt\" title=\"show this passage in the SyrNT source\" sec=\"Matthew 1\">Matthew 1</a></td><td class=\"tf\"><a href=\"https://github.com/etcbc/syrnt/blob/master/plain/0.1/Matthew.txt\" title=\"show this passage in the SyrNT source\" sec=\"Matthew\">Matthew</a>&nbsp;<span class=\"plain outer  rtl  \" ></span></td><td class=\"tf\"><a href=\"https://github.com/etcbc/syrnt/blob/master/plain/0.1/Matthew.txt\" title=\"show this passage in the SyrNT source\" sec=\"Matthew 1\">Matthew 1</a>&nbsp;<span class=\"plain outer  rtl  \" ></span></td><td class=\"tf\"><span class=\"plain outer  rtl  hl\" ><span class=\"syb\">ܕܐܒܪܗܡ </span></span></td></tr>\n",
       "<tr class=\"tf\"><td class=\"tf\">9</td><td class=\"tf\"> <a href=\"https://github.com/etcbc/syrnt/blob/master/plain/0.1/Matthew.txt\" title=\"show this passage in the SyrNT source\" sec=\"Matthew 1\">Matthew 1</a></td><td class=\"tf\"><a href=\"https://github.com/etcbc/syrnt/blob/master/plain/0.1/Matthew.txt\" title=\"show this passage in the SyrNT source\" sec=\"Matthew\">Matthew</a>&nbsp;<span class=\"plain outer  rtl  \" ></span></td><td class=\"tf\"><a href=\"https://github.com/etcbc/syrnt/blob/master/plain/0.1/Matthew.txt\" title=\"show this passage in the SyrNT source\" sec=\"Matthew 1\">Matthew 1</a>&nbsp;<span class=\"plain outer  rtl  \" ></span></td><td class=\"tf\"><span class=\"plain outer  rtl  hl\" ><span class=\"syb\">ܐܒܪܗܡ </span></span></td></tr>\n",
       "<tr class=\"tf\"><td class=\"tf\">10</td><td class=\"tf\"> <a href=\"https://github.com/etcbc/syrnt/blob/master/plain/0.1/Matthew.txt\" title=\"show this passage in the SyrNT source\" sec=\"Matthew 1\">Matthew 1</a></td><td class=\"tf\"><a href=\"https://github.com/etcbc/syrnt/blob/master/plain/0.1/Matthew.txt\" title=\"show this passage in the SyrNT source\" sec=\"Matthew\">Matthew</a>&nbsp;<span class=\"plain outer  rtl  \" ></span></td><td class=\"tf\"><a href=\"https://github.com/etcbc/syrnt/blob/master/plain/0.1/Matthew.txt\" title=\"show this passage in the SyrNT source\" sec=\"Matthew 1\">Matthew 1</a>&nbsp;<span class=\"plain outer  rtl  \" ></span></td><td class=\"tf\"><span class=\"plain outer  rtl  hl\" ><span class=\"syb\">ܐܘܠܕ </span></span></td></tr></table>"
      ],
      "text/plain": [
       "<IPython.core.display.HTML object>"
      ]
     },
     "metadata": {},
     "output_type": "display_data"
    }
   ],
   "source": [
    "query = '''\n",
    "book book=Matt\n",
    "  chapter chapter=1\n",
    "    word\n",
    "'''\n",
    "results = A.search(query)\n",
    "A.table(results, end=10)"
   ]
  },
  {
   "cell_type": "markdown",
   "metadata": {},
   "source": [
    "The hyperlinks take us all to the beginning of the book of Matthew.\n",
    "\n",
    "Note that we can choose start and/or end points in the results list."
   ]
  },
  {
   "cell_type": "code",
   "execution_count": 5,
   "metadata": {
    "ExecuteTime": {
     "end_time": "2018-05-24T07:47:03.299872Z",
     "start_time": "2018-05-24T07:47:03.261873Z"
    }
   },
   "outputs": [
    {
     "data": {
      "text/html": [
       "<table>\n",
       "<tr class=\"tf\">\n",
       "  <th class=\"tf\">n</th><th class=\"tf\">p</th>\n",
       "  <th class=\"tf\">book</th><th>chapter</th><th>word</th>\n",
       "</tr>\n",
       "\n",
       "<tr class=\"tf\"><td class=\"tf\">8</td><td class=\"tf\"> <a href=\"https://github.com/etcbc/syrnt/blob/master/plain/0.1/Matthew.txt\" title=\"show this passage in the SyrNT source\" sec=\"Matthew 1:1\">Matthew 1:1</a></td><td class=\"tf\"><a href=\"https://github.com/etcbc/syrnt/blob/master/plain/0.1/Matthew.txt\" title=\"show this passage in the SyrNT source\" sec=\"Matthew\">Matthew</a>&nbsp;<span class=\"plain outer  rtl  \" ></span></td><td class=\"tf\"><a href=\"https://github.com/etcbc/syrnt/blob/master/plain/0.1/Matthew.txt\" title=\"show this passage in the SyrNT source\" sec=\"Matthew 1\">Matthew 1</a>&nbsp;<span class=\"plain outer  rtl  \" ></span></td><td class=\"tf\"><a href=\"https://github.com/etcbc/syrnt/blob/master/plain/0.1/Matthew.txt\" title=\"Matthew 1:1\" sec=\"Matthew 1:1\"><span class=\"plain outer  rtl  hl\" ><span class=\"syb\">ܕܐܒܪܗܡ </span></span></a></td></tr>\n",
       "<tr class=\"tf\"><td class=\"tf\">9</td><td class=\"tf\"> <a href=\"https://github.com/etcbc/syrnt/blob/master/plain/0.1/Matthew.txt\" title=\"show this passage in the SyrNT source\" sec=\"Matthew 1:2\">Matthew 1:2</a></td><td class=\"tf\"><a href=\"https://github.com/etcbc/syrnt/blob/master/plain/0.1/Matthew.txt\" title=\"show this passage in the SyrNT source\" sec=\"Matthew\">Matthew</a>&nbsp;<span class=\"plain outer  rtl  \" ></span></td><td class=\"tf\"><a href=\"https://github.com/etcbc/syrnt/blob/master/plain/0.1/Matthew.txt\" title=\"show this passage in the SyrNT source\" sec=\"Matthew 1\">Matthew 1</a>&nbsp;<span class=\"plain outer  rtl  \" ></span></td><td class=\"tf\"><a href=\"https://github.com/etcbc/syrnt/blob/master/plain/0.1/Matthew.txt\" title=\"Matthew 1:2\" sec=\"Matthew 1:2\"><span class=\"plain outer  rtl  hl\" ><span class=\"syb\">ܐܒܪܗܡ </span></span></a></td></tr>\n",
       "<tr class=\"tf\"><td class=\"tf\">10</td><td class=\"tf\"> <a href=\"https://github.com/etcbc/syrnt/blob/master/plain/0.1/Matthew.txt\" title=\"show this passage in the SyrNT source\" sec=\"Matthew 1:2\">Matthew 1:2</a></td><td class=\"tf\"><a href=\"https://github.com/etcbc/syrnt/blob/master/plain/0.1/Matthew.txt\" title=\"show this passage in the SyrNT source\" sec=\"Matthew\">Matthew</a>&nbsp;<span class=\"plain outer  rtl  \" ></span></td><td class=\"tf\"><a href=\"https://github.com/etcbc/syrnt/blob/master/plain/0.1/Matthew.txt\" title=\"show this passage in the SyrNT source\" sec=\"Matthew 1\">Matthew 1</a>&nbsp;<span class=\"plain outer  rtl  \" ></span></td><td class=\"tf\"><a href=\"https://github.com/etcbc/syrnt/blob/master/plain/0.1/Matthew.txt\" title=\"Matthew 1:2\" sec=\"Matthew 1:2\"><span class=\"plain outer  rtl  hl\" ><span class=\"syb\">ܐܘܠܕ </span></span></a></td></tr>\n",
       "<tr class=\"tf\"><td class=\"tf\">11</td><td class=\"tf\"> <a href=\"https://github.com/etcbc/syrnt/blob/master/plain/0.1/Matthew.txt\" title=\"show this passage in the SyrNT source\" sec=\"Matthew 1:2\">Matthew 1:2</a></td><td class=\"tf\"><a href=\"https://github.com/etcbc/syrnt/blob/master/plain/0.1/Matthew.txt\" title=\"show this passage in the SyrNT source\" sec=\"Matthew\">Matthew</a>&nbsp;<span class=\"plain outer  rtl  \" ></span></td><td class=\"tf\"><a href=\"https://github.com/etcbc/syrnt/blob/master/plain/0.1/Matthew.txt\" title=\"show this passage in the SyrNT source\" sec=\"Matthew 1\">Matthew 1</a>&nbsp;<span class=\"plain outer  rtl  \" ></span></td><td class=\"tf\"><a href=\"https://github.com/etcbc/syrnt/blob/master/plain/0.1/Matthew.txt\" title=\"Matthew 1:2\" sec=\"Matthew 1:2\"><span class=\"plain outer  rtl  hl\" ><span class=\"syb\">ܠܐܝܣܚܩ </span></span></a></td></tr>\n",
       "<tr class=\"tf\"><td class=\"tf\">12</td><td class=\"tf\"> <a href=\"https://github.com/etcbc/syrnt/blob/master/plain/0.1/Matthew.txt\" title=\"show this passage in the SyrNT source\" sec=\"Matthew 1:2\">Matthew 1:2</a></td><td class=\"tf\"><a href=\"https://github.com/etcbc/syrnt/blob/master/plain/0.1/Matthew.txt\" title=\"show this passage in the SyrNT source\" sec=\"Matthew\">Matthew</a>&nbsp;<span class=\"plain outer  rtl  \" ></span></td><td class=\"tf\"><a href=\"https://github.com/etcbc/syrnt/blob/master/plain/0.1/Matthew.txt\" title=\"show this passage in the SyrNT source\" sec=\"Matthew 1\">Matthew 1</a>&nbsp;<span class=\"plain outer  rtl  \" ></span></td><td class=\"tf\"><a href=\"https://github.com/etcbc/syrnt/blob/master/plain/0.1/Matthew.txt\" title=\"Matthew 1:2\" sec=\"Matthew 1:2\"><span class=\"plain outer  rtl  hl\" ><span class=\"syb\">ܐܝܣܚܩ </span></span></a></td></tr>\n",
       "<tr class=\"tf\"><td class=\"tf\">13</td><td class=\"tf\"> <a href=\"https://github.com/etcbc/syrnt/blob/master/plain/0.1/Matthew.txt\" title=\"show this passage in the SyrNT source\" sec=\"Matthew 1:2\">Matthew 1:2</a></td><td class=\"tf\"><a href=\"https://github.com/etcbc/syrnt/blob/master/plain/0.1/Matthew.txt\" title=\"show this passage in the SyrNT source\" sec=\"Matthew\">Matthew</a>&nbsp;<span class=\"plain outer  rtl  \" ></span></td><td class=\"tf\"><a href=\"https://github.com/etcbc/syrnt/blob/master/plain/0.1/Matthew.txt\" title=\"show this passage in the SyrNT source\" sec=\"Matthew 1\">Matthew 1</a>&nbsp;<span class=\"plain outer  rtl  \" ></span></td><td class=\"tf\"><a href=\"https://github.com/etcbc/syrnt/blob/master/plain/0.1/Matthew.txt\" title=\"Matthew 1:2\" sec=\"Matthew 1:2\"><span class=\"plain outer  rtl  hl\" ><span class=\"syb\">ܐܘܠܕ </span></span></a></td></tr></table>"
      ],
      "text/plain": [
       "<IPython.core.display.HTML object>"
      ]
     },
     "metadata": {},
     "output_type": "display_data"
    }
   ],
   "source": [
    "A.table(results, start=8, end=13, linked=3)"
   ]
  },
  {
   "cell_type": "markdown",
   "metadata": {},
   "source": [
    "We can show the results more fully with `show()`."
   ]
  },
  {
   "cell_type": "code",
   "execution_count": 6,
   "metadata": {
    "ExecuteTime": {
     "end_time": "2018-05-24T07:47:06.875859Z",
     "start_time": "2018-05-24T07:47:06.757345Z"
    }
   },
   "outputs": [
    {
     "data": {
      "text/html": [
       "<p><b>result</b> <i>1</i></p>"
      ],
      "text/plain": [
       "<IPython.core.display.HTML object>"
      ]
     },
     "metadata": {},
     "output_type": "display_data"
    },
    {
     "data": {
      "text/html": [
       "<div class=\"outeritem\"><div class=\"book   rtl \" ><div class=\"features\"> <span class=\"book xft\"><span class=\"f\">book=</span>Matt</span></div></div></div>"
      ],
      "text/plain": [
       "<IPython.core.display.HTML object>"
      ]
     },
     "metadata": {},
     "output_type": "display_data"
    },
    {
     "data": {
      "text/html": [
       "<div class=\"outeritem\"><div class=\"chapter   rtl \" ><div class=\"features\"> <span class=\"book xft\"><span class=\"f\">book=</span>Matt</span> <span class=\"chapter xft\"><span class=\"f\">chapter=</span>1</span></div></div></div>"
      ],
      "text/plain": [
       "<IPython.core.display.HTML object>"
      ]
     },
     "metadata": {},
     "output_type": "display_data"
    },
    {
     "data": {
      "text/html": [
       "<div class=\"outeritem\"><div class=\"verse   rtl \" >\n",
       "    <div class=\"vl\">\n",
       "        <div class=\"vrs\"><a href=\"https://github.com/etcbc/syrnt/blob/master/plain/0.1/Matthew.txt\" title=\"show this passage in the SyrNT source\" sec=\"Matthew 1:1\">Matthew 1:1</a></div>\n",
       "        \n",
       "        <div class=\"features\"> <span class=\"book xft\"><span class=\"f\">book=</span>Matt</span> <span class=\"chapter xft\"><span class=\"f\">chapter=</span>1</span></div>\n",
       "    </div>\n",
       "<div class=\"word  hl rtl \" ><div class=\"sy\">ܟܬܒܐ </div><div class=\"features\"> <span class=\"word_etcbc\">KTB></span> <span class=\"lexeme_etcbc\">KTB></span> <span class=\"sp\">noun</span></div></div><div class=\"word   rtl \" ><div class=\"sy\">ܕܝܠܝܕܘܬܗ </div><div class=\"features\"> <span class=\"word_etcbc\">DJLJDWTH</span> <span class=\"lexeme_etcbc\">JLJDWT></span> <span class=\"sp\">noun</span></div></div><div class=\"word   rtl \" ><div class=\"sy\">ܕܝܫܘܥ </div><div class=\"features\"> <span class=\"word_etcbc\">DJCW&lt;</span> <span class=\"lexeme_etcbc\">JCW&lt;</span> <span class=\"sp\">noun</span></div></div><div class=\"word   rtl \" ><div class=\"sy\">ܡܫܝܚܐ </div><div class=\"features\"> <span class=\"word_etcbc\">MCJX></span> <span class=\"lexeme_etcbc\">MCJX></span> <span class=\"sp\">verb</span> <span class=\"vs\">peal</span></div></div><div class=\"word   rtl \" ><div class=\"sy\">ܒܪܗ </div><div class=\"features\"> <span class=\"word_etcbc\">BRH</span> <span class=\"lexeme_etcbc\">BR></span> <span class=\"sp\">noun</span></div></div><div class=\"word   rtl \" ><div class=\"sy\">ܕܕܘܝܕ </div><div class=\"features\"> <span class=\"word_etcbc\">DDWJD</span> <span class=\"lexeme_etcbc\">DWJD</span> <span class=\"sp\">noun</span></div></div><div class=\"word   rtl \" ><div class=\"sy\">ܒܪܗ </div><div class=\"features\"> <span class=\"word_etcbc\">BRH</span> <span class=\"lexeme_etcbc\">BR></span> <span class=\"sp\">noun</span></div></div><div class=\"word   rtl \" ><div class=\"sy\">ܕܐܒܪܗܡ </div><div class=\"features\"> <span class=\"word_etcbc\">D>BRHM</span> <span class=\"lexeme_etcbc\">>BRHM</span> <span class=\"sp\">noun</span></div></div></div></div>"
      ],
      "text/plain": [
       "<IPython.core.display.HTML object>"
      ]
     },
     "metadata": {},
     "output_type": "display_data"
    },
    {
     "data": {
      "text/html": [
       "<p><b>result</b> <i>2</i></p>"
      ],
      "text/plain": [
       "<IPython.core.display.HTML object>"
      ]
     },
     "metadata": {},
     "output_type": "display_data"
    },
    {
     "data": {
      "text/html": [
       "<div class=\"outeritem\"><div class=\"book   rtl \" ><div class=\"features\"> <span class=\"book xft\"><span class=\"f\">book=</span>Matt</span></div></div></div>"
      ],
      "text/plain": [
       "<IPython.core.display.HTML object>"
      ]
     },
     "metadata": {},
     "output_type": "display_data"
    },
    {
     "data": {
      "text/html": [
       "<div class=\"outeritem\"><div class=\"chapter   rtl \" ><div class=\"features\"> <span class=\"book xft\"><span class=\"f\">book=</span>Matt</span> <span class=\"chapter xft\"><span class=\"f\">chapter=</span>1</span></div></div></div>"
      ],
      "text/plain": [
       "<IPython.core.display.HTML object>"
      ]
     },
     "metadata": {},
     "output_type": "display_data"
    },
    {
     "data": {
      "text/html": [
       "<div class=\"outeritem\"><div class=\"verse   rtl \" >\n",
       "    <div class=\"vl\">\n",
       "        <div class=\"vrs\"><a href=\"https://github.com/etcbc/syrnt/blob/master/plain/0.1/Matthew.txt\" title=\"show this passage in the SyrNT source\" sec=\"Matthew 1:1\">Matthew 1:1</a></div>\n",
       "        \n",
       "        <div class=\"features\"> <span class=\"book xft\"><span class=\"f\">book=</span>Matt</span> <span class=\"chapter xft\"><span class=\"f\">chapter=</span>1</span></div>\n",
       "    </div>\n",
       "<div class=\"word   rtl \" ><div class=\"sy\">ܟܬܒܐ </div><div class=\"features\"> <span class=\"word_etcbc\">KTB></span> <span class=\"lexeme_etcbc\">KTB></span> <span class=\"sp\">noun</span></div></div><div class=\"word  hl rtl \" ><div class=\"sy\">ܕܝܠܝܕܘܬܗ </div><div class=\"features\"> <span class=\"word_etcbc\">DJLJDWTH</span> <span class=\"lexeme_etcbc\">JLJDWT></span> <span class=\"sp\">noun</span></div></div><div class=\"word   rtl \" ><div class=\"sy\">ܕܝܫܘܥ </div><div class=\"features\"> <span class=\"word_etcbc\">DJCW&lt;</span> <span class=\"lexeme_etcbc\">JCW&lt;</span> <span class=\"sp\">noun</span></div></div><div class=\"word   rtl \" ><div class=\"sy\">ܡܫܝܚܐ </div><div class=\"features\"> <span class=\"word_etcbc\">MCJX></span> <span class=\"lexeme_etcbc\">MCJX></span> <span class=\"sp\">verb</span> <span class=\"vs\">peal</span></div></div><div class=\"word   rtl \" ><div class=\"sy\">ܒܪܗ </div><div class=\"features\"> <span class=\"word_etcbc\">BRH</span> <span class=\"lexeme_etcbc\">BR></span> <span class=\"sp\">noun</span></div></div><div class=\"word   rtl \" ><div class=\"sy\">ܕܕܘܝܕ </div><div class=\"features\"> <span class=\"word_etcbc\">DDWJD</span> <span class=\"lexeme_etcbc\">DWJD</span> <span class=\"sp\">noun</span></div></div><div class=\"word   rtl \" ><div class=\"sy\">ܒܪܗ </div><div class=\"features\"> <span class=\"word_etcbc\">BRH</span> <span class=\"lexeme_etcbc\">BR></span> <span class=\"sp\">noun</span></div></div><div class=\"word   rtl \" ><div class=\"sy\">ܕܐܒܪܗܡ </div><div class=\"features\"> <span class=\"word_etcbc\">D>BRHM</span> <span class=\"lexeme_etcbc\">>BRHM</span> <span class=\"sp\">noun</span></div></div></div></div>"
      ],
      "text/plain": [
       "<IPython.core.display.HTML object>"
      ]
     },
     "metadata": {},
     "output_type": "display_data"
    },
    {
     "data": {
      "text/html": [
       "<p><b>result</b> <i>3</i></p>"
      ],
      "text/plain": [
       "<IPython.core.display.HTML object>"
      ]
     },
     "metadata": {},
     "output_type": "display_data"
    },
    {
     "data": {
      "text/html": [
       "<div class=\"outeritem\"><div class=\"book   rtl \" ><div class=\"features\"> <span class=\"book xft\"><span class=\"f\">book=</span>Matt</span></div></div></div>"
      ],
      "text/plain": [
       "<IPython.core.display.HTML object>"
      ]
     },
     "metadata": {},
     "output_type": "display_data"
    },
    {
     "data": {
      "text/html": [
       "<div class=\"outeritem\"><div class=\"chapter   rtl \" ><div class=\"features\"> <span class=\"book xft\"><span class=\"f\">book=</span>Matt</span> <span class=\"chapter xft\"><span class=\"f\">chapter=</span>1</span></div></div></div>"
      ],
      "text/plain": [
       "<IPython.core.display.HTML object>"
      ]
     },
     "metadata": {},
     "output_type": "display_data"
    },
    {
     "data": {
      "text/html": [
       "<div class=\"outeritem\"><div class=\"verse   rtl \" >\n",
       "    <div class=\"vl\">\n",
       "        <div class=\"vrs\"><a href=\"https://github.com/etcbc/syrnt/blob/master/plain/0.1/Matthew.txt\" title=\"show this passage in the SyrNT source\" sec=\"Matthew 1:1\">Matthew 1:1</a></div>\n",
       "        \n",
       "        <div class=\"features\"> <span class=\"book xft\"><span class=\"f\">book=</span>Matt</span> <span class=\"chapter xft\"><span class=\"f\">chapter=</span>1</span></div>\n",
       "    </div>\n",
       "<div class=\"word   rtl \" ><div class=\"sy\">ܟܬܒܐ </div><div class=\"features\"> <span class=\"word_etcbc\">KTB></span> <span class=\"lexeme_etcbc\">KTB></span> <span class=\"sp\">noun</span></div></div><div class=\"word   rtl \" ><div class=\"sy\">ܕܝܠܝܕܘܬܗ </div><div class=\"features\"> <span class=\"word_etcbc\">DJLJDWTH</span> <span class=\"lexeme_etcbc\">JLJDWT></span> <span class=\"sp\">noun</span></div></div><div class=\"word  hl rtl \" ><div class=\"sy\">ܕܝܫܘܥ </div><div class=\"features\"> <span class=\"word_etcbc\">DJCW&lt;</span> <span class=\"lexeme_etcbc\">JCW&lt;</span> <span class=\"sp\">noun</span></div></div><div class=\"word   rtl \" ><div class=\"sy\">ܡܫܝܚܐ </div><div class=\"features\"> <span class=\"word_etcbc\">MCJX></span> <span class=\"lexeme_etcbc\">MCJX></span> <span class=\"sp\">verb</span> <span class=\"vs\">peal</span></div></div><div class=\"word   rtl \" ><div class=\"sy\">ܒܪܗ </div><div class=\"features\"> <span class=\"word_etcbc\">BRH</span> <span class=\"lexeme_etcbc\">BR></span> <span class=\"sp\">noun</span></div></div><div class=\"word   rtl \" ><div class=\"sy\">ܕܕܘܝܕ </div><div class=\"features\"> <span class=\"word_etcbc\">DDWJD</span> <span class=\"lexeme_etcbc\">DWJD</span> <span class=\"sp\">noun</span></div></div><div class=\"word   rtl \" ><div class=\"sy\">ܒܪܗ </div><div class=\"features\"> <span class=\"word_etcbc\">BRH</span> <span class=\"lexeme_etcbc\">BR></span> <span class=\"sp\">noun</span></div></div><div class=\"word   rtl \" ><div class=\"sy\">ܕܐܒܪܗܡ </div><div class=\"features\"> <span class=\"word_etcbc\">D>BRHM</span> <span class=\"lexeme_etcbc\">>BRHM</span> <span class=\"sp\">noun</span></div></div></div></div>"
      ],
      "text/plain": [
       "<IPython.core.display.HTML object>"
      ]
     },
     "metadata": {},
     "output_type": "display_data"
    }
   ],
   "source": [
    "A.show(results, start=1, end=3)"
   ]
  },
  {
   "cell_type": "code",
   "execution_count": 7,
   "metadata": {},
   "outputs": [
    {
     "name": "stdout",
     "output_type": "stream",
     "text": [
      "  0.12s 28 results\n"
     ]
    },
    {
     "data": {
      "text/html": [
       "<p><b>result</b> <i>1</i></p>"
      ],
      "text/plain": [
       "<IPython.core.display.HTML object>"
      ]
     },
     "metadata": {},
     "output_type": "display_data"
    },
    {
     "data": {
      "text/html": [
       "<div class=\"outeritem\"><div class=\"verse   rtl \" >\n",
       "    <div class=\"vl\">\n",
       "        <div class=\"vrs\"><a href=\"https://github.com/etcbc/syrnt/blob/master/plain/0.1/Matthew.txt\" title=\"show this passage in the SyrNT source\" sec=\"Matthew 22:29\">Matthew 22:29</a></div>\n",
       "        \n",
       "        <div class=\"features\"></div>\n",
       "    </div>\n",
       "<div class=\"word   rtl \" ><div class=\"sy\">ܥܢܐ </div><div class=\"features\"> <span class=\"word_etcbc\">&lt;N></span> <span class=\"lexeme_etcbc\">&lt;N></span> <span class=\"sp\">verb</span> <span class=\"vs\">peal</span> <span class=\"vt\">perfect</span> <span class=\"nu xft\"><span class=\"f\">nu=</span>s</span></div></div><div class=\"word   rtl \" ><div class=\"sy\">ܝܫܘܥ </div><div class=\"features\"> <span class=\"word_etcbc\">JCW&lt;</span> <span class=\"lexeme_etcbc\">JCW&lt;</span> <span class=\"sp\">noun</span></div></div><div class=\"word   rtl \" ><div class=\"sy\">ܘܐܡܪ </div><div class=\"features\"> <span class=\"word_etcbc\">W>MR</span> <span class=\"lexeme_etcbc\">>MR</span> <span class=\"sp\">verb</span> <span class=\"vs\">peal</span> <span class=\"vt\">perfect</span> <span class=\"nu xft\"><span class=\"f\">nu=</span>s</span></div></div><div class=\"word   rtl \" ><div class=\"sy\">ܠܗܘܢ </div><div class=\"features\"> <span class=\"word_etcbc\">LHWN</span> <span class=\"lexeme_etcbc\">L</span> <span class=\"sp\">particle</span></div></div><div class=\"word   rtl \" ><div class=\"sy\">ܛܥܝܢ </div><div class=\"features\"> <span class=\"word_etcbc\">V&lt;JN</span> <span class=\"lexeme_etcbc\">V&lt;></span> <span class=\"sp\">verb</span> <span class=\"vs\">peal</span> <span class=\"vt\">participle</span> <span class=\"nu xft\"><span class=\"f\">nu=</span>p</span></div></div><div class=\"word   rtl \" ><div class=\"sy\">ܐܢܬܘܢ </div><div class=\"features\"> <span class=\"word_etcbc\">>NTWN</span> <span class=\"lexeme_etcbc\">>NT</span> <span class=\"sp\">pronoun</span> <span class=\"nu xft\"><span class=\"f\">nu=</span>p</span></div></div><div class=\"word   rtl \" ><div class=\"sy\">ܕܠܐ </div><div class=\"features\"> <span class=\"word_etcbc\">DL></span> <span class=\"lexeme_etcbc\">L></span> <span class=\"sp\">particle</span></div></div><div class=\"word   rtl \" ><div class=\"sy\">ܝܕܥܝܢ </div><div class=\"features\"> <span class=\"word_etcbc\">JD&lt;JN</span> <span class=\"lexeme_etcbc\">JD&lt;</span> <span class=\"sp\">verb</span> <span class=\"vs\">peal</span> <span class=\"vt\">participle</span> <span class=\"nu xft\"><span class=\"f\">nu=</span>p</span></div></div><div class=\"word   rtl \" ><div class=\"sy\">ܐܢܬܘܢ </div><div class=\"features\"> <span class=\"word_etcbc\">>NTWN</span> <span class=\"lexeme_etcbc\">>NT</span> <span class=\"sp\">pronoun</span> <span class=\"nu xft\"><span class=\"f\">nu=</span>p</span></div></div><div class=\"word  hl rtl \" ><div class=\"sy\">ܟܬܒܐ </div><div class=\"features\"> <span class=\"word_etcbc\">KTB></span> <span class=\"lexeme_etcbc\">KTB></span> <span class=\"sp\">noun</span> <span class=\"nu xft\"><span class=\"f\">nu=</span>p</span></div></div><div class=\"word   rtl \" ><div class=\"sy\">ܘܠܐ </div><div class=\"features\"> <span class=\"word_etcbc\">WL></span> <span class=\"lexeme_etcbc\">L></span> <span class=\"sp\">particle</span></div></div><div class=\"word   rtl \" ><div class=\"sy\">ܚܝܠܗ </div><div class=\"features\"> <span class=\"word_etcbc\">XJLH</span> <span class=\"lexeme_etcbc\">XJL></span> <span class=\"sp\">noun</span> <span class=\"nu xft\"><span class=\"f\">nu=</span>s</span></div></div><div class=\"word   rtl \" ><div class=\"sy\">ܕܐܠܗܐ </div><div class=\"features\"> <span class=\"word_etcbc\">D>LH></span> <span class=\"lexeme_etcbc\">>LH></span> <span class=\"sp\">noun</span> <span class=\"nu xft\"><span class=\"f\">nu=</span>s</span></div></div></div></div>"
      ],
      "text/plain": [
       "<IPython.core.display.HTML object>"
      ]
     },
     "metadata": {},
     "output_type": "display_data"
    },
    {
     "data": {
      "text/html": [
       "<p><b>result</b> <i>2</i></p>"
      ],
      "text/plain": [
       "<IPython.core.display.HTML object>"
      ]
     },
     "metadata": {},
     "output_type": "display_data"
    },
    {
     "data": {
      "text/html": [
       "<div class=\"outeritem\"><div class=\"verse   rtl \" >\n",
       "    <div class=\"vl\">\n",
       "        <div class=\"vrs\"><a href=\"https://github.com/etcbc/syrnt/blob/master/plain/0.1/Matthew.txt\" title=\"show this passage in the SyrNT source\" sec=\"Matthew 26:54\">Matthew 26:54</a></div>\n",
       "        \n",
       "        <div class=\"features\"></div>\n",
       "    </div>\n",
       "<div class=\"word   rtl \" ><div class=\"sy\">ܐܝܟܢܐ </div><div class=\"features\"> <span class=\"word_etcbc\">>JKN></span> <span class=\"lexeme_etcbc\">>JKN></span> <span class=\"sp\">particle</span></div></div><div class=\"word   rtl \" ><div class=\"sy\">ܗܟܝܠ </div><div class=\"features\"> <span class=\"word_etcbc\">HKJL</span> <span class=\"lexeme_etcbc\">HKJL</span> <span class=\"sp\">particle</span></div></div><div class=\"word   rtl \" ><div class=\"sy\">ܢܬܡܠܘܢ </div><div class=\"features\"> <span class=\"word_etcbc\">NTMLWN</span> <span class=\"lexeme_etcbc\">ML></span> <span class=\"sp\">verb</span> <span class=\"vs\">ethpael</span> <span class=\"vt\">imperfect</span> <span class=\"nu xft\"><span class=\"f\">nu=</span>p</span></div></div><div class=\"word  hl rtl \" ><div class=\"sy\">ܟܬܒܐ </div><div class=\"features\"> <span class=\"word_etcbc\">KTB></span> <span class=\"lexeme_etcbc\">KTB></span> <span class=\"sp\">noun</span> <span class=\"nu xft\"><span class=\"f\">nu=</span>p</span></div></div><div class=\"word   rtl \" ><div class=\"sy\">ܕܗܟܢܐ </div><div class=\"features\"> <span class=\"word_etcbc\">DHKN></span> <span class=\"lexeme_etcbc\">HKN></span> <span class=\"sp\">particle</span></div></div><div class=\"word   rtl \" ><div class=\"sy\">ܘܠܐ </div><div class=\"features\"> <span class=\"word_etcbc\">WL></span> <span class=\"lexeme_etcbc\">WL></span> <span class=\"sp\">adjective</span> <span class=\"vs\">peal</span> <span class=\"vt\">participle</span> <span class=\"nu xft\"><span class=\"f\">nu=</span>s</span></div></div><div class=\"word   rtl \" ><div class=\"sy\">ܕܢܗܘܐ </div><div class=\"features\"> <span class=\"word_etcbc\">DNHW></span> <span class=\"lexeme_etcbc\">HW></span> <span class=\"sp\">verb</span> <span class=\"vs\">peal</span> <span class=\"vt\">imperfect</span> <span class=\"nu xft\"><span class=\"f\">nu=</span>s</span></div></div></div></div>"
      ],
      "text/plain": [
       "<IPython.core.display.HTML object>"
      ]
     },
     "metadata": {},
     "output_type": "display_data"
    },
    {
     "data": {
      "text/html": [
       "<p><b>result</b> <i>3</i></p>"
      ],
      "text/plain": [
       "<IPython.core.display.HTML object>"
      ]
     },
     "metadata": {},
     "output_type": "display_data"
    },
    {
     "data": {
      "text/html": [
       "<div class=\"outeritem\"><div class=\"verse   rtl \" >\n",
       "    <div class=\"vl\">\n",
       "        <div class=\"vrs\"><a href=\"https://github.com/etcbc/syrnt/blob/master/plain/0.1/Matthew.txt\" title=\"show this passage in the SyrNT source\" sec=\"Matthew 26:56\">Matthew 26:56</a></div>\n",
       "        \n",
       "        <div class=\"features\"></div>\n",
       "    </div>\n",
       "<div class=\"word   rtl \" ><div class=\"sy\">ܗܕܐ </div><div class=\"features\"> <span class=\"word_etcbc\">HD></span> <span class=\"lexeme_etcbc\">HN></span> <span class=\"sp\">pronoun</span> <span class=\"nu xft\"><span class=\"f\">nu=</span>s</span></div></div><div class=\"word   rtl \" ><div class=\"sy\">ܕܝܢ </div><div class=\"features\"> <span class=\"word_etcbc\">DJN</span> <span class=\"lexeme_etcbc\">DJN</span> <span class=\"sp\">particle</span></div></div><div class=\"word   rtl \" ><div class=\"sy\">ܕܗܘܬ </div><div class=\"features\"> <span class=\"word_etcbc\">DHWT</span> <span class=\"lexeme_etcbc\">HW></span> <span class=\"sp\">verb</span> <span class=\"vs\">peal</span> <span class=\"vt\">perfect</span> <span class=\"nu xft\"><span class=\"f\">nu=</span>s</span></div></div><div class=\"word   rtl \" ><div class=\"sy\">ܕܢܬܡܠܘܢ </div><div class=\"features\"> <span class=\"word_etcbc\">DNTMLWN</span> <span class=\"lexeme_etcbc\">ML></span> <span class=\"sp\">verb</span> <span class=\"vs\">ethpael</span> <span class=\"vt\">imperfect</span> <span class=\"nu xft\"><span class=\"f\">nu=</span>p</span></div></div><div class=\"word  hl rtl \" ><div class=\"sy\">ܟܬܒܐ </div><div class=\"features\"> <span class=\"word_etcbc\">KTB></span> <span class=\"lexeme_etcbc\">KTB></span> <span class=\"sp\">noun</span> <span class=\"nu xft\"><span class=\"f\">nu=</span>p</span></div></div><div class=\"word   rtl \" ><div class=\"sy\">ܕܢܒܝܐ </div><div class=\"features\"> <span class=\"word_etcbc\">DNBJ></span> <span class=\"lexeme_etcbc\">NBJ></span> <span class=\"sp\">noun</span> <span class=\"nu xft\"><span class=\"f\">nu=</span>p</span></div></div><div class=\"word   rtl \" ><div class=\"sy\">ܗܝܕܝܢ </div><div class=\"features\"> <span class=\"word_etcbc\">HJDJN</span> <span class=\"lexeme_etcbc\">HJDJN</span> <span class=\"sp\">particle</span></div></div><div class=\"word   rtl \" ><div class=\"sy\">ܬܠܡܝܕܐ </div><div class=\"features\"> <span class=\"word_etcbc\">TLMJD></span> <span class=\"lexeme_etcbc\">TLMJD></span> <span class=\"sp\">noun</span> <span class=\"nu xft\"><span class=\"f\">nu=</span>p</span></div></div><div class=\"word   rtl \" ><div class=\"sy\">ܟܠܗܘܢ </div><div class=\"features\"> <span class=\"word_etcbc\">KLHWN</span> <span class=\"lexeme_etcbc\">KL</span> <span class=\"sp\">particle</span></div></div><div class=\"word   rtl \" ><div class=\"sy\">ܫܒܩܘܗܝ </div><div class=\"features\"> <span class=\"word_etcbc\">CBQWHJ</span> <span class=\"lexeme_etcbc\">CBQ</span> <span class=\"sp\">verb</span> <span class=\"vs\">peal</span> <span class=\"vt\">perfect</span> <span class=\"nu xft\"><span class=\"f\">nu=</span>p</span></div></div><div class=\"word   rtl \" ><div class=\"sy\">ܘܥܪܩܘ </div><div class=\"features\"> <span class=\"word_etcbc\">W&lt;RQW</span> <span class=\"lexeme_etcbc\">&lt;RQ</span> <span class=\"sp\">verb</span> <span class=\"vs\">peal</span> <span class=\"vt\">perfect</span> <span class=\"nu xft\"><span class=\"f\">nu=</span>p</span></div></div></div></div>"
      ],
      "text/plain": [
       "<IPython.core.display.HTML object>"
      ]
     },
     "metadata": {},
     "output_type": "display_data"
    },
    {
     "data": {
      "text/html": [
       "<p><b>result</b> <i>4</i></p>"
      ],
      "text/plain": [
       "<IPython.core.display.HTML object>"
      ]
     },
     "metadata": {},
     "output_type": "display_data"
    },
    {
     "data": {
      "text/html": [
       "<div class=\"outeritem\"><div class=\"verse   rtl \" >\n",
       "    <div class=\"vl\">\n",
       "        <div class=\"vrs\"><a href=\"https://github.com/etcbc/syrnt/blob/master/plain/0.1/Mark.txt\" title=\"show this passage in the SyrNT source\" sec=\"Mark 12:24\">Mark 12:24</a></div>\n",
       "        \n",
       "        <div class=\"features\"></div>\n",
       "    </div>\n",
       "<div class=\"word   rtl \" ><div class=\"sy\">ܐܡܪ </div><div class=\"features\"> <span class=\"word_etcbc\">>MR</span> <span class=\"lexeme_etcbc\">>MR</span> <span class=\"sp\">verb</span> <span class=\"vs\">peal</span> <span class=\"vt\">participle</span> <span class=\"nu xft\"><span class=\"f\">nu=</span>s</span></div></div><div class=\"word   rtl \" ><div class=\"sy\">ܠܗܘܢ </div><div class=\"features\"> <span class=\"word_etcbc\">LHWN</span> <span class=\"lexeme_etcbc\">L</span> <span class=\"sp\">particle</span></div></div><div class=\"word   rtl \" ><div class=\"sy\">ܝܫܘܥ </div><div class=\"features\"> <span class=\"word_etcbc\">JCW&lt;</span> <span class=\"lexeme_etcbc\">JCW&lt;</span> <span class=\"sp\">noun</span></div></div><div class=\"word   rtl \" ><div class=\"sy\">ܠܐ </div><div class=\"features\"> <span class=\"word_etcbc\">L></span> <span class=\"lexeme_etcbc\">L></span> <span class=\"sp\">particle</span></div></div><div class=\"word   rtl \" ><div class=\"sy\">ܗܘܐ </div><div class=\"features\"> <span class=\"word_etcbc\">HW></span> <span class=\"lexeme_etcbc\">HW></span> <span class=\"sp\">verb</span> <span class=\"vs\">peal</span> <span class=\"vt\">perfect</span> <span class=\"nu xft\"><span class=\"f\">nu=</span>s</span></div></div><div class=\"word   rtl \" ><div class=\"sy\">ܡܛܠ </div><div class=\"features\"> <span class=\"word_etcbc\">MVL</span> <span class=\"lexeme_etcbc\">MVL</span> <span class=\"sp\">particle</span></div></div><div class=\"word   rtl \" ><div class=\"sy\">ܗܕܐ </div><div class=\"features\"> <span class=\"word_etcbc\">HD></span> <span class=\"lexeme_etcbc\">HN></span> <span class=\"sp\">pronoun</span> <span class=\"nu xft\"><span class=\"f\">nu=</span>s</span></div></div><div class=\"word   rtl \" ><div class=\"sy\">ܛܥܝܢ </div><div class=\"features\"> <span class=\"word_etcbc\">V&lt;JN</span> <span class=\"lexeme_etcbc\">V&lt;></span> <span class=\"sp\">verb</span> <span class=\"vs\">peal</span> <span class=\"vt\">participle</span> <span class=\"nu xft\"><span class=\"f\">nu=</span>p</span></div></div><div class=\"word   rtl \" ><div class=\"sy\">ܐܢܬܘܢ </div><div class=\"features\"> <span class=\"word_etcbc\">>NTWN</span> <span class=\"lexeme_etcbc\">>NT</span> <span class=\"sp\">pronoun</span> <span class=\"nu xft\"><span class=\"f\">nu=</span>p</span></div></div><div class=\"word   rtl \" ><div class=\"sy\">ܕܠܐ </div><div class=\"features\"> <span class=\"word_etcbc\">DL></span> <span class=\"lexeme_etcbc\">L></span> <span class=\"sp\">particle</span></div></div><div class=\"word   rtl \" ><div class=\"sy\">ܝܕܥܝܢ </div><div class=\"features\"> <span class=\"word_etcbc\">JD&lt;JN</span> <span class=\"lexeme_etcbc\">JD&lt;</span> <span class=\"sp\">verb</span> <span class=\"vs\">peal</span> <span class=\"vt\">participle</span> <span class=\"nu xft\"><span class=\"f\">nu=</span>p</span></div></div><div class=\"word   rtl \" ><div class=\"sy\">ܐܢܬܘܢ </div><div class=\"features\"> <span class=\"word_etcbc\">>NTWN</span> <span class=\"lexeme_etcbc\">>NT</span> <span class=\"sp\">pronoun</span> <span class=\"nu xft\"><span class=\"f\">nu=</span>p</span></div></div><div class=\"word  hl rtl \" ><div class=\"sy\">ܟܬܒܐ </div><div class=\"features\"> <span class=\"word_etcbc\">KTB></span> <span class=\"lexeme_etcbc\">KTB></span> <span class=\"sp\">noun</span> <span class=\"nu xft\"><span class=\"f\">nu=</span>p</span></div></div><div class=\"word   rtl \" ><div class=\"sy\">ܘܠܐ </div><div class=\"features\"> <span class=\"word_etcbc\">WL></span> <span class=\"lexeme_etcbc\">L></span> <span class=\"sp\">particle</span></div></div><div class=\"word   rtl \" ><div class=\"sy\">ܚܝܠܗ </div><div class=\"features\"> <span class=\"word_etcbc\">XJLH</span> <span class=\"lexeme_etcbc\">XJL></span> <span class=\"sp\">noun</span> <span class=\"nu xft\"><span class=\"f\">nu=</span>s</span></div></div><div class=\"word   rtl \" ><div class=\"sy\">ܕܐܠܗܐ </div><div class=\"features\"> <span class=\"word_etcbc\">D>LH></span> <span class=\"lexeme_etcbc\">>LH></span> <span class=\"sp\">noun</span> <span class=\"nu xft\"><span class=\"f\">nu=</span>s</span></div></div></div></div>"
      ],
      "text/plain": [
       "<IPython.core.display.HTML object>"
      ]
     },
     "metadata": {},
     "output_type": "display_data"
    },
    {
     "data": {
      "text/html": [
       "<p><b>result</b> <i>5</i></p>"
      ],
      "text/plain": [
       "<IPython.core.display.HTML object>"
      ]
     },
     "metadata": {},
     "output_type": "display_data"
    },
    {
     "data": {
      "text/html": [
       "<div class=\"outeritem\"><div class=\"verse   rtl \" >\n",
       "    <div class=\"vl\">\n",
       "        <div class=\"vrs\"><a href=\"https://github.com/etcbc/syrnt/blob/master/plain/0.1/Mark.txt\" title=\"show this passage in the SyrNT source\" sec=\"Mark 14:49\">Mark 14:49</a></div>\n",
       "        \n",
       "        <div class=\"features\"></div>\n",
       "    </div>\n",
       "<div class=\"word   rtl \" ><div class=\"sy\">ܟܠܝܘܡ </div><div class=\"features\"> <span class=\"word_etcbc\">KLJWM</span> <span class=\"lexeme_etcbc\">KL-JWM</span> <span class=\"sp\">idiom</span> <span class=\"nu xft\"><span class=\"f\">nu=</span>s</span></div></div><div class=\"word   rtl \" ><div class=\"sy\">ܠܘܬܟܘܢ </div><div class=\"features\"> <span class=\"word_etcbc\">LWTKWN</span> <span class=\"lexeme_etcbc\">LWT</span> <span class=\"sp\">particle</span></div></div><div class=\"word   rtl \" ><div class=\"sy\">ܗܘܝܬ </div><div class=\"features\"> <span class=\"word_etcbc\">HWJT</span> <span class=\"lexeme_etcbc\">HW></span> <span class=\"sp\">verb</span> <span class=\"vs\">peal</span> <span class=\"vt\">perfect</span> <span class=\"nu xft\"><span class=\"f\">nu=</span>s</span></div></div><div class=\"word   rtl \" ><div class=\"sy\">ܟܕ </div><div class=\"features\"> <span class=\"word_etcbc\">KD</span> <span class=\"lexeme_etcbc\">KD</span> <span class=\"sp\">particle</span></div></div><div class=\"word   rtl \" ><div class=\"sy\">ܡܠܦ </div><div class=\"features\"> <span class=\"word_etcbc\">MLP</span> <span class=\"lexeme_etcbc\">JLP</span> <span class=\"sp\">verb</span> <span class=\"vs\">pael</span> <span class=\"vt\">participle</span> <span class=\"nu xft\"><span class=\"f\">nu=</span>s</span></div></div><div class=\"word   rtl \" ><div class=\"sy\">ܐܢܐ </div><div class=\"features\"> <span class=\"word_etcbc\">>N></span> <span class=\"lexeme_etcbc\">>N></span> <span class=\"sp\">pronoun</span> <span class=\"nu xft\"><span class=\"f\">nu=</span>s</span></div></div><div class=\"word   rtl \" ><div class=\"sy\">ܒܗܝܟܠܐ </div><div class=\"features\"> <span class=\"word_etcbc\">BHJKL></span> <span class=\"lexeme_etcbc\">HJKL></span> <span class=\"sp\">noun</span> <span class=\"nu xft\"><span class=\"f\">nu=</span>s</span></div></div><div class=\"word   rtl \" ><div class=\"sy\">ܘܠܐ </div><div class=\"features\"> <span class=\"word_etcbc\">WL></span> <span class=\"lexeme_etcbc\">L></span> <span class=\"sp\">particle</span></div></div><div class=\"word   rtl \" ><div class=\"sy\">ܐܚܕܬܘܢܢܝ </div><div class=\"features\"> <span class=\"word_etcbc\">>XDTWNNJ</span> <span class=\"lexeme_etcbc\">>XD</span> <span class=\"sp\">verb</span> <span class=\"vs\">peal</span> <span class=\"vt\">perfect</span> <span class=\"nu xft\"><span class=\"f\">nu=</span>p</span></div></div><div class=\"word   rtl \" ><div class=\"sy\">ܐܠܐ </div><div class=\"features\"> <span class=\"word_etcbc\">>L></span> <span class=\"lexeme_etcbc\">>L></span> <span class=\"sp\">particle</span></div></div><div class=\"word   rtl \" ><div class=\"sy\">ܕܢܫܠܡܘܢ </div><div class=\"features\"> <span class=\"word_etcbc\">DNCLMWN</span> <span class=\"lexeme_etcbc\">CLM</span> <span class=\"sp\">verb</span> <span class=\"vs\">peal</span> <span class=\"vt\">imperfect</span> <span class=\"nu xft\"><span class=\"f\">nu=</span>p</span></div></div><div class=\"word  hl rtl \" ><div class=\"sy\">ܟܬܒܐ </div><div class=\"features\"> <span class=\"word_etcbc\">KTB></span> <span class=\"lexeme_etcbc\">KTB></span> <span class=\"sp\">noun</span> <span class=\"nu xft\"><span class=\"f\">nu=</span>p</span></div></div><div class=\"word   rtl \" ><div class=\"sy\">ܗܘܬ </div><div class=\"features\"> <span class=\"word_etcbc\">HWT</span> <span class=\"lexeme_etcbc\">HW></span> <span class=\"sp\">verb</span> <span class=\"vs\">peal</span> <span class=\"vt\">perfect</span> <span class=\"nu xft\"><span class=\"f\">nu=</span>s</span></div></div><div class=\"word   rtl \" ><div class=\"sy\">ܗܕܐ </div><div class=\"features\"> <span class=\"word_etcbc\">HD></span> <span class=\"lexeme_etcbc\">HN></span> <span class=\"sp\">pronoun</span> <span class=\"nu xft\"><span class=\"f\">nu=</span>s</span></div></div></div></div>"
      ],
      "text/plain": [
       "<IPython.core.display.HTML object>"
      ]
     },
     "metadata": {},
     "output_type": "display_data"
    },
    {
     "data": {
      "text/html": [
       "<p><b>result</b> <i>6</i></p>"
      ],
      "text/plain": [
       "<IPython.core.display.HTML object>"
      ]
     },
     "metadata": {},
     "output_type": "display_data"
    },
    {
     "data": {
      "text/html": [
       "<div class=\"outeritem\"><div class=\"verse   rtl \" >\n",
       "    <div class=\"vl\">\n",
       "        <div class=\"vrs\"><a href=\"https://github.com/etcbc/syrnt/blob/master/plain/0.1/Luke.txt\" title=\"show this passage in the SyrNT source\" sec=\"Luke 24:27\">Luke 24:27</a></div>\n",
       "        \n",
       "        <div class=\"features\"></div>\n",
       "    </div>\n",
       "<div class=\"word   rtl \" ><div class=\"sy\">ܘܫܪܝ </div><div class=\"features\"> <span class=\"word_etcbc\">WCRJ</span> <span class=\"lexeme_etcbc\">CR></span> <span class=\"sp\">verb</span> <span class=\"vs\">pael</span> <span class=\"vt\">perfect</span> <span class=\"nu xft\"><span class=\"f\">nu=</span>s</span></div></div><div class=\"word   rtl \" ><div class=\"sy\">ܗܘܐ </div><div class=\"features\"> <span class=\"word_etcbc\">HW></span> <span class=\"lexeme_etcbc\">HW></span> <span class=\"sp\">verb</span> <span class=\"vs\">peal</span> <span class=\"vt\">perfect</span> <span class=\"nu xft\"><span class=\"f\">nu=</span>s</span></div></div><div class=\"word   rtl \" ><div class=\"sy\">ܡܢ </div><div class=\"features\"> <span class=\"word_etcbc\">MN</span> <span class=\"lexeme_etcbc\">MN</span> <span class=\"sp\">particle</span></div></div><div class=\"word   rtl \" ><div class=\"sy\">ܡܘܫܐ </div><div class=\"features\"> <span class=\"word_etcbc\">MWC></span> <span class=\"lexeme_etcbc\">MWC></span> <span class=\"sp\">noun</span></div></div><div class=\"word   rtl \" ><div class=\"sy\">ܘܡܢ </div><div class=\"features\"> <span class=\"word_etcbc\">WMN</span> <span class=\"lexeme_etcbc\">MN</span> <span class=\"sp\">particle</span></div></div><div class=\"word   rtl \" ><div class=\"sy\">ܟܠܗܘܢ </div><div class=\"features\"> <span class=\"word_etcbc\">KLHWN</span> <span class=\"lexeme_etcbc\">KL</span> <span class=\"sp\">particle</span></div></div><div class=\"word   rtl \" ><div class=\"sy\">ܢܒܝܐ </div><div class=\"features\"> <span class=\"word_etcbc\">NBJ></span> <span class=\"lexeme_etcbc\">NBJ></span> <span class=\"sp\">noun</span> <span class=\"nu xft\"><span class=\"f\">nu=</span>p</span></div></div><div class=\"word   rtl \" ><div class=\"sy\">ܘܡܦܫܩ </div><div class=\"features\"> <span class=\"word_etcbc\">WMPCQ</span> <span class=\"lexeme_etcbc\">PCQ</span> <span class=\"sp\">verb</span> <span class=\"vs\">pael</span> <span class=\"vt\">participle</span> <span class=\"nu xft\"><span class=\"f\">nu=</span>s</span></div></div><div class=\"word   rtl \" ><div class=\"sy\">ܗܘܐ </div><div class=\"features\"> <span class=\"word_etcbc\">HW></span> <span class=\"lexeme_etcbc\">HW></span> <span class=\"sp\">verb</span> <span class=\"vs\">peal</span> <span class=\"vt\">perfect</span> <span class=\"nu xft\"><span class=\"f\">nu=</span>s</span></div></div><div class=\"word   rtl \" ><div class=\"sy\">ܠܗܘܢ </div><div class=\"features\"> <span class=\"word_etcbc\">LHWN</span> <span class=\"lexeme_etcbc\">L</span> <span class=\"sp\">particle</span></div></div><div class=\"word   rtl \" ><div class=\"sy\">ܥܠ </div><div class=\"features\"> <span class=\"word_etcbc\">&lt;L</span> <span class=\"lexeme_etcbc\">&lt;L</span> <span class=\"sp\">particle</span></div></div><div class=\"word   rtl \" ><div class=\"sy\">ܢܦܫܗ </div><div class=\"features\"> <span class=\"word_etcbc\">NPCH</span> <span class=\"lexeme_etcbc\">NPC></span> <span class=\"sp\">noun</span> <span class=\"nu xft\"><span class=\"f\">nu=</span>s</span></div></div><div class=\"word   rtl \" ><div class=\"sy\">ܡܢ </div><div class=\"features\"> <span class=\"word_etcbc\">MN</span> <span class=\"lexeme_etcbc\">MN</span> <span class=\"sp\">particle</span></div></div><div class=\"word   rtl \" ><div class=\"sy\">ܟܠܗܘܢ </div><div class=\"features\"> <span class=\"word_etcbc\">KLHWN</span> <span class=\"lexeme_etcbc\">KL</span> <span class=\"sp\">particle</span></div></div><div class=\"word  hl rtl \" ><div class=\"sy\">ܟܬܒܐ </div><div class=\"features\"> <span class=\"word_etcbc\">KTB></span> <span class=\"lexeme_etcbc\">KTB></span> <span class=\"sp\">noun</span> <span class=\"nu xft\"><span class=\"f\">nu=</span>p</span></div></div></div></div>"
      ],
      "text/plain": [
       "<IPython.core.display.HTML object>"
      ]
     },
     "metadata": {},
     "output_type": "display_data"
    },
    {
     "data": {
      "text/html": [
       "<p><b>result</b> <i>7</i></p>"
      ],
      "text/plain": [
       "<IPython.core.display.HTML object>"
      ]
     },
     "metadata": {},
     "output_type": "display_data"
    },
    {
     "data": {
      "text/html": [
       "<div class=\"outeritem\"><div class=\"verse   rtl \" >\n",
       "    <div class=\"vl\">\n",
       "        <div class=\"vrs\"><a href=\"https://github.com/etcbc/syrnt/blob/master/plain/0.1/Luke.txt\" title=\"show this passage in the SyrNT source\" sec=\"Luke 24:32\">Luke 24:32</a></div>\n",
       "        \n",
       "        <div class=\"features\"></div>\n",
       "    </div>\n",
       "<div class=\"word   rtl \" ><div class=\"sy\">ܘܐܡܪܝܢ </div><div class=\"features\"> <span class=\"word_etcbc\">W>MRJN</span> <span class=\"lexeme_etcbc\">>MR</span> <span class=\"sp\">verb</span> <span class=\"vs\">peal</span> <span class=\"vt\">participle</span> <span class=\"nu xft\"><span class=\"f\">nu=</span>p</span></div></div><div class=\"word   rtl \" ><div class=\"sy\">ܗܘܘ </div><div class=\"features\"> <span class=\"word_etcbc\">HWW</span> <span class=\"lexeme_etcbc\">HW></span> <span class=\"sp\">verb</span> <span class=\"vs\">peal</span> <span class=\"vt\">perfect</span> <span class=\"nu xft\"><span class=\"f\">nu=</span>p</span></div></div><div class=\"word   rtl \" ><div class=\"sy\">ܚܕ </div><div class=\"features\"> <span class=\"word_etcbc\">XD</span> <span class=\"lexeme_etcbc\">XD</span> <span class=\"sp\">numeral</span></div></div><div class=\"word   rtl \" ><div class=\"sy\">ܠܚܕ </div><div class=\"features\"> <span class=\"word_etcbc\">LXD</span> <span class=\"lexeme_etcbc\">XD</span> <span class=\"sp\">numeral</span></div></div><div class=\"word   rtl \" ><div class=\"sy\">ܠܐ </div><div class=\"features\"> <span class=\"word_etcbc\">L></span> <span class=\"lexeme_etcbc\">L></span> <span class=\"sp\">particle</span></div></div><div class=\"word   rtl \" ><div class=\"sy\">ܗܘܐ </div><div class=\"features\"> <span class=\"word_etcbc\">HW></span> <span class=\"lexeme_etcbc\">HW></span> <span class=\"sp\">verb</span> <span class=\"vs\">peal</span> <span class=\"vt\">perfect</span> <span class=\"nu xft\"><span class=\"f\">nu=</span>s</span></div></div><div class=\"word   rtl \" ><div class=\"sy\">ܠܒܢ </div><div class=\"features\"> <span class=\"word_etcbc\">LBN</span> <span class=\"lexeme_etcbc\">LB></span> <span class=\"sp\">noun</span> <span class=\"nu xft\"><span class=\"f\">nu=</span>s</span></div></div><div class=\"word   rtl \" ><div class=\"sy\">ܝܩܝܪ </div><div class=\"features\"> <span class=\"word_etcbc\">JQJR</span> <span class=\"lexeme_etcbc\">JQJR></span> <span class=\"sp\">adjective</span> <span class=\"nu xft\"><span class=\"f\">nu=</span>s</span></div></div><div class=\"word   rtl \" ><div class=\"sy\">ܗܘܐ </div><div class=\"features\"> <span class=\"word_etcbc\">HW></span> <span class=\"lexeme_etcbc\">HW></span> <span class=\"sp\">verb</span> <span class=\"vs\">peal</span> <span class=\"vt\">perfect</span> <span class=\"nu xft\"><span class=\"f\">nu=</span>s</span></div></div><div class=\"word   rtl \" ><div class=\"sy\">ܒܓܘܢ </div><div class=\"features\"> <span class=\"word_etcbc\">BGWN</span> <span class=\"lexeme_etcbc\">GW</span> <span class=\"sp\">particle</span></div></div><div class=\"word   rtl \" ><div class=\"sy\">ܟܕ </div><div class=\"features\"> <span class=\"word_etcbc\">KD</span> <span class=\"lexeme_etcbc\">KD</span> <span class=\"sp\">particle</span></div></div><div class=\"word   rtl \" ><div class=\"sy\">ܡܡܠܠ </div><div class=\"features\"> <span class=\"word_etcbc\">MMLL</span> <span class=\"lexeme_etcbc\">ML</span> <span class=\"sp\">verb</span> <span class=\"vs\">pael</span> <span class=\"vt\">participle</span> <span class=\"nu xft\"><span class=\"f\">nu=</span>s</span></div></div><div class=\"word   rtl \" ><div class=\"sy\">ܥܡܢ </div><div class=\"features\"> <span class=\"word_etcbc\">&lt;MN</span> <span class=\"lexeme_etcbc\">&lt;M</span> <span class=\"sp\">particle</span></div></div><div class=\"word   rtl \" ><div class=\"sy\">ܒܐܘܪܚܐ </div><div class=\"features\"> <span class=\"word_etcbc\">B>WRX></span> <span class=\"lexeme_etcbc\">>WRX></span> <span class=\"sp\">noun</span> <span class=\"nu xft\"><span class=\"f\">nu=</span>s</span></div></div><div class=\"word   rtl \" ><div class=\"sy\">ܘܡܦܫܩ </div><div class=\"features\"> <span class=\"word_etcbc\">WMPCQ</span> <span class=\"lexeme_etcbc\">PCQ</span> <span class=\"sp\">verb</span> <span class=\"vs\">pael</span> <span class=\"vt\">participle</span> <span class=\"nu xft\"><span class=\"f\">nu=</span>s</span></div></div><div class=\"word   rtl \" ><div class=\"sy\">ܠܢ </div><div class=\"features\"> <span class=\"word_etcbc\">LN</span> <span class=\"lexeme_etcbc\">L</span> <span class=\"sp\">particle</span></div></div><div class=\"word  hl rtl \" ><div class=\"sy\">ܟܬܒܐ </div><div class=\"features\"> <span class=\"word_etcbc\">KTB></span> <span class=\"lexeme_etcbc\">KTB></span> <span class=\"sp\">noun</span> <span class=\"nu xft\"><span class=\"f\">nu=</span>p</span></div></div></div></div>"
      ],
      "text/plain": [
       "<IPython.core.display.HTML object>"
      ]
     },
     "metadata": {},
     "output_type": "display_data"
    },
    {
     "data": {
      "text/html": [
       "<p><b>result</b> <i>8</i></p>"
      ],
      "text/plain": [
       "<IPython.core.display.HTML object>"
      ]
     },
     "metadata": {},
     "output_type": "display_data"
    },
    {
     "data": {
      "text/html": [
       "<div class=\"outeritem\"><div class=\"verse   rtl \" >\n",
       "    <div class=\"vl\">\n",
       "        <div class=\"vrs\"><a href=\"https://github.com/etcbc/syrnt/blob/master/plain/0.1/Luke.txt\" title=\"show this passage in the SyrNT source\" sec=\"Luke 24:45\">Luke 24:45</a></div>\n",
       "        \n",
       "        <div class=\"features\"></div>\n",
       "    </div>\n",
       "<div class=\"word   rtl \" ><div class=\"sy\">ܗܝܕܝܢ </div><div class=\"features\"> <span class=\"word_etcbc\">HJDJN</span> <span class=\"lexeme_etcbc\">HJDJN</span> <span class=\"sp\">particle</span></div></div><div class=\"word   rtl \" ><div class=\"sy\">ܦܬܚ </div><div class=\"features\"> <span class=\"word_etcbc\">PTX</span> <span class=\"lexeme_etcbc\">PTX</span> <span class=\"sp\">verb</span> <span class=\"vs\">peal</span> <span class=\"vt\">perfect</span> <span class=\"nu xft\"><span class=\"f\">nu=</span>s</span></div></div><div class=\"word   rtl \" ><div class=\"sy\">ܪܥܝܢܗܘܢ </div><div class=\"features\"> <span class=\"word_etcbc\">R&lt;JNHWN</span> <span class=\"lexeme_etcbc\">R&lt;JN></span> <span class=\"sp\">noun</span> <span class=\"nu xft\"><span class=\"f\">nu=</span>s</span></div></div><div class=\"word   rtl \" ><div class=\"sy\">ܠܡܣܬܟܠܘ </div><div class=\"features\"> <span class=\"word_etcbc\">LMSTKLW</span> <span class=\"lexeme_etcbc\">SKL</span> <span class=\"sp\">verb</span> <span class=\"vs\">ethpael</span> <span class=\"vt\">infinitive</span></div></div><div class=\"word  hl rtl \" ><div class=\"sy\">ܟܬܒܐ </div><div class=\"features\"> <span class=\"word_etcbc\">KTB></span> <span class=\"lexeme_etcbc\">KTB></span> <span class=\"sp\">noun</span> <span class=\"nu xft\"><span class=\"f\">nu=</span>p</span></div></div></div></div>"
      ],
      "text/plain": [
       "<IPython.core.display.HTML object>"
      ]
     },
     "metadata": {},
     "output_type": "display_data"
    },
    {
     "data": {
      "text/html": [
       "<p><b>result</b> <i>9</i></p>"
      ],
      "text/plain": [
       "<IPython.core.display.HTML object>"
      ]
     },
     "metadata": {},
     "output_type": "display_data"
    },
    {
     "data": {
      "text/html": [
       "<div class=\"outeritem\"><div class=\"verse   rtl \" >\n",
       "    <div class=\"vl\">\n",
       "        <div class=\"vrs\"><a href=\"https://github.com/etcbc/syrnt/blob/master/plain/0.1/John.txt\" title=\"show this passage in the SyrNT source\" sec=\"John 2:22\">John 2:22</a></div>\n",
       "        \n",
       "        <div class=\"features\"></div>\n",
       "    </div>\n",
       "<div class=\"word   rtl \" ><div class=\"sy\">ܟܕ </div><div class=\"features\"> <span class=\"word_etcbc\">KD</span> <span class=\"lexeme_etcbc\">KD</span> <span class=\"sp\">particle</span></div></div><div class=\"word   rtl \" ><div class=\"sy\">ܩܡ </div><div class=\"features\"> <span class=\"word_etcbc\">QM</span> <span class=\"lexeme_etcbc\">QM</span> <span class=\"sp\">verb</span> <span class=\"vs\">peal</span> <span class=\"vt\">perfect</span> <span class=\"nu xft\"><span class=\"f\">nu=</span>s</span></div></div><div class=\"word   rtl \" ><div class=\"sy\">ܕܝܢ </div><div class=\"features\"> <span class=\"word_etcbc\">DJN</span> <span class=\"lexeme_etcbc\">DJN</span> <span class=\"sp\">particle</span></div></div><div class=\"word   rtl \" ><div class=\"sy\">ܡܢ </div><div class=\"features\"> <span class=\"word_etcbc\">MN</span> <span class=\"lexeme_etcbc\">MN</span> <span class=\"sp\">particle</span></div></div><div class=\"word   rtl \" ><div class=\"sy\">ܒܝܬ </div><div class=\"features\"> <span class=\"word_etcbc\">BJT</span> <span class=\"lexeme_etcbc\">BJT></span> <span class=\"sp\">noun</span> <span class=\"nu xft\"><span class=\"f\">nu=</span>s</span></div></div><div class=\"word   rtl \" ><div class=\"sy\">ܡܝܬܐ </div><div class=\"features\"> <span class=\"word_etcbc\">MJT></span> <span class=\"lexeme_etcbc\">MJT></span> <span class=\"sp\">verb</span> <span class=\"vs\">peal</span> <span class=\"nu xft\"><span class=\"f\">nu=</span>p</span></div></div><div class=\"word   rtl \" ><div class=\"sy\">ܐܬܕܟܪܘ </div><div class=\"features\"> <span class=\"word_etcbc\">>TDKRW</span> <span class=\"lexeme_etcbc\">DKR</span> <span class=\"sp\">verb</span> <span class=\"vs\">ethpeal</span> <span class=\"vt\">perfect</span> <span class=\"nu xft\"><span class=\"f\">nu=</span>p</span></div></div><div class=\"word   rtl \" ><div class=\"sy\">ܬܠܡܝܕܘܗܝ </div><div class=\"features\"> <span class=\"word_etcbc\">TLMJDWHJ</span> <span class=\"lexeme_etcbc\">TLMJD></span> <span class=\"sp\">noun</span> <span class=\"nu xft\"><span class=\"f\">nu=</span>p</span></div></div><div class=\"word   rtl \" ><div class=\"sy\">ܕܗܕܐ </div><div class=\"features\"> <span class=\"word_etcbc\">DHD></span> <span class=\"lexeme_etcbc\">HN></span> <span class=\"sp\">pronoun</span> <span class=\"nu xft\"><span class=\"f\">nu=</span>s</span></div></div><div class=\"word   rtl \" ><div class=\"sy\">ܐܡܪ </div><div class=\"features\"> <span class=\"word_etcbc\">>MR</span> <span class=\"lexeme_etcbc\">>MR</span> <span class=\"sp\">verb</span> <span class=\"vs\">peal</span> <span class=\"vt\">perfect</span> <span class=\"nu xft\"><span class=\"f\">nu=</span>s</span></div></div><div class=\"word   rtl \" ><div class=\"sy\">ܗܘܐ </div><div class=\"features\"> <span class=\"word_etcbc\">HW></span> <span class=\"lexeme_etcbc\">HW></span> <span class=\"sp\">verb</span> <span class=\"vs\">peal</span> <span class=\"vt\">perfect</span> <span class=\"nu xft\"><span class=\"f\">nu=</span>s</span></div></div><div class=\"word   rtl \" ><div class=\"sy\">ܘܗܝܡܢܘ </div><div class=\"features\"> <span class=\"word_etcbc\">WHJMNW</span> <span class=\"lexeme_etcbc\">HJMN</span> <span class=\"sp\">verb</span> <span class=\"vs\">paiel</span> <span class=\"vt\">perfect</span> <span class=\"nu xft\"><span class=\"f\">nu=</span>p</span></div></div><div class=\"word  hl rtl \" ><div class=\"sy\">ܠܟܬܒܐ </div><div class=\"features\"> <span class=\"word_etcbc\">LKTB></span> <span class=\"lexeme_etcbc\">KTB></span> <span class=\"sp\">noun</span> <span class=\"nu xft\"><span class=\"f\">nu=</span>p</span></div></div><div class=\"word   rtl \" ><div class=\"sy\">ܘܠܡܠܬܐ </div><div class=\"features\"> <span class=\"word_etcbc\">WLMLT></span> <span class=\"lexeme_etcbc\">MLT></span> <span class=\"sp\">noun</span> <span class=\"nu xft\"><span class=\"f\">nu=</span>s</span></div></div><div class=\"word   rtl \" ><div class=\"sy\">ܕܐܡܪ </div><div class=\"features\"> <span class=\"word_etcbc\">D>MR</span> <span class=\"lexeme_etcbc\">>MR</span> <span class=\"sp\">verb</span> <span class=\"vs\">peal</span> <span class=\"vt\">perfect</span> <span class=\"nu xft\"><span class=\"f\">nu=</span>s</span></div></div><div class=\"word   rtl \" ><div class=\"sy\">ܝܫܘܥ </div><div class=\"features\"> <span class=\"word_etcbc\">JCW&lt;</span> <span class=\"lexeme_etcbc\">JCW&lt;</span> <span class=\"sp\">noun</span></div></div></div></div>"
      ],
      "text/plain": [
       "<IPython.core.display.HTML object>"
      ]
     },
     "metadata": {},
     "output_type": "display_data"
    },
    {
     "data": {
      "text/html": [
       "<p><b>result</b> <i>10</i></p>"
      ],
      "text/plain": [
       "<IPython.core.display.HTML object>"
      ]
     },
     "metadata": {},
     "output_type": "display_data"
    },
    {
     "data": {
      "text/html": [
       "<div class=\"outeritem\"><div class=\"verse   rtl \" >\n",
       "    <div class=\"vl\">\n",
       "        <div class=\"vrs\"><a href=\"https://github.com/etcbc/syrnt/blob/master/plain/0.1/John.txt\" title=\"show this passage in the SyrNT source\" sec=\"John 5:39\">John 5:39</a></div>\n",
       "        \n",
       "        <div class=\"features\"></div>\n",
       "    </div>\n",
       "<div class=\"word   rtl \" ><div class=\"sy\">ܒܨܘ </div><div class=\"features\"> <span class=\"word_etcbc\">BYW</span> <span class=\"lexeme_etcbc\">BY></span> <span class=\"sp\">verb</span> <span class=\"vs\">peal</span> <span class=\"vt\">imperative</span> <span class=\"nu xft\"><span class=\"f\">nu=</span>p</span></div></div><div class=\"word  hl rtl \" ><div class=\"sy\">ܟܬܒܐ </div><div class=\"features\"> <span class=\"word_etcbc\">KTB></span> <span class=\"lexeme_etcbc\">KTB></span> <span class=\"sp\">noun</span> <span class=\"nu xft\"><span class=\"f\">nu=</span>p</span></div></div><div class=\"word   rtl \" ><div class=\"sy\">ܕܒܗܘܢ </div><div class=\"features\"> <span class=\"word_etcbc\">DBHWN</span> <span class=\"lexeme_etcbc\">B</span> <span class=\"sp\">particle</span></div></div><div class=\"word   rtl \" ><div class=\"sy\">ܡܣܒܪܝܢ </div><div class=\"features\"> <span class=\"word_etcbc\">MSBRJN</span> <span class=\"lexeme_etcbc\">SBR</span> <span class=\"sp\">verb</span> <span class=\"vs\">aphel</span> <span class=\"vt\">participle</span> <span class=\"nu xft\"><span class=\"f\">nu=</span>p</span></div></div><div class=\"word   rtl \" ><div class=\"sy\">ܐܢܬܘܢ </div><div class=\"features\"> <span class=\"word_etcbc\">>NTWN</span> <span class=\"lexeme_etcbc\">>NT</span> <span class=\"sp\">pronoun</span> <span class=\"nu xft\"><span class=\"f\">nu=</span>p</span></div></div><div class=\"word   rtl \" ><div class=\"sy\">ܕܚܝܐ </div><div class=\"features\"> <span class=\"word_etcbc\">DXJ></span> <span class=\"lexeme_etcbc\">XJ></span> <span class=\"sp\">noun</span> <span class=\"nu xft\"><span class=\"f\">nu=</span>p</span></div></div><div class=\"word   rtl \" ><div class=\"sy\">ܕܠܥܠܡ </div><div class=\"features\"> <span class=\"word_etcbc\">DL&lt;LM</span> <span class=\"lexeme_etcbc\">&lt;LM></span> <span class=\"sp\">noun</span> <span class=\"nu xft\"><span class=\"f\">nu=</span>s</span></div></div><div class=\"word   rtl \" ><div class=\"sy\">ܐܝܬ </div><div class=\"features\"> <span class=\"word_etcbc\">>JT</span> <span class=\"lexeme_etcbc\">>JT</span> <span class=\"sp\">noun</span></div></div><div class=\"word   rtl \" ><div class=\"sy\">ܠܟܘܢ </div><div class=\"features\"> <span class=\"word_etcbc\">LKWN</span> <span class=\"lexeme_etcbc\">L</span> <span class=\"sp\">particle</span></div></div><div class=\"word   rtl \" ><div class=\"sy\">ܘܗܢܘܢ </div><div class=\"features\"> <span class=\"word_etcbc\">WHNWN</span> <span class=\"lexeme_etcbc\">HW</span> <span class=\"sp\">pronoun</span> <span class=\"nu xft\"><span class=\"f\">nu=</span>p</span></div></div><div class=\"word   rtl \" ><div class=\"sy\">ܣܗܕܝܢ </div><div class=\"features\"> <span class=\"word_etcbc\">SHDJN</span> <span class=\"lexeme_etcbc\">SHD</span> <span class=\"sp\">verb</span> <span class=\"vs\">peal</span> <span class=\"vt\">participle</span> <span class=\"nu xft\"><span class=\"f\">nu=</span>p</span></div></div><div class=\"word   rtl \" ><div class=\"sy\">ܥܠܝ </div><div class=\"features\"> <span class=\"word_etcbc\">&lt;LJ</span> <span class=\"lexeme_etcbc\">&lt;L</span> <span class=\"sp\">particle</span></div></div></div></div>"
      ],
      "text/plain": [
       "<IPython.core.display.HTML object>"
      ]
     },
     "metadata": {},
     "output_type": "display_data"
    }
   ],
   "source": [
    "query = '''\n",
    "word lexeme_etcbc=KTB> nu=p\n",
    "'''\n",
    "results = A.search(query)\n",
    "A.show(results, end=10)"
   ]
  },
  {
   "cell_type": "code",
   "execution_count": 8,
   "metadata": {},
   "outputs": [
    {
     "data": {
      "text/html": [
       "<table>\n",
       "<tr class=\"tf\">\n",
       "  <th class=\"tf\">n</th><th class=\"tf\">p</th>\n",
       "  <th class=\"tf\">word</th>\n",
       "</tr>\n",
       "\n",
       "<tr class=\"tf\"><td class=\"tf\">1</td><td class=\"tf\"> <a href=\"https://github.com/etcbc/syrnt/blob/master/plain/0.1/Matthew.txt\" title=\"show this passage in the SyrNT source\" sec=\"Matthew 22:29\">Matthew 22:29</a></td><td class=\"tf\"><a href=\"https://github.com/etcbc/syrnt/blob/master/plain/0.1/Matthew.txt\" title=\"Matthew 22:29\" sec=\"Matthew 22:29\"><span class=\"plain outer  rtl  hl\" ><span class=\"syb\">ܟܬܒܐ </span></span></a></td></tr>\n",
       "<tr class=\"tf\"><td class=\"tf\">2</td><td class=\"tf\"> <a href=\"https://github.com/etcbc/syrnt/blob/master/plain/0.1/Matthew.txt\" title=\"show this passage in the SyrNT source\" sec=\"Matthew 26:54\">Matthew 26:54</a></td><td class=\"tf\"><a href=\"https://github.com/etcbc/syrnt/blob/master/plain/0.1/Matthew.txt\" title=\"Matthew 26:54\" sec=\"Matthew 26:54\"><span class=\"plain outer  rtl  hl\" ><span class=\"syb\">ܟܬܒܐ </span></span></a></td></tr>\n",
       "<tr class=\"tf\"><td class=\"tf\">3</td><td class=\"tf\"> <a href=\"https://github.com/etcbc/syrnt/blob/master/plain/0.1/Matthew.txt\" title=\"show this passage in the SyrNT source\" sec=\"Matthew 26:56\">Matthew 26:56</a></td><td class=\"tf\"><a href=\"https://github.com/etcbc/syrnt/blob/master/plain/0.1/Matthew.txt\" title=\"Matthew 26:56\" sec=\"Matthew 26:56\"><span class=\"plain outer  rtl  hl\" ><span class=\"syb\">ܟܬܒܐ </span></span></a></td></tr>\n",
       "<tr class=\"tf\"><td class=\"tf\">4</td><td class=\"tf\"> <a href=\"https://github.com/etcbc/syrnt/blob/master/plain/0.1/Mark.txt\" title=\"show this passage in the SyrNT source\" sec=\"Mark 12:24\">Mark 12:24</a></td><td class=\"tf\"><a href=\"https://github.com/etcbc/syrnt/blob/master/plain/0.1/Mark.txt\" title=\"Mark 12:24\" sec=\"Mark 12:24\"><span class=\"plain outer  rtl  hl\" ><span class=\"syb\">ܟܬܒܐ </span></span></a></td></tr>\n",
       "<tr class=\"tf\"><td class=\"tf\">5</td><td class=\"tf\"> <a href=\"https://github.com/etcbc/syrnt/blob/master/plain/0.1/Mark.txt\" title=\"show this passage in the SyrNT source\" sec=\"Mark 14:49\">Mark 14:49</a></td><td class=\"tf\"><a href=\"https://github.com/etcbc/syrnt/blob/master/plain/0.1/Mark.txt\" title=\"Mark 14:49\" sec=\"Mark 14:49\"><span class=\"plain outer  rtl  hl\" ><span class=\"syb\">ܟܬܒܐ </span></span></a></td></tr>\n",
       "<tr class=\"tf\"><td class=\"tf\">6</td><td class=\"tf\"> <a href=\"https://github.com/etcbc/syrnt/blob/master/plain/0.1/Luke.txt\" title=\"show this passage in the SyrNT source\" sec=\"Luke 24:27\">Luke 24:27</a></td><td class=\"tf\"><a href=\"https://github.com/etcbc/syrnt/blob/master/plain/0.1/Luke.txt\" title=\"Luke 24:27\" sec=\"Luke 24:27\"><span class=\"plain outer  rtl  hl\" ><span class=\"syb\">ܟܬܒܐ </span></span></a></td></tr>\n",
       "<tr class=\"tf\"><td class=\"tf\">7</td><td class=\"tf\"> <a href=\"https://github.com/etcbc/syrnt/blob/master/plain/0.1/Luke.txt\" title=\"show this passage in the SyrNT source\" sec=\"Luke 24:32\">Luke 24:32</a></td><td class=\"tf\"><a href=\"https://github.com/etcbc/syrnt/blob/master/plain/0.1/Luke.txt\" title=\"Luke 24:32\" sec=\"Luke 24:32\"><span class=\"plain outer  rtl  hl\" ><span class=\"syb\">ܟܬܒܐ </span></span></a></td></tr>\n",
       "<tr class=\"tf\"><td class=\"tf\">8</td><td class=\"tf\"> <a href=\"https://github.com/etcbc/syrnt/blob/master/plain/0.1/Luke.txt\" title=\"show this passage in the SyrNT source\" sec=\"Luke 24:45\">Luke 24:45</a></td><td class=\"tf\"><a href=\"https://github.com/etcbc/syrnt/blob/master/plain/0.1/Luke.txt\" title=\"Luke 24:45\" sec=\"Luke 24:45\"><span class=\"plain outer  rtl  hl\" ><span class=\"syb\">ܟܬܒܐ </span></span></a></td></tr>\n",
       "<tr class=\"tf\"><td class=\"tf\">9</td><td class=\"tf\"> <a href=\"https://github.com/etcbc/syrnt/blob/master/plain/0.1/John.txt\" title=\"show this passage in the SyrNT source\" sec=\"John 2:22\">John 2:22</a></td><td class=\"tf\"><a href=\"https://github.com/etcbc/syrnt/blob/master/plain/0.1/John.txt\" title=\"John 2:22\" sec=\"John 2:22\"><span class=\"plain outer  rtl  hl\" ><span class=\"syb\">ܠܟܬܒܐ </span></span></a></td></tr>\n",
       "<tr class=\"tf\"><td class=\"tf\">10</td><td class=\"tf\"> <a href=\"https://github.com/etcbc/syrnt/blob/master/plain/0.1/John.txt\" title=\"show this passage in the SyrNT source\" sec=\"John 5:39\">John 5:39</a></td><td class=\"tf\"><a href=\"https://github.com/etcbc/syrnt/blob/master/plain/0.1/John.txt\" title=\"John 5:39\" sec=\"John 5:39\"><span class=\"plain outer  rtl  hl\" ><span class=\"syb\">ܟܬܒܐ </span></span></a></td></tr>\n",
       "<tr class=\"tf\"><td class=\"tf\">11</td><td class=\"tf\"> <a href=\"https://github.com/etcbc/syrnt/blob/master/plain/0.1/John.txt\" title=\"show this passage in the SyrNT source\" sec=\"John 5:47\">John 5:47</a></td><td class=\"tf\"><a href=\"https://github.com/etcbc/syrnt/blob/master/plain/0.1/John.txt\" title=\"John 5:47\" sec=\"John 5:47\"><span class=\"plain outer  rtl  hl\" ><span class=\"syb\">ܠܟܬܒܘܗܝ </span></span></a></td></tr>\n",
       "<tr class=\"tf\"><td class=\"tf\">12</td><td class=\"tf\"> <a href=\"https://github.com/etcbc/syrnt/blob/master/plain/0.1/John.txt\" title=\"show this passage in the SyrNT source\" sec=\"John 7:38\">John 7:38</a></td><td class=\"tf\"><a href=\"https://github.com/etcbc/syrnt/blob/master/plain/0.1/John.txt\" title=\"John 7:38\" sec=\"John 7:38\"><span class=\"plain outer  rtl  hl\" ><span class=\"syb\">ܟܬܒܐ </span></span></a></td></tr>\n",
       "<tr class=\"tf\"><td class=\"tf\">13</td><td class=\"tf\"> <a href=\"https://github.com/etcbc/syrnt/blob/master/plain/0.1/John.txt\" title=\"show this passage in the SyrNT source\" sec=\"John 20:9\">John 20:9</a></td><td class=\"tf\"><a href=\"https://github.com/etcbc/syrnt/blob/master/plain/0.1/John.txt\" title=\"John 20:9\" sec=\"John 20:9\"><span class=\"plain outer  rtl  hl\" ><span class=\"syb\">ܟܬܒܐ </span></span></a></td></tr>\n",
       "<tr class=\"tf\"><td class=\"tf\">14</td><td class=\"tf\"> <a href=\"https://github.com/etcbc/syrnt/blob/master/plain/0.1/John.txt\" title=\"show this passage in the SyrNT source\" sec=\"John 21:25\">John 21:25</a></td><td class=\"tf\"><a href=\"https://github.com/etcbc/syrnt/blob/master/plain/0.1/John.txt\" title=\"John 21:25\" sec=\"John 21:25\"><span class=\"plain outer  rtl  hl\" ><span class=\"syb\">ܠܟܬܒܐ </span></span></a></td></tr>\n",
       "<tr class=\"tf\"><td class=\"tf\">15</td><td class=\"tf\"> <a href=\"https://github.com/etcbc/syrnt/blob/master/plain/0.1/Acts.txt\" title=\"show this passage in the SyrNT source\" sec=\"Acts 13:27\">Acts 13:27</a></td><td class=\"tf\"><a href=\"https://github.com/etcbc/syrnt/blob/master/plain/0.1/Acts.txt\" title=\"Acts 13:27\" sec=\"Acts 13:27\"><span class=\"plain outer  rtl  hl\" ><span class=\"syb\">ܒܟܬܒܐ </span></span></a></td></tr>\n",
       "<tr class=\"tf\"><td class=\"tf\">16</td><td class=\"tf\"> <a href=\"https://github.com/etcbc/syrnt/blob/master/plain/0.1/Acts.txt\" title=\"show this passage in the SyrNT source\" sec=\"Acts 17:2\">Acts 17:2</a></td><td class=\"tf\"><a href=\"https://github.com/etcbc/syrnt/blob/master/plain/0.1/Acts.txt\" title=\"Acts 17:2\" sec=\"Acts 17:2\"><span class=\"plain outer  rtl  hl\" ><span class=\"syb\">ܟܬܒܐ </span></span></a></td></tr>\n",
       "<tr class=\"tf\"><td class=\"tf\">17</td><td class=\"tf\"> <a href=\"https://github.com/etcbc/syrnt/blob/master/plain/0.1/Acts.txt\" title=\"show this passage in the SyrNT source\" sec=\"Acts 17:11\">Acts 17:11</a></td><td class=\"tf\"><a href=\"https://github.com/etcbc/syrnt/blob/master/plain/0.1/Acts.txt\" title=\"Acts 17:11\" sec=\"Acts 17:11\"><span class=\"plain outer  rtl  hl\" ><span class=\"syb\">ܟܬܒܐ </span></span></a></td></tr>\n",
       "<tr class=\"tf\"><td class=\"tf\">18</td><td class=\"tf\"> <a href=\"https://github.com/etcbc/syrnt/blob/master/plain/0.1/Acts.txt\" title=\"show this passage in the SyrNT source\" sec=\"Acts 18:24\">Acts 18:24</a></td><td class=\"tf\"><a href=\"https://github.com/etcbc/syrnt/blob/master/plain/0.1/Acts.txt\" title=\"Acts 18:24\" sec=\"Acts 18:24\"><span class=\"plain outer  rtl  hl\" ><span class=\"syb\">ܒܟܬܒܐ </span></span></a></td></tr>\n",
       "<tr class=\"tf\"><td class=\"tf\">19</td><td class=\"tf\"> <a href=\"https://github.com/etcbc/syrnt/blob/master/plain/0.1/Acts.txt\" title=\"show this passage in the SyrNT source\" sec=\"Acts 18:28\">Acts 18:28</a></td><td class=\"tf\"><a href=\"https://github.com/etcbc/syrnt/blob/master/plain/0.1/Acts.txt\" title=\"Acts 18:28\" sec=\"Acts 18:28\"><span class=\"plain outer  rtl  hl\" ><span class=\"syb\">ܟܬܒܐ </span></span></a></td></tr>\n",
       "<tr class=\"tf\"><td class=\"tf\">20</td><td class=\"tf\"> <a href=\"https://github.com/etcbc/syrnt/blob/master/plain/0.1/Acts.txt\" title=\"show this passage in the SyrNT source\" sec=\"Acts 19:19\">Acts 19:19</a></td><td class=\"tf\"><a href=\"https://github.com/etcbc/syrnt/blob/master/plain/0.1/Acts.txt\" title=\"Acts 19:19\" sec=\"Acts 19:19\"><span class=\"plain outer  rtl  hl\" ><span class=\"syb\">ܟܬܒܝܗܘܢ </span></span></a></td></tr>\n",
       "<tr class=\"tf\"><td class=\"tf\">21</td><td class=\"tf\"> <a href=\"https://github.com/etcbc/syrnt/blob/master/plain/0.1/Romans.txt\" title=\"show this passage in the SyrNT source\" sec=\"Romans 1:2\">Romans 1:2</a></td><td class=\"tf\"><a href=\"https://github.com/etcbc/syrnt/blob/master/plain/0.1/Romans.txt\" title=\"Romans 1:2\" sec=\"Romans 1:2\"><span class=\"plain outer  rtl  hl\" ><span class=\"syb\">ܒܟܬܒܐ </span></span></a></td></tr>\n",
       "<tr class=\"tf\"><td class=\"tf\">22</td><td class=\"tf\"> <a href=\"https://github.com/etcbc/syrnt/blob/master/plain/0.1/Romans.txt\" title=\"show this passage in the SyrNT source\" sec=\"Romans 15:4\">Romans 15:4</a></td><td class=\"tf\"><a href=\"https://github.com/etcbc/syrnt/blob/master/plain/0.1/Romans.txt\" title=\"Romans 15:4\" sec=\"Romans 15:4\"><span class=\"plain outer  rtl  hl\" ><span class=\"syb\">ܕܟܬܒܐ </span></span></a></td></tr>\n",
       "<tr class=\"tf\"><td class=\"tf\">23</td><td class=\"tf\"> <a href=\"https://github.com/etcbc/syrnt/blob/master/plain/0.1/Romans.txt\" title=\"show this passage in the SyrNT source\" sec=\"Romans 16:25\">Romans 16:25</a></td><td class=\"tf\"><a href=\"https://github.com/etcbc/syrnt/blob/master/plain/0.1/Romans.txt\" title=\"Romans 16:25\" sec=\"Romans 16:25\"><span class=\"plain outer  rtl  hl\" ><span class=\"syb\">ܟܬܒܐ </span></span></a></td></tr>\n",
       "<tr class=\"tf\"><td class=\"tf\">24</td><td class=\"tf\"> <a href=\"https://github.com/etcbc/syrnt/blob/master/plain/0.1/2_Timothy.txt\" title=\"show this passage in the SyrNT source\" sec=\"2_Timothy 4:13\">2_Timothy 4:13</a></td><td class=\"tf\"><a href=\"https://github.com/etcbc/syrnt/blob/master/plain/0.1/2_Timothy.txt\" title=\"2_Timothy 4:13\" sec=\"2_Timothy 4:13\"><span class=\"plain outer  rtl  hl\" ><span class=\"syb\">ܟܬܒܐ </span></span></a></td></tr>\n",
       "<tr class=\"tf\"><td class=\"tf\">25</td><td class=\"tf\"> <a href=\"https://github.com/etcbc/syrnt/blob/master/plain/0.1/2_Timothy.txt\" title=\"show this passage in the SyrNT source\" sec=\"2_Timothy 4:13\">2_Timothy 4:13</a></td><td class=\"tf\"><a href=\"https://github.com/etcbc/syrnt/blob/master/plain/0.1/2_Timothy.txt\" title=\"2_Timothy 4:13\" sec=\"2_Timothy 4:13\"><span class=\"plain outer  rtl  hl\" ><span class=\"syb\">ܘܟܬܒܐ </span></span></a></td></tr>\n",
       "<tr class=\"tf\"><td class=\"tf\">26</td><td class=\"tf\"> <a href=\"https://github.com/etcbc/syrnt/blob/master/plain/0.1/Hebrews.txt\" title=\"show this passage in the SyrNT source\" sec=\"Hebrews 10:7\">Hebrews 10:7</a></td><td class=\"tf\"><a href=\"https://github.com/etcbc/syrnt/blob/master/plain/0.1/Hebrews.txt\" title=\"Hebrews 10:7\" sec=\"Hebrews 10:7\"><span class=\"plain outer  rtl  hl\" ><span class=\"syb\">ܟܬܒܐ </span></span></a></td></tr>\n",
       "<tr class=\"tf\"><td class=\"tf\">27</td><td class=\"tf\"> <a href=\"https://github.com/etcbc/syrnt/blob/master/plain/0.1/2_Peter.txt\" title=\"show this passage in the SyrNT source\" sec=\"2_Peter 3:16\">2_Peter 3:16</a></td><td class=\"tf\"><a href=\"https://github.com/etcbc/syrnt/blob/master/plain/0.1/2_Peter.txt\" title=\"2_Peter 3:16\" sec=\"2_Peter 3:16\"><span class=\"plain outer  rtl  hl\" ><span class=\"syb\">ܟܬܒܐ </span></span></a></td></tr>\n",
       "<tr class=\"tf\"><td class=\"tf\">28</td><td class=\"tf\"> <a href=\"https://github.com/etcbc/syrnt/blob/master/plain/0.1/Revelation.txt\" title=\"show this passage in the SyrNT source\" sec=\"Revelation 6:14\">Revelation 6:14</a></td><td class=\"tf\"><a href=\"https://github.com/etcbc/syrnt/blob/master/plain/0.1/Revelation.txt\" title=\"Revelation 6:14\" sec=\"Revelation 6:14\"><span class=\"plain outer  rtl  hl\" ><span class=\"syb\">ܟܬܒܐ </span></span></a></td></tr></table>"
      ],
      "text/plain": [
       "<IPython.core.display.HTML object>"
      ]
     },
     "metadata": {},
     "output_type": "display_data"
    }
   ],
   "source": [
    "A.table(results)"
   ]
  },
  {
   "cell_type": "markdown",
   "metadata": {},
   "source": [
    "# Next\n",
    "\n",
    "You know how to run queries and show off with their results.\n",
    "\n",
    "The next thing is to dive deeper into the power of templates.\n",
    "But for that you have to go to the\n",
    "[search tutorial of the BHSA](https://nbviewer.jupyter.org/github/etcbc/bhsa/blob/master/tutorial/search.ipynb)\n",
    "since that data set has much more features to play with.\n",
    "\n",
    "---\n",
    "\n",
    "basic\n",
    "[BHSA](https://nbviewer.jupyter.org/github/etcbc/bhsa/blob/master/tutorial/search.ipynb)"
   ]
  }
 ],
 "metadata": {
  "kernelspec": {
   "display_name": "Python 3",
   "language": "python",
   "name": "python3"
  },
  "language_info": {
   "codemirror_mode": {
    "name": "ipython",
    "version": 3
   },
   "file_extension": ".py",
   "mimetype": "text/x-python",
   "name": "python",
   "nbconvert_exporter": "python",
   "pygments_lexer": "ipython3",
   "version": "3.7.7"
  }
 },
 "nbformat": 4,
 "nbformat_minor": 4
}
