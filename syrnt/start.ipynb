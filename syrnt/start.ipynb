{
 "cells": [
  {
   "cell_type": "markdown",
   "metadata": {},
   "source": [
    "<img align=\"right\" src=\"images/tf.png\" width=\"128\"/>\n",
    "<img align=\"right\" src=\"images/etcbc.png\"/>\n",
    "<img align=\"right\" src=\"images/logo.png\"/>\n",
    "\n",
    "# Tutorial\n",
    "\n",
    "This notebook gets you started with using\n",
    "[Text-Fabric](https://annotation.github.io/text-fabric/) for coding in the Syriac New Testament.\n",
    "\n",
    "Chances are that a bit of reading about the underlying\n",
    "[data model](https://annotation.github.io/text-fabric/Model/Data-Model/)\n",
    "helps you to follow the exercises below, and vice versa."
   ]
  },
  {
   "cell_type": "markdown",
   "metadata": {},
   "source": [
    "## Installing Text-Fabric\n",
    "\n",
    "### Python\n",
    "\n",
    "You need to have Python on your system. Most systems have it out of the box,\n",
    "but alas, that is python2 and we need at least python **3.6**.\n",
    "\n",
    "Install it from [python.org](https://www.python.org) or from\n",
    "[Anaconda](https://www.anaconda.com/download).\n",
    "\n",
    "### TF itself\n",
    "\n",
    "```\n",
    "pip3 install text-fabric\n",
    "```\n",
    "\n",
    "### Jupyter notebook\n",
    "\n",
    "You need [Jupyter](http://jupyter.org).\n",
    "\n",
    "If it is not already installed:\n",
    "\n",
    "```\n",
    "pip3 install jupyter\n",
    "```"
   ]
  },
  {
   "cell_type": "markdown",
   "metadata": {},
   "source": [
    "## Tip\n",
    "If you start computing with this tutorial, first copy its parent directory to somewhere else,\n",
    "outside your `syrnt` directory.\n",
    "If you pull changes from the `syrnt` repository later, your work will not be overwritten.\n",
    "Where you put your tutorial directory is up till you.\n",
    "It will work from any directory."
   ]
  },
  {
   "cell_type": "code",
   "execution_count": 1,
   "metadata": {
    "ExecuteTime": {
     "end_time": "2018-10-18T10:40:34.922214Z",
     "start_time": "2018-10-18T10:40:34.901689Z"
    }
   },
   "outputs": [],
   "source": [
    "%load_ext autoreload\n",
    "%autoreload 2"
   ]
  },
  {
   "cell_type": "code",
   "execution_count": 2,
   "metadata": {
    "ExecuteTime": {
     "end_time": "2018-10-18T10:40:36.468086Z",
     "start_time": "2018-10-18T10:40:36.442023Z"
    }
   },
   "outputs": [],
   "source": [
    "import os, collections"
   ]
  },
  {
   "cell_type": "code",
   "execution_count": 3,
   "metadata": {
    "ExecuteTime": {
     "end_time": "2018-10-18T10:40:37.964346Z",
     "start_time": "2018-10-18T10:40:37.346091Z"
    }
   },
   "outputs": [],
   "source": [
    "from tf.app import use"
   ]
  },
  {
   "cell_type": "markdown",
   "metadata": {},
   "source": [
    "## Syrnt data\n",
    "\n",
    "Text-Fabric will fetch a standard set of features for you from the newest github release binaries.\n",
    "\n",
    "The data will be stored in the `text-fabric-data` in your home directory."
   ]
  },
  {
   "cell_type": "markdown",
   "metadata": {},
   "source": [
    "# Load Features\n",
    "The data of the corpus is organized in features.\n",
    "They are *columns* of data.\n",
    "Think of the text as a gigantic spreadsheet, where row 1 corresponds to the\n",
    "first word, row 2 to the second word, and so on, for all 100,000+ words.\n",
    "\n",
    "The letters of each word is a column `form` in that spreadsheet.\n",
    "\n",
    "The corpus contains ca. 30 columns, not only for the words, but also for \n",
    "textual objects, such as *books*, *chapters*, and *verses*.\n",
    "\n",
    "Instead of putting that information in one big table, the data is organized in separate columns.\n",
    "We call those columns **features**."
   ]
  },
  {
   "cell_type": "code",
   "execution_count": 4,
   "metadata": {
    "ExecuteTime": {
     "end_time": "2018-10-18T10:40:42.958397Z",
     "start_time": "2018-10-18T10:40:41.535490Z"
    }
   },
   "outputs": [
    {
     "name": "stdout",
     "output_type": "stream",
     "text": [
      "Using TF-app in /Users/dirk/github/annotation/app-syrnt/code:\n",
      "\trepo clone offline under ~/github (local github)\n",
      "Using data in /Users/dirk/github/etcbc/syrnt/tf/0.1:\n",
      "\trepo clone offline under ~/github (local github)\n",
      "   |     0.00s No structure info in otext, the structure part of the T-API cannot be used\n"
     ]
    },
    {
     "data": {
      "text/html": [
       "<b>Documentation:</b> <a target=\"_blank\" href=\"https://github.com/etcbc/syrnt/blob/master/docs\" title=\"provenance of SyrNT\">SYRNT</a> <a target=\"_blank\" href=\"https://annotation.github.io/text-fabric/Writing/Syriac\" title=\"('Syriac characters and transcriptions',)\">Character table</a> <a target=\"_blank\" href=\"https://github.com/etcbc/syrnt/blob/master/docs/transcription-0.1.md#transcription.md\" title=\"SYRNT feature documentation\">Feature docs</a> <a target=\"_blank\" href=\"https://github.com/annotation/app-syrnt\" title=\"syrnt API documentation\">syrnt API</a> <a target=\"_blank\" href=\"https://annotation.github.io/text-fabric/Api/Fabric/\" title=\"text-fabric-api\">Text-Fabric API 7.11.1</a> <a target=\"_blank\" href=\"https://annotation.github.io/text-fabric/Use/Search/\" title=\"Search Templates Introduction and Reference\">Search Reference</a><details open><summary><b>Loaded features</b>:</summary>\n",
       "<p><b>SyrNT</b>: <a target=\"_blank\" href=\"https://github.com/etcbc/syrnt/blob/master/docs/transcription-0.1.md#book\" title=\"/Users/dirk/github/etcbc/syrnt/tf/0.1/book.tf\">book</a>  <a target=\"_blank\" href=\"https://github.com/etcbc/syrnt/blob/master/docs/transcription-0.1.md#book@ll\" title=\"/Users/dirk/github/etcbc/syrnt/tf/0.1/book@en.tf\">book@ll</a>  <a target=\"_blank\" href=\"https://github.com/etcbc/syrnt/blob/master/docs/transcription-0.1.md#chapter\" title=\"/Users/dirk/github/etcbc/syrnt/tf/0.1/chapter.tf\">chapter</a>  <a target=\"_blank\" href=\"https://github.com/etcbc/syrnt/blob/master/docs/transcription-0.1.md#demcat\" title=\"/Users/dirk/github/etcbc/syrnt/tf/0.1/demcat.tf\">demcat</a>  <a target=\"_blank\" href=\"https://github.com/etcbc/syrnt/blob/master/docs/transcription-0.1.md#fmhdot\" title=\"/Users/dirk/github/etcbc/syrnt/tf/0.1/fmhdot.tf\">fmhdot</a>  <a target=\"_blank\" href=\"https://github.com/etcbc/syrnt/blob/master/docs/transcription-0.1.md#gn\" title=\"/Users/dirk/github/etcbc/syrnt/tf/0.1/gn.tf\">gn</a>  <a target=\"_blank\" href=\"https://github.com/etcbc/syrnt/blob/master/docs/transcription-0.1.md#lexeme\" title=\"/Users/dirk/github/etcbc/syrnt/tf/0.1/lexeme.tf\">lexeme</a>  <a target=\"_blank\" href=\"https://github.com/etcbc/syrnt/blob/master/docs/transcription-0.1.md#lexeme_etcbc\" title=\"/Users/dirk/github/etcbc/syrnt/tf/0.1/lexeme_etcbc.tf\">lexeme_etcbc</a>  <a target=\"_blank\" href=\"https://github.com/etcbc/syrnt/blob/master/docs/transcription-0.1.md#lexeme_sedra\" title=\"/Users/dirk/github/etcbc/syrnt/tf/0.1/lexeme_sedra.tf\">lexeme_sedra</a>  <a target=\"_blank\" href=\"https://github.com/etcbc/syrnt/blob/master/docs/transcription-0.1.md#nmtyp\" title=\"/Users/dirk/github/etcbc/syrnt/tf/0.1/nmtyp.tf\">nmtyp</a>  <a target=\"_blank\" href=\"https://github.com/etcbc/syrnt/blob/master/docs/transcription-0.1.md#ntyp\" title=\"/Users/dirk/github/etcbc/syrnt/tf/0.1/ntyp.tf\">ntyp</a>  <a target=\"_blank\" href=\"https://github.com/etcbc/syrnt/blob/master/docs/transcription-0.1.md#nu\" title=\"/Users/dirk/github/etcbc/syrnt/tf/0.1/nu.tf\">nu</a>  <a target=\"_blank\" href=\"https://github.com/etcbc/syrnt/blob/master/docs/transcription-0.1.md#otype\" title=\"/Users/dirk/github/etcbc/syrnt/tf/0.1/otype.tf\">otype</a>  <a target=\"_blank\" href=\"https://github.com/etcbc/syrnt/blob/master/docs/transcription-0.1.md#prefix\" title=\"/Users/dirk/github/etcbc/syrnt/tf/0.1/prefix.tf\">prefix</a>  <a target=\"_blank\" href=\"https://github.com/etcbc/syrnt/blob/master/docs/transcription-0.1.md#prefix_etcbc\" title=\"/Users/dirk/github/etcbc/syrnt/tf/0.1/prefix_etcbc.tf\">prefix_etcbc</a>  <a target=\"_blank\" href=\"https://github.com/etcbc/syrnt/blob/master/docs/transcription-0.1.md#prefix_sedra\" title=\"/Users/dirk/github/etcbc/syrnt/tf/0.1/prefix_sedra.tf\">prefix_sedra</a>  <a target=\"_blank\" href=\"https://github.com/etcbc/syrnt/blob/master/docs/transcription-0.1.md#prtyp\" title=\"/Users/dirk/github/etcbc/syrnt/tf/0.1/prtyp.tf\">prtyp</a>  <a target=\"_blank\" href=\"https://github.com/etcbc/syrnt/blob/master/docs/transcription-0.1.md#ps\" title=\"/Users/dirk/github/etcbc/syrnt/tf/0.1/ps.tf\">ps</a>  <a target=\"_blank\" href=\"https://github.com/etcbc/syrnt/blob/master/docs/transcription-0.1.md#ptctyp\" title=\"/Users/dirk/github/etcbc/syrnt/tf/0.1/ptctyp.tf\">ptctyp</a>  <a target=\"_blank\" href=\"https://github.com/etcbc/syrnt/blob/master/docs/transcription-0.1.md#root\" title=\"/Users/dirk/github/etcbc/syrnt/tf/0.1/root.tf\">root</a>  <a target=\"_blank\" href=\"https://github.com/etcbc/syrnt/blob/master/docs/transcription-0.1.md#root_etcbc\" title=\"/Users/dirk/github/etcbc/syrnt/tf/0.1/root_etcbc.tf\">root_etcbc</a>  <a target=\"_blank\" href=\"https://github.com/etcbc/syrnt/blob/master/docs/transcription-0.1.md#root_sedra\" title=\"/Users/dirk/github/etcbc/syrnt/tf/0.1/root_sedra.tf\">root_sedra</a>  <a target=\"_blank\" href=\"https://github.com/etcbc/syrnt/blob/master/docs/transcription-0.1.md#seyame\" title=\"/Users/dirk/github/etcbc/syrnt/tf/0.1/seyame.tf\">seyame</a>  <a target=\"_blank\" href=\"https://github.com/etcbc/syrnt/blob/master/docs/transcription-0.1.md#sfcontract\" title=\"/Users/dirk/github/etcbc/syrnt/tf/0.1/sfcontract.tf\">sfcontract</a>  <a target=\"_blank\" href=\"https://github.com/etcbc/syrnt/blob/master/docs/transcription-0.1.md#sfgn\" title=\"/Users/dirk/github/etcbc/syrnt/tf/0.1/sfgn.tf\">sfgn</a>  <a target=\"_blank\" href=\"https://github.com/etcbc/syrnt/blob/master/docs/transcription-0.1.md#sfnu\" title=\"/Users/dirk/github/etcbc/syrnt/tf/0.1/sfnu.tf\">sfnu</a>  <a target=\"_blank\" href=\"https://github.com/etcbc/syrnt/blob/master/docs/transcription-0.1.md#sfps\" title=\"/Users/dirk/github/etcbc/syrnt/tf/0.1/sfps.tf\">sfps</a>  <a target=\"_blank\" href=\"https://github.com/etcbc/syrnt/blob/master/docs/transcription-0.1.md#sp\" title=\"/Users/dirk/github/etcbc/syrnt/tf/0.1/sp.tf\">sp</a>  <a target=\"_blank\" href=\"https://github.com/etcbc/syrnt/blob/master/docs/transcription-0.1.md#st\" title=\"/Users/dirk/github/etcbc/syrnt/tf/0.1/st.tf\">st</a>  <a target=\"_blank\" href=\"https://github.com/etcbc/syrnt/blob/master/docs/transcription-0.1.md#stem\" title=\"/Users/dirk/github/etcbc/syrnt/tf/0.1/stem.tf\">stem</a>  <a target=\"_blank\" href=\"https://github.com/etcbc/syrnt/blob/master/docs/transcription-0.1.md#stem_etcbc\" title=\"/Users/dirk/github/etcbc/syrnt/tf/0.1/stem_etcbc.tf\">stem_etcbc</a>  <a target=\"_blank\" href=\"https://github.com/etcbc/syrnt/blob/master/docs/transcription-0.1.md#stem_sedra\" title=\"/Users/dirk/github/etcbc/syrnt/tf/0.1/stem_sedra.tf\">stem_sedra</a>  <a target=\"_blank\" href=\"https://github.com/etcbc/syrnt/blob/master/docs/transcription-0.1.md#suffix\" title=\"/Users/dirk/github/etcbc/syrnt/tf/0.1/suffix.tf\">suffix</a>  <a target=\"_blank\" href=\"https://github.com/etcbc/syrnt/blob/master/docs/transcription-0.1.md#suffix_etcbc\" title=\"/Users/dirk/github/etcbc/syrnt/tf/0.1/suffix_etcbc.tf\">suffix_etcbc</a>  <a target=\"_blank\" href=\"https://github.com/etcbc/syrnt/blob/master/docs/transcription-0.1.md#suffix_sedra\" title=\"/Users/dirk/github/etcbc/syrnt/tf/0.1/suffix_sedra.tf\">suffix_sedra</a>  <a target=\"_blank\" href=\"https://github.com/etcbc/syrnt/blob/master/docs/transcription-0.1.md#verse\" title=\"/Users/dirk/github/etcbc/syrnt/tf/0.1/verse.tf\">verse</a>  <a target=\"_blank\" href=\"https://github.com/etcbc/syrnt/blob/master/docs/transcription-0.1.md#vs\" title=\"/Users/dirk/github/etcbc/syrnt/tf/0.1/vs.tf\">vs</a>  <a target=\"_blank\" href=\"https://github.com/etcbc/syrnt/blob/master/docs/transcription-0.1.md#vt\" title=\"/Users/dirk/github/etcbc/syrnt/tf/0.1/vt.tf\">vt</a>  <a target=\"_blank\" href=\"https://github.com/etcbc/syrnt/blob/master/docs/transcription-0.1.md#word\" title=\"/Users/dirk/github/etcbc/syrnt/tf/0.1/word.tf\">word</a>  <a target=\"_blank\" href=\"https://github.com/etcbc/syrnt/blob/master/docs/transcription-0.1.md#word_etcbc\" title=\"/Users/dirk/github/etcbc/syrnt/tf/0.1/word_etcbc.tf\">word_etcbc</a>  <a target=\"_blank\" href=\"https://github.com/etcbc/syrnt/blob/master/docs/transcription-0.1.md#word_sedra\" title=\"/Users/dirk/github/etcbc/syrnt/tf/0.1/word_sedra.tf\">word_sedra</a>  <b><i><a target=\"_blank\" href=\"https://github.com/etcbc/syrnt/blob/master/docs/transcription-0.1.md#oslots\" title=\"/Users/dirk/github/etcbc/syrnt/tf/0.1/oslots.tf\">oslots</a></i></b> </p></details>"
      ],
      "text/plain": [
       "<IPython.core.display.HTML object>"
      ]
     },
     "metadata": {},
     "output_type": "display_data"
    },
    {
     "data": {
      "text/html": [
       "<style>\n",
       "@font-face {\n",
       "  font-family: \"Estrangelo Edessa\";\n",
       "  src:\n",
       "    local(\"SyrCOMEdessa.otf\"),\n",
       "    url(\"https://github.com/annotation/text-fabric/blob/master/tf/server/static/fonts/SyrCOMEdessa.woff?raw=true\");\n",
       "}\n",
       ".features {\n",
       "    font-family: monospace;\n",
       "    font-size: medium;\n",
       "    font-weight: bold;\n",
       "    color: #0a6611;\n",
       "    display: flex;\n",
       "    flex-flow: column nowrap;\n",
       "    justify-content: flex-start;\n",
       "    align-items: flex-start;\n",
       "    align-content: flex-start;\n",
       "    padding: 0.1em;\n",
       "    margin: 0.1em;\n",
       "    direction: ltr;\n",
       "}\n",
       ".features div,.features span {\n",
       "    padding: 0;\n",
       "    margin: -0.1rem 0;\n",
       "}\n",
       ".features .f {\n",
       "    font-family: sans-serif;\n",
       "    font-size: x-small;\n",
       "    font-weight: normal;\n",
       "    color: #5555bb;\n",
       "}\n",
       ".features .xft {\n",
       "  color: #000000;\n",
       "  background-color: #eeeeee;\n",
       "  font-size: medium;\n",
       "  margin: 0.1em 0em;\n",
       "}\n",
       ".features .xft .f {\n",
       "  color: #000000;\n",
       "  background-color: #eeeeee;\n",
       "  font-style: italic;\n",
       "  font-size: small;\n",
       "  font-weight: normal;\n",
       "}\n",
       ".nd {\n",
       "    font-family: monospace;\n",
       "    font-size: x-small;\n",
       "    color: #999999;\n",
       "}\n",
       ".hl {\n",
       "    background-color: #ffee66;\n",
       "}\n",
       ".outerplain {\n",
       "    direction: rtl;\n",
       "}\n",
       ".outeritem {\n",
       "    display: flex;\n",
       "    flex-flow: row wrap;\n",
       "    direction: rtl;\n",
       "}\n",
       ".verse {\n",
       "    display: flex;\n",
       "    flex-flow: row wrap;\n",
       "    direction: rtl;\n",
       "}\n",
       ".vl {\n",
       "    display: flex;\n",
       "    flex-flow: column nowrap;\n",
       "    justify-content: flex-end;\n",
       "    align-items: flex-end;\n",
       "    direction: ltr;\n",
       "    width: 100%;\n",
       "}\n",
       ".vn {\n",
       "  font-size: small !important;\n",
       "  padding-right: 1em;\n",
       "}\n",
       ".vrs {\n",
       "    font-family: sans-serif;\n",
       "    font-size: small;\n",
       "    font-weight: bold;\n",
       "    color: #444444;\n",
       "}\n",
       ".word {\n",
       "    padding: 0.1em;\n",
       "    margin: 0.1em;\n",
       "    border-radius: 0.1em;\n",
       "    border: 1px solid #cccccc;\n",
       "    display: flex;\n",
       "    flex-flow: column nowrap;\n",
       "    direction: rtl;\n",
       "}\n",
       ".lextp {\n",
       "    padding: 0.1em;\n",
       "    margin: 0.1em;\n",
       "    border-radius: 0.1em;\n",
       "    border: 2px solid #888888;\n",
       "    width: fit-content;\n",
       "    display: flex;\n",
       "    flex-flow: column nowrap;\n",
       "    direction: rtl;\n",
       "}\n",
       ".occs {\n",
       "    font-size: x-small;\n",
       "}\n",
       ".tr,.tr a:visited,.tr a:link {\n",
       "    font-family: sans-serif;\n",
       "    font-size: large;\n",
       "    color: #000044;\n",
       "    direction: ltr;\n",
       "    text-decoration: none;\n",
       "}\n",
       ".trb,.trb a:visited,.trb a:link {\n",
       "    font-family: sans-serif;\n",
       "    font-size: normal;\n",
       "    direction: ltr;\n",
       "    text-decoration: none;\n",
       "}\n",
       ".sy,.sy a:visited,.sy a:link {\n",
       "    font-family: \"Estrangelo Edessa\", sans-serif;\n",
       "    font-size: large;\n",
       "    color: #000044;\n",
       "    direction: rtl;\n",
       "    text-decoration: none;\n",
       "}\n",
       ".syb,.syb a:visited,.syb a:link {\n",
       "    font-family: \"Estrangelo Edessa\", sans-serif;\n",
       "    font-size: large;\n",
       "    line-height: 2;\n",
       "    direction: rtl;\n",
       "    text-decoration: none;\n",
       "}\n",
       ".vn {\n",
       "  font-size: small !important;\n",
       "  padding-right: 1em;\n",
       "}\n",
       ".sp,.sp a:visited,.sp a:link {\n",
       "    font-family: monospace;\n",
       "    font-size: medium;\n",
       "    color: #0000bb;\n",
       "    text-decoration: none;\n",
       "}\n",
       ".lexeme {\n",
       "    font-family: monospace;\n",
       "    font-size: medium;\n",
       "    color: #0000bb;\n",
       "}\n",
       ".vs {\n",
       "    font-family: monospace;\n",
       "    font-size: medium;\n",
       "    font-weight: bold;\n",
       "    color: #0000bb;\n",
       "}\n",
       ".vt {\n",
       "    font-family: monospace;\n",
       "    font-size: medium;\n",
       "    font-weight: bold;\n",
       "    color: #0000bb;\n",
       "}\n",
       "\n",
       "tr.tf, td.tf, th.tf {\n",
       "  text-align: left;\n",
       "}\n",
       "\n",
       "span.hldot {\n",
       "\tbackground-color: var(--hl-strong);\n",
       "\tborder: 0.2rem solid var(--hl-rim);\n",
       "\tborder-radius: 0.4rem;\n",
       "\t/*\n",
       "\tdisplay: inline-block;\n",
       "\twidth: 0.8rem;\n",
       "\theight: 0.8rem;\n",
       "\t*/\n",
       "}\n",
       "span.hl {\n",
       "\tbackground-color: var(--hl-strong);\n",
       "\tborder-width: 0;\n",
       "\tborder-radius: 0.1rem;\n",
       "\tborder-style: solid;\n",
       "}\n",
       "\n",
       "span.hlbx {\n",
       "\tborder-color: var(--hl-dark);\n",
       "\tborder-width: 0.1rem;\n",
       "\tborder-style: solid;\n",
       "\tborder-radius: 0.2rem;\n",
       "  padding: 0.2rem;\n",
       "  margin: 0.2rem;\n",
       "}\n",
       "\n",
       "span.plain {\n",
       "  display: inline-block;\n",
       "  white-space: pre-wrap;\n",
       "}\n",
       "\n",
       ":root {\n",
       "\t--hl-strong:        hsla( 60, 100%,  70%, 0.9  );\n",
       "\t--hl-rim:           hsla( 55, 100%,  60%, 0.9  );\n",
       "\t--hl-dark:          hsla( 55, 100%,  40%, 0.9  );\n",
       "}\n",
       "</style>"
      ],
      "text/plain": [
       "<IPython.core.display.HTML object>"
      ]
     },
     "metadata": {},
     "output_type": "display_data"
    },
    {
     "data": {
      "text/html": [
       "<details open><summary><b>API members</b>:</summary>\n",
       "<a target=\"_blank\" href=\"https://annotation.github.io/text-fabric/Api/Computed/#computed-data\" title=\"doc\">C Computed</a>, <a target=\"_blank\" href=\"https://annotation.github.io/text-fabric/Api/Computed/#computed-data\" title=\"doc\">Call AllComputeds</a>, <a target=\"_blank\" href=\"https://annotation.github.io/text-fabric/Api/Computed/#computed-data\" title=\"doc\">Cs ComputedString</a><br/>\n",
       "<a target=\"_blank\" href=\"https://annotation.github.io/text-fabric/Api/Features/#edge-features\" title=\"doc\">E Edge</a>, <a target=\"_blank\" href=\"https://annotation.github.io/text-fabric/Api/Features/#edge-features\" title=\"doc\">Eall AllEdges</a>, <a target=\"_blank\" href=\"https://annotation.github.io/text-fabric/Api/Features/#edge-features\" title=\"doc\">Es EdgeString</a><br/>\n",
       "<a target=\"_blank\" href=\"https://annotation.github.io/text-fabric/Api/Fabric/#loading\" title=\"doc\">ensureLoaded</a>, <a target=\"_blank\" href=\"https://annotation.github.io/text-fabric/Api/Fabric/#loading\" title=\"doc\">TF</a>, <a target=\"_blank\" href=\"https://annotation.github.io/text-fabric/Api/Fabric/#loading\" title=\"doc\">ignored</a>, <a target=\"_blank\" href=\"https://annotation.github.io/text-fabric/Api/Fabric/#loading\" title=\"doc\">loadLog</a><br/>\n",
       "<a target=\"_blank\" href=\"https://annotation.github.io/text-fabric/Api/Locality/#locality\" title=\"doc\">L Locality</a><br/>\n",
       "<a target=\"_blank\" href=\"https://annotation.github.io/text-fabric/Api/Misc/#messaging\" title=\"doc\">cache</a>, <a target=\"_blank\" href=\"https://annotation.github.io/text-fabric/Api/Misc/#messaging\" title=\"doc\">error</a>, <a target=\"_blank\" href=\"https://annotation.github.io/text-fabric/Api/Misc/#messaging\" title=\"doc\">indent</a>, <a target=\"_blank\" href=\"https://annotation.github.io/text-fabric/Api/Misc/#messaging\" title=\"doc\">info</a>, <a target=\"_blank\" href=\"https://annotation.github.io/text-fabric/Api/Misc/#messaging\" title=\"doc\">isSilent</a>, <a target=\"_blank\" href=\"https://annotation.github.io/text-fabric/Api/Misc/#messaging\" title=\"doc\">reset</a>, <a target=\"_blank\" href=\"https://annotation.github.io/text-fabric/Api/Misc/#messaging\" title=\"doc\">setSilent</a>, <a target=\"_blank\" href=\"https://annotation.github.io/text-fabric/Api/Misc/#messaging\" title=\"doc\">silentOff</a>, <a target=\"_blank\" href=\"https://annotation.github.io/text-fabric/Api/Misc/#messaging\" title=\"doc\">silentOn</a>, <a target=\"_blank\" href=\"https://annotation.github.io/text-fabric/Api/Misc/#messaging\" title=\"doc\">warning</a><br/>\n",
       "<a target=\"_blank\" href=\"https://annotation.github.io/text-fabric/Api/Nodes/#navigating-nodes\" title=\"doc\">N Nodes</a>, <a target=\"_blank\" href=\"https://annotation.github.io/text-fabric/Api/Nodes/#navigating-nodes\" title=\"doc\">sortKey</a>, <a target=\"_blank\" href=\"https://annotation.github.io/text-fabric/Api/Nodes/#navigating-nodes\" title=\"doc\">sortKeyTuple</a>, <a target=\"_blank\" href=\"https://annotation.github.io/text-fabric/Api/Nodes/#navigating-nodes\" title=\"doc\">otypeRank</a>, <a target=\"_blank\" href=\"https://annotation.github.io/text-fabric/Api/Nodes/#navigating-nodes\" title=\"doc\">sortNodes</a><br/>\n",
       "<a target=\"_blank\" href=\"https://annotation.github.io/text-fabric/Api/Features/#node-features\" title=\"doc\">F Feature</a>, <a target=\"_blank\" href=\"https://annotation.github.io/text-fabric/Api/Features/#node-features\" title=\"doc\">Fall AllFeatures</a>, <a target=\"_blank\" href=\"https://annotation.github.io/text-fabric/Api/Features/#node-features\" title=\"doc\">Fs FeatureString</a><br/>\n",
       "<a target=\"_blank\" href=\"https://annotation.github.io/text-fabric/Api/Search/#search\" title=\"doc\">S Search</a><br/>\n",
       "<a target=\"_blank\" href=\"https://annotation.github.io/text-fabric/Api/Text/#text\" title=\"doc\">T Text</a></details>"
      ],
      "text/plain": [
       "<IPython.core.display.HTML object>"
      ]
     },
     "metadata": {},
     "output_type": "display_data"
    }
   ],
   "source": [
    "# A = use('syrnt', hoist=globals())\n",
    "A = use('syrnt:clone', checkout=\"clone\", hoist=globals())"
   ]
  },
  {
   "cell_type": "markdown",
   "metadata": {},
   "source": [
    "## API\n",
    "\n",
    "At this point it is helpful to throw a quick glance at the text-fabric API documentation\n",
    "(see the links under **API Members** above).\n",
    "\n",
    "The most essential thing for now is that we can use `F` to access the data in the features\n",
    "we've loaded.\n",
    "But there is more, such as `N`, which helps us to walk over the text, as we see in a minute."
   ]
  },
  {
   "cell_type": "markdown",
   "metadata": {},
   "source": [
    "# Counting\n",
    "\n",
    "In order to get acquainted with the data, we start with the simple task of counting.\n",
    "\n",
    "## Count all nodes\n",
    "We use the \n",
    "[`N()` generator](https://github.com/annotation/text-fabric/wiki/Api#walking-through-nodes)\n",
    "to walk through the nodes.\n",
    "\n",
    "We compared corpus to a gigantic spreadsheet, where the rows correspond to the words.\n",
    "In Text-Fabric, we call the rows `slots`, because they are the textual positions that can be filled with words.\n",
    "\n",
    "We also mentioned that there are also more textual objects. \n",
    "They are the verses, chapters and books.\n",
    "They also correspond to rows in the big spreadsheet.\n",
    "\n",
    "In Text-Fabric we call all these rows *nodes*, and the `N()` generator\n",
    "carries us through those nodes in the textual order.\n",
    "\n",
    "Just one extra thing: the `info` statements generate timed messages.\n",
    "If you use them instead of `print` you'll get a sense of the amount of time that \n",
    "the various processing steps typically need."
   ]
  },
  {
   "cell_type": "code",
   "execution_count": 5,
   "metadata": {
    "ExecuteTime": {
     "end_time": "2018-03-08T10:13:01.501437Z",
     "start_time": "2018-03-08T10:13:01.452315Z"
    }
   },
   "outputs": [
    {
     "name": "stdout",
     "output_type": "stream",
     "text": [
      "  0.00s Counting nodes ...\n",
      "  0.03s 120922 nodes\n"
     ]
    }
   ],
   "source": [
    "silentOff()\n",
    "indent(reset=True)\n",
    "info('Counting nodes ...')\n",
    "\n",
    "i = 0\n",
    "for n in N(): i += 1\n",
    "\n",
    "info('{} nodes'.format(i))"
   ]
  },
  {
   "cell_type": "markdown",
   "metadata": {},
   "source": [
    "## What are those nodes?\n",
    "Every node has a type, like word, or phrase, sentence.\n",
    "We know that we have approximately 100,000 words and a few other nodes.\n",
    "But what exactly are they?\n",
    "\n",
    "Text-Fabric has two special features, `otype` and `oslots`, that must occur in every Text-Fabric data set.\n",
    "`otype` tells you for each node its type, and you can ask for the number of `slot`s in the text.\n",
    "\n",
    "Here we go!"
   ]
  },
  {
   "cell_type": "code",
   "execution_count": 6,
   "metadata": {
    "ExecuteTime": {
     "end_time": "2018-03-08T10:13:05.040545Z",
     "start_time": "2018-03-08T10:13:05.019791Z"
    }
   },
   "outputs": [
    {
     "data": {
      "text/plain": [
       "'word'"
      ]
     },
     "execution_count": 6,
     "metadata": {},
     "output_type": "execute_result"
    }
   ],
   "source": [
    "F.otype.slotType"
   ]
  },
  {
   "cell_type": "code",
   "execution_count": 7,
   "metadata": {
    "ExecuteTime": {
     "end_time": "2018-03-08T10:13:05.855607Z",
     "start_time": "2018-03-08T10:13:05.849069Z"
    }
   },
   "outputs": [
    {
     "data": {
      "text/plain": [
       "109640"
      ]
     },
     "execution_count": 7,
     "metadata": {},
     "output_type": "execute_result"
    }
   ],
   "source": [
    "F.otype.maxSlot"
   ]
  },
  {
   "cell_type": "code",
   "execution_count": 8,
   "metadata": {
    "ExecuteTime": {
     "end_time": "2018-03-08T10:13:06.387787Z",
     "start_time": "2018-03-08T10:13:06.381228Z"
    }
   },
   "outputs": [
    {
     "data": {
      "text/plain": [
       "120922"
      ]
     },
     "execution_count": 8,
     "metadata": {},
     "output_type": "execute_result"
    }
   ],
   "source": [
    "F.otype.maxNode"
   ]
  },
  {
   "cell_type": "code",
   "execution_count": 9,
   "metadata": {
    "ExecuteTime": {
     "end_time": "2018-03-08T10:13:07.770989Z",
     "start_time": "2018-03-08T10:13:07.764917Z"
    }
   },
   "outputs": [
    {
     "data": {
      "text/plain": [
       "('book', 'chapter', 'lexeme', 'verse', 'word')"
      ]
     },
     "execution_count": 9,
     "metadata": {},
     "output_type": "execute_result"
    }
   ],
   "source": [
    "F.otype.all"
   ]
  },
  {
   "cell_type": "code",
   "execution_count": 10,
   "metadata": {
    "ExecuteTime": {
     "end_time": "2018-03-08T10:13:11.588722Z",
     "start_time": "2018-03-08T10:13:11.581305Z"
    }
   },
   "outputs": [
    {
     "data": {
      "text/plain": [
       "(('book', 4060.740740740741, 109641, 109667),\n",
       " ('chapter', 421.6923076923077, 109668, 109927),\n",
       " ('lexeme', 36.08953258722844, 109928, 112965),\n",
       " ('verse', 13.779062460726404, 112966, 120922),\n",
       " ('word', 1, 1, 109640))"
      ]
     },
     "execution_count": 10,
     "metadata": {},
     "output_type": "execute_result"
    }
   ],
   "source": [
    "C.levels.data"
   ]
  },
  {
   "cell_type": "markdown",
   "metadata": {},
   "source": [
    "This is interesting: above you see all the textual objects, with the average size of their objects,\n",
    "the node where they start, and the node where they end."
   ]
  },
  {
   "cell_type": "markdown",
   "metadata": {},
   "source": [
    "## Count individual object types\n",
    "This is an intuitive way to count the number of nodes in each type.\n",
    "Note in passing, how we use the `indent` in conjunction with `info` to produce neat timed \n",
    "and indented progress messages."
   ]
  },
  {
   "cell_type": "code",
   "execution_count": 11,
   "metadata": {
    "ExecuteTime": {
     "end_time": "2018-03-08T10:13:21.547051Z",
     "start_time": "2018-03-08T10:13:21.498807Z"
    }
   },
   "outputs": [
    {
     "name": "stdout",
     "output_type": "stream",
     "text": [
      "  0.00s counting objects ...\n",
      "   |     0.00s      27 books\n",
      "   |     0.00s     260 chapters\n",
      "   |     0.00s    3038 lexemes\n",
      "   |     0.00s    7957 verses\n",
      "   |     0.01s  109640 words\n",
      "  0.02s Done\n"
     ]
    }
   ],
   "source": [
    "indent(reset=True)\n",
    "info('counting objects ...')\n",
    "\n",
    "for otype in F.otype.all:\n",
    "    i = 0\n",
    "    indent(level=1, reset=True)\n",
    "\n",
    "    for n in F.otype.s(otype): i+=1\n",
    "\n",
    "    info('{:>7} {}s'.format(i, otype))\n",
    "\n",
    "indent(level=0)\n",
    "info('Done')"
   ]
  },
  {
   "cell_type": "markdown",
   "metadata": {},
   "source": [
    "# Viewing textual objects\n",
    "\n",
    "We use the A API (the extra power) to peek into the corpus."
   ]
  },
  {
   "cell_type": "markdown",
   "metadata": {},
   "source": [
    "Let's inspect some words."
   ]
  },
  {
   "cell_type": "code",
   "execution_count": 12,
   "metadata": {
    "ExecuteTime": {
     "end_time": "2018-05-18T09:18:02.282178Z",
     "start_time": "2018-05-18T09:18:02.274117Z"
    }
   },
   "outputs": [
    {
     "data": {
      "text/html": [
       "<a href=\"https://github.com/etcbc/syrnt/blob/master/plain/0.1/Matthew.txt\" title=\"show this passage in the SyrNT source\" sec=\"Matthew 4:12\">Matthew 4:12</a><div class=\"outeritem\"><div class=\"word   rtl \" ><span class=\"nd\">1000</span><div class=\"sy\">ܫܡܥ </div><div class=\"features\"> <span class=\"word_etcbc\">CM&lt;</span> <span class=\"lexeme_etcbc\">CM&lt;</span> <span class=\"sp\">verb</span> <span class=\"vs\">peal</span> <span class=\"vt\">perfect</span></div></div></div>"
      ],
      "text/plain": [
       "<IPython.core.display.HTML object>"
      ]
     },
     "metadata": {},
     "output_type": "display_data"
    },
    {
     "data": {
      "text/html": [
       "<a href=\"https://github.com/etcbc/syrnt/blob/master/plain/0.1/Matthew.txt\" title=\"show this passage in the SyrNT source\" sec=\"Matthew 22:24\">Matthew 22:24</a><div class=\"outeritem\"><div class=\"word   rtl \" ><span class=\"nd\">10000</span><div class=\"sy\">ܟܕ </div><div class=\"features\"> <span class=\"word_etcbc\">KD</span> <span class=\"lexeme_etcbc\">KD</span> <span class=\"sp\">particle</span></div></div></div>"
      ],
      "text/plain": [
       "<IPython.core.display.HTML object>"
      ]
     },
     "metadata": {},
     "output_type": "display_data"
    },
    {
     "data": {
      "text/html": [
       "<a href=\"https://github.com/etcbc/syrnt/blob/master/plain/0.1/2_Peter.txt\" title=\"show this passage in the SyrNT source\" sec=\"2_Peter 1:5\">2_Peter 1:5</a><div class=\"outeritem\"><div class=\"word   rtl \" ><span class=\"nd\">100000</span><div class=\"sy\">ܕܝܢ </div><div class=\"features\"> <span class=\"word_etcbc\">DJN</span> <span class=\"lexeme_etcbc\">DJN</span> <span class=\"sp\">particle</span></div></div></div>"
      ],
      "text/plain": [
       "<IPython.core.display.HTML object>"
      ]
     },
     "metadata": {},
     "output_type": "display_data"
    }
   ],
   "source": [
    "wordShow = (1000, 10000, 100000)\n",
    "for word in wordShow:\n",
    "  A.pretty(word, withNodes=True)"
   ]
  },
  {
   "cell_type": "markdown",
   "metadata": {},
   "source": [
    "# Feature statistics\n",
    "\n",
    "`F`\n",
    "gives access to all features.\n",
    "Every feature has a method\n",
    "`freqList()`\n",
    "to generate a frequency list of its values, higher frequencies first.\n",
    "Here are the parts of speech:"
   ]
  },
  {
   "cell_type": "code",
   "execution_count": 13,
   "metadata": {
    "ExecuteTime": {
     "end_time": "2018-03-08T10:13:28.926742Z",
     "start_time": "2018-03-08T10:13:28.846500Z"
    }
   },
   "outputs": [
    {
     "data": {
      "text/plain": [
       "(('noun', 33717),\n",
       " ('verb', 30441),\n",
       " ('particle', 28486),\n",
       " ('pronoun', 10247),\n",
       " ('adjective', 4503),\n",
       " ('numeral', 1620),\n",
       " ('adverb', 434),\n",
       " ('idiom', 192))"
      ]
     },
     "execution_count": 13,
     "metadata": {},
     "output_type": "execute_result"
    }
   ],
   "source": [
    "F.sp.freqList()"
   ]
  },
  {
   "cell_type": "code",
   "execution_count": 14,
   "metadata": {},
   "outputs": [
    {
     "data": {
      "text/plain": [
       "(('ܠ', 4235),\n",
       " ('ܗܘܐ', 4007),\n",
       " ('ܗܘ', 3398),\n",
       " ('ܡܢ', 3336),\n",
       " ('ܠܐ', 3141),\n",
       " ('ܐܡܪ', 2554),\n",
       " ('ܕܝܢ', 1829),\n",
       " ('ܥܠ', 1814),\n",
       " ('ܐܢܐ', 1729),\n",
       " ('ܗܢܐ', 1585),\n",
       " ('ܐܢܬ', 1402),\n",
       " ('ܟܠ', 1400),\n",
       " ('ܐܠܗܐ', 1390),\n",
       " ('ܟܕ', 1215),\n",
       " ('ܝܫܘܥ', 1116),\n",
       " ('ܐܝܬ', 1101),\n",
       " ('ܓܝܪ', 1086),\n",
       " ('ܐܬܐ', 1048),\n",
       " ('ܐܝܢܐ', 859),\n",
       " ('ܒ', 825),\n",
       " ('ܒܪܐ', 809),\n",
       " ('ܐܠܐ', 804),\n",
       " ('ܐܦ', 766),\n",
       " ('ܐܝܟ', 760),\n",
       " ('ܡܪܝܐ', 755),\n",
       " ('ܡܛܠ', 741),\n",
       " ('ܚܕ', 740),\n",
       " ('ܚܙܐ', 735),\n",
       " ('ܥܡ', 723),\n",
       " ('ܐܢܫܐ', 709),\n",
       " ('ܥܒܕ', 707),\n",
       " ('ܝܕܥ', 705),\n",
       " ('ܐܢ', 681),\n",
       " ('ܠܘܬ', 603),\n",
       " ('ܡܫܝܚܐ', 586),\n",
       " ('ܩܡ', 551),\n",
       " ('ܝܗܒ', 535),\n",
       " ('ܫܡܥ', 495),\n",
       " ('ܡܕܡ', 493),\n",
       " ('ܪܘܚܐ', 479),\n",
       " ('ܐܒܐ', 456),\n",
       " ('ܫܟܚ', 449),\n",
       " ('ܐܙܠ', 448),\n",
       " ('ܣܓܝܐܐ', 440),\n",
       " ('ܒܝܬܐ', 435),\n",
       " ('ܚܝܐ', 432),\n",
       " ('ܪܒܐ', 431),\n",
       " ('ܢܦܫܐ', 423),\n",
       " ('ܥܠܡܐ', 414),\n",
       " ('ܡܠܬܐ', 410),\n",
       " ('ܢܦܩ', 406),\n",
       " ('ܝܘܡܐ', 382),\n",
       " ('ܐܝܕܐ', 363),\n",
       " ('ܐܚܐ', 361),\n",
       " ('ܡܠ', 352),\n",
       " ('ܩܕܡ', 343),\n",
       " ('ܥܒܕܐ', 333),\n",
       " ('ܩܪܐ', 331),\n",
       " ('ܥܡܐ', 325),\n",
       " ('ܓܒܪܐ', 320),\n",
       " ('ܐܘ', 314),\n",
       " ('ܒܥܐ', 314),\n",
       " ('ܫܡܝܐ', 310),\n",
       " ('ܐܝܟܢܐ', 309),\n",
       " ('ܗܝܡܢ', 306),\n",
       " ('ܐܚܪܢܐ', 296),\n",
       " ('ܡܢܐ', 295),\n",
       " ('ܗܟܢܐ', 283),\n",
       " ('ܬܠܡܝܕܐ', 278),\n",
       " ('ܨܒܐ', 274),\n",
       " ('ܐܪܥܐ', 273),\n",
       " ('ܗܐ', 271),\n",
       " ('ܗܝܡܢܘܬܐ', 265),\n",
       " ('ܒܬܪ', 257),\n",
       " ('ܗܟܝܠ', 251),\n",
       " ('ܫܪܐ', 250),\n",
       " ('ܩܪܒ', 245),\n",
       " ('ܫܡܐ', 245),\n",
       " ('ܫܐܠ', 244),\n",
       " ('ܐܢܬܬܐ', 239),\n",
       " ('ܡܐ', 237),\n",
       " ('ܫܕܪ', 236),\n",
       " ('ܒܪܢܫܐ', 232),\n",
       " ('ܟܬܒ', 232),\n",
       " ('ܢܣܒ', 230),\n",
       " ('ܙܒܢܐ', 228),\n",
       " ('ܢܡܘܣܐ', 225),\n",
       " ('ܕܝܠ', 224),\n",
       " ('ܛܒܐ', 224),\n",
       " ('ܠܝܬ', 224),\n",
       " ('ܡܕܝܢܬܐ', 224),\n",
       " ('ܣܒܪ', 224),\n",
       " ('ܥܕܡܐ', 220),\n",
       " ('ܫܒܩ', 218),\n",
       " ('ܣܡ', 208),\n",
       " ('ܬܡܢ', 207),\n",
       " ('ܝܗܘܕܝܐ', 206),\n",
       " ('ܬܪܝܢ', 205),\n",
       " ('ܩܒܠ', 201),\n",
       " ('ܫܠܡ', 201),\n",
       " ('ܗܫܐ', 194),\n",
       " ('ܬܘܒ', 193),\n",
       " ('ܒܝܫܐ', 186),\n",
       " ('ܡܠܐܟܐ', 182),\n",
       " ('ܪܝܫܐ', 182),\n",
       " ('ܥܢܐ', 180),\n",
       " ('ܐܟܠ', 179),\n",
       " ('ܟܢܫܐ', 179),\n",
       " ('ܦܓܪܐ', 177),\n",
       " ('ܪܡܐ', 176),\n",
       " ('ܡܘܬ', 172),\n",
       " ('ܦܘܠܘܣ', 172),\n",
       " ('ܗܝܕܝܢ', 170),\n",
       " ('ܐܚܕ', 169),\n",
       " ('ܠܒܐ', 169),\n",
       " ('ܡܠܟܘܬܐ', 168),\n",
       " ('ܢܒܝܐ', 168),\n",
       " ('ܫܡܥܘܢ', 168),\n",
       " ('ܕܡܐ', 167),\n",
       " ('ܡܠܐ', 167),\n",
       " ('ܫܠܡܐ', 167),\n",
       " ('ܫܩܠ', 161),\n",
       " ('ܟܐܦܐ', 159),\n",
       " ('ܢܦܠ', 158),\n",
       " ('ܥܝܢܐ', 156),\n",
       " ('ܛܝܒܘܬܐ', 154),\n",
       " ('ܩܠܐ', 154),\n",
       " ('ܚܝܠܐ', 151),\n",
       " ('ܝܬܒ', 149),\n",
       " ('ܝܠܦ', 148),\n",
       " ('ܩܕܝܫܐ', 148),\n",
       " ('ܐܡܝܢ', 147),\n",
       " ('ܐܘܪܫܠܡ', 144),\n",
       " ('ܐܦܐ', 144),\n",
       " ('ܝܡܐ', 143),\n",
       " ('ܡܢܘ', 143),\n",
       " ('ܫܥܬܐ', 143),\n",
       " ('ܡܠܟܐ', 142),\n",
       " ('ܚܠܦ', 138),\n",
       " ('ܝܘܚܢܢ', 138),\n",
       " ('ܣܠܩ', 135),\n",
       " ('ܢܛܪ', 131),\n",
       " ('ܦܩܕ', 131),\n",
       " ('ܒܣܪܐ', 130),\n",
       " ('ܒܠܚܘܕ', 129),\n",
       " ('ܕܝܢܐ', 129),\n",
       " ('ܚܘܒܐ', 129),\n",
       " ('ܡܝܬܐ', 127),\n",
       " ('ܬܠܬ', 127),\n",
       " ('ܡܘܬܐ', 126),\n",
       " ('ܩܛܠ', 125),\n",
       " ('ܟܗܢܐ', 122),\n",
       " ('ܥܬܕ', 122),\n",
       " ('ܝܠܕ', 121),\n",
       " ('ܪܚܡ', 120),\n",
       " ('ܕܢ', 119),\n",
       " ('ܣܗܕ', 119),\n",
       " ('ܗܝܟܠܐ', 118),\n",
       " ('ܐܬܪܐ', 117),\n",
       " ('ܕܚܠ', 115),\n",
       " ('ܥܕܬܐ', 114),\n",
       " ('ܓܠܐ', 112),\n",
       " ('ܗܠܟ', 111),\n",
       " ('ܐܝܟܐ', 110),\n",
       " ('ܥܒܪ', 110),\n",
       " ('ܫܦܝܪܐ', 110),\n",
       " ('ܢܚܬ', 109),\n",
       " ('ܐܘܪܚܐ', 106),\n",
       " ('ܟܢܫ', 106),\n",
       " ('ܚܒ', 104),\n",
       " ('ܚܛܗܐ', 104),\n",
       " ('ܩܕܡܝܐ', 104),\n",
       " ('ܟܬܒܐ', 103),\n",
       " ('ܦܪܝܫܐ', 103),\n",
       " ('ܨܒܝܢܐ', 102),\n",
       " ('ܪܓܠܐ', 102),\n",
       " ('ܝܬܝܪܐ', 101),\n",
       " ('ܨܠܐ', 101),\n",
       " ('ܫܒܥ', 101),\n",
       " ('ܚܘܐ', 100),\n",
       " ('ܩܘܕܫܐ', 100),\n",
       " ('ܬܫܒܘܚܬܐ', 100),\n",
       " ('ܠܚܡܐ', 99),\n",
       " ('ܩܘܐ', 99),\n",
       " ('ܟܠܢܫ', 97),\n",
       " ('ܫܒܚ', 96),\n",
       " ('ܟܪܙ', 95),\n",
       " ('ܡܝܐ', 95),\n",
       " ('ܫܪܪܐ', 95),\n",
       " ('ܐܠܦܐ', 94),\n",
       " ('ܐܡܐ', 94),\n",
       " ('ܕܒܪ', 94),\n",
       " ('ܣܦܪܐ', 94),\n",
       " ('ܦܘܩܕܢܐ', 93),\n",
       " ('ܗܦܟ', 92),\n",
       " ('ܫܘܒܚܐ', 90),\n",
       " ('ܐܒܕ', 88),\n",
       " ('ܐܦܠܐ', 88),\n",
       " ('ܕܠܡܐ', 88),\n",
       " ('ܚܛܝܬܐ', 88),\n",
       " ('ܦܘܡܐ', 87),\n",
       " ('ܫܘܐ', 87),\n",
       " ('ܫܠܝܚܐ', 87),\n",
       " ('ܕܚܠܬܐ', 85),\n",
       " ('ܦܬܚ', 85),\n",
       " ('ܩܫܝܫܐ', 85),\n",
       " ('ܝܕܐ', 84),\n",
       " ('ܟܠ-ܡܕܡ', 84),\n",
       " ('ܐܫܬܝ', 83),\n",
       " ('ܠܒܪ', 83),\n",
       " ('ܡܘܫܐ', 83),\n",
       " ('ܢܘܪܐ', 82),\n",
       " ('ܦܐܪܐ', 82),\n",
       " ('ܩܥܐ', 82),\n",
       " ('ܛܠܝܐ', 81),\n",
       " ('ܝܬܪ', 81),\n",
       " ('ܥܡܕ', 81),\n",
       " ('ܫܘܠܛܢܐ', 81),\n",
       " ('ܝܬܝܪܐܝܬ', 79),\n",
       " ('ܫܢܬܐ', 79),\n",
       " ('ܬܪܥܐ', 79),\n",
       " ('ܐܝܣܪܐܝܠ', 78),\n",
       " ('ܪܥܝܢܐ', 78),\n",
       " ('ܐܣܐ', 77),\n",
       " ('ܚܕܝ', 77),\n",
       " ('ܛܥܐ', 77),\n",
       " ('ܟܢܘܫܬܐ', 77),\n",
       " ('ܐܒܪܗܡ', 76),\n",
       " ('ܘܠܐ', 76),\n",
       " ('ܩܪܝܬܐ', 76),\n",
       " ('ܬܪܥܣܪ', 76),\n",
       " ('ܫܪܒܬܐ', 75),\n",
       " ('ܟܡܐ', 74),\n",
       " ('ܬܚܝܬ', 74),\n",
       " ('ܙܒܢ', 73),\n",
       " ('ܛܘܒ', 71),\n",
       " ('ܪܥܐ', 71),\n",
       " ('ܫܒܬܐ', 71),\n",
       " ('ܕܘܟܬܐ', 70),\n",
       " ('ܝܥܩܘܒ', 70),\n",
       " ('ܩܠܝܠܐ', 70),\n",
       " ('ܕܟܐ', 69),\n",
       " ('ܗܢܘ', 69),\n",
       " ('ܚܘܪ', 69),\n",
       " ('ܠܠܝܐ', 69),\n",
       " ('ܢܘܗܪܐ', 69),\n",
       " ('ܪܚܡܐ', 69),\n",
       " ('ܚܝܘܬܐ', 68),\n",
       " ('ܟܐܢܘܬܐ', 68),\n",
       " ('ܣܗܕܘܬܐ', 68),\n",
       " ('ܐܣܪ', 67),\n",
       " ('ܓܒܐ', 67),\n",
       " ('ܙܥܘܪܐ', 67),\n",
       " ('ܚܫܒ', 67),\n",
       " ('ܛܘܪܐ', 67),\n",
       " ('ܝܘܠܦܢܐ', 67),\n",
       " ('ܡܛܐ', 67),\n",
       " ('ܦܝܣ', 67),\n",
       " ('ܦܠܚ', 67),\n",
       " ('ܚܒܝܒܐ', 66),\n",
       " ('ܠܘܩܒܠ', 66),\n",
       " ('ܫܪܝܪܐ', 66),\n",
       " ('ܕܡܘܬܐ', 65),\n",
       " ('ܚܕܘܬܐ', 65),\n",
       " ('ܟܣܐ', 65),\n",
       " ('ܓܠܝܠܐ', 64),\n",
       " ('ܣܟܠ', 64),\n",
       " ('ܪܕܐ', 64),\n",
       " ('ܠܡܐ', 62),\n",
       " ('ܡܚܕܐ', 62),\n",
       " ('ܣܓܕ', 62),\n",
       " ('ܕܘܝܕ', 61),\n",
       " ('ܫܡܫ', 61),\n",
       " ('ܐܘܠܨܢܐ', 60),\n",
       " ('ܐܪܒܥܐ', 60),\n",
       " ('ܚܕܬܐ', 60),\n",
       " ('ܟܘܪܣܝܐ', 60),\n",
       " ('ܣܒܪܐ', 60),\n",
       " ('ܦܝܠܛܘܣ', 60),\n",
       " ('ܒܪܟ', 59),\n",
       " ('ܙܕܩ', 59),\n",
       " ('ܠܫܢܐ', 59),\n",
       " ('ܪܘܡ', 59),\n",
       " ('ܐܠܘ', 58),\n",
       " ('ܐܡܬܝ', 58),\n",
       " ('ܐܣܝܪܐ', 58),\n",
       " ('ܡܪܝܡ', 58),\n",
       " ('ܥܘܠܐ', 58),\n",
       " ('ܥܡܪ', 58),\n",
       " ('ܦܢܐ', 58),\n",
       " ('ܦܪܫ', 58),\n",
       " ('ܒܛܠ', 57),\n",
       " ('ܠܘܩܕܡ', 57),\n",
       " ('ܡܐܢܐ', 57),\n",
       " ('ܡܗܝܡܢܐ', 57),\n",
       " ('ܡܟܝܠ', 57),\n",
       " ('ܣܥܪ', 56),\n",
       " ('ܦܪܩ', 55),\n",
       " ('ܩܪܝܒܐ', 55),\n",
       " ('ܐܚܪܝܐ', 54),\n",
       " ('ܚܟܡܬܐ', 54),\n",
       " ('ܫܠܝܛܐ', 54),\n",
       " ('ܕܡܪ', 53),\n",
       " ('ܚܫܘܟܐ', 53),\n",
       " ('ܝܡܝܢܐ', 53),\n",
       " ('ܟܠ-ܙܒܢ', 53),\n",
       " ('ܠܡܢܐ', 53),\n",
       " ('ܬܫܡܫܬܐ', 53),\n",
       " ('ܗܪܟܐ', 52),\n",
       " ('ܙܩܦ', 51),\n",
       " ('ܙܪܥ', 51),\n",
       " ('ܙܪܥܐ', 51),\n",
       " ('ܠܒܫ', 51),\n",
       " ('ܒܝܢܬ', 50),\n",
       " ('ܚܛܝܐ', 50),\n",
       " ('ܚܡܫܐ', 50),\n",
       " ('ܝܕܥܬܐ', 50),\n",
       " ('ܝܗܘܕ', 50),\n",
       " ('ܣܛܢܐ', 50),\n",
       " ('ܨܠܘܬܐ', 50),\n",
       " ('ܫܢܐ', 50),\n",
       " ('ܘܝ', 49),\n",
       " ('ܚܘܒ', 49),\n",
       " ('ܛܘܒܐ', 49),\n",
       " ('ܢܘܚ', 49),\n",
       " ('ܣܒܪܬܐ', 49),\n",
       " ('ܦܠܓ', 49),\n",
       " ('ܫܐܕܐ', 49),\n",
       " ('ܒܢܐ', 48),\n",
       " ('ܙܕܝܩܐ', 48),\n",
       " ('ܡܬܠܐ', 48),\n",
       " ('ܒܝܬ', 47),\n",
       " ('ܚܡܪܐ', 47),\n",
       " ('ܡܘܗܒܬܐ', 47),\n",
       " ('ܣܡܟ', 47),\n",
       " ('ܪܗܛ', 47),\n",
       " ('ܐܕܢܐ', 46),\n",
       " ('ܒܗܪ', 46),\n",
       " ('ܒܥܠܐ', 46),\n",
       " ('ܗܪܘܕܣ', 46),\n",
       " ('ܚܝܒܐ', 46),\n",
       " ('ܡܚܐ', 46),\n",
       " ('ܩܕܝܡܐ', 46),\n",
       " ('ܗܘܝܘ', 45),\n",
       " ('ܙܥ', 45),\n",
       " ('ܝܗܘܕܐ', 45),\n",
       " ('ܟܦܪ', 45),\n",
       " ('ܡܠܦܢܐ', 45),\n",
       " ('ܡܠܟ', 44),\n",
       " ('ܙܗܪ', 43),\n",
       " ('ܝܘܡܢܐ', 43),\n",
       " ('ܣܢܐ', 43),\n",
       " ('ܥܪܩ', 43),\n",
       " ('ܐܓܪܐ', 42),\n",
       " ('ܐܠܨ', 42),\n",
       " ('ܒܟܐ', 42),\n",
       " ('ܒܪܬܐ', 42),\n",
       " ('ܚܪܬܐ', 42),\n",
       " ('ܝܩܪ', 42),\n",
       " ('ܡܫܡܫܢܐ', 42),\n",
       " ('ܢܩܦ', 42),\n",
       " ('ܣܡܝܐ', 42),\n",
       " ('ܥܪ', 42),\n",
       " ('ܦܪܥ', 42),\n",
       " ('ܓܡܪ', 41),\n",
       " ('ܕܗܒܐ', 41),\n",
       " ('ܙܕܝܩܘܬܐ', 41),\n",
       " ('ܢܣܐ', 41),\n",
       " ('ܦܠܚܐ', 41),\n",
       " ('ܫܪܟܐ', 41),\n",
       " ('ܐܝܩܪܐ', 40),\n",
       " ('ܐܡܪܐ', 40),\n",
       " ('ܚܒܠ', 40),\n",
       " ('ܚܛܐ', 40),\n",
       " ('ܝܘܣܦ', 40),\n",
       " ('ܟܣܦܐ', 40),\n",
       " ('ܟܪܟ', 40),\n",
       " ('ܣܦܝܢܬܐ', 40),\n",
       " ('ܒܥܠܕܒܒܐ', 39),\n",
       " ('ܕܓܠܐ', 39),\n",
       " ('ܗܕܡܐ', 39),\n",
       " ('ܡܘܠܟܢܐ', 39),\n",
       " ('ܡܣܟܢܐ', 39),\n",
       " ('ܥܓܠ', 39),\n",
       " ('ܦܝܠܝܦܘܣ', 39),\n",
       " ('ܪܘܓܙܐ', 39),\n",
       " ('ܫܕܐ', 39),\n",
       " ('ܬܒ', 39),\n",
       " ('ܒܗܬ', 38),\n",
       " ('ܚܟܝܡܐ', 37),\n",
       " ('ܩܝܡܬܐ', 37),\n",
       " ('ܫܪܝܪܐܝܬ', 37),\n",
       " ('ܚܫ', 36),\n",
       " ('ܥܗܕ', 36),\n",
       " ('ܥܬܝܪܐ', 36),\n",
       " ('ܦܪܨܘܦܐ', 36),\n",
       " ('ܩܣܪ', 36),\n",
       " ('ܫܪ', 36),\n",
       " ('ܐܝܢ', 35),\n",
       " ('ܓܕܦ', 35),\n",
       " ('ܕܡܟ', 35),\n",
       " ('ܠܘ', 35),\n",
       " ('ܣܟܐ', 35),\n",
       " ('ܥܠܬܐ', 35),\n",
       " ('ܦܣܩ', 35),\n",
       " ('ܪܕܦ', 35),\n",
       " ('ܓܙܘܪܬܐ', 34),\n",
       " ('ܕܟܪ', 34),\n",
       " ('ܨܒܘܬܐ', 34),\n",
       " ('ܩܒܘܪܐ', 34),\n",
       " ('ܫܡܫܐ', 34),\n",
       " ('ܐܠܝܐ', 33),\n",
       " ('ܐܦܢ', 33),\n",
       " ('ܒܪܡ', 33),\n",
       " ('ܕܝܘܐ', 32),\n",
       " ('ܕܝܬܝܩܐ', 32),\n",
       " ('ܙܟܐ', 32),\n",
       " ('ܛܢܦܐ', 32),\n",
       " ('ܡܣܝܒܪܢܘܬܐ', 32),\n",
       " ('ܡܥܡܘܕܝܬܐ', 32),\n",
       " ('ܥܣܪ', 32),\n",
       " ('ܩܘܪܒܢܐ', 32),\n",
       " ('ܩܘܫܬܐ', 32),\n",
       " ('ܫܦܪ', 32),\n",
       " ('ܐܘܢܓܠܝܘܢ', 31),\n",
       " ('ܐܝܡܡܐ', 31),\n",
       " ('ܓܘ', 31),\n",
       " ('ܚܒܪܐ', 31),\n",
       " ('ܚܘܪܒܐ', 31),\n",
       " ('ܝܨܦ', 31),\n",
       " ('ܝܩܕ', 31),\n",
       " ('ܟܪܗ', 31),\n",
       " ('ܟܫܠ', 31),\n",
       " ('ܣܓܐ', 31),\n",
       " ('ܣܗܕܐ', 31),\n",
       " ('ܥܕܟܝܠ', 31),\n",
       " ('ܫܥܐ', 31),\n",
       " ('ܟܐܐ', 30),\n",
       " ('ܟܪܝܗܐ', 30),\n",
       " ('ܡܟܣܐ', 30),\n",
       " ('ܡܨܥܬܐ', 30),\n",
       " ('ܢܒܐ', 30),\n",
       " ('ܢܓܕ', 30),\n",
       " ('ܢܗܪ', 30),\n",
       " ('ܢܘܢܐ', 30),\n",
       " ('ܥܒܪܐ', 30),\n",
       " ('ܥܕ', 30),\n",
       " ('ܐܓܪܬܐ', 29),\n",
       " ('ܐܪܙܐ', 29),\n",
       " ('ܒܝܐ', 29),\n",
       " ('ܒܪܢܒܐ', 29),\n",
       " ('ܚܙܘܐ', 29),\n",
       " ('ܟܘܟܒܐ', 29),\n",
       " ('ܟܘܡܪܐ', 29),\n",
       " ('ܟܪܐ', 29),\n",
       " ('ܠܥܣ', 29),\n",
       " ('ܡܐܟܘܠܬܐ', 29),\n",
       " ('ܡܩܕܘܢܝܐ', 29),\n",
       " ('ܥܢܢܐ', 29),\n",
       " ('ܥܪܣܐ', 29),\n",
       " ('ܦܨܚܐ', 29),\n",
       " ('ܪܒܘܬܐ', 29),\n",
       " ('ܪܝܫܝܬܐ', 29),\n",
       " ('ܐܪܡܠܬܐ', 28),\n",
       " ('ܓܒܝܐ', 28),\n",
       " ('ܓܠܝܢܐ', 28),\n",
       " ('ܟܪܣܐ', 28),\n",
       " ('ܢܚܬܐ', 28),\n",
       " ('ܦܬܓܡܐ', 28),\n",
       " ('ܨܦܪܐ', 28),\n",
       " ('ܫܘܩܐ', 28),\n",
       " ('ܫܘܬܦ', 28),\n",
       " ('ܬܐܪܬܐ', 28),\n",
       " ('ܐܝܠܢܐ', 27),\n",
       " ('ܐܝܡܟܐ', 27),\n",
       " ('ܐܣܝܐ', 27),\n",
       " ('ܙܩܝܦܐ', 27),\n",
       " ('ܟܪܡܐ', 27),\n",
       " ('ܠܐܐ', 27),\n",
       " ('ܥܕܪ', 27),\n",
       " ('ܦܣ', 27),\n",
       " ('ܦܬܟܪܐ', 27),\n",
       " ('ܩܒܪܐ', 27),\n",
       " ('ܩܕܫ', 27),\n",
       " ('ܪܓܝܓܬܐ', 27),\n",
       " ('ܫܠܚ', 27),\n",
       " ('ܫܬܐ', 27),\n",
       " ('ܬܡܗ', 27),\n",
       " ('ܐܟܚܕܐ', 26),\n",
       " ('ܐܪܒܥܝܢ', 26),\n",
       " ('ܐܫܕ', 26),\n",
       " ('ܕܒܚܐ', 26),\n",
       " ('ܕܟܝܐ', 26),\n",
       " ('ܙܢܝܘܬܐ', 26),\n",
       " ('ܚܒܠܐ', 26),\n",
       " ('ܚܪܫܐ', 26),\n",
       " ('ܝܣܦ', 26),\n",
       " ('ܟܠܐ', 26),\n",
       " ('ܡܐܐ', 26),\n",
       " ('ܡܨܪܝܢ', 26),\n",
       " ('ܣܝܡܬܐ', 26),\n",
       " ('ܥܩܪܐ', 26),\n",
       " ('ܥܪܒܐ', 26),\n",
       " ('ܦܩܚܐ', 26),\n",
       " ('ܩܢܛܪܘܢܐ', 26),\n",
       " ('ܛܝܡܬܐܘܣ', 25),\n",
       " ('ܝܒܠ', 25),\n",
       " ('ܝܩܝܪܐ', 25),\n",
       " ('ܟܘܪܗܢܐ', 25),\n",
       " ('ܡܐܬܝܬܐ', 25),\n",
       " ('ܡܕܒܚܐ', 25),\n",
       " ('ܡܚܘܬܐ', 25),\n",
       " ('ܥܕܢܐ', 25),\n",
       " ('ܥܕܥܕܐ', 25),\n",
       " ('ܨܘܡ', 25),\n",
       " ('ܪܓ', 25),\n",
       " ('ܫܐܘܠ', 25),\n",
       " ('ܫܓ', 25),\n",
       " ('ܫܘܒܗܪܐ', 25),\n",
       " ('ܫܬܩ', 25),\n",
       " ('ܒܘܝܐܐ', 24),\n",
       " ('ܒܪܝܬܐ', 24),\n",
       " ('ܟܐܢܐ', 24),\n",
       " ('ܡܚܫܒܬܐ', 24),\n",
       " ('ܣܦܩ', 24),\n",
       " ('ܦܘܪܩܢܐ', 24),\n",
       " ('ܪܚܝܩܐ', 24),\n",
       " ('ܬܝܒܘܬܐ', 24),\n",
       " ('ܬܟܠ', 24),\n",
       " ('ܐܪܡܝܐ', 23),\n",
       " ('ܐܫܥܝܐ', 23),\n",
       " ('ܒܝܢܝ', 23),\n",
       " ('ܒܩܐ', 23),\n",
       " ('ܗܟܘܬ', 23),\n",
       " ('ܚܕܪܐ', 23),\n",
       " ('ܚܘܪܐ', 23),\n",
       " ('ܚܨܐ', 23),\n",
       " ('ܚܪܝܢܐ', 23),\n",
       " ('ܚܬܐ', 23),\n",
       " ('ܛܥܡ', 23),\n",
       " ('ܛܫܐ', 23),\n",
       " ('ܣܢܩ', 23),\n",
       " ('ܦܫܩ', 23),\n",
       " ('ܩܪܢܐ', 23),\n",
       " ('ܫܬܐܣܬܐ', 23),\n",
       " ('ܬܩܢ', 23),\n",
       " ('ܐܒܕܢܐ', 22),\n",
       " ('ܐܣܛܪܛܝܘܛܐ', 22),\n",
       " ('ܒܣܡܐ', 22),\n",
       " ('ܚܣܝܪܐ', 22),\n",
       " ('ܝܪܚܐ', 22),\n",
       " ('ܟܠ-ܝܘܡ', 22),\n",
       " ('ܟܦܢ', 22),\n",
       " ('ܠܒܘܫܐ', 22),\n",
       " ('ܡܟܝܟܐ', 22),\n",
       " ('ܡܢܬܐ', 22),\n",
       " ('ܢܒܝܘܬܐ', 22),\n",
       " ('ܢܘܟܪܝܐ', 22),\n",
       " ('ܢܣܝܘܢܐ', 22),\n",
       " ('ܢܨܪܝܐ', 22),\n",
       " ('ܣܘܓܐܐ', 22),\n",
       " ('ܣܝܒ', 22),\n",
       " ('ܣܟܠܘܬܐ', 22),\n",
       " ('ܥܘܬܪܐ', 22),\n",
       " ('ܦܨܐ', 22),\n",
       " ('ܪܥܝܐ', 22),\n",
       " ('ܬܐܬܐ', 22),\n",
       " ('ܐܝܣܚܩ', 21),\n",
       " ('ܐܟܘܬ', 21),\n",
       " ('ܐܣܘܪܐ', 21),\n",
       " ('ܒܢܝܢܐ', 21),\n",
       " ('ܒܣܡ', 21),\n",
       " ('ܓܙܪ', 21),\n",
       " ('ܕܝܢܪܐ', 21),\n",
       " ('ܗܓܡܘܢܐ', 21),\n",
       " ('ܚܝܠܬܢܐ', 21),\n",
       " ('ܚܠܝܡܐ', 21),\n",
       " ('ܚܡܬܐ', 21),\n",
       " ('ܚܨܕ', 21),\n",
       " ('ܟܕܘ', 21),\n",
       " ('ܟܠܝܪܟܐ', 21),\n",
       " ('ܡܡܬܘܡ', 21),\n",
       " ('ܣܠܐ', 21),\n",
       " ('ܣܥܪܐ', 21),\n",
       " ('ܣܪܩ', 21),\n",
       " ('ܥܘܪܠܘܬܐ', 21),\n",
       " ('ܩܝܡܐ', 21),\n",
       " ('ܪܓܡ', 21),\n",
       " ('ܫܠܝ', 21),\n",
       " ('ܫܡܪܝܐ', 21),\n",
       " ('ܐܟܠ-ܩܪܨܐ', 20),\n",
       " ('ܒܕܪ', 20),\n",
       " ('ܓܘܕܦܐ', 20),\n",
       " ('ܓܘܪ', 20),\n",
       " ('ܙܝܬܐ', 20),\n",
       " ('ܚܦܛ', 20),\n",
       " ('ܟܘܢ', 20),\n",
       " ('ܟܠܝܠܐ', 20),\n",
       " ('ܡܕܒܪܐ', 20),\n",
       " ('ܡܟ', 20),\n",
       " ('ܡܫܚ', 20),\n",
       " ('ܡܫܪܝܐ', 20),\n",
       " ('ܥܠܝܡܐ', 20),\n",
       " ('ܦܬܘܪܐ', 20),\n",
       " ('ܩܢܝܢܐ', 20),\n",
       " ('ܩܪܒܐ', 20),\n",
       " ('ܪܡܫܐ', 20),\n",
       " ('ܫܒܛܐ', 20),\n",
       " ('ܫܘܒܩܢܐ', 20),\n",
       " ('ܐܢܛܝܘܟܝ', 19),\n",
       " ('ܒܘܪܟܬܐ', 19),\n",
       " ('ܕܪܟ', 19),\n",
       " ('ܚܐܪܐ', 19),\n",
       " ('ܚܝܠ', 19),\n",
       " ('ܚܠܐ', 19),\n",
       " ('ܚܪܒܐ', 19),\n",
       " ('ܛܢܢܐ', 19),\n",
       " ('ܝܪܬ', 19),\n",
       " ('ܡܕܥܐ', 19),\n",
       " ('ܡܘܡܬܐ', 19),\n",
       " ('ܡܢܝܢܐ', 19),\n",
       " ('ܡܪܚ', 19),\n",
       " ('ܢܟܠܐ', 19),\n",
       " ('ܣܒܥ', 19),\n",
       " ('ܣܟܠܐ', 19),\n",
       " ('ܦܫܛ', 19),\n",
       " ('ܨܝܕ', 19),\n",
       " ('ܩܨܐ', 19),\n",
       " ('ܪܒܝ', 19),\n",
       " ('ܪܓܬܐ', 19),\n",
       " ('ܬܢܝܢܐ', 19),\n",
       " ('ܒܨܪ', 18),\n",
       " ('ܓܢܒܐ', 18),\n",
       " ('ܚܛܦ', 18),\n",
       " ('ܝܪܬܘܬܐ', 18),\n",
       " ('ܟܒܪ', 18),\n",
       " ('ܟܝܢܐ', 18),\n",
       " ('ܡܕܝܢ', 18),\n",
       " ('ܡܫܟܢܐ', 18),\n",
       " ('ܥܛܦ', 18),\n",
       " ('ܨܥܪ', 18),\n",
       " ('ܩܢܐ', 18),\n",
       " ('ܪܓܙ', 18),\n",
       " ('ܫܓܫ', 18),\n",
       " ('ܫܠܝܐ', 18),\n",
       " ('ܫܩܐ', 18),\n",
       " ('ܬܒܥ', 18),\n",
       " ('ܬܘܕܝܬܐ', 18),\n",
       " ('ܐܦܣܘܣ', 17),\n",
       " ('ܒܙܚ', 17),\n",
       " ('ܒܣܬܪܐ', 17),\n",
       " ('ܚܕܕܐ', 17),\n",
       " ('ܚܣ', 17),\n",
       " ('ܚܣܡܐ', 17),\n",
       " ('ܚܫܐ', 17),\n",
       " ('ܝܪܬܐ', 17),\n",
       " ('ܟܝ', 17),\n",
       " ('ܟܦܢܐ', 17),\n",
       " ('ܟܦܪܢܚܘܡ', 17),\n",
       " ('ܡܚܝܢܐ', 17),\n",
       " ('ܡܨܝܕܬܐ', 17),\n",
       " ('ܢܗܝܪܐ', 17),\n",
       " ('ܥܡܘܪܐ', 17),\n",
       " ('ܦܠܓܘܬܐ', 17),\n",
       " ('ܦܪܚܬܐ', 17),\n",
       " ('ܩܒܪ', 17),\n",
       " ('ܫܘܠܡܐ', 17),\n",
       " ('ܫܘܬܦܘܬܐ', 17),\n",
       " ('ܫܢܩ', 17),\n",
       " ('ܫܪܓܐ', 17),\n",
       " ('ܐܟܣܢܝܐ', 16),\n",
       " ('ܒܬܪܟܢ', 16),\n",
       " ('ܓܢܒ', 16),\n",
       " ('ܕܪܡܣܘܩ', 16),\n",
       " ('ܕܪܬܐ', 16),\n",
       " ('ܗܪ', 16),\n",
       " ('ܚܠܡ', 16),\n",
       " ('ܚܫܡܝܬܐ', 16),\n",
       " ('ܚܬܢܐ', 16),\n",
       " ('ܛܘܗܡܐ', 16),\n",
       " ('ܛܠܡ', 16),\n",
       " ('ܝܘܪܕܢܢ', 16),\n",
       " ('ܝܠܘܕܐ', 16),\n",
       " ('ܟܣܝܐ', 16),\n",
       " ('ܠܥܙܪ', 16),\n",
       " ('ܡܘܚܐ', 16),\n",
       " ('ܡܟܝܟܘܬܐ', 16),\n",
       " ('ܡܥܡܕܢܐ', 16),\n",
       " ('ܡܫܠܡܢܐ', 16),\n",
       " ('ܢܗܪܐ', 16),\n",
       " ('ܣܡܟܐ', 16),\n",
       " ('ܨܗܐ', 16),\n",
       " ('ܨܠܡܐ', 16),\n",
       " ('ܩܝܣܐ', 16),\n",
       " ('ܩܢܘܡܐ', 16),\n",
       " ('ܩܣܪܝܐ', 16),\n",
       " ('ܩܪܨܐ', 16),\n",
       " ('ܩܫܝܐ', 16),\n",
       " ('ܪܗܘܡܝܐ', 16),\n",
       " ('ܪܘܚܩܐ', 16),\n",
       " ('ܪܢܐ', 16),\n",
       " ('ܫܝܘܠ', 16),\n",
       " ('ܬܕܡܘܪܬܐ', 16),\n",
       " ('ܬܘܠܬܐ', 16),\n",
       " ('ܬܚܘܡܐ', 16),\n",
       " ('ܬܫܥ', 16),\n",
       " ('ܐܓܪܦܘܣ', 15),\n",
       " ('ܐܡܬܐ', 15),\n",
       " ('ܐܪܟܘܢܐ', 15),\n",
       " ('ܒܘܪܟܐ', 15),\n",
       " ('ܒܬܘܠܬܐ', 15),\n",
       " ('ܓܙܪܬܐ', 15),\n",
       " ('ܓܪܒܐ', 15),\n",
       " ('ܕܡܝܐ', 15),\n",
       " ('ܙܒܘܪܐ', 15),\n",
       " ('ܙܕܘܩܝܐ', 15),\n",
       " ('ܙܕܩܬܐ', 15),\n",
       " ('ܙܢܐ', 15),\n",
       " ('ܚܕܪ', 15),\n",
       " ('ܚܙܝܪܐ', 15),\n",
       " ('ܚܡܝܪܐ', 15),\n",
       " ('ܚܣܪ', 15),\n",
       " ('ܛܛܘܣ', 15),\n",
       " ('ܛܢܦܘܬܐ', 15),\n",
       " ('ܟܐܒܐ', 15),\n",
       " ('ܟܘܒܐ', 15),\n",
       " ('ܡܨܐ', 15),\n",
       " ('ܡܪܬܐ', 15),\n",
       " ('ܡܫܚܐ', 15),\n",
       " ('ܡܫܬܘܬܐ', 15),\n",
       " ('ܣܝܦܐ', 15),\n",
       " ('ܦܗܣܛܘܣ', 15),\n",
       " ('ܦܠܐܬܐ', 15),\n",
       " ('ܨܘܪ', 15),\n",
       " ('ܩܕܝܫܘܬܐ', 15),\n",
       " ('ܫܘܥܐ', 15),\n",
       " ('ܫܘܬܦܐ', 15),\n",
       " ('ܫܝܢܐ', 15),\n",
       " ('ܬܘܩܠܬܐ', 15),\n",
       " ('ܬܘܪܐ', 15),\n",
       " ('ܬܢܢ', 15),\n",
       " ('ܬܪܥܝܬܐ', 15),\n",
       " ('ܐܢܕܪܐܘܣ', 14),\n",
       " ('ܒܝܫܘܬܐ', 14),\n",
       " ('ܒܝܬ-ܥܢܝܐ', 14),\n",
       " ('ܒܣܐ', 14),\n",
       " ('ܒܣܝܡܘܬܐ', 14),\n",
       " ('ܒܪܝܐ', 14),\n",
       " ('ܕܪܫ', 14),\n",
       " ('ܙܘܥܐ', 14),\n",
       " ('ܙܟܪܝܐ', 14),\n",
       " ('ܙܥܩ', 14),\n",
       " ('ܚܘܝܐ', 14),\n",
       " ('ܚܣܝܪܘܬܐ', 14),\n",
       " ('ܚܪܐ', 14),\n",
       " ('ܚܪܪ', 14),\n",
       " ('ܚܫܚ', 14),\n",
       " ('ܛܒܥܐ', 14),\n",
       " ('ܠܘܛ', 14),\n",
       " ('ܡܐܢ', 14),\n",
       " ('ܡܫܘܚܬܐ', 14),\n",
       " ('ܢܨܒ', 14),\n",
       " ('ܢܨܪܬ', 14),\n",
       " ('ܢܫܩ', 14),\n",
       " ('ܣܘܟܐ', 14),\n",
       " ('ܣܘܥܪܢܐ', 14),\n",
       " ('ܣܝܒܪܬܐ', 14),\n",
       " ('ܣܡܠܐ', 14),\n",
       " ('ܥܒܕܘܬܐ', 14),\n",
       " ('ܥܝܠܐ', 14),\n",
       " ('ܥܡܠܐ', 14),\n",
       " ('ܦܥܠܐ', 14),\n",
       " ('ܪܛܢ', 14),\n",
       " ('ܪܫܝܢܐ', 14),\n",
       " ('ܫܓܘܫܝܐ', 14),\n",
       " ('ܫܘܘܕܝܐ', 14),\n",
       " ('ܫܝܠܐ', 14),\n",
       " ('ܬܪܢܓܠܐ', 14),\n",
       " ('ܐܣܟܡܐ', 13),\n",
       " ('ܒܒܠ', 13),\n",
       " ('ܒܝܫܐܝܬ', 13),\n",
       " ('ܒܠܥ', 13),\n",
       " ('ܒܥܘܬܐ', 13),\n",
       " ('ܕܢܚ', 13),\n",
       " ('ܙܒܕܝ', 13),\n",
       " ('ܙܢܝܬܐ', 13),\n",
       " ('ܙܩܐ', 13),\n",
       " ('ܚܛܬܐ', 13),\n",
       " ('ܚܡܐ', 13),\n",
       " ('ܚܢܦܐ', 13),\n",
       " ('ܚܢܩ', 13),\n",
       " ('ܚܨܕܐ', 13),\n",
       " ('ܛܢ', 13),\n",
       " ('ܛܥܢ', 13),\n",
       " ('ܝܒܫ', 13),\n",
       " ('ܝܕܝܥܐ', 13),\n",
       " ('ܝܘܬܪܢܐ', 13),\n",
       " ('ܝܠܕܐ', 13),\n",
       " ('ܝܫܛ', 13),\n",
       " ('ܟܟܪܐ', 13),\n",
       " ('ܟܣ', 13),\n",
       " ('ܟܬܫ', 13),\n",
       " ('ܡܓܕܠܝܐ', 13),\n",
       " ('ܡܚܪ', 13),\n",
       " ('ܡܛܪܐ', 13),\n",
       " ('ܡܟܐ', 13),\n",
       " ('ܡܢܪܬܐ', 13),\n",
       " ('ܡܣܒܐ', 13),\n",
       " ('ܢܓܪ', 13),\n",
       " ('ܢܝܚܬܐ', 13),\n",
       " ('ܣܟܪܝܘܛܐ', 13),\n",
       " ('ܥܕܠܐ', 13),\n",
       " ('ܥܝܕܐ', 13),\n",
       " ('ܥܬܝܩܐ', 13),\n",
       " ('ܥܬܪ', 13),\n",
       " ('ܩܛܝܪܐ', 13),\n",
       " ('ܩܢܝܐ', 13),\n",
       " ('ܩܪܝܐ', 13),\n",
       " ('ܪܥܡܐ', 13),\n",
       " ('ܫܘܪܝܐ', 13),\n",
       " ('ܫܝܫܠܬܐ', 13),\n",
       " ('ܫܠܝܡܘܢ', 13),\n",
       " ('ܬܡܢܐ', 13),\n",
       " ('ܬܢܢܐ', 13),\n",
       " ('ܐܚܝܕܐ', 12),\n",
       " ('ܐܚܪ', 12),\n",
       " ('ܐܟܐܝܐ', 12),\n",
       " ('ܐܪܥ', 12),\n",
       " ('ܒܗܬܬܐ', 12),\n",
       " ('ܒܝܡ', 12),\n",
       " ('ܒܪ-ܐܒܐ', 12),\n",
       " ('ܓܗܢܐ', 12),\n",
       " ('ܓܡܝܪܐ', 12),\n",
       " ('ܕܚܫܐ', 12),\n",
       " ('ܕܟܪܐ', 12),\n",
       " ('ܕܡܥܬܐ', 12),\n",
       " ('ܕܪܐ', 12),\n",
       " ('ܗܘܦܟܐ', 12),\n",
       " ('ܚܘܣ', 12),\n",
       " ('ܚܢܢܐ', 12),\n",
       " ('ܚܢܢܝܐ', 12),\n",
       " ('ܚܫܟ', 12),\n",
       " ('ܛܡܐܐ', 12),\n",
       " ('ܝܐܝܐ', 12),\n",
       " ('ܝܡܬܐ', 12),\n",
       " ('ܟܐ', 12),\n",
       " ('ܟܘܬܝܢܐ', 12),\n",
       " ('ܟܬܢܐ', 12),\n",
       " ('ܟܬܪ', 12),\n",
       " ('ܡܓܪܬܐ', 12),\n",
       " ('ܡܠܚܐ', 12),\n",
       " ('ܡܦܩܐ', 12),\n",
       " ('ܡܫܚܠܦܐ', 12),\n",
       " ('ܡܬܘܡ', 12),\n",
       " ('ܢܩܫ', 12),\n",
       " ('ܣܩܘܒܠܐ', 12),\n",
       " ('ܣܪܝܩܐ', 12),\n",
       " ('ܥܒܪܐܝܬ', 12),\n",
       " ('ܥܣܪܝܢ', 12),\n",
       " ('ܦܪܘܩܐ', 12),\n",
       " ('ܨܝܕܢ', 12),\n",
       " ('ܨܪܐ', 12),\n",
       " ('ܩܛܠܐ', 12),\n",
       " ('ܩܢܕܝܢܘܣ', 12),\n",
       " ('ܩܪܩܦܬܐ', 12),\n",
       " ('ܪܗܒ', 12),\n",
       " ('ܪܟܒ', 12),\n",
       " ('ܪܫܝܥܐ', 12),\n",
       " ('ܬܐܘܡܐ', 12),\n",
       " ('ܬܠܬܝܢ', 12),\n",
       " ('ܐܓܘܢܐ', 11),\n",
       " ('ܐܘܡܬܐ', 11),\n",
       " ('ܐܚܝܢܐ', 11),\n",
       " ('ܐܝܟܘ', 11),\n",
       " ('ܐܠܝܫܒܥ', 11),\n",
       " ('ܐܡܝܢܐ', 11),\n",
       " ('ܐܡܝܢܐܝܬ', 11),\n",
       " ('ܐܦܠܘ', 11),\n",
       " ('ܒܨܐ', 11),\n",
       " ('ܓܠܝܠܝܐ', 11),\n",
       " ('ܓܥܠ', 11),\n",
       " ('ܕܓܠ', 11),\n",
       " ('ܕܘܫ', 11),\n",
       " ('ܕܥܟ', 11),\n",
       " ('ܙܢܝܐ', 11),\n",
       " ('ܚܐܪܘܬܐ', 11),\n",
       " ('ܚܣܝܢܐ', 11),\n",
       " ('ܚܦܝܛܘܬܐ', 11),\n",
       " ('ܚܬܡ', 11),\n",
       " ('ܛܥܝܘܬܐ', 11),\n",
       " ('ܝܒܫܐ', 11),\n",
       " ('ܝܘܢܐ', 11),\n",
       " ('ܟܢܬܐ', 11),\n",
       " ('ܟܪܝܗܘܬܐ', 11),\n",
       " ('ܟܪܝܘܬܐ', 11),\n",
       " ('ܠܒܒ', 11),\n",
       " ('ܠܘܐ', 11),\n",
       " ('ܡܠܟܝܙܕܩ', 11),\n",
       " ('ܡܢܝܐ', 11),\n",
       " ('ܡܣܢܐ', 11),\n",
       " ('ܡܥܕܪܢܐ', 11),\n",
       " ('ܡܫܡܥܬܐ', 11),\n",
       " ('ܡܫܪܝܬܐ', 11),\n",
       " ('ܢܝܚܐ', 11),\n",
       " ('ܣܐܡܐ', 11),\n",
       " ('ܣܕܘܡ', 11),\n",
       " ('ܣܗܪܐ', 11),\n",
       " ('ܣܦܣܪܐ', 11),\n",
       " ('ܣܪܝܩܐܝܬ', 11),\n",
       " ('ܥܘܡܩܐ', 11),\n",
       " ('ܥܪܛܠܝܐ', 11),\n",
       " ('ܦܘܠܚܢܐ', 11),\n",
       " ('ܦܠܓܐ', 11),\n",
       " ('ܨܚܐ', 11),\n",
       " ('ܩܛܪܓ', 11),\n",
       " ('ܩܝܦܐ', 11),\n",
       " ('ܩܨܝܐ', 11),\n",
       " ('ܩܪܝܢܐ', 11),\n",
       " ('ܪܘܐ', 11),\n",
       " ('ܪܟܫܐ', 11),\n",
       " ('ܪܩܕ', 11),\n",
       " ('ܪܫܐ', 11),\n",
       " ('ܫܘܛ', 11),\n",
       " ('ܬܘܟܠܢܐ', 11),\n",
       " ('ܬܩܠ', 11),\n",
       " ('ܬܪܣܝ', 11),\n",
       " ('ܐܕܡ', 10),\n",
       " ('ܐܪܓܘܢܐ', 10),\n",
       " ('ܐܪܝܐ', 10),\n",
       " ('ܒܐܫ', 10),\n",
       " ('ܒܘܟܪܐ', 10),\n",
       " ('ܓܝܪܐ', 10),\n",
       " ('ܓܠܝܐܝܬ', 10),\n",
       " ('ܕܒܚܬܐ', 10),\n",
       " ('ܕܓܠܘܬܐ', 10),\n",
       " ('ܕܟܝܘܬܐ', 10),\n",
       " ('ܕܠܚ', 10),\n",
       " ('ܙܝܢܐ', 10),\n",
       " ('ܙܟܘܬܐ', 10),\n",
       " ('ܙܡܪ', 10),\n",
       " ('ܚܒܫ', 10),\n",
       " ('ܚܕܥܣܪ', 10),\n",
       " ('ܚܙܩ', 10),\n",
       " ('ܚܢ', 10),\n",
       " ('ܚܣܕ', 10),\n",
       " ('ܚܩܠܐ', 10),\n",
       " ('ܚܪܝܦܐ', 10),\n",
       " ('ܛܠܝܘܬܐ', 10),\n",
       " ('ܝܒܝܫܐ', 10),\n",
       " ('ܝܘܢܢ', 10),\n",
       " ('ܝܘܦܐ', 10),\n",
       " ('ܟܠܬܐ', 10),\n",
       " ('ܟܪ', 10),\n",
       " ('ܡܐܬܝܢ', 10),\n",
       " ('ܡܓܢ', 10),\n",
       " ('ܡܕܢܚܐ', 10),\n",
       " ('ܡܘܒܠܐ', 10),\n",
       " ('ܡܘܠܝܐ', 10),\n",
       " ('ܡܡܠܠܐ', 10),\n",
       " ('ܡܥܕܐ', 10),\n",
       " ('ܡܪܓܢܝܬܐ', 10),\n",
       " ('ܢܟܦܐ', 10),\n",
       " ('ܢܫܒ', 10),\n",
       " ('ܣܘܪܝܐ', 10),\n",
       " ('ܣܬܪ', 10),\n",
       " ('ܥܠܐ', 10),\n",
       " ('ܥܡܠ', 10),\n",
       " ('ܥܣܒܐ', 10),\n",
       " ('ܥܩ', 10),\n",
       " ('ܨܒܬ', 10),\n",
       " ('ܨܥܪܐ', 10),\n",
       " ('ܩܘܪܢܝܠܝܘܣ', 10),\n",
       " ('ܪܒ-ܒܝܬܐ', 10),\n",
       " ('ܪܗܘܡܐ', 10),\n",
       " ('ܪܘܙ', 10),\n",
       " ('ܪܩ', 10),\n",
       " ('ܫܘܪܐ', 10),\n",
       " ('ܫܛܝܘܬܐ', 10),\n",
       " ('ܫܡܥܐ', 10),\n",
       " ('ܫܬܝܢ', 10),\n",
       " ('ܬܐܓܘܪܬܐ', 10),\n",
       " ('ܬܗܪ', 10),\n",
       " ('ܬܚܘܝܬܐ', 10),\n",
       " ('ܬܝܡܢܐ', 10),\n",
       " ('ܬܠܐ', 10),\n",
       " ('ܬܪܨ', 10),\n",
       " ('ܐܒܠ', 9),\n",
       " ('ܐܣܛܕܐ', 9),\n",
       " ('ܐܣܛܠܐ', 9),\n",
       " ('ܐܣܝܘܬܐ', 9),\n",
       " ('ܐܫܬܐ', 9),\n",
       " ('ܒܕܩ', 9),\n",
       " ('ܒܘܩܝܐ', 9),\n",
       " ('ܒܛܢܬܐ', 9),\n",
       " ('ܒܝܬ-ܠܚܡ', 9),\n",
       " ('ܒܟܝܐ', 9),\n",
       " ('ܒܠܝܐ', 9),\n",
       " ('ܒܠܥܕ', 9),\n",
       " ('ܒܪܩܐ', 9),\n",
       " ('ܓܒܪܘܬܐ', 9),\n",
       " ...)"
      ]
     },
     "execution_count": 14,
     "metadata": {},
     "output_type": "execute_result"
    }
   ],
   "source": [
    "F.lexeme.freqList()"
   ]
  },
  {
   "cell_type": "markdown",
   "metadata": {},
   "source": [
    "# Lexeme matters\n",
    "\n",
    "## Top 10 frequent verbs\n",
    "\n",
    "If we count the frequency of words, we usually mean the frequency of their\n",
    "corresponding lexemes.\n",
    "\n",
    "There are several methods for working with lexemes.\n",
    "\n",
    "### Method 1: counting words"
   ]
  },
  {
   "cell_type": "code",
   "execution_count": 15,
   "metadata": {
    "ExecuteTime": {
     "end_time": "2018-03-08T10:13:39.960696Z",
     "start_time": "2018-03-08T10:13:39.829670Z"
    }
   },
   "outputs": [
    {
     "name": "stdout",
     "output_type": "stream",
     "text": [
      "  0.00s Collecting data\n",
      "  0.07s Done\n",
      "HW>: 4006\n",
      ">MR: 2553\n",
      ">T>: 965\n",
      "XZ>: 734\n",
      "<BD: 706\n",
      "JD<: 704\n",
      "MCJX>: 585\n",
      "QM: 550\n",
      "JHB: 534\n",
      "CM<: 494\n",
      "\n"
     ]
    }
   ],
   "source": [
    "verbs = collections.Counter()\n",
    "indent(reset=True)\n",
    "info('Collecting data')\n",
    "\n",
    "for w in F.otype.s('word'):\n",
    "    if F.sp.v(w) != 'verb': continue\n",
    "    verbs[F.lexeme_etcbc.v(w)] +=1\n",
    "\n",
    "info('Done')\n",
    "print(''.join(\n",
    "    '{}: {}\\n'.format(verb, cnt)\n",
    "    for (verb, cnt) in sorted(verbs.items(), key=lambda x: (-x[1], x[0]))[0:10]\n",
    "))       "
   ]
  },
  {
   "cell_type": "markdown",
   "metadata": {},
   "source": [
    "## Lexeme distribution\n",
    "\n",
    "Let's do a bit more fancy lexeme stuff.\n",
    "\n",
    "### Hapaxes\n",
    "\n",
    "A hapax can be found by inspecting lexemes and see to how many word nodes they are linked.\n",
    "If that is number is one, we have a hapax.\n",
    "\n",
    "We print 10 hapaxes with their gloss."
   ]
  },
  {
   "cell_type": "code",
   "execution_count": 16,
   "metadata": {
    "ExecuteTime": {
     "end_time": "2018-03-08T10:13:58.376059Z",
     "start_time": "2018-03-08T10:13:58.247752Z"
    }
   },
   "outputs": [
    {
     "name": "stdout",
     "output_type": "stream",
     "text": [
      "  0.06s 835 hapaxes found\n",
      "\t<BDW\n",
      "\t<BJD>\n",
      "\t<CN\n",
      "\t<CQ\n",
      "\t<GN\n",
      "\t<JJQ>\n",
      "\t<JN-JWN\n",
      "\t<JR\n",
      "\t<KW\n",
      "\t<LM<LMJN\n"
     ]
    }
   ],
   "source": [
    "indent(reset=True)\n",
    "\n",
    "hapax = []\n",
    "lexIndex = collections.defaultdict(list)\n",
    "\n",
    "for n in F.otype.s('word'):\n",
    "    lexIndex[F.lexeme_etcbc.v(n)].append(n)\n",
    "    \n",
    "hapax = dict((lex, occs) for (lex, occs) in lexIndex.items() if len(occs) == 1)\n",
    "    \n",
    "info('{} hapaxes found'.format(len(hapax)))\n",
    "\n",
    "for h in sorted(hapax)[0:10]:\n",
    "    print(f'\\t{h}')"
   ]
  },
  {
   "cell_type": "markdown",
   "metadata": {},
   "source": [
    "If we want more info on the hapaxes, we get that by means of its *node*.\n",
    "The lexIndex dictionary stores the occurrences of a lexeme as a list of nodes.\n",
    "\n",
    "Let's get the part of speech and the syriac form of those 10 hapaxes."
   ]
  },
  {
   "cell_type": "code",
   "execution_count": 17,
   "metadata": {
    "ExecuteTime": {
     "end_time": "2018-03-08T10:14:00.590376Z",
     "start_time": "2018-03-08T10:14:00.580157Z"
    }
   },
   "outputs": [
    {
     "name": "stdout",
     "output_type": "stream",
     "text": [
      "\tnoun         ܥܒܕܘ\n",
      "\tverb         ܥܒܝܕܐ\n",
      "\tverb         ܥܫܢ\n",
      "\tverb         ܥܫܩ\n",
      "\tverb         ܥܓܢ\n",
      "\tadjective    ܥܝܝܩܐ\n",
      "\tnoun         ܥܝܢ-ܝܘܢ\n",
      "\tnoun         ܥܝܪ\n",
      "\tnoun         ܥܟܘ\n",
      "\tnoun         ܥܠܡܥܠܡܝܢ\n"
     ]
    }
   ],
   "source": [
    "for h in sorted(hapax)[0:10]:\n",
    "    node = hapax[h][0]\n",
    "    print(f'\\t{F.sp.v(node):<12} {F.lexeme.v(node)}')"
   ]
  },
  {
   "cell_type": "markdown",
   "metadata": {},
   "source": [
    "### Small occurrence base\n",
    "\n",
    "The occurrence base of a lexeme are the verses, chapters and books in which occurs.\n",
    "Let's look for lexemes that occur in a single chapter.\n",
    "\n",
    "Oh yes, we have already found the hapaxes, we will skip them here."
   ]
  },
  {
   "cell_type": "code",
   "execution_count": 18,
   "metadata": {},
   "outputs": [
    {
     "name": "stdout",
     "output_type": "stream",
     "text": [
      "chapter\n"
     ]
    },
    {
     "data": {
      "text/plain": [
       "('Matthew', 1)"
      ]
     },
     "execution_count": 18,
     "metadata": {},
     "output_type": "execute_result"
    }
   ],
   "source": [
    "x = 109668\n",
    "print(F.otype.v(x))\n",
    "T.sectionFromNode(x)"
   ]
  },
  {
   "cell_type": "code",
   "execution_count": 19,
   "metadata": {},
   "outputs": [
    {
     "name": "stdout",
     "output_type": "stream",
     "text": [
      "book\n",
      "109641\n"
     ]
    }
   ],
   "source": [
    "b = L.u(x, otype='book')[0]\n",
    "print(F.otype.v(b))\n",
    "print(b)"
   ]
  },
  {
   "cell_type": "code",
   "execution_count": 20,
   "metadata": {
    "ExecuteTime": {
     "end_time": "2018-03-08T10:14:03.503420Z",
     "start_time": "2018-03-08T10:14:02.841707Z"
    }
   },
   "outputs": [
    {
     "name": "stdout",
     "output_type": "stream",
     "text": [
      "  0.00s Finding single chapter lexemes\n",
      "  0.43s 947 single chapter lexemes found\n",
      "<WZJ> [80, 81]\n",
      "Matthew 1:8          <WZJ>  (2x)\n",
      ">XZ [86, 87]\n",
      "Matthew 1:9          >XZ    (2x)\n",
      "JHWCPV [74, 75]\n",
      "Matthew 1:8          JHWCPV (2x)\n",
      "JLJDWT> [2]\n",
      "Matthew 1:1          JLJDWT> (1x)\n",
      "JWTM [83, 84]\n",
      "Matthew 1:9          JWTM   (2x)\n",
      "R<WT [49]\n",
      "Matthew 1:5          R<WT   (1x)\n",
      "RXB<M [65, 66]\n",
      "Matthew 1:7          RXB<M  (2x)\n",
      "TMR [24]\n",
      "Matthew 1:3          TMR    (1x)\n",
      "XZQJ> [89, 90]\n",
      "Matthew 1:9          XZQJ>  (2x)\n",
      "ZRX [22]\n",
      "Matthew 1:3          ZRX    (1x)\n"
     ]
    }
   ],
   "source": [
    "indent(reset=True)\n",
    "info('Finding single chapter lexemes')\n",
    "\n",
    "lexChapterIndex = {}\n",
    "\n",
    "for (lex, occs) in lexIndex.items():\n",
    "    lexChapterIndex[lex] = set(L.u(n, otype='chapter')[0] for n in occs)\n",
    "    \n",
    "singleCh = [(lex, occs) for (lex, occs) in lexIndex.items() if len(lexChapterIndex.get(lex, [])) == 1]\n",
    "\n",
    "info('{} single chapter lexemes found'.format(len(singleCh)))\n",
    "\n",
    "for (lex, occs) in sorted(singleCh[0:10]):\n",
    "    print(lex, occs)\n",
    "    print('{:<20} {:<6} ({}x)'.format(\n",
    "        '{} {}:{}'.format(*T.sectionFromNode(occs[0])),\n",
    "        lex,\n",
    "        len(occs),\n",
    "    ))"
   ]
  },
  {
   "cell_type": "markdown",
   "metadata": {},
   "source": [
    "### Confined to books\n",
    "\n",
    "As a final exercise with lexemes, lets make a list of all books, and show their total number of lexemes and\n",
    "the number of lexemes that occur exclusively in that book."
   ]
  },
  {
   "cell_type": "code",
   "execution_count": 21,
   "metadata": {
    "ExecuteTime": {
     "end_time": "2018-03-08T10:14:07.670486Z",
     "start_time": "2018-03-08T10:14:07.479785Z"
    }
   },
   "outputs": [
    {
     "name": "stdout",
     "output_type": "stream",
     "text": [
      "  0.00s Making book-lexeme index\n",
      "  0.09s Found 3038 lexemes\n"
     ]
    }
   ],
   "source": [
    "indent(reset=True)\n",
    "info('Making book-lexeme index')\n",
    "\n",
    "allBook = collections.defaultdict(set)\n",
    "allLex = set()\n",
    "\n",
    "for b in F.otype.s('book'):\n",
    "    for w in L.d(b, 'word'):\n",
    "        l = F.lexeme.v(w)\n",
    "        allBook[b].add(l)\n",
    "        allLex.add(l)\n",
    "\n",
    "info('Found {} lexemes'.format(len(allLex)))"
   ]
  },
  {
   "cell_type": "code",
   "execution_count": 22,
   "metadata": {
    "ExecuteTime": {
     "end_time": "2018-03-08T10:14:09.712557Z",
     "start_time": "2018-03-08T10:14:09.068800Z"
    }
   },
   "outputs": [
    {
     "name": "stdout",
     "output_type": "stream",
     "text": [
      "  0.00s Finding single book lexemes\n",
      "  0.42s found 1079 single book lexemes\n"
     ]
    }
   ],
   "source": [
    "indent(reset=True)\n",
    "info('Finding single book lexemes')\n",
    "\n",
    "lexBookIndex = {}\n",
    "\n",
    "for (lex, occs) in lexIndex.items():\n",
    "    lexBookIndex[lex] = set(L.u(n, otype='book')[0] for n in occs)\n",
    "\n",
    "singleBookLex = collections.defaultdict(set)\n",
    "for (lex, books) in lexBookIndex.items():\n",
    "    if len(books) == 1:\n",
    "        singleBookLex[list(books)[0]].add(lex)\n",
    "\n",
    "singleBook = {book: len(lexs) for (book, lexs) in singleBookLex.items()}\n",
    "\n",
    "info('found {} single book lexemes'.format(sum(singleBook.values())))"
   ]
  },
  {
   "cell_type": "code",
   "execution_count": 23,
   "metadata": {
    "ExecuteTime": {
     "end_time": "2018-03-08T10:14:10.997607Z",
     "start_time": "2018-03-08T10:14:10.964980Z"
    }
   },
   "outputs": [
    {
     "name": "stdout",
     "output_type": "stream",
     "text": [
      "book                 #all #own %own\n",
      "-----------------------------------\n",
      "Acts                 1315  252 19.2%\n",
      "Revelation            809  104 12.9%\n",
      "Luke                 1368  153 11.2%\n",
      "2_Peter               348   34  9.8%\n",
      "Romans                782   60  7.7%\n",
      "2_Timothy             379   26  6.9%\n",
      "Hebrews               747   51  6.8%\n",
      "James                 434   28  6.5%\n",
      "Matthew              1244   80  6.4%\n",
      "John                  810   47  5.8%\n",
      "Jude                  209   12  5.7%\n",
      "2_Corinthians         628   36  5.7%\n",
      "1_Corinthians         740   41  5.5%\n",
      "1_Timothy             444   20  4.5%\n",
      "Philippians           371   15  4.0%\n",
      "Colossians            375   15  4.0%\n",
      "Ephesians             460   18  3.9%\n",
      "1_Peter               452   17  3.8%\n",
      "Mark                  966   32  3.3%\n",
      "2_John                 91    3  3.3%\n",
      "Galatians             418   13  3.1%\n",
      "Titus                 249    6  2.4%\n",
      "3_John                 97    2  2.1%\n",
      "1_Thessalonians       322    6  1.9%\n",
      "Philemon              127    2  1.6%\n",
      "1_John                218    3  1.4%\n",
      "2_Thessalonians       220    3  1.4%\n"
     ]
    }
   ],
   "source": [
    "print('{:<20}{:>5}{:>5}{:>5}\\n{}'.format(\n",
    "    'book', '#all', '#own', '%own',\n",
    "    '-'*35,\n",
    "))\n",
    "booklist = []\n",
    "\n",
    "for b in F.otype.s('book'):\n",
    "    book = T.bookName(b)\n",
    "    a = len(allBook[b])\n",
    "    o = singleBook.get(b, 0)\n",
    "    p = 100 * o / a\n",
    "    booklist.append((book, a, o, p))\n",
    "\n",
    "for x in sorted(booklist, key=lambda e: (-e[3], -e[1], e[0])):\n",
    "    print('{:<20} {:>4} {:>4} {:>4.1f}%'.format(*x))"
   ]
  },
  {
   "cell_type": "markdown",
   "metadata": {},
   "source": [
    "# Layer API\n",
    "We travel upwards and downwards, forwards and backwards through the nodes.\n",
    "The Layer-API (`L`) provides functions: `u()` for going up, and `d()` for going down,\n",
    "`n()` for going to next nodes and `p()` for going to previous nodes.\n",
    "\n",
    "These directions are indirect notions: nodes are just numbers, but by means of the\n",
    "`oslots` feature they are linked to slots. One node *contains* an other node, if the one is linked to a set of slots that contains the set of slots that the other is linked to.\n",
    "And one if next or previous to an other, if its slots follow of precede the slots of the other one.\n",
    "\n",
    "`L.u(node)` **Up** is going to nodes that embed `node`.\n",
    "\n",
    "`L.d(node)` **Down** is the opposite direction, to those that are contained in `node`.\n",
    "\n",
    "`L.n(node)` **Next** are the next *adjacent* nodes, i.e. nodes whose first slot comes immediately after the last slot of `node`.\n",
    "\n",
    "`L.p(node)` **Previous** are the previous *adjacent* nodes, i.e. nodes whose last slot comes immediately before the first slot of `node`.\n",
    "\n",
    "All these functions yield nodes of all possible otypes.\n",
    "By passing an optional parameter, you can restrict the results to nodes of that type.\n",
    "\n",
    "The result are ordered according to the order of things in the text.\n",
    "\n",
    "The functions return always a tuple, even if there is just one node in the result.\n",
    "\n",
    "## Going up\n",
    "We go from the first word to the book it contains.\n",
    "Note the `[0]` at the end. You expect one book, yet `L` returns a tuple. \n",
    "To get the only element of that tuple, you need to do that `[0]`.\n",
    "\n",
    "If you are like me, you keep forgetting it, and that will lead to weird error messages later on."
   ]
  },
  {
   "cell_type": "code",
   "execution_count": 24,
   "metadata": {
    "ExecuteTime": {
     "end_time": "2018-03-08T10:14:15.350367Z",
     "start_time": "2018-03-08T10:14:15.343039Z"
    }
   },
   "outputs": [
    {
     "name": "stdout",
     "output_type": "stream",
     "text": [
      "109641\n"
     ]
    }
   ],
   "source": [
    "firstBook = L.u(1, otype='book')[0]\n",
    "print(firstBook)"
   ]
  },
  {
   "cell_type": "markdown",
   "metadata": {},
   "source": [
    "And let's see all the containing objects of word 3:"
   ]
  },
  {
   "cell_type": "code",
   "execution_count": 25,
   "metadata": {
    "ExecuteTime": {
     "end_time": "2018-03-08T10:14:17.364197Z",
     "start_time": "2018-03-08T10:14:17.352186Z"
    }
   },
   "outputs": [
    {
     "name": "stdout",
     "output_type": "stream",
     "text": [
      "word 3 is contained in book 109641\n",
      "word 3 is contained in chapter 109668\n",
      "word 3 is contained in lexeme 109930\n",
      "word 3 is contained in verse 112966\n"
     ]
    }
   ],
   "source": [
    "w = 3\n",
    "for otype in F.otype.all:\n",
    "    if otype == F.otype.slotType: continue\n",
    "    up = L.u(w, otype=otype)\n",
    "    upNode = 'x' if len(up) == 0 else up[0]\n",
    "    print('word {} is contained in {} {}'.format(w, otype, upNode))"
   ]
  },
  {
   "cell_type": "markdown",
   "metadata": {},
   "source": [
    "## Going next\n",
    "Let's go to the next nodes of the first book."
   ]
  },
  {
   "cell_type": "code",
   "execution_count": 26,
   "metadata": {
    "ExecuteTime": {
     "end_time": "2018-03-08T10:14:20.775341Z",
     "start_time": "2018-03-08T10:14:20.762875Z"
    }
   },
   "outputs": [
    {
     "name": "stdout",
     "output_type": "stream",
     "text": [
      "  13980: word          first slot=13980 , last slot=13980 \n",
      " 114037: verse         first slot=13980 , last slot=13985 \n",
      " 109696: chapter       first slot=13980 , last slot=14490 \n",
      " 109642: book          first slot=13980 , last slot=22772 \n"
     ]
    }
   ],
   "source": [
    "afterFirstBook = L.n(firstBook)\n",
    "for n in afterFirstBook:\n",
    "    print('{:>7}: {:<13} first slot={:<6}, last slot={:<6}'.format(\n",
    "        n, F.otype.v(n),\n",
    "        E.oslots.s(n)[0],\n",
    "        E.oslots.s(n)[-1],\n",
    "    ))\n",
    "secondBook = L.n(firstBook, otype='book')[0]"
   ]
  },
  {
   "cell_type": "markdown",
   "metadata": {},
   "source": [
    "## Going previous\n",
    "\n",
    "And let's see what is right before the second book."
   ]
  },
  {
   "cell_type": "code",
   "execution_count": 27,
   "metadata": {
    "ExecuteTime": {
     "end_time": "2018-03-08T10:14:23.300424Z",
     "start_time": "2018-03-08T10:14:23.292226Z"
    }
   },
   "outputs": [
    {
     "name": "stdout",
     "output_type": "stream",
     "text": [
      " 109641: book          first slot=1     , last slot=13979 \n",
      " 109695: chapter       first slot=13714 , last slot=13979 \n",
      " 114036: verse         first slot=13964 , last slot=13979 \n",
      "  13979: word          first slot=13979 , last slot=13979 \n"
     ]
    }
   ],
   "source": [
    "for n in L.p(secondBook):\n",
    "    print('{:>7}: {:<13} first slot={:<6}, last slot={:<6}'.format(\n",
    "        n, F.otype.v(n),\n",
    "        E.oslots.s(n)[0],\n",
    "        E.oslots.s(n)[-1],\n",
    "    ))"
   ]
  },
  {
   "cell_type": "markdown",
   "metadata": {},
   "source": [
    "## Going down"
   ]
  },
  {
   "cell_type": "markdown",
   "metadata": {},
   "source": [
    "We go to the chapters of the second book, and just count them."
   ]
  },
  {
   "cell_type": "code",
   "execution_count": 28,
   "metadata": {
    "ExecuteTime": {
     "end_time": "2018-03-08T10:14:25.969860Z",
     "start_time": "2018-03-08T10:14:25.957084Z"
    }
   },
   "outputs": [
    {
     "name": "stdout",
     "output_type": "stream",
     "text": [
      "16\n"
     ]
    }
   ],
   "source": [
    "chapters = L.d(secondBook, otype='chapter')\n",
    "print(len(chapters))"
   ]
  },
  {
   "cell_type": "markdown",
   "metadata": {},
   "source": [
    "## The first verse\n",
    "We pick the first verse and the first word, and explore what is above and below them."
   ]
  },
  {
   "cell_type": "code",
   "execution_count": 29,
   "metadata": {
    "ExecuteTime": {
     "end_time": "2018-03-08T10:14:28.468853Z",
     "start_time": "2018-03-08T10:14:28.416537Z"
    }
   },
   "outputs": [
    {
     "name": "stdout",
     "output_type": "stream",
     "text": [
      "Node 1\n",
      "   |   UP\n",
      "   |      |   109928          lexeme\n",
      "   |      |   112966          verse\n",
      "   |      |   109668          chapter\n",
      "   |      |   109641          book\n",
      "   |   DOWN\n",
      "   |      |   \n",
      "Node 112966\n",
      "   |   UP\n",
      "   |      |   109668          chapter\n",
      "   |      |   109641          book\n",
      "   |   DOWN\n",
      "   |      |   109928          lexeme\n",
      "   |      |   1               word\n",
      "   |      |   109929          lexeme\n",
      "   |      |   2               word\n",
      "   |      |   109930          lexeme\n",
      "   |      |   3               word\n",
      "   |      |   109931          lexeme\n",
      "   |      |   4               word\n",
      "   |      |   109932          lexeme\n",
      "   |      |   5               word\n",
      "   |      |   109933          lexeme\n",
      "   |      |   6               word\n",
      "   |      |   7               word\n",
      "   |      |   8               word\n",
      "Done\n"
     ]
    }
   ],
   "source": [
    "for n in [1, L.u(1, otype='verse')[0]]:\n",
    "    indent(level=0)\n",
    "    info('Node {}'.format(n), tm=False)\n",
    "    indent(level=1)\n",
    "    info('UP', tm=False)\n",
    "    indent(level=2)\n",
    "    info('\\n'.join(['{:<15} {}'.format(u, F.otype.v(u)) for u in L.u(n)]), tm=False)\n",
    "    indent(level=1)\n",
    "    info('DOWN', tm=False)\n",
    "    indent(level=2)\n",
    "    info('\\n'.join(['{:<15} {}'.format(u, F.otype.v(u)) for u in L.d(n)]), tm=False)\n",
    "indent(level=0)\n",
    "info('Done', tm=False)"
   ]
  },
  {
   "cell_type": "markdown",
   "metadata": {},
   "source": [
    "# Text API\n",
    "\n",
    "So far, we have mainly seen nodes and their numbers, and the names of node types.\n",
    "You would almost forget that we are dealing with text.\n",
    "So let's try to see some text.\n",
    "\n",
    "In the same way as `F` gives access to feature data,\n",
    "`T` gives access to the text.\n",
    "That is also feature data, but you can tell Text-Fabric which features are specifically\n",
    "carrying the text, and in return Text-Fabric offers you\n",
    "a Text API: `T`.\n",
    "\n",
    "## Formats\n",
    "Syriac text can be represented in a number of ways:\n",
    "\n",
    "* in transliteration, or in Syriac characters,\n",
    "* showing the actual text or only the lexemes,\n",
    "\n",
    "If you wonder where the information about text formats is stored: \n",
    "not in the program text-fabric, but in the data set.\n",
    "It has a feature `otext`, which specifies the formats and which features\n",
    "must be used to produce them. `otext` is the third special feature in a TF data set,\n",
    "next to `otype` and `oslots`. \n",
    "It is an optional feature. \n",
    "If it is absent, there will be no `T` API.\n",
    "\n",
    "Here is a list of all available formats in this data set."
   ]
  },
  {
   "cell_type": "code",
   "execution_count": 30,
   "metadata": {
    "ExecuteTime": {
     "end_time": "2018-03-08T10:14:31.965590Z",
     "start_time": "2018-03-08T10:14:31.955945Z"
    }
   },
   "outputs": [
    {
     "data": {
      "text/plain": [
       "['lex-orig-full', 'lex-trans-full', 'text-orig-full', 'text-trans-full']"
      ]
     },
     "execution_count": 30,
     "metadata": {},
     "output_type": "execute_result"
    }
   ],
   "source": [
    "sorted(T.formats)"
   ]
  },
  {
   "cell_type": "markdown",
   "metadata": {},
   "source": [
    "## Using the formats\n",
    "\n",
    "We can pretty display in other formats:"
   ]
  },
  {
   "cell_type": "code",
   "execution_count": 31,
   "metadata": {},
   "outputs": [
    {
     "data": {
      "text/html": [
       "<a href=\"https://github.com/etcbc/syrnt/blob/master/plain/0.1/Matthew.txt\" title=\"show this passage in the SyrNT source\" sec=\"Matthew 4:12\">Matthew 4:12</a><div class=\"outeritem\"><div class=\"word   ltr \" ><div class=\"tr\">CM&lt; </div><div class=\"features\"> <span class=\"word_etcbc\">CM&lt;</span> <span class=\"lexeme_etcbc\">CM&lt;</span> <span class=\"sp\">verb</span> <span class=\"vs\">peal</span> <span class=\"vt\">perfect</span></div></div></div>"
      ],
      "text/plain": [
       "<IPython.core.display.HTML object>"
      ]
     },
     "metadata": {},
     "output_type": "display_data"
    },
    {
     "data": {
      "text/html": [
       "<a href=\"https://github.com/etcbc/syrnt/blob/master/plain/0.1/Matthew.txt\" title=\"show this passage in the SyrNT source\" sec=\"Matthew 22:24\">Matthew 22:24</a><div class=\"outeritem\"><div class=\"word   ltr \" ><div class=\"tr\">KD </div><div class=\"features\"> <span class=\"word_etcbc\">KD</span> <span class=\"lexeme_etcbc\">KD</span> <span class=\"sp\">particle</span></div></div></div>"
      ],
      "text/plain": [
       "<IPython.core.display.HTML object>"
      ]
     },
     "metadata": {},
     "output_type": "display_data"
    },
    {
     "data": {
      "text/html": [
       "<a href=\"https://github.com/etcbc/syrnt/blob/master/plain/0.1/2_Peter.txt\" title=\"show this passage in the SyrNT source\" sec=\"2_Peter 1:5\">2_Peter 1:5</a><div class=\"outeritem\"><div class=\"word   ltr \" ><div class=\"tr\">DJN </div><div class=\"features\"> <span class=\"word_etcbc\">DJN</span> <span class=\"lexeme_etcbc\">DJN</span> <span class=\"sp\">particle</span></div></div></div>"
      ],
      "text/plain": [
       "<IPython.core.display.HTML object>"
      ]
     },
     "metadata": {},
     "output_type": "display_data"
    }
   ],
   "source": [
    "for word in wordShow:\n",
    "  A.pretty(word, fmt='text-trans-full')"
   ]
  },
  {
   "cell_type": "markdown",
   "metadata": {},
   "source": [
    "Now let's use those formats to print out the first verse of the Hebrew Bible."
   ]
  },
  {
   "cell_type": "code",
   "execution_count": 32,
   "metadata": {
    "ExecuteTime": {
     "end_time": "2018-03-08T10:14:35.240131Z",
     "start_time": "2018-03-08T10:14:35.231752Z"
    }
   },
   "outputs": [
    {
     "name": "stdout",
     "output_type": "stream",
     "text": [
      "lex-orig-full:\n",
      "\tܟܬܒܐ ܝܠܝܕܘܬܐ ܝܫܘܥ ܡܫܝܚܐ ܒܪܐ ܕܘܝܕ ܒܪܐ ܐܒܪܗܡ ܐܒܪܗܡ ܝܠܕ ܐܝܣܚܩ \n",
      "lex-trans-full:\n",
      "\tKTB> JLJDWT> JCW< MCJX> BR> DWJD BR> >BRHM >BRHM JLD >JSXQ \n",
      "text-orig-full:\n",
      "\tܟܬܒܐ ܕܝܠܝܕܘܬܗ ܕܝܫܘܥ ܡܫܝܚܐ ܒܪܗ ܕܕܘܝܕ ܒܪܗ ܕܐܒܪܗܡ ܐܒܪܗܡ ܐܘܠܕ ܠܐܝܣܚܩ \n",
      "text-trans-full:\n",
      "\tKTB> DJLJDWTH DJCW< MCJX> BRH DDWJD BRH D>BRHM >BRHM >WLD L>JSXQ \n"
     ]
    }
   ],
   "source": [
    "for fmt in sorted(T.formats):\n",
    "    print('{}:\\n\\t{}'.format(fmt, T.text(range(1,12), fmt=fmt)))"
   ]
  },
  {
   "cell_type": "markdown",
   "metadata": {},
   "source": [
    "If we do not specify a format, the **default** format is used (`text-orig-full`)."
   ]
  },
  {
   "cell_type": "code",
   "execution_count": 33,
   "metadata": {
    "ExecuteTime": {
     "end_time": "2018-03-08T10:14:37.681491Z",
     "start_time": "2018-03-08T10:14:37.674538Z"
    }
   },
   "outputs": [
    {
     "name": "stdout",
     "output_type": "stream",
     "text": [
      "ܟܬܒܐ ܕܝܠܝܕܘܬܗ ܕܝܫܘܥ ܡܫܝܚܐ ܒܪܗ ܕܕܘܝܕ ܒܪܗ ܕܐܒܪܗܡ ܐܒܪܗܡ ܐܘܠܕ ܠܐܝܣܚܩ \n"
     ]
    }
   ],
   "source": [
    "print(T.text(range(1,12)))"
   ]
  },
  {
   "cell_type": "markdown",
   "metadata": {},
   "source": [
    "## Whole text in all formats in less than a second\n",
    "Part of the pleasure of working with computers is that they can crunch massive amounts of data.\n",
    "The text of the Hebrew Bible is a piece of cake.\n",
    "\n",
    "It takes less than a second to have that cake and eat it. \n",
    "In nearly a dozen formats."
   ]
  },
  {
   "cell_type": "code",
   "execution_count": 34,
   "metadata": {
    "ExecuteTime": {
     "end_time": "2018-03-08T10:14:40.870244Z",
     "start_time": "2018-03-08T10:14:39.998071Z"
    }
   },
   "outputs": [
    {
     "name": "stdout",
     "output_type": "stream",
     "text": [
      "  0.00s writing plain text of whole Syriac New Testament in all formats\n",
      "  0.87s done 4 formats\n",
      "lex-orig-full\n",
      "ܟܬܒܐ ܝܠܝܕܘܬܐ ܝܫܘܥ ܡܫܝܚܐ ܒܪܐ ܕܘܝܕ ܒܪܐ ܐܒܪܗܡ \n",
      "ܐܒܪܗܡ ܝܠܕ ܐܝܣܚܩ ܐܝܣܚܩ ܝܠܕ ܝܥܩܘܒ ܝܥܩܘܒ ܝܠܕ ܝܗܘܕܐ ܐܚܐ \n",
      "ܝܗܘܕܐ ܝܠܕ ܦܪܨ ܙܪܚ ܡܢ ܬܡܪ ܦܪܨ ܝܠܕ ܚܨܪܘܢ ܚܨܪܘܢ ܝܠܕ ܐܪܡ \n",
      "ܐܪܡ ܝܠܕ ܥܡܝܢܕܒ ܥܡܝܢܕܒ ܝܠܕ ܢܚܫܘܢ ܢܚܫܘܢ ܝܠܕ ܣܠܡܘܢ \n",
      "ܣܠܡܘܢ ܝܠܕ ܒܥܙ ܡܢ ܪܚܒ ܒܥܙ ܝܠܕ ܥܘܒܝܕ ܡܢ ܪܥܘܬ ܥܘܒܝܕ ܝܠܕ ܐܝܫܝ \n",
      "\n",
      "lex-trans-full\n",
      "KTB> JLJDWT> JCW< MCJX> BR> DWJD BR> >BRHM \n",
      ">BRHM JLD >JSXQ >JSXQ JLD J<QWB J<QWB JLD JHWD> >X> \n",
      "JHWD> JLD PRY ZRX MN TMR PRY JLD XYRWN XYRWN JLD >RM \n",
      ">RM JLD <MJNDB <MJNDB JLD NXCWN NXCWN JLD SLMWN \n",
      "SLMWN JLD B<Z MN RXB B<Z JLD <WBJD MN R<WT <WBJD JLD >JCJ \n",
      "\n",
      "text-orig-full\n",
      "ܟܬܒܐ ܕܝܠܝܕܘܬܗ ܕܝܫܘܥ ܡܫܝܚܐ ܒܪܗ ܕܕܘܝܕ ܒܪܗ ܕܐܒܪܗܡ \n",
      "ܐܒܪܗܡ ܐܘܠܕ ܠܐܝܣܚܩ ܐܝܣܚܩ ܐܘܠܕ ܠܝܥܩܘܒ ܝܥܩܘܒ ܐܘܠܕ ܠܝܗܘܕܐ ܘܠܐܚܘܗܝ \n",
      "ܝܗܘܕܐ ܐܘܠܕ ܠܦܪܨ ܘܠܙܪܚ ܡܢ ܬܡܪ ܦܪܨ ܐܘܠܕ ܠܚܨܪܘܢ ܚܨܪܘܢ ܐܘܠܕ ܠܐܪܡ \n",
      "ܐܪܡ ܐܘܠܕ ܠܥܡܝܢܕܒ ܥܡܝܢܕܒ ܐܘܠܕ ܠܢܚܫܘܢ ܢܚܫܘܢ ܐܘܠܕ ܠܣܠܡܘܢ \n",
      "ܣܠܡܘܢ ܐܘܠܕ ܠܒܥܙ ܡܢ ܪܚܒ ܒܥܙ ܐܘܠܕ ܠܥܘܒܝܕ ܡܢ ܪܥܘܬ ܥܘܒܝܕ ܐܘܠܕ ܠܐܝܫܝ \n",
      "\n",
      "text-trans-full\n",
      "KTB> DJLJDWTH DJCW< MCJX> BRH DDWJD BRH D>BRHM \n",
      ">BRHM >WLD L>JSXQ >JSXQ >WLD LJ<QWB J<QWB >WLD LJHWD> WL>XWHJ \n",
      "JHWD> >WLD LPRY WLZRX MN TMR PRY >WLD LXYRWN XYRWN >WLD L>RM \n",
      ">RM >WLD L<MJNDB <MJNDB >WLD LNXCWN NXCWN >WLD LSLMWN \n",
      "SLMWN >WLD LB<Z MN RXB B<Z >WLD L<WBJD MN R<WT <WBJD >WLD L>JCJ \n",
      "\n"
     ]
    }
   ],
   "source": [
    "indent(reset=True)\n",
    "info('writing plain text of whole Syriac New Testament in all formats')\n",
    "\n",
    "text = collections.defaultdict(list)\n",
    "\n",
    "for v in F.otype.s('verse'):\n",
    "    words = L.d(v, 'word')\n",
    "    for fmt in sorted(T.formats):\n",
    "        text[fmt].append(T.text(words, fmt=fmt))\n",
    "\n",
    "info('done {} formats'.format(len(text)))\n",
    "\n",
    "for fmt in sorted(text):\n",
    "    print('{}\\n{}\\n'.format(fmt, '\\n'.join(text[fmt][0:5])))"
   ]
  },
  {
   "cell_type": "markdown",
   "metadata": {},
   "source": [
    "### The full plain text\n",
    "We write a few formats to file, in your `Downloads` folder."
   ]
  },
  {
   "cell_type": "code",
   "execution_count": 35,
   "metadata": {
    "ExecuteTime": {
     "end_time": "2018-03-08T10:14:43.743463Z",
     "start_time": "2018-03-08T10:14:43.726787Z"
    }
   },
   "outputs": [],
   "source": [
    "orig = 'text-orig-full'\n",
    "trans = 'text-trans-full'\n",
    "for fmt in (orig, trans):\n",
    "    with open(os.path.expanduser(f'~/Downloads/SyrNT-{fmt}.txt'), 'w') as f:\n",
    "        f.write('\\n'.join(text[fmt]))"
   ]
  },
  {
   "cell_type": "code",
   "execution_count": 36,
   "metadata": {
    "ExecuteTime": {
     "end_time": "2018-03-08T10:14:44.766248Z",
     "start_time": "2018-03-08T10:14:44.618476Z"
    }
   },
   "outputs": [
    {
     "name": "stdout",
     "output_type": "stream",
     "text": [
      "ܟܬܒܐ ܕܝܠܝܕܘܬܗ ܕܝܫܘܥ ܡܫܝܚܐ ܒܪܗ ܕܕܘܝܕ ܒܪܗ ܕܐܒܪܗܡ \n",
      "ܐܒܪܗܡ ܐܘܠܕ ܠܐܝܣܚܩ ܐܝܣܚܩ ܐܘܠܕ ܠܝܥܩܘܒ ܝܥܩܘܒ ܐܘܠܕ ܠܝܗܘܕܐ ܘܠܐܚܘܗܝ \n",
      "ܝܗܘܕܐ ܐܘܠܕ ܠܦܪܨ ܘܠܙܪܚ ܡܢ ܬܡܪ ܦܪܨ ܐܘܠܕ ܠܚܨܪܘܢ ܚܨܪܘܢ ܐܘܠܕ ܠܐܪܡ \n",
      "ܐܪܡ ܐܘܠܕ ܠܥܡܝܢܕܒ ܥܡܝܢܕܒ ܐܘܠܕ ܠܢܚܫܘܢ ܢܚܫܘܢ ܐܘܠܕ ܠܣܠܡܘܢ \n",
      "ܣܠܡܘܢ ܐܘܠܕ ܠܒܥܙ ܡܢ ܪܚܒ ܒܥܙ ܐܘܠܕ ܠܥܘܒܝܕ ܡܢ ܪܥܘܬ ܥܘܒܝܕ ܐܘܠܕ ܠܐܝܫܝ \n",
      "ܐܝܫܝ ܐܘܠܕ ܠܕܘܝܕ ܡܠܟܐ ܕܘܝܕ ܐܘܠܕ ܠܫܠܝܡܘܢ ܡܢ ܐܢܬܬܗ ܕܐܘܪܝܐ \n",
      "ܫܠܝܡܘܢ ܐܘܠܕ ܠܪܚܒܥܡ ܪܚܒܥܡ ܐܘܠܕ ܠܐܒܝܐ ܐܒܝܐ ܐܘܠܕ ܠܐܣܐ \n",
      "ܐܣܐ ܐܘܠܕ ܠܝܗܘܫܦܛ ܝܗܘܫܦܛ ܐܘܠܕ ܠܝܘܪܡ ܝܘܪܡ ܐܘܠܕ ܠܥܘܙܝܐ \n",
      "ܥܘܙܝܐ ܐܘܠܕ ܠܝܘܬܡ ܝܘܬܡ ܐܘܠܕ ܠܐܚܙ ܐܚܙ ܐܘܠܕ ܠܚܙܩܝܐ \n",
      "ܚܙܩܝܐ ܐܘܠܕ ܠܡܢܫܐ ܡܢܫܐ ܐܘܠܕ ܠܐܡܘܢ ܐܡܘܢ ܐܘܠܕ ܠܝܘܫܝܐ \n",
      "ܝܘܫܝܐ ܐܘܠܕ ܠܝܘܟܢܝܐ ܘܠܐܚܘܗܝ ܒܓܠܘܬܐ ܕܒܒܠ \n",
      "ܡܢ ܒܬܪ ܓܠܘܬܐ ܕܝܢ ܕܒܒܠ ܝܘܟܢܝܐ ܐܘܠܕ ܠܫܠܬܐܝܠ ܫܠܬܐܝܠ ܐܘܠܕ ܠܙܘܪܒܒܠ \n",
      "ܙܘܪܒܒܠ ܐܘܠܕ ܠܐܒܝܘܕ ܐܒܝܘܕ ܐܘܠܕ ܠܐܠܝܩܝܡ ܐܠܝܩܝܡ ܐܘܠܕ ܠܥܙܘܪ \n",
      "ܥܙܘܪ ܐܘܠܕ ܠܙܕܘܩ ܙܕܘܩ ܐܘܠܕ ܠܐܟܝܢ ܐܟܝܢ ܐܘܠܕ ܠܐܠܝܘܕ \n",
      "ܐܠܝܘܕ ܐܘܠܕ ܠܐܠܝܥܙܪ ܐܠܝܥܙܪ ܐܘܠܕ ܠܡܬܢ ܡܬܢ ܐܘܠܕ ܠܝܥܩܘܒ \n",
      "ܝܥܩܘܒ ܐܘܠܕ ܠܝܘܣܦ ܓܒܪܗ ܕܡܪܝܡ ܕܡܢܗ ܐܬܝܠܕ ܝܫܘܥ ܕܡܬܩܪܐ ܡܫܝܚܐ \n",
      "ܟܠܗܝܢ ܗܟܝܠ ܫܪܒܬܐ ܡܢ ܐܒܪܗܡ ܥܕܡܐ ܠܕܘܝܕ ܫܪܒܬܐ ܐܪܒܥܣܪܐ ܘܡܢ ܕܘܝܕ ܥܕܡܐ ܠܓܠܘܬܐ ܕܒܒܠ ܫܪܒܬܐ ܐܪܒܥܣܪܐ ܘܡܢ ܓܠܘܬܐ ܕܒܒܠ ܥܕܡܐ ܠܡܫܝܚܐ ܫܪܒܬܐ ܐܪܒܥܣܪܐ \n",
      "ܝܠܕܗ ܕܝܢ ܕܝܫܘܥ ܡܫܝܚܐ ܗܟܢܐ ܗܘܐ ܟܕ ܡܟܝܪܐ ܗܘܬ ܡܪܝܡ ܐܡܗ ܠܝܘܣܦ ܥܕܠܐ ܢܫܬܘܬܦܘܢ ܐܫܬܟܚܬ ܒܛܢܐ ܡܢ ܪܘܚܐ ܕܩܘܕܫܐ \n",
      "ܝܘܣܦ ܕܝܢ ܒܥܠܗ ܟܐܢܐ ܗܘܐ ܘܠܐ ܨܒܐ ܕܢܦܪܣܝܗ ܘܐܬܪܥܝ ܗܘܐ ܕܡܛܫܝܐܝܬ ܢܫܪܝܗ \n",
      "ܟܕ ܗܠܝܢ ܕܝܢ ܐܬܪܥܝ ܐܬܚܙܝ ܠܗ ܡܠܐܟܐ ܕܡܪܝܐ ܒܚܠܡܐ ܘܐܡܪ ܠܗ ܝܘܣܦ ܒܪܗ ܕܕܘܝܕ ܠܐ ܬܕܚܠ ܠܡܣܒ ܠܡܪܝܡ ܐܢܬܬܟ ܗܘ ܓܝܪ ܕܐܬܝܠܕ ܒܗ ܡܢ ܪܘܚܐ ܗܘ ܕܩܘܕܫܐ \n"
     ]
    }
   ],
   "source": [
    "!head -n 20 ~/Downloads/SyrNT-{orig}.txt"
   ]
  },
  {
   "cell_type": "markdown",
   "metadata": {},
   "source": [
    "## Book names\n",
    "\n",
    "For Bible book names, we can use several languages.\n",
    "Well, in this case we have just English.\n",
    "\n",
    "### Languages\n",
    "Here are the languages that we can use for book names.\n",
    "These languages come from the features `book@ll`, where `ll` is a two letter\n",
    "ISO language code. Have a look in your data directory, you can't miss them."
   ]
  },
  {
   "cell_type": "code",
   "execution_count": 37,
   "metadata": {
    "ExecuteTime": {
     "end_time": "2018-03-08T10:14:47.152762Z",
     "start_time": "2018-03-08T10:14:47.145420Z"
    }
   },
   "outputs": [
    {
     "data": {
      "text/plain": [
       "{'': {'language': 'default', 'languageEnglish': 'default'},\n",
       " 'en': {'language': 'English', 'languageEnglish': 'English'}}"
      ]
     },
     "execution_count": 37,
     "metadata": {},
     "output_type": "execute_result"
    }
   ],
   "source": [
    "T.languages"
   ]
  },
  {
   "cell_type": "markdown",
   "metadata": {},
   "source": [
    "## Sections\n",
    "\n",
    "A section is a book, a chapter or a verse.\n",
    "Knowledge of sections is not baked into Text-Fabric. \n",
    "The config feature `otext.tf` may specify three section levels, and tell\n",
    "what the corresponding node types and features are.\n",
    "\n",
    "From that knowledge it can construct mappings from nodes to sections, e.g. from verse\n",
    "nodes to tuples of the form:\n",
    "\n",
    "    (bookName, chapterNumber, verseNumber)\n",
    "   \n",
    "Here are examples of getting the section that corresponds to a node and vice versa.\n",
    "\n",
    "**NB:** `sectionFromNode` always delivers a verse specification, either from the\n",
    "first slot belonging to that node, or, if `lastSlot`, from the last slot\n",
    "belonging to that node."
   ]
  },
  {
   "cell_type": "code",
   "execution_count": 38,
   "metadata": {
    "ExecuteTime": {
     "end_time": "2018-03-08T10:14:49.175819Z",
     "start_time": "2018-03-08T10:14:49.151007Z"
    }
   },
   "outputs": [
    {
     "name": "stdout",
     "output_type": "stream",
     "text": [
      "section of first word          ('Matthew', 1, 1)\n",
      "node of Matthew 1:1            112966\n",
      "node of book Matthew           109641\n",
      "node of chapter Matthew 1      109668\n",
      "section of book node           ('Matthew',)\n",
      "idem, now last word            ('Matthew',)\n",
      "section of chapter node        ('Matthew', 1)\n",
      "idem, now last word            ('Matthew', 1)\n"
     ]
    }
   ],
   "source": [
    "for x in (\n",
    "    ('section of first word',     T.sectionFromNode(1)                            ),\n",
    "    ('node of Matthew 1:1',       T.nodeFromSection(('Matthew', 1, 1))            ),\n",
    "    ('node of book Matthew',      T.nodeFromSection(('Matthew',))                 ),\n",
    "    ('node of chapter Matthew 1', T.nodeFromSection(('Matthew', 1))               ),\n",
    "    ('section of book node',      T.sectionFromNode(109641)                      ),\n",
    "    ('idem, now last word',       T.sectionFromNode(109641, lastSlot=True)       ),\n",
    "    ('section of chapter node',   T.sectionFromNode(109668)                      ),\n",
    "    ('idem, now last word',       T.sectionFromNode(109668, lastSlot=True)       ),\n",
    "): print('{:<30} {}'.format(*x))"
   ]
  },
  {
   "cell_type": "markdown",
   "metadata": {},
   "source": [
    "# Next steps\n",
    "\n",
    "By now you have an impression how to compute around in the text.\n",
    "While this is still the beginning, I hope you already sense the power of unlimited programmatic access\n",
    "to all the bits and bytes in the data set.\n",
    "\n",
    "Here are a few directions for unleashing that power.\n",
    "\n",
    "## Search\n",
    "Text-Fabric contains a flexible search engine, that does not only work for this data,\n",
    "but also for data that you add to it.\n",
    "There is a tutorial dedicated to [search](search.ipynb).\n",
    "\n",
    "## Add your own data\n",
    "If you study the additional data, you can observe how that data is created and also\n",
    "how it is turned into a text-fabric data module.\n",
    "The last step is incredibly easy. You can write out every Python dictionary where the keys are numbers\n",
    "and the values string or numbers as a Text-Fabric feature.\n",
    "When you are creating data, you have already constructed those dictionaries, so writing\n",
    "them out is just one method call.\n",
    "\n",
    "You can then easily share your new features on GitHub, so that your colleagues everywhere \n",
    "can try it out for themselves."
   ]
  },
  {
   "cell_type": "markdown",
   "metadata": {},
   "source": [
    "## Export to Emdros MQL\n",
    "\n",
    "[EMDROS](http://emdros.org), written by Ulrik Petersen,\n",
    "is a text database system with the powerful *topographic* query language MQL.\n",
    "The ideas are based on a model devised by Christ-Jan Doedens in\n",
    "[Text Databases: One Database Model and Several Retrieval Languages](https://books.google.nl/books?id=9ggOBRz1dO4C).\n",
    "\n",
    "Text-Fabric's model of slots, nodes and edges is a fairly straightforward translation of the models of Christ-Jan Doedens and Ulrik Petersen.\n",
    "\n",
    "[SHEBANQ](https://shebanq.ancient-data.org) uses EMDROS to offer users to execute and save MQL queries against the Hebrew Text Database of the ETCBC.\n",
    "\n",
    "So it is kind of logical and convenient to be able to work with a Text-Fabric resource through MQL.\n",
    "\n",
    "If you have obtained an MQL dataset somehow, you can turn it into a text-fabric data set by `importMQL()`,\n",
    "which we will not show here.\n",
    "\n",
    "And if you want to export a Text-Fabric data set to MQL, that is also possible.\n",
    "\n",
    "After the `Fabric(modules=...)` call, you can call `exportMQL()` in order to save all features of the\n",
    "indicated modules into a big MQL dump, which can be imported by an EMDROS database."
   ]
  },
  {
   "cell_type": "code",
   "execution_count": 36,
   "metadata": {
    "ExecuteTime": {
     "end_time": "2018-03-08T10:15:03.472718Z",
     "start_time": "2018-03-08T10:14:55.847533Z"
    }
   },
   "outputs": [
    {
     "name": "stdout",
     "output_type": "stream",
     "text": [
      "  0.00s Checking features of dataset mysyrnt\n"
     ]
    },
    {
     "name": "stderr",
     "output_type": "stream",
     "text": [
      "   |     0.00s feature \"book@en\" => \"book_en\"\n"
     ]
    },
    {
     "name": "stdout",
     "output_type": "stream",
     "text": [
      "  0.01s 40 features to export to MQL ...\n",
      "  0.01s Loading 40 features\n",
      "  0.01s Writing enumerations\n",
      "\tbook           :   27 values, 11 not a name, e.g. «1Cor»\n",
      "\tbook_en        :   27 values, 11 not a name, e.g. «1_Corinthians»\n",
      "\tprefix         :   19 values, 19 not a name, e.g. «»\n",
      "\tprefix_etcbc   :   19 values, 1 not a name, e.g. «»\n",
      "\tprefix_sedra   :   19 values, 1 not a name, e.g. «»\n",
      "\tps             :    4 values, 3 not a name, e.g. «1»\n",
      "\tsfps           :    4 values, 3 not a name, e.g. «1»\n",
      "\tsuffix         :   51 values, 51 not a name, e.g. «»\n",
      "\tsuffix_etcbc   :   51 values, 2 not a name, e.g. «»\n",
      "\tsuffix_sedra   :   51 values, 31 not a name, e.g. «»\n",
      "   |     0.29s Writing an all-in-one enum with   56 values\n",
      "  0.30s Mapping 40 features onto 5 object types\n",
      "  0.56s Writing 40 features as data in 5 object types\n",
      "   |     0.00s word data ...\n",
      "   |      |     1.89s batch of size               27.6MB with   50000 of   50000 words\n",
      "   |      |     3.65s batch of size               27.7MB with   50000 of  100000 words\n",
      "   |      |     4.00s batch of size                5.4MB with    9640 of  109640 words\n",
      "   |     4.00s word data: 109640 objects\n",
      "   |     0.00s verse data ...\n",
      "   |      |     0.06s batch of size              800.7KB with    7957 of    7957 verses\n",
      "   |     0.06s verse data: 7957 objects\n",
      "   |     0.00s lexeme data ...\n",
      "   |      |     0.03s batch of size              388.9KB with    3038 of    3038 lexemes\n",
      "   |     0.04s lexeme data: 3038 objects\n",
      "   |     0.00s chapter data ...\n",
      "   |      |     0.01s batch of size               23.5KB with     260 of     260 chapters\n",
      "   |     0.01s chapter data: 260 objects\n",
      "   |     0.00s book data ...\n",
      "   |      |     0.01s batch of size                2.7KB with      27 of      27 books\n",
      "   |     0.01s book data: 27 objects\n",
      "  4.69s Done\n"
     ]
    }
   ],
   "source": [
    "TF.exportMQL('mysyrnt','~/Downloads')"
   ]
  },
  {
   "cell_type": "markdown",
   "metadata": {},
   "source": [
    "Now you have a file `~/Downloads/mysyrnt.mql` of 52 MB.\n",
    "You can import it into an Emdros database by saying:\n",
    "\n",
    "    cd ~/Downloads\n",
    "    rm mysyrnt\n",
    "    mql -b 3 < mysyrnt.mql\n",
    "    \n",
    "The result is an SQLite3 database `mysyrnt` in the same directory (17 MB).\n",
    "You can run a query against it by creating a text file test.mql with this contents:\n",
    "\n",
    "    select all objects where\n",
    "    [verse\n",
    "        [word FOCUS lexeme_ascii = 'WME']\n",
    "    ]\n",
    "    \n",
    "And then say\n",
    "\n",
    "    mql -b 3 -d mysyrnt test.mql\n",
    "    \n",
    "You will see raw query results: all word occurrences that belong to lexemes with `make` in their gloss.\n",
    "     \n",
    "It is not very pretty, and probably you should use a more visual Emdros tool to run those queries.\n",
    "You see a lot of node numbers, but the good thing is, you can look those node numbers up in Text-Fabric."
   ]
  }
 ],
 "metadata": {
  "kernelspec": {
   "display_name": "Python 3",
   "language": "python",
   "name": "python3"
  },
  "language_info": {
   "codemirror_mode": {
    "name": "ipython",
    "version": 3
   },
   "file_extension": ".py",
   "mimetype": "text/x-python",
   "name": "python",
   "nbconvert_exporter": "python",
   "pygments_lexer": "ipython3",
   "version": "3.7.7"
  },
  "toc": {
   "nav_menu": {},
   "number_sections": true,
   "sideBar": true,
   "skip_h1_title": false,
   "toc_cell": false,
   "toc_position": {},
   "toc_section_display": "block",
   "toc_window_display": false
  }
 },
 "nbformat": 4,
 "nbformat_minor": 4
}
