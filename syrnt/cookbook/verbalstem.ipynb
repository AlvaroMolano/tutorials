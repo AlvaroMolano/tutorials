{
 "cells": [
  {
   "cell_type": "markdown",
   "metadata": {},
   "source": [
    "# Verbal Stems in the Syriac New Testament\n",
    "\n",
    "Triggered by a [tweet of James A. Walters](https://twitter.com/jedwardwalters/status/1268224695003951105?s=21):\n",
    "\n",
    "a frequency list of the verbal stems in SyrNT."
   ]
  },
  {
   "cell_type": "code",
   "execution_count": 1,
   "metadata": {},
   "outputs": [],
   "source": [
    "from tf.app import use"
   ]
  },
  {
   "cell_type": "code",
   "execution_count": 2,
   "metadata": {},
   "outputs": [
    {
     "name": "stdout",
     "output_type": "stream",
     "text": [
      "rate limit is 5000 requests per hour, with 4987 left for this hour\n",
      "\tconnecting to online GitHub repo annotation/app-syrnt ... connected\n",
      "Using TF-app in ~/text-fabric-data/annotation/app-syrnt/code:\n",
      "\trv2.2.0=#541bca81aba9a6f10f106ca261bd33b3ac1aa278 (latest release)\n",
      "Using data in ~/text-fabric-data/etcbc/syrnt/tf/0.1:\n",
      "\tr0.3 offline under ~/text-fabric-data (local release)\n",
      "   |     0.00s Dataset without structure sections in otext:no structure functions in the T-API\n"
     ]
    },
    {
     "data": {
      "text/html": [
       "<b>Documentation:</b> <a target=\"_blank\" href=\"https://github.com/etcbc/syrnt/blob/master/docs/transcription.md\" title=\"provenance of SyrNT\">SYRNT</a> <a target=\"_blank\" href=\"https://annotation.github.io/text-fabric/writing/syriac.html\" title=\"How TF features represent text\">Character table</a> <a target=\"_blank\" href=\"https://github.com/etcbc/syrnt/blob/master/docs/transcription-0.1.md\" title=\"SYRNT feature documentation\">Feature docs</a> <a target=\"_blank\" href=\"https://github.com/annotation/app-syrnt\" title=\"syrnt API documentation\">syrnt API</a> <a target=\"_blank\" href=\"https://annotation.github.io/text-fabric/cheatsheet.html\" title=\"text-fabric-api\">Text-Fabric API 8.2.2</a> <a target=\"_blank\" href=\"https://annotation.github.io/text-fabric/about/searchusage.html\" title=\"Search Templates Introduction and Reference\">Search Reference</a><details open><summary><b>Loaded features</b>:</summary>\n",
       "<p><b>SyrNT</b>: <a target=\"_blank\" href=\"https://github.com/etcbc/syrnt/blob/master/docs/transcription-0.1.md\" title=\"~/text-fabric-data/etcbc/syrnt/tf/0.1/book.tf\">book</a>  <a target=\"_blank\" href=\"https://github.com/etcbc/syrnt/blob/master/docs/transcription-0.1.md\" title=\"~/text-fabric-data/etcbc/syrnt/tf/0.1/book@en.tf\">book@ll</a>  <a target=\"_blank\" href=\"https://github.com/etcbc/syrnt/blob/master/docs/transcription-0.1.md\" title=\"~/text-fabric-data/etcbc/syrnt/tf/0.1/chapter.tf\">chapter</a>  <a target=\"_blank\" href=\"https://github.com/etcbc/syrnt/blob/master/docs/transcription-0.1.md\" title=\"~/text-fabric-data/etcbc/syrnt/tf/0.1/demcat.tf\">demcat</a>  <a target=\"_blank\" href=\"https://github.com/etcbc/syrnt/blob/master/docs/transcription-0.1.md\" title=\"~/text-fabric-data/etcbc/syrnt/tf/0.1/fmhdot.tf\">fmhdot</a>  <a target=\"_blank\" href=\"https://github.com/etcbc/syrnt/blob/master/docs/transcription-0.1.md\" title=\"~/text-fabric-data/etcbc/syrnt/tf/0.1/gn.tf\">gn</a>  <a target=\"_blank\" href=\"https://github.com/etcbc/syrnt/blob/master/docs/transcription-0.1.md\" title=\"~/text-fabric-data/etcbc/syrnt/tf/0.1/lexeme.tf\">lexeme</a>  <a target=\"_blank\" href=\"https://github.com/etcbc/syrnt/blob/master/docs/transcription-0.1.md\" title=\"~/text-fabric-data/etcbc/syrnt/tf/0.1/lexeme_etcbc.tf\">lexeme_etcbc</a>  <a target=\"_blank\" href=\"https://github.com/etcbc/syrnt/blob/master/docs/transcription-0.1.md\" title=\"~/text-fabric-data/etcbc/syrnt/tf/0.1/lexeme_sedra.tf\">lexeme_sedra</a>  <a target=\"_blank\" href=\"https://github.com/etcbc/syrnt/blob/master/docs/transcription-0.1.md\" title=\"~/text-fabric-data/etcbc/syrnt/tf/0.1/nmtyp.tf\">nmtyp</a>  <a target=\"_blank\" href=\"https://github.com/etcbc/syrnt/blob/master/docs/transcription-0.1.md\" title=\"~/text-fabric-data/etcbc/syrnt/tf/0.1/ntyp.tf\">ntyp</a>  <a target=\"_blank\" href=\"https://github.com/etcbc/syrnt/blob/master/docs/transcription-0.1.md\" title=\"~/text-fabric-data/etcbc/syrnt/tf/0.1/nu.tf\">nu</a>  <a target=\"_blank\" href=\"https://github.com/etcbc/syrnt/blob/master/docs/transcription-0.1.md\" title=\"~/text-fabric-data/etcbc/syrnt/tf/0.1/otype.tf\">otype</a>  <a target=\"_blank\" href=\"https://github.com/etcbc/syrnt/blob/master/docs/transcription-0.1.md\" title=\"~/text-fabric-data/etcbc/syrnt/tf/0.1/prefix.tf\">prefix</a>  <a target=\"_blank\" href=\"https://github.com/etcbc/syrnt/blob/master/docs/transcription-0.1.md\" title=\"~/text-fabric-data/etcbc/syrnt/tf/0.1/prefix_etcbc.tf\">prefix_etcbc</a>  <a target=\"_blank\" href=\"https://github.com/etcbc/syrnt/blob/master/docs/transcription-0.1.md\" title=\"~/text-fabric-data/etcbc/syrnt/tf/0.1/prefix_sedra.tf\">prefix_sedra</a>  <a target=\"_blank\" href=\"https://github.com/etcbc/syrnt/blob/master/docs/transcription-0.1.md\" title=\"~/text-fabric-data/etcbc/syrnt/tf/0.1/prtyp.tf\">prtyp</a>  <a target=\"_blank\" href=\"https://github.com/etcbc/syrnt/blob/master/docs/transcription-0.1.md\" title=\"~/text-fabric-data/etcbc/syrnt/tf/0.1/ps.tf\">ps</a>  <a target=\"_blank\" href=\"https://github.com/etcbc/syrnt/blob/master/docs/transcription-0.1.md\" title=\"~/text-fabric-data/etcbc/syrnt/tf/0.1/ptctyp.tf\">ptctyp</a>  <a target=\"_blank\" href=\"https://github.com/etcbc/syrnt/blob/master/docs/transcription-0.1.md\" title=\"~/text-fabric-data/etcbc/syrnt/tf/0.1/root.tf\">root</a>  <a target=\"_blank\" href=\"https://github.com/etcbc/syrnt/blob/master/docs/transcription-0.1.md\" title=\"~/text-fabric-data/etcbc/syrnt/tf/0.1/root_etcbc.tf\">root_etcbc</a>  <a target=\"_blank\" href=\"https://github.com/etcbc/syrnt/blob/master/docs/transcription-0.1.md\" title=\"~/text-fabric-data/etcbc/syrnt/tf/0.1/root_sedra.tf\">root_sedra</a>  <a target=\"_blank\" href=\"https://github.com/etcbc/syrnt/blob/master/docs/transcription-0.1.md\" title=\"~/text-fabric-data/etcbc/syrnt/tf/0.1/seyame.tf\">seyame</a>  <a target=\"_blank\" href=\"https://github.com/etcbc/syrnt/blob/master/docs/transcription-0.1.md\" title=\"~/text-fabric-data/etcbc/syrnt/tf/0.1/sfcontract.tf\">sfcontract</a>  <a target=\"_blank\" href=\"https://github.com/etcbc/syrnt/blob/master/docs/transcription-0.1.md\" title=\"~/text-fabric-data/etcbc/syrnt/tf/0.1/sfgn.tf\">sfgn</a>  <a target=\"_blank\" href=\"https://github.com/etcbc/syrnt/blob/master/docs/transcription-0.1.md\" title=\"~/text-fabric-data/etcbc/syrnt/tf/0.1/sfnu.tf\">sfnu</a>  <a target=\"_blank\" href=\"https://github.com/etcbc/syrnt/blob/master/docs/transcription-0.1.md\" title=\"~/text-fabric-data/etcbc/syrnt/tf/0.1/sfps.tf\">sfps</a>  <a target=\"_blank\" href=\"https://github.com/etcbc/syrnt/blob/master/docs/transcription-0.1.md\" title=\"~/text-fabric-data/etcbc/syrnt/tf/0.1/sp.tf\">sp</a>  <a target=\"_blank\" href=\"https://github.com/etcbc/syrnt/blob/master/docs/transcription-0.1.md\" title=\"~/text-fabric-data/etcbc/syrnt/tf/0.1/st.tf\">st</a>  <a target=\"_blank\" href=\"https://github.com/etcbc/syrnt/blob/master/docs/transcription-0.1.md\" title=\"~/text-fabric-data/etcbc/syrnt/tf/0.1/stem.tf\">stem</a>  <a target=\"_blank\" href=\"https://github.com/etcbc/syrnt/blob/master/docs/transcription-0.1.md\" title=\"~/text-fabric-data/etcbc/syrnt/tf/0.1/stem_etcbc.tf\">stem_etcbc</a>  <a target=\"_blank\" href=\"https://github.com/etcbc/syrnt/blob/master/docs/transcription-0.1.md\" title=\"~/text-fabric-data/etcbc/syrnt/tf/0.1/stem_sedra.tf\">stem_sedra</a>  <a target=\"_blank\" href=\"https://github.com/etcbc/syrnt/blob/master/docs/transcription-0.1.md\" title=\"~/text-fabric-data/etcbc/syrnt/tf/0.1/suffix.tf\">suffix</a>  <a target=\"_blank\" href=\"https://github.com/etcbc/syrnt/blob/master/docs/transcription-0.1.md\" title=\"~/text-fabric-data/etcbc/syrnt/tf/0.1/suffix_etcbc.tf\">suffix_etcbc</a>  <a target=\"_blank\" href=\"https://github.com/etcbc/syrnt/blob/master/docs/transcription-0.1.md\" title=\"~/text-fabric-data/etcbc/syrnt/tf/0.1/suffix_sedra.tf\">suffix_sedra</a>  <a target=\"_blank\" href=\"https://github.com/etcbc/syrnt/blob/master/docs/transcription-0.1.md\" title=\"~/text-fabric-data/etcbc/syrnt/tf/0.1/verse.tf\">verse</a>  <a target=\"_blank\" href=\"https://github.com/etcbc/syrnt/blob/master/docs/transcription-0.1.md\" title=\"~/text-fabric-data/etcbc/syrnt/tf/0.1/vs.tf\">vs</a>  <a target=\"_blank\" href=\"https://github.com/etcbc/syrnt/blob/master/docs/transcription-0.1.md\" title=\"~/text-fabric-data/etcbc/syrnt/tf/0.1/vt.tf\">vt</a>  <a target=\"_blank\" href=\"https://github.com/etcbc/syrnt/blob/master/docs/transcription-0.1.md\" title=\"~/text-fabric-data/etcbc/syrnt/tf/0.1/word.tf\">word</a>  <a target=\"_blank\" href=\"https://github.com/etcbc/syrnt/blob/master/docs/transcription-0.1.md\" title=\"~/text-fabric-data/etcbc/syrnt/tf/0.1/word_etcbc.tf\">word_etcbc</a>  <a target=\"_blank\" href=\"https://github.com/etcbc/syrnt/blob/master/docs/transcription-0.1.md\" title=\"~/text-fabric-data/etcbc/syrnt/tf/0.1/word_sedra.tf\">word_sedra</a>  <b><i><a target=\"_blank\" href=\"https://github.com/etcbc/syrnt/blob/master/docs/transcription-0.1.md\" title=\"~/text-fabric-data/etcbc/syrnt/tf/0.1/oslots.tf\">oslots</a></i></b> </p></details>"
      ],
      "text/plain": [
       "<IPython.core.display.HTML object>"
      ]
     },
     "metadata": {},
     "output_type": "display_data"
    },
    {
     "data": {
      "text/html": [
       "<style>tr.tf, td.tf, th.tf { text-align: left ! important;}@font-face {\n",
       "  font-family: \"Ezra SIL\";\n",
       "  src: local('Ezra SIL'), local('EzraSIL'),\n",
       "    url('/server/static/fonts/SILEOT.woff') format('woff'),\n",
       "    url('https://github.com/annotation/text-fabric/blob/master/tf/server/static/fonts/SILEOT.woff?raw=true') format('woff');\n",
       "}\n",
       "\n",
       "@font-face {\n",
       "  font-family: \"SBL Hebrew\";\n",
       "  src: local('SBL Hebrew'), local('SBLHebrew'),\n",
       "    url('/server/static/fonts/SBL_Hbrw.woff') format('woff'),\n",
       "    url('https://github.com/annotation/text-fabric/blob/master/tf/server/static/fonts/SBL_Hbrw.woff?raw=true') format('woff');\n",
       "}\n",
       "\n",
       "@font-face {\n",
       "  font-family: \"Estrangelo Edessa\";\n",
       "  src: local('Estrangelo Edessa'), local('EstrangeloEdessa');\n",
       "    url('/server/static/fonts/SyrCOMEdessa.woff') format('woff'),\n",
       "    url('https://github.com/annotation/text-fabric/blob/master/tf/server/static/fonts/SyrCOMEdessa.woff?raw=true') format('woff');\n",
       "}\n",
       "\n",
       "@font-face {\n",
       "  font-family: AmiriQuran;\n",
       "  font-style: normal;\n",
       "  font-weight: 400;\n",
       "  src: local('Amiri Quran'), local('AmiriQuran'),\n",
       "    url('/server/static/fonts/AmiriQuran.woff') format('woff'),\n",
       "    url('https://github.com/annotation/text-fabric/blob/master/tf/server/static/fonts/AmiriQuran.woff?raw=true') format('woff');\n",
       "}\n",
       "\n",
       "@font-face {\n",
       "  font-family: AmiriQuranColored;\n",
       "  font-style: normal;\n",
       "  font-weight: 400;\n",
       "  src: local('Amiri Quran Colored'), local('AmiriQuranColored'),\n",
       "    url('/server/static/fonts/AmiriQuranColored.woff') format('woff'),\n",
       "    url('https://github.com/annotation/text-fabric/blob/master/tf/server/static/fonts/AmiriQuranColored.woff?raw=true') format('woff');\n",
       "}\n",
       "\n",
       "@font-face {\n",
       "  font-family: \"Santakku\";\n",
       "  src: local('Santakku'),\n",
       "    url('/server/static/fonts/Santakku.woff') format('woff'),\n",
       "    url('https://github.com/annotation/text-fabric/blob/master/tf/server/static/fonts/Santakku.woff?raw=true') format('woff');\n",
       "}\n",
       "\n",
       "@font-face {\n",
       "  font-family: \"SantakkuM\";\n",
       "  src: local('SantakkuM'),\n",
       "    url('/server/static/fonts/SantakkuM.woff') format('woff'),\n",
       "    url('https://github.com/annotation/text-fabric/blob/master/tf/server/static/fonts/SantakkuM.woff?raw=true') format('woff');\n",
       "}\n",
       "/* bypassing some classical notebook settings */\n",
       "div#notebook {\n",
       "  line-height: unset;\n",
       "}\n",
       "/* neutral text */\n",
       ".txtn,.txtn a:visited,.txtn a:link {\n",
       "    font-family: sans-serif;\n",
       "    font-size: medium;\n",
       "    direction: ltr;\n",
       "    text-decoration: none;\n",
       "    color: var(--text-color);\n",
       "}\n",
       "/* transcription text */\n",
       ".txtt,.txtt a:visited,.txtt a:link {\n",
       "    font-family: monospace;\n",
       "    font-size: medium;\n",
       "    direction: ltr;\n",
       "    text-decoration: none;\n",
       "    color: var(--text-color);\n",
       "}\n",
       "/* source text */\n",
       ".txto,.txto a:visited,.txto a:link {\n",
       "    font-family: serif;\n",
       "    font-size: medium;\n",
       "    direction: ltr;\n",
       "    text-decoration: none;\n",
       "    color: var(--text-color);\n",
       "}\n",
       "/* phonetic text */\n",
       ".txtp,.txtp a:visited,.txtp a:link {\n",
       "    font-family: Gentium, sans-serif;\n",
       "    font-size: large;\n",
       "    direction: ltr;\n",
       "    text-decoration: none;\n",
       "    color: var(--text-color);\n",
       "}\n",
       "/* original script text */\n",
       ".txtu,.txtu a:visited,.txtu a:link {\n",
       "    font-family: Gentium, sans-serif;\n",
       "    font-size: large;\n",
       "    text-decoration: none;\n",
       "    color: var(--text-color);\n",
       "}\n",
       "/* hebrew */\n",
       ".txtu.hbo,.lex.hbo {\n",
       "    font-family: \"Ezra SIL\", \"SBL Hebrew\", sans-serif;\n",
       "    font-size: x-large;\n",
       "    direction: rtl ! important;\n",
       "    unicode-bidi: embed;\n",
       "}\n",
       "/* syriac */\n",
       ".txtu.syc,.lex.syc {\n",
       "    font-family: \"Estrangelo Edessa\", sans-serif;\n",
       "    font-size: large;\n",
       "    direction: rtl ! important;\n",
       "    unicode-bidi: embed;\n",
       "}\n",
       "/* neo aramaic */\n",
       ".txtu.cld,.lex.cld {\n",
       "    font-family: \"CharisSIL-R\", sans-serif;\n",
       "    font-size: medium;\n",
       "    direction: ltr ! important;\n",
       "    unicode-bidi: embed;\n",
       "}\n",
       "/* standard arabic */\n",
       ".txtu.ara,.lex.ara {\n",
       "    font-family: \"AmiriQuran\", sans-serif;\n",
       "    font-size: large;\n",
       "    direction: rtl ! important;\n",
       "    unicode-bidi: embed;\n",
       "}\n",
       "/* cuneiform */\n",
       ".txtu.akk,.lex.akk {\n",
       "    font-family: Santakku, sans-serif;\n",
       "    font-size: x-large;\n",
       "    direction: ltr ! important;\n",
       "    unicode-bidi: embed;\n",
       "}\n",
       "/* greek */\n",
       ".txtu.grc,.lex.grc a:link {\n",
       "    font-family: Gentium, sans-serif;\n",
       "    font-size: medium;\n",
       "    direction: ltr ! important;\n",
       "    unicode-bidi: embed;\n",
       "}\n",
       "a:hover {\n",
       "    text-decoration: underline | important;\n",
       "    color: #0000ff | important;\n",
       "}\n",
       ".ltr {\n",
       "    direction: ltr ! important;\n",
       "}\n",
       ".rtl {\n",
       "    direction: rtl ! important;\n",
       "}\n",
       "span.plain {\n",
       "    display: inline-block;\n",
       "    white-space: pre-wrap;\n",
       "    text-align: start;\n",
       "}\n",
       ".gr,.gl {\n",
       "    white-space: pre-wrap;\n",
       "    border-color: var(--border-color-gap);\n",
       "    border-width: var(--border-width-gap);\n",
       "    border-top-style: none;\n",
       "    border-bottom-style: none;\n",
       "}\n",
       ".gr {\n",
       "    border-right-style: solid;\n",
       "    border-left-style: dashed;\n",
       "}\n",
       ".gl {\n",
       "    border-right-style: dashed;\n",
       "    border-left-style: solid;\n",
       "}\n",
       ".features {\n",
       "    font-family: monospace;\n",
       "    font-size: medium;\n",
       "    font-weight: bold;\n",
       "    color: var(--features);\n",
       "    display: flex;\n",
       "    flex-flow: column nowrap;\n",
       "    justify-content: flex-start;\n",
       "    align-items: flex-start;\n",
       "    align-content: flex-start;\n",
       "    padding: 0.1rem;\n",
       "    margin: 0.1rem;\n",
       "    direction: ltr;\n",
       "    border: var(--meta-width) solid var(--meta-color);\n",
       "    border-radius: var(--meta-width);\n",
       "}\n",
       ".features div,.features span {\n",
       "    padding: 0;\n",
       "    margin: -0.1rem 0;\n",
       "}\n",
       ".features .f {\n",
       "    font-family: sans-serif;\n",
       "    font-size: small;\n",
       "    font-weight: normal;\n",
       "    color: #5555bb;\n",
       "}\n",
       ".features .xft {\n",
       "  color: #000000;\n",
       "  background-color: #eeeeee;\n",
       "  font-size: medium;\n",
       "  margin: 0.1rem 0rem;\n",
       "}\n",
       ".features .xft .f {\n",
       "  color: #000000;\n",
       "  background-color: #eeeeee;\n",
       "  font-size: small;\n",
       "  font-weight: normal;\n",
       "}\n",
       ".section {\n",
       "    font-family: sans-serif;\n",
       "    font-size: small;\n",
       "    font-weight: bold;\n",
       "    color: var(--section);\n",
       "}\n",
       ".structure {\n",
       "    font-family: sans-serif;\n",
       "    font-size: small;\n",
       "    font-weight: bold;\n",
       "    color: var(--structure);\n",
       "}\n",
       ".comments {\n",
       "    display: flex;\n",
       "    justify-content: flex-start;\n",
       "    align-items: flex-start;\n",
       "    align-content: flex-start;\n",
       "    flex-flow: column nowrap;\n",
       "}\n",
       ".nd {\n",
       "    font-family: sans-serif;\n",
       "    font-size: small;\n",
       "    color: var(--node);\n",
       "    vertical-align: super;\n",
       "}\n",
       ".lex {\n",
       "  color: var(--lex-color);;\n",
       "}\n",
       ".children,.children.ltr {\n",
       "    display: flex;\n",
       "    border: 0;\n",
       "    background-color: #ffffff;\n",
       "    justify-content: flex-start;\n",
       "    align-items: flex-start;\n",
       "    align-content: flex-start;\n",
       "}\n",
       ".children.stretch {\n",
       "    align-items: stretch;\n",
       "}\n",
       ".children.hor {\n",
       "    flex-flow: row nowrap;\n",
       "}\n",
       ".children.hor.wrap {\n",
       "    flex-flow: row wrap;\n",
       "}\n",
       ".children.ver {\n",
       "    flex-flow: column nowrap;\n",
       "}\n",
       ".children.ver.wrap {\n",
       "    flex-flow: column wrap;\n",
       "}\n",
       ".contnr {\n",
       "    width: fit-content;\n",
       "    display: flex;\n",
       "    justify-content: flex-start;\n",
       "    align-items: flex-start;\n",
       "    align-content: flex-start;\n",
       "    flex-flow: column nowrap;\n",
       "    background: #ffffff none repeat scroll 0 0;\n",
       "    padding:  0.5rem 0.1rem 0.1rem 0.1rem;\n",
       "    margin: 0.8rem 0.1rem 0.1rem 0.1rem;\n",
       "    border-style: solid;\n",
       "    font-size: small;\n",
       "}\n",
       ".contnr.trm {\n",
       "    background-attachment: local;\n",
       "}\n",
       ".contnr.cnul {\n",
       "    padding:  0;\n",
       "    margin: 0;\n",
       "    border-style: solid;\n",
       "    font-size: xx-small;\n",
       "}\n",
       ".contnr.cnul,.lbl.cnul {\n",
       "    border-color: var(--border-color-nul);\n",
       "    border-width: var(--border-width-nul);\n",
       "    border-radius: var(--border-width-nul);\n",
       "}\n",
       ".contnr.c0,.lbl.c0 {\n",
       "    border-color: var(--border-color0);\n",
       "    border-width: var(--border-width0);\n",
       "    border-radius: var(--border-width0);\n",
       "}\n",
       ".contnr.c1,.lbl.c1 {\n",
       "    border-color: var(--border-color1);\n",
       "    border-width: var(--border-width1);\n",
       "    border-radius: var(--border-width1);\n",
       "}\n",
       ".contnr.c2,.lbl.c2 {\n",
       "    border-color: var(--border-color2);\n",
       "    border-width: var(--border-width2);\n",
       "    border-radius: var(--border-width2);\n",
       "}\n",
       ".contnr.c3,.lbl.c3 {\n",
       "    border-color: var(--border-color3);\n",
       "    border-width: var(--border-width3);\n",
       "    border-radius: var(--border-width3);\n",
       "}\n",
       ".contnr.c4,.lbl.c4 {\n",
       "    border-color: var(--border-color4);\n",
       "    border-width: var(--border-width4);\n",
       "    border-radius: var(--border-width4);\n",
       "}\n",
       ".contnr.l,.contnr.l>.lbl {\n",
       "    border-left-style: dotted\n",
       "}\n",
       ".contnr.r,.contnr.r>.lbl {\n",
       "    border-right-style: dotted\n",
       "}\n",
       ".contnr.lno,.contnr.lno>.lbl {\n",
       "    border-left-style: none\n",
       "}\n",
       ".contnr.rno,.contnr.rno>.lbl {\n",
       "    border-right-style: none\n",
       "}\n",
       ".lbl {\n",
       "    font-family: monospace;\n",
       "    margin-top: -1.2rem;\n",
       "    margin-left: 1rem;\n",
       "    background: #ffffff none repeat scroll 0 0;\n",
       "    padding: 0 0.3rem;\n",
       "    border-style: solid;\n",
       "    display: block;\n",
       "    color: var(--label)\n",
       "}\n",
       ".lbl.trm {\n",
       "    background-attachment: local;\n",
       "    margin-top: 0.1rem;\n",
       "    margin-left: 0.1rem;\n",
       "    padding: 0.1rem 0.1rem;\n",
       "    border-style: none;\n",
       "}\n",
       ".lbl.cnul {\n",
       "    font-size: xx-small;\n",
       "}\n",
       ".lbl.c0 {\n",
       "    font-size: small;\n",
       "}\n",
       ".lbl.c1 {\n",
       "    font-size: small;\n",
       "}\n",
       ".lbl.c2 {\n",
       "    font-size: medium;\n",
       "}\n",
       ".lbl.c3 {\n",
       "    font-size: medium;\n",
       "}\n",
       ".lbl.c4 {\n",
       "    font-size: large;\n",
       "}\n",
       ".occs {\n",
       "    font-size: small;\n",
       "}\n",
       "\n",
       "/* PROVENANCE */\n",
       "\n",
       "div.prov {\n",
       "\tmargin: 2rem;\n",
       "\tpadding: 1rem;\n",
       "\tborder: 0.1rem solid var(--fog-rim);\n",
       "}\n",
       "div.pline {\n",
       "\tdisplay: flex;\n",
       "\tflex-flow: row nowrap;\n",
       "\tjustify-content: stretch;\n",
       "\talign-items: baseline;\n",
       "}\n",
       "div.p2line {\n",
       "\tmargin-left: 2em;\n",
       "\tdisplay: flex;\n",
       "\tflex-flow: row nowrap;\n",
       "\tjustify-content: stretch;\n",
       "\talign-items: baseline;\n",
       "}\n",
       "div.psline {\n",
       "\tdisplay: flex;\n",
       "\tflex-flow: row nowrap;\n",
       "\tjustify-content: stretch;\n",
       "\talign-items: baseline;\n",
       "\tbackground-color: var(--gold-mist-back);\n",
       "}\n",
       "div.pname {\n",
       "\tflex: 0 0 5rem;\n",
       "\tfont-weight: bold;\n",
       "}\n",
       "div.pval {\n",
       "    flex: 1 1 auto;\n",
       "}\n",
       "\n",
       ":root {\n",
       "\t--node:             hsla(120, 100%,  20%, 1.0  );\n",
       "\t--label:            hsla(  0, 100%,  20%, 1.0  );\n",
       "\t--section:          hsla(  0, 100%,  25%, 1.0  );\n",
       "\t--structure:        hsla(120, 100%,  25%, 1.0  );\n",
       "\t--features:         hsla(  0,   0%,  30%, 1.0  );\n",
       "  --text-color:       hsla( 60,  80%,  10%, 1.0  );\n",
       "  --lex-color:        hsla(220,  90%,  60%, 1.0  );\n",
       "  --meta-color:       hsla(  0,   0%,  90%, 0.7  );\n",
       "  --meta-width:       0.15rem;\n",
       "  --border-color-nul: hsla(  0,   0%,  90%, 0.5  );\n",
       "  --border-color-gap: hsla(  0,  50%,  70%, 1.0  );\n",
       "  --border-color0:    hsla(  0,   0%,  90%, 0.9  );\n",
       "  --border-color1:    hsla(  0,   0%,  80%, 0.9  );\n",
       "  --border-color2:    hsla(  0,   0%,  70%, 0.9  );\n",
       "  --border-color3:    hsla(  0,   0%,  80%, 0.8  );\n",
       "  --border-color4:    hsla(  0,   0%,  60%, 0.9  );\n",
       "  --border-width-nul: 0.1rem;\n",
       "  --border-width-gap: 0.1rem;\n",
       "  --border-width0:    0.1rem;\n",
       "  --border-width1:    0.15rem;\n",
       "  --border-width2:    0.2rem;\n",
       "  --border-width3:    0.3rem;\n",
       "  --border-width4:    0.25rem;\n",
       "}\n",
       ".hl {\n",
       "  background-color: var(--hl-strong);\n",
       "}\n",
       "span.hl {\n",
       "\tbackground-color: var(--hl-strong);\n",
       "\tborder-width: 0;\n",
       "\tborder-radius: 0.1rem;\n",
       "\tborder-style: solid;\n",
       "}\n",
       "div.contnr.hl,div.lbl.hl {\n",
       "  background-color: var(--hl-strong);\n",
       "}\n",
       "div.contnr.hl {\n",
       "  border-color: var(--hl-rim) ! important;\n",
       "\tborder-width: 0.2rem ! important;\n",
       "}\n",
       "\n",
       "span.hlbx {\n",
       "\tborder-color: var(--hl-rim);\n",
       "\tborder-width: 0.2rem;\n",
       "\tborder-style: solid;\n",
       "\tborder-radius: 0.3rem;\n",
       "  padding: 0.2rem;\n",
       "  margin: 0.2rem;\n",
       "}\n",
       "\n",
       "span.plain {\n",
       "  display: inline-block;\n",
       "  white-space: pre-wrap;\n",
       "}\n",
       "\n",
       ":root {\n",
       "\t--hl-strong:        hsla( 60, 100%,  70%, 0.9  );\n",
       "\t--hl-rim:           hsla( 55,  80%,  50%, 1.0  );\n",
       "}\n",
       "</style>"
      ],
      "text/plain": [
       "<IPython.core.display.HTML object>"
      ]
     },
     "metadata": {},
     "output_type": "display_data"
    },
    {
     "data": {
      "text/html": [
       "<div><a target=\"_blank\" href=\"https://annotation.github.io/text-fabric/cheatsheet.html\" title=\"doc\">names N F E L T S C TF directly usable</a></div>"
      ],
      "text/plain": [
       "<IPython.core.display.HTML object>"
      ]
     },
     "metadata": {},
     "output_type": "display_data"
    }
   ],
   "source": [
    "A = use('syrnt:latest', hoist=globals())"
   ]
  },
  {
   "cell_type": "code",
   "execution_count": 3,
   "metadata": {},
   "outputs": [
    {
     "data": {
      "text/plain": [
       "(('NA', 79113),\n",
       " ('peal', 21992),\n",
       " ('pael', 3104),\n",
       " ('aphel', 1925),\n",
       " ('ethpeal', 1539),\n",
       " ('ethpael', 1163),\n",
       " ('paiel', 341),\n",
       " ('eshtaphal', 167),\n",
       " ('ettaphal', 147),\n",
       " ('shaphel', 63),\n",
       " ('palpel', 23),\n",
       " ('ethpalpal2', 21),\n",
       " ('ethpaial', 12),\n",
       " ('pamel', 7),\n",
       " ('estaphal', 4),\n",
       " ('ethaphal', 3),\n",
       " ('ethpalpal', 3),\n",
       " ('saphel', 3),\n",
       " ('taphel', 3),\n",
       " ('ethpali', 2),\n",
       " ('ethparal', 2),\n",
       " ('parel', 2),\n",
       " ('ethpaual', 1))"
      ]
     },
     "execution_count": 3,
     "metadata": {},
     "output_type": "execute_result"
    }
   ],
   "source": [
    "F.vs.freqList()"
   ]
  },
  {
   "cell_type": "markdown",
   "metadata": {},
   "source": [
    "There are 7 pamels. Where?"
   ]
  },
  {
   "cell_type": "code",
   "execution_count": 10,
   "metadata": {},
   "outputs": [
    {
     "name": "stdout",
     "output_type": "stream",
     "text": [
      "  0.13s 7 results\n"
     ]
    },
    {
     "data": {
      "text/html": [
       "<p><b>result</b> <i>1</i></p>"
      ],
      "text/plain": [
       "<IPython.core.display.HTML object>"
      ]
     },
     "metadata": {},
     "output_type": "display_data"
    },
    {
     "data": {
      "text/html": [
       "<span class=\"section ltr\"><a target=\"_blank\" href=\"https://github.com/etcbc/syrnt/blob/master/plain/0.1/1_Thessalonians.txt\" title=\"show this passage in the SyrNT repository\" sec=\"1_Thessalonians 3:1\">1_Thessalonians 3:1</a> </span><div class=\"contnr c3  rtl  \" ><div class=\"lbl c3  \" ><span class=\"nd\">verse</span></div><div class=\"children hor wrap rtl\"><div class=\"contnr c0 trm rtl   \" ><div class=\"lbl c0 trm \" ><a target=\"_blank\" href=\"https://github.com/etcbc/syrnt/blob/master/plain\" title=\"show this passage in the SyrNT repository\"><span class=\"txtu syc\">ܘܡܛܠ </span></a></div></div><div class=\"contnr c0 trm rtl   \" ><div class=\"lbl c0 trm \" ><a target=\"_blank\" href=\"https://github.com/etcbc/syrnt/blob/master/plain\" title=\"show this passage in the SyrNT repository\"><span class=\"txtu syc\">ܕܠܐ </span></a></div></div><div class=\"contnr c0 trm rtl   hl\" ><div class=\"lbl c0 trm hl\" ><a target=\"_blank\" href=\"https://github.com/etcbc/syrnt/blob/master/plain\" title=\"show this passage in the SyrNT repository\"><span class=\"txtu syc\">ܚܡܣܢܢ </span></a></div><div class='features'><span class=\"vs xft\" ><span class=\"f\">vs=</span>pamel</span></div></div><div class=\"contnr c0 trm rtl   \" ><div class=\"lbl c0 trm \" ><a target=\"_blank\" href=\"https://github.com/etcbc/syrnt/blob/master/plain\" title=\"show this passage in the SyrNT repository\"><span class=\"txtu syc\">ܨܒܝܢ </span></a></div><div class='features'><span class=\"vs xft\" ><span class=\"f\">vs=</span>peal</span></div></div><div class=\"contnr c0 trm rtl   \" ><div class=\"lbl c0 trm \" ><a target=\"_blank\" href=\"https://github.com/etcbc/syrnt/blob/master/plain\" title=\"show this passage in the SyrNT repository\"><span class=\"txtu syc\">ܠܡܦܫ </span></a></div><div class='features'><span class=\"vs xft\" ><span class=\"f\">vs=</span>peal</span></div></div><div class=\"contnr c0 trm rtl   \" ><div class=\"lbl c0 trm \" ><a target=\"_blank\" href=\"https://github.com/etcbc/syrnt/blob/master/plain\" title=\"show this passage in the SyrNT repository\"><span class=\"txtu syc\">ܒܐܬܢܘܣ </span></a></div></div><div class=\"contnr c0 trm rtl   \" ><div class=\"lbl c0 trm \" ><a target=\"_blank\" href=\"https://github.com/etcbc/syrnt/blob/master/plain\" title=\"show this passage in the SyrNT repository\"><span class=\"txtu syc\">ܒܠܚܘܕܝܢ </span></a></div></div></div></div>"
      ],
      "text/plain": [
       "<IPython.core.display.HTML object>"
      ]
     },
     "metadata": {},
     "output_type": "display_data"
    },
    {
     "data": {
      "text/html": [
       "<p><b>result</b> <i>2</i></p>"
      ],
      "text/plain": [
       "<IPython.core.display.HTML object>"
      ]
     },
     "metadata": {},
     "output_type": "display_data"
    },
    {
     "data": {
      "text/html": [
       "<span class=\"section ltr\"><a target=\"_blank\" href=\"https://github.com/etcbc/syrnt/blob/master/plain/0.1/1_Thessalonians.txt\" title=\"show this passage in the SyrNT repository\" sec=\"1_Thessalonians 3:5\">1_Thessalonians 3:5</a> </span><div class=\"contnr c3  rtl  \" ><div class=\"lbl c3  \" ><span class=\"nd\">verse</span></div><div class=\"children hor wrap rtl\"><div class=\"contnr c0 trm rtl   \" ><div class=\"lbl c0 trm \" ><a target=\"_blank\" href=\"https://github.com/etcbc/syrnt/blob/master/plain\" title=\"show this passage in the SyrNT repository\"><span class=\"txtu syc\">ܡܛܠ </span></a></div></div><div class=\"contnr c0 trm rtl   \" ><div class=\"lbl c0 trm \" ><a target=\"_blank\" href=\"https://github.com/etcbc/syrnt/blob/master/plain\" title=\"show this passage in the SyrNT repository\"><span class=\"txtu syc\">ܗܢܐ </span></a></div></div><div class=\"contnr c0 trm rtl   \" ><div class=\"lbl c0 trm \" ><a target=\"_blank\" href=\"https://github.com/etcbc/syrnt/blob/master/plain\" title=\"show this passage in the SyrNT repository\"><span class=\"txtu syc\">ܐܦ </span></a></div></div><div class=\"contnr c0 trm rtl   \" ><div class=\"lbl c0 trm \" ><a target=\"_blank\" href=\"https://github.com/etcbc/syrnt/blob/master/plain\" title=\"show this passage in the SyrNT repository\"><span class=\"txtu syc\">ܐܢܐ </span></a></div></div><div class=\"contnr c0 trm rtl   \" ><div class=\"lbl c0 trm \" ><a target=\"_blank\" href=\"https://github.com/etcbc/syrnt/blob/master/plain\" title=\"show this passage in the SyrNT repository\"><span class=\"txtu syc\">ܠܐ </span></a></div></div><div class=\"contnr c0 trm rtl   hl\" ><div class=\"lbl c0 trm hl\" ><a target=\"_blank\" href=\"https://github.com/etcbc/syrnt/blob/master/plain\" title=\"show this passage in the SyrNT repository\"><span class=\"txtu syc\">ܚܡܣܢܬ </span></a></div><div class='features'><span class=\"vs xft\" ><span class=\"f\">vs=</span>pamel</span></div></div><div class=\"contnr c0 trm rtl   \" ><div class=\"lbl c0 trm \" ><a target=\"_blank\" href=\"https://github.com/etcbc/syrnt/blob/master/plain\" title=\"show this passage in the SyrNT repository\"><span class=\"txtu syc\">ܥܕܡܐ </span></a></div></div><div class=\"contnr c0 trm rtl   \" ><div class=\"lbl c0 trm \" ><a target=\"_blank\" href=\"https://github.com/etcbc/syrnt/blob/master/plain\" title=\"show this passage in the SyrNT repository\"><span class=\"txtu syc\">ܕܫܕܪܬ </span></a></div><div class='features'><span class=\"vs xft\" ><span class=\"f\">vs=</span>pael</span></div></div><div class=\"contnr c0 trm rtl   \" ><div class=\"lbl c0 trm \" ><a target=\"_blank\" href=\"https://github.com/etcbc/syrnt/blob/master/plain\" title=\"show this passage in the SyrNT repository\"><span class=\"txtu syc\">ܕܐܕܥ </span></a></div><div class='features'><span class=\"vs xft\" ><span class=\"f\">vs=</span>peal</span></div></div><div class=\"contnr c0 trm rtl   \" ><div class=\"lbl c0 trm \" ><a target=\"_blank\" href=\"https://github.com/etcbc/syrnt/blob/master/plain\" title=\"show this passage in the SyrNT repository\"><span class=\"txtu syc\">ܗܝܡܢܘܬܟܘܢ </span></a></div></div><div class=\"contnr c0 trm rtl   \" ><div class=\"lbl c0 trm \" ><a target=\"_blank\" href=\"https://github.com/etcbc/syrnt/blob/master/plain\" title=\"show this passage in the SyrNT repository\"><span class=\"txtu syc\">ܕܕܠܡܐ </span></a></div></div><div class=\"contnr c0 trm rtl   \" ><div class=\"lbl c0 trm \" ><a target=\"_blank\" href=\"https://github.com/etcbc/syrnt/blob/master/plain\" title=\"show this passage in the SyrNT repository\"><span class=\"txtu syc\">ܢܢܣܝܟܘܢ </span></a></div><div class='features'><span class=\"vs xft\" ><span class=\"f\">vs=</span>pael</span></div></div><div class=\"contnr c0 trm rtl   \" ><div class=\"lbl c0 trm \" ><a target=\"_blank\" href=\"https://github.com/etcbc/syrnt/blob/master/plain\" title=\"show this passage in the SyrNT repository\"><span class=\"txtu syc\">ܡܢܣܝܢܐ </span></a></div></div><div class=\"contnr c0 trm rtl   \" ><div class=\"lbl c0 trm \" ><a target=\"_blank\" href=\"https://github.com/etcbc/syrnt/blob/master/plain\" title=\"show this passage in the SyrNT repository\"><span class=\"txtu syc\">ܘܢܗܘܐ </span></a></div><div class='features'><span class=\"vs xft\" ><span class=\"f\">vs=</span>peal</span></div></div><div class=\"contnr c0 trm rtl   \" ><div class=\"lbl c0 trm \" ><a target=\"_blank\" href=\"https://github.com/etcbc/syrnt/blob/master/plain\" title=\"show this passage in the SyrNT repository\"><span class=\"txtu syc\">ܥܡܠܢ </span></a></div></div><div class=\"contnr c0 trm rtl   \" ><div class=\"lbl c0 trm \" ><a target=\"_blank\" href=\"https://github.com/etcbc/syrnt/blob/master/plain\" title=\"show this passage in the SyrNT repository\"><span class=\"txtu syc\">ܣܪܝܩܐ </span></a></div><div class='features'><span class=\"vs xft\" ><span class=\"f\">vs=</span>peal</span></div></div></div></div>"
      ],
      "text/plain": [
       "<IPython.core.display.HTML object>"
      ]
     },
     "metadata": {},
     "output_type": "display_data"
    },
    {
     "data": {
      "text/html": [
       "<p><b>result</b> <i>3</i></p>"
      ],
      "text/plain": [
       "<IPython.core.display.HTML object>"
      ]
     },
     "metadata": {},
     "output_type": "display_data"
    },
    {
     "data": {
      "text/html": [
       "<span class=\"section ltr\"><a target=\"_blank\" href=\"https://github.com/etcbc/syrnt/blob/master/plain/0.1/2_Thessalonians.txt\" title=\"show this passage in the SyrNT repository\" sec=\"2_Thessalonians 2:15\">2_Thessalonians 2:15</a> </span><div class=\"contnr c3  rtl  \" ><div class=\"lbl c3  \" ><span class=\"nd\">verse</span></div><div class=\"children hor wrap rtl\"><div class=\"contnr c0 trm rtl   \" ><div class=\"lbl c0 trm \" ><a target=\"_blank\" href=\"https://github.com/etcbc/syrnt/blob/master/plain\" title=\"show this passage in the SyrNT repository\"><span class=\"txtu syc\">ܡܟܝܠ </span></a></div></div><div class=\"contnr c0 trm rtl   \" ><div class=\"lbl c0 trm \" ><a target=\"_blank\" href=\"https://github.com/etcbc/syrnt/blob/master/plain\" title=\"show this passage in the SyrNT repository\"><span class=\"txtu syc\">ܐܚܝ </span></a></div></div><div class=\"contnr c0 trm rtl   \" ><div class=\"lbl c0 trm \" ><a target=\"_blank\" href=\"https://github.com/etcbc/syrnt/blob/master/plain\" title=\"show this passage in the SyrNT repository\"><span class=\"txtu syc\">ܐܬܩܝܡܘ </span></a></div><div class='features'><span class=\"vs xft\" ><span class=\"f\">vs=</span>ethpael</span></div></div><div class=\"contnr c0 trm rtl   hl\" ><div class=\"lbl c0 trm hl\" ><a target=\"_blank\" href=\"https://github.com/etcbc/syrnt/blob/master/plain\" title=\"show this passage in the SyrNT repository\"><span class=\"txtu syc\">ܘܚܡܣܢܘ </span></a></div><div class='features'><span class=\"vs xft\" ><span class=\"f\">vs=</span>pamel</span></div></div><div class=\"contnr c0 trm rtl   \" ><div class=\"lbl c0 trm \" ><a target=\"_blank\" href=\"https://github.com/etcbc/syrnt/blob/master/plain\" title=\"show this passage in the SyrNT repository\"><span class=\"txtu syc\">ܒܦܘܩܕܢܐ </span></a></div></div><div class=\"contnr c0 trm rtl   \" ><div class=\"lbl c0 trm \" ><a target=\"_blank\" href=\"https://github.com/etcbc/syrnt/blob/master/plain\" title=\"show this passage in the SyrNT repository\"><span class=\"txtu syc\">ܕܝܠܦܬܘܢ </span></a></div><div class='features'><span class=\"vs xft\" ><span class=\"f\">vs=</span>peal</span></div></div><div class=\"contnr c0 trm rtl   \" ><div class=\"lbl c0 trm \" ><a target=\"_blank\" href=\"https://github.com/etcbc/syrnt/blob/master/plain\" title=\"show this passage in the SyrNT repository\"><span class=\"txtu syc\">ܐܢ </span></a></div></div><div class=\"contnr c0 trm rtl   \" ><div class=\"lbl c0 trm \" ><a target=\"_blank\" href=\"https://github.com/etcbc/syrnt/blob/master/plain\" title=\"show this passage in the SyrNT repository\"><span class=\"txtu syc\">ܒܡܠܬܐ </span></a></div></div><div class=\"contnr c0 trm rtl   \" ><div class=\"lbl c0 trm \" ><a target=\"_blank\" href=\"https://github.com/etcbc/syrnt/blob/master/plain\" title=\"show this passage in the SyrNT repository\"><span class=\"txtu syc\">ܘܐܢ </span></a></div></div><div class=\"contnr c0 trm rtl   \" ><div class=\"lbl c0 trm \" ><a target=\"_blank\" href=\"https://github.com/etcbc/syrnt/blob/master/plain\" title=\"show this passage in the SyrNT repository\"><span class=\"txtu syc\">ܒܐܓܪܬܐ </span></a></div></div><div class=\"contnr c0 trm rtl   \" ><div class=\"lbl c0 trm \" ><a target=\"_blank\" href=\"https://github.com/etcbc/syrnt/blob/master/plain\" title=\"show this passage in the SyrNT repository\"><span class=\"txtu syc\">ܕܝܠܢ </span></a></div></div></div></div>"
      ],
      "text/plain": [
       "<IPython.core.display.HTML object>"
      ]
     },
     "metadata": {},
     "output_type": "display_data"
    },
    {
     "data": {
      "text/html": [
       "<p><b>result</b> <i>4</i></p>"
      ],
      "text/plain": [
       "<IPython.core.display.HTML object>"
      ]
     },
     "metadata": {},
     "output_type": "display_data"
    },
    {
     "data": {
      "text/html": [
       "<span class=\"section ltr\"><a target=\"_blank\" href=\"https://github.com/etcbc/syrnt/blob/master/plain/0.1/1_Timothy.txt\" title=\"show this passage in the SyrNT repository\" sec=\"1_Timothy 4:16\">1_Timothy 4:16</a> </span><div class=\"contnr c3  rtl  \" ><div class=\"lbl c3  \" ><span class=\"nd\">verse</span></div><div class=\"children hor wrap rtl\"><div class=\"contnr c0 trm rtl   \" ><div class=\"lbl c0 trm \" ><a target=\"_blank\" href=\"https://github.com/etcbc/syrnt/blob/master/plain\" title=\"show this passage in the SyrNT repository\"><span class=\"txtu syc\">ܘܐܙܕܗܪ </span></a></div><div class='features'><span class=\"vs xft\" ><span class=\"f\">vs=</span>ethpeal</span></div></div><div class=\"contnr c0 trm rtl   \" ><div class=\"lbl c0 trm \" ><a target=\"_blank\" href=\"https://github.com/etcbc/syrnt/blob/master/plain\" title=\"show this passage in the SyrNT repository\"><span class=\"txtu syc\">ܒܢܦܫܟ </span></a></div></div><div class=\"contnr c0 trm rtl   \" ><div class=\"lbl c0 trm \" ><a target=\"_blank\" href=\"https://github.com/etcbc/syrnt/blob/master/plain\" title=\"show this passage in the SyrNT repository\"><span class=\"txtu syc\">ܘܒܝܘܠܦܢܟ </span></a></div></div><div class=\"contnr c0 trm rtl   hl\" ><div class=\"lbl c0 trm hl\" ><a target=\"_blank\" href=\"https://github.com/etcbc/syrnt/blob/master/plain\" title=\"show this passage in the SyrNT repository\"><span class=\"txtu syc\">ܘܚܡܣܢ </span></a></div><div class='features'><span class=\"vs xft\" ><span class=\"f\">vs=</span>pamel</span></div></div><div class=\"contnr c0 trm rtl   \" ><div class=\"lbl c0 trm \" ><a target=\"_blank\" href=\"https://github.com/etcbc/syrnt/blob/master/plain\" title=\"show this passage in the SyrNT repository\"><span class=\"txtu syc\">ܒܗܘܢ </span></a></div></div><div class=\"contnr c0 trm rtl   \" ><div class=\"lbl c0 trm \" ><a target=\"_blank\" href=\"https://github.com/etcbc/syrnt/blob/master/plain\" title=\"show this passage in the SyrNT repository\"><span class=\"txtu syc\">ܟܕ </span></a></div></div><div class=\"contnr c0 trm rtl   \" ><div class=\"lbl c0 trm \" ><a target=\"_blank\" href=\"https://github.com/etcbc/syrnt/blob/master/plain\" title=\"show this passage in the SyrNT repository\"><span class=\"txtu syc\">ܗܠܝܢ </span></a></div></div><div class=\"contnr c0 trm rtl   \" ><div class=\"lbl c0 trm \" ><a target=\"_blank\" href=\"https://github.com/etcbc/syrnt/blob/master/plain\" title=\"show this passage in the SyrNT repository\"><span class=\"txtu syc\">ܓܝܪ </span></a></div></div><div class=\"contnr c0 trm rtl   \" ><div class=\"lbl c0 trm \" ><a target=\"_blank\" href=\"https://github.com/etcbc/syrnt/blob/master/plain\" title=\"show this passage in the SyrNT repository\"><span class=\"txtu syc\">ܬܥܒܕ </span></a></div><div class='features'><span class=\"vs xft\" ><span class=\"f\">vs=</span>peal</span></div></div><div class=\"contnr c0 trm rtl   \" ><div class=\"lbl c0 trm \" ><a target=\"_blank\" href=\"https://github.com/etcbc/syrnt/blob/master/plain\" title=\"show this passage in the SyrNT repository\"><span class=\"txtu syc\">ܢܦܫܟ </span></a></div></div><div class=\"contnr c0 trm rtl   \" ><div class=\"lbl c0 trm \" ><a target=\"_blank\" href=\"https://github.com/etcbc/syrnt/blob/master/plain\" title=\"show this passage in the SyrNT repository\"><span class=\"txtu syc\">ܬܚܐ </span></a></div><div class='features'><span class=\"vs xft\" ><span class=\"f\">vs=</span>aphel</span></div></div><div class=\"contnr c0 trm rtl   \" ><div class=\"lbl c0 trm \" ><a target=\"_blank\" href=\"https://github.com/etcbc/syrnt/blob/master/plain\" title=\"show this passage in the SyrNT repository\"><span class=\"txtu syc\">ܘܠܐܝܠܝܢ </span></a></div></div><div class=\"contnr c0 trm rtl   \" ><div class=\"lbl c0 trm \" ><a target=\"_blank\" href=\"https://github.com/etcbc/syrnt/blob/master/plain\" title=\"show this passage in the SyrNT repository\"><span class=\"txtu syc\">ܕܫܡܥܝܢ </span></a></div><div class='features'><span class=\"vs xft\" ><span class=\"f\">vs=</span>peal</span></div></div><div class=\"contnr c0 trm rtl   \" ><div class=\"lbl c0 trm \" ><a target=\"_blank\" href=\"https://github.com/etcbc/syrnt/blob/master/plain\" title=\"show this passage in the SyrNT repository\"><span class=\"txtu syc\">ܠܟ </span></a></div></div></div></div>"
      ],
      "text/plain": [
       "<IPython.core.display.HTML object>"
      ]
     },
     "metadata": {},
     "output_type": "display_data"
    },
    {
     "data": {
      "text/html": [
       "<p><b>result</b> <i>5</i></p>"
      ],
      "text/plain": [
       "<IPython.core.display.HTML object>"
      ]
     },
     "metadata": {},
     "output_type": "display_data"
    },
    {
     "data": {
      "text/html": [
       "<span class=\"section ltr\"><a target=\"_blank\" href=\"https://github.com/etcbc/syrnt/blob/master/plain/0.1/Hebrews.txt\" title=\"show this passage in the SyrNT repository\" sec=\"Hebrews 3:14\">Hebrews 3:14</a> </span><div class=\"contnr c3  rtl  \" ><div class=\"lbl c3  \" ><span class=\"nd\">verse</span></div><div class=\"children hor wrap rtl\"><div class=\"contnr c0 trm rtl   \" ><div class=\"lbl c0 trm \" ><a target=\"_blank\" href=\"https://github.com/etcbc/syrnt/blob/master/plain\" title=\"show this passage in the SyrNT repository\"><span class=\"txtu syc\">ܐܬܚܠܛܢ </span></a></div><div class='features'><span class=\"vs xft\" ><span class=\"f\">vs=</span>ethpael</span></div></div><div class=\"contnr c0 trm rtl   \" ><div class=\"lbl c0 trm \" ><a target=\"_blank\" href=\"https://github.com/etcbc/syrnt/blob/master/plain\" title=\"show this passage in the SyrNT repository\"><span class=\"txtu syc\">ܓܝܪ </span></a></div></div><div class=\"contnr c0 trm rtl   \" ><div class=\"lbl c0 trm \" ><a target=\"_blank\" href=\"https://github.com/etcbc/syrnt/blob/master/plain\" title=\"show this passage in the SyrNT repository\"><span class=\"txtu syc\">ܥܡ </span></a></div></div><div class=\"contnr c0 trm rtl   \" ><div class=\"lbl c0 trm \" ><a target=\"_blank\" href=\"https://github.com/etcbc/syrnt/blob/master/plain\" title=\"show this passage in the SyrNT repository\"><span class=\"txtu syc\">ܡܫܝܚܐ </span></a></div><div class='features'><span class=\"vs xft\" ><span class=\"f\">vs=</span>peal</span></div></div><div class=\"contnr c0 trm rtl   \" ><div class=\"lbl c0 trm \" ><a target=\"_blank\" href=\"https://github.com/etcbc/syrnt/blob/master/plain\" title=\"show this passage in the SyrNT repository\"><span class=\"txtu syc\">ܐܢ </span></a></div></div><div class=\"contnr c0 trm rtl   \" ><div class=\"lbl c0 trm \" ><a target=\"_blank\" href=\"https://github.com/etcbc/syrnt/blob/master/plain\" title=\"show this passage in the SyrNT repository\"><span class=\"txtu syc\">ܡܢ </span></a></div></div><div class=\"contnr c0 trm rtl   \" ><div class=\"lbl c0 trm \" ><a target=\"_blank\" href=\"https://github.com/etcbc/syrnt/blob/master/plain\" title=\"show this passage in the SyrNT repository\"><span class=\"txtu syc\">ܪܝܫܝܬܐ </span></a></div></div><div class=\"contnr c0 trm rtl   \" ><div class=\"lbl c0 trm \" ><a target=\"_blank\" href=\"https://github.com/etcbc/syrnt/blob/master/plain\" title=\"show this passage in the SyrNT repository\"><span class=\"txtu syc\">ܘܥܕܡܐ </span></a></div></div><div class=\"contnr c0 trm rtl   \" ><div class=\"lbl c0 trm \" ><a target=\"_blank\" href=\"https://github.com/etcbc/syrnt/blob/master/plain\" title=\"show this passage in the SyrNT repository\"><span class=\"txtu syc\">ܠܐܚܪܝܬܐ </span></a></div></div><div class=\"contnr c0 trm rtl   \" ><div class=\"lbl c0 trm \" ><a target=\"_blank\" href=\"https://github.com/etcbc/syrnt/blob/master/plain\" title=\"show this passage in the SyrNT repository\"><span class=\"txtu syc\">ܒܗ </span></a></div></div><div class=\"contnr c0 trm rtl   \" ><div class=\"lbl c0 trm \" ><a target=\"_blank\" href=\"https://github.com/etcbc/syrnt/blob/master/plain\" title=\"show this passage in the SyrNT repository\"><span class=\"txtu syc\">ܒܩܝܡܐ </span></a></div></div><div class=\"contnr c0 trm rtl   \" ><div class=\"lbl c0 trm \" ><a target=\"_blank\" href=\"https://github.com/etcbc/syrnt/blob/master/plain\" title=\"show this passage in the SyrNT repository\"><span class=\"txtu syc\">ܗܢܐ </span></a></div></div><div class=\"contnr c0 trm rtl   \" ><div class=\"lbl c0 trm \" ><a target=\"_blank\" href=\"https://github.com/etcbc/syrnt/blob/master/plain\" title=\"show this passage in the SyrNT repository\"><span class=\"txtu syc\">ܫܪܝܪܐ </span></a></div></div><div class=\"contnr c0 trm rtl   hl\" ><div class=\"lbl c0 trm hl\" ><a target=\"_blank\" href=\"https://github.com/etcbc/syrnt/blob/master/plain\" title=\"show this passage in the SyrNT repository\"><span class=\"txtu syc\">ܢܚܡܣܢ </span></a></div><div class='features'><span class=\"vs xft\" ><span class=\"f\">vs=</span>pamel</span></div></div></div></div>"
      ],
      "text/plain": [
       "<IPython.core.display.HTML object>"
      ]
     },
     "metadata": {},
     "output_type": "display_data"
    },
    {
     "data": {
      "text/html": [
       "<p><b>result</b> <i>6</i></p>"
      ],
      "text/plain": [
       "<IPython.core.display.HTML object>"
      ]
     },
     "metadata": {},
     "output_type": "display_data"
    },
    {
     "data": {
      "text/html": [
       "<span class=\"section ltr\"><a target=\"_blank\" href=\"https://github.com/etcbc/syrnt/blob/master/plain/0.1/Hebrews.txt\" title=\"show this passage in the SyrNT repository\" sec=\"Hebrews 4:14\">Hebrews 4:14</a> </span><div class=\"contnr c3  rtl  \" ><div class=\"lbl c3  \" ><span class=\"nd\">verse</span></div><div class=\"children hor wrap rtl\"><div class=\"contnr c0 trm rtl   \" ><div class=\"lbl c0 trm \" ><a target=\"_blank\" href=\"https://github.com/etcbc/syrnt/blob/master/plain\" title=\"show this passage in the SyrNT repository\"><span class=\"txtu syc\">ܡܛܠ </span></a></div></div><div class=\"contnr c0 trm rtl   \" ><div class=\"lbl c0 trm \" ><a target=\"_blank\" href=\"https://github.com/etcbc/syrnt/blob/master/plain\" title=\"show this passage in the SyrNT repository\"><span class=\"txtu syc\">ܕܐܝܬ </span></a></div></div><div class=\"contnr c0 trm rtl   \" ><div class=\"lbl c0 trm \" ><a target=\"_blank\" href=\"https://github.com/etcbc/syrnt/blob/master/plain\" title=\"show this passage in the SyrNT repository\"><span class=\"txtu syc\">ܠܢ </span></a></div></div><div class=\"contnr c0 trm rtl   \" ><div class=\"lbl c0 trm \" ><a target=\"_blank\" href=\"https://github.com/etcbc/syrnt/blob/master/plain\" title=\"show this passage in the SyrNT repository\"><span class=\"txtu syc\">ܗܟܝܠ </span></a></div></div><div class=\"contnr c0 trm rtl   \" ><div class=\"lbl c0 trm \" ><a target=\"_blank\" href=\"https://github.com/etcbc/syrnt/blob/master/plain\" title=\"show this passage in the SyrNT repository\"><span class=\"txtu syc\">ܪܒ </span></a></div></div><div class=\"contnr c0 trm rtl   \" ><div class=\"lbl c0 trm \" ><a target=\"_blank\" href=\"https://github.com/etcbc/syrnt/blob/master/plain\" title=\"show this passage in the SyrNT repository\"><span class=\"txtu syc\">ܟܘܡܪܐ </span></a></div></div><div class=\"contnr c0 trm rtl   \" ><div class=\"lbl c0 trm \" ><a target=\"_blank\" href=\"https://github.com/etcbc/syrnt/blob/master/plain\" title=\"show this passage in the SyrNT repository\"><span class=\"txtu syc\">ܪܒܐ </span></a></div></div><div class=\"contnr c0 trm rtl   \" ><div class=\"lbl c0 trm \" ><a target=\"_blank\" href=\"https://github.com/etcbc/syrnt/blob/master/plain\" title=\"show this passage in the SyrNT repository\"><span class=\"txtu syc\">ܝܫܘܥ </span></a></div></div><div class=\"contnr c0 trm rtl   \" ><div class=\"lbl c0 trm \" ><a target=\"_blank\" href=\"https://github.com/etcbc/syrnt/blob/master/plain\" title=\"show this passage in the SyrNT repository\"><span class=\"txtu syc\">ܡܫܝܚܐ </span></a></div><div class='features'><span class=\"vs xft\" ><span class=\"f\">vs=</span>peal</span></div></div><div class=\"contnr c0 trm rtl   \" ><div class=\"lbl c0 trm \" ><a target=\"_blank\" href=\"https://github.com/etcbc/syrnt/blob/master/plain\" title=\"show this passage in the SyrNT repository\"><span class=\"txtu syc\">ܒܪܗ </span></a></div></div><div class=\"contnr c0 trm rtl   \" ><div class=\"lbl c0 trm \" ><a target=\"_blank\" href=\"https://github.com/etcbc/syrnt/blob/master/plain\" title=\"show this passage in the SyrNT repository\"><span class=\"txtu syc\">ܕܐܠܗܐ </span></a></div></div><div class=\"contnr c0 trm rtl   \" ><div class=\"lbl c0 trm \" ><a target=\"_blank\" href=\"https://github.com/etcbc/syrnt/blob/master/plain\" title=\"show this passage in the SyrNT repository\"><span class=\"txtu syc\">ܕܣܠܩ </span></a></div><div class='features'><span class=\"vs xft\" ><span class=\"f\">vs=</span>peal</span></div></div><div class=\"contnr c0 trm rtl   \" ><div class=\"lbl c0 trm \" ><a target=\"_blank\" href=\"https://github.com/etcbc/syrnt/blob/master/plain\" title=\"show this passage in the SyrNT repository\"><span class=\"txtu syc\">ܠܫܡܝܐ </span></a></div></div><div class=\"contnr c0 trm rtl   hl\" ><div class=\"lbl c0 trm hl\" ><a target=\"_blank\" href=\"https://github.com/etcbc/syrnt/blob/master/plain\" title=\"show this passage in the SyrNT repository\"><span class=\"txtu syc\">ܢܚܡܣܢ </span></a></div><div class='features'><span class=\"vs xft\" ><span class=\"f\">vs=</span>pamel</span></div></div><div class=\"contnr c0 trm rtl   \" ><div class=\"lbl c0 trm \" ><a target=\"_blank\" href=\"https://github.com/etcbc/syrnt/blob/master/plain\" title=\"show this passage in the SyrNT repository\"><span class=\"txtu syc\">ܒܬܘܕܝܬܗ </span></a></div></div></div></div>"
      ],
      "text/plain": [
       "<IPython.core.display.HTML object>"
      ]
     },
     "metadata": {},
     "output_type": "display_data"
    },
    {
     "data": {
      "text/html": [
       "<p><b>result</b> <i>7</i></p>"
      ],
      "text/plain": [
       "<IPython.core.display.HTML object>"
      ]
     },
     "metadata": {},
     "output_type": "display_data"
    },
    {
     "data": {
      "text/html": [
       "<span class=\"section ltr\"><a target=\"_blank\" href=\"https://github.com/etcbc/syrnt/blob/master/plain/0.1/Hebrews.txt\" title=\"show this passage in the SyrNT repository\" sec=\"Hebrews 10:23\">Hebrews 10:23</a> </span><div class=\"contnr c3  rtl  \" ><div class=\"lbl c3  \" ><span class=\"nd\">verse</span></div><div class=\"children hor wrap rtl\"><div class=\"contnr c0 trm rtl   hl\" ><div class=\"lbl c0 trm hl\" ><a target=\"_blank\" href=\"https://github.com/etcbc/syrnt/blob/master/plain\" title=\"show this passage in the SyrNT repository\"><span class=\"txtu syc\">ܘܢܚܡܣܢ </span></a></div><div class='features'><span class=\"vs xft\" ><span class=\"f\">vs=</span>pamel</span></div></div><div class=\"contnr c0 trm rtl   \" ><div class=\"lbl c0 trm \" ><a target=\"_blank\" href=\"https://github.com/etcbc/syrnt/blob/master/plain\" title=\"show this passage in the SyrNT repository\"><span class=\"txtu syc\">ܒܬܘܕܝܬܐ </span></a></div></div><div class=\"contnr c0 trm rtl   \" ><div class=\"lbl c0 trm \" ><a target=\"_blank\" href=\"https://github.com/etcbc/syrnt/blob/master/plain\" title=\"show this passage in the SyrNT repository\"><span class=\"txtu syc\">ܕܣܒܪܢ </span></a></div></div><div class=\"contnr c0 trm rtl   \" ><div class=\"lbl c0 trm \" ><a target=\"_blank\" href=\"https://github.com/etcbc/syrnt/blob/master/plain\" title=\"show this passage in the SyrNT repository\"><span class=\"txtu syc\">ܘܠܐ </span></a></div></div><div class=\"contnr c0 trm rtl   \" ><div class=\"lbl c0 trm \" ><a target=\"_blank\" href=\"https://github.com/etcbc/syrnt/blob/master/plain\" title=\"show this passage in the SyrNT repository\"><span class=\"txtu syc\">ܢܨܛܠܐ </span></a></div><div class='features'><span class=\"vs xft\" ><span class=\"f\">vs=</span>ethpeal</span></div></div><div class=\"contnr c0 trm rtl   \" ><div class=\"lbl c0 trm \" ><a target=\"_blank\" href=\"https://github.com/etcbc/syrnt/blob/master/plain\" title=\"show this passage in the SyrNT repository\"><span class=\"txtu syc\">ܡܗܝܡܢ </span></a></div><div class='features'><span class=\"vs xft\" ><span class=\"f\">vs=</span>paiel</span></div></div><div class=\"contnr c0 trm rtl   \" ><div class=\"lbl c0 trm \" ><a target=\"_blank\" href=\"https://github.com/etcbc/syrnt/blob/master/plain\" title=\"show this passage in the SyrNT repository\"><span class=\"txtu syc\">ܗܘ </span></a></div></div><div class=\"contnr c0 trm rtl   \" ><div class=\"lbl c0 trm \" ><a target=\"_blank\" href=\"https://github.com/etcbc/syrnt/blob/master/plain\" title=\"show this passage in the SyrNT repository\"><span class=\"txtu syc\">ܓܝܪ </span></a></div></div><div class=\"contnr c0 trm rtl   \" ><div class=\"lbl c0 trm \" ><a target=\"_blank\" href=\"https://github.com/etcbc/syrnt/blob/master/plain\" title=\"show this passage in the SyrNT repository\"><span class=\"txtu syc\">ܡܢ </span></a></div></div><div class=\"contnr c0 trm rtl   \" ><div class=\"lbl c0 trm \" ><a target=\"_blank\" href=\"https://github.com/etcbc/syrnt/blob/master/plain\" title=\"show this passage in the SyrNT repository\"><span class=\"txtu syc\">ܕܡܠܟ </span></a></div><div class='features'><span class=\"vs xft\" ><span class=\"f\">vs=</span>peal</span></div></div><div class=\"contnr c0 trm rtl   \" ><div class=\"lbl c0 trm \" ><a target=\"_blank\" href=\"https://github.com/etcbc/syrnt/blob/master/plain\" title=\"show this passage in the SyrNT repository\"><span class=\"txtu syc\">ܠܢ </span></a></div></div></div></div>"
      ],
      "text/plain": [
       "<IPython.core.display.HTML object>"
      ]
     },
     "metadata": {},
     "output_type": "display_data"
    }
   ],
   "source": [
    "results = A.search(\"\"\"word vs=pamel\"\"\")\n",
    "A.show(results)"
   ]
  },
  {
   "cell_type": "code",
   "execution_count": null,
   "metadata": {},
   "outputs": [],
   "source": []
  }
 ],
 "metadata": {
  "kernelspec": {
   "display_name": "Python 3",
   "language": "python",
   "name": "python3"
  },
  "language_info": {
   "codemirror_mode": {
    "name": "ipython",
    "version": 3
   },
   "file_extension": ".py",
   "mimetype": "text/x-python",
   "name": "python",
   "nbconvert_exporter": "python",
   "pygments_lexer": "ipython3",
   "version": "3.7.7"
  }
 },
 "nbformat": 4,
 "nbformat_minor": 4
}
