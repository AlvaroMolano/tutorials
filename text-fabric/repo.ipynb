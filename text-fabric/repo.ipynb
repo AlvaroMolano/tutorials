{
 "cells": [
  {
   "cell_type": "markdown",
   "metadata": {},
   "source": [
    "![dans](images/dans.png)\n",
    "![tf](images/tf-small.png)\n",
    "\n",
    "---\n",
    "Start with [convert](convert.ipynb)\n",
    "\n",
    "---"
   ]
  },
  {
   "cell_type": "markdown",
   "metadata": {},
   "source": [
    "# Getting data from online repos\n",
    "\n",
    "We show the various ways by which you can get data that is out there on github to your computer.\n",
    "\n",
    "The work horse is the function `checkoutRepo()` in `tf.applib.repo`.\n",
    "\n",
    "Text-Fabric uses this function for all operations where data flows from GitHub to your computer.\n",
    "\n",
    "There are quite some options, and here we explain all the `checkout` options, i.e. the selection of \n",
    "data from the history.\n",
    "\n",
    "See also the [documentation](https://annotation.github.io/text-fabric/Api/Repo/)."
   ]
  },
  {
   "cell_type": "code",
   "execution_count": 1,
   "metadata": {},
   "outputs": [],
   "source": [
    "%load_ext autoreload\n",
    "%autoreload 2"
   ]
  },
  {
   "cell_type": "markdown",
   "metadata": {},
   "source": [
    "# Leading example\n",
    "\n",
    "We use markdown display from IPython purely for presentation. \n",
    "It is not needed to run `checkoutRepo()`."
   ]
  },
  {
   "cell_type": "code",
   "execution_count": 2,
   "metadata": {},
   "outputs": [],
   "source": [
    "from IPython.display import display, Markdown"
   ]
  },
  {
   "cell_type": "code",
   "execution_count": 3,
   "metadata": {},
   "outputs": [],
   "source": [
    "from tf.applib.repo import checkoutRepo"
   ]
  },
  {
   "cell_type": "markdown",
   "metadata": {},
   "source": [
    "We work with our tiny example TF app: `banks`."
   ]
  },
  {
   "cell_type": "code",
   "execution_count": 4,
   "metadata": {},
   "outputs": [],
   "source": [
    "ORG = 'annotation'\n",
    "REPO = 'tutorials'\n",
    "MAIN = 'text-fabric/examples/banks/tf'\n",
    "MOD = 'text-fabric/examples/bankssim/tf'"
   ]
  },
  {
   "cell_type": "markdown",
   "metadata": {},
   "source": [
    "`MAIN`points to the main data, `MOD` points to a module of data: the similarity feature."
   ]
  },
  {
   "cell_type": "markdown",
   "metadata": {},
   "source": [
    "# Presenting the results\n",
    "\n",
    "The function `do()` just formats the results of a `checkoutRepo()` run.\n",
    "\n",
    "The result of such a run, after the progress messages, is a tuple.\n",
    "For the explanation of the tuple, read the [docs](https://annotation.github.io/text-fabric/Api/Repo/)."
   ]
  },
  {
   "cell_type": "code",
   "execution_count": 5,
   "metadata": {},
   "outputs": [],
   "source": [
    "def do(task):\n",
    "  result = task\n",
    "  md = f'''\n",
    "commit | release | local | base | subdir\n",
    "--- | --- | --- | --- | ---\n",
    "`{task[0]}` | `{task[1]}` | `{task[2]}` | `{task[3]}` | `{task[4]}`\n",
    "'''\n",
    "  display(Markdown(md))"
   ]
  },
  {
   "cell_type": "markdown",
   "metadata": {},
   "source": [
    "# All the checkout options\n",
    "\n",
    "We discuss the meaning and effects of the values you can pass to the `checkout` option."
   ]
  },
  {
   "cell_type": "markdown",
   "metadata": {},
   "source": [
    "## `clone`\n",
    "\n",
    "Look whether the appropriate folder exists under your `~/github` directory.\n",
    "\n",
    "This is merely a check whether your data exists in the expected location.\n",
    "\n",
    "No online checks take place.\n",
    "\n",
    "No data is moved or copied.\n",
    "\n",
    "**NB**: you cannot select releases and commits in your *local* GitHub clone.\n",
    "The data will be used as it is found on your file system.\n",
    "\n",
    "**When to use**\n",
    "\n",
    "If you are developing new feature data.\n",
    "\n",
    "When you develop your data in a repository, your development is private as long as you\n",
    "do not push to GitHub.\n",
    "\n",
    "You can test your data, even without locally committing your data.\n",
    "\n",
    "But, if you are ready to share your data, everything is in place, and you only\n",
    "have to commit and push, and pass the location on github to others, like\n",
    "\n",
    "```\n",
    "myorg/myrepo/subfolder\n",
    "```"
   ]
  },
  {
   "cell_type": "code",
   "execution_count": 6,
   "metadata": {},
   "outputs": [
    {
     "name": "stdout",
     "output_type": "stream",
     "text": [
      "Using data in /Users/dirk/github/annotation/tutorials/text-fabric/examples/banks/tf/0.1:\n",
      "\trepo clone offline under ~/github (local github)\n"
     ]
    },
    {
     "data": {
      "text/markdown": [
       "\n",
       "commit | release | local | base | subdir\n",
       "--- | --- | --- | --- | ---\n",
       "`None` | `None` | `clone` | `/Users/dirk/github` | `annotation/tutorials/text-fabric/examples/banks/tf`\n"
      ],
      "text/plain": [
       "<IPython.core.display.Markdown object>"
      ]
     },
     "metadata": {},
     "output_type": "display_data"
    }
   ],
   "source": [
    "do(\n",
    "  checkoutRepo(org=ORG, repo=REPO, folder=MAIN, version='0.1', checkout='clone')\n",
    ")"
   ]
  },
  {
   "cell_type": "markdown",
   "metadata": {},
   "source": [
    "Now we move our local data away."
   ]
  },
  {
   "cell_type": "code",
   "execution_count": 7,
   "metadata": {},
   "outputs": [],
   "source": [
    "%%sh\n",
    "\n",
    "mv ~/github/annotation/tutorials/text-fabric/examples/banks/tf ~/github/annotation/tutorials/text-fabric/examples/banks/tfxxx"
   ]
  },
  {
   "cell_type": "markdown",
   "metadata": {},
   "source": [
    "If you do not have a local github clone in `~/github`, this is what you get:"
   ]
  },
  {
   "cell_type": "code",
   "execution_count": 8,
   "metadata": {},
   "outputs": [
    {
     "name": "stderr",
     "output_type": "stream",
     "text": [
      "The requested data is not available offline\n"
     ]
    },
    {
     "data": {
      "text/markdown": [
       "\n",
       "commit | release | local | base | subdir\n",
       "--- | --- | --- | --- | ---\n",
       "`None` | `None` | `False` | `False` | `None`\n"
      ],
      "text/plain": [
       "<IPython.core.display.Markdown object>"
      ]
     },
     "metadata": {},
     "output_type": "display_data"
    }
   ],
   "source": [
    "do(\n",
    "  checkoutRepo(org=ORG, repo=REPO, folder=MAIN, version='0.1', checkout='clone')\n",
    ")"
   ]
  },
  {
   "cell_type": "markdown",
   "metadata": {},
   "source": [
    "We move the data back into place."
   ]
  },
  {
   "cell_type": "code",
   "execution_count": 9,
   "metadata": {},
   "outputs": [],
   "source": [
    "%%sh\n",
    "\n",
    "mv ~/github/annotation/tutorials/text-fabric/examples/banks/tfxxx ~/github/annotation/tutorials/text-fabric/examples/banks/tf"
   ]
  },
  {
   "cell_type": "markdown",
   "metadata": {},
   "source": [
    "Note that no attempt is made to retrieve that data from online."
   ]
  },
  {
   "cell_type": "markdown",
   "metadata": {},
   "source": [
    "## `local`\n",
    "\n",
    "Look whether the appropriate folder exists under your `~/text-fabric-data` directory.\n",
    "\n",
    "This is merely a check whether your data exists in the expected location.\n",
    "\n",
    "No online checks take place.\n",
    "\n",
    "No data is moved or copied.\n",
    "\n",
    "**When to use**\n",
    "\n",
    "If you are using data created and shared by others, and if the data\n",
    "is already on your system.\n",
    "\n",
    "You are sure that no updates are downloaded, and that everything works the same as the last time\n",
    "you ran your program.\n",
    "\n",
    "No online connection is ever made with this option.\n",
    "\n",
    "If you do not already have the data, you have to pass `latest` or `hot` or `''` which will be discussed below."
   ]
  },
  {
   "cell_type": "code",
   "execution_count": 10,
   "metadata": {},
   "outputs": [
    {
     "name": "stdout",
     "output_type": "stream",
     "text": [
      "Using data in /Users/dirk/text-fabric-data/annotation/tutorials/text-fabric/examples/banks/tf/0.1:\n",
      "\trv1.0=#9a66aa2351c07de9163f86294be3f47d792ffd24 offline under ~/text-fabric-data (local release)\n"
     ]
    },
    {
     "data": {
      "text/markdown": [
       "\n",
       "commit | release | local | base | subdir\n",
       "--- | --- | --- | --- | ---\n",
       "`9a66aa2351c07de9163f86294be3f47d792ffd24` | `v1.0` | `local` | `/Users/dirk/text-fabric-data` | `annotation/tutorials/text-fabric/examples/banks/tf`\n"
      ],
      "text/plain": [
       "<IPython.core.display.Markdown object>"
      ]
     },
     "metadata": {},
     "output_type": "display_data"
    }
   ],
   "source": [
    "do(\n",
    "  checkoutRepo(org=ORG, repo=REPO, folder=MAIN, version='0.1', checkout='local')\n",
    ")"
   ]
  },
  {
   "cell_type": "markdown",
   "metadata": {},
   "source": [
    "You see this data because earlier I have downloaded release `v1.0`, which was committed with\n",
    "hash `9a66aa2351c07de9163f86294be3f47d792ffd24`"
   ]
  },
  {
   "cell_type": "markdown",
   "metadata": {},
   "source": [
    "Now we move our local data away."
   ]
  },
  {
   "cell_type": "code",
   "execution_count": 11,
   "metadata": {},
   "outputs": [],
   "source": [
    "%%sh\n",
    "\n",
    "mv ~/text-fabric-data/annotation/tutorials/text-fabric/examples/banks/tf ~/text-fabric-data/annotation/tutorials/text-fabric/examples/banks/tfxxx"
   ]
  },
  {
   "cell_type": "markdown",
   "metadata": {},
   "source": [
    "If you do not have any corresponding data in your `~/text-fabric-data`, you get this:"
   ]
  },
  {
   "cell_type": "code",
   "execution_count": 12,
   "metadata": {},
   "outputs": [
    {
     "name": "stderr",
     "output_type": "stream",
     "text": [
      "The requested data is not available offline\n"
     ]
    },
    {
     "data": {
      "text/markdown": [
       "\n",
       "commit | release | local | base | subdir\n",
       "--- | --- | --- | --- | ---\n",
       "`None` | `None` | `False` | `False` | `None`\n"
      ],
      "text/plain": [
       "<IPython.core.display.Markdown object>"
      ]
     },
     "metadata": {},
     "output_type": "display_data"
    }
   ],
   "source": [
    "do(\n",
    "  checkoutRepo(org=ORG, repo=REPO, folder=MAIN, version='0.1', checkout='local')\n",
    ")"
   ]
  },
  {
   "cell_type": "markdown",
   "metadata": {},
   "source": [
    "We move the data back into place."
   ]
  },
  {
   "cell_type": "code",
   "execution_count": 13,
   "metadata": {},
   "outputs": [],
   "source": [
    "%%sh\n",
    "\n",
    "mv ~/text-fabric-data/annotation/tutorials/text-fabric/examples/banks/tfxxx ~/text-fabric-data/annotation/tutorials/text-fabric/examples/banks/tf"
   ]
  },
  {
   "cell_type": "markdown",
   "metadata": {},
   "source": [
    "## `''` (default)\n",
    "\n",
    "If you omit the `checkout` parameter, or pass `''` to it, the latest online copy will be identified, and the function\n",
    "will make sure you get that copy.\n",
    "\n",
    "So, if you do not have data yet, the latest online copy will be downloaded to your `~/text-fabric-data` folder.\n",
    "\n",
    "If you do have data, but it is not up-to-data, the latest online copy will be downloaded to your `~/text-fabric-data`\n",
    "folder, and it will replace the data you had.\n",
    "\n",
    "After the download, you'll see a little file `__checkout__.txt`, which contains the release tag and/or commit hash.\n",
    "\n",
    "But what is the latest online copy? In this case we mean:\n",
    "\n",
    "* the latest *release*, and from that release an appropriate attached zip file\n",
    "* but if there is no such zip file, we take the files from the corresponding commit\n",
    "* but if there is no release at all, we take the files from the latest commit.\n",
    "\n",
    "**When to use**\n",
    "\n",
    "If you need data created/shared by other people and you want to be sure that you always have the\n",
    "latest *stable* version of that data.\n",
    "\n",
    "If the data provider makes releases after important modifications, you will get those.\n",
    "If the data provider is experimenting after the latest release, and commits them to GitHub,\n",
    "you do not get those.\n",
    "\n",
    "However, with `hot`, you `can` get the latest commit, to be discussed below."
   ]
  },
  {
   "cell_type": "code",
   "execution_count": 14,
   "metadata": {},
   "outputs": [
    {
     "name": "stdout",
     "output_type": "stream",
     "text": [
      "\tconnecting to online GitHub repo annotation/tutorials ... connected\n",
      "Using data in /Users/dirk/text-fabric-data/annotation/tutorials/text-fabric/examples/banks/tf/0.1:\n",
      "\trv1.0=#9a66aa2351c07de9163f86294be3f47d792ffd24 (latest release)\n"
     ]
    },
    {
     "data": {
      "text/markdown": [
       "\n",
       "commit | release | local | base | subdir\n",
       "--- | --- | --- | --- | ---\n",
       "`9a66aa2351c07de9163f86294be3f47d792ffd24` | `v1.0` | `None` | `/Users/dirk/text-fabric-data` | `annotation/tutorials/text-fabric/examples/banks/tf`\n"
      ],
      "text/plain": [
       "<IPython.core.display.Markdown object>"
      ]
     },
     "metadata": {},
     "output_type": "display_data"
    }
   ],
   "source": [
    "do(\n",
    "  checkoutRepo(org=ORG, repo=REPO, folder=MAIN, version='0.1', checkout='')\n",
    ")"
   ]
  },
  {
   "cell_type": "markdown",
   "metadata": {},
   "source": [
    "Note that no data has been downloaded, because it has been verified that the latest release is already on your computer."
   ]
  },
  {
   "cell_type": "markdown",
   "metadata": {},
   "source": [
    "Now we remove our local data."
   ]
  },
  {
   "cell_type": "code",
   "execution_count": 15,
   "metadata": {},
   "outputs": [],
   "source": [
    "%%sh\n",
    "\n",
    "rm -rf ~/text-fabric-data/annotation/tutorials/text-fabric/examples/banks/tf"
   ]
  },
  {
   "cell_type": "markdown",
   "metadata": {},
   "source": [
    "If you do not have any checkout of this data on your computer, the data will be downloaded."
   ]
  },
  {
   "cell_type": "code",
   "execution_count": 21,
   "metadata": {},
   "outputs": [
    {
     "name": "stdout",
     "output_type": "stream",
     "text": [
      "\tconnecting to online GitHub repo annotation/tutorials ... connected\n",
      "\tdownloading https://github.com/annotation/tutorials/releases/download/v1.0/text-fabric-examples-banks-tf-0.1.zip ... \n",
      "\tunzipping ... \n",
      "\tsaving data\n",
      "Using data in /Users/dirk/text-fabric-data/annotation/tutorials/text-fabric/examples/banks/tf/0.1:\n",
      "\trv1.0=#9a66aa2351c07de9163f86294be3f47d792ffd24 (latest release)\n"
     ]
    },
    {
     "data": {
      "text/markdown": [
       "\n",
       "commit | release | local | base | subdir\n",
       "--- | --- | --- | --- | ---\n",
       "`9a66aa2351c07de9163f86294be3f47d792ffd24` | `v1.0` | `None` | `/Users/dirk/text-fabric-data` | `annotation/tutorials/text-fabric/examples/banks/tf`\n"
      ],
      "text/plain": [
       "<IPython.core.display.Markdown object>"
      ]
     },
     "metadata": {},
     "output_type": "display_data"
    }
   ],
   "source": [
    "do(\n",
    "  checkoutRepo(org=ORG, repo=REPO, folder=MAIN, version='0.1', checkout='')\n",
    ")"
   ]
  },
  {
   "cell_type": "markdown",
   "metadata": {},
   "source": [
    "For the verification, an online check is needed. The verification consists of checking the release tag and/or commit hash.\n",
    "\n",
    "If there is no online connection, you get this:"
   ]
  },
  {
   "cell_type": "code",
   "execution_count": 31,
   "metadata": {},
   "outputs": [],
   "source": [
    "%%sh\n",
    "\n",
    "networksetup -setairportpower en0 off"
   ]
  },
  {
   "cell_type": "code",
   "execution_count": 32,
   "metadata": {},
   "outputs": [
    {
     "name": "stdout",
     "output_type": "stream",
     "text": [
      "\tconnecting to online GitHub repo annotation/tutorials ... failed\n",
      "The offline data may not be the latest\n",
      "Using data in /Users/dirk/text-fabric-data/annotation/tutorials/text-fabric/examples/banks/tf/0.1:\n",
      "\trv1.0=#9a66aa2351c07de9163f86294be3f47d792ffd24 (latest? release)\n"
     ]
    },
    {
     "data": {
      "text/markdown": [
       "\n",
       "commit | release | local | base | subdir\n",
       "--- | --- | --- | --- | ---\n",
       "`9a66aa2351c07de9163f86294be3f47d792ffd24` | `v1.0` | `None` | `/Users/dirk/text-fabric-data` | `annotation/tutorials/text-fabric/examples/banks/tf`\n"
      ],
      "text/plain": [
       "<IPython.core.display.Markdown object>"
      ]
     },
     "metadata": {},
     "output_type": "display_data"
    }
   ],
   "source": [
    "do(\n",
    "  checkoutRepo(org=ORG, repo=REPO, folder=MAIN, version='0.1', checkout='')\n",
    ")"
   ]
  },
  {
   "cell_type": "markdown",
   "metadata": {},
   "source": [
    "or if you do not have local data:"
   ]
  },
  {
   "cell_type": "code",
   "execution_count": 33,
   "metadata": {},
   "outputs": [],
   "source": [
    "%%sh\n",
    "\n",
    "mv ~/text-fabric-data/annotation/tutorials/text-fabric/examples/banks/tf ~/text-fabric-data/annotation/tutorials/text-fabric/examples/banks/tfxxx"
   ]
  },
  {
   "cell_type": "code",
   "execution_count": 34,
   "metadata": {},
   "outputs": [
    {
     "name": "stdout",
     "output_type": "stream",
     "text": [
      "\tconnecting to online GitHub repo annotation/tutorials ... failed\n"
     ]
    },
    {
     "name": "stderr",
     "output_type": "stream",
     "text": [
      "The requested data is not available offline\n"
     ]
    },
    {
     "data": {
      "text/markdown": [
       "\n",
       "commit | release | local | base | subdir\n",
       "--- | --- | --- | --- | ---\n",
       "`None` | `None` | `False` | `False` | `None`\n"
      ],
      "text/plain": [
       "<IPython.core.display.Markdown object>"
      ]
     },
     "metadata": {},
     "output_type": "display_data"
    }
   ],
   "source": [
    "do(\n",
    "  checkoutRepo(org=ORG, repo=REPO, folder=MAIN, version='0.1', checkout='')\n",
    ")"
   ]
  },
  {
   "cell_type": "code",
   "execution_count": 35,
   "metadata": {},
   "outputs": [],
   "source": [
    "%%sh\n",
    "\n",
    "mv ~/text-fabric-data/annotation/tutorials/text-fabric/examples/banks/tfxxx ~/text-fabric-data/annotation/tutorials/text-fabric/examples/banks/tf"
   ]
  },
  {
   "cell_type": "code",
   "execution_count": 36,
   "metadata": {},
   "outputs": [],
   "source": [
    "%%sh\n",
    "\n",
    "networksetup -setairportpower en0 on"
   ]
  },
  {
   "cell_type": "markdown",
   "metadata": {},
   "source": [
    "## `latest`\n",
    "\n",
    "The latest online release will be identified, and the function\n",
    "will make sure you get that the data of that release in your `~/text-fabric-data` folder.\n",
    "\n",
    "**When to use**\n",
    "\n",
    "If you need data created/shared by other people and you want to be sure that you always have the\n",
    "latest *stable* version of that data, but you only want to use it if it has been released.\n",
    "\n",
    "The difference with `checkout=''` is that if there are no releases, you will not get data."
   ]
  },
  {
   "cell_type": "code",
   "execution_count": 37,
   "metadata": {},
   "outputs": [
    {
     "name": "stdout",
     "output_type": "stream",
     "text": [
      "\tconnecting to online GitHub repo annotation/tutorials ... connected\n",
      "Using data in /Users/dirk/text-fabric-data/annotation/tutorials/text-fabric/examples/banks/tf/0.1:\n",
      "\trv1.0=#9a66aa2351c07de9163f86294be3f47d792ffd24 (latest release)\n"
     ]
    },
    {
     "data": {
      "text/markdown": [
       "\n",
       "commit | release | local | base | subdir\n",
       "--- | --- | --- | --- | ---\n",
       "`9a66aa2351c07de9163f86294be3f47d792ffd24` | `v1.0` | `None` | `/Users/dirk/text-fabric-data` | `annotation/tutorials/text-fabric/examples/banks/tf`\n"
      ],
      "text/plain": [
       "<IPython.core.display.Markdown object>"
      ]
     },
     "metadata": {},
     "output_type": "display_data"
    }
   ],
   "source": [
    "do(\n",
    "  checkoutRepo(org=ORG, repo=REPO, folder=MAIN, version='0.1', checkout='latest')\n",
    ")"
   ]
  },
  {
   "cell_type": "markdown",
   "metadata": {},
   "source": [
    "## `hot`\n",
    "\n",
    "The latest online commit will be identified, and the function\n",
    "will make sure you get that the data of that commit in your `~/text-fabric-data` folder.\n",
    "\n",
    "**When to use**\n",
    "\n",
    "If you need data created/shared by other people and you want to be sure that you always have the\n",
    "latest version of that data, whether released or not.\n",
    "\n",
    "The difference with `checkout=''` is that if there are releases, you will now get data that may be newer than the latest release."
   ]
  },
  {
   "cell_type": "code",
   "execution_count": 38,
   "metadata": {},
   "outputs": [
    {
     "name": "stdout",
     "output_type": "stream",
     "text": [
      "\tconnecting to online GitHub repo annotation/tutorials ... connected\n",
      "\ttext-fabric/examples/banks/tf/0.1/author.tf...downloaded\n",
      "\ttext-fabric/examples/banks/tf/0.1/gap.tf...downloaded\n",
      "\ttext-fabric/examples/banks/tf/0.1/letters.tf...downloaded\n",
      "\ttext-fabric/examples/banks/tf/0.1/number.tf...downloaded\n",
      "\ttext-fabric/examples/banks/tf/0.1/oslots.tf...downloaded\n",
      "\ttext-fabric/examples/banks/tf/0.1/otext.tf...downloaded\n",
      "\ttext-fabric/examples/banks/tf/0.1/otype.tf...downloaded\n",
      "\ttext-fabric/examples/banks/tf/0.1/punc.tf...downloaded\n",
      "\ttext-fabric/examples/banks/tf/0.1/terminator.tf...downloaded\n",
      "\ttext-fabric/examples/banks/tf/0.1/title.tf...downloaded\n",
      "\tOK\n",
      "Using data in /Users/dirk/text-fabric-data/annotation/tutorials/text-fabric/examples/banks/tf/0.1:\n",
      "\t#58865f4e6abb31dec515a1bbc2fabe56420d08c5 (latest commit)\n"
     ]
    },
    {
     "data": {
      "text/markdown": [
       "\n",
       "commit | release | local | base | subdir\n",
       "--- | --- | --- | --- | ---\n",
       "`58865f4e6abb31dec515a1bbc2fabe56420d08c5` | `None` | `None` | `/Users/dirk/text-fabric-data` | `annotation/tutorials/text-fabric/examples/banks/tf`\n"
      ],
      "text/plain": [
       "<IPython.core.display.Markdown object>"
      ]
     },
     "metadata": {},
     "output_type": "display_data"
    }
   ],
   "source": [
    "do(\n",
    "  checkoutRepo(org=ORG, repo=REPO, folder=MAIN, version='0.1', checkout='hot')\n",
    ")"
   ]
  },
  {
   "cell_type": "markdown",
   "metadata": {},
   "source": [
    "Observe that data has been downloaded, and that we have now data corresponding to a different commit hash,\n",
    "and not corresponding to a release.\n",
    "\n",
    "If we now ask for the latest *stable* data, the data will be downloaded anew."
   ]
  },
  {
   "cell_type": "code",
   "execution_count": 39,
   "metadata": {},
   "outputs": [
    {
     "name": "stdout",
     "output_type": "stream",
     "text": [
      "\tconnecting to online GitHub repo annotation/tutorials ... connected\n",
      "\tdownloading https://github.com/annotation/tutorials/releases/download/v1.0/text-fabric-examples-banks-tf-0.1.zip ... \n",
      "\tunzipping ... \n",
      "\tsaving data\n",
      "Using data in /Users/dirk/text-fabric-data/annotation/tutorials/text-fabric/examples/banks/tf/0.1:\n",
      "\trv1.0=#9a66aa2351c07de9163f86294be3f47d792ffd24 (latest release)\n"
     ]
    },
    {
     "data": {
      "text/markdown": [
       "\n",
       "commit | release | local | base | subdir\n",
       "--- | --- | --- | --- | ---\n",
       "`9a66aa2351c07de9163f86294be3f47d792ffd24` | `v1.0` | `None` | `/Users/dirk/text-fabric-data` | `annotation/tutorials/text-fabric/examples/banks/tf`\n"
      ],
      "text/plain": [
       "<IPython.core.display.Markdown object>"
      ]
     },
     "metadata": {},
     "output_type": "display_data"
    }
   ],
   "source": [
    "do(\n",
    "  checkoutRepo(org=ORG, repo=REPO, folder=MAIN, version='0.1', checkout='latest')\n",
    ")"
   ]
  },
  {
   "cell_type": "markdown",
   "metadata": {},
   "source": [
    "## *dest* for another local destination\n",
    "\n",
    "Look whether the appropriate folder exists under your *dest* directory, where you have passed `dest=`*dest*.\n",
    "\n",
    "This is merely a check whether your data exists in the expected location.\n",
    "\n",
    "No online checks take place.\n",
    "\n",
    "No data is moved or copied.\n",
    "\n",
    "**When to use**\n",
    "\n",
    "As above, but you want to work outside the `~/text-fabric-data` directory.\n",
    "\n",
    "Text-Fabric manages the `~/text-fabric-data` directory, and if you are experimenting you may not want\n",
    "to interfere with that.\n",
    "\n",
    "An other case is when you want to clone data into your `~/github` directory.\n",
    "Then you need to pass `checkout='local'` and `dest=~/github`.\n",
    "Note that `checkout='clone'` will never download stuff, it only looks at existing data.\n",
    "\n",
    "Except for the different *dest* location, this works exactly the same as `local` without *dest*."
   ]
  },
  {
   "cell_type": "code",
   "execution_count": 11,
   "metadata": {},
   "outputs": [
    {
     "name": "stdout",
     "output_type": "stream",
     "text": [
      "Using data in /Users/dirk/Downloads/annotation/tutorials/text-fabric/examples/banks/tf/0.1:\n",
      "\trv1.0=#9a66aa2351c07de9163f86294be3f47d792ffd24 offline under ~/Downloads (local - without online check)\n"
     ]
    },
    {
     "data": {
      "text/markdown": [
       "\n",
       "commit | release | local | base | subdir\n",
       "--- | --- | --- | --- | ---\n",
       "`9a66aa2351c07de9163f86294be3f47d792ffd24` | `v1.0` | `local` | `/Users/dirk/Downloads` | `annotation/tutorials/text-fabric/examples/banks/tf`\n"
      ],
      "text/plain": [
       "<IPython.core.display.Markdown object>"
      ]
     },
     "metadata": {},
     "output_type": "display_data"
    }
   ],
   "source": [
    "do(\n",
    "  checkoutRepo(org=ORG, repo=REPO, folder=MAIN, version='0.1', checkout='local', dest='~/Downloads')\n",
    ")"
   ]
  },
  {
   "cell_type": "markdown",
   "metadata": {},
   "source": [
    "---\n",
    "All chapters:\n",
    "\n",
    "* [convert](convert.ipynb)\n",
    "* [use](use.ipynb)\n",
    "* [share](share.ipynb)\n",
    "* [app](app.ipynb)\n",
    "* *repo*\n",
    "\n",
    "---"
   ]
  }
 ],
 "metadata": {
  "kernelspec": {
   "display_name": "Python 3",
   "language": "python",
   "name": "python3"
  },
  "language_info": {
   "codemirror_mode": {
    "name": "ipython",
    "version": 3
   },
   "file_extension": ".py",
   "mimetype": "text/x-python",
   "name": "python",
   "nbconvert_exporter": "python",
   "pygments_lexer": "ipython3",
   "version": "3.7.2"
  }
 },
 "nbformat": 4,
 "nbformat_minor": 2
}
