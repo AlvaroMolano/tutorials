{
 "cells": [
  {
   "cell_type": "markdown",
   "metadata": {},
   "source": [
    "![dans](images/dans.png)\n",
    "![tf](images/tf-small.png)\n",
    "\n",
    "---\n",
    "Start with [convert](convert.ipynb)\n",
    "\n",
    "---"
   ]
  },
  {
   "cell_type": "markdown",
   "metadata": {},
   "source": [
    "# Share the Banks example corpus"
   ]
  },
  {
   "cell_type": "code",
   "execution_count": 5,
   "metadata": {},
   "outputs": [
    {
     "name": "stdout",
     "output_type": "stream",
     "text": [
      "True\n",
      "Create release data for annotation/tutorials/text-fabric/examples/banks/tf\n",
      "Found 1 versions\n",
      "zip files end up in /Users/dirk/Downloads/annotation-release/tutorials\n",
      "zipping annotation/tutorials       0.1 with  10 features ==> text-fabric-examples-banks-tf-0.1.zip\n"
     ]
    }
   ],
   "source": [
    "%%sh\n",
    "\n",
    "text-fabric-zip annotation/tutorials/text-fabric/examples/banks/tf"
   ]
  },
  {
   "cell_type": "markdown",
   "metadata": {},
   "source": [
    "# Share the similarity feature as a module\n",
    "\n",
    "We do not attach the similarity data to a release, since we intend to update this data quite a few times\n",
    "after tweaking the parameters of the algorithm by which we create it.\n",
    "\n",
    "That means that users will get this data from the latest commit.\n",
    "\n",
    "So we make sure that the similarity data is committed and pushed to GitHub."
   ]
  },
  {
   "cell_type": "markdown",
   "metadata": {},
   "source": [
    "---\n",
    "All chapters:\n",
    "\n",
    "* [convert](convert.ipynb)\n",
    "* [use](use.ipynb)\n",
    "* *share*\n",
    "* [app](app.ipynb)\n",
    "\n",
    "---"
   ]
  }
 ],
 "metadata": {
  "kernelspec": {
   "display_name": "Python 3",
   "language": "python",
   "name": "python3"
  },
  "language_info": {
   "codemirror_mode": {
    "name": "ipython",
    "version": 3
   },
   "file_extension": ".py",
   "mimetype": "text/x-python",
   "name": "python",
   "nbconvert_exporter": "python",
   "pygments_lexer": "ipython3",
   "version": "3.7.2"
  }
 },
 "nbformat": 4,
 "nbformat_minor": 2
}
