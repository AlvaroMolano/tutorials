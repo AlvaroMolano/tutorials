{
 "cells": [
  {
   "cell_type": "markdown",
   "metadata": {},
   "source": [
    "![dans](images/dans.png)\n",
    "![tf](images/tf-small.png)\n",
    "\n",
    "---\n",
    "Start with [convert](convert.ipynb)\n",
    "\n",
    "---"
   ]
  },
  {
   "cell_type": "markdown",
   "metadata": {},
   "source": [
    "# Use the Banks example corpus"
   ]
  },
  {
   "cell_type": "markdown",
   "metadata": {},
   "source": [
    "## Load TF\n",
    "\n",
    "We are going to load the new data: all features.\n",
    "\n",
    "We start a new instance of the TF machinery."
   ]
  },
  {
   "cell_type": "code",
   "execution_count": 19,
   "metadata": {},
   "outputs": [],
   "source": [
    "import os\n",
    "import re\n",
    "\n",
    "from tf.fabric import Fabric"
   ]
  },
  {
   "cell_type": "code",
   "execution_count": 20,
   "metadata": {},
   "outputs": [
    {
     "name": "stdout",
     "output_type": "stream",
     "text": [
      "This is Text-Fabric 7.5.4\n",
      "Api reference : https://annotation.github.io/text-fabric/Api/Fabric/\n",
      "\n",
      "10 features found and 0 ignored\n"
     ]
    }
   ],
   "source": [
    "TF_DIR = os.path.expanduser('~/github/annotation/tutorials/text-fabric/examples/banks/tf')\n",
    "\n",
    "VERSION = '0.1'\n",
    "\n",
    "TF_PATH = f'{TF_DIR}/{VERSION}'\n",
    "TF = Fabric(locations=TF_PATH)"
   ]
  },
  {
   "cell_type": "markdown",
   "metadata": {},
   "source": [
    "We ask for a list of all features:"
   ]
  },
  {
   "cell_type": "code",
   "execution_count": 21,
   "metadata": {},
   "outputs": [
    {
     "data": {
      "text/plain": [
       "('author',\n",
       " 'gap',\n",
       " 'letters',\n",
       " 'number',\n",
       " 'otype',\n",
       " 'punc',\n",
       " 'terminator',\n",
       " 'title',\n",
       " 'oslots')"
      ]
     },
     "execution_count": 21,
     "metadata": {},
     "output_type": "execute_result"
    }
   ],
   "source": [
    "allFeatures = TF.explore(silent=True, show=True)\n",
    "loadableFeatures = allFeatures['nodes'] + allFeatures['edges']\n",
    "loadableFeatures"
   ]
  },
  {
   "cell_type": "markdown",
   "metadata": {},
   "source": [
    "We load all features:"
   ]
  },
  {
   "cell_type": "code",
   "execution_count": 22,
   "metadata": {},
   "outputs": [
    {
     "name": "stdout",
     "output_type": "stream",
     "text": [
      "  0.00s loading features ...\n",
      "   |     0.00s T otype                from /Users/dirk/github/annotation/tutorials/text-fabric/examples/banks/tf/0.1\n",
      "   |     0.00s T oslots               from /Users/dirk/github/annotation/tutorials/text-fabric/examples/banks/tf/0.1\n",
      "   |     0.00s T title                from /Users/dirk/github/annotation/tutorials/text-fabric/examples/banks/tf/0.1\n",
      "   |     0.00s T number               from /Users/dirk/github/annotation/tutorials/text-fabric/examples/banks/tf/0.1\n",
      "   |     0.00s T letters              from /Users/dirk/github/annotation/tutorials/text-fabric/examples/banks/tf/0.1\n",
      "   |     0.00s T punc                 from /Users/dirk/github/annotation/tutorials/text-fabric/examples/banks/tf/0.1\n",
      "   |      |     0.00s C __levels__           from otype, oslots, otext\n",
      "   |      |     0.00s C __order__            from otype, oslots, __levels__\n",
      "   |      |     0.00s C __rank__             from otype, __order__\n",
      "   |      |     0.00s C __levUp__            from otype, oslots, __levels__, __rank__\n",
      "   |      |     0.00s C __levDown__          from otype, __levUp__, __rank__\n",
      "   |      |     0.00s C __boundary__         from otype, oslots, __rank__\n",
      "   |      |     0.00s C __sections__         from otype, oslots, otext, __levUp__, __levels__, title, number, number\n",
      "   |     0.00s T author               from /Users/dirk/github/annotation/tutorials/text-fabric/examples/banks/tf/0.1\n",
      "   |     0.00s T gap                  from /Users/dirk/github/annotation/tutorials/text-fabric/examples/banks/tf/0.1\n",
      "   |     0.00s T terminator           from /Users/dirk/github/annotation/tutorials/text-fabric/examples/banks/tf/0.1\n",
      "  0.05s All features loaded/computed - for details use loadLog()\n"
     ]
    }
   ],
   "source": [
    "api = TF.load(loadableFeatures, silent=False)"
   ]
  },
  {
   "cell_type": "markdown",
   "metadata": {},
   "source": [
    "You see that all files are marked with a `T`.\n",
    "\n",
    "That means that Text-Fabric loads the features by reading the plain text `.tf` files.\n",
    "But after reading, it makes a binary equivalent and stores it as a `.tfx`\n",
    "file in the hidden `.tf` directory next to it.\n",
    "\n",
    "Furthermore, you see some lines marked with `C`. Here Text-Fabric is computing derived data,\n",
    "mostly about sections, the order of nodes, and the relative positions of nodes with respect to the slots they\n",
    "are linked to.\n",
    "\n",
    "The results of this pre-computation are also stored in that hidden `.tf` directory.\n",
    "\n",
    "The next time, Text-Fabric loads the data from their binary `.tfx` files, which is much faster.\n",
    "And the pre-computation step will be skipped.\n",
    "\n",
    "If the binary files get outdated Text-Fabric will recompile and recompute everything automatically.\n",
    "\n",
    "So let's load again."
   ]
  },
  {
   "cell_type": "code",
   "execution_count": 23,
   "metadata": {},
   "outputs": [
    {
     "name": "stdout",
     "output_type": "stream",
     "text": [
      "This is Text-Fabric 7.5.4\n",
      "Api reference : https://annotation.github.io/text-fabric/Api/Fabric/\n",
      "\n",
      "10 features found and 0 ignored\n",
      "  0.00s loading features ...\n",
      "   |     0.00s B otype                from /Users/dirk/github/annotation/tutorials/text-fabric/examples/banks/tf/0.1\n",
      "   |     0.00s B oslots               from /Users/dirk/github/annotation/tutorials/text-fabric/examples/banks/tf/0.1\n",
      "   |     0.00s B title                from /Users/dirk/github/annotation/tutorials/text-fabric/examples/banks/tf/0.1\n",
      "   |     0.00s B number               from /Users/dirk/github/annotation/tutorials/text-fabric/examples/banks/tf/0.1\n",
      "   |     0.00s B letters              from /Users/dirk/github/annotation/tutorials/text-fabric/examples/banks/tf/0.1\n",
      "   |     0.00s B punc                 from /Users/dirk/github/annotation/tutorials/text-fabric/examples/banks/tf/0.1\n",
      "   |     0.00s B author               from /Users/dirk/github/annotation/tutorials/text-fabric/examples/banks/tf/0.1\n",
      "   |     0.00s B gap                  from /Users/dirk/github/annotation/tutorials/text-fabric/examples/banks/tf/0.1\n",
      "   |     0.00s B terminator           from /Users/dirk/github/annotation/tutorials/text-fabric/examples/banks/tf/0.1\n",
      "  0.03s All features loaded/computed - for details use loadLog()\n"
     ]
    }
   ],
   "source": [
    "TF = Fabric(locations=TF_PATH)\n",
    "api = TF.load(loadableFeatures, silent=False)"
   ]
  },
  {
   "cell_type": "markdown",
   "metadata": {},
   "source": [
    "Where there were `T`s before, there are now `B`s."
   ]
  },
  {
   "cell_type": "markdown",
   "metadata": {},
   "source": [
    "### Hoisting\n",
    "\n",
    "We can access all TF data programmatically by using `api.Features`, or `api.F` (same thing) and a bunch of\n",
    "other API members. \n",
    "\n",
    "But if we working with a single data source, we can hoist those API members to the global namespace.\n",
    "\n",
    "This is not a thing to be done when you write modules for other people, but if you are the user yourself,\n",
    "why should not you make life just a little bit easier?"
   ]
  },
  {
   "cell_type": "code",
   "execution_count": 24,
   "metadata": {},
   "outputs": [
    {
     "data": {
      "text/plain": [
       "[('Computed',\n",
       "  'computed-data',\n",
       "  ('C Computed', 'Call AllComputeds', 'Cs ComputedString')),\n",
       " ('Features', 'edge-features', ('E Edge', 'Eall AllEdges', 'Es EdgeString')),\n",
       " ('Fabric', 'loading', ('ensureLoaded', 'TF', 'ignored', 'loadLog')),\n",
       " ('Locality', 'locality', ('L Locality',)),\n",
       " ('Misc', 'messaging', ('cache', 'error', 'indent', 'info', 'reset')),\n",
       " ('Nodes',\n",
       "  'navigating-nodes',\n",
       "  ('N Nodes', 'sortKey', 'sortKeyTuple', 'otypeRank', 'sortNodes')),\n",
       " ('Features',\n",
       "  'node-features',\n",
       "  ('F Feature', 'Fall AllFeatures', 'Fs FeatureString')),\n",
       " ('Search', 'search', ('S Search',)),\n",
       " ('Text', 'text', ('T Text',))]"
      ]
     },
     "execution_count": 24,
     "metadata": {},
     "output_type": "execute_result"
    }
   ],
   "source": [
    "api.makeAvailableIn(globals())"
   ]
  },
  {
   "cell_type": "markdown",
   "metadata": {},
   "source": [
    "As a result, you have an overview of the names you can use."
   ]
  },
  {
   "cell_type": "markdown",
   "metadata": {},
   "source": [
    "## Exploration\n",
    "\n",
    "Finally, let's explore this set by means of Text-Fabric.\n",
    "\n",
    "### Frequency list\n",
    "\n",
    "We can get ordered frequency lists for the values of all features.\n",
    "\n",
    "First the words:"
   ]
  },
  {
   "cell_type": "code",
   "execution_count": 25,
   "metadata": {},
   "outputs": [
    {
     "data": {
      "text/plain": [
       "(('the', 8),\n",
       " ('of', 5),\n",
       " ('and', 4),\n",
       " ('in', 3),\n",
       " ('we', 3),\n",
       " ('everything', 2),\n",
       " ('know', 2),\n",
       " ('most', 2),\n",
       " ('ones', 2),\n",
       " ('patterns', 2),\n",
       " ('us', 2),\n",
       " ('Besides', 1),\n",
       " ('Culture', 1),\n",
       " ('Everything', 1),\n",
       " ('So', 1),\n",
       " ('a', 1),\n",
       " ('about', 1),\n",
       " ('aid', 1),\n",
       " ('any', 1),\n",
       " ('around', 1),\n",
       " ('as', 1),\n",
       " ('barbarian', 1),\n",
       " ('bottom', 1),\n",
       " ('can', 1),\n",
       " ('care', 1),\n",
       " ('climbing', 1),\n",
       " ('composed', 1),\n",
       " ('control', 1),\n",
       " ('dead', 1),\n",
       " ('elegant', 1),\n",
       " ('enjoyable', 1),\n",
       " ('final', 1),\n",
       " ('find', 1),\n",
       " ('free', 1),\n",
       " ('games', 1),\n",
       " ('good', 1),\n",
       " ('harness', 1),\n",
       " ('have', 1),\n",
       " ('high', 1),\n",
       " ('humans', 1),\n",
       " ('impossible', 1),\n",
       " ('is', 1),\n",
       " ('it', 1),\n",
       " ('languages', 1),\n",
       " ('left', 1),\n",
       " ('life', 1),\n",
       " ('line', 1),\n",
       " ('make', 1),\n",
       " ('mattered', 1),\n",
       " ('mountains', 1),\n",
       " ('not', 1),\n",
       " ('nothing', 1),\n",
       " ('our', 1),\n",
       " ('over', 1),\n",
       " ('own', 1),\n",
       " ('problems', 1),\n",
       " ('really', 1),\n",
       " ('romance', 1),\n",
       " ('safety', 1),\n",
       " ('societies', 1),\n",
       " ('sports', 1),\n",
       " ('studying', 1),\n",
       " ('such', 1),\n",
       " ('take', 1),\n",
       " ('terms', 1),\n",
       " ('that', 1),\n",
       " ('that’s', 1),\n",
       " ('things', 1),\n",
       " ('those', 1),\n",
       " ('to', 1),\n",
       " ('truth', 1),\n",
       " ('ultimately', 1),\n",
       " ('where', 1),\n",
       " ('why', 1),\n",
       " ('without', 1))"
      ]
     },
     "execution_count": 25,
     "metadata": {},
     "output_type": "execute_result"
    }
   ],
   "source": [
    "F.letters.freqList()"
   ]
  },
  {
   "cell_type": "markdown",
   "metadata": {},
   "source": [
    "For the node types we can get info by calling this:"
   ]
  },
  {
   "cell_type": "code",
   "execution_count": 26,
   "metadata": {},
   "outputs": [
    {
     "data": {
      "text/plain": [
       "(('book', 99.0, 100, 100),\n",
       " ('chapter', 49.5, 101, 102),\n",
       " ('sentence', 33.0, 115, 117),\n",
       " ('line', 7.666666666666667, 103, 114),\n",
       " ('word', 1, 1, 99))"
      ]
     },
     "execution_count": 26,
     "metadata": {},
     "output_type": "execute_result"
    }
   ],
   "source": [
    "C.levels.data"
   ]
  },
  {
   "cell_type": "markdown",
   "metadata": {},
   "source": [
    "It means that chapters are 49.5 words long on average, and that the chapter nodes are 101 and 102.\n",
    "\n",
    "And you see that we have 99 words."
   ]
  },
  {
   "cell_type": "markdown",
   "metadata": {},
   "source": [
    "---\n",
    "All chapters:\n",
    "\n",
    "* [convert](convert.ipynb)\n",
    "* *use*\n",
    "* [share](share.ipynb)\n",
    "* [app](app.ipynb)\n",
    "\n",
    "---"
   ]
  }
 ],
 "metadata": {
  "kernelspec": {
   "display_name": "Python 3",
   "language": "python",
   "name": "python3"
  },
  "language_info": {
   "codemirror_mode": {
    "name": "ipython",
    "version": 3
   },
   "file_extension": ".py",
   "mimetype": "text/x-python",
   "name": "python",
   "nbconvert_exporter": "python",
   "pygments_lexer": "ipython3",
   "version": "3.7.2"
  }
 },
 "nbformat": 4,
 "nbformat_minor": 2
}
