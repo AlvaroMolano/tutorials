{
 "cells": [
  {
   "cell_type": "markdown",
   "metadata": {},
   "source": [
    "<img align=\"right\" src=\"images/tf.png\" width=\"150\"/>\n",
    "<img align=\"right\" src=\"images/etcbc.png\" width=\"150\"/>\n",
    "<img align=\"left\" src=\"images/logo.png\" width=\"300\"/>\n",
    "\n",
    "# Search Introduction\n",
    "\n",
    "*Search* in Text-Fabric is a\n",
    "[template based](https://annotation.github.io/text-fabric/Use/Search/#search-templates)\n",
    "way of looking for structural patterns in your dataset.\n",
    "\n",
    "Within Text-Fabric we have the unique possibility to combine the ease of formulating search templates for\n",
    "complicated syntactical patterns with the power of programmatically processing the results.\n",
    "\n",
    "This notebook will show you how to get up and running.\n",
    "\n",
    "## Easy command\n",
    "\n",
    "Search is as simple as saying (just an example)\n",
    "\n",
    "```python\n",
    "results = A.search(template)\n",
    "A.show(results)\n",
    "```\n",
    "\n",
    "See all ins and outs in the\n",
    "[search template docs]().\n"
   ]
  },
  {
   "cell_type": "markdown",
   "metadata": {},
   "source": [
    "# Incantation\n",
    "\n",
    "The ins and outs of installing Text-Fabric, getting the corpus, and initializing a notebook are\n",
    "explained in the [start tutorial](start.ipynb)."
   ]
  },
  {
   "cell_type": "code",
   "execution_count": 1,
   "metadata": {},
   "outputs": [],
   "source": [
    "%load_ext autoreload\n",
    "%autoreload 2"
   ]
  },
  {
   "cell_type": "code",
   "execution_count": 2,
   "metadata": {
    "ExecuteTime": {
     "end_time": "2018-05-24T10:06:39.818664Z",
     "start_time": "2018-05-24T10:06:39.796588Z"
    }
   },
   "outputs": [],
   "source": [
    "from tf.app import use"
   ]
  },
  {
   "cell_type": "code",
   "execution_count": 3,
   "metadata": {
    "ExecuteTime": {
     "end_time": "2018-05-24T10:06:51.615044Z",
     "start_time": "2018-05-24T10:06:50.161456Z"
    }
   },
   "outputs": [
    {
     "name": "stdout",
     "output_type": "stream",
     "text": [
      "Using TF-app in /Users/dirk/github/annotation/app-peshitta/code:\n",
      "\trepo clone offline under ~/github (local github)\n",
      "Using data in /Users/dirk/github/etcbc/peshitta/tf/0.1:\n",
      "\trepo clone offline under ~/github (local github)\n",
      "   |     0.00s No structure info in otext, the structure part of the T-API cannot be used\n"
     ]
    },
    {
     "data": {
      "text/html": [
       "<b>Documentation:</b> <a target=\"_blank\" href=\"https://github.com/etcbc/peshitta/blob/master/docs\" title=\"provenance of Peshitta (Old Testament)\">PESHITTA</a> <a target=\"_blank\" href=\"https://annotation.github.io/text-fabric/Writing/Syriac\" title=\"('Syriac characters and transcriptions',)\">Character table</a> <a target=\"_blank\" href=\"https://github.com/etcbc/peshitta/blob/master/docs/transcription-0.1.md#transcription.md\" title=\"PESHITTA feature documentation\">Feature docs</a> <a target=\"_blank\" href=\"https://github.com/annotation/app-peshitta\" title=\"peshitta API documentation\">peshitta API</a> <a target=\"_blank\" href=\"https://annotation.github.io/text-fabric/Api/Fabric/\" title=\"text-fabric-api\">Text-Fabric API 7.11.1</a> <a target=\"_blank\" href=\"https://annotation.github.io/text-fabric/Use/Search/\" title=\"Search Templates Introduction and Reference\">Search Reference</a><details open><summary><b>Loaded features</b>:</summary>\n",
       "<p><b>Peshitta (Old Testament)</b>: <a target=\"_blank\" href=\"https://github.com/etcbc/peshitta/blob/master/docs/transcription-0.1.md#book\" title=\"/Users/dirk/github/etcbc/peshitta/tf/0.1/book.tf\">book</a>  <a target=\"_blank\" href=\"https://github.com/etcbc/peshitta/blob/master/docs/transcription-0.1.md#book@ll\" title=\"/Users/dirk/github/etcbc/peshitta/tf/0.1/book@en.tf\">book@ll</a>  <a target=\"_blank\" href=\"https://github.com/etcbc/peshitta/blob/master/docs/transcription-0.1.md#chapter\" title=\"/Users/dirk/github/etcbc/peshitta/tf/0.1/chapter.tf\">chapter</a>  <a target=\"_blank\" href=\"https://github.com/etcbc/peshitta/blob/master/docs/transcription-0.1.md#otype\" title=\"/Users/dirk/github/etcbc/peshitta/tf/0.1/otype.tf\">otype</a>  <a target=\"_blank\" href=\"https://github.com/etcbc/peshitta/blob/master/docs/transcription-0.1.md#trailer\" title=\"/Users/dirk/github/etcbc/peshitta/tf/0.1/trailer.tf\">trailer</a>  <a target=\"_blank\" href=\"https://github.com/etcbc/peshitta/blob/master/docs/transcription-0.1.md#trailer_etcbc\" title=\"/Users/dirk/github/etcbc/peshitta/tf/0.1/trailer_etcbc.tf\">trailer_etcbc</a>  <a target=\"_blank\" href=\"https://github.com/etcbc/peshitta/blob/master/docs/transcription-0.1.md#verse\" title=\"/Users/dirk/github/etcbc/peshitta/tf/0.1/verse.tf\">verse</a>  <a target=\"_blank\" href=\"https://github.com/etcbc/peshitta/blob/master/docs/transcription-0.1.md#witness\" title=\"/Users/dirk/github/etcbc/peshitta/tf/0.1/witness.tf\">witness</a>  <a target=\"_blank\" href=\"https://github.com/etcbc/peshitta/blob/master/docs/transcription-0.1.md#word\" title=\"/Users/dirk/github/etcbc/peshitta/tf/0.1/word.tf\">word</a>  <a target=\"_blank\" href=\"https://github.com/etcbc/peshitta/blob/master/docs/transcription-0.1.md#word_etcbc\" title=\"/Users/dirk/github/etcbc/peshitta/tf/0.1/word_etcbc.tf\">word_etcbc</a>  <b><i><a target=\"_blank\" href=\"https://github.com/etcbc/peshitta/blob/master/docs/transcription-0.1.md#oslots\" title=\"/Users/dirk/github/etcbc/peshitta/tf/0.1/oslots.tf\">oslots</a></i></b> </p></details>"
      ],
      "text/plain": [
       "<IPython.core.display.HTML object>"
      ]
     },
     "metadata": {},
     "output_type": "display_data"
    },
    {
     "data": {
      "text/html": [
       "<style>\n",
       "@font-face {\n",
       "  font-family: \"Estrangelo Edessa\";\n",
       "  src:\n",
       "    local(\"SyrCOMEdessa.otf\"),\n",
       "    url(\"https://github.com/annotation/text-fabric/blob/master/tf/server/static/fonts/SyrCOMEdessa.woff?raw=true\");\n",
       "}\n",
       ".features {\n",
       "    font-family: monospace;\n",
       "    font-size: medium;\n",
       "    font-weight: bold;\n",
       "    color: #0a6611;\n",
       "    display: flex;\n",
       "    flex-flow: column nowrap;\n",
       "    justify-content: flex-start;\n",
       "    align-items: flex-start;\n",
       "    align-content: flex-start;\n",
       "    padding: 0.1em;\n",
       "    margin: 0.1em;\n",
       "    direction: ltr;\n",
       "}\n",
       ".features div,.features span {\n",
       "    padding: 0;\n",
       "    margin: -0.1rem 0;\n",
       "}\n",
       ".features .f {\n",
       "    font-family: sans-serif;\n",
       "    font-size: x-small;\n",
       "    font-weight: normal;\n",
       "    color: #5555bb;\n",
       "}\n",
       ".features .xft {\n",
       "  color: #000000;\n",
       "  background-color: #eeeeee;\n",
       "  font-size: medium;\n",
       "  margin: 0.1em 0em;\n",
       "}\n",
       ".features .xft .f {\n",
       "  color: #000000;\n",
       "  background-color: #eeeeee;\n",
       "  font-style: italic;\n",
       "  font-size: small;\n",
       "  font-weight: normal;\n",
       "}\n",
       ".nd {\n",
       "    font-family: monospace;\n",
       "    font-size: x-small;\n",
       "    color: #999999;\n",
       "}\n",
       ".hl {\n",
       "    background-color: #ffee66;\n",
       "}\n",
       ".outerplain {\n",
       "    direction: rtl;\n",
       "}\n",
       ".outeritem {\n",
       "    display: flex;\n",
       "    flex-flow: row wrap;\n",
       "    direction: rtl;\n",
       "}\n",
       ".verse {\n",
       "    display: flex;\n",
       "    flex-flow: row wrap;\n",
       "    direction: rtl;\n",
       "}\n",
       ".vl {\n",
       "    display: flex;\n",
       "    flex-flow: column nowrap;\n",
       "    justify-content: flex-end;\n",
       "    align-items: flex-end;\n",
       "    direction: ltr;\n",
       "    width: 100%;\n",
       "}\n",
       ".vn {\n",
       "  font-size: small !important;\n",
       "  padding-right: 1em;\n",
       "}\n",
       ".vrs {\n",
       "    font-family: sans-serif;\n",
       "    font-size: small;\n",
       "    font-weight: bold;\n",
       "    color: #444444;\n",
       "}\n",
       ".word {\n",
       "    padding: 0.1em;\n",
       "    margin: 0.1em;\n",
       "    border-radius: 0.1em;\n",
       "    border: 1px solid #cccccc;\n",
       "    display: flex;\n",
       "    flex-flow: column nowrap;\n",
       "    direction: rtl;\n",
       "}\n",
       ".occs {\n",
       "    font-size: x-small;\n",
       "}\n",
       ".tr,.tr a:visited,.tr a:link {\n",
       "    font-family: sans-serif;\n",
       "    font-size: large;\n",
       "    color: #000044;\n",
       "    direction: ltr;\n",
       "    text-decoration: none;\n",
       "}\n",
       ".trb,.trb a:visited,.trb a:link {\n",
       "    font-family: sans-serif;\n",
       "    font-size: normal;\n",
       "    direction: ltr;\n",
       "    text-decoration: none;\n",
       "}\n",
       ".sy,.sy a:visited,.sy a:link {\n",
       "    font-family: \"Estrangelo Edessa\", sans-serif;\n",
       "    font-size: large;\n",
       "    color: #000044;\n",
       "    direction: rtl;\n",
       "    text-decoration: none;\n",
       "}\n",
       ".syb,.syb a:visited,.syb a:link {\n",
       "    font-family: \"Estrangelo Edessa\", sans-serif;\n",
       "    font-size: large;\n",
       "    line-height: 2;\n",
       "    direction: rtl;\n",
       "    text-decoration: none;\n",
       "}\n",
       "\n",
       "tr.tf, td.tf, th.tf {\n",
       "  text-align: left;\n",
       "}\n",
       "\n",
       "span.hldot {\n",
       "\tbackground-color: var(--hl-strong);\n",
       "\tborder: 0.2rem solid var(--hl-rim);\n",
       "\tborder-radius: 0.4rem;\n",
       "\t/*\n",
       "\tdisplay: inline-block;\n",
       "\twidth: 0.8rem;\n",
       "\theight: 0.8rem;\n",
       "\t*/\n",
       "}\n",
       "span.hl {\n",
       "\tbackground-color: var(--hl-strong);\n",
       "\tborder-width: 0;\n",
       "\tborder-radius: 0.1rem;\n",
       "\tborder-style: solid;\n",
       "}\n",
       "\n",
       "span.hlbx {\n",
       "\tborder-color: var(--hl-dark);\n",
       "\tborder-width: 0.1rem;\n",
       "\tborder-style: solid;\n",
       "\tborder-radius: 0.2rem;\n",
       "  padding: 0.2rem;\n",
       "  margin: 0.2rem;\n",
       "}\n",
       "\n",
       "span.plain {\n",
       "  display: inline-block;\n",
       "  white-space: pre-wrap;\n",
       "}\n",
       "\n",
       ":root {\n",
       "\t--hl-strong:        hsla( 60, 100%,  70%, 0.9  );\n",
       "\t--hl-rim:           hsla( 55, 100%,  60%, 0.9  );\n",
       "\t--hl-dark:          hsla( 55, 100%,  40%, 0.9  );\n",
       "}\n",
       "</style>"
      ],
      "text/plain": [
       "<IPython.core.display.HTML object>"
      ]
     },
     "metadata": {},
     "output_type": "display_data"
    },
    {
     "data": {
      "text/html": [
       "<details open><summary><b>API members</b>:</summary>\n",
       "<a target=\"_blank\" href=\"https://annotation.github.io/text-fabric/Api/Computed/#computed-data\" title=\"doc\">C Computed</a>, <a target=\"_blank\" href=\"https://annotation.github.io/text-fabric/Api/Computed/#computed-data\" title=\"doc\">Call AllComputeds</a>, <a target=\"_blank\" href=\"https://annotation.github.io/text-fabric/Api/Computed/#computed-data\" title=\"doc\">Cs ComputedString</a><br/>\n",
       "<a target=\"_blank\" href=\"https://annotation.github.io/text-fabric/Api/Features/#edge-features\" title=\"doc\">E Edge</a>, <a target=\"_blank\" href=\"https://annotation.github.io/text-fabric/Api/Features/#edge-features\" title=\"doc\">Eall AllEdges</a>, <a target=\"_blank\" href=\"https://annotation.github.io/text-fabric/Api/Features/#edge-features\" title=\"doc\">Es EdgeString</a><br/>\n",
       "<a target=\"_blank\" href=\"https://annotation.github.io/text-fabric/Api/Fabric/#loading\" title=\"doc\">ensureLoaded</a>, <a target=\"_blank\" href=\"https://annotation.github.io/text-fabric/Api/Fabric/#loading\" title=\"doc\">TF</a>, <a target=\"_blank\" href=\"https://annotation.github.io/text-fabric/Api/Fabric/#loading\" title=\"doc\">ignored</a>, <a target=\"_blank\" href=\"https://annotation.github.io/text-fabric/Api/Fabric/#loading\" title=\"doc\">loadLog</a><br/>\n",
       "<a target=\"_blank\" href=\"https://annotation.github.io/text-fabric/Api/Locality/#locality\" title=\"doc\">L Locality</a><br/>\n",
       "<a target=\"_blank\" href=\"https://annotation.github.io/text-fabric/Api/Misc/#messaging\" title=\"doc\">cache</a>, <a target=\"_blank\" href=\"https://annotation.github.io/text-fabric/Api/Misc/#messaging\" title=\"doc\">error</a>, <a target=\"_blank\" href=\"https://annotation.github.io/text-fabric/Api/Misc/#messaging\" title=\"doc\">indent</a>, <a target=\"_blank\" href=\"https://annotation.github.io/text-fabric/Api/Misc/#messaging\" title=\"doc\">info</a>, <a target=\"_blank\" href=\"https://annotation.github.io/text-fabric/Api/Misc/#messaging\" title=\"doc\">isSilent</a>, <a target=\"_blank\" href=\"https://annotation.github.io/text-fabric/Api/Misc/#messaging\" title=\"doc\">reset</a>, <a target=\"_blank\" href=\"https://annotation.github.io/text-fabric/Api/Misc/#messaging\" title=\"doc\">setSilent</a>, <a target=\"_blank\" href=\"https://annotation.github.io/text-fabric/Api/Misc/#messaging\" title=\"doc\">silentOff</a>, <a target=\"_blank\" href=\"https://annotation.github.io/text-fabric/Api/Misc/#messaging\" title=\"doc\">silentOn</a>, <a target=\"_blank\" href=\"https://annotation.github.io/text-fabric/Api/Misc/#messaging\" title=\"doc\">warning</a><br/>\n",
       "<a target=\"_blank\" href=\"https://annotation.github.io/text-fabric/Api/Nodes/#navigating-nodes\" title=\"doc\">N Nodes</a>, <a target=\"_blank\" href=\"https://annotation.github.io/text-fabric/Api/Nodes/#navigating-nodes\" title=\"doc\">sortKey</a>, <a target=\"_blank\" href=\"https://annotation.github.io/text-fabric/Api/Nodes/#navigating-nodes\" title=\"doc\">sortKeyTuple</a>, <a target=\"_blank\" href=\"https://annotation.github.io/text-fabric/Api/Nodes/#navigating-nodes\" title=\"doc\">otypeRank</a>, <a target=\"_blank\" href=\"https://annotation.github.io/text-fabric/Api/Nodes/#navigating-nodes\" title=\"doc\">sortNodes</a><br/>\n",
       "<a target=\"_blank\" href=\"https://annotation.github.io/text-fabric/Api/Features/#node-features\" title=\"doc\">F Feature</a>, <a target=\"_blank\" href=\"https://annotation.github.io/text-fabric/Api/Features/#node-features\" title=\"doc\">Fall AllFeatures</a>, <a target=\"_blank\" href=\"https://annotation.github.io/text-fabric/Api/Features/#node-features\" title=\"doc\">Fs FeatureString</a><br/>\n",
       "<a target=\"_blank\" href=\"https://annotation.github.io/text-fabric/Api/Search/#search\" title=\"doc\">S Search</a><br/>\n",
       "<a target=\"_blank\" href=\"https://annotation.github.io/text-fabric/Api/Text/#text\" title=\"doc\">T Text</a></details>"
      ],
      "text/plain": [
       "<IPython.core.display.HTML object>"
      ]
     },
     "metadata": {},
     "output_type": "display_data"
    }
   ],
   "source": [
    "# A = use('peshitta', hoist=globals())\n",
    "A = use('peshitta:clone', checkout=\"clone\", hoist=globals())"
   ]
  },
  {
   "cell_type": "markdown",
   "metadata": {},
   "source": [
    "# Basic search command\n",
    "\n",
    "We start with the most simple form of issuing a query.\n",
    "Let's look for the words in 1 Samuel, chapter 1.\n",
    "\n",
    "All work involved in searching takes place under the hood."
   ]
  },
  {
   "cell_type": "code",
   "execution_count": 4,
   "metadata": {
    "ExecuteTime": {
     "end_time": "2018-05-24T07:46:55.998382Z",
     "start_time": "2018-05-24T07:46:55.137956Z"
    }
   },
   "outputs": [
    {
     "name": "stdout",
     "output_type": "stream",
     "text": [
      "  0.25s 445 results\n"
     ]
    },
    {
     "data": {
      "text/html": [
       "<table>\n",
       "<tr class=\"tf\">\n",
       "  <th class=\"tf\">n</th><th class=\"tf\">p</th>\n",
       "  <th class=\"tf\">book</th><th>chapter</th><th>word</th>\n",
       "</tr>\n",
       "\n",
       "<tr class=\"tf\"><td class=\"tf\">1</td><td class=\"tf\"> <a href=\"https://github.com/etcbc/peshitta/blob/master/source/0.1/Samuel_1\" title=\"show this passage in the Peshitta source\" sec=\"Samuel_1 1\">Samuel_1 1</a></td><td class=\"tf\"><a href=\"https://github.com/etcbc/peshitta/blob/master/source/0.1/Samuel_1\" title=\"show this passage in the Peshitta source\" sec=\"Samuel_1\">Samuel_1</a>&nbsp;<span class=\"plain outer  rtl  \" ></span></td><td class=\"tf\"><a href=\"https://github.com/etcbc/peshitta/blob/master/source/0.1/Samuel_1\" title=\"show this passage in the Peshitta source\" sec=\"Samuel_1 1\">Samuel_1 1</a>&nbsp;<span class=\"plain outer  rtl  \" ></span></td><td class=\"tf\"><span class=\"plain outer  rtl  hl\" ><span class=\"syb\">ܘܗܘܐ </span></span></td></tr>\n",
       "<tr class=\"tf\"><td class=\"tf\">2</td><td class=\"tf\"> <a href=\"https://github.com/etcbc/peshitta/blob/master/source/0.1/Samuel_1\" title=\"show this passage in the Peshitta source\" sec=\"Samuel_1 1\">Samuel_1 1</a></td><td class=\"tf\"><a href=\"https://github.com/etcbc/peshitta/blob/master/source/0.1/Samuel_1\" title=\"show this passage in the Peshitta source\" sec=\"Samuel_1\">Samuel_1</a>&nbsp;<span class=\"plain outer  rtl  \" ></span></td><td class=\"tf\"><a href=\"https://github.com/etcbc/peshitta/blob/master/source/0.1/Samuel_1\" title=\"show this passage in the Peshitta source\" sec=\"Samuel_1 1\">Samuel_1 1</a>&nbsp;<span class=\"plain outer  rtl  \" ></span></td><td class=\"tf\"><span class=\"plain outer  rtl  hl\" ><span class=\"syb\">ܓܒܪܐ </span></span></td></tr>\n",
       "<tr class=\"tf\"><td class=\"tf\">3</td><td class=\"tf\"> <a href=\"https://github.com/etcbc/peshitta/blob/master/source/0.1/Samuel_1\" title=\"show this passage in the Peshitta source\" sec=\"Samuel_1 1\">Samuel_1 1</a></td><td class=\"tf\"><a href=\"https://github.com/etcbc/peshitta/blob/master/source/0.1/Samuel_1\" title=\"show this passage in the Peshitta source\" sec=\"Samuel_1\">Samuel_1</a>&nbsp;<span class=\"plain outer  rtl  \" ></span></td><td class=\"tf\"><a href=\"https://github.com/etcbc/peshitta/blob/master/source/0.1/Samuel_1\" title=\"show this passage in the Peshitta source\" sec=\"Samuel_1 1\">Samuel_1 1</a>&nbsp;<span class=\"plain outer  rtl  \" ></span></td><td class=\"tf\"><span class=\"plain outer  rtl  hl\" ><span class=\"syb\">ܚܕ </span></span></td></tr>\n",
       "<tr class=\"tf\"><td class=\"tf\">4</td><td class=\"tf\"> <a href=\"https://github.com/etcbc/peshitta/blob/master/source/0.1/Samuel_1\" title=\"show this passage in the Peshitta source\" sec=\"Samuel_1 1\">Samuel_1 1</a></td><td class=\"tf\"><a href=\"https://github.com/etcbc/peshitta/blob/master/source/0.1/Samuel_1\" title=\"show this passage in the Peshitta source\" sec=\"Samuel_1\">Samuel_1</a>&nbsp;<span class=\"plain outer  rtl  \" ></span></td><td class=\"tf\"><a href=\"https://github.com/etcbc/peshitta/blob/master/source/0.1/Samuel_1\" title=\"show this passage in the Peshitta source\" sec=\"Samuel_1 1\">Samuel_1 1</a>&nbsp;<span class=\"plain outer  rtl  \" ></span></td><td class=\"tf\"><span class=\"plain outer  rtl  hl\" ><span class=\"syb\">ܡܢ </span></span></td></tr>\n",
       "<tr class=\"tf\"><td class=\"tf\">5</td><td class=\"tf\"> <a href=\"https://github.com/etcbc/peshitta/blob/master/source/0.1/Samuel_1\" title=\"show this passage in the Peshitta source\" sec=\"Samuel_1 1\">Samuel_1 1</a></td><td class=\"tf\"><a href=\"https://github.com/etcbc/peshitta/blob/master/source/0.1/Samuel_1\" title=\"show this passage in the Peshitta source\" sec=\"Samuel_1\">Samuel_1</a>&nbsp;<span class=\"plain outer  rtl  \" ></span></td><td class=\"tf\"><a href=\"https://github.com/etcbc/peshitta/blob/master/source/0.1/Samuel_1\" title=\"show this passage in the Peshitta source\" sec=\"Samuel_1 1\">Samuel_1 1</a>&nbsp;<span class=\"plain outer  rtl  \" ></span></td><td class=\"tf\"><span class=\"plain outer  rtl  hl\" ><span class=\"syb\">ܪܡܬܐ </span></span></td></tr>\n",
       "<tr class=\"tf\"><td class=\"tf\">6</td><td class=\"tf\"> <a href=\"https://github.com/etcbc/peshitta/blob/master/source/0.1/Samuel_1\" title=\"show this passage in the Peshitta source\" sec=\"Samuel_1 1\">Samuel_1 1</a></td><td class=\"tf\"><a href=\"https://github.com/etcbc/peshitta/blob/master/source/0.1/Samuel_1\" title=\"show this passage in the Peshitta source\" sec=\"Samuel_1\">Samuel_1</a>&nbsp;<span class=\"plain outer  rtl  \" ></span></td><td class=\"tf\"><a href=\"https://github.com/etcbc/peshitta/blob/master/source/0.1/Samuel_1\" title=\"show this passage in the Peshitta source\" sec=\"Samuel_1 1\">Samuel_1 1</a>&nbsp;<span class=\"plain outer  rtl  \" ></span></td><td class=\"tf\"><span class=\"plain outer  rtl  hl\" ><span class=\"syb\">ܕܕܘܩ̈ܐ </span></span></td></tr>\n",
       "<tr class=\"tf\"><td class=\"tf\">7</td><td class=\"tf\"> <a href=\"https://github.com/etcbc/peshitta/blob/master/source/0.1/Samuel_1\" title=\"show this passage in the Peshitta source\" sec=\"Samuel_1 1\">Samuel_1 1</a></td><td class=\"tf\"><a href=\"https://github.com/etcbc/peshitta/blob/master/source/0.1/Samuel_1\" title=\"show this passage in the Peshitta source\" sec=\"Samuel_1\">Samuel_1</a>&nbsp;<span class=\"plain outer  rtl  \" ></span></td><td class=\"tf\"><a href=\"https://github.com/etcbc/peshitta/blob/master/source/0.1/Samuel_1\" title=\"show this passage in the Peshitta source\" sec=\"Samuel_1 1\">Samuel_1 1</a>&nbsp;<span class=\"plain outer  rtl  \" ></span></td><td class=\"tf\"><span class=\"plain outer  rtl  hl\" ><span class=\"syb\">ܡܢ </span></span></td></tr>\n",
       "<tr class=\"tf\"><td class=\"tf\">8</td><td class=\"tf\"> <a href=\"https://github.com/etcbc/peshitta/blob/master/source/0.1/Samuel_1\" title=\"show this passage in the Peshitta source\" sec=\"Samuel_1 1\">Samuel_1 1</a></td><td class=\"tf\"><a href=\"https://github.com/etcbc/peshitta/blob/master/source/0.1/Samuel_1\" title=\"show this passage in the Peshitta source\" sec=\"Samuel_1\">Samuel_1</a>&nbsp;<span class=\"plain outer  rtl  \" ></span></td><td class=\"tf\"><a href=\"https://github.com/etcbc/peshitta/blob/master/source/0.1/Samuel_1\" title=\"show this passage in the Peshitta source\" sec=\"Samuel_1 1\">Samuel_1 1</a>&nbsp;<span class=\"plain outer  rtl  \" ></span></td><td class=\"tf\"><span class=\"plain outer  rtl  hl\" ><span class=\"syb\">ܛܘܪܐ </span></span></td></tr>\n",
       "<tr class=\"tf\"><td class=\"tf\">9</td><td class=\"tf\"> <a href=\"https://github.com/etcbc/peshitta/blob/master/source/0.1/Samuel_1\" title=\"show this passage in the Peshitta source\" sec=\"Samuel_1 1\">Samuel_1 1</a></td><td class=\"tf\"><a href=\"https://github.com/etcbc/peshitta/blob/master/source/0.1/Samuel_1\" title=\"show this passage in the Peshitta source\" sec=\"Samuel_1\">Samuel_1</a>&nbsp;<span class=\"plain outer  rtl  \" ></span></td><td class=\"tf\"><a href=\"https://github.com/etcbc/peshitta/blob/master/source/0.1/Samuel_1\" title=\"show this passage in the Peshitta source\" sec=\"Samuel_1 1\">Samuel_1 1</a>&nbsp;<span class=\"plain outer  rtl  \" ></span></td><td class=\"tf\"><span class=\"plain outer  rtl  hl\" ><span class=\"syb\">ܕܐܦܪܝܡ </span></span></td></tr>\n",
       "<tr class=\"tf\"><td class=\"tf\">10</td><td class=\"tf\"> <a href=\"https://github.com/etcbc/peshitta/blob/master/source/0.1/Samuel_1\" title=\"show this passage in the Peshitta source\" sec=\"Samuel_1 1\">Samuel_1 1</a></td><td class=\"tf\"><a href=\"https://github.com/etcbc/peshitta/blob/master/source/0.1/Samuel_1\" title=\"show this passage in the Peshitta source\" sec=\"Samuel_1\">Samuel_1</a>&nbsp;<span class=\"plain outer  rtl  \" ></span></td><td class=\"tf\"><a href=\"https://github.com/etcbc/peshitta/blob/master/source/0.1/Samuel_1\" title=\"show this passage in the Peshitta source\" sec=\"Samuel_1 1\">Samuel_1 1</a>&nbsp;<span class=\"plain outer  rtl  \" ></span></td><td class=\"tf\"><span class=\"plain outer  rtl  hl\" ><span class=\"syb\">ܘܫܡܗ </span></span></td></tr></table>"
      ],
      "text/plain": [
       "<IPython.core.display.HTML object>"
      ]
     },
     "metadata": {},
     "output_type": "display_data"
    }
   ],
   "source": [
    "query = '''\n",
    "book book=Sm1\n",
    "  chapter chapter=1\n",
    "    word\n",
    "'''\n",
    "results = A.search(query)\n",
    "A.table(results, end=10)"
   ]
  },
  {
   "cell_type": "markdown",
   "metadata": {},
   "source": [
    "The hyperlinks take us all to the beginning of the book of 1 Samuel.\n",
    "\n",
    "Note that we can choose start and/or end points in the results list."
   ]
  },
  {
   "cell_type": "code",
   "execution_count": 5,
   "metadata": {
    "ExecuteTime": {
     "end_time": "2018-05-24T07:47:03.299872Z",
     "start_time": "2018-05-24T07:47:03.261873Z"
    }
   },
   "outputs": [
    {
     "data": {
      "text/html": [
       "<table>\n",
       "<tr class=\"tf\">\n",
       "  <th class=\"tf\">n</th><th class=\"tf\">p</th>\n",
       "  <th class=\"tf\">book</th><th>chapter</th><th>word</th>\n",
       "</tr>\n",
       "\n",
       "<tr class=\"tf\"><td class=\"tf\">8</td><td class=\"tf\"> <a href=\"https://github.com/etcbc/peshitta/blob/master/source/0.1/Samuel_1\" title=\"show this passage in the Peshitta source\" sec=\"Samuel_1 1:1\">Samuel_1 1:1</a></td><td class=\"tf\"><a href=\"https://github.com/etcbc/peshitta/blob/master/source/0.1/Samuel_1\" title=\"show this passage in the Peshitta source\" sec=\"Samuel_1\">Samuel_1</a>&nbsp;<span class=\"plain outer  rtl  \" ></span></td><td class=\"tf\"><a href=\"https://github.com/etcbc/peshitta/blob/master/source/0.1/Samuel_1\" title=\"show this passage in the Peshitta source\" sec=\"Samuel_1 1\">Samuel_1 1</a>&nbsp;<span class=\"plain outer  rtl  \" ></span></td><td class=\"tf\"><a href=\"https://github.com/etcbc/peshitta/blob/master/source/0.1/Samuel_1\" title=\"Samuel_1 1:1\" sec=\"Samuel_1 1:1\"><span class=\"plain outer  rtl  hl\" ><span class=\"syb\">ܛܘܪܐ </span></span></a></td></tr>\n",
       "<tr class=\"tf\"><td class=\"tf\">9</td><td class=\"tf\"> <a href=\"https://github.com/etcbc/peshitta/blob/master/source/0.1/Samuel_1\" title=\"show this passage in the Peshitta source\" sec=\"Samuel_1 1:1\">Samuel_1 1:1</a></td><td class=\"tf\"><a href=\"https://github.com/etcbc/peshitta/blob/master/source/0.1/Samuel_1\" title=\"show this passage in the Peshitta source\" sec=\"Samuel_1\">Samuel_1</a>&nbsp;<span class=\"plain outer  rtl  \" ></span></td><td class=\"tf\"><a href=\"https://github.com/etcbc/peshitta/blob/master/source/0.1/Samuel_1\" title=\"show this passage in the Peshitta source\" sec=\"Samuel_1 1\">Samuel_1 1</a>&nbsp;<span class=\"plain outer  rtl  \" ></span></td><td class=\"tf\"><a href=\"https://github.com/etcbc/peshitta/blob/master/source/0.1/Samuel_1\" title=\"Samuel_1 1:1\" sec=\"Samuel_1 1:1\"><span class=\"plain outer  rtl  hl\" ><span class=\"syb\">ܕܐܦܪܝܡ </span></span></a></td></tr>\n",
       "<tr class=\"tf\"><td class=\"tf\">10</td><td class=\"tf\"> <a href=\"https://github.com/etcbc/peshitta/blob/master/source/0.1/Samuel_1\" title=\"show this passage in the Peshitta source\" sec=\"Samuel_1 1:1\">Samuel_1 1:1</a></td><td class=\"tf\"><a href=\"https://github.com/etcbc/peshitta/blob/master/source/0.1/Samuel_1\" title=\"show this passage in the Peshitta source\" sec=\"Samuel_1\">Samuel_1</a>&nbsp;<span class=\"plain outer  rtl  \" ></span></td><td class=\"tf\"><a href=\"https://github.com/etcbc/peshitta/blob/master/source/0.1/Samuel_1\" title=\"show this passage in the Peshitta source\" sec=\"Samuel_1 1\">Samuel_1 1</a>&nbsp;<span class=\"plain outer  rtl  \" ></span></td><td class=\"tf\"><a href=\"https://github.com/etcbc/peshitta/blob/master/source/0.1/Samuel_1\" title=\"Samuel_1 1:1\" sec=\"Samuel_1 1:1\"><span class=\"plain outer  rtl  hl\" ><span class=\"syb\">ܘܫܡܗ </span></span></a></td></tr>\n",
       "<tr class=\"tf\"><td class=\"tf\">11</td><td class=\"tf\"> <a href=\"https://github.com/etcbc/peshitta/blob/master/source/0.1/Samuel_1\" title=\"show this passage in the Peshitta source\" sec=\"Samuel_1 1:1\">Samuel_1 1:1</a></td><td class=\"tf\"><a href=\"https://github.com/etcbc/peshitta/blob/master/source/0.1/Samuel_1\" title=\"show this passage in the Peshitta source\" sec=\"Samuel_1\">Samuel_1</a>&nbsp;<span class=\"plain outer  rtl  \" ></span></td><td class=\"tf\"><a href=\"https://github.com/etcbc/peshitta/blob/master/source/0.1/Samuel_1\" title=\"show this passage in the Peshitta source\" sec=\"Samuel_1 1\">Samuel_1 1</a>&nbsp;<span class=\"plain outer  rtl  \" ></span></td><td class=\"tf\"><a href=\"https://github.com/etcbc/peshitta/blob/master/source/0.1/Samuel_1\" title=\"Samuel_1 1:1\" sec=\"Samuel_1 1:1\"><span class=\"plain outer  rtl  hl\" ><span class=\"syb\">ܗܠܩܢܐ </span></span></a></td></tr>\n",
       "<tr class=\"tf\"><td class=\"tf\">12</td><td class=\"tf\"> <a href=\"https://github.com/etcbc/peshitta/blob/master/source/0.1/Samuel_1\" title=\"show this passage in the Peshitta source\" sec=\"Samuel_1 1:1\">Samuel_1 1:1</a></td><td class=\"tf\"><a href=\"https://github.com/etcbc/peshitta/blob/master/source/0.1/Samuel_1\" title=\"show this passage in the Peshitta source\" sec=\"Samuel_1\">Samuel_1</a>&nbsp;<span class=\"plain outer  rtl  \" ></span></td><td class=\"tf\"><a href=\"https://github.com/etcbc/peshitta/blob/master/source/0.1/Samuel_1\" title=\"show this passage in the Peshitta source\" sec=\"Samuel_1 1\">Samuel_1 1</a>&nbsp;<span class=\"plain outer  rtl  \" ></span></td><td class=\"tf\"><a href=\"https://github.com/etcbc/peshitta/blob/master/source/0.1/Samuel_1\" title=\"Samuel_1 1:1\" sec=\"Samuel_1 1:1\"><span class=\"plain outer  rtl  hl\" ><span class=\"syb\">ܒܪ </span></span></a></td></tr>\n",
       "<tr class=\"tf\"><td class=\"tf\">13</td><td class=\"tf\"> <a href=\"https://github.com/etcbc/peshitta/blob/master/source/0.1/Samuel_1\" title=\"show this passage in the Peshitta source\" sec=\"Samuel_1 1:1\">Samuel_1 1:1</a></td><td class=\"tf\"><a href=\"https://github.com/etcbc/peshitta/blob/master/source/0.1/Samuel_1\" title=\"show this passage in the Peshitta source\" sec=\"Samuel_1\">Samuel_1</a>&nbsp;<span class=\"plain outer  rtl  \" ></span></td><td class=\"tf\"><a href=\"https://github.com/etcbc/peshitta/blob/master/source/0.1/Samuel_1\" title=\"show this passage in the Peshitta source\" sec=\"Samuel_1 1\">Samuel_1 1</a>&nbsp;<span class=\"plain outer  rtl  \" ></span></td><td class=\"tf\"><a href=\"https://github.com/etcbc/peshitta/blob/master/source/0.1/Samuel_1\" title=\"Samuel_1 1:1\" sec=\"Samuel_1 1:1\"><span class=\"plain outer  rtl  hl\" ><span class=\"syb\">ܝܪܚܘܡ </span></span></a></td></tr></table>"
      ],
      "text/plain": [
       "<IPython.core.display.HTML object>"
      ]
     },
     "metadata": {},
     "output_type": "display_data"
    }
   ],
   "source": [
    "A.table(results, start=8, end=13, linked=3)"
   ]
  },
  {
   "cell_type": "markdown",
   "metadata": {},
   "source": [
    "We can show the results more fully with `show()`."
   ]
  },
  {
   "cell_type": "code",
   "execution_count": 6,
   "metadata": {
    "ExecuteTime": {
     "end_time": "2018-05-24T07:47:06.875859Z",
     "start_time": "2018-05-24T07:47:06.757345Z"
    }
   },
   "outputs": [
    {
     "data": {
      "text/html": [
       "<p><b>result</b> <i>1</i></p>"
      ],
      "text/plain": [
       "<IPython.core.display.HTML object>"
      ]
     },
     "metadata": {},
     "output_type": "display_data"
    },
    {
     "data": {
      "text/html": [
       "<div class=\"outeritem\"><div class=\"None   rtl \" ><div class=\"features\"> <span class=\"book xft\"><span class=\"f\">book=</span>Sm1</span></div></div></div>"
      ],
      "text/plain": [
       "<IPython.core.display.HTML object>"
      ]
     },
     "metadata": {},
     "output_type": "display_data"
    },
    {
     "data": {
      "text/html": [
       "<div class=\"outeritem\"><div class=\"None   rtl \" ><div class=\"features\"> <span class=\"book xft\"><span class=\"f\">book=</span>Sm1</span> <span class=\"chapter xft\"><span class=\"f\">chapter=</span>1</span></div></div></div>"
      ],
      "text/plain": [
       "<IPython.core.display.HTML object>"
      ]
     },
     "metadata": {},
     "output_type": "display_data"
    },
    {
     "data": {
      "text/html": [
       "<div class=\"outeritem\"><div class=\"verse   rtl \" >\n",
       "    <div class=\"vl\">\n",
       "        <div class=\"vrs\"><a href=\"https://github.com/etcbc/peshitta/blob/master/source/0.1/Samuel_1\" title=\"show this passage in the Peshitta source\" sec=\"Samuel_1 1:1\">Samuel_1 1:1</a></div>\n",
       "        <span class=\"nd\">436753</span>\n",
       "        <div class=\"features\"> <span class=\"book xft\"><span class=\"f\">book=</span>Sm1</span> <span class=\"chapter xft\"><span class=\"f\">chapter=</span>1</span></div>\n",
       "    </div>\n",
       "<div class=\"word  hl rtl \" ><span class=\"nd\">107981</span><div class=\"sy\">ܘܗܘܐ </div><div class=\"features\"> <span class=\"word_etcbc\">WHW></span></div></div><div class=\"word   rtl \" ><span class=\"nd\">107982</span><div class=\"sy\">ܓܒܪܐ </div><div class=\"features\"> <span class=\"word_etcbc\">GBR></span></div></div><div class=\"word   rtl \" ><span class=\"nd\">107983</span><div class=\"sy\">ܚܕ </div><div class=\"features\"> <span class=\"word_etcbc\">XD</span></div></div><div class=\"word   rtl \" ><span class=\"nd\">107984</span><div class=\"sy\">ܡܢ </div><div class=\"features\"> <span class=\"word_etcbc\">MN</span></div></div><div class=\"word   rtl \" ><span class=\"nd\">107985</span><div class=\"sy\">ܪܡܬܐ </div><div class=\"features\"> <span class=\"word_etcbc\">RMT></span></div></div><div class=\"word   rtl \" ><span class=\"nd\">107986</span><div class=\"sy\">ܕܕܘܩ̈ܐ </div><div class=\"features\"> <span class=\"word_etcbc\">DDWQ\"></span></div></div><div class=\"word   rtl \" ><span class=\"nd\">107987</span><div class=\"sy\">ܡܢ </div><div class=\"features\"> <span class=\"word_etcbc\">MN</span></div></div><div class=\"word   rtl \" ><span class=\"nd\">107988</span><div class=\"sy\">ܛܘܪܐ </div><div class=\"features\"> <span class=\"word_etcbc\">VWR></span></div></div><div class=\"word   rtl \" ><span class=\"nd\">107989</span><div class=\"sy\">ܕܐܦܪܝܡ </div><div class=\"features\"> <span class=\"word_etcbc\">D>PRJM</span></div></div><div class=\"word   rtl \" ><span class=\"nd\">107990</span><div class=\"sy\">ܘܫܡܗ </div><div class=\"features\"> <span class=\"word_etcbc\">WCMH</span></div></div><div class=\"word   rtl \" ><span class=\"nd\">107991</span><div class=\"sy\">ܗܠܩܢܐ </div><div class=\"features\"> <span class=\"word_etcbc\">HLQN></span></div></div><div class=\"word   rtl \" ><span class=\"nd\">107992</span><div class=\"sy\">ܒܪ </div><div class=\"features\"> <span class=\"word_etcbc\">BR</span></div></div><div class=\"word   rtl \" ><span class=\"nd\">107993</span><div class=\"sy\">ܝܪܚܘܡ </div><div class=\"features\"> <span class=\"word_etcbc\">JRXWM</span></div></div><div class=\"word   rtl \" ><span class=\"nd\">107994</span><div class=\"sy\">ܒܪ </div><div class=\"features\"> <span class=\"word_etcbc\">BR</span></div></div><div class=\"word   rtl \" ><span class=\"nd\">107995</span><div class=\"sy\">ܐܠܝܗܘ </div><div class=\"features\"> <span class=\"word_etcbc\">>LJHW</span></div></div><div class=\"word   rtl \" ><span class=\"nd\">107996</span><div class=\"sy\">ܒܪ </div><div class=\"features\"> <span class=\"word_etcbc\">BR</span></div></div><div class=\"word   rtl \" ><span class=\"nd\">107997</span><div class=\"sy\">ܬܚܘ </div><div class=\"features\"> <span class=\"word_etcbc\">TXW</span></div></div><div class=\"word   rtl \" ><span class=\"nd\">107998</span><div class=\"sy\">ܒܪ </div><div class=\"features\"> <span class=\"word_etcbc\">BR</span></div></div><div class=\"word   rtl \" ><span class=\"nd\">107999</span><div class=\"sy\">ܨܘܦ </div><div class=\"features\"> <span class=\"word_etcbc\">YWP</span></div></div><div class=\"word   rtl \" ><span class=\"nd\">108000</span><div class=\"sy\">ܐܦܪܬܝܐ </div><div class=\"features\"> <span class=\"word_etcbc\">>PRTJ></span></div></div></div></div>"
      ],
      "text/plain": [
       "<IPython.core.display.HTML object>"
      ]
     },
     "metadata": {},
     "output_type": "display_data"
    },
    {
     "data": {
      "text/html": [
       "<p><b>result</b> <i>2</i></p>"
      ],
      "text/plain": [
       "<IPython.core.display.HTML object>"
      ]
     },
     "metadata": {},
     "output_type": "display_data"
    },
    {
     "data": {
      "text/html": [
       "<div class=\"outeritem\"><div class=\"None   rtl \" ><div class=\"features\"> <span class=\"book xft\"><span class=\"f\">book=</span>Sm1</span></div></div></div>"
      ],
      "text/plain": [
       "<IPython.core.display.HTML object>"
      ]
     },
     "metadata": {},
     "output_type": "display_data"
    },
    {
     "data": {
      "text/html": [
       "<div class=\"outeritem\"><div class=\"None   rtl \" ><div class=\"features\"> <span class=\"book xft\"><span class=\"f\">book=</span>Sm1</span> <span class=\"chapter xft\"><span class=\"f\">chapter=</span>1</span></div></div></div>"
      ],
      "text/plain": [
       "<IPython.core.display.HTML object>"
      ]
     },
     "metadata": {},
     "output_type": "display_data"
    },
    {
     "data": {
      "text/html": [
       "<div class=\"outeritem\"><div class=\"verse   rtl \" >\n",
       "    <div class=\"vl\">\n",
       "        <div class=\"vrs\"><a href=\"https://github.com/etcbc/peshitta/blob/master/source/0.1/Samuel_1\" title=\"show this passage in the Peshitta source\" sec=\"Samuel_1 1:1\">Samuel_1 1:1</a></div>\n",
       "        <span class=\"nd\">436753</span>\n",
       "        <div class=\"features\"> <span class=\"book xft\"><span class=\"f\">book=</span>Sm1</span> <span class=\"chapter xft\"><span class=\"f\">chapter=</span>1</span></div>\n",
       "    </div>\n",
       "<div class=\"word   rtl \" ><span class=\"nd\">107981</span><div class=\"sy\">ܘܗܘܐ </div><div class=\"features\"> <span class=\"word_etcbc\">WHW></span></div></div><div class=\"word  hl rtl \" ><span class=\"nd\">107982</span><div class=\"sy\">ܓܒܪܐ </div><div class=\"features\"> <span class=\"word_etcbc\">GBR></span></div></div><div class=\"word   rtl \" ><span class=\"nd\">107983</span><div class=\"sy\">ܚܕ </div><div class=\"features\"> <span class=\"word_etcbc\">XD</span></div></div><div class=\"word   rtl \" ><span class=\"nd\">107984</span><div class=\"sy\">ܡܢ </div><div class=\"features\"> <span class=\"word_etcbc\">MN</span></div></div><div class=\"word   rtl \" ><span class=\"nd\">107985</span><div class=\"sy\">ܪܡܬܐ </div><div class=\"features\"> <span class=\"word_etcbc\">RMT></span></div></div><div class=\"word   rtl \" ><span class=\"nd\">107986</span><div class=\"sy\">ܕܕܘܩ̈ܐ </div><div class=\"features\"> <span class=\"word_etcbc\">DDWQ\"></span></div></div><div class=\"word   rtl \" ><span class=\"nd\">107987</span><div class=\"sy\">ܡܢ </div><div class=\"features\"> <span class=\"word_etcbc\">MN</span></div></div><div class=\"word   rtl \" ><span class=\"nd\">107988</span><div class=\"sy\">ܛܘܪܐ </div><div class=\"features\"> <span class=\"word_etcbc\">VWR></span></div></div><div class=\"word   rtl \" ><span class=\"nd\">107989</span><div class=\"sy\">ܕܐܦܪܝܡ </div><div class=\"features\"> <span class=\"word_etcbc\">D>PRJM</span></div></div><div class=\"word   rtl \" ><span class=\"nd\">107990</span><div class=\"sy\">ܘܫܡܗ </div><div class=\"features\"> <span class=\"word_etcbc\">WCMH</span></div></div><div class=\"word   rtl \" ><span class=\"nd\">107991</span><div class=\"sy\">ܗܠܩܢܐ </div><div class=\"features\"> <span class=\"word_etcbc\">HLQN></span></div></div><div class=\"word   rtl \" ><span class=\"nd\">107992</span><div class=\"sy\">ܒܪ </div><div class=\"features\"> <span class=\"word_etcbc\">BR</span></div></div><div class=\"word   rtl \" ><span class=\"nd\">107993</span><div class=\"sy\">ܝܪܚܘܡ </div><div class=\"features\"> <span class=\"word_etcbc\">JRXWM</span></div></div><div class=\"word   rtl \" ><span class=\"nd\">107994</span><div class=\"sy\">ܒܪ </div><div class=\"features\"> <span class=\"word_etcbc\">BR</span></div></div><div class=\"word   rtl \" ><span class=\"nd\">107995</span><div class=\"sy\">ܐܠܝܗܘ </div><div class=\"features\"> <span class=\"word_etcbc\">>LJHW</span></div></div><div class=\"word   rtl \" ><span class=\"nd\">107996</span><div class=\"sy\">ܒܪ </div><div class=\"features\"> <span class=\"word_etcbc\">BR</span></div></div><div class=\"word   rtl \" ><span class=\"nd\">107997</span><div class=\"sy\">ܬܚܘ </div><div class=\"features\"> <span class=\"word_etcbc\">TXW</span></div></div><div class=\"word   rtl \" ><span class=\"nd\">107998</span><div class=\"sy\">ܒܪ </div><div class=\"features\"> <span class=\"word_etcbc\">BR</span></div></div><div class=\"word   rtl \" ><span class=\"nd\">107999</span><div class=\"sy\">ܨܘܦ </div><div class=\"features\"> <span class=\"word_etcbc\">YWP</span></div></div><div class=\"word   rtl \" ><span class=\"nd\">108000</span><div class=\"sy\">ܐܦܪܬܝܐ </div><div class=\"features\"> <span class=\"word_etcbc\">>PRTJ></span></div></div></div></div>"
      ],
      "text/plain": [
       "<IPython.core.display.HTML object>"
      ]
     },
     "metadata": {},
     "output_type": "display_data"
    },
    {
     "data": {
      "text/html": [
       "<p><b>result</b> <i>3</i></p>"
      ],
      "text/plain": [
       "<IPython.core.display.HTML object>"
      ]
     },
     "metadata": {},
     "output_type": "display_data"
    },
    {
     "data": {
      "text/html": [
       "<div class=\"outeritem\"><div class=\"None   rtl \" ><div class=\"features\"> <span class=\"book xft\"><span class=\"f\">book=</span>Sm1</span></div></div></div>"
      ],
      "text/plain": [
       "<IPython.core.display.HTML object>"
      ]
     },
     "metadata": {},
     "output_type": "display_data"
    },
    {
     "data": {
      "text/html": [
       "<div class=\"outeritem\"><div class=\"None   rtl \" ><div class=\"features\"> <span class=\"book xft\"><span class=\"f\">book=</span>Sm1</span> <span class=\"chapter xft\"><span class=\"f\">chapter=</span>1</span></div></div></div>"
      ],
      "text/plain": [
       "<IPython.core.display.HTML object>"
      ]
     },
     "metadata": {},
     "output_type": "display_data"
    },
    {
     "data": {
      "text/html": [
       "<div class=\"outeritem\"><div class=\"verse   rtl \" >\n",
       "    <div class=\"vl\">\n",
       "        <div class=\"vrs\"><a href=\"https://github.com/etcbc/peshitta/blob/master/source/0.1/Samuel_1\" title=\"show this passage in the Peshitta source\" sec=\"Samuel_1 1:1\">Samuel_1 1:1</a></div>\n",
       "        <span class=\"nd\">436753</span>\n",
       "        <div class=\"features\"> <span class=\"book xft\"><span class=\"f\">book=</span>Sm1</span> <span class=\"chapter xft\"><span class=\"f\">chapter=</span>1</span></div>\n",
       "    </div>\n",
       "<div class=\"word   rtl \" ><span class=\"nd\">107981</span><div class=\"sy\">ܘܗܘܐ </div><div class=\"features\"> <span class=\"word_etcbc\">WHW></span></div></div><div class=\"word   rtl \" ><span class=\"nd\">107982</span><div class=\"sy\">ܓܒܪܐ </div><div class=\"features\"> <span class=\"word_etcbc\">GBR></span></div></div><div class=\"word  hl rtl \" ><span class=\"nd\">107983</span><div class=\"sy\">ܚܕ </div><div class=\"features\"> <span class=\"word_etcbc\">XD</span></div></div><div class=\"word   rtl \" ><span class=\"nd\">107984</span><div class=\"sy\">ܡܢ </div><div class=\"features\"> <span class=\"word_etcbc\">MN</span></div></div><div class=\"word   rtl \" ><span class=\"nd\">107985</span><div class=\"sy\">ܪܡܬܐ </div><div class=\"features\"> <span class=\"word_etcbc\">RMT></span></div></div><div class=\"word   rtl \" ><span class=\"nd\">107986</span><div class=\"sy\">ܕܕܘܩ̈ܐ </div><div class=\"features\"> <span class=\"word_etcbc\">DDWQ\"></span></div></div><div class=\"word   rtl \" ><span class=\"nd\">107987</span><div class=\"sy\">ܡܢ </div><div class=\"features\"> <span class=\"word_etcbc\">MN</span></div></div><div class=\"word   rtl \" ><span class=\"nd\">107988</span><div class=\"sy\">ܛܘܪܐ </div><div class=\"features\"> <span class=\"word_etcbc\">VWR></span></div></div><div class=\"word   rtl \" ><span class=\"nd\">107989</span><div class=\"sy\">ܕܐܦܪܝܡ </div><div class=\"features\"> <span class=\"word_etcbc\">D>PRJM</span></div></div><div class=\"word   rtl \" ><span class=\"nd\">107990</span><div class=\"sy\">ܘܫܡܗ </div><div class=\"features\"> <span class=\"word_etcbc\">WCMH</span></div></div><div class=\"word   rtl \" ><span class=\"nd\">107991</span><div class=\"sy\">ܗܠܩܢܐ </div><div class=\"features\"> <span class=\"word_etcbc\">HLQN></span></div></div><div class=\"word   rtl \" ><span class=\"nd\">107992</span><div class=\"sy\">ܒܪ </div><div class=\"features\"> <span class=\"word_etcbc\">BR</span></div></div><div class=\"word   rtl \" ><span class=\"nd\">107993</span><div class=\"sy\">ܝܪܚܘܡ </div><div class=\"features\"> <span class=\"word_etcbc\">JRXWM</span></div></div><div class=\"word   rtl \" ><span class=\"nd\">107994</span><div class=\"sy\">ܒܪ </div><div class=\"features\"> <span class=\"word_etcbc\">BR</span></div></div><div class=\"word   rtl \" ><span class=\"nd\">107995</span><div class=\"sy\">ܐܠܝܗܘ </div><div class=\"features\"> <span class=\"word_etcbc\">>LJHW</span></div></div><div class=\"word   rtl \" ><span class=\"nd\">107996</span><div class=\"sy\">ܒܪ </div><div class=\"features\"> <span class=\"word_etcbc\">BR</span></div></div><div class=\"word   rtl \" ><span class=\"nd\">107997</span><div class=\"sy\">ܬܚܘ </div><div class=\"features\"> <span class=\"word_etcbc\">TXW</span></div></div><div class=\"word   rtl \" ><span class=\"nd\">107998</span><div class=\"sy\">ܒܪ </div><div class=\"features\"> <span class=\"word_etcbc\">BR</span></div></div><div class=\"word   rtl \" ><span class=\"nd\">107999</span><div class=\"sy\">ܨܘܦ </div><div class=\"features\"> <span class=\"word_etcbc\">YWP</span></div></div><div class=\"word   rtl \" ><span class=\"nd\">108000</span><div class=\"sy\">ܐܦܪܬܝܐ </div><div class=\"features\"> <span class=\"word_etcbc\">>PRTJ></span></div></div></div></div>"
      ],
      "text/plain": [
       "<IPython.core.display.HTML object>"
      ]
     },
     "metadata": {},
     "output_type": "display_data"
    }
   ],
   "source": [
    "A.show(results, start=1, end=3, withNodes=True)"
   ]
  },
  {
   "cell_type": "markdown",
   "metadata": {},
   "source": [
    "# Next\n",
    "\n",
    "You know how to run queries and show off with their results.\n",
    "\n",
    "The next thing is to dive deeper into the power of templates.\n",
    "But for that you have to go to the\n",
    "[search tutorial of the BHSA](https://nbviewer.jupyter.org/github/etcbc/bhsa/blob/master/tutorial/search.ipynb)\n",
    "since that data set has much more features to play with.\n",
    "\n",
    "---\n",
    "\n",
    "basic\n",
    "[BHSA](https://nbviewer.jupyter.org/github/etcbc/bhsa/blob/master/tutorial/search.ipynb)"
   ]
  }
 ],
 "metadata": {
  "kernelspec": {
   "display_name": "Python 3",
   "language": "python",
   "name": "python3"
  },
  "language_info": {
   "codemirror_mode": {
    "name": "ipython",
    "version": 3
   },
   "file_extension": ".py",
   "mimetype": "text/x-python",
   "name": "python",
   "nbconvert_exporter": "python",
   "pygments_lexer": "ipython3",
   "version": "3.7.7"
  }
 },
 "nbformat": 4,
 "nbformat_minor": 4
}
