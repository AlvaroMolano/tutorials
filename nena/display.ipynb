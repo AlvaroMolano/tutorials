{
 "cells": [
  {
   "cell_type": "markdown",
   "metadata": {},
   "source": [
    "<img align=\"right\" src=\"images/tf.png\" width=\"128\"/>\n",
    "<img align=\"right\" src=\"images/logo.png\" width=\"128\"/>\n",
    "<img align=\"right\" src=\"images/dans.png\" width=\"128\"/>\n",
    "\n",
    "---\n",
    "\n",
    "To get started: consult [start](start.ipynb)\n",
    "\n",
    "---\n",
    "\n",
    "# Display\n",
    "\n",
    "We show the ins and outs of displaying NENA texts."
   ]
  },
  {
   "cell_type": "code",
   "execution_count": 1,
   "metadata": {},
   "outputs": [],
   "source": [
    "%load_ext autoreload\n",
    "%autoreload 2"
   ]
  },
  {
   "cell_type": "code",
   "execution_count": 2,
   "metadata": {
    "ExecuteTime": {
     "end_time": "2018-05-18T09:17:16.202764Z",
     "start_time": "2018-05-18T09:17:16.197546Z"
    }
   },
   "outputs": [],
   "source": [
    "import sys, os, collections\n",
    "from tf.app import use\n",
    "from tf.applib.helpers import dm, dh"
   ]
  },
  {
   "cell_type": "markdown",
   "metadata": {},
   "source": [
    "If you want to use a version of the NENA texts ahead of a release, use the incantation with `hot` in it.\n",
    "That will take time, not only for the download itself, but also for the one-time preprocessing of the data.\n",
    "\n",
    "If you are content with the latest stable release, use the line without the `hot`."
   ]
  },
  {
   "cell_type": "code",
   "execution_count": 3,
   "metadata": {},
   "outputs": [
    {
     "name": "stdout",
     "output_type": "stream",
     "text": [
      "Using TF-app in /Users/dirk/github/annotation/app-nena/code:\n",
      "\trepo clone offline under ~/github (local github)\n",
      "Using data in /Users/dirk/github/CambridgeSemiticsLab/nena_tf/tf/0.02:\n",
      "\trepo clone offline under ~/github (local github)\n",
      "   |     0.00s No structure info in otext, the structure part of the T-API cannot be used\n"
     ]
    },
    {
     "data": {
      "text/html": [
       "<b>Documentation:</b> <a target=\"_blank\" href=\"https://github.com/CambridgeSemiticsLab/nena_tf/blob/master/docs\" title=\"provenance of Northeastern Neo-Aramaic Text Corpus\">NENA_TF</a> <a target=\"_blank\" href=\"https://github.com/CambridgeSemiticsLab/nena_tf/blob/master/docs/transcription.md\" title=\"('NENA transcription script',)\">Character table</a> <a target=\"_blank\" href=\"https://github.com/CambridgeSemiticsLab/nena_tf/blob/master/docs/features.md#features.md\" title=\"NENA_TF feature documentation\">Feature docs</a> <a target=\"_blank\" href=\"https://github.com/annotation/app-nena\" title=\"nena API documentation\">nena API</a> <a target=\"_blank\" href=\"https://annotation.github.io/text-fabric/Api/Fabric/\" title=\"text-fabric-api\">Text-Fabric API 7.11.0</a> <a target=\"_blank\" href=\"https://annotation.github.io/text-fabric/Use/Search/\" title=\"Search Templates Introduction and Reference\">Search Reference</a><details open><summary><b>Loaded features</b>:</summary>\n",
       "<p><b>Northeastern Neo-Aramaic Text Corpus</b>: <a target=\"_blank\" href=\"https://github.com/CambridgeSemiticsLab/nena_tf/blob/master/docs/features.md#class\" title=\"/Users/dirk/github/CambridgeSemiticsLab/nena_tf/tf/0.02/class.tf\">class</a>  <a target=\"_blank\" href=\"https://github.com/CambridgeSemiticsLab/nena_tf/blob/master/docs/features.md#comment\" title=\"/Users/dirk/github/CambridgeSemiticsLab/nena_tf/tf/0.02/comment.tf\">comment</a>  <a target=\"_blank\" href=\"https://github.com/CambridgeSemiticsLab/nena_tf/blob/master/docs/features.md#dialect\" title=\"/Users/dirk/github/CambridgeSemiticsLab/nena_tf/tf/0.02/dialect.tf\">dialect</a>  <a target=\"_blank\" href=\"https://github.com/CambridgeSemiticsLab/nena_tf/blob/master/docs/features.md#end\" title=\"/Users/dirk/github/CambridgeSemiticsLab/nena_tf/tf/0.02/end.tf\">end</a>  <a target=\"_blank\" href=\"https://github.com/CambridgeSemiticsLab/nena_tf/blob/master/docs/features.md#foreign\" title=\"/Users/dirk/github/CambridgeSemiticsLab/nena_tf/tf/0.02/foreign.tf\">foreign</a>  <a target=\"_blank\" href=\"https://github.com/CambridgeSemiticsLab/nena_tf/blob/master/docs/features.md#full\" title=\"/Users/dirk/github/CambridgeSemiticsLab/nena_tf/tf/0.02/full.tf\">full</a>  <a target=\"_blank\" href=\"https://github.com/CambridgeSemiticsLab/nena_tf/blob/master/docs/features.md#full_end\" title=\"/Users/dirk/github/CambridgeSemiticsLab/nena_tf/tf/0.02/full_end.tf\">full_end</a>  <a target=\"_blank\" href=\"https://github.com/CambridgeSemiticsLab/nena_tf/blob/master/docs/features.md#fuzzy\" title=\"/Users/dirk/github/CambridgeSemiticsLab/nena_tf/tf/0.02/fuzzy.tf\">fuzzy</a>  <a target=\"_blank\" href=\"https://github.com/CambridgeSemiticsLab/nena_tf/blob/master/docs/features.md#fuzzy_end\" title=\"/Users/dirk/github/CambridgeSemiticsLab/nena_tf/tf/0.02/fuzzy_end.tf\">fuzzy_end</a>  <a target=\"_blank\" href=\"https://github.com/CambridgeSemiticsLab/nena_tf/blob/master/docs/features.md#gloss\" title=\"/Users/dirk/github/CambridgeSemiticsLab/nena_tf/tf/0.02/gloss.tf\">gloss</a>  <a target=\"_blank\" href=\"https://github.com/CambridgeSemiticsLab/nena_tf/blob/master/docs/features.md#grm_desc\" title=\"/Users/dirk/github/CambridgeSemiticsLab/nena_tf/tf/0.02/grm_desc.tf\">grm_desc</a>  <a target=\"_blank\" href=\"https://github.com/CambridgeSemiticsLab/nena_tf/blob/master/docs/features.md#informant\" title=\"/Users/dirk/github/CambridgeSemiticsLab/nena_tf/tf/0.02/informant.tf\">informant</a>  <a target=\"_blank\" href=\"https://github.com/CambridgeSemiticsLab/nena_tf/blob/master/docs/features.md#lang\" title=\"/Users/dirk/github/CambridgeSemiticsLab/nena_tf/tf/0.02/lang.tf\">lang</a>  <a target=\"_blank\" href=\"https://github.com/CambridgeSemiticsLab/nena_tf/blob/master/docs/features.md#lemma\" title=\"/Users/dirk/github/CambridgeSemiticsLab/nena_tf/tf/0.02/lemma.tf\">lemma</a>  <a target=\"_blank\" href=\"https://github.com/CambridgeSemiticsLab/nena_tf/blob/master/docs/features.md#lemma_form\" title=\"/Users/dirk/github/CambridgeSemiticsLab/nena_tf/tf/0.02/lemma_form.tf\">lemma_form</a>  <a target=\"_blank\" href=\"https://github.com/CambridgeSemiticsLab/nena_tf/blob/master/docs/features.md#lite\" title=\"/Users/dirk/github/CambridgeSemiticsLab/nena_tf/tf/0.02/lite.tf\">lite</a>  <a target=\"_blank\" href=\"https://github.com/CambridgeSemiticsLab/nena_tf/blob/master/docs/features.md#lite_end\" title=\"/Users/dirk/github/CambridgeSemiticsLab/nena_tf/tf/0.02/lite_end.tf\">lite_end</a>  <a target=\"_blank\" href=\"https://github.com/CambridgeSemiticsLab/nena_tf/blob/master/docs/features.md#number\" title=\"/Users/dirk/github/CambridgeSemiticsLab/nena_tf/tf/0.02/number.tf\">number</a>  <a target=\"_blank\" href=\"https://github.com/CambridgeSemiticsLab/nena_tf/blob/master/docs/features.md#otype\" title=\"/Users/dirk/github/CambridgeSemiticsLab/nena_tf/tf/0.02/otype.tf\">otype</a>  <a target=\"_blank\" href=\"https://github.com/CambridgeSemiticsLab/nena_tf/blob/master/docs/features.md#place\" title=\"/Users/dirk/github/CambridgeSemiticsLab/nena_tf/tf/0.02/place.tf\">place</a>  <a target=\"_blank\" href=\"https://github.com/CambridgeSemiticsLab/nena_tf/blob/master/docs/features.md#speaker\" title=\"/Users/dirk/github/CambridgeSemiticsLab/nena_tf/tf/0.02/speaker.tf\">speaker</a>  <a target=\"_blank\" href=\"https://github.com/CambridgeSemiticsLab/nena_tf/blob/master/docs/features.md#text\" title=\"/Users/dirk/github/CambridgeSemiticsLab/nena_tf/tf/0.02/text.tf\">text</a>  <a target=\"_blank\" href=\"https://github.com/CambridgeSemiticsLab/nena_tf/blob/master/docs/features.md#text_id\" title=\"/Users/dirk/github/CambridgeSemiticsLab/nena_tf/tf/0.02/text_id.tf\">text_id</a>  <a target=\"_blank\" href=\"https://github.com/CambridgeSemiticsLab/nena_tf/blob/master/docs/features.md#text_lite\" title=\"/Users/dirk/github/CambridgeSemiticsLab/nena_tf/tf/0.02/text_lite.tf\">text_lite</a>  <a target=\"_blank\" href=\"https://github.com/CambridgeSemiticsLab/nena_tf/blob/master/docs/features.md#text_norm\" title=\"/Users/dirk/github/CambridgeSemiticsLab/nena_tf/tf/0.02/text_norm.tf\">text_norm</a>  <a target=\"_blank\" href=\"https://github.com/CambridgeSemiticsLab/nena_tf/blob/master/docs/features.md#title\" title=\"/Users/dirk/github/CambridgeSemiticsLab/nena_tf/tf/0.02/title.tf\">title</a>  <b><i><a target=\"_blank\" href=\"https://github.com/CambridgeSemiticsLab/nena_tf/blob/master/docs/features.md#oslots\" title=\"/Users/dirk/github/CambridgeSemiticsLab/nena_tf/tf/0.02/oslots.tf\">oslots</a></i></b> </p></details>"
      ],
      "text/plain": [
       "<IPython.core.display.HTML object>"
      ]
     },
     "metadata": {},
     "output_type": "display_data"
    },
    {
     "data": {
      "text/html": [
       "<style>\n",
       "@font-face {\n",
       "  font-family: \"CharisSIL-R\";\n",
       "  src:\n",
       "    local(\"CharisSIL-R.otf\"),\n",
       "    url(\"https://github.com/annotation/text-fabric/blob/master/tf/server/static/fonts/CharisSIL-R.woff?raw=true\");\n",
       "}\n",
       ".features {\n",
       "    font-family: monospace;\n",
       "    font-size: medium;\n",
       "    font-weight: normal;\n",
       "    color: #000000;\n",
       "    display: flex;\n",
       "    flex-flow: column nowrap;\n",
       "    padding: 0.1em;\n",
       "    margin: 0.1em;\n",
       "    direction: ltr;\n",
       "}\n",
       ".features div,.features span {\n",
       "    padding: 0;\n",
       "    margin: -0.1rem 0;\n",
       "}\n",
       ".features .f {\n",
       "    font-family: sans-serif;\n",
       "    font-size: x-small;\n",
       "    font-weight: normal;\n",
       "    color: #5555bb;\n",
       "}\n",
       ".features .xft {\n",
       "  color: #000000;\n",
       "  background-color: #eeeeee;\n",
       "  font-size: medium;\n",
       "  margin: 0.1em 0em;\n",
       "}\n",
       ".features .xft .f {\n",
       "  color: #000000;\n",
       "  background-color: #eeeeee;\n",
       "  font-style: italic;\n",
       "  font-size: x-small;\n",
       "  font-weight: normal;\n",
       "}\n",
       "\n",
       ".ll {\n",
       "    display: flex;\n",
       "    flex-flow: column nowrap;\n",
       "    justify-content: flex-end;\n",
       "    align-items: flex-end;\n",
       "    direction: ltr;\n",
       "    width: 100%;\n",
       "}\n",
       "\n",
       ".outeritem {\n",
       "    display: flex;\n",
       "    flex-flow: row wrap;\n",
       "    direction: ltr;\n",
       "}\n",
       "\n",
       ".stress,.word,.letter,.macro {\n",
       "    border-radius: 0.2em;\n",
       "    border-spacing: 5px;\n",
       "    padding: 0.1em;\n",
       "    margin: 0.4em;\n",
       "    display: flex;\n",
       "    flex-flow: row wrap;\n",
       "    direction: ltr;\n",
       "    background-color: #ffffff;\n",
       "}\n",
       "\n",
       ".letter {\n",
       "    border: 1px solid #eecccc;\n",
       "}\n",
       "\n",
       ".word {\n",
       "    border: 1px solid #cc8888;\n",
       "}\n",
       "\n",
       ".stress {\n",
       "    border: 1px solid #aa4444;\n",
       "}\n",
       "\n",
       ".prosa {\n",
       "    border: 1.5px dotted #993333;\n",
       "    border-radius: 0.2em;\n",
       "    padding: 0.1em;\n",
       "    margin: 0.4em;\n",
       "    border-color: #a30404;\n",
       "    display: flex;\n",
       "    flex-flow: row wrap;\n",
       "    direction: ltr;\n",
       "    background-color: #ffffff;\n",
       "}\n",
       "\n",
       ".macro {\n",
       "    border: 2px solid #444499;\n",
       "}\n",
       "\n",
       "\n",
       ".line {\n",
       "    display: flex;\n",
       "    flex-flow: row wrap;\n",
       "    direction: ltr;\n",
       "}\n",
       "\n",
       ".ln {\n",
       "  font-size: small !important;\n",
       "  padding-right: 1em;\n",
       "}\n",
       "\n",
       ".nd {\n",
       "    font-family: monospace;\n",
       "    font-size: x-small;\n",
       "    color: #999999;\n",
       "}\n",
       "\n",
       ".hl {\n",
       "    background-color: #ffee66;\n",
       "}\n",
       "\n",
       ".ara,.ara a:visited,.ara a:link {\n",
       "    font-family: \"CharisSIL-R\";\n",
       "    font-size: 12pt;\n",
       "    color: #000000;\n",
       "    direction: ltr;\n",
       "    text-decoration: none;\n",
       "}\n",
       "\n",
       "/* What do the following classes do? */\n",
       "\n",
       ".tr,.tr a:visited,.tr a:link {\n",
       "    font-family: sans-serif;\n",
       "    font-size: large;\n",
       "    color: #000044;\n",
       "    direction: ltr;\n",
       "    text-decoration: none;\n",
       "}\n",
       ".trb,.trb a:visited,.trb a:link {\n",
       "    font-family: sans-serif;\n",
       "    font-size: normal;\n",
       "    direction: ltr;\n",
       "    text-decoration: none;\n",
       "}\n",
       "\n",
       ".occs {\n",
       "    font-size: x-small;\n",
       "}\n",
       "\n",
       "tr.tf, td.tf, th.tf {\n",
       "  text-align: left;\n",
       "}\n",
       "\n",
       "span.hldot {\n",
       "\tbackground-color: var(--hl-strong);\n",
       "\tborder: 0.2rem solid var(--hl-rim);\n",
       "\tborder-radius: 0.4rem;\n",
       "\t/*\n",
       "\tdisplay: inline-block;\n",
       "\twidth: 0.8rem;\n",
       "\theight: 0.8rem;\n",
       "\t*/\n",
       "}\n",
       "span.hl {\n",
       "\tbackground-color: var(--hl-strong);\n",
       "\tborder-width: 0;\n",
       "\tborder-radius: 0.1rem;\n",
       "\tborder-style: solid;\n",
       "}\n",
       "\n",
       "span.hlup {\n",
       "\tborder-color: var(--hl-dark);\n",
       "\tborder-width: 0.1rem;\n",
       "\tborder-style: solid;\n",
       "\tborder-radius: 0.2rem;\n",
       "  padding: 0.2rem;\n",
       "}\n",
       "\n",
       ":root {\n",
       "\t--hl-strong:        hsla( 60, 100%,  70%, 0.9  );\n",
       "\t--hl-rim:           hsla( 55, 100%,  60%, 0.9  );\n",
       "\t--hl-dark:          hsla( 55, 100%,  40%, 0.9  );\n",
       "}\n",
       "</style>"
      ],
      "text/plain": [
       "<IPython.core.display.HTML object>"
      ]
     },
     "metadata": {},
     "output_type": "display_data"
    },
    {
     "data": {
      "text/html": [
       "<details open><summary><b>API members</b>:</summary>\n",
       "<a target=\"_blank\" href=\"https://annotation.github.io/text-fabric/Api/Computed/#computed-data\" title=\"doc\">C Computed</a>, <a target=\"_blank\" href=\"https://annotation.github.io/text-fabric/Api/Computed/#computed-data\" title=\"doc\">Call AllComputeds</a>, <a target=\"_blank\" href=\"https://annotation.github.io/text-fabric/Api/Computed/#computed-data\" title=\"doc\">Cs ComputedString</a><br/>\n",
       "<a target=\"_blank\" href=\"https://annotation.github.io/text-fabric/Api/Features/#edge-features\" title=\"doc\">E Edge</a>, <a target=\"_blank\" href=\"https://annotation.github.io/text-fabric/Api/Features/#edge-features\" title=\"doc\">Eall AllEdges</a>, <a target=\"_blank\" href=\"https://annotation.github.io/text-fabric/Api/Features/#edge-features\" title=\"doc\">Es EdgeString</a><br/>\n",
       "<a target=\"_blank\" href=\"https://annotation.github.io/text-fabric/Api/Fabric/#loading\" title=\"doc\">ensureLoaded</a>, <a target=\"_blank\" href=\"https://annotation.github.io/text-fabric/Api/Fabric/#loading\" title=\"doc\">TF</a>, <a target=\"_blank\" href=\"https://annotation.github.io/text-fabric/Api/Fabric/#loading\" title=\"doc\">ignored</a>, <a target=\"_blank\" href=\"https://annotation.github.io/text-fabric/Api/Fabric/#loading\" title=\"doc\">loadLog</a><br/>\n",
       "<a target=\"_blank\" href=\"https://annotation.github.io/text-fabric/Api/Locality/#locality\" title=\"doc\">L Locality</a><br/>\n",
       "<a target=\"_blank\" href=\"https://annotation.github.io/text-fabric/Api/Misc/#messaging\" title=\"doc\">cache</a>, <a target=\"_blank\" href=\"https://annotation.github.io/text-fabric/Api/Misc/#messaging\" title=\"doc\">error</a>, <a target=\"_blank\" href=\"https://annotation.github.io/text-fabric/Api/Misc/#messaging\" title=\"doc\">indent</a>, <a target=\"_blank\" href=\"https://annotation.github.io/text-fabric/Api/Misc/#messaging\" title=\"doc\">info</a>, <a target=\"_blank\" href=\"https://annotation.github.io/text-fabric/Api/Misc/#messaging\" title=\"doc\">isSilent</a>, <a target=\"_blank\" href=\"https://annotation.github.io/text-fabric/Api/Misc/#messaging\" title=\"doc\">reset</a>, <a target=\"_blank\" href=\"https://annotation.github.io/text-fabric/Api/Misc/#messaging\" title=\"doc\">setSilent</a>, <a target=\"_blank\" href=\"https://annotation.github.io/text-fabric/Api/Misc/#messaging\" title=\"doc\">silentOff</a>, <a target=\"_blank\" href=\"https://annotation.github.io/text-fabric/Api/Misc/#messaging\" title=\"doc\">silentOn</a>, <a target=\"_blank\" href=\"https://annotation.github.io/text-fabric/Api/Misc/#messaging\" title=\"doc\">warning</a><br/>\n",
       "<a target=\"_blank\" href=\"https://annotation.github.io/text-fabric/Api/Nodes/#navigating-nodes\" title=\"doc\">N Nodes</a>, <a target=\"_blank\" href=\"https://annotation.github.io/text-fabric/Api/Nodes/#navigating-nodes\" title=\"doc\">sortKey</a>, <a target=\"_blank\" href=\"https://annotation.github.io/text-fabric/Api/Nodes/#navigating-nodes\" title=\"doc\">sortKeyTuple</a>, <a target=\"_blank\" href=\"https://annotation.github.io/text-fabric/Api/Nodes/#navigating-nodes\" title=\"doc\">otypeRank</a>, <a target=\"_blank\" href=\"https://annotation.github.io/text-fabric/Api/Nodes/#navigating-nodes\" title=\"doc\">sortNodes</a><br/>\n",
       "<a target=\"_blank\" href=\"https://annotation.github.io/text-fabric/Api/Features/#node-features\" title=\"doc\">F Feature</a>, <a target=\"_blank\" href=\"https://annotation.github.io/text-fabric/Api/Features/#node-features\" title=\"doc\">Fall AllFeatures</a>, <a target=\"_blank\" href=\"https://annotation.github.io/text-fabric/Api/Features/#node-features\" title=\"doc\">Fs FeatureString</a><br/>\n",
       "<a target=\"_blank\" href=\"https://annotation.github.io/text-fabric/Api/Search/#search\" title=\"doc\">S Search</a><br/>\n",
       "<a target=\"_blank\" href=\"https://annotation.github.io/text-fabric/Api/Text/#text\" title=\"doc\">T Text</a></details>"
      ],
      "text/plain": [
       "<IPython.core.display.HTML object>"
      ]
     },
     "metadata": {},
     "output_type": "display_data"
    }
   ],
   "source": [
    "#A = use('nena:hot', checkout='hot', hoist=globals())\n",
    "A = use('nena:clone', checkout='clone', hoist=globals())\n",
    "#A = use('nena', hoist=globals())"
   ]
  },
  {
   "cell_type": "markdown",
   "metadata": {},
   "source": [
    "We pick an example fragment with which we illustrate many ways to represent the DSS material."
   ]
  },
  {
   "cell_type": "code",
   "execution_count": 4,
   "metadata": {},
   "outputs": [],
   "source": [
    "exampleText = ('Barwar', 'Gozali and Nozali')\n",
    "f = T.nodeFromSection(exampleText)\n",
    "lines = L.d(f, otype='line')[0:10]\n",
    "sentences = L.d(f, otype='sentence')[0:10]\n",
    "words = L.d(f, otype='word')[0:100]\n",
    "letters = L.d(f, otype='letters')[0:200]"
   ]
  },
  {
   "cell_type": "markdown",
   "metadata": {},
   "source": [
    "# Text formats\n",
    "\n",
    "The TF API supports *text formats*. Text formats make selections and apply templates and styles based\n",
    "on the analysed features of the text. For example: a text-format may ignore flags or clusters, or\n",
    "format numerals in special ways.\n",
    "\n",
    "Text formats are not baked into TF, but they are defined in the feature `otext` of the corpus.\n",
    "\n",
    "Moreover, for this corpus a TF app has been build that defines additional text-formats.\n",
    "\n",
    "Whereas the formats defined in `otext` are strictly plain text formats, the formats\n",
    "defined in the app are able to use typographic styles to shape the text, such as bold, italic, colors, etc.\n",
    "\n",
    "Here is the list of all formats."
   ]
  },
  {
   "cell_type": "code",
   "execution_count": 5,
   "metadata": {},
   "outputs": [
    {
     "data": {
      "text/plain": [
       "{'text-orig-full': 'word',\n",
       " 'text-orig-lite': 'word',\n",
       " 'text-trans-full': 'word',\n",
       " 'text-trans-fuzzy': 'word',\n",
       " 'text-trans-lite': 'word'}"
      ]
     },
     "execution_count": 5,
     "metadata": {},
     "output_type": "execute_result"
    }
   ],
   "source": [
    "T.formats"
   ]
  },
  {
   "cell_type": "markdown",
   "metadata": {},
   "source": [
    "## Plain text formats\n",
    "\n",
    "The formats whose names start with `text-` are the plain text formats.\n",
    "\n",
    "### `text-orig-full`\n",
    "\n",
    "This is the plain Hebrew text of the transcriptions, without text-critical signs and brackets.\n",
    "\n",
    "This is the default format. We do not have to specify it."
   ]
  },
  {
   "cell_type": "code",
   "execution_count": 6,
   "metadata": {},
   "outputs": [
    {
     "data": {
      "text/html": [
       "<a href=\"https://github.com/CambridgeSemiticsLab/nena_corpus/blob/master/nena/0.02/Barwar/Gozali and Nozali.nena\" title=\"see this passage in its source document\" sec=\"Barwar, Gozali and Nozali, Ln. 1\">Barwar, Gozali and Nozali, Ln. 1</a>&nbsp;<span class=\"ara\">ʾána šmíyənwa xa-tunìθaˈ y-amríwala gozáli ʾu-nozàli,ˈ šə́mma díya yáʿni tuníθət gozáli ʾu-nozàli.ˈ </span>"
      ],
      "text/plain": [
       "<IPython.core.display.HTML object>"
      ]
     },
     "metadata": {},
     "output_type": "display_data"
    },
    {
     "data": {
      "text/html": [
       "<a href=\"https://github.com/CambridgeSemiticsLab/nena_corpus/blob/master/nena/0.02/Barwar/Gozali and Nozali.nena\" title=\"see this passage in its source document\" sec=\"Barwar, Gozali and Nozali, Ln. 1\">Barwar, Gozali and Nozali, Ln. 1</a>&nbsp;<span class=\"ara\">dáx ʾiwáwa ʾàyya?ˈ </span>"
      ],
      "text/plain": [
       "<IPython.core.display.HTML object>"
      ]
     },
     "metadata": {},
     "output_type": "display_data"
    },
    {
     "data": {
      "text/html": [
       "<a href=\"https://github.com/CambridgeSemiticsLab/nena_corpus/blob/master/nena/0.02/Barwar/Gozali and Nozali.nena\" title=\"see this passage in its source document\" sec=\"Barwar, Gozali and Nozali, Ln. 1\">Barwar, Gozali and Nozali, Ln. 1</a>&nbsp;<span class=\"ara\">ʾi-mšárəxwa tuníθa y-amrìwaˈ </span>"
      ],
      "text/plain": [
       "<IPython.core.display.HTML object>"
      ]
     },
     "metadata": {},
     "output_type": "display_data"
    },
    {
     "data": {
      "text/html": [
       "<a href=\"https://github.com/CambridgeSemiticsLab/nena_corpus/blob/master/nena/0.02/Barwar/Gozali and Nozali.nena\" title=\"see this passage in its source document\" sec=\"Barwar, Gozali and Nozali, Ln. 2\">Barwar, Gozali and Nozali, Ln. 2</a>&nbsp;<span class=\"ara\">ʾíθwa-w lìθwaˈ bíš m-álaha gòṛaˈ líθwa gòṛaˈ hič-nàša.ˈ </span>"
      ],
      "text/plain": [
       "<IPython.core.display.HTML object>"
      ]
     },
     "metadata": {},
     "output_type": "display_data"
    },
    {
     "data": {
      "text/html": [
       "<a href=\"https://github.com/CambridgeSemiticsLab/nena_corpus/blob/master/nena/0.02/Barwar/Gozali and Nozali.nena\" title=\"see this passage in its source document\" sec=\"Barwar, Gozali and Nozali, Ln. 2\">Barwar, Gozali and Nozali, Ln. 2</a>&nbsp;<span class=\"ara\">bas-ʾíθwa xá malkàˈ ʾíθwale xa-bròna.ˈ </span>"
      ],
      "text/plain": [
       "<IPython.core.display.HTML object>"
      ]
     },
     "metadata": {},
     "output_type": "display_data"
    },
    {
     "data": {
      "text/html": [
       "<a href=\"https://github.com/CambridgeSemiticsLab/nena_corpus/blob/master/nena/0.02/Barwar/Gozali and Nozali.nena\" title=\"see this passage in its source document\" sec=\"Barwar, Gozali and Nozali, Ln. 2\">Barwar, Gozali and Nozali, Ln. 2</a>&nbsp;<span class=\"ara\">ʾáw malkàˈ rába bắyewale ʾaw-bróne dìye.ˈ </span>"
      ],
      "text/plain": [
       "<IPython.core.display.HTML object>"
      ]
     },
     "metadata": {},
     "output_type": "display_data"
    },
    {
     "data": {
      "text/html": [
       "<a href=\"https://github.com/CambridgeSemiticsLab/nena_corpus/blob/master/nena/0.02/Barwar/Gozali and Nozali.nena\" title=\"see this passage in its source document\" sec=\"Barwar, Gozali and Nozali, Ln. 2\">Barwar, Gozali and Nozali, Ln. 2</a>&nbsp;<span class=\"ara\">ʾu-ṭábʿan màlkaˈ bróne díye páyəš šàwpe díye.ˈ </span>"
      ],
      "text/plain": [
       "<IPython.core.display.HTML object>"
      ]
     },
     "metadata": {},
     "output_type": "display_data"
    },
    {
     "data": {
      "text/html": [
       "<a href=\"https://github.com/CambridgeSemiticsLab/nena_corpus/blob/master/nena/0.02/Barwar/Gozali and Nozali.nena\" title=\"see this passage in its source document\" sec=\"Barwar, Gozali and Nozali, Ln. 2\">Barwar, Gozali and Nozali, Ln. 2</a>&nbsp;<span class=\"ara\">ʾíman-t málka ʾi-màyəθ,ˈ ʾíman-t páyəš gòṛaˈ bróna díye šáqəl šáwpe dìyeˈ bar-d-àw.ˈ </span>"
      ],
      "text/plain": [
       "<IPython.core.display.HTML object>"
      ]
     },
     "metadata": {},
     "output_type": "display_data"
    },
    {
     "data": {
      "text/html": [
       "<a href=\"https://github.com/CambridgeSemiticsLab/nena_corpus/blob/master/nena/0.02/Barwar/Gozali and Nozali.nena\" title=\"see this passage in its source document\" sec=\"Barwar, Gozali and Nozali, Ln. 3\">Barwar, Gozali and Nozali, Ln. 3</a>&nbsp;<span class=\"ara\">ʾɛ́-ga xa-yóma málka dmíxa-wewa b-lɛ̀le,ˈ dmìxa wéwa,ˈ ʾu-xzéle b-xə́lme dìyeˈ ʾíθ xa-náša gu-d-áy mðìtaˈ biš-făqíra m-kúlla nàša.ˈ </span>"
      ],
      "text/plain": [
       "<IPython.core.display.HTML object>"
      ]
     },
     "metadata": {},
     "output_type": "display_data"
    },
    {
     "data": {
      "text/html": [
       "<a href=\"https://github.com/CambridgeSemiticsLab/nena_corpus/blob/master/nena/0.02/Barwar/Gozali and Nozali.nena\" title=\"see this passage in its source document\" sec=\"Barwar, Gozali and Nozali, Ln. 3\">Barwar, Gozali and Nozali, Ln. 3</a>&nbsp;<span class=\"ara\">rába făqìra-wewa ʾawwa-náša.ˈ </span>"
      ],
      "text/plain": [
       "<IPython.core.display.HTML object>"
      ]
     },
     "metadata": {},
     "output_type": "display_data"
    }
   ],
   "source": [
    "for s in sentences:\n",
    "  A.plain(s)"
   ]
  },
  {
   "cell_type": "markdown",
   "metadata": {},
   "source": [
    "The `plain()` function focuses on the *contents*, and instead of the line number, it gives a full specification\n",
    "of the location in the GitHub repo for NENA.\n",
    "\n",
    "But we can omit the locations:"
   ]
  },
  {
   "cell_type": "code",
   "execution_count": 7,
   "metadata": {},
   "outputs": [
    {
     "data": {
      "text/html": [
       "<span class=\"ara\"><a href=\"https://github.com/CambridgeSemiticsLab/nena_corpus/blob/master/nena/0.02/Barwar/Gozali and Nozali.nena\" title=\"Barwar, Gozali and Nozali, Ln. 1\" sec=\"Barwar, Gozali and Nozali, Ln. 1\">ʾána šmíyənwa xa-tunìθaˈ y-amríwala gozáli ʾu-nozàli,ˈ šə́mma díya yáʿni tuníθət gozáli ʾu-nozàli.ˈ </a></span>"
      ],
      "text/plain": [
       "<IPython.core.display.HTML object>"
      ]
     },
     "metadata": {},
     "output_type": "display_data"
    },
    {
     "data": {
      "text/html": [
       "<span class=\"ara\"><a href=\"https://github.com/CambridgeSemiticsLab/nena_corpus/blob/master/nena/0.02/Barwar/Gozali and Nozali.nena\" title=\"Barwar, Gozali and Nozali, Ln. 1\" sec=\"Barwar, Gozali and Nozali, Ln. 1\">dáx ʾiwáwa ʾàyya?ˈ </a></span>"
      ],
      "text/plain": [
       "<IPython.core.display.HTML object>"
      ]
     },
     "metadata": {},
     "output_type": "display_data"
    },
    {
     "data": {
      "text/html": [
       "<span class=\"ara\"><a href=\"https://github.com/CambridgeSemiticsLab/nena_corpus/blob/master/nena/0.02/Barwar/Gozali and Nozali.nena\" title=\"Barwar, Gozali and Nozali, Ln. 1\" sec=\"Barwar, Gozali and Nozali, Ln. 1\">ʾi-mšárəxwa tuníθa y-amrìwaˈ </a></span>"
      ],
      "text/plain": [
       "<IPython.core.display.HTML object>"
      ]
     },
     "metadata": {},
     "output_type": "display_data"
    },
    {
     "data": {
      "text/html": [
       "<span class=\"ara\"><a href=\"https://github.com/CambridgeSemiticsLab/nena_corpus/blob/master/nena/0.02/Barwar/Gozali and Nozali.nena\" title=\"Barwar, Gozali and Nozali, Ln. 2\" sec=\"Barwar, Gozali and Nozali, Ln. 2\">ʾíθwa-w lìθwaˈ bíš m-álaha gòṛaˈ líθwa gòṛaˈ hič-nàša.ˈ </a></span>"
      ],
      "text/plain": [
       "<IPython.core.display.HTML object>"
      ]
     },
     "metadata": {},
     "output_type": "display_data"
    },
    {
     "data": {
      "text/html": [
       "<span class=\"ara\"><a href=\"https://github.com/CambridgeSemiticsLab/nena_corpus/blob/master/nena/0.02/Barwar/Gozali and Nozali.nena\" title=\"Barwar, Gozali and Nozali, Ln. 2\" sec=\"Barwar, Gozali and Nozali, Ln. 2\">bas-ʾíθwa xá malkàˈ ʾíθwale xa-bròna.ˈ </a></span>"
      ],
      "text/plain": [
       "<IPython.core.display.HTML object>"
      ]
     },
     "metadata": {},
     "output_type": "display_data"
    },
    {
     "data": {
      "text/html": [
       "<span class=\"ara\"><a href=\"https://github.com/CambridgeSemiticsLab/nena_corpus/blob/master/nena/0.02/Barwar/Gozali and Nozali.nena\" title=\"Barwar, Gozali and Nozali, Ln. 2\" sec=\"Barwar, Gozali and Nozali, Ln. 2\">ʾáw malkàˈ rába bắyewale ʾaw-bróne dìye.ˈ </a></span>"
      ],
      "text/plain": [
       "<IPython.core.display.HTML object>"
      ]
     },
     "metadata": {},
     "output_type": "display_data"
    },
    {
     "data": {
      "text/html": [
       "<span class=\"ara\"><a href=\"https://github.com/CambridgeSemiticsLab/nena_corpus/blob/master/nena/0.02/Barwar/Gozali and Nozali.nena\" title=\"Barwar, Gozali and Nozali, Ln. 2\" sec=\"Barwar, Gozali and Nozali, Ln. 2\">ʾu-ṭábʿan màlkaˈ bróne díye páyəš šàwpe díye.ˈ </a></span>"
      ],
      "text/plain": [
       "<IPython.core.display.HTML object>"
      ]
     },
     "metadata": {},
     "output_type": "display_data"
    },
    {
     "data": {
      "text/html": [
       "<span class=\"ara\"><a href=\"https://github.com/CambridgeSemiticsLab/nena_corpus/blob/master/nena/0.02/Barwar/Gozali and Nozali.nena\" title=\"Barwar, Gozali and Nozali, Ln. 2\" sec=\"Barwar, Gozali and Nozali, Ln. 2\">ʾíman-t málka ʾi-màyəθ,ˈ ʾíman-t páyəš gòṛaˈ bróna díye šáqəl šáwpe dìyeˈ bar-d-àw.ˈ </a></span>"
      ],
      "text/plain": [
       "<IPython.core.display.HTML object>"
      ]
     },
     "metadata": {},
     "output_type": "display_data"
    },
    {
     "data": {
      "text/html": [
       "<span class=\"ara\"><a href=\"https://github.com/CambridgeSemiticsLab/nena_corpus/blob/master/nena/0.02/Barwar/Gozali and Nozali.nena\" title=\"Barwar, Gozali and Nozali, Ln. 3\" sec=\"Barwar, Gozali and Nozali, Ln. 3\">ʾɛ́-ga xa-yóma málka dmíxa-wewa b-lɛ̀le,ˈ dmìxa wéwa,ˈ ʾu-xzéle b-xə́lme dìyeˈ ʾíθ xa-náša gu-d-áy mðìtaˈ biš-făqíra m-kúlla nàša.ˈ </a></span>"
      ],
      "text/plain": [
       "<IPython.core.display.HTML object>"
      ]
     },
     "metadata": {},
     "output_type": "display_data"
    },
    {
     "data": {
      "text/html": [
       "<span class=\"ara\"><a href=\"https://github.com/CambridgeSemiticsLab/nena_corpus/blob/master/nena/0.02/Barwar/Gozali and Nozali.nena\" title=\"Barwar, Gozali and Nozali, Ln. 3\" sec=\"Barwar, Gozali and Nozali, Ln. 3\">rába făqìra-wewa ʾawwa-náša.ˈ </a></span>"
      ],
      "text/plain": [
       "<IPython.core.display.HTML object>"
      ]
     },
     "metadata": {},
     "output_type": "display_data"
    }
   ],
   "source": [
    "for s in sentences:\n",
    "  A.plain(s, withPassage=False)"
   ]
  },
  {
   "cell_type": "markdown",
   "metadata": {},
   "source": [
    "### `text-trans-full`\n",
    "\n",
    "This format gives a full transcription:"
   ]
  },
  {
   "cell_type": "code",
   "execution_count": 8,
   "metadata": {},
   "outputs": [
    {
     "data": {
      "text/html": [
       "<a href=\"https://github.com/CambridgeSemiticsLab/nena_corpus/blob/master/nena/0.02/Barwar/Gozali and Nozali.nena\" title=\"see this passage in its source document\" sec=\"Barwar, Gozali and Nozali, Ln. 1\">Barwar, Gozali and Nozali, Ln. 1</a>&nbsp;<span class=\"trb\">)a'na s>mi'y9nwa xa-tuni`8a&#124; y-amri'wala goza'li )u-noza`li,&#124; s>9'mma di'ya ya'(ni tuni'89t goza'li )u-noza`li.&#124; </span>"
      ],
      "text/plain": [
       "<IPython.core.display.HTML object>"
      ]
     },
     "metadata": {},
     "output_type": "display_data"
    },
    {
     "data": {
      "text/html": [
       "<a href=\"https://github.com/CambridgeSemiticsLab/nena_corpus/blob/master/nena/0.02/Barwar/Gozali and Nozali.nena\" title=\"see this passage in its source document\" sec=\"Barwar, Gozali and Nozali, Ln. 1\">Barwar, Gozali and Nozali, Ln. 1</a>&nbsp;<span class=\"trb\">da'x )iwa'wa )a`yya?&#124; </span>"
      ],
      "text/plain": [
       "<IPython.core.display.HTML object>"
      ]
     },
     "metadata": {},
     "output_type": "display_data"
    },
    {
     "data": {
      "text/html": [
       "<a href=\"https://github.com/CambridgeSemiticsLab/nena_corpus/blob/master/nena/0.02/Barwar/Gozali and Nozali.nena\" title=\"see this passage in its source document\" sec=\"Barwar, Gozali and Nozali, Ln. 1\">Barwar, Gozali and Nozali, Ln. 1</a>&nbsp;<span class=\"trb\">)i-ms>a'r9xwa tuni'8a y-amri`wa&#124; </span>"
      ],
      "text/plain": [
       "<IPython.core.display.HTML object>"
      ]
     },
     "metadata": {},
     "output_type": "display_data"
    },
    {
     "data": {
      "text/html": [
       "<a href=\"https://github.com/CambridgeSemiticsLab/nena_corpus/blob/master/nena/0.02/Barwar/Gozali and Nozali.nena\" title=\"see this passage in its source document\" sec=\"Barwar, Gozali and Nozali, Ln. 2\">Barwar, Gozali and Nozali, Ln. 2</a>&nbsp;<span class=\"trb\">)i'8wa-w li`8wa&#124; bi's> m-a'laha go`r.a&#124; li'8wa go`r.a&#124; hic>-na`s>a.&#124; </span>"
      ],
      "text/plain": [
       "<IPython.core.display.HTML object>"
      ]
     },
     "metadata": {},
     "output_type": "display_data"
    },
    {
     "data": {
      "text/html": [
       "<a href=\"https://github.com/CambridgeSemiticsLab/nena_corpus/blob/master/nena/0.02/Barwar/Gozali and Nozali.nena\" title=\"see this passage in its source document\" sec=\"Barwar, Gozali and Nozali, Ln. 2\">Barwar, Gozali and Nozali, Ln. 2</a>&nbsp;<span class=\"trb\">bas-)i'8wa xa' malka`&#124; )i'8wale xa-bro`na.&#124; </span>"
      ],
      "text/plain": [
       "<IPython.core.display.HTML object>"
      ]
     },
     "metadata": {},
     "output_type": "display_data"
    },
    {
     "data": {
      "text/html": [
       "<a href=\"https://github.com/CambridgeSemiticsLab/nena_corpus/blob/master/nena/0.02/Barwar/Gozali and Nozali.nena\" title=\"see this passage in its source document\" sec=\"Barwar, Gozali and Nozali, Ln. 2\">Barwar, Gozali and Nozali, Ln. 2</a>&nbsp;<span class=\"trb\">)a'w malka`&#124; ra'ba ba%'yewale )aw-bro'ne di`ye.&#124; </span>"
      ],
      "text/plain": [
       "<IPython.core.display.HTML object>"
      ]
     },
     "metadata": {},
     "output_type": "display_data"
    },
    {
     "data": {
      "text/html": [
       "<a href=\"https://github.com/CambridgeSemiticsLab/nena_corpus/blob/master/nena/0.02/Barwar/Gozali and Nozali.nena\" title=\"see this passage in its source document\" sec=\"Barwar, Gozali and Nozali, Ln. 2\">Barwar, Gozali and Nozali, Ln. 2</a>&nbsp;<span class=\"trb\">)u-ta'b(an ma`lka&#124; bro'ne di'ye pa'y9s> s>a`wpe di'ye.&#124; </span>"
      ],
      "text/plain": [
       "<IPython.core.display.HTML object>"
      ]
     },
     "metadata": {},
     "output_type": "display_data"
    },
    {
     "data": {
      "text/html": [
       "<a href=\"https://github.com/CambridgeSemiticsLab/nena_corpus/blob/master/nena/0.02/Barwar/Gozali and Nozali.nena\" title=\"see this passage in its source document\" sec=\"Barwar, Gozali and Nozali, Ln. 2\">Barwar, Gozali and Nozali, Ln. 2</a>&nbsp;<span class=\"trb\">)i'man-t ma'lka )i-ma`y98,&#124; )i'man-t pa'y9s> go`r.a&#124; bro'na di'ye s>a'q9l s>a'wpe di`ye&#124; bar-d-a`w.&#124; </span>"
      ],
      "text/plain": [
       "<IPython.core.display.HTML object>"
      ]
     },
     "metadata": {},
     "output_type": "display_data"
    },
    {
     "data": {
      "text/html": [
       "<a href=\"https://github.com/CambridgeSemiticsLab/nena_corpus/blob/master/nena/0.02/Barwar/Gozali and Nozali.nena\" title=\"see this passage in its source document\" sec=\"Barwar, Gozali and Nozali, Ln. 3\">Barwar, Gozali and Nozali, Ln. 3</a>&nbsp;<span class=\"trb\">)3'-ga xa-yo'ma ma'lka dmi'xa-wewa b-l3`le,&#124; dmi`xa we'wa,&#124; )u-xze'le b-x9'lme di`ye&#124; )i'8 xa-na's>a gu-d-a'y m6i`ta&#124; bis>-fa%qi'ra m-ku'lla na`s>a.&#124; </span>"
      ],
      "text/plain": [
       "<IPython.core.display.HTML object>"
      ]
     },
     "metadata": {},
     "output_type": "display_data"
    },
    {
     "data": {
      "text/html": [
       "<a href=\"https://github.com/CambridgeSemiticsLab/nena_corpus/blob/master/nena/0.02/Barwar/Gozali and Nozali.nena\" title=\"see this passage in its source document\" sec=\"Barwar, Gozali and Nozali, Ln. 3\">Barwar, Gozali and Nozali, Ln. 3</a>&nbsp;<span class=\"trb\">ra'ba fa%qi`ra-wewa )awwa-na's>a.&#124; </span>"
      ],
      "text/plain": [
       "<IPython.core.display.HTML object>"
      ]
     },
     "metadata": {},
     "output_type": "display_data"
    }
   ],
   "source": [
    "for s in sentences:\n",
    "  A.plain(s, fmt='text-trans-full')"
   ]
  },
  {
   "cell_type": "markdown",
   "metadata": {},
   "source": [
    "### `text-trans-fuzzy`\n",
    "\n",
    "This format gives a fuzzy transcription:"
   ]
  },
  {
   "cell_type": "code",
   "execution_count": 9,
   "metadata": {},
   "outputs": [
    {
     "data": {
      "text/html": [
       "<a href=\"https://github.com/CambridgeSemiticsLab/nena_corpus/blob/master/nena/0.02/Barwar/Gozali and Nozali.nena\" title=\"see this passage in its source document\" sec=\"Barwar, Gozali and Nozali, Ln. 1\">Barwar, Gozali and Nozali, Ln. 1</a>&nbsp;<span class=\"trb\">ana smiyinwa xa-tunita y-amriwala gozali u-nozali, simma diya yani tunitit gozali u-nozali. </span>"
      ],
      "text/plain": [
       "<IPython.core.display.HTML object>"
      ]
     },
     "metadata": {},
     "output_type": "display_data"
    },
    {
     "data": {
      "text/html": [
       "<a href=\"https://github.com/CambridgeSemiticsLab/nena_corpus/blob/master/nena/0.02/Barwar/Gozali and Nozali.nena\" title=\"see this passage in its source document\" sec=\"Barwar, Gozali and Nozali, Ln. 1\">Barwar, Gozali and Nozali, Ln. 1</a>&nbsp;<span class=\"trb\">dax iwawa ayya? </span>"
      ],
      "text/plain": [
       "<IPython.core.display.HTML object>"
      ]
     },
     "metadata": {},
     "output_type": "display_data"
    },
    {
     "data": {
      "text/html": [
       "<a href=\"https://github.com/CambridgeSemiticsLab/nena_corpus/blob/master/nena/0.02/Barwar/Gozali and Nozali.nena\" title=\"see this passage in its source document\" sec=\"Barwar, Gozali and Nozali, Ln. 1\">Barwar, Gozali and Nozali, Ln. 1</a>&nbsp;<span class=\"trb\">i-msarixwa tunita y-amriwa </span>"
      ],
      "text/plain": [
       "<IPython.core.display.HTML object>"
      ]
     },
     "metadata": {},
     "output_type": "display_data"
    },
    {
     "data": {
      "text/html": [
       "<a href=\"https://github.com/CambridgeSemiticsLab/nena_corpus/blob/master/nena/0.02/Barwar/Gozali and Nozali.nena\" title=\"see this passage in its source document\" sec=\"Barwar, Gozali and Nozali, Ln. 2\">Barwar, Gozali and Nozali, Ln. 2</a>&nbsp;<span class=\"trb\">itwa-w litwa bis m-alaha gora litwa gora hi5-nasa. </span>"
      ],
      "text/plain": [
       "<IPython.core.display.HTML object>"
      ]
     },
     "metadata": {},
     "output_type": "display_data"
    },
    {
     "data": {
      "text/html": [
       "<a href=\"https://github.com/CambridgeSemiticsLab/nena_corpus/blob/master/nena/0.02/Barwar/Gozali and Nozali.nena\" title=\"see this passage in its source document\" sec=\"Barwar, Gozali and Nozali, Ln. 2\">Barwar, Gozali and Nozali, Ln. 2</a>&nbsp;<span class=\"trb\">bas-itwa xa malka itwale xa-brona. </span>"
      ],
      "text/plain": [
       "<IPython.core.display.HTML object>"
      ]
     },
     "metadata": {},
     "output_type": "display_data"
    },
    {
     "data": {
      "text/html": [
       "<a href=\"https://github.com/CambridgeSemiticsLab/nena_corpus/blob/master/nena/0.02/Barwar/Gozali and Nozali.nena\" title=\"see this passage in its source document\" sec=\"Barwar, Gozali and Nozali, Ln. 2\">Barwar, Gozali and Nozali, Ln. 2</a>&nbsp;<span class=\"trb\">aw malka raba bayewale aw-brone diye. </span>"
      ],
      "text/plain": [
       "<IPython.core.display.HTML object>"
      ]
     },
     "metadata": {},
     "output_type": "display_data"
    },
    {
     "data": {
      "text/html": [
       "<a href=\"https://github.com/CambridgeSemiticsLab/nena_corpus/blob/master/nena/0.02/Barwar/Gozali and Nozali.nena\" title=\"see this passage in its source document\" sec=\"Barwar, Gozali and Nozali, Ln. 2\">Barwar, Gozali and Nozali, Ln. 2</a>&nbsp;<span class=\"trb\">u-taban malka brone diye payis sawpe diye. </span>"
      ],
      "text/plain": [
       "<IPython.core.display.HTML object>"
      ]
     },
     "metadata": {},
     "output_type": "display_data"
    },
    {
     "data": {
      "text/html": [
       "<a href=\"https://github.com/CambridgeSemiticsLab/nena_corpus/blob/master/nena/0.02/Barwar/Gozali and Nozali.nena\" title=\"see this passage in its source document\" sec=\"Barwar, Gozali and Nozali, Ln. 2\">Barwar, Gozali and Nozali, Ln. 2</a>&nbsp;<span class=\"trb\">iman-t malka i-mayit, iman-t payis gora brona diye saqil sawpe diye bar-d-aw. </span>"
      ],
      "text/plain": [
       "<IPython.core.display.HTML object>"
      ]
     },
     "metadata": {},
     "output_type": "display_data"
    },
    {
     "data": {
      "text/html": [
       "<a href=\"https://github.com/CambridgeSemiticsLab/nena_corpus/blob/master/nena/0.02/Barwar/Gozali and Nozali.nena\" title=\"see this passage in its source document\" sec=\"Barwar, Gozali and Nozali, Ln. 3\">Barwar, Gozali and Nozali, Ln. 3</a>&nbsp;<span class=\"trb\">e-ga xa-yoma malka dmixa-wewa b-lele, dmixa wewa, u-xzele b-xilme diye it xa-nasa gu-d-ay mdita bis-faqira m-kulla nasa. </span>"
      ],
      "text/plain": [
       "<IPython.core.display.HTML object>"
      ]
     },
     "metadata": {},
     "output_type": "display_data"
    },
    {
     "data": {
      "text/html": [
       "<a href=\"https://github.com/CambridgeSemiticsLab/nena_corpus/blob/master/nena/0.02/Barwar/Gozali and Nozali.nena\" title=\"see this passage in its source document\" sec=\"Barwar, Gozali and Nozali, Ln. 3\">Barwar, Gozali and Nozali, Ln. 3</a>&nbsp;<span class=\"trb\">raba faqira-wewa awwa-nasa. </span>"
      ],
      "text/plain": [
       "<IPython.core.display.HTML object>"
      ]
     },
     "metadata": {},
     "output_type": "display_data"
    }
   ],
   "source": [
    "for s in sentences:\n",
    "  A.plain(s, fmt='text-trans-fuzzy')"
   ]
  },
  {
   "cell_type": "markdown",
   "metadata": {},
   "source": [
    "### `text-trans-lite`\n",
    "\n",
    "This format gives a light transcription:"
   ]
  },
  {
   "cell_type": "code",
   "execution_count": 10,
   "metadata": {},
   "outputs": [
    {
     "data": {
      "text/html": [
       "<a href=\"https://github.com/CambridgeSemiticsLab/nena_corpus/blob/master/nena/0.02/Barwar/Gozali and Nozali.nena\" title=\"see this passage in its source document\" sec=\"Barwar, Gozali and Nozali, Ln. 1\">Barwar, Gozali and Nozali, Ln. 1</a>&nbsp;<span class=\"trb\">)ana <span>$</span>miy9nwa xa-tuni8a&#124; y-amriwala gozali )u-nozali,&#124; <span>$</span>9mma diya ya(ni tuni89t gozali )u-nozali.&#124; </span>"
      ],
      "text/plain": [
       "<IPython.core.display.HTML object>"
      ]
     },
     "metadata": {},
     "output_type": "display_data"
    },
    {
     "data": {
      "text/html": [
       "<a href=\"https://github.com/CambridgeSemiticsLab/nena_corpus/blob/master/nena/0.02/Barwar/Gozali and Nozali.nena\" title=\"see this passage in its source document\" sec=\"Barwar, Gozali and Nozali, Ln. 1\">Barwar, Gozali and Nozali, Ln. 1</a>&nbsp;<span class=\"trb\">dax )iwawa )ayya?&#124; </span>"
      ],
      "text/plain": [
       "<IPython.core.display.HTML object>"
      ]
     },
     "metadata": {},
     "output_type": "display_data"
    },
    {
     "data": {
      "text/html": [
       "<a href=\"https://github.com/CambridgeSemiticsLab/nena_corpus/blob/master/nena/0.02/Barwar/Gozali and Nozali.nena\" title=\"see this passage in its source document\" sec=\"Barwar, Gozali and Nozali, Ln. 1\">Barwar, Gozali and Nozali, Ln. 1</a>&nbsp;<span class=\"trb\">)i-m<span>$</span>ar9xwa tuni8a y-amriwa&#124; </span>"
      ],
      "text/plain": [
       "<IPython.core.display.HTML object>"
      ]
     },
     "metadata": {},
     "output_type": "display_data"
    },
    {
     "data": {
      "text/html": [
       "<a href=\"https://github.com/CambridgeSemiticsLab/nena_corpus/blob/master/nena/0.02/Barwar/Gozali and Nozali.nena\" title=\"see this passage in its source document\" sec=\"Barwar, Gozali and Nozali, Ln. 2\">Barwar, Gozali and Nozali, Ln. 2</a>&nbsp;<span class=\"trb\">)i8wa-w li8wa&#124; bi<span>$</span> m-alaha goRa&#124; li8wa goRa&#124; hi5-na<span>$</span>a.&#124; </span>"
      ],
      "text/plain": [
       "<IPython.core.display.HTML object>"
      ]
     },
     "metadata": {},
     "output_type": "display_data"
    },
    {
     "data": {
      "text/html": [
       "<a href=\"https://github.com/CambridgeSemiticsLab/nena_corpus/blob/master/nena/0.02/Barwar/Gozali and Nozali.nena\" title=\"see this passage in its source document\" sec=\"Barwar, Gozali and Nozali, Ln. 2\">Barwar, Gozali and Nozali, Ln. 2</a>&nbsp;<span class=\"trb\">bas-)i8wa xa malka&#124; )i8wale xa-brona.&#124; </span>"
      ],
      "text/plain": [
       "<IPython.core.display.HTML object>"
      ]
     },
     "metadata": {},
     "output_type": "display_data"
    },
    {
     "data": {
      "text/html": [
       "<a href=\"https://github.com/CambridgeSemiticsLab/nena_corpus/blob/master/nena/0.02/Barwar/Gozali and Nozali.nena\" title=\"see this passage in its source document\" sec=\"Barwar, Gozali and Nozali, Ln. 2\">Barwar, Gozali and Nozali, Ln. 2</a>&nbsp;<span class=\"trb\">)aw malka&#124; raba b@yewale )aw-brone diye.&#124; </span>"
      ],
      "text/plain": [
       "<IPython.core.display.HTML object>"
      ]
     },
     "metadata": {},
     "output_type": "display_data"
    },
    {
     "data": {
      "text/html": [
       "<a href=\"https://github.com/CambridgeSemiticsLab/nena_corpus/blob/master/nena/0.02/Barwar/Gozali and Nozali.nena\" title=\"see this passage in its source document\" sec=\"Barwar, Gozali and Nozali, Ln. 2\">Barwar, Gozali and Nozali, Ln. 2</a>&nbsp;<span class=\"trb\">)u-Tab(an malka&#124; brone diye pay9<span>$</span> <span>$</span>awpe diye.&#124; </span>"
      ],
      "text/plain": [
       "<IPython.core.display.HTML object>"
      ]
     },
     "metadata": {},
     "output_type": "display_data"
    },
    {
     "data": {
      "text/html": [
       "<a href=\"https://github.com/CambridgeSemiticsLab/nena_corpus/blob/master/nena/0.02/Barwar/Gozali and Nozali.nena\" title=\"see this passage in its source document\" sec=\"Barwar, Gozali and Nozali, Ln. 2\">Barwar, Gozali and Nozali, Ln. 2</a>&nbsp;<span class=\"trb\">)iman-t malka )i-may98,&#124; )iman-t pay9<span>$</span> goRa&#124; brona diye <span>$</span>aq9l <span>$</span>awpe diye&#124; bar-d-aw.&#124; </span>"
      ],
      "text/plain": [
       "<IPython.core.display.HTML object>"
      ]
     },
     "metadata": {},
     "output_type": "display_data"
    },
    {
     "data": {
      "text/html": [
       "<a href=\"https://github.com/CambridgeSemiticsLab/nena_corpus/blob/master/nena/0.02/Barwar/Gozali and Nozali.nena\" title=\"see this passage in its source document\" sec=\"Barwar, Gozali and Nozali, Ln. 3\">Barwar, Gozali and Nozali, Ln. 3</a>&nbsp;<span class=\"trb\">)3-ga xa-yoma malka dmixa-wewa b-l3le,&#124; dmixa wewa,&#124; )u-xzele b-x9lme diye&#124; )i8 xa-na<span>$</span>a gu-d-ay m6ita&#124; bi<span>$</span>-f@qira m-kulla na<span>$</span>a.&#124; </span>"
      ],
      "text/plain": [
       "<IPython.core.display.HTML object>"
      ]
     },
     "metadata": {},
     "output_type": "display_data"
    },
    {
     "data": {
      "text/html": [
       "<a href=\"https://github.com/CambridgeSemiticsLab/nena_corpus/blob/master/nena/0.02/Barwar/Gozali and Nozali.nena\" title=\"see this passage in its source document\" sec=\"Barwar, Gozali and Nozali, Ln. 3\">Barwar, Gozali and Nozali, Ln. 3</a>&nbsp;<span class=\"trb\">raba f@qira-wewa )awwa-na<span>$</span>a.&#124; </span>"
      ],
      "text/plain": [
       "<IPython.core.display.HTML object>"
      ]
     },
     "metadata": {},
     "output_type": "display_data"
    }
   ],
   "source": [
    "for s in sentences:\n",
    "  A.plain(s, fmt='text-trans-lite')"
   ]
  },
  {
   "cell_type": "markdown",
   "metadata": {},
   "source": [
    "Or, if you want to see all the marks:"
   ]
  },
  {
   "cell_type": "code",
   "execution_count": 11,
   "metadata": {},
   "outputs": [
    {
     "data": {
      "text/plain": [
       "594970"
      ]
     },
     "execution_count": 11,
     "metadata": {},
     "output_type": "execute_result"
    }
   ],
   "source": [
    "stress1 = F.otype.s('stress')[0]\n",
    "stress1"
   ]
  },
  {
   "cell_type": "code",
   "execution_count": 12,
   "metadata": {},
   "outputs": [
    {
     "data": {
      "text/html": [
       "<a href=\"https://github.com/CambridgeSemiticsLab/nena_corpus/blob/master/nena/0.02/Barwar/A Hundred Gold Coins.nena\" title=\"see this passage in its source document\" sec=\"Barwar, A Hundred Gold Coins, Ln. 1\">Barwar, A Hundred Gold Coins, Ln. 1</a>&nbsp;<span class=\"ara\">xá-ga </span>"
      ],
      "text/plain": [
       "<IPython.core.display.HTML object>"
      ]
     },
     "metadata": {},
     "output_type": "display_data"
    }
   ],
   "source": [
    "A.plain(stress1)"
   ]
  },
  {
   "cell_type": "markdown",
   "metadata": {},
   "source": [
    "# Pretty\n",
    "\n",
    "The ultimate of graphical display is by means of the `pretty()` function.\n",
    "\n",
    "This display is less useful for reading, but instead optimized for showing all information that you might\n",
    "wish for.\n",
    "\n",
    "It shows a base representation according to a text format of your choice\n",
    "(here we choose `text-orig-full`), and it shows the values\n",
    "of a standard set of features."
   ]
  },
  {
   "cell_type": "code",
   "execution_count": 13,
   "metadata": {},
   "outputs": [
    {
     "data": {
      "text/html": [
       "<a href=\"https://github.com/CambridgeSemiticsLab/nena_corpus/blob/master/nena/0.02/Barwar/Gozali and Nozali.nena\" title=\"see this passage in its source document\" sec=\"Barwar, Gozali and Nozali, Ln. 1\">Barwar, Gozali and Nozali, Ln. 1</a>\n",
       "<div class=\"outeritem\">\n",
       "<div class=\"macro  \" >\n",
       "\n",
       "<div class=\"prosa  \" >\n",
       "\n",
       "<div class=\"stress  \" >\n",
       "<div class=\"ara\">ʾána </div>\n",
       "\n",
       "</div>\n",
       "<div class=\"stress  \" >\n",
       "<div class=\"ara\">šmíyənwa </div>\n",
       "\n",
       "</div>\n",
       "<div class=\"stress  \" >\n",
       "<div class=\"ara\">xa-tunìθaˈ </div>\n",
       "\n",
       "</div>\n",
       "</div>\n",
       "<div class=\"prosa  \" >\n",
       "\n",
       "<div class=\"stress  \" >\n",
       "<div class=\"ara\">y-amríwala </div>\n",
       "\n",
       "</div>\n",
       "<div class=\"stress  \" >\n",
       "<div class=\"ara\">gozáli </div>\n",
       "\n",
       "</div>\n",
       "<div class=\"stress  \" >\n",
       "<div class=\"ara\">ʾu-nozàli,ˈ </div>\n",
       "\n",
       "</div>\n",
       "</div>\n",
       "<div class=\"prosa  \" >\n",
       "\n",
       "<div class=\"stress  \" >\n",
       "<div class=\"ara\">šə́mma </div>\n",
       "\n",
       "</div>\n",
       "<div class=\"stress  \" >\n",
       "<div class=\"ara\">díya </div>\n",
       "\n",
       "</div>\n",
       "<div class=\"stress  \" >\n",
       "<div class=\"ara\">yáʿni </div>\n",
       "\n",
       "</div>\n",
       "<div class=\"stress  \" >\n",
       "<div class=\"ara\">tuníθət </div>\n",
       "\n",
       "</div>\n",
       "<div class=\"stress  \" >\n",
       "<div class=\"ara\">gozáli </div>\n",
       "\n",
       "</div>\n",
       "<div class=\"stress  \" >\n",
       "<div class=\"ara\">ʾu-nozàli.ˈ </div>\n",
       "\n",
       "</div>\n",
       "</div>\n",
       "</div>\n",
       "</div>"
      ],
      "text/plain": [
       "<IPython.core.display.HTML object>"
      ]
     },
     "metadata": {},
     "output_type": "display_data"
    }
   ],
   "source": [
    "A.pretty(sentences[0], withNodes=False)"
   ]
  },
  {
   "cell_type": "markdown",
   "metadata": {},
   "source": [
    "Later on, in the [search](search.ipynb) tutorial we see that `pretty()` can also display other features,\n",
    "even features that you or other people have created and added later.\n",
    "\n",
    "Here we call for the feature `lite`, defined letters, words and stresses, which shows light transcriptions.\n",
    "\n",
    "We show it with node numbers, but you could leave them out in an obvious way."
   ]
  },
  {
   "cell_type": "code",
   "execution_count": 14,
   "metadata": {},
   "outputs": [
    {
     "data": {
      "text/html": [
       "<a href=\"https://github.com/CambridgeSemiticsLab/nena_corpus/blob/master/nena/0.02/Barwar/Gozali and Nozali.nena\" title=\"see this passage in its source document\" sec=\"Barwar, Gozali and Nozali, Ln. 1\">Barwar, Gozali and Nozali, Ln. 1</a>\n",
       "<div class=\"outeritem\">\n",
       "<div class=\"macro  \" >\n",
       "<a href=\"#\" class=\"nd\">579234</a><div class=\"features\"></div>\n",
       "<div class=\"prosa  \" >\n",
       "<a href=\"#\" class=\"nd\">541194</a><div class=\"features\"></div>\n",
       "<div class=\"stress  \" >\n",
       "<div class=\"ara\">ʾána </div>\n",
       "<a href=\"#\" class=\"nd\">599843</a><div class=\"features\"></div>\n",
       "</div>\n",
       "<div class=\"stress  \" >\n",
       "<div class=\"ara\">šmíyənwa </div>\n",
       "<a href=\"#\" class=\"nd\">599844</a><div class=\"features\"></div>\n",
       "</div>\n",
       "<div class=\"stress  \" >\n",
       "<div class=\"ara\">xa-tunìθaˈ </div>\n",
       "<a href=\"#\" class=\"nd\">599845</a><div class=\"features\"></div>\n",
       "</div>\n",
       "</div>\n",
       "<div class=\"prosa  \" >\n",
       "<a href=\"#\" class=\"nd\">541195</a><div class=\"features\"></div>\n",
       "<div class=\"stress  \" >\n",
       "<div class=\"ara\">y-amríwala </div>\n",
       "<a href=\"#\" class=\"nd\">599846</a><div class=\"features\"></div>\n",
       "</div>\n",
       "<div class=\"stress  \" >\n",
       "<div class=\"ara\">gozáli </div>\n",
       "<a href=\"#\" class=\"nd\">599847</a><div class=\"features\"></div>\n",
       "</div>\n",
       "<div class=\"stress  \" >\n",
       "<div class=\"ara\">ʾu-nozàli,ˈ </div>\n",
       "<a href=\"#\" class=\"nd\">599848</a><div class=\"features\"></div>\n",
       "</div>\n",
       "</div>\n",
       "<div class=\"prosa  \" >\n",
       "<a href=\"#\" class=\"nd\">541196</a><div class=\"features\"></div>\n",
       "<div class=\"stress  \" >\n",
       "<div class=\"ara\">šə́mma </div>\n",
       "<a href=\"#\" class=\"nd\">599849</a><div class=\"features\"></div>\n",
       "</div>\n",
       "<div class=\"stress  \" >\n",
       "<div class=\"ara\">díya </div>\n",
       "<a href=\"#\" class=\"nd\">599850</a><div class=\"features\"></div>\n",
       "</div>\n",
       "<div class=\"stress  \" >\n",
       "<div class=\"ara\">yáʿni </div>\n",
       "<a href=\"#\" class=\"nd\">599851</a><div class=\"features\"></div>\n",
       "</div>\n",
       "<div class=\"stress  \" >\n",
       "<div class=\"ara\">tuníθət </div>\n",
       "<a href=\"#\" class=\"nd\">599852</a><div class=\"features\"></div>\n",
       "</div>\n",
       "<div class=\"stress  \" >\n",
       "<div class=\"ara\">gozáli </div>\n",
       "<a href=\"#\" class=\"nd\">599853</a><div class=\"features\"></div>\n",
       "</div>\n",
       "<div class=\"stress  \" >\n",
       "<div class=\"ara\">ʾu-nozàli.ˈ </div>\n",
       "<a href=\"#\" class=\"nd\">599854</a><div class=\"features\"></div>\n",
       "</div>\n",
       "</div>\n",
       "</div>\n",
       "</div>"
      ],
      "text/plain": [
       "<IPython.core.display.HTML object>"
      ]
     },
     "metadata": {},
     "output_type": "display_data"
    }
   ],
   "source": [
    "A.pretty(sentences[0], extraFeatures='lite', withNodes=True)"
   ]
  },
  {
   "cell_type": "markdown",
   "metadata": {},
   "source": [
    "But wait, we do not see the `lite` feature anywhere. Because it is defined on words and letters, but not on stresses.\n",
    "Let's show the words:"
   ]
  },
  {
   "cell_type": "code",
   "execution_count": 15,
   "metadata": {},
   "outputs": [
    {
     "data": {
      "text/html": [
       "<a href=\"https://github.com/CambridgeSemiticsLab/nena_corpus/blob/master/nena/0.02/Barwar/Gozali and Nozali.nena\" title=\"see this passage in its source document\" sec=\"Barwar, Gozali and Nozali, Ln. 1\">Barwar, Gozali and Nozali, Ln. 1</a>\n",
       "<div class=\"outeritem\">\n",
       "<div class=\"macro  \" >\n",
       "<a href=\"#\" class=\"nd\">579234</a><div class=\"features\"></div>\n",
       "<div class=\"prosa  \" >\n",
       "<a href=\"#\" class=\"nd\">541194</a><div class=\"features\"></div>\n",
       "<div class=\"stress  \" >\n",
       "<a href=\"#\" class=\"nd\">599843</a><div class=\"features\"></div>\n",
       "<div class=\"word  \" >\n",
       "<div class=\"ara\">ʾána</div>\n",
       "<a href=\"#\" class=\"nd\">720046</a><div class=\"features\"> <span class=\"lite xft\"><span class=\"f\">lite=</span>)ana</span></div>\n",
       "</div>\n",
       "</div>\n",
       "<div class=\"stress  \" >\n",
       "<a href=\"#\" class=\"nd\">599844</a><div class=\"features\"></div>\n",
       "<div class=\"word  \" >\n",
       "<div class=\"ara\">šmíyənwa</div>\n",
       "<a href=\"#\" class=\"nd\">720047</a><div class=\"features\"> <span class=\"lite xft\"><span class=\"f\">lite=</span><span>$</span>miy9nwa</span></div>\n",
       "</div>\n",
       "</div>\n",
       "<div class=\"stress  \" >\n",
       "<a href=\"#\" class=\"nd\">599845</a><div class=\"features\"></div>\n",
       "<div class=\"word  \" >\n",
       "<div class=\"ara\">xa</div>\n",
       "<a href=\"#\" class=\"nd\">720048</a><div class=\"features\"> <span class=\"lite xft\"><span class=\"f\">lite=</span>xa</span></div>\n",
       "</div>\n",
       "<div class=\"word  \" >\n",
       "<div class=\"ara\">tunìθa</div>\n",
       "<a href=\"#\" class=\"nd\">720049</a><div class=\"features\"> <span class=\"lite xft\"><span class=\"f\">lite=</span>tuni8a</span></div>\n",
       "</div>\n",
       "</div>\n",
       "</div>\n",
       "<div class=\"prosa  \" >\n",
       "<a href=\"#\" class=\"nd\">541195</a><div class=\"features\"></div>\n",
       "<div class=\"stress  \" >\n",
       "<a href=\"#\" class=\"nd\">599846</a><div class=\"features\"></div>\n",
       "<div class=\"word  \" >\n",
       "<div class=\"ara\">y</div>\n",
       "<a href=\"#\" class=\"nd\">720050</a><div class=\"features\"> <span class=\"lite xft\"><span class=\"f\">lite=</span>y</span></div>\n",
       "</div>\n",
       "<div class=\"word  \" >\n",
       "<div class=\"ara\">amríwala</div>\n",
       "<a href=\"#\" class=\"nd\">720051</a><div class=\"features\"> <span class=\"lite xft\"><span class=\"f\">lite=</span>amriwala</span></div>\n",
       "</div>\n",
       "</div>\n",
       "<div class=\"stress  \" >\n",
       "<a href=\"#\" class=\"nd\">599847</a><div class=\"features\"></div>\n",
       "<div class=\"word  \" >\n",
       "<div class=\"ara\">gozáli</div>\n",
       "<a href=\"#\" class=\"nd\">720052</a><div class=\"features\"> <span class=\"lite xft\"><span class=\"f\">lite=</span>gozali</span></div>\n",
       "</div>\n",
       "</div>\n",
       "<div class=\"stress  \" >\n",
       "<a href=\"#\" class=\"nd\">599848</a><div class=\"features\"></div>\n",
       "<div class=\"word  \" >\n",
       "<div class=\"ara\">ʾu</div>\n",
       "<a href=\"#\" class=\"nd\">720053</a><div class=\"features\"> <span class=\"lite xft\"><span class=\"f\">lite=</span>)u</span></div>\n",
       "</div>\n",
       "<div class=\"word  \" >\n",
       "<div class=\"ara\">nozàli</div>\n",
       "<a href=\"#\" class=\"nd\">720054</a><div class=\"features\"> <span class=\"lite xft\"><span class=\"f\">lite=</span>nozali</span></div>\n",
       "</div>\n",
       "</div>\n",
       "</div>\n",
       "<div class=\"prosa  \" >\n",
       "<a href=\"#\" class=\"nd\">541196</a><div class=\"features\"></div>\n",
       "<div class=\"stress  \" >\n",
       "<a href=\"#\" class=\"nd\">599849</a><div class=\"features\"></div>\n",
       "<div class=\"word  \" >\n",
       "<div class=\"ara\">šə́mma</div>\n",
       "<a href=\"#\" class=\"nd\">720055</a><div class=\"features\"> <span class=\"lite xft\"><span class=\"f\">lite=</span><span>$</span>9mma</span></div>\n",
       "</div>\n",
       "</div>\n",
       "<div class=\"stress  \" >\n",
       "<a href=\"#\" class=\"nd\">599850</a><div class=\"features\"></div>\n",
       "<div class=\"word  \" >\n",
       "<div class=\"ara\">díya</div>\n",
       "<a href=\"#\" class=\"nd\">720056</a><div class=\"features\"> <span class=\"lite xft\"><span class=\"f\">lite=</span>diya</span></div>\n",
       "</div>\n",
       "</div>\n",
       "<div class=\"stress  \" >\n",
       "<a href=\"#\" class=\"nd\">599851</a><div class=\"features\"></div>\n",
       "<div class=\"word  \" >\n",
       "<div class=\"ara\">yáʿni</div>\n",
       "<a href=\"#\" class=\"nd\">720057</a><div class=\"features\"> <span class=\"lite xft\"><span class=\"f\">lite=</span>ya(ni</span></div>\n",
       "</div>\n",
       "</div>\n",
       "<div class=\"stress  \" >\n",
       "<a href=\"#\" class=\"nd\">599852</a><div class=\"features\"></div>\n",
       "<div class=\"word  \" >\n",
       "<div class=\"ara\">tuníθət</div>\n",
       "<a href=\"#\" class=\"nd\">720058</a><div class=\"features\"> <span class=\"lite xft\"><span class=\"f\">lite=</span>tuni89t</span></div>\n",
       "</div>\n",
       "</div>\n",
       "<div class=\"stress  \" >\n",
       "<a href=\"#\" class=\"nd\">599853</a><div class=\"features\"></div>\n",
       "<div class=\"word  \" >\n",
       "<div class=\"ara\">gozáli</div>\n",
       "<a href=\"#\" class=\"nd\">720059</a><div class=\"features\"> <span class=\"lite xft\"><span class=\"f\">lite=</span>gozali</span></div>\n",
       "</div>\n",
       "</div>\n",
       "<div class=\"stress  \" >\n",
       "<a href=\"#\" class=\"nd\">599854</a><div class=\"features\"></div>\n",
       "<div class=\"word  \" >\n",
       "<div class=\"ara\">ʾu</div>\n",
       "<a href=\"#\" class=\"nd\">720060</a><div class=\"features\"> <span class=\"lite xft\"><span class=\"f\">lite=</span>)u</span></div>\n",
       "</div>\n",
       "<div class=\"word  \" >\n",
       "<div class=\"ara\">nozàli</div>\n",
       "<a href=\"#\" class=\"nd\">720061</a><div class=\"features\"> <span class=\"lite xft\"><span class=\"f\">lite=</span>nozali</span></div>\n",
       "</div>\n",
       "</div>\n",
       "</div>\n",
       "</div>\n",
       "</div>"
      ],
      "text/plain": [
       "<IPython.core.display.HTML object>"
      ]
     },
     "metadata": {},
     "output_type": "display_data"
    }
   ],
   "source": [
    "A.pretty(sentences[0], extraFeatures='lite', withNodes=True, showWord=True)"
   ]
  },
  {
   "cell_type": "markdown",
   "metadata": {},
   "source": [
    "We can even show the characters (and now we suppress the node numbers again):"
   ]
  },
  {
   "cell_type": "code",
   "execution_count": 16,
   "metadata": {},
   "outputs": [
    {
     "data": {
      "text/html": [
       "<a href=\"https://github.com/CambridgeSemiticsLab/nena_corpus/blob/master/nena/0.02/Barwar/Gozali and Nozali.nena\" title=\"see this passage in its source document\" sec=\"Barwar, Gozali and Nozali, Ln. 1\">Barwar, Gozali and Nozali, Ln. 1</a>\n",
       "<div class=\"outeritem\">\n",
       "<div class=\"macro  \" >\n",
       "<div class=\"features\"></div>\n",
       "<div class=\"prosa  \" >\n",
       "<div class=\"features\"></div>\n",
       "<div class=\"stress  \" >\n",
       "<div class=\"features\"></div>\n",
       "<div class=\"letter  \" >\n",
       "<div class=\"ara\">ʾ</div>\n",
       "<div class=\"features\"> <span class=\"lite xft\"><span class=\"f\">lite=</span>)</span></div>\n",
       "</div>\n",
       "<div class=\"letter  \" >\n",
       "<div class=\"ara\">á</div>\n",
       "<div class=\"features\"> <span class=\"lite xft\"><span class=\"f\">lite=</span>a</span></div>\n",
       "</div>\n",
       "<div class=\"letter  \" >\n",
       "<div class=\"ara\">n</div>\n",
       "<div class=\"features\"> <span class=\"lite xft\"><span class=\"f\">lite=</span>n</span></div>\n",
       "</div>\n",
       "<div class=\"letter  \" >\n",
       "<div class=\"ara\">a</div>\n",
       "<div class=\"features\"> <span class=\"lite xft\"><span class=\"f\">lite=</span>a</span></div>\n",
       "</div>\n",
       "</div>\n",
       "<div class=\"stress  \" >\n",
       "<div class=\"features\"></div>\n",
       "<div class=\"letter  \" >\n",
       "<div class=\"ara\">š</div>\n",
       "<div class=\"features\"> <span class=\"lite xft\"><span class=\"f\">lite=</span><span>$</span></span></div>\n",
       "</div>\n",
       "<div class=\"letter  \" >\n",
       "<div class=\"ara\">m</div>\n",
       "<div class=\"features\"> <span class=\"lite xft\"><span class=\"f\">lite=</span>m</span></div>\n",
       "</div>\n",
       "<div class=\"letter  \" >\n",
       "<div class=\"ara\">í</div>\n",
       "<div class=\"features\"> <span class=\"lite xft\"><span class=\"f\">lite=</span>i</span></div>\n",
       "</div>\n",
       "<div class=\"letter  \" >\n",
       "<div class=\"ara\">y</div>\n",
       "<div class=\"features\"> <span class=\"lite xft\"><span class=\"f\">lite=</span>y</span></div>\n",
       "</div>\n",
       "<div class=\"letter  \" >\n",
       "<div class=\"ara\">ə</div>\n",
       "<div class=\"features\"> <span class=\"lite xft\"><span class=\"f\">lite=</span>9</span></div>\n",
       "</div>\n",
       "<div class=\"letter  \" >\n",
       "<div class=\"ara\">n</div>\n",
       "<div class=\"features\"> <span class=\"lite xft\"><span class=\"f\">lite=</span>n</span></div>\n",
       "</div>\n",
       "<div class=\"letter  \" >\n",
       "<div class=\"ara\">w</div>\n",
       "<div class=\"features\"> <span class=\"lite xft\"><span class=\"f\">lite=</span>w</span></div>\n",
       "</div>\n",
       "<div class=\"letter  \" >\n",
       "<div class=\"ara\">a</div>\n",
       "<div class=\"features\"> <span class=\"lite xft\"><span class=\"f\">lite=</span>a</span></div>\n",
       "</div>\n",
       "</div>\n",
       "<div class=\"stress  \" >\n",
       "<div class=\"features\"></div>\n",
       "<div class=\"letter  \" >\n",
       "<div class=\"ara\">x</div>\n",
       "<div class=\"features\"> <span class=\"lite xft\"><span class=\"f\">lite=</span>x</span></div>\n",
       "</div>\n",
       "<div class=\"letter  \" >\n",
       "<div class=\"ara\">a</div>\n",
       "<div class=\"features\"> <span class=\"lite xft\"><span class=\"f\">lite=</span>a</span></div>\n",
       "</div>\n",
       "<div class=\"letter  \" >\n",
       "<div class=\"ara\">t</div>\n",
       "<div class=\"features\"> <span class=\"lite xft\"><span class=\"f\">lite=</span>t</span></div>\n",
       "</div>\n",
       "<div class=\"letter  \" >\n",
       "<div class=\"ara\">u</div>\n",
       "<div class=\"features\"> <span class=\"lite xft\"><span class=\"f\">lite=</span>u</span></div>\n",
       "</div>\n",
       "<div class=\"letter  \" >\n",
       "<div class=\"ara\">n</div>\n",
       "<div class=\"features\"> <span class=\"lite xft\"><span class=\"f\">lite=</span>n</span></div>\n",
       "</div>\n",
       "<div class=\"letter  \" >\n",
       "<div class=\"ara\">ì</div>\n",
       "<div class=\"features\"> <span class=\"lite xft\"><span class=\"f\">lite=</span>i</span></div>\n",
       "</div>\n",
       "<div class=\"letter  \" >\n",
       "<div class=\"ara\">θ</div>\n",
       "<div class=\"features\"> <span class=\"lite xft\"><span class=\"f\">lite=</span>8</span></div>\n",
       "</div>\n",
       "<div class=\"letter  \" >\n",
       "<div class=\"ara\">a</div>\n",
       "<div class=\"features\"> <span class=\"lite xft\"><span class=\"f\">lite=</span>a</span></div>\n",
       "</div>\n",
       "</div>\n",
       "</div>\n",
       "<div class=\"prosa  \" >\n",
       "<div class=\"features\"></div>\n",
       "<div class=\"stress  \" >\n",
       "<div class=\"features\"></div>\n",
       "<div class=\"letter  \" >\n",
       "<div class=\"ara\">y</div>\n",
       "<div class=\"features\"> <span class=\"lite xft\"><span class=\"f\">lite=</span>y</span></div>\n",
       "</div>\n",
       "<div class=\"letter  \" >\n",
       "<div class=\"ara\">a</div>\n",
       "<div class=\"features\"> <span class=\"lite xft\"><span class=\"f\">lite=</span>a</span></div>\n",
       "</div>\n",
       "<div class=\"letter  \" >\n",
       "<div class=\"ara\">m</div>\n",
       "<div class=\"features\"> <span class=\"lite xft\"><span class=\"f\">lite=</span>m</span></div>\n",
       "</div>\n",
       "<div class=\"letter  \" >\n",
       "<div class=\"ara\">r</div>\n",
       "<div class=\"features\"> <span class=\"lite xft\"><span class=\"f\">lite=</span>r</span></div>\n",
       "</div>\n",
       "<div class=\"letter  \" >\n",
       "<div class=\"ara\">í</div>\n",
       "<div class=\"features\"> <span class=\"lite xft\"><span class=\"f\">lite=</span>i</span></div>\n",
       "</div>\n",
       "<div class=\"letter  \" >\n",
       "<div class=\"ara\">w</div>\n",
       "<div class=\"features\"> <span class=\"lite xft\"><span class=\"f\">lite=</span>w</span></div>\n",
       "</div>\n",
       "<div class=\"letter  \" >\n",
       "<div class=\"ara\">a</div>\n",
       "<div class=\"features\"> <span class=\"lite xft\"><span class=\"f\">lite=</span>a</span></div>\n",
       "</div>\n",
       "<div class=\"letter  \" >\n",
       "<div class=\"ara\">l</div>\n",
       "<div class=\"features\"> <span class=\"lite xft\"><span class=\"f\">lite=</span>l</span></div>\n",
       "</div>\n",
       "<div class=\"letter  \" >\n",
       "<div class=\"ara\">a</div>\n",
       "<div class=\"features\"> <span class=\"lite xft\"><span class=\"f\">lite=</span>a</span></div>\n",
       "</div>\n",
       "</div>\n",
       "<div class=\"stress  \" >\n",
       "<div class=\"features\"></div>\n",
       "<div class=\"letter  \" >\n",
       "<div class=\"ara\">G</div>\n",
       "<div class=\"features\"> <span class=\"lite xft\"><span class=\"f\">lite=</span>g</span></div>\n",
       "</div>\n",
       "<div class=\"letter  \" >\n",
       "<div class=\"ara\">o</div>\n",
       "<div class=\"features\"> <span class=\"lite xft\"><span class=\"f\">lite=</span>o</span></div>\n",
       "</div>\n",
       "<div class=\"letter  \" >\n",
       "<div class=\"ara\">z</div>\n",
       "<div class=\"features\"> <span class=\"lite xft\"><span class=\"f\">lite=</span>z</span></div>\n",
       "</div>\n",
       "<div class=\"letter  \" >\n",
       "<div class=\"ara\">á</div>\n",
       "<div class=\"features\"> <span class=\"lite xft\"><span class=\"f\">lite=</span>a</span></div>\n",
       "</div>\n",
       "<div class=\"letter  \" >\n",
       "<div class=\"ara\">l</div>\n",
       "<div class=\"features\"> <span class=\"lite xft\"><span class=\"f\">lite=</span>l</span></div>\n",
       "</div>\n",
       "<div class=\"letter  \" >\n",
       "<div class=\"ara\">i</div>\n",
       "<div class=\"features\"> <span class=\"lite xft\"><span class=\"f\">lite=</span>i</span></div>\n",
       "</div>\n",
       "</div>\n",
       "<div class=\"stress  \" >\n",
       "<div class=\"features\"></div>\n",
       "<div class=\"letter  \" >\n",
       "<div class=\"ara\">ʾ</div>\n",
       "<div class=\"features\"> <span class=\"lite xft\"><span class=\"f\">lite=</span>)</span></div>\n",
       "</div>\n",
       "<div class=\"letter  \" >\n",
       "<div class=\"ara\">u</div>\n",
       "<div class=\"features\"> <span class=\"lite xft\"><span class=\"f\">lite=</span>u</span></div>\n",
       "</div>\n",
       "<div class=\"letter  \" >\n",
       "<div class=\"ara\">N</div>\n",
       "<div class=\"features\"> <span class=\"lite xft\"><span class=\"f\">lite=</span>n</span></div>\n",
       "</div>\n",
       "<div class=\"letter  \" >\n",
       "<div class=\"ara\">o</div>\n",
       "<div class=\"features\"> <span class=\"lite xft\"><span class=\"f\">lite=</span>o</span></div>\n",
       "</div>\n",
       "<div class=\"letter  \" >\n",
       "<div class=\"ara\">z</div>\n",
       "<div class=\"features\"> <span class=\"lite xft\"><span class=\"f\">lite=</span>z</span></div>\n",
       "</div>\n",
       "<div class=\"letter  \" >\n",
       "<div class=\"ara\">à</div>\n",
       "<div class=\"features\"> <span class=\"lite xft\"><span class=\"f\">lite=</span>a</span></div>\n",
       "</div>\n",
       "<div class=\"letter  \" >\n",
       "<div class=\"ara\">l</div>\n",
       "<div class=\"features\"> <span class=\"lite xft\"><span class=\"f\">lite=</span>l</span></div>\n",
       "</div>\n",
       "<div class=\"letter  \" >\n",
       "<div class=\"ara\">i</div>\n",
       "<div class=\"features\"> <span class=\"lite xft\"><span class=\"f\">lite=</span>i</span></div>\n",
       "</div>\n",
       "</div>\n",
       "</div>\n",
       "<div class=\"prosa  \" >\n",
       "<div class=\"features\"></div>\n",
       "<div class=\"stress  \" >\n",
       "<div class=\"features\"></div>\n",
       "<div class=\"letter  \" >\n",
       "<div class=\"ara\">š</div>\n",
       "<div class=\"features\"> <span class=\"lite xft\"><span class=\"f\">lite=</span><span>$</span></span></div>\n",
       "</div>\n",
       "<div class=\"letter  \" >\n",
       "<div class=\"ara\">ə́</div>\n",
       "<div class=\"features\"> <span class=\"lite xft\"><span class=\"f\">lite=</span>9</span></div>\n",
       "</div>\n",
       "<div class=\"letter  \" >\n",
       "<div class=\"ara\">m</div>\n",
       "<div class=\"features\"> <span class=\"lite xft\"><span class=\"f\">lite=</span>m</span></div>\n",
       "</div>\n",
       "<div class=\"letter  \" >\n",
       "<div class=\"ara\">m</div>\n",
       "<div class=\"features\"> <span class=\"lite xft\"><span class=\"f\">lite=</span>m</span></div>\n",
       "</div>\n",
       "<div class=\"letter  \" >\n",
       "<div class=\"ara\">a</div>\n",
       "<div class=\"features\"> <span class=\"lite xft\"><span class=\"f\">lite=</span>a</span></div>\n",
       "</div>\n",
       "</div>\n",
       "<div class=\"stress  \" >\n",
       "<div class=\"features\"></div>\n",
       "<div class=\"letter  \" >\n",
       "<div class=\"ara\">d</div>\n",
       "<div class=\"features\"> <span class=\"lite xft\"><span class=\"f\">lite=</span>d</span></div>\n",
       "</div>\n",
       "<div class=\"letter  \" >\n",
       "<div class=\"ara\">í</div>\n",
       "<div class=\"features\"> <span class=\"lite xft\"><span class=\"f\">lite=</span>i</span></div>\n",
       "</div>\n",
       "<div class=\"letter  \" >\n",
       "<div class=\"ara\">y</div>\n",
       "<div class=\"features\"> <span class=\"lite xft\"><span class=\"f\">lite=</span>y</span></div>\n",
       "</div>\n",
       "<div class=\"letter  \" >\n",
       "<div class=\"ara\">a</div>\n",
       "<div class=\"features\"> <span class=\"lite xft\"><span class=\"f\">lite=</span>a</span></div>\n",
       "</div>\n",
       "</div>\n",
       "<div class=\"stress  \" >\n",
       "<div class=\"features\"></div>\n",
       "<div class=\"letter  \" >\n",
       "<div class=\"ara\">y</div>\n",
       "<div class=\"features\"> <span class=\"lite xft\"><span class=\"f\">lite=</span>y</span></div>\n",
       "</div>\n",
       "<div class=\"letter  \" >\n",
       "<div class=\"ara\">á</div>\n",
       "<div class=\"features\"> <span class=\"lite xft\"><span class=\"f\">lite=</span>a</span></div>\n",
       "</div>\n",
       "<div class=\"letter  \" >\n",
       "<div class=\"ara\">ʿ</div>\n",
       "<div class=\"features\"> <span class=\"lite xft\"><span class=\"f\">lite=</span>(</span></div>\n",
       "</div>\n",
       "<div class=\"letter  \" >\n",
       "<div class=\"ara\">n</div>\n",
       "<div class=\"features\"> <span class=\"lite xft\"><span class=\"f\">lite=</span>n</span></div>\n",
       "</div>\n",
       "<div class=\"letter  \" >\n",
       "<div class=\"ara\">i</div>\n",
       "<div class=\"features\"> <span class=\"lite xft\"><span class=\"f\">lite=</span>i</span></div>\n",
       "</div>\n",
       "</div>\n",
       "<div class=\"stress  \" >\n",
       "<div class=\"features\"></div>\n",
       "<div class=\"letter  \" >\n",
       "<div class=\"ara\">t</div>\n",
       "<div class=\"features\"> <span class=\"lite xft\"><span class=\"f\">lite=</span>t</span></div>\n",
       "</div>\n",
       "<div class=\"letter  \" >\n",
       "<div class=\"ara\">u</div>\n",
       "<div class=\"features\"> <span class=\"lite xft\"><span class=\"f\">lite=</span>u</span></div>\n",
       "</div>\n",
       "<div class=\"letter  \" >\n",
       "<div class=\"ara\">n</div>\n",
       "<div class=\"features\"> <span class=\"lite xft\"><span class=\"f\">lite=</span>n</span></div>\n",
       "</div>\n",
       "<div class=\"letter  \" >\n",
       "<div class=\"ara\">í</div>\n",
       "<div class=\"features\"> <span class=\"lite xft\"><span class=\"f\">lite=</span>i</span></div>\n",
       "</div>\n",
       "<div class=\"letter  \" >\n",
       "<div class=\"ara\">θ</div>\n",
       "<div class=\"features\"> <span class=\"lite xft\"><span class=\"f\">lite=</span>8</span></div>\n",
       "</div>\n",
       "<div class=\"letter  \" >\n",
       "<div class=\"ara\">ə</div>\n",
       "<div class=\"features\"> <span class=\"lite xft\"><span class=\"f\">lite=</span>9</span></div>\n",
       "</div>\n",
       "<div class=\"letter  \" >\n",
       "<div class=\"ara\">t</div>\n",
       "<div class=\"features\"> <span class=\"lite xft\"><span class=\"f\">lite=</span>t</span></div>\n",
       "</div>\n",
       "</div>\n",
       "<div class=\"stress  \" >\n",
       "<div class=\"features\"></div>\n",
       "<div class=\"letter  \" >\n",
       "<div class=\"ara\">G</div>\n",
       "<div class=\"features\"> <span class=\"lite xft\"><span class=\"f\">lite=</span>g</span></div>\n",
       "</div>\n",
       "<div class=\"letter  \" >\n",
       "<div class=\"ara\">o</div>\n",
       "<div class=\"features\"> <span class=\"lite xft\"><span class=\"f\">lite=</span>o</span></div>\n",
       "</div>\n",
       "<div class=\"letter  \" >\n",
       "<div class=\"ara\">z</div>\n",
       "<div class=\"features\"> <span class=\"lite xft\"><span class=\"f\">lite=</span>z</span></div>\n",
       "</div>\n",
       "<div class=\"letter  \" >\n",
       "<div class=\"ara\">á</div>\n",
       "<div class=\"features\"> <span class=\"lite xft\"><span class=\"f\">lite=</span>a</span></div>\n",
       "</div>\n",
       "<div class=\"letter  \" >\n",
       "<div class=\"ara\">l</div>\n",
       "<div class=\"features\"> <span class=\"lite xft\"><span class=\"f\">lite=</span>l</span></div>\n",
       "</div>\n",
       "<div class=\"letter  \" >\n",
       "<div class=\"ara\">i</div>\n",
       "<div class=\"features\"> <span class=\"lite xft\"><span class=\"f\">lite=</span>i</span></div>\n",
       "</div>\n",
       "</div>\n",
       "<div class=\"stress  \" >\n",
       "<div class=\"features\"></div>\n",
       "<div class=\"letter  \" >\n",
       "<div class=\"ara\">ʾ</div>\n",
       "<div class=\"features\"> <span class=\"lite xft\"><span class=\"f\">lite=</span>)</span></div>\n",
       "</div>\n",
       "<div class=\"letter  \" >\n",
       "<div class=\"ara\">u</div>\n",
       "<div class=\"features\"> <span class=\"lite xft\"><span class=\"f\">lite=</span>u</span></div>\n",
       "</div>\n",
       "<div class=\"letter  \" >\n",
       "<div class=\"ara\">N</div>\n",
       "<div class=\"features\"> <span class=\"lite xft\"><span class=\"f\">lite=</span>n</span></div>\n",
       "</div>\n",
       "<div class=\"letter  \" >\n",
       "<div class=\"ara\">o</div>\n",
       "<div class=\"features\"> <span class=\"lite xft\"><span class=\"f\">lite=</span>o</span></div>\n",
       "</div>\n",
       "<div class=\"letter  \" >\n",
       "<div class=\"ara\">z</div>\n",
       "<div class=\"features\"> <span class=\"lite xft\"><span class=\"f\">lite=</span>z</span></div>\n",
       "</div>\n",
       "<div class=\"letter  \" >\n",
       "<div class=\"ara\">à</div>\n",
       "<div class=\"features\"> <span class=\"lite xft\"><span class=\"f\">lite=</span>a</span></div>\n",
       "</div>\n",
       "<div class=\"letter  \" >\n",
       "<div class=\"ara\">l</div>\n",
       "<div class=\"features\"> <span class=\"lite xft\"><span class=\"f\">lite=</span>l</span></div>\n",
       "</div>\n",
       "<div class=\"letter  \" >\n",
       "<div class=\"ara\">i</div>\n",
       "<div class=\"features\"> <span class=\"lite xft\"><span class=\"f\">lite=</span>i</span></div>\n",
       "</div>\n",
       "</div>\n",
       "</div>\n",
       "</div>\n",
       "</div>"
      ],
      "text/plain": [
       "<IPython.core.display.HTML object>"
      ]
     },
     "metadata": {},
     "output_type": "display_data"
    }
   ],
   "source": [
    "A.pretty(sentences[0], extraFeatures='lite', showChar=True)"
   ]
  },
  {
   "cell_type": "markdown",
   "metadata": {},
   "source": [
    "We can show the characters and the words:"
   ]
  },
  {
   "cell_type": "code",
   "execution_count": 17,
   "metadata": {},
   "outputs": [
    {
     "data": {
      "text/html": [
       "<a href=\"https://github.com/CambridgeSemiticsLab/nena_corpus/blob/master/nena/0.02/Barwar/Gozali and Nozali.nena\" title=\"see this passage in its source document\" sec=\"Barwar, Gozali and Nozali, Ln. 1\">Barwar, Gozali and Nozali, Ln. 1</a>\n",
       "<div class=\"outeritem\">\n",
       "<div class=\"macro  \" >\n",
       "<div class=\"features\"></div>\n",
       "<div class=\"prosa  \" >\n",
       "<div class=\"features\"></div>\n",
       "<div class=\"stress  \" >\n",
       "<div class=\"features\"></div>\n",
       "<div class=\"word  \" >\n",
       "<div class=\"features\"> <span class=\"lite xft\"><span class=\"f\">lite=</span>)ana</span></div>\n",
       "<div class=\"letter  \" >\n",
       "<div class=\"ara\">ʾ</div>\n",
       "<div class=\"features\"> <span class=\"lite xft\"><span class=\"f\">lite=</span>)</span></div>\n",
       "</div>\n",
       "<div class=\"letter  \" >\n",
       "<div class=\"ara\">á</div>\n",
       "<div class=\"features\"> <span class=\"lite xft\"><span class=\"f\">lite=</span>a</span></div>\n",
       "</div>\n",
       "<div class=\"letter  \" >\n",
       "<div class=\"ara\">n</div>\n",
       "<div class=\"features\"> <span class=\"lite xft\"><span class=\"f\">lite=</span>n</span></div>\n",
       "</div>\n",
       "<div class=\"letter  \" >\n",
       "<div class=\"ara\">a</div>\n",
       "<div class=\"features\"> <span class=\"lite xft\"><span class=\"f\">lite=</span>a</span></div>\n",
       "</div>\n",
       "</div>\n",
       "</div>\n",
       "<div class=\"stress  \" >\n",
       "<div class=\"features\"></div>\n",
       "<div class=\"word  \" >\n",
       "<div class=\"features\"> <span class=\"lite xft\"><span class=\"f\">lite=</span><span>$</span>miy9nwa</span></div>\n",
       "<div class=\"letter  \" >\n",
       "<div class=\"ara\">š</div>\n",
       "<div class=\"features\"> <span class=\"lite xft\"><span class=\"f\">lite=</span><span>$</span></span></div>\n",
       "</div>\n",
       "<div class=\"letter  \" >\n",
       "<div class=\"ara\">m</div>\n",
       "<div class=\"features\"> <span class=\"lite xft\"><span class=\"f\">lite=</span>m</span></div>\n",
       "</div>\n",
       "<div class=\"letter  \" >\n",
       "<div class=\"ara\">í</div>\n",
       "<div class=\"features\"> <span class=\"lite xft\"><span class=\"f\">lite=</span>i</span></div>\n",
       "</div>\n",
       "<div class=\"letter  \" >\n",
       "<div class=\"ara\">y</div>\n",
       "<div class=\"features\"> <span class=\"lite xft\"><span class=\"f\">lite=</span>y</span></div>\n",
       "</div>\n",
       "<div class=\"letter  \" >\n",
       "<div class=\"ara\">ə</div>\n",
       "<div class=\"features\"> <span class=\"lite xft\"><span class=\"f\">lite=</span>9</span></div>\n",
       "</div>\n",
       "<div class=\"letter  \" >\n",
       "<div class=\"ara\">n</div>\n",
       "<div class=\"features\"> <span class=\"lite xft\"><span class=\"f\">lite=</span>n</span></div>\n",
       "</div>\n",
       "<div class=\"letter  \" >\n",
       "<div class=\"ara\">w</div>\n",
       "<div class=\"features\"> <span class=\"lite xft\"><span class=\"f\">lite=</span>w</span></div>\n",
       "</div>\n",
       "<div class=\"letter  \" >\n",
       "<div class=\"ara\">a</div>\n",
       "<div class=\"features\"> <span class=\"lite xft\"><span class=\"f\">lite=</span>a</span></div>\n",
       "</div>\n",
       "</div>\n",
       "</div>\n",
       "<div class=\"stress  \" >\n",
       "<div class=\"features\"></div>\n",
       "<div class=\"word  \" >\n",
       "<div class=\"features\"> <span class=\"lite xft\"><span class=\"f\">lite=</span>xa</span></div>\n",
       "<div class=\"letter  \" >\n",
       "<div class=\"ara\">x</div>\n",
       "<div class=\"features\"> <span class=\"lite xft\"><span class=\"f\">lite=</span>x</span></div>\n",
       "</div>\n",
       "<div class=\"letter  \" >\n",
       "<div class=\"ara\">a</div>\n",
       "<div class=\"features\"> <span class=\"lite xft\"><span class=\"f\">lite=</span>a</span></div>\n",
       "</div>\n",
       "</div>\n",
       "<div class=\"word  \" >\n",
       "<div class=\"features\"> <span class=\"lite xft\"><span class=\"f\">lite=</span>tuni8a</span></div>\n",
       "<div class=\"letter  \" >\n",
       "<div class=\"ara\">t</div>\n",
       "<div class=\"features\"> <span class=\"lite xft\"><span class=\"f\">lite=</span>t</span></div>\n",
       "</div>\n",
       "<div class=\"letter  \" >\n",
       "<div class=\"ara\">u</div>\n",
       "<div class=\"features\"> <span class=\"lite xft\"><span class=\"f\">lite=</span>u</span></div>\n",
       "</div>\n",
       "<div class=\"letter  \" >\n",
       "<div class=\"ara\">n</div>\n",
       "<div class=\"features\"> <span class=\"lite xft\"><span class=\"f\">lite=</span>n</span></div>\n",
       "</div>\n",
       "<div class=\"letter  \" >\n",
       "<div class=\"ara\">ì</div>\n",
       "<div class=\"features\"> <span class=\"lite xft\"><span class=\"f\">lite=</span>i</span></div>\n",
       "</div>\n",
       "<div class=\"letter  \" >\n",
       "<div class=\"ara\">θ</div>\n",
       "<div class=\"features\"> <span class=\"lite xft\"><span class=\"f\">lite=</span>8</span></div>\n",
       "</div>\n",
       "<div class=\"letter  \" >\n",
       "<div class=\"ara\">a</div>\n",
       "<div class=\"features\"> <span class=\"lite xft\"><span class=\"f\">lite=</span>a</span></div>\n",
       "</div>\n",
       "</div>\n",
       "</div>\n",
       "</div>\n",
       "<div class=\"prosa  \" >\n",
       "<div class=\"features\"></div>\n",
       "<div class=\"stress  \" >\n",
       "<div class=\"features\"></div>\n",
       "<div class=\"word  \" >\n",
       "<div class=\"features\"> <span class=\"lite xft\"><span class=\"f\">lite=</span>y</span></div>\n",
       "<div class=\"letter  \" >\n",
       "<div class=\"ara\">y</div>\n",
       "<div class=\"features\"> <span class=\"lite xft\"><span class=\"f\">lite=</span>y</span></div>\n",
       "</div>\n",
       "</div>\n",
       "<div class=\"word  \" >\n",
       "<div class=\"features\"> <span class=\"lite xft\"><span class=\"f\">lite=</span>amriwala</span></div>\n",
       "<div class=\"letter  \" >\n",
       "<div class=\"ara\">a</div>\n",
       "<div class=\"features\"> <span class=\"lite xft\"><span class=\"f\">lite=</span>a</span></div>\n",
       "</div>\n",
       "<div class=\"letter  \" >\n",
       "<div class=\"ara\">m</div>\n",
       "<div class=\"features\"> <span class=\"lite xft\"><span class=\"f\">lite=</span>m</span></div>\n",
       "</div>\n",
       "<div class=\"letter  \" >\n",
       "<div class=\"ara\">r</div>\n",
       "<div class=\"features\"> <span class=\"lite xft\"><span class=\"f\">lite=</span>r</span></div>\n",
       "</div>\n",
       "<div class=\"letter  \" >\n",
       "<div class=\"ara\">í</div>\n",
       "<div class=\"features\"> <span class=\"lite xft\"><span class=\"f\">lite=</span>i</span></div>\n",
       "</div>\n",
       "<div class=\"letter  \" >\n",
       "<div class=\"ara\">w</div>\n",
       "<div class=\"features\"> <span class=\"lite xft\"><span class=\"f\">lite=</span>w</span></div>\n",
       "</div>\n",
       "<div class=\"letter  \" >\n",
       "<div class=\"ara\">a</div>\n",
       "<div class=\"features\"> <span class=\"lite xft\"><span class=\"f\">lite=</span>a</span></div>\n",
       "</div>\n",
       "<div class=\"letter  \" >\n",
       "<div class=\"ara\">l</div>\n",
       "<div class=\"features\"> <span class=\"lite xft\"><span class=\"f\">lite=</span>l</span></div>\n",
       "</div>\n",
       "<div class=\"letter  \" >\n",
       "<div class=\"ara\">a</div>\n",
       "<div class=\"features\"> <span class=\"lite xft\"><span class=\"f\">lite=</span>a</span></div>\n",
       "</div>\n",
       "</div>\n",
       "</div>\n",
       "<div class=\"stress  \" >\n",
       "<div class=\"features\"></div>\n",
       "<div class=\"word  \" >\n",
       "<div class=\"features\"> <span class=\"lite xft\"><span class=\"f\">lite=</span>gozali</span></div>\n",
       "<div class=\"letter  \" >\n",
       "<div class=\"ara\">G</div>\n",
       "<div class=\"features\"> <span class=\"lite xft\"><span class=\"f\">lite=</span>g</span></div>\n",
       "</div>\n",
       "<div class=\"letter  \" >\n",
       "<div class=\"ara\">o</div>\n",
       "<div class=\"features\"> <span class=\"lite xft\"><span class=\"f\">lite=</span>o</span></div>\n",
       "</div>\n",
       "<div class=\"letter  \" >\n",
       "<div class=\"ara\">z</div>\n",
       "<div class=\"features\"> <span class=\"lite xft\"><span class=\"f\">lite=</span>z</span></div>\n",
       "</div>\n",
       "<div class=\"letter  \" >\n",
       "<div class=\"ara\">á</div>\n",
       "<div class=\"features\"> <span class=\"lite xft\"><span class=\"f\">lite=</span>a</span></div>\n",
       "</div>\n",
       "<div class=\"letter  \" >\n",
       "<div class=\"ara\">l</div>\n",
       "<div class=\"features\"> <span class=\"lite xft\"><span class=\"f\">lite=</span>l</span></div>\n",
       "</div>\n",
       "<div class=\"letter  \" >\n",
       "<div class=\"ara\">i</div>\n",
       "<div class=\"features\"> <span class=\"lite xft\"><span class=\"f\">lite=</span>i</span></div>\n",
       "</div>\n",
       "</div>\n",
       "</div>\n",
       "<div class=\"stress  \" >\n",
       "<div class=\"features\"></div>\n",
       "<div class=\"word  \" >\n",
       "<div class=\"features\"> <span class=\"lite xft\"><span class=\"f\">lite=</span>)u</span></div>\n",
       "<div class=\"letter  \" >\n",
       "<div class=\"ara\">ʾ</div>\n",
       "<div class=\"features\"> <span class=\"lite xft\"><span class=\"f\">lite=</span>)</span></div>\n",
       "</div>\n",
       "<div class=\"letter  \" >\n",
       "<div class=\"ara\">u</div>\n",
       "<div class=\"features\"> <span class=\"lite xft\"><span class=\"f\">lite=</span>u</span></div>\n",
       "</div>\n",
       "</div>\n",
       "<div class=\"word  \" >\n",
       "<div class=\"features\"> <span class=\"lite xft\"><span class=\"f\">lite=</span>nozali</span></div>\n",
       "<div class=\"letter  \" >\n",
       "<div class=\"ara\">N</div>\n",
       "<div class=\"features\"> <span class=\"lite xft\"><span class=\"f\">lite=</span>n</span></div>\n",
       "</div>\n",
       "<div class=\"letter  \" >\n",
       "<div class=\"ara\">o</div>\n",
       "<div class=\"features\"> <span class=\"lite xft\"><span class=\"f\">lite=</span>o</span></div>\n",
       "</div>\n",
       "<div class=\"letter  \" >\n",
       "<div class=\"ara\">z</div>\n",
       "<div class=\"features\"> <span class=\"lite xft\"><span class=\"f\">lite=</span>z</span></div>\n",
       "</div>\n",
       "<div class=\"letter  \" >\n",
       "<div class=\"ara\">à</div>\n",
       "<div class=\"features\"> <span class=\"lite xft\"><span class=\"f\">lite=</span>a</span></div>\n",
       "</div>\n",
       "<div class=\"letter  \" >\n",
       "<div class=\"ara\">l</div>\n",
       "<div class=\"features\"> <span class=\"lite xft\"><span class=\"f\">lite=</span>l</span></div>\n",
       "</div>\n",
       "<div class=\"letter  \" >\n",
       "<div class=\"ara\">i</div>\n",
       "<div class=\"features\"> <span class=\"lite xft\"><span class=\"f\">lite=</span>i</span></div>\n",
       "</div>\n",
       "</div>\n",
       "</div>\n",
       "</div>\n",
       "<div class=\"prosa  \" >\n",
       "<div class=\"features\"></div>\n",
       "<div class=\"stress  \" >\n",
       "<div class=\"features\"></div>\n",
       "<div class=\"word  \" >\n",
       "<div class=\"features\"> <span class=\"lite xft\"><span class=\"f\">lite=</span><span>$</span>9mma</span></div>\n",
       "<div class=\"letter  \" >\n",
       "<div class=\"ara\">š</div>\n",
       "<div class=\"features\"> <span class=\"lite xft\"><span class=\"f\">lite=</span><span>$</span></span></div>\n",
       "</div>\n",
       "<div class=\"letter  \" >\n",
       "<div class=\"ara\">ə́</div>\n",
       "<div class=\"features\"> <span class=\"lite xft\"><span class=\"f\">lite=</span>9</span></div>\n",
       "</div>\n",
       "<div class=\"letter  \" >\n",
       "<div class=\"ara\">m</div>\n",
       "<div class=\"features\"> <span class=\"lite xft\"><span class=\"f\">lite=</span>m</span></div>\n",
       "</div>\n",
       "<div class=\"letter  \" >\n",
       "<div class=\"ara\">m</div>\n",
       "<div class=\"features\"> <span class=\"lite xft\"><span class=\"f\">lite=</span>m</span></div>\n",
       "</div>\n",
       "<div class=\"letter  \" >\n",
       "<div class=\"ara\">a</div>\n",
       "<div class=\"features\"> <span class=\"lite xft\"><span class=\"f\">lite=</span>a</span></div>\n",
       "</div>\n",
       "</div>\n",
       "</div>\n",
       "<div class=\"stress  \" >\n",
       "<div class=\"features\"></div>\n",
       "<div class=\"word  \" >\n",
       "<div class=\"features\"> <span class=\"lite xft\"><span class=\"f\">lite=</span>diya</span></div>\n",
       "<div class=\"letter  \" >\n",
       "<div class=\"ara\">d</div>\n",
       "<div class=\"features\"> <span class=\"lite xft\"><span class=\"f\">lite=</span>d</span></div>\n",
       "</div>\n",
       "<div class=\"letter  \" >\n",
       "<div class=\"ara\">í</div>\n",
       "<div class=\"features\"> <span class=\"lite xft\"><span class=\"f\">lite=</span>i</span></div>\n",
       "</div>\n",
       "<div class=\"letter  \" >\n",
       "<div class=\"ara\">y</div>\n",
       "<div class=\"features\"> <span class=\"lite xft\"><span class=\"f\">lite=</span>y</span></div>\n",
       "</div>\n",
       "<div class=\"letter  \" >\n",
       "<div class=\"ara\">a</div>\n",
       "<div class=\"features\"> <span class=\"lite xft\"><span class=\"f\">lite=</span>a</span></div>\n",
       "</div>\n",
       "</div>\n",
       "</div>\n",
       "<div class=\"stress  \" >\n",
       "<div class=\"features\"></div>\n",
       "<div class=\"word  \" >\n",
       "<div class=\"features\"> <span class=\"lite xft\"><span class=\"f\">lite=</span>ya(ni</span></div>\n",
       "<div class=\"letter  \" >\n",
       "<div class=\"ara\">y</div>\n",
       "<div class=\"features\"> <span class=\"lite xft\"><span class=\"f\">lite=</span>y</span></div>\n",
       "</div>\n",
       "<div class=\"letter  \" >\n",
       "<div class=\"ara\">á</div>\n",
       "<div class=\"features\"> <span class=\"lite xft\"><span class=\"f\">lite=</span>a</span></div>\n",
       "</div>\n",
       "<div class=\"letter  \" >\n",
       "<div class=\"ara\">ʿ</div>\n",
       "<div class=\"features\"> <span class=\"lite xft\"><span class=\"f\">lite=</span>(</span></div>\n",
       "</div>\n",
       "<div class=\"letter  \" >\n",
       "<div class=\"ara\">n</div>\n",
       "<div class=\"features\"> <span class=\"lite xft\"><span class=\"f\">lite=</span>n</span></div>\n",
       "</div>\n",
       "<div class=\"letter  \" >\n",
       "<div class=\"ara\">i</div>\n",
       "<div class=\"features\"> <span class=\"lite xft\"><span class=\"f\">lite=</span>i</span></div>\n",
       "</div>\n",
       "</div>\n",
       "</div>\n",
       "<div class=\"stress  \" >\n",
       "<div class=\"features\"></div>\n",
       "<div class=\"word  \" >\n",
       "<div class=\"features\"> <span class=\"lite xft\"><span class=\"f\">lite=</span>tuni89t</span></div>\n",
       "<div class=\"letter  \" >\n",
       "<div class=\"ara\">t</div>\n",
       "<div class=\"features\"> <span class=\"lite xft\"><span class=\"f\">lite=</span>t</span></div>\n",
       "</div>\n",
       "<div class=\"letter  \" >\n",
       "<div class=\"ara\">u</div>\n",
       "<div class=\"features\"> <span class=\"lite xft\"><span class=\"f\">lite=</span>u</span></div>\n",
       "</div>\n",
       "<div class=\"letter  \" >\n",
       "<div class=\"ara\">n</div>\n",
       "<div class=\"features\"> <span class=\"lite xft\"><span class=\"f\">lite=</span>n</span></div>\n",
       "</div>\n",
       "<div class=\"letter  \" >\n",
       "<div class=\"ara\">í</div>\n",
       "<div class=\"features\"> <span class=\"lite xft\"><span class=\"f\">lite=</span>i</span></div>\n",
       "</div>\n",
       "<div class=\"letter  \" >\n",
       "<div class=\"ara\">θ</div>\n",
       "<div class=\"features\"> <span class=\"lite xft\"><span class=\"f\">lite=</span>8</span></div>\n",
       "</div>\n",
       "<div class=\"letter  \" >\n",
       "<div class=\"ara\">ə</div>\n",
       "<div class=\"features\"> <span class=\"lite xft\"><span class=\"f\">lite=</span>9</span></div>\n",
       "</div>\n",
       "<div class=\"letter  \" >\n",
       "<div class=\"ara\">t</div>\n",
       "<div class=\"features\"> <span class=\"lite xft\"><span class=\"f\">lite=</span>t</span></div>\n",
       "</div>\n",
       "</div>\n",
       "</div>\n",
       "<div class=\"stress  \" >\n",
       "<div class=\"features\"></div>\n",
       "<div class=\"word  \" >\n",
       "<div class=\"features\"> <span class=\"lite xft\"><span class=\"f\">lite=</span>gozali</span></div>\n",
       "<div class=\"letter  \" >\n",
       "<div class=\"ara\">G</div>\n",
       "<div class=\"features\"> <span class=\"lite xft\"><span class=\"f\">lite=</span>g</span></div>\n",
       "</div>\n",
       "<div class=\"letter  \" >\n",
       "<div class=\"ara\">o</div>\n",
       "<div class=\"features\"> <span class=\"lite xft\"><span class=\"f\">lite=</span>o</span></div>\n",
       "</div>\n",
       "<div class=\"letter  \" >\n",
       "<div class=\"ara\">z</div>\n",
       "<div class=\"features\"> <span class=\"lite xft\"><span class=\"f\">lite=</span>z</span></div>\n",
       "</div>\n",
       "<div class=\"letter  \" >\n",
       "<div class=\"ara\">á</div>\n",
       "<div class=\"features\"> <span class=\"lite xft\"><span class=\"f\">lite=</span>a</span></div>\n",
       "</div>\n",
       "<div class=\"letter  \" >\n",
       "<div class=\"ara\">l</div>\n",
       "<div class=\"features\"> <span class=\"lite xft\"><span class=\"f\">lite=</span>l</span></div>\n",
       "</div>\n",
       "<div class=\"letter  \" >\n",
       "<div class=\"ara\">i</div>\n",
       "<div class=\"features\"> <span class=\"lite xft\"><span class=\"f\">lite=</span>i</span></div>\n",
       "</div>\n",
       "</div>\n",
       "</div>\n",
       "<div class=\"stress  \" >\n",
       "<div class=\"features\"></div>\n",
       "<div class=\"word  \" >\n",
       "<div class=\"features\"> <span class=\"lite xft\"><span class=\"f\">lite=</span>)u</span></div>\n",
       "<div class=\"letter  \" >\n",
       "<div class=\"ara\">ʾ</div>\n",
       "<div class=\"features\"> <span class=\"lite xft\"><span class=\"f\">lite=</span>)</span></div>\n",
       "</div>\n",
       "<div class=\"letter  \" >\n",
       "<div class=\"ara\">u</div>\n",
       "<div class=\"features\"> <span class=\"lite xft\"><span class=\"f\">lite=</span>u</span></div>\n",
       "</div>\n",
       "</div>\n",
       "<div class=\"word  \" >\n",
       "<div class=\"features\"> <span class=\"lite xft\"><span class=\"f\">lite=</span>nozali</span></div>\n",
       "<div class=\"letter  \" >\n",
       "<div class=\"ara\">N</div>\n",
       "<div class=\"features\"> <span class=\"lite xft\"><span class=\"f\">lite=</span>n</span></div>\n",
       "</div>\n",
       "<div class=\"letter  \" >\n",
       "<div class=\"ara\">o</div>\n",
       "<div class=\"features\"> <span class=\"lite xft\"><span class=\"f\">lite=</span>o</span></div>\n",
       "</div>\n",
       "<div class=\"letter  \" >\n",
       "<div class=\"ara\">z</div>\n",
       "<div class=\"features\"> <span class=\"lite xft\"><span class=\"f\">lite=</span>z</span></div>\n",
       "</div>\n",
       "<div class=\"letter  \" >\n",
       "<div class=\"ara\">à</div>\n",
       "<div class=\"features\"> <span class=\"lite xft\"><span class=\"f\">lite=</span>a</span></div>\n",
       "</div>\n",
       "<div class=\"letter  \" >\n",
       "<div class=\"ara\">l</div>\n",
       "<div class=\"features\"> <span class=\"lite xft\"><span class=\"f\">lite=</span>l</span></div>\n",
       "</div>\n",
       "<div class=\"letter  \" >\n",
       "<div class=\"ara\">i</div>\n",
       "<div class=\"features\"> <span class=\"lite xft\"><span class=\"f\">lite=</span>i</span></div>\n",
       "</div>\n",
       "</div>\n",
       "</div>\n",
       "</div>\n",
       "</div>\n",
       "</div>"
      ],
      "text/plain": [
       "<IPython.core.display.HTML object>"
      ]
     },
     "metadata": {},
     "output_type": "display_data"
    }
   ],
   "source": [
    "A.pretty(sentences[0], extraFeatures='lite', showChar=True, showWord=True)"
   ]
  },
  {
   "cell_type": "markdown",
   "metadata": {},
   "source": [
    "We can even do it for a whole line:"
   ]
  },
  {
   "cell_type": "code",
   "execution_count": 18,
   "metadata": {},
   "outputs": [
    {
     "data": {
      "text/html": [
       "<div class=\"outeritem\">\n",
       "<div class=\"line  \" >\n",
       "\n",
       "    <div class=\"ll\">\n",
       "        <div class=\"line\"><a href=\"https://github.com/CambridgeSemiticsLab/nena_corpus/blob/master/nena/0.02/Barwar/Gozali and Nozali.nena\" title=\"see this passage in its source document\" sec=\"Barwar, Gozali and Nozali, Ln. 1\">Barwar, Gozali and Nozali, Ln. 1</a></div>\n",
       "        <a href=\"#\" class=\"nd\">575534</a><div class=\"features\"></div>\n",
       "    </div>\n",
       "\n",
       "</div>\n",
       "</div>"
      ],
      "text/plain": [
       "<IPython.core.display.HTML object>"
      ]
     },
     "metadata": {},
     "output_type": "display_data"
    }
   ],
   "source": [
    "A.pretty(lines[0], extraFeatures='lite', withNodes=True)"
   ]
  },
  {
   "cell_type": "markdown",
   "metadata": {},
   "source": [
    "We do not see much, because the default condense type is `sentence`, and a `line` is bigger than that.\n",
    "Objects bigger than de condense type will be abbreviated to a label that indicates their identity,\n",
    "not their contents.\n",
    "\n",
    "But we can override this by adding `full=True`.\n",
    "\n",
    "See also the documentation on [`pretty`](https://annotation.github.io/text-fabric/Api/App/#display)."
   ]
  },
  {
   "cell_type": "code",
   "execution_count": 19,
   "metadata": {},
   "outputs": [
    {
     "data": {
      "text/html": [
       "<div class=\"outeritem\">\n",
       "<div class=\"line  \" >\n",
       "\n",
       "    <div class=\"ll\">\n",
       "        <div class=\"line\"><a href=\"https://github.com/CambridgeSemiticsLab/nena_corpus/blob/master/nena/0.02/Barwar/Gozali and Nozali.nena\" title=\"see this passage in its source document\" sec=\"Barwar, Gozali and Nozali, Ln. 1\">Barwar, Gozali and Nozali, Ln. 1</a></div>\n",
       "        <div class=\"features\"></div>\n",
       "    </div>\n",
       "\n",
       "<div class=\"macro  \" >\n",
       "<div class=\"features\"></div>\n",
       "<div class=\"prosa  \" >\n",
       "<div class=\"features\"></div>\n",
       "<div class=\"stress  \" >\n",
       "<div class=\"ara\">ʾána </div>\n",
       "<div class=\"features\"></div>\n",
       "</div>\n",
       "<div class=\"stress  \" >\n",
       "<div class=\"ara\">šmíyənwa </div>\n",
       "<div class=\"features\"></div>\n",
       "</div>\n",
       "<div class=\"stress  \" >\n",
       "<div class=\"ara\">xa-tunìθaˈ </div>\n",
       "<div class=\"features\"></div>\n",
       "</div>\n",
       "</div>\n",
       "<div class=\"prosa  \" >\n",
       "<div class=\"features\"></div>\n",
       "<div class=\"stress  \" >\n",
       "<div class=\"ara\">y-amríwala </div>\n",
       "<div class=\"features\"></div>\n",
       "</div>\n",
       "<div class=\"stress  \" >\n",
       "<div class=\"ara\">gozáli </div>\n",
       "<div class=\"features\"></div>\n",
       "</div>\n",
       "<div class=\"stress  \" >\n",
       "<div class=\"ara\">ʾu-nozàli,ˈ </div>\n",
       "<div class=\"features\"></div>\n",
       "</div>\n",
       "</div>\n",
       "<div class=\"prosa  \" >\n",
       "<div class=\"features\"></div>\n",
       "<div class=\"stress  \" >\n",
       "<div class=\"ara\">šə́mma </div>\n",
       "<div class=\"features\"></div>\n",
       "</div>\n",
       "<div class=\"stress  \" >\n",
       "<div class=\"ara\">díya </div>\n",
       "<div class=\"features\"></div>\n",
       "</div>\n",
       "<div class=\"stress  \" >\n",
       "<div class=\"ara\">yáʿni </div>\n",
       "<div class=\"features\"></div>\n",
       "</div>\n",
       "<div class=\"stress  \" >\n",
       "<div class=\"ara\">tuníθət </div>\n",
       "<div class=\"features\"></div>\n",
       "</div>\n",
       "<div class=\"stress  \" >\n",
       "<div class=\"ara\">gozáli </div>\n",
       "<div class=\"features\"></div>\n",
       "</div>\n",
       "<div class=\"stress  \" >\n",
       "<div class=\"ara\">ʾu-nozàli.ˈ </div>\n",
       "<div class=\"features\"></div>\n",
       "</div>\n",
       "</div>\n",
       "</div>\n",
       "<div class=\"macro  \" >\n",
       "<div class=\"features\"></div>\n",
       "<div class=\"prosa  \" >\n",
       "<div class=\"features\"></div>\n",
       "<div class=\"stress  \" >\n",
       "<div class=\"ara\">dáx </div>\n",
       "<div class=\"features\"></div>\n",
       "</div>\n",
       "<div class=\"stress  \" >\n",
       "<div class=\"ara\">ʾiwáwa </div>\n",
       "<div class=\"features\"></div>\n",
       "</div>\n",
       "<div class=\"stress  \" >\n",
       "<div class=\"ara\">ʾàyya?ˈ </div>\n",
       "<div class=\"features\"></div>\n",
       "</div>\n",
       "</div>\n",
       "</div>\n",
       "<div class=\"macro  \" >\n",
       "<div class=\"features\"></div>\n",
       "<div class=\"prosa  \" >\n",
       "<div class=\"features\"></div>\n",
       "<div class=\"stress  \" >\n",
       "<div class=\"ara\">ʾi-mšárəxwa </div>\n",
       "<div class=\"features\"></div>\n",
       "</div>\n",
       "<div class=\"stress  \" >\n",
       "<div class=\"ara\">tuníθa </div>\n",
       "<div class=\"features\"></div>\n",
       "</div>\n",
       "<div class=\"stress  \" >\n",
       "<div class=\"ara\">y-amrìwaˈ </div>\n",
       "<div class=\"features\"></div>\n",
       "</div>\n",
       "</div>\n",
       "</div>\n",
       "</div>\n",
       "</div>"
      ],
      "text/plain": [
       "<IPython.core.display.HTML object>"
      ]
     },
     "metadata": {},
     "output_type": "display_data"
    }
   ],
   "source": [
    "A.pretty(lines[0], extraFeatures='lite', withNodes=False, full=True)"
   ]
  },
  {
   "cell_type": "markdown",
   "metadata": {},
   "source": [
    "---\n",
    "\n",
    "All chapters:\n",
    "\n",
    "* **[start](start.ipynb)** introduction to computing with your corpus\n",
    "* **display** become an expert in creating pretty displays of your text structures\n",
    "* **[search](search.ipynb)** turbo charge your hand-coding with search templates\n",
    "* **[exportExcel](exportExcel.ipynb)** make tailor-made spreadsheets out of your results\n",
    "* **[share](share.ipynb)** draw in other people's data and let them use yours\n",
    "* **[similarLines](similarLines.ipynb)** spot the similarities between lines\n",
    "\n",
    "---\n",
    "\n",
    "See the [cookbook](cookbook) for recipes for small, concrete tasks."
   ]
  }
 ],
 "metadata": {
  "kernelspec": {
   "display_name": "Python 3",
   "language": "python",
   "name": "python3"
  },
  "language_info": {
   "codemirror_mode": {
    "name": "ipython",
    "version": 3
   },
   "file_extension": ".py",
   "mimetype": "text/x-python",
   "name": "python",
   "nbconvert_exporter": "python",
   "pygments_lexer": "ipython3",
   "version": "3.7.7"
  },
  "toc": {
   "base_numbering": 1,
   "nav_menu": {},
   "number_sections": true,
   "sideBar": true,
   "skip_h1_title": false,
   "title_cell": "Table of Contents",
   "title_sidebar": "Contents",
   "toc_cell": false,
   "toc_position": {},
   "toc_section_display": "block",
   "toc_window_display": false
  }
 },
 "nbformat": 4,
 "nbformat_minor": 4
}
