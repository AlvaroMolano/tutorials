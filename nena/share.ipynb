{
 "cells": [
  {
   "cell_type": "markdown",
   "metadata": {},
   "source": [
    "<img align=\"right\" src=\"images/tf.png\" width=\"128\"/>\n",
    "<img align=\"right\" src=\"images/logo.png\" width=\"128\"/>\n",
    "<img align=\"right\" src=\"images/etcbc.png\" width=\"128\"/>\n",
    "<img align=\"right\" src=\"images/dans.png\" width=\"128\"/>\n",
    "\n",
    "---\n",
    "\n",
    "To get started: consult [start](start.ipynb)\n",
    "\n",
    "---\n",
    "\n",
    "# Sharing data features\n",
    "\n",
    "## Explore additional data\n",
    "\n",
    "Once you analyse a corpus, it is likely that you produce data that others can reuse.\n",
    "Maybe you have defined a set of proper name occurrences, or special numerals, or you have computed part-of-speech assignments.\n",
    "\n",
    "It is possible to turn these insights into *new features*, i.e. new `.tf` files with values assigned to specific nodes.\n",
    "\n",
    "## Make your own data\n",
    "\n",
    "New data is a product of your own methods and computations in the first place.\n",
    "But how do you turn that data into new TF features?\n",
    "It turns out that the last step is not that difficult.\n",
    "\n",
    "If you can shape your data as a mapping (dictionary) from node numbers (integers) to values\n",
    "(strings or integers), then TF can turn that data into a feature file for you with one command.\n",
    "\n",
    "## Share your new data\n",
    "You can then easily share your new features on GitHub, so that your colleagues everywhere \n",
    "can try it out for themselves.\n",
    "\n",
    "You can add such data on the fly, by passing a `mod={org}/{repo}/{path}` parameter,\n",
    "or a bunch of them separated by commas.\n",
    "\n",
    "If the data is there, it will be auto-downloaded and stored on your machine.\n",
    "\n",
    "Let's do it."
   ]
  },
  {
   "cell_type": "code",
   "execution_count": null,
   "metadata": {},
   "outputs": [],
   "source": [
    "%load_ext autoreload\n",
    "%autoreload 2"
   ]
  },
  {
   "cell_type": "code",
   "execution_count": null,
   "metadata": {
    "ExecuteTime": {
     "end_time": "2018-05-24T10:06:39.818664Z",
     "start_time": "2018-05-24T10:06:39.796588Z"
    }
   },
   "outputs": [],
   "source": [
    "import collections\n",
    "\n",
    "from tf.app import use"
   ]
  },
  {
   "cell_type": "code",
   "execution_count": null,
   "metadata": {},
   "outputs": [],
   "source": [
    "A = use('nena', hoist=globals())"
   ]
  },
  {
   "cell_type": "markdown",
   "metadata": {},
   "source": [
    "# Making data\n",
    "\n"
   ]
  },
  {
   "cell_type": "markdown",
   "metadata": {},
   "source": [
    "# Saving data\n",
    "\n",
    "The [documentation](https://annotation.github.io/text-fabric/Api/Fabric/#saving-features) explains how to save this data into a text-fabric\n",
    "data file."
   ]
  },
  {
   "cell_type": "code",
   "execution_count": null,
   "metadata": {},
   "outputs": [],
   "source": [
    "import os"
   ]
  },
  {
   "cell_type": "code",
   "execution_count": null,
   "metadata": {},
   "outputs": [],
   "source": [
    "GITHUB = os.path.expanduser('~/github')\n",
    "ORG = 'CambridgeSemiticsLab'\n",
    "REPO = 'nena'\n",
    "PATH = 'exercises'\n",
    "VERSION = A.version"
   ]
  },
  {
   "cell_type": "markdown",
   "metadata": {},
   "source": [
    "Note the version: we have built the version against a specific version of the data:"
   ]
  },
  {
   "cell_type": "code",
   "execution_count": null,
   "metadata": {},
   "outputs": [],
   "source": [
    "A.version"
   ]
  },
  {
   "cell_type": "markdown",
   "metadata": {},
   "source": [
    "Later on, we pass this version on, so that users of our data will get the shared data in exactly the same version as their core data."
   ]
  },
  {
   "cell_type": "markdown",
   "metadata": {},
   "source": [
    "We have to specify a bit of metadata for this feature:"
   ]
  },
  {
   "cell_type": "code",
   "execution_count": null,
   "metadata": {},
   "outputs": [],
   "source": [
    "metaData = {\n",
    "  'cert': dict(\n",
    "    valueType='int',\n",
    "    description='to be filled in',\n",
    "    creator='Cody Kingham et al.',\n",
    "  ),\n",
    "}"
   ]
  },
  {
   "cell_type": "markdown",
   "metadata": {},
   "source": [
    "Now we can give the save command:"
   ]
  },
  {
   "cell_type": "code",
   "execution_count": null,
   "metadata": {},
   "outputs": [],
   "source": [
    "TF.save(nodeFeatures=dict(cert=cert), metaData=metaData, location=f'{GITHUB}/{ORG}/{REPO}/{PATH}/tf', module=VERSION)"
   ]
  },
  {
   "cell_type": "markdown",
   "metadata": {},
   "source": [
    "# Sharing data\n",
    "\n",
    "How to share your own data is explained in the\n",
    "[documentation](https://annotation.github.io/text-fabric/Api/Data/).\n",
    "\n",
    "If you commit your changes to the exercises repo, and have done a `git push origin master`,\n",
    "you already have shared your data!\n",
    "\n",
    "If you want to make a stable release, so that you can keep developing, while your users fall back\n",
    "on the stable data, you can make a new release.\n",
    "\n",
    "Go to the GitHub website for that, go to your repo, and click *Releases* and follow the nudges.\n",
    "\n",
    "If you want to make it even smoother for your users, you can zip the data and attach it as a binary to the release just created.\n",
    "\n",
    "We need to zip the data in exactly the right directory structure. Text-Fabric can do that for us:"
   ]
  },
  {
   "cell_type": "code",
   "execution_count": null,
   "metadata": {},
   "outputs": [],
   "source": [
    "%%sh\n",
    "\n",
    "text-fabric-zip CambridgeSemiticsLab/nena/exercises/tf"
   ]
  },
  {
   "cell_type": "markdown",
   "metadata": {},
   "source": [
    "All versions have been zipped, but it works OK if you only attach the newest version to the newest release.\n",
    "\n",
    "If a user asks for an older version in this release, the system can still find it."
   ]
  },
  {
   "cell_type": "markdown",
   "metadata": {},
   "source": [
    "# Use the data\n",
    "\n",
    "We can use the data by calling it up when we say `use('nena', ...)`.\n",
    "\n",
    "Here is how:\n",
    "\n",
    "(use the line without `clone` if the data is really published,\n",
    "use the line with `clone` if you want to test your local copy of the feature)."
   ]
  },
  {
   "cell_type": "code",
   "execution_count": null,
   "metadata": {},
   "outputs": [],
   "source": [
    "A = use('nena', hoist=globals(), mod='CambridgeSemiticsLab/nena/exercises/tf')\n",
    "# A = use('dss', hoist=globals(), mod='etcbc/dss/exercises/tf:clone')"
   ]
  },
  {
   "cell_type": "markdown",
   "metadata": {},
   "source": [
    "Above you see a new section in the feature list: **CambridgeSemiticsLab/nena/exercises/tf** with our new features in it.\n",
    "\n",
    "Now, suppose did not know much about this feature, then we would like to do a few basic checks:"
   ]
  },
  {
   "cell_type": "code",
   "execution_count": null,
   "metadata": {},
   "outputs": [],
   "source": [
    "F.xxx.freqList()"
   ]
  },
  {
   "cell_type": "markdown",
   "metadata": {},
   "source": [
    "Which nodes have the lowest uncertainty?"
   ]
  },
  {
   "cell_type": "markdown",
   "metadata": {},
   "source": [
    "# All together!\n",
    "\n",
    "If more researchers have shared data modules, you can draw them all in.\n",
    "\n",
    "Then you can design queries that use features from all these different sources.\n",
    "\n",
    "In that way, you build your own research on top of the work of others."
   ]
  },
  {
   "cell_type": "markdown",
   "metadata": {},
   "source": [
    "Hover over the features to see where they come from, and you'll see they come from your local github repo."
   ]
  },
  {
   "cell_type": "markdown",
   "metadata": {},
   "source": [
    "---\n",
    "\n",
    "All chapters:\n",
    "\n",
    "* **[start](start.ipynb)** become an expert in creating pretty displays of your text structures\n",
    "* **[display](display.ipynb)** become an expert in creating pretty displays of your text structures\n",
    "* **[search](search.ipynb)** turbo charge your hand-coding with search templates\n",
    "* **[exportExcel](exportExcel.ipynb)** make tailor-made spreadsheets out of your results\n",
    "* **share** draw in other people's data and let them use yours\n",
    "* **[similarLines](similarLines.ipynb)** spot the similarities between lines\n",
    "\n",
    "---\n",
    "\n",
    "See the [cookbook](cookbook) for recipes for small, concrete tasks."
   ]
  }
 ],
 "metadata": {
  "kernelspec": {
   "display_name": "Python 3",
   "language": "python",
   "name": "python3"
  },
  "language_info": {
   "codemirror_mode": {
    "name": "ipython",
    "version": 3
   },
   "file_extension": ".py",
   "mimetype": "text/x-python",
   "name": "python",
   "nbconvert_exporter": "python",
   "pygments_lexer": "ipython3",
   "version": "3.7.7"
  }
 },
 "nbformat": 4,
 "nbformat_minor": 4
}
