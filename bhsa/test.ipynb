{
 "cells": [
  {
   "cell_type": "code",
   "execution_count": 1,
   "metadata": {},
   "outputs": [],
   "source": [
    "from tf.app import use"
   ]
  },
  {
   "cell_type": "code",
   "execution_count": 2,
   "metadata": {},
   "outputs": [
    {
     "name": "stdout",
     "output_type": "stream",
     "text": [
      "\tconnecting to online GitHub repo annotation/app-bhsa ... connected\n",
      "Using TF-app in /Users/dirk/text-fabric-data/annotation/app-bhsa/code:\n",
      "\t#d3cf8f0c2ab5d690a0fda14ea31c33da5c5c8483 (latest commit)\n",
      "\tconnecting to online GitHub repo etcbc/bhsa ... connected\n",
      "Using data in /Users/dirk/text-fabric-data/etcbc/bhsa/tf/2017:\n",
      "\trv1.6 (latest release)\n",
      "\tconnecting to online GitHub repo etcbc/phono ... connected\n",
      "Using data in /Users/dirk/text-fabric-data/etcbc/phono/tf/2017:\n",
      "\tr1.2=#1ac68e976ee4a7f23eb6bb4c6f401a033d0ec169 (latest release)\n",
      "\tconnecting to online GitHub repo etcbc/parallels ... connected\n",
      "Using data in /Users/dirk/text-fabric-data/etcbc/parallels/tf/2017:\n",
      "\tr1.2=#395dfe2cb69c261862fab9f0289e594a52121d5c (latest release)\n",
      "\tconnecting to online GitHub repo etcbc/bh-reference-system ... failed\n"
     ]
    },
    {
     "name": "stderr",
     "output_type": "stream",
     "text": [
      "The requested data is not available offline\n",
      "There were problems with loading data.\n",
      "The Text-Fabric API has not been loaded!\n",
      "The app \"bhsa\" will not work!\n"
     ]
    }
   ],
   "source": [
    "A = use(\n",
    "   'bhsa', version='2017',\n",
    "   mod=(\n",
    "        'etcbc/bh-reference-system/tf'\n",
    "   ),\n",
    "   hoist=globals()\n",
    ")"
   ]
  },
  {
   "cell_type": "code",
   "execution_count": null,
   "metadata": {},
   "outputs": [],
   "source": []
  }
 ],
 "metadata": {
  "kernelspec": {
   "display_name": "Python 3",
   "language": "python",
   "name": "python3"
  },
  "language_info": {
   "codemirror_mode": {
    "name": "ipython",
    "version": 3
   },
   "file_extension": ".py",
   "mimetype": "text/x-python",
   "name": "python",
   "nbconvert_exporter": "python",
   "pygments_lexer": "ipython3",
   "version": "3.7.2"
  }
 },
 "nbformat": 4,
 "nbformat_minor": 2
}
