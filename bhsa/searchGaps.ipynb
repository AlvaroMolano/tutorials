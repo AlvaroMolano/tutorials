{
 "cells": [
  {
   "cell_type": "markdown",
   "metadata": {},
   "source": [
    "<img align=\"right\" src=\"images/tf-small.png\" width=\"128\"/>\n",
    "<img align=\"right\" src=\"images/etcbc.png\"/>\n",
    "<img align=\"right\" src=\"images/dans-small.png\"/>\n",
    "\n",
    "You might want to consider the [start](search.ipynb) of this tutorial."
   ]
  },
  {
   "cell_type": "code",
   "execution_count": 1,
   "metadata": {},
   "outputs": [],
   "source": [
    "%load_ext autoreload\n",
    "%autoreload 2"
   ]
  },
  {
   "cell_type": "code",
   "execution_count": 2,
   "metadata": {
    "ExecuteTime": {
     "end_time": "2018-05-24T10:06:39.818664Z",
     "start_time": "2018-05-24T10:06:39.796588Z"
    }
   },
   "outputs": [],
   "source": [
    "from tf.app import use"
   ]
  },
  {
   "cell_type": "code",
   "execution_count": 3,
   "metadata": {
    "ExecuteTime": {
     "end_time": "2018-05-24T10:06:41.254515Z",
     "start_time": "2018-05-24T10:06:41.238046Z"
    }
   },
   "outputs": [],
   "source": [
    "VERSION = '2017'"
   ]
  },
  {
   "cell_type": "code",
   "execution_count": 72,
   "metadata": {
    "ExecuteTime": {
     "end_time": "2018-05-24T10:06:48.865143Z",
     "start_time": "2018-05-24T10:06:44.712958Z"
    }
   },
   "outputs": [
    {
     "name": "stdout",
     "output_type": "stream",
     "text": [
      "Using TF-app in /Users/dirk/github/annotation/app-bhsa/code:\n",
      "\trepo clone offline under ~/github (local github)\n",
      "Using data in /Users/dirk/github/etcbc/bhsa/tf/2017:\n",
      "\trepo clone offline under ~/github (local github)\n",
      "Using data in /Users/dirk/github/etcbc/phono/tf/2017:\n",
      "\trepo clone offline under ~/github (local github)\n",
      "Using data in /Users/dirk/github/etcbc/parallels/tf/2017:\n",
      "\trepo clone offline under ~/github (local github)\n",
      "   |     0.00s No structure info in otext, the structure part of the T-API cannot be used\n"
     ]
    },
    {
     "data": {
      "text/html": [
       "<b>Documentation:</b> <a target=\"_blank\" href=\"https://etcbc.github.io/bhsa\" title=\"provenance of BHSA = Biblia Hebraica Stuttgartensia Amstelodamensis\">BHSA</a> <a target=\"_blank\" href=\"https://annotation.github.io/text-fabric/Writing/Hebrew\" title=\"('Hebrew characters and transcriptions',)\">Character table</a> <a target=\"_blank\" href=\"https://etcbc.github.io/bhsa/features/0_home\" title=\"BHSA feature documentation\">Feature docs</a> <a target=\"_blank\" href=\"https://github.com/annotation/app-bhsa\" title=\"bhsa API documentation\">bhsa API</a> <a target=\"_blank\" href=\"https://annotation.github.io/text-fabric/Api/Fabric/\" title=\"text-fabric-api\">Text-Fabric API 7.11.1</a> <a target=\"_blank\" href=\"https://annotation.github.io/text-fabric/Use/Search/\" title=\"Search Templates Introduction and Reference\">Search Reference</a><details open><summary><b>Loaded features</b>:</summary>\n",
       "<p><b>BHSA = Biblia Hebraica Stuttgartensia Amstelodamensis</b>: <a target=\"_blank\" href=\"https://etcbc.github.io/bhsa/features/book\" title=\"/Users/dirk/github/etcbc/bhsa/tf/2017/book.tf\">book</a>  <a target=\"_blank\" href=\"https://etcbc.github.io/bhsa/features/book@ll\" title=\"/Users/dirk/github/etcbc/bhsa/tf/2017/book@am.tf\">book@ll</a>  <a target=\"_blank\" href=\"https://etcbc.github.io/bhsa/features/chapter\" title=\"/Users/dirk/github/etcbc/bhsa/tf/2017/chapter.tf\">chapter</a>  <a target=\"_blank\" href=\"https://etcbc.github.io/bhsa/features/code\" title=\"/Users/dirk/github/etcbc/bhsa/tf/2017/code.tf\">code</a>  <a target=\"_blank\" href=\"https://etcbc.github.io/bhsa/features/det\" title=\"/Users/dirk/github/etcbc/bhsa/tf/2017/det.tf\">det</a>  <a target=\"_blank\" href=\"https://etcbc.github.io/bhsa/features/domain\" title=\"/Users/dirk/github/etcbc/bhsa/tf/2017/domain.tf\">domain</a>  <a target=\"_blank\" href=\"https://etcbc.github.io/bhsa/features/freq_lex\" title=\"/Users/dirk/github/etcbc/bhsa/tf/2017/freq_lex.tf\">freq_lex</a>  <a target=\"_blank\" href=\"https://etcbc.github.io/bhsa/features/function\" title=\"/Users/dirk/github/etcbc/bhsa/tf/2017/function.tf\">function</a>  <a target=\"_blank\" href=\"https://etcbc.github.io/bhsa/features/g_cons\" title=\"/Users/dirk/github/etcbc/bhsa/tf/2017/g_cons.tf\">g_cons</a>  <a target=\"_blank\" href=\"https://etcbc.github.io/bhsa/features/g_cons_utf8\" title=\"/Users/dirk/github/etcbc/bhsa/tf/2017/g_cons_utf8.tf\">g_cons_utf8</a>  <a target=\"_blank\" href=\"https://etcbc.github.io/bhsa/features/g_lex\" title=\"/Users/dirk/github/etcbc/bhsa/tf/2017/g_lex.tf\">g_lex</a>  <a target=\"_blank\" href=\"https://etcbc.github.io/bhsa/features/g_lex_utf8\" title=\"/Users/dirk/github/etcbc/bhsa/tf/2017/g_lex_utf8.tf\">g_lex_utf8</a>  <a target=\"_blank\" href=\"https://etcbc.github.io/bhsa/features/g_word\" title=\"/Users/dirk/github/etcbc/bhsa/tf/2017/g_word.tf\">g_word</a>  <a target=\"_blank\" href=\"https://etcbc.github.io/bhsa/features/g_word_utf8\" title=\"/Users/dirk/github/etcbc/bhsa/tf/2017/g_word_utf8.tf\">g_word_utf8</a>  <a target=\"_blank\" href=\"https://etcbc.github.io/bhsa/features/gloss\" title=\"/Users/dirk/github/etcbc/bhsa/tf/2017/gloss.tf\">gloss</a>  <a target=\"_blank\" href=\"https://etcbc.github.io/bhsa/features/gn\" title=\"/Users/dirk/github/etcbc/bhsa/tf/2017/gn.tf\">gn</a>  <a target=\"_blank\" href=\"https://etcbc.github.io/bhsa/features/label\" title=\"/Users/dirk/github/etcbc/bhsa/tf/2017/label.tf\">label</a>  <a target=\"_blank\" href=\"https://etcbc.github.io/bhsa/features/language\" title=\"/Users/dirk/github/etcbc/bhsa/tf/2017/language.tf\">language</a>  <a target=\"_blank\" href=\"https://etcbc.github.io/bhsa/features/lex\" title=\"/Users/dirk/github/etcbc/bhsa/tf/2017/lex.tf\">lex</a>  <a target=\"_blank\" href=\"https://etcbc.github.io/bhsa/features/lex_utf8\" title=\"/Users/dirk/github/etcbc/bhsa/tf/2017/lex_utf8.tf\">lex_utf8</a>  <a target=\"_blank\" href=\"https://etcbc.github.io/bhsa/features/ls\" title=\"/Users/dirk/github/etcbc/bhsa/tf/2017/ls.tf\">ls</a>  <a target=\"_blank\" href=\"https://etcbc.github.io/bhsa/features/nametype\" title=\"/Users/dirk/github/etcbc/bhsa/tf/2017/nametype.tf\">nametype</a>  <a target=\"_blank\" href=\"https://etcbc.github.io/bhsa/features/nme\" title=\"/Users/dirk/github/etcbc/bhsa/tf/2017/nme.tf\">nme</a>  <a target=\"_blank\" href=\"https://etcbc.github.io/bhsa/features/nu\" title=\"/Users/dirk/github/etcbc/bhsa/tf/2017/nu.tf\">nu</a>  <a target=\"_blank\" href=\"https://etcbc.github.io/bhsa/features/number\" title=\"/Users/dirk/github/etcbc/bhsa/tf/2017/number.tf\">number</a>  <a target=\"_blank\" href=\"https://etcbc.github.io/bhsa/features/otype\" title=\"/Users/dirk/github/etcbc/bhsa/tf/2017/otype.tf\">otype</a>  <a target=\"_blank\" href=\"https://etcbc.github.io/bhsa/features/pargr\" title=\"/Users/dirk/github/etcbc/bhsa/tf/2017/pargr.tf\">pargr</a>  <a target=\"_blank\" href=\"https://etcbc.github.io/bhsa/features/pdp\" title=\"/Users/dirk/github/etcbc/bhsa/tf/2017/pdp.tf\">pdp</a>  <a target=\"_blank\" href=\"https://etcbc.github.io/bhsa/features/pfm\" title=\"/Users/dirk/github/etcbc/bhsa/tf/2017/pfm.tf\">pfm</a>  <a target=\"_blank\" href=\"https://etcbc.github.io/bhsa/features/prs\" title=\"/Users/dirk/github/etcbc/bhsa/tf/2017/prs.tf\">prs</a>  <a target=\"_blank\" href=\"https://etcbc.github.io/bhsa/features/prs_gn\" title=\"/Users/dirk/github/etcbc/bhsa/tf/2017/prs_gn.tf\">prs_gn</a>  <a target=\"_blank\" href=\"https://etcbc.github.io/bhsa/features/prs_nu\" title=\"/Users/dirk/github/etcbc/bhsa/tf/2017/prs_nu.tf\">prs_nu</a>  <a target=\"_blank\" href=\"https://etcbc.github.io/bhsa/features/prs_ps\" title=\"/Users/dirk/github/etcbc/bhsa/tf/2017/prs_ps.tf\">prs_ps</a>  <a target=\"_blank\" href=\"https://etcbc.github.io/bhsa/features/ps\" title=\"/Users/dirk/github/etcbc/bhsa/tf/2017/ps.tf\">ps</a>  <a target=\"_blank\" href=\"https://etcbc.github.io/bhsa/features/qere\" title=\"/Users/dirk/github/etcbc/bhsa/tf/2017/qere.tf\">qere</a>  <a target=\"_blank\" href=\"https://etcbc.github.io/bhsa/features/qere_trailer\" title=\"/Users/dirk/github/etcbc/bhsa/tf/2017/qere_trailer.tf\">qere_trailer</a>  <a target=\"_blank\" href=\"https://etcbc.github.io/bhsa/features/qere_trailer_utf8\" title=\"/Users/dirk/github/etcbc/bhsa/tf/2017/qere_trailer_utf8.tf\">qere_trailer_utf8</a>  <a target=\"_blank\" href=\"https://etcbc.github.io/bhsa/features/qere_utf8\" title=\"/Users/dirk/github/etcbc/bhsa/tf/2017/qere_utf8.tf\">qere_utf8</a>  <a target=\"_blank\" href=\"https://etcbc.github.io/bhsa/features/rank_lex\" title=\"/Users/dirk/github/etcbc/bhsa/tf/2017/rank_lex.tf\">rank_lex</a>  <a target=\"_blank\" href=\"https://etcbc.github.io/bhsa/features/rela\" title=\"/Users/dirk/github/etcbc/bhsa/tf/2017/rela.tf\">rela</a>  <a target=\"_blank\" href=\"https://etcbc.github.io/bhsa/features/sp\" title=\"/Users/dirk/github/etcbc/bhsa/tf/2017/sp.tf\">sp</a>  <a target=\"_blank\" href=\"https://etcbc.github.io/bhsa/features/st\" title=\"/Users/dirk/github/etcbc/bhsa/tf/2017/st.tf\">st</a>  <a target=\"_blank\" href=\"https://etcbc.github.io/bhsa/features/tab\" title=\"/Users/dirk/github/etcbc/bhsa/tf/2017/tab.tf\">tab</a>  <a target=\"_blank\" href=\"https://etcbc.github.io/bhsa/features/trailer\" title=\"/Users/dirk/github/etcbc/bhsa/tf/2017/trailer.tf\">trailer</a>  <a target=\"_blank\" href=\"https://etcbc.github.io/bhsa/features/trailer_utf8\" title=\"/Users/dirk/github/etcbc/bhsa/tf/2017/trailer_utf8.tf\">trailer_utf8</a>  <a target=\"_blank\" href=\"https://etcbc.github.io/bhsa/features/txt\" title=\"/Users/dirk/github/etcbc/bhsa/tf/2017/txt.tf\">txt</a>  <a target=\"_blank\" href=\"https://etcbc.github.io/bhsa/features/typ\" title=\"/Users/dirk/github/etcbc/bhsa/tf/2017/typ.tf\">typ</a>  <a target=\"_blank\" href=\"https://etcbc.github.io/bhsa/features/uvf\" title=\"/Users/dirk/github/etcbc/bhsa/tf/2017/uvf.tf\">uvf</a>  <a target=\"_blank\" href=\"https://etcbc.github.io/bhsa/features/vbe\" title=\"/Users/dirk/github/etcbc/bhsa/tf/2017/vbe.tf\">vbe</a>  <a target=\"_blank\" href=\"https://etcbc.github.io/bhsa/features/vbs\" title=\"/Users/dirk/github/etcbc/bhsa/tf/2017/vbs.tf\">vbs</a>  <a target=\"_blank\" href=\"https://etcbc.github.io/bhsa/features/verse\" title=\"/Users/dirk/github/etcbc/bhsa/tf/2017/verse.tf\">verse</a>  <a target=\"_blank\" href=\"https://etcbc.github.io/bhsa/features/voc_lex\" title=\"/Users/dirk/github/etcbc/bhsa/tf/2017/voc_lex.tf\">voc_lex</a>  <a target=\"_blank\" href=\"https://etcbc.github.io/bhsa/features/voc_lex_utf8\" title=\"/Users/dirk/github/etcbc/bhsa/tf/2017/voc_lex_utf8.tf\">voc_lex_utf8</a>  <a target=\"_blank\" href=\"https://etcbc.github.io/bhsa/features/vs\" title=\"/Users/dirk/github/etcbc/bhsa/tf/2017/vs.tf\">vs</a>  <a target=\"_blank\" href=\"https://etcbc.github.io/bhsa/features/vt\" title=\"/Users/dirk/github/etcbc/bhsa/tf/2017/vt.tf\">vt</a>  <b><i><a target=\"_blank\" href=\"https://etcbc.github.io/bhsa/features/mother\" title=\"/Users/dirk/github/etcbc/bhsa/tf/2017/mother.tf\">mother</a></i></b>  <b><i><a target=\"_blank\" href=\"https://etcbc.github.io/bhsa/features/omap@ll\" title=\"/Users/dirk/github/etcbc/bhsa/tf/2017/omap@2016-2017.tf\">omap@ll</a></i></b>  <b><i><a target=\"_blank\" href=\"https://etcbc.github.io/bhsa/features/oslots\" title=\"/Users/dirk/github/etcbc/bhsa/tf/2017/oslots.tf\">oslots</a></i></b> </p><p><b>Parallel Passages</b>: <b><i><a target=\"_blank\" href=\"https://nbviewer.jupyter.org/github/etcbc/parallels/blob/master/programs/parallels.ipynb\" title=\"/Users/dirk/github/etcbc/parallels/tf/2017/crossref.tf\">crossref</a></i></b> </p><p><b>Phonetic Transcriptions</b>: <a target=\"_blank\" href=\"https://nbviewer.jupyter.org/github/etcbc/phono/blob/master/programs/phono.ipynb\" title=\"/Users/dirk/github/etcbc/phono/tf/2017/phono.tf\">phono</a>  <a target=\"_blank\" href=\"https://nbviewer.jupyter.org/github/etcbc/phono/blob/master/programs/phono.ipynb\" title=\"/Users/dirk/github/etcbc/phono/tf/2017/phono_trailer.tf\">phono_trailer</a> </p></details>"
      ],
      "text/plain": [
       "<IPython.core.display.HTML object>"
      ]
     },
     "metadata": {},
     "output_type": "display_data"
    },
    {
     "data": {
      "text/html": [
       "<style>\n",
       "@font-face {\n",
       "  font-family: \"Ezra SIL\";\n",
       "  src:\n",
       "    local(\"SILEOT.ttf\"),\n",
       "    url(\"https://github.com/annotation/text-fabric/blob/master/tf/server/static/fonts/SILEOT.woff?raw=true\");\n",
       "}\n",
       ".features {\n",
       "    font-family: monospace;\n",
       "    font-size: medium;\n",
       "    font-weight: bold;\n",
       "    color: #0a6611;\n",
       "    display: flex;\n",
       "    flex-flow: column nowrap;\n",
       "    padding: 0.1em;\n",
       "    margin: 0.1em;\n",
       "    direction: ltr;\n",
       "}\n",
       ".features div,.features span {\n",
       "    padding: 0;\n",
       "    margin: -0.1rem 0;\n",
       "}\n",
       ".features .f {\n",
       "    font-family: sans-serif;\n",
       "    font-size: x-small;\n",
       "    font-weight: normal;\n",
       "    color: #5555bb;\n",
       "}\n",
       ".features .xft {\n",
       "  color: #000000;\n",
       "  background-color: #eeeeee;\n",
       "  font-size: medium;\n",
       "  margin: 0.1em 0em;\n",
       "}\n",
       ".features .xft .f {\n",
       "  color: #000000;\n",
       "  background-color: #eeeeee;\n",
       "  font-style: italic;\n",
       "  font-size: small;\n",
       "  font-weight: normal;\n",
       "}\n",
       ".ltr {\n",
       "    direction: ltr ! important;\n",
       "}\n",
       ".rtl {\n",
       "    direction: rtl ! important;\n",
       "}\n",
       ".verse {\n",
       "    display: flex;\n",
       "    flex-flow: row wrap;\n",
       "    direction: rtl;\n",
       "}\n",
       ".vl {\n",
       "    display: flex;\n",
       "    flex-flow: column nowrap;\n",
       "    justify-content: flex-end;\n",
       "    align-items: flex-end;\n",
       "    direction: ltr;\n",
       "    width: 100%;\n",
       "}\n",
       ".outeritem {\n",
       "    display: flex;\n",
       "    flex-flow: row wrap;\n",
       "    direction: rtl;\n",
       "}\n",
       ".outerplain {\n",
       "    direction: rtl;\n",
       "}\n",
       ".sentence,.clause,.phrase {\n",
       "    margin-top: -1.2em;\n",
       "    margin-left: 1em;\n",
       "    background: #ffffff none repeat scroll 0 0;\n",
       "    padding: 0 0.3em;\n",
       "    border-style: solid;\n",
       "    border-radius: 0.2em;\n",
       "    font-size: small;\n",
       "    display: block;\n",
       "    width: fit-content;\n",
       "    max-width: fit-content;\n",
       "    direction: ltr;\n",
       "}\n",
       ".atoms {\n",
       "    display: flex;\n",
       "    flex-flow: row wrap;\n",
       "    margin: 0.3em;\n",
       "    padding: 0.3em;\n",
       "    direction: rtl;\n",
       "    background-color: #ffffff;\n",
       "}\n",
       ".satom,.catom,.patom {\n",
       "    margin: 0.3em;\n",
       "    padding: 0.3em;\n",
       "    border-radius: 0.3em;\n",
       "    border-style: solid;\n",
       "    display: flex;\n",
       "    flex-flow: column nowrap;\n",
       "    direction: rtl;\n",
       "    background-color: #ffffff;\n",
       "}\n",
       ".sentence {\n",
       "    border-color: #aa3333;\n",
       "    border-width: 1px;\n",
       "}\n",
       ".clause {\n",
       "    border-color: #aaaa33;\n",
       "    border-width: 1px;\n",
       "}\n",
       ".phrase {\n",
       "    border-color: #33aaaa;\n",
       "    border-width: 1px;\n",
       "}\n",
       ".satom {\n",
       "    border-color: #aa3333;\n",
       "    border-width: 4px;\n",
       "}\n",
       ".catom {\n",
       "    border-color: #aaaa33;\n",
       "    border-width: 3px;\n",
       "}\n",
       ".patom {\n",
       "    border-color: #33aaaa;\n",
       "    border-width: 3px;\n",
       "}\n",
       ".word {\n",
       "    padding: 0.1em;\n",
       "    margin: 0.1em;\n",
       "    border-radius: 0.1em;\n",
       "    border: 1px solid #cccccc;\n",
       "    display: flex;\n",
       "    flex-flow: column nowrap;\n",
       "    direction: rtl;\n",
       "    background-color: #ffffff;\n",
       "}\n",
       ".lextp {\n",
       "    padding: 0.1em;\n",
       "    margin: 0.1em;\n",
       "    border-radius: 0.1em;\n",
       "    border: 2px solid #888888;\n",
       "    width: fit-content;\n",
       "    display: flex;\n",
       "    flex-flow: column nowrap;\n",
       "    direction: rtl;\n",
       "    background-color: #ffffff;\n",
       "}\n",
       ".occs {\n",
       "    font-size: x-small;\n",
       "}\n",
       ".satom.l,.catom.l,.patom.l,.plain.l {\n",
       "    border-left-style: dotted\n",
       "}\n",
       ".satom.r,.catom.r,.patom.r,.plain.r {\n",
       "    border-right-style: dotted\n",
       "}\n",
       ".satom.lno,.catom.lno,.patom.lno,.plain.lno {\n",
       "    border-left-style: none\n",
       "}\n",
       ".satom.rno,.catom.rno,.patom.rno,.plain.rno {\n",
       "    border-right-style: none\n",
       "}\n",
       "a:hover {\n",
       "    text-decoration: underline | important;\n",
       "    color: #0000ff | important;\n",
       "}\n",
       ".tr,.tr a:visited,.tr a:link {\n",
       "    font-family: sans-serif;\n",
       "    font-size: large;\n",
       "    color: #000044;\n",
       "    direction: ltr;\n",
       "    text-decoration: none;\n",
       "}\n",
       ".trb,.trb a:visited,.trb a:link {\n",
       "    font-family: sans-serif;\n",
       "    font-size: normal;\n",
       "    direction: ltr;\n",
       "    text-decoration: none;\n",
       "}\n",
       ".prb,.prb a:visited,.prb a:link {\n",
       "    font-family: sans-serif;\n",
       "    font-size: large;\n",
       "    direction: ltr;\n",
       "    text-decoration: none;\n",
       "}\n",
       ".h,.h a:visited,.h a:link {\n",
       "    font-family: \"Ezra SIL\", \"SBL Hebrew\", sans-serif;\n",
       "    font-size: large;\n",
       "    color: #000044;\n",
       "    direction: rtl;\n",
       "    text-decoration: none;\n",
       "}\n",
       ".hb,.hb a:visited,.hb a:link {\n",
       "    font-family: \"Ezra SIL\", \"SBL Hebrew\", sans-serif;\n",
       "    font-size: large;\n",
       "    line-height: 2;\n",
       "    direction: rtl;\n",
       "    text-decoration: none;\n",
       "}\n",
       ".vn {\n",
       "  font-size: small !important;\n",
       "  padding-right: 1em;\n",
       "}\n",
       ".rela,.function,.typ {\n",
       "    font-family: monospace;\n",
       "    font-size: small;\n",
       "    color: #0000bb;\n",
       "}\n",
       ".pdp,.pdp a:visited,.pdp a:link {\n",
       "    font-family: monospace;\n",
       "    font-size: medium;\n",
       "    color: #0000bb;\n",
       "    text-decoration: none;\n",
       "}\n",
       ".voc_lex {\n",
       "    font-family: monospace;\n",
       "    font-size: medium;\n",
       "    color: #0000bb;\n",
       "}\n",
       ".vs {\n",
       "    font-family: monospace;\n",
       "    font-size: medium;\n",
       "    font-weight: bold;\n",
       "    color: #0000bb;\n",
       "}\n",
       ".vt {\n",
       "    font-family: monospace;\n",
       "    font-size: medium;\n",
       "    font-weight: bold;\n",
       "    color: #0000bb;\n",
       "}\n",
       ".gloss {\n",
       "    font-family: sans-serif;\n",
       "    font-size: small;\n",
       "    font-weight: normal;\n",
       "    color: #444444;\n",
       "}\n",
       ".vrs {\n",
       "    font-family: sans-serif;\n",
       "    font-size: small;\n",
       "    font-weight: bold;\n",
       "    color: #444444;\n",
       "}\n",
       ".nd {\n",
       "    font-family: monospace;\n",
       "    font-size: x-small;\n",
       "    color: #999999;\n",
       "}\n",
       ".hl {\n",
       "    background-color: #ffee66;\n",
       "}\n",
       "\n",
       "tr.tf, td.tf, th.tf {\n",
       "  text-align: left;\n",
       "}\n",
       "\n",
       "span.hldot {\n",
       "\tbackground-color: var(--hl-strong);\n",
       "\tborder: 0.2rem solid var(--hl-rim);\n",
       "\tborder-radius: 0.4rem;\n",
       "\t/*\n",
       "\tdisplay: inline-block;\n",
       "\twidth: 0.8rem;\n",
       "\theight: 0.8rem;\n",
       "\t*/\n",
       "}\n",
       "span.hl {\n",
       "\tbackground-color: var(--hl-strong);\n",
       "\tborder-width: 0;\n",
       "\tborder-radius: 0.1rem;\n",
       "\tborder-style: solid;\n",
       "}\n",
       "\n",
       "span.hlbx {\n",
       "\tborder-color: var(--hl-dark);\n",
       "\tborder-width: 0.1rem;\n",
       "\tborder-style: solid;\n",
       "\tborder-radius: 0.2rem;\n",
       "  padding: 0.2rem;\n",
       "  margin: 0.2rem;\n",
       "}\n",
       "\n",
       "span.plain {\n",
       "  display: inline-block;\n",
       "  white-space: pre-wrap;\n",
       "}\n",
       "\n",
       ":root {\n",
       "\t--hl-strong:        hsla( 60, 100%,  70%, 0.9  );\n",
       "\t--hl-rim:           hsla( 55, 100%,  60%, 0.9  );\n",
       "\t--hl-dark:          hsla( 55, 100%,  40%, 0.9  );\n",
       "}\n",
       "</style>"
      ],
      "text/plain": [
       "<IPython.core.display.HTML object>"
      ]
     },
     "metadata": {},
     "output_type": "display_data"
    },
    {
     "data": {
      "text/html": [
       "<details open><summary><b>API members</b>:</summary>\n",
       "<a target=\"_blank\" href=\"https://annotation.github.io/text-fabric/Api/Computed/#computed-data\" title=\"doc\">C Computed</a>, <a target=\"_blank\" href=\"https://annotation.github.io/text-fabric/Api/Computed/#computed-data\" title=\"doc\">Call AllComputeds</a>, <a target=\"_blank\" href=\"https://annotation.github.io/text-fabric/Api/Computed/#computed-data\" title=\"doc\">Cs ComputedString</a><br/>\n",
       "<a target=\"_blank\" href=\"https://annotation.github.io/text-fabric/Api/Features/#edge-features\" title=\"doc\">E Edge</a>, <a target=\"_blank\" href=\"https://annotation.github.io/text-fabric/Api/Features/#edge-features\" title=\"doc\">Eall AllEdges</a>, <a target=\"_blank\" href=\"https://annotation.github.io/text-fabric/Api/Features/#edge-features\" title=\"doc\">Es EdgeString</a><br/>\n",
       "<a target=\"_blank\" href=\"https://annotation.github.io/text-fabric/Api/Fabric/#loading\" title=\"doc\">ensureLoaded</a>, <a target=\"_blank\" href=\"https://annotation.github.io/text-fabric/Api/Fabric/#loading\" title=\"doc\">TF</a>, <a target=\"_blank\" href=\"https://annotation.github.io/text-fabric/Api/Fabric/#loading\" title=\"doc\">ignored</a>, <a target=\"_blank\" href=\"https://annotation.github.io/text-fabric/Api/Fabric/#loading\" title=\"doc\">loadLog</a><br/>\n",
       "<a target=\"_blank\" href=\"https://annotation.github.io/text-fabric/Api/Locality/#locality\" title=\"doc\">L Locality</a><br/>\n",
       "<a target=\"_blank\" href=\"https://annotation.github.io/text-fabric/Api/Misc/#messaging\" title=\"doc\">cache</a>, <a target=\"_blank\" href=\"https://annotation.github.io/text-fabric/Api/Misc/#messaging\" title=\"doc\">error</a>, <a target=\"_blank\" href=\"https://annotation.github.io/text-fabric/Api/Misc/#messaging\" title=\"doc\">indent</a>, <a target=\"_blank\" href=\"https://annotation.github.io/text-fabric/Api/Misc/#messaging\" title=\"doc\">info</a>, <a target=\"_blank\" href=\"https://annotation.github.io/text-fabric/Api/Misc/#messaging\" title=\"doc\">isSilent</a>, <a target=\"_blank\" href=\"https://annotation.github.io/text-fabric/Api/Misc/#messaging\" title=\"doc\">reset</a>, <a target=\"_blank\" href=\"https://annotation.github.io/text-fabric/Api/Misc/#messaging\" title=\"doc\">setSilent</a>, <a target=\"_blank\" href=\"https://annotation.github.io/text-fabric/Api/Misc/#messaging\" title=\"doc\">silentOff</a>, <a target=\"_blank\" href=\"https://annotation.github.io/text-fabric/Api/Misc/#messaging\" title=\"doc\">silentOn</a>, <a target=\"_blank\" href=\"https://annotation.github.io/text-fabric/Api/Misc/#messaging\" title=\"doc\">warning</a><br/>\n",
       "<a target=\"_blank\" href=\"https://annotation.github.io/text-fabric/Api/Nodes/#navigating-nodes\" title=\"doc\">N Nodes</a>, <a target=\"_blank\" href=\"https://annotation.github.io/text-fabric/Api/Nodes/#navigating-nodes\" title=\"doc\">sortKey</a>, <a target=\"_blank\" href=\"https://annotation.github.io/text-fabric/Api/Nodes/#navigating-nodes\" title=\"doc\">sortKeyTuple</a>, <a target=\"_blank\" href=\"https://annotation.github.io/text-fabric/Api/Nodes/#navigating-nodes\" title=\"doc\">otypeRank</a>, <a target=\"_blank\" href=\"https://annotation.github.io/text-fabric/Api/Nodes/#navigating-nodes\" title=\"doc\">sortNodes</a><br/>\n",
       "<a target=\"_blank\" href=\"https://annotation.github.io/text-fabric/Api/Features/#node-features\" title=\"doc\">F Feature</a>, <a target=\"_blank\" href=\"https://annotation.github.io/text-fabric/Api/Features/#node-features\" title=\"doc\">Fall AllFeatures</a>, <a target=\"_blank\" href=\"https://annotation.github.io/text-fabric/Api/Features/#node-features\" title=\"doc\">Fs FeatureString</a><br/>\n",
       "<a target=\"_blank\" href=\"https://annotation.github.io/text-fabric/Api/Search/#search\" title=\"doc\">S Search</a><br/>\n",
       "<a target=\"_blank\" href=\"https://annotation.github.io/text-fabric/Api/Text/#text\" title=\"doc\">T Text</a></details>"
      ],
      "text/plain": [
       "<IPython.core.display.HTML object>"
      ]
     },
     "metadata": {},
     "output_type": "display_data"
    }
   ],
   "source": [
    "# A = use('bhsa', hoist=globals(), version=VERSION)\n",
    "A = use('bhsa:clone', checkout=\"clone\", hoist=globals(), version=VERSION)"
   ]
  },
  {
   "cell_type": "markdown",
   "metadata": {},
   "source": [
    "# Gaps and spans\n",
    "\n",
    "Searches often do not deliver the results you expect.\n",
    "Besides typos, lack of familiarity with the template formalism and bugs in the system, there is\n",
    "another cause: **difficult semantics of the data**.\n",
    "\n",
    "Most users reason about phrases, clauses and sentences as if they are consecutive blocks of words.\n",
    "But in the BHSA this is not the case: each of these objects may have **gaps**.\n",
    "\n",
    "Most of the time, verse boundaries coincide with the boundaries of sentences, clauses, and phrases.\n",
    "But not always, there are verse **spanning** sentences.\n",
    "\n",
    "> **Note**\n",
    "These phenomena may wreak havoc with your intuitive reasoning about what search templates should deliver.\n",
    "Query templates do not require the objects to be consecutive and\n",
    "still they make sense. But that might not be your sense, unless you **Mind the gap!**\n",
    "\n",
    "We are going to show these issues in depth."
   ]
  },
  {
   "cell_type": "markdown",
   "metadata": {},
   "source": [
    "# Gaps\n",
    "\n",
    "TF-search has no primitives to deal with gaps directly.\n",
    "Nodes correspond to textual objects such as words, phrases, clauses, verses, books.\n",
    "Usually these are consecutive sequences of one or more words,\n",
    "but in theory they can be arbitrary sets of slots.\n",
    "\n",
    "And, as far as the BHSA corpus is concerned, in practice too.\n",
    "If we look at phrases, then the overwhelming majority is consecutive, without gaps,\n",
    "But there is also a substantial amount of phrases with gaps.\n",
    "\n",
    "People that are familiar with MQL (see [fromMQL](searchFromMQL.ipynb))\n",
    "may remember that in MQL you can search for a gap.\n",
    "The MQL query\n",
    "\n",
    "```\n",
    "SELECT ALL OBJECTS WHERE\n",
    "\n",
    "[phrase FOCUS\n",
    "    [word lex='L']\n",
    "    [gap]\n",
    "]\n",
    "```\n",
    "\n",
    "looks for a phrase with a gap in it\n",
    "(i.e. one or more consecutive words between the start and the end of the phrase\n",
    "that do not belong to the phrase).\n",
    "The query then asks additionally for those gap-containing phrases that have a certain word in front of the gap.\n",
    "\n",
    "**We want this too!**"
   ]
  },
  {
   "cell_type": "markdown",
   "metadata": {},
   "source": [
    "## Find the gap\n",
    "\n",
    "We start with a query that aims to get the same results as the MQL query above.\n",
    "\n",
    "In our template, we require that there is a word `wPreGap` in the phrase that is just before the gap,\n",
    "a word `wGap` that comes right after, so it is in the gap, and hence does not belong to the phrase.\n",
    "But this all must happen before the last word `wLast` of the phrase."
   ]
  },
  {
   "cell_type": "code",
   "execution_count": 5,
   "metadata": {
    "ExecuteTime": {
     "end_time": "2018-05-24T10:09:32.685437Z",
     "start_time": "2018-05-24T10:09:32.680670Z"
    }
   },
   "outputs": [],
   "source": [
    "query = '''\n",
    "verse\n",
    "    p:phrase\n",
    "      wPreGap:word lex=L\n",
    "      wLast:word\n",
    "      :=\n",
    "\n",
    "wGap:word\n",
    "wPreGap <: wGap\n",
    "wGap < wLast\n",
    "p || wGap\n",
    "'''"
   ]
  },
  {
   "cell_type": "code",
   "execution_count": 6,
   "metadata": {},
   "outputs": [
    {
     "name": "stdout",
     "output_type": "stream",
     "text": [
      "  0.99s 13 results\n"
     ]
    }
   ],
   "source": [
    "results = A.search(query)"
   ]
  },
  {
   "cell_type": "markdown",
   "metadata": {},
   "source": [
    "Nice and quick.\n",
    "Let's see the results."
   ]
  },
  {
   "cell_type": "code",
   "execution_count": 7,
   "metadata": {
    "ExecuteTime": {
     "end_time": "2018-05-24T10:09:43.410941Z",
     "start_time": "2018-05-24T10:09:43.194596Z"
    }
   },
   "outputs": [
    {
     "data": {
      "text/html": [
       "<table>\n",
       "<tr class=\"tf\">\n",
       "  <th class=\"tf\">n</th><th class=\"tf\">p</th>\n",
       "  <th class=\"tf\">verse</th><th>phrase</th><th>word</th><th>word</th><th>word</th>\n",
       "</tr>\n",
       "\n",
       "<tr class=\"tf\"><td class=\"tf\">1</td><td class=\"tf\"> <a href=\"https://shebanq.ancient-data.org/hebrew/text?book=Genesis&amp;chapter=17&amp;verse=7&amp;version=2017&amp;mr=m&amp;qw=q&amp;tp=txt_p&amp;tr=hb&amp;wget=v&amp;qget=v&amp;nget=vt\" title=\"show this passage in SHEBANQ\" sec=\"Genesis 17:7\">Genesis 17:7</a></td><td class=\"tf\"><span class=\"vrs ltr\"><a href=\"https://shebanq.ancient-data.org/hebrew/text?book=Genesis&amp;chapter=17&amp;verse=7&amp;version=2017&amp;mr=m&amp;qw=q&amp;tp=txt_p&amp;tr=hb&amp;wget=v&amp;qget=v&amp;nget=vt\" title=\"show this passage in SHEBANQ\" sec=\"Genesis 17:7\">Genesis 17:7</a></span><span class=\"plain outer  rtl  \" ><span class=\"plain rtl \"><span class=\"plain rtl  \" ><span class=\"plain rtl  \" ><span class=\"plain rtl  \" ><span class=\"plain rtl  \" ><span class=\"h\">וַ</span></span></span><span class=\"plain rtl  \" ><span class=\"plain rtl  \" ><span class=\"h\">הֲקִמֹתִ֨י </span></span></span><span class=\"plain rtl  \" ><span class=\"plain rtl  \" ><span class=\"h\">אֶת־</span></span><span class=\"plain rtl  \" ><span class=\"h\">בְּרִיתִ֜י </span></span></span><span class=\"plain rtl  \" ><span class=\"plain rtl  \" ><span class=\"h\">בֵּינִ֣י </span></span><span class=\"plain rtl  \" ><span class=\"h\">וּ</span></span><span class=\"plain rtl  \" ><span class=\"h\">בֵינֶ֗ךָ </span></span><span class=\"plain rtl  \" ><span class=\"h\">וּ</span></span><span class=\"plain rtl  \" ><span class=\"h\">בֵ֨ין </span></span><span class=\"plain rtl  \" ><span class=\"h\">זַרְעֲךָ֧ </span></span></span><span class=\"plain rtl  \" ><span class=\"plain rtl  \" ><span class=\"h\">אַחֲרֶ֛יךָ </span></span></span><span class=\"plain rtl  \" ><span class=\"plain rtl  \" ><span class=\"h\">לְ</span></span><span class=\"plain rtl  \" ><span class=\"h\">דֹרֹתָ֖ם </span></span></span><span class=\"plain rtl  \" ><span class=\"plain rtl  \" ><span class=\"h\">לִ</span></span><span class=\"plain rtl  \" ><span class=\"h\">בְרִ֣ית </span></span><span class=\"plain rtl  \" ><span class=\"h\">עֹולָ֑ם </span></span></span></span><span class=\"plain rtl  \" ><span class=\"plain rtl  \" ><span class=\"plain rtl  \" ><span class=\"h\">לִ</span></span><span class=\"plain rtl  \" ><span class=\"h\">הְיֹ֤ות </span></span></span><span class=\"plain rtl  l hlbx\" ><span class=\"plain rtl  \" ><span class=\"plain rtl  hl\" ><span class=\"h\">לְךָ֙ </span></span></span></span><span class=\"plain rtl  \" ><span class=\"plain rtl  hl\" ><span class=\"h\">לֵֽ</span></span><span class=\"plain rtl  \" ><span class=\"h\">אלֹהִ֔ים </span></span></span><span class=\"plain rtl  r l hlbx\" ><span class=\"plain rtl  \" ><span class=\"plain rtl  \" ><span class=\"h\">וּֽ</span></span></span></span><span class=\"plain rtl  r l hlbx\" ><span class=\"plain rtl  \" ><span class=\"plain rtl  \" ><span class=\"h\">לְ</span></span><span class=\"plain rtl  \" ><span class=\"h\">זַרְעֲךָ֖ </span></span></span></span><span class=\"plain rtl  r hlbx\" ><span class=\"plain rtl  \" ><span class=\"plain rtl  hl\" ><span class=\"h\">אַחֲרֶֽיךָ׃ </span></span></span></span></span></span></span></span></td><td class=\"tf\"><span class=\"plain outer  rtl \"><span class=\"plain rtl  l hlbx\" ><span class=\"plain rtl  \" ><span class=\"plain rtl  hl\" ><span class=\"h\">לְךָ֙ </span></span></span></span><span class=\"plain rtl  r l hlbx\" ><span class=\"plain rtl  \" ><span class=\"plain rtl  \" ><span class=\"h\">וּֽ</span></span></span></span><span class=\"plain rtl  r l hlbx\" ><span class=\"plain rtl  \" ><span class=\"plain rtl  \" ><span class=\"h\">לְ</span></span><span class=\"plain rtl  \" ><span class=\"h\">זַרְעֲךָ֖ </span></span></span></span><span class=\"plain rtl  r hlbx\" ><span class=\"plain rtl  \" ><span class=\"plain rtl  hl\" ><span class=\"h\">אַחֲרֶֽיךָ׃ </span></span></span></span></span></td><td class=\"tf\"><span class=\"plain outer  rtl  hl\" ><span class=\"h\">לְךָ֙ </span></span></td><td class=\"tf\"><span class=\"plain outer  rtl  hl\" ><span class=\"h\">אַחֲרֶֽיךָ׃ </span></span></td><td class=\"tf\"><span class=\"plain outer  rtl  hl\" ><span class=\"h\">לֵֽ</span></span></td></tr>\n",
       "<tr class=\"tf\"><td class=\"tf\">2</td><td class=\"tf\"> <a href=\"https://shebanq.ancient-data.org/hebrew/text?book=Genesis&amp;chapter=28&amp;verse=4&amp;version=2017&amp;mr=m&amp;qw=q&amp;tp=txt_p&amp;tr=hb&amp;wget=v&amp;qget=v&amp;nget=vt\" title=\"show this passage in SHEBANQ\" sec=\"Genesis 28:4\">Genesis 28:4</a></td><td class=\"tf\"><span class=\"vrs ltr\"><a href=\"https://shebanq.ancient-data.org/hebrew/text?book=Genesis&amp;chapter=28&amp;verse=4&amp;version=2017&amp;mr=m&amp;qw=q&amp;tp=txt_p&amp;tr=hb&amp;wget=v&amp;qget=v&amp;nget=vt\" title=\"show this passage in SHEBANQ\" sec=\"Genesis 28:4\">Genesis 28:4</a></span><span class=\"plain outer  rtl  \" ><span class=\"plain rtl \"><span class=\"plain rtl  \" ><span class=\"plain rtl  \" ><span class=\"plain rtl  \" ><span class=\"plain rtl  \" ><span class=\"h\">וְ</span></span></span><span class=\"plain rtl  \" ><span class=\"plain rtl  \" ><span class=\"h\">יִֽתֶּן־</span></span></span><span class=\"plain rtl  l hlbx\" ><span class=\"plain rtl  \" ><span class=\"plain rtl  hl\" ><span class=\"h\">לְךָ֙ </span></span></span></span><span class=\"plain rtl  \" ><span class=\"plain rtl  hl\" ><span class=\"h\">אֶת־</span></span><span class=\"plain rtl  \" ><span class=\"h\">בִּרְכַּ֣ת </span></span><span class=\"plain rtl  \" ><span class=\"h\">אַבְרָהָ֔ם </span></span></span><span class=\"plain rtl  r l hlbx\" ><span class=\"plain rtl  \" ><span class=\"plain rtl  \" ><span class=\"h\">לְךָ֖ </span></span><span class=\"plain rtl  \" ><span class=\"h\">וּ</span></span><span class=\"plain rtl  \" ><span class=\"h\">לְ</span></span><span class=\"plain rtl  \" ><span class=\"h\">זַרְעֲךָ֣ </span></span></span></span><span class=\"plain rtl  r hlbx\" ><span class=\"plain rtl  \" ><span class=\"plain rtl  hl\" ><span class=\"h\">אִתָּ֑ךְ </span></span></span></span></span><span class=\"plain rtl  \" ><span class=\"plain rtl  \" ><span class=\"plain rtl  \" ><span class=\"h\">לְ</span></span><span class=\"plain rtl  \" ><span class=\"h\">רִשְׁתְּךָ֙ </span></span></span><span class=\"plain rtl  \" ><span class=\"plain rtl  \" ><span class=\"h\">אֶת־</span></span><span class=\"plain rtl  \" ><span class=\"h\">אֶ֣רֶץ </span></span><span class=\"plain rtl  \" ><span class=\"h\">מְגֻרֶ֔יךָ </span></span></span></span><span class=\"plain rtl  \" ><span class=\"plain rtl  \" ><span class=\"plain rtl  \" ><span class=\"h\">אֲשֶׁר־</span></span></span><span class=\"plain rtl  \" ><span class=\"plain rtl  \" ><span class=\"h\">נָתַ֥ן </span></span></span><span class=\"plain rtl  \" ><span class=\"plain rtl  \" ><span class=\"h\">אֱלֹהִ֖ים </span></span></span><span class=\"plain rtl  \" ><span class=\"plain rtl  \" ><span class=\"h\">לְ</span></span><span class=\"plain rtl  \" ><span class=\"h\">אַבְרָהָֽם׃ </span></span></span></span></span></span></span></td><td class=\"tf\"><span class=\"plain outer  rtl \"><span class=\"plain rtl  l hlbx\" ><span class=\"plain rtl  \" ><span class=\"plain rtl  hl\" ><span class=\"h\">לְךָ֙ </span></span></span></span><span class=\"plain rtl  r l hlbx\" ><span class=\"plain rtl  \" ><span class=\"plain rtl  \" ><span class=\"h\">לְךָ֖ </span></span><span class=\"plain rtl  \" ><span class=\"h\">וּ</span></span><span class=\"plain rtl  \" ><span class=\"h\">לְ</span></span><span class=\"plain rtl  \" ><span class=\"h\">זַרְעֲךָ֣ </span></span></span></span><span class=\"plain rtl  r hlbx\" ><span class=\"plain rtl  \" ><span class=\"plain rtl  hl\" ><span class=\"h\">אִתָּ֑ךְ </span></span></span></span></span></td><td class=\"tf\"><span class=\"plain outer  rtl  hl\" ><span class=\"h\">לְךָ֙ </span></span></td><td class=\"tf\"><span class=\"plain outer  rtl  hl\" ><span class=\"h\">אִתָּ֑ךְ </span></span></td><td class=\"tf\"><span class=\"plain outer  rtl  hl\" ><span class=\"h\">אֶת־</span></span></td></tr>\n",
       "<tr class=\"tf\"><td class=\"tf\">3</td><td class=\"tf\"> <a href=\"https://shebanq.ancient-data.org/hebrew/text?book=Genesis&amp;chapter=31&amp;verse=16&amp;version=2017&amp;mr=m&amp;qw=q&amp;tp=txt_p&amp;tr=hb&amp;wget=v&amp;qget=v&amp;nget=vt\" title=\"show this passage in SHEBANQ\" sec=\"Genesis 31:16\">Genesis 31:16</a></td><td class=\"tf\"><span class=\"vrs ltr\"><a href=\"https://shebanq.ancient-data.org/hebrew/text?book=Genesis&amp;chapter=31&amp;verse=16&amp;version=2017&amp;mr=m&amp;qw=q&amp;tp=txt_p&amp;tr=hb&amp;wget=v&amp;qget=v&amp;nget=vt\" title=\"show this passage in SHEBANQ\" sec=\"Genesis 31:16\">Genesis 31:16</a></span><span class=\"plain outer  rtl  \" ><span class=\"plain rtl \"><span class=\"plain rtl  \" ><span class=\"plain rtl  \" ><span class=\"plain rtl  \" ><span class=\"plain rtl  \" ><span class=\"h\">כִּ֣י </span></span></span><span class=\"plain rtl  \" ><span class=\"plain rtl  \" ><span class=\"h\">כָל־</span></span><span class=\"plain rtl  \" ><span class=\"h\">הָ</span></span><span class=\"plain rtl  \" ><span class=\"h\">עֹ֗שֶׁר </span></span></span></span><span class=\"plain rtl  \" ><span class=\"plain rtl  \" ><span class=\"plain rtl  \" ><span class=\"h\">אֲשֶׁ֨ר </span></span></span><span class=\"plain rtl  \" ><span class=\"plain rtl  \" ><span class=\"h\">הִצִּ֤יל </span></span></span><span class=\"plain rtl  \" ><span class=\"plain rtl  \" ><span class=\"h\">אֱלֹהִים֙ </span></span></span><span class=\"plain rtl  \" ><span class=\"plain rtl  \" ><span class=\"h\">מֵֽ</span></span><span class=\"plain rtl  \" ><span class=\"h\">אָבִ֔ינוּ </span></span></span></span><span class=\"plain rtl  \" ><span class=\"plain rtl  l hlbx\" ><span class=\"plain rtl  \" ><span class=\"plain rtl  hl\" ><span class=\"h\">לָ֥נוּ </span></span></span></span><span class=\"plain rtl  \" ><span class=\"plain rtl  hl\" ><span class=\"h\">ה֖וּא </span></span></span><span class=\"plain rtl  r l hlbx\" ><span class=\"plain rtl  \" ><span class=\"plain rtl  \" ><span class=\"h\">וּ</span></span></span></span><span class=\"plain rtl  r hlbx\" ><span class=\"plain rtl  \" ><span class=\"plain rtl  \" ><span class=\"h\">לְ</span></span><span class=\"plain rtl  hl\" ><span class=\"h\">בָנֵ֑ינוּ </span></span></span></span></span></span><span class=\"plain rtl  \" ><span class=\"plain rtl  \" ><span class=\"plain rtl  \" ><span class=\"plain rtl  \" ><span class=\"h\">וְ</span></span></span><span class=\"plain rtl  \" ><span class=\"plain rtl  \" ><span class=\"h\">עַתָּ֗ה </span></span></span></span></span><span class=\"plain rtl  \" ><span class=\"plain rtl  \" ><span class=\"plain rtl  \" ><span class=\"plain rtl  \" ><span class=\"h\">כֹּל֩ </span></span></span></span><span class=\"plain rtl  \" ><span class=\"plain rtl  \" ><span class=\"plain rtl  \" ><span class=\"h\">אֲשֶׁ֨ר </span></span></span><span class=\"plain rtl  \" ><span class=\"plain rtl  \" ><span class=\"h\">אָמַ֧ר </span></span></span><span class=\"plain rtl  \" ><span class=\"plain rtl  \" ><span class=\"h\">אֱלֹהִ֛ים </span></span></span><span class=\"plain rtl  \" ><span class=\"plain rtl  \" ><span class=\"h\">אֵלֶ֖יךָ </span></span></span></span><span class=\"plain rtl  \" ><span class=\"plain rtl  \" ><span class=\"plain rtl  \" ><span class=\"h\">עֲשֵֽׂה׃ </span></span></span></span></span></span></span></td><td class=\"tf\"><span class=\"plain outer  rtl \"><span class=\"plain rtl  l hlbx\" ><span class=\"plain rtl  \" ><span class=\"plain rtl  hl\" ><span class=\"h\">לָ֥נוּ </span></span></span></span><span class=\"plain rtl  r l hlbx\" ><span class=\"plain rtl  \" ><span class=\"plain rtl  \" ><span class=\"h\">וּ</span></span></span></span><span class=\"plain rtl  r hlbx\" ><span class=\"plain rtl  \" ><span class=\"plain rtl  \" ><span class=\"h\">לְ</span></span><span class=\"plain rtl  hl\" ><span class=\"h\">בָנֵ֑ינוּ </span></span></span></span></span></td><td class=\"tf\"><span class=\"plain outer  rtl  hl\" ><span class=\"h\">לָ֥נוּ </span></span></td><td class=\"tf\"><span class=\"plain outer  rtl  hl\" ><span class=\"h\">בָנֵ֑ינוּ </span></span></td><td class=\"tf\"><span class=\"plain outer  rtl  hl\" ><span class=\"h\">ה֖וּא </span></span></td></tr>\n",
       "<tr class=\"tf\"><td class=\"tf\">4</td><td class=\"tf\"> <a href=\"https://shebanq.ancient-data.org/hebrew/text?book=Exodus&amp;chapter=30&amp;verse=21&amp;version=2017&amp;mr=m&amp;qw=q&amp;tp=txt_p&amp;tr=hb&amp;wget=v&amp;qget=v&amp;nget=vt\" title=\"show this passage in SHEBANQ\" sec=\"Exodus 30:21\">Exodus 30:21</a></td><td class=\"tf\"><span class=\"vrs ltr\"><a href=\"https://shebanq.ancient-data.org/hebrew/text?book=Exodus&amp;chapter=30&amp;verse=21&amp;version=2017&amp;mr=m&amp;qw=q&amp;tp=txt_p&amp;tr=hb&amp;wget=v&amp;qget=v&amp;nget=vt\" title=\"show this passage in SHEBANQ\" sec=\"Exodus 30:21\">Exodus 30:21</a></span><span class=\"plain outer  rtl  \" ><span class=\"plain rtl \"><span class=\"plain rtl  \" ><span class=\"plain rtl  \" ><span class=\"plain rtl  \" ><span class=\"plain rtl  \" ><span class=\"h\">וְ</span></span></span><span class=\"plain rtl  \" ><span class=\"plain rtl  \" ><span class=\"h\">רָחֲצ֛וּ </span></span></span><span class=\"plain rtl  \" ><span class=\"plain rtl  \" ><span class=\"h\">יְדֵיהֶ֥ם </span></span><span class=\"plain rtl  \" ><span class=\"h\">וְ</span></span><span class=\"plain rtl  \" ><span class=\"h\">רַגְלֵיהֶ֖ם </span></span></span></span></span><span class=\"plain rtl  \" ><span class=\"plain rtl  \" ><span class=\"plain rtl  \" ><span class=\"plain rtl  \" ><span class=\"h\">וְ</span></span></span><span class=\"plain rtl  \" ><span class=\"plain rtl  \" ><span class=\"h\">לֹ֣א </span></span></span><span class=\"plain rtl  \" ><span class=\"plain rtl  \" ><span class=\"h\">יָמֻ֑תוּ </span></span></span></span></span><span class=\"plain rtl  \" ><span class=\"plain rtl  \" ><span class=\"plain rtl  \" ><span class=\"plain rtl  \" ><span class=\"h\">וְ</span></span></span><span class=\"plain rtl  \" ><span class=\"plain rtl  \" ><span class=\"h\">הָיְתָ֨ה </span></span></span><span class=\"plain rtl  l hlbx\" ><span class=\"plain rtl  \" ><span class=\"plain rtl  hl\" ><span class=\"h\">לָהֶ֧ם </span></span></span></span><span class=\"plain rtl  \" ><span class=\"plain rtl  hl\" ><span class=\"h\">חָק־</span></span><span class=\"plain rtl  \" ><span class=\"h\">עֹולָ֛ם </span></span></span><span class=\"plain rtl  r hlbx\" ><span class=\"plain rtl  \" ><span class=\"plain rtl  \" ><span class=\"h\">לֹ֥ו </span></span><span class=\"plain rtl  \" ><span class=\"h\">וּ</span></span><span class=\"plain rtl  \" ><span class=\"h\">לְ</span></span><span class=\"plain rtl  hl\" ><span class=\"h\">זַרְעֹ֖ו </span></span></span></span><span class=\"plain rtl  \" ><span class=\"plain rtl  \" ><span class=\"h\">לְ</span></span><span class=\"plain rtl  \" ><span class=\"h\">דֹרֹתָֽם׃ פ </span></span></span></span></span></span></span></td><td class=\"tf\"><span class=\"plain outer  rtl \"><span class=\"plain rtl  l hlbx\" ><span class=\"plain rtl  \" ><span class=\"plain rtl  hl\" ><span class=\"h\">לָהֶ֧ם </span></span></span></span><span class=\"plain rtl  r hlbx\" ><span class=\"plain rtl  \" ><span class=\"plain rtl  \" ><span class=\"h\">לֹ֥ו </span></span><span class=\"plain rtl  \" ><span class=\"h\">וּ</span></span><span class=\"plain rtl  \" ><span class=\"h\">לְ</span></span><span class=\"plain rtl  hl\" ><span class=\"h\">זַרְעֹ֖ו </span></span></span></span></span></td><td class=\"tf\"><span class=\"plain outer  rtl  hl\" ><span class=\"h\">לָהֶ֧ם </span></span></td><td class=\"tf\"><span class=\"plain outer  rtl  hl\" ><span class=\"h\">זַרְעֹ֖ו </span></span></td><td class=\"tf\"><span class=\"plain outer  rtl  hl\" ><span class=\"h\">חָק־</span></span></td></tr>\n",
       "<tr class=\"tf\"><td class=\"tf\">5</td><td class=\"tf\"> <a href=\"https://shebanq.ancient-data.org/hebrew/text?book=Leviticus&amp;chapter=25&amp;verse=6&amp;version=2017&amp;mr=m&amp;qw=q&amp;tp=txt_p&amp;tr=hb&amp;wget=v&amp;qget=v&amp;nget=vt\" title=\"show this passage in SHEBANQ\" sec=\"Leviticus 25:6\">Leviticus 25:6</a></td><td class=\"tf\"><span class=\"vrs ltr\"><a href=\"https://shebanq.ancient-data.org/hebrew/text?book=Leviticus&amp;chapter=25&amp;verse=6&amp;version=2017&amp;mr=m&amp;qw=q&amp;tp=txt_p&amp;tr=hb&amp;wget=v&amp;qget=v&amp;nget=vt\" title=\"show this passage in SHEBANQ\" sec=\"Leviticus 25:6\">Leviticus 25:6</a></span><span class=\"plain outer  rtl  \" ><span class=\"plain rtl \"><span class=\"plain rtl  \" ><span class=\"plain rtl  \" ><span class=\"plain rtl  \" ><span class=\"plain rtl  \" ><span class=\"h\">וְ֠</span></span></span><span class=\"plain rtl  \" ><span class=\"plain rtl  \" ><span class=\"h\">הָיְתָה </span></span></span><span class=\"plain rtl  \" ><span class=\"plain rtl  \" ><span class=\"h\">שַׁבַּ֨ת </span></span><span class=\"plain rtl  \" ><span class=\"h\">הָ</span></span><span class=\"plain rtl  \" ><span class=\"h\">אָ֤רֶץ </span></span></span><span class=\"plain rtl  l hlbx\" ><span class=\"plain rtl  \" ><span class=\"plain rtl  hl\" ><span class=\"h\">לָכֶם֙ </span></span></span></span><span class=\"plain rtl  \" ><span class=\"plain rtl  hl\" ><span class=\"h\">לְ</span></span><span class=\"plain rtl  \" ><span class=\"h\">אָכְלָ֔ה </span></span></span><span class=\"plain rtl  r hlbx\" ><span class=\"plain rtl  \" ><span class=\"plain rtl  \" ><span class=\"h\">לְךָ֖ </span></span><span class=\"plain rtl  \" ><span class=\"h\">וּ</span></span><span class=\"plain rtl  \" ><span class=\"h\">לְ</span></span><span class=\"plain rtl  \" ><span class=\"h\">עַבְדְּךָ֣ </span></span><span class=\"plain rtl  \" ><span class=\"h\">וְ</span></span><span class=\"plain rtl  \" ><span class=\"h\">לַ</span></span><span class=\"plain rtl  \" ><span class=\"h\">אֲמָתֶ֑ךָ </span></span><span class=\"plain rtl  \" ><span class=\"h\">וְ</span></span><span class=\"plain rtl  \" ><span class=\"h\">לִ</span></span><span class=\"plain rtl  \" ><span class=\"h\">שְׂכִֽירְךָ֙ </span></span><span class=\"plain rtl  \" ><span class=\"h\">וּ</span></span><span class=\"plain rtl  \" ><span class=\"h\">לְ</span></span><span class=\"plain rtl  hl\" ><span class=\"h\">תֹושָׁ֣בְךָ֔ </span></span></span></span></span><span class=\"plain rtl  \" ><span class=\"plain rtl  \" ><span class=\"plain rtl  \" ><span class=\"h\">הַ</span></span></span><span class=\"plain rtl  \" ><span class=\"plain rtl  \" ><span class=\"h\">גָּרִ֖ים </span></span></span><span class=\"plain rtl  \" ><span class=\"plain rtl  \" ><span class=\"h\">עִמָּֽךְ׃ </span></span></span></span></span></span></span></td><td class=\"tf\"><span class=\"plain outer  rtl \"><span class=\"plain rtl  l hlbx\" ><span class=\"plain rtl  \" ><span class=\"plain rtl  hl\" ><span class=\"h\">לָכֶם֙ </span></span></span></span><span class=\"plain rtl  r hlbx\" ><span class=\"plain rtl  \" ><span class=\"plain rtl  \" ><span class=\"h\">לְךָ֖ </span></span><span class=\"plain rtl  \" ><span class=\"h\">וּ</span></span><span class=\"plain rtl  \" ><span class=\"h\">לְ</span></span><span class=\"plain rtl  \" ><span class=\"h\">עַבְדְּךָ֣ </span></span><span class=\"plain rtl  \" ><span class=\"h\">וְ</span></span><span class=\"plain rtl  \" ><span class=\"h\">לַ</span></span><span class=\"plain rtl  \" ><span class=\"h\">אֲמָתֶ֑ךָ </span></span><span class=\"plain rtl  \" ><span class=\"h\">וְ</span></span><span class=\"plain rtl  \" ><span class=\"h\">לִ</span></span><span class=\"plain rtl  \" ><span class=\"h\">שְׂכִֽירְךָ֙ </span></span><span class=\"plain rtl  \" ><span class=\"h\">וּ</span></span><span class=\"plain rtl  \" ><span class=\"h\">לְ</span></span><span class=\"plain rtl  hl\" ><span class=\"h\">תֹושָׁ֣בְךָ֔ </span></span></span></span></span></td><td class=\"tf\"><span class=\"plain outer  rtl  hl\" ><span class=\"h\">לָכֶם֙ </span></span></td><td class=\"tf\"><span class=\"plain outer  rtl  hl\" ><span class=\"h\">תֹושָׁ֣בְךָ֔ </span></span></td><td class=\"tf\"><span class=\"plain outer  rtl  hl\" ><span class=\"h\">לְ</span></span></td></tr>\n",
       "<tr class=\"tf\"><td class=\"tf\">6</td><td class=\"tf\"> <a href=\"https://shebanq.ancient-data.org/hebrew/text?book=Numeri&amp;chapter=20&amp;verse=15&amp;version=2017&amp;mr=m&amp;qw=q&amp;tp=txt_p&amp;tr=hb&amp;wget=v&amp;qget=v&amp;nget=vt\" title=\"show this passage in SHEBANQ\" sec=\"Numbers 20:15\">Numbers 20:15</a></td><td class=\"tf\"><span class=\"vrs ltr\"><a href=\"https://shebanq.ancient-data.org/hebrew/text?book=Numeri&amp;chapter=20&amp;verse=15&amp;version=2017&amp;mr=m&amp;qw=q&amp;tp=txt_p&amp;tr=hb&amp;wget=v&amp;qget=v&amp;nget=vt\" title=\"show this passage in SHEBANQ\" sec=\"Numbers 20:15\">Numbers 20:15</a></span><span class=\"plain outer  rtl  \" ><span class=\"plain rtl \"><span class=\"plain rtl  rno \" ><span class=\"plain rtl  \" ><span class=\"plain rtl  \" ><span class=\"plain rtl  \" ><span class=\"h\">וַ</span></span></span><span class=\"plain rtl  \" ><span class=\"plain rtl  \" ><span class=\"h\">יֵּרְד֤וּ </span></span></span><span class=\"plain rtl  \" ><span class=\"plain rtl  \" ><span class=\"h\">אֲבֹתֵ֨ינוּ֙ </span></span></span><span class=\"plain rtl  \" ><span class=\"plain rtl  \" ><span class=\"h\">מִצְרַ֔יְמָה </span></span></span></span><span class=\"plain rtl  \" ><span class=\"plain rtl  \" ><span class=\"plain rtl  \" ><span class=\"h\">וַ</span></span></span><span class=\"plain rtl  \" ><span class=\"plain rtl  \" ><span class=\"h\">נֵּ֥שֶׁב </span></span></span><span class=\"plain rtl  \" ><span class=\"plain rtl  \" ><span class=\"h\">בְּ</span></span><span class=\"plain rtl  \" ><span class=\"h\">מִצְרַ֖יִם </span></span></span><span class=\"plain rtl  \" ><span class=\"plain rtl  \" ><span class=\"h\">יָמִ֣ים </span></span><span class=\"plain rtl  \" ><span class=\"h\">רַבִּ֑ים </span></span></span></span><span class=\"plain rtl  \" ><span class=\"plain rtl  \" ><span class=\"plain rtl  \" ><span class=\"h\">וַ</span></span></span><span class=\"plain rtl  \" ><span class=\"plain rtl  \" ><span class=\"h\">יָּרֵ֥עוּ </span></span></span><span class=\"plain rtl  l hlbx\" ><span class=\"plain rtl  \" ><span class=\"plain rtl  hl\" ><span class=\"h\">לָ֛נוּ </span></span></span></span><span class=\"plain rtl  \" ><span class=\"plain rtl  hl\" ><span class=\"h\">מִצְרַ֖יִם </span></span></span><span class=\"plain rtl  r l hlbx\" ><span class=\"plain rtl  \" ><span class=\"plain rtl  \" ><span class=\"h\">וְ</span></span></span></span><span class=\"plain rtl  r hlbx\" ><span class=\"plain rtl  \" ><span class=\"plain rtl  \" ><span class=\"h\">לַ</span></span><span class=\"plain rtl  hl\" ><span class=\"h\">אֲבֹתֵֽינוּ׃ </span></span></span></span></span></span></span></span></td><td class=\"tf\"><span class=\"plain outer  rtl \"><span class=\"plain rtl  l hlbx\" ><span class=\"plain rtl  \" ><span class=\"plain rtl  hl\" ><span class=\"h\">לָ֛נוּ </span></span></span></span><span class=\"plain rtl  r l hlbx\" ><span class=\"plain rtl  \" ><span class=\"plain rtl  \" ><span class=\"h\">וְ</span></span></span></span><span class=\"plain rtl  r hlbx\" ><span class=\"plain rtl  \" ><span class=\"plain rtl  \" ><span class=\"h\">לַ</span></span><span class=\"plain rtl  hl\" ><span class=\"h\">אֲבֹתֵֽינוּ׃ </span></span></span></span></span></td><td class=\"tf\"><span class=\"plain outer  rtl  hl\" ><span class=\"h\">לָ֛נוּ </span></span></td><td class=\"tf\"><span class=\"plain outer  rtl  hl\" ><span class=\"h\">אֲבֹתֵֽינוּ׃ </span></span></td><td class=\"tf\"><span class=\"plain outer  rtl  hl\" ><span class=\"h\">מִצְרַ֖יִם </span></span></td></tr>\n",
       "<tr class=\"tf\"><td class=\"tf\">7</td><td class=\"tf\"> <a href=\"https://shebanq.ancient-data.org/hebrew/text?book=Numeri&amp;chapter=32&amp;verse=33&amp;version=2017&amp;mr=m&amp;qw=q&amp;tp=txt_p&amp;tr=hb&amp;wget=v&amp;qget=v&amp;nget=vt\" title=\"show this passage in SHEBANQ\" sec=\"Numbers 32:33\">Numbers 32:33</a></td><td class=\"tf\"><span class=\"vrs ltr\"><a href=\"https://shebanq.ancient-data.org/hebrew/text?book=Numeri&amp;chapter=32&amp;verse=33&amp;version=2017&amp;mr=m&amp;qw=q&amp;tp=txt_p&amp;tr=hb&amp;wget=v&amp;qget=v&amp;nget=vt\" title=\"show this passage in SHEBANQ\" sec=\"Numbers 32:33\">Numbers 32:33</a></span><span class=\"plain outer  rtl  \" ><span class=\"plain rtl \"><span class=\"plain rtl  \" ><span class=\"plain rtl  \" ><span class=\"plain rtl  \" ><span class=\"plain rtl  \" ><span class=\"h\">וַ</span></span></span><span class=\"plain rtl  \" ><span class=\"plain rtl  \" ><span class=\"h\">יִּתֵּ֣ן </span></span></span><span class=\"plain rtl  l hlbx\" ><span class=\"plain rtl  \" ><span class=\"plain rtl  hl\" ><span class=\"h\">לָהֶ֣ם׀ </span></span></span></span><span class=\"plain rtl  \" ><span class=\"plain rtl  hl\" ><span class=\"h\">מֹשֶׁ֡ה </span></span></span><span class=\"plain rtl  r l hlbx\" ><span class=\"plain rtl  \" ><span class=\"plain rtl  \" ><span class=\"h\">לִ</span></span><span class=\"plain rtl  \" ><span class=\"h\">בְנֵי־</span></span><span class=\"plain rtl  \" ><span class=\"h\">גָד֩ </span></span><span class=\"plain rtl  \" ><span class=\"h\">וְ</span></span><span class=\"plain rtl  \" ><span class=\"h\">לִ</span></span><span class=\"plain rtl  \" ><span class=\"h\">בְנֵ֨י </span></span><span class=\"plain rtl  \" ><span class=\"h\">רְאוּבֵ֜ן </span></span><span class=\"plain rtl  \" ><span class=\"h\">וְ</span></span><span class=\"plain rtl  \" ><span class=\"h\">לַ</span></span><span class=\"plain rtl  \" ><span class=\"h\">חֲצִ֣י׀ </span></span><span class=\"plain rtl  \" ><span class=\"h\">שֵׁ֣בֶט׀ </span></span><span class=\"plain rtl  \" ><span class=\"h\">מְנַשֶּׁ֣ה </span></span></span></span><span class=\"plain rtl  r hlbx\" ><span class=\"plain rtl  \" ><span class=\"plain rtl  \" ><span class=\"h\">בֶן־</span></span><span class=\"plain rtl  hl\" ><span class=\"h\">יֹוסֵ֗ף </span></span></span></span><span class=\"plain rtl  \" ><span class=\"plain rtl  \" ><span class=\"h\">אֶת־</span></span><span class=\"plain rtl  \" ><span class=\"h\">מַמְלֶ֨כֶת֙ </span></span><span class=\"plain rtl  \" ><span class=\"h\">סִיחֹן֙ </span></span></span><span class=\"plain rtl  \" ><span class=\"plain rtl  \" ><span class=\"h\">מֶ֣לֶךְ </span></span><span class=\"plain rtl  \" ><span class=\"h\">הָֽ</span></span><span class=\"plain rtl  \" ><span class=\"h\">אֱמֹרִ֔י </span></span></span><span class=\"plain rtl  \" ><span class=\"plain rtl  \" ><span class=\"h\">וְ</span></span></span><span class=\"plain rtl  \" ><span class=\"plain rtl  \" ><span class=\"h\">אֶת־</span></span><span class=\"plain rtl  \" ><span class=\"h\">מַמְלֶ֔כֶת </span></span><span class=\"plain rtl  \" ><span class=\"h\">עֹ֖וג </span></span></span><span class=\"plain rtl  \" ><span class=\"plain rtl  \" ><span class=\"h\">מֶ֣לֶךְ </span></span><span class=\"plain rtl  \" ><span class=\"h\">הַ</span></span><span class=\"plain rtl  \" ><span class=\"h\">בָּשָׁ֑ן </span></span></span><span class=\"plain rtl  \" ><span class=\"plain rtl  \" ><span class=\"h\">הָ</span></span><span class=\"plain rtl  \" ><span class=\"h\">אָ֗רֶץ </span></span></span><span class=\"plain rtl  \" ><span class=\"plain rtl  \" ><span class=\"h\">לְ</span></span><span class=\"plain rtl  \" ><span class=\"h\">עָרֶ֨יהָ֙ </span></span></span><span class=\"plain rtl  \" ><span class=\"plain rtl  \" ><span class=\"h\">בִּ</span></span><span class=\"plain rtl  \" ><span class=\"h\">גְבֻלֹ֔ת </span></span><span class=\"plain rtl  \" ><span class=\"h\">עָרֵ֥י </span></span><span class=\"plain rtl  \" ><span class=\"h\">הָ</span></span><span class=\"plain rtl  \" ><span class=\"h\">אָ֖רֶץ </span></span></span><span class=\"plain rtl  \" ><span class=\"plain rtl  \" ><span class=\"h\">סָבִֽיב׃ </span></span></span></span></span></span></span></td><td class=\"tf\"><span class=\"plain outer  rtl \"><span class=\"plain rtl  l hlbx\" ><span class=\"plain rtl  \" ><span class=\"plain rtl  hl\" ><span class=\"h\">לָהֶ֣ם׀ </span></span></span></span><span class=\"plain rtl  r l hlbx\" ><span class=\"plain rtl  \" ><span class=\"plain rtl  \" ><span class=\"h\">לִ</span></span><span class=\"plain rtl  \" ><span class=\"h\">בְנֵי־</span></span><span class=\"plain rtl  \" ><span class=\"h\">גָד֩ </span></span><span class=\"plain rtl  \" ><span class=\"h\">וְ</span></span><span class=\"plain rtl  \" ><span class=\"h\">לִ</span></span><span class=\"plain rtl  \" ><span class=\"h\">בְנֵ֨י </span></span><span class=\"plain rtl  \" ><span class=\"h\">רְאוּבֵ֜ן </span></span><span class=\"plain rtl  \" ><span class=\"h\">וְ</span></span><span class=\"plain rtl  \" ><span class=\"h\">לַ</span></span><span class=\"plain rtl  \" ><span class=\"h\">חֲצִ֣י׀ </span></span><span class=\"plain rtl  \" ><span class=\"h\">שֵׁ֣בֶט׀ </span></span><span class=\"plain rtl  \" ><span class=\"h\">מְנַשֶּׁ֣ה </span></span></span></span><span class=\"plain rtl  r hlbx\" ><span class=\"plain rtl  \" ><span class=\"plain rtl  \" ><span class=\"h\">בֶן־</span></span><span class=\"plain rtl  hl\" ><span class=\"h\">יֹוסֵ֗ף </span></span></span></span></span></td><td class=\"tf\"><span class=\"plain outer  rtl  hl\" ><span class=\"h\">לָהֶ֣ם׀ </span></span></td><td class=\"tf\"><span class=\"plain outer  rtl  hl\" ><span class=\"h\">יֹוסֵ֗ף </span></span></td><td class=\"tf\"><span class=\"plain outer  rtl  hl\" ><span class=\"h\">מֹשֶׁ֡ה </span></span></td></tr>\n",
       "<tr class=\"tf\"><td class=\"tf\">8</td><td class=\"tf\"> <a href=\"https://shebanq.ancient-data.org/hebrew/text?book=Deuteronomium&amp;chapter=1&amp;verse=36&amp;version=2017&amp;mr=m&amp;qw=q&amp;tp=txt_p&amp;tr=hb&amp;wget=v&amp;qget=v&amp;nget=vt\" title=\"show this passage in SHEBANQ\" sec=\"Deuteronomy 1:36\">Deuteronomy 1:36</a></td><td class=\"tf\"><span class=\"vrs ltr\"><a href=\"https://shebanq.ancient-data.org/hebrew/text?book=Deuteronomium&amp;chapter=1&amp;verse=36&amp;version=2017&amp;mr=m&amp;qw=q&amp;tp=txt_p&amp;tr=hb&amp;wget=v&amp;qget=v&amp;nget=vt\" title=\"show this passage in SHEBANQ\" sec=\"Deuteronomy 1:36\">Deuteronomy 1:36</a></span><span class=\"plain outer  rtl  \" ><span class=\"plain rtl \"><span class=\"plain rtl  \" ><span class=\"plain rtl  \" ><span class=\"plain rtl  \" ><span class=\"plain rtl  \" ><span class=\"h\">זֽוּלָתִ֞י </span></span><span class=\"plain rtl  \" ><span class=\"h\">כָּלֵ֤ב </span></span></span><span class=\"plain rtl  \" ><span class=\"plain rtl  \" ><span class=\"h\">בֶּן־</span></span><span class=\"plain rtl  \" ><span class=\"h\">יְפֻנֶּה֙ </span></span></span></span><span class=\"plain rtl  \" ><span class=\"plain rtl  \" ><span class=\"plain rtl  \" ><span class=\"h\">ה֣וּא </span></span></span><span class=\"plain rtl  \" ><span class=\"plain rtl  \" ><span class=\"h\">יִרְאֶ֔נָּה </span></span></span></span><span class=\"plain rtl  \" ><span class=\"plain rtl  \" ><span class=\"plain rtl  \" ><span class=\"h\">וְ</span></span></span><span class=\"plain rtl  l hlbx\" ><span class=\"plain rtl  \" ><span class=\"plain rtl  hl\" ><span class=\"h\">לֹֽו־</span></span></span></span><span class=\"plain rtl  \" ><span class=\"plain rtl  hl\" ><span class=\"h\">אֶתֵּ֧ן </span></span></span><span class=\"plain rtl  \" ><span class=\"plain rtl  \" ><span class=\"h\">אֶת־</span></span><span class=\"plain rtl  \" ><span class=\"h\">הָ</span></span><span class=\"plain rtl  \" ><span class=\"h\">אָ֛רֶץ </span></span></span></span><span class=\"plain rtl  \" ><span class=\"plain rtl  \" ><span class=\"plain rtl  \" ><span class=\"h\">אֲשֶׁ֥ר </span></span></span><span class=\"plain rtl  \" ><span class=\"plain rtl  \" ><span class=\"h\">דָּֽרַךְ־</span></span></span><span class=\"plain rtl  \" ><span class=\"plain rtl  \" ><span class=\"h\">בָּ֖הּ </span></span></span></span><span class=\"plain rtl  \" ><span class=\"plain rtl  r l hlbx\" ><span class=\"plain rtl  \" ><span class=\"plain rtl  \" ><span class=\"h\">וּ</span></span></span></span><span class=\"plain rtl  r hlbx\" ><span class=\"plain rtl  \" ><span class=\"plain rtl  \" ><span class=\"h\">לְ</span></span><span class=\"plain rtl  hl\" ><span class=\"h\">בָנָ֑יו </span></span></span></span></span><span class=\"plain rtl  \" ><span class=\"plain rtl  \" ><span class=\"plain rtl  \" ><span class=\"h\">יַ֕עַן </span></span><span class=\"plain rtl  \" ><span class=\"h\">אֲשֶׁ֥ר </span></span></span><span class=\"plain rtl  \" ><span class=\"plain rtl  \" ><span class=\"h\">מִלֵּ֖א </span></span></span><span class=\"plain rtl  \" ><span class=\"plain rtl  \" ><span class=\"h\">אַחֲרֵ֥י </span></span><span class=\"plain rtl  \" ><span class=\"h\">יְהוָֽה׃ </span></span></span></span></span></span></span></td><td class=\"tf\"><span class=\"plain outer  rtl \"><span class=\"plain rtl  l hlbx\" ><span class=\"plain rtl  \" ><span class=\"plain rtl  hl\" ><span class=\"h\">לֹֽו־</span></span></span></span><span class=\"plain rtl  r l hlbx\" ><span class=\"plain rtl  \" ><span class=\"plain rtl  \" ><span class=\"h\">וּ</span></span></span></span><span class=\"plain rtl  r hlbx\" ><span class=\"plain rtl  \" ><span class=\"plain rtl  \" ><span class=\"h\">לְ</span></span><span class=\"plain rtl  hl\" ><span class=\"h\">בָנָ֑יו </span></span></span></span></span></td><td class=\"tf\"><span class=\"plain outer  rtl  hl\" ><span class=\"h\">לֹֽו־</span></span></td><td class=\"tf\"><span class=\"plain outer  rtl  hl\" ><span class=\"h\">בָנָ֑יו </span></span></td><td class=\"tf\"><span class=\"plain outer  rtl  hl\" ><span class=\"h\">אֶתֵּ֧ן </span></span></td></tr>\n",
       "<tr class=\"tf\"><td class=\"tf\">9</td><td class=\"tf\"> <a href=\"https://shebanq.ancient-data.org/hebrew/text?book=Deuteronomium&amp;chapter=26&amp;verse=11&amp;version=2017&amp;mr=m&amp;qw=q&amp;tp=txt_p&amp;tr=hb&amp;wget=v&amp;qget=v&amp;nget=vt\" title=\"show this passage in SHEBANQ\" sec=\"Deuteronomy 26:11\">Deuteronomy 26:11</a></td><td class=\"tf\"><span class=\"vrs ltr\"><a href=\"https://shebanq.ancient-data.org/hebrew/text?book=Deuteronomium&amp;chapter=26&amp;verse=11&amp;version=2017&amp;mr=m&amp;qw=q&amp;tp=txt_p&amp;tr=hb&amp;wget=v&amp;qget=v&amp;nget=vt\" title=\"show this passage in SHEBANQ\" sec=\"Deuteronomy 26:11\">Deuteronomy 26:11</a></span><span class=\"plain outer  rtl  \" ><span class=\"plain rtl \"><span class=\"plain rtl  \" ><span class=\"plain rtl  \" ><span class=\"plain rtl  \" ><span class=\"plain rtl  \" ><span class=\"h\">וְ</span></span></span><span class=\"plain rtl  \" ><span class=\"plain rtl  \" ><span class=\"h\">שָׂמַחְתָּ֣ </span></span></span><span class=\"plain rtl  \" ><span class=\"plain rtl  \" ><span class=\"h\">בְ</span></span><span class=\"plain rtl  \" ><span class=\"h\">כָל־</span></span><span class=\"plain rtl  \" ><span class=\"h\">הַ</span></span><span class=\"plain rtl  \" ><span class=\"h\">טֹּ֗וב </span></span></span></span><span class=\"plain rtl  \" ><span class=\"plain rtl  \" ><span class=\"plain rtl  \" ><span class=\"h\">אֲשֶׁ֧ר </span></span></span><span class=\"plain rtl  \" ><span class=\"plain rtl  \" ><span class=\"h\">נָֽתַן־</span></span></span><span class=\"plain rtl  l hlbx\" ><span class=\"plain rtl  \" ><span class=\"plain rtl  hl\" ><span class=\"h\">לְךָ֛ </span></span></span></span><span class=\"plain rtl  \" ><span class=\"plain rtl  hl\" ><span class=\"h\">יְהוָ֥ה </span></span></span><span class=\"plain rtl  \" ><span class=\"plain rtl  \" ><span class=\"h\">אֱלֹהֶ֖יךָ </span></span></span><span class=\"plain rtl  r l hlbx\" ><span class=\"plain rtl  \" ><span class=\"plain rtl  \" ><span class=\"h\">וּ</span></span></span></span><span class=\"plain rtl  r hlbx\" ><span class=\"plain rtl  \" ><span class=\"plain rtl  \" ><span class=\"h\">לְ</span></span><span class=\"plain rtl  hl\" ><span class=\"h\">בֵיתֶ֑ךָ </span></span></span></span></span><span class=\"plain rtl  \" ><span class=\"plain rtl  \" ><span class=\"plain rtl  \" ><span class=\"h\">אַתָּה֙ </span></span><span class=\"plain rtl  \" ><span class=\"h\">וְ</span></span><span class=\"plain rtl  \" ><span class=\"h\">הַ</span></span><span class=\"plain rtl  \" ><span class=\"h\">לֵּוִ֔י </span></span><span class=\"plain rtl  \" ><span class=\"h\">וְ</span></span><span class=\"plain rtl  \" ><span class=\"h\">הַ</span></span><span class=\"plain rtl  \" ><span class=\"h\">גֵּ֖ר </span></span></span></span><span class=\"plain rtl  \" ><span class=\"plain rtl  \" ><span class=\"plain rtl  \" ><span class=\"h\">אֲשֶׁ֥ר </span></span></span><span class=\"plain rtl  \" ><span class=\"plain rtl  \" ><span class=\"h\">בְּ</span></span><span class=\"plain rtl  \" ><span class=\"h\">קִרְבֶּֽךָ׃ ס </span></span></span></span></span></span></span></td><td class=\"tf\"><span class=\"plain outer  rtl \"><span class=\"plain rtl  l hlbx\" ><span class=\"plain rtl  \" ><span class=\"plain rtl  hl\" ><span class=\"h\">לְךָ֛ </span></span></span></span><span class=\"plain rtl  r l hlbx\" ><span class=\"plain rtl  \" ><span class=\"plain rtl  \" ><span class=\"h\">וּ</span></span></span></span><span class=\"plain rtl  r hlbx\" ><span class=\"plain rtl  \" ><span class=\"plain rtl  \" ><span class=\"h\">לְ</span></span><span class=\"plain rtl  hl\" ><span class=\"h\">בֵיתֶ֑ךָ </span></span></span></span></span></td><td class=\"tf\"><span class=\"plain outer  rtl  hl\" ><span class=\"h\">לְךָ֛ </span></span></td><td class=\"tf\"><span class=\"plain outer  rtl  hl\" ><span class=\"h\">בֵיתֶ֑ךָ </span></span></td><td class=\"tf\"><span class=\"plain outer  rtl  hl\" ><span class=\"h\">יְהוָ֥ה </span></span></td></tr>\n",
       "<tr class=\"tf\"><td class=\"tf\">10</td><td class=\"tf\"> <a href=\"https://shebanq.ancient-data.org/hebrew/text?book=Samuel_I&amp;chapter=25&amp;verse=31&amp;version=2017&amp;mr=m&amp;qw=q&amp;tp=txt_p&amp;tr=hb&amp;wget=v&amp;qget=v&amp;nget=vt\" title=\"show this passage in SHEBANQ\" sec=\"1_Samuel 25:31\">1_Samuel 25:31</a></td><td class=\"tf\"><span class=\"vrs ltr\"><a href=\"https://shebanq.ancient-data.org/hebrew/text?book=Samuel_I&amp;chapter=25&amp;verse=31&amp;version=2017&amp;mr=m&amp;qw=q&amp;tp=txt_p&amp;tr=hb&amp;wget=v&amp;qget=v&amp;nget=vt\" title=\"show this passage in SHEBANQ\" sec=\"1_Samuel 25:31\">1_Samuel 25:31</a></span><span class=\"plain outer  rtl  \" ><span class=\"plain rtl \"><span class=\"plain rtl  \" ><span class=\"plain rtl  \" ><span class=\"plain rtl  \" ><span class=\"plain rtl  \" ><span class=\"h\">וְ</span></span></span><span class=\"plain rtl  \" ><span class=\"plain rtl  \" ><span class=\"h\">לֹ֣א </span></span></span><span class=\"plain rtl  \" ><span class=\"plain rtl  \" ><span class=\"h\">תִהְיֶ֣ה </span></span></span><span class=\"plain rtl  \" ><span class=\"plain rtl  \" ><span class=\"h\">זֹ֣את׀ </span></span></span><span class=\"plain rtl  l hlbx\" ><span class=\"plain rtl  \" ><span class=\"plain rtl  hl\" ><span class=\"h\">לְךָ֡ </span></span></span></span><span class=\"plain rtl  \" ><span class=\"plain rtl  hl\" ><span class=\"h\">לְ</span></span><span class=\"plain rtl  \" ><span class=\"h\">פוּקָה֩ </span></span><span class=\"plain rtl  \" ><span class=\"h\">וּ</span></span><span class=\"plain rtl  \" ><span class=\"h\">לְ</span></span><span class=\"plain rtl  \" ><span class=\"h\">מִכְשֹׁ֨ול </span></span><span class=\"plain rtl  \" ><span class=\"h\">לֵ֜ב </span></span></span><span class=\"plain rtl  r hlbx\" ><span class=\"plain rtl  \" ><span class=\"plain rtl  \" ><span class=\"h\">לַ</span></span><span class=\"plain rtl  hl\" ><span class=\"h\">אדֹנִ֗י </span></span></span></span></span><span class=\"plain rtl  \" ><span class=\"plain rtl  \" ><span class=\"plain rtl  \" ><span class=\"h\">וְ</span></span></span><span class=\"plain rtl  \" ><span class=\"plain rtl  \" ><span class=\"h\">לִ</span></span><span class=\"plain rtl  \" ><span class=\"h\">שְׁפָּךְ־</span></span></span><span class=\"plain rtl  \" ><span class=\"plain rtl  \" ><span class=\"h\">דָּם֙ </span></span></span><span class=\"plain rtl  \" ><span class=\"plain rtl  \" ><span class=\"h\">חִנָּ֔ם </span></span></span></span><span class=\"plain rtl  \" ><span class=\"plain rtl  \" ><span class=\"plain rtl  \" ><span class=\"h\">וּ</span></span></span><span class=\"plain rtl  \" ><span class=\"plain rtl  \" ><span class=\"h\">לְ</span></span><span class=\"plain rtl  \" ><span class=\"h\">הֹושִׁ֥יעַ </span></span></span><span class=\"plain rtl  \" ><span class=\"plain rtl  \" ><span class=\"h\">אֲדֹנִ֖י </span></span></span><span class=\"plain rtl  \" ><span class=\"plain rtl  \" ><span class=\"h\">לֹ֑ו </span></span></span></span></span><span class=\"plain rtl  \" ><span class=\"plain rtl  \" ><span class=\"plain rtl  \" ><span class=\"plain rtl  \" ><span class=\"h\">וְ</span></span></span><span class=\"plain rtl  \" ><span class=\"plain rtl  \" ><span class=\"h\">הֵיטִ֤ב </span></span></span><span class=\"plain rtl  \" ><span class=\"plain rtl  \" ><span class=\"h\">יְהוָה֙ </span></span></span><span class=\"plain rtl  \" ><span class=\"plain rtl  \" ><span class=\"h\">לַֽ</span></span><span class=\"plain rtl  \" ><span class=\"h\">אדֹנִ֔י </span></span></span></span></span><span class=\"plain rtl  \" ><span class=\"plain rtl  \" ><span class=\"plain rtl  \" ><span class=\"plain rtl  \" ><span class=\"h\">וְ</span></span></span><span class=\"plain rtl  \" ><span class=\"plain rtl  \" ><span class=\"h\">זָכַרְתָּ֖ </span></span></span><span class=\"plain rtl  \" ><span class=\"plain rtl  \" ><span class=\"h\">אֶת־</span></span><span class=\"plain rtl  \" ><span class=\"h\">אֲמָתֶֽךָ׃ ס </span></span></span></span></span></span></span></td><td class=\"tf\"><span class=\"plain outer  rtl \"><span class=\"plain rtl  l hlbx\" ><span class=\"plain rtl  \" ><span class=\"plain rtl  hl\" ><span class=\"h\">לְךָ֡ </span></span></span></span><span class=\"plain rtl  r hlbx\" ><span class=\"plain rtl  \" ><span class=\"plain rtl  \" ><span class=\"h\">לַ</span></span><span class=\"plain rtl  hl\" ><span class=\"h\">אדֹנִ֗י </span></span></span></span></span></td><td class=\"tf\"><span class=\"plain outer  rtl  hl\" ><span class=\"h\">לְךָ֡ </span></span></td><td class=\"tf\"><span class=\"plain outer  rtl  hl\" ><span class=\"h\">אדֹנִ֗י </span></span></td><td class=\"tf\"><span class=\"plain outer  rtl  hl\" ><span class=\"h\">לְ</span></span></td></tr>\n",
       "<tr class=\"tf\"><td class=\"tf\">11</td><td class=\"tf\"> <a href=\"https://shebanq.ancient-data.org/hebrew/text?book=Reges_II&amp;chapter=25&amp;verse=24&amp;version=2017&amp;mr=m&amp;qw=q&amp;tp=txt_p&amp;tr=hb&amp;wget=v&amp;qget=v&amp;nget=vt\" title=\"show this passage in SHEBANQ\" sec=\"2_Kings 25:24\">2_Kings 25:24</a></td><td class=\"tf\"><span class=\"vrs ltr\"><a href=\"https://shebanq.ancient-data.org/hebrew/text?book=Reges_II&amp;chapter=25&amp;verse=24&amp;version=2017&amp;mr=m&amp;qw=q&amp;tp=txt_p&amp;tr=hb&amp;wget=v&amp;qget=v&amp;nget=vt\" title=\"show this passage in SHEBANQ\" sec=\"2_Kings 25:24\">2_Kings 25:24</a></span><span class=\"plain outer  rtl  \" ><span class=\"plain rtl \"><span class=\"plain rtl  \" ><span class=\"plain rtl  \" ><span class=\"plain rtl  \" ><span class=\"plain rtl  \" ><span class=\"h\">וַ</span></span></span><span class=\"plain rtl  \" ><span class=\"plain rtl  \" ><span class=\"h\">יִּשָּׁבַ֨ע </span></span></span><span class=\"plain rtl  l hlbx\" ><span class=\"plain rtl  \" ><span class=\"plain rtl  hl\" ><span class=\"h\">לָהֶ֤ם </span></span></span></span><span class=\"plain rtl  \" ><span class=\"plain rtl  hl\" ><span class=\"h\">גְּדַלְיָ֨הוּ֙ </span></span></span><span class=\"plain rtl  r l hlbx\" ><span class=\"plain rtl  \" ><span class=\"plain rtl  \" ><span class=\"h\">וּ</span></span></span></span><span class=\"plain rtl  r hlbx\" ><span class=\"plain rtl  \" ><span class=\"plain rtl  \" ><span class=\"h\">לְ</span></span><span class=\"plain rtl  hl\" ><span class=\"h\">אַנְשֵׁיהֶ֔ם </span></span></span></span></span></span><span class=\"plain rtl  \" ><span class=\"plain rtl  \" ><span class=\"plain rtl  \" ><span class=\"plain rtl  \" ><span class=\"h\">וַ</span></span></span><span class=\"plain rtl  \" ><span class=\"plain rtl  \" ><span class=\"h\">יֹּ֣אמֶר </span></span></span><span class=\"plain rtl  \" ><span class=\"plain rtl  \" ><span class=\"h\">לָהֶ֔ם </span></span></span></span></span><span class=\"plain rtl  \" ><span class=\"plain rtl  \" ><span class=\"plain rtl  \" ><span class=\"plain rtl  \" ><span class=\"h\">אַל־</span></span></span><span class=\"plain rtl  \" ><span class=\"plain rtl  \" ><span class=\"h\">תִּֽירְא֖וּ </span></span></span><span class=\"plain rtl  \" ><span class=\"plain rtl  \" ><span class=\"h\">מֵ</span></span><span class=\"plain rtl  \" ><span class=\"h\">עַבְדֵ֣י </span></span><span class=\"plain rtl  \" ><span class=\"h\">הַ</span></span><span class=\"plain rtl  \" ><span class=\"h\">כַּשְׂדִּ֑ים </span></span></span></span></span><span class=\"plain rtl  \" ><span class=\"plain rtl  \" ><span class=\"plain rtl  \" ><span class=\"plain rtl  \" ><span class=\"h\">שְׁב֣וּ </span></span></span><span class=\"plain rtl  \" ><span class=\"plain rtl  \" ><span class=\"h\">בָ</span></span><span class=\"plain rtl  \" ><span class=\"h\"></span></span><span class=\"plain rtl  \" ><span class=\"h\">אָ֗רֶץ </span></span></span></span></span><span class=\"plain rtl  \" ><span class=\"plain rtl  \" ><span class=\"plain rtl  \" ><span class=\"plain rtl  \" ><span class=\"h\">וְ</span></span></span><span class=\"plain rtl  \" ><span class=\"plain rtl  \" ><span class=\"h\">עִבְד֛וּ </span></span></span><span class=\"plain rtl  \" ><span class=\"plain rtl  \" ><span class=\"h\">אֶת־</span></span><span class=\"plain rtl  \" ><span class=\"h\">מֶ֥לֶךְ </span></span><span class=\"plain rtl  \" ><span class=\"h\">בָּבֶ֖ל </span></span></span></span></span><span class=\"plain rtl  \" ><span class=\"plain rtl  \" ><span class=\"plain rtl  \" ><span class=\"plain rtl  \" ><span class=\"h\">וְ</span></span></span><span class=\"plain rtl  \" ><span class=\"plain rtl  \" ><span class=\"h\">יִטַ֥ב </span></span></span><span class=\"plain rtl  \" ><span class=\"plain rtl  \" ><span class=\"h\">לָכֶֽם׃ ס </span></span></span></span></span></span></span></td><td class=\"tf\"><span class=\"plain outer  rtl \"><span class=\"plain rtl  l hlbx\" ><span class=\"plain rtl  \" ><span class=\"plain rtl  hl\" ><span class=\"h\">לָהֶ֤ם </span></span></span></span><span class=\"plain rtl  r l hlbx\" ><span class=\"plain rtl  \" ><span class=\"plain rtl  \" ><span class=\"h\">וּ</span></span></span></span><span class=\"plain rtl  r hlbx\" ><span class=\"plain rtl  \" ><span class=\"plain rtl  \" ><span class=\"h\">לְ</span></span><span class=\"plain rtl  hl\" ><span class=\"h\">אַנְשֵׁיהֶ֔ם </span></span></span></span></span></td><td class=\"tf\"><span class=\"plain outer  rtl  hl\" ><span class=\"h\">לָהֶ֤ם </span></span></td><td class=\"tf\"><span class=\"plain outer  rtl  hl\" ><span class=\"h\">אַנְשֵׁיהֶ֔ם </span></span></td><td class=\"tf\"><span class=\"plain outer  rtl  hl\" ><span class=\"h\">גְּדַלְיָ֨הוּ֙ </span></span></td></tr>\n",
       "<tr class=\"tf\"><td class=\"tf\">12</td><td class=\"tf\"> <a href=\"https://shebanq.ancient-data.org/hebrew/text?book=Jeremia&amp;chapter=40&amp;verse=9&amp;version=2017&amp;mr=m&amp;qw=q&amp;tp=txt_p&amp;tr=hb&amp;wget=v&amp;qget=v&amp;nget=vt\" title=\"show this passage in SHEBANQ\" sec=\"Jeremiah 40:9\">Jeremiah 40:9</a></td><td class=\"tf\"><span class=\"vrs ltr\"><a href=\"https://shebanq.ancient-data.org/hebrew/text?book=Jeremia&amp;chapter=40&amp;verse=9&amp;version=2017&amp;mr=m&amp;qw=q&amp;tp=txt_p&amp;tr=hb&amp;wget=v&amp;qget=v&amp;nget=vt\" title=\"show this passage in SHEBANQ\" sec=\"Jeremiah 40:9\">Jeremiah 40:9</a></span><span class=\"plain outer  rtl  \" ><span class=\"plain rtl \"><span class=\"plain rtl  \" ><span class=\"plain rtl  \" ><span class=\"plain rtl  \" ><span class=\"plain rtl  \" ><span class=\"h\">וַ</span></span></span><span class=\"plain rtl  \" ><span class=\"plain rtl  \" ><span class=\"h\">יִּשָּׁבַ֨ע </span></span></span><span class=\"plain rtl  l hlbx\" ><span class=\"plain rtl  \" ><span class=\"plain rtl  hl\" ><span class=\"h\">לָהֶ֜ם </span></span></span></span><span class=\"plain rtl  \" ><span class=\"plain rtl  hl\" ><span class=\"h\">גְּדַלְיָ֨הוּ </span></span></span><span class=\"plain rtl  \" ><span class=\"plain rtl  \" ><span class=\"h\">בֶן־</span></span><span class=\"plain rtl  \" ><span class=\"h\">אֲחִיקָ֤ם </span></span></span><span class=\"plain rtl  \" ><span class=\"plain rtl  \" ><span class=\"h\">בֶּן־</span></span><span class=\"plain rtl  \" ><span class=\"h\">שָׁפָן֙ </span></span></span><span class=\"plain rtl  r l hlbx\" ><span class=\"plain rtl  \" ><span class=\"plain rtl  \" ><span class=\"h\">וּ</span></span></span></span><span class=\"plain rtl  r hlbx\" ><span class=\"plain rtl  \" ><span class=\"plain rtl  \" ><span class=\"h\">לְ</span></span><span class=\"plain rtl  hl\" ><span class=\"h\">אַנְשֵׁיהֶ֣ם </span></span></span></span></span><span class=\"plain rtl  \" ><span class=\"plain rtl  \" ><span class=\"plain rtl  \" ><span class=\"h\">לֵ</span></span><span class=\"plain rtl  \" ><span class=\"h\">אמֹ֔ר </span></span></span></span></span><span class=\"plain rtl  \" ><span class=\"plain rtl  \" ><span class=\"plain rtl  \" ><span class=\"plain rtl  \" ><span class=\"h\">אַל־</span></span></span><span class=\"plain rtl  \" ><span class=\"plain rtl  \" ><span class=\"h\">תִּֽירְא֖וּ </span></span></span></span><span class=\"plain rtl  \" ><span class=\"plain rtl  \" ><span class=\"plain rtl  \" ><span class=\"h\">מֵ</span></span><span class=\"plain rtl  \" ><span class=\"h\">עֲבֹ֣וד </span></span></span><span class=\"plain rtl  \" ><span class=\"plain rtl  \" ><span class=\"h\">הַ</span></span><span class=\"plain rtl  \" ><span class=\"h\">כַּשְׂדִּ֑ים </span></span></span></span></span><span class=\"plain rtl  \" ><span class=\"plain rtl  \" ><span class=\"plain rtl  \" ><span class=\"plain rtl  \" ><span class=\"h\">שְׁב֣וּ </span></span></span><span class=\"plain rtl  \" ><span class=\"plain rtl  \" ><span class=\"h\">בָ</span></span><span class=\"plain rtl  \" ><span class=\"h\"></span></span><span class=\"plain rtl  \" ><span class=\"h\">אָ֗רֶץ </span></span></span></span></span><span class=\"plain rtl  \" ><span class=\"plain rtl  \" ><span class=\"plain rtl  \" ><span class=\"plain rtl  \" ><span class=\"h\">וְ</span></span></span><span class=\"plain rtl  \" ><span class=\"plain rtl  \" ><span class=\"h\">עִבְד֛וּ </span></span></span><span class=\"plain rtl  \" ><span class=\"plain rtl  \" ><span class=\"h\">אֶת־</span></span><span class=\"plain rtl  \" ><span class=\"h\">מֶ֥לֶךְ </span></span><span class=\"plain rtl  \" ><span class=\"h\">בָּבֶ֖ל </span></span></span></span></span><span class=\"plain rtl  \" ><span class=\"plain rtl  \" ><span class=\"plain rtl  \" ><span class=\"plain rtl  \" ><span class=\"h\">וְ</span></span></span><span class=\"plain rtl  \" ><span class=\"plain rtl  \" ><span class=\"h\">יִיטַ֥ב </span></span></span><span class=\"plain rtl  \" ><span class=\"plain rtl  \" ><span class=\"h\">לָכֶֽם׃ </span></span></span></span></span></span></span></td><td class=\"tf\"><span class=\"plain outer  rtl \"><span class=\"plain rtl  l hlbx\" ><span class=\"plain rtl  \" ><span class=\"plain rtl  hl\" ><span class=\"h\">לָהֶ֜ם </span></span></span></span><span class=\"plain rtl  r l hlbx\" ><span class=\"plain rtl  \" ><span class=\"plain rtl  \" ><span class=\"h\">וּ</span></span></span></span><span class=\"plain rtl  r hlbx\" ><span class=\"plain rtl  \" ><span class=\"plain rtl  \" ><span class=\"h\">לְ</span></span><span class=\"plain rtl  hl\" ><span class=\"h\">אַנְשֵׁיהֶ֣ם </span></span></span></span></span></td><td class=\"tf\"><span class=\"plain outer  rtl  hl\" ><span class=\"h\">לָהֶ֜ם </span></span></td><td class=\"tf\"><span class=\"plain outer  rtl  hl\" ><span class=\"h\">אַנְשֵׁיהֶ֣ם </span></span></td><td class=\"tf\"><span class=\"plain outer  rtl  hl\" ><span class=\"h\">גְּדַלְיָ֨הוּ </span></span></td></tr>\n",
       "<tr class=\"tf\"><td class=\"tf\">13</td><td class=\"tf\"> <a href=\"https://shebanq.ancient-data.org/hebrew/text?book=Daniel&amp;chapter=9&amp;verse=8&amp;version=2017&amp;mr=m&amp;qw=q&amp;tp=txt_p&amp;tr=hb&amp;wget=v&amp;qget=v&amp;nget=vt\" title=\"show this passage in SHEBANQ\" sec=\"Daniel 9:8\">Daniel 9:8</a></td><td class=\"tf\"><span class=\"vrs ltr\"><a href=\"https://shebanq.ancient-data.org/hebrew/text?book=Daniel&amp;chapter=9&amp;verse=8&amp;version=2017&amp;mr=m&amp;qw=q&amp;tp=txt_p&amp;tr=hb&amp;wget=v&amp;qget=v&amp;nget=vt\" title=\"show this passage in SHEBANQ\" sec=\"Daniel 9:8\">Daniel 9:8</a></span><span class=\"plain outer  rtl  \" ><span class=\"plain rtl \"><span class=\"plain rtl  \" ><span class=\"plain rtl  \" ><span class=\"plain rtl  \" ><span class=\"plain rtl  \" ><span class=\"h\">יְהוָ֗ה </span></span></span></span><span class=\"plain rtl  \" ><span class=\"plain rtl  l hlbx\" ><span class=\"plain rtl  \" ><span class=\"plain rtl  hl\" ><span class=\"h\">לָ֚נוּ </span></span></span></span><span class=\"plain rtl  \" ><span class=\"plain rtl  hl\" ><span class=\"h\">בֹּ֣שֶׁת </span></span><span class=\"plain rtl  \" ><span class=\"h\">הַ</span></span><span class=\"plain rtl  \" ><span class=\"h\">פָּנִ֔ים </span></span></span><span class=\"plain rtl  r hlbx\" ><span class=\"plain rtl  \" ><span class=\"plain rtl  \" ><span class=\"h\">לִ</span></span><span class=\"plain rtl  \" ><span class=\"h\">מְלָכֵ֥ינוּ </span></span><span class=\"plain rtl  \" ><span class=\"h\">לְ</span></span><span class=\"plain rtl  \" ><span class=\"h\">שָׂרֵ֖ינוּ </span></span><span class=\"plain rtl  \" ><span class=\"h\">וְ</span></span><span class=\"plain rtl  \" ><span class=\"h\">לַ</span></span><span class=\"plain rtl  hl\" ><span class=\"h\">אֲבֹתֵ֑ינוּ </span></span></span></span></span><span class=\"plain rtl  \" ><span class=\"plain rtl  \" ><span class=\"plain rtl  \" ><span class=\"h\">אֲשֶׁ֥ר </span></span></span><span class=\"plain rtl  \" ><span class=\"plain rtl  \" ><span class=\"h\">חָטָ֖אנוּ </span></span></span><span class=\"plain rtl  \" ><span class=\"plain rtl  \" ><span class=\"h\">לָֽךְ׃ </span></span></span></span></span></span></span></td><td class=\"tf\"><span class=\"plain outer  rtl \"><span class=\"plain rtl  l hlbx\" ><span class=\"plain rtl  \" ><span class=\"plain rtl  hl\" ><span class=\"h\">לָ֚נוּ </span></span></span></span><span class=\"plain rtl  r hlbx\" ><span class=\"plain rtl  \" ><span class=\"plain rtl  \" ><span class=\"h\">לִ</span></span><span class=\"plain rtl  \" ><span class=\"h\">מְלָכֵ֥ינוּ </span></span><span class=\"plain rtl  \" ><span class=\"h\">לְ</span></span><span class=\"plain rtl  \" ><span class=\"h\">שָׂרֵ֖ינוּ </span></span><span class=\"plain rtl  \" ><span class=\"h\">וְ</span></span><span class=\"plain rtl  \" ><span class=\"h\">לַ</span></span><span class=\"plain rtl  hl\" ><span class=\"h\">אֲבֹתֵ֑ינוּ </span></span></span></span></span></td><td class=\"tf\"><span class=\"plain outer  rtl  hl\" ><span class=\"h\">לָ֚נוּ </span></span></td><td class=\"tf\"><span class=\"plain outer  rtl  hl\" ><span class=\"h\">אֲבֹתֵ֑ינוּ </span></span></td><td class=\"tf\"><span class=\"plain outer  rtl  hl\" ><span class=\"h\">בֹּ֣שֶׁת </span></span></td></tr></table>"
      ],
      "text/plain": [
       "<IPython.core.display.HTML object>"
      ]
     },
     "metadata": {},
     "output_type": "display_data"
    }
   ],
   "source": [
    "A.table(results)"
   ]
  },
  {
   "cell_type": "markdown",
   "metadata": {},
   "source": [
    "Let's color the word in the gap differently."
   ]
  },
  {
   "cell_type": "code",
   "execution_count": 8,
   "metadata": {
    "ExecuteTime": {
     "end_time": "2018-05-18T09:16:40.841646Z",
     "start_time": "2018-05-18T09:16:40.654538Z"
    }
   },
   "outputs": [
    {
     "data": {
      "text/html": [
       "<table>\n",
       "<tr class=\"tf\">\n",
       "  <th class=\"tf\">n</th><th class=\"tf\">p</th>\n",
       "  <th class=\"tf\">verse</th><th>phrase</th><th>word</th><th>word</th><th>word</th>\n",
       "</tr>\n",
       "\n",
       "<tr class=\"tf\"><td class=\"tf\">1</td><td class=\"tf\"> <a href=\"https://shebanq.ancient-data.org/hebrew/text?book=Genesis&amp;chapter=17&amp;verse=7&amp;version=2017&amp;mr=m&amp;qw=q&amp;tp=txt_p&amp;tr=hb&amp;wget=v&amp;qget=v&amp;nget=vt\" title=\"show this passage in SHEBANQ\" sec=\"Genesis 17:7\">Genesis 17:7</a></td><td class=\"tf\"><span class=\"vrs ltr\"><a href=\"https://shebanq.ancient-data.org/hebrew/text?book=Genesis&amp;chapter=17&amp;verse=7&amp;version=2017&amp;mr=m&amp;qw=q&amp;tp=txt_p&amp;tr=hb&amp;wget=v&amp;qget=v&amp;nget=vt\" title=\"show this passage in SHEBANQ\" sec=\"Genesis 17:7\">Genesis 17:7</a></span><span class=\"plain outer  rtl  \" ><span class=\"plain rtl \"><span class=\"plain rtl  \" ><span class=\"plain rtl  \" ><span class=\"plain rtl  \" ><span class=\"plain rtl  \" ><span class=\"h\">וַ</span></span></span><span class=\"plain rtl  \" ><span class=\"plain rtl  \" ><span class=\"h\">הֲקִמֹתִ֨י </span></span></span><span class=\"plain rtl  \" ><span class=\"plain rtl  \" ><span class=\"h\">אֶת־</span></span><span class=\"plain rtl  \" ><span class=\"h\">בְּרִיתִ֜י </span></span></span><span class=\"plain rtl  \" ><span class=\"plain rtl  \" ><span class=\"h\">בֵּינִ֣י </span></span><span class=\"plain rtl  \" ><span class=\"h\">וּ</span></span><span class=\"plain rtl  \" ><span class=\"h\">בֵינֶ֗ךָ </span></span><span class=\"plain rtl  \" ><span class=\"h\">וּ</span></span><span class=\"plain rtl  \" ><span class=\"h\">בֵ֨ין </span></span><span class=\"plain rtl  \" ><span class=\"h\">זַרְעֲךָ֧ </span></span></span><span class=\"plain rtl  \" ><span class=\"plain rtl  \" ><span class=\"h\">אַחֲרֶ֛יךָ </span></span></span><span class=\"plain rtl  \" ><span class=\"plain rtl  \" ><span class=\"h\">לְ</span></span><span class=\"plain rtl  \" ><span class=\"h\">דֹרֹתָ֖ם </span></span></span><span class=\"plain rtl  \" ><span class=\"plain rtl  \" ><span class=\"h\">לִ</span></span><span class=\"plain rtl  \" ><span class=\"h\">בְרִ֣ית </span></span><span class=\"plain rtl  \" ><span class=\"h\">עֹולָ֑ם </span></span></span></span><span class=\"plain rtl  \" ><span class=\"plain rtl  \" ><span class=\"plain rtl  \" ><span class=\"h\">לִ</span></span><span class=\"plain rtl  \" ><span class=\"h\">הְיֹ֤ות </span></span></span><span class=\"plain rtl  l hlbx\"  style=\"border-color: blue;\" ><span class=\"plain rtl  \" ><span class=\"plain rtl  hl\"  style=\"background-color: yellow;\" ><span class=\"h\">לְךָ֙ </span></span></span></span><span class=\"plain rtl  \" ><span class=\"plain rtl  hl\"  style=\"background-color: magenta;\" ><span class=\"h\">לֵֽ</span></span><span class=\"plain rtl  \" ><span class=\"h\">אלֹהִ֔ים </span></span></span><span class=\"plain rtl  r l hlbx\"  style=\"border-color: blue;\" ><span class=\"plain rtl  \" ><span class=\"plain rtl  \" ><span class=\"h\">וּֽ</span></span></span></span><span class=\"plain rtl  r l hlbx\"  style=\"border-color: blue;\" ><span class=\"plain rtl  \" ><span class=\"plain rtl  \" ><span class=\"h\">לְ</span></span><span class=\"plain rtl  \" ><span class=\"h\">זַרְעֲךָ֖ </span></span></span></span><span class=\"plain rtl  r hlbx\"  style=\"border-color: blue;\" ><span class=\"plain rtl  \" ><span class=\"plain rtl  hl\" ><span class=\"h\">אַחֲרֶֽיךָ׃ </span></span></span></span></span></span></span></span></td><td class=\"tf\"><span class=\"plain outer  rtl \"><span class=\"plain rtl  l hlbx\"  style=\"border-color: blue;\" ><span class=\"plain rtl  \" ><span class=\"plain rtl  hl\"  style=\"background-color: yellow;\" ><span class=\"h\">לְךָ֙ </span></span></span></span><span class=\"plain rtl  r l hlbx\"  style=\"border-color: blue;\" ><span class=\"plain rtl  \" ><span class=\"plain rtl  \" ><span class=\"h\">וּֽ</span></span></span></span><span class=\"plain rtl  r l hlbx\"  style=\"border-color: blue;\" ><span class=\"plain rtl  \" ><span class=\"plain rtl  \" ><span class=\"h\">לְ</span></span><span class=\"plain rtl  \" ><span class=\"h\">זַרְעֲךָ֖ </span></span></span></span><span class=\"plain rtl  r hlbx\"  style=\"border-color: blue;\" ><span class=\"plain rtl  \" ><span class=\"plain rtl  hl\" ><span class=\"h\">אַחֲרֶֽיךָ׃ </span></span></span></span></span></td><td class=\"tf\"><span class=\"plain outer  rtl  hl\"  style=\"background-color: yellow;\" ><span class=\"h\">לְךָ֙ </span></span></td><td class=\"tf\"><span class=\"plain outer  rtl  hl\" ><span class=\"h\">אַחֲרֶֽיךָ׃ </span></span></td><td class=\"tf\"><span class=\"plain outer  rtl  hl\"  style=\"background-color: magenta;\" ><span class=\"h\">לֵֽ</span></span></td></tr>\n",
       "<tr class=\"tf\"><td class=\"tf\">2</td><td class=\"tf\"> <a href=\"https://shebanq.ancient-data.org/hebrew/text?book=Genesis&amp;chapter=28&amp;verse=4&amp;version=2017&amp;mr=m&amp;qw=q&amp;tp=txt_p&amp;tr=hb&amp;wget=v&amp;qget=v&amp;nget=vt\" title=\"show this passage in SHEBANQ\" sec=\"Genesis 28:4\">Genesis 28:4</a></td><td class=\"tf\"><span class=\"vrs ltr\"><a href=\"https://shebanq.ancient-data.org/hebrew/text?book=Genesis&amp;chapter=28&amp;verse=4&amp;version=2017&amp;mr=m&amp;qw=q&amp;tp=txt_p&amp;tr=hb&amp;wget=v&amp;qget=v&amp;nget=vt\" title=\"show this passage in SHEBANQ\" sec=\"Genesis 28:4\">Genesis 28:4</a></span><span class=\"plain outer  rtl  \" ><span class=\"plain rtl \"><span class=\"plain rtl  \" ><span class=\"plain rtl  \" ><span class=\"plain rtl  \" ><span class=\"plain rtl  \" ><span class=\"h\">וְ</span></span></span><span class=\"plain rtl  \" ><span class=\"plain rtl  \" ><span class=\"h\">יִֽתֶּן־</span></span></span><span class=\"plain rtl  l hlbx\"  style=\"border-color: blue;\" ><span class=\"plain rtl  \" ><span class=\"plain rtl  hl\"  style=\"background-color: yellow;\" ><span class=\"h\">לְךָ֙ </span></span></span></span><span class=\"plain rtl  \" ><span class=\"plain rtl  hl\"  style=\"background-color: magenta;\" ><span class=\"h\">אֶת־</span></span><span class=\"plain rtl  \" ><span class=\"h\">בִּרְכַּ֣ת </span></span><span class=\"plain rtl  \" ><span class=\"h\">אַבְרָהָ֔ם </span></span></span><span class=\"plain rtl  r l hlbx\"  style=\"border-color: blue;\" ><span class=\"plain rtl  \" ><span class=\"plain rtl  \" ><span class=\"h\">לְךָ֖ </span></span><span class=\"plain rtl  \" ><span class=\"h\">וּ</span></span><span class=\"plain rtl  \" ><span class=\"h\">לְ</span></span><span class=\"plain rtl  \" ><span class=\"h\">זַרְעֲךָ֣ </span></span></span></span><span class=\"plain rtl  r hlbx\"  style=\"border-color: blue;\" ><span class=\"plain rtl  \" ><span class=\"plain rtl  hl\" ><span class=\"h\">אִתָּ֑ךְ </span></span></span></span></span><span class=\"plain rtl  \" ><span class=\"plain rtl  \" ><span class=\"plain rtl  \" ><span class=\"h\">לְ</span></span><span class=\"plain rtl  \" ><span class=\"h\">רִשְׁתְּךָ֙ </span></span></span><span class=\"plain rtl  \" ><span class=\"plain rtl  \" ><span class=\"h\">אֶת־</span></span><span class=\"plain rtl  \" ><span class=\"h\">אֶ֣רֶץ </span></span><span class=\"plain rtl  \" ><span class=\"h\">מְגֻרֶ֔יךָ </span></span></span></span><span class=\"plain rtl  \" ><span class=\"plain rtl  \" ><span class=\"plain rtl  \" ><span class=\"h\">אֲשֶׁר־</span></span></span><span class=\"plain rtl  \" ><span class=\"plain rtl  \" ><span class=\"h\">נָתַ֥ן </span></span></span><span class=\"plain rtl  \" ><span class=\"plain rtl  \" ><span class=\"h\">אֱלֹהִ֖ים </span></span></span><span class=\"plain rtl  \" ><span class=\"plain rtl  \" ><span class=\"h\">לְ</span></span><span class=\"plain rtl  \" ><span class=\"h\">אַבְרָהָֽם׃ </span></span></span></span></span></span></span></td><td class=\"tf\"><span class=\"plain outer  rtl \"><span class=\"plain rtl  l hlbx\"  style=\"border-color: blue;\" ><span class=\"plain rtl  \" ><span class=\"plain rtl  hl\"  style=\"background-color: yellow;\" ><span class=\"h\">לְךָ֙ </span></span></span></span><span class=\"plain rtl  r l hlbx\"  style=\"border-color: blue;\" ><span class=\"plain rtl  \" ><span class=\"plain rtl  \" ><span class=\"h\">לְךָ֖ </span></span><span class=\"plain rtl  \" ><span class=\"h\">וּ</span></span><span class=\"plain rtl  \" ><span class=\"h\">לְ</span></span><span class=\"plain rtl  \" ><span class=\"h\">זַרְעֲךָ֣ </span></span></span></span><span class=\"plain rtl  r hlbx\"  style=\"border-color: blue;\" ><span class=\"plain rtl  \" ><span class=\"plain rtl  hl\" ><span class=\"h\">אִתָּ֑ךְ </span></span></span></span></span></td><td class=\"tf\"><span class=\"plain outer  rtl  hl\"  style=\"background-color: yellow;\" ><span class=\"h\">לְךָ֙ </span></span></td><td class=\"tf\"><span class=\"plain outer  rtl  hl\" ><span class=\"h\">אִתָּ֑ךְ </span></span></td><td class=\"tf\"><span class=\"plain outer  rtl  hl\"  style=\"background-color: magenta;\" ><span class=\"h\">אֶת־</span></span></td></tr>\n",
       "<tr class=\"tf\"><td class=\"tf\">3</td><td class=\"tf\"> <a href=\"https://shebanq.ancient-data.org/hebrew/text?book=Genesis&amp;chapter=31&amp;verse=16&amp;version=2017&amp;mr=m&amp;qw=q&amp;tp=txt_p&amp;tr=hb&amp;wget=v&amp;qget=v&amp;nget=vt\" title=\"show this passage in SHEBANQ\" sec=\"Genesis 31:16\">Genesis 31:16</a></td><td class=\"tf\"><span class=\"vrs ltr\"><a href=\"https://shebanq.ancient-data.org/hebrew/text?book=Genesis&amp;chapter=31&amp;verse=16&amp;version=2017&amp;mr=m&amp;qw=q&amp;tp=txt_p&amp;tr=hb&amp;wget=v&amp;qget=v&amp;nget=vt\" title=\"show this passage in SHEBANQ\" sec=\"Genesis 31:16\">Genesis 31:16</a></span><span class=\"plain outer  rtl  \" ><span class=\"plain rtl \"><span class=\"plain rtl  \" ><span class=\"plain rtl  \" ><span class=\"plain rtl  \" ><span class=\"plain rtl  \" ><span class=\"h\">כִּ֣י </span></span></span><span class=\"plain rtl  \" ><span class=\"plain rtl  \" ><span class=\"h\">כָל־</span></span><span class=\"plain rtl  \" ><span class=\"h\">הָ</span></span><span class=\"plain rtl  \" ><span class=\"h\">עֹ֗שֶׁר </span></span></span></span><span class=\"plain rtl  \" ><span class=\"plain rtl  \" ><span class=\"plain rtl  \" ><span class=\"h\">אֲשֶׁ֨ר </span></span></span><span class=\"plain rtl  \" ><span class=\"plain rtl  \" ><span class=\"h\">הִצִּ֤יל </span></span></span><span class=\"plain rtl  \" ><span class=\"plain rtl  \" ><span class=\"h\">אֱלֹהִים֙ </span></span></span><span class=\"plain rtl  \" ><span class=\"plain rtl  \" ><span class=\"h\">מֵֽ</span></span><span class=\"plain rtl  \" ><span class=\"h\">אָבִ֔ינוּ </span></span></span></span><span class=\"plain rtl  \" ><span class=\"plain rtl  l hlbx\"  style=\"border-color: blue;\" ><span class=\"plain rtl  \" ><span class=\"plain rtl  hl\"  style=\"background-color: yellow;\" ><span class=\"h\">לָ֥נוּ </span></span></span></span><span class=\"plain rtl  \" ><span class=\"plain rtl  hl\"  style=\"background-color: magenta;\" ><span class=\"h\">ה֖וּא </span></span></span><span class=\"plain rtl  r l hlbx\"  style=\"border-color: blue;\" ><span class=\"plain rtl  \" ><span class=\"plain rtl  \" ><span class=\"h\">וּ</span></span></span></span><span class=\"plain rtl  r hlbx\"  style=\"border-color: blue;\" ><span class=\"plain rtl  \" ><span class=\"plain rtl  \" ><span class=\"h\">לְ</span></span><span class=\"plain rtl  hl\" ><span class=\"h\">בָנֵ֑ינוּ </span></span></span></span></span></span><span class=\"plain rtl  \" ><span class=\"plain rtl  \" ><span class=\"plain rtl  \" ><span class=\"plain rtl  \" ><span class=\"h\">וְ</span></span></span><span class=\"plain rtl  \" ><span class=\"plain rtl  \" ><span class=\"h\">עַתָּ֗ה </span></span></span></span></span><span class=\"plain rtl  \" ><span class=\"plain rtl  \" ><span class=\"plain rtl  \" ><span class=\"plain rtl  \" ><span class=\"h\">כֹּל֩ </span></span></span></span><span class=\"plain rtl  \" ><span class=\"plain rtl  \" ><span class=\"plain rtl  \" ><span class=\"h\">אֲשֶׁ֨ר </span></span></span><span class=\"plain rtl  \" ><span class=\"plain rtl  \" ><span class=\"h\">אָמַ֧ר </span></span></span><span class=\"plain rtl  \" ><span class=\"plain rtl  \" ><span class=\"h\">אֱלֹהִ֛ים </span></span></span><span class=\"plain rtl  \" ><span class=\"plain rtl  \" ><span class=\"h\">אֵלֶ֖יךָ </span></span></span></span><span class=\"plain rtl  \" ><span class=\"plain rtl  \" ><span class=\"plain rtl  \" ><span class=\"h\">עֲשֵֽׂה׃ </span></span></span></span></span></span></span></td><td class=\"tf\"><span class=\"plain outer  rtl \"><span class=\"plain rtl  l hlbx\"  style=\"border-color: blue;\" ><span class=\"plain rtl  \" ><span class=\"plain rtl  hl\"  style=\"background-color: yellow;\" ><span class=\"h\">לָ֥נוּ </span></span></span></span><span class=\"plain rtl  r l hlbx\"  style=\"border-color: blue;\" ><span class=\"plain rtl  \" ><span class=\"plain rtl  \" ><span class=\"h\">וּ</span></span></span></span><span class=\"plain rtl  r hlbx\"  style=\"border-color: blue;\" ><span class=\"plain rtl  \" ><span class=\"plain rtl  \" ><span class=\"h\">לְ</span></span><span class=\"plain rtl  hl\" ><span class=\"h\">בָנֵ֑ינוּ </span></span></span></span></span></td><td class=\"tf\"><span class=\"plain outer  rtl  hl\"  style=\"background-color: yellow;\" ><span class=\"h\">לָ֥נוּ </span></span></td><td class=\"tf\"><span class=\"plain outer  rtl  hl\" ><span class=\"h\">בָנֵ֑ינוּ </span></span></td><td class=\"tf\"><span class=\"plain outer  rtl  hl\"  style=\"background-color: magenta;\" ><span class=\"h\">ה֖וּא </span></span></td></tr>\n",
       "<tr class=\"tf\"><td class=\"tf\">4</td><td class=\"tf\"> <a href=\"https://shebanq.ancient-data.org/hebrew/text?book=Exodus&amp;chapter=30&amp;verse=21&amp;version=2017&amp;mr=m&amp;qw=q&amp;tp=txt_p&amp;tr=hb&amp;wget=v&amp;qget=v&amp;nget=vt\" title=\"show this passage in SHEBANQ\" sec=\"Exodus 30:21\">Exodus 30:21</a></td><td class=\"tf\"><span class=\"vrs ltr\"><a href=\"https://shebanq.ancient-data.org/hebrew/text?book=Exodus&amp;chapter=30&amp;verse=21&amp;version=2017&amp;mr=m&amp;qw=q&amp;tp=txt_p&amp;tr=hb&amp;wget=v&amp;qget=v&amp;nget=vt\" title=\"show this passage in SHEBANQ\" sec=\"Exodus 30:21\">Exodus 30:21</a></span><span class=\"plain outer  rtl  \" ><span class=\"plain rtl \"><span class=\"plain rtl  \" ><span class=\"plain rtl  \" ><span class=\"plain rtl  \" ><span class=\"plain rtl  \" ><span class=\"h\">וְ</span></span></span><span class=\"plain rtl  \" ><span class=\"plain rtl  \" ><span class=\"h\">רָחֲצ֛וּ </span></span></span><span class=\"plain rtl  \" ><span class=\"plain rtl  \" ><span class=\"h\">יְדֵיהֶ֥ם </span></span><span class=\"plain rtl  \" ><span class=\"h\">וְ</span></span><span class=\"plain rtl  \" ><span class=\"h\">רַגְלֵיהֶ֖ם </span></span></span></span></span><span class=\"plain rtl  \" ><span class=\"plain rtl  \" ><span class=\"plain rtl  \" ><span class=\"plain rtl  \" ><span class=\"h\">וְ</span></span></span><span class=\"plain rtl  \" ><span class=\"plain rtl  \" ><span class=\"h\">לֹ֣א </span></span></span><span class=\"plain rtl  \" ><span class=\"plain rtl  \" ><span class=\"h\">יָמֻ֑תוּ </span></span></span></span></span><span class=\"plain rtl  \" ><span class=\"plain rtl  \" ><span class=\"plain rtl  \" ><span class=\"plain rtl  \" ><span class=\"h\">וְ</span></span></span><span class=\"plain rtl  \" ><span class=\"plain rtl  \" ><span class=\"h\">הָיְתָ֨ה </span></span></span><span class=\"plain rtl  l hlbx\"  style=\"border-color: blue;\" ><span class=\"plain rtl  \" ><span class=\"plain rtl  hl\"  style=\"background-color: yellow;\" ><span class=\"h\">לָהֶ֧ם </span></span></span></span><span class=\"plain rtl  \" ><span class=\"plain rtl  hl\"  style=\"background-color: magenta;\" ><span class=\"h\">חָק־</span></span><span class=\"plain rtl  \" ><span class=\"h\">עֹולָ֛ם </span></span></span><span class=\"plain rtl  r hlbx\"  style=\"border-color: blue;\" ><span class=\"plain rtl  \" ><span class=\"plain rtl  \" ><span class=\"h\">לֹ֥ו </span></span><span class=\"plain rtl  \" ><span class=\"h\">וּ</span></span><span class=\"plain rtl  \" ><span class=\"h\">לְ</span></span><span class=\"plain rtl  hl\" ><span class=\"h\">זַרְעֹ֖ו </span></span></span></span><span class=\"plain rtl  \" ><span class=\"plain rtl  \" ><span class=\"h\">לְ</span></span><span class=\"plain rtl  \" ><span class=\"h\">דֹרֹתָֽם׃ פ </span></span></span></span></span></span></span></td><td class=\"tf\"><span class=\"plain outer  rtl \"><span class=\"plain rtl  l hlbx\"  style=\"border-color: blue;\" ><span class=\"plain rtl  \" ><span class=\"plain rtl  hl\"  style=\"background-color: yellow;\" ><span class=\"h\">לָהֶ֧ם </span></span></span></span><span class=\"plain rtl  r hlbx\"  style=\"border-color: blue;\" ><span class=\"plain rtl  \" ><span class=\"plain rtl  \" ><span class=\"h\">לֹ֥ו </span></span><span class=\"plain rtl  \" ><span class=\"h\">וּ</span></span><span class=\"plain rtl  \" ><span class=\"h\">לְ</span></span><span class=\"plain rtl  hl\" ><span class=\"h\">זַרְעֹ֖ו </span></span></span></span></span></td><td class=\"tf\"><span class=\"plain outer  rtl  hl\"  style=\"background-color: yellow;\" ><span class=\"h\">לָהֶ֧ם </span></span></td><td class=\"tf\"><span class=\"plain outer  rtl  hl\" ><span class=\"h\">זַרְעֹ֖ו </span></span></td><td class=\"tf\"><span class=\"plain outer  rtl  hl\"  style=\"background-color: magenta;\" ><span class=\"h\">חָק־</span></span></td></tr>\n",
       "<tr class=\"tf\"><td class=\"tf\">5</td><td class=\"tf\"> <a href=\"https://shebanq.ancient-data.org/hebrew/text?book=Leviticus&amp;chapter=25&amp;verse=6&amp;version=2017&amp;mr=m&amp;qw=q&amp;tp=txt_p&amp;tr=hb&amp;wget=v&amp;qget=v&amp;nget=vt\" title=\"show this passage in SHEBANQ\" sec=\"Leviticus 25:6\">Leviticus 25:6</a></td><td class=\"tf\"><span class=\"vrs ltr\"><a href=\"https://shebanq.ancient-data.org/hebrew/text?book=Leviticus&amp;chapter=25&amp;verse=6&amp;version=2017&amp;mr=m&amp;qw=q&amp;tp=txt_p&amp;tr=hb&amp;wget=v&amp;qget=v&amp;nget=vt\" title=\"show this passage in SHEBANQ\" sec=\"Leviticus 25:6\">Leviticus 25:6</a></span><span class=\"plain outer  rtl  \" ><span class=\"plain rtl \"><span class=\"plain rtl  \" ><span class=\"plain rtl  \" ><span class=\"plain rtl  \" ><span class=\"plain rtl  \" ><span class=\"h\">וְ֠</span></span></span><span class=\"plain rtl  \" ><span class=\"plain rtl  \" ><span class=\"h\">הָיְתָה </span></span></span><span class=\"plain rtl  \" ><span class=\"plain rtl  \" ><span class=\"h\">שַׁבַּ֨ת </span></span><span class=\"plain rtl  \" ><span class=\"h\">הָ</span></span><span class=\"plain rtl  \" ><span class=\"h\">אָ֤רֶץ </span></span></span><span class=\"plain rtl  l hlbx\"  style=\"border-color: blue;\" ><span class=\"plain rtl  \" ><span class=\"plain rtl  hl\"  style=\"background-color: yellow;\" ><span class=\"h\">לָכֶם֙ </span></span></span></span><span class=\"plain rtl  \" ><span class=\"plain rtl  hl\"  style=\"background-color: magenta;\" ><span class=\"h\">לְ</span></span><span class=\"plain rtl  \" ><span class=\"h\">אָכְלָ֔ה </span></span></span><span class=\"plain rtl  r hlbx\"  style=\"border-color: blue;\" ><span class=\"plain rtl  \" ><span class=\"plain rtl  \" ><span class=\"h\">לְךָ֖ </span></span><span class=\"plain rtl  \" ><span class=\"h\">וּ</span></span><span class=\"plain rtl  \" ><span class=\"h\">לְ</span></span><span class=\"plain rtl  \" ><span class=\"h\">עַבְדְּךָ֣ </span></span><span class=\"plain rtl  \" ><span class=\"h\">וְ</span></span><span class=\"plain rtl  \" ><span class=\"h\">לַ</span></span><span class=\"plain rtl  \" ><span class=\"h\">אֲמָתֶ֑ךָ </span></span><span class=\"plain rtl  \" ><span class=\"h\">וְ</span></span><span class=\"plain rtl  \" ><span class=\"h\">לִ</span></span><span class=\"plain rtl  \" ><span class=\"h\">שְׂכִֽירְךָ֙ </span></span><span class=\"plain rtl  \" ><span class=\"h\">וּ</span></span><span class=\"plain rtl  \" ><span class=\"h\">לְ</span></span><span class=\"plain rtl  hl\" ><span class=\"h\">תֹושָׁ֣בְךָ֔ </span></span></span></span></span><span class=\"plain rtl  \" ><span class=\"plain rtl  \" ><span class=\"plain rtl  \" ><span class=\"h\">הַ</span></span></span><span class=\"plain rtl  \" ><span class=\"plain rtl  \" ><span class=\"h\">גָּרִ֖ים </span></span></span><span class=\"plain rtl  \" ><span class=\"plain rtl  \" ><span class=\"h\">עִמָּֽךְ׃ </span></span></span></span></span></span></span></td><td class=\"tf\"><span class=\"plain outer  rtl \"><span class=\"plain rtl  l hlbx\"  style=\"border-color: blue;\" ><span class=\"plain rtl  \" ><span class=\"plain rtl  hl\"  style=\"background-color: yellow;\" ><span class=\"h\">לָכֶם֙ </span></span></span></span><span class=\"plain rtl  r hlbx\"  style=\"border-color: blue;\" ><span class=\"plain rtl  \" ><span class=\"plain rtl  \" ><span class=\"h\">לְךָ֖ </span></span><span class=\"plain rtl  \" ><span class=\"h\">וּ</span></span><span class=\"plain rtl  \" ><span class=\"h\">לְ</span></span><span class=\"plain rtl  \" ><span class=\"h\">עַבְדְּךָ֣ </span></span><span class=\"plain rtl  \" ><span class=\"h\">וְ</span></span><span class=\"plain rtl  \" ><span class=\"h\">לַ</span></span><span class=\"plain rtl  \" ><span class=\"h\">אֲמָתֶ֑ךָ </span></span><span class=\"plain rtl  \" ><span class=\"h\">וְ</span></span><span class=\"plain rtl  \" ><span class=\"h\">לִ</span></span><span class=\"plain rtl  \" ><span class=\"h\">שְׂכִֽירְךָ֙ </span></span><span class=\"plain rtl  \" ><span class=\"h\">וּ</span></span><span class=\"plain rtl  \" ><span class=\"h\">לְ</span></span><span class=\"plain rtl  hl\" ><span class=\"h\">תֹושָׁ֣בְךָ֔ </span></span></span></span></span></td><td class=\"tf\"><span class=\"plain outer  rtl  hl\"  style=\"background-color: yellow;\" ><span class=\"h\">לָכֶם֙ </span></span></td><td class=\"tf\"><span class=\"plain outer  rtl  hl\" ><span class=\"h\">תֹושָׁ֣בְךָ֔ </span></span></td><td class=\"tf\"><span class=\"plain outer  rtl  hl\"  style=\"background-color: magenta;\" ><span class=\"h\">לְ</span></span></td></tr>\n",
       "<tr class=\"tf\"><td class=\"tf\">6</td><td class=\"tf\"> <a href=\"https://shebanq.ancient-data.org/hebrew/text?book=Numeri&amp;chapter=20&amp;verse=15&amp;version=2017&amp;mr=m&amp;qw=q&amp;tp=txt_p&amp;tr=hb&amp;wget=v&amp;qget=v&amp;nget=vt\" title=\"show this passage in SHEBANQ\" sec=\"Numbers 20:15\">Numbers 20:15</a></td><td class=\"tf\"><span class=\"vrs ltr\"><a href=\"https://shebanq.ancient-data.org/hebrew/text?book=Numeri&amp;chapter=20&amp;verse=15&amp;version=2017&amp;mr=m&amp;qw=q&amp;tp=txt_p&amp;tr=hb&amp;wget=v&amp;qget=v&amp;nget=vt\" title=\"show this passage in SHEBANQ\" sec=\"Numbers 20:15\">Numbers 20:15</a></span><span class=\"plain outer  rtl  \" ><span class=\"plain rtl \"><span class=\"plain rtl  rno \" ><span class=\"plain rtl  \" ><span class=\"plain rtl  \" ><span class=\"plain rtl  \" ><span class=\"h\">וַ</span></span></span><span class=\"plain rtl  \" ><span class=\"plain rtl  \" ><span class=\"h\">יֵּרְד֤וּ </span></span></span><span class=\"plain rtl  \" ><span class=\"plain rtl  \" ><span class=\"h\">אֲבֹתֵ֨ינוּ֙ </span></span></span><span class=\"plain rtl  \" ><span class=\"plain rtl  \" ><span class=\"h\">מִצְרַ֔יְמָה </span></span></span></span><span class=\"plain rtl  \" ><span class=\"plain rtl  \" ><span class=\"plain rtl  \" ><span class=\"h\">וַ</span></span></span><span class=\"plain rtl  \" ><span class=\"plain rtl  \" ><span class=\"h\">נֵּ֥שֶׁב </span></span></span><span class=\"plain rtl  \" ><span class=\"plain rtl  \" ><span class=\"h\">בְּ</span></span><span class=\"plain rtl  \" ><span class=\"h\">מִצְרַ֖יִם </span></span></span><span class=\"plain rtl  \" ><span class=\"plain rtl  \" ><span class=\"h\">יָמִ֣ים </span></span><span class=\"plain rtl  \" ><span class=\"h\">רַבִּ֑ים </span></span></span></span><span class=\"plain rtl  \" ><span class=\"plain rtl  \" ><span class=\"plain rtl  \" ><span class=\"h\">וַ</span></span></span><span class=\"plain rtl  \" ><span class=\"plain rtl  \" ><span class=\"h\">יָּרֵ֥עוּ </span></span></span><span class=\"plain rtl  l hlbx\"  style=\"border-color: blue;\" ><span class=\"plain rtl  \" ><span class=\"plain rtl  hl\"  style=\"background-color: yellow;\" ><span class=\"h\">לָ֛נוּ </span></span></span></span><span class=\"plain rtl  \" ><span class=\"plain rtl  hl\"  style=\"background-color: magenta;\" ><span class=\"h\">מִצְרַ֖יִם </span></span></span><span class=\"plain rtl  r l hlbx\"  style=\"border-color: blue;\" ><span class=\"plain rtl  \" ><span class=\"plain rtl  \" ><span class=\"h\">וְ</span></span></span></span><span class=\"plain rtl  r hlbx\"  style=\"border-color: blue;\" ><span class=\"plain rtl  \" ><span class=\"plain rtl  \" ><span class=\"h\">לַ</span></span><span class=\"plain rtl  hl\" ><span class=\"h\">אֲבֹתֵֽינוּ׃ </span></span></span></span></span></span></span></span></td><td class=\"tf\"><span class=\"plain outer  rtl \"><span class=\"plain rtl  l hlbx\"  style=\"border-color: blue;\" ><span class=\"plain rtl  \" ><span class=\"plain rtl  hl\"  style=\"background-color: yellow;\" ><span class=\"h\">לָ֛נוּ </span></span></span></span><span class=\"plain rtl  r l hlbx\"  style=\"border-color: blue;\" ><span class=\"plain rtl  \" ><span class=\"plain rtl  \" ><span class=\"h\">וְ</span></span></span></span><span class=\"plain rtl  r hlbx\"  style=\"border-color: blue;\" ><span class=\"plain rtl  \" ><span class=\"plain rtl  \" ><span class=\"h\">לַ</span></span><span class=\"plain rtl  hl\" ><span class=\"h\">אֲבֹתֵֽינוּ׃ </span></span></span></span></span></td><td class=\"tf\"><span class=\"plain outer  rtl  hl\"  style=\"background-color: yellow;\" ><span class=\"h\">לָ֛נוּ </span></span></td><td class=\"tf\"><span class=\"plain outer  rtl  hl\" ><span class=\"h\">אֲבֹתֵֽינוּ׃ </span></span></td><td class=\"tf\"><span class=\"plain outer  rtl  hl\"  style=\"background-color: magenta;\" ><span class=\"h\">מִצְרַ֖יִם </span></span></td></tr>\n",
       "<tr class=\"tf\"><td class=\"tf\">7</td><td class=\"tf\"> <a href=\"https://shebanq.ancient-data.org/hebrew/text?book=Numeri&amp;chapter=32&amp;verse=33&amp;version=2017&amp;mr=m&amp;qw=q&amp;tp=txt_p&amp;tr=hb&amp;wget=v&amp;qget=v&amp;nget=vt\" title=\"show this passage in SHEBANQ\" sec=\"Numbers 32:33\">Numbers 32:33</a></td><td class=\"tf\"><span class=\"vrs ltr\"><a href=\"https://shebanq.ancient-data.org/hebrew/text?book=Numeri&amp;chapter=32&amp;verse=33&amp;version=2017&amp;mr=m&amp;qw=q&amp;tp=txt_p&amp;tr=hb&amp;wget=v&amp;qget=v&amp;nget=vt\" title=\"show this passage in SHEBANQ\" sec=\"Numbers 32:33\">Numbers 32:33</a></span><span class=\"plain outer  rtl  \" ><span class=\"plain rtl \"><span class=\"plain rtl  \" ><span class=\"plain rtl  \" ><span class=\"plain rtl  \" ><span class=\"plain rtl  \" ><span class=\"h\">וַ</span></span></span><span class=\"plain rtl  \" ><span class=\"plain rtl  \" ><span class=\"h\">יִּתֵּ֣ן </span></span></span><span class=\"plain rtl  l hlbx\"  style=\"border-color: blue;\" ><span class=\"plain rtl  \" ><span class=\"plain rtl  hl\"  style=\"background-color: yellow;\" ><span class=\"h\">לָהֶ֣ם׀ </span></span></span></span><span class=\"plain rtl  \" ><span class=\"plain rtl  hl\"  style=\"background-color: magenta;\" ><span class=\"h\">מֹשֶׁ֡ה </span></span></span><span class=\"plain rtl  r l hlbx\"  style=\"border-color: blue;\" ><span class=\"plain rtl  \" ><span class=\"plain rtl  \" ><span class=\"h\">לִ</span></span><span class=\"plain rtl  \" ><span class=\"h\">בְנֵי־</span></span><span class=\"plain rtl  \" ><span class=\"h\">גָד֩ </span></span><span class=\"plain rtl  \" ><span class=\"h\">וְ</span></span><span class=\"plain rtl  \" ><span class=\"h\">לִ</span></span><span class=\"plain rtl  \" ><span class=\"h\">בְנֵ֨י </span></span><span class=\"plain rtl  \" ><span class=\"h\">רְאוּבֵ֜ן </span></span><span class=\"plain rtl  \" ><span class=\"h\">וְ</span></span><span class=\"plain rtl  \" ><span class=\"h\">לַ</span></span><span class=\"plain rtl  \" ><span class=\"h\">חֲצִ֣י׀ </span></span><span class=\"plain rtl  \" ><span class=\"h\">שֵׁ֣בֶט׀ </span></span><span class=\"plain rtl  \" ><span class=\"h\">מְנַשֶּׁ֣ה </span></span></span></span><span class=\"plain rtl  r hlbx\"  style=\"border-color: blue;\" ><span class=\"plain rtl  \" ><span class=\"plain rtl  \" ><span class=\"h\">בֶן־</span></span><span class=\"plain rtl  hl\" ><span class=\"h\">יֹוסֵ֗ף </span></span></span></span><span class=\"plain rtl  \" ><span class=\"plain rtl  \" ><span class=\"h\">אֶת־</span></span><span class=\"plain rtl  \" ><span class=\"h\">מַמְלֶ֨כֶת֙ </span></span><span class=\"plain rtl  \" ><span class=\"h\">סִיחֹן֙ </span></span></span><span class=\"plain rtl  \" ><span class=\"plain rtl  \" ><span class=\"h\">מֶ֣לֶךְ </span></span><span class=\"plain rtl  \" ><span class=\"h\">הָֽ</span></span><span class=\"plain rtl  \" ><span class=\"h\">אֱמֹרִ֔י </span></span></span><span class=\"plain rtl  \" ><span class=\"plain rtl  \" ><span class=\"h\">וְ</span></span></span><span class=\"plain rtl  \" ><span class=\"plain rtl  \" ><span class=\"h\">אֶת־</span></span><span class=\"plain rtl  \" ><span class=\"h\">מַמְלֶ֔כֶת </span></span><span class=\"plain rtl  \" ><span class=\"h\">עֹ֖וג </span></span></span><span class=\"plain rtl  \" ><span class=\"plain rtl  \" ><span class=\"h\">מֶ֣לֶךְ </span></span><span class=\"plain rtl  \" ><span class=\"h\">הַ</span></span><span class=\"plain rtl  \" ><span class=\"h\">בָּשָׁ֑ן </span></span></span><span class=\"plain rtl  \" ><span class=\"plain rtl  \" ><span class=\"h\">הָ</span></span><span class=\"plain rtl  \" ><span class=\"h\">אָ֗רֶץ </span></span></span><span class=\"plain rtl  \" ><span class=\"plain rtl  \" ><span class=\"h\">לְ</span></span><span class=\"plain rtl  \" ><span class=\"h\">עָרֶ֨יהָ֙ </span></span></span><span class=\"plain rtl  \" ><span class=\"plain rtl  \" ><span class=\"h\">בִּ</span></span><span class=\"plain rtl  \" ><span class=\"h\">גְבֻלֹ֔ת </span></span><span class=\"plain rtl  \" ><span class=\"h\">עָרֵ֥י </span></span><span class=\"plain rtl  \" ><span class=\"h\">הָ</span></span><span class=\"plain rtl  \" ><span class=\"h\">אָ֖רֶץ </span></span></span><span class=\"plain rtl  \" ><span class=\"plain rtl  \" ><span class=\"h\">סָבִֽיב׃ </span></span></span></span></span></span></span></td><td class=\"tf\"><span class=\"plain outer  rtl \"><span class=\"plain rtl  l hlbx\"  style=\"border-color: blue;\" ><span class=\"plain rtl  \" ><span class=\"plain rtl  hl\"  style=\"background-color: yellow;\" ><span class=\"h\">לָהֶ֣ם׀ </span></span></span></span><span class=\"plain rtl  r l hlbx\"  style=\"border-color: blue;\" ><span class=\"plain rtl  \" ><span class=\"plain rtl  \" ><span class=\"h\">לִ</span></span><span class=\"plain rtl  \" ><span class=\"h\">בְנֵי־</span></span><span class=\"plain rtl  \" ><span class=\"h\">גָד֩ </span></span><span class=\"plain rtl  \" ><span class=\"h\">וְ</span></span><span class=\"plain rtl  \" ><span class=\"h\">לִ</span></span><span class=\"plain rtl  \" ><span class=\"h\">בְנֵ֨י </span></span><span class=\"plain rtl  \" ><span class=\"h\">רְאוּבֵ֜ן </span></span><span class=\"plain rtl  \" ><span class=\"h\">וְ</span></span><span class=\"plain rtl  \" ><span class=\"h\">לַ</span></span><span class=\"plain rtl  \" ><span class=\"h\">חֲצִ֣י׀ </span></span><span class=\"plain rtl  \" ><span class=\"h\">שֵׁ֣בֶט׀ </span></span><span class=\"plain rtl  \" ><span class=\"h\">מְנַשֶּׁ֣ה </span></span></span></span><span class=\"plain rtl  r hlbx\"  style=\"border-color: blue;\" ><span class=\"plain rtl  \" ><span class=\"plain rtl  \" ><span class=\"h\">בֶן־</span></span><span class=\"plain rtl  hl\" ><span class=\"h\">יֹוסֵ֗ף </span></span></span></span></span></td><td class=\"tf\"><span class=\"plain outer  rtl  hl\"  style=\"background-color: yellow;\" ><span class=\"h\">לָהֶ֣ם׀ </span></span></td><td class=\"tf\"><span class=\"plain outer  rtl  hl\" ><span class=\"h\">יֹוסֵ֗ף </span></span></td><td class=\"tf\"><span class=\"plain outer  rtl  hl\"  style=\"background-color: magenta;\" ><span class=\"h\">מֹשֶׁ֡ה </span></span></td></tr>\n",
       "<tr class=\"tf\"><td class=\"tf\">8</td><td class=\"tf\"> <a href=\"https://shebanq.ancient-data.org/hebrew/text?book=Deuteronomium&amp;chapter=1&amp;verse=36&amp;version=2017&amp;mr=m&amp;qw=q&amp;tp=txt_p&amp;tr=hb&amp;wget=v&amp;qget=v&amp;nget=vt\" title=\"show this passage in SHEBANQ\" sec=\"Deuteronomy 1:36\">Deuteronomy 1:36</a></td><td class=\"tf\"><span class=\"vrs ltr\"><a href=\"https://shebanq.ancient-data.org/hebrew/text?book=Deuteronomium&amp;chapter=1&amp;verse=36&amp;version=2017&amp;mr=m&amp;qw=q&amp;tp=txt_p&amp;tr=hb&amp;wget=v&amp;qget=v&amp;nget=vt\" title=\"show this passage in SHEBANQ\" sec=\"Deuteronomy 1:36\">Deuteronomy 1:36</a></span><span class=\"plain outer  rtl  \" ><span class=\"plain rtl \"><span class=\"plain rtl  \" ><span class=\"plain rtl  \" ><span class=\"plain rtl  \" ><span class=\"plain rtl  \" ><span class=\"h\">זֽוּלָתִ֞י </span></span><span class=\"plain rtl  \" ><span class=\"h\">כָּלֵ֤ב </span></span></span><span class=\"plain rtl  \" ><span class=\"plain rtl  \" ><span class=\"h\">בֶּן־</span></span><span class=\"plain rtl  \" ><span class=\"h\">יְפֻנֶּה֙ </span></span></span></span><span class=\"plain rtl  \" ><span class=\"plain rtl  \" ><span class=\"plain rtl  \" ><span class=\"h\">ה֣וּא </span></span></span><span class=\"plain rtl  \" ><span class=\"plain rtl  \" ><span class=\"h\">יִרְאֶ֔נָּה </span></span></span></span><span class=\"plain rtl  \" ><span class=\"plain rtl  \" ><span class=\"plain rtl  \" ><span class=\"h\">וְ</span></span></span><span class=\"plain rtl  l hlbx\"  style=\"border-color: blue;\" ><span class=\"plain rtl  \" ><span class=\"plain rtl  hl\"  style=\"background-color: yellow;\" ><span class=\"h\">לֹֽו־</span></span></span></span><span class=\"plain rtl  \" ><span class=\"plain rtl  hl\"  style=\"background-color: magenta;\" ><span class=\"h\">אֶתֵּ֧ן </span></span></span><span class=\"plain rtl  \" ><span class=\"plain rtl  \" ><span class=\"h\">אֶת־</span></span><span class=\"plain rtl  \" ><span class=\"h\">הָ</span></span><span class=\"plain rtl  \" ><span class=\"h\">אָ֛רֶץ </span></span></span></span><span class=\"plain rtl  \" ><span class=\"plain rtl  \" ><span class=\"plain rtl  \" ><span class=\"h\">אֲשֶׁ֥ר </span></span></span><span class=\"plain rtl  \" ><span class=\"plain rtl  \" ><span class=\"h\">דָּֽרַךְ־</span></span></span><span class=\"plain rtl  \" ><span class=\"plain rtl  \" ><span class=\"h\">בָּ֖הּ </span></span></span></span><span class=\"plain rtl  \" ><span class=\"plain rtl  r l hlbx\"  style=\"border-color: blue;\" ><span class=\"plain rtl  \" ><span class=\"plain rtl  \" ><span class=\"h\">וּ</span></span></span></span><span class=\"plain rtl  r hlbx\"  style=\"border-color: blue;\" ><span class=\"plain rtl  \" ><span class=\"plain rtl  \" ><span class=\"h\">לְ</span></span><span class=\"plain rtl  hl\" ><span class=\"h\">בָנָ֑יו </span></span></span></span></span><span class=\"plain rtl  \" ><span class=\"plain rtl  \" ><span class=\"plain rtl  \" ><span class=\"h\">יַ֕עַן </span></span><span class=\"plain rtl  \" ><span class=\"h\">אֲשֶׁ֥ר </span></span></span><span class=\"plain rtl  \" ><span class=\"plain rtl  \" ><span class=\"h\">מִלֵּ֖א </span></span></span><span class=\"plain rtl  \" ><span class=\"plain rtl  \" ><span class=\"h\">אַחֲרֵ֥י </span></span><span class=\"plain rtl  \" ><span class=\"h\">יְהוָֽה׃ </span></span></span></span></span></span></span></td><td class=\"tf\"><span class=\"plain outer  rtl \"><span class=\"plain rtl  l hlbx\"  style=\"border-color: blue;\" ><span class=\"plain rtl  \" ><span class=\"plain rtl  hl\"  style=\"background-color: yellow;\" ><span class=\"h\">לֹֽו־</span></span></span></span><span class=\"plain rtl  r l hlbx\"  style=\"border-color: blue;\" ><span class=\"plain rtl  \" ><span class=\"plain rtl  \" ><span class=\"h\">וּ</span></span></span></span><span class=\"plain rtl  r hlbx\"  style=\"border-color: blue;\" ><span class=\"plain rtl  \" ><span class=\"plain rtl  \" ><span class=\"h\">לְ</span></span><span class=\"plain rtl  hl\" ><span class=\"h\">בָנָ֑יו </span></span></span></span></span></td><td class=\"tf\"><span class=\"plain outer  rtl  hl\"  style=\"background-color: yellow;\" ><span class=\"h\">לֹֽו־</span></span></td><td class=\"tf\"><span class=\"plain outer  rtl  hl\" ><span class=\"h\">בָנָ֑יו </span></span></td><td class=\"tf\"><span class=\"plain outer  rtl  hl\"  style=\"background-color: magenta;\" ><span class=\"h\">אֶתֵּ֧ן </span></span></td></tr>\n",
       "<tr class=\"tf\"><td class=\"tf\">9</td><td class=\"tf\"> <a href=\"https://shebanq.ancient-data.org/hebrew/text?book=Deuteronomium&amp;chapter=26&amp;verse=11&amp;version=2017&amp;mr=m&amp;qw=q&amp;tp=txt_p&amp;tr=hb&amp;wget=v&amp;qget=v&amp;nget=vt\" title=\"show this passage in SHEBANQ\" sec=\"Deuteronomy 26:11\">Deuteronomy 26:11</a></td><td class=\"tf\"><span class=\"vrs ltr\"><a href=\"https://shebanq.ancient-data.org/hebrew/text?book=Deuteronomium&amp;chapter=26&amp;verse=11&amp;version=2017&amp;mr=m&amp;qw=q&amp;tp=txt_p&amp;tr=hb&amp;wget=v&amp;qget=v&amp;nget=vt\" title=\"show this passage in SHEBANQ\" sec=\"Deuteronomy 26:11\">Deuteronomy 26:11</a></span><span class=\"plain outer  rtl  \" ><span class=\"plain rtl \"><span class=\"plain rtl  \" ><span class=\"plain rtl  \" ><span class=\"plain rtl  \" ><span class=\"plain rtl  \" ><span class=\"h\">וְ</span></span></span><span class=\"plain rtl  \" ><span class=\"plain rtl  \" ><span class=\"h\">שָׂמַחְתָּ֣ </span></span></span><span class=\"plain rtl  \" ><span class=\"plain rtl  \" ><span class=\"h\">בְ</span></span><span class=\"plain rtl  \" ><span class=\"h\">כָל־</span></span><span class=\"plain rtl  \" ><span class=\"h\">הַ</span></span><span class=\"plain rtl  \" ><span class=\"h\">טֹּ֗וב </span></span></span></span><span class=\"plain rtl  \" ><span class=\"plain rtl  \" ><span class=\"plain rtl  \" ><span class=\"h\">אֲשֶׁ֧ר </span></span></span><span class=\"plain rtl  \" ><span class=\"plain rtl  \" ><span class=\"h\">נָֽתַן־</span></span></span><span class=\"plain rtl  l hlbx\"  style=\"border-color: blue;\" ><span class=\"plain rtl  \" ><span class=\"plain rtl  hl\"  style=\"background-color: yellow;\" ><span class=\"h\">לְךָ֛ </span></span></span></span><span class=\"plain rtl  \" ><span class=\"plain rtl  hl\"  style=\"background-color: magenta;\" ><span class=\"h\">יְהוָ֥ה </span></span></span><span class=\"plain rtl  \" ><span class=\"plain rtl  \" ><span class=\"h\">אֱלֹהֶ֖יךָ </span></span></span><span class=\"plain rtl  r l hlbx\"  style=\"border-color: blue;\" ><span class=\"plain rtl  \" ><span class=\"plain rtl  \" ><span class=\"h\">וּ</span></span></span></span><span class=\"plain rtl  r hlbx\"  style=\"border-color: blue;\" ><span class=\"plain rtl  \" ><span class=\"plain rtl  \" ><span class=\"h\">לְ</span></span><span class=\"plain rtl  hl\" ><span class=\"h\">בֵיתֶ֑ךָ </span></span></span></span></span><span class=\"plain rtl  \" ><span class=\"plain rtl  \" ><span class=\"plain rtl  \" ><span class=\"h\">אַתָּה֙ </span></span><span class=\"plain rtl  \" ><span class=\"h\">וְ</span></span><span class=\"plain rtl  \" ><span class=\"h\">הַ</span></span><span class=\"plain rtl  \" ><span class=\"h\">לֵּוִ֔י </span></span><span class=\"plain rtl  \" ><span class=\"h\">וְ</span></span><span class=\"plain rtl  \" ><span class=\"h\">הַ</span></span><span class=\"plain rtl  \" ><span class=\"h\">גֵּ֖ר </span></span></span></span><span class=\"plain rtl  \" ><span class=\"plain rtl  \" ><span class=\"plain rtl  \" ><span class=\"h\">אֲשֶׁ֥ר </span></span></span><span class=\"plain rtl  \" ><span class=\"plain rtl  \" ><span class=\"h\">בְּ</span></span><span class=\"plain rtl  \" ><span class=\"h\">קִרְבֶּֽךָ׃ ס </span></span></span></span></span></span></span></td><td class=\"tf\"><span class=\"plain outer  rtl \"><span class=\"plain rtl  l hlbx\"  style=\"border-color: blue;\" ><span class=\"plain rtl  \" ><span class=\"plain rtl  hl\"  style=\"background-color: yellow;\" ><span class=\"h\">לְךָ֛ </span></span></span></span><span class=\"plain rtl  r l hlbx\"  style=\"border-color: blue;\" ><span class=\"plain rtl  \" ><span class=\"plain rtl  \" ><span class=\"h\">וּ</span></span></span></span><span class=\"plain rtl  r hlbx\"  style=\"border-color: blue;\" ><span class=\"plain rtl  \" ><span class=\"plain rtl  \" ><span class=\"h\">לְ</span></span><span class=\"plain rtl  hl\" ><span class=\"h\">בֵיתֶ֑ךָ </span></span></span></span></span></td><td class=\"tf\"><span class=\"plain outer  rtl  hl\"  style=\"background-color: yellow;\" ><span class=\"h\">לְךָ֛ </span></span></td><td class=\"tf\"><span class=\"plain outer  rtl  hl\" ><span class=\"h\">בֵיתֶ֑ךָ </span></span></td><td class=\"tf\"><span class=\"plain outer  rtl  hl\"  style=\"background-color: magenta;\" ><span class=\"h\">יְהוָ֥ה </span></span></td></tr>\n",
       "<tr class=\"tf\"><td class=\"tf\">10</td><td class=\"tf\"> <a href=\"https://shebanq.ancient-data.org/hebrew/text?book=Samuel_I&amp;chapter=25&amp;verse=31&amp;version=2017&amp;mr=m&amp;qw=q&amp;tp=txt_p&amp;tr=hb&amp;wget=v&amp;qget=v&amp;nget=vt\" title=\"show this passage in SHEBANQ\" sec=\"1_Samuel 25:31\">1_Samuel 25:31</a></td><td class=\"tf\"><span class=\"vrs ltr\"><a href=\"https://shebanq.ancient-data.org/hebrew/text?book=Samuel_I&amp;chapter=25&amp;verse=31&amp;version=2017&amp;mr=m&amp;qw=q&amp;tp=txt_p&amp;tr=hb&amp;wget=v&amp;qget=v&amp;nget=vt\" title=\"show this passage in SHEBANQ\" sec=\"1_Samuel 25:31\">1_Samuel 25:31</a></span><span class=\"plain outer  rtl  \" ><span class=\"plain rtl \"><span class=\"plain rtl  \" ><span class=\"plain rtl  \" ><span class=\"plain rtl  \" ><span class=\"plain rtl  \" ><span class=\"h\">וְ</span></span></span><span class=\"plain rtl  \" ><span class=\"plain rtl  \" ><span class=\"h\">לֹ֣א </span></span></span><span class=\"plain rtl  \" ><span class=\"plain rtl  \" ><span class=\"h\">תִהְיֶ֣ה </span></span></span><span class=\"plain rtl  \" ><span class=\"plain rtl  \" ><span class=\"h\">זֹ֣את׀ </span></span></span><span class=\"plain rtl  l hlbx\"  style=\"border-color: blue;\" ><span class=\"plain rtl  \" ><span class=\"plain rtl  hl\"  style=\"background-color: yellow;\" ><span class=\"h\">לְךָ֡ </span></span></span></span><span class=\"plain rtl  \" ><span class=\"plain rtl  hl\"  style=\"background-color: magenta;\" ><span class=\"h\">לְ</span></span><span class=\"plain rtl  \" ><span class=\"h\">פוּקָה֩ </span></span><span class=\"plain rtl  \" ><span class=\"h\">וּ</span></span><span class=\"plain rtl  \" ><span class=\"h\">לְ</span></span><span class=\"plain rtl  \" ><span class=\"h\">מִכְשֹׁ֨ול </span></span><span class=\"plain rtl  \" ><span class=\"h\">לֵ֜ב </span></span></span><span class=\"plain rtl  r hlbx\"  style=\"border-color: blue;\" ><span class=\"plain rtl  \" ><span class=\"plain rtl  \" ><span class=\"h\">לַ</span></span><span class=\"plain rtl  hl\" ><span class=\"h\">אדֹנִ֗י </span></span></span></span></span><span class=\"plain rtl  \" ><span class=\"plain rtl  \" ><span class=\"plain rtl  \" ><span class=\"h\">וְ</span></span></span><span class=\"plain rtl  \" ><span class=\"plain rtl  \" ><span class=\"h\">לִ</span></span><span class=\"plain rtl  \" ><span class=\"h\">שְׁפָּךְ־</span></span></span><span class=\"plain rtl  \" ><span class=\"plain rtl  \" ><span class=\"h\">דָּם֙ </span></span></span><span class=\"plain rtl  \" ><span class=\"plain rtl  \" ><span class=\"h\">חִנָּ֔ם </span></span></span></span><span class=\"plain rtl  \" ><span class=\"plain rtl  \" ><span class=\"plain rtl  \" ><span class=\"h\">וּ</span></span></span><span class=\"plain rtl  \" ><span class=\"plain rtl  \" ><span class=\"h\">לְ</span></span><span class=\"plain rtl  \" ><span class=\"h\">הֹושִׁ֥יעַ </span></span></span><span class=\"plain rtl  \" ><span class=\"plain rtl  \" ><span class=\"h\">אֲדֹנִ֖י </span></span></span><span class=\"plain rtl  \" ><span class=\"plain rtl  \" ><span class=\"h\">לֹ֑ו </span></span></span></span></span><span class=\"plain rtl  \" ><span class=\"plain rtl  \" ><span class=\"plain rtl  \" ><span class=\"plain rtl  \" ><span class=\"h\">וְ</span></span></span><span class=\"plain rtl  \" ><span class=\"plain rtl  \" ><span class=\"h\">הֵיטִ֤ב </span></span></span><span class=\"plain rtl  \" ><span class=\"plain rtl  \" ><span class=\"h\">יְהוָה֙ </span></span></span><span class=\"plain rtl  \" ><span class=\"plain rtl  \" ><span class=\"h\">לַֽ</span></span><span class=\"plain rtl  \" ><span class=\"h\">אדֹנִ֔י </span></span></span></span></span><span class=\"plain rtl  \" ><span class=\"plain rtl  \" ><span class=\"plain rtl  \" ><span class=\"plain rtl  \" ><span class=\"h\">וְ</span></span></span><span class=\"plain rtl  \" ><span class=\"plain rtl  \" ><span class=\"h\">זָכַרְתָּ֖ </span></span></span><span class=\"plain rtl  \" ><span class=\"plain rtl  \" ><span class=\"h\">אֶת־</span></span><span class=\"plain rtl  \" ><span class=\"h\">אֲמָתֶֽךָ׃ ס </span></span></span></span></span></span></span></td><td class=\"tf\"><span class=\"plain outer  rtl \"><span class=\"plain rtl  l hlbx\"  style=\"border-color: blue;\" ><span class=\"plain rtl  \" ><span class=\"plain rtl  hl\"  style=\"background-color: yellow;\" ><span class=\"h\">לְךָ֡ </span></span></span></span><span class=\"plain rtl  r hlbx\"  style=\"border-color: blue;\" ><span class=\"plain rtl  \" ><span class=\"plain rtl  \" ><span class=\"h\">לַ</span></span><span class=\"plain rtl  hl\" ><span class=\"h\">אדֹנִ֗י </span></span></span></span></span></td><td class=\"tf\"><span class=\"plain outer  rtl  hl\"  style=\"background-color: yellow;\" ><span class=\"h\">לְךָ֡ </span></span></td><td class=\"tf\"><span class=\"plain outer  rtl  hl\" ><span class=\"h\">אדֹנִ֗י </span></span></td><td class=\"tf\"><span class=\"plain outer  rtl  hl\"  style=\"background-color: magenta;\" ><span class=\"h\">לְ</span></span></td></tr>\n",
       "<tr class=\"tf\"><td class=\"tf\">11</td><td class=\"tf\"> <a href=\"https://shebanq.ancient-data.org/hebrew/text?book=Reges_II&amp;chapter=25&amp;verse=24&amp;version=2017&amp;mr=m&amp;qw=q&amp;tp=txt_p&amp;tr=hb&amp;wget=v&amp;qget=v&amp;nget=vt\" title=\"show this passage in SHEBANQ\" sec=\"2_Kings 25:24\">2_Kings 25:24</a></td><td class=\"tf\"><span class=\"vrs ltr\"><a href=\"https://shebanq.ancient-data.org/hebrew/text?book=Reges_II&amp;chapter=25&amp;verse=24&amp;version=2017&amp;mr=m&amp;qw=q&amp;tp=txt_p&amp;tr=hb&amp;wget=v&amp;qget=v&amp;nget=vt\" title=\"show this passage in SHEBANQ\" sec=\"2_Kings 25:24\">2_Kings 25:24</a></span><span class=\"plain outer  rtl  \" ><span class=\"plain rtl \"><span class=\"plain rtl  \" ><span class=\"plain rtl  \" ><span class=\"plain rtl  \" ><span class=\"plain rtl  \" ><span class=\"h\">וַ</span></span></span><span class=\"plain rtl  \" ><span class=\"plain rtl  \" ><span class=\"h\">יִּשָּׁבַ֨ע </span></span></span><span class=\"plain rtl  l hlbx\"  style=\"border-color: blue;\" ><span class=\"plain rtl  \" ><span class=\"plain rtl  hl\"  style=\"background-color: yellow;\" ><span class=\"h\">לָהֶ֤ם </span></span></span></span><span class=\"plain rtl  \" ><span class=\"plain rtl  hl\"  style=\"background-color: magenta;\" ><span class=\"h\">גְּדַלְיָ֨הוּ֙ </span></span></span><span class=\"plain rtl  r l hlbx\"  style=\"border-color: blue;\" ><span class=\"plain rtl  \" ><span class=\"plain rtl  \" ><span class=\"h\">וּ</span></span></span></span><span class=\"plain rtl  r hlbx\"  style=\"border-color: blue;\" ><span class=\"plain rtl  \" ><span class=\"plain rtl  \" ><span class=\"h\">לְ</span></span><span class=\"plain rtl  hl\" ><span class=\"h\">אַנְשֵׁיהֶ֔ם </span></span></span></span></span></span><span class=\"plain rtl  \" ><span class=\"plain rtl  \" ><span class=\"plain rtl  \" ><span class=\"plain rtl  \" ><span class=\"h\">וַ</span></span></span><span class=\"plain rtl  \" ><span class=\"plain rtl  \" ><span class=\"h\">יֹּ֣אמֶר </span></span></span><span class=\"plain rtl  \" ><span class=\"plain rtl  \" ><span class=\"h\">לָהֶ֔ם </span></span></span></span></span><span class=\"plain rtl  \" ><span class=\"plain rtl  \" ><span class=\"plain rtl  \" ><span class=\"plain rtl  \" ><span class=\"h\">אַל־</span></span></span><span class=\"plain rtl  \" ><span class=\"plain rtl  \" ><span class=\"h\">תִּֽירְא֖וּ </span></span></span><span class=\"plain rtl  \" ><span class=\"plain rtl  \" ><span class=\"h\">מֵ</span></span><span class=\"plain rtl  \" ><span class=\"h\">עַבְדֵ֣י </span></span><span class=\"plain rtl  \" ><span class=\"h\">הַ</span></span><span class=\"plain rtl  \" ><span class=\"h\">כַּשְׂדִּ֑ים </span></span></span></span></span><span class=\"plain rtl  \" ><span class=\"plain rtl  \" ><span class=\"plain rtl  \" ><span class=\"plain rtl  \" ><span class=\"h\">שְׁב֣וּ </span></span></span><span class=\"plain rtl  \" ><span class=\"plain rtl  \" ><span class=\"h\">בָ</span></span><span class=\"plain rtl  \" ><span class=\"h\"></span></span><span class=\"plain rtl  \" ><span class=\"h\">אָ֗רֶץ </span></span></span></span></span><span class=\"plain rtl  \" ><span class=\"plain rtl  \" ><span class=\"plain rtl  \" ><span class=\"plain rtl  \" ><span class=\"h\">וְ</span></span></span><span class=\"plain rtl  \" ><span class=\"plain rtl  \" ><span class=\"h\">עִבְד֛וּ </span></span></span><span class=\"plain rtl  \" ><span class=\"plain rtl  \" ><span class=\"h\">אֶת־</span></span><span class=\"plain rtl  \" ><span class=\"h\">מֶ֥לֶךְ </span></span><span class=\"plain rtl  \" ><span class=\"h\">בָּבֶ֖ל </span></span></span></span></span><span class=\"plain rtl  \" ><span class=\"plain rtl  \" ><span class=\"plain rtl  \" ><span class=\"plain rtl  \" ><span class=\"h\">וְ</span></span></span><span class=\"plain rtl  \" ><span class=\"plain rtl  \" ><span class=\"h\">יִטַ֥ב </span></span></span><span class=\"plain rtl  \" ><span class=\"plain rtl  \" ><span class=\"h\">לָכֶֽם׃ ס </span></span></span></span></span></span></span></td><td class=\"tf\"><span class=\"plain outer  rtl \"><span class=\"plain rtl  l hlbx\"  style=\"border-color: blue;\" ><span class=\"plain rtl  \" ><span class=\"plain rtl  hl\"  style=\"background-color: yellow;\" ><span class=\"h\">לָהֶ֤ם </span></span></span></span><span class=\"plain rtl  r l hlbx\"  style=\"border-color: blue;\" ><span class=\"plain rtl  \" ><span class=\"plain rtl  \" ><span class=\"h\">וּ</span></span></span></span><span class=\"plain rtl  r hlbx\"  style=\"border-color: blue;\" ><span class=\"plain rtl  \" ><span class=\"plain rtl  \" ><span class=\"h\">לְ</span></span><span class=\"plain rtl  hl\" ><span class=\"h\">אַנְשֵׁיהֶ֔ם </span></span></span></span></span></td><td class=\"tf\"><span class=\"plain outer  rtl  hl\"  style=\"background-color: yellow;\" ><span class=\"h\">לָהֶ֤ם </span></span></td><td class=\"tf\"><span class=\"plain outer  rtl  hl\" ><span class=\"h\">אַנְשֵׁיהֶ֔ם </span></span></td><td class=\"tf\"><span class=\"plain outer  rtl  hl\"  style=\"background-color: magenta;\" ><span class=\"h\">גְּדַלְיָ֨הוּ֙ </span></span></td></tr>\n",
       "<tr class=\"tf\"><td class=\"tf\">12</td><td class=\"tf\"> <a href=\"https://shebanq.ancient-data.org/hebrew/text?book=Jeremia&amp;chapter=40&amp;verse=9&amp;version=2017&amp;mr=m&amp;qw=q&amp;tp=txt_p&amp;tr=hb&amp;wget=v&amp;qget=v&amp;nget=vt\" title=\"show this passage in SHEBANQ\" sec=\"Jeremiah 40:9\">Jeremiah 40:9</a></td><td class=\"tf\"><span class=\"vrs ltr\"><a href=\"https://shebanq.ancient-data.org/hebrew/text?book=Jeremia&amp;chapter=40&amp;verse=9&amp;version=2017&amp;mr=m&amp;qw=q&amp;tp=txt_p&amp;tr=hb&amp;wget=v&amp;qget=v&amp;nget=vt\" title=\"show this passage in SHEBANQ\" sec=\"Jeremiah 40:9\">Jeremiah 40:9</a></span><span class=\"plain outer  rtl  \" ><span class=\"plain rtl \"><span class=\"plain rtl  \" ><span class=\"plain rtl  \" ><span class=\"plain rtl  \" ><span class=\"plain rtl  \" ><span class=\"h\">וַ</span></span></span><span class=\"plain rtl  \" ><span class=\"plain rtl  \" ><span class=\"h\">יִּשָּׁבַ֨ע </span></span></span><span class=\"plain rtl  l hlbx\"  style=\"border-color: blue;\" ><span class=\"plain rtl  \" ><span class=\"plain rtl  hl\"  style=\"background-color: yellow;\" ><span class=\"h\">לָהֶ֜ם </span></span></span></span><span class=\"plain rtl  \" ><span class=\"plain rtl  hl\"  style=\"background-color: magenta;\" ><span class=\"h\">גְּדַלְיָ֨הוּ </span></span></span><span class=\"plain rtl  \" ><span class=\"plain rtl  \" ><span class=\"h\">בֶן־</span></span><span class=\"plain rtl  \" ><span class=\"h\">אֲחִיקָ֤ם </span></span></span><span class=\"plain rtl  \" ><span class=\"plain rtl  \" ><span class=\"h\">בֶּן־</span></span><span class=\"plain rtl  \" ><span class=\"h\">שָׁפָן֙ </span></span></span><span class=\"plain rtl  r l hlbx\"  style=\"border-color: blue;\" ><span class=\"plain rtl  \" ><span class=\"plain rtl  \" ><span class=\"h\">וּ</span></span></span></span><span class=\"plain rtl  r hlbx\"  style=\"border-color: blue;\" ><span class=\"plain rtl  \" ><span class=\"plain rtl  \" ><span class=\"h\">לְ</span></span><span class=\"plain rtl  hl\" ><span class=\"h\">אַנְשֵׁיהֶ֣ם </span></span></span></span></span><span class=\"plain rtl  \" ><span class=\"plain rtl  \" ><span class=\"plain rtl  \" ><span class=\"h\">לֵ</span></span><span class=\"plain rtl  \" ><span class=\"h\">אמֹ֔ר </span></span></span></span></span><span class=\"plain rtl  \" ><span class=\"plain rtl  \" ><span class=\"plain rtl  \" ><span class=\"plain rtl  \" ><span class=\"h\">אַל־</span></span></span><span class=\"plain rtl  \" ><span class=\"plain rtl  \" ><span class=\"h\">תִּֽירְא֖וּ </span></span></span></span><span class=\"plain rtl  \" ><span class=\"plain rtl  \" ><span class=\"plain rtl  \" ><span class=\"h\">מֵ</span></span><span class=\"plain rtl  \" ><span class=\"h\">עֲבֹ֣וד </span></span></span><span class=\"plain rtl  \" ><span class=\"plain rtl  \" ><span class=\"h\">הַ</span></span><span class=\"plain rtl  \" ><span class=\"h\">כַּשְׂדִּ֑ים </span></span></span></span></span><span class=\"plain rtl  \" ><span class=\"plain rtl  \" ><span class=\"plain rtl  \" ><span class=\"plain rtl  \" ><span class=\"h\">שְׁב֣וּ </span></span></span><span class=\"plain rtl  \" ><span class=\"plain rtl  \" ><span class=\"h\">בָ</span></span><span class=\"plain rtl  \" ><span class=\"h\"></span></span><span class=\"plain rtl  \" ><span class=\"h\">אָ֗רֶץ </span></span></span></span></span><span class=\"plain rtl  \" ><span class=\"plain rtl  \" ><span class=\"plain rtl  \" ><span class=\"plain rtl  \" ><span class=\"h\">וְ</span></span></span><span class=\"plain rtl  \" ><span class=\"plain rtl  \" ><span class=\"h\">עִבְד֛וּ </span></span></span><span class=\"plain rtl  \" ><span class=\"plain rtl  \" ><span class=\"h\">אֶת־</span></span><span class=\"plain rtl  \" ><span class=\"h\">מֶ֥לֶךְ </span></span><span class=\"plain rtl  \" ><span class=\"h\">בָּבֶ֖ל </span></span></span></span></span><span class=\"plain rtl  \" ><span class=\"plain rtl  \" ><span class=\"plain rtl  \" ><span class=\"plain rtl  \" ><span class=\"h\">וְ</span></span></span><span class=\"plain rtl  \" ><span class=\"plain rtl  \" ><span class=\"h\">יִיטַ֥ב </span></span></span><span class=\"plain rtl  \" ><span class=\"plain rtl  \" ><span class=\"h\">לָכֶֽם׃ </span></span></span></span></span></span></span></td><td class=\"tf\"><span class=\"plain outer  rtl \"><span class=\"plain rtl  l hlbx\"  style=\"border-color: blue;\" ><span class=\"plain rtl  \" ><span class=\"plain rtl  hl\"  style=\"background-color: yellow;\" ><span class=\"h\">לָהֶ֜ם </span></span></span></span><span class=\"plain rtl  r l hlbx\"  style=\"border-color: blue;\" ><span class=\"plain rtl  \" ><span class=\"plain rtl  \" ><span class=\"h\">וּ</span></span></span></span><span class=\"plain rtl  r hlbx\"  style=\"border-color: blue;\" ><span class=\"plain rtl  \" ><span class=\"plain rtl  \" ><span class=\"h\">לְ</span></span><span class=\"plain rtl  hl\" ><span class=\"h\">אַנְשֵׁיהֶ֣ם </span></span></span></span></span></td><td class=\"tf\"><span class=\"plain outer  rtl  hl\"  style=\"background-color: yellow;\" ><span class=\"h\">לָהֶ֜ם </span></span></td><td class=\"tf\"><span class=\"plain outer  rtl  hl\" ><span class=\"h\">אַנְשֵׁיהֶ֣ם </span></span></td><td class=\"tf\"><span class=\"plain outer  rtl  hl\"  style=\"background-color: magenta;\" ><span class=\"h\">גְּדַלְיָ֨הוּ </span></span></td></tr>\n",
       "<tr class=\"tf\"><td class=\"tf\">13</td><td class=\"tf\"> <a href=\"https://shebanq.ancient-data.org/hebrew/text?book=Daniel&amp;chapter=9&amp;verse=8&amp;version=2017&amp;mr=m&amp;qw=q&amp;tp=txt_p&amp;tr=hb&amp;wget=v&amp;qget=v&amp;nget=vt\" title=\"show this passage in SHEBANQ\" sec=\"Daniel 9:8\">Daniel 9:8</a></td><td class=\"tf\"><span class=\"vrs ltr\"><a href=\"https://shebanq.ancient-data.org/hebrew/text?book=Daniel&amp;chapter=9&amp;verse=8&amp;version=2017&amp;mr=m&amp;qw=q&amp;tp=txt_p&amp;tr=hb&amp;wget=v&amp;qget=v&amp;nget=vt\" title=\"show this passage in SHEBANQ\" sec=\"Daniel 9:8\">Daniel 9:8</a></span><span class=\"plain outer  rtl  \" ><span class=\"plain rtl \"><span class=\"plain rtl  \" ><span class=\"plain rtl  \" ><span class=\"plain rtl  \" ><span class=\"plain rtl  \" ><span class=\"h\">יְהוָ֗ה </span></span></span></span><span class=\"plain rtl  \" ><span class=\"plain rtl  l hlbx\"  style=\"border-color: blue;\" ><span class=\"plain rtl  \" ><span class=\"plain rtl  hl\"  style=\"background-color: yellow;\" ><span class=\"h\">לָ֚נוּ </span></span></span></span><span class=\"plain rtl  \" ><span class=\"plain rtl  hl\"  style=\"background-color: magenta;\" ><span class=\"h\">בֹּ֣שֶׁת </span></span><span class=\"plain rtl  \" ><span class=\"h\">הַ</span></span><span class=\"plain rtl  \" ><span class=\"h\">פָּנִ֔ים </span></span></span><span class=\"plain rtl  r hlbx\"  style=\"border-color: blue;\" ><span class=\"plain rtl  \" ><span class=\"plain rtl  \" ><span class=\"h\">לִ</span></span><span class=\"plain rtl  \" ><span class=\"h\">מְלָכֵ֥ינוּ </span></span><span class=\"plain rtl  \" ><span class=\"h\">לְ</span></span><span class=\"plain rtl  \" ><span class=\"h\">שָׂרֵ֖ינוּ </span></span><span class=\"plain rtl  \" ><span class=\"h\">וְ</span></span><span class=\"plain rtl  \" ><span class=\"h\">לַ</span></span><span class=\"plain rtl  hl\" ><span class=\"h\">אֲבֹתֵ֑ינוּ </span></span></span></span></span><span class=\"plain rtl  \" ><span class=\"plain rtl  \" ><span class=\"plain rtl  \" ><span class=\"h\">אֲשֶׁ֥ר </span></span></span><span class=\"plain rtl  \" ><span class=\"plain rtl  \" ><span class=\"h\">חָטָ֖אנוּ </span></span></span><span class=\"plain rtl  \" ><span class=\"plain rtl  \" ><span class=\"h\">לָֽךְ׃ </span></span></span></span></span></span></span></td><td class=\"tf\"><span class=\"plain outer  rtl \"><span class=\"plain rtl  l hlbx\"  style=\"border-color: blue;\" ><span class=\"plain rtl  \" ><span class=\"plain rtl  hl\"  style=\"background-color: yellow;\" ><span class=\"h\">לָ֚נוּ </span></span></span></span><span class=\"plain rtl  r hlbx\"  style=\"border-color: blue;\" ><span class=\"plain rtl  \" ><span class=\"plain rtl  \" ><span class=\"h\">לִ</span></span><span class=\"plain rtl  \" ><span class=\"h\">מְלָכֵ֥ינוּ </span></span><span class=\"plain rtl  \" ><span class=\"h\">לְ</span></span><span class=\"plain rtl  \" ><span class=\"h\">שָׂרֵ֖ינוּ </span></span><span class=\"plain rtl  \" ><span class=\"h\">וְ</span></span><span class=\"plain rtl  \" ><span class=\"h\">לַ</span></span><span class=\"plain rtl  hl\" ><span class=\"h\">אֲבֹתֵ֑ינוּ </span></span></span></span></span></td><td class=\"tf\"><span class=\"plain outer  rtl  hl\"  style=\"background-color: yellow;\" ><span class=\"h\">לָ֚נוּ </span></span></td><td class=\"tf\"><span class=\"plain outer  rtl  hl\" ><span class=\"h\">אֲבֹתֵ֑ינוּ </span></span></td><td class=\"tf\"><span class=\"plain outer  rtl  hl\"  style=\"background-color: magenta;\" ><span class=\"h\">בֹּ֣שֶׁת </span></span></td></tr></table>"
      ],
      "text/plain": [
       "<IPython.core.display.HTML object>"
      ]
     },
     "metadata": {},
     "output_type": "display_data"
    }
   ],
   "source": [
    "A.table(results, condensed=False, colorMap={2: 'blue', 3: 'yellow', 5: 'magenta'})"
   ]
  },
  {
   "cell_type": "code",
   "execution_count": 9,
   "metadata": {
    "ExecuteTime": {
     "end_time": "2018-05-18T09:16:40.841646Z",
     "start_time": "2018-05-18T09:16:40.654538Z"
    }
   },
   "outputs": [
    {
     "data": {
      "text/html": [
       "<p><b>result</b> <i>1</i></p>"
      ],
      "text/plain": [
       "<IPython.core.display.HTML object>"
      ]
     },
     "metadata": {},
     "output_type": "display_data"
    },
    {
     "data": {
      "text/html": [
       "<div class=\"outeritem\"><div class=\"verse  \" >\n",
       "    <div class=\"vl\">\n",
       "        <div class=\"vrs\"><a href=\"https://shebanq.ancient-data.org/hebrew/text?book=Genesis&amp;chapter=17&amp;verse=7&amp;version=2017&amp;mr=m&amp;qw=q&amp;tp=txt_p&amp;tr=hb&amp;wget=v&amp;qget=v&amp;nget=vt\" title=\"show this passage in SHEBANQ\" sec=\"Genesis 17:7\">Genesis 17:7</a></div>\n",
       "        \n",
       "    </div>\n",
       "<div class=\"satom  \" >\n",
       "        <div class=\"sentence \" >\n",
       "            <a href=\"https://shebanq.ancient-data.org/hebrew/text?book=Genesis&amp;chapter=17&amp;verse=7&amp;version=2017&amp;mr=m&amp;qw=q&amp;tp=txt_p&amp;tr=hb&amp;wget=v&amp;qget=v&amp;nget=vt\" title=\"Genesis 17:7\" sec=\"Genesis 17:7\">sentence</a>   <span class=\"number\">18|999</span>\n",
       "        </div>\n",
       "        <div class=\"atoms\">\n",
       "                    <div class=\"catom  \" >\n",
       "        <div class=\"clause \" >\n",
       "            <a href=\"https://shebanq.ancient-data.org/hebrew/text?book=Genesis&amp;chapter=17&amp;verse=7&amp;version=2017&amp;mr=m&amp;qw=q&amp;tp=txt_p&amp;tr=hb&amp;wget=v&amp;qget=v&amp;nget=vt\" title=\"Genesis 17:7\" sec=\"Genesis 17:7\">clause</a>   <span class=\"typ\">WQt0</span>\n",
       "        </div>\n",
       "        <div class=\"atoms\">\n",
       "                    <div class=\"patom  \" >\n",
       "        <div class=\"phrase \" >\n",
       "            <a href=\"https://shebanq.ancient-data.org/hebrew/text?book=Genesis&amp;chapter=17&amp;verse=7&amp;version=2017&amp;mr=m&amp;qw=q&amp;tp=txt_p&amp;tr=hb&amp;wget=v&amp;qget=v&amp;nget=vt\" title=\"Genesis 17:7\" sec=\"Genesis 17:7\">phrase</a>   <span class=\"function\">Conj</span> <span class=\"typ\">CP</span>\n",
       "        </div>\n",
       "        <div class=\"atoms\">\n",
       "                    <div class=\"word  \" ><div class=\"h\"><a target=\"_blank\" href=\"https://shebanq.ancient-data.org/hebrew/word?version=2017&amp;id=1W\" title=\"show this lexeme in SHEBANQ\">וַ</a></div><div class=\"features\"> <span class=\"pdp\"><a href=\"https://shebanq.ancient-data.org/hebrew/text?book=Genesis&amp;chapter=17&amp;verse=7&amp;version=2017&amp;mr=m&amp;qw=q&amp;tp=txt_p&amp;tr=hb&amp;wget=v&amp;qget=v&amp;nget=vt\" title=\"Genesis 17:7\" sec=\"Genesis 17:7\">conj</a></span> <span class=\"gloss\">and</span> <span class=\"lex xft\"><span class=\"f\">lex=</span>W</span></div></div></div></div><div class=\"patom  \" >\n",
       "        <div class=\"phrase \" >\n",
       "            <a href=\"https://shebanq.ancient-data.org/hebrew/text?book=Genesis&amp;chapter=17&amp;verse=7&amp;version=2017&amp;mr=m&amp;qw=q&amp;tp=txt_p&amp;tr=hb&amp;wget=v&amp;qget=v&amp;nget=vt\" title=\"Genesis 17:7\" sec=\"Genesis 17:7\">phrase</a>   <span class=\"function\">Pred</span> <span class=\"typ\">VP</span>\n",
       "        </div>\n",
       "        <div class=\"atoms\">\n",
       "                    <div class=\"word  \" ><div class=\"h\"><a target=\"_blank\" href=\"https://shebanq.ancient-data.org/hebrew/word?version=2017&amp;id=1QWMv\" title=\"show this lexeme in SHEBANQ\">הֲקִמֹתִ֨י </a></div><div class=\"features\"> <span class=\"pdp\"><a href=\"https://shebanq.ancient-data.org/hebrew/text?book=Genesis&amp;chapter=17&amp;verse=7&amp;version=2017&amp;mr=m&amp;qw=q&amp;tp=txt_p&amp;tr=hb&amp;wget=v&amp;qget=v&amp;nget=vt\" title=\"Genesis 17:7\" sec=\"Genesis 17:7\">verb</a></span> <span class=\"gloss\">arise</span> <span class=\"vs\">hif</span> <span class=\"vt\">perf</span> <span class=\"lex xft\"><span class=\"f\">lex=</span>QWM[</span></div></div></div></div><div class=\"patom  \" >\n",
       "        <div class=\"phrase \" >\n",
       "            <a href=\"https://shebanq.ancient-data.org/hebrew/text?book=Genesis&amp;chapter=17&amp;verse=7&amp;version=2017&amp;mr=m&amp;qw=q&amp;tp=txt_p&amp;tr=hb&amp;wget=v&amp;qget=v&amp;nget=vt\" title=\"Genesis 17:7\" sec=\"Genesis 17:7\">phrase</a>   <span class=\"function\">Objc</span> <span class=\"typ\">PP</span>\n",
       "        </div>\n",
       "        <div class=\"atoms\">\n",
       "                    <div class=\"word  \" ><div class=\"h\"><a target=\"_blank\" href=\"https://shebanq.ancient-data.org/hebrew/word?version=2017&amp;id=1AT\" title=\"show this lexeme in SHEBANQ\">אֶת־</a></div><div class=\"features\"> <span class=\"pdp\"><a href=\"https://shebanq.ancient-data.org/hebrew/text?book=Genesis&amp;chapter=17&amp;verse=7&amp;version=2017&amp;mr=m&amp;qw=q&amp;tp=txt_p&amp;tr=hb&amp;wget=v&amp;qget=v&amp;nget=vt\" title=\"Genesis 17:7\" sec=\"Genesis 17:7\">prep</a></span> <span class=\"gloss\">&lt;object marker></span> <span class=\"lex xft\"><span class=\"f\">lex=</span>>T</span></div></div><div class=\"word  \" ><div class=\"h\"><a target=\"_blank\" href=\"https://shebanq.ancient-data.org/hebrew/word?version=2017&amp;id=1BRJTn\" title=\"show this lexeme in SHEBANQ\">בְּרִיתִ֜י </a></div><div class=\"features\"> <span class=\"pdp\"><a href=\"https://shebanq.ancient-data.org/hebrew/text?book=Genesis&amp;chapter=17&amp;verse=7&amp;version=2017&amp;mr=m&amp;qw=q&amp;tp=txt_p&amp;tr=hb&amp;wget=v&amp;qget=v&amp;nget=vt\" title=\"Genesis 17:7\" sec=\"Genesis 17:7\">subs</a></span> <span class=\"gloss\">covenant</span> <span class=\"lex xft\"><span class=\"f\">lex=</span>BRJT/</span></div></div></div></div><div class=\"patom  l \" >\n",
       "        <div class=\"phrase \" >\n",
       "            <a href=\"https://shebanq.ancient-data.org/hebrew/text?book=Genesis&amp;chapter=17&amp;verse=7&amp;version=2017&amp;mr=m&amp;qw=q&amp;tp=txt_p&amp;tr=hb&amp;wget=v&amp;qget=v&amp;nget=vt\" title=\"Genesis 17:7\" sec=\"Genesis 17:7\">phrase</a>   <span class=\"function\">Cmpl</span> <span class=\"typ\">PP</span>\n",
       "        </div>\n",
       "        <div class=\"atoms\">\n",
       "                    <div class=\"word  \" ><div class=\"h\"><a target=\"_blank\" href=\"https://shebanq.ancient-data.org/hebrew/word?version=2017&amp;id=1BJNn\" title=\"show this lexeme in SHEBANQ\">בֵּינִ֣י </a></div><div class=\"features\"> <span class=\"pdp\"><a href=\"https://shebanq.ancient-data.org/hebrew/text?book=Genesis&amp;chapter=17&amp;verse=7&amp;version=2017&amp;mr=m&amp;qw=q&amp;tp=txt_p&amp;tr=hb&amp;wget=v&amp;qget=v&amp;nget=vt\" title=\"Genesis 17:7\" sec=\"Genesis 17:7\">prep</a></span> <span class=\"gloss\">interval</span> <span class=\"lex xft\"><span class=\"f\">lex=</span>BJN/</span></div></div><div class=\"word  \" ><div class=\"h\"><a target=\"_blank\" href=\"https://shebanq.ancient-data.org/hebrew/word?version=2017&amp;id=1W\" title=\"show this lexeme in SHEBANQ\">וּ</a></div><div class=\"features\"> <span class=\"pdp\"><a href=\"https://shebanq.ancient-data.org/hebrew/text?book=Genesis&amp;chapter=17&amp;verse=7&amp;version=2017&amp;mr=m&amp;qw=q&amp;tp=txt_p&amp;tr=hb&amp;wget=v&amp;qget=v&amp;nget=vt\" title=\"Genesis 17:7\" sec=\"Genesis 17:7\">conj</a></span> <span class=\"gloss\">and</span> <span class=\"lex xft\"><span class=\"f\">lex=</span>W</span></div></div><div class=\"word  \" ><div class=\"h\"><a target=\"_blank\" href=\"https://shebanq.ancient-data.org/hebrew/word?version=2017&amp;id=1BJNn\" title=\"show this lexeme in SHEBANQ\">בֵינֶ֗ךָ </a></div><div class=\"features\"> <span class=\"pdp\"><a href=\"https://shebanq.ancient-data.org/hebrew/text?book=Genesis&amp;chapter=17&amp;verse=7&amp;version=2017&amp;mr=m&amp;qw=q&amp;tp=txt_p&amp;tr=hb&amp;wget=v&amp;qget=v&amp;nget=vt\" title=\"Genesis 17:7\" sec=\"Genesis 17:7\">prep</a></span> <span class=\"gloss\">interval</span> <span class=\"lex xft\"><span class=\"f\">lex=</span>BJN/</span></div></div><div class=\"word  \" ><div class=\"h\"><a target=\"_blank\" href=\"https://shebanq.ancient-data.org/hebrew/word?version=2017&amp;id=1W\" title=\"show this lexeme in SHEBANQ\">וּ</a></div><div class=\"features\"> <span class=\"pdp\"><a href=\"https://shebanq.ancient-data.org/hebrew/text?book=Genesis&amp;chapter=17&amp;verse=7&amp;version=2017&amp;mr=m&amp;qw=q&amp;tp=txt_p&amp;tr=hb&amp;wget=v&amp;qget=v&amp;nget=vt\" title=\"Genesis 17:7\" sec=\"Genesis 17:7\">conj</a></span> <span class=\"gloss\">and</span> <span class=\"lex xft\"><span class=\"f\">lex=</span>W</span></div></div><div class=\"word  \" ><div class=\"h\"><a target=\"_blank\" href=\"https://shebanq.ancient-data.org/hebrew/word?version=2017&amp;id=1BJNn\" title=\"show this lexeme in SHEBANQ\">בֵ֨ין </a></div><div class=\"features\"> <span class=\"pdp\"><a href=\"https://shebanq.ancient-data.org/hebrew/text?book=Genesis&amp;chapter=17&amp;verse=7&amp;version=2017&amp;mr=m&amp;qw=q&amp;tp=txt_p&amp;tr=hb&amp;wget=v&amp;qget=v&amp;nget=vt\" title=\"Genesis 17:7\" sec=\"Genesis 17:7\">prep</a></span> <span class=\"gloss\">interval</span> <span class=\"lex xft\"><span class=\"f\">lex=</span>BJN/</span></div></div><div class=\"word  \" ><div class=\"h\"><a target=\"_blank\" href=\"https://shebanq.ancient-data.org/hebrew/word?version=2017&amp;id=1ZROn\" title=\"show this lexeme in SHEBANQ\">זַרְעֲךָ֧ </a></div><div class=\"features\"> <span class=\"pdp\"><a href=\"https://shebanq.ancient-data.org/hebrew/text?book=Genesis&amp;chapter=17&amp;verse=7&amp;version=2017&amp;mr=m&amp;qw=q&amp;tp=txt_p&amp;tr=hb&amp;wget=v&amp;qget=v&amp;nget=vt\" title=\"Genesis 17:7\" sec=\"Genesis 17:7\">subs</a></span> <span class=\"gloss\">seed</span> <span class=\"lex xft\"><span class=\"f\">lex=</span>ZR&lt;/</span></div></div></div></div><div class=\"patom  r l \" >\n",
       "        <div class=\"phrase \" >\n",
       "            <a href=\"https://shebanq.ancient-data.org/hebrew/text?book=Genesis&amp;chapter=17&amp;verse=7&amp;version=2017&amp;mr=m&amp;qw=q&amp;tp=txt_p&amp;tr=hb&amp;wget=v&amp;qget=v&amp;nget=vt\" title=\"Genesis 17:7\" sec=\"Genesis 17:7\">phrase</a>   <span class=\"function\">Cmpl</span> <span class=\"typ\">PP</span>\n",
       "        </div>\n",
       "        <div class=\"atoms\">\n",
       "                    <div class=\"word  \" ><div class=\"h\"><a target=\"_blank\" href=\"https://shebanq.ancient-data.org/hebrew/word?version=2017&amp;id=1AXRn\" title=\"show this lexeme in SHEBANQ\">אַחֲרֶ֛יךָ </a></div><div class=\"features\"> <span class=\"pdp\"><a href=\"https://shebanq.ancient-data.org/hebrew/text?book=Genesis&amp;chapter=17&amp;verse=7&amp;version=2017&amp;mr=m&amp;qw=q&amp;tp=txt_p&amp;tr=hb&amp;wget=v&amp;qget=v&amp;nget=vt\" title=\"Genesis 17:7\" sec=\"Genesis 17:7\">prep</a></span> <span class=\"gloss\">after</span> <span class=\"lex xft\"><span class=\"f\">lex=</span>>XR/</span></div></div></div></div><div class=\"patom  r \" >\n",
       "        <div class=\"phrase \" >\n",
       "            <a href=\"https://shebanq.ancient-data.org/hebrew/text?book=Genesis&amp;chapter=17&amp;verse=7&amp;version=2017&amp;mr=m&amp;qw=q&amp;tp=txt_p&amp;tr=hb&amp;wget=v&amp;qget=v&amp;nget=vt\" title=\"Genesis 17:7\" sec=\"Genesis 17:7\">phrase</a>   <span class=\"function\">Cmpl</span> <span class=\"typ\">PP</span>\n",
       "        </div>\n",
       "        <div class=\"atoms\">\n",
       "                    <div class=\"word  \" ><div class=\"h\"><a target=\"_blank\" href=\"https://shebanq.ancient-data.org/hebrew/word?version=2017&amp;id=1L\" title=\"show this lexeme in SHEBANQ\">לְ</a></div><div class=\"features\"> <span class=\"pdp\"><a href=\"https://shebanq.ancient-data.org/hebrew/text?book=Genesis&amp;chapter=17&amp;verse=7&amp;version=2017&amp;mr=m&amp;qw=q&amp;tp=txt_p&amp;tr=hb&amp;wget=v&amp;qget=v&amp;nget=vt\" title=\"Genesis 17:7\" sec=\"Genesis 17:7\">prep</a></span> <span class=\"gloss\">to</span> <span class=\"lex xft\"><span class=\"f\">lex=</span>L</span></div></div><div class=\"word  \" ><div class=\"h\"><a target=\"_blank\" href=\"https://shebanq.ancient-data.org/hebrew/word?version=2017&amp;id=1DWRn\" title=\"show this lexeme in SHEBANQ\">דֹרֹתָ֖ם </a></div><div class=\"features\"> <span class=\"pdp\"><a href=\"https://shebanq.ancient-data.org/hebrew/text?book=Genesis&amp;chapter=17&amp;verse=7&amp;version=2017&amp;mr=m&amp;qw=q&amp;tp=txt_p&amp;tr=hb&amp;wget=v&amp;qget=v&amp;nget=vt\" title=\"Genesis 17:7\" sec=\"Genesis 17:7\">subs</a></span> <span class=\"gloss\">generation</span> <span class=\"lex xft\"><span class=\"f\">lex=</span>DWR/</span></div></div></div></div><div class=\"patom  \" >\n",
       "        <div class=\"phrase \" >\n",
       "            <a href=\"https://shebanq.ancient-data.org/hebrew/text?book=Genesis&amp;chapter=17&amp;verse=7&amp;version=2017&amp;mr=m&amp;qw=q&amp;tp=txt_p&amp;tr=hb&amp;wget=v&amp;qget=v&amp;nget=vt\" title=\"Genesis 17:7\" sec=\"Genesis 17:7\">phrase</a>   <span class=\"function\">Cmpl</span> <span class=\"typ\">PP</span>\n",
       "        </div>\n",
       "        <div class=\"atoms\">\n",
       "                    <div class=\"word  \" ><div class=\"h\"><a target=\"_blank\" href=\"https://shebanq.ancient-data.org/hebrew/word?version=2017&amp;id=1L\" title=\"show this lexeme in SHEBANQ\">לִ</a></div><div class=\"features\"> <span class=\"pdp\"><a href=\"https://shebanq.ancient-data.org/hebrew/text?book=Genesis&amp;chapter=17&amp;verse=7&amp;version=2017&amp;mr=m&amp;qw=q&amp;tp=txt_p&amp;tr=hb&amp;wget=v&amp;qget=v&amp;nget=vt\" title=\"Genesis 17:7\" sec=\"Genesis 17:7\">prep</a></span> <span class=\"gloss\">to</span> <span class=\"lex xft\"><span class=\"f\">lex=</span>L</span></div></div><div class=\"word  \" ><div class=\"h\"><a target=\"_blank\" href=\"https://shebanq.ancient-data.org/hebrew/word?version=2017&amp;id=1BRJTn\" title=\"show this lexeme in SHEBANQ\">בְרִ֣ית </a></div><div class=\"features\"> <span class=\"pdp\"><a href=\"https://shebanq.ancient-data.org/hebrew/text?book=Genesis&amp;chapter=17&amp;verse=7&amp;version=2017&amp;mr=m&amp;qw=q&amp;tp=txt_p&amp;tr=hb&amp;wget=v&amp;qget=v&amp;nget=vt\" title=\"Genesis 17:7\" sec=\"Genesis 17:7\">subs</a></span> <span class=\"gloss\">covenant</span> <span class=\"lex xft\"><span class=\"f\">lex=</span>BRJT/</span></div></div><div class=\"word  \" ><div class=\"h\"><a target=\"_blank\" href=\"https://shebanq.ancient-data.org/hebrew/word?version=2017&amp;id=1OWLMn\" title=\"show this lexeme in SHEBANQ\">עֹולָ֑ם </a></div><div class=\"features\"> <span class=\"pdp\"><a href=\"https://shebanq.ancient-data.org/hebrew/text?book=Genesis&amp;chapter=17&amp;verse=7&amp;version=2017&amp;mr=m&amp;qw=q&amp;tp=txt_p&amp;tr=hb&amp;wget=v&amp;qget=v&amp;nget=vt\" title=\"Genesis 17:7\" sec=\"Genesis 17:7\">subs</a></span> <span class=\"gloss\">eternity</span> <span class=\"lex xft\"><span class=\"f\">lex=</span>&lt;WLM/</span></div></div></div></div></div></div><div class=\"catom  \" >\n",
       "        <div class=\"clause \" >\n",
       "            <a href=\"https://shebanq.ancient-data.org/hebrew/text?book=Genesis&amp;chapter=17&amp;verse=7&amp;version=2017&amp;mr=m&amp;qw=q&amp;tp=txt_p&amp;tr=hb&amp;wget=v&amp;qget=v&amp;nget=vt\" title=\"Genesis 17:7\" sec=\"Genesis 17:7\">clause</a>   <span class=\"rela\">Adju</span> <span class=\"typ\">InfC</span>\n",
       "        </div>\n",
       "        <div class=\"atoms\">\n",
       "                    <div class=\"patom  \" >\n",
       "        <div class=\"phrase \" >\n",
       "            <a href=\"https://shebanq.ancient-data.org/hebrew/text?book=Genesis&amp;chapter=17&amp;verse=7&amp;version=2017&amp;mr=m&amp;qw=q&amp;tp=txt_p&amp;tr=hb&amp;wget=v&amp;qget=v&amp;nget=vt\" title=\"Genesis 17:7\" sec=\"Genesis 17:7\">phrase</a>   <span class=\"function\">Pred</span> <span class=\"typ\">VP</span>\n",
       "        </div>\n",
       "        <div class=\"atoms\">\n",
       "                    <div class=\"word  \" ><div class=\"h\"><a target=\"_blank\" href=\"https://shebanq.ancient-data.org/hebrew/word?version=2017&amp;id=1L\" title=\"show this lexeme in SHEBANQ\">לִ</a></div><div class=\"features\"> <span class=\"pdp\"><a href=\"https://shebanq.ancient-data.org/hebrew/text?book=Genesis&amp;chapter=17&amp;verse=7&amp;version=2017&amp;mr=m&amp;qw=q&amp;tp=txt_p&amp;tr=hb&amp;wget=v&amp;qget=v&amp;nget=vt\" title=\"Genesis 17:7\" sec=\"Genesis 17:7\">prep</a></span> <span class=\"gloss\">to</span> <span class=\"lex xft\"><span class=\"f\">lex=</span>L</span></div></div><div class=\"word  \" ><div class=\"h\"><a target=\"_blank\" href=\"https://shebanq.ancient-data.org/hebrew/word?version=2017&amp;id=1HJHv\" title=\"show this lexeme in SHEBANQ\">הְיֹ֤ות </a></div><div class=\"features\"> <span class=\"pdp\"><a href=\"https://shebanq.ancient-data.org/hebrew/text?book=Genesis&amp;chapter=17&amp;verse=7&amp;version=2017&amp;mr=m&amp;qw=q&amp;tp=txt_p&amp;tr=hb&amp;wget=v&amp;qget=v&amp;nget=vt\" title=\"Genesis 17:7\" sec=\"Genesis 17:7\">verb</a></span> <span class=\"gloss\">be</span> <span class=\"vs\">qal</span> <span class=\"vt\">infc</span> <span class=\"lex xft\"><span class=\"f\">lex=</span>HJH[</span></div></div></div></div><div class=\"patom  l hl\"  style=\"background-color: aqua;\" >\n",
       "        <div class=\"phrase hl\"  style=\"background-color: aqua;\" >\n",
       "            <a href=\"https://shebanq.ancient-data.org/hebrew/text?book=Genesis&amp;chapter=17&amp;verse=7&amp;version=2017&amp;mr=m&amp;qw=q&amp;tp=txt_p&amp;tr=hb&amp;wget=v&amp;qget=v&amp;nget=vt\" title=\"Genesis 17:7\" sec=\"Genesis 17:7\">phrase</a>   <span class=\"function\">Cmpl</span> <span class=\"typ\">PP</span>\n",
       "        </div>\n",
       "        <div class=\"atoms\">\n",
       "                    <div class=\"word  hl\"  style=\"background-color: yellow;\" ><div class=\"h\"><a target=\"_blank\" href=\"https://shebanq.ancient-data.org/hebrew/word?version=2017&amp;id=1L\" title=\"show this lexeme in SHEBANQ\">לְךָ֙ </a></div><div class=\"features\"> <span class=\"pdp\"><a href=\"https://shebanq.ancient-data.org/hebrew/text?book=Genesis&amp;chapter=17&amp;verse=7&amp;version=2017&amp;mr=m&amp;qw=q&amp;tp=txt_p&amp;tr=hb&amp;wget=v&amp;qget=v&amp;nget=vt\" title=\"Genesis 17:7\" sec=\"Genesis 17:7\">prep</a></span> <span class=\"gloss\">to</span> <span class=\"lex xft\"><span class=\"f\">lex=</span>L</span></div></div></div></div><div class=\"patom  \" >\n",
       "        <div class=\"phrase \" >\n",
       "            <a href=\"https://shebanq.ancient-data.org/hebrew/text?book=Genesis&amp;chapter=17&amp;verse=7&amp;version=2017&amp;mr=m&amp;qw=q&amp;tp=txt_p&amp;tr=hb&amp;wget=v&amp;qget=v&amp;nget=vt\" title=\"Genesis 17:7\" sec=\"Genesis 17:7\">phrase</a>   <span class=\"function\">PreC</span> <span class=\"typ\">PP</span>\n",
       "        </div>\n",
       "        <div class=\"atoms\">\n",
       "                    <div class=\"word  hl\"  style=\"background-color: magenta;\" ><div class=\"h\"><a target=\"_blank\" href=\"https://shebanq.ancient-data.org/hebrew/word?version=2017&amp;id=1L\" title=\"show this lexeme in SHEBANQ\">לֵֽ</a></div><div class=\"features\"> <span class=\"pdp\"><a href=\"https://shebanq.ancient-data.org/hebrew/text?book=Genesis&amp;chapter=17&amp;verse=7&amp;version=2017&amp;mr=m&amp;qw=q&amp;tp=txt_p&amp;tr=hb&amp;wget=v&amp;qget=v&amp;nget=vt\" title=\"Genesis 17:7\" sec=\"Genesis 17:7\">prep</a></span> <span class=\"gloss\">to</span> <span class=\"lex xft\"><span class=\"f\">lex=</span>L</span></div></div><div class=\"word  \" ><div class=\"h\"><a target=\"_blank\" href=\"https://shebanq.ancient-data.org/hebrew/word?version=2017&amp;id=1ALHJMn\" title=\"show this lexeme in SHEBANQ\">אלֹהִ֔ים </a></div><div class=\"features\"> <span class=\"pdp\"><a href=\"https://shebanq.ancient-data.org/hebrew/text?book=Genesis&amp;chapter=17&amp;verse=7&amp;version=2017&amp;mr=m&amp;qw=q&amp;tp=txt_p&amp;tr=hb&amp;wget=v&amp;qget=v&amp;nget=vt\" title=\"Genesis 17:7\" sec=\"Genesis 17:7\">subs</a></span> <span class=\"gloss\">god(s)</span> <span class=\"lex xft\"><span class=\"f\">lex=</span>>LHJM/</span></div></div></div></div><div class=\"patom  r l hl\"  style=\"background-color: aqua;\" >\n",
       "        <div class=\"phrase hl\"  style=\"background-color: aqua;\" >\n",
       "            <a href=\"https://shebanq.ancient-data.org/hebrew/text?book=Genesis&amp;chapter=17&amp;verse=7&amp;version=2017&amp;mr=m&amp;qw=q&amp;tp=txt_p&amp;tr=hb&amp;wget=v&amp;qget=v&amp;nget=vt\" title=\"Genesis 17:7\" sec=\"Genesis 17:7\">phrase</a>   <span class=\"function\">Cmpl</span> <span class=\"typ\">PP|CP</span>\n",
       "        </div>\n",
       "        <div class=\"atoms\">\n",
       "                    <div class=\"word  \" ><div class=\"h\"><a target=\"_blank\" href=\"https://shebanq.ancient-data.org/hebrew/word?version=2017&amp;id=1W\" title=\"show this lexeme in SHEBANQ\">וּֽ</a></div><div class=\"features\"> <span class=\"pdp\"><a href=\"https://shebanq.ancient-data.org/hebrew/text?book=Genesis&amp;chapter=17&amp;verse=7&amp;version=2017&amp;mr=m&amp;qw=q&amp;tp=txt_p&amp;tr=hb&amp;wget=v&amp;qget=v&amp;nget=vt\" title=\"Genesis 17:7\" sec=\"Genesis 17:7\">conj</a></span> <span class=\"gloss\">and</span> <span class=\"lex xft\"><span class=\"f\">lex=</span>W</span></div></div></div></div><div class=\"patom  r l hl\"  style=\"background-color: aqua;\" >\n",
       "        <div class=\"phrase hl\"  style=\"background-color: aqua;\" >\n",
       "            <a href=\"https://shebanq.ancient-data.org/hebrew/text?book=Genesis&amp;chapter=17&amp;verse=7&amp;version=2017&amp;mr=m&amp;qw=q&amp;tp=txt_p&amp;tr=hb&amp;wget=v&amp;qget=v&amp;nget=vt\" title=\"Genesis 17:7\" sec=\"Genesis 17:7\">phrase</a>   <span class=\"function\">Cmpl</span> <span class=\"typ\">PP</span>\n",
       "        </div>\n",
       "        <div class=\"atoms\">\n",
       "                    <div class=\"word  \" ><div class=\"h\"><a target=\"_blank\" href=\"https://shebanq.ancient-data.org/hebrew/word?version=2017&amp;id=1L\" title=\"show this lexeme in SHEBANQ\">לְ</a></div><div class=\"features\"> <span class=\"pdp\"><a href=\"https://shebanq.ancient-data.org/hebrew/text?book=Genesis&amp;chapter=17&amp;verse=7&amp;version=2017&amp;mr=m&amp;qw=q&amp;tp=txt_p&amp;tr=hb&amp;wget=v&amp;qget=v&amp;nget=vt\" title=\"Genesis 17:7\" sec=\"Genesis 17:7\">prep</a></span> <span class=\"gloss\">to</span> <span class=\"lex xft\"><span class=\"f\">lex=</span>L</span></div></div><div class=\"word  \" ><div class=\"h\"><a target=\"_blank\" href=\"https://shebanq.ancient-data.org/hebrew/word?version=2017&amp;id=1ZROn\" title=\"show this lexeme in SHEBANQ\">זַרְעֲךָ֖ </a></div><div class=\"features\"> <span class=\"pdp\"><a href=\"https://shebanq.ancient-data.org/hebrew/text?book=Genesis&amp;chapter=17&amp;verse=7&amp;version=2017&amp;mr=m&amp;qw=q&amp;tp=txt_p&amp;tr=hb&amp;wget=v&amp;qget=v&amp;nget=vt\" title=\"Genesis 17:7\" sec=\"Genesis 17:7\">subs</a></span> <span class=\"gloss\">seed</span> <span class=\"lex xft\"><span class=\"f\">lex=</span>ZR&lt;/</span></div></div></div></div><div class=\"patom  r hl\"  style=\"background-color: aqua;\" >\n",
       "        <div class=\"phrase hl\"  style=\"background-color: aqua;\" >\n",
       "            <a href=\"https://shebanq.ancient-data.org/hebrew/text?book=Genesis&amp;chapter=17&amp;verse=7&amp;version=2017&amp;mr=m&amp;qw=q&amp;tp=txt_p&amp;tr=hb&amp;wget=v&amp;qget=v&amp;nget=vt\" title=\"Genesis 17:7\" sec=\"Genesis 17:7\">phrase</a>   <span class=\"function\">Cmpl</span> <span class=\"typ\">PP</span>\n",
       "        </div>\n",
       "        <div class=\"atoms\">\n",
       "                    <div class=\"word  hl\" ><div class=\"h\"><a target=\"_blank\" href=\"https://shebanq.ancient-data.org/hebrew/word?version=2017&amp;id=1AXRn\" title=\"show this lexeme in SHEBANQ\">אַחֲרֶֽיךָ׃ </a></div><div class=\"features\"> <span class=\"pdp\"><a href=\"https://shebanq.ancient-data.org/hebrew/text?book=Genesis&amp;chapter=17&amp;verse=7&amp;version=2017&amp;mr=m&amp;qw=q&amp;tp=txt_p&amp;tr=hb&amp;wget=v&amp;qget=v&amp;nget=vt\" title=\"Genesis 17:7\" sec=\"Genesis 17:7\">prep</a></span> <span class=\"gloss\">after</span> <span class=\"lex xft\"><span class=\"f\">lex=</span>>XR/</span></div></div></div></div></div></div></div></div></div></div>"
      ],
      "text/plain": [
       "<IPython.core.display.HTML object>"
      ]
     },
     "metadata": {},
     "output_type": "display_data"
    },
    {
     "data": {
      "text/html": [
       "<p><b>result</b> <i>2</i></p>"
      ],
      "text/plain": [
       "<IPython.core.display.HTML object>"
      ]
     },
     "metadata": {},
     "output_type": "display_data"
    },
    {
     "data": {
      "text/html": [
       "<div class=\"outeritem\"><div class=\"verse  \" >\n",
       "    <div class=\"vl\">\n",
       "        <div class=\"vrs\"><a href=\"https://shebanq.ancient-data.org/hebrew/text?book=Genesis&amp;chapter=28&amp;verse=4&amp;version=2017&amp;mr=m&amp;qw=q&amp;tp=txt_p&amp;tr=hb&amp;wget=v&amp;qget=v&amp;nget=vt\" title=\"show this passage in SHEBANQ\" sec=\"Genesis 28:4\">Genesis 28:4</a></div>\n",
       "        \n",
       "    </div>\n",
       "<div class=\"satom  \" >\n",
       "        <div class=\"sentence \" >\n",
       "            <a href=\"https://shebanq.ancient-data.org/hebrew/text?book=Genesis&amp;chapter=28&amp;verse=4&amp;version=2017&amp;mr=m&amp;qw=q&amp;tp=txt_p&amp;tr=hb&amp;wget=v&amp;qget=v&amp;nget=vt\" title=\"Genesis 28:4\" sec=\"Genesis 28:4\">sentence</a>   <span class=\"number\">13|2254</span>\n",
       "        </div>\n",
       "        <div class=\"atoms\">\n",
       "                    <div class=\"catom  \" >\n",
       "        <div class=\"clause \" >\n",
       "            <a href=\"https://shebanq.ancient-data.org/hebrew/text?book=Genesis&amp;chapter=28&amp;verse=4&amp;version=2017&amp;mr=m&amp;qw=q&amp;tp=txt_p&amp;tr=hb&amp;wget=v&amp;qget=v&amp;nget=vt\" title=\"Genesis 28:4\" sec=\"Genesis 28:4\">clause</a>   <span class=\"typ\">WYq0</span>\n",
       "        </div>\n",
       "        <div class=\"atoms\">\n",
       "                    <div class=\"patom  \" >\n",
       "        <div class=\"phrase \" >\n",
       "            <a href=\"https://shebanq.ancient-data.org/hebrew/text?book=Genesis&amp;chapter=28&amp;verse=4&amp;version=2017&amp;mr=m&amp;qw=q&amp;tp=txt_p&amp;tr=hb&amp;wget=v&amp;qget=v&amp;nget=vt\" title=\"Genesis 28:4\" sec=\"Genesis 28:4\">phrase</a>   <span class=\"function\">Conj</span> <span class=\"typ\">CP</span>\n",
       "        </div>\n",
       "        <div class=\"atoms\">\n",
       "                    <div class=\"word  \" ><div class=\"h\"><a target=\"_blank\" href=\"https://shebanq.ancient-data.org/hebrew/word?version=2017&amp;id=1W\" title=\"show this lexeme in SHEBANQ\">וְ</a></div><div class=\"features\"> <span class=\"pdp\"><a href=\"https://shebanq.ancient-data.org/hebrew/text?book=Genesis&amp;chapter=28&amp;verse=4&amp;version=2017&amp;mr=m&amp;qw=q&amp;tp=txt_p&amp;tr=hb&amp;wget=v&amp;qget=v&amp;nget=vt\" title=\"Genesis 28:4\" sec=\"Genesis 28:4\">conj</a></span> <span class=\"gloss\">and</span> <span class=\"lex xft\"><span class=\"f\">lex=</span>W</span></div></div></div></div><div class=\"patom  \" >\n",
       "        <div class=\"phrase \" >\n",
       "            <a href=\"https://shebanq.ancient-data.org/hebrew/text?book=Genesis&amp;chapter=28&amp;verse=4&amp;version=2017&amp;mr=m&amp;qw=q&amp;tp=txt_p&amp;tr=hb&amp;wget=v&amp;qget=v&amp;nget=vt\" title=\"Genesis 28:4\" sec=\"Genesis 28:4\">phrase</a>   <span class=\"function\">Pred</span> <span class=\"typ\">VP</span>\n",
       "        </div>\n",
       "        <div class=\"atoms\">\n",
       "                    <div class=\"word  \" ><div class=\"h\"><a target=\"_blank\" href=\"https://shebanq.ancient-data.org/hebrew/word?version=2017&amp;id=1NTNv\" title=\"show this lexeme in SHEBANQ\">יִֽתֶּן־</a></div><div class=\"features\"> <span class=\"pdp\"><a href=\"https://shebanq.ancient-data.org/hebrew/text?book=Genesis&amp;chapter=28&amp;verse=4&amp;version=2017&amp;mr=m&amp;qw=q&amp;tp=txt_p&amp;tr=hb&amp;wget=v&amp;qget=v&amp;nget=vt\" title=\"Genesis 28:4\" sec=\"Genesis 28:4\">verb</a></span> <span class=\"gloss\">give</span> <span class=\"vs\">qal</span> <span class=\"vt\">impf</span> <span class=\"lex xft\"><span class=\"f\">lex=</span>NTN[</span></div></div></div></div><div class=\"patom  l hl\"  style=\"background-color: aqua;\" >\n",
       "        <div class=\"phrase hl\"  style=\"background-color: aqua;\" >\n",
       "            <a href=\"https://shebanq.ancient-data.org/hebrew/text?book=Genesis&amp;chapter=28&amp;verse=4&amp;version=2017&amp;mr=m&amp;qw=q&amp;tp=txt_p&amp;tr=hb&amp;wget=v&amp;qget=v&amp;nget=vt\" title=\"Genesis 28:4\" sec=\"Genesis 28:4\">phrase</a>   <span class=\"function\">Cmpl</span> <span class=\"typ\">PP</span>\n",
       "        </div>\n",
       "        <div class=\"atoms\">\n",
       "                    <div class=\"word  hl\"  style=\"background-color: yellow;\" ><div class=\"h\"><a target=\"_blank\" href=\"https://shebanq.ancient-data.org/hebrew/word?version=2017&amp;id=1L\" title=\"show this lexeme in SHEBANQ\">לְךָ֙ </a></div><div class=\"features\"> <span class=\"pdp\"><a href=\"https://shebanq.ancient-data.org/hebrew/text?book=Genesis&amp;chapter=28&amp;verse=4&amp;version=2017&amp;mr=m&amp;qw=q&amp;tp=txt_p&amp;tr=hb&amp;wget=v&amp;qget=v&amp;nget=vt\" title=\"Genesis 28:4\" sec=\"Genesis 28:4\">prep</a></span> <span class=\"gloss\">to</span> <span class=\"lex xft\"><span class=\"f\">lex=</span>L</span></div></div></div></div><div class=\"patom  \" >\n",
       "        <div class=\"phrase \" >\n",
       "            <a href=\"https://shebanq.ancient-data.org/hebrew/text?book=Genesis&amp;chapter=28&amp;verse=4&amp;version=2017&amp;mr=m&amp;qw=q&amp;tp=txt_p&amp;tr=hb&amp;wget=v&amp;qget=v&amp;nget=vt\" title=\"Genesis 28:4\" sec=\"Genesis 28:4\">phrase</a>   <span class=\"function\">Objc</span> <span class=\"typ\">PP</span>\n",
       "        </div>\n",
       "        <div class=\"atoms\">\n",
       "                    <div class=\"word  hl\"  style=\"background-color: magenta;\" ><div class=\"h\"><a target=\"_blank\" href=\"https://shebanq.ancient-data.org/hebrew/word?version=2017&amp;id=1AT\" title=\"show this lexeme in SHEBANQ\">אֶת־</a></div><div class=\"features\"> <span class=\"pdp\"><a href=\"https://shebanq.ancient-data.org/hebrew/text?book=Genesis&amp;chapter=28&amp;verse=4&amp;version=2017&amp;mr=m&amp;qw=q&amp;tp=txt_p&amp;tr=hb&amp;wget=v&amp;qget=v&amp;nget=vt\" title=\"Genesis 28:4\" sec=\"Genesis 28:4\">prep</a></span> <span class=\"gloss\">&lt;object marker></span> <span class=\"lex xft\"><span class=\"f\">lex=</span>>T</span></div></div><div class=\"word  \" ><div class=\"h\"><a target=\"_blank\" href=\"https://shebanq.ancient-data.org/hebrew/word?version=2017&amp;id=1BRKHn\" title=\"show this lexeme in SHEBANQ\">בִּרְכַּ֣ת </a></div><div class=\"features\"> <span class=\"pdp\"><a href=\"https://shebanq.ancient-data.org/hebrew/text?book=Genesis&amp;chapter=28&amp;verse=4&amp;version=2017&amp;mr=m&amp;qw=q&amp;tp=txt_p&amp;tr=hb&amp;wget=v&amp;qget=v&amp;nget=vt\" title=\"Genesis 28:4\" sec=\"Genesis 28:4\">subs</a></span> <span class=\"gloss\">blessing</span> <span class=\"lex xft\"><span class=\"f\">lex=</span>BRKH/</span></div></div><div class=\"word  \" ><div class=\"h\"><a target=\"_blank\" href=\"https://shebanq.ancient-data.org/hebrew/word?version=2017&amp;id=1ABRHMn\" title=\"show this lexeme in SHEBANQ\">אַבְרָהָ֔ם </a></div><div class=\"features\"> <span class=\"pdp\"><a href=\"https://shebanq.ancient-data.org/hebrew/text?book=Genesis&amp;chapter=28&amp;verse=4&amp;version=2017&amp;mr=m&amp;qw=q&amp;tp=txt_p&amp;tr=hb&amp;wget=v&amp;qget=v&amp;nget=vt\" title=\"Genesis 28:4\" sec=\"Genesis 28:4\">nmpr</a></span> <span class=\"gloss\">Abraham</span> <span class=\"lex xft\"><span class=\"f\">lex=</span>>BRHM/</span></div></div></div></div><div class=\"patom  r l hl\"  style=\"background-color: aqua;\" >\n",
       "        <div class=\"phrase hl\"  style=\"background-color: aqua;\" >\n",
       "            <a href=\"https://shebanq.ancient-data.org/hebrew/text?book=Genesis&amp;chapter=28&amp;verse=4&amp;version=2017&amp;mr=m&amp;qw=q&amp;tp=txt_p&amp;tr=hb&amp;wget=v&amp;qget=v&amp;nget=vt\" title=\"Genesis 28:4\" sec=\"Genesis 28:4\">phrase</a>   <span class=\"function\">Cmpl</span> <span class=\"typ\">PP</span>\n",
       "        </div>\n",
       "        <div class=\"atoms\">\n",
       "                    <div class=\"word  \" ><div class=\"h\"><a target=\"_blank\" href=\"https://shebanq.ancient-data.org/hebrew/word?version=2017&amp;id=1L\" title=\"show this lexeme in SHEBANQ\">לְךָ֖ </a></div><div class=\"features\"> <span class=\"pdp\"><a href=\"https://shebanq.ancient-data.org/hebrew/text?book=Genesis&amp;chapter=28&amp;verse=4&amp;version=2017&amp;mr=m&amp;qw=q&amp;tp=txt_p&amp;tr=hb&amp;wget=v&amp;qget=v&amp;nget=vt\" title=\"Genesis 28:4\" sec=\"Genesis 28:4\">prep</a></span> <span class=\"gloss\">to</span> <span class=\"lex xft\"><span class=\"f\">lex=</span>L</span></div></div><div class=\"word  \" ><div class=\"h\"><a target=\"_blank\" href=\"https://shebanq.ancient-data.org/hebrew/word?version=2017&amp;id=1W\" title=\"show this lexeme in SHEBANQ\">וּ</a></div><div class=\"features\"> <span class=\"pdp\"><a href=\"https://shebanq.ancient-data.org/hebrew/text?book=Genesis&amp;chapter=28&amp;verse=4&amp;version=2017&amp;mr=m&amp;qw=q&amp;tp=txt_p&amp;tr=hb&amp;wget=v&amp;qget=v&amp;nget=vt\" title=\"Genesis 28:4\" sec=\"Genesis 28:4\">conj</a></span> <span class=\"gloss\">and</span> <span class=\"lex xft\"><span class=\"f\">lex=</span>W</span></div></div><div class=\"word  \" ><div class=\"h\"><a target=\"_blank\" href=\"https://shebanq.ancient-data.org/hebrew/word?version=2017&amp;id=1L\" title=\"show this lexeme in SHEBANQ\">לְ</a></div><div class=\"features\"> <span class=\"pdp\"><a href=\"https://shebanq.ancient-data.org/hebrew/text?book=Genesis&amp;chapter=28&amp;verse=4&amp;version=2017&amp;mr=m&amp;qw=q&amp;tp=txt_p&amp;tr=hb&amp;wget=v&amp;qget=v&amp;nget=vt\" title=\"Genesis 28:4\" sec=\"Genesis 28:4\">prep</a></span> <span class=\"gloss\">to</span> <span class=\"lex xft\"><span class=\"f\">lex=</span>L</span></div></div><div class=\"word  \" ><div class=\"h\"><a target=\"_blank\" href=\"https://shebanq.ancient-data.org/hebrew/word?version=2017&amp;id=1ZROn\" title=\"show this lexeme in SHEBANQ\">זַרְעֲךָ֣ </a></div><div class=\"features\"> <span class=\"pdp\"><a href=\"https://shebanq.ancient-data.org/hebrew/text?book=Genesis&amp;chapter=28&amp;verse=4&amp;version=2017&amp;mr=m&amp;qw=q&amp;tp=txt_p&amp;tr=hb&amp;wget=v&amp;qget=v&amp;nget=vt\" title=\"Genesis 28:4\" sec=\"Genesis 28:4\">subs</a></span> <span class=\"gloss\">seed</span> <span class=\"lex xft\"><span class=\"f\">lex=</span>ZR&lt;/</span></div></div></div></div><div class=\"patom  r hl\"  style=\"background-color: aqua;\" >\n",
       "        <div class=\"phrase hl\"  style=\"background-color: aqua;\" >\n",
       "            <a href=\"https://shebanq.ancient-data.org/hebrew/text?book=Genesis&amp;chapter=28&amp;verse=4&amp;version=2017&amp;mr=m&amp;qw=q&amp;tp=txt_p&amp;tr=hb&amp;wget=v&amp;qget=v&amp;nget=vt\" title=\"Genesis 28:4\" sec=\"Genesis 28:4\">phrase</a>   <span class=\"function\">Cmpl</span> <span class=\"typ\">PP</span>\n",
       "        </div>\n",
       "        <div class=\"atoms\">\n",
       "                    <div class=\"word  hl\" ><div class=\"h\"><a target=\"_blank\" href=\"https://shebanq.ancient-data.org/hebrew/word?version=2017&amp;id=1ATii\" title=\"show this lexeme in SHEBANQ\">אִתָּ֑ךְ </a></div><div class=\"features\"> <span class=\"pdp\"><a href=\"https://shebanq.ancient-data.org/hebrew/text?book=Genesis&amp;chapter=28&amp;verse=4&amp;version=2017&amp;mr=m&amp;qw=q&amp;tp=txt_p&amp;tr=hb&amp;wget=v&amp;qget=v&amp;nget=vt\" title=\"Genesis 28:4\" sec=\"Genesis 28:4\">prep</a></span> <span class=\"gloss\">together with</span> <span class=\"lex xft\"><span class=\"f\">lex=</span>>T==</span></div></div></div></div></div></div><div class=\"catom  \" >\n",
       "        <div class=\"clause \" >\n",
       "            <a href=\"https://shebanq.ancient-data.org/hebrew/text?book=Genesis&amp;chapter=28&amp;verse=4&amp;version=2017&amp;mr=m&amp;qw=q&amp;tp=txt_p&amp;tr=hb&amp;wget=v&amp;qget=v&amp;nget=vt\" title=\"Genesis 28:4\" sec=\"Genesis 28:4\">clause</a>   <span class=\"rela\">Adju</span> <span class=\"typ\">InfC</span>\n",
       "        </div>\n",
       "        <div class=\"atoms\">\n",
       "                    <div class=\"patom  \" >\n",
       "        <div class=\"phrase \" >\n",
       "            <a href=\"https://shebanq.ancient-data.org/hebrew/text?book=Genesis&amp;chapter=28&amp;verse=4&amp;version=2017&amp;mr=m&amp;qw=q&amp;tp=txt_p&amp;tr=hb&amp;wget=v&amp;qget=v&amp;nget=vt\" title=\"Genesis 28:4\" sec=\"Genesis 28:4\">phrase</a>   <span class=\"function\">PreS</span> <span class=\"typ\">VP</span>\n",
       "        </div>\n",
       "        <div class=\"atoms\">\n",
       "                    <div class=\"word  \" ><div class=\"h\"><a target=\"_blank\" href=\"https://shebanq.ancient-data.org/hebrew/word?version=2017&amp;id=1L\" title=\"show this lexeme in SHEBANQ\">לְ</a></div><div class=\"features\"> <span class=\"pdp\"><a href=\"https://shebanq.ancient-data.org/hebrew/text?book=Genesis&amp;chapter=28&amp;verse=4&amp;version=2017&amp;mr=m&amp;qw=q&amp;tp=txt_p&amp;tr=hb&amp;wget=v&amp;qget=v&amp;nget=vt\" title=\"Genesis 28:4\" sec=\"Genesis 28:4\">prep</a></span> <span class=\"gloss\">to</span> <span class=\"lex xft\"><span class=\"f\">lex=</span>L</span></div></div><div class=\"word  \" ><div class=\"h\"><a target=\"_blank\" href=\"https://shebanq.ancient-data.org/hebrew/word?version=2017&amp;id=1JRCv\" title=\"show this lexeme in SHEBANQ\">רִשְׁתְּךָ֙ </a></div><div class=\"features\"> <span class=\"pdp\"><a href=\"https://shebanq.ancient-data.org/hebrew/text?book=Genesis&amp;chapter=28&amp;verse=4&amp;version=2017&amp;mr=m&amp;qw=q&amp;tp=txt_p&amp;tr=hb&amp;wget=v&amp;qget=v&amp;nget=vt\" title=\"Genesis 28:4\" sec=\"Genesis 28:4\">verb</a></span> <span class=\"gloss\">trample down</span> <span class=\"vs\">qal</span> <span class=\"vt\">infc</span> <span class=\"lex xft\"><span class=\"f\">lex=</span>JRC[</span></div></div></div></div><div class=\"patom  \" >\n",
       "        <div class=\"phrase \" >\n",
       "            <a href=\"https://shebanq.ancient-data.org/hebrew/text?book=Genesis&amp;chapter=28&amp;verse=4&amp;version=2017&amp;mr=m&amp;qw=q&amp;tp=txt_p&amp;tr=hb&amp;wget=v&amp;qget=v&amp;nget=vt\" title=\"Genesis 28:4\" sec=\"Genesis 28:4\">phrase</a>   <span class=\"function\">Objc</span> <span class=\"typ\">PP</span>\n",
       "        </div>\n",
       "        <div class=\"atoms\">\n",
       "                    <div class=\"word  \" ><div class=\"h\"><a target=\"_blank\" href=\"https://shebanq.ancient-data.org/hebrew/word?version=2017&amp;id=1AT\" title=\"show this lexeme in SHEBANQ\">אֶת־</a></div><div class=\"features\"> <span class=\"pdp\"><a href=\"https://shebanq.ancient-data.org/hebrew/text?book=Genesis&amp;chapter=28&amp;verse=4&amp;version=2017&amp;mr=m&amp;qw=q&amp;tp=txt_p&amp;tr=hb&amp;wget=v&amp;qget=v&amp;nget=vt\" title=\"Genesis 28:4\" sec=\"Genesis 28:4\">prep</a></span> <span class=\"gloss\">&lt;object marker></span> <span class=\"lex xft\"><span class=\"f\">lex=</span>>T</span></div></div><div class=\"word  \" ><div class=\"h\"><a target=\"_blank\" href=\"https://shebanq.ancient-data.org/hebrew/word?version=2017&amp;id=1ARYn\" title=\"show this lexeme in SHEBANQ\">אֶ֣רֶץ </a></div><div class=\"features\"> <span class=\"pdp\"><a href=\"https://shebanq.ancient-data.org/hebrew/text?book=Genesis&amp;chapter=28&amp;verse=4&amp;version=2017&amp;mr=m&amp;qw=q&amp;tp=txt_p&amp;tr=hb&amp;wget=v&amp;qget=v&amp;nget=vt\" title=\"Genesis 28:4\" sec=\"Genesis 28:4\">subs</a></span> <span class=\"gloss\">earth</span> <span class=\"lex xft\"><span class=\"f\">lex=</span>>RY/</span></div></div><div class=\"word  \" ><div class=\"h\"><a target=\"_blank\" href=\"https://shebanq.ancient-data.org/hebrew/word?version=2017&amp;id=1MGWRJMn\" title=\"show this lexeme in SHEBANQ\">מְגֻרֶ֔יךָ </a></div><div class=\"features\"> <span class=\"pdp\"><a href=\"https://shebanq.ancient-data.org/hebrew/text?book=Genesis&amp;chapter=28&amp;verse=4&amp;version=2017&amp;mr=m&amp;qw=q&amp;tp=txt_p&amp;tr=hb&amp;wget=v&amp;qget=v&amp;nget=vt\" title=\"Genesis 28:4\" sec=\"Genesis 28:4\">subs</a></span> <span class=\"gloss\">neighbourhood</span> <span class=\"lex xft\"><span class=\"f\">lex=</span>MGWRJM/</span></div></div></div></div></div></div><div class=\"catom  \" >\n",
       "        <div class=\"clause \" >\n",
       "            <a href=\"https://shebanq.ancient-data.org/hebrew/text?book=Genesis&amp;chapter=28&amp;verse=4&amp;version=2017&amp;mr=m&amp;qw=q&amp;tp=txt_p&amp;tr=hb&amp;wget=v&amp;qget=v&amp;nget=vt\" title=\"Genesis 28:4\" sec=\"Genesis 28:4\">clause</a>   <span class=\"rela\">Attr</span> <span class=\"typ\">xQtX</span>\n",
       "        </div>\n",
       "        <div class=\"atoms\">\n",
       "                    <div class=\"patom  \" >\n",
       "        <div class=\"phrase \" >\n",
       "            <a href=\"https://shebanq.ancient-data.org/hebrew/text?book=Genesis&amp;chapter=28&amp;verse=4&amp;version=2017&amp;mr=m&amp;qw=q&amp;tp=txt_p&amp;tr=hb&amp;wget=v&amp;qget=v&amp;nget=vt\" title=\"Genesis 28:4\" sec=\"Genesis 28:4\">phrase</a>   <span class=\"function\">Rela</span> <span class=\"typ\">CP</span>\n",
       "        </div>\n",
       "        <div class=\"atoms\">\n",
       "                    <div class=\"word  \" ><div class=\"h\"><a target=\"_blank\" href=\"https://shebanq.ancient-data.org/hebrew/word?version=2017&amp;id=1ACR\" title=\"show this lexeme in SHEBANQ\">אֲשֶׁר־</a></div><div class=\"features\"> <span class=\"pdp\"><a href=\"https://shebanq.ancient-data.org/hebrew/text?book=Genesis&amp;chapter=28&amp;verse=4&amp;version=2017&amp;mr=m&amp;qw=q&amp;tp=txt_p&amp;tr=hb&amp;wget=v&amp;qget=v&amp;nget=vt\" title=\"Genesis 28:4\" sec=\"Genesis 28:4\">conj</a></span> <span class=\"gloss\">&lt;relative></span> <span class=\"lex xft\"><span class=\"f\">lex=</span>>CR</span></div></div></div></div><div class=\"patom  \" >\n",
       "        <div class=\"phrase \" >\n",
       "            <a href=\"https://shebanq.ancient-data.org/hebrew/text?book=Genesis&amp;chapter=28&amp;verse=4&amp;version=2017&amp;mr=m&amp;qw=q&amp;tp=txt_p&amp;tr=hb&amp;wget=v&amp;qget=v&amp;nget=vt\" title=\"Genesis 28:4\" sec=\"Genesis 28:4\">phrase</a>   <span class=\"function\">Pred</span> <span class=\"typ\">VP</span>\n",
       "        </div>\n",
       "        <div class=\"atoms\">\n",
       "                    <div class=\"word  \" ><div class=\"h\"><a target=\"_blank\" href=\"https://shebanq.ancient-data.org/hebrew/word?version=2017&amp;id=1NTNv\" title=\"show this lexeme in SHEBANQ\">נָתַ֥ן </a></div><div class=\"features\"> <span class=\"pdp\"><a href=\"https://shebanq.ancient-data.org/hebrew/text?book=Genesis&amp;chapter=28&amp;verse=4&amp;version=2017&amp;mr=m&amp;qw=q&amp;tp=txt_p&amp;tr=hb&amp;wget=v&amp;qget=v&amp;nget=vt\" title=\"Genesis 28:4\" sec=\"Genesis 28:4\">verb</a></span> <span class=\"gloss\">give</span> <span class=\"vs\">qal</span> <span class=\"vt\">perf</span> <span class=\"lex xft\"><span class=\"f\">lex=</span>NTN[</span></div></div></div></div><div class=\"patom  \" >\n",
       "        <div class=\"phrase \" >\n",
       "            <a href=\"https://shebanq.ancient-data.org/hebrew/text?book=Genesis&amp;chapter=28&amp;verse=4&amp;version=2017&amp;mr=m&amp;qw=q&amp;tp=txt_p&amp;tr=hb&amp;wget=v&amp;qget=v&amp;nget=vt\" title=\"Genesis 28:4\" sec=\"Genesis 28:4\">phrase</a>   <span class=\"function\">Subj</span> <span class=\"typ\">NP</span>\n",
       "        </div>\n",
       "        <div class=\"atoms\">\n",
       "                    <div class=\"word  \" ><div class=\"h\"><a target=\"_blank\" href=\"https://shebanq.ancient-data.org/hebrew/word?version=2017&amp;id=1ALHJMn\" title=\"show this lexeme in SHEBANQ\">אֱלֹהִ֖ים </a></div><div class=\"features\"> <span class=\"pdp\"><a href=\"https://shebanq.ancient-data.org/hebrew/text?book=Genesis&amp;chapter=28&amp;verse=4&amp;version=2017&amp;mr=m&amp;qw=q&amp;tp=txt_p&amp;tr=hb&amp;wget=v&amp;qget=v&amp;nget=vt\" title=\"Genesis 28:4\" sec=\"Genesis 28:4\">subs</a></span> <span class=\"gloss\">god(s)</span> <span class=\"lex xft\"><span class=\"f\">lex=</span>>LHJM/</span></div></div></div></div><div class=\"patom  \" >\n",
       "        <div class=\"phrase \" >\n",
       "            <a href=\"https://shebanq.ancient-data.org/hebrew/text?book=Genesis&amp;chapter=28&amp;verse=4&amp;version=2017&amp;mr=m&amp;qw=q&amp;tp=txt_p&amp;tr=hb&amp;wget=v&amp;qget=v&amp;nget=vt\" title=\"Genesis 28:4\" sec=\"Genesis 28:4\">phrase</a>   <span class=\"function\">Cmpl</span> <span class=\"typ\">PP</span>\n",
       "        </div>\n",
       "        <div class=\"atoms\">\n",
       "                    <div class=\"word  \" ><div class=\"h\"><a target=\"_blank\" href=\"https://shebanq.ancient-data.org/hebrew/word?version=2017&amp;id=1L\" title=\"show this lexeme in SHEBANQ\">לְ</a></div><div class=\"features\"> <span class=\"pdp\"><a href=\"https://shebanq.ancient-data.org/hebrew/text?book=Genesis&amp;chapter=28&amp;verse=4&amp;version=2017&amp;mr=m&amp;qw=q&amp;tp=txt_p&amp;tr=hb&amp;wget=v&amp;qget=v&amp;nget=vt\" title=\"Genesis 28:4\" sec=\"Genesis 28:4\">prep</a></span> <span class=\"gloss\">to</span> <span class=\"lex xft\"><span class=\"f\">lex=</span>L</span></div></div><div class=\"word  \" ><div class=\"h\"><a target=\"_blank\" href=\"https://shebanq.ancient-data.org/hebrew/word?version=2017&amp;id=1ABRHMn\" title=\"show this lexeme in SHEBANQ\">אַבְרָהָֽם׃ </a></div><div class=\"features\"> <span class=\"pdp\"><a href=\"https://shebanq.ancient-data.org/hebrew/text?book=Genesis&amp;chapter=28&amp;verse=4&amp;version=2017&amp;mr=m&amp;qw=q&amp;tp=txt_p&amp;tr=hb&amp;wget=v&amp;qget=v&amp;nget=vt\" title=\"Genesis 28:4\" sec=\"Genesis 28:4\">nmpr</a></span> <span class=\"gloss\">Abraham</span> <span class=\"lex xft\"><span class=\"f\">lex=</span>>BRHM/</span></div></div></div></div></div></div></div></div></div></div>"
      ],
      "text/plain": [
       "<IPython.core.display.HTML object>"
      ]
     },
     "metadata": {},
     "output_type": "display_data"
    },
    {
     "data": {
      "text/html": [
       "<p><b>result</b> <i>3</i></p>"
      ],
      "text/plain": [
       "<IPython.core.display.HTML object>"
      ]
     },
     "metadata": {},
     "output_type": "display_data"
    },
    {
     "data": {
      "text/html": [
       "<div class=\"outeritem\"><div class=\"verse  \" >\n",
       "    <div class=\"vl\">\n",
       "        <div class=\"vrs\"><a href=\"https://shebanq.ancient-data.org/hebrew/text?book=Genesis&amp;chapter=31&amp;verse=16&amp;version=2017&amp;mr=m&amp;qw=q&amp;tp=txt_p&amp;tr=hb&amp;wget=v&amp;qget=v&amp;nget=vt\" title=\"show this passage in SHEBANQ\" sec=\"Genesis 31:16\">Genesis 31:16</a></div>\n",
       "        \n",
       "    </div>\n",
       "<div class=\"satom  \" >\n",
       "        <div class=\"sentence \" >\n",
       "            <a href=\"https://shebanq.ancient-data.org/hebrew/text?book=Genesis&amp;chapter=31&amp;verse=16&amp;version=2017&amp;mr=m&amp;qw=q&amp;tp=txt_p&amp;tr=hb&amp;wget=v&amp;qget=v&amp;nget=vt\" title=\"Genesis 31:16\" sec=\"Genesis 31:16\">sentence</a>   <span class=\"number\">49|2625</span>\n",
       "        </div>\n",
       "        <div class=\"atoms\">\n",
       "                    <div class=\"catom  \" >\n",
       "        <div class=\"clause \" >\n",
       "            <a href=\"https://shebanq.ancient-data.org/hebrew/text?book=Genesis&amp;chapter=31&amp;verse=16&amp;version=2017&amp;mr=m&amp;qw=q&amp;tp=txt_p&amp;tr=hb&amp;wget=v&amp;qget=v&amp;nget=vt\" title=\"Genesis 31:16\" sec=\"Genesis 31:16\">clause</a>   <span class=\"typ\">CPen</span>\n",
       "        </div>\n",
       "        <div class=\"atoms\">\n",
       "                    <div class=\"patom  \" >\n",
       "        <div class=\"phrase \" >\n",
       "            <a href=\"https://shebanq.ancient-data.org/hebrew/text?book=Genesis&amp;chapter=31&amp;verse=16&amp;version=2017&amp;mr=m&amp;qw=q&amp;tp=txt_p&amp;tr=hb&amp;wget=v&amp;qget=v&amp;nget=vt\" title=\"Genesis 31:16\" sec=\"Genesis 31:16\">phrase</a>   <span class=\"function\">Conj</span> <span class=\"typ\">CP</span>\n",
       "        </div>\n",
       "        <div class=\"atoms\">\n",
       "                    <div class=\"word  \" ><div class=\"h\"><a target=\"_blank\" href=\"https://shebanq.ancient-data.org/hebrew/word?version=2017&amp;id=1KJ\" title=\"show this lexeme in SHEBANQ\">כִּ֣י </a></div><div class=\"features\"> <span class=\"pdp\"><a href=\"https://shebanq.ancient-data.org/hebrew/text?book=Genesis&amp;chapter=31&amp;verse=16&amp;version=2017&amp;mr=m&amp;qw=q&amp;tp=txt_p&amp;tr=hb&amp;wget=v&amp;qget=v&amp;nget=vt\" title=\"Genesis 31:16\" sec=\"Genesis 31:16\">conj</a></span> <span class=\"gloss\">that</span> <span class=\"lex xft\"><span class=\"f\">lex=</span>KJ</span></div></div></div></div><div class=\"patom  \" >\n",
       "        <div class=\"phrase \" >\n",
       "            <a href=\"https://shebanq.ancient-data.org/hebrew/text?book=Genesis&amp;chapter=31&amp;verse=16&amp;version=2017&amp;mr=m&amp;qw=q&amp;tp=txt_p&amp;tr=hb&amp;wget=v&amp;qget=v&amp;nget=vt\" title=\"Genesis 31:16\" sec=\"Genesis 31:16\">phrase</a>   <span class=\"function\">Frnt</span> <span class=\"typ\">NP</span>\n",
       "        </div>\n",
       "        <div class=\"atoms\">\n",
       "                    <div class=\"word  \" ><div class=\"h\"><a target=\"_blank\" href=\"https://shebanq.ancient-data.org/hebrew/word?version=2017&amp;id=1KLn\" title=\"show this lexeme in SHEBANQ\">כָל־</a></div><div class=\"features\"> <span class=\"pdp\"><a href=\"https://shebanq.ancient-data.org/hebrew/text?book=Genesis&amp;chapter=31&amp;verse=16&amp;version=2017&amp;mr=m&amp;qw=q&amp;tp=txt_p&amp;tr=hb&amp;wget=v&amp;qget=v&amp;nget=vt\" title=\"Genesis 31:16\" sec=\"Genesis 31:16\">subs</a></span> <span class=\"gloss\">whole</span> <span class=\"lex xft\"><span class=\"f\">lex=</span>KL/</span></div></div><div class=\"word  \" ><div class=\"h\"><a target=\"_blank\" href=\"https://shebanq.ancient-data.org/hebrew/word?version=2017&amp;id=1H\" title=\"show this lexeme in SHEBANQ\">הָ</a></div><div class=\"features\"> <span class=\"pdp\"><a href=\"https://shebanq.ancient-data.org/hebrew/text?book=Genesis&amp;chapter=31&amp;verse=16&amp;version=2017&amp;mr=m&amp;qw=q&amp;tp=txt_p&amp;tr=hb&amp;wget=v&amp;qget=v&amp;nget=vt\" title=\"Genesis 31:16\" sec=\"Genesis 31:16\">art</a></span> <span class=\"gloss\">the</span> <span class=\"lex xft\"><span class=\"f\">lex=</span>H</span></div></div><div class=\"word  \" ><div class=\"h\"><a target=\"_blank\" href=\"https://shebanq.ancient-data.org/hebrew/word?version=2017&amp;id=1OCRn\" title=\"show this lexeme in SHEBANQ\">עֹ֗שֶׁר </a></div><div class=\"features\"> <span class=\"pdp\"><a href=\"https://shebanq.ancient-data.org/hebrew/text?book=Genesis&amp;chapter=31&amp;verse=16&amp;version=2017&amp;mr=m&amp;qw=q&amp;tp=txt_p&amp;tr=hb&amp;wget=v&amp;qget=v&amp;nget=vt\" title=\"Genesis 31:16\" sec=\"Genesis 31:16\">subs</a></span> <span class=\"gloss\">riches</span> <span class=\"lex xft\"><span class=\"f\">lex=</span>&lt;CR/</span></div></div></div></div></div></div><div class=\"catom  \" >\n",
       "        <div class=\"clause \" >\n",
       "            <a href=\"https://shebanq.ancient-data.org/hebrew/text?book=Genesis&amp;chapter=31&amp;verse=16&amp;version=2017&amp;mr=m&amp;qw=q&amp;tp=txt_p&amp;tr=hb&amp;wget=v&amp;qget=v&amp;nget=vt\" title=\"Genesis 31:16\" sec=\"Genesis 31:16\">clause</a>   <span class=\"rela\">Attr</span> <span class=\"typ\">xQtX</span>\n",
       "        </div>\n",
       "        <div class=\"atoms\">\n",
       "                    <div class=\"patom  \" >\n",
       "        <div class=\"phrase \" >\n",
       "            <a href=\"https://shebanq.ancient-data.org/hebrew/text?book=Genesis&amp;chapter=31&amp;verse=16&amp;version=2017&amp;mr=m&amp;qw=q&amp;tp=txt_p&amp;tr=hb&amp;wget=v&amp;qget=v&amp;nget=vt\" title=\"Genesis 31:16\" sec=\"Genesis 31:16\">phrase</a>   <span class=\"function\">Rela</span> <span class=\"typ\">CP</span>\n",
       "        </div>\n",
       "        <div class=\"atoms\">\n",
       "                    <div class=\"word  \" ><div class=\"h\"><a target=\"_blank\" href=\"https://shebanq.ancient-data.org/hebrew/word?version=2017&amp;id=1ACR\" title=\"show this lexeme in SHEBANQ\">אֲשֶׁ֨ר </a></div><div class=\"features\"> <span class=\"pdp\"><a href=\"https://shebanq.ancient-data.org/hebrew/text?book=Genesis&amp;chapter=31&amp;verse=16&amp;version=2017&amp;mr=m&amp;qw=q&amp;tp=txt_p&amp;tr=hb&amp;wget=v&amp;qget=v&amp;nget=vt\" title=\"Genesis 31:16\" sec=\"Genesis 31:16\">conj</a></span> <span class=\"gloss\">&lt;relative></span> <span class=\"lex xft\"><span class=\"f\">lex=</span>>CR</span></div></div></div></div><div class=\"patom  \" >\n",
       "        <div class=\"phrase \" >\n",
       "            <a href=\"https://shebanq.ancient-data.org/hebrew/text?book=Genesis&amp;chapter=31&amp;verse=16&amp;version=2017&amp;mr=m&amp;qw=q&amp;tp=txt_p&amp;tr=hb&amp;wget=v&amp;qget=v&amp;nget=vt\" title=\"Genesis 31:16\" sec=\"Genesis 31:16\">phrase</a>   <span class=\"function\">Pred</span> <span class=\"typ\">VP</span>\n",
       "        </div>\n",
       "        <div class=\"atoms\">\n",
       "                    <div class=\"word  \" ><div class=\"h\"><a target=\"_blank\" href=\"https://shebanq.ancient-data.org/hebrew/word?version=2017&amp;id=1NYLv\" title=\"show this lexeme in SHEBANQ\">הִצִּ֤יל </a></div><div class=\"features\"> <span class=\"pdp\"><a href=\"https://shebanq.ancient-data.org/hebrew/text?book=Genesis&amp;chapter=31&amp;verse=16&amp;version=2017&amp;mr=m&amp;qw=q&amp;tp=txt_p&amp;tr=hb&amp;wget=v&amp;qget=v&amp;nget=vt\" title=\"Genesis 31:16\" sec=\"Genesis 31:16\">verb</a></span> <span class=\"gloss\">deliver</span> <span class=\"vs\">hif</span> <span class=\"vt\">perf</span> <span class=\"lex xft\"><span class=\"f\">lex=</span>NYL[</span></div></div></div></div><div class=\"patom  \" >\n",
       "        <div class=\"phrase \" >\n",
       "            <a href=\"https://shebanq.ancient-data.org/hebrew/text?book=Genesis&amp;chapter=31&amp;verse=16&amp;version=2017&amp;mr=m&amp;qw=q&amp;tp=txt_p&amp;tr=hb&amp;wget=v&amp;qget=v&amp;nget=vt\" title=\"Genesis 31:16\" sec=\"Genesis 31:16\">phrase</a>   <span class=\"function\">Subj</span> <span class=\"typ\">NP</span>\n",
       "        </div>\n",
       "        <div class=\"atoms\">\n",
       "                    <div class=\"word  \" ><div class=\"h\"><a target=\"_blank\" href=\"https://shebanq.ancient-data.org/hebrew/word?version=2017&amp;id=1ALHJMn\" title=\"show this lexeme in SHEBANQ\">אֱלֹהִים֙ </a></div><div class=\"features\"> <span class=\"pdp\"><a href=\"https://shebanq.ancient-data.org/hebrew/text?book=Genesis&amp;chapter=31&amp;verse=16&amp;version=2017&amp;mr=m&amp;qw=q&amp;tp=txt_p&amp;tr=hb&amp;wget=v&amp;qget=v&amp;nget=vt\" title=\"Genesis 31:16\" sec=\"Genesis 31:16\">subs</a></span> <span class=\"gloss\">god(s)</span> <span class=\"lex xft\"><span class=\"f\">lex=</span>>LHJM/</span></div></div></div></div><div class=\"patom  \" >\n",
       "        <div class=\"phrase \" >\n",
       "            <a href=\"https://shebanq.ancient-data.org/hebrew/text?book=Genesis&amp;chapter=31&amp;verse=16&amp;version=2017&amp;mr=m&amp;qw=q&amp;tp=txt_p&amp;tr=hb&amp;wget=v&amp;qget=v&amp;nget=vt\" title=\"Genesis 31:16\" sec=\"Genesis 31:16\">phrase</a>   <span class=\"function\">Cmpl</span> <span class=\"typ\">PP</span>\n",
       "        </div>\n",
       "        <div class=\"atoms\">\n",
       "                    <div class=\"word  \" ><div class=\"h\"><a target=\"_blank\" href=\"https://shebanq.ancient-data.org/hebrew/word?version=2017&amp;id=1MN\" title=\"show this lexeme in SHEBANQ\">מֵֽ</a></div><div class=\"features\"> <span class=\"pdp\"><a href=\"https://shebanq.ancient-data.org/hebrew/text?book=Genesis&amp;chapter=31&amp;verse=16&amp;version=2017&amp;mr=m&amp;qw=q&amp;tp=txt_p&amp;tr=hb&amp;wget=v&amp;qget=v&amp;nget=vt\" title=\"Genesis 31:16\" sec=\"Genesis 31:16\">prep</a></span> <span class=\"gloss\">from</span> <span class=\"lex xft\"><span class=\"f\">lex=</span>MN</span></div></div><div class=\"word  \" ><div class=\"h\"><a target=\"_blank\" href=\"https://shebanq.ancient-data.org/hebrew/word?version=2017&amp;id=1ABn\" title=\"show this lexeme in SHEBANQ\">אָבִ֔ינוּ </a></div><div class=\"features\"> <span class=\"pdp\"><a href=\"https://shebanq.ancient-data.org/hebrew/text?book=Genesis&amp;chapter=31&amp;verse=16&amp;version=2017&amp;mr=m&amp;qw=q&amp;tp=txt_p&amp;tr=hb&amp;wget=v&amp;qget=v&amp;nget=vt\" title=\"Genesis 31:16\" sec=\"Genesis 31:16\">subs</a></span> <span class=\"gloss\">father</span> <span class=\"lex xft\"><span class=\"f\">lex=</span>>B/</span></div></div></div></div></div></div><div class=\"catom  \" >\n",
       "        <div class=\"clause \" >\n",
       "            <a href=\"https://shebanq.ancient-data.org/hebrew/text?book=Genesis&amp;chapter=31&amp;verse=16&amp;version=2017&amp;mr=m&amp;qw=q&amp;tp=txt_p&amp;tr=hb&amp;wget=v&amp;qget=v&amp;nget=vt\" title=\"Genesis 31:16\" sec=\"Genesis 31:16\">clause</a>   <span class=\"rela\">Resu</span> <span class=\"typ\">NmCl</span>\n",
       "        </div>\n",
       "        <div class=\"atoms\">\n",
       "                    <div class=\"patom  l hl\"  style=\"background-color: aqua;\" >\n",
       "        <div class=\"phrase hl\"  style=\"background-color: aqua;\" >\n",
       "            <a href=\"https://shebanq.ancient-data.org/hebrew/text?book=Genesis&amp;chapter=31&amp;verse=16&amp;version=2017&amp;mr=m&amp;qw=q&amp;tp=txt_p&amp;tr=hb&amp;wget=v&amp;qget=v&amp;nget=vt\" title=\"Genesis 31:16\" sec=\"Genesis 31:16\">phrase</a>   <span class=\"function\">PreC</span> <span class=\"typ\">PP</span>\n",
       "        </div>\n",
       "        <div class=\"atoms\">\n",
       "                    <div class=\"word  hl\"  style=\"background-color: yellow;\" ><div class=\"h\"><a target=\"_blank\" href=\"https://shebanq.ancient-data.org/hebrew/word?version=2017&amp;id=1L\" title=\"show this lexeme in SHEBANQ\">לָ֥נוּ </a></div><div class=\"features\"> <span class=\"pdp\"><a href=\"https://shebanq.ancient-data.org/hebrew/text?book=Genesis&amp;chapter=31&amp;verse=16&amp;version=2017&amp;mr=m&amp;qw=q&amp;tp=txt_p&amp;tr=hb&amp;wget=v&amp;qget=v&amp;nget=vt\" title=\"Genesis 31:16\" sec=\"Genesis 31:16\">prep</a></span> <span class=\"gloss\">to</span> <span class=\"lex xft\"><span class=\"f\">lex=</span>L</span></div></div></div></div><div class=\"patom  \" >\n",
       "        <div class=\"phrase \" >\n",
       "            <a href=\"https://shebanq.ancient-data.org/hebrew/text?book=Genesis&amp;chapter=31&amp;verse=16&amp;version=2017&amp;mr=m&amp;qw=q&amp;tp=txt_p&amp;tr=hb&amp;wget=v&amp;qget=v&amp;nget=vt\" title=\"Genesis 31:16\" sec=\"Genesis 31:16\">phrase</a>   <span class=\"function\">Subj</span> <span class=\"typ\">PPrP</span>\n",
       "        </div>\n",
       "        <div class=\"atoms\">\n",
       "                    <div class=\"word  hl\"  style=\"background-color: magenta;\" ><div class=\"h\"><a target=\"_blank\" href=\"https://shebanq.ancient-data.org/hebrew/word?version=2017&amp;id=1HWA\" title=\"show this lexeme in SHEBANQ\">ה֖וּא </a></div><div class=\"features\"> <span class=\"pdp\"><a href=\"https://shebanq.ancient-data.org/hebrew/text?book=Genesis&amp;chapter=31&amp;verse=16&amp;version=2017&amp;mr=m&amp;qw=q&amp;tp=txt_p&amp;tr=hb&amp;wget=v&amp;qget=v&amp;nget=vt\" title=\"Genesis 31:16\" sec=\"Genesis 31:16\">prps</a></span> <span class=\"gloss\">he</span> <span class=\"lex xft\"><span class=\"f\">lex=</span>HW></span></div></div></div></div><div class=\"patom  r l hl\"  style=\"background-color: aqua;\" >\n",
       "        <div class=\"phrase hl\"  style=\"background-color: aqua;\" >\n",
       "            <a href=\"https://shebanq.ancient-data.org/hebrew/text?book=Genesis&amp;chapter=31&amp;verse=16&amp;version=2017&amp;mr=m&amp;qw=q&amp;tp=txt_p&amp;tr=hb&amp;wget=v&amp;qget=v&amp;nget=vt\" title=\"Genesis 31:16\" sec=\"Genesis 31:16\">phrase</a>   <span class=\"function\">PreC</span> <span class=\"typ\">PP|CP</span>\n",
       "        </div>\n",
       "        <div class=\"atoms\">\n",
       "                    <div class=\"word  \" ><div class=\"h\"><a target=\"_blank\" href=\"https://shebanq.ancient-data.org/hebrew/word?version=2017&amp;id=1W\" title=\"show this lexeme in SHEBANQ\">וּ</a></div><div class=\"features\"> <span class=\"pdp\"><a href=\"https://shebanq.ancient-data.org/hebrew/text?book=Genesis&amp;chapter=31&amp;verse=16&amp;version=2017&amp;mr=m&amp;qw=q&amp;tp=txt_p&amp;tr=hb&amp;wget=v&amp;qget=v&amp;nget=vt\" title=\"Genesis 31:16\" sec=\"Genesis 31:16\">conj</a></span> <span class=\"gloss\">and</span> <span class=\"lex xft\"><span class=\"f\">lex=</span>W</span></div></div></div></div><div class=\"patom  r hl\"  style=\"background-color: aqua;\" >\n",
       "        <div class=\"phrase hl\"  style=\"background-color: aqua;\" >\n",
       "            <a href=\"https://shebanq.ancient-data.org/hebrew/text?book=Genesis&amp;chapter=31&amp;verse=16&amp;version=2017&amp;mr=m&amp;qw=q&amp;tp=txt_p&amp;tr=hb&amp;wget=v&amp;qget=v&amp;nget=vt\" title=\"Genesis 31:16\" sec=\"Genesis 31:16\">phrase</a>   <span class=\"function\">PreC</span> <span class=\"typ\">PP</span>\n",
       "        </div>\n",
       "        <div class=\"atoms\">\n",
       "                    <div class=\"word  \" ><div class=\"h\"><a target=\"_blank\" href=\"https://shebanq.ancient-data.org/hebrew/word?version=2017&amp;id=1L\" title=\"show this lexeme in SHEBANQ\">לְ</a></div><div class=\"features\"> <span class=\"pdp\"><a href=\"https://shebanq.ancient-data.org/hebrew/text?book=Genesis&amp;chapter=31&amp;verse=16&amp;version=2017&amp;mr=m&amp;qw=q&amp;tp=txt_p&amp;tr=hb&amp;wget=v&amp;qget=v&amp;nget=vt\" title=\"Genesis 31:16\" sec=\"Genesis 31:16\">prep</a></span> <span class=\"gloss\">to</span> <span class=\"lex xft\"><span class=\"f\">lex=</span>L</span></div></div><div class=\"word  hl\" ><div class=\"h\"><a target=\"_blank\" href=\"https://shebanq.ancient-data.org/hebrew/word?version=2017&amp;id=1BNn\" title=\"show this lexeme in SHEBANQ\">בָנֵ֑ינוּ </a></div><div class=\"features\"> <span class=\"pdp\"><a href=\"https://shebanq.ancient-data.org/hebrew/text?book=Genesis&amp;chapter=31&amp;verse=16&amp;version=2017&amp;mr=m&amp;qw=q&amp;tp=txt_p&amp;tr=hb&amp;wget=v&amp;qget=v&amp;nget=vt\" title=\"Genesis 31:16\" sec=\"Genesis 31:16\">subs</a></span> <span class=\"gloss\">son</span> <span class=\"lex xft\"><span class=\"f\">lex=</span>BN/</span></div></div></div></div></div></div></div></div><div class=\"satom  \" >\n",
       "        <div class=\"sentence \" >\n",
       "            <a href=\"https://shebanq.ancient-data.org/hebrew/text?book=Genesis&amp;chapter=31&amp;verse=16&amp;version=2017&amp;mr=m&amp;qw=q&amp;tp=txt_p&amp;tr=hb&amp;wget=v&amp;qget=v&amp;nget=vt\" title=\"Genesis 31:16\" sec=\"Genesis 31:16\">sentence</a>   <span class=\"number\">50|2626</span>\n",
       "        </div>\n",
       "        <div class=\"atoms\">\n",
       "                    <div class=\"catom  \" >\n",
       "        <div class=\"clause \" >\n",
       "            <a href=\"https://shebanq.ancient-data.org/hebrew/text?book=Genesis&amp;chapter=31&amp;verse=16&amp;version=2017&amp;mr=m&amp;qw=q&amp;tp=txt_p&amp;tr=hb&amp;wget=v&amp;qget=v&amp;nget=vt\" title=\"Genesis 31:16\" sec=\"Genesis 31:16\">clause</a>   <span class=\"typ\">MSyn</span>\n",
       "        </div>\n",
       "        <div class=\"atoms\">\n",
       "                    <div class=\"patom  \" >\n",
       "        <div class=\"phrase \" >\n",
       "            <a href=\"https://shebanq.ancient-data.org/hebrew/text?book=Genesis&amp;chapter=31&amp;verse=16&amp;version=2017&amp;mr=m&amp;qw=q&amp;tp=txt_p&amp;tr=hb&amp;wget=v&amp;qget=v&amp;nget=vt\" title=\"Genesis 31:16\" sec=\"Genesis 31:16\">phrase</a>   <span class=\"function\">Conj</span> <span class=\"typ\">CP</span>\n",
       "        </div>\n",
       "        <div class=\"atoms\">\n",
       "                    <div class=\"word  \" ><div class=\"h\"><a target=\"_blank\" href=\"https://shebanq.ancient-data.org/hebrew/word?version=2017&amp;id=1W\" title=\"show this lexeme in SHEBANQ\">וְ</a></div><div class=\"features\"> <span class=\"pdp\"><a href=\"https://shebanq.ancient-data.org/hebrew/text?book=Genesis&amp;chapter=31&amp;verse=16&amp;version=2017&amp;mr=m&amp;qw=q&amp;tp=txt_p&amp;tr=hb&amp;wget=v&amp;qget=v&amp;nget=vt\" title=\"Genesis 31:16\" sec=\"Genesis 31:16\">conj</a></span> <span class=\"gloss\">and</span> <span class=\"lex xft\"><span class=\"f\">lex=</span>W</span></div></div></div></div><div class=\"patom  \" >\n",
       "        <div class=\"phrase \" >\n",
       "            <a href=\"https://shebanq.ancient-data.org/hebrew/text?book=Genesis&amp;chapter=31&amp;verse=16&amp;version=2017&amp;mr=m&amp;qw=q&amp;tp=txt_p&amp;tr=hb&amp;wget=v&amp;qget=v&amp;nget=vt\" title=\"Genesis 31:16\" sec=\"Genesis 31:16\">phrase</a>   <span class=\"function\">Time</span> <span class=\"typ\">AdvP</span>\n",
       "        </div>\n",
       "        <div class=\"atoms\">\n",
       "                    <div class=\"word  \" ><div class=\"h\"><a target=\"_blank\" href=\"https://shebanq.ancient-data.org/hebrew/word?version=2017&amp;id=1OTH\" title=\"show this lexeme in SHEBANQ\">עַתָּ֗ה </a></div><div class=\"features\"> <span class=\"pdp\"><a href=\"https://shebanq.ancient-data.org/hebrew/text?book=Genesis&amp;chapter=31&amp;verse=16&amp;version=2017&amp;mr=m&amp;qw=q&amp;tp=txt_p&amp;tr=hb&amp;wget=v&amp;qget=v&amp;nget=vt\" title=\"Genesis 31:16\" sec=\"Genesis 31:16\">advb</a></span> <span class=\"gloss\">now</span> <span class=\"lex xft\"><span class=\"f\">lex=</span>&lt;TH</span></div></div></div></div></div></div></div></div><div class=\"satom  \" >\n",
       "        <div class=\"sentence \" >\n",
       "            <a href=\"https://shebanq.ancient-data.org/hebrew/text?book=Genesis&amp;chapter=31&amp;verse=16&amp;version=2017&amp;mr=m&amp;qw=q&amp;tp=txt_p&amp;tr=hb&amp;wget=v&amp;qget=v&amp;nget=vt\" title=\"Genesis 31:16\" sec=\"Genesis 31:16\">sentence</a>   <span class=\"number\">51|2627</span>\n",
       "        </div>\n",
       "        <div class=\"atoms\">\n",
       "                    <div class=\"catom  l \" >\n",
       "        <div class=\"clause \" >\n",
       "            <a href=\"https://shebanq.ancient-data.org/hebrew/text?book=Genesis&amp;chapter=31&amp;verse=16&amp;version=2017&amp;mr=m&amp;qw=q&amp;tp=txt_p&amp;tr=hb&amp;wget=v&amp;qget=v&amp;nget=vt\" title=\"Genesis 31:16\" sec=\"Genesis 31:16\">clause</a>   <span class=\"typ\">xIm0|Defc</span>\n",
       "        </div>\n",
       "        <div class=\"atoms\">\n",
       "                    <div class=\"patom  \" >\n",
       "        <div class=\"phrase \" >\n",
       "            <a href=\"https://shebanq.ancient-data.org/hebrew/text?book=Genesis&amp;chapter=31&amp;verse=16&amp;version=2017&amp;mr=m&amp;qw=q&amp;tp=txt_p&amp;tr=hb&amp;wget=v&amp;qget=v&amp;nget=vt\" title=\"Genesis 31:16\" sec=\"Genesis 31:16\">phrase</a>   <span class=\"function\">Objc</span> <span class=\"typ\">NP</span>\n",
       "        </div>\n",
       "        <div class=\"atoms\">\n",
       "                    <div class=\"word  \" ><div class=\"h\"><a target=\"_blank\" href=\"https://shebanq.ancient-data.org/hebrew/word?version=2017&amp;id=1KLn\" title=\"show this lexeme in SHEBANQ\">כֹּל֩ </a></div><div class=\"features\"> <span class=\"pdp\"><a href=\"https://shebanq.ancient-data.org/hebrew/text?book=Genesis&amp;chapter=31&amp;verse=16&amp;version=2017&amp;mr=m&amp;qw=q&amp;tp=txt_p&amp;tr=hb&amp;wget=v&amp;qget=v&amp;nget=vt\" title=\"Genesis 31:16\" sec=\"Genesis 31:16\">subs</a></span> <span class=\"gloss\">whole</span> <span class=\"lex xft\"><span class=\"f\">lex=</span>KL/</span></div></div></div></div></div></div><div class=\"catom  \" >\n",
       "        <div class=\"clause \" >\n",
       "            <a href=\"https://shebanq.ancient-data.org/hebrew/text?book=Genesis&amp;chapter=31&amp;verse=16&amp;version=2017&amp;mr=m&amp;qw=q&amp;tp=txt_p&amp;tr=hb&amp;wget=v&amp;qget=v&amp;nget=vt\" title=\"Genesis 31:16\" sec=\"Genesis 31:16\">clause</a>   <span class=\"rela\">Attr</span> <span class=\"typ\">xQtX</span>\n",
       "        </div>\n",
       "        <div class=\"atoms\">\n",
       "                    <div class=\"patom  \" >\n",
       "        <div class=\"phrase \" >\n",
       "            <a href=\"https://shebanq.ancient-data.org/hebrew/text?book=Genesis&amp;chapter=31&amp;verse=16&amp;version=2017&amp;mr=m&amp;qw=q&amp;tp=txt_p&amp;tr=hb&amp;wget=v&amp;qget=v&amp;nget=vt\" title=\"Genesis 31:16\" sec=\"Genesis 31:16\">phrase</a>   <span class=\"function\">Rela</span> <span class=\"typ\">CP</span>\n",
       "        </div>\n",
       "        <div class=\"atoms\">\n",
       "                    <div class=\"word  \" ><div class=\"h\"><a target=\"_blank\" href=\"https://shebanq.ancient-data.org/hebrew/word?version=2017&amp;id=1ACR\" title=\"show this lexeme in SHEBANQ\">אֲשֶׁ֨ר </a></div><div class=\"features\"> <span class=\"pdp\"><a href=\"https://shebanq.ancient-data.org/hebrew/text?book=Genesis&amp;chapter=31&amp;verse=16&amp;version=2017&amp;mr=m&amp;qw=q&amp;tp=txt_p&amp;tr=hb&amp;wget=v&amp;qget=v&amp;nget=vt\" title=\"Genesis 31:16\" sec=\"Genesis 31:16\">conj</a></span> <span class=\"gloss\">&lt;relative></span> <span class=\"lex xft\"><span class=\"f\">lex=</span>>CR</span></div></div></div></div><div class=\"patom  \" >\n",
       "        <div class=\"phrase \" >\n",
       "            <a href=\"https://shebanq.ancient-data.org/hebrew/text?book=Genesis&amp;chapter=31&amp;verse=16&amp;version=2017&amp;mr=m&amp;qw=q&amp;tp=txt_p&amp;tr=hb&amp;wget=v&amp;qget=v&amp;nget=vt\" title=\"Genesis 31:16\" sec=\"Genesis 31:16\">phrase</a>   <span class=\"function\">Pred</span> <span class=\"typ\">VP</span>\n",
       "        </div>\n",
       "        <div class=\"atoms\">\n",
       "                    <div class=\"word  \" ><div class=\"h\"><a target=\"_blank\" href=\"https://shebanq.ancient-data.org/hebrew/word?version=2017&amp;id=1AMRv\" title=\"show this lexeme in SHEBANQ\">אָמַ֧ר </a></div><div class=\"features\"> <span class=\"pdp\"><a href=\"https://shebanq.ancient-data.org/hebrew/text?book=Genesis&amp;chapter=31&amp;verse=16&amp;version=2017&amp;mr=m&amp;qw=q&amp;tp=txt_p&amp;tr=hb&amp;wget=v&amp;qget=v&amp;nget=vt\" title=\"Genesis 31:16\" sec=\"Genesis 31:16\">verb</a></span> <span class=\"gloss\">say</span> <span class=\"vs\">qal</span> <span class=\"vt\">perf</span> <span class=\"lex xft\"><span class=\"f\">lex=</span>>MR[</span></div></div></div></div><div class=\"patom  \" >\n",
       "        <div class=\"phrase \" >\n",
       "            <a href=\"https://shebanq.ancient-data.org/hebrew/text?book=Genesis&amp;chapter=31&amp;verse=16&amp;version=2017&amp;mr=m&amp;qw=q&amp;tp=txt_p&amp;tr=hb&amp;wget=v&amp;qget=v&amp;nget=vt\" title=\"Genesis 31:16\" sec=\"Genesis 31:16\">phrase</a>   <span class=\"function\">Subj</span> <span class=\"typ\">NP</span>\n",
       "        </div>\n",
       "        <div class=\"atoms\">\n",
       "                    <div class=\"word  \" ><div class=\"h\"><a target=\"_blank\" href=\"https://shebanq.ancient-data.org/hebrew/word?version=2017&amp;id=1ALHJMn\" title=\"show this lexeme in SHEBANQ\">אֱלֹהִ֛ים </a></div><div class=\"features\"> <span class=\"pdp\"><a href=\"https://shebanq.ancient-data.org/hebrew/text?book=Genesis&amp;chapter=31&amp;verse=16&amp;version=2017&amp;mr=m&amp;qw=q&amp;tp=txt_p&amp;tr=hb&amp;wget=v&amp;qget=v&amp;nget=vt\" title=\"Genesis 31:16\" sec=\"Genesis 31:16\">subs</a></span> <span class=\"gloss\">god(s)</span> <span class=\"lex xft\"><span class=\"f\">lex=</span>>LHJM/</span></div></div></div></div><div class=\"patom  \" >\n",
       "        <div class=\"phrase \" >\n",
       "            <a href=\"https://shebanq.ancient-data.org/hebrew/text?book=Genesis&amp;chapter=31&amp;verse=16&amp;version=2017&amp;mr=m&amp;qw=q&amp;tp=txt_p&amp;tr=hb&amp;wget=v&amp;qget=v&amp;nget=vt\" title=\"Genesis 31:16\" sec=\"Genesis 31:16\">phrase</a>   <span class=\"function\">Cmpl</span> <span class=\"typ\">PP</span>\n",
       "        </div>\n",
       "        <div class=\"atoms\">\n",
       "                    <div class=\"word  \" ><div class=\"h\"><a target=\"_blank\" href=\"https://shebanq.ancient-data.org/hebrew/word?version=2017&amp;id=1AL\" title=\"show this lexeme in SHEBANQ\">אֵלֶ֖יךָ </a></div><div class=\"features\"> <span class=\"pdp\"><a href=\"https://shebanq.ancient-data.org/hebrew/text?book=Genesis&amp;chapter=31&amp;verse=16&amp;version=2017&amp;mr=m&amp;qw=q&amp;tp=txt_p&amp;tr=hb&amp;wget=v&amp;qget=v&amp;nget=vt\" title=\"Genesis 31:16\" sec=\"Genesis 31:16\">prep</a></span> <span class=\"gloss\">to</span> <span class=\"lex xft\"><span class=\"f\">lex=</span>>L</span></div></div></div></div></div></div><div class=\"catom  r \" >\n",
       "        <div class=\"clause \" >\n",
       "            <a href=\"https://shebanq.ancient-data.org/hebrew/text?book=Genesis&amp;chapter=31&amp;verse=16&amp;version=2017&amp;mr=m&amp;qw=q&amp;tp=txt_p&amp;tr=hb&amp;wget=v&amp;qget=v&amp;nget=vt\" title=\"Genesis 31:16\" sec=\"Genesis 31:16\">clause</a>   <span class=\"typ\">xIm0|ZIm0</span>\n",
       "        </div>\n",
       "        <div class=\"atoms\">\n",
       "                    <div class=\"patom  \" >\n",
       "        <div class=\"phrase \" >\n",
       "            <a href=\"https://shebanq.ancient-data.org/hebrew/text?book=Genesis&amp;chapter=31&amp;verse=16&amp;version=2017&amp;mr=m&amp;qw=q&amp;tp=txt_p&amp;tr=hb&amp;wget=v&amp;qget=v&amp;nget=vt\" title=\"Genesis 31:16\" sec=\"Genesis 31:16\">phrase</a>   <span class=\"function\">Pred</span> <span class=\"typ\">VP</span>\n",
       "        </div>\n",
       "        <div class=\"atoms\">\n",
       "                    <div class=\"word  \" ><div class=\"h\"><a target=\"_blank\" href=\"https://shebanq.ancient-data.org/hebrew/word?version=2017&amp;id=1OFHv\" title=\"show this lexeme in SHEBANQ\">עֲשֵֽׂה׃ </a></div><div class=\"features\"> <span class=\"pdp\"><a href=\"https://shebanq.ancient-data.org/hebrew/text?book=Genesis&amp;chapter=31&amp;verse=16&amp;version=2017&amp;mr=m&amp;qw=q&amp;tp=txt_p&amp;tr=hb&amp;wget=v&amp;qget=v&amp;nget=vt\" title=\"Genesis 31:16\" sec=\"Genesis 31:16\">verb</a></span> <span class=\"gloss\">make</span> <span class=\"vs\">qal</span> <span class=\"vt\">impv</span> <span class=\"lex xft\"><span class=\"f\">lex=</span>&lt;FH[</span></div></div></div></div></div></div></div></div></div></div>"
      ],
      "text/plain": [
       "<IPython.core.display.HTML object>"
      ]
     },
     "metadata": {},
     "output_type": "display_data"
    }
   ],
   "source": [
    "A.show(results, end=3, condensed=False, colorMap={2: 'aqua', 3: 'yellow', 5: 'magenta'})"
   ]
  },
  {
   "cell_type": "markdown",
   "metadata": {},
   "source": [
    "## All gapped phrases\n",
    "\n",
    "These were particular gaps.\n",
    "Now we want to get *all* gapped phrases.\n",
    "\n",
    "We can just lift the special requirement that \n",
    "the `preGapWord` has to satisfy a special lexical condition."
   ]
  },
  {
   "cell_type": "code",
   "execution_count": 10,
   "metadata": {
    "ExecuteTime": {
     "end_time": "2018-05-24T10:09:32.685437Z",
     "start_time": "2018-05-24T10:09:32.680670Z"
    }
   },
   "outputs": [],
   "source": [
    "query = '''\n",
    "p:phrase\n",
    "  wPreGap:word\n",
    "  wLast:word\n",
    "  :=\n",
    "\n",
    "wGap:word\n",
    "wPreGap <: wGap\n",
    "wGap < wLast\n",
    "\n",
    "p || wGap\n",
    "'''"
   ]
  },
  {
   "cell_type": "code",
   "execution_count": 11,
   "metadata": {},
   "outputs": [
    {
     "name": "stdout",
     "output_type": "stream",
     "text": [
      "  2.32s 715 results\n"
     ]
    }
   ],
   "source": [
    "results = A.search(query)"
   ]
  },
  {
   "cell_type": "markdown",
   "metadata": {},
   "source": [
    "Not too bad! We could wait for it. Here are some results."
   ]
  },
  {
   "cell_type": "code",
   "execution_count": 12,
   "metadata": {},
   "outputs": [
    {
     "data": {
      "text/html": [
       "<table>\n",
       "<tr class=\"tf\">\n",
       "  <th class=\"tf\">n</th><th class=\"tf\">p</th>\n",
       "  <th class=\"tf\">phrase</th><th>word</th><th>word</th><th>word</th>\n",
       "</tr>\n",
       "\n",
       "<tr class=\"tf\"><td class=\"tf\">1</td><td class=\"tf\"> <a href=\"https://shebanq.ancient-data.org/hebrew/text?book=Genesis&amp;chapter=1&amp;verse=7&amp;version=2017&amp;mr=m&amp;qw=q&amp;tp=txt_p&amp;tr=hb&amp;wget=v&amp;qget=v&amp;nget=vt\" title=\"show this passage in SHEBANQ\" sec=\"Genesis 1:7\">Genesis 1:7</a></td><td class=\"tf\"><a href=\"https://shebanq.ancient-data.org/hebrew/text?book=Genesis&amp;chapter=1&amp;verse=7&amp;version=2017&amp;mr=m&amp;qw=q&amp;tp=txt_p&amp;tr=hb&amp;wget=v&amp;qget=v&amp;nget=vt\" title=\"Genesis 1:7\" sec=\"Genesis 1:7\"><span class=\"plain outer  rtl \"><span class=\"plain rtl  l hlbx\" ><span class=\"plain rtl  \" ><span class=\"plain rtl  \" ><span class=\"h\">בֵּ֤ין </span></span><span class=\"plain rtl  \" ><span class=\"h\">הַ</span></span><span class=\"plain rtl  hl\" ><span class=\"h\">מַּ֨יִם֙ </span></span></span></span><span class=\"plain rtl  r l hlbx\" ><span class=\"plain rtl  \" ><span class=\"plain rtl  \" ><span class=\"h\">וּ</span></span></span></span><span class=\"plain rtl  r hlbx\" ><span class=\"plain rtl  \" ><span class=\"plain rtl  \" ><span class=\"h\">בֵ֣ין </span></span><span class=\"plain rtl  \" ><span class=\"h\">הַ</span></span><span class=\"plain rtl  hl\" ><span class=\"h\">מַּ֔יִם </span></span></span></span></span></a></td><td class=\"tf\"><span class=\"plain outer  rtl  hl\" ><span class=\"h\">מַּ֨יִם֙ </span></span></td><td class=\"tf\"><span class=\"plain outer  rtl  hl\" ><span class=\"h\">מַּ֔יִם </span></span></td><td class=\"tf\"><span class=\"plain outer  rtl  hl\" ><span class=\"h\">אֲשֶׁר֙ </span></span></td></tr>\n",
       "<tr class=\"tf\"><td class=\"tf\">2</td><td class=\"tf\"> <a href=\"https://shebanq.ancient-data.org/hebrew/text?book=Genesis&amp;chapter=1&amp;verse=11&amp;version=2017&amp;mr=m&amp;qw=q&amp;tp=txt_p&amp;tr=hb&amp;wget=v&amp;qget=v&amp;nget=vt\" title=\"show this passage in SHEBANQ\" sec=\"Genesis 1:11\">Genesis 1:11</a></td><td class=\"tf\"><a href=\"https://shebanq.ancient-data.org/hebrew/text?book=Genesis&amp;chapter=1&amp;verse=11&amp;version=2017&amp;mr=m&amp;qw=q&amp;tp=txt_p&amp;tr=hb&amp;wget=v&amp;qget=v&amp;nget=vt\" title=\"Genesis 1:11\" sec=\"Genesis 1:11\"><span class=\"plain outer  rtl \"><span class=\"plain rtl  l hlbx\" ><span class=\"plain rtl  \" ><span class=\"plain rtl  \" ><span class=\"h\">דֶּ֔שֶׁא </span></span></span></span><span class=\"plain rtl  r l hlbx\" ><span class=\"plain rtl  \" ><span class=\"plain rtl  hl\" ><span class=\"h\">עֵ֚שֶׂב </span></span></span></span><span class=\"plain rtl  r hlbx\" ><span class=\"plain rtl  \" ><span class=\"plain rtl  \" ><span class=\"h\">עֵ֣ץ </span></span><span class=\"plain rtl  hl\" ><span class=\"h\">פְּרִ֞י </span></span></span></span></span></a></td><td class=\"tf\"><span class=\"plain outer  rtl  hl\" ><span class=\"h\">עֵ֚שֶׂב </span></span></td><td class=\"tf\"><span class=\"plain outer  rtl  hl\" ><span class=\"h\">פְּרִ֞י </span></span></td><td class=\"tf\"><span class=\"plain outer  rtl  hl\" ><span class=\"h\">מַזְרִ֣יעַ </span></span></td></tr>\n",
       "<tr class=\"tf\"><td class=\"tf\">3</td><td class=\"tf\"> <a href=\"https://shebanq.ancient-data.org/hebrew/text?book=Genesis&amp;chapter=1&amp;verse=12&amp;version=2017&amp;mr=m&amp;qw=q&amp;tp=txt_p&amp;tr=hb&amp;wget=v&amp;qget=v&amp;nget=vt\" title=\"show this passage in SHEBANQ\" sec=\"Genesis 1:12\">Genesis 1:12</a></td><td class=\"tf\"><a href=\"https://shebanq.ancient-data.org/hebrew/text?book=Genesis&amp;chapter=1&amp;verse=12&amp;version=2017&amp;mr=m&amp;qw=q&amp;tp=txt_p&amp;tr=hb&amp;wget=v&amp;qget=v&amp;nget=vt\" title=\"Genesis 1:12\" sec=\"Genesis 1:12\"><span class=\"plain outer  rtl \"><span class=\"plain rtl  l hlbx\" ><span class=\"plain rtl  \" ><span class=\"plain rtl  \" ><span class=\"h\">דֶּ֠שֶׁא </span></span></span></span><span class=\"plain rtl  r l hlbx\" ><span class=\"plain rtl  \" ><span class=\"plain rtl  hl\" ><span class=\"h\">עֵ֣שֶׂב </span></span></span></span><span class=\"plain rtl  r l hlbx\" ><span class=\"plain rtl  \" ><span class=\"plain rtl  \" ><span class=\"h\">וְ</span></span></span></span><span class=\"plain rtl  r hlbx\" ><span class=\"plain rtl  \" ><span class=\"plain rtl  hl\" ><span class=\"h\">עֵ֧ץ </span></span></span></span></span></a></td><td class=\"tf\"><span class=\"plain outer  rtl  hl\" ><span class=\"h\">עֵ֣שֶׂב </span></span></td><td class=\"tf\"><span class=\"plain outer  rtl  hl\" ><span class=\"h\">עֵ֧ץ </span></span></td><td class=\"tf\"><span class=\"plain outer  rtl  hl\" ><span class=\"h\">מַזְרִ֤יעַ </span></span></td></tr>\n",
       "<tr class=\"tf\"><td class=\"tf\">4</td><td class=\"tf\"> <a href=\"https://shebanq.ancient-data.org/hebrew/text?book=Genesis&amp;chapter=1&amp;verse=29&amp;version=2017&amp;mr=m&amp;qw=q&amp;tp=txt_p&amp;tr=hb&amp;wget=v&amp;qget=v&amp;nget=vt\" title=\"show this passage in SHEBANQ\" sec=\"Genesis 1:29\">Genesis 1:29</a></td><td class=\"tf\"><a href=\"https://shebanq.ancient-data.org/hebrew/text?book=Genesis&amp;chapter=1&amp;verse=29&amp;version=2017&amp;mr=m&amp;qw=q&amp;tp=txt_p&amp;tr=hb&amp;wget=v&amp;qget=v&amp;nget=vt\" title=\"Genesis 1:29\" sec=\"Genesis 1:29\"><span class=\"plain outer  rtl \"><span class=\"plain rtl  l hlbx\" ><span class=\"plain rtl  \" ><span class=\"plain rtl  \" ><span class=\"h\">אֶת־</span></span><span class=\"plain rtl  \" ><span class=\"h\">כָּל־</span></span><span class=\"plain rtl  hl\" ><span class=\"h\">עֵ֣שֶׂב׀ </span></span></span></span><span class=\"plain rtl  r l hlbx\" ><span class=\"plain rtl  \" ><span class=\"plain rtl  \" ><span class=\"h\">וְ</span></span></span></span><span class=\"plain rtl  r hlbx\" ><span class=\"plain rtl  \" ><span class=\"plain rtl  \" ><span class=\"h\">אֶת־</span></span><span class=\"plain rtl  \" ><span class=\"h\">כָּל־</span></span><span class=\"plain rtl  \" ><span class=\"h\">הָ</span></span><span class=\"plain rtl  hl\" ><span class=\"h\">עֵ֛ץ </span></span></span></span></span></a></td><td class=\"tf\"><span class=\"plain outer  rtl  hl\" ><span class=\"h\">עֵ֣שֶׂב׀ </span></span></td><td class=\"tf\"><span class=\"plain outer  rtl  hl\" ><span class=\"h\">עֵ֛ץ </span></span></td><td class=\"tf\"><span class=\"plain outer  rtl  hl\" ><span class=\"h\">זֹרֵ֣עַ </span></span></td></tr>\n",
       "<tr class=\"tf\"><td class=\"tf\">5</td><td class=\"tf\"> <a href=\"https://shebanq.ancient-data.org/hebrew/text?book=Genesis&amp;chapter=2&amp;verse=25&amp;version=2017&amp;mr=m&amp;qw=q&amp;tp=txt_p&amp;tr=hb&amp;wget=v&amp;qget=v&amp;nget=vt\" title=\"show this passage in SHEBANQ\" sec=\"Genesis 2:25\">Genesis 2:25</a></td><td class=\"tf\"><a href=\"https://shebanq.ancient-data.org/hebrew/text?book=Genesis&amp;chapter=2&amp;verse=25&amp;version=2017&amp;mr=m&amp;qw=q&amp;tp=txt_p&amp;tr=hb&amp;wget=v&amp;qget=v&amp;nget=vt\" title=\"Genesis 2:25\" sec=\"Genesis 2:25\"><span class=\"plain outer  rtl \"><span class=\"plain rtl  l hlbx\" ><span class=\"plain rtl  \" ><span class=\"plain rtl  hl\" ><span class=\"h\">שְׁנֵיהֶם֙ </span></span></span></span><span class=\"plain rtl  r hlbx\" ><span class=\"plain rtl  \" ><span class=\"plain rtl  \" ><span class=\"h\">הָֽ</span></span><span class=\"plain rtl  \" ><span class=\"h\">אָדָ֖ם </span></span><span class=\"plain rtl  \" ><span class=\"h\">וְ</span></span><span class=\"plain rtl  hl\" ><span class=\"h\">אִשְׁתֹּ֑ו </span></span></span></span></span></a></td><td class=\"tf\"><span class=\"plain outer  rtl  hl\" ><span class=\"h\">שְׁנֵיהֶם֙ </span></span></td><td class=\"tf\"><span class=\"plain outer  rtl  hl\" ><span class=\"h\">אִשְׁתֹּ֑ו </span></span></td><td class=\"tf\"><span class=\"plain outer  rtl  hl\" ><span class=\"h\">עֲרוּמִּ֔ים </span></span></td></tr>\n",
       "<tr class=\"tf\"><td class=\"tf\">6</td><td class=\"tf\"> <a href=\"https://shebanq.ancient-data.org/hebrew/text?book=Genesis&amp;chapter=4&amp;verse=4&amp;version=2017&amp;mr=m&amp;qw=q&amp;tp=txt_p&amp;tr=hb&amp;wget=v&amp;qget=v&amp;nget=vt\" title=\"show this passage in SHEBANQ\" sec=\"Genesis 4:4\">Genesis 4:4</a></td><td class=\"tf\"><a href=\"https://shebanq.ancient-data.org/hebrew/text?book=Genesis&amp;chapter=4&amp;verse=4&amp;version=2017&amp;mr=m&amp;qw=q&amp;tp=txt_p&amp;tr=hb&amp;wget=v&amp;qget=v&amp;nget=vt\" title=\"Genesis 4:4\" sec=\"Genesis 4:4\"><span class=\"plain outer  rtl \"><span class=\"plain rtl  l hlbx\" ><span class=\"plain rtl  \" ><span class=\"plain rtl  hl\" ><span class=\"h\">הֶ֨בֶל </span></span></span></span><span class=\"plain rtl  r hlbx\" ><span class=\"plain rtl  \" ><span class=\"plain rtl  \" ><span class=\"h\">גַם־</span></span><span class=\"plain rtl  hl\" ><span class=\"h\">ה֛וּא </span></span></span></span></span></a></td><td class=\"tf\"><span class=\"plain outer  rtl  hl\" ><span class=\"h\">הֶ֨בֶל </span></span></td><td class=\"tf\"><span class=\"plain outer  rtl  hl\" ><span class=\"h\">ה֛וּא </span></span></td><td class=\"tf\"><span class=\"plain outer  rtl  hl\" ><span class=\"h\">הֵבִ֥יא </span></span></td></tr>\n",
       "<tr class=\"tf\"><td class=\"tf\">7</td><td class=\"tf\"> <a href=\"https://shebanq.ancient-data.org/hebrew/text?book=Genesis&amp;chapter=7&amp;verse=8&amp;version=2017&amp;mr=m&amp;qw=q&amp;tp=txt_p&amp;tr=hb&amp;wget=v&amp;qget=v&amp;nget=vt\" title=\"show this passage in SHEBANQ\" sec=\"Genesis 7:8\">Genesis 7:8</a></td><td class=\"tf\"><a href=\"https://shebanq.ancient-data.org/hebrew/text?book=Genesis&amp;chapter=7&amp;verse=8&amp;version=2017&amp;mr=m&amp;qw=q&amp;tp=txt_p&amp;tr=hb&amp;wget=v&amp;qget=v&amp;nget=vt\" title=\"Genesis 7:8\" sec=\"Genesis 7:8\"><span class=\"plain outer  rtl \"><span class=\"plain rtl  l hlbx\" ><span class=\"plain rtl  \" ><span class=\"plain rtl  \" ><span class=\"h\">מִן־</span></span><span class=\"plain rtl  \" ><span class=\"h\">הַ</span></span><span class=\"plain rtl  \" ><span class=\"h\">בְּהֵמָה֙ </span></span><span class=\"plain rtl  \" ><span class=\"h\">הַ</span></span><span class=\"plain rtl  \" ><span class=\"h\">טְּהֹורָ֔ה </span></span><span class=\"plain rtl  \" ><span class=\"h\">וּ</span></span><span class=\"plain rtl  \" ><span class=\"h\">מִן־</span></span><span class=\"plain rtl  \" ><span class=\"h\">הַ֨</span></span><span class=\"plain rtl  hl\" ><span class=\"h\">בְּהֵמָ֔ה </span></span></span></span><span class=\"plain rtl  r l hlbx\" ><span class=\"plain rtl  \" ><span class=\"plain rtl  \" ><span class=\"h\">וּ</span></span></span></span><span class=\"plain rtl  r hlbx\" ><span class=\"plain rtl  \" ><span class=\"plain rtl  \" ><span class=\"h\">מִ֨ן־</span></span><span class=\"plain rtl  \" ><span class=\"h\">הָ</span></span><span class=\"plain rtl  \" ><span class=\"h\">עֹ֔וף </span></span><span class=\"plain rtl  \" ><span class=\"h\">וְ</span></span><span class=\"plain rtl  hl\" ><span class=\"h\">כֹ֥ל </span></span></span></span></span></a></td><td class=\"tf\"><span class=\"plain outer  rtl  hl\" ><span class=\"h\">בְּהֵמָ֔ה </span></span></td><td class=\"tf\"><span class=\"plain outer  rtl  hl\" ><span class=\"h\">כֹ֥ל </span></span></td><td class=\"tf\"><span class=\"plain outer  rtl  hl\" ><span class=\"h\">אֲשֶׁ֥ר </span></span></td></tr>\n",
       "<tr class=\"tf\"><td class=\"tf\">8</td><td class=\"tf\"> <a href=\"https://shebanq.ancient-data.org/hebrew/text?book=Genesis&amp;chapter=7&amp;verse=14&amp;version=2017&amp;mr=m&amp;qw=q&amp;tp=txt_p&amp;tr=hb&amp;wget=v&amp;qget=v&amp;nget=vt\" title=\"show this passage in SHEBANQ\" sec=\"Genesis 7:14\">Genesis 7:14</a></td><td class=\"tf\"><a href=\"https://shebanq.ancient-data.org/hebrew/text?book=Genesis&amp;chapter=7&amp;verse=14&amp;version=2017&amp;mr=m&amp;qw=q&amp;tp=txt_p&amp;tr=hb&amp;wget=v&amp;qget=v&amp;nget=vt\" title=\"Genesis 7:14\" sec=\"Genesis 7:14\"><span class=\"plain outer  rtl \"><span class=\"plain rtl  l hlbx\" ><span class=\"plain rtl  \" ><span class=\"plain rtl  \" ><span class=\"h\">הֵ֜מָּה </span></span><span class=\"plain rtl  \" ><span class=\"h\">וְ</span></span><span class=\"plain rtl  \" ><span class=\"h\">כָל־</span></span><span class=\"plain rtl  \" ><span class=\"h\">הַֽ</span></span><span class=\"plain rtl  \" ><span class=\"h\">חַיָּ֣ה </span></span></span></span><span class=\"plain rtl  r l hlbx\" ><span class=\"plain rtl  \" ><span class=\"plain rtl  \" ><span class=\"h\">לְ</span></span><span class=\"plain rtl  \" ><span class=\"h\">מִינָ֗הּ </span></span></span></span><span class=\"plain rtl  r l hlbx\" ><span class=\"plain rtl  \" ><span class=\"plain rtl  \" ><span class=\"h\">וְ</span></span></span></span><span class=\"plain rtl  r l hlbx\" ><span class=\"plain rtl  \" ><span class=\"plain rtl  \" ><span class=\"h\">כָל־</span></span><span class=\"plain rtl  \" ><span class=\"h\">הַ</span></span><span class=\"plain rtl  \" ><span class=\"h\">בְּהֵמָה֙ </span></span></span></span><span class=\"plain rtl  r l hlbx\" ><span class=\"plain rtl  \" ><span class=\"plain rtl  \" ><span class=\"h\">לְ</span></span><span class=\"plain rtl  \" ><span class=\"h\">מִינָ֔הּ </span></span></span></span><span class=\"plain rtl  r l hlbx\" ><span class=\"plain rtl  \" ><span class=\"plain rtl  \" ><span class=\"h\">וְ</span></span></span></span><span class=\"plain rtl  r l hlbx\" ><span class=\"plain rtl  \" ><span class=\"plain rtl  \" ><span class=\"h\">כָל־</span></span><span class=\"plain rtl  \" ><span class=\"h\">הָ</span></span><span class=\"plain rtl  hl\" ><span class=\"h\">רֶ֛מֶשׂ </span></span></span></span><span class=\"plain rtl  r l hlbx\" ><span class=\"plain rtl  \" ><span class=\"plain rtl  \" ><span class=\"h\">לְ</span></span><span class=\"plain rtl  \" ><span class=\"h\">מִינֵ֑הוּ </span></span></span></span><span class=\"plain rtl  r l hlbx\" ><span class=\"plain rtl  \" ><span class=\"plain rtl  \" ><span class=\"h\">וְ</span></span></span></span><span class=\"plain rtl  r l hlbx\" ><span class=\"plain rtl  \" ><span class=\"plain rtl  \" ><span class=\"h\">כָל־</span></span><span class=\"plain rtl  \" ><span class=\"h\">הָ</span></span><span class=\"plain rtl  \" ><span class=\"h\">עֹ֣וף </span></span></span></span><span class=\"plain rtl  r l hlbx\" ><span class=\"plain rtl  \" ><span class=\"plain rtl  \" ><span class=\"h\">לְ</span></span><span class=\"plain rtl  \" ><span class=\"h\">מִינֵ֔הוּ </span></span></span></span><span class=\"plain rtl  r hlbx\" ><span class=\"plain rtl  \" ><span class=\"plain rtl  \" ><span class=\"h\">כֹּ֖ל </span></span><span class=\"plain rtl  \" ><span class=\"h\">צִפֹּ֥ור </span></span><span class=\"plain rtl  \" ><span class=\"h\">כָּל־</span></span><span class=\"plain rtl  hl\" ><span class=\"h\">כָּנָֽף׃ </span></span></span></span></span></a></td><td class=\"tf\"><span class=\"plain outer  rtl  hl\" ><span class=\"h\">רֶ֛מֶשׂ </span></span></td><td class=\"tf\"><span class=\"plain outer  rtl  hl\" ><span class=\"h\">כָּנָֽף׃ </span></span></td><td class=\"tf\"><span class=\"plain outer  rtl  hl\" ><span class=\"h\">הָ</span></span></td></tr>\n",
       "<tr class=\"tf\"><td class=\"tf\">9</td><td class=\"tf\"> <a href=\"https://shebanq.ancient-data.org/hebrew/text?book=Genesis&amp;chapter=7&amp;verse=21&amp;version=2017&amp;mr=m&amp;qw=q&amp;tp=txt_p&amp;tr=hb&amp;wget=v&amp;qget=v&amp;nget=vt\" title=\"show this passage in SHEBANQ\" sec=\"Genesis 7:21\">Genesis 7:21</a></td><td class=\"tf\"><a href=\"https://shebanq.ancient-data.org/hebrew/text?book=Genesis&amp;chapter=7&amp;verse=21&amp;version=2017&amp;mr=m&amp;qw=q&amp;tp=txt_p&amp;tr=hb&amp;wget=v&amp;qget=v&amp;nget=vt\" title=\"Genesis 7:21\" sec=\"Genesis 7:21\"><span class=\"plain outer  rtl \"><span class=\"plain rtl  l hlbx\" ><span class=\"plain rtl  \" ><span class=\"plain rtl  \" ><span class=\"h\">כָּל־</span></span><span class=\"plain rtl  hl\" ><span class=\"h\">בָּשָׂ֣ר׀ </span></span></span></span><span class=\"plain rtl  r l hlbx\" ><span class=\"plain rtl  \" ><span class=\"plain rtl  \" ><span class=\"h\">בָּ</span></span><span class=\"plain rtl  \" ><span class=\"h\"></span></span><span class=\"plain rtl  \" ><span class=\"h\">עֹ֤וף </span></span><span class=\"plain rtl  \" ><span class=\"h\">וּ</span></span><span class=\"plain rtl  \" ><span class=\"h\">בַ</span></span><span class=\"plain rtl  \" ><span class=\"h\"></span></span><span class=\"plain rtl  \" ><span class=\"h\">בְּהֵמָה֙ </span></span><span class=\"plain rtl  \" ><span class=\"h\">וּ</span></span><span class=\"plain rtl  \" ><span class=\"h\">בַ֣</span></span><span class=\"plain rtl  \" ><span class=\"h\"></span></span><span class=\"plain rtl  \" ><span class=\"h\">חַיָּ֔ה </span></span><span class=\"plain rtl  \" ><span class=\"h\">וּ</span></span><span class=\"plain rtl  \" ><span class=\"h\">בְ</span></span><span class=\"plain rtl  \" ><span class=\"h\">כָל־</span></span><span class=\"plain rtl  \" ><span class=\"h\">הַ</span></span><span class=\"plain rtl  \" ><span class=\"h\">שֶּׁ֖רֶץ </span></span></span></span><span class=\"plain rtl  r l hlbx\" ><span class=\"plain rtl  \" ><span class=\"plain rtl  \" ><span class=\"h\">וְ</span></span></span></span><span class=\"plain rtl  r hlbx\" ><span class=\"plain rtl  \" ><span class=\"plain rtl  \" ><span class=\"h\">כֹ֖ל </span></span><span class=\"plain rtl  \" ><span class=\"h\">הָ</span></span><span class=\"plain rtl  hl\" ><span class=\"h\">אָדָֽם׃ </span></span></span></span></span></a></td><td class=\"tf\"><span class=\"plain outer  rtl  hl\" ><span class=\"h\">בָּשָׂ֣ר׀ </span></span></td><td class=\"tf\"><span class=\"plain outer  rtl  hl\" ><span class=\"h\">אָדָֽם׃ </span></span></td><td class=\"tf\"><span class=\"plain outer  rtl  hl\" ><span class=\"h\">הָ</span></span></td></tr>\n",
       "<tr class=\"tf\"><td class=\"tf\">10</td><td class=\"tf\"> <a href=\"https://shebanq.ancient-data.org/hebrew/text?book=Genesis&amp;chapter=7&amp;verse=21&amp;version=2017&amp;mr=m&amp;qw=q&amp;tp=txt_p&amp;tr=hb&amp;wget=v&amp;qget=v&amp;nget=vt\" title=\"show this passage in SHEBANQ\" sec=\"Genesis 7:21\">Genesis 7:21</a></td><td class=\"tf\"><a href=\"https://shebanq.ancient-data.org/hebrew/text?book=Genesis&amp;chapter=7&amp;verse=21&amp;version=2017&amp;mr=m&amp;qw=q&amp;tp=txt_p&amp;tr=hb&amp;wget=v&amp;qget=v&amp;nget=vt\" title=\"Genesis 7:21\" sec=\"Genesis 7:21\"><span class=\"plain outer  rtl \"><span class=\"plain rtl  l hlbx\" ><span class=\"plain rtl  \" ><span class=\"plain rtl  \" ><span class=\"h\">כָּל־</span></span><span class=\"plain rtl  \" ><span class=\"h\">בָּשָׂ֣ר׀ </span></span></span></span><span class=\"plain rtl  r l hlbx\" ><span class=\"plain rtl  \" ><span class=\"plain rtl  \" ><span class=\"h\">בָּ</span></span><span class=\"plain rtl  \" ><span class=\"h\"></span></span><span class=\"plain rtl  \" ><span class=\"h\">עֹ֤וף </span></span><span class=\"plain rtl  \" ><span class=\"h\">וּ</span></span><span class=\"plain rtl  \" ><span class=\"h\">בַ</span></span><span class=\"plain rtl  \" ><span class=\"h\"></span></span><span class=\"plain rtl  \" ><span class=\"h\">בְּהֵמָה֙ </span></span><span class=\"plain rtl  \" ><span class=\"h\">וּ</span></span><span class=\"plain rtl  \" ><span class=\"h\">בַ֣</span></span><span class=\"plain rtl  \" ><span class=\"h\"></span></span><span class=\"plain rtl  \" ><span class=\"h\">חַיָּ֔ה </span></span><span class=\"plain rtl  \" ><span class=\"h\">וּ</span></span><span class=\"plain rtl  \" ><span class=\"h\">בְ</span></span><span class=\"plain rtl  \" ><span class=\"h\">כָל־</span></span><span class=\"plain rtl  \" ><span class=\"h\">הַ</span></span><span class=\"plain rtl  hl\" ><span class=\"h\">שֶּׁ֖רֶץ </span></span></span></span><span class=\"plain rtl  r l hlbx\" ><span class=\"plain rtl  \" ><span class=\"plain rtl  \" ><span class=\"h\">וְ</span></span></span></span><span class=\"plain rtl  r hlbx\" ><span class=\"plain rtl  \" ><span class=\"plain rtl  \" ><span class=\"h\">כֹ֖ל </span></span><span class=\"plain rtl  \" ><span class=\"h\">הָ</span></span><span class=\"plain rtl  hl\" ><span class=\"h\">אָדָֽם׃ </span></span></span></span></span></a></td><td class=\"tf\"><span class=\"plain outer  rtl  hl\" ><span class=\"h\">שֶּׁ֖רֶץ </span></span></td><td class=\"tf\"><span class=\"plain outer  rtl  hl\" ><span class=\"h\">אָדָֽם׃ </span></span></td><td class=\"tf\"><span class=\"plain outer  rtl  hl\" ><span class=\"h\">הַ</span></span></td></tr></table>"
      ],
      "text/plain": [
       "<IPython.core.display.HTML object>"
      ]
     },
     "metadata": {},
     "output_type": "display_data"
    }
   ],
   "source": [
    "A.table(results, end=10)"
   ]
  },
  {
   "cell_type": "markdown",
   "metadata": {},
   "source": [
    "If a phrase has multiple gaps, we encounter it multiple times in our results.\n",
    "\n",
    "We show the two results in Genesis 7:21."
   ]
  },
  {
   "cell_type": "code",
   "execution_count": 17,
   "metadata": {},
   "outputs": [
    {
     "data": {
      "text/html": [
       "<p><b>result</b> <i>9</i></p>"
      ],
      "text/plain": [
       "<IPython.core.display.HTML object>"
      ]
     },
     "metadata": {},
     "output_type": "display_data"
    },
    {
     "data": {
      "text/html": [
       "<div class=\"outeritem\"><div class=\"verse  \" >\n",
       "    <div class=\"vl\">\n",
       "        <div class=\"vrs\"><a href=\"https://shebanq.ancient-data.org/hebrew/text?book=Genesis&amp;chapter=7&amp;verse=21&amp;version=2017&amp;mr=m&amp;qw=q&amp;tp=txt_p&amp;tr=hb&amp;wget=v&amp;qget=v&amp;nget=vt\" title=\"show this passage in SHEBANQ\" sec=\"Genesis 7:21\">Genesis 7:21</a></div>\n",
       "        \n",
       "    </div>\n",
       "<div class=\"satom  \" >\n",
       "        <div class=\"sentence \" >\n",
       "            <a href=\"https://shebanq.ancient-data.org/hebrew/text?book=Genesis&amp;chapter=7&amp;verse=21&amp;version=2017&amp;mr=m&amp;qw=q&amp;tp=txt_p&amp;tr=hb&amp;wget=v&amp;qget=v&amp;nget=vt\" title=\"Genesis 7:21\" sec=\"Genesis 7:21\">sentence</a>   <span class=\"number\">32|469</span>\n",
       "        </div>\n",
       "        <div class=\"atoms\">\n",
       "                    <div class=\"catom  l \" >\n",
       "        <div class=\"clause \" >\n",
       "            <a href=\"https://shebanq.ancient-data.org/hebrew/text?book=Genesis&amp;chapter=7&amp;verse=21&amp;version=2017&amp;mr=m&amp;qw=q&amp;tp=txt_p&amp;tr=hb&amp;wget=v&amp;qget=v&amp;nget=vt\" title=\"Genesis 7:21\" sec=\"Genesis 7:21\">clause</a>   <span class=\"typ\">WayX</span>\n",
       "        </div>\n",
       "        <div class=\"atoms\">\n",
       "                    <div class=\"patom  \" >\n",
       "        <div class=\"phrase \" >\n",
       "            <a href=\"https://shebanq.ancient-data.org/hebrew/text?book=Genesis&amp;chapter=7&amp;verse=21&amp;version=2017&amp;mr=m&amp;qw=q&amp;tp=txt_p&amp;tr=hb&amp;wget=v&amp;qget=v&amp;nget=vt\" title=\"Genesis 7:21\" sec=\"Genesis 7:21\">phrase</a>   <span class=\"function\">Conj</span> <span class=\"typ\">CP</span>\n",
       "        </div>\n",
       "        <div class=\"atoms\">\n",
       "                    <div class=\"word  \" ><div class=\"h\"><a target=\"_blank\" href=\"https://shebanq.ancient-data.org/hebrew/word?version=2017&amp;id=1W\" title=\"show this lexeme in SHEBANQ\">וַ</a></div><div class=\"features\"> <span class=\"pdp\"><a href=\"https://shebanq.ancient-data.org/hebrew/text?book=Genesis&amp;chapter=7&amp;verse=21&amp;version=2017&amp;mr=m&amp;qw=q&amp;tp=txt_p&amp;tr=hb&amp;wget=v&amp;qget=v&amp;nget=vt\" title=\"Genesis 7:21\" sec=\"Genesis 7:21\">conj</a></span> <span class=\"gloss\">and</span></div></div></div></div><div class=\"patom  \" >\n",
       "        <div class=\"phrase \" >\n",
       "            <a href=\"https://shebanq.ancient-data.org/hebrew/text?book=Genesis&amp;chapter=7&amp;verse=21&amp;version=2017&amp;mr=m&amp;qw=q&amp;tp=txt_p&amp;tr=hb&amp;wget=v&amp;qget=v&amp;nget=vt\" title=\"Genesis 7:21\" sec=\"Genesis 7:21\">phrase</a>   <span class=\"function\">Pred</span> <span class=\"typ\">VP</span>\n",
       "        </div>\n",
       "        <div class=\"atoms\">\n",
       "                    <div class=\"word  \" ><div class=\"h\"><a target=\"_blank\" href=\"https://shebanq.ancient-data.org/hebrew/word?version=2017&amp;id=1GWOv\" title=\"show this lexeme in SHEBANQ\">יִּגְוַ֞ע </a></div><div class=\"features\"> <span class=\"pdp\"><a href=\"https://shebanq.ancient-data.org/hebrew/text?book=Genesis&amp;chapter=7&amp;verse=21&amp;version=2017&amp;mr=m&amp;qw=q&amp;tp=txt_p&amp;tr=hb&amp;wget=v&amp;qget=v&amp;nget=vt\" title=\"Genesis 7:21\" sec=\"Genesis 7:21\">verb</a></span> <span class=\"gloss\">expire</span> <span class=\"vs\">qal</span> <span class=\"vt\">wayq</span></div></div></div></div><div class=\"patom  l hl\"  style=\"background-color: lightgreen;\" >\n",
       "        <div class=\"phrase hl\"  style=\"background-color: lightgreen;\" >\n",
       "            <a href=\"https://shebanq.ancient-data.org/hebrew/text?book=Genesis&amp;chapter=7&amp;verse=21&amp;version=2017&amp;mr=m&amp;qw=q&amp;tp=txt_p&amp;tr=hb&amp;wget=v&amp;qget=v&amp;nget=vt\" title=\"Genesis 7:21\" sec=\"Genesis 7:21\">phrase</a>   <span class=\"function\">Subj</span> <span class=\"typ\">NP</span>\n",
       "        </div>\n",
       "        <div class=\"atoms\">\n",
       "                    <div class=\"word  \" ><div class=\"h\"><a target=\"_blank\" href=\"https://shebanq.ancient-data.org/hebrew/word?version=2017&amp;id=1KLn\" title=\"show this lexeme in SHEBANQ\">כָּל־</a></div><div class=\"features\"> <span class=\"pdp\"><a href=\"https://shebanq.ancient-data.org/hebrew/text?book=Genesis&amp;chapter=7&amp;verse=21&amp;version=2017&amp;mr=m&amp;qw=q&amp;tp=txt_p&amp;tr=hb&amp;wget=v&amp;qget=v&amp;nget=vt\" title=\"Genesis 7:21\" sec=\"Genesis 7:21\">subs</a></span> <span class=\"gloss\">whole</span></div></div><div class=\"word  hl\"  style=\"background-color: orange;\" ><div class=\"h\"><a target=\"_blank\" href=\"https://shebanq.ancient-data.org/hebrew/word?version=2017&amp;id=1BFRn\" title=\"show this lexeme in SHEBANQ\">בָּשָׂ֣ר׀ </a></div><div class=\"features\"> <span class=\"pdp\"><a href=\"https://shebanq.ancient-data.org/hebrew/text?book=Genesis&amp;chapter=7&amp;verse=21&amp;version=2017&amp;mr=m&amp;qw=q&amp;tp=txt_p&amp;tr=hb&amp;wget=v&amp;qget=v&amp;nget=vt\" title=\"Genesis 7:21\" sec=\"Genesis 7:21\">subs</a></span> <span class=\"gloss\">flesh</span></div></div></div></div></div></div><div class=\"catom  \" >\n",
       "        <div class=\"clause \" >\n",
       "            <a href=\"https://shebanq.ancient-data.org/hebrew/text?book=Genesis&amp;chapter=7&amp;verse=21&amp;version=2017&amp;mr=m&amp;qw=q&amp;tp=txt_p&amp;tr=hb&amp;wget=v&amp;qget=v&amp;nget=vt\" title=\"Genesis 7:21\" sec=\"Genesis 7:21\">clause</a>   <span class=\"rela\">Attr</span> <span class=\"typ\">Ptcp</span>\n",
       "        </div>\n",
       "        <div class=\"atoms\">\n",
       "                    <div class=\"patom  \" >\n",
       "        <div class=\"phrase \" >\n",
       "            <a href=\"https://shebanq.ancient-data.org/hebrew/text?book=Genesis&amp;chapter=7&amp;verse=21&amp;version=2017&amp;mr=m&amp;qw=q&amp;tp=txt_p&amp;tr=hb&amp;wget=v&amp;qget=v&amp;nget=vt\" title=\"Genesis 7:21\" sec=\"Genesis 7:21\">phrase</a>   <span class=\"function\">Rela</span> <span class=\"typ\">CP</span>\n",
       "        </div>\n",
       "        <div class=\"atoms\">\n",
       "                    <div class=\"word  hl\"  style=\"background-color: magenta;\" ><div class=\"h\"><a target=\"_blank\" href=\"https://shebanq.ancient-data.org/hebrew/word?version=2017&amp;id=1H\" title=\"show this lexeme in SHEBANQ\">הָ</a></div><div class=\"features\"> <span class=\"pdp\"><a href=\"https://shebanq.ancient-data.org/hebrew/text?book=Genesis&amp;chapter=7&amp;verse=21&amp;version=2017&amp;mr=m&amp;qw=q&amp;tp=txt_p&amp;tr=hb&amp;wget=v&amp;qget=v&amp;nget=vt\" title=\"Genesis 7:21\" sec=\"Genesis 7:21\">conj</a></span> <span class=\"gloss\">the</span></div></div></div></div><div class=\"patom  \" >\n",
       "        <div class=\"phrase \" >\n",
       "            <a href=\"https://shebanq.ancient-data.org/hebrew/text?book=Genesis&amp;chapter=7&amp;verse=21&amp;version=2017&amp;mr=m&amp;qw=q&amp;tp=txt_p&amp;tr=hb&amp;wget=v&amp;qget=v&amp;nget=vt\" title=\"Genesis 7:21\" sec=\"Genesis 7:21\">phrase</a>   <span class=\"function\">PreC</span> <span class=\"typ\">VP</span>\n",
       "        </div>\n",
       "        <div class=\"atoms\">\n",
       "                    <div class=\"word  \" ><div class=\"h\"><a target=\"_blank\" href=\"https://shebanq.ancient-data.org/hebrew/word?version=2017&amp;id=1RMFv\" title=\"show this lexeme in SHEBANQ\">רֹמֵ֣שׂ </a></div><div class=\"features\"> <span class=\"pdp\"><a href=\"https://shebanq.ancient-data.org/hebrew/text?book=Genesis&amp;chapter=7&amp;verse=21&amp;version=2017&amp;mr=m&amp;qw=q&amp;tp=txt_p&amp;tr=hb&amp;wget=v&amp;qget=v&amp;nget=vt\" title=\"Genesis 7:21\" sec=\"Genesis 7:21\">verb</a></span> <span class=\"gloss\">creep</span> <span class=\"vs\">qal</span> <span class=\"vt\">ptca</span></div></div></div></div><div class=\"patom  \" >\n",
       "        <div class=\"phrase \" >\n",
       "            <a href=\"https://shebanq.ancient-data.org/hebrew/text?book=Genesis&amp;chapter=7&amp;verse=21&amp;version=2017&amp;mr=m&amp;qw=q&amp;tp=txt_p&amp;tr=hb&amp;wget=v&amp;qget=v&amp;nget=vt\" title=\"Genesis 7:21\" sec=\"Genesis 7:21\">phrase</a>   <span class=\"function\">Cmpl</span> <span class=\"typ\">PP</span>\n",
       "        </div>\n",
       "        <div class=\"atoms\">\n",
       "                    <div class=\"word  \" ><div class=\"h\"><a target=\"_blank\" href=\"https://shebanq.ancient-data.org/hebrew/word?version=2017&amp;id=1OL\" title=\"show this lexeme in SHEBANQ\">עַל־</a></div><div class=\"features\"> <span class=\"pdp\"><a href=\"https://shebanq.ancient-data.org/hebrew/text?book=Genesis&amp;chapter=7&amp;verse=21&amp;version=2017&amp;mr=m&amp;qw=q&amp;tp=txt_p&amp;tr=hb&amp;wget=v&amp;qget=v&amp;nget=vt\" title=\"Genesis 7:21\" sec=\"Genesis 7:21\">prep</a></span> <span class=\"gloss\">upon</span></div></div><div class=\"word  \" ><div class=\"h\"><a target=\"_blank\" href=\"https://shebanq.ancient-data.org/hebrew/word?version=2017&amp;id=1H\" title=\"show this lexeme in SHEBANQ\">הָ</a></div><div class=\"features\"> <span class=\"pdp\"><a href=\"https://shebanq.ancient-data.org/hebrew/text?book=Genesis&amp;chapter=7&amp;verse=21&amp;version=2017&amp;mr=m&amp;qw=q&amp;tp=txt_p&amp;tr=hb&amp;wget=v&amp;qget=v&amp;nget=vt\" title=\"Genesis 7:21\" sec=\"Genesis 7:21\">art</a></span> <span class=\"gloss\">the</span></div></div><div class=\"word  \" ><div class=\"h\"><a target=\"_blank\" href=\"https://shebanq.ancient-data.org/hebrew/word?version=2017&amp;id=1ARYn\" title=\"show this lexeme in SHEBANQ\">אָ֗רֶץ </a></div><div class=\"features\"> <span class=\"pdp\"><a href=\"https://shebanq.ancient-data.org/hebrew/text?book=Genesis&amp;chapter=7&amp;verse=21&amp;version=2017&amp;mr=m&amp;qw=q&amp;tp=txt_p&amp;tr=hb&amp;wget=v&amp;qget=v&amp;nget=vt\" title=\"Genesis 7:21\" sec=\"Genesis 7:21\">subs</a></span> <span class=\"gloss\">earth</span></div></div></div></div></div></div><div class=\"catom  r l \" >\n",
       "        <div class=\"clause \" >\n",
       "            <a href=\"https://shebanq.ancient-data.org/hebrew/text?book=Genesis&amp;chapter=7&amp;verse=21&amp;version=2017&amp;mr=m&amp;qw=q&amp;tp=txt_p&amp;tr=hb&amp;wget=v&amp;qget=v&amp;nget=vt\" title=\"Genesis 7:21\" sec=\"Genesis 7:21\">clause</a>   <span class=\"typ\">WayX|Defc</span>\n",
       "        </div>\n",
       "        <div class=\"atoms\">\n",
       "                    <div class=\"patom  r l hl\"  style=\"background-color: lightgreen;\" >\n",
       "        <div class=\"phrase hl\"  style=\"background-color: lightgreen;\" >\n",
       "            <a href=\"https://shebanq.ancient-data.org/hebrew/text?book=Genesis&amp;chapter=7&amp;verse=21&amp;version=2017&amp;mr=m&amp;qw=q&amp;tp=txt_p&amp;tr=hb&amp;wget=v&amp;qget=v&amp;nget=vt\" title=\"Genesis 7:21\" sec=\"Genesis 7:21\">phrase</a>   <span class=\"function\">Subj</span> <span class=\"typ\">NP|PP</span>\n",
       "        </div>\n",
       "        <div class=\"atoms\">\n",
       "                    <div class=\"word  \" ><div class=\"h\"><a target=\"_blank\" href=\"https://shebanq.ancient-data.org/hebrew/word?version=2017&amp;id=1B\" title=\"show this lexeme in SHEBANQ\">בָּ</a></div><div class=\"features\"> <span class=\"pdp\"><a href=\"https://shebanq.ancient-data.org/hebrew/text?book=Genesis&amp;chapter=7&amp;verse=21&amp;version=2017&amp;mr=m&amp;qw=q&amp;tp=txt_p&amp;tr=hb&amp;wget=v&amp;qget=v&amp;nget=vt\" title=\"Genesis 7:21\" sec=\"Genesis 7:21\">prep</a></span> <span class=\"gloss\">in</span></div></div><div class=\"word  \" ><div class=\"h\"><a target=\"_blank\" href=\"https://shebanq.ancient-data.org/hebrew/word?version=2017&amp;id=1H\" title=\"show this lexeme in SHEBANQ\"></a></div><div class=\"features\"> <span class=\"pdp\"><a href=\"https://shebanq.ancient-data.org/hebrew/text?book=Genesis&amp;chapter=7&amp;verse=21&amp;version=2017&amp;mr=m&amp;qw=q&amp;tp=txt_p&amp;tr=hb&amp;wget=v&amp;qget=v&amp;nget=vt\" title=\"Genesis 7:21\" sec=\"Genesis 7:21\">art</a></span> <span class=\"gloss\">the</span></div></div><div class=\"word  \" ><div class=\"h\"><a target=\"_blank\" href=\"https://shebanq.ancient-data.org/hebrew/word?version=2017&amp;id=1OWPn\" title=\"show this lexeme in SHEBANQ\">עֹ֤וף </a></div><div class=\"features\"> <span class=\"pdp\"><a href=\"https://shebanq.ancient-data.org/hebrew/text?book=Genesis&amp;chapter=7&amp;verse=21&amp;version=2017&amp;mr=m&amp;qw=q&amp;tp=txt_p&amp;tr=hb&amp;wget=v&amp;qget=v&amp;nget=vt\" title=\"Genesis 7:21\" sec=\"Genesis 7:21\">subs</a></span> <span class=\"gloss\">birds</span></div></div><div class=\"word  \" ><div class=\"h\"><a target=\"_blank\" href=\"https://shebanq.ancient-data.org/hebrew/word?version=2017&amp;id=1W\" title=\"show this lexeme in SHEBANQ\">וּ</a></div><div class=\"features\"> <span class=\"pdp\"><a href=\"https://shebanq.ancient-data.org/hebrew/text?book=Genesis&amp;chapter=7&amp;verse=21&amp;version=2017&amp;mr=m&amp;qw=q&amp;tp=txt_p&amp;tr=hb&amp;wget=v&amp;qget=v&amp;nget=vt\" title=\"Genesis 7:21\" sec=\"Genesis 7:21\">conj</a></span> <span class=\"gloss\">and</span></div></div><div class=\"word  \" ><div class=\"h\"><a target=\"_blank\" href=\"https://shebanq.ancient-data.org/hebrew/word?version=2017&amp;id=1B\" title=\"show this lexeme in SHEBANQ\">בַ</a></div><div class=\"features\"> <span class=\"pdp\"><a href=\"https://shebanq.ancient-data.org/hebrew/text?book=Genesis&amp;chapter=7&amp;verse=21&amp;version=2017&amp;mr=m&amp;qw=q&amp;tp=txt_p&amp;tr=hb&amp;wget=v&amp;qget=v&amp;nget=vt\" title=\"Genesis 7:21\" sec=\"Genesis 7:21\">prep</a></span> <span class=\"gloss\">in</span></div></div><div class=\"word  \" ><div class=\"h\"><a target=\"_blank\" href=\"https://shebanq.ancient-data.org/hebrew/word?version=2017&amp;id=1H\" title=\"show this lexeme in SHEBANQ\"></a></div><div class=\"features\"> <span class=\"pdp\"><a href=\"https://shebanq.ancient-data.org/hebrew/text?book=Genesis&amp;chapter=7&amp;verse=21&amp;version=2017&amp;mr=m&amp;qw=q&amp;tp=txt_p&amp;tr=hb&amp;wget=v&amp;qget=v&amp;nget=vt\" title=\"Genesis 7:21\" sec=\"Genesis 7:21\">art</a></span> <span class=\"gloss\">the</span></div></div><div class=\"word  \" ><div class=\"h\"><a target=\"_blank\" href=\"https://shebanq.ancient-data.org/hebrew/word?version=2017&amp;id=1BHMHn\" title=\"show this lexeme in SHEBANQ\">בְּהֵמָה֙ </a></div><div class=\"features\"> <span class=\"pdp\"><a href=\"https://shebanq.ancient-data.org/hebrew/text?book=Genesis&amp;chapter=7&amp;verse=21&amp;version=2017&amp;mr=m&amp;qw=q&amp;tp=txt_p&amp;tr=hb&amp;wget=v&amp;qget=v&amp;nget=vt\" title=\"Genesis 7:21\" sec=\"Genesis 7:21\">subs</a></span> <span class=\"gloss\">cattle</span></div></div><div class=\"word  \" ><div class=\"h\"><a target=\"_blank\" href=\"https://shebanq.ancient-data.org/hebrew/word?version=2017&amp;id=1W\" title=\"show this lexeme in SHEBANQ\">וּ</a></div><div class=\"features\"> <span class=\"pdp\"><a href=\"https://shebanq.ancient-data.org/hebrew/text?book=Genesis&amp;chapter=7&amp;verse=21&amp;version=2017&amp;mr=m&amp;qw=q&amp;tp=txt_p&amp;tr=hb&amp;wget=v&amp;qget=v&amp;nget=vt\" title=\"Genesis 7:21\" sec=\"Genesis 7:21\">conj</a></span> <span class=\"gloss\">and</span></div></div><div class=\"word  \" ><div class=\"h\"><a target=\"_blank\" href=\"https://shebanq.ancient-data.org/hebrew/word?version=2017&amp;id=1B\" title=\"show this lexeme in SHEBANQ\">בַ֣</a></div><div class=\"features\"> <span class=\"pdp\"><a href=\"https://shebanq.ancient-data.org/hebrew/text?book=Genesis&amp;chapter=7&amp;verse=21&amp;version=2017&amp;mr=m&amp;qw=q&amp;tp=txt_p&amp;tr=hb&amp;wget=v&amp;qget=v&amp;nget=vt\" title=\"Genesis 7:21\" sec=\"Genesis 7:21\">prep</a></span> <span class=\"gloss\">in</span></div></div><div class=\"word  \" ><div class=\"h\"><a target=\"_blank\" href=\"https://shebanq.ancient-data.org/hebrew/word?version=2017&amp;id=1H\" title=\"show this lexeme in SHEBANQ\"></a></div><div class=\"features\"> <span class=\"pdp\"><a href=\"https://shebanq.ancient-data.org/hebrew/text?book=Genesis&amp;chapter=7&amp;verse=21&amp;version=2017&amp;mr=m&amp;qw=q&amp;tp=txt_p&amp;tr=hb&amp;wget=v&amp;qget=v&amp;nget=vt\" title=\"Genesis 7:21\" sec=\"Genesis 7:21\">art</a></span> <span class=\"gloss\">the</span></div></div><div class=\"word  \" ><div class=\"h\"><a target=\"_blank\" href=\"https://shebanq.ancient-data.org/hebrew/word?version=2017&amp;id=1XJHn\" title=\"show this lexeme in SHEBANQ\">חַיָּ֔ה </a></div><div class=\"features\"> <span class=\"pdp\"><a href=\"https://shebanq.ancient-data.org/hebrew/text?book=Genesis&amp;chapter=7&amp;verse=21&amp;version=2017&amp;mr=m&amp;qw=q&amp;tp=txt_p&amp;tr=hb&amp;wget=v&amp;qget=v&amp;nget=vt\" title=\"Genesis 7:21\" sec=\"Genesis 7:21\">subs</a></span> <span class=\"gloss\">wild animal</span></div></div><div class=\"word  \" ><div class=\"h\"><a target=\"_blank\" href=\"https://shebanq.ancient-data.org/hebrew/word?version=2017&amp;id=1W\" title=\"show this lexeme in SHEBANQ\">וּ</a></div><div class=\"features\"> <span class=\"pdp\"><a href=\"https://shebanq.ancient-data.org/hebrew/text?book=Genesis&amp;chapter=7&amp;verse=21&amp;version=2017&amp;mr=m&amp;qw=q&amp;tp=txt_p&amp;tr=hb&amp;wget=v&amp;qget=v&amp;nget=vt\" title=\"Genesis 7:21\" sec=\"Genesis 7:21\">conj</a></span> <span class=\"gloss\">and</span></div></div><div class=\"word  \" ><div class=\"h\"><a target=\"_blank\" href=\"https://shebanq.ancient-data.org/hebrew/word?version=2017&amp;id=1B\" title=\"show this lexeme in SHEBANQ\">בְ</a></div><div class=\"features\"> <span class=\"pdp\"><a href=\"https://shebanq.ancient-data.org/hebrew/text?book=Genesis&amp;chapter=7&amp;verse=21&amp;version=2017&amp;mr=m&amp;qw=q&amp;tp=txt_p&amp;tr=hb&amp;wget=v&amp;qget=v&amp;nget=vt\" title=\"Genesis 7:21\" sec=\"Genesis 7:21\">prep</a></span> <span class=\"gloss\">in</span></div></div><div class=\"word  \" ><div class=\"h\"><a target=\"_blank\" href=\"https://shebanq.ancient-data.org/hebrew/word?version=2017&amp;id=1KLn\" title=\"show this lexeme in SHEBANQ\">כָל־</a></div><div class=\"features\"> <span class=\"pdp\"><a href=\"https://shebanq.ancient-data.org/hebrew/text?book=Genesis&amp;chapter=7&amp;verse=21&amp;version=2017&amp;mr=m&amp;qw=q&amp;tp=txt_p&amp;tr=hb&amp;wget=v&amp;qget=v&amp;nget=vt\" title=\"Genesis 7:21\" sec=\"Genesis 7:21\">subs</a></span> <span class=\"gloss\">whole</span></div></div><div class=\"word  \" ><div class=\"h\"><a target=\"_blank\" href=\"https://shebanq.ancient-data.org/hebrew/word?version=2017&amp;id=1H\" title=\"show this lexeme in SHEBANQ\">הַ</a></div><div class=\"features\"> <span class=\"pdp\"><a href=\"https://shebanq.ancient-data.org/hebrew/text?book=Genesis&amp;chapter=7&amp;verse=21&amp;version=2017&amp;mr=m&amp;qw=q&amp;tp=txt_p&amp;tr=hb&amp;wget=v&amp;qget=v&amp;nget=vt\" title=\"Genesis 7:21\" sec=\"Genesis 7:21\">art</a></span> <span class=\"gloss\">the</span></div></div><div class=\"word  \" ><div class=\"h\"><a target=\"_blank\" href=\"https://shebanq.ancient-data.org/hebrew/word?version=2017&amp;id=1CRYn\" title=\"show this lexeme in SHEBANQ\">שֶּׁ֖רֶץ </a></div><div class=\"features\"> <span class=\"pdp\"><a href=\"https://shebanq.ancient-data.org/hebrew/text?book=Genesis&amp;chapter=7&amp;verse=21&amp;version=2017&amp;mr=m&amp;qw=q&amp;tp=txt_p&amp;tr=hb&amp;wget=v&amp;qget=v&amp;nget=vt\" title=\"Genesis 7:21\" sec=\"Genesis 7:21\">subs</a></span> <span class=\"gloss\">swarming creatures</span></div></div></div></div></div></div><div class=\"catom  \" >\n",
       "        <div class=\"clause \" >\n",
       "            <a href=\"https://shebanq.ancient-data.org/hebrew/text?book=Genesis&amp;chapter=7&amp;verse=21&amp;version=2017&amp;mr=m&amp;qw=q&amp;tp=txt_p&amp;tr=hb&amp;wget=v&amp;qget=v&amp;nget=vt\" title=\"Genesis 7:21\" sec=\"Genesis 7:21\">clause</a>   <span class=\"rela\">Attr</span> <span class=\"typ\">Ptcp</span>\n",
       "        </div>\n",
       "        <div class=\"atoms\">\n",
       "                    <div class=\"patom  \" >\n",
       "        <div class=\"phrase \" >\n",
       "            <a href=\"https://shebanq.ancient-data.org/hebrew/text?book=Genesis&amp;chapter=7&amp;verse=21&amp;version=2017&amp;mr=m&amp;qw=q&amp;tp=txt_p&amp;tr=hb&amp;wget=v&amp;qget=v&amp;nget=vt\" title=\"Genesis 7:21\" sec=\"Genesis 7:21\">phrase</a>   <span class=\"function\">Rela</span> <span class=\"typ\">CP</span>\n",
       "        </div>\n",
       "        <div class=\"atoms\">\n",
       "                    <div class=\"word  \" ><div class=\"h\"><a target=\"_blank\" href=\"https://shebanq.ancient-data.org/hebrew/word?version=2017&amp;id=1H\" title=\"show this lexeme in SHEBANQ\">הַ</a></div><div class=\"features\"> <span class=\"pdp\"><a href=\"https://shebanq.ancient-data.org/hebrew/text?book=Genesis&amp;chapter=7&amp;verse=21&amp;version=2017&amp;mr=m&amp;qw=q&amp;tp=txt_p&amp;tr=hb&amp;wget=v&amp;qget=v&amp;nget=vt\" title=\"Genesis 7:21\" sec=\"Genesis 7:21\">conj</a></span> <span class=\"gloss\">the</span></div></div></div></div><div class=\"patom  \" >\n",
       "        <div class=\"phrase \" >\n",
       "            <a href=\"https://shebanq.ancient-data.org/hebrew/text?book=Genesis&amp;chapter=7&amp;verse=21&amp;version=2017&amp;mr=m&amp;qw=q&amp;tp=txt_p&amp;tr=hb&amp;wget=v&amp;qget=v&amp;nget=vt\" title=\"Genesis 7:21\" sec=\"Genesis 7:21\">phrase</a>   <span class=\"function\">PreC</span> <span class=\"typ\">VP</span>\n",
       "        </div>\n",
       "        <div class=\"atoms\">\n",
       "                    <div class=\"word  \" ><div class=\"h\"><a target=\"_blank\" href=\"https://shebanq.ancient-data.org/hebrew/word?version=2017&amp;id=1CRYv\" title=\"show this lexeme in SHEBANQ\">שֹּׁרֵ֣ץ </a></div><div class=\"features\"> <span class=\"pdp\"><a href=\"https://shebanq.ancient-data.org/hebrew/text?book=Genesis&amp;chapter=7&amp;verse=21&amp;version=2017&amp;mr=m&amp;qw=q&amp;tp=txt_p&amp;tr=hb&amp;wget=v&amp;qget=v&amp;nget=vt\" title=\"Genesis 7:21\" sec=\"Genesis 7:21\">verb</a></span> <span class=\"gloss\">swarm</span> <span class=\"vs\">qal</span> <span class=\"vt\">ptca</span></div></div></div></div><div class=\"patom  \" >\n",
       "        <div class=\"phrase \" >\n",
       "            <a href=\"https://shebanq.ancient-data.org/hebrew/text?book=Genesis&amp;chapter=7&amp;verse=21&amp;version=2017&amp;mr=m&amp;qw=q&amp;tp=txt_p&amp;tr=hb&amp;wget=v&amp;qget=v&amp;nget=vt\" title=\"Genesis 7:21\" sec=\"Genesis 7:21\">phrase</a>   <span class=\"function\">Cmpl</span> <span class=\"typ\">PP</span>\n",
       "        </div>\n",
       "        <div class=\"atoms\">\n",
       "                    <div class=\"word  \" ><div class=\"h\"><a target=\"_blank\" href=\"https://shebanq.ancient-data.org/hebrew/word?version=2017&amp;id=1OL\" title=\"show this lexeme in SHEBANQ\">עַל־</a></div><div class=\"features\"> <span class=\"pdp\"><a href=\"https://shebanq.ancient-data.org/hebrew/text?book=Genesis&amp;chapter=7&amp;verse=21&amp;version=2017&amp;mr=m&amp;qw=q&amp;tp=txt_p&amp;tr=hb&amp;wget=v&amp;qget=v&amp;nget=vt\" title=\"Genesis 7:21\" sec=\"Genesis 7:21\">prep</a></span> <span class=\"gloss\">upon</span></div></div><div class=\"word  \" ><div class=\"h\"><a target=\"_blank\" href=\"https://shebanq.ancient-data.org/hebrew/word?version=2017&amp;id=1H\" title=\"show this lexeme in SHEBANQ\">הָ</a></div><div class=\"features\"> <span class=\"pdp\"><a href=\"https://shebanq.ancient-data.org/hebrew/text?book=Genesis&amp;chapter=7&amp;verse=21&amp;version=2017&amp;mr=m&amp;qw=q&amp;tp=txt_p&amp;tr=hb&amp;wget=v&amp;qget=v&amp;nget=vt\" title=\"Genesis 7:21\" sec=\"Genesis 7:21\">art</a></span> <span class=\"gloss\">the</span></div></div><div class=\"word  \" ><div class=\"h\"><a target=\"_blank\" href=\"https://shebanq.ancient-data.org/hebrew/word?version=2017&amp;id=1ARYn\" title=\"show this lexeme in SHEBANQ\">אָ֑רֶץ </a></div><div class=\"features\"> <span class=\"pdp\"><a href=\"https://shebanq.ancient-data.org/hebrew/text?book=Genesis&amp;chapter=7&amp;verse=21&amp;version=2017&amp;mr=m&amp;qw=q&amp;tp=txt_p&amp;tr=hb&amp;wget=v&amp;qget=v&amp;nget=vt\" title=\"Genesis 7:21\" sec=\"Genesis 7:21\">subs</a></span> <span class=\"gloss\">earth</span></div></div></div></div></div></div><div class=\"catom  r \" >\n",
       "        <div class=\"clause \" >\n",
       "            <a href=\"https://shebanq.ancient-data.org/hebrew/text?book=Genesis&amp;chapter=7&amp;verse=21&amp;version=2017&amp;mr=m&amp;qw=q&amp;tp=txt_p&amp;tr=hb&amp;wget=v&amp;qget=v&amp;nget=vt\" title=\"Genesis 7:21\" sec=\"Genesis 7:21\">clause</a>   <span class=\"typ\">WayX|Defc</span>\n",
       "        </div>\n",
       "        <div class=\"atoms\">\n",
       "                    <div class=\"patom  r l hl\"  style=\"background-color: lightgreen;\" >\n",
       "        <div class=\"phrase hl\"  style=\"background-color: lightgreen;\" >\n",
       "            <a href=\"https://shebanq.ancient-data.org/hebrew/text?book=Genesis&amp;chapter=7&amp;verse=21&amp;version=2017&amp;mr=m&amp;qw=q&amp;tp=txt_p&amp;tr=hb&amp;wget=v&amp;qget=v&amp;nget=vt\" title=\"Genesis 7:21\" sec=\"Genesis 7:21\">phrase</a>   <span class=\"function\">Subj</span> <span class=\"typ\">NP|CP</span>\n",
       "        </div>\n",
       "        <div class=\"atoms\">\n",
       "                    <div class=\"word  \" ><div class=\"h\"><a target=\"_blank\" href=\"https://shebanq.ancient-data.org/hebrew/word?version=2017&amp;id=1W\" title=\"show this lexeme in SHEBANQ\">וְ</a></div><div class=\"features\"> <span class=\"pdp\"><a href=\"https://shebanq.ancient-data.org/hebrew/text?book=Genesis&amp;chapter=7&amp;verse=21&amp;version=2017&amp;mr=m&amp;qw=q&amp;tp=txt_p&amp;tr=hb&amp;wget=v&amp;qget=v&amp;nget=vt\" title=\"Genesis 7:21\" sec=\"Genesis 7:21\">conj</a></span> <span class=\"gloss\">and</span></div></div></div></div><div class=\"patom  r hl\"  style=\"background-color: lightgreen;\" >\n",
       "        <div class=\"phrase hl\"  style=\"background-color: lightgreen;\" >\n",
       "            <a href=\"https://shebanq.ancient-data.org/hebrew/text?book=Genesis&amp;chapter=7&amp;verse=21&amp;version=2017&amp;mr=m&amp;qw=q&amp;tp=txt_p&amp;tr=hb&amp;wget=v&amp;qget=v&amp;nget=vt\" title=\"Genesis 7:21\" sec=\"Genesis 7:21\">phrase</a>   <span class=\"function\">Subj</span> <span class=\"typ\">NP</span>\n",
       "        </div>\n",
       "        <div class=\"atoms\">\n",
       "                    <div class=\"word  \" ><div class=\"h\"><a target=\"_blank\" href=\"https://shebanq.ancient-data.org/hebrew/word?version=2017&amp;id=1KLn\" title=\"show this lexeme in SHEBANQ\">כֹ֖ל </a></div><div class=\"features\"> <span class=\"pdp\"><a href=\"https://shebanq.ancient-data.org/hebrew/text?book=Genesis&amp;chapter=7&amp;verse=21&amp;version=2017&amp;mr=m&amp;qw=q&amp;tp=txt_p&amp;tr=hb&amp;wget=v&amp;qget=v&amp;nget=vt\" title=\"Genesis 7:21\" sec=\"Genesis 7:21\">subs</a></span> <span class=\"gloss\">whole</span></div></div><div class=\"word  \" ><div class=\"h\"><a target=\"_blank\" href=\"https://shebanq.ancient-data.org/hebrew/word?version=2017&amp;id=1H\" title=\"show this lexeme in SHEBANQ\">הָ</a></div><div class=\"features\"> <span class=\"pdp\"><a href=\"https://shebanq.ancient-data.org/hebrew/text?book=Genesis&amp;chapter=7&amp;verse=21&amp;version=2017&amp;mr=m&amp;qw=q&amp;tp=txt_p&amp;tr=hb&amp;wget=v&amp;qget=v&amp;nget=vt\" title=\"Genesis 7:21\" sec=\"Genesis 7:21\">art</a></span> <span class=\"gloss\">the</span></div></div><div class=\"word  hl\" ><div class=\"h\"><a target=\"_blank\" href=\"https://shebanq.ancient-data.org/hebrew/word?version=2017&amp;id=1ADMn\" title=\"show this lexeme in SHEBANQ\">אָדָֽם׃ </a></div><div class=\"features\"> <span class=\"pdp\"><a href=\"https://shebanq.ancient-data.org/hebrew/text?book=Genesis&amp;chapter=7&amp;verse=21&amp;version=2017&amp;mr=m&amp;qw=q&amp;tp=txt_p&amp;tr=hb&amp;wget=v&amp;qget=v&amp;nget=vt\" title=\"Genesis 7:21\" sec=\"Genesis 7:21\">subs</a></span> <span class=\"gloss\">human, mankind</span></div></div></div></div></div></div></div></div></div></div>"
      ],
      "text/plain": [
       "<IPython.core.display.HTML object>"
      ]
     },
     "metadata": {},
     "output_type": "display_data"
    },
    {
     "data": {
      "text/html": [
       "<p><b>result</b> <i>10</i></p>"
      ],
      "text/plain": [
       "<IPython.core.display.HTML object>"
      ]
     },
     "metadata": {},
     "output_type": "display_data"
    },
    {
     "data": {
      "text/html": [
       "<div class=\"outeritem\"><div class=\"verse  \" >\n",
       "    <div class=\"vl\">\n",
       "        <div class=\"vrs\"><a href=\"https://shebanq.ancient-data.org/hebrew/text?book=Genesis&amp;chapter=7&amp;verse=21&amp;version=2017&amp;mr=m&amp;qw=q&amp;tp=txt_p&amp;tr=hb&amp;wget=v&amp;qget=v&amp;nget=vt\" title=\"show this passage in SHEBANQ\" sec=\"Genesis 7:21\">Genesis 7:21</a></div>\n",
       "        \n",
       "    </div>\n",
       "<div class=\"satom  \" >\n",
       "        <div class=\"sentence \" >\n",
       "            <a href=\"https://shebanq.ancient-data.org/hebrew/text?book=Genesis&amp;chapter=7&amp;verse=21&amp;version=2017&amp;mr=m&amp;qw=q&amp;tp=txt_p&amp;tr=hb&amp;wget=v&amp;qget=v&amp;nget=vt\" title=\"Genesis 7:21\" sec=\"Genesis 7:21\">sentence</a>   <span class=\"number\">32|469</span>\n",
       "        </div>\n",
       "        <div class=\"atoms\">\n",
       "                    <div class=\"catom  l \" >\n",
       "        <div class=\"clause \" >\n",
       "            <a href=\"https://shebanq.ancient-data.org/hebrew/text?book=Genesis&amp;chapter=7&amp;verse=21&amp;version=2017&amp;mr=m&amp;qw=q&amp;tp=txt_p&amp;tr=hb&amp;wget=v&amp;qget=v&amp;nget=vt\" title=\"Genesis 7:21\" sec=\"Genesis 7:21\">clause</a>   <span class=\"typ\">WayX</span>\n",
       "        </div>\n",
       "        <div class=\"atoms\">\n",
       "                    <div class=\"patom  \" >\n",
       "        <div class=\"phrase \" >\n",
       "            <a href=\"https://shebanq.ancient-data.org/hebrew/text?book=Genesis&amp;chapter=7&amp;verse=21&amp;version=2017&amp;mr=m&amp;qw=q&amp;tp=txt_p&amp;tr=hb&amp;wget=v&amp;qget=v&amp;nget=vt\" title=\"Genesis 7:21\" sec=\"Genesis 7:21\">phrase</a>   <span class=\"function\">Conj</span> <span class=\"typ\">CP</span>\n",
       "        </div>\n",
       "        <div class=\"atoms\">\n",
       "                    <div class=\"word  \" ><div class=\"h\"><a target=\"_blank\" href=\"https://shebanq.ancient-data.org/hebrew/word?version=2017&amp;id=1W\" title=\"show this lexeme in SHEBANQ\">וַ</a></div><div class=\"features\"> <span class=\"pdp\"><a href=\"https://shebanq.ancient-data.org/hebrew/text?book=Genesis&amp;chapter=7&amp;verse=21&amp;version=2017&amp;mr=m&amp;qw=q&amp;tp=txt_p&amp;tr=hb&amp;wget=v&amp;qget=v&amp;nget=vt\" title=\"Genesis 7:21\" sec=\"Genesis 7:21\">conj</a></span> <span class=\"gloss\">and</span></div></div></div></div><div class=\"patom  \" >\n",
       "        <div class=\"phrase \" >\n",
       "            <a href=\"https://shebanq.ancient-data.org/hebrew/text?book=Genesis&amp;chapter=7&amp;verse=21&amp;version=2017&amp;mr=m&amp;qw=q&amp;tp=txt_p&amp;tr=hb&amp;wget=v&amp;qget=v&amp;nget=vt\" title=\"Genesis 7:21\" sec=\"Genesis 7:21\">phrase</a>   <span class=\"function\">Pred</span> <span class=\"typ\">VP</span>\n",
       "        </div>\n",
       "        <div class=\"atoms\">\n",
       "                    <div class=\"word  \" ><div class=\"h\"><a target=\"_blank\" href=\"https://shebanq.ancient-data.org/hebrew/word?version=2017&amp;id=1GWOv\" title=\"show this lexeme in SHEBANQ\">יִּגְוַ֞ע </a></div><div class=\"features\"> <span class=\"pdp\"><a href=\"https://shebanq.ancient-data.org/hebrew/text?book=Genesis&amp;chapter=7&amp;verse=21&amp;version=2017&amp;mr=m&amp;qw=q&amp;tp=txt_p&amp;tr=hb&amp;wget=v&amp;qget=v&amp;nget=vt\" title=\"Genesis 7:21\" sec=\"Genesis 7:21\">verb</a></span> <span class=\"gloss\">expire</span> <span class=\"vs\">qal</span> <span class=\"vt\">wayq</span></div></div></div></div><div class=\"patom  l hl\"  style=\"background-color: lightgreen;\" >\n",
       "        <div class=\"phrase hl\"  style=\"background-color: lightgreen;\" >\n",
       "            <a href=\"https://shebanq.ancient-data.org/hebrew/text?book=Genesis&amp;chapter=7&amp;verse=21&amp;version=2017&amp;mr=m&amp;qw=q&amp;tp=txt_p&amp;tr=hb&amp;wget=v&amp;qget=v&amp;nget=vt\" title=\"Genesis 7:21\" sec=\"Genesis 7:21\">phrase</a>   <span class=\"function\">Subj</span> <span class=\"typ\">NP</span>\n",
       "        </div>\n",
       "        <div class=\"atoms\">\n",
       "                    <div class=\"word  \" ><div class=\"h\"><a target=\"_blank\" href=\"https://shebanq.ancient-data.org/hebrew/word?version=2017&amp;id=1KLn\" title=\"show this lexeme in SHEBANQ\">כָּל־</a></div><div class=\"features\"> <span class=\"pdp\"><a href=\"https://shebanq.ancient-data.org/hebrew/text?book=Genesis&amp;chapter=7&amp;verse=21&amp;version=2017&amp;mr=m&amp;qw=q&amp;tp=txt_p&amp;tr=hb&amp;wget=v&amp;qget=v&amp;nget=vt\" title=\"Genesis 7:21\" sec=\"Genesis 7:21\">subs</a></span> <span class=\"gloss\">whole</span></div></div><div class=\"word  \" ><div class=\"h\"><a target=\"_blank\" href=\"https://shebanq.ancient-data.org/hebrew/word?version=2017&amp;id=1BFRn\" title=\"show this lexeme in SHEBANQ\">בָּשָׂ֣ר׀ </a></div><div class=\"features\"> <span class=\"pdp\"><a href=\"https://shebanq.ancient-data.org/hebrew/text?book=Genesis&amp;chapter=7&amp;verse=21&amp;version=2017&amp;mr=m&amp;qw=q&amp;tp=txt_p&amp;tr=hb&amp;wget=v&amp;qget=v&amp;nget=vt\" title=\"Genesis 7:21\" sec=\"Genesis 7:21\">subs</a></span> <span class=\"gloss\">flesh</span></div></div></div></div></div></div><div class=\"catom  \" >\n",
       "        <div class=\"clause \" >\n",
       "            <a href=\"https://shebanq.ancient-data.org/hebrew/text?book=Genesis&amp;chapter=7&amp;verse=21&amp;version=2017&amp;mr=m&amp;qw=q&amp;tp=txt_p&amp;tr=hb&amp;wget=v&amp;qget=v&amp;nget=vt\" title=\"Genesis 7:21\" sec=\"Genesis 7:21\">clause</a>   <span class=\"rela\">Attr</span> <span class=\"typ\">Ptcp</span>\n",
       "        </div>\n",
       "        <div class=\"atoms\">\n",
       "                    <div class=\"patom  \" >\n",
       "        <div class=\"phrase \" >\n",
       "            <a href=\"https://shebanq.ancient-data.org/hebrew/text?book=Genesis&amp;chapter=7&amp;verse=21&amp;version=2017&amp;mr=m&amp;qw=q&amp;tp=txt_p&amp;tr=hb&amp;wget=v&amp;qget=v&amp;nget=vt\" title=\"Genesis 7:21\" sec=\"Genesis 7:21\">phrase</a>   <span class=\"function\">Rela</span> <span class=\"typ\">CP</span>\n",
       "        </div>\n",
       "        <div class=\"atoms\">\n",
       "                    <div class=\"word  \" ><div class=\"h\"><a target=\"_blank\" href=\"https://shebanq.ancient-data.org/hebrew/word?version=2017&amp;id=1H\" title=\"show this lexeme in SHEBANQ\">הָ</a></div><div class=\"features\"> <span class=\"pdp\"><a href=\"https://shebanq.ancient-data.org/hebrew/text?book=Genesis&amp;chapter=7&amp;verse=21&amp;version=2017&amp;mr=m&amp;qw=q&amp;tp=txt_p&amp;tr=hb&amp;wget=v&amp;qget=v&amp;nget=vt\" title=\"Genesis 7:21\" sec=\"Genesis 7:21\">conj</a></span> <span class=\"gloss\">the</span></div></div></div></div><div class=\"patom  \" >\n",
       "        <div class=\"phrase \" >\n",
       "            <a href=\"https://shebanq.ancient-data.org/hebrew/text?book=Genesis&amp;chapter=7&amp;verse=21&amp;version=2017&amp;mr=m&amp;qw=q&amp;tp=txt_p&amp;tr=hb&amp;wget=v&amp;qget=v&amp;nget=vt\" title=\"Genesis 7:21\" sec=\"Genesis 7:21\">phrase</a>   <span class=\"function\">PreC</span> <span class=\"typ\">VP</span>\n",
       "        </div>\n",
       "        <div class=\"atoms\">\n",
       "                    <div class=\"word  \" ><div class=\"h\"><a target=\"_blank\" href=\"https://shebanq.ancient-data.org/hebrew/word?version=2017&amp;id=1RMFv\" title=\"show this lexeme in SHEBANQ\">רֹמֵ֣שׂ </a></div><div class=\"features\"> <span class=\"pdp\"><a href=\"https://shebanq.ancient-data.org/hebrew/text?book=Genesis&amp;chapter=7&amp;verse=21&amp;version=2017&amp;mr=m&amp;qw=q&amp;tp=txt_p&amp;tr=hb&amp;wget=v&amp;qget=v&amp;nget=vt\" title=\"Genesis 7:21\" sec=\"Genesis 7:21\">verb</a></span> <span class=\"gloss\">creep</span> <span class=\"vs\">qal</span> <span class=\"vt\">ptca</span></div></div></div></div><div class=\"patom  \" >\n",
       "        <div class=\"phrase \" >\n",
       "            <a href=\"https://shebanq.ancient-data.org/hebrew/text?book=Genesis&amp;chapter=7&amp;verse=21&amp;version=2017&amp;mr=m&amp;qw=q&amp;tp=txt_p&amp;tr=hb&amp;wget=v&amp;qget=v&amp;nget=vt\" title=\"Genesis 7:21\" sec=\"Genesis 7:21\">phrase</a>   <span class=\"function\">Cmpl</span> <span class=\"typ\">PP</span>\n",
       "        </div>\n",
       "        <div class=\"atoms\">\n",
       "                    <div class=\"word  \" ><div class=\"h\"><a target=\"_blank\" href=\"https://shebanq.ancient-data.org/hebrew/word?version=2017&amp;id=1OL\" title=\"show this lexeme in SHEBANQ\">עַל־</a></div><div class=\"features\"> <span class=\"pdp\"><a href=\"https://shebanq.ancient-data.org/hebrew/text?book=Genesis&amp;chapter=7&amp;verse=21&amp;version=2017&amp;mr=m&amp;qw=q&amp;tp=txt_p&amp;tr=hb&amp;wget=v&amp;qget=v&amp;nget=vt\" title=\"Genesis 7:21\" sec=\"Genesis 7:21\">prep</a></span> <span class=\"gloss\">upon</span></div></div><div class=\"word  \" ><div class=\"h\"><a target=\"_blank\" href=\"https://shebanq.ancient-data.org/hebrew/word?version=2017&amp;id=1H\" title=\"show this lexeme in SHEBANQ\">הָ</a></div><div class=\"features\"> <span class=\"pdp\"><a href=\"https://shebanq.ancient-data.org/hebrew/text?book=Genesis&amp;chapter=7&amp;verse=21&amp;version=2017&amp;mr=m&amp;qw=q&amp;tp=txt_p&amp;tr=hb&amp;wget=v&amp;qget=v&amp;nget=vt\" title=\"Genesis 7:21\" sec=\"Genesis 7:21\">art</a></span> <span class=\"gloss\">the</span></div></div><div class=\"word  \" ><div class=\"h\"><a target=\"_blank\" href=\"https://shebanq.ancient-data.org/hebrew/word?version=2017&amp;id=1ARYn\" title=\"show this lexeme in SHEBANQ\">אָ֗רֶץ </a></div><div class=\"features\"> <span class=\"pdp\"><a href=\"https://shebanq.ancient-data.org/hebrew/text?book=Genesis&amp;chapter=7&amp;verse=21&amp;version=2017&amp;mr=m&amp;qw=q&amp;tp=txt_p&amp;tr=hb&amp;wget=v&amp;qget=v&amp;nget=vt\" title=\"Genesis 7:21\" sec=\"Genesis 7:21\">subs</a></span> <span class=\"gloss\">earth</span></div></div></div></div></div></div><div class=\"catom  r l \" >\n",
       "        <div class=\"clause \" >\n",
       "            <a href=\"https://shebanq.ancient-data.org/hebrew/text?book=Genesis&amp;chapter=7&amp;verse=21&amp;version=2017&amp;mr=m&amp;qw=q&amp;tp=txt_p&amp;tr=hb&amp;wget=v&amp;qget=v&amp;nget=vt\" title=\"Genesis 7:21\" sec=\"Genesis 7:21\">clause</a>   <span class=\"typ\">WayX|Defc</span>\n",
       "        </div>\n",
       "        <div class=\"atoms\">\n",
       "                    <div class=\"patom  r l hl\"  style=\"background-color: lightgreen;\" >\n",
       "        <div class=\"phrase hl\"  style=\"background-color: lightgreen;\" >\n",
       "            <a href=\"https://shebanq.ancient-data.org/hebrew/text?book=Genesis&amp;chapter=7&amp;verse=21&amp;version=2017&amp;mr=m&amp;qw=q&amp;tp=txt_p&amp;tr=hb&amp;wget=v&amp;qget=v&amp;nget=vt\" title=\"Genesis 7:21\" sec=\"Genesis 7:21\">phrase</a>   <span class=\"function\">Subj</span> <span class=\"typ\">NP|PP</span>\n",
       "        </div>\n",
       "        <div class=\"atoms\">\n",
       "                    <div class=\"word  \" ><div class=\"h\"><a target=\"_blank\" href=\"https://shebanq.ancient-data.org/hebrew/word?version=2017&amp;id=1B\" title=\"show this lexeme in SHEBANQ\">בָּ</a></div><div class=\"features\"> <span class=\"pdp\"><a href=\"https://shebanq.ancient-data.org/hebrew/text?book=Genesis&amp;chapter=7&amp;verse=21&amp;version=2017&amp;mr=m&amp;qw=q&amp;tp=txt_p&amp;tr=hb&amp;wget=v&amp;qget=v&amp;nget=vt\" title=\"Genesis 7:21\" sec=\"Genesis 7:21\">prep</a></span> <span class=\"gloss\">in</span></div></div><div class=\"word  \" ><div class=\"h\"><a target=\"_blank\" href=\"https://shebanq.ancient-data.org/hebrew/word?version=2017&amp;id=1H\" title=\"show this lexeme in SHEBANQ\"></a></div><div class=\"features\"> <span class=\"pdp\"><a href=\"https://shebanq.ancient-data.org/hebrew/text?book=Genesis&amp;chapter=7&amp;verse=21&amp;version=2017&amp;mr=m&amp;qw=q&amp;tp=txt_p&amp;tr=hb&amp;wget=v&amp;qget=v&amp;nget=vt\" title=\"Genesis 7:21\" sec=\"Genesis 7:21\">art</a></span> <span class=\"gloss\">the</span></div></div><div class=\"word  \" ><div class=\"h\"><a target=\"_blank\" href=\"https://shebanq.ancient-data.org/hebrew/word?version=2017&amp;id=1OWPn\" title=\"show this lexeme in SHEBANQ\">עֹ֤וף </a></div><div class=\"features\"> <span class=\"pdp\"><a href=\"https://shebanq.ancient-data.org/hebrew/text?book=Genesis&amp;chapter=7&amp;verse=21&amp;version=2017&amp;mr=m&amp;qw=q&amp;tp=txt_p&amp;tr=hb&amp;wget=v&amp;qget=v&amp;nget=vt\" title=\"Genesis 7:21\" sec=\"Genesis 7:21\">subs</a></span> <span class=\"gloss\">birds</span></div></div><div class=\"word  \" ><div class=\"h\"><a target=\"_blank\" href=\"https://shebanq.ancient-data.org/hebrew/word?version=2017&amp;id=1W\" title=\"show this lexeme in SHEBANQ\">וּ</a></div><div class=\"features\"> <span class=\"pdp\"><a href=\"https://shebanq.ancient-data.org/hebrew/text?book=Genesis&amp;chapter=7&amp;verse=21&amp;version=2017&amp;mr=m&amp;qw=q&amp;tp=txt_p&amp;tr=hb&amp;wget=v&amp;qget=v&amp;nget=vt\" title=\"Genesis 7:21\" sec=\"Genesis 7:21\">conj</a></span> <span class=\"gloss\">and</span></div></div><div class=\"word  \" ><div class=\"h\"><a target=\"_blank\" href=\"https://shebanq.ancient-data.org/hebrew/word?version=2017&amp;id=1B\" title=\"show this lexeme in SHEBANQ\">בַ</a></div><div class=\"features\"> <span class=\"pdp\"><a href=\"https://shebanq.ancient-data.org/hebrew/text?book=Genesis&amp;chapter=7&amp;verse=21&amp;version=2017&amp;mr=m&amp;qw=q&amp;tp=txt_p&amp;tr=hb&amp;wget=v&amp;qget=v&amp;nget=vt\" title=\"Genesis 7:21\" sec=\"Genesis 7:21\">prep</a></span> <span class=\"gloss\">in</span></div></div><div class=\"word  \" ><div class=\"h\"><a target=\"_blank\" href=\"https://shebanq.ancient-data.org/hebrew/word?version=2017&amp;id=1H\" title=\"show this lexeme in SHEBANQ\"></a></div><div class=\"features\"> <span class=\"pdp\"><a href=\"https://shebanq.ancient-data.org/hebrew/text?book=Genesis&amp;chapter=7&amp;verse=21&amp;version=2017&amp;mr=m&amp;qw=q&amp;tp=txt_p&amp;tr=hb&amp;wget=v&amp;qget=v&amp;nget=vt\" title=\"Genesis 7:21\" sec=\"Genesis 7:21\">art</a></span> <span class=\"gloss\">the</span></div></div><div class=\"word  \" ><div class=\"h\"><a target=\"_blank\" href=\"https://shebanq.ancient-data.org/hebrew/word?version=2017&amp;id=1BHMHn\" title=\"show this lexeme in SHEBANQ\">בְּהֵמָה֙ </a></div><div class=\"features\"> <span class=\"pdp\"><a href=\"https://shebanq.ancient-data.org/hebrew/text?book=Genesis&amp;chapter=7&amp;verse=21&amp;version=2017&amp;mr=m&amp;qw=q&amp;tp=txt_p&amp;tr=hb&amp;wget=v&amp;qget=v&amp;nget=vt\" title=\"Genesis 7:21\" sec=\"Genesis 7:21\">subs</a></span> <span class=\"gloss\">cattle</span></div></div><div class=\"word  \" ><div class=\"h\"><a target=\"_blank\" href=\"https://shebanq.ancient-data.org/hebrew/word?version=2017&amp;id=1W\" title=\"show this lexeme in SHEBANQ\">וּ</a></div><div class=\"features\"> <span class=\"pdp\"><a href=\"https://shebanq.ancient-data.org/hebrew/text?book=Genesis&amp;chapter=7&amp;verse=21&amp;version=2017&amp;mr=m&amp;qw=q&amp;tp=txt_p&amp;tr=hb&amp;wget=v&amp;qget=v&amp;nget=vt\" title=\"Genesis 7:21\" sec=\"Genesis 7:21\">conj</a></span> <span class=\"gloss\">and</span></div></div><div class=\"word  \" ><div class=\"h\"><a target=\"_blank\" href=\"https://shebanq.ancient-data.org/hebrew/word?version=2017&amp;id=1B\" title=\"show this lexeme in SHEBANQ\">בַ֣</a></div><div class=\"features\"> <span class=\"pdp\"><a href=\"https://shebanq.ancient-data.org/hebrew/text?book=Genesis&amp;chapter=7&amp;verse=21&amp;version=2017&amp;mr=m&amp;qw=q&amp;tp=txt_p&amp;tr=hb&amp;wget=v&amp;qget=v&amp;nget=vt\" title=\"Genesis 7:21\" sec=\"Genesis 7:21\">prep</a></span> <span class=\"gloss\">in</span></div></div><div class=\"word  \" ><div class=\"h\"><a target=\"_blank\" href=\"https://shebanq.ancient-data.org/hebrew/word?version=2017&amp;id=1H\" title=\"show this lexeme in SHEBANQ\"></a></div><div class=\"features\"> <span class=\"pdp\"><a href=\"https://shebanq.ancient-data.org/hebrew/text?book=Genesis&amp;chapter=7&amp;verse=21&amp;version=2017&amp;mr=m&amp;qw=q&amp;tp=txt_p&amp;tr=hb&amp;wget=v&amp;qget=v&amp;nget=vt\" title=\"Genesis 7:21\" sec=\"Genesis 7:21\">art</a></span> <span class=\"gloss\">the</span></div></div><div class=\"word  \" ><div class=\"h\"><a target=\"_blank\" href=\"https://shebanq.ancient-data.org/hebrew/word?version=2017&amp;id=1XJHn\" title=\"show this lexeme in SHEBANQ\">חַיָּ֔ה </a></div><div class=\"features\"> <span class=\"pdp\"><a href=\"https://shebanq.ancient-data.org/hebrew/text?book=Genesis&amp;chapter=7&amp;verse=21&amp;version=2017&amp;mr=m&amp;qw=q&amp;tp=txt_p&amp;tr=hb&amp;wget=v&amp;qget=v&amp;nget=vt\" title=\"Genesis 7:21\" sec=\"Genesis 7:21\">subs</a></span> <span class=\"gloss\">wild animal</span></div></div><div class=\"word  \" ><div class=\"h\"><a target=\"_blank\" href=\"https://shebanq.ancient-data.org/hebrew/word?version=2017&amp;id=1W\" title=\"show this lexeme in SHEBANQ\">וּ</a></div><div class=\"features\"> <span class=\"pdp\"><a href=\"https://shebanq.ancient-data.org/hebrew/text?book=Genesis&amp;chapter=7&amp;verse=21&amp;version=2017&amp;mr=m&amp;qw=q&amp;tp=txt_p&amp;tr=hb&amp;wget=v&amp;qget=v&amp;nget=vt\" title=\"Genesis 7:21\" sec=\"Genesis 7:21\">conj</a></span> <span class=\"gloss\">and</span></div></div><div class=\"word  \" ><div class=\"h\"><a target=\"_blank\" href=\"https://shebanq.ancient-data.org/hebrew/word?version=2017&amp;id=1B\" title=\"show this lexeme in SHEBANQ\">בְ</a></div><div class=\"features\"> <span class=\"pdp\"><a href=\"https://shebanq.ancient-data.org/hebrew/text?book=Genesis&amp;chapter=7&amp;verse=21&amp;version=2017&amp;mr=m&amp;qw=q&amp;tp=txt_p&amp;tr=hb&amp;wget=v&amp;qget=v&amp;nget=vt\" title=\"Genesis 7:21\" sec=\"Genesis 7:21\">prep</a></span> <span class=\"gloss\">in</span></div></div><div class=\"word  \" ><div class=\"h\"><a target=\"_blank\" href=\"https://shebanq.ancient-data.org/hebrew/word?version=2017&amp;id=1KLn\" title=\"show this lexeme in SHEBANQ\">כָל־</a></div><div class=\"features\"> <span class=\"pdp\"><a href=\"https://shebanq.ancient-data.org/hebrew/text?book=Genesis&amp;chapter=7&amp;verse=21&amp;version=2017&amp;mr=m&amp;qw=q&amp;tp=txt_p&amp;tr=hb&amp;wget=v&amp;qget=v&amp;nget=vt\" title=\"Genesis 7:21\" sec=\"Genesis 7:21\">subs</a></span> <span class=\"gloss\">whole</span></div></div><div class=\"word  \" ><div class=\"h\"><a target=\"_blank\" href=\"https://shebanq.ancient-data.org/hebrew/word?version=2017&amp;id=1H\" title=\"show this lexeme in SHEBANQ\">הַ</a></div><div class=\"features\"> <span class=\"pdp\"><a href=\"https://shebanq.ancient-data.org/hebrew/text?book=Genesis&amp;chapter=7&amp;verse=21&amp;version=2017&amp;mr=m&amp;qw=q&amp;tp=txt_p&amp;tr=hb&amp;wget=v&amp;qget=v&amp;nget=vt\" title=\"Genesis 7:21\" sec=\"Genesis 7:21\">art</a></span> <span class=\"gloss\">the</span></div></div><div class=\"word  hl\"  style=\"background-color: orange;\" ><div class=\"h\"><a target=\"_blank\" href=\"https://shebanq.ancient-data.org/hebrew/word?version=2017&amp;id=1CRYn\" title=\"show this lexeme in SHEBANQ\">שֶּׁ֖רֶץ </a></div><div class=\"features\"> <span class=\"pdp\"><a href=\"https://shebanq.ancient-data.org/hebrew/text?book=Genesis&amp;chapter=7&amp;verse=21&amp;version=2017&amp;mr=m&amp;qw=q&amp;tp=txt_p&amp;tr=hb&amp;wget=v&amp;qget=v&amp;nget=vt\" title=\"Genesis 7:21\" sec=\"Genesis 7:21\">subs</a></span> <span class=\"gloss\">swarming creatures</span></div></div></div></div></div></div><div class=\"catom  \" >\n",
       "        <div class=\"clause \" >\n",
       "            <a href=\"https://shebanq.ancient-data.org/hebrew/text?book=Genesis&amp;chapter=7&amp;verse=21&amp;version=2017&amp;mr=m&amp;qw=q&amp;tp=txt_p&amp;tr=hb&amp;wget=v&amp;qget=v&amp;nget=vt\" title=\"Genesis 7:21\" sec=\"Genesis 7:21\">clause</a>   <span class=\"rela\">Attr</span> <span class=\"typ\">Ptcp</span>\n",
       "        </div>\n",
       "        <div class=\"atoms\">\n",
       "                    <div class=\"patom  \" >\n",
       "        <div class=\"phrase \" >\n",
       "            <a href=\"https://shebanq.ancient-data.org/hebrew/text?book=Genesis&amp;chapter=7&amp;verse=21&amp;version=2017&amp;mr=m&amp;qw=q&amp;tp=txt_p&amp;tr=hb&amp;wget=v&amp;qget=v&amp;nget=vt\" title=\"Genesis 7:21\" sec=\"Genesis 7:21\">phrase</a>   <span class=\"function\">Rela</span> <span class=\"typ\">CP</span>\n",
       "        </div>\n",
       "        <div class=\"atoms\">\n",
       "                    <div class=\"word  hl\"  style=\"background-color: magenta;\" ><div class=\"h\"><a target=\"_blank\" href=\"https://shebanq.ancient-data.org/hebrew/word?version=2017&amp;id=1H\" title=\"show this lexeme in SHEBANQ\">הַ</a></div><div class=\"features\"> <span class=\"pdp\"><a href=\"https://shebanq.ancient-data.org/hebrew/text?book=Genesis&amp;chapter=7&amp;verse=21&amp;version=2017&amp;mr=m&amp;qw=q&amp;tp=txt_p&amp;tr=hb&amp;wget=v&amp;qget=v&amp;nget=vt\" title=\"Genesis 7:21\" sec=\"Genesis 7:21\">conj</a></span> <span class=\"gloss\">the</span></div></div></div></div><div class=\"patom  \" >\n",
       "        <div class=\"phrase \" >\n",
       "            <a href=\"https://shebanq.ancient-data.org/hebrew/text?book=Genesis&amp;chapter=7&amp;verse=21&amp;version=2017&amp;mr=m&amp;qw=q&amp;tp=txt_p&amp;tr=hb&amp;wget=v&amp;qget=v&amp;nget=vt\" title=\"Genesis 7:21\" sec=\"Genesis 7:21\">phrase</a>   <span class=\"function\">PreC</span> <span class=\"typ\">VP</span>\n",
       "        </div>\n",
       "        <div class=\"atoms\">\n",
       "                    <div class=\"word  \" ><div class=\"h\"><a target=\"_blank\" href=\"https://shebanq.ancient-data.org/hebrew/word?version=2017&amp;id=1CRYv\" title=\"show this lexeme in SHEBANQ\">שֹּׁרֵ֣ץ </a></div><div class=\"features\"> <span class=\"pdp\"><a href=\"https://shebanq.ancient-data.org/hebrew/text?book=Genesis&amp;chapter=7&amp;verse=21&amp;version=2017&amp;mr=m&amp;qw=q&amp;tp=txt_p&amp;tr=hb&amp;wget=v&amp;qget=v&amp;nget=vt\" title=\"Genesis 7:21\" sec=\"Genesis 7:21\">verb</a></span> <span class=\"gloss\">swarm</span> <span class=\"vs\">qal</span> <span class=\"vt\">ptca</span></div></div></div></div><div class=\"patom  \" >\n",
       "        <div class=\"phrase \" >\n",
       "            <a href=\"https://shebanq.ancient-data.org/hebrew/text?book=Genesis&amp;chapter=7&amp;verse=21&amp;version=2017&amp;mr=m&amp;qw=q&amp;tp=txt_p&amp;tr=hb&amp;wget=v&amp;qget=v&amp;nget=vt\" title=\"Genesis 7:21\" sec=\"Genesis 7:21\">phrase</a>   <span class=\"function\">Cmpl</span> <span class=\"typ\">PP</span>\n",
       "        </div>\n",
       "        <div class=\"atoms\">\n",
       "                    <div class=\"word  \" ><div class=\"h\"><a target=\"_blank\" href=\"https://shebanq.ancient-data.org/hebrew/word?version=2017&amp;id=1OL\" title=\"show this lexeme in SHEBANQ\">עַל־</a></div><div class=\"features\"> <span class=\"pdp\"><a href=\"https://shebanq.ancient-data.org/hebrew/text?book=Genesis&amp;chapter=7&amp;verse=21&amp;version=2017&amp;mr=m&amp;qw=q&amp;tp=txt_p&amp;tr=hb&amp;wget=v&amp;qget=v&amp;nget=vt\" title=\"Genesis 7:21\" sec=\"Genesis 7:21\">prep</a></span> <span class=\"gloss\">upon</span></div></div><div class=\"word  \" ><div class=\"h\"><a target=\"_blank\" href=\"https://shebanq.ancient-data.org/hebrew/word?version=2017&amp;id=1H\" title=\"show this lexeme in SHEBANQ\">הָ</a></div><div class=\"features\"> <span class=\"pdp\"><a href=\"https://shebanq.ancient-data.org/hebrew/text?book=Genesis&amp;chapter=7&amp;verse=21&amp;version=2017&amp;mr=m&amp;qw=q&amp;tp=txt_p&amp;tr=hb&amp;wget=v&amp;qget=v&amp;nget=vt\" title=\"Genesis 7:21\" sec=\"Genesis 7:21\">art</a></span> <span class=\"gloss\">the</span></div></div><div class=\"word  \" ><div class=\"h\"><a target=\"_blank\" href=\"https://shebanq.ancient-data.org/hebrew/word?version=2017&amp;id=1ARYn\" title=\"show this lexeme in SHEBANQ\">אָ֑רֶץ </a></div><div class=\"features\"> <span class=\"pdp\"><a href=\"https://shebanq.ancient-data.org/hebrew/text?book=Genesis&amp;chapter=7&amp;verse=21&amp;version=2017&amp;mr=m&amp;qw=q&amp;tp=txt_p&amp;tr=hb&amp;wget=v&amp;qget=v&amp;nget=vt\" title=\"Genesis 7:21\" sec=\"Genesis 7:21\">subs</a></span> <span class=\"gloss\">earth</span></div></div></div></div></div></div><div class=\"catom  r \" >\n",
       "        <div class=\"clause \" >\n",
       "            <a href=\"https://shebanq.ancient-data.org/hebrew/text?book=Genesis&amp;chapter=7&amp;verse=21&amp;version=2017&amp;mr=m&amp;qw=q&amp;tp=txt_p&amp;tr=hb&amp;wget=v&amp;qget=v&amp;nget=vt\" title=\"Genesis 7:21\" sec=\"Genesis 7:21\">clause</a>   <span class=\"typ\">WayX|Defc</span>\n",
       "        </div>\n",
       "        <div class=\"atoms\">\n",
       "                    <div class=\"patom  r l hl\"  style=\"background-color: lightgreen;\" >\n",
       "        <div class=\"phrase hl\"  style=\"background-color: lightgreen;\" >\n",
       "            <a href=\"https://shebanq.ancient-data.org/hebrew/text?book=Genesis&amp;chapter=7&amp;verse=21&amp;version=2017&amp;mr=m&amp;qw=q&amp;tp=txt_p&amp;tr=hb&amp;wget=v&amp;qget=v&amp;nget=vt\" title=\"Genesis 7:21\" sec=\"Genesis 7:21\">phrase</a>   <span class=\"function\">Subj</span> <span class=\"typ\">NP|CP</span>\n",
       "        </div>\n",
       "        <div class=\"atoms\">\n",
       "                    <div class=\"word  \" ><div class=\"h\"><a target=\"_blank\" href=\"https://shebanq.ancient-data.org/hebrew/word?version=2017&amp;id=1W\" title=\"show this lexeme in SHEBANQ\">וְ</a></div><div class=\"features\"> <span class=\"pdp\"><a href=\"https://shebanq.ancient-data.org/hebrew/text?book=Genesis&amp;chapter=7&amp;verse=21&amp;version=2017&amp;mr=m&amp;qw=q&amp;tp=txt_p&amp;tr=hb&amp;wget=v&amp;qget=v&amp;nget=vt\" title=\"Genesis 7:21\" sec=\"Genesis 7:21\">conj</a></span> <span class=\"gloss\">and</span></div></div></div></div><div class=\"patom  r hl\"  style=\"background-color: lightgreen;\" >\n",
       "        <div class=\"phrase hl\"  style=\"background-color: lightgreen;\" >\n",
       "            <a href=\"https://shebanq.ancient-data.org/hebrew/text?book=Genesis&amp;chapter=7&amp;verse=21&amp;version=2017&amp;mr=m&amp;qw=q&amp;tp=txt_p&amp;tr=hb&amp;wget=v&amp;qget=v&amp;nget=vt\" title=\"Genesis 7:21\" sec=\"Genesis 7:21\">phrase</a>   <span class=\"function\">Subj</span> <span class=\"typ\">NP</span>\n",
       "        </div>\n",
       "        <div class=\"atoms\">\n",
       "                    <div class=\"word  \" ><div class=\"h\"><a target=\"_blank\" href=\"https://shebanq.ancient-data.org/hebrew/word?version=2017&amp;id=1KLn\" title=\"show this lexeme in SHEBANQ\">כֹ֖ל </a></div><div class=\"features\"> <span class=\"pdp\"><a href=\"https://shebanq.ancient-data.org/hebrew/text?book=Genesis&amp;chapter=7&amp;verse=21&amp;version=2017&amp;mr=m&amp;qw=q&amp;tp=txt_p&amp;tr=hb&amp;wget=v&amp;qget=v&amp;nget=vt\" title=\"Genesis 7:21\" sec=\"Genesis 7:21\">subs</a></span> <span class=\"gloss\">whole</span></div></div><div class=\"word  \" ><div class=\"h\"><a target=\"_blank\" href=\"https://shebanq.ancient-data.org/hebrew/word?version=2017&amp;id=1H\" title=\"show this lexeme in SHEBANQ\">הָ</a></div><div class=\"features\"> <span class=\"pdp\"><a href=\"https://shebanq.ancient-data.org/hebrew/text?book=Genesis&amp;chapter=7&amp;verse=21&amp;version=2017&amp;mr=m&amp;qw=q&amp;tp=txt_p&amp;tr=hb&amp;wget=v&amp;qget=v&amp;nget=vt\" title=\"Genesis 7:21\" sec=\"Genesis 7:21\">art</a></span> <span class=\"gloss\">the</span></div></div><div class=\"word  hl\" ><div class=\"h\"><a target=\"_blank\" href=\"https://shebanq.ancient-data.org/hebrew/word?version=2017&amp;id=1ADMn\" title=\"show this lexeme in SHEBANQ\">אָדָֽם׃ </a></div><div class=\"features\"> <span class=\"pdp\"><a href=\"https://shebanq.ancient-data.org/hebrew/text?book=Genesis&amp;chapter=7&amp;verse=21&amp;version=2017&amp;mr=m&amp;qw=q&amp;tp=txt_p&amp;tr=hb&amp;wget=v&amp;qget=v&amp;nget=vt\" title=\"Genesis 7:21\" sec=\"Genesis 7:21\">subs</a></span> <span class=\"gloss\">human, mankind</span></div></div></div></div></div></div></div></div></div></div>"
      ],
      "text/plain": [
       "<IPython.core.display.HTML object>"
      ]
     },
     "metadata": {},
     "output_type": "display_data"
    }
   ],
   "source": [
    "A.show(results, condensed=False, start=9, end=10, colorMap={1: 'lightgreen', 2: 'orange', 4: 'magenta'})"
   ]
  },
  {
   "cell_type": "markdown",
   "metadata": {},
   "source": [
    "If we want just the phrases, and only once, we can run the query in shallow mode, see [advanced](searchAdvanced.ipynb):"
   ]
  },
  {
   "cell_type": "code",
   "execution_count": 18,
   "metadata": {},
   "outputs": [
    {
     "name": "stdout",
     "output_type": "stream",
     "text": [
      "  2.68s 671 results\n"
     ]
    }
   ],
   "source": [
    "gapQueryResults = A.search(query, shallow=True)"
   ]
  },
  {
   "cell_type": "markdown",
   "metadata": {},
   "source": [
    "### A different query\n",
    "\n",
    "We can make an equivalent query to get the gaps."
   ]
  },
  {
   "cell_type": "code",
   "execution_count": 19,
   "metadata": {
    "ExecuteTime": {
     "end_time": "2018-05-24T08:41:30.980164Z",
     "start_time": "2018-05-24T08:41:30.974422Z"
    }
   },
   "outputs": [],
   "source": [
    "query = '''\n",
    "p:phrase\n",
    "    =: wFirst:word\n",
    "    wLast:word\n",
    "    :=\n",
    "\n",
    "wGap:word\n",
    "wFirst < wGap\n",
    "wLast > wGap\n",
    "\n",
    "p || wGap\n",
    "'''"
   ]
  },
  {
   "cell_type": "markdown",
   "metadata": {},
   "source": [
    "Experience has shown that this is a slow query, so we handle it with care."
   ]
  },
  {
   "cell_type": "code",
   "execution_count": 20,
   "metadata": {},
   "outputs": [
    {
     "name": "stdout",
     "output_type": "stream",
     "text": [
      "  0.00s Checking search template ...\n",
      "  0.00s Setting up search space for 4 objects ...\n",
      "  0.24s Constraining search space with 7 relations ...\n",
      "  1.11s \t2 edges thinned\n",
      "  1.11s Setting up retrieval plan with strategy small_choice_multi ...\n",
      "  1.14s Ready to deliver results from 1186145 nodes\n",
      "Iterate over S.fetch() to get the results\n",
      "See S.showPlan() to interpret the results\n",
      "Search with 4 objects and 6 relations\n",
      "Results are instantiations of the following objects:\n",
      "node  0-phrase                                        253187   choices\n",
      "node  1-word                                          253187   choices\n",
      "node  2-word                                          253187   choices\n",
      "node  3-word                                          426584   choices\n",
      "Performance parameters:\n",
      "\tyarnRatio            =    1.25\n",
      "\ttryLimitFrom         =      40\n",
      "\ttryLimitTo           =      40\n",
      "Instantiations are computed along the following relations:\n",
      "node                                  0-phrase        253187   choices\n",
      "edge        0-phrase           [[     2-word               1.0 choices\n",
      "edge        2-word             :=     0-phrase             0   choices\n",
      "edge        0-phrase           [[     1-word               1.0 choices\n",
      "edge        1-word             =:     0-phrase             0   choices\n",
      "edge      2,1-word            >,<     3-word           21329.2 choices\n",
      "edge        3-word             ||     0-phrase             0   choices\n",
      "  1.22s The results are connected to the original search template as follows:\n",
      " 0     \n",
      " 1 R0  p:phrase\n",
      " 2 R1      =: wFirst:word\n",
      " 3 R2      wLast:word\n",
      " 4         :=\n",
      " 5     \n",
      " 6 R3  wGap:word\n",
      " 7     wFirst < wGap\n",
      " 8     wLast > wGap\n",
      " 9     \n",
      "10     p || wGap\n",
      "11     \n"
     ]
    }
   ],
   "source": [
    "S.study(query)\n",
    "S.showPlan(details=True)"
   ]
  },
  {
   "cell_type": "code",
   "execution_count": 21,
   "metadata": {},
   "outputs": [
    {
     "name": "stdout",
     "output_type": "stream",
     "text": [
      "  0.00s Counting results per 1 up to 8 ...\n",
      "   |       10s 1\n",
      "   |       10s 2\n",
      "   |       10s 3\n",
      "   |       10s 4\n",
      "   |       10s 5\n",
      "   |       10s 6\n",
      "   |       18s 7\n",
      "   |       18s 8\n",
      "    18s Done: 8 results\n"
     ]
    }
   ],
   "source": [
    "S.count(progress=1, limit=8)"
   ]
  },
  {
   "cell_type": "markdown",
   "metadata": {},
   "source": [
    "This is a good example of a query that is slow to deliver even its first result.\n",
    "And that is bad, because it is such a straightforward query.\n",
    "\n",
    "Why is this one so slow, while the previous one went so smoothly?\n",
    "\n",
    "The crucial thing is the `wGap` word. In the latter template, `wGap` is not embedded in anything.\n",
    "It is constrained by `wFirst < wGap` and `wGap < wLast`.\n",
    "However, the way the search strategy works is by examining all possibilities for `wFirst < wGap`\n",
    "and only then checking whether `wGap < wLast`.\n",
    "The algorithm cannot check both conditions at the same time.\n",
    "\n",
    "With embedding relations, things are better. Text-Fabric is heavily optimized to deal with embedding\n",
    "relationships.\n",
    "\n",
    "In the former template, we see that the `wGap` is required to be `adjacent` to `wPreGap`, and this one\n",
    "is embedded in the phrase. Hence there are few cases to consider for `wPreGap`, and per instance\n",
    "there is only one `wGap`.\n",
    "\n",
    "> **Lesson**\n",
    "Try to prevent the use of *free floating* nodes in your template that become constrained\n",
    "by other spatial relationships than embedding."
   ]
  },
  {
   "cell_type": "markdown",
   "metadata": {},
   "source": [
    "### To the rescue\n",
    "The former template had it right.\n",
    "Can we rescue the latter template?\n",
    "\n",
    "We can assume that the phrase and the gap each contain a word in one and the same verse.\n",
    "Note that phrase and gap may belong to different clauses and sentences.\n",
    "We assume that a phrase cannot belong to more than two verses, so either the first or the last word\n",
    "of the phrase is in the same verse as a word in the gap."
   ]
  },
  {
   "cell_type": "code",
   "execution_count": 22,
   "metadata": {
    "ExecuteTime": {
     "end_time": "2018-05-24T08:41:30.980164Z",
     "start_time": "2018-05-24T08:41:30.974422Z"
    }
   },
   "outputs": [],
   "source": [
    "query = '''\n",
    "p:phrase\n",
    "    =: wFirst:word\n",
    "    wLast:word\n",
    "    :=\n",
    "\n",
    "wGap:word\n",
    "wFirst < wGap\n",
    "wLast > wGap\n",
    "\n",
    "p || wGap\n",
    "\n",
    "v:verse\n",
    "\n",
    "v [[ wFirst\n",
    "v [[ wGap\n",
    "'''"
   ]
  },
  {
   "cell_type": "code",
   "execution_count": 23,
   "metadata": {},
   "outputs": [
    {
     "name": "stdout",
     "output_type": "stream",
     "text": [
      "  0.00s Checking search template ...\n",
      "  0.00s Setting up search space for 5 objects ...\n",
      "  0.22s Constraining search space with 9 relations ...\n",
      "  1.12s \t2 edges thinned\n",
      "  1.12s Setting up retrieval plan with strategy small_choice_multi ...\n",
      "  1.17s Ready to deliver results from 1209358 nodes\n",
      "Iterate over S.fetch() to get the results\n",
      "See S.showPlan() to interpret the results\n",
      "Search with 5 objects and 8 relations\n",
      "Results are instantiations of the following objects:\n",
      "node  0-phrase                                        253187   choices\n",
      "node  1-word                                          253187   choices\n",
      "node  2-word                                          253187   choices\n",
      "node  3-word                                          426584   choices\n",
      "node  4-verse                                          23213   choices\n",
      "Performance parameters:\n",
      "\tyarnRatio            =    1.25\n",
      "\ttryLimitFrom         =      40\n",
      "\ttryLimitTo           =      40\n",
      "Instantiations are computed along the following relations:\n",
      "node                                  4-verse          23213   choices\n",
      "edge        4-verse            [[     1-word              11.4 choices\n",
      "edge        1-word             =:     0-phrase             1.0 choices (thinned)\n",
      "edge        1-word             ]]     0-phrase             0   choices\n",
      "edge        0-phrase           [[     2-word               1.0 choices\n",
      "edge        2-word             :=     0-phrase             0   choices\n",
      "edge        4-verse            [[     3-word              17.3 choices\n",
      "edge      2,1-word            >,<     3-word               0   choices\n",
      "edge        3-word             ||     0-phrase             0   choices\n",
      "  1.18s The results are connected to the original search template as follows:\n",
      " 0     \n",
      " 1 R0  p:phrase\n",
      " 2 R1      =: wFirst:word\n",
      " 3 R2      wLast:word\n",
      " 4         :=\n",
      " 5     \n",
      " 6 R3  wGap:word\n",
      " 7     wFirst < wGap\n",
      " 8     wLast > wGap\n",
      " 9     \n",
      "10     p || wGap\n",
      "11     \n",
      "12 R4  v:verse\n",
      "13     \n",
      "14     v [[ wFirst\n",
      "15     v [[ wGap\n",
      "16     \n",
      "  0.00s Counting results per 100 up to 3000 ...\n",
      "   |     0.30s 100\n",
      "   |     0.60s 200\n",
      "   |     0.87s 300\n",
      "   |     1.00s 400\n",
      "   |     1.11s 500\n",
      "   |     1.37s 600\n",
      "   |     1.43s 700\n",
      "   |     1.74s 800\n",
      "   |     1.84s 900\n",
      "   |     2.02s 1000\n",
      "   |     2.21s 1100\n",
      "   |     2.35s 1200\n",
      "   |     2.54s 1300\n",
      "   |     3.04s 1400\n",
      "   |     3.42s 1500\n",
      "   |     3.65s 1600\n",
      "   |     4.00s 1700\n",
      "   |     4.13s 1800\n",
      "   |     4.38s 1900\n",
      "   |     4.63s 2000\n",
      "   |     4.85s 2100\n",
      "   |     4.99s 2200\n",
      "   |     5.36s 2300\n",
      "   |     6.38s 2400\n",
      "   |     6.69s 2500\n",
      "   |     6.96s 2600\n",
      "   |     7.30s 2700\n",
      "  7.31s Done: 2707 results\n"
     ]
    }
   ],
   "source": [
    "S.study(query)\n",
    "S.showPlan(details=True)\n",
    "S.count(progress=100, limit=3000)"
   ]
  },
  {
   "cell_type": "code",
   "execution_count": 80,
   "metadata": {},
   "outputs": [],
   "source": [
    "# ignore this\n",
    "# S.tweakPerformance(yarnRatio=1)"
   ]
  },
  {
   "cell_type": "markdown",
   "metadata": {},
   "source": [
    "We are going to run this query in `shallow` mode."
   ]
  },
  {
   "cell_type": "code",
   "execution_count": 24,
   "metadata": {},
   "outputs": [
    {
     "name": "stdout",
     "output_type": "stream",
     "text": [
      "    11s 671 results\n"
     ]
    }
   ],
   "source": [
    "results = A.search(query, shallow=True)"
   ]
  },
  {
   "cell_type": "markdown",
   "metadata": {},
   "source": [
    "Shallow mode tends to be quicker, but that does not always materialize.\n",
    "The number of results agrees with the first query.\n",
    "Yet we have been lucky, because we required the word in the gap to be in the same verse as the first word in the phrase.\n",
    "What if we require if it is the last word in the phrase?"
   ]
  },
  {
   "cell_type": "code",
   "execution_count": 25,
   "metadata": {
    "ExecuteTime": {
     "end_time": "2018-05-24T08:41:30.980164Z",
     "start_time": "2018-05-24T08:41:30.974422Z"
    }
   },
   "outputs": [],
   "source": [
    "query = '''\n",
    "p:phrase\n",
    "    =: wFirst:word\n",
    "    wLast:word\n",
    "    :=\n",
    "\n",
    "wGap:word\n",
    "wFirst < wGap\n",
    "wLast > wGap\n",
    "\n",
    "p || wGap\n",
    "\n",
    "v:verse\n",
    "\n",
    "v [[ wLast\n",
    "v [[ wGap\n",
    "'''"
   ]
  },
  {
   "cell_type": "code",
   "execution_count": 26,
   "metadata": {},
   "outputs": [
    {
     "name": "stdout",
     "output_type": "stream",
     "text": [
      "    11s 660 results\n"
     ]
    }
   ],
   "source": [
    "results = A.search(query, shallow=True)"
   ]
  },
  {
   "cell_type": "markdown",
   "metadata": {},
   "source": [
    "Then we would not have found all results.\n",
    "\n",
    "So, this road, although doable, is much less comfortable, performance-wise and logic-wise."
   ]
  },
  {
   "cell_type": "markdown",
   "metadata": {
    "ExecuteTime": {
     "end_time": "2018-05-23T08:31:45.680786Z",
     "start_time": "2018-05-23T08:31:45.673210Z"
    }
   },
   "source": [
    "## Check the gaps\n",
    "\n",
    "In this misty landscape of gaps we need some corroboration that we found the right results.\n",
    "\n",
    "1. is every node in `gapQueryResults` a phrase?\n",
    "1. does every phrase in the `gapQueryResults` have a gap?\n",
    "1. is every gapped phrase contained in `gapQueryResults`?\n",
    "\n",
    "We check all this by hand coding.\n",
    "\n",
    "Here is a function that checks whether a phrase has a gap.\n",
    "If the distance between its end points is greater than the number of words it contains,\n",
    "it must have a gap."
   ]
  },
  {
   "cell_type": "code",
   "execution_count": 27,
   "metadata": {
    "ExecuteTime": {
     "end_time": "2018-05-24T08:41:51.194078Z",
     "start_time": "2018-05-24T08:41:50.211615Z"
    }
   },
   "outputs": [],
   "source": [
    "def hasGap(p):\n",
    "    words = L.d(p, otype='word')\n",
    "    return words[-1] - words[0] + 1 > len(words)"
   ]
  },
  {
   "cell_type": "markdown",
   "metadata": {},
   "source": [
    "Now we can perform the checks."
   ]
  },
  {
   "cell_type": "code",
   "execution_count": 28,
   "metadata": {
    "ExecuteTime": {
     "end_time": "2018-05-24T08:41:51.194078Z",
     "start_time": "2018-05-24T08:41:50.211615Z"
    }
   },
   "outputs": [
    {
     "name": "stdout",
     "output_type": "stream",
     "text": [
      "671 nodes in query result\n",
      "1. all nodes are phrases\n",
      "2. all nodes have gaps\n",
      "3. all gapped phrases are contained in the results\n"
     ]
    }
   ],
   "source": [
    "otypesGood = True\n",
    "haveGaps = True\n",
    "\n",
    "for p in gapQueryResults:\n",
    "    otype = F.otype.v(p)\n",
    "    if otype != 'phrase':\n",
    "        print(f'Non phrase detected: {p}) is a {otype}')\n",
    "        otypesGood = False\n",
    "        break\n",
    "\n",
    "    if not hasGap(p):\n",
    "        print(f'Phrase without a gap: {p}')\n",
    "        A.pretty(p)\n",
    "        haveGaps = False\n",
    "        break\n",
    "\n",
    "print(f'{len(gapQueryResults)} nodes in query result')\n",
    "if otypesGood:\n",
    "    print('1. all nodes are phrases')\n",
    "if haveGaps:\n",
    "    print('2. all nodes have gaps')\n",
    "\n",
    "inResults = True\n",
    "for p in F.otype.s('phrase'):\n",
    "    if hasGap(p):\n",
    "        if p not in gapQueryResults:\n",
    "            print(f'Gapped phrase outside query results: {p}')\n",
    "            A.pretty(p)\n",
    "            inResults = False\n",
    "            break\n",
    "            \n",
    "if inResults:\n",
    "    print('3. all gapped phrases are contained in the results')"
   ]
  },
  {
   "cell_type": "markdown",
   "metadata": {},
   "source": [
    "Note that by hand coding we can get the gapped phrases much more quickly and securely!"
   ]
  },
  {
   "cell_type": "markdown",
   "metadata": {},
   "source": [
    "## Custom sets for (non-)gapped phrases\n",
    "\n",
    "We have obtained a set with all gapped phrases,\n",
    "and we have paid a price:\n",
    "\n",
    "* either an expensive query,\n",
    "* or an inconvenient bit of hand coding.\n",
    "\n",
    "It would be nice if we could kick-start our queries using this set as a given.\n",
    "And that is exactly what we are going to do now.\n",
    "\n",
    "We make two custom sets and give them a name, `gapphrase` for gapped phrases and `conphrase` for non-gapped phrases (consecutive phrases)."
   ]
  },
  {
   "cell_type": "code",
   "execution_count": 29,
   "metadata": {},
   "outputs": [],
   "source": [
    "customSets = dict(\n",
    "    gapphrase=gapQueryResults,\n",
    "    conphrase=set(F.otype.s('phrase')) - gapQueryResults,\n",
    ")"
   ]
  },
  {
   "cell_type": "markdown",
   "metadata": {},
   "source": [
    "Suppose we want all verbs that occur in a gapped phrase."
   ]
  },
  {
   "cell_type": "code",
   "execution_count": 30,
   "metadata": {
    "ExecuteTime": {
     "end_time": "2018-05-24T08:41:53.694434Z",
     "start_time": "2018-05-24T08:41:53.689921Z"
    }
   },
   "outputs": [],
   "source": [
    "query = '''\n",
    "gapphrase\n",
    "  word sp=verb\n",
    "'''"
   ]
  },
  {
   "cell_type": "markdown",
   "metadata": {},
   "source": [
    "Note that we have used the foreign name `gapphrase` in our search template, instead of `phrase`.\n",
    "\n",
    "But we can still run `search()`, provided we tell it what we mean by `gapphrase`. \n",
    "We do that by passing the `sets` parameter to `search()`, which should be a dictionary of sets.\n",
    "Search will look up `gapphrase` in this dictionary, and will use its value, which should be a node set.\n",
    "That way, it understands that the expression `gapphrase` stands for the nodes in the given node set.\n",
    "\n",
    "Here we go:"
   ]
  },
  {
   "cell_type": "code",
   "execution_count": 31,
   "metadata": {
    "ExecuteTime": {
     "end_time": "2018-05-24T08:41:57.840028Z",
     "start_time": "2018-05-24T08:41:57.047787Z"
    }
   },
   "outputs": [
    {
     "name": "stdout",
     "output_type": "stream",
     "text": [
      "  0.49s 93 results\n"
     ]
    }
   ],
   "source": [
    "results = A.search(query, sets=customSets)"
   ]
  },
  {
   "cell_type": "code",
   "execution_count": 32,
   "metadata": {
    "ExecuteTime": {
     "end_time": "2018-05-24T08:05:09.044933Z",
     "start_time": "2018-05-24T08:05:09.005186Z"
    }
   },
   "outputs": [
    {
     "data": {
      "text/html": [
       "<p><b>result</b> <i>1</i></p>"
      ],
      "text/plain": [
       "<IPython.core.display.HTML object>"
      ]
     },
     "metadata": {},
     "output_type": "display_data"
    },
    {
     "data": {
      "text/html": [
       "<div class=\"outeritem\"><div class=\"verse  \" >\n",
       "    <div class=\"vl\">\n",
       "        <div class=\"vrs\"><a href=\"https://shebanq.ancient-data.org/hebrew/text?book=Genesis&amp;chapter=30&amp;verse=20&amp;version=2017&amp;mr=m&amp;qw=q&amp;tp=txt_p&amp;tr=hb&amp;wget=v&amp;qget=v&amp;nget=vt\" title=\"show this passage in SHEBANQ\" sec=\"Genesis 30:20\">Genesis 30:20</a></div>\n",
       "        \n",
       "    </div>\n",
       "<div class=\"satom  \" >\n",
       "        <div class=\"sentence \" >\n",
       "            <a href=\"https://shebanq.ancient-data.org/hebrew/text?book=Genesis&amp;chapter=30&amp;verse=20&amp;version=2017&amp;mr=m&amp;qw=q&amp;tp=txt_p&amp;tr=hb&amp;wget=v&amp;qget=v&amp;nget=vt\" title=\"Genesis 30:20\" sec=\"Genesis 30:20\">sentence</a>   <span class=\"number\">64|2502</span>\n",
       "        </div>\n",
       "        <div class=\"atoms\">\n",
       "                    <div class=\"catom  \" >\n",
       "        <div class=\"clause \" >\n",
       "            <a href=\"https://shebanq.ancient-data.org/hebrew/text?book=Genesis&amp;chapter=30&amp;verse=20&amp;version=2017&amp;mr=m&amp;qw=q&amp;tp=txt_p&amp;tr=hb&amp;wget=v&amp;qget=v&amp;nget=vt\" title=\"Genesis 30:20\" sec=\"Genesis 30:20\">clause</a>   <span class=\"typ\">WayX</span>\n",
       "        </div>\n",
       "        <div class=\"atoms\">\n",
       "                    <div class=\"patom  \" >\n",
       "        <div class=\"phrase \" >\n",
       "            <a href=\"https://shebanq.ancient-data.org/hebrew/text?book=Genesis&amp;chapter=30&amp;verse=20&amp;version=2017&amp;mr=m&amp;qw=q&amp;tp=txt_p&amp;tr=hb&amp;wget=v&amp;qget=v&amp;nget=vt\" title=\"Genesis 30:20\" sec=\"Genesis 30:20\">phrase</a>   <span class=\"function\">Conj</span> <span class=\"typ\">CP</span>\n",
       "        </div>\n",
       "        <div class=\"atoms\">\n",
       "                    <div class=\"word  \" ><div class=\"h\"><a target=\"_blank\" href=\"https://shebanq.ancient-data.org/hebrew/word?version=2017&amp;id=1W\" title=\"show this lexeme in SHEBANQ\">וַ</a></div><div class=\"features\"> <span class=\"pdp\"><a href=\"https://shebanq.ancient-data.org/hebrew/text?book=Genesis&amp;chapter=30&amp;verse=20&amp;version=2017&amp;mr=m&amp;qw=q&amp;tp=txt_p&amp;tr=hb&amp;wget=v&amp;qget=v&amp;nget=vt\" title=\"Genesis 30:20\" sec=\"Genesis 30:20\">conj</a></span> <span class=\"gloss\">and</span> <span class=\"sp xft\"><span class=\"f\">sp=</span>conj</span></div></div></div></div><div class=\"patom  \" >\n",
       "        <div class=\"phrase \" >\n",
       "            <a href=\"https://shebanq.ancient-data.org/hebrew/text?book=Genesis&amp;chapter=30&amp;verse=20&amp;version=2017&amp;mr=m&amp;qw=q&amp;tp=txt_p&amp;tr=hb&amp;wget=v&amp;qget=v&amp;nget=vt\" title=\"Genesis 30:20\" sec=\"Genesis 30:20\">phrase</a>   <span class=\"function\">Pred</span> <span class=\"typ\">VP</span>\n",
       "        </div>\n",
       "        <div class=\"atoms\">\n",
       "                    <div class=\"word  \" ><div class=\"h\"><a target=\"_blank\" href=\"https://shebanq.ancient-data.org/hebrew/word?version=2017&amp;id=1AMRv\" title=\"show this lexeme in SHEBANQ\">תֹּ֣אמֶר </a></div><div class=\"features\"> <span class=\"pdp\"><a href=\"https://shebanq.ancient-data.org/hebrew/text?book=Genesis&amp;chapter=30&amp;verse=20&amp;version=2017&amp;mr=m&amp;qw=q&amp;tp=txt_p&amp;tr=hb&amp;wget=v&amp;qget=v&amp;nget=vt\" title=\"Genesis 30:20\" sec=\"Genesis 30:20\">verb</a></span> <span class=\"gloss\">say</span> <span class=\"vs\">qal</span> <span class=\"vt\">wayq</span> <span class=\"sp xft\"><span class=\"f\">sp=</span>verb</span></div></div></div></div><div class=\"patom  \" >\n",
       "        <div class=\"phrase \" >\n",
       "            <a href=\"https://shebanq.ancient-data.org/hebrew/text?book=Genesis&amp;chapter=30&amp;verse=20&amp;version=2017&amp;mr=m&amp;qw=q&amp;tp=txt_p&amp;tr=hb&amp;wget=v&amp;qget=v&amp;nget=vt\" title=\"Genesis 30:20\" sec=\"Genesis 30:20\">phrase</a>   <span class=\"function\">Subj</span> <span class=\"typ\">PrNP</span>\n",
       "        </div>\n",
       "        <div class=\"atoms\">\n",
       "                    <div class=\"word  \" ><div class=\"h\"><a target=\"_blank\" href=\"https://shebanq.ancient-data.org/hebrew/word?version=2017&amp;id=1LAHn\" title=\"show this lexeme in SHEBANQ\">לֵאָ֗ה </a></div><div class=\"features\"> <span class=\"pdp\"><a href=\"https://shebanq.ancient-data.org/hebrew/text?book=Genesis&amp;chapter=30&amp;verse=20&amp;version=2017&amp;mr=m&amp;qw=q&amp;tp=txt_p&amp;tr=hb&amp;wget=v&amp;qget=v&amp;nget=vt\" title=\"Genesis 30:20\" sec=\"Genesis 30:20\">nmpr</a></span> <span class=\"gloss\">Leah</span> <span class=\"sp xft\"><span class=\"f\">sp=</span>nmpr</span></div></div></div></div></div></div></div></div><div class=\"satom  \" >\n",
       "        <div class=\"sentence \" >\n",
       "            <a href=\"https://shebanq.ancient-data.org/hebrew/text?book=Genesis&amp;chapter=30&amp;verse=20&amp;version=2017&amp;mr=m&amp;qw=q&amp;tp=txt_p&amp;tr=hb&amp;wget=v&amp;qget=v&amp;nget=vt\" title=\"Genesis 30:20\" sec=\"Genesis 30:20\">sentence</a>   <span class=\"number\">65|2503</span>\n",
       "        </div>\n",
       "        <div class=\"atoms\">\n",
       "                    <div class=\"catom  \" >\n",
       "        <div class=\"clause \" >\n",
       "            <a href=\"https://shebanq.ancient-data.org/hebrew/text?book=Genesis&amp;chapter=30&amp;verse=20&amp;version=2017&amp;mr=m&amp;qw=q&amp;tp=txt_p&amp;tr=hb&amp;wget=v&amp;qget=v&amp;nget=vt\" title=\"Genesis 30:20\" sec=\"Genesis 30:20\">clause</a>   <span class=\"typ\">ZQtX</span>\n",
       "        </div>\n",
       "        <div class=\"atoms\">\n",
       "                    <div class=\"patom  l hl\" >\n",
       "        <div class=\"phrase hl\" >\n",
       "            <a href=\"https://shebanq.ancient-data.org/hebrew/text?book=Genesis&amp;chapter=30&amp;verse=20&amp;version=2017&amp;mr=m&amp;qw=q&amp;tp=txt_p&amp;tr=hb&amp;wget=v&amp;qget=v&amp;nget=vt\" title=\"Genesis 30:20\" sec=\"Genesis 30:20\">phrase</a>   <span class=\"function\">PreO</span> <span class=\"typ\">VP</span>\n",
       "        </div>\n",
       "        <div class=\"atoms\">\n",
       "                    <div class=\"word  hl\" ><div class=\"h\"><a target=\"_blank\" href=\"https://shebanq.ancient-data.org/hebrew/word?version=2017&amp;id=1ZBDv\" title=\"show this lexeme in SHEBANQ\">זְבָדַ֨נִי </a></div><div class=\"features\"> <span class=\"pdp\"><a href=\"https://shebanq.ancient-data.org/hebrew/text?book=Genesis&amp;chapter=30&amp;verse=20&amp;version=2017&amp;mr=m&amp;qw=q&amp;tp=txt_p&amp;tr=hb&amp;wget=v&amp;qget=v&amp;nget=vt\" title=\"Genesis 30:20\" sec=\"Genesis 30:20\">verb</a></span> <span class=\"gloss\">bestow</span> <span class=\"vs\">qal</span> <span class=\"vt\">perf</span> <span class=\"sp xft\"><span class=\"f\">sp=</span>verb</span></div></div></div></div><div class=\"patom  \" >\n",
       "        <div class=\"phrase \" >\n",
       "            <a href=\"https://shebanq.ancient-data.org/hebrew/text?book=Genesis&amp;chapter=30&amp;verse=20&amp;version=2017&amp;mr=m&amp;qw=q&amp;tp=txt_p&amp;tr=hb&amp;wget=v&amp;qget=v&amp;nget=vt\" title=\"Genesis 30:20\" sec=\"Genesis 30:20\">phrase</a>   <span class=\"function\">Subj</span> <span class=\"typ\">NP</span>\n",
       "        </div>\n",
       "        <div class=\"atoms\">\n",
       "                    <div class=\"word  \" ><div class=\"h\"><a target=\"_blank\" href=\"https://shebanq.ancient-data.org/hebrew/word?version=2017&amp;id=1ALHJMn\" title=\"show this lexeme in SHEBANQ\">אֱלֹהִ֥ים׀ </a></div><div class=\"features\"> <span class=\"pdp\"><a href=\"https://shebanq.ancient-data.org/hebrew/text?book=Genesis&amp;chapter=30&amp;verse=20&amp;version=2017&amp;mr=m&amp;qw=q&amp;tp=txt_p&amp;tr=hb&amp;wget=v&amp;qget=v&amp;nget=vt\" title=\"Genesis 30:20\" sec=\"Genesis 30:20\">subs</a></span> <span class=\"gloss\">god(s)</span> <span class=\"sp xft\"><span class=\"f\">sp=</span>subs</span></div></div></div></div><div class=\"patom  r hl\" >\n",
       "        <div class=\"phrase hl\" >\n",
       "            <a href=\"https://shebanq.ancient-data.org/hebrew/text?book=Genesis&amp;chapter=30&amp;verse=20&amp;version=2017&amp;mr=m&amp;qw=q&amp;tp=txt_p&amp;tr=hb&amp;wget=v&amp;qget=v&amp;nget=vt\" title=\"Genesis 30:20\" sec=\"Genesis 30:20\">phrase</a>   <span class=\"function\">PreO</span> <span class=\"typ\">VP|PP</span>\n",
       "        </div>\n",
       "        <div class=\"atoms\">\n",
       "                    <div class=\"word  \" ><div class=\"h\"><a target=\"_blank\" href=\"https://shebanq.ancient-data.org/hebrew/word?version=2017&amp;id=1AT\" title=\"show this lexeme in SHEBANQ\">אֹתִי֮ </a></div><div class=\"features\"> <span class=\"pdp\"><a href=\"https://shebanq.ancient-data.org/hebrew/text?book=Genesis&amp;chapter=30&amp;verse=20&amp;version=2017&amp;mr=m&amp;qw=q&amp;tp=txt_p&amp;tr=hb&amp;wget=v&amp;qget=v&amp;nget=vt\" title=\"Genesis 30:20\" sec=\"Genesis 30:20\">prep</a></span> <span class=\"gloss\">&lt;object marker></span> <span class=\"sp xft\"><span class=\"f\">sp=</span>prep</span></div></div></div></div><div class=\"patom  \" >\n",
       "        <div class=\"phrase \" >\n",
       "            <a href=\"https://shebanq.ancient-data.org/hebrew/text?book=Genesis&amp;chapter=30&amp;verse=20&amp;version=2017&amp;mr=m&amp;qw=q&amp;tp=txt_p&amp;tr=hb&amp;wget=v&amp;qget=v&amp;nget=vt\" title=\"Genesis 30:20\" sec=\"Genesis 30:20\">phrase</a>   <span class=\"function\">Objc</span> <span class=\"typ\">NP</span>\n",
       "        </div>\n",
       "        <div class=\"atoms\">\n",
       "                    <div class=\"word  \" ><div class=\"h\"><a target=\"_blank\" href=\"https://shebanq.ancient-data.org/hebrew/word?version=2017&amp;id=1ZBDn\" title=\"show this lexeme in SHEBANQ\">זֵ֣בֶד </a></div><div class=\"features\"> <span class=\"pdp\"><a href=\"https://shebanq.ancient-data.org/hebrew/text?book=Genesis&amp;chapter=30&amp;verse=20&amp;version=2017&amp;mr=m&amp;qw=q&amp;tp=txt_p&amp;tr=hb&amp;wget=v&amp;qget=v&amp;nget=vt\" title=\"Genesis 30:20\" sec=\"Genesis 30:20\">subs</a></span> <span class=\"gloss\">endowment</span> <span class=\"sp xft\"><span class=\"f\">sp=</span>subs</span></div></div><div class=\"word  \" ><div class=\"h\"><a target=\"_blank\" href=\"https://shebanq.ancient-data.org/hebrew/word?version=2017&amp;id=1VWBn\" title=\"show this lexeme in SHEBANQ\">טֹוב֒ </a></div><div class=\"features\"> <span class=\"pdp\"><a href=\"https://shebanq.ancient-data.org/hebrew/text?book=Genesis&amp;chapter=30&amp;verse=20&amp;version=2017&amp;mr=m&amp;qw=q&amp;tp=txt_p&amp;tr=hb&amp;wget=v&amp;qget=v&amp;nget=vt\" title=\"Genesis 30:20\" sec=\"Genesis 30:20\">adjv</a></span> <span class=\"gloss\">good</span> <span class=\"sp xft\"><span class=\"f\">sp=</span>adjv</span></div></div></div></div></div></div></div></div><div class=\"satom  \" >\n",
       "        <div class=\"sentence \" >\n",
       "            <a href=\"https://shebanq.ancient-data.org/hebrew/text?book=Genesis&amp;chapter=30&amp;verse=20&amp;version=2017&amp;mr=m&amp;qw=q&amp;tp=txt_p&amp;tr=hb&amp;wget=v&amp;qget=v&amp;nget=vt\" title=\"Genesis 30:20\" sec=\"Genesis 30:20\">sentence</a>   <span class=\"number\">66|2504</span>\n",
       "        </div>\n",
       "        <div class=\"atoms\">\n",
       "                    <div class=\"catom  \" >\n",
       "        <div class=\"clause \" >\n",
       "            <a href=\"https://shebanq.ancient-data.org/hebrew/text?book=Genesis&amp;chapter=30&amp;verse=20&amp;version=2017&amp;mr=m&amp;qw=q&amp;tp=txt_p&amp;tr=hb&amp;wget=v&amp;qget=v&amp;nget=vt\" title=\"Genesis 30:20\" sec=\"Genesis 30:20\">clause</a>   <span class=\"typ\">xYqX</span>\n",
       "        </div>\n",
       "        <div class=\"atoms\">\n",
       "                    <div class=\"patom  \" >\n",
       "        <div class=\"phrase \" >\n",
       "            <a href=\"https://shebanq.ancient-data.org/hebrew/text?book=Genesis&amp;chapter=30&amp;verse=20&amp;version=2017&amp;mr=m&amp;qw=q&amp;tp=txt_p&amp;tr=hb&amp;wget=v&amp;qget=v&amp;nget=vt\" title=\"Genesis 30:20\" sec=\"Genesis 30:20\">phrase</a>   <span class=\"function\">Modi</span> <span class=\"typ\">NP</span>\n",
       "        </div>\n",
       "        <div class=\"atoms\">\n",
       "                    <div class=\"word  \" ><div class=\"h\"><a target=\"_blank\" href=\"https://shebanq.ancient-data.org/hebrew/word?version=2017&amp;id=1H\" title=\"show this lexeme in SHEBANQ\">הַ</a></div><div class=\"features\"> <span class=\"pdp\"><a href=\"https://shebanq.ancient-data.org/hebrew/text?book=Genesis&amp;chapter=30&amp;verse=20&amp;version=2017&amp;mr=m&amp;qw=q&amp;tp=txt_p&amp;tr=hb&amp;wget=v&amp;qget=v&amp;nget=vt\" title=\"Genesis 30:20\" sec=\"Genesis 30:20\">art</a></span> <span class=\"gloss\">the</span> <span class=\"sp xft\"><span class=\"f\">sp=</span>art</span></div></div><div class=\"word  \" ><div class=\"h\"><a target=\"_blank\" href=\"https://shebanq.ancient-data.org/hebrew/word?version=2017&amp;id=1POMn\" title=\"show this lexeme in SHEBANQ\">פַּ֨עַם֙ </a></div><div class=\"features\"> <span class=\"pdp\"><a href=\"https://shebanq.ancient-data.org/hebrew/text?book=Genesis&amp;chapter=30&amp;verse=20&amp;version=2017&amp;mr=m&amp;qw=q&amp;tp=txt_p&amp;tr=hb&amp;wget=v&amp;qget=v&amp;nget=vt\" title=\"Genesis 30:20\" sec=\"Genesis 30:20\">subs</a></span> <span class=\"gloss\">foot</span> <span class=\"sp xft\"><span class=\"f\">sp=</span>subs</span></div></div></div></div><div class=\"patom  \" >\n",
       "        <div class=\"phrase \" >\n",
       "            <a href=\"https://shebanq.ancient-data.org/hebrew/text?book=Genesis&amp;chapter=30&amp;verse=20&amp;version=2017&amp;mr=m&amp;qw=q&amp;tp=txt_p&amp;tr=hb&amp;wget=v&amp;qget=v&amp;nget=vt\" title=\"Genesis 30:20\" sec=\"Genesis 30:20\">phrase</a>   <span class=\"function\">PreO</span> <span class=\"typ\">VP</span>\n",
       "        </div>\n",
       "        <div class=\"atoms\">\n",
       "                    <div class=\"word  \" ><div class=\"h\"><a target=\"_blank\" href=\"https://shebanq.ancient-data.org/hebrew/word?version=2017&amp;id=1ZBLv\" title=\"show this lexeme in SHEBANQ\">יִזְבְּלֵ֣נִי </a></div><div class=\"features\"> <span class=\"pdp\"><a href=\"https://shebanq.ancient-data.org/hebrew/text?book=Genesis&amp;chapter=30&amp;verse=20&amp;version=2017&amp;mr=m&amp;qw=q&amp;tp=txt_p&amp;tr=hb&amp;wget=v&amp;qget=v&amp;nget=vt\" title=\"Genesis 30:20\" sec=\"Genesis 30:20\">verb</a></span> <span class=\"gloss\">tolerate</span> <span class=\"vs\">qal</span> <span class=\"vt\">impf</span> <span class=\"sp xft\"><span class=\"f\">sp=</span>verb</span></div></div></div></div><div class=\"patom  \" >\n",
       "        <div class=\"phrase \" >\n",
       "            <a href=\"https://shebanq.ancient-data.org/hebrew/text?book=Genesis&amp;chapter=30&amp;verse=20&amp;version=2017&amp;mr=m&amp;qw=q&amp;tp=txt_p&amp;tr=hb&amp;wget=v&amp;qget=v&amp;nget=vt\" title=\"Genesis 30:20\" sec=\"Genesis 30:20\">phrase</a>   <span class=\"function\">Subj</span> <span class=\"typ\">NP</span>\n",
       "        </div>\n",
       "        <div class=\"atoms\">\n",
       "                    <div class=\"word  \" ><div class=\"h\"><a target=\"_blank\" href=\"https://shebanq.ancient-data.org/hebrew/word?version=2017&amp;id=1AJCn\" title=\"show this lexeme in SHEBANQ\">אִישִׁ֔י </a></div><div class=\"features\"> <span class=\"pdp\"><a href=\"https://shebanq.ancient-data.org/hebrew/text?book=Genesis&amp;chapter=30&amp;verse=20&amp;version=2017&amp;mr=m&amp;qw=q&amp;tp=txt_p&amp;tr=hb&amp;wget=v&amp;qget=v&amp;nget=vt\" title=\"Genesis 30:20\" sec=\"Genesis 30:20\">subs</a></span> <span class=\"gloss\">man</span> <span class=\"sp xft\"><span class=\"f\">sp=</span>subs</span></div></div></div></div></div></div></div></div><div class=\"satom  \" >\n",
       "        <div class=\"sentence \" >\n",
       "            <a href=\"https://shebanq.ancient-data.org/hebrew/text?book=Genesis&amp;chapter=30&amp;verse=20&amp;version=2017&amp;mr=m&amp;qw=q&amp;tp=txt_p&amp;tr=hb&amp;wget=v&amp;qget=v&amp;nget=vt\" title=\"Genesis 30:20\" sec=\"Genesis 30:20\">sentence</a>   <span class=\"number\">67|2505</span>\n",
       "        </div>\n",
       "        <div class=\"atoms\">\n",
       "                    <div class=\"catom  \" >\n",
       "        <div class=\"clause \" >\n",
       "            <a href=\"https://shebanq.ancient-data.org/hebrew/text?book=Genesis&amp;chapter=30&amp;verse=20&amp;version=2017&amp;mr=m&amp;qw=q&amp;tp=txt_p&amp;tr=hb&amp;wget=v&amp;qget=v&amp;nget=vt\" title=\"Genesis 30:20\" sec=\"Genesis 30:20\">clause</a>   <span class=\"typ\">xQt0</span>\n",
       "        </div>\n",
       "        <div class=\"atoms\">\n",
       "                    <div class=\"patom  \" >\n",
       "        <div class=\"phrase \" >\n",
       "            <a href=\"https://shebanq.ancient-data.org/hebrew/text?book=Genesis&amp;chapter=30&amp;verse=20&amp;version=2017&amp;mr=m&amp;qw=q&amp;tp=txt_p&amp;tr=hb&amp;wget=v&amp;qget=v&amp;nget=vt\" title=\"Genesis 30:20\" sec=\"Genesis 30:20\">phrase</a>   <span class=\"function\">Conj</span> <span class=\"typ\">CP</span>\n",
       "        </div>\n",
       "        <div class=\"atoms\">\n",
       "                    <div class=\"word  \" ><div class=\"h\"><a target=\"_blank\" href=\"https://shebanq.ancient-data.org/hebrew/word?version=2017&amp;id=1KJ\" title=\"show this lexeme in SHEBANQ\">כִּֽי־</a></div><div class=\"features\"> <span class=\"pdp\"><a href=\"https://shebanq.ancient-data.org/hebrew/text?book=Genesis&amp;chapter=30&amp;verse=20&amp;version=2017&amp;mr=m&amp;qw=q&amp;tp=txt_p&amp;tr=hb&amp;wget=v&amp;qget=v&amp;nget=vt\" title=\"Genesis 30:20\" sec=\"Genesis 30:20\">conj</a></span> <span class=\"gloss\">that</span> <span class=\"sp xft\"><span class=\"f\">sp=</span>conj</span></div></div></div></div><div class=\"patom  \" >\n",
       "        <div class=\"phrase \" >\n",
       "            <a href=\"https://shebanq.ancient-data.org/hebrew/text?book=Genesis&amp;chapter=30&amp;verse=20&amp;version=2017&amp;mr=m&amp;qw=q&amp;tp=txt_p&amp;tr=hb&amp;wget=v&amp;qget=v&amp;nget=vt\" title=\"Genesis 30:20\" sec=\"Genesis 30:20\">phrase</a>   <span class=\"function\">Pred</span> <span class=\"typ\">VP</span>\n",
       "        </div>\n",
       "        <div class=\"atoms\">\n",
       "                    <div class=\"word  \" ><div class=\"h\"><a target=\"_blank\" href=\"https://shebanq.ancient-data.org/hebrew/word?version=2017&amp;id=1JLDv\" title=\"show this lexeme in SHEBANQ\">יָלַ֥דְתִּי </a></div><div class=\"features\"> <span class=\"pdp\"><a href=\"https://shebanq.ancient-data.org/hebrew/text?book=Genesis&amp;chapter=30&amp;verse=20&amp;version=2017&amp;mr=m&amp;qw=q&amp;tp=txt_p&amp;tr=hb&amp;wget=v&amp;qget=v&amp;nget=vt\" title=\"Genesis 30:20\" sec=\"Genesis 30:20\">verb</a></span> <span class=\"gloss\">bear</span> <span class=\"vs\">qal</span> <span class=\"vt\">perf</span> <span class=\"sp xft\"><span class=\"f\">sp=</span>verb</span></div></div></div></div><div class=\"patom  \" >\n",
       "        <div class=\"phrase \" >\n",
       "            <a href=\"https://shebanq.ancient-data.org/hebrew/text?book=Genesis&amp;chapter=30&amp;verse=20&amp;version=2017&amp;mr=m&amp;qw=q&amp;tp=txt_p&amp;tr=hb&amp;wget=v&amp;qget=v&amp;nget=vt\" title=\"Genesis 30:20\" sec=\"Genesis 30:20\">phrase</a>   <span class=\"function\">Cmpl</span> <span class=\"typ\">PP</span>\n",
       "        </div>\n",
       "        <div class=\"atoms\">\n",
       "                    <div class=\"word  \" ><div class=\"h\"><a target=\"_blank\" href=\"https://shebanq.ancient-data.org/hebrew/word?version=2017&amp;id=1L\" title=\"show this lexeme in SHEBANQ\">לֹ֖ו </a></div><div class=\"features\"> <span class=\"pdp\"><a href=\"https://shebanq.ancient-data.org/hebrew/text?book=Genesis&amp;chapter=30&amp;verse=20&amp;version=2017&amp;mr=m&amp;qw=q&amp;tp=txt_p&amp;tr=hb&amp;wget=v&amp;qget=v&amp;nget=vt\" title=\"Genesis 30:20\" sec=\"Genesis 30:20\">prep</a></span> <span class=\"gloss\">to</span> <span class=\"sp xft\"><span class=\"f\">sp=</span>prep</span></div></div></div></div><div class=\"patom  \" >\n",
       "        <div class=\"phrase \" >\n",
       "            <a href=\"https://shebanq.ancient-data.org/hebrew/text?book=Genesis&amp;chapter=30&amp;verse=20&amp;version=2017&amp;mr=m&amp;qw=q&amp;tp=txt_p&amp;tr=hb&amp;wget=v&amp;qget=v&amp;nget=vt\" title=\"Genesis 30:20\" sec=\"Genesis 30:20\">phrase</a>   <span class=\"function\">Objc</span> <span class=\"typ\">NP</span>\n",
       "        </div>\n",
       "        <div class=\"atoms\">\n",
       "                    <div class=\"word  \" ><div class=\"h\"><a target=\"_blank\" href=\"https://shebanq.ancient-data.org/hebrew/word?version=2017&amp;id=1CCn\" title=\"show this lexeme in SHEBANQ\">שִׁשָּׁ֣ה </a></div><div class=\"features\"> <span class=\"pdp\"><a href=\"https://shebanq.ancient-data.org/hebrew/text?book=Genesis&amp;chapter=30&amp;verse=20&amp;version=2017&amp;mr=m&amp;qw=q&amp;tp=txt_p&amp;tr=hb&amp;wget=v&amp;qget=v&amp;nget=vt\" title=\"Genesis 30:20\" sec=\"Genesis 30:20\">subs</a></span> <span class=\"gloss\">six</span> <span class=\"sp xft\"><span class=\"f\">sp=</span>subs</span></div></div><div class=\"word  \" ><div class=\"h\"><a target=\"_blank\" href=\"https://shebanq.ancient-data.org/hebrew/word?version=2017&amp;id=1BNn\" title=\"show this lexeme in SHEBANQ\">בָנִ֑ים </a></div><div class=\"features\"> <span class=\"pdp\"><a href=\"https://shebanq.ancient-data.org/hebrew/text?book=Genesis&amp;chapter=30&amp;verse=20&amp;version=2017&amp;mr=m&amp;qw=q&amp;tp=txt_p&amp;tr=hb&amp;wget=v&amp;qget=v&amp;nget=vt\" title=\"Genesis 30:20\" sec=\"Genesis 30:20\">subs</a></span> <span class=\"gloss\">son</span> <span class=\"sp xft\"><span class=\"f\">sp=</span>subs</span></div></div></div></div></div></div></div></div><div class=\"satom  \" >\n",
       "        <div class=\"sentence \" >\n",
       "            <a href=\"https://shebanq.ancient-data.org/hebrew/text?book=Genesis&amp;chapter=30&amp;verse=20&amp;version=2017&amp;mr=m&amp;qw=q&amp;tp=txt_p&amp;tr=hb&amp;wget=v&amp;qget=v&amp;nget=vt\" title=\"Genesis 30:20\" sec=\"Genesis 30:20\">sentence</a>   <span class=\"number\">68|2506</span>\n",
       "        </div>\n",
       "        <div class=\"atoms\">\n",
       "                    <div class=\"catom  \" >\n",
       "        <div class=\"clause \" >\n",
       "            <a href=\"https://shebanq.ancient-data.org/hebrew/text?book=Genesis&amp;chapter=30&amp;verse=20&amp;version=2017&amp;mr=m&amp;qw=q&amp;tp=txt_p&amp;tr=hb&amp;wget=v&amp;qget=v&amp;nget=vt\" title=\"Genesis 30:20\" sec=\"Genesis 30:20\">clause</a>   <span class=\"typ\">Way0</span>\n",
       "        </div>\n",
       "        <div class=\"atoms\">\n",
       "                    <div class=\"patom  \" >\n",
       "        <div class=\"phrase \" >\n",
       "            <a href=\"https://shebanq.ancient-data.org/hebrew/text?book=Genesis&amp;chapter=30&amp;verse=20&amp;version=2017&amp;mr=m&amp;qw=q&amp;tp=txt_p&amp;tr=hb&amp;wget=v&amp;qget=v&amp;nget=vt\" title=\"Genesis 30:20\" sec=\"Genesis 30:20\">phrase</a>   <span class=\"function\">Conj</span> <span class=\"typ\">CP</span>\n",
       "        </div>\n",
       "        <div class=\"atoms\">\n",
       "                    <div class=\"word  \" ><div class=\"h\"><a target=\"_blank\" href=\"https://shebanq.ancient-data.org/hebrew/word?version=2017&amp;id=1W\" title=\"show this lexeme in SHEBANQ\">וַ</a></div><div class=\"features\"> <span class=\"pdp\"><a href=\"https://shebanq.ancient-data.org/hebrew/text?book=Genesis&amp;chapter=30&amp;verse=20&amp;version=2017&amp;mr=m&amp;qw=q&amp;tp=txt_p&amp;tr=hb&amp;wget=v&amp;qget=v&amp;nget=vt\" title=\"Genesis 30:20\" sec=\"Genesis 30:20\">conj</a></span> <span class=\"gloss\">and</span> <span class=\"sp xft\"><span class=\"f\">sp=</span>conj</span></div></div></div></div><div class=\"patom  \" >\n",
       "        <div class=\"phrase \" >\n",
       "            <a href=\"https://shebanq.ancient-data.org/hebrew/text?book=Genesis&amp;chapter=30&amp;verse=20&amp;version=2017&amp;mr=m&amp;qw=q&amp;tp=txt_p&amp;tr=hb&amp;wget=v&amp;qget=v&amp;nget=vt\" title=\"Genesis 30:20\" sec=\"Genesis 30:20\">phrase</a>   <span class=\"function\">Pred</span> <span class=\"typ\">VP</span>\n",
       "        </div>\n",
       "        <div class=\"atoms\">\n",
       "                    <div class=\"word  \" ><div class=\"h\"><a target=\"_blank\" href=\"https://shebanq.ancient-data.org/hebrew/word?version=2017&amp;id=1QRAv\" title=\"show this lexeme in SHEBANQ\">תִּקְרָ֥א </a></div><div class=\"features\"> <span class=\"pdp\"><a href=\"https://shebanq.ancient-data.org/hebrew/text?book=Genesis&amp;chapter=30&amp;verse=20&amp;version=2017&amp;mr=m&amp;qw=q&amp;tp=txt_p&amp;tr=hb&amp;wget=v&amp;qget=v&amp;nget=vt\" title=\"Genesis 30:20\" sec=\"Genesis 30:20\">verb</a></span> <span class=\"gloss\">call</span> <span class=\"vs\">qal</span> <span class=\"vt\">wayq</span> <span class=\"sp xft\"><span class=\"f\">sp=</span>verb</span></div></div></div></div><div class=\"patom  \" >\n",
       "        <div class=\"phrase \" >\n",
       "            <a href=\"https://shebanq.ancient-data.org/hebrew/text?book=Genesis&amp;chapter=30&amp;verse=20&amp;version=2017&amp;mr=m&amp;qw=q&amp;tp=txt_p&amp;tr=hb&amp;wget=v&amp;qget=v&amp;nget=vt\" title=\"Genesis 30:20\" sec=\"Genesis 30:20\">phrase</a>   <span class=\"function\">Objc</span> <span class=\"typ\">PP</span>\n",
       "        </div>\n",
       "        <div class=\"atoms\">\n",
       "                    <div class=\"word  \" ><div class=\"h\"><a target=\"_blank\" href=\"https://shebanq.ancient-data.org/hebrew/word?version=2017&amp;id=1AT\" title=\"show this lexeme in SHEBANQ\">אֶת־</a></div><div class=\"features\"> <span class=\"pdp\"><a href=\"https://shebanq.ancient-data.org/hebrew/text?book=Genesis&amp;chapter=30&amp;verse=20&amp;version=2017&amp;mr=m&amp;qw=q&amp;tp=txt_p&amp;tr=hb&amp;wget=v&amp;qget=v&amp;nget=vt\" title=\"Genesis 30:20\" sec=\"Genesis 30:20\">prep</a></span> <span class=\"gloss\">&lt;object marker></span> <span class=\"sp xft\"><span class=\"f\">sp=</span>prep</span></div></div><div class=\"word  \" ><div class=\"h\"><a target=\"_blank\" href=\"https://shebanq.ancient-data.org/hebrew/word?version=2017&amp;id=1CMn\" title=\"show this lexeme in SHEBANQ\">שְׁמֹ֖ו </a></div><div class=\"features\"> <span class=\"pdp\"><a href=\"https://shebanq.ancient-data.org/hebrew/text?book=Genesis&amp;chapter=30&amp;verse=20&amp;version=2017&amp;mr=m&amp;qw=q&amp;tp=txt_p&amp;tr=hb&amp;wget=v&amp;qget=v&amp;nget=vt\" title=\"Genesis 30:20\" sec=\"Genesis 30:20\">subs</a></span> <span class=\"gloss\">name</span> <span class=\"sp xft\"><span class=\"f\">sp=</span>subs</span></div></div></div></div><div class=\"patom  \" >\n",
       "        <div class=\"phrase \" >\n",
       "            <a href=\"https://shebanq.ancient-data.org/hebrew/text?book=Genesis&amp;chapter=30&amp;verse=20&amp;version=2017&amp;mr=m&amp;qw=q&amp;tp=txt_p&amp;tr=hb&amp;wget=v&amp;qget=v&amp;nget=vt\" title=\"Genesis 30:20\" sec=\"Genesis 30:20\">phrase</a>   <span class=\"function\">Objc</span> <span class=\"typ\">PrNP</span>\n",
       "        </div>\n",
       "        <div class=\"atoms\">\n",
       "                    <div class=\"word  \" ><div class=\"h\"><a target=\"_blank\" href=\"https://shebanq.ancient-data.org/hebrew/word?version=2017&amp;id=1ZBWLNn\" title=\"show this lexeme in SHEBANQ\">זְבֻלֽוּן׃ </a></div><div class=\"features\"> <span class=\"pdp\"><a href=\"https://shebanq.ancient-data.org/hebrew/text?book=Genesis&amp;chapter=30&amp;verse=20&amp;version=2017&amp;mr=m&amp;qw=q&amp;tp=txt_p&amp;tr=hb&amp;wget=v&amp;qget=v&amp;nget=vt\" title=\"Genesis 30:20\" sec=\"Genesis 30:20\">nmpr</a></span> <span class=\"gloss\">Zebulun</span> <span class=\"sp xft\"><span class=\"f\">sp=</span>nmpr</span></div></div></div></div></div></div></div></div></div></div>"
      ],
      "text/plain": [
       "<IPython.core.display.HTML object>"
      ]
     },
     "metadata": {},
     "output_type": "display_data"
    },
    {
     "data": {
      "text/html": [
       "<p><b>result</b> <i>2</i></p>"
      ],
      "text/plain": [
       "<IPython.core.display.HTML object>"
      ]
     },
     "metadata": {},
     "output_type": "display_data"
    },
    {
     "data": {
      "text/html": [
       "<div class=\"outeritem\"><div class=\"verse  \" >\n",
       "    <div class=\"vl\">\n",
       "        <div class=\"vrs\"><a href=\"https://shebanq.ancient-data.org/hebrew/text?book=Genesis&amp;chapter=30&amp;verse=35&amp;version=2017&amp;mr=m&amp;qw=q&amp;tp=txt_p&amp;tr=hb&amp;wget=v&amp;qget=v&amp;nget=vt\" title=\"show this passage in SHEBANQ\" sec=\"Genesis 30:35\">Genesis 30:35</a></div>\n",
       "        \n",
       "    </div>\n",
       "<div class=\"satom  \" >\n",
       "        <div class=\"sentence \" >\n",
       "            <a href=\"https://shebanq.ancient-data.org/hebrew/text?book=Genesis&amp;chapter=30&amp;verse=35&amp;version=2017&amp;mr=m&amp;qw=q&amp;tp=txt_p&amp;tr=hb&amp;wget=v&amp;qget=v&amp;nget=vt\" title=\"Genesis 30:35\" sec=\"Genesis 30:35\">sentence</a>   <span class=\"number\">118|2556</span>\n",
       "        </div>\n",
       "        <div class=\"atoms\">\n",
       "                    <div class=\"catom  l \" >\n",
       "        <div class=\"clause \" >\n",
       "            <a href=\"https://shebanq.ancient-data.org/hebrew/text?book=Genesis&amp;chapter=30&amp;verse=35&amp;version=2017&amp;mr=m&amp;qw=q&amp;tp=txt_p&amp;tr=hb&amp;wget=v&amp;qget=v&amp;nget=vt\" title=\"Genesis 30:35\" sec=\"Genesis 30:35\">clause</a>   <span class=\"typ\">Way0</span>\n",
       "        </div>\n",
       "        <div class=\"atoms\">\n",
       "                    <div class=\"patom  \" >\n",
       "        <div class=\"phrase \" >\n",
       "            <a href=\"https://shebanq.ancient-data.org/hebrew/text?book=Genesis&amp;chapter=30&amp;verse=35&amp;version=2017&amp;mr=m&amp;qw=q&amp;tp=txt_p&amp;tr=hb&amp;wget=v&amp;qget=v&amp;nget=vt\" title=\"Genesis 30:35\" sec=\"Genesis 30:35\">phrase</a>   <span class=\"function\">Conj</span> <span class=\"typ\">CP</span>\n",
       "        </div>\n",
       "        <div class=\"atoms\">\n",
       "                    <div class=\"word  \" ><div class=\"h\"><a target=\"_blank\" href=\"https://shebanq.ancient-data.org/hebrew/word?version=2017&amp;id=1W\" title=\"show this lexeme in SHEBANQ\">וַ</a></div><div class=\"features\"> <span class=\"pdp\"><a href=\"https://shebanq.ancient-data.org/hebrew/text?book=Genesis&amp;chapter=30&amp;verse=35&amp;version=2017&amp;mr=m&amp;qw=q&amp;tp=txt_p&amp;tr=hb&amp;wget=v&amp;qget=v&amp;nget=vt\" title=\"Genesis 30:35\" sec=\"Genesis 30:35\">conj</a></span> <span class=\"gloss\">and</span> <span class=\"sp xft\"><span class=\"f\">sp=</span>conj</span></div></div></div></div><div class=\"patom  \" >\n",
       "        <div class=\"phrase \" >\n",
       "            <a href=\"https://shebanq.ancient-data.org/hebrew/text?book=Genesis&amp;chapter=30&amp;verse=35&amp;version=2017&amp;mr=m&amp;qw=q&amp;tp=txt_p&amp;tr=hb&amp;wget=v&amp;qget=v&amp;nget=vt\" title=\"Genesis 30:35\" sec=\"Genesis 30:35\">phrase</a>   <span class=\"function\">Pred</span> <span class=\"typ\">VP</span>\n",
       "        </div>\n",
       "        <div class=\"atoms\">\n",
       "                    <div class=\"word  \" ><div class=\"h\"><a target=\"_blank\" href=\"https://shebanq.ancient-data.org/hebrew/word?version=2017&amp;id=1SWRv\" title=\"show this lexeme in SHEBANQ\">יָּ֣סַר </a></div><div class=\"features\"> <span class=\"pdp\"><a href=\"https://shebanq.ancient-data.org/hebrew/text?book=Genesis&amp;chapter=30&amp;verse=35&amp;version=2017&amp;mr=m&amp;qw=q&amp;tp=txt_p&amp;tr=hb&amp;wget=v&amp;qget=v&amp;nget=vt\" title=\"Genesis 30:35\" sec=\"Genesis 30:35\">verb</a></span> <span class=\"gloss\">turn aside</span> <span class=\"vs\">hif</span> <span class=\"vt\">wayq</span> <span class=\"sp xft\"><span class=\"f\">sp=</span>verb</span></div></div></div></div><div class=\"patom  \" >\n",
       "        <div class=\"phrase \" >\n",
       "            <a href=\"https://shebanq.ancient-data.org/hebrew/text?book=Genesis&amp;chapter=30&amp;verse=35&amp;version=2017&amp;mr=m&amp;qw=q&amp;tp=txt_p&amp;tr=hb&amp;wget=v&amp;qget=v&amp;nget=vt\" title=\"Genesis 30:35\" sec=\"Genesis 30:35\">phrase</a>   <span class=\"function\">Time</span> <span class=\"typ\">PP</span>\n",
       "        </div>\n",
       "        <div class=\"atoms\">\n",
       "                    <div class=\"word  \" ><div class=\"h\"><a target=\"_blank\" href=\"https://shebanq.ancient-data.org/hebrew/word?version=2017&amp;id=1B\" title=\"show this lexeme in SHEBANQ\">בַּ</a></div><div class=\"features\"> <span class=\"pdp\"><a href=\"https://shebanq.ancient-data.org/hebrew/text?book=Genesis&amp;chapter=30&amp;verse=35&amp;version=2017&amp;mr=m&amp;qw=q&amp;tp=txt_p&amp;tr=hb&amp;wget=v&amp;qget=v&amp;nget=vt\" title=\"Genesis 30:35\" sec=\"Genesis 30:35\">prep</a></span> <span class=\"gloss\">in</span> <span class=\"sp xft\"><span class=\"f\">sp=</span>prep</span></div></div><div class=\"word  \" ><div class=\"h\"><a target=\"_blank\" href=\"https://shebanq.ancient-data.org/hebrew/word?version=2017&amp;id=1H\" title=\"show this lexeme in SHEBANQ\"></a></div><div class=\"features\"> <span class=\"pdp\"><a href=\"https://shebanq.ancient-data.org/hebrew/text?book=Genesis&amp;chapter=30&amp;verse=35&amp;version=2017&amp;mr=m&amp;qw=q&amp;tp=txt_p&amp;tr=hb&amp;wget=v&amp;qget=v&amp;nget=vt\" title=\"Genesis 30:35\" sec=\"Genesis 30:35\">art</a></span> <span class=\"gloss\">the</span> <span class=\"sp xft\"><span class=\"f\">sp=</span>art</span></div></div><div class=\"word  \" ><div class=\"h\"><a target=\"_blank\" href=\"https://shebanq.ancient-data.org/hebrew/word?version=2017&amp;id=1JWMn\" title=\"show this lexeme in SHEBANQ\">יֹּום֩ </a></div><div class=\"features\"> <span class=\"pdp\"><a href=\"https://shebanq.ancient-data.org/hebrew/text?book=Genesis&amp;chapter=30&amp;verse=35&amp;version=2017&amp;mr=m&amp;qw=q&amp;tp=txt_p&amp;tr=hb&amp;wget=v&amp;qget=v&amp;nget=vt\" title=\"Genesis 30:35\" sec=\"Genesis 30:35\">subs</a></span> <span class=\"gloss\">day</span> <span class=\"sp xft\"><span class=\"f\">sp=</span>subs</span></div></div><div class=\"word  \" ><div class=\"h\"><a target=\"_blank\" href=\"https://shebanq.ancient-data.org/hebrew/word?version=2017&amp;id=1H\" title=\"show this lexeme in SHEBANQ\">הַ</a></div><div class=\"features\"> <span class=\"pdp\"><a href=\"https://shebanq.ancient-data.org/hebrew/text?book=Genesis&amp;chapter=30&amp;verse=35&amp;version=2017&amp;mr=m&amp;qw=q&amp;tp=txt_p&amp;tr=hb&amp;wget=v&amp;qget=v&amp;nget=vt\" title=\"Genesis 30:35\" sec=\"Genesis 30:35\">art</a></span> <span class=\"gloss\">the</span> <span class=\"sp xft\"><span class=\"f\">sp=</span>art</span></div></div><div class=\"word  \" ><div class=\"h\"><a target=\"_blank\" href=\"https://shebanq.ancient-data.org/hebrew/word?version=2017&amp;id=1HWA\" title=\"show this lexeme in SHEBANQ\">ה֨וּא </a></div><div class=\"features\"> <span class=\"pdp\"><a href=\"https://shebanq.ancient-data.org/hebrew/text?book=Genesis&amp;chapter=30&amp;verse=35&amp;version=2017&amp;mr=m&amp;qw=q&amp;tp=txt_p&amp;tr=hb&amp;wget=v&amp;qget=v&amp;nget=vt\" title=\"Genesis 30:35\" sec=\"Genesis 30:35\">prde</a></span> <span class=\"gloss\">he</span> <span class=\"sp xft\"><span class=\"f\">sp=</span>prps</span></div></div></div></div><div class=\"patom  l hl\" >\n",
       "        <div class=\"phrase hl\" >\n",
       "            <a href=\"https://shebanq.ancient-data.org/hebrew/text?book=Genesis&amp;chapter=30&amp;verse=35&amp;version=2017&amp;mr=m&amp;qw=q&amp;tp=txt_p&amp;tr=hb&amp;wget=v&amp;qget=v&amp;nget=vt\" title=\"Genesis 30:35\" sec=\"Genesis 30:35\">phrase</a>   <span class=\"function\">Objc</span> <span class=\"typ\">PP</span>\n",
       "        </div>\n",
       "        <div class=\"atoms\">\n",
       "                    <div class=\"word  \" ><div class=\"h\"><a target=\"_blank\" href=\"https://shebanq.ancient-data.org/hebrew/word?version=2017&amp;id=1AT\" title=\"show this lexeme in SHEBANQ\">אֶת־</a></div><div class=\"features\"> <span class=\"pdp\"><a href=\"https://shebanq.ancient-data.org/hebrew/text?book=Genesis&amp;chapter=30&amp;verse=35&amp;version=2017&amp;mr=m&amp;qw=q&amp;tp=txt_p&amp;tr=hb&amp;wget=v&amp;qget=v&amp;nget=vt\" title=\"Genesis 30:35\" sec=\"Genesis 30:35\">prep</a></span> <span class=\"gloss\">&lt;object marker></span> <span class=\"sp xft\"><span class=\"f\">sp=</span>prep</span></div></div><div class=\"word  \" ><div class=\"h\"><a target=\"_blank\" href=\"https://shebanq.ancient-data.org/hebrew/word?version=2017&amp;id=1H\" title=\"show this lexeme in SHEBANQ\">הַ</a></div><div class=\"features\"> <span class=\"pdp\"><a href=\"https://shebanq.ancient-data.org/hebrew/text?book=Genesis&amp;chapter=30&amp;verse=35&amp;version=2017&amp;mr=m&amp;qw=q&amp;tp=txt_p&amp;tr=hb&amp;wget=v&amp;qget=v&amp;nget=vt\" title=\"Genesis 30:35\" sec=\"Genesis 30:35\">art</a></span> <span class=\"gloss\">the</span> <span class=\"sp xft\"><span class=\"f\">sp=</span>art</span></div></div><div class=\"word  \" ><div class=\"h\"><a target=\"_blank\" href=\"https://shebanq.ancient-data.org/hebrew/word?version=2017&amp;id=1TJCn\" title=\"show this lexeme in SHEBANQ\">תְּיָשִׁ֜ים </a></div><div class=\"features\"> <span class=\"pdp\"><a href=\"https://shebanq.ancient-data.org/hebrew/text?book=Genesis&amp;chapter=30&amp;verse=35&amp;version=2017&amp;mr=m&amp;qw=q&amp;tp=txt_p&amp;tr=hb&amp;wget=v&amp;qget=v&amp;nget=vt\" title=\"Genesis 30:35\" sec=\"Genesis 30:35\">subs</a></span> <span class=\"gloss\">he-goat</span> <span class=\"sp xft\"><span class=\"f\">sp=</span>subs</span></div></div><div class=\"word  \" ><div class=\"h\"><a target=\"_blank\" href=\"https://shebanq.ancient-data.org/hebrew/word?version=2017&amp;id=1H\" title=\"show this lexeme in SHEBANQ\">הָֽ</a></div><div class=\"features\"> <span class=\"pdp\"><a href=\"https://shebanq.ancient-data.org/hebrew/text?book=Genesis&amp;chapter=30&amp;verse=35&amp;version=2017&amp;mr=m&amp;qw=q&amp;tp=txt_p&amp;tr=hb&amp;wget=v&amp;qget=v&amp;nget=vt\" title=\"Genesis 30:35\" sec=\"Genesis 30:35\">art</a></span> <span class=\"gloss\">the</span> <span class=\"sp xft\"><span class=\"f\">sp=</span>art</span></div></div><div class=\"word  \" ><div class=\"h\"><a target=\"_blank\" href=\"https://shebanq.ancient-data.org/hebrew/word?version=2017&amp;id=1OQDn\" title=\"show this lexeme in SHEBANQ\">עֲקֻדִּ֣ים </a></div><div class=\"features\"> <span class=\"pdp\"><a href=\"https://shebanq.ancient-data.org/hebrew/text?book=Genesis&amp;chapter=30&amp;verse=35&amp;version=2017&amp;mr=m&amp;qw=q&amp;tp=txt_p&amp;tr=hb&amp;wget=v&amp;qget=v&amp;nget=vt\" title=\"Genesis 30:35\" sec=\"Genesis 30:35\">adjv</a></span> <span class=\"gloss\">twisted</span> <span class=\"sp xft\"><span class=\"f\">sp=</span>adjv</span></div></div><div class=\"word  \" ><div class=\"h\"><a target=\"_blank\" href=\"https://shebanq.ancient-data.org/hebrew/word?version=2017&amp;id=1W\" title=\"show this lexeme in SHEBANQ\">וְ</a></div><div class=\"features\"> <span class=\"pdp\"><a href=\"https://shebanq.ancient-data.org/hebrew/text?book=Genesis&amp;chapter=30&amp;verse=35&amp;version=2017&amp;mr=m&amp;qw=q&amp;tp=txt_p&amp;tr=hb&amp;wget=v&amp;qget=v&amp;nget=vt\" title=\"Genesis 30:35\" sec=\"Genesis 30:35\">conj</a></span> <span class=\"gloss\">and</span> <span class=\"sp xft\"><span class=\"f\">sp=</span>conj</span></div></div><div class=\"word  \" ><div class=\"h\"><a target=\"_blank\" href=\"https://shebanq.ancient-data.org/hebrew/word?version=2017&amp;id=1H\" title=\"show this lexeme in SHEBANQ\">הַ</a></div><div class=\"features\"> <span class=\"pdp\"><a href=\"https://shebanq.ancient-data.org/hebrew/text?book=Genesis&amp;chapter=30&amp;verse=35&amp;version=2017&amp;mr=m&amp;qw=q&amp;tp=txt_p&amp;tr=hb&amp;wget=v&amp;qget=v&amp;nget=vt\" title=\"Genesis 30:35\" sec=\"Genesis 30:35\">art</a></span> <span class=\"gloss\">the</span> <span class=\"sp xft\"><span class=\"f\">sp=</span>art</span></div></div><div class=\"word  hl\" ><div class=\"h\"><a target=\"_blank\" href=\"https://shebanq.ancient-data.org/hebrew/word?version=2017&amp;id=1VLAv\" title=\"show this lexeme in SHEBANQ\">טְּלֻאִ֗ים </a></div><div class=\"features\"> <span class=\"pdp\"><a href=\"https://shebanq.ancient-data.org/hebrew/text?book=Genesis&amp;chapter=30&amp;verse=35&amp;version=2017&amp;mr=m&amp;qw=q&amp;tp=txt_p&amp;tr=hb&amp;wget=v&amp;qget=v&amp;nget=vt\" title=\"Genesis 30:35\" sec=\"Genesis 30:35\">adjv</a></span> <span class=\"gloss\">patch</span> <span class=\"vs\">qal</span> <span class=\"vt\">ptcp</span> <span class=\"sp xft\"><span class=\"f\">sp=</span>verb</span></div></div></div></div><div class=\"patom  r l hl\" >\n",
       "        <div class=\"phrase hl\" >\n",
       "            <a href=\"https://shebanq.ancient-data.org/hebrew/text?book=Genesis&amp;chapter=30&amp;verse=35&amp;version=2017&amp;mr=m&amp;qw=q&amp;tp=txt_p&amp;tr=hb&amp;wget=v&amp;qget=v&amp;nget=vt\" title=\"Genesis 30:35\" sec=\"Genesis 30:35\">phrase</a>   <span class=\"function\">Objc</span> <span class=\"typ\">PP|CP</span>\n",
       "        </div>\n",
       "        <div class=\"atoms\">\n",
       "                    <div class=\"word  \" ><div class=\"h\"><a target=\"_blank\" href=\"https://shebanq.ancient-data.org/hebrew/word?version=2017&amp;id=1W\" title=\"show this lexeme in SHEBANQ\">וְ</a></div><div class=\"features\"> <span class=\"pdp\"><a href=\"https://shebanq.ancient-data.org/hebrew/text?book=Genesis&amp;chapter=30&amp;verse=35&amp;version=2017&amp;mr=m&amp;qw=q&amp;tp=txt_p&amp;tr=hb&amp;wget=v&amp;qget=v&amp;nget=vt\" title=\"Genesis 30:35\" sec=\"Genesis 30:35\">conj</a></span> <span class=\"gloss\">and</span> <span class=\"sp xft\"><span class=\"f\">sp=</span>conj</span></div></div></div></div><div class=\"patom  r l hl\" >\n",
       "        <div class=\"phrase hl\" >\n",
       "            <a href=\"https://shebanq.ancient-data.org/hebrew/text?book=Genesis&amp;chapter=30&amp;verse=35&amp;version=2017&amp;mr=m&amp;qw=q&amp;tp=txt_p&amp;tr=hb&amp;wget=v&amp;qget=v&amp;nget=vt\" title=\"Genesis 30:35\" sec=\"Genesis 30:35\">phrase</a>   <span class=\"function\">Objc</span> <span class=\"typ\">PP</span>\n",
       "        </div>\n",
       "        <div class=\"atoms\">\n",
       "                    <div class=\"word  \" ><div class=\"h\"><a target=\"_blank\" href=\"https://shebanq.ancient-data.org/hebrew/word?version=2017&amp;id=1AT\" title=\"show this lexeme in SHEBANQ\">אֵ֤ת </a></div><div class=\"features\"> <span class=\"pdp\"><a href=\"https://shebanq.ancient-data.org/hebrew/text?book=Genesis&amp;chapter=30&amp;verse=35&amp;version=2017&amp;mr=m&amp;qw=q&amp;tp=txt_p&amp;tr=hb&amp;wget=v&amp;qget=v&amp;nget=vt\" title=\"Genesis 30:35\" sec=\"Genesis 30:35\">prep</a></span> <span class=\"gloss\">&lt;object marker></span> <span class=\"sp xft\"><span class=\"f\">sp=</span>prep</span></div></div><div class=\"word  \" ><div class=\"h\"><a target=\"_blank\" href=\"https://shebanq.ancient-data.org/hebrew/word?version=2017&amp;id=1KLn\" title=\"show this lexeme in SHEBANQ\">כָּל־</a></div><div class=\"features\"> <span class=\"pdp\"><a href=\"https://shebanq.ancient-data.org/hebrew/text?book=Genesis&amp;chapter=30&amp;verse=35&amp;version=2017&amp;mr=m&amp;qw=q&amp;tp=txt_p&amp;tr=hb&amp;wget=v&amp;qget=v&amp;nget=vt\" title=\"Genesis 30:35\" sec=\"Genesis 30:35\">subs</a></span> <span class=\"gloss\">whole</span> <span class=\"sp xft\"><span class=\"f\">sp=</span>subs</span></div></div><div class=\"word  \" ><div class=\"h\"><a target=\"_blank\" href=\"https://shebanq.ancient-data.org/hebrew/word?version=2017&amp;id=1H\" title=\"show this lexeme in SHEBANQ\">הָֽ</a></div><div class=\"features\"> <span class=\"pdp\"><a href=\"https://shebanq.ancient-data.org/hebrew/text?book=Genesis&amp;chapter=30&amp;verse=35&amp;version=2017&amp;mr=m&amp;qw=q&amp;tp=txt_p&amp;tr=hb&amp;wget=v&amp;qget=v&amp;nget=vt\" title=\"Genesis 30:35\" sec=\"Genesis 30:35\">art</a></span> <span class=\"gloss\">the</span> <span class=\"sp xft\"><span class=\"f\">sp=</span>art</span></div></div><div class=\"word  \" ><div class=\"h\"><a target=\"_blank\" href=\"https://shebanq.ancient-data.org/hebrew/word?version=2017&amp;id=1OZiin\" title=\"show this lexeme in SHEBANQ\">עִזִּים֙ </a></div><div class=\"features\"> <span class=\"pdp\"><a href=\"https://shebanq.ancient-data.org/hebrew/text?book=Genesis&amp;chapter=30&amp;verse=35&amp;version=2017&amp;mr=m&amp;qw=q&amp;tp=txt_p&amp;tr=hb&amp;wget=v&amp;qget=v&amp;nget=vt\" title=\"Genesis 30:35\" sec=\"Genesis 30:35\">subs</a></span> <span class=\"gloss\">goat</span> <span class=\"sp xft\"><span class=\"f\">sp=</span>subs</span></div></div><div class=\"word  \" ><div class=\"h\"><a target=\"_blank\" href=\"https://shebanq.ancient-data.org/hebrew/word?version=2017&amp;id=1H\" title=\"show this lexeme in SHEBANQ\">הַ</a></div><div class=\"features\"> <span class=\"pdp\"><a href=\"https://shebanq.ancient-data.org/hebrew/text?book=Genesis&amp;chapter=30&amp;verse=35&amp;version=2017&amp;mr=m&amp;qw=q&amp;tp=txt_p&amp;tr=hb&amp;wget=v&amp;qget=v&amp;nget=vt\" title=\"Genesis 30:35\" sec=\"Genesis 30:35\">art</a></span> <span class=\"gloss\">the</span> <span class=\"sp xft\"><span class=\"f\">sp=</span>art</span></div></div><div class=\"word  \" ><div class=\"h\"><a target=\"_blank\" href=\"https://shebanq.ancient-data.org/hebrew/word?version=2017&amp;id=1NQDin\" title=\"show this lexeme in SHEBANQ\">נְּקֻדֹּ֣ות </a></div><div class=\"features\"> <span class=\"pdp\"><a href=\"https://shebanq.ancient-data.org/hebrew/text?book=Genesis&amp;chapter=30&amp;verse=35&amp;version=2017&amp;mr=m&amp;qw=q&amp;tp=txt_p&amp;tr=hb&amp;wget=v&amp;qget=v&amp;nget=vt\" title=\"Genesis 30:35\" sec=\"Genesis 30:35\">adjv</a></span> <span class=\"gloss\">speckled</span> <span class=\"sp xft\"><span class=\"f\">sp=</span>adjv</span></div></div><div class=\"word  \" ><div class=\"h\"><a target=\"_blank\" href=\"https://shebanq.ancient-data.org/hebrew/word?version=2017&amp;id=1W\" title=\"show this lexeme in SHEBANQ\">וְ</a></div><div class=\"features\"> <span class=\"pdp\"><a href=\"https://shebanq.ancient-data.org/hebrew/text?book=Genesis&amp;chapter=30&amp;verse=35&amp;version=2017&amp;mr=m&amp;qw=q&amp;tp=txt_p&amp;tr=hb&amp;wget=v&amp;qget=v&amp;nget=vt\" title=\"Genesis 30:35\" sec=\"Genesis 30:35\">conj</a></span> <span class=\"gloss\">and</span> <span class=\"sp xft\"><span class=\"f\">sp=</span>conj</span></div></div><div class=\"word  \" ><div class=\"h\"><a target=\"_blank\" href=\"https://shebanq.ancient-data.org/hebrew/word?version=2017&amp;id=1H\" title=\"show this lexeme in SHEBANQ\">הַ</a></div><div class=\"features\"> <span class=\"pdp\"><a href=\"https://shebanq.ancient-data.org/hebrew/text?book=Genesis&amp;chapter=30&amp;verse=35&amp;version=2017&amp;mr=m&amp;qw=q&amp;tp=txt_p&amp;tr=hb&amp;wget=v&amp;qget=v&amp;nget=vt\" title=\"Genesis 30:35\" sec=\"Genesis 30:35\">art</a></span> <span class=\"gloss\">the</span> <span class=\"sp xft\"><span class=\"f\">sp=</span>art</span></div></div><div class=\"word  \" ><div class=\"h\"><a target=\"_blank\" href=\"https://shebanq.ancient-data.org/hebrew/word?version=2017&amp;id=1VLAv\" title=\"show this lexeme in SHEBANQ\">טְּלֻאֹ֔ת </a></div><div class=\"features\"> <span class=\"pdp\"><a href=\"https://shebanq.ancient-data.org/hebrew/text?book=Genesis&amp;chapter=30&amp;verse=35&amp;version=2017&amp;mr=m&amp;qw=q&amp;tp=txt_p&amp;tr=hb&amp;wget=v&amp;qget=v&amp;nget=vt\" title=\"Genesis 30:35\" sec=\"Genesis 30:35\">adjv</a></span> <span class=\"gloss\">patch</span> <span class=\"vs\">qal</span> <span class=\"vt\">ptcp</span> <span class=\"sp xft\"><span class=\"f\">sp=</span>verb</span></div></div></div></div><div class=\"patom  r l hl\" >\n",
       "        <div class=\"phrase hl\" >\n",
       "            <a href=\"https://shebanq.ancient-data.org/hebrew/text?book=Genesis&amp;chapter=30&amp;verse=35&amp;version=2017&amp;mr=m&amp;qw=q&amp;tp=txt_p&amp;tr=hb&amp;wget=v&amp;qget=v&amp;nget=vt\" title=\"Genesis 30:35\" sec=\"Genesis 30:35\">phrase</a>   <span class=\"function\">Objc</span> <span class=\"typ\">PP|NP</span>\n",
       "        </div>\n",
       "        <div class=\"atoms\">\n",
       "                    <div class=\"word  \" ><div class=\"h\"><a target=\"_blank\" href=\"https://shebanq.ancient-data.org/hebrew/word?version=2017&amp;id=1KLn\" title=\"show this lexeme in SHEBANQ\">כֹּ֤ל </a></div><div class=\"features\"> <span class=\"pdp\"><a href=\"https://shebanq.ancient-data.org/hebrew/text?book=Genesis&amp;chapter=30&amp;verse=35&amp;version=2017&amp;mr=m&amp;qw=q&amp;tp=txt_p&amp;tr=hb&amp;wget=v&amp;qget=v&amp;nget=vt\" title=\"Genesis 30:35\" sec=\"Genesis 30:35\">subs</a></span> <span class=\"gloss\">whole</span> <span class=\"sp xft\"><span class=\"f\">sp=</span>subs</span></div></div></div></div></div></div><div class=\"catom  \" >\n",
       "        <div class=\"clause \" >\n",
       "            <a href=\"https://shebanq.ancient-data.org/hebrew/text?book=Genesis&amp;chapter=30&amp;verse=35&amp;version=2017&amp;mr=m&amp;qw=q&amp;tp=txt_p&amp;tr=hb&amp;wget=v&amp;qget=v&amp;nget=vt\" title=\"Genesis 30:35\" sec=\"Genesis 30:35\">clause</a>   <span class=\"rela\">Attr</span> <span class=\"typ\">NmCl</span>\n",
       "        </div>\n",
       "        <div class=\"atoms\">\n",
       "                    <div class=\"patom  \" >\n",
       "        <div class=\"phrase \" >\n",
       "            <a href=\"https://shebanq.ancient-data.org/hebrew/text?book=Genesis&amp;chapter=30&amp;verse=35&amp;version=2017&amp;mr=m&amp;qw=q&amp;tp=txt_p&amp;tr=hb&amp;wget=v&amp;qget=v&amp;nget=vt\" title=\"Genesis 30:35\" sec=\"Genesis 30:35\">phrase</a>   <span class=\"function\">Rela</span> <span class=\"typ\">CP</span>\n",
       "        </div>\n",
       "        <div class=\"atoms\">\n",
       "                    <div class=\"word  \" ><div class=\"h\"><a target=\"_blank\" href=\"https://shebanq.ancient-data.org/hebrew/word?version=2017&amp;id=1ACR\" title=\"show this lexeme in SHEBANQ\">אֲשֶׁר־</a></div><div class=\"features\"> <span class=\"pdp\"><a href=\"https://shebanq.ancient-data.org/hebrew/text?book=Genesis&amp;chapter=30&amp;verse=35&amp;version=2017&amp;mr=m&amp;qw=q&amp;tp=txt_p&amp;tr=hb&amp;wget=v&amp;qget=v&amp;nget=vt\" title=\"Genesis 30:35\" sec=\"Genesis 30:35\">conj</a></span> <span class=\"gloss\">&lt;relative></span> <span class=\"sp xft\"><span class=\"f\">sp=</span>conj</span></div></div></div></div><div class=\"patom  \" >\n",
       "        <div class=\"phrase \" >\n",
       "            <a href=\"https://shebanq.ancient-data.org/hebrew/text?book=Genesis&amp;chapter=30&amp;verse=35&amp;version=2017&amp;mr=m&amp;qw=q&amp;tp=txt_p&amp;tr=hb&amp;wget=v&amp;qget=v&amp;nget=vt\" title=\"Genesis 30:35\" sec=\"Genesis 30:35\">phrase</a>   <span class=\"function\">Subj</span> <span class=\"typ\">NP</span>\n",
       "        </div>\n",
       "        <div class=\"atoms\">\n",
       "                    <div class=\"word  \" ><div class=\"h\"><a target=\"_blank\" href=\"https://shebanq.ancient-data.org/hebrew/word?version=2017&amp;id=1LBNn\" title=\"show this lexeme in SHEBANQ\">לָבָן֙ </a></div><div class=\"features\"> <span class=\"pdp\"><a href=\"https://shebanq.ancient-data.org/hebrew/text?book=Genesis&amp;chapter=30&amp;verse=35&amp;version=2017&amp;mr=m&amp;qw=q&amp;tp=txt_p&amp;tr=hb&amp;wget=v&amp;qget=v&amp;nget=vt\" title=\"Genesis 30:35\" sec=\"Genesis 30:35\">subs</a></span> <span class=\"gloss\">white</span> <span class=\"sp xft\"><span class=\"f\">sp=</span>adjv</span></div></div></div></div><div class=\"patom  \" >\n",
       "        <div class=\"phrase \" >\n",
       "            <a href=\"https://shebanq.ancient-data.org/hebrew/text?book=Genesis&amp;chapter=30&amp;verse=35&amp;version=2017&amp;mr=m&amp;qw=q&amp;tp=txt_p&amp;tr=hb&amp;wget=v&amp;qget=v&amp;nget=vt\" title=\"Genesis 30:35\" sec=\"Genesis 30:35\">phrase</a>   <span class=\"function\">PreC</span> <span class=\"typ\">PP</span>\n",
       "        </div>\n",
       "        <div class=\"atoms\">\n",
       "                    <div class=\"word  \" ><div class=\"h\"><a target=\"_blank\" href=\"https://shebanq.ancient-data.org/hebrew/word?version=2017&amp;id=1B\" title=\"show this lexeme in SHEBANQ\">בֹּ֔ו </a></div><div class=\"features\"> <span class=\"pdp\"><a href=\"https://shebanq.ancient-data.org/hebrew/text?book=Genesis&amp;chapter=30&amp;verse=35&amp;version=2017&amp;mr=m&amp;qw=q&amp;tp=txt_p&amp;tr=hb&amp;wget=v&amp;qget=v&amp;nget=vt\" title=\"Genesis 30:35\" sec=\"Genesis 30:35\">prep</a></span> <span class=\"gloss\">in</span> <span class=\"sp xft\"><span class=\"f\">sp=</span>prep</span></div></div></div></div></div></div><div class=\"catom  r \" >\n",
       "        <div class=\"clause \" >\n",
       "            <a href=\"https://shebanq.ancient-data.org/hebrew/text?book=Genesis&amp;chapter=30&amp;verse=35&amp;version=2017&amp;mr=m&amp;qw=q&amp;tp=txt_p&amp;tr=hb&amp;wget=v&amp;qget=v&amp;nget=vt\" title=\"Genesis 30:35\" sec=\"Genesis 30:35\">clause</a>   <span class=\"typ\">Way0|Defc</span>\n",
       "        </div>\n",
       "        <div class=\"atoms\">\n",
       "                    <div class=\"patom  r l hl\" >\n",
       "        <div class=\"phrase hl\" >\n",
       "            <a href=\"https://shebanq.ancient-data.org/hebrew/text?book=Genesis&amp;chapter=30&amp;verse=35&amp;version=2017&amp;mr=m&amp;qw=q&amp;tp=txt_p&amp;tr=hb&amp;wget=v&amp;qget=v&amp;nget=vt\" title=\"Genesis 30:35\" sec=\"Genesis 30:35\">phrase</a>   <span class=\"function\">Objc</span> <span class=\"typ\">PP|CP</span>\n",
       "        </div>\n",
       "        <div class=\"atoms\">\n",
       "                    <div class=\"word  \" ><div class=\"h\"><a target=\"_blank\" href=\"https://shebanq.ancient-data.org/hebrew/word?version=2017&amp;id=1W\" title=\"show this lexeme in SHEBANQ\">וְ</a></div><div class=\"features\"> <span class=\"pdp\"><a href=\"https://shebanq.ancient-data.org/hebrew/text?book=Genesis&amp;chapter=30&amp;verse=35&amp;version=2017&amp;mr=m&amp;qw=q&amp;tp=txt_p&amp;tr=hb&amp;wget=v&amp;qget=v&amp;nget=vt\" title=\"Genesis 30:35\" sec=\"Genesis 30:35\">conj</a></span> <span class=\"gloss\">and</span> <span class=\"sp xft\"><span class=\"f\">sp=</span>conj</span></div></div></div></div><div class=\"patom  r l hl\" >\n",
       "        <div class=\"phrase hl\" >\n",
       "            <a href=\"https://shebanq.ancient-data.org/hebrew/text?book=Genesis&amp;chapter=30&amp;verse=35&amp;version=2017&amp;mr=m&amp;qw=q&amp;tp=txt_p&amp;tr=hb&amp;wget=v&amp;qget=v&amp;nget=vt\" title=\"Genesis 30:35\" sec=\"Genesis 30:35\">phrase</a>   <span class=\"function\">Objc</span> <span class=\"typ\">PP|NP</span>\n",
       "        </div>\n",
       "        <div class=\"atoms\">\n",
       "                    <div class=\"word  \" ><div class=\"h\"><a target=\"_blank\" href=\"https://shebanq.ancient-data.org/hebrew/word?version=2017&amp;id=1KLn\" title=\"show this lexeme in SHEBANQ\">כָל־</a></div><div class=\"features\"> <span class=\"pdp\"><a href=\"https://shebanq.ancient-data.org/hebrew/text?book=Genesis&amp;chapter=30&amp;verse=35&amp;version=2017&amp;mr=m&amp;qw=q&amp;tp=txt_p&amp;tr=hb&amp;wget=v&amp;qget=v&amp;nget=vt\" title=\"Genesis 30:35\" sec=\"Genesis 30:35\">subs</a></span> <span class=\"gloss\">whole</span> <span class=\"sp xft\"><span class=\"f\">sp=</span>subs</span></div></div><div class=\"word  \" ><div class=\"h\"><a target=\"_blank\" href=\"https://shebanq.ancient-data.org/hebrew/word?version=2017&amp;id=1XWMn\" title=\"show this lexeme in SHEBANQ\">ח֖וּם </a></div><div class=\"features\"> <span class=\"pdp\"><a href=\"https://shebanq.ancient-data.org/hebrew/text?book=Genesis&amp;chapter=30&amp;verse=35&amp;version=2017&amp;mr=m&amp;qw=q&amp;tp=txt_p&amp;tr=hb&amp;wget=v&amp;qget=v&amp;nget=vt\" title=\"Genesis 30:35\" sec=\"Genesis 30:35\">adjv</a></span> <span class=\"gloss\">ruttish</span> <span class=\"sp xft\"><span class=\"f\">sp=</span>adjv</span></div></div></div></div><div class=\"patom  r hl\" >\n",
       "        <div class=\"phrase hl\" >\n",
       "            <a href=\"https://shebanq.ancient-data.org/hebrew/text?book=Genesis&amp;chapter=30&amp;verse=35&amp;version=2017&amp;mr=m&amp;qw=q&amp;tp=txt_p&amp;tr=hb&amp;wget=v&amp;qget=v&amp;nget=vt\" title=\"Genesis 30:35\" sec=\"Genesis 30:35\">phrase</a>   <span class=\"function\">Objc</span> <span class=\"typ\">PP</span>\n",
       "        </div>\n",
       "        <div class=\"atoms\">\n",
       "                    <div class=\"word  \" ><div class=\"h\"><a target=\"_blank\" href=\"https://shebanq.ancient-data.org/hebrew/word?version=2017&amp;id=1B\" title=\"show this lexeme in SHEBANQ\">בַּ</a></div><div class=\"features\"> <span class=\"pdp\"><a href=\"https://shebanq.ancient-data.org/hebrew/text?book=Genesis&amp;chapter=30&amp;verse=35&amp;version=2017&amp;mr=m&amp;qw=q&amp;tp=txt_p&amp;tr=hb&amp;wget=v&amp;qget=v&amp;nget=vt\" title=\"Genesis 30:35\" sec=\"Genesis 30:35\">prep</a></span> <span class=\"gloss\">in</span> <span class=\"sp xft\"><span class=\"f\">sp=</span>prep</span></div></div><div class=\"word  \" ><div class=\"h\"><a target=\"_blank\" href=\"https://shebanq.ancient-data.org/hebrew/word?version=2017&amp;id=1H\" title=\"show this lexeme in SHEBANQ\"></a></div><div class=\"features\"> <span class=\"pdp\"><a href=\"https://shebanq.ancient-data.org/hebrew/text?book=Genesis&amp;chapter=30&amp;verse=35&amp;version=2017&amp;mr=m&amp;qw=q&amp;tp=txt_p&amp;tr=hb&amp;wget=v&amp;qget=v&amp;nget=vt\" title=\"Genesis 30:35\" sec=\"Genesis 30:35\">art</a></span> <span class=\"gloss\">the</span> <span class=\"sp xft\"><span class=\"f\">sp=</span>art</span></div></div><div class=\"word  \" ><div class=\"h\"><a target=\"_blank\" href=\"https://shebanq.ancient-data.org/hebrew/word?version=2017&amp;id=1KFBn\" title=\"show this lexeme in SHEBANQ\">כְּשָׂבִ֑ים </a></div><div class=\"features\"> <span class=\"pdp\"><a href=\"https://shebanq.ancient-data.org/hebrew/text?book=Genesis&amp;chapter=30&amp;verse=35&amp;version=2017&amp;mr=m&amp;qw=q&amp;tp=txt_p&amp;tr=hb&amp;wget=v&amp;qget=v&amp;nget=vt\" title=\"Genesis 30:35\" sec=\"Genesis 30:35\">subs</a></span> <span class=\"gloss\">young ram</span> <span class=\"sp xft\"><span class=\"f\">sp=</span>subs</span></div></div></div></div></div></div></div></div><div class=\"satom  \" >\n",
       "        <div class=\"sentence \" >\n",
       "            <a href=\"https://shebanq.ancient-data.org/hebrew/text?book=Genesis&amp;chapter=30&amp;verse=35&amp;version=2017&amp;mr=m&amp;qw=q&amp;tp=txt_p&amp;tr=hb&amp;wget=v&amp;qget=v&amp;nget=vt\" title=\"Genesis 30:35\" sec=\"Genesis 30:35\">sentence</a>   <span class=\"number\">119|2557</span>\n",
       "        </div>\n",
       "        <div class=\"atoms\">\n",
       "                    <div class=\"catom  \" >\n",
       "        <div class=\"clause \" >\n",
       "            <a href=\"https://shebanq.ancient-data.org/hebrew/text?book=Genesis&amp;chapter=30&amp;verse=35&amp;version=2017&amp;mr=m&amp;qw=q&amp;tp=txt_p&amp;tr=hb&amp;wget=v&amp;qget=v&amp;nget=vt\" title=\"Genesis 30:35\" sec=\"Genesis 30:35\">clause</a>   <span class=\"typ\">Way0</span>\n",
       "        </div>\n",
       "        <div class=\"atoms\">\n",
       "                    <div class=\"patom  \" >\n",
       "        <div class=\"phrase \" >\n",
       "            <a href=\"https://shebanq.ancient-data.org/hebrew/text?book=Genesis&amp;chapter=30&amp;verse=35&amp;version=2017&amp;mr=m&amp;qw=q&amp;tp=txt_p&amp;tr=hb&amp;wget=v&amp;qget=v&amp;nget=vt\" title=\"Genesis 30:35\" sec=\"Genesis 30:35\">phrase</a>   <span class=\"function\">Conj</span> <span class=\"typ\">CP</span>\n",
       "        </div>\n",
       "        <div class=\"atoms\">\n",
       "                    <div class=\"word  \" ><div class=\"h\"><a target=\"_blank\" href=\"https://shebanq.ancient-data.org/hebrew/word?version=2017&amp;id=1W\" title=\"show this lexeme in SHEBANQ\">וַ</a></div><div class=\"features\"> <span class=\"pdp\"><a href=\"https://shebanq.ancient-data.org/hebrew/text?book=Genesis&amp;chapter=30&amp;verse=35&amp;version=2017&amp;mr=m&amp;qw=q&amp;tp=txt_p&amp;tr=hb&amp;wget=v&amp;qget=v&amp;nget=vt\" title=\"Genesis 30:35\" sec=\"Genesis 30:35\">conj</a></span> <span class=\"gloss\">and</span> <span class=\"sp xft\"><span class=\"f\">sp=</span>conj</span></div></div></div></div><div class=\"patom  \" >\n",
       "        <div class=\"phrase \" >\n",
       "            <a href=\"https://shebanq.ancient-data.org/hebrew/text?book=Genesis&amp;chapter=30&amp;verse=35&amp;version=2017&amp;mr=m&amp;qw=q&amp;tp=txt_p&amp;tr=hb&amp;wget=v&amp;qget=v&amp;nget=vt\" title=\"Genesis 30:35\" sec=\"Genesis 30:35\">phrase</a>   <span class=\"function\">Pred</span> <span class=\"typ\">VP</span>\n",
       "        </div>\n",
       "        <div class=\"atoms\">\n",
       "                    <div class=\"word  \" ><div class=\"h\"><a target=\"_blank\" href=\"https://shebanq.ancient-data.org/hebrew/word?version=2017&amp;id=1NTNv\" title=\"show this lexeme in SHEBANQ\">יִּתֵּ֖ן </a></div><div class=\"features\"> <span class=\"pdp\"><a href=\"https://shebanq.ancient-data.org/hebrew/text?book=Genesis&amp;chapter=30&amp;verse=35&amp;version=2017&amp;mr=m&amp;qw=q&amp;tp=txt_p&amp;tr=hb&amp;wget=v&amp;qget=v&amp;nget=vt\" title=\"Genesis 30:35\" sec=\"Genesis 30:35\">verb</a></span> <span class=\"gloss\">give</span> <span class=\"vs\">qal</span> <span class=\"vt\">wayq</span> <span class=\"sp xft\"><span class=\"f\">sp=</span>verb</span></div></div></div></div><div class=\"patom  \" >\n",
       "        <div class=\"phrase \" >\n",
       "            <a href=\"https://shebanq.ancient-data.org/hebrew/text?book=Genesis&amp;chapter=30&amp;verse=35&amp;version=2017&amp;mr=m&amp;qw=q&amp;tp=txt_p&amp;tr=hb&amp;wget=v&amp;qget=v&amp;nget=vt\" title=\"Genesis 30:35\" sec=\"Genesis 30:35\">phrase</a>   <span class=\"function\">Cmpl</span> <span class=\"typ\">PP</span>\n",
       "        </div>\n",
       "        <div class=\"atoms\">\n",
       "                    <div class=\"word  \" ><div class=\"h\"><a target=\"_blank\" href=\"https://shebanq.ancient-data.org/hebrew/word?version=2017&amp;id=1B\" title=\"show this lexeme in SHEBANQ\">בְּ</a></div><div class=\"features\"> <span class=\"pdp\"><a href=\"https://shebanq.ancient-data.org/hebrew/text?book=Genesis&amp;chapter=30&amp;verse=35&amp;version=2017&amp;mr=m&amp;qw=q&amp;tp=txt_p&amp;tr=hb&amp;wget=v&amp;qget=v&amp;nget=vt\" title=\"Genesis 30:35\" sec=\"Genesis 30:35\">prep</a></span> <span class=\"gloss\">in</span> <span class=\"sp xft\"><span class=\"f\">sp=</span>prep</span></div></div><div class=\"word  \" ><div class=\"h\"><a target=\"_blank\" href=\"https://shebanq.ancient-data.org/hebrew/word?version=2017&amp;id=1JDn\" title=\"show this lexeme in SHEBANQ\">יַד־</a></div><div class=\"features\"> <span class=\"pdp\"><a href=\"https://shebanq.ancient-data.org/hebrew/text?book=Genesis&amp;chapter=30&amp;verse=35&amp;version=2017&amp;mr=m&amp;qw=q&amp;tp=txt_p&amp;tr=hb&amp;wget=v&amp;qget=v&amp;nget=vt\" title=\"Genesis 30:35\" sec=\"Genesis 30:35\">subs</a></span> <span class=\"gloss\">hand</span> <span class=\"sp xft\"><span class=\"f\">sp=</span>subs</span></div></div><div class=\"word  \" ><div class=\"h\"><a target=\"_blank\" href=\"https://shebanq.ancient-data.org/hebrew/word?version=2017&amp;id=1BNn\" title=\"show this lexeme in SHEBANQ\">בָּנָֽיו׃ </a></div><div class=\"features\"> <span class=\"pdp\"><a href=\"https://shebanq.ancient-data.org/hebrew/text?book=Genesis&amp;chapter=30&amp;verse=35&amp;version=2017&amp;mr=m&amp;qw=q&amp;tp=txt_p&amp;tr=hb&amp;wget=v&amp;qget=v&amp;nget=vt\" title=\"Genesis 30:35\" sec=\"Genesis 30:35\">subs</a></span> <span class=\"gloss\">son</span> <span class=\"sp xft\"><span class=\"f\">sp=</span>subs</span></div></div></div></div></div></div></div></div></div></div>"
      ],
      "text/plain": [
       "<IPython.core.display.HTML object>"
      ]
     },
     "metadata": {},
     "output_type": "display_data"
    },
    {
     "data": {
      "text/html": [
       "<p><b>result</b> <i>3</i></p>"
      ],
      "text/plain": [
       "<IPython.core.display.HTML object>"
      ]
     },
     "metadata": {},
     "output_type": "display_data"
    },
    {
     "data": {
      "text/html": [
       "<div class=\"outeritem\"><div class=\"verse  \" >\n",
       "    <div class=\"vl\">\n",
       "        <div class=\"vrs\"><a href=\"https://shebanq.ancient-data.org/hebrew/text?book=Genesis&amp;chapter=30&amp;verse=35&amp;version=2017&amp;mr=m&amp;qw=q&amp;tp=txt_p&amp;tr=hb&amp;wget=v&amp;qget=v&amp;nget=vt\" title=\"show this passage in SHEBANQ\" sec=\"Genesis 30:35\">Genesis 30:35</a></div>\n",
       "        \n",
       "    </div>\n",
       "<div class=\"satom  \" >\n",
       "        <div class=\"sentence \" >\n",
       "            <a href=\"https://shebanq.ancient-data.org/hebrew/text?book=Genesis&amp;chapter=30&amp;verse=35&amp;version=2017&amp;mr=m&amp;qw=q&amp;tp=txt_p&amp;tr=hb&amp;wget=v&amp;qget=v&amp;nget=vt\" title=\"Genesis 30:35\" sec=\"Genesis 30:35\">sentence</a>   <span class=\"number\">118|2556</span>\n",
       "        </div>\n",
       "        <div class=\"atoms\">\n",
       "                    <div class=\"catom  l \" >\n",
       "        <div class=\"clause \" >\n",
       "            <a href=\"https://shebanq.ancient-data.org/hebrew/text?book=Genesis&amp;chapter=30&amp;verse=35&amp;version=2017&amp;mr=m&amp;qw=q&amp;tp=txt_p&amp;tr=hb&amp;wget=v&amp;qget=v&amp;nget=vt\" title=\"Genesis 30:35\" sec=\"Genesis 30:35\">clause</a>   <span class=\"typ\">Way0</span>\n",
       "        </div>\n",
       "        <div class=\"atoms\">\n",
       "                    <div class=\"patom  \" >\n",
       "        <div class=\"phrase \" >\n",
       "            <a href=\"https://shebanq.ancient-data.org/hebrew/text?book=Genesis&amp;chapter=30&amp;verse=35&amp;version=2017&amp;mr=m&amp;qw=q&amp;tp=txt_p&amp;tr=hb&amp;wget=v&amp;qget=v&amp;nget=vt\" title=\"Genesis 30:35\" sec=\"Genesis 30:35\">phrase</a>   <span class=\"function\">Conj</span> <span class=\"typ\">CP</span>\n",
       "        </div>\n",
       "        <div class=\"atoms\">\n",
       "                    <div class=\"word  \" ><div class=\"h\"><a target=\"_blank\" href=\"https://shebanq.ancient-data.org/hebrew/word?version=2017&amp;id=1W\" title=\"show this lexeme in SHEBANQ\">וַ</a></div><div class=\"features\"> <span class=\"pdp\"><a href=\"https://shebanq.ancient-data.org/hebrew/text?book=Genesis&amp;chapter=30&amp;verse=35&amp;version=2017&amp;mr=m&amp;qw=q&amp;tp=txt_p&amp;tr=hb&amp;wget=v&amp;qget=v&amp;nget=vt\" title=\"Genesis 30:35\" sec=\"Genesis 30:35\">conj</a></span> <span class=\"gloss\">and</span> <span class=\"sp xft\"><span class=\"f\">sp=</span>conj</span></div></div></div></div><div class=\"patom  \" >\n",
       "        <div class=\"phrase \" >\n",
       "            <a href=\"https://shebanq.ancient-data.org/hebrew/text?book=Genesis&amp;chapter=30&amp;verse=35&amp;version=2017&amp;mr=m&amp;qw=q&amp;tp=txt_p&amp;tr=hb&amp;wget=v&amp;qget=v&amp;nget=vt\" title=\"Genesis 30:35\" sec=\"Genesis 30:35\">phrase</a>   <span class=\"function\">Pred</span> <span class=\"typ\">VP</span>\n",
       "        </div>\n",
       "        <div class=\"atoms\">\n",
       "                    <div class=\"word  \" ><div class=\"h\"><a target=\"_blank\" href=\"https://shebanq.ancient-data.org/hebrew/word?version=2017&amp;id=1SWRv\" title=\"show this lexeme in SHEBANQ\">יָּ֣סַר </a></div><div class=\"features\"> <span class=\"pdp\"><a href=\"https://shebanq.ancient-data.org/hebrew/text?book=Genesis&amp;chapter=30&amp;verse=35&amp;version=2017&amp;mr=m&amp;qw=q&amp;tp=txt_p&amp;tr=hb&amp;wget=v&amp;qget=v&amp;nget=vt\" title=\"Genesis 30:35\" sec=\"Genesis 30:35\">verb</a></span> <span class=\"gloss\">turn aside</span> <span class=\"vs\">hif</span> <span class=\"vt\">wayq</span> <span class=\"sp xft\"><span class=\"f\">sp=</span>verb</span></div></div></div></div><div class=\"patom  \" >\n",
       "        <div class=\"phrase \" >\n",
       "            <a href=\"https://shebanq.ancient-data.org/hebrew/text?book=Genesis&amp;chapter=30&amp;verse=35&amp;version=2017&amp;mr=m&amp;qw=q&amp;tp=txt_p&amp;tr=hb&amp;wget=v&amp;qget=v&amp;nget=vt\" title=\"Genesis 30:35\" sec=\"Genesis 30:35\">phrase</a>   <span class=\"function\">Time</span> <span class=\"typ\">PP</span>\n",
       "        </div>\n",
       "        <div class=\"atoms\">\n",
       "                    <div class=\"word  \" ><div class=\"h\"><a target=\"_blank\" href=\"https://shebanq.ancient-data.org/hebrew/word?version=2017&amp;id=1B\" title=\"show this lexeme in SHEBANQ\">בַּ</a></div><div class=\"features\"> <span class=\"pdp\"><a href=\"https://shebanq.ancient-data.org/hebrew/text?book=Genesis&amp;chapter=30&amp;verse=35&amp;version=2017&amp;mr=m&amp;qw=q&amp;tp=txt_p&amp;tr=hb&amp;wget=v&amp;qget=v&amp;nget=vt\" title=\"Genesis 30:35\" sec=\"Genesis 30:35\">prep</a></span> <span class=\"gloss\">in</span> <span class=\"sp xft\"><span class=\"f\">sp=</span>prep</span></div></div><div class=\"word  \" ><div class=\"h\"><a target=\"_blank\" href=\"https://shebanq.ancient-data.org/hebrew/word?version=2017&amp;id=1H\" title=\"show this lexeme in SHEBANQ\"></a></div><div class=\"features\"> <span class=\"pdp\"><a href=\"https://shebanq.ancient-data.org/hebrew/text?book=Genesis&amp;chapter=30&amp;verse=35&amp;version=2017&amp;mr=m&amp;qw=q&amp;tp=txt_p&amp;tr=hb&amp;wget=v&amp;qget=v&amp;nget=vt\" title=\"Genesis 30:35\" sec=\"Genesis 30:35\">art</a></span> <span class=\"gloss\">the</span> <span class=\"sp xft\"><span class=\"f\">sp=</span>art</span></div></div><div class=\"word  \" ><div class=\"h\"><a target=\"_blank\" href=\"https://shebanq.ancient-data.org/hebrew/word?version=2017&amp;id=1JWMn\" title=\"show this lexeme in SHEBANQ\">יֹּום֩ </a></div><div class=\"features\"> <span class=\"pdp\"><a href=\"https://shebanq.ancient-data.org/hebrew/text?book=Genesis&amp;chapter=30&amp;verse=35&amp;version=2017&amp;mr=m&amp;qw=q&amp;tp=txt_p&amp;tr=hb&amp;wget=v&amp;qget=v&amp;nget=vt\" title=\"Genesis 30:35\" sec=\"Genesis 30:35\">subs</a></span> <span class=\"gloss\">day</span> <span class=\"sp xft\"><span class=\"f\">sp=</span>subs</span></div></div><div class=\"word  \" ><div class=\"h\"><a target=\"_blank\" href=\"https://shebanq.ancient-data.org/hebrew/word?version=2017&amp;id=1H\" title=\"show this lexeme in SHEBANQ\">הַ</a></div><div class=\"features\"> <span class=\"pdp\"><a href=\"https://shebanq.ancient-data.org/hebrew/text?book=Genesis&amp;chapter=30&amp;verse=35&amp;version=2017&amp;mr=m&amp;qw=q&amp;tp=txt_p&amp;tr=hb&amp;wget=v&amp;qget=v&amp;nget=vt\" title=\"Genesis 30:35\" sec=\"Genesis 30:35\">art</a></span> <span class=\"gloss\">the</span> <span class=\"sp xft\"><span class=\"f\">sp=</span>art</span></div></div><div class=\"word  \" ><div class=\"h\"><a target=\"_blank\" href=\"https://shebanq.ancient-data.org/hebrew/word?version=2017&amp;id=1HWA\" title=\"show this lexeme in SHEBANQ\">ה֨וּא </a></div><div class=\"features\"> <span class=\"pdp\"><a href=\"https://shebanq.ancient-data.org/hebrew/text?book=Genesis&amp;chapter=30&amp;verse=35&amp;version=2017&amp;mr=m&amp;qw=q&amp;tp=txt_p&amp;tr=hb&amp;wget=v&amp;qget=v&amp;nget=vt\" title=\"Genesis 30:35\" sec=\"Genesis 30:35\">prde</a></span> <span class=\"gloss\">he</span> <span class=\"sp xft\"><span class=\"f\">sp=</span>prps</span></div></div></div></div><div class=\"patom  l hl\" >\n",
       "        <div class=\"phrase hl\" >\n",
       "            <a href=\"https://shebanq.ancient-data.org/hebrew/text?book=Genesis&amp;chapter=30&amp;verse=35&amp;version=2017&amp;mr=m&amp;qw=q&amp;tp=txt_p&amp;tr=hb&amp;wget=v&amp;qget=v&amp;nget=vt\" title=\"Genesis 30:35\" sec=\"Genesis 30:35\">phrase</a>   <span class=\"function\">Objc</span> <span class=\"typ\">PP</span>\n",
       "        </div>\n",
       "        <div class=\"atoms\">\n",
       "                    <div class=\"word  \" ><div class=\"h\"><a target=\"_blank\" href=\"https://shebanq.ancient-data.org/hebrew/word?version=2017&amp;id=1AT\" title=\"show this lexeme in SHEBANQ\">אֶת־</a></div><div class=\"features\"> <span class=\"pdp\"><a href=\"https://shebanq.ancient-data.org/hebrew/text?book=Genesis&amp;chapter=30&amp;verse=35&amp;version=2017&amp;mr=m&amp;qw=q&amp;tp=txt_p&amp;tr=hb&amp;wget=v&amp;qget=v&amp;nget=vt\" title=\"Genesis 30:35\" sec=\"Genesis 30:35\">prep</a></span> <span class=\"gloss\">&lt;object marker></span> <span class=\"sp xft\"><span class=\"f\">sp=</span>prep</span></div></div><div class=\"word  \" ><div class=\"h\"><a target=\"_blank\" href=\"https://shebanq.ancient-data.org/hebrew/word?version=2017&amp;id=1H\" title=\"show this lexeme in SHEBANQ\">הַ</a></div><div class=\"features\"> <span class=\"pdp\"><a href=\"https://shebanq.ancient-data.org/hebrew/text?book=Genesis&amp;chapter=30&amp;verse=35&amp;version=2017&amp;mr=m&amp;qw=q&amp;tp=txt_p&amp;tr=hb&amp;wget=v&amp;qget=v&amp;nget=vt\" title=\"Genesis 30:35\" sec=\"Genesis 30:35\">art</a></span> <span class=\"gloss\">the</span> <span class=\"sp xft\"><span class=\"f\">sp=</span>art</span></div></div><div class=\"word  \" ><div class=\"h\"><a target=\"_blank\" href=\"https://shebanq.ancient-data.org/hebrew/word?version=2017&amp;id=1TJCn\" title=\"show this lexeme in SHEBANQ\">תְּיָשִׁ֜ים </a></div><div class=\"features\"> <span class=\"pdp\"><a href=\"https://shebanq.ancient-data.org/hebrew/text?book=Genesis&amp;chapter=30&amp;verse=35&amp;version=2017&amp;mr=m&amp;qw=q&amp;tp=txt_p&amp;tr=hb&amp;wget=v&amp;qget=v&amp;nget=vt\" title=\"Genesis 30:35\" sec=\"Genesis 30:35\">subs</a></span> <span class=\"gloss\">he-goat</span> <span class=\"sp xft\"><span class=\"f\">sp=</span>subs</span></div></div><div class=\"word  \" ><div class=\"h\"><a target=\"_blank\" href=\"https://shebanq.ancient-data.org/hebrew/word?version=2017&amp;id=1H\" title=\"show this lexeme in SHEBANQ\">הָֽ</a></div><div class=\"features\"> <span class=\"pdp\"><a href=\"https://shebanq.ancient-data.org/hebrew/text?book=Genesis&amp;chapter=30&amp;verse=35&amp;version=2017&amp;mr=m&amp;qw=q&amp;tp=txt_p&amp;tr=hb&amp;wget=v&amp;qget=v&amp;nget=vt\" title=\"Genesis 30:35\" sec=\"Genesis 30:35\">art</a></span> <span class=\"gloss\">the</span> <span class=\"sp xft\"><span class=\"f\">sp=</span>art</span></div></div><div class=\"word  \" ><div class=\"h\"><a target=\"_blank\" href=\"https://shebanq.ancient-data.org/hebrew/word?version=2017&amp;id=1OQDn\" title=\"show this lexeme in SHEBANQ\">עֲקֻדִּ֣ים </a></div><div class=\"features\"> <span class=\"pdp\"><a href=\"https://shebanq.ancient-data.org/hebrew/text?book=Genesis&amp;chapter=30&amp;verse=35&amp;version=2017&amp;mr=m&amp;qw=q&amp;tp=txt_p&amp;tr=hb&amp;wget=v&amp;qget=v&amp;nget=vt\" title=\"Genesis 30:35\" sec=\"Genesis 30:35\">adjv</a></span> <span class=\"gloss\">twisted</span> <span class=\"sp xft\"><span class=\"f\">sp=</span>adjv</span></div></div><div class=\"word  \" ><div class=\"h\"><a target=\"_blank\" href=\"https://shebanq.ancient-data.org/hebrew/word?version=2017&amp;id=1W\" title=\"show this lexeme in SHEBANQ\">וְ</a></div><div class=\"features\"> <span class=\"pdp\"><a href=\"https://shebanq.ancient-data.org/hebrew/text?book=Genesis&amp;chapter=30&amp;verse=35&amp;version=2017&amp;mr=m&amp;qw=q&amp;tp=txt_p&amp;tr=hb&amp;wget=v&amp;qget=v&amp;nget=vt\" title=\"Genesis 30:35\" sec=\"Genesis 30:35\">conj</a></span> <span class=\"gloss\">and</span> <span class=\"sp xft\"><span class=\"f\">sp=</span>conj</span></div></div><div class=\"word  \" ><div class=\"h\"><a target=\"_blank\" href=\"https://shebanq.ancient-data.org/hebrew/word?version=2017&amp;id=1H\" title=\"show this lexeme in SHEBANQ\">הַ</a></div><div class=\"features\"> <span class=\"pdp\"><a href=\"https://shebanq.ancient-data.org/hebrew/text?book=Genesis&amp;chapter=30&amp;verse=35&amp;version=2017&amp;mr=m&amp;qw=q&amp;tp=txt_p&amp;tr=hb&amp;wget=v&amp;qget=v&amp;nget=vt\" title=\"Genesis 30:35\" sec=\"Genesis 30:35\">art</a></span> <span class=\"gloss\">the</span> <span class=\"sp xft\"><span class=\"f\">sp=</span>art</span></div></div><div class=\"word  \" ><div class=\"h\"><a target=\"_blank\" href=\"https://shebanq.ancient-data.org/hebrew/word?version=2017&amp;id=1VLAv\" title=\"show this lexeme in SHEBANQ\">טְּלֻאִ֗ים </a></div><div class=\"features\"> <span class=\"pdp\"><a href=\"https://shebanq.ancient-data.org/hebrew/text?book=Genesis&amp;chapter=30&amp;verse=35&amp;version=2017&amp;mr=m&amp;qw=q&amp;tp=txt_p&amp;tr=hb&amp;wget=v&amp;qget=v&amp;nget=vt\" title=\"Genesis 30:35\" sec=\"Genesis 30:35\">adjv</a></span> <span class=\"gloss\">patch</span> <span class=\"vs\">qal</span> <span class=\"vt\">ptcp</span> <span class=\"sp xft\"><span class=\"f\">sp=</span>verb</span></div></div></div></div><div class=\"patom  r l hl\" >\n",
       "        <div class=\"phrase hl\" >\n",
       "            <a href=\"https://shebanq.ancient-data.org/hebrew/text?book=Genesis&amp;chapter=30&amp;verse=35&amp;version=2017&amp;mr=m&amp;qw=q&amp;tp=txt_p&amp;tr=hb&amp;wget=v&amp;qget=v&amp;nget=vt\" title=\"Genesis 30:35\" sec=\"Genesis 30:35\">phrase</a>   <span class=\"function\">Objc</span> <span class=\"typ\">PP|CP</span>\n",
       "        </div>\n",
       "        <div class=\"atoms\">\n",
       "                    <div class=\"word  \" ><div class=\"h\"><a target=\"_blank\" href=\"https://shebanq.ancient-data.org/hebrew/word?version=2017&amp;id=1W\" title=\"show this lexeme in SHEBANQ\">וְ</a></div><div class=\"features\"> <span class=\"pdp\"><a href=\"https://shebanq.ancient-data.org/hebrew/text?book=Genesis&amp;chapter=30&amp;verse=35&amp;version=2017&amp;mr=m&amp;qw=q&amp;tp=txt_p&amp;tr=hb&amp;wget=v&amp;qget=v&amp;nget=vt\" title=\"Genesis 30:35\" sec=\"Genesis 30:35\">conj</a></span> <span class=\"gloss\">and</span> <span class=\"sp xft\"><span class=\"f\">sp=</span>conj</span></div></div></div></div><div class=\"patom  r l hl\" >\n",
       "        <div class=\"phrase hl\" >\n",
       "            <a href=\"https://shebanq.ancient-data.org/hebrew/text?book=Genesis&amp;chapter=30&amp;verse=35&amp;version=2017&amp;mr=m&amp;qw=q&amp;tp=txt_p&amp;tr=hb&amp;wget=v&amp;qget=v&amp;nget=vt\" title=\"Genesis 30:35\" sec=\"Genesis 30:35\">phrase</a>   <span class=\"function\">Objc</span> <span class=\"typ\">PP</span>\n",
       "        </div>\n",
       "        <div class=\"atoms\">\n",
       "                    <div class=\"word  \" ><div class=\"h\"><a target=\"_blank\" href=\"https://shebanq.ancient-data.org/hebrew/word?version=2017&amp;id=1AT\" title=\"show this lexeme in SHEBANQ\">אֵ֤ת </a></div><div class=\"features\"> <span class=\"pdp\"><a href=\"https://shebanq.ancient-data.org/hebrew/text?book=Genesis&amp;chapter=30&amp;verse=35&amp;version=2017&amp;mr=m&amp;qw=q&amp;tp=txt_p&amp;tr=hb&amp;wget=v&amp;qget=v&amp;nget=vt\" title=\"Genesis 30:35\" sec=\"Genesis 30:35\">prep</a></span> <span class=\"gloss\">&lt;object marker></span> <span class=\"sp xft\"><span class=\"f\">sp=</span>prep</span></div></div><div class=\"word  \" ><div class=\"h\"><a target=\"_blank\" href=\"https://shebanq.ancient-data.org/hebrew/word?version=2017&amp;id=1KLn\" title=\"show this lexeme in SHEBANQ\">כָּל־</a></div><div class=\"features\"> <span class=\"pdp\"><a href=\"https://shebanq.ancient-data.org/hebrew/text?book=Genesis&amp;chapter=30&amp;verse=35&amp;version=2017&amp;mr=m&amp;qw=q&amp;tp=txt_p&amp;tr=hb&amp;wget=v&amp;qget=v&amp;nget=vt\" title=\"Genesis 30:35\" sec=\"Genesis 30:35\">subs</a></span> <span class=\"gloss\">whole</span> <span class=\"sp xft\"><span class=\"f\">sp=</span>subs</span></div></div><div class=\"word  \" ><div class=\"h\"><a target=\"_blank\" href=\"https://shebanq.ancient-data.org/hebrew/word?version=2017&amp;id=1H\" title=\"show this lexeme in SHEBANQ\">הָֽ</a></div><div class=\"features\"> <span class=\"pdp\"><a href=\"https://shebanq.ancient-data.org/hebrew/text?book=Genesis&amp;chapter=30&amp;verse=35&amp;version=2017&amp;mr=m&amp;qw=q&amp;tp=txt_p&amp;tr=hb&amp;wget=v&amp;qget=v&amp;nget=vt\" title=\"Genesis 30:35\" sec=\"Genesis 30:35\">art</a></span> <span class=\"gloss\">the</span> <span class=\"sp xft\"><span class=\"f\">sp=</span>art</span></div></div><div class=\"word  \" ><div class=\"h\"><a target=\"_blank\" href=\"https://shebanq.ancient-data.org/hebrew/word?version=2017&amp;id=1OZiin\" title=\"show this lexeme in SHEBANQ\">עִזִּים֙ </a></div><div class=\"features\"> <span class=\"pdp\"><a href=\"https://shebanq.ancient-data.org/hebrew/text?book=Genesis&amp;chapter=30&amp;verse=35&amp;version=2017&amp;mr=m&amp;qw=q&amp;tp=txt_p&amp;tr=hb&amp;wget=v&amp;qget=v&amp;nget=vt\" title=\"Genesis 30:35\" sec=\"Genesis 30:35\">subs</a></span> <span class=\"gloss\">goat</span> <span class=\"sp xft\"><span class=\"f\">sp=</span>subs</span></div></div><div class=\"word  \" ><div class=\"h\"><a target=\"_blank\" href=\"https://shebanq.ancient-data.org/hebrew/word?version=2017&amp;id=1H\" title=\"show this lexeme in SHEBANQ\">הַ</a></div><div class=\"features\"> <span class=\"pdp\"><a href=\"https://shebanq.ancient-data.org/hebrew/text?book=Genesis&amp;chapter=30&amp;verse=35&amp;version=2017&amp;mr=m&amp;qw=q&amp;tp=txt_p&amp;tr=hb&amp;wget=v&amp;qget=v&amp;nget=vt\" title=\"Genesis 30:35\" sec=\"Genesis 30:35\">art</a></span> <span class=\"gloss\">the</span> <span class=\"sp xft\"><span class=\"f\">sp=</span>art</span></div></div><div class=\"word  \" ><div class=\"h\"><a target=\"_blank\" href=\"https://shebanq.ancient-data.org/hebrew/word?version=2017&amp;id=1NQDin\" title=\"show this lexeme in SHEBANQ\">נְּקֻדֹּ֣ות </a></div><div class=\"features\"> <span class=\"pdp\"><a href=\"https://shebanq.ancient-data.org/hebrew/text?book=Genesis&amp;chapter=30&amp;verse=35&amp;version=2017&amp;mr=m&amp;qw=q&amp;tp=txt_p&amp;tr=hb&amp;wget=v&amp;qget=v&amp;nget=vt\" title=\"Genesis 30:35\" sec=\"Genesis 30:35\">adjv</a></span> <span class=\"gloss\">speckled</span> <span class=\"sp xft\"><span class=\"f\">sp=</span>adjv</span></div></div><div class=\"word  \" ><div class=\"h\"><a target=\"_blank\" href=\"https://shebanq.ancient-data.org/hebrew/word?version=2017&amp;id=1W\" title=\"show this lexeme in SHEBANQ\">וְ</a></div><div class=\"features\"> <span class=\"pdp\"><a href=\"https://shebanq.ancient-data.org/hebrew/text?book=Genesis&amp;chapter=30&amp;verse=35&amp;version=2017&amp;mr=m&amp;qw=q&amp;tp=txt_p&amp;tr=hb&amp;wget=v&amp;qget=v&amp;nget=vt\" title=\"Genesis 30:35\" sec=\"Genesis 30:35\">conj</a></span> <span class=\"gloss\">and</span> <span class=\"sp xft\"><span class=\"f\">sp=</span>conj</span></div></div><div class=\"word  \" ><div class=\"h\"><a target=\"_blank\" href=\"https://shebanq.ancient-data.org/hebrew/word?version=2017&amp;id=1H\" title=\"show this lexeme in SHEBANQ\">הַ</a></div><div class=\"features\"> <span class=\"pdp\"><a href=\"https://shebanq.ancient-data.org/hebrew/text?book=Genesis&amp;chapter=30&amp;verse=35&amp;version=2017&amp;mr=m&amp;qw=q&amp;tp=txt_p&amp;tr=hb&amp;wget=v&amp;qget=v&amp;nget=vt\" title=\"Genesis 30:35\" sec=\"Genesis 30:35\">art</a></span> <span class=\"gloss\">the</span> <span class=\"sp xft\"><span class=\"f\">sp=</span>art</span></div></div><div class=\"word  hl\" ><div class=\"h\"><a target=\"_blank\" href=\"https://shebanq.ancient-data.org/hebrew/word?version=2017&amp;id=1VLAv\" title=\"show this lexeme in SHEBANQ\">טְּלֻאֹ֔ת </a></div><div class=\"features\"> <span class=\"pdp\"><a href=\"https://shebanq.ancient-data.org/hebrew/text?book=Genesis&amp;chapter=30&amp;verse=35&amp;version=2017&amp;mr=m&amp;qw=q&amp;tp=txt_p&amp;tr=hb&amp;wget=v&amp;qget=v&amp;nget=vt\" title=\"Genesis 30:35\" sec=\"Genesis 30:35\">adjv</a></span> <span class=\"gloss\">patch</span> <span class=\"vs\">qal</span> <span class=\"vt\">ptcp</span> <span class=\"sp xft\"><span class=\"f\">sp=</span>verb</span></div></div></div></div><div class=\"patom  r l hl\" >\n",
       "        <div class=\"phrase hl\" >\n",
       "            <a href=\"https://shebanq.ancient-data.org/hebrew/text?book=Genesis&amp;chapter=30&amp;verse=35&amp;version=2017&amp;mr=m&amp;qw=q&amp;tp=txt_p&amp;tr=hb&amp;wget=v&amp;qget=v&amp;nget=vt\" title=\"Genesis 30:35\" sec=\"Genesis 30:35\">phrase</a>   <span class=\"function\">Objc</span> <span class=\"typ\">PP|NP</span>\n",
       "        </div>\n",
       "        <div class=\"atoms\">\n",
       "                    <div class=\"word  \" ><div class=\"h\"><a target=\"_blank\" href=\"https://shebanq.ancient-data.org/hebrew/word?version=2017&amp;id=1KLn\" title=\"show this lexeme in SHEBANQ\">כֹּ֤ל </a></div><div class=\"features\"> <span class=\"pdp\"><a href=\"https://shebanq.ancient-data.org/hebrew/text?book=Genesis&amp;chapter=30&amp;verse=35&amp;version=2017&amp;mr=m&amp;qw=q&amp;tp=txt_p&amp;tr=hb&amp;wget=v&amp;qget=v&amp;nget=vt\" title=\"Genesis 30:35\" sec=\"Genesis 30:35\">subs</a></span> <span class=\"gloss\">whole</span> <span class=\"sp xft\"><span class=\"f\">sp=</span>subs</span></div></div></div></div></div></div><div class=\"catom  \" >\n",
       "        <div class=\"clause \" >\n",
       "            <a href=\"https://shebanq.ancient-data.org/hebrew/text?book=Genesis&amp;chapter=30&amp;verse=35&amp;version=2017&amp;mr=m&amp;qw=q&amp;tp=txt_p&amp;tr=hb&amp;wget=v&amp;qget=v&amp;nget=vt\" title=\"Genesis 30:35\" sec=\"Genesis 30:35\">clause</a>   <span class=\"rela\">Attr</span> <span class=\"typ\">NmCl</span>\n",
       "        </div>\n",
       "        <div class=\"atoms\">\n",
       "                    <div class=\"patom  \" >\n",
       "        <div class=\"phrase \" >\n",
       "            <a href=\"https://shebanq.ancient-data.org/hebrew/text?book=Genesis&amp;chapter=30&amp;verse=35&amp;version=2017&amp;mr=m&amp;qw=q&amp;tp=txt_p&amp;tr=hb&amp;wget=v&amp;qget=v&amp;nget=vt\" title=\"Genesis 30:35\" sec=\"Genesis 30:35\">phrase</a>   <span class=\"function\">Rela</span> <span class=\"typ\">CP</span>\n",
       "        </div>\n",
       "        <div class=\"atoms\">\n",
       "                    <div class=\"word  \" ><div class=\"h\"><a target=\"_blank\" href=\"https://shebanq.ancient-data.org/hebrew/word?version=2017&amp;id=1ACR\" title=\"show this lexeme in SHEBANQ\">אֲשֶׁר־</a></div><div class=\"features\"> <span class=\"pdp\"><a href=\"https://shebanq.ancient-data.org/hebrew/text?book=Genesis&amp;chapter=30&amp;verse=35&amp;version=2017&amp;mr=m&amp;qw=q&amp;tp=txt_p&amp;tr=hb&amp;wget=v&amp;qget=v&amp;nget=vt\" title=\"Genesis 30:35\" sec=\"Genesis 30:35\">conj</a></span> <span class=\"gloss\">&lt;relative></span> <span class=\"sp xft\"><span class=\"f\">sp=</span>conj</span></div></div></div></div><div class=\"patom  \" >\n",
       "        <div class=\"phrase \" >\n",
       "            <a href=\"https://shebanq.ancient-data.org/hebrew/text?book=Genesis&amp;chapter=30&amp;verse=35&amp;version=2017&amp;mr=m&amp;qw=q&amp;tp=txt_p&amp;tr=hb&amp;wget=v&amp;qget=v&amp;nget=vt\" title=\"Genesis 30:35\" sec=\"Genesis 30:35\">phrase</a>   <span class=\"function\">Subj</span> <span class=\"typ\">NP</span>\n",
       "        </div>\n",
       "        <div class=\"atoms\">\n",
       "                    <div class=\"word  \" ><div class=\"h\"><a target=\"_blank\" href=\"https://shebanq.ancient-data.org/hebrew/word?version=2017&amp;id=1LBNn\" title=\"show this lexeme in SHEBANQ\">לָבָן֙ </a></div><div class=\"features\"> <span class=\"pdp\"><a href=\"https://shebanq.ancient-data.org/hebrew/text?book=Genesis&amp;chapter=30&amp;verse=35&amp;version=2017&amp;mr=m&amp;qw=q&amp;tp=txt_p&amp;tr=hb&amp;wget=v&amp;qget=v&amp;nget=vt\" title=\"Genesis 30:35\" sec=\"Genesis 30:35\">subs</a></span> <span class=\"gloss\">white</span> <span class=\"sp xft\"><span class=\"f\">sp=</span>adjv</span></div></div></div></div><div class=\"patom  \" >\n",
       "        <div class=\"phrase \" >\n",
       "            <a href=\"https://shebanq.ancient-data.org/hebrew/text?book=Genesis&amp;chapter=30&amp;verse=35&amp;version=2017&amp;mr=m&amp;qw=q&amp;tp=txt_p&amp;tr=hb&amp;wget=v&amp;qget=v&amp;nget=vt\" title=\"Genesis 30:35\" sec=\"Genesis 30:35\">phrase</a>   <span class=\"function\">PreC</span> <span class=\"typ\">PP</span>\n",
       "        </div>\n",
       "        <div class=\"atoms\">\n",
       "                    <div class=\"word  \" ><div class=\"h\"><a target=\"_blank\" href=\"https://shebanq.ancient-data.org/hebrew/word?version=2017&amp;id=1B\" title=\"show this lexeme in SHEBANQ\">בֹּ֔ו </a></div><div class=\"features\"> <span class=\"pdp\"><a href=\"https://shebanq.ancient-data.org/hebrew/text?book=Genesis&amp;chapter=30&amp;verse=35&amp;version=2017&amp;mr=m&amp;qw=q&amp;tp=txt_p&amp;tr=hb&amp;wget=v&amp;qget=v&amp;nget=vt\" title=\"Genesis 30:35\" sec=\"Genesis 30:35\">prep</a></span> <span class=\"gloss\">in</span> <span class=\"sp xft\"><span class=\"f\">sp=</span>prep</span></div></div></div></div></div></div><div class=\"catom  r \" >\n",
       "        <div class=\"clause \" >\n",
       "            <a href=\"https://shebanq.ancient-data.org/hebrew/text?book=Genesis&amp;chapter=30&amp;verse=35&amp;version=2017&amp;mr=m&amp;qw=q&amp;tp=txt_p&amp;tr=hb&amp;wget=v&amp;qget=v&amp;nget=vt\" title=\"Genesis 30:35\" sec=\"Genesis 30:35\">clause</a>   <span class=\"typ\">Way0|Defc</span>\n",
       "        </div>\n",
       "        <div class=\"atoms\">\n",
       "                    <div class=\"patom  r l hl\" >\n",
       "        <div class=\"phrase hl\" >\n",
       "            <a href=\"https://shebanq.ancient-data.org/hebrew/text?book=Genesis&amp;chapter=30&amp;verse=35&amp;version=2017&amp;mr=m&amp;qw=q&amp;tp=txt_p&amp;tr=hb&amp;wget=v&amp;qget=v&amp;nget=vt\" title=\"Genesis 30:35\" sec=\"Genesis 30:35\">phrase</a>   <span class=\"function\">Objc</span> <span class=\"typ\">PP|CP</span>\n",
       "        </div>\n",
       "        <div class=\"atoms\">\n",
       "                    <div class=\"word  \" ><div class=\"h\"><a target=\"_blank\" href=\"https://shebanq.ancient-data.org/hebrew/word?version=2017&amp;id=1W\" title=\"show this lexeme in SHEBANQ\">וְ</a></div><div class=\"features\"> <span class=\"pdp\"><a href=\"https://shebanq.ancient-data.org/hebrew/text?book=Genesis&amp;chapter=30&amp;verse=35&amp;version=2017&amp;mr=m&amp;qw=q&amp;tp=txt_p&amp;tr=hb&amp;wget=v&amp;qget=v&amp;nget=vt\" title=\"Genesis 30:35\" sec=\"Genesis 30:35\">conj</a></span> <span class=\"gloss\">and</span> <span class=\"sp xft\"><span class=\"f\">sp=</span>conj</span></div></div></div></div><div class=\"patom  r l hl\" >\n",
       "        <div class=\"phrase hl\" >\n",
       "            <a href=\"https://shebanq.ancient-data.org/hebrew/text?book=Genesis&amp;chapter=30&amp;verse=35&amp;version=2017&amp;mr=m&amp;qw=q&amp;tp=txt_p&amp;tr=hb&amp;wget=v&amp;qget=v&amp;nget=vt\" title=\"Genesis 30:35\" sec=\"Genesis 30:35\">phrase</a>   <span class=\"function\">Objc</span> <span class=\"typ\">PP|NP</span>\n",
       "        </div>\n",
       "        <div class=\"atoms\">\n",
       "                    <div class=\"word  \" ><div class=\"h\"><a target=\"_blank\" href=\"https://shebanq.ancient-data.org/hebrew/word?version=2017&amp;id=1KLn\" title=\"show this lexeme in SHEBANQ\">כָל־</a></div><div class=\"features\"> <span class=\"pdp\"><a href=\"https://shebanq.ancient-data.org/hebrew/text?book=Genesis&amp;chapter=30&amp;verse=35&amp;version=2017&amp;mr=m&amp;qw=q&amp;tp=txt_p&amp;tr=hb&amp;wget=v&amp;qget=v&amp;nget=vt\" title=\"Genesis 30:35\" sec=\"Genesis 30:35\">subs</a></span> <span class=\"gloss\">whole</span> <span class=\"sp xft\"><span class=\"f\">sp=</span>subs</span></div></div><div class=\"word  \" ><div class=\"h\"><a target=\"_blank\" href=\"https://shebanq.ancient-data.org/hebrew/word?version=2017&amp;id=1XWMn\" title=\"show this lexeme in SHEBANQ\">ח֖וּם </a></div><div class=\"features\"> <span class=\"pdp\"><a href=\"https://shebanq.ancient-data.org/hebrew/text?book=Genesis&amp;chapter=30&amp;verse=35&amp;version=2017&amp;mr=m&amp;qw=q&amp;tp=txt_p&amp;tr=hb&amp;wget=v&amp;qget=v&amp;nget=vt\" title=\"Genesis 30:35\" sec=\"Genesis 30:35\">adjv</a></span> <span class=\"gloss\">ruttish</span> <span class=\"sp xft\"><span class=\"f\">sp=</span>adjv</span></div></div></div></div><div class=\"patom  r hl\" >\n",
       "        <div class=\"phrase hl\" >\n",
       "            <a href=\"https://shebanq.ancient-data.org/hebrew/text?book=Genesis&amp;chapter=30&amp;verse=35&amp;version=2017&amp;mr=m&amp;qw=q&amp;tp=txt_p&amp;tr=hb&amp;wget=v&amp;qget=v&amp;nget=vt\" title=\"Genesis 30:35\" sec=\"Genesis 30:35\">phrase</a>   <span class=\"function\">Objc</span> <span class=\"typ\">PP</span>\n",
       "        </div>\n",
       "        <div class=\"atoms\">\n",
       "                    <div class=\"word  \" ><div class=\"h\"><a target=\"_blank\" href=\"https://shebanq.ancient-data.org/hebrew/word?version=2017&amp;id=1B\" title=\"show this lexeme in SHEBANQ\">בַּ</a></div><div class=\"features\"> <span class=\"pdp\"><a href=\"https://shebanq.ancient-data.org/hebrew/text?book=Genesis&amp;chapter=30&amp;verse=35&amp;version=2017&amp;mr=m&amp;qw=q&amp;tp=txt_p&amp;tr=hb&amp;wget=v&amp;qget=v&amp;nget=vt\" title=\"Genesis 30:35\" sec=\"Genesis 30:35\">prep</a></span> <span class=\"gloss\">in</span> <span class=\"sp xft\"><span class=\"f\">sp=</span>prep</span></div></div><div class=\"word  \" ><div class=\"h\"><a target=\"_blank\" href=\"https://shebanq.ancient-data.org/hebrew/word?version=2017&amp;id=1H\" title=\"show this lexeme in SHEBANQ\"></a></div><div class=\"features\"> <span class=\"pdp\"><a href=\"https://shebanq.ancient-data.org/hebrew/text?book=Genesis&amp;chapter=30&amp;verse=35&amp;version=2017&amp;mr=m&amp;qw=q&amp;tp=txt_p&amp;tr=hb&amp;wget=v&amp;qget=v&amp;nget=vt\" title=\"Genesis 30:35\" sec=\"Genesis 30:35\">art</a></span> <span class=\"gloss\">the</span> <span class=\"sp xft\"><span class=\"f\">sp=</span>art</span></div></div><div class=\"word  \" ><div class=\"h\"><a target=\"_blank\" href=\"https://shebanq.ancient-data.org/hebrew/word?version=2017&amp;id=1KFBn\" title=\"show this lexeme in SHEBANQ\">כְּשָׂבִ֑ים </a></div><div class=\"features\"> <span class=\"pdp\"><a href=\"https://shebanq.ancient-data.org/hebrew/text?book=Genesis&amp;chapter=30&amp;verse=35&amp;version=2017&amp;mr=m&amp;qw=q&amp;tp=txt_p&amp;tr=hb&amp;wget=v&amp;qget=v&amp;nget=vt\" title=\"Genesis 30:35\" sec=\"Genesis 30:35\">subs</a></span> <span class=\"gloss\">young ram</span> <span class=\"sp xft\"><span class=\"f\">sp=</span>subs</span></div></div></div></div></div></div></div></div><div class=\"satom  \" >\n",
       "        <div class=\"sentence \" >\n",
       "            <a href=\"https://shebanq.ancient-data.org/hebrew/text?book=Genesis&amp;chapter=30&amp;verse=35&amp;version=2017&amp;mr=m&amp;qw=q&amp;tp=txt_p&amp;tr=hb&amp;wget=v&amp;qget=v&amp;nget=vt\" title=\"Genesis 30:35\" sec=\"Genesis 30:35\">sentence</a>   <span class=\"number\">119|2557</span>\n",
       "        </div>\n",
       "        <div class=\"atoms\">\n",
       "                    <div class=\"catom  \" >\n",
       "        <div class=\"clause \" >\n",
       "            <a href=\"https://shebanq.ancient-data.org/hebrew/text?book=Genesis&amp;chapter=30&amp;verse=35&amp;version=2017&amp;mr=m&amp;qw=q&amp;tp=txt_p&amp;tr=hb&amp;wget=v&amp;qget=v&amp;nget=vt\" title=\"Genesis 30:35\" sec=\"Genesis 30:35\">clause</a>   <span class=\"typ\">Way0</span>\n",
       "        </div>\n",
       "        <div class=\"atoms\">\n",
       "                    <div class=\"patom  \" >\n",
       "        <div class=\"phrase \" >\n",
       "            <a href=\"https://shebanq.ancient-data.org/hebrew/text?book=Genesis&amp;chapter=30&amp;verse=35&amp;version=2017&amp;mr=m&amp;qw=q&amp;tp=txt_p&amp;tr=hb&amp;wget=v&amp;qget=v&amp;nget=vt\" title=\"Genesis 30:35\" sec=\"Genesis 30:35\">phrase</a>   <span class=\"function\">Conj</span> <span class=\"typ\">CP</span>\n",
       "        </div>\n",
       "        <div class=\"atoms\">\n",
       "                    <div class=\"word  \" ><div class=\"h\"><a target=\"_blank\" href=\"https://shebanq.ancient-data.org/hebrew/word?version=2017&amp;id=1W\" title=\"show this lexeme in SHEBANQ\">וַ</a></div><div class=\"features\"> <span class=\"pdp\"><a href=\"https://shebanq.ancient-data.org/hebrew/text?book=Genesis&amp;chapter=30&amp;verse=35&amp;version=2017&amp;mr=m&amp;qw=q&amp;tp=txt_p&amp;tr=hb&amp;wget=v&amp;qget=v&amp;nget=vt\" title=\"Genesis 30:35\" sec=\"Genesis 30:35\">conj</a></span> <span class=\"gloss\">and</span> <span class=\"sp xft\"><span class=\"f\">sp=</span>conj</span></div></div></div></div><div class=\"patom  \" >\n",
       "        <div class=\"phrase \" >\n",
       "            <a href=\"https://shebanq.ancient-data.org/hebrew/text?book=Genesis&amp;chapter=30&amp;verse=35&amp;version=2017&amp;mr=m&amp;qw=q&amp;tp=txt_p&amp;tr=hb&amp;wget=v&amp;qget=v&amp;nget=vt\" title=\"Genesis 30:35\" sec=\"Genesis 30:35\">phrase</a>   <span class=\"function\">Pred</span> <span class=\"typ\">VP</span>\n",
       "        </div>\n",
       "        <div class=\"atoms\">\n",
       "                    <div class=\"word  \" ><div class=\"h\"><a target=\"_blank\" href=\"https://shebanq.ancient-data.org/hebrew/word?version=2017&amp;id=1NTNv\" title=\"show this lexeme in SHEBANQ\">יִּתֵּ֖ן </a></div><div class=\"features\"> <span class=\"pdp\"><a href=\"https://shebanq.ancient-data.org/hebrew/text?book=Genesis&amp;chapter=30&amp;verse=35&amp;version=2017&amp;mr=m&amp;qw=q&amp;tp=txt_p&amp;tr=hb&amp;wget=v&amp;qget=v&amp;nget=vt\" title=\"Genesis 30:35\" sec=\"Genesis 30:35\">verb</a></span> <span class=\"gloss\">give</span> <span class=\"vs\">qal</span> <span class=\"vt\">wayq</span> <span class=\"sp xft\"><span class=\"f\">sp=</span>verb</span></div></div></div></div><div class=\"patom  \" >\n",
       "        <div class=\"phrase \" >\n",
       "            <a href=\"https://shebanq.ancient-data.org/hebrew/text?book=Genesis&amp;chapter=30&amp;verse=35&amp;version=2017&amp;mr=m&amp;qw=q&amp;tp=txt_p&amp;tr=hb&amp;wget=v&amp;qget=v&amp;nget=vt\" title=\"Genesis 30:35\" sec=\"Genesis 30:35\">phrase</a>   <span class=\"function\">Cmpl</span> <span class=\"typ\">PP</span>\n",
       "        </div>\n",
       "        <div class=\"atoms\">\n",
       "                    <div class=\"word  \" ><div class=\"h\"><a target=\"_blank\" href=\"https://shebanq.ancient-data.org/hebrew/word?version=2017&amp;id=1B\" title=\"show this lexeme in SHEBANQ\">בְּ</a></div><div class=\"features\"> <span class=\"pdp\"><a href=\"https://shebanq.ancient-data.org/hebrew/text?book=Genesis&amp;chapter=30&amp;verse=35&amp;version=2017&amp;mr=m&amp;qw=q&amp;tp=txt_p&amp;tr=hb&amp;wget=v&amp;qget=v&amp;nget=vt\" title=\"Genesis 30:35\" sec=\"Genesis 30:35\">prep</a></span> <span class=\"gloss\">in</span> <span class=\"sp xft\"><span class=\"f\">sp=</span>prep</span></div></div><div class=\"word  \" ><div class=\"h\"><a target=\"_blank\" href=\"https://shebanq.ancient-data.org/hebrew/word?version=2017&amp;id=1JDn\" title=\"show this lexeme in SHEBANQ\">יַד־</a></div><div class=\"features\"> <span class=\"pdp\"><a href=\"https://shebanq.ancient-data.org/hebrew/text?book=Genesis&amp;chapter=30&amp;verse=35&amp;version=2017&amp;mr=m&amp;qw=q&amp;tp=txt_p&amp;tr=hb&amp;wget=v&amp;qget=v&amp;nget=vt\" title=\"Genesis 30:35\" sec=\"Genesis 30:35\">subs</a></span> <span class=\"gloss\">hand</span> <span class=\"sp xft\"><span class=\"f\">sp=</span>subs</span></div></div><div class=\"word  \" ><div class=\"h\"><a target=\"_blank\" href=\"https://shebanq.ancient-data.org/hebrew/word?version=2017&amp;id=1BNn\" title=\"show this lexeme in SHEBANQ\">בָּנָֽיו׃ </a></div><div class=\"features\"> <span class=\"pdp\"><a href=\"https://shebanq.ancient-data.org/hebrew/text?book=Genesis&amp;chapter=30&amp;verse=35&amp;version=2017&amp;mr=m&amp;qw=q&amp;tp=txt_p&amp;tr=hb&amp;wget=v&amp;qget=v&amp;nget=vt\" title=\"Genesis 30:35\" sec=\"Genesis 30:35\">subs</a></span> <span class=\"gloss\">son</span> <span class=\"sp xft\"><span class=\"f\">sp=</span>subs</span></div></div></div></div></div></div></div></div></div></div>"
      ],
      "text/plain": [
       "<IPython.core.display.HTML object>"
      ]
     },
     "metadata": {},
     "output_type": "display_data"
    }
   ],
   "source": [
    "A.show(results, start=1, end=3)"
   ]
  },
  {
   "cell_type": "markdown",
   "metadata": {},
   "source": [
    "That looks good.\n",
    "\n",
    "We can also apply feature conditions to `gapphrase`:"
   ]
  },
  {
   "cell_type": "code",
   "execution_count": 75,
   "metadata": {
    "ExecuteTime": {
     "end_time": "2018-05-24T08:05:41.293060Z",
     "start_time": "2018-05-24T08:05:41.237943Z"
    }
   },
   "outputs": [
    {
     "name": "stdout",
     "output_type": "stream",
     "text": [
      "  0.00s 176 results\n"
     ]
    },
    {
     "data": {
      "text/html": [
       "<table>\n",
       "<tr class=\"tf\">\n",
       "  <th class=\"tf\">n</th><th class=\"tf\">p</th>\n",
       "  <th class=\"tf\">phrase</th>\n",
       "</tr>\n",
       "\n",
       "<tr class=\"tf\"><td class=\"tf\">1</td><td class=\"tf\"> <a href=\"https://shebanq.ancient-data.org/hebrew/text?book=Genesis&amp;chapter=2&amp;verse=25&amp;version=2017&amp;mr=m&amp;qw=q&amp;tp=txt_p&amp;tr=hb&amp;wget=v&amp;qget=v&amp;nget=vt\" title=\"show this passage in SHEBANQ\" sec=\"Genesis 2:25\">Genesis 2:25</a></td><td class=\"tf\"><a href=\"https://shebanq.ancient-data.org/hebrew/text?book=Genesis&amp;chapter=2&amp;verse=25&amp;version=2017&amp;mr=m&amp;qw=q&amp;tp=txt_p&amp;tr=hb&amp;wget=v&amp;qget=v&amp;nget=vt\" title=\"Genesis 2:25\" sec=\"Genesis 2:25\"><span class=\"plain outer  rtl \"><span class=\"plain rtl  l hlbx\" ><span class=\"plain rtl  \" ><span class=\"plain rtl  \" ><span class=\"h\">שְׁנֵיהֶם֙ </span></span></span></span><span class=\"plain rtl  r hlbx\" ><span class=\"plain rtl  \" ><span class=\"plain rtl  \" ><span class=\"h\">הָֽ</span></span><span class=\"plain rtl  \" ><span class=\"h\">אָדָ֖ם </span></span><span class=\"plain rtl  \" ><span class=\"h\">וְ</span></span><span class=\"plain rtl  \" ><span class=\"h\">אִשְׁתֹּ֑ו </span></span></span></span></span></a></td></tr>\n",
       "<tr class=\"tf\"><td class=\"tf\">2</td><td class=\"tf\"> <a href=\"https://shebanq.ancient-data.org/hebrew/text?book=Genesis&amp;chapter=4&amp;verse=4&amp;version=2017&amp;mr=m&amp;qw=q&amp;tp=txt_p&amp;tr=hb&amp;wget=v&amp;qget=v&amp;nget=vt\" title=\"show this passage in SHEBANQ\" sec=\"Genesis 4:4\">Genesis 4:4</a></td><td class=\"tf\"><a href=\"https://shebanq.ancient-data.org/hebrew/text?book=Genesis&amp;chapter=4&amp;verse=4&amp;version=2017&amp;mr=m&amp;qw=q&amp;tp=txt_p&amp;tr=hb&amp;wget=v&amp;qget=v&amp;nget=vt\" title=\"Genesis 4:4\" sec=\"Genesis 4:4\"><span class=\"plain outer  rtl \"><span class=\"plain rtl  l hlbx\" ><span class=\"plain rtl  \" ><span class=\"plain rtl  \" ><span class=\"h\">הֶ֨בֶל </span></span></span></span><span class=\"plain rtl  r hlbx\" ><span class=\"plain rtl  \" ><span class=\"plain rtl  \" ><span class=\"h\">גַם־</span></span><span class=\"plain rtl  \" ><span class=\"h\">ה֛וּא </span></span></span></span></span></a></td></tr>\n",
       "<tr class=\"tf\"><td class=\"tf\">3</td><td class=\"tf\"> <a href=\"https://shebanq.ancient-data.org/hebrew/text?book=Genesis&amp;chapter=7&amp;verse=14&amp;version=2017&amp;mr=m&amp;qw=q&amp;tp=txt_p&amp;tr=hb&amp;wget=v&amp;qget=v&amp;nget=vt\" title=\"show this passage in SHEBANQ\" sec=\"Genesis 7:14\">Genesis 7:14</a></td><td class=\"tf\"><a href=\"https://shebanq.ancient-data.org/hebrew/text?book=Genesis&amp;chapter=7&amp;verse=14&amp;version=2017&amp;mr=m&amp;qw=q&amp;tp=txt_p&amp;tr=hb&amp;wget=v&amp;qget=v&amp;nget=vt\" title=\"Genesis 7:14\" sec=\"Genesis 7:14\"><span class=\"plain outer  rtl \"><span class=\"plain rtl  l hlbx\" ><span class=\"plain rtl  \" ><span class=\"plain rtl  \" ><span class=\"h\">הֵ֜מָּה </span></span><span class=\"plain rtl  \" ><span class=\"h\">וְ</span></span><span class=\"plain rtl  \" ><span class=\"h\">כָל־</span></span><span class=\"plain rtl  \" ><span class=\"h\">הַֽ</span></span><span class=\"plain rtl  \" ><span class=\"h\">חַיָּ֣ה </span></span></span></span><span class=\"plain rtl  r l hlbx\" ><span class=\"plain rtl  \" ><span class=\"plain rtl  \" ><span class=\"h\">לְ</span></span><span class=\"plain rtl  \" ><span class=\"h\">מִינָ֗הּ </span></span></span></span><span class=\"plain rtl  r l hlbx\" ><span class=\"plain rtl  \" ><span class=\"plain rtl  \" ><span class=\"h\">וְ</span></span></span></span><span class=\"plain rtl  r l hlbx\" ><span class=\"plain rtl  \" ><span class=\"plain rtl  \" ><span class=\"h\">כָל־</span></span><span class=\"plain rtl  \" ><span class=\"h\">הַ</span></span><span class=\"plain rtl  \" ><span class=\"h\">בְּהֵמָה֙ </span></span></span></span><span class=\"plain rtl  r l hlbx\" ><span class=\"plain rtl  \" ><span class=\"plain rtl  \" ><span class=\"h\">לְ</span></span><span class=\"plain rtl  \" ><span class=\"h\">מִינָ֔הּ </span></span></span></span><span class=\"plain rtl  r l hlbx\" ><span class=\"plain rtl  \" ><span class=\"plain rtl  \" ><span class=\"h\">וְ</span></span></span></span><span class=\"plain rtl  r l hlbx\" ><span class=\"plain rtl  \" ><span class=\"plain rtl  \" ><span class=\"h\">כָל־</span></span><span class=\"plain rtl  \" ><span class=\"h\">הָ</span></span><span class=\"plain rtl  \" ><span class=\"h\">רֶ֛מֶשׂ </span></span></span></span><span class=\"plain rtl  r l hlbx\" ><span class=\"plain rtl  \" ><span class=\"plain rtl  \" ><span class=\"h\">לְ</span></span><span class=\"plain rtl  \" ><span class=\"h\">מִינֵ֑הוּ </span></span></span></span><span class=\"plain rtl  r l hlbx\" ><span class=\"plain rtl  \" ><span class=\"plain rtl  \" ><span class=\"h\">וְ</span></span></span></span><span class=\"plain rtl  r l hlbx\" ><span class=\"plain rtl  \" ><span class=\"plain rtl  \" ><span class=\"h\">כָל־</span></span><span class=\"plain rtl  \" ><span class=\"h\">הָ</span></span><span class=\"plain rtl  \" ><span class=\"h\">עֹ֣וף </span></span></span></span><span class=\"plain rtl  r l hlbx\" ><span class=\"plain rtl  \" ><span class=\"plain rtl  \" ><span class=\"h\">לְ</span></span><span class=\"plain rtl  \" ><span class=\"h\">מִינֵ֔הוּ </span></span></span></span><span class=\"plain rtl  r hlbx\" ><span class=\"plain rtl  \" ><span class=\"plain rtl  \" ><span class=\"h\">כֹּ֖ל </span></span><span class=\"plain rtl  \" ><span class=\"h\">צִפֹּ֥ור </span></span><span class=\"plain rtl  \" ><span class=\"h\">כָּל־</span></span><span class=\"plain rtl  \" ><span class=\"h\">כָּנָֽף׃ </span></span></span></span></span></a></td></tr></table>"
      ],
      "text/plain": [
       "<IPython.core.display.HTML object>"
      ]
     },
     "metadata": {},
     "output_type": "display_data"
    }
   ],
   "source": [
    "query = '''\n",
    "gapphrase function=Subj\n",
    "'''\n",
    "results = A.search(query, sets=customSets)\n",
    "A.table(results, start=1, end=3)"
   ]
  },
  {
   "cell_type": "code",
   "execution_count": 76,
   "metadata": {
    "ExecuteTime": {
     "end_time": "2018-05-24T08:05:41.293060Z",
     "start_time": "2018-05-24T08:05:41.237943Z"
    }
   },
   "outputs": [
    {
     "data": {
      "text/html": [
       "<p><b>result</b> <i>1</i></p>"
      ],
      "text/plain": [
       "<IPython.core.display.HTML object>"
      ]
     },
     "metadata": {},
     "output_type": "display_data"
    },
    {
     "data": {
      "text/html": [
       "<div class=\"outeritem\"><div class=\"verse  \" >\n",
       "    <div class=\"vl\">\n",
       "        <div class=\"vrs\"><a href=\"https://shebanq.ancient-data.org/hebrew/text?book=Genesis&amp;chapter=2&amp;verse=25&amp;version=2017&amp;mr=m&amp;qw=q&amp;tp=txt_p&amp;tr=hb&amp;wget=v&amp;qget=v&amp;nget=vt\" title=\"show this passage in SHEBANQ\" sec=\"Genesis 2:25\">Genesis 2:25</a></div>\n",
       "        \n",
       "    </div>\n",
       "<div class=\"satom  \" >\n",
       "        <div class=\"sentence \" >\n",
       "            <a href=\"https://shebanq.ancient-data.org/hebrew/text?book=Genesis&amp;chapter=2&amp;verse=25&amp;version=2017&amp;mr=m&amp;qw=q&amp;tp=txt_p&amp;tr=hb&amp;wget=v&amp;qget=v&amp;nget=vt\" title=\"Genesis 2:25\" sec=\"Genesis 2:25\">sentence</a>   <span class=\"number\">59|151</span>\n",
       "        </div>\n",
       "        <div class=\"atoms\">\n",
       "                    <div class=\"catom  \" >\n",
       "        <div class=\"clause \" >\n",
       "            <a href=\"https://shebanq.ancient-data.org/hebrew/text?book=Genesis&amp;chapter=2&amp;verse=25&amp;version=2017&amp;mr=m&amp;qw=q&amp;tp=txt_p&amp;tr=hb&amp;wget=v&amp;qget=v&amp;nget=vt\" title=\"Genesis 2:25\" sec=\"Genesis 2:25\">clause</a>   <span class=\"typ\">WayX</span>\n",
       "        </div>\n",
       "        <div class=\"atoms\">\n",
       "                    <div class=\"patom  \" >\n",
       "        <div class=\"phrase \" >\n",
       "            <a href=\"https://shebanq.ancient-data.org/hebrew/text?book=Genesis&amp;chapter=2&amp;verse=25&amp;version=2017&amp;mr=m&amp;qw=q&amp;tp=txt_p&amp;tr=hb&amp;wget=v&amp;qget=v&amp;nget=vt\" title=\"Genesis 2:25\" sec=\"Genesis 2:25\">phrase</a>   <span class=\"function\">Conj</span> <span class=\"typ\">CP</span>\n",
       "        </div>\n",
       "        <div class=\"atoms\">\n",
       "                    <div class=\"word  \" ><div class=\"h\"><a target=\"_blank\" href=\"https://shebanq.ancient-data.org/hebrew/word?version=2017&amp;id=1W\" title=\"show this lexeme in SHEBANQ\">וַ</a></div><div class=\"features\"> <span class=\"pdp\"><a href=\"https://shebanq.ancient-data.org/hebrew/text?book=Genesis&amp;chapter=2&amp;verse=25&amp;version=2017&amp;mr=m&amp;qw=q&amp;tp=txt_p&amp;tr=hb&amp;wget=v&amp;qget=v&amp;nget=vt\" title=\"Genesis 2:25\" sec=\"Genesis 2:25\">conj</a></span> <span class=\"gloss\">and</span></div></div></div></div><div class=\"patom  \" >\n",
       "        <div class=\"phrase \" >\n",
       "            <a href=\"https://shebanq.ancient-data.org/hebrew/text?book=Genesis&amp;chapter=2&amp;verse=25&amp;version=2017&amp;mr=m&amp;qw=q&amp;tp=txt_p&amp;tr=hb&amp;wget=v&amp;qget=v&amp;nget=vt\" title=\"Genesis 2:25\" sec=\"Genesis 2:25\">phrase</a>   <span class=\"function\">Pred</span> <span class=\"typ\">VP</span>\n",
       "        </div>\n",
       "        <div class=\"atoms\">\n",
       "                    <div class=\"word  \" ><div class=\"h\"><a target=\"_blank\" href=\"https://shebanq.ancient-data.org/hebrew/word?version=2017&amp;id=1HJHv\" title=\"show this lexeme in SHEBANQ\">יִּֽהְי֤וּ </a></div><div class=\"features\"> <span class=\"pdp\"><a href=\"https://shebanq.ancient-data.org/hebrew/text?book=Genesis&amp;chapter=2&amp;verse=25&amp;version=2017&amp;mr=m&amp;qw=q&amp;tp=txt_p&amp;tr=hb&amp;wget=v&amp;qget=v&amp;nget=vt\" title=\"Genesis 2:25\" sec=\"Genesis 2:25\">verb</a></span> <span class=\"gloss\">be</span> <span class=\"vs\">qal</span> <span class=\"vt\">wayq</span></div></div></div></div><div class=\"patom  l hl\" >\n",
       "        <div class=\"phrase hl\" >\n",
       "            <a href=\"https://shebanq.ancient-data.org/hebrew/text?book=Genesis&amp;chapter=2&amp;verse=25&amp;version=2017&amp;mr=m&amp;qw=q&amp;tp=txt_p&amp;tr=hb&amp;wget=v&amp;qget=v&amp;nget=vt\" title=\"Genesis 2:25\" sec=\"Genesis 2:25\">phrase</a>   <span class=\"function\">Subj</span> <span class=\"typ\">NP</span>\n",
       "        </div>\n",
       "        <div class=\"atoms\">\n",
       "                    <div class=\"word  \" ><div class=\"h\"><a target=\"_blank\" href=\"https://shebanq.ancient-data.org/hebrew/word?version=2017&amp;id=1CNJMn\" title=\"show this lexeme in SHEBANQ\">שְׁנֵיהֶם֙ </a></div><div class=\"features\"> <span class=\"pdp\"><a href=\"https://shebanq.ancient-data.org/hebrew/text?book=Genesis&amp;chapter=2&amp;verse=25&amp;version=2017&amp;mr=m&amp;qw=q&amp;tp=txt_p&amp;tr=hb&amp;wget=v&amp;qget=v&amp;nget=vt\" title=\"Genesis 2:25\" sec=\"Genesis 2:25\">subs</a></span> <span class=\"gloss\">two</span></div></div></div></div><div class=\"patom  \" >\n",
       "        <div class=\"phrase \" >\n",
       "            <a href=\"https://shebanq.ancient-data.org/hebrew/text?book=Genesis&amp;chapter=2&amp;verse=25&amp;version=2017&amp;mr=m&amp;qw=q&amp;tp=txt_p&amp;tr=hb&amp;wget=v&amp;qget=v&amp;nget=vt\" title=\"Genesis 2:25\" sec=\"Genesis 2:25\">phrase</a>   <span class=\"function\">PreC</span> <span class=\"typ\">AdjP</span>\n",
       "        </div>\n",
       "        <div class=\"atoms\">\n",
       "                    <div class=\"word  \" ><div class=\"h\"><a target=\"_blank\" href=\"https://shebanq.ancient-data.org/hebrew/word?version=2017&amp;id=1ORWMn\" title=\"show this lexeme in SHEBANQ\">עֲרוּמִּ֔ים </a></div><div class=\"features\"> <span class=\"pdp\"><a href=\"https://shebanq.ancient-data.org/hebrew/text?book=Genesis&amp;chapter=2&amp;verse=25&amp;version=2017&amp;mr=m&amp;qw=q&amp;tp=txt_p&amp;tr=hb&amp;wget=v&amp;qget=v&amp;nget=vt\" title=\"Genesis 2:25\" sec=\"Genesis 2:25\">adjv</a></span> <span class=\"gloss\">naked</span></div></div></div></div><div class=\"patom  r hl\" >\n",
       "        <div class=\"phrase hl\" >\n",
       "            <a href=\"https://shebanq.ancient-data.org/hebrew/text?book=Genesis&amp;chapter=2&amp;verse=25&amp;version=2017&amp;mr=m&amp;qw=q&amp;tp=txt_p&amp;tr=hb&amp;wget=v&amp;qget=v&amp;nget=vt\" title=\"Genesis 2:25\" sec=\"Genesis 2:25\">phrase</a>   <span class=\"function\">Subj</span> <span class=\"typ\">NP</span>\n",
       "        </div>\n",
       "        <div class=\"atoms\">\n",
       "                    <div class=\"word  \" ><div class=\"h\"><a target=\"_blank\" href=\"https://shebanq.ancient-data.org/hebrew/word?version=2017&amp;id=1H\" title=\"show this lexeme in SHEBANQ\">הָֽ</a></div><div class=\"features\"> <span class=\"pdp\"><a href=\"https://shebanq.ancient-data.org/hebrew/text?book=Genesis&amp;chapter=2&amp;verse=25&amp;version=2017&amp;mr=m&amp;qw=q&amp;tp=txt_p&amp;tr=hb&amp;wget=v&amp;qget=v&amp;nget=vt\" title=\"Genesis 2:25\" sec=\"Genesis 2:25\">art</a></span> <span class=\"gloss\">the</span></div></div><div class=\"word  \" ><div class=\"h\"><a target=\"_blank\" href=\"https://shebanq.ancient-data.org/hebrew/word?version=2017&amp;id=1ADMn\" title=\"show this lexeme in SHEBANQ\">אָדָ֖ם </a></div><div class=\"features\"> <span class=\"pdp\"><a href=\"https://shebanq.ancient-data.org/hebrew/text?book=Genesis&amp;chapter=2&amp;verse=25&amp;version=2017&amp;mr=m&amp;qw=q&amp;tp=txt_p&amp;tr=hb&amp;wget=v&amp;qget=v&amp;nget=vt\" title=\"Genesis 2:25\" sec=\"Genesis 2:25\">subs</a></span> <span class=\"gloss\">human, mankind</span></div></div><div class=\"word  \" ><div class=\"h\"><a target=\"_blank\" href=\"https://shebanq.ancient-data.org/hebrew/word?version=2017&amp;id=1W\" title=\"show this lexeme in SHEBANQ\">וְ</a></div><div class=\"features\"> <span class=\"pdp\"><a href=\"https://shebanq.ancient-data.org/hebrew/text?book=Genesis&amp;chapter=2&amp;verse=25&amp;version=2017&amp;mr=m&amp;qw=q&amp;tp=txt_p&amp;tr=hb&amp;wget=v&amp;qget=v&amp;nget=vt\" title=\"Genesis 2:25\" sec=\"Genesis 2:25\">conj</a></span> <span class=\"gloss\">and</span></div></div><div class=\"word  \" ><div class=\"h\"><a target=\"_blank\" href=\"https://shebanq.ancient-data.org/hebrew/word?version=2017&amp;id=1ACHn\" title=\"show this lexeme in SHEBANQ\">אִשְׁתֹּ֑ו </a></div><div class=\"features\"> <span class=\"pdp\"><a href=\"https://shebanq.ancient-data.org/hebrew/text?book=Genesis&amp;chapter=2&amp;verse=25&amp;version=2017&amp;mr=m&amp;qw=q&amp;tp=txt_p&amp;tr=hb&amp;wget=v&amp;qget=v&amp;nget=vt\" title=\"Genesis 2:25\" sec=\"Genesis 2:25\">subs</a></span> <span class=\"gloss\">woman</span></div></div></div></div></div></div></div></div><div class=\"satom  \" >\n",
       "        <div class=\"sentence \" >\n",
       "            <a href=\"https://shebanq.ancient-data.org/hebrew/text?book=Genesis&amp;chapter=2&amp;verse=25&amp;version=2017&amp;mr=m&amp;qw=q&amp;tp=txt_p&amp;tr=hb&amp;wget=v&amp;qget=v&amp;nget=vt\" title=\"Genesis 2:25\" sec=\"Genesis 2:25\">sentence</a>   <span class=\"number\">60|152</span>\n",
       "        </div>\n",
       "        <div class=\"atoms\">\n",
       "                    <div class=\"catom  \" >\n",
       "        <div class=\"clause \" >\n",
       "            <a href=\"https://shebanq.ancient-data.org/hebrew/text?book=Genesis&amp;chapter=2&amp;verse=25&amp;version=2017&amp;mr=m&amp;qw=q&amp;tp=txt_p&amp;tr=hb&amp;wget=v&amp;qget=v&amp;nget=vt\" title=\"Genesis 2:25\" sec=\"Genesis 2:25\">clause</a>   <span class=\"typ\">WxY0</span>\n",
       "        </div>\n",
       "        <div class=\"atoms\">\n",
       "                    <div class=\"patom  \" >\n",
       "        <div class=\"phrase \" >\n",
       "            <a href=\"https://shebanq.ancient-data.org/hebrew/text?book=Genesis&amp;chapter=2&amp;verse=25&amp;version=2017&amp;mr=m&amp;qw=q&amp;tp=txt_p&amp;tr=hb&amp;wget=v&amp;qget=v&amp;nget=vt\" title=\"Genesis 2:25\" sec=\"Genesis 2:25\">phrase</a>   <span class=\"function\">Conj</span> <span class=\"typ\">CP</span>\n",
       "        </div>\n",
       "        <div class=\"atoms\">\n",
       "                    <div class=\"word  \" ><div class=\"h\"><a target=\"_blank\" href=\"https://shebanq.ancient-data.org/hebrew/word?version=2017&amp;id=1W\" title=\"show this lexeme in SHEBANQ\">וְ</a></div><div class=\"features\"> <span class=\"pdp\"><a href=\"https://shebanq.ancient-data.org/hebrew/text?book=Genesis&amp;chapter=2&amp;verse=25&amp;version=2017&amp;mr=m&amp;qw=q&amp;tp=txt_p&amp;tr=hb&amp;wget=v&amp;qget=v&amp;nget=vt\" title=\"Genesis 2:25\" sec=\"Genesis 2:25\">conj</a></span> <span class=\"gloss\">and</span></div></div></div></div><div class=\"patom  \" >\n",
       "        <div class=\"phrase \" >\n",
       "            <a href=\"https://shebanq.ancient-data.org/hebrew/text?book=Genesis&amp;chapter=2&amp;verse=25&amp;version=2017&amp;mr=m&amp;qw=q&amp;tp=txt_p&amp;tr=hb&amp;wget=v&amp;qget=v&amp;nget=vt\" title=\"Genesis 2:25\" sec=\"Genesis 2:25\">phrase</a>   <span class=\"function\">Nega</span> <span class=\"typ\">NegP</span>\n",
       "        </div>\n",
       "        <div class=\"atoms\">\n",
       "                    <div class=\"word  \" ><div class=\"h\"><a target=\"_blank\" href=\"https://shebanq.ancient-data.org/hebrew/word?version=2017&amp;id=1LA\" title=\"show this lexeme in SHEBANQ\">לֹ֖א </a></div><div class=\"features\"> <span class=\"pdp\"><a href=\"https://shebanq.ancient-data.org/hebrew/text?book=Genesis&amp;chapter=2&amp;verse=25&amp;version=2017&amp;mr=m&amp;qw=q&amp;tp=txt_p&amp;tr=hb&amp;wget=v&amp;qget=v&amp;nget=vt\" title=\"Genesis 2:25\" sec=\"Genesis 2:25\">nega</a></span> <span class=\"gloss\">not</span></div></div></div></div><div class=\"patom  \" >\n",
       "        <div class=\"phrase \" >\n",
       "            <a href=\"https://shebanq.ancient-data.org/hebrew/text?book=Genesis&amp;chapter=2&amp;verse=25&amp;version=2017&amp;mr=m&amp;qw=q&amp;tp=txt_p&amp;tr=hb&amp;wget=v&amp;qget=v&amp;nget=vt\" title=\"Genesis 2:25\" sec=\"Genesis 2:25\">phrase</a>   <span class=\"function\">Pred</span> <span class=\"typ\">VP</span>\n",
       "        </div>\n",
       "        <div class=\"atoms\">\n",
       "                    <div class=\"word  \" ><div class=\"h\"><a target=\"_blank\" href=\"https://shebanq.ancient-data.org/hebrew/word?version=2017&amp;id=1BWCv\" title=\"show this lexeme in SHEBANQ\">יִתְבֹּשָֽׁשׁוּ׃ </a></div><div class=\"features\"> <span class=\"pdp\"><a href=\"https://shebanq.ancient-data.org/hebrew/text?book=Genesis&amp;chapter=2&amp;verse=25&amp;version=2017&amp;mr=m&amp;qw=q&amp;tp=txt_p&amp;tr=hb&amp;wget=v&amp;qget=v&amp;nget=vt\" title=\"Genesis 2:25\" sec=\"Genesis 2:25\">verb</a></span> <span class=\"gloss\">be ashamed</span> <span class=\"vs\">hit</span> <span class=\"vt\">impf</span></div></div></div></div></div></div></div></div></div></div>"
      ],
      "text/plain": [
       "<IPython.core.display.HTML object>"
      ]
     },
     "metadata": {},
     "output_type": "display_data"
    },
    {
     "data": {
      "text/html": [
       "<p><b>result</b> <i>2</i></p>"
      ],
      "text/plain": [
       "<IPython.core.display.HTML object>"
      ]
     },
     "metadata": {},
     "output_type": "display_data"
    },
    {
     "data": {
      "text/html": [
       "<div class=\"outeritem\"><div class=\"verse  \" >\n",
       "    <div class=\"vl\">\n",
       "        <div class=\"vrs\"><a href=\"https://shebanq.ancient-data.org/hebrew/text?book=Genesis&amp;chapter=4&amp;verse=4&amp;version=2017&amp;mr=m&amp;qw=q&amp;tp=txt_p&amp;tr=hb&amp;wget=v&amp;qget=v&amp;nget=vt\" title=\"show this passage in SHEBANQ\" sec=\"Genesis 4:4\">Genesis 4:4</a></div>\n",
       "        \n",
       "    </div>\n",
       "<div class=\"satom  \" >\n",
       "        <div class=\"sentence \" >\n",
       "            <a href=\"https://shebanq.ancient-data.org/hebrew/text?book=Genesis&amp;chapter=4&amp;verse=4&amp;version=2017&amp;mr=m&amp;qw=q&amp;tp=txt_p&amp;tr=hb&amp;wget=v&amp;qget=v&amp;nget=vt\" title=\"Genesis 4:4\" sec=\"Genesis 4:4\">sentence</a>   <span class=\"number\">11|245</span>\n",
       "        </div>\n",
       "        <div class=\"atoms\">\n",
       "                    <div class=\"catom  \" >\n",
       "        <div class=\"clause \" >\n",
       "            <a href=\"https://shebanq.ancient-data.org/hebrew/text?book=Genesis&amp;chapter=4&amp;verse=4&amp;version=2017&amp;mr=m&amp;qw=q&amp;tp=txt_p&amp;tr=hb&amp;wget=v&amp;qget=v&amp;nget=vt\" title=\"Genesis 4:4\" sec=\"Genesis 4:4\">clause</a>   <span class=\"typ\">WXQt</span>\n",
       "        </div>\n",
       "        <div class=\"atoms\">\n",
       "                    <div class=\"patom  \" >\n",
       "        <div class=\"phrase \" >\n",
       "            <a href=\"https://shebanq.ancient-data.org/hebrew/text?book=Genesis&amp;chapter=4&amp;verse=4&amp;version=2017&amp;mr=m&amp;qw=q&amp;tp=txt_p&amp;tr=hb&amp;wget=v&amp;qget=v&amp;nget=vt\" title=\"Genesis 4:4\" sec=\"Genesis 4:4\">phrase</a>   <span class=\"function\">Conj</span> <span class=\"typ\">CP</span>\n",
       "        </div>\n",
       "        <div class=\"atoms\">\n",
       "                    <div class=\"word  \" ><div class=\"h\"><a target=\"_blank\" href=\"https://shebanq.ancient-data.org/hebrew/word?version=2017&amp;id=1W\" title=\"show this lexeme in SHEBANQ\">וְ</a></div><div class=\"features\"> <span class=\"pdp\"><a href=\"https://shebanq.ancient-data.org/hebrew/text?book=Genesis&amp;chapter=4&amp;verse=4&amp;version=2017&amp;mr=m&amp;qw=q&amp;tp=txt_p&amp;tr=hb&amp;wget=v&amp;qget=v&amp;nget=vt\" title=\"Genesis 4:4\" sec=\"Genesis 4:4\">conj</a></span> <span class=\"gloss\">and</span></div></div></div></div><div class=\"patom  l hl\" >\n",
       "        <div class=\"phrase hl\" >\n",
       "            <a href=\"https://shebanq.ancient-data.org/hebrew/text?book=Genesis&amp;chapter=4&amp;verse=4&amp;version=2017&amp;mr=m&amp;qw=q&amp;tp=txt_p&amp;tr=hb&amp;wget=v&amp;qget=v&amp;nget=vt\" title=\"Genesis 4:4\" sec=\"Genesis 4:4\">phrase</a>   <span class=\"function\">Subj</span> <span class=\"typ\">PrNP</span>\n",
       "        </div>\n",
       "        <div class=\"atoms\">\n",
       "                    <div class=\"word  \" ><div class=\"h\"><a target=\"_blank\" href=\"https://shebanq.ancient-data.org/hebrew/word?version=2017&amp;id=1HBLin\" title=\"show this lexeme in SHEBANQ\">הֶ֨בֶל </a></div><div class=\"features\"> <span class=\"pdp\"><a href=\"https://shebanq.ancient-data.org/hebrew/text?book=Genesis&amp;chapter=4&amp;verse=4&amp;version=2017&amp;mr=m&amp;qw=q&amp;tp=txt_p&amp;tr=hb&amp;wget=v&amp;qget=v&amp;nget=vt\" title=\"Genesis 4:4\" sec=\"Genesis 4:4\">nmpr</a></span> <span class=\"gloss\">Abel</span></div></div></div></div><div class=\"patom  \" >\n",
       "        <div class=\"phrase \" >\n",
       "            <a href=\"https://shebanq.ancient-data.org/hebrew/text?book=Genesis&amp;chapter=4&amp;verse=4&amp;version=2017&amp;mr=m&amp;qw=q&amp;tp=txt_p&amp;tr=hb&amp;wget=v&amp;qget=v&amp;nget=vt\" title=\"Genesis 4:4\" sec=\"Genesis 4:4\">phrase</a>   <span class=\"function\">Pred</span> <span class=\"typ\">VP</span>\n",
       "        </div>\n",
       "        <div class=\"atoms\">\n",
       "                    <div class=\"word  \" ><div class=\"h\"><a target=\"_blank\" href=\"https://shebanq.ancient-data.org/hebrew/word?version=2017&amp;id=1BWAv\" title=\"show this lexeme in SHEBANQ\">הֵבִ֥יא </a></div><div class=\"features\"> <span class=\"pdp\"><a href=\"https://shebanq.ancient-data.org/hebrew/text?book=Genesis&amp;chapter=4&amp;verse=4&amp;version=2017&amp;mr=m&amp;qw=q&amp;tp=txt_p&amp;tr=hb&amp;wget=v&amp;qget=v&amp;nget=vt\" title=\"Genesis 4:4\" sec=\"Genesis 4:4\">verb</a></span> <span class=\"gloss\">come</span> <span class=\"vs\">hif</span> <span class=\"vt\">perf</span></div></div></div></div><div class=\"patom  r hl\" >\n",
       "        <div class=\"phrase hl\" >\n",
       "            <a href=\"https://shebanq.ancient-data.org/hebrew/text?book=Genesis&amp;chapter=4&amp;verse=4&amp;version=2017&amp;mr=m&amp;qw=q&amp;tp=txt_p&amp;tr=hb&amp;wget=v&amp;qget=v&amp;nget=vt\" title=\"Genesis 4:4\" sec=\"Genesis 4:4\">phrase</a>   <span class=\"function\">Subj</span> <span class=\"typ\">PrNP|PPrP</span>\n",
       "        </div>\n",
       "        <div class=\"atoms\">\n",
       "                    <div class=\"word  \" ><div class=\"h\"><a target=\"_blank\" href=\"https://shebanq.ancient-data.org/hebrew/word?version=2017&amp;id=1GM\" title=\"show this lexeme in SHEBANQ\">גַם־</a></div><div class=\"features\"> <span class=\"pdp\"><a href=\"https://shebanq.ancient-data.org/hebrew/text?book=Genesis&amp;chapter=4&amp;verse=4&amp;version=2017&amp;mr=m&amp;qw=q&amp;tp=txt_p&amp;tr=hb&amp;wget=v&amp;qget=v&amp;nget=vt\" title=\"Genesis 4:4\" sec=\"Genesis 4:4\">advb</a></span> <span class=\"gloss\">even</span></div></div><div class=\"word  \" ><div class=\"h\"><a target=\"_blank\" href=\"https://shebanq.ancient-data.org/hebrew/word?version=2017&amp;id=1HWA\" title=\"show this lexeme in SHEBANQ\">ה֛וּא </a></div><div class=\"features\"> <span class=\"pdp\"><a href=\"https://shebanq.ancient-data.org/hebrew/text?book=Genesis&amp;chapter=4&amp;verse=4&amp;version=2017&amp;mr=m&amp;qw=q&amp;tp=txt_p&amp;tr=hb&amp;wget=v&amp;qget=v&amp;nget=vt\" title=\"Genesis 4:4\" sec=\"Genesis 4:4\">prps</a></span> <span class=\"gloss\">he</span></div></div></div></div><div class=\"patom  \" >\n",
       "        <div class=\"phrase \" >\n",
       "            <a href=\"https://shebanq.ancient-data.org/hebrew/text?book=Genesis&amp;chapter=4&amp;verse=4&amp;version=2017&amp;mr=m&amp;qw=q&amp;tp=txt_p&amp;tr=hb&amp;wget=v&amp;qget=v&amp;nget=vt\" title=\"Genesis 4:4\" sec=\"Genesis 4:4\">phrase</a>   <span class=\"function\">Cmpl</span> <span class=\"typ\">PP</span>\n",
       "        </div>\n",
       "        <div class=\"atoms\">\n",
       "                    <div class=\"word  \" ><div class=\"h\"><a target=\"_blank\" href=\"https://shebanq.ancient-data.org/hebrew/word?version=2017&amp;id=1MN\" title=\"show this lexeme in SHEBANQ\">מִ</a></div><div class=\"features\"> <span class=\"pdp\"><a href=\"https://shebanq.ancient-data.org/hebrew/text?book=Genesis&amp;chapter=4&amp;verse=4&amp;version=2017&amp;mr=m&amp;qw=q&amp;tp=txt_p&amp;tr=hb&amp;wget=v&amp;qget=v&amp;nget=vt\" title=\"Genesis 4:4\" sec=\"Genesis 4:4\">prep</a></span> <span class=\"gloss\">from</span></div></div><div class=\"word  \" ><div class=\"h\"><a target=\"_blank\" href=\"https://shebanq.ancient-data.org/hebrew/word?version=2017&amp;id=1BKRn\" title=\"show this lexeme in SHEBANQ\">בְּכֹרֹ֥ות </a></div><div class=\"features\"> <span class=\"pdp\"><a href=\"https://shebanq.ancient-data.org/hebrew/text?book=Genesis&amp;chapter=4&amp;verse=4&amp;version=2017&amp;mr=m&amp;qw=q&amp;tp=txt_p&amp;tr=hb&amp;wget=v&amp;qget=v&amp;nget=vt\" title=\"Genesis 4:4\" sec=\"Genesis 4:4\">subs</a></span> <span class=\"gloss\">first-born</span></div></div><div class=\"word  \" ><div class=\"h\"><a target=\"_blank\" href=\"https://shebanq.ancient-data.org/hebrew/word?version=2017&amp;id=1YANn\" title=\"show this lexeme in SHEBANQ\">צֹאנֹ֖ו </a></div><div class=\"features\"> <span class=\"pdp\"><a href=\"https://shebanq.ancient-data.org/hebrew/text?book=Genesis&amp;chapter=4&amp;verse=4&amp;version=2017&amp;mr=m&amp;qw=q&amp;tp=txt_p&amp;tr=hb&amp;wget=v&amp;qget=v&amp;nget=vt\" title=\"Genesis 4:4\" sec=\"Genesis 4:4\">subs</a></span> <span class=\"gloss\">cattle</span></div></div><div class=\"word  \" ><div class=\"h\"><a target=\"_blank\" href=\"https://shebanq.ancient-data.org/hebrew/word?version=2017&amp;id=1W\" title=\"show this lexeme in SHEBANQ\">וּ</a></div><div class=\"features\"> <span class=\"pdp\"><a href=\"https://shebanq.ancient-data.org/hebrew/text?book=Genesis&amp;chapter=4&amp;verse=4&amp;version=2017&amp;mr=m&amp;qw=q&amp;tp=txt_p&amp;tr=hb&amp;wget=v&amp;qget=v&amp;nget=vt\" title=\"Genesis 4:4\" sec=\"Genesis 4:4\">conj</a></span> <span class=\"gloss\">and</span></div></div><div class=\"word  \" ><div class=\"h\"><a target=\"_blank\" href=\"https://shebanq.ancient-data.org/hebrew/word?version=2017&amp;id=1MN\" title=\"show this lexeme in SHEBANQ\">מֵֽ</a></div><div class=\"features\"> <span class=\"pdp\"><a href=\"https://shebanq.ancient-data.org/hebrew/text?book=Genesis&amp;chapter=4&amp;verse=4&amp;version=2017&amp;mr=m&amp;qw=q&amp;tp=txt_p&amp;tr=hb&amp;wget=v&amp;qget=v&amp;nget=vt\" title=\"Genesis 4:4\" sec=\"Genesis 4:4\">prep</a></span> <span class=\"gloss\">from</span></div></div><div class=\"word  \" ><div class=\"h\"><a target=\"_blank\" href=\"https://shebanq.ancient-data.org/hebrew/word?version=2017&amp;id=1XLBin\" title=\"show this lexeme in SHEBANQ\">חֶלְבֵהֶ֑ן </a></div><div class=\"features\"> <span class=\"pdp\"><a href=\"https://shebanq.ancient-data.org/hebrew/text?book=Genesis&amp;chapter=4&amp;verse=4&amp;version=2017&amp;mr=m&amp;qw=q&amp;tp=txt_p&amp;tr=hb&amp;wget=v&amp;qget=v&amp;nget=vt\" title=\"Genesis 4:4\" sec=\"Genesis 4:4\">subs</a></span> <span class=\"gloss\">fat</span></div></div></div></div></div></div></div></div><div class=\"satom  \" >\n",
       "        <div class=\"sentence \" >\n",
       "            <a href=\"https://shebanq.ancient-data.org/hebrew/text?book=Genesis&amp;chapter=4&amp;verse=4&amp;version=2017&amp;mr=m&amp;qw=q&amp;tp=txt_p&amp;tr=hb&amp;wget=v&amp;qget=v&amp;nget=vt\" title=\"Genesis 4:4\" sec=\"Genesis 4:4\">sentence</a>   <span class=\"number\">12|246</span>\n",
       "        </div>\n",
       "        <div class=\"atoms\">\n",
       "                    <div class=\"catom  \" >\n",
       "        <div class=\"clause \" >\n",
       "            <a href=\"https://shebanq.ancient-data.org/hebrew/text?book=Genesis&amp;chapter=4&amp;verse=4&amp;version=2017&amp;mr=m&amp;qw=q&amp;tp=txt_p&amp;tr=hb&amp;wget=v&amp;qget=v&amp;nget=vt\" title=\"Genesis 4:4\" sec=\"Genesis 4:4\">clause</a>   <span class=\"typ\">WayX</span>\n",
       "        </div>\n",
       "        <div class=\"atoms\">\n",
       "                    <div class=\"patom  \" >\n",
       "        <div class=\"phrase \" >\n",
       "            <a href=\"https://shebanq.ancient-data.org/hebrew/text?book=Genesis&amp;chapter=4&amp;verse=4&amp;version=2017&amp;mr=m&amp;qw=q&amp;tp=txt_p&amp;tr=hb&amp;wget=v&amp;qget=v&amp;nget=vt\" title=\"Genesis 4:4\" sec=\"Genesis 4:4\">phrase</a>   <span class=\"function\">Conj</span> <span class=\"typ\">CP</span>\n",
       "        </div>\n",
       "        <div class=\"atoms\">\n",
       "                    <div class=\"word  \" ><div class=\"h\"><a target=\"_blank\" href=\"https://shebanq.ancient-data.org/hebrew/word?version=2017&amp;id=1W\" title=\"show this lexeme in SHEBANQ\">וַ</a></div><div class=\"features\"> <span class=\"pdp\"><a href=\"https://shebanq.ancient-data.org/hebrew/text?book=Genesis&amp;chapter=4&amp;verse=4&amp;version=2017&amp;mr=m&amp;qw=q&amp;tp=txt_p&amp;tr=hb&amp;wget=v&amp;qget=v&amp;nget=vt\" title=\"Genesis 4:4\" sec=\"Genesis 4:4\">conj</a></span> <span class=\"gloss\">and</span></div></div></div></div><div class=\"patom  \" >\n",
       "        <div class=\"phrase \" >\n",
       "            <a href=\"https://shebanq.ancient-data.org/hebrew/text?book=Genesis&amp;chapter=4&amp;verse=4&amp;version=2017&amp;mr=m&amp;qw=q&amp;tp=txt_p&amp;tr=hb&amp;wget=v&amp;qget=v&amp;nget=vt\" title=\"Genesis 4:4\" sec=\"Genesis 4:4\">phrase</a>   <span class=\"function\">Pred</span> <span class=\"typ\">VP</span>\n",
       "        </div>\n",
       "        <div class=\"atoms\">\n",
       "                    <div class=\"word  \" ><div class=\"h\"><a target=\"_blank\" href=\"https://shebanq.ancient-data.org/hebrew/word?version=2017&amp;id=1COHv\" title=\"show this lexeme in SHEBANQ\">יִּ֣שַׁע </a></div><div class=\"features\"> <span class=\"pdp\"><a href=\"https://shebanq.ancient-data.org/hebrew/text?book=Genesis&amp;chapter=4&amp;verse=4&amp;version=2017&amp;mr=m&amp;qw=q&amp;tp=txt_p&amp;tr=hb&amp;wget=v&amp;qget=v&amp;nget=vt\" title=\"Genesis 4:4\" sec=\"Genesis 4:4\">verb</a></span> <span class=\"gloss\">look</span> <span class=\"vs\">qal</span> <span class=\"vt\">wayq</span></div></div></div></div><div class=\"patom  \" >\n",
       "        <div class=\"phrase \" >\n",
       "            <a href=\"https://shebanq.ancient-data.org/hebrew/text?book=Genesis&amp;chapter=4&amp;verse=4&amp;version=2017&amp;mr=m&amp;qw=q&amp;tp=txt_p&amp;tr=hb&amp;wget=v&amp;qget=v&amp;nget=vt\" title=\"Genesis 4:4\" sec=\"Genesis 4:4\">phrase</a>   <span class=\"function\">Subj</span> <span class=\"typ\">PrNP</span>\n",
       "        </div>\n",
       "        <div class=\"atoms\">\n",
       "                    <div class=\"word  \" ><div class=\"h\"><a target=\"_blank\" href=\"https://shebanq.ancient-data.org/hebrew/word?version=2017&amp;id=1JHWHn\" title=\"show this lexeme in SHEBANQ\">יְהוָ֔ה </a></div><div class=\"features\"> <span class=\"pdp\"><a href=\"https://shebanq.ancient-data.org/hebrew/text?book=Genesis&amp;chapter=4&amp;verse=4&amp;version=2017&amp;mr=m&amp;qw=q&amp;tp=txt_p&amp;tr=hb&amp;wget=v&amp;qget=v&amp;nget=vt\" title=\"Genesis 4:4\" sec=\"Genesis 4:4\">nmpr</a></span> <span class=\"gloss\">YHWH</span></div></div></div></div><div class=\"patom  \" >\n",
       "        <div class=\"phrase \" >\n",
       "            <a href=\"https://shebanq.ancient-data.org/hebrew/text?book=Genesis&amp;chapter=4&amp;verse=4&amp;version=2017&amp;mr=m&amp;qw=q&amp;tp=txt_p&amp;tr=hb&amp;wget=v&amp;qget=v&amp;nget=vt\" title=\"Genesis 4:4\" sec=\"Genesis 4:4\">phrase</a>   <span class=\"function\">Cmpl</span> <span class=\"typ\">PP</span>\n",
       "        </div>\n",
       "        <div class=\"atoms\">\n",
       "                    <div class=\"word  \" ><div class=\"h\"><a target=\"_blank\" href=\"https://shebanq.ancient-data.org/hebrew/word?version=2017&amp;id=1AL\" title=\"show this lexeme in SHEBANQ\">אֶל־</a></div><div class=\"features\"> <span class=\"pdp\"><a href=\"https://shebanq.ancient-data.org/hebrew/text?book=Genesis&amp;chapter=4&amp;verse=4&amp;version=2017&amp;mr=m&amp;qw=q&amp;tp=txt_p&amp;tr=hb&amp;wget=v&amp;qget=v&amp;nget=vt\" title=\"Genesis 4:4\" sec=\"Genesis 4:4\">prep</a></span> <span class=\"gloss\">to</span></div></div><div class=\"word  \" ><div class=\"h\"><a target=\"_blank\" href=\"https://shebanq.ancient-data.org/hebrew/word?version=2017&amp;id=1HBLin\" title=\"show this lexeme in SHEBANQ\">הֶ֖בֶל </a></div><div class=\"features\"> <span class=\"pdp\"><a href=\"https://shebanq.ancient-data.org/hebrew/text?book=Genesis&amp;chapter=4&amp;verse=4&amp;version=2017&amp;mr=m&amp;qw=q&amp;tp=txt_p&amp;tr=hb&amp;wget=v&amp;qget=v&amp;nget=vt\" title=\"Genesis 4:4\" sec=\"Genesis 4:4\">nmpr</a></span> <span class=\"gloss\">Abel</span></div></div><div class=\"word  \" ><div class=\"h\"><a target=\"_blank\" href=\"https://shebanq.ancient-data.org/hebrew/word?version=2017&amp;id=1W\" title=\"show this lexeme in SHEBANQ\">וְ</a></div><div class=\"features\"> <span class=\"pdp\"><a href=\"https://shebanq.ancient-data.org/hebrew/text?book=Genesis&amp;chapter=4&amp;verse=4&amp;version=2017&amp;mr=m&amp;qw=q&amp;tp=txt_p&amp;tr=hb&amp;wget=v&amp;qget=v&amp;nget=vt\" title=\"Genesis 4:4\" sec=\"Genesis 4:4\">conj</a></span> <span class=\"gloss\">and</span></div></div><div class=\"word  \" ><div class=\"h\"><a target=\"_blank\" href=\"https://shebanq.ancient-data.org/hebrew/word?version=2017&amp;id=1AL\" title=\"show this lexeme in SHEBANQ\">אֶל־</a></div><div class=\"features\"> <span class=\"pdp\"><a href=\"https://shebanq.ancient-data.org/hebrew/text?book=Genesis&amp;chapter=4&amp;verse=4&amp;version=2017&amp;mr=m&amp;qw=q&amp;tp=txt_p&amp;tr=hb&amp;wget=v&amp;qget=v&amp;nget=vt\" title=\"Genesis 4:4\" sec=\"Genesis 4:4\">prep</a></span> <span class=\"gloss\">to</span></div></div><div class=\"word  \" ><div class=\"h\"><a target=\"_blank\" href=\"https://shebanq.ancient-data.org/hebrew/word?version=2017&amp;id=1MNXHn\" title=\"show this lexeme in SHEBANQ\">מִנְחָתֹֽו׃ </a></div><div class=\"features\"> <span class=\"pdp\"><a href=\"https://shebanq.ancient-data.org/hebrew/text?book=Genesis&amp;chapter=4&amp;verse=4&amp;version=2017&amp;mr=m&amp;qw=q&amp;tp=txt_p&amp;tr=hb&amp;wget=v&amp;qget=v&amp;nget=vt\" title=\"Genesis 4:4\" sec=\"Genesis 4:4\">subs</a></span> <span class=\"gloss\">present</span></div></div></div></div></div></div></div></div></div></div>"
      ],
      "text/plain": [
       "<IPython.core.display.HTML object>"
      ]
     },
     "metadata": {},
     "output_type": "display_data"
    },
    {
     "data": {
      "text/html": [
       "<p><b>result</b> <i>3</i></p>"
      ],
      "text/plain": [
       "<IPython.core.display.HTML object>"
      ]
     },
     "metadata": {},
     "output_type": "display_data"
    },
    {
     "data": {
      "text/html": [
       "<div class=\"outeritem\"><div class=\"verse  \" >\n",
       "    <div class=\"vl\">\n",
       "        <div class=\"vrs\"><a href=\"https://shebanq.ancient-data.org/hebrew/text?book=Genesis&amp;chapter=7&amp;verse=14&amp;version=2017&amp;mr=m&amp;qw=q&amp;tp=txt_p&amp;tr=hb&amp;wget=v&amp;qget=v&amp;nget=vt\" title=\"show this passage in SHEBANQ\" sec=\"Genesis 7:14\">Genesis 7:14</a></div>\n",
       "        \n",
       "    </div>\n",
       "<div class=\"satom  rno \" >\n",
       "        <div class=\"sentence \" >\n",
       "            <a href=\"https://shebanq.ancient-data.org/hebrew/text?book=Genesis&amp;chapter=7&amp;verse=13&amp;version=2017&amp;mr=m&amp;qw=q&amp;tp=txt_p&amp;tr=hb&amp;wget=v&amp;qget=v&amp;nget=vt\" title=\"Genesis 7:13\" sec=\"Genesis 7:13\">sentence</a>   <span class=\"number\">17|454</span>\n",
       "        </div>\n",
       "        <div class=\"atoms\">\n",
       "                    <div class=\"catom  l \" >\n",
       "        <div class=\"clause \" >\n",
       "            <a href=\"https://shebanq.ancient-data.org/hebrew/text?book=Genesis&amp;chapter=7&amp;verse=14&amp;version=2017&amp;mr=m&amp;qw=q&amp;tp=txt_p&amp;tr=hb&amp;wget=v&amp;qget=v&amp;nget=vt\" title=\"Genesis 7:14\" sec=\"Genesis 7:14\">clause</a>   <span class=\"typ\">Ellp</span>\n",
       "        </div>\n",
       "        <div class=\"atoms\">\n",
       "                    <div class=\"patom  l hl\" >\n",
       "        <div class=\"phrase hl\" >\n",
       "            <a href=\"https://shebanq.ancient-data.org/hebrew/text?book=Genesis&amp;chapter=7&amp;verse=14&amp;version=2017&amp;mr=m&amp;qw=q&amp;tp=txt_p&amp;tr=hb&amp;wget=v&amp;qget=v&amp;nget=vt\" title=\"Genesis 7:14\" sec=\"Genesis 7:14\">phrase</a>   <span class=\"function\">Subj</span> <span class=\"typ\">PPrP</span>\n",
       "        </div>\n",
       "        <div class=\"atoms\">\n",
       "                    <div class=\"word  \" ><div class=\"h\"><a target=\"_blank\" href=\"https://shebanq.ancient-data.org/hebrew/word?version=2017&amp;id=1HMH\" title=\"show this lexeme in SHEBANQ\">הֵ֜מָּה </a></div><div class=\"features\"> <span class=\"pdp\"><a href=\"https://shebanq.ancient-data.org/hebrew/text?book=Genesis&amp;chapter=7&amp;verse=14&amp;version=2017&amp;mr=m&amp;qw=q&amp;tp=txt_p&amp;tr=hb&amp;wget=v&amp;qget=v&amp;nget=vt\" title=\"Genesis 7:14\" sec=\"Genesis 7:14\">prps</a></span> <span class=\"gloss\">they</span></div></div><div class=\"word  \" ><div class=\"h\"><a target=\"_blank\" href=\"https://shebanq.ancient-data.org/hebrew/word?version=2017&amp;id=1W\" title=\"show this lexeme in SHEBANQ\">וְ</a></div><div class=\"features\"> <span class=\"pdp\"><a href=\"https://shebanq.ancient-data.org/hebrew/text?book=Genesis&amp;chapter=7&amp;verse=14&amp;version=2017&amp;mr=m&amp;qw=q&amp;tp=txt_p&amp;tr=hb&amp;wget=v&amp;qget=v&amp;nget=vt\" title=\"Genesis 7:14\" sec=\"Genesis 7:14\">conj</a></span> <span class=\"gloss\">and</span></div></div><div class=\"word  \" ><div class=\"h\"><a target=\"_blank\" href=\"https://shebanq.ancient-data.org/hebrew/word?version=2017&amp;id=1KLn\" title=\"show this lexeme in SHEBANQ\">כָל־</a></div><div class=\"features\"> <span class=\"pdp\"><a href=\"https://shebanq.ancient-data.org/hebrew/text?book=Genesis&amp;chapter=7&amp;verse=14&amp;version=2017&amp;mr=m&amp;qw=q&amp;tp=txt_p&amp;tr=hb&amp;wget=v&amp;qget=v&amp;nget=vt\" title=\"Genesis 7:14\" sec=\"Genesis 7:14\">subs</a></span> <span class=\"gloss\">whole</span></div></div><div class=\"word  \" ><div class=\"h\"><a target=\"_blank\" href=\"https://shebanq.ancient-data.org/hebrew/word?version=2017&amp;id=1H\" title=\"show this lexeme in SHEBANQ\">הַֽ</a></div><div class=\"features\"> <span class=\"pdp\"><a href=\"https://shebanq.ancient-data.org/hebrew/text?book=Genesis&amp;chapter=7&amp;verse=14&amp;version=2017&amp;mr=m&amp;qw=q&amp;tp=txt_p&amp;tr=hb&amp;wget=v&amp;qget=v&amp;nget=vt\" title=\"Genesis 7:14\" sec=\"Genesis 7:14\">art</a></span> <span class=\"gloss\">the</span></div></div><div class=\"word  \" ><div class=\"h\"><a target=\"_blank\" href=\"https://shebanq.ancient-data.org/hebrew/word?version=2017&amp;id=1XJHn\" title=\"show this lexeme in SHEBANQ\">חַיָּ֣ה </a></div><div class=\"features\"> <span class=\"pdp\"><a href=\"https://shebanq.ancient-data.org/hebrew/text?book=Genesis&amp;chapter=7&amp;verse=14&amp;version=2017&amp;mr=m&amp;qw=q&amp;tp=txt_p&amp;tr=hb&amp;wget=v&amp;qget=v&amp;nget=vt\" title=\"Genesis 7:14\" sec=\"Genesis 7:14\">subs</a></span> <span class=\"gloss\">wild animal</span></div></div></div></div><div class=\"patom  r l hl\" >\n",
       "        <div class=\"phrase hl\" >\n",
       "            <a href=\"https://shebanq.ancient-data.org/hebrew/text?book=Genesis&amp;chapter=7&amp;verse=14&amp;version=2017&amp;mr=m&amp;qw=q&amp;tp=txt_p&amp;tr=hb&amp;wget=v&amp;qget=v&amp;nget=vt\" title=\"Genesis 7:14\" sec=\"Genesis 7:14\">phrase</a>   <span class=\"function\">Subj</span> <span class=\"typ\">PPrP|PP</span>\n",
       "        </div>\n",
       "        <div class=\"atoms\">\n",
       "                    <div class=\"word  \" ><div class=\"h\"><a target=\"_blank\" href=\"https://shebanq.ancient-data.org/hebrew/word?version=2017&amp;id=1L\" title=\"show this lexeme in SHEBANQ\">לְ</a></div><div class=\"features\"> <span class=\"pdp\"><a href=\"https://shebanq.ancient-data.org/hebrew/text?book=Genesis&amp;chapter=7&amp;verse=14&amp;version=2017&amp;mr=m&amp;qw=q&amp;tp=txt_p&amp;tr=hb&amp;wget=v&amp;qget=v&amp;nget=vt\" title=\"Genesis 7:14\" sec=\"Genesis 7:14\">prep</a></span> <span class=\"gloss\">to</span></div></div><div class=\"word  \" ><div class=\"h\"><a target=\"_blank\" href=\"https://shebanq.ancient-data.org/hebrew/word?version=2017&amp;id=1MJNn\" title=\"show this lexeme in SHEBANQ\">מִינָ֗הּ </a></div><div class=\"features\"> <span class=\"pdp\"><a href=\"https://shebanq.ancient-data.org/hebrew/text?book=Genesis&amp;chapter=7&amp;verse=14&amp;version=2017&amp;mr=m&amp;qw=q&amp;tp=txt_p&amp;tr=hb&amp;wget=v&amp;qget=v&amp;nget=vt\" title=\"Genesis 7:14\" sec=\"Genesis 7:14\">subs</a></span> <span class=\"gloss\">kind</span></div></div></div></div><div class=\"patom  r l hl\" >\n",
       "        <div class=\"phrase hl\" >\n",
       "            <a href=\"https://shebanq.ancient-data.org/hebrew/text?book=Genesis&amp;chapter=7&amp;verse=14&amp;version=2017&amp;mr=m&amp;qw=q&amp;tp=txt_p&amp;tr=hb&amp;wget=v&amp;qget=v&amp;nget=vt\" title=\"Genesis 7:14\" sec=\"Genesis 7:14\">phrase</a>   <span class=\"function\">Subj</span> <span class=\"typ\">PPrP|CP</span>\n",
       "        </div>\n",
       "        <div class=\"atoms\">\n",
       "                    <div class=\"word  \" ><div class=\"h\"><a target=\"_blank\" href=\"https://shebanq.ancient-data.org/hebrew/word?version=2017&amp;id=1W\" title=\"show this lexeme in SHEBANQ\">וְ</a></div><div class=\"features\"> <span class=\"pdp\"><a href=\"https://shebanq.ancient-data.org/hebrew/text?book=Genesis&amp;chapter=7&amp;verse=14&amp;version=2017&amp;mr=m&amp;qw=q&amp;tp=txt_p&amp;tr=hb&amp;wget=v&amp;qget=v&amp;nget=vt\" title=\"Genesis 7:14\" sec=\"Genesis 7:14\">conj</a></span> <span class=\"gloss\">and</span></div></div></div></div><div class=\"patom  r l hl\" >\n",
       "        <div class=\"phrase hl\" >\n",
       "            <a href=\"https://shebanq.ancient-data.org/hebrew/text?book=Genesis&amp;chapter=7&amp;verse=14&amp;version=2017&amp;mr=m&amp;qw=q&amp;tp=txt_p&amp;tr=hb&amp;wget=v&amp;qget=v&amp;nget=vt\" title=\"Genesis 7:14\" sec=\"Genesis 7:14\">phrase</a>   <span class=\"function\">Subj</span> <span class=\"typ\">PPrP|NP</span>\n",
       "        </div>\n",
       "        <div class=\"atoms\">\n",
       "                    <div class=\"word  \" ><div class=\"h\"><a target=\"_blank\" href=\"https://shebanq.ancient-data.org/hebrew/word?version=2017&amp;id=1KLn\" title=\"show this lexeme in SHEBANQ\">כָל־</a></div><div class=\"features\"> <span class=\"pdp\"><a href=\"https://shebanq.ancient-data.org/hebrew/text?book=Genesis&amp;chapter=7&amp;verse=14&amp;version=2017&amp;mr=m&amp;qw=q&amp;tp=txt_p&amp;tr=hb&amp;wget=v&amp;qget=v&amp;nget=vt\" title=\"Genesis 7:14\" sec=\"Genesis 7:14\">subs</a></span> <span class=\"gloss\">whole</span></div></div><div class=\"word  \" ><div class=\"h\"><a target=\"_blank\" href=\"https://shebanq.ancient-data.org/hebrew/word?version=2017&amp;id=1H\" title=\"show this lexeme in SHEBANQ\">הַ</a></div><div class=\"features\"> <span class=\"pdp\"><a href=\"https://shebanq.ancient-data.org/hebrew/text?book=Genesis&amp;chapter=7&amp;verse=14&amp;version=2017&amp;mr=m&amp;qw=q&amp;tp=txt_p&amp;tr=hb&amp;wget=v&amp;qget=v&amp;nget=vt\" title=\"Genesis 7:14\" sec=\"Genesis 7:14\">art</a></span> <span class=\"gloss\">the</span></div></div><div class=\"word  \" ><div class=\"h\"><a target=\"_blank\" href=\"https://shebanq.ancient-data.org/hebrew/word?version=2017&amp;id=1BHMHn\" title=\"show this lexeme in SHEBANQ\">בְּהֵמָה֙ </a></div><div class=\"features\"> <span class=\"pdp\"><a href=\"https://shebanq.ancient-data.org/hebrew/text?book=Genesis&amp;chapter=7&amp;verse=14&amp;version=2017&amp;mr=m&amp;qw=q&amp;tp=txt_p&amp;tr=hb&amp;wget=v&amp;qget=v&amp;nget=vt\" title=\"Genesis 7:14\" sec=\"Genesis 7:14\">subs</a></span> <span class=\"gloss\">cattle</span></div></div></div></div><div class=\"patom  r l hl\" >\n",
       "        <div class=\"phrase hl\" >\n",
       "            <a href=\"https://shebanq.ancient-data.org/hebrew/text?book=Genesis&amp;chapter=7&amp;verse=14&amp;version=2017&amp;mr=m&amp;qw=q&amp;tp=txt_p&amp;tr=hb&amp;wget=v&amp;qget=v&amp;nget=vt\" title=\"Genesis 7:14\" sec=\"Genesis 7:14\">phrase</a>   <span class=\"function\">Subj</span> <span class=\"typ\">PPrP|PP</span>\n",
       "        </div>\n",
       "        <div class=\"atoms\">\n",
       "                    <div class=\"word  \" ><div class=\"h\"><a target=\"_blank\" href=\"https://shebanq.ancient-data.org/hebrew/word?version=2017&amp;id=1L\" title=\"show this lexeme in SHEBANQ\">לְ</a></div><div class=\"features\"> <span class=\"pdp\"><a href=\"https://shebanq.ancient-data.org/hebrew/text?book=Genesis&amp;chapter=7&amp;verse=14&amp;version=2017&amp;mr=m&amp;qw=q&amp;tp=txt_p&amp;tr=hb&amp;wget=v&amp;qget=v&amp;nget=vt\" title=\"Genesis 7:14\" sec=\"Genesis 7:14\">prep</a></span> <span class=\"gloss\">to</span></div></div><div class=\"word  \" ><div class=\"h\"><a target=\"_blank\" href=\"https://shebanq.ancient-data.org/hebrew/word?version=2017&amp;id=1MJNn\" title=\"show this lexeme in SHEBANQ\">מִינָ֔הּ </a></div><div class=\"features\"> <span class=\"pdp\"><a href=\"https://shebanq.ancient-data.org/hebrew/text?book=Genesis&amp;chapter=7&amp;verse=14&amp;version=2017&amp;mr=m&amp;qw=q&amp;tp=txt_p&amp;tr=hb&amp;wget=v&amp;qget=v&amp;nget=vt\" title=\"Genesis 7:14\" sec=\"Genesis 7:14\">subs</a></span> <span class=\"gloss\">kind</span></div></div></div></div><div class=\"patom  r l hl\" >\n",
       "        <div class=\"phrase hl\" >\n",
       "            <a href=\"https://shebanq.ancient-data.org/hebrew/text?book=Genesis&amp;chapter=7&amp;verse=14&amp;version=2017&amp;mr=m&amp;qw=q&amp;tp=txt_p&amp;tr=hb&amp;wget=v&amp;qget=v&amp;nget=vt\" title=\"Genesis 7:14\" sec=\"Genesis 7:14\">phrase</a>   <span class=\"function\">Subj</span> <span class=\"typ\">PPrP|CP</span>\n",
       "        </div>\n",
       "        <div class=\"atoms\">\n",
       "                    <div class=\"word  \" ><div class=\"h\"><a target=\"_blank\" href=\"https://shebanq.ancient-data.org/hebrew/word?version=2017&amp;id=1W\" title=\"show this lexeme in SHEBANQ\">וְ</a></div><div class=\"features\"> <span class=\"pdp\"><a href=\"https://shebanq.ancient-data.org/hebrew/text?book=Genesis&amp;chapter=7&amp;verse=14&amp;version=2017&amp;mr=m&amp;qw=q&amp;tp=txt_p&amp;tr=hb&amp;wget=v&amp;qget=v&amp;nget=vt\" title=\"Genesis 7:14\" sec=\"Genesis 7:14\">conj</a></span> <span class=\"gloss\">and</span></div></div></div></div><div class=\"patom  r l hl\" >\n",
       "        <div class=\"phrase hl\" >\n",
       "            <a href=\"https://shebanq.ancient-data.org/hebrew/text?book=Genesis&amp;chapter=7&amp;verse=14&amp;version=2017&amp;mr=m&amp;qw=q&amp;tp=txt_p&amp;tr=hb&amp;wget=v&amp;qget=v&amp;nget=vt\" title=\"Genesis 7:14\" sec=\"Genesis 7:14\">phrase</a>   <span class=\"function\">Subj</span> <span class=\"typ\">PPrP|NP</span>\n",
       "        </div>\n",
       "        <div class=\"atoms\">\n",
       "                    <div class=\"word  \" ><div class=\"h\"><a target=\"_blank\" href=\"https://shebanq.ancient-data.org/hebrew/word?version=2017&amp;id=1KLn\" title=\"show this lexeme in SHEBANQ\">כָל־</a></div><div class=\"features\"> <span class=\"pdp\"><a href=\"https://shebanq.ancient-data.org/hebrew/text?book=Genesis&amp;chapter=7&amp;verse=14&amp;version=2017&amp;mr=m&amp;qw=q&amp;tp=txt_p&amp;tr=hb&amp;wget=v&amp;qget=v&amp;nget=vt\" title=\"Genesis 7:14\" sec=\"Genesis 7:14\">subs</a></span> <span class=\"gloss\">whole</span></div></div><div class=\"word  \" ><div class=\"h\"><a target=\"_blank\" href=\"https://shebanq.ancient-data.org/hebrew/word?version=2017&amp;id=1H\" title=\"show this lexeme in SHEBANQ\">הָ</a></div><div class=\"features\"> <span class=\"pdp\"><a href=\"https://shebanq.ancient-data.org/hebrew/text?book=Genesis&amp;chapter=7&amp;verse=14&amp;version=2017&amp;mr=m&amp;qw=q&amp;tp=txt_p&amp;tr=hb&amp;wget=v&amp;qget=v&amp;nget=vt\" title=\"Genesis 7:14\" sec=\"Genesis 7:14\">art</a></span> <span class=\"gloss\">the</span></div></div><div class=\"word  \" ><div class=\"h\"><a target=\"_blank\" href=\"https://shebanq.ancient-data.org/hebrew/word?version=2017&amp;id=1RMFn\" title=\"show this lexeme in SHEBANQ\">רֶ֛מֶשׂ </a></div><div class=\"features\"> <span class=\"pdp\"><a href=\"https://shebanq.ancient-data.org/hebrew/text?book=Genesis&amp;chapter=7&amp;verse=14&amp;version=2017&amp;mr=m&amp;qw=q&amp;tp=txt_p&amp;tr=hb&amp;wget=v&amp;qget=v&amp;nget=vt\" title=\"Genesis 7:14\" sec=\"Genesis 7:14\">subs</a></span> <span class=\"gloss\">creeping animals</span></div></div></div></div></div></div><div class=\"catom  \" >\n",
       "        <div class=\"clause \" >\n",
       "            <a href=\"https://shebanq.ancient-data.org/hebrew/text?book=Genesis&amp;chapter=7&amp;verse=14&amp;version=2017&amp;mr=m&amp;qw=q&amp;tp=txt_p&amp;tr=hb&amp;wget=v&amp;qget=v&amp;nget=vt\" title=\"Genesis 7:14\" sec=\"Genesis 7:14\">clause</a>   <span class=\"rela\">Attr</span> <span class=\"typ\">Ptcp</span>\n",
       "        </div>\n",
       "        <div class=\"atoms\">\n",
       "                    <div class=\"patom  \" >\n",
       "        <div class=\"phrase \" >\n",
       "            <a href=\"https://shebanq.ancient-data.org/hebrew/text?book=Genesis&amp;chapter=7&amp;verse=14&amp;version=2017&amp;mr=m&amp;qw=q&amp;tp=txt_p&amp;tr=hb&amp;wget=v&amp;qget=v&amp;nget=vt\" title=\"Genesis 7:14\" sec=\"Genesis 7:14\">phrase</a>   <span class=\"function\">Rela</span> <span class=\"typ\">CP</span>\n",
       "        </div>\n",
       "        <div class=\"atoms\">\n",
       "                    <div class=\"word  \" ><div class=\"h\"><a target=\"_blank\" href=\"https://shebanq.ancient-data.org/hebrew/word?version=2017&amp;id=1H\" title=\"show this lexeme in SHEBANQ\">הָ</a></div><div class=\"features\"> <span class=\"pdp\"><a href=\"https://shebanq.ancient-data.org/hebrew/text?book=Genesis&amp;chapter=7&amp;verse=14&amp;version=2017&amp;mr=m&amp;qw=q&amp;tp=txt_p&amp;tr=hb&amp;wget=v&amp;qget=v&amp;nget=vt\" title=\"Genesis 7:14\" sec=\"Genesis 7:14\">conj</a></span> <span class=\"gloss\">the</span></div></div></div></div><div class=\"patom  \" >\n",
       "        <div class=\"phrase \" >\n",
       "            <a href=\"https://shebanq.ancient-data.org/hebrew/text?book=Genesis&amp;chapter=7&amp;verse=14&amp;version=2017&amp;mr=m&amp;qw=q&amp;tp=txt_p&amp;tr=hb&amp;wget=v&amp;qget=v&amp;nget=vt\" title=\"Genesis 7:14\" sec=\"Genesis 7:14\">phrase</a>   <span class=\"function\">PreC</span> <span class=\"typ\">VP</span>\n",
       "        </div>\n",
       "        <div class=\"atoms\">\n",
       "                    <div class=\"word  \" ><div class=\"h\"><a target=\"_blank\" href=\"https://shebanq.ancient-data.org/hebrew/word?version=2017&amp;id=1RMFv\" title=\"show this lexeme in SHEBANQ\">רֹמֵ֥שׂ </a></div><div class=\"features\"> <span class=\"pdp\"><a href=\"https://shebanq.ancient-data.org/hebrew/text?book=Genesis&amp;chapter=7&amp;verse=14&amp;version=2017&amp;mr=m&amp;qw=q&amp;tp=txt_p&amp;tr=hb&amp;wget=v&amp;qget=v&amp;nget=vt\" title=\"Genesis 7:14\" sec=\"Genesis 7:14\">verb</a></span> <span class=\"gloss\">creep</span> <span class=\"vs\">qal</span> <span class=\"vt\">ptca</span></div></div></div></div><div class=\"patom  \" >\n",
       "        <div class=\"phrase \" >\n",
       "            <a href=\"https://shebanq.ancient-data.org/hebrew/text?book=Genesis&amp;chapter=7&amp;verse=14&amp;version=2017&amp;mr=m&amp;qw=q&amp;tp=txt_p&amp;tr=hb&amp;wget=v&amp;qget=v&amp;nget=vt\" title=\"Genesis 7:14\" sec=\"Genesis 7:14\">phrase</a>   <span class=\"function\">Cmpl</span> <span class=\"typ\">PP</span>\n",
       "        </div>\n",
       "        <div class=\"atoms\">\n",
       "                    <div class=\"word  \" ><div class=\"h\"><a target=\"_blank\" href=\"https://shebanq.ancient-data.org/hebrew/word?version=2017&amp;id=1OL\" title=\"show this lexeme in SHEBANQ\">עַל־</a></div><div class=\"features\"> <span class=\"pdp\"><a href=\"https://shebanq.ancient-data.org/hebrew/text?book=Genesis&amp;chapter=7&amp;verse=14&amp;version=2017&amp;mr=m&amp;qw=q&amp;tp=txt_p&amp;tr=hb&amp;wget=v&amp;qget=v&amp;nget=vt\" title=\"Genesis 7:14\" sec=\"Genesis 7:14\">prep</a></span> <span class=\"gloss\">upon</span></div></div><div class=\"word  \" ><div class=\"h\"><a target=\"_blank\" href=\"https://shebanq.ancient-data.org/hebrew/word?version=2017&amp;id=1H\" title=\"show this lexeme in SHEBANQ\">הָ</a></div><div class=\"features\"> <span class=\"pdp\"><a href=\"https://shebanq.ancient-data.org/hebrew/text?book=Genesis&amp;chapter=7&amp;verse=14&amp;version=2017&amp;mr=m&amp;qw=q&amp;tp=txt_p&amp;tr=hb&amp;wget=v&amp;qget=v&amp;nget=vt\" title=\"Genesis 7:14\" sec=\"Genesis 7:14\">art</a></span> <span class=\"gloss\">the</span></div></div><div class=\"word  \" ><div class=\"h\"><a target=\"_blank\" href=\"https://shebanq.ancient-data.org/hebrew/word?version=2017&amp;id=1ARYn\" title=\"show this lexeme in SHEBANQ\">אָ֖רֶץ </a></div><div class=\"features\"> <span class=\"pdp\"><a href=\"https://shebanq.ancient-data.org/hebrew/text?book=Genesis&amp;chapter=7&amp;verse=14&amp;version=2017&amp;mr=m&amp;qw=q&amp;tp=txt_p&amp;tr=hb&amp;wget=v&amp;qget=v&amp;nget=vt\" title=\"Genesis 7:14\" sec=\"Genesis 7:14\">subs</a></span> <span class=\"gloss\">earth</span></div></div></div></div></div></div><div class=\"catom  r \" >\n",
       "        <div class=\"clause \" >\n",
       "            <a href=\"https://shebanq.ancient-data.org/hebrew/text?book=Genesis&amp;chapter=7&amp;verse=14&amp;version=2017&amp;mr=m&amp;qw=q&amp;tp=txt_p&amp;tr=hb&amp;wget=v&amp;qget=v&amp;nget=vt\" title=\"Genesis 7:14\" sec=\"Genesis 7:14\">clause</a>   <span class=\"typ\">Ellp|Defc</span>\n",
       "        </div>\n",
       "        <div class=\"atoms\">\n",
       "                    <div class=\"patom  r l hl\" >\n",
       "        <div class=\"phrase hl\" >\n",
       "            <a href=\"https://shebanq.ancient-data.org/hebrew/text?book=Genesis&amp;chapter=7&amp;verse=14&amp;version=2017&amp;mr=m&amp;qw=q&amp;tp=txt_p&amp;tr=hb&amp;wget=v&amp;qget=v&amp;nget=vt\" title=\"Genesis 7:14\" sec=\"Genesis 7:14\">phrase</a>   <span class=\"function\">Subj</span> <span class=\"typ\">PPrP|PP</span>\n",
       "        </div>\n",
       "        <div class=\"atoms\">\n",
       "                    <div class=\"word  \" ><div class=\"h\"><a target=\"_blank\" href=\"https://shebanq.ancient-data.org/hebrew/word?version=2017&amp;id=1L\" title=\"show this lexeme in SHEBANQ\">לְ</a></div><div class=\"features\"> <span class=\"pdp\"><a href=\"https://shebanq.ancient-data.org/hebrew/text?book=Genesis&amp;chapter=7&amp;verse=14&amp;version=2017&amp;mr=m&amp;qw=q&amp;tp=txt_p&amp;tr=hb&amp;wget=v&amp;qget=v&amp;nget=vt\" title=\"Genesis 7:14\" sec=\"Genesis 7:14\">prep</a></span> <span class=\"gloss\">to</span></div></div><div class=\"word  \" ><div class=\"h\"><a target=\"_blank\" href=\"https://shebanq.ancient-data.org/hebrew/word?version=2017&amp;id=1MJNn\" title=\"show this lexeme in SHEBANQ\">מִינֵ֑הוּ </a></div><div class=\"features\"> <span class=\"pdp\"><a href=\"https://shebanq.ancient-data.org/hebrew/text?book=Genesis&amp;chapter=7&amp;verse=14&amp;version=2017&amp;mr=m&amp;qw=q&amp;tp=txt_p&amp;tr=hb&amp;wget=v&amp;qget=v&amp;nget=vt\" title=\"Genesis 7:14\" sec=\"Genesis 7:14\">subs</a></span> <span class=\"gloss\">kind</span></div></div></div></div><div class=\"patom  r l hl\" >\n",
       "        <div class=\"phrase hl\" >\n",
       "            <a href=\"https://shebanq.ancient-data.org/hebrew/text?book=Genesis&amp;chapter=7&amp;verse=14&amp;version=2017&amp;mr=m&amp;qw=q&amp;tp=txt_p&amp;tr=hb&amp;wget=v&amp;qget=v&amp;nget=vt\" title=\"Genesis 7:14\" sec=\"Genesis 7:14\">phrase</a>   <span class=\"function\">Subj</span> <span class=\"typ\">PPrP|CP</span>\n",
       "        </div>\n",
       "        <div class=\"atoms\">\n",
       "                    <div class=\"word  \" ><div class=\"h\"><a target=\"_blank\" href=\"https://shebanq.ancient-data.org/hebrew/word?version=2017&amp;id=1W\" title=\"show this lexeme in SHEBANQ\">וְ</a></div><div class=\"features\"> <span class=\"pdp\"><a href=\"https://shebanq.ancient-data.org/hebrew/text?book=Genesis&amp;chapter=7&amp;verse=14&amp;version=2017&amp;mr=m&amp;qw=q&amp;tp=txt_p&amp;tr=hb&amp;wget=v&amp;qget=v&amp;nget=vt\" title=\"Genesis 7:14\" sec=\"Genesis 7:14\">conj</a></span> <span class=\"gloss\">and</span></div></div></div></div><div class=\"patom  r l hl\" >\n",
       "        <div class=\"phrase hl\" >\n",
       "            <a href=\"https://shebanq.ancient-data.org/hebrew/text?book=Genesis&amp;chapter=7&amp;verse=14&amp;version=2017&amp;mr=m&amp;qw=q&amp;tp=txt_p&amp;tr=hb&amp;wget=v&amp;qget=v&amp;nget=vt\" title=\"Genesis 7:14\" sec=\"Genesis 7:14\">phrase</a>   <span class=\"function\">Subj</span> <span class=\"typ\">PPrP|NP</span>\n",
       "        </div>\n",
       "        <div class=\"atoms\">\n",
       "                    <div class=\"word  \" ><div class=\"h\"><a target=\"_blank\" href=\"https://shebanq.ancient-data.org/hebrew/word?version=2017&amp;id=1KLn\" title=\"show this lexeme in SHEBANQ\">כָל־</a></div><div class=\"features\"> <span class=\"pdp\"><a href=\"https://shebanq.ancient-data.org/hebrew/text?book=Genesis&amp;chapter=7&amp;verse=14&amp;version=2017&amp;mr=m&amp;qw=q&amp;tp=txt_p&amp;tr=hb&amp;wget=v&amp;qget=v&amp;nget=vt\" title=\"Genesis 7:14\" sec=\"Genesis 7:14\">subs</a></span> <span class=\"gloss\">whole</span></div></div><div class=\"word  \" ><div class=\"h\"><a target=\"_blank\" href=\"https://shebanq.ancient-data.org/hebrew/word?version=2017&amp;id=1H\" title=\"show this lexeme in SHEBANQ\">הָ</a></div><div class=\"features\"> <span class=\"pdp\"><a href=\"https://shebanq.ancient-data.org/hebrew/text?book=Genesis&amp;chapter=7&amp;verse=14&amp;version=2017&amp;mr=m&amp;qw=q&amp;tp=txt_p&amp;tr=hb&amp;wget=v&amp;qget=v&amp;nget=vt\" title=\"Genesis 7:14\" sec=\"Genesis 7:14\">art</a></span> <span class=\"gloss\">the</span></div></div><div class=\"word  \" ><div class=\"h\"><a target=\"_blank\" href=\"https://shebanq.ancient-data.org/hebrew/word?version=2017&amp;id=1OWPn\" title=\"show this lexeme in SHEBANQ\">עֹ֣וף </a></div><div class=\"features\"> <span class=\"pdp\"><a href=\"https://shebanq.ancient-data.org/hebrew/text?book=Genesis&amp;chapter=7&amp;verse=14&amp;version=2017&amp;mr=m&amp;qw=q&amp;tp=txt_p&amp;tr=hb&amp;wget=v&amp;qget=v&amp;nget=vt\" title=\"Genesis 7:14\" sec=\"Genesis 7:14\">subs</a></span> <span class=\"gloss\">birds</span></div></div></div></div><div class=\"patom  r l hl\" >\n",
       "        <div class=\"phrase hl\" >\n",
       "            <a href=\"https://shebanq.ancient-data.org/hebrew/text?book=Genesis&amp;chapter=7&amp;verse=14&amp;version=2017&amp;mr=m&amp;qw=q&amp;tp=txt_p&amp;tr=hb&amp;wget=v&amp;qget=v&amp;nget=vt\" title=\"Genesis 7:14\" sec=\"Genesis 7:14\">phrase</a>   <span class=\"function\">Subj</span> <span class=\"typ\">PPrP|PP</span>\n",
       "        </div>\n",
       "        <div class=\"atoms\">\n",
       "                    <div class=\"word  \" ><div class=\"h\"><a target=\"_blank\" href=\"https://shebanq.ancient-data.org/hebrew/word?version=2017&amp;id=1L\" title=\"show this lexeme in SHEBANQ\">לְ</a></div><div class=\"features\"> <span class=\"pdp\"><a href=\"https://shebanq.ancient-data.org/hebrew/text?book=Genesis&amp;chapter=7&amp;verse=14&amp;version=2017&amp;mr=m&amp;qw=q&amp;tp=txt_p&amp;tr=hb&amp;wget=v&amp;qget=v&amp;nget=vt\" title=\"Genesis 7:14\" sec=\"Genesis 7:14\">prep</a></span> <span class=\"gloss\">to</span></div></div><div class=\"word  \" ><div class=\"h\"><a target=\"_blank\" href=\"https://shebanq.ancient-data.org/hebrew/word?version=2017&amp;id=1MJNn\" title=\"show this lexeme in SHEBANQ\">מִינֵ֔הוּ </a></div><div class=\"features\"> <span class=\"pdp\"><a href=\"https://shebanq.ancient-data.org/hebrew/text?book=Genesis&amp;chapter=7&amp;verse=14&amp;version=2017&amp;mr=m&amp;qw=q&amp;tp=txt_p&amp;tr=hb&amp;wget=v&amp;qget=v&amp;nget=vt\" title=\"Genesis 7:14\" sec=\"Genesis 7:14\">subs</a></span> <span class=\"gloss\">kind</span></div></div></div></div><div class=\"patom  r hl\" >\n",
       "        <div class=\"phrase hl\" >\n",
       "            <a href=\"https://shebanq.ancient-data.org/hebrew/text?book=Genesis&amp;chapter=7&amp;verse=14&amp;version=2017&amp;mr=m&amp;qw=q&amp;tp=txt_p&amp;tr=hb&amp;wget=v&amp;qget=v&amp;nget=vt\" title=\"Genesis 7:14\" sec=\"Genesis 7:14\">phrase</a>   <span class=\"function\">Subj</span> <span class=\"typ\">PPrP|NP</span>\n",
       "        </div>\n",
       "        <div class=\"atoms\">\n",
       "                    <div class=\"word  \" ><div class=\"h\"><a target=\"_blank\" href=\"https://shebanq.ancient-data.org/hebrew/word?version=2017&amp;id=1KLn\" title=\"show this lexeme in SHEBANQ\">כֹּ֖ל </a></div><div class=\"features\"> <span class=\"pdp\"><a href=\"https://shebanq.ancient-data.org/hebrew/text?book=Genesis&amp;chapter=7&amp;verse=14&amp;version=2017&amp;mr=m&amp;qw=q&amp;tp=txt_p&amp;tr=hb&amp;wget=v&amp;qget=v&amp;nget=vt\" title=\"Genesis 7:14\" sec=\"Genesis 7:14\">subs</a></span> <span class=\"gloss\">whole</span></div></div><div class=\"word  \" ><div class=\"h\"><a target=\"_blank\" href=\"https://shebanq.ancient-data.org/hebrew/word?version=2017&amp;id=1YPWRn\" title=\"show this lexeme in SHEBANQ\">צִפֹּ֥ור </a></div><div class=\"features\"> <span class=\"pdp\"><a href=\"https://shebanq.ancient-data.org/hebrew/text?book=Genesis&amp;chapter=7&amp;verse=14&amp;version=2017&amp;mr=m&amp;qw=q&amp;tp=txt_p&amp;tr=hb&amp;wget=v&amp;qget=v&amp;nget=vt\" title=\"Genesis 7:14\" sec=\"Genesis 7:14\">subs</a></span> <span class=\"gloss\">bird</span></div></div><div class=\"word  \" ><div class=\"h\"><a target=\"_blank\" href=\"https://shebanq.ancient-data.org/hebrew/word?version=2017&amp;id=1KLn\" title=\"show this lexeme in SHEBANQ\">כָּל־</a></div><div class=\"features\"> <span class=\"pdp\"><a href=\"https://shebanq.ancient-data.org/hebrew/text?book=Genesis&amp;chapter=7&amp;verse=14&amp;version=2017&amp;mr=m&amp;qw=q&amp;tp=txt_p&amp;tr=hb&amp;wget=v&amp;qget=v&amp;nget=vt\" title=\"Genesis 7:14\" sec=\"Genesis 7:14\">subs</a></span> <span class=\"gloss\">whole</span></div></div><div class=\"word  \" ><div class=\"h\"><a target=\"_blank\" href=\"https://shebanq.ancient-data.org/hebrew/word?version=2017&amp;id=1KNPn\" title=\"show this lexeme in SHEBANQ\">כָּנָֽף׃ </a></div><div class=\"features\"> <span class=\"pdp\"><a href=\"https://shebanq.ancient-data.org/hebrew/text?book=Genesis&amp;chapter=7&amp;verse=14&amp;version=2017&amp;mr=m&amp;qw=q&amp;tp=txt_p&amp;tr=hb&amp;wget=v&amp;qget=v&amp;nget=vt\" title=\"Genesis 7:14\" sec=\"Genesis 7:14\">subs</a></span> <span class=\"gloss\">wing</span></div></div></div></div></div></div></div></div></div></div>"
      ],
      "text/plain": [
       "<IPython.core.display.HTML object>"
      ]
     },
     "metadata": {},
     "output_type": "display_data"
    }
   ],
   "source": [
    "A.show(results, start=1, end=3)"
   ]
  },
  {
   "cell_type": "markdown",
   "metadata": {},
   "source": [
    "We reduce the details by setting the baseType to `phrase`.\n",
    "The highlighted phrases will now get a yellow background."
   ]
  },
  {
   "cell_type": "code",
   "execution_count": 79,
   "metadata": {
    "ExecuteTime": {
     "end_time": "2018-05-24T08:05:41.293060Z",
     "start_time": "2018-05-24T08:05:41.237943Z"
    }
   },
   "outputs": [
    {
     "data": {
      "text/html": [
       "<p><b>result</b> <i>3</i></p>"
      ],
      "text/plain": [
       "<IPython.core.display.HTML object>"
      ]
     },
     "metadata": {},
     "output_type": "display_data"
    },
    {
     "data": {
      "text/html": [
       "<div class=\"outeritem\"><div class=\"verse  \" >\n",
       "    <div class=\"vl\">\n",
       "        <div class=\"vrs\"><a href=\"https://shebanq.ancient-data.org/hebrew/text?book=Genesis&amp;chapter=7&amp;verse=14&amp;version=2017&amp;mr=m&amp;qw=q&amp;tp=txt_p&amp;tr=hb&amp;wget=v&amp;qget=v&amp;nget=vt\" title=\"show this passage in SHEBANQ\" sec=\"Genesis 7:14\">Genesis 7:14</a></div>\n",
       "        \n",
       "    </div>\n",
       "<div class=\"satom  rno \" >\n",
       "        <div class=\"sentence \" >\n",
       "            <a href=\"https://shebanq.ancient-data.org/hebrew/text?book=Genesis&amp;chapter=7&amp;verse=13&amp;version=2017&amp;mr=m&amp;qw=q&amp;tp=txt_p&amp;tr=hb&amp;wget=v&amp;qget=v&amp;nget=vt\" title=\"Genesis 7:13\" sec=\"Genesis 7:13\">sentence</a>   <span class=\"number\">17|454</span>\n",
       "        </div>\n",
       "        <div class=\"atoms\">\n",
       "                    <div class=\"catom  l \" >\n",
       "        <div class=\"clause \" >\n",
       "            <a href=\"https://shebanq.ancient-data.org/hebrew/text?book=Genesis&amp;chapter=7&amp;verse=14&amp;version=2017&amp;mr=m&amp;qw=q&amp;tp=txt_p&amp;tr=hb&amp;wget=v&amp;qget=v&amp;nget=vt\" title=\"Genesis 7:14\" sec=\"Genesis 7:14\">clause</a>   <span class=\"typ\">Ellp</span>\n",
       "        </div>\n",
       "        <div class=\"atoms\">\n",
       "                    <div class=\"patom  l hl\" >\n",
       "        <div class=\"phrase hl\" >\n",
       "            <a href=\"https://shebanq.ancient-data.org/hebrew/text?book=Genesis&amp;chapter=7&amp;verse=14&amp;version=2017&amp;mr=m&amp;qw=q&amp;tp=txt_p&amp;tr=hb&amp;wget=v&amp;qget=v&amp;nget=vt\" title=\"Genesis 7:14\" sec=\"Genesis 7:14\">phrase</a>   <span class=\"function\">Subj</span> <span class=\"typ\">PPrP</span>\n",
       "        </div>\n",
       "        <div class=\"atoms\">\n",
       "                    <span class=\"plain outer  rtl \"><span class=\"plain rtl  l hl\" ><span class=\"plain rtl  \" ><span class=\"plain rtl  \" ><span class=\"h\">הֵ֜מָּה </span></span><span class=\"plain rtl  \" ><span class=\"h\">וְ</span></span><span class=\"plain rtl  \" ><span class=\"h\">כָל־</span></span><span class=\"plain rtl  \" ><span class=\"h\">הַֽ</span></span><span class=\"plain rtl  \" ><span class=\"h\">חַיָּ֣ה </span></span></span></span></span></div></div><div class=\"patom  r l hl\" >\n",
       "        <div class=\"phrase hl\" >\n",
       "            <a href=\"https://shebanq.ancient-data.org/hebrew/text?book=Genesis&amp;chapter=7&amp;verse=14&amp;version=2017&amp;mr=m&amp;qw=q&amp;tp=txt_p&amp;tr=hb&amp;wget=v&amp;qget=v&amp;nget=vt\" title=\"Genesis 7:14\" sec=\"Genesis 7:14\">phrase</a>   <span class=\"function\">Subj</span> <span class=\"typ\">PPrP|PP</span>\n",
       "        </div>\n",
       "        <div class=\"atoms\">\n",
       "                    <span class=\"plain outer  rtl \"><span class=\"plain rtl  r l hl\" ><span class=\"plain rtl  \" ><span class=\"plain rtl  \" ><span class=\"h\">לְ</span></span><span class=\"plain rtl  \" ><span class=\"h\">מִינָ֗הּ </span></span></span></span></span></div></div><div class=\"patom  r l hl\" >\n",
       "        <div class=\"phrase hl\" >\n",
       "            <a href=\"https://shebanq.ancient-data.org/hebrew/text?book=Genesis&amp;chapter=7&amp;verse=14&amp;version=2017&amp;mr=m&amp;qw=q&amp;tp=txt_p&amp;tr=hb&amp;wget=v&amp;qget=v&amp;nget=vt\" title=\"Genesis 7:14\" sec=\"Genesis 7:14\">phrase</a>   <span class=\"function\">Subj</span> <span class=\"typ\">PPrP|CP</span>\n",
       "        </div>\n",
       "        <div class=\"atoms\">\n",
       "                    <span class=\"plain outer  rtl \"><span class=\"plain rtl  r l hl\" ><span class=\"plain rtl  \" ><span class=\"plain rtl  \" ><span class=\"h\">וְ</span></span></span></span></span></div></div><div class=\"patom  r l hl\" >\n",
       "        <div class=\"phrase hl\" >\n",
       "            <a href=\"https://shebanq.ancient-data.org/hebrew/text?book=Genesis&amp;chapter=7&amp;verse=14&amp;version=2017&amp;mr=m&amp;qw=q&amp;tp=txt_p&amp;tr=hb&amp;wget=v&amp;qget=v&amp;nget=vt\" title=\"Genesis 7:14\" sec=\"Genesis 7:14\">phrase</a>   <span class=\"function\">Subj</span> <span class=\"typ\">PPrP|NP</span>\n",
       "        </div>\n",
       "        <div class=\"atoms\">\n",
       "                    <span class=\"plain outer  rtl \"><span class=\"plain rtl  r l hl\" ><span class=\"plain rtl  \" ><span class=\"plain rtl  \" ><span class=\"h\">כָל־</span></span><span class=\"plain rtl  \" ><span class=\"h\">הַ</span></span><span class=\"plain rtl  \" ><span class=\"h\">בְּהֵמָה֙ </span></span></span></span></span></div></div><div class=\"patom  r l hl\" >\n",
       "        <div class=\"phrase hl\" >\n",
       "            <a href=\"https://shebanq.ancient-data.org/hebrew/text?book=Genesis&amp;chapter=7&amp;verse=14&amp;version=2017&amp;mr=m&amp;qw=q&amp;tp=txt_p&amp;tr=hb&amp;wget=v&amp;qget=v&amp;nget=vt\" title=\"Genesis 7:14\" sec=\"Genesis 7:14\">phrase</a>   <span class=\"function\">Subj</span> <span class=\"typ\">PPrP|PP</span>\n",
       "        </div>\n",
       "        <div class=\"atoms\">\n",
       "                    <span class=\"plain outer  rtl \"><span class=\"plain rtl  r l hl\" ><span class=\"plain rtl  \" ><span class=\"plain rtl  \" ><span class=\"h\">לְ</span></span><span class=\"plain rtl  \" ><span class=\"h\">מִינָ֔הּ </span></span></span></span></span></div></div><div class=\"patom  r l hl\" >\n",
       "        <div class=\"phrase hl\" >\n",
       "            <a href=\"https://shebanq.ancient-data.org/hebrew/text?book=Genesis&amp;chapter=7&amp;verse=14&amp;version=2017&amp;mr=m&amp;qw=q&amp;tp=txt_p&amp;tr=hb&amp;wget=v&amp;qget=v&amp;nget=vt\" title=\"Genesis 7:14\" sec=\"Genesis 7:14\">phrase</a>   <span class=\"function\">Subj</span> <span class=\"typ\">PPrP|CP</span>\n",
       "        </div>\n",
       "        <div class=\"atoms\">\n",
       "                    <span class=\"plain outer  rtl \"><span class=\"plain rtl  r l hl\" ><span class=\"plain rtl  \" ><span class=\"plain rtl  \" ><span class=\"h\">וְ</span></span></span></span></span></div></div><div class=\"patom  r l hl\" >\n",
       "        <div class=\"phrase hl\" >\n",
       "            <a href=\"https://shebanq.ancient-data.org/hebrew/text?book=Genesis&amp;chapter=7&amp;verse=14&amp;version=2017&amp;mr=m&amp;qw=q&amp;tp=txt_p&amp;tr=hb&amp;wget=v&amp;qget=v&amp;nget=vt\" title=\"Genesis 7:14\" sec=\"Genesis 7:14\">phrase</a>   <span class=\"function\">Subj</span> <span class=\"typ\">PPrP|NP</span>\n",
       "        </div>\n",
       "        <div class=\"atoms\">\n",
       "                    <span class=\"plain outer  rtl \"><span class=\"plain rtl  r l hl\" ><span class=\"plain rtl  \" ><span class=\"plain rtl  \" ><span class=\"h\">כָל־</span></span><span class=\"plain rtl  \" ><span class=\"h\">הָ</span></span><span class=\"plain rtl  \" ><span class=\"h\">רֶ֛מֶשׂ </span></span></span></span></span></div></div></div></div><div class=\"catom  \" >\n",
       "        <div class=\"clause \" >\n",
       "            <a href=\"https://shebanq.ancient-data.org/hebrew/text?book=Genesis&amp;chapter=7&amp;verse=14&amp;version=2017&amp;mr=m&amp;qw=q&amp;tp=txt_p&amp;tr=hb&amp;wget=v&amp;qget=v&amp;nget=vt\" title=\"Genesis 7:14\" sec=\"Genesis 7:14\">clause</a>   <span class=\"rela\">Attr</span> <span class=\"typ\">Ptcp</span>\n",
       "        </div>\n",
       "        <div class=\"atoms\">\n",
       "                    <div class=\"patom  \" >\n",
       "        <div class=\"phrase \" >\n",
       "            <a href=\"https://shebanq.ancient-data.org/hebrew/text?book=Genesis&amp;chapter=7&amp;verse=14&amp;version=2017&amp;mr=m&amp;qw=q&amp;tp=txt_p&amp;tr=hb&amp;wget=v&amp;qget=v&amp;nget=vt\" title=\"Genesis 7:14\" sec=\"Genesis 7:14\">phrase</a>   <span class=\"function\">Rela</span> <span class=\"typ\">CP</span>\n",
       "        </div>\n",
       "        <div class=\"atoms\">\n",
       "                    <span class=\"plain outer  rtl \"><span class=\"plain rtl  \" ><span class=\"plain rtl  \" ><span class=\"h\">הָ</span></span></span></span></div></div><div class=\"patom  \" >\n",
       "        <div class=\"phrase \" >\n",
       "            <a href=\"https://shebanq.ancient-data.org/hebrew/text?book=Genesis&amp;chapter=7&amp;verse=14&amp;version=2017&amp;mr=m&amp;qw=q&amp;tp=txt_p&amp;tr=hb&amp;wget=v&amp;qget=v&amp;nget=vt\" title=\"Genesis 7:14\" sec=\"Genesis 7:14\">phrase</a>   <span class=\"function\">PreC</span> <span class=\"typ\">VP</span>\n",
       "        </div>\n",
       "        <div class=\"atoms\">\n",
       "                    <span class=\"plain outer  rtl \"><span class=\"plain rtl  \" ><span class=\"plain rtl  \" ><span class=\"h\">רֹמֵ֥שׂ </span></span></span></span></div></div><div class=\"patom  \" >\n",
       "        <div class=\"phrase \" >\n",
       "            <a href=\"https://shebanq.ancient-data.org/hebrew/text?book=Genesis&amp;chapter=7&amp;verse=14&amp;version=2017&amp;mr=m&amp;qw=q&amp;tp=txt_p&amp;tr=hb&amp;wget=v&amp;qget=v&amp;nget=vt\" title=\"Genesis 7:14\" sec=\"Genesis 7:14\">phrase</a>   <span class=\"function\">Cmpl</span> <span class=\"typ\">PP</span>\n",
       "        </div>\n",
       "        <div class=\"atoms\">\n",
       "                    <span class=\"plain outer  rtl \"><span class=\"plain rtl  \" ><span class=\"plain rtl  \" ><span class=\"h\">עַל־</span></span><span class=\"plain rtl  \" ><span class=\"h\">הָ</span></span><span class=\"plain rtl  \" ><span class=\"h\">אָ֖רֶץ </span></span></span></span></div></div></div></div><div class=\"catom  r \" >\n",
       "        <div class=\"clause \" >\n",
       "            <a href=\"https://shebanq.ancient-data.org/hebrew/text?book=Genesis&amp;chapter=7&amp;verse=14&amp;version=2017&amp;mr=m&amp;qw=q&amp;tp=txt_p&amp;tr=hb&amp;wget=v&amp;qget=v&amp;nget=vt\" title=\"Genesis 7:14\" sec=\"Genesis 7:14\">clause</a>   <span class=\"typ\">Ellp|Defc</span>\n",
       "        </div>\n",
       "        <div class=\"atoms\">\n",
       "                    <div class=\"patom  r l hl\" >\n",
       "        <div class=\"phrase hl\" >\n",
       "            <a href=\"https://shebanq.ancient-data.org/hebrew/text?book=Genesis&amp;chapter=7&amp;verse=14&amp;version=2017&amp;mr=m&amp;qw=q&amp;tp=txt_p&amp;tr=hb&amp;wget=v&amp;qget=v&amp;nget=vt\" title=\"Genesis 7:14\" sec=\"Genesis 7:14\">phrase</a>   <span class=\"function\">Subj</span> <span class=\"typ\">PPrP|PP</span>\n",
       "        </div>\n",
       "        <div class=\"atoms\">\n",
       "                    <span class=\"plain outer  rtl \"><span class=\"plain rtl  r l hl\" ><span class=\"plain rtl  \" ><span class=\"plain rtl  \" ><span class=\"h\">לְ</span></span><span class=\"plain rtl  \" ><span class=\"h\">מִינֵ֑הוּ </span></span></span></span></span></div></div><div class=\"patom  r l hl\" >\n",
       "        <div class=\"phrase hl\" >\n",
       "            <a href=\"https://shebanq.ancient-data.org/hebrew/text?book=Genesis&amp;chapter=7&amp;verse=14&amp;version=2017&amp;mr=m&amp;qw=q&amp;tp=txt_p&amp;tr=hb&amp;wget=v&amp;qget=v&amp;nget=vt\" title=\"Genesis 7:14\" sec=\"Genesis 7:14\">phrase</a>   <span class=\"function\">Subj</span> <span class=\"typ\">PPrP|CP</span>\n",
       "        </div>\n",
       "        <div class=\"atoms\">\n",
       "                    <span class=\"plain outer  rtl \"><span class=\"plain rtl  r l hl\" ><span class=\"plain rtl  \" ><span class=\"plain rtl  \" ><span class=\"h\">וְ</span></span></span></span></span></div></div><div class=\"patom  r l hl\" >\n",
       "        <div class=\"phrase hl\" >\n",
       "            <a href=\"https://shebanq.ancient-data.org/hebrew/text?book=Genesis&amp;chapter=7&amp;verse=14&amp;version=2017&amp;mr=m&amp;qw=q&amp;tp=txt_p&amp;tr=hb&amp;wget=v&amp;qget=v&amp;nget=vt\" title=\"Genesis 7:14\" sec=\"Genesis 7:14\">phrase</a>   <span class=\"function\">Subj</span> <span class=\"typ\">PPrP|NP</span>\n",
       "        </div>\n",
       "        <div class=\"atoms\">\n",
       "                    <span class=\"plain outer  rtl \"><span class=\"plain rtl  r l hl\" ><span class=\"plain rtl  \" ><span class=\"plain rtl  \" ><span class=\"h\">כָל־</span></span><span class=\"plain rtl  \" ><span class=\"h\">הָ</span></span><span class=\"plain rtl  \" ><span class=\"h\">עֹ֣וף </span></span></span></span></span></div></div><div class=\"patom  r l hl\" >\n",
       "        <div class=\"phrase hl\" >\n",
       "            <a href=\"https://shebanq.ancient-data.org/hebrew/text?book=Genesis&amp;chapter=7&amp;verse=14&amp;version=2017&amp;mr=m&amp;qw=q&amp;tp=txt_p&amp;tr=hb&amp;wget=v&amp;qget=v&amp;nget=vt\" title=\"Genesis 7:14\" sec=\"Genesis 7:14\">phrase</a>   <span class=\"function\">Subj</span> <span class=\"typ\">PPrP|PP</span>\n",
       "        </div>\n",
       "        <div class=\"atoms\">\n",
       "                    <span class=\"plain outer  rtl \"><span class=\"plain rtl  r l hl\" ><span class=\"plain rtl  \" ><span class=\"plain rtl  \" ><span class=\"h\">לְ</span></span><span class=\"plain rtl  \" ><span class=\"h\">מִינֵ֔הוּ </span></span></span></span></span></div></div><div class=\"patom  r hl\" >\n",
       "        <div class=\"phrase hl\" >\n",
       "            <a href=\"https://shebanq.ancient-data.org/hebrew/text?book=Genesis&amp;chapter=7&amp;verse=14&amp;version=2017&amp;mr=m&amp;qw=q&amp;tp=txt_p&amp;tr=hb&amp;wget=v&amp;qget=v&amp;nget=vt\" title=\"Genesis 7:14\" sec=\"Genesis 7:14\">phrase</a>   <span class=\"function\">Subj</span> <span class=\"typ\">PPrP|NP</span>\n",
       "        </div>\n",
       "        <div class=\"atoms\">\n",
       "                    <span class=\"plain outer  rtl \"><span class=\"plain rtl  r hl\" ><span class=\"plain rtl  \" ><span class=\"plain rtl  \" ><span class=\"h\">כֹּ֖ל </span></span><span class=\"plain rtl  \" ><span class=\"h\">צִפֹּ֥ור </span></span><span class=\"plain rtl  \" ><span class=\"h\">כָּל־</span></span><span class=\"plain rtl  \" ><span class=\"h\">כָּנָֽף׃ </span></span></span></span></span></div></div></div></div></div></div></div></div>"
      ],
      "text/plain": [
       "<IPython.core.display.HTML object>"
      ]
     },
     "metadata": {},
     "output_type": "display_data"
    }
   ],
   "source": [
    "A.show(results, start=3, end=3, baseType=\"phrase\")"
   ]
  },
  {
   "cell_type": "markdown",
   "metadata": {},
   "source": [
    "We reduce the details by setting the baseType to `phrase_atom`.\n",
    "The highlighted phrases will not get a yellow background now."
   ]
  },
  {
   "cell_type": "code",
   "execution_count": 80,
   "metadata": {
    "ExecuteTime": {
     "end_time": "2018-05-24T08:05:41.293060Z",
     "start_time": "2018-05-24T08:05:41.237943Z"
    }
   },
   "outputs": [
    {
     "data": {
      "text/html": [
       "<p><b>result</b> <i>3</i></p>"
      ],
      "text/plain": [
       "<IPython.core.display.HTML object>"
      ]
     },
     "metadata": {},
     "output_type": "display_data"
    },
    {
     "data": {
      "text/html": [
       "<div class=\"outeritem\"><div class=\"verse  \" >\n",
       "    <div class=\"vl\">\n",
       "        <div class=\"vrs\"><a href=\"https://shebanq.ancient-data.org/hebrew/text?book=Genesis&amp;chapter=7&amp;verse=14&amp;version=2017&amp;mr=m&amp;qw=q&amp;tp=txt_p&amp;tr=hb&amp;wget=v&amp;qget=v&amp;nget=vt\" title=\"show this passage in SHEBANQ\" sec=\"Genesis 7:14\">Genesis 7:14</a></div>\n",
       "        \n",
       "    </div>\n",
       "<div class=\"satom  rno \" >\n",
       "        <div class=\"sentence \" >\n",
       "            <a href=\"https://shebanq.ancient-data.org/hebrew/text?book=Genesis&amp;chapter=7&amp;verse=13&amp;version=2017&amp;mr=m&amp;qw=q&amp;tp=txt_p&amp;tr=hb&amp;wget=v&amp;qget=v&amp;nget=vt\" title=\"Genesis 7:13\" sec=\"Genesis 7:13\">sentence</a>   <span class=\"number\">17|454</span>\n",
       "        </div>\n",
       "        <div class=\"atoms\">\n",
       "                    <div class=\"catom  l \" >\n",
       "        <div class=\"clause \" >\n",
       "            <a href=\"https://shebanq.ancient-data.org/hebrew/text?book=Genesis&amp;chapter=7&amp;verse=14&amp;version=2017&amp;mr=m&amp;qw=q&amp;tp=txt_p&amp;tr=hb&amp;wget=v&amp;qget=v&amp;nget=vt\" title=\"Genesis 7:14\" sec=\"Genesis 7:14\">clause</a>   <span class=\"typ\">Ellp</span>\n",
       "        </div>\n",
       "        <div class=\"atoms\">\n",
       "                    <div class=\"patom  l hl\" >\n",
       "        <div class=\"phrase hl\" >\n",
       "            <a href=\"https://shebanq.ancient-data.org/hebrew/text?book=Genesis&amp;chapter=7&amp;verse=14&amp;version=2017&amp;mr=m&amp;qw=q&amp;tp=txt_p&amp;tr=hb&amp;wget=v&amp;qget=v&amp;nget=vt\" title=\"Genesis 7:14\" sec=\"Genesis 7:14\">phrase</a>   <span class=\"function\">Subj</span> <span class=\"typ\">PPrP</span>\n",
       "        </div>\n",
       "        <div class=\"atoms\">\n",
       "                    <span class=\"plain outer  rtl  \" ><span class=\"plain rtl  \" ><span class=\"h\">הֵ֜מָּה </span></span><span class=\"plain rtl  \" ><span class=\"h\">וְ</span></span><span class=\"plain rtl  \" ><span class=\"h\">כָל־</span></span><span class=\"plain rtl  \" ><span class=\"h\">הַֽ</span></span><span class=\"plain rtl  \" ><span class=\"h\">חַיָּ֣ה </span></span></span></div></div><div class=\"patom  r l hl\" >\n",
       "        <div class=\"phrase hl\" >\n",
       "            <a href=\"https://shebanq.ancient-data.org/hebrew/text?book=Genesis&amp;chapter=7&amp;verse=14&amp;version=2017&amp;mr=m&amp;qw=q&amp;tp=txt_p&amp;tr=hb&amp;wget=v&amp;qget=v&amp;nget=vt\" title=\"Genesis 7:14\" sec=\"Genesis 7:14\">phrase</a>   <span class=\"function\">Subj</span> <span class=\"typ\">PPrP|PP</span>\n",
       "        </div>\n",
       "        <div class=\"atoms\">\n",
       "                    <span class=\"plain outer  rtl  \" ><span class=\"plain rtl  \" ><span class=\"h\">לְ</span></span><span class=\"plain rtl  \" ><span class=\"h\">מִינָ֗הּ </span></span></span></div></div><div class=\"patom  r l hl\" >\n",
       "        <div class=\"phrase hl\" >\n",
       "            <a href=\"https://shebanq.ancient-data.org/hebrew/text?book=Genesis&amp;chapter=7&amp;verse=14&amp;version=2017&amp;mr=m&amp;qw=q&amp;tp=txt_p&amp;tr=hb&amp;wget=v&amp;qget=v&amp;nget=vt\" title=\"Genesis 7:14\" sec=\"Genesis 7:14\">phrase</a>   <span class=\"function\">Subj</span> <span class=\"typ\">PPrP|CP</span>\n",
       "        </div>\n",
       "        <div class=\"atoms\">\n",
       "                    <span class=\"plain outer  rtl  \" ><span class=\"plain rtl  \" ><span class=\"h\">וְ</span></span></span></div></div><div class=\"patom  r l hl\" >\n",
       "        <div class=\"phrase hl\" >\n",
       "            <a href=\"https://shebanq.ancient-data.org/hebrew/text?book=Genesis&amp;chapter=7&amp;verse=14&amp;version=2017&amp;mr=m&amp;qw=q&amp;tp=txt_p&amp;tr=hb&amp;wget=v&amp;qget=v&amp;nget=vt\" title=\"Genesis 7:14\" sec=\"Genesis 7:14\">phrase</a>   <span class=\"function\">Subj</span> <span class=\"typ\">PPrP|NP</span>\n",
       "        </div>\n",
       "        <div class=\"atoms\">\n",
       "                    <span class=\"plain outer  rtl  \" ><span class=\"plain rtl  \" ><span class=\"h\">כָל־</span></span><span class=\"plain rtl  \" ><span class=\"h\">הַ</span></span><span class=\"plain rtl  \" ><span class=\"h\">בְּהֵמָה֙ </span></span></span></div></div><div class=\"patom  r l hl\" >\n",
       "        <div class=\"phrase hl\" >\n",
       "            <a href=\"https://shebanq.ancient-data.org/hebrew/text?book=Genesis&amp;chapter=7&amp;verse=14&amp;version=2017&amp;mr=m&amp;qw=q&amp;tp=txt_p&amp;tr=hb&amp;wget=v&amp;qget=v&amp;nget=vt\" title=\"Genesis 7:14\" sec=\"Genesis 7:14\">phrase</a>   <span class=\"function\">Subj</span> <span class=\"typ\">PPrP|PP</span>\n",
       "        </div>\n",
       "        <div class=\"atoms\">\n",
       "                    <span class=\"plain outer  rtl  \" ><span class=\"plain rtl  \" ><span class=\"h\">לְ</span></span><span class=\"plain rtl  \" ><span class=\"h\">מִינָ֔הּ </span></span></span></div></div><div class=\"patom  r l hl\" >\n",
       "        <div class=\"phrase hl\" >\n",
       "            <a href=\"https://shebanq.ancient-data.org/hebrew/text?book=Genesis&amp;chapter=7&amp;verse=14&amp;version=2017&amp;mr=m&amp;qw=q&amp;tp=txt_p&amp;tr=hb&amp;wget=v&amp;qget=v&amp;nget=vt\" title=\"Genesis 7:14\" sec=\"Genesis 7:14\">phrase</a>   <span class=\"function\">Subj</span> <span class=\"typ\">PPrP|CP</span>\n",
       "        </div>\n",
       "        <div class=\"atoms\">\n",
       "                    <span class=\"plain outer  rtl  \" ><span class=\"plain rtl  \" ><span class=\"h\">וְ</span></span></span></div></div><div class=\"patom  r l hl\" >\n",
       "        <div class=\"phrase hl\" >\n",
       "            <a href=\"https://shebanq.ancient-data.org/hebrew/text?book=Genesis&amp;chapter=7&amp;verse=14&amp;version=2017&amp;mr=m&amp;qw=q&amp;tp=txt_p&amp;tr=hb&amp;wget=v&amp;qget=v&amp;nget=vt\" title=\"Genesis 7:14\" sec=\"Genesis 7:14\">phrase</a>   <span class=\"function\">Subj</span> <span class=\"typ\">PPrP|NP</span>\n",
       "        </div>\n",
       "        <div class=\"atoms\">\n",
       "                    <span class=\"plain outer  rtl  \" ><span class=\"plain rtl  \" ><span class=\"h\">כָל־</span></span><span class=\"plain rtl  \" ><span class=\"h\">הָ</span></span><span class=\"plain rtl  \" ><span class=\"h\">רֶ֛מֶשׂ </span></span></span></div></div></div></div><div class=\"catom  \" >\n",
       "        <div class=\"clause \" >\n",
       "            <a href=\"https://shebanq.ancient-data.org/hebrew/text?book=Genesis&amp;chapter=7&amp;verse=14&amp;version=2017&amp;mr=m&amp;qw=q&amp;tp=txt_p&amp;tr=hb&amp;wget=v&amp;qget=v&amp;nget=vt\" title=\"Genesis 7:14\" sec=\"Genesis 7:14\">clause</a>   <span class=\"rela\">Attr</span> <span class=\"typ\">Ptcp</span>\n",
       "        </div>\n",
       "        <div class=\"atoms\">\n",
       "                    <div class=\"patom  \" >\n",
       "        <div class=\"phrase \" >\n",
       "            <a href=\"https://shebanq.ancient-data.org/hebrew/text?book=Genesis&amp;chapter=7&amp;verse=14&amp;version=2017&amp;mr=m&amp;qw=q&amp;tp=txt_p&amp;tr=hb&amp;wget=v&amp;qget=v&amp;nget=vt\" title=\"Genesis 7:14\" sec=\"Genesis 7:14\">phrase</a>   <span class=\"function\">Rela</span> <span class=\"typ\">CP</span>\n",
       "        </div>\n",
       "        <div class=\"atoms\">\n",
       "                    <span class=\"plain outer  rtl  \" ><span class=\"plain rtl  \" ><span class=\"h\">הָ</span></span></span></div></div><div class=\"patom  \" >\n",
       "        <div class=\"phrase \" >\n",
       "            <a href=\"https://shebanq.ancient-data.org/hebrew/text?book=Genesis&amp;chapter=7&amp;verse=14&amp;version=2017&amp;mr=m&amp;qw=q&amp;tp=txt_p&amp;tr=hb&amp;wget=v&amp;qget=v&amp;nget=vt\" title=\"Genesis 7:14\" sec=\"Genesis 7:14\">phrase</a>   <span class=\"function\">PreC</span> <span class=\"typ\">VP</span>\n",
       "        </div>\n",
       "        <div class=\"atoms\">\n",
       "                    <span class=\"plain outer  rtl  \" ><span class=\"plain rtl  \" ><span class=\"h\">רֹמֵ֥שׂ </span></span></span></div></div><div class=\"patom  \" >\n",
       "        <div class=\"phrase \" >\n",
       "            <a href=\"https://shebanq.ancient-data.org/hebrew/text?book=Genesis&amp;chapter=7&amp;verse=14&amp;version=2017&amp;mr=m&amp;qw=q&amp;tp=txt_p&amp;tr=hb&amp;wget=v&amp;qget=v&amp;nget=vt\" title=\"Genesis 7:14\" sec=\"Genesis 7:14\">phrase</a>   <span class=\"function\">Cmpl</span> <span class=\"typ\">PP</span>\n",
       "        </div>\n",
       "        <div class=\"atoms\">\n",
       "                    <span class=\"plain outer  rtl  \" ><span class=\"plain rtl  \" ><span class=\"h\">עַל־</span></span><span class=\"plain rtl  \" ><span class=\"h\">הָ</span></span><span class=\"plain rtl  \" ><span class=\"h\">אָ֖רֶץ </span></span></span></div></div></div></div><div class=\"catom  r \" >\n",
       "        <div class=\"clause \" >\n",
       "            <a href=\"https://shebanq.ancient-data.org/hebrew/text?book=Genesis&amp;chapter=7&amp;verse=14&amp;version=2017&amp;mr=m&amp;qw=q&amp;tp=txt_p&amp;tr=hb&amp;wget=v&amp;qget=v&amp;nget=vt\" title=\"Genesis 7:14\" sec=\"Genesis 7:14\">clause</a>   <span class=\"typ\">Ellp|Defc</span>\n",
       "        </div>\n",
       "        <div class=\"atoms\">\n",
       "                    <div class=\"patom  r l hl\" >\n",
       "        <div class=\"phrase hl\" >\n",
       "            <a href=\"https://shebanq.ancient-data.org/hebrew/text?book=Genesis&amp;chapter=7&amp;verse=14&amp;version=2017&amp;mr=m&amp;qw=q&amp;tp=txt_p&amp;tr=hb&amp;wget=v&amp;qget=v&amp;nget=vt\" title=\"Genesis 7:14\" sec=\"Genesis 7:14\">phrase</a>   <span class=\"function\">Subj</span> <span class=\"typ\">PPrP|PP</span>\n",
       "        </div>\n",
       "        <div class=\"atoms\">\n",
       "                    <span class=\"plain outer  rtl  \" ><span class=\"plain rtl  \" ><span class=\"h\">לְ</span></span><span class=\"plain rtl  \" ><span class=\"h\">מִינֵ֑הוּ </span></span></span></div></div><div class=\"patom  r l hl\" >\n",
       "        <div class=\"phrase hl\" >\n",
       "            <a href=\"https://shebanq.ancient-data.org/hebrew/text?book=Genesis&amp;chapter=7&amp;verse=14&amp;version=2017&amp;mr=m&amp;qw=q&amp;tp=txt_p&amp;tr=hb&amp;wget=v&amp;qget=v&amp;nget=vt\" title=\"Genesis 7:14\" sec=\"Genesis 7:14\">phrase</a>   <span class=\"function\">Subj</span> <span class=\"typ\">PPrP|CP</span>\n",
       "        </div>\n",
       "        <div class=\"atoms\">\n",
       "                    <span class=\"plain outer  rtl  \" ><span class=\"plain rtl  \" ><span class=\"h\">וְ</span></span></span></div></div><div class=\"patom  r l hl\" >\n",
       "        <div class=\"phrase hl\" >\n",
       "            <a href=\"https://shebanq.ancient-data.org/hebrew/text?book=Genesis&amp;chapter=7&amp;verse=14&amp;version=2017&amp;mr=m&amp;qw=q&amp;tp=txt_p&amp;tr=hb&amp;wget=v&amp;qget=v&amp;nget=vt\" title=\"Genesis 7:14\" sec=\"Genesis 7:14\">phrase</a>   <span class=\"function\">Subj</span> <span class=\"typ\">PPrP|NP</span>\n",
       "        </div>\n",
       "        <div class=\"atoms\">\n",
       "                    <span class=\"plain outer  rtl  \" ><span class=\"plain rtl  \" ><span class=\"h\">כָל־</span></span><span class=\"plain rtl  \" ><span class=\"h\">הָ</span></span><span class=\"plain rtl  \" ><span class=\"h\">עֹ֣וף </span></span></span></div></div><div class=\"patom  r l hl\" >\n",
       "        <div class=\"phrase hl\" >\n",
       "            <a href=\"https://shebanq.ancient-data.org/hebrew/text?book=Genesis&amp;chapter=7&amp;verse=14&amp;version=2017&amp;mr=m&amp;qw=q&amp;tp=txt_p&amp;tr=hb&amp;wget=v&amp;qget=v&amp;nget=vt\" title=\"Genesis 7:14\" sec=\"Genesis 7:14\">phrase</a>   <span class=\"function\">Subj</span> <span class=\"typ\">PPrP|PP</span>\n",
       "        </div>\n",
       "        <div class=\"atoms\">\n",
       "                    <span class=\"plain outer  rtl  \" ><span class=\"plain rtl  \" ><span class=\"h\">לְ</span></span><span class=\"plain rtl  \" ><span class=\"h\">מִינֵ֔הוּ </span></span></span></div></div><div class=\"patom  r hl\" >\n",
       "        <div class=\"phrase hl\" >\n",
       "            <a href=\"https://shebanq.ancient-data.org/hebrew/text?book=Genesis&amp;chapter=7&amp;verse=14&amp;version=2017&amp;mr=m&amp;qw=q&amp;tp=txt_p&amp;tr=hb&amp;wget=v&amp;qget=v&amp;nget=vt\" title=\"Genesis 7:14\" sec=\"Genesis 7:14\">phrase</a>   <span class=\"function\">Subj</span> <span class=\"typ\">PPrP|NP</span>\n",
       "        </div>\n",
       "        <div class=\"atoms\">\n",
       "                    <span class=\"plain outer  rtl  \" ><span class=\"plain rtl  \" ><span class=\"h\">כֹּ֖ל </span></span><span class=\"plain rtl  \" ><span class=\"h\">צִפֹּ֥ור </span></span><span class=\"plain rtl  \" ><span class=\"h\">כָּל־</span></span><span class=\"plain rtl  \" ><span class=\"h\">כָּנָֽף׃ </span></span></span></div></div></div></div></div></div></div></div>"
      ],
      "text/plain": [
       "<IPython.core.display.HTML object>"
      ]
     },
     "metadata": {},
     "output_type": "display_data"
    }
   ],
   "source": [
    "A.show(results, start=3, end=3, baseType=\"phrase_atom\")"
   ]
  },
  {
   "cell_type": "markdown",
   "metadata": {},
   "source": [
    "## Two-phrase clauses\n",
    "\n",
    "We can find the gaps, but do our minds always reckon with gaps?\n",
    "Gaps cause unexpected semantics.\n",
    "Here is a little puzzle.\n",
    "\n",
    "Suppose we want to count the clauses consisting of exactly two phrases.\n",
    "\n",
    "Here follows a little journey.\n",
    "We use a query to find the clauses, check the result with hand-coding, scratch our heads,\n",
    "refine the query, the hand-coding and our question until we are satisfied.\n",
    "\n",
    "### Attempt 1\n",
    "\n",
    "#### By query\n",
    "\n",
    "The following template should do it:\n",
    "a clause, starting with a phrase, followed by an adjacent phrase,\n",
    "which terminates the clause."
   ]
  },
  {
   "cell_type": "code",
   "execution_count": 81,
   "metadata": {
    "ExecuteTime": {
     "end_time": "2018-05-24T08:56:03.852429Z",
     "start_time": "2018-05-24T08:56:03.849179Z"
    }
   },
   "outputs": [],
   "source": [
    "query = '''\n",
    "clause\n",
    "    =: phrase\n",
    "    <: phrase\n",
    "    :=\n",
    "'''"
   ]
  },
  {
   "cell_type": "code",
   "execution_count": 82,
   "metadata": {},
   "outputs": [],
   "source": [
    "# ignore this\n",
    "# S.tweakPerformance(yarnRatio=1.2)"
   ]
  },
  {
   "cell_type": "code",
   "execution_count": 83,
   "metadata": {},
   "outputs": [
    {
     "name": "stdout",
     "output_type": "stream",
     "text": [
      "  0.00s Checking search template ...\n",
      "  0.00s Setting up search space for 3 objects ...\n",
      "  0.12s Constraining search space with 5 relations ...\n",
      "  0.68s \t2 edges thinned\n",
      "  0.69s Setting up retrieval plan with strategy small_choice_multi ...\n",
      "  0.70s Ready to deliver results from 264303 nodes\n",
      "Iterate over S.fetch() to get the results\n",
      "See S.showPlan() to interpret the results\n"
     ]
    }
   ],
   "source": [
    "S.study(query)"
   ]
  },
  {
   "cell_type": "code",
   "execution_count": 84,
   "metadata": {},
   "outputs": [
    {
     "name": "stdout",
     "output_type": "stream",
     "text": [
      "Search with 3 objects and 5 relations\n",
      "Results are instantiations of the following objects:\n",
      "node  0-clause                                         88101   choices\n",
      "node  1-phrase                                         88101   choices\n",
      "node  2-phrase                                         88101   choices\n",
      "Performance parameters:\n",
      "\tyarnRatio            =    1.25\n",
      "\ttryLimitFrom         =      40\n",
      "\ttryLimitTo           =      40\n",
      "Instantiations are computed along the following relations:\n",
      "node                                  0-clause         88101   choices\n",
      "edge        0-clause           :=     2-phrase             1.0 choices (thinned)\n",
      "edge        0-clause           [[     2-phrase             0   choices\n",
      "edge        2-phrase           :>     1-phrase             0.4 choices\n",
      "edge        1-phrase           ]]     0-clause             0   choices\n",
      "edge        1-phrase           =:     0-clause             0   choices\n",
      "  3.37s The results are connected to the original search template as follows:\n",
      " 0     \n",
      " 1 R0  clause\n",
      " 2 R1      =: phrase\n",
      " 3 R2      <: phrase\n",
      " 4         :=\n",
      " 5     \n"
     ]
    }
   ],
   "source": [
    "S.showPlan(details=True)"
   ]
  },
  {
   "cell_type": "code",
   "execution_count": 85,
   "metadata": {
    "ExecuteTime": {
     "end_time": "2018-05-24T08:56:06.276198Z",
     "start_time": "2018-05-24T08:56:05.153080Z"
    }
   },
   "outputs": [
    {
     "name": "stdout",
     "output_type": "stream",
     "text": [
      "  1.16s 23483 results\n"
     ]
    },
    {
     "data": {
      "text/html": [
       "<table>\n",
       "<tr class=\"tf\">\n",
       "  <th class=\"tf\">n</th><th class=\"tf\">p</th>\n",
       "  <th class=\"tf\">clause</th><th>phrase</th><th>phrase</th>\n",
       "</tr>\n",
       "\n",
       "<tr class=\"tf\"><td class=\"tf\">1</td><td class=\"tf\"> <a href=\"https://shebanq.ancient-data.org/hebrew/text?book=Genesis&amp;chapter=1&amp;verse=3&amp;version=2017&amp;mr=m&amp;qw=q&amp;tp=txt_p&amp;tr=hb&amp;wget=v&amp;qget=v&amp;nget=vt\" title=\"show this passage in SHEBANQ\" sec=\"Genesis 1:3\">Genesis 1:3</a></td><td class=\"tf\"><a href=\"https://shebanq.ancient-data.org/hebrew/text?book=Genesis&amp;chapter=1&amp;verse=3&amp;version=2017&amp;mr=m&amp;qw=q&amp;tp=txt_p&amp;tr=hb&amp;wget=v&amp;qget=v&amp;nget=vt\" title=\"Genesis 1:3\" sec=\"Genesis 1:3\"><span class=\"plain outer  rtl \"><span class=\"plain rtl  hlbx\" ><span class=\"plain rtl  \" ><span class=\"plain rtl  hlbx\" ><span class=\"plain rtl  \" ><span class=\"plain rtl  \" ><span class=\"h\">יְהִ֣י </span></span></span></span><span class=\"plain rtl  hlbx\" ><span class=\"plain rtl  \" ><span class=\"plain rtl  \" ><span class=\"h\">אֹ֑ור </span></span></span></span></span></span></span></a></td><td class=\"tf\"><span class=\"plain outer  rtl \"><span class=\"plain rtl  hlbx\" ><span class=\"plain rtl  \" ><span class=\"plain rtl  \" ><span class=\"h\">יְהִ֣י </span></span></span></span></span></td><td class=\"tf\"><span class=\"plain outer  rtl \"><span class=\"plain rtl  hlbx\" ><span class=\"plain rtl  \" ><span class=\"plain rtl  \" ><span class=\"h\">אֹ֑ור </span></span></span></span></span></td></tr>\n",
       "<tr class=\"tf\"><td class=\"tf\">2</td><td class=\"tf\"> <a href=\"https://shebanq.ancient-data.org/hebrew/text?book=Genesis&amp;chapter=1&amp;verse=4&amp;version=2017&amp;mr=m&amp;qw=q&amp;tp=txt_p&amp;tr=hb&amp;wget=v&amp;qget=v&amp;nget=vt\" title=\"show this passage in SHEBANQ\" sec=\"Genesis 1:4\">Genesis 1:4</a></td><td class=\"tf\"><a href=\"https://shebanq.ancient-data.org/hebrew/text?book=Genesis&amp;chapter=1&amp;verse=4&amp;version=2017&amp;mr=m&amp;qw=q&amp;tp=txt_p&amp;tr=hb&amp;wget=v&amp;qget=v&amp;nget=vt\" title=\"Genesis 1:4\" sec=\"Genesis 1:4\"><span class=\"plain outer  rtl \"><span class=\"plain rtl  hlbx\" ><span class=\"plain rtl  \" ><span class=\"plain rtl  hlbx\" ><span class=\"plain rtl  \" ><span class=\"plain rtl  \" ><span class=\"h\">כִּי־</span></span></span></span><span class=\"plain rtl  hlbx\" ><span class=\"plain rtl  \" ><span class=\"plain rtl  \" ><span class=\"h\">טֹ֑וב </span></span></span></span></span></span></span></a></td><td class=\"tf\"><span class=\"plain outer  rtl \"><span class=\"plain rtl  hlbx\" ><span class=\"plain rtl  \" ><span class=\"plain rtl  \" ><span class=\"h\">כִּי־</span></span></span></span></span></td><td class=\"tf\"><span class=\"plain outer  rtl \"><span class=\"plain rtl  hlbx\" ><span class=\"plain rtl  \" ><span class=\"plain rtl  \" ><span class=\"h\">טֹ֑וב </span></span></span></span></span></td></tr>\n",
       "<tr class=\"tf\"><td class=\"tf\">3</td><td class=\"tf\"> <a href=\"https://shebanq.ancient-data.org/hebrew/text?book=Genesis&amp;chapter=1&amp;verse=7&amp;version=2017&amp;mr=m&amp;qw=q&amp;tp=txt_p&amp;tr=hb&amp;wget=v&amp;qget=v&amp;nget=vt\" title=\"show this passage in SHEBANQ\" sec=\"Genesis 1:7\">Genesis 1:7</a></td><td class=\"tf\"><a href=\"https://shebanq.ancient-data.org/hebrew/text?book=Genesis&amp;chapter=1&amp;verse=7&amp;version=2017&amp;mr=m&amp;qw=q&amp;tp=txt_p&amp;tr=hb&amp;wget=v&amp;qget=v&amp;nget=vt\" title=\"Genesis 1:7\" sec=\"Genesis 1:7\"><span class=\"plain outer  rtl \"><span class=\"plain rtl  hlbx\" ><span class=\"plain rtl  \" ><span class=\"plain rtl  hlbx\" ><span class=\"plain rtl  \" ><span class=\"plain rtl  \" ><span class=\"h\">אֲשֶׁר֙ </span></span></span></span><span class=\"plain rtl  l hlbx\" ><span class=\"plain rtl  \" ><span class=\"plain rtl  \" ><span class=\"h\">מִ</span></span><span class=\"plain rtl  \" ><span class=\"h\">תַּ֣חַת </span></span></span></span><span class=\"plain rtl  r hlbx\" ><span class=\"plain rtl  \" ><span class=\"plain rtl  \" ><span class=\"h\">לָ</span></span><span class=\"plain rtl  \" ><span class=\"h\"></span></span><span class=\"plain rtl  \" ><span class=\"h\">רָקִ֔יעַ </span></span></span></span></span></span></span></a></td><td class=\"tf\"><span class=\"plain outer  rtl \"><span class=\"plain rtl  hlbx\" ><span class=\"plain rtl  \" ><span class=\"plain rtl  \" ><span class=\"h\">אֲשֶׁר֙ </span></span></span></span></span></td><td class=\"tf\"><span class=\"plain outer  rtl \"><span class=\"plain rtl  l hlbx\" ><span class=\"plain rtl  \" ><span class=\"plain rtl  \" ><span class=\"h\">מִ</span></span><span class=\"plain rtl  \" ><span class=\"h\">תַּ֣חַת </span></span></span></span><span class=\"plain rtl  r hlbx\" ><span class=\"plain rtl  \" ><span class=\"plain rtl  \" ><span class=\"h\">לָ</span></span><span class=\"plain rtl  \" ><span class=\"h\"></span></span><span class=\"plain rtl  \" ><span class=\"h\">רָקִ֔יעַ </span></span></span></span></span></td></tr>\n",
       "<tr class=\"tf\"><td class=\"tf\">4</td><td class=\"tf\"> <a href=\"https://shebanq.ancient-data.org/hebrew/text?book=Genesis&amp;chapter=1&amp;verse=7&amp;version=2017&amp;mr=m&amp;qw=q&amp;tp=txt_p&amp;tr=hb&amp;wget=v&amp;qget=v&amp;nget=vt\" title=\"show this passage in SHEBANQ\" sec=\"Genesis 1:7\">Genesis 1:7</a></td><td class=\"tf\"><a href=\"https://shebanq.ancient-data.org/hebrew/text?book=Genesis&amp;chapter=1&amp;verse=7&amp;version=2017&amp;mr=m&amp;qw=q&amp;tp=txt_p&amp;tr=hb&amp;wget=v&amp;qget=v&amp;nget=vt\" title=\"Genesis 1:7\" sec=\"Genesis 1:7\"><span class=\"plain outer  rtl \"><span class=\"plain rtl  hlbx\" ><span class=\"plain rtl  \" ><span class=\"plain rtl  hlbx\" ><span class=\"plain rtl  \" ><span class=\"plain rtl  \" ><span class=\"h\">אֲשֶׁ֖ר </span></span></span></span><span class=\"plain rtl  hlbx\" ><span class=\"plain rtl  \" ><span class=\"plain rtl  \" ><span class=\"h\">מֵ</span></span><span class=\"plain rtl  \" ><span class=\"h\">עַ֣ל </span></span><span class=\"plain rtl  \" ><span class=\"h\">לָ</span></span><span class=\"plain rtl  \" ><span class=\"h\"></span></span><span class=\"plain rtl  \" ><span class=\"h\">רָקִ֑יעַ </span></span></span></span></span></span></span></a></td><td class=\"tf\"><span class=\"plain outer  rtl \"><span class=\"plain rtl  hlbx\" ><span class=\"plain rtl  \" ><span class=\"plain rtl  \" ><span class=\"h\">אֲשֶׁ֖ר </span></span></span></span></span></td><td class=\"tf\"><span class=\"plain outer  rtl \"><span class=\"plain rtl  hlbx\" ><span class=\"plain rtl  \" ><span class=\"plain rtl  \" ><span class=\"h\">מֵ</span></span><span class=\"plain rtl  \" ><span class=\"h\">עַ֣ל </span></span><span class=\"plain rtl  \" ><span class=\"h\">לָ</span></span><span class=\"plain rtl  \" ><span class=\"h\"></span></span><span class=\"plain rtl  \" ><span class=\"h\">רָקִ֑יעַ </span></span></span></span></span></td></tr>\n",
       "<tr class=\"tf\"><td class=\"tf\">5</td><td class=\"tf\"> <a href=\"https://shebanq.ancient-data.org/hebrew/text?book=Genesis&amp;chapter=1&amp;verse=10&amp;version=2017&amp;mr=m&amp;qw=q&amp;tp=txt_p&amp;tr=hb&amp;wget=v&amp;qget=v&amp;nget=vt\" title=\"show this passage in SHEBANQ\" sec=\"Genesis 1:10\">Genesis 1:10</a></td><td class=\"tf\"><a href=\"https://shebanq.ancient-data.org/hebrew/text?book=Genesis&amp;chapter=1&amp;verse=10&amp;version=2017&amp;mr=m&amp;qw=q&amp;tp=txt_p&amp;tr=hb&amp;wget=v&amp;qget=v&amp;nget=vt\" title=\"Genesis 1:10\" sec=\"Genesis 1:10\"><span class=\"plain outer  rtl \"><span class=\"plain rtl  hlbx\" ><span class=\"plain rtl  \" ><span class=\"plain rtl  hlbx\" ><span class=\"plain rtl  \" ><span class=\"plain rtl  \" ><span class=\"h\">כִּי־</span></span></span></span><span class=\"plain rtl  hlbx\" ><span class=\"plain rtl  \" ><span class=\"plain rtl  \" ><span class=\"h\">טֹֽוב׃ </span></span></span></span></span></span></span></a></td><td class=\"tf\"><span class=\"plain outer  rtl \"><span class=\"plain rtl  hlbx\" ><span class=\"plain rtl  \" ><span class=\"plain rtl  \" ><span class=\"h\">כִּי־</span></span></span></span></span></td><td class=\"tf\"><span class=\"plain outer  rtl \"><span class=\"plain rtl  hlbx\" ><span class=\"plain rtl  \" ><span class=\"plain rtl  \" ><span class=\"h\">טֹֽוב׃ </span></span></span></span></span></td></tr>\n",
       "<tr class=\"tf\"><td class=\"tf\">6</td><td class=\"tf\"> <a href=\"https://shebanq.ancient-data.org/hebrew/text?book=Genesis&amp;chapter=1&amp;verse=11&amp;version=2017&amp;mr=m&amp;qw=q&amp;tp=txt_p&amp;tr=hb&amp;wget=v&amp;qget=v&amp;nget=vt\" title=\"show this passage in SHEBANQ\" sec=\"Genesis 1:11\">Genesis 1:11</a></td><td class=\"tf\"><a href=\"https://shebanq.ancient-data.org/hebrew/text?book=Genesis&amp;chapter=1&amp;verse=11&amp;version=2017&amp;mr=m&amp;qw=q&amp;tp=txt_p&amp;tr=hb&amp;wget=v&amp;qget=v&amp;nget=vt\" title=\"Genesis 1:11\" sec=\"Genesis 1:11\"><span class=\"plain outer  rtl \"><span class=\"plain rtl  hlbx\" ><span class=\"plain rtl  \" ><span class=\"plain rtl  hlbx\" ><span class=\"plain rtl  \" ><span class=\"plain rtl  \" ><span class=\"h\">מַזְרִ֣יעַ </span></span></span></span><span class=\"plain rtl  hlbx\" ><span class=\"plain rtl  \" ><span class=\"plain rtl  \" ><span class=\"h\">זֶ֔רַע </span></span></span></span></span></span></span></a></td><td class=\"tf\"><span class=\"plain outer  rtl \"><span class=\"plain rtl  hlbx\" ><span class=\"plain rtl  \" ><span class=\"plain rtl  \" ><span class=\"h\">מַזְרִ֣יעַ </span></span></span></span></span></td><td class=\"tf\"><span class=\"plain outer  rtl \"><span class=\"plain rtl  hlbx\" ><span class=\"plain rtl  \" ><span class=\"plain rtl  \" ><span class=\"h\">זֶ֔רַע </span></span></span></span></span></td></tr>\n",
       "<tr class=\"tf\"><td class=\"tf\">7</td><td class=\"tf\"> <a href=\"https://shebanq.ancient-data.org/hebrew/text?book=Genesis&amp;chapter=1&amp;verse=12&amp;version=2017&amp;mr=m&amp;qw=q&amp;tp=txt_p&amp;tr=hb&amp;wget=v&amp;qget=v&amp;nget=vt\" title=\"show this passage in SHEBANQ\" sec=\"Genesis 1:12\">Genesis 1:12</a></td><td class=\"tf\"><a href=\"https://shebanq.ancient-data.org/hebrew/text?book=Genesis&amp;chapter=1&amp;verse=12&amp;version=2017&amp;mr=m&amp;qw=q&amp;tp=txt_p&amp;tr=hb&amp;wget=v&amp;qget=v&amp;nget=vt\" title=\"Genesis 1:12\" sec=\"Genesis 1:12\"><span class=\"plain outer  rtl \"><span class=\"plain rtl  hlbx\" ><span class=\"plain rtl  \" ><span class=\"plain rtl  hlbx\" ><span class=\"plain rtl  \" ><span class=\"plain rtl  \" ><span class=\"h\">כִּי־</span></span></span></span><span class=\"plain rtl  hlbx\" ><span class=\"plain rtl  \" ><span class=\"plain rtl  \" ><span class=\"h\">טֹֽוב׃ </span></span></span></span></span></span></span></a></td><td class=\"tf\"><span class=\"plain outer  rtl \"><span class=\"plain rtl  hlbx\" ><span class=\"plain rtl  \" ><span class=\"plain rtl  \" ><span class=\"h\">כִּי־</span></span></span></span></span></td><td class=\"tf\"><span class=\"plain outer  rtl \"><span class=\"plain rtl  hlbx\" ><span class=\"plain rtl  \" ><span class=\"plain rtl  \" ><span class=\"h\">טֹֽוב׃ </span></span></span></span></span></td></tr>\n",
       "<tr class=\"tf\"><td class=\"tf\">8</td><td class=\"tf\"> <a href=\"https://shebanq.ancient-data.org/hebrew/text?book=Genesis&amp;chapter=1&amp;verse=14&amp;version=2017&amp;mr=m&amp;qw=q&amp;tp=txt_p&amp;tr=hb&amp;wget=v&amp;qget=v&amp;nget=vt\" title=\"show this passage in SHEBANQ\" sec=\"Genesis 1:14\">Genesis 1:14</a></td><td class=\"tf\"><a href=\"https://shebanq.ancient-data.org/hebrew/text?book=Genesis&amp;chapter=1&amp;verse=14&amp;version=2017&amp;mr=m&amp;qw=q&amp;tp=txt_p&amp;tr=hb&amp;wget=v&amp;qget=v&amp;nget=vt\" title=\"Genesis 1:14\" sec=\"Genesis 1:14\"><span class=\"plain outer  rtl \"><span class=\"plain rtl  hlbx\" ><span class=\"plain rtl  \" ><span class=\"plain rtl  hlbx\" ><span class=\"plain rtl  \" ><span class=\"plain rtl  \" ><span class=\"h\">לְ</span></span><span class=\"plain rtl  \" ><span class=\"h\">הַבְדִּ֕יל </span></span></span></span><span class=\"plain rtl  hlbx\" ><span class=\"plain rtl  \" ><span class=\"plain rtl  \" ><span class=\"h\">בֵּ֥ין </span></span><span class=\"plain rtl  \" ><span class=\"h\">הַ</span></span><span class=\"plain rtl  \" ><span class=\"h\">יֹּ֖ום </span></span><span class=\"plain rtl  \" ><span class=\"h\">וּ</span></span><span class=\"plain rtl  \" ><span class=\"h\">בֵ֣ין </span></span><span class=\"plain rtl  \" ><span class=\"h\">הַ</span></span><span class=\"plain rtl  \" ><span class=\"h\">לָּ֑יְלָה </span></span></span></span></span></span></span></a></td><td class=\"tf\"><span class=\"plain outer  rtl \"><span class=\"plain rtl  hlbx\" ><span class=\"plain rtl  \" ><span class=\"plain rtl  \" ><span class=\"h\">לְ</span></span><span class=\"plain rtl  \" ><span class=\"h\">הַבְדִּ֕יל </span></span></span></span></span></td><td class=\"tf\"><span class=\"plain outer  rtl \"><span class=\"plain rtl  hlbx\" ><span class=\"plain rtl  \" ><span class=\"plain rtl  \" ><span class=\"h\">בֵּ֥ין </span></span><span class=\"plain rtl  \" ><span class=\"h\">הַ</span></span><span class=\"plain rtl  \" ><span class=\"h\">יֹּ֖ום </span></span><span class=\"plain rtl  \" ><span class=\"h\">וּ</span></span><span class=\"plain rtl  \" ><span class=\"h\">בֵ֣ין </span></span><span class=\"plain rtl  \" ><span class=\"h\">הַ</span></span><span class=\"plain rtl  \" ><span class=\"h\">לָּ֑יְלָה </span></span></span></span></span></td></tr>\n",
       "<tr class=\"tf\"><td class=\"tf\">9</td><td class=\"tf\"> <a href=\"https://shebanq.ancient-data.org/hebrew/text?book=Genesis&amp;chapter=1&amp;verse=15&amp;version=2017&amp;mr=m&amp;qw=q&amp;tp=txt_p&amp;tr=hb&amp;wget=v&amp;qget=v&amp;nget=vt\" title=\"show this passage in SHEBANQ\" sec=\"Genesis 1:15\">Genesis 1:15</a></td><td class=\"tf\"><a href=\"https://shebanq.ancient-data.org/hebrew/text?book=Genesis&amp;chapter=1&amp;verse=15&amp;version=2017&amp;mr=m&amp;qw=q&amp;tp=txt_p&amp;tr=hb&amp;wget=v&amp;qget=v&amp;nget=vt\" title=\"Genesis 1:15\" sec=\"Genesis 1:15\"><span class=\"plain outer  rtl \"><span class=\"plain rtl  hlbx\" ><span class=\"plain rtl  \" ><span class=\"plain rtl  hlbx\" ><span class=\"plain rtl  \" ><span class=\"plain rtl  \" ><span class=\"h\">לְ</span></span><span class=\"plain rtl  \" ><span class=\"h\">הָאִ֖יר </span></span></span></span><span class=\"plain rtl  hlbx\" ><span class=\"plain rtl  \" ><span class=\"plain rtl  \" ><span class=\"h\">עַל־</span></span><span class=\"plain rtl  \" ><span class=\"h\">הָ</span></span><span class=\"plain rtl  \" ><span class=\"h\">אָ֑רֶץ </span></span></span></span></span></span></span></a></td><td class=\"tf\"><span class=\"plain outer  rtl \"><span class=\"plain rtl  hlbx\" ><span class=\"plain rtl  \" ><span class=\"plain rtl  \" ><span class=\"h\">לְ</span></span><span class=\"plain rtl  \" ><span class=\"h\">הָאִ֖יר </span></span></span></span></span></td><td class=\"tf\"><span class=\"plain outer  rtl \"><span class=\"plain rtl  hlbx\" ><span class=\"plain rtl  \" ><span class=\"plain rtl  \" ><span class=\"h\">עַל־</span></span><span class=\"plain rtl  \" ><span class=\"h\">הָ</span></span><span class=\"plain rtl  \" ><span class=\"h\">אָ֑רֶץ </span></span></span></span></span></td></tr>\n",
       "<tr class=\"tf\"><td class=\"tf\">10</td><td class=\"tf\"> <a href=\"https://shebanq.ancient-data.org/hebrew/text?book=Genesis&amp;chapter=1&amp;verse=17&amp;version=2017&amp;mr=m&amp;qw=q&amp;tp=txt_p&amp;tr=hb&amp;wget=v&amp;qget=v&amp;nget=vt\" title=\"show this passage in SHEBANQ\" sec=\"Genesis 1:17\">Genesis 1:17</a></td><td class=\"tf\"><a href=\"https://shebanq.ancient-data.org/hebrew/text?book=Genesis&amp;chapter=1&amp;verse=17&amp;version=2017&amp;mr=m&amp;qw=q&amp;tp=txt_p&amp;tr=hb&amp;wget=v&amp;qget=v&amp;nget=vt\" title=\"Genesis 1:17\" sec=\"Genesis 1:17\"><span class=\"plain outer  rtl \"><span class=\"plain rtl  hlbx\" ><span class=\"plain rtl  \" ><span class=\"plain rtl  hlbx\" ><span class=\"plain rtl  \" ><span class=\"plain rtl  \" ><span class=\"h\">לְ</span></span><span class=\"plain rtl  \" ><span class=\"h\">הָאִ֖יר </span></span></span></span><span class=\"plain rtl  hlbx\" ><span class=\"plain rtl  \" ><span class=\"plain rtl  \" ><span class=\"h\">עַל־</span></span><span class=\"plain rtl  \" ><span class=\"h\">הָ</span></span><span class=\"plain rtl  \" ><span class=\"h\">אָֽרֶץ׃ </span></span></span></span></span></span></span></a></td><td class=\"tf\"><span class=\"plain outer  rtl \"><span class=\"plain rtl  hlbx\" ><span class=\"plain rtl  \" ><span class=\"plain rtl  \" ><span class=\"h\">לְ</span></span><span class=\"plain rtl  \" ><span class=\"h\">הָאִ֖יר </span></span></span></span></span></td><td class=\"tf\"><span class=\"plain outer  rtl \"><span class=\"plain rtl  hlbx\" ><span class=\"plain rtl  \" ><span class=\"plain rtl  \" ><span class=\"h\">עַל־</span></span><span class=\"plain rtl  \" ><span class=\"h\">הָ</span></span><span class=\"plain rtl  \" ><span class=\"h\">אָֽרֶץ׃ </span></span></span></span></span></td></tr></table>"
      ],
      "text/plain": [
       "<IPython.core.display.HTML object>"
      ]
     },
     "metadata": {},
     "output_type": "display_data"
    }
   ],
   "source": [
    "results = A.search(query)\n",
    "A.table(results, end=10)"
   ]
  },
  {
   "cell_type": "markdown",
   "metadata": {},
   "source": [
    "If we want to have the clauses only, we run it in shallow mode:"
   ]
  },
  {
   "cell_type": "code",
   "execution_count": 86,
   "metadata": {},
   "outputs": [
    {
     "name": "stdout",
     "output_type": "stream",
     "text": [
      "  1.17s 23483 results\n"
     ]
    }
   ],
   "source": [
    "clausesByQuery = sorted(A.search(query, shallow=True))"
   ]
  },
  {
   "cell_type": "markdown",
   "metadata": {},
   "source": [
    "#### By hand\n",
    "\n",
    "Let us check this with a piece of hand-written code.\n",
    "We want clauses that consist of exactly two phrases."
   ]
  },
  {
   "cell_type": "code",
   "execution_count": 87,
   "metadata": {
    "ExecuteTime": {
     "end_time": "2018-05-24T08:56:12.592108Z",
     "start_time": "2018-05-24T08:56:11.096022Z"
    }
   },
   "outputs": [
    {
     "name": "stdout",
     "output_type": "stream",
     "text": [
      "  0.00s counting ...\n",
      "  0.60s Done: found 23862\n"
     ]
    }
   ],
   "source": [
    "indent(reset=True)\n",
    "info('counting ...')\n",
    "\n",
    "clausesByHand = []\n",
    "for clause in F.otype.s('clause'):\n",
    "    phrases = L.d(clause, otype='phrase')\n",
    "    if len(phrases) == 2:\n",
    "        clausesByHand.append(clause)\n",
    "clausesByHand = sorted(clausesByHand)\n",
    "info(f'Done: found {len(clausesByHand)}')"
   ]
  },
  {
   "cell_type": "markdown",
   "metadata": {},
   "source": [
    "#### The difference"
   ]
  },
  {
   "cell_type": "markdown",
   "metadata": {},
   "source": [
    "Strange, we end up with more cases. What is happening? Let us compare the results.\n",
    "We look at the first result where both methods diverge.\n",
    "\n",
    "We put the difference finding in a little function."
   ]
  },
  {
   "cell_type": "code",
   "execution_count": 89,
   "metadata": {
    "ExecuteTime": {
     "end_time": "2018-05-24T08:56:16.255454Z",
     "start_time": "2018-05-24T08:56:16.244135Z"
    }
   },
   "outputs": [],
   "source": [
    "def showDiff(queryResults, handResults):\n",
    "    diff = [x for x in zip(queryResults, handResults) if x[0] != x[1]]\n",
    "    if not diff:\n",
    "        print(f'''\n",
    "{len(queryResults):>6} queryResults\n",
    "         are identical with\n",
    "{len(handResults):>6} handResults\n",
    "''')\n",
    "        return\n",
    "    (rQuery, rHand) = diff[0]\n",
    "    if rQuery < rHand:\n",
    "        print(f'clause {rQuery} is a query result but not found by hand')\n",
    "        toShow = rQuery\n",
    "    else:\n",
    "        print(f'clause {rHand} is not a query result but has been found by hand')\n",
    "        toShow = rHand\n",
    "    colors = ['aqua', 'aquamarine', 'khaki', 'lavender', 'yellow']\n",
    "    highlights = {}\n",
    "    for (i, phrase) in enumerate(L.d(toShow, otype='phrase')):\n",
    "        highlights[phrase] = colors[i % len(colors)]\n",
    "        # for atom in L.d(phrase, otype='phrase_atom'):\n",
    "        #     highlights[atom] = colors[i % len(colors)]\n",
    "    A.pretty(toShow, withNodes=True, suppress={'lex', 'sp', 'vt', 'vs'}, highlights=highlights, baseType=\"phrase_atom\")"
   ]
  },
  {
   "cell_type": "code",
   "execution_count": 90,
   "metadata": {
    "ExecuteTime": {
     "end_time": "2018-05-24T08:56:16.255454Z",
     "start_time": "2018-05-24T08:56:16.244135Z"
    }
   },
   "outputs": [
    {
     "name": "stdout",
     "output_type": "stream",
     "text": [
      "clause 427931 is not a query result but has been found by hand\n"
     ]
    },
    {
     "data": {
      "text/html": [
       "<a href=\"https://shebanq.ancient-data.org/hebrew/text?book=Genesis&amp;chapter=4&amp;verse=14&amp;version=2017&amp;mr=m&amp;qw=q&amp;tp=txt_p&amp;tr=hb&amp;wget=v&amp;qget=v&amp;nget=vt\" title=\"show this passage in SHEBANQ\" sec=\"Genesis 4:14\">Genesis 4:14</a><div class=\"outeritem\"><div class=\"atoms  \" ><span class=\"nd\">427931</span><div class=\"catom  l \" >\n",
       "        <div class=\"clause \" >\n",
       "            <a href=\"https://shebanq.ancient-data.org/hebrew/text?book=Genesis&amp;chapter=4&amp;verse=14&amp;version=2017&amp;mr=m&amp;qw=q&amp;tp=txt_p&amp;tr=hb&amp;wget=v&amp;qget=v&amp;nget=vt\" title=\"Genesis 4:14\" sec=\"Genesis 4:14\">clause</a> <span class=\"nd\">427931</span>  <span class=\"typ\">XYqt|Defc</span>\n",
       "        </div>\n",
       "        <div class=\"atoms\">\n",
       "                    <div class=\"patom  hl\"  style=\"background-color: aqua;\" >\n",
       "        <div class=\"phrase hl\"  style=\"background-color: aqua;\" >\n",
       "            <a href=\"https://shebanq.ancient-data.org/hebrew/text?book=Genesis&amp;chapter=4&amp;verse=14&amp;version=2017&amp;mr=m&amp;qw=q&amp;tp=txt_p&amp;tr=hb&amp;wget=v&amp;qget=v&amp;nget=vt\" title=\"Genesis 4:14\" sec=\"Genesis 4:14\">phrase</a> <span class=\"nd\">652631</span>  <span class=\"function\">Subj</span> <span class=\"typ\">NP</span>\n",
       "        </div>\n",
       "        <div class=\"atoms\">\n",
       "                    <span class=\"plain outer  rtl  \" ><span class=\"plain nd\">905859</span><span class=\"plain rtl  \" ><span class=\"h\">כָל־</span></span></span></div></div></div></div><div class=\"catom  r \" >\n",
       "        <div class=\"clause \" >\n",
       "            <a href=\"https://shebanq.ancient-data.org/hebrew/text?book=Genesis&amp;chapter=4&amp;verse=14&amp;version=2017&amp;mr=m&amp;qw=q&amp;tp=txt_p&amp;tr=hb&amp;wget=v&amp;qget=v&amp;nget=vt\" title=\"Genesis 4:14\" sec=\"Genesis 4:14\">clause</a> <span class=\"nd\">427931</span>  <span class=\"typ\">XYqt|ZYq0</span>\n",
       "        </div>\n",
       "        <div class=\"atoms\">\n",
       "                    <div class=\"patom  hl\"  style=\"background-color: aquamarine;\" >\n",
       "        <div class=\"phrase hl\"  style=\"background-color: aquamarine;\" >\n",
       "            <a href=\"https://shebanq.ancient-data.org/hebrew/text?book=Genesis&amp;chapter=4&amp;verse=14&amp;version=2017&amp;mr=m&amp;qw=q&amp;tp=txt_p&amp;tr=hb&amp;wget=v&amp;qget=v&amp;nget=vt\" title=\"Genesis 4:14\" sec=\"Genesis 4:14\">phrase</a> <span class=\"nd\">652633</span>  <span class=\"function\">PreO</span> <span class=\"typ\">VP</span>\n",
       "        </div>\n",
       "        <div class=\"atoms\">\n",
       "                    <span class=\"plain outer  rtl  \" ><span class=\"plain nd\">905861</span><span class=\"plain rtl  \" ><span class=\"h\">יַֽהַרְגֵֽנִי׃ </span></span></span></div></div></div></div></div></div>"
      ],
      "text/plain": [
       "<IPython.core.display.HTML object>"
      ]
     },
     "metadata": {},
     "output_type": "display_data"
    }
   ],
   "source": [
    "showDiff(clausesByQuery, clausesByHand)"
   ]
  },
  {
   "cell_type": "markdown",
   "metadata": {},
   "source": [
    "Lo and behold:\n",
    "\n",
    "* the hand-written code is right in a sense: this is a clause that consists exactly of two phrases.\n",
    "* the query is also right in a sense: the two phrases are not adjacent: there is a gap in the clause between them!"
   ]
  },
  {
   "cell_type": "markdown",
   "metadata": {},
   "source": [
    "### Attempt 2\n",
    "\n",
    "#### By hand\n",
    "\n",
    "We modify the hand-written code such that only clauses qualify if the two phrases are adjacent."
   ]
  },
  {
   "cell_type": "code",
   "execution_count": 91,
   "metadata": {
    "ExecuteTime": {
     "end_time": "2018-05-24T08:56:12.592108Z",
     "start_time": "2018-05-24T08:56:11.096022Z"
    }
   },
   "outputs": [
    {
     "name": "stdout",
     "output_type": "stream",
     "text": [
      "  0.00s counting ...\n",
      "  0.71s Done: found 23399\n"
     ]
    }
   ],
   "source": [
    "indent(reset=True)\n",
    "info('counting ...')\n",
    "\n",
    "clausesByHand2 = []\n",
    "for clause in F.otype.s('clause'):\n",
    "    phrases = L.d(clause, otype='phrase')\n",
    "    if len(phrases) == 2:\n",
    "        if L.d(phrases[0], otype='word')[-1] + 1 == L.d(phrases[1], otype='word')[0]:\n",
    "            clausesByHand2.append(clause)\n",
    "clausesByHand2 = sorted(clausesByHand2)\n",
    "info(f'Done: found {len(clausesByHand2)}')"
   ]
  },
  {
   "cell_type": "markdown",
   "metadata": {},
   "source": [
    "#### The difference\n",
    "\n",
    "Now we have less cases. What is going on?"
   ]
  },
  {
   "cell_type": "code",
   "execution_count": 92,
   "metadata": {
    "ExecuteTime": {
     "end_time": "2018-05-24T08:56:16.255454Z",
     "start_time": "2018-05-24T08:56:16.244135Z"
    }
   },
   "outputs": [
    {
     "name": "stdout",
     "output_type": "stream",
     "text": [
      "clause 428692 is a query result but not found by hand\n"
     ]
    },
    {
     "data": {
      "text/html": [
       "<a href=\"https://shebanq.ancient-data.org/hebrew/text?book=Genesis&amp;chapter=14&amp;verse=16&amp;version=2017&amp;mr=m&amp;qw=q&amp;tp=txt_p&amp;tr=hb&amp;wget=v&amp;qget=v&amp;nget=vt\" title=\"show this passage in SHEBANQ\" sec=\"Genesis 14:16\">Genesis 14:16</a><div class=\"outeritem\"><div class=\"atoms  \" ><span class=\"nd\">428692</span><div class=\"catom  \" >\n",
       "        <div class=\"clause \" >\n",
       "            <a href=\"https://shebanq.ancient-data.org/hebrew/text?book=Genesis&amp;chapter=14&amp;verse=16&amp;version=2017&amp;mr=m&amp;qw=q&amp;tp=txt_p&amp;tr=hb&amp;wget=v&amp;qget=v&amp;nget=vt\" title=\"Genesis 14:16\" sec=\"Genesis 14:16\">clause</a> <span class=\"nd\">428692</span>  <span class=\"typ\">WxQ0</span>\n",
       "        </div>\n",
       "        <div class=\"atoms\">\n",
       "                    <div class=\"patom  hl\"  style=\"background-color: aqua;\" >\n",
       "        <div class=\"phrase hl\"  style=\"background-color: aqua;\" >\n",
       "            <a href=\"https://shebanq.ancient-data.org/hebrew/text?book=Genesis&amp;chapter=14&amp;verse=16&amp;version=2017&amp;mr=m&amp;qw=q&amp;tp=txt_p&amp;tr=hb&amp;wget=v&amp;qget=v&amp;nget=vt\" title=\"Genesis 14:16\" sec=\"Genesis 14:16\">phrase</a> <span class=\"nd\">655060</span>  <span class=\"function\">Conj</span> <span class=\"typ\">CP</span>\n",
       "        </div>\n",
       "        <div class=\"atoms\">\n",
       "                    <span class=\"plain outer  rtl  \" ><span class=\"plain nd\">908437</span><span class=\"plain rtl  \" ><span class=\"h\">וְ</span></span></span></div></div><div class=\"patom  l hl\"  style=\"background-color: aquamarine;\" >\n",
       "        <div class=\"phrase hl\"  style=\"background-color: aquamarine;\" >\n",
       "            <a href=\"https://shebanq.ancient-data.org/hebrew/text?book=Genesis&amp;chapter=14&amp;verse=16&amp;version=2017&amp;mr=m&amp;qw=q&amp;tp=txt_p&amp;tr=hb&amp;wget=v&amp;qget=v&amp;nget=vt\" title=\"Genesis 14:16\" sec=\"Genesis 14:16\">phrase</a> <span class=\"nd\">655061</span>  <span class=\"function\">Objc</span> <span class=\"typ\">PP</span>\n",
       "        </div>\n",
       "        <div class=\"atoms\">\n",
       "                    <span class=\"plain outer  rtl  \" ><span class=\"plain nd\">908438</span><span class=\"plain rtl  \" ><span class=\"h\">גַם֩ </span></span><span class=\"plain rtl  \" ><span class=\"h\">אֶת־</span></span><span class=\"plain rtl  \" ><span class=\"h\">לֹ֨וט </span></span></span></div></div><div class=\"patom  r l hl\"  style=\"background-color: aquamarine;\" >\n",
       "        <div class=\"phrase hl\"  style=\"background-color: aquamarine;\" >\n",
       "            <a href=\"https://shebanq.ancient-data.org/hebrew/text?book=Genesis&amp;chapter=14&amp;verse=16&amp;version=2017&amp;mr=m&amp;qw=q&amp;tp=txt_p&amp;tr=hb&amp;wget=v&amp;qget=v&amp;nget=vt\" title=\"Genesis 14:16\" sec=\"Genesis 14:16\">phrase</a> <span class=\"nd\">655061</span>  <span class=\"function\">Objc</span> <span class=\"typ\">PP|NP</span>\n",
       "        </div>\n",
       "        <div class=\"atoms\">\n",
       "                    <span class=\"plain outer  rtl  \" ><span class=\"plain nd\">908439</span><span class=\"plain rtl  \" ><span class=\"h\">אָחִ֤יו </span></span></span></div></div><div class=\"patom  r l hl\"  style=\"background-color: aquamarine;\" >\n",
       "        <div class=\"phrase hl\"  style=\"background-color: aquamarine;\" >\n",
       "            <a href=\"https://shebanq.ancient-data.org/hebrew/text?book=Genesis&amp;chapter=14&amp;verse=16&amp;version=2017&amp;mr=m&amp;qw=q&amp;tp=txt_p&amp;tr=hb&amp;wget=v&amp;qget=v&amp;nget=vt\" title=\"Genesis 14:16\" sec=\"Genesis 14:16\">phrase</a> <span class=\"nd\">655061</span>  <span class=\"function\">Objc</span> <span class=\"typ\">PP|CP</span>\n",
       "        </div>\n",
       "        <div class=\"atoms\">\n",
       "                    <span class=\"plain outer  rtl  \" ><span class=\"plain nd\">908440</span><span class=\"plain rtl  \" ><span class=\"h\">וּ</span></span></span></div></div><div class=\"patom  r l hl\"  style=\"background-color: aquamarine;\" >\n",
       "        <div class=\"phrase hl\"  style=\"background-color: aquamarine;\" >\n",
       "            <a href=\"https://shebanq.ancient-data.org/hebrew/text?book=Genesis&amp;chapter=14&amp;verse=16&amp;version=2017&amp;mr=m&amp;qw=q&amp;tp=txt_p&amp;tr=hb&amp;wget=v&amp;qget=v&amp;nget=vt\" title=\"Genesis 14:16\" sec=\"Genesis 14:16\">phrase</a> <span class=\"nd\">655061</span>  <span class=\"function\">Objc</span> <span class=\"typ\">PP|NP</span>\n",
       "        </div>\n",
       "        <div class=\"atoms\">\n",
       "                    <span class=\"plain outer  rtl  \" ><span class=\"plain nd\">908441</span><span class=\"plain rtl  \" ><span class=\"h\">רְכֻשֹׁו֙ </span></span></span></div></div><div class=\"patom  hl\"  style=\"background-color: khaki;\" >\n",
       "        <div class=\"phrase hl\"  style=\"background-color: khaki;\" >\n",
       "            <a href=\"https://shebanq.ancient-data.org/hebrew/text?book=Genesis&amp;chapter=14&amp;verse=16&amp;version=2017&amp;mr=m&amp;qw=q&amp;tp=txt_p&amp;tr=hb&amp;wget=v&amp;qget=v&amp;nget=vt\" title=\"Genesis 14:16\" sec=\"Genesis 14:16\">phrase</a> <span class=\"nd\">655062</span>  <span class=\"function\">Pred</span> <span class=\"typ\">VP</span>\n",
       "        </div>\n",
       "        <div class=\"atoms\">\n",
       "                    <span class=\"plain outer  rtl  \" ><span class=\"plain nd\">908442</span><span class=\"plain rtl  \" ><span class=\"h\">הֵשִׁ֔יב </span></span></span></div></div><div class=\"patom  r l hl\"  style=\"background-color: aquamarine;\" >\n",
       "        <div class=\"phrase hl\"  style=\"background-color: aquamarine;\" >\n",
       "            <a href=\"https://shebanq.ancient-data.org/hebrew/text?book=Genesis&amp;chapter=14&amp;verse=16&amp;version=2017&amp;mr=m&amp;qw=q&amp;tp=txt_p&amp;tr=hb&amp;wget=v&amp;qget=v&amp;nget=vt\" title=\"Genesis 14:16\" sec=\"Genesis 14:16\">phrase</a> <span class=\"nd\">655061</span>  <span class=\"function\">Objc</span> <span class=\"typ\">PP|CP</span>\n",
       "        </div>\n",
       "        <div class=\"atoms\">\n",
       "                    <span class=\"plain outer  rtl  \" ><span class=\"plain nd\">908443</span><span class=\"plain rtl  \" ><span class=\"h\">וְ</span></span></span></div></div><div class=\"patom  r hl\"  style=\"background-color: aquamarine;\" >\n",
       "        <div class=\"phrase hl\"  style=\"background-color: aquamarine;\" >\n",
       "            <a href=\"https://shebanq.ancient-data.org/hebrew/text?book=Genesis&amp;chapter=14&amp;verse=16&amp;version=2017&amp;mr=m&amp;qw=q&amp;tp=txt_p&amp;tr=hb&amp;wget=v&amp;qget=v&amp;nget=vt\" title=\"Genesis 14:16\" sec=\"Genesis 14:16\">phrase</a> <span class=\"nd\">655061</span>  <span class=\"function\">Objc</span> <span class=\"typ\">PP</span>\n",
       "        </div>\n",
       "        <div class=\"atoms\">\n",
       "                    <span class=\"plain outer  rtl  \" ><span class=\"plain nd\">908444</span><span class=\"plain rtl  \" ><span class=\"h\">גַ֥ם </span></span><span class=\"plain rtl  \" ><span class=\"h\">אֶת־</span></span><span class=\"plain rtl  \" ><span class=\"h\">הַ</span></span><span class=\"plain rtl  \" ><span class=\"h\">נָּשִׁ֖ים </span></span><span class=\"plain rtl  \" ><span class=\"h\">וְ</span></span><span class=\"plain rtl  \" ><span class=\"h\">אֶת־</span></span><span class=\"plain rtl  \" ><span class=\"h\">הָ</span></span><span class=\"plain rtl  \" ><span class=\"h\">עָֽם׃ </span></span></span></div></div></div></div></div></div>"
      ],
      "text/plain": [
       "<IPython.core.display.HTML object>"
      ]
     },
     "metadata": {},
     "output_type": "display_data"
    }
   ],
   "source": [
    "showDiff(clausesByQuery, clausesByHand2)"
   ]
  },
  {
   "cell_type": "markdown",
   "metadata": {},
   "source": [
    "Observe:\n",
    "\n",
    "This clause has three phrases, but the third one lies inside the second one.\n",
    "\n",
    "* the hand-written code is right in a sense: this clause has three phrases.\n",
    "* the query is right in a sense: it contains two adjacent phrases that together span the whole clause."
   ]
  },
  {
   "cell_type": "markdown",
   "metadata": {},
   "source": [
    "### Attempt 3\n",
    "\n",
    "#### By query\n",
    "\n",
    "Can we adjust the pattern to exclude cases like this? \n",
    "Yes, with custom sets, see [advanced](searchAdvanced.ipynb).\n",
    "\n",
    "Instead of looking through all phrases, we can just consider non gapped phrases only.\n",
    "\n",
    "Earlier in this notebook we have constructed the set of non-gapped phrases\n",
    "and put it under the name `conphrase` in the custom sets."
   ]
  },
  {
   "cell_type": "code",
   "execution_count": 93,
   "metadata": {},
   "outputs": [
    {
     "name": "stdout",
     "output_type": "stream",
     "text": [
      "  1.24s 23327 results\n"
     ]
    }
   ],
   "source": [
    "query = '''\n",
    "clause\n",
    "    =: conphrase\n",
    "    <: conphrase\n",
    "    :=\n",
    "'''\n",
    "\n",
    "clausesByQuery2 = sorted(A.search(query, sets=customSets, shallow=True))"
   ]
  },
  {
   "cell_type": "markdown",
   "metadata": {},
   "source": [
    "#### The difference\n",
    "\n",
    "There is still a difference."
   ]
  },
  {
   "cell_type": "code",
   "execution_count": 94,
   "metadata": {
    "ExecuteTime": {
     "end_time": "2018-05-24T08:56:16.255454Z",
     "start_time": "2018-05-24T08:56:16.244135Z"
    }
   },
   "outputs": [
    {
     "name": "stdout",
     "output_type": "stream",
     "text": [
      "clause 428374 is not a query result but has been found by hand\n"
     ]
    },
    {
     "data": {
      "text/html": [
       "<a href=\"https://shebanq.ancient-data.org/hebrew/text?book=Genesis&amp;chapter=10&amp;verse=14&amp;version=2017&amp;mr=m&amp;qw=q&amp;tp=txt_p&amp;tr=hb&amp;wget=v&amp;qget=v&amp;nget=vt\" title=\"show this passage in SHEBANQ\" sec=\"Genesis 10:14\">Genesis 10:14</a><div class=\"outeritem\"><div class=\"atoms  \" ><span class=\"nd\">428374</span><div class=\"catom  l \" >\n",
       "        <div class=\"clause \" >\n",
       "            <a href=\"https://shebanq.ancient-data.org/hebrew/text?book=Genesis&amp;chapter=10&amp;verse=14&amp;version=2017&amp;mr=m&amp;qw=q&amp;tp=txt_p&amp;tr=hb&amp;wget=v&amp;qget=v&amp;nget=vt\" title=\"Genesis 10:14\" sec=\"Genesis 10:14\">clause</a> <span class=\"nd\">428374</span>  <span class=\"typ\">Ellp</span>\n",
       "        </div>\n",
       "        <div class=\"atoms\">\n",
       "                    <div class=\"patom  hl\"  style=\"background-color: aqua;\" >\n",
       "        <div class=\"phrase hl\"  style=\"background-color: aqua;\" >\n",
       "            <a href=\"https://shebanq.ancient-data.org/hebrew/text?book=Genesis&amp;chapter=10&amp;verse=14&amp;version=2017&amp;mr=m&amp;qw=q&amp;tp=txt_p&amp;tr=hb&amp;wget=v&amp;qget=v&amp;nget=vt\" title=\"Genesis 10:14\" sec=\"Genesis 10:14\">phrase</a> <span class=\"nd\">654063</span>  <span class=\"function\">Conj</span> <span class=\"typ\">CP</span>\n",
       "        </div>\n",
       "        <div class=\"atoms\">\n",
       "                    <span class=\"plain outer  rtl  \" ><span class=\"plain nd\">907362</span><span class=\"plain rtl  \" ><span class=\"h\">וְֽ</span></span></span></div></div><div class=\"patom  l hl\"  style=\"background-color: aquamarine;\" >\n",
       "        <div class=\"phrase hl\"  style=\"background-color: aquamarine;\" >\n",
       "            <a href=\"https://shebanq.ancient-data.org/hebrew/text?book=Genesis&amp;chapter=10&amp;verse=14&amp;version=2017&amp;mr=m&amp;qw=q&amp;tp=txt_p&amp;tr=hb&amp;wget=v&amp;qget=v&amp;nget=vt\" title=\"Genesis 10:14\" sec=\"Genesis 10:14\">phrase</a> <span class=\"nd\">654064</span>  <span class=\"function\">Objc</span> <span class=\"typ\">PP</span>\n",
       "        </div>\n",
       "        <div class=\"atoms\">\n",
       "                    <span class=\"plain outer  rtl  \" ><span class=\"plain nd\">907363</span><span class=\"plain rtl  \" ><span class=\"h\">אֶת־</span></span><span class=\"plain rtl  \" ><span class=\"h\">פַּתְרֻסִ֞ים </span></span><span class=\"plain rtl  \" ><span class=\"h\">וְ</span></span><span class=\"plain rtl  \" ><span class=\"h\">אֶת־</span></span><span class=\"plain rtl  \" ><span class=\"h\">כַּסְלֻחִ֗ים </span></span></span></div></div></div></div><div class=\"catom  r \" >\n",
       "        <div class=\"clause \" >\n",
       "            <a href=\"https://shebanq.ancient-data.org/hebrew/text?book=Genesis&amp;chapter=10&amp;verse=14&amp;version=2017&amp;mr=m&amp;qw=q&amp;tp=txt_p&amp;tr=hb&amp;wget=v&amp;qget=v&amp;nget=vt\" title=\"Genesis 10:14\" sec=\"Genesis 10:14\">clause</a> <span class=\"nd\">428374</span>  <span class=\"typ\">Ellp|Defc</span>\n",
       "        </div>\n",
       "        <div class=\"atoms\">\n",
       "                    <div class=\"patom  r l hl\"  style=\"background-color: aquamarine;\" >\n",
       "        <div class=\"phrase hl\"  style=\"background-color: aquamarine;\" >\n",
       "            <a href=\"https://shebanq.ancient-data.org/hebrew/text?book=Genesis&amp;chapter=10&amp;verse=14&amp;version=2017&amp;mr=m&amp;qw=q&amp;tp=txt_p&amp;tr=hb&amp;wget=v&amp;qget=v&amp;nget=vt\" title=\"Genesis 10:14\" sec=\"Genesis 10:14\">phrase</a> <span class=\"nd\">654064</span>  <span class=\"function\">Objc</span> <span class=\"typ\">PP|CP</span>\n",
       "        </div>\n",
       "        <div class=\"atoms\">\n",
       "                    <span class=\"plain outer  rtl  \" ><span class=\"plain nd\">907368</span><span class=\"plain rtl  \" ><span class=\"h\">וְ</span></span></span></div></div><div class=\"patom  r hl\"  style=\"background-color: aquamarine;\" >\n",
       "        <div class=\"phrase hl\"  style=\"background-color: aquamarine;\" >\n",
       "            <a href=\"https://shebanq.ancient-data.org/hebrew/text?book=Genesis&amp;chapter=10&amp;verse=14&amp;version=2017&amp;mr=m&amp;qw=q&amp;tp=txt_p&amp;tr=hb&amp;wget=v&amp;qget=v&amp;nget=vt\" title=\"Genesis 10:14\" sec=\"Genesis 10:14\">phrase</a> <span class=\"nd\">654064</span>  <span class=\"function\">Objc</span> <span class=\"typ\">PP</span>\n",
       "        </div>\n",
       "        <div class=\"atoms\">\n",
       "                    <span class=\"plain outer  rtl  \" ><span class=\"plain nd\">907369</span><span class=\"plain rtl  \" ><span class=\"h\">אֶת־</span></span><span class=\"plain rtl  \" ><span class=\"h\">כַּפְתֹּרִֽים׃ ס </span></span></span></div></div></div></div></div></div>"
      ],
      "text/plain": [
       "<IPython.core.display.HTML object>"
      ]
     },
     "metadata": {},
     "output_type": "display_data"
    }
   ],
   "source": [
    "showDiff(clausesByQuery2, clausesByHand2)"
   ]
  },
  {
   "cell_type": "markdown",
   "metadata": {},
   "source": [
    "Observe:\n",
    "\n",
    "This clause has two phrases, the second one has a gap, which coincides with a gap in the clause.\n",
    "\n",
    "* the hand-written code is right in a sense: this clause has two phrases, adjacent, and they span the whole clause, nothing left out.\n",
    "* the query is right in a sense: the second phrase is not consecutive."
   ]
  },
  {
   "cell_type": "markdown",
   "metadata": {},
   "source": [
    "### Attempt 4\n",
    "\n",
    "#### By hand\n",
    "\n",
    "We modify the hand-written code, so that only consecutive clauses qualify."
   ]
  },
  {
   "cell_type": "code",
   "execution_count": 95,
   "metadata": {
    "ExecuteTime": {
     "end_time": "2018-05-24T08:56:12.592108Z",
     "start_time": "2018-05-24T08:56:11.096022Z"
    }
   },
   "outputs": [
    {
     "name": "stdout",
     "output_type": "stream",
     "text": [
      "  0.00s counting ...\n",
      "  0.97s Done: found 23327\n"
     ]
    }
   ],
   "source": [
    "indent(reset=True)\n",
    "info('counting ...')\n",
    "\n",
    "clausesByHand3 = []\n",
    "for clause in F.otype.s('clause'):\n",
    "    if hasGap(clause):\n",
    "        continue\n",
    "    phrases = L.d(clause, otype='phrase')\n",
    "    if len(phrases) == 2:\n",
    "        if L.d(phrases[0], otype='word')[-1] + 1 == L.d(phrases[1], otype='word')[0]:\n",
    "            clausesByHand3.append(clause)\n",
    "clausesByHand3 = sorted(clausesByHand3)\n",
    "info(f'Done: found {len(clausesByHand3)}')"
   ]
  },
  {
   "cell_type": "markdown",
   "metadata": {},
   "source": [
    "#### The difference\n",
    "\n",
    "Now the number of results agree. But are they really the same?"
   ]
  },
  {
   "cell_type": "code",
   "execution_count": 96,
   "metadata": {
    "ExecuteTime": {
     "end_time": "2018-05-24T08:56:16.255454Z",
     "start_time": "2018-05-24T08:56:16.244135Z"
    }
   },
   "outputs": [
    {
     "name": "stdout",
     "output_type": "stream",
     "text": [
      "\n",
      " 23327 queryResults\n",
      "         are identical with\n",
      " 23327 handResults\n",
      "\n"
     ]
    }
   ],
   "source": [
    "showDiff(clausesByQuery2, clausesByHand3)"
   ]
  },
  {
   "cell_type": "markdown",
   "metadata": {},
   "source": [
    "### Conclusion\n",
    "\n",
    "It took four attempts to arrive at the final concept of things that we were looking for.\n",
    "\n",
    "Sometimes the search template had to be modified, sometimes the hand-written code.\n",
    "\n",
    "The interplay and systematic comparison between the attempts helped to spot all relevant\n",
    "configurations of phrases within clauses."
   ]
  },
  {
   "cell_type": "markdown",
   "metadata": {},
   "source": [
    "# Spans\n",
    "\n",
    "Here is another cause of wrong query results: there are sentences that span multiple verses.\n",
    "Such sentences are not contained in any verse.\n",
    "That makes that they are easily missed out in queries.\n",
    "\n",
    "We describe a scenario where that happens.\n",
    "\n",
    "## Mother clauses\n",
    "\n",
    "A clause and its mother do not have to be in the same verse.\n",
    "We are going to fetch are the cases where they are in different verses.\n",
    "\n",
    "### All mother clauses\n",
    "\n",
    "But first we fetch all pairs of clauses connected by a mother edge."
   ]
  },
  {
   "cell_type": "code",
   "execution_count": 97,
   "metadata": {
    "ExecuteTime": {
     "end_time": "2018-05-24T08:00:06.688698Z",
     "start_time": "2018-05-24T08:00:05.864656Z"
    }
   },
   "outputs": [
    {
     "name": "stdout",
     "output_type": "stream",
     "text": [
      "  0.16s 13907 results\n"
     ]
    },
    {
     "data": {
      "text/html": [
       "<table>\n",
       "<tr class=\"tf\">\n",
       "  <th class=\"tf\">n</th><th class=\"tf\">p</th>\n",
       "  <th class=\"tf\">clause</th><th>phrase</th><th>phrase</th>\n",
       "</tr>\n",
       "\n",
       "<tr class=\"tf\"><td class=\"tf\">1</td><td class=\"tf\"> <a href=\"https://shebanq.ancient-data.org/hebrew/text?book=Genesis&amp;chapter=1&amp;verse=3&amp;version=2017&amp;mr=m&amp;qw=q&amp;tp=txt_p&amp;tr=hb&amp;wget=v&amp;qget=v&amp;nget=vt\" title=\"show this passage in SHEBANQ\" sec=\"Genesis 1:3\">Genesis 1:3</a></td><td class=\"tf\"><a href=\"https://shebanq.ancient-data.org/hebrew/text?book=Genesis&amp;chapter=1&amp;verse=3&amp;version=2017&amp;mr=m&amp;qw=q&amp;tp=txt_p&amp;tr=hb&amp;wget=v&amp;qget=v&amp;nget=vt\" title=\"Genesis 1:3\" sec=\"Genesis 1:3\"><span class=\"plain outer  rtl \"><span class=\"plain rtl  hlbx\" ><span class=\"plain rtl  \" ><span class=\"plain rtl  hlbx\" ><span class=\"plain rtl  \" ><span class=\"plain rtl  \" ><span class=\"h\">יְהִ֣י </span></span></span></span><span class=\"plain rtl  hlbx\" ><span class=\"plain rtl  \" ><span class=\"plain rtl  \" ><span class=\"h\">אֹ֑ור </span></span></span></span></span></span></span></a></td><td class=\"tf\"><span class=\"plain outer  rtl \"><span class=\"plain rtl  hlbx\" ><span class=\"plain rtl  \" ><span class=\"plain rtl  \" ><span class=\"h\">יְהִ֣י </span></span></span></span></span></td><td class=\"tf\"><span class=\"plain outer  rtl \"><span class=\"plain rtl  hlbx\" ><span class=\"plain rtl  \" ><span class=\"plain rtl  \" ><span class=\"h\">אֹ֑ור </span></span></span></span></span></td></tr>\n",
       "<tr class=\"tf\"><td class=\"tf\">2</td><td class=\"tf\"> <a href=\"https://shebanq.ancient-data.org/hebrew/text?book=Genesis&amp;chapter=1&amp;verse=4&amp;version=2017&amp;mr=m&amp;qw=q&amp;tp=txt_p&amp;tr=hb&amp;wget=v&amp;qget=v&amp;nget=vt\" title=\"show this passage in SHEBANQ\" sec=\"Genesis 1:4\">Genesis 1:4</a></td><td class=\"tf\"><a href=\"https://shebanq.ancient-data.org/hebrew/text?book=Genesis&amp;chapter=1&amp;verse=4&amp;version=2017&amp;mr=m&amp;qw=q&amp;tp=txt_p&amp;tr=hb&amp;wget=v&amp;qget=v&amp;nget=vt\" title=\"Genesis 1:4\" sec=\"Genesis 1:4\"><span class=\"plain outer  rtl \"><span class=\"plain rtl  hlbx\" ><span class=\"plain rtl  \" ><span class=\"plain rtl  hlbx\" ><span class=\"plain rtl  \" ><span class=\"plain rtl  \" ><span class=\"h\">כִּי־</span></span></span></span><span class=\"plain rtl  hlbx\" ><span class=\"plain rtl  \" ><span class=\"plain rtl  \" ><span class=\"h\">טֹ֑וב </span></span></span></span></span></span></span></a></td><td class=\"tf\"><span class=\"plain outer  rtl \"><span class=\"plain rtl  hlbx\" ><span class=\"plain rtl  \" ><span class=\"plain rtl  \" ><span class=\"h\">כִּי־</span></span></span></span></span></td><td class=\"tf\"><span class=\"plain outer  rtl \"><span class=\"plain rtl  hlbx\" ><span class=\"plain rtl  \" ><span class=\"plain rtl  \" ><span class=\"h\">טֹ֑וב </span></span></span></span></span></td></tr>\n",
       "<tr class=\"tf\"><td class=\"tf\">3</td><td class=\"tf\"> <a href=\"https://shebanq.ancient-data.org/hebrew/text?book=Genesis&amp;chapter=1&amp;verse=7&amp;version=2017&amp;mr=m&amp;qw=q&amp;tp=txt_p&amp;tr=hb&amp;wget=v&amp;qget=v&amp;nget=vt\" title=\"show this passage in SHEBANQ\" sec=\"Genesis 1:7\">Genesis 1:7</a></td><td class=\"tf\"><a href=\"https://shebanq.ancient-data.org/hebrew/text?book=Genesis&amp;chapter=1&amp;verse=7&amp;version=2017&amp;mr=m&amp;qw=q&amp;tp=txt_p&amp;tr=hb&amp;wget=v&amp;qget=v&amp;nget=vt\" title=\"Genesis 1:7\" sec=\"Genesis 1:7\"><span class=\"plain outer  rtl \"><span class=\"plain rtl  hlbx\" ><span class=\"plain rtl  \" ><span class=\"plain rtl  hlbx\" ><span class=\"plain rtl  \" ><span class=\"plain rtl  \" ><span class=\"h\">אֲשֶׁר֙ </span></span></span></span><span class=\"plain rtl  l hlbx\" ><span class=\"plain rtl  \" ><span class=\"plain rtl  \" ><span class=\"h\">מִ</span></span><span class=\"plain rtl  \" ><span class=\"h\">תַּ֣חַת </span></span></span></span><span class=\"plain rtl  r hlbx\" ><span class=\"plain rtl  \" ><span class=\"plain rtl  \" ><span class=\"h\">לָ</span></span><span class=\"plain rtl  \" ><span class=\"h\"></span></span><span class=\"plain rtl  \" ><span class=\"h\">רָקִ֔יעַ </span></span></span></span></span></span></span></a></td><td class=\"tf\"><span class=\"plain outer  rtl \"><span class=\"plain rtl  hlbx\" ><span class=\"plain rtl  \" ><span class=\"plain rtl  \" ><span class=\"h\">אֲשֶׁר֙ </span></span></span></span></span></td><td class=\"tf\"><span class=\"plain outer  rtl \"><span class=\"plain rtl  l hlbx\" ><span class=\"plain rtl  \" ><span class=\"plain rtl  \" ><span class=\"h\">מִ</span></span><span class=\"plain rtl  \" ><span class=\"h\">תַּ֣חַת </span></span></span></span><span class=\"plain rtl  r hlbx\" ><span class=\"plain rtl  \" ><span class=\"plain rtl  \" ><span class=\"h\">לָ</span></span><span class=\"plain rtl  \" ><span class=\"h\"></span></span><span class=\"plain rtl  \" ><span class=\"h\">רָקִ֔יעַ </span></span></span></span></span></td></tr>\n",
       "<tr class=\"tf\"><td class=\"tf\">4</td><td class=\"tf\"> <a href=\"https://shebanq.ancient-data.org/hebrew/text?book=Genesis&amp;chapter=1&amp;verse=7&amp;version=2017&amp;mr=m&amp;qw=q&amp;tp=txt_p&amp;tr=hb&amp;wget=v&amp;qget=v&amp;nget=vt\" title=\"show this passage in SHEBANQ\" sec=\"Genesis 1:7\">Genesis 1:7</a></td><td class=\"tf\"><a href=\"https://shebanq.ancient-data.org/hebrew/text?book=Genesis&amp;chapter=1&amp;verse=7&amp;version=2017&amp;mr=m&amp;qw=q&amp;tp=txt_p&amp;tr=hb&amp;wget=v&amp;qget=v&amp;nget=vt\" title=\"Genesis 1:7\" sec=\"Genesis 1:7\"><span class=\"plain outer  rtl \"><span class=\"plain rtl  hlbx\" ><span class=\"plain rtl  \" ><span class=\"plain rtl  hlbx\" ><span class=\"plain rtl  \" ><span class=\"plain rtl  \" ><span class=\"h\">אֲשֶׁ֖ר </span></span></span></span><span class=\"plain rtl  hlbx\" ><span class=\"plain rtl  \" ><span class=\"plain rtl  \" ><span class=\"h\">מֵ</span></span><span class=\"plain rtl  \" ><span class=\"h\">עַ֣ל </span></span><span class=\"plain rtl  \" ><span class=\"h\">לָ</span></span><span class=\"plain rtl  \" ><span class=\"h\"></span></span><span class=\"plain rtl  \" ><span class=\"h\">רָקִ֑יעַ </span></span></span></span></span></span></span></a></td><td class=\"tf\"><span class=\"plain outer  rtl \"><span class=\"plain rtl  hlbx\" ><span class=\"plain rtl  \" ><span class=\"plain rtl  \" ><span class=\"h\">אֲשֶׁ֖ר </span></span></span></span></span></td><td class=\"tf\"><span class=\"plain outer  rtl \"><span class=\"plain rtl  hlbx\" ><span class=\"plain rtl  \" ><span class=\"plain rtl  \" ><span class=\"h\">מֵ</span></span><span class=\"plain rtl  \" ><span class=\"h\">עַ֣ל </span></span><span class=\"plain rtl  \" ><span class=\"h\">לָ</span></span><span class=\"plain rtl  \" ><span class=\"h\"></span></span><span class=\"plain rtl  \" ><span class=\"h\">רָקִ֑יעַ </span></span></span></span></span></td></tr>\n",
       "<tr class=\"tf\"><td class=\"tf\">5</td><td class=\"tf\"> <a href=\"https://shebanq.ancient-data.org/hebrew/text?book=Genesis&amp;chapter=1&amp;verse=10&amp;version=2017&amp;mr=m&amp;qw=q&amp;tp=txt_p&amp;tr=hb&amp;wget=v&amp;qget=v&amp;nget=vt\" title=\"show this passage in SHEBANQ\" sec=\"Genesis 1:10\">Genesis 1:10</a></td><td class=\"tf\"><a href=\"https://shebanq.ancient-data.org/hebrew/text?book=Genesis&amp;chapter=1&amp;verse=10&amp;version=2017&amp;mr=m&amp;qw=q&amp;tp=txt_p&amp;tr=hb&amp;wget=v&amp;qget=v&amp;nget=vt\" title=\"Genesis 1:10\" sec=\"Genesis 1:10\"><span class=\"plain outer  rtl \"><span class=\"plain rtl  hlbx\" ><span class=\"plain rtl  \" ><span class=\"plain rtl  hlbx\" ><span class=\"plain rtl  \" ><span class=\"plain rtl  \" ><span class=\"h\">כִּי־</span></span></span></span><span class=\"plain rtl  hlbx\" ><span class=\"plain rtl  \" ><span class=\"plain rtl  \" ><span class=\"h\">טֹֽוב׃ </span></span></span></span></span></span></span></a></td><td class=\"tf\"><span class=\"plain outer  rtl \"><span class=\"plain rtl  hlbx\" ><span class=\"plain rtl  \" ><span class=\"plain rtl  \" ><span class=\"h\">כִּי־</span></span></span></span></span></td><td class=\"tf\"><span class=\"plain outer  rtl \"><span class=\"plain rtl  hlbx\" ><span class=\"plain rtl  \" ><span class=\"plain rtl  \" ><span class=\"h\">טֹֽוב׃ </span></span></span></span></span></td></tr>\n",
       "<tr class=\"tf\"><td class=\"tf\">6</td><td class=\"tf\"> <a href=\"https://shebanq.ancient-data.org/hebrew/text?book=Genesis&amp;chapter=1&amp;verse=11&amp;version=2017&amp;mr=m&amp;qw=q&amp;tp=txt_p&amp;tr=hb&amp;wget=v&amp;qget=v&amp;nget=vt\" title=\"show this passage in SHEBANQ\" sec=\"Genesis 1:11\">Genesis 1:11</a></td><td class=\"tf\"><a href=\"https://shebanq.ancient-data.org/hebrew/text?book=Genesis&amp;chapter=1&amp;verse=11&amp;version=2017&amp;mr=m&amp;qw=q&amp;tp=txt_p&amp;tr=hb&amp;wget=v&amp;qget=v&amp;nget=vt\" title=\"Genesis 1:11\" sec=\"Genesis 1:11\"><span class=\"plain outer  rtl \"><span class=\"plain rtl  hlbx\" ><span class=\"plain rtl  \" ><span class=\"plain rtl  hlbx\" ><span class=\"plain rtl  \" ><span class=\"plain rtl  \" ><span class=\"h\">מַזְרִ֣יעַ </span></span></span></span><span class=\"plain rtl  hlbx\" ><span class=\"plain rtl  \" ><span class=\"plain rtl  \" ><span class=\"h\">זֶ֔רַע </span></span></span></span></span></span></span></a></td><td class=\"tf\"><span class=\"plain outer  rtl \"><span class=\"plain rtl  hlbx\" ><span class=\"plain rtl  \" ><span class=\"plain rtl  \" ><span class=\"h\">מַזְרִ֣יעַ </span></span></span></span></span></td><td class=\"tf\"><span class=\"plain outer  rtl \"><span class=\"plain rtl  hlbx\" ><span class=\"plain rtl  \" ><span class=\"plain rtl  \" ><span class=\"h\">זֶ֔רַע </span></span></span></span></span></td></tr>\n",
       "<tr class=\"tf\"><td class=\"tf\">7</td><td class=\"tf\"> <a href=\"https://shebanq.ancient-data.org/hebrew/text?book=Genesis&amp;chapter=1&amp;verse=12&amp;version=2017&amp;mr=m&amp;qw=q&amp;tp=txt_p&amp;tr=hb&amp;wget=v&amp;qget=v&amp;nget=vt\" title=\"show this passage in SHEBANQ\" sec=\"Genesis 1:12\">Genesis 1:12</a></td><td class=\"tf\"><a href=\"https://shebanq.ancient-data.org/hebrew/text?book=Genesis&amp;chapter=1&amp;verse=12&amp;version=2017&amp;mr=m&amp;qw=q&amp;tp=txt_p&amp;tr=hb&amp;wget=v&amp;qget=v&amp;nget=vt\" title=\"Genesis 1:12\" sec=\"Genesis 1:12\"><span class=\"plain outer  rtl \"><span class=\"plain rtl  hlbx\" ><span class=\"plain rtl  \" ><span class=\"plain rtl  hlbx\" ><span class=\"plain rtl  \" ><span class=\"plain rtl  \" ><span class=\"h\">כִּי־</span></span></span></span><span class=\"plain rtl  hlbx\" ><span class=\"plain rtl  \" ><span class=\"plain rtl  \" ><span class=\"h\">טֹֽוב׃ </span></span></span></span></span></span></span></a></td><td class=\"tf\"><span class=\"plain outer  rtl \"><span class=\"plain rtl  hlbx\" ><span class=\"plain rtl  \" ><span class=\"plain rtl  \" ><span class=\"h\">כִּי־</span></span></span></span></span></td><td class=\"tf\"><span class=\"plain outer  rtl \"><span class=\"plain rtl  hlbx\" ><span class=\"plain rtl  \" ><span class=\"plain rtl  \" ><span class=\"h\">טֹֽוב׃ </span></span></span></span></span></td></tr>\n",
       "<tr class=\"tf\"><td class=\"tf\">8</td><td class=\"tf\"> <a href=\"https://shebanq.ancient-data.org/hebrew/text?book=Genesis&amp;chapter=1&amp;verse=14&amp;version=2017&amp;mr=m&amp;qw=q&amp;tp=txt_p&amp;tr=hb&amp;wget=v&amp;qget=v&amp;nget=vt\" title=\"show this passage in SHEBANQ\" sec=\"Genesis 1:14\">Genesis 1:14</a></td><td class=\"tf\"><a href=\"https://shebanq.ancient-data.org/hebrew/text?book=Genesis&amp;chapter=1&amp;verse=14&amp;version=2017&amp;mr=m&amp;qw=q&amp;tp=txt_p&amp;tr=hb&amp;wget=v&amp;qget=v&amp;nget=vt\" title=\"Genesis 1:14\" sec=\"Genesis 1:14\"><span class=\"plain outer  rtl \"><span class=\"plain rtl  hlbx\" ><span class=\"plain rtl  \" ><span class=\"plain rtl  hlbx\" ><span class=\"plain rtl  \" ><span class=\"plain rtl  \" ><span class=\"h\">לְ</span></span><span class=\"plain rtl  \" ><span class=\"h\">הַבְדִּ֕יל </span></span></span></span><span class=\"plain rtl  hlbx\" ><span class=\"plain rtl  \" ><span class=\"plain rtl  \" ><span class=\"h\">בֵּ֥ין </span></span><span class=\"plain rtl  \" ><span class=\"h\">הַ</span></span><span class=\"plain rtl  \" ><span class=\"h\">יֹּ֖ום </span></span><span class=\"plain rtl  \" ><span class=\"h\">וּ</span></span><span class=\"plain rtl  \" ><span class=\"h\">בֵ֣ין </span></span><span class=\"plain rtl  \" ><span class=\"h\">הַ</span></span><span class=\"plain rtl  \" ><span class=\"h\">לָּ֑יְלָה </span></span></span></span></span></span></span></a></td><td class=\"tf\"><span class=\"plain outer  rtl \"><span class=\"plain rtl  hlbx\" ><span class=\"plain rtl  \" ><span class=\"plain rtl  \" ><span class=\"h\">לְ</span></span><span class=\"plain rtl  \" ><span class=\"h\">הַבְדִּ֕יל </span></span></span></span></span></td><td class=\"tf\"><span class=\"plain outer  rtl \"><span class=\"plain rtl  hlbx\" ><span class=\"plain rtl  \" ><span class=\"plain rtl  \" ><span class=\"h\">בֵּ֥ין </span></span><span class=\"plain rtl  \" ><span class=\"h\">הַ</span></span><span class=\"plain rtl  \" ><span class=\"h\">יֹּ֖ום </span></span><span class=\"plain rtl  \" ><span class=\"h\">וּ</span></span><span class=\"plain rtl  \" ><span class=\"h\">בֵ֣ין </span></span><span class=\"plain rtl  \" ><span class=\"h\">הַ</span></span><span class=\"plain rtl  \" ><span class=\"h\">לָּ֑יְלָה </span></span></span></span></span></td></tr>\n",
       "<tr class=\"tf\"><td class=\"tf\">9</td><td class=\"tf\"> <a href=\"https://shebanq.ancient-data.org/hebrew/text?book=Genesis&amp;chapter=1&amp;verse=15&amp;version=2017&amp;mr=m&amp;qw=q&amp;tp=txt_p&amp;tr=hb&amp;wget=v&amp;qget=v&amp;nget=vt\" title=\"show this passage in SHEBANQ\" sec=\"Genesis 1:15\">Genesis 1:15</a></td><td class=\"tf\"><a href=\"https://shebanq.ancient-data.org/hebrew/text?book=Genesis&amp;chapter=1&amp;verse=15&amp;version=2017&amp;mr=m&amp;qw=q&amp;tp=txt_p&amp;tr=hb&amp;wget=v&amp;qget=v&amp;nget=vt\" title=\"Genesis 1:15\" sec=\"Genesis 1:15\"><span class=\"plain outer  rtl \"><span class=\"plain rtl  hlbx\" ><span class=\"plain rtl  \" ><span class=\"plain rtl  hlbx\" ><span class=\"plain rtl  \" ><span class=\"plain rtl  \" ><span class=\"h\">לְ</span></span><span class=\"plain rtl  \" ><span class=\"h\">הָאִ֖יר </span></span></span></span><span class=\"plain rtl  hlbx\" ><span class=\"plain rtl  \" ><span class=\"plain rtl  \" ><span class=\"h\">עַל־</span></span><span class=\"plain rtl  \" ><span class=\"h\">הָ</span></span><span class=\"plain rtl  \" ><span class=\"h\">אָ֑רֶץ </span></span></span></span></span></span></span></a></td><td class=\"tf\"><span class=\"plain outer  rtl \"><span class=\"plain rtl  hlbx\" ><span class=\"plain rtl  \" ><span class=\"plain rtl  \" ><span class=\"h\">לְ</span></span><span class=\"plain rtl  \" ><span class=\"h\">הָאִ֖יר </span></span></span></span></span></td><td class=\"tf\"><span class=\"plain outer  rtl \"><span class=\"plain rtl  hlbx\" ><span class=\"plain rtl  \" ><span class=\"plain rtl  \" ><span class=\"h\">עַל־</span></span><span class=\"plain rtl  \" ><span class=\"h\">הָ</span></span><span class=\"plain rtl  \" ><span class=\"h\">אָ֑רֶץ </span></span></span></span></span></td></tr>\n",
       "<tr class=\"tf\"><td class=\"tf\">10</td><td class=\"tf\"> <a href=\"https://shebanq.ancient-data.org/hebrew/text?book=Genesis&amp;chapter=1&amp;verse=17&amp;version=2017&amp;mr=m&amp;qw=q&amp;tp=txt_p&amp;tr=hb&amp;wget=v&amp;qget=v&amp;nget=vt\" title=\"show this passage in SHEBANQ\" sec=\"Genesis 1:17\">Genesis 1:17</a></td><td class=\"tf\"><a href=\"https://shebanq.ancient-data.org/hebrew/text?book=Genesis&amp;chapter=1&amp;verse=17&amp;version=2017&amp;mr=m&amp;qw=q&amp;tp=txt_p&amp;tr=hb&amp;wget=v&amp;qget=v&amp;nget=vt\" title=\"Genesis 1:17\" sec=\"Genesis 1:17\"><span class=\"plain outer  rtl \"><span class=\"plain rtl  hlbx\" ><span class=\"plain rtl  \" ><span class=\"plain rtl  hlbx\" ><span class=\"plain rtl  \" ><span class=\"plain rtl  \" ><span class=\"h\">לְ</span></span><span class=\"plain rtl  \" ><span class=\"h\">הָאִ֖יר </span></span></span></span><span class=\"plain rtl  hlbx\" ><span class=\"plain rtl  \" ><span class=\"plain rtl  \" ><span class=\"h\">עַל־</span></span><span class=\"plain rtl  \" ><span class=\"h\">הָ</span></span><span class=\"plain rtl  \" ><span class=\"h\">אָֽרֶץ׃ </span></span></span></span></span></span></span></a></td><td class=\"tf\"><span class=\"plain outer  rtl \"><span class=\"plain rtl  hlbx\" ><span class=\"plain rtl  \" ><span class=\"plain rtl  \" ><span class=\"h\">לְ</span></span><span class=\"plain rtl  \" ><span class=\"h\">הָאִ֖יר </span></span></span></span></span></td><td class=\"tf\"><span class=\"plain outer  rtl \"><span class=\"plain rtl  hlbx\" ><span class=\"plain rtl  \" ><span class=\"plain rtl  \" ><span class=\"h\">עַל־</span></span><span class=\"plain rtl  \" ><span class=\"h\">הָ</span></span><span class=\"plain rtl  \" ><span class=\"h\">אָֽרֶץ׃ </span></span></span></span></span></td></tr></table>"
      ],
      "text/plain": [
       "<IPython.core.display.HTML object>"
      ]
     },
     "metadata": {},
     "output_type": "display_data"
    }
   ],
   "source": [
    "query = '''\n",
    "clause\n",
    "-mother> clause\n",
    "'''\n",
    "allMotherPairs = A.search(query)\n",
    "A.table(results, end=10)"
   ]
  },
  {
   "cell_type": "markdown",
   "metadata": {},
   "source": [
    "### Mother in another verse\n",
    "\n",
    "Now we modify the query to the effect that mother and daughter must sit in distinct verses."
   ]
  },
  {
   "cell_type": "code",
   "execution_count": 98,
   "metadata": {
    "ExecuteTime": {
     "end_time": "2018-05-24T08:00:11.096751Z",
     "start_time": "2018-05-24T08:00:10.585477Z"
    }
   },
   "outputs": [
    {
     "name": "stdout",
     "output_type": "stream",
     "text": [
      "  0.30s 721 results\n"
     ]
    },
    {
     "data": {
      "text/html": [
       "<table>\n",
       "<tr class=\"tf\">\n",
       "  <th class=\"tf\">n</th><th class=\"tf\">p</th>\n",
       "  <th class=\"tf\">clause</th><th>phrase</th><th>phrase</th>\n",
       "</tr>\n",
       "\n",
       "<tr class=\"tf\"><td class=\"tf\">1</td><td class=\"tf\"> <a href=\"https://shebanq.ancient-data.org/hebrew/text?book=Genesis&amp;chapter=1&amp;verse=3&amp;version=2017&amp;mr=m&amp;qw=q&amp;tp=txt_p&amp;tr=hb&amp;wget=v&amp;qget=v&amp;nget=vt\" title=\"show this passage in SHEBANQ\" sec=\"Genesis 1:3\">Genesis 1:3</a></td><td class=\"tf\"><a href=\"https://shebanq.ancient-data.org/hebrew/text?book=Genesis&amp;chapter=1&amp;verse=3&amp;version=2017&amp;mr=m&amp;qw=q&amp;tp=txt_p&amp;tr=hb&amp;wget=v&amp;qget=v&amp;nget=vt\" title=\"Genesis 1:3\" sec=\"Genesis 1:3\"><span class=\"plain outer  rtl \"><span class=\"plain rtl  hlbx\" ><span class=\"plain rtl  \" ><span class=\"plain rtl  hlbx\" ><span class=\"plain rtl  \" ><span class=\"plain rtl  \" ><span class=\"h\">יְהִ֣י </span></span></span></span><span class=\"plain rtl  hlbx\" ><span class=\"plain rtl  \" ><span class=\"plain rtl  \" ><span class=\"h\">אֹ֑ור </span></span></span></span></span></span></span></a></td><td class=\"tf\"><span class=\"plain outer  rtl \"><span class=\"plain rtl  hlbx\" ><span class=\"plain rtl  \" ><span class=\"plain rtl  \" ><span class=\"h\">יְהִ֣י </span></span></span></span></span></td><td class=\"tf\"><span class=\"plain outer  rtl \"><span class=\"plain rtl  hlbx\" ><span class=\"plain rtl  \" ><span class=\"plain rtl  \" ><span class=\"h\">אֹ֑ור </span></span></span></span></span></td></tr>\n",
       "<tr class=\"tf\"><td class=\"tf\">2</td><td class=\"tf\"> <a href=\"https://shebanq.ancient-data.org/hebrew/text?book=Genesis&amp;chapter=1&amp;verse=4&amp;version=2017&amp;mr=m&amp;qw=q&amp;tp=txt_p&amp;tr=hb&amp;wget=v&amp;qget=v&amp;nget=vt\" title=\"show this passage in SHEBANQ\" sec=\"Genesis 1:4\">Genesis 1:4</a></td><td class=\"tf\"><a href=\"https://shebanq.ancient-data.org/hebrew/text?book=Genesis&amp;chapter=1&amp;verse=4&amp;version=2017&amp;mr=m&amp;qw=q&amp;tp=txt_p&amp;tr=hb&amp;wget=v&amp;qget=v&amp;nget=vt\" title=\"Genesis 1:4\" sec=\"Genesis 1:4\"><span class=\"plain outer  rtl \"><span class=\"plain rtl  hlbx\" ><span class=\"plain rtl  \" ><span class=\"plain rtl  hlbx\" ><span class=\"plain rtl  \" ><span class=\"plain rtl  \" ><span class=\"h\">כִּי־</span></span></span></span><span class=\"plain rtl  hlbx\" ><span class=\"plain rtl  \" ><span class=\"plain rtl  \" ><span class=\"h\">טֹ֑וב </span></span></span></span></span></span></span></a></td><td class=\"tf\"><span class=\"plain outer  rtl \"><span class=\"plain rtl  hlbx\" ><span class=\"plain rtl  \" ><span class=\"plain rtl  \" ><span class=\"h\">כִּי־</span></span></span></span></span></td><td class=\"tf\"><span class=\"plain outer  rtl \"><span class=\"plain rtl  hlbx\" ><span class=\"plain rtl  \" ><span class=\"plain rtl  \" ><span class=\"h\">טֹ֑וב </span></span></span></span></span></td></tr>\n",
       "<tr class=\"tf\"><td class=\"tf\">3</td><td class=\"tf\"> <a href=\"https://shebanq.ancient-data.org/hebrew/text?book=Genesis&amp;chapter=1&amp;verse=7&amp;version=2017&amp;mr=m&amp;qw=q&amp;tp=txt_p&amp;tr=hb&amp;wget=v&amp;qget=v&amp;nget=vt\" title=\"show this passage in SHEBANQ\" sec=\"Genesis 1:7\">Genesis 1:7</a></td><td class=\"tf\"><a href=\"https://shebanq.ancient-data.org/hebrew/text?book=Genesis&amp;chapter=1&amp;verse=7&amp;version=2017&amp;mr=m&amp;qw=q&amp;tp=txt_p&amp;tr=hb&amp;wget=v&amp;qget=v&amp;nget=vt\" title=\"Genesis 1:7\" sec=\"Genesis 1:7\"><span class=\"plain outer  rtl \"><span class=\"plain rtl  hlbx\" ><span class=\"plain rtl  \" ><span class=\"plain rtl  hlbx\" ><span class=\"plain rtl  \" ><span class=\"plain rtl  \" ><span class=\"h\">אֲשֶׁר֙ </span></span></span></span><span class=\"plain rtl  l hlbx\" ><span class=\"plain rtl  \" ><span class=\"plain rtl  \" ><span class=\"h\">מִ</span></span><span class=\"plain rtl  \" ><span class=\"h\">תַּ֣חַת </span></span></span></span><span class=\"plain rtl  r hlbx\" ><span class=\"plain rtl  \" ><span class=\"plain rtl  \" ><span class=\"h\">לָ</span></span><span class=\"plain rtl  \" ><span class=\"h\"></span></span><span class=\"plain rtl  \" ><span class=\"h\">רָקִ֔יעַ </span></span></span></span></span></span></span></a></td><td class=\"tf\"><span class=\"plain outer  rtl \"><span class=\"plain rtl  hlbx\" ><span class=\"plain rtl  \" ><span class=\"plain rtl  \" ><span class=\"h\">אֲשֶׁר֙ </span></span></span></span></span></td><td class=\"tf\"><span class=\"plain outer  rtl \"><span class=\"plain rtl  l hlbx\" ><span class=\"plain rtl  \" ><span class=\"plain rtl  \" ><span class=\"h\">מִ</span></span><span class=\"plain rtl  \" ><span class=\"h\">תַּ֣חַת </span></span></span></span><span class=\"plain rtl  r hlbx\" ><span class=\"plain rtl  \" ><span class=\"plain rtl  \" ><span class=\"h\">לָ</span></span><span class=\"plain rtl  \" ><span class=\"h\"></span></span><span class=\"plain rtl  \" ><span class=\"h\">רָקִ֔יעַ </span></span></span></span></span></td></tr>\n",
       "<tr class=\"tf\"><td class=\"tf\">4</td><td class=\"tf\"> <a href=\"https://shebanq.ancient-data.org/hebrew/text?book=Genesis&amp;chapter=1&amp;verse=7&amp;version=2017&amp;mr=m&amp;qw=q&amp;tp=txt_p&amp;tr=hb&amp;wget=v&amp;qget=v&amp;nget=vt\" title=\"show this passage in SHEBANQ\" sec=\"Genesis 1:7\">Genesis 1:7</a></td><td class=\"tf\"><a href=\"https://shebanq.ancient-data.org/hebrew/text?book=Genesis&amp;chapter=1&amp;verse=7&amp;version=2017&amp;mr=m&amp;qw=q&amp;tp=txt_p&amp;tr=hb&amp;wget=v&amp;qget=v&amp;nget=vt\" title=\"Genesis 1:7\" sec=\"Genesis 1:7\"><span class=\"plain outer  rtl \"><span class=\"plain rtl  hlbx\" ><span class=\"plain rtl  \" ><span class=\"plain rtl  hlbx\" ><span class=\"plain rtl  \" ><span class=\"plain rtl  \" ><span class=\"h\">אֲשֶׁ֖ר </span></span></span></span><span class=\"plain rtl  hlbx\" ><span class=\"plain rtl  \" ><span class=\"plain rtl  \" ><span class=\"h\">מֵ</span></span><span class=\"plain rtl  \" ><span class=\"h\">עַ֣ל </span></span><span class=\"plain rtl  \" ><span class=\"h\">לָ</span></span><span class=\"plain rtl  \" ><span class=\"h\"></span></span><span class=\"plain rtl  \" ><span class=\"h\">רָקִ֑יעַ </span></span></span></span></span></span></span></a></td><td class=\"tf\"><span class=\"plain outer  rtl \"><span class=\"plain rtl  hlbx\" ><span class=\"plain rtl  \" ><span class=\"plain rtl  \" ><span class=\"h\">אֲשֶׁ֖ר </span></span></span></span></span></td><td class=\"tf\"><span class=\"plain outer  rtl \"><span class=\"plain rtl  hlbx\" ><span class=\"plain rtl  \" ><span class=\"plain rtl  \" ><span class=\"h\">מֵ</span></span><span class=\"plain rtl  \" ><span class=\"h\">עַ֣ל </span></span><span class=\"plain rtl  \" ><span class=\"h\">לָ</span></span><span class=\"plain rtl  \" ><span class=\"h\"></span></span><span class=\"plain rtl  \" ><span class=\"h\">רָקִ֑יעַ </span></span></span></span></span></td></tr>\n",
       "<tr class=\"tf\"><td class=\"tf\">5</td><td class=\"tf\"> <a href=\"https://shebanq.ancient-data.org/hebrew/text?book=Genesis&amp;chapter=1&amp;verse=10&amp;version=2017&amp;mr=m&amp;qw=q&amp;tp=txt_p&amp;tr=hb&amp;wget=v&amp;qget=v&amp;nget=vt\" title=\"show this passage in SHEBANQ\" sec=\"Genesis 1:10\">Genesis 1:10</a></td><td class=\"tf\"><a href=\"https://shebanq.ancient-data.org/hebrew/text?book=Genesis&amp;chapter=1&amp;verse=10&amp;version=2017&amp;mr=m&amp;qw=q&amp;tp=txt_p&amp;tr=hb&amp;wget=v&amp;qget=v&amp;nget=vt\" title=\"Genesis 1:10\" sec=\"Genesis 1:10\"><span class=\"plain outer  rtl \"><span class=\"plain rtl  hlbx\" ><span class=\"plain rtl  \" ><span class=\"plain rtl  hlbx\" ><span class=\"plain rtl  \" ><span class=\"plain rtl  \" ><span class=\"h\">כִּי־</span></span></span></span><span class=\"plain rtl  hlbx\" ><span class=\"plain rtl  \" ><span class=\"plain rtl  \" ><span class=\"h\">טֹֽוב׃ </span></span></span></span></span></span></span></a></td><td class=\"tf\"><span class=\"plain outer  rtl \"><span class=\"plain rtl  hlbx\" ><span class=\"plain rtl  \" ><span class=\"plain rtl  \" ><span class=\"h\">כִּי־</span></span></span></span></span></td><td class=\"tf\"><span class=\"plain outer  rtl \"><span class=\"plain rtl  hlbx\" ><span class=\"plain rtl  \" ><span class=\"plain rtl  \" ><span class=\"h\">טֹֽוב׃ </span></span></span></span></span></td></tr>\n",
       "<tr class=\"tf\"><td class=\"tf\">6</td><td class=\"tf\"> <a href=\"https://shebanq.ancient-data.org/hebrew/text?book=Genesis&amp;chapter=1&amp;verse=11&amp;version=2017&amp;mr=m&amp;qw=q&amp;tp=txt_p&amp;tr=hb&amp;wget=v&amp;qget=v&amp;nget=vt\" title=\"show this passage in SHEBANQ\" sec=\"Genesis 1:11\">Genesis 1:11</a></td><td class=\"tf\"><a href=\"https://shebanq.ancient-data.org/hebrew/text?book=Genesis&amp;chapter=1&amp;verse=11&amp;version=2017&amp;mr=m&amp;qw=q&amp;tp=txt_p&amp;tr=hb&amp;wget=v&amp;qget=v&amp;nget=vt\" title=\"Genesis 1:11\" sec=\"Genesis 1:11\"><span class=\"plain outer  rtl \"><span class=\"plain rtl  hlbx\" ><span class=\"plain rtl  \" ><span class=\"plain rtl  hlbx\" ><span class=\"plain rtl  \" ><span class=\"plain rtl  \" ><span class=\"h\">מַזְרִ֣יעַ </span></span></span></span><span class=\"plain rtl  hlbx\" ><span class=\"plain rtl  \" ><span class=\"plain rtl  \" ><span class=\"h\">זֶ֔רַע </span></span></span></span></span></span></span></a></td><td class=\"tf\"><span class=\"plain outer  rtl \"><span class=\"plain rtl  hlbx\" ><span class=\"plain rtl  \" ><span class=\"plain rtl  \" ><span class=\"h\">מַזְרִ֣יעַ </span></span></span></span></span></td><td class=\"tf\"><span class=\"plain outer  rtl \"><span class=\"plain rtl  hlbx\" ><span class=\"plain rtl  \" ><span class=\"plain rtl  \" ><span class=\"h\">זֶ֔רַע </span></span></span></span></span></td></tr>\n",
       "<tr class=\"tf\"><td class=\"tf\">7</td><td class=\"tf\"> <a href=\"https://shebanq.ancient-data.org/hebrew/text?book=Genesis&amp;chapter=1&amp;verse=12&amp;version=2017&amp;mr=m&amp;qw=q&amp;tp=txt_p&amp;tr=hb&amp;wget=v&amp;qget=v&amp;nget=vt\" title=\"show this passage in SHEBANQ\" sec=\"Genesis 1:12\">Genesis 1:12</a></td><td class=\"tf\"><a href=\"https://shebanq.ancient-data.org/hebrew/text?book=Genesis&amp;chapter=1&amp;verse=12&amp;version=2017&amp;mr=m&amp;qw=q&amp;tp=txt_p&amp;tr=hb&amp;wget=v&amp;qget=v&amp;nget=vt\" title=\"Genesis 1:12\" sec=\"Genesis 1:12\"><span class=\"plain outer  rtl \"><span class=\"plain rtl  hlbx\" ><span class=\"plain rtl  \" ><span class=\"plain rtl  hlbx\" ><span class=\"plain rtl  \" ><span class=\"plain rtl  \" ><span class=\"h\">כִּי־</span></span></span></span><span class=\"plain rtl  hlbx\" ><span class=\"plain rtl  \" ><span class=\"plain rtl  \" ><span class=\"h\">טֹֽוב׃ </span></span></span></span></span></span></span></a></td><td class=\"tf\"><span class=\"plain outer  rtl \"><span class=\"plain rtl  hlbx\" ><span class=\"plain rtl  \" ><span class=\"plain rtl  \" ><span class=\"h\">כִּי־</span></span></span></span></span></td><td class=\"tf\"><span class=\"plain outer  rtl \"><span class=\"plain rtl  hlbx\" ><span class=\"plain rtl  \" ><span class=\"plain rtl  \" ><span class=\"h\">טֹֽוב׃ </span></span></span></span></span></td></tr>\n",
       "<tr class=\"tf\"><td class=\"tf\">8</td><td class=\"tf\"> <a href=\"https://shebanq.ancient-data.org/hebrew/text?book=Genesis&amp;chapter=1&amp;verse=14&amp;version=2017&amp;mr=m&amp;qw=q&amp;tp=txt_p&amp;tr=hb&amp;wget=v&amp;qget=v&amp;nget=vt\" title=\"show this passage in SHEBANQ\" sec=\"Genesis 1:14\">Genesis 1:14</a></td><td class=\"tf\"><a href=\"https://shebanq.ancient-data.org/hebrew/text?book=Genesis&amp;chapter=1&amp;verse=14&amp;version=2017&amp;mr=m&amp;qw=q&amp;tp=txt_p&amp;tr=hb&amp;wget=v&amp;qget=v&amp;nget=vt\" title=\"Genesis 1:14\" sec=\"Genesis 1:14\"><span class=\"plain outer  rtl \"><span class=\"plain rtl  hlbx\" ><span class=\"plain rtl  \" ><span class=\"plain rtl  hlbx\" ><span class=\"plain rtl  \" ><span class=\"plain rtl  \" ><span class=\"h\">לְ</span></span><span class=\"plain rtl  \" ><span class=\"h\">הַבְדִּ֕יל </span></span></span></span><span class=\"plain rtl  hlbx\" ><span class=\"plain rtl  \" ><span class=\"plain rtl  \" ><span class=\"h\">בֵּ֥ין </span></span><span class=\"plain rtl  \" ><span class=\"h\">הַ</span></span><span class=\"plain rtl  \" ><span class=\"h\">יֹּ֖ום </span></span><span class=\"plain rtl  \" ><span class=\"h\">וּ</span></span><span class=\"plain rtl  \" ><span class=\"h\">בֵ֣ין </span></span><span class=\"plain rtl  \" ><span class=\"h\">הַ</span></span><span class=\"plain rtl  \" ><span class=\"h\">לָּ֑יְלָה </span></span></span></span></span></span></span></a></td><td class=\"tf\"><span class=\"plain outer  rtl \"><span class=\"plain rtl  hlbx\" ><span class=\"plain rtl  \" ><span class=\"plain rtl  \" ><span class=\"h\">לְ</span></span><span class=\"plain rtl  \" ><span class=\"h\">הַבְדִּ֕יל </span></span></span></span></span></td><td class=\"tf\"><span class=\"plain outer  rtl \"><span class=\"plain rtl  hlbx\" ><span class=\"plain rtl  \" ><span class=\"plain rtl  \" ><span class=\"h\">בֵּ֥ין </span></span><span class=\"plain rtl  \" ><span class=\"h\">הַ</span></span><span class=\"plain rtl  \" ><span class=\"h\">יֹּ֖ום </span></span><span class=\"plain rtl  \" ><span class=\"h\">וּ</span></span><span class=\"plain rtl  \" ><span class=\"h\">בֵ֣ין </span></span><span class=\"plain rtl  \" ><span class=\"h\">הַ</span></span><span class=\"plain rtl  \" ><span class=\"h\">לָּ֑יְלָה </span></span></span></span></span></td></tr>\n",
       "<tr class=\"tf\"><td class=\"tf\">9</td><td class=\"tf\"> <a href=\"https://shebanq.ancient-data.org/hebrew/text?book=Genesis&amp;chapter=1&amp;verse=15&amp;version=2017&amp;mr=m&amp;qw=q&amp;tp=txt_p&amp;tr=hb&amp;wget=v&amp;qget=v&amp;nget=vt\" title=\"show this passage in SHEBANQ\" sec=\"Genesis 1:15\">Genesis 1:15</a></td><td class=\"tf\"><a href=\"https://shebanq.ancient-data.org/hebrew/text?book=Genesis&amp;chapter=1&amp;verse=15&amp;version=2017&amp;mr=m&amp;qw=q&amp;tp=txt_p&amp;tr=hb&amp;wget=v&amp;qget=v&amp;nget=vt\" title=\"Genesis 1:15\" sec=\"Genesis 1:15\"><span class=\"plain outer  rtl \"><span class=\"plain rtl  hlbx\" ><span class=\"plain rtl  \" ><span class=\"plain rtl  hlbx\" ><span class=\"plain rtl  \" ><span class=\"plain rtl  \" ><span class=\"h\">לְ</span></span><span class=\"plain rtl  \" ><span class=\"h\">הָאִ֖יר </span></span></span></span><span class=\"plain rtl  hlbx\" ><span class=\"plain rtl  \" ><span class=\"plain rtl  \" ><span class=\"h\">עַל־</span></span><span class=\"plain rtl  \" ><span class=\"h\">הָ</span></span><span class=\"plain rtl  \" ><span class=\"h\">אָ֑רֶץ </span></span></span></span></span></span></span></a></td><td class=\"tf\"><span class=\"plain outer  rtl \"><span class=\"plain rtl  hlbx\" ><span class=\"plain rtl  \" ><span class=\"plain rtl  \" ><span class=\"h\">לְ</span></span><span class=\"plain rtl  \" ><span class=\"h\">הָאִ֖יר </span></span></span></span></span></td><td class=\"tf\"><span class=\"plain outer  rtl \"><span class=\"plain rtl  hlbx\" ><span class=\"plain rtl  \" ><span class=\"plain rtl  \" ><span class=\"h\">עַל־</span></span><span class=\"plain rtl  \" ><span class=\"h\">הָ</span></span><span class=\"plain rtl  \" ><span class=\"h\">אָ֑רֶץ </span></span></span></span></span></td></tr>\n",
       "<tr class=\"tf\"><td class=\"tf\">10</td><td class=\"tf\"> <a href=\"https://shebanq.ancient-data.org/hebrew/text?book=Genesis&amp;chapter=1&amp;verse=17&amp;version=2017&amp;mr=m&amp;qw=q&amp;tp=txt_p&amp;tr=hb&amp;wget=v&amp;qget=v&amp;nget=vt\" title=\"show this passage in SHEBANQ\" sec=\"Genesis 1:17\">Genesis 1:17</a></td><td class=\"tf\"><a href=\"https://shebanq.ancient-data.org/hebrew/text?book=Genesis&amp;chapter=1&amp;verse=17&amp;version=2017&amp;mr=m&amp;qw=q&amp;tp=txt_p&amp;tr=hb&amp;wget=v&amp;qget=v&amp;nget=vt\" title=\"Genesis 1:17\" sec=\"Genesis 1:17\"><span class=\"plain outer  rtl \"><span class=\"plain rtl  hlbx\" ><span class=\"plain rtl  \" ><span class=\"plain rtl  hlbx\" ><span class=\"plain rtl  \" ><span class=\"plain rtl  \" ><span class=\"h\">לְ</span></span><span class=\"plain rtl  \" ><span class=\"h\">הָאִ֖יר </span></span></span></span><span class=\"plain rtl  hlbx\" ><span class=\"plain rtl  \" ><span class=\"plain rtl  \" ><span class=\"h\">עַל־</span></span><span class=\"plain rtl  \" ><span class=\"h\">הָ</span></span><span class=\"plain rtl  \" ><span class=\"h\">אָֽרֶץ׃ </span></span></span></span></span></span></span></a></td><td class=\"tf\"><span class=\"plain outer  rtl \"><span class=\"plain rtl  hlbx\" ><span class=\"plain rtl  \" ><span class=\"plain rtl  \" ><span class=\"h\">לְ</span></span><span class=\"plain rtl  \" ><span class=\"h\">הָאִ֖יר </span></span></span></span></span></td><td class=\"tf\"><span class=\"plain outer  rtl \"><span class=\"plain rtl  hlbx\" ><span class=\"plain rtl  \" ><span class=\"plain rtl  \" ><span class=\"h\">עַל־</span></span><span class=\"plain rtl  \" ><span class=\"h\">הָ</span></span><span class=\"plain rtl  \" ><span class=\"h\">אָֽרֶץ׃ </span></span></span></span></span></td></tr></table>"
      ],
      "text/plain": [
       "<IPython.core.display.HTML object>"
      ]
     },
     "metadata": {},
     "output_type": "display_data"
    }
   ],
   "source": [
    "query = '''\n",
    "cm:clause\n",
    "-mother> cd:clause\n",
    "\n",
    "v1:verse\n",
    "v2:verse\n",
    "v1 # v2\n",
    "\n",
    "cm ]] v1\n",
    "cd ]] v2\n",
    "'''\n",
    "diffMotherPairs = A.search(query)\n",
    "A.table(results, end=10)"
   ]
  },
  {
   "cell_type": "markdown",
   "metadata": {},
   "source": [
    "### Mother in same verse\n",
    "\n",
    "As a check,\n",
    "we modify the latter query and require `v1` and `v2` to be the same verse, to get the\n",
    "mother pairs of which both members are in the same verse."
   ]
  },
  {
   "cell_type": "code",
   "execution_count": 99,
   "metadata": {
    "ExecuteTime": {
     "end_time": "2018-05-24T08:00:11.096751Z",
     "start_time": "2018-05-24T08:00:10.585477Z"
    }
   },
   "outputs": [
    {
     "name": "stdout",
     "output_type": "stream",
     "text": [
      "  0.32s 13160 results\n"
     ]
    },
    {
     "data": {
      "text/html": [
       "<table>\n",
       "<tr class=\"tf\">\n",
       "  <th class=\"tf\">n</th><th class=\"tf\">p</th>\n",
       "  <th class=\"tf\">clause</th><th>phrase</th><th>phrase</th>\n",
       "</tr>\n",
       "\n",
       "<tr class=\"tf\"><td class=\"tf\">1</td><td class=\"tf\"> <a href=\"https://shebanq.ancient-data.org/hebrew/text?book=Genesis&amp;chapter=1&amp;verse=3&amp;version=2017&amp;mr=m&amp;qw=q&amp;tp=txt_p&amp;tr=hb&amp;wget=v&amp;qget=v&amp;nget=vt\" title=\"show this passage in SHEBANQ\" sec=\"Genesis 1:3\">Genesis 1:3</a></td><td class=\"tf\"><a href=\"https://shebanq.ancient-data.org/hebrew/text?book=Genesis&amp;chapter=1&amp;verse=3&amp;version=2017&amp;mr=m&amp;qw=q&amp;tp=txt_p&amp;tr=hb&amp;wget=v&amp;qget=v&amp;nget=vt\" title=\"Genesis 1:3\" sec=\"Genesis 1:3\"><span class=\"plain outer  rtl \"><span class=\"plain rtl  hlbx\" ><span class=\"plain rtl  \" ><span class=\"plain rtl  hlbx\" ><span class=\"plain rtl  \" ><span class=\"plain rtl  \" ><span class=\"h\">יְהִ֣י </span></span></span></span><span class=\"plain rtl  hlbx\" ><span class=\"plain rtl  \" ><span class=\"plain rtl  \" ><span class=\"h\">אֹ֑ור </span></span></span></span></span></span></span></a></td><td class=\"tf\"><span class=\"plain outer  rtl \"><span class=\"plain rtl  hlbx\" ><span class=\"plain rtl  \" ><span class=\"plain rtl  \" ><span class=\"h\">יְהִ֣י </span></span></span></span></span></td><td class=\"tf\"><span class=\"plain outer  rtl \"><span class=\"plain rtl  hlbx\" ><span class=\"plain rtl  \" ><span class=\"plain rtl  \" ><span class=\"h\">אֹ֑ור </span></span></span></span></span></td></tr>\n",
       "<tr class=\"tf\"><td class=\"tf\">2</td><td class=\"tf\"> <a href=\"https://shebanq.ancient-data.org/hebrew/text?book=Genesis&amp;chapter=1&amp;verse=4&amp;version=2017&amp;mr=m&amp;qw=q&amp;tp=txt_p&amp;tr=hb&amp;wget=v&amp;qget=v&amp;nget=vt\" title=\"show this passage in SHEBANQ\" sec=\"Genesis 1:4\">Genesis 1:4</a></td><td class=\"tf\"><a href=\"https://shebanq.ancient-data.org/hebrew/text?book=Genesis&amp;chapter=1&amp;verse=4&amp;version=2017&amp;mr=m&amp;qw=q&amp;tp=txt_p&amp;tr=hb&amp;wget=v&amp;qget=v&amp;nget=vt\" title=\"Genesis 1:4\" sec=\"Genesis 1:4\"><span class=\"plain outer  rtl \"><span class=\"plain rtl  hlbx\" ><span class=\"plain rtl  \" ><span class=\"plain rtl  hlbx\" ><span class=\"plain rtl  \" ><span class=\"plain rtl  \" ><span class=\"h\">כִּי־</span></span></span></span><span class=\"plain rtl  hlbx\" ><span class=\"plain rtl  \" ><span class=\"plain rtl  \" ><span class=\"h\">טֹ֑וב </span></span></span></span></span></span></span></a></td><td class=\"tf\"><span class=\"plain outer  rtl \"><span class=\"plain rtl  hlbx\" ><span class=\"plain rtl  \" ><span class=\"plain rtl  \" ><span class=\"h\">כִּי־</span></span></span></span></span></td><td class=\"tf\"><span class=\"plain outer  rtl \"><span class=\"plain rtl  hlbx\" ><span class=\"plain rtl  \" ><span class=\"plain rtl  \" ><span class=\"h\">טֹ֑וב </span></span></span></span></span></td></tr>\n",
       "<tr class=\"tf\"><td class=\"tf\">3</td><td class=\"tf\"> <a href=\"https://shebanq.ancient-data.org/hebrew/text?book=Genesis&amp;chapter=1&amp;verse=7&amp;version=2017&amp;mr=m&amp;qw=q&amp;tp=txt_p&amp;tr=hb&amp;wget=v&amp;qget=v&amp;nget=vt\" title=\"show this passage in SHEBANQ\" sec=\"Genesis 1:7\">Genesis 1:7</a></td><td class=\"tf\"><a href=\"https://shebanq.ancient-data.org/hebrew/text?book=Genesis&amp;chapter=1&amp;verse=7&amp;version=2017&amp;mr=m&amp;qw=q&amp;tp=txt_p&amp;tr=hb&amp;wget=v&amp;qget=v&amp;nget=vt\" title=\"Genesis 1:7\" sec=\"Genesis 1:7\"><span class=\"plain outer  rtl \"><span class=\"plain rtl  hlbx\" ><span class=\"plain rtl  \" ><span class=\"plain rtl  hlbx\" ><span class=\"plain rtl  \" ><span class=\"plain rtl  \" ><span class=\"h\">אֲשֶׁר֙ </span></span></span></span><span class=\"plain rtl  l hlbx\" ><span class=\"plain rtl  \" ><span class=\"plain rtl  \" ><span class=\"h\">מִ</span></span><span class=\"plain rtl  \" ><span class=\"h\">תַּ֣חַת </span></span></span></span><span class=\"plain rtl  r hlbx\" ><span class=\"plain rtl  \" ><span class=\"plain rtl  \" ><span class=\"h\">לָ</span></span><span class=\"plain rtl  \" ><span class=\"h\"></span></span><span class=\"plain rtl  \" ><span class=\"h\">רָקִ֔יעַ </span></span></span></span></span></span></span></a></td><td class=\"tf\"><span class=\"plain outer  rtl \"><span class=\"plain rtl  hlbx\" ><span class=\"plain rtl  \" ><span class=\"plain rtl  \" ><span class=\"h\">אֲשֶׁר֙ </span></span></span></span></span></td><td class=\"tf\"><span class=\"plain outer  rtl \"><span class=\"plain rtl  l hlbx\" ><span class=\"plain rtl  \" ><span class=\"plain rtl  \" ><span class=\"h\">מִ</span></span><span class=\"plain rtl  \" ><span class=\"h\">תַּ֣חַת </span></span></span></span><span class=\"plain rtl  r hlbx\" ><span class=\"plain rtl  \" ><span class=\"plain rtl  \" ><span class=\"h\">לָ</span></span><span class=\"plain rtl  \" ><span class=\"h\"></span></span><span class=\"plain rtl  \" ><span class=\"h\">רָקִ֔יעַ </span></span></span></span></span></td></tr>\n",
       "<tr class=\"tf\"><td class=\"tf\">4</td><td class=\"tf\"> <a href=\"https://shebanq.ancient-data.org/hebrew/text?book=Genesis&amp;chapter=1&amp;verse=7&amp;version=2017&amp;mr=m&amp;qw=q&amp;tp=txt_p&amp;tr=hb&amp;wget=v&amp;qget=v&amp;nget=vt\" title=\"show this passage in SHEBANQ\" sec=\"Genesis 1:7\">Genesis 1:7</a></td><td class=\"tf\"><a href=\"https://shebanq.ancient-data.org/hebrew/text?book=Genesis&amp;chapter=1&amp;verse=7&amp;version=2017&amp;mr=m&amp;qw=q&amp;tp=txt_p&amp;tr=hb&amp;wget=v&amp;qget=v&amp;nget=vt\" title=\"Genesis 1:7\" sec=\"Genesis 1:7\"><span class=\"plain outer  rtl \"><span class=\"plain rtl  hlbx\" ><span class=\"plain rtl  \" ><span class=\"plain rtl  hlbx\" ><span class=\"plain rtl  \" ><span class=\"plain rtl  \" ><span class=\"h\">אֲשֶׁ֖ר </span></span></span></span><span class=\"plain rtl  hlbx\" ><span class=\"plain rtl  \" ><span class=\"plain rtl  \" ><span class=\"h\">מֵ</span></span><span class=\"plain rtl  \" ><span class=\"h\">עַ֣ל </span></span><span class=\"plain rtl  \" ><span class=\"h\">לָ</span></span><span class=\"plain rtl  \" ><span class=\"h\"></span></span><span class=\"plain rtl  \" ><span class=\"h\">רָקִ֑יעַ </span></span></span></span></span></span></span></a></td><td class=\"tf\"><span class=\"plain outer  rtl \"><span class=\"plain rtl  hlbx\" ><span class=\"plain rtl  \" ><span class=\"plain rtl  \" ><span class=\"h\">אֲשֶׁ֖ר </span></span></span></span></span></td><td class=\"tf\"><span class=\"plain outer  rtl \"><span class=\"plain rtl  hlbx\" ><span class=\"plain rtl  \" ><span class=\"plain rtl  \" ><span class=\"h\">מֵ</span></span><span class=\"plain rtl  \" ><span class=\"h\">עַ֣ל </span></span><span class=\"plain rtl  \" ><span class=\"h\">לָ</span></span><span class=\"plain rtl  \" ><span class=\"h\"></span></span><span class=\"plain rtl  \" ><span class=\"h\">רָקִ֑יעַ </span></span></span></span></span></td></tr>\n",
       "<tr class=\"tf\"><td class=\"tf\">5</td><td class=\"tf\"> <a href=\"https://shebanq.ancient-data.org/hebrew/text?book=Genesis&amp;chapter=1&amp;verse=10&amp;version=2017&amp;mr=m&amp;qw=q&amp;tp=txt_p&amp;tr=hb&amp;wget=v&amp;qget=v&amp;nget=vt\" title=\"show this passage in SHEBANQ\" sec=\"Genesis 1:10\">Genesis 1:10</a></td><td class=\"tf\"><a href=\"https://shebanq.ancient-data.org/hebrew/text?book=Genesis&amp;chapter=1&amp;verse=10&amp;version=2017&amp;mr=m&amp;qw=q&amp;tp=txt_p&amp;tr=hb&amp;wget=v&amp;qget=v&amp;nget=vt\" title=\"Genesis 1:10\" sec=\"Genesis 1:10\"><span class=\"plain outer  rtl \"><span class=\"plain rtl  hlbx\" ><span class=\"plain rtl  \" ><span class=\"plain rtl  hlbx\" ><span class=\"plain rtl  \" ><span class=\"plain rtl  \" ><span class=\"h\">כִּי־</span></span></span></span><span class=\"plain rtl  hlbx\" ><span class=\"plain rtl  \" ><span class=\"plain rtl  \" ><span class=\"h\">טֹֽוב׃ </span></span></span></span></span></span></span></a></td><td class=\"tf\"><span class=\"plain outer  rtl \"><span class=\"plain rtl  hlbx\" ><span class=\"plain rtl  \" ><span class=\"plain rtl  \" ><span class=\"h\">כִּי־</span></span></span></span></span></td><td class=\"tf\"><span class=\"plain outer  rtl \"><span class=\"plain rtl  hlbx\" ><span class=\"plain rtl  \" ><span class=\"plain rtl  \" ><span class=\"h\">טֹֽוב׃ </span></span></span></span></span></td></tr>\n",
       "<tr class=\"tf\"><td class=\"tf\">6</td><td class=\"tf\"> <a href=\"https://shebanq.ancient-data.org/hebrew/text?book=Genesis&amp;chapter=1&amp;verse=11&amp;version=2017&amp;mr=m&amp;qw=q&amp;tp=txt_p&amp;tr=hb&amp;wget=v&amp;qget=v&amp;nget=vt\" title=\"show this passage in SHEBANQ\" sec=\"Genesis 1:11\">Genesis 1:11</a></td><td class=\"tf\"><a href=\"https://shebanq.ancient-data.org/hebrew/text?book=Genesis&amp;chapter=1&amp;verse=11&amp;version=2017&amp;mr=m&amp;qw=q&amp;tp=txt_p&amp;tr=hb&amp;wget=v&amp;qget=v&amp;nget=vt\" title=\"Genesis 1:11\" sec=\"Genesis 1:11\"><span class=\"plain outer  rtl \"><span class=\"plain rtl  hlbx\" ><span class=\"plain rtl  \" ><span class=\"plain rtl  hlbx\" ><span class=\"plain rtl  \" ><span class=\"plain rtl  \" ><span class=\"h\">מַזְרִ֣יעַ </span></span></span></span><span class=\"plain rtl  hlbx\" ><span class=\"plain rtl  \" ><span class=\"plain rtl  \" ><span class=\"h\">זֶ֔רַע </span></span></span></span></span></span></span></a></td><td class=\"tf\"><span class=\"plain outer  rtl \"><span class=\"plain rtl  hlbx\" ><span class=\"plain rtl  \" ><span class=\"plain rtl  \" ><span class=\"h\">מַזְרִ֣יעַ </span></span></span></span></span></td><td class=\"tf\"><span class=\"plain outer  rtl \"><span class=\"plain rtl  hlbx\" ><span class=\"plain rtl  \" ><span class=\"plain rtl  \" ><span class=\"h\">זֶ֔רַע </span></span></span></span></span></td></tr>\n",
       "<tr class=\"tf\"><td class=\"tf\">7</td><td class=\"tf\"> <a href=\"https://shebanq.ancient-data.org/hebrew/text?book=Genesis&amp;chapter=1&amp;verse=12&amp;version=2017&amp;mr=m&amp;qw=q&amp;tp=txt_p&amp;tr=hb&amp;wget=v&amp;qget=v&amp;nget=vt\" title=\"show this passage in SHEBANQ\" sec=\"Genesis 1:12\">Genesis 1:12</a></td><td class=\"tf\"><a href=\"https://shebanq.ancient-data.org/hebrew/text?book=Genesis&amp;chapter=1&amp;verse=12&amp;version=2017&amp;mr=m&amp;qw=q&amp;tp=txt_p&amp;tr=hb&amp;wget=v&amp;qget=v&amp;nget=vt\" title=\"Genesis 1:12\" sec=\"Genesis 1:12\"><span class=\"plain outer  rtl \"><span class=\"plain rtl  hlbx\" ><span class=\"plain rtl  \" ><span class=\"plain rtl  hlbx\" ><span class=\"plain rtl  \" ><span class=\"plain rtl  \" ><span class=\"h\">כִּי־</span></span></span></span><span class=\"plain rtl  hlbx\" ><span class=\"plain rtl  \" ><span class=\"plain rtl  \" ><span class=\"h\">טֹֽוב׃ </span></span></span></span></span></span></span></a></td><td class=\"tf\"><span class=\"plain outer  rtl \"><span class=\"plain rtl  hlbx\" ><span class=\"plain rtl  \" ><span class=\"plain rtl  \" ><span class=\"h\">כִּי־</span></span></span></span></span></td><td class=\"tf\"><span class=\"plain outer  rtl \"><span class=\"plain rtl  hlbx\" ><span class=\"plain rtl  \" ><span class=\"plain rtl  \" ><span class=\"h\">טֹֽוב׃ </span></span></span></span></span></td></tr>\n",
       "<tr class=\"tf\"><td class=\"tf\">8</td><td class=\"tf\"> <a href=\"https://shebanq.ancient-data.org/hebrew/text?book=Genesis&amp;chapter=1&amp;verse=14&amp;version=2017&amp;mr=m&amp;qw=q&amp;tp=txt_p&amp;tr=hb&amp;wget=v&amp;qget=v&amp;nget=vt\" title=\"show this passage in SHEBANQ\" sec=\"Genesis 1:14\">Genesis 1:14</a></td><td class=\"tf\"><a href=\"https://shebanq.ancient-data.org/hebrew/text?book=Genesis&amp;chapter=1&amp;verse=14&amp;version=2017&amp;mr=m&amp;qw=q&amp;tp=txt_p&amp;tr=hb&amp;wget=v&amp;qget=v&amp;nget=vt\" title=\"Genesis 1:14\" sec=\"Genesis 1:14\"><span class=\"plain outer  rtl \"><span class=\"plain rtl  hlbx\" ><span class=\"plain rtl  \" ><span class=\"plain rtl  hlbx\" ><span class=\"plain rtl  \" ><span class=\"plain rtl  \" ><span class=\"h\">לְ</span></span><span class=\"plain rtl  \" ><span class=\"h\">הַבְדִּ֕יל </span></span></span></span><span class=\"plain rtl  hlbx\" ><span class=\"plain rtl  \" ><span class=\"plain rtl  \" ><span class=\"h\">בֵּ֥ין </span></span><span class=\"plain rtl  \" ><span class=\"h\">הַ</span></span><span class=\"plain rtl  \" ><span class=\"h\">יֹּ֖ום </span></span><span class=\"plain rtl  \" ><span class=\"h\">וּ</span></span><span class=\"plain rtl  \" ><span class=\"h\">בֵ֣ין </span></span><span class=\"plain rtl  \" ><span class=\"h\">הַ</span></span><span class=\"plain rtl  \" ><span class=\"h\">לָּ֑יְלָה </span></span></span></span></span></span></span></a></td><td class=\"tf\"><span class=\"plain outer  rtl \"><span class=\"plain rtl  hlbx\" ><span class=\"plain rtl  \" ><span class=\"plain rtl  \" ><span class=\"h\">לְ</span></span><span class=\"plain rtl  \" ><span class=\"h\">הַבְדִּ֕יל </span></span></span></span></span></td><td class=\"tf\"><span class=\"plain outer  rtl \"><span class=\"plain rtl  hlbx\" ><span class=\"plain rtl  \" ><span class=\"plain rtl  \" ><span class=\"h\">בֵּ֥ין </span></span><span class=\"plain rtl  \" ><span class=\"h\">הַ</span></span><span class=\"plain rtl  \" ><span class=\"h\">יֹּ֖ום </span></span><span class=\"plain rtl  \" ><span class=\"h\">וּ</span></span><span class=\"plain rtl  \" ><span class=\"h\">בֵ֣ין </span></span><span class=\"plain rtl  \" ><span class=\"h\">הַ</span></span><span class=\"plain rtl  \" ><span class=\"h\">לָּ֑יְלָה </span></span></span></span></span></td></tr>\n",
       "<tr class=\"tf\"><td class=\"tf\">9</td><td class=\"tf\"> <a href=\"https://shebanq.ancient-data.org/hebrew/text?book=Genesis&amp;chapter=1&amp;verse=15&amp;version=2017&amp;mr=m&amp;qw=q&amp;tp=txt_p&amp;tr=hb&amp;wget=v&amp;qget=v&amp;nget=vt\" title=\"show this passage in SHEBANQ\" sec=\"Genesis 1:15\">Genesis 1:15</a></td><td class=\"tf\"><a href=\"https://shebanq.ancient-data.org/hebrew/text?book=Genesis&amp;chapter=1&amp;verse=15&amp;version=2017&amp;mr=m&amp;qw=q&amp;tp=txt_p&amp;tr=hb&amp;wget=v&amp;qget=v&amp;nget=vt\" title=\"Genesis 1:15\" sec=\"Genesis 1:15\"><span class=\"plain outer  rtl \"><span class=\"plain rtl  hlbx\" ><span class=\"plain rtl  \" ><span class=\"plain rtl  hlbx\" ><span class=\"plain rtl  \" ><span class=\"plain rtl  \" ><span class=\"h\">לְ</span></span><span class=\"plain rtl  \" ><span class=\"h\">הָאִ֖יר </span></span></span></span><span class=\"plain rtl  hlbx\" ><span class=\"plain rtl  \" ><span class=\"plain rtl  \" ><span class=\"h\">עַל־</span></span><span class=\"plain rtl  \" ><span class=\"h\">הָ</span></span><span class=\"plain rtl  \" ><span class=\"h\">אָ֑רֶץ </span></span></span></span></span></span></span></a></td><td class=\"tf\"><span class=\"plain outer  rtl \"><span class=\"plain rtl  hlbx\" ><span class=\"plain rtl  \" ><span class=\"plain rtl  \" ><span class=\"h\">לְ</span></span><span class=\"plain rtl  \" ><span class=\"h\">הָאִ֖יר </span></span></span></span></span></td><td class=\"tf\"><span class=\"plain outer  rtl \"><span class=\"plain rtl  hlbx\" ><span class=\"plain rtl  \" ><span class=\"plain rtl  \" ><span class=\"h\">עַל־</span></span><span class=\"plain rtl  \" ><span class=\"h\">הָ</span></span><span class=\"plain rtl  \" ><span class=\"h\">אָ֑רֶץ </span></span></span></span></span></td></tr>\n",
       "<tr class=\"tf\"><td class=\"tf\">10</td><td class=\"tf\"> <a href=\"https://shebanq.ancient-data.org/hebrew/text?book=Genesis&amp;chapter=1&amp;verse=17&amp;version=2017&amp;mr=m&amp;qw=q&amp;tp=txt_p&amp;tr=hb&amp;wget=v&amp;qget=v&amp;nget=vt\" title=\"show this passage in SHEBANQ\" sec=\"Genesis 1:17\">Genesis 1:17</a></td><td class=\"tf\"><a href=\"https://shebanq.ancient-data.org/hebrew/text?book=Genesis&amp;chapter=1&amp;verse=17&amp;version=2017&amp;mr=m&amp;qw=q&amp;tp=txt_p&amp;tr=hb&amp;wget=v&amp;qget=v&amp;nget=vt\" title=\"Genesis 1:17\" sec=\"Genesis 1:17\"><span class=\"plain outer  rtl \"><span class=\"plain rtl  hlbx\" ><span class=\"plain rtl  \" ><span class=\"plain rtl  hlbx\" ><span class=\"plain rtl  \" ><span class=\"plain rtl  \" ><span class=\"h\">לְ</span></span><span class=\"plain rtl  \" ><span class=\"h\">הָאִ֖יר </span></span></span></span><span class=\"plain rtl  hlbx\" ><span class=\"plain rtl  \" ><span class=\"plain rtl  \" ><span class=\"h\">עַל־</span></span><span class=\"plain rtl  \" ><span class=\"h\">הָ</span></span><span class=\"plain rtl  \" ><span class=\"h\">אָֽרֶץ׃ </span></span></span></span></span></span></span></a></td><td class=\"tf\"><span class=\"plain outer  rtl \"><span class=\"plain rtl  hlbx\" ><span class=\"plain rtl  \" ><span class=\"plain rtl  \" ><span class=\"h\">לְ</span></span><span class=\"plain rtl  \" ><span class=\"h\">הָאִ֖יר </span></span></span></span></span></td><td class=\"tf\"><span class=\"plain outer  rtl \"><span class=\"plain rtl  hlbx\" ><span class=\"plain rtl  \" ><span class=\"plain rtl  \" ><span class=\"h\">עַל־</span></span><span class=\"plain rtl  \" ><span class=\"h\">הָ</span></span><span class=\"plain rtl  \" ><span class=\"h\">אָֽרֶץ׃ </span></span></span></span></span></td></tr></table>"
      ],
      "text/plain": [
       "<IPython.core.display.HTML object>"
      ]
     },
     "metadata": {},
     "output_type": "display_data"
    }
   ],
   "source": [
    "query = '''\n",
    "cm:clause\n",
    "-mother> cd:clause\n",
    "\n",
    "v1:verse\n",
    "v2:verse\n",
    "v1 = v2\n",
    "\n",
    "cm ]] v1\n",
    "cd ]] v2\n",
    "'''\n",
    "sameMotherPairs = A.search(query)\n",
    "A.table(results, end=10)"
   ]
  },
  {
   "cell_type": "markdown",
   "metadata": {},
   "source": [
    "### The difference\n",
    "\n",
    "Let's check if the numbers add up:\n",
    "\n",
    "* the first query asked for all pairs\n",
    "* the second query asked for pairs with members in different verses\n",
    "* the third query asked for pairs with members in the same verse\n",
    "\n",
    "Then the results of the second and third query combined should\n",
    "equal the results of the first query.\n",
    "\n",
    "That makes sense.\n",
    "\n",
    "Still, let's check:"
   ]
  },
  {
   "cell_type": "code",
   "execution_count": 100,
   "metadata": {
    "ExecuteTime": {
     "end_time": "2018-05-24T08:00:16.632029Z",
     "start_time": "2018-05-24T08:00:16.627787Z"
    }
   },
   "outputs": [
    {
     "name": "stdout",
     "output_type": "stream",
     "text": [
      "26\n"
     ]
    }
   ],
   "source": [
    "discrepancy = len(allMotherPairs) - len(diffMotherPairs) - len(sameMotherPairs)\n",
    "print(discrepancy)"
   ]
  },
  {
   "cell_type": "markdown",
   "metadata": {},
   "source": [
    "The numbers do not add up. We are missing cases. Why?\n",
    "\n",
    "Clauses may cross verse boundaries. In that case they are not part of a verse, and hence our latter two queries\n",
    "do not detect them. Let's count how many verse boundary crossing clauses there are."
   ]
  },
  {
   "cell_type": "code",
   "execution_count": 101,
   "metadata": {},
   "outputs": [
    {
     "name": "stdout",
     "output_type": "stream",
     "text": [
      "  1.31s 50 results\n"
     ]
    }
   ],
   "source": [
    "query = '''\n",
    "clause\n",
    "/with/\n",
    "v1:verse\n",
    "&& ..\n",
    "v2:verse\n",
    "&& ..\n",
    "v1 < v2\n",
    "/-/\n",
    "'''\n",
    "results = A.search(query)"
   ]
  },
  {
   "cell_type": "markdown",
   "metadata": {},
   "source": [
    "You might think we can speed up the query by requiring `v1 <: v2` (both verses are adjacent).\n",
    "There are less possibilities to consider, to maybe we gain something."
   ]
  },
  {
   "cell_type": "code",
   "execution_count": 102,
   "metadata": {},
   "outputs": [
    {
     "name": "stdout",
     "output_type": "stream",
     "text": [
      "  1.28s 49 results\n"
     ]
    }
   ],
   "source": [
    "query = '''\n",
    "clause\n",
    "/with/\n",
    "v1:verse\n",
    "&& ..\n",
    "v2:verse\n",
    "&& ..\n",
    "v1 <: v2\n",
    "/-/\n",
    "'''\n",
    "results = A.search(query)"
   ]
  },
  {
   "cell_type": "markdown",
   "metadata": {},
   "source": [
    "Indeed, slightly faster, but one result less! How can that be?\n",
    "\n",
    "There must be a clause that spans at least two verses and in doing so, skips at least one verse.\n",
    "\n",
    "Let's find that one:"
   ]
  },
  {
   "cell_type": "code",
   "execution_count": 103,
   "metadata": {},
   "outputs": [
    {
     "name": "stdout",
     "output_type": "stream",
     "text": [
      "  2.21s 1 result\n"
     ]
    }
   ],
   "source": [
    "query = '''\n",
    "clause\n",
    "/with/\n",
    "v1:verse\n",
    "&& ..\n",
    "v2:verse\n",
    "|| ..\n",
    "v3:verse\n",
    "&& ..\n",
    "v1 < v2\n",
    "v2 < v3\n",
    "v1 < v3\n",
    "/-/\n",
    "'''\n",
    "resultsX = A.search(query)"
   ]
  },
  {
   "cell_type": "code",
   "execution_count": 105,
   "metadata": {},
   "outputs": [
    {
     "data": {
      "text/html": [
       "<table>\n",
       "<tr class=\"tf\">\n",
       "  <th class=\"tf\">n</th><th class=\"tf\">p</th>\n",
       "  <th class=\"tf\">clause</th>\n",
       "</tr>\n",
       "\n",
       "<tr class=\"tf\"><td class=\"tf\">1</td><td class=\"tf\"> <a href=\"https://shebanq.ancient-data.org/hebrew/text?book=Reges_I&amp;chapter=8&amp;verse=41&amp;version=2017&amp;mr=m&amp;qw=q&amp;tp=txt_p&amp;tr=hb&amp;wget=v&amp;qget=v&amp;nget=vt\" title=\"show this passage in SHEBANQ\" sec=\"1_Kings 8:41\">1_Kings 8:41</a></td><td class=\"tf\"><a href=\"https://shebanq.ancient-data.org/hebrew/text?book=Reges_I&amp;chapter=8&amp;verse=41&amp;version=2017&amp;mr=m&amp;qw=q&amp;tp=txt_p&amp;tr=hb&amp;wget=v&amp;qget=v&amp;nget=vt\" title=\"1_Kings 8:41\" sec=\"1_Kings 8:41\"><span class=\"plain outer  rtl \"><span class=\"plain rtl  l hlbx\" ><span class=\"plain rtl  \" ><span class=\"plain rtl  \" ><span class=\"plain rtl  \" ><span class=\"h\">וְ</span></span></span><span class=\"plain rtl  \" ><span class=\"plain rtl  \" ><span class=\"h\">גַם֙ </span></span><span class=\"plain rtl  \" ><span class=\"h\">אֶל־</span></span><span class=\"plain rtl  \" ><span class=\"h\">הַ</span></span><span class=\"plain rtl  \" ><span class=\"h\">נָּכְרִ֔י </span></span></span></span></span><span class=\"plain rtl  r hlbx\" ><span class=\"plain rtl  \" ><span class=\"plain rtl  \" ><span class=\"plain rtl  \" ><span class=\"h\">אַתָּ֞ה </span></span></span><span class=\"plain rtl  \" ><span class=\"plain rtl  \" ><span class=\"h\">תִּשְׁמַ֤ע </span></span></span><span class=\"plain rtl  \" ><span class=\"plain rtl  \" ><span class=\"h\">הַ</span></span><span class=\"plain rtl  \" ><span class=\"h\">שָּׁמַ֨יִם֙ </span></span></span><span class=\"plain rtl  \" ><span class=\"plain rtl  \" ><span class=\"h\">מְכֹ֣ון </span></span><span class=\"plain rtl  \" ><span class=\"h\">שִׁבְתֶּ֔ךָ </span></span></span></span></span></span></a></td></tr></table>"
      ],
      "text/plain": [
       "<IPython.core.display.HTML object>"
      ]
     },
     "metadata": {},
     "output_type": "display_data"
    },
    {
     "data": {
      "text/html": [
       "<p><b>result</b> <i>1</i></p>"
      ],
      "text/plain": [
       "<IPython.core.display.HTML object>"
      ]
     },
     "metadata": {},
     "output_type": "display_data"
    },
    {
     "data": {
      "text/html": [
       "<div class=\"outeritem\"><div class=\"verse  \" >\n",
       "    <div class=\"vl\">\n",
       "        <div class=\"vrs\"><a href=\"https://shebanq.ancient-data.org/hebrew/text?book=Reges_I&amp;chapter=8&amp;verse=41&amp;version=2017&amp;mr=m&amp;qw=q&amp;tp=txt_p&amp;tr=hb&amp;wget=v&amp;qget=v&amp;nget=vt\" title=\"show this passage in SHEBANQ\" sec=\"1_Kings 8:41\">1_Kings 8:41</a></div>\n",
       "        \n",
       "    </div>\n",
       "<div class=\"satom  l \" >\n",
       "        <div class=\"sentence \" >\n",
       "            <a href=\"https://shebanq.ancient-data.org/hebrew/text?book=Reges_I&amp;chapter=8&amp;verse=41&amp;version=2017&amp;mr=m&amp;qw=q&amp;tp=txt_p&amp;tr=hb&amp;wget=v&amp;qget=v&amp;nget=vt\" title=\"1_Kings 8:41\" sec=\"1_Kings 8:41\">sentence</a>   <span class=\"number\">92|866</span>\n",
       "        </div>\n",
       "        <div class=\"atoms\">\n",
       "                    <div class=\"catom  l hl\" >\n",
       "        <div class=\"clause hl\" >\n",
       "            <a href=\"https://shebanq.ancient-data.org/hebrew/text?book=Reges_I&amp;chapter=8&amp;verse=41&amp;version=2017&amp;mr=m&amp;qw=q&amp;tp=txt_p&amp;tr=hb&amp;wget=v&amp;qget=v&amp;nget=vt\" title=\"1_Kings 8:41\" sec=\"1_Kings 8:41\">clause</a>   <span class=\"typ\">WXYq|Defc</span>\n",
       "        </div>\n",
       "        <div class=\"atoms\">\n",
       "                    <span class=\"plain outer  rtl  \" ><span class=\"plain rtl  \" ><span class=\"plain rtl  \" ><span class=\"h\">וְ</span></span></span><span class=\"plain rtl  \" ><span class=\"plain rtl  \" ><span class=\"h\">גַם֙ </span></span><span class=\"plain rtl  \" ><span class=\"h\">אֶל־</span></span><span class=\"plain rtl  \" ><span class=\"h\">הַ</span></span><span class=\"plain rtl  \" ><span class=\"h\">נָּכְרִ֔י </span></span></span></span></div></div><div class=\"catom  \" >\n",
       "        <div class=\"clause \" >\n",
       "            <a href=\"https://shebanq.ancient-data.org/hebrew/text?book=Reges_I&amp;chapter=8&amp;verse=41&amp;version=2017&amp;mr=m&amp;qw=q&amp;tp=txt_p&amp;tr=hb&amp;wget=v&amp;qget=v&amp;nget=vt\" title=\"1_Kings 8:41\" sec=\"1_Kings 8:41\">clause</a>   <span class=\"rela\">Attr</span> <span class=\"typ\">NmCl</span>\n",
       "        </div>\n",
       "        <div class=\"atoms\">\n",
       "                    <span class=\"plain outer  rtl  \" ><span class=\"plain rtl  \" ><span class=\"plain rtl  \" ><span class=\"h\">אֲשֶׁ֛ר </span></span></span><span class=\"plain rtl  \" ><span class=\"plain rtl  \" ><span class=\"h\">לֹא־</span></span></span><span class=\"plain rtl  \" ><span class=\"plain rtl  \" ><span class=\"h\">מֵ</span></span><span class=\"plain rtl  \" ><span class=\"h\">עַמְּךָ֥ </span></span></span><span class=\"plain rtl  \" ><span class=\"plain rtl  \" ><span class=\"h\">יִשְׂרָאֵ֖ל </span></span></span><span class=\"plain rtl  \" ><span class=\"plain rtl  \" ><span class=\"h\">ה֑וּא </span></span></span></span></div></div><div class=\"catom  \" >\n",
       "        <div class=\"clause \" >\n",
       "            <a href=\"https://shebanq.ancient-data.org/hebrew/text?book=Reges_I&amp;chapter=8&amp;verse=41&amp;version=2017&amp;mr=m&amp;qw=q&amp;tp=txt_p&amp;tr=hb&amp;wget=v&amp;qget=v&amp;nget=vt\" title=\"1_Kings 8:41\" sec=\"1_Kings 8:41\">clause</a>   <span class=\"rela\">Coor</span> <span class=\"typ\">WQt0</span>\n",
       "        </div>\n",
       "        <div class=\"atoms\">\n",
       "                    <span class=\"plain outer  rtl  \" ><span class=\"plain rtl  \" ><span class=\"plain rtl  \" ><span class=\"h\">וּ</span></span></span><span class=\"plain rtl  \" ><span class=\"plain rtl  \" ><span class=\"h\">בָ֛א </span></span></span><span class=\"plain rtl  \" ><span class=\"plain rtl  \" ><span class=\"h\">מֵ</span></span><span class=\"plain rtl  \" ><span class=\"h\">אֶ֥רֶץ </span></span><span class=\"plain rtl  \" ><span class=\"h\">רְחֹוקָ֖ה </span></span></span><span class=\"plain rtl  \" ><span class=\"plain rtl  \" ><span class=\"h\">לְמַ֥עַן </span></span><span class=\"plain rtl  \" ><span class=\"h\">שְׁמֶֽךָ׃ </span></span></span></span></div></div></div></div></div></div>"
      ],
      "text/plain": [
       "<IPython.core.display.HTML object>"
      ]
     },
     "metadata": {},
     "output_type": "display_data"
    },
    {
     "data": {
      "text/html": [
       "<div class=\"outeritem\"><div class=\"verse  \" >\n",
       "    <div class=\"vl\">\n",
       "        <div class=\"vrs\"><a href=\"https://shebanq.ancient-data.org/hebrew/text?book=Reges_I&amp;chapter=8&amp;verse=43&amp;version=2017&amp;mr=m&amp;qw=q&amp;tp=txt_p&amp;tr=hb&amp;wget=v&amp;qget=v&amp;nget=vt\" title=\"show this passage in SHEBANQ\" sec=\"1_Kings 8:43\">1_Kings 8:43</a></div>\n",
       "        \n",
       "    </div>\n",
       "<div class=\"satom  rno r \" >\n",
       "        <div class=\"sentence \" >\n",
       "            <a href=\"https://shebanq.ancient-data.org/hebrew/text?book=Reges_I&amp;chapter=8&amp;verse=41&amp;version=2017&amp;mr=m&amp;qw=q&amp;tp=txt_p&amp;tr=hb&amp;wget=v&amp;qget=v&amp;nget=vt\" title=\"1_Kings 8:41\" sec=\"1_Kings 8:41\">sentence</a>   <span class=\"number\">92|868</span>\n",
       "        </div>\n",
       "        <div class=\"atoms\">\n",
       "                    <div class=\"catom  r hl\" >\n",
       "        <div class=\"clause hl\" >\n",
       "            <a href=\"https://shebanq.ancient-data.org/hebrew/text?book=Reges_I&amp;chapter=8&amp;verse=41&amp;version=2017&amp;mr=m&amp;qw=q&amp;tp=txt_p&amp;tr=hb&amp;wget=v&amp;qget=v&amp;nget=vt\" title=\"1_Kings 8:41\" sec=\"1_Kings 8:41\">clause</a>   <span class=\"typ\">WXYq|XYqt</span>\n",
       "        </div>\n",
       "        <div class=\"atoms\">\n",
       "                    <span class=\"plain outer  rtl  \" ><span class=\"plain rtl  \" ><span class=\"plain rtl  \" ><span class=\"h\">אַתָּ֞ה </span></span></span><span class=\"plain rtl  \" ><span class=\"plain rtl  \" ><span class=\"h\">תִּשְׁמַ֤ע </span></span></span><span class=\"plain rtl  \" ><span class=\"plain rtl  \" ><span class=\"h\">הַ</span></span><span class=\"plain rtl  \" ><span class=\"h\">שָּׁמַ֨יִם֙ </span></span></span><span class=\"plain rtl  \" ><span class=\"plain rtl  \" ><span class=\"h\">מְכֹ֣ון </span></span><span class=\"plain rtl  \" ><span class=\"h\">שִׁבְתֶּ֔ךָ </span></span></span></span></div></div></div></div><div class=\"satom  \" >\n",
       "        <div class=\"sentence \" >\n",
       "            <a href=\"https://shebanq.ancient-data.org/hebrew/text?book=Reges_I&amp;chapter=8&amp;verse=43&amp;version=2017&amp;mr=m&amp;qw=q&amp;tp=txt_p&amp;tr=hb&amp;wget=v&amp;qget=v&amp;nget=vt\" title=\"1_Kings 8:43\" sec=\"1_Kings 8:43\">sentence</a>   <span class=\"number\">94|869</span>\n",
       "        </div>\n",
       "        <div class=\"atoms\">\n",
       "                    <div class=\"catom  \" >\n",
       "        <div class=\"clause \" >\n",
       "            <a href=\"https://shebanq.ancient-data.org/hebrew/text?book=Reges_I&amp;chapter=8&amp;verse=43&amp;version=2017&amp;mr=m&amp;qw=q&amp;tp=txt_p&amp;tr=hb&amp;wget=v&amp;qget=v&amp;nget=vt\" title=\"1_Kings 8:43\" sec=\"1_Kings 8:43\">clause</a>   <span class=\"typ\">WQt0</span>\n",
       "        </div>\n",
       "        <div class=\"atoms\">\n",
       "                    <span class=\"plain outer  rtl  \" ><span class=\"plain rtl  \" ><span class=\"plain rtl  \" ><span class=\"h\">וְ</span></span></span><span class=\"plain rtl  \" ><span class=\"plain rtl  \" ><span class=\"h\">עָשִׂ֕יתָ </span></span></span><span class=\"plain rtl  \" ><span class=\"plain rtl  \" ><span class=\"h\">כְּ</span></span><span class=\"plain rtl  \" ><span class=\"h\">כֹ֛ל </span></span></span></span></div></div><div class=\"catom  \" >\n",
       "        <div class=\"clause \" >\n",
       "            <a href=\"https://shebanq.ancient-data.org/hebrew/text?book=Reges_I&amp;chapter=8&amp;verse=43&amp;version=2017&amp;mr=m&amp;qw=q&amp;tp=txt_p&amp;tr=hb&amp;wget=v&amp;qget=v&amp;nget=vt\" title=\"1_Kings 8:43\" sec=\"1_Kings 8:43\">clause</a>   <span class=\"rela\">Attr</span> <span class=\"typ\">xYqX</span>\n",
       "        </div>\n",
       "        <div class=\"atoms\">\n",
       "                    <span class=\"plain outer  rtl  \" ><span class=\"plain rtl  \" ><span class=\"plain rtl  \" ><span class=\"h\">אֲשֶׁר־</span></span></span><span class=\"plain rtl  \" ><span class=\"plain rtl  \" ><span class=\"h\">יִקְרָ֥א </span></span></span><span class=\"plain rtl  \" ><span class=\"plain rtl  \" ><span class=\"h\">אֵלֶ֖יךָ </span></span></span><span class=\"plain rtl  \" ><span class=\"plain rtl  \" ><span class=\"h\">הַ</span></span><span class=\"plain rtl  \" ><span class=\"h\">נָּכְרִ֑י </span></span></span></span></div></div></div></div><div class=\"satom  \" >\n",
       "        <div class=\"sentence \" >\n",
       "            <a href=\"https://shebanq.ancient-data.org/hebrew/text?book=Reges_I&amp;chapter=8&amp;verse=43&amp;version=2017&amp;mr=m&amp;qw=q&amp;tp=txt_p&amp;tr=hb&amp;wget=v&amp;qget=v&amp;nget=vt\" title=\"1_Kings 8:43\" sec=\"1_Kings 8:43\">sentence</a>   <span class=\"number\">95|870</span>\n",
       "        </div>\n",
       "        <div class=\"atoms\">\n",
       "                    <div class=\"catom  \" >\n",
       "        <div class=\"clause \" >\n",
       "            <a href=\"https://shebanq.ancient-data.org/hebrew/text?book=Reges_I&amp;chapter=8&amp;verse=43&amp;version=2017&amp;mr=m&amp;qw=q&amp;tp=txt_p&amp;tr=hb&amp;wget=v&amp;qget=v&amp;nget=vt\" title=\"1_Kings 8:43\" sec=\"1_Kings 8:43\">clause</a>   <span class=\"typ\">xYqX</span>\n",
       "        </div>\n",
       "        <div class=\"atoms\">\n",
       "                    <span class=\"plain outer  rtl  \" ><span class=\"plain rtl  \" ><span class=\"plain rtl  \" ><span class=\"h\">לְמַ֣עַן </span></span></span><span class=\"plain rtl  \" ><span class=\"plain rtl  \" ><span class=\"h\">יֵדְעוּן֩ </span></span></span><span class=\"plain rtl  \" ><span class=\"plain rtl  \" ><span class=\"h\">כָּל־</span></span><span class=\"plain rtl  \" ><span class=\"h\">עַמֵּ֨י </span></span><span class=\"plain rtl  \" ><span class=\"h\">הָ</span></span><span class=\"plain rtl  \" ><span class=\"h\">אָ֜רֶץ </span></span></span><span class=\"plain rtl  \" ><span class=\"plain rtl  \" ><span class=\"h\">אֶת־</span></span><span class=\"plain rtl  \" ><span class=\"h\">שְׁמֶ֗ךָ </span></span></span></span></div></div><div class=\"catom  \" >\n",
       "        <div class=\"clause \" >\n",
       "            <a href=\"https://shebanq.ancient-data.org/hebrew/text?book=Reges_I&amp;chapter=8&amp;verse=43&amp;version=2017&amp;mr=m&amp;qw=q&amp;tp=txt_p&amp;tr=hb&amp;wget=v&amp;qget=v&amp;nget=vt\" title=\"1_Kings 8:43\" sec=\"1_Kings 8:43\">clause</a>   <span class=\"rela\">Adju</span> <span class=\"typ\">InfC</span>\n",
       "        </div>\n",
       "        <div class=\"atoms\">\n",
       "                    <span class=\"plain outer  rtl  \" ><span class=\"plain rtl  \" ><span class=\"plain rtl  \" ><span class=\"h\">לְ</span></span><span class=\"plain rtl  \" ><span class=\"h\">יִרְאָ֤ה </span></span></span><span class=\"plain rtl  \" ><span class=\"plain rtl  \" ><span class=\"h\">אֹֽתְךָ֙ </span></span></span><span class=\"plain rtl  \" ><span class=\"plain rtl  \" ><span class=\"h\">כְּ</span></span><span class=\"plain rtl  \" ><span class=\"h\">עַמְּךָ֣ </span></span></span><span class=\"plain rtl  \" ><span class=\"plain rtl  \" ><span class=\"h\">יִשְׂרָאֵ֔ל </span></span></span></span></div></div><div class=\"catom  \" >\n",
       "        <div class=\"clause \" >\n",
       "            <a href=\"https://shebanq.ancient-data.org/hebrew/text?book=Reges_I&amp;chapter=8&amp;verse=43&amp;version=2017&amp;mr=m&amp;qw=q&amp;tp=txt_p&amp;tr=hb&amp;wget=v&amp;qget=v&amp;nget=vt\" title=\"1_Kings 8:43\" sec=\"1_Kings 8:43\">clause</a>   <span class=\"rela\">Coor</span> <span class=\"typ\">InfC</span>\n",
       "        </div>\n",
       "        <div class=\"atoms\">\n",
       "                    <span class=\"plain outer  rtl  \" ><span class=\"plain rtl  \" ><span class=\"plain rtl  \" ><span class=\"h\">וְ</span></span></span><span class=\"plain rtl  \" ><span class=\"plain rtl  \" ><span class=\"h\">לָ</span></span><span class=\"plain rtl  \" ><span class=\"h\">דַ֕עַת </span></span></span></span></div></div><div class=\"catom  \" >\n",
       "        <div class=\"clause \" >\n",
       "            <a href=\"https://shebanq.ancient-data.org/hebrew/text?book=Reges_I&amp;chapter=8&amp;verse=43&amp;version=2017&amp;mr=m&amp;qw=q&amp;tp=txt_p&amp;tr=hb&amp;wget=v&amp;qget=v&amp;nget=vt\" title=\"1_Kings 8:43\" sec=\"1_Kings 8:43\">clause</a>   <span class=\"rela\">Objc</span> <span class=\"typ\">XQtl</span>\n",
       "        </div>\n",
       "        <div class=\"atoms\">\n",
       "                    <span class=\"plain outer  rtl  \" ><span class=\"plain rtl  \" ><span class=\"plain rtl  \" ><span class=\"h\">כִּי־</span></span></span><span class=\"plain rtl  \" ><span class=\"plain rtl  \" ><span class=\"h\">שִׁמְךָ֣ </span></span></span><span class=\"plain rtl  \" ><span class=\"plain rtl  \" ><span class=\"h\">נִקְרָ֔א </span></span></span><span class=\"plain rtl  \" ><span class=\"plain rtl  \" ><span class=\"h\">עַל־</span></span><span class=\"plain rtl  \" ><span class=\"h\">הַ</span></span><span class=\"plain rtl  \" ><span class=\"h\">בַּ֥יִת </span></span><span class=\"plain rtl  \" ><span class=\"h\">הַ</span></span><span class=\"plain rtl  \" ><span class=\"h\">זֶּ֖ה </span></span></span></span></div></div><div class=\"catom  \" >\n",
       "        <div class=\"clause \" >\n",
       "            <a href=\"https://shebanq.ancient-data.org/hebrew/text?book=Reges_I&amp;chapter=8&amp;verse=43&amp;version=2017&amp;mr=m&amp;qw=q&amp;tp=txt_p&amp;tr=hb&amp;wget=v&amp;qget=v&amp;nget=vt\" title=\"1_Kings 8:43\" sec=\"1_Kings 8:43\">clause</a>   <span class=\"rela\">Attr</span> <span class=\"typ\">xQt0</span>\n",
       "        </div>\n",
       "        <div class=\"atoms\">\n",
       "                    <span class=\"plain outer  rtl  \" ><span class=\"plain rtl  \" ><span class=\"plain rtl  \" ><span class=\"h\">אֲשֶׁ֥ר </span></span></span><span class=\"plain rtl  \" ><span class=\"plain rtl  \" ><span class=\"h\">בָּנִֽיתִי׃ </span></span></span></span></div></div></div></div></div></div>"
      ],
      "text/plain": [
       "<IPython.core.display.HTML object>"
      ]
     },
     "metadata": {},
     "output_type": "display_data"
    }
   ],
   "source": [
    "A.table(resultsX)\n",
    "A.show(resultsX, baseType=\"clause_atom\")"
   ]
  },
  {
   "cell_type": "markdown",
   "metadata": {},
   "source": [
    "A more roundabout way to find the same clauses:"
   ]
  },
  {
   "cell_type": "code",
   "execution_count": 106,
   "metadata": {
    "ExecuteTime": {
     "end_time": "2018-05-24T08:00:20.987274Z",
     "start_time": "2018-05-24T08:00:17.973289Z"
    }
   },
   "outputs": [
    {
     "name": "stdout",
     "output_type": "stream",
     "text": [
      "  2.82s 50 results\n"
     ]
    }
   ],
   "source": [
    "query = '''\n",
    "clause\n",
    "    =: first:word\n",
    "    last:word\n",
    "    :=\n",
    "v1:verse\n",
    "    w1:word\n",
    "v2:verse\n",
    "    w2:word\n",
    "    \n",
    "first = w1\n",
    "last = w2\n",
    "v1 # v2\n",
    "'''\n",
    "results = A.search(query)"
   ]
  },
  {
   "cell_type": "markdown",
   "metadata": {},
   "source": [
    "Some of these verse spanning clauses do not have mothers or are not mothers. Let's count the cases where two clauses\n",
    "are in a mother relation and at least one of them spans a verse.\n",
    "\n",
    "We need two queries for that. These queries are almost similar. One retrieves the clause pairs where the mother\n",
    "crosses verse boundaries, and the other where the daughter does so.\n",
    "\n",
    "But we are programmers. We do not have to repeat ourselves:"
   ]
  },
  {
   "cell_type": "code",
   "execution_count": 107,
   "metadata": {},
   "outputs": [
    {
     "name": "stdout",
     "output_type": "stream",
     "text": [
      " 26 spanners are missing\n",
      " 26 missing cases were detected before\n",
      "  0 is the resulting disagreement\n"
     ]
    }
   ],
   "source": [
    "queryCommon = '''\n",
    "c1:clause\n",
    "-mother> c2:clause\n",
    "\n",
    "c3:clause\n",
    "/with/\n",
    "v1:verse\n",
    "&& ..\n",
    "v2:verse\n",
    "&& ..\n",
    "v1 < v2\n",
    "/-/\n",
    "'''\n",
    "\n",
    "query1 = f'''\n",
    "{queryCommon}\n",
    "c1 = c3\n",
    "'''\n",
    "query2 = f'''\n",
    "{queryCommon}\n",
    "c2 = c3\n",
    "'''\n",
    "\n",
    "results1 = A.search(query1, silent=True)\n",
    "results2 = A.search(query2, silent=True)\n",
    "spannersByQuery = {(r[0], r[1]) for r in results1 + results2}\n",
    "print(f'{len(spannersByQuery):>3} spanners are missing')\n",
    "print(f'{discrepancy:>3} missing cases were detected before')\n",
    "print(f'{discrepancy - len(spannersByQuery):>3} is the resulting disagreement')"
   ]
  },
  {
   "cell_type": "markdown",
   "metadata": {},
   "source": [
    "We may find the mother clause pairs in which it least one member is verse spanning by hand-coding in an easier way:\n",
    "\n",
    "Starting with the set of all mother pairs, we filter out any pair that has a verse spanner."
   ]
  },
  {
   "cell_type": "code",
   "execution_count": 108,
   "metadata": {},
   "outputs": [
    {
     "data": {
      "text/plain": [
       "26"
      ]
     },
     "execution_count": 108,
     "metadata": {},
     "output_type": "execute_result"
    }
   ],
   "source": [
    "spannersByHand = set()\n",
    "\n",
    "for (c1, c2) in allMotherPairs:\n",
    "    if not (\n",
    "        L.u(c1, otype='verse')\n",
    "        and\n",
    "        L.u(c2, otype='verse')\n",
    "    ):\n",
    "        spannersByHand.add((c1, c2))\n",
    "        \n",
    "len(spannersByHand)"
   ]
  },
  {
   "cell_type": "markdown",
   "metadata": {},
   "source": [
    "And, to be completely sure:"
   ]
  },
  {
   "cell_type": "code",
   "execution_count": 109,
   "metadata": {},
   "outputs": [
    {
     "data": {
      "text/plain": [
       "True"
      ]
     },
     "execution_count": 109,
     "metadata": {},
     "output_type": "execute_result"
    }
   ],
   "source": [
    "spannersByHand == spannersByQuery"
   ]
  },
  {
   "cell_type": "markdown",
   "metadata": {},
   "source": [
    "### By custom sets\n",
    "\n",
    "If we are content with the clauses that do not span verses,\n",
    "we can put them in a set, and modify the queries by replacing `clause` by `conclause`\n",
    "and bind the right set to it.\n",
    "\n",
    "Here we go. In one cell we run the queries to get all pairs, the mother-daughter-in-separate-verses pairs,\n",
    "and the mother-daughter-in-same-verses pair and we do the math of checking."
   ]
  },
  {
   "cell_type": "code",
   "execution_count": 110,
   "metadata": {},
   "outputs": [
    {
     "name": "stdout",
     "output_type": "stream",
     "text": [
      "All pairs\n",
      "  0.17s 13881 results\n",
      "Different verse pairs\n",
      "  0.24s 721 results\n",
      "Same verse pairs\n",
      "  0.32s 13160 results\n",
      "Intersection same-verse/different-verse pairs: set()\n",
      "All pairs is union of same-verse/different-verse pairs: True\n"
     ]
    }
   ],
   "source": [
    "conClauses = {c for c in F.otype.s('clause') if L.u(c, otype='verse')}\n",
    "customSets = dict(conclause=conClauses)\n",
    "\n",
    "print('All pairs')\n",
    "allPairs = A.search('''\n",
    "conclause\n",
    "-mother> conclause\n",
    "''', \n",
    "    sets=customSets,\n",
    ")\n",
    "\n",
    "print('Different verse pairs')\n",
    "diffPairs = A.search('''\n",
    "cm:conclause\n",
    "-mother> cd:conclause\n",
    "\n",
    "v1:verse\n",
    "v2:verse\n",
    "v1 # v2\n",
    "\n",
    "cm ]] v1\n",
    "cd ]] v2\n",
    "''',\n",
    "    sets=customSets,\n",
    ")\n",
    "\n",
    "print('Same verse pairs')\n",
    "samePairs = A.search('''\n",
    "cm:conclause\n",
    "-mother> cd:conclause\n",
    "\n",
    "v1:verse\n",
    "v2:verse\n",
    "v1 = v2\n",
    "\n",
    "cm ]] v1\n",
    "cd ]] v2\n",
    "''',\n",
    "    sets=customSets,\n",
    ")\n",
    "\n",
    "allPairSet = set(allPairs)\n",
    "diffPairSet = {(r[0], r[1]) for r in diffPairs}\n",
    "samePairSet = {(r[0], r[1]) for r in samePairs}\n",
    "\n",
    "print(f'Intersection same-verse/different-verse pairs: {samePairSet & diffPairSet}')\n",
    "print(f'All pairs is union of same-verse/different-verse pairs: {allPairSet == (samePairSet | diffPairSet)}')"
   ]
  },
  {
   "cell_type": "markdown",
   "metadata": {},
   "source": [
    "## Lessons\n",
    "\n",
    "* mix programming with composing queries;\n",
    "* a good way to do so is custom sets;\n",
    "* use programming for processing results;\n",
    "* find the balance between queries and hand-coding."
   ]
  },
  {
   "cell_type": "markdown",
   "metadata": {},
   "source": [
    "# Next\n",
    "\n",
    "**You have now finished the search tutorial.**\n",
    "\n",
    "If you are interested in reproducing MQL queries in Text-Fabric search templates,\n",
    "see [fromMQL](searchFromMQL.ipynb).\n",
    "\n",
    "---\n",
    "\n",
    "[basic](search.ipynb)\n",
    "[advanced](searchAdvanced.ipynb)\n",
    "[sets](searchSets.ipynb)\n",
    "[relations](searchRelations.ipynb)\n",
    "[quantifiers](searchQuantifiers.ipynb)\n",
    "[rough](searchRough.ipynb)\n",
    "gaps"
   ]
  }
 ],
 "metadata": {
  "kernelspec": {
   "display_name": "Python 3",
   "language": "python",
   "name": "python3"
  },
  "language_info": {
   "codemirror_mode": {
    "name": "ipython",
    "version": 3
   },
   "file_extension": ".py",
   "mimetype": "text/x-python",
   "name": "python",
   "nbconvert_exporter": "python",
   "pygments_lexer": "ipython3",
   "version": "3.7.7"
  }
 },
 "nbformat": 4,
 "nbformat_minor": 4
}
