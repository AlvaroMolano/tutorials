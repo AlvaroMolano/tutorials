{
 "cells": [
  {
   "cell_type": "markdown",
   "metadata": {},
   "source": [
    "<img align=\"right\" src=\"images/tf-small.png\" width=\"128\"/>\n",
    "<img align=\"right\" src=\"images/etcbc.png\"/>\n",
    "<img align=\"right\" src=\"images/dans-small.png\"/>\n",
    "\n",
    "You might want to consider the [start](search.ipynb) of this tutorial."
   ]
  },
  {
   "cell_type": "code",
   "execution_count": 1,
   "metadata": {},
   "outputs": [],
   "source": [
    "%load_ext autoreload\n",
    "%autoreload 2"
   ]
  },
  {
   "cell_type": "code",
   "execution_count": 2,
   "metadata": {
    "ExecuteTime": {
     "end_time": "2018-05-24T10:06:39.818664Z",
     "start_time": "2018-05-24T10:06:39.796588Z"
    }
   },
   "outputs": [],
   "source": [
    "from tf.app import use"
   ]
  },
  {
   "cell_type": "code",
   "execution_count": 3,
   "metadata": {
    "ExecuteTime": {
     "end_time": "2018-05-24T10:06:48.865143Z",
     "start_time": "2018-05-24T10:06:44.712958Z"
    }
   },
   "outputs": [
    {
     "name": "stdout",
     "output_type": "stream",
     "text": [
      "Using TF-app in /Users/dirk/github/annotation/app-bhsa/code:\n",
      "\trepo clone offline under ~/github (local github)\n",
      "Using data in /Users/dirk/github/etcbc/bhsa/tf/c:\n",
      "\trepo clone offline under ~/github (local github)\n",
      "Using data in /Users/dirk/github/etcbc/phono/tf/c:\n",
      "\trepo clone offline under ~/github (local github)\n",
      "Using data in /Users/dirk/github/etcbc/parallels/tf/c:\n",
      "\trepo clone offline under ~/github (local github)\n",
      "   |     0.00s No structure info in otext, the structure part of the T-API cannot be used\n"
     ]
    },
    {
     "data": {
      "text/html": [
       "<b>Documentation:</b> <a target=\"_blank\" href=\"https://etcbc.github.io/bhsa\" title=\"provenance of BHSA = Biblia Hebraica Stuttgartensia Amstelodamensis\">BHSA</a> <a target=\"_blank\" href=\"https://annotation.github.io/text-fabric/Writing/Hebrew\" title=\"('Hebrew characters and transcriptions',)\">Character table</a> <a target=\"_blank\" href=\"https://etcbc.github.io/bhsa/features/0_home\" title=\"BHSA feature documentation\">Feature docs</a> <a target=\"_blank\" href=\"https://github.com/annotation/app-bhsa\" title=\"bhsa API documentation\">bhsa API</a> <a target=\"_blank\" href=\"https://annotation.github.io/text-fabric/Api/Fabric/\" title=\"text-fabric-api\">Text-Fabric API 7.11.1</a> <a target=\"_blank\" href=\"https://annotation.github.io/text-fabric/Use/Search/\" title=\"Search Templates Introduction and Reference\">Search Reference</a><details open><summary><b>Loaded features</b>:</summary>\n",
       "<p><b>BHSA = Biblia Hebraica Stuttgartensia Amstelodamensis</b>: <a target=\"_blank\" href=\"https://etcbc.github.io/bhsa/features/book\" title=\"/Users/dirk/github/etcbc/bhsa/tf/c/book.tf\">book</a>  <a target=\"_blank\" href=\"https://etcbc.github.io/bhsa/features/book@ll\" title=\"/Users/dirk/github/etcbc/bhsa/tf/c/book@am.tf\">book@ll</a>  <a target=\"_blank\" href=\"https://etcbc.github.io/bhsa/features/chapter\" title=\"/Users/dirk/github/etcbc/bhsa/tf/c/chapter.tf\">chapter</a>  <a target=\"_blank\" href=\"https://etcbc.github.io/bhsa/features/code\" title=\"/Users/dirk/github/etcbc/bhsa/tf/c/code.tf\">code</a>  <a target=\"_blank\" href=\"https://etcbc.github.io/bhsa/features/det\" title=\"/Users/dirk/github/etcbc/bhsa/tf/c/det.tf\">det</a>  <a target=\"_blank\" href=\"https://etcbc.github.io/bhsa/features/domain\" title=\"/Users/dirk/github/etcbc/bhsa/tf/c/domain.tf\">domain</a>  <a target=\"_blank\" href=\"https://etcbc.github.io/bhsa/features/freq_lex\" title=\"/Users/dirk/github/etcbc/bhsa/tf/c/freq_lex.tf\">freq_lex</a>  <a target=\"_blank\" href=\"https://etcbc.github.io/bhsa/features/function\" title=\"/Users/dirk/github/etcbc/bhsa/tf/c/function.tf\">function</a>  <a target=\"_blank\" href=\"https://etcbc.github.io/bhsa/features/g_cons\" title=\"/Users/dirk/github/etcbc/bhsa/tf/c/g_cons.tf\">g_cons</a>  <a target=\"_blank\" href=\"https://etcbc.github.io/bhsa/features/g_cons_utf8\" title=\"/Users/dirk/github/etcbc/bhsa/tf/c/g_cons_utf8.tf\">g_cons_utf8</a>  <a target=\"_blank\" href=\"https://etcbc.github.io/bhsa/features/g_lex\" title=\"/Users/dirk/github/etcbc/bhsa/tf/c/g_lex.tf\">g_lex</a>  <a target=\"_blank\" href=\"https://etcbc.github.io/bhsa/features/g_lex_utf8\" title=\"/Users/dirk/github/etcbc/bhsa/tf/c/g_lex_utf8.tf\">g_lex_utf8</a>  <a target=\"_blank\" href=\"https://etcbc.github.io/bhsa/features/g_word\" title=\"/Users/dirk/github/etcbc/bhsa/tf/c/g_word.tf\">g_word</a>  <a target=\"_blank\" href=\"https://etcbc.github.io/bhsa/features/g_word_utf8\" title=\"/Users/dirk/github/etcbc/bhsa/tf/c/g_word_utf8.tf\">g_word_utf8</a>  <a target=\"_blank\" href=\"https://etcbc.github.io/bhsa/features/gloss\" title=\"/Users/dirk/github/etcbc/bhsa/tf/c/gloss.tf\">gloss</a>  <a target=\"_blank\" href=\"https://etcbc.github.io/bhsa/features/gn\" title=\"/Users/dirk/github/etcbc/bhsa/tf/c/gn.tf\">gn</a>  <a target=\"_blank\" href=\"https://etcbc.github.io/bhsa/features/label\" title=\"/Users/dirk/github/etcbc/bhsa/tf/c/label.tf\">label</a>  <a target=\"_blank\" href=\"https://etcbc.github.io/bhsa/features/language\" title=\"/Users/dirk/github/etcbc/bhsa/tf/c/language.tf\">language</a>  <a target=\"_blank\" href=\"https://etcbc.github.io/bhsa/features/lex\" title=\"/Users/dirk/github/etcbc/bhsa/tf/c/lex.tf\">lex</a>  <a target=\"_blank\" href=\"https://etcbc.github.io/bhsa/features/lex_utf8\" title=\"/Users/dirk/github/etcbc/bhsa/tf/c/lex_utf8.tf\">lex_utf8</a>  <a target=\"_blank\" href=\"https://etcbc.github.io/bhsa/features/ls\" title=\"/Users/dirk/github/etcbc/bhsa/tf/c/ls.tf\">ls</a>  <a target=\"_blank\" href=\"https://etcbc.github.io/bhsa/features/nametype\" title=\"/Users/dirk/github/etcbc/bhsa/tf/c/nametype.tf\">nametype</a>  <a target=\"_blank\" href=\"https://etcbc.github.io/bhsa/features/nme\" title=\"/Users/dirk/github/etcbc/bhsa/tf/c/nme.tf\">nme</a>  <a target=\"_blank\" href=\"https://etcbc.github.io/bhsa/features/nu\" title=\"/Users/dirk/github/etcbc/bhsa/tf/c/nu.tf\">nu</a>  <a target=\"_blank\" href=\"https://etcbc.github.io/bhsa/features/number\" title=\"/Users/dirk/github/etcbc/bhsa/tf/c/number.tf\">number</a>  <a target=\"_blank\" href=\"https://etcbc.github.io/bhsa/features/otype\" title=\"/Users/dirk/github/etcbc/bhsa/tf/c/otype.tf\">otype</a>  <a target=\"_blank\" href=\"https://etcbc.github.io/bhsa/features/pargr\" title=\"/Users/dirk/github/etcbc/bhsa/tf/c/pargr.tf\">pargr</a>  <a target=\"_blank\" href=\"https://etcbc.github.io/bhsa/features/pdp\" title=\"/Users/dirk/github/etcbc/bhsa/tf/c/pdp.tf\">pdp</a>  <a target=\"_blank\" href=\"https://etcbc.github.io/bhsa/features/pfm\" title=\"/Users/dirk/github/etcbc/bhsa/tf/c/pfm.tf\">pfm</a>  <a target=\"_blank\" href=\"https://etcbc.github.io/bhsa/features/prs\" title=\"/Users/dirk/github/etcbc/bhsa/tf/c/prs.tf\">prs</a>  <a target=\"_blank\" href=\"https://etcbc.github.io/bhsa/features/prs_gn\" title=\"/Users/dirk/github/etcbc/bhsa/tf/c/prs_gn.tf\">prs_gn</a>  <a target=\"_blank\" href=\"https://etcbc.github.io/bhsa/features/prs_nu\" title=\"/Users/dirk/github/etcbc/bhsa/tf/c/prs_nu.tf\">prs_nu</a>  <a target=\"_blank\" href=\"https://etcbc.github.io/bhsa/features/prs_ps\" title=\"/Users/dirk/github/etcbc/bhsa/tf/c/prs_ps.tf\">prs_ps</a>  <a target=\"_blank\" href=\"https://etcbc.github.io/bhsa/features/ps\" title=\"/Users/dirk/github/etcbc/bhsa/tf/c/ps.tf\">ps</a>  <a target=\"_blank\" href=\"https://etcbc.github.io/bhsa/features/qere\" title=\"/Users/dirk/github/etcbc/bhsa/tf/c/qere.tf\">qere</a>  <a target=\"_blank\" href=\"https://etcbc.github.io/bhsa/features/qere_trailer\" title=\"/Users/dirk/github/etcbc/bhsa/tf/c/qere_trailer.tf\">qere_trailer</a>  <a target=\"_blank\" href=\"https://etcbc.github.io/bhsa/features/qere_trailer_utf8\" title=\"/Users/dirk/github/etcbc/bhsa/tf/c/qere_trailer_utf8.tf\">qere_trailer_utf8</a>  <a target=\"_blank\" href=\"https://etcbc.github.io/bhsa/features/qere_utf8\" title=\"/Users/dirk/github/etcbc/bhsa/tf/c/qere_utf8.tf\">qere_utf8</a>  <a target=\"_blank\" href=\"https://etcbc.github.io/bhsa/features/rank_lex\" title=\"/Users/dirk/github/etcbc/bhsa/tf/c/rank_lex.tf\">rank_lex</a>  <a target=\"_blank\" href=\"https://etcbc.github.io/bhsa/features/rela\" title=\"/Users/dirk/github/etcbc/bhsa/tf/c/rela.tf\">rela</a>  <a target=\"_blank\" href=\"https://etcbc.github.io/bhsa/features/sp\" title=\"/Users/dirk/github/etcbc/bhsa/tf/c/sp.tf\">sp</a>  <a target=\"_blank\" href=\"https://etcbc.github.io/bhsa/features/st\" title=\"/Users/dirk/github/etcbc/bhsa/tf/c/st.tf\">st</a>  <a target=\"_blank\" href=\"https://etcbc.github.io/bhsa/features/tab\" title=\"/Users/dirk/github/etcbc/bhsa/tf/c/tab.tf\">tab</a>  <a target=\"_blank\" href=\"https://etcbc.github.io/bhsa/features/trailer\" title=\"/Users/dirk/github/etcbc/bhsa/tf/c/trailer.tf\">trailer</a>  <a target=\"_blank\" href=\"https://etcbc.github.io/bhsa/features/trailer_utf8\" title=\"/Users/dirk/github/etcbc/bhsa/tf/c/trailer_utf8.tf\">trailer_utf8</a>  <a target=\"_blank\" href=\"https://etcbc.github.io/bhsa/features/txt\" title=\"/Users/dirk/github/etcbc/bhsa/tf/c/txt.tf\">txt</a>  <a target=\"_blank\" href=\"https://etcbc.github.io/bhsa/features/typ\" title=\"/Users/dirk/github/etcbc/bhsa/tf/c/typ.tf\">typ</a>  <a target=\"_blank\" href=\"https://etcbc.github.io/bhsa/features/uvf\" title=\"/Users/dirk/github/etcbc/bhsa/tf/c/uvf.tf\">uvf</a>  <a target=\"_blank\" href=\"https://etcbc.github.io/bhsa/features/vbe\" title=\"/Users/dirk/github/etcbc/bhsa/tf/c/vbe.tf\">vbe</a>  <a target=\"_blank\" href=\"https://etcbc.github.io/bhsa/features/vbs\" title=\"/Users/dirk/github/etcbc/bhsa/tf/c/vbs.tf\">vbs</a>  <a target=\"_blank\" href=\"https://etcbc.github.io/bhsa/features/verse\" title=\"/Users/dirk/github/etcbc/bhsa/tf/c/verse.tf\">verse</a>  <a target=\"_blank\" href=\"https://etcbc.github.io/bhsa/features/voc_lex\" title=\"/Users/dirk/github/etcbc/bhsa/tf/c/voc_lex.tf\">voc_lex</a>  <a target=\"_blank\" href=\"https://etcbc.github.io/bhsa/features/voc_lex_utf8\" title=\"/Users/dirk/github/etcbc/bhsa/tf/c/voc_lex_utf8.tf\">voc_lex_utf8</a>  <a target=\"_blank\" href=\"https://etcbc.github.io/bhsa/features/vs\" title=\"/Users/dirk/github/etcbc/bhsa/tf/c/vs.tf\">vs</a>  <a target=\"_blank\" href=\"https://etcbc.github.io/bhsa/features/vt\" title=\"/Users/dirk/github/etcbc/bhsa/tf/c/vt.tf\">vt</a>  <b><i><a target=\"_blank\" href=\"https://etcbc.github.io/bhsa/features/mother\" title=\"/Users/dirk/github/etcbc/bhsa/tf/c/mother.tf\">mother</a></i></b>  <b><i><a target=\"_blank\" href=\"https://etcbc.github.io/bhsa/features/oslots\" title=\"/Users/dirk/github/etcbc/bhsa/tf/c/oslots.tf\">oslots</a></i></b> </p><p><b>Parallel Passages</b>: <b><i><a target=\"_blank\" href=\"https://nbviewer.jupyter.org/github/etcbc/parallels/blob/master/programs/parallels.ipynb\" title=\"/Users/dirk/github/etcbc/parallels/tf/c/crossref.tf\">crossref</a></i></b> </p><p><b>Phonetic Transcriptions</b>: <a target=\"_blank\" href=\"https://nbviewer.jupyter.org/github/etcbc/phono/blob/master/programs/phono.ipynb\" title=\"/Users/dirk/github/etcbc/phono/tf/c/phono.tf\">phono</a>  <a target=\"_blank\" href=\"https://nbviewer.jupyter.org/github/etcbc/phono/blob/master/programs/phono.ipynb\" title=\"/Users/dirk/github/etcbc/phono/tf/c/phono_trailer.tf\">phono_trailer</a> </p></details>"
      ],
      "text/plain": [
       "<IPython.core.display.HTML object>"
      ]
     },
     "metadata": {},
     "output_type": "display_data"
    },
    {
     "data": {
      "text/html": [
       "<style>\n",
       "@font-face {\n",
       "  font-family: \"Ezra SIL\";\n",
       "  src:\n",
       "    local(\"SILEOT.ttf\"),\n",
       "    url(\"https://github.com/annotation/text-fabric/blob/master/tf/server/static/fonts/SILEOT.woff?raw=true\");\n",
       "}\n",
       ".features {\n",
       "    font-family: monospace;\n",
       "    font-size: medium;\n",
       "    font-weight: bold;\n",
       "    color: #0a6611;\n",
       "    display: flex;\n",
       "    flex-flow: column nowrap;\n",
       "    padding: 0.1em;\n",
       "    margin: 0.1em;\n",
       "    direction: ltr;\n",
       "}\n",
       ".features div,.features span {\n",
       "    padding: 0;\n",
       "    margin: -0.1rem 0;\n",
       "}\n",
       ".features .f {\n",
       "    font-family: sans-serif;\n",
       "    font-size: x-small;\n",
       "    font-weight: normal;\n",
       "    color: #5555bb;\n",
       "}\n",
       ".features .xft {\n",
       "  color: #000000;\n",
       "  background-color: #eeeeee;\n",
       "  font-size: medium;\n",
       "  margin: 0.1em 0em;\n",
       "}\n",
       ".features .xft .f {\n",
       "  color: #000000;\n",
       "  background-color: #eeeeee;\n",
       "  font-style: italic;\n",
       "  font-size: small;\n",
       "  font-weight: normal;\n",
       "}\n",
       ".ltr {\n",
       "    direction: ltr ! important;\n",
       "}\n",
       ".rtl {\n",
       "    direction: rtl ! important;\n",
       "}\n",
       ".verse {\n",
       "    display: flex;\n",
       "    flex-flow: row wrap;\n",
       "    direction: rtl;\n",
       "}\n",
       ".vl {\n",
       "    display: flex;\n",
       "    flex-flow: column nowrap;\n",
       "    justify-content: flex-end;\n",
       "    align-items: flex-end;\n",
       "    direction: ltr;\n",
       "    width: 100%;\n",
       "}\n",
       ".outeritem {\n",
       "    display: flex;\n",
       "    flex-flow: row wrap;\n",
       "    direction: rtl;\n",
       "}\n",
       ".outerplain {\n",
       "    direction: rtl;\n",
       "}\n",
       ".sentence,.clause,.phrase {\n",
       "    margin-top: -1.2em;\n",
       "    margin-left: 1em;\n",
       "    background: #ffffff none repeat scroll 0 0;\n",
       "    padding: 0 0.3em;\n",
       "    border-style: solid;\n",
       "    border-radius: 0.2em;\n",
       "    font-size: small;\n",
       "    display: block;\n",
       "    width: fit-content;\n",
       "    max-width: fit-content;\n",
       "    direction: ltr;\n",
       "}\n",
       ".atoms {\n",
       "    display: flex;\n",
       "    flex-flow: row wrap;\n",
       "    margin: 0.3em;\n",
       "    padding: 0.3em;\n",
       "    direction: rtl;\n",
       "    background-color: #ffffff;\n",
       "}\n",
       ".satom,.catom,.patom {\n",
       "    margin: 0.3em;\n",
       "    padding: 0.3em;\n",
       "    border-radius: 0.3em;\n",
       "    border-style: solid;\n",
       "    display: flex;\n",
       "    flex-flow: column nowrap;\n",
       "    direction: rtl;\n",
       "    background-color: #ffffff;\n",
       "}\n",
       ".sentence {\n",
       "    border-color: #aa3333;\n",
       "    border-width: 1px;\n",
       "}\n",
       ".clause {\n",
       "    border-color: #aaaa33;\n",
       "    border-width: 1px;\n",
       "}\n",
       ".phrase {\n",
       "    border-color: #33aaaa;\n",
       "    border-width: 1px;\n",
       "}\n",
       ".satom {\n",
       "    border-color: #aa3333;\n",
       "    border-width: 4px;\n",
       "}\n",
       ".catom {\n",
       "    border-color: #aaaa33;\n",
       "    border-width: 3px;\n",
       "}\n",
       ".patom {\n",
       "    border-color: #33aaaa;\n",
       "    border-width: 3px;\n",
       "}\n",
       ".word {\n",
       "    padding: 0.1em;\n",
       "    margin: 0.1em;\n",
       "    border-radius: 0.1em;\n",
       "    border: 1px solid #cccccc;\n",
       "    display: flex;\n",
       "    flex-flow: column nowrap;\n",
       "    direction: rtl;\n",
       "    background-color: #ffffff;\n",
       "}\n",
       ".lextp {\n",
       "    padding: 0.1em;\n",
       "    margin: 0.1em;\n",
       "    border-radius: 0.1em;\n",
       "    border: 2px solid #888888;\n",
       "    width: fit-content;\n",
       "    display: flex;\n",
       "    flex-flow: column nowrap;\n",
       "    direction: rtl;\n",
       "    background-color: #ffffff;\n",
       "}\n",
       ".occs {\n",
       "    font-size: x-small;\n",
       "}\n",
       ".satom.l,.catom.l,.patom.l,.plain.l {\n",
       "    border-left-style: dotted\n",
       "}\n",
       ".satom.r,.catom.r,.patom.r,.plain.r {\n",
       "    border-right-style: dotted\n",
       "}\n",
       ".satom.lno,.catom.lno,.patom.lno,.plain.lno {\n",
       "    border-left-style: none\n",
       "}\n",
       ".satom.rno,.catom.rno,.patom.rno,.plain.rno {\n",
       "    border-right-style: none\n",
       "}\n",
       "a:hover {\n",
       "    text-decoration: underline | important;\n",
       "    color: #0000ff | important;\n",
       "}\n",
       ".tr,.tr a:visited,.tr a:link {\n",
       "    font-family: sans-serif;\n",
       "    font-size: large;\n",
       "    color: #000044;\n",
       "    direction: ltr;\n",
       "    text-decoration: none;\n",
       "}\n",
       ".trb,.trb a:visited,.trb a:link {\n",
       "    font-family: sans-serif;\n",
       "    font-size: normal;\n",
       "    direction: ltr;\n",
       "    text-decoration: none;\n",
       "}\n",
       ".prb,.prb a:visited,.prb a:link {\n",
       "    font-family: sans-serif;\n",
       "    font-size: large;\n",
       "    direction: ltr;\n",
       "    text-decoration: none;\n",
       "}\n",
       ".h,.h a:visited,.h a:link {\n",
       "    font-family: \"Ezra SIL\", \"SBL Hebrew\", sans-serif;\n",
       "    font-size: large;\n",
       "    color: #000044;\n",
       "    direction: rtl;\n",
       "    text-decoration: none;\n",
       "}\n",
       ".hb,.hb a:visited,.hb a:link {\n",
       "    font-family: \"Ezra SIL\", \"SBL Hebrew\", sans-serif;\n",
       "    font-size: large;\n",
       "    line-height: 2;\n",
       "    direction: rtl;\n",
       "    text-decoration: none;\n",
       "}\n",
       ".vn {\n",
       "  font-size: small !important;\n",
       "  padding-right: 1em;\n",
       "}\n",
       ".rela,.function,.typ {\n",
       "    font-family: monospace;\n",
       "    font-size: small;\n",
       "    color: #0000bb;\n",
       "}\n",
       ".pdp,.pdp a:visited,.pdp a:link {\n",
       "    font-family: monospace;\n",
       "    font-size: medium;\n",
       "    color: #0000bb;\n",
       "    text-decoration: none;\n",
       "}\n",
       ".voc_lex {\n",
       "    font-family: monospace;\n",
       "    font-size: medium;\n",
       "    color: #0000bb;\n",
       "}\n",
       ".vs {\n",
       "    font-family: monospace;\n",
       "    font-size: medium;\n",
       "    font-weight: bold;\n",
       "    color: #0000bb;\n",
       "}\n",
       ".vt {\n",
       "    font-family: monospace;\n",
       "    font-size: medium;\n",
       "    font-weight: bold;\n",
       "    color: #0000bb;\n",
       "}\n",
       ".gloss {\n",
       "    font-family: sans-serif;\n",
       "    font-size: small;\n",
       "    font-weight: normal;\n",
       "    color: #444444;\n",
       "}\n",
       ".vrs {\n",
       "    font-family: sans-serif;\n",
       "    font-size: small;\n",
       "    font-weight: bold;\n",
       "    color: #444444;\n",
       "}\n",
       ".nd {\n",
       "    font-family: monospace;\n",
       "    font-size: x-small;\n",
       "    color: #999999;\n",
       "}\n",
       ".hl {\n",
       "    background-color: #ffee66;\n",
       "}\n",
       "\n",
       "tr.tf, td.tf, th.tf {\n",
       "  text-align: left;\n",
       "}\n",
       "\n",
       "span.hldot {\n",
       "\tbackground-color: var(--hl-strong);\n",
       "\tborder: 0.2rem solid var(--hl-rim);\n",
       "\tborder-radius: 0.4rem;\n",
       "\t/*\n",
       "\tdisplay: inline-block;\n",
       "\twidth: 0.8rem;\n",
       "\theight: 0.8rem;\n",
       "\t*/\n",
       "}\n",
       "span.hl {\n",
       "\tbackground-color: var(--hl-strong);\n",
       "\tborder-width: 0;\n",
       "\tborder-radius: 0.1rem;\n",
       "\tborder-style: solid;\n",
       "}\n",
       "\n",
       "span.hlbx {\n",
       "\tborder-color: var(--hl-dark);\n",
       "\tborder-width: 0.1rem;\n",
       "\tborder-style: solid;\n",
       "\tborder-radius: 0.2rem;\n",
       "  padding: 0.2rem;\n",
       "  margin: 0.2rem;\n",
       "}\n",
       "\n",
       "span.plain {\n",
       "  display: inline-block;\n",
       "  white-space: pre-wrap;\n",
       "}\n",
       "\n",
       ":root {\n",
       "\t--hl-strong:        hsla( 60, 100%,  70%, 0.9  );\n",
       "\t--hl-rim:           hsla( 55, 100%,  60%, 0.9  );\n",
       "\t--hl-dark:          hsla( 55, 100%,  40%, 0.9  );\n",
       "}\n",
       "</style>"
      ],
      "text/plain": [
       "<IPython.core.display.HTML object>"
      ]
     },
     "metadata": {},
     "output_type": "display_data"
    },
    {
     "data": {
      "text/html": [
       "<details open><summary><b>API members</b>:</summary>\n",
       "<a target=\"_blank\" href=\"https://annotation.github.io/text-fabric/Api/Computed/#computed-data\" title=\"doc\">C Computed</a>, <a target=\"_blank\" href=\"https://annotation.github.io/text-fabric/Api/Computed/#computed-data\" title=\"doc\">Call AllComputeds</a>, <a target=\"_blank\" href=\"https://annotation.github.io/text-fabric/Api/Computed/#computed-data\" title=\"doc\">Cs ComputedString</a><br/>\n",
       "<a target=\"_blank\" href=\"https://annotation.github.io/text-fabric/Api/Features/#edge-features\" title=\"doc\">E Edge</a>, <a target=\"_blank\" href=\"https://annotation.github.io/text-fabric/Api/Features/#edge-features\" title=\"doc\">Eall AllEdges</a>, <a target=\"_blank\" href=\"https://annotation.github.io/text-fabric/Api/Features/#edge-features\" title=\"doc\">Es EdgeString</a><br/>\n",
       "<a target=\"_blank\" href=\"https://annotation.github.io/text-fabric/Api/Fabric/#loading\" title=\"doc\">ensureLoaded</a>, <a target=\"_blank\" href=\"https://annotation.github.io/text-fabric/Api/Fabric/#loading\" title=\"doc\">TF</a>, <a target=\"_blank\" href=\"https://annotation.github.io/text-fabric/Api/Fabric/#loading\" title=\"doc\">ignored</a>, <a target=\"_blank\" href=\"https://annotation.github.io/text-fabric/Api/Fabric/#loading\" title=\"doc\">loadLog</a><br/>\n",
       "<a target=\"_blank\" href=\"https://annotation.github.io/text-fabric/Api/Locality/#locality\" title=\"doc\">L Locality</a><br/>\n",
       "<a target=\"_blank\" href=\"https://annotation.github.io/text-fabric/Api/Misc/#messaging\" title=\"doc\">cache</a>, <a target=\"_blank\" href=\"https://annotation.github.io/text-fabric/Api/Misc/#messaging\" title=\"doc\">error</a>, <a target=\"_blank\" href=\"https://annotation.github.io/text-fabric/Api/Misc/#messaging\" title=\"doc\">indent</a>, <a target=\"_blank\" href=\"https://annotation.github.io/text-fabric/Api/Misc/#messaging\" title=\"doc\">info</a>, <a target=\"_blank\" href=\"https://annotation.github.io/text-fabric/Api/Misc/#messaging\" title=\"doc\">isSilent</a>, <a target=\"_blank\" href=\"https://annotation.github.io/text-fabric/Api/Misc/#messaging\" title=\"doc\">reset</a>, <a target=\"_blank\" href=\"https://annotation.github.io/text-fabric/Api/Misc/#messaging\" title=\"doc\">setSilent</a>, <a target=\"_blank\" href=\"https://annotation.github.io/text-fabric/Api/Misc/#messaging\" title=\"doc\">silentOff</a>, <a target=\"_blank\" href=\"https://annotation.github.io/text-fabric/Api/Misc/#messaging\" title=\"doc\">silentOn</a>, <a target=\"_blank\" href=\"https://annotation.github.io/text-fabric/Api/Misc/#messaging\" title=\"doc\">warning</a><br/>\n",
       "<a target=\"_blank\" href=\"https://annotation.github.io/text-fabric/Api/Nodes/#navigating-nodes\" title=\"doc\">N Nodes</a>, <a target=\"_blank\" href=\"https://annotation.github.io/text-fabric/Api/Nodes/#navigating-nodes\" title=\"doc\">sortKey</a>, <a target=\"_blank\" href=\"https://annotation.github.io/text-fabric/Api/Nodes/#navigating-nodes\" title=\"doc\">sortKeyTuple</a>, <a target=\"_blank\" href=\"https://annotation.github.io/text-fabric/Api/Nodes/#navigating-nodes\" title=\"doc\">otypeRank</a>, <a target=\"_blank\" href=\"https://annotation.github.io/text-fabric/Api/Nodes/#navigating-nodes\" title=\"doc\">sortNodes</a><br/>\n",
       "<a target=\"_blank\" href=\"https://annotation.github.io/text-fabric/Api/Features/#node-features\" title=\"doc\">F Feature</a>, <a target=\"_blank\" href=\"https://annotation.github.io/text-fabric/Api/Features/#node-features\" title=\"doc\">Fall AllFeatures</a>, <a target=\"_blank\" href=\"https://annotation.github.io/text-fabric/Api/Features/#node-features\" title=\"doc\">Fs FeatureString</a><br/>\n",
       "<a target=\"_blank\" href=\"https://annotation.github.io/text-fabric/Api/Search/#search\" title=\"doc\">S Search</a><br/>\n",
       "<a target=\"_blank\" href=\"https://annotation.github.io/text-fabric/Api/Text/#text\" title=\"doc\">T Text</a></details>"
      ],
      "text/plain": [
       "<IPython.core.display.HTML object>"
      ]
     },
     "metadata": {},
     "output_type": "display_data"
    }
   ],
   "source": [
    "# A = use('bhsa', hoist=globals())\n",
    "A = use('bhsa:clone', checkout=\"clone\", hoist=globals())"
   ]
  },
  {
   "cell_type": "markdown",
   "metadata": {},
   "source": [
    "# Relations\n",
    "\n",
    "So far we heve seen search templates specifying feature conditions on nodes \n",
    "and a bit of nesting of those nodes, with an occasional extra constraint on their \n",
    "positions.\n",
    "\n",
    "We show some more possibilities.\n",
    "An more thorough treatment is in [relations](searchRelations.ipynb).\n",
    "\n",
    "We can refer to (spatial) relationships between nodes by means of extra constraints\n",
    "of the form \n",
    "\n",
    "```\n",
    "n relop m\n",
    "```\n",
    "\n",
    "where `n` and `m` are names of node parts in your template, and `relop` is the name of a relational operator.\n",
    "\n",
    "Text-Fabric comes with a fixed bunch of spatial relational operators,\n",
    "and your data set may contain *edge*-features, which correspond to additional relational operators.\n",
    "\n",
    "You can get the list of all relops that you can currently use:"
   ]
  },
  {
   "cell_type": "code",
   "execution_count": 4,
   "metadata": {
    "ExecuteTime": {
     "end_time": "2018-05-24T07:59:57.799159Z",
     "start_time": "2018-05-24T07:59:57.776703Z"
    }
   },
   "outputs": [
    {
     "name": "stdout",
     "output_type": "stream",
     "text": [
      "                      = left equal to right (as node)\n",
      "                      # left unequal to right (as node)\n",
      "                      < left before right (in canonical node ordering)\n",
      "                      > left after right (in canonical node ordering)\n",
      "                     == left occupies same slots as right\n",
      "                     && left has overlapping slots with right\n",
      "                     ## left and right do not have the same slot set\n",
      "                     || left and right do not have common slots\n",
      "                     [[ left embeds right\n",
      "                     ]] left embedded in right\n",
      "                     << left completely before right\n",
      "                     >> left completely after right\n",
      "                     =: left and right start at the same slot\n",
      "                     := left and right end at the same slot\n",
      "                     :: left and right start and end at the same slot\n",
      "                     <: left immediately before right\n",
      "                     :> left immediately after right\n",
      "                    =k: left and right start at k-nearly the same slot\n",
      "                    :k= left and right end at k-nearly the same slot\n",
      "                    :k: left and right start and end at k-near slots\n",
      "                    <k: left k-nearly before right\n",
      "                    :k> left k-nearly after right\n",
      "                    .f. left.f = right.f\n",
      "                  .f=g. left.f = right.g\n",
      "                .f~r~g. left.f matches right.g\n",
      "                  .f#g. left.f # right.g\n",
      "                  .f>g. left.f > right.g\n",
      "                  .f<g. left.f > right.g\n",
      "             -crossref> edge feature \"crossref\" with value specification allowed\n",
      "             <crossref- edge feature \"crossref\" with value specification allowed (opposite direction)\n",
      "             <crossref> edge feature \"crossref\" with value specification allowed (either direction)\n",
      "          -crossrefLCS> edge feature \"crossrefLCS\" with value specification allowed\n",
      "          <crossrefLCS- edge feature \"crossrefLCS\" with value specification allowed (opposite direction)\n",
      "          <crossrefLCS> edge feature \"crossrefLCS\" with value specification allowed (either direction)\n",
      "          -crossrefSET> edge feature \"crossrefSET\" with value specification allowed\n",
      "          <crossrefSET- edge feature \"crossrefSET\" with value specification allowed (opposite direction)\n",
      "          <crossrefSET> edge feature \"crossrefSET\" with value specification allowed (either direction)\n",
      "-distributional_parent> edge feature \"distributional_parent\"\n",
      "<distributional_parent- edge feature \"distributional_parent\" (opposite direction)\n",
      "<distributional_parent> edge feature \"distributional_parent\" (either direction)\n",
      "    -functional_parent> edge feature \"functional_parent\"\n",
      "    <functional_parent- edge feature \"functional_parent\" (opposite direction)\n",
      "    <functional_parent> edge feature \"functional_parent\" (either direction)\n",
      "               -mother> edge feature \"mother\"\n",
      "               <mother- edge feature \"mother\" (opposite direction)\n",
      "               <mother> edge feature \"mother\" (either direction)\n",
      "The warp feature \"oslots\" cannot be used in searches.\n",
      "One of the above relations on nodes and/or slots will suit you better.\n"
     ]
    }
   ],
   "source": [
    "S.relationsLegend()"
   ]
  },
  {
   "cell_type": "markdown",
   "metadata": {},
   "source": [
    "## Feature comparison\n",
    "\n",
    "Note the operators that are surrounded by `. .` and have `f` and/or `g` and/or `r` in them.\n",
    "You can supply any node feature `f` and `g` in your dataset, and any regular exprression `r`."
   ]
  },
  {
   "cell_type": "markdown",
   "metadata": {},
   "source": [
    "We look for predicate - subject pairs where the subject is a single noun and agrees with the predicate in grammatical number.\n",
    "\n",
    "Moreover, the noun must be part of the subject."
   ]
  },
  {
   "cell_type": "code",
   "execution_count": 5,
   "metadata": {},
   "outputs": [],
   "source": [
    "query = '''\n",
    "clause\n",
    "  phrase function=Pred\n",
    "    w1:word pdp=verb\n",
    "  phrase function=Subj\n",
    "    =: w2:word pdp=subs\n",
    "    :=\n",
    "w1 .nu. w2\n",
    "'''"
   ]
  },
  {
   "cell_type": "code",
   "execution_count": 6,
   "metadata": {},
   "outputs": [
    {
     "name": "stdout",
     "output_type": "stream",
     "text": [
      "  1.85s 3775 results\n"
     ]
    }
   ],
   "source": [
    "results = A.search(query)"
   ]
  },
  {
   "cell_type": "code",
   "execution_count": 7,
   "metadata": {},
   "outputs": [
    {
     "data": {
      "text/html": [
       "<table>\n",
       "<tr class=\"tf\">\n",
       "  <th class=\"tf\">n</th><th class=\"tf\">p</th>\n",
       "  <th class=\"tf\">clause</th><th>phrase</th><th>word</th><th>phrase</th><th>word</th>\n",
       "</tr>\n",
       "\n",
       "<tr class=\"tf\"><td class=\"tf\">1</td><td class=\"tf\"> <a href=\"https://shebanq.ancient-data.org/hebrew/text?book=Genesis&amp;chapter=1&amp;verse=3&amp;version=c&amp;mr=m&amp;qw=q&amp;tp=txt_p&amp;tr=hb&amp;wget=v&amp;qget=v&amp;nget=vt\" title=\"show this passage in SHEBANQ\" sec=\"Genesis 1:3\">Genesis 1:3</a></td><td class=\"tf\"><a href=\"https://shebanq.ancient-data.org/hebrew/text?book=Genesis&amp;chapter=1&amp;verse=3&amp;version=c&amp;mr=m&amp;qw=q&amp;tp=txt_p&amp;tr=hb&amp;wget=v&amp;qget=v&amp;nget=vt\" title=\"Genesis 1:3\" sec=\"Genesis 1:3\"><span class=\"plain outer  rtl \"><span class=\"plain rtl  hlbx\" ><span class=\"plain rtl  \" ><span class=\"plain rtl  hlbx\" ><span class=\"plain rtl  \" ><span class=\"plain rtl  hl\" ><span class=\"h\">יְהִ֣י </span></span></span></span><span class=\"plain rtl  hlbx\" ><span class=\"plain rtl  \" ><span class=\"plain rtl  hl\" ><span class=\"h\">אֹ֑ור </span></span></span></span></span></span></span></a></td><td class=\"tf\"><span class=\"plain outer  rtl \"><span class=\"plain rtl  hlbx\" ><span class=\"plain rtl  \" ><span class=\"plain rtl  hl\" ><span class=\"h\">יְהִ֣י </span></span></span></span></span></td><td class=\"tf\"><span class=\"plain outer  rtl  hl\" ><span class=\"h\">יְהִ֣י </span></span></td><td class=\"tf\"><span class=\"plain outer  rtl \"><span class=\"plain rtl  hlbx\" ><span class=\"plain rtl  \" ><span class=\"plain rtl  hl\" ><span class=\"h\">אֹ֑ור </span></span></span></span></span></td><td class=\"tf\"><span class=\"plain outer  rtl  hl\" ><span class=\"h\">אֹ֑ור </span></span></td></tr>\n",
       "<tr class=\"tf\"><td class=\"tf\">2</td><td class=\"tf\"> <a href=\"https://shebanq.ancient-data.org/hebrew/text?book=Genesis&amp;chapter=1&amp;verse=3&amp;version=c&amp;mr=m&amp;qw=q&amp;tp=txt_p&amp;tr=hb&amp;wget=v&amp;qget=v&amp;nget=vt\" title=\"show this passage in SHEBANQ\" sec=\"Genesis 1:3\">Genesis 1:3</a></td><td class=\"tf\"><a href=\"https://shebanq.ancient-data.org/hebrew/text?book=Genesis&amp;chapter=1&amp;verse=3&amp;version=c&amp;mr=m&amp;qw=q&amp;tp=txt_p&amp;tr=hb&amp;wget=v&amp;qget=v&amp;nget=vt\" title=\"Genesis 1:3\" sec=\"Genesis 1:3\"><span class=\"plain outer  rtl \"><span class=\"plain rtl  hlbx\" ><span class=\"plain rtl  \" ><span class=\"plain rtl  \" ><span class=\"plain rtl  \" ><span class=\"h\">וַֽ</span></span></span><span class=\"plain rtl  hlbx\" ><span class=\"plain rtl  \" ><span class=\"plain rtl  hl\" ><span class=\"h\">יְהִי־</span></span></span></span><span class=\"plain rtl  hlbx\" ><span class=\"plain rtl  \" ><span class=\"plain rtl  hl\" ><span class=\"h\">אֹֽור׃ </span></span></span></span></span></span></span></a></td><td class=\"tf\"><span class=\"plain outer  rtl \"><span class=\"plain rtl  hlbx\" ><span class=\"plain rtl  \" ><span class=\"plain rtl  hl\" ><span class=\"h\">יְהִי־</span></span></span></span></span></td><td class=\"tf\"><span class=\"plain outer  rtl  hl\" ><span class=\"h\">יְהִי־</span></span></td><td class=\"tf\"><span class=\"plain outer  rtl \"><span class=\"plain rtl  hlbx\" ><span class=\"plain rtl  \" ><span class=\"plain rtl  hl\" ><span class=\"h\">אֹֽור׃ </span></span></span></span></span></td><td class=\"tf\"><span class=\"plain outer  rtl  hl\" ><span class=\"h\">אֹֽור׃ </span></span></td></tr>\n",
       "<tr class=\"tf\"><td class=\"tf\">3</td><td class=\"tf\"> <a href=\"https://shebanq.ancient-data.org/hebrew/text?book=Genesis&amp;chapter=1&amp;verse=5&amp;version=c&amp;mr=m&amp;qw=q&amp;tp=txt_p&amp;tr=hb&amp;wget=v&amp;qget=v&amp;nget=vt\" title=\"show this passage in SHEBANQ\" sec=\"Genesis 1:5\">Genesis 1:5</a></td><td class=\"tf\"><a href=\"https://shebanq.ancient-data.org/hebrew/text?book=Genesis&amp;chapter=1&amp;verse=5&amp;version=c&amp;mr=m&amp;qw=q&amp;tp=txt_p&amp;tr=hb&amp;wget=v&amp;qget=v&amp;nget=vt\" title=\"Genesis 1:5\" sec=\"Genesis 1:5\"><span class=\"plain outer  rtl \"><span class=\"plain rtl  hlbx\" ><span class=\"plain rtl  \" ><span class=\"plain rtl  \" ><span class=\"plain rtl  \" ><span class=\"h\">וַֽ</span></span></span><span class=\"plain rtl  hlbx\" ><span class=\"plain rtl  \" ><span class=\"plain rtl  hl\" ><span class=\"h\">יְהִי־</span></span></span></span><span class=\"plain rtl  hlbx\" ><span class=\"plain rtl  \" ><span class=\"plain rtl  hl\" ><span class=\"h\">עֶ֥רֶב </span></span></span></span></span></span></span></a></td><td class=\"tf\"><span class=\"plain outer  rtl \"><span class=\"plain rtl  hlbx\" ><span class=\"plain rtl  \" ><span class=\"plain rtl  hl\" ><span class=\"h\">יְהִי־</span></span></span></span></span></td><td class=\"tf\"><span class=\"plain outer  rtl  hl\" ><span class=\"h\">יְהִי־</span></span></td><td class=\"tf\"><span class=\"plain outer  rtl \"><span class=\"plain rtl  hlbx\" ><span class=\"plain rtl  \" ><span class=\"plain rtl  hl\" ><span class=\"h\">עֶ֥רֶב </span></span></span></span></span></td><td class=\"tf\"><span class=\"plain outer  rtl  hl\" ><span class=\"h\">עֶ֥רֶב </span></span></td></tr>\n",
       "<tr class=\"tf\"><td class=\"tf\">4</td><td class=\"tf\"> <a href=\"https://shebanq.ancient-data.org/hebrew/text?book=Genesis&amp;chapter=1&amp;verse=5&amp;version=c&amp;mr=m&amp;qw=q&amp;tp=txt_p&amp;tr=hb&amp;wget=v&amp;qget=v&amp;nget=vt\" title=\"show this passage in SHEBANQ\" sec=\"Genesis 1:5\">Genesis 1:5</a></td><td class=\"tf\"><a href=\"https://shebanq.ancient-data.org/hebrew/text?book=Genesis&amp;chapter=1&amp;verse=5&amp;version=c&amp;mr=m&amp;qw=q&amp;tp=txt_p&amp;tr=hb&amp;wget=v&amp;qget=v&amp;nget=vt\" title=\"Genesis 1:5\" sec=\"Genesis 1:5\"><span class=\"plain outer  rtl \"><span class=\"plain rtl  hlbx\" ><span class=\"plain rtl  \" ><span class=\"plain rtl  \" ><span class=\"plain rtl  \" ><span class=\"h\">וַֽ</span></span></span><span class=\"plain rtl  hlbx\" ><span class=\"plain rtl  \" ><span class=\"plain rtl  hl\" ><span class=\"h\">יְהִי־</span></span></span></span><span class=\"plain rtl  hlbx\" ><span class=\"plain rtl  \" ><span class=\"plain rtl  hl\" ><span class=\"h\">בֹ֖קֶר </span></span></span></span></span></span></span></a></td><td class=\"tf\"><span class=\"plain outer  rtl \"><span class=\"plain rtl  hlbx\" ><span class=\"plain rtl  \" ><span class=\"plain rtl  hl\" ><span class=\"h\">יְהִי־</span></span></span></span></span></td><td class=\"tf\"><span class=\"plain outer  rtl  hl\" ><span class=\"h\">יְהִי־</span></span></td><td class=\"tf\"><span class=\"plain outer  rtl \"><span class=\"plain rtl  hlbx\" ><span class=\"plain rtl  \" ><span class=\"plain rtl  hl\" ><span class=\"h\">בֹ֖קֶר </span></span></span></span></span></td><td class=\"tf\"><span class=\"plain outer  rtl  hl\" ><span class=\"h\">בֹ֖קֶר </span></span></td></tr></table>"
      ],
      "text/plain": [
       "<IPython.core.display.HTML object>"
      ]
     },
     "metadata": {},
     "output_type": "display_data"
    }
   ],
   "source": [
    "A.table(results, end=4)"
   ]
  },
  {
   "cell_type": "code",
   "execution_count": 8,
   "metadata": {},
   "outputs": [
    {
     "data": {
      "text/html": [
       "<p><b>result</b> <i>1</i></p>"
      ],
      "text/plain": [
       "<IPython.core.display.HTML object>"
      ]
     },
     "metadata": {},
     "output_type": "display_data"
    },
    {
     "data": {
      "text/html": [
       "<a href=\"https://shebanq.ancient-data.org/hebrew/text?book=Genesis&amp;chapter=1&amp;verse=3&amp;version=c&amp;mr=m&amp;qw=q&amp;tp=txt_p&amp;tr=hb&amp;wget=v&amp;qget=v&amp;nget=vt\" title=\"show this passage in SHEBANQ\" sec=\"Genesis 1:3\">Genesis 1:3</a><div class=\"outeritem\"><div class=\"atoms  \" ><div class=\"catom  \" >\n",
       "        <div class=\"clause \" >\n",
       "            <a href=\"https://shebanq.ancient-data.org/hebrew/text?book=Genesis&amp;chapter=1&amp;verse=3&amp;version=c&amp;mr=m&amp;qw=q&amp;tp=txt_p&amp;tr=hb&amp;wget=v&amp;qget=v&amp;nget=vt\" title=\"Genesis 1:3\" sec=\"Genesis 1:3\">clause</a>   <span class=\"typ\">ZYqX</span>\n",
       "        </div>\n",
       "        <div class=\"atoms\">\n",
       "                    <div class=\"patom  hl\" >\n",
       "        <div class=\"phrase hl\" >\n",
       "            <a href=\"https://shebanq.ancient-data.org/hebrew/text?book=Genesis&amp;chapter=1&amp;verse=3&amp;version=c&amp;mr=m&amp;qw=q&amp;tp=txt_p&amp;tr=hb&amp;wget=v&amp;qget=v&amp;nget=vt\" title=\"Genesis 1:3\" sec=\"Genesis 1:3\">phrase</a>   <span class=\"function\">Pred</span> <span class=\"typ\">VP</span>\n",
       "        </div>\n",
       "        <div class=\"atoms\">\n",
       "                    <div class=\"word  hl\" ><div class=\"h\"><a target=\"_blank\" href=\"https://shebanq.ancient-data.org/hebrew/word?version=c&amp;id=1HJHv\" title=\"show this lexeme in SHEBANQ\">יְהִ֣י </a></div><div class=\"features\"> <span class=\"pdp\"><a href=\"https://shebanq.ancient-data.org/hebrew/text?book=Genesis&amp;chapter=1&amp;verse=3&amp;version=c&amp;mr=m&amp;qw=q&amp;tp=txt_p&amp;tr=hb&amp;wget=v&amp;qget=v&amp;nget=vt\" title=\"Genesis 1:3\" sec=\"Genesis 1:3\">verb</a></span> <span class=\"gloss\">be</span> <span class=\"vs\">qal</span> <span class=\"vt\">impf</span> <span class=\"nu xft\"><span class=\"f\">nu=</span>sg</span></div></div></div></div><div class=\"patom  hl\" >\n",
       "        <div class=\"phrase hl\" >\n",
       "            <a href=\"https://shebanq.ancient-data.org/hebrew/text?book=Genesis&amp;chapter=1&amp;verse=3&amp;version=c&amp;mr=m&amp;qw=q&amp;tp=txt_p&amp;tr=hb&amp;wget=v&amp;qget=v&amp;nget=vt\" title=\"Genesis 1:3\" sec=\"Genesis 1:3\">phrase</a>   <span class=\"function\">Subj</span> <span class=\"typ\">NP</span>\n",
       "        </div>\n",
       "        <div class=\"atoms\">\n",
       "                    <div class=\"word  hl\" ><div class=\"h\"><a target=\"_blank\" href=\"https://shebanq.ancient-data.org/hebrew/word?version=c&amp;id=1AWRn\" title=\"show this lexeme in SHEBANQ\">אֹ֑ור </a></div><div class=\"features\"> <span class=\"pdp\"><a href=\"https://shebanq.ancient-data.org/hebrew/text?book=Genesis&amp;chapter=1&amp;verse=3&amp;version=c&amp;mr=m&amp;qw=q&amp;tp=txt_p&amp;tr=hb&amp;wget=v&amp;qget=v&amp;nget=vt\" title=\"Genesis 1:3\" sec=\"Genesis 1:3\">subs</a></span> <span class=\"gloss\">light</span> <span class=\"nu xft\"><span class=\"f\">nu=</span>sg</span></div></div></div></div></div></div></div></div>"
      ],
      "text/plain": [
       "<IPython.core.display.HTML object>"
      ]
     },
     "metadata": {},
     "output_type": "display_data"
    },
    {
     "data": {
      "text/html": [
       "<p><b>result</b> <i>2</i></p>"
      ],
      "text/plain": [
       "<IPython.core.display.HTML object>"
      ]
     },
     "metadata": {},
     "output_type": "display_data"
    },
    {
     "data": {
      "text/html": [
       "<a href=\"https://shebanq.ancient-data.org/hebrew/text?book=Genesis&amp;chapter=1&amp;verse=3&amp;version=c&amp;mr=m&amp;qw=q&amp;tp=txt_p&amp;tr=hb&amp;wget=v&amp;qget=v&amp;nget=vt\" title=\"show this passage in SHEBANQ\" sec=\"Genesis 1:3\">Genesis 1:3</a><div class=\"outeritem\"><div class=\"atoms  \" ><div class=\"catom  \" >\n",
       "        <div class=\"clause \" >\n",
       "            <a href=\"https://shebanq.ancient-data.org/hebrew/text?book=Genesis&amp;chapter=1&amp;verse=3&amp;version=c&amp;mr=m&amp;qw=q&amp;tp=txt_p&amp;tr=hb&amp;wget=v&amp;qget=v&amp;nget=vt\" title=\"Genesis 1:3\" sec=\"Genesis 1:3\">clause</a>   <span class=\"typ\">WayX</span>\n",
       "        </div>\n",
       "        <div class=\"atoms\">\n",
       "                    <div class=\"patom  \" >\n",
       "        <div class=\"phrase \" >\n",
       "            <a href=\"https://shebanq.ancient-data.org/hebrew/text?book=Genesis&amp;chapter=1&amp;verse=3&amp;version=c&amp;mr=m&amp;qw=q&amp;tp=txt_p&amp;tr=hb&amp;wget=v&amp;qget=v&amp;nget=vt\" title=\"Genesis 1:3\" sec=\"Genesis 1:3\">phrase</a>   <span class=\"function\">Conj</span> <span class=\"typ\">CP</span>\n",
       "        </div>\n",
       "        <div class=\"atoms\">\n",
       "                    <div class=\"word  \" ><div class=\"h\"><a target=\"_blank\" href=\"https://shebanq.ancient-data.org/hebrew/word?version=c&amp;id=1W\" title=\"show this lexeme in SHEBANQ\">וַֽ</a></div><div class=\"features\"> <span class=\"pdp\"><a href=\"https://shebanq.ancient-data.org/hebrew/text?book=Genesis&amp;chapter=1&amp;verse=3&amp;version=c&amp;mr=m&amp;qw=q&amp;tp=txt_p&amp;tr=hb&amp;wget=v&amp;qget=v&amp;nget=vt\" title=\"Genesis 1:3\" sec=\"Genesis 1:3\">conj</a></span> <span class=\"gloss\">and</span></div></div></div></div><div class=\"patom  hl\" >\n",
       "        <div class=\"phrase hl\" >\n",
       "            <a href=\"https://shebanq.ancient-data.org/hebrew/text?book=Genesis&amp;chapter=1&amp;verse=3&amp;version=c&amp;mr=m&amp;qw=q&amp;tp=txt_p&amp;tr=hb&amp;wget=v&amp;qget=v&amp;nget=vt\" title=\"Genesis 1:3\" sec=\"Genesis 1:3\">phrase</a>   <span class=\"function\">Pred</span> <span class=\"typ\">VP</span>\n",
       "        </div>\n",
       "        <div class=\"atoms\">\n",
       "                    <div class=\"word  hl\" ><div class=\"h\"><a target=\"_blank\" href=\"https://shebanq.ancient-data.org/hebrew/word?version=c&amp;id=1HJHv\" title=\"show this lexeme in SHEBANQ\">יְהִי־</a></div><div class=\"features\"> <span class=\"pdp\"><a href=\"https://shebanq.ancient-data.org/hebrew/text?book=Genesis&amp;chapter=1&amp;verse=3&amp;version=c&amp;mr=m&amp;qw=q&amp;tp=txt_p&amp;tr=hb&amp;wget=v&amp;qget=v&amp;nget=vt\" title=\"Genesis 1:3\" sec=\"Genesis 1:3\">verb</a></span> <span class=\"gloss\">be</span> <span class=\"vs\">qal</span> <span class=\"vt\">wayq</span> <span class=\"nu xft\"><span class=\"f\">nu=</span>sg</span></div></div></div></div><div class=\"patom  hl\" >\n",
       "        <div class=\"phrase hl\" >\n",
       "            <a href=\"https://shebanq.ancient-data.org/hebrew/text?book=Genesis&amp;chapter=1&amp;verse=3&amp;version=c&amp;mr=m&amp;qw=q&amp;tp=txt_p&amp;tr=hb&amp;wget=v&amp;qget=v&amp;nget=vt\" title=\"Genesis 1:3\" sec=\"Genesis 1:3\">phrase</a>   <span class=\"function\">Subj</span> <span class=\"typ\">NP</span>\n",
       "        </div>\n",
       "        <div class=\"atoms\">\n",
       "                    <div class=\"word  hl\" ><div class=\"h\"><a target=\"_blank\" href=\"https://shebanq.ancient-data.org/hebrew/word?version=c&amp;id=1AWRn\" title=\"show this lexeme in SHEBANQ\">אֹֽור׃ </a></div><div class=\"features\"> <span class=\"pdp\"><a href=\"https://shebanq.ancient-data.org/hebrew/text?book=Genesis&amp;chapter=1&amp;verse=3&amp;version=c&amp;mr=m&amp;qw=q&amp;tp=txt_p&amp;tr=hb&amp;wget=v&amp;qget=v&amp;nget=vt\" title=\"Genesis 1:3\" sec=\"Genesis 1:3\">subs</a></span> <span class=\"gloss\">light</span> <span class=\"nu xft\"><span class=\"f\">nu=</span>sg</span></div></div></div></div></div></div></div></div>"
      ],
      "text/plain": [
       "<IPython.core.display.HTML object>"
      ]
     },
     "metadata": {},
     "output_type": "display_data"
    },
    {
     "data": {
      "text/html": [
       "<p><b>result</b> <i>3</i></p>"
      ],
      "text/plain": [
       "<IPython.core.display.HTML object>"
      ]
     },
     "metadata": {},
     "output_type": "display_data"
    },
    {
     "data": {
      "text/html": [
       "<a href=\"https://shebanq.ancient-data.org/hebrew/text?book=Genesis&amp;chapter=1&amp;verse=5&amp;version=c&amp;mr=m&amp;qw=q&amp;tp=txt_p&amp;tr=hb&amp;wget=v&amp;qget=v&amp;nget=vt\" title=\"show this passage in SHEBANQ\" sec=\"Genesis 1:5\">Genesis 1:5</a><div class=\"outeritem\"><div class=\"atoms  \" ><div class=\"catom  \" >\n",
       "        <div class=\"clause \" >\n",
       "            <a href=\"https://shebanq.ancient-data.org/hebrew/text?book=Genesis&amp;chapter=1&amp;verse=5&amp;version=c&amp;mr=m&amp;qw=q&amp;tp=txt_p&amp;tr=hb&amp;wget=v&amp;qget=v&amp;nget=vt\" title=\"Genesis 1:5\" sec=\"Genesis 1:5\">clause</a>   <span class=\"typ\">WayX</span>\n",
       "        </div>\n",
       "        <div class=\"atoms\">\n",
       "                    <div class=\"patom  \" >\n",
       "        <div class=\"phrase \" >\n",
       "            <a href=\"https://shebanq.ancient-data.org/hebrew/text?book=Genesis&amp;chapter=1&amp;verse=5&amp;version=c&amp;mr=m&amp;qw=q&amp;tp=txt_p&amp;tr=hb&amp;wget=v&amp;qget=v&amp;nget=vt\" title=\"Genesis 1:5\" sec=\"Genesis 1:5\">phrase</a>   <span class=\"function\">Conj</span> <span class=\"typ\">CP</span>\n",
       "        </div>\n",
       "        <div class=\"atoms\">\n",
       "                    <div class=\"word  \" ><div class=\"h\"><a target=\"_blank\" href=\"https://shebanq.ancient-data.org/hebrew/word?version=c&amp;id=1W\" title=\"show this lexeme in SHEBANQ\">וַֽ</a></div><div class=\"features\"> <span class=\"pdp\"><a href=\"https://shebanq.ancient-data.org/hebrew/text?book=Genesis&amp;chapter=1&amp;verse=5&amp;version=c&amp;mr=m&amp;qw=q&amp;tp=txt_p&amp;tr=hb&amp;wget=v&amp;qget=v&amp;nget=vt\" title=\"Genesis 1:5\" sec=\"Genesis 1:5\">conj</a></span> <span class=\"gloss\">and</span></div></div></div></div><div class=\"patom  hl\" >\n",
       "        <div class=\"phrase hl\" >\n",
       "            <a href=\"https://shebanq.ancient-data.org/hebrew/text?book=Genesis&amp;chapter=1&amp;verse=5&amp;version=c&amp;mr=m&amp;qw=q&amp;tp=txt_p&amp;tr=hb&amp;wget=v&amp;qget=v&amp;nget=vt\" title=\"Genesis 1:5\" sec=\"Genesis 1:5\">phrase</a>   <span class=\"function\">Pred</span> <span class=\"typ\">VP</span>\n",
       "        </div>\n",
       "        <div class=\"atoms\">\n",
       "                    <div class=\"word  hl\" ><div class=\"h\"><a target=\"_blank\" href=\"https://shebanq.ancient-data.org/hebrew/word?version=c&amp;id=1HJHv\" title=\"show this lexeme in SHEBANQ\">יְהִי־</a></div><div class=\"features\"> <span class=\"pdp\"><a href=\"https://shebanq.ancient-data.org/hebrew/text?book=Genesis&amp;chapter=1&amp;verse=5&amp;version=c&amp;mr=m&amp;qw=q&amp;tp=txt_p&amp;tr=hb&amp;wget=v&amp;qget=v&amp;nget=vt\" title=\"Genesis 1:5\" sec=\"Genesis 1:5\">verb</a></span> <span class=\"gloss\">be</span> <span class=\"vs\">qal</span> <span class=\"vt\">wayq</span> <span class=\"nu xft\"><span class=\"f\">nu=</span>sg</span></div></div></div></div><div class=\"patom  hl\" >\n",
       "        <div class=\"phrase hl\" >\n",
       "            <a href=\"https://shebanq.ancient-data.org/hebrew/text?book=Genesis&amp;chapter=1&amp;verse=5&amp;version=c&amp;mr=m&amp;qw=q&amp;tp=txt_p&amp;tr=hb&amp;wget=v&amp;qget=v&amp;nget=vt\" title=\"Genesis 1:5\" sec=\"Genesis 1:5\">phrase</a>   <span class=\"function\">Subj</span> <span class=\"typ\">NP</span>\n",
       "        </div>\n",
       "        <div class=\"atoms\">\n",
       "                    <div class=\"word  hl\" ><div class=\"h\"><a target=\"_blank\" href=\"https://shebanq.ancient-data.org/hebrew/word?version=c&amp;id=1ORBn\" title=\"show this lexeme in SHEBANQ\">עֶ֥רֶב </a></div><div class=\"features\"> <span class=\"pdp\"><a href=\"https://shebanq.ancient-data.org/hebrew/text?book=Genesis&amp;chapter=1&amp;verse=5&amp;version=c&amp;mr=m&amp;qw=q&amp;tp=txt_p&amp;tr=hb&amp;wget=v&amp;qget=v&amp;nget=vt\" title=\"Genesis 1:5\" sec=\"Genesis 1:5\">subs</a></span> <span class=\"gloss\">evening</span> <span class=\"nu xft\"><span class=\"f\">nu=</span>sg</span></div></div></div></div></div></div></div></div>"
      ],
      "text/plain": [
       "<IPython.core.display.HTML object>"
      ]
     },
     "metadata": {},
     "output_type": "display_data"
    },
    {
     "data": {
      "text/html": [
       "<p><b>result</b> <i>4</i></p>"
      ],
      "text/plain": [
       "<IPython.core.display.HTML object>"
      ]
     },
     "metadata": {},
     "output_type": "display_data"
    },
    {
     "data": {
      "text/html": [
       "<a href=\"https://shebanq.ancient-data.org/hebrew/text?book=Genesis&amp;chapter=1&amp;verse=5&amp;version=c&amp;mr=m&amp;qw=q&amp;tp=txt_p&amp;tr=hb&amp;wget=v&amp;qget=v&amp;nget=vt\" title=\"show this passage in SHEBANQ\" sec=\"Genesis 1:5\">Genesis 1:5</a><div class=\"outeritem\"><div class=\"atoms  \" ><div class=\"catom  \" >\n",
       "        <div class=\"clause \" >\n",
       "            <a href=\"https://shebanq.ancient-data.org/hebrew/text?book=Genesis&amp;chapter=1&amp;verse=5&amp;version=c&amp;mr=m&amp;qw=q&amp;tp=txt_p&amp;tr=hb&amp;wget=v&amp;qget=v&amp;nget=vt\" title=\"Genesis 1:5\" sec=\"Genesis 1:5\">clause</a>   <span class=\"typ\">WayX</span>\n",
       "        </div>\n",
       "        <div class=\"atoms\">\n",
       "                    <div class=\"patom  \" >\n",
       "        <div class=\"phrase \" >\n",
       "            <a href=\"https://shebanq.ancient-data.org/hebrew/text?book=Genesis&amp;chapter=1&amp;verse=5&amp;version=c&amp;mr=m&amp;qw=q&amp;tp=txt_p&amp;tr=hb&amp;wget=v&amp;qget=v&amp;nget=vt\" title=\"Genesis 1:5\" sec=\"Genesis 1:5\">phrase</a>   <span class=\"function\">Conj</span> <span class=\"typ\">CP</span>\n",
       "        </div>\n",
       "        <div class=\"atoms\">\n",
       "                    <div class=\"word  \" ><div class=\"h\"><a target=\"_blank\" href=\"https://shebanq.ancient-data.org/hebrew/word?version=c&amp;id=1W\" title=\"show this lexeme in SHEBANQ\">וַֽ</a></div><div class=\"features\"> <span class=\"pdp\"><a href=\"https://shebanq.ancient-data.org/hebrew/text?book=Genesis&amp;chapter=1&amp;verse=5&amp;version=c&amp;mr=m&amp;qw=q&amp;tp=txt_p&amp;tr=hb&amp;wget=v&amp;qget=v&amp;nget=vt\" title=\"Genesis 1:5\" sec=\"Genesis 1:5\">conj</a></span> <span class=\"gloss\">and</span></div></div></div></div><div class=\"patom  hl\" >\n",
       "        <div class=\"phrase hl\" >\n",
       "            <a href=\"https://shebanq.ancient-data.org/hebrew/text?book=Genesis&amp;chapter=1&amp;verse=5&amp;version=c&amp;mr=m&amp;qw=q&amp;tp=txt_p&amp;tr=hb&amp;wget=v&amp;qget=v&amp;nget=vt\" title=\"Genesis 1:5\" sec=\"Genesis 1:5\">phrase</a>   <span class=\"function\">Pred</span> <span class=\"typ\">VP</span>\n",
       "        </div>\n",
       "        <div class=\"atoms\">\n",
       "                    <div class=\"word  hl\" ><div class=\"h\"><a target=\"_blank\" href=\"https://shebanq.ancient-data.org/hebrew/word?version=c&amp;id=1HJHv\" title=\"show this lexeme in SHEBANQ\">יְהִי־</a></div><div class=\"features\"> <span class=\"pdp\"><a href=\"https://shebanq.ancient-data.org/hebrew/text?book=Genesis&amp;chapter=1&amp;verse=5&amp;version=c&amp;mr=m&amp;qw=q&amp;tp=txt_p&amp;tr=hb&amp;wget=v&amp;qget=v&amp;nget=vt\" title=\"Genesis 1:5\" sec=\"Genesis 1:5\">verb</a></span> <span class=\"gloss\">be</span> <span class=\"vs\">qal</span> <span class=\"vt\">wayq</span> <span class=\"nu xft\"><span class=\"f\">nu=</span>sg</span></div></div></div></div><div class=\"patom  hl\" >\n",
       "        <div class=\"phrase hl\" >\n",
       "            <a href=\"https://shebanq.ancient-data.org/hebrew/text?book=Genesis&amp;chapter=1&amp;verse=5&amp;version=c&amp;mr=m&amp;qw=q&amp;tp=txt_p&amp;tr=hb&amp;wget=v&amp;qget=v&amp;nget=vt\" title=\"Genesis 1:5\" sec=\"Genesis 1:5\">phrase</a>   <span class=\"function\">Subj</span> <span class=\"typ\">NP</span>\n",
       "        </div>\n",
       "        <div class=\"atoms\">\n",
       "                    <div class=\"word  hl\" ><div class=\"h\"><a target=\"_blank\" href=\"https://shebanq.ancient-data.org/hebrew/word?version=c&amp;id=1BQRin\" title=\"show this lexeme in SHEBANQ\">בֹ֖קֶר </a></div><div class=\"features\"> <span class=\"pdp\"><a href=\"https://shebanq.ancient-data.org/hebrew/text?book=Genesis&amp;chapter=1&amp;verse=5&amp;version=c&amp;mr=m&amp;qw=q&amp;tp=txt_p&amp;tr=hb&amp;wget=v&amp;qget=v&amp;nget=vt\" title=\"Genesis 1:5\" sec=\"Genesis 1:5\">subs</a></span> <span class=\"gloss\">morning</span> <span class=\"nu xft\"><span class=\"f\">nu=</span>sg</span></div></div></div></div></div></div></div></div>"
      ],
      "text/plain": [
       "<IPython.core.display.HTML object>"
      ]
     },
     "metadata": {},
     "output_type": "display_data"
    }
   ],
   "source": [
    "A.show(results, condenseType='clause', end=4)"
   ]
  },
  {
   "cell_type": "markdown",
   "metadata": {},
   "source": [
    "Now we want such pairs, but then where the grammatical number differs."
   ]
  },
  {
   "cell_type": "code",
   "execution_count": 9,
   "metadata": {},
   "outputs": [],
   "source": [
    "query = '''\n",
    "clause\n",
    "  phrase function=Pred\n",
    "    w1:word pdp=verb\n",
    "  phrase function=Subj\n",
    "    =: w2:word pdp=subs\n",
    "    :=\n",
    "w1 .nu#nu. w2\n",
    "'''"
   ]
  },
  {
   "cell_type": "code",
   "execution_count": 10,
   "metadata": {},
   "outputs": [
    {
     "name": "stdout",
     "output_type": "stream",
     "text": [
      "  1.72s 739 results\n"
     ]
    }
   ],
   "source": [
    "results = A.search(query)"
   ]
  },
  {
   "cell_type": "code",
   "execution_count": 11,
   "metadata": {},
   "outputs": [
    {
     "data": {
      "text/html": [
       "<table>\n",
       "<tr class=\"tf\">\n",
       "  <th class=\"tf\">n</th><th class=\"tf\">p</th>\n",
       "  <th class=\"tf\">clause</th><th>phrase</th><th>word</th><th>phrase</th><th>word</th>\n",
       "</tr>\n",
       "\n",
       "<tr class=\"tf\"><td class=\"tf\">1</td><td class=\"tf\"> <a href=\"https://shebanq.ancient-data.org/hebrew/text?book=Genesis&amp;chapter=1&amp;verse=1&amp;version=c&amp;mr=m&amp;qw=q&amp;tp=txt_p&amp;tr=hb&amp;wget=v&amp;qget=v&amp;nget=vt\" title=\"show this passage in SHEBANQ\" sec=\"Genesis 1:1\">Genesis 1:1</a></td><td class=\"tf\"><a href=\"https://shebanq.ancient-data.org/hebrew/text?book=Genesis&amp;chapter=1&amp;verse=1&amp;version=c&amp;mr=m&amp;qw=q&amp;tp=txt_p&amp;tr=hb&amp;wget=v&amp;qget=v&amp;nget=vt\" title=\"Genesis 1:1\" sec=\"Genesis 1:1\"><span class=\"plain outer  rtl \"><span class=\"plain rtl  hlbx\" ><span class=\"plain rtl  \" ><span class=\"plain rtl  \" ><span class=\"plain rtl  \" ><span class=\"h\">בְּ</span></span><span class=\"plain rtl  \" ><span class=\"h\">רֵאשִׁ֖ית </span></span></span><span class=\"plain rtl  hlbx\" ><span class=\"plain rtl  \" ><span class=\"plain rtl  hl\" ><span class=\"h\">בָּרָ֣א </span></span></span></span><span class=\"plain rtl  hlbx\" ><span class=\"plain rtl  \" ><span class=\"plain rtl  hl\" ><span class=\"h\">אֱלֹהִ֑ים </span></span></span></span><span class=\"plain rtl  \" ><span class=\"plain rtl  \" ><span class=\"h\">אֵ֥ת </span></span><span class=\"plain rtl  \" ><span class=\"h\">הַ</span></span><span class=\"plain rtl  \" ><span class=\"h\">שָּׁמַ֖יִם </span></span><span class=\"plain rtl  \" ><span class=\"h\">וְ</span></span><span class=\"plain rtl  \" ><span class=\"h\">אֵ֥ת </span></span><span class=\"plain rtl  \" ><span class=\"h\">הָ</span></span><span class=\"plain rtl  \" ><span class=\"h\">אָֽרֶץ׃ </span></span></span></span></span></span></a></td><td class=\"tf\"><span class=\"plain outer  rtl \"><span class=\"plain rtl  hlbx\" ><span class=\"plain rtl  \" ><span class=\"plain rtl  hl\" ><span class=\"h\">בָּרָ֣א </span></span></span></span></span></td><td class=\"tf\"><span class=\"plain outer  rtl  hl\" ><span class=\"h\">בָּרָ֣א </span></span></td><td class=\"tf\"><span class=\"plain outer  rtl \"><span class=\"plain rtl  hlbx\" ><span class=\"plain rtl  \" ><span class=\"plain rtl  hl\" ><span class=\"h\">אֱלֹהִ֑ים </span></span></span></span></span></td><td class=\"tf\"><span class=\"plain outer  rtl  hl\" ><span class=\"h\">אֱלֹהִ֑ים </span></span></td></tr>\n",
       "<tr class=\"tf\"><td class=\"tf\">2</td><td class=\"tf\"> <a href=\"https://shebanq.ancient-data.org/hebrew/text?book=Genesis&amp;chapter=1&amp;verse=3&amp;version=c&amp;mr=m&amp;qw=q&amp;tp=txt_p&amp;tr=hb&amp;wget=v&amp;qget=v&amp;nget=vt\" title=\"show this passage in SHEBANQ\" sec=\"Genesis 1:3\">Genesis 1:3</a></td><td class=\"tf\"><a href=\"https://shebanq.ancient-data.org/hebrew/text?book=Genesis&amp;chapter=1&amp;verse=3&amp;version=c&amp;mr=m&amp;qw=q&amp;tp=txt_p&amp;tr=hb&amp;wget=v&amp;qget=v&amp;nget=vt\" title=\"Genesis 1:3\" sec=\"Genesis 1:3\"><span class=\"plain outer  rtl \"><span class=\"plain rtl  hlbx\" ><span class=\"plain rtl  \" ><span class=\"plain rtl  \" ><span class=\"plain rtl  \" ><span class=\"h\">וַ</span></span></span><span class=\"plain rtl  hlbx\" ><span class=\"plain rtl  \" ><span class=\"plain rtl  hl\" ><span class=\"h\">יֹּ֥אמֶר </span></span></span></span><span class=\"plain rtl  hlbx\" ><span class=\"plain rtl  \" ><span class=\"plain rtl  hl\" ><span class=\"h\">אֱלֹהִ֖ים </span></span></span></span></span></span></span></a></td><td class=\"tf\"><span class=\"plain outer  rtl \"><span class=\"plain rtl  hlbx\" ><span class=\"plain rtl  \" ><span class=\"plain rtl  hl\" ><span class=\"h\">יֹּ֥אמֶר </span></span></span></span></span></td><td class=\"tf\"><span class=\"plain outer  rtl  hl\" ><span class=\"h\">יֹּ֥אמֶר </span></span></td><td class=\"tf\"><span class=\"plain outer  rtl \"><span class=\"plain rtl  hlbx\" ><span class=\"plain rtl  \" ><span class=\"plain rtl  hl\" ><span class=\"h\">אֱלֹהִ֖ים </span></span></span></span></span></td><td class=\"tf\"><span class=\"plain outer  rtl  hl\" ><span class=\"h\">אֱלֹהִ֖ים </span></span></td></tr>\n",
       "<tr class=\"tf\"><td class=\"tf\">3</td><td class=\"tf\"> <a href=\"https://shebanq.ancient-data.org/hebrew/text?book=Genesis&amp;chapter=1&amp;verse=4&amp;version=c&amp;mr=m&amp;qw=q&amp;tp=txt_p&amp;tr=hb&amp;wget=v&amp;qget=v&amp;nget=vt\" title=\"show this passage in SHEBANQ\" sec=\"Genesis 1:4\">Genesis 1:4</a></td><td class=\"tf\"><a href=\"https://shebanq.ancient-data.org/hebrew/text?book=Genesis&amp;chapter=1&amp;verse=4&amp;version=c&amp;mr=m&amp;qw=q&amp;tp=txt_p&amp;tr=hb&amp;wget=v&amp;qget=v&amp;nget=vt\" title=\"Genesis 1:4\" sec=\"Genesis 1:4\"><span class=\"plain outer  rtl \"><span class=\"plain rtl  hlbx\" ><span class=\"plain rtl  \" ><span class=\"plain rtl  \" ><span class=\"plain rtl  \" ><span class=\"h\">וַ</span></span></span><span class=\"plain rtl  hlbx\" ><span class=\"plain rtl  \" ><span class=\"plain rtl  hl\" ><span class=\"h\">יַּ֧רְא </span></span></span></span><span class=\"plain rtl  hlbx\" ><span class=\"plain rtl  \" ><span class=\"plain rtl  hl\" ><span class=\"h\">אֱלֹהִ֛ים </span></span></span></span><span class=\"plain rtl  \" ><span class=\"plain rtl  \" ><span class=\"h\">אֶת־</span></span><span class=\"plain rtl  \" ><span class=\"h\">הָ</span></span><span class=\"plain rtl  \" ><span class=\"h\">אֹ֖ור </span></span></span></span></span></span></a></td><td class=\"tf\"><span class=\"plain outer  rtl \"><span class=\"plain rtl  hlbx\" ><span class=\"plain rtl  \" ><span class=\"plain rtl  hl\" ><span class=\"h\">יַּ֧רְא </span></span></span></span></span></td><td class=\"tf\"><span class=\"plain outer  rtl  hl\" ><span class=\"h\">יַּ֧רְא </span></span></td><td class=\"tf\"><span class=\"plain outer  rtl \"><span class=\"plain rtl  hlbx\" ><span class=\"plain rtl  \" ><span class=\"plain rtl  hl\" ><span class=\"h\">אֱלֹהִ֛ים </span></span></span></span></span></td><td class=\"tf\"><span class=\"plain outer  rtl  hl\" ><span class=\"h\">אֱלֹהִ֛ים </span></span></td></tr>\n",
       "<tr class=\"tf\"><td class=\"tf\">4</td><td class=\"tf\"> <a href=\"https://shebanq.ancient-data.org/hebrew/text?book=Genesis&amp;chapter=1&amp;verse=4&amp;version=c&amp;mr=m&amp;qw=q&amp;tp=txt_p&amp;tr=hb&amp;wget=v&amp;qget=v&amp;nget=vt\" title=\"show this passage in SHEBANQ\" sec=\"Genesis 1:4\">Genesis 1:4</a></td><td class=\"tf\"><a href=\"https://shebanq.ancient-data.org/hebrew/text?book=Genesis&amp;chapter=1&amp;verse=4&amp;version=c&amp;mr=m&amp;qw=q&amp;tp=txt_p&amp;tr=hb&amp;wget=v&amp;qget=v&amp;nget=vt\" title=\"Genesis 1:4\" sec=\"Genesis 1:4\"><span class=\"plain outer  rtl \"><span class=\"plain rtl  hlbx\" ><span class=\"plain rtl  \" ><span class=\"plain rtl  \" ><span class=\"plain rtl  \" ><span class=\"h\">וַ</span></span></span><span class=\"plain rtl  hlbx\" ><span class=\"plain rtl  \" ><span class=\"plain rtl  hl\" ><span class=\"h\">יַּבְדֵּ֣ל </span></span></span></span><span class=\"plain rtl  hlbx\" ><span class=\"plain rtl  \" ><span class=\"plain rtl  hl\" ><span class=\"h\">אֱלֹהִ֔ים </span></span></span></span><span class=\"plain rtl  \" ><span class=\"plain rtl  \" ><span class=\"h\">בֵּ֥ין </span></span><span class=\"plain rtl  \" ><span class=\"h\">הָ</span></span><span class=\"plain rtl  \" ><span class=\"h\">אֹ֖ור </span></span><span class=\"plain rtl  \" ><span class=\"h\">וּ</span></span><span class=\"plain rtl  \" ><span class=\"h\">בֵ֥ין </span></span><span class=\"plain rtl  \" ><span class=\"h\">הַ</span></span><span class=\"plain rtl  \" ><span class=\"h\">חֹֽשֶׁךְ׃ </span></span></span></span></span></span></a></td><td class=\"tf\"><span class=\"plain outer  rtl \"><span class=\"plain rtl  hlbx\" ><span class=\"plain rtl  \" ><span class=\"plain rtl  hl\" ><span class=\"h\">יַּבְדֵּ֣ל </span></span></span></span></span></td><td class=\"tf\"><span class=\"plain outer  rtl  hl\" ><span class=\"h\">יַּבְדֵּ֣ל </span></span></td><td class=\"tf\"><span class=\"plain outer  rtl \"><span class=\"plain rtl  hlbx\" ><span class=\"plain rtl  \" ><span class=\"plain rtl  hl\" ><span class=\"h\">אֱלֹהִ֔ים </span></span></span></span></span></td><td class=\"tf\"><span class=\"plain outer  rtl  hl\" ><span class=\"h\">אֱלֹהִ֔ים </span></span></td></tr></table>"
      ],
      "text/plain": [
       "<IPython.core.display.HTML object>"
      ]
     },
     "metadata": {},
     "output_type": "display_data"
    }
   ],
   "source": [
    "A.table(results, end=4)"
   ]
  },
  {
   "cell_type": "code",
   "execution_count": 12,
   "metadata": {},
   "outputs": [
    {
     "data": {
      "text/html": [
       "<p><b>result</b> <i>1</i></p>"
      ],
      "text/plain": [
       "<IPython.core.display.HTML object>"
      ]
     },
     "metadata": {},
     "output_type": "display_data"
    },
    {
     "data": {
      "text/html": [
       "<a href=\"https://shebanq.ancient-data.org/hebrew/text?book=Genesis&amp;chapter=1&amp;verse=1&amp;version=c&amp;mr=m&amp;qw=q&amp;tp=txt_p&amp;tr=hb&amp;wget=v&amp;qget=v&amp;nget=vt\" title=\"show this passage in SHEBANQ\" sec=\"Genesis 1:1\">Genesis 1:1</a><div class=\"outeritem\"><div class=\"atoms  \" ><div class=\"catom  \" >\n",
       "        <div class=\"clause \" >\n",
       "            <a href=\"https://shebanq.ancient-data.org/hebrew/text?book=Genesis&amp;chapter=1&amp;verse=1&amp;version=c&amp;mr=m&amp;qw=q&amp;tp=txt_p&amp;tr=hb&amp;wget=v&amp;qget=v&amp;nget=vt\" title=\"Genesis 1:1\" sec=\"Genesis 1:1\">clause</a>   <span class=\"typ\">xQtX</span>\n",
       "        </div>\n",
       "        <div class=\"atoms\">\n",
       "                    <div class=\"patom  \" >\n",
       "        <div class=\"phrase \" >\n",
       "            <a href=\"https://shebanq.ancient-data.org/hebrew/text?book=Genesis&amp;chapter=1&amp;verse=1&amp;version=c&amp;mr=m&amp;qw=q&amp;tp=txt_p&amp;tr=hb&amp;wget=v&amp;qget=v&amp;nget=vt\" title=\"Genesis 1:1\" sec=\"Genesis 1:1\">phrase</a>   <span class=\"function\">Time</span> <span class=\"typ\">PP</span>\n",
       "        </div>\n",
       "        <div class=\"atoms\">\n",
       "                    <div class=\"word  \" ><div class=\"h\"><a target=\"_blank\" href=\"https://shebanq.ancient-data.org/hebrew/word?version=c&amp;id=1B\" title=\"show this lexeme in SHEBANQ\">בְּ</a></div><div class=\"features\"> <span class=\"pdp\"><a href=\"https://shebanq.ancient-data.org/hebrew/text?book=Genesis&amp;chapter=1&amp;verse=1&amp;version=c&amp;mr=m&amp;qw=q&amp;tp=txt_p&amp;tr=hb&amp;wget=v&amp;qget=v&amp;nget=vt\" title=\"Genesis 1:1\" sec=\"Genesis 1:1\">prep</a></span> <span class=\"gloss\">in</span></div></div><div class=\"word  \" ><div class=\"h\"><a target=\"_blank\" href=\"https://shebanq.ancient-data.org/hebrew/word?version=c&amp;id=1RACJTn\" title=\"show this lexeme in SHEBANQ\">רֵאשִׁ֖ית </a></div><div class=\"features\"> <span class=\"pdp\"><a href=\"https://shebanq.ancient-data.org/hebrew/text?book=Genesis&amp;chapter=1&amp;verse=1&amp;version=c&amp;mr=m&amp;qw=q&amp;tp=txt_p&amp;tr=hb&amp;wget=v&amp;qget=v&amp;nget=vt\" title=\"Genesis 1:1\" sec=\"Genesis 1:1\">subs</a></span> <span class=\"gloss\">beginning</span> <span class=\"nu xft\"><span class=\"f\">nu=</span>sg</span></div></div></div></div><div class=\"patom  hl\" >\n",
       "        <div class=\"phrase hl\" >\n",
       "            <a href=\"https://shebanq.ancient-data.org/hebrew/text?book=Genesis&amp;chapter=1&amp;verse=1&amp;version=c&amp;mr=m&amp;qw=q&amp;tp=txt_p&amp;tr=hb&amp;wget=v&amp;qget=v&amp;nget=vt\" title=\"Genesis 1:1\" sec=\"Genesis 1:1\">phrase</a>   <span class=\"function\">Pred</span> <span class=\"typ\">VP</span>\n",
       "        </div>\n",
       "        <div class=\"atoms\">\n",
       "                    <div class=\"word  hl\" ><div class=\"h\"><a target=\"_blank\" href=\"https://shebanq.ancient-data.org/hebrew/word?version=c&amp;id=1BRAv\" title=\"show this lexeme in SHEBANQ\">בָּרָ֣א </a></div><div class=\"features\"> <span class=\"pdp\"><a href=\"https://shebanq.ancient-data.org/hebrew/text?book=Genesis&amp;chapter=1&amp;verse=1&amp;version=c&amp;mr=m&amp;qw=q&amp;tp=txt_p&amp;tr=hb&amp;wget=v&amp;qget=v&amp;nget=vt\" title=\"Genesis 1:1\" sec=\"Genesis 1:1\">verb</a></span> <span class=\"gloss\">create</span> <span class=\"vs\">qal</span> <span class=\"vt\">perf</span> <span class=\"nu xft\"><span class=\"f\">nu=</span>sg</span></div></div></div></div><div class=\"patom  hl\" >\n",
       "        <div class=\"phrase hl\" >\n",
       "            <a href=\"https://shebanq.ancient-data.org/hebrew/text?book=Genesis&amp;chapter=1&amp;verse=1&amp;version=c&amp;mr=m&amp;qw=q&amp;tp=txt_p&amp;tr=hb&amp;wget=v&amp;qget=v&amp;nget=vt\" title=\"Genesis 1:1\" sec=\"Genesis 1:1\">phrase</a>   <span class=\"function\">Subj</span> <span class=\"typ\">NP</span>\n",
       "        </div>\n",
       "        <div class=\"atoms\">\n",
       "                    <div class=\"word  hl\" ><div class=\"h\"><a target=\"_blank\" href=\"https://shebanq.ancient-data.org/hebrew/word?version=c&amp;id=1ALHJMn\" title=\"show this lexeme in SHEBANQ\">אֱלֹהִ֑ים </a></div><div class=\"features\"> <span class=\"pdp\"><a href=\"https://shebanq.ancient-data.org/hebrew/text?book=Genesis&amp;chapter=1&amp;verse=1&amp;version=c&amp;mr=m&amp;qw=q&amp;tp=txt_p&amp;tr=hb&amp;wget=v&amp;qget=v&amp;nget=vt\" title=\"Genesis 1:1\" sec=\"Genesis 1:1\">subs</a></span> <span class=\"gloss\">god(s)</span> <span class=\"nu xft\"><span class=\"f\">nu=</span>pl</span></div></div></div></div><div class=\"patom  \" >\n",
       "        <div class=\"phrase \" >\n",
       "            <a href=\"https://shebanq.ancient-data.org/hebrew/text?book=Genesis&amp;chapter=1&amp;verse=1&amp;version=c&amp;mr=m&amp;qw=q&amp;tp=txt_p&amp;tr=hb&amp;wget=v&amp;qget=v&amp;nget=vt\" title=\"Genesis 1:1\" sec=\"Genesis 1:1\">phrase</a>   <span class=\"function\">Objc</span> <span class=\"typ\">PP</span>\n",
       "        </div>\n",
       "        <div class=\"atoms\">\n",
       "                    <div class=\"word  \" ><div class=\"h\"><a target=\"_blank\" href=\"https://shebanq.ancient-data.org/hebrew/word?version=c&amp;id=1AT\" title=\"show this lexeme in SHEBANQ\">אֵ֥ת </a></div><div class=\"features\"> <span class=\"pdp\"><a href=\"https://shebanq.ancient-data.org/hebrew/text?book=Genesis&amp;chapter=1&amp;verse=1&amp;version=c&amp;mr=m&amp;qw=q&amp;tp=txt_p&amp;tr=hb&amp;wget=v&amp;qget=v&amp;nget=vt\" title=\"Genesis 1:1\" sec=\"Genesis 1:1\">prep</a></span> <span class=\"gloss\">&lt;object marker></span></div></div><div class=\"word  \" ><div class=\"h\"><a target=\"_blank\" href=\"https://shebanq.ancient-data.org/hebrew/word?version=c&amp;id=1H\" title=\"show this lexeme in SHEBANQ\">הַ</a></div><div class=\"features\"> <span class=\"pdp\"><a href=\"https://shebanq.ancient-data.org/hebrew/text?book=Genesis&amp;chapter=1&amp;verse=1&amp;version=c&amp;mr=m&amp;qw=q&amp;tp=txt_p&amp;tr=hb&amp;wget=v&amp;qget=v&amp;nget=vt\" title=\"Genesis 1:1\" sec=\"Genesis 1:1\">art</a></span> <span class=\"gloss\">the</span></div></div><div class=\"word  \" ><div class=\"h\"><a target=\"_blank\" href=\"https://shebanq.ancient-data.org/hebrew/word?version=c&amp;id=1CMJMn\" title=\"show this lexeme in SHEBANQ\">שָּׁמַ֖יִם </a></div><div class=\"features\"> <span class=\"pdp\"><a href=\"https://shebanq.ancient-data.org/hebrew/text?book=Genesis&amp;chapter=1&amp;verse=1&amp;version=c&amp;mr=m&amp;qw=q&amp;tp=txt_p&amp;tr=hb&amp;wget=v&amp;qget=v&amp;nget=vt\" title=\"Genesis 1:1\" sec=\"Genesis 1:1\">subs</a></span> <span class=\"gloss\">heavens</span> <span class=\"nu xft\"><span class=\"f\">nu=</span>pl</span></div></div><div class=\"word  \" ><div class=\"h\"><a target=\"_blank\" href=\"https://shebanq.ancient-data.org/hebrew/word?version=c&amp;id=1W\" title=\"show this lexeme in SHEBANQ\">וְ</a></div><div class=\"features\"> <span class=\"pdp\"><a href=\"https://shebanq.ancient-data.org/hebrew/text?book=Genesis&amp;chapter=1&amp;verse=1&amp;version=c&amp;mr=m&amp;qw=q&amp;tp=txt_p&amp;tr=hb&amp;wget=v&amp;qget=v&amp;nget=vt\" title=\"Genesis 1:1\" sec=\"Genesis 1:1\">conj</a></span> <span class=\"gloss\">and</span></div></div><div class=\"word  \" ><div class=\"h\"><a target=\"_blank\" href=\"https://shebanq.ancient-data.org/hebrew/word?version=c&amp;id=1AT\" title=\"show this lexeme in SHEBANQ\">אֵ֥ת </a></div><div class=\"features\"> <span class=\"pdp\"><a href=\"https://shebanq.ancient-data.org/hebrew/text?book=Genesis&amp;chapter=1&amp;verse=1&amp;version=c&amp;mr=m&amp;qw=q&amp;tp=txt_p&amp;tr=hb&amp;wget=v&amp;qget=v&amp;nget=vt\" title=\"Genesis 1:1\" sec=\"Genesis 1:1\">prep</a></span> <span class=\"gloss\">&lt;object marker></span></div></div><div class=\"word  \" ><div class=\"h\"><a target=\"_blank\" href=\"https://shebanq.ancient-data.org/hebrew/word?version=c&amp;id=1H\" title=\"show this lexeme in SHEBANQ\">הָ</a></div><div class=\"features\"> <span class=\"pdp\"><a href=\"https://shebanq.ancient-data.org/hebrew/text?book=Genesis&amp;chapter=1&amp;verse=1&amp;version=c&amp;mr=m&amp;qw=q&amp;tp=txt_p&amp;tr=hb&amp;wget=v&amp;qget=v&amp;nget=vt\" title=\"Genesis 1:1\" sec=\"Genesis 1:1\">art</a></span> <span class=\"gloss\">the</span></div></div><div class=\"word  \" ><div class=\"h\"><a target=\"_blank\" href=\"https://shebanq.ancient-data.org/hebrew/word?version=c&amp;id=1ARYn\" title=\"show this lexeme in SHEBANQ\">אָֽרֶץ׃ </a></div><div class=\"features\"> <span class=\"pdp\"><a href=\"https://shebanq.ancient-data.org/hebrew/text?book=Genesis&amp;chapter=1&amp;verse=1&amp;version=c&amp;mr=m&amp;qw=q&amp;tp=txt_p&amp;tr=hb&amp;wget=v&amp;qget=v&amp;nget=vt\" title=\"Genesis 1:1\" sec=\"Genesis 1:1\">subs</a></span> <span class=\"gloss\">earth</span> <span class=\"nu xft\"><span class=\"f\">nu=</span>sg</span></div></div></div></div></div></div></div></div>"
      ],
      "text/plain": [
       "<IPython.core.display.HTML object>"
      ]
     },
     "metadata": {},
     "output_type": "display_data"
    },
    {
     "data": {
      "text/html": [
       "<p><b>result</b> <i>2</i></p>"
      ],
      "text/plain": [
       "<IPython.core.display.HTML object>"
      ]
     },
     "metadata": {},
     "output_type": "display_data"
    },
    {
     "data": {
      "text/html": [
       "<a href=\"https://shebanq.ancient-data.org/hebrew/text?book=Genesis&amp;chapter=1&amp;verse=3&amp;version=c&amp;mr=m&amp;qw=q&amp;tp=txt_p&amp;tr=hb&amp;wget=v&amp;qget=v&amp;nget=vt\" title=\"show this passage in SHEBANQ\" sec=\"Genesis 1:3\">Genesis 1:3</a><div class=\"outeritem\"><div class=\"atoms  \" ><div class=\"catom  \" >\n",
       "        <div class=\"clause \" >\n",
       "            <a href=\"https://shebanq.ancient-data.org/hebrew/text?book=Genesis&amp;chapter=1&amp;verse=3&amp;version=c&amp;mr=m&amp;qw=q&amp;tp=txt_p&amp;tr=hb&amp;wget=v&amp;qget=v&amp;nget=vt\" title=\"Genesis 1:3\" sec=\"Genesis 1:3\">clause</a>   <span class=\"typ\">WayX</span>\n",
       "        </div>\n",
       "        <div class=\"atoms\">\n",
       "                    <div class=\"patom  \" >\n",
       "        <div class=\"phrase \" >\n",
       "            <a href=\"https://shebanq.ancient-data.org/hebrew/text?book=Genesis&amp;chapter=1&amp;verse=3&amp;version=c&amp;mr=m&amp;qw=q&amp;tp=txt_p&amp;tr=hb&amp;wget=v&amp;qget=v&amp;nget=vt\" title=\"Genesis 1:3\" sec=\"Genesis 1:3\">phrase</a>   <span class=\"function\">Conj</span> <span class=\"typ\">CP</span>\n",
       "        </div>\n",
       "        <div class=\"atoms\">\n",
       "                    <div class=\"word  \" ><div class=\"h\"><a target=\"_blank\" href=\"https://shebanq.ancient-data.org/hebrew/word?version=c&amp;id=1W\" title=\"show this lexeme in SHEBANQ\">וַ</a></div><div class=\"features\"> <span class=\"pdp\"><a href=\"https://shebanq.ancient-data.org/hebrew/text?book=Genesis&amp;chapter=1&amp;verse=3&amp;version=c&amp;mr=m&amp;qw=q&amp;tp=txt_p&amp;tr=hb&amp;wget=v&amp;qget=v&amp;nget=vt\" title=\"Genesis 1:3\" sec=\"Genesis 1:3\">conj</a></span> <span class=\"gloss\">and</span></div></div></div></div><div class=\"patom  hl\" >\n",
       "        <div class=\"phrase hl\" >\n",
       "            <a href=\"https://shebanq.ancient-data.org/hebrew/text?book=Genesis&amp;chapter=1&amp;verse=3&amp;version=c&amp;mr=m&amp;qw=q&amp;tp=txt_p&amp;tr=hb&amp;wget=v&amp;qget=v&amp;nget=vt\" title=\"Genesis 1:3\" sec=\"Genesis 1:3\">phrase</a>   <span class=\"function\">Pred</span> <span class=\"typ\">VP</span>\n",
       "        </div>\n",
       "        <div class=\"atoms\">\n",
       "                    <div class=\"word  hl\" ><div class=\"h\"><a target=\"_blank\" href=\"https://shebanq.ancient-data.org/hebrew/word?version=c&amp;id=1AMRv\" title=\"show this lexeme in SHEBANQ\">יֹּ֥אמֶר </a></div><div class=\"features\"> <span class=\"pdp\"><a href=\"https://shebanq.ancient-data.org/hebrew/text?book=Genesis&amp;chapter=1&amp;verse=3&amp;version=c&amp;mr=m&amp;qw=q&amp;tp=txt_p&amp;tr=hb&amp;wget=v&amp;qget=v&amp;nget=vt\" title=\"Genesis 1:3\" sec=\"Genesis 1:3\">verb</a></span> <span class=\"gloss\">say</span> <span class=\"vs\">qal</span> <span class=\"vt\">wayq</span> <span class=\"nu xft\"><span class=\"f\">nu=</span>sg</span></div></div></div></div><div class=\"patom  hl\" >\n",
       "        <div class=\"phrase hl\" >\n",
       "            <a href=\"https://shebanq.ancient-data.org/hebrew/text?book=Genesis&amp;chapter=1&amp;verse=3&amp;version=c&amp;mr=m&amp;qw=q&amp;tp=txt_p&amp;tr=hb&amp;wget=v&amp;qget=v&amp;nget=vt\" title=\"Genesis 1:3\" sec=\"Genesis 1:3\">phrase</a>   <span class=\"function\">Subj</span> <span class=\"typ\">NP</span>\n",
       "        </div>\n",
       "        <div class=\"atoms\">\n",
       "                    <div class=\"word  hl\" ><div class=\"h\"><a target=\"_blank\" href=\"https://shebanq.ancient-data.org/hebrew/word?version=c&amp;id=1ALHJMn\" title=\"show this lexeme in SHEBANQ\">אֱלֹהִ֖ים </a></div><div class=\"features\"> <span class=\"pdp\"><a href=\"https://shebanq.ancient-data.org/hebrew/text?book=Genesis&amp;chapter=1&amp;verse=3&amp;version=c&amp;mr=m&amp;qw=q&amp;tp=txt_p&amp;tr=hb&amp;wget=v&amp;qget=v&amp;nget=vt\" title=\"Genesis 1:3\" sec=\"Genesis 1:3\">subs</a></span> <span class=\"gloss\">god(s)</span> <span class=\"nu xft\"><span class=\"f\">nu=</span>pl</span></div></div></div></div></div></div></div></div>"
      ],
      "text/plain": [
       "<IPython.core.display.HTML object>"
      ]
     },
     "metadata": {},
     "output_type": "display_data"
    },
    {
     "data": {
      "text/html": [
       "<p><b>result</b> <i>3</i></p>"
      ],
      "text/plain": [
       "<IPython.core.display.HTML object>"
      ]
     },
     "metadata": {},
     "output_type": "display_data"
    },
    {
     "data": {
      "text/html": [
       "<a href=\"https://shebanq.ancient-data.org/hebrew/text?book=Genesis&amp;chapter=1&amp;verse=4&amp;version=c&amp;mr=m&amp;qw=q&amp;tp=txt_p&amp;tr=hb&amp;wget=v&amp;qget=v&amp;nget=vt\" title=\"show this passage in SHEBANQ\" sec=\"Genesis 1:4\">Genesis 1:4</a><div class=\"outeritem\"><div class=\"atoms  \" ><div class=\"catom  \" >\n",
       "        <div class=\"clause \" >\n",
       "            <a href=\"https://shebanq.ancient-data.org/hebrew/text?book=Genesis&amp;chapter=1&amp;verse=4&amp;version=c&amp;mr=m&amp;qw=q&amp;tp=txt_p&amp;tr=hb&amp;wget=v&amp;qget=v&amp;nget=vt\" title=\"Genesis 1:4\" sec=\"Genesis 1:4\">clause</a>   <span class=\"typ\">WayX</span>\n",
       "        </div>\n",
       "        <div class=\"atoms\">\n",
       "                    <div class=\"patom  \" >\n",
       "        <div class=\"phrase \" >\n",
       "            <a href=\"https://shebanq.ancient-data.org/hebrew/text?book=Genesis&amp;chapter=1&amp;verse=4&amp;version=c&amp;mr=m&amp;qw=q&amp;tp=txt_p&amp;tr=hb&amp;wget=v&amp;qget=v&amp;nget=vt\" title=\"Genesis 1:4\" sec=\"Genesis 1:4\">phrase</a>   <span class=\"function\">Conj</span> <span class=\"typ\">CP</span>\n",
       "        </div>\n",
       "        <div class=\"atoms\">\n",
       "                    <div class=\"word  \" ><div class=\"h\"><a target=\"_blank\" href=\"https://shebanq.ancient-data.org/hebrew/word?version=c&amp;id=1W\" title=\"show this lexeme in SHEBANQ\">וַ</a></div><div class=\"features\"> <span class=\"pdp\"><a href=\"https://shebanq.ancient-data.org/hebrew/text?book=Genesis&amp;chapter=1&amp;verse=4&amp;version=c&amp;mr=m&amp;qw=q&amp;tp=txt_p&amp;tr=hb&amp;wget=v&amp;qget=v&amp;nget=vt\" title=\"Genesis 1:4\" sec=\"Genesis 1:4\">conj</a></span> <span class=\"gloss\">and</span></div></div></div></div><div class=\"patom  hl\" >\n",
       "        <div class=\"phrase hl\" >\n",
       "            <a href=\"https://shebanq.ancient-data.org/hebrew/text?book=Genesis&amp;chapter=1&amp;verse=4&amp;version=c&amp;mr=m&amp;qw=q&amp;tp=txt_p&amp;tr=hb&amp;wget=v&amp;qget=v&amp;nget=vt\" title=\"Genesis 1:4\" sec=\"Genesis 1:4\">phrase</a>   <span class=\"function\">Pred</span> <span class=\"typ\">VP</span>\n",
       "        </div>\n",
       "        <div class=\"atoms\">\n",
       "                    <div class=\"word  hl\" ><div class=\"h\"><a target=\"_blank\" href=\"https://shebanq.ancient-data.org/hebrew/word?version=c&amp;id=1RAHv\" title=\"show this lexeme in SHEBANQ\">יַּ֧רְא </a></div><div class=\"features\"> <span class=\"pdp\"><a href=\"https://shebanq.ancient-data.org/hebrew/text?book=Genesis&amp;chapter=1&amp;verse=4&amp;version=c&amp;mr=m&amp;qw=q&amp;tp=txt_p&amp;tr=hb&amp;wget=v&amp;qget=v&amp;nget=vt\" title=\"Genesis 1:4\" sec=\"Genesis 1:4\">verb</a></span> <span class=\"gloss\">see</span> <span class=\"vs\">qal</span> <span class=\"vt\">wayq</span> <span class=\"nu xft\"><span class=\"f\">nu=</span>sg</span></div></div></div></div><div class=\"patom  hl\" >\n",
       "        <div class=\"phrase hl\" >\n",
       "            <a href=\"https://shebanq.ancient-data.org/hebrew/text?book=Genesis&amp;chapter=1&amp;verse=4&amp;version=c&amp;mr=m&amp;qw=q&amp;tp=txt_p&amp;tr=hb&amp;wget=v&amp;qget=v&amp;nget=vt\" title=\"Genesis 1:4\" sec=\"Genesis 1:4\">phrase</a>   <span class=\"function\">Subj</span> <span class=\"typ\">NP</span>\n",
       "        </div>\n",
       "        <div class=\"atoms\">\n",
       "                    <div class=\"word  hl\" ><div class=\"h\"><a target=\"_blank\" href=\"https://shebanq.ancient-data.org/hebrew/word?version=c&amp;id=1ALHJMn\" title=\"show this lexeme in SHEBANQ\">אֱלֹהִ֛ים </a></div><div class=\"features\"> <span class=\"pdp\"><a href=\"https://shebanq.ancient-data.org/hebrew/text?book=Genesis&amp;chapter=1&amp;verse=4&amp;version=c&amp;mr=m&amp;qw=q&amp;tp=txt_p&amp;tr=hb&amp;wget=v&amp;qget=v&amp;nget=vt\" title=\"Genesis 1:4\" sec=\"Genesis 1:4\">subs</a></span> <span class=\"gloss\">god(s)</span> <span class=\"nu xft\"><span class=\"f\">nu=</span>pl</span></div></div></div></div><div class=\"patom  \" >\n",
       "        <div class=\"phrase \" >\n",
       "            <a href=\"https://shebanq.ancient-data.org/hebrew/text?book=Genesis&amp;chapter=1&amp;verse=4&amp;version=c&amp;mr=m&amp;qw=q&amp;tp=txt_p&amp;tr=hb&amp;wget=v&amp;qget=v&amp;nget=vt\" title=\"Genesis 1:4\" sec=\"Genesis 1:4\">phrase</a>   <span class=\"function\">Objc</span> <span class=\"typ\">PP</span>\n",
       "        </div>\n",
       "        <div class=\"atoms\">\n",
       "                    <div class=\"word  \" ><div class=\"h\"><a target=\"_blank\" href=\"https://shebanq.ancient-data.org/hebrew/word?version=c&amp;id=1AT\" title=\"show this lexeme in SHEBANQ\">אֶת־</a></div><div class=\"features\"> <span class=\"pdp\"><a href=\"https://shebanq.ancient-data.org/hebrew/text?book=Genesis&amp;chapter=1&amp;verse=4&amp;version=c&amp;mr=m&amp;qw=q&amp;tp=txt_p&amp;tr=hb&amp;wget=v&amp;qget=v&amp;nget=vt\" title=\"Genesis 1:4\" sec=\"Genesis 1:4\">prep</a></span> <span class=\"gloss\">&lt;object marker></span></div></div><div class=\"word  \" ><div class=\"h\"><a target=\"_blank\" href=\"https://shebanq.ancient-data.org/hebrew/word?version=c&amp;id=1H\" title=\"show this lexeme in SHEBANQ\">הָ</a></div><div class=\"features\"> <span class=\"pdp\"><a href=\"https://shebanq.ancient-data.org/hebrew/text?book=Genesis&amp;chapter=1&amp;verse=4&amp;version=c&amp;mr=m&amp;qw=q&amp;tp=txt_p&amp;tr=hb&amp;wget=v&amp;qget=v&amp;nget=vt\" title=\"Genesis 1:4\" sec=\"Genesis 1:4\">art</a></span> <span class=\"gloss\">the</span></div></div><div class=\"word  \" ><div class=\"h\"><a target=\"_blank\" href=\"https://shebanq.ancient-data.org/hebrew/word?version=c&amp;id=1AWRn\" title=\"show this lexeme in SHEBANQ\">אֹ֖ור </a></div><div class=\"features\"> <span class=\"pdp\"><a href=\"https://shebanq.ancient-data.org/hebrew/text?book=Genesis&amp;chapter=1&amp;verse=4&amp;version=c&amp;mr=m&amp;qw=q&amp;tp=txt_p&amp;tr=hb&amp;wget=v&amp;qget=v&amp;nget=vt\" title=\"Genesis 1:4\" sec=\"Genesis 1:4\">subs</a></span> <span class=\"gloss\">light</span> <span class=\"nu xft\"><span class=\"f\">nu=</span>sg</span></div></div></div></div></div></div></div></div>"
      ],
      "text/plain": [
       "<IPython.core.display.HTML object>"
      ]
     },
     "metadata": {},
     "output_type": "display_data"
    },
    {
     "data": {
      "text/html": [
       "<p><b>result</b> <i>4</i></p>"
      ],
      "text/plain": [
       "<IPython.core.display.HTML object>"
      ]
     },
     "metadata": {},
     "output_type": "display_data"
    },
    {
     "data": {
      "text/html": [
       "<a href=\"https://shebanq.ancient-data.org/hebrew/text?book=Genesis&amp;chapter=1&amp;verse=4&amp;version=c&amp;mr=m&amp;qw=q&amp;tp=txt_p&amp;tr=hb&amp;wget=v&amp;qget=v&amp;nget=vt\" title=\"show this passage in SHEBANQ\" sec=\"Genesis 1:4\">Genesis 1:4</a><div class=\"outeritem\"><div class=\"atoms  \" ><div class=\"catom  \" >\n",
       "        <div class=\"clause \" >\n",
       "            <a href=\"https://shebanq.ancient-data.org/hebrew/text?book=Genesis&amp;chapter=1&amp;verse=4&amp;version=c&amp;mr=m&amp;qw=q&amp;tp=txt_p&amp;tr=hb&amp;wget=v&amp;qget=v&amp;nget=vt\" title=\"Genesis 1:4\" sec=\"Genesis 1:4\">clause</a>   <span class=\"typ\">WayX</span>\n",
       "        </div>\n",
       "        <div class=\"atoms\">\n",
       "                    <div class=\"patom  \" >\n",
       "        <div class=\"phrase \" >\n",
       "            <a href=\"https://shebanq.ancient-data.org/hebrew/text?book=Genesis&amp;chapter=1&amp;verse=4&amp;version=c&amp;mr=m&amp;qw=q&amp;tp=txt_p&amp;tr=hb&amp;wget=v&amp;qget=v&amp;nget=vt\" title=\"Genesis 1:4\" sec=\"Genesis 1:4\">phrase</a>   <span class=\"function\">Conj</span> <span class=\"typ\">CP</span>\n",
       "        </div>\n",
       "        <div class=\"atoms\">\n",
       "                    <div class=\"word  \" ><div class=\"h\"><a target=\"_blank\" href=\"https://shebanq.ancient-data.org/hebrew/word?version=c&amp;id=1W\" title=\"show this lexeme in SHEBANQ\">וַ</a></div><div class=\"features\"> <span class=\"pdp\"><a href=\"https://shebanq.ancient-data.org/hebrew/text?book=Genesis&amp;chapter=1&amp;verse=4&amp;version=c&amp;mr=m&amp;qw=q&amp;tp=txt_p&amp;tr=hb&amp;wget=v&amp;qget=v&amp;nget=vt\" title=\"Genesis 1:4\" sec=\"Genesis 1:4\">conj</a></span> <span class=\"gloss\">and</span></div></div></div></div><div class=\"patom  hl\" >\n",
       "        <div class=\"phrase hl\" >\n",
       "            <a href=\"https://shebanq.ancient-data.org/hebrew/text?book=Genesis&amp;chapter=1&amp;verse=4&amp;version=c&amp;mr=m&amp;qw=q&amp;tp=txt_p&amp;tr=hb&amp;wget=v&amp;qget=v&amp;nget=vt\" title=\"Genesis 1:4\" sec=\"Genesis 1:4\">phrase</a>   <span class=\"function\">Pred</span> <span class=\"typ\">VP</span>\n",
       "        </div>\n",
       "        <div class=\"atoms\">\n",
       "                    <div class=\"word  hl\" ><div class=\"h\"><a target=\"_blank\" href=\"https://shebanq.ancient-data.org/hebrew/word?version=c&amp;id=1BDLv\" title=\"show this lexeme in SHEBANQ\">יַּבְדֵּ֣ל </a></div><div class=\"features\"> <span class=\"pdp\"><a href=\"https://shebanq.ancient-data.org/hebrew/text?book=Genesis&amp;chapter=1&amp;verse=4&amp;version=c&amp;mr=m&amp;qw=q&amp;tp=txt_p&amp;tr=hb&amp;wget=v&amp;qget=v&amp;nget=vt\" title=\"Genesis 1:4\" sec=\"Genesis 1:4\">verb</a></span> <span class=\"gloss\">separate</span> <span class=\"vs\">hif</span> <span class=\"vt\">wayq</span> <span class=\"nu xft\"><span class=\"f\">nu=</span>sg</span></div></div></div></div><div class=\"patom  hl\" >\n",
       "        <div class=\"phrase hl\" >\n",
       "            <a href=\"https://shebanq.ancient-data.org/hebrew/text?book=Genesis&amp;chapter=1&amp;verse=4&amp;version=c&amp;mr=m&amp;qw=q&amp;tp=txt_p&amp;tr=hb&amp;wget=v&amp;qget=v&amp;nget=vt\" title=\"Genesis 1:4\" sec=\"Genesis 1:4\">phrase</a>   <span class=\"function\">Subj</span> <span class=\"typ\">NP</span>\n",
       "        </div>\n",
       "        <div class=\"atoms\">\n",
       "                    <div class=\"word  hl\" ><div class=\"h\"><a target=\"_blank\" href=\"https://shebanq.ancient-data.org/hebrew/word?version=c&amp;id=1ALHJMn\" title=\"show this lexeme in SHEBANQ\">אֱלֹהִ֔ים </a></div><div class=\"features\"> <span class=\"pdp\"><a href=\"https://shebanq.ancient-data.org/hebrew/text?book=Genesis&amp;chapter=1&amp;verse=4&amp;version=c&amp;mr=m&amp;qw=q&amp;tp=txt_p&amp;tr=hb&amp;wget=v&amp;qget=v&amp;nget=vt\" title=\"Genesis 1:4\" sec=\"Genesis 1:4\">subs</a></span> <span class=\"gloss\">god(s)</span> <span class=\"nu xft\"><span class=\"f\">nu=</span>pl</span></div></div></div></div><div class=\"patom  \" >\n",
       "        <div class=\"phrase \" >\n",
       "            <a href=\"https://shebanq.ancient-data.org/hebrew/text?book=Genesis&amp;chapter=1&amp;verse=4&amp;version=c&amp;mr=m&amp;qw=q&amp;tp=txt_p&amp;tr=hb&amp;wget=v&amp;qget=v&amp;nget=vt\" title=\"Genesis 1:4\" sec=\"Genesis 1:4\">phrase</a>   <span class=\"function\">Cmpl</span> <span class=\"typ\">PP</span>\n",
       "        </div>\n",
       "        <div class=\"atoms\">\n",
       "                    <div class=\"word  \" ><div class=\"h\"><a target=\"_blank\" href=\"https://shebanq.ancient-data.org/hebrew/word?version=c&amp;id=1BJNn\" title=\"show this lexeme in SHEBANQ\">בֵּ֥ין </a></div><div class=\"features\"> <span class=\"pdp\"><a href=\"https://shebanq.ancient-data.org/hebrew/text?book=Genesis&amp;chapter=1&amp;verse=4&amp;version=c&amp;mr=m&amp;qw=q&amp;tp=txt_p&amp;tr=hb&amp;wget=v&amp;qget=v&amp;nget=vt\" title=\"Genesis 1:4\" sec=\"Genesis 1:4\">prep</a></span> <span class=\"gloss\">interval</span> <span class=\"nu xft\"><span class=\"f\">nu=</span>sg</span></div></div><div class=\"word  \" ><div class=\"h\"><a target=\"_blank\" href=\"https://shebanq.ancient-data.org/hebrew/word?version=c&amp;id=1H\" title=\"show this lexeme in SHEBANQ\">הָ</a></div><div class=\"features\"> <span class=\"pdp\"><a href=\"https://shebanq.ancient-data.org/hebrew/text?book=Genesis&amp;chapter=1&amp;verse=4&amp;version=c&amp;mr=m&amp;qw=q&amp;tp=txt_p&amp;tr=hb&amp;wget=v&amp;qget=v&amp;nget=vt\" title=\"Genesis 1:4\" sec=\"Genesis 1:4\">art</a></span> <span class=\"gloss\">the</span></div></div><div class=\"word  \" ><div class=\"h\"><a target=\"_blank\" href=\"https://shebanq.ancient-data.org/hebrew/word?version=c&amp;id=1AWRn\" title=\"show this lexeme in SHEBANQ\">אֹ֖ור </a></div><div class=\"features\"> <span class=\"pdp\"><a href=\"https://shebanq.ancient-data.org/hebrew/text?book=Genesis&amp;chapter=1&amp;verse=4&amp;version=c&amp;mr=m&amp;qw=q&amp;tp=txt_p&amp;tr=hb&amp;wget=v&amp;qget=v&amp;nget=vt\" title=\"Genesis 1:4\" sec=\"Genesis 1:4\">subs</a></span> <span class=\"gloss\">light</span> <span class=\"nu xft\"><span class=\"f\">nu=</span>sg</span></div></div><div class=\"word  \" ><div class=\"h\"><a target=\"_blank\" href=\"https://shebanq.ancient-data.org/hebrew/word?version=c&amp;id=1W\" title=\"show this lexeme in SHEBANQ\">וּ</a></div><div class=\"features\"> <span class=\"pdp\"><a href=\"https://shebanq.ancient-data.org/hebrew/text?book=Genesis&amp;chapter=1&amp;verse=4&amp;version=c&amp;mr=m&amp;qw=q&amp;tp=txt_p&amp;tr=hb&amp;wget=v&amp;qget=v&amp;nget=vt\" title=\"Genesis 1:4\" sec=\"Genesis 1:4\">conj</a></span> <span class=\"gloss\">and</span></div></div><div class=\"word  \" ><div class=\"h\"><a target=\"_blank\" href=\"https://shebanq.ancient-data.org/hebrew/word?version=c&amp;id=1BJNn\" title=\"show this lexeme in SHEBANQ\">בֵ֥ין </a></div><div class=\"features\"> <span class=\"pdp\"><a href=\"https://shebanq.ancient-data.org/hebrew/text?book=Genesis&amp;chapter=1&amp;verse=4&amp;version=c&amp;mr=m&amp;qw=q&amp;tp=txt_p&amp;tr=hb&amp;wget=v&amp;qget=v&amp;nget=vt\" title=\"Genesis 1:4\" sec=\"Genesis 1:4\">prep</a></span> <span class=\"gloss\">interval</span> <span class=\"nu xft\"><span class=\"f\">nu=</span>sg</span></div></div><div class=\"word  \" ><div class=\"h\"><a target=\"_blank\" href=\"https://shebanq.ancient-data.org/hebrew/word?version=c&amp;id=1H\" title=\"show this lexeme in SHEBANQ\">הַ</a></div><div class=\"features\"> <span class=\"pdp\"><a href=\"https://shebanq.ancient-data.org/hebrew/text?book=Genesis&amp;chapter=1&amp;verse=4&amp;version=c&amp;mr=m&amp;qw=q&amp;tp=txt_p&amp;tr=hb&amp;wget=v&amp;qget=v&amp;nget=vt\" title=\"Genesis 1:4\" sec=\"Genesis 1:4\">art</a></span> <span class=\"gloss\">the</span></div></div><div class=\"word  \" ><div class=\"h\"><a target=\"_blank\" href=\"https://shebanq.ancient-data.org/hebrew/word?version=c&amp;id=1XCKn\" title=\"show this lexeme in SHEBANQ\">חֹֽשֶׁךְ׃ </a></div><div class=\"features\"> <span class=\"pdp\"><a href=\"https://shebanq.ancient-data.org/hebrew/text?book=Genesis&amp;chapter=1&amp;verse=4&amp;version=c&amp;mr=m&amp;qw=q&amp;tp=txt_p&amp;tr=hb&amp;wget=v&amp;qget=v&amp;nget=vt\" title=\"Genesis 1:4\" sec=\"Genesis 1:4\">subs</a></span> <span class=\"gloss\">darkness</span> <span class=\"nu xft\"><span class=\"f\">nu=</span>sg</span></div></div></div></div></div></div></div></div>"
      ],
      "text/plain": [
       "<IPython.core.display.HTML object>"
      ]
     },
     "metadata": {},
     "output_type": "display_data"
    }
   ],
   "source": [
    "A.show(results, condenseType='clause', end=4)"
   ]
  },
  {
   "cell_type": "markdown",
   "metadata": {},
   "source": [
    "and now where the subject is not God(s)."
   ]
  },
  {
   "cell_type": "code",
   "execution_count": 13,
   "metadata": {},
   "outputs": [],
   "source": [
    "query = '''\n",
    "clause\n",
    "  phrase function=Pred\n",
    "    w1:word pdp=verb\n",
    "  phrase function=Subj\n",
    "    =: w2:word pdp=subs lex#>LHJM/\n",
    "    :=\n",
    "w1 .nu#nu. w2\n",
    "'''"
   ]
  },
  {
   "cell_type": "code",
   "execution_count": 14,
   "metadata": {},
   "outputs": [
    {
     "name": "stdout",
     "output_type": "stream",
     "text": [
      "  2.12s 525 results\n"
     ]
    }
   ],
   "source": [
    "results = A.search(query)"
   ]
  },
  {
   "cell_type": "code",
   "execution_count": 15,
   "metadata": {},
   "outputs": [
    {
     "data": {
      "text/html": [
       "<table>\n",
       "<tr class=\"tf\">\n",
       "  <th class=\"tf\">n</th><th class=\"tf\">p</th>\n",
       "  <th class=\"tf\">clause</th><th>phrase</th><th>word</th><th>phrase</th><th>word</th>\n",
       "</tr>\n",
       "\n",
       "<tr class=\"tf\"><td class=\"tf\">1</td><td class=\"tf\"> <a href=\"https://shebanq.ancient-data.org/hebrew/text?book=Genesis&amp;chapter=1&amp;verse=14&amp;version=c&amp;mr=m&amp;qw=q&amp;tp=txt_p&amp;tr=hb&amp;wget=v&amp;qget=v&amp;nget=vt\" title=\"show this passage in SHEBANQ\" sec=\"Genesis 1:14\">Genesis 1:14</a></td><td class=\"tf\"><a href=\"https://shebanq.ancient-data.org/hebrew/text?book=Genesis&amp;chapter=1&amp;verse=14&amp;version=c&amp;mr=m&amp;qw=q&amp;tp=txt_p&amp;tr=hb&amp;wget=v&amp;qget=v&amp;nget=vt\" title=\"Genesis 1:14\" sec=\"Genesis 1:14\"><span class=\"plain outer  rtl \"><span class=\"plain rtl  hlbx\" ><span class=\"plain rtl  \" ><span class=\"plain rtl  hlbx\" ><span class=\"plain rtl  \" ><span class=\"plain rtl  hl\" ><span class=\"h\">יְהִ֤י </span></span></span></span><span class=\"plain rtl  hlbx\" ><span class=\"plain rtl  \" ><span class=\"plain rtl  hl\" ><span class=\"h\">מְאֹרֹת֙ </span></span></span></span><span class=\"plain rtl  \" ><span class=\"plain rtl  \" ><span class=\"h\">בִּ</span></span><span class=\"plain rtl  \" ><span class=\"h\">רְקִ֣יעַ </span></span><span class=\"plain rtl  \" ><span class=\"h\">הַ</span></span><span class=\"plain rtl  \" ><span class=\"h\">שָּׁמַ֔יִם </span></span></span></span></span></span></a></td><td class=\"tf\"><span class=\"plain outer  rtl \"><span class=\"plain rtl  hlbx\" ><span class=\"plain rtl  \" ><span class=\"plain rtl  hl\" ><span class=\"h\">יְהִ֤י </span></span></span></span></span></td><td class=\"tf\"><span class=\"plain outer  rtl  hl\" ><span class=\"h\">יְהִ֤י </span></span></td><td class=\"tf\"><span class=\"plain outer  rtl \"><span class=\"plain rtl  hlbx\" ><span class=\"plain rtl  \" ><span class=\"plain rtl  hl\" ><span class=\"h\">מְאֹרֹת֙ </span></span></span></span></span></td><td class=\"tf\"><span class=\"plain outer  rtl  hl\" ><span class=\"h\">מְאֹרֹת֙ </span></span></td></tr>\n",
       "<tr class=\"tf\"><td class=\"tf\">2</td><td class=\"tf\"> <a href=\"https://shebanq.ancient-data.org/hebrew/text?book=Genesis&amp;chapter=3&amp;verse=5&amp;version=c&amp;mr=m&amp;qw=q&amp;tp=txt_p&amp;tr=hb&amp;wget=v&amp;qget=v&amp;nget=vt\" title=\"show this passage in SHEBANQ\" sec=\"Genesis 3:5\">Genesis 3:5</a></td><td class=\"tf\"><a href=\"https://shebanq.ancient-data.org/hebrew/text?book=Genesis&amp;chapter=3&amp;verse=5&amp;version=c&amp;mr=m&amp;qw=q&amp;tp=txt_p&amp;tr=hb&amp;wget=v&amp;qget=v&amp;nget=vt\" title=\"Genesis 3:5\" sec=\"Genesis 3:5\"><span class=\"plain outer  rtl \"><span class=\"plain rtl  hlbx\" ><span class=\"plain rtl  \" ><span class=\"plain rtl  \" ><span class=\"plain rtl  \" ><span class=\"h\">וְ</span></span></span><span class=\"plain rtl  hlbx\" ><span class=\"plain rtl  \" ><span class=\"plain rtl  hl\" ><span class=\"h\">נִפְקְח֖וּ </span></span></span></span><span class=\"plain rtl  hlbx\" ><span class=\"plain rtl  \" ><span class=\"plain rtl  hl\" ><span class=\"h\">עֵֽינֵיכֶ֑ם </span></span></span></span></span></span></span></a></td><td class=\"tf\"><span class=\"plain outer  rtl \"><span class=\"plain rtl  hlbx\" ><span class=\"plain rtl  \" ><span class=\"plain rtl  hl\" ><span class=\"h\">נִפְקְח֖וּ </span></span></span></span></span></td><td class=\"tf\"><span class=\"plain outer  rtl  hl\" ><span class=\"h\">נִפְקְח֖וּ </span></span></td><td class=\"tf\"><span class=\"plain outer  rtl \"><span class=\"plain rtl  hlbx\" ><span class=\"plain rtl  \" ><span class=\"plain rtl  hl\" ><span class=\"h\">עֵֽינֵיכֶ֑ם </span></span></span></span></span></td><td class=\"tf\"><span class=\"plain outer  rtl  hl\" ><span class=\"h\">עֵֽינֵיכֶ֑ם </span></span></td></tr>\n",
       "<tr class=\"tf\"><td class=\"tf\">3</td><td class=\"tf\"> <a href=\"https://shebanq.ancient-data.org/hebrew/text?book=Genesis&amp;chapter=7&amp;verse=22&amp;version=c&amp;mr=m&amp;qw=q&amp;tp=txt_p&amp;tr=hb&amp;wget=v&amp;qget=v&amp;nget=vt\" title=\"show this passage in SHEBANQ\" sec=\"Genesis 7:22\">Genesis 7:22</a></td><td class=\"tf\"><a href=\"https://shebanq.ancient-data.org/hebrew/text?book=Genesis&amp;chapter=7&amp;verse=22&amp;version=c&amp;mr=m&amp;qw=q&amp;tp=txt_p&amp;tr=hb&amp;wget=v&amp;qget=v&amp;nget=vt\" title=\"Genesis 7:22\" sec=\"Genesis 7:22\"><span class=\"plain outer  rtl \"><span class=\"plain rtl  l hlbx\" ><span class=\"plain rtl  \" ><span class=\"plain rtl  hlbx\" ><span class=\"plain rtl  \" ><span class=\"plain rtl  hl\" ><span class=\"h\">כֹּ֡ל </span></span></span></span></span></span><span class=\"plain rtl  r l hlbx\" ><span class=\"plain rtl  \" ><span class=\"plain rtl  \" ><span class=\"plain rtl  \" ><span class=\"h\">מִ</span></span><span class=\"plain rtl  \" ><span class=\"h\">כֹּ֛ל </span></span></span></span></span><span class=\"plain rtl  r hlbx\" ><span class=\"plain rtl  \" ><span class=\"plain rtl  hlbx\" ><span class=\"plain rtl  \" ><span class=\"plain rtl  hl\" ><span class=\"h\">מֵֽתוּ׃ </span></span></span></span></span></span></span></a></td><td class=\"tf\"><span class=\"plain outer  rtl \"><span class=\"plain rtl  hlbx\" ><span class=\"plain rtl  \" ><span class=\"plain rtl  hl\" ><span class=\"h\">מֵֽתוּ׃ </span></span></span></span></span></td><td class=\"tf\"><span class=\"plain outer  rtl  hl\" ><span class=\"h\">מֵֽתוּ׃ </span></span></td><td class=\"tf\"><span class=\"plain outer  rtl \"><span class=\"plain rtl  hlbx\" ><span class=\"plain rtl  \" ><span class=\"plain rtl  hl\" ><span class=\"h\">כֹּ֡ל </span></span></span></span></span></td><td class=\"tf\"><span class=\"plain outer  rtl  hl\" ><span class=\"h\">כֹּ֡ל </span></span></td></tr>\n",
       "<tr class=\"tf\"><td class=\"tf\">4</td><td class=\"tf\"> <a href=\"https://shebanq.ancient-data.org/hebrew/text?book=Genesis&amp;chapter=18&amp;verse=32&amp;version=c&amp;mr=m&amp;qw=q&amp;tp=txt_p&amp;tr=hb&amp;wget=v&amp;qget=v&amp;nget=vt\" title=\"show this passage in SHEBANQ\" sec=\"Genesis 18:32\">Genesis 18:32</a></td><td class=\"tf\"><a href=\"https://shebanq.ancient-data.org/hebrew/text?book=Genesis&amp;chapter=18&amp;verse=32&amp;version=c&amp;mr=m&amp;qw=q&amp;tp=txt_p&amp;tr=hb&amp;wget=v&amp;qget=v&amp;nget=vt\" title=\"Genesis 18:32\" sec=\"Genesis 18:32\"><span class=\"plain outer  rtl \"><span class=\"plain rtl  hlbx\" ><span class=\"plain rtl  \" ><span class=\"plain rtl  \" ><span class=\"plain rtl  \" ><span class=\"h\">אוּלַ֛י </span></span></span><span class=\"plain rtl  hlbx\" ><span class=\"plain rtl  \" ><span class=\"plain rtl  hl\" ><span class=\"h\">יִמָּצְא֥וּן </span></span></span></span><span class=\"plain rtl  \" ><span class=\"plain rtl  \" ><span class=\"h\">שָׁ֖ם </span></span></span><span class=\"plain rtl  hlbx\" ><span class=\"plain rtl  \" ><span class=\"plain rtl  hl\" ><span class=\"h\">עֲשָׂרָ֑ה </span></span></span></span></span></span></span></a></td><td class=\"tf\"><span class=\"plain outer  rtl \"><span class=\"plain rtl  hlbx\" ><span class=\"plain rtl  \" ><span class=\"plain rtl  hl\" ><span class=\"h\">יִמָּצְא֥וּן </span></span></span></span></span></td><td class=\"tf\"><span class=\"plain outer  rtl  hl\" ><span class=\"h\">יִמָּצְא֥וּן </span></span></td><td class=\"tf\"><span class=\"plain outer  rtl \"><span class=\"plain rtl  hlbx\" ><span class=\"plain rtl  \" ><span class=\"plain rtl  hl\" ><span class=\"h\">עֲשָׂרָ֑ה </span></span></span></span></span></td><td class=\"tf\"><span class=\"plain outer  rtl  hl\" ><span class=\"h\">עֲשָׂרָ֑ה </span></span></td></tr></table>"
      ],
      "text/plain": [
       "<IPython.core.display.HTML object>"
      ]
     },
     "metadata": {},
     "output_type": "display_data"
    }
   ],
   "source": [
    "A.table(results, end=4)"
   ]
  },
  {
   "cell_type": "code",
   "execution_count": 16,
   "metadata": {},
   "outputs": [
    {
     "data": {
      "text/html": [
       "<p><b>result</b> <i>1</i></p>"
      ],
      "text/plain": [
       "<IPython.core.display.HTML object>"
      ]
     },
     "metadata": {},
     "output_type": "display_data"
    },
    {
     "data": {
      "text/html": [
       "<a href=\"https://shebanq.ancient-data.org/hebrew/text?book=Genesis&amp;chapter=1&amp;verse=14&amp;version=c&amp;mr=m&amp;qw=q&amp;tp=txt_p&amp;tr=hb&amp;wget=v&amp;qget=v&amp;nget=vt\" title=\"show this passage in SHEBANQ\" sec=\"Genesis 1:14\">Genesis 1:14</a><div class=\"outeritem\"><div class=\"atoms  \" ><div class=\"catom  \" >\n",
       "        <div class=\"clause \" >\n",
       "            <a href=\"https://shebanq.ancient-data.org/hebrew/text?book=Genesis&amp;chapter=1&amp;verse=14&amp;version=c&amp;mr=m&amp;qw=q&amp;tp=txt_p&amp;tr=hb&amp;wget=v&amp;qget=v&amp;nget=vt\" title=\"Genesis 1:14\" sec=\"Genesis 1:14\">clause</a>   <span class=\"typ\">ZYqX</span>\n",
       "        </div>\n",
       "        <div class=\"atoms\">\n",
       "                    <div class=\"patom  hl\" >\n",
       "        <div class=\"phrase hl\" >\n",
       "            <a href=\"https://shebanq.ancient-data.org/hebrew/text?book=Genesis&amp;chapter=1&amp;verse=14&amp;version=c&amp;mr=m&amp;qw=q&amp;tp=txt_p&amp;tr=hb&amp;wget=v&amp;qget=v&amp;nget=vt\" title=\"Genesis 1:14\" sec=\"Genesis 1:14\">phrase</a>   <span class=\"function\">Pred</span> <span class=\"typ\">VP</span>\n",
       "        </div>\n",
       "        <div class=\"atoms\">\n",
       "                    <div class=\"word  hl\" ><div class=\"h\"><a target=\"_blank\" href=\"https://shebanq.ancient-data.org/hebrew/word?version=c&amp;id=1HJHv\" title=\"show this lexeme in SHEBANQ\">יְהִ֤י </a></div><div class=\"features\"> <span class=\"pdp\"><a href=\"https://shebanq.ancient-data.org/hebrew/text?book=Genesis&amp;chapter=1&amp;verse=14&amp;version=c&amp;mr=m&amp;qw=q&amp;tp=txt_p&amp;tr=hb&amp;wget=v&amp;qget=v&amp;nget=vt\" title=\"Genesis 1:14\" sec=\"Genesis 1:14\">verb</a></span> <span class=\"gloss\">be</span> <span class=\"vs\">qal</span> <span class=\"vt\">impf</span> <span class=\"lex xft\"><span class=\"f\">lex=</span>HJH[</span> <span class=\"nu xft\"><span class=\"f\">nu=</span>sg</span></div></div></div></div><div class=\"patom  hl\" >\n",
       "        <div class=\"phrase hl\" >\n",
       "            <a href=\"https://shebanq.ancient-data.org/hebrew/text?book=Genesis&amp;chapter=1&amp;verse=14&amp;version=c&amp;mr=m&amp;qw=q&amp;tp=txt_p&amp;tr=hb&amp;wget=v&amp;qget=v&amp;nget=vt\" title=\"Genesis 1:14\" sec=\"Genesis 1:14\">phrase</a>   <span class=\"function\">Subj</span> <span class=\"typ\">NP</span>\n",
       "        </div>\n",
       "        <div class=\"atoms\">\n",
       "                    <div class=\"word  hl\" ><div class=\"h\"><a target=\"_blank\" href=\"https://shebanq.ancient-data.org/hebrew/word?version=c&amp;id=1MAWRn\" title=\"show this lexeme in SHEBANQ\">מְאֹרֹת֙ </a></div><div class=\"features\"> <span class=\"pdp\"><a href=\"https://shebanq.ancient-data.org/hebrew/text?book=Genesis&amp;chapter=1&amp;verse=14&amp;version=c&amp;mr=m&amp;qw=q&amp;tp=txt_p&amp;tr=hb&amp;wget=v&amp;qget=v&amp;nget=vt\" title=\"Genesis 1:14\" sec=\"Genesis 1:14\">subs</a></span> <span class=\"gloss\">lamp</span> <span class=\"lex xft\"><span class=\"f\">lex=</span>M>WR/</span> <span class=\"nu xft\"><span class=\"f\">nu=</span>pl</span></div></div></div></div><div class=\"patom  \" >\n",
       "        <div class=\"phrase \" >\n",
       "            <a href=\"https://shebanq.ancient-data.org/hebrew/text?book=Genesis&amp;chapter=1&amp;verse=14&amp;version=c&amp;mr=m&amp;qw=q&amp;tp=txt_p&amp;tr=hb&amp;wget=v&amp;qget=v&amp;nget=vt\" title=\"Genesis 1:14\" sec=\"Genesis 1:14\">phrase</a>   <span class=\"function\">Loca</span> <span class=\"typ\">PP</span>\n",
       "        </div>\n",
       "        <div class=\"atoms\">\n",
       "                    <div class=\"word  \" ><div class=\"h\"><a target=\"_blank\" href=\"https://shebanq.ancient-data.org/hebrew/word?version=c&amp;id=1B\" title=\"show this lexeme in SHEBANQ\">בִּ</a></div><div class=\"features\"> <span class=\"pdp\"><a href=\"https://shebanq.ancient-data.org/hebrew/text?book=Genesis&amp;chapter=1&amp;verse=14&amp;version=c&amp;mr=m&amp;qw=q&amp;tp=txt_p&amp;tr=hb&amp;wget=v&amp;qget=v&amp;nget=vt\" title=\"Genesis 1:14\" sec=\"Genesis 1:14\">prep</a></span> <span class=\"gloss\">in</span> <span class=\"lex xft\"><span class=\"f\">lex=</span>B</span></div></div><div class=\"word  \" ><div class=\"h\"><a target=\"_blank\" href=\"https://shebanq.ancient-data.org/hebrew/word?version=c&amp;id=1RQJOn\" title=\"show this lexeme in SHEBANQ\">רְקִ֣יעַ </a></div><div class=\"features\"> <span class=\"pdp\"><a href=\"https://shebanq.ancient-data.org/hebrew/text?book=Genesis&amp;chapter=1&amp;verse=14&amp;version=c&amp;mr=m&amp;qw=q&amp;tp=txt_p&amp;tr=hb&amp;wget=v&amp;qget=v&amp;nget=vt\" title=\"Genesis 1:14\" sec=\"Genesis 1:14\">subs</a></span> <span class=\"gloss\">firmament</span> <span class=\"lex xft\"><span class=\"f\">lex=</span>RQJ&lt;/</span> <span class=\"nu xft\"><span class=\"f\">nu=</span>sg</span></div></div><div class=\"word  \" ><div class=\"h\"><a target=\"_blank\" href=\"https://shebanq.ancient-data.org/hebrew/word?version=c&amp;id=1H\" title=\"show this lexeme in SHEBANQ\">הַ</a></div><div class=\"features\"> <span class=\"pdp\"><a href=\"https://shebanq.ancient-data.org/hebrew/text?book=Genesis&amp;chapter=1&amp;verse=14&amp;version=c&amp;mr=m&amp;qw=q&amp;tp=txt_p&amp;tr=hb&amp;wget=v&amp;qget=v&amp;nget=vt\" title=\"Genesis 1:14\" sec=\"Genesis 1:14\">art</a></span> <span class=\"gloss\">the</span> <span class=\"lex xft\"><span class=\"f\">lex=</span>H</span></div></div><div class=\"word  \" ><div class=\"h\"><a target=\"_blank\" href=\"https://shebanq.ancient-data.org/hebrew/word?version=c&amp;id=1CMJMn\" title=\"show this lexeme in SHEBANQ\">שָּׁמַ֔יִם </a></div><div class=\"features\"> <span class=\"pdp\"><a href=\"https://shebanq.ancient-data.org/hebrew/text?book=Genesis&amp;chapter=1&amp;verse=14&amp;version=c&amp;mr=m&amp;qw=q&amp;tp=txt_p&amp;tr=hb&amp;wget=v&amp;qget=v&amp;nget=vt\" title=\"Genesis 1:14\" sec=\"Genesis 1:14\">subs</a></span> <span class=\"gloss\">heavens</span> <span class=\"lex xft\"><span class=\"f\">lex=</span>CMJM/</span> <span class=\"nu xft\"><span class=\"f\">nu=</span>pl</span></div></div></div></div></div></div></div></div>"
      ],
      "text/plain": [
       "<IPython.core.display.HTML object>"
      ]
     },
     "metadata": {},
     "output_type": "display_data"
    },
    {
     "data": {
      "text/html": [
       "<p><b>result</b> <i>2</i></p>"
      ],
      "text/plain": [
       "<IPython.core.display.HTML object>"
      ]
     },
     "metadata": {},
     "output_type": "display_data"
    },
    {
     "data": {
      "text/html": [
       "<a href=\"https://shebanq.ancient-data.org/hebrew/text?book=Genesis&amp;chapter=3&amp;verse=5&amp;version=c&amp;mr=m&amp;qw=q&amp;tp=txt_p&amp;tr=hb&amp;wget=v&amp;qget=v&amp;nget=vt\" title=\"show this passage in SHEBANQ\" sec=\"Genesis 3:5\">Genesis 3:5</a><div class=\"outeritem\"><div class=\"atoms  \" ><div class=\"catom  \" >\n",
       "        <div class=\"clause \" >\n",
       "            <a href=\"https://shebanq.ancient-data.org/hebrew/text?book=Genesis&amp;chapter=3&amp;verse=5&amp;version=c&amp;mr=m&amp;qw=q&amp;tp=txt_p&amp;tr=hb&amp;wget=v&amp;qget=v&amp;nget=vt\" title=\"Genesis 3:5\" sec=\"Genesis 3:5\">clause</a>   <span class=\"rela\">Resu</span> <span class=\"typ\">WQtX</span>\n",
       "        </div>\n",
       "        <div class=\"atoms\">\n",
       "                    <div class=\"patom  \" >\n",
       "        <div class=\"phrase \" >\n",
       "            <a href=\"https://shebanq.ancient-data.org/hebrew/text?book=Genesis&amp;chapter=3&amp;verse=5&amp;version=c&amp;mr=m&amp;qw=q&amp;tp=txt_p&amp;tr=hb&amp;wget=v&amp;qget=v&amp;nget=vt\" title=\"Genesis 3:5\" sec=\"Genesis 3:5\">phrase</a>   <span class=\"function\">Conj</span> <span class=\"typ\">CP</span>\n",
       "        </div>\n",
       "        <div class=\"atoms\">\n",
       "                    <div class=\"word  \" ><div class=\"h\"><a target=\"_blank\" href=\"https://shebanq.ancient-data.org/hebrew/word?version=c&amp;id=1W\" title=\"show this lexeme in SHEBANQ\">וְ</a></div><div class=\"features\"> <span class=\"pdp\"><a href=\"https://shebanq.ancient-data.org/hebrew/text?book=Genesis&amp;chapter=3&amp;verse=5&amp;version=c&amp;mr=m&amp;qw=q&amp;tp=txt_p&amp;tr=hb&amp;wget=v&amp;qget=v&amp;nget=vt\" title=\"Genesis 3:5\" sec=\"Genesis 3:5\">conj</a></span> <span class=\"gloss\">and</span> <span class=\"lex xft\"><span class=\"f\">lex=</span>W</span></div></div></div></div><div class=\"patom  hl\" >\n",
       "        <div class=\"phrase hl\" >\n",
       "            <a href=\"https://shebanq.ancient-data.org/hebrew/text?book=Genesis&amp;chapter=3&amp;verse=5&amp;version=c&amp;mr=m&amp;qw=q&amp;tp=txt_p&amp;tr=hb&amp;wget=v&amp;qget=v&amp;nget=vt\" title=\"Genesis 3:5\" sec=\"Genesis 3:5\">phrase</a>   <span class=\"function\">Pred</span> <span class=\"typ\">VP</span>\n",
       "        </div>\n",
       "        <div class=\"atoms\">\n",
       "                    <div class=\"word  hl\" ><div class=\"h\"><a target=\"_blank\" href=\"https://shebanq.ancient-data.org/hebrew/word?version=c&amp;id=1PQXv\" title=\"show this lexeme in SHEBANQ\">נִפְקְח֖וּ </a></div><div class=\"features\"> <span class=\"pdp\"><a href=\"https://shebanq.ancient-data.org/hebrew/text?book=Genesis&amp;chapter=3&amp;verse=5&amp;version=c&amp;mr=m&amp;qw=q&amp;tp=txt_p&amp;tr=hb&amp;wget=v&amp;qget=v&amp;nget=vt\" title=\"Genesis 3:5\" sec=\"Genesis 3:5\">verb</a></span> <span class=\"gloss\">open</span> <span class=\"vs\">nif</span> <span class=\"vt\">perf</span> <span class=\"lex xft\"><span class=\"f\">lex=</span>PQX[</span> <span class=\"nu xft\"><span class=\"f\">nu=</span>pl</span></div></div></div></div><div class=\"patom  hl\" >\n",
       "        <div class=\"phrase hl\" >\n",
       "            <a href=\"https://shebanq.ancient-data.org/hebrew/text?book=Genesis&amp;chapter=3&amp;verse=5&amp;version=c&amp;mr=m&amp;qw=q&amp;tp=txt_p&amp;tr=hb&amp;wget=v&amp;qget=v&amp;nget=vt\" title=\"Genesis 3:5\" sec=\"Genesis 3:5\">phrase</a>   <span class=\"function\">Subj</span> <span class=\"typ\">NP</span>\n",
       "        </div>\n",
       "        <div class=\"atoms\">\n",
       "                    <div class=\"word  hl\" ><div class=\"h\"><a target=\"_blank\" href=\"https://shebanq.ancient-data.org/hebrew/word?version=c&amp;id=1OJNn\" title=\"show this lexeme in SHEBANQ\">עֵֽינֵיכֶ֑ם </a></div><div class=\"features\"> <span class=\"pdp\"><a href=\"https://shebanq.ancient-data.org/hebrew/text?book=Genesis&amp;chapter=3&amp;verse=5&amp;version=c&amp;mr=m&amp;qw=q&amp;tp=txt_p&amp;tr=hb&amp;wget=v&amp;qget=v&amp;nget=vt\" title=\"Genesis 3:5\" sec=\"Genesis 3:5\">subs</a></span> <span class=\"gloss\">eye</span> <span class=\"lex xft\"><span class=\"f\">lex=</span>&lt;JN/</span> <span class=\"nu xft\"><span class=\"f\">nu=</span>du</span></div></div></div></div></div></div></div></div>"
      ],
      "text/plain": [
       "<IPython.core.display.HTML object>"
      ]
     },
     "metadata": {},
     "output_type": "display_data"
    },
    {
     "data": {
      "text/html": [
       "<p><b>result</b> <i>3</i></p>"
      ],
      "text/plain": [
       "<IPython.core.display.HTML object>"
      ]
     },
     "metadata": {},
     "output_type": "display_data"
    },
    {
     "data": {
      "text/html": [
       "<a href=\"https://shebanq.ancient-data.org/hebrew/text?book=Genesis&amp;chapter=7&amp;verse=22&amp;version=c&amp;mr=m&amp;qw=q&amp;tp=txt_p&amp;tr=hb&amp;wget=v&amp;qget=v&amp;nget=vt\" title=\"show this passage in SHEBANQ\" sec=\"Genesis 7:22\">Genesis 7:22</a><div class=\"outeritem\"><div class=\"atoms  \" ><div class=\"catom  l \" >\n",
       "        <div class=\"clause \" >\n",
       "            <a href=\"https://shebanq.ancient-data.org/hebrew/text?book=Genesis&amp;chapter=7&amp;verse=22&amp;version=c&amp;mr=m&amp;qw=q&amp;tp=txt_p&amp;tr=hb&amp;wget=v&amp;qget=v&amp;nget=vt\" title=\"Genesis 7:22\" sec=\"Genesis 7:22\">clause</a>   <span class=\"typ\">XQtl|Defc</span>\n",
       "        </div>\n",
       "        <div class=\"atoms\">\n",
       "                    <div class=\"patom  hl\" >\n",
       "        <div class=\"phrase hl\" >\n",
       "            <a href=\"https://shebanq.ancient-data.org/hebrew/text?book=Genesis&amp;chapter=7&amp;verse=22&amp;version=c&amp;mr=m&amp;qw=q&amp;tp=txt_p&amp;tr=hb&amp;wget=v&amp;qget=v&amp;nget=vt\" title=\"Genesis 7:22\" sec=\"Genesis 7:22\">phrase</a>   <span class=\"function\">Subj</span> <span class=\"typ\">NP</span>\n",
       "        </div>\n",
       "        <div class=\"atoms\">\n",
       "                    <div class=\"word  hl\" ><div class=\"h\"><a target=\"_blank\" href=\"https://shebanq.ancient-data.org/hebrew/word?version=c&amp;id=1KLn\" title=\"show this lexeme in SHEBANQ\">כֹּ֡ל </a></div><div class=\"features\"> <span class=\"pdp\"><a href=\"https://shebanq.ancient-data.org/hebrew/text?book=Genesis&amp;chapter=7&amp;verse=22&amp;version=c&amp;mr=m&amp;qw=q&amp;tp=txt_p&amp;tr=hb&amp;wget=v&amp;qget=v&amp;nget=vt\" title=\"Genesis 7:22\" sec=\"Genesis 7:22\">subs</a></span> <span class=\"gloss\">whole</span> <span class=\"lex xft\"><span class=\"f\">lex=</span>KL/</span> <span class=\"nu xft\"><span class=\"f\">nu=</span>sg</span></div></div></div></div></div></div><div class=\"catom  r l \" >\n",
       "        <div class=\"clause \" >\n",
       "            <a href=\"https://shebanq.ancient-data.org/hebrew/text?book=Genesis&amp;chapter=7&amp;verse=22&amp;version=c&amp;mr=m&amp;qw=q&amp;tp=txt_p&amp;tr=hb&amp;wget=v&amp;qget=v&amp;nget=vt\" title=\"Genesis 7:22\" sec=\"Genesis 7:22\">clause</a>   <span class=\"typ\">XQtl|Defc</span>\n",
       "        </div>\n",
       "        <div class=\"atoms\">\n",
       "                    <div class=\"patom  \" >\n",
       "        <div class=\"phrase \" >\n",
       "            <a href=\"https://shebanq.ancient-data.org/hebrew/text?book=Genesis&amp;chapter=7&amp;verse=22&amp;version=c&amp;mr=m&amp;qw=q&amp;tp=txt_p&amp;tr=hb&amp;wget=v&amp;qget=v&amp;nget=vt\" title=\"Genesis 7:22\" sec=\"Genesis 7:22\">phrase</a>   <span class=\"function\">Adju</span> <span class=\"typ\">PP</span>\n",
       "        </div>\n",
       "        <div class=\"atoms\">\n",
       "                    <div class=\"word  \" ><div class=\"h\"><a target=\"_blank\" href=\"https://shebanq.ancient-data.org/hebrew/word?version=c&amp;id=1MN\" title=\"show this lexeme in SHEBANQ\">מִ</a></div><div class=\"features\"> <span class=\"pdp\"><a href=\"https://shebanq.ancient-data.org/hebrew/text?book=Genesis&amp;chapter=7&amp;verse=22&amp;version=c&amp;mr=m&amp;qw=q&amp;tp=txt_p&amp;tr=hb&amp;wget=v&amp;qget=v&amp;nget=vt\" title=\"Genesis 7:22\" sec=\"Genesis 7:22\">prep</a></span> <span class=\"gloss\">from</span> <span class=\"lex xft\"><span class=\"f\">lex=</span>MN</span></div></div><div class=\"word  \" ><div class=\"h\"><a target=\"_blank\" href=\"https://shebanq.ancient-data.org/hebrew/word?version=c&amp;id=1KLn\" title=\"show this lexeme in SHEBANQ\">כֹּ֛ל </a></div><div class=\"features\"> <span class=\"pdp\"><a href=\"https://shebanq.ancient-data.org/hebrew/text?book=Genesis&amp;chapter=7&amp;verse=22&amp;version=c&amp;mr=m&amp;qw=q&amp;tp=txt_p&amp;tr=hb&amp;wget=v&amp;qget=v&amp;nget=vt\" title=\"Genesis 7:22\" sec=\"Genesis 7:22\">subs</a></span> <span class=\"gloss\">whole</span> <span class=\"lex xft\"><span class=\"f\">lex=</span>KL/</span> <span class=\"nu xft\"><span class=\"f\">nu=</span>sg</span></div></div></div></div></div></div><div class=\"catom  r \" >\n",
       "        <div class=\"clause \" >\n",
       "            <a href=\"https://shebanq.ancient-data.org/hebrew/text?book=Genesis&amp;chapter=7&amp;verse=22&amp;version=c&amp;mr=m&amp;qw=q&amp;tp=txt_p&amp;tr=hb&amp;wget=v&amp;qget=v&amp;nget=vt\" title=\"Genesis 7:22\" sec=\"Genesis 7:22\">clause</a>   <span class=\"typ\">XQtl|ZQt0</span>\n",
       "        </div>\n",
       "        <div class=\"atoms\">\n",
       "                    <div class=\"patom  hl\" >\n",
       "        <div class=\"phrase hl\" >\n",
       "            <a href=\"https://shebanq.ancient-data.org/hebrew/text?book=Genesis&amp;chapter=7&amp;verse=22&amp;version=c&amp;mr=m&amp;qw=q&amp;tp=txt_p&amp;tr=hb&amp;wget=v&amp;qget=v&amp;nget=vt\" title=\"Genesis 7:22\" sec=\"Genesis 7:22\">phrase</a>   <span class=\"function\">Pred</span> <span class=\"typ\">VP</span>\n",
       "        </div>\n",
       "        <div class=\"atoms\">\n",
       "                    <div class=\"word  hl\" ><div class=\"h\"><a target=\"_blank\" href=\"https://shebanq.ancient-data.org/hebrew/word?version=c&amp;id=1MWTv\" title=\"show this lexeme in SHEBANQ\">מֵֽתוּ׃ </a></div><div class=\"features\"> <span class=\"pdp\"><a href=\"https://shebanq.ancient-data.org/hebrew/text?book=Genesis&amp;chapter=7&amp;verse=22&amp;version=c&amp;mr=m&amp;qw=q&amp;tp=txt_p&amp;tr=hb&amp;wget=v&amp;qget=v&amp;nget=vt\" title=\"Genesis 7:22\" sec=\"Genesis 7:22\">verb</a></span> <span class=\"gloss\">die</span> <span class=\"vs\">qal</span> <span class=\"vt\">perf</span> <span class=\"lex xft\"><span class=\"f\">lex=</span>MWT[</span> <span class=\"nu xft\"><span class=\"f\">nu=</span>pl</span></div></div></div></div></div></div></div></div>"
      ],
      "text/plain": [
       "<IPython.core.display.HTML object>"
      ]
     },
     "metadata": {},
     "output_type": "display_data"
    },
    {
     "data": {
      "text/html": [
       "<p><b>result</b> <i>4</i></p>"
      ],
      "text/plain": [
       "<IPython.core.display.HTML object>"
      ]
     },
     "metadata": {},
     "output_type": "display_data"
    },
    {
     "data": {
      "text/html": [
       "<a href=\"https://shebanq.ancient-data.org/hebrew/text?book=Genesis&amp;chapter=18&amp;verse=32&amp;version=c&amp;mr=m&amp;qw=q&amp;tp=txt_p&amp;tr=hb&amp;wget=v&amp;qget=v&amp;nget=vt\" title=\"show this passage in SHEBANQ\" sec=\"Genesis 18:32\">Genesis 18:32</a><div class=\"outeritem\"><div class=\"atoms  \" ><div class=\"catom  \" >\n",
       "        <div class=\"clause \" >\n",
       "            <a href=\"https://shebanq.ancient-data.org/hebrew/text?book=Genesis&amp;chapter=18&amp;verse=32&amp;version=c&amp;mr=m&amp;qw=q&amp;tp=txt_p&amp;tr=hb&amp;wget=v&amp;qget=v&amp;nget=vt\" title=\"Genesis 18:32\" sec=\"Genesis 18:32\">clause</a>   <span class=\"typ\">xYqX</span>\n",
       "        </div>\n",
       "        <div class=\"atoms\">\n",
       "                    <div class=\"patom  \" >\n",
       "        <div class=\"phrase \" >\n",
       "            <a href=\"https://shebanq.ancient-data.org/hebrew/text?book=Genesis&amp;chapter=18&amp;verse=32&amp;version=c&amp;mr=m&amp;qw=q&amp;tp=txt_p&amp;tr=hb&amp;wget=v&amp;qget=v&amp;nget=vt\" title=\"Genesis 18:32\" sec=\"Genesis 18:32\">phrase</a>   <span class=\"function\">Modi</span> <span class=\"typ\">AdvP</span>\n",
       "        </div>\n",
       "        <div class=\"atoms\">\n",
       "                    <div class=\"word  \" ><div class=\"h\"><a target=\"_blank\" href=\"https://shebanq.ancient-data.org/hebrew/word?version=c&amp;id=1AWLJ\" title=\"show this lexeme in SHEBANQ\">אוּלַ֛י </a></div><div class=\"features\"> <span class=\"pdp\"><a href=\"https://shebanq.ancient-data.org/hebrew/text?book=Genesis&amp;chapter=18&amp;verse=32&amp;version=c&amp;mr=m&amp;qw=q&amp;tp=txt_p&amp;tr=hb&amp;wget=v&amp;qget=v&amp;nget=vt\" title=\"Genesis 18:32\" sec=\"Genesis 18:32\">advb</a></span> <span class=\"gloss\">perhaps</span> <span class=\"lex xft\"><span class=\"f\">lex=</span>>WLJ</span></div></div></div></div><div class=\"patom  hl\" >\n",
       "        <div class=\"phrase hl\" >\n",
       "            <a href=\"https://shebanq.ancient-data.org/hebrew/text?book=Genesis&amp;chapter=18&amp;verse=32&amp;version=c&amp;mr=m&amp;qw=q&amp;tp=txt_p&amp;tr=hb&amp;wget=v&amp;qget=v&amp;nget=vt\" title=\"Genesis 18:32\" sec=\"Genesis 18:32\">phrase</a>   <span class=\"function\">Pred</span> <span class=\"typ\">VP</span>\n",
       "        </div>\n",
       "        <div class=\"atoms\">\n",
       "                    <div class=\"word  hl\" ><div class=\"h\"><a target=\"_blank\" href=\"https://shebanq.ancient-data.org/hebrew/word?version=c&amp;id=1MYAv\" title=\"show this lexeme in SHEBANQ\">יִמָּצְא֥וּן </a></div><div class=\"features\"> <span class=\"pdp\"><a href=\"https://shebanq.ancient-data.org/hebrew/text?book=Genesis&amp;chapter=18&amp;verse=32&amp;version=c&amp;mr=m&amp;qw=q&amp;tp=txt_p&amp;tr=hb&amp;wget=v&amp;qget=v&amp;nget=vt\" title=\"Genesis 18:32\" sec=\"Genesis 18:32\">verb</a></span> <span class=\"gloss\">find</span> <span class=\"vs\">nif</span> <span class=\"vt\">impf</span> <span class=\"lex xft\"><span class=\"f\">lex=</span>MY>[</span> <span class=\"nu xft\"><span class=\"f\">nu=</span>pl</span></div></div></div></div><div class=\"patom  \" >\n",
       "        <div class=\"phrase \" >\n",
       "            <a href=\"https://shebanq.ancient-data.org/hebrew/text?book=Genesis&amp;chapter=18&amp;verse=32&amp;version=c&amp;mr=m&amp;qw=q&amp;tp=txt_p&amp;tr=hb&amp;wget=v&amp;qget=v&amp;nget=vt\" title=\"Genesis 18:32\" sec=\"Genesis 18:32\">phrase</a>   <span class=\"function\">Cmpl</span> <span class=\"typ\">AdvP</span>\n",
       "        </div>\n",
       "        <div class=\"atoms\">\n",
       "                    <div class=\"word  \" ><div class=\"h\"><a target=\"_blank\" href=\"https://shebanq.ancient-data.org/hebrew/word?version=c&amp;id=1CM\" title=\"show this lexeme in SHEBANQ\">שָׁ֖ם </a></div><div class=\"features\"> <span class=\"pdp\"><a href=\"https://shebanq.ancient-data.org/hebrew/text?book=Genesis&amp;chapter=18&amp;verse=32&amp;version=c&amp;mr=m&amp;qw=q&amp;tp=txt_p&amp;tr=hb&amp;wget=v&amp;qget=v&amp;nget=vt\" title=\"Genesis 18:32\" sec=\"Genesis 18:32\">advb</a></span> <span class=\"gloss\">there</span> <span class=\"lex xft\"><span class=\"f\">lex=</span>CM</span></div></div></div></div><div class=\"patom  hl\" >\n",
       "        <div class=\"phrase hl\" >\n",
       "            <a href=\"https://shebanq.ancient-data.org/hebrew/text?book=Genesis&amp;chapter=18&amp;verse=32&amp;version=c&amp;mr=m&amp;qw=q&amp;tp=txt_p&amp;tr=hb&amp;wget=v&amp;qget=v&amp;nget=vt\" title=\"Genesis 18:32\" sec=\"Genesis 18:32\">phrase</a>   <span class=\"function\">Subj</span> <span class=\"typ\">NP</span>\n",
       "        </div>\n",
       "        <div class=\"atoms\">\n",
       "                    <div class=\"word  hl\" ><div class=\"h\"><a target=\"_blank\" href=\"https://shebanq.ancient-data.org/hebrew/word?version=c&amp;id=1OFRHin\" title=\"show this lexeme in SHEBANQ\">עֲשָׂרָ֑ה </a></div><div class=\"features\"> <span class=\"pdp\"><a href=\"https://shebanq.ancient-data.org/hebrew/text?book=Genesis&amp;chapter=18&amp;verse=32&amp;version=c&amp;mr=m&amp;qw=q&amp;tp=txt_p&amp;tr=hb&amp;wget=v&amp;qget=v&amp;nget=vt\" title=\"Genesis 18:32\" sec=\"Genesis 18:32\">subs</a></span> <span class=\"gloss\">ten</span> <span class=\"lex xft\"><span class=\"f\">lex=</span>&lt;FRH=/</span> <span class=\"nu xft\"><span class=\"f\">nu=</span>sg</span></div></div></div></div></div></div></div></div>"
      ],
      "text/plain": [
       "<IPython.core.display.HTML object>"
      ]
     },
     "metadata": {},
     "output_type": "display_data"
    }
   ],
   "source": [
    "A.show(results, condenseType='clause', end=4)"
   ]
  },
  {
   "cell_type": "markdown",
   "metadata": {},
   "source": [
    "## Edges\n",
    "\n",
    "Note that all *edge* features in the dataset correspond to three relational operators.\n",
    "For example, `mother` gives rise to the operators `-mother>` and `<mother-` and `<mother>`.\n",
    "\n",
    "### Simple edges\n",
    "Here is an example: look for pairs of clauses of which one is the mother of the other.\n",
    "In our dataset, there is an *edge* between the two clauses, and this edge is coded in the feature `mother`.\n",
    "The following query shows how to use the `mother` edge information."
   ]
  },
  {
   "cell_type": "code",
   "execution_count": 17,
   "metadata": {
    "ExecuteTime": {
     "end_time": "2018-05-24T08:00:06.688698Z",
     "start_time": "2018-05-24T08:00:05.864656Z"
    }
   },
   "outputs": [
    {
     "name": "stdout",
     "output_type": "stream",
     "text": [
      "  0.15s 13897 results\n"
     ]
    },
    {
     "data": {
      "text/html": [
       "<table>\n",
       "<tr class=\"tf\">\n",
       "  <th class=\"tf\">n</th><th class=\"tf\">p</th>\n",
       "  <th class=\"tf\">clause</th><th>clause</th>\n",
       "</tr>\n",
       "\n",
       "<tr class=\"tf\"><td class=\"tf\">1</td><td class=\"tf\"> <a href=\"https://shebanq.ancient-data.org/hebrew/text?book=Genesis&amp;chapter=1&amp;verse=4&amp;version=c&amp;mr=m&amp;qw=q&amp;tp=txt_p&amp;tr=hb&amp;wget=v&amp;qget=v&amp;nget=vt\" title=\"show this passage in SHEBANQ\" sec=\"Genesis 1:4\">Genesis 1:4</a></td><td class=\"tf\"><a href=\"https://shebanq.ancient-data.org/hebrew/text?book=Genesis&amp;chapter=1&amp;verse=4&amp;version=c&amp;mr=m&amp;qw=q&amp;tp=txt_p&amp;tr=hb&amp;wget=v&amp;qget=v&amp;nget=vt\" title=\"Genesis 1:4\" sec=\"Genesis 1:4\"><span class=\"plain outer  rtl \"><span class=\"plain rtl  hlbx\" ><span class=\"plain rtl  \" ><span class=\"plain rtl  \" ><span class=\"plain rtl  \" ><span class=\"h\">כִּי־</span></span></span><span class=\"plain rtl  \" ><span class=\"plain rtl  \" ><span class=\"h\">טֹ֑וב </span></span></span></span></span></span></a></td><td class=\"tf\"><span class=\"plain outer  rtl \"><span class=\"plain rtl  hlbx\" ><span class=\"plain rtl  \" ><span class=\"plain rtl  \" ><span class=\"plain rtl  \" ><span class=\"h\">וַ</span></span></span><span class=\"plain rtl  \" ><span class=\"plain rtl  \" ><span class=\"h\">יַּ֧רְא </span></span></span><span class=\"plain rtl  \" ><span class=\"plain rtl  \" ><span class=\"h\">אֱלֹהִ֛ים </span></span></span><span class=\"plain rtl  \" ><span class=\"plain rtl  \" ><span class=\"h\">אֶת־</span></span><span class=\"plain rtl  \" ><span class=\"h\">הָ</span></span><span class=\"plain rtl  \" ><span class=\"h\">אֹ֖ור </span></span></span></span></span></span></td></tr>\n",
       "<tr class=\"tf\"><td class=\"tf\">2</td><td class=\"tf\"> <a href=\"https://shebanq.ancient-data.org/hebrew/text?book=Genesis&amp;chapter=1&amp;verse=10&amp;version=c&amp;mr=m&amp;qw=q&amp;tp=txt_p&amp;tr=hb&amp;wget=v&amp;qget=v&amp;nget=vt\" title=\"show this passage in SHEBANQ\" sec=\"Genesis 1:10\">Genesis 1:10</a></td><td class=\"tf\"><a href=\"https://shebanq.ancient-data.org/hebrew/text?book=Genesis&amp;chapter=1&amp;verse=10&amp;version=c&amp;mr=m&amp;qw=q&amp;tp=txt_p&amp;tr=hb&amp;wget=v&amp;qget=v&amp;nget=vt\" title=\"Genesis 1:10\" sec=\"Genesis 1:10\"><span class=\"plain outer  rtl \"><span class=\"plain rtl  hlbx\" ><span class=\"plain rtl  \" ><span class=\"plain rtl  \" ><span class=\"plain rtl  \" ><span class=\"h\">כִּי־</span></span></span><span class=\"plain rtl  \" ><span class=\"plain rtl  \" ><span class=\"h\">טֹֽוב׃ </span></span></span></span></span></span></a></td><td class=\"tf\"><span class=\"plain outer  rtl \"><span class=\"plain rtl  hlbx\" ><span class=\"plain rtl  \" ><span class=\"plain rtl  \" ><span class=\"plain rtl  \" ><span class=\"h\">וַ</span></span></span><span class=\"plain rtl  \" ><span class=\"plain rtl  \" ><span class=\"h\">יַּ֥רְא </span></span></span><span class=\"plain rtl  \" ><span class=\"plain rtl  \" ><span class=\"h\">אֱלֹהִ֖ים </span></span></span></span></span></span></td></tr>\n",
       "<tr class=\"tf\"><td class=\"tf\">3</td><td class=\"tf\"> <a href=\"https://shebanq.ancient-data.org/hebrew/text?book=Genesis&amp;chapter=1&amp;verse=12&amp;version=c&amp;mr=m&amp;qw=q&amp;tp=txt_p&amp;tr=hb&amp;wget=v&amp;qget=v&amp;nget=vt\" title=\"show this passage in SHEBANQ\" sec=\"Genesis 1:12\">Genesis 1:12</a></td><td class=\"tf\"><a href=\"https://shebanq.ancient-data.org/hebrew/text?book=Genesis&amp;chapter=1&amp;verse=12&amp;version=c&amp;mr=m&amp;qw=q&amp;tp=txt_p&amp;tr=hb&amp;wget=v&amp;qget=v&amp;nget=vt\" title=\"Genesis 1:12\" sec=\"Genesis 1:12\"><span class=\"plain outer  rtl \"><span class=\"plain rtl  hlbx\" ><span class=\"plain rtl  \" ><span class=\"plain rtl  \" ><span class=\"plain rtl  \" ><span class=\"h\">כִּי־</span></span></span><span class=\"plain rtl  \" ><span class=\"plain rtl  \" ><span class=\"h\">טֹֽוב׃ </span></span></span></span></span></span></a></td><td class=\"tf\"><span class=\"plain outer  rtl \"><span class=\"plain rtl  hlbx\" ><span class=\"plain rtl  \" ><span class=\"plain rtl  \" ><span class=\"plain rtl  \" ><span class=\"h\">וַ</span></span></span><span class=\"plain rtl  \" ><span class=\"plain rtl  \" ><span class=\"h\">יַּ֥רְא </span></span></span><span class=\"plain rtl  \" ><span class=\"plain rtl  \" ><span class=\"h\">אֱלֹהִ֖ים </span></span></span></span></span></span></td></tr>\n",
       "<tr class=\"tf\"><td class=\"tf\">4</td><td class=\"tf\"> <a href=\"https://shebanq.ancient-data.org/hebrew/text?book=Genesis&amp;chapter=1&amp;verse=14&amp;version=c&amp;mr=m&amp;qw=q&amp;tp=txt_p&amp;tr=hb&amp;wget=v&amp;qget=v&amp;nget=vt\" title=\"show this passage in SHEBANQ\" sec=\"Genesis 1:14\">Genesis 1:14</a></td><td class=\"tf\"><a href=\"https://shebanq.ancient-data.org/hebrew/text?book=Genesis&amp;chapter=1&amp;verse=14&amp;version=c&amp;mr=m&amp;qw=q&amp;tp=txt_p&amp;tr=hb&amp;wget=v&amp;qget=v&amp;nget=vt\" title=\"Genesis 1:14\" sec=\"Genesis 1:14\"><span class=\"plain outer  rtl \"><span class=\"plain rtl  hlbx\" ><span class=\"plain rtl  \" ><span class=\"plain rtl  \" ><span class=\"plain rtl  \" ><span class=\"h\">לְ</span></span><span class=\"plain rtl  \" ><span class=\"h\">הַבְדִּ֕יל </span></span></span><span class=\"plain rtl  \" ><span class=\"plain rtl  \" ><span class=\"h\">בֵּ֥ין </span></span><span class=\"plain rtl  \" ><span class=\"h\">הַ</span></span><span class=\"plain rtl  \" ><span class=\"h\">יֹּ֖ום </span></span><span class=\"plain rtl  \" ><span class=\"h\">וּ</span></span><span class=\"plain rtl  \" ><span class=\"h\">בֵ֣ין </span></span><span class=\"plain rtl  \" ><span class=\"h\">הַ</span></span><span class=\"plain rtl  \" ><span class=\"h\">לָּ֑יְלָה </span></span></span></span></span></span></a></td><td class=\"tf\"><span class=\"plain outer  rtl \"><span class=\"plain rtl  hlbx\" ><span class=\"plain rtl  \" ><span class=\"plain rtl  \" ><span class=\"plain rtl  \" ><span class=\"h\">יְהִ֤י </span></span></span><span class=\"plain rtl  \" ><span class=\"plain rtl  \" ><span class=\"h\">מְאֹרֹת֙ </span></span></span><span class=\"plain rtl  \" ><span class=\"plain rtl  \" ><span class=\"h\">בִּ</span></span><span class=\"plain rtl  \" ><span class=\"h\">רְקִ֣יעַ </span></span><span class=\"plain rtl  \" ><span class=\"h\">הַ</span></span><span class=\"plain rtl  \" ><span class=\"h\">שָּׁמַ֔יִם </span></span></span></span></span></span></td></tr>\n",
       "<tr class=\"tf\"><td class=\"tf\">5</td><td class=\"tf\"> <a href=\"https://shebanq.ancient-data.org/hebrew/text?book=Genesis&amp;chapter=1&amp;verse=15&amp;version=c&amp;mr=m&amp;qw=q&amp;tp=txt_p&amp;tr=hb&amp;wget=v&amp;qget=v&amp;nget=vt\" title=\"show this passage in SHEBANQ\" sec=\"Genesis 1:15\">Genesis 1:15</a></td><td class=\"tf\"><a href=\"https://shebanq.ancient-data.org/hebrew/text?book=Genesis&amp;chapter=1&amp;verse=15&amp;version=c&amp;mr=m&amp;qw=q&amp;tp=txt_p&amp;tr=hb&amp;wget=v&amp;qget=v&amp;nget=vt\" title=\"Genesis 1:15\" sec=\"Genesis 1:15\"><span class=\"plain outer  rtl \"><span class=\"plain rtl  hlbx\" ><span class=\"plain rtl  \" ><span class=\"plain rtl  \" ><span class=\"plain rtl  \" ><span class=\"h\">לְ</span></span><span class=\"plain rtl  \" ><span class=\"h\">הָאִ֖יר </span></span></span><span class=\"plain rtl  \" ><span class=\"plain rtl  \" ><span class=\"h\">עַל־</span></span><span class=\"plain rtl  \" ><span class=\"h\">הָ</span></span><span class=\"plain rtl  \" ><span class=\"h\">אָ֑רֶץ </span></span></span></span></span></span></a></td><td class=\"tf\"><span class=\"plain outer  rtl \"><span class=\"plain rtl  hlbx\" ><span class=\"plain rtl  \" ><span class=\"plain rtl  \" ><span class=\"plain rtl  \" ><span class=\"h\">וְ</span></span></span><span class=\"plain rtl  \" ><span class=\"plain rtl  \" ><span class=\"h\">הָי֤וּ </span></span></span><span class=\"plain rtl  \" ><span class=\"plain rtl  \" ><span class=\"h\">לִ</span></span><span class=\"plain rtl  \" ><span class=\"h\">מְאֹורֹת֙ </span></span></span><span class=\"plain rtl  \" ><span class=\"plain rtl  \" ><span class=\"h\">בִּ</span></span><span class=\"plain rtl  \" ><span class=\"h\">רְקִ֣יעַ </span></span><span class=\"plain rtl  \" ><span class=\"h\">הַ</span></span><span class=\"plain rtl  \" ><span class=\"h\">שָּׁמַ֔יִם </span></span></span></span></span></span></td></tr>\n",
       "<tr class=\"tf\"><td class=\"tf\">6</td><td class=\"tf\"> <a href=\"https://shebanq.ancient-data.org/hebrew/text?book=Genesis&amp;chapter=1&amp;verse=17&amp;version=c&amp;mr=m&amp;qw=q&amp;tp=txt_p&amp;tr=hb&amp;wget=v&amp;qget=v&amp;nget=vt\" title=\"show this passage in SHEBANQ\" sec=\"Genesis 1:17\">Genesis 1:17</a></td><td class=\"tf\"><a href=\"https://shebanq.ancient-data.org/hebrew/text?book=Genesis&amp;chapter=1&amp;verse=17&amp;version=c&amp;mr=m&amp;qw=q&amp;tp=txt_p&amp;tr=hb&amp;wget=v&amp;qget=v&amp;nget=vt\" title=\"Genesis 1:17\" sec=\"Genesis 1:17\"><span class=\"plain outer  rtl \"><span class=\"plain rtl  hlbx\" ><span class=\"plain rtl  \" ><span class=\"plain rtl  \" ><span class=\"plain rtl  \" ><span class=\"h\">לְ</span></span><span class=\"plain rtl  \" ><span class=\"h\">הָאִ֖יר </span></span></span><span class=\"plain rtl  \" ><span class=\"plain rtl  \" ><span class=\"h\">עַל־</span></span><span class=\"plain rtl  \" ><span class=\"h\">הָ</span></span><span class=\"plain rtl  \" ><span class=\"h\">אָֽרֶץ׃ </span></span></span></span></span></span></a></td><td class=\"tf\"><span class=\"plain outer  rtl \"><span class=\"plain rtl  hlbx\" ><span class=\"plain rtl  \" ><span class=\"plain rtl  \" ><span class=\"plain rtl  \" ><span class=\"h\">וַ</span></span></span><span class=\"plain rtl  \" ><span class=\"plain rtl  \" ><span class=\"h\">יִּתֵּ֥ן </span></span></span><span class=\"plain rtl  \" ><span class=\"plain rtl  \" ><span class=\"h\">אֹתָ֛ם </span></span></span><span class=\"plain rtl  \" ><span class=\"plain rtl  \" ><span class=\"h\">אֱלֹהִ֖ים </span></span></span><span class=\"plain rtl  \" ><span class=\"plain rtl  \" ><span class=\"h\">בִּ</span></span><span class=\"plain rtl  \" ><span class=\"h\">רְקִ֣יעַ </span></span><span class=\"plain rtl  \" ><span class=\"h\">הַ</span></span><span class=\"plain rtl  \" ><span class=\"h\">שָּׁמָ֑יִם </span></span></span></span></span></span></td></tr>\n",
       "<tr class=\"tf\"><td class=\"tf\">7</td><td class=\"tf\"> <a href=\"https://shebanq.ancient-data.org/hebrew/text?book=Genesis&amp;chapter=1&amp;verse=17&amp;version=c&amp;mr=m&amp;qw=q&amp;tp=txt_p&amp;tr=hb&amp;wget=v&amp;qget=v&amp;nget=vt\" title=\"show this passage in SHEBANQ\" sec=\"Genesis 1:17\">Genesis 1:17</a></td><td class=\"tf\"><a href=\"https://shebanq.ancient-data.org/hebrew/text?book=Genesis&amp;chapter=1&amp;verse=18&amp;version=c&amp;mr=m&amp;qw=q&amp;tp=txt_p&amp;tr=hb&amp;wget=v&amp;qget=v&amp;nget=vt\" title=\"Genesis 1:18\" sec=\"Genesis 1:18\"><span class=\"plain outer  rtl \"><span class=\"plain rtl  hlbx\" ><span class=\"plain rtl  \" ><span class=\"plain rtl  \" ><span class=\"plain rtl  \" ><span class=\"h\">וְ</span></span></span><span class=\"plain rtl  \" ><span class=\"plain rtl  \" ><span class=\"h\">לִ</span></span><span class=\"plain rtl  \" ><span class=\"h\">מְשֹׁל֙ </span></span></span><span class=\"plain rtl  \" ><span class=\"plain rtl  \" ><span class=\"h\">בַּ</span></span><span class=\"plain rtl  \" ><span class=\"h\"></span></span><span class=\"plain rtl  \" ><span class=\"h\">יֹּ֣ום </span></span><span class=\"plain rtl  \" ><span class=\"h\">וּ</span></span><span class=\"plain rtl  \" ><span class=\"h\">בַ</span></span><span class=\"plain rtl  \" ><span class=\"h\"></span></span><span class=\"plain rtl  \" ><span class=\"h\">לַּ֔יְלָה </span></span></span></span></span></span></a></td><td class=\"tf\"><span class=\"plain outer  rtl \"><span class=\"plain rtl  hlbx\" ><span class=\"plain rtl  \" ><span class=\"plain rtl  \" ><span class=\"plain rtl  \" ><span class=\"h\">לְ</span></span><span class=\"plain rtl  \" ><span class=\"h\">הָאִ֖יר </span></span></span><span class=\"plain rtl  \" ><span class=\"plain rtl  \" ><span class=\"h\">עַל־</span></span><span class=\"plain rtl  \" ><span class=\"h\">הָ</span></span><span class=\"plain rtl  \" ><span class=\"h\">אָֽרֶץ׃ </span></span></span></span></span></span></td></tr>\n",
       "<tr class=\"tf\"><td class=\"tf\">8</td><td class=\"tf\"> <a href=\"https://shebanq.ancient-data.org/hebrew/text?book=Genesis&amp;chapter=1&amp;verse=18&amp;version=c&amp;mr=m&amp;qw=q&amp;tp=txt_p&amp;tr=hb&amp;wget=v&amp;qget=v&amp;nget=vt\" title=\"show this passage in SHEBANQ\" sec=\"Genesis 1:18\">Genesis 1:18</a></td><td class=\"tf\"><a href=\"https://shebanq.ancient-data.org/hebrew/text?book=Genesis&amp;chapter=1&amp;verse=18&amp;version=c&amp;mr=m&amp;qw=q&amp;tp=txt_p&amp;tr=hb&amp;wget=v&amp;qget=v&amp;nget=vt\" title=\"Genesis 1:18\" sec=\"Genesis 1:18\"><span class=\"plain outer  rtl \"><span class=\"plain rtl  hlbx\" ><span class=\"plain rtl  \" ><span class=\"plain rtl  \" ><span class=\"plain rtl  \" ><span class=\"h\">וּֽ</span></span></span><span class=\"plain rtl  \" ><span class=\"plain rtl  \" ><span class=\"h\">לֲ</span></span><span class=\"plain rtl  \" ><span class=\"h\">הַבְדִּ֔יל </span></span></span><span class=\"plain rtl  \" ><span class=\"plain rtl  \" ><span class=\"h\">בֵּ֥ין </span></span><span class=\"plain rtl  \" ><span class=\"h\">הָ</span></span><span class=\"plain rtl  \" ><span class=\"h\">אֹ֖ור </span></span><span class=\"plain rtl  \" ><span class=\"h\">וּ</span></span><span class=\"plain rtl  \" ><span class=\"h\">בֵ֣ין </span></span><span class=\"plain rtl  \" ><span class=\"h\">הַ</span></span><span class=\"plain rtl  \" ><span class=\"h\">חֹ֑שֶׁךְ </span></span></span></span></span></span></a></td><td class=\"tf\"><span class=\"plain outer  rtl \"><span class=\"plain rtl  hlbx\" ><span class=\"plain rtl  \" ><span class=\"plain rtl  \" ><span class=\"plain rtl  \" ><span class=\"h\">וְ</span></span></span><span class=\"plain rtl  \" ><span class=\"plain rtl  \" ><span class=\"h\">לִ</span></span><span class=\"plain rtl  \" ><span class=\"h\">מְשֹׁל֙ </span></span></span><span class=\"plain rtl  \" ><span class=\"plain rtl  \" ><span class=\"h\">בַּ</span></span><span class=\"plain rtl  \" ><span class=\"h\"></span></span><span class=\"plain rtl  \" ><span class=\"h\">יֹּ֣ום </span></span><span class=\"plain rtl  \" ><span class=\"h\">וּ</span></span><span class=\"plain rtl  \" ><span class=\"h\">בַ</span></span><span class=\"plain rtl  \" ><span class=\"h\"></span></span><span class=\"plain rtl  \" ><span class=\"h\">לַּ֔יְלָה </span></span></span></span></span></span></td></tr>\n",
       "<tr class=\"tf\"><td class=\"tf\">9</td><td class=\"tf\"> <a href=\"https://shebanq.ancient-data.org/hebrew/text?book=Genesis&amp;chapter=1&amp;verse=18&amp;version=c&amp;mr=m&amp;qw=q&amp;tp=txt_p&amp;tr=hb&amp;wget=v&amp;qget=v&amp;nget=vt\" title=\"show this passage in SHEBANQ\" sec=\"Genesis 1:18\">Genesis 1:18</a></td><td class=\"tf\"><a href=\"https://shebanq.ancient-data.org/hebrew/text?book=Genesis&amp;chapter=1&amp;verse=18&amp;version=c&amp;mr=m&amp;qw=q&amp;tp=txt_p&amp;tr=hb&amp;wget=v&amp;qget=v&amp;nget=vt\" title=\"Genesis 1:18\" sec=\"Genesis 1:18\"><span class=\"plain outer  rtl \"><span class=\"plain rtl  hlbx\" ><span class=\"plain rtl  \" ><span class=\"plain rtl  \" ><span class=\"plain rtl  \" ><span class=\"h\">כִּי־</span></span></span><span class=\"plain rtl  \" ><span class=\"plain rtl  \" ><span class=\"h\">טֹֽוב׃ </span></span></span></span></span></span></a></td><td class=\"tf\"><span class=\"plain outer  rtl \"><span class=\"plain rtl  hlbx\" ><span class=\"plain rtl  \" ><span class=\"plain rtl  \" ><span class=\"plain rtl  \" ><span class=\"h\">וַ</span></span></span><span class=\"plain rtl  \" ><span class=\"plain rtl  \" ><span class=\"h\">יַּ֥רְא </span></span></span><span class=\"plain rtl  \" ><span class=\"plain rtl  \" ><span class=\"h\">אֱלֹהִ֖ים </span></span></span></span></span></span></td></tr>\n",
       "<tr class=\"tf\"><td class=\"tf\">10</td><td class=\"tf\"> <a href=\"https://shebanq.ancient-data.org/hebrew/text?book=Genesis&amp;chapter=1&amp;verse=21&amp;version=c&amp;mr=m&amp;qw=q&amp;tp=txt_p&amp;tr=hb&amp;wget=v&amp;qget=v&amp;nget=vt\" title=\"show this passage in SHEBANQ\" sec=\"Genesis 1:21\">Genesis 1:21</a></td><td class=\"tf\"><a href=\"https://shebanq.ancient-data.org/hebrew/text?book=Genesis&amp;chapter=1&amp;verse=21&amp;version=c&amp;mr=m&amp;qw=q&amp;tp=txt_p&amp;tr=hb&amp;wget=v&amp;qget=v&amp;nget=vt\" title=\"Genesis 1:21\" sec=\"Genesis 1:21\"><span class=\"plain outer  rtl \"><span class=\"plain rtl  hlbx\" ><span class=\"plain rtl  \" ><span class=\"plain rtl  \" ><span class=\"plain rtl  \" ><span class=\"h\">כִּי־</span></span></span><span class=\"plain rtl  \" ><span class=\"plain rtl  \" ><span class=\"h\">טֹֽוב׃ </span></span></span></span></span></span></a></td><td class=\"tf\"><span class=\"plain outer  rtl \"><span class=\"plain rtl  hlbx\" ><span class=\"plain rtl  \" ><span class=\"plain rtl  \" ><span class=\"plain rtl  \" ><span class=\"h\">וַ</span></span></span><span class=\"plain rtl  \" ><span class=\"plain rtl  \" ><span class=\"h\">יַּ֥רְא </span></span></span><span class=\"plain rtl  \" ><span class=\"plain rtl  \" ><span class=\"h\">אֱלֹהִ֖ים </span></span></span></span></span></span></td></tr></table>"
      ],
      "text/plain": [
       "<IPython.core.display.HTML object>"
      ]
     },
     "metadata": {},
     "output_type": "display_data"
    }
   ],
   "source": [
    "query = '''\n",
    "clause\n",
    "-mother> clause\n",
    "'''\n",
    "results = A.search(query)\n",
    "A.table(results, end=10)\n",
    "total = len(results)"
   ]
  },
  {
   "cell_type": "markdown",
   "metadata": {},
   "source": [
    "A clause and its mother do not have to be in the same verse.\n",
    "We are going to fetch are the cases where they are in different verses.\n",
    "\n",
    "Note that we need a more flexible syntax here, where we specify a few templates, give names\n",
    "to a few positions in the template, and then constrain those positions\n",
    "by stipulating relationships between them.\n",
    "\n",
    "> **Caution**\n",
    "Referring to verses is not as innocent as it seems.\n",
    "That will be addressed in [gaps](searchGaps.ipynb)"
   ]
  },
  {
   "cell_type": "code",
   "execution_count": 18,
   "metadata": {
    "ExecuteTime": {
     "end_time": "2018-05-24T08:00:11.096751Z",
     "start_time": "2018-05-24T08:00:10.585477Z"
    }
   },
   "outputs": [
    {
     "name": "stdout",
     "output_type": "stream",
     "text": [
      "  0.30s 710 results\n"
     ]
    },
    {
     "data": {
      "text/html": [
       "<table>\n",
       "<tr class=\"tf\">\n",
       "  <th class=\"tf\">n</th><th class=\"tf\">p</th>\n",
       "  <th class=\"tf\">verse</th><th>clause</th><th>verse</th><th>clause</th>\n",
       "</tr>\n",
       "\n",
       "<tr class=\"tf\"><td class=\"tf\">1</td><td class=\"tf\"> <a href=\"https://shebanq.ancient-data.org/hebrew/text?book=Genesis&amp;chapter=1&amp;verse=18&amp;version=c&amp;mr=m&amp;qw=q&amp;tp=txt_p&amp;tr=hb&amp;wget=v&amp;qget=v&amp;nget=vt\" title=\"show this passage in SHEBANQ\" sec=\"Genesis 1:18\">Genesis 1:18</a></td><td class=\"tf\"><span class=\"vrs ltr\"><a href=\"https://shebanq.ancient-data.org/hebrew/text?book=Genesis&amp;chapter=1&amp;verse=18&amp;version=c&amp;mr=m&amp;qw=q&amp;tp=txt_p&amp;tr=hb&amp;wget=v&amp;qget=v&amp;nget=vt\" title=\"show this passage in SHEBANQ\" sec=\"Genesis 1:18\">Genesis 1:18</a></span><span class=\"plain outer  rtl  \" ><span class=\"plain rtl \"><span class=\"plain rtl  rno \" ><span class=\"plain rtl  hlbx\" ><span class=\"plain rtl  \" ><span class=\"plain rtl  \" ><span class=\"plain rtl  \" ><span class=\"h\">וְ</span></span></span><span class=\"plain rtl  \" ><span class=\"plain rtl  \" ><span class=\"h\">לִ</span></span><span class=\"plain rtl  \" ><span class=\"h\">מְשֹׁל֙ </span></span></span><span class=\"plain rtl  \" ><span class=\"plain rtl  \" ><span class=\"h\">בַּ</span></span><span class=\"plain rtl  \" ><span class=\"h\"></span></span><span class=\"plain rtl  \" ><span class=\"h\">יֹּ֣ום </span></span><span class=\"plain rtl  \" ><span class=\"h\">וּ</span></span><span class=\"plain rtl  \" ><span class=\"h\">בַ</span></span><span class=\"plain rtl  \" ><span class=\"h\"></span></span><span class=\"plain rtl  \" ><span class=\"h\">לַּ֔יְלָה </span></span></span></span></span><span class=\"plain rtl  \" ><span class=\"plain rtl  \" ><span class=\"plain rtl  \" ><span class=\"h\">וּֽ</span></span></span><span class=\"plain rtl  \" ><span class=\"plain rtl  \" ><span class=\"h\">לֲ</span></span><span class=\"plain rtl  \" ><span class=\"h\">הַבְדִּ֔יל </span></span></span><span class=\"plain rtl  \" ><span class=\"plain rtl  \" ><span class=\"h\">בֵּ֥ין </span></span><span class=\"plain rtl  \" ><span class=\"h\">הָ</span></span><span class=\"plain rtl  \" ><span class=\"h\">אֹ֖ור </span></span><span class=\"plain rtl  \" ><span class=\"h\">וּ</span></span><span class=\"plain rtl  \" ><span class=\"h\">בֵ֣ין </span></span><span class=\"plain rtl  \" ><span class=\"h\">הַ</span></span><span class=\"plain rtl  \" ><span class=\"h\">חֹ֑שֶׁךְ </span></span></span></span></span><span class=\"plain rtl  \" ><span class=\"plain rtl  \" ><span class=\"plain rtl  \" ><span class=\"plain rtl  \" ><span class=\"h\">וַ</span></span></span><span class=\"plain rtl  \" ><span class=\"plain rtl  \" ><span class=\"h\">יַּ֥רְא </span></span></span><span class=\"plain rtl  \" ><span class=\"plain rtl  \" ><span class=\"h\">אֱלֹהִ֖ים </span></span></span></span><span class=\"plain rtl  \" ><span class=\"plain rtl  \" ><span class=\"plain rtl  \" ><span class=\"h\">כִּי־</span></span></span><span class=\"plain rtl  \" ><span class=\"plain rtl  \" ><span class=\"h\">טֹֽוב׃ </span></span></span></span></span></span></span></td><td class=\"tf\"><span class=\"plain outer  rtl \"><span class=\"plain rtl  hlbx\" ><span class=\"plain rtl  \" ><span class=\"plain rtl  \" ><span class=\"plain rtl  \" ><span class=\"h\">וְ</span></span></span><span class=\"plain rtl  \" ><span class=\"plain rtl  \" ><span class=\"h\">לִ</span></span><span class=\"plain rtl  \" ><span class=\"h\">מְשֹׁל֙ </span></span></span><span class=\"plain rtl  \" ><span class=\"plain rtl  \" ><span class=\"h\">בַּ</span></span><span class=\"plain rtl  \" ><span class=\"h\"></span></span><span class=\"plain rtl  \" ><span class=\"h\">יֹּ֣ום </span></span><span class=\"plain rtl  \" ><span class=\"h\">וּ</span></span><span class=\"plain rtl  \" ><span class=\"h\">בַ</span></span><span class=\"plain rtl  \" ><span class=\"h\"></span></span><span class=\"plain rtl  \" ><span class=\"h\">לַּ֔יְלָה </span></span></span></span></span></span></td><td class=\"tf\"><span class=\"vrs ltr\"><a href=\"https://shebanq.ancient-data.org/hebrew/text?book=Genesis&amp;chapter=1&amp;verse=17&amp;version=c&amp;mr=m&amp;qw=q&amp;tp=txt_p&amp;tr=hb&amp;wget=v&amp;qget=v&amp;nget=vt\" title=\"show this passage in SHEBANQ\" sec=\"Genesis 1:17\">Genesis 1:17</a></span><span class=\"plain outer  rtl  \" ><span class=\"plain rtl \"><span class=\"plain rtl  lno \" ><span class=\"plain rtl  \" ><span class=\"plain rtl  \" ><span class=\"plain rtl  \" ><span class=\"h\">וַ</span></span></span><span class=\"plain rtl  \" ><span class=\"plain rtl  \" ><span class=\"h\">יִּתֵּ֥ן </span></span></span><span class=\"plain rtl  \" ><span class=\"plain rtl  \" ><span class=\"h\">אֹתָ֛ם </span></span></span><span class=\"plain rtl  \" ><span class=\"plain rtl  \" ><span class=\"h\">אֱלֹהִ֖ים </span></span></span><span class=\"plain rtl  \" ><span class=\"plain rtl  \" ><span class=\"h\">בִּ</span></span><span class=\"plain rtl  \" ><span class=\"h\">רְקִ֣יעַ </span></span><span class=\"plain rtl  \" ><span class=\"h\">הַ</span></span><span class=\"plain rtl  \" ><span class=\"h\">שָּׁמָ֑יִם </span></span></span></span><span class=\"plain rtl  hlbx\" ><span class=\"plain rtl  \" ><span class=\"plain rtl  \" ><span class=\"plain rtl  \" ><span class=\"h\">לְ</span></span><span class=\"plain rtl  \" ><span class=\"h\">הָאִ֖יר </span></span></span><span class=\"plain rtl  \" ><span class=\"plain rtl  \" ><span class=\"h\">עַל־</span></span><span class=\"plain rtl  \" ><span class=\"h\">הָ</span></span><span class=\"plain rtl  \" ><span class=\"h\">אָֽרֶץ׃ </span></span></span></span></span></span></span></span></td><td class=\"tf\"><span class=\"plain outer  rtl \"><span class=\"plain rtl  hlbx\" ><span class=\"plain rtl  \" ><span class=\"plain rtl  \" ><span class=\"plain rtl  \" ><span class=\"h\">לְ</span></span><span class=\"plain rtl  \" ><span class=\"h\">הָאִ֖יר </span></span></span><span class=\"plain rtl  \" ><span class=\"plain rtl  \" ><span class=\"h\">עַל־</span></span><span class=\"plain rtl  \" ><span class=\"h\">הָ</span></span><span class=\"plain rtl  \" ><span class=\"h\">אָֽרֶץ׃ </span></span></span></span></span></span></td></tr>\n",
       "<tr class=\"tf\"><td class=\"tf\">2</td><td class=\"tf\"> <a href=\"https://shebanq.ancient-data.org/hebrew/text?book=Genesis&amp;chapter=2&amp;verse=7&amp;version=c&amp;mr=m&amp;qw=q&amp;tp=txt_p&amp;tr=hb&amp;wget=v&amp;qget=v&amp;nget=vt\" title=\"show this passage in SHEBANQ\" sec=\"Genesis 2:7\">Genesis 2:7</a></td><td class=\"tf\"><span class=\"vrs ltr\"><a href=\"https://shebanq.ancient-data.org/hebrew/text?book=Genesis&amp;chapter=2&amp;verse=7&amp;version=c&amp;mr=m&amp;qw=q&amp;tp=txt_p&amp;tr=hb&amp;wget=v&amp;qget=v&amp;nget=vt\" title=\"show this passage in SHEBANQ\" sec=\"Genesis 2:7\">Genesis 2:7</a></span><span class=\"plain outer  rtl  \" ><span class=\"plain rtl \"><span class=\"plain rtl  \" ><span class=\"plain rtl  hlbx\" ><span class=\"plain rtl  \" ><span class=\"plain rtl  \" ><span class=\"plain rtl  \" ><span class=\"h\">וַ</span></span></span><span class=\"plain rtl  \" ><span class=\"plain rtl  \" ><span class=\"h\">יִּיצֶר֩ </span></span></span><span class=\"plain rtl  \" ><span class=\"plain rtl  \" ><span class=\"h\">יְהוָ֨ה </span></span><span class=\"plain rtl  \" ><span class=\"h\">אֱלֹהִ֜ים </span></span></span><span class=\"plain rtl  \" ><span class=\"plain rtl  \" ><span class=\"h\">אֶת־</span></span><span class=\"plain rtl  \" ><span class=\"h\">הָֽ</span></span><span class=\"plain rtl  \" ><span class=\"h\">אָדָ֗ם </span></span></span><span class=\"plain rtl  \" ><span class=\"plain rtl  \" ><span class=\"h\">עָפָר֙ </span></span></span><span class=\"plain rtl  \" ><span class=\"plain rtl  \" ><span class=\"h\">מִן־</span></span><span class=\"plain rtl  \" ><span class=\"h\">הָ֣</span></span><span class=\"plain rtl  \" ><span class=\"h\">אֲדָמָ֔ה </span></span></span></span></span></span><span class=\"plain rtl  \" ><span class=\"plain rtl  \" ><span class=\"plain rtl  \" ><span class=\"plain rtl  \" ><span class=\"h\">וַ</span></span></span><span class=\"plain rtl  \" ><span class=\"plain rtl  \" ><span class=\"h\">יִּפַּ֥ח </span></span></span><span class=\"plain rtl  \" ><span class=\"plain rtl  \" ><span class=\"h\">בְּ</span></span><span class=\"plain rtl  \" ><span class=\"h\">אַפָּ֖יו </span></span></span><span class=\"plain rtl  \" ><span class=\"plain rtl  \" ><span class=\"h\">נִשְׁמַ֣ת </span></span><span class=\"plain rtl  \" ><span class=\"h\">חַיִּ֑ים </span></span></span></span></span><span class=\"plain rtl  \" ><span class=\"plain rtl  \" ><span class=\"plain rtl  \" ><span class=\"plain rtl  \" ><span class=\"h\">וַֽ</span></span></span><span class=\"plain rtl  \" ><span class=\"plain rtl  \" ><span class=\"h\">יְהִ֥י </span></span></span><span class=\"plain rtl  \" ><span class=\"plain rtl  \" ><span class=\"h\">הָֽ</span></span><span class=\"plain rtl  \" ><span class=\"h\">אָדָ֖ם </span></span></span><span class=\"plain rtl  \" ><span class=\"plain rtl  \" ><span class=\"h\">לְ</span></span><span class=\"plain rtl  \" ><span class=\"h\">נֶ֥פֶשׁ </span></span><span class=\"plain rtl  \" ><span class=\"h\">חַיָּֽה׃ </span></span></span></span></span></span></span></td><td class=\"tf\"><span class=\"plain outer  rtl \"><span class=\"plain rtl  hlbx\" ><span class=\"plain rtl  \" ><span class=\"plain rtl  \" ><span class=\"plain rtl  \" ><span class=\"h\">וַ</span></span></span><span class=\"plain rtl  \" ><span class=\"plain rtl  \" ><span class=\"h\">יִּיצֶר֩ </span></span></span><span class=\"plain rtl  \" ><span class=\"plain rtl  \" ><span class=\"h\">יְהוָ֨ה </span></span><span class=\"plain rtl  \" ><span class=\"h\">אֱלֹהִ֜ים </span></span></span><span class=\"plain rtl  \" ><span class=\"plain rtl  \" ><span class=\"h\">אֶת־</span></span><span class=\"plain rtl  \" ><span class=\"h\">הָֽ</span></span><span class=\"plain rtl  \" ><span class=\"h\">אָדָ֗ם </span></span></span><span class=\"plain rtl  \" ><span class=\"plain rtl  \" ><span class=\"h\">עָפָר֙ </span></span></span><span class=\"plain rtl  \" ><span class=\"plain rtl  \" ><span class=\"h\">מִן־</span></span><span class=\"plain rtl  \" ><span class=\"h\">הָ֣</span></span><span class=\"plain rtl  \" ><span class=\"h\">אֲדָמָ֔ה </span></span></span></span></span></span></td><td class=\"tf\"><span class=\"vrs ltr\"><a href=\"https://shebanq.ancient-data.org/hebrew/text?book=Genesis&amp;chapter=2&amp;verse=4&amp;version=c&amp;mr=m&amp;qw=q&amp;tp=txt_p&amp;tr=hb&amp;wget=v&amp;qget=v&amp;nget=vt\" title=\"show this passage in SHEBANQ\" sec=\"Genesis 2:4\">Genesis 2:4</a></span><span class=\"plain outer  rtl  \" ><span class=\"plain rtl \"><span class=\"plain rtl  \" ><span class=\"plain rtl  \" ><span class=\"plain rtl  \" ><span class=\"plain rtl  \" ><span class=\"h\">אֵ֣לֶּה </span></span></span><span class=\"plain rtl  \" ><span class=\"plain rtl  \" ><span class=\"h\">תֹולְדֹ֧ות </span></span><span class=\"plain rtl  \" ><span class=\"h\">הַ</span></span><span class=\"plain rtl  \" ><span class=\"h\">שָּׁמַ֛יִם </span></span><span class=\"plain rtl  \" ><span class=\"h\">וְ</span></span><span class=\"plain rtl  \" ><span class=\"h\">הָ</span></span><span class=\"plain rtl  \" ><span class=\"h\">אָ֖רֶץ </span></span></span></span><span class=\"plain rtl  \" ><span class=\"plain rtl  \" ><span class=\"plain rtl  \" ><span class=\"h\">בְּ</span></span><span class=\"plain rtl  \" ><span class=\"h\">הִבָּֽרְאָ֑ם </span></span></span></span></span><span class=\"plain rtl  \" ><span class=\"plain rtl  hlbx\" ><span class=\"plain rtl  \" ><span class=\"plain rtl  \" ><span class=\"plain rtl  \" ><span class=\"h\">בְּ</span></span><span class=\"plain rtl  \" ><span class=\"h\">יֹ֗ום </span></span></span></span></span><span class=\"plain rtl  \" ><span class=\"plain rtl  \" ><span class=\"plain rtl  \" ><span class=\"h\">עֲשֹׂ֛ות </span></span></span><span class=\"plain rtl  \" ><span class=\"plain rtl  \" ><span class=\"h\">יְהוָ֥ה </span></span><span class=\"plain rtl  \" ><span class=\"h\">אֱלֹהִ֖ים </span></span></span><span class=\"plain rtl  \" ><span class=\"plain rtl  \" ><span class=\"h\">אֶ֥רֶץ </span></span><span class=\"plain rtl  \" ><span class=\"h\">וְ</span></span><span class=\"plain rtl  \" ><span class=\"h\">שָׁמָֽיִם׃ </span></span></span></span></span></span></span></td><td class=\"tf\"><span class=\"plain outer  rtl \"><span class=\"plain rtl  hlbx\" ><span class=\"plain rtl  \" ><span class=\"plain rtl  \" ><span class=\"plain rtl  \" ><span class=\"h\">בְּ</span></span><span class=\"plain rtl  \" ><span class=\"h\">יֹ֗ום </span></span></span></span></span></span></td></tr>\n",
       "<tr class=\"tf\"><td class=\"tf\">3</td><td class=\"tf\"> <a href=\"https://shebanq.ancient-data.org/hebrew/text?book=Genesis&amp;chapter=7&amp;verse=3&amp;version=c&amp;mr=m&amp;qw=q&amp;tp=txt_p&amp;tr=hb&amp;wget=v&amp;qget=v&amp;nget=vt\" title=\"show this passage in SHEBANQ\" sec=\"Genesis 7:3\">Genesis 7:3</a></td><td class=\"tf\"><span class=\"vrs ltr\"><a href=\"https://shebanq.ancient-data.org/hebrew/text?book=Genesis&amp;chapter=7&amp;verse=3&amp;version=c&amp;mr=m&amp;qw=q&amp;tp=txt_p&amp;tr=hb&amp;wget=v&amp;qget=v&amp;nget=vt\" title=\"show this passage in SHEBANQ\" sec=\"Genesis 7:3\">Genesis 7:3</a></span><span class=\"plain outer  rtl  \" ><span class=\"plain rtl \"><span class=\"plain rtl  rno \" ><span class=\"plain rtl  \" ><span class=\"plain rtl  \" ><span class=\"plain rtl  \" ><span class=\"h\">גַּ֣ם </span></span><span class=\"plain rtl  \" ><span class=\"h\">מֵ</span></span><span class=\"plain rtl  \" ><span class=\"h\">עֹ֧וף </span></span><span class=\"plain rtl  \" ><span class=\"h\">הַ</span></span><span class=\"plain rtl  \" ><span class=\"h\">שָּׁמַ֛יִם </span></span></span><span class=\"plain rtl  \" ><span class=\"plain rtl  \" ><span class=\"h\">שִׁבְעָ֥ה </span></span></span><span class=\"plain rtl  \" ><span class=\"plain rtl  \" ><span class=\"h\">שִׁבְעָ֖ה </span></span></span><span class=\"plain rtl  \" ><span class=\"plain rtl  \" ><span class=\"h\">זָכָ֣ר </span></span><span class=\"plain rtl  \" ><span class=\"h\">וּ</span></span><span class=\"plain rtl  \" ><span class=\"h\">נְקֵבָ֑ה </span></span></span></span><span class=\"plain rtl  hlbx\" ><span class=\"plain rtl  \" ><span class=\"plain rtl  \" ><span class=\"plain rtl  \" ><span class=\"h\">לְ</span></span><span class=\"plain rtl  \" ><span class=\"h\">חַיֹּ֥ות </span></span></span><span class=\"plain rtl  \" ><span class=\"plain rtl  \" ><span class=\"h\">זֶ֖רַע </span></span></span><span class=\"plain rtl  \" ><span class=\"plain rtl  \" ><span class=\"h\">עַל־</span></span><span class=\"plain rtl  \" ><span class=\"h\">פְּנֵ֥י </span></span><span class=\"plain rtl  \" ><span class=\"h\">כָל־</span></span><span class=\"plain rtl  \" ><span class=\"h\">הָ</span></span><span class=\"plain rtl  \" ><span class=\"h\">אָֽרֶץ׃ </span></span></span></span></span></span></span></span></td><td class=\"tf\"><span class=\"plain outer  rtl \"><span class=\"plain rtl  hlbx\" ><span class=\"plain rtl  \" ><span class=\"plain rtl  \" ><span class=\"plain rtl  \" ><span class=\"h\">לְ</span></span><span class=\"plain rtl  \" ><span class=\"h\">חַיֹּ֥ות </span></span></span><span class=\"plain rtl  \" ><span class=\"plain rtl  \" ><span class=\"h\">זֶ֖רַע </span></span></span><span class=\"plain rtl  \" ><span class=\"plain rtl  \" ><span class=\"h\">עַל־</span></span><span class=\"plain rtl  \" ><span class=\"h\">פְּנֵ֥י </span></span><span class=\"plain rtl  \" ><span class=\"h\">כָל־</span></span><span class=\"plain rtl  \" ><span class=\"h\">הָ</span></span><span class=\"plain rtl  \" ><span class=\"h\">אָֽרֶץ׃ </span></span></span></span></span></span></td><td class=\"tf\"><span class=\"vrs ltr\"><a href=\"https://shebanq.ancient-data.org/hebrew/text?book=Genesis&amp;chapter=7&amp;verse=2&amp;version=c&amp;mr=m&amp;qw=q&amp;tp=txt_p&amp;tr=hb&amp;wget=v&amp;qget=v&amp;nget=vt\" title=\"show this passage in SHEBANQ\" sec=\"Genesis 7:2\">Genesis 7:2</a></span><span class=\"plain outer  rtl  \" ><span class=\"plain rtl \"><span class=\"plain rtl  lno \" ><span class=\"plain rtl  hlbx\" ><span class=\"plain rtl  \" ><span class=\"plain rtl  \" ><span class=\"plain rtl  \" ><span class=\"h\">מִ</span></span><span class=\"plain rtl  \" ><span class=\"h\">כֹּ֣ל׀ </span></span><span class=\"plain rtl  \" ><span class=\"h\">הַ</span></span><span class=\"plain rtl  \" ><span class=\"h\">בְּהֵמָ֣ה </span></span><span class=\"plain rtl  \" ><span class=\"h\">הַ</span></span><span class=\"plain rtl  \" ><span class=\"h\">טְּהֹורָ֗ה </span></span></span><span class=\"plain rtl  \" ><span class=\"plain rtl  \" ><span class=\"h\">תִּֽקַּח־</span></span></span><span class=\"plain rtl  \" ><span class=\"plain rtl  \" ><span class=\"h\">לְךָ֛ </span></span></span><span class=\"plain rtl  \" ><span class=\"plain rtl  \" ><span class=\"h\">שִׁבְעָ֥ה </span></span><span class=\"plain rtl  \" ><span class=\"h\">שִׁבְעָ֖ה </span></span></span><span class=\"plain rtl  \" ><span class=\"plain rtl  \" ><span class=\"h\">אִ֣ישׁ </span></span><span class=\"plain rtl  \" ><span class=\"h\">וְ</span></span><span class=\"plain rtl  \" ><span class=\"h\">אִשְׁתֹּ֑ו </span></span></span></span></span><span class=\"plain rtl  \" ><span class=\"plain rtl  \" ><span class=\"plain rtl  \" ><span class=\"h\">וּ</span></span></span><span class=\"plain rtl  \" ><span class=\"plain rtl  \" ><span class=\"h\">מִן־</span></span><span class=\"plain rtl  \" ><span class=\"h\">הַ</span></span><span class=\"plain rtl  \" ><span class=\"h\">בְּהֵמָ֡ה </span></span></span></span><span class=\"plain rtl  \" ><span class=\"plain rtl  \" ><span class=\"plain rtl  \" ><span class=\"h\">אֲ֠שֶׁר </span></span></span><span class=\"plain rtl  \" ><span class=\"plain rtl  \" ><span class=\"h\">לֹ֣א </span></span></span><span class=\"plain rtl  \" ><span class=\"plain rtl  \" ><span class=\"h\">טְהֹרָ֥ה </span></span></span><span class=\"plain rtl  \" ><span class=\"plain rtl  \" ><span class=\"h\">הִ֛וא </span></span></span></span><span class=\"plain rtl  \" ><span class=\"plain rtl  \" ><span class=\"plain rtl  \" ><span class=\"h\">שְׁנַ֖יִם </span></span></span><span class=\"plain rtl  \" ><span class=\"plain rtl  \" ><span class=\"h\">אִ֥ישׁ </span></span><span class=\"plain rtl  \" ><span class=\"h\">וְ</span></span><span class=\"plain rtl  \" ><span class=\"h\">אִשְׁתֹּֽו׃ </span></span></span></span></span></span></span></td><td class=\"tf\"><span class=\"plain outer  rtl \"><span class=\"plain rtl  hlbx\" ><span class=\"plain rtl  \" ><span class=\"plain rtl  \" ><span class=\"plain rtl  \" ><span class=\"h\">מִ</span></span><span class=\"plain rtl  \" ><span class=\"h\">כֹּ֣ל׀ </span></span><span class=\"plain rtl  \" ><span class=\"h\">הַ</span></span><span class=\"plain rtl  \" ><span class=\"h\">בְּהֵמָ֣ה </span></span><span class=\"plain rtl  \" ><span class=\"h\">הַ</span></span><span class=\"plain rtl  \" ><span class=\"h\">טְּהֹורָ֗ה </span></span></span><span class=\"plain rtl  \" ><span class=\"plain rtl  \" ><span class=\"h\">תִּֽקַּח־</span></span></span><span class=\"plain rtl  \" ><span class=\"plain rtl  \" ><span class=\"h\">לְךָ֛ </span></span></span><span class=\"plain rtl  \" ><span class=\"plain rtl  \" ><span class=\"h\">שִׁבְעָ֥ה </span></span><span class=\"plain rtl  \" ><span class=\"h\">שִׁבְעָ֖ה </span></span></span><span class=\"plain rtl  \" ><span class=\"plain rtl  \" ><span class=\"h\">אִ֣ישׁ </span></span><span class=\"plain rtl  \" ><span class=\"h\">וְ</span></span><span class=\"plain rtl  \" ><span class=\"h\">אִשְׁתֹּ֑ו </span></span></span></span></span></span></td></tr>\n",
       "<tr class=\"tf\"><td class=\"tf\">4</td><td class=\"tf\"> <a href=\"https://shebanq.ancient-data.org/hebrew/text?book=Genesis&amp;chapter=22&amp;verse=17&amp;version=c&amp;mr=m&amp;qw=q&amp;tp=txt_p&amp;tr=hb&amp;wget=v&amp;qget=v&amp;nget=vt\" title=\"show this passage in SHEBANQ\" sec=\"Genesis 22:17\">Genesis 22:17</a></td><td class=\"tf\"><span class=\"vrs ltr\"><a href=\"https://shebanq.ancient-data.org/hebrew/text?book=Genesis&amp;chapter=22&amp;verse=17&amp;version=c&amp;mr=m&amp;qw=q&amp;tp=txt_p&amp;tr=hb&amp;wget=v&amp;qget=v&amp;nget=vt\" title=\"show this passage in SHEBANQ\" sec=\"Genesis 22:17\">Genesis 22:17</a></span><span class=\"plain outer  rtl  \" ><span class=\"plain rtl \"><span class=\"plain rtl  rno \" ><span class=\"plain rtl  hlbx\" ><span class=\"plain rtl  \" ><span class=\"plain rtl  \" ><span class=\"plain rtl  \" ><span class=\"h\">כִּֽי־</span></span></span><span class=\"plain rtl  \" ><span class=\"plain rtl  \" ><span class=\"h\">בָרֵ֣ךְ </span></span></span><span class=\"plain rtl  \" ><span class=\"plain rtl  \" ><span class=\"h\">אֲבָרֶכְךָ֗ </span></span></span></span></span></span><span class=\"plain rtl  \" ><span class=\"plain rtl  \" ><span class=\"plain rtl  \" ><span class=\"plain rtl  \" ><span class=\"h\">וְ</span></span></span><span class=\"plain rtl  \" ><span class=\"plain rtl  \" ><span class=\"h\">הַרְבָּ֨ה </span></span></span><span class=\"plain rtl  \" ><span class=\"plain rtl  \" ><span class=\"h\">אַרְבֶּ֤ה </span></span></span><span class=\"plain rtl  \" ><span class=\"plain rtl  \" ><span class=\"h\">אֶֽת־</span></span><span class=\"plain rtl  \" ><span class=\"h\">זַרְעֲךָ֙ </span></span></span><span class=\"plain rtl  \" ><span class=\"plain rtl  \" ><span class=\"h\">כְּ</span></span><span class=\"plain rtl  \" ><span class=\"h\">כֹוכְבֵ֣י </span></span><span class=\"plain rtl  \" ><span class=\"h\">הַ</span></span><span class=\"plain rtl  \" ><span class=\"h\">שָּׁמַ֔יִם </span></span><span class=\"plain rtl  \" ><span class=\"h\">וְ</span></span><span class=\"plain rtl  \" ><span class=\"h\">כַ</span></span><span class=\"plain rtl  \" ><span class=\"h\"></span></span><span class=\"plain rtl  \" ><span class=\"h\">חֹ֕ול </span></span></span></span><span class=\"plain rtl  \" ><span class=\"plain rtl  \" ><span class=\"plain rtl  \" ><span class=\"h\">אֲשֶׁ֖ר </span></span></span><span class=\"plain rtl  \" ><span class=\"plain rtl  \" ><span class=\"h\">עַל־</span></span><span class=\"plain rtl  \" ><span class=\"h\">שְׂפַ֣ת </span></span><span class=\"plain rtl  \" ><span class=\"h\">הַ</span></span><span class=\"plain rtl  \" ><span class=\"h\">יָּ֑ם </span></span></span></span></span><span class=\"plain rtl  \" ><span class=\"plain rtl  \" ><span class=\"plain rtl  \" ><span class=\"plain rtl  \" ><span class=\"h\">וְ</span></span></span><span class=\"plain rtl  \" ><span class=\"plain rtl  \" ><span class=\"h\">יִרַ֣שׁ </span></span></span><span class=\"plain rtl  \" ><span class=\"plain rtl  \" ><span class=\"h\">זַרְעֲךָ֔ </span></span></span><span class=\"plain rtl  \" ><span class=\"plain rtl  \" ><span class=\"h\">אֵ֖ת </span></span><span class=\"plain rtl  \" ><span class=\"h\">שַׁ֥עַר </span></span><span class=\"plain rtl  \" ><span class=\"h\">אֹיְבָֽיו׃ </span></span></span></span></span></span></span></td><td class=\"tf\"><span class=\"plain outer  rtl \"><span class=\"plain rtl  hlbx\" ><span class=\"plain rtl  \" ><span class=\"plain rtl  \" ><span class=\"plain rtl  \" ><span class=\"h\">כִּֽי־</span></span></span><span class=\"plain rtl  \" ><span class=\"plain rtl  \" ><span class=\"h\">בָרֵ֣ךְ </span></span></span><span class=\"plain rtl  \" ><span class=\"plain rtl  \" ><span class=\"h\">אֲבָרֶכְךָ֗ </span></span></span></span></span></span></td><td class=\"tf\"><span class=\"vrs ltr\"><a href=\"https://shebanq.ancient-data.org/hebrew/text?book=Genesis&amp;chapter=22&amp;verse=16&amp;version=c&amp;mr=m&amp;qw=q&amp;tp=txt_p&amp;tr=hb&amp;wget=v&amp;qget=v&amp;nget=vt\" title=\"show this passage in SHEBANQ\" sec=\"Genesis 22:16\">Genesis 22:16</a></span><span class=\"plain outer  rtl  \" ><span class=\"plain rtl \"><span class=\"plain rtl  \" ><span class=\"plain rtl  \" ><span class=\"plain rtl  \" ><span class=\"plain rtl  \" ><span class=\"h\">וַ</span></span></span><span class=\"plain rtl  \" ><span class=\"plain rtl  \" ><span class=\"h\">יֹּ֕אמֶר </span></span></span></span></span><span class=\"plain rtl  \" ><span class=\"plain rtl  \" ><span class=\"plain rtl  \" ><span class=\"plain rtl  \" ><span class=\"h\">בִּ֥י </span></span></span><span class=\"plain rtl  \" ><span class=\"plain rtl  \" ><span class=\"h\">נִשְׁבַּ֖עְתִּי </span></span></span></span></span><span class=\"plain rtl  \" ><span class=\"plain rtl  \" ><span class=\"plain rtl  \" ><span class=\"plain rtl  \" ><span class=\"h\">נְאֻם־</span></span><span class=\"plain rtl  \" ><span class=\"h\">יְהוָ֑ה </span></span></span></span></span><span class=\"plain rtl  lno \" ><span class=\"plain rtl  hlbx\" ><span class=\"plain rtl  \" ><span class=\"plain rtl  \" ><span class=\"plain rtl  \" ><span class=\"h\">כִּ֗י </span></span></span></span></span><span class=\"plain rtl  \" ><span class=\"plain rtl  \" ><span class=\"plain rtl  \" ><span class=\"h\">יַ֚עַן </span></span><span class=\"plain rtl  \" ><span class=\"h\">אֲשֶׁ֤ר </span></span></span><span class=\"plain rtl  \" ><span class=\"plain rtl  \" ><span class=\"h\">עָשִׂ֨יתָ֙ </span></span></span><span class=\"plain rtl  \" ><span class=\"plain rtl  \" ><span class=\"h\">אֶת־</span></span><span class=\"plain rtl  \" ><span class=\"h\">הַ</span></span><span class=\"plain rtl  \" ><span class=\"h\">דָּבָ֣ר </span></span><span class=\"plain rtl  \" ><span class=\"h\">הַ</span></span><span class=\"plain rtl  \" ><span class=\"h\">זֶּ֔ה </span></span></span></span><span class=\"plain rtl  \" ><span class=\"plain rtl  \" ><span class=\"plain rtl  \" ><span class=\"h\">וְ</span></span></span><span class=\"plain rtl  \" ><span class=\"plain rtl  \" ><span class=\"h\">לֹ֥א </span></span></span><span class=\"plain rtl  \" ><span class=\"plain rtl  \" ><span class=\"h\">חָשַׂ֖כְתָּ </span></span></span><span class=\"plain rtl  \" ><span class=\"plain rtl  \" ><span class=\"h\">אֶת־</span></span><span class=\"plain rtl  \" ><span class=\"h\">בִּנְךָ֥ </span></span></span><span class=\"plain rtl  \" ><span class=\"plain rtl  \" ><span class=\"h\">אֶת־</span></span><span class=\"plain rtl  \" ><span class=\"h\">יְחִידֶֽךָ׃ </span></span></span></span></span></span></span></td><td class=\"tf\"><span class=\"plain outer  rtl \"><span class=\"plain rtl  hlbx\" ><span class=\"plain rtl  \" ><span class=\"plain rtl  \" ><span class=\"plain rtl  \" ><span class=\"h\">כִּ֗י </span></span></span></span></span></span></td></tr>\n",
       "<tr class=\"tf\"><td class=\"tf\">5</td><td class=\"tf\"> <a href=\"https://shebanq.ancient-data.org/hebrew/text?book=Genesis&amp;chapter=24&amp;verse=44&amp;version=c&amp;mr=m&amp;qw=q&amp;tp=txt_p&amp;tr=hb&amp;wget=v&amp;qget=v&amp;nget=vt\" title=\"show this passage in SHEBANQ\" sec=\"Genesis 24:44\">Genesis 24:44</a></td><td class=\"tf\"><span class=\"vrs ltr\"><a href=\"https://shebanq.ancient-data.org/hebrew/text?book=Genesis&amp;chapter=24&amp;verse=44&amp;version=c&amp;mr=m&amp;qw=q&amp;tp=txt_p&amp;tr=hb&amp;wget=v&amp;qget=v&amp;nget=vt\" title=\"show this passage in SHEBANQ\" sec=\"Genesis 24:44\">Genesis 24:44</a></span><span class=\"plain outer  rtl  \" ><span class=\"plain rtl \"><span class=\"plain rtl  \" ><span class=\"plain rtl  \" ><span class=\"plain rtl  \" ><span class=\"plain rtl  \" ><span class=\"h\">וְ</span></span></span><span class=\"plain rtl  \" ><span class=\"plain rtl  \" ><span class=\"h\">אָמְרָ֤ה </span></span></span><span class=\"plain rtl  \" ><span class=\"plain rtl  \" ><span class=\"h\">אֵלַי֙ </span></span></span></span></span><span class=\"plain rtl  \" ><span class=\"plain rtl  \" ><span class=\"plain rtl  \" ><span class=\"plain rtl  \" ><span class=\"h\">גַּם־</span></span><span class=\"plain rtl  \" ><span class=\"h\">אַתָּ֣ה </span></span></span><span class=\"plain rtl  \" ><span class=\"plain rtl  \" ><span class=\"h\">שְׁתֵ֔ה </span></span></span></span></span><span class=\"plain rtl  \" ><span class=\"plain rtl  \" ><span class=\"plain rtl  \" ><span class=\"plain rtl  \" ><span class=\"h\">וְ</span></span></span><span class=\"plain rtl  \" ><span class=\"plain rtl  \" ><span class=\"h\">גַ֥ם </span></span><span class=\"plain rtl  \" ><span class=\"h\">לִ</span></span><span class=\"plain rtl  \" ><span class=\"h\">גְמַלֶּ֖יךָ </span></span></span><span class=\"plain rtl  \" ><span class=\"plain rtl  \" ><span class=\"h\">אֶשְׁאָ֑ב </span></span></span></span></span><span class=\"plain rtl  \" ><span class=\"plain rtl  hlbx\" ><span class=\"plain rtl  \" ><span class=\"plain rtl  \" ><span class=\"plain rtl  \" ><span class=\"h\">הִ֣וא </span></span></span><span class=\"plain rtl  \" ><span class=\"plain rtl  \" ><span class=\"h\">הָֽ</span></span><span class=\"plain rtl  \" ><span class=\"h\">אִשָּׁ֔ה </span></span></span></span></span><span class=\"plain rtl  \" ><span class=\"plain rtl  \" ><span class=\"plain rtl  \" ><span class=\"h\">אֲשֶׁר־</span></span></span><span class=\"plain rtl  \" ><span class=\"plain rtl  \" ><span class=\"h\">הֹכִ֥יחַ </span></span></span><span class=\"plain rtl  \" ><span class=\"plain rtl  \" ><span class=\"h\">יְהוָ֖ה </span></span></span><span class=\"plain rtl  \" ><span class=\"plain rtl  \" ><span class=\"h\">לְ</span></span><span class=\"plain rtl  \" ><span class=\"h\">בֶן־</span></span><span class=\"plain rtl  \" ><span class=\"h\">אֲדֹנִֽי׃ </span></span></span></span></span></span></span></td><td class=\"tf\"><span class=\"plain outer  rtl \"><span class=\"plain rtl  hlbx\" ><span class=\"plain rtl  \" ><span class=\"plain rtl  \" ><span class=\"plain rtl  \" ><span class=\"h\">הִ֣וא </span></span></span><span class=\"plain rtl  \" ><span class=\"plain rtl  \" ><span class=\"h\">הָֽ</span></span><span class=\"plain rtl  \" ><span class=\"h\">אִשָּׁ֔ה </span></span></span></span></span></span></td><td class=\"tf\"><span class=\"vrs ltr\"><a href=\"https://shebanq.ancient-data.org/hebrew/text?book=Genesis&amp;chapter=24&amp;verse=43&amp;version=c&amp;mr=m&amp;qw=q&amp;tp=txt_p&amp;tr=hb&amp;wget=v&amp;qget=v&amp;nget=vt\" title=\"show this passage in SHEBANQ\" sec=\"Genesis 24:43\">Genesis 24:43</a></span><span class=\"plain outer  rtl  \" ><span class=\"plain rtl \"><span class=\"plain rtl  \" ><span class=\"plain rtl  \" ><span class=\"plain rtl  \" ><span class=\"plain rtl  \" ><span class=\"h\">הִנֵּ֛ה </span></span></span><span class=\"plain rtl  \" ><span class=\"plain rtl  \" ><span class=\"h\">אָנֹכִ֥י </span></span></span><span class=\"plain rtl  \" ><span class=\"plain rtl  \" ><span class=\"h\">נִצָּ֖ב </span></span></span><span class=\"plain rtl  \" ><span class=\"plain rtl  \" ><span class=\"h\">עַל־</span></span><span class=\"plain rtl  \" ><span class=\"h\">עֵ֣ין </span></span><span class=\"plain rtl  \" ><span class=\"h\">הַ</span></span><span class=\"plain rtl  \" ><span class=\"h\">מָּ֑יִם </span></span></span></span></span><span class=\"plain rtl  \" ><span class=\"plain rtl  \" ><span class=\"plain rtl  \" ><span class=\"plain rtl  \" ><span class=\"h\">וְ</span></span></span><span class=\"plain rtl  \" ><span class=\"plain rtl  \" ><span class=\"h\">הָיָ֤ה </span></span></span></span></span><span class=\"plain rtl  \" ><span class=\"plain rtl  hlbx\" ><span class=\"plain rtl  \" ><span class=\"plain rtl  \" ><span class=\"plain rtl  \" ><span class=\"h\">הָֽ</span></span><span class=\"plain rtl  \" ><span class=\"h\">עַלְמָה֙ </span></span></span></span></span><span class=\"plain rtl  \" ><span class=\"plain rtl  \" ><span class=\"plain rtl  \" ><span class=\"h\">הַ</span></span></span><span class=\"plain rtl  \" ><span class=\"plain rtl  \" ><span class=\"h\">יֹּצֵ֣את </span></span></span></span><span class=\"plain rtl  \" ><span class=\"plain rtl  \" ><span class=\"plain rtl  \" ><span class=\"h\">לִ</span></span><span class=\"plain rtl  \" ><span class=\"h\">שְׁאֹ֔ב </span></span></span></span></span><span class=\"plain rtl  \" ><span class=\"plain rtl  \" ><span class=\"plain rtl  \" ><span class=\"plain rtl  \" ><span class=\"h\">וְ</span></span></span><span class=\"plain rtl  \" ><span class=\"plain rtl  \" ><span class=\"h\">אָמַרְתִּ֣י </span></span></span><span class=\"plain rtl  \" ><span class=\"plain rtl  \" ><span class=\"h\">אֵלֶ֔יהָ </span></span></span></span></span><span class=\"plain rtl  \" ><span class=\"plain rtl  \" ><span class=\"plain rtl  \" ><span class=\"plain rtl  \" ><span class=\"h\">הַשְׁקִֽינִי־</span></span></span><span class=\"plain rtl  \" ><span class=\"plain rtl  \" ><span class=\"h\">נָ֥א </span></span></span><span class=\"plain rtl  \" ><span class=\"plain rtl  \" ><span class=\"h\">מְעַט־</span></span><span class=\"plain rtl  \" ><span class=\"h\">מַ֖יִם </span></span></span><span class=\"plain rtl  \" ><span class=\"plain rtl  \" ><span class=\"h\">מִ</span></span><span class=\"plain rtl  \" ><span class=\"h\">כַּדֵּֽךְ׃ </span></span></span></span></span></span></span></td><td class=\"tf\"><span class=\"plain outer  rtl \"><span class=\"plain rtl  hlbx\" ><span class=\"plain rtl  \" ><span class=\"plain rtl  \" ><span class=\"plain rtl  \" ><span class=\"h\">הָֽ</span></span><span class=\"plain rtl  \" ><span class=\"h\">עַלְמָה֙ </span></span></span></span></span></span></td></tr>\n",
       "<tr class=\"tf\"><td class=\"tf\">6</td><td class=\"tf\"> <a href=\"https://shebanq.ancient-data.org/hebrew/text?book=Genesis&amp;chapter=27&amp;verse=45&amp;version=c&amp;mr=m&amp;qw=q&amp;tp=txt_p&amp;tr=hb&amp;wget=v&amp;qget=v&amp;nget=vt\" title=\"show this passage in SHEBANQ\" sec=\"Genesis 27:45\">Genesis 27:45</a></td><td class=\"tf\"><span class=\"vrs ltr\"><a href=\"https://shebanq.ancient-data.org/hebrew/text?book=Genesis&amp;chapter=27&amp;verse=45&amp;version=c&amp;mr=m&amp;qw=q&amp;tp=txt_p&amp;tr=hb&amp;wget=v&amp;qget=v&amp;nget=vt\" title=\"show this passage in SHEBANQ\" sec=\"Genesis 27:45\">Genesis 27:45</a></span><span class=\"plain outer  rtl  \" ><span class=\"plain rtl \"><span class=\"plain rtl  rno \" ><span class=\"plain rtl  hlbx\" ><span class=\"plain rtl  \" ><span class=\"plain rtl  \" ><span class=\"plain rtl  \" ><span class=\"h\">עַד־</span></span><span class=\"plain rtl  \" ><span class=\"h\">שׁ֨וּב </span></span></span><span class=\"plain rtl  \" ><span class=\"plain rtl  \" ><span class=\"h\">אַף־</span></span><span class=\"plain rtl  \" ><span class=\"h\">אָחִ֜יךָ </span></span></span><span class=\"plain rtl  \" ><span class=\"plain rtl  \" ><span class=\"h\">מִמְּךָ֗ </span></span></span></span></span><span class=\"plain rtl  \" ><span class=\"plain rtl  \" ><span class=\"plain rtl  \" ><span class=\"h\">וְ</span></span></span><span class=\"plain rtl  \" ><span class=\"plain rtl  \" ><span class=\"h\">שָׁכַח֙ </span></span></span></span><span class=\"plain rtl  \" ><span class=\"plain rtl  \" ><span class=\"plain rtl  \" ><span class=\"h\">אֵ֣ת </span></span><span class=\"plain rtl  \" ><span class=\"h\">אֲשֶׁר־</span></span></span><span class=\"plain rtl  \" ><span class=\"plain rtl  \" ><span class=\"h\">עָשִׂ֣יתָ </span></span></span><span class=\"plain rtl  \" ><span class=\"plain rtl  \" ><span class=\"h\">לֹּ֔ו </span></span></span></span></span><span class=\"plain rtl  \" ><span class=\"plain rtl  \" ><span class=\"plain rtl  \" ><span class=\"plain rtl  \" ><span class=\"h\">וְ</span></span></span><span class=\"plain rtl  \" ><span class=\"plain rtl  \" ><span class=\"h\">שָׁלַחְתִּ֖י </span></span></span></span></span><span class=\"plain rtl  \" ><span class=\"plain rtl  \" ><span class=\"plain rtl  \" ><span class=\"plain rtl  \" ><span class=\"h\">וּ</span></span></span><span class=\"plain rtl  \" ><span class=\"plain rtl  \" ><span class=\"h\">לְקַחְתִּ֣יךָ </span></span></span><span class=\"plain rtl  \" ><span class=\"plain rtl  \" ><span class=\"h\">מִ</span></span><span class=\"plain rtl  \" ><span class=\"h\">שָּׁ֑ם </span></span></span></span></span><span class=\"plain rtl  \" ><span class=\"plain rtl  \" ><span class=\"plain rtl  \" ><span class=\"plain rtl  \" ><span class=\"h\">לָמָ֥ה </span></span></span><span class=\"plain rtl  \" ><span class=\"plain rtl  \" ><span class=\"h\">אֶשְׁכַּ֛ל </span></span></span><span class=\"plain rtl  \" ><span class=\"plain rtl  \" ><span class=\"h\">גַּם־</span></span><span class=\"plain rtl  \" ><span class=\"h\">שְׁנֵיכֶ֖ם </span></span></span><span class=\"plain rtl  \" ><span class=\"plain rtl  \" ><span class=\"h\">יֹ֥ום </span></span><span class=\"plain rtl  \" ><span class=\"h\">אֶחָֽד׃ </span></span></span></span></span></span></span></td><td class=\"tf\"><span class=\"plain outer  rtl \"><span class=\"plain rtl  hlbx\" ><span class=\"plain rtl  \" ><span class=\"plain rtl  \" ><span class=\"plain rtl  \" ><span class=\"h\">עַד־</span></span><span class=\"plain rtl  \" ><span class=\"h\">שׁ֨וּב </span></span></span><span class=\"plain rtl  \" ><span class=\"plain rtl  \" ><span class=\"h\">אַף־</span></span><span class=\"plain rtl  \" ><span class=\"h\">אָחִ֜יךָ </span></span></span><span class=\"plain rtl  \" ><span class=\"plain rtl  \" ><span class=\"h\">מִמְּךָ֗ </span></span></span></span></span></span></td><td class=\"tf\"><span class=\"vrs ltr\"><a href=\"https://shebanq.ancient-data.org/hebrew/text?book=Genesis&amp;chapter=27&amp;verse=44&amp;version=c&amp;mr=m&amp;qw=q&amp;tp=txt_p&amp;tr=hb&amp;wget=v&amp;qget=v&amp;nget=vt\" title=\"show this passage in SHEBANQ\" sec=\"Genesis 27:44\">Genesis 27:44</a></span><span class=\"plain outer  rtl  \" ><span class=\"plain rtl \"><span class=\"plain rtl  lno \" ><span class=\"plain rtl  \" ><span class=\"plain rtl  \" ><span class=\"plain rtl  \" ><span class=\"h\">וְ</span></span></span><span class=\"plain rtl  \" ><span class=\"plain rtl  \" ><span class=\"h\">יָשַׁבְתָּ֥ </span></span></span><span class=\"plain rtl  \" ><span class=\"plain rtl  \" ><span class=\"h\">עִמֹּ֖ו </span></span></span><span class=\"plain rtl  \" ><span class=\"plain rtl  \" ><span class=\"h\">יָמִ֣ים </span></span><span class=\"plain rtl  \" ><span class=\"h\">אֲחָדִ֑ים </span></span></span></span><span class=\"plain rtl  hlbx\" ><span class=\"plain rtl  \" ><span class=\"plain rtl  \" ><span class=\"plain rtl  \" ><span class=\"h\">עַ֥ד </span></span><span class=\"plain rtl  \" ><span class=\"h\">אֲשֶׁר־</span></span></span><span class=\"plain rtl  \" ><span class=\"plain rtl  \" ><span class=\"h\">תָּשׁ֖וּב </span></span></span><span class=\"plain rtl  \" ><span class=\"plain rtl  \" ><span class=\"h\">חֲמַ֥ת </span></span><span class=\"plain rtl  \" ><span class=\"h\">אָחִֽיךָ׃ </span></span></span></span></span></span></span></span></td><td class=\"tf\"><span class=\"plain outer  rtl \"><span class=\"plain rtl  hlbx\" ><span class=\"plain rtl  \" ><span class=\"plain rtl  \" ><span class=\"plain rtl  \" ><span class=\"h\">עַ֥ד </span></span><span class=\"plain rtl  \" ><span class=\"h\">אֲשֶׁר־</span></span></span><span class=\"plain rtl  \" ><span class=\"plain rtl  \" ><span class=\"h\">תָּשׁ֖וּב </span></span></span><span class=\"plain rtl  \" ><span class=\"plain rtl  \" ><span class=\"h\">חֲמַ֥ת </span></span><span class=\"plain rtl  \" ><span class=\"h\">אָחִֽיךָ׃ </span></span></span></span></span></span></td></tr>\n",
       "<tr class=\"tf\"><td class=\"tf\">7</td><td class=\"tf\"> <a href=\"https://shebanq.ancient-data.org/hebrew/text?book=Genesis&amp;chapter=36&amp;verse=16&amp;version=c&amp;mr=m&amp;qw=q&amp;tp=txt_p&amp;tr=hb&amp;wget=v&amp;qget=v&amp;nget=vt\" title=\"show this passage in SHEBANQ\" sec=\"Genesis 36:16\">Genesis 36:16</a></td><td class=\"tf\"><span class=\"vrs ltr\"><a href=\"https://shebanq.ancient-data.org/hebrew/text?book=Genesis&amp;chapter=36&amp;verse=16&amp;version=c&amp;mr=m&amp;qw=q&amp;tp=txt_p&amp;tr=hb&amp;wget=v&amp;qget=v&amp;nget=vt\" title=\"show this passage in SHEBANQ\" sec=\"Genesis 36:16\">Genesis 36:16</a></span><span class=\"plain outer  rtl  \" ><span class=\"plain rtl \"><span class=\"plain rtl  rno \" ><span class=\"plain rtl  hlbx\" ><span class=\"plain rtl  \" ><span class=\"plain rtl  \" ><span class=\"plain rtl  \" ><span class=\"h\">אַלּֽוּף־</span></span><span class=\"plain rtl  \" ><span class=\"h\">קֹ֛רַח </span></span><span class=\"plain rtl  \" ><span class=\"h\">אַלּ֥וּף </span></span><span class=\"plain rtl  \" ><span class=\"h\">גַּעְתָּ֖ם </span></span><span class=\"plain rtl  \" ><span class=\"h\">אַלּ֣וּף </span></span><span class=\"plain rtl  \" ><span class=\"h\">עֲמָלֵ֑ק </span></span></span></span></span></span><span class=\"plain rtl  \" ><span class=\"plain rtl  \" ><span class=\"plain rtl  \" ><span class=\"plain rtl  \" ><span class=\"h\">אֵ֣לֶּה </span></span></span><span class=\"plain rtl  \" ><span class=\"plain rtl  \" ><span class=\"h\">אַלּוּפֵ֤י </span></span><span class=\"plain rtl  \" ><span class=\"h\">אֱלִיפַז֙ </span></span></span><span class=\"plain rtl  \" ><span class=\"plain rtl  \" ><span class=\"h\">בְּ</span></span><span class=\"plain rtl  \" ><span class=\"h\">אֶ֣רֶץ </span></span><span class=\"plain rtl  \" ><span class=\"h\">אֱדֹ֔ום </span></span></span></span></span><span class=\"plain rtl  \" ><span class=\"plain rtl  \" ><span class=\"plain rtl  \" ><span class=\"plain rtl  \" ><span class=\"h\">אֵ֖לֶּה </span></span></span><span class=\"plain rtl  \" ><span class=\"plain rtl  \" ><span class=\"h\">בְּנֵ֥י </span></span><span class=\"plain rtl  \" ><span class=\"h\">עָדָֽה׃ </span></span></span></span></span></span></span></td><td class=\"tf\"><span class=\"plain outer  rtl \"><span class=\"plain rtl  hlbx\" ><span class=\"plain rtl  \" ><span class=\"plain rtl  \" ><span class=\"plain rtl  \" ><span class=\"h\">אַלּֽוּף־</span></span><span class=\"plain rtl  \" ><span class=\"h\">קֹ֛רַח </span></span><span class=\"plain rtl  \" ><span class=\"h\">אַלּ֥וּף </span></span><span class=\"plain rtl  \" ><span class=\"h\">גַּעְתָּ֖ם </span></span><span class=\"plain rtl  \" ><span class=\"h\">אַלּ֣וּף </span></span><span class=\"plain rtl  \" ><span class=\"h\">עֲמָלֵ֑ק </span></span></span></span></span></span></td><td class=\"tf\"><span class=\"vrs ltr\"><a href=\"https://shebanq.ancient-data.org/hebrew/text?book=Genesis&amp;chapter=36&amp;verse=15&amp;version=c&amp;mr=m&amp;qw=q&amp;tp=txt_p&amp;tr=hb&amp;wget=v&amp;qget=v&amp;nget=vt\" title=\"show this passage in SHEBANQ\" sec=\"Genesis 36:15\">Genesis 36:15</a></span><span class=\"plain outer  rtl  \" ><span class=\"plain rtl \"><span class=\"plain rtl  \" ><span class=\"plain rtl  \" ><span class=\"plain rtl  \" ><span class=\"plain rtl  \" ><span class=\"h\">אֵ֖לֶּה </span></span></span><span class=\"plain rtl  \" ><span class=\"plain rtl  \" ><span class=\"h\">אַלּוּפֵ֣י </span></span><span class=\"plain rtl  \" ><span class=\"h\">בְנֵֽי־</span></span><span class=\"plain rtl  \" ><span class=\"h\">עֵשָׂ֑ו </span></span></span></span></span><span class=\"plain rtl  lno \" ><span class=\"plain rtl  hlbx\" ><span class=\"plain rtl  \" ><span class=\"plain rtl  \" ><span class=\"plain rtl  \" ><span class=\"h\">בְּנֵ֤י </span></span><span class=\"plain rtl  \" ><span class=\"h\">אֱלִיפַז֙ </span></span></span><span class=\"plain rtl  \" ><span class=\"plain rtl  \" ><span class=\"h\">בְּכֹ֣ור </span></span><span class=\"plain rtl  \" ><span class=\"h\">עֵשָׂ֔ו </span></span></span><span class=\"plain rtl  \" ><span class=\"plain rtl  \" ><span class=\"h\">אַלּ֤וּף </span></span><span class=\"plain rtl  \" ><span class=\"h\">תֵּימָן֙ </span></span><span class=\"plain rtl  \" ><span class=\"h\">אַלּ֣וּף </span></span><span class=\"plain rtl  \" ><span class=\"h\">אֹומָ֔ר </span></span><span class=\"plain rtl  \" ><span class=\"h\">אַלּ֥וּף </span></span><span class=\"plain rtl  \" ><span class=\"h\">צְפֹ֖ו </span></span><span class=\"plain rtl  \" ><span class=\"h\">אַלּ֥וּף </span></span><span class=\"plain rtl  \" ><span class=\"h\">קְנַֽז׃ </span></span></span></span></span></span></span></span></td><td class=\"tf\"><span class=\"plain outer  rtl \"><span class=\"plain rtl  hlbx\" ><span class=\"plain rtl  \" ><span class=\"plain rtl  \" ><span class=\"plain rtl  \" ><span class=\"h\">בְּנֵ֤י </span></span><span class=\"plain rtl  \" ><span class=\"h\">אֱלִיפַז֙ </span></span></span><span class=\"plain rtl  \" ><span class=\"plain rtl  \" ><span class=\"h\">בְּכֹ֣ור </span></span><span class=\"plain rtl  \" ><span class=\"h\">עֵשָׂ֔ו </span></span></span><span class=\"plain rtl  \" ><span class=\"plain rtl  \" ><span class=\"h\">אַלּ֤וּף </span></span><span class=\"plain rtl  \" ><span class=\"h\">תֵּימָן֙ </span></span><span class=\"plain rtl  \" ><span class=\"h\">אַלּ֣וּף </span></span><span class=\"plain rtl  \" ><span class=\"h\">אֹומָ֔ר </span></span><span class=\"plain rtl  \" ><span class=\"h\">אַלּ֥וּף </span></span><span class=\"plain rtl  \" ><span class=\"h\">צְפֹ֖ו </span></span><span class=\"plain rtl  \" ><span class=\"h\">אַלּ֥וּף </span></span><span class=\"plain rtl  \" ><span class=\"h\">קְנַֽז׃ </span></span></span></span></span></span></td></tr>\n",
       "<tr class=\"tf\"><td class=\"tf\">8</td><td class=\"tf\"> <a href=\"https://shebanq.ancient-data.org/hebrew/text?book=Genesis&amp;chapter=36&amp;verse=30&amp;version=c&amp;mr=m&amp;qw=q&amp;tp=txt_p&amp;tr=hb&amp;wget=v&amp;qget=v&amp;nget=vt\" title=\"show this passage in SHEBANQ\" sec=\"Genesis 36:30\">Genesis 36:30</a></td><td class=\"tf\"><span class=\"vrs ltr\"><a href=\"https://shebanq.ancient-data.org/hebrew/text?book=Genesis&amp;chapter=36&amp;verse=30&amp;version=c&amp;mr=m&amp;qw=q&amp;tp=txt_p&amp;tr=hb&amp;wget=v&amp;qget=v&amp;nget=vt\" title=\"show this passage in SHEBANQ\" sec=\"Genesis 36:30\">Genesis 36:30</a></span><span class=\"plain outer  rtl  \" ><span class=\"plain rtl \"><span class=\"plain rtl  rno \" ><span class=\"plain rtl  hlbx\" ><span class=\"plain rtl  \" ><span class=\"plain rtl  \" ><span class=\"plain rtl  \" ><span class=\"h\">אַלּ֥וּף </span></span><span class=\"plain rtl  \" ><span class=\"h\">דִּשֹׁ֛ן </span></span><span class=\"plain rtl  \" ><span class=\"h\">אַלּ֥וּף </span></span><span class=\"plain rtl  \" ><span class=\"h\">אֵ֖צֶר </span></span><span class=\"plain rtl  \" ><span class=\"h\">אַלּ֣וּף </span></span><span class=\"plain rtl  \" ><span class=\"h\">דִּישָׁ֑ן </span></span></span></span></span></span><span class=\"plain rtl  \" ><span class=\"plain rtl  \" ><span class=\"plain rtl  \" ><span class=\"plain rtl  \" ><span class=\"h\">אֵ֣לֶּה </span></span></span><span class=\"plain rtl  \" ><span class=\"plain rtl  \" ><span class=\"h\">אַלּוּפֵ֧י </span></span><span class=\"plain rtl  \" ><span class=\"h\">הַ</span></span><span class=\"plain rtl  \" ><span class=\"h\">חֹרִ֛י </span></span></span><span class=\"plain rtl  \" ><span class=\"plain rtl  \" ><span class=\"h\">לְ</span></span><span class=\"plain rtl  \" ><span class=\"h\">אַלֻּפֵיהֶ֖ם </span></span></span><span class=\"plain rtl  \" ><span class=\"plain rtl  \" ><span class=\"h\">בְּ</span></span><span class=\"plain rtl  \" ><span class=\"h\">אֶ֥רֶץ </span></span><span class=\"plain rtl  \" ><span class=\"h\">שֵׂעִֽיר׃ פ </span></span></span></span></span></span></span></td><td class=\"tf\"><span class=\"plain outer  rtl \"><span class=\"plain rtl  hlbx\" ><span class=\"plain rtl  \" ><span class=\"plain rtl  \" ><span class=\"plain rtl  \" ><span class=\"h\">אַלּ֥וּף </span></span><span class=\"plain rtl  \" ><span class=\"h\">דִּשֹׁ֛ן </span></span><span class=\"plain rtl  \" ><span class=\"h\">אַלּ֥וּף </span></span><span class=\"plain rtl  \" ><span class=\"h\">אֵ֖צֶר </span></span><span class=\"plain rtl  \" ><span class=\"h\">אַלּ֣וּף </span></span><span class=\"plain rtl  \" ><span class=\"h\">דִּישָׁ֑ן </span></span></span></span></span></span></td><td class=\"tf\"><span class=\"vrs ltr\"><a href=\"https://shebanq.ancient-data.org/hebrew/text?book=Genesis&amp;chapter=36&amp;verse=29&amp;version=c&amp;mr=m&amp;qw=q&amp;tp=txt_p&amp;tr=hb&amp;wget=v&amp;qget=v&amp;nget=vt\" title=\"show this passage in SHEBANQ\" sec=\"Genesis 36:29\">Genesis 36:29</a></span><span class=\"plain outer  rtl  \" ><span class=\"plain rtl \"><span class=\"plain rtl  \" ><span class=\"plain rtl  \" ><span class=\"plain rtl  \" ><span class=\"plain rtl  \" ><span class=\"h\">אֵ֖לֶּה </span></span></span><span class=\"plain rtl  \" ><span class=\"plain rtl  \" ><span class=\"h\">אַלּוּפֵ֣י </span></span><span class=\"plain rtl  \" ><span class=\"h\">הַ</span></span><span class=\"plain rtl  \" ><span class=\"h\">חֹרִ֑י </span></span></span></span></span><span class=\"plain rtl  lno \" ><span class=\"plain rtl  hlbx\" ><span class=\"plain rtl  \" ><span class=\"plain rtl  \" ><span class=\"plain rtl  \" ><span class=\"h\">אַלּ֤וּף </span></span><span class=\"plain rtl  \" ><span class=\"h\">לֹוטָן֙ </span></span><span class=\"plain rtl  \" ><span class=\"h\">אַלּ֣וּף </span></span><span class=\"plain rtl  \" ><span class=\"h\">שֹׁובָ֔ל </span></span><span class=\"plain rtl  \" ><span class=\"h\">אַלּ֥וּף </span></span><span class=\"plain rtl  \" ><span class=\"h\">צִבְעֹ֖ון </span></span><span class=\"plain rtl  \" ><span class=\"h\">אַלּ֥וּף </span></span><span class=\"plain rtl  \" ><span class=\"h\">עֲנָֽה׃ </span></span></span></span></span></span></span></span></td><td class=\"tf\"><span class=\"plain outer  rtl \"><span class=\"plain rtl  hlbx\" ><span class=\"plain rtl  \" ><span class=\"plain rtl  \" ><span class=\"plain rtl  \" ><span class=\"h\">אַלּ֤וּף </span></span><span class=\"plain rtl  \" ><span class=\"h\">לֹוטָן֙ </span></span><span class=\"plain rtl  \" ><span class=\"h\">אַלּ֣וּף </span></span><span class=\"plain rtl  \" ><span class=\"h\">שֹׁובָ֔ל </span></span><span class=\"plain rtl  \" ><span class=\"h\">אַלּ֥וּף </span></span><span class=\"plain rtl  \" ><span class=\"h\">צִבְעֹ֖ון </span></span><span class=\"plain rtl  \" ><span class=\"h\">אַלּ֥וּף </span></span><span class=\"plain rtl  \" ><span class=\"h\">עֲנָֽה׃ </span></span></span></span></span></span></td></tr>\n",
       "<tr class=\"tf\"><td class=\"tf\">9</td><td class=\"tf\"> <a href=\"https://shebanq.ancient-data.org/hebrew/text?book=Genesis&amp;chapter=36&amp;verse=41&amp;version=c&amp;mr=m&amp;qw=q&amp;tp=txt_p&amp;tr=hb&amp;wget=v&amp;qget=v&amp;nget=vt\" title=\"show this passage in SHEBANQ\" sec=\"Genesis 36:41\">Genesis 36:41</a></td><td class=\"tf\"><span class=\"vrs ltr\"><a href=\"https://shebanq.ancient-data.org/hebrew/text?book=Genesis&amp;chapter=36&amp;verse=41&amp;version=c&amp;mr=m&amp;qw=q&amp;tp=txt_p&amp;tr=hb&amp;wget=v&amp;qget=v&amp;nget=vt\" title=\"show this passage in SHEBANQ\" sec=\"Genesis 36:41\">Genesis 36:41</a></span><span class=\"plain outer  rtl  \" ><span class=\"plain rtl \"><span class=\"plain rtl  rno lno \" ><span class=\"plain rtl  hlbx\" ><span class=\"plain rtl  \" ><span class=\"plain rtl  \" ><span class=\"plain rtl  \" ><span class=\"h\">אַלּ֧וּף </span></span><span class=\"plain rtl  \" ><span class=\"h\">אָהֳלִיבָמָ֛ה </span></span><span class=\"plain rtl  \" ><span class=\"h\">אַלּ֥וּף </span></span><span class=\"plain rtl  \" ><span class=\"h\">אֵלָ֖ה </span></span><span class=\"plain rtl  \" ><span class=\"h\">אַלּ֥וּף </span></span><span class=\"plain rtl  \" ><span class=\"h\">פִּינֹֽן׃ </span></span></span></span></span></span></span></span></td><td class=\"tf\"><span class=\"plain outer  rtl \"><span class=\"plain rtl  hlbx\" ><span class=\"plain rtl  \" ><span class=\"plain rtl  \" ><span class=\"plain rtl  \" ><span class=\"h\">אַלּ֧וּף </span></span><span class=\"plain rtl  \" ><span class=\"h\">אָהֳלִיבָמָ֛ה </span></span><span class=\"plain rtl  \" ><span class=\"h\">אַלּ֥וּף </span></span><span class=\"plain rtl  \" ><span class=\"h\">אֵלָ֖ה </span></span><span class=\"plain rtl  \" ><span class=\"h\">אַלּ֥וּף </span></span><span class=\"plain rtl  \" ><span class=\"h\">פִּינֹֽן׃ </span></span></span></span></span></span></td><td class=\"tf\"><span class=\"vrs ltr\"><a href=\"https://shebanq.ancient-data.org/hebrew/text?book=Genesis&amp;chapter=36&amp;verse=40&amp;version=c&amp;mr=m&amp;qw=q&amp;tp=txt_p&amp;tr=hb&amp;wget=v&amp;qget=v&amp;nget=vt\" title=\"show this passage in SHEBANQ\" sec=\"Genesis 36:40\">Genesis 36:40</a></span><span class=\"plain outer  rtl  \" ><span class=\"plain rtl \"><span class=\"plain rtl  lno \" ><span class=\"plain rtl  \" ><span class=\"plain rtl  \" ><span class=\"plain rtl  \" ><span class=\"h\">וְ֠</span></span></span><span class=\"plain rtl  \" ><span class=\"plain rtl  \" ><span class=\"h\">אֵלֶּה </span></span></span><span class=\"plain rtl  \" ><span class=\"plain rtl  \" ><span class=\"h\">שְׁמֹ֞ות </span></span><span class=\"plain rtl  \" ><span class=\"h\">אַלּוּפֵ֤י </span></span><span class=\"plain rtl  \" ><span class=\"h\">עֵשָׂו֙ </span></span></span><span class=\"plain rtl  \" ><span class=\"plain rtl  \" ><span class=\"h\">לְ</span></span><span class=\"plain rtl  \" ><span class=\"h\">מִשְׁפְּחֹתָ֔ם </span></span></span><span class=\"plain rtl  \" ><span class=\"plain rtl  \" ><span class=\"h\">לִ</span></span><span class=\"plain rtl  \" ><span class=\"h\">מְקֹמֹתָ֖ם </span></span></span><span class=\"plain rtl  \" ><span class=\"plain rtl  \" ><span class=\"h\">בִּ</span></span><span class=\"plain rtl  \" ><span class=\"h\">שְׁמֹתָ֑ם </span></span></span></span><span class=\"plain rtl  hlbx\" ><span class=\"plain rtl  \" ><span class=\"plain rtl  \" ><span class=\"plain rtl  \" ><span class=\"h\">אַלּ֥וּף </span></span><span class=\"plain rtl  \" ><span class=\"h\">תִּמְנָ֛ע </span></span><span class=\"plain rtl  \" ><span class=\"h\">אַלּ֥וּף </span></span><span class=\"plain rtl  \" ><span class=\"h\">עַֽלְוָ֖ה </span></span><span class=\"plain rtl  \" ><span class=\"h\">אַלּ֥וּף </span></span><span class=\"plain rtl  \" ><span class=\"h\">יְתֵֽת׃ </span></span></span></span></span></span></span></span></td><td class=\"tf\"><span class=\"plain outer  rtl \"><span class=\"plain rtl  hlbx\" ><span class=\"plain rtl  \" ><span class=\"plain rtl  \" ><span class=\"plain rtl  \" ><span class=\"h\">אַלּ֥וּף </span></span><span class=\"plain rtl  \" ><span class=\"h\">תִּמְנָ֛ע </span></span><span class=\"plain rtl  \" ><span class=\"h\">אַלּ֥וּף </span></span><span class=\"plain rtl  \" ><span class=\"h\">עַֽלְוָ֖ה </span></span><span class=\"plain rtl  \" ><span class=\"h\">אַלּ֥וּף </span></span><span class=\"plain rtl  \" ><span class=\"h\">יְתֵֽת׃ </span></span></span></span></span></span></td></tr>\n",
       "<tr class=\"tf\"><td class=\"tf\">10</td><td class=\"tf\"> <a href=\"https://shebanq.ancient-data.org/hebrew/text?book=Genesis&amp;chapter=36&amp;verse=42&amp;version=c&amp;mr=m&amp;qw=q&amp;tp=txt_p&amp;tr=hb&amp;wget=v&amp;qget=v&amp;nget=vt\" title=\"show this passage in SHEBANQ\" sec=\"Genesis 36:42\">Genesis 36:42</a></td><td class=\"tf\"><span class=\"vrs ltr\"><a href=\"https://shebanq.ancient-data.org/hebrew/text?book=Genesis&amp;chapter=36&amp;verse=42&amp;version=c&amp;mr=m&amp;qw=q&amp;tp=txt_p&amp;tr=hb&amp;wget=v&amp;qget=v&amp;nget=vt\" title=\"show this passage in SHEBANQ\" sec=\"Genesis 36:42\">Genesis 36:42</a></span><span class=\"plain outer  rtl  \" ><span class=\"plain rtl \"><span class=\"plain rtl  rno lno \" ><span class=\"plain rtl  hlbx\" ><span class=\"plain rtl  \" ><span class=\"plain rtl  \" ><span class=\"plain rtl  \" ><span class=\"h\">אַלּ֥וּף </span></span><span class=\"plain rtl  \" ><span class=\"h\">קְנַ֛ז </span></span><span class=\"plain rtl  \" ><span class=\"h\">אַלּ֥וּף </span></span><span class=\"plain rtl  \" ><span class=\"h\">תֵּימָ֖ן </span></span><span class=\"plain rtl  \" ><span class=\"h\">אַלּ֥וּף </span></span><span class=\"plain rtl  \" ><span class=\"h\">מִבְצָֽר׃ </span></span></span></span></span></span></span></span></td><td class=\"tf\"><span class=\"plain outer  rtl \"><span class=\"plain rtl  hlbx\" ><span class=\"plain rtl  \" ><span class=\"plain rtl  \" ><span class=\"plain rtl  \" ><span class=\"h\">אַלּ֥וּף </span></span><span class=\"plain rtl  \" ><span class=\"h\">קְנַ֛ז </span></span><span class=\"plain rtl  \" ><span class=\"h\">אַלּ֥וּף </span></span><span class=\"plain rtl  \" ><span class=\"h\">תֵּימָ֖ן </span></span><span class=\"plain rtl  \" ><span class=\"h\">אַלּ֥וּף </span></span><span class=\"plain rtl  \" ><span class=\"h\">מִבְצָֽר׃ </span></span></span></span></span></span></td><td class=\"tf\"><span class=\"vrs ltr\"><a href=\"https://shebanq.ancient-data.org/hebrew/text?book=Genesis&amp;chapter=36&amp;verse=41&amp;version=c&amp;mr=m&amp;qw=q&amp;tp=txt_p&amp;tr=hb&amp;wget=v&amp;qget=v&amp;nget=vt\" title=\"show this passage in SHEBANQ\" sec=\"Genesis 36:41\">Genesis 36:41</a></span><span class=\"plain outer  rtl  \" ><span class=\"plain rtl \"><span class=\"plain rtl  rno lno \" ><span class=\"plain rtl  hlbx\" ><span class=\"plain rtl  \" ><span class=\"plain rtl  \" ><span class=\"plain rtl  \" ><span class=\"h\">אַלּ֧וּף </span></span><span class=\"plain rtl  \" ><span class=\"h\">אָהֳלִיבָמָ֛ה </span></span><span class=\"plain rtl  \" ><span class=\"h\">אַלּ֥וּף </span></span><span class=\"plain rtl  \" ><span class=\"h\">אֵלָ֖ה </span></span><span class=\"plain rtl  \" ><span class=\"h\">אַלּ֥וּף </span></span><span class=\"plain rtl  \" ><span class=\"h\">פִּינֹֽן׃ </span></span></span></span></span></span></span></span></td><td class=\"tf\"><span class=\"plain outer  rtl \"><span class=\"plain rtl  hlbx\" ><span class=\"plain rtl  \" ><span class=\"plain rtl  \" ><span class=\"plain rtl  \" ><span class=\"h\">אַלּ֧וּף </span></span><span class=\"plain rtl  \" ><span class=\"h\">אָהֳלִיבָמָ֛ה </span></span><span class=\"plain rtl  \" ><span class=\"h\">אַלּ֥וּף </span></span><span class=\"plain rtl  \" ><span class=\"h\">אֵלָ֖ה </span></span><span class=\"plain rtl  \" ><span class=\"h\">אַלּ֥וּף </span></span><span class=\"plain rtl  \" ><span class=\"h\">פִּינֹֽן׃ </span></span></span></span></span></span></td></tr></table>"
      ],
      "text/plain": [
       "<IPython.core.display.HTML object>"
      ]
     },
     "metadata": {},
     "output_type": "display_data"
    }
   ],
   "source": [
    "query = '''\n",
    "v1:verse\n",
    "    c1:clause\n",
    "v2:verse\n",
    "    c2:clause\n",
    "\n",
    "c1 -mother> c2\n",
    "v1 # v2\n",
    "'''\n",
    "results = A.search(query)\n",
    "A.table(results, end=10)\n",
    "differentVerse = len(results)"
   ]
  },
  {
   "cell_type": "markdown",
   "metadata": {},
   "source": [
    "### Edges with values\n",
    "\n",
    "There are also edge features that somehow *qualify* the relation between nodes they specify.\n",
    "\n",
    "The edge feature `crossref` in the\n",
    "[parallels](https://github.com/ETCBC/parallels)\n",
    "module specifies a relationship between verses: they are *parallel* if they are similar. \n",
    "But `crossref` also tells you how similar, in the form of a number that is the percentage of similarity\n",
    "according to the measure used by the algorithm to detect the parallels.\n",
    "\n",
    "This number is called the *value* of the `crossref` edge. \n",
    "In our search templates we make use of the *values* of edge features.\n",
    "\n",
    "Not all edge features provide values. `mother` does not. But `crossref` does.\n",
    "\n",
    "Here is how many crossreferences we have. The `crossref` edge feature is symmetric: if v is parallel to w, w is parallel to v. So in our query we stipulate that v comes before w:"
   ]
  },
  {
   "cell_type": "code",
   "execution_count": 19,
   "metadata": {
    "ExecuteTime": {
     "end_time": "2018-05-24T08:00:35.648065Z",
     "start_time": "2018-05-24T08:00:35.276033Z"
    }
   },
   "outputs": [
    {
     "name": "stdout",
     "output_type": "stream",
     "text": [
      "  0.14s 15871 results\n"
     ]
    }
   ],
   "source": [
    "query = '''\n",
    "v:verse\n",
    "-crossref> w:verse\n",
    "v < w\n",
    "'''\n",
    "results = A.search(query)"
   ]
  },
  {
   "cell_type": "markdown",
   "metadata": {},
   "source": [
    "We get a quick overview of the similarity distribution of parallels by means of `freqList()`:"
   ]
  },
  {
   "cell_type": "code",
   "execution_count": 20,
   "metadata": {
    "ExecuteTime": {
     "end_time": "2018-05-24T08:00:38.315507Z",
     "start_time": "2018-05-24T08:00:38.291652Z"
    }
   },
   "outputs": [
    {
     "data": {
      "text/plain": [
       "((100, 8456),\n",
       " (80, 7796),\n",
       " (84, 2874),\n",
       " (86, 2328),\n",
       " (76, 1274),\n",
       " (77, 1220),\n",
       " (78, 1170),\n",
       " (79, 844),\n",
       " (81, 844),\n",
       " (75, 836),\n",
       " (83, 754),\n",
       " (88, 730),\n",
       " (82, 720),\n",
       " (92, 250),\n",
       " (85, 248),\n",
       " (90, 240),\n",
       " (91, 216),\n",
       " (94, 160),\n",
       " (87, 148),\n",
       " (95, 148),\n",
       " (89, 142),\n",
       " (96, 90),\n",
       " (93, 88),\n",
       " (98, 76),\n",
       " (99, 58),\n",
       " (97, 32))"
      ]
     },
     "execution_count": 20,
     "metadata": {},
     "output_type": "execute_result"
    }
   ],
   "source": [
    "E.crossref.freqList()"
   ]
  },
  {
   "cell_type": "markdown",
   "metadata": {},
   "source": [
    "If we want the cases with a high similarity, we can say:"
   ]
  },
  {
   "cell_type": "code",
   "execution_count": 21,
   "metadata": {
    "ExecuteTime": {
     "end_time": "2018-05-24T08:00:40.831880Z",
     "start_time": "2018-05-24T08:00:40.657543Z"
    }
   },
   "outputs": [
    {
     "name": "stdout",
     "output_type": "stream",
     "text": [
      "  0.09s 4356 results\n"
     ]
    },
    {
     "data": {
      "text/html": [
       "<table>\n",
       "<tr class=\"tf\">\n",
       "  <th class=\"tf\">n</th><th class=\"tf\">p</th>\n",
       "  <th class=\"tf\">verse</th><th>verse</th>\n",
       "</tr>\n",
       "\n",
       "<tr class=\"tf\"><td class=\"tf\">1</td><td class=\"tf\"> <a href=\"https://shebanq.ancient-data.org/hebrew/text?book=Chronica_I&amp;chapter=1&amp;verse=5&amp;version=c&amp;mr=m&amp;qw=q&amp;tp=txt_p&amp;tr=hb&amp;wget=v&amp;qget=v&amp;nget=vt\" title=\"show this passage in SHEBANQ\" sec=\"1_Chronicles 1:5\">1_Chronicles 1:5</a></td><td class=\"tf\"><span class=\"vrs ltr\"><a href=\"https://shebanq.ancient-data.org/hebrew/text?book=Genesis&amp;chapter=10&amp;verse=2&amp;version=c&amp;mr=m&amp;qw=q&amp;tp=txt_p&amp;tr=hb&amp;wget=v&amp;qget=v&amp;nget=vt\" title=\"show this passage in SHEBANQ\" sec=\"Genesis 10:2\">Genesis 10:2</a></span><span class=\"plain outer  rtl  \" ><span class=\"plain rtl \"><span class=\"plain rtl  \" ><span class=\"plain rtl  \" ><span class=\"plain rtl  \" ><span class=\"plain rtl  \" ><span class=\"h\">בְּנֵ֣י </span></span><span class=\"plain rtl  \" ><span class=\"h\">יֶ֔פֶת </span></span></span><span class=\"plain rtl  \" ><span class=\"plain rtl  \" ><span class=\"h\">גֹּ֣מֶר </span></span><span class=\"plain rtl  \" ><span class=\"h\">וּ</span></span><span class=\"plain rtl  \" ><span class=\"h\">מָגֹ֔וג </span></span><span class=\"plain rtl  \" ><span class=\"h\">וּ</span></span><span class=\"plain rtl  \" ><span class=\"h\">מָדַ֖י </span></span><span class=\"plain rtl  \" ><span class=\"h\">וְ</span></span><span class=\"plain rtl  \" ><span class=\"h\">יָוָ֣ן </span></span><span class=\"plain rtl  \" ><span class=\"h\">וְ</span></span><span class=\"plain rtl  \" ><span class=\"h\">תֻבָ֑ל </span></span><span class=\"plain rtl  \" ><span class=\"h\">וּ</span></span><span class=\"plain rtl  \" ><span class=\"h\">מֶ֖שֶׁךְ </span></span><span class=\"plain rtl  \" ><span class=\"h\">וְ</span></span><span class=\"plain rtl  \" ><span class=\"h\">תִירָֽס׃ </span></span></span></span></span></span></span></td><td class=\"tf\"><span class=\"vrs ltr\"><a href=\"https://shebanq.ancient-data.org/hebrew/text?book=Chronica_I&amp;chapter=1&amp;verse=5&amp;version=c&amp;mr=m&amp;qw=q&amp;tp=txt_p&amp;tr=hb&amp;wget=v&amp;qget=v&amp;nget=vt\" title=\"show this passage in SHEBANQ\" sec=\"1_Chronicles 1:5\">1_Chronicles 1:5</a></span><span class=\"plain outer  rtl  \" ><span class=\"plain rtl \"><span class=\"plain rtl  \" ><span class=\"plain rtl  \" ><span class=\"plain rtl  \" ><span class=\"plain rtl  \" ><span class=\"h\">בְּנֵ֣י </span></span><span class=\"plain rtl  \" ><span class=\"h\">יֶ֔פֶת </span></span></span><span class=\"plain rtl  \" ><span class=\"plain rtl  \" ><span class=\"h\">גֹּ֣מֶר </span></span><span class=\"plain rtl  \" ><span class=\"h\">וּ</span></span><span class=\"plain rtl  \" ><span class=\"h\">מָגֹ֔וג </span></span><span class=\"plain rtl  \" ><span class=\"h\">וּ</span></span><span class=\"plain rtl  \" ><span class=\"h\">מָדַ֖י </span></span><span class=\"plain rtl  \" ><span class=\"h\">וְ</span></span><span class=\"plain rtl  \" ><span class=\"h\">יָוָ֣ן </span></span><span class=\"plain rtl  \" ><span class=\"h\">וְ</span></span><span class=\"plain rtl  \" ><span class=\"h\">תֻבָ֑ל </span></span><span class=\"plain rtl  \" ><span class=\"h\">וּ</span></span><span class=\"plain rtl  \" ><span class=\"h\">מֶ֖שֶׁךְ </span></span><span class=\"plain rtl  \" ><span class=\"h\">וְ</span></span><span class=\"plain rtl  \" ><span class=\"h\">תִירָֽס׃ ס </span></span></span></span></span></span></span></td></tr>\n",
       "<tr class=\"tf\"><td class=\"tf\">2</td><td class=\"tf\"> <a href=\"https://shebanq.ancient-data.org/hebrew/text?book=Chronica_I&amp;chapter=1&amp;verse=8&amp;version=c&amp;mr=m&amp;qw=q&amp;tp=txt_p&amp;tr=hb&amp;wget=v&amp;qget=v&amp;nget=vt\" title=\"show this passage in SHEBANQ\" sec=\"1_Chronicles 1:8\">1_Chronicles 1:8</a></td><td class=\"tf\"><span class=\"vrs ltr\"><a href=\"https://shebanq.ancient-data.org/hebrew/text?book=Genesis&amp;chapter=10&amp;verse=6&amp;version=c&amp;mr=m&amp;qw=q&amp;tp=txt_p&amp;tr=hb&amp;wget=v&amp;qget=v&amp;nget=vt\" title=\"show this passage in SHEBANQ\" sec=\"Genesis 10:6\">Genesis 10:6</a></span><span class=\"plain outer  rtl  \" ><span class=\"plain rtl \"><span class=\"plain rtl  \" ><span class=\"plain rtl  \" ><span class=\"plain rtl  \" ><span class=\"plain rtl  \" ><span class=\"h\">וּ</span></span></span><span class=\"plain rtl  \" ><span class=\"plain rtl  \" ><span class=\"h\">בְנֵ֖י </span></span><span class=\"plain rtl  \" ><span class=\"h\">חָ֑ם </span></span></span><span class=\"plain rtl  \" ><span class=\"plain rtl  \" ><span class=\"h\">כּ֥וּשׁ </span></span><span class=\"plain rtl  \" ><span class=\"h\">וּ</span></span><span class=\"plain rtl  \" ><span class=\"h\">מִצְרַ֖יִם </span></span><span class=\"plain rtl  \" ><span class=\"h\">וּ</span></span><span class=\"plain rtl  \" ><span class=\"h\">פ֥וּט </span></span><span class=\"plain rtl  \" ><span class=\"h\">וּ</span></span><span class=\"plain rtl  \" ><span class=\"h\">כְנָֽעַן׃ </span></span></span></span></span></span></span></td><td class=\"tf\"><span class=\"vrs ltr\"><a href=\"https://shebanq.ancient-data.org/hebrew/text?book=Chronica_I&amp;chapter=1&amp;verse=8&amp;version=c&amp;mr=m&amp;qw=q&amp;tp=txt_p&amp;tr=hb&amp;wget=v&amp;qget=v&amp;nget=vt\" title=\"show this passage in SHEBANQ\" sec=\"1_Chronicles 1:8\">1_Chronicles 1:8</a></span><span class=\"plain outer  rtl  \" ><span class=\"plain rtl \"><span class=\"plain rtl  \" ><span class=\"plain rtl  \" ><span class=\"plain rtl  \" ><span class=\"plain rtl  \" ><span class=\"h\">בְּנֵ֖י </span></span><span class=\"plain rtl  \" ><span class=\"h\">חָ֑ם </span></span></span><span class=\"plain rtl  \" ><span class=\"plain rtl  \" ><span class=\"h\">כּ֥וּשׁ </span></span><span class=\"plain rtl  \" ><span class=\"h\">וּ</span></span><span class=\"plain rtl  \" ><span class=\"h\">מִצְרַ֖יִם </span></span><span class=\"plain rtl  \" ><span class=\"h\">פּ֥וּט </span></span><span class=\"plain rtl  \" ><span class=\"h\">וּ</span></span><span class=\"plain rtl  \" ><span class=\"h\">כְנָֽעַן׃ </span></span></span></span></span></span></span></td></tr>\n",
       "<tr class=\"tf\"><td class=\"tf\">3</td><td class=\"tf\"> <a href=\"https://shebanq.ancient-data.org/hebrew/text?book=Chronica_I&amp;chapter=1&amp;verse=9&amp;version=c&amp;mr=m&amp;qw=q&amp;tp=txt_p&amp;tr=hb&amp;wget=v&amp;qget=v&amp;nget=vt\" title=\"show this passage in SHEBANQ\" sec=\"1_Chronicles 1:9\">1_Chronicles 1:9</a></td><td class=\"tf\"><span class=\"vrs ltr\"><a href=\"https://shebanq.ancient-data.org/hebrew/text?book=Genesis&amp;chapter=10&amp;verse=7&amp;version=c&amp;mr=m&amp;qw=q&amp;tp=txt_p&amp;tr=hb&amp;wget=v&amp;qget=v&amp;nget=vt\" title=\"show this passage in SHEBANQ\" sec=\"Genesis 10:7\">Genesis 10:7</a></span><span class=\"plain outer  rtl  \" ><span class=\"plain rtl \"><span class=\"plain rtl  \" ><span class=\"plain rtl  \" ><span class=\"plain rtl  \" ><span class=\"plain rtl  \" ><span class=\"h\">וּ</span></span></span><span class=\"plain rtl  \" ><span class=\"plain rtl  \" ><span class=\"h\">בְנֵ֣י </span></span><span class=\"plain rtl  \" ><span class=\"h\">כ֔וּשׁ </span></span></span><span class=\"plain rtl  \" ><span class=\"plain rtl  \" ><span class=\"h\">סְבָא֙ </span></span><span class=\"plain rtl  \" ><span class=\"h\">וַֽ</span></span><span class=\"plain rtl  \" ><span class=\"h\">חֲוִילָ֔ה </span></span><span class=\"plain rtl  \" ><span class=\"h\">וְ</span></span><span class=\"plain rtl  \" ><span class=\"h\">סַבְתָּ֥ה </span></span><span class=\"plain rtl  \" ><span class=\"h\">וְ</span></span><span class=\"plain rtl  \" ><span class=\"h\">רַעְמָ֖ה </span></span><span class=\"plain rtl  \" ><span class=\"h\">וְ</span></span><span class=\"plain rtl  \" ><span class=\"h\">סַבְתְּכָ֑א </span></span></span></span></span><span class=\"plain rtl  \" ><span class=\"plain rtl  \" ><span class=\"plain rtl  \" ><span class=\"plain rtl  \" ><span class=\"h\">וּ</span></span></span><span class=\"plain rtl  \" ><span class=\"plain rtl  \" ><span class=\"h\">בְנֵ֥י </span></span><span class=\"plain rtl  \" ><span class=\"h\">רַעְמָ֖ה </span></span></span><span class=\"plain rtl  \" ><span class=\"plain rtl  \" ><span class=\"h\">שְׁבָ֥א </span></span><span class=\"plain rtl  \" ><span class=\"h\">וּ</span></span><span class=\"plain rtl  \" ><span class=\"h\">דְדָֽן׃ </span></span></span></span></span></span></span></td><td class=\"tf\"><span class=\"vrs ltr\"><a href=\"https://shebanq.ancient-data.org/hebrew/text?book=Chronica_I&amp;chapter=1&amp;verse=9&amp;version=c&amp;mr=m&amp;qw=q&amp;tp=txt_p&amp;tr=hb&amp;wget=v&amp;qget=v&amp;nget=vt\" title=\"show this passage in SHEBANQ\" sec=\"1_Chronicles 1:9\">1_Chronicles 1:9</a></span><span class=\"plain outer  rtl  \" ><span class=\"plain rtl \"><span class=\"plain rtl  \" ><span class=\"plain rtl  \" ><span class=\"plain rtl  \" ><span class=\"plain rtl  \" ><span class=\"h\">וּ</span></span></span><span class=\"plain rtl  \" ><span class=\"plain rtl  \" ><span class=\"h\">בְנֵ֣י </span></span><span class=\"plain rtl  \" ><span class=\"h\">כ֔וּשׁ </span></span></span><span class=\"plain rtl  \" ><span class=\"plain rtl  \" ><span class=\"h\">סְבָא֙ </span></span><span class=\"plain rtl  \" ><span class=\"h\">וַ</span></span><span class=\"plain rtl  \" ><span class=\"h\">חֲוִילָ֔ה </span></span><span class=\"plain rtl  \" ><span class=\"h\">וְ</span></span><span class=\"plain rtl  \" ><span class=\"h\">סַבְתָּ֥א </span></span><span class=\"plain rtl  \" ><span class=\"h\">וְ</span></span><span class=\"plain rtl  \" ><span class=\"h\">רַעְמָ֖א </span></span><span class=\"plain rtl  \" ><span class=\"h\">וְ</span></span><span class=\"plain rtl  \" ><span class=\"h\">סַבְתְּכָ֑א </span></span></span></span></span><span class=\"plain rtl  \" ><span class=\"plain rtl  \" ><span class=\"plain rtl  \" ><span class=\"plain rtl  \" ><span class=\"h\">וּ</span></span></span><span class=\"plain rtl  \" ><span class=\"plain rtl  \" ><span class=\"h\">בְנֵ֥י </span></span><span class=\"plain rtl  \" ><span class=\"h\">רַעְמָ֖א </span></span></span><span class=\"plain rtl  \" ><span class=\"plain rtl  \" ><span class=\"h\">שְׁבָ֥א </span></span><span class=\"plain rtl  \" ><span class=\"h\">וּ</span></span><span class=\"plain rtl  \" ><span class=\"h\">דְדָֽן׃ ס </span></span></span></span></span></span></span></td></tr>\n",
       "<tr class=\"tf\"><td class=\"tf\">4</td><td class=\"tf\"> <a href=\"https://shebanq.ancient-data.org/hebrew/text?book=Chronica_I&amp;chapter=1&amp;verse=10&amp;version=c&amp;mr=m&amp;qw=q&amp;tp=txt_p&amp;tr=hb&amp;wget=v&amp;qget=v&amp;nget=vt\" title=\"show this passage in SHEBANQ\" sec=\"1_Chronicles 1:10\">1_Chronicles 1:10</a></td><td class=\"tf\"><span class=\"vrs ltr\"><a href=\"https://shebanq.ancient-data.org/hebrew/text?book=Genesis&amp;chapter=10&amp;verse=8&amp;version=c&amp;mr=m&amp;qw=q&amp;tp=txt_p&amp;tr=hb&amp;wget=v&amp;qget=v&amp;nget=vt\" title=\"show this passage in SHEBANQ\" sec=\"Genesis 10:8\">Genesis 10:8</a></span><span class=\"plain outer  rtl  \" ><span class=\"plain rtl \"><span class=\"plain rtl  \" ><span class=\"plain rtl  \" ><span class=\"plain rtl  \" ><span class=\"plain rtl  \" ><span class=\"h\">וְ</span></span></span><span class=\"plain rtl  \" ><span class=\"plain rtl  \" ><span class=\"h\">כ֖וּשׁ </span></span></span><span class=\"plain rtl  \" ><span class=\"plain rtl  \" ><span class=\"h\">יָלַ֣ד </span></span></span><span class=\"plain rtl  \" ><span class=\"plain rtl  \" ><span class=\"h\">אֶת־</span></span><span class=\"plain rtl  \" ><span class=\"h\">נִמְרֹ֑ד </span></span></span></span></span><span class=\"plain rtl  \" ><span class=\"plain rtl  \" ><span class=\"plain rtl  \" ><span class=\"plain rtl  \" ><span class=\"h\">ה֣וּא </span></span></span><span class=\"plain rtl  \" ><span class=\"plain rtl  \" ><span class=\"h\">הֵחֵ֔ל </span></span></span></span><span class=\"plain rtl  \" ><span class=\"plain rtl  \" ><span class=\"plain rtl  \" ><span class=\"h\">לִֽ</span></span><span class=\"plain rtl  \" ><span class=\"h\">הְיֹ֥ות </span></span></span><span class=\"plain rtl  \" ><span class=\"plain rtl  \" ><span class=\"h\">גִּבֹּ֖ר </span></span></span><span class=\"plain rtl  \" ><span class=\"plain rtl  \" ><span class=\"h\">בָּ</span></span><span class=\"plain rtl  \" ><span class=\"h\"></span></span><span class=\"plain rtl  \" ><span class=\"h\">אָֽרֶץ׃ </span></span></span></span></span></span></span></td><td class=\"tf\"><span class=\"vrs ltr\"><a href=\"https://shebanq.ancient-data.org/hebrew/text?book=Chronica_I&amp;chapter=1&amp;verse=10&amp;version=c&amp;mr=m&amp;qw=q&amp;tp=txt_p&amp;tr=hb&amp;wget=v&amp;qget=v&amp;nget=vt\" title=\"show this passage in SHEBANQ\" sec=\"1_Chronicles 1:10\">1_Chronicles 1:10</a></span><span class=\"plain outer  rtl  \" ><span class=\"plain rtl \"><span class=\"plain rtl  \" ><span class=\"plain rtl  \" ><span class=\"plain rtl  \" ><span class=\"plain rtl  \" ><span class=\"h\">וְ</span></span></span><span class=\"plain rtl  \" ><span class=\"plain rtl  \" ><span class=\"h\">כ֖וּשׁ </span></span></span><span class=\"plain rtl  \" ><span class=\"plain rtl  \" ><span class=\"h\">יָלַ֣ד </span></span></span><span class=\"plain rtl  \" ><span class=\"plain rtl  \" ><span class=\"h\">אֶת־</span></span><span class=\"plain rtl  \" ><span class=\"h\">נִמְרֹ֑וד </span></span></span></span></span><span class=\"plain rtl  \" ><span class=\"plain rtl  \" ><span class=\"plain rtl  \" ><span class=\"plain rtl  \" ><span class=\"h\">ה֣וּא </span></span></span><span class=\"plain rtl  \" ><span class=\"plain rtl  \" ><span class=\"h\">הֵחֵ֔ל </span></span></span></span><span class=\"plain rtl  \" ><span class=\"plain rtl  \" ><span class=\"plain rtl  \" ><span class=\"h\">לִ</span></span><span class=\"plain rtl  \" ><span class=\"h\">הְיֹ֥ות </span></span></span><span class=\"plain rtl  \" ><span class=\"plain rtl  \" ><span class=\"h\">גִּבֹּ֖ור </span></span></span><span class=\"plain rtl  \" ><span class=\"plain rtl  \" ><span class=\"h\">בָּ</span></span><span class=\"plain rtl  \" ><span class=\"h\"></span></span><span class=\"plain rtl  \" ><span class=\"h\">אָֽרֶץ׃ ס </span></span></span></span></span></span></span></td></tr>\n",
       "<tr class=\"tf\"><td class=\"tf\">5</td><td class=\"tf\"> <a href=\"https://shebanq.ancient-data.org/hebrew/text?book=Chronica_I&amp;chapter=1&amp;verse=11&amp;version=c&amp;mr=m&amp;qw=q&amp;tp=txt_p&amp;tr=hb&amp;wget=v&amp;qget=v&amp;nget=vt\" title=\"show this passage in SHEBANQ\" sec=\"1_Chronicles 1:11\">1_Chronicles 1:11</a></td><td class=\"tf\"><span class=\"vrs ltr\"><a href=\"https://shebanq.ancient-data.org/hebrew/text?book=Genesis&amp;chapter=10&amp;verse=13&amp;version=c&amp;mr=m&amp;qw=q&amp;tp=txt_p&amp;tr=hb&amp;wget=v&amp;qget=v&amp;nget=vt\" title=\"show this passage in SHEBANQ\" sec=\"Genesis 10:13\">Genesis 10:13</a></span><span class=\"plain outer  rtl  \" ><span class=\"plain rtl \"><span class=\"plain rtl  lno \" ><span class=\"plain rtl  \" ><span class=\"plain rtl  \" ><span class=\"plain rtl  \" ><span class=\"h\">וּ</span></span></span><span class=\"plain rtl  \" ><span class=\"plain rtl  \" ><span class=\"h\">מִצְרַ֡יִם </span></span></span><span class=\"plain rtl  \" ><span class=\"plain rtl  \" ><span class=\"h\">יָלַ֞ד </span></span></span><span class=\"plain rtl  \" ><span class=\"plain rtl  \" ><span class=\"h\">אֶת־</span></span><span class=\"plain rtl  \" ><span class=\"h\">לוּדִ֧ים </span></span><span class=\"plain rtl  \" ><span class=\"h\">וְ</span></span><span class=\"plain rtl  \" ><span class=\"h\">אֶת־</span></span><span class=\"plain rtl  \" ><span class=\"h\">עֲנָמִ֛ים </span></span><span class=\"plain rtl  \" ><span class=\"h\">וְ</span></span><span class=\"plain rtl  \" ><span class=\"h\">אֶת־</span></span><span class=\"plain rtl  \" ><span class=\"h\">לְהָבִ֖ים </span></span><span class=\"plain rtl  \" ><span class=\"h\">וְ</span></span><span class=\"plain rtl  \" ><span class=\"h\">אֶת־</span></span><span class=\"plain rtl  \" ><span class=\"h\">נַפְתֻּחִֽים׃ </span></span></span></span></span></span></span></td><td class=\"tf\"><span class=\"vrs ltr\"><a href=\"https://shebanq.ancient-data.org/hebrew/text?book=Chronica_I&amp;chapter=1&amp;verse=11&amp;version=c&amp;mr=m&amp;qw=q&amp;tp=txt_p&amp;tr=hb&amp;wget=v&amp;qget=v&amp;nget=vt\" title=\"show this passage in SHEBANQ\" sec=\"1_Chronicles 1:11\">1_Chronicles 1:11</a></span><span class=\"plain outer  rtl  \" ><span class=\"plain rtl \"><span class=\"plain rtl  lno \" ><span class=\"plain rtl  \" ><span class=\"plain rtl  \" ><span class=\"plain rtl  \" ><span class=\"h\">וּ</span></span></span><span class=\"plain rtl  \" ><span class=\"plain rtl  \" ><span class=\"h\">מִצְרַ֡יִם </span></span></span><span class=\"plain rtl  \" ><span class=\"plain rtl  \" ><span class=\"h\">יָלַ֞ד </span></span></span><span class=\"plain rtl  \" ><span class=\"plain rtl  \" ><span class=\"h\">אֶת־</span></span><span class=\"plain rtl  \" ><span class=\"h\">לוּדִ֧ים </span></span><span class=\"plain rtl  \" ><span class=\"h\">וְ</span></span><span class=\"plain rtl  \" ><span class=\"h\">אֶת־</span></span><span class=\"plain rtl  \" ><span class=\"h\">עֲנָמִ֛ים </span></span><span class=\"plain rtl  \" ><span class=\"h\">וְ</span></span><span class=\"plain rtl  \" ><span class=\"h\">אֶת־</span></span><span class=\"plain rtl  \" ><span class=\"h\">לְהָבִ֖ים </span></span><span class=\"plain rtl  \" ><span class=\"h\">וְ</span></span><span class=\"plain rtl  \" ><span class=\"h\">אֶת־</span></span><span class=\"plain rtl  \" ><span class=\"h\">נַפְתֻּחִֽים׃ </span></span></span></span></span></span></span></td></tr>\n",
       "<tr class=\"tf\"><td class=\"tf\">6</td><td class=\"tf\"> <a href=\"https://shebanq.ancient-data.org/hebrew/text?book=Chronica_I&amp;chapter=1&amp;verse=12&amp;version=c&amp;mr=m&amp;qw=q&amp;tp=txt_p&amp;tr=hb&amp;wget=v&amp;qget=v&amp;nget=vt\" title=\"show this passage in SHEBANQ\" sec=\"1_Chronicles 1:12\">1_Chronicles 1:12</a></td><td class=\"tf\"><span class=\"vrs ltr\"><a href=\"https://shebanq.ancient-data.org/hebrew/text?book=Genesis&amp;chapter=10&amp;verse=14&amp;version=c&amp;mr=m&amp;qw=q&amp;tp=txt_p&amp;tr=hb&amp;wget=v&amp;qget=v&amp;nget=vt\" title=\"show this passage in SHEBANQ\" sec=\"Genesis 10:14\">Genesis 10:14</a></span><span class=\"plain outer  rtl  \" ><span class=\"plain rtl \"><span class=\"plain rtl  rno \" ><span class=\"plain rtl  \" ><span class=\"plain rtl  \" ><span class=\"plain rtl  \" ><span class=\"h\">וְֽ</span></span></span><span class=\"plain rtl  \" ><span class=\"plain rtl  \" ><span class=\"h\">אֶת־</span></span><span class=\"plain rtl  \" ><span class=\"h\">פַּתְרֻסִ֞ים </span></span><span class=\"plain rtl  \" ><span class=\"h\">וְ</span></span><span class=\"plain rtl  \" ><span class=\"h\">אֶת־</span></span><span class=\"plain rtl  \" ><span class=\"h\">כַּסְלֻחִ֗ים </span></span></span></span><span class=\"plain rtl  \" ><span class=\"plain rtl  \" ><span class=\"plain rtl  \" ><span class=\"h\">אֲשֶׁ֨ר </span></span></span><span class=\"plain rtl  \" ><span class=\"plain rtl  \" ><span class=\"h\">יָצְא֥וּ </span></span></span><span class=\"plain rtl  \" ><span class=\"plain rtl  \" ><span class=\"h\">מִ</span></span><span class=\"plain rtl  \" ><span class=\"h\">שָּׁ֛ם </span></span></span><span class=\"plain rtl  \" ><span class=\"plain rtl  \" ><span class=\"h\">פְּלִשְׁתִּ֖ים </span></span></span></span><span class=\"plain rtl  \" ><span class=\"plain rtl  \" ><span class=\"plain rtl  \" ><span class=\"h\">וְ</span></span></span><span class=\"plain rtl  \" ><span class=\"plain rtl  \" ><span class=\"h\">אֶת־</span></span><span class=\"plain rtl  \" ><span class=\"h\">כַּפְתֹּרִֽים׃ ס </span></span></span></span></span></span></span></td><td class=\"tf\"><span class=\"vrs ltr\"><a href=\"https://shebanq.ancient-data.org/hebrew/text?book=Chronica_I&amp;chapter=1&amp;verse=12&amp;version=c&amp;mr=m&amp;qw=q&amp;tp=txt_p&amp;tr=hb&amp;wget=v&amp;qget=v&amp;nget=vt\" title=\"show this passage in SHEBANQ\" sec=\"1_Chronicles 1:12\">1_Chronicles 1:12</a></span><span class=\"plain outer  rtl  \" ><span class=\"plain rtl \"><span class=\"plain rtl  rno \" ><span class=\"plain rtl  \" ><span class=\"plain rtl  \" ><span class=\"plain rtl  \" ><span class=\"h\">וְֽ</span></span></span><span class=\"plain rtl  \" ><span class=\"plain rtl  \" ><span class=\"h\">אֶת־</span></span><span class=\"plain rtl  \" ><span class=\"h\">פַּתְרֻסִ֞ים </span></span><span class=\"plain rtl  \" ><span class=\"h\">וְ</span></span><span class=\"plain rtl  \" ><span class=\"h\">אֶת־</span></span><span class=\"plain rtl  \" ><span class=\"h\">כַּסְלֻחִ֗ים </span></span></span></span><span class=\"plain rtl  \" ><span class=\"plain rtl  \" ><span class=\"plain rtl  \" ><span class=\"h\">אֲשֶׁ֨ר </span></span></span><span class=\"plain rtl  \" ><span class=\"plain rtl  \" ><span class=\"h\">יָצְא֥וּ </span></span></span><span class=\"plain rtl  \" ><span class=\"plain rtl  \" ><span class=\"h\">מִ</span></span><span class=\"plain rtl  \" ><span class=\"h\">שָּׁ֛ם </span></span></span><span class=\"plain rtl  \" ><span class=\"plain rtl  \" ><span class=\"h\">פְּלִשְׁתִּ֖ים </span></span></span></span><span class=\"plain rtl  \" ><span class=\"plain rtl  \" ><span class=\"plain rtl  \" ><span class=\"h\">וְ</span></span></span><span class=\"plain rtl  \" ><span class=\"plain rtl  \" ><span class=\"h\">אֶת־</span></span><span class=\"plain rtl  \" ><span class=\"h\">כַּפְתֹּרִֽים׃ ס </span></span></span></span></span></span></span></td></tr>\n",
       "<tr class=\"tf\"><td class=\"tf\">7</td><td class=\"tf\"> <a href=\"https://shebanq.ancient-data.org/hebrew/text?book=Chronica_I&amp;chapter=1&amp;verse=13&amp;version=c&amp;mr=m&amp;qw=q&amp;tp=txt_p&amp;tr=hb&amp;wget=v&amp;qget=v&amp;nget=vt\" title=\"show this passage in SHEBANQ\" sec=\"1_Chronicles 1:13\">1_Chronicles 1:13</a></td><td class=\"tf\"><span class=\"vrs ltr\"><a href=\"https://shebanq.ancient-data.org/hebrew/text?book=Genesis&amp;chapter=10&amp;verse=15&amp;version=c&amp;mr=m&amp;qw=q&amp;tp=txt_p&amp;tr=hb&amp;wget=v&amp;qget=v&amp;nget=vt\" title=\"show this passage in SHEBANQ\" sec=\"Genesis 10:15\">Genesis 10:15</a></span><span class=\"plain outer  rtl  \" ><span class=\"plain rtl \"><span class=\"plain rtl  lno \" ><span class=\"plain rtl  \" ><span class=\"plain rtl  \" ><span class=\"plain rtl  \" ><span class=\"h\">וּ</span></span></span><span class=\"plain rtl  \" ><span class=\"plain rtl  \" ><span class=\"h\">כְנַ֗עַן </span></span></span><span class=\"plain rtl  \" ><span class=\"plain rtl  \" ><span class=\"h\">יָלַ֛ד </span></span></span><span class=\"plain rtl  \" ><span class=\"plain rtl  \" ><span class=\"h\">אֶת־</span></span><span class=\"plain rtl  \" ><span class=\"h\">צִידֹ֥ן </span></span></span><span class=\"plain rtl  \" ><span class=\"plain rtl  \" ><span class=\"h\">בְּכֹרֹ֖ו </span></span></span><span class=\"plain rtl  \" ><span class=\"plain rtl  \" ><span class=\"h\">וְ</span></span></span><span class=\"plain rtl  \" ><span class=\"plain rtl  \" ><span class=\"h\">אֶת־</span></span><span class=\"plain rtl  \" ><span class=\"h\">חֵֽת׃ </span></span></span></span></span></span></span></td><td class=\"tf\"><span class=\"vrs ltr\"><a href=\"https://shebanq.ancient-data.org/hebrew/text?book=Chronica_I&amp;chapter=1&amp;verse=13&amp;version=c&amp;mr=m&amp;qw=q&amp;tp=txt_p&amp;tr=hb&amp;wget=v&amp;qget=v&amp;nget=vt\" title=\"show this passage in SHEBANQ\" sec=\"1_Chronicles 1:13\">1_Chronicles 1:13</a></span><span class=\"plain outer  rtl  \" ><span class=\"plain rtl \"><span class=\"plain rtl  lno \" ><span class=\"plain rtl  \" ><span class=\"plain rtl  \" ><span class=\"plain rtl  \" ><span class=\"h\">וּ</span></span></span><span class=\"plain rtl  \" ><span class=\"plain rtl  \" ><span class=\"h\">כְנַ֗עַן </span></span></span><span class=\"plain rtl  \" ><span class=\"plain rtl  \" ><span class=\"h\">יָלַ֛ד </span></span></span><span class=\"plain rtl  \" ><span class=\"plain rtl  \" ><span class=\"h\">אֶת־</span></span><span class=\"plain rtl  \" ><span class=\"h\">צִידֹ֥ון </span></span></span><span class=\"plain rtl  \" ><span class=\"plain rtl  \" ><span class=\"h\">בְּכֹרֹ֖ו </span></span></span><span class=\"plain rtl  \" ><span class=\"plain rtl  \" ><span class=\"h\">וְ</span></span></span><span class=\"plain rtl  \" ><span class=\"plain rtl  \" ><span class=\"h\">אֶת־</span></span><span class=\"plain rtl  \" ><span class=\"h\">חֵֽת׃ </span></span></span></span></span></span></span></td></tr>\n",
       "<tr class=\"tf\"><td class=\"tf\">8</td><td class=\"tf\"> <a href=\"https://shebanq.ancient-data.org/hebrew/text?book=Chronica_I&amp;chapter=1&amp;verse=14&amp;version=c&amp;mr=m&amp;qw=q&amp;tp=txt_p&amp;tr=hb&amp;wget=v&amp;qget=v&amp;nget=vt\" title=\"show this passage in SHEBANQ\" sec=\"1_Chronicles 1:14\">1_Chronicles 1:14</a></td><td class=\"tf\"><span class=\"vrs ltr\"><a href=\"https://shebanq.ancient-data.org/hebrew/text?book=Genesis&amp;chapter=10&amp;verse=16&amp;version=c&amp;mr=m&amp;qw=q&amp;tp=txt_p&amp;tr=hb&amp;wget=v&amp;qget=v&amp;nget=vt\" title=\"show this passage in SHEBANQ\" sec=\"Genesis 10:16\">Genesis 10:16</a></span><span class=\"plain outer  rtl  \" ><span class=\"plain rtl \"><span class=\"plain rtl  rno lno \" ><span class=\"plain rtl  \" ><span class=\"plain rtl  \" ><span class=\"plain rtl  \" ><span class=\"h\">וְ</span></span></span><span class=\"plain rtl  \" ><span class=\"plain rtl  \" ><span class=\"h\">אֶת־</span></span><span class=\"plain rtl  \" ><span class=\"h\">הַ</span></span><span class=\"plain rtl  \" ><span class=\"h\">יְבוּסִי֙ </span></span><span class=\"plain rtl  \" ><span class=\"h\">וְ</span></span><span class=\"plain rtl  \" ><span class=\"h\">אֶת־</span></span><span class=\"plain rtl  \" ><span class=\"h\">הָ֣</span></span><span class=\"plain rtl  \" ><span class=\"h\">אֱמֹרִ֔י </span></span><span class=\"plain rtl  \" ><span class=\"h\">וְ</span></span><span class=\"plain rtl  \" ><span class=\"h\">אֵ֖ת </span></span><span class=\"plain rtl  \" ><span class=\"h\">הַ</span></span><span class=\"plain rtl  \" ><span class=\"h\">גִּרְגָּשִֽׁי׃ </span></span></span></span></span></span></span></td><td class=\"tf\"><span class=\"vrs ltr\"><a href=\"https://shebanq.ancient-data.org/hebrew/text?book=Chronica_I&amp;chapter=1&amp;verse=14&amp;version=c&amp;mr=m&amp;qw=q&amp;tp=txt_p&amp;tr=hb&amp;wget=v&amp;qget=v&amp;nget=vt\" title=\"show this passage in SHEBANQ\" sec=\"1_Chronicles 1:14\">1_Chronicles 1:14</a></span><span class=\"plain outer  rtl  \" ><span class=\"plain rtl \"><span class=\"plain rtl  rno lno \" ><span class=\"plain rtl  \" ><span class=\"plain rtl  \" ><span class=\"plain rtl  \" ><span class=\"h\">וְ</span></span></span><span class=\"plain rtl  \" ><span class=\"plain rtl  \" ><span class=\"h\">אֶת־</span></span><span class=\"plain rtl  \" ><span class=\"h\">הַ</span></span><span class=\"plain rtl  \" ><span class=\"h\">יְבוּסִי֙ </span></span><span class=\"plain rtl  \" ><span class=\"h\">וְ</span></span><span class=\"plain rtl  \" ><span class=\"h\">אֶת־</span></span><span class=\"plain rtl  \" ><span class=\"h\">הָ֣</span></span><span class=\"plain rtl  \" ><span class=\"h\">אֱמֹרִ֔י </span></span><span class=\"plain rtl  \" ><span class=\"h\">וְ</span></span><span class=\"plain rtl  \" ><span class=\"h\">אֵ֖ת </span></span><span class=\"plain rtl  \" ><span class=\"h\">הַ</span></span><span class=\"plain rtl  \" ><span class=\"h\">גִּרְגָּשִֽׁי׃ </span></span></span></span></span></span></span></td></tr>\n",
       "<tr class=\"tf\"><td class=\"tf\">9</td><td class=\"tf\"> <a href=\"https://shebanq.ancient-data.org/hebrew/text?book=Chronica_I&amp;chapter=1&amp;verse=15&amp;version=c&amp;mr=m&amp;qw=q&amp;tp=txt_p&amp;tr=hb&amp;wget=v&amp;qget=v&amp;nget=vt\" title=\"show this passage in SHEBANQ\" sec=\"1_Chronicles 1:15\">1_Chronicles 1:15</a></td><td class=\"tf\"><span class=\"vrs ltr\"><a href=\"https://shebanq.ancient-data.org/hebrew/text?book=Genesis&amp;chapter=10&amp;verse=17&amp;version=c&amp;mr=m&amp;qw=q&amp;tp=txt_p&amp;tr=hb&amp;wget=v&amp;qget=v&amp;nget=vt\" title=\"show this passage in SHEBANQ\" sec=\"Genesis 10:17\">Genesis 10:17</a></span><span class=\"plain outer  rtl  \" ><span class=\"plain rtl \"><span class=\"plain rtl  rno lno \" ><span class=\"plain rtl  \" ><span class=\"plain rtl  \" ><span class=\"plain rtl  \" ><span class=\"h\">וְ</span></span></span><span class=\"plain rtl  \" ><span class=\"plain rtl  \" ><span class=\"h\">אֶת־</span></span><span class=\"plain rtl  \" ><span class=\"h\">הַֽ</span></span><span class=\"plain rtl  \" ><span class=\"h\">חִוִּ֥י </span></span><span class=\"plain rtl  \" ><span class=\"h\">וְ</span></span><span class=\"plain rtl  \" ><span class=\"h\">אֶת־</span></span><span class=\"plain rtl  \" ><span class=\"h\">הַֽ</span></span><span class=\"plain rtl  \" ><span class=\"h\">עַרְקִ֖י </span></span><span class=\"plain rtl  \" ><span class=\"h\">וְ</span></span><span class=\"plain rtl  \" ><span class=\"h\">אֶת־</span></span><span class=\"plain rtl  \" ><span class=\"h\">הַ</span></span><span class=\"plain rtl  \" ><span class=\"h\">סִּינִֽי׃ </span></span></span></span></span></span></span></td><td class=\"tf\"><span class=\"vrs ltr\"><a href=\"https://shebanq.ancient-data.org/hebrew/text?book=Chronica_I&amp;chapter=1&amp;verse=15&amp;version=c&amp;mr=m&amp;qw=q&amp;tp=txt_p&amp;tr=hb&amp;wget=v&amp;qget=v&amp;nget=vt\" title=\"show this passage in SHEBANQ\" sec=\"1_Chronicles 1:15\">1_Chronicles 1:15</a></span><span class=\"plain outer  rtl  \" ><span class=\"plain rtl \"><span class=\"plain rtl  rno lno \" ><span class=\"plain rtl  \" ><span class=\"plain rtl  \" ><span class=\"plain rtl  \" ><span class=\"h\">וְ</span></span></span><span class=\"plain rtl  \" ><span class=\"plain rtl  \" ><span class=\"h\">אֶת־</span></span><span class=\"plain rtl  \" ><span class=\"h\">הַ</span></span><span class=\"plain rtl  \" ><span class=\"h\">חִוִּ֥י </span></span><span class=\"plain rtl  \" ><span class=\"h\">וְ</span></span><span class=\"plain rtl  \" ><span class=\"h\">אֶת־</span></span><span class=\"plain rtl  \" ><span class=\"h\">הַֽ</span></span><span class=\"plain rtl  \" ><span class=\"h\">עַרְקִ֖י </span></span><span class=\"plain rtl  \" ><span class=\"h\">וְ</span></span><span class=\"plain rtl  \" ><span class=\"h\">אֶת־</span></span><span class=\"plain rtl  \" ><span class=\"h\">הַ</span></span><span class=\"plain rtl  \" ><span class=\"h\">סִּינִֽי׃ </span></span></span></span></span></span></span></td></tr>\n",
       "<tr class=\"tf\"><td class=\"tf\">10</td><td class=\"tf\"> <a href=\"https://shebanq.ancient-data.org/hebrew/text?book=Chronica_I&amp;chapter=1&amp;verse=18&amp;version=c&amp;mr=m&amp;qw=q&amp;tp=txt_p&amp;tr=hb&amp;wget=v&amp;qget=v&amp;nget=vt\" title=\"show this passage in SHEBANQ\" sec=\"1_Chronicles 1:18\">1_Chronicles 1:18</a></td><td class=\"tf\"><span class=\"vrs ltr\"><a href=\"https://shebanq.ancient-data.org/hebrew/text?book=Genesis&amp;chapter=10&amp;verse=24&amp;version=c&amp;mr=m&amp;qw=q&amp;tp=txt_p&amp;tr=hb&amp;wget=v&amp;qget=v&amp;nget=vt\" title=\"show this passage in SHEBANQ\" sec=\"Genesis 10:24\">Genesis 10:24</a></span><span class=\"plain outer  rtl  \" ><span class=\"plain rtl \"><span class=\"plain rtl  \" ><span class=\"plain rtl  \" ><span class=\"plain rtl  \" ><span class=\"plain rtl  \" ><span class=\"h\">וְ</span></span></span><span class=\"plain rtl  \" ><span class=\"plain rtl  \" ><span class=\"h\">אַרְפַּכְשַׁ֖ד </span></span></span><span class=\"plain rtl  \" ><span class=\"plain rtl  \" ><span class=\"h\">יָלַ֣ד </span></span></span><span class=\"plain rtl  \" ><span class=\"plain rtl  \" ><span class=\"h\">אֶת־</span></span><span class=\"plain rtl  \" ><span class=\"h\">שָׁ֑לַח </span></span></span></span></span><span class=\"plain rtl  \" ><span class=\"plain rtl  \" ><span class=\"plain rtl  \" ><span class=\"plain rtl  \" ><span class=\"h\">וְ</span></span></span><span class=\"plain rtl  \" ><span class=\"plain rtl  \" ><span class=\"h\">שֶׁ֖לַח </span></span></span><span class=\"plain rtl  \" ><span class=\"plain rtl  \" ><span class=\"h\">יָלַ֥ד </span></span></span><span class=\"plain rtl  \" ><span class=\"plain rtl  \" ><span class=\"h\">אֶת־</span></span><span class=\"plain rtl  \" ><span class=\"h\">עֵֽבֶר׃ </span></span></span></span></span></span></span></td><td class=\"tf\"><span class=\"vrs ltr\"><a href=\"https://shebanq.ancient-data.org/hebrew/text?book=Chronica_I&amp;chapter=1&amp;verse=18&amp;version=c&amp;mr=m&amp;qw=q&amp;tp=txt_p&amp;tr=hb&amp;wget=v&amp;qget=v&amp;nget=vt\" title=\"show this passage in SHEBANQ\" sec=\"1_Chronicles 1:18\">1_Chronicles 1:18</a></span><span class=\"plain outer  rtl  \" ><span class=\"plain rtl \"><span class=\"plain rtl  \" ><span class=\"plain rtl  \" ><span class=\"plain rtl  \" ><span class=\"plain rtl  \" ><span class=\"h\">וְ</span></span></span><span class=\"plain rtl  \" ><span class=\"plain rtl  \" ><span class=\"h\">אַרְפַּכְשַׁ֖ד </span></span></span><span class=\"plain rtl  \" ><span class=\"plain rtl  \" ><span class=\"h\">יָלַ֣ד </span></span></span><span class=\"plain rtl  \" ><span class=\"plain rtl  \" ><span class=\"h\">אֶת־</span></span><span class=\"plain rtl  \" ><span class=\"h\">שָׁ֑לַח </span></span></span></span></span><span class=\"plain rtl  \" ><span class=\"plain rtl  \" ><span class=\"plain rtl  \" ><span class=\"plain rtl  \" ><span class=\"h\">וְ</span></span></span><span class=\"plain rtl  \" ><span class=\"plain rtl  \" ><span class=\"h\">שֶׁ֖לַח </span></span></span><span class=\"plain rtl  \" ><span class=\"plain rtl  \" ><span class=\"h\">יָלַ֥ד </span></span></span><span class=\"plain rtl  \" ><span class=\"plain rtl  \" ><span class=\"h\">אֶת־</span></span><span class=\"plain rtl  \" ><span class=\"h\">עֵֽבֶר׃ </span></span></span></span></span></span></span></td></tr></table>"
      ],
      "text/plain": [
       "<IPython.core.display.HTML object>"
      ]
     },
     "metadata": {},
     "output_type": "display_data"
    }
   ],
   "source": [
    "query = '''\n",
    "v:verse\n",
    "-crossref>95> w:verse\n",
    "v < w\n",
    "'''\n",
    "results = A.search(query)\n",
    "A.table(results, end=10)"
   ]
  },
  {
   "cell_type": "markdown",
   "metadata": {},
   "source": [
    "If we want to inspect the cases with a lower similarity:"
   ]
  },
  {
   "cell_type": "code",
   "execution_count": 22,
   "metadata": {
    "ExecuteTime": {
     "end_time": "2018-05-24T08:00:43.547559Z",
     "start_time": "2018-05-24T08:00:43.379437Z"
    }
   },
   "outputs": [
    {
     "name": "stdout",
     "output_type": "stream",
     "text": [
      "  0.08s 2672 results\n"
     ]
    },
    {
     "data": {
      "text/html": [
       "<table>\n",
       "<tr class=\"tf\">\n",
       "  <th class=\"tf\">n</th><th class=\"tf\">p</th>\n",
       "  <th class=\"tf\">verse</th><th>verse</th>\n",
       "</tr>\n",
       "\n",
       "<tr class=\"tf\"><td class=\"tf\">1</td><td class=\"tf\"> <a href=\"https://shebanq.ancient-data.org/hebrew/text?book=Genesis&amp;chapter=1&amp;verse=17&amp;version=c&amp;mr=m&amp;qw=q&amp;tp=txt_p&amp;tr=hb&amp;wget=v&amp;qget=v&amp;nget=vt\" title=\"show this passage in SHEBANQ\" sec=\"Genesis 1:17\">Genesis 1:17</a></td><td class=\"tf\"><span class=\"vrs ltr\"><a href=\"https://shebanq.ancient-data.org/hebrew/text?book=Genesis&amp;chapter=1&amp;verse=15&amp;version=c&amp;mr=m&amp;qw=q&amp;tp=txt_p&amp;tr=hb&amp;wget=v&amp;qget=v&amp;nget=vt\" title=\"show this passage in SHEBANQ\" sec=\"Genesis 1:15\">Genesis 1:15</a></span><span class=\"plain outer  rtl  \" ><span class=\"plain rtl \"><span class=\"plain rtl  \" ><span class=\"plain rtl  \" ><span class=\"plain rtl  \" ><span class=\"plain rtl  \" ><span class=\"h\">וְ</span></span></span><span class=\"plain rtl  \" ><span class=\"plain rtl  \" ><span class=\"h\">הָי֤וּ </span></span></span><span class=\"plain rtl  \" ><span class=\"plain rtl  \" ><span class=\"h\">לִ</span></span><span class=\"plain rtl  \" ><span class=\"h\">מְאֹורֹת֙ </span></span></span><span class=\"plain rtl  \" ><span class=\"plain rtl  \" ><span class=\"h\">בִּ</span></span><span class=\"plain rtl  \" ><span class=\"h\">רְקִ֣יעַ </span></span><span class=\"plain rtl  \" ><span class=\"h\">הַ</span></span><span class=\"plain rtl  \" ><span class=\"h\">שָּׁמַ֔יִם </span></span></span></span><span class=\"plain rtl  \" ><span class=\"plain rtl  \" ><span class=\"plain rtl  \" ><span class=\"h\">לְ</span></span><span class=\"plain rtl  \" ><span class=\"h\">הָאִ֖יר </span></span></span><span class=\"plain rtl  \" ><span class=\"plain rtl  \" ><span class=\"h\">עַל־</span></span><span class=\"plain rtl  \" ><span class=\"h\">הָ</span></span><span class=\"plain rtl  \" ><span class=\"h\">אָ֑רֶץ </span></span></span></span></span><span class=\"plain rtl  \" ><span class=\"plain rtl  \" ><span class=\"plain rtl  \" ><span class=\"plain rtl  \" ><span class=\"h\">וַֽ</span></span></span><span class=\"plain rtl  \" ><span class=\"plain rtl  \" ><span class=\"h\">יְהִי־</span></span></span><span class=\"plain rtl  \" ><span class=\"plain rtl  \" ><span class=\"h\">כֵֽן׃ </span></span></span></span></span></span></span></td><td class=\"tf\"><span class=\"vrs ltr\"><a href=\"https://shebanq.ancient-data.org/hebrew/text?book=Genesis&amp;chapter=1&amp;verse=17&amp;version=c&amp;mr=m&amp;qw=q&amp;tp=txt_p&amp;tr=hb&amp;wget=v&amp;qget=v&amp;nget=vt\" title=\"show this passage in SHEBANQ\" sec=\"Genesis 1:17\">Genesis 1:17</a></span><span class=\"plain outer  rtl  \" ><span class=\"plain rtl \"><span class=\"plain rtl  lno \" ><span class=\"plain rtl  \" ><span class=\"plain rtl  \" ><span class=\"plain rtl  \" ><span class=\"h\">וַ</span></span></span><span class=\"plain rtl  \" ><span class=\"plain rtl  \" ><span class=\"h\">יִּתֵּ֥ן </span></span></span><span class=\"plain rtl  \" ><span class=\"plain rtl  \" ><span class=\"h\">אֹתָ֛ם </span></span></span><span class=\"plain rtl  \" ><span class=\"plain rtl  \" ><span class=\"h\">אֱלֹהִ֖ים </span></span></span><span class=\"plain rtl  \" ><span class=\"plain rtl  \" ><span class=\"h\">בִּ</span></span><span class=\"plain rtl  \" ><span class=\"h\">רְקִ֣יעַ </span></span><span class=\"plain rtl  \" ><span class=\"h\">הַ</span></span><span class=\"plain rtl  \" ><span class=\"h\">שָּׁמָ֑יִם </span></span></span></span><span class=\"plain rtl  \" ><span class=\"plain rtl  \" ><span class=\"plain rtl  \" ><span class=\"h\">לְ</span></span><span class=\"plain rtl  \" ><span class=\"h\">הָאִ֖יר </span></span></span><span class=\"plain rtl  \" ><span class=\"plain rtl  \" ><span class=\"h\">עַל־</span></span><span class=\"plain rtl  \" ><span class=\"h\">הָ</span></span><span class=\"plain rtl  \" ><span class=\"h\">אָֽרֶץ׃ </span></span></span></span></span></span></span></td></tr>\n",
       "<tr class=\"tf\"><td class=\"tf\">2</td><td class=\"tf\"> <a href=\"https://shebanq.ancient-data.org/hebrew/text?book=Genesis&amp;chapter=5&amp;verse=7&amp;version=c&amp;mr=m&amp;qw=q&amp;tp=txt_p&amp;tr=hb&amp;wget=v&amp;qget=v&amp;nget=vt\" title=\"show this passage in SHEBANQ\" sec=\"Genesis 5:7\">Genesis 5:7</a></td><td class=\"tf\"><span class=\"vrs ltr\"><a href=\"https://shebanq.ancient-data.org/hebrew/text?book=Genesis&amp;chapter=5&amp;verse=4&amp;version=c&amp;mr=m&amp;qw=q&amp;tp=txt_p&amp;tr=hb&amp;wget=v&amp;qget=v&amp;nget=vt\" title=\"show this passage in SHEBANQ\" sec=\"Genesis 5:4\">Genesis 5:4</a></span><span class=\"plain outer  rtl  \" ><span class=\"plain rtl \"><span class=\"plain rtl  \" ><span class=\"plain rtl  \" ><span class=\"plain rtl  \" ><span class=\"plain rtl  \" ><span class=\"h\">וַ</span></span></span><span class=\"plain rtl  \" ><span class=\"plain rtl  \" ><span class=\"h\">יִּֽהְי֣וּ </span></span></span><span class=\"plain rtl  \" ><span class=\"plain rtl  \" ><span class=\"h\">יְמֵי־</span></span><span class=\"plain rtl  \" ><span class=\"h\">אָדָ֗ם </span></span></span></span><span class=\"plain rtl  \" ><span class=\"plain rtl  \" ><span class=\"plain rtl  \" ><span class=\"h\">אַֽחֲרֵי֙ </span></span><span class=\"plain rtl  \" ><span class=\"h\">הֹולִידֹ֣ו </span></span></span><span class=\"plain rtl  \" ><span class=\"plain rtl  \" ><span class=\"h\">אֶת־</span></span><span class=\"plain rtl  \" ><span class=\"h\">שֵׁ֔ת </span></span></span></span><span class=\"plain rtl  \" ><span class=\"plain rtl  \" ><span class=\"plain rtl  \" ><span class=\"h\">שְׁמֹנֶ֥ה </span></span><span class=\"plain rtl  \" ><span class=\"h\">מֵאֹ֖ת </span></span><span class=\"plain rtl  \" ><span class=\"h\">שָׁנָ֑ה </span></span></span></span></span><span class=\"plain rtl  \" ><span class=\"plain rtl  \" ><span class=\"plain rtl  \" ><span class=\"plain rtl  \" ><span class=\"h\">וַ</span></span></span><span class=\"plain rtl  \" ><span class=\"plain rtl  \" ><span class=\"h\">יֹּ֥ולֶד </span></span></span><span class=\"plain rtl  \" ><span class=\"plain rtl  \" ><span class=\"h\">בָּנִ֖ים </span></span><span class=\"plain rtl  \" ><span class=\"h\">וּ</span></span><span class=\"plain rtl  \" ><span class=\"h\">בָנֹֽות׃ </span></span></span></span></span></span></span></td><td class=\"tf\"><span class=\"vrs ltr\"><a href=\"https://shebanq.ancient-data.org/hebrew/text?book=Genesis&amp;chapter=5&amp;verse=7&amp;version=c&amp;mr=m&amp;qw=q&amp;tp=txt_p&amp;tr=hb&amp;wget=v&amp;qget=v&amp;nget=vt\" title=\"show this passage in SHEBANQ\" sec=\"Genesis 5:7\">Genesis 5:7</a></span><span class=\"plain outer  rtl  \" ><span class=\"plain rtl \"><span class=\"plain rtl  \" ><span class=\"plain rtl  \" ><span class=\"plain rtl  \" ><span class=\"plain rtl  \" ><span class=\"h\">וַֽ</span></span></span><span class=\"plain rtl  \" ><span class=\"plain rtl  \" ><span class=\"h\">יְחִי־</span></span></span><span class=\"plain rtl  \" ><span class=\"plain rtl  \" ><span class=\"h\">שֵׁ֗ת </span></span></span></span><span class=\"plain rtl  \" ><span class=\"plain rtl  \" ><span class=\"plain rtl  \" ><span class=\"h\">אַֽחֲרֵי֙ </span></span><span class=\"plain rtl  \" ><span class=\"h\">הֹולִידֹ֣ו </span></span></span><span class=\"plain rtl  \" ><span class=\"plain rtl  \" ><span class=\"h\">אֶת־</span></span><span class=\"plain rtl  \" ><span class=\"h\">אֱנֹ֔ושׁ </span></span></span></span><span class=\"plain rtl  \" ><span class=\"plain rtl  \" ><span class=\"plain rtl  \" ><span class=\"h\">שֶׁ֣בַע </span></span><span class=\"plain rtl  \" ><span class=\"h\">שָׁנִ֔ים </span></span><span class=\"plain rtl  \" ><span class=\"h\">וּ</span></span><span class=\"plain rtl  \" ><span class=\"h\">שְׁמֹנֶ֥ה </span></span><span class=\"plain rtl  \" ><span class=\"h\">מֵאֹ֖ות </span></span><span class=\"plain rtl  \" ><span class=\"h\">שָׁנָ֑ה </span></span></span></span></span><span class=\"plain rtl  \" ><span class=\"plain rtl  \" ><span class=\"plain rtl  \" ><span class=\"plain rtl  \" ><span class=\"h\">וַ</span></span></span><span class=\"plain rtl  \" ><span class=\"plain rtl  \" ><span class=\"h\">יֹּ֥ולֶד </span></span></span><span class=\"plain rtl  \" ><span class=\"plain rtl  \" ><span class=\"h\">בָּנִ֖ים </span></span><span class=\"plain rtl  \" ><span class=\"h\">וּ</span></span><span class=\"plain rtl  \" ><span class=\"h\">בָנֹֽות׃ </span></span></span></span></span></span></span></td></tr>\n",
       "<tr class=\"tf\"><td class=\"tf\">3</td><td class=\"tf\"> <a href=\"https://shebanq.ancient-data.org/hebrew/text?book=Genesis&amp;chapter=5&amp;verse=13&amp;version=c&amp;mr=m&amp;qw=q&amp;tp=txt_p&amp;tr=hb&amp;wget=v&amp;qget=v&amp;nget=vt\" title=\"show this passage in SHEBANQ\" sec=\"Genesis 5:13\">Genesis 5:13</a></td><td class=\"tf\"><span class=\"vrs ltr\"><a href=\"https://shebanq.ancient-data.org/hebrew/text?book=Genesis&amp;chapter=5&amp;verse=4&amp;version=c&amp;mr=m&amp;qw=q&amp;tp=txt_p&amp;tr=hb&amp;wget=v&amp;qget=v&amp;nget=vt\" title=\"show this passage in SHEBANQ\" sec=\"Genesis 5:4\">Genesis 5:4</a></span><span class=\"plain outer  rtl  \" ><span class=\"plain rtl \"><span class=\"plain rtl  \" ><span class=\"plain rtl  \" ><span class=\"plain rtl  \" ><span class=\"plain rtl  \" ><span class=\"h\">וַ</span></span></span><span class=\"plain rtl  \" ><span class=\"plain rtl  \" ><span class=\"h\">יִּֽהְי֣וּ </span></span></span><span class=\"plain rtl  \" ><span class=\"plain rtl  \" ><span class=\"h\">יְמֵי־</span></span><span class=\"plain rtl  \" ><span class=\"h\">אָדָ֗ם </span></span></span></span><span class=\"plain rtl  \" ><span class=\"plain rtl  \" ><span class=\"plain rtl  \" ><span class=\"h\">אַֽחֲרֵי֙ </span></span><span class=\"plain rtl  \" ><span class=\"h\">הֹולִידֹ֣ו </span></span></span><span class=\"plain rtl  \" ><span class=\"plain rtl  \" ><span class=\"h\">אֶת־</span></span><span class=\"plain rtl  \" ><span class=\"h\">שֵׁ֔ת </span></span></span></span><span class=\"plain rtl  \" ><span class=\"plain rtl  \" ><span class=\"plain rtl  \" ><span class=\"h\">שְׁמֹנֶ֥ה </span></span><span class=\"plain rtl  \" ><span class=\"h\">מֵאֹ֖ת </span></span><span class=\"plain rtl  \" ><span class=\"h\">שָׁנָ֑ה </span></span></span></span></span><span class=\"plain rtl  \" ><span class=\"plain rtl  \" ><span class=\"plain rtl  \" ><span class=\"plain rtl  \" ><span class=\"h\">וַ</span></span></span><span class=\"plain rtl  \" ><span class=\"plain rtl  \" ><span class=\"h\">יֹּ֥ולֶד </span></span></span><span class=\"plain rtl  \" ><span class=\"plain rtl  \" ><span class=\"h\">בָּנִ֖ים </span></span><span class=\"plain rtl  \" ><span class=\"h\">וּ</span></span><span class=\"plain rtl  \" ><span class=\"h\">בָנֹֽות׃ </span></span></span></span></span></span></span></td><td class=\"tf\"><span class=\"vrs ltr\"><a href=\"https://shebanq.ancient-data.org/hebrew/text?book=Genesis&amp;chapter=5&amp;verse=13&amp;version=c&amp;mr=m&amp;qw=q&amp;tp=txt_p&amp;tr=hb&amp;wget=v&amp;qget=v&amp;nget=vt\" title=\"show this passage in SHEBANQ\" sec=\"Genesis 5:13\">Genesis 5:13</a></span><span class=\"plain outer  rtl  \" ><span class=\"plain rtl \"><span class=\"plain rtl  \" ><span class=\"plain rtl  \" ><span class=\"plain rtl  \" ><span class=\"plain rtl  \" ><span class=\"h\">וַ</span></span></span><span class=\"plain rtl  \" ><span class=\"plain rtl  \" ><span class=\"h\">יְחִ֣י </span></span></span><span class=\"plain rtl  \" ><span class=\"plain rtl  \" ><span class=\"h\">קֵינָ֗ן </span></span></span></span><span class=\"plain rtl  \" ><span class=\"plain rtl  \" ><span class=\"plain rtl  \" ><span class=\"h\">אַחֲרֵי֙ </span></span><span class=\"plain rtl  \" ><span class=\"h\">הֹולִידֹ֣ו </span></span></span><span class=\"plain rtl  \" ><span class=\"plain rtl  \" ><span class=\"h\">אֶת־</span></span><span class=\"plain rtl  \" ><span class=\"h\">מַֽהֲלַלְאֵ֔ל </span></span></span></span><span class=\"plain rtl  \" ><span class=\"plain rtl  \" ><span class=\"plain rtl  \" ><span class=\"h\">אַרְבָּעִ֣ים </span></span><span class=\"plain rtl  \" ><span class=\"h\">שָׁנָ֔ה </span></span><span class=\"plain rtl  \" ><span class=\"h\">וּ</span></span><span class=\"plain rtl  \" ><span class=\"h\">שְׁמֹנֶ֥ה </span></span><span class=\"plain rtl  \" ><span class=\"h\">מֵאֹ֖ות </span></span><span class=\"plain rtl  \" ><span class=\"h\">שָׁנָ֑ה </span></span></span></span></span><span class=\"plain rtl  \" ><span class=\"plain rtl  \" ><span class=\"plain rtl  \" ><span class=\"plain rtl  \" ><span class=\"h\">וַ</span></span></span><span class=\"plain rtl  \" ><span class=\"plain rtl  \" ><span class=\"h\">יֹּ֥ולֶד </span></span></span><span class=\"plain rtl  \" ><span class=\"plain rtl  \" ><span class=\"h\">בָּנִ֖ים </span></span><span class=\"plain rtl  \" ><span class=\"h\">וּ</span></span><span class=\"plain rtl  \" ><span class=\"h\">בָנֹֽות׃ </span></span></span></span></span></span></span></td></tr>\n",
       "<tr class=\"tf\"><td class=\"tf\">4</td><td class=\"tf\"> <a href=\"https://shebanq.ancient-data.org/hebrew/text?book=Genesis&amp;chapter=5&amp;verse=16&amp;version=c&amp;mr=m&amp;qw=q&amp;tp=txt_p&amp;tr=hb&amp;wget=v&amp;qget=v&amp;nget=vt\" title=\"show this passage in SHEBANQ\" sec=\"Genesis 5:16\">Genesis 5:16</a></td><td class=\"tf\"><span class=\"vrs ltr\"><a href=\"https://shebanq.ancient-data.org/hebrew/text?book=Genesis&amp;chapter=5&amp;verse=4&amp;version=c&amp;mr=m&amp;qw=q&amp;tp=txt_p&amp;tr=hb&amp;wget=v&amp;qget=v&amp;nget=vt\" title=\"show this passage in SHEBANQ\" sec=\"Genesis 5:4\">Genesis 5:4</a></span><span class=\"plain outer  rtl  \" ><span class=\"plain rtl \"><span class=\"plain rtl  \" ><span class=\"plain rtl  \" ><span class=\"plain rtl  \" ><span class=\"plain rtl  \" ><span class=\"h\">וַ</span></span></span><span class=\"plain rtl  \" ><span class=\"plain rtl  \" ><span class=\"h\">יִּֽהְי֣וּ </span></span></span><span class=\"plain rtl  \" ><span class=\"plain rtl  \" ><span class=\"h\">יְמֵי־</span></span><span class=\"plain rtl  \" ><span class=\"h\">אָדָ֗ם </span></span></span></span><span class=\"plain rtl  \" ><span class=\"plain rtl  \" ><span class=\"plain rtl  \" ><span class=\"h\">אַֽחֲרֵי֙ </span></span><span class=\"plain rtl  \" ><span class=\"h\">הֹולִידֹ֣ו </span></span></span><span class=\"plain rtl  \" ><span class=\"plain rtl  \" ><span class=\"h\">אֶת־</span></span><span class=\"plain rtl  \" ><span class=\"h\">שֵׁ֔ת </span></span></span></span><span class=\"plain rtl  \" ><span class=\"plain rtl  \" ><span class=\"plain rtl  \" ><span class=\"h\">שְׁמֹנֶ֥ה </span></span><span class=\"plain rtl  \" ><span class=\"h\">מֵאֹ֖ת </span></span><span class=\"plain rtl  \" ><span class=\"h\">שָׁנָ֑ה </span></span></span></span></span><span class=\"plain rtl  \" ><span class=\"plain rtl  \" ><span class=\"plain rtl  \" ><span class=\"plain rtl  \" ><span class=\"h\">וַ</span></span></span><span class=\"plain rtl  \" ><span class=\"plain rtl  \" ><span class=\"h\">יֹּ֥ולֶד </span></span></span><span class=\"plain rtl  \" ><span class=\"plain rtl  \" ><span class=\"h\">בָּנִ֖ים </span></span><span class=\"plain rtl  \" ><span class=\"h\">וּ</span></span><span class=\"plain rtl  \" ><span class=\"h\">בָנֹֽות׃ </span></span></span></span></span></span></span></td><td class=\"tf\"><span class=\"vrs ltr\"><a href=\"https://shebanq.ancient-data.org/hebrew/text?book=Genesis&amp;chapter=5&amp;verse=16&amp;version=c&amp;mr=m&amp;qw=q&amp;tp=txt_p&amp;tr=hb&amp;wget=v&amp;qget=v&amp;nget=vt\" title=\"show this passage in SHEBANQ\" sec=\"Genesis 5:16\">Genesis 5:16</a></span><span class=\"plain outer  rtl  \" ><span class=\"plain rtl \"><span class=\"plain rtl  \" ><span class=\"plain rtl  \" ><span class=\"plain rtl  \" ><span class=\"plain rtl  \" ><span class=\"h\">וַֽ</span></span></span><span class=\"plain rtl  \" ><span class=\"plain rtl  \" ><span class=\"h\">יְחִ֣י </span></span></span><span class=\"plain rtl  \" ><span class=\"plain rtl  \" ><span class=\"h\">מַֽהֲלַלְאֵ֗ל </span></span></span></span><span class=\"plain rtl  \" ><span class=\"plain rtl  \" ><span class=\"plain rtl  \" ><span class=\"h\">אַֽחֲרֵי֙ </span></span><span class=\"plain rtl  \" ><span class=\"h\">הֹולִידֹ֣ו </span></span></span><span class=\"plain rtl  \" ><span class=\"plain rtl  \" ><span class=\"h\">אֶת־</span></span><span class=\"plain rtl  \" ><span class=\"h\">יֶ֔רֶד </span></span></span></span><span class=\"plain rtl  \" ><span class=\"plain rtl  \" ><span class=\"plain rtl  \" ><span class=\"h\">שְׁלֹשִׁ֣ים </span></span><span class=\"plain rtl  \" ><span class=\"h\">שָׁנָ֔ה </span></span><span class=\"plain rtl  \" ><span class=\"h\">וּ</span></span><span class=\"plain rtl  \" ><span class=\"h\">שְׁמֹנֶ֥ה </span></span><span class=\"plain rtl  \" ><span class=\"h\">מֵאֹ֖ות </span></span><span class=\"plain rtl  \" ><span class=\"h\">שָׁנָ֑ה </span></span></span></span></span><span class=\"plain rtl  \" ><span class=\"plain rtl  \" ><span class=\"plain rtl  \" ><span class=\"plain rtl  \" ><span class=\"h\">וַ</span></span></span><span class=\"plain rtl  \" ><span class=\"plain rtl  \" ><span class=\"h\">יֹּ֥ולֶד </span></span></span><span class=\"plain rtl  \" ><span class=\"plain rtl  \" ><span class=\"h\">בָּנִ֖ים </span></span><span class=\"plain rtl  \" ><span class=\"h\">וּ</span></span><span class=\"plain rtl  \" ><span class=\"h\">בָנֹֽות׃ </span></span></span></span></span></span></span></td></tr>\n",
       "<tr class=\"tf\"><td class=\"tf\">5</td><td class=\"tf\"> <a href=\"https://shebanq.ancient-data.org/hebrew/text?book=Genesis&amp;chapter=5&amp;verse=30&amp;version=c&amp;mr=m&amp;qw=q&amp;tp=txt_p&amp;tr=hb&amp;wget=v&amp;qget=v&amp;nget=vt\" title=\"show this passage in SHEBANQ\" sec=\"Genesis 5:30\">Genesis 5:30</a></td><td class=\"tf\"><span class=\"vrs ltr\"><a href=\"https://shebanq.ancient-data.org/hebrew/text?book=Genesis&amp;chapter=5&amp;verse=4&amp;version=c&amp;mr=m&amp;qw=q&amp;tp=txt_p&amp;tr=hb&amp;wget=v&amp;qget=v&amp;nget=vt\" title=\"show this passage in SHEBANQ\" sec=\"Genesis 5:4\">Genesis 5:4</a></span><span class=\"plain outer  rtl  \" ><span class=\"plain rtl \"><span class=\"plain rtl  \" ><span class=\"plain rtl  \" ><span class=\"plain rtl  \" ><span class=\"plain rtl  \" ><span class=\"h\">וַ</span></span></span><span class=\"plain rtl  \" ><span class=\"plain rtl  \" ><span class=\"h\">יִּֽהְי֣וּ </span></span></span><span class=\"plain rtl  \" ><span class=\"plain rtl  \" ><span class=\"h\">יְמֵי־</span></span><span class=\"plain rtl  \" ><span class=\"h\">אָדָ֗ם </span></span></span></span><span class=\"plain rtl  \" ><span class=\"plain rtl  \" ><span class=\"plain rtl  \" ><span class=\"h\">אַֽחֲרֵי֙ </span></span><span class=\"plain rtl  \" ><span class=\"h\">הֹולִידֹ֣ו </span></span></span><span class=\"plain rtl  \" ><span class=\"plain rtl  \" ><span class=\"h\">אֶת־</span></span><span class=\"plain rtl  \" ><span class=\"h\">שֵׁ֔ת </span></span></span></span><span class=\"plain rtl  \" ><span class=\"plain rtl  \" ><span class=\"plain rtl  \" ><span class=\"h\">שְׁמֹנֶ֥ה </span></span><span class=\"plain rtl  \" ><span class=\"h\">מֵאֹ֖ת </span></span><span class=\"plain rtl  \" ><span class=\"h\">שָׁנָ֑ה </span></span></span></span></span><span class=\"plain rtl  \" ><span class=\"plain rtl  \" ><span class=\"plain rtl  \" ><span class=\"plain rtl  \" ><span class=\"h\">וַ</span></span></span><span class=\"plain rtl  \" ><span class=\"plain rtl  \" ><span class=\"h\">יֹּ֥ולֶד </span></span></span><span class=\"plain rtl  \" ><span class=\"plain rtl  \" ><span class=\"h\">בָּנִ֖ים </span></span><span class=\"plain rtl  \" ><span class=\"h\">וּ</span></span><span class=\"plain rtl  \" ><span class=\"h\">בָנֹֽות׃ </span></span></span></span></span></span></span></td><td class=\"tf\"><span class=\"vrs ltr\"><a href=\"https://shebanq.ancient-data.org/hebrew/text?book=Genesis&amp;chapter=5&amp;verse=30&amp;version=c&amp;mr=m&amp;qw=q&amp;tp=txt_p&amp;tr=hb&amp;wget=v&amp;qget=v&amp;nget=vt\" title=\"show this passage in SHEBANQ\" sec=\"Genesis 5:30\">Genesis 5:30</a></span><span class=\"plain outer  rtl  \" ><span class=\"plain rtl \"><span class=\"plain rtl  \" ><span class=\"plain rtl  \" ><span class=\"plain rtl  \" ><span class=\"plain rtl  \" ><span class=\"h\">וַֽ</span></span></span><span class=\"plain rtl  \" ><span class=\"plain rtl  \" ><span class=\"h\">יְחִי־</span></span></span><span class=\"plain rtl  \" ><span class=\"plain rtl  \" ><span class=\"h\">לֶ֗מֶךְ </span></span></span></span><span class=\"plain rtl  \" ><span class=\"plain rtl  \" ><span class=\"plain rtl  \" ><span class=\"h\">אַֽחֲרֵי֙ </span></span><span class=\"plain rtl  \" ><span class=\"h\">הֹולִידֹ֣ו </span></span></span><span class=\"plain rtl  \" ><span class=\"plain rtl  \" ><span class=\"h\">אֶת־</span></span><span class=\"plain rtl  \" ><span class=\"h\">נֹ֔חַ </span></span></span></span><span class=\"plain rtl  \" ><span class=\"plain rtl  \" ><span class=\"plain rtl  \" ><span class=\"h\">חָמֵ֤שׁ </span></span><span class=\"plain rtl  \" ><span class=\"h\">וְ</span></span><span class=\"plain rtl  \" ><span class=\"h\">תִשְׁעִים֙ </span></span><span class=\"plain rtl  \" ><span class=\"h\">שָׁנָ֔ה </span></span><span class=\"plain rtl  \" ><span class=\"h\">וַ</span></span><span class=\"plain rtl  \" ><span class=\"h\">חֲמֵ֥שׁ </span></span><span class=\"plain rtl  \" ><span class=\"h\">מֵאֹ֖ת </span></span><span class=\"plain rtl  \" ><span class=\"h\">שָׁנָ֑ה </span></span></span></span></span><span class=\"plain rtl  \" ><span class=\"plain rtl  \" ><span class=\"plain rtl  \" ><span class=\"plain rtl  \" ><span class=\"h\">וַ</span></span></span><span class=\"plain rtl  \" ><span class=\"plain rtl  \" ><span class=\"h\">יֹּ֥ולֶד </span></span></span><span class=\"plain rtl  \" ><span class=\"plain rtl  \" ><span class=\"h\">בָּנִ֖ים </span></span><span class=\"plain rtl  \" ><span class=\"h\">וּ</span></span><span class=\"plain rtl  \" ><span class=\"h\">בָנֹֽות׃ </span></span></span></span></span></span></span></td></tr>\n",
       "<tr class=\"tf\"><td class=\"tf\">6</td><td class=\"tf\"> <a href=\"https://shebanq.ancient-data.org/hebrew/text?book=Genesis&amp;chapter=11&amp;verse=11&amp;version=c&amp;mr=m&amp;qw=q&amp;tp=txt_p&amp;tr=hb&amp;wget=v&amp;qget=v&amp;nget=vt\" title=\"show this passage in SHEBANQ\" sec=\"Genesis 11:11\">Genesis 11:11</a></td><td class=\"tf\"><span class=\"vrs ltr\"><a href=\"https://shebanq.ancient-data.org/hebrew/text?book=Genesis&amp;chapter=5&amp;verse=4&amp;version=c&amp;mr=m&amp;qw=q&amp;tp=txt_p&amp;tr=hb&amp;wget=v&amp;qget=v&amp;nget=vt\" title=\"show this passage in SHEBANQ\" sec=\"Genesis 5:4\">Genesis 5:4</a></span><span class=\"plain outer  rtl  \" ><span class=\"plain rtl \"><span class=\"plain rtl  \" ><span class=\"plain rtl  \" ><span class=\"plain rtl  \" ><span class=\"plain rtl  \" ><span class=\"h\">וַ</span></span></span><span class=\"plain rtl  \" ><span class=\"plain rtl  \" ><span class=\"h\">יִּֽהְי֣וּ </span></span></span><span class=\"plain rtl  \" ><span class=\"plain rtl  \" ><span class=\"h\">יְמֵי־</span></span><span class=\"plain rtl  \" ><span class=\"h\">אָדָ֗ם </span></span></span></span><span class=\"plain rtl  \" ><span class=\"plain rtl  \" ><span class=\"plain rtl  \" ><span class=\"h\">אַֽחֲרֵי֙ </span></span><span class=\"plain rtl  \" ><span class=\"h\">הֹולִידֹ֣ו </span></span></span><span class=\"plain rtl  \" ><span class=\"plain rtl  \" ><span class=\"h\">אֶת־</span></span><span class=\"plain rtl  \" ><span class=\"h\">שֵׁ֔ת </span></span></span></span><span class=\"plain rtl  \" ><span class=\"plain rtl  \" ><span class=\"plain rtl  \" ><span class=\"h\">שְׁמֹנֶ֥ה </span></span><span class=\"plain rtl  \" ><span class=\"h\">מֵאֹ֖ת </span></span><span class=\"plain rtl  \" ><span class=\"h\">שָׁנָ֑ה </span></span></span></span></span><span class=\"plain rtl  \" ><span class=\"plain rtl  \" ><span class=\"plain rtl  \" ><span class=\"plain rtl  \" ><span class=\"h\">וַ</span></span></span><span class=\"plain rtl  \" ><span class=\"plain rtl  \" ><span class=\"h\">יֹּ֥ולֶד </span></span></span><span class=\"plain rtl  \" ><span class=\"plain rtl  \" ><span class=\"h\">בָּנִ֖ים </span></span><span class=\"plain rtl  \" ><span class=\"h\">וּ</span></span><span class=\"plain rtl  \" ><span class=\"h\">בָנֹֽות׃ </span></span></span></span></span></span></span></td><td class=\"tf\"><span class=\"vrs ltr\"><a href=\"https://shebanq.ancient-data.org/hebrew/text?book=Genesis&amp;chapter=11&amp;verse=11&amp;version=c&amp;mr=m&amp;qw=q&amp;tp=txt_p&amp;tr=hb&amp;wget=v&amp;qget=v&amp;nget=vt\" title=\"show this passage in SHEBANQ\" sec=\"Genesis 11:11\">Genesis 11:11</a></span><span class=\"plain outer  rtl  \" ><span class=\"plain rtl \"><span class=\"plain rtl  \" ><span class=\"plain rtl  \" ><span class=\"plain rtl  \" ><span class=\"plain rtl  \" ><span class=\"h\">וַֽ</span></span></span><span class=\"plain rtl  \" ><span class=\"plain rtl  \" ><span class=\"h\">יְחִי־</span></span></span><span class=\"plain rtl  \" ><span class=\"plain rtl  \" ><span class=\"h\">שֵׁ֗ם </span></span></span></span><span class=\"plain rtl  \" ><span class=\"plain rtl  \" ><span class=\"plain rtl  \" ><span class=\"h\">אַֽחֲרֵי֙ </span></span><span class=\"plain rtl  \" ><span class=\"h\">הֹולִידֹ֣ו </span></span></span><span class=\"plain rtl  \" ><span class=\"plain rtl  \" ><span class=\"h\">אֶת־</span></span><span class=\"plain rtl  \" ><span class=\"h\">אַרְפַּכְשָׁ֔ד </span></span></span></span><span class=\"plain rtl  \" ><span class=\"plain rtl  \" ><span class=\"plain rtl  \" ><span class=\"h\">חֲמֵ֥שׁ </span></span><span class=\"plain rtl  \" ><span class=\"h\">מֵאֹ֖ות </span></span><span class=\"plain rtl  \" ><span class=\"h\">שָׁנָ֑ה </span></span></span></span></span><span class=\"plain rtl  \" ><span class=\"plain rtl  \" ><span class=\"plain rtl  \" ><span class=\"plain rtl  \" ><span class=\"h\">וַ</span></span></span><span class=\"plain rtl  \" ><span class=\"plain rtl  \" ><span class=\"h\">יֹּ֥ולֶד </span></span></span><span class=\"plain rtl  \" ><span class=\"plain rtl  \" ><span class=\"h\">בָּנִ֖ים </span></span><span class=\"plain rtl  \" ><span class=\"h\">וּ</span></span><span class=\"plain rtl  \" ><span class=\"h\">בָנֹֽות׃ ס </span></span></span></span></span></span></span></td></tr>\n",
       "<tr class=\"tf\"><td class=\"tf\">7</td><td class=\"tf\"> <a href=\"https://shebanq.ancient-data.org/hebrew/text?book=Genesis&amp;chapter=11&amp;verse=13&amp;version=c&amp;mr=m&amp;qw=q&amp;tp=txt_p&amp;tr=hb&amp;wget=v&amp;qget=v&amp;nget=vt\" title=\"show this passage in SHEBANQ\" sec=\"Genesis 11:13\">Genesis 11:13</a></td><td class=\"tf\"><span class=\"vrs ltr\"><a href=\"https://shebanq.ancient-data.org/hebrew/text?book=Genesis&amp;chapter=5&amp;verse=4&amp;version=c&amp;mr=m&amp;qw=q&amp;tp=txt_p&amp;tr=hb&amp;wget=v&amp;qget=v&amp;nget=vt\" title=\"show this passage in SHEBANQ\" sec=\"Genesis 5:4\">Genesis 5:4</a></span><span class=\"plain outer  rtl  \" ><span class=\"plain rtl \"><span class=\"plain rtl  \" ><span class=\"plain rtl  \" ><span class=\"plain rtl  \" ><span class=\"plain rtl  \" ><span class=\"h\">וַ</span></span></span><span class=\"plain rtl  \" ><span class=\"plain rtl  \" ><span class=\"h\">יִּֽהְי֣וּ </span></span></span><span class=\"plain rtl  \" ><span class=\"plain rtl  \" ><span class=\"h\">יְמֵי־</span></span><span class=\"plain rtl  \" ><span class=\"h\">אָדָ֗ם </span></span></span></span><span class=\"plain rtl  \" ><span class=\"plain rtl  \" ><span class=\"plain rtl  \" ><span class=\"h\">אַֽחֲרֵי֙ </span></span><span class=\"plain rtl  \" ><span class=\"h\">הֹולִידֹ֣ו </span></span></span><span class=\"plain rtl  \" ><span class=\"plain rtl  \" ><span class=\"h\">אֶת־</span></span><span class=\"plain rtl  \" ><span class=\"h\">שֵׁ֔ת </span></span></span></span><span class=\"plain rtl  \" ><span class=\"plain rtl  \" ><span class=\"plain rtl  \" ><span class=\"h\">שְׁמֹנֶ֥ה </span></span><span class=\"plain rtl  \" ><span class=\"h\">מֵאֹ֖ת </span></span><span class=\"plain rtl  \" ><span class=\"h\">שָׁנָ֑ה </span></span></span></span></span><span class=\"plain rtl  \" ><span class=\"plain rtl  \" ><span class=\"plain rtl  \" ><span class=\"plain rtl  \" ><span class=\"h\">וַ</span></span></span><span class=\"plain rtl  \" ><span class=\"plain rtl  \" ><span class=\"h\">יֹּ֥ולֶד </span></span></span><span class=\"plain rtl  \" ><span class=\"plain rtl  \" ><span class=\"h\">בָּנִ֖ים </span></span><span class=\"plain rtl  \" ><span class=\"h\">וּ</span></span><span class=\"plain rtl  \" ><span class=\"h\">בָנֹֽות׃ </span></span></span></span></span></span></span></td><td class=\"tf\"><span class=\"vrs ltr\"><a href=\"https://shebanq.ancient-data.org/hebrew/text?book=Genesis&amp;chapter=11&amp;verse=13&amp;version=c&amp;mr=m&amp;qw=q&amp;tp=txt_p&amp;tr=hb&amp;wget=v&amp;qget=v&amp;nget=vt\" title=\"show this passage in SHEBANQ\" sec=\"Genesis 11:13\">Genesis 11:13</a></span><span class=\"plain outer  rtl  \" ><span class=\"plain rtl \"><span class=\"plain rtl  \" ><span class=\"plain rtl  \" ><span class=\"plain rtl  \" ><span class=\"plain rtl  \" ><span class=\"h\">וַֽ</span></span></span><span class=\"plain rtl  \" ><span class=\"plain rtl  \" ><span class=\"h\">יְחִ֣י </span></span></span><span class=\"plain rtl  \" ><span class=\"plain rtl  \" ><span class=\"h\">אַרְפַּכְשַׁ֗ד </span></span></span></span><span class=\"plain rtl  \" ><span class=\"plain rtl  \" ><span class=\"plain rtl  \" ><span class=\"h\">אַֽחֲרֵי֙ </span></span><span class=\"plain rtl  \" ><span class=\"h\">הֹולִידֹ֣ו </span></span></span><span class=\"plain rtl  \" ><span class=\"plain rtl  \" ><span class=\"h\">אֶת־</span></span><span class=\"plain rtl  \" ><span class=\"h\">שֶׁ֔לַח </span></span></span></span><span class=\"plain rtl  \" ><span class=\"plain rtl  \" ><span class=\"plain rtl  \" ><span class=\"h\">שָׁלֹ֣שׁ </span></span><span class=\"plain rtl  \" ><span class=\"h\">שָׁנִ֔ים </span></span><span class=\"plain rtl  \" ><span class=\"h\">וְ</span></span><span class=\"plain rtl  \" ><span class=\"h\">אַרְבַּ֥ע </span></span><span class=\"plain rtl  \" ><span class=\"h\">מֵאֹ֖ות </span></span><span class=\"plain rtl  \" ><span class=\"h\">שָׁנָ֑ה </span></span></span></span></span><span class=\"plain rtl  \" ><span class=\"plain rtl  \" ><span class=\"plain rtl  \" ><span class=\"plain rtl  \" ><span class=\"h\">וַ</span></span></span><span class=\"plain rtl  \" ><span class=\"plain rtl  \" ><span class=\"h\">יֹּ֥ולֶד </span></span></span><span class=\"plain rtl  \" ><span class=\"plain rtl  \" ><span class=\"h\">בָּנִ֖ים </span></span><span class=\"plain rtl  \" ><span class=\"h\">וּ</span></span><span class=\"plain rtl  \" ><span class=\"h\">בָנֹֽות׃ ס </span></span></span></span></span></span></span></td></tr>\n",
       "<tr class=\"tf\"><td class=\"tf\">8</td><td class=\"tf\"> <a href=\"https://shebanq.ancient-data.org/hebrew/text?book=Genesis&amp;chapter=11&amp;verse=15&amp;version=c&amp;mr=m&amp;qw=q&amp;tp=txt_p&amp;tr=hb&amp;wget=v&amp;qget=v&amp;nget=vt\" title=\"show this passage in SHEBANQ\" sec=\"Genesis 11:15\">Genesis 11:15</a></td><td class=\"tf\"><span class=\"vrs ltr\"><a href=\"https://shebanq.ancient-data.org/hebrew/text?book=Genesis&amp;chapter=5&amp;verse=4&amp;version=c&amp;mr=m&amp;qw=q&amp;tp=txt_p&amp;tr=hb&amp;wget=v&amp;qget=v&amp;nget=vt\" title=\"show this passage in SHEBANQ\" sec=\"Genesis 5:4\">Genesis 5:4</a></span><span class=\"plain outer  rtl  \" ><span class=\"plain rtl \"><span class=\"plain rtl  \" ><span class=\"plain rtl  \" ><span class=\"plain rtl  \" ><span class=\"plain rtl  \" ><span class=\"h\">וַ</span></span></span><span class=\"plain rtl  \" ><span class=\"plain rtl  \" ><span class=\"h\">יִּֽהְי֣וּ </span></span></span><span class=\"plain rtl  \" ><span class=\"plain rtl  \" ><span class=\"h\">יְמֵי־</span></span><span class=\"plain rtl  \" ><span class=\"h\">אָדָ֗ם </span></span></span></span><span class=\"plain rtl  \" ><span class=\"plain rtl  \" ><span class=\"plain rtl  \" ><span class=\"h\">אַֽחֲרֵי֙ </span></span><span class=\"plain rtl  \" ><span class=\"h\">הֹולִידֹ֣ו </span></span></span><span class=\"plain rtl  \" ><span class=\"plain rtl  \" ><span class=\"h\">אֶת־</span></span><span class=\"plain rtl  \" ><span class=\"h\">שֵׁ֔ת </span></span></span></span><span class=\"plain rtl  \" ><span class=\"plain rtl  \" ><span class=\"plain rtl  \" ><span class=\"h\">שְׁמֹנֶ֥ה </span></span><span class=\"plain rtl  \" ><span class=\"h\">מֵאֹ֖ת </span></span><span class=\"plain rtl  \" ><span class=\"h\">שָׁנָ֑ה </span></span></span></span></span><span class=\"plain rtl  \" ><span class=\"plain rtl  \" ><span class=\"plain rtl  \" ><span class=\"plain rtl  \" ><span class=\"h\">וַ</span></span></span><span class=\"plain rtl  \" ><span class=\"plain rtl  \" ><span class=\"h\">יֹּ֥ולֶד </span></span></span><span class=\"plain rtl  \" ><span class=\"plain rtl  \" ><span class=\"h\">בָּנִ֖ים </span></span><span class=\"plain rtl  \" ><span class=\"h\">וּ</span></span><span class=\"plain rtl  \" ><span class=\"h\">בָנֹֽות׃ </span></span></span></span></span></span></span></td><td class=\"tf\"><span class=\"vrs ltr\"><a href=\"https://shebanq.ancient-data.org/hebrew/text?book=Genesis&amp;chapter=11&amp;verse=15&amp;version=c&amp;mr=m&amp;qw=q&amp;tp=txt_p&amp;tr=hb&amp;wget=v&amp;qget=v&amp;nget=vt\" title=\"show this passage in SHEBANQ\" sec=\"Genesis 11:15\">Genesis 11:15</a></span><span class=\"plain outer  rtl  \" ><span class=\"plain rtl \"><span class=\"plain rtl  \" ><span class=\"plain rtl  \" ><span class=\"plain rtl  \" ><span class=\"plain rtl  \" ><span class=\"h\">וַֽ</span></span></span><span class=\"plain rtl  \" ><span class=\"plain rtl  \" ><span class=\"h\">יְחִי־</span></span></span><span class=\"plain rtl  \" ><span class=\"plain rtl  \" ><span class=\"h\">שֶׁ֗לַח </span></span></span></span><span class=\"plain rtl  \" ><span class=\"plain rtl  \" ><span class=\"plain rtl  \" ><span class=\"h\">אַחֲרֵי֙ </span></span><span class=\"plain rtl  \" ><span class=\"h\">הֹולִידֹ֣ו </span></span></span><span class=\"plain rtl  \" ><span class=\"plain rtl  \" ><span class=\"h\">אֶת־</span></span><span class=\"plain rtl  \" ><span class=\"h\">עֵ֔בֶר </span></span></span></span><span class=\"plain rtl  \" ><span class=\"plain rtl  \" ><span class=\"plain rtl  \" ><span class=\"h\">שָׁלֹ֣שׁ </span></span><span class=\"plain rtl  \" ><span class=\"h\">שָׁנִ֔ים </span></span><span class=\"plain rtl  \" ><span class=\"h\">וְ</span></span><span class=\"plain rtl  \" ><span class=\"h\">אַרְבַּ֥ע </span></span><span class=\"plain rtl  \" ><span class=\"h\">מֵאֹ֖ות </span></span><span class=\"plain rtl  \" ><span class=\"h\">שָׁנָ֑ה </span></span></span></span></span><span class=\"plain rtl  \" ><span class=\"plain rtl  \" ><span class=\"plain rtl  \" ><span class=\"plain rtl  \" ><span class=\"h\">וַ</span></span></span><span class=\"plain rtl  \" ><span class=\"plain rtl  \" ><span class=\"h\">יֹּ֥ולֶד </span></span></span><span class=\"plain rtl  \" ><span class=\"plain rtl  \" ><span class=\"h\">בָּנִ֖ים </span></span><span class=\"plain rtl  \" ><span class=\"h\">וּ</span></span><span class=\"plain rtl  \" ><span class=\"h\">בָנֹֽות׃ ס </span></span></span></span></span></span></span></td></tr>\n",
       "<tr class=\"tf\"><td class=\"tf\">9</td><td class=\"tf\"> <a href=\"https://shebanq.ancient-data.org/hebrew/text?book=Genesis&amp;chapter=11&amp;verse=17&amp;version=c&amp;mr=m&amp;qw=q&amp;tp=txt_p&amp;tr=hb&amp;wget=v&amp;qget=v&amp;nget=vt\" title=\"show this passage in SHEBANQ\" sec=\"Genesis 11:17\">Genesis 11:17</a></td><td class=\"tf\"><span class=\"vrs ltr\"><a href=\"https://shebanq.ancient-data.org/hebrew/text?book=Genesis&amp;chapter=5&amp;verse=4&amp;version=c&amp;mr=m&amp;qw=q&amp;tp=txt_p&amp;tr=hb&amp;wget=v&amp;qget=v&amp;nget=vt\" title=\"show this passage in SHEBANQ\" sec=\"Genesis 5:4\">Genesis 5:4</a></span><span class=\"plain outer  rtl  \" ><span class=\"plain rtl \"><span class=\"plain rtl  \" ><span class=\"plain rtl  \" ><span class=\"plain rtl  \" ><span class=\"plain rtl  \" ><span class=\"h\">וַ</span></span></span><span class=\"plain rtl  \" ><span class=\"plain rtl  \" ><span class=\"h\">יִּֽהְי֣וּ </span></span></span><span class=\"plain rtl  \" ><span class=\"plain rtl  \" ><span class=\"h\">יְמֵי־</span></span><span class=\"plain rtl  \" ><span class=\"h\">אָדָ֗ם </span></span></span></span><span class=\"plain rtl  \" ><span class=\"plain rtl  \" ><span class=\"plain rtl  \" ><span class=\"h\">אַֽחֲרֵי֙ </span></span><span class=\"plain rtl  \" ><span class=\"h\">הֹולִידֹ֣ו </span></span></span><span class=\"plain rtl  \" ><span class=\"plain rtl  \" ><span class=\"h\">אֶת־</span></span><span class=\"plain rtl  \" ><span class=\"h\">שֵׁ֔ת </span></span></span></span><span class=\"plain rtl  \" ><span class=\"plain rtl  \" ><span class=\"plain rtl  \" ><span class=\"h\">שְׁמֹנֶ֥ה </span></span><span class=\"plain rtl  \" ><span class=\"h\">מֵאֹ֖ת </span></span><span class=\"plain rtl  \" ><span class=\"h\">שָׁנָ֑ה </span></span></span></span></span><span class=\"plain rtl  \" ><span class=\"plain rtl  \" ><span class=\"plain rtl  \" ><span class=\"plain rtl  \" ><span class=\"h\">וַ</span></span></span><span class=\"plain rtl  \" ><span class=\"plain rtl  \" ><span class=\"h\">יֹּ֥ולֶד </span></span></span><span class=\"plain rtl  \" ><span class=\"plain rtl  \" ><span class=\"h\">בָּנִ֖ים </span></span><span class=\"plain rtl  \" ><span class=\"h\">וּ</span></span><span class=\"plain rtl  \" ><span class=\"h\">בָנֹֽות׃ </span></span></span></span></span></span></span></td><td class=\"tf\"><span class=\"vrs ltr\"><a href=\"https://shebanq.ancient-data.org/hebrew/text?book=Genesis&amp;chapter=11&amp;verse=17&amp;version=c&amp;mr=m&amp;qw=q&amp;tp=txt_p&amp;tr=hb&amp;wget=v&amp;qget=v&amp;nget=vt\" title=\"show this passage in SHEBANQ\" sec=\"Genesis 11:17\">Genesis 11:17</a></span><span class=\"plain outer  rtl  \" ><span class=\"plain rtl \"><span class=\"plain rtl  \" ><span class=\"plain rtl  \" ><span class=\"plain rtl  \" ><span class=\"plain rtl  \" ><span class=\"h\">וַֽ</span></span></span><span class=\"plain rtl  \" ><span class=\"plain rtl  \" ><span class=\"h\">יְחִי־</span></span></span><span class=\"plain rtl  \" ><span class=\"plain rtl  \" ><span class=\"h\">עֵ֗בֶר </span></span></span></span><span class=\"plain rtl  \" ><span class=\"plain rtl  \" ><span class=\"plain rtl  \" ><span class=\"h\">אַחֲרֵי֙ </span></span><span class=\"plain rtl  \" ><span class=\"h\">הֹולִידֹ֣ו </span></span></span><span class=\"plain rtl  \" ><span class=\"plain rtl  \" ><span class=\"h\">אֶת־</span></span><span class=\"plain rtl  \" ><span class=\"h\">פֶּ֔לֶג </span></span></span></span><span class=\"plain rtl  \" ><span class=\"plain rtl  \" ><span class=\"plain rtl  \" ><span class=\"h\">שְׁלֹשִׁ֣ים </span></span><span class=\"plain rtl  \" ><span class=\"h\">שָׁנָ֔ה </span></span><span class=\"plain rtl  \" ><span class=\"h\">וְ</span></span><span class=\"plain rtl  \" ><span class=\"h\">אַרְבַּ֥ע </span></span><span class=\"plain rtl  \" ><span class=\"h\">מֵאֹ֖ות </span></span><span class=\"plain rtl  \" ><span class=\"h\">שָׁנָ֑ה </span></span></span></span></span><span class=\"plain rtl  \" ><span class=\"plain rtl  \" ><span class=\"plain rtl  \" ><span class=\"plain rtl  \" ><span class=\"h\">וַ</span></span></span><span class=\"plain rtl  \" ><span class=\"plain rtl  \" ><span class=\"h\">יֹּ֥ולֶד </span></span></span><span class=\"plain rtl  \" ><span class=\"plain rtl  \" ><span class=\"h\">בָּנִ֖ים </span></span><span class=\"plain rtl  \" ><span class=\"h\">וּ</span></span><span class=\"plain rtl  \" ><span class=\"h\">בָנֹֽות׃ ס </span></span></span></span></span></span></span></td></tr>\n",
       "<tr class=\"tf\"><td class=\"tf\">10</td><td class=\"tf\"> <a href=\"https://shebanq.ancient-data.org/hebrew/text?book=Genesis&amp;chapter=11&amp;verse=23&amp;version=c&amp;mr=m&amp;qw=q&amp;tp=txt_p&amp;tr=hb&amp;wget=v&amp;qget=v&amp;nget=vt\" title=\"show this passage in SHEBANQ\" sec=\"Genesis 11:23\">Genesis 11:23</a></td><td class=\"tf\"><span class=\"vrs ltr\"><a href=\"https://shebanq.ancient-data.org/hebrew/text?book=Genesis&amp;chapter=5&amp;verse=4&amp;version=c&amp;mr=m&amp;qw=q&amp;tp=txt_p&amp;tr=hb&amp;wget=v&amp;qget=v&amp;nget=vt\" title=\"show this passage in SHEBANQ\" sec=\"Genesis 5:4\">Genesis 5:4</a></span><span class=\"plain outer  rtl  \" ><span class=\"plain rtl \"><span class=\"plain rtl  \" ><span class=\"plain rtl  \" ><span class=\"plain rtl  \" ><span class=\"plain rtl  \" ><span class=\"h\">וַ</span></span></span><span class=\"plain rtl  \" ><span class=\"plain rtl  \" ><span class=\"h\">יִּֽהְי֣וּ </span></span></span><span class=\"plain rtl  \" ><span class=\"plain rtl  \" ><span class=\"h\">יְמֵי־</span></span><span class=\"plain rtl  \" ><span class=\"h\">אָדָ֗ם </span></span></span></span><span class=\"plain rtl  \" ><span class=\"plain rtl  \" ><span class=\"plain rtl  \" ><span class=\"h\">אַֽחֲרֵי֙ </span></span><span class=\"plain rtl  \" ><span class=\"h\">הֹולִידֹ֣ו </span></span></span><span class=\"plain rtl  \" ><span class=\"plain rtl  \" ><span class=\"h\">אֶת־</span></span><span class=\"plain rtl  \" ><span class=\"h\">שֵׁ֔ת </span></span></span></span><span class=\"plain rtl  \" ><span class=\"plain rtl  \" ><span class=\"plain rtl  \" ><span class=\"h\">שְׁמֹנֶ֥ה </span></span><span class=\"plain rtl  \" ><span class=\"h\">מֵאֹ֖ת </span></span><span class=\"plain rtl  \" ><span class=\"h\">שָׁנָ֑ה </span></span></span></span></span><span class=\"plain rtl  \" ><span class=\"plain rtl  \" ><span class=\"plain rtl  \" ><span class=\"plain rtl  \" ><span class=\"h\">וַ</span></span></span><span class=\"plain rtl  \" ><span class=\"plain rtl  \" ><span class=\"h\">יֹּ֥ולֶד </span></span></span><span class=\"plain rtl  \" ><span class=\"plain rtl  \" ><span class=\"h\">בָּנִ֖ים </span></span><span class=\"plain rtl  \" ><span class=\"h\">וּ</span></span><span class=\"plain rtl  \" ><span class=\"h\">בָנֹֽות׃ </span></span></span></span></span></span></span></td><td class=\"tf\"><span class=\"vrs ltr\"><a href=\"https://shebanq.ancient-data.org/hebrew/text?book=Genesis&amp;chapter=11&amp;verse=23&amp;version=c&amp;mr=m&amp;qw=q&amp;tp=txt_p&amp;tr=hb&amp;wget=v&amp;qget=v&amp;nget=vt\" title=\"show this passage in SHEBANQ\" sec=\"Genesis 11:23\">Genesis 11:23</a></span><span class=\"plain outer  rtl  \" ><span class=\"plain rtl \"><span class=\"plain rtl  \" ><span class=\"plain rtl  \" ><span class=\"plain rtl  \" ><span class=\"plain rtl  \" ><span class=\"h\">וַ</span></span></span><span class=\"plain rtl  \" ><span class=\"plain rtl  \" ><span class=\"h\">יְחִ֣י </span></span></span><span class=\"plain rtl  \" ><span class=\"plain rtl  \" ><span class=\"h\">שְׂר֗וּג </span></span></span></span><span class=\"plain rtl  \" ><span class=\"plain rtl  \" ><span class=\"plain rtl  \" ><span class=\"h\">אַחֲרֵ֛י </span></span><span class=\"plain rtl  \" ><span class=\"h\">הֹולִידֹ֥ו </span></span></span><span class=\"plain rtl  \" ><span class=\"plain rtl  \" ><span class=\"h\">אֶת־</span></span><span class=\"plain rtl  \" ><span class=\"h\">נָחֹ֖ור </span></span></span></span><span class=\"plain rtl  \" ><span class=\"plain rtl  \" ><span class=\"plain rtl  \" ><span class=\"h\">מָאתַ֣יִם </span></span><span class=\"plain rtl  \" ><span class=\"h\">שָׁנָ֑ה </span></span></span></span></span><span class=\"plain rtl  \" ><span class=\"plain rtl  \" ><span class=\"plain rtl  \" ><span class=\"plain rtl  \" ><span class=\"h\">וַ</span></span></span><span class=\"plain rtl  \" ><span class=\"plain rtl  \" ><span class=\"h\">יֹּ֥ולֶד </span></span></span><span class=\"plain rtl  \" ><span class=\"plain rtl  \" ><span class=\"h\">בָּנִ֖ים </span></span><span class=\"plain rtl  \" ><span class=\"h\">וּ</span></span><span class=\"plain rtl  \" ><span class=\"h\">בָנֹֽות׃ ס </span></span></span></span></span></span></span></td></tr></table>"
      ],
      "text/plain": [
       "<IPython.core.display.HTML object>"
      ]
     },
     "metadata": {},
     "output_type": "display_data"
    }
   ],
   "source": [
    "query = '''\n",
    "v:verse\n",
    "-crossref<80> w:verse\n",
    "v < w\n",
    "'''\n",
    "results = A.search(query)\n",
    "A.table(results, end=10)"
   ]
  },
  {
   "cell_type": "markdown",
   "metadata": {},
   "source": [
    "This shows how all features in your data can be queried in search templates, even the features that give values\n",
    "to edges."
   ]
  },
  {
   "cell_type": "markdown",
   "metadata": {},
   "source": [
    "# Feature conditions\n",
    "\n",
    "So far we have seen feature conditions in templates of these forms\n",
    "\n",
    "```\n",
    "node feature=value\n",
    "```\n",
    "\n",
    "But there is more."
   ]
  },
  {
   "cell_type": "markdown",
   "metadata": {},
   "source": [
    "## Trivially true\n",
    "\n",
    "You can say\n",
    "\n",
    "```\n",
    "node feature*\n",
    "```\n",
    "\n",
    "which selects all nodes, irrespective of the existence or value of feature.\n",
    "\n",
    "This is a useless criterion in the sense that it does not influence the set of results.\n",
    "\n",
    "But when some applications run queries for you, they might use the features mentioned in your query\n",
    "to decorate the results retrieved. \n",
    "\n",
    "This is your way to tell such applications that you want the values of `feature` included in your results.\n",
    "\n",
    "The text fabric browser looks at the features when it exports your results to CSV."
   ]
  },
  {
   "cell_type": "code",
   "execution_count": 23,
   "metadata": {},
   "outputs": [
    {
     "name": "stdout",
     "output_type": "stream",
     "text": [
      "  0.83s 426584 results\n",
      "426584\n",
      "  0.99s 426584 results\n",
      "426584\n"
     ]
    }
   ],
   "source": [
    "query1 = '''\n",
    "word vt*\n",
    "'''\n",
    "\n",
    "query2 = '''\n",
    "word\n",
    "'''\n",
    "\n",
    "results = A.search(query1)\n",
    "print(len(results))\n",
    "\n",
    "results = A.search(query1)\n",
    "print(len(results))"
   ]
  },
  {
   "cell_type": "markdown",
   "metadata": {},
   "source": [
    "## Inequality\n",
    "\n",
    "You can also say\n",
    "\n",
    "```\n",
    "node feature#value\n",
    "```\n",
    "which selects nodes where the feature does not have `value`."
   ]
  },
  {
   "cell_type": "markdown",
   "metadata": {},
   "source": [
    "## Multiple values\n",
    "\n",
    "When stating a feature condition, such as `chapter=1`,\n",
    "you may also specify a list of alternative values:\n",
    "\n",
    "```\n",
    "  chapter=1|2|3\n",
    "```\n",
    "\n",
    "You may list as many values as you wish, for every feature.\n",
    "\n",
    "It also works with inequalities:\n",
    "\n",
    "```\n",
    "  chapter#1|2|3\n",
    "```"
   ]
  },
  {
   "cell_type": "markdown",
   "metadata": {},
   "source": [
    "Let's find all verbally inflected words that are:\n",
    "not in the qal, not in the third person, not in the singular,\n",
    "not in the masculine."
   ]
  },
  {
   "cell_type": "code",
   "execution_count": 24,
   "metadata": {},
   "outputs": [
    {
     "name": "stdout",
     "output_type": "stream",
     "text": [
      "  1.08s 271 results\n"
     ]
    },
    {
     "data": {
      "text/html": [
       "<a href=\"https://shebanq.ancient-data.org/hebrew/text?book=Genesis&amp;chapter=4&amp;verse=23&amp;version=c&amp;mr=m&amp;qw=q&amp;tp=txt_p&amp;tr=hb&amp;wget=v&amp;qget=v&amp;nget=vt\" title=\"show this passage in SHEBANQ\" sec=\"Genesis 4:23\">Genesis 4:23</a><div class=\"outeritem\"><div class=\"word  \" ><div class=\"h\"><a target=\"_blank\" href=\"https://shebanq.ancient-data.org/hebrew/word?version=c&amp;id=1AZNv\" title=\"show this lexeme in SHEBANQ\">הַאְזֵ֖נָּה </a></div><div class=\"features\"> <span class=\"pdp\"><a href=\"https://shebanq.ancient-data.org/hebrew/text?book=Genesis&amp;chapter=4&amp;verse=23&amp;version=c&amp;mr=m&amp;qw=q&amp;tp=txt_p&amp;tr=hb&amp;wget=v&amp;qget=v&amp;nget=vt\" title=\"Genesis 4:23\" sec=\"Genesis 4:23\">verb</a></span> <span class=\"gloss\">listen</span> <span class=\"vs\">hif</span> <span class=\"vt\">impv</span> <span class=\"gn xft\"><span class=\"f\">gn=</span>f</span> <span class=\"nu xft\"><span class=\"f\">nu=</span>pl</span> <span class=\"ps xft\"><span class=\"f\">ps=</span>p2</span></div></div></div>"
      ],
      "text/plain": [
       "<IPython.core.display.HTML object>"
      ]
     },
     "metadata": {},
     "output_type": "display_data"
    },
    {
     "data": {
      "text/html": [
       "<a href=\"https://shebanq.ancient-data.org/hebrew/text?book=Genesis&amp;chapter=19&amp;verse=9&amp;version=c&amp;mr=m&amp;qw=q&amp;tp=txt_p&amp;tr=hb&amp;wget=v&amp;qget=v&amp;nget=vt\" title=\"show this passage in SHEBANQ\" sec=\"Genesis 19:9\">Genesis 19:9</a><div class=\"outeritem\"><div class=\"word  \" ><div class=\"h\"><a target=\"_blank\" href=\"https://shebanq.ancient-data.org/hebrew/word?version=c&amp;id=1ROOv\" title=\"show this lexeme in SHEBANQ\">נָרַ֥ע </a></div><div class=\"features\"> <span class=\"pdp\"><a href=\"https://shebanq.ancient-data.org/hebrew/text?book=Genesis&amp;chapter=19&amp;verse=9&amp;version=c&amp;mr=m&amp;qw=q&amp;tp=txt_p&amp;tr=hb&amp;wget=v&amp;qget=v&amp;nget=vt\" title=\"Genesis 19:9\" sec=\"Genesis 19:9\">verb</a></span> <span class=\"gloss\">be evil</span> <span class=\"vs\">hif</span> <span class=\"vt\">impf</span> <span class=\"nu xft\"><span class=\"f\">nu=</span>pl</span> <span class=\"ps xft\"><span class=\"f\">ps=</span>p1</span></div></div></div>"
      ],
      "text/plain": [
       "<IPython.core.display.HTML object>"
      ]
     },
     "metadata": {},
     "output_type": "display_data"
    },
    {
     "data": {
      "text/html": [
       "<a href=\"https://shebanq.ancient-data.org/hebrew/text?book=Genesis&amp;chapter=19&amp;verse=32&amp;version=c&amp;mr=m&amp;qw=q&amp;tp=txt_p&amp;tr=hb&amp;wget=v&amp;qget=v&amp;nget=vt\" title=\"show this passage in SHEBANQ\" sec=\"Genesis 19:32\">Genesis 19:32</a><div class=\"outeritem\"><div class=\"word  \" ><div class=\"h\"><a target=\"_blank\" href=\"https://shebanq.ancient-data.org/hebrew/word?version=c&amp;id=1CQHv\" title=\"show this lexeme in SHEBANQ\">נַשְׁקֶ֧ה </a></div><div class=\"features\"> <span class=\"pdp\"><a href=\"https://shebanq.ancient-data.org/hebrew/text?book=Genesis&amp;chapter=19&amp;verse=32&amp;version=c&amp;mr=m&amp;qw=q&amp;tp=txt_p&amp;tr=hb&amp;wget=v&amp;qget=v&amp;nget=vt\" title=\"Genesis 19:32\" sec=\"Genesis 19:32\">verb</a></span> <span class=\"gloss\">give drink</span> <span class=\"vs\">hif</span> <span class=\"vt\">impf</span> <span class=\"nu xft\"><span class=\"f\">nu=</span>pl</span> <span class=\"ps xft\"><span class=\"f\">ps=</span>p1</span></div></div></div>"
      ],
      "text/plain": [
       "<IPython.core.display.HTML object>"
      ]
     },
     "metadata": {},
     "output_type": "display_data"
    },
    {
     "data": {
      "text/html": [
       "<a href=\"https://shebanq.ancient-data.org/hebrew/text?book=Genesis&amp;chapter=19&amp;verse=32&amp;version=c&amp;mr=m&amp;qw=q&amp;tp=txt_p&amp;tr=hb&amp;wget=v&amp;qget=v&amp;nget=vt\" title=\"show this passage in SHEBANQ\" sec=\"Genesis 19:32\">Genesis 19:32</a><div class=\"outeritem\"><div class=\"word  \" ><div class=\"h\"><a target=\"_blank\" href=\"https://shebanq.ancient-data.org/hebrew/word?version=c&amp;id=1XJHv\" title=\"show this lexeme in SHEBANQ\">נְחַיֶּ֥ה </a></div><div class=\"features\"> <span class=\"pdp\"><a href=\"https://shebanq.ancient-data.org/hebrew/text?book=Genesis&amp;chapter=19&amp;verse=32&amp;version=c&amp;mr=m&amp;qw=q&amp;tp=txt_p&amp;tr=hb&amp;wget=v&amp;qget=v&amp;nget=vt\" title=\"Genesis 19:32\" sec=\"Genesis 19:32\">verb</a></span> <span class=\"gloss\">be alive</span> <span class=\"vs\">piel</span> <span class=\"vt\">impf</span> <span class=\"nu xft\"><span class=\"f\">nu=</span>pl</span> <span class=\"ps xft\"><span class=\"f\">ps=</span>p1</span></div></div></div>"
      ],
      "text/plain": [
       "<IPython.core.display.HTML object>"
      ]
     },
     "metadata": {},
     "output_type": "display_data"
    },
    {
     "data": {
      "text/html": [
       "<a href=\"https://shebanq.ancient-data.org/hebrew/text?book=Genesis&amp;chapter=19&amp;verse=34&amp;version=c&amp;mr=m&amp;qw=q&amp;tp=txt_p&amp;tr=hb&amp;wget=v&amp;qget=v&amp;nget=vt\" title=\"show this passage in SHEBANQ\" sec=\"Genesis 19:34\">Genesis 19:34</a><div class=\"outeritem\"><div class=\"word  \" ><div class=\"h\"><a target=\"_blank\" href=\"https://shebanq.ancient-data.org/hebrew/word?version=c&amp;id=1CQHv\" title=\"show this lexeme in SHEBANQ\">נַשְׁקֶ֨נּוּ </a></div><div class=\"features\"> <span class=\"pdp\"><a href=\"https://shebanq.ancient-data.org/hebrew/text?book=Genesis&amp;chapter=19&amp;verse=34&amp;version=c&amp;mr=m&amp;qw=q&amp;tp=txt_p&amp;tr=hb&amp;wget=v&amp;qget=v&amp;nget=vt\" title=\"Genesis 19:34\" sec=\"Genesis 19:34\">verb</a></span> <span class=\"gloss\">give drink</span> <span class=\"vs\">hif</span> <span class=\"vt\">impf</span> <span class=\"nu xft\"><span class=\"f\">nu=</span>pl</span> <span class=\"ps xft\"><span class=\"f\">ps=</span>p1</span></div></div></div>"
      ],
      "text/plain": [
       "<IPython.core.display.HTML object>"
      ]
     },
     "metadata": {},
     "output_type": "display_data"
    }
   ],
   "source": [
    "query = '''\n",
    "word sp=verb vs#qal vt#infc|infa|ptca|ptcp ps#p3 nu#sg gn#m\n",
    "'''\n",
    "\n",
    "A.displaySetup(extraFeatures='vt ps nu gn')\n",
    "results = A.search(query, shallow=True)\n",
    "for r in sorted(results)[0:5]:\n",
    "    A.pretty(r)"
   ]
  },
  {
   "cell_type": "code",
   "execution_count": 25,
   "metadata": {},
   "outputs": [],
   "source": [
    "A.displayReset('extraFeatures')"
   ]
  },
  {
   "cell_type": "markdown",
   "metadata": {},
   "source": [
    "## Existence of values\n",
    "\n",
    "If you are not interested in the particular value of a feature,\n",
    "but only in whether there is a value or not, you can express that.\n",
    "\n",
    "### Qeres\n",
    "\n",
    "We can ask for all words that have a qere.\n",
    "Just leave out the `=value` part.\n",
    "\n",
    "```\n",
    "word qere\n",
    "```\n",
    "\n",
    "Conversely, we can ask for words without a qere.\n",
    "Just add a `#` after the feature name.\n",
    "\n",
    "```\n",
    "word qere#\n",
    "```\n",
    "\n",
    "Let's test it."
   ]
  },
  {
   "cell_type": "code",
   "execution_count": 26,
   "metadata": {
    "ExecuteTime": {
     "end_time": "2018-05-24T08:00:49.932231Z",
     "start_time": "2018-05-24T08:00:48.725647Z"
    }
   },
   "outputs": [
    {
     "name": "stdout",
     "output_type": "stream",
     "text": [
      "Words in total:\n",
      "  0.45s 426584 results\n",
      "Words with a qere:\n",
      "  0.26s 1892 results\n",
      "Words without a qere:\n",
      "  0.64s 424692 results\n",
      "qereWords + plainWords == allWords ? True\n"
     ]
    }
   ],
   "source": [
    "query = '''\n",
    "word\n",
    "'''\n",
    "print('Words in total:')\n",
    "results = A.search(query)\n",
    "allWords = len(results)\n",
    "\n",
    "print('Words with a qere:')\n",
    "query = '''\n",
    "word qere\n",
    "'''\n",
    "results = A.search(query)\n",
    "qereWords = len(results)\n",
    "\n",
    "print('Words without a qere:')\n",
    "query = '''\n",
    "word qere#\n",
    "'''\n",
    "results = A.search(query)\n",
    "plainWords = len(results)\n",
    "\n",
    "print(f'qereWords + plainWords == allWords ? {qereWords + plainWords == allWords}')"
   ]
  },
  {
   "cell_type": "markdown",
   "metadata": {},
   "source": [
    "## Boundaries\n",
    "\n",
    "For features with *numerical* values, we may ask for values higher or lower than a given value.\n",
    "\n",
    "The \n",
    "[dist](https://etcbc.github.io/bhsa/features/hebrew/2017/dist.html)\n",
    "feature gives the distance between an object and its mother.\n",
    "\n",
    "We want to see it values by means of `freqList()`, but the feature is not yet loaded.\n",
    "Let's do a query with it, after running it, the feature is loaded."
   ]
  },
  {
   "cell_type": "code",
   "execution_count": 27,
   "metadata": {
    "ExecuteTime": {
     "end_time": "2018-05-24T08:00:55.805149Z",
     "start_time": "2018-05-24T08:00:55.469647Z"
    }
   },
   "outputs": [
    {
     "name": "stdout",
     "output_type": "stream",
     "text": [
      "  0.20s 598 results\n"
     ]
    }
   ],
   "source": [
    "query = '''\n",
    "clause dist=1\n",
    "'''\n",
    "results = A.search(query)"
   ]
  },
  {
   "cell_type": "markdown",
   "metadata": {},
   "source": [
    "Now we can explore the frequencies:"
   ]
  },
  {
   "cell_type": "code",
   "execution_count": 28,
   "metadata": {
    "ExecuteTime": {
     "end_time": "2018-05-24T08:00:58.342986Z",
     "start_time": "2018-05-24T08:00:57.929824Z"
    },
    "scrolled": true
   },
   "outputs": [
    {
     "data": {
      "text/plain": [
       "((0, 631195),\n",
       " (-1, 104875),\n",
       " (-2, 38155),\n",
       " (-3, 14985),\n",
       " (-4, 7662),\n",
       " (-5, 3650),\n",
       " (-6, 2137),\n",
       " (1, 1773),\n",
       " (-7, 1375),\n",
       " (-8, 918))"
      ]
     },
     "execution_count": 28,
     "metadata": {},
     "output_type": "execute_result"
    }
   ],
   "source": [
    "F.dist.freqList()[0:10]"
   ]
  },
  {
   "cell_type": "markdown",
   "metadata": {},
   "source": [
    "Let us say we are interested in clause only. The feature `dist` is defined for multiple node types.\n",
    "We can pass a set of node types to `freqList()` in order to get the frequencies restricted to those types:"
   ]
  },
  {
   "cell_type": "code",
   "execution_count": 29,
   "metadata": {
    "ExecuteTime": {
     "end_time": "2018-05-24T08:01:00.822906Z",
     "start_time": "2018-05-24T08:01:00.224369Z"
    }
   },
   "outputs": [
    {
     "data": {
      "text/plain": [
       "((0, 67352),\n",
       " (-1, 11574),\n",
       " (-2, 3263),\n",
       " (-3, 2438),\n",
       " (-4, 1383),\n",
       " (-5, 667),\n",
       " (1, 598),\n",
       " (-6, 328),\n",
       " (-7, 166),\n",
       " (-8, 71))"
      ]
     },
     "execution_count": 29,
     "metadata": {},
     "output_type": "execute_result"
    }
   ],
   "source": [
    "F.dist.freqList({'clause'})[0:10]"
   ]
  },
  {
   "cell_type": "markdown",
   "metadata": {},
   "source": [
    "There are negative distances. In those cases the mother preceeds the daughter. Let's get the mothers that\n",
    "precede their daughters by a large amount."
   ]
  },
  {
   "cell_type": "code",
   "execution_count": 30,
   "metadata": {
    "ExecuteTime": {
     "end_time": "2018-05-24T08:01:05.718152Z",
     "start_time": "2018-05-24T08:01:05.541047Z"
    }
   },
   "outputs": [
    {
     "name": "stdout",
     "output_type": "stream",
     "text": [
      "  0.10s 86 results\n"
     ]
    },
    {
     "data": {
      "text/html": [
       "<table>\n",
       "<tr class=\"tf\">\n",
       "  <th class=\"tf\">n</th><th class=\"tf\">p</th>\n",
       "  <th class=\"tf\">verse</th><th>clause</th>\n",
       "</tr>\n",
       "\n",
       "<tr class=\"tf\"><td class=\"tf\">1</td><td class=\"tf\"> <a href=\"https://shebanq.ancient-data.org/hebrew/text?book=Genesis&amp;chapter=25&amp;verse=12&amp;version=c&amp;mr=m&amp;qw=q&amp;tp=txt_p&amp;tr=hb&amp;wget=v&amp;qget=v&amp;nget=vt\" title=\"show this passage in SHEBANQ\" sec=\"Genesis 25:12\">Genesis 25:12</a></td><td class=\"tf\"><span class=\"vrs ltr\"><a href=\"https://shebanq.ancient-data.org/hebrew/text?book=Genesis&amp;chapter=25&amp;verse=12&amp;version=c&amp;mr=m&amp;qw=q&amp;tp=txt_p&amp;tr=hb&amp;wget=v&amp;qget=v&amp;nget=vt\" title=\"show this passage in SHEBANQ\" sec=\"Genesis 25:12\">Genesis 25:12</a></span><span class=\"plain outer  rtl  \" ><span class=\"plain rtl \"><span class=\"plain rtl  \" ><span class=\"plain rtl  \" ><span class=\"plain rtl  \" ><span class=\"plain rtl  \" ><span class=\"h\">וְ</span></span></span><span class=\"plain rtl  \" ><span class=\"plain rtl  \" ><span class=\"h\">אֵ֛לֶּה </span></span></span><span class=\"plain rtl  \" ><span class=\"plain rtl  \" ><span class=\"h\">תֹּלְדֹ֥ת </span></span><span class=\"plain rtl  \" ><span class=\"h\">יִשְׁמָעֵ֖אל </span></span></span><span class=\"plain rtl  \" ><span class=\"plain rtl  \" ><span class=\"h\">בֶּן־</span></span><span class=\"plain rtl  \" ><span class=\"h\">אַבְרָהָ֑ם </span></span></span></span><span class=\"plain rtl  hlbx\" ><span class=\"plain rtl  \" ><span class=\"plain rtl  \" ><span class=\"plain rtl  \" ><span class=\"h\">אֲשֶׁ֨ר </span></span></span><span class=\"plain rtl  \" ><span class=\"plain rtl  \" ><span class=\"h\">יָלְדָ֜ה </span></span></span><span class=\"plain rtl  \" ><span class=\"plain rtl  \" ><span class=\"h\">הָגָ֧ר </span></span></span><span class=\"plain rtl  \" ><span class=\"plain rtl  \" ><span class=\"h\">הַ</span></span><span class=\"plain rtl  \" ><span class=\"h\">מִּצְרִ֛ית </span></span></span><span class=\"plain rtl  \" ><span class=\"plain rtl  \" ><span class=\"h\">שִׁפְחַ֥ת </span></span><span class=\"plain rtl  \" ><span class=\"h\">שָׂרָ֖ה </span></span></span><span class=\"plain rtl  \" ><span class=\"plain rtl  \" ><span class=\"h\">לְ</span></span><span class=\"plain rtl  \" ><span class=\"h\">אַבְרָהָֽם׃ </span></span></span></span></span></span></span></span></td><td class=\"tf\"><span class=\"plain outer  rtl \"><span class=\"plain rtl  hlbx\" ><span class=\"plain rtl  \" ><span class=\"plain rtl  \" ><span class=\"plain rtl  \" ><span class=\"h\">אֲשֶׁ֨ר </span></span></span><span class=\"plain rtl  \" ><span class=\"plain rtl  \" ><span class=\"h\">יָלְדָ֜ה </span></span></span><span class=\"plain rtl  \" ><span class=\"plain rtl  \" ><span class=\"h\">הָגָ֧ר </span></span></span><span class=\"plain rtl  \" ><span class=\"plain rtl  \" ><span class=\"h\">הַ</span></span><span class=\"plain rtl  \" ><span class=\"h\">מִּצְרִ֛ית </span></span></span><span class=\"plain rtl  \" ><span class=\"plain rtl  \" ><span class=\"h\">שִׁפְחַ֥ת </span></span><span class=\"plain rtl  \" ><span class=\"h\">שָׂרָ֖ה </span></span></span><span class=\"plain rtl  \" ><span class=\"plain rtl  \" ><span class=\"h\">לְ</span></span><span class=\"plain rtl  \" ><span class=\"h\">אַבְרָהָֽם׃ </span></span></span></span></span></span></td></tr>\n",
       "<tr class=\"tf\"><td class=\"tf\">2</td><td class=\"tf\"> <a href=\"https://shebanq.ancient-data.org/hebrew/text?book=Genesis&amp;chapter=30&amp;verse=33&amp;version=c&amp;mr=m&amp;qw=q&amp;tp=txt_p&amp;tr=hb&amp;wget=v&amp;qget=v&amp;nget=vt\" title=\"show this passage in SHEBANQ\" sec=\"Genesis 30:33\">Genesis 30:33</a></td><td class=\"tf\"><span class=\"vrs ltr\"><a href=\"https://shebanq.ancient-data.org/hebrew/text?book=Genesis&amp;chapter=30&amp;verse=33&amp;version=c&amp;mr=m&amp;qw=q&amp;tp=txt_p&amp;tr=hb&amp;wget=v&amp;qget=v&amp;nget=vt\" title=\"show this passage in SHEBANQ\" sec=\"Genesis 30:33\">Genesis 30:33</a></span><span class=\"plain outer  rtl  \" ><span class=\"plain rtl \"><span class=\"plain rtl  \" ><span class=\"plain rtl  \" ><span class=\"plain rtl  \" ><span class=\"plain rtl  \" ><span class=\"h\">וְ</span></span></span><span class=\"plain rtl  \" ><span class=\"plain rtl  \" ><span class=\"h\">עָֽנְתָה־</span></span></span><span class=\"plain rtl  \" ><span class=\"plain rtl  \" ><span class=\"h\">בִּ֤י </span></span></span><span class=\"plain rtl  \" ><span class=\"plain rtl  \" ><span class=\"h\">צִדְקָתִי֙ </span></span></span><span class=\"plain rtl  \" ><span class=\"plain rtl  \" ><span class=\"h\">בְּ</span></span><span class=\"plain rtl  \" ><span class=\"h\">יֹ֣ום </span></span><span class=\"plain rtl  \" ><span class=\"h\">מָחָ֔ר </span></span></span></span></span><span class=\"plain rtl  \" ><span class=\"plain rtl  \" ><span class=\"plain rtl  \" ><span class=\"plain rtl  \" ><span class=\"h\">כִּֽי־</span></span></span><span class=\"plain rtl  \" ><span class=\"plain rtl  \" ><span class=\"h\">תָבֹ֥וא </span></span></span><span class=\"plain rtl  \" ><span class=\"plain rtl  \" ><span class=\"h\">עַל־</span></span><span class=\"plain rtl  \" ><span class=\"h\">שְׂכָרִ֖י </span></span></span><span class=\"plain rtl  \" ><span class=\"plain rtl  \" ><span class=\"h\">לְ</span></span><span class=\"plain rtl  \" ><span class=\"h\">פָנֶ֑יךָ </span></span></span></span></span><span class=\"plain rtl  \" ><span class=\"plain rtl  \" ><span class=\"plain rtl  \" ><span class=\"plain rtl  \" ><span class=\"h\">כֹּ֣ל </span></span></span></span><span class=\"plain rtl  hlbx\" ><span class=\"plain rtl  \" ><span class=\"plain rtl  \" ><span class=\"plain rtl  \" ><span class=\"h\">אֲשֶׁר־</span></span></span><span class=\"plain rtl  \" ><span class=\"plain rtl  \" ><span class=\"h\">אֵינֶנּוּ֩ </span></span></span><span class=\"plain rtl  \" ><span class=\"plain rtl  \" ><span class=\"h\">נָקֹ֨ד </span></span><span class=\"plain rtl  \" ><span class=\"h\">וְ</span></span><span class=\"plain rtl  \" ><span class=\"h\">טָל֜וּא </span></span></span><span class=\"plain rtl  \" ><span class=\"plain rtl  \" ><span class=\"h\">בָּֽ</span></span><span class=\"plain rtl  \" ><span class=\"h\"></span></span><span class=\"plain rtl  \" ><span class=\"h\">עִזִּ֗ים </span></span></span><span class=\"plain rtl  \" ><span class=\"plain rtl  \" ><span class=\"h\">וְ</span></span></span><span class=\"plain rtl  \" ><span class=\"plain rtl  \" ><span class=\"h\">חוּם֙ </span></span></span><span class=\"plain rtl  \" ><span class=\"plain rtl  \" ><span class=\"h\">בַּ</span></span><span class=\"plain rtl  \" ><span class=\"h\"></span></span><span class=\"plain rtl  \" ><span class=\"h\">כְּשָׂבִ֔ים </span></span></span></span></span><span class=\"plain rtl  \" ><span class=\"plain rtl  \" ><span class=\"plain rtl  \" ><span class=\"h\">גָּנ֥וּב </span></span></span><span class=\"plain rtl  \" ><span class=\"plain rtl  \" ><span class=\"h\">ה֖וּא </span></span></span><span class=\"plain rtl  \" ><span class=\"plain rtl  \" ><span class=\"h\">אִתִּֽי׃ </span></span></span></span></span></span></span></td><td class=\"tf\"><span class=\"plain outer  rtl \"><span class=\"plain rtl  hlbx\" ><span class=\"plain rtl  \" ><span class=\"plain rtl  \" ><span class=\"plain rtl  \" ><span class=\"h\">אֲשֶׁר־</span></span></span><span class=\"plain rtl  \" ><span class=\"plain rtl  \" ><span class=\"h\">אֵינֶנּוּ֩ </span></span></span><span class=\"plain rtl  \" ><span class=\"plain rtl  \" ><span class=\"h\">נָקֹ֨ד </span></span><span class=\"plain rtl  \" ><span class=\"h\">וְ</span></span><span class=\"plain rtl  \" ><span class=\"h\">טָל֜וּא </span></span></span><span class=\"plain rtl  \" ><span class=\"plain rtl  \" ><span class=\"h\">בָּֽ</span></span><span class=\"plain rtl  \" ><span class=\"h\"></span></span><span class=\"plain rtl  \" ><span class=\"h\">עִזִּ֗ים </span></span></span><span class=\"plain rtl  \" ><span class=\"plain rtl  \" ><span class=\"h\">וְ</span></span></span><span class=\"plain rtl  \" ><span class=\"plain rtl  \" ><span class=\"h\">חוּם֙ </span></span></span><span class=\"plain rtl  \" ><span class=\"plain rtl  \" ><span class=\"h\">בַּ</span></span><span class=\"plain rtl  \" ><span class=\"h\"></span></span><span class=\"plain rtl  \" ><span class=\"h\">כְּשָׂבִ֔ים </span></span></span></span></span></span></td></tr>\n",
       "<tr class=\"tf\"><td class=\"tf\">3</td><td class=\"tf\"> <a href=\"https://shebanq.ancient-data.org/hebrew/text?book=Genesis&amp;chapter=49&amp;verse=11&amp;version=c&amp;mr=m&amp;qw=q&amp;tp=txt_p&amp;tr=hb&amp;wget=v&amp;qget=v&amp;nget=vt\" title=\"show this passage in SHEBANQ\" sec=\"Genesis 49:11\">Genesis 49:11</a></td><td class=\"tf\"><span class=\"vrs ltr\"><a href=\"https://shebanq.ancient-data.org/hebrew/text?book=Genesis&amp;chapter=49&amp;verse=11&amp;version=c&amp;mr=m&amp;qw=q&amp;tp=txt_p&amp;tr=hb&amp;wget=v&amp;qget=v&amp;nget=vt\" title=\"show this passage in SHEBANQ\" sec=\"Genesis 49:11\">Genesis 49:11</a></span><span class=\"plain outer  rtl  \" ><span class=\"plain rtl \"><span class=\"plain rtl  rno \" ><span class=\"plain rtl  hlbx\" ><span class=\"plain rtl  \" ><span class=\"plain rtl  \" ><span class=\"plain rtl  \" ><span class=\"h\">אֹסְרִ֤י </span></span></span><span class=\"plain rtl  \" ><span class=\"plain rtl  \" ><span class=\"h\">לַ</span></span><span class=\"plain rtl  \" ><span class=\"h\"></span></span><span class=\"plain rtl  \" ><span class=\"h\">גֶּ֨פֶן֙ </span></span></span><span class=\"plain rtl  \" ><span class=\"plain rtl  \" ><span class=\"h\">עִירֹ֔ו </span></span></span></span></span><span class=\"plain rtl  \" ><span class=\"plain rtl  \" ><span class=\"plain rtl  \" ><span class=\"h\">וְ</span></span></span><span class=\"plain rtl  \" ><span class=\"plain rtl  \" ><span class=\"h\">לַ</span></span><span class=\"plain rtl  \" ><span class=\"h\"></span></span><span class=\"plain rtl  \" ><span class=\"h\">שֹּׂרֵקָ֖ה </span></span></span><span class=\"plain rtl  \" ><span class=\"plain rtl  \" ><span class=\"h\">בְּנִ֣י </span></span><span class=\"plain rtl  \" ><span class=\"h\">אֲתֹנֹ֑ו </span></span></span></span></span><span class=\"plain rtl  \" ><span class=\"plain rtl  \" ><span class=\"plain rtl  \" ><span class=\"plain rtl  \" ><span class=\"h\">כִּבֵּ֤ס </span></span></span><span class=\"plain rtl  \" ><span class=\"plain rtl  \" ><span class=\"h\">בַּ</span></span><span class=\"plain rtl  \" ><span class=\"h\"></span></span><span class=\"plain rtl  \" ><span class=\"h\">יַּ֨יִן֙ </span></span></span><span class=\"plain rtl  \" ><span class=\"plain rtl  \" ><span class=\"h\">לְבֻשֹׁ֔ו </span></span></span></span><span class=\"plain rtl  \" ><span class=\"plain rtl  \" ><span class=\"plain rtl  \" ><span class=\"h\">וּ</span></span></span><span class=\"plain rtl  \" ><span class=\"plain rtl  \" ><span class=\"h\">בְ</span></span><span class=\"plain rtl  \" ><span class=\"h\">דַם־</span></span><span class=\"plain rtl  \" ><span class=\"h\">עֲנָבִ֖ים </span></span></span><span class=\"plain rtl  \" ><span class=\"plain rtl  \" ><span class=\"h\">סוּתֹֽו׃</span></span></span></span></span></span></span></td><td class=\"tf\"><span class=\"plain outer  rtl \"><span class=\"plain rtl  hlbx\" ><span class=\"plain rtl  \" ><span class=\"plain rtl  \" ><span class=\"plain rtl  \" ><span class=\"h\">אֹסְרִ֤י </span></span></span><span class=\"plain rtl  \" ><span class=\"plain rtl  \" ><span class=\"h\">לַ</span></span><span class=\"plain rtl  \" ><span class=\"h\"></span></span><span class=\"plain rtl  \" ><span class=\"h\">גֶּ֨פֶן֙ </span></span></span><span class=\"plain rtl  \" ><span class=\"plain rtl  \" ><span class=\"h\">עִירֹ֔ו </span></span></span></span></span></span></td></tr>\n",
       "<tr class=\"tf\"><td class=\"tf\">4</td><td class=\"tf\"> <a href=\"https://shebanq.ancient-data.org/hebrew/text?book=Genesis&amp;chapter=50&amp;verse=13&amp;version=c&amp;mr=m&amp;qw=q&amp;tp=txt_p&amp;tr=hb&amp;wget=v&amp;qget=v&amp;nget=vt\" title=\"show this passage in SHEBANQ\" sec=\"Genesis 50:13\">Genesis 50:13</a></td><td class=\"tf\"><span class=\"vrs ltr\"><a href=\"https://shebanq.ancient-data.org/hebrew/text?book=Genesis&amp;chapter=50&amp;verse=13&amp;version=c&amp;mr=m&amp;qw=q&amp;tp=txt_p&amp;tr=hb&amp;wget=v&amp;qget=v&amp;nget=vt\" title=\"show this passage in SHEBANQ\" sec=\"Genesis 50:13\">Genesis 50:13</a></span><span class=\"plain outer  rtl  \" ><span class=\"plain rtl \"><span class=\"plain rtl  \" ><span class=\"plain rtl  \" ><span class=\"plain rtl  \" ><span class=\"plain rtl  \" ><span class=\"h\">וַ</span></span></span><span class=\"plain rtl  \" ><span class=\"plain rtl  \" ><span class=\"h\">יִּשְׂא֨וּ </span></span></span><span class=\"plain rtl  \" ><span class=\"plain rtl  \" ><span class=\"h\">אֹתֹ֤ו </span></span></span><span class=\"plain rtl  \" ><span class=\"plain rtl  \" ><span class=\"h\">בָנָיו֙ </span></span></span><span class=\"plain rtl  \" ><span class=\"plain rtl  \" ><span class=\"h\">אַ֣רְצָה </span></span><span class=\"plain rtl  \" ><span class=\"h\">כְּנַ֔עַן </span></span></span></span></span><span class=\"plain rtl  \" ><span class=\"plain rtl  \" ><span class=\"plain rtl  \" ><span class=\"plain rtl  \" ><span class=\"h\">וַ</span></span></span><span class=\"plain rtl  \" ><span class=\"plain rtl  \" ><span class=\"h\">יִּקְבְּר֣וּ </span></span></span><span class=\"plain rtl  \" ><span class=\"plain rtl  \" ><span class=\"h\">אֹתֹ֔ו </span></span></span><span class=\"plain rtl  \" ><span class=\"plain rtl  \" ><span class=\"h\">בִּ</span></span><span class=\"plain rtl  \" ><span class=\"h\">מְעָרַ֖ת </span></span><span class=\"plain rtl  \" ><span class=\"h\">שְׂדֵ֣ה </span></span><span class=\"plain rtl  \" ><span class=\"h\">הַ</span></span><span class=\"plain rtl  \" ><span class=\"h\">מַּכְפֵּלָ֑ה </span></span></span></span><span class=\"plain rtl  hlbx\" ><span class=\"plain rtl  \" ><span class=\"plain rtl  \" ><span class=\"plain rtl  \" ><span class=\"h\">אֲשֶׁ֣ר </span></span></span><span class=\"plain rtl  \" ><span class=\"plain rtl  \" ><span class=\"h\">קָנָה֩ </span></span></span><span class=\"plain rtl  \" ><span class=\"plain rtl  \" ><span class=\"h\">אַבְרָהָ֨ם </span></span></span><span class=\"plain rtl  \" ><span class=\"plain rtl  \" ><span class=\"h\">אֶת־</span></span><span class=\"plain rtl  \" ><span class=\"h\">הַ</span></span><span class=\"plain rtl  \" ><span class=\"h\">שָּׂדֶ֜ה </span></span></span><span class=\"plain rtl  \" ><span class=\"plain rtl  \" ><span class=\"h\">לַ</span></span><span class=\"plain rtl  \" ><span class=\"h\">אֲחֻזַּת־</span></span><span class=\"plain rtl  \" ><span class=\"h\">קֶ֗בֶר </span></span></span><span class=\"plain rtl  \" ><span class=\"plain rtl  \" ><span class=\"h\">מֵ</span></span><span class=\"plain rtl  \" ><span class=\"h\">אֵ֛ת </span></span><span class=\"plain rtl  \" ><span class=\"h\">עֶפְרֹ֥ן </span></span></span><span class=\"plain rtl  \" ><span class=\"plain rtl  \" ><span class=\"h\">הַ</span></span><span class=\"plain rtl  \" ><span class=\"h\">חִתִּ֖י </span></span></span></span></span><span class=\"plain rtl  \" ><span class=\"plain rtl  \" ><span class=\"plain rtl  \" ><span class=\"h\">עַל־</span></span><span class=\"plain rtl  \" ><span class=\"h\">פְּנֵ֥י </span></span><span class=\"plain rtl  \" ><span class=\"h\">מַמְרֵֽא׃ </span></span></span></span></span></span></span></td><td class=\"tf\"><span class=\"plain outer  rtl \"><span class=\"plain rtl  hlbx\" ><span class=\"plain rtl  \" ><span class=\"plain rtl  \" ><span class=\"plain rtl  \" ><span class=\"h\">אֲשֶׁ֣ר </span></span></span><span class=\"plain rtl  \" ><span class=\"plain rtl  \" ><span class=\"h\">קָנָה֩ </span></span></span><span class=\"plain rtl  \" ><span class=\"plain rtl  \" ><span class=\"h\">אַבְרָהָ֨ם </span></span></span><span class=\"plain rtl  \" ><span class=\"plain rtl  \" ><span class=\"h\">אֶת־</span></span><span class=\"plain rtl  \" ><span class=\"h\">הַ</span></span><span class=\"plain rtl  \" ><span class=\"h\">שָּׂדֶ֜ה </span></span></span><span class=\"plain rtl  \" ><span class=\"plain rtl  \" ><span class=\"h\">לַ</span></span><span class=\"plain rtl  \" ><span class=\"h\">אֲחֻזַּת־</span></span><span class=\"plain rtl  \" ><span class=\"h\">קֶ֗בֶר </span></span></span><span class=\"plain rtl  \" ><span class=\"plain rtl  \" ><span class=\"h\">מֵ</span></span><span class=\"plain rtl  \" ><span class=\"h\">אֵ֛ת </span></span><span class=\"plain rtl  \" ><span class=\"h\">עֶפְרֹ֥ן </span></span></span><span class=\"plain rtl  \" ><span class=\"plain rtl  \" ><span class=\"h\">הַ</span></span><span class=\"plain rtl  \" ><span class=\"h\">חִתִּ֖י </span></span></span></span></span></span></td></tr>\n",
       "<tr class=\"tf\"><td class=\"tf\">5</td><td class=\"tf\"> <a href=\"https://shebanq.ancient-data.org/hebrew/text?book=Exodus&amp;chapter=18&amp;verse=8&amp;version=c&amp;mr=m&amp;qw=q&amp;tp=txt_p&amp;tr=hb&amp;wget=v&amp;qget=v&amp;nget=vt\" title=\"show this passage in SHEBANQ\" sec=\"Exodus 18:8\">Exodus 18:8</a></td><td class=\"tf\"><span class=\"vrs ltr\"><a href=\"https://shebanq.ancient-data.org/hebrew/text?book=Exodus&amp;chapter=18&amp;verse=8&amp;version=c&amp;mr=m&amp;qw=q&amp;tp=txt_p&amp;tr=hb&amp;wget=v&amp;qget=v&amp;nget=vt\" title=\"show this passage in SHEBANQ\" sec=\"Exodus 18:8\">Exodus 18:8</a></span><span class=\"plain outer  rtl  \" ><span class=\"plain rtl \"><span class=\"plain rtl  \" ><span class=\"plain rtl  \" ><span class=\"plain rtl  \" ><span class=\"plain rtl  \" ><span class=\"h\">וַ</span></span></span><span class=\"plain rtl  \" ><span class=\"plain rtl  \" ><span class=\"h\">יְסַפֵּ֤ר </span></span></span><span class=\"plain rtl  \" ><span class=\"plain rtl  \" ><span class=\"h\">מֹשֶׁה֙ </span></span></span><span class=\"plain rtl  \" ><span class=\"plain rtl  \" ><span class=\"h\">לְ</span></span><span class=\"plain rtl  \" ><span class=\"h\">חֹ֣תְנֹ֔ו </span></span></span><span class=\"plain rtl  \" ><span class=\"plain rtl  \" ><span class=\"h\">אֵת֩ </span></span><span class=\"plain rtl  \" ><span class=\"h\">כָּל־</span></span></span></span><span class=\"plain rtl  hlbx\" ><span class=\"plain rtl  \" ><span class=\"plain rtl  \" ><span class=\"plain rtl  \" ><span class=\"h\">אֲשֶׁ֨ר </span></span></span><span class=\"plain rtl  \" ><span class=\"plain rtl  \" ><span class=\"h\">עָשָׂ֤ה </span></span></span><span class=\"plain rtl  \" ><span class=\"plain rtl  \" ><span class=\"h\">יְהוָה֙ </span></span></span><span class=\"plain rtl  \" ><span class=\"plain rtl  \" ><span class=\"h\">לְ</span></span><span class=\"plain rtl  \" ><span class=\"h\">פַרְעֹ֣ה </span></span><span class=\"plain rtl  \" ><span class=\"h\">וּ</span></span><span class=\"plain rtl  \" ><span class=\"h\">לְ</span></span><span class=\"plain rtl  \" ><span class=\"h\">מִצְרַ֔יִם </span></span></span><span class=\"plain rtl  \" ><span class=\"plain rtl  \" ><span class=\"h\">עַ֖ל </span></span><span class=\"plain rtl  \" ><span class=\"h\">אֹודֹ֣ת </span></span><span class=\"plain rtl  \" ><span class=\"h\">יִשְׂרָאֵ֑ל </span></span></span></span></span><span class=\"plain rtl  \" ><span class=\"plain rtl  \" ><span class=\"plain rtl  \" ><span class=\"h\">אֵ֤ת </span></span><span class=\"plain rtl  \" ><span class=\"h\">כָּל־</span></span><span class=\"plain rtl  \" ><span class=\"h\">הַ</span></span><span class=\"plain rtl  \" ><span class=\"h\">תְּלָאָה֙ </span></span></span></span><span class=\"plain rtl  \" ><span class=\"plain rtl  \" ><span class=\"plain rtl  \" ><span class=\"h\">אֲשֶׁ֣ר </span></span></span><span class=\"plain rtl  \" ><span class=\"plain rtl  \" ><span class=\"h\">מְצָאָ֣תַם </span></span></span><span class=\"plain rtl  \" ><span class=\"plain rtl  \" ><span class=\"h\">בַּ</span></span><span class=\"plain rtl  \" ><span class=\"h\"></span></span><span class=\"plain rtl  \" ><span class=\"h\">דֶּ֔רֶךְ </span></span></span></span><span class=\"plain rtl  \" ><span class=\"plain rtl  \" ><span class=\"plain rtl  \" ><span class=\"h\">וַ</span></span></span><span class=\"plain rtl  \" ><span class=\"plain rtl  \" ><span class=\"h\">יַּצִּלֵ֖ם </span></span></span><span class=\"plain rtl  \" ><span class=\"plain rtl  \" ><span class=\"h\">יְהוָֽה׃ </span></span></span></span></span></span></span></td><td class=\"tf\"><span class=\"plain outer  rtl \"><span class=\"plain rtl  hlbx\" ><span class=\"plain rtl  \" ><span class=\"plain rtl  \" ><span class=\"plain rtl  \" ><span class=\"h\">אֲשֶׁ֨ר </span></span></span><span class=\"plain rtl  \" ><span class=\"plain rtl  \" ><span class=\"h\">עָשָׂ֤ה </span></span></span><span class=\"plain rtl  \" ><span class=\"plain rtl  \" ><span class=\"h\">יְהוָה֙ </span></span></span><span class=\"plain rtl  \" ><span class=\"plain rtl  \" ><span class=\"h\">לְ</span></span><span class=\"plain rtl  \" ><span class=\"h\">פַרְעֹ֣ה </span></span><span class=\"plain rtl  \" ><span class=\"h\">וּ</span></span><span class=\"plain rtl  \" ><span class=\"h\">לְ</span></span><span class=\"plain rtl  \" ><span class=\"h\">מִצְרַ֔יִם </span></span></span><span class=\"plain rtl  \" ><span class=\"plain rtl  \" ><span class=\"h\">עַ֖ל </span></span><span class=\"plain rtl  \" ><span class=\"h\">אֹודֹ֣ת </span></span><span class=\"plain rtl  \" ><span class=\"h\">יִשְׂרָאֵ֑ל </span></span></span></span></span></span></td></tr>\n",
       "<tr class=\"tf\"><td class=\"tf\">6</td><td class=\"tf\"> <a href=\"https://shebanq.ancient-data.org/hebrew/text?book=Exodus&amp;chapter=25&amp;verse=9&amp;version=c&amp;mr=m&amp;qw=q&amp;tp=txt_p&amp;tr=hb&amp;wget=v&amp;qget=v&amp;nget=vt\" title=\"show this passage in SHEBANQ\" sec=\"Exodus 25:9\">Exodus 25:9</a></td><td class=\"tf\"><span class=\"vrs ltr\"><a href=\"https://shebanq.ancient-data.org/hebrew/text?book=Exodus&amp;chapter=25&amp;verse=9&amp;version=c&amp;mr=m&amp;qw=q&amp;tp=txt_p&amp;tr=hb&amp;wget=v&amp;qget=v&amp;nget=vt\" title=\"show this passage in SHEBANQ\" sec=\"Exodus 25:9\">Exodus 25:9</a></span><span class=\"plain outer  rtl  \" ><span class=\"plain rtl \"><span class=\"plain rtl  \" ><span class=\"plain rtl  \" ><span class=\"plain rtl  \" ><span class=\"plain rtl  \" ><span class=\"h\">כְּ</span></span><span class=\"plain rtl  \" ><span class=\"h\">כֹ֗ל </span></span></span></span><span class=\"plain rtl  hlbx\" ><span class=\"plain rtl  \" ><span class=\"plain rtl  \" ><span class=\"plain rtl  \" ><span class=\"h\">אֲשֶׁ֤ר </span></span></span><span class=\"plain rtl  \" ><span class=\"plain rtl  \" ><span class=\"h\">אֲנִי֙ </span></span></span><span class=\"plain rtl  \" ><span class=\"plain rtl  \" ><span class=\"h\">מַרְאֶ֣ה </span></span></span><span class=\"plain rtl  \" ><span class=\"plain rtl  \" ><span class=\"h\">אֹותְךָ֔ </span></span></span><span class=\"plain rtl  \" ><span class=\"plain rtl  \" ><span class=\"h\">אֵ֚ת </span></span><span class=\"plain rtl  \" ><span class=\"h\">תַּבְנִ֣ית </span></span><span class=\"plain rtl  \" ><span class=\"h\">הַ</span></span><span class=\"plain rtl  \" ><span class=\"h\">מִּשְׁכָּ֔ן </span></span><span class=\"plain rtl  \" ><span class=\"h\">וְ</span></span><span class=\"plain rtl  \" ><span class=\"h\">אֵ֖ת </span></span><span class=\"plain rtl  \" ><span class=\"h\">תַּבְנִ֣ית </span></span><span class=\"plain rtl  \" ><span class=\"h\">כָּל־</span></span><span class=\"plain rtl  \" ><span class=\"h\">כֵּלָ֑יו </span></span></span></span></span><span class=\"plain rtl  \" ><span class=\"plain rtl  \" ><span class=\"plain rtl  \" ><span class=\"h\">וְ</span></span></span><span class=\"plain rtl  \" ><span class=\"plain rtl  \" ><span class=\"h\">כֵ֖ן </span></span></span><span class=\"plain rtl  \" ><span class=\"plain rtl  \" ><span class=\"h\">תַּעֲשֽׂוּ׃ ס </span></span></span></span></span></span></span></td><td class=\"tf\"><span class=\"plain outer  rtl \"><span class=\"plain rtl  hlbx\" ><span class=\"plain rtl  \" ><span class=\"plain rtl  \" ><span class=\"plain rtl  \" ><span class=\"h\">אֲשֶׁ֤ר </span></span></span><span class=\"plain rtl  \" ><span class=\"plain rtl  \" ><span class=\"h\">אֲנִי֙ </span></span></span><span class=\"plain rtl  \" ><span class=\"plain rtl  \" ><span class=\"h\">מַרְאֶ֣ה </span></span></span><span class=\"plain rtl  \" ><span class=\"plain rtl  \" ><span class=\"h\">אֹותְךָ֔ </span></span></span><span class=\"plain rtl  \" ><span class=\"plain rtl  \" ><span class=\"h\">אֵ֚ת </span></span><span class=\"plain rtl  \" ><span class=\"h\">תַּבְנִ֣ית </span></span><span class=\"plain rtl  \" ><span class=\"h\">הַ</span></span><span class=\"plain rtl  \" ><span class=\"h\">מִּשְׁכָּ֔ן </span></span><span class=\"plain rtl  \" ><span class=\"h\">וְ</span></span><span class=\"plain rtl  \" ><span class=\"h\">אֵ֖ת </span></span><span class=\"plain rtl  \" ><span class=\"h\">תַּבְנִ֣ית </span></span><span class=\"plain rtl  \" ><span class=\"h\">כָּל־</span></span><span class=\"plain rtl  \" ><span class=\"h\">כֵּלָ֑יו </span></span></span></span></span></span></td></tr>\n",
       "<tr class=\"tf\"><td class=\"tf\">7</td><td class=\"tf\"> <a href=\"https://shebanq.ancient-data.org/hebrew/text?book=Exodus&amp;chapter=38&amp;verse=26&amp;version=c&amp;mr=m&amp;qw=q&amp;tp=txt_p&amp;tr=hb&amp;wget=v&amp;qget=v&amp;nget=vt\" title=\"show this passage in SHEBANQ\" sec=\"Exodus 38:26\">Exodus 38:26</a></td><td class=\"tf\"><span class=\"vrs ltr\"><a href=\"https://shebanq.ancient-data.org/hebrew/text?book=Exodus&amp;chapter=38&amp;verse=26&amp;version=c&amp;mr=m&amp;qw=q&amp;tp=txt_p&amp;tr=hb&amp;wget=v&amp;qget=v&amp;nget=vt\" title=\"show this passage in SHEBANQ\" sec=\"Exodus 38:26\">Exodus 38:26</a></span><span class=\"plain outer  rtl  \" ><span class=\"plain rtl \"><span class=\"plain rtl  \" ><span class=\"plain rtl  \" ><span class=\"plain rtl  \" ><span class=\"plain rtl  \" ><span class=\"h\">בֶּ֚קַע </span></span></span><span class=\"plain rtl  \" ><span class=\"plain rtl  \" ><span class=\"h\">לַ</span></span><span class=\"plain rtl  \" ><span class=\"h\"></span></span><span class=\"plain rtl  \" ><span class=\"h\">גֻּלְגֹּ֔לֶת </span></span></span></span></span><span class=\"plain rtl  \" ><span class=\"plain rtl  \" ><span class=\"plain rtl  \" ><span class=\"plain rtl  \" ><span class=\"h\">מַחֲצִ֥ית </span></span><span class=\"plain rtl  \" ><span class=\"h\">הַ</span></span><span class=\"plain rtl  \" ><span class=\"h\">שֶּׁ֖קֶל </span></span></span><span class=\"plain rtl  \" ><span class=\"plain rtl  \" ><span class=\"h\">בְּ</span></span><span class=\"plain rtl  \" ><span class=\"h\">שֶׁ֣קֶל </span></span><span class=\"plain rtl  \" ><span class=\"h\">הַ</span></span><span class=\"plain rtl  \" ><span class=\"h\">קֹּ֑דֶשׁ </span></span></span></span></span><span class=\"plain rtl  \" ><span class=\"plain rtl  \" ><span class=\"plain rtl  \" ><span class=\"plain rtl  \" ><span class=\"h\">לְ</span></span><span class=\"plain rtl  \" ><span class=\"h\">כֹ֨ל </span></span></span></span><span class=\"plain rtl  hlbx\" ><span class=\"plain rtl  \" ><span class=\"plain rtl  \" ><span class=\"plain rtl  \" ><span class=\"h\">הָ</span></span></span><span class=\"plain rtl  \" ><span class=\"plain rtl  \" ><span class=\"h\">עֹבֵ֜ר </span></span></span><span class=\"plain rtl  \" ><span class=\"plain rtl  \" ><span class=\"h\">עַל־</span></span><span class=\"plain rtl  \" ><span class=\"h\">הַ</span></span><span class=\"plain rtl  \" ><span class=\"h\">פְּקֻדִ֗ים </span></span></span><span class=\"plain rtl  \" ><span class=\"plain rtl  \" ><span class=\"h\">מִ</span></span><span class=\"plain rtl  \" ><span class=\"h\">בֶּ֨ן </span></span><span class=\"plain rtl  \" ><span class=\"h\">עֶשְׂרִ֤ים </span></span><span class=\"plain rtl  \" ><span class=\"h\">שָׁנָה֙ </span></span></span><span class=\"plain rtl  \" ><span class=\"plain rtl  \" ><span class=\"h\">וָ</span></span></span><span class=\"plain rtl  \" ><span class=\"plain rtl  \" ><span class=\"h\">מַ֔עְלָה </span></span></span></span></span><span class=\"plain rtl  \" ><span class=\"plain rtl  \" ><span class=\"plain rtl  \" ><span class=\"h\">לְ</span></span><span class=\"plain rtl  \" ><span class=\"h\">שֵׁשׁ־</span></span><span class=\"plain rtl  \" ><span class=\"h\">מֵאֹ֥ות </span></span><span class=\"plain rtl  \" ><span class=\"h\">אֶ֨לֶף֙ </span></span><span class=\"plain rtl  \" ><span class=\"h\">וּ</span></span><span class=\"plain rtl  \" ><span class=\"h\">שְׁלֹ֣שֶׁת </span></span><span class=\"plain rtl  \" ><span class=\"h\">אֲלָפִ֔ים </span></span><span class=\"plain rtl  \" ><span class=\"h\">וַ</span></span><span class=\"plain rtl  \" ><span class=\"h\">חֲמֵ֥שׁ </span></span><span class=\"plain rtl  \" ><span class=\"h\">מֵאֹ֖ות </span></span><span class=\"plain rtl  \" ><span class=\"h\">וַ</span></span><span class=\"plain rtl  \" ><span class=\"h\">חֲמִשִּֽׁים׃ </span></span></span></span></span></span></span></td><td class=\"tf\"><span class=\"plain outer  rtl \"><span class=\"plain rtl  hlbx\" ><span class=\"plain rtl  \" ><span class=\"plain rtl  \" ><span class=\"plain rtl  \" ><span class=\"h\">הָ</span></span></span><span class=\"plain rtl  \" ><span class=\"plain rtl  \" ><span class=\"h\">עֹבֵ֜ר </span></span></span><span class=\"plain rtl  \" ><span class=\"plain rtl  \" ><span class=\"h\">עַל־</span></span><span class=\"plain rtl  \" ><span class=\"h\">הַ</span></span><span class=\"plain rtl  \" ><span class=\"h\">פְּקֻדִ֗ים </span></span></span><span class=\"plain rtl  \" ><span class=\"plain rtl  \" ><span class=\"h\">מִ</span></span><span class=\"plain rtl  \" ><span class=\"h\">בֶּ֨ן </span></span><span class=\"plain rtl  \" ><span class=\"h\">עֶשְׂרִ֤ים </span></span><span class=\"plain rtl  \" ><span class=\"h\">שָׁנָה֙ </span></span></span><span class=\"plain rtl  \" ><span class=\"plain rtl  \" ><span class=\"h\">וָ</span></span></span><span class=\"plain rtl  \" ><span class=\"plain rtl  \" ><span class=\"h\">מַ֔עְלָה </span></span></span></span></span></span></td></tr>\n",
       "<tr class=\"tf\"><td class=\"tf\">8</td><td class=\"tf\"> <a href=\"https://shebanq.ancient-data.org/hebrew/text?book=Exodus&amp;chapter=39&amp;verse=13&amp;version=c&amp;mr=m&amp;qw=q&amp;tp=txt_p&amp;tr=hb&amp;wget=v&amp;qget=v&amp;nget=vt\" title=\"show this passage in SHEBANQ\" sec=\"Exodus 39:13\">Exodus 39:13</a></td><td class=\"tf\"><span class=\"vrs ltr\"><a href=\"https://shebanq.ancient-data.org/hebrew/text?book=Exodus&amp;chapter=39&amp;verse=13&amp;version=c&amp;mr=m&amp;qw=q&amp;tp=txt_p&amp;tr=hb&amp;wget=v&amp;qget=v&amp;nget=vt\" title=\"show this passage in SHEBANQ\" sec=\"Exodus 39:13\">Exodus 39:13</a></span><span class=\"plain outer  rtl  \" ><span class=\"plain rtl \"><span class=\"plain rtl  \" ><span class=\"plain rtl  \" ><span class=\"plain rtl  \" ><span class=\"plain rtl  \" ><span class=\"h\">וְ</span></span></span><span class=\"plain rtl  \" ><span class=\"plain rtl  \" ><span class=\"h\">הַ</span></span><span class=\"plain rtl  \" ><span class=\"h\">טּוּר֙ </span></span><span class=\"plain rtl  \" ><span class=\"h\">הָֽ</span></span><span class=\"plain rtl  \" ><span class=\"h\">רְבִיעִ֔י </span></span></span><span class=\"plain rtl  \" ><span class=\"plain rtl  \" ><span class=\"h\">תַּרְשִׁ֥ישׁ </span></span><span class=\"plain rtl  \" ><span class=\"h\">שֹׁ֖הַם </span></span><span class=\"plain rtl  \" ><span class=\"h\">וְ</span></span><span class=\"plain rtl  \" ><span class=\"h\">יָשְׁפֵ֑ה </span></span></span></span></span><span class=\"plain rtl  \" ><span class=\"plain rtl  hlbx\" ><span class=\"plain rtl  \" ><span class=\"plain rtl  \" ><span class=\"plain rtl  \" ><span class=\"h\">מֽוּסַבֹּ֛ת </span></span></span><span class=\"plain rtl  \" ><span class=\"plain rtl  \" ><span class=\"h\">מִשְׁבְּצֹ֥ות </span></span><span class=\"plain rtl  \" ><span class=\"h\">זָהָ֖ב </span></span></span><span class=\"plain rtl  \" ><span class=\"plain rtl  \" ><span class=\"h\">בְּ</span></span><span class=\"plain rtl  \" ><span class=\"h\">מִלֻּאֹתָֽם׃ </span></span></span></span></span></span></span></span></td><td class=\"tf\"><span class=\"plain outer  rtl \"><span class=\"plain rtl  hlbx\" ><span class=\"plain rtl  \" ><span class=\"plain rtl  \" ><span class=\"plain rtl  \" ><span class=\"h\">מֽוּסַבֹּ֛ת </span></span></span><span class=\"plain rtl  \" ><span class=\"plain rtl  \" ><span class=\"h\">מִשְׁבְּצֹ֥ות </span></span><span class=\"plain rtl  \" ><span class=\"h\">זָהָ֖ב </span></span></span><span class=\"plain rtl  \" ><span class=\"plain rtl  \" ><span class=\"h\">בְּ</span></span><span class=\"plain rtl  \" ><span class=\"h\">מִלֻּאֹתָֽם׃ </span></span></span></span></span></span></td></tr>\n",
       "<tr class=\"tf\"><td class=\"tf\">9</td><td class=\"tf\"> <a href=\"https://shebanq.ancient-data.org/hebrew/text?book=Leviticus&amp;chapter=11&amp;verse=9&amp;version=c&amp;mr=m&amp;qw=q&amp;tp=txt_p&amp;tr=hb&amp;wget=v&amp;qget=v&amp;nget=vt\" title=\"show this passage in SHEBANQ\" sec=\"Leviticus 11:9\">Leviticus 11:9</a></td><td class=\"tf\"><span class=\"vrs ltr\"><a href=\"https://shebanq.ancient-data.org/hebrew/text?book=Leviticus&amp;chapter=11&amp;verse=9&amp;version=c&amp;mr=m&amp;qw=q&amp;tp=txt_p&amp;tr=hb&amp;wget=v&amp;qget=v&amp;nget=vt\" title=\"show this passage in SHEBANQ\" sec=\"Leviticus 11:9\">Leviticus 11:9</a></span><span class=\"plain outer  rtl  \" ><span class=\"plain rtl \"><span class=\"plain rtl  \" ><span class=\"plain rtl  \" ><span class=\"plain rtl  \" ><span class=\"plain rtl  \" ><span class=\"h\">אֶת־</span></span><span class=\"plain rtl  \" ><span class=\"h\">זֶה֙ </span></span></span><span class=\"plain rtl  \" ><span class=\"plain rtl  \" ><span class=\"h\">תֹּֽאכְל֔וּ </span></span></span><span class=\"plain rtl  \" ><span class=\"plain rtl  \" ><span class=\"h\">מִ</span></span><span class=\"plain rtl  \" ><span class=\"h\">כֹּ֖ל </span></span></span></span><span class=\"plain rtl  \" ><span class=\"plain rtl  \" ><span class=\"plain rtl  \" ><span class=\"h\">אֲשֶׁ֣ר </span></span></span><span class=\"plain rtl  \" ><span class=\"plain rtl  \" ><span class=\"h\">בַּ</span></span><span class=\"plain rtl  \" ><span class=\"h\"></span></span><span class=\"plain rtl  \" ><span class=\"h\">מָּ֑יִם </span></span></span></span></span><span class=\"plain rtl  \" ><span class=\"plain rtl  \" ><span class=\"plain rtl  \" ><span class=\"plain rtl  \" ><span class=\"h\">כֹּ֣ל </span></span></span></span><span class=\"plain rtl  hlbx\" ><span class=\"plain rtl  \" ><span class=\"plain rtl  \" ><span class=\"plain rtl  \" ><span class=\"h\">אֲשֶׁר־</span></span></span><span class=\"plain rtl  \" ><span class=\"plain rtl  \" ><span class=\"h\">לֹו֩ </span></span></span><span class=\"plain rtl  \" ><span class=\"plain rtl  \" ><span class=\"h\">סְנַפִּ֨יר </span></span><span class=\"plain rtl  \" ><span class=\"h\">וְ</span></span><span class=\"plain rtl  \" ><span class=\"h\">קַשְׂקֶ֜שֶׂת </span></span></span><span class=\"plain rtl  \" ><span class=\"plain rtl  \" ><span class=\"h\">בַּ</span></span><span class=\"plain rtl  \" ><span class=\"h\"></span></span><span class=\"plain rtl  \" ><span class=\"h\">מַּ֗יִם </span></span></span><span class=\"plain rtl  \" ><span class=\"plain rtl  \" ><span class=\"h\">בַּ</span></span><span class=\"plain rtl  \" ><span class=\"h\"></span></span><span class=\"plain rtl  \" ><span class=\"h\">יַּמִּ֛ים </span></span><span class=\"plain rtl  \" ><span class=\"h\">וּ</span></span><span class=\"plain rtl  \" ><span class=\"h\">בַ</span></span><span class=\"plain rtl  \" ><span class=\"h\"></span></span><span class=\"plain rtl  \" ><span class=\"h\">נְּחָלִ֖ים </span></span></span></span></span><span class=\"plain rtl  \" ><span class=\"plain rtl  \" ><span class=\"plain rtl  \" ><span class=\"h\">אֹתָ֥ם </span></span></span><span class=\"plain rtl  \" ><span class=\"plain rtl  \" ><span class=\"h\">תֹּאכֵֽלוּ׃ </span></span></span></span></span></span></span></td><td class=\"tf\"><span class=\"plain outer  rtl \"><span class=\"plain rtl  hlbx\" ><span class=\"plain rtl  \" ><span class=\"plain rtl  \" ><span class=\"plain rtl  \" ><span class=\"h\">אֲשֶׁר־</span></span></span><span class=\"plain rtl  \" ><span class=\"plain rtl  \" ><span class=\"h\">לֹו֩ </span></span></span><span class=\"plain rtl  \" ><span class=\"plain rtl  \" ><span class=\"h\">סְנַפִּ֨יר </span></span><span class=\"plain rtl  \" ><span class=\"h\">וְ</span></span><span class=\"plain rtl  \" ><span class=\"h\">קַשְׂקֶ֜שֶׂת </span></span></span><span class=\"plain rtl  \" ><span class=\"plain rtl  \" ><span class=\"h\">בַּ</span></span><span class=\"plain rtl  \" ><span class=\"h\"></span></span><span class=\"plain rtl  \" ><span class=\"h\">מַּ֗יִם </span></span></span><span class=\"plain rtl  \" ><span class=\"plain rtl  \" ><span class=\"h\">בַּ</span></span><span class=\"plain rtl  \" ><span class=\"h\"></span></span><span class=\"plain rtl  \" ><span class=\"h\">יַּמִּ֛ים </span></span><span class=\"plain rtl  \" ><span class=\"h\">וּ</span></span><span class=\"plain rtl  \" ><span class=\"h\">בַ</span></span><span class=\"plain rtl  \" ><span class=\"h\"></span></span><span class=\"plain rtl  \" ><span class=\"h\">נְּחָלִ֖ים </span></span></span></span></span></span></td></tr>\n",
       "<tr class=\"tf\"><td class=\"tf\">10</td><td class=\"tf\"> <a href=\"https://shebanq.ancient-data.org/hebrew/text?book=Leviticus&amp;chapter=11&amp;verse=10&amp;version=c&amp;mr=m&amp;qw=q&amp;tp=txt_p&amp;tr=hb&amp;wget=v&amp;qget=v&amp;nget=vt\" title=\"show this passage in SHEBANQ\" sec=\"Leviticus 11:10\">Leviticus 11:10</a></td><td class=\"tf\"><span class=\"vrs ltr\"><a href=\"https://shebanq.ancient-data.org/hebrew/text?book=Leviticus&amp;chapter=11&amp;verse=10&amp;version=c&amp;mr=m&amp;qw=q&amp;tp=txt_p&amp;tr=hb&amp;wget=v&amp;qget=v&amp;nget=vt\" title=\"show this passage in SHEBANQ\" sec=\"Leviticus 11:10\">Leviticus 11:10</a></span><span class=\"plain outer  rtl  \" ><span class=\"plain rtl \"><span class=\"plain rtl  \" ><span class=\"plain rtl  \" ><span class=\"plain rtl  \" ><span class=\"plain rtl  \" ><span class=\"h\">וְ</span></span></span><span class=\"plain rtl  \" ><span class=\"plain rtl  \" ><span class=\"h\">כֹל֩ </span></span></span></span><span class=\"plain rtl  hlbx\" ><span class=\"plain rtl  \" ><span class=\"plain rtl  \" ><span class=\"plain rtl  \" ><span class=\"h\">אֲשֶׁ֨ר </span></span></span><span class=\"plain rtl  \" ><span class=\"plain rtl  \" ><span class=\"h\">אֵֽין־</span></span></span><span class=\"plain rtl  \" ><span class=\"plain rtl  \" ><span class=\"h\">לֹ֜ו </span></span></span><span class=\"plain rtl  \" ><span class=\"plain rtl  \" ><span class=\"h\">סְנַפִּ֣יר </span></span><span class=\"plain rtl  \" ><span class=\"h\">וְ</span></span><span class=\"plain rtl  \" ><span class=\"h\">קַשְׂקֶ֗שֶׂת </span></span></span><span class=\"plain rtl  \" ><span class=\"plain rtl  \" ><span class=\"h\">בַּ</span></span><span class=\"plain rtl  \" ><span class=\"h\"></span></span><span class=\"plain rtl  \" ><span class=\"h\">יַּמִּים֙ </span></span><span class=\"plain rtl  \" ><span class=\"h\">וּ</span></span><span class=\"plain rtl  \" ><span class=\"h\">בַ</span></span><span class=\"plain rtl  \" ><span class=\"h\"></span></span><span class=\"plain rtl  \" ><span class=\"h\">נְּחָלִ֔ים </span></span></span></span></span><span class=\"plain rtl  \" ><span class=\"plain rtl  \" ><span class=\"plain rtl  \" ><span class=\"h\">מִ</span></span><span class=\"plain rtl  \" ><span class=\"h\">כֹּל֙ </span></span><span class=\"plain rtl  \" ><span class=\"h\">שֶׁ֣רֶץ </span></span><span class=\"plain rtl  \" ><span class=\"h\">הַ</span></span><span class=\"plain rtl  \" ><span class=\"h\">מַּ֔יִם </span></span><span class=\"plain rtl  \" ><span class=\"h\">וּ</span></span><span class=\"plain rtl  \" ><span class=\"h\">מִ</span></span><span class=\"plain rtl  \" ><span class=\"h\">כֹּ֛ל </span></span><span class=\"plain rtl  \" ><span class=\"h\">נֶ֥פֶשׁ </span></span><span class=\"plain rtl  \" ><span class=\"h\">הַ</span></span><span class=\"plain rtl  \" ><span class=\"h\">חַיָּ֖ה </span></span></span></span><span class=\"plain rtl  \" ><span class=\"plain rtl  \" ><span class=\"plain rtl  \" ><span class=\"h\">אֲשֶׁ֣ר </span></span></span><span class=\"plain rtl  \" ><span class=\"plain rtl  \" ><span class=\"h\">בַּ</span></span><span class=\"plain rtl  \" ><span class=\"h\"></span></span><span class=\"plain rtl  \" ><span class=\"h\">מָּ֑יִם </span></span></span></span><span class=\"plain rtl  \" ><span class=\"plain rtl  \" ><span class=\"plain rtl  \" ><span class=\"h\">שֶׁ֥קֶץ </span></span></span><span class=\"plain rtl  \" ><span class=\"plain rtl  \" ><span class=\"h\">הֵ֖ם </span></span></span><span class=\"plain rtl  \" ><span class=\"plain rtl  \" ><span class=\"h\">לָכֶֽם׃ </span></span></span></span></span></span></span></td><td class=\"tf\"><span class=\"plain outer  rtl \"><span class=\"plain rtl  hlbx\" ><span class=\"plain rtl  \" ><span class=\"plain rtl  \" ><span class=\"plain rtl  \" ><span class=\"h\">אֲשֶׁ֨ר </span></span></span><span class=\"plain rtl  \" ><span class=\"plain rtl  \" ><span class=\"h\">אֵֽין־</span></span></span><span class=\"plain rtl  \" ><span class=\"plain rtl  \" ><span class=\"h\">לֹ֜ו </span></span></span><span class=\"plain rtl  \" ><span class=\"plain rtl  \" ><span class=\"h\">סְנַפִּ֣יר </span></span><span class=\"plain rtl  \" ><span class=\"h\">וְ</span></span><span class=\"plain rtl  \" ><span class=\"h\">קַשְׂקֶ֗שֶׂת </span></span></span><span class=\"plain rtl  \" ><span class=\"plain rtl  \" ><span class=\"h\">בַּ</span></span><span class=\"plain rtl  \" ><span class=\"h\"></span></span><span class=\"plain rtl  \" ><span class=\"h\">יַּמִּים֙ </span></span><span class=\"plain rtl  \" ><span class=\"h\">וּ</span></span><span class=\"plain rtl  \" ><span class=\"h\">בַ</span></span><span class=\"plain rtl  \" ><span class=\"h\"></span></span><span class=\"plain rtl  \" ><span class=\"h\">נְּחָלִ֔ים </span></span></span></span></span></span></td></tr></table>"
      ],
      "text/plain": [
       "<IPython.core.display.HTML object>"
      ]
     },
     "metadata": {},
     "output_type": "display_data"
    }
   ],
   "source": [
    "query = '''\n",
    "verse\n",
    "    clause dist<-10\n",
    "'''\n",
    "results = A.search(query)\n",
    "A.table(sorted(results), end=10)"
   ]
  },
  {
   "cell_type": "markdown",
   "metadata": {},
   "source": [
    "## Regular expressions\n",
    "\n",
    "An even more powerful way of specifying desired feature values is by regular expressions.\n",
    "You can do this for *string-valued* values features only.\n",
    "\n",
    "Instead of specifying a feature condition like this\n",
    "\n",
    "```\n",
    "typ=WIm0\n",
    "```\n",
    "\n",
    "or\n",
    "\n",
    "```\n",
    "typ=WIm0|WImX\n",
    "```\n",
    "\n",
    "you can say\n",
    "\n",
    "```\n",
    "typ~WIm[0X]\n",
    "```\n",
    "\n",
    "Note that you do not use the `=` between feature name and value specification, \n",
    "but `~`.\n",
    "\n",
    "The syntax and semantics of regular expressions are those as defined in the\n",
    "[Python docs](https://docs.python.org/3/library/re.html#regular-expression-syntax).\n",
    "\n",
    "Note, that if you need to enter a `\\` in the regular expression, you have to double it.\n",
    "Also, when you need a space in it, you have to put a `\\` in front of it."
   ]
  },
  {
   "cell_type": "markdown",
   "metadata": {},
   "source": [
    "### No value no match\n",
    "\n",
    "If you search with regular expressions, then nodes without a value do not match any regular expression.\n",
    "\n",
    "The regular expression `.*` matches everything.\n",
    "\n",
    "#### Qeres\n",
    "\n",
    "Not all words have a qere.\n",
    "\n",
    "So we expect the following template to list all words that do have a qere and none of those that don't."
   ]
  },
  {
   "cell_type": "code",
   "execution_count": 31,
   "metadata": {
    "ExecuteTime": {
     "end_time": "2018-05-24T08:01:11.104476Z",
     "start_time": "2018-05-24T08:01:10.518168Z"
    }
   },
   "outputs": [
    {
     "name": "stdout",
     "output_type": "stream",
     "text": [
      "  0.37s 1892 results\n",
      "Compare this with qere words: 1892: Equal\n"
     ]
    }
   ],
   "source": [
    "query = '''\n",
    "word qere~.*\n",
    "'''\n",
    "results = list(A.search(query))\n",
    "matchWords = len(results)\n",
    "print(\n",
    "    'Compare this with qere words: '\n",
    "    f'{qereWords}: {\"Equal\" if matchWords == qereWords else \"Unequal\"}')"
   ]
  },
  {
   "cell_type": "markdown",
   "metadata": {},
   "source": [
    "### More examples\n",
    "\n",
    "#### Two letter nouns\n",
    "\n",
    "We pick two letter nouns that start with an aleph."
   ]
  },
  {
   "cell_type": "code",
   "execution_count": 32,
   "metadata": {
    "ExecuteTime": {
     "end_time": "2018-05-24T08:01:13.922452Z",
     "start_time": "2018-05-24T08:01:13.089321Z"
    }
   },
   "outputs": [
    {
     "name": "stdout",
     "output_type": "stream",
     "text": [
      "  0.57s 816 results\n"
     ]
    },
    {
     "data": {
      "text/html": [
       "<table>\n",
       "<tr class=\"tf\">\n",
       "  <th class=\"tf\">n</th><th class=\"tf\">p</th>\n",
       "  <th class=\"tf\">word</th>\n",
       "</tr>\n",
       "\n",
       "<tr class=\"tf\"><td class=\"tf\">1</td><td class=\"tf\"> <a href=\"https://shebanq.ancient-data.org/hebrew/text?book=Genesis&amp;chapter=2&amp;verse=6&amp;version=c&amp;mr=m&amp;qw=q&amp;tp=txt_p&amp;tr=hb&amp;wget=v&amp;qget=v&amp;nget=vt\" title=\"show this passage in SHEBANQ\" sec=\"Genesis 2:6\">Genesis 2:6</a></td><td class=\"tf\"><a href=\"https://shebanq.ancient-data.org/hebrew/text?book=Genesis&amp;chapter=2&amp;verse=6&amp;version=c&amp;mr=m&amp;qw=q&amp;tp=txt_p&amp;tr=hb&amp;wget=v&amp;qget=v&amp;nget=vt\" title=\"Genesis 2:6\" sec=\"Genesis 2:6\"><span class=\"plain outer  rtl  hl\" ><span class=\"h\">אֵ֖ד </span></span></a></td></tr>\n",
       "<tr class=\"tf\"><td class=\"tf\">2</td><td class=\"tf\"> <a href=\"https://shebanq.ancient-data.org/hebrew/text?book=Genesis&amp;chapter=3&amp;verse=20&amp;version=c&amp;mr=m&amp;qw=q&amp;tp=txt_p&amp;tr=hb&amp;wget=v&amp;qget=v&amp;nget=vt\" title=\"show this passage in SHEBANQ\" sec=\"Genesis 3:20\">Genesis 3:20</a></td><td class=\"tf\"><a href=\"https://shebanq.ancient-data.org/hebrew/text?book=Genesis&amp;chapter=3&amp;verse=20&amp;version=c&amp;mr=m&amp;qw=q&amp;tp=txt_p&amp;tr=hb&amp;wget=v&amp;qget=v&amp;nget=vt\" title=\"Genesis 3:20\" sec=\"Genesis 3:20\"><span class=\"plain outer  rtl  hl\" ><span class=\"h\">אֵ֥ם </span></span></a></td></tr>\n",
       "<tr class=\"tf\"><td class=\"tf\">3</td><td class=\"tf\"> <a href=\"https://shebanq.ancient-data.org/hebrew/text?book=Genesis&amp;chapter=14&amp;verse=18&amp;version=c&amp;mr=m&amp;qw=q&amp;tp=txt_p&amp;tr=hb&amp;wget=v&amp;qget=v&amp;nget=vt\" title=\"show this passage in SHEBANQ\" sec=\"Genesis 14:18\">Genesis 14:18</a></td><td class=\"tf\"><a href=\"https://shebanq.ancient-data.org/hebrew/text?book=Genesis&amp;chapter=14&amp;verse=18&amp;version=c&amp;mr=m&amp;qw=q&amp;tp=txt_p&amp;tr=hb&amp;wget=v&amp;qget=v&amp;nget=vt\" title=\"Genesis 14:18\" sec=\"Genesis 14:18\"><span class=\"plain outer  rtl  hl\" ><span class=\"h\">אֵ֥ל </span></span></a></td></tr>\n",
       "<tr class=\"tf\"><td class=\"tf\">4</td><td class=\"tf\"> <a href=\"https://shebanq.ancient-data.org/hebrew/text?book=Genesis&amp;chapter=14&amp;verse=19&amp;version=c&amp;mr=m&amp;qw=q&amp;tp=txt_p&amp;tr=hb&amp;wget=v&amp;qget=v&amp;nget=vt\" title=\"show this passage in SHEBANQ\" sec=\"Genesis 14:19\">Genesis 14:19</a></td><td class=\"tf\"><a href=\"https://shebanq.ancient-data.org/hebrew/text?book=Genesis&amp;chapter=14&amp;verse=19&amp;version=c&amp;mr=m&amp;qw=q&amp;tp=txt_p&amp;tr=hb&amp;wget=v&amp;qget=v&amp;nget=vt\" title=\"Genesis 14:19\" sec=\"Genesis 14:19\"><span class=\"plain outer  rtl  hl\" ><span class=\"h\">אֵ֣ל </span></span></a></td></tr>\n",
       "<tr class=\"tf\"><td class=\"tf\">5</td><td class=\"tf\"> <a href=\"https://shebanq.ancient-data.org/hebrew/text?book=Genesis&amp;chapter=14&amp;verse=20&amp;version=c&amp;mr=m&amp;qw=q&amp;tp=txt_p&amp;tr=hb&amp;wget=v&amp;qget=v&amp;nget=vt\" title=\"show this passage in SHEBANQ\" sec=\"Genesis 14:20\">Genesis 14:20</a></td><td class=\"tf\"><a href=\"https://shebanq.ancient-data.org/hebrew/text?book=Genesis&amp;chapter=14&amp;verse=20&amp;version=c&amp;mr=m&amp;qw=q&amp;tp=txt_p&amp;tr=hb&amp;wget=v&amp;qget=v&amp;nget=vt\" title=\"Genesis 14:20\" sec=\"Genesis 14:20\"><span class=\"plain outer  rtl  hl\" ><span class=\"h\">אֵ֣ל </span></span></a></td></tr>\n",
       "<tr class=\"tf\"><td class=\"tf\">6</td><td class=\"tf\"> <a href=\"https://shebanq.ancient-data.org/hebrew/text?book=Genesis&amp;chapter=14&amp;verse=22&amp;version=c&amp;mr=m&amp;qw=q&amp;tp=txt_p&amp;tr=hb&amp;wget=v&amp;qget=v&amp;nget=vt\" title=\"show this passage in SHEBANQ\" sec=\"Genesis 14:22\">Genesis 14:22</a></td><td class=\"tf\"><a href=\"https://shebanq.ancient-data.org/hebrew/text?book=Genesis&amp;chapter=14&amp;verse=22&amp;version=c&amp;mr=m&amp;qw=q&amp;tp=txt_p&amp;tr=hb&amp;wget=v&amp;qget=v&amp;nget=vt\" title=\"Genesis 14:22\" sec=\"Genesis 14:22\"><span class=\"plain outer  rtl  hl\" ><span class=\"h\">אֵ֣ל </span></span></a></td></tr>\n",
       "<tr class=\"tf\"><td class=\"tf\">7</td><td class=\"tf\"> <a href=\"https://shebanq.ancient-data.org/hebrew/text?book=Genesis&amp;chapter=15&amp;verse=17&amp;version=c&amp;mr=m&amp;qw=q&amp;tp=txt_p&amp;tr=hb&amp;wget=v&amp;qget=v&amp;nget=vt\" title=\"show this passage in SHEBANQ\" sec=\"Genesis 15:17\">Genesis 15:17</a></td><td class=\"tf\"><a href=\"https://shebanq.ancient-data.org/hebrew/text?book=Genesis&amp;chapter=15&amp;verse=17&amp;version=c&amp;mr=m&amp;qw=q&amp;tp=txt_p&amp;tr=hb&amp;wget=v&amp;qget=v&amp;nget=vt\" title=\"Genesis 15:17\" sec=\"Genesis 15:17\"><span class=\"plain outer  rtl  hl\" ><span class=\"h\">אֵ֔שׁ </span></span></a></td></tr>\n",
       "<tr class=\"tf\"><td class=\"tf\">8</td><td class=\"tf\"> <a href=\"https://shebanq.ancient-data.org/hebrew/text?book=Genesis&amp;chapter=16&amp;verse=13&amp;version=c&amp;mr=m&amp;qw=q&amp;tp=txt_p&amp;tr=hb&amp;wget=v&amp;qget=v&amp;nget=vt\" title=\"show this passage in SHEBANQ\" sec=\"Genesis 16:13\">Genesis 16:13</a></td><td class=\"tf\"><a href=\"https://shebanq.ancient-data.org/hebrew/text?book=Genesis&amp;chapter=16&amp;verse=13&amp;version=c&amp;mr=m&amp;qw=q&amp;tp=txt_p&amp;tr=hb&amp;wget=v&amp;qget=v&amp;nget=vt\" title=\"Genesis 16:13\" sec=\"Genesis 16:13\"><span class=\"plain outer  rtl  hl\" ><span class=\"h\">אֵ֣ל </span></span></a></td></tr>\n",
       "<tr class=\"tf\"><td class=\"tf\">9</td><td class=\"tf\"> <a href=\"https://shebanq.ancient-data.org/hebrew/text?book=Genesis&amp;chapter=17&amp;verse=1&amp;version=c&amp;mr=m&amp;qw=q&amp;tp=txt_p&amp;tr=hb&amp;wget=v&amp;qget=v&amp;nget=vt\" title=\"show this passage in SHEBANQ\" sec=\"Genesis 17:1\">Genesis 17:1</a></td><td class=\"tf\"><a href=\"https://shebanq.ancient-data.org/hebrew/text?book=Genesis&amp;chapter=17&amp;verse=1&amp;version=c&amp;mr=m&amp;qw=q&amp;tp=txt_p&amp;tr=hb&amp;wget=v&amp;qget=v&amp;nget=vt\" title=\"Genesis 17:1\" sec=\"Genesis 17:1\"><span class=\"plain outer  rtl  hl\" ><span class=\"h\">אֵ֣ל </span></span></a></td></tr>\n",
       "<tr class=\"tf\"><td class=\"tf\">10</td><td class=\"tf\"> <a href=\"https://shebanq.ancient-data.org/hebrew/text?book=Genesis&amp;chapter=17&amp;verse=4&amp;version=c&amp;mr=m&amp;qw=q&amp;tp=txt_p&amp;tr=hb&amp;wget=v&amp;qget=v&amp;nget=vt\" title=\"show this passage in SHEBANQ\" sec=\"Genesis 17:4\">Genesis 17:4</a></td><td class=\"tf\"><a href=\"https://shebanq.ancient-data.org/hebrew/text?book=Genesis&amp;chapter=17&amp;verse=4&amp;version=c&amp;mr=m&amp;qw=q&amp;tp=txt_p&amp;tr=hb&amp;wget=v&amp;qget=v&amp;nget=vt\" title=\"Genesis 17:4\" sec=\"Genesis 17:4\"><span class=\"plain outer  rtl  hl\" ><span class=\"h\">אַ֖ב </span></span></a></td></tr>\n",
       "<tr class=\"tf\"><td class=\"tf\">11</td><td class=\"tf\"> <a href=\"https://shebanq.ancient-data.org/hebrew/text?book=Genesis&amp;chapter=17&amp;verse=5&amp;version=c&amp;mr=m&amp;qw=q&amp;tp=txt_p&amp;tr=hb&amp;wget=v&amp;qget=v&amp;nget=vt\" title=\"show this passage in SHEBANQ\" sec=\"Genesis 17:5\">Genesis 17:5</a></td><td class=\"tf\"><a href=\"https://shebanq.ancient-data.org/hebrew/text?book=Genesis&amp;chapter=17&amp;verse=5&amp;version=c&amp;mr=m&amp;qw=q&amp;tp=txt_p&amp;tr=hb&amp;wget=v&amp;qget=v&amp;nget=vt\" title=\"Genesis 17:5\" sec=\"Genesis 17:5\"><span class=\"plain outer  rtl  hl\" ><span class=\"h\">אַב־</span></span></a></td></tr>\n",
       "<tr class=\"tf\"><td class=\"tf\">12</td><td class=\"tf\"> <a href=\"https://shebanq.ancient-data.org/hebrew/text?book=Genesis&amp;chapter=19&amp;verse=24&amp;version=c&amp;mr=m&amp;qw=q&amp;tp=txt_p&amp;tr=hb&amp;wget=v&amp;qget=v&amp;nget=vt\" title=\"show this passage in SHEBANQ\" sec=\"Genesis 19:24\">Genesis 19:24</a></td><td class=\"tf\"><a href=\"https://shebanq.ancient-data.org/hebrew/text?book=Genesis&amp;chapter=19&amp;verse=24&amp;version=c&amp;mr=m&amp;qw=q&amp;tp=txt_p&amp;tr=hb&amp;wget=v&amp;qget=v&amp;nget=vt\" title=\"Genesis 19:24\" sec=\"Genesis 19:24\"><span class=\"plain outer  rtl  hl\" ><span class=\"h\">אֵ֑שׁ </span></span></a></td></tr>\n",
       "<tr class=\"tf\"><td class=\"tf\">13</td><td class=\"tf\"> <a href=\"https://shebanq.ancient-data.org/hebrew/text?book=Genesis&amp;chapter=21&amp;verse=33&amp;version=c&amp;mr=m&amp;qw=q&amp;tp=txt_p&amp;tr=hb&amp;wget=v&amp;qget=v&amp;nget=vt\" title=\"show this passage in SHEBANQ\" sec=\"Genesis 21:33\">Genesis 21:33</a></td><td class=\"tf\"><a href=\"https://shebanq.ancient-data.org/hebrew/text?book=Genesis&amp;chapter=21&amp;verse=33&amp;version=c&amp;mr=m&amp;qw=q&amp;tp=txt_p&amp;tr=hb&amp;wget=v&amp;qget=v&amp;nget=vt\" title=\"Genesis 21:33\" sec=\"Genesis 21:33\"><span class=\"plain outer  rtl  hl\" ><span class=\"h\">אֵ֥ל </span></span></a></td></tr>\n",
       "<tr class=\"tf\"><td class=\"tf\">14</td><td class=\"tf\"> <a href=\"https://shebanq.ancient-data.org/hebrew/text?book=Genesis&amp;chapter=22&amp;verse=6&amp;version=c&amp;mr=m&amp;qw=q&amp;tp=txt_p&amp;tr=hb&amp;wget=v&amp;qget=v&amp;nget=vt\" title=\"show this passage in SHEBANQ\" sec=\"Genesis 22:6\">Genesis 22:6</a></td><td class=\"tf\"><a href=\"https://shebanq.ancient-data.org/hebrew/text?book=Genesis&amp;chapter=22&amp;verse=6&amp;version=c&amp;mr=m&amp;qw=q&amp;tp=txt_p&amp;tr=hb&amp;wget=v&amp;qget=v&amp;nget=vt\" title=\"Genesis 22:6\" sec=\"Genesis 22:6\"><span class=\"plain outer  rtl  hl\" ><span class=\"h\">אֵ֖שׁ </span></span></a></td></tr>\n",
       "<tr class=\"tf\"><td class=\"tf\">15</td><td class=\"tf\"> <a href=\"https://shebanq.ancient-data.org/hebrew/text?book=Genesis&amp;chapter=22&amp;verse=7&amp;version=c&amp;mr=m&amp;qw=q&amp;tp=txt_p&amp;tr=hb&amp;wget=v&amp;qget=v&amp;nget=vt\" title=\"show this passage in SHEBANQ\" sec=\"Genesis 22:7\">Genesis 22:7</a></td><td class=\"tf\"><a href=\"https://shebanq.ancient-data.org/hebrew/text?book=Genesis&amp;chapter=22&amp;verse=7&amp;version=c&amp;mr=m&amp;qw=q&amp;tp=txt_p&amp;tr=hb&amp;wget=v&amp;qget=v&amp;nget=vt\" title=\"Genesis 22:7\" sec=\"Genesis 22:7\"><span class=\"plain outer  rtl  hl\" ><span class=\"h\">אֵשׁ֙ </span></span></a></td></tr>\n",
       "<tr class=\"tf\"><td class=\"tf\">16</td><td class=\"tf\"> <a href=\"https://shebanq.ancient-data.org/hebrew/text?book=Genesis&amp;chapter=24&amp;verse=29&amp;version=c&amp;mr=m&amp;qw=q&amp;tp=txt_p&amp;tr=hb&amp;wget=v&amp;qget=v&amp;nget=vt\" title=\"show this passage in SHEBANQ\" sec=\"Genesis 24:29\">Genesis 24:29</a></td><td class=\"tf\"><a href=\"https://shebanq.ancient-data.org/hebrew/text?book=Genesis&amp;chapter=24&amp;verse=29&amp;version=c&amp;mr=m&amp;qw=q&amp;tp=txt_p&amp;tr=hb&amp;wget=v&amp;qget=v&amp;nget=vt\" title=\"Genesis 24:29\" sec=\"Genesis 24:29\"><span class=\"plain outer  rtl  hl\" ><span class=\"h\">אָ֖ח </span></span></a></td></tr>\n",
       "<tr class=\"tf\"><td class=\"tf\">17</td><td class=\"tf\"> <a href=\"https://shebanq.ancient-data.org/hebrew/text?book=Genesis&amp;chapter=27&amp;verse=45&amp;version=c&amp;mr=m&amp;qw=q&amp;tp=txt_p&amp;tr=hb&amp;wget=v&amp;qget=v&amp;nget=vt\" title=\"show this passage in SHEBANQ\" sec=\"Genesis 27:45\">Genesis 27:45</a></td><td class=\"tf\"><a href=\"https://shebanq.ancient-data.org/hebrew/text?book=Genesis&amp;chapter=27&amp;verse=45&amp;version=c&amp;mr=m&amp;qw=q&amp;tp=txt_p&amp;tr=hb&amp;wget=v&amp;qget=v&amp;nget=vt\" title=\"Genesis 27:45\" sec=\"Genesis 27:45\"><span class=\"plain outer  rtl  hl\" ><span class=\"h\">אַף־</span></span></a></td></tr>\n",
       "<tr class=\"tf\"><td class=\"tf\">18</td><td class=\"tf\"> <a href=\"https://shebanq.ancient-data.org/hebrew/text?book=Genesis&amp;chapter=28&amp;verse=3&amp;version=c&amp;mr=m&amp;qw=q&amp;tp=txt_p&amp;tr=hb&amp;wget=v&amp;qget=v&amp;nget=vt\" title=\"show this passage in SHEBANQ\" sec=\"Genesis 28:3\">Genesis 28:3</a></td><td class=\"tf\"><a href=\"https://shebanq.ancient-data.org/hebrew/text?book=Genesis&amp;chapter=28&amp;verse=3&amp;version=c&amp;mr=m&amp;qw=q&amp;tp=txt_p&amp;tr=hb&amp;wget=v&amp;qget=v&amp;nget=vt\" title=\"Genesis 28:3\" sec=\"Genesis 28:3\"><span class=\"plain outer  rtl  hl\" ><span class=\"h\">אֵ֤ל </span></span></a></td></tr>\n",
       "<tr class=\"tf\"><td class=\"tf\">19</td><td class=\"tf\"> <a href=\"https://shebanq.ancient-data.org/hebrew/text?book=Genesis&amp;chapter=28&amp;verse=5&amp;version=c&amp;mr=m&amp;qw=q&amp;tp=txt_p&amp;tr=hb&amp;wget=v&amp;qget=v&amp;nget=vt\" title=\"show this passage in SHEBANQ\" sec=\"Genesis 28:5\">Genesis 28:5</a></td><td class=\"tf\"><a href=\"https://shebanq.ancient-data.org/hebrew/text?book=Genesis&amp;chapter=28&amp;verse=5&amp;version=c&amp;mr=m&amp;qw=q&amp;tp=txt_p&amp;tr=hb&amp;wget=v&amp;qget=v&amp;nget=vt\" title=\"Genesis 28:5\" sec=\"Genesis 28:5\"><span class=\"plain outer  rtl  hl\" ><span class=\"h\">אֵ֥ם </span></span></a></td></tr>\n",
       "<tr class=\"tf\"><td class=\"tf\">20</td><td class=\"tf\"> <a href=\"https://shebanq.ancient-data.org/hebrew/text?book=Genesis&amp;chapter=30&amp;verse=2&amp;version=c&amp;mr=m&amp;qw=q&amp;tp=txt_p&amp;tr=hb&amp;wget=v&amp;qget=v&amp;nget=vt\" title=\"show this passage in SHEBANQ\" sec=\"Genesis 30:2\">Genesis 30:2</a></td><td class=\"tf\"><a href=\"https://shebanq.ancient-data.org/hebrew/text?book=Genesis&amp;chapter=30&amp;verse=2&amp;version=c&amp;mr=m&amp;qw=q&amp;tp=txt_p&amp;tr=hb&amp;wget=v&amp;qget=v&amp;nget=vt\" title=\"Genesis 30:2\" sec=\"Genesis 30:2\"><span class=\"plain outer  rtl  hl\" ><span class=\"h\">אַ֥ף </span></span></a></td></tr></table>"
      ],
      "text/plain": [
       "<IPython.core.display.HTML object>"
      ]
     },
     "metadata": {},
     "output_type": "display_data"
    }
   ],
   "source": [
    "query = '''\n",
    "word sp=subs g_cons~^>.$\n",
    "'''\n",
    "results = A.search(query)\n",
    "A.table(results, end=20)"
   ]
  },
  {
   "cell_type": "markdown",
   "metadata": {},
   "source": [
    "Hover over the words and you see where in the Bible they are.\n",
    "Click on it, and you go to the word in SHEBANQ.\n",
    "\n",
    "Let us zoom in on one of the results.\n",
    "We want to know more about the lexeme in question.\n",
    "\n",
    "There are several methods to do that."
   ]
  },
  {
   "cell_type": "markdown",
   "metadata": {},
   "source": [
    "##### Show the nodes\n",
    "\n",
    "First of all, let us show the nodes."
   ]
  },
  {
   "cell_type": "code",
   "execution_count": 33,
   "metadata": {
    "ExecuteTime": {
     "end_time": "2018-05-24T08:01:17.632676Z",
     "start_time": "2018-05-24T08:01:17.624599Z"
    },
    "scrolled": true
   },
   "outputs": [
    {
     "data": {
      "text/html": [
       "<table>\n",
       "<tr class=\"tf\">\n",
       "  <th class=\"tf\">n</th><th class=\"tf\">p</th>\n",
       "  <th class=\"tf\">word</th>\n",
       "</tr>\n",
       "\n",
       "<tr class=\"tf\"><td class=\"tf\">9</td><td class=\"tf\"> <a href=\"https://shebanq.ancient-data.org/hebrew/text?book=Genesis&amp;chapter=17&amp;verse=1&amp;version=c&amp;mr=m&amp;qw=q&amp;tp=txt_p&amp;tr=hb&amp;wget=v&amp;qget=v&amp;nget=vt\" title=\"show this passage in SHEBANQ\" sec=\"Genesis 17:1\">Genesis 17:1</a></td><td class=\"tf\"><a href=\"https://shebanq.ancient-data.org/hebrew/text?book=Genesis&amp;chapter=17&amp;verse=1&amp;version=c&amp;mr=m&amp;qw=q&amp;tp=txt_p&amp;tr=hb&amp;wget=v&amp;qget=v&amp;nget=vt\" title=\"Genesis 17:1\" sec=\"Genesis 17:1\"><span class=\"plain outer  rtl  hl\" ><span class=\"h\">אֵ֣ל </span><span class=\"plain nd\">7342</span></span></a></td></tr></table>"
      ],
      "text/plain": [
       "<IPython.core.display.HTML object>"
      ]
     },
     "metadata": {},
     "output_type": "display_data"
    }
   ],
   "source": [
    "A.table(results, start=9, end=9, withNodes=True)"
   ]
  },
  {
   "cell_type": "markdown",
   "metadata": {},
   "source": [
    "Now we can use `pretty()` to get more info."
   ]
  },
  {
   "cell_type": "code",
   "execution_count": 34,
   "metadata": {
    "ExecuteTime": {
     "end_time": "2018-05-24T08:01:20.072171Z",
     "start_time": "2018-05-24T08:01:20.065240Z"
    }
   },
   "outputs": [
    {
     "data": {
      "text/html": [
       "<a href=\"https://shebanq.ancient-data.org/hebrew/text?book=Jeremia&amp;chapter=25&amp;verse=37&amp;version=c&amp;mr=m&amp;qw=q&amp;tp=txt_p&amp;tr=hb&amp;wget=v&amp;qget=v&amp;nget=vt\" title=\"show this passage in SHEBANQ\" sec=\"Jeremiah 25:37\">Jeremiah 25:37</a><div class=\"outeritem\"><div class=\"word  \" ><div class=\"h\"><a target=\"_blank\" href=\"https://shebanq.ancient-data.org/hebrew/word?version=c&amp;id=1APn\" title=\"show this lexeme in SHEBANQ\">אַף־</a></div><div class=\"features\"> <span class=\"pdp\"><a href=\"https://shebanq.ancient-data.org/hebrew/text?book=Jeremia&amp;chapter=25&amp;verse=37&amp;version=c&amp;mr=m&amp;qw=q&amp;tp=txt_p&amp;tr=hb&amp;wget=v&amp;qget=v&amp;nget=vt\" title=\"Jeremiah 25:37\" sec=\"Jeremiah 25:37\">subs</a></span> <span class=\"gloss\">nose</span> <span class=\"g_cons xft\"><span class=\"f\">g_cons=</span>>P</span> <span class=\"sp xft\"><span class=\"f\">sp=</span>subs</span></div></div></div>"
      ],
      "text/plain": [
       "<IPython.core.display.HTML object>"
      ]
     },
     "metadata": {},
     "output_type": "display_data"
    }
   ],
   "source": [
    "A.pretty(247827)"
   ]
  },
  {
   "cell_type": "markdown",
   "metadata": {},
   "source": [
    "Note that under the word is a link to its lexeme entry in SHEBANQ.\n",
    "\n",
    "##### Programmatically\n",
    "With a bit of TF juggling you could also have got this link programmatically:"
   ]
  },
  {
   "cell_type": "code",
   "execution_count": 35,
   "metadata": {
    "ExecuteTime": {
     "end_time": "2018-05-24T08:01:22.883063Z",
     "start_time": "2018-05-24T08:01:22.876148Z"
    }
   },
   "outputs": [
    {
     "data": {
      "text/html": [
       "<a target=\"_blank\" href=\"https://shebanq.ancient-data.org/hebrew/word?version=c&amp;id=1ALn\" title=\"show this lexeme in SHEBANQ\">אֵל</a>"
      ],
      "text/plain": [
       "<IPython.core.display.HTML object>"
      ]
     },
     "metadata": {},
     "output_type": "display_data"
    }
   ],
   "source": [
    "A.webLink(L.u(results[8][0], otype='lex')[0])"
   ]
  },
  {
   "cell_type": "markdown",
   "metadata": {},
   "source": [
    "##### Enrich the query\n",
    "\n",
    "We can also add some context to the query.\n",
    "Since we are interested in the lexemes, let's add those to the query.\n",
    "\n",
    "Every word lies embedded in a lexeme."
   ]
  },
  {
   "cell_type": "code",
   "execution_count": 36,
   "metadata": {
    "ExecuteTime": {
     "end_time": "2018-05-24T08:01:27.629901Z",
     "start_time": "2018-05-24T08:01:26.793939Z"
    }
   },
   "outputs": [
    {
     "name": "stdout",
     "output_type": "stream",
     "text": [
      "  0.57s 816 results\n"
     ]
    },
    {
     "data": {
      "text/html": [
       "<table>\n",
       "<tr class=\"tf\">\n",
       "  <th class=\"tf\">n</th><th class=\"tf\">p</th>\n",
       "  <th class=\"tf\">lex</th><th>word</th>\n",
       "</tr>\n",
       "\n",
       "<tr class=\"tf\"><td class=\"tf\">1</td><td class=\"tf\"> <a href=\"https://shebanq.ancient-data.org/hebrew/text?book=Exodus&amp;chapter=4&amp;verse=8&amp;version=c&amp;mr=m&amp;qw=q&amp;tp=txt_p&amp;tr=hb&amp;wget=v&amp;qget=v&amp;nget=vt\" title=\"show this passage in SHEBANQ\" sec=\"Exodus 4:8\">Exodus 4:8</a></td><td class=\"tf\"><a target=\"_blank\" href=\"https://shebanq.ancient-data.org/hebrew/word?version=c&amp;id=1AWTn\" title=\"show this lexeme in SHEBANQ\"><span class=\"plain outer  rtl  \" ><span class=\"plain rtl h\">אֹות</span></span></a></td><td class=\"tf\"><span class=\"plain outer  rtl  hl\" ><span class=\"h\">אֹ֣ת </span></span></td></tr>\n",
       "<tr class=\"tf\"><td class=\"tf\">2</td><td class=\"tf\"> <a href=\"https://shebanq.ancient-data.org/hebrew/text?book=Exodus&amp;chapter=4&amp;verse=8&amp;version=c&amp;mr=m&amp;qw=q&amp;tp=txt_p&amp;tr=hb&amp;wget=v&amp;qget=v&amp;nget=vt\" title=\"show this passage in SHEBANQ\" sec=\"Exodus 4:8\">Exodus 4:8</a></td><td class=\"tf\"><a target=\"_blank\" href=\"https://shebanq.ancient-data.org/hebrew/word?version=c&amp;id=1AWTn\" title=\"show this lexeme in SHEBANQ\"><span class=\"plain outer  rtl  \" ><span class=\"plain rtl h\">אֹות</span></span></a></td><td class=\"tf\"><span class=\"plain outer  rtl  hl\" ><span class=\"h\">אֹ֥ת </span></span></td></tr>\n",
       "<tr class=\"tf\"><td class=\"tf\">3</td><td class=\"tf\"> <a href=\"https://shebanq.ancient-data.org/hebrew/text?book=Exodus&amp;chapter=8&amp;verse=19&amp;version=c&amp;mr=m&amp;qw=q&amp;tp=txt_p&amp;tr=hb&amp;wget=v&amp;qget=v&amp;nget=vt\" title=\"show this passage in SHEBANQ\" sec=\"Exodus 8:19\">Exodus 8:19</a></td><td class=\"tf\"><a target=\"_blank\" href=\"https://shebanq.ancient-data.org/hebrew/word?version=c&amp;id=1AWTn\" title=\"show this lexeme in SHEBANQ\"><span class=\"plain outer  rtl  \" ><span class=\"plain rtl h\">אֹות</span></span></a></td><td class=\"tf\"><span class=\"plain outer  rtl  hl\" ><span class=\"h\">אֹ֥ת </span></span></td></tr>\n",
       "<tr class=\"tf\"><td class=\"tf\">4</td><td class=\"tf\"> <a href=\"https://shebanq.ancient-data.org/hebrew/text?book=Exodus&amp;chapter=12&amp;verse=13&amp;version=c&amp;mr=m&amp;qw=q&amp;tp=txt_p&amp;tr=hb&amp;wget=v&amp;qget=v&amp;nget=vt\" title=\"show this passage in SHEBANQ\" sec=\"Exodus 12:13\">Exodus 12:13</a></td><td class=\"tf\"><a target=\"_blank\" href=\"https://shebanq.ancient-data.org/hebrew/word?version=c&amp;id=1AWTn\" title=\"show this lexeme in SHEBANQ\"><span class=\"plain outer  rtl  \" ><span class=\"plain rtl h\">אֹות</span></span></a></td><td class=\"tf\"><span class=\"plain outer  rtl  hl\" ><span class=\"h\">אֹ֗ת </span></span></td></tr>\n",
       "<tr class=\"tf\"><td class=\"tf\">5</td><td class=\"tf\"> <a href=\"https://shebanq.ancient-data.org/hebrew/text?book=Genesis&amp;chapter=2&amp;verse=6&amp;version=c&amp;mr=m&amp;qw=q&amp;tp=txt_p&amp;tr=hb&amp;wget=v&amp;qget=v&amp;nget=vt\" title=\"show this passage in SHEBANQ\" sec=\"Genesis 2:6\">Genesis 2:6</a></td><td class=\"tf\"><a target=\"_blank\" href=\"https://shebanq.ancient-data.org/hebrew/word?version=c&amp;id=1ADn\" title=\"show this lexeme in SHEBANQ\"><span class=\"plain outer  rtl  \" ><span class=\"plain rtl h\">אֵד</span></span></a></td><td class=\"tf\"><span class=\"plain outer  rtl  hl\" ><span class=\"h\">אֵ֖ד </span></span></td></tr>\n",
       "<tr class=\"tf\"><td class=\"tf\">6</td><td class=\"tf\"> <a href=\"https://shebanq.ancient-data.org/hebrew/text?book=Genesis&amp;chapter=27&amp;verse=45&amp;version=c&amp;mr=m&amp;qw=q&amp;tp=txt_p&amp;tr=hb&amp;wget=v&amp;qget=v&amp;nget=vt\" title=\"show this passage in SHEBANQ\" sec=\"Genesis 27:45\">Genesis 27:45</a></td><td class=\"tf\"><a target=\"_blank\" href=\"https://shebanq.ancient-data.org/hebrew/word?version=c&amp;id=1APn\" title=\"show this lexeme in SHEBANQ\"><span class=\"plain outer  rtl  \" ><span class=\"plain rtl h\">אַף</span></span></a></td><td class=\"tf\"><span class=\"plain outer  rtl  hl\" ><span class=\"h\">אַף־</span></span></td></tr>\n",
       "<tr class=\"tf\"><td class=\"tf\">7</td><td class=\"tf\"> <a href=\"https://shebanq.ancient-data.org/hebrew/text?book=Genesis&amp;chapter=30&amp;verse=2&amp;version=c&amp;mr=m&amp;qw=q&amp;tp=txt_p&amp;tr=hb&amp;wget=v&amp;qget=v&amp;nget=vt\" title=\"show this passage in SHEBANQ\" sec=\"Genesis 30:2\">Genesis 30:2</a></td><td class=\"tf\"><a target=\"_blank\" href=\"https://shebanq.ancient-data.org/hebrew/word?version=c&amp;id=1APn\" title=\"show this lexeme in SHEBANQ\"><span class=\"plain outer  rtl  \" ><span class=\"plain rtl h\">אַף</span></span></a></td><td class=\"tf\"><span class=\"plain outer  rtl  hl\" ><span class=\"h\">אַ֥ף </span></span></td></tr>\n",
       "<tr class=\"tf\"><td class=\"tf\">8</td><td class=\"tf\"> <a href=\"https://shebanq.ancient-data.org/hebrew/text?book=Exodus&amp;chapter=4&amp;verse=14&amp;version=c&amp;mr=m&amp;qw=q&amp;tp=txt_p&amp;tr=hb&amp;wget=v&amp;qget=v&amp;nget=vt\" title=\"show this passage in SHEBANQ\" sec=\"Exodus 4:14\">Exodus 4:14</a></td><td class=\"tf\"><a target=\"_blank\" href=\"https://shebanq.ancient-data.org/hebrew/word?version=c&amp;id=1APn\" title=\"show this lexeme in SHEBANQ\"><span class=\"plain outer  rtl  \" ><span class=\"plain rtl h\">אַף</span></span></a></td><td class=\"tf\"><span class=\"plain outer  rtl  hl\" ><span class=\"h\">אַ֨ף </span></span></td></tr>\n",
       "<tr class=\"tf\"><td class=\"tf\">9</td><td class=\"tf\"> <a href=\"https://shebanq.ancient-data.org/hebrew/text?book=Exodus&amp;chapter=11&amp;verse=8&amp;version=c&amp;mr=m&amp;qw=q&amp;tp=txt_p&amp;tr=hb&amp;wget=v&amp;qget=v&amp;nget=vt\" title=\"show this passage in SHEBANQ\" sec=\"Exodus 11:8\">Exodus 11:8</a></td><td class=\"tf\"><a target=\"_blank\" href=\"https://shebanq.ancient-data.org/hebrew/word?version=c&amp;id=1APn\" title=\"show this lexeme in SHEBANQ\"><span class=\"plain outer  rtl  \" ><span class=\"plain rtl h\">אַף</span></span></a></td><td class=\"tf\"><span class=\"plain outer  rtl  hl\" ><span class=\"h\">אָֽף׃ ס </span></span></td></tr>\n",
       "<tr class=\"tf\"><td class=\"tf\">10</td><td class=\"tf\"> <a href=\"https://shebanq.ancient-data.org/hebrew/text?book=Exodus&amp;chapter=32&amp;verse=19&amp;version=c&amp;mr=m&amp;qw=q&amp;tp=txt_p&amp;tr=hb&amp;wget=v&amp;qget=v&amp;nget=vt\" title=\"show this passage in SHEBANQ\" sec=\"Exodus 32:19\">Exodus 32:19</a></td><td class=\"tf\"><a target=\"_blank\" href=\"https://shebanq.ancient-data.org/hebrew/word?version=c&amp;id=1APn\" title=\"show this lexeme in SHEBANQ\"><span class=\"plain outer  rtl  \" ><span class=\"plain rtl h\">אַף</span></span></a></td><td class=\"tf\"><span class=\"plain outer  rtl  hl\" ><span class=\"h\">אַ֣ף </span></span></td></tr></table>"
      ],
      "text/plain": [
       "<IPython.core.display.HTML object>"
      ]
     },
     "metadata": {},
     "output_type": "display_data"
    }
   ],
   "source": [
    "query = '''\n",
    "lex\n",
    "  word sp=subs g_cons~^>.$\n",
    "'''\n",
    "results = A.search(query)\n",
    "A.table(results, end=10)"
   ]
  },
  {
   "cell_type": "markdown",
   "metadata": {},
   "source": [
    "Same amount of results, but the order is different.\n",
    "We just use Python to get the lexemes only, together with their first occurrence.\n",
    "We make a list of tuples, and feed that to `A.table()`."
   ]
  },
  {
   "cell_type": "code",
   "execution_count": 37,
   "metadata": {
    "ExecuteTime": {
     "end_time": "2018-05-24T08:01:38.168240Z",
     "start_time": "2018-05-24T08:01:38.158934Z"
    }
   },
   "outputs": [
    {
     "data": {
      "text/html": [
       "<table>\n",
       "<tr class=\"tf\">\n",
       "  <th class=\"tf\">n</th><th class=\"tf\">p</th>\n",
       "  <th class=\"tf\">lex</th><th>word</th>\n",
       "</tr>\n",
       "\n",
       "<tr class=\"tf\"><td class=\"tf\">1</td><td class=\"tf\"> <a href=\"https://shebanq.ancient-data.org/hebrew/text?book=Exodus&amp;chapter=4&amp;verse=8&amp;version=c&amp;mr=m&amp;qw=q&amp;tp=txt_p&amp;tr=hb&amp;wget=v&amp;qget=v&amp;nget=vt\" title=\"show this passage in SHEBANQ\" sec=\"Exodus 4:8\">Exodus 4:8</a></td><td class=\"tf\"><a target=\"_blank\" href=\"https://shebanq.ancient-data.org/hebrew/word?version=c&amp;id=1AWTn\" title=\"show this lexeme in SHEBANQ\"><span class=\"plain outer  rtl  \" ><span class=\"plain rtl h\">אֹות</span></span></a></td><td class=\"tf\"><span class=\"plain outer  rtl  hl\" ><span class=\"h\">אֹ֣ת </span></span></td></tr>\n",
       "<tr class=\"tf\"><td class=\"tf\">2</td><td class=\"tf\"> <a href=\"https://shebanq.ancient-data.org/hebrew/text?book=Genesis&amp;chapter=2&amp;verse=6&amp;version=c&amp;mr=m&amp;qw=q&amp;tp=txt_p&amp;tr=hb&amp;wget=v&amp;qget=v&amp;nget=vt\" title=\"show this passage in SHEBANQ\" sec=\"Genesis 2:6\">Genesis 2:6</a></td><td class=\"tf\"><a target=\"_blank\" href=\"https://shebanq.ancient-data.org/hebrew/word?version=c&amp;id=1ADn\" title=\"show this lexeme in SHEBANQ\"><span class=\"plain outer  rtl  \" ><span class=\"plain rtl h\">אֵד</span></span></a></td><td class=\"tf\"><span class=\"plain outer  rtl  hl\" ><span class=\"h\">אֵ֖ד </span></span></td></tr>\n",
       "<tr class=\"tf\"><td class=\"tf\">3</td><td class=\"tf\"> <a href=\"https://shebanq.ancient-data.org/hebrew/text?book=Genesis&amp;chapter=27&amp;verse=45&amp;version=c&amp;mr=m&amp;qw=q&amp;tp=txt_p&amp;tr=hb&amp;wget=v&amp;qget=v&amp;nget=vt\" title=\"show this passage in SHEBANQ\" sec=\"Genesis 27:45\">Genesis 27:45</a></td><td class=\"tf\"><a target=\"_blank\" href=\"https://shebanq.ancient-data.org/hebrew/word?version=c&amp;id=1APn\" title=\"show this lexeme in SHEBANQ\"><span class=\"plain outer  rtl  \" ><span class=\"plain rtl h\">אַף</span></span></a></td><td class=\"tf\"><span class=\"plain outer  rtl  hl\" ><span class=\"h\">אַף־</span></span></td></tr>\n",
       "<tr class=\"tf\"><td class=\"tf\">4</td><td class=\"tf\"> <a href=\"https://shebanq.ancient-data.org/hebrew/text?book=Genesis&amp;chapter=17&amp;verse=4&amp;version=c&amp;mr=m&amp;qw=q&amp;tp=txt_p&amp;tr=hb&amp;wget=v&amp;qget=v&amp;nget=vt\" title=\"show this passage in SHEBANQ\" sec=\"Genesis 17:4\">Genesis 17:4</a></td><td class=\"tf\"><a target=\"_blank\" href=\"https://shebanq.ancient-data.org/hebrew/word?version=c&amp;id=1ABn\" title=\"show this lexeme in SHEBANQ\"><span class=\"plain outer  rtl  \" ><span class=\"plain rtl h\">אָב</span></span></a></td><td class=\"tf\"><span class=\"plain outer  rtl  hl\" ><span class=\"h\">אַ֖ב </span></span></td></tr>\n",
       "<tr class=\"tf\"><td class=\"tf\">5</td><td class=\"tf\"> <a href=\"https://shebanq.ancient-data.org/hebrew/text?book=Genesis&amp;chapter=3&amp;verse=20&amp;version=c&amp;mr=m&amp;qw=q&amp;tp=txt_p&amp;tr=hb&amp;wget=v&amp;qget=v&amp;nget=vt\" title=\"show this passage in SHEBANQ\" sec=\"Genesis 3:20\">Genesis 3:20</a></td><td class=\"tf\"><a target=\"_blank\" href=\"https://shebanq.ancient-data.org/hebrew/word?version=c&amp;id=1AMn\" title=\"show this lexeme in SHEBANQ\"><span class=\"plain outer  rtl  \" ><span class=\"plain rtl h\">אֵם</span></span></a></td><td class=\"tf\"><span class=\"plain outer  rtl  hl\" ><span class=\"h\">אֵ֥ם </span></span></td></tr>\n",
       "<tr class=\"tf\"><td class=\"tf\">6</td><td class=\"tf\"> <a href=\"https://shebanq.ancient-data.org/hebrew/text?book=Genesis&amp;chapter=24&amp;verse=29&amp;version=c&amp;mr=m&amp;qw=q&amp;tp=txt_p&amp;tr=hb&amp;wget=v&amp;qget=v&amp;nget=vt\" title=\"show this passage in SHEBANQ\" sec=\"Genesis 24:29\">Genesis 24:29</a></td><td class=\"tf\"><a target=\"_blank\" href=\"https://shebanq.ancient-data.org/hebrew/word?version=c&amp;id=1AXn\" title=\"show this lexeme in SHEBANQ\"><span class=\"plain outer  rtl  \" ><span class=\"plain rtl h\">אָח</span></span></a></td><td class=\"tf\"><span class=\"plain outer  rtl  hl\" ><span class=\"h\">אָ֖ח </span></span></td></tr>\n",
       "<tr class=\"tf\"><td class=\"tf\">7</td><td class=\"tf\"> <a href=\"https://shebanq.ancient-data.org/hebrew/text?book=Jesaia&amp;chapter=20&amp;verse=6&amp;version=c&amp;mr=m&amp;qw=q&amp;tp=txt_p&amp;tr=hb&amp;wget=v&amp;qget=v&amp;nget=vt\" title=\"show this passage in SHEBANQ\" sec=\"Isaiah 20:6\">Isaiah 20:6</a></td><td class=\"tf\"><a target=\"_blank\" href=\"https://shebanq.ancient-data.org/hebrew/word?version=c&amp;id=1AJn\" title=\"show this lexeme in SHEBANQ\"><span class=\"plain outer  rtl  \" ><span class=\"plain rtl h\">אִי</span></span></a></td><td class=\"tf\"><span class=\"plain outer  rtl  hl\" ><span class=\"h\">אִ֣י </span></span></td></tr>\n",
       "<tr class=\"tf\"><td class=\"tf\">8</td><td class=\"tf\"> <a href=\"https://shebanq.ancient-data.org/hebrew/text?book=Genesis&amp;chapter=14&amp;verse=18&amp;version=c&amp;mr=m&amp;qw=q&amp;tp=txt_p&amp;tr=hb&amp;wget=v&amp;qget=v&amp;nget=vt\" title=\"show this passage in SHEBANQ\" sec=\"Genesis 14:18\">Genesis 14:18</a></td><td class=\"tf\"><a target=\"_blank\" href=\"https://shebanq.ancient-data.org/hebrew/word?version=c&amp;id=1ALn\" title=\"show this lexeme in SHEBANQ\"><span class=\"plain outer  rtl  \" ><span class=\"plain rtl h\">אֵל</span></span></a></td><td class=\"tf\"><span class=\"plain outer  rtl  hl\" ><span class=\"h\">אֵ֥ל </span></span></td></tr>\n",
       "<tr class=\"tf\"><td class=\"tf\">9</td><td class=\"tf\"> <a href=\"https://shebanq.ancient-data.org/hebrew/text?book=Genesis&amp;chapter=15&amp;verse=17&amp;version=c&amp;mr=m&amp;qw=q&amp;tp=txt_p&amp;tr=hb&amp;wget=v&amp;qget=v&amp;nget=vt\" title=\"show this passage in SHEBANQ\" sec=\"Genesis 15:17\">Genesis 15:17</a></td><td class=\"tf\"><a target=\"_blank\" href=\"https://shebanq.ancient-data.org/hebrew/word?version=c&amp;id=1ACn\" title=\"show this lexeme in SHEBANQ\"><span class=\"plain outer  rtl  \" ><span class=\"plain rtl h\">אֵשׁ</span></span></a></td><td class=\"tf\"><span class=\"plain outer  rtl  hl\" ><span class=\"h\">אֵ֔שׁ </span></span></td></tr>\n",
       "<tr class=\"tf\"><td class=\"tf\">10</td><td class=\"tf\"> <a href=\"https://shebanq.ancient-data.org/hebrew/text?book=Genesis&amp;chapter=31&amp;verse=29&amp;version=c&amp;mr=m&amp;qw=q&amp;tp=txt_p&amp;tr=hb&amp;wget=v&amp;qget=v&amp;nget=vt\" title=\"show this passage in SHEBANQ\" sec=\"Genesis 31:29\">Genesis 31:29</a></td><td class=\"tf\"><a target=\"_blank\" href=\"https://shebanq.ancient-data.org/hebrew/word?version=c&amp;id=1ALiin\" title=\"show this lexeme in SHEBANQ\"><span class=\"plain outer  rtl  \" ><span class=\"plain rtl h\">אֵל</span></span></a></td><td class=\"tf\"><span class=\"plain outer  rtl  hl\" ><span class=\"h\">אֵ֣ל </span></span></td></tr>\n",
       "<tr class=\"tf\"><td class=\"tf\">11</td><td class=\"tf\"> <a href=\"https://shebanq.ancient-data.org/hebrew/text?book=Samuel_II&amp;chapter=18&amp;verse=5&amp;version=c&amp;mr=m&amp;qw=q&amp;tp=txt_p&amp;tr=hb&amp;wget=v&amp;qget=v&amp;nget=vt\" title=\"show this passage in SHEBANQ\" sec=\"2_Samuel 18:5\">2_Samuel 18:5</a></td><td class=\"tf\"><a target=\"_blank\" href=\"https://shebanq.ancient-data.org/hebrew/word?version=c&amp;id=1AVn\" title=\"show this lexeme in SHEBANQ\"><span class=\"plain outer  rtl  \" ><span class=\"plain rtl h\">אַט</span></span></a></td><td class=\"tf\"><span class=\"plain outer  rtl  hl\" ><span class=\"h\">אַט־</span></span></td></tr>\n",
       "<tr class=\"tf\"><td class=\"tf\">12</td><td class=\"tf\"> <a href=\"https://shebanq.ancient-data.org/hebrew/text?book=Samuel_II&amp;chapter=14&amp;verse=19&amp;version=c&amp;mr=m&amp;qw=q&amp;tp=txt_p&amp;tr=hb&amp;wget=v&amp;qget=v&amp;nget=vt\" title=\"show this passage in SHEBANQ\" sec=\"2_Samuel 14:19\">2_Samuel 14:19</a></td><td class=\"tf\"><a target=\"_blank\" href=\"https://shebanq.ancient-data.org/hebrew/word?version=c&amp;id=1ACin\" title=\"show this lexeme in SHEBANQ\"><span class=\"plain outer  rtl  \" ><span class=\"plain rtl h\">אִשׁ</span></span></a></td><td class=\"tf\"><span class=\"plain outer  rtl  hl\" ><span class=\"h\">אִ֣שׁ׀ </span></span></td></tr>\n",
       "<tr class=\"tf\"><td class=\"tf\">13</td><td class=\"tf\"> <a href=\"https://shebanq.ancient-data.org/hebrew/text?book=Ezechiel&amp;chapter=40&amp;verse=48&amp;version=c&amp;mr=m&amp;qw=q&amp;tp=txt_p&amp;tr=hb&amp;wget=v&amp;qget=v&amp;nget=vt\" title=\"show this passage in SHEBANQ\" sec=\"Ezekiel 40:48\">Ezekiel 40:48</a></td><td class=\"tf\"><a target=\"_blank\" href=\"https://shebanq.ancient-data.org/hebrew/word?version=c&amp;id=1AJLiiin\" title=\"show this lexeme in SHEBANQ\"><span class=\"plain outer  rtl  \" ><span class=\"plain rtl h\">אַיִל</span></span></a></td><td class=\"tf\"><span class=\"plain outer  rtl  hl\" ><span class=\"h\">אֵ֣ל </span></span></td></tr>\n",
       "<tr class=\"tf\"><td class=\"tf\">14</td><td class=\"tf\"> <a href=\"https://shebanq.ancient-data.org/hebrew/text?book=Jeremia&amp;chapter=36&amp;verse=22&amp;version=c&amp;mr=m&amp;qw=q&amp;tp=txt_p&amp;tr=hb&amp;wget=v&amp;qget=v&amp;nget=vt\" title=\"show this passage in SHEBANQ\" sec=\"Jeremiah 36:22\">Jeremiah 36:22</a></td><td class=\"tf\"><a target=\"_blank\" href=\"https://shebanq.ancient-data.org/hebrew/word?version=c&amp;id=1AXiin\" title=\"show this lexeme in SHEBANQ\"><span class=\"plain outer  rtl  \" ><span class=\"plain rtl h\">אָח</span></span></a></td><td class=\"tf\"><span class=\"plain outer  rtl  hl\" ><span class=\"h\">אָ֖ח </span></span></td></tr>\n",
       "<tr class=\"tf\"><td class=\"tf\">15</td><td class=\"tf\"> <a href=\"https://shebanq.ancient-data.org/hebrew/text?book=Iob&amp;chapter=24&amp;verse=25&amp;version=c&amp;mr=m&amp;qw=q&amp;tp=txt_p&amp;tr=hb&amp;wget=v&amp;qget=v&amp;nget=vt\" title=\"show this passage in SHEBANQ\" sec=\"Job 24:25\">Job 24:25</a></td><td class=\"tf\"><a target=\"_blank\" href=\"https://shebanq.ancient-data.org/hebrew/word?version=c&amp;id=1ALin\" title=\"show this lexeme in SHEBANQ\"><span class=\"plain outer  rtl  \" ><span class=\"plain rtl h\">אַל</span></span></a></td><td class=\"tf\"><span class=\"plain outer  rtl  hl\" ><span class=\"h\">אַ֗ל </span></span></td></tr>\n",
       "<tr class=\"tf\"><td class=\"tf\">16</td><td class=\"tf\"> <a href=\"https://shebanq.ancient-data.org/hebrew/text?book=Esra&amp;chapter=5&amp;verse=8&amp;version=c&amp;mr=m&amp;qw=q&amp;tp=txt_p&amp;tr=hb&amp;wget=v&amp;qget=v&amp;nget=vt\" title=\"show this passage in SHEBANQ\" sec=\"Ezra 5:8\">Ezra 5:8</a></td><td class=\"tf\"><a target=\"_blank\" href=\"https://shebanq.ancient-data.org/hebrew/word?version=c&amp;id=2AOn\" title=\"show this lexeme in SHEBANQ\"><span class=\"plain outer  rtl  \" ><span class=\"plain rtl h\">אָע</span></span></a></td><td class=\"tf\"><span class=\"plain outer  rtl  hl\" ><span class=\"h\">אָ֖ע </span></span></td></tr></table>"
      ],
      "text/plain": [
       "<IPython.core.display.HTML object>"
      ]
     },
     "metadata": {},
     "output_type": "display_data"
    }
   ],
   "source": [
    "lexemes = set()\n",
    "lexResults = []\n",
    "for (lex, word) in results:\n",
    "    if lex not in lexemes:\n",
    "        lexemes.add(lex)\n",
    "        lexResults.append((lex, word))\n",
    "A.table(lexResults)"
   ]
  },
  {
   "cell_type": "markdown",
   "metadata": {},
   "source": [
    "Observe how you can use a query to get an interesting node set,\n",
    "which you can then massage using standard Python machinery,\n",
    "after which you can display the results prettily with `A.table()` or `A.show()`.\n",
    "\n",
    "**The take-away lesson is: you can use `A.table()` and `A.show()` on arbitrary iterables of tuples of nodes,\n",
    "whether or not they come from an executed query.**\n",
    "\n",
    "The headers of the tables are taken from the node types of the first tuple, so if your tuples\n",
    "are not consistent in their types, the headers will be non-sensical:"
   ]
  },
  {
   "cell_type": "code",
   "execution_count": 38,
   "metadata": {
    "ExecuteTime": {
     "end_time": "2018-05-24T08:01:41.297750Z",
     "start_time": "2018-05-24T08:01:41.291652Z"
    }
   },
   "outputs": [
    {
     "data": {
      "text/html": [
       "<table>\n",
       "<tr class=\"tf\">\n",
       "  <th class=\"tf\">n</th><th class=\"tf\">p</th>\n",
       "  <th class=\"tf\">word</th><th>phrase_atom</th>\n",
       "</tr>\n",
       "\n",
       "<tr class=\"tf\"><td class=\"tf\">1</td><td class=\"tf\"> <a href=\"https://shebanq.ancient-data.org/hebrew/text?book=Samuel_I&amp;chapter=25&amp;verse=25&amp;version=c&amp;mr=m&amp;qw=q&amp;tp=txt_p&amp;tr=hb&amp;wget=v&amp;qget=v&amp;nget=vt\" title=\"show this passage in SHEBANQ\" sec=\"1_Samuel 25:25\">1_Samuel 25:25</a></td><td class=\"tf\"><a href=\"https://shebanq.ancient-data.org/hebrew/text?book=Genesis&amp;chapter=1&amp;verse=1&amp;version=c&amp;mr=m&amp;qw=q&amp;tp=txt_p&amp;tr=hb&amp;wget=v&amp;qget=v&amp;nget=vt\" title=\"Genesis 1:1\" sec=\"Genesis 1:1\"><span class=\"plain outer  rtl  hl\" ><span class=\"h\">בְּ</span></span></a></td><td class=\"tf\"><span class=\"plain outer  rtl  hlbx\" ><span class=\"plain rtl  \" ><span class=\"h\">אֶל־</span></span><span class=\"plain rtl  \" ><span class=\"h\">אִישׁ֩ </span></span><span class=\"plain rtl  \" ><span class=\"h\">הַ</span></span><span class=\"plain rtl  \" ><span class=\"h\">בְּלִיַּ֨עַל </span></span><span class=\"plain rtl  \" ><span class=\"h\">הַ</span></span><span class=\"plain rtl  \" ><span class=\"h\">זֶּ֜ה </span></span></span></td></tr>\n",
       "<tr class=\"tf\"><td class=\"tf\">2</td><td class=\"tf\"> <a href=\"https://shebanq.ancient-data.org/hebrew/text?book=Genesis&amp;chapter=1&amp;verse=1&amp;version=c&amp;mr=m&amp;qw=q&amp;tp=txt_p&amp;tr=hb&amp;wget=v&amp;qget=v&amp;nget=vt\" title=\"show this passage in SHEBANQ\" sec=\"Genesis 1:1\">Genesis 1:1</a></td><td class=\"tf\"><a href=\"https://shebanq.ancient-data.org/hebrew/text?book=Samuel_I&amp;chapter=25&amp;verse=25&amp;version=c&amp;mr=m&amp;qw=q&amp;tp=txt_p&amp;tr=hb&amp;wget=v&amp;qget=v&amp;nget=vt\" title=\"1_Samuel 25:25\" sec=\"1_Samuel 25:25\"><span class=\"plain outer  rtl  hlbx\" ><span class=\"plain rtl  \" ><span class=\"h\">עַל־</span></span><span class=\"plain rtl  \" ><span class=\"h\">נָבָ֗ל </span></span></span></a></td><td class=\"tf\"><span class=\"plain outer  rtl  hl\" ><span class=\"h\">רֵאשִׁ֖ית </span></span></td></tr></table>"
      ],
      "text/plain": [
       "<IPython.core.display.HTML object>"
      ]
     },
     "metadata": {},
     "output_type": "display_data"
    }
   ],
   "source": [
    "tuples = (\n",
    "    (1, 1000000),\n",
    "    (1000001, 2),\n",
    ")\n",
    "A.table(tuples)"
   ]
  },
  {
   "cell_type": "markdown",
   "metadata": {},
   "source": [
    "But `A.show()` makes perfect sense, also in this case."
   ]
  },
  {
   "cell_type": "code",
   "execution_count": 39,
   "metadata": {
    "ExecuteTime": {
     "end_time": "2018-05-24T08:01:43.690920Z",
     "start_time": "2018-05-24T08:01:43.667562Z"
    }
   },
   "outputs": [
    {
     "data": {
      "text/html": [
       "<p><b>result</b> <i>1</i></p>"
      ],
      "text/plain": [
       "<IPython.core.display.HTML object>"
      ]
     },
     "metadata": {},
     "output_type": "display_data"
    },
    {
     "data": {
      "text/html": [
       "<div class=\"outeritem\"><div class=\"verse  \" >\n",
       "    <div class=\"vl\">\n",
       "        <div class=\"vrs\"><a href=\"https://shebanq.ancient-data.org/hebrew/text?book=Genesis&amp;chapter=1&amp;verse=1&amp;version=c&amp;mr=m&amp;qw=q&amp;tp=txt_p&amp;tr=hb&amp;wget=v&amp;qget=v&amp;nget=vt\" title=\"show this passage in SHEBANQ\" sec=\"Genesis 1:1\">Genesis 1:1</a></div>\n",
       "        \n",
       "    </div>\n",
       "<div class=\"satom  \" >\n",
       "        <div class=\"sentence \" >\n",
       "            <a href=\"https://shebanq.ancient-data.org/hebrew/text?book=Genesis&amp;chapter=1&amp;verse=1&amp;version=c&amp;mr=m&amp;qw=q&amp;tp=txt_p&amp;tr=hb&amp;wget=v&amp;qget=v&amp;nget=vt\" title=\"Genesis 1:1\" sec=\"Genesis 1:1\">sentence</a>   <span class=\"number\">1</span>\n",
       "        </div>\n",
       "        <div class=\"atoms\">\n",
       "                    <div class=\"catom  \" >\n",
       "        <div class=\"clause \" >\n",
       "            <a href=\"https://shebanq.ancient-data.org/hebrew/text?book=Genesis&amp;chapter=1&amp;verse=1&amp;version=c&amp;mr=m&amp;qw=q&amp;tp=txt_p&amp;tr=hb&amp;wget=v&amp;qget=v&amp;nget=vt\" title=\"Genesis 1:1\" sec=\"Genesis 1:1\">clause</a>   <span class=\"typ\">xQtX</span>\n",
       "        </div>\n",
       "        <div class=\"atoms\">\n",
       "                    <div class=\"patom  \" >\n",
       "        <div class=\"phrase \" >\n",
       "            <a href=\"https://shebanq.ancient-data.org/hebrew/text?book=Genesis&amp;chapter=1&amp;verse=1&amp;version=c&amp;mr=m&amp;qw=q&amp;tp=txt_p&amp;tr=hb&amp;wget=v&amp;qget=v&amp;nget=vt\" title=\"Genesis 1:1\" sec=\"Genesis 1:1\">phrase</a>   <span class=\"function\">Time</span> <span class=\"typ\">PP</span>\n",
       "        </div>\n",
       "        <div class=\"atoms\">\n",
       "                    <div class=\"word  hl\" ><div class=\"h\"><a target=\"_blank\" href=\"https://shebanq.ancient-data.org/hebrew/word?version=c&amp;id=1B\" title=\"show this lexeme in SHEBANQ\">בְּ</a></div><div class=\"features\"> <span class=\"pdp\"><a href=\"https://shebanq.ancient-data.org/hebrew/text?book=Genesis&amp;chapter=1&amp;verse=1&amp;version=c&amp;mr=m&amp;qw=q&amp;tp=txt_p&amp;tr=hb&amp;wget=v&amp;qget=v&amp;nget=vt\" title=\"Genesis 1:1\" sec=\"Genesis 1:1\">prep</a></span> <span class=\"gloss\">in</span> <span class=\"g_cons xft\"><span class=\"f\">g_cons=</span>B</span> <span class=\"sp xft\"><span class=\"f\">sp=</span>prep</span></div></div><div class=\"word  \" ><div class=\"h\"><a target=\"_blank\" href=\"https://shebanq.ancient-data.org/hebrew/word?version=c&amp;id=1RACJTn\" title=\"show this lexeme in SHEBANQ\">רֵאשִׁ֖ית </a></div><div class=\"features\"> <span class=\"pdp\"><a href=\"https://shebanq.ancient-data.org/hebrew/text?book=Genesis&amp;chapter=1&amp;verse=1&amp;version=c&amp;mr=m&amp;qw=q&amp;tp=txt_p&amp;tr=hb&amp;wget=v&amp;qget=v&amp;nget=vt\" title=\"Genesis 1:1\" sec=\"Genesis 1:1\">subs</a></span> <span class=\"gloss\">beginning</span> <span class=\"g_cons xft\"><span class=\"f\">g_cons=</span>R>CJT</span> <span class=\"sp xft\"><span class=\"f\">sp=</span>subs</span></div></div></div></div><div class=\"patom  \" >\n",
       "        <div class=\"phrase \" >\n",
       "            <a href=\"https://shebanq.ancient-data.org/hebrew/text?book=Genesis&amp;chapter=1&amp;verse=1&amp;version=c&amp;mr=m&amp;qw=q&amp;tp=txt_p&amp;tr=hb&amp;wget=v&amp;qget=v&amp;nget=vt\" title=\"Genesis 1:1\" sec=\"Genesis 1:1\">phrase</a>   <span class=\"function\">Pred</span> <span class=\"typ\">VP</span>\n",
       "        </div>\n",
       "        <div class=\"atoms\">\n",
       "                    <div class=\"word  \" ><div class=\"h\"><a target=\"_blank\" href=\"https://shebanq.ancient-data.org/hebrew/word?version=c&amp;id=1BRAv\" title=\"show this lexeme in SHEBANQ\">בָּרָ֣א </a></div><div class=\"features\"> <span class=\"pdp\"><a href=\"https://shebanq.ancient-data.org/hebrew/text?book=Genesis&amp;chapter=1&amp;verse=1&amp;version=c&amp;mr=m&amp;qw=q&amp;tp=txt_p&amp;tr=hb&amp;wget=v&amp;qget=v&amp;nget=vt\" title=\"Genesis 1:1\" sec=\"Genesis 1:1\">verb</a></span> <span class=\"gloss\">create</span> <span class=\"vs\">qal</span> <span class=\"vt\">perf</span> <span class=\"g_cons xft\"><span class=\"f\">g_cons=</span>BR></span> <span class=\"sp xft\"><span class=\"f\">sp=</span>verb</span></div></div></div></div><div class=\"patom  \" >\n",
       "        <div class=\"phrase \" >\n",
       "            <a href=\"https://shebanq.ancient-data.org/hebrew/text?book=Genesis&amp;chapter=1&amp;verse=1&amp;version=c&amp;mr=m&amp;qw=q&amp;tp=txt_p&amp;tr=hb&amp;wget=v&amp;qget=v&amp;nget=vt\" title=\"Genesis 1:1\" sec=\"Genesis 1:1\">phrase</a>   <span class=\"function\">Subj</span> <span class=\"typ\">NP</span>\n",
       "        </div>\n",
       "        <div class=\"atoms\">\n",
       "                    <div class=\"word  \" ><div class=\"h\"><a target=\"_blank\" href=\"https://shebanq.ancient-data.org/hebrew/word?version=c&amp;id=1ALHJMn\" title=\"show this lexeme in SHEBANQ\">אֱלֹהִ֑ים </a></div><div class=\"features\"> <span class=\"pdp\"><a href=\"https://shebanq.ancient-data.org/hebrew/text?book=Genesis&amp;chapter=1&amp;verse=1&amp;version=c&amp;mr=m&amp;qw=q&amp;tp=txt_p&amp;tr=hb&amp;wget=v&amp;qget=v&amp;nget=vt\" title=\"Genesis 1:1\" sec=\"Genesis 1:1\">subs</a></span> <span class=\"gloss\">god(s)</span> <span class=\"g_cons xft\"><span class=\"f\">g_cons=</span>>LHJM</span> <span class=\"sp xft\"><span class=\"f\">sp=</span>subs</span></div></div></div></div><div class=\"patom  \" >\n",
       "        <div class=\"phrase \" >\n",
       "            <a href=\"https://shebanq.ancient-data.org/hebrew/text?book=Genesis&amp;chapter=1&amp;verse=1&amp;version=c&amp;mr=m&amp;qw=q&amp;tp=txt_p&amp;tr=hb&amp;wget=v&amp;qget=v&amp;nget=vt\" title=\"Genesis 1:1\" sec=\"Genesis 1:1\">phrase</a>   <span class=\"function\">Objc</span> <span class=\"typ\">PP</span>\n",
       "        </div>\n",
       "        <div class=\"atoms\">\n",
       "                    <div class=\"word  \" ><div class=\"h\"><a target=\"_blank\" href=\"https://shebanq.ancient-data.org/hebrew/word?version=c&amp;id=1AT\" title=\"show this lexeme in SHEBANQ\">אֵ֥ת </a></div><div class=\"features\"> <span class=\"pdp\"><a href=\"https://shebanq.ancient-data.org/hebrew/text?book=Genesis&amp;chapter=1&amp;verse=1&amp;version=c&amp;mr=m&amp;qw=q&amp;tp=txt_p&amp;tr=hb&amp;wget=v&amp;qget=v&amp;nget=vt\" title=\"Genesis 1:1\" sec=\"Genesis 1:1\">prep</a></span> <span class=\"gloss\">&lt;object marker></span> <span class=\"g_cons xft\"><span class=\"f\">g_cons=</span>>T</span> <span class=\"sp xft\"><span class=\"f\">sp=</span>prep</span></div></div><div class=\"word  \" ><div class=\"h\"><a target=\"_blank\" href=\"https://shebanq.ancient-data.org/hebrew/word?version=c&amp;id=1H\" title=\"show this lexeme in SHEBANQ\">הַ</a></div><div class=\"features\"> <span class=\"pdp\"><a href=\"https://shebanq.ancient-data.org/hebrew/text?book=Genesis&amp;chapter=1&amp;verse=1&amp;version=c&amp;mr=m&amp;qw=q&amp;tp=txt_p&amp;tr=hb&amp;wget=v&amp;qget=v&amp;nget=vt\" title=\"Genesis 1:1\" sec=\"Genesis 1:1\">art</a></span> <span class=\"gloss\">the</span> <span class=\"g_cons xft\"><span class=\"f\">g_cons=</span>H</span> <span class=\"sp xft\"><span class=\"f\">sp=</span>art</span></div></div><div class=\"word  \" ><div class=\"h\"><a target=\"_blank\" href=\"https://shebanq.ancient-data.org/hebrew/word?version=c&amp;id=1CMJMn\" title=\"show this lexeme in SHEBANQ\">שָּׁמַ֖יִם </a></div><div class=\"features\"> <span class=\"pdp\"><a href=\"https://shebanq.ancient-data.org/hebrew/text?book=Genesis&amp;chapter=1&amp;verse=1&amp;version=c&amp;mr=m&amp;qw=q&amp;tp=txt_p&amp;tr=hb&amp;wget=v&amp;qget=v&amp;nget=vt\" title=\"Genesis 1:1\" sec=\"Genesis 1:1\">subs</a></span> <span class=\"gloss\">heavens</span> <span class=\"g_cons xft\"><span class=\"f\">g_cons=</span>CMJM</span> <span class=\"sp xft\"><span class=\"f\">sp=</span>subs</span></div></div><div class=\"word  \" ><div class=\"h\"><a target=\"_blank\" href=\"https://shebanq.ancient-data.org/hebrew/word?version=c&amp;id=1W\" title=\"show this lexeme in SHEBANQ\">וְ</a></div><div class=\"features\"> <span class=\"pdp\"><a href=\"https://shebanq.ancient-data.org/hebrew/text?book=Genesis&amp;chapter=1&amp;verse=1&amp;version=c&amp;mr=m&amp;qw=q&amp;tp=txt_p&amp;tr=hb&amp;wget=v&amp;qget=v&amp;nget=vt\" title=\"Genesis 1:1\" sec=\"Genesis 1:1\">conj</a></span> <span class=\"gloss\">and</span> <span class=\"g_cons xft\"><span class=\"f\">g_cons=</span>W</span> <span class=\"sp xft\"><span class=\"f\">sp=</span>conj</span></div></div><div class=\"word  \" ><div class=\"h\"><a target=\"_blank\" href=\"https://shebanq.ancient-data.org/hebrew/word?version=c&amp;id=1AT\" title=\"show this lexeme in SHEBANQ\">אֵ֥ת </a></div><div class=\"features\"> <span class=\"pdp\"><a href=\"https://shebanq.ancient-data.org/hebrew/text?book=Genesis&amp;chapter=1&amp;verse=1&amp;version=c&amp;mr=m&amp;qw=q&amp;tp=txt_p&amp;tr=hb&amp;wget=v&amp;qget=v&amp;nget=vt\" title=\"Genesis 1:1\" sec=\"Genesis 1:1\">prep</a></span> <span class=\"gloss\">&lt;object marker></span> <span class=\"g_cons xft\"><span class=\"f\">g_cons=</span>>T</span> <span class=\"sp xft\"><span class=\"f\">sp=</span>prep</span></div></div><div class=\"word  \" ><div class=\"h\"><a target=\"_blank\" href=\"https://shebanq.ancient-data.org/hebrew/word?version=c&amp;id=1H\" title=\"show this lexeme in SHEBANQ\">הָ</a></div><div class=\"features\"> <span class=\"pdp\"><a href=\"https://shebanq.ancient-data.org/hebrew/text?book=Genesis&amp;chapter=1&amp;verse=1&amp;version=c&amp;mr=m&amp;qw=q&amp;tp=txt_p&amp;tr=hb&amp;wget=v&amp;qget=v&amp;nget=vt\" title=\"Genesis 1:1\" sec=\"Genesis 1:1\">art</a></span> <span class=\"gloss\">the</span> <span class=\"g_cons xft\"><span class=\"f\">g_cons=</span>H</span> <span class=\"sp xft\"><span class=\"f\">sp=</span>art</span></div></div><div class=\"word  \" ><div class=\"h\"><a target=\"_blank\" href=\"https://shebanq.ancient-data.org/hebrew/word?version=c&amp;id=1ARYn\" title=\"show this lexeme in SHEBANQ\">אָֽרֶץ׃ </a></div><div class=\"features\"> <span class=\"pdp\"><a href=\"https://shebanq.ancient-data.org/hebrew/text?book=Genesis&amp;chapter=1&amp;verse=1&amp;version=c&amp;mr=m&amp;qw=q&amp;tp=txt_p&amp;tr=hb&amp;wget=v&amp;qget=v&amp;nget=vt\" title=\"Genesis 1:1\" sec=\"Genesis 1:1\">subs</a></span> <span class=\"gloss\">earth</span> <span class=\"g_cons xft\"><span class=\"f\">g_cons=</span>>RY</span> <span class=\"sp xft\"><span class=\"f\">sp=</span>subs</span></div></div></div></div></div></div></div></div></div></div>"
      ],
      "text/plain": [
       "<IPython.core.display.HTML object>"
      ]
     },
     "metadata": {},
     "output_type": "display_data"
    },
    {
     "data": {
      "text/html": [
       "<div class=\"outeritem\"><div class=\"verse  \" >\n",
       "    <div class=\"vl\">\n",
       "        <div class=\"vrs\"><a href=\"https://shebanq.ancient-data.org/hebrew/text?book=Samuel_I&amp;chapter=25&amp;verse=25&amp;version=c&amp;mr=m&amp;qw=q&amp;tp=txt_p&amp;tr=hb&amp;wget=v&amp;qget=v&amp;nget=vt\" title=\"show this passage in SHEBANQ\" sec=\"1_Samuel 25:25\">1_Samuel 25:25</a></div>\n",
       "        \n",
       "    </div>\n",
       "<div class=\"satom  \" >\n",
       "        <div class=\"sentence \" >\n",
       "            <a href=\"https://shebanq.ancient-data.org/hebrew/text?book=Samuel_I&amp;chapter=25&amp;verse=25&amp;version=c&amp;mr=m&amp;qw=q&amp;tp=txt_p&amp;tr=hb&amp;wget=v&amp;qget=v&amp;nget=vt\" title=\"1_Samuel 25:25\" sec=\"1_Samuel 25:25\">sentence</a>   <span class=\"number\">100|2607</span>\n",
       "        </div>\n",
       "        <div class=\"atoms\">\n",
       "                    <div class=\"catom  \" >\n",
       "        <div class=\"clause \" >\n",
       "            <a href=\"https://shebanq.ancient-data.org/hebrew/text?book=Samuel_I&amp;chapter=25&amp;verse=25&amp;version=c&amp;mr=m&amp;qw=q&amp;tp=txt_p&amp;tr=hb&amp;wget=v&amp;qget=v&amp;nget=vt\" title=\"1_Samuel 25:25\" sec=\"1_Samuel 25:25\">clause</a>   <span class=\"typ\">xYqX</span>\n",
       "        </div>\n",
       "        <div class=\"atoms\">\n",
       "                    <div class=\"patom  \" >\n",
       "        <div class=\"phrase \" >\n",
       "            <a href=\"https://shebanq.ancient-data.org/hebrew/text?book=Samuel_I&amp;chapter=25&amp;verse=25&amp;version=c&amp;mr=m&amp;qw=q&amp;tp=txt_p&amp;tr=hb&amp;wget=v&amp;qget=v&amp;nget=vt\" title=\"1_Samuel 25:25\" sec=\"1_Samuel 25:25\">phrase</a>   <span class=\"function\">Nega</span> <span class=\"typ\">NegP</span>\n",
       "        </div>\n",
       "        <div class=\"atoms\">\n",
       "                    <div class=\"word  \" ><div class=\"h\"><a target=\"_blank\" href=\"https://shebanq.ancient-data.org/hebrew/word?version=c&amp;id=1ALi\" title=\"show this lexeme in SHEBANQ\">אַל־</a></div><div class=\"features\"> <span class=\"pdp\"><a href=\"https://shebanq.ancient-data.org/hebrew/text?book=Samuel_I&amp;chapter=25&amp;verse=25&amp;version=c&amp;mr=m&amp;qw=q&amp;tp=txt_p&amp;tr=hb&amp;wget=v&amp;qget=v&amp;nget=vt\" title=\"1_Samuel 25:25\" sec=\"1_Samuel 25:25\">nega</a></span> <span class=\"gloss\">not</span> <span class=\"g_cons xft\"><span class=\"f\">g_cons=</span>>L</span> <span class=\"sp xft\"><span class=\"f\">sp=</span>nega</span></div></div></div></div><div class=\"patom  \" >\n",
       "        <div class=\"phrase \" >\n",
       "            <a href=\"https://shebanq.ancient-data.org/hebrew/text?book=Samuel_I&amp;chapter=25&amp;verse=25&amp;version=c&amp;mr=m&amp;qw=q&amp;tp=txt_p&amp;tr=hb&amp;wget=v&amp;qget=v&amp;nget=vt\" title=\"1_Samuel 25:25\" sec=\"1_Samuel 25:25\">phrase</a>   <span class=\"function\">Intj</span> <span class=\"typ\">InjP</span>\n",
       "        </div>\n",
       "        <div class=\"atoms\">\n",
       "                    <div class=\"word  \" ><div class=\"h\"><a target=\"_blank\" href=\"https://shebanq.ancient-data.org/hebrew/word?version=c&amp;id=1NA\" title=\"show this lexeme in SHEBANQ\">נָ֣א </a></div><div class=\"features\"> <span class=\"pdp\"><a href=\"https://shebanq.ancient-data.org/hebrew/text?book=Samuel_I&amp;chapter=25&amp;verse=25&amp;version=c&amp;mr=m&amp;qw=q&amp;tp=txt_p&amp;tr=hb&amp;wget=v&amp;qget=v&amp;nget=vt\" title=\"1_Samuel 25:25\" sec=\"1_Samuel 25:25\">intj</a></span> <span class=\"gloss\">yeah</span> <span class=\"g_cons xft\"><span class=\"f\">g_cons=</span>N></span> <span class=\"sp xft\"><span class=\"f\">sp=</span>intj</span></div></div></div></div><div class=\"patom  \" >\n",
       "        <div class=\"phrase \" >\n",
       "            <a href=\"https://shebanq.ancient-data.org/hebrew/text?book=Samuel_I&amp;chapter=25&amp;verse=25&amp;version=c&amp;mr=m&amp;qw=q&amp;tp=txt_p&amp;tr=hb&amp;wget=v&amp;qget=v&amp;nget=vt\" title=\"1_Samuel 25:25\" sec=\"1_Samuel 25:25\">phrase</a>   <span class=\"function\">Pred</span> <span class=\"typ\">VP</span>\n",
       "        </div>\n",
       "        <div class=\"atoms\">\n",
       "                    <div class=\"word  \" ><div class=\"h\"><a target=\"_blank\" href=\"https://shebanq.ancient-data.org/hebrew/word?version=c&amp;id=1FJMv\" title=\"show this lexeme in SHEBANQ\">יָשִׂ֣ים </a></div><div class=\"features\"> <span class=\"pdp\"><a href=\"https://shebanq.ancient-data.org/hebrew/text?book=Samuel_I&amp;chapter=25&amp;verse=25&amp;version=c&amp;mr=m&amp;qw=q&amp;tp=txt_p&amp;tr=hb&amp;wget=v&amp;qget=v&amp;nget=vt\" title=\"1_Samuel 25:25\" sec=\"1_Samuel 25:25\">verb</a></span> <span class=\"gloss\">put</span> <span class=\"vs\">qal</span> <span class=\"vt\">impf</span> <span class=\"g_cons xft\"><span class=\"f\">g_cons=</span>JFJM</span> <span class=\"sp xft\"><span class=\"f\">sp=</span>verb</span></div></div></div></div><div class=\"patom  \" >\n",
       "        <div class=\"phrase \" >\n",
       "            <a href=\"https://shebanq.ancient-data.org/hebrew/text?book=Samuel_I&amp;chapter=25&amp;verse=25&amp;version=c&amp;mr=m&amp;qw=q&amp;tp=txt_p&amp;tr=hb&amp;wget=v&amp;qget=v&amp;nget=vt\" title=\"1_Samuel 25:25\" sec=\"1_Samuel 25:25\">phrase</a>   <span class=\"function\">Subj</span> <span class=\"typ\">NP</span>\n",
       "        </div>\n",
       "        <div class=\"atoms\">\n",
       "                    <div class=\"word  \" ><div class=\"h\"><a target=\"_blank\" href=\"https://shebanq.ancient-data.org/hebrew/word?version=c&amp;id=1ADWNn\" title=\"show this lexeme in SHEBANQ\">אֲדֹנִ֣י׀ </a></div><div class=\"features\"> <span class=\"pdp\"><a href=\"https://shebanq.ancient-data.org/hebrew/text?book=Samuel_I&amp;chapter=25&amp;verse=25&amp;version=c&amp;mr=m&amp;qw=q&amp;tp=txt_p&amp;tr=hb&amp;wget=v&amp;qget=v&amp;nget=vt\" title=\"1_Samuel 25:25\" sec=\"1_Samuel 25:25\">subs</a></span> <span class=\"gloss\">lord</span> <span class=\"g_cons xft\"><span class=\"f\">g_cons=</span>>DNJ</span> <span class=\"sp xft\"><span class=\"f\">sp=</span>subs</span></div></div></div></div><div class=\"patom  \" >\n",
       "        <div class=\"phrase \" >\n",
       "            <a href=\"https://shebanq.ancient-data.org/hebrew/text?book=Samuel_I&amp;chapter=25&amp;verse=25&amp;version=c&amp;mr=m&amp;qw=q&amp;tp=txt_p&amp;tr=hb&amp;wget=v&amp;qget=v&amp;nget=vt\" title=\"1_Samuel 25:25\" sec=\"1_Samuel 25:25\">phrase</a>   <span class=\"function\">Objc</span> <span class=\"typ\">PP</span>\n",
       "        </div>\n",
       "        <div class=\"atoms\">\n",
       "                    <div class=\"word  \" ><div class=\"h\"><a target=\"_blank\" href=\"https://shebanq.ancient-data.org/hebrew/word?version=c&amp;id=1AT\" title=\"show this lexeme in SHEBANQ\">אֶת־</a></div><div class=\"features\"> <span class=\"pdp\"><a href=\"https://shebanq.ancient-data.org/hebrew/text?book=Samuel_I&amp;chapter=25&amp;verse=25&amp;version=c&amp;mr=m&amp;qw=q&amp;tp=txt_p&amp;tr=hb&amp;wget=v&amp;qget=v&amp;nget=vt\" title=\"1_Samuel 25:25\" sec=\"1_Samuel 25:25\">prep</a></span> <span class=\"gloss\">&lt;object marker></span> <span class=\"g_cons xft\"><span class=\"f\">g_cons=</span>>T</span> <span class=\"sp xft\"><span class=\"f\">sp=</span>prep</span></div></div><div class=\"word  \" ><div class=\"h\"><a target=\"_blank\" href=\"https://shebanq.ancient-data.org/hebrew/word?version=c&amp;id=1LBn\" title=\"show this lexeme in SHEBANQ\">לִבֹּ֡ו </a></div><div class=\"features\"> <span class=\"pdp\"><a href=\"https://shebanq.ancient-data.org/hebrew/text?book=Samuel_I&amp;chapter=25&amp;verse=25&amp;version=c&amp;mr=m&amp;qw=q&amp;tp=txt_p&amp;tr=hb&amp;wget=v&amp;qget=v&amp;nget=vt\" title=\"1_Samuel 25:25\" sec=\"1_Samuel 25:25\">subs</a></span> <span class=\"gloss\">heart</span> <span class=\"g_cons xft\"><span class=\"f\">g_cons=</span>LBW</span> <span class=\"sp xft\"><span class=\"f\">sp=</span>subs</span></div></div></div></div><div class=\"patom  l hl\" >\n",
       "        <div class=\"phrase \" >\n",
       "            <a href=\"https://shebanq.ancient-data.org/hebrew/text?book=Samuel_I&amp;chapter=25&amp;verse=25&amp;version=c&amp;mr=m&amp;qw=q&amp;tp=txt_p&amp;tr=hb&amp;wget=v&amp;qget=v&amp;nget=vt\" title=\"1_Samuel 25:25\" sec=\"1_Samuel 25:25\">phrase</a>   <span class=\"function\">Cmpl</span> <span class=\"typ\">PP</span>\n",
       "        </div>\n",
       "        <div class=\"atoms\">\n",
       "                    <div class=\"word  \" ><div class=\"h\"><a target=\"_blank\" href=\"https://shebanq.ancient-data.org/hebrew/word?version=c&amp;id=1AL\" title=\"show this lexeme in SHEBANQ\">אֶל־</a></div><div class=\"features\"> <span class=\"pdp\"><a href=\"https://shebanq.ancient-data.org/hebrew/text?book=Samuel_I&amp;chapter=25&amp;verse=25&amp;version=c&amp;mr=m&amp;qw=q&amp;tp=txt_p&amp;tr=hb&amp;wget=v&amp;qget=v&amp;nget=vt\" title=\"1_Samuel 25:25\" sec=\"1_Samuel 25:25\">prep</a></span> <span class=\"gloss\">to</span> <span class=\"g_cons xft\"><span class=\"f\">g_cons=</span>>L</span> <span class=\"sp xft\"><span class=\"f\">sp=</span>prep</span></div></div><div class=\"word  \" ><div class=\"h\"><a target=\"_blank\" href=\"https://shebanq.ancient-data.org/hebrew/word?version=c&amp;id=1AJCn\" title=\"show this lexeme in SHEBANQ\">אִישׁ֩ </a></div><div class=\"features\"> <span class=\"pdp\"><a href=\"https://shebanq.ancient-data.org/hebrew/text?book=Samuel_I&amp;chapter=25&amp;verse=25&amp;version=c&amp;mr=m&amp;qw=q&amp;tp=txt_p&amp;tr=hb&amp;wget=v&amp;qget=v&amp;nget=vt\" title=\"1_Samuel 25:25\" sec=\"1_Samuel 25:25\">subs</a></span> <span class=\"gloss\">man</span> <span class=\"g_cons xft\"><span class=\"f\">g_cons=</span>>JC</span> <span class=\"sp xft\"><span class=\"f\">sp=</span>subs</span></div></div><div class=\"word  \" ><div class=\"h\"><a target=\"_blank\" href=\"https://shebanq.ancient-data.org/hebrew/word?version=c&amp;id=1H\" title=\"show this lexeme in SHEBANQ\">הַ</a></div><div class=\"features\"> <span class=\"pdp\"><a href=\"https://shebanq.ancient-data.org/hebrew/text?book=Samuel_I&amp;chapter=25&amp;verse=25&amp;version=c&amp;mr=m&amp;qw=q&amp;tp=txt_p&amp;tr=hb&amp;wget=v&amp;qget=v&amp;nget=vt\" title=\"1_Samuel 25:25\" sec=\"1_Samuel 25:25\">art</a></span> <span class=\"gloss\">the</span> <span class=\"g_cons xft\"><span class=\"f\">g_cons=</span>H</span> <span class=\"sp xft\"><span class=\"f\">sp=</span>art</span></div></div><div class=\"word  \" ><div class=\"h\"><a target=\"_blank\" href=\"https://shebanq.ancient-data.org/hebrew/word?version=c&amp;id=1BLJOLn\" title=\"show this lexeme in SHEBANQ\">בְּלִיַּ֨עַל </a></div><div class=\"features\"> <span class=\"pdp\"><a href=\"https://shebanq.ancient-data.org/hebrew/text?book=Samuel_I&amp;chapter=25&amp;verse=25&amp;version=c&amp;mr=m&amp;qw=q&amp;tp=txt_p&amp;tr=hb&amp;wget=v&amp;qget=v&amp;nget=vt\" title=\"1_Samuel 25:25\" sec=\"1_Samuel 25:25\">subs</a></span> <span class=\"gloss\">wickedness</span> <span class=\"g_cons xft\"><span class=\"f\">g_cons=</span>BLJ&lt;L</span> <span class=\"sp xft\"><span class=\"f\">sp=</span>subs</span></div></div><div class=\"word  \" ><div class=\"h\"><a target=\"_blank\" href=\"https://shebanq.ancient-data.org/hebrew/word?version=c&amp;id=1H\" title=\"show this lexeme in SHEBANQ\">הַ</a></div><div class=\"features\"> <span class=\"pdp\"><a href=\"https://shebanq.ancient-data.org/hebrew/text?book=Samuel_I&amp;chapter=25&amp;verse=25&amp;version=c&amp;mr=m&amp;qw=q&amp;tp=txt_p&amp;tr=hb&amp;wget=v&amp;qget=v&amp;nget=vt\" title=\"1_Samuel 25:25\" sec=\"1_Samuel 25:25\">art</a></span> <span class=\"gloss\">the</span> <span class=\"g_cons xft\"><span class=\"f\">g_cons=</span>H</span> <span class=\"sp xft\"><span class=\"f\">sp=</span>art</span></div></div><div class=\"word  \" ><div class=\"h\"><a target=\"_blank\" href=\"https://shebanq.ancient-data.org/hebrew/word?version=c&amp;id=1ZH\" title=\"show this lexeme in SHEBANQ\">זֶּ֜ה </a></div><div class=\"features\"> <span class=\"pdp\"><a href=\"https://shebanq.ancient-data.org/hebrew/text?book=Samuel_I&amp;chapter=25&amp;verse=25&amp;version=c&amp;mr=m&amp;qw=q&amp;tp=txt_p&amp;tr=hb&amp;wget=v&amp;qget=v&amp;nget=vt\" title=\"1_Samuel 25:25\" sec=\"1_Samuel 25:25\">prde</a></span> <span class=\"gloss\">this</span> <span class=\"g_cons xft\"><span class=\"f\">g_cons=</span>ZH</span> <span class=\"sp xft\"><span class=\"f\">sp=</span>prde</span></div></div></div></div><div class=\"patom  r \" >\n",
       "        <div class=\"phrase \" >\n",
       "            <a href=\"https://shebanq.ancient-data.org/hebrew/text?book=Samuel_I&amp;chapter=25&amp;verse=25&amp;version=c&amp;mr=m&amp;qw=q&amp;tp=txt_p&amp;tr=hb&amp;wget=v&amp;qget=v&amp;nget=vt\" title=\"1_Samuel 25:25\" sec=\"1_Samuel 25:25\">phrase</a>   <span class=\"function\">Cmpl</span> <span class=\"typ\">PP</span>\n",
       "        </div>\n",
       "        <div class=\"atoms\">\n",
       "                    <div class=\"word  \" ><div class=\"h\"><a target=\"_blank\" href=\"https://shebanq.ancient-data.org/hebrew/word?version=c&amp;id=1OL\" title=\"show this lexeme in SHEBANQ\">עַל־</a></div><div class=\"features\"> <span class=\"pdp\"><a href=\"https://shebanq.ancient-data.org/hebrew/text?book=Samuel_I&amp;chapter=25&amp;verse=25&amp;version=c&amp;mr=m&amp;qw=q&amp;tp=txt_p&amp;tr=hb&amp;wget=v&amp;qget=v&amp;nget=vt\" title=\"1_Samuel 25:25\" sec=\"1_Samuel 25:25\">prep</a></span> <span class=\"gloss\">upon</span> <span class=\"g_cons xft\"><span class=\"f\">g_cons=</span>&lt;L</span> <span class=\"sp xft\"><span class=\"f\">sp=</span>prep</span></div></div><div class=\"word  \" ><div class=\"h\"><a target=\"_blank\" href=\"https://shebanq.ancient-data.org/hebrew/word?version=c&amp;id=1NBLiiin\" title=\"show this lexeme in SHEBANQ\">נָבָ֗ל </a></div><div class=\"features\"> <span class=\"pdp\"><a href=\"https://shebanq.ancient-data.org/hebrew/text?book=Samuel_I&amp;chapter=25&amp;verse=25&amp;version=c&amp;mr=m&amp;qw=q&amp;tp=txt_p&amp;tr=hb&amp;wget=v&amp;qget=v&amp;nget=vt\" title=\"1_Samuel 25:25\" sec=\"1_Samuel 25:25\">nmpr</a></span> <span class=\"gloss\">Nabal</span> <span class=\"g_cons xft\"><span class=\"f\">g_cons=</span>NBL</span> <span class=\"sp xft\"><span class=\"f\">sp=</span>nmpr</span></div></div></div></div></div></div></div></div><div class=\"satom  \" >\n",
       "        <div class=\"sentence \" >\n",
       "            <a href=\"https://shebanq.ancient-data.org/hebrew/text?book=Samuel_I&amp;chapter=25&amp;verse=25&amp;version=c&amp;mr=m&amp;qw=q&amp;tp=txt_p&amp;tr=hb&amp;wget=v&amp;qget=v&amp;nget=vt\" title=\"1_Samuel 25:25\" sec=\"1_Samuel 25:25\">sentence</a>   <span class=\"number\">101|2608</span>\n",
       "        </div>\n",
       "        <div class=\"atoms\">\n",
       "                    <div class=\"catom  \" >\n",
       "        <div class=\"clause \" >\n",
       "            <a href=\"https://shebanq.ancient-data.org/hebrew/text?book=Samuel_I&amp;chapter=25&amp;verse=25&amp;version=c&amp;mr=m&amp;qw=q&amp;tp=txt_p&amp;tr=hb&amp;wget=v&amp;qget=v&amp;nget=vt\" title=\"1_Samuel 25:25\" sec=\"1_Samuel 25:25\">clause</a>   <span class=\"typ\">CPen</span>\n",
       "        </div>\n",
       "        <div class=\"atoms\">\n",
       "                    <div class=\"patom  \" >\n",
       "        <div class=\"phrase \" >\n",
       "            <a href=\"https://shebanq.ancient-data.org/hebrew/text?book=Samuel_I&amp;chapter=25&amp;verse=25&amp;version=c&amp;mr=m&amp;qw=q&amp;tp=txt_p&amp;tr=hb&amp;wget=v&amp;qget=v&amp;nget=vt\" title=\"1_Samuel 25:25\" sec=\"1_Samuel 25:25\">phrase</a>   <span class=\"function\">Conj</span> <span class=\"typ\">CP</span>\n",
       "        </div>\n",
       "        <div class=\"atoms\">\n",
       "                    <div class=\"word  \" ><div class=\"h\"><a target=\"_blank\" href=\"https://shebanq.ancient-data.org/hebrew/word?version=c&amp;id=1KJ\" title=\"show this lexeme in SHEBANQ\">כִּ֤י </a></div><div class=\"features\"> <span class=\"pdp\"><a href=\"https://shebanq.ancient-data.org/hebrew/text?book=Samuel_I&amp;chapter=25&amp;verse=25&amp;version=c&amp;mr=m&amp;qw=q&amp;tp=txt_p&amp;tr=hb&amp;wget=v&amp;qget=v&amp;nget=vt\" title=\"1_Samuel 25:25\" sec=\"1_Samuel 25:25\">conj</a></span> <span class=\"gloss\">that</span> <span class=\"g_cons xft\"><span class=\"f\">g_cons=</span>KJ</span> <span class=\"sp xft\"><span class=\"f\">sp=</span>conj</span></div></div></div></div><div class=\"patom  \" >\n",
       "        <div class=\"phrase \" >\n",
       "            <a href=\"https://shebanq.ancient-data.org/hebrew/text?book=Samuel_I&amp;chapter=25&amp;verse=25&amp;version=c&amp;mr=m&amp;qw=q&amp;tp=txt_p&amp;tr=hb&amp;wget=v&amp;qget=v&amp;nget=vt\" title=\"1_Samuel 25:25\" sec=\"1_Samuel 25:25\">phrase</a>   <span class=\"function\">Frnt</span> <span class=\"typ\">PP</span>\n",
       "        </div>\n",
       "        <div class=\"atoms\">\n",
       "                    <div class=\"word  \" ><div class=\"h\"><a target=\"_blank\" href=\"https://shebanq.ancient-data.org/hebrew/word?version=c&amp;id=1K\" title=\"show this lexeme in SHEBANQ\">כִ</a></div><div class=\"features\"> <span class=\"pdp\"><a href=\"https://shebanq.ancient-data.org/hebrew/text?book=Samuel_I&amp;chapter=25&amp;verse=25&amp;version=c&amp;mr=m&amp;qw=q&amp;tp=txt_p&amp;tr=hb&amp;wget=v&amp;qget=v&amp;nget=vt\" title=\"1_Samuel 25:25\" sec=\"1_Samuel 25:25\">prep</a></span> <span class=\"gloss\">as</span> <span class=\"g_cons xft\"><span class=\"f\">g_cons=</span>K</span> <span class=\"sp xft\"><span class=\"f\">sp=</span>prep</span></div></div><div class=\"word  \" ><div class=\"h\"><a target=\"_blank\" href=\"https://shebanq.ancient-data.org/hebrew/word?version=c&amp;id=1CMn\" title=\"show this lexeme in SHEBANQ\">שְׁמֹו֙ </a></div><div class=\"features\"> <span class=\"pdp\"><a href=\"https://shebanq.ancient-data.org/hebrew/text?book=Samuel_I&amp;chapter=25&amp;verse=25&amp;version=c&amp;mr=m&amp;qw=q&amp;tp=txt_p&amp;tr=hb&amp;wget=v&amp;qget=v&amp;nget=vt\" title=\"1_Samuel 25:25\" sec=\"1_Samuel 25:25\">subs</a></span> <span class=\"gloss\">name</span> <span class=\"g_cons xft\"><span class=\"f\">g_cons=</span>CMW</span> <span class=\"sp xft\"><span class=\"f\">sp=</span>subs</span></div></div></div></div></div></div><div class=\"catom  \" >\n",
       "        <div class=\"clause \" >\n",
       "            <a href=\"https://shebanq.ancient-data.org/hebrew/text?book=Samuel_I&amp;chapter=25&amp;verse=25&amp;version=c&amp;mr=m&amp;qw=q&amp;tp=txt_p&amp;tr=hb&amp;wget=v&amp;qget=v&amp;nget=vt\" title=\"1_Samuel 25:25\" sec=\"1_Samuel 25:25\">clause</a>   <span class=\"rela\">Resu</span> <span class=\"typ\">NmCl</span>\n",
       "        </div>\n",
       "        <div class=\"atoms\">\n",
       "                    <div class=\"patom  \" >\n",
       "        <div class=\"phrase \" >\n",
       "            <a href=\"https://shebanq.ancient-data.org/hebrew/text?book=Samuel_I&amp;chapter=25&amp;verse=25&amp;version=c&amp;mr=m&amp;qw=q&amp;tp=txt_p&amp;tr=hb&amp;wget=v&amp;qget=v&amp;nget=vt\" title=\"1_Samuel 25:25\" sec=\"1_Samuel 25:25\">phrase</a>   <span class=\"function\">PreC</span> <span class=\"typ\">AdvP</span>\n",
       "        </div>\n",
       "        <div class=\"atoms\">\n",
       "                    <div class=\"word  \" ><div class=\"h\"><a target=\"_blank\" href=\"https://shebanq.ancient-data.org/hebrew/word?version=c&amp;id=1KN\" title=\"show this lexeme in SHEBANQ\">כֶּן־</a></div><div class=\"features\"> <span class=\"pdp\"><a href=\"https://shebanq.ancient-data.org/hebrew/text?book=Samuel_I&amp;chapter=25&amp;verse=25&amp;version=c&amp;mr=m&amp;qw=q&amp;tp=txt_p&amp;tr=hb&amp;wget=v&amp;qget=v&amp;nget=vt\" title=\"1_Samuel 25:25\" sec=\"1_Samuel 25:25\">advb</a></span> <span class=\"gloss\">thus</span> <span class=\"g_cons xft\"><span class=\"f\">g_cons=</span>KN</span> <span class=\"sp xft\"><span class=\"f\">sp=</span>advb</span></div></div></div></div><div class=\"patom  \" >\n",
       "        <div class=\"phrase \" >\n",
       "            <a href=\"https://shebanq.ancient-data.org/hebrew/text?book=Samuel_I&amp;chapter=25&amp;verse=25&amp;version=c&amp;mr=m&amp;qw=q&amp;tp=txt_p&amp;tr=hb&amp;wget=v&amp;qget=v&amp;nget=vt\" title=\"1_Samuel 25:25\" sec=\"1_Samuel 25:25\">phrase</a>   <span class=\"function\">Subj</span> <span class=\"typ\">PPrP</span>\n",
       "        </div>\n",
       "        <div class=\"atoms\">\n",
       "                    <div class=\"word  \" ><div class=\"h\"><a target=\"_blank\" href=\"https://shebanq.ancient-data.org/hebrew/word?version=c&amp;id=1HWA\" title=\"show this lexeme in SHEBANQ\">ה֔וּא </a></div><div class=\"features\"> <span class=\"pdp\"><a href=\"https://shebanq.ancient-data.org/hebrew/text?book=Samuel_I&amp;chapter=25&amp;verse=25&amp;version=c&amp;mr=m&amp;qw=q&amp;tp=txt_p&amp;tr=hb&amp;wget=v&amp;qget=v&amp;nget=vt\" title=\"1_Samuel 25:25\" sec=\"1_Samuel 25:25\">prps</a></span> <span class=\"gloss\">he</span> <span class=\"g_cons xft\"><span class=\"f\">g_cons=</span>HW></span> <span class=\"sp xft\"><span class=\"f\">sp=</span>prps</span></div></div></div></div></div></div></div></div><div class=\"satom  \" >\n",
       "        <div class=\"sentence \" >\n",
       "            <a href=\"https://shebanq.ancient-data.org/hebrew/text?book=Samuel_I&amp;chapter=25&amp;verse=25&amp;version=c&amp;mr=m&amp;qw=q&amp;tp=txt_p&amp;tr=hb&amp;wget=v&amp;qget=v&amp;nget=vt\" title=\"1_Samuel 25:25\" sec=\"1_Samuel 25:25\">sentence</a>   <span class=\"number\">102|2609</span>\n",
       "        </div>\n",
       "        <div class=\"atoms\">\n",
       "                    <div class=\"catom  \" >\n",
       "        <div class=\"clause \" >\n",
       "            <a href=\"https://shebanq.ancient-data.org/hebrew/text?book=Samuel_I&amp;chapter=25&amp;verse=25&amp;version=c&amp;mr=m&amp;qw=q&amp;tp=txt_p&amp;tr=hb&amp;wget=v&amp;qget=v&amp;nget=vt\" title=\"1_Samuel 25:25\" sec=\"1_Samuel 25:25\">clause</a>   <span class=\"typ\">NmCl</span>\n",
       "        </div>\n",
       "        <div class=\"atoms\">\n",
       "                    <div class=\"patom  \" >\n",
       "        <div class=\"phrase \" >\n",
       "            <a href=\"https://shebanq.ancient-data.org/hebrew/text?book=Samuel_I&amp;chapter=25&amp;verse=25&amp;version=c&amp;mr=m&amp;qw=q&amp;tp=txt_p&amp;tr=hb&amp;wget=v&amp;qget=v&amp;nget=vt\" title=\"1_Samuel 25:25\" sec=\"1_Samuel 25:25\">phrase</a>   <span class=\"function\">PreC</span> <span class=\"typ\">PrNP</span>\n",
       "        </div>\n",
       "        <div class=\"atoms\">\n",
       "                    <div class=\"word  \" ><div class=\"h\"><a target=\"_blank\" href=\"https://shebanq.ancient-data.org/hebrew/word?version=c&amp;id=1NBLiiin\" title=\"show this lexeme in SHEBANQ\">נָבָ֣ל </a></div><div class=\"features\"> <span class=\"pdp\"><a href=\"https://shebanq.ancient-data.org/hebrew/text?book=Samuel_I&amp;chapter=25&amp;verse=25&amp;version=c&amp;mr=m&amp;qw=q&amp;tp=txt_p&amp;tr=hb&amp;wget=v&amp;qget=v&amp;nget=vt\" title=\"1_Samuel 25:25\" sec=\"1_Samuel 25:25\">nmpr</a></span> <span class=\"gloss\">Nabal</span> <span class=\"g_cons xft\"><span class=\"f\">g_cons=</span>NBL</span> <span class=\"sp xft\"><span class=\"f\">sp=</span>nmpr</span></div></div></div></div><div class=\"patom  \" >\n",
       "        <div class=\"phrase \" >\n",
       "            <a href=\"https://shebanq.ancient-data.org/hebrew/text?book=Samuel_I&amp;chapter=25&amp;verse=25&amp;version=c&amp;mr=m&amp;qw=q&amp;tp=txt_p&amp;tr=hb&amp;wget=v&amp;qget=v&amp;nget=vt\" title=\"1_Samuel 25:25\" sec=\"1_Samuel 25:25\">phrase</a>   <span class=\"function\">Subj</span> <span class=\"typ\">NP</span>\n",
       "        </div>\n",
       "        <div class=\"atoms\">\n",
       "                    <div class=\"word  \" ><div class=\"h\"><a target=\"_blank\" href=\"https://shebanq.ancient-data.org/hebrew/word?version=c&amp;id=1CMn\" title=\"show this lexeme in SHEBANQ\">שְׁמֹ֔ו </a></div><div class=\"features\"> <span class=\"pdp\"><a href=\"https://shebanq.ancient-data.org/hebrew/text?book=Samuel_I&amp;chapter=25&amp;verse=25&amp;version=c&amp;mr=m&amp;qw=q&amp;tp=txt_p&amp;tr=hb&amp;wget=v&amp;qget=v&amp;nget=vt\" title=\"1_Samuel 25:25\" sec=\"1_Samuel 25:25\">subs</a></span> <span class=\"gloss\">name</span> <span class=\"g_cons xft\"><span class=\"f\">g_cons=</span>CMW</span> <span class=\"sp xft\"><span class=\"f\">sp=</span>subs</span></div></div></div></div></div></div></div></div><div class=\"satom  \" >\n",
       "        <div class=\"sentence \" >\n",
       "            <a href=\"https://shebanq.ancient-data.org/hebrew/text?book=Samuel_I&amp;chapter=25&amp;verse=25&amp;version=c&amp;mr=m&amp;qw=q&amp;tp=txt_p&amp;tr=hb&amp;wget=v&amp;qget=v&amp;nget=vt\" title=\"1_Samuel 25:25\" sec=\"1_Samuel 25:25\">sentence</a>   <span class=\"number\">103|2610</span>\n",
       "        </div>\n",
       "        <div class=\"atoms\">\n",
       "                    <div class=\"catom  \" >\n",
       "        <div class=\"clause \" >\n",
       "            <a href=\"https://shebanq.ancient-data.org/hebrew/text?book=Samuel_I&amp;chapter=25&amp;verse=25&amp;version=c&amp;mr=m&amp;qw=q&amp;tp=txt_p&amp;tr=hb&amp;wget=v&amp;qget=v&amp;nget=vt\" title=\"1_Samuel 25:25\" sec=\"1_Samuel 25:25\">clause</a>   <span class=\"typ\">NmCl</span>\n",
       "        </div>\n",
       "        <div class=\"atoms\">\n",
       "                    <div class=\"patom  \" >\n",
       "        <div class=\"phrase \" >\n",
       "            <a href=\"https://shebanq.ancient-data.org/hebrew/text?book=Samuel_I&amp;chapter=25&amp;verse=25&amp;version=c&amp;mr=m&amp;qw=q&amp;tp=txt_p&amp;tr=hb&amp;wget=v&amp;qget=v&amp;nget=vt\" title=\"1_Samuel 25:25\" sec=\"1_Samuel 25:25\">phrase</a>   <span class=\"function\">Conj</span> <span class=\"typ\">CP</span>\n",
       "        </div>\n",
       "        <div class=\"atoms\">\n",
       "                    <div class=\"word  \" ><div class=\"h\"><a target=\"_blank\" href=\"https://shebanq.ancient-data.org/hebrew/word?version=c&amp;id=1W\" title=\"show this lexeme in SHEBANQ\">וּ</a></div><div class=\"features\"> <span class=\"pdp\"><a href=\"https://shebanq.ancient-data.org/hebrew/text?book=Samuel_I&amp;chapter=25&amp;verse=25&amp;version=c&amp;mr=m&amp;qw=q&amp;tp=txt_p&amp;tr=hb&amp;wget=v&amp;qget=v&amp;nget=vt\" title=\"1_Samuel 25:25\" sec=\"1_Samuel 25:25\">conj</a></span> <span class=\"gloss\">and</span> <span class=\"g_cons xft\"><span class=\"f\">g_cons=</span>W</span> <span class=\"sp xft\"><span class=\"f\">sp=</span>conj</span></div></div></div></div><div class=\"patom  \" >\n",
       "        <div class=\"phrase \" >\n",
       "            <a href=\"https://shebanq.ancient-data.org/hebrew/text?book=Samuel_I&amp;chapter=25&amp;verse=25&amp;version=c&amp;mr=m&amp;qw=q&amp;tp=txt_p&amp;tr=hb&amp;wget=v&amp;qget=v&amp;nget=vt\" title=\"1_Samuel 25:25\" sec=\"1_Samuel 25:25\">phrase</a>   <span class=\"function\">Subj</span> <span class=\"typ\">NP</span>\n",
       "        </div>\n",
       "        <div class=\"atoms\">\n",
       "                    <div class=\"word  \" ><div class=\"h\"><a target=\"_blank\" href=\"https://shebanq.ancient-data.org/hebrew/word?version=c&amp;id=1NBLHn\" title=\"show this lexeme in SHEBANQ\">נְבָלָ֖ה </a></div><div class=\"features\"> <span class=\"pdp\"><a href=\"https://shebanq.ancient-data.org/hebrew/text?book=Samuel_I&amp;chapter=25&amp;verse=25&amp;version=c&amp;mr=m&amp;qw=q&amp;tp=txt_p&amp;tr=hb&amp;wget=v&amp;qget=v&amp;nget=vt\" title=\"1_Samuel 25:25\" sec=\"1_Samuel 25:25\">subs</a></span> <span class=\"gloss\">stupidity</span> <span class=\"g_cons xft\"><span class=\"f\">g_cons=</span>NBLH</span> <span class=\"sp xft\"><span class=\"f\">sp=</span>subs</span></div></div></div></div><div class=\"patom  \" >\n",
       "        <div class=\"phrase \" >\n",
       "            <a href=\"https://shebanq.ancient-data.org/hebrew/text?book=Samuel_I&amp;chapter=25&amp;verse=25&amp;version=c&amp;mr=m&amp;qw=q&amp;tp=txt_p&amp;tr=hb&amp;wget=v&amp;qget=v&amp;nget=vt\" title=\"1_Samuel 25:25\" sec=\"1_Samuel 25:25\">phrase</a>   <span class=\"function\">PreC</span> <span class=\"typ\">PP</span>\n",
       "        </div>\n",
       "        <div class=\"atoms\">\n",
       "                    <div class=\"word  \" ><div class=\"h\"><a target=\"_blank\" href=\"https://shebanq.ancient-data.org/hebrew/word?version=c&amp;id=1OM\" title=\"show this lexeme in SHEBANQ\">עִמֹּ֑ו </a></div><div class=\"features\"> <span class=\"pdp\"><a href=\"https://shebanq.ancient-data.org/hebrew/text?book=Samuel_I&amp;chapter=25&amp;verse=25&amp;version=c&amp;mr=m&amp;qw=q&amp;tp=txt_p&amp;tr=hb&amp;wget=v&amp;qget=v&amp;nget=vt\" title=\"1_Samuel 25:25\" sec=\"1_Samuel 25:25\">prep</a></span> <span class=\"gloss\">with</span> <span class=\"g_cons xft\"><span class=\"f\">g_cons=</span>&lt;MW</span> <span class=\"sp xft\"><span class=\"f\">sp=</span>prep</span></div></div></div></div></div></div></div></div><div class=\"satom  \" >\n",
       "        <div class=\"sentence \" >\n",
       "            <a href=\"https://shebanq.ancient-data.org/hebrew/text?book=Samuel_I&amp;chapter=25&amp;verse=25&amp;version=c&amp;mr=m&amp;qw=q&amp;tp=txt_p&amp;tr=hb&amp;wget=v&amp;qget=v&amp;nget=vt\" title=\"1_Samuel 25:25\" sec=\"1_Samuel 25:25\">sentence</a>   <span class=\"number\">104|2611</span>\n",
       "        </div>\n",
       "        <div class=\"atoms\">\n",
       "                    <div class=\"catom  \" >\n",
       "        <div class=\"clause \" >\n",
       "            <a href=\"https://shebanq.ancient-data.org/hebrew/text?book=Samuel_I&amp;chapter=25&amp;verse=25&amp;version=c&amp;mr=m&amp;qw=q&amp;tp=txt_p&amp;tr=hb&amp;wget=v&amp;qget=v&amp;nget=vt\" title=\"1_Samuel 25:25\" sec=\"1_Samuel 25:25\">clause</a>   <span class=\"typ\">WXQt</span>\n",
       "        </div>\n",
       "        <div class=\"atoms\">\n",
       "                    <div class=\"patom  \" >\n",
       "        <div class=\"phrase \" >\n",
       "            <a href=\"https://shebanq.ancient-data.org/hebrew/text?book=Samuel_I&amp;chapter=25&amp;verse=25&amp;version=c&amp;mr=m&amp;qw=q&amp;tp=txt_p&amp;tr=hb&amp;wget=v&amp;qget=v&amp;nget=vt\" title=\"1_Samuel 25:25\" sec=\"1_Samuel 25:25\">phrase</a>   <span class=\"function\">Conj</span> <span class=\"typ\">CP</span>\n",
       "        </div>\n",
       "        <div class=\"atoms\">\n",
       "                    <div class=\"word  \" ><div class=\"h\"><a target=\"_blank\" href=\"https://shebanq.ancient-data.org/hebrew/word?version=c&amp;id=1W\" title=\"show this lexeme in SHEBANQ\">וַֽ</a></div><div class=\"features\"> <span class=\"pdp\"><a href=\"https://shebanq.ancient-data.org/hebrew/text?book=Samuel_I&amp;chapter=25&amp;verse=25&amp;version=c&amp;mr=m&amp;qw=q&amp;tp=txt_p&amp;tr=hb&amp;wget=v&amp;qget=v&amp;nget=vt\" title=\"1_Samuel 25:25\" sec=\"1_Samuel 25:25\">conj</a></span> <span class=\"gloss\">and</span> <span class=\"g_cons xft\"><span class=\"f\">g_cons=</span>W</span> <span class=\"sp xft\"><span class=\"f\">sp=</span>conj</span></div></div></div></div><div class=\"patom  l \" >\n",
       "        <div class=\"phrase \" >\n",
       "            <a href=\"https://shebanq.ancient-data.org/hebrew/text?book=Samuel_I&amp;chapter=25&amp;verse=25&amp;version=c&amp;mr=m&amp;qw=q&amp;tp=txt_p&amp;tr=hb&amp;wget=v&amp;qget=v&amp;nget=vt\" title=\"1_Samuel 25:25\" sec=\"1_Samuel 25:25\">phrase</a>   <span class=\"function\">Subj</span> <span class=\"typ\">PPrP</span>\n",
       "        </div>\n",
       "        <div class=\"atoms\">\n",
       "                    <div class=\"word  \" ><div class=\"h\"><a target=\"_blank\" href=\"https://shebanq.ancient-data.org/hebrew/word?version=c&amp;id=1ANJ\" title=\"show this lexeme in SHEBANQ\">אֲנִי֙ </a></div><div class=\"features\"> <span class=\"pdp\"><a href=\"https://shebanq.ancient-data.org/hebrew/text?book=Samuel_I&amp;chapter=25&amp;verse=25&amp;version=c&amp;mr=m&amp;qw=q&amp;tp=txt_p&amp;tr=hb&amp;wget=v&amp;qget=v&amp;nget=vt\" title=\"1_Samuel 25:25\" sec=\"1_Samuel 25:25\">prps</a></span> <span class=\"gloss\">i</span> <span class=\"g_cons xft\"><span class=\"f\">g_cons=</span>>NJ</span> <span class=\"sp xft\"><span class=\"f\">sp=</span>prps</span></div></div></div></div><div class=\"patom  r \" >\n",
       "        <div class=\"phrase \" >\n",
       "            <a href=\"https://shebanq.ancient-data.org/hebrew/text?book=Samuel_I&amp;chapter=25&amp;verse=25&amp;version=c&amp;mr=m&amp;qw=q&amp;tp=txt_p&amp;tr=hb&amp;wget=v&amp;qget=v&amp;nget=vt\" title=\"1_Samuel 25:25\" sec=\"1_Samuel 25:25\">phrase</a>   <span class=\"function\">Subj</span> <span class=\"typ\">PPrP|NP</span>\n",
       "        </div>\n",
       "        <div class=\"atoms\">\n",
       "                    <div class=\"word  \" ><div class=\"h\"><a target=\"_blank\" href=\"https://shebanq.ancient-data.org/hebrew/word?version=c&amp;id=1AMHn\" title=\"show this lexeme in SHEBANQ\">אֲמָ֣תְךָ֔ </a></div><div class=\"features\"> <span class=\"pdp\"><a href=\"https://shebanq.ancient-data.org/hebrew/text?book=Samuel_I&amp;chapter=25&amp;verse=25&amp;version=c&amp;mr=m&amp;qw=q&amp;tp=txt_p&amp;tr=hb&amp;wget=v&amp;qget=v&amp;nget=vt\" title=\"1_Samuel 25:25\" sec=\"1_Samuel 25:25\">subs</a></span> <span class=\"gloss\">handmaid</span> <span class=\"g_cons xft\"><span class=\"f\">g_cons=</span>>MTK</span> <span class=\"sp xft\"><span class=\"f\">sp=</span>subs</span></div></div></div></div><div class=\"patom  \" >\n",
       "        <div class=\"phrase \" >\n",
       "            <a href=\"https://shebanq.ancient-data.org/hebrew/text?book=Samuel_I&amp;chapter=25&amp;verse=25&amp;version=c&amp;mr=m&amp;qw=q&amp;tp=txt_p&amp;tr=hb&amp;wget=v&amp;qget=v&amp;nget=vt\" title=\"1_Samuel 25:25\" sec=\"1_Samuel 25:25\">phrase</a>   <span class=\"function\">Nega</span> <span class=\"typ\">NegP</span>\n",
       "        </div>\n",
       "        <div class=\"atoms\">\n",
       "                    <div class=\"word  \" ><div class=\"h\"><a target=\"_blank\" href=\"https://shebanq.ancient-data.org/hebrew/word?version=c&amp;id=1LA\" title=\"show this lexeme in SHEBANQ\">לֹ֥א </a></div><div class=\"features\"> <span class=\"pdp\"><a href=\"https://shebanq.ancient-data.org/hebrew/text?book=Samuel_I&amp;chapter=25&amp;verse=25&amp;version=c&amp;mr=m&amp;qw=q&amp;tp=txt_p&amp;tr=hb&amp;wget=v&amp;qget=v&amp;nget=vt\" title=\"1_Samuel 25:25\" sec=\"1_Samuel 25:25\">nega</a></span> <span class=\"gloss\">not</span> <span class=\"g_cons xft\"><span class=\"f\">g_cons=</span>L></span> <span class=\"sp xft\"><span class=\"f\">sp=</span>nega</span></div></div></div></div><div class=\"patom  \" >\n",
       "        <div class=\"phrase \" >\n",
       "            <a href=\"https://shebanq.ancient-data.org/hebrew/text?book=Samuel_I&amp;chapter=25&amp;verse=25&amp;version=c&amp;mr=m&amp;qw=q&amp;tp=txt_p&amp;tr=hb&amp;wget=v&amp;qget=v&amp;nget=vt\" title=\"1_Samuel 25:25\" sec=\"1_Samuel 25:25\">phrase</a>   <span class=\"function\">Pred</span> <span class=\"typ\">VP</span>\n",
       "        </div>\n",
       "        <div class=\"atoms\">\n",
       "                    <div class=\"word  \" ><div class=\"h\"><a target=\"_blank\" href=\"https://shebanq.ancient-data.org/hebrew/word?version=c&amp;id=1RAHv\" title=\"show this lexeme in SHEBANQ\">רָאִ֛יתִי </a></div><div class=\"features\"> <span class=\"pdp\"><a href=\"https://shebanq.ancient-data.org/hebrew/text?book=Samuel_I&amp;chapter=25&amp;verse=25&amp;version=c&amp;mr=m&amp;qw=q&amp;tp=txt_p&amp;tr=hb&amp;wget=v&amp;qget=v&amp;nget=vt\" title=\"1_Samuel 25:25\" sec=\"1_Samuel 25:25\">verb</a></span> <span class=\"gloss\">see</span> <span class=\"vs\">qal</span> <span class=\"vt\">perf</span> <span class=\"g_cons xft\"><span class=\"f\">g_cons=</span>R>JTJ</span> <span class=\"sp xft\"><span class=\"f\">sp=</span>verb</span></div></div></div></div><div class=\"patom  \" >\n",
       "        <div class=\"phrase \" >\n",
       "            <a href=\"https://shebanq.ancient-data.org/hebrew/text?book=Samuel_I&amp;chapter=25&amp;verse=25&amp;version=c&amp;mr=m&amp;qw=q&amp;tp=txt_p&amp;tr=hb&amp;wget=v&amp;qget=v&amp;nget=vt\" title=\"1_Samuel 25:25\" sec=\"1_Samuel 25:25\">phrase</a>   <span class=\"function\">Objc</span> <span class=\"typ\">PP</span>\n",
       "        </div>\n",
       "        <div class=\"atoms\">\n",
       "                    <div class=\"word  \" ><div class=\"h\"><a target=\"_blank\" href=\"https://shebanq.ancient-data.org/hebrew/word?version=c&amp;id=1AT\" title=\"show this lexeme in SHEBANQ\">אֶת־</a></div><div class=\"features\"> <span class=\"pdp\"><a href=\"https://shebanq.ancient-data.org/hebrew/text?book=Samuel_I&amp;chapter=25&amp;verse=25&amp;version=c&amp;mr=m&amp;qw=q&amp;tp=txt_p&amp;tr=hb&amp;wget=v&amp;qget=v&amp;nget=vt\" title=\"1_Samuel 25:25\" sec=\"1_Samuel 25:25\">prep</a></span> <span class=\"gloss\">&lt;object marker></span> <span class=\"g_cons xft\"><span class=\"f\">g_cons=</span>>T</span> <span class=\"sp xft\"><span class=\"f\">sp=</span>prep</span></div></div><div class=\"word  \" ><div class=\"h\"><a target=\"_blank\" href=\"https://shebanq.ancient-data.org/hebrew/word?version=c&amp;id=1NORn\" title=\"show this lexeme in SHEBANQ\">נַעֲרֵ֥י </a></div><div class=\"features\"> <span class=\"pdp\"><a href=\"https://shebanq.ancient-data.org/hebrew/text?book=Samuel_I&amp;chapter=25&amp;verse=25&amp;version=c&amp;mr=m&amp;qw=q&amp;tp=txt_p&amp;tr=hb&amp;wget=v&amp;qget=v&amp;nget=vt\" title=\"1_Samuel 25:25\" sec=\"1_Samuel 25:25\">subs</a></span> <span class=\"gloss\">boy</span> <span class=\"g_cons xft\"><span class=\"f\">g_cons=</span>N&lt;RJ</span> <span class=\"sp xft\"><span class=\"f\">sp=</span>subs</span></div></div><div class=\"word  \" ><div class=\"h\"><a target=\"_blank\" href=\"https://shebanq.ancient-data.org/hebrew/word?version=c&amp;id=1ADWNn\" title=\"show this lexeme in SHEBANQ\">אֲדֹנִ֖י </a></div><div class=\"features\"> <span class=\"pdp\"><a href=\"https://shebanq.ancient-data.org/hebrew/text?book=Samuel_I&amp;chapter=25&amp;verse=25&amp;version=c&amp;mr=m&amp;qw=q&amp;tp=txt_p&amp;tr=hb&amp;wget=v&amp;qget=v&amp;nget=vt\" title=\"1_Samuel 25:25\" sec=\"1_Samuel 25:25\">subs</a></span> <span class=\"gloss\">lord</span> <span class=\"g_cons xft\"><span class=\"f\">g_cons=</span>>DNJ</span> <span class=\"sp xft\"><span class=\"f\">sp=</span>subs</span></div></div></div></div></div></div><div class=\"catom  \" >\n",
       "        <div class=\"clause \" >\n",
       "            <a href=\"https://shebanq.ancient-data.org/hebrew/text?book=Samuel_I&amp;chapter=25&amp;verse=25&amp;version=c&amp;mr=m&amp;qw=q&amp;tp=txt_p&amp;tr=hb&amp;wget=v&amp;qget=v&amp;nget=vt\" title=\"1_Samuel 25:25\" sec=\"1_Samuel 25:25\">clause</a>   <span class=\"rela\">Attr</span> <span class=\"typ\">xQt0</span>\n",
       "        </div>\n",
       "        <div class=\"atoms\">\n",
       "                    <div class=\"patom  \" >\n",
       "        <div class=\"phrase \" >\n",
       "            <a href=\"https://shebanq.ancient-data.org/hebrew/text?book=Samuel_I&amp;chapter=25&amp;verse=25&amp;version=c&amp;mr=m&amp;qw=q&amp;tp=txt_p&amp;tr=hb&amp;wget=v&amp;qget=v&amp;nget=vt\" title=\"1_Samuel 25:25\" sec=\"1_Samuel 25:25\">phrase</a>   <span class=\"function\">Rela</span> <span class=\"typ\">CP</span>\n",
       "        </div>\n",
       "        <div class=\"atoms\">\n",
       "                    <div class=\"word  \" ><div class=\"h\"><a target=\"_blank\" href=\"https://shebanq.ancient-data.org/hebrew/word?version=c&amp;id=1ACR\" title=\"show this lexeme in SHEBANQ\">אֲשֶׁ֥ר </a></div><div class=\"features\"> <span class=\"pdp\"><a href=\"https://shebanq.ancient-data.org/hebrew/text?book=Samuel_I&amp;chapter=25&amp;verse=25&amp;version=c&amp;mr=m&amp;qw=q&amp;tp=txt_p&amp;tr=hb&amp;wget=v&amp;qget=v&amp;nget=vt\" title=\"1_Samuel 25:25\" sec=\"1_Samuel 25:25\">conj</a></span> <span class=\"gloss\">&lt;relative></span> <span class=\"g_cons xft\"><span class=\"f\">g_cons=</span>>CR</span> <span class=\"sp xft\"><span class=\"f\">sp=</span>conj</span></div></div></div></div><div class=\"patom  \" >\n",
       "        <div class=\"phrase \" >\n",
       "            <a href=\"https://shebanq.ancient-data.org/hebrew/text?book=Samuel_I&amp;chapter=25&amp;verse=25&amp;version=c&amp;mr=m&amp;qw=q&amp;tp=txt_p&amp;tr=hb&amp;wget=v&amp;qget=v&amp;nget=vt\" title=\"1_Samuel 25:25\" sec=\"1_Samuel 25:25\">phrase</a>   <span class=\"function\">Pred</span> <span class=\"typ\">VP</span>\n",
       "        </div>\n",
       "        <div class=\"atoms\">\n",
       "                    <div class=\"word  \" ><div class=\"h\"><a target=\"_blank\" href=\"https://shebanq.ancient-data.org/hebrew/word?version=c&amp;id=1CLXv\" title=\"show this lexeme in SHEBANQ\">שָׁלָֽחְתָּ׃ </a></div><div class=\"features\"> <span class=\"pdp\"><a href=\"https://shebanq.ancient-data.org/hebrew/text?book=Samuel_I&amp;chapter=25&amp;verse=25&amp;version=c&amp;mr=m&amp;qw=q&amp;tp=txt_p&amp;tr=hb&amp;wget=v&amp;qget=v&amp;nget=vt\" title=\"1_Samuel 25:25\" sec=\"1_Samuel 25:25\">verb</a></span> <span class=\"gloss\">send</span> <span class=\"vs\">qal</span> <span class=\"vt\">perf</span> <span class=\"g_cons xft\"><span class=\"f\">g_cons=</span>CLXT</span> <span class=\"sp xft\"><span class=\"f\">sp=</span>verb</span></div></div></div></div></div></div></div></div></div></div>"
      ],
      "text/plain": [
       "<IPython.core.display.HTML object>"
      ]
     },
     "metadata": {},
     "output_type": "display_data"
    },
    {
     "data": {
      "text/html": [
       "<p><b>result</b> <i>2</i></p>"
      ],
      "text/plain": [
       "<IPython.core.display.HTML object>"
      ]
     },
     "metadata": {},
     "output_type": "display_data"
    },
    {
     "data": {
      "text/html": [
       "<div class=\"outeritem\"><div class=\"verse  \" >\n",
       "    <div class=\"vl\">\n",
       "        <div class=\"vrs\"><a href=\"https://shebanq.ancient-data.org/hebrew/text?book=Genesis&amp;chapter=1&amp;verse=1&amp;version=c&amp;mr=m&amp;qw=q&amp;tp=txt_p&amp;tr=hb&amp;wget=v&amp;qget=v&amp;nget=vt\" title=\"show this passage in SHEBANQ\" sec=\"Genesis 1:1\">Genesis 1:1</a></div>\n",
       "        \n",
       "    </div>\n",
       "<div class=\"satom  \" >\n",
       "        <div class=\"sentence \" >\n",
       "            <a href=\"https://shebanq.ancient-data.org/hebrew/text?book=Genesis&amp;chapter=1&amp;verse=1&amp;version=c&amp;mr=m&amp;qw=q&amp;tp=txt_p&amp;tr=hb&amp;wget=v&amp;qget=v&amp;nget=vt\" title=\"Genesis 1:1\" sec=\"Genesis 1:1\">sentence</a>   <span class=\"number\">1</span>\n",
       "        </div>\n",
       "        <div class=\"atoms\">\n",
       "                    <div class=\"catom  \" >\n",
       "        <div class=\"clause \" >\n",
       "            <a href=\"https://shebanq.ancient-data.org/hebrew/text?book=Genesis&amp;chapter=1&amp;verse=1&amp;version=c&amp;mr=m&amp;qw=q&amp;tp=txt_p&amp;tr=hb&amp;wget=v&amp;qget=v&amp;nget=vt\" title=\"Genesis 1:1\" sec=\"Genesis 1:1\">clause</a>   <span class=\"typ\">xQtX</span>\n",
       "        </div>\n",
       "        <div class=\"atoms\">\n",
       "                    <div class=\"patom  \" >\n",
       "        <div class=\"phrase \" >\n",
       "            <a href=\"https://shebanq.ancient-data.org/hebrew/text?book=Genesis&amp;chapter=1&amp;verse=1&amp;version=c&amp;mr=m&amp;qw=q&amp;tp=txt_p&amp;tr=hb&amp;wget=v&amp;qget=v&amp;nget=vt\" title=\"Genesis 1:1\" sec=\"Genesis 1:1\">phrase</a>   <span class=\"function\">Time</span> <span class=\"typ\">PP</span>\n",
       "        </div>\n",
       "        <div class=\"atoms\">\n",
       "                    <div class=\"word  \" ><div class=\"h\"><a target=\"_blank\" href=\"https://shebanq.ancient-data.org/hebrew/word?version=c&amp;id=1B\" title=\"show this lexeme in SHEBANQ\">בְּ</a></div><div class=\"features\"> <span class=\"pdp\"><a href=\"https://shebanq.ancient-data.org/hebrew/text?book=Genesis&amp;chapter=1&amp;verse=1&amp;version=c&amp;mr=m&amp;qw=q&amp;tp=txt_p&amp;tr=hb&amp;wget=v&amp;qget=v&amp;nget=vt\" title=\"Genesis 1:1\" sec=\"Genesis 1:1\">prep</a></span> <span class=\"gloss\">in</span> <span class=\"g_cons xft\"><span class=\"f\">g_cons=</span>B</span> <span class=\"sp xft\"><span class=\"f\">sp=</span>prep</span></div></div><div class=\"word  hl\" ><div class=\"h\"><a target=\"_blank\" href=\"https://shebanq.ancient-data.org/hebrew/word?version=c&amp;id=1RACJTn\" title=\"show this lexeme in SHEBANQ\">רֵאשִׁ֖ית </a></div><div class=\"features\"> <span class=\"pdp\"><a href=\"https://shebanq.ancient-data.org/hebrew/text?book=Genesis&amp;chapter=1&amp;verse=1&amp;version=c&amp;mr=m&amp;qw=q&amp;tp=txt_p&amp;tr=hb&amp;wget=v&amp;qget=v&amp;nget=vt\" title=\"Genesis 1:1\" sec=\"Genesis 1:1\">subs</a></span> <span class=\"gloss\">beginning</span> <span class=\"g_cons xft\"><span class=\"f\">g_cons=</span>R>CJT</span> <span class=\"sp xft\"><span class=\"f\">sp=</span>subs</span></div></div></div></div><div class=\"patom  \" >\n",
       "        <div class=\"phrase \" >\n",
       "            <a href=\"https://shebanq.ancient-data.org/hebrew/text?book=Genesis&amp;chapter=1&amp;verse=1&amp;version=c&amp;mr=m&amp;qw=q&amp;tp=txt_p&amp;tr=hb&amp;wget=v&amp;qget=v&amp;nget=vt\" title=\"Genesis 1:1\" sec=\"Genesis 1:1\">phrase</a>   <span class=\"function\">Pred</span> <span class=\"typ\">VP</span>\n",
       "        </div>\n",
       "        <div class=\"atoms\">\n",
       "                    <div class=\"word  \" ><div class=\"h\"><a target=\"_blank\" href=\"https://shebanq.ancient-data.org/hebrew/word?version=c&amp;id=1BRAv\" title=\"show this lexeme in SHEBANQ\">בָּרָ֣א </a></div><div class=\"features\"> <span class=\"pdp\"><a href=\"https://shebanq.ancient-data.org/hebrew/text?book=Genesis&amp;chapter=1&amp;verse=1&amp;version=c&amp;mr=m&amp;qw=q&amp;tp=txt_p&amp;tr=hb&amp;wget=v&amp;qget=v&amp;nget=vt\" title=\"Genesis 1:1\" sec=\"Genesis 1:1\">verb</a></span> <span class=\"gloss\">create</span> <span class=\"vs\">qal</span> <span class=\"vt\">perf</span> <span class=\"g_cons xft\"><span class=\"f\">g_cons=</span>BR></span> <span class=\"sp xft\"><span class=\"f\">sp=</span>verb</span></div></div></div></div><div class=\"patom  \" >\n",
       "        <div class=\"phrase \" >\n",
       "            <a href=\"https://shebanq.ancient-data.org/hebrew/text?book=Genesis&amp;chapter=1&amp;verse=1&amp;version=c&amp;mr=m&amp;qw=q&amp;tp=txt_p&amp;tr=hb&amp;wget=v&amp;qget=v&amp;nget=vt\" title=\"Genesis 1:1\" sec=\"Genesis 1:1\">phrase</a>   <span class=\"function\">Subj</span> <span class=\"typ\">NP</span>\n",
       "        </div>\n",
       "        <div class=\"atoms\">\n",
       "                    <div class=\"word  \" ><div class=\"h\"><a target=\"_blank\" href=\"https://shebanq.ancient-data.org/hebrew/word?version=c&amp;id=1ALHJMn\" title=\"show this lexeme in SHEBANQ\">אֱלֹהִ֑ים </a></div><div class=\"features\"> <span class=\"pdp\"><a href=\"https://shebanq.ancient-data.org/hebrew/text?book=Genesis&amp;chapter=1&amp;verse=1&amp;version=c&amp;mr=m&amp;qw=q&amp;tp=txt_p&amp;tr=hb&amp;wget=v&amp;qget=v&amp;nget=vt\" title=\"Genesis 1:1\" sec=\"Genesis 1:1\">subs</a></span> <span class=\"gloss\">god(s)</span> <span class=\"g_cons xft\"><span class=\"f\">g_cons=</span>>LHJM</span> <span class=\"sp xft\"><span class=\"f\">sp=</span>subs</span></div></div></div></div><div class=\"patom  \" >\n",
       "        <div class=\"phrase \" >\n",
       "            <a href=\"https://shebanq.ancient-data.org/hebrew/text?book=Genesis&amp;chapter=1&amp;verse=1&amp;version=c&amp;mr=m&amp;qw=q&amp;tp=txt_p&amp;tr=hb&amp;wget=v&amp;qget=v&amp;nget=vt\" title=\"Genesis 1:1\" sec=\"Genesis 1:1\">phrase</a>   <span class=\"function\">Objc</span> <span class=\"typ\">PP</span>\n",
       "        </div>\n",
       "        <div class=\"atoms\">\n",
       "                    <div class=\"word  \" ><div class=\"h\"><a target=\"_blank\" href=\"https://shebanq.ancient-data.org/hebrew/word?version=c&amp;id=1AT\" title=\"show this lexeme in SHEBANQ\">אֵ֥ת </a></div><div class=\"features\"> <span class=\"pdp\"><a href=\"https://shebanq.ancient-data.org/hebrew/text?book=Genesis&amp;chapter=1&amp;verse=1&amp;version=c&amp;mr=m&amp;qw=q&amp;tp=txt_p&amp;tr=hb&amp;wget=v&amp;qget=v&amp;nget=vt\" title=\"Genesis 1:1\" sec=\"Genesis 1:1\">prep</a></span> <span class=\"gloss\">&lt;object marker></span> <span class=\"g_cons xft\"><span class=\"f\">g_cons=</span>>T</span> <span class=\"sp xft\"><span class=\"f\">sp=</span>prep</span></div></div><div class=\"word  \" ><div class=\"h\"><a target=\"_blank\" href=\"https://shebanq.ancient-data.org/hebrew/word?version=c&amp;id=1H\" title=\"show this lexeme in SHEBANQ\">הַ</a></div><div class=\"features\"> <span class=\"pdp\"><a href=\"https://shebanq.ancient-data.org/hebrew/text?book=Genesis&amp;chapter=1&amp;verse=1&amp;version=c&amp;mr=m&amp;qw=q&amp;tp=txt_p&amp;tr=hb&amp;wget=v&amp;qget=v&amp;nget=vt\" title=\"Genesis 1:1\" sec=\"Genesis 1:1\">art</a></span> <span class=\"gloss\">the</span> <span class=\"g_cons xft\"><span class=\"f\">g_cons=</span>H</span> <span class=\"sp xft\"><span class=\"f\">sp=</span>art</span></div></div><div class=\"word  \" ><div class=\"h\"><a target=\"_blank\" href=\"https://shebanq.ancient-data.org/hebrew/word?version=c&amp;id=1CMJMn\" title=\"show this lexeme in SHEBANQ\">שָּׁמַ֖יִם </a></div><div class=\"features\"> <span class=\"pdp\"><a href=\"https://shebanq.ancient-data.org/hebrew/text?book=Genesis&amp;chapter=1&amp;verse=1&amp;version=c&amp;mr=m&amp;qw=q&amp;tp=txt_p&amp;tr=hb&amp;wget=v&amp;qget=v&amp;nget=vt\" title=\"Genesis 1:1\" sec=\"Genesis 1:1\">subs</a></span> <span class=\"gloss\">heavens</span> <span class=\"g_cons xft\"><span class=\"f\">g_cons=</span>CMJM</span> <span class=\"sp xft\"><span class=\"f\">sp=</span>subs</span></div></div><div class=\"word  \" ><div class=\"h\"><a target=\"_blank\" href=\"https://shebanq.ancient-data.org/hebrew/word?version=c&amp;id=1W\" title=\"show this lexeme in SHEBANQ\">וְ</a></div><div class=\"features\"> <span class=\"pdp\"><a href=\"https://shebanq.ancient-data.org/hebrew/text?book=Genesis&amp;chapter=1&amp;verse=1&amp;version=c&amp;mr=m&amp;qw=q&amp;tp=txt_p&amp;tr=hb&amp;wget=v&amp;qget=v&amp;nget=vt\" title=\"Genesis 1:1\" sec=\"Genesis 1:1\">conj</a></span> <span class=\"gloss\">and</span> <span class=\"g_cons xft\"><span class=\"f\">g_cons=</span>W</span> <span class=\"sp xft\"><span class=\"f\">sp=</span>conj</span></div></div><div class=\"word  \" ><div class=\"h\"><a target=\"_blank\" href=\"https://shebanq.ancient-data.org/hebrew/word?version=c&amp;id=1AT\" title=\"show this lexeme in SHEBANQ\">אֵ֥ת </a></div><div class=\"features\"> <span class=\"pdp\"><a href=\"https://shebanq.ancient-data.org/hebrew/text?book=Genesis&amp;chapter=1&amp;verse=1&amp;version=c&amp;mr=m&amp;qw=q&amp;tp=txt_p&amp;tr=hb&amp;wget=v&amp;qget=v&amp;nget=vt\" title=\"Genesis 1:1\" sec=\"Genesis 1:1\">prep</a></span> <span class=\"gloss\">&lt;object marker></span> <span class=\"g_cons xft\"><span class=\"f\">g_cons=</span>>T</span> <span class=\"sp xft\"><span class=\"f\">sp=</span>prep</span></div></div><div class=\"word  \" ><div class=\"h\"><a target=\"_blank\" href=\"https://shebanq.ancient-data.org/hebrew/word?version=c&amp;id=1H\" title=\"show this lexeme in SHEBANQ\">הָ</a></div><div class=\"features\"> <span class=\"pdp\"><a href=\"https://shebanq.ancient-data.org/hebrew/text?book=Genesis&amp;chapter=1&amp;verse=1&amp;version=c&amp;mr=m&amp;qw=q&amp;tp=txt_p&amp;tr=hb&amp;wget=v&amp;qget=v&amp;nget=vt\" title=\"Genesis 1:1\" sec=\"Genesis 1:1\">art</a></span> <span class=\"gloss\">the</span> <span class=\"g_cons xft\"><span class=\"f\">g_cons=</span>H</span> <span class=\"sp xft\"><span class=\"f\">sp=</span>art</span></div></div><div class=\"word  \" ><div class=\"h\"><a target=\"_blank\" href=\"https://shebanq.ancient-data.org/hebrew/word?version=c&amp;id=1ARYn\" title=\"show this lexeme in SHEBANQ\">אָֽרֶץ׃ </a></div><div class=\"features\"> <span class=\"pdp\"><a href=\"https://shebanq.ancient-data.org/hebrew/text?book=Genesis&amp;chapter=1&amp;verse=1&amp;version=c&amp;mr=m&amp;qw=q&amp;tp=txt_p&amp;tr=hb&amp;wget=v&amp;qget=v&amp;nget=vt\" title=\"Genesis 1:1\" sec=\"Genesis 1:1\">subs</a></span> <span class=\"gloss\">earth</span> <span class=\"g_cons xft\"><span class=\"f\">g_cons=</span>>RY</span> <span class=\"sp xft\"><span class=\"f\">sp=</span>subs</span></div></div></div></div></div></div></div></div></div></div>"
      ],
      "text/plain": [
       "<IPython.core.display.HTML object>"
      ]
     },
     "metadata": {},
     "output_type": "display_data"
    },
    {
     "data": {
      "text/html": [
       "<div class=\"outeritem\"><div class=\"verse  \" >\n",
       "    <div class=\"vl\">\n",
       "        <div class=\"vrs\"><a href=\"https://shebanq.ancient-data.org/hebrew/text?book=Samuel_I&amp;chapter=25&amp;verse=25&amp;version=c&amp;mr=m&amp;qw=q&amp;tp=txt_p&amp;tr=hb&amp;wget=v&amp;qget=v&amp;nget=vt\" title=\"show this passage in SHEBANQ\" sec=\"1_Samuel 25:25\">1_Samuel 25:25</a></div>\n",
       "        \n",
       "    </div>\n",
       "<div class=\"satom  \" >\n",
       "        <div class=\"sentence \" >\n",
       "            <a href=\"https://shebanq.ancient-data.org/hebrew/text?book=Samuel_I&amp;chapter=25&amp;verse=25&amp;version=c&amp;mr=m&amp;qw=q&amp;tp=txt_p&amp;tr=hb&amp;wget=v&amp;qget=v&amp;nget=vt\" title=\"1_Samuel 25:25\" sec=\"1_Samuel 25:25\">sentence</a>   <span class=\"number\">100|2607</span>\n",
       "        </div>\n",
       "        <div class=\"atoms\">\n",
       "                    <div class=\"catom  \" >\n",
       "        <div class=\"clause \" >\n",
       "            <a href=\"https://shebanq.ancient-data.org/hebrew/text?book=Samuel_I&amp;chapter=25&amp;verse=25&amp;version=c&amp;mr=m&amp;qw=q&amp;tp=txt_p&amp;tr=hb&amp;wget=v&amp;qget=v&amp;nget=vt\" title=\"1_Samuel 25:25\" sec=\"1_Samuel 25:25\">clause</a>   <span class=\"typ\">xYqX</span>\n",
       "        </div>\n",
       "        <div class=\"atoms\">\n",
       "                    <div class=\"patom  \" >\n",
       "        <div class=\"phrase \" >\n",
       "            <a href=\"https://shebanq.ancient-data.org/hebrew/text?book=Samuel_I&amp;chapter=25&amp;verse=25&amp;version=c&amp;mr=m&amp;qw=q&amp;tp=txt_p&amp;tr=hb&amp;wget=v&amp;qget=v&amp;nget=vt\" title=\"1_Samuel 25:25\" sec=\"1_Samuel 25:25\">phrase</a>   <span class=\"function\">Nega</span> <span class=\"typ\">NegP</span>\n",
       "        </div>\n",
       "        <div class=\"atoms\">\n",
       "                    <div class=\"word  \" ><div class=\"h\"><a target=\"_blank\" href=\"https://shebanq.ancient-data.org/hebrew/word?version=c&amp;id=1ALi\" title=\"show this lexeme in SHEBANQ\">אַל־</a></div><div class=\"features\"> <span class=\"pdp\"><a href=\"https://shebanq.ancient-data.org/hebrew/text?book=Samuel_I&amp;chapter=25&amp;verse=25&amp;version=c&amp;mr=m&amp;qw=q&amp;tp=txt_p&amp;tr=hb&amp;wget=v&amp;qget=v&amp;nget=vt\" title=\"1_Samuel 25:25\" sec=\"1_Samuel 25:25\">nega</a></span> <span class=\"gloss\">not</span> <span class=\"g_cons xft\"><span class=\"f\">g_cons=</span>>L</span> <span class=\"sp xft\"><span class=\"f\">sp=</span>nega</span></div></div></div></div><div class=\"patom  \" >\n",
       "        <div class=\"phrase \" >\n",
       "            <a href=\"https://shebanq.ancient-data.org/hebrew/text?book=Samuel_I&amp;chapter=25&amp;verse=25&amp;version=c&amp;mr=m&amp;qw=q&amp;tp=txt_p&amp;tr=hb&amp;wget=v&amp;qget=v&amp;nget=vt\" title=\"1_Samuel 25:25\" sec=\"1_Samuel 25:25\">phrase</a>   <span class=\"function\">Intj</span> <span class=\"typ\">InjP</span>\n",
       "        </div>\n",
       "        <div class=\"atoms\">\n",
       "                    <div class=\"word  \" ><div class=\"h\"><a target=\"_blank\" href=\"https://shebanq.ancient-data.org/hebrew/word?version=c&amp;id=1NA\" title=\"show this lexeme in SHEBANQ\">נָ֣א </a></div><div class=\"features\"> <span class=\"pdp\"><a href=\"https://shebanq.ancient-data.org/hebrew/text?book=Samuel_I&amp;chapter=25&amp;verse=25&amp;version=c&amp;mr=m&amp;qw=q&amp;tp=txt_p&amp;tr=hb&amp;wget=v&amp;qget=v&amp;nget=vt\" title=\"1_Samuel 25:25\" sec=\"1_Samuel 25:25\">intj</a></span> <span class=\"gloss\">yeah</span> <span class=\"g_cons xft\"><span class=\"f\">g_cons=</span>N></span> <span class=\"sp xft\"><span class=\"f\">sp=</span>intj</span></div></div></div></div><div class=\"patom  \" >\n",
       "        <div class=\"phrase \" >\n",
       "            <a href=\"https://shebanq.ancient-data.org/hebrew/text?book=Samuel_I&amp;chapter=25&amp;verse=25&amp;version=c&amp;mr=m&amp;qw=q&amp;tp=txt_p&amp;tr=hb&amp;wget=v&amp;qget=v&amp;nget=vt\" title=\"1_Samuel 25:25\" sec=\"1_Samuel 25:25\">phrase</a>   <span class=\"function\">Pred</span> <span class=\"typ\">VP</span>\n",
       "        </div>\n",
       "        <div class=\"atoms\">\n",
       "                    <div class=\"word  \" ><div class=\"h\"><a target=\"_blank\" href=\"https://shebanq.ancient-data.org/hebrew/word?version=c&amp;id=1FJMv\" title=\"show this lexeme in SHEBANQ\">יָשִׂ֣ים </a></div><div class=\"features\"> <span class=\"pdp\"><a href=\"https://shebanq.ancient-data.org/hebrew/text?book=Samuel_I&amp;chapter=25&amp;verse=25&amp;version=c&amp;mr=m&amp;qw=q&amp;tp=txt_p&amp;tr=hb&amp;wget=v&amp;qget=v&amp;nget=vt\" title=\"1_Samuel 25:25\" sec=\"1_Samuel 25:25\">verb</a></span> <span class=\"gloss\">put</span> <span class=\"vs\">qal</span> <span class=\"vt\">impf</span> <span class=\"g_cons xft\"><span class=\"f\">g_cons=</span>JFJM</span> <span class=\"sp xft\"><span class=\"f\">sp=</span>verb</span></div></div></div></div><div class=\"patom  \" >\n",
       "        <div class=\"phrase \" >\n",
       "            <a href=\"https://shebanq.ancient-data.org/hebrew/text?book=Samuel_I&amp;chapter=25&amp;verse=25&amp;version=c&amp;mr=m&amp;qw=q&amp;tp=txt_p&amp;tr=hb&amp;wget=v&amp;qget=v&amp;nget=vt\" title=\"1_Samuel 25:25\" sec=\"1_Samuel 25:25\">phrase</a>   <span class=\"function\">Subj</span> <span class=\"typ\">NP</span>\n",
       "        </div>\n",
       "        <div class=\"atoms\">\n",
       "                    <div class=\"word  \" ><div class=\"h\"><a target=\"_blank\" href=\"https://shebanq.ancient-data.org/hebrew/word?version=c&amp;id=1ADWNn\" title=\"show this lexeme in SHEBANQ\">אֲדֹנִ֣י׀ </a></div><div class=\"features\"> <span class=\"pdp\"><a href=\"https://shebanq.ancient-data.org/hebrew/text?book=Samuel_I&amp;chapter=25&amp;verse=25&amp;version=c&amp;mr=m&amp;qw=q&amp;tp=txt_p&amp;tr=hb&amp;wget=v&amp;qget=v&amp;nget=vt\" title=\"1_Samuel 25:25\" sec=\"1_Samuel 25:25\">subs</a></span> <span class=\"gloss\">lord</span> <span class=\"g_cons xft\"><span class=\"f\">g_cons=</span>>DNJ</span> <span class=\"sp xft\"><span class=\"f\">sp=</span>subs</span></div></div></div></div><div class=\"patom  \" >\n",
       "        <div class=\"phrase \" >\n",
       "            <a href=\"https://shebanq.ancient-data.org/hebrew/text?book=Samuel_I&amp;chapter=25&amp;verse=25&amp;version=c&amp;mr=m&amp;qw=q&amp;tp=txt_p&amp;tr=hb&amp;wget=v&amp;qget=v&amp;nget=vt\" title=\"1_Samuel 25:25\" sec=\"1_Samuel 25:25\">phrase</a>   <span class=\"function\">Objc</span> <span class=\"typ\">PP</span>\n",
       "        </div>\n",
       "        <div class=\"atoms\">\n",
       "                    <div class=\"word  \" ><div class=\"h\"><a target=\"_blank\" href=\"https://shebanq.ancient-data.org/hebrew/word?version=c&amp;id=1AT\" title=\"show this lexeme in SHEBANQ\">אֶת־</a></div><div class=\"features\"> <span class=\"pdp\"><a href=\"https://shebanq.ancient-data.org/hebrew/text?book=Samuel_I&amp;chapter=25&amp;verse=25&amp;version=c&amp;mr=m&amp;qw=q&amp;tp=txt_p&amp;tr=hb&amp;wget=v&amp;qget=v&amp;nget=vt\" title=\"1_Samuel 25:25\" sec=\"1_Samuel 25:25\">prep</a></span> <span class=\"gloss\">&lt;object marker></span> <span class=\"g_cons xft\"><span class=\"f\">g_cons=</span>>T</span> <span class=\"sp xft\"><span class=\"f\">sp=</span>prep</span></div></div><div class=\"word  \" ><div class=\"h\"><a target=\"_blank\" href=\"https://shebanq.ancient-data.org/hebrew/word?version=c&amp;id=1LBn\" title=\"show this lexeme in SHEBANQ\">לִבֹּ֡ו </a></div><div class=\"features\"> <span class=\"pdp\"><a href=\"https://shebanq.ancient-data.org/hebrew/text?book=Samuel_I&amp;chapter=25&amp;verse=25&amp;version=c&amp;mr=m&amp;qw=q&amp;tp=txt_p&amp;tr=hb&amp;wget=v&amp;qget=v&amp;nget=vt\" title=\"1_Samuel 25:25\" sec=\"1_Samuel 25:25\">subs</a></span> <span class=\"gloss\">heart</span> <span class=\"g_cons xft\"><span class=\"f\">g_cons=</span>LBW</span> <span class=\"sp xft\"><span class=\"f\">sp=</span>subs</span></div></div></div></div><div class=\"patom  l \" >\n",
       "        <div class=\"phrase \" >\n",
       "            <a href=\"https://shebanq.ancient-data.org/hebrew/text?book=Samuel_I&amp;chapter=25&amp;verse=25&amp;version=c&amp;mr=m&amp;qw=q&amp;tp=txt_p&amp;tr=hb&amp;wget=v&amp;qget=v&amp;nget=vt\" title=\"1_Samuel 25:25\" sec=\"1_Samuel 25:25\">phrase</a>   <span class=\"function\">Cmpl</span> <span class=\"typ\">PP</span>\n",
       "        </div>\n",
       "        <div class=\"atoms\">\n",
       "                    <div class=\"word  \" ><div class=\"h\"><a target=\"_blank\" href=\"https://shebanq.ancient-data.org/hebrew/word?version=c&amp;id=1AL\" title=\"show this lexeme in SHEBANQ\">אֶל־</a></div><div class=\"features\"> <span class=\"pdp\"><a href=\"https://shebanq.ancient-data.org/hebrew/text?book=Samuel_I&amp;chapter=25&amp;verse=25&amp;version=c&amp;mr=m&amp;qw=q&amp;tp=txt_p&amp;tr=hb&amp;wget=v&amp;qget=v&amp;nget=vt\" title=\"1_Samuel 25:25\" sec=\"1_Samuel 25:25\">prep</a></span> <span class=\"gloss\">to</span> <span class=\"g_cons xft\"><span class=\"f\">g_cons=</span>>L</span> <span class=\"sp xft\"><span class=\"f\">sp=</span>prep</span></div></div><div class=\"word  \" ><div class=\"h\"><a target=\"_blank\" href=\"https://shebanq.ancient-data.org/hebrew/word?version=c&amp;id=1AJCn\" title=\"show this lexeme in SHEBANQ\">אִישׁ֩ </a></div><div class=\"features\"> <span class=\"pdp\"><a href=\"https://shebanq.ancient-data.org/hebrew/text?book=Samuel_I&amp;chapter=25&amp;verse=25&amp;version=c&amp;mr=m&amp;qw=q&amp;tp=txt_p&amp;tr=hb&amp;wget=v&amp;qget=v&amp;nget=vt\" title=\"1_Samuel 25:25\" sec=\"1_Samuel 25:25\">subs</a></span> <span class=\"gloss\">man</span> <span class=\"g_cons xft\"><span class=\"f\">g_cons=</span>>JC</span> <span class=\"sp xft\"><span class=\"f\">sp=</span>subs</span></div></div><div class=\"word  \" ><div class=\"h\"><a target=\"_blank\" href=\"https://shebanq.ancient-data.org/hebrew/word?version=c&amp;id=1H\" title=\"show this lexeme in SHEBANQ\">הַ</a></div><div class=\"features\"> <span class=\"pdp\"><a href=\"https://shebanq.ancient-data.org/hebrew/text?book=Samuel_I&amp;chapter=25&amp;verse=25&amp;version=c&amp;mr=m&amp;qw=q&amp;tp=txt_p&amp;tr=hb&amp;wget=v&amp;qget=v&amp;nget=vt\" title=\"1_Samuel 25:25\" sec=\"1_Samuel 25:25\">art</a></span> <span class=\"gloss\">the</span> <span class=\"g_cons xft\"><span class=\"f\">g_cons=</span>H</span> <span class=\"sp xft\"><span class=\"f\">sp=</span>art</span></div></div><div class=\"word  \" ><div class=\"h\"><a target=\"_blank\" href=\"https://shebanq.ancient-data.org/hebrew/word?version=c&amp;id=1BLJOLn\" title=\"show this lexeme in SHEBANQ\">בְּלִיַּ֨עַל </a></div><div class=\"features\"> <span class=\"pdp\"><a href=\"https://shebanq.ancient-data.org/hebrew/text?book=Samuel_I&amp;chapter=25&amp;verse=25&amp;version=c&amp;mr=m&amp;qw=q&amp;tp=txt_p&amp;tr=hb&amp;wget=v&amp;qget=v&amp;nget=vt\" title=\"1_Samuel 25:25\" sec=\"1_Samuel 25:25\">subs</a></span> <span class=\"gloss\">wickedness</span> <span class=\"g_cons xft\"><span class=\"f\">g_cons=</span>BLJ&lt;L</span> <span class=\"sp xft\"><span class=\"f\">sp=</span>subs</span></div></div><div class=\"word  \" ><div class=\"h\"><a target=\"_blank\" href=\"https://shebanq.ancient-data.org/hebrew/word?version=c&amp;id=1H\" title=\"show this lexeme in SHEBANQ\">הַ</a></div><div class=\"features\"> <span class=\"pdp\"><a href=\"https://shebanq.ancient-data.org/hebrew/text?book=Samuel_I&amp;chapter=25&amp;verse=25&amp;version=c&amp;mr=m&amp;qw=q&amp;tp=txt_p&amp;tr=hb&amp;wget=v&amp;qget=v&amp;nget=vt\" title=\"1_Samuel 25:25\" sec=\"1_Samuel 25:25\">art</a></span> <span class=\"gloss\">the</span> <span class=\"g_cons xft\"><span class=\"f\">g_cons=</span>H</span> <span class=\"sp xft\"><span class=\"f\">sp=</span>art</span></div></div><div class=\"word  \" ><div class=\"h\"><a target=\"_blank\" href=\"https://shebanq.ancient-data.org/hebrew/word?version=c&amp;id=1ZH\" title=\"show this lexeme in SHEBANQ\">זֶּ֜ה </a></div><div class=\"features\"> <span class=\"pdp\"><a href=\"https://shebanq.ancient-data.org/hebrew/text?book=Samuel_I&amp;chapter=25&amp;verse=25&amp;version=c&amp;mr=m&amp;qw=q&amp;tp=txt_p&amp;tr=hb&amp;wget=v&amp;qget=v&amp;nget=vt\" title=\"1_Samuel 25:25\" sec=\"1_Samuel 25:25\">prde</a></span> <span class=\"gloss\">this</span> <span class=\"g_cons xft\"><span class=\"f\">g_cons=</span>ZH</span> <span class=\"sp xft\"><span class=\"f\">sp=</span>prde</span></div></div></div></div><div class=\"patom  r hl\" >\n",
       "        <div class=\"phrase \" >\n",
       "            <a href=\"https://shebanq.ancient-data.org/hebrew/text?book=Samuel_I&amp;chapter=25&amp;verse=25&amp;version=c&amp;mr=m&amp;qw=q&amp;tp=txt_p&amp;tr=hb&amp;wget=v&amp;qget=v&amp;nget=vt\" title=\"1_Samuel 25:25\" sec=\"1_Samuel 25:25\">phrase</a>   <span class=\"function\">Cmpl</span> <span class=\"typ\">PP</span>\n",
       "        </div>\n",
       "        <div class=\"atoms\">\n",
       "                    <div class=\"word  \" ><div class=\"h\"><a target=\"_blank\" href=\"https://shebanq.ancient-data.org/hebrew/word?version=c&amp;id=1OL\" title=\"show this lexeme in SHEBANQ\">עַל־</a></div><div class=\"features\"> <span class=\"pdp\"><a href=\"https://shebanq.ancient-data.org/hebrew/text?book=Samuel_I&amp;chapter=25&amp;verse=25&amp;version=c&amp;mr=m&amp;qw=q&amp;tp=txt_p&amp;tr=hb&amp;wget=v&amp;qget=v&amp;nget=vt\" title=\"1_Samuel 25:25\" sec=\"1_Samuel 25:25\">prep</a></span> <span class=\"gloss\">upon</span> <span class=\"g_cons xft\"><span class=\"f\">g_cons=</span>&lt;L</span> <span class=\"sp xft\"><span class=\"f\">sp=</span>prep</span></div></div><div class=\"word  \" ><div class=\"h\"><a target=\"_blank\" href=\"https://shebanq.ancient-data.org/hebrew/word?version=c&amp;id=1NBLiiin\" title=\"show this lexeme in SHEBANQ\">נָבָ֗ל </a></div><div class=\"features\"> <span class=\"pdp\"><a href=\"https://shebanq.ancient-data.org/hebrew/text?book=Samuel_I&amp;chapter=25&amp;verse=25&amp;version=c&amp;mr=m&amp;qw=q&amp;tp=txt_p&amp;tr=hb&amp;wget=v&amp;qget=v&amp;nget=vt\" title=\"1_Samuel 25:25\" sec=\"1_Samuel 25:25\">nmpr</a></span> <span class=\"gloss\">Nabal</span> <span class=\"g_cons xft\"><span class=\"f\">g_cons=</span>NBL</span> <span class=\"sp xft\"><span class=\"f\">sp=</span>nmpr</span></div></div></div></div></div></div></div></div><div class=\"satom  \" >\n",
       "        <div class=\"sentence \" >\n",
       "            <a href=\"https://shebanq.ancient-data.org/hebrew/text?book=Samuel_I&amp;chapter=25&amp;verse=25&amp;version=c&amp;mr=m&amp;qw=q&amp;tp=txt_p&amp;tr=hb&amp;wget=v&amp;qget=v&amp;nget=vt\" title=\"1_Samuel 25:25\" sec=\"1_Samuel 25:25\">sentence</a>   <span class=\"number\">101|2608</span>\n",
       "        </div>\n",
       "        <div class=\"atoms\">\n",
       "                    <div class=\"catom  \" >\n",
       "        <div class=\"clause \" >\n",
       "            <a href=\"https://shebanq.ancient-data.org/hebrew/text?book=Samuel_I&amp;chapter=25&amp;verse=25&amp;version=c&amp;mr=m&amp;qw=q&amp;tp=txt_p&amp;tr=hb&amp;wget=v&amp;qget=v&amp;nget=vt\" title=\"1_Samuel 25:25\" sec=\"1_Samuel 25:25\">clause</a>   <span class=\"typ\">CPen</span>\n",
       "        </div>\n",
       "        <div class=\"atoms\">\n",
       "                    <div class=\"patom  \" >\n",
       "        <div class=\"phrase \" >\n",
       "            <a href=\"https://shebanq.ancient-data.org/hebrew/text?book=Samuel_I&amp;chapter=25&amp;verse=25&amp;version=c&amp;mr=m&amp;qw=q&amp;tp=txt_p&amp;tr=hb&amp;wget=v&amp;qget=v&amp;nget=vt\" title=\"1_Samuel 25:25\" sec=\"1_Samuel 25:25\">phrase</a>   <span class=\"function\">Conj</span> <span class=\"typ\">CP</span>\n",
       "        </div>\n",
       "        <div class=\"atoms\">\n",
       "                    <div class=\"word  \" ><div class=\"h\"><a target=\"_blank\" href=\"https://shebanq.ancient-data.org/hebrew/word?version=c&amp;id=1KJ\" title=\"show this lexeme in SHEBANQ\">כִּ֤י </a></div><div class=\"features\"> <span class=\"pdp\"><a href=\"https://shebanq.ancient-data.org/hebrew/text?book=Samuel_I&amp;chapter=25&amp;verse=25&amp;version=c&amp;mr=m&amp;qw=q&amp;tp=txt_p&amp;tr=hb&amp;wget=v&amp;qget=v&amp;nget=vt\" title=\"1_Samuel 25:25\" sec=\"1_Samuel 25:25\">conj</a></span> <span class=\"gloss\">that</span> <span class=\"g_cons xft\"><span class=\"f\">g_cons=</span>KJ</span> <span class=\"sp xft\"><span class=\"f\">sp=</span>conj</span></div></div></div></div><div class=\"patom  \" >\n",
       "        <div class=\"phrase \" >\n",
       "            <a href=\"https://shebanq.ancient-data.org/hebrew/text?book=Samuel_I&amp;chapter=25&amp;verse=25&amp;version=c&amp;mr=m&amp;qw=q&amp;tp=txt_p&amp;tr=hb&amp;wget=v&amp;qget=v&amp;nget=vt\" title=\"1_Samuel 25:25\" sec=\"1_Samuel 25:25\">phrase</a>   <span class=\"function\">Frnt</span> <span class=\"typ\">PP</span>\n",
       "        </div>\n",
       "        <div class=\"atoms\">\n",
       "                    <div class=\"word  \" ><div class=\"h\"><a target=\"_blank\" href=\"https://shebanq.ancient-data.org/hebrew/word?version=c&amp;id=1K\" title=\"show this lexeme in SHEBANQ\">כִ</a></div><div class=\"features\"> <span class=\"pdp\"><a href=\"https://shebanq.ancient-data.org/hebrew/text?book=Samuel_I&amp;chapter=25&amp;verse=25&amp;version=c&amp;mr=m&amp;qw=q&amp;tp=txt_p&amp;tr=hb&amp;wget=v&amp;qget=v&amp;nget=vt\" title=\"1_Samuel 25:25\" sec=\"1_Samuel 25:25\">prep</a></span> <span class=\"gloss\">as</span> <span class=\"g_cons xft\"><span class=\"f\">g_cons=</span>K</span> <span class=\"sp xft\"><span class=\"f\">sp=</span>prep</span></div></div><div class=\"word  \" ><div class=\"h\"><a target=\"_blank\" href=\"https://shebanq.ancient-data.org/hebrew/word?version=c&amp;id=1CMn\" title=\"show this lexeme in SHEBANQ\">שְׁמֹו֙ </a></div><div class=\"features\"> <span class=\"pdp\"><a href=\"https://shebanq.ancient-data.org/hebrew/text?book=Samuel_I&amp;chapter=25&amp;verse=25&amp;version=c&amp;mr=m&amp;qw=q&amp;tp=txt_p&amp;tr=hb&amp;wget=v&amp;qget=v&amp;nget=vt\" title=\"1_Samuel 25:25\" sec=\"1_Samuel 25:25\">subs</a></span> <span class=\"gloss\">name</span> <span class=\"g_cons xft\"><span class=\"f\">g_cons=</span>CMW</span> <span class=\"sp xft\"><span class=\"f\">sp=</span>subs</span></div></div></div></div></div></div><div class=\"catom  \" >\n",
       "        <div class=\"clause \" >\n",
       "            <a href=\"https://shebanq.ancient-data.org/hebrew/text?book=Samuel_I&amp;chapter=25&amp;verse=25&amp;version=c&amp;mr=m&amp;qw=q&amp;tp=txt_p&amp;tr=hb&amp;wget=v&amp;qget=v&amp;nget=vt\" title=\"1_Samuel 25:25\" sec=\"1_Samuel 25:25\">clause</a>   <span class=\"rela\">Resu</span> <span class=\"typ\">NmCl</span>\n",
       "        </div>\n",
       "        <div class=\"atoms\">\n",
       "                    <div class=\"patom  \" >\n",
       "        <div class=\"phrase \" >\n",
       "            <a href=\"https://shebanq.ancient-data.org/hebrew/text?book=Samuel_I&amp;chapter=25&amp;verse=25&amp;version=c&amp;mr=m&amp;qw=q&amp;tp=txt_p&amp;tr=hb&amp;wget=v&amp;qget=v&amp;nget=vt\" title=\"1_Samuel 25:25\" sec=\"1_Samuel 25:25\">phrase</a>   <span class=\"function\">PreC</span> <span class=\"typ\">AdvP</span>\n",
       "        </div>\n",
       "        <div class=\"atoms\">\n",
       "                    <div class=\"word  \" ><div class=\"h\"><a target=\"_blank\" href=\"https://shebanq.ancient-data.org/hebrew/word?version=c&amp;id=1KN\" title=\"show this lexeme in SHEBANQ\">כֶּן־</a></div><div class=\"features\"> <span class=\"pdp\"><a href=\"https://shebanq.ancient-data.org/hebrew/text?book=Samuel_I&amp;chapter=25&amp;verse=25&amp;version=c&amp;mr=m&amp;qw=q&amp;tp=txt_p&amp;tr=hb&amp;wget=v&amp;qget=v&amp;nget=vt\" title=\"1_Samuel 25:25\" sec=\"1_Samuel 25:25\">advb</a></span> <span class=\"gloss\">thus</span> <span class=\"g_cons xft\"><span class=\"f\">g_cons=</span>KN</span> <span class=\"sp xft\"><span class=\"f\">sp=</span>advb</span></div></div></div></div><div class=\"patom  \" >\n",
       "        <div class=\"phrase \" >\n",
       "            <a href=\"https://shebanq.ancient-data.org/hebrew/text?book=Samuel_I&amp;chapter=25&amp;verse=25&amp;version=c&amp;mr=m&amp;qw=q&amp;tp=txt_p&amp;tr=hb&amp;wget=v&amp;qget=v&amp;nget=vt\" title=\"1_Samuel 25:25\" sec=\"1_Samuel 25:25\">phrase</a>   <span class=\"function\">Subj</span> <span class=\"typ\">PPrP</span>\n",
       "        </div>\n",
       "        <div class=\"atoms\">\n",
       "                    <div class=\"word  \" ><div class=\"h\"><a target=\"_blank\" href=\"https://shebanq.ancient-data.org/hebrew/word?version=c&amp;id=1HWA\" title=\"show this lexeme in SHEBANQ\">ה֔וּא </a></div><div class=\"features\"> <span class=\"pdp\"><a href=\"https://shebanq.ancient-data.org/hebrew/text?book=Samuel_I&amp;chapter=25&amp;verse=25&amp;version=c&amp;mr=m&amp;qw=q&amp;tp=txt_p&amp;tr=hb&amp;wget=v&amp;qget=v&amp;nget=vt\" title=\"1_Samuel 25:25\" sec=\"1_Samuel 25:25\">prps</a></span> <span class=\"gloss\">he</span> <span class=\"g_cons xft\"><span class=\"f\">g_cons=</span>HW></span> <span class=\"sp xft\"><span class=\"f\">sp=</span>prps</span></div></div></div></div></div></div></div></div><div class=\"satom  \" >\n",
       "        <div class=\"sentence \" >\n",
       "            <a href=\"https://shebanq.ancient-data.org/hebrew/text?book=Samuel_I&amp;chapter=25&amp;verse=25&amp;version=c&amp;mr=m&amp;qw=q&amp;tp=txt_p&amp;tr=hb&amp;wget=v&amp;qget=v&amp;nget=vt\" title=\"1_Samuel 25:25\" sec=\"1_Samuel 25:25\">sentence</a>   <span class=\"number\">102|2609</span>\n",
       "        </div>\n",
       "        <div class=\"atoms\">\n",
       "                    <div class=\"catom  \" >\n",
       "        <div class=\"clause \" >\n",
       "            <a href=\"https://shebanq.ancient-data.org/hebrew/text?book=Samuel_I&amp;chapter=25&amp;verse=25&amp;version=c&amp;mr=m&amp;qw=q&amp;tp=txt_p&amp;tr=hb&amp;wget=v&amp;qget=v&amp;nget=vt\" title=\"1_Samuel 25:25\" sec=\"1_Samuel 25:25\">clause</a>   <span class=\"typ\">NmCl</span>\n",
       "        </div>\n",
       "        <div class=\"atoms\">\n",
       "                    <div class=\"patom  \" >\n",
       "        <div class=\"phrase \" >\n",
       "            <a href=\"https://shebanq.ancient-data.org/hebrew/text?book=Samuel_I&amp;chapter=25&amp;verse=25&amp;version=c&amp;mr=m&amp;qw=q&amp;tp=txt_p&amp;tr=hb&amp;wget=v&amp;qget=v&amp;nget=vt\" title=\"1_Samuel 25:25\" sec=\"1_Samuel 25:25\">phrase</a>   <span class=\"function\">PreC</span> <span class=\"typ\">PrNP</span>\n",
       "        </div>\n",
       "        <div class=\"atoms\">\n",
       "                    <div class=\"word  \" ><div class=\"h\"><a target=\"_blank\" href=\"https://shebanq.ancient-data.org/hebrew/word?version=c&amp;id=1NBLiiin\" title=\"show this lexeme in SHEBANQ\">נָבָ֣ל </a></div><div class=\"features\"> <span class=\"pdp\"><a href=\"https://shebanq.ancient-data.org/hebrew/text?book=Samuel_I&amp;chapter=25&amp;verse=25&amp;version=c&amp;mr=m&amp;qw=q&amp;tp=txt_p&amp;tr=hb&amp;wget=v&amp;qget=v&amp;nget=vt\" title=\"1_Samuel 25:25\" sec=\"1_Samuel 25:25\">nmpr</a></span> <span class=\"gloss\">Nabal</span> <span class=\"g_cons xft\"><span class=\"f\">g_cons=</span>NBL</span> <span class=\"sp xft\"><span class=\"f\">sp=</span>nmpr</span></div></div></div></div><div class=\"patom  \" >\n",
       "        <div class=\"phrase \" >\n",
       "            <a href=\"https://shebanq.ancient-data.org/hebrew/text?book=Samuel_I&amp;chapter=25&amp;verse=25&amp;version=c&amp;mr=m&amp;qw=q&amp;tp=txt_p&amp;tr=hb&amp;wget=v&amp;qget=v&amp;nget=vt\" title=\"1_Samuel 25:25\" sec=\"1_Samuel 25:25\">phrase</a>   <span class=\"function\">Subj</span> <span class=\"typ\">NP</span>\n",
       "        </div>\n",
       "        <div class=\"atoms\">\n",
       "                    <div class=\"word  \" ><div class=\"h\"><a target=\"_blank\" href=\"https://shebanq.ancient-data.org/hebrew/word?version=c&amp;id=1CMn\" title=\"show this lexeme in SHEBANQ\">שְׁמֹ֔ו </a></div><div class=\"features\"> <span class=\"pdp\"><a href=\"https://shebanq.ancient-data.org/hebrew/text?book=Samuel_I&amp;chapter=25&amp;verse=25&amp;version=c&amp;mr=m&amp;qw=q&amp;tp=txt_p&amp;tr=hb&amp;wget=v&amp;qget=v&amp;nget=vt\" title=\"1_Samuel 25:25\" sec=\"1_Samuel 25:25\">subs</a></span> <span class=\"gloss\">name</span> <span class=\"g_cons xft\"><span class=\"f\">g_cons=</span>CMW</span> <span class=\"sp xft\"><span class=\"f\">sp=</span>subs</span></div></div></div></div></div></div></div></div><div class=\"satom  \" >\n",
       "        <div class=\"sentence \" >\n",
       "            <a href=\"https://shebanq.ancient-data.org/hebrew/text?book=Samuel_I&amp;chapter=25&amp;verse=25&amp;version=c&amp;mr=m&amp;qw=q&amp;tp=txt_p&amp;tr=hb&amp;wget=v&amp;qget=v&amp;nget=vt\" title=\"1_Samuel 25:25\" sec=\"1_Samuel 25:25\">sentence</a>   <span class=\"number\">103|2610</span>\n",
       "        </div>\n",
       "        <div class=\"atoms\">\n",
       "                    <div class=\"catom  \" >\n",
       "        <div class=\"clause \" >\n",
       "            <a href=\"https://shebanq.ancient-data.org/hebrew/text?book=Samuel_I&amp;chapter=25&amp;verse=25&amp;version=c&amp;mr=m&amp;qw=q&amp;tp=txt_p&amp;tr=hb&amp;wget=v&amp;qget=v&amp;nget=vt\" title=\"1_Samuel 25:25\" sec=\"1_Samuel 25:25\">clause</a>   <span class=\"typ\">NmCl</span>\n",
       "        </div>\n",
       "        <div class=\"atoms\">\n",
       "                    <div class=\"patom  \" >\n",
       "        <div class=\"phrase \" >\n",
       "            <a href=\"https://shebanq.ancient-data.org/hebrew/text?book=Samuel_I&amp;chapter=25&amp;verse=25&amp;version=c&amp;mr=m&amp;qw=q&amp;tp=txt_p&amp;tr=hb&amp;wget=v&amp;qget=v&amp;nget=vt\" title=\"1_Samuel 25:25\" sec=\"1_Samuel 25:25\">phrase</a>   <span class=\"function\">Conj</span> <span class=\"typ\">CP</span>\n",
       "        </div>\n",
       "        <div class=\"atoms\">\n",
       "                    <div class=\"word  \" ><div class=\"h\"><a target=\"_blank\" href=\"https://shebanq.ancient-data.org/hebrew/word?version=c&amp;id=1W\" title=\"show this lexeme in SHEBANQ\">וּ</a></div><div class=\"features\"> <span class=\"pdp\"><a href=\"https://shebanq.ancient-data.org/hebrew/text?book=Samuel_I&amp;chapter=25&amp;verse=25&amp;version=c&amp;mr=m&amp;qw=q&amp;tp=txt_p&amp;tr=hb&amp;wget=v&amp;qget=v&amp;nget=vt\" title=\"1_Samuel 25:25\" sec=\"1_Samuel 25:25\">conj</a></span> <span class=\"gloss\">and</span> <span class=\"g_cons xft\"><span class=\"f\">g_cons=</span>W</span> <span class=\"sp xft\"><span class=\"f\">sp=</span>conj</span></div></div></div></div><div class=\"patom  \" >\n",
       "        <div class=\"phrase \" >\n",
       "            <a href=\"https://shebanq.ancient-data.org/hebrew/text?book=Samuel_I&amp;chapter=25&amp;verse=25&amp;version=c&amp;mr=m&amp;qw=q&amp;tp=txt_p&amp;tr=hb&amp;wget=v&amp;qget=v&amp;nget=vt\" title=\"1_Samuel 25:25\" sec=\"1_Samuel 25:25\">phrase</a>   <span class=\"function\">Subj</span> <span class=\"typ\">NP</span>\n",
       "        </div>\n",
       "        <div class=\"atoms\">\n",
       "                    <div class=\"word  \" ><div class=\"h\"><a target=\"_blank\" href=\"https://shebanq.ancient-data.org/hebrew/word?version=c&amp;id=1NBLHn\" title=\"show this lexeme in SHEBANQ\">נְבָלָ֖ה </a></div><div class=\"features\"> <span class=\"pdp\"><a href=\"https://shebanq.ancient-data.org/hebrew/text?book=Samuel_I&amp;chapter=25&amp;verse=25&amp;version=c&amp;mr=m&amp;qw=q&amp;tp=txt_p&amp;tr=hb&amp;wget=v&amp;qget=v&amp;nget=vt\" title=\"1_Samuel 25:25\" sec=\"1_Samuel 25:25\">subs</a></span> <span class=\"gloss\">stupidity</span> <span class=\"g_cons xft\"><span class=\"f\">g_cons=</span>NBLH</span> <span class=\"sp xft\"><span class=\"f\">sp=</span>subs</span></div></div></div></div><div class=\"patom  \" >\n",
       "        <div class=\"phrase \" >\n",
       "            <a href=\"https://shebanq.ancient-data.org/hebrew/text?book=Samuel_I&amp;chapter=25&amp;verse=25&amp;version=c&amp;mr=m&amp;qw=q&amp;tp=txt_p&amp;tr=hb&amp;wget=v&amp;qget=v&amp;nget=vt\" title=\"1_Samuel 25:25\" sec=\"1_Samuel 25:25\">phrase</a>   <span class=\"function\">PreC</span> <span class=\"typ\">PP</span>\n",
       "        </div>\n",
       "        <div class=\"atoms\">\n",
       "                    <div class=\"word  \" ><div class=\"h\"><a target=\"_blank\" href=\"https://shebanq.ancient-data.org/hebrew/word?version=c&amp;id=1OM\" title=\"show this lexeme in SHEBANQ\">עִמֹּ֑ו </a></div><div class=\"features\"> <span class=\"pdp\"><a href=\"https://shebanq.ancient-data.org/hebrew/text?book=Samuel_I&amp;chapter=25&amp;verse=25&amp;version=c&amp;mr=m&amp;qw=q&amp;tp=txt_p&amp;tr=hb&amp;wget=v&amp;qget=v&amp;nget=vt\" title=\"1_Samuel 25:25\" sec=\"1_Samuel 25:25\">prep</a></span> <span class=\"gloss\">with</span> <span class=\"g_cons xft\"><span class=\"f\">g_cons=</span>&lt;MW</span> <span class=\"sp xft\"><span class=\"f\">sp=</span>prep</span></div></div></div></div></div></div></div></div><div class=\"satom  \" >\n",
       "        <div class=\"sentence \" >\n",
       "            <a href=\"https://shebanq.ancient-data.org/hebrew/text?book=Samuel_I&amp;chapter=25&amp;verse=25&amp;version=c&amp;mr=m&amp;qw=q&amp;tp=txt_p&amp;tr=hb&amp;wget=v&amp;qget=v&amp;nget=vt\" title=\"1_Samuel 25:25\" sec=\"1_Samuel 25:25\">sentence</a>   <span class=\"number\">104|2611</span>\n",
       "        </div>\n",
       "        <div class=\"atoms\">\n",
       "                    <div class=\"catom  \" >\n",
       "        <div class=\"clause \" >\n",
       "            <a href=\"https://shebanq.ancient-data.org/hebrew/text?book=Samuel_I&amp;chapter=25&amp;verse=25&amp;version=c&amp;mr=m&amp;qw=q&amp;tp=txt_p&amp;tr=hb&amp;wget=v&amp;qget=v&amp;nget=vt\" title=\"1_Samuel 25:25\" sec=\"1_Samuel 25:25\">clause</a>   <span class=\"typ\">WXQt</span>\n",
       "        </div>\n",
       "        <div class=\"atoms\">\n",
       "                    <div class=\"patom  \" >\n",
       "        <div class=\"phrase \" >\n",
       "            <a href=\"https://shebanq.ancient-data.org/hebrew/text?book=Samuel_I&amp;chapter=25&amp;verse=25&amp;version=c&amp;mr=m&amp;qw=q&amp;tp=txt_p&amp;tr=hb&amp;wget=v&amp;qget=v&amp;nget=vt\" title=\"1_Samuel 25:25\" sec=\"1_Samuel 25:25\">phrase</a>   <span class=\"function\">Conj</span> <span class=\"typ\">CP</span>\n",
       "        </div>\n",
       "        <div class=\"atoms\">\n",
       "                    <div class=\"word  \" ><div class=\"h\"><a target=\"_blank\" href=\"https://shebanq.ancient-data.org/hebrew/word?version=c&amp;id=1W\" title=\"show this lexeme in SHEBANQ\">וַֽ</a></div><div class=\"features\"> <span class=\"pdp\"><a href=\"https://shebanq.ancient-data.org/hebrew/text?book=Samuel_I&amp;chapter=25&amp;verse=25&amp;version=c&amp;mr=m&amp;qw=q&amp;tp=txt_p&amp;tr=hb&amp;wget=v&amp;qget=v&amp;nget=vt\" title=\"1_Samuel 25:25\" sec=\"1_Samuel 25:25\">conj</a></span> <span class=\"gloss\">and</span> <span class=\"g_cons xft\"><span class=\"f\">g_cons=</span>W</span> <span class=\"sp xft\"><span class=\"f\">sp=</span>conj</span></div></div></div></div><div class=\"patom  l \" >\n",
       "        <div class=\"phrase \" >\n",
       "            <a href=\"https://shebanq.ancient-data.org/hebrew/text?book=Samuel_I&amp;chapter=25&amp;verse=25&amp;version=c&amp;mr=m&amp;qw=q&amp;tp=txt_p&amp;tr=hb&amp;wget=v&amp;qget=v&amp;nget=vt\" title=\"1_Samuel 25:25\" sec=\"1_Samuel 25:25\">phrase</a>   <span class=\"function\">Subj</span> <span class=\"typ\">PPrP</span>\n",
       "        </div>\n",
       "        <div class=\"atoms\">\n",
       "                    <div class=\"word  \" ><div class=\"h\"><a target=\"_blank\" href=\"https://shebanq.ancient-data.org/hebrew/word?version=c&amp;id=1ANJ\" title=\"show this lexeme in SHEBANQ\">אֲנִי֙ </a></div><div class=\"features\"> <span class=\"pdp\"><a href=\"https://shebanq.ancient-data.org/hebrew/text?book=Samuel_I&amp;chapter=25&amp;verse=25&amp;version=c&amp;mr=m&amp;qw=q&amp;tp=txt_p&amp;tr=hb&amp;wget=v&amp;qget=v&amp;nget=vt\" title=\"1_Samuel 25:25\" sec=\"1_Samuel 25:25\">prps</a></span> <span class=\"gloss\">i</span> <span class=\"g_cons xft\"><span class=\"f\">g_cons=</span>>NJ</span> <span class=\"sp xft\"><span class=\"f\">sp=</span>prps</span></div></div></div></div><div class=\"patom  r \" >\n",
       "        <div class=\"phrase \" >\n",
       "            <a href=\"https://shebanq.ancient-data.org/hebrew/text?book=Samuel_I&amp;chapter=25&amp;verse=25&amp;version=c&amp;mr=m&amp;qw=q&amp;tp=txt_p&amp;tr=hb&amp;wget=v&amp;qget=v&amp;nget=vt\" title=\"1_Samuel 25:25\" sec=\"1_Samuel 25:25\">phrase</a>   <span class=\"function\">Subj</span> <span class=\"typ\">PPrP|NP</span>\n",
       "        </div>\n",
       "        <div class=\"atoms\">\n",
       "                    <div class=\"word  \" ><div class=\"h\"><a target=\"_blank\" href=\"https://shebanq.ancient-data.org/hebrew/word?version=c&amp;id=1AMHn\" title=\"show this lexeme in SHEBANQ\">אֲמָ֣תְךָ֔ </a></div><div class=\"features\"> <span class=\"pdp\"><a href=\"https://shebanq.ancient-data.org/hebrew/text?book=Samuel_I&amp;chapter=25&amp;verse=25&amp;version=c&amp;mr=m&amp;qw=q&amp;tp=txt_p&amp;tr=hb&amp;wget=v&amp;qget=v&amp;nget=vt\" title=\"1_Samuel 25:25\" sec=\"1_Samuel 25:25\">subs</a></span> <span class=\"gloss\">handmaid</span> <span class=\"g_cons xft\"><span class=\"f\">g_cons=</span>>MTK</span> <span class=\"sp xft\"><span class=\"f\">sp=</span>subs</span></div></div></div></div><div class=\"patom  \" >\n",
       "        <div class=\"phrase \" >\n",
       "            <a href=\"https://shebanq.ancient-data.org/hebrew/text?book=Samuel_I&amp;chapter=25&amp;verse=25&amp;version=c&amp;mr=m&amp;qw=q&amp;tp=txt_p&amp;tr=hb&amp;wget=v&amp;qget=v&amp;nget=vt\" title=\"1_Samuel 25:25\" sec=\"1_Samuel 25:25\">phrase</a>   <span class=\"function\">Nega</span> <span class=\"typ\">NegP</span>\n",
       "        </div>\n",
       "        <div class=\"atoms\">\n",
       "                    <div class=\"word  \" ><div class=\"h\"><a target=\"_blank\" href=\"https://shebanq.ancient-data.org/hebrew/word?version=c&amp;id=1LA\" title=\"show this lexeme in SHEBANQ\">לֹ֥א </a></div><div class=\"features\"> <span class=\"pdp\"><a href=\"https://shebanq.ancient-data.org/hebrew/text?book=Samuel_I&amp;chapter=25&amp;verse=25&amp;version=c&amp;mr=m&amp;qw=q&amp;tp=txt_p&amp;tr=hb&amp;wget=v&amp;qget=v&amp;nget=vt\" title=\"1_Samuel 25:25\" sec=\"1_Samuel 25:25\">nega</a></span> <span class=\"gloss\">not</span> <span class=\"g_cons xft\"><span class=\"f\">g_cons=</span>L></span> <span class=\"sp xft\"><span class=\"f\">sp=</span>nega</span></div></div></div></div><div class=\"patom  \" >\n",
       "        <div class=\"phrase \" >\n",
       "            <a href=\"https://shebanq.ancient-data.org/hebrew/text?book=Samuel_I&amp;chapter=25&amp;verse=25&amp;version=c&amp;mr=m&amp;qw=q&amp;tp=txt_p&amp;tr=hb&amp;wget=v&amp;qget=v&amp;nget=vt\" title=\"1_Samuel 25:25\" sec=\"1_Samuel 25:25\">phrase</a>   <span class=\"function\">Pred</span> <span class=\"typ\">VP</span>\n",
       "        </div>\n",
       "        <div class=\"atoms\">\n",
       "                    <div class=\"word  \" ><div class=\"h\"><a target=\"_blank\" href=\"https://shebanq.ancient-data.org/hebrew/word?version=c&amp;id=1RAHv\" title=\"show this lexeme in SHEBANQ\">רָאִ֛יתִי </a></div><div class=\"features\"> <span class=\"pdp\"><a href=\"https://shebanq.ancient-data.org/hebrew/text?book=Samuel_I&amp;chapter=25&amp;verse=25&amp;version=c&amp;mr=m&amp;qw=q&amp;tp=txt_p&amp;tr=hb&amp;wget=v&amp;qget=v&amp;nget=vt\" title=\"1_Samuel 25:25\" sec=\"1_Samuel 25:25\">verb</a></span> <span class=\"gloss\">see</span> <span class=\"vs\">qal</span> <span class=\"vt\">perf</span> <span class=\"g_cons xft\"><span class=\"f\">g_cons=</span>R>JTJ</span> <span class=\"sp xft\"><span class=\"f\">sp=</span>verb</span></div></div></div></div><div class=\"patom  \" >\n",
       "        <div class=\"phrase \" >\n",
       "            <a href=\"https://shebanq.ancient-data.org/hebrew/text?book=Samuel_I&amp;chapter=25&amp;verse=25&amp;version=c&amp;mr=m&amp;qw=q&amp;tp=txt_p&amp;tr=hb&amp;wget=v&amp;qget=v&amp;nget=vt\" title=\"1_Samuel 25:25\" sec=\"1_Samuel 25:25\">phrase</a>   <span class=\"function\">Objc</span> <span class=\"typ\">PP</span>\n",
       "        </div>\n",
       "        <div class=\"atoms\">\n",
       "                    <div class=\"word  \" ><div class=\"h\"><a target=\"_blank\" href=\"https://shebanq.ancient-data.org/hebrew/word?version=c&amp;id=1AT\" title=\"show this lexeme in SHEBANQ\">אֶת־</a></div><div class=\"features\"> <span class=\"pdp\"><a href=\"https://shebanq.ancient-data.org/hebrew/text?book=Samuel_I&amp;chapter=25&amp;verse=25&amp;version=c&amp;mr=m&amp;qw=q&amp;tp=txt_p&amp;tr=hb&amp;wget=v&amp;qget=v&amp;nget=vt\" title=\"1_Samuel 25:25\" sec=\"1_Samuel 25:25\">prep</a></span> <span class=\"gloss\">&lt;object marker></span> <span class=\"g_cons xft\"><span class=\"f\">g_cons=</span>>T</span> <span class=\"sp xft\"><span class=\"f\">sp=</span>prep</span></div></div><div class=\"word  \" ><div class=\"h\"><a target=\"_blank\" href=\"https://shebanq.ancient-data.org/hebrew/word?version=c&amp;id=1NORn\" title=\"show this lexeme in SHEBANQ\">נַעֲרֵ֥י </a></div><div class=\"features\"> <span class=\"pdp\"><a href=\"https://shebanq.ancient-data.org/hebrew/text?book=Samuel_I&amp;chapter=25&amp;verse=25&amp;version=c&amp;mr=m&amp;qw=q&amp;tp=txt_p&amp;tr=hb&amp;wget=v&amp;qget=v&amp;nget=vt\" title=\"1_Samuel 25:25\" sec=\"1_Samuel 25:25\">subs</a></span> <span class=\"gloss\">boy</span> <span class=\"g_cons xft\"><span class=\"f\">g_cons=</span>N&lt;RJ</span> <span class=\"sp xft\"><span class=\"f\">sp=</span>subs</span></div></div><div class=\"word  \" ><div class=\"h\"><a target=\"_blank\" href=\"https://shebanq.ancient-data.org/hebrew/word?version=c&amp;id=1ADWNn\" title=\"show this lexeme in SHEBANQ\">אֲדֹנִ֖י </a></div><div class=\"features\"> <span class=\"pdp\"><a href=\"https://shebanq.ancient-data.org/hebrew/text?book=Samuel_I&amp;chapter=25&amp;verse=25&amp;version=c&amp;mr=m&amp;qw=q&amp;tp=txt_p&amp;tr=hb&amp;wget=v&amp;qget=v&amp;nget=vt\" title=\"1_Samuel 25:25\" sec=\"1_Samuel 25:25\">subs</a></span> <span class=\"gloss\">lord</span> <span class=\"g_cons xft\"><span class=\"f\">g_cons=</span>>DNJ</span> <span class=\"sp xft\"><span class=\"f\">sp=</span>subs</span></div></div></div></div></div></div><div class=\"catom  \" >\n",
       "        <div class=\"clause \" >\n",
       "            <a href=\"https://shebanq.ancient-data.org/hebrew/text?book=Samuel_I&amp;chapter=25&amp;verse=25&amp;version=c&amp;mr=m&amp;qw=q&amp;tp=txt_p&amp;tr=hb&amp;wget=v&amp;qget=v&amp;nget=vt\" title=\"1_Samuel 25:25\" sec=\"1_Samuel 25:25\">clause</a>   <span class=\"rela\">Attr</span> <span class=\"typ\">xQt0</span>\n",
       "        </div>\n",
       "        <div class=\"atoms\">\n",
       "                    <div class=\"patom  \" >\n",
       "        <div class=\"phrase \" >\n",
       "            <a href=\"https://shebanq.ancient-data.org/hebrew/text?book=Samuel_I&amp;chapter=25&amp;verse=25&amp;version=c&amp;mr=m&amp;qw=q&amp;tp=txt_p&amp;tr=hb&amp;wget=v&amp;qget=v&amp;nget=vt\" title=\"1_Samuel 25:25\" sec=\"1_Samuel 25:25\">phrase</a>   <span class=\"function\">Rela</span> <span class=\"typ\">CP</span>\n",
       "        </div>\n",
       "        <div class=\"atoms\">\n",
       "                    <div class=\"word  \" ><div class=\"h\"><a target=\"_blank\" href=\"https://shebanq.ancient-data.org/hebrew/word?version=c&amp;id=1ACR\" title=\"show this lexeme in SHEBANQ\">אֲשֶׁ֥ר </a></div><div class=\"features\"> <span class=\"pdp\"><a href=\"https://shebanq.ancient-data.org/hebrew/text?book=Samuel_I&amp;chapter=25&amp;verse=25&amp;version=c&amp;mr=m&amp;qw=q&amp;tp=txt_p&amp;tr=hb&amp;wget=v&amp;qget=v&amp;nget=vt\" title=\"1_Samuel 25:25\" sec=\"1_Samuel 25:25\">conj</a></span> <span class=\"gloss\">&lt;relative></span> <span class=\"g_cons xft\"><span class=\"f\">g_cons=</span>>CR</span> <span class=\"sp xft\"><span class=\"f\">sp=</span>conj</span></div></div></div></div><div class=\"patom  \" >\n",
       "        <div class=\"phrase \" >\n",
       "            <a href=\"https://shebanq.ancient-data.org/hebrew/text?book=Samuel_I&amp;chapter=25&amp;verse=25&amp;version=c&amp;mr=m&amp;qw=q&amp;tp=txt_p&amp;tr=hb&amp;wget=v&amp;qget=v&amp;nget=vt\" title=\"1_Samuel 25:25\" sec=\"1_Samuel 25:25\">phrase</a>   <span class=\"function\">Pred</span> <span class=\"typ\">VP</span>\n",
       "        </div>\n",
       "        <div class=\"atoms\">\n",
       "                    <div class=\"word  \" ><div class=\"h\"><a target=\"_blank\" href=\"https://shebanq.ancient-data.org/hebrew/word?version=c&amp;id=1CLXv\" title=\"show this lexeme in SHEBANQ\">שָׁלָֽחְתָּ׃ </a></div><div class=\"features\"> <span class=\"pdp\"><a href=\"https://shebanq.ancient-data.org/hebrew/text?book=Samuel_I&amp;chapter=25&amp;verse=25&amp;version=c&amp;mr=m&amp;qw=q&amp;tp=txt_p&amp;tr=hb&amp;wget=v&amp;qget=v&amp;nget=vt\" title=\"1_Samuel 25:25\" sec=\"1_Samuel 25:25\">verb</a></span> <span class=\"gloss\">send</span> <span class=\"vs\">qal</span> <span class=\"vt\">perf</span> <span class=\"g_cons xft\"><span class=\"f\">g_cons=</span>CLXT</span> <span class=\"sp xft\"><span class=\"f\">sp=</span>verb</span></div></div></div></div></div></div></div></div></div></div>"
      ],
      "text/plain": [
       "<IPython.core.display.HTML object>"
      ]
     },
     "metadata": {},
     "output_type": "display_data"
    }
   ],
   "source": [
    "A.show(tuples)"
   ]
  },
  {
   "cell_type": "code",
   "execution_count": 40,
   "metadata": {
    "ExecuteTime": {
     "end_time": "2018-05-24T08:01:46.770065Z",
     "start_time": "2018-05-24T08:01:46.729601Z"
    }
   },
   "outputs": [
    {
     "data": {
      "text/html": [
       "<p><b>result</b> <i>1</i></p>"
      ],
      "text/plain": [
       "<IPython.core.display.HTML object>"
      ]
     },
     "metadata": {},
     "output_type": "display_data"
    },
    {
     "data": {
      "text/html": [
       "<div class=\"outeritem\"><div class=\"verse  \" >\n",
       "    <div class=\"vl\">\n",
       "        <div class=\"vrs\"><a href=\"https://shebanq.ancient-data.org/hebrew/text?book=Genesis&amp;chapter=1&amp;verse=1&amp;version=c&amp;mr=m&amp;qw=q&amp;tp=txt_p&amp;tr=hb&amp;wget=v&amp;qget=v&amp;nget=vt\" title=\"show this passage in SHEBANQ\" sec=\"Genesis 1:1\">Genesis 1:1</a></div>\n",
       "        \n",
       "    </div>\n",
       "<div class=\"satom  \" >\n",
       "        <div class=\"sentence \" >\n",
       "            <a href=\"https://shebanq.ancient-data.org/hebrew/text?book=Genesis&amp;chapter=1&amp;verse=1&amp;version=c&amp;mr=m&amp;qw=q&amp;tp=txt_p&amp;tr=hb&amp;wget=v&amp;qget=v&amp;nget=vt\" title=\"Genesis 1:1\" sec=\"Genesis 1:1\">sentence</a>   <span class=\"number\">1</span>\n",
       "        </div>\n",
       "        <div class=\"atoms\">\n",
       "                    <div class=\"catom  \" >\n",
       "        <div class=\"clause \" >\n",
       "            <a href=\"https://shebanq.ancient-data.org/hebrew/text?book=Genesis&amp;chapter=1&amp;verse=1&amp;version=c&amp;mr=m&amp;qw=q&amp;tp=txt_p&amp;tr=hb&amp;wget=v&amp;qget=v&amp;nget=vt\" title=\"Genesis 1:1\" sec=\"Genesis 1:1\">clause</a>   <span class=\"typ\">xQtX</span>\n",
       "        </div>\n",
       "        <div class=\"atoms\">\n",
       "                    <div class=\"patom  \" >\n",
       "        <div class=\"phrase \" >\n",
       "            <a href=\"https://shebanq.ancient-data.org/hebrew/text?book=Genesis&amp;chapter=1&amp;verse=1&amp;version=c&amp;mr=m&amp;qw=q&amp;tp=txt_p&amp;tr=hb&amp;wget=v&amp;qget=v&amp;nget=vt\" title=\"Genesis 1:1\" sec=\"Genesis 1:1\">phrase</a>   <span class=\"function\">Time</span> <span class=\"typ\">PP</span>\n",
       "        </div>\n",
       "        <div class=\"atoms\">\n",
       "                    <div class=\"word  hl\" ><div class=\"h\"><a target=\"_blank\" href=\"https://shebanq.ancient-data.org/hebrew/word?version=c&amp;id=1B\" title=\"show this lexeme in SHEBANQ\">בְּ</a></div><div class=\"features\"> <span class=\"pdp\"><a href=\"https://shebanq.ancient-data.org/hebrew/text?book=Genesis&amp;chapter=1&amp;verse=1&amp;version=c&amp;mr=m&amp;qw=q&amp;tp=txt_p&amp;tr=hb&amp;wget=v&amp;qget=v&amp;nget=vt\" title=\"Genesis 1:1\" sec=\"Genesis 1:1\">prep</a></span> <span class=\"gloss\">in</span> <span class=\"g_cons xft\"><span class=\"f\">g_cons=</span>B</span> <span class=\"sp xft\"><span class=\"f\">sp=</span>prep</span></div></div><div class=\"word  \" ><div class=\"h\"><a target=\"_blank\" href=\"https://shebanq.ancient-data.org/hebrew/word?version=c&amp;id=1RACJTn\" title=\"show this lexeme in SHEBANQ\">רֵאשִׁ֖ית </a></div><div class=\"features\"> <span class=\"pdp\"><a href=\"https://shebanq.ancient-data.org/hebrew/text?book=Genesis&amp;chapter=1&amp;verse=1&amp;version=c&amp;mr=m&amp;qw=q&amp;tp=txt_p&amp;tr=hb&amp;wget=v&amp;qget=v&amp;nget=vt\" title=\"Genesis 1:1\" sec=\"Genesis 1:1\">subs</a></span> <span class=\"gloss\">beginning</span> <span class=\"g_cons xft\"><span class=\"f\">g_cons=</span>R>CJT</span> <span class=\"sp xft\"><span class=\"f\">sp=</span>subs</span></div></div></div></div><div class=\"patom  \" >\n",
       "        <div class=\"phrase \" >\n",
       "            <a href=\"https://shebanq.ancient-data.org/hebrew/text?book=Genesis&amp;chapter=1&amp;verse=1&amp;version=c&amp;mr=m&amp;qw=q&amp;tp=txt_p&amp;tr=hb&amp;wget=v&amp;qget=v&amp;nget=vt\" title=\"Genesis 1:1\" sec=\"Genesis 1:1\">phrase</a>   <span class=\"function\">Pred</span> <span class=\"typ\">VP</span>\n",
       "        </div>\n",
       "        <div class=\"atoms\">\n",
       "                    <div class=\"word  \" ><div class=\"h\"><a target=\"_blank\" href=\"https://shebanq.ancient-data.org/hebrew/word?version=c&amp;id=1BRAv\" title=\"show this lexeme in SHEBANQ\">בָּרָ֣א </a></div><div class=\"features\"> <span class=\"pdp\"><a href=\"https://shebanq.ancient-data.org/hebrew/text?book=Genesis&amp;chapter=1&amp;verse=1&amp;version=c&amp;mr=m&amp;qw=q&amp;tp=txt_p&amp;tr=hb&amp;wget=v&amp;qget=v&amp;nget=vt\" title=\"Genesis 1:1\" sec=\"Genesis 1:1\">verb</a></span> <span class=\"gloss\">create</span> <span class=\"vs\">qal</span> <span class=\"vt\">perf</span> <span class=\"g_cons xft\"><span class=\"f\">g_cons=</span>BR></span> <span class=\"sp xft\"><span class=\"f\">sp=</span>verb</span></div></div></div></div><div class=\"patom  \" >\n",
       "        <div class=\"phrase \" >\n",
       "            <a href=\"https://shebanq.ancient-data.org/hebrew/text?book=Genesis&amp;chapter=1&amp;verse=1&amp;version=c&amp;mr=m&amp;qw=q&amp;tp=txt_p&amp;tr=hb&amp;wget=v&amp;qget=v&amp;nget=vt\" title=\"Genesis 1:1\" sec=\"Genesis 1:1\">phrase</a>   <span class=\"function\">Subj</span> <span class=\"typ\">NP</span>\n",
       "        </div>\n",
       "        <div class=\"atoms\">\n",
       "                    <div class=\"word  \" ><div class=\"h\"><a target=\"_blank\" href=\"https://shebanq.ancient-data.org/hebrew/word?version=c&amp;id=1ALHJMn\" title=\"show this lexeme in SHEBANQ\">אֱלֹהִ֑ים </a></div><div class=\"features\"> <span class=\"pdp\"><a href=\"https://shebanq.ancient-data.org/hebrew/text?book=Genesis&amp;chapter=1&amp;verse=1&amp;version=c&amp;mr=m&amp;qw=q&amp;tp=txt_p&amp;tr=hb&amp;wget=v&amp;qget=v&amp;nget=vt\" title=\"Genesis 1:1\" sec=\"Genesis 1:1\">subs</a></span> <span class=\"gloss\">god(s)</span> <span class=\"g_cons xft\"><span class=\"f\">g_cons=</span>>LHJM</span> <span class=\"sp xft\"><span class=\"f\">sp=</span>subs</span></div></div></div></div><div class=\"patom  \" >\n",
       "        <div class=\"phrase \" >\n",
       "            <a href=\"https://shebanq.ancient-data.org/hebrew/text?book=Genesis&amp;chapter=1&amp;verse=1&amp;version=c&amp;mr=m&amp;qw=q&amp;tp=txt_p&amp;tr=hb&amp;wget=v&amp;qget=v&amp;nget=vt\" title=\"Genesis 1:1\" sec=\"Genesis 1:1\">phrase</a>   <span class=\"function\">Objc</span> <span class=\"typ\">PP</span>\n",
       "        </div>\n",
       "        <div class=\"atoms\">\n",
       "                    <div class=\"word  \" ><div class=\"h\"><a target=\"_blank\" href=\"https://shebanq.ancient-data.org/hebrew/word?version=c&amp;id=1AT\" title=\"show this lexeme in SHEBANQ\">אֵ֥ת </a></div><div class=\"features\"> <span class=\"pdp\"><a href=\"https://shebanq.ancient-data.org/hebrew/text?book=Genesis&amp;chapter=1&amp;verse=1&amp;version=c&amp;mr=m&amp;qw=q&amp;tp=txt_p&amp;tr=hb&amp;wget=v&amp;qget=v&amp;nget=vt\" title=\"Genesis 1:1\" sec=\"Genesis 1:1\">prep</a></span> <span class=\"gloss\">&lt;object marker></span> <span class=\"g_cons xft\"><span class=\"f\">g_cons=</span>>T</span> <span class=\"sp xft\"><span class=\"f\">sp=</span>prep</span></div></div><div class=\"word  \" ><div class=\"h\"><a target=\"_blank\" href=\"https://shebanq.ancient-data.org/hebrew/word?version=c&amp;id=1H\" title=\"show this lexeme in SHEBANQ\">הַ</a></div><div class=\"features\"> <span class=\"pdp\"><a href=\"https://shebanq.ancient-data.org/hebrew/text?book=Genesis&amp;chapter=1&amp;verse=1&amp;version=c&amp;mr=m&amp;qw=q&amp;tp=txt_p&amp;tr=hb&amp;wget=v&amp;qget=v&amp;nget=vt\" title=\"Genesis 1:1\" sec=\"Genesis 1:1\">art</a></span> <span class=\"gloss\">the</span> <span class=\"g_cons xft\"><span class=\"f\">g_cons=</span>H</span> <span class=\"sp xft\"><span class=\"f\">sp=</span>art</span></div></div><div class=\"word  \" ><div class=\"h\"><a target=\"_blank\" href=\"https://shebanq.ancient-data.org/hebrew/word?version=c&amp;id=1CMJMn\" title=\"show this lexeme in SHEBANQ\">שָּׁמַ֖יִם </a></div><div class=\"features\"> <span class=\"pdp\"><a href=\"https://shebanq.ancient-data.org/hebrew/text?book=Genesis&amp;chapter=1&amp;verse=1&amp;version=c&amp;mr=m&amp;qw=q&amp;tp=txt_p&amp;tr=hb&amp;wget=v&amp;qget=v&amp;nget=vt\" title=\"Genesis 1:1\" sec=\"Genesis 1:1\">subs</a></span> <span class=\"gloss\">heavens</span> <span class=\"g_cons xft\"><span class=\"f\">g_cons=</span>CMJM</span> <span class=\"sp xft\"><span class=\"f\">sp=</span>subs</span></div></div><div class=\"word  \" ><div class=\"h\"><a target=\"_blank\" href=\"https://shebanq.ancient-data.org/hebrew/word?version=c&amp;id=1W\" title=\"show this lexeme in SHEBANQ\">וְ</a></div><div class=\"features\"> <span class=\"pdp\"><a href=\"https://shebanq.ancient-data.org/hebrew/text?book=Genesis&amp;chapter=1&amp;verse=1&amp;version=c&amp;mr=m&amp;qw=q&amp;tp=txt_p&amp;tr=hb&amp;wget=v&amp;qget=v&amp;nget=vt\" title=\"Genesis 1:1\" sec=\"Genesis 1:1\">conj</a></span> <span class=\"gloss\">and</span> <span class=\"g_cons xft\"><span class=\"f\">g_cons=</span>W</span> <span class=\"sp xft\"><span class=\"f\">sp=</span>conj</span></div></div><div class=\"word  \" ><div class=\"h\"><a target=\"_blank\" href=\"https://shebanq.ancient-data.org/hebrew/word?version=c&amp;id=1AT\" title=\"show this lexeme in SHEBANQ\">אֵ֥ת </a></div><div class=\"features\"> <span class=\"pdp\"><a href=\"https://shebanq.ancient-data.org/hebrew/text?book=Genesis&amp;chapter=1&amp;verse=1&amp;version=c&amp;mr=m&amp;qw=q&amp;tp=txt_p&amp;tr=hb&amp;wget=v&amp;qget=v&amp;nget=vt\" title=\"Genesis 1:1\" sec=\"Genesis 1:1\">prep</a></span> <span class=\"gloss\">&lt;object marker></span> <span class=\"g_cons xft\"><span class=\"f\">g_cons=</span>>T</span> <span class=\"sp xft\"><span class=\"f\">sp=</span>prep</span></div></div><div class=\"word  \" ><div class=\"h\"><a target=\"_blank\" href=\"https://shebanq.ancient-data.org/hebrew/word?version=c&amp;id=1H\" title=\"show this lexeme in SHEBANQ\">הָ</a></div><div class=\"features\"> <span class=\"pdp\"><a href=\"https://shebanq.ancient-data.org/hebrew/text?book=Genesis&amp;chapter=1&amp;verse=1&amp;version=c&amp;mr=m&amp;qw=q&amp;tp=txt_p&amp;tr=hb&amp;wget=v&amp;qget=v&amp;nget=vt\" title=\"Genesis 1:1\" sec=\"Genesis 1:1\">art</a></span> <span class=\"gloss\">the</span> <span class=\"g_cons xft\"><span class=\"f\">g_cons=</span>H</span> <span class=\"sp xft\"><span class=\"f\">sp=</span>art</span></div></div><div class=\"word  \" ><div class=\"h\"><a target=\"_blank\" href=\"https://shebanq.ancient-data.org/hebrew/word?version=c&amp;id=1ARYn\" title=\"show this lexeme in SHEBANQ\">אָֽרֶץ׃ </a></div><div class=\"features\"> <span class=\"pdp\"><a href=\"https://shebanq.ancient-data.org/hebrew/text?book=Genesis&amp;chapter=1&amp;verse=1&amp;version=c&amp;mr=m&amp;qw=q&amp;tp=txt_p&amp;tr=hb&amp;wget=v&amp;qget=v&amp;nget=vt\" title=\"Genesis 1:1\" sec=\"Genesis 1:1\">subs</a></span> <span class=\"gloss\">earth</span> <span class=\"g_cons xft\"><span class=\"f\">g_cons=</span>>RY</span> <span class=\"sp xft\"><span class=\"f\">sp=</span>subs</span></div></div></div></div></div></div></div></div></div></div>"
      ],
      "text/plain": [
       "<IPython.core.display.HTML object>"
      ]
     },
     "metadata": {},
     "output_type": "display_data"
    },
    {
     "data": {
      "text/html": [
       "<div class=\"outeritem\"><div class=\"verse  \" >\n",
       "    <div class=\"vl\">\n",
       "        <div class=\"vrs\"><a href=\"https://shebanq.ancient-data.org/hebrew/text?book=Samuel_I&amp;chapter=25&amp;verse=25&amp;version=c&amp;mr=m&amp;qw=q&amp;tp=txt_p&amp;tr=hb&amp;wget=v&amp;qget=v&amp;nget=vt\" title=\"show this passage in SHEBANQ\" sec=\"1_Samuel 25:25\">1_Samuel 25:25</a></div>\n",
       "        \n",
       "    </div>\n",
       "<div class=\"satom  \" >\n",
       "        <div class=\"sentence \" >\n",
       "            <a href=\"https://shebanq.ancient-data.org/hebrew/text?book=Samuel_I&amp;chapter=25&amp;verse=25&amp;version=c&amp;mr=m&amp;qw=q&amp;tp=txt_p&amp;tr=hb&amp;wget=v&amp;qget=v&amp;nget=vt\" title=\"1_Samuel 25:25\" sec=\"1_Samuel 25:25\">sentence</a>   <span class=\"number\">100|2607</span>\n",
       "        </div>\n",
       "        <div class=\"atoms\">\n",
       "                    <div class=\"catom  \" >\n",
       "        <div class=\"clause \" >\n",
       "            <a href=\"https://shebanq.ancient-data.org/hebrew/text?book=Samuel_I&amp;chapter=25&amp;verse=25&amp;version=c&amp;mr=m&amp;qw=q&amp;tp=txt_p&amp;tr=hb&amp;wget=v&amp;qget=v&amp;nget=vt\" title=\"1_Samuel 25:25\" sec=\"1_Samuel 25:25\">clause</a>   <span class=\"typ\">xYqX</span>\n",
       "        </div>\n",
       "        <div class=\"atoms\">\n",
       "                    <div class=\"patom  \" >\n",
       "        <div class=\"phrase \" >\n",
       "            <a href=\"https://shebanq.ancient-data.org/hebrew/text?book=Samuel_I&amp;chapter=25&amp;verse=25&amp;version=c&amp;mr=m&amp;qw=q&amp;tp=txt_p&amp;tr=hb&amp;wget=v&amp;qget=v&amp;nget=vt\" title=\"1_Samuel 25:25\" sec=\"1_Samuel 25:25\">phrase</a>   <span class=\"function\">Nega</span> <span class=\"typ\">NegP</span>\n",
       "        </div>\n",
       "        <div class=\"atoms\">\n",
       "                    <div class=\"word  \" ><div class=\"h\"><a target=\"_blank\" href=\"https://shebanq.ancient-data.org/hebrew/word?version=c&amp;id=1ALi\" title=\"show this lexeme in SHEBANQ\">אַל־</a></div><div class=\"features\"> <span class=\"pdp\"><a href=\"https://shebanq.ancient-data.org/hebrew/text?book=Samuel_I&amp;chapter=25&amp;verse=25&amp;version=c&amp;mr=m&amp;qw=q&amp;tp=txt_p&amp;tr=hb&amp;wget=v&amp;qget=v&amp;nget=vt\" title=\"1_Samuel 25:25\" sec=\"1_Samuel 25:25\">nega</a></span> <span class=\"gloss\">not</span> <span class=\"g_cons xft\"><span class=\"f\">g_cons=</span>>L</span> <span class=\"sp xft\"><span class=\"f\">sp=</span>nega</span></div></div></div></div><div class=\"patom  \" >\n",
       "        <div class=\"phrase \" >\n",
       "            <a href=\"https://shebanq.ancient-data.org/hebrew/text?book=Samuel_I&amp;chapter=25&amp;verse=25&amp;version=c&amp;mr=m&amp;qw=q&amp;tp=txt_p&amp;tr=hb&amp;wget=v&amp;qget=v&amp;nget=vt\" title=\"1_Samuel 25:25\" sec=\"1_Samuel 25:25\">phrase</a>   <span class=\"function\">Intj</span> <span class=\"typ\">InjP</span>\n",
       "        </div>\n",
       "        <div class=\"atoms\">\n",
       "                    <div class=\"word  \" ><div class=\"h\"><a target=\"_blank\" href=\"https://shebanq.ancient-data.org/hebrew/word?version=c&amp;id=1NA\" title=\"show this lexeme in SHEBANQ\">נָ֣א </a></div><div class=\"features\"> <span class=\"pdp\"><a href=\"https://shebanq.ancient-data.org/hebrew/text?book=Samuel_I&amp;chapter=25&amp;verse=25&amp;version=c&amp;mr=m&amp;qw=q&amp;tp=txt_p&amp;tr=hb&amp;wget=v&amp;qget=v&amp;nget=vt\" title=\"1_Samuel 25:25\" sec=\"1_Samuel 25:25\">intj</a></span> <span class=\"gloss\">yeah</span> <span class=\"g_cons xft\"><span class=\"f\">g_cons=</span>N></span> <span class=\"sp xft\"><span class=\"f\">sp=</span>intj</span></div></div></div></div><div class=\"patom  \" >\n",
       "        <div class=\"phrase \" >\n",
       "            <a href=\"https://shebanq.ancient-data.org/hebrew/text?book=Samuel_I&amp;chapter=25&amp;verse=25&amp;version=c&amp;mr=m&amp;qw=q&amp;tp=txt_p&amp;tr=hb&amp;wget=v&amp;qget=v&amp;nget=vt\" title=\"1_Samuel 25:25\" sec=\"1_Samuel 25:25\">phrase</a>   <span class=\"function\">Pred</span> <span class=\"typ\">VP</span>\n",
       "        </div>\n",
       "        <div class=\"atoms\">\n",
       "                    <div class=\"word  \" ><div class=\"h\"><a target=\"_blank\" href=\"https://shebanq.ancient-data.org/hebrew/word?version=c&amp;id=1FJMv\" title=\"show this lexeme in SHEBANQ\">יָשִׂ֣ים </a></div><div class=\"features\"> <span class=\"pdp\"><a href=\"https://shebanq.ancient-data.org/hebrew/text?book=Samuel_I&amp;chapter=25&amp;verse=25&amp;version=c&amp;mr=m&amp;qw=q&amp;tp=txt_p&amp;tr=hb&amp;wget=v&amp;qget=v&amp;nget=vt\" title=\"1_Samuel 25:25\" sec=\"1_Samuel 25:25\">verb</a></span> <span class=\"gloss\">put</span> <span class=\"vs\">qal</span> <span class=\"vt\">impf</span> <span class=\"g_cons xft\"><span class=\"f\">g_cons=</span>JFJM</span> <span class=\"sp xft\"><span class=\"f\">sp=</span>verb</span></div></div></div></div><div class=\"patom  \" >\n",
       "        <div class=\"phrase \" >\n",
       "            <a href=\"https://shebanq.ancient-data.org/hebrew/text?book=Samuel_I&amp;chapter=25&amp;verse=25&amp;version=c&amp;mr=m&amp;qw=q&amp;tp=txt_p&amp;tr=hb&amp;wget=v&amp;qget=v&amp;nget=vt\" title=\"1_Samuel 25:25\" sec=\"1_Samuel 25:25\">phrase</a>   <span class=\"function\">Subj</span> <span class=\"typ\">NP</span>\n",
       "        </div>\n",
       "        <div class=\"atoms\">\n",
       "                    <div class=\"word  \" ><div class=\"h\"><a target=\"_blank\" href=\"https://shebanq.ancient-data.org/hebrew/word?version=c&amp;id=1ADWNn\" title=\"show this lexeme in SHEBANQ\">אֲדֹנִ֣י׀ </a></div><div class=\"features\"> <span class=\"pdp\"><a href=\"https://shebanq.ancient-data.org/hebrew/text?book=Samuel_I&amp;chapter=25&amp;verse=25&amp;version=c&amp;mr=m&amp;qw=q&amp;tp=txt_p&amp;tr=hb&amp;wget=v&amp;qget=v&amp;nget=vt\" title=\"1_Samuel 25:25\" sec=\"1_Samuel 25:25\">subs</a></span> <span class=\"gloss\">lord</span> <span class=\"g_cons xft\"><span class=\"f\">g_cons=</span>>DNJ</span> <span class=\"sp xft\"><span class=\"f\">sp=</span>subs</span></div></div></div></div><div class=\"patom  \" >\n",
       "        <div class=\"phrase \" >\n",
       "            <a href=\"https://shebanq.ancient-data.org/hebrew/text?book=Samuel_I&amp;chapter=25&amp;verse=25&amp;version=c&amp;mr=m&amp;qw=q&amp;tp=txt_p&amp;tr=hb&amp;wget=v&amp;qget=v&amp;nget=vt\" title=\"1_Samuel 25:25\" sec=\"1_Samuel 25:25\">phrase</a>   <span class=\"function\">Objc</span> <span class=\"typ\">PP</span>\n",
       "        </div>\n",
       "        <div class=\"atoms\">\n",
       "                    <div class=\"word  \" ><div class=\"h\"><a target=\"_blank\" href=\"https://shebanq.ancient-data.org/hebrew/word?version=c&amp;id=1AT\" title=\"show this lexeme in SHEBANQ\">אֶת־</a></div><div class=\"features\"> <span class=\"pdp\"><a href=\"https://shebanq.ancient-data.org/hebrew/text?book=Samuel_I&amp;chapter=25&amp;verse=25&amp;version=c&amp;mr=m&amp;qw=q&amp;tp=txt_p&amp;tr=hb&amp;wget=v&amp;qget=v&amp;nget=vt\" title=\"1_Samuel 25:25\" sec=\"1_Samuel 25:25\">prep</a></span> <span class=\"gloss\">&lt;object marker></span> <span class=\"g_cons xft\"><span class=\"f\">g_cons=</span>>T</span> <span class=\"sp xft\"><span class=\"f\">sp=</span>prep</span></div></div><div class=\"word  \" ><div class=\"h\"><a target=\"_blank\" href=\"https://shebanq.ancient-data.org/hebrew/word?version=c&amp;id=1LBn\" title=\"show this lexeme in SHEBANQ\">לִבֹּ֡ו </a></div><div class=\"features\"> <span class=\"pdp\"><a href=\"https://shebanq.ancient-data.org/hebrew/text?book=Samuel_I&amp;chapter=25&amp;verse=25&amp;version=c&amp;mr=m&amp;qw=q&amp;tp=txt_p&amp;tr=hb&amp;wget=v&amp;qget=v&amp;nget=vt\" title=\"1_Samuel 25:25\" sec=\"1_Samuel 25:25\">subs</a></span> <span class=\"gloss\">heart</span> <span class=\"g_cons xft\"><span class=\"f\">g_cons=</span>LBW</span> <span class=\"sp xft\"><span class=\"f\">sp=</span>subs</span></div></div></div></div><div class=\"patom  l hl\" >\n",
       "        <div class=\"phrase \" >\n",
       "            <a href=\"https://shebanq.ancient-data.org/hebrew/text?book=Samuel_I&amp;chapter=25&amp;verse=25&amp;version=c&amp;mr=m&amp;qw=q&amp;tp=txt_p&amp;tr=hb&amp;wget=v&amp;qget=v&amp;nget=vt\" title=\"1_Samuel 25:25\" sec=\"1_Samuel 25:25\">phrase</a>   <span class=\"function\">Cmpl</span> <span class=\"typ\">PP</span>\n",
       "        </div>\n",
       "        <div class=\"atoms\">\n",
       "                    <div class=\"word  \" ><div class=\"h\"><a target=\"_blank\" href=\"https://shebanq.ancient-data.org/hebrew/word?version=c&amp;id=1AL\" title=\"show this lexeme in SHEBANQ\">אֶל־</a></div><div class=\"features\"> <span class=\"pdp\"><a href=\"https://shebanq.ancient-data.org/hebrew/text?book=Samuel_I&amp;chapter=25&amp;verse=25&amp;version=c&amp;mr=m&amp;qw=q&amp;tp=txt_p&amp;tr=hb&amp;wget=v&amp;qget=v&amp;nget=vt\" title=\"1_Samuel 25:25\" sec=\"1_Samuel 25:25\">prep</a></span> <span class=\"gloss\">to</span> <span class=\"g_cons xft\"><span class=\"f\">g_cons=</span>>L</span> <span class=\"sp xft\"><span class=\"f\">sp=</span>prep</span></div></div><div class=\"word  \" ><div class=\"h\"><a target=\"_blank\" href=\"https://shebanq.ancient-data.org/hebrew/word?version=c&amp;id=1AJCn\" title=\"show this lexeme in SHEBANQ\">אִישׁ֩ </a></div><div class=\"features\"> <span class=\"pdp\"><a href=\"https://shebanq.ancient-data.org/hebrew/text?book=Samuel_I&amp;chapter=25&amp;verse=25&amp;version=c&amp;mr=m&amp;qw=q&amp;tp=txt_p&amp;tr=hb&amp;wget=v&amp;qget=v&amp;nget=vt\" title=\"1_Samuel 25:25\" sec=\"1_Samuel 25:25\">subs</a></span> <span class=\"gloss\">man</span> <span class=\"g_cons xft\"><span class=\"f\">g_cons=</span>>JC</span> <span class=\"sp xft\"><span class=\"f\">sp=</span>subs</span></div></div><div class=\"word  \" ><div class=\"h\"><a target=\"_blank\" href=\"https://shebanq.ancient-data.org/hebrew/word?version=c&amp;id=1H\" title=\"show this lexeme in SHEBANQ\">הַ</a></div><div class=\"features\"> <span class=\"pdp\"><a href=\"https://shebanq.ancient-data.org/hebrew/text?book=Samuel_I&amp;chapter=25&amp;verse=25&amp;version=c&amp;mr=m&amp;qw=q&amp;tp=txt_p&amp;tr=hb&amp;wget=v&amp;qget=v&amp;nget=vt\" title=\"1_Samuel 25:25\" sec=\"1_Samuel 25:25\">art</a></span> <span class=\"gloss\">the</span> <span class=\"g_cons xft\"><span class=\"f\">g_cons=</span>H</span> <span class=\"sp xft\"><span class=\"f\">sp=</span>art</span></div></div><div class=\"word  \" ><div class=\"h\"><a target=\"_blank\" href=\"https://shebanq.ancient-data.org/hebrew/word?version=c&amp;id=1BLJOLn\" title=\"show this lexeme in SHEBANQ\">בְּלִיַּ֨עַל </a></div><div class=\"features\"> <span class=\"pdp\"><a href=\"https://shebanq.ancient-data.org/hebrew/text?book=Samuel_I&amp;chapter=25&amp;verse=25&amp;version=c&amp;mr=m&amp;qw=q&amp;tp=txt_p&amp;tr=hb&amp;wget=v&amp;qget=v&amp;nget=vt\" title=\"1_Samuel 25:25\" sec=\"1_Samuel 25:25\">subs</a></span> <span class=\"gloss\">wickedness</span> <span class=\"g_cons xft\"><span class=\"f\">g_cons=</span>BLJ&lt;L</span> <span class=\"sp xft\"><span class=\"f\">sp=</span>subs</span></div></div><div class=\"word  \" ><div class=\"h\"><a target=\"_blank\" href=\"https://shebanq.ancient-data.org/hebrew/word?version=c&amp;id=1H\" title=\"show this lexeme in SHEBANQ\">הַ</a></div><div class=\"features\"> <span class=\"pdp\"><a href=\"https://shebanq.ancient-data.org/hebrew/text?book=Samuel_I&amp;chapter=25&amp;verse=25&amp;version=c&amp;mr=m&amp;qw=q&amp;tp=txt_p&amp;tr=hb&amp;wget=v&amp;qget=v&amp;nget=vt\" title=\"1_Samuel 25:25\" sec=\"1_Samuel 25:25\">art</a></span> <span class=\"gloss\">the</span> <span class=\"g_cons xft\"><span class=\"f\">g_cons=</span>H</span> <span class=\"sp xft\"><span class=\"f\">sp=</span>art</span></div></div><div class=\"word  \" ><div class=\"h\"><a target=\"_blank\" href=\"https://shebanq.ancient-data.org/hebrew/word?version=c&amp;id=1ZH\" title=\"show this lexeme in SHEBANQ\">זֶּ֜ה </a></div><div class=\"features\"> <span class=\"pdp\"><a href=\"https://shebanq.ancient-data.org/hebrew/text?book=Samuel_I&amp;chapter=25&amp;verse=25&amp;version=c&amp;mr=m&amp;qw=q&amp;tp=txt_p&amp;tr=hb&amp;wget=v&amp;qget=v&amp;nget=vt\" title=\"1_Samuel 25:25\" sec=\"1_Samuel 25:25\">prde</a></span> <span class=\"gloss\">this</span> <span class=\"g_cons xft\"><span class=\"f\">g_cons=</span>ZH</span> <span class=\"sp xft\"><span class=\"f\">sp=</span>prde</span></div></div></div></div><div class=\"patom  r \" >\n",
       "        <div class=\"phrase \" >\n",
       "            <a href=\"https://shebanq.ancient-data.org/hebrew/text?book=Samuel_I&amp;chapter=25&amp;verse=25&amp;version=c&amp;mr=m&amp;qw=q&amp;tp=txt_p&amp;tr=hb&amp;wget=v&amp;qget=v&amp;nget=vt\" title=\"1_Samuel 25:25\" sec=\"1_Samuel 25:25\">phrase</a>   <span class=\"function\">Cmpl</span> <span class=\"typ\">PP</span>\n",
       "        </div>\n",
       "        <div class=\"atoms\">\n",
       "                    <div class=\"word  \" ><div class=\"h\"><a target=\"_blank\" href=\"https://shebanq.ancient-data.org/hebrew/word?version=c&amp;id=1OL\" title=\"show this lexeme in SHEBANQ\">עַל־</a></div><div class=\"features\"> <span class=\"pdp\"><a href=\"https://shebanq.ancient-data.org/hebrew/text?book=Samuel_I&amp;chapter=25&amp;verse=25&amp;version=c&amp;mr=m&amp;qw=q&amp;tp=txt_p&amp;tr=hb&amp;wget=v&amp;qget=v&amp;nget=vt\" title=\"1_Samuel 25:25\" sec=\"1_Samuel 25:25\">prep</a></span> <span class=\"gloss\">upon</span> <span class=\"g_cons xft\"><span class=\"f\">g_cons=</span>&lt;L</span> <span class=\"sp xft\"><span class=\"f\">sp=</span>prep</span></div></div><div class=\"word  \" ><div class=\"h\"><a target=\"_blank\" href=\"https://shebanq.ancient-data.org/hebrew/word?version=c&amp;id=1NBLiiin\" title=\"show this lexeme in SHEBANQ\">נָבָ֗ל </a></div><div class=\"features\"> <span class=\"pdp\"><a href=\"https://shebanq.ancient-data.org/hebrew/text?book=Samuel_I&amp;chapter=25&amp;verse=25&amp;version=c&amp;mr=m&amp;qw=q&amp;tp=txt_p&amp;tr=hb&amp;wget=v&amp;qget=v&amp;nget=vt\" title=\"1_Samuel 25:25\" sec=\"1_Samuel 25:25\">nmpr</a></span> <span class=\"gloss\">Nabal</span> <span class=\"g_cons xft\"><span class=\"f\">g_cons=</span>NBL</span> <span class=\"sp xft\"><span class=\"f\">sp=</span>nmpr</span></div></div></div></div></div></div></div></div><div class=\"satom  \" >\n",
       "        <div class=\"sentence \" >\n",
       "            <a href=\"https://shebanq.ancient-data.org/hebrew/text?book=Samuel_I&amp;chapter=25&amp;verse=25&amp;version=c&amp;mr=m&amp;qw=q&amp;tp=txt_p&amp;tr=hb&amp;wget=v&amp;qget=v&amp;nget=vt\" title=\"1_Samuel 25:25\" sec=\"1_Samuel 25:25\">sentence</a>   <span class=\"number\">101|2608</span>\n",
       "        </div>\n",
       "        <div class=\"atoms\">\n",
       "                    <div class=\"catom  \" >\n",
       "        <div class=\"clause \" >\n",
       "            <a href=\"https://shebanq.ancient-data.org/hebrew/text?book=Samuel_I&amp;chapter=25&amp;verse=25&amp;version=c&amp;mr=m&amp;qw=q&amp;tp=txt_p&amp;tr=hb&amp;wget=v&amp;qget=v&amp;nget=vt\" title=\"1_Samuel 25:25\" sec=\"1_Samuel 25:25\">clause</a>   <span class=\"typ\">CPen</span>\n",
       "        </div>\n",
       "        <div class=\"atoms\">\n",
       "                    <div class=\"patom  \" >\n",
       "        <div class=\"phrase \" >\n",
       "            <a href=\"https://shebanq.ancient-data.org/hebrew/text?book=Samuel_I&amp;chapter=25&amp;verse=25&amp;version=c&amp;mr=m&amp;qw=q&amp;tp=txt_p&amp;tr=hb&amp;wget=v&amp;qget=v&amp;nget=vt\" title=\"1_Samuel 25:25\" sec=\"1_Samuel 25:25\">phrase</a>   <span class=\"function\">Conj</span> <span class=\"typ\">CP</span>\n",
       "        </div>\n",
       "        <div class=\"atoms\">\n",
       "                    <div class=\"word  \" ><div class=\"h\"><a target=\"_blank\" href=\"https://shebanq.ancient-data.org/hebrew/word?version=c&amp;id=1KJ\" title=\"show this lexeme in SHEBANQ\">כִּ֤י </a></div><div class=\"features\"> <span class=\"pdp\"><a href=\"https://shebanq.ancient-data.org/hebrew/text?book=Samuel_I&amp;chapter=25&amp;verse=25&amp;version=c&amp;mr=m&amp;qw=q&amp;tp=txt_p&amp;tr=hb&amp;wget=v&amp;qget=v&amp;nget=vt\" title=\"1_Samuel 25:25\" sec=\"1_Samuel 25:25\">conj</a></span> <span class=\"gloss\">that</span> <span class=\"g_cons xft\"><span class=\"f\">g_cons=</span>KJ</span> <span class=\"sp xft\"><span class=\"f\">sp=</span>conj</span></div></div></div></div><div class=\"patom  \" >\n",
       "        <div class=\"phrase \" >\n",
       "            <a href=\"https://shebanq.ancient-data.org/hebrew/text?book=Samuel_I&amp;chapter=25&amp;verse=25&amp;version=c&amp;mr=m&amp;qw=q&amp;tp=txt_p&amp;tr=hb&amp;wget=v&amp;qget=v&amp;nget=vt\" title=\"1_Samuel 25:25\" sec=\"1_Samuel 25:25\">phrase</a>   <span class=\"function\">Frnt</span> <span class=\"typ\">PP</span>\n",
       "        </div>\n",
       "        <div class=\"atoms\">\n",
       "                    <div class=\"word  \" ><div class=\"h\"><a target=\"_blank\" href=\"https://shebanq.ancient-data.org/hebrew/word?version=c&amp;id=1K\" title=\"show this lexeme in SHEBANQ\">כִ</a></div><div class=\"features\"> <span class=\"pdp\"><a href=\"https://shebanq.ancient-data.org/hebrew/text?book=Samuel_I&amp;chapter=25&amp;verse=25&amp;version=c&amp;mr=m&amp;qw=q&amp;tp=txt_p&amp;tr=hb&amp;wget=v&amp;qget=v&amp;nget=vt\" title=\"1_Samuel 25:25\" sec=\"1_Samuel 25:25\">prep</a></span> <span class=\"gloss\">as</span> <span class=\"g_cons xft\"><span class=\"f\">g_cons=</span>K</span> <span class=\"sp xft\"><span class=\"f\">sp=</span>prep</span></div></div><div class=\"word  \" ><div class=\"h\"><a target=\"_blank\" href=\"https://shebanq.ancient-data.org/hebrew/word?version=c&amp;id=1CMn\" title=\"show this lexeme in SHEBANQ\">שְׁמֹו֙ </a></div><div class=\"features\"> <span class=\"pdp\"><a href=\"https://shebanq.ancient-data.org/hebrew/text?book=Samuel_I&amp;chapter=25&amp;verse=25&amp;version=c&amp;mr=m&amp;qw=q&amp;tp=txt_p&amp;tr=hb&amp;wget=v&amp;qget=v&amp;nget=vt\" title=\"1_Samuel 25:25\" sec=\"1_Samuel 25:25\">subs</a></span> <span class=\"gloss\">name</span> <span class=\"g_cons xft\"><span class=\"f\">g_cons=</span>CMW</span> <span class=\"sp xft\"><span class=\"f\">sp=</span>subs</span></div></div></div></div></div></div><div class=\"catom  \" >\n",
       "        <div class=\"clause \" >\n",
       "            <a href=\"https://shebanq.ancient-data.org/hebrew/text?book=Samuel_I&amp;chapter=25&amp;verse=25&amp;version=c&amp;mr=m&amp;qw=q&amp;tp=txt_p&amp;tr=hb&amp;wget=v&amp;qget=v&amp;nget=vt\" title=\"1_Samuel 25:25\" sec=\"1_Samuel 25:25\">clause</a>   <span class=\"rela\">Resu</span> <span class=\"typ\">NmCl</span>\n",
       "        </div>\n",
       "        <div class=\"atoms\">\n",
       "                    <div class=\"patom  \" >\n",
       "        <div class=\"phrase \" >\n",
       "            <a href=\"https://shebanq.ancient-data.org/hebrew/text?book=Samuel_I&amp;chapter=25&amp;verse=25&amp;version=c&amp;mr=m&amp;qw=q&amp;tp=txt_p&amp;tr=hb&amp;wget=v&amp;qget=v&amp;nget=vt\" title=\"1_Samuel 25:25\" sec=\"1_Samuel 25:25\">phrase</a>   <span class=\"function\">PreC</span> <span class=\"typ\">AdvP</span>\n",
       "        </div>\n",
       "        <div class=\"atoms\">\n",
       "                    <div class=\"word  \" ><div class=\"h\"><a target=\"_blank\" href=\"https://shebanq.ancient-data.org/hebrew/word?version=c&amp;id=1KN\" title=\"show this lexeme in SHEBANQ\">כֶּן־</a></div><div class=\"features\"> <span class=\"pdp\"><a href=\"https://shebanq.ancient-data.org/hebrew/text?book=Samuel_I&amp;chapter=25&amp;verse=25&amp;version=c&amp;mr=m&amp;qw=q&amp;tp=txt_p&amp;tr=hb&amp;wget=v&amp;qget=v&amp;nget=vt\" title=\"1_Samuel 25:25\" sec=\"1_Samuel 25:25\">advb</a></span> <span class=\"gloss\">thus</span> <span class=\"g_cons xft\"><span class=\"f\">g_cons=</span>KN</span> <span class=\"sp xft\"><span class=\"f\">sp=</span>advb</span></div></div></div></div><div class=\"patom  \" >\n",
       "        <div class=\"phrase \" >\n",
       "            <a href=\"https://shebanq.ancient-data.org/hebrew/text?book=Samuel_I&amp;chapter=25&amp;verse=25&amp;version=c&amp;mr=m&amp;qw=q&amp;tp=txt_p&amp;tr=hb&amp;wget=v&amp;qget=v&amp;nget=vt\" title=\"1_Samuel 25:25\" sec=\"1_Samuel 25:25\">phrase</a>   <span class=\"function\">Subj</span> <span class=\"typ\">PPrP</span>\n",
       "        </div>\n",
       "        <div class=\"atoms\">\n",
       "                    <div class=\"word  \" ><div class=\"h\"><a target=\"_blank\" href=\"https://shebanq.ancient-data.org/hebrew/word?version=c&amp;id=1HWA\" title=\"show this lexeme in SHEBANQ\">ה֔וּא </a></div><div class=\"features\"> <span class=\"pdp\"><a href=\"https://shebanq.ancient-data.org/hebrew/text?book=Samuel_I&amp;chapter=25&amp;verse=25&amp;version=c&amp;mr=m&amp;qw=q&amp;tp=txt_p&amp;tr=hb&amp;wget=v&amp;qget=v&amp;nget=vt\" title=\"1_Samuel 25:25\" sec=\"1_Samuel 25:25\">prps</a></span> <span class=\"gloss\">he</span> <span class=\"g_cons xft\"><span class=\"f\">g_cons=</span>HW></span> <span class=\"sp xft\"><span class=\"f\">sp=</span>prps</span></div></div></div></div></div></div></div></div><div class=\"satom  \" >\n",
       "        <div class=\"sentence \" >\n",
       "            <a href=\"https://shebanq.ancient-data.org/hebrew/text?book=Samuel_I&amp;chapter=25&amp;verse=25&amp;version=c&amp;mr=m&amp;qw=q&amp;tp=txt_p&amp;tr=hb&amp;wget=v&amp;qget=v&amp;nget=vt\" title=\"1_Samuel 25:25\" sec=\"1_Samuel 25:25\">sentence</a>   <span class=\"number\">102|2609</span>\n",
       "        </div>\n",
       "        <div class=\"atoms\">\n",
       "                    <div class=\"catom  \" >\n",
       "        <div class=\"clause \" >\n",
       "            <a href=\"https://shebanq.ancient-data.org/hebrew/text?book=Samuel_I&amp;chapter=25&amp;verse=25&amp;version=c&amp;mr=m&amp;qw=q&amp;tp=txt_p&amp;tr=hb&amp;wget=v&amp;qget=v&amp;nget=vt\" title=\"1_Samuel 25:25\" sec=\"1_Samuel 25:25\">clause</a>   <span class=\"typ\">NmCl</span>\n",
       "        </div>\n",
       "        <div class=\"atoms\">\n",
       "                    <div class=\"patom  \" >\n",
       "        <div class=\"phrase \" >\n",
       "            <a href=\"https://shebanq.ancient-data.org/hebrew/text?book=Samuel_I&amp;chapter=25&amp;verse=25&amp;version=c&amp;mr=m&amp;qw=q&amp;tp=txt_p&amp;tr=hb&amp;wget=v&amp;qget=v&amp;nget=vt\" title=\"1_Samuel 25:25\" sec=\"1_Samuel 25:25\">phrase</a>   <span class=\"function\">PreC</span> <span class=\"typ\">PrNP</span>\n",
       "        </div>\n",
       "        <div class=\"atoms\">\n",
       "                    <div class=\"word  \" ><div class=\"h\"><a target=\"_blank\" href=\"https://shebanq.ancient-data.org/hebrew/word?version=c&amp;id=1NBLiiin\" title=\"show this lexeme in SHEBANQ\">נָבָ֣ל </a></div><div class=\"features\"> <span class=\"pdp\"><a href=\"https://shebanq.ancient-data.org/hebrew/text?book=Samuel_I&amp;chapter=25&amp;verse=25&amp;version=c&amp;mr=m&amp;qw=q&amp;tp=txt_p&amp;tr=hb&amp;wget=v&amp;qget=v&amp;nget=vt\" title=\"1_Samuel 25:25\" sec=\"1_Samuel 25:25\">nmpr</a></span> <span class=\"gloss\">Nabal</span> <span class=\"g_cons xft\"><span class=\"f\">g_cons=</span>NBL</span> <span class=\"sp xft\"><span class=\"f\">sp=</span>nmpr</span></div></div></div></div><div class=\"patom  \" >\n",
       "        <div class=\"phrase \" >\n",
       "            <a href=\"https://shebanq.ancient-data.org/hebrew/text?book=Samuel_I&amp;chapter=25&amp;verse=25&amp;version=c&amp;mr=m&amp;qw=q&amp;tp=txt_p&amp;tr=hb&amp;wget=v&amp;qget=v&amp;nget=vt\" title=\"1_Samuel 25:25\" sec=\"1_Samuel 25:25\">phrase</a>   <span class=\"function\">Subj</span> <span class=\"typ\">NP</span>\n",
       "        </div>\n",
       "        <div class=\"atoms\">\n",
       "                    <div class=\"word  \" ><div class=\"h\"><a target=\"_blank\" href=\"https://shebanq.ancient-data.org/hebrew/word?version=c&amp;id=1CMn\" title=\"show this lexeme in SHEBANQ\">שְׁמֹ֔ו </a></div><div class=\"features\"> <span class=\"pdp\"><a href=\"https://shebanq.ancient-data.org/hebrew/text?book=Samuel_I&amp;chapter=25&amp;verse=25&amp;version=c&amp;mr=m&amp;qw=q&amp;tp=txt_p&amp;tr=hb&amp;wget=v&amp;qget=v&amp;nget=vt\" title=\"1_Samuel 25:25\" sec=\"1_Samuel 25:25\">subs</a></span> <span class=\"gloss\">name</span> <span class=\"g_cons xft\"><span class=\"f\">g_cons=</span>CMW</span> <span class=\"sp xft\"><span class=\"f\">sp=</span>subs</span></div></div></div></div></div></div></div></div><div class=\"satom  \" >\n",
       "        <div class=\"sentence \" >\n",
       "            <a href=\"https://shebanq.ancient-data.org/hebrew/text?book=Samuel_I&amp;chapter=25&amp;verse=25&amp;version=c&amp;mr=m&amp;qw=q&amp;tp=txt_p&amp;tr=hb&amp;wget=v&amp;qget=v&amp;nget=vt\" title=\"1_Samuel 25:25\" sec=\"1_Samuel 25:25\">sentence</a>   <span class=\"number\">103|2610</span>\n",
       "        </div>\n",
       "        <div class=\"atoms\">\n",
       "                    <div class=\"catom  \" >\n",
       "        <div class=\"clause \" >\n",
       "            <a href=\"https://shebanq.ancient-data.org/hebrew/text?book=Samuel_I&amp;chapter=25&amp;verse=25&amp;version=c&amp;mr=m&amp;qw=q&amp;tp=txt_p&amp;tr=hb&amp;wget=v&amp;qget=v&amp;nget=vt\" title=\"1_Samuel 25:25\" sec=\"1_Samuel 25:25\">clause</a>   <span class=\"typ\">NmCl</span>\n",
       "        </div>\n",
       "        <div class=\"atoms\">\n",
       "                    <div class=\"patom  \" >\n",
       "        <div class=\"phrase \" >\n",
       "            <a href=\"https://shebanq.ancient-data.org/hebrew/text?book=Samuel_I&amp;chapter=25&amp;verse=25&amp;version=c&amp;mr=m&amp;qw=q&amp;tp=txt_p&amp;tr=hb&amp;wget=v&amp;qget=v&amp;nget=vt\" title=\"1_Samuel 25:25\" sec=\"1_Samuel 25:25\">phrase</a>   <span class=\"function\">Conj</span> <span class=\"typ\">CP</span>\n",
       "        </div>\n",
       "        <div class=\"atoms\">\n",
       "                    <div class=\"word  \" ><div class=\"h\"><a target=\"_blank\" href=\"https://shebanq.ancient-data.org/hebrew/word?version=c&amp;id=1W\" title=\"show this lexeme in SHEBANQ\">וּ</a></div><div class=\"features\"> <span class=\"pdp\"><a href=\"https://shebanq.ancient-data.org/hebrew/text?book=Samuel_I&amp;chapter=25&amp;verse=25&amp;version=c&amp;mr=m&amp;qw=q&amp;tp=txt_p&amp;tr=hb&amp;wget=v&amp;qget=v&amp;nget=vt\" title=\"1_Samuel 25:25\" sec=\"1_Samuel 25:25\">conj</a></span> <span class=\"gloss\">and</span> <span class=\"g_cons xft\"><span class=\"f\">g_cons=</span>W</span> <span class=\"sp xft\"><span class=\"f\">sp=</span>conj</span></div></div></div></div><div class=\"patom  \" >\n",
       "        <div class=\"phrase \" >\n",
       "            <a href=\"https://shebanq.ancient-data.org/hebrew/text?book=Samuel_I&amp;chapter=25&amp;verse=25&amp;version=c&amp;mr=m&amp;qw=q&amp;tp=txt_p&amp;tr=hb&amp;wget=v&amp;qget=v&amp;nget=vt\" title=\"1_Samuel 25:25\" sec=\"1_Samuel 25:25\">phrase</a>   <span class=\"function\">Subj</span> <span class=\"typ\">NP</span>\n",
       "        </div>\n",
       "        <div class=\"atoms\">\n",
       "                    <div class=\"word  \" ><div class=\"h\"><a target=\"_blank\" href=\"https://shebanq.ancient-data.org/hebrew/word?version=c&amp;id=1NBLHn\" title=\"show this lexeme in SHEBANQ\">נְבָלָ֖ה </a></div><div class=\"features\"> <span class=\"pdp\"><a href=\"https://shebanq.ancient-data.org/hebrew/text?book=Samuel_I&amp;chapter=25&amp;verse=25&amp;version=c&amp;mr=m&amp;qw=q&amp;tp=txt_p&amp;tr=hb&amp;wget=v&amp;qget=v&amp;nget=vt\" title=\"1_Samuel 25:25\" sec=\"1_Samuel 25:25\">subs</a></span> <span class=\"gloss\">stupidity</span> <span class=\"g_cons xft\"><span class=\"f\">g_cons=</span>NBLH</span> <span class=\"sp xft\"><span class=\"f\">sp=</span>subs</span></div></div></div></div><div class=\"patom  \" >\n",
       "        <div class=\"phrase \" >\n",
       "            <a href=\"https://shebanq.ancient-data.org/hebrew/text?book=Samuel_I&amp;chapter=25&amp;verse=25&amp;version=c&amp;mr=m&amp;qw=q&amp;tp=txt_p&amp;tr=hb&amp;wget=v&amp;qget=v&amp;nget=vt\" title=\"1_Samuel 25:25\" sec=\"1_Samuel 25:25\">phrase</a>   <span class=\"function\">PreC</span> <span class=\"typ\">PP</span>\n",
       "        </div>\n",
       "        <div class=\"atoms\">\n",
       "                    <div class=\"word  \" ><div class=\"h\"><a target=\"_blank\" href=\"https://shebanq.ancient-data.org/hebrew/word?version=c&amp;id=1OM\" title=\"show this lexeme in SHEBANQ\">עִמֹּ֑ו </a></div><div class=\"features\"> <span class=\"pdp\"><a href=\"https://shebanq.ancient-data.org/hebrew/text?book=Samuel_I&amp;chapter=25&amp;verse=25&amp;version=c&amp;mr=m&amp;qw=q&amp;tp=txt_p&amp;tr=hb&amp;wget=v&amp;qget=v&amp;nget=vt\" title=\"1_Samuel 25:25\" sec=\"1_Samuel 25:25\">prep</a></span> <span class=\"gloss\">with</span> <span class=\"g_cons xft\"><span class=\"f\">g_cons=</span>&lt;MW</span> <span class=\"sp xft\"><span class=\"f\">sp=</span>prep</span></div></div></div></div></div></div></div></div><div class=\"satom  \" >\n",
       "        <div class=\"sentence \" >\n",
       "            <a href=\"https://shebanq.ancient-data.org/hebrew/text?book=Samuel_I&amp;chapter=25&amp;verse=25&amp;version=c&amp;mr=m&amp;qw=q&amp;tp=txt_p&amp;tr=hb&amp;wget=v&amp;qget=v&amp;nget=vt\" title=\"1_Samuel 25:25\" sec=\"1_Samuel 25:25\">sentence</a>   <span class=\"number\">104|2611</span>\n",
       "        </div>\n",
       "        <div class=\"atoms\">\n",
       "                    <div class=\"catom  \" >\n",
       "        <div class=\"clause \" >\n",
       "            <a href=\"https://shebanq.ancient-data.org/hebrew/text?book=Samuel_I&amp;chapter=25&amp;verse=25&amp;version=c&amp;mr=m&amp;qw=q&amp;tp=txt_p&amp;tr=hb&amp;wget=v&amp;qget=v&amp;nget=vt\" title=\"1_Samuel 25:25\" sec=\"1_Samuel 25:25\">clause</a>   <span class=\"typ\">WXQt</span>\n",
       "        </div>\n",
       "        <div class=\"atoms\">\n",
       "                    <div class=\"patom  \" >\n",
       "        <div class=\"phrase \" >\n",
       "            <a href=\"https://shebanq.ancient-data.org/hebrew/text?book=Samuel_I&amp;chapter=25&amp;verse=25&amp;version=c&amp;mr=m&amp;qw=q&amp;tp=txt_p&amp;tr=hb&amp;wget=v&amp;qget=v&amp;nget=vt\" title=\"1_Samuel 25:25\" sec=\"1_Samuel 25:25\">phrase</a>   <span class=\"function\">Conj</span> <span class=\"typ\">CP</span>\n",
       "        </div>\n",
       "        <div class=\"atoms\">\n",
       "                    <div class=\"word  \" ><div class=\"h\"><a target=\"_blank\" href=\"https://shebanq.ancient-data.org/hebrew/word?version=c&amp;id=1W\" title=\"show this lexeme in SHEBANQ\">וַֽ</a></div><div class=\"features\"> <span class=\"pdp\"><a href=\"https://shebanq.ancient-data.org/hebrew/text?book=Samuel_I&amp;chapter=25&amp;verse=25&amp;version=c&amp;mr=m&amp;qw=q&amp;tp=txt_p&amp;tr=hb&amp;wget=v&amp;qget=v&amp;nget=vt\" title=\"1_Samuel 25:25\" sec=\"1_Samuel 25:25\">conj</a></span> <span class=\"gloss\">and</span> <span class=\"g_cons xft\"><span class=\"f\">g_cons=</span>W</span> <span class=\"sp xft\"><span class=\"f\">sp=</span>conj</span></div></div></div></div><div class=\"patom  l \" >\n",
       "        <div class=\"phrase \" >\n",
       "            <a href=\"https://shebanq.ancient-data.org/hebrew/text?book=Samuel_I&amp;chapter=25&amp;verse=25&amp;version=c&amp;mr=m&amp;qw=q&amp;tp=txt_p&amp;tr=hb&amp;wget=v&amp;qget=v&amp;nget=vt\" title=\"1_Samuel 25:25\" sec=\"1_Samuel 25:25\">phrase</a>   <span class=\"function\">Subj</span> <span class=\"typ\">PPrP</span>\n",
       "        </div>\n",
       "        <div class=\"atoms\">\n",
       "                    <div class=\"word  \" ><div class=\"h\"><a target=\"_blank\" href=\"https://shebanq.ancient-data.org/hebrew/word?version=c&amp;id=1ANJ\" title=\"show this lexeme in SHEBANQ\">אֲנִי֙ </a></div><div class=\"features\"> <span class=\"pdp\"><a href=\"https://shebanq.ancient-data.org/hebrew/text?book=Samuel_I&amp;chapter=25&amp;verse=25&amp;version=c&amp;mr=m&amp;qw=q&amp;tp=txt_p&amp;tr=hb&amp;wget=v&amp;qget=v&amp;nget=vt\" title=\"1_Samuel 25:25\" sec=\"1_Samuel 25:25\">prps</a></span> <span class=\"gloss\">i</span> <span class=\"g_cons xft\"><span class=\"f\">g_cons=</span>>NJ</span> <span class=\"sp xft\"><span class=\"f\">sp=</span>prps</span></div></div></div></div><div class=\"patom  r \" >\n",
       "        <div class=\"phrase \" >\n",
       "            <a href=\"https://shebanq.ancient-data.org/hebrew/text?book=Samuel_I&amp;chapter=25&amp;verse=25&amp;version=c&amp;mr=m&amp;qw=q&amp;tp=txt_p&amp;tr=hb&amp;wget=v&amp;qget=v&amp;nget=vt\" title=\"1_Samuel 25:25\" sec=\"1_Samuel 25:25\">phrase</a>   <span class=\"function\">Subj</span> <span class=\"typ\">PPrP|NP</span>\n",
       "        </div>\n",
       "        <div class=\"atoms\">\n",
       "                    <div class=\"word  \" ><div class=\"h\"><a target=\"_blank\" href=\"https://shebanq.ancient-data.org/hebrew/word?version=c&amp;id=1AMHn\" title=\"show this lexeme in SHEBANQ\">אֲמָ֣תְךָ֔ </a></div><div class=\"features\"> <span class=\"pdp\"><a href=\"https://shebanq.ancient-data.org/hebrew/text?book=Samuel_I&amp;chapter=25&amp;verse=25&amp;version=c&amp;mr=m&amp;qw=q&amp;tp=txt_p&amp;tr=hb&amp;wget=v&amp;qget=v&amp;nget=vt\" title=\"1_Samuel 25:25\" sec=\"1_Samuel 25:25\">subs</a></span> <span class=\"gloss\">handmaid</span> <span class=\"g_cons xft\"><span class=\"f\">g_cons=</span>>MTK</span> <span class=\"sp xft\"><span class=\"f\">sp=</span>subs</span></div></div></div></div><div class=\"patom  \" >\n",
       "        <div class=\"phrase \" >\n",
       "            <a href=\"https://shebanq.ancient-data.org/hebrew/text?book=Samuel_I&amp;chapter=25&amp;verse=25&amp;version=c&amp;mr=m&amp;qw=q&amp;tp=txt_p&amp;tr=hb&amp;wget=v&amp;qget=v&amp;nget=vt\" title=\"1_Samuel 25:25\" sec=\"1_Samuel 25:25\">phrase</a>   <span class=\"function\">Nega</span> <span class=\"typ\">NegP</span>\n",
       "        </div>\n",
       "        <div class=\"atoms\">\n",
       "                    <div class=\"word  \" ><div class=\"h\"><a target=\"_blank\" href=\"https://shebanq.ancient-data.org/hebrew/word?version=c&amp;id=1LA\" title=\"show this lexeme in SHEBANQ\">לֹ֥א </a></div><div class=\"features\"> <span class=\"pdp\"><a href=\"https://shebanq.ancient-data.org/hebrew/text?book=Samuel_I&amp;chapter=25&amp;verse=25&amp;version=c&amp;mr=m&amp;qw=q&amp;tp=txt_p&amp;tr=hb&amp;wget=v&amp;qget=v&amp;nget=vt\" title=\"1_Samuel 25:25\" sec=\"1_Samuel 25:25\">nega</a></span> <span class=\"gloss\">not</span> <span class=\"g_cons xft\"><span class=\"f\">g_cons=</span>L></span> <span class=\"sp xft\"><span class=\"f\">sp=</span>nega</span></div></div></div></div><div class=\"patom  \" >\n",
       "        <div class=\"phrase \" >\n",
       "            <a href=\"https://shebanq.ancient-data.org/hebrew/text?book=Samuel_I&amp;chapter=25&amp;verse=25&amp;version=c&amp;mr=m&amp;qw=q&amp;tp=txt_p&amp;tr=hb&amp;wget=v&amp;qget=v&amp;nget=vt\" title=\"1_Samuel 25:25\" sec=\"1_Samuel 25:25\">phrase</a>   <span class=\"function\">Pred</span> <span class=\"typ\">VP</span>\n",
       "        </div>\n",
       "        <div class=\"atoms\">\n",
       "                    <div class=\"word  \" ><div class=\"h\"><a target=\"_blank\" href=\"https://shebanq.ancient-data.org/hebrew/word?version=c&amp;id=1RAHv\" title=\"show this lexeme in SHEBANQ\">רָאִ֛יתִי </a></div><div class=\"features\"> <span class=\"pdp\"><a href=\"https://shebanq.ancient-data.org/hebrew/text?book=Samuel_I&amp;chapter=25&amp;verse=25&amp;version=c&amp;mr=m&amp;qw=q&amp;tp=txt_p&amp;tr=hb&amp;wget=v&amp;qget=v&amp;nget=vt\" title=\"1_Samuel 25:25\" sec=\"1_Samuel 25:25\">verb</a></span> <span class=\"gloss\">see</span> <span class=\"vs\">qal</span> <span class=\"vt\">perf</span> <span class=\"g_cons xft\"><span class=\"f\">g_cons=</span>R>JTJ</span> <span class=\"sp xft\"><span class=\"f\">sp=</span>verb</span></div></div></div></div><div class=\"patom  \" >\n",
       "        <div class=\"phrase \" >\n",
       "            <a href=\"https://shebanq.ancient-data.org/hebrew/text?book=Samuel_I&amp;chapter=25&amp;verse=25&amp;version=c&amp;mr=m&amp;qw=q&amp;tp=txt_p&amp;tr=hb&amp;wget=v&amp;qget=v&amp;nget=vt\" title=\"1_Samuel 25:25\" sec=\"1_Samuel 25:25\">phrase</a>   <span class=\"function\">Objc</span> <span class=\"typ\">PP</span>\n",
       "        </div>\n",
       "        <div class=\"atoms\">\n",
       "                    <div class=\"word  \" ><div class=\"h\"><a target=\"_blank\" href=\"https://shebanq.ancient-data.org/hebrew/word?version=c&amp;id=1AT\" title=\"show this lexeme in SHEBANQ\">אֶת־</a></div><div class=\"features\"> <span class=\"pdp\"><a href=\"https://shebanq.ancient-data.org/hebrew/text?book=Samuel_I&amp;chapter=25&amp;verse=25&amp;version=c&amp;mr=m&amp;qw=q&amp;tp=txt_p&amp;tr=hb&amp;wget=v&amp;qget=v&amp;nget=vt\" title=\"1_Samuel 25:25\" sec=\"1_Samuel 25:25\">prep</a></span> <span class=\"gloss\">&lt;object marker></span> <span class=\"g_cons xft\"><span class=\"f\">g_cons=</span>>T</span> <span class=\"sp xft\"><span class=\"f\">sp=</span>prep</span></div></div><div class=\"word  \" ><div class=\"h\"><a target=\"_blank\" href=\"https://shebanq.ancient-data.org/hebrew/word?version=c&amp;id=1NORn\" title=\"show this lexeme in SHEBANQ\">נַעֲרֵ֥י </a></div><div class=\"features\"> <span class=\"pdp\"><a href=\"https://shebanq.ancient-data.org/hebrew/text?book=Samuel_I&amp;chapter=25&amp;verse=25&amp;version=c&amp;mr=m&amp;qw=q&amp;tp=txt_p&amp;tr=hb&amp;wget=v&amp;qget=v&amp;nget=vt\" title=\"1_Samuel 25:25\" sec=\"1_Samuel 25:25\">subs</a></span> <span class=\"gloss\">boy</span> <span class=\"g_cons xft\"><span class=\"f\">g_cons=</span>N&lt;RJ</span> <span class=\"sp xft\"><span class=\"f\">sp=</span>subs</span></div></div><div class=\"word  \" ><div class=\"h\"><a target=\"_blank\" href=\"https://shebanq.ancient-data.org/hebrew/word?version=c&amp;id=1ADWNn\" title=\"show this lexeme in SHEBANQ\">אֲדֹנִ֖י </a></div><div class=\"features\"> <span class=\"pdp\"><a href=\"https://shebanq.ancient-data.org/hebrew/text?book=Samuel_I&amp;chapter=25&amp;verse=25&amp;version=c&amp;mr=m&amp;qw=q&amp;tp=txt_p&amp;tr=hb&amp;wget=v&amp;qget=v&amp;nget=vt\" title=\"1_Samuel 25:25\" sec=\"1_Samuel 25:25\">subs</a></span> <span class=\"gloss\">lord</span> <span class=\"g_cons xft\"><span class=\"f\">g_cons=</span>>DNJ</span> <span class=\"sp xft\"><span class=\"f\">sp=</span>subs</span></div></div></div></div></div></div><div class=\"catom  \" >\n",
       "        <div class=\"clause \" >\n",
       "            <a href=\"https://shebanq.ancient-data.org/hebrew/text?book=Samuel_I&amp;chapter=25&amp;verse=25&amp;version=c&amp;mr=m&amp;qw=q&amp;tp=txt_p&amp;tr=hb&amp;wget=v&amp;qget=v&amp;nget=vt\" title=\"1_Samuel 25:25\" sec=\"1_Samuel 25:25\">clause</a>   <span class=\"rela\">Attr</span> <span class=\"typ\">xQt0</span>\n",
       "        </div>\n",
       "        <div class=\"atoms\">\n",
       "                    <div class=\"patom  \" >\n",
       "        <div class=\"phrase \" >\n",
       "            <a href=\"https://shebanq.ancient-data.org/hebrew/text?book=Samuel_I&amp;chapter=25&amp;verse=25&amp;version=c&amp;mr=m&amp;qw=q&amp;tp=txt_p&amp;tr=hb&amp;wget=v&amp;qget=v&amp;nget=vt\" title=\"1_Samuel 25:25\" sec=\"1_Samuel 25:25\">phrase</a>   <span class=\"function\">Rela</span> <span class=\"typ\">CP</span>\n",
       "        </div>\n",
       "        <div class=\"atoms\">\n",
       "                    <div class=\"word  \" ><div class=\"h\"><a target=\"_blank\" href=\"https://shebanq.ancient-data.org/hebrew/word?version=c&amp;id=1ACR\" title=\"show this lexeme in SHEBANQ\">אֲשֶׁ֥ר </a></div><div class=\"features\"> <span class=\"pdp\"><a href=\"https://shebanq.ancient-data.org/hebrew/text?book=Samuel_I&amp;chapter=25&amp;verse=25&amp;version=c&amp;mr=m&amp;qw=q&amp;tp=txt_p&amp;tr=hb&amp;wget=v&amp;qget=v&amp;nget=vt\" title=\"1_Samuel 25:25\" sec=\"1_Samuel 25:25\">conj</a></span> <span class=\"gloss\">&lt;relative></span> <span class=\"g_cons xft\"><span class=\"f\">g_cons=</span>>CR</span> <span class=\"sp xft\"><span class=\"f\">sp=</span>conj</span></div></div></div></div><div class=\"patom  \" >\n",
       "        <div class=\"phrase \" >\n",
       "            <a href=\"https://shebanq.ancient-data.org/hebrew/text?book=Samuel_I&amp;chapter=25&amp;verse=25&amp;version=c&amp;mr=m&amp;qw=q&amp;tp=txt_p&amp;tr=hb&amp;wget=v&amp;qget=v&amp;nget=vt\" title=\"1_Samuel 25:25\" sec=\"1_Samuel 25:25\">phrase</a>   <span class=\"function\">Pred</span> <span class=\"typ\">VP</span>\n",
       "        </div>\n",
       "        <div class=\"atoms\">\n",
       "                    <div class=\"word  \" ><div class=\"h\"><a target=\"_blank\" href=\"https://shebanq.ancient-data.org/hebrew/word?version=c&amp;id=1CLXv\" title=\"show this lexeme in SHEBANQ\">שָׁלָֽחְתָּ׃ </a></div><div class=\"features\"> <span class=\"pdp\"><a href=\"https://shebanq.ancient-data.org/hebrew/text?book=Samuel_I&amp;chapter=25&amp;verse=25&amp;version=c&amp;mr=m&amp;qw=q&amp;tp=txt_p&amp;tr=hb&amp;wget=v&amp;qget=v&amp;nget=vt\" title=\"1_Samuel 25:25\" sec=\"1_Samuel 25:25\">verb</a></span> <span class=\"gloss\">send</span> <span class=\"vs\">qal</span> <span class=\"vt\">perf</span> <span class=\"g_cons xft\"><span class=\"f\">g_cons=</span>CLXT</span> <span class=\"sp xft\"><span class=\"f\">sp=</span>verb</span></div></div></div></div></div></div></div></div></div></div>"
      ],
      "text/plain": [
       "<IPython.core.display.HTML object>"
      ]
     },
     "metadata": {},
     "output_type": "display_data"
    },
    {
     "data": {
      "text/html": [
       "<p><b>result</b> <i>2</i></p>"
      ],
      "text/plain": [
       "<IPython.core.display.HTML object>"
      ]
     },
     "metadata": {},
     "output_type": "display_data"
    },
    {
     "data": {
      "text/html": [
       "<div class=\"outeritem\"><div class=\"verse  \" >\n",
       "    <div class=\"vl\">\n",
       "        <div class=\"vrs\"><a href=\"https://shebanq.ancient-data.org/hebrew/text?book=Genesis&amp;chapter=1&amp;verse=1&amp;version=c&amp;mr=m&amp;qw=q&amp;tp=txt_p&amp;tr=hb&amp;wget=v&amp;qget=v&amp;nget=vt\" title=\"show this passage in SHEBANQ\" sec=\"Genesis 1:1\">Genesis 1:1</a></div>\n",
       "        \n",
       "    </div>\n",
       "<div class=\"satom  \" >\n",
       "        <div class=\"sentence \" >\n",
       "            <a href=\"https://shebanq.ancient-data.org/hebrew/text?book=Genesis&amp;chapter=1&amp;verse=1&amp;version=c&amp;mr=m&amp;qw=q&amp;tp=txt_p&amp;tr=hb&amp;wget=v&amp;qget=v&amp;nget=vt\" title=\"Genesis 1:1\" sec=\"Genesis 1:1\">sentence</a>   <span class=\"number\">1</span>\n",
       "        </div>\n",
       "        <div class=\"atoms\">\n",
       "                    <div class=\"catom  \" >\n",
       "        <div class=\"clause \" >\n",
       "            <a href=\"https://shebanq.ancient-data.org/hebrew/text?book=Genesis&amp;chapter=1&amp;verse=1&amp;version=c&amp;mr=m&amp;qw=q&amp;tp=txt_p&amp;tr=hb&amp;wget=v&amp;qget=v&amp;nget=vt\" title=\"Genesis 1:1\" sec=\"Genesis 1:1\">clause</a>   <span class=\"typ\">xQtX</span>\n",
       "        </div>\n",
       "        <div class=\"atoms\">\n",
       "                    <div class=\"patom  \" >\n",
       "        <div class=\"phrase \" >\n",
       "            <a href=\"https://shebanq.ancient-data.org/hebrew/text?book=Genesis&amp;chapter=1&amp;verse=1&amp;version=c&amp;mr=m&amp;qw=q&amp;tp=txt_p&amp;tr=hb&amp;wget=v&amp;qget=v&amp;nget=vt\" title=\"Genesis 1:1\" sec=\"Genesis 1:1\">phrase</a>   <span class=\"function\">Time</span> <span class=\"typ\">PP</span>\n",
       "        </div>\n",
       "        <div class=\"atoms\">\n",
       "                    <div class=\"word  \" ><div class=\"h\"><a target=\"_blank\" href=\"https://shebanq.ancient-data.org/hebrew/word?version=c&amp;id=1B\" title=\"show this lexeme in SHEBANQ\">בְּ</a></div><div class=\"features\"> <span class=\"pdp\"><a href=\"https://shebanq.ancient-data.org/hebrew/text?book=Genesis&amp;chapter=1&amp;verse=1&amp;version=c&amp;mr=m&amp;qw=q&amp;tp=txt_p&amp;tr=hb&amp;wget=v&amp;qget=v&amp;nget=vt\" title=\"Genesis 1:1\" sec=\"Genesis 1:1\">prep</a></span> <span class=\"gloss\">in</span> <span class=\"g_cons xft\"><span class=\"f\">g_cons=</span>B</span> <span class=\"sp xft\"><span class=\"f\">sp=</span>prep</span></div></div><div class=\"word  hl\" ><div class=\"h\"><a target=\"_blank\" href=\"https://shebanq.ancient-data.org/hebrew/word?version=c&amp;id=1RACJTn\" title=\"show this lexeme in SHEBANQ\">רֵאשִׁ֖ית </a></div><div class=\"features\"> <span class=\"pdp\"><a href=\"https://shebanq.ancient-data.org/hebrew/text?book=Genesis&amp;chapter=1&amp;verse=1&amp;version=c&amp;mr=m&amp;qw=q&amp;tp=txt_p&amp;tr=hb&amp;wget=v&amp;qget=v&amp;nget=vt\" title=\"Genesis 1:1\" sec=\"Genesis 1:1\">subs</a></span> <span class=\"gloss\">beginning</span> <span class=\"g_cons xft\"><span class=\"f\">g_cons=</span>R>CJT</span> <span class=\"sp xft\"><span class=\"f\">sp=</span>subs</span></div></div></div></div><div class=\"patom  \" >\n",
       "        <div class=\"phrase \" >\n",
       "            <a href=\"https://shebanq.ancient-data.org/hebrew/text?book=Genesis&amp;chapter=1&amp;verse=1&amp;version=c&amp;mr=m&amp;qw=q&amp;tp=txt_p&amp;tr=hb&amp;wget=v&amp;qget=v&amp;nget=vt\" title=\"Genesis 1:1\" sec=\"Genesis 1:1\">phrase</a>   <span class=\"function\">Pred</span> <span class=\"typ\">VP</span>\n",
       "        </div>\n",
       "        <div class=\"atoms\">\n",
       "                    <div class=\"word  \" ><div class=\"h\"><a target=\"_blank\" href=\"https://shebanq.ancient-data.org/hebrew/word?version=c&amp;id=1BRAv\" title=\"show this lexeme in SHEBANQ\">בָּרָ֣א </a></div><div class=\"features\"> <span class=\"pdp\"><a href=\"https://shebanq.ancient-data.org/hebrew/text?book=Genesis&amp;chapter=1&amp;verse=1&amp;version=c&amp;mr=m&amp;qw=q&amp;tp=txt_p&amp;tr=hb&amp;wget=v&amp;qget=v&amp;nget=vt\" title=\"Genesis 1:1\" sec=\"Genesis 1:1\">verb</a></span> <span class=\"gloss\">create</span> <span class=\"vs\">qal</span> <span class=\"vt\">perf</span> <span class=\"g_cons xft\"><span class=\"f\">g_cons=</span>BR></span> <span class=\"sp xft\"><span class=\"f\">sp=</span>verb</span></div></div></div></div><div class=\"patom  \" >\n",
       "        <div class=\"phrase \" >\n",
       "            <a href=\"https://shebanq.ancient-data.org/hebrew/text?book=Genesis&amp;chapter=1&amp;verse=1&amp;version=c&amp;mr=m&amp;qw=q&amp;tp=txt_p&amp;tr=hb&amp;wget=v&amp;qget=v&amp;nget=vt\" title=\"Genesis 1:1\" sec=\"Genesis 1:1\">phrase</a>   <span class=\"function\">Subj</span> <span class=\"typ\">NP</span>\n",
       "        </div>\n",
       "        <div class=\"atoms\">\n",
       "                    <div class=\"word  \" ><div class=\"h\"><a target=\"_blank\" href=\"https://shebanq.ancient-data.org/hebrew/word?version=c&amp;id=1ALHJMn\" title=\"show this lexeme in SHEBANQ\">אֱלֹהִ֑ים </a></div><div class=\"features\"> <span class=\"pdp\"><a href=\"https://shebanq.ancient-data.org/hebrew/text?book=Genesis&amp;chapter=1&amp;verse=1&amp;version=c&amp;mr=m&amp;qw=q&amp;tp=txt_p&amp;tr=hb&amp;wget=v&amp;qget=v&amp;nget=vt\" title=\"Genesis 1:1\" sec=\"Genesis 1:1\">subs</a></span> <span class=\"gloss\">god(s)</span> <span class=\"g_cons xft\"><span class=\"f\">g_cons=</span>>LHJM</span> <span class=\"sp xft\"><span class=\"f\">sp=</span>subs</span></div></div></div></div><div class=\"patom  \" >\n",
       "        <div class=\"phrase \" >\n",
       "            <a href=\"https://shebanq.ancient-data.org/hebrew/text?book=Genesis&amp;chapter=1&amp;verse=1&amp;version=c&amp;mr=m&amp;qw=q&amp;tp=txt_p&amp;tr=hb&amp;wget=v&amp;qget=v&amp;nget=vt\" title=\"Genesis 1:1\" sec=\"Genesis 1:1\">phrase</a>   <span class=\"function\">Objc</span> <span class=\"typ\">PP</span>\n",
       "        </div>\n",
       "        <div class=\"atoms\">\n",
       "                    <div class=\"word  \" ><div class=\"h\"><a target=\"_blank\" href=\"https://shebanq.ancient-data.org/hebrew/word?version=c&amp;id=1AT\" title=\"show this lexeme in SHEBANQ\">אֵ֥ת </a></div><div class=\"features\"> <span class=\"pdp\"><a href=\"https://shebanq.ancient-data.org/hebrew/text?book=Genesis&amp;chapter=1&amp;verse=1&amp;version=c&amp;mr=m&amp;qw=q&amp;tp=txt_p&amp;tr=hb&amp;wget=v&amp;qget=v&amp;nget=vt\" title=\"Genesis 1:1\" sec=\"Genesis 1:1\">prep</a></span> <span class=\"gloss\">&lt;object marker></span> <span class=\"g_cons xft\"><span class=\"f\">g_cons=</span>>T</span> <span class=\"sp xft\"><span class=\"f\">sp=</span>prep</span></div></div><div class=\"word  \" ><div class=\"h\"><a target=\"_blank\" href=\"https://shebanq.ancient-data.org/hebrew/word?version=c&amp;id=1H\" title=\"show this lexeme in SHEBANQ\">הַ</a></div><div class=\"features\"> <span class=\"pdp\"><a href=\"https://shebanq.ancient-data.org/hebrew/text?book=Genesis&amp;chapter=1&amp;verse=1&amp;version=c&amp;mr=m&amp;qw=q&amp;tp=txt_p&amp;tr=hb&amp;wget=v&amp;qget=v&amp;nget=vt\" title=\"Genesis 1:1\" sec=\"Genesis 1:1\">art</a></span> <span class=\"gloss\">the</span> <span class=\"g_cons xft\"><span class=\"f\">g_cons=</span>H</span> <span class=\"sp xft\"><span class=\"f\">sp=</span>art</span></div></div><div class=\"word  \" ><div class=\"h\"><a target=\"_blank\" href=\"https://shebanq.ancient-data.org/hebrew/word?version=c&amp;id=1CMJMn\" title=\"show this lexeme in SHEBANQ\">שָּׁמַ֖יִם </a></div><div class=\"features\"> <span class=\"pdp\"><a href=\"https://shebanq.ancient-data.org/hebrew/text?book=Genesis&amp;chapter=1&amp;verse=1&amp;version=c&amp;mr=m&amp;qw=q&amp;tp=txt_p&amp;tr=hb&amp;wget=v&amp;qget=v&amp;nget=vt\" title=\"Genesis 1:1\" sec=\"Genesis 1:1\">subs</a></span> <span class=\"gloss\">heavens</span> <span class=\"g_cons xft\"><span class=\"f\">g_cons=</span>CMJM</span> <span class=\"sp xft\"><span class=\"f\">sp=</span>subs</span></div></div><div class=\"word  \" ><div class=\"h\"><a target=\"_blank\" href=\"https://shebanq.ancient-data.org/hebrew/word?version=c&amp;id=1W\" title=\"show this lexeme in SHEBANQ\">וְ</a></div><div class=\"features\"> <span class=\"pdp\"><a href=\"https://shebanq.ancient-data.org/hebrew/text?book=Genesis&amp;chapter=1&amp;verse=1&amp;version=c&amp;mr=m&amp;qw=q&amp;tp=txt_p&amp;tr=hb&amp;wget=v&amp;qget=v&amp;nget=vt\" title=\"Genesis 1:1\" sec=\"Genesis 1:1\">conj</a></span> <span class=\"gloss\">and</span> <span class=\"g_cons xft\"><span class=\"f\">g_cons=</span>W</span> <span class=\"sp xft\"><span class=\"f\">sp=</span>conj</span></div></div><div class=\"word  \" ><div class=\"h\"><a target=\"_blank\" href=\"https://shebanq.ancient-data.org/hebrew/word?version=c&amp;id=1AT\" title=\"show this lexeme in SHEBANQ\">אֵ֥ת </a></div><div class=\"features\"> <span class=\"pdp\"><a href=\"https://shebanq.ancient-data.org/hebrew/text?book=Genesis&amp;chapter=1&amp;verse=1&amp;version=c&amp;mr=m&amp;qw=q&amp;tp=txt_p&amp;tr=hb&amp;wget=v&amp;qget=v&amp;nget=vt\" title=\"Genesis 1:1\" sec=\"Genesis 1:1\">prep</a></span> <span class=\"gloss\">&lt;object marker></span> <span class=\"g_cons xft\"><span class=\"f\">g_cons=</span>>T</span> <span class=\"sp xft\"><span class=\"f\">sp=</span>prep</span></div></div><div class=\"word  \" ><div class=\"h\"><a target=\"_blank\" href=\"https://shebanq.ancient-data.org/hebrew/word?version=c&amp;id=1H\" title=\"show this lexeme in SHEBANQ\">הָ</a></div><div class=\"features\"> <span class=\"pdp\"><a href=\"https://shebanq.ancient-data.org/hebrew/text?book=Genesis&amp;chapter=1&amp;verse=1&amp;version=c&amp;mr=m&amp;qw=q&amp;tp=txt_p&amp;tr=hb&amp;wget=v&amp;qget=v&amp;nget=vt\" title=\"Genesis 1:1\" sec=\"Genesis 1:1\">art</a></span> <span class=\"gloss\">the</span> <span class=\"g_cons xft\"><span class=\"f\">g_cons=</span>H</span> <span class=\"sp xft\"><span class=\"f\">sp=</span>art</span></div></div><div class=\"word  \" ><div class=\"h\"><a target=\"_blank\" href=\"https://shebanq.ancient-data.org/hebrew/word?version=c&amp;id=1ARYn\" title=\"show this lexeme in SHEBANQ\">אָֽרֶץ׃ </a></div><div class=\"features\"> <span class=\"pdp\"><a href=\"https://shebanq.ancient-data.org/hebrew/text?book=Genesis&amp;chapter=1&amp;verse=1&amp;version=c&amp;mr=m&amp;qw=q&amp;tp=txt_p&amp;tr=hb&amp;wget=v&amp;qget=v&amp;nget=vt\" title=\"Genesis 1:1\" sec=\"Genesis 1:1\">subs</a></span> <span class=\"gloss\">earth</span> <span class=\"g_cons xft\"><span class=\"f\">g_cons=</span>>RY</span> <span class=\"sp xft\"><span class=\"f\">sp=</span>subs</span></div></div></div></div></div></div></div></div></div></div>"
      ],
      "text/plain": [
       "<IPython.core.display.HTML object>"
      ]
     },
     "metadata": {},
     "output_type": "display_data"
    },
    {
     "data": {
      "text/html": [
       "<div class=\"outeritem\"><div class=\"verse  \" >\n",
       "    <div class=\"vl\">\n",
       "        <div class=\"vrs\"><a href=\"https://shebanq.ancient-data.org/hebrew/text?book=Samuel_I&amp;chapter=25&amp;verse=25&amp;version=c&amp;mr=m&amp;qw=q&amp;tp=txt_p&amp;tr=hb&amp;wget=v&amp;qget=v&amp;nget=vt\" title=\"show this passage in SHEBANQ\" sec=\"1_Samuel 25:25\">1_Samuel 25:25</a></div>\n",
       "        \n",
       "    </div>\n",
       "<div class=\"satom  \" >\n",
       "        <div class=\"sentence \" >\n",
       "            <a href=\"https://shebanq.ancient-data.org/hebrew/text?book=Samuel_I&amp;chapter=25&amp;verse=25&amp;version=c&amp;mr=m&amp;qw=q&amp;tp=txt_p&amp;tr=hb&amp;wget=v&amp;qget=v&amp;nget=vt\" title=\"1_Samuel 25:25\" sec=\"1_Samuel 25:25\">sentence</a>   <span class=\"number\">100|2607</span>\n",
       "        </div>\n",
       "        <div class=\"atoms\">\n",
       "                    <div class=\"catom  \" >\n",
       "        <div class=\"clause \" >\n",
       "            <a href=\"https://shebanq.ancient-data.org/hebrew/text?book=Samuel_I&amp;chapter=25&amp;verse=25&amp;version=c&amp;mr=m&amp;qw=q&amp;tp=txt_p&amp;tr=hb&amp;wget=v&amp;qget=v&amp;nget=vt\" title=\"1_Samuel 25:25\" sec=\"1_Samuel 25:25\">clause</a>   <span class=\"typ\">xYqX</span>\n",
       "        </div>\n",
       "        <div class=\"atoms\">\n",
       "                    <div class=\"patom  \" >\n",
       "        <div class=\"phrase \" >\n",
       "            <a href=\"https://shebanq.ancient-data.org/hebrew/text?book=Samuel_I&amp;chapter=25&amp;verse=25&amp;version=c&amp;mr=m&amp;qw=q&amp;tp=txt_p&amp;tr=hb&amp;wget=v&amp;qget=v&amp;nget=vt\" title=\"1_Samuel 25:25\" sec=\"1_Samuel 25:25\">phrase</a>   <span class=\"function\">Nega</span> <span class=\"typ\">NegP</span>\n",
       "        </div>\n",
       "        <div class=\"atoms\">\n",
       "                    <div class=\"word  \" ><div class=\"h\"><a target=\"_blank\" href=\"https://shebanq.ancient-data.org/hebrew/word?version=c&amp;id=1ALi\" title=\"show this lexeme in SHEBANQ\">אַל־</a></div><div class=\"features\"> <span class=\"pdp\"><a href=\"https://shebanq.ancient-data.org/hebrew/text?book=Samuel_I&amp;chapter=25&amp;verse=25&amp;version=c&amp;mr=m&amp;qw=q&amp;tp=txt_p&amp;tr=hb&amp;wget=v&amp;qget=v&amp;nget=vt\" title=\"1_Samuel 25:25\" sec=\"1_Samuel 25:25\">nega</a></span> <span class=\"gloss\">not</span> <span class=\"g_cons xft\"><span class=\"f\">g_cons=</span>>L</span> <span class=\"sp xft\"><span class=\"f\">sp=</span>nega</span></div></div></div></div><div class=\"patom  \" >\n",
       "        <div class=\"phrase \" >\n",
       "            <a href=\"https://shebanq.ancient-data.org/hebrew/text?book=Samuel_I&amp;chapter=25&amp;verse=25&amp;version=c&amp;mr=m&amp;qw=q&amp;tp=txt_p&amp;tr=hb&amp;wget=v&amp;qget=v&amp;nget=vt\" title=\"1_Samuel 25:25\" sec=\"1_Samuel 25:25\">phrase</a>   <span class=\"function\">Intj</span> <span class=\"typ\">InjP</span>\n",
       "        </div>\n",
       "        <div class=\"atoms\">\n",
       "                    <div class=\"word  \" ><div class=\"h\"><a target=\"_blank\" href=\"https://shebanq.ancient-data.org/hebrew/word?version=c&amp;id=1NA\" title=\"show this lexeme in SHEBANQ\">נָ֣א </a></div><div class=\"features\"> <span class=\"pdp\"><a href=\"https://shebanq.ancient-data.org/hebrew/text?book=Samuel_I&amp;chapter=25&amp;verse=25&amp;version=c&amp;mr=m&amp;qw=q&amp;tp=txt_p&amp;tr=hb&amp;wget=v&amp;qget=v&amp;nget=vt\" title=\"1_Samuel 25:25\" sec=\"1_Samuel 25:25\">intj</a></span> <span class=\"gloss\">yeah</span> <span class=\"g_cons xft\"><span class=\"f\">g_cons=</span>N></span> <span class=\"sp xft\"><span class=\"f\">sp=</span>intj</span></div></div></div></div><div class=\"patom  \" >\n",
       "        <div class=\"phrase \" >\n",
       "            <a href=\"https://shebanq.ancient-data.org/hebrew/text?book=Samuel_I&amp;chapter=25&amp;verse=25&amp;version=c&amp;mr=m&amp;qw=q&amp;tp=txt_p&amp;tr=hb&amp;wget=v&amp;qget=v&amp;nget=vt\" title=\"1_Samuel 25:25\" sec=\"1_Samuel 25:25\">phrase</a>   <span class=\"function\">Pred</span> <span class=\"typ\">VP</span>\n",
       "        </div>\n",
       "        <div class=\"atoms\">\n",
       "                    <div class=\"word  \" ><div class=\"h\"><a target=\"_blank\" href=\"https://shebanq.ancient-data.org/hebrew/word?version=c&amp;id=1FJMv\" title=\"show this lexeme in SHEBANQ\">יָשִׂ֣ים </a></div><div class=\"features\"> <span class=\"pdp\"><a href=\"https://shebanq.ancient-data.org/hebrew/text?book=Samuel_I&amp;chapter=25&amp;verse=25&amp;version=c&amp;mr=m&amp;qw=q&amp;tp=txt_p&amp;tr=hb&amp;wget=v&amp;qget=v&amp;nget=vt\" title=\"1_Samuel 25:25\" sec=\"1_Samuel 25:25\">verb</a></span> <span class=\"gloss\">put</span> <span class=\"vs\">qal</span> <span class=\"vt\">impf</span> <span class=\"g_cons xft\"><span class=\"f\">g_cons=</span>JFJM</span> <span class=\"sp xft\"><span class=\"f\">sp=</span>verb</span></div></div></div></div><div class=\"patom  \" >\n",
       "        <div class=\"phrase \" >\n",
       "            <a href=\"https://shebanq.ancient-data.org/hebrew/text?book=Samuel_I&amp;chapter=25&amp;verse=25&amp;version=c&amp;mr=m&amp;qw=q&amp;tp=txt_p&amp;tr=hb&amp;wget=v&amp;qget=v&amp;nget=vt\" title=\"1_Samuel 25:25\" sec=\"1_Samuel 25:25\">phrase</a>   <span class=\"function\">Subj</span> <span class=\"typ\">NP</span>\n",
       "        </div>\n",
       "        <div class=\"atoms\">\n",
       "                    <div class=\"word  \" ><div class=\"h\"><a target=\"_blank\" href=\"https://shebanq.ancient-data.org/hebrew/word?version=c&amp;id=1ADWNn\" title=\"show this lexeme in SHEBANQ\">אֲדֹנִ֣י׀ </a></div><div class=\"features\"> <span class=\"pdp\"><a href=\"https://shebanq.ancient-data.org/hebrew/text?book=Samuel_I&amp;chapter=25&amp;verse=25&amp;version=c&amp;mr=m&amp;qw=q&amp;tp=txt_p&amp;tr=hb&amp;wget=v&amp;qget=v&amp;nget=vt\" title=\"1_Samuel 25:25\" sec=\"1_Samuel 25:25\">subs</a></span> <span class=\"gloss\">lord</span> <span class=\"g_cons xft\"><span class=\"f\">g_cons=</span>>DNJ</span> <span class=\"sp xft\"><span class=\"f\">sp=</span>subs</span></div></div></div></div><div class=\"patom  \" >\n",
       "        <div class=\"phrase \" >\n",
       "            <a href=\"https://shebanq.ancient-data.org/hebrew/text?book=Samuel_I&amp;chapter=25&amp;verse=25&amp;version=c&amp;mr=m&amp;qw=q&amp;tp=txt_p&amp;tr=hb&amp;wget=v&amp;qget=v&amp;nget=vt\" title=\"1_Samuel 25:25\" sec=\"1_Samuel 25:25\">phrase</a>   <span class=\"function\">Objc</span> <span class=\"typ\">PP</span>\n",
       "        </div>\n",
       "        <div class=\"atoms\">\n",
       "                    <div class=\"word  \" ><div class=\"h\"><a target=\"_blank\" href=\"https://shebanq.ancient-data.org/hebrew/word?version=c&amp;id=1AT\" title=\"show this lexeme in SHEBANQ\">אֶת־</a></div><div class=\"features\"> <span class=\"pdp\"><a href=\"https://shebanq.ancient-data.org/hebrew/text?book=Samuel_I&amp;chapter=25&amp;verse=25&amp;version=c&amp;mr=m&amp;qw=q&amp;tp=txt_p&amp;tr=hb&amp;wget=v&amp;qget=v&amp;nget=vt\" title=\"1_Samuel 25:25\" sec=\"1_Samuel 25:25\">prep</a></span> <span class=\"gloss\">&lt;object marker></span> <span class=\"g_cons xft\"><span class=\"f\">g_cons=</span>>T</span> <span class=\"sp xft\"><span class=\"f\">sp=</span>prep</span></div></div><div class=\"word  \" ><div class=\"h\"><a target=\"_blank\" href=\"https://shebanq.ancient-data.org/hebrew/word?version=c&amp;id=1LBn\" title=\"show this lexeme in SHEBANQ\">לִבֹּ֡ו </a></div><div class=\"features\"> <span class=\"pdp\"><a href=\"https://shebanq.ancient-data.org/hebrew/text?book=Samuel_I&amp;chapter=25&amp;verse=25&amp;version=c&amp;mr=m&amp;qw=q&amp;tp=txt_p&amp;tr=hb&amp;wget=v&amp;qget=v&amp;nget=vt\" title=\"1_Samuel 25:25\" sec=\"1_Samuel 25:25\">subs</a></span> <span class=\"gloss\">heart</span> <span class=\"g_cons xft\"><span class=\"f\">g_cons=</span>LBW</span> <span class=\"sp xft\"><span class=\"f\">sp=</span>subs</span></div></div></div></div><div class=\"patom  l \" >\n",
       "        <div class=\"phrase \" >\n",
       "            <a href=\"https://shebanq.ancient-data.org/hebrew/text?book=Samuel_I&amp;chapter=25&amp;verse=25&amp;version=c&amp;mr=m&amp;qw=q&amp;tp=txt_p&amp;tr=hb&amp;wget=v&amp;qget=v&amp;nget=vt\" title=\"1_Samuel 25:25\" sec=\"1_Samuel 25:25\">phrase</a>   <span class=\"function\">Cmpl</span> <span class=\"typ\">PP</span>\n",
       "        </div>\n",
       "        <div class=\"atoms\">\n",
       "                    <div class=\"word  \" ><div class=\"h\"><a target=\"_blank\" href=\"https://shebanq.ancient-data.org/hebrew/word?version=c&amp;id=1AL\" title=\"show this lexeme in SHEBANQ\">אֶל־</a></div><div class=\"features\"> <span class=\"pdp\"><a href=\"https://shebanq.ancient-data.org/hebrew/text?book=Samuel_I&amp;chapter=25&amp;verse=25&amp;version=c&amp;mr=m&amp;qw=q&amp;tp=txt_p&amp;tr=hb&amp;wget=v&amp;qget=v&amp;nget=vt\" title=\"1_Samuel 25:25\" sec=\"1_Samuel 25:25\">prep</a></span> <span class=\"gloss\">to</span> <span class=\"g_cons xft\"><span class=\"f\">g_cons=</span>>L</span> <span class=\"sp xft\"><span class=\"f\">sp=</span>prep</span></div></div><div class=\"word  \" ><div class=\"h\"><a target=\"_blank\" href=\"https://shebanq.ancient-data.org/hebrew/word?version=c&amp;id=1AJCn\" title=\"show this lexeme in SHEBANQ\">אִישׁ֩ </a></div><div class=\"features\"> <span class=\"pdp\"><a href=\"https://shebanq.ancient-data.org/hebrew/text?book=Samuel_I&amp;chapter=25&amp;verse=25&amp;version=c&amp;mr=m&amp;qw=q&amp;tp=txt_p&amp;tr=hb&amp;wget=v&amp;qget=v&amp;nget=vt\" title=\"1_Samuel 25:25\" sec=\"1_Samuel 25:25\">subs</a></span> <span class=\"gloss\">man</span> <span class=\"g_cons xft\"><span class=\"f\">g_cons=</span>>JC</span> <span class=\"sp xft\"><span class=\"f\">sp=</span>subs</span></div></div><div class=\"word  \" ><div class=\"h\"><a target=\"_blank\" href=\"https://shebanq.ancient-data.org/hebrew/word?version=c&amp;id=1H\" title=\"show this lexeme in SHEBANQ\">הַ</a></div><div class=\"features\"> <span class=\"pdp\"><a href=\"https://shebanq.ancient-data.org/hebrew/text?book=Samuel_I&amp;chapter=25&amp;verse=25&amp;version=c&amp;mr=m&amp;qw=q&amp;tp=txt_p&amp;tr=hb&amp;wget=v&amp;qget=v&amp;nget=vt\" title=\"1_Samuel 25:25\" sec=\"1_Samuel 25:25\">art</a></span> <span class=\"gloss\">the</span> <span class=\"g_cons xft\"><span class=\"f\">g_cons=</span>H</span> <span class=\"sp xft\"><span class=\"f\">sp=</span>art</span></div></div><div class=\"word  \" ><div class=\"h\"><a target=\"_blank\" href=\"https://shebanq.ancient-data.org/hebrew/word?version=c&amp;id=1BLJOLn\" title=\"show this lexeme in SHEBANQ\">בְּלִיַּ֨עַל </a></div><div class=\"features\"> <span class=\"pdp\"><a href=\"https://shebanq.ancient-data.org/hebrew/text?book=Samuel_I&amp;chapter=25&amp;verse=25&amp;version=c&amp;mr=m&amp;qw=q&amp;tp=txt_p&amp;tr=hb&amp;wget=v&amp;qget=v&amp;nget=vt\" title=\"1_Samuel 25:25\" sec=\"1_Samuel 25:25\">subs</a></span> <span class=\"gloss\">wickedness</span> <span class=\"g_cons xft\"><span class=\"f\">g_cons=</span>BLJ&lt;L</span> <span class=\"sp xft\"><span class=\"f\">sp=</span>subs</span></div></div><div class=\"word  \" ><div class=\"h\"><a target=\"_blank\" href=\"https://shebanq.ancient-data.org/hebrew/word?version=c&amp;id=1H\" title=\"show this lexeme in SHEBANQ\">הַ</a></div><div class=\"features\"> <span class=\"pdp\"><a href=\"https://shebanq.ancient-data.org/hebrew/text?book=Samuel_I&amp;chapter=25&amp;verse=25&amp;version=c&amp;mr=m&amp;qw=q&amp;tp=txt_p&amp;tr=hb&amp;wget=v&amp;qget=v&amp;nget=vt\" title=\"1_Samuel 25:25\" sec=\"1_Samuel 25:25\">art</a></span> <span class=\"gloss\">the</span> <span class=\"g_cons xft\"><span class=\"f\">g_cons=</span>H</span> <span class=\"sp xft\"><span class=\"f\">sp=</span>art</span></div></div><div class=\"word  \" ><div class=\"h\"><a target=\"_blank\" href=\"https://shebanq.ancient-data.org/hebrew/word?version=c&amp;id=1ZH\" title=\"show this lexeme in SHEBANQ\">זֶּ֜ה </a></div><div class=\"features\"> <span class=\"pdp\"><a href=\"https://shebanq.ancient-data.org/hebrew/text?book=Samuel_I&amp;chapter=25&amp;verse=25&amp;version=c&amp;mr=m&amp;qw=q&amp;tp=txt_p&amp;tr=hb&amp;wget=v&amp;qget=v&amp;nget=vt\" title=\"1_Samuel 25:25\" sec=\"1_Samuel 25:25\">prde</a></span> <span class=\"gloss\">this</span> <span class=\"g_cons xft\"><span class=\"f\">g_cons=</span>ZH</span> <span class=\"sp xft\"><span class=\"f\">sp=</span>prde</span></div></div></div></div><div class=\"patom  r hl\" >\n",
       "        <div class=\"phrase \" >\n",
       "            <a href=\"https://shebanq.ancient-data.org/hebrew/text?book=Samuel_I&amp;chapter=25&amp;verse=25&amp;version=c&amp;mr=m&amp;qw=q&amp;tp=txt_p&amp;tr=hb&amp;wget=v&amp;qget=v&amp;nget=vt\" title=\"1_Samuel 25:25\" sec=\"1_Samuel 25:25\">phrase</a>   <span class=\"function\">Cmpl</span> <span class=\"typ\">PP</span>\n",
       "        </div>\n",
       "        <div class=\"atoms\">\n",
       "                    <div class=\"word  \" ><div class=\"h\"><a target=\"_blank\" href=\"https://shebanq.ancient-data.org/hebrew/word?version=c&amp;id=1OL\" title=\"show this lexeme in SHEBANQ\">עַל־</a></div><div class=\"features\"> <span class=\"pdp\"><a href=\"https://shebanq.ancient-data.org/hebrew/text?book=Samuel_I&amp;chapter=25&amp;verse=25&amp;version=c&amp;mr=m&amp;qw=q&amp;tp=txt_p&amp;tr=hb&amp;wget=v&amp;qget=v&amp;nget=vt\" title=\"1_Samuel 25:25\" sec=\"1_Samuel 25:25\">prep</a></span> <span class=\"gloss\">upon</span> <span class=\"g_cons xft\"><span class=\"f\">g_cons=</span>&lt;L</span> <span class=\"sp xft\"><span class=\"f\">sp=</span>prep</span></div></div><div class=\"word  \" ><div class=\"h\"><a target=\"_blank\" href=\"https://shebanq.ancient-data.org/hebrew/word?version=c&amp;id=1NBLiiin\" title=\"show this lexeme in SHEBANQ\">נָבָ֗ל </a></div><div class=\"features\"> <span class=\"pdp\"><a href=\"https://shebanq.ancient-data.org/hebrew/text?book=Samuel_I&amp;chapter=25&amp;verse=25&amp;version=c&amp;mr=m&amp;qw=q&amp;tp=txt_p&amp;tr=hb&amp;wget=v&amp;qget=v&amp;nget=vt\" title=\"1_Samuel 25:25\" sec=\"1_Samuel 25:25\">nmpr</a></span> <span class=\"gloss\">Nabal</span> <span class=\"g_cons xft\"><span class=\"f\">g_cons=</span>NBL</span> <span class=\"sp xft\"><span class=\"f\">sp=</span>nmpr</span></div></div></div></div></div></div></div></div><div class=\"satom  \" >\n",
       "        <div class=\"sentence \" >\n",
       "            <a href=\"https://shebanq.ancient-data.org/hebrew/text?book=Samuel_I&amp;chapter=25&amp;verse=25&amp;version=c&amp;mr=m&amp;qw=q&amp;tp=txt_p&amp;tr=hb&amp;wget=v&amp;qget=v&amp;nget=vt\" title=\"1_Samuel 25:25\" sec=\"1_Samuel 25:25\">sentence</a>   <span class=\"number\">101|2608</span>\n",
       "        </div>\n",
       "        <div class=\"atoms\">\n",
       "                    <div class=\"catom  \" >\n",
       "        <div class=\"clause \" >\n",
       "            <a href=\"https://shebanq.ancient-data.org/hebrew/text?book=Samuel_I&amp;chapter=25&amp;verse=25&amp;version=c&amp;mr=m&amp;qw=q&amp;tp=txt_p&amp;tr=hb&amp;wget=v&amp;qget=v&amp;nget=vt\" title=\"1_Samuel 25:25\" sec=\"1_Samuel 25:25\">clause</a>   <span class=\"typ\">CPen</span>\n",
       "        </div>\n",
       "        <div class=\"atoms\">\n",
       "                    <div class=\"patom  \" >\n",
       "        <div class=\"phrase \" >\n",
       "            <a href=\"https://shebanq.ancient-data.org/hebrew/text?book=Samuel_I&amp;chapter=25&amp;verse=25&amp;version=c&amp;mr=m&amp;qw=q&amp;tp=txt_p&amp;tr=hb&amp;wget=v&amp;qget=v&amp;nget=vt\" title=\"1_Samuel 25:25\" sec=\"1_Samuel 25:25\">phrase</a>   <span class=\"function\">Conj</span> <span class=\"typ\">CP</span>\n",
       "        </div>\n",
       "        <div class=\"atoms\">\n",
       "                    <div class=\"word  \" ><div class=\"h\"><a target=\"_blank\" href=\"https://shebanq.ancient-data.org/hebrew/word?version=c&amp;id=1KJ\" title=\"show this lexeme in SHEBANQ\">כִּ֤י </a></div><div class=\"features\"> <span class=\"pdp\"><a href=\"https://shebanq.ancient-data.org/hebrew/text?book=Samuel_I&amp;chapter=25&amp;verse=25&amp;version=c&amp;mr=m&amp;qw=q&amp;tp=txt_p&amp;tr=hb&amp;wget=v&amp;qget=v&amp;nget=vt\" title=\"1_Samuel 25:25\" sec=\"1_Samuel 25:25\">conj</a></span> <span class=\"gloss\">that</span> <span class=\"g_cons xft\"><span class=\"f\">g_cons=</span>KJ</span> <span class=\"sp xft\"><span class=\"f\">sp=</span>conj</span></div></div></div></div><div class=\"patom  \" >\n",
       "        <div class=\"phrase \" >\n",
       "            <a href=\"https://shebanq.ancient-data.org/hebrew/text?book=Samuel_I&amp;chapter=25&amp;verse=25&amp;version=c&amp;mr=m&amp;qw=q&amp;tp=txt_p&amp;tr=hb&amp;wget=v&amp;qget=v&amp;nget=vt\" title=\"1_Samuel 25:25\" sec=\"1_Samuel 25:25\">phrase</a>   <span class=\"function\">Frnt</span> <span class=\"typ\">PP</span>\n",
       "        </div>\n",
       "        <div class=\"atoms\">\n",
       "                    <div class=\"word  \" ><div class=\"h\"><a target=\"_blank\" href=\"https://shebanq.ancient-data.org/hebrew/word?version=c&amp;id=1K\" title=\"show this lexeme in SHEBANQ\">כִ</a></div><div class=\"features\"> <span class=\"pdp\"><a href=\"https://shebanq.ancient-data.org/hebrew/text?book=Samuel_I&amp;chapter=25&amp;verse=25&amp;version=c&amp;mr=m&amp;qw=q&amp;tp=txt_p&amp;tr=hb&amp;wget=v&amp;qget=v&amp;nget=vt\" title=\"1_Samuel 25:25\" sec=\"1_Samuel 25:25\">prep</a></span> <span class=\"gloss\">as</span> <span class=\"g_cons xft\"><span class=\"f\">g_cons=</span>K</span> <span class=\"sp xft\"><span class=\"f\">sp=</span>prep</span></div></div><div class=\"word  \" ><div class=\"h\"><a target=\"_blank\" href=\"https://shebanq.ancient-data.org/hebrew/word?version=c&amp;id=1CMn\" title=\"show this lexeme in SHEBANQ\">שְׁמֹו֙ </a></div><div class=\"features\"> <span class=\"pdp\"><a href=\"https://shebanq.ancient-data.org/hebrew/text?book=Samuel_I&amp;chapter=25&amp;verse=25&amp;version=c&amp;mr=m&amp;qw=q&amp;tp=txt_p&amp;tr=hb&amp;wget=v&amp;qget=v&amp;nget=vt\" title=\"1_Samuel 25:25\" sec=\"1_Samuel 25:25\">subs</a></span> <span class=\"gloss\">name</span> <span class=\"g_cons xft\"><span class=\"f\">g_cons=</span>CMW</span> <span class=\"sp xft\"><span class=\"f\">sp=</span>subs</span></div></div></div></div></div></div><div class=\"catom  \" >\n",
       "        <div class=\"clause \" >\n",
       "            <a href=\"https://shebanq.ancient-data.org/hebrew/text?book=Samuel_I&amp;chapter=25&amp;verse=25&amp;version=c&amp;mr=m&amp;qw=q&amp;tp=txt_p&amp;tr=hb&amp;wget=v&amp;qget=v&amp;nget=vt\" title=\"1_Samuel 25:25\" sec=\"1_Samuel 25:25\">clause</a>   <span class=\"rela\">Resu</span> <span class=\"typ\">NmCl</span>\n",
       "        </div>\n",
       "        <div class=\"atoms\">\n",
       "                    <div class=\"patom  \" >\n",
       "        <div class=\"phrase \" >\n",
       "            <a href=\"https://shebanq.ancient-data.org/hebrew/text?book=Samuel_I&amp;chapter=25&amp;verse=25&amp;version=c&amp;mr=m&amp;qw=q&amp;tp=txt_p&amp;tr=hb&amp;wget=v&amp;qget=v&amp;nget=vt\" title=\"1_Samuel 25:25\" sec=\"1_Samuel 25:25\">phrase</a>   <span class=\"function\">PreC</span> <span class=\"typ\">AdvP</span>\n",
       "        </div>\n",
       "        <div class=\"atoms\">\n",
       "                    <div class=\"word  \" ><div class=\"h\"><a target=\"_blank\" href=\"https://shebanq.ancient-data.org/hebrew/word?version=c&amp;id=1KN\" title=\"show this lexeme in SHEBANQ\">כֶּן־</a></div><div class=\"features\"> <span class=\"pdp\"><a href=\"https://shebanq.ancient-data.org/hebrew/text?book=Samuel_I&amp;chapter=25&amp;verse=25&amp;version=c&amp;mr=m&amp;qw=q&amp;tp=txt_p&amp;tr=hb&amp;wget=v&amp;qget=v&amp;nget=vt\" title=\"1_Samuel 25:25\" sec=\"1_Samuel 25:25\">advb</a></span> <span class=\"gloss\">thus</span> <span class=\"g_cons xft\"><span class=\"f\">g_cons=</span>KN</span> <span class=\"sp xft\"><span class=\"f\">sp=</span>advb</span></div></div></div></div><div class=\"patom  \" >\n",
       "        <div class=\"phrase \" >\n",
       "            <a href=\"https://shebanq.ancient-data.org/hebrew/text?book=Samuel_I&amp;chapter=25&amp;verse=25&amp;version=c&amp;mr=m&amp;qw=q&amp;tp=txt_p&amp;tr=hb&amp;wget=v&amp;qget=v&amp;nget=vt\" title=\"1_Samuel 25:25\" sec=\"1_Samuel 25:25\">phrase</a>   <span class=\"function\">Subj</span> <span class=\"typ\">PPrP</span>\n",
       "        </div>\n",
       "        <div class=\"atoms\">\n",
       "                    <div class=\"word  \" ><div class=\"h\"><a target=\"_blank\" href=\"https://shebanq.ancient-data.org/hebrew/word?version=c&amp;id=1HWA\" title=\"show this lexeme in SHEBANQ\">ה֔וּא </a></div><div class=\"features\"> <span class=\"pdp\"><a href=\"https://shebanq.ancient-data.org/hebrew/text?book=Samuel_I&amp;chapter=25&amp;verse=25&amp;version=c&amp;mr=m&amp;qw=q&amp;tp=txt_p&amp;tr=hb&amp;wget=v&amp;qget=v&amp;nget=vt\" title=\"1_Samuel 25:25\" sec=\"1_Samuel 25:25\">prps</a></span> <span class=\"gloss\">he</span> <span class=\"g_cons xft\"><span class=\"f\">g_cons=</span>HW></span> <span class=\"sp xft\"><span class=\"f\">sp=</span>prps</span></div></div></div></div></div></div></div></div><div class=\"satom  \" >\n",
       "        <div class=\"sentence \" >\n",
       "            <a href=\"https://shebanq.ancient-data.org/hebrew/text?book=Samuel_I&amp;chapter=25&amp;verse=25&amp;version=c&amp;mr=m&amp;qw=q&amp;tp=txt_p&amp;tr=hb&amp;wget=v&amp;qget=v&amp;nget=vt\" title=\"1_Samuel 25:25\" sec=\"1_Samuel 25:25\">sentence</a>   <span class=\"number\">102|2609</span>\n",
       "        </div>\n",
       "        <div class=\"atoms\">\n",
       "                    <div class=\"catom  \" >\n",
       "        <div class=\"clause \" >\n",
       "            <a href=\"https://shebanq.ancient-data.org/hebrew/text?book=Samuel_I&amp;chapter=25&amp;verse=25&amp;version=c&amp;mr=m&amp;qw=q&amp;tp=txt_p&amp;tr=hb&amp;wget=v&amp;qget=v&amp;nget=vt\" title=\"1_Samuel 25:25\" sec=\"1_Samuel 25:25\">clause</a>   <span class=\"typ\">NmCl</span>\n",
       "        </div>\n",
       "        <div class=\"atoms\">\n",
       "                    <div class=\"patom  \" >\n",
       "        <div class=\"phrase \" >\n",
       "            <a href=\"https://shebanq.ancient-data.org/hebrew/text?book=Samuel_I&amp;chapter=25&amp;verse=25&amp;version=c&amp;mr=m&amp;qw=q&amp;tp=txt_p&amp;tr=hb&amp;wget=v&amp;qget=v&amp;nget=vt\" title=\"1_Samuel 25:25\" sec=\"1_Samuel 25:25\">phrase</a>   <span class=\"function\">PreC</span> <span class=\"typ\">PrNP</span>\n",
       "        </div>\n",
       "        <div class=\"atoms\">\n",
       "                    <div class=\"word  \" ><div class=\"h\"><a target=\"_blank\" href=\"https://shebanq.ancient-data.org/hebrew/word?version=c&amp;id=1NBLiiin\" title=\"show this lexeme in SHEBANQ\">נָבָ֣ל </a></div><div class=\"features\"> <span class=\"pdp\"><a href=\"https://shebanq.ancient-data.org/hebrew/text?book=Samuel_I&amp;chapter=25&amp;verse=25&amp;version=c&amp;mr=m&amp;qw=q&amp;tp=txt_p&amp;tr=hb&amp;wget=v&amp;qget=v&amp;nget=vt\" title=\"1_Samuel 25:25\" sec=\"1_Samuel 25:25\">nmpr</a></span> <span class=\"gloss\">Nabal</span> <span class=\"g_cons xft\"><span class=\"f\">g_cons=</span>NBL</span> <span class=\"sp xft\"><span class=\"f\">sp=</span>nmpr</span></div></div></div></div><div class=\"patom  \" >\n",
       "        <div class=\"phrase \" >\n",
       "            <a href=\"https://shebanq.ancient-data.org/hebrew/text?book=Samuel_I&amp;chapter=25&amp;verse=25&amp;version=c&amp;mr=m&amp;qw=q&amp;tp=txt_p&amp;tr=hb&amp;wget=v&amp;qget=v&amp;nget=vt\" title=\"1_Samuel 25:25\" sec=\"1_Samuel 25:25\">phrase</a>   <span class=\"function\">Subj</span> <span class=\"typ\">NP</span>\n",
       "        </div>\n",
       "        <div class=\"atoms\">\n",
       "                    <div class=\"word  \" ><div class=\"h\"><a target=\"_blank\" href=\"https://shebanq.ancient-data.org/hebrew/word?version=c&amp;id=1CMn\" title=\"show this lexeme in SHEBANQ\">שְׁמֹ֔ו </a></div><div class=\"features\"> <span class=\"pdp\"><a href=\"https://shebanq.ancient-data.org/hebrew/text?book=Samuel_I&amp;chapter=25&amp;verse=25&amp;version=c&amp;mr=m&amp;qw=q&amp;tp=txt_p&amp;tr=hb&amp;wget=v&amp;qget=v&amp;nget=vt\" title=\"1_Samuel 25:25\" sec=\"1_Samuel 25:25\">subs</a></span> <span class=\"gloss\">name</span> <span class=\"g_cons xft\"><span class=\"f\">g_cons=</span>CMW</span> <span class=\"sp xft\"><span class=\"f\">sp=</span>subs</span></div></div></div></div></div></div></div></div><div class=\"satom  \" >\n",
       "        <div class=\"sentence \" >\n",
       "            <a href=\"https://shebanq.ancient-data.org/hebrew/text?book=Samuel_I&amp;chapter=25&amp;verse=25&amp;version=c&amp;mr=m&amp;qw=q&amp;tp=txt_p&amp;tr=hb&amp;wget=v&amp;qget=v&amp;nget=vt\" title=\"1_Samuel 25:25\" sec=\"1_Samuel 25:25\">sentence</a>   <span class=\"number\">103|2610</span>\n",
       "        </div>\n",
       "        <div class=\"atoms\">\n",
       "                    <div class=\"catom  \" >\n",
       "        <div class=\"clause \" >\n",
       "            <a href=\"https://shebanq.ancient-data.org/hebrew/text?book=Samuel_I&amp;chapter=25&amp;verse=25&amp;version=c&amp;mr=m&amp;qw=q&amp;tp=txt_p&amp;tr=hb&amp;wget=v&amp;qget=v&amp;nget=vt\" title=\"1_Samuel 25:25\" sec=\"1_Samuel 25:25\">clause</a>   <span class=\"typ\">NmCl</span>\n",
       "        </div>\n",
       "        <div class=\"atoms\">\n",
       "                    <div class=\"patom  \" >\n",
       "        <div class=\"phrase \" >\n",
       "            <a href=\"https://shebanq.ancient-data.org/hebrew/text?book=Samuel_I&amp;chapter=25&amp;verse=25&amp;version=c&amp;mr=m&amp;qw=q&amp;tp=txt_p&amp;tr=hb&amp;wget=v&amp;qget=v&amp;nget=vt\" title=\"1_Samuel 25:25\" sec=\"1_Samuel 25:25\">phrase</a>   <span class=\"function\">Conj</span> <span class=\"typ\">CP</span>\n",
       "        </div>\n",
       "        <div class=\"atoms\">\n",
       "                    <div class=\"word  \" ><div class=\"h\"><a target=\"_blank\" href=\"https://shebanq.ancient-data.org/hebrew/word?version=c&amp;id=1W\" title=\"show this lexeme in SHEBANQ\">וּ</a></div><div class=\"features\"> <span class=\"pdp\"><a href=\"https://shebanq.ancient-data.org/hebrew/text?book=Samuel_I&amp;chapter=25&amp;verse=25&amp;version=c&amp;mr=m&amp;qw=q&amp;tp=txt_p&amp;tr=hb&amp;wget=v&amp;qget=v&amp;nget=vt\" title=\"1_Samuel 25:25\" sec=\"1_Samuel 25:25\">conj</a></span> <span class=\"gloss\">and</span> <span class=\"g_cons xft\"><span class=\"f\">g_cons=</span>W</span> <span class=\"sp xft\"><span class=\"f\">sp=</span>conj</span></div></div></div></div><div class=\"patom  \" >\n",
       "        <div class=\"phrase \" >\n",
       "            <a href=\"https://shebanq.ancient-data.org/hebrew/text?book=Samuel_I&amp;chapter=25&amp;verse=25&amp;version=c&amp;mr=m&amp;qw=q&amp;tp=txt_p&amp;tr=hb&amp;wget=v&amp;qget=v&amp;nget=vt\" title=\"1_Samuel 25:25\" sec=\"1_Samuel 25:25\">phrase</a>   <span class=\"function\">Subj</span> <span class=\"typ\">NP</span>\n",
       "        </div>\n",
       "        <div class=\"atoms\">\n",
       "                    <div class=\"word  \" ><div class=\"h\"><a target=\"_blank\" href=\"https://shebanq.ancient-data.org/hebrew/word?version=c&amp;id=1NBLHn\" title=\"show this lexeme in SHEBANQ\">נְבָלָ֖ה </a></div><div class=\"features\"> <span class=\"pdp\"><a href=\"https://shebanq.ancient-data.org/hebrew/text?book=Samuel_I&amp;chapter=25&amp;verse=25&amp;version=c&amp;mr=m&amp;qw=q&amp;tp=txt_p&amp;tr=hb&amp;wget=v&amp;qget=v&amp;nget=vt\" title=\"1_Samuel 25:25\" sec=\"1_Samuel 25:25\">subs</a></span> <span class=\"gloss\">stupidity</span> <span class=\"g_cons xft\"><span class=\"f\">g_cons=</span>NBLH</span> <span class=\"sp xft\"><span class=\"f\">sp=</span>subs</span></div></div></div></div><div class=\"patom  \" >\n",
       "        <div class=\"phrase \" >\n",
       "            <a href=\"https://shebanq.ancient-data.org/hebrew/text?book=Samuel_I&amp;chapter=25&amp;verse=25&amp;version=c&amp;mr=m&amp;qw=q&amp;tp=txt_p&amp;tr=hb&amp;wget=v&amp;qget=v&amp;nget=vt\" title=\"1_Samuel 25:25\" sec=\"1_Samuel 25:25\">phrase</a>   <span class=\"function\">PreC</span> <span class=\"typ\">PP</span>\n",
       "        </div>\n",
       "        <div class=\"atoms\">\n",
       "                    <div class=\"word  \" ><div class=\"h\"><a target=\"_blank\" href=\"https://shebanq.ancient-data.org/hebrew/word?version=c&amp;id=1OM\" title=\"show this lexeme in SHEBANQ\">עִמֹּ֑ו </a></div><div class=\"features\"> <span class=\"pdp\"><a href=\"https://shebanq.ancient-data.org/hebrew/text?book=Samuel_I&amp;chapter=25&amp;verse=25&amp;version=c&amp;mr=m&amp;qw=q&amp;tp=txt_p&amp;tr=hb&amp;wget=v&amp;qget=v&amp;nget=vt\" title=\"1_Samuel 25:25\" sec=\"1_Samuel 25:25\">prep</a></span> <span class=\"gloss\">with</span> <span class=\"g_cons xft\"><span class=\"f\">g_cons=</span>&lt;MW</span> <span class=\"sp xft\"><span class=\"f\">sp=</span>prep</span></div></div></div></div></div></div></div></div><div class=\"satom  \" >\n",
       "        <div class=\"sentence \" >\n",
       "            <a href=\"https://shebanq.ancient-data.org/hebrew/text?book=Samuel_I&amp;chapter=25&amp;verse=25&amp;version=c&amp;mr=m&amp;qw=q&amp;tp=txt_p&amp;tr=hb&amp;wget=v&amp;qget=v&amp;nget=vt\" title=\"1_Samuel 25:25\" sec=\"1_Samuel 25:25\">sentence</a>   <span class=\"number\">104|2611</span>\n",
       "        </div>\n",
       "        <div class=\"atoms\">\n",
       "                    <div class=\"catom  \" >\n",
       "        <div class=\"clause \" >\n",
       "            <a href=\"https://shebanq.ancient-data.org/hebrew/text?book=Samuel_I&amp;chapter=25&amp;verse=25&amp;version=c&amp;mr=m&amp;qw=q&amp;tp=txt_p&amp;tr=hb&amp;wget=v&amp;qget=v&amp;nget=vt\" title=\"1_Samuel 25:25\" sec=\"1_Samuel 25:25\">clause</a>   <span class=\"typ\">WXQt</span>\n",
       "        </div>\n",
       "        <div class=\"atoms\">\n",
       "                    <div class=\"patom  \" >\n",
       "        <div class=\"phrase \" >\n",
       "            <a href=\"https://shebanq.ancient-data.org/hebrew/text?book=Samuel_I&amp;chapter=25&amp;verse=25&amp;version=c&amp;mr=m&amp;qw=q&amp;tp=txt_p&amp;tr=hb&amp;wget=v&amp;qget=v&amp;nget=vt\" title=\"1_Samuel 25:25\" sec=\"1_Samuel 25:25\">phrase</a>   <span class=\"function\">Conj</span> <span class=\"typ\">CP</span>\n",
       "        </div>\n",
       "        <div class=\"atoms\">\n",
       "                    <div class=\"word  \" ><div class=\"h\"><a target=\"_blank\" href=\"https://shebanq.ancient-data.org/hebrew/word?version=c&amp;id=1W\" title=\"show this lexeme in SHEBANQ\">וַֽ</a></div><div class=\"features\"> <span class=\"pdp\"><a href=\"https://shebanq.ancient-data.org/hebrew/text?book=Samuel_I&amp;chapter=25&amp;verse=25&amp;version=c&amp;mr=m&amp;qw=q&amp;tp=txt_p&amp;tr=hb&amp;wget=v&amp;qget=v&amp;nget=vt\" title=\"1_Samuel 25:25\" sec=\"1_Samuel 25:25\">conj</a></span> <span class=\"gloss\">and</span> <span class=\"g_cons xft\"><span class=\"f\">g_cons=</span>W</span> <span class=\"sp xft\"><span class=\"f\">sp=</span>conj</span></div></div></div></div><div class=\"patom  l \" >\n",
       "        <div class=\"phrase \" >\n",
       "            <a href=\"https://shebanq.ancient-data.org/hebrew/text?book=Samuel_I&amp;chapter=25&amp;verse=25&amp;version=c&amp;mr=m&amp;qw=q&amp;tp=txt_p&amp;tr=hb&amp;wget=v&amp;qget=v&amp;nget=vt\" title=\"1_Samuel 25:25\" sec=\"1_Samuel 25:25\">phrase</a>   <span class=\"function\">Subj</span> <span class=\"typ\">PPrP</span>\n",
       "        </div>\n",
       "        <div class=\"atoms\">\n",
       "                    <div class=\"word  \" ><div class=\"h\"><a target=\"_blank\" href=\"https://shebanq.ancient-data.org/hebrew/word?version=c&amp;id=1ANJ\" title=\"show this lexeme in SHEBANQ\">אֲנִי֙ </a></div><div class=\"features\"> <span class=\"pdp\"><a href=\"https://shebanq.ancient-data.org/hebrew/text?book=Samuel_I&amp;chapter=25&amp;verse=25&amp;version=c&amp;mr=m&amp;qw=q&amp;tp=txt_p&amp;tr=hb&amp;wget=v&amp;qget=v&amp;nget=vt\" title=\"1_Samuel 25:25\" sec=\"1_Samuel 25:25\">prps</a></span> <span class=\"gloss\">i</span> <span class=\"g_cons xft\"><span class=\"f\">g_cons=</span>>NJ</span> <span class=\"sp xft\"><span class=\"f\">sp=</span>prps</span></div></div></div></div><div class=\"patom  r \" >\n",
       "        <div class=\"phrase \" >\n",
       "            <a href=\"https://shebanq.ancient-data.org/hebrew/text?book=Samuel_I&amp;chapter=25&amp;verse=25&amp;version=c&amp;mr=m&amp;qw=q&amp;tp=txt_p&amp;tr=hb&amp;wget=v&amp;qget=v&amp;nget=vt\" title=\"1_Samuel 25:25\" sec=\"1_Samuel 25:25\">phrase</a>   <span class=\"function\">Subj</span> <span class=\"typ\">PPrP|NP</span>\n",
       "        </div>\n",
       "        <div class=\"atoms\">\n",
       "                    <div class=\"word  \" ><div class=\"h\"><a target=\"_blank\" href=\"https://shebanq.ancient-data.org/hebrew/word?version=c&amp;id=1AMHn\" title=\"show this lexeme in SHEBANQ\">אֲמָ֣תְךָ֔ </a></div><div class=\"features\"> <span class=\"pdp\"><a href=\"https://shebanq.ancient-data.org/hebrew/text?book=Samuel_I&amp;chapter=25&amp;verse=25&amp;version=c&amp;mr=m&amp;qw=q&amp;tp=txt_p&amp;tr=hb&amp;wget=v&amp;qget=v&amp;nget=vt\" title=\"1_Samuel 25:25\" sec=\"1_Samuel 25:25\">subs</a></span> <span class=\"gloss\">handmaid</span> <span class=\"g_cons xft\"><span class=\"f\">g_cons=</span>>MTK</span> <span class=\"sp xft\"><span class=\"f\">sp=</span>subs</span></div></div></div></div><div class=\"patom  \" >\n",
       "        <div class=\"phrase \" >\n",
       "            <a href=\"https://shebanq.ancient-data.org/hebrew/text?book=Samuel_I&amp;chapter=25&amp;verse=25&amp;version=c&amp;mr=m&amp;qw=q&amp;tp=txt_p&amp;tr=hb&amp;wget=v&amp;qget=v&amp;nget=vt\" title=\"1_Samuel 25:25\" sec=\"1_Samuel 25:25\">phrase</a>   <span class=\"function\">Nega</span> <span class=\"typ\">NegP</span>\n",
       "        </div>\n",
       "        <div class=\"atoms\">\n",
       "                    <div class=\"word  \" ><div class=\"h\"><a target=\"_blank\" href=\"https://shebanq.ancient-data.org/hebrew/word?version=c&amp;id=1LA\" title=\"show this lexeme in SHEBANQ\">לֹ֥א </a></div><div class=\"features\"> <span class=\"pdp\"><a href=\"https://shebanq.ancient-data.org/hebrew/text?book=Samuel_I&amp;chapter=25&amp;verse=25&amp;version=c&amp;mr=m&amp;qw=q&amp;tp=txt_p&amp;tr=hb&amp;wget=v&amp;qget=v&amp;nget=vt\" title=\"1_Samuel 25:25\" sec=\"1_Samuel 25:25\">nega</a></span> <span class=\"gloss\">not</span> <span class=\"g_cons xft\"><span class=\"f\">g_cons=</span>L></span> <span class=\"sp xft\"><span class=\"f\">sp=</span>nega</span></div></div></div></div><div class=\"patom  \" >\n",
       "        <div class=\"phrase \" >\n",
       "            <a href=\"https://shebanq.ancient-data.org/hebrew/text?book=Samuel_I&amp;chapter=25&amp;verse=25&amp;version=c&amp;mr=m&amp;qw=q&amp;tp=txt_p&amp;tr=hb&amp;wget=v&amp;qget=v&amp;nget=vt\" title=\"1_Samuel 25:25\" sec=\"1_Samuel 25:25\">phrase</a>   <span class=\"function\">Pred</span> <span class=\"typ\">VP</span>\n",
       "        </div>\n",
       "        <div class=\"atoms\">\n",
       "                    <div class=\"word  \" ><div class=\"h\"><a target=\"_blank\" href=\"https://shebanq.ancient-data.org/hebrew/word?version=c&amp;id=1RAHv\" title=\"show this lexeme in SHEBANQ\">רָאִ֛יתִי </a></div><div class=\"features\"> <span class=\"pdp\"><a href=\"https://shebanq.ancient-data.org/hebrew/text?book=Samuel_I&amp;chapter=25&amp;verse=25&amp;version=c&amp;mr=m&amp;qw=q&amp;tp=txt_p&amp;tr=hb&amp;wget=v&amp;qget=v&amp;nget=vt\" title=\"1_Samuel 25:25\" sec=\"1_Samuel 25:25\">verb</a></span> <span class=\"gloss\">see</span> <span class=\"vs\">qal</span> <span class=\"vt\">perf</span> <span class=\"g_cons xft\"><span class=\"f\">g_cons=</span>R>JTJ</span> <span class=\"sp xft\"><span class=\"f\">sp=</span>verb</span></div></div></div></div><div class=\"patom  \" >\n",
       "        <div class=\"phrase \" >\n",
       "            <a href=\"https://shebanq.ancient-data.org/hebrew/text?book=Samuel_I&amp;chapter=25&amp;verse=25&amp;version=c&amp;mr=m&amp;qw=q&amp;tp=txt_p&amp;tr=hb&amp;wget=v&amp;qget=v&amp;nget=vt\" title=\"1_Samuel 25:25\" sec=\"1_Samuel 25:25\">phrase</a>   <span class=\"function\">Objc</span> <span class=\"typ\">PP</span>\n",
       "        </div>\n",
       "        <div class=\"atoms\">\n",
       "                    <div class=\"word  \" ><div class=\"h\"><a target=\"_blank\" href=\"https://shebanq.ancient-data.org/hebrew/word?version=c&amp;id=1AT\" title=\"show this lexeme in SHEBANQ\">אֶת־</a></div><div class=\"features\"> <span class=\"pdp\"><a href=\"https://shebanq.ancient-data.org/hebrew/text?book=Samuel_I&amp;chapter=25&amp;verse=25&amp;version=c&amp;mr=m&amp;qw=q&amp;tp=txt_p&amp;tr=hb&amp;wget=v&amp;qget=v&amp;nget=vt\" title=\"1_Samuel 25:25\" sec=\"1_Samuel 25:25\">prep</a></span> <span class=\"gloss\">&lt;object marker></span> <span class=\"g_cons xft\"><span class=\"f\">g_cons=</span>>T</span> <span class=\"sp xft\"><span class=\"f\">sp=</span>prep</span></div></div><div class=\"word  \" ><div class=\"h\"><a target=\"_blank\" href=\"https://shebanq.ancient-data.org/hebrew/word?version=c&amp;id=1NORn\" title=\"show this lexeme in SHEBANQ\">נַעֲרֵ֥י </a></div><div class=\"features\"> <span class=\"pdp\"><a href=\"https://shebanq.ancient-data.org/hebrew/text?book=Samuel_I&amp;chapter=25&amp;verse=25&amp;version=c&amp;mr=m&amp;qw=q&amp;tp=txt_p&amp;tr=hb&amp;wget=v&amp;qget=v&amp;nget=vt\" title=\"1_Samuel 25:25\" sec=\"1_Samuel 25:25\">subs</a></span> <span class=\"gloss\">boy</span> <span class=\"g_cons xft\"><span class=\"f\">g_cons=</span>N&lt;RJ</span> <span class=\"sp xft\"><span class=\"f\">sp=</span>subs</span></div></div><div class=\"word  \" ><div class=\"h\"><a target=\"_blank\" href=\"https://shebanq.ancient-data.org/hebrew/word?version=c&amp;id=1ADWNn\" title=\"show this lexeme in SHEBANQ\">אֲדֹנִ֖י </a></div><div class=\"features\"> <span class=\"pdp\"><a href=\"https://shebanq.ancient-data.org/hebrew/text?book=Samuel_I&amp;chapter=25&amp;verse=25&amp;version=c&amp;mr=m&amp;qw=q&amp;tp=txt_p&amp;tr=hb&amp;wget=v&amp;qget=v&amp;nget=vt\" title=\"1_Samuel 25:25\" sec=\"1_Samuel 25:25\">subs</a></span> <span class=\"gloss\">lord</span> <span class=\"g_cons xft\"><span class=\"f\">g_cons=</span>>DNJ</span> <span class=\"sp xft\"><span class=\"f\">sp=</span>subs</span></div></div></div></div></div></div><div class=\"catom  \" >\n",
       "        <div class=\"clause \" >\n",
       "            <a href=\"https://shebanq.ancient-data.org/hebrew/text?book=Samuel_I&amp;chapter=25&amp;verse=25&amp;version=c&amp;mr=m&amp;qw=q&amp;tp=txt_p&amp;tr=hb&amp;wget=v&amp;qget=v&amp;nget=vt\" title=\"1_Samuel 25:25\" sec=\"1_Samuel 25:25\">clause</a>   <span class=\"rela\">Attr</span> <span class=\"typ\">xQt0</span>\n",
       "        </div>\n",
       "        <div class=\"atoms\">\n",
       "                    <div class=\"patom  \" >\n",
       "        <div class=\"phrase \" >\n",
       "            <a href=\"https://shebanq.ancient-data.org/hebrew/text?book=Samuel_I&amp;chapter=25&amp;verse=25&amp;version=c&amp;mr=m&amp;qw=q&amp;tp=txt_p&amp;tr=hb&amp;wget=v&amp;qget=v&amp;nget=vt\" title=\"1_Samuel 25:25\" sec=\"1_Samuel 25:25\">phrase</a>   <span class=\"function\">Rela</span> <span class=\"typ\">CP</span>\n",
       "        </div>\n",
       "        <div class=\"atoms\">\n",
       "                    <div class=\"word  \" ><div class=\"h\"><a target=\"_blank\" href=\"https://shebanq.ancient-data.org/hebrew/word?version=c&amp;id=1ACR\" title=\"show this lexeme in SHEBANQ\">אֲשֶׁ֥ר </a></div><div class=\"features\"> <span class=\"pdp\"><a href=\"https://shebanq.ancient-data.org/hebrew/text?book=Samuel_I&amp;chapter=25&amp;verse=25&amp;version=c&amp;mr=m&amp;qw=q&amp;tp=txt_p&amp;tr=hb&amp;wget=v&amp;qget=v&amp;nget=vt\" title=\"1_Samuel 25:25\" sec=\"1_Samuel 25:25\">conj</a></span> <span class=\"gloss\">&lt;relative></span> <span class=\"g_cons xft\"><span class=\"f\">g_cons=</span>>CR</span> <span class=\"sp xft\"><span class=\"f\">sp=</span>conj</span></div></div></div></div><div class=\"patom  \" >\n",
       "        <div class=\"phrase \" >\n",
       "            <a href=\"https://shebanq.ancient-data.org/hebrew/text?book=Samuel_I&amp;chapter=25&amp;verse=25&amp;version=c&amp;mr=m&amp;qw=q&amp;tp=txt_p&amp;tr=hb&amp;wget=v&amp;qget=v&amp;nget=vt\" title=\"1_Samuel 25:25\" sec=\"1_Samuel 25:25\">phrase</a>   <span class=\"function\">Pred</span> <span class=\"typ\">VP</span>\n",
       "        </div>\n",
       "        <div class=\"atoms\">\n",
       "                    <div class=\"word  \" ><div class=\"h\"><a target=\"_blank\" href=\"https://shebanq.ancient-data.org/hebrew/word?version=c&amp;id=1CLXv\" title=\"show this lexeme in SHEBANQ\">שָׁלָֽחְתָּ׃ </a></div><div class=\"features\"> <span class=\"pdp\"><a href=\"https://shebanq.ancient-data.org/hebrew/text?book=Samuel_I&amp;chapter=25&amp;verse=25&amp;version=c&amp;mr=m&amp;qw=q&amp;tp=txt_p&amp;tr=hb&amp;wget=v&amp;qget=v&amp;nget=vt\" title=\"1_Samuel 25:25\" sec=\"1_Samuel 25:25\">verb</a></span> <span class=\"gloss\">send</span> <span class=\"vs\">qal</span> <span class=\"vt\">perf</span> <span class=\"g_cons xft\"><span class=\"f\">g_cons=</span>CLXT</span> <span class=\"sp xft\"><span class=\"f\">sp=</span>verb</span></div></div></div></div></div></div></div></div></div></div>"
      ],
      "text/plain": [
       "<IPython.core.display.HTML object>"
      ]
     },
     "metadata": {},
     "output_type": "display_data"
    }
   ],
   "source": [
    "A.show(tuples, condensed=False)"
   ]
  },
  {
   "cell_type": "markdown",
   "metadata": {},
   "source": [
    "#### we-x clauses with a non-qal verb\n",
    "\n",
    "If you look at the [clause types](https://etcbc.github.io/bhsa/features/hebrew/2017/typ.html)\n",
    "you see a lot of types indicating that the clause starts with `we`:\n",
    "\n",
    "```\n",
    "Way0\tWayyiqtol-null clause\n",
    "WayX\tWayyiqtol-X clause\n",
    "WIm0\tWe-imperative-null clause\n",
    "WImX\tWe-imperative-X clause\n",
    "WQt0\tWe-qatal-null clause\n",
    "WQtX\tWe-qatal-X clause\n",
    "WxI0\tWe-x-imperative-null clause\n",
    "WXIm\tWe-X-imperative clause\n",
    "WxIX\tWe-x-imperative-X clause\n",
    "WxQ0\tWe-x-qatal-null clause\n",
    "WXQt\tWe-X-qatal clause\n",
    "WxQX\tWe-x-qatal-X clause\n",
    "WxY0\tWe-x-yiqtol-null clause\n",
    "WXYq\tWe-X-yiqtol clause\n",
    "WxYX\tWe-x-yiqtol-X clause\n",
    "WYq0\tWe-yiqtol-null clause\n",
    "WYqX\tWe-yiqtol-X clause\n",
    "```\n",
    "\n",
    "We are interested in the `We-x` and `We-X` clauses, so all clauses whose `typ` starts with `Wx` or `WX`.\n",
    "\n",
    "There are quite a number of verb stems. By means of a regular expression we can pick everything except `qal`.\n",
    "\n",
    "In the\n",
    "[Python docs on regular expressions](https://docs.python.org/3/library/re.html#regular-expression-syntax)\n",
    "we see that we can check for that by `^(?:!qal)`."
   ]
  },
  {
   "cell_type": "code",
   "execution_count": 41,
   "metadata": {
    "ExecuteTime": {
     "end_time": "2018-05-24T08:01:53.494281Z",
     "start_time": "2018-05-24T08:01:52.486679Z"
    }
   },
   "outputs": [
    {
     "name": "stdout",
     "output_type": "stream",
     "text": [
      "  0.66s 3098 results\n"
     ]
    },
    {
     "data": {
      "text/html": [
       "<table>\n",
       "<tr class=\"tf\">\n",
       "  <th class=\"tf\">n</th><th class=\"tf\">p</th>\n",
       "  <th class=\"tf\">clause</th><th>word</th>\n",
       "</tr>\n",
       "\n",
       "<tr class=\"tf\"><td class=\"tf\">1</td><td class=\"tf\"> <a href=\"https://shebanq.ancient-data.org/hebrew/text?book=Genesis&amp;chapter=1&amp;verse=20&amp;version=c&amp;mr=m&amp;qw=q&amp;tp=txt_p&amp;tr=hb&amp;wget=v&amp;qget=v&amp;nget=vt\" title=\"show this passage in SHEBANQ\" sec=\"Genesis 1:20\">Genesis 1:20</a></td><td class=\"tf\"><a href=\"https://shebanq.ancient-data.org/hebrew/text?book=Genesis&amp;chapter=1&amp;verse=20&amp;version=c&amp;mr=m&amp;qw=q&amp;tp=txt_p&amp;tr=hb&amp;wget=v&amp;qget=v&amp;nget=vt\" title=\"Genesis 1:20\" sec=\"Genesis 1:20\"><span class=\"plain outer  rtl \"><span class=\"plain rtl  hlbx\" ><span class=\"plain rtl  \" ><span class=\"plain rtl  \" ><span class=\"plain rtl  \" ><span class=\"h\">וְ</span></span></span><span class=\"plain rtl  \" ><span class=\"plain rtl  \" ><span class=\"h\">עֹוף֙ </span></span></span><span class=\"plain rtl  \" ><span class=\"plain rtl  hl\" ><span class=\"h\">יְעֹופֵ֣ף </span></span></span><span class=\"plain rtl  \" ><span class=\"plain rtl  \" ><span class=\"h\">עַל־</span></span><span class=\"plain rtl  \" ><span class=\"h\">הָ</span></span><span class=\"plain rtl  \" ><span class=\"h\">אָ֔רֶץ </span></span></span><span class=\"plain rtl  \" ><span class=\"plain rtl  \" ><span class=\"h\">עַל־</span></span><span class=\"plain rtl  \" ><span class=\"h\">פְּנֵ֖י </span></span><span class=\"plain rtl  \" ><span class=\"h\">רְקִ֥יעַ </span></span><span class=\"plain rtl  \" ><span class=\"h\">הַ</span></span><span class=\"plain rtl  \" ><span class=\"h\">שָּׁמָֽיִם׃ </span></span></span></span></span></span></a></td><td class=\"tf\"><span class=\"plain outer  rtl  hl\" ><span class=\"h\">יְעֹופֵ֣ף </span></span></td></tr>\n",
       "<tr class=\"tf\"><td class=\"tf\">2</td><td class=\"tf\"> <a href=\"https://shebanq.ancient-data.org/hebrew/text?book=Genesis&amp;chapter=2&amp;verse=10&amp;version=c&amp;mr=m&amp;qw=q&amp;tp=txt_p&amp;tr=hb&amp;wget=v&amp;qget=v&amp;nget=vt\" title=\"show this passage in SHEBANQ\" sec=\"Genesis 2:10\">Genesis 2:10</a></td><td class=\"tf\"><a href=\"https://shebanq.ancient-data.org/hebrew/text?book=Genesis&amp;chapter=2&amp;verse=10&amp;version=c&amp;mr=m&amp;qw=q&amp;tp=txt_p&amp;tr=hb&amp;wget=v&amp;qget=v&amp;nget=vt\" title=\"Genesis 2:10\" sec=\"Genesis 2:10\"><span class=\"plain outer  rtl \"><span class=\"plain rtl  hlbx\" ><span class=\"plain rtl  \" ><span class=\"plain rtl  \" ><span class=\"plain rtl  \" ><span class=\"h\">וּ</span></span></span><span class=\"plain rtl  \" ><span class=\"plain rtl  \" ><span class=\"h\">מִ</span></span><span class=\"plain rtl  \" ><span class=\"h\">שָּׁם֙ </span></span></span><span class=\"plain rtl  \" ><span class=\"plain rtl  hl\" ><span class=\"h\">יִפָּרֵ֔ד </span></span></span></span></span></span></a></td><td class=\"tf\"><span class=\"plain outer  rtl  hl\" ><span class=\"h\">יִפָּרֵ֔ד </span></span></td></tr>\n",
       "<tr class=\"tf\"><td class=\"tf\">3</td><td class=\"tf\"> <a href=\"https://shebanq.ancient-data.org/hebrew/text?book=Genesis&amp;chapter=2&amp;verse=25&amp;version=c&amp;mr=m&amp;qw=q&amp;tp=txt_p&amp;tr=hb&amp;wget=v&amp;qget=v&amp;nget=vt\" title=\"show this passage in SHEBANQ\" sec=\"Genesis 2:25\">Genesis 2:25</a></td><td class=\"tf\"><a href=\"https://shebanq.ancient-data.org/hebrew/text?book=Genesis&amp;chapter=2&amp;verse=25&amp;version=c&amp;mr=m&amp;qw=q&amp;tp=txt_p&amp;tr=hb&amp;wget=v&amp;qget=v&amp;nget=vt\" title=\"Genesis 2:25\" sec=\"Genesis 2:25\"><span class=\"plain outer  rtl \"><span class=\"plain rtl  hlbx\" ><span class=\"plain rtl  \" ><span class=\"plain rtl  \" ><span class=\"plain rtl  \" ><span class=\"h\">וְ</span></span></span><span class=\"plain rtl  \" ><span class=\"plain rtl  \" ><span class=\"h\">לֹ֖א </span></span></span><span class=\"plain rtl  \" ><span class=\"plain rtl  hl\" ><span class=\"h\">יִתְבֹּשָֽׁשׁוּ׃ </span></span></span></span></span></span></a></td><td class=\"tf\"><span class=\"plain outer  rtl  hl\" ><span class=\"h\">יִתְבֹּשָֽׁשׁוּ׃ </span></span></td></tr>\n",
       "<tr class=\"tf\"><td class=\"tf\">4</td><td class=\"tf\"> <a href=\"https://shebanq.ancient-data.org/hebrew/text?book=Genesis&amp;chapter=3&amp;verse=18&amp;version=c&amp;mr=m&amp;qw=q&amp;tp=txt_p&amp;tr=hb&amp;wget=v&amp;qget=v&amp;nget=vt\" title=\"show this passage in SHEBANQ\" sec=\"Genesis 3:18\">Genesis 3:18</a></td><td class=\"tf\"><a href=\"https://shebanq.ancient-data.org/hebrew/text?book=Genesis&amp;chapter=3&amp;verse=18&amp;version=c&amp;mr=m&amp;qw=q&amp;tp=txt_p&amp;tr=hb&amp;wget=v&amp;qget=v&amp;nget=vt\" title=\"Genesis 3:18\" sec=\"Genesis 3:18\"><span class=\"plain outer  rtl \"><span class=\"plain rtl  hlbx\" ><span class=\"plain rtl  \" ><span class=\"plain rtl  \" ><span class=\"plain rtl  \" ><span class=\"h\">וְ</span></span></span><span class=\"plain rtl  \" ><span class=\"plain rtl  \" ><span class=\"h\">קֹ֥וץ </span></span><span class=\"plain rtl  \" ><span class=\"h\">וְ</span></span><span class=\"plain rtl  \" ><span class=\"h\">דַרְדַּ֖ר </span></span></span><span class=\"plain rtl  \" ><span class=\"plain rtl  hl\" ><span class=\"h\">תַּצְמִ֣יחַֽ </span></span></span><span class=\"plain rtl  \" ><span class=\"plain rtl  \" ><span class=\"h\">לָ֑ךְ </span></span></span></span></span></span></a></td><td class=\"tf\"><span class=\"plain outer  rtl  hl\" ><span class=\"h\">תַּצְמִ֣יחַֽ </span></span></td></tr>\n",
       "<tr class=\"tf\"><td class=\"tf\">5</td><td class=\"tf\"> <a href=\"https://shebanq.ancient-data.org/hebrew/text?book=Genesis&amp;chapter=4&amp;verse=4&amp;version=c&amp;mr=m&amp;qw=q&amp;tp=txt_p&amp;tr=hb&amp;wget=v&amp;qget=v&amp;nget=vt\" title=\"show this passage in SHEBANQ\" sec=\"Genesis 4:4\">Genesis 4:4</a></td><td class=\"tf\"><a href=\"https://shebanq.ancient-data.org/hebrew/text?book=Genesis&amp;chapter=4&amp;verse=4&amp;version=c&amp;mr=m&amp;qw=q&amp;tp=txt_p&amp;tr=hb&amp;wget=v&amp;qget=v&amp;nget=vt\" title=\"Genesis 4:4\" sec=\"Genesis 4:4\"><span class=\"plain outer  rtl \"><span class=\"plain rtl  hlbx\" ><span class=\"plain rtl  \" ><span class=\"plain rtl  \" ><span class=\"plain rtl  \" ><span class=\"h\">וְ</span></span></span><span class=\"plain rtl  \" ><span class=\"plain rtl  \" ><span class=\"h\">הֶ֨בֶל </span></span></span><span class=\"plain rtl  \" ><span class=\"plain rtl  hl\" ><span class=\"h\">הֵבִ֥יא </span></span></span><span class=\"plain rtl  \" ><span class=\"plain rtl  \" ><span class=\"h\">גַם־</span></span><span class=\"plain rtl  \" ><span class=\"h\">ה֛וּא </span></span></span><span class=\"plain rtl  \" ><span class=\"plain rtl  \" ><span class=\"h\">מִ</span></span><span class=\"plain rtl  \" ><span class=\"h\">בְּכֹרֹ֥ות </span></span><span class=\"plain rtl  \" ><span class=\"h\">צֹאנֹ֖ו </span></span><span class=\"plain rtl  \" ><span class=\"h\">וּ</span></span><span class=\"plain rtl  \" ><span class=\"h\">מֵֽ</span></span><span class=\"plain rtl  \" ><span class=\"h\">חֶלְבֵהֶ֑ן </span></span></span></span></span></span></a></td><td class=\"tf\"><span class=\"plain outer  rtl  hl\" ><span class=\"h\">הֵבִ֥יא </span></span></td></tr>\n",
       "<tr class=\"tf\"><td class=\"tf\">6</td><td class=\"tf\"> <a href=\"https://shebanq.ancient-data.org/hebrew/text?book=Genesis&amp;chapter=4&amp;verse=7&amp;version=c&amp;mr=m&amp;qw=q&amp;tp=txt_p&amp;tr=hb&amp;wget=v&amp;qget=v&amp;nget=vt\" title=\"show this passage in SHEBANQ\" sec=\"Genesis 4:7\">Genesis 4:7</a></td><td class=\"tf\"><a href=\"https://shebanq.ancient-data.org/hebrew/text?book=Genesis&amp;chapter=4&amp;verse=7&amp;version=c&amp;mr=m&amp;qw=q&amp;tp=txt_p&amp;tr=hb&amp;wget=v&amp;qget=v&amp;nget=vt\" title=\"Genesis 4:7\" sec=\"Genesis 4:7\"><span class=\"plain outer  rtl \"><span class=\"plain rtl  hlbx\" ><span class=\"plain rtl  \" ><span class=\"plain rtl  \" ><span class=\"plain rtl  \" ><span class=\"h\">וְ</span></span></span><span class=\"plain rtl  \" ><span class=\"plain rtl  \" ><span class=\"h\">אִם֙ </span></span></span><span class=\"plain rtl  \" ><span class=\"plain rtl  \" ><span class=\"h\">לֹ֣א </span></span></span><span class=\"plain rtl  \" ><span class=\"plain rtl  hl\" ><span class=\"h\">תֵיטִ֔יב </span></span></span></span></span></span></a></td><td class=\"tf\"><span class=\"plain outer  rtl  hl\" ><span class=\"h\">תֵיטִ֔יב </span></span></td></tr>\n",
       "<tr class=\"tf\"><td class=\"tf\">7</td><td class=\"tf\"> <a href=\"https://shebanq.ancient-data.org/hebrew/text?book=Genesis&amp;chapter=4&amp;verse=14&amp;version=c&amp;mr=m&amp;qw=q&amp;tp=txt_p&amp;tr=hb&amp;wget=v&amp;qget=v&amp;nget=vt\" title=\"show this passage in SHEBANQ\" sec=\"Genesis 4:14\">Genesis 4:14</a></td><td class=\"tf\"><a href=\"https://shebanq.ancient-data.org/hebrew/text?book=Genesis&amp;chapter=4&amp;verse=14&amp;version=c&amp;mr=m&amp;qw=q&amp;tp=txt_p&amp;tr=hb&amp;wget=v&amp;qget=v&amp;nget=vt\" title=\"Genesis 4:14\" sec=\"Genesis 4:14\"><span class=\"plain outer  rtl \"><span class=\"plain rtl  hlbx\" ><span class=\"plain rtl  \" ><span class=\"plain rtl  \" ><span class=\"plain rtl  \" ><span class=\"h\">וּ</span></span></span><span class=\"plain rtl  \" ><span class=\"plain rtl  \" ><span class=\"h\">מִ</span></span><span class=\"plain rtl  \" ><span class=\"h\">פָּנֶ֖יךָ </span></span></span><span class=\"plain rtl  \" ><span class=\"plain rtl  hl\" ><span class=\"h\">אֶסָּתֵ֑ר </span></span></span></span></span></span></a></td><td class=\"tf\"><span class=\"plain outer  rtl  hl\" ><span class=\"h\">אֶסָּתֵ֑ר </span></span></td></tr>\n",
       "<tr class=\"tf\"><td class=\"tf\">8</td><td class=\"tf\"> <a href=\"https://shebanq.ancient-data.org/hebrew/text?book=Genesis&amp;chapter=4&amp;verse=26&amp;version=c&amp;mr=m&amp;qw=q&amp;tp=txt_p&amp;tr=hb&amp;wget=v&amp;qget=v&amp;nget=vt\" title=\"show this passage in SHEBANQ\" sec=\"Genesis 4:26\">Genesis 4:26</a></td><td class=\"tf\"><a href=\"https://shebanq.ancient-data.org/hebrew/text?book=Genesis&amp;chapter=4&amp;verse=26&amp;version=c&amp;mr=m&amp;qw=q&amp;tp=txt_p&amp;tr=hb&amp;wget=v&amp;qget=v&amp;nget=vt\" title=\"Genesis 4:26\" sec=\"Genesis 4:26\"><span class=\"plain outer  rtl \"><span class=\"plain rtl  hlbx\" ><span class=\"plain rtl  \" ><span class=\"plain rtl  \" ><span class=\"plain rtl  \" ><span class=\"h\">וּ</span></span></span><span class=\"plain rtl  \" ><span class=\"plain rtl  \" ><span class=\"h\">לְ</span></span><span class=\"plain rtl  \" ><span class=\"h\">שֵׁ֤ת </span></span></span><span class=\"plain rtl  \" ><span class=\"plain rtl  \" ><span class=\"h\">גַּם־</span></span><span class=\"plain rtl  \" ><span class=\"h\">הוּא֙ </span></span></span><span class=\"plain rtl  \" ><span class=\"plain rtl  hl\" ><span class=\"h\">יֻלַּד־</span></span></span><span class=\"plain rtl  \" ><span class=\"plain rtl  \" ><span class=\"h\">בֵּ֔ן </span></span></span></span></span></span></a></td><td class=\"tf\"><span class=\"plain outer  rtl  hl\" ><span class=\"h\">יֻלַּד־</span></span></td></tr>\n",
       "<tr class=\"tf\"><td class=\"tf\">9</td><td class=\"tf\"> <a href=\"https://shebanq.ancient-data.org/hebrew/text?book=Genesis&amp;chapter=6&amp;verse=1&amp;version=c&amp;mr=m&amp;qw=q&amp;tp=txt_p&amp;tr=hb&amp;wget=v&amp;qget=v&amp;nget=vt\" title=\"show this passage in SHEBANQ\" sec=\"Genesis 6:1\">Genesis 6:1</a></td><td class=\"tf\"><a href=\"https://shebanq.ancient-data.org/hebrew/text?book=Genesis&amp;chapter=6&amp;verse=1&amp;version=c&amp;mr=m&amp;qw=q&amp;tp=txt_p&amp;tr=hb&amp;wget=v&amp;qget=v&amp;nget=vt\" title=\"Genesis 6:1\" sec=\"Genesis 6:1\"><span class=\"plain outer  rtl \"><span class=\"plain rtl  hlbx\" ><span class=\"plain rtl  \" ><span class=\"plain rtl  \" ><span class=\"plain rtl  \" ><span class=\"h\">וּ</span></span></span><span class=\"plain rtl  \" ><span class=\"plain rtl  \" ><span class=\"h\">בָנֹ֖ות </span></span></span><span class=\"plain rtl  \" ><span class=\"plain rtl  hl\" ><span class=\"h\">יֻלְּד֥וּ </span></span></span><span class=\"plain rtl  \" ><span class=\"plain rtl  \" ><span class=\"h\">לָהֶֽם׃ </span></span></span></span></span></span></a></td><td class=\"tf\"><span class=\"plain outer  rtl  hl\" ><span class=\"h\">יֻלְּד֥וּ </span></span></td></tr>\n",
       "<tr class=\"tf\"><td class=\"tf\">10</td><td class=\"tf\"> <a href=\"https://shebanq.ancient-data.org/hebrew/text?book=Genesis&amp;chapter=6&amp;verse=12&amp;version=c&amp;mr=m&amp;qw=q&amp;tp=txt_p&amp;tr=hb&amp;wget=v&amp;qget=v&amp;nget=vt\" title=\"show this passage in SHEBANQ\" sec=\"Genesis 6:12\">Genesis 6:12</a></td><td class=\"tf\"><a href=\"https://shebanq.ancient-data.org/hebrew/text?book=Genesis&amp;chapter=6&amp;verse=12&amp;version=c&amp;mr=m&amp;qw=q&amp;tp=txt_p&amp;tr=hb&amp;wget=v&amp;qget=v&amp;nget=vt\" title=\"Genesis 6:12\" sec=\"Genesis 6:12\"><span class=\"plain outer  rtl \"><span class=\"plain rtl  hlbx\" ><span class=\"plain rtl  \" ><span class=\"plain rtl  \" ><span class=\"plain rtl  \" ><span class=\"h\">וְ</span></span></span><span class=\"plain rtl  \" ><span class=\"plain rtl  \" ><span class=\"h\">הִנֵּ֣ה </span></span></span><span class=\"plain rtl  \" ><span class=\"plain rtl  hl\" ><span class=\"h\">נִשְׁחָ֑תָה </span></span></span></span></span></span></a></td><td class=\"tf\"><span class=\"plain outer  rtl  hl\" ><span class=\"h\">נִשְׁחָ֑תָה </span></span></td></tr></table>"
      ],
      "text/plain": [
       "<IPython.core.display.HTML object>"
      ]
     },
     "metadata": {},
     "output_type": "display_data"
    }
   ],
   "source": [
    "query = '''\n",
    "clause typ~^W[xX]\n",
    "  word sp=verb vs#qal\n",
    "'''\n",
    "results = list(A.search(query))\n",
    "A.table(results, end=10)"
   ]
  },
  {
   "cell_type": "code",
   "execution_count": 42,
   "metadata": {
    "ExecuteTime": {
     "end_time": "2018-05-24T08:01:55.203227Z",
     "start_time": "2018-05-24T08:01:55.051290Z"
    }
   },
   "outputs": [
    {
     "data": {
      "text/html": [
       "<p><b>result</b> <i>0</i></p>"
      ],
      "text/plain": [
       "<IPython.core.display.HTML object>"
      ]
     },
     "metadata": {},
     "output_type": "display_data"
    },
    {
     "data": {
      "text/html": [
       "<div class=\"outeritem\"><div class=\"verse  \" >\n",
       "    <div class=\"vl\">\n",
       "        <div class=\"vrs\"><a href=\"https://shebanq.ancient-data.org/hebrew/text?book=Chronica_II&amp;chapter=36&amp;verse=22&amp;version=c&amp;mr=m&amp;qw=q&amp;tp=txt_p&amp;tr=hb&amp;wget=v&amp;qget=v&amp;nget=vt\" title=\"show this passage in SHEBANQ\" sec=\"2_Chronicles 36:22\">2_Chronicles 36:22</a></div>\n",
       "        \n",
       "    </div>\n",
       "<div class=\"satom  \" >\n",
       "        <div class=\"sentence \" >\n",
       "            <a href=\"https://shebanq.ancient-data.org/hebrew/text?book=Chronica_II&amp;chapter=36&amp;verse=22&amp;version=c&amp;mr=m&amp;qw=q&amp;tp=txt_p&amp;tr=hb&amp;wget=v&amp;qget=v&amp;nget=vt\" title=\"2_Chronicles 36:22\" sec=\"2_Chronicles 36:22\">sentence</a>   <span class=\"number\">51|2264</span>\n",
       "        </div>\n",
       "        <div class=\"atoms\">\n",
       "                    <div class=\"catom  l hl\" >\n",
       "        <div class=\"clause hl\" >\n",
       "            <a href=\"https://shebanq.ancient-data.org/hebrew/text?book=Chronica_II&amp;chapter=36&amp;verse=22&amp;version=c&amp;mr=m&amp;qw=q&amp;tp=txt_p&amp;tr=hb&amp;wget=v&amp;qget=v&amp;nget=vt\" title=\"2_Chronicles 36:22\" sec=\"2_Chronicles 36:22\">clause</a>   <span class=\"typ\">WxQX|Defc</span>\n",
       "        </div>\n",
       "        <div class=\"atoms\">\n",
       "                    <div class=\"patom  \" >\n",
       "        <div class=\"phrase \" >\n",
       "            <a href=\"https://shebanq.ancient-data.org/hebrew/text?book=Chronica_II&amp;chapter=36&amp;verse=22&amp;version=c&amp;mr=m&amp;qw=q&amp;tp=txt_p&amp;tr=hb&amp;wget=v&amp;qget=v&amp;nget=vt\" title=\"2_Chronicles 36:22\" sec=\"2_Chronicles 36:22\">phrase</a>   <span class=\"function\">Conj</span> <span class=\"typ\">CP</span>\n",
       "        </div>\n",
       "        <div class=\"atoms\">\n",
       "                    <div class=\"word  \" ><div class=\"h\"><a target=\"_blank\" href=\"https://shebanq.ancient-data.org/hebrew/word?version=c&amp;id=1W\" title=\"show this lexeme in SHEBANQ\">וּ</a></div><div class=\"features\"> <span class=\"pdp\"><a href=\"https://shebanq.ancient-data.org/hebrew/text?book=Chronica_II&amp;chapter=36&amp;verse=22&amp;version=c&amp;mr=m&amp;qw=q&amp;tp=txt_p&amp;tr=hb&amp;wget=v&amp;qget=v&amp;nget=vt\" title=\"2_Chronicles 36:22\" sec=\"2_Chronicles 36:22\">conj</a></span> <span class=\"gloss\">and</span> <span class=\"sp xft\"><span class=\"f\">sp=</span>conj</span></div></div></div></div><div class=\"patom  l \" >\n",
       "        <div class=\"phrase \" >\n",
       "            <a href=\"https://shebanq.ancient-data.org/hebrew/text?book=Chronica_II&amp;chapter=36&amp;verse=22&amp;version=c&amp;mr=m&amp;qw=q&amp;tp=txt_p&amp;tr=hb&amp;wget=v&amp;qget=v&amp;nget=vt\" title=\"2_Chronicles 36:22\" sec=\"2_Chronicles 36:22\">phrase</a>   <span class=\"function\">Time</span> <span class=\"typ\">PP</span>\n",
       "        </div>\n",
       "        <div class=\"atoms\">\n",
       "                    <div class=\"word  \" ><div class=\"h\"><a target=\"_blank\" href=\"https://shebanq.ancient-data.org/hebrew/word?version=c&amp;id=1B\" title=\"show this lexeme in SHEBANQ\">בִ</a></div><div class=\"features\"> <span class=\"pdp\"><a href=\"https://shebanq.ancient-data.org/hebrew/text?book=Chronica_II&amp;chapter=36&amp;verse=22&amp;version=c&amp;mr=m&amp;qw=q&amp;tp=txt_p&amp;tr=hb&amp;wget=v&amp;qget=v&amp;nget=vt\" title=\"2_Chronicles 36:22\" sec=\"2_Chronicles 36:22\">prep</a></span> <span class=\"gloss\">in</span> <span class=\"sp xft\"><span class=\"f\">sp=</span>prep</span></div></div><div class=\"word  \" ><div class=\"h\"><a target=\"_blank\" href=\"https://shebanq.ancient-data.org/hebrew/word?version=c&amp;id=1CNHn\" title=\"show this lexeme in SHEBANQ\">שְׁנַ֣ת </a></div><div class=\"features\"> <span class=\"pdp\"><a href=\"https://shebanq.ancient-data.org/hebrew/text?book=Chronica_II&amp;chapter=36&amp;verse=22&amp;version=c&amp;mr=m&amp;qw=q&amp;tp=txt_p&amp;tr=hb&amp;wget=v&amp;qget=v&amp;nget=vt\" title=\"2_Chronicles 36:22\" sec=\"2_Chronicles 36:22\">subs</a></span> <span class=\"gloss\">year</span> <span class=\"sp xft\"><span class=\"f\">sp=</span>subs</span></div></div><div class=\"word  \" ><div class=\"h\"><a target=\"_blank\" href=\"https://shebanq.ancient-data.org/hebrew/word?version=c&amp;id=1AXDn\" title=\"show this lexeme in SHEBANQ\">אַחַ֗ת </a></div><div class=\"features\"> <span class=\"pdp\"><a href=\"https://shebanq.ancient-data.org/hebrew/text?book=Chronica_II&amp;chapter=36&amp;verse=22&amp;version=c&amp;mr=m&amp;qw=q&amp;tp=txt_p&amp;tr=hb&amp;wget=v&amp;qget=v&amp;nget=vt\" title=\"2_Chronicles 36:22\" sec=\"2_Chronicles 36:22\">subs</a></span> <span class=\"gloss\">one</span> <span class=\"sp xft\"><span class=\"f\">sp=</span>subs</span></div></div></div></div><div class=\"patom  r l \" >\n",
       "        <div class=\"phrase \" >\n",
       "            <a href=\"https://shebanq.ancient-data.org/hebrew/text?book=Chronica_II&amp;chapter=36&amp;verse=22&amp;version=c&amp;mr=m&amp;qw=q&amp;tp=txt_p&amp;tr=hb&amp;wget=v&amp;qget=v&amp;nget=vt\" title=\"2_Chronicles 36:22\" sec=\"2_Chronicles 36:22\">phrase</a>   <span class=\"function\">Time</span> <span class=\"typ\">PP</span>\n",
       "        </div>\n",
       "        <div class=\"atoms\">\n",
       "                    <div class=\"word  \" ><div class=\"h\"><a target=\"_blank\" href=\"https://shebanq.ancient-data.org/hebrew/word?version=c&amp;id=1L\" title=\"show this lexeme in SHEBANQ\">לְ</a></div><div class=\"features\"> <span class=\"pdp\"><a href=\"https://shebanq.ancient-data.org/hebrew/text?book=Chronica_II&amp;chapter=36&amp;verse=22&amp;version=c&amp;mr=m&amp;qw=q&amp;tp=txt_p&amp;tr=hb&amp;wget=v&amp;qget=v&amp;nget=vt\" title=\"2_Chronicles 36:22\" sec=\"2_Chronicles 36:22\">prep</a></span> <span class=\"gloss\">to</span> <span class=\"sp xft\"><span class=\"f\">sp=</span>prep</span></div></div><div class=\"word  \" ><div class=\"h\"><a target=\"_blank\" href=\"https://shebanq.ancient-data.org/hebrew/word?version=c&amp;id=1KWRCn\" title=\"show this lexeme in SHEBANQ\">כֹ֨ורֶשׁ֙ </a></div><div class=\"features\"> <span class=\"pdp\"><a href=\"https://shebanq.ancient-data.org/hebrew/text?book=Chronica_II&amp;chapter=36&amp;verse=22&amp;version=c&amp;mr=m&amp;qw=q&amp;tp=txt_p&amp;tr=hb&amp;wget=v&amp;qget=v&amp;nget=vt\" title=\"2_Chronicles 36:22\" sec=\"2_Chronicles 36:22\">nmpr</a></span> <span class=\"gloss\">Cyrus</span> <span class=\"sp xft\"><span class=\"f\">sp=</span>nmpr</span></div></div></div></div><div class=\"patom  r \" >\n",
       "        <div class=\"phrase \" >\n",
       "            <a href=\"https://shebanq.ancient-data.org/hebrew/text?book=Chronica_II&amp;chapter=36&amp;verse=22&amp;version=c&amp;mr=m&amp;qw=q&amp;tp=txt_p&amp;tr=hb&amp;wget=v&amp;qget=v&amp;nget=vt\" title=\"2_Chronicles 36:22\" sec=\"2_Chronicles 36:22\">phrase</a>   <span class=\"function\">Time</span> <span class=\"typ\">PP|NP</span>\n",
       "        </div>\n",
       "        <div class=\"atoms\">\n",
       "                    <div class=\"word  \" ><div class=\"h\"><a target=\"_blank\" href=\"https://shebanq.ancient-data.org/hebrew/word?version=c&amp;id=1MLKn\" title=\"show this lexeme in SHEBANQ\">מֶ֣לֶךְ </a></div><div class=\"features\"> <span class=\"pdp\"><a href=\"https://shebanq.ancient-data.org/hebrew/text?book=Chronica_II&amp;chapter=36&amp;verse=22&amp;version=c&amp;mr=m&amp;qw=q&amp;tp=txt_p&amp;tr=hb&amp;wget=v&amp;qget=v&amp;nget=vt\" title=\"2_Chronicles 36:22\" sec=\"2_Chronicles 36:22\">subs</a></span> <span class=\"gloss\">king</span> <span class=\"sp xft\"><span class=\"f\">sp=</span>subs</span></div></div><div class=\"word  \" ><div class=\"h\"><a target=\"_blank\" href=\"https://shebanq.ancient-data.org/hebrew/word?version=c&amp;id=1PRSin\" title=\"show this lexeme in SHEBANQ\">פָּרַ֔ס </a></div><div class=\"features\"> <span class=\"pdp\"><a href=\"https://shebanq.ancient-data.org/hebrew/text?book=Chronica_II&amp;chapter=36&amp;verse=22&amp;version=c&amp;mr=m&amp;qw=q&amp;tp=txt_p&amp;tr=hb&amp;wget=v&amp;qget=v&amp;nget=vt\" title=\"2_Chronicles 36:22\" sec=\"2_Chronicles 36:22\">nmpr</a></span> <span class=\"gloss\">Persia</span> <span class=\"sp xft\"><span class=\"f\">sp=</span>nmpr</span></div></div></div></div></div></div><div class=\"catom  \" >\n",
       "        <div class=\"clause \" >\n",
       "            <a href=\"https://shebanq.ancient-data.org/hebrew/text?book=Chronica_II&amp;chapter=36&amp;verse=22&amp;version=c&amp;mr=m&amp;qw=q&amp;tp=txt_p&amp;tr=hb&amp;wget=v&amp;qget=v&amp;nget=vt\" title=\"2_Chronicles 36:22\" sec=\"2_Chronicles 36:22\">clause</a>   <span class=\"rela\">Adju</span> <span class=\"typ\">InfC</span>\n",
       "        </div>\n",
       "        <div class=\"atoms\">\n",
       "                    <div class=\"patom  \" >\n",
       "        <div class=\"phrase \" >\n",
       "            <a href=\"https://shebanq.ancient-data.org/hebrew/text?book=Chronica_II&amp;chapter=36&amp;verse=22&amp;version=c&amp;mr=m&amp;qw=q&amp;tp=txt_p&amp;tr=hb&amp;wget=v&amp;qget=v&amp;nget=vt\" title=\"2_Chronicles 36:22\" sec=\"2_Chronicles 36:22\">phrase</a>   <span class=\"function\">Pred</span> <span class=\"typ\">VP</span>\n",
       "        </div>\n",
       "        <div class=\"atoms\">\n",
       "                    <div class=\"word  \" ><div class=\"h\"><a target=\"_blank\" href=\"https://shebanq.ancient-data.org/hebrew/word?version=c&amp;id=1L\" title=\"show this lexeme in SHEBANQ\">לִ</a></div><div class=\"features\"> <span class=\"pdp\"><a href=\"https://shebanq.ancient-data.org/hebrew/text?book=Chronica_II&amp;chapter=36&amp;verse=22&amp;version=c&amp;mr=m&amp;qw=q&amp;tp=txt_p&amp;tr=hb&amp;wget=v&amp;qget=v&amp;nget=vt\" title=\"2_Chronicles 36:22\" sec=\"2_Chronicles 36:22\">prep</a></span> <span class=\"gloss\">to</span> <span class=\"sp xft\"><span class=\"f\">sp=</span>prep</span></div></div><div class=\"word  \" ><div class=\"h\"><a target=\"_blank\" href=\"https://shebanq.ancient-data.org/hebrew/word?version=c&amp;id=1KLHv\" title=\"show this lexeme in SHEBANQ\">כְלֹ֥ות </a></div><div class=\"features\"> <span class=\"pdp\"><a href=\"https://shebanq.ancient-data.org/hebrew/text?book=Chronica_II&amp;chapter=36&amp;verse=22&amp;version=c&amp;mr=m&amp;qw=q&amp;tp=txt_p&amp;tr=hb&amp;wget=v&amp;qget=v&amp;nget=vt\" title=\"2_Chronicles 36:22\" sec=\"2_Chronicles 36:22\">verb</a></span> <span class=\"gloss\">be complete</span> <span class=\"vs\">qal</span> <span class=\"vt\">infc</span> <span class=\"sp xft\"><span class=\"f\">sp=</span>verb</span></div></div></div></div><div class=\"patom  l \" >\n",
       "        <div class=\"phrase \" >\n",
       "            <a href=\"https://shebanq.ancient-data.org/hebrew/text?book=Chronica_II&amp;chapter=36&amp;verse=22&amp;version=c&amp;mr=m&amp;qw=q&amp;tp=txt_p&amp;tr=hb&amp;wget=v&amp;qget=v&amp;nget=vt\" title=\"2_Chronicles 36:22\" sec=\"2_Chronicles 36:22\">phrase</a>   <span class=\"function\">Subj</span> <span class=\"typ\">NP</span>\n",
       "        </div>\n",
       "        <div class=\"atoms\">\n",
       "                    <div class=\"word  \" ><div class=\"h\"><a target=\"_blank\" href=\"https://shebanq.ancient-data.org/hebrew/word?version=c&amp;id=1DBRn\" title=\"show this lexeme in SHEBANQ\">דְּבַר־</a></div><div class=\"features\"> <span class=\"pdp\"><a href=\"https://shebanq.ancient-data.org/hebrew/text?book=Chronica_II&amp;chapter=36&amp;verse=22&amp;version=c&amp;mr=m&amp;qw=q&amp;tp=txt_p&amp;tr=hb&amp;wget=v&amp;qget=v&amp;nget=vt\" title=\"2_Chronicles 36:22\" sec=\"2_Chronicles 36:22\">subs</a></span> <span class=\"gloss\">word</span> <span class=\"sp xft\"><span class=\"f\">sp=</span>subs</span></div></div><div class=\"word  \" ><div class=\"h\"><a target=\"_blank\" href=\"https://shebanq.ancient-data.org/hebrew/word?version=c&amp;id=1JHWHn\" title=\"show this lexeme in SHEBANQ\">יְהוָ֖ה </a></div><div class=\"features\"> <span class=\"pdp\"><a href=\"https://shebanq.ancient-data.org/hebrew/text?book=Chronica_II&amp;chapter=36&amp;verse=22&amp;version=c&amp;mr=m&amp;qw=q&amp;tp=txt_p&amp;tr=hb&amp;wget=v&amp;qget=v&amp;nget=vt\" title=\"2_Chronicles 36:22\" sec=\"2_Chronicles 36:22\">nmpr</a></span> <span class=\"gloss\">YHWH</span> <span class=\"sp xft\"><span class=\"f\">sp=</span>nmpr</span></div></div></div></div><div class=\"patom  r \" >\n",
       "        <div class=\"phrase \" >\n",
       "            <a href=\"https://shebanq.ancient-data.org/hebrew/text?book=Chronica_II&amp;chapter=36&amp;verse=22&amp;version=c&amp;mr=m&amp;qw=q&amp;tp=txt_p&amp;tr=hb&amp;wget=v&amp;qget=v&amp;nget=vt\" title=\"2_Chronicles 36:22\" sec=\"2_Chronicles 36:22\">phrase</a>   <span class=\"function\">Subj</span> <span class=\"typ\">NP|PP</span>\n",
       "        </div>\n",
       "        <div class=\"atoms\">\n",
       "                    <div class=\"word  \" ><div class=\"h\"><a target=\"_blank\" href=\"https://shebanq.ancient-data.org/hebrew/word?version=c&amp;id=1B\" title=\"show this lexeme in SHEBANQ\">בְּ</a></div><div class=\"features\"> <span class=\"pdp\"><a href=\"https://shebanq.ancient-data.org/hebrew/text?book=Chronica_II&amp;chapter=36&amp;verse=22&amp;version=c&amp;mr=m&amp;qw=q&amp;tp=txt_p&amp;tr=hb&amp;wget=v&amp;qget=v&amp;nget=vt\" title=\"2_Chronicles 36:22\" sec=\"2_Chronicles 36:22\">prep</a></span> <span class=\"gloss\">in</span> <span class=\"sp xft\"><span class=\"f\">sp=</span>prep</span></div></div><div class=\"word  \" ><div class=\"h\"><a target=\"_blank\" href=\"https://shebanq.ancient-data.org/hebrew/word?version=c&amp;id=1PHn\" title=\"show this lexeme in SHEBANQ\">פִ֣י </a></div><div class=\"features\"> <span class=\"pdp\"><a href=\"https://shebanq.ancient-data.org/hebrew/text?book=Chronica_II&amp;chapter=36&amp;verse=22&amp;version=c&amp;mr=m&amp;qw=q&amp;tp=txt_p&amp;tr=hb&amp;wget=v&amp;qget=v&amp;nget=vt\" title=\"2_Chronicles 36:22\" sec=\"2_Chronicles 36:22\">subs</a></span> <span class=\"gloss\">mouth</span> <span class=\"sp xft\"><span class=\"f\">sp=</span>subs</span></div></div><div class=\"word  \" ><div class=\"h\"><a target=\"_blank\" href=\"https://shebanq.ancient-data.org/hebrew/word?version=c&amp;id=1JRMJHWn\" title=\"show this lexeme in SHEBANQ\">יִרְמְיָ֑הוּ </a></div><div class=\"features\"> <span class=\"pdp\"><a href=\"https://shebanq.ancient-data.org/hebrew/text?book=Chronica_II&amp;chapter=36&amp;verse=22&amp;version=c&amp;mr=m&amp;qw=q&amp;tp=txt_p&amp;tr=hb&amp;wget=v&amp;qget=v&amp;nget=vt\" title=\"2_Chronicles 36:22\" sec=\"2_Chronicles 36:22\">nmpr</a></span> <span class=\"gloss\">Jeremiah</span> <span class=\"sp xft\"><span class=\"f\">sp=</span>nmpr</span></div></div></div></div></div></div><div class=\"catom  r hl\" >\n",
       "        <div class=\"clause hl\" >\n",
       "            <a href=\"https://shebanq.ancient-data.org/hebrew/text?book=Chronica_II&amp;chapter=36&amp;verse=22&amp;version=c&amp;mr=m&amp;qw=q&amp;tp=txt_p&amp;tr=hb&amp;wget=v&amp;qget=v&amp;nget=vt\" title=\"2_Chronicles 36:22\" sec=\"2_Chronicles 36:22\">clause</a>   <span class=\"typ\">WxQX|ZQtX</span>\n",
       "        </div>\n",
       "        <div class=\"atoms\">\n",
       "                    <div class=\"patom  \" >\n",
       "        <div class=\"phrase \" >\n",
       "            <a href=\"https://shebanq.ancient-data.org/hebrew/text?book=Chronica_II&amp;chapter=36&amp;verse=22&amp;version=c&amp;mr=m&amp;qw=q&amp;tp=txt_p&amp;tr=hb&amp;wget=v&amp;qget=v&amp;nget=vt\" title=\"2_Chronicles 36:22\" sec=\"2_Chronicles 36:22\">phrase</a>   <span class=\"function\">Pred</span> <span class=\"typ\">VP</span>\n",
       "        </div>\n",
       "        <div class=\"atoms\">\n",
       "                    <div class=\"word  hl\" ><div class=\"h\"><a target=\"_blank\" href=\"https://shebanq.ancient-data.org/hebrew/word?version=c&amp;id=1OWRv\" title=\"show this lexeme in SHEBANQ\">הֵעִ֣יר </a></div><div class=\"features\"> <span class=\"pdp\"><a href=\"https://shebanq.ancient-data.org/hebrew/text?book=Chronica_II&amp;chapter=36&amp;verse=22&amp;version=c&amp;mr=m&amp;qw=q&amp;tp=txt_p&amp;tr=hb&amp;wget=v&amp;qget=v&amp;nget=vt\" title=\"2_Chronicles 36:22\" sec=\"2_Chronicles 36:22\">verb</a></span> <span class=\"gloss\">be awake</span> <span class=\"vs\">hif</span> <span class=\"vt\">perf</span> <span class=\"sp xft\"><span class=\"f\">sp=</span>verb</span></div></div></div></div><div class=\"patom  \" >\n",
       "        <div class=\"phrase \" >\n",
       "            <a href=\"https://shebanq.ancient-data.org/hebrew/text?book=Chronica_II&amp;chapter=36&amp;verse=22&amp;version=c&amp;mr=m&amp;qw=q&amp;tp=txt_p&amp;tr=hb&amp;wget=v&amp;qget=v&amp;nget=vt\" title=\"2_Chronicles 36:22\" sec=\"2_Chronicles 36:22\">phrase</a>   <span class=\"function\">Subj</span> <span class=\"typ\">PrNP</span>\n",
       "        </div>\n",
       "        <div class=\"atoms\">\n",
       "                    <div class=\"word  \" ><div class=\"h\"><a target=\"_blank\" href=\"https://shebanq.ancient-data.org/hebrew/word?version=c&amp;id=1JHWHn\" title=\"show this lexeme in SHEBANQ\">יְהוָ֗ה </a></div><div class=\"features\"> <span class=\"pdp\"><a href=\"https://shebanq.ancient-data.org/hebrew/text?book=Chronica_II&amp;chapter=36&amp;verse=22&amp;version=c&amp;mr=m&amp;qw=q&amp;tp=txt_p&amp;tr=hb&amp;wget=v&amp;qget=v&amp;nget=vt\" title=\"2_Chronicles 36:22\" sec=\"2_Chronicles 36:22\">nmpr</a></span> <span class=\"gloss\">YHWH</span> <span class=\"sp xft\"><span class=\"f\">sp=</span>nmpr</span></div></div></div></div><div class=\"patom  l \" >\n",
       "        <div class=\"phrase \" >\n",
       "            <a href=\"https://shebanq.ancient-data.org/hebrew/text?book=Chronica_II&amp;chapter=36&amp;verse=22&amp;version=c&amp;mr=m&amp;qw=q&amp;tp=txt_p&amp;tr=hb&amp;wget=v&amp;qget=v&amp;nget=vt\" title=\"2_Chronicles 36:22\" sec=\"2_Chronicles 36:22\">phrase</a>   <span class=\"function\">Objc</span> <span class=\"typ\">PP</span>\n",
       "        </div>\n",
       "        <div class=\"atoms\">\n",
       "                    <div class=\"word  \" ><div class=\"h\"><a target=\"_blank\" href=\"https://shebanq.ancient-data.org/hebrew/word?version=c&amp;id=1AT\" title=\"show this lexeme in SHEBANQ\">אֶת־</a></div><div class=\"features\"> <span class=\"pdp\"><a href=\"https://shebanq.ancient-data.org/hebrew/text?book=Chronica_II&amp;chapter=36&amp;verse=22&amp;version=c&amp;mr=m&amp;qw=q&amp;tp=txt_p&amp;tr=hb&amp;wget=v&amp;qget=v&amp;nget=vt\" title=\"2_Chronicles 36:22\" sec=\"2_Chronicles 36:22\">prep</a></span> <span class=\"gloss\">&lt;object marker></span> <span class=\"sp xft\"><span class=\"f\">sp=</span>prep</span></div></div><div class=\"word  \" ><div class=\"h\"><a target=\"_blank\" href=\"https://shebanq.ancient-data.org/hebrew/word?version=c&amp;id=1RWXn\" title=\"show this lexeme in SHEBANQ\">ר֨וּחַ֙ </a></div><div class=\"features\"> <span class=\"pdp\"><a href=\"https://shebanq.ancient-data.org/hebrew/text?book=Chronica_II&amp;chapter=36&amp;verse=22&amp;version=c&amp;mr=m&amp;qw=q&amp;tp=txt_p&amp;tr=hb&amp;wget=v&amp;qget=v&amp;nget=vt\" title=\"2_Chronicles 36:22\" sec=\"2_Chronicles 36:22\">subs</a></span> <span class=\"gloss\">wind</span> <span class=\"sp xft\"><span class=\"f\">sp=</span>subs</span></div></div><div class=\"word  \" ><div class=\"h\"><a target=\"_blank\" href=\"https://shebanq.ancient-data.org/hebrew/word?version=c&amp;id=1KWRCn\" title=\"show this lexeme in SHEBANQ\">כֹּ֣ורֶשׁ </a></div><div class=\"features\"> <span class=\"pdp\"><a href=\"https://shebanq.ancient-data.org/hebrew/text?book=Chronica_II&amp;chapter=36&amp;verse=22&amp;version=c&amp;mr=m&amp;qw=q&amp;tp=txt_p&amp;tr=hb&amp;wget=v&amp;qget=v&amp;nget=vt\" title=\"2_Chronicles 36:22\" sec=\"2_Chronicles 36:22\">nmpr</a></span> <span class=\"gloss\">Cyrus</span> <span class=\"sp xft\"><span class=\"f\">sp=</span>nmpr</span></div></div></div></div><div class=\"patom  r \" >\n",
       "        <div class=\"phrase \" >\n",
       "            <a href=\"https://shebanq.ancient-data.org/hebrew/text?book=Chronica_II&amp;chapter=36&amp;verse=22&amp;version=c&amp;mr=m&amp;qw=q&amp;tp=txt_p&amp;tr=hb&amp;wget=v&amp;qget=v&amp;nget=vt\" title=\"2_Chronicles 36:22\" sec=\"2_Chronicles 36:22\">phrase</a>   <span class=\"function\">Objc</span> <span class=\"typ\">PP|NP</span>\n",
       "        </div>\n",
       "        <div class=\"atoms\">\n",
       "                    <div class=\"word  \" ><div class=\"h\"><a target=\"_blank\" href=\"https://shebanq.ancient-data.org/hebrew/word?version=c&amp;id=1MLKn\" title=\"show this lexeme in SHEBANQ\">מֶֽלֶךְ־</a></div><div class=\"features\"> <span class=\"pdp\"><a href=\"https://shebanq.ancient-data.org/hebrew/text?book=Chronica_II&amp;chapter=36&amp;verse=22&amp;version=c&amp;mr=m&amp;qw=q&amp;tp=txt_p&amp;tr=hb&amp;wget=v&amp;qget=v&amp;nget=vt\" title=\"2_Chronicles 36:22\" sec=\"2_Chronicles 36:22\">subs</a></span> <span class=\"gloss\">king</span> <span class=\"sp xft\"><span class=\"f\">sp=</span>subs</span></div></div><div class=\"word  \" ><div class=\"h\"><a target=\"_blank\" href=\"https://shebanq.ancient-data.org/hebrew/word?version=c&amp;id=1PRSin\" title=\"show this lexeme in SHEBANQ\">פָּרַ֔ס </a></div><div class=\"features\"> <span class=\"pdp\"><a href=\"https://shebanq.ancient-data.org/hebrew/text?book=Chronica_II&amp;chapter=36&amp;verse=22&amp;version=c&amp;mr=m&amp;qw=q&amp;tp=txt_p&amp;tr=hb&amp;wget=v&amp;qget=v&amp;nget=vt\" title=\"2_Chronicles 36:22\" sec=\"2_Chronicles 36:22\">nmpr</a></span> <span class=\"gloss\">Persia</span> <span class=\"sp xft\"><span class=\"f\">sp=</span>nmpr</span></div></div></div></div></div></div></div></div><div class=\"satom  \" >\n",
       "        <div class=\"sentence \" >\n",
       "            <a href=\"https://shebanq.ancient-data.org/hebrew/text?book=Chronica_II&amp;chapter=36&amp;verse=22&amp;version=c&amp;mr=m&amp;qw=q&amp;tp=txt_p&amp;tr=hb&amp;wget=v&amp;qget=v&amp;nget=vt\" title=\"2_Chronicles 36:22\" sec=\"2_Chronicles 36:22\">sentence</a>   <span class=\"number\">52|2265</span>\n",
       "        </div>\n",
       "        <div class=\"atoms\">\n",
       "                    <div class=\"catom  \" >\n",
       "        <div class=\"clause \" >\n",
       "            <a href=\"https://shebanq.ancient-data.org/hebrew/text?book=Chronica_II&amp;chapter=36&amp;verse=22&amp;version=c&amp;mr=m&amp;qw=q&amp;tp=txt_p&amp;tr=hb&amp;wget=v&amp;qget=v&amp;nget=vt\" title=\"2_Chronicles 36:22\" sec=\"2_Chronicles 36:22\">clause</a>   <span class=\"typ\">Way0</span>\n",
       "        </div>\n",
       "        <div class=\"atoms\">\n",
       "                    <div class=\"patom  \" >\n",
       "        <div class=\"phrase \" >\n",
       "            <a href=\"https://shebanq.ancient-data.org/hebrew/text?book=Chronica_II&amp;chapter=36&amp;verse=22&amp;version=c&amp;mr=m&amp;qw=q&amp;tp=txt_p&amp;tr=hb&amp;wget=v&amp;qget=v&amp;nget=vt\" title=\"2_Chronicles 36:22\" sec=\"2_Chronicles 36:22\">phrase</a>   <span class=\"function\">Conj</span> <span class=\"typ\">CP</span>\n",
       "        </div>\n",
       "        <div class=\"atoms\">\n",
       "                    <div class=\"word  \" ><div class=\"h\"><a target=\"_blank\" href=\"https://shebanq.ancient-data.org/hebrew/word?version=c&amp;id=1W\" title=\"show this lexeme in SHEBANQ\">וַ</a></div><div class=\"features\"> <span class=\"pdp\"><a href=\"https://shebanq.ancient-data.org/hebrew/text?book=Chronica_II&amp;chapter=36&amp;verse=22&amp;version=c&amp;mr=m&amp;qw=q&amp;tp=txt_p&amp;tr=hb&amp;wget=v&amp;qget=v&amp;nget=vt\" title=\"2_Chronicles 36:22\" sec=\"2_Chronicles 36:22\">conj</a></span> <span class=\"gloss\">and</span> <span class=\"sp xft\"><span class=\"f\">sp=</span>conj</span></div></div></div></div><div class=\"patom  \" >\n",
       "        <div class=\"phrase \" >\n",
       "            <a href=\"https://shebanq.ancient-data.org/hebrew/text?book=Chronica_II&amp;chapter=36&amp;verse=22&amp;version=c&amp;mr=m&amp;qw=q&amp;tp=txt_p&amp;tr=hb&amp;wget=v&amp;qget=v&amp;nget=vt\" title=\"2_Chronicles 36:22\" sec=\"2_Chronicles 36:22\">phrase</a>   <span class=\"function\">Pred</span> <span class=\"typ\">VP</span>\n",
       "        </div>\n",
       "        <div class=\"atoms\">\n",
       "                    <div class=\"word  \" ><div class=\"h\"><a target=\"_blank\" href=\"https://shebanq.ancient-data.org/hebrew/word?version=c&amp;id=1OBRv\" title=\"show this lexeme in SHEBANQ\">יַּֽעֲבֶר־</a></div><div class=\"features\"> <span class=\"pdp\"><a href=\"https://shebanq.ancient-data.org/hebrew/text?book=Chronica_II&amp;chapter=36&amp;verse=22&amp;version=c&amp;mr=m&amp;qw=q&amp;tp=txt_p&amp;tr=hb&amp;wget=v&amp;qget=v&amp;nget=vt\" title=\"2_Chronicles 36:22\" sec=\"2_Chronicles 36:22\">verb</a></span> <span class=\"gloss\">pass</span> <span class=\"vs\">hif</span> <span class=\"vt\">wayq</span> <span class=\"sp xft\"><span class=\"f\">sp=</span>verb</span></div></div></div></div><div class=\"patom  \" >\n",
       "        <div class=\"phrase \" >\n",
       "            <a href=\"https://shebanq.ancient-data.org/hebrew/text?book=Chronica_II&amp;chapter=36&amp;verse=22&amp;version=c&amp;mr=m&amp;qw=q&amp;tp=txt_p&amp;tr=hb&amp;wget=v&amp;qget=v&amp;nget=vt\" title=\"2_Chronicles 36:22\" sec=\"2_Chronicles 36:22\">phrase</a>   <span class=\"function\">Objc</span> <span class=\"typ\">NP</span>\n",
       "        </div>\n",
       "        <div class=\"atoms\">\n",
       "                    <div class=\"word  \" ><div class=\"h\"><a target=\"_blank\" href=\"https://shebanq.ancient-data.org/hebrew/word?version=c&amp;id=1QWLn\" title=\"show this lexeme in SHEBANQ\">קֹול֙ </a></div><div class=\"features\"> <span class=\"pdp\"><a href=\"https://shebanq.ancient-data.org/hebrew/text?book=Chronica_II&amp;chapter=36&amp;verse=22&amp;version=c&amp;mr=m&amp;qw=q&amp;tp=txt_p&amp;tr=hb&amp;wget=v&amp;qget=v&amp;nget=vt\" title=\"2_Chronicles 36:22\" sec=\"2_Chronicles 36:22\">subs</a></span> <span class=\"gloss\">sound</span> <span class=\"sp xft\"><span class=\"f\">sp=</span>subs</span></div></div></div></div><div class=\"patom  \" >\n",
       "        <div class=\"phrase \" >\n",
       "            <a href=\"https://shebanq.ancient-data.org/hebrew/text?book=Chronica_II&amp;chapter=36&amp;verse=22&amp;version=c&amp;mr=m&amp;qw=q&amp;tp=txt_p&amp;tr=hb&amp;wget=v&amp;qget=v&amp;nget=vt\" title=\"2_Chronicles 36:22\" sec=\"2_Chronicles 36:22\">phrase</a>   <span class=\"function\">Cmpl</span> <span class=\"typ\">PP</span>\n",
       "        </div>\n",
       "        <div class=\"atoms\">\n",
       "                    <div class=\"word  \" ><div class=\"h\"><a target=\"_blank\" href=\"https://shebanq.ancient-data.org/hebrew/word?version=c&amp;id=1B\" title=\"show this lexeme in SHEBANQ\">בְּ</a></div><div class=\"features\"> <span class=\"pdp\"><a href=\"https://shebanq.ancient-data.org/hebrew/text?book=Chronica_II&amp;chapter=36&amp;verse=22&amp;version=c&amp;mr=m&amp;qw=q&amp;tp=txt_p&amp;tr=hb&amp;wget=v&amp;qget=v&amp;nget=vt\" title=\"2_Chronicles 36:22\" sec=\"2_Chronicles 36:22\">prep</a></span> <span class=\"gloss\">in</span> <span class=\"sp xft\"><span class=\"f\">sp=</span>prep</span></div></div><div class=\"word  \" ><div class=\"h\"><a target=\"_blank\" href=\"https://shebanq.ancient-data.org/hebrew/word?version=c&amp;id=1KLn\" title=\"show this lexeme in SHEBANQ\">כָל־</a></div><div class=\"features\"> <span class=\"pdp\"><a href=\"https://shebanq.ancient-data.org/hebrew/text?book=Chronica_II&amp;chapter=36&amp;verse=22&amp;version=c&amp;mr=m&amp;qw=q&amp;tp=txt_p&amp;tr=hb&amp;wget=v&amp;qget=v&amp;nget=vt\" title=\"2_Chronicles 36:22\" sec=\"2_Chronicles 36:22\">subs</a></span> <span class=\"gloss\">whole</span> <span class=\"sp xft\"><span class=\"f\">sp=</span>subs</span></div></div><div class=\"word  \" ><div class=\"h\"><a target=\"_blank\" href=\"https://shebanq.ancient-data.org/hebrew/word?version=c&amp;id=1MLKWTn\" title=\"show this lexeme in SHEBANQ\">מַלְכוּתֹ֔ו </a></div><div class=\"features\"> <span class=\"pdp\"><a href=\"https://shebanq.ancient-data.org/hebrew/text?book=Chronica_II&amp;chapter=36&amp;verse=22&amp;version=c&amp;mr=m&amp;qw=q&amp;tp=txt_p&amp;tr=hb&amp;wget=v&amp;qget=v&amp;nget=vt\" title=\"2_Chronicles 36:22\" sec=\"2_Chronicles 36:22\">subs</a></span> <span class=\"gloss\">kingship</span> <span class=\"sp xft\"><span class=\"f\">sp=</span>subs</span></div></div></div></div></div></div><div class=\"catom  \" >\n",
       "        <div class=\"clause \" >\n",
       "            <a href=\"https://shebanq.ancient-data.org/hebrew/text?book=Chronica_II&amp;chapter=36&amp;verse=22&amp;version=c&amp;mr=m&amp;qw=q&amp;tp=txt_p&amp;tr=hb&amp;wget=v&amp;qget=v&amp;nget=vt\" title=\"2_Chronicles 36:22\" sec=\"2_Chronicles 36:22\">clause</a>   <span class=\"typ\">Ellp</span>\n",
       "        </div>\n",
       "        <div class=\"atoms\">\n",
       "                    <div class=\"patom  \" >\n",
       "        <div class=\"phrase \" >\n",
       "            <a href=\"https://shebanq.ancient-data.org/hebrew/text?book=Chronica_II&amp;chapter=36&amp;verse=22&amp;version=c&amp;mr=m&amp;qw=q&amp;tp=txt_p&amp;tr=hb&amp;wget=v&amp;qget=v&amp;nget=vt\" title=\"2_Chronicles 36:22\" sec=\"2_Chronicles 36:22\">phrase</a>   <span class=\"function\">Conj</span> <span class=\"typ\">CP</span>\n",
       "        </div>\n",
       "        <div class=\"atoms\">\n",
       "                    <div class=\"word  \" ><div class=\"h\"><a target=\"_blank\" href=\"https://shebanq.ancient-data.org/hebrew/word?version=c&amp;id=1W\" title=\"show this lexeme in SHEBANQ\">וְ</a></div><div class=\"features\"> <span class=\"pdp\"><a href=\"https://shebanq.ancient-data.org/hebrew/text?book=Chronica_II&amp;chapter=36&amp;verse=22&amp;version=c&amp;mr=m&amp;qw=q&amp;tp=txt_p&amp;tr=hb&amp;wget=v&amp;qget=v&amp;nget=vt\" title=\"2_Chronicles 36:22\" sec=\"2_Chronicles 36:22\">conj</a></span> <span class=\"gloss\">and</span> <span class=\"sp xft\"><span class=\"f\">sp=</span>conj</span></div></div></div></div><div class=\"patom  \" >\n",
       "        <div class=\"phrase \" >\n",
       "            <a href=\"https://shebanq.ancient-data.org/hebrew/text?book=Chronica_II&amp;chapter=36&amp;verse=22&amp;version=c&amp;mr=m&amp;qw=q&amp;tp=txt_p&amp;tr=hb&amp;wget=v&amp;qget=v&amp;nget=vt\" title=\"2_Chronicles 36:22\" sec=\"2_Chronicles 36:22\">phrase</a>   <span class=\"function\">Adju</span> <span class=\"typ\">PP</span>\n",
       "        </div>\n",
       "        <div class=\"atoms\">\n",
       "                    <div class=\"word  \" ><div class=\"h\"><a target=\"_blank\" href=\"https://shebanq.ancient-data.org/hebrew/word?version=c&amp;id=1GM\" title=\"show this lexeme in SHEBANQ\">גַם־</a></div><div class=\"features\"> <span class=\"pdp\"><a href=\"https://shebanq.ancient-data.org/hebrew/text?book=Chronica_II&amp;chapter=36&amp;verse=22&amp;version=c&amp;mr=m&amp;qw=q&amp;tp=txt_p&amp;tr=hb&amp;wget=v&amp;qget=v&amp;nget=vt\" title=\"2_Chronicles 36:22\" sec=\"2_Chronicles 36:22\">advb</a></span> <span class=\"gloss\">even</span> <span class=\"sp xft\"><span class=\"f\">sp=</span>advb</span></div></div><div class=\"word  \" ><div class=\"h\"><a target=\"_blank\" href=\"https://shebanq.ancient-data.org/hebrew/word?version=c&amp;id=1B\" title=\"show this lexeme in SHEBANQ\">בְּ</a></div><div class=\"features\"> <span class=\"pdp\"><a href=\"https://shebanq.ancient-data.org/hebrew/text?book=Chronica_II&amp;chapter=36&amp;verse=22&amp;version=c&amp;mr=m&amp;qw=q&amp;tp=txt_p&amp;tr=hb&amp;wget=v&amp;qget=v&amp;nget=vt\" title=\"2_Chronicles 36:22\" sec=\"2_Chronicles 36:22\">prep</a></span> <span class=\"gloss\">in</span> <span class=\"sp xft\"><span class=\"f\">sp=</span>prep</span></div></div><div class=\"word  \" ><div class=\"h\"><a target=\"_blank\" href=\"https://shebanq.ancient-data.org/hebrew/word?version=c&amp;id=1MKTBn\" title=\"show this lexeme in SHEBANQ\">מִכְתָּ֖ב </a></div><div class=\"features\"> <span class=\"pdp\"><a href=\"https://shebanq.ancient-data.org/hebrew/text?book=Chronica_II&amp;chapter=36&amp;verse=22&amp;version=c&amp;mr=m&amp;qw=q&amp;tp=txt_p&amp;tr=hb&amp;wget=v&amp;qget=v&amp;nget=vt\" title=\"2_Chronicles 36:22\" sec=\"2_Chronicles 36:22\">subs</a></span> <span class=\"gloss\">writing</span> <span class=\"sp xft\"><span class=\"f\">sp=</span>subs</span></div></div></div></div></div></div><div class=\"catom  \" >\n",
       "        <div class=\"clause \" >\n",
       "            <a href=\"https://shebanq.ancient-data.org/hebrew/text?book=Chronica_II&amp;chapter=36&amp;verse=22&amp;version=c&amp;mr=m&amp;qw=q&amp;tp=txt_p&amp;tr=hb&amp;wget=v&amp;qget=v&amp;nget=vt\" title=\"2_Chronicles 36:22\" sec=\"2_Chronicles 36:22\">clause</a>   <span class=\"rela\">Adju</span> <span class=\"typ\">InfC</span>\n",
       "        </div>\n",
       "        <div class=\"atoms\">\n",
       "                    <div class=\"patom  \" >\n",
       "        <div class=\"phrase \" >\n",
       "            <a href=\"https://shebanq.ancient-data.org/hebrew/text?book=Chronica_II&amp;chapter=36&amp;verse=22&amp;version=c&amp;mr=m&amp;qw=q&amp;tp=txt_p&amp;tr=hb&amp;wget=v&amp;qget=v&amp;nget=vt\" title=\"2_Chronicles 36:22\" sec=\"2_Chronicles 36:22\">phrase</a>   <span class=\"function\">Pred</span> <span class=\"typ\">VP</span>\n",
       "        </div>\n",
       "        <div class=\"atoms\">\n",
       "                    <div class=\"word  \" ><div class=\"h\"><a target=\"_blank\" href=\"https://shebanq.ancient-data.org/hebrew/word?version=c&amp;id=1L\" title=\"show this lexeme in SHEBANQ\">לֵ</a></div><div class=\"features\"> <span class=\"pdp\"><a href=\"https://shebanq.ancient-data.org/hebrew/text?book=Chronica_II&amp;chapter=36&amp;verse=22&amp;version=c&amp;mr=m&amp;qw=q&amp;tp=txt_p&amp;tr=hb&amp;wget=v&amp;qget=v&amp;nget=vt\" title=\"2_Chronicles 36:22\" sec=\"2_Chronicles 36:22\">prep</a></span> <span class=\"gloss\">to</span> <span class=\"sp xft\"><span class=\"f\">sp=</span>prep</span></div></div><div class=\"word  \" ><div class=\"h\"><a target=\"_blank\" href=\"https://shebanq.ancient-data.org/hebrew/word?version=c&amp;id=1AMRv\" title=\"show this lexeme in SHEBANQ\">אמֹֽר׃ ס </a></div><div class=\"features\"> <span class=\"pdp\"><a href=\"https://shebanq.ancient-data.org/hebrew/text?book=Chronica_II&amp;chapter=36&amp;verse=22&amp;version=c&amp;mr=m&amp;qw=q&amp;tp=txt_p&amp;tr=hb&amp;wget=v&amp;qget=v&amp;nget=vt\" title=\"2_Chronicles 36:22\" sec=\"2_Chronicles 36:22\">verb</a></span> <span class=\"gloss\">say</span> <span class=\"vs\">qal</span> <span class=\"vt\">infc</span> <span class=\"sp xft\"><span class=\"f\">sp=</span>verb</span></div></div></div></div></div></div></div></div></div></div>"
      ],
      "text/plain": [
       "<IPython.core.display.HTML object>"
      ]
     },
     "metadata": {},
     "output_type": "display_data"
    },
    {
     "data": {
      "text/html": [
       "<p><b>result</b> <i>1</i></p>"
      ],
      "text/plain": [
       "<IPython.core.display.HTML object>"
      ]
     },
     "metadata": {},
     "output_type": "display_data"
    },
    {
     "data": {
      "text/html": [
       "<div class=\"outeritem\"><div class=\"verse  \" >\n",
       "    <div class=\"vl\">\n",
       "        <div class=\"vrs\"><a href=\"https://shebanq.ancient-data.org/hebrew/text?book=Genesis&amp;chapter=1&amp;verse=20&amp;version=c&amp;mr=m&amp;qw=q&amp;tp=txt_p&amp;tr=hb&amp;wget=v&amp;qget=v&amp;nget=vt\" title=\"show this passage in SHEBANQ\" sec=\"Genesis 1:20\">Genesis 1:20</a></div>\n",
       "        \n",
       "    </div>\n",
       "<div class=\"satom  \" >\n",
       "        <div class=\"sentence \" >\n",
       "            <a href=\"https://shebanq.ancient-data.org/hebrew/text?book=Genesis&amp;chapter=1&amp;verse=20&amp;version=c&amp;mr=m&amp;qw=q&amp;tp=txt_p&amp;tr=hb&amp;wget=v&amp;qget=v&amp;nget=vt\" title=\"Genesis 1:20\" sec=\"Genesis 1:20\">sentence</a>   <span class=\"number\">51</span>\n",
       "        </div>\n",
       "        <div class=\"atoms\">\n",
       "                    <div class=\"catom  \" >\n",
       "        <div class=\"clause \" >\n",
       "            <a href=\"https://shebanq.ancient-data.org/hebrew/text?book=Genesis&amp;chapter=1&amp;verse=20&amp;version=c&amp;mr=m&amp;qw=q&amp;tp=txt_p&amp;tr=hb&amp;wget=v&amp;qget=v&amp;nget=vt\" title=\"Genesis 1:20\" sec=\"Genesis 1:20\">clause</a>   <span class=\"typ\">WayX</span>\n",
       "        </div>\n",
       "        <div class=\"atoms\">\n",
       "                    <div class=\"patom  \" >\n",
       "        <div class=\"phrase \" >\n",
       "            <a href=\"https://shebanq.ancient-data.org/hebrew/text?book=Genesis&amp;chapter=1&amp;verse=20&amp;version=c&amp;mr=m&amp;qw=q&amp;tp=txt_p&amp;tr=hb&amp;wget=v&amp;qget=v&amp;nget=vt\" title=\"Genesis 1:20\" sec=\"Genesis 1:20\">phrase</a>   <span class=\"function\">Conj</span> <span class=\"typ\">CP</span>\n",
       "        </div>\n",
       "        <div class=\"atoms\">\n",
       "                    <div class=\"word  \" ><div class=\"h\"><a target=\"_blank\" href=\"https://shebanq.ancient-data.org/hebrew/word?version=c&amp;id=1W\" title=\"show this lexeme in SHEBANQ\">וַ</a></div><div class=\"features\"> <span class=\"pdp\"><a href=\"https://shebanq.ancient-data.org/hebrew/text?book=Genesis&amp;chapter=1&amp;verse=20&amp;version=c&amp;mr=m&amp;qw=q&amp;tp=txt_p&amp;tr=hb&amp;wget=v&amp;qget=v&amp;nget=vt\" title=\"Genesis 1:20\" sec=\"Genesis 1:20\">conj</a></span> <span class=\"gloss\">and</span> <span class=\"sp xft\"><span class=\"f\">sp=</span>conj</span></div></div></div></div><div class=\"patom  \" >\n",
       "        <div class=\"phrase \" >\n",
       "            <a href=\"https://shebanq.ancient-data.org/hebrew/text?book=Genesis&amp;chapter=1&amp;verse=20&amp;version=c&amp;mr=m&amp;qw=q&amp;tp=txt_p&amp;tr=hb&amp;wget=v&amp;qget=v&amp;nget=vt\" title=\"Genesis 1:20\" sec=\"Genesis 1:20\">phrase</a>   <span class=\"function\">Pred</span> <span class=\"typ\">VP</span>\n",
       "        </div>\n",
       "        <div class=\"atoms\">\n",
       "                    <div class=\"word  \" ><div class=\"h\"><a target=\"_blank\" href=\"https://shebanq.ancient-data.org/hebrew/word?version=c&amp;id=1AMRv\" title=\"show this lexeme in SHEBANQ\">יֹּ֣אמֶר </a></div><div class=\"features\"> <span class=\"pdp\"><a href=\"https://shebanq.ancient-data.org/hebrew/text?book=Genesis&amp;chapter=1&amp;verse=20&amp;version=c&amp;mr=m&amp;qw=q&amp;tp=txt_p&amp;tr=hb&amp;wget=v&amp;qget=v&amp;nget=vt\" title=\"Genesis 1:20\" sec=\"Genesis 1:20\">verb</a></span> <span class=\"gloss\">say</span> <span class=\"vs\">qal</span> <span class=\"vt\">wayq</span> <span class=\"sp xft\"><span class=\"f\">sp=</span>verb</span></div></div></div></div><div class=\"patom  \" >\n",
       "        <div class=\"phrase \" >\n",
       "            <a href=\"https://shebanq.ancient-data.org/hebrew/text?book=Genesis&amp;chapter=1&amp;verse=20&amp;version=c&amp;mr=m&amp;qw=q&amp;tp=txt_p&amp;tr=hb&amp;wget=v&amp;qget=v&amp;nget=vt\" title=\"Genesis 1:20\" sec=\"Genesis 1:20\">phrase</a>   <span class=\"function\">Subj</span> <span class=\"typ\">NP</span>\n",
       "        </div>\n",
       "        <div class=\"atoms\">\n",
       "                    <div class=\"word  \" ><div class=\"h\"><a target=\"_blank\" href=\"https://shebanq.ancient-data.org/hebrew/word?version=c&amp;id=1ALHJMn\" title=\"show this lexeme in SHEBANQ\">אֱלֹהִ֔ים </a></div><div class=\"features\"> <span class=\"pdp\"><a href=\"https://shebanq.ancient-data.org/hebrew/text?book=Genesis&amp;chapter=1&amp;verse=20&amp;version=c&amp;mr=m&amp;qw=q&amp;tp=txt_p&amp;tr=hb&amp;wget=v&amp;qget=v&amp;nget=vt\" title=\"Genesis 1:20\" sec=\"Genesis 1:20\">subs</a></span> <span class=\"gloss\">god(s)</span> <span class=\"sp xft\"><span class=\"f\">sp=</span>subs</span></div></div></div></div></div></div></div></div><div class=\"satom  \" >\n",
       "        <div class=\"sentence \" >\n",
       "            <a href=\"https://shebanq.ancient-data.org/hebrew/text?book=Genesis&amp;chapter=1&amp;verse=20&amp;version=c&amp;mr=m&amp;qw=q&amp;tp=txt_p&amp;tr=hb&amp;wget=v&amp;qget=v&amp;nget=vt\" title=\"Genesis 1:20\" sec=\"Genesis 1:20\">sentence</a>   <span class=\"number\">52</span>\n",
       "        </div>\n",
       "        <div class=\"atoms\">\n",
       "                    <div class=\"catom  \" >\n",
       "        <div class=\"clause \" >\n",
       "            <a href=\"https://shebanq.ancient-data.org/hebrew/text?book=Genesis&amp;chapter=1&amp;verse=20&amp;version=c&amp;mr=m&amp;qw=q&amp;tp=txt_p&amp;tr=hb&amp;wget=v&amp;qget=v&amp;nget=vt\" title=\"Genesis 1:20\" sec=\"Genesis 1:20\">clause</a>   <span class=\"typ\">ZYqX</span>\n",
       "        </div>\n",
       "        <div class=\"atoms\">\n",
       "                    <div class=\"patom  \" >\n",
       "        <div class=\"phrase \" >\n",
       "            <a href=\"https://shebanq.ancient-data.org/hebrew/text?book=Genesis&amp;chapter=1&amp;verse=20&amp;version=c&amp;mr=m&amp;qw=q&amp;tp=txt_p&amp;tr=hb&amp;wget=v&amp;qget=v&amp;nget=vt\" title=\"Genesis 1:20\" sec=\"Genesis 1:20\">phrase</a>   <span class=\"function\">Pred</span> <span class=\"typ\">VP</span>\n",
       "        </div>\n",
       "        <div class=\"atoms\">\n",
       "                    <div class=\"word  \" ><div class=\"h\"><a target=\"_blank\" href=\"https://shebanq.ancient-data.org/hebrew/word?version=c&amp;id=1CRYv\" title=\"show this lexeme in SHEBANQ\">יִשְׁרְצ֣וּ </a></div><div class=\"features\"> <span class=\"pdp\"><a href=\"https://shebanq.ancient-data.org/hebrew/text?book=Genesis&amp;chapter=1&amp;verse=20&amp;version=c&amp;mr=m&amp;qw=q&amp;tp=txt_p&amp;tr=hb&amp;wget=v&amp;qget=v&amp;nget=vt\" title=\"Genesis 1:20\" sec=\"Genesis 1:20\">verb</a></span> <span class=\"gloss\">swarm</span> <span class=\"vs\">qal</span> <span class=\"vt\">impf</span> <span class=\"sp xft\"><span class=\"f\">sp=</span>verb</span></div></div></div></div><div class=\"patom  \" >\n",
       "        <div class=\"phrase \" >\n",
       "            <a href=\"https://shebanq.ancient-data.org/hebrew/text?book=Genesis&amp;chapter=1&amp;verse=20&amp;version=c&amp;mr=m&amp;qw=q&amp;tp=txt_p&amp;tr=hb&amp;wget=v&amp;qget=v&amp;nget=vt\" title=\"Genesis 1:20\" sec=\"Genesis 1:20\">phrase</a>   <span class=\"function\">Subj</span> <span class=\"typ\">NP</span>\n",
       "        </div>\n",
       "        <div class=\"atoms\">\n",
       "                    <div class=\"word  \" ><div class=\"h\"><a target=\"_blank\" href=\"https://shebanq.ancient-data.org/hebrew/word?version=c&amp;id=1H\" title=\"show this lexeme in SHEBANQ\">הַ</a></div><div class=\"features\"> <span class=\"pdp\"><a href=\"https://shebanq.ancient-data.org/hebrew/text?book=Genesis&amp;chapter=1&amp;verse=20&amp;version=c&amp;mr=m&amp;qw=q&amp;tp=txt_p&amp;tr=hb&amp;wget=v&amp;qget=v&amp;nget=vt\" title=\"Genesis 1:20\" sec=\"Genesis 1:20\">art</a></span> <span class=\"gloss\">the</span> <span class=\"sp xft\"><span class=\"f\">sp=</span>art</span></div></div><div class=\"word  \" ><div class=\"h\"><a target=\"_blank\" href=\"https://shebanq.ancient-data.org/hebrew/word?version=c&amp;id=1MJMn\" title=\"show this lexeme in SHEBANQ\">מַּ֔יִם </a></div><div class=\"features\"> <span class=\"pdp\"><a href=\"https://shebanq.ancient-data.org/hebrew/text?book=Genesis&amp;chapter=1&amp;verse=20&amp;version=c&amp;mr=m&amp;qw=q&amp;tp=txt_p&amp;tr=hb&amp;wget=v&amp;qget=v&amp;nget=vt\" title=\"Genesis 1:20\" sec=\"Genesis 1:20\">subs</a></span> <span class=\"gloss\">water</span> <span class=\"sp xft\"><span class=\"f\">sp=</span>subs</span></div></div></div></div><div class=\"patom  \" >\n",
       "        <div class=\"phrase \" >\n",
       "            <a href=\"https://shebanq.ancient-data.org/hebrew/text?book=Genesis&amp;chapter=1&amp;verse=20&amp;version=c&amp;mr=m&amp;qw=q&amp;tp=txt_p&amp;tr=hb&amp;wget=v&amp;qget=v&amp;nget=vt\" title=\"Genesis 1:20\" sec=\"Genesis 1:20\">phrase</a>   <span class=\"function\">Objc</span> <span class=\"typ\">NP</span>\n",
       "        </div>\n",
       "        <div class=\"atoms\">\n",
       "                    <div class=\"word  \" ><div class=\"h\"><a target=\"_blank\" href=\"https://shebanq.ancient-data.org/hebrew/word?version=c&amp;id=1CRYn\" title=\"show this lexeme in SHEBANQ\">שֶׁ֖רֶץ </a></div><div class=\"features\"> <span class=\"pdp\"><a href=\"https://shebanq.ancient-data.org/hebrew/text?book=Genesis&amp;chapter=1&amp;verse=20&amp;version=c&amp;mr=m&amp;qw=q&amp;tp=txt_p&amp;tr=hb&amp;wget=v&amp;qget=v&amp;nget=vt\" title=\"Genesis 1:20\" sec=\"Genesis 1:20\">subs</a></span> <span class=\"gloss\">swarming creatures</span> <span class=\"sp xft\"><span class=\"f\">sp=</span>subs</span></div></div><div class=\"word  \" ><div class=\"h\"><a target=\"_blank\" href=\"https://shebanq.ancient-data.org/hebrew/word?version=c&amp;id=1NPCn\" title=\"show this lexeme in SHEBANQ\">נֶ֣פֶשׁ </a></div><div class=\"features\"> <span class=\"pdp\"><a href=\"https://shebanq.ancient-data.org/hebrew/text?book=Genesis&amp;chapter=1&amp;verse=20&amp;version=c&amp;mr=m&amp;qw=q&amp;tp=txt_p&amp;tr=hb&amp;wget=v&amp;qget=v&amp;nget=vt\" title=\"Genesis 1:20\" sec=\"Genesis 1:20\">subs</a></span> <span class=\"gloss\">soul</span> <span class=\"sp xft\"><span class=\"f\">sp=</span>subs</span></div></div><div class=\"word  \" ><div class=\"h\"><a target=\"_blank\" href=\"https://shebanq.ancient-data.org/hebrew/word?version=c&amp;id=1XJn\" title=\"show this lexeme in SHEBANQ\">חַיָּ֑ה </a></div><div class=\"features\"> <span class=\"pdp\"><a href=\"https://shebanq.ancient-data.org/hebrew/text?book=Genesis&amp;chapter=1&amp;verse=20&amp;version=c&amp;mr=m&amp;qw=q&amp;tp=txt_p&amp;tr=hb&amp;wget=v&amp;qget=v&amp;nget=vt\" title=\"Genesis 1:20\" sec=\"Genesis 1:20\">adjv</a></span> <span class=\"gloss\">alive</span> <span class=\"sp xft\"><span class=\"f\">sp=</span>adjv</span></div></div></div></div></div></div></div></div><div class=\"satom  \" >\n",
       "        <div class=\"sentence \" >\n",
       "            <a href=\"https://shebanq.ancient-data.org/hebrew/text?book=Genesis&amp;chapter=1&amp;verse=20&amp;version=c&amp;mr=m&amp;qw=q&amp;tp=txt_p&amp;tr=hb&amp;wget=v&amp;qget=v&amp;nget=vt\" title=\"Genesis 1:20\" sec=\"Genesis 1:20\">sentence</a>   <span class=\"number\">53</span>\n",
       "        </div>\n",
       "        <div class=\"atoms\">\n",
       "                    <div class=\"catom  hl\" >\n",
       "        <div class=\"clause hl\" >\n",
       "            <a href=\"https://shebanq.ancient-data.org/hebrew/text?book=Genesis&amp;chapter=1&amp;verse=20&amp;version=c&amp;mr=m&amp;qw=q&amp;tp=txt_p&amp;tr=hb&amp;wget=v&amp;qget=v&amp;nget=vt\" title=\"Genesis 1:20\" sec=\"Genesis 1:20\">clause</a>   <span class=\"typ\">WXYq</span>\n",
       "        </div>\n",
       "        <div class=\"atoms\">\n",
       "                    <div class=\"patom  \" >\n",
       "        <div class=\"phrase \" >\n",
       "            <a href=\"https://shebanq.ancient-data.org/hebrew/text?book=Genesis&amp;chapter=1&amp;verse=20&amp;version=c&amp;mr=m&amp;qw=q&amp;tp=txt_p&amp;tr=hb&amp;wget=v&amp;qget=v&amp;nget=vt\" title=\"Genesis 1:20\" sec=\"Genesis 1:20\">phrase</a>   <span class=\"function\">Conj</span> <span class=\"typ\">CP</span>\n",
       "        </div>\n",
       "        <div class=\"atoms\">\n",
       "                    <div class=\"word  \" ><div class=\"h\"><a target=\"_blank\" href=\"https://shebanq.ancient-data.org/hebrew/word?version=c&amp;id=1W\" title=\"show this lexeme in SHEBANQ\">וְ</a></div><div class=\"features\"> <span class=\"pdp\"><a href=\"https://shebanq.ancient-data.org/hebrew/text?book=Genesis&amp;chapter=1&amp;verse=20&amp;version=c&amp;mr=m&amp;qw=q&amp;tp=txt_p&amp;tr=hb&amp;wget=v&amp;qget=v&amp;nget=vt\" title=\"Genesis 1:20\" sec=\"Genesis 1:20\">conj</a></span> <span class=\"gloss\">and</span> <span class=\"sp xft\"><span class=\"f\">sp=</span>conj</span></div></div></div></div><div class=\"patom  \" >\n",
       "        <div class=\"phrase \" >\n",
       "            <a href=\"https://shebanq.ancient-data.org/hebrew/text?book=Genesis&amp;chapter=1&amp;verse=20&amp;version=c&amp;mr=m&amp;qw=q&amp;tp=txt_p&amp;tr=hb&amp;wget=v&amp;qget=v&amp;nget=vt\" title=\"Genesis 1:20\" sec=\"Genesis 1:20\">phrase</a>   <span class=\"function\">Subj</span> <span class=\"typ\">NP</span>\n",
       "        </div>\n",
       "        <div class=\"atoms\">\n",
       "                    <div class=\"word  \" ><div class=\"h\"><a target=\"_blank\" href=\"https://shebanq.ancient-data.org/hebrew/word?version=c&amp;id=1OWPn\" title=\"show this lexeme in SHEBANQ\">עֹוף֙ </a></div><div class=\"features\"> <span class=\"pdp\"><a href=\"https://shebanq.ancient-data.org/hebrew/text?book=Genesis&amp;chapter=1&amp;verse=20&amp;version=c&amp;mr=m&amp;qw=q&amp;tp=txt_p&amp;tr=hb&amp;wget=v&amp;qget=v&amp;nget=vt\" title=\"Genesis 1:20\" sec=\"Genesis 1:20\">subs</a></span> <span class=\"gloss\">birds</span> <span class=\"sp xft\"><span class=\"f\">sp=</span>subs</span></div></div></div></div><div class=\"patom  \" >\n",
       "        <div class=\"phrase \" >\n",
       "            <a href=\"https://shebanq.ancient-data.org/hebrew/text?book=Genesis&amp;chapter=1&amp;verse=20&amp;version=c&amp;mr=m&amp;qw=q&amp;tp=txt_p&amp;tr=hb&amp;wget=v&amp;qget=v&amp;nget=vt\" title=\"Genesis 1:20\" sec=\"Genesis 1:20\">phrase</a>   <span class=\"function\">Pred</span> <span class=\"typ\">VP</span>\n",
       "        </div>\n",
       "        <div class=\"atoms\">\n",
       "                    <div class=\"word  hl\" ><div class=\"h\"><a target=\"_blank\" href=\"https://shebanq.ancient-data.org/hebrew/word?version=c&amp;id=1OWPv\" title=\"show this lexeme in SHEBANQ\">יְעֹופֵ֣ף </a></div><div class=\"features\"> <span class=\"pdp\"><a href=\"https://shebanq.ancient-data.org/hebrew/text?book=Genesis&amp;chapter=1&amp;verse=20&amp;version=c&amp;mr=m&amp;qw=q&amp;tp=txt_p&amp;tr=hb&amp;wget=v&amp;qget=v&amp;nget=vt\" title=\"Genesis 1:20\" sec=\"Genesis 1:20\">verb</a></span> <span class=\"gloss\">fly</span> <span class=\"vs\">piel</span> <span class=\"vt\">impf</span> <span class=\"sp xft\"><span class=\"f\">sp=</span>verb</span></div></div></div></div><div class=\"patom  l \" >\n",
       "        <div class=\"phrase \" >\n",
       "            <a href=\"https://shebanq.ancient-data.org/hebrew/text?book=Genesis&amp;chapter=1&amp;verse=20&amp;version=c&amp;mr=m&amp;qw=q&amp;tp=txt_p&amp;tr=hb&amp;wget=v&amp;qget=v&amp;nget=vt\" title=\"Genesis 1:20\" sec=\"Genesis 1:20\">phrase</a>   <span class=\"function\">Cmpl</span> <span class=\"typ\">PP</span>\n",
       "        </div>\n",
       "        <div class=\"atoms\">\n",
       "                    <div class=\"word  \" ><div class=\"h\"><a target=\"_blank\" href=\"https://shebanq.ancient-data.org/hebrew/word?version=c&amp;id=1OL\" title=\"show this lexeme in SHEBANQ\">עַל־</a></div><div class=\"features\"> <span class=\"pdp\"><a href=\"https://shebanq.ancient-data.org/hebrew/text?book=Genesis&amp;chapter=1&amp;verse=20&amp;version=c&amp;mr=m&amp;qw=q&amp;tp=txt_p&amp;tr=hb&amp;wget=v&amp;qget=v&amp;nget=vt\" title=\"Genesis 1:20\" sec=\"Genesis 1:20\">prep</a></span> <span class=\"gloss\">upon</span> <span class=\"sp xft\"><span class=\"f\">sp=</span>prep</span></div></div><div class=\"word  \" ><div class=\"h\"><a target=\"_blank\" href=\"https://shebanq.ancient-data.org/hebrew/word?version=c&amp;id=1H\" title=\"show this lexeme in SHEBANQ\">הָ</a></div><div class=\"features\"> <span class=\"pdp\"><a href=\"https://shebanq.ancient-data.org/hebrew/text?book=Genesis&amp;chapter=1&amp;verse=20&amp;version=c&amp;mr=m&amp;qw=q&amp;tp=txt_p&amp;tr=hb&amp;wget=v&amp;qget=v&amp;nget=vt\" title=\"Genesis 1:20\" sec=\"Genesis 1:20\">art</a></span> <span class=\"gloss\">the</span> <span class=\"sp xft\"><span class=\"f\">sp=</span>art</span></div></div><div class=\"word  \" ><div class=\"h\"><a target=\"_blank\" href=\"https://shebanq.ancient-data.org/hebrew/word?version=c&amp;id=1ARYn\" title=\"show this lexeme in SHEBANQ\">אָ֔רֶץ </a></div><div class=\"features\"> <span class=\"pdp\"><a href=\"https://shebanq.ancient-data.org/hebrew/text?book=Genesis&amp;chapter=1&amp;verse=20&amp;version=c&amp;mr=m&amp;qw=q&amp;tp=txt_p&amp;tr=hb&amp;wget=v&amp;qget=v&amp;nget=vt\" title=\"Genesis 1:20\" sec=\"Genesis 1:20\">subs</a></span> <span class=\"gloss\">earth</span> <span class=\"sp xft\"><span class=\"f\">sp=</span>subs</span></div></div></div></div><div class=\"patom  r \" >\n",
       "        <div class=\"phrase \" >\n",
       "            <a href=\"https://shebanq.ancient-data.org/hebrew/text?book=Genesis&amp;chapter=1&amp;verse=20&amp;version=c&amp;mr=m&amp;qw=q&amp;tp=txt_p&amp;tr=hb&amp;wget=v&amp;qget=v&amp;nget=vt\" title=\"Genesis 1:20\" sec=\"Genesis 1:20\">phrase</a>   <span class=\"function\">Cmpl</span> <span class=\"typ\">PP</span>\n",
       "        </div>\n",
       "        <div class=\"atoms\">\n",
       "                    <div class=\"word  \" ><div class=\"h\"><a target=\"_blank\" href=\"https://shebanq.ancient-data.org/hebrew/word?version=c&amp;id=1OL\" title=\"show this lexeme in SHEBANQ\">עַל־</a></div><div class=\"features\"> <span class=\"pdp\"><a href=\"https://shebanq.ancient-data.org/hebrew/text?book=Genesis&amp;chapter=1&amp;verse=20&amp;version=c&amp;mr=m&amp;qw=q&amp;tp=txt_p&amp;tr=hb&amp;wget=v&amp;qget=v&amp;nget=vt\" title=\"Genesis 1:20\" sec=\"Genesis 1:20\">prep</a></span> <span class=\"gloss\">upon</span> <span class=\"sp xft\"><span class=\"f\">sp=</span>prep</span></div></div><div class=\"word  \" ><div class=\"h\"><a target=\"_blank\" href=\"https://shebanq.ancient-data.org/hebrew/word?version=c&amp;id=1PNHn\" title=\"show this lexeme in SHEBANQ\">פְּנֵ֖י </a></div><div class=\"features\"> <span class=\"pdp\"><a href=\"https://shebanq.ancient-data.org/hebrew/text?book=Genesis&amp;chapter=1&amp;verse=20&amp;version=c&amp;mr=m&amp;qw=q&amp;tp=txt_p&amp;tr=hb&amp;wget=v&amp;qget=v&amp;nget=vt\" title=\"Genesis 1:20\" sec=\"Genesis 1:20\">subs</a></span> <span class=\"gloss\">face</span> <span class=\"sp xft\"><span class=\"f\">sp=</span>subs</span></div></div><div class=\"word  \" ><div class=\"h\"><a target=\"_blank\" href=\"https://shebanq.ancient-data.org/hebrew/word?version=c&amp;id=1RQJOn\" title=\"show this lexeme in SHEBANQ\">רְקִ֥יעַ </a></div><div class=\"features\"> <span class=\"pdp\"><a href=\"https://shebanq.ancient-data.org/hebrew/text?book=Genesis&amp;chapter=1&amp;verse=20&amp;version=c&amp;mr=m&amp;qw=q&amp;tp=txt_p&amp;tr=hb&amp;wget=v&amp;qget=v&amp;nget=vt\" title=\"Genesis 1:20\" sec=\"Genesis 1:20\">subs</a></span> <span class=\"gloss\">firmament</span> <span class=\"sp xft\"><span class=\"f\">sp=</span>subs</span></div></div><div class=\"word  \" ><div class=\"h\"><a target=\"_blank\" href=\"https://shebanq.ancient-data.org/hebrew/word?version=c&amp;id=1H\" title=\"show this lexeme in SHEBANQ\">הַ</a></div><div class=\"features\"> <span class=\"pdp\"><a href=\"https://shebanq.ancient-data.org/hebrew/text?book=Genesis&amp;chapter=1&amp;verse=20&amp;version=c&amp;mr=m&amp;qw=q&amp;tp=txt_p&amp;tr=hb&amp;wget=v&amp;qget=v&amp;nget=vt\" title=\"Genesis 1:20\" sec=\"Genesis 1:20\">art</a></span> <span class=\"gloss\">the</span> <span class=\"sp xft\"><span class=\"f\">sp=</span>art</span></div></div><div class=\"word  \" ><div class=\"h\"><a target=\"_blank\" href=\"https://shebanq.ancient-data.org/hebrew/word?version=c&amp;id=1CMJMn\" title=\"show this lexeme in SHEBANQ\">שָּׁמָֽיִם׃ </a></div><div class=\"features\"> <span class=\"pdp\"><a href=\"https://shebanq.ancient-data.org/hebrew/text?book=Genesis&amp;chapter=1&amp;verse=20&amp;version=c&amp;mr=m&amp;qw=q&amp;tp=txt_p&amp;tr=hb&amp;wget=v&amp;qget=v&amp;nget=vt\" title=\"Genesis 1:20\" sec=\"Genesis 1:20\">subs</a></span> <span class=\"gloss\">heavens</span> <span class=\"sp xft\"><span class=\"f\">sp=</span>subs</span></div></div></div></div></div></div></div></div></div></div>"
      ],
      "text/plain": [
       "<IPython.core.display.HTML object>"
      ]
     },
     "metadata": {},
     "output_type": "display_data"
    },
    {
     "data": {
      "text/html": [
       "<p><b>result</b> <i>2</i></p>"
      ],
      "text/plain": [
       "<IPython.core.display.HTML object>"
      ]
     },
     "metadata": {},
     "output_type": "display_data"
    },
    {
     "data": {
      "text/html": [
       "<div class=\"outeritem\"><div class=\"verse  \" >\n",
       "    <div class=\"vl\">\n",
       "        <div class=\"vrs\"><a href=\"https://shebanq.ancient-data.org/hebrew/text?book=Genesis&amp;chapter=2&amp;verse=10&amp;version=c&amp;mr=m&amp;qw=q&amp;tp=txt_p&amp;tr=hb&amp;wget=v&amp;qget=v&amp;nget=vt\" title=\"show this passage in SHEBANQ\" sec=\"Genesis 2:10\">Genesis 2:10</a></div>\n",
       "        \n",
       "    </div>\n",
       "<div class=\"satom  \" >\n",
       "        <div class=\"sentence \" >\n",
       "            <a href=\"https://shebanq.ancient-data.org/hebrew/text?book=Genesis&amp;chapter=2&amp;verse=10&amp;version=c&amp;mr=m&amp;qw=q&amp;tp=txt_p&amp;tr=hb&amp;wget=v&amp;qget=v&amp;nget=vt\" title=\"Genesis 2:10\" sec=\"Genesis 2:10\">sentence</a>   <span class=\"number\">20|112</span>\n",
       "        </div>\n",
       "        <div class=\"atoms\">\n",
       "                    <div class=\"catom  \" >\n",
       "        <div class=\"clause \" >\n",
       "            <a href=\"https://shebanq.ancient-data.org/hebrew/text?book=Genesis&amp;chapter=2&amp;verse=10&amp;version=c&amp;mr=m&amp;qw=q&amp;tp=txt_p&amp;tr=hb&amp;wget=v&amp;qget=v&amp;nget=vt\" title=\"Genesis 2:10\" sec=\"Genesis 2:10\">clause</a>   <span class=\"typ\">Ptcp</span>\n",
       "        </div>\n",
       "        <div class=\"atoms\">\n",
       "                    <div class=\"patom  \" >\n",
       "        <div class=\"phrase \" >\n",
       "            <a href=\"https://shebanq.ancient-data.org/hebrew/text?book=Genesis&amp;chapter=2&amp;verse=10&amp;version=c&amp;mr=m&amp;qw=q&amp;tp=txt_p&amp;tr=hb&amp;wget=v&amp;qget=v&amp;nget=vt\" title=\"Genesis 2:10\" sec=\"Genesis 2:10\">phrase</a>   <span class=\"function\">Conj</span> <span class=\"typ\">CP</span>\n",
       "        </div>\n",
       "        <div class=\"atoms\">\n",
       "                    <div class=\"word  \" ><div class=\"h\"><a target=\"_blank\" href=\"https://shebanq.ancient-data.org/hebrew/word?version=c&amp;id=1W\" title=\"show this lexeme in SHEBANQ\">וְ</a></div><div class=\"features\"> <span class=\"pdp\"><a href=\"https://shebanq.ancient-data.org/hebrew/text?book=Genesis&amp;chapter=2&amp;verse=10&amp;version=c&amp;mr=m&amp;qw=q&amp;tp=txt_p&amp;tr=hb&amp;wget=v&amp;qget=v&amp;nget=vt\" title=\"Genesis 2:10\" sec=\"Genesis 2:10\">conj</a></span> <span class=\"gloss\">and</span> <span class=\"sp xft\"><span class=\"f\">sp=</span>conj</span></div></div></div></div><div class=\"patom  \" >\n",
       "        <div class=\"phrase \" >\n",
       "            <a href=\"https://shebanq.ancient-data.org/hebrew/text?book=Genesis&amp;chapter=2&amp;verse=10&amp;version=c&amp;mr=m&amp;qw=q&amp;tp=txt_p&amp;tr=hb&amp;wget=v&amp;qget=v&amp;nget=vt\" title=\"Genesis 2:10\" sec=\"Genesis 2:10\">phrase</a>   <span class=\"function\">Subj</span> <span class=\"typ\">NP</span>\n",
       "        </div>\n",
       "        <div class=\"atoms\">\n",
       "                    <div class=\"word  \" ><div class=\"h\"><a target=\"_blank\" href=\"https://shebanq.ancient-data.org/hebrew/word?version=c&amp;id=1NHRn\" title=\"show this lexeme in SHEBANQ\">נָהָר֙ </a></div><div class=\"features\"> <span class=\"pdp\"><a href=\"https://shebanq.ancient-data.org/hebrew/text?book=Genesis&amp;chapter=2&amp;verse=10&amp;version=c&amp;mr=m&amp;qw=q&amp;tp=txt_p&amp;tr=hb&amp;wget=v&amp;qget=v&amp;nget=vt\" title=\"Genesis 2:10\" sec=\"Genesis 2:10\">subs</a></span> <span class=\"gloss\">stream</span> <span class=\"sp xft\"><span class=\"f\">sp=</span>subs</span></div></div></div></div><div class=\"patom  \" >\n",
       "        <div class=\"phrase \" >\n",
       "            <a href=\"https://shebanq.ancient-data.org/hebrew/text?book=Genesis&amp;chapter=2&amp;verse=10&amp;version=c&amp;mr=m&amp;qw=q&amp;tp=txt_p&amp;tr=hb&amp;wget=v&amp;qget=v&amp;nget=vt\" title=\"Genesis 2:10\" sec=\"Genesis 2:10\">phrase</a>   <span class=\"function\">PreC</span> <span class=\"typ\">VP</span>\n",
       "        </div>\n",
       "        <div class=\"atoms\">\n",
       "                    <div class=\"word  \" ><div class=\"h\"><a target=\"_blank\" href=\"https://shebanq.ancient-data.org/hebrew/word?version=c&amp;id=1JYAv\" title=\"show this lexeme in SHEBANQ\">יֹצֵ֣א </a></div><div class=\"features\"> <span class=\"pdp\"><a href=\"https://shebanq.ancient-data.org/hebrew/text?book=Genesis&amp;chapter=2&amp;verse=10&amp;version=c&amp;mr=m&amp;qw=q&amp;tp=txt_p&amp;tr=hb&amp;wget=v&amp;qget=v&amp;nget=vt\" title=\"Genesis 2:10\" sec=\"Genesis 2:10\">verb</a></span> <span class=\"gloss\">go out</span> <span class=\"vs\">qal</span> <span class=\"vt\">ptca</span> <span class=\"sp xft\"><span class=\"f\">sp=</span>verb</span></div></div></div></div><div class=\"patom  \" >\n",
       "        <div class=\"phrase \" >\n",
       "            <a href=\"https://shebanq.ancient-data.org/hebrew/text?book=Genesis&amp;chapter=2&amp;verse=10&amp;version=c&amp;mr=m&amp;qw=q&amp;tp=txt_p&amp;tr=hb&amp;wget=v&amp;qget=v&amp;nget=vt\" title=\"Genesis 2:10\" sec=\"Genesis 2:10\">phrase</a>   <span class=\"function\">Cmpl</span> <span class=\"typ\">PP</span>\n",
       "        </div>\n",
       "        <div class=\"atoms\">\n",
       "                    <div class=\"word  \" ><div class=\"h\"><a target=\"_blank\" href=\"https://shebanq.ancient-data.org/hebrew/word?version=c&amp;id=1MN\" title=\"show this lexeme in SHEBANQ\">מֵ</a></div><div class=\"features\"> <span class=\"pdp\"><a href=\"https://shebanq.ancient-data.org/hebrew/text?book=Genesis&amp;chapter=2&amp;verse=10&amp;version=c&amp;mr=m&amp;qw=q&amp;tp=txt_p&amp;tr=hb&amp;wget=v&amp;qget=v&amp;nget=vt\" title=\"Genesis 2:10\" sec=\"Genesis 2:10\">prep</a></span> <span class=\"gloss\">from</span> <span class=\"sp xft\"><span class=\"f\">sp=</span>prep</span></div></div><div class=\"word  \" ><div class=\"h\"><a target=\"_blank\" href=\"https://shebanq.ancient-data.org/hebrew/word?version=c&amp;id=1ODNin\" title=\"show this lexeme in SHEBANQ\">עֵ֔דֶן </a></div><div class=\"features\"> <span class=\"pdp\"><a href=\"https://shebanq.ancient-data.org/hebrew/text?book=Genesis&amp;chapter=2&amp;verse=10&amp;version=c&amp;mr=m&amp;qw=q&amp;tp=txt_p&amp;tr=hb&amp;wget=v&amp;qget=v&amp;nget=vt\" title=\"Genesis 2:10\" sec=\"Genesis 2:10\">nmpr</a></span> <span class=\"gloss\">Eden</span> <span class=\"sp xft\"><span class=\"f\">sp=</span>nmpr</span></div></div></div></div></div></div><div class=\"catom  \" >\n",
       "        <div class=\"clause \" >\n",
       "            <a href=\"https://shebanq.ancient-data.org/hebrew/text?book=Genesis&amp;chapter=2&amp;verse=10&amp;version=c&amp;mr=m&amp;qw=q&amp;tp=txt_p&amp;tr=hb&amp;wget=v&amp;qget=v&amp;nget=vt\" title=\"Genesis 2:10\" sec=\"Genesis 2:10\">clause</a>   <span class=\"rela\">Adju</span> <span class=\"typ\">InfC</span>\n",
       "        </div>\n",
       "        <div class=\"atoms\">\n",
       "                    <div class=\"patom  \" >\n",
       "        <div class=\"phrase \" >\n",
       "            <a href=\"https://shebanq.ancient-data.org/hebrew/text?book=Genesis&amp;chapter=2&amp;verse=10&amp;version=c&amp;mr=m&amp;qw=q&amp;tp=txt_p&amp;tr=hb&amp;wget=v&amp;qget=v&amp;nget=vt\" title=\"Genesis 2:10\" sec=\"Genesis 2:10\">phrase</a>   <span class=\"function\">Pred</span> <span class=\"typ\">VP</span>\n",
       "        </div>\n",
       "        <div class=\"atoms\">\n",
       "                    <div class=\"word  \" ><div class=\"h\"><a target=\"_blank\" href=\"https://shebanq.ancient-data.org/hebrew/word?version=c&amp;id=1L\" title=\"show this lexeme in SHEBANQ\">לְ</a></div><div class=\"features\"> <span class=\"pdp\"><a href=\"https://shebanq.ancient-data.org/hebrew/text?book=Genesis&amp;chapter=2&amp;verse=10&amp;version=c&amp;mr=m&amp;qw=q&amp;tp=txt_p&amp;tr=hb&amp;wget=v&amp;qget=v&amp;nget=vt\" title=\"Genesis 2:10\" sec=\"Genesis 2:10\">prep</a></span> <span class=\"gloss\">to</span> <span class=\"sp xft\"><span class=\"f\">sp=</span>prep</span></div></div><div class=\"word  \" ><div class=\"h\"><a target=\"_blank\" href=\"https://shebanq.ancient-data.org/hebrew/word?version=c&amp;id=1CQHv\" title=\"show this lexeme in SHEBANQ\">הַשְׁקֹ֖ות </a></div><div class=\"features\"> <span class=\"pdp\"><a href=\"https://shebanq.ancient-data.org/hebrew/text?book=Genesis&amp;chapter=2&amp;verse=10&amp;version=c&amp;mr=m&amp;qw=q&amp;tp=txt_p&amp;tr=hb&amp;wget=v&amp;qget=v&amp;nget=vt\" title=\"Genesis 2:10\" sec=\"Genesis 2:10\">verb</a></span> <span class=\"gloss\">give drink</span> <span class=\"vs\">hif</span> <span class=\"vt\">infc</span> <span class=\"sp xft\"><span class=\"f\">sp=</span>verb</span></div></div></div></div><div class=\"patom  \" >\n",
       "        <div class=\"phrase \" >\n",
       "            <a href=\"https://shebanq.ancient-data.org/hebrew/text?book=Genesis&amp;chapter=2&amp;verse=10&amp;version=c&amp;mr=m&amp;qw=q&amp;tp=txt_p&amp;tr=hb&amp;wget=v&amp;qget=v&amp;nget=vt\" title=\"Genesis 2:10\" sec=\"Genesis 2:10\">phrase</a>   <span class=\"function\">Objc</span> <span class=\"typ\">PP</span>\n",
       "        </div>\n",
       "        <div class=\"atoms\">\n",
       "                    <div class=\"word  \" ><div class=\"h\"><a target=\"_blank\" href=\"https://shebanq.ancient-data.org/hebrew/word?version=c&amp;id=1AT\" title=\"show this lexeme in SHEBANQ\">אֶת־</a></div><div class=\"features\"> <span class=\"pdp\"><a href=\"https://shebanq.ancient-data.org/hebrew/text?book=Genesis&amp;chapter=2&amp;verse=10&amp;version=c&amp;mr=m&amp;qw=q&amp;tp=txt_p&amp;tr=hb&amp;wget=v&amp;qget=v&amp;nget=vt\" title=\"Genesis 2:10\" sec=\"Genesis 2:10\">prep</a></span> <span class=\"gloss\">&lt;object marker></span> <span class=\"sp xft\"><span class=\"f\">sp=</span>prep</span></div></div><div class=\"word  \" ><div class=\"h\"><a target=\"_blank\" href=\"https://shebanq.ancient-data.org/hebrew/word?version=c&amp;id=1H\" title=\"show this lexeme in SHEBANQ\">הַ</a></div><div class=\"features\"> <span class=\"pdp\"><a href=\"https://shebanq.ancient-data.org/hebrew/text?book=Genesis&amp;chapter=2&amp;verse=10&amp;version=c&amp;mr=m&amp;qw=q&amp;tp=txt_p&amp;tr=hb&amp;wget=v&amp;qget=v&amp;nget=vt\" title=\"Genesis 2:10\" sec=\"Genesis 2:10\">art</a></span> <span class=\"gloss\">the</span> <span class=\"sp xft\"><span class=\"f\">sp=</span>art</span></div></div><div class=\"word  \" ><div class=\"h\"><a target=\"_blank\" href=\"https://shebanq.ancient-data.org/hebrew/word?version=c&amp;id=1GNn\" title=\"show this lexeme in SHEBANQ\">גָּ֑ן </a></div><div class=\"features\"> <span class=\"pdp\"><a href=\"https://shebanq.ancient-data.org/hebrew/text?book=Genesis&amp;chapter=2&amp;verse=10&amp;version=c&amp;mr=m&amp;qw=q&amp;tp=txt_p&amp;tr=hb&amp;wget=v&amp;qget=v&amp;nget=vt\" title=\"Genesis 2:10\" sec=\"Genesis 2:10\">subs</a></span> <span class=\"gloss\">garden</span> <span class=\"sp xft\"><span class=\"f\">sp=</span>subs</span></div></div></div></div></div></div></div></div><div class=\"satom  \" >\n",
       "        <div class=\"sentence \" >\n",
       "            <a href=\"https://shebanq.ancient-data.org/hebrew/text?book=Genesis&amp;chapter=2&amp;verse=10&amp;version=c&amp;mr=m&amp;qw=q&amp;tp=txt_p&amp;tr=hb&amp;wget=v&amp;qget=v&amp;nget=vt\" title=\"Genesis 2:10\" sec=\"Genesis 2:10\">sentence</a>   <span class=\"number\">21|113</span>\n",
       "        </div>\n",
       "        <div class=\"atoms\">\n",
       "                    <div class=\"catom  hl\" >\n",
       "        <div class=\"clause hl\" >\n",
       "            <a href=\"https://shebanq.ancient-data.org/hebrew/text?book=Genesis&amp;chapter=2&amp;verse=10&amp;version=c&amp;mr=m&amp;qw=q&amp;tp=txt_p&amp;tr=hb&amp;wget=v&amp;qget=v&amp;nget=vt\" title=\"Genesis 2:10\" sec=\"Genesis 2:10\">clause</a>   <span class=\"typ\">WxY0</span>\n",
       "        </div>\n",
       "        <div class=\"atoms\">\n",
       "                    <div class=\"patom  \" >\n",
       "        <div class=\"phrase \" >\n",
       "            <a href=\"https://shebanq.ancient-data.org/hebrew/text?book=Genesis&amp;chapter=2&amp;verse=10&amp;version=c&amp;mr=m&amp;qw=q&amp;tp=txt_p&amp;tr=hb&amp;wget=v&amp;qget=v&amp;nget=vt\" title=\"Genesis 2:10\" sec=\"Genesis 2:10\">phrase</a>   <span class=\"function\">Conj</span> <span class=\"typ\">CP</span>\n",
       "        </div>\n",
       "        <div class=\"atoms\">\n",
       "                    <div class=\"word  \" ><div class=\"h\"><a target=\"_blank\" href=\"https://shebanq.ancient-data.org/hebrew/word?version=c&amp;id=1W\" title=\"show this lexeme in SHEBANQ\">וּ</a></div><div class=\"features\"> <span class=\"pdp\"><a href=\"https://shebanq.ancient-data.org/hebrew/text?book=Genesis&amp;chapter=2&amp;verse=10&amp;version=c&amp;mr=m&amp;qw=q&amp;tp=txt_p&amp;tr=hb&amp;wget=v&amp;qget=v&amp;nget=vt\" title=\"Genesis 2:10\" sec=\"Genesis 2:10\">conj</a></span> <span class=\"gloss\">and</span> <span class=\"sp xft\"><span class=\"f\">sp=</span>conj</span></div></div></div></div><div class=\"patom  \" >\n",
       "        <div class=\"phrase \" >\n",
       "            <a href=\"https://shebanq.ancient-data.org/hebrew/text?book=Genesis&amp;chapter=2&amp;verse=10&amp;version=c&amp;mr=m&amp;qw=q&amp;tp=txt_p&amp;tr=hb&amp;wget=v&amp;qget=v&amp;nget=vt\" title=\"Genesis 2:10\" sec=\"Genesis 2:10\">phrase</a>   <span class=\"function\">Cmpl</span> <span class=\"typ\">PP</span>\n",
       "        </div>\n",
       "        <div class=\"atoms\">\n",
       "                    <div class=\"word  \" ><div class=\"h\"><a target=\"_blank\" href=\"https://shebanq.ancient-data.org/hebrew/word?version=c&amp;id=1MN\" title=\"show this lexeme in SHEBANQ\">מִ</a></div><div class=\"features\"> <span class=\"pdp\"><a href=\"https://shebanq.ancient-data.org/hebrew/text?book=Genesis&amp;chapter=2&amp;verse=10&amp;version=c&amp;mr=m&amp;qw=q&amp;tp=txt_p&amp;tr=hb&amp;wget=v&amp;qget=v&amp;nget=vt\" title=\"Genesis 2:10\" sec=\"Genesis 2:10\">prep</a></span> <span class=\"gloss\">from</span> <span class=\"sp xft\"><span class=\"f\">sp=</span>prep</span></div></div><div class=\"word  \" ><div class=\"h\"><a target=\"_blank\" href=\"https://shebanq.ancient-data.org/hebrew/word?version=c&amp;id=1CM\" title=\"show this lexeme in SHEBANQ\">שָּׁם֙ </a></div><div class=\"features\"> <span class=\"pdp\"><a href=\"https://shebanq.ancient-data.org/hebrew/text?book=Genesis&amp;chapter=2&amp;verse=10&amp;version=c&amp;mr=m&amp;qw=q&amp;tp=txt_p&amp;tr=hb&amp;wget=v&amp;qget=v&amp;nget=vt\" title=\"Genesis 2:10\" sec=\"Genesis 2:10\">advb</a></span> <span class=\"gloss\">there</span> <span class=\"sp xft\"><span class=\"f\">sp=</span>advb</span></div></div></div></div><div class=\"patom  \" >\n",
       "        <div class=\"phrase \" >\n",
       "            <a href=\"https://shebanq.ancient-data.org/hebrew/text?book=Genesis&amp;chapter=2&amp;verse=10&amp;version=c&amp;mr=m&amp;qw=q&amp;tp=txt_p&amp;tr=hb&amp;wget=v&amp;qget=v&amp;nget=vt\" title=\"Genesis 2:10\" sec=\"Genesis 2:10\">phrase</a>   <span class=\"function\">Pred</span> <span class=\"typ\">VP</span>\n",
       "        </div>\n",
       "        <div class=\"atoms\">\n",
       "                    <div class=\"word  hl\" ><div class=\"h\"><a target=\"_blank\" href=\"https://shebanq.ancient-data.org/hebrew/word?version=c&amp;id=1PRDv\" title=\"show this lexeme in SHEBANQ\">יִפָּרֵ֔ד </a></div><div class=\"features\"> <span class=\"pdp\"><a href=\"https://shebanq.ancient-data.org/hebrew/text?book=Genesis&amp;chapter=2&amp;verse=10&amp;version=c&amp;mr=m&amp;qw=q&amp;tp=txt_p&amp;tr=hb&amp;wget=v&amp;qget=v&amp;nget=vt\" title=\"Genesis 2:10\" sec=\"Genesis 2:10\">verb</a></span> <span class=\"gloss\">divide</span> <span class=\"vs\">nif</span> <span class=\"vt\">impf</span> <span class=\"sp xft\"><span class=\"f\">sp=</span>verb</span></div></div></div></div></div></div></div></div><div class=\"satom  \" >\n",
       "        <div class=\"sentence \" >\n",
       "            <a href=\"https://shebanq.ancient-data.org/hebrew/text?book=Genesis&amp;chapter=2&amp;verse=10&amp;version=c&amp;mr=m&amp;qw=q&amp;tp=txt_p&amp;tr=hb&amp;wget=v&amp;qget=v&amp;nget=vt\" title=\"Genesis 2:10\" sec=\"Genesis 2:10\">sentence</a>   <span class=\"number\">22|114</span>\n",
       "        </div>\n",
       "        <div class=\"atoms\">\n",
       "                    <div class=\"catom  \" >\n",
       "        <div class=\"clause \" >\n",
       "            <a href=\"https://shebanq.ancient-data.org/hebrew/text?book=Genesis&amp;chapter=2&amp;verse=10&amp;version=c&amp;mr=m&amp;qw=q&amp;tp=txt_p&amp;tr=hb&amp;wget=v&amp;qget=v&amp;nget=vt\" title=\"Genesis 2:10\" sec=\"Genesis 2:10\">clause</a>   <span class=\"typ\">WQt0</span>\n",
       "        </div>\n",
       "        <div class=\"atoms\">\n",
       "                    <div class=\"patom  \" >\n",
       "        <div class=\"phrase \" >\n",
       "            <a href=\"https://shebanq.ancient-data.org/hebrew/text?book=Genesis&amp;chapter=2&amp;verse=10&amp;version=c&amp;mr=m&amp;qw=q&amp;tp=txt_p&amp;tr=hb&amp;wget=v&amp;qget=v&amp;nget=vt\" title=\"Genesis 2:10\" sec=\"Genesis 2:10\">phrase</a>   <span class=\"function\">Conj</span> <span class=\"typ\">CP</span>\n",
       "        </div>\n",
       "        <div class=\"atoms\">\n",
       "                    <div class=\"word  \" ><div class=\"h\"><a target=\"_blank\" href=\"https://shebanq.ancient-data.org/hebrew/word?version=c&amp;id=1W\" title=\"show this lexeme in SHEBANQ\">וְ</a></div><div class=\"features\"> <span class=\"pdp\"><a href=\"https://shebanq.ancient-data.org/hebrew/text?book=Genesis&amp;chapter=2&amp;verse=10&amp;version=c&amp;mr=m&amp;qw=q&amp;tp=txt_p&amp;tr=hb&amp;wget=v&amp;qget=v&amp;nget=vt\" title=\"Genesis 2:10\" sec=\"Genesis 2:10\">conj</a></span> <span class=\"gloss\">and</span> <span class=\"sp xft\"><span class=\"f\">sp=</span>conj</span></div></div></div></div><div class=\"patom  \" >\n",
       "        <div class=\"phrase \" >\n",
       "            <a href=\"https://shebanq.ancient-data.org/hebrew/text?book=Genesis&amp;chapter=2&amp;verse=10&amp;version=c&amp;mr=m&amp;qw=q&amp;tp=txt_p&amp;tr=hb&amp;wget=v&amp;qget=v&amp;nget=vt\" title=\"Genesis 2:10\" sec=\"Genesis 2:10\">phrase</a>   <span class=\"function\">Pred</span> <span class=\"typ\">VP</span>\n",
       "        </div>\n",
       "        <div class=\"atoms\">\n",
       "                    <div class=\"word  \" ><div class=\"h\"><a target=\"_blank\" href=\"https://shebanq.ancient-data.org/hebrew/word?version=c&amp;id=1HJHv\" title=\"show this lexeme in SHEBANQ\">הָיָ֖ה </a></div><div class=\"features\"> <span class=\"pdp\"><a href=\"https://shebanq.ancient-data.org/hebrew/text?book=Genesis&amp;chapter=2&amp;verse=10&amp;version=c&amp;mr=m&amp;qw=q&amp;tp=txt_p&amp;tr=hb&amp;wget=v&amp;qget=v&amp;nget=vt\" title=\"Genesis 2:10\" sec=\"Genesis 2:10\">verb</a></span> <span class=\"gloss\">be</span> <span class=\"vs\">qal</span> <span class=\"vt\">perf</span> <span class=\"sp xft\"><span class=\"f\">sp=</span>verb</span></div></div></div></div><div class=\"patom  \" >\n",
       "        <div class=\"phrase \" >\n",
       "            <a href=\"https://shebanq.ancient-data.org/hebrew/text?book=Genesis&amp;chapter=2&amp;verse=10&amp;version=c&amp;mr=m&amp;qw=q&amp;tp=txt_p&amp;tr=hb&amp;wget=v&amp;qget=v&amp;nget=vt\" title=\"Genesis 2:10\" sec=\"Genesis 2:10\">phrase</a>   <span class=\"function\">PreC</span> <span class=\"typ\">PP</span>\n",
       "        </div>\n",
       "        <div class=\"atoms\">\n",
       "                    <div class=\"word  \" ><div class=\"h\"><a target=\"_blank\" href=\"https://shebanq.ancient-data.org/hebrew/word?version=c&amp;id=1L\" title=\"show this lexeme in SHEBANQ\">לְ</a></div><div class=\"features\"> <span class=\"pdp\"><a href=\"https://shebanq.ancient-data.org/hebrew/text?book=Genesis&amp;chapter=2&amp;verse=10&amp;version=c&amp;mr=m&amp;qw=q&amp;tp=txt_p&amp;tr=hb&amp;wget=v&amp;qget=v&amp;nget=vt\" title=\"Genesis 2:10\" sec=\"Genesis 2:10\">prep</a></span> <span class=\"gloss\">to</span> <span class=\"sp xft\"><span class=\"f\">sp=</span>prep</span></div></div><div class=\"word  \" ><div class=\"h\"><a target=\"_blank\" href=\"https://shebanq.ancient-data.org/hebrew/word?version=c&amp;id=1ARBOn\" title=\"show this lexeme in SHEBANQ\">אַרְבָּעָ֥ה </a></div><div class=\"features\"> <span class=\"pdp\"><a href=\"https://shebanq.ancient-data.org/hebrew/text?book=Genesis&amp;chapter=2&amp;verse=10&amp;version=c&amp;mr=m&amp;qw=q&amp;tp=txt_p&amp;tr=hb&amp;wget=v&amp;qget=v&amp;nget=vt\" title=\"Genesis 2:10\" sec=\"Genesis 2:10\">subs</a></span> <span class=\"gloss\">four</span> <span class=\"sp xft\"><span class=\"f\">sp=</span>subs</span></div></div><div class=\"word  \" ><div class=\"h\"><a target=\"_blank\" href=\"https://shebanq.ancient-data.org/hebrew/word?version=c&amp;id=1RACn\" title=\"show this lexeme in SHEBANQ\">רָאשִֽׁים׃ </a></div><div class=\"features\"> <span class=\"pdp\"><a href=\"https://shebanq.ancient-data.org/hebrew/text?book=Genesis&amp;chapter=2&amp;verse=10&amp;version=c&amp;mr=m&amp;qw=q&amp;tp=txt_p&amp;tr=hb&amp;wget=v&amp;qget=v&amp;nget=vt\" title=\"Genesis 2:10\" sec=\"Genesis 2:10\">subs</a></span> <span class=\"gloss\">head</span> <span class=\"sp xft\"><span class=\"f\">sp=</span>subs</span></div></div></div></div></div></div></div></div></div></div>"
      ],
      "text/plain": [
       "<IPython.core.display.HTML object>"
      ]
     },
     "metadata": {},
     "output_type": "display_data"
    },
    {
     "data": {
      "text/html": [
       "<p><b>result</b> <i>3</i></p>"
      ],
      "text/plain": [
       "<IPython.core.display.HTML object>"
      ]
     },
     "metadata": {},
     "output_type": "display_data"
    },
    {
     "data": {
      "text/html": [
       "<div class=\"outeritem\"><div class=\"verse  \" >\n",
       "    <div class=\"vl\">\n",
       "        <div class=\"vrs\"><a href=\"https://shebanq.ancient-data.org/hebrew/text?book=Genesis&amp;chapter=2&amp;verse=25&amp;version=c&amp;mr=m&amp;qw=q&amp;tp=txt_p&amp;tr=hb&amp;wget=v&amp;qget=v&amp;nget=vt\" title=\"show this passage in SHEBANQ\" sec=\"Genesis 2:25\">Genesis 2:25</a></div>\n",
       "        \n",
       "    </div>\n",
       "<div class=\"satom  \" >\n",
       "        <div class=\"sentence \" >\n",
       "            <a href=\"https://shebanq.ancient-data.org/hebrew/text?book=Genesis&amp;chapter=2&amp;verse=25&amp;version=c&amp;mr=m&amp;qw=q&amp;tp=txt_p&amp;tr=hb&amp;wget=v&amp;qget=v&amp;nget=vt\" title=\"Genesis 2:25\" sec=\"Genesis 2:25\">sentence</a>   <span class=\"number\">59|151</span>\n",
       "        </div>\n",
       "        <div class=\"atoms\">\n",
       "                    <div class=\"catom  \" >\n",
       "        <div class=\"clause \" >\n",
       "            <a href=\"https://shebanq.ancient-data.org/hebrew/text?book=Genesis&amp;chapter=2&amp;verse=25&amp;version=c&amp;mr=m&amp;qw=q&amp;tp=txt_p&amp;tr=hb&amp;wget=v&amp;qget=v&amp;nget=vt\" title=\"Genesis 2:25\" sec=\"Genesis 2:25\">clause</a>   <span class=\"typ\">WayX</span>\n",
       "        </div>\n",
       "        <div class=\"atoms\">\n",
       "                    <div class=\"patom  \" >\n",
       "        <div class=\"phrase \" >\n",
       "            <a href=\"https://shebanq.ancient-data.org/hebrew/text?book=Genesis&amp;chapter=2&amp;verse=25&amp;version=c&amp;mr=m&amp;qw=q&amp;tp=txt_p&amp;tr=hb&amp;wget=v&amp;qget=v&amp;nget=vt\" title=\"Genesis 2:25\" sec=\"Genesis 2:25\">phrase</a>   <span class=\"function\">Conj</span> <span class=\"typ\">CP</span>\n",
       "        </div>\n",
       "        <div class=\"atoms\">\n",
       "                    <div class=\"word  \" ><div class=\"h\"><a target=\"_blank\" href=\"https://shebanq.ancient-data.org/hebrew/word?version=c&amp;id=1W\" title=\"show this lexeme in SHEBANQ\">וַ</a></div><div class=\"features\"> <span class=\"pdp\"><a href=\"https://shebanq.ancient-data.org/hebrew/text?book=Genesis&amp;chapter=2&amp;verse=25&amp;version=c&amp;mr=m&amp;qw=q&amp;tp=txt_p&amp;tr=hb&amp;wget=v&amp;qget=v&amp;nget=vt\" title=\"Genesis 2:25\" sec=\"Genesis 2:25\">conj</a></span> <span class=\"gloss\">and</span> <span class=\"sp xft\"><span class=\"f\">sp=</span>conj</span></div></div></div></div><div class=\"patom  \" >\n",
       "        <div class=\"phrase \" >\n",
       "            <a href=\"https://shebanq.ancient-data.org/hebrew/text?book=Genesis&amp;chapter=2&amp;verse=25&amp;version=c&amp;mr=m&amp;qw=q&amp;tp=txt_p&amp;tr=hb&amp;wget=v&amp;qget=v&amp;nget=vt\" title=\"Genesis 2:25\" sec=\"Genesis 2:25\">phrase</a>   <span class=\"function\">Pred</span> <span class=\"typ\">VP</span>\n",
       "        </div>\n",
       "        <div class=\"atoms\">\n",
       "                    <div class=\"word  \" ><div class=\"h\"><a target=\"_blank\" href=\"https://shebanq.ancient-data.org/hebrew/word?version=c&amp;id=1HJHv\" title=\"show this lexeme in SHEBANQ\">יִּֽהְי֤וּ </a></div><div class=\"features\"> <span class=\"pdp\"><a href=\"https://shebanq.ancient-data.org/hebrew/text?book=Genesis&amp;chapter=2&amp;verse=25&amp;version=c&amp;mr=m&amp;qw=q&amp;tp=txt_p&amp;tr=hb&amp;wget=v&amp;qget=v&amp;nget=vt\" title=\"Genesis 2:25\" sec=\"Genesis 2:25\">verb</a></span> <span class=\"gloss\">be</span> <span class=\"vs\">qal</span> <span class=\"vt\">wayq</span> <span class=\"sp xft\"><span class=\"f\">sp=</span>verb</span></div></div></div></div><div class=\"patom  l \" >\n",
       "        <div class=\"phrase \" >\n",
       "            <a href=\"https://shebanq.ancient-data.org/hebrew/text?book=Genesis&amp;chapter=2&amp;verse=25&amp;version=c&amp;mr=m&amp;qw=q&amp;tp=txt_p&amp;tr=hb&amp;wget=v&amp;qget=v&amp;nget=vt\" title=\"Genesis 2:25\" sec=\"Genesis 2:25\">phrase</a>   <span class=\"function\">Subj</span> <span class=\"typ\">NP</span>\n",
       "        </div>\n",
       "        <div class=\"atoms\">\n",
       "                    <div class=\"word  \" ><div class=\"h\"><a target=\"_blank\" href=\"https://shebanq.ancient-data.org/hebrew/word?version=c&amp;id=1CNJMn\" title=\"show this lexeme in SHEBANQ\">שְׁנֵיהֶם֙ </a></div><div class=\"features\"> <span class=\"pdp\"><a href=\"https://shebanq.ancient-data.org/hebrew/text?book=Genesis&amp;chapter=2&amp;verse=25&amp;version=c&amp;mr=m&amp;qw=q&amp;tp=txt_p&amp;tr=hb&amp;wget=v&amp;qget=v&amp;nget=vt\" title=\"Genesis 2:25\" sec=\"Genesis 2:25\">subs</a></span> <span class=\"gloss\">two</span> <span class=\"sp xft\"><span class=\"f\">sp=</span>subs</span></div></div></div></div><div class=\"patom  \" >\n",
       "        <div class=\"phrase \" >\n",
       "            <a href=\"https://shebanq.ancient-data.org/hebrew/text?book=Genesis&amp;chapter=2&amp;verse=25&amp;version=c&amp;mr=m&amp;qw=q&amp;tp=txt_p&amp;tr=hb&amp;wget=v&amp;qget=v&amp;nget=vt\" title=\"Genesis 2:25\" sec=\"Genesis 2:25\">phrase</a>   <span class=\"function\">PreC</span> <span class=\"typ\">AdjP</span>\n",
       "        </div>\n",
       "        <div class=\"atoms\">\n",
       "                    <div class=\"word  \" ><div class=\"h\"><a target=\"_blank\" href=\"https://shebanq.ancient-data.org/hebrew/word?version=c&amp;id=1ORWMn\" title=\"show this lexeme in SHEBANQ\">עֲרוּמִּ֔ים </a></div><div class=\"features\"> <span class=\"pdp\"><a href=\"https://shebanq.ancient-data.org/hebrew/text?book=Genesis&amp;chapter=2&amp;verse=25&amp;version=c&amp;mr=m&amp;qw=q&amp;tp=txt_p&amp;tr=hb&amp;wget=v&amp;qget=v&amp;nget=vt\" title=\"Genesis 2:25\" sec=\"Genesis 2:25\">adjv</a></span> <span class=\"gloss\">naked</span> <span class=\"sp xft\"><span class=\"f\">sp=</span>adjv</span></div></div></div></div><div class=\"patom  r \" >\n",
       "        <div class=\"phrase \" >\n",
       "            <a href=\"https://shebanq.ancient-data.org/hebrew/text?book=Genesis&amp;chapter=2&amp;verse=25&amp;version=c&amp;mr=m&amp;qw=q&amp;tp=txt_p&amp;tr=hb&amp;wget=v&amp;qget=v&amp;nget=vt\" title=\"Genesis 2:25\" sec=\"Genesis 2:25\">phrase</a>   <span class=\"function\">Subj</span> <span class=\"typ\">NP</span>\n",
       "        </div>\n",
       "        <div class=\"atoms\">\n",
       "                    <div class=\"word  \" ><div class=\"h\"><a target=\"_blank\" href=\"https://shebanq.ancient-data.org/hebrew/word?version=c&amp;id=1H\" title=\"show this lexeme in SHEBANQ\">הָֽ</a></div><div class=\"features\"> <span class=\"pdp\"><a href=\"https://shebanq.ancient-data.org/hebrew/text?book=Genesis&amp;chapter=2&amp;verse=25&amp;version=c&amp;mr=m&amp;qw=q&amp;tp=txt_p&amp;tr=hb&amp;wget=v&amp;qget=v&amp;nget=vt\" title=\"Genesis 2:25\" sec=\"Genesis 2:25\">art</a></span> <span class=\"gloss\">the</span> <span class=\"sp xft\"><span class=\"f\">sp=</span>art</span></div></div><div class=\"word  \" ><div class=\"h\"><a target=\"_blank\" href=\"https://shebanq.ancient-data.org/hebrew/word?version=c&amp;id=1ADMn\" title=\"show this lexeme in SHEBANQ\">אָדָ֖ם </a></div><div class=\"features\"> <span class=\"pdp\"><a href=\"https://shebanq.ancient-data.org/hebrew/text?book=Genesis&amp;chapter=2&amp;verse=25&amp;version=c&amp;mr=m&amp;qw=q&amp;tp=txt_p&amp;tr=hb&amp;wget=v&amp;qget=v&amp;nget=vt\" title=\"Genesis 2:25\" sec=\"Genesis 2:25\">subs</a></span> <span class=\"gloss\">human, mankind</span> <span class=\"sp xft\"><span class=\"f\">sp=</span>subs</span></div></div><div class=\"word  \" ><div class=\"h\"><a target=\"_blank\" href=\"https://shebanq.ancient-data.org/hebrew/word?version=c&amp;id=1W\" title=\"show this lexeme in SHEBANQ\">וְ</a></div><div class=\"features\"> <span class=\"pdp\"><a href=\"https://shebanq.ancient-data.org/hebrew/text?book=Genesis&amp;chapter=2&amp;verse=25&amp;version=c&amp;mr=m&amp;qw=q&amp;tp=txt_p&amp;tr=hb&amp;wget=v&amp;qget=v&amp;nget=vt\" title=\"Genesis 2:25\" sec=\"Genesis 2:25\">conj</a></span> <span class=\"gloss\">and</span> <span class=\"sp xft\"><span class=\"f\">sp=</span>conj</span></div></div><div class=\"word  \" ><div class=\"h\"><a target=\"_blank\" href=\"https://shebanq.ancient-data.org/hebrew/word?version=c&amp;id=1ACHn\" title=\"show this lexeme in SHEBANQ\">אִשְׁתֹּ֑ו </a></div><div class=\"features\"> <span class=\"pdp\"><a href=\"https://shebanq.ancient-data.org/hebrew/text?book=Genesis&amp;chapter=2&amp;verse=25&amp;version=c&amp;mr=m&amp;qw=q&amp;tp=txt_p&amp;tr=hb&amp;wget=v&amp;qget=v&amp;nget=vt\" title=\"Genesis 2:25\" sec=\"Genesis 2:25\">subs</a></span> <span class=\"gloss\">woman</span> <span class=\"sp xft\"><span class=\"f\">sp=</span>subs</span></div></div></div></div></div></div></div></div><div class=\"satom  \" >\n",
       "        <div class=\"sentence \" >\n",
       "            <a href=\"https://shebanq.ancient-data.org/hebrew/text?book=Genesis&amp;chapter=2&amp;verse=25&amp;version=c&amp;mr=m&amp;qw=q&amp;tp=txt_p&amp;tr=hb&amp;wget=v&amp;qget=v&amp;nget=vt\" title=\"Genesis 2:25\" sec=\"Genesis 2:25\">sentence</a>   <span class=\"number\">60|152</span>\n",
       "        </div>\n",
       "        <div class=\"atoms\">\n",
       "                    <div class=\"catom  hl\" >\n",
       "        <div class=\"clause hl\" >\n",
       "            <a href=\"https://shebanq.ancient-data.org/hebrew/text?book=Genesis&amp;chapter=2&amp;verse=25&amp;version=c&amp;mr=m&amp;qw=q&amp;tp=txt_p&amp;tr=hb&amp;wget=v&amp;qget=v&amp;nget=vt\" title=\"Genesis 2:25\" sec=\"Genesis 2:25\">clause</a>   <span class=\"typ\">WxY0</span>\n",
       "        </div>\n",
       "        <div class=\"atoms\">\n",
       "                    <div class=\"patom  \" >\n",
       "        <div class=\"phrase \" >\n",
       "            <a href=\"https://shebanq.ancient-data.org/hebrew/text?book=Genesis&amp;chapter=2&amp;verse=25&amp;version=c&amp;mr=m&amp;qw=q&amp;tp=txt_p&amp;tr=hb&amp;wget=v&amp;qget=v&amp;nget=vt\" title=\"Genesis 2:25\" sec=\"Genesis 2:25\">phrase</a>   <span class=\"function\">Conj</span> <span class=\"typ\">CP</span>\n",
       "        </div>\n",
       "        <div class=\"atoms\">\n",
       "                    <div class=\"word  \" ><div class=\"h\"><a target=\"_blank\" href=\"https://shebanq.ancient-data.org/hebrew/word?version=c&amp;id=1W\" title=\"show this lexeme in SHEBANQ\">וְ</a></div><div class=\"features\"> <span class=\"pdp\"><a href=\"https://shebanq.ancient-data.org/hebrew/text?book=Genesis&amp;chapter=2&amp;verse=25&amp;version=c&amp;mr=m&amp;qw=q&amp;tp=txt_p&amp;tr=hb&amp;wget=v&amp;qget=v&amp;nget=vt\" title=\"Genesis 2:25\" sec=\"Genesis 2:25\">conj</a></span> <span class=\"gloss\">and</span> <span class=\"sp xft\"><span class=\"f\">sp=</span>conj</span></div></div></div></div><div class=\"patom  \" >\n",
       "        <div class=\"phrase \" >\n",
       "            <a href=\"https://shebanq.ancient-data.org/hebrew/text?book=Genesis&amp;chapter=2&amp;verse=25&amp;version=c&amp;mr=m&amp;qw=q&amp;tp=txt_p&amp;tr=hb&amp;wget=v&amp;qget=v&amp;nget=vt\" title=\"Genesis 2:25\" sec=\"Genesis 2:25\">phrase</a>   <span class=\"function\">Nega</span> <span class=\"typ\">NegP</span>\n",
       "        </div>\n",
       "        <div class=\"atoms\">\n",
       "                    <div class=\"word  \" ><div class=\"h\"><a target=\"_blank\" href=\"https://shebanq.ancient-data.org/hebrew/word?version=c&amp;id=1LA\" title=\"show this lexeme in SHEBANQ\">לֹ֖א </a></div><div class=\"features\"> <span class=\"pdp\"><a href=\"https://shebanq.ancient-data.org/hebrew/text?book=Genesis&amp;chapter=2&amp;verse=25&amp;version=c&amp;mr=m&amp;qw=q&amp;tp=txt_p&amp;tr=hb&amp;wget=v&amp;qget=v&amp;nget=vt\" title=\"Genesis 2:25\" sec=\"Genesis 2:25\">nega</a></span> <span class=\"gloss\">not</span> <span class=\"sp xft\"><span class=\"f\">sp=</span>nega</span></div></div></div></div><div class=\"patom  \" >\n",
       "        <div class=\"phrase \" >\n",
       "            <a href=\"https://shebanq.ancient-data.org/hebrew/text?book=Genesis&amp;chapter=2&amp;verse=25&amp;version=c&amp;mr=m&amp;qw=q&amp;tp=txt_p&amp;tr=hb&amp;wget=v&amp;qget=v&amp;nget=vt\" title=\"Genesis 2:25\" sec=\"Genesis 2:25\">phrase</a>   <span class=\"function\">Pred</span> <span class=\"typ\">VP</span>\n",
       "        </div>\n",
       "        <div class=\"atoms\">\n",
       "                    <div class=\"word  hl\" ><div class=\"h\"><a target=\"_blank\" href=\"https://shebanq.ancient-data.org/hebrew/word?version=c&amp;id=1BWCv\" title=\"show this lexeme in SHEBANQ\">יִתְבֹּשָֽׁשׁוּ׃ </a></div><div class=\"features\"> <span class=\"pdp\"><a href=\"https://shebanq.ancient-data.org/hebrew/text?book=Genesis&amp;chapter=2&amp;verse=25&amp;version=c&amp;mr=m&amp;qw=q&amp;tp=txt_p&amp;tr=hb&amp;wget=v&amp;qget=v&amp;nget=vt\" title=\"Genesis 2:25\" sec=\"Genesis 2:25\">verb</a></span> <span class=\"gloss\">be ashamed</span> <span class=\"vs\">hit</span> <span class=\"vt\">impf</span> <span class=\"sp xft\"><span class=\"f\">sp=</span>verb</span></div></div></div></div></div></div></div></div></div></div>"
      ],
      "text/plain": [
       "<IPython.core.display.HTML object>"
      ]
     },
     "metadata": {},
     "output_type": "display_data"
    }
   ],
   "source": [
    "A.show(results, start=0, end=3)"
   ]
  },
  {
   "cell_type": "markdown",
   "metadata": {},
   "source": [
    "#### Find all glosses with a space"
   ]
  },
  {
   "cell_type": "code",
   "execution_count": 43,
   "metadata": {
    "ExecuteTime": {
     "end_time": "2018-05-24T08:02:00.113562Z",
     "start_time": "2018-05-24T08:02:00.028266Z"
    }
   },
   "outputs": [
    {
     "name": "stdout",
     "output_type": "stream",
     "text": [
      "  0.02s 406 results\n"
     ]
    },
    {
     "data": {
      "text/html": [
       "<table>\n",
       "<tr class=\"tf\">\n",
       "  <th class=\"tf\">n</th><th class=\"tf\">p</th>\n",
       "  <th class=\"tf\">lex</th>\n",
       "</tr>\n",
       "\n",
       "<tr class=\"tf\"><td class=\"tf\">1</td><td class=\"tf\"> <a target=\"_blank\" href=\"https://shebanq.ancient-data.org/hebrew/word?version=c&amp;id=1THWMn\" title=\"show this lexeme in SHEBANQ\">תְּהֹום</a></td><td class=\"tf\"><a target=\"_blank\" href=\"https://shebanq.ancient-data.org/hebrew/word?version=c&amp;id=1THWMn\" title=\"show this lexeme in SHEBANQ\"><span class=\"plain outer  rtl  \" ><span class=\"plain rtl h\">תְּהֹום</span></span></a></td></tr>\n",
       "<tr class=\"tf\"><td class=\"tf\">2</td><td class=\"tf\"> <a target=\"_blank\" href=\"https://shebanq.ancient-data.org/hebrew/word?version=c&amp;id=1TXTn\" title=\"show this lexeme in SHEBANQ\">תַּחַת</a></td><td class=\"tf\"><a target=\"_blank\" href=\"https://shebanq.ancient-data.org/hebrew/word?version=c&amp;id=1TXTn\" title=\"show this lexeme in SHEBANQ\"><span class=\"plain outer  rtl  \" ><span class=\"plain rtl h\">תַּחַת</span></span></a></td></tr>\n",
       "<tr class=\"tf\"><td class=\"tf\">3</td><td class=\"tf\"> <a target=\"_blank\" href=\"https://shebanq.ancient-data.org/hebrew/word?version=c&amp;id=1JBCHn\" title=\"show this lexeme in SHEBANQ\">יַבָּשָׁה</a></td><td class=\"tf\"><a target=\"_blank\" href=\"https://shebanq.ancient-data.org/hebrew/word?version=c&amp;id=1JBCHn\" title=\"show this lexeme in SHEBANQ\"><span class=\"plain outer  rtl  \" ><span class=\"plain rtl h\">יַבָּשָׁה</span></span></a></td></tr>\n",
       "<tr class=\"tf\"><td class=\"tf\">4</td><td class=\"tf\"> <a target=\"_blank\" href=\"https://shebanq.ancient-data.org/hebrew/word?version=c&amp;id=1DCAn\" title=\"show this lexeme in SHEBANQ\">דֶּשֶׁא</a></td><td class=\"tf\"><a target=\"_blank\" href=\"https://shebanq.ancient-data.org/hebrew/word?version=c&amp;id=1DCAn\" title=\"show this lexeme in SHEBANQ\"><span class=\"plain outer  rtl  \" ><span class=\"plain rtl h\">דֶּשֶׁא</span></span></a></td></tr>\n",
       "<tr class=\"tf\"><td class=\"tf\">5</td><td class=\"tf\"> <a target=\"_blank\" href=\"https://shebanq.ancient-data.org/hebrew/word?version=c&amp;id=1CRYn\" title=\"show this lexeme in SHEBANQ\">שֶׁרֶץ</a></td><td class=\"tf\"><a target=\"_blank\" href=\"https://shebanq.ancient-data.org/hebrew/word?version=c&amp;id=1CRYn\" title=\"show this lexeme in SHEBANQ\"><span class=\"plain outer  rtl  \" ><span class=\"plain rtl h\">שֶׁרֶץ</span></span></a></td></tr></table>"
      ],
      "text/plain": [
       "<IPython.core.display.HTML object>"
      ]
     },
     "metadata": {},
     "output_type": "display_data"
    }
   ],
   "source": [
    "query = '''\n",
    "lex gloss~[\\ ] sp=subs\n",
    "'''\n",
    "results = list(A.search(query))\n",
    "A.table(results, start=1, end=5)"
   ]
  },
  {
   "cell_type": "code",
   "execution_count": 44,
   "metadata": {},
   "outputs": [
    {
     "data": {
      "text/html": [
       "<p><b>result</b> <i>1</i></p>"
      ],
      "text/plain": [
       "<IPython.core.display.HTML object>"
      ]
     },
     "metadata": {},
     "output_type": "display_data"
    },
    {
     "data": {
      "text/html": [
       "<a target=\"_blank\" href=\"https://shebanq.ancient-data.org/hebrew/word?version=c&amp;id=1THWMn\" title=\"show this lexeme in SHEBANQ\">תְּהֹום</a><div class=\"outeritem\"><div class=\"lextp  \" ><div class=\"h\">תְּהֹום</div><div class=\"features\"> <span class=\"voc_lex\"><a target=\"_blank\" href=\"https://shebanq.ancient-data.org/hebrew/word?version=c&amp;id=1THWMn\" title=\"show this lexeme in SHEBANQ\">T.:HOWM</a></span> <span class=\"gloss\">primeval ocean</span> <span class=\"sp xft\"><span class=\"f\">sp=</span>subs</span></div><div class=\"occs\"><a href=\"https://shebanq.ancient-data.org/hebrew/text?book=Genesis&amp;chapter=1&amp;verse=2&amp;version=c&amp;mr=m&amp;qw=q&amp;tp=txt_p&amp;tr=hb&amp;wget=v&amp;qget=v&amp;nget=vt\" title=\"show this passage in SHEBANQ\" sec=\"Genesis 1:2\">Genesis 1:2</a> - <a href=\"https://shebanq.ancient-data.org/hebrew/text?book=Proverbia&amp;chapter=8&amp;verse=28&amp;version=c&amp;mr=m&amp;qw=q&amp;tp=txt_p&amp;tr=hb&amp;wget=v&amp;qget=v&amp;nget=vt\" title=\"show this passage in SHEBANQ\" sec=\"Proverbs 8:28\">Proverbs 8:28</a></div></div></div>"
      ],
      "text/plain": [
       "<IPython.core.display.HTML object>"
      ]
     },
     "metadata": {},
     "output_type": "display_data"
    },
    {
     "data": {
      "text/html": [
       "<p><b>result</b> <i>2</i></p>"
      ],
      "text/plain": [
       "<IPython.core.display.HTML object>"
      ]
     },
     "metadata": {},
     "output_type": "display_data"
    },
    {
     "data": {
      "text/html": [
       "<a target=\"_blank\" href=\"https://shebanq.ancient-data.org/hebrew/word?version=c&amp;id=1TXTn\" title=\"show this lexeme in SHEBANQ\">תַּחַת</a><div class=\"outeritem\"><div class=\"lextp  \" ><div class=\"h\">תַּחַת</div><div class=\"features\"> <span class=\"voc_lex\"><a target=\"_blank\" href=\"https://shebanq.ancient-data.org/hebrew/word?version=c&amp;id=1TXTn\" title=\"show this lexeme in SHEBANQ\">T.AXAT</a></span> <span class=\"gloss\">under part</span> <span class=\"sp xft\"><span class=\"f\">sp=</span>subs</span></div><div class=\"occs\"><a href=\"https://shebanq.ancient-data.org/hebrew/text?book=Genesis&amp;chapter=1&amp;verse=7&amp;version=c&amp;mr=m&amp;qw=q&amp;tp=txt_p&amp;tr=hb&amp;wget=v&amp;qget=v&amp;nget=vt\" title=\"show this passage in SHEBANQ\" sec=\"Genesis 1:7\">Genesis 1:7</a> - <a href=\"https://shebanq.ancient-data.org/hebrew/text?book=Chronica_II&amp;chapter=36&amp;verse=8&amp;version=c&amp;mr=m&amp;qw=q&amp;tp=txt_p&amp;tr=hb&amp;wget=v&amp;qget=v&amp;nget=vt\" title=\"show this passage in SHEBANQ\" sec=\"2_Chronicles 36:8\">2_Chronicles 36:8</a></div></div></div>"
      ],
      "text/plain": [
       "<IPython.core.display.HTML object>"
      ]
     },
     "metadata": {},
     "output_type": "display_data"
    },
    {
     "data": {
      "text/html": [
       "<p><b>result</b> <i>3</i></p>"
      ],
      "text/plain": [
       "<IPython.core.display.HTML object>"
      ]
     },
     "metadata": {},
     "output_type": "display_data"
    },
    {
     "data": {
      "text/html": [
       "<a target=\"_blank\" href=\"https://shebanq.ancient-data.org/hebrew/word?version=c&amp;id=1JBCHn\" title=\"show this lexeme in SHEBANQ\">יַבָּשָׁה</a><div class=\"outeritem\"><div class=\"lextp  \" ><div class=\"h\">יַבָּשָׁה</div><div class=\"features\"> <span class=\"voc_lex\"><a target=\"_blank\" href=\"https://shebanq.ancient-data.org/hebrew/word?version=c&amp;id=1JBCHn\" title=\"show this lexeme in SHEBANQ\">JAB.@C@H</a></span> <span class=\"gloss\">dry land</span> <span class=\"sp xft\"><span class=\"f\">sp=</span>subs</span></div><div class=\"occs\"><a href=\"https://shebanq.ancient-data.org/hebrew/text?book=Genesis&amp;chapter=1&amp;verse=9&amp;version=c&amp;mr=m&amp;qw=q&amp;tp=txt_p&amp;tr=hb&amp;wget=v&amp;qget=v&amp;nget=vt\" title=\"show this passage in SHEBANQ\" sec=\"Genesis 1:9\">Genesis 1:9</a> - <a href=\"https://shebanq.ancient-data.org/hebrew/text?book=Nehemia&amp;chapter=9&amp;verse=11&amp;version=c&amp;mr=m&amp;qw=q&amp;tp=txt_p&amp;tr=hb&amp;wget=v&amp;qget=v&amp;nget=vt\" title=\"show this passage in SHEBANQ\" sec=\"Nehemiah 9:11\">Nehemiah 9:11</a></div></div></div>"
      ],
      "text/plain": [
       "<IPython.core.display.HTML object>"
      ]
     },
     "metadata": {},
     "output_type": "display_data"
    },
    {
     "data": {
      "text/html": [
       "<p><b>result</b> <i>4</i></p>"
      ],
      "text/plain": [
       "<IPython.core.display.HTML object>"
      ]
     },
     "metadata": {},
     "output_type": "display_data"
    },
    {
     "data": {
      "text/html": [
       "<a target=\"_blank\" href=\"https://shebanq.ancient-data.org/hebrew/word?version=c&amp;id=1DCAn\" title=\"show this lexeme in SHEBANQ\">דֶּשֶׁא</a><div class=\"outeritem\"><div class=\"lextp  \" ><div class=\"h\">דֶּשֶׁא</div><div class=\"features\"> <span class=\"voc_lex\"><a target=\"_blank\" href=\"https://shebanq.ancient-data.org/hebrew/word?version=c&amp;id=1DCAn\" title=\"show this lexeme in SHEBANQ\">D.ECE></a></span> <span class=\"gloss\">young grass</span> <span class=\"sp xft\"><span class=\"f\">sp=</span>subs</span></div><div class=\"occs\"><a href=\"https://shebanq.ancient-data.org/hebrew/text?book=Genesis&amp;chapter=1&amp;verse=11&amp;version=c&amp;mr=m&amp;qw=q&amp;tp=txt_p&amp;tr=hb&amp;wget=v&amp;qget=v&amp;nget=vt\" title=\"show this passage in SHEBANQ\" sec=\"Genesis 1:11\">Genesis 1:11</a> - <a href=\"https://shebanq.ancient-data.org/hebrew/text?book=Proverbia&amp;chapter=27&amp;verse=25&amp;version=c&amp;mr=m&amp;qw=q&amp;tp=txt_p&amp;tr=hb&amp;wget=v&amp;qget=v&amp;nget=vt\" title=\"show this passage in SHEBANQ\" sec=\"Proverbs 27:25\">Proverbs 27:25</a></div></div></div>"
      ],
      "text/plain": [
       "<IPython.core.display.HTML object>"
      ]
     },
     "metadata": {},
     "output_type": "display_data"
    },
    {
     "data": {
      "text/html": [
       "<p><b>result</b> <i>5</i></p>"
      ],
      "text/plain": [
       "<IPython.core.display.HTML object>"
      ]
     },
     "metadata": {},
     "output_type": "display_data"
    },
    {
     "data": {
      "text/html": [
       "<a target=\"_blank\" href=\"https://shebanq.ancient-data.org/hebrew/word?version=c&amp;id=1CRYn\" title=\"show this lexeme in SHEBANQ\">שֶׁרֶץ</a><div class=\"outeritem\"><div class=\"lextp  \" ><div class=\"h\">שֶׁרֶץ</div><div class=\"features\"> <span class=\"voc_lex\"><a target=\"_blank\" href=\"https://shebanq.ancient-data.org/hebrew/word?version=c&amp;id=1CRYn\" title=\"show this lexeme in SHEBANQ\">CEREY</a></span> <span class=\"gloss\">swarming creatures</span> <span class=\"sp xft\"><span class=\"f\">sp=</span>subs</span></div><div class=\"occs\"><a href=\"https://shebanq.ancient-data.org/hebrew/text?book=Genesis&amp;chapter=1&amp;verse=20&amp;version=c&amp;mr=m&amp;qw=q&amp;tp=txt_p&amp;tr=hb&amp;wget=v&amp;qget=v&amp;nget=vt\" title=\"show this passage in SHEBANQ\" sec=\"Genesis 1:20\">Genesis 1:20</a> - <a href=\"https://shebanq.ancient-data.org/hebrew/text?book=Deuteronomium&amp;chapter=14&amp;verse=19&amp;version=c&amp;mr=m&amp;qw=q&amp;tp=txt_p&amp;tr=hb&amp;wget=v&amp;qget=v&amp;nget=vt\" title=\"show this passage in SHEBANQ\" sec=\"Deuteronomy 14:19\">Deuteronomy 14:19</a></div></div></div>"
      ],
      "text/plain": [
       "<IPython.core.display.HTML object>"
      ]
     },
     "metadata": {},
     "output_type": "display_data"
    }
   ],
   "source": [
    "A.show(results, condensed=False, start=1, end=5)"
   ]
  },
  {
   "cell_type": "markdown",
   "metadata": {},
   "source": [
    "## Custom sets\n",
    "\n",
    "Eventually you reach cases where search templates are just not up to it.\n",
    "\n",
    "Examples:\n",
    "\n",
    "* What if you want to restrict a search to sentences that do not contain infrequent words?\n",
    "* It is fairly tricky to look for gapped phrases. What if you look for complex patterns, but only in\n",
    "  gapped phrases?\n",
    "\n",
    "Before you dive head over heels into hand coding, here is an intermediate solution.\n",
    "You can create node sets by means of search, and then use those node sets in other search templates\n",
    "at the places where you have node types."
   ]
  },
  {
   "cell_type": "markdown",
   "metadata": {},
   "source": [
    "You can make custom sets with arbitrary nodes, not all of the same type.\n",
    "Let's collect all non-word, non-lex nodes that contain fairly frequent words only.\n",
    "We also collect a set of nodes that contain highly infrequent words.\n",
    "\n",
    "There is a feature for that, [rank_lex](https://etcbc.github.io/bhsa/features/hebrew/2017/rank_lex.html).\n",
    "Since we have not loaded it, we do so now."
   ]
  },
  {
   "cell_type": "code",
   "execution_count": 45,
   "metadata": {
    "ExecuteTime": {
     "end_time": "2018-05-24T08:05:53.690573Z",
     "start_time": "2018-05-24T08:05:53.592190Z"
    }
   },
   "outputs": [],
   "source": [
    "TF.load('rank_lex', add=True)"
   ]
  },
  {
   "cell_type": "markdown",
   "metadata": {},
   "source": [
    "We set a threshold `COMMON_RANK`, and pick all objects with only high ranking words, their ranks between 0 and `COMMON_RANK`.\n",
    "\n",
    "We set a threshold `RARE_RANK`, and pick all objects that contain at least one low ranking word, its rank higher than `RARE_RANK`."
   ]
  },
  {
   "cell_type": "code",
   "execution_count": 46,
   "metadata": {
    "ExecuteTime": {
     "end_time": "2018-05-24T08:06:08.187551Z",
     "start_time": "2018-05-24T08:06:00.209985Z"
    }
   },
   "outputs": [
    {
     "name": "stdout",
     "output_type": "stream",
     "text": [
      "669186 members in set frequent\n",
      "424804 members in set infrequent\n"
     ]
    }
   ],
   "source": [
    "COMMON_RANK = 100\n",
    "RARE_RANK = 500\n",
    "\n",
    "frequent = set()\n",
    "infrequent = set()\n",
    "\n",
    "for n in N():\n",
    "    nTp = F.otype.v(n)\n",
    "    if nTp == 'lex':\n",
    "       continue\n",
    "    if nTp == 'word':\n",
    "        ranks = [F.rank_lex.v(n)]\n",
    "    else:\n",
    "        ranks = [F.rank_lex.v(w) for w in L.d(n, otype='word')]\n",
    "    maxRank = max(ranks)\n",
    "    minRank = min(ranks)\n",
    "    if maxRank < COMMON_RANK:\n",
    "        frequent.add(n)\n",
    "    if maxRank > RARE_RANK:\n",
    "        infrequent.add(n)\n",
    "        \n",
    "print(f'{len(frequent):>6} members in set frequent')\n",
    "print(f'{len(infrequent):>6} members in set infrequent')"
   ]
  },
  {
   "cell_type": "markdown",
   "metadata": {},
   "source": [
    "Now we can do all kinds of searches within the domain of `frequent` and `infrequent` things.\n",
    "\n",
    "We give the names to all the sets and put them in a dictionary."
   ]
  },
  {
   "cell_type": "code",
   "execution_count": 47,
   "metadata": {
    "ExecuteTime": {
     "end_time": "2018-05-24T08:07:11.688552Z",
     "start_time": "2018-05-24T08:07:11.685127Z"
    }
   },
   "outputs": [],
   "source": [
    "customSets=dict(\n",
    "    frequent=frequent,\n",
    "    infrequent=infrequent,\n",
    ")"
   ]
  },
  {
   "cell_type": "markdown",
   "metadata": {},
   "source": [
    "Then we pass it to `A.search()` with a query to look for sentences with a rare word that have a clause with only frequent words:"
   ]
  },
  {
   "cell_type": "code",
   "execution_count": 48,
   "metadata": {},
   "outputs": [
    {
     "name": "stdout",
     "output_type": "stream",
     "text": [
      "  1.45s 4301 results\n"
     ]
    },
    {
     "data": {
      "text/html": [
       "<table>\n",
       "<tr class=\"tf\">\n",
       "  <th class=\"tf\">n</th><th class=\"tf\">p</th>\n",
       "  <th class=\"tf\">sentence</th><th>clause</th>\n",
       "</tr>\n",
       "\n",
       "<tr class=\"tf\"><td class=\"tf\">1</td><td class=\"tf\"> <a href=\"https://shebanq.ancient-data.org/hebrew/text?book=Genesis&amp;chapter=1&amp;verse=10&amp;version=c&amp;mr=m&amp;qw=q&amp;tp=txt_p&amp;tr=hb&amp;wget=v&amp;qget=v&amp;nget=vt\" title=\"show this passage in SHEBANQ\" sec=\"Genesis 1:10\">Genesis 1:10</a></td><td class=\"tf\"><a href=\"https://shebanq.ancient-data.org/hebrew/text?book=Genesis&amp;chapter=1&amp;verse=10&amp;version=c&amp;mr=m&amp;qw=q&amp;tp=txt_p&amp;tr=hb&amp;wget=v&amp;qget=v&amp;nget=vt\" title=\"Genesis 1:10\" sec=\"Genesis 1:10\"><span class=\"plain outer  rtl \"><span class=\"plain rtl  hlbx\" ><span class=\"plain rtl  \" ><span class=\"plain rtl  hlbx\" ><span class=\"plain rtl  \" ><span class=\"plain rtl  \" ><span class=\"plain rtl  \" ><span class=\"h\">וַ</span></span></span><span class=\"plain rtl  \" ><span class=\"plain rtl  \" ><span class=\"h\">יַּ֥רְא </span></span></span><span class=\"plain rtl  \" ><span class=\"plain rtl  \" ><span class=\"h\">אֱלֹהִ֖ים </span></span></span></span></span><span class=\"plain rtl  \" ><span class=\"plain rtl  \" ><span class=\"plain rtl  \" ><span class=\"h\">כִּי־</span></span></span><span class=\"plain rtl  \" ><span class=\"plain rtl  \" ><span class=\"h\">טֹֽוב׃ </span></span></span></span></span></span></span></a></td><td class=\"tf\"><span class=\"plain outer  rtl \"><span class=\"plain rtl  hlbx\" ><span class=\"plain rtl  \" ><span class=\"plain rtl  \" ><span class=\"plain rtl  \" ><span class=\"h\">וַ</span></span></span><span class=\"plain rtl  \" ><span class=\"plain rtl  \" ><span class=\"h\">יַּ֥רְא </span></span></span><span class=\"plain rtl  \" ><span class=\"plain rtl  \" ><span class=\"h\">אֱלֹהִ֖ים </span></span></span></span></span></span></td></tr>\n",
       "<tr class=\"tf\"><td class=\"tf\">2</td><td class=\"tf\"> <a href=\"https://shebanq.ancient-data.org/hebrew/text?book=Genesis&amp;chapter=1&amp;verse=12&amp;version=c&amp;mr=m&amp;qw=q&amp;tp=txt_p&amp;tr=hb&amp;wget=v&amp;qget=v&amp;nget=vt\" title=\"show this passage in SHEBANQ\" sec=\"Genesis 1:12\">Genesis 1:12</a></td><td class=\"tf\"><a href=\"https://shebanq.ancient-data.org/hebrew/text?book=Genesis&amp;chapter=1&amp;verse=12&amp;version=c&amp;mr=m&amp;qw=q&amp;tp=txt_p&amp;tr=hb&amp;wget=v&amp;qget=v&amp;nget=vt\" title=\"Genesis 1:12\" sec=\"Genesis 1:12\"><span class=\"plain outer  rtl \"><span class=\"plain rtl  hlbx\" ><span class=\"plain rtl  \" ><span class=\"plain rtl  hlbx\" ><span class=\"plain rtl  \" ><span class=\"plain rtl  \" ><span class=\"plain rtl  \" ><span class=\"h\">וַ</span></span></span><span class=\"plain rtl  \" ><span class=\"plain rtl  \" ><span class=\"h\">יַּ֥רְא </span></span></span><span class=\"plain rtl  \" ><span class=\"plain rtl  \" ><span class=\"h\">אֱלֹהִ֖ים </span></span></span></span></span><span class=\"plain rtl  \" ><span class=\"plain rtl  \" ><span class=\"plain rtl  \" ><span class=\"h\">כִּי־</span></span></span><span class=\"plain rtl  \" ><span class=\"plain rtl  \" ><span class=\"h\">טֹֽוב׃ </span></span></span></span></span></span></span></a></td><td class=\"tf\"><span class=\"plain outer  rtl \"><span class=\"plain rtl  hlbx\" ><span class=\"plain rtl  \" ><span class=\"plain rtl  \" ><span class=\"plain rtl  \" ><span class=\"h\">וַ</span></span></span><span class=\"plain rtl  \" ><span class=\"plain rtl  \" ><span class=\"h\">יַּ֥רְא </span></span></span><span class=\"plain rtl  \" ><span class=\"plain rtl  \" ><span class=\"h\">אֱלֹהִ֖ים </span></span></span></span></span></span></td></tr>\n",
       "<tr class=\"tf\"><td class=\"tf\">3</td><td class=\"tf\"> <a href=\"https://shebanq.ancient-data.org/hebrew/text?book=Genesis&amp;chapter=1&amp;verse=18&amp;version=c&amp;mr=m&amp;qw=q&amp;tp=txt_p&amp;tr=hb&amp;wget=v&amp;qget=v&amp;nget=vt\" title=\"show this passage in SHEBANQ\" sec=\"Genesis 1:18\">Genesis 1:18</a></td><td class=\"tf\"><a href=\"https://shebanq.ancient-data.org/hebrew/text?book=Genesis&amp;chapter=1&amp;verse=18&amp;version=c&amp;mr=m&amp;qw=q&amp;tp=txt_p&amp;tr=hb&amp;wget=v&amp;qget=v&amp;nget=vt\" title=\"Genesis 1:18\" sec=\"Genesis 1:18\"><span class=\"plain outer  rtl \"><span class=\"plain rtl  hlbx\" ><span class=\"plain rtl  \" ><span class=\"plain rtl  hlbx\" ><span class=\"plain rtl  \" ><span class=\"plain rtl  \" ><span class=\"plain rtl  \" ><span class=\"h\">וַ</span></span></span><span class=\"plain rtl  \" ><span class=\"plain rtl  \" ><span class=\"h\">יַּ֥רְא </span></span></span><span class=\"plain rtl  \" ><span class=\"plain rtl  \" ><span class=\"h\">אֱלֹהִ֖ים </span></span></span></span></span><span class=\"plain rtl  \" ><span class=\"plain rtl  \" ><span class=\"plain rtl  \" ><span class=\"h\">כִּי־</span></span></span><span class=\"plain rtl  \" ><span class=\"plain rtl  \" ><span class=\"h\">טֹֽוב׃ </span></span></span></span></span></span></span></a></td><td class=\"tf\"><span class=\"plain outer  rtl \"><span class=\"plain rtl  hlbx\" ><span class=\"plain rtl  \" ><span class=\"plain rtl  \" ><span class=\"plain rtl  \" ><span class=\"h\">וַ</span></span></span><span class=\"plain rtl  \" ><span class=\"plain rtl  \" ><span class=\"h\">יַּ֥רְא </span></span></span><span class=\"plain rtl  \" ><span class=\"plain rtl  \" ><span class=\"h\">אֱלֹהִ֖ים </span></span></span></span></span></span></td></tr>\n",
       "<tr class=\"tf\"><td class=\"tf\">4</td><td class=\"tf\"> <a href=\"https://shebanq.ancient-data.org/hebrew/text?book=Genesis&amp;chapter=1&amp;verse=21&amp;version=c&amp;mr=m&amp;qw=q&amp;tp=txt_p&amp;tr=hb&amp;wget=v&amp;qget=v&amp;nget=vt\" title=\"show this passage in SHEBANQ\" sec=\"Genesis 1:21\">Genesis 1:21</a></td><td class=\"tf\"><a href=\"https://shebanq.ancient-data.org/hebrew/text?book=Genesis&amp;chapter=1&amp;verse=21&amp;version=c&amp;mr=m&amp;qw=q&amp;tp=txt_p&amp;tr=hb&amp;wget=v&amp;qget=v&amp;nget=vt\" title=\"Genesis 1:21\" sec=\"Genesis 1:21\"><span class=\"plain outer  rtl \"><span class=\"plain rtl  hlbx\" ><span class=\"plain rtl  \" ><span class=\"plain rtl  hlbx\" ><span class=\"plain rtl  \" ><span class=\"plain rtl  \" ><span class=\"plain rtl  \" ><span class=\"h\">וַ</span></span></span><span class=\"plain rtl  \" ><span class=\"plain rtl  \" ><span class=\"h\">יַּ֥רְא </span></span></span><span class=\"plain rtl  \" ><span class=\"plain rtl  \" ><span class=\"h\">אֱלֹהִ֖ים </span></span></span></span></span><span class=\"plain rtl  \" ><span class=\"plain rtl  \" ><span class=\"plain rtl  \" ><span class=\"h\">כִּי־</span></span></span><span class=\"plain rtl  \" ><span class=\"plain rtl  \" ><span class=\"h\">טֹֽוב׃ </span></span></span></span></span></span></span></a></td><td class=\"tf\"><span class=\"plain outer  rtl \"><span class=\"plain rtl  hlbx\" ><span class=\"plain rtl  \" ><span class=\"plain rtl  \" ><span class=\"plain rtl  \" ><span class=\"h\">וַ</span></span></span><span class=\"plain rtl  \" ><span class=\"plain rtl  \" ><span class=\"h\">יַּ֥רְא </span></span></span><span class=\"plain rtl  \" ><span class=\"plain rtl  \" ><span class=\"h\">אֱלֹהִ֖ים </span></span></span></span></span></span></td></tr>\n",
       "<tr class=\"tf\"><td class=\"tf\">5</td><td class=\"tf\"> <a href=\"https://shebanq.ancient-data.org/hebrew/text?book=Genesis&amp;chapter=1&amp;verse=25&amp;version=c&amp;mr=m&amp;qw=q&amp;tp=txt_p&amp;tr=hb&amp;wget=v&amp;qget=v&amp;nget=vt\" title=\"show this passage in SHEBANQ\" sec=\"Genesis 1:25\">Genesis 1:25</a></td><td class=\"tf\"><a href=\"https://shebanq.ancient-data.org/hebrew/text?book=Genesis&amp;chapter=1&amp;verse=25&amp;version=c&amp;mr=m&amp;qw=q&amp;tp=txt_p&amp;tr=hb&amp;wget=v&amp;qget=v&amp;nget=vt\" title=\"Genesis 1:25\" sec=\"Genesis 1:25\"><span class=\"plain outer  rtl \"><span class=\"plain rtl  hlbx\" ><span class=\"plain rtl  \" ><span class=\"plain rtl  hlbx\" ><span class=\"plain rtl  \" ><span class=\"plain rtl  \" ><span class=\"plain rtl  \" ><span class=\"h\">וַ</span></span></span><span class=\"plain rtl  \" ><span class=\"plain rtl  \" ><span class=\"h\">יַּ֥רְא </span></span></span><span class=\"plain rtl  \" ><span class=\"plain rtl  \" ><span class=\"h\">אֱלֹהִ֖ים </span></span></span></span></span><span class=\"plain rtl  \" ><span class=\"plain rtl  \" ><span class=\"plain rtl  \" ><span class=\"h\">כִּי־</span></span></span><span class=\"plain rtl  \" ><span class=\"plain rtl  \" ><span class=\"h\">טֹֽוב׃ </span></span></span></span></span></span></span></a></td><td class=\"tf\"><span class=\"plain outer  rtl \"><span class=\"plain rtl  hlbx\" ><span class=\"plain rtl  \" ><span class=\"plain rtl  \" ><span class=\"plain rtl  \" ><span class=\"h\">וַ</span></span></span><span class=\"plain rtl  \" ><span class=\"plain rtl  \" ><span class=\"h\">יַּ֥רְא </span></span></span><span class=\"plain rtl  \" ><span class=\"plain rtl  \" ><span class=\"h\">אֱלֹהִ֖ים </span></span></span></span></span></span></td></tr>\n",
       "<tr class=\"tf\"><td class=\"tf\">6</td><td class=\"tf\"> <a href=\"https://shebanq.ancient-data.org/hebrew/text?book=Genesis&amp;chapter=1&amp;verse=29&amp;version=c&amp;mr=m&amp;qw=q&amp;tp=txt_p&amp;tr=hb&amp;wget=v&amp;qget=v&amp;nget=vt\" title=\"show this passage in SHEBANQ\" sec=\"Genesis 1:29\">Genesis 1:29</a></td><td class=\"tf\"><a href=\"https://shebanq.ancient-data.org/hebrew/text?book=Genesis&amp;chapter=1&amp;verse=29&amp;version=c&amp;mr=m&amp;qw=q&amp;tp=txt_p&amp;tr=hb&amp;wget=v&amp;qget=v&amp;nget=vt\" title=\"Genesis 1:29\" sec=\"Genesis 1:29\"><span class=\"plain outer  rtl \"><span class=\"plain rtl  l hlbx\" ><span class=\"plain rtl  \" ><span class=\"plain rtl  \" ><span class=\"plain rtl  \" ><span class=\"plain rtl  \" ><span class=\"h\">הִנֵּה֩ </span></span></span><span class=\"plain rtl  \" ><span class=\"plain rtl  \" ><span class=\"h\">נָתַ֨תִּי </span></span></span><span class=\"plain rtl  \" ><span class=\"plain rtl  \" ><span class=\"h\">לָכֶ֜ם </span></span></span><span class=\"plain rtl  \" ><span class=\"plain rtl  \" ><span class=\"h\">אֶת־</span></span><span class=\"plain rtl  \" ><span class=\"h\">כָּל־</span></span><span class=\"plain rtl  \" ><span class=\"h\">עֵ֣שֶׂב׀ </span></span></span></span><span class=\"plain rtl  \" ><span class=\"plain rtl  \" ><span class=\"plain rtl  \" ><span class=\"h\">זֹרֵ֣עַ </span></span></span><span class=\"plain rtl  \" ><span class=\"plain rtl  \" ><span class=\"h\">זֶ֗רַע </span></span></span></span><span class=\"plain rtl  hlbx\" ><span class=\"plain rtl  \" ><span class=\"plain rtl  \" ><span class=\"plain rtl  \" ><span class=\"h\">אֲשֶׁר֙ </span></span></span><span class=\"plain rtl  \" ><span class=\"plain rtl  \" ><span class=\"h\">עַל־</span></span><span class=\"plain rtl  \" ><span class=\"h\">פְּנֵ֣י </span></span><span class=\"plain rtl  \" ><span class=\"h\">כָל־</span></span><span class=\"plain rtl  \" ><span class=\"h\">הָ</span></span><span class=\"plain rtl  \" ><span class=\"h\">אָ֔רֶץ </span></span></span></span></span><span class=\"plain rtl  \" ><span class=\"plain rtl  \" ><span class=\"plain rtl  \" ><span class=\"h\">וְ</span></span></span><span class=\"plain rtl  \" ><span class=\"plain rtl  \" ><span class=\"h\">אֶת־</span></span><span class=\"plain rtl  \" ><span class=\"h\">כָּל־</span></span><span class=\"plain rtl  \" ><span class=\"h\">הָ</span></span><span class=\"plain rtl  \" ><span class=\"h\">עֵ֛ץ </span></span></span></span><span class=\"plain rtl  \" ><span class=\"plain rtl  \" ><span class=\"plain rtl  \" ><span class=\"h\">אֲשֶׁר־</span></span></span><span class=\"plain rtl  \" ><span class=\"plain rtl  \" ><span class=\"h\">בֹּ֥ו </span></span></span><span class=\"plain rtl  \" ><span class=\"plain rtl  \" ><span class=\"h\">פְרִי־</span></span><span class=\"plain rtl  \" ><span class=\"h\">עֵ֖ץ </span></span></span></span><span class=\"plain rtl  \" ><span class=\"plain rtl  \" ><span class=\"plain rtl  \" ><span class=\"h\">זֹרֵ֣עַ </span></span></span><span class=\"plain rtl  \" ><span class=\"plain rtl  \" ><span class=\"h\">זָ֑רַע </span></span></span></span></span></span><span class=\"plain rtl  r hlbx\" ><span class=\"plain rtl  \" ><span class=\"plain rtl  \" ><span class=\"plain rtl  \" ><span class=\"plain rtl  \" ><span class=\"h\">וּֽ</span></span></span><span class=\"plain rtl  \" ><span class=\"plain rtl  \" ><span class=\"h\">לְ</span></span><span class=\"plain rtl  \" ><span class=\"h\">כָל־</span></span><span class=\"plain rtl  \" ><span class=\"h\">חַיַּ֣ת </span></span><span class=\"plain rtl  \" ><span class=\"h\">הָ֠</span></span><span class=\"plain rtl  \" ><span class=\"h\">אָרֶץ </span></span><span class=\"plain rtl  \" ><span class=\"h\">וּ</span></span><span class=\"plain rtl  \" ><span class=\"h\">לְ</span></span><span class=\"plain rtl  \" ><span class=\"h\">כָל־</span></span><span class=\"plain rtl  \" ><span class=\"h\">עֹ֨וף </span></span><span class=\"plain rtl  \" ><span class=\"h\">הַ</span></span><span class=\"plain rtl  \" ><span class=\"h\">שָּׁמַ֜יִם </span></span><span class=\"plain rtl  \" ><span class=\"h\">וּ</span></span><span class=\"plain rtl  \" ><span class=\"h\">לְ</span></span><span class=\"plain rtl  \" ><span class=\"h\">כֹ֣ל׀ </span></span><span class=\"plain rtl  \" ><span class=\"h\">רֹומֵ֣שׂ </span></span></span><span class=\"plain rtl  \" ><span class=\"plain rtl  \" ><span class=\"h\">עַל־</span></span><span class=\"plain rtl  \" ><span class=\"h\">הָ</span></span><span class=\"plain rtl  \" ><span class=\"h\">אָ֗רֶץ </span></span></span></span><span class=\"plain rtl  \" ><span class=\"plain rtl  \" ><span class=\"plain rtl  \" ><span class=\"h\">אֲשֶׁר־</span></span></span><span class=\"plain rtl  \" ><span class=\"plain rtl  \" ><span class=\"h\">בֹּו֙ </span></span></span><span class=\"plain rtl  \" ><span class=\"plain rtl  \" ><span class=\"h\">נֶ֣פֶשׁ </span></span><span class=\"plain rtl  \" ><span class=\"h\">חַיָּ֔ה </span></span></span></span><span class=\"plain rtl  \" ><span class=\"plain rtl  \" ><span class=\"plain rtl  \" ><span class=\"h\">אֶת־</span></span><span class=\"plain rtl  \" ><span class=\"h\">כָּל־</span></span><span class=\"plain rtl  \" ><span class=\"h\">יֶ֥רֶק </span></span><span class=\"plain rtl  \" ><span class=\"h\">עֵ֖שֶׂב </span></span></span><span class=\"plain rtl  \" ><span class=\"plain rtl  \" ><span class=\"h\">לְ</span></span><span class=\"plain rtl  \" ><span class=\"h\">אָכְלָ֑ה </span></span></span></span></span></span></span></a></td><td class=\"tf\"><span class=\"plain outer  rtl \"><span class=\"plain rtl  hlbx\" ><span class=\"plain rtl  \" ><span class=\"plain rtl  \" ><span class=\"plain rtl  \" ><span class=\"h\">אֲשֶׁר֙ </span></span></span><span class=\"plain rtl  \" ><span class=\"plain rtl  \" ><span class=\"h\">עַל־</span></span><span class=\"plain rtl  \" ><span class=\"h\">פְּנֵ֣י </span></span><span class=\"plain rtl  \" ><span class=\"h\">כָל־</span></span><span class=\"plain rtl  \" ><span class=\"h\">הָ</span></span><span class=\"plain rtl  \" ><span class=\"h\">אָ֔רֶץ </span></span></span></span></span></span></td></tr>\n",
       "<tr class=\"tf\"><td class=\"tf\">7</td><td class=\"tf\"> <a href=\"https://shebanq.ancient-data.org/hebrew/text?book=Genesis&amp;chapter=2&amp;verse=2&amp;version=c&amp;mr=m&amp;qw=q&amp;tp=txt_p&amp;tr=hb&amp;wget=v&amp;qget=v&amp;nget=vt\" title=\"show this passage in SHEBANQ\" sec=\"Genesis 2:2\">Genesis 2:2</a></td><td class=\"tf\"><a href=\"https://shebanq.ancient-data.org/hebrew/text?book=Genesis&amp;chapter=2&amp;verse=2&amp;version=c&amp;mr=m&amp;qw=q&amp;tp=txt_p&amp;tr=hb&amp;wget=v&amp;qget=v&amp;nget=vt\" title=\"Genesis 2:2\" sec=\"Genesis 2:2\"><span class=\"plain outer  rtl \"><span class=\"plain rtl  hlbx\" ><span class=\"plain rtl  \" ><span class=\"plain rtl  \" ><span class=\"plain rtl  \" ><span class=\"plain rtl  \" ><span class=\"h\">וַ</span></span></span><span class=\"plain rtl  \" ><span class=\"plain rtl  \" ><span class=\"h\">יְכַ֤ל </span></span></span><span class=\"plain rtl  \" ><span class=\"plain rtl  \" ><span class=\"h\">אֱלֹהִים֙ </span></span></span><span class=\"plain rtl  \" ><span class=\"plain rtl  \" ><span class=\"h\">בַּ</span></span><span class=\"plain rtl  \" ><span class=\"h\"></span></span><span class=\"plain rtl  \" ><span class=\"h\">יֹּ֣ום </span></span><span class=\"plain rtl  \" ><span class=\"h\">הַ</span></span><span class=\"plain rtl  \" ><span class=\"h\">שְּׁבִיעִ֔י </span></span></span><span class=\"plain rtl  \" ><span class=\"plain rtl  \" ><span class=\"h\">מְלַאכְתֹּ֖ו </span></span></span></span><span class=\"plain rtl  hlbx\" ><span class=\"plain rtl  \" ><span class=\"plain rtl  \" ><span class=\"plain rtl  \" ><span class=\"h\">אֲשֶׁ֣ר </span></span></span><span class=\"plain rtl  \" ><span class=\"plain rtl  \" ><span class=\"h\">עָשָׂ֑ה </span></span></span></span></span></span></span></span></a></td><td class=\"tf\"><span class=\"plain outer  rtl \"><span class=\"plain rtl  hlbx\" ><span class=\"plain rtl  \" ><span class=\"plain rtl  \" ><span class=\"plain rtl  \" ><span class=\"h\">אֲשֶׁ֣ר </span></span></span><span class=\"plain rtl  \" ><span class=\"plain rtl  \" ><span class=\"h\">עָשָׂ֑ה </span></span></span></span></span></span></td></tr>\n",
       "<tr class=\"tf\"><td class=\"tf\">8</td><td class=\"tf\"> <a href=\"https://shebanq.ancient-data.org/hebrew/text?book=Genesis&amp;chapter=2&amp;verse=2&amp;version=c&amp;mr=m&amp;qw=q&amp;tp=txt_p&amp;tr=hb&amp;wget=v&amp;qget=v&amp;nget=vt\" title=\"show this passage in SHEBANQ\" sec=\"Genesis 2:2\">Genesis 2:2</a></td><td class=\"tf\"><a href=\"https://shebanq.ancient-data.org/hebrew/text?book=Genesis&amp;chapter=2&amp;verse=2&amp;version=c&amp;mr=m&amp;qw=q&amp;tp=txt_p&amp;tr=hb&amp;wget=v&amp;qget=v&amp;nget=vt\" title=\"Genesis 2:2\" sec=\"Genesis 2:2\"><span class=\"plain outer  rtl \"><span class=\"plain rtl  hlbx\" ><span class=\"plain rtl  \" ><span class=\"plain rtl  \" ><span class=\"plain rtl  \" ><span class=\"plain rtl  \" ><span class=\"h\">וַ</span></span></span><span class=\"plain rtl  \" ><span class=\"plain rtl  \" ><span class=\"h\">יִּשְׁבֹּת֙ </span></span></span><span class=\"plain rtl  \" ><span class=\"plain rtl  \" ><span class=\"h\">בַּ</span></span><span class=\"plain rtl  \" ><span class=\"h\"></span></span><span class=\"plain rtl  \" ><span class=\"h\">יֹּ֣ום </span></span><span class=\"plain rtl  \" ><span class=\"h\">הַ</span></span><span class=\"plain rtl  \" ><span class=\"h\">שְּׁבִיעִ֔י </span></span></span><span class=\"plain rtl  \" ><span class=\"plain rtl  \" ><span class=\"h\">מִ</span></span><span class=\"plain rtl  \" ><span class=\"h\">כָּל־</span></span><span class=\"plain rtl  \" ><span class=\"h\">מְלַאכְתֹּ֖ו </span></span></span></span><span class=\"plain rtl  hlbx\" ><span class=\"plain rtl  \" ><span class=\"plain rtl  \" ><span class=\"plain rtl  \" ><span class=\"h\">אֲשֶׁ֥ר </span></span></span><span class=\"plain rtl  \" ><span class=\"plain rtl  \" ><span class=\"h\">עָשָֽׂה׃ </span></span></span></span></span></span></span></span></a></td><td class=\"tf\"><span class=\"plain outer  rtl \"><span class=\"plain rtl  hlbx\" ><span class=\"plain rtl  \" ><span class=\"plain rtl  \" ><span class=\"plain rtl  \" ><span class=\"h\">אֲשֶׁ֥ר </span></span></span><span class=\"plain rtl  \" ><span class=\"plain rtl  \" ><span class=\"h\">עָשָֽׂה׃ </span></span></span></span></span></span></td></tr>\n",
       "<tr class=\"tf\"><td class=\"tf\">9</td><td class=\"tf\"> <a href=\"https://shebanq.ancient-data.org/hebrew/text?book=Genesis&amp;chapter=2&amp;verse=3&amp;version=c&amp;mr=m&amp;qw=q&amp;tp=txt_p&amp;tr=hb&amp;wget=v&amp;qget=v&amp;nget=vt\" title=\"show this passage in SHEBANQ\" sec=\"Genesis 2:3\">Genesis 2:3</a></td><td class=\"tf\"><a href=\"https://shebanq.ancient-data.org/hebrew/text?book=Genesis&amp;chapter=2&amp;verse=3&amp;version=c&amp;mr=m&amp;qw=q&amp;tp=txt_p&amp;tr=hb&amp;wget=v&amp;qget=v&amp;nget=vt\" title=\"Genesis 2:3\" sec=\"Genesis 2:3\"><span class=\"plain outer  rtl \"><span class=\"plain rtl  hlbx\" ><span class=\"plain rtl  \" ><span class=\"plain rtl  \" ><span class=\"plain rtl  \" ><span class=\"plain rtl  \" ><span class=\"h\">כִּ֣י </span></span></span><span class=\"plain rtl  \" ><span class=\"plain rtl  \" ><span class=\"h\">בֹ֤ו </span></span></span><span class=\"plain rtl  \" ><span class=\"plain rtl  \" ><span class=\"h\">שָׁבַת֙ </span></span></span><span class=\"plain rtl  \" ><span class=\"plain rtl  \" ><span class=\"h\">מִ</span></span><span class=\"plain rtl  \" ><span class=\"h\">כָּל־</span></span><span class=\"plain rtl  \" ><span class=\"h\">מְלַאכְתֹּ֔ו </span></span></span></span><span class=\"plain rtl  \" ><span class=\"plain rtl  \" ><span class=\"plain rtl  \" ><span class=\"h\">אֲשֶׁר־</span></span></span><span class=\"plain rtl  \" ><span class=\"plain rtl  \" ><span class=\"h\">בָּרָ֥א </span></span></span><span class=\"plain rtl  \" ><span class=\"plain rtl  \" ><span class=\"h\">אֱלֹהִ֖ים </span></span></span></span><span class=\"plain rtl  hlbx\" ><span class=\"plain rtl  \" ><span class=\"plain rtl  \" ><span class=\"plain rtl  \" ><span class=\"h\">לַ</span></span><span class=\"plain rtl  \" ><span class=\"h\">עֲשֹֽׂות׃ פ </span></span></span></span></span></span></span></span></a></td><td class=\"tf\"><span class=\"plain outer  rtl \"><span class=\"plain rtl  hlbx\" ><span class=\"plain rtl  \" ><span class=\"plain rtl  \" ><span class=\"plain rtl  \" ><span class=\"h\">לַ</span></span><span class=\"plain rtl  \" ><span class=\"h\">עֲשֹֽׂות׃ פ </span></span></span></span></span></span></td></tr>\n",
       "<tr class=\"tf\"><td class=\"tf\">10</td><td class=\"tf\"> <a href=\"https://shebanq.ancient-data.org/hebrew/text?book=Genesis&amp;chapter=2&amp;verse=4&amp;version=c&amp;mr=m&amp;qw=q&amp;tp=txt_p&amp;tr=hb&amp;wget=v&amp;qget=v&amp;nget=vt\" title=\"show this passage in SHEBANQ\" sec=\"Genesis 2:4\">Genesis 2:4</a></td><td class=\"tf\"><a href=\"https://shebanq.ancient-data.org/hebrew/text?book=Genesis&amp;chapter=2&amp;verse=4&amp;version=c&amp;mr=m&amp;qw=q&amp;tp=txt_p&amp;tr=hb&amp;wget=v&amp;qget=v&amp;nget=vt\" title=\"Genesis 2:4\" sec=\"Genesis 2:4\"><span class=\"plain outer  rtl \"><span class=\"plain rtl  l hlbx\" ><span class=\"plain rtl  \" ><span class=\"plain rtl  hlbx\" ><span class=\"plain rtl  \" ><span class=\"plain rtl  \" ><span class=\"plain rtl  \" ><span class=\"h\">בְּ</span></span><span class=\"plain rtl  \" ><span class=\"h\">יֹ֗ום </span></span></span></span></span><span class=\"plain rtl  \" ><span class=\"plain rtl  \" ><span class=\"plain rtl  \" ><span class=\"h\">עֲשֹׂ֛ות </span></span></span><span class=\"plain rtl  \" ><span class=\"plain rtl  \" ><span class=\"h\">יְהוָ֥ה </span></span><span class=\"plain rtl  \" ><span class=\"h\">אֱלֹהִ֖ים </span></span></span><span class=\"plain rtl  \" ><span class=\"plain rtl  \" ><span class=\"h\">אֶ֥רֶץ </span></span><span class=\"plain rtl  \" ><span class=\"h\">וְ</span></span><span class=\"plain rtl  \" ><span class=\"h\">שָׁמָֽיִם׃ </span></span></span></span></span></span><span class=\"plain rtl  r hlbx\" ><span class=\"plain rtl  \" ><span class=\"plain rtl  \" ><span class=\"plain rtl  \" ><span class=\"plain rtl  \" ><span class=\"h\">וַ</span></span></span><span class=\"plain rtl  \" ><span class=\"plain rtl  \" ><span class=\"h\">יִּיצֶר֩ </span></span></span><span class=\"plain rtl  \" ><span class=\"plain rtl  \" ><span class=\"h\">יְהוָ֨ה </span></span><span class=\"plain rtl  \" ><span class=\"h\">אֱלֹהִ֜ים </span></span></span><span class=\"plain rtl  \" ><span class=\"plain rtl  \" ><span class=\"h\">אֶת־</span></span><span class=\"plain rtl  \" ><span class=\"h\">הָֽ</span></span><span class=\"plain rtl  \" ><span class=\"h\">אָדָ֗ם </span></span></span><span class=\"plain rtl  \" ><span class=\"plain rtl  \" ><span class=\"h\">עָפָר֙ </span></span></span><span class=\"plain rtl  \" ><span class=\"plain rtl  \" ><span class=\"h\">מִן־</span></span><span class=\"plain rtl  \" ><span class=\"h\">הָ֣</span></span><span class=\"plain rtl  \" ><span class=\"h\">אֲדָמָ֔ה </span></span></span></span></span></span></span></a></td><td class=\"tf\"><span class=\"plain outer  rtl \"><span class=\"plain rtl  hlbx\" ><span class=\"plain rtl  \" ><span class=\"plain rtl  \" ><span class=\"plain rtl  \" ><span class=\"h\">בְּ</span></span><span class=\"plain rtl  \" ><span class=\"h\">יֹ֗ום </span></span></span></span></span></span></td></tr></table>"
      ],
      "text/plain": [
       "<IPython.core.display.HTML object>"
      ]
     },
     "metadata": {},
     "output_type": "display_data"
    }
   ],
   "source": [
    "query = '''\n",
    "infrequent otype=sentence\n",
    "  frequent otype=clause\n",
    "'''\n",
    "results = A.search(query, sets=customSets)\n",
    "A.table(results, start=1, end=10)"
   ]
  },
  {
   "cell_type": "markdown",
   "metadata": {},
   "source": [
    "We are going to show this really nice:\n",
    "\n",
    "* we add the feature `rank_lex` to the display\n",
    "* we suppress the other features\n",
    "* we color the rare words and the common words differently"
   ]
  },
  {
   "cell_type": "code",
   "execution_count": 49,
   "metadata": {
    "ExecuteTime": {
     "end_time": "2018-05-24T08:07:22.498973Z",
     "start_time": "2018-05-24T08:07:22.065761Z"
    }
   },
   "outputs": [
    {
     "data": {
      "text/html": [
       "<p><b>result</b> <i>6</i></p>"
      ],
      "text/plain": [
       "<IPython.core.display.HTML object>"
      ]
     },
     "metadata": {},
     "output_type": "display_data"
    },
    {
     "data": {
      "text/html": [
       "<div class=\"outeritem\"><div class=\"verse  \" >\n",
       "    <div class=\"vl\">\n",
       "        <div class=\"vrs\"><a href=\"https://shebanq.ancient-data.org/hebrew/text?book=Genesis&amp;chapter=1&amp;verse=29&amp;version=c&amp;mr=m&amp;qw=q&amp;tp=txt_p&amp;tr=hb&amp;wget=v&amp;qget=v&amp;nget=vt\" title=\"show this passage in SHEBANQ\" sec=\"Genesis 1:29\">Genesis 1:29</a></div>\n",
       "        <span class=\"nd\">1414382</span>\n",
       "    </div>\n",
       "<div class=\"satom  \" >\n",
       "        <div class=\"sentence \" >\n",
       "            <a href=\"https://shebanq.ancient-data.org/hebrew/text?book=Genesis&amp;chapter=1&amp;verse=29&amp;version=c&amp;mr=m&amp;qw=q&amp;tp=txt_p&amp;tr=hb&amp;wget=v&amp;qget=v&amp;nget=vt\" title=\"Genesis 1:29\" sec=\"Genesis 1:29\">sentence</a> <span class=\"nd\">1172371</span>  <span class=\"number\">82</span><div class=\"features\"> <span class=\"otype xft\"><span class=\"f\">otype=</span>sentence|sentence_atom</span></div>\n",
       "        </div>\n",
       "        <div class=\"atoms\">\n",
       "                    <div class=\"catom  \" >\n",
       "        <div class=\"clause \" >\n",
       "            <a href=\"https://shebanq.ancient-data.org/hebrew/text?book=Genesis&amp;chapter=1&amp;verse=29&amp;version=c&amp;mr=m&amp;qw=q&amp;tp=txt_p&amp;tr=hb&amp;wget=v&amp;qget=v&amp;nget=vt\" title=\"Genesis 1:29\" sec=\"Genesis 1:29\">clause</a> <span class=\"nd\">427663</span> <div class=\"features\"> <span class=\"otype xft\"><span class=\"f\">otype=</span>clause|clause_atom</span></div>\n",
       "        </div>\n",
       "        <div class=\"atoms\">\n",
       "                    <div class=\"patom  \" >\n",
       "        <div class=\"phrase \" >\n",
       "            <a href=\"https://shebanq.ancient-data.org/hebrew/text?book=Genesis&amp;chapter=1&amp;verse=29&amp;version=c&amp;mr=m&amp;qw=q&amp;tp=txt_p&amp;tr=hb&amp;wget=v&amp;qget=v&amp;nget=vt\" title=\"Genesis 1:29\" sec=\"Genesis 1:29\">phrase</a> <span class=\"nd\">651871</span> <div class=\"features\"> <span class=\"otype xft\"><span class=\"f\">otype=</span>phrase|phrase_atom</span></div>\n",
       "        </div>\n",
       "        <div class=\"atoms\">\n",
       "                    <div class=\"word  \" ><span class=\"nd\">590</span><div class=\"h\"><a target=\"_blank\" href=\"https://shebanq.ancient-data.org/hebrew/word?version=c&amp;id=1W\" title=\"show this lexeme in SHEBANQ\">וַ</a></div><div class=\"features\"> <span class=\"pdp\"><a href=\"https://shebanq.ancient-data.org/hebrew/text?book=Genesis&amp;chapter=1&amp;verse=29&amp;version=c&amp;mr=m&amp;qw=q&amp;tp=txt_p&amp;tr=hb&amp;wget=v&amp;qget=v&amp;nget=vt\" title=\"Genesis 1:29\" sec=\"Genesis 1:29\">conj</a></span> <span class=\"gloss\">and</span> <span class=\"otype xft\"><span class=\"f\">otype=</span>word</span> <span class=\"rank_lex xft\"><span class=\"f\">rank_lex=</span>0</span></div></div></div></div><div class=\"patom  \" >\n",
       "        <div class=\"phrase \" >\n",
       "            <a href=\"https://shebanq.ancient-data.org/hebrew/text?book=Genesis&amp;chapter=1&amp;verse=29&amp;version=c&amp;mr=m&amp;qw=q&amp;tp=txt_p&amp;tr=hb&amp;wget=v&amp;qget=v&amp;nget=vt\" title=\"Genesis 1:29\" sec=\"Genesis 1:29\">phrase</a> <span class=\"nd\">651872</span> <div class=\"features\"> <span class=\"otype xft\"><span class=\"f\">otype=</span>phrase|phrase_atom</span></div>\n",
       "        </div>\n",
       "        <div class=\"atoms\">\n",
       "                    <div class=\"word  \" ><span class=\"nd\">591</span><div class=\"h\"><a target=\"_blank\" href=\"https://shebanq.ancient-data.org/hebrew/word?version=c&amp;id=1AMRv\" title=\"show this lexeme in SHEBANQ\">יֹּ֣אמֶר </a></div><div class=\"features\"> <span class=\"pdp\"><a href=\"https://shebanq.ancient-data.org/hebrew/text?book=Genesis&amp;chapter=1&amp;verse=29&amp;version=c&amp;mr=m&amp;qw=q&amp;tp=txt_p&amp;tr=hb&amp;wget=v&amp;qget=v&amp;nget=vt\" title=\"Genesis 1:29\" sec=\"Genesis 1:29\">verb</a></span> <span class=\"gloss\">say</span> <span class=\"otype xft\"><span class=\"f\">otype=</span>word</span> <span class=\"rank_lex xft\"><span class=\"f\">rank_lex=</span>11</span></div></div></div></div><div class=\"patom  \" >\n",
       "        <div class=\"phrase \" >\n",
       "            <a href=\"https://shebanq.ancient-data.org/hebrew/text?book=Genesis&amp;chapter=1&amp;verse=29&amp;version=c&amp;mr=m&amp;qw=q&amp;tp=txt_p&amp;tr=hb&amp;wget=v&amp;qget=v&amp;nget=vt\" title=\"Genesis 1:29\" sec=\"Genesis 1:29\">phrase</a> <span class=\"nd\">651873</span> <div class=\"features\"> <span class=\"otype xft\"><span class=\"f\">otype=</span>phrase|phrase_atom</span></div>\n",
       "        </div>\n",
       "        <div class=\"atoms\">\n",
       "                    <div class=\"word  \" ><span class=\"nd\">592</span><div class=\"h\"><a target=\"_blank\" href=\"https://shebanq.ancient-data.org/hebrew/word?version=c&amp;id=1ALHJMn\" title=\"show this lexeme in SHEBANQ\">אֱלֹהִ֗ים </a></div><div class=\"features\"> <span class=\"pdp\"><a href=\"https://shebanq.ancient-data.org/hebrew/text?book=Genesis&amp;chapter=1&amp;verse=29&amp;version=c&amp;mr=m&amp;qw=q&amp;tp=txt_p&amp;tr=hb&amp;wget=v&amp;qget=v&amp;nget=vt\" title=\"Genesis 1:29\" sec=\"Genesis 1:29\">subs</a></span> <span class=\"gloss\">god(s)</span> <span class=\"otype xft\"><span class=\"f\">otype=</span>word</span> <span class=\"rank_lex xft\"><span class=\"f\">rank_lex=</span>18</span></div></div></div></div></div></div></div></div><div class=\"satom  l hl\"  style=\"background-color: magenta;\" >\n",
       "        <div class=\"sentence hl\"  style=\"background-color: magenta;\" >\n",
       "            <a href=\"https://shebanq.ancient-data.org/hebrew/text?book=Genesis&amp;chapter=1&amp;verse=29&amp;version=c&amp;mr=m&amp;qw=q&amp;tp=txt_p&amp;tr=hb&amp;wget=v&amp;qget=v&amp;nget=vt\" title=\"Genesis 1:29\" sec=\"Genesis 1:29\">sentence</a> <span class=\"nd\">1172372</span>  <span class=\"number\">83</span><div class=\"features\"> <span class=\"otype xft\"><span class=\"f\">otype=</span>sentence|sentence_atom</span></div>\n",
       "        </div>\n",
       "        <div class=\"atoms\">\n",
       "                    <div class=\"catom  l \" >\n",
       "        <div class=\"clause \" >\n",
       "            <a href=\"https://shebanq.ancient-data.org/hebrew/text?book=Genesis&amp;chapter=1&amp;verse=29&amp;version=c&amp;mr=m&amp;qw=q&amp;tp=txt_p&amp;tr=hb&amp;wget=v&amp;qget=v&amp;nget=vt\" title=\"Genesis 1:29\" sec=\"Genesis 1:29\">clause</a> <span class=\"nd\">427664</span> <div class=\"features\"> <span class=\"otype xft\"><span class=\"f\">otype=</span>clause|clause_atom</span></div>\n",
       "        </div>\n",
       "        <div class=\"atoms\">\n",
       "                    <div class=\"patom  \" >\n",
       "        <div class=\"phrase \" >\n",
       "            <a href=\"https://shebanq.ancient-data.org/hebrew/text?book=Genesis&amp;chapter=1&amp;verse=29&amp;version=c&amp;mr=m&amp;qw=q&amp;tp=txt_p&amp;tr=hb&amp;wget=v&amp;qget=v&amp;nget=vt\" title=\"Genesis 1:29\" sec=\"Genesis 1:29\">phrase</a> <span class=\"nd\">651874</span> <div class=\"features\"> <span class=\"otype xft\"><span class=\"f\">otype=</span>phrase|phrase_atom</span></div>\n",
       "        </div>\n",
       "        <div class=\"atoms\">\n",
       "                    <div class=\"word  \" ><span class=\"nd\">593</span><div class=\"h\"><a target=\"_blank\" href=\"https://shebanq.ancient-data.org/hebrew/word?version=c&amp;id=1HNH\" title=\"show this lexeme in SHEBANQ\">הִנֵּה֩ </a></div><div class=\"features\"> <span class=\"pdp\"><a href=\"https://shebanq.ancient-data.org/hebrew/text?book=Genesis&amp;chapter=1&amp;verse=29&amp;version=c&amp;mr=m&amp;qw=q&amp;tp=txt_p&amp;tr=hb&amp;wget=v&amp;qget=v&amp;nget=vt\" title=\"Genesis 1:29\" sec=\"Genesis 1:29\">intj</a></span> <span class=\"gloss\">behold</span> <span class=\"otype xft\"><span class=\"f\">otype=</span>word</span> <span class=\"rank_lex xft\"><span class=\"f\">rank_lex=</span>44</span></div></div></div></div><div class=\"patom  \" >\n",
       "        <div class=\"phrase \" >\n",
       "            <a href=\"https://shebanq.ancient-data.org/hebrew/text?book=Genesis&amp;chapter=1&amp;verse=29&amp;version=c&amp;mr=m&amp;qw=q&amp;tp=txt_p&amp;tr=hb&amp;wget=v&amp;qget=v&amp;nget=vt\" title=\"Genesis 1:29\" sec=\"Genesis 1:29\">phrase</a> <span class=\"nd\">651875</span> <div class=\"features\"> <span class=\"otype xft\"><span class=\"f\">otype=</span>phrase|phrase_atom</span></div>\n",
       "        </div>\n",
       "        <div class=\"atoms\">\n",
       "                    <div class=\"word  \" ><span class=\"nd\">594</span><div class=\"h\"><a target=\"_blank\" href=\"https://shebanq.ancient-data.org/hebrew/word?version=c&amp;id=1NTNv\" title=\"show this lexeme in SHEBANQ\">נָתַ֨תִּי </a></div><div class=\"features\"> <span class=\"pdp\"><a href=\"https://shebanq.ancient-data.org/hebrew/text?book=Genesis&amp;chapter=1&amp;verse=29&amp;version=c&amp;mr=m&amp;qw=q&amp;tp=txt_p&amp;tr=hb&amp;wget=v&amp;qget=v&amp;nget=vt\" title=\"Genesis 1:29\" sec=\"Genesis 1:29\">verb</a></span> <span class=\"gloss\">give</span> <span class=\"otype xft\"><span class=\"f\">otype=</span>word</span> <span class=\"rank_lex xft\"><span class=\"f\">rank_lex=</span>27</span></div></div></div></div><div class=\"patom  \" >\n",
       "        <div class=\"phrase \" >\n",
       "            <a href=\"https://shebanq.ancient-data.org/hebrew/text?book=Genesis&amp;chapter=1&amp;verse=29&amp;version=c&amp;mr=m&amp;qw=q&amp;tp=txt_p&amp;tr=hb&amp;wget=v&amp;qget=v&amp;nget=vt\" title=\"Genesis 1:29\" sec=\"Genesis 1:29\">phrase</a> <span class=\"nd\">651876</span> <div class=\"features\"> <span class=\"otype xft\"><span class=\"f\">otype=</span>phrase|phrase_atom</span></div>\n",
       "        </div>\n",
       "        <div class=\"atoms\">\n",
       "                    <div class=\"word  \" ><span class=\"nd\">595</span><div class=\"h\"><a target=\"_blank\" href=\"https://shebanq.ancient-data.org/hebrew/word?version=c&amp;id=1L\" title=\"show this lexeme in SHEBANQ\">לָכֶ֜ם </a></div><div class=\"features\"> <span class=\"pdp\"><a href=\"https://shebanq.ancient-data.org/hebrew/text?book=Genesis&amp;chapter=1&amp;verse=29&amp;version=c&amp;mr=m&amp;qw=q&amp;tp=txt_p&amp;tr=hb&amp;wget=v&amp;qget=v&amp;nget=vt\" title=\"Genesis 1:29\" sec=\"Genesis 1:29\">prep</a></span> <span class=\"gloss\">to</span> <span class=\"otype xft\"><span class=\"f\">otype=</span>word</span> <span class=\"rank_lex xft\"><span class=\"f\">rank_lex=</span>2</span></div></div></div></div><div class=\"patom  l \" >\n",
       "        <div class=\"phrase \" >\n",
       "            <a href=\"https://shebanq.ancient-data.org/hebrew/text?book=Genesis&amp;chapter=1&amp;verse=29&amp;version=c&amp;mr=m&amp;qw=q&amp;tp=txt_p&amp;tr=hb&amp;wget=v&amp;qget=v&amp;nget=vt\" title=\"Genesis 1:29\" sec=\"Genesis 1:29\">phrase</a> <span class=\"nd\">651877</span> <div class=\"features\"> <span class=\"otype xft\"><span class=\"f\">otype=</span>phrase|phrase_atom</span></div>\n",
       "        </div>\n",
       "        <div class=\"atoms\">\n",
       "                    <div class=\"word  \" ><span class=\"nd\">596</span><div class=\"h\"><a target=\"_blank\" href=\"https://shebanq.ancient-data.org/hebrew/word?version=c&amp;id=1AT\" title=\"show this lexeme in SHEBANQ\">אֶת־</a></div><div class=\"features\"> <span class=\"pdp\"><a href=\"https://shebanq.ancient-data.org/hebrew/text?book=Genesis&amp;chapter=1&amp;verse=29&amp;version=c&amp;mr=m&amp;qw=q&amp;tp=txt_p&amp;tr=hb&amp;wget=v&amp;qget=v&amp;nget=vt\" title=\"Genesis 1:29\" sec=\"Genesis 1:29\">prep</a></span> <span class=\"gloss\">&lt;object marker></span> <span class=\"otype xft\"><span class=\"f\">otype=</span>word</span> <span class=\"rank_lex xft\"><span class=\"f\">rank_lex=</span>4</span></div></div><div class=\"word  \" ><span class=\"nd\">597</span><div class=\"h\"><a target=\"_blank\" href=\"https://shebanq.ancient-data.org/hebrew/word?version=c&amp;id=1KLn\" title=\"show this lexeme in SHEBANQ\">כָּל־</a></div><div class=\"features\"> <span class=\"pdp\"><a href=\"https://shebanq.ancient-data.org/hebrew/text?book=Genesis&amp;chapter=1&amp;verse=29&amp;version=c&amp;mr=m&amp;qw=q&amp;tp=txt_p&amp;tr=hb&amp;wget=v&amp;qget=v&amp;nget=vt\" title=\"Genesis 1:29\" sec=\"Genesis 1:29\">subs</a></span> <span class=\"gloss\">whole</span> <span class=\"otype xft\"><span class=\"f\">otype=</span>word</span> <span class=\"rank_lex xft\"><span class=\"f\">rank_lex=</span>10</span></div></div><div class=\"word  \" ><span class=\"nd\">598</span><div class=\"h\"><a target=\"_blank\" href=\"https://shebanq.ancient-data.org/hebrew/word?version=c&amp;id=1OFBn\" title=\"show this lexeme in SHEBANQ\">עֵ֣שֶׂב׀ </a></div><div class=\"features\"> <span class=\"pdp\"><a href=\"https://shebanq.ancient-data.org/hebrew/text?book=Genesis&amp;chapter=1&amp;verse=29&amp;version=c&amp;mr=m&amp;qw=q&amp;tp=txt_p&amp;tr=hb&amp;wget=v&amp;qget=v&amp;nget=vt\" title=\"Genesis 1:29\" sec=\"Genesis 1:29\">subs</a></span> <span class=\"gloss\">herb</span> <span class=\"otype xft\"><span class=\"f\">otype=</span>word</span> <span class=\"rank_lex xft\"><span class=\"f\">rank_lex=</span>1030</span></div></div></div></div></div></div><div class=\"catom  \" >\n",
       "        <div class=\"clause \" >\n",
       "            <a href=\"https://shebanq.ancient-data.org/hebrew/text?book=Genesis&amp;chapter=1&amp;verse=29&amp;version=c&amp;mr=m&amp;qw=q&amp;tp=txt_p&amp;tr=hb&amp;wget=v&amp;qget=v&amp;nget=vt\" title=\"Genesis 1:29\" sec=\"Genesis 1:29\">clause</a> <span class=\"nd\">427665</span>  <span class=\"rela\">Attr</span><div class=\"features\"> <span class=\"otype xft\"><span class=\"f\">otype=</span>clause|clause_atom</span></div>\n",
       "        </div>\n",
       "        <div class=\"atoms\">\n",
       "                    <div class=\"patom  \" >\n",
       "        <div class=\"phrase \" >\n",
       "            <a href=\"https://shebanq.ancient-data.org/hebrew/text?book=Genesis&amp;chapter=1&amp;verse=29&amp;version=c&amp;mr=m&amp;qw=q&amp;tp=txt_p&amp;tr=hb&amp;wget=v&amp;qget=v&amp;nget=vt\" title=\"Genesis 1:29\" sec=\"Genesis 1:29\">phrase</a> <span class=\"nd\">651878</span> <div class=\"features\"> <span class=\"otype xft\"><span class=\"f\">otype=</span>phrase|phrase_atom</span></div>\n",
       "        </div>\n",
       "        <div class=\"atoms\">\n",
       "                    <div class=\"word  \" ><span class=\"nd\">599</span><div class=\"h\"><a target=\"_blank\" href=\"https://shebanq.ancient-data.org/hebrew/word?version=c&amp;id=1ZROv\" title=\"show this lexeme in SHEBANQ\">זֹרֵ֣עַ </a></div><div class=\"features\"> <span class=\"pdp\"><a href=\"https://shebanq.ancient-data.org/hebrew/text?book=Genesis&amp;chapter=1&amp;verse=29&amp;version=c&amp;mr=m&amp;qw=q&amp;tp=txt_p&amp;tr=hb&amp;wget=v&amp;qget=v&amp;nget=vt\" title=\"Genesis 1:29\" sec=\"Genesis 1:29\">verb</a></span> <span class=\"gloss\">sow</span> <span class=\"otype xft\"><span class=\"f\">otype=</span>word</span> <span class=\"rank_lex xft\"><span class=\"f\">rank_lex=</span>657</span></div></div></div></div><div class=\"patom  \" >\n",
       "        <div class=\"phrase \" >\n",
       "            <a href=\"https://shebanq.ancient-data.org/hebrew/text?book=Genesis&amp;chapter=1&amp;verse=29&amp;version=c&amp;mr=m&amp;qw=q&amp;tp=txt_p&amp;tr=hb&amp;wget=v&amp;qget=v&amp;nget=vt\" title=\"Genesis 1:29\" sec=\"Genesis 1:29\">phrase</a> <span class=\"nd\">651879</span> <div class=\"features\"> <span class=\"otype xft\"><span class=\"f\">otype=</span>phrase|phrase_atom</span></div>\n",
       "        </div>\n",
       "        <div class=\"atoms\">\n",
       "                    <div class=\"word  \" ><span class=\"nd\">600</span><div class=\"h\"><a target=\"_blank\" href=\"https://shebanq.ancient-data.org/hebrew/word?version=c&amp;id=1ZROn\" title=\"show this lexeme in SHEBANQ\">זֶ֗רַע </a></div><div class=\"features\"> <span class=\"pdp\"><a href=\"https://shebanq.ancient-data.org/hebrew/text?book=Genesis&amp;chapter=1&amp;verse=29&amp;version=c&amp;mr=m&amp;qw=q&amp;tp=txt_p&amp;tr=hb&amp;wget=v&amp;qget=v&amp;nget=vt\" title=\"Genesis 1:29\" sec=\"Genesis 1:29\">subs</a></span> <span class=\"gloss\">seed</span> <span class=\"otype xft\"><span class=\"f\">otype=</span>word</span> <span class=\"rank_lex xft\"><span class=\"f\">rank_lex=</span>209</span></div></div></div></div></div></div><div class=\"catom  hl\"  style=\"background-color: cyan;\" >\n",
       "        <div class=\"clause hl\"  style=\"background-color: cyan;\" >\n",
       "            <a href=\"https://shebanq.ancient-data.org/hebrew/text?book=Genesis&amp;chapter=1&amp;verse=29&amp;version=c&amp;mr=m&amp;qw=q&amp;tp=txt_p&amp;tr=hb&amp;wget=v&amp;qget=v&amp;nget=vt\" title=\"Genesis 1:29\" sec=\"Genesis 1:29\">clause</a> <span class=\"nd\">427666</span>  <span class=\"rela\">Attr</span><div class=\"features\"> <span class=\"otype xft\"><span class=\"f\">otype=</span>clause|clause_atom</span></div>\n",
       "        </div>\n",
       "        <div class=\"atoms\">\n",
       "                    <div class=\"patom  \" >\n",
       "        <div class=\"phrase \" >\n",
       "            <a href=\"https://shebanq.ancient-data.org/hebrew/text?book=Genesis&amp;chapter=1&amp;verse=29&amp;version=c&amp;mr=m&amp;qw=q&amp;tp=txt_p&amp;tr=hb&amp;wget=v&amp;qget=v&amp;nget=vt\" title=\"Genesis 1:29\" sec=\"Genesis 1:29\">phrase</a> <span class=\"nd\">651880</span> <div class=\"features\"> <span class=\"otype xft\"><span class=\"f\">otype=</span>phrase|phrase_atom</span></div>\n",
       "        </div>\n",
       "        <div class=\"atoms\">\n",
       "                    <div class=\"word  \" ><span class=\"nd\">601</span><div class=\"h\"><a target=\"_blank\" href=\"https://shebanq.ancient-data.org/hebrew/word?version=c&amp;id=1ACR\" title=\"show this lexeme in SHEBANQ\">אֲשֶׁר֙ </a></div><div class=\"features\"> <span class=\"pdp\"><a href=\"https://shebanq.ancient-data.org/hebrew/text?book=Genesis&amp;chapter=1&amp;verse=29&amp;version=c&amp;mr=m&amp;qw=q&amp;tp=txt_p&amp;tr=hb&amp;wget=v&amp;qget=v&amp;nget=vt\" title=\"Genesis 1:29\" sec=\"Genesis 1:29\">conj</a></span> <span class=\"gloss\">&lt;relative></span> <span class=\"otype xft\"><span class=\"f\">otype=</span>word</span> <span class=\"rank_lex xft\"><span class=\"f\">rank_lex=</span>9</span></div></div></div></div><div class=\"patom  \" >\n",
       "        <div class=\"phrase \" >\n",
       "            <a href=\"https://shebanq.ancient-data.org/hebrew/text?book=Genesis&amp;chapter=1&amp;verse=29&amp;version=c&amp;mr=m&amp;qw=q&amp;tp=txt_p&amp;tr=hb&amp;wget=v&amp;qget=v&amp;nget=vt\" title=\"Genesis 1:29\" sec=\"Genesis 1:29\">phrase</a> <span class=\"nd\">651881</span> <div class=\"features\"> <span class=\"otype xft\"><span class=\"f\">otype=</span>phrase|phrase_atom</span></div>\n",
       "        </div>\n",
       "        <div class=\"atoms\">\n",
       "                    <div class=\"word  \" ><span class=\"nd\">602</span><div class=\"h\"><a target=\"_blank\" href=\"https://shebanq.ancient-data.org/hebrew/word?version=c&amp;id=1OL\" title=\"show this lexeme in SHEBANQ\">עַל־</a></div><div class=\"features\"> <span class=\"pdp\"><a href=\"https://shebanq.ancient-data.org/hebrew/text?book=Genesis&amp;chapter=1&amp;verse=29&amp;version=c&amp;mr=m&amp;qw=q&amp;tp=txt_p&amp;tr=hb&amp;wget=v&amp;qget=v&amp;nget=vt\" title=\"Genesis 1:29\" sec=\"Genesis 1:29\">prep</a></span> <span class=\"gloss\">upon</span> <span class=\"otype xft\"><span class=\"f\">otype=</span>word</span> <span class=\"rank_lex xft\"><span class=\"f\">rank_lex=</span>7</span></div></div><div class=\"word  \" ><span class=\"nd\">603</span><div class=\"h\"><a target=\"_blank\" href=\"https://shebanq.ancient-data.org/hebrew/word?version=c&amp;id=1PNHn\" title=\"show this lexeme in SHEBANQ\">פְּנֵ֣י </a></div><div class=\"features\"> <span class=\"pdp\"><a href=\"https://shebanq.ancient-data.org/hebrew/text?book=Genesis&amp;chapter=1&amp;verse=29&amp;version=c&amp;mr=m&amp;qw=q&amp;tp=txt_p&amp;tr=hb&amp;wget=v&amp;qget=v&amp;nget=vt\" title=\"Genesis 1:29\" sec=\"Genesis 1:29\">subs</a></span> <span class=\"gloss\">face</span> <span class=\"otype xft\"><span class=\"f\">otype=</span>word</span> <span class=\"rank_lex xft\"><span class=\"f\">rank_lex=</span>25</span></div></div><div class=\"word  \" ><span class=\"nd\">604</span><div class=\"h\"><a target=\"_blank\" href=\"https://shebanq.ancient-data.org/hebrew/word?version=c&amp;id=1KLn\" title=\"show this lexeme in SHEBANQ\">כָל־</a></div><div class=\"features\"> <span class=\"pdp\"><a href=\"https://shebanq.ancient-data.org/hebrew/text?book=Genesis&amp;chapter=1&amp;verse=29&amp;version=c&amp;mr=m&amp;qw=q&amp;tp=txt_p&amp;tr=hb&amp;wget=v&amp;qget=v&amp;nget=vt\" title=\"Genesis 1:29\" sec=\"Genesis 1:29\">subs</a></span> <span class=\"gloss\">whole</span> <span class=\"otype xft\"><span class=\"f\">otype=</span>word</span> <span class=\"rank_lex xft\"><span class=\"f\">rank_lex=</span>10</span></div></div><div class=\"word  \" ><span class=\"nd\">605</span><div class=\"h\"><a target=\"_blank\" href=\"https://shebanq.ancient-data.org/hebrew/word?version=c&amp;id=1H\" title=\"show this lexeme in SHEBANQ\">הָ</a></div><div class=\"features\"> <span class=\"pdp\"><a href=\"https://shebanq.ancient-data.org/hebrew/text?book=Genesis&amp;chapter=1&amp;verse=29&amp;version=c&amp;mr=m&amp;qw=q&amp;tp=txt_p&amp;tr=hb&amp;wget=v&amp;qget=v&amp;nget=vt\" title=\"Genesis 1:29\" sec=\"Genesis 1:29\">art</a></span> <span class=\"gloss\">the</span> <span class=\"otype xft\"><span class=\"f\">otype=</span>word</span> <span class=\"rank_lex xft\"><span class=\"f\">rank_lex=</span>1</span></div></div><div class=\"word  \" ><span class=\"nd\">606</span><div class=\"h\"><a target=\"_blank\" href=\"https://shebanq.ancient-data.org/hebrew/word?version=c&amp;id=1ARYn\" title=\"show this lexeme in SHEBANQ\">אָ֔רֶץ </a></div><div class=\"features\"> <span class=\"pdp\"><a href=\"https://shebanq.ancient-data.org/hebrew/text?book=Genesis&amp;chapter=1&amp;verse=29&amp;version=c&amp;mr=m&amp;qw=q&amp;tp=txt_p&amp;tr=hb&amp;wget=v&amp;qget=v&amp;nget=vt\" title=\"Genesis 1:29\" sec=\"Genesis 1:29\">subs</a></span> <span class=\"gloss\">earth</span> <span class=\"otype xft\"><span class=\"f\">otype=</span>word</span> <span class=\"rank_lex xft\"><span class=\"f\">rank_lex=</span>22</span></div></div></div></div></div></div><div class=\"catom  r \" >\n",
       "        <div class=\"clause \" >\n",
       "            <a href=\"https://shebanq.ancient-data.org/hebrew/text?book=Genesis&amp;chapter=1&amp;verse=29&amp;version=c&amp;mr=m&amp;qw=q&amp;tp=txt_p&amp;tr=hb&amp;wget=v&amp;qget=v&amp;nget=vt\" title=\"Genesis 1:29\" sec=\"Genesis 1:29\">clause</a> <span class=\"nd\">427664</span> <div class=\"features\"> <span class=\"otype xft\"><span class=\"f\">otype=</span>clause|clause_atom</span></div>\n",
       "        </div>\n",
       "        <div class=\"atoms\">\n",
       "                    <div class=\"patom  r l \" >\n",
       "        <div class=\"phrase \" >\n",
       "            <a href=\"https://shebanq.ancient-data.org/hebrew/text?book=Genesis&amp;chapter=1&amp;verse=29&amp;version=c&amp;mr=m&amp;qw=q&amp;tp=txt_p&amp;tr=hb&amp;wget=v&amp;qget=v&amp;nget=vt\" title=\"Genesis 1:29\" sec=\"Genesis 1:29\">phrase</a> <span class=\"nd\">651877</span> <div class=\"features\"> <span class=\"otype xft\"><span class=\"f\">otype=</span>phrase|phrase_atom</span></div>\n",
       "        </div>\n",
       "        <div class=\"atoms\">\n",
       "                    <div class=\"word  \" ><span class=\"nd\">607</span><div class=\"h\"><a target=\"_blank\" href=\"https://shebanq.ancient-data.org/hebrew/word?version=c&amp;id=1W\" title=\"show this lexeme in SHEBANQ\">וְ</a></div><div class=\"features\"> <span class=\"pdp\"><a href=\"https://shebanq.ancient-data.org/hebrew/text?book=Genesis&amp;chapter=1&amp;verse=29&amp;version=c&amp;mr=m&amp;qw=q&amp;tp=txt_p&amp;tr=hb&amp;wget=v&amp;qget=v&amp;nget=vt\" title=\"Genesis 1:29\" sec=\"Genesis 1:29\">conj</a></span> <span class=\"gloss\">and</span> <span class=\"otype xft\"><span class=\"f\">otype=</span>word</span> <span class=\"rank_lex xft\"><span class=\"f\">rank_lex=</span>0</span></div></div></div></div><div class=\"patom  r \" >\n",
       "        <div class=\"phrase \" >\n",
       "            <a href=\"https://shebanq.ancient-data.org/hebrew/text?book=Genesis&amp;chapter=1&amp;verse=29&amp;version=c&amp;mr=m&amp;qw=q&amp;tp=txt_p&amp;tr=hb&amp;wget=v&amp;qget=v&amp;nget=vt\" title=\"Genesis 1:29\" sec=\"Genesis 1:29\">phrase</a> <span class=\"nd\">651877</span> <div class=\"features\"> <span class=\"otype xft\"><span class=\"f\">otype=</span>phrase|phrase_atom</span></div>\n",
       "        </div>\n",
       "        <div class=\"atoms\">\n",
       "                    <div class=\"word  \" ><span class=\"nd\">608</span><div class=\"h\"><a target=\"_blank\" href=\"https://shebanq.ancient-data.org/hebrew/word?version=c&amp;id=1AT\" title=\"show this lexeme in SHEBANQ\">אֶת־</a></div><div class=\"features\"> <span class=\"pdp\"><a href=\"https://shebanq.ancient-data.org/hebrew/text?book=Genesis&amp;chapter=1&amp;verse=29&amp;version=c&amp;mr=m&amp;qw=q&amp;tp=txt_p&amp;tr=hb&amp;wget=v&amp;qget=v&amp;nget=vt\" title=\"Genesis 1:29\" sec=\"Genesis 1:29\">prep</a></span> <span class=\"gloss\">&lt;object marker></span> <span class=\"otype xft\"><span class=\"f\">otype=</span>word</span> <span class=\"rank_lex xft\"><span class=\"f\">rank_lex=</span>4</span></div></div><div class=\"word  \" ><span class=\"nd\">609</span><div class=\"h\"><a target=\"_blank\" href=\"https://shebanq.ancient-data.org/hebrew/word?version=c&amp;id=1KLn\" title=\"show this lexeme in SHEBANQ\">כָּל־</a></div><div class=\"features\"> <span class=\"pdp\"><a href=\"https://shebanq.ancient-data.org/hebrew/text?book=Genesis&amp;chapter=1&amp;verse=29&amp;version=c&amp;mr=m&amp;qw=q&amp;tp=txt_p&amp;tr=hb&amp;wget=v&amp;qget=v&amp;nget=vt\" title=\"Genesis 1:29\" sec=\"Genesis 1:29\">subs</a></span> <span class=\"gloss\">whole</span> <span class=\"otype xft\"><span class=\"f\">otype=</span>word</span> <span class=\"rank_lex xft\"><span class=\"f\">rank_lex=</span>10</span></div></div><div class=\"word  \" ><span class=\"nd\">610</span><div class=\"h\"><a target=\"_blank\" href=\"https://shebanq.ancient-data.org/hebrew/word?version=c&amp;id=1H\" title=\"show this lexeme in SHEBANQ\">הָ</a></div><div class=\"features\"> <span class=\"pdp\"><a href=\"https://shebanq.ancient-data.org/hebrew/text?book=Genesis&amp;chapter=1&amp;verse=29&amp;version=c&amp;mr=m&amp;qw=q&amp;tp=txt_p&amp;tr=hb&amp;wget=v&amp;qget=v&amp;nget=vt\" title=\"Genesis 1:29\" sec=\"Genesis 1:29\">art</a></span> <span class=\"gloss\">the</span> <span class=\"otype xft\"><span class=\"f\">otype=</span>word</span> <span class=\"rank_lex xft\"><span class=\"f\">rank_lex=</span>1</span></div></div><div class=\"word  \" ><span class=\"nd\">611</span><div class=\"h\"><a target=\"_blank\" href=\"https://shebanq.ancient-data.org/hebrew/word?version=c&amp;id=1OYn\" title=\"show this lexeme in SHEBANQ\">עֵ֛ץ </a></div><div class=\"features\"> <span class=\"pdp\"><a href=\"https://shebanq.ancient-data.org/hebrew/text?book=Genesis&amp;chapter=1&amp;verse=29&amp;version=c&amp;mr=m&amp;qw=q&amp;tp=txt_p&amp;tr=hb&amp;wget=v&amp;qget=v&amp;nget=vt\" title=\"Genesis 1:29\" sec=\"Genesis 1:29\">subs</a></span> <span class=\"gloss\">tree</span> <span class=\"otype xft\"><span class=\"f\">otype=</span>word</span> <span class=\"rank_lex xft\"><span class=\"f\">rank_lex=</span>151</span></div></div></div></div></div></div><div class=\"catom  \" >\n",
       "        <div class=\"clause \" >\n",
       "            <a href=\"https://shebanq.ancient-data.org/hebrew/text?book=Genesis&amp;chapter=1&amp;verse=29&amp;version=c&amp;mr=m&amp;qw=q&amp;tp=txt_p&amp;tr=hb&amp;wget=v&amp;qget=v&amp;nget=vt\" title=\"Genesis 1:29\" sec=\"Genesis 1:29\">clause</a> <span class=\"nd\">427667</span>  <span class=\"rela\">Attr</span><div class=\"features\"> <span class=\"otype xft\"><span class=\"f\">otype=</span>clause|clause_atom</span></div>\n",
       "        </div>\n",
       "        <div class=\"atoms\">\n",
       "                    <div class=\"patom  \" >\n",
       "        <div class=\"phrase \" >\n",
       "            <a href=\"https://shebanq.ancient-data.org/hebrew/text?book=Genesis&amp;chapter=1&amp;verse=29&amp;version=c&amp;mr=m&amp;qw=q&amp;tp=txt_p&amp;tr=hb&amp;wget=v&amp;qget=v&amp;nget=vt\" title=\"Genesis 1:29\" sec=\"Genesis 1:29\">phrase</a> <span class=\"nd\">651882</span> <div class=\"features\"> <span class=\"otype xft\"><span class=\"f\">otype=</span>phrase|phrase_atom</span></div>\n",
       "        </div>\n",
       "        <div class=\"atoms\">\n",
       "                    <div class=\"word  \" ><span class=\"nd\">612</span><div class=\"h\"><a target=\"_blank\" href=\"https://shebanq.ancient-data.org/hebrew/word?version=c&amp;id=1ACR\" title=\"show this lexeme in SHEBANQ\">אֲשֶׁר־</a></div><div class=\"features\"> <span class=\"pdp\"><a href=\"https://shebanq.ancient-data.org/hebrew/text?book=Genesis&amp;chapter=1&amp;verse=29&amp;version=c&amp;mr=m&amp;qw=q&amp;tp=txt_p&amp;tr=hb&amp;wget=v&amp;qget=v&amp;nget=vt\" title=\"Genesis 1:29\" sec=\"Genesis 1:29\">conj</a></span> <span class=\"gloss\">&lt;relative></span> <span class=\"otype xft\"><span class=\"f\">otype=</span>word</span> <span class=\"rank_lex xft\"><span class=\"f\">rank_lex=</span>9</span></div></div></div></div><div class=\"patom  \" >\n",
       "        <div class=\"phrase \" >\n",
       "            <a href=\"https://shebanq.ancient-data.org/hebrew/text?book=Genesis&amp;chapter=1&amp;verse=29&amp;version=c&amp;mr=m&amp;qw=q&amp;tp=txt_p&amp;tr=hb&amp;wget=v&amp;qget=v&amp;nget=vt\" title=\"Genesis 1:29\" sec=\"Genesis 1:29\">phrase</a> <span class=\"nd\">651883</span> <div class=\"features\"> <span class=\"otype xft\"><span class=\"f\">otype=</span>phrase|phrase_atom</span></div>\n",
       "        </div>\n",
       "        <div class=\"atoms\">\n",
       "                    <div class=\"word  \" ><span class=\"nd\">613</span><div class=\"h\"><a target=\"_blank\" href=\"https://shebanq.ancient-data.org/hebrew/word?version=c&amp;id=1B\" title=\"show this lexeme in SHEBANQ\">בֹּ֥ו </a></div><div class=\"features\"> <span class=\"pdp\"><a href=\"https://shebanq.ancient-data.org/hebrew/text?book=Genesis&amp;chapter=1&amp;verse=29&amp;version=c&amp;mr=m&amp;qw=q&amp;tp=txt_p&amp;tr=hb&amp;wget=v&amp;qget=v&amp;nget=vt\" title=\"Genesis 1:29\" sec=\"Genesis 1:29\">prep</a></span> <span class=\"gloss\">in</span> <span class=\"otype xft\"><span class=\"f\">otype=</span>word</span> <span class=\"rank_lex xft\"><span class=\"f\">rank_lex=</span>3</span></div></div></div></div><div class=\"patom  \" >\n",
       "        <div class=\"phrase \" >\n",
       "            <a href=\"https://shebanq.ancient-data.org/hebrew/text?book=Genesis&amp;chapter=1&amp;verse=29&amp;version=c&amp;mr=m&amp;qw=q&amp;tp=txt_p&amp;tr=hb&amp;wget=v&amp;qget=v&amp;nget=vt\" title=\"Genesis 1:29\" sec=\"Genesis 1:29\">phrase</a> <span class=\"nd\">651884</span> <div class=\"features\"> <span class=\"otype xft\"><span class=\"f\">otype=</span>phrase|phrase_atom</span></div>\n",
       "        </div>\n",
       "        <div class=\"atoms\">\n",
       "                    <div class=\"word  \" ><span class=\"nd\">614</span><div class=\"h\"><a target=\"_blank\" href=\"https://shebanq.ancient-data.org/hebrew/word?version=c&amp;id=1PRJn\" title=\"show this lexeme in SHEBANQ\">פְרִי־</a></div><div class=\"features\"> <span class=\"pdp\"><a href=\"https://shebanq.ancient-data.org/hebrew/text?book=Genesis&amp;chapter=1&amp;verse=29&amp;version=c&amp;mr=m&amp;qw=q&amp;tp=txt_p&amp;tr=hb&amp;wget=v&amp;qget=v&amp;nget=vt\" title=\"Genesis 1:29\" sec=\"Genesis 1:29\">subs</a></span> <span class=\"gloss\">fruit</span> <span class=\"otype xft\"><span class=\"f\">otype=</span>word</span> <span class=\"rank_lex xft\"><span class=\"f\">rank_lex=</span>366</span></div></div><div class=\"word  \" ><span class=\"nd\">615</span><div class=\"h\"><a target=\"_blank\" href=\"https://shebanq.ancient-data.org/hebrew/word?version=c&amp;id=1OYn\" title=\"show this lexeme in SHEBANQ\">עֵ֖ץ </a></div><div class=\"features\"> <span class=\"pdp\"><a href=\"https://shebanq.ancient-data.org/hebrew/text?book=Genesis&amp;chapter=1&amp;verse=29&amp;version=c&amp;mr=m&amp;qw=q&amp;tp=txt_p&amp;tr=hb&amp;wget=v&amp;qget=v&amp;nget=vt\" title=\"Genesis 1:29\" sec=\"Genesis 1:29\">subs</a></span> <span class=\"gloss\">tree</span> <span class=\"otype xft\"><span class=\"f\">otype=</span>word</span> <span class=\"rank_lex xft\"><span class=\"f\">rank_lex=</span>151</span></div></div></div></div></div></div><div class=\"catom  \" >\n",
       "        <div class=\"clause \" >\n",
       "            <a href=\"https://shebanq.ancient-data.org/hebrew/text?book=Genesis&amp;chapter=1&amp;verse=29&amp;version=c&amp;mr=m&amp;qw=q&amp;tp=txt_p&amp;tr=hb&amp;wget=v&amp;qget=v&amp;nget=vt\" title=\"Genesis 1:29\" sec=\"Genesis 1:29\">clause</a> <span class=\"nd\">427668</span>  <span class=\"rela\">Attr</span><div class=\"features\"> <span class=\"otype xft\"><span class=\"f\">otype=</span>clause|clause_atom</span></div>\n",
       "        </div>\n",
       "        <div class=\"atoms\">\n",
       "                    <div class=\"patom  \" >\n",
       "        <div class=\"phrase \" >\n",
       "            <a href=\"https://shebanq.ancient-data.org/hebrew/text?book=Genesis&amp;chapter=1&amp;verse=29&amp;version=c&amp;mr=m&amp;qw=q&amp;tp=txt_p&amp;tr=hb&amp;wget=v&amp;qget=v&amp;nget=vt\" title=\"Genesis 1:29\" sec=\"Genesis 1:29\">phrase</a> <span class=\"nd\">651885</span> <div class=\"features\"> <span class=\"otype xft\"><span class=\"f\">otype=</span>phrase|phrase_atom</span></div>\n",
       "        </div>\n",
       "        <div class=\"atoms\">\n",
       "                    <div class=\"word  \" ><span class=\"nd\">616</span><div class=\"h\"><a target=\"_blank\" href=\"https://shebanq.ancient-data.org/hebrew/word?version=c&amp;id=1ZROv\" title=\"show this lexeme in SHEBANQ\">זֹרֵ֣עַ </a></div><div class=\"features\"> <span class=\"pdp\"><a href=\"https://shebanq.ancient-data.org/hebrew/text?book=Genesis&amp;chapter=1&amp;verse=29&amp;version=c&amp;mr=m&amp;qw=q&amp;tp=txt_p&amp;tr=hb&amp;wget=v&amp;qget=v&amp;nget=vt\" title=\"Genesis 1:29\" sec=\"Genesis 1:29\">verb</a></span> <span class=\"gloss\">sow</span> <span class=\"otype xft\"><span class=\"f\">otype=</span>word</span> <span class=\"rank_lex xft\"><span class=\"f\">rank_lex=</span>657</span></div></div></div></div><div class=\"patom  \" >\n",
       "        <div class=\"phrase \" >\n",
       "            <a href=\"https://shebanq.ancient-data.org/hebrew/text?book=Genesis&amp;chapter=1&amp;verse=29&amp;version=c&amp;mr=m&amp;qw=q&amp;tp=txt_p&amp;tr=hb&amp;wget=v&amp;qget=v&amp;nget=vt\" title=\"Genesis 1:29\" sec=\"Genesis 1:29\">phrase</a> <span class=\"nd\">651886</span> <div class=\"features\"> <span class=\"otype xft\"><span class=\"f\">otype=</span>phrase|phrase_atom</span></div>\n",
       "        </div>\n",
       "        <div class=\"atoms\">\n",
       "                    <div class=\"word  \" ><span class=\"nd\">617</span><div class=\"h\"><a target=\"_blank\" href=\"https://shebanq.ancient-data.org/hebrew/word?version=c&amp;id=1ZROn\" title=\"show this lexeme in SHEBANQ\">זָ֑רַע </a></div><div class=\"features\"> <span class=\"pdp\"><a href=\"https://shebanq.ancient-data.org/hebrew/text?book=Genesis&amp;chapter=1&amp;verse=29&amp;version=c&amp;mr=m&amp;qw=q&amp;tp=txt_p&amp;tr=hb&amp;wget=v&amp;qget=v&amp;nget=vt\" title=\"Genesis 1:29\" sec=\"Genesis 1:29\">subs</a></span> <span class=\"gloss\">seed</span> <span class=\"otype xft\"><span class=\"f\">otype=</span>word</span> <span class=\"rank_lex xft\"><span class=\"f\">rank_lex=</span>209</span></div></div></div></div></div></div></div></div><div class=\"satom  \" >\n",
       "        <div class=\"sentence \" >\n",
       "            <a href=\"https://shebanq.ancient-data.org/hebrew/text?book=Genesis&amp;chapter=1&amp;verse=29&amp;version=c&amp;mr=m&amp;qw=q&amp;tp=txt_p&amp;tr=hb&amp;wget=v&amp;qget=v&amp;nget=vt\" title=\"Genesis 1:29\" sec=\"Genesis 1:29\">sentence</a> <span class=\"nd\">1172373</span>  <span class=\"number\">84</span><div class=\"features\"> <span class=\"otype xft\"><span class=\"f\">otype=</span>sentence|sentence_atom</span></div>\n",
       "        </div>\n",
       "        <div class=\"atoms\">\n",
       "                    <div class=\"catom  \" >\n",
       "        <div class=\"clause \" >\n",
       "            <a href=\"https://shebanq.ancient-data.org/hebrew/text?book=Genesis&amp;chapter=1&amp;verse=29&amp;version=c&amp;mr=m&amp;qw=q&amp;tp=txt_p&amp;tr=hb&amp;wget=v&amp;qget=v&amp;nget=vt\" title=\"Genesis 1:29\" sec=\"Genesis 1:29\">clause</a> <span class=\"nd\">427669</span> <div class=\"features\"> <span class=\"otype xft\"><span class=\"f\">otype=</span>clause|clause_atom</span></div>\n",
       "        </div>\n",
       "        <div class=\"atoms\">\n",
       "                    <div class=\"patom  \" >\n",
       "        <div class=\"phrase \" >\n",
       "            <a href=\"https://shebanq.ancient-data.org/hebrew/text?book=Genesis&amp;chapter=1&amp;verse=29&amp;version=c&amp;mr=m&amp;qw=q&amp;tp=txt_p&amp;tr=hb&amp;wget=v&amp;qget=v&amp;nget=vt\" title=\"Genesis 1:29\" sec=\"Genesis 1:29\">phrase</a> <span class=\"nd\">651887</span> <div class=\"features\"> <span class=\"otype xft\"><span class=\"f\">otype=</span>phrase|phrase_atom</span></div>\n",
       "        </div>\n",
       "        <div class=\"atoms\">\n",
       "                    <div class=\"word  \" ><span class=\"nd\">618</span><div class=\"h\"><a target=\"_blank\" href=\"https://shebanq.ancient-data.org/hebrew/word?version=c&amp;id=1L\" title=\"show this lexeme in SHEBANQ\">לָכֶ֥ם </a></div><div class=\"features\"> <span class=\"pdp\"><a href=\"https://shebanq.ancient-data.org/hebrew/text?book=Genesis&amp;chapter=1&amp;verse=29&amp;version=c&amp;mr=m&amp;qw=q&amp;tp=txt_p&amp;tr=hb&amp;wget=v&amp;qget=v&amp;nget=vt\" title=\"Genesis 1:29\" sec=\"Genesis 1:29\">prep</a></span> <span class=\"gloss\">to</span> <span class=\"otype xft\"><span class=\"f\">otype=</span>word</span> <span class=\"rank_lex xft\"><span class=\"f\">rank_lex=</span>2</span></div></div></div></div><div class=\"patom  \" >\n",
       "        <div class=\"phrase \" >\n",
       "            <a href=\"https://shebanq.ancient-data.org/hebrew/text?book=Genesis&amp;chapter=1&amp;verse=29&amp;version=c&amp;mr=m&amp;qw=q&amp;tp=txt_p&amp;tr=hb&amp;wget=v&amp;qget=v&amp;nget=vt\" title=\"Genesis 1:29\" sec=\"Genesis 1:29\">phrase</a> <span class=\"nd\">651888</span> <div class=\"features\"> <span class=\"otype xft\"><span class=\"f\">otype=</span>phrase|phrase_atom</span></div>\n",
       "        </div>\n",
       "        <div class=\"atoms\">\n",
       "                    <div class=\"word  \" ><span class=\"nd\">619</span><div class=\"h\"><a target=\"_blank\" href=\"https://shebanq.ancient-data.org/hebrew/word?version=c&amp;id=1HJHv\" title=\"show this lexeme in SHEBANQ\">יִֽהְיֶ֖ה </a></div><div class=\"features\"> <span class=\"pdp\"><a href=\"https://shebanq.ancient-data.org/hebrew/text?book=Genesis&amp;chapter=1&amp;verse=29&amp;version=c&amp;mr=m&amp;qw=q&amp;tp=txt_p&amp;tr=hb&amp;wget=v&amp;qget=v&amp;nget=vt\" title=\"Genesis 1:29\" sec=\"Genesis 1:29\">verb</a></span> <span class=\"gloss\">be</span> <span class=\"otype xft\"><span class=\"f\">otype=</span>word</span> <span class=\"rank_lex xft\"><span class=\"f\">rank_lex=</span>15</span></div></div></div></div><div class=\"patom  \" >\n",
       "        <div class=\"phrase \" >\n",
       "            <a href=\"https://shebanq.ancient-data.org/hebrew/text?book=Genesis&amp;chapter=1&amp;verse=29&amp;version=c&amp;mr=m&amp;qw=q&amp;tp=txt_p&amp;tr=hb&amp;wget=v&amp;qget=v&amp;nget=vt\" title=\"Genesis 1:29\" sec=\"Genesis 1:29\">phrase</a> <span class=\"nd\">651889</span> <div class=\"features\"> <span class=\"otype xft\"><span class=\"f\">otype=</span>phrase|phrase_atom</span></div>\n",
       "        </div>\n",
       "        <div class=\"atoms\">\n",
       "                    <div class=\"word  \" ><span class=\"nd\">620</span><div class=\"h\"><a target=\"_blank\" href=\"https://shebanq.ancient-data.org/hebrew/word?version=c&amp;id=1L\" title=\"show this lexeme in SHEBANQ\">לְ</a></div><div class=\"features\"> <span class=\"pdp\"><a href=\"https://shebanq.ancient-data.org/hebrew/text?book=Genesis&amp;chapter=1&amp;verse=29&amp;version=c&amp;mr=m&amp;qw=q&amp;tp=txt_p&amp;tr=hb&amp;wget=v&amp;qget=v&amp;nget=vt\" title=\"Genesis 1:29\" sec=\"Genesis 1:29\">prep</a></span> <span class=\"gloss\">to</span> <span class=\"otype xft\"><span class=\"f\">otype=</span>word</span> <span class=\"rank_lex xft\"><span class=\"f\">rank_lex=</span>2</span></div></div><div class=\"word  \" ><span class=\"nd\">621</span><div class=\"h\"><a target=\"_blank\" href=\"https://shebanq.ancient-data.org/hebrew/word?version=c&amp;id=1AKLHn\" title=\"show this lexeme in SHEBANQ\">אָכְלָֽה׃ </a></div><div class=\"features\"> <span class=\"pdp\"><a href=\"https://shebanq.ancient-data.org/hebrew/text?book=Genesis&amp;chapter=1&amp;verse=29&amp;version=c&amp;mr=m&amp;qw=q&amp;tp=txt_p&amp;tr=hb&amp;wget=v&amp;qget=v&amp;nget=vt\" title=\"Genesis 1:29\" sec=\"Genesis 1:29\">subs</a></span> <span class=\"gloss\">food</span> <span class=\"otype xft\"><span class=\"f\">otype=</span>word</span> <span class=\"rank_lex xft\"><span class=\"f\">rank_lex=</span>1543</span></div></div></div></div></div></div></div></div></div></div>"
      ],
      "text/plain": [
       "<IPython.core.display.HTML object>"
      ]
     },
     "metadata": {},
     "output_type": "display_data"
    },
    {
     "data": {
      "text/html": [
       "<div class=\"outeritem\"><div class=\"verse  \" >\n",
       "    <div class=\"vl\">\n",
       "        <div class=\"vrs\"><a href=\"https://shebanq.ancient-data.org/hebrew/text?book=Genesis&amp;chapter=1&amp;verse=30&amp;version=c&amp;mr=m&amp;qw=q&amp;tp=txt_p&amp;tr=hb&amp;wget=v&amp;qget=v&amp;nget=vt\" title=\"show this passage in SHEBANQ\" sec=\"Genesis 1:30\">Genesis 1:30</a></div>\n",
       "        <span class=\"nd\">1414383</span>\n",
       "    </div>\n",
       "<div class=\"satom  r hl\"  style=\"background-color: magenta;\" >\n",
       "        <div class=\"sentence hl\"  style=\"background-color: magenta;\" >\n",
       "            <a href=\"https://shebanq.ancient-data.org/hebrew/text?book=Genesis&amp;chapter=1&amp;verse=29&amp;version=c&amp;mr=m&amp;qw=q&amp;tp=txt_p&amp;tr=hb&amp;wget=v&amp;qget=v&amp;nget=vt\" title=\"Genesis 1:29\" sec=\"Genesis 1:29\">sentence</a> <span class=\"nd\">1172372</span>  <span class=\"number\">83|85</span><div class=\"features\"> <span class=\"otype xft\"><span class=\"f\">otype=</span>sentence|sentence_atom</span></div>\n",
       "        </div>\n",
       "        <div class=\"atoms\">\n",
       "                    <div class=\"catom  l \" >\n",
       "        <div class=\"clause \" >\n",
       "            <a href=\"https://shebanq.ancient-data.org/hebrew/text?book=Genesis&amp;chapter=1&amp;verse=30&amp;version=c&amp;mr=m&amp;qw=q&amp;tp=txt_p&amp;tr=hb&amp;wget=v&amp;qget=v&amp;nget=vt\" title=\"Genesis 1:30\" sec=\"Genesis 1:30\">clause</a> <span class=\"nd\">427670</span> <div class=\"features\"> <span class=\"otype xft\"><span class=\"f\">otype=</span>clause|clause_atom</span></div>\n",
       "        </div>\n",
       "        <div class=\"atoms\">\n",
       "                    <div class=\"patom  \" >\n",
       "        <div class=\"phrase \" >\n",
       "            <a href=\"https://shebanq.ancient-data.org/hebrew/text?book=Genesis&amp;chapter=1&amp;verse=30&amp;version=c&amp;mr=m&amp;qw=q&amp;tp=txt_p&amp;tr=hb&amp;wget=v&amp;qget=v&amp;nget=vt\" title=\"Genesis 1:30\" sec=\"Genesis 1:30\">phrase</a> <span class=\"nd\">651890</span> <div class=\"features\"> <span class=\"otype xft\"><span class=\"f\">otype=</span>phrase|phrase_atom</span></div>\n",
       "        </div>\n",
       "        <div class=\"atoms\">\n",
       "                    <div class=\"word  \" ><span class=\"nd\">622</span><div class=\"h\"><a target=\"_blank\" href=\"https://shebanq.ancient-data.org/hebrew/word?version=c&amp;id=1W\" title=\"show this lexeme in SHEBANQ\">וּֽ</a></div><div class=\"features\"> <span class=\"pdp\"><a href=\"https://shebanq.ancient-data.org/hebrew/text?book=Genesis&amp;chapter=1&amp;verse=30&amp;version=c&amp;mr=m&amp;qw=q&amp;tp=txt_p&amp;tr=hb&amp;wget=v&amp;qget=v&amp;nget=vt\" title=\"Genesis 1:30\" sec=\"Genesis 1:30\">conj</a></span> <span class=\"gloss\">and</span> <span class=\"otype xft\"><span class=\"f\">otype=</span>word</span> <span class=\"rank_lex xft\"><span class=\"f\">rank_lex=</span>0</span></div></div></div></div><div class=\"patom  l \" >\n",
       "        <div class=\"phrase \" >\n",
       "            <a href=\"https://shebanq.ancient-data.org/hebrew/text?book=Genesis&amp;chapter=1&amp;verse=30&amp;version=c&amp;mr=m&amp;qw=q&amp;tp=txt_p&amp;tr=hb&amp;wget=v&amp;qget=v&amp;nget=vt\" title=\"Genesis 1:30\" sec=\"Genesis 1:30\">phrase</a> <span class=\"nd\">651891</span> <div class=\"features\"> <span class=\"otype xft\"><span class=\"f\">otype=</span>phrase|phrase_atom</span></div>\n",
       "        </div>\n",
       "        <div class=\"atoms\">\n",
       "                    <div class=\"word  \" ><span class=\"nd\">623</span><div class=\"h\"><a target=\"_blank\" href=\"https://shebanq.ancient-data.org/hebrew/word?version=c&amp;id=1L\" title=\"show this lexeme in SHEBANQ\">לְ</a></div><div class=\"features\"> <span class=\"pdp\"><a href=\"https://shebanq.ancient-data.org/hebrew/text?book=Genesis&amp;chapter=1&amp;verse=30&amp;version=c&amp;mr=m&amp;qw=q&amp;tp=txt_p&amp;tr=hb&amp;wget=v&amp;qget=v&amp;nget=vt\" title=\"Genesis 1:30\" sec=\"Genesis 1:30\">prep</a></span> <span class=\"gloss\">to</span> <span class=\"otype xft\"><span class=\"f\">otype=</span>word</span> <span class=\"rank_lex xft\"><span class=\"f\">rank_lex=</span>2</span></div></div><div class=\"word  \" ><span class=\"nd\">624</span><div class=\"h\"><a target=\"_blank\" href=\"https://shebanq.ancient-data.org/hebrew/word?version=c&amp;id=1KLn\" title=\"show this lexeme in SHEBANQ\">כָל־</a></div><div class=\"features\"> <span class=\"pdp\"><a href=\"https://shebanq.ancient-data.org/hebrew/text?book=Genesis&amp;chapter=1&amp;verse=30&amp;version=c&amp;mr=m&amp;qw=q&amp;tp=txt_p&amp;tr=hb&amp;wget=v&amp;qget=v&amp;nget=vt\" title=\"Genesis 1:30\" sec=\"Genesis 1:30\">subs</a></span> <span class=\"gloss\">whole</span> <span class=\"otype xft\"><span class=\"f\">otype=</span>word</span> <span class=\"rank_lex xft\"><span class=\"f\">rank_lex=</span>10</span></div></div><div class=\"word  \" ><span class=\"nd\">625</span><div class=\"h\"><a target=\"_blank\" href=\"https://shebanq.ancient-data.org/hebrew/word?version=c&amp;id=1XJHn\" title=\"show this lexeme in SHEBANQ\">חַיַּ֣ת </a></div><div class=\"features\"> <span class=\"pdp\"><a href=\"https://shebanq.ancient-data.org/hebrew/text?book=Genesis&amp;chapter=1&amp;verse=30&amp;version=c&amp;mr=m&amp;qw=q&amp;tp=txt_p&amp;tr=hb&amp;wget=v&amp;qget=v&amp;nget=vt\" title=\"Genesis 1:30\" sec=\"Genesis 1:30\">subs</a></span> <span class=\"gloss\">wild animal</span> <span class=\"otype xft\"><span class=\"f\">otype=</span>word</span> <span class=\"rank_lex xft\"><span class=\"f\">rank_lex=</span>423</span></div></div><div class=\"word  \" ><span class=\"nd\">626</span><div class=\"h\"><a target=\"_blank\" href=\"https://shebanq.ancient-data.org/hebrew/word?version=c&amp;id=1H\" title=\"show this lexeme in SHEBANQ\">הָ֠</a></div><div class=\"features\"> <span class=\"pdp\"><a href=\"https://shebanq.ancient-data.org/hebrew/text?book=Genesis&amp;chapter=1&amp;verse=30&amp;version=c&amp;mr=m&amp;qw=q&amp;tp=txt_p&amp;tr=hb&amp;wget=v&amp;qget=v&amp;nget=vt\" title=\"Genesis 1:30\" sec=\"Genesis 1:30\">art</a></span> <span class=\"gloss\">the</span> <span class=\"otype xft\"><span class=\"f\">otype=</span>word</span> <span class=\"rank_lex xft\"><span class=\"f\">rank_lex=</span>1</span></div></div><div class=\"word  \" ><span class=\"nd\">627</span><div class=\"h\"><a target=\"_blank\" href=\"https://shebanq.ancient-data.org/hebrew/word?version=c&amp;id=1ARYn\" title=\"show this lexeme in SHEBANQ\">אָרֶץ </a></div><div class=\"features\"> <span class=\"pdp\"><a href=\"https://shebanq.ancient-data.org/hebrew/text?book=Genesis&amp;chapter=1&amp;verse=30&amp;version=c&amp;mr=m&amp;qw=q&amp;tp=txt_p&amp;tr=hb&amp;wget=v&amp;qget=v&amp;nget=vt\" title=\"Genesis 1:30\" sec=\"Genesis 1:30\">subs</a></span> <span class=\"gloss\">earth</span> <span class=\"otype xft\"><span class=\"f\">otype=</span>word</span> <span class=\"rank_lex xft\"><span class=\"f\">rank_lex=</span>22</span></div></div><div class=\"word  \" ><span class=\"nd\">628</span><div class=\"h\"><a target=\"_blank\" href=\"https://shebanq.ancient-data.org/hebrew/word?version=c&amp;id=1W\" title=\"show this lexeme in SHEBANQ\">וּ</a></div><div class=\"features\"> <span class=\"pdp\"><a href=\"https://shebanq.ancient-data.org/hebrew/text?book=Genesis&amp;chapter=1&amp;verse=30&amp;version=c&amp;mr=m&amp;qw=q&amp;tp=txt_p&amp;tr=hb&amp;wget=v&amp;qget=v&amp;nget=vt\" title=\"Genesis 1:30\" sec=\"Genesis 1:30\">conj</a></span> <span class=\"gloss\">and</span> <span class=\"otype xft\"><span class=\"f\">otype=</span>word</span> <span class=\"rank_lex xft\"><span class=\"f\">rank_lex=</span>0</span></div></div><div class=\"word  \" ><span class=\"nd\">629</span><div class=\"h\"><a target=\"_blank\" href=\"https://shebanq.ancient-data.org/hebrew/word?version=c&amp;id=1L\" title=\"show this lexeme in SHEBANQ\">לְ</a></div><div class=\"features\"> <span class=\"pdp\"><a href=\"https://shebanq.ancient-data.org/hebrew/text?book=Genesis&amp;chapter=1&amp;verse=30&amp;version=c&amp;mr=m&amp;qw=q&amp;tp=txt_p&amp;tr=hb&amp;wget=v&amp;qget=v&amp;nget=vt\" title=\"Genesis 1:30\" sec=\"Genesis 1:30\">prep</a></span> <span class=\"gloss\">to</span> <span class=\"otype xft\"><span class=\"f\">otype=</span>word</span> <span class=\"rank_lex xft\"><span class=\"f\">rank_lex=</span>2</span></div></div><div class=\"word  \" ><span class=\"nd\">630</span><div class=\"h\"><a target=\"_blank\" href=\"https://shebanq.ancient-data.org/hebrew/word?version=c&amp;id=1KLn\" title=\"show this lexeme in SHEBANQ\">כָל־</a></div><div class=\"features\"> <span class=\"pdp\"><a href=\"https://shebanq.ancient-data.org/hebrew/text?book=Genesis&amp;chapter=1&amp;verse=30&amp;version=c&amp;mr=m&amp;qw=q&amp;tp=txt_p&amp;tr=hb&amp;wget=v&amp;qget=v&amp;nget=vt\" title=\"Genesis 1:30\" sec=\"Genesis 1:30\">subs</a></span> <span class=\"gloss\">whole</span> <span class=\"otype xft\"><span class=\"f\">otype=</span>word</span> <span class=\"rank_lex xft\"><span class=\"f\">rank_lex=</span>10</span></div></div><div class=\"word  \" ><span class=\"nd\">631</span><div class=\"h\"><a target=\"_blank\" href=\"https://shebanq.ancient-data.org/hebrew/word?version=c&amp;id=1OWPn\" title=\"show this lexeme in SHEBANQ\">עֹ֨וף </a></div><div class=\"features\"> <span class=\"pdp\"><a href=\"https://shebanq.ancient-data.org/hebrew/text?book=Genesis&amp;chapter=1&amp;verse=30&amp;version=c&amp;mr=m&amp;qw=q&amp;tp=txt_p&amp;tr=hb&amp;wget=v&amp;qget=v&amp;nget=vt\" title=\"Genesis 1:30\" sec=\"Genesis 1:30\">subs</a></span> <span class=\"gloss\">birds</span> <span class=\"otype xft\"><span class=\"f\">otype=</span>word</span> <span class=\"rank_lex xft\"><span class=\"f\">rank_lex=</span>555</span></div></div><div class=\"word  \" ><span class=\"nd\">632</span><div class=\"h\"><a target=\"_blank\" href=\"https://shebanq.ancient-data.org/hebrew/word?version=c&amp;id=1H\" title=\"show this lexeme in SHEBANQ\">הַ</a></div><div class=\"features\"> <span class=\"pdp\"><a href=\"https://shebanq.ancient-data.org/hebrew/text?book=Genesis&amp;chapter=1&amp;verse=30&amp;version=c&amp;mr=m&amp;qw=q&amp;tp=txt_p&amp;tr=hb&amp;wget=v&amp;qget=v&amp;nget=vt\" title=\"Genesis 1:30\" sec=\"Genesis 1:30\">art</a></span> <span class=\"gloss\">the</span> <span class=\"otype xft\"><span class=\"f\">otype=</span>word</span> <span class=\"rank_lex xft\"><span class=\"f\">rank_lex=</span>1</span></div></div><div class=\"word  \" ><span class=\"nd\">633</span><div class=\"h\"><a target=\"_blank\" href=\"https://shebanq.ancient-data.org/hebrew/word?version=c&amp;id=1CMJMn\" title=\"show this lexeme in SHEBANQ\">שָּׁמַ֜יִם </a></div><div class=\"features\"> <span class=\"pdp\"><a href=\"https://shebanq.ancient-data.org/hebrew/text?book=Genesis&amp;chapter=1&amp;verse=30&amp;version=c&amp;mr=m&amp;qw=q&amp;tp=txt_p&amp;tr=hb&amp;wget=v&amp;qget=v&amp;nget=vt\" title=\"Genesis 1:30\" sec=\"Genesis 1:30\">subs</a></span> <span class=\"gloss\">heavens</span> <span class=\"otype xft\"><span class=\"f\">otype=</span>word</span> <span class=\"rank_lex xft\"><span class=\"f\">rank_lex=</span>122</span></div></div><div class=\"word  \" ><span class=\"nd\">634</span><div class=\"h\"><a target=\"_blank\" href=\"https://shebanq.ancient-data.org/hebrew/word?version=c&amp;id=1W\" title=\"show this lexeme in SHEBANQ\">וּ</a></div><div class=\"features\"> <span class=\"pdp\"><a href=\"https://shebanq.ancient-data.org/hebrew/text?book=Genesis&amp;chapter=1&amp;verse=30&amp;version=c&amp;mr=m&amp;qw=q&amp;tp=txt_p&amp;tr=hb&amp;wget=v&amp;qget=v&amp;nget=vt\" title=\"Genesis 1:30\" sec=\"Genesis 1:30\">conj</a></span> <span class=\"gloss\">and</span> <span class=\"otype xft\"><span class=\"f\">otype=</span>word</span> <span class=\"rank_lex xft\"><span class=\"f\">rank_lex=</span>0</span></div></div><div class=\"word  \" ><span class=\"nd\">635</span><div class=\"h\"><a target=\"_blank\" href=\"https://shebanq.ancient-data.org/hebrew/word?version=c&amp;id=1L\" title=\"show this lexeme in SHEBANQ\">לְ</a></div><div class=\"features\"> <span class=\"pdp\"><a href=\"https://shebanq.ancient-data.org/hebrew/text?book=Genesis&amp;chapter=1&amp;verse=30&amp;version=c&amp;mr=m&amp;qw=q&amp;tp=txt_p&amp;tr=hb&amp;wget=v&amp;qget=v&amp;nget=vt\" title=\"Genesis 1:30\" sec=\"Genesis 1:30\">prep</a></span> <span class=\"gloss\">to</span> <span class=\"otype xft\"><span class=\"f\">otype=</span>word</span> <span class=\"rank_lex xft\"><span class=\"f\">rank_lex=</span>2</span></div></div><div class=\"word  \" ><span class=\"nd\">636</span><div class=\"h\"><a target=\"_blank\" href=\"https://shebanq.ancient-data.org/hebrew/word?version=c&amp;id=1KLn\" title=\"show this lexeme in SHEBANQ\">כֹ֣ל׀ </a></div><div class=\"features\"> <span class=\"pdp\"><a href=\"https://shebanq.ancient-data.org/hebrew/text?book=Genesis&amp;chapter=1&amp;verse=30&amp;version=c&amp;mr=m&amp;qw=q&amp;tp=txt_p&amp;tr=hb&amp;wget=v&amp;qget=v&amp;nget=vt\" title=\"Genesis 1:30\" sec=\"Genesis 1:30\">subs</a></span> <span class=\"gloss\">whole</span> <span class=\"otype xft\"><span class=\"f\">otype=</span>word</span> <span class=\"rank_lex xft\"><span class=\"f\">rank_lex=</span>10</span></div></div><div class=\"word  \" ><span class=\"nd\">637</span><div class=\"h\"><a target=\"_blank\" href=\"https://shebanq.ancient-data.org/hebrew/word?version=c&amp;id=1RMFv\" title=\"show this lexeme in SHEBANQ\">רֹומֵ֣שׂ </a></div><div class=\"features\"> <span class=\"pdp\"><a href=\"https://shebanq.ancient-data.org/hebrew/text?book=Genesis&amp;chapter=1&amp;verse=30&amp;version=c&amp;mr=m&amp;qw=q&amp;tp=txt_p&amp;tr=hb&amp;wget=v&amp;qget=v&amp;nget=vt\" title=\"Genesis 1:30\" sec=\"Genesis 1:30\">subs</a></span> <span class=\"gloss\">creep</span> <span class=\"otype xft\"><span class=\"f\">otype=</span>word</span> <span class=\"rank_lex xft\"><span class=\"f\">rank_lex=</span>1596</span></div></div></div></div><div class=\"patom  r \" >\n",
       "        <div class=\"phrase \" >\n",
       "            <a href=\"https://shebanq.ancient-data.org/hebrew/text?book=Genesis&amp;chapter=1&amp;verse=30&amp;version=c&amp;mr=m&amp;qw=q&amp;tp=txt_p&amp;tr=hb&amp;wget=v&amp;qget=v&amp;nget=vt\" title=\"Genesis 1:30\" sec=\"Genesis 1:30\">phrase</a> <span class=\"nd\">651891</span> <div class=\"features\"> <span class=\"otype xft\"><span class=\"f\">otype=</span>phrase|phrase_atom</span></div>\n",
       "        </div>\n",
       "        <div class=\"atoms\">\n",
       "                    <div class=\"word  \" ><span class=\"nd\">638</span><div class=\"h\"><a target=\"_blank\" href=\"https://shebanq.ancient-data.org/hebrew/word?version=c&amp;id=1OL\" title=\"show this lexeme in SHEBANQ\">עַל־</a></div><div class=\"features\"> <span class=\"pdp\"><a href=\"https://shebanq.ancient-data.org/hebrew/text?book=Genesis&amp;chapter=1&amp;verse=30&amp;version=c&amp;mr=m&amp;qw=q&amp;tp=txt_p&amp;tr=hb&amp;wget=v&amp;qget=v&amp;nget=vt\" title=\"Genesis 1:30\" sec=\"Genesis 1:30\">prep</a></span> <span class=\"gloss\">upon</span> <span class=\"otype xft\"><span class=\"f\">otype=</span>word</span> <span class=\"rank_lex xft\"><span class=\"f\">rank_lex=</span>7</span></div></div><div class=\"word  \" ><span class=\"nd\">639</span><div class=\"h\"><a target=\"_blank\" href=\"https://shebanq.ancient-data.org/hebrew/word?version=c&amp;id=1H\" title=\"show this lexeme in SHEBANQ\">הָ</a></div><div class=\"features\"> <span class=\"pdp\"><a href=\"https://shebanq.ancient-data.org/hebrew/text?book=Genesis&amp;chapter=1&amp;verse=30&amp;version=c&amp;mr=m&amp;qw=q&amp;tp=txt_p&amp;tr=hb&amp;wget=v&amp;qget=v&amp;nget=vt\" title=\"Genesis 1:30\" sec=\"Genesis 1:30\">art</a></span> <span class=\"gloss\">the</span> <span class=\"otype xft\"><span class=\"f\">otype=</span>word</span> <span class=\"rank_lex xft\"><span class=\"f\">rank_lex=</span>1</span></div></div><div class=\"word  \" ><span class=\"nd\">640</span><div class=\"h\"><a target=\"_blank\" href=\"https://shebanq.ancient-data.org/hebrew/word?version=c&amp;id=1ARYn\" title=\"show this lexeme in SHEBANQ\">אָ֗רֶץ </a></div><div class=\"features\"> <span class=\"pdp\"><a href=\"https://shebanq.ancient-data.org/hebrew/text?book=Genesis&amp;chapter=1&amp;verse=30&amp;version=c&amp;mr=m&amp;qw=q&amp;tp=txt_p&amp;tr=hb&amp;wget=v&amp;qget=v&amp;nget=vt\" title=\"Genesis 1:30\" sec=\"Genesis 1:30\">subs</a></span> <span class=\"gloss\">earth</span> <span class=\"otype xft\"><span class=\"f\">otype=</span>word</span> <span class=\"rank_lex xft\"><span class=\"f\">rank_lex=</span>22</span></div></div></div></div></div></div><div class=\"catom  \" >\n",
       "        <div class=\"clause \" >\n",
       "            <a href=\"https://shebanq.ancient-data.org/hebrew/text?book=Genesis&amp;chapter=1&amp;verse=30&amp;version=c&amp;mr=m&amp;qw=q&amp;tp=txt_p&amp;tr=hb&amp;wget=v&amp;qget=v&amp;nget=vt\" title=\"Genesis 1:30\" sec=\"Genesis 1:30\">clause</a> <span class=\"nd\">427671</span>  <span class=\"rela\">Attr</span><div class=\"features\"> <span class=\"otype xft\"><span class=\"f\">otype=</span>clause|clause_atom</span></div>\n",
       "        </div>\n",
       "        <div class=\"atoms\">\n",
       "                    <div class=\"patom  \" >\n",
       "        <div class=\"phrase \" >\n",
       "            <a href=\"https://shebanq.ancient-data.org/hebrew/text?book=Genesis&amp;chapter=1&amp;verse=30&amp;version=c&amp;mr=m&amp;qw=q&amp;tp=txt_p&amp;tr=hb&amp;wget=v&amp;qget=v&amp;nget=vt\" title=\"Genesis 1:30\" sec=\"Genesis 1:30\">phrase</a> <span class=\"nd\">651892</span> <div class=\"features\"> <span class=\"otype xft\"><span class=\"f\">otype=</span>phrase|phrase_atom</span></div>\n",
       "        </div>\n",
       "        <div class=\"atoms\">\n",
       "                    <div class=\"word  \" ><span class=\"nd\">641</span><div class=\"h\"><a target=\"_blank\" href=\"https://shebanq.ancient-data.org/hebrew/word?version=c&amp;id=1ACR\" title=\"show this lexeme in SHEBANQ\">אֲשֶׁר־</a></div><div class=\"features\"> <span class=\"pdp\"><a href=\"https://shebanq.ancient-data.org/hebrew/text?book=Genesis&amp;chapter=1&amp;verse=30&amp;version=c&amp;mr=m&amp;qw=q&amp;tp=txt_p&amp;tr=hb&amp;wget=v&amp;qget=v&amp;nget=vt\" title=\"Genesis 1:30\" sec=\"Genesis 1:30\">conj</a></span> <span class=\"gloss\">&lt;relative></span> <span class=\"otype xft\"><span class=\"f\">otype=</span>word</span> <span class=\"rank_lex xft\"><span class=\"f\">rank_lex=</span>9</span></div></div></div></div><div class=\"patom  \" >\n",
       "        <div class=\"phrase \" >\n",
       "            <a href=\"https://shebanq.ancient-data.org/hebrew/text?book=Genesis&amp;chapter=1&amp;verse=30&amp;version=c&amp;mr=m&amp;qw=q&amp;tp=txt_p&amp;tr=hb&amp;wget=v&amp;qget=v&amp;nget=vt\" title=\"Genesis 1:30\" sec=\"Genesis 1:30\">phrase</a> <span class=\"nd\">651893</span> <div class=\"features\"> <span class=\"otype xft\"><span class=\"f\">otype=</span>phrase|phrase_atom</span></div>\n",
       "        </div>\n",
       "        <div class=\"atoms\">\n",
       "                    <div class=\"word  \" ><span class=\"nd\">642</span><div class=\"h\"><a target=\"_blank\" href=\"https://shebanq.ancient-data.org/hebrew/word?version=c&amp;id=1B\" title=\"show this lexeme in SHEBANQ\">בֹּו֙ </a></div><div class=\"features\"> <span class=\"pdp\"><a href=\"https://shebanq.ancient-data.org/hebrew/text?book=Genesis&amp;chapter=1&amp;verse=30&amp;version=c&amp;mr=m&amp;qw=q&amp;tp=txt_p&amp;tr=hb&amp;wget=v&amp;qget=v&amp;nget=vt\" title=\"Genesis 1:30\" sec=\"Genesis 1:30\">prep</a></span> <span class=\"gloss\">in</span> <span class=\"otype xft\"><span class=\"f\">otype=</span>word</span> <span class=\"rank_lex xft\"><span class=\"f\">rank_lex=</span>3</span></div></div></div></div><div class=\"patom  \" >\n",
       "        <div class=\"phrase \" >\n",
       "            <a href=\"https://shebanq.ancient-data.org/hebrew/text?book=Genesis&amp;chapter=1&amp;verse=30&amp;version=c&amp;mr=m&amp;qw=q&amp;tp=txt_p&amp;tr=hb&amp;wget=v&amp;qget=v&amp;nget=vt\" title=\"Genesis 1:30\" sec=\"Genesis 1:30\">phrase</a> <span class=\"nd\">651894</span> <div class=\"features\"> <span class=\"otype xft\"><span class=\"f\">otype=</span>phrase|phrase_atom</span></div>\n",
       "        </div>\n",
       "        <div class=\"atoms\">\n",
       "                    <div class=\"word  \" ><span class=\"nd\">643</span><div class=\"h\"><a target=\"_blank\" href=\"https://shebanq.ancient-data.org/hebrew/word?version=c&amp;id=1NPCn\" title=\"show this lexeme in SHEBANQ\">נֶ֣פֶשׁ </a></div><div class=\"features\"> <span class=\"pdp\"><a href=\"https://shebanq.ancient-data.org/hebrew/text?book=Genesis&amp;chapter=1&amp;verse=30&amp;version=c&amp;mr=m&amp;qw=q&amp;tp=txt_p&amp;tr=hb&amp;wget=v&amp;qget=v&amp;nget=vt\" title=\"Genesis 1:30\" sec=\"Genesis 1:30\">subs</a></span> <span class=\"gloss\">soul</span> <span class=\"otype xft\"><span class=\"f\">otype=</span>word</span> <span class=\"rank_lex xft\"><span class=\"f\">rank_lex=</span>67</span></div></div><div class=\"word  \" ><span class=\"nd\">644</span><div class=\"h\"><a target=\"_blank\" href=\"https://shebanq.ancient-data.org/hebrew/word?version=c&amp;id=1XJn\" title=\"show this lexeme in SHEBANQ\">חַיָּ֔ה </a></div><div class=\"features\"> <span class=\"pdp\"><a href=\"https://shebanq.ancient-data.org/hebrew/text?book=Genesis&amp;chapter=1&amp;verse=30&amp;version=c&amp;mr=m&amp;qw=q&amp;tp=txt_p&amp;tr=hb&amp;wget=v&amp;qget=v&amp;nget=vt\" title=\"Genesis 1:30\" sec=\"Genesis 1:30\">adjv</a></span> <span class=\"gloss\">alive</span> <span class=\"otype xft\"><span class=\"f\">otype=</span>word</span> <span class=\"rank_lex xft\"><span class=\"f\">rank_lex=</span>201</span></div></div></div></div></div></div><div class=\"catom  r \" >\n",
       "        <div class=\"clause \" >\n",
       "            <a href=\"https://shebanq.ancient-data.org/hebrew/text?book=Genesis&amp;chapter=1&amp;verse=30&amp;version=c&amp;mr=m&amp;qw=q&amp;tp=txt_p&amp;tr=hb&amp;wget=v&amp;qget=v&amp;nget=vt\" title=\"Genesis 1:30\" sec=\"Genesis 1:30\">clause</a> <span class=\"nd\">427670</span> <div class=\"features\"> <span class=\"otype xft\"><span class=\"f\">otype=</span>clause|clause_atom</span></div>\n",
       "        </div>\n",
       "        <div class=\"atoms\">\n",
       "                    <div class=\"patom  \" >\n",
       "        <div class=\"phrase \" >\n",
       "            <a href=\"https://shebanq.ancient-data.org/hebrew/text?book=Genesis&amp;chapter=1&amp;verse=30&amp;version=c&amp;mr=m&amp;qw=q&amp;tp=txt_p&amp;tr=hb&amp;wget=v&amp;qget=v&amp;nget=vt\" title=\"Genesis 1:30\" sec=\"Genesis 1:30\">phrase</a> <span class=\"nd\">651895</span> <div class=\"features\"> <span class=\"otype xft\"><span class=\"f\">otype=</span>phrase|phrase_atom</span></div>\n",
       "        </div>\n",
       "        <div class=\"atoms\">\n",
       "                    <div class=\"word  \" ><span class=\"nd\">645</span><div class=\"h\"><a target=\"_blank\" href=\"https://shebanq.ancient-data.org/hebrew/word?version=c&amp;id=1AT\" title=\"show this lexeme in SHEBANQ\">אֶת־</a></div><div class=\"features\"> <span class=\"pdp\"><a href=\"https://shebanq.ancient-data.org/hebrew/text?book=Genesis&amp;chapter=1&amp;verse=30&amp;version=c&amp;mr=m&amp;qw=q&amp;tp=txt_p&amp;tr=hb&amp;wget=v&amp;qget=v&amp;nget=vt\" title=\"Genesis 1:30\" sec=\"Genesis 1:30\">prep</a></span> <span class=\"gloss\">&lt;object marker></span> <span class=\"otype xft\"><span class=\"f\">otype=</span>word</span> <span class=\"rank_lex xft\"><span class=\"f\">rank_lex=</span>4</span></div></div><div class=\"word  \" ><span class=\"nd\">646</span><div class=\"h\"><a target=\"_blank\" href=\"https://shebanq.ancient-data.org/hebrew/word?version=c&amp;id=1KLn\" title=\"show this lexeme in SHEBANQ\">כָּל־</a></div><div class=\"features\"> <span class=\"pdp\"><a href=\"https://shebanq.ancient-data.org/hebrew/text?book=Genesis&amp;chapter=1&amp;verse=30&amp;version=c&amp;mr=m&amp;qw=q&amp;tp=txt_p&amp;tr=hb&amp;wget=v&amp;qget=v&amp;nget=vt\" title=\"Genesis 1:30\" sec=\"Genesis 1:30\">subs</a></span> <span class=\"gloss\">whole</span> <span class=\"otype xft\"><span class=\"f\">otype=</span>word</span> <span class=\"rank_lex xft\"><span class=\"f\">rank_lex=</span>10</span></div></div><div class=\"word  \" ><span class=\"nd\">647</span><div class=\"h\"><a target=\"_blank\" href=\"https://shebanq.ancient-data.org/hebrew/word?version=c&amp;id=1JRQn\" title=\"show this lexeme in SHEBANQ\">יֶ֥רֶק </a></div><div class=\"features\"> <span class=\"pdp\"><a href=\"https://shebanq.ancient-data.org/hebrew/text?book=Genesis&amp;chapter=1&amp;verse=30&amp;version=c&amp;mr=m&amp;qw=q&amp;tp=txt_p&amp;tr=hb&amp;wget=v&amp;qget=v&amp;nget=vt\" title=\"Genesis 1:30\" sec=\"Genesis 1:30\">subs</a></span> <span class=\"gloss\">greens</span> <span class=\"otype xft\"><span class=\"f\">otype=</span>word</span> <span class=\"rank_lex xft\"><span class=\"f\">rank_lex=</span>2866</span></div></div><div class=\"word  \" ><span class=\"nd\">648</span><div class=\"h\"><a target=\"_blank\" href=\"https://shebanq.ancient-data.org/hebrew/word?version=c&amp;id=1OFBn\" title=\"show this lexeme in SHEBANQ\">עֵ֖שֶׂב </a></div><div class=\"features\"> <span class=\"pdp\"><a href=\"https://shebanq.ancient-data.org/hebrew/text?book=Genesis&amp;chapter=1&amp;verse=30&amp;version=c&amp;mr=m&amp;qw=q&amp;tp=txt_p&amp;tr=hb&amp;wget=v&amp;qget=v&amp;nget=vt\" title=\"Genesis 1:30\" sec=\"Genesis 1:30\">subs</a></span> <span class=\"gloss\">herb</span> <span class=\"otype xft\"><span class=\"f\">otype=</span>word</span> <span class=\"rank_lex xft\"><span class=\"f\">rank_lex=</span>1030</span></div></div></div></div><div class=\"patom  \" >\n",
       "        <div class=\"phrase \" >\n",
       "            <a href=\"https://shebanq.ancient-data.org/hebrew/text?book=Genesis&amp;chapter=1&amp;verse=30&amp;version=c&amp;mr=m&amp;qw=q&amp;tp=txt_p&amp;tr=hb&amp;wget=v&amp;qget=v&amp;nget=vt\" title=\"Genesis 1:30\" sec=\"Genesis 1:30\">phrase</a> <span class=\"nd\">651896</span> <div class=\"features\"> <span class=\"otype xft\"><span class=\"f\">otype=</span>phrase|phrase_atom</span></div>\n",
       "        </div>\n",
       "        <div class=\"atoms\">\n",
       "                    <div class=\"word  \" ><span class=\"nd\">649</span><div class=\"h\"><a target=\"_blank\" href=\"https://shebanq.ancient-data.org/hebrew/word?version=c&amp;id=1L\" title=\"show this lexeme in SHEBANQ\">לְ</a></div><div class=\"features\"> <span class=\"pdp\"><a href=\"https://shebanq.ancient-data.org/hebrew/text?book=Genesis&amp;chapter=1&amp;verse=30&amp;version=c&amp;mr=m&amp;qw=q&amp;tp=txt_p&amp;tr=hb&amp;wget=v&amp;qget=v&amp;nget=vt\" title=\"Genesis 1:30\" sec=\"Genesis 1:30\">prep</a></span> <span class=\"gloss\">to</span> <span class=\"otype xft\"><span class=\"f\">otype=</span>word</span> <span class=\"rank_lex xft\"><span class=\"f\">rank_lex=</span>2</span></div></div><div class=\"word  \" ><span class=\"nd\">650</span><div class=\"h\"><a target=\"_blank\" href=\"https://shebanq.ancient-data.org/hebrew/word?version=c&amp;id=1AKLHn\" title=\"show this lexeme in SHEBANQ\">אָכְלָ֑ה </a></div><div class=\"features\"> <span class=\"pdp\"><a href=\"https://shebanq.ancient-data.org/hebrew/text?book=Genesis&amp;chapter=1&amp;verse=30&amp;version=c&amp;mr=m&amp;qw=q&amp;tp=txt_p&amp;tr=hb&amp;wget=v&amp;qget=v&amp;nget=vt\" title=\"Genesis 1:30\" sec=\"Genesis 1:30\">subs</a></span> <span class=\"gloss\">food</span> <span class=\"otype xft\"><span class=\"f\">otype=</span>word</span> <span class=\"rank_lex xft\"><span class=\"f\">rank_lex=</span>1543</span></div></div></div></div></div></div></div></div><div class=\"satom  \" >\n",
       "        <div class=\"sentence \" >\n",
       "            <a href=\"https://shebanq.ancient-data.org/hebrew/text?book=Genesis&amp;chapter=1&amp;verse=30&amp;version=c&amp;mr=m&amp;qw=q&amp;tp=txt_p&amp;tr=hb&amp;wget=v&amp;qget=v&amp;nget=vt\" title=\"Genesis 1:30\" sec=\"Genesis 1:30\">sentence</a> <span class=\"nd\">1172374</span>  <span class=\"number\">85|86</span><div class=\"features\"> <span class=\"otype xft\"><span class=\"f\">otype=</span>sentence|sentence_atom</span></div>\n",
       "        </div>\n",
       "        <div class=\"atoms\">\n",
       "                    <div class=\"catom  \" >\n",
       "        <div class=\"clause \" >\n",
       "            <a href=\"https://shebanq.ancient-data.org/hebrew/text?book=Genesis&amp;chapter=1&amp;verse=30&amp;version=c&amp;mr=m&amp;qw=q&amp;tp=txt_p&amp;tr=hb&amp;wget=v&amp;qget=v&amp;nget=vt\" title=\"Genesis 1:30\" sec=\"Genesis 1:30\">clause</a> <span class=\"nd\">427672</span> <div class=\"features\"> <span class=\"otype xft\"><span class=\"f\">otype=</span>clause|clause_atom</span></div>\n",
       "        </div>\n",
       "        <div class=\"atoms\">\n",
       "                    <div class=\"patom  \" >\n",
       "        <div class=\"phrase \" >\n",
       "            <a href=\"https://shebanq.ancient-data.org/hebrew/text?book=Genesis&amp;chapter=1&amp;verse=30&amp;version=c&amp;mr=m&amp;qw=q&amp;tp=txt_p&amp;tr=hb&amp;wget=v&amp;qget=v&amp;nget=vt\" title=\"Genesis 1:30\" sec=\"Genesis 1:30\">phrase</a> <span class=\"nd\">651897</span> <div class=\"features\"> <span class=\"otype xft\"><span class=\"f\">otype=</span>phrase|phrase_atom</span></div>\n",
       "        </div>\n",
       "        <div class=\"atoms\">\n",
       "                    <div class=\"word  \" ><span class=\"nd\">651</span><div class=\"h\"><a target=\"_blank\" href=\"https://shebanq.ancient-data.org/hebrew/word?version=c&amp;id=1W\" title=\"show this lexeme in SHEBANQ\">וַֽ</a></div><div class=\"features\"> <span class=\"pdp\"><a href=\"https://shebanq.ancient-data.org/hebrew/text?book=Genesis&amp;chapter=1&amp;verse=30&amp;version=c&amp;mr=m&amp;qw=q&amp;tp=txt_p&amp;tr=hb&amp;wget=v&amp;qget=v&amp;nget=vt\" title=\"Genesis 1:30\" sec=\"Genesis 1:30\">conj</a></span> <span class=\"gloss\">and</span> <span class=\"otype xft\"><span class=\"f\">otype=</span>word</span> <span class=\"rank_lex xft\"><span class=\"f\">rank_lex=</span>0</span></div></div></div></div><div class=\"patom  \" >\n",
       "        <div class=\"phrase \" >\n",
       "            <a href=\"https://shebanq.ancient-data.org/hebrew/text?book=Genesis&amp;chapter=1&amp;verse=30&amp;version=c&amp;mr=m&amp;qw=q&amp;tp=txt_p&amp;tr=hb&amp;wget=v&amp;qget=v&amp;nget=vt\" title=\"Genesis 1:30\" sec=\"Genesis 1:30\">phrase</a> <span class=\"nd\">651898</span> <div class=\"features\"> <span class=\"otype xft\"><span class=\"f\">otype=</span>phrase|phrase_atom</span></div>\n",
       "        </div>\n",
       "        <div class=\"atoms\">\n",
       "                    <div class=\"word  \" ><span class=\"nd\">652</span><div class=\"h\"><a target=\"_blank\" href=\"https://shebanq.ancient-data.org/hebrew/word?version=c&amp;id=1HJHv\" title=\"show this lexeme in SHEBANQ\">יְהִי־</a></div><div class=\"features\"> <span class=\"pdp\"><a href=\"https://shebanq.ancient-data.org/hebrew/text?book=Genesis&amp;chapter=1&amp;verse=30&amp;version=c&amp;mr=m&amp;qw=q&amp;tp=txt_p&amp;tr=hb&amp;wget=v&amp;qget=v&amp;nget=vt\" title=\"Genesis 1:30\" sec=\"Genesis 1:30\">verb</a></span> <span class=\"gloss\">be</span> <span class=\"otype xft\"><span class=\"f\">otype=</span>word</span> <span class=\"rank_lex xft\"><span class=\"f\">rank_lex=</span>15</span></div></div></div></div><div class=\"patom  \" >\n",
       "        <div class=\"phrase \" >\n",
       "            <a href=\"https://shebanq.ancient-data.org/hebrew/text?book=Genesis&amp;chapter=1&amp;verse=30&amp;version=c&amp;mr=m&amp;qw=q&amp;tp=txt_p&amp;tr=hb&amp;wget=v&amp;qget=v&amp;nget=vt\" title=\"Genesis 1:30\" sec=\"Genesis 1:30\">phrase</a> <span class=\"nd\">651899</span> <div class=\"features\"> <span class=\"otype xft\"><span class=\"f\">otype=</span>phrase|phrase_atom</span></div>\n",
       "        </div>\n",
       "        <div class=\"atoms\">\n",
       "                    <div class=\"word  \" ><span class=\"nd\">653</span><div class=\"h\"><a target=\"_blank\" href=\"https://shebanq.ancient-data.org/hebrew/word?version=c&amp;id=1KN\" title=\"show this lexeme in SHEBANQ\">כֵֽן׃ </a></div><div class=\"features\"> <span class=\"pdp\"><a href=\"https://shebanq.ancient-data.org/hebrew/text?book=Genesis&amp;chapter=1&amp;verse=30&amp;version=c&amp;mr=m&amp;qw=q&amp;tp=txt_p&amp;tr=hb&amp;wget=v&amp;qget=v&amp;nget=vt\" title=\"Genesis 1:30\" sec=\"Genesis 1:30\">advb</a></span> <span class=\"gloss\">thus</span> <span class=\"otype xft\"><span class=\"f\">otype=</span>word</span> <span class=\"rank_lex xft\"><span class=\"f\">rank_lex=</span>95</span></div></div></div></div></div></div></div></div></div></div>"
      ],
      "text/plain": [
       "<IPython.core.display.HTML object>"
      ]
     },
     "metadata": {},
     "output_type": "display_data"
    },
    {
     "data": {
      "text/html": [
       "<p><b>result</b> <i>7</i></p>"
      ],
      "text/plain": [
       "<IPython.core.display.HTML object>"
      ]
     },
     "metadata": {},
     "output_type": "display_data"
    },
    {
     "data": {
      "text/html": [
       "<div class=\"outeritem\"><div class=\"verse  \" >\n",
       "    <div class=\"vl\">\n",
       "        <div class=\"vrs\"><a href=\"https://shebanq.ancient-data.org/hebrew/text?book=Genesis&amp;chapter=2&amp;verse=2&amp;version=c&amp;mr=m&amp;qw=q&amp;tp=txt_p&amp;tr=hb&amp;wget=v&amp;qget=v&amp;nget=vt\" title=\"show this passage in SHEBANQ\" sec=\"Genesis 2:2\">Genesis 2:2</a></div>\n",
       "        <span class=\"nd\">1414386</span>\n",
       "    </div>\n",
       "<div class=\"satom  hl\"  style=\"background-color: magenta;\" >\n",
       "        <div class=\"sentence hl\"  style=\"background-color: magenta;\" >\n",
       "            <a href=\"https://shebanq.ancient-data.org/hebrew/text?book=Genesis&amp;chapter=2&amp;verse=2&amp;version=c&amp;mr=m&amp;qw=q&amp;tp=txt_p&amp;tr=hb&amp;wget=v&amp;qget=v&amp;nget=vt\" title=\"Genesis 2:2\" sec=\"Genesis 2:2\">sentence</a> <span class=\"nd\">1172381</span>  <span class=\"number\">2|93</span><div class=\"features\"> <span class=\"otype xft\"><span class=\"f\">otype=</span>sentence|sentence_atom</span></div>\n",
       "        </div>\n",
       "        <div class=\"atoms\">\n",
       "                    <div class=\"catom  \" >\n",
       "        <div class=\"clause \" >\n",
       "            <a href=\"https://shebanq.ancient-data.org/hebrew/text?book=Genesis&amp;chapter=2&amp;verse=2&amp;version=c&amp;mr=m&amp;qw=q&amp;tp=txt_p&amp;tr=hb&amp;wget=v&amp;qget=v&amp;nget=vt\" title=\"Genesis 2:2\" sec=\"Genesis 2:2\">clause</a> <span class=\"nd\">427680</span> <div class=\"features\"> <span class=\"otype xft\"><span class=\"f\">otype=</span>clause|clause_atom</span></div>\n",
       "        </div>\n",
       "        <div class=\"atoms\">\n",
       "                    <div class=\"patom  \" >\n",
       "        <div class=\"phrase \" >\n",
       "            <a href=\"https://shebanq.ancient-data.org/hebrew/text?book=Genesis&amp;chapter=2&amp;verse=2&amp;version=c&amp;mr=m&amp;qw=q&amp;tp=txt_p&amp;tr=hb&amp;wget=v&amp;qget=v&amp;nget=vt\" title=\"Genesis 2:2\" sec=\"Genesis 2:2\">phrase</a> <span class=\"nd\">651920</span> <div class=\"features\"> <span class=\"otype xft\"><span class=\"f\">otype=</span>phrase|phrase_atom</span></div>\n",
       "        </div>\n",
       "        <div class=\"atoms\">\n",
       "                    <div class=\"word  \" ><span class=\"nd\">684</span><div class=\"h\"><a target=\"_blank\" href=\"https://shebanq.ancient-data.org/hebrew/word?version=c&amp;id=1W\" title=\"show this lexeme in SHEBANQ\">וַ</a></div><div class=\"features\"> <span class=\"pdp\"><a href=\"https://shebanq.ancient-data.org/hebrew/text?book=Genesis&amp;chapter=2&amp;verse=2&amp;version=c&amp;mr=m&amp;qw=q&amp;tp=txt_p&amp;tr=hb&amp;wget=v&amp;qget=v&amp;nget=vt\" title=\"Genesis 2:2\" sec=\"Genesis 2:2\">conj</a></span> <span class=\"gloss\">and</span> <span class=\"otype xft\"><span class=\"f\">otype=</span>word</span> <span class=\"rank_lex xft\"><span class=\"f\">rank_lex=</span>0</span></div></div></div></div><div class=\"patom  \" >\n",
       "        <div class=\"phrase \" >\n",
       "            <a href=\"https://shebanq.ancient-data.org/hebrew/text?book=Genesis&amp;chapter=2&amp;verse=2&amp;version=c&amp;mr=m&amp;qw=q&amp;tp=txt_p&amp;tr=hb&amp;wget=v&amp;qget=v&amp;nget=vt\" title=\"Genesis 2:2\" sec=\"Genesis 2:2\">phrase</a> <span class=\"nd\">651921</span> <div class=\"features\"> <span class=\"otype xft\"><span class=\"f\">otype=</span>phrase|phrase_atom</span></div>\n",
       "        </div>\n",
       "        <div class=\"atoms\">\n",
       "                    <div class=\"word  \" ><span class=\"nd\">685</span><div class=\"h\"><a target=\"_blank\" href=\"https://shebanq.ancient-data.org/hebrew/word?version=c&amp;id=1KLHv\" title=\"show this lexeme in SHEBANQ\">יְכַ֤ל </a></div><div class=\"features\"> <span class=\"pdp\"><a href=\"https://shebanq.ancient-data.org/hebrew/text?book=Genesis&amp;chapter=2&amp;verse=2&amp;version=c&amp;mr=m&amp;qw=q&amp;tp=txt_p&amp;tr=hb&amp;wget=v&amp;qget=v&amp;nget=vt\" title=\"Genesis 2:2\" sec=\"Genesis 2:2\">verb</a></span> <span class=\"gloss\">be complete</span> <span class=\"otype xft\"><span class=\"f\">otype=</span>word</span> <span class=\"rank_lex xft\"><span class=\"f\">rank_lex=</span>236</span></div></div></div></div><div class=\"patom  \" >\n",
       "        <div class=\"phrase \" >\n",
       "            <a href=\"https://shebanq.ancient-data.org/hebrew/text?book=Genesis&amp;chapter=2&amp;verse=2&amp;version=c&amp;mr=m&amp;qw=q&amp;tp=txt_p&amp;tr=hb&amp;wget=v&amp;qget=v&amp;nget=vt\" title=\"Genesis 2:2\" sec=\"Genesis 2:2\">phrase</a> <span class=\"nd\">651922</span> <div class=\"features\"> <span class=\"otype xft\"><span class=\"f\">otype=</span>phrase|phrase_atom</span></div>\n",
       "        </div>\n",
       "        <div class=\"atoms\">\n",
       "                    <div class=\"word  \" ><span class=\"nd\">686</span><div class=\"h\"><a target=\"_blank\" href=\"https://shebanq.ancient-data.org/hebrew/word?version=c&amp;id=1ALHJMn\" title=\"show this lexeme in SHEBANQ\">אֱלֹהִים֙ </a></div><div class=\"features\"> <span class=\"pdp\"><a href=\"https://shebanq.ancient-data.org/hebrew/text?book=Genesis&amp;chapter=2&amp;verse=2&amp;version=c&amp;mr=m&amp;qw=q&amp;tp=txt_p&amp;tr=hb&amp;wget=v&amp;qget=v&amp;nget=vt\" title=\"Genesis 2:2\" sec=\"Genesis 2:2\">subs</a></span> <span class=\"gloss\">god(s)</span> <span class=\"otype xft\"><span class=\"f\">otype=</span>word</span> <span class=\"rank_lex xft\"><span class=\"f\">rank_lex=</span>18</span></div></div></div></div><div class=\"patom  \" >\n",
       "        <div class=\"phrase \" >\n",
       "            <a href=\"https://shebanq.ancient-data.org/hebrew/text?book=Genesis&amp;chapter=2&amp;verse=2&amp;version=c&amp;mr=m&amp;qw=q&amp;tp=txt_p&amp;tr=hb&amp;wget=v&amp;qget=v&amp;nget=vt\" title=\"Genesis 2:2\" sec=\"Genesis 2:2\">phrase</a> <span class=\"nd\">651923</span> <div class=\"features\"> <span class=\"otype xft\"><span class=\"f\">otype=</span>phrase|phrase_atom</span></div>\n",
       "        </div>\n",
       "        <div class=\"atoms\">\n",
       "                    <div class=\"word  \" ><span class=\"nd\">687</span><div class=\"h\"><a target=\"_blank\" href=\"https://shebanq.ancient-data.org/hebrew/word?version=c&amp;id=1B\" title=\"show this lexeme in SHEBANQ\">בַּ</a></div><div class=\"features\"> <span class=\"pdp\"><a href=\"https://shebanq.ancient-data.org/hebrew/text?book=Genesis&amp;chapter=2&amp;verse=2&amp;version=c&amp;mr=m&amp;qw=q&amp;tp=txt_p&amp;tr=hb&amp;wget=v&amp;qget=v&amp;nget=vt\" title=\"Genesis 2:2\" sec=\"Genesis 2:2\">prep</a></span> <span class=\"gloss\">in</span> <span class=\"otype xft\"><span class=\"f\">otype=</span>word</span> <span class=\"rank_lex xft\"><span class=\"f\">rank_lex=</span>3</span></div></div><div class=\"word  \" ><span class=\"nd\">688</span><div class=\"h\"><a target=\"_blank\" href=\"https://shebanq.ancient-data.org/hebrew/word?version=c&amp;id=1H\" title=\"show this lexeme in SHEBANQ\"></a></div><div class=\"features\"> <span class=\"pdp\"><a href=\"https://shebanq.ancient-data.org/hebrew/text?book=Genesis&amp;chapter=2&amp;verse=2&amp;version=c&amp;mr=m&amp;qw=q&amp;tp=txt_p&amp;tr=hb&amp;wget=v&amp;qget=v&amp;nget=vt\" title=\"Genesis 2:2\" sec=\"Genesis 2:2\">art</a></span> <span class=\"gloss\">the</span> <span class=\"otype xft\"><span class=\"f\">otype=</span>word</span> <span class=\"rank_lex xft\"><span class=\"f\">rank_lex=</span>1</span></div></div><div class=\"word  \" ><span class=\"nd\">689</span><div class=\"h\"><a target=\"_blank\" href=\"https://shebanq.ancient-data.org/hebrew/word?version=c&amp;id=1JWMn\" title=\"show this lexeme in SHEBANQ\">יֹּ֣ום </a></div><div class=\"features\"> <span class=\"pdp\"><a href=\"https://shebanq.ancient-data.org/hebrew/text?book=Genesis&amp;chapter=2&amp;verse=2&amp;version=c&amp;mr=m&amp;qw=q&amp;tp=txt_p&amp;tr=hb&amp;wget=v&amp;qget=v&amp;nget=vt\" title=\"Genesis 2:2\" sec=\"Genesis 2:2\">subs</a></span> <span class=\"gloss\">day</span> <span class=\"otype xft\"><span class=\"f\">otype=</span>word</span> <span class=\"rank_lex xft\"><span class=\"f\">rank_lex=</span>23</span></div></div><div class=\"word  \" ><span class=\"nd\">690</span><div class=\"h\"><a target=\"_blank\" href=\"https://shebanq.ancient-data.org/hebrew/word?version=c&amp;id=1H\" title=\"show this lexeme in SHEBANQ\">הַ</a></div><div class=\"features\"> <span class=\"pdp\"><a href=\"https://shebanq.ancient-data.org/hebrew/text?book=Genesis&amp;chapter=2&amp;verse=2&amp;version=c&amp;mr=m&amp;qw=q&amp;tp=txt_p&amp;tr=hb&amp;wget=v&amp;qget=v&amp;nget=vt\" title=\"Genesis 2:2\" sec=\"Genesis 2:2\">art</a></span> <span class=\"gloss\">the</span> <span class=\"otype xft\"><span class=\"f\">otype=</span>word</span> <span class=\"rank_lex xft\"><span class=\"f\">rank_lex=</span>1</span></div></div><div class=\"word  \" ><span class=\"nd\">691</span><div class=\"h\"><a target=\"_blank\" href=\"https://shebanq.ancient-data.org/hebrew/word?version=c&amp;id=1CBJOJn\" title=\"show this lexeme in SHEBANQ\">שְּׁבִיעִ֔י </a></div><div class=\"features\"> <span class=\"pdp\"><a href=\"https://shebanq.ancient-data.org/hebrew/text?book=Genesis&amp;chapter=2&amp;verse=2&amp;version=c&amp;mr=m&amp;qw=q&amp;tp=txt_p&amp;tr=hb&amp;wget=v&amp;qget=v&amp;nget=vt\" title=\"Genesis 2:2\" sec=\"Genesis 2:2\">adjv</a></span> <span class=\"gloss\">seventh</span> <span class=\"otype xft\"><span class=\"f\">otype=</span>word</span> <span class=\"rank_lex xft\"><span class=\"f\">rank_lex=</span>428</span></div></div></div></div><div class=\"patom  \" >\n",
       "        <div class=\"phrase \" >\n",
       "            <a href=\"https://shebanq.ancient-data.org/hebrew/text?book=Genesis&amp;chapter=2&amp;verse=2&amp;version=c&amp;mr=m&amp;qw=q&amp;tp=txt_p&amp;tr=hb&amp;wget=v&amp;qget=v&amp;nget=vt\" title=\"Genesis 2:2\" sec=\"Genesis 2:2\">phrase</a> <span class=\"nd\">651924</span> <div class=\"features\"> <span class=\"otype xft\"><span class=\"f\">otype=</span>phrase|phrase_atom</span></div>\n",
       "        </div>\n",
       "        <div class=\"atoms\">\n",
       "                    <div class=\"word  \" ><span class=\"nd\">692</span><div class=\"h\"><a target=\"_blank\" href=\"https://shebanq.ancient-data.org/hebrew/word?version=c&amp;id=1MLAKTn\" title=\"show this lexeme in SHEBANQ\">מְלַאכְתֹּ֖ו </a></div><div class=\"features\"> <span class=\"pdp\"><a href=\"https://shebanq.ancient-data.org/hebrew/text?book=Genesis&amp;chapter=2&amp;verse=2&amp;version=c&amp;mr=m&amp;qw=q&amp;tp=txt_p&amp;tr=hb&amp;wget=v&amp;qget=v&amp;nget=vt\" title=\"Genesis 2:2\" sec=\"Genesis 2:2\">subs</a></span> <span class=\"gloss\">work</span> <span class=\"otype xft\"><span class=\"f\">otype=</span>word</span> <span class=\"rank_lex xft\"><span class=\"f\">rank_lex=</span>605</span></div></div></div></div></div></div><div class=\"catom  hl\"  style=\"background-color: cyan;\" >\n",
       "        <div class=\"clause hl\"  style=\"background-color: cyan;\" >\n",
       "            <a href=\"https://shebanq.ancient-data.org/hebrew/text?book=Genesis&amp;chapter=2&amp;verse=2&amp;version=c&amp;mr=m&amp;qw=q&amp;tp=txt_p&amp;tr=hb&amp;wget=v&amp;qget=v&amp;nget=vt\" title=\"Genesis 2:2\" sec=\"Genesis 2:2\">clause</a> <span class=\"nd\">427681</span>  <span class=\"rela\">Attr</span><div class=\"features\"> <span class=\"otype xft\"><span class=\"f\">otype=</span>clause|clause_atom</span></div>\n",
       "        </div>\n",
       "        <div class=\"atoms\">\n",
       "                    <div class=\"patom  \" >\n",
       "        <div class=\"phrase \" >\n",
       "            <a href=\"https://shebanq.ancient-data.org/hebrew/text?book=Genesis&amp;chapter=2&amp;verse=2&amp;version=c&amp;mr=m&amp;qw=q&amp;tp=txt_p&amp;tr=hb&amp;wget=v&amp;qget=v&amp;nget=vt\" title=\"Genesis 2:2\" sec=\"Genesis 2:2\">phrase</a> <span class=\"nd\">651925</span> <div class=\"features\"> <span class=\"otype xft\"><span class=\"f\">otype=</span>phrase|phrase_atom</span></div>\n",
       "        </div>\n",
       "        <div class=\"atoms\">\n",
       "                    <div class=\"word  \" ><span class=\"nd\">693</span><div class=\"h\"><a target=\"_blank\" href=\"https://shebanq.ancient-data.org/hebrew/word?version=c&amp;id=1ACR\" title=\"show this lexeme in SHEBANQ\">אֲשֶׁ֣ר </a></div><div class=\"features\"> <span class=\"pdp\"><a href=\"https://shebanq.ancient-data.org/hebrew/text?book=Genesis&amp;chapter=2&amp;verse=2&amp;version=c&amp;mr=m&amp;qw=q&amp;tp=txt_p&amp;tr=hb&amp;wget=v&amp;qget=v&amp;nget=vt\" title=\"Genesis 2:2\" sec=\"Genesis 2:2\">conj</a></span> <span class=\"gloss\">&lt;relative></span> <span class=\"otype xft\"><span class=\"f\">otype=</span>word</span> <span class=\"rank_lex xft\"><span class=\"f\">rank_lex=</span>9</span></div></div></div></div><div class=\"patom  \" >\n",
       "        <div class=\"phrase \" >\n",
       "            <a href=\"https://shebanq.ancient-data.org/hebrew/text?book=Genesis&amp;chapter=2&amp;verse=2&amp;version=c&amp;mr=m&amp;qw=q&amp;tp=txt_p&amp;tr=hb&amp;wget=v&amp;qget=v&amp;nget=vt\" title=\"Genesis 2:2\" sec=\"Genesis 2:2\">phrase</a> <span class=\"nd\">651926</span> <div class=\"features\"> <span class=\"otype xft\"><span class=\"f\">otype=</span>phrase|phrase_atom</span></div>\n",
       "        </div>\n",
       "        <div class=\"atoms\">\n",
       "                    <div class=\"word  \" ><span class=\"nd\">694</span><div class=\"h\"><a target=\"_blank\" href=\"https://shebanq.ancient-data.org/hebrew/word?version=c&amp;id=1OFHv\" title=\"show this lexeme in SHEBANQ\">עָשָׂ֑ה </a></div><div class=\"features\"> <span class=\"pdp\"><a href=\"https://shebanq.ancient-data.org/hebrew/text?book=Genesis&amp;chapter=2&amp;verse=2&amp;version=c&amp;mr=m&amp;qw=q&amp;tp=txt_p&amp;tr=hb&amp;wget=v&amp;qget=v&amp;nget=vt\" title=\"Genesis 2:2\" sec=\"Genesis 2:2\">verb</a></span> <span class=\"gloss\">make</span> <span class=\"otype xft\"><span class=\"f\">otype=</span>word</span> <span class=\"rank_lex xft\"><span class=\"f\">rank_lex=</span>17</span></div></div></div></div></div></div></div></div><div class=\"satom  \" >\n",
       "        <div class=\"sentence \" >\n",
       "            <a href=\"https://shebanq.ancient-data.org/hebrew/text?book=Genesis&amp;chapter=2&amp;verse=2&amp;version=c&amp;mr=m&amp;qw=q&amp;tp=txt_p&amp;tr=hb&amp;wget=v&amp;qget=v&amp;nget=vt\" title=\"Genesis 2:2\" sec=\"Genesis 2:2\">sentence</a> <span class=\"nd\">1172382</span>  <span class=\"number\">3|94</span><div class=\"features\"> <span class=\"otype xft\"><span class=\"f\">otype=</span>sentence|sentence_atom</span></div>\n",
       "        </div>\n",
       "        <div class=\"atoms\">\n",
       "                    <div class=\"catom  \" >\n",
       "        <div class=\"clause \" >\n",
       "            <a href=\"https://shebanq.ancient-data.org/hebrew/text?book=Genesis&amp;chapter=2&amp;verse=2&amp;version=c&amp;mr=m&amp;qw=q&amp;tp=txt_p&amp;tr=hb&amp;wget=v&amp;qget=v&amp;nget=vt\" title=\"Genesis 2:2\" sec=\"Genesis 2:2\">clause</a> <span class=\"nd\">427682</span> <div class=\"features\"> <span class=\"otype xft\"><span class=\"f\">otype=</span>clause|clause_atom</span></div>\n",
       "        </div>\n",
       "        <div class=\"atoms\">\n",
       "                    <div class=\"patom  \" >\n",
       "        <div class=\"phrase \" >\n",
       "            <a href=\"https://shebanq.ancient-data.org/hebrew/text?book=Genesis&amp;chapter=2&amp;verse=2&amp;version=c&amp;mr=m&amp;qw=q&amp;tp=txt_p&amp;tr=hb&amp;wget=v&amp;qget=v&amp;nget=vt\" title=\"Genesis 2:2\" sec=\"Genesis 2:2\">phrase</a> <span class=\"nd\">651927</span> <div class=\"features\"> <span class=\"otype xft\"><span class=\"f\">otype=</span>phrase|phrase_atom</span></div>\n",
       "        </div>\n",
       "        <div class=\"atoms\">\n",
       "                    <div class=\"word  \" ><span class=\"nd\">695</span><div class=\"h\"><a target=\"_blank\" href=\"https://shebanq.ancient-data.org/hebrew/word?version=c&amp;id=1W\" title=\"show this lexeme in SHEBANQ\">וַ</a></div><div class=\"features\"> <span class=\"pdp\"><a href=\"https://shebanq.ancient-data.org/hebrew/text?book=Genesis&amp;chapter=2&amp;verse=2&amp;version=c&amp;mr=m&amp;qw=q&amp;tp=txt_p&amp;tr=hb&amp;wget=v&amp;qget=v&amp;nget=vt\" title=\"Genesis 2:2\" sec=\"Genesis 2:2\">conj</a></span> <span class=\"gloss\">and</span> <span class=\"otype xft\"><span class=\"f\">otype=</span>word</span> <span class=\"rank_lex xft\"><span class=\"f\">rank_lex=</span>0</span></div></div></div></div><div class=\"patom  \" >\n",
       "        <div class=\"phrase \" >\n",
       "            <a href=\"https://shebanq.ancient-data.org/hebrew/text?book=Genesis&amp;chapter=2&amp;verse=2&amp;version=c&amp;mr=m&amp;qw=q&amp;tp=txt_p&amp;tr=hb&amp;wget=v&amp;qget=v&amp;nget=vt\" title=\"Genesis 2:2\" sec=\"Genesis 2:2\">phrase</a> <span class=\"nd\">651928</span> <div class=\"features\"> <span class=\"otype xft\"><span class=\"f\">otype=</span>phrase|phrase_atom</span></div>\n",
       "        </div>\n",
       "        <div class=\"atoms\">\n",
       "                    <div class=\"word  \" ><span class=\"nd\">696</span><div class=\"h\"><a target=\"_blank\" href=\"https://shebanq.ancient-data.org/hebrew/word?version=c&amp;id=1CBTv\" title=\"show this lexeme in SHEBANQ\">יִּשְׁבֹּת֙ </a></div><div class=\"features\"> <span class=\"pdp\"><a href=\"https://shebanq.ancient-data.org/hebrew/text?book=Genesis&amp;chapter=2&amp;verse=2&amp;version=c&amp;mr=m&amp;qw=q&amp;tp=txt_p&amp;tr=hb&amp;wget=v&amp;qget=v&amp;nget=vt\" title=\"Genesis 2:2\" sec=\"Genesis 2:2\">verb</a></span> <span class=\"gloss\">cease</span> <span class=\"otype xft\"><span class=\"f\">otype=</span>word</span> <span class=\"rank_lex xft\"><span class=\"f\">rank_lex=</span>555</span></div></div></div></div><div class=\"patom  \" >\n",
       "        <div class=\"phrase \" >\n",
       "            <a href=\"https://shebanq.ancient-data.org/hebrew/text?book=Genesis&amp;chapter=2&amp;verse=2&amp;version=c&amp;mr=m&amp;qw=q&amp;tp=txt_p&amp;tr=hb&amp;wget=v&amp;qget=v&amp;nget=vt\" title=\"Genesis 2:2\" sec=\"Genesis 2:2\">phrase</a> <span class=\"nd\">651929</span> <div class=\"features\"> <span class=\"otype xft\"><span class=\"f\">otype=</span>phrase|phrase_atom</span></div>\n",
       "        </div>\n",
       "        <div class=\"atoms\">\n",
       "                    <div class=\"word  \" ><span class=\"nd\">697</span><div class=\"h\"><a target=\"_blank\" href=\"https://shebanq.ancient-data.org/hebrew/word?version=c&amp;id=1B\" title=\"show this lexeme in SHEBANQ\">בַּ</a></div><div class=\"features\"> <span class=\"pdp\"><a href=\"https://shebanq.ancient-data.org/hebrew/text?book=Genesis&amp;chapter=2&amp;verse=2&amp;version=c&amp;mr=m&amp;qw=q&amp;tp=txt_p&amp;tr=hb&amp;wget=v&amp;qget=v&amp;nget=vt\" title=\"Genesis 2:2\" sec=\"Genesis 2:2\">prep</a></span> <span class=\"gloss\">in</span> <span class=\"otype xft\"><span class=\"f\">otype=</span>word</span> <span class=\"rank_lex xft\"><span class=\"f\">rank_lex=</span>3</span></div></div><div class=\"word  \" ><span class=\"nd\">698</span><div class=\"h\"><a target=\"_blank\" href=\"https://shebanq.ancient-data.org/hebrew/word?version=c&amp;id=1H\" title=\"show this lexeme in SHEBANQ\"></a></div><div class=\"features\"> <span class=\"pdp\"><a href=\"https://shebanq.ancient-data.org/hebrew/text?book=Genesis&amp;chapter=2&amp;verse=2&amp;version=c&amp;mr=m&amp;qw=q&amp;tp=txt_p&amp;tr=hb&amp;wget=v&amp;qget=v&amp;nget=vt\" title=\"Genesis 2:2\" sec=\"Genesis 2:2\">art</a></span> <span class=\"gloss\">the</span> <span class=\"otype xft\"><span class=\"f\">otype=</span>word</span> <span class=\"rank_lex xft\"><span class=\"f\">rank_lex=</span>1</span></div></div><div class=\"word  \" ><span class=\"nd\">699</span><div class=\"h\"><a target=\"_blank\" href=\"https://shebanq.ancient-data.org/hebrew/word?version=c&amp;id=1JWMn\" title=\"show this lexeme in SHEBANQ\">יֹּ֣ום </a></div><div class=\"features\"> <span class=\"pdp\"><a href=\"https://shebanq.ancient-data.org/hebrew/text?book=Genesis&amp;chapter=2&amp;verse=2&amp;version=c&amp;mr=m&amp;qw=q&amp;tp=txt_p&amp;tr=hb&amp;wget=v&amp;qget=v&amp;nget=vt\" title=\"Genesis 2:2\" sec=\"Genesis 2:2\">subs</a></span> <span class=\"gloss\">day</span> <span class=\"otype xft\"><span class=\"f\">otype=</span>word</span> <span class=\"rank_lex xft\"><span class=\"f\">rank_lex=</span>23</span></div></div><div class=\"word  \" ><span class=\"nd\">700</span><div class=\"h\"><a target=\"_blank\" href=\"https://shebanq.ancient-data.org/hebrew/word?version=c&amp;id=1H\" title=\"show this lexeme in SHEBANQ\">הַ</a></div><div class=\"features\"> <span class=\"pdp\"><a href=\"https://shebanq.ancient-data.org/hebrew/text?book=Genesis&amp;chapter=2&amp;verse=2&amp;version=c&amp;mr=m&amp;qw=q&amp;tp=txt_p&amp;tr=hb&amp;wget=v&amp;qget=v&amp;nget=vt\" title=\"Genesis 2:2\" sec=\"Genesis 2:2\">art</a></span> <span class=\"gloss\">the</span> <span class=\"otype xft\"><span class=\"f\">otype=</span>word</span> <span class=\"rank_lex xft\"><span class=\"f\">rank_lex=</span>1</span></div></div><div class=\"word  \" ><span class=\"nd\">701</span><div class=\"h\"><a target=\"_blank\" href=\"https://shebanq.ancient-data.org/hebrew/word?version=c&amp;id=1CBJOJn\" title=\"show this lexeme in SHEBANQ\">שְּׁבִיעִ֔י </a></div><div class=\"features\"> <span class=\"pdp\"><a href=\"https://shebanq.ancient-data.org/hebrew/text?book=Genesis&amp;chapter=2&amp;verse=2&amp;version=c&amp;mr=m&amp;qw=q&amp;tp=txt_p&amp;tr=hb&amp;wget=v&amp;qget=v&amp;nget=vt\" title=\"Genesis 2:2\" sec=\"Genesis 2:2\">adjv</a></span> <span class=\"gloss\">seventh</span> <span class=\"otype xft\"><span class=\"f\">otype=</span>word</span> <span class=\"rank_lex xft\"><span class=\"f\">rank_lex=</span>428</span></div></div></div></div><div class=\"patom  \" >\n",
       "        <div class=\"phrase \" >\n",
       "            <a href=\"https://shebanq.ancient-data.org/hebrew/text?book=Genesis&amp;chapter=2&amp;verse=2&amp;version=c&amp;mr=m&amp;qw=q&amp;tp=txt_p&amp;tr=hb&amp;wget=v&amp;qget=v&amp;nget=vt\" title=\"Genesis 2:2\" sec=\"Genesis 2:2\">phrase</a> <span class=\"nd\">651930</span> <div class=\"features\"> <span class=\"otype xft\"><span class=\"f\">otype=</span>phrase|phrase_atom</span></div>\n",
       "        </div>\n",
       "        <div class=\"atoms\">\n",
       "                    <div class=\"word  \" ><span class=\"nd\">702</span><div class=\"h\"><a target=\"_blank\" href=\"https://shebanq.ancient-data.org/hebrew/word?version=c&amp;id=1MN\" title=\"show this lexeme in SHEBANQ\">מִ</a></div><div class=\"features\"> <span class=\"pdp\"><a href=\"https://shebanq.ancient-data.org/hebrew/text?book=Genesis&amp;chapter=2&amp;verse=2&amp;version=c&amp;mr=m&amp;qw=q&amp;tp=txt_p&amp;tr=hb&amp;wget=v&amp;qget=v&amp;nget=vt\" title=\"Genesis 2:2\" sec=\"Genesis 2:2\">prep</a></span> <span class=\"gloss\">from</span> <span class=\"otype xft\"><span class=\"f\">otype=</span>word</span> <span class=\"rank_lex xft\"><span class=\"f\">rank_lex=</span>5</span></div></div><div class=\"word  \" ><span class=\"nd\">703</span><div class=\"h\"><a target=\"_blank\" href=\"https://shebanq.ancient-data.org/hebrew/word?version=c&amp;id=1KLn\" title=\"show this lexeme in SHEBANQ\">כָּל־</a></div><div class=\"features\"> <span class=\"pdp\"><a href=\"https://shebanq.ancient-data.org/hebrew/text?book=Genesis&amp;chapter=2&amp;verse=2&amp;version=c&amp;mr=m&amp;qw=q&amp;tp=txt_p&amp;tr=hb&amp;wget=v&amp;qget=v&amp;nget=vt\" title=\"Genesis 2:2\" sec=\"Genesis 2:2\">subs</a></span> <span class=\"gloss\">whole</span> <span class=\"otype xft\"><span class=\"f\">otype=</span>word</span> <span class=\"rank_lex xft\"><span class=\"f\">rank_lex=</span>10</span></div></div><div class=\"word  \" ><span class=\"nd\">704</span><div class=\"h\"><a target=\"_blank\" href=\"https://shebanq.ancient-data.org/hebrew/word?version=c&amp;id=1MLAKTn\" title=\"show this lexeme in SHEBANQ\">מְלַאכְתֹּ֖ו </a></div><div class=\"features\"> <span class=\"pdp\"><a href=\"https://shebanq.ancient-data.org/hebrew/text?book=Genesis&amp;chapter=2&amp;verse=2&amp;version=c&amp;mr=m&amp;qw=q&amp;tp=txt_p&amp;tr=hb&amp;wget=v&amp;qget=v&amp;nget=vt\" title=\"Genesis 2:2\" sec=\"Genesis 2:2\">subs</a></span> <span class=\"gloss\">work</span> <span class=\"otype xft\"><span class=\"f\">otype=</span>word</span> <span class=\"rank_lex xft\"><span class=\"f\">rank_lex=</span>605</span></div></div></div></div></div></div><div class=\"catom  \" >\n",
       "        <div class=\"clause \" >\n",
       "            <a href=\"https://shebanq.ancient-data.org/hebrew/text?book=Genesis&amp;chapter=2&amp;verse=2&amp;version=c&amp;mr=m&amp;qw=q&amp;tp=txt_p&amp;tr=hb&amp;wget=v&amp;qget=v&amp;nget=vt\" title=\"Genesis 2:2\" sec=\"Genesis 2:2\">clause</a> <span class=\"nd\">427683</span>  <span class=\"rela\">Attr</span><div class=\"features\"> <span class=\"otype xft\"><span class=\"f\">otype=</span>clause|clause_atom</span></div>\n",
       "        </div>\n",
       "        <div class=\"atoms\">\n",
       "                    <div class=\"patom  \" >\n",
       "        <div class=\"phrase \" >\n",
       "            <a href=\"https://shebanq.ancient-data.org/hebrew/text?book=Genesis&amp;chapter=2&amp;verse=2&amp;version=c&amp;mr=m&amp;qw=q&amp;tp=txt_p&amp;tr=hb&amp;wget=v&amp;qget=v&amp;nget=vt\" title=\"Genesis 2:2\" sec=\"Genesis 2:2\">phrase</a> <span class=\"nd\">651931</span> <div class=\"features\"> <span class=\"otype xft\"><span class=\"f\">otype=</span>phrase|phrase_atom</span></div>\n",
       "        </div>\n",
       "        <div class=\"atoms\">\n",
       "                    <div class=\"word  \" ><span class=\"nd\">705</span><div class=\"h\"><a target=\"_blank\" href=\"https://shebanq.ancient-data.org/hebrew/word?version=c&amp;id=1ACR\" title=\"show this lexeme in SHEBANQ\">אֲשֶׁ֥ר </a></div><div class=\"features\"> <span class=\"pdp\"><a href=\"https://shebanq.ancient-data.org/hebrew/text?book=Genesis&amp;chapter=2&amp;verse=2&amp;version=c&amp;mr=m&amp;qw=q&amp;tp=txt_p&amp;tr=hb&amp;wget=v&amp;qget=v&amp;nget=vt\" title=\"Genesis 2:2\" sec=\"Genesis 2:2\">conj</a></span> <span class=\"gloss\">&lt;relative></span> <span class=\"otype xft\"><span class=\"f\">otype=</span>word</span> <span class=\"rank_lex xft\"><span class=\"f\">rank_lex=</span>9</span></div></div></div></div><div class=\"patom  \" >\n",
       "        <div class=\"phrase \" >\n",
       "            <a href=\"https://shebanq.ancient-data.org/hebrew/text?book=Genesis&amp;chapter=2&amp;verse=2&amp;version=c&amp;mr=m&amp;qw=q&amp;tp=txt_p&amp;tr=hb&amp;wget=v&amp;qget=v&amp;nget=vt\" title=\"Genesis 2:2\" sec=\"Genesis 2:2\">phrase</a> <span class=\"nd\">651932</span> <div class=\"features\"> <span class=\"otype xft\"><span class=\"f\">otype=</span>phrase|phrase_atom</span></div>\n",
       "        </div>\n",
       "        <div class=\"atoms\">\n",
       "                    <div class=\"word  \" ><span class=\"nd\">706</span><div class=\"h\"><a target=\"_blank\" href=\"https://shebanq.ancient-data.org/hebrew/word?version=c&amp;id=1OFHv\" title=\"show this lexeme in SHEBANQ\">עָשָֽׂה׃ </a></div><div class=\"features\"> <span class=\"pdp\"><a href=\"https://shebanq.ancient-data.org/hebrew/text?book=Genesis&amp;chapter=2&amp;verse=2&amp;version=c&amp;mr=m&amp;qw=q&amp;tp=txt_p&amp;tr=hb&amp;wget=v&amp;qget=v&amp;nget=vt\" title=\"Genesis 2:2\" sec=\"Genesis 2:2\">verb</a></span> <span class=\"gloss\">make</span> <span class=\"otype xft\"><span class=\"f\">otype=</span>word</span> <span class=\"rank_lex xft\"><span class=\"f\">rank_lex=</span>17</span></div></div></div></div></div></div></div></div></div></div>"
      ],
      "text/plain": [
       "<IPython.core.display.HTML object>"
      ]
     },
     "metadata": {},
     "output_type": "display_data"
    }
   ],
   "source": [
    "A.displaySetup(extraFeatures='rank_lex')\n",
    "highlights = {}\n",
    "for (sentence, clause) in results:\n",
    "    highlights[sentence] = 'magenta'\n",
    "    highlights[clause] = 'cyan'\n",
    "    for w in L.d(sentence, otype='word'):\n",
    "        if F.rank_lex.v(w) > RARE_RANK:\n",
    "            highlights[w] = 'magenta'\n",
    "    for w in L.d(clause, otype='word'):\n",
    "        if F.rank_lex.v(w) < COMMON_RANK:\n",
    "            highlights[w] = 'cyan'\n",
    "A.show(results, condensed=False, start=6, end=7, suppress={'sp', 'vt', 'vs', 'function', 'typ'}, highlights=highlights, withNodes=True)"
   ]
  },
  {
   "cell_type": "markdown",
   "metadata": {},
   "source": [
    "Now infrequent sentences ending in a frequent word:"
   ]
  },
  {
   "cell_type": "code",
   "execution_count": 50,
   "metadata": {},
   "outputs": [
    {
     "name": "stdout",
     "output_type": "stream",
     "text": [
      "  1.53s 10793 results\n"
     ]
    },
    {
     "data": {
      "text/html": [
       "<table>\n",
       "<tr class=\"tf\">\n",
       "  <th class=\"tf\">n</th><th class=\"tf\">p</th>\n",
       "  <th class=\"tf\">sentence</th><th>word</th>\n",
       "</tr>\n",
       "\n",
       "<tr class=\"tf\"><td class=\"tf\">1</td><td class=\"tf\"> <a href=\"https://shebanq.ancient-data.org/hebrew/text?book=Genesis&amp;chapter=1&amp;verse=1&amp;version=c&amp;mr=m&amp;qw=q&amp;tp=txt_p&amp;tr=hb&amp;wget=v&amp;qget=v&amp;nget=vt\" title=\"show this passage in SHEBANQ\" sec=\"Genesis 1:1\">Genesis 1:1</a></td><td class=\"tf\"><a href=\"https://shebanq.ancient-data.org/hebrew/text?book=Genesis&amp;chapter=1&amp;verse=1&amp;version=c&amp;mr=m&amp;qw=q&amp;tp=txt_p&amp;tr=hb&amp;wget=v&amp;qget=v&amp;nget=vt\" title=\"Genesis 1:1\" sec=\"Genesis 1:1\"><span class=\"plain outer  rtl \"><span class=\"plain rtl  hlbx\" ><span class=\"plain rtl  \" ><span class=\"plain rtl  \" ><span class=\"plain rtl  \" ><span class=\"plain rtl  \" ><span class=\"h\">בְּ</span></span><span class=\"plain rtl  \" ><span class=\"h\">רֵאשִׁ֖ית </span></span></span><span class=\"plain rtl  \" ><span class=\"plain rtl  \" ><span class=\"h\">בָּרָ֣א </span></span></span><span class=\"plain rtl  \" ><span class=\"plain rtl  \" ><span class=\"h\">אֱלֹהִ֑ים </span></span></span><span class=\"plain rtl  \" ><span class=\"plain rtl  \" ><span class=\"h\">אֵ֥ת </span></span><span class=\"plain rtl  \" ><span class=\"h\">הַ</span></span><span class=\"plain rtl  \" ><span class=\"h\">שָּׁמַ֖יִם </span></span><span class=\"plain rtl  \" ><span class=\"h\">וְ</span></span><span class=\"plain rtl  \" ><span class=\"h\">אֵ֥ת </span></span><span class=\"plain rtl  \" ><span class=\"h\">הָ</span></span><span class=\"plain rtl  hl\" ><span class=\"h\">אָֽרֶץ׃ </span></span></span></span></span></span></span></a></td><td class=\"tf\"><span class=\"plain outer  rtl  hl\" ><span class=\"h\">אָֽרֶץ׃ </span></span></td></tr>\n",
       "<tr class=\"tf\"><td class=\"tf\">2</td><td class=\"tf\"> <a href=\"https://shebanq.ancient-data.org/hebrew/text?book=Genesis&amp;chapter=1&amp;verse=2&amp;version=c&amp;mr=m&amp;qw=q&amp;tp=txt_p&amp;tr=hb&amp;wget=v&amp;qget=v&amp;nget=vt\" title=\"show this passage in SHEBANQ\" sec=\"Genesis 1:2\">Genesis 1:2</a></td><td class=\"tf\"><a href=\"https://shebanq.ancient-data.org/hebrew/text?book=Genesis&amp;chapter=1&amp;verse=2&amp;version=c&amp;mr=m&amp;qw=q&amp;tp=txt_p&amp;tr=hb&amp;wget=v&amp;qget=v&amp;nget=vt\" title=\"Genesis 1:2\" sec=\"Genesis 1:2\"><span class=\"plain outer  rtl \"><span class=\"plain rtl  hlbx\" ><span class=\"plain rtl  \" ><span class=\"plain rtl  \" ><span class=\"plain rtl  \" ><span class=\"plain rtl  \" ><span class=\"h\">וְ</span></span></span><span class=\"plain rtl  \" ><span class=\"plain rtl  \" ><span class=\"h\">ר֣וּחַ </span></span><span class=\"plain rtl  \" ><span class=\"h\">אֱלֹהִ֔ים </span></span></span><span class=\"plain rtl  \" ><span class=\"plain rtl  \" ><span class=\"h\">מְרַחֶ֖פֶת </span></span></span><span class=\"plain rtl  \" ><span class=\"plain rtl  \" ><span class=\"h\">עַל־</span></span><span class=\"plain rtl  \" ><span class=\"h\">פְּנֵ֥י </span></span><span class=\"plain rtl  \" ><span class=\"h\">הַ</span></span><span class=\"plain rtl  hl\" ><span class=\"h\">מָּֽיִם׃ </span></span></span></span></span></span></span></a></td><td class=\"tf\"><span class=\"plain outer  rtl  hl\" ><span class=\"h\">מָּֽיִם׃ </span></span></td></tr>\n",
       "<tr class=\"tf\"><td class=\"tf\">3</td><td class=\"tf\"> <a href=\"https://shebanq.ancient-data.org/hebrew/text?book=Genesis&amp;chapter=1&amp;verse=6&amp;version=c&amp;mr=m&amp;qw=q&amp;tp=txt_p&amp;tr=hb&amp;wget=v&amp;qget=v&amp;nget=vt\" title=\"show this passage in SHEBANQ\" sec=\"Genesis 1:6\">Genesis 1:6</a></td><td class=\"tf\"><a href=\"https://shebanq.ancient-data.org/hebrew/text?book=Genesis&amp;chapter=1&amp;verse=6&amp;version=c&amp;mr=m&amp;qw=q&amp;tp=txt_p&amp;tr=hb&amp;wget=v&amp;qget=v&amp;nget=vt\" title=\"Genesis 1:6\" sec=\"Genesis 1:6\"><span class=\"plain outer  rtl \"><span class=\"plain rtl  hlbx\" ><span class=\"plain rtl  \" ><span class=\"plain rtl  \" ><span class=\"plain rtl  \" ><span class=\"plain rtl  \" ><span class=\"h\">יְהִ֥י </span></span></span><span class=\"plain rtl  \" ><span class=\"plain rtl  \" ><span class=\"h\">רָקִ֖יעַ </span></span></span><span class=\"plain rtl  \" ><span class=\"plain rtl  \" ><span class=\"h\">בְּ</span></span><span class=\"plain rtl  \" ><span class=\"h\">תֹ֣וךְ </span></span><span class=\"plain rtl  \" ><span class=\"h\">הַ</span></span><span class=\"plain rtl  hl\" ><span class=\"h\">מָּ֑יִם </span></span></span></span></span></span></span></a></td><td class=\"tf\"><span class=\"plain outer  rtl  hl\" ><span class=\"h\">מָּ֑יִם </span></span></td></tr>\n",
       "<tr class=\"tf\"><td class=\"tf\">4</td><td class=\"tf\"> <a href=\"https://shebanq.ancient-data.org/hebrew/text?book=Genesis&amp;chapter=1&amp;verse=6&amp;version=c&amp;mr=m&amp;qw=q&amp;tp=txt_p&amp;tr=hb&amp;wget=v&amp;qget=v&amp;nget=vt\" title=\"show this passage in SHEBANQ\" sec=\"Genesis 1:6\">Genesis 1:6</a></td><td class=\"tf\"><a href=\"https://shebanq.ancient-data.org/hebrew/text?book=Genesis&amp;chapter=1&amp;verse=6&amp;version=c&amp;mr=m&amp;qw=q&amp;tp=txt_p&amp;tr=hb&amp;wget=v&amp;qget=v&amp;nget=vt\" title=\"Genesis 1:6\" sec=\"Genesis 1:6\"><span class=\"plain outer  rtl \"><span class=\"plain rtl  hlbx\" ><span class=\"plain rtl  \" ><span class=\"plain rtl  \" ><span class=\"plain rtl  \" ><span class=\"plain rtl  \" ><span class=\"h\">וִ</span></span></span><span class=\"plain rtl  \" ><span class=\"plain rtl  \" ><span class=\"h\">יהִ֣י </span></span></span><span class=\"plain rtl  \" ><span class=\"plain rtl  \" ><span class=\"h\">מַבְדִּ֔יל </span></span></span><span class=\"plain rtl  \" ><span class=\"plain rtl  \" ><span class=\"h\">בֵּ֥ין </span></span><span class=\"plain rtl  \" ><span class=\"h\">מַ֖יִם </span></span></span><span class=\"plain rtl  \" ><span class=\"plain rtl  \" ><span class=\"h\">לָ</span></span><span class=\"plain rtl  hl\" ><span class=\"h\">מָֽיִם׃ </span></span></span></span></span></span></span></a></td><td class=\"tf\"><span class=\"plain outer  rtl  hl\" ><span class=\"h\">מָֽיִם׃ </span></span></td></tr>\n",
       "<tr class=\"tf\"><td class=\"tf\">5</td><td class=\"tf\"> <a href=\"https://shebanq.ancient-data.org/hebrew/text?book=Genesis&amp;chapter=1&amp;verse=9&amp;version=c&amp;mr=m&amp;qw=q&amp;tp=txt_p&amp;tr=hb&amp;wget=v&amp;qget=v&amp;nget=vt\" title=\"show this passage in SHEBANQ\" sec=\"Genesis 1:9\">Genesis 1:9</a></td><td class=\"tf\"><a href=\"https://shebanq.ancient-data.org/hebrew/text?book=Genesis&amp;chapter=1&amp;verse=9&amp;version=c&amp;mr=m&amp;qw=q&amp;tp=txt_p&amp;tr=hb&amp;wget=v&amp;qget=v&amp;nget=vt\" title=\"Genesis 1:9\" sec=\"Genesis 1:9\"><span class=\"plain outer  rtl \"><span class=\"plain rtl  hlbx\" ><span class=\"plain rtl  \" ><span class=\"plain rtl  \" ><span class=\"plain rtl  \" ><span class=\"plain rtl  \" ><span class=\"h\">יִקָּו֨וּ </span></span></span><span class=\"plain rtl  \" ><span class=\"plain rtl  \" ><span class=\"h\">הַ</span></span><span class=\"plain rtl  \" ><span class=\"h\">מַּ֜יִם </span></span></span><span class=\"plain rtl  \" ><span class=\"plain rtl  \" ><span class=\"h\">מִ</span></span><span class=\"plain rtl  \" ><span class=\"h\">תַּ֤חַת </span></span><span class=\"plain rtl  \" ><span class=\"h\">הַ</span></span><span class=\"plain rtl  \" ><span class=\"h\">שָּׁמַ֨יִם֙ </span></span></span><span class=\"plain rtl  \" ><span class=\"plain rtl  \" ><span class=\"h\">אֶל־</span></span><span class=\"plain rtl  \" ><span class=\"h\">מָקֹ֣ום </span></span><span class=\"plain rtl  hl\" ><span class=\"h\">אֶחָ֔ד </span></span></span></span></span></span></span></a></td><td class=\"tf\"><span class=\"plain outer  rtl  hl\" ><span class=\"h\">אֶחָ֔ד </span></span></td></tr>\n",
       "<tr class=\"tf\"><td class=\"tf\">6</td><td class=\"tf\"> <a href=\"https://shebanq.ancient-data.org/hebrew/text?book=Genesis&amp;chapter=1&amp;verse=10&amp;version=c&amp;mr=m&amp;qw=q&amp;tp=txt_p&amp;tr=hb&amp;wget=v&amp;qget=v&amp;nget=vt\" title=\"show this passage in SHEBANQ\" sec=\"Genesis 1:10\">Genesis 1:10</a></td><td class=\"tf\"><a href=\"https://shebanq.ancient-data.org/hebrew/text?book=Genesis&amp;chapter=1&amp;verse=10&amp;version=c&amp;mr=m&amp;qw=q&amp;tp=txt_p&amp;tr=hb&amp;wget=v&amp;qget=v&amp;nget=vt\" title=\"Genesis 1:10\" sec=\"Genesis 1:10\"><span class=\"plain outer  rtl \"><span class=\"plain rtl  hlbx\" ><span class=\"plain rtl  \" ><span class=\"plain rtl  \" ><span class=\"plain rtl  \" ><span class=\"plain rtl  \" ><span class=\"h\">וַ</span></span></span><span class=\"plain rtl  \" ><span class=\"plain rtl  \" ><span class=\"h\">יִּקְרָ֨א </span></span></span><span class=\"plain rtl  \" ><span class=\"plain rtl  \" ><span class=\"h\">אֱלֹהִ֤ים׀ </span></span></span><span class=\"plain rtl  \" ><span class=\"plain rtl  \" ><span class=\"h\">לַ</span></span><span class=\"plain rtl  \" ><span class=\"h\"></span></span><span class=\"plain rtl  \" ><span class=\"h\">יַּבָּשָׁה֙ </span></span></span><span class=\"plain rtl  \" ><span class=\"plain rtl  hl\" ><span class=\"h\">אֶ֔רֶץ </span></span></span></span></span></span></span></a></td><td class=\"tf\"><span class=\"plain outer  rtl  hl\" ><span class=\"h\">אֶ֔רֶץ </span></span></td></tr>\n",
       "<tr class=\"tf\"><td class=\"tf\">7</td><td class=\"tf\"> <a href=\"https://shebanq.ancient-data.org/hebrew/text?book=Genesis&amp;chapter=1&amp;verse=11&amp;version=c&amp;mr=m&amp;qw=q&amp;tp=txt_p&amp;tr=hb&amp;wget=v&amp;qget=v&amp;nget=vt\" title=\"show this passage in SHEBANQ\" sec=\"Genesis 1:11\">Genesis 1:11</a></td><td class=\"tf\"><a href=\"https://shebanq.ancient-data.org/hebrew/text?book=Genesis&amp;chapter=1&amp;verse=11&amp;version=c&amp;mr=m&amp;qw=q&amp;tp=txt_p&amp;tr=hb&amp;wget=v&amp;qget=v&amp;nget=vt\" title=\"Genesis 1:11\" sec=\"Genesis 1:11\"><span class=\"plain outer  rtl \"><span class=\"plain rtl  hlbx\" ><span class=\"plain rtl  \" ><span class=\"plain rtl  \" ><span class=\"plain rtl  \" ><span class=\"plain rtl  \" ><span class=\"h\">תַּֽדְשֵׁ֤א </span></span></span><span class=\"plain rtl  \" ><span class=\"plain rtl  \" ><span class=\"h\">הָ</span></span><span class=\"plain rtl  \" ><span class=\"h\">אָ֨רֶץ֙ </span></span></span><span class=\"plain rtl  \" ><span class=\"plain rtl  \" ><span class=\"h\">דֶּ֔שֶׁא </span></span></span><span class=\"plain rtl  \" ><span class=\"plain rtl  \" ><span class=\"h\">עֵ֚שֶׂב </span></span></span></span><span class=\"plain rtl  \" ><span class=\"plain rtl  \" ><span class=\"plain rtl  \" ><span class=\"h\">מַזְרִ֣יעַ </span></span></span><span class=\"plain rtl  \" ><span class=\"plain rtl  \" ><span class=\"h\">זֶ֔רַע </span></span></span></span><span class=\"plain rtl  \" ><span class=\"plain rtl  \" ><span class=\"plain rtl  \" ><span class=\"h\">עֵ֣ץ </span></span><span class=\"plain rtl  \" ><span class=\"h\">פְּרִ֞י </span></span></span></span><span class=\"plain rtl  \" ><span class=\"plain rtl  \" ><span class=\"plain rtl  \" ><span class=\"h\">עֹ֤שֶׂה </span></span></span><span class=\"plain rtl  \" ><span class=\"plain rtl  \" ><span class=\"h\">פְּרִי֙ </span></span></span><span class=\"plain rtl  \" ><span class=\"plain rtl  \" ><span class=\"h\">לְ</span></span><span class=\"plain rtl  \" ><span class=\"h\">מִינֹ֔ו </span></span></span></span><span class=\"plain rtl  \" ><span class=\"plain rtl  \" ><span class=\"plain rtl  \" ><span class=\"h\">אֲשֶׁ֥ר </span></span></span><span class=\"plain rtl  \" ><span class=\"plain rtl  \" ><span class=\"h\">זַרְעֹו־</span></span></span><span class=\"plain rtl  \" ><span class=\"plain rtl  \" ><span class=\"h\">בֹ֖ו </span></span></span></span><span class=\"plain rtl  \" ><span class=\"plain rtl  \" ><span class=\"plain rtl  \" ><span class=\"h\">עַל־</span></span><span class=\"plain rtl  \" ><span class=\"h\">הָ</span></span><span class=\"plain rtl  hl\" ><span class=\"h\">אָ֑רֶץ </span></span></span></span></span></span></span></a></td><td class=\"tf\"><span class=\"plain outer  rtl  hl\" ><span class=\"h\">אָ֑רֶץ </span></span></td></tr>\n",
       "<tr class=\"tf\"><td class=\"tf\">8</td><td class=\"tf\"> <a href=\"https://shebanq.ancient-data.org/hebrew/text?book=Genesis&amp;chapter=1&amp;verse=15&amp;version=c&amp;mr=m&amp;qw=q&amp;tp=txt_p&amp;tr=hb&amp;wget=v&amp;qget=v&amp;nget=vt\" title=\"show this passage in SHEBANQ\" sec=\"Genesis 1:15\">Genesis 1:15</a></td><td class=\"tf\"><a href=\"https://shebanq.ancient-data.org/hebrew/text?book=Genesis&amp;chapter=1&amp;verse=15&amp;version=c&amp;mr=m&amp;qw=q&amp;tp=txt_p&amp;tr=hb&amp;wget=v&amp;qget=v&amp;nget=vt\" title=\"Genesis 1:15\" sec=\"Genesis 1:15\"><span class=\"plain outer  rtl \"><span class=\"plain rtl  hlbx\" ><span class=\"plain rtl  \" ><span class=\"plain rtl  \" ><span class=\"plain rtl  \" ><span class=\"plain rtl  \" ><span class=\"h\">וְ</span></span></span><span class=\"plain rtl  \" ><span class=\"plain rtl  \" ><span class=\"h\">הָי֤וּ </span></span></span><span class=\"plain rtl  \" ><span class=\"plain rtl  \" ><span class=\"h\">לִ</span></span><span class=\"plain rtl  \" ><span class=\"h\">מְאֹורֹת֙ </span></span></span><span class=\"plain rtl  \" ><span class=\"plain rtl  \" ><span class=\"h\">בִּ</span></span><span class=\"plain rtl  \" ><span class=\"h\">רְקִ֣יעַ </span></span><span class=\"plain rtl  \" ><span class=\"h\">הַ</span></span><span class=\"plain rtl  \" ><span class=\"h\">שָּׁמַ֔יִם </span></span></span></span><span class=\"plain rtl  \" ><span class=\"plain rtl  \" ><span class=\"plain rtl  \" ><span class=\"h\">לְ</span></span><span class=\"plain rtl  \" ><span class=\"h\">הָאִ֖יר </span></span></span><span class=\"plain rtl  \" ><span class=\"plain rtl  \" ><span class=\"h\">עַל־</span></span><span class=\"plain rtl  \" ><span class=\"h\">הָ</span></span><span class=\"plain rtl  hl\" ><span class=\"h\">אָ֑רֶץ </span></span></span></span></span></span></span></a></td><td class=\"tf\"><span class=\"plain outer  rtl  hl\" ><span class=\"h\">אָ֑רֶץ </span></span></td></tr>\n",
       "<tr class=\"tf\"><td class=\"tf\">9</td><td class=\"tf\"> <a href=\"https://shebanq.ancient-data.org/hebrew/text?book=Genesis&amp;chapter=1&amp;verse=22&amp;version=c&amp;mr=m&amp;qw=q&amp;tp=txt_p&amp;tr=hb&amp;wget=v&amp;qget=v&amp;nget=vt\" title=\"show this passage in SHEBANQ\" sec=\"Genesis 1:22\">Genesis 1:22</a></td><td class=\"tf\"><a href=\"https://shebanq.ancient-data.org/hebrew/text?book=Genesis&amp;chapter=1&amp;verse=22&amp;version=c&amp;mr=m&amp;qw=q&amp;tp=txt_p&amp;tr=hb&amp;wget=v&amp;qget=v&amp;nget=vt\" title=\"Genesis 1:22\" sec=\"Genesis 1:22\"><span class=\"plain outer  rtl \"><span class=\"plain rtl  hlbx\" ><span class=\"plain rtl  \" ><span class=\"plain rtl  \" ><span class=\"plain rtl  \" ><span class=\"plain rtl  \" ><span class=\"h\">וְ</span></span></span><span class=\"plain rtl  \" ><span class=\"plain rtl  \" ><span class=\"h\">הָ</span></span><span class=\"plain rtl  \" ><span class=\"h\">עֹ֖וף </span></span></span><span class=\"plain rtl  \" ><span class=\"plain rtl  \" ><span class=\"h\">יִ֥רֶב </span></span></span><span class=\"plain rtl  \" ><span class=\"plain rtl  \" ><span class=\"h\">בָּ</span></span><span class=\"plain rtl  \" ><span class=\"h\"></span></span><span class=\"plain rtl  hl\" ><span class=\"h\">אָֽרֶץ׃ </span></span></span></span></span></span></span></a></td><td class=\"tf\"><span class=\"plain outer  rtl  hl\" ><span class=\"h\">אָֽרֶץ׃ </span></span></td></tr>\n",
       "<tr class=\"tf\"><td class=\"tf\">10</td><td class=\"tf\"> <a href=\"https://shebanq.ancient-data.org/hebrew/text?book=Genesis&amp;chapter=1&amp;verse=26&amp;version=c&amp;mr=m&amp;qw=q&amp;tp=txt_p&amp;tr=hb&amp;wget=v&amp;qget=v&amp;nget=vt\" title=\"show this passage in SHEBANQ\" sec=\"Genesis 1:26\">Genesis 1:26</a></td><td class=\"tf\"><a href=\"https://shebanq.ancient-data.org/hebrew/text?book=Genesis&amp;chapter=1&amp;verse=26&amp;version=c&amp;mr=m&amp;qw=q&amp;tp=txt_p&amp;tr=hb&amp;wget=v&amp;qget=v&amp;nget=vt\" title=\"Genesis 1:26\" sec=\"Genesis 1:26\"><span class=\"plain outer  rtl \"><span class=\"plain rtl  hlbx\" ><span class=\"plain rtl  \" ><span class=\"plain rtl  \" ><span class=\"plain rtl  \" ><span class=\"plain rtl  \" ><span class=\"h\">וְ</span></span></span><span class=\"plain rtl  \" ><span class=\"plain rtl  \" ><span class=\"h\">יִרְדּוּ֩ </span></span></span><span class=\"plain rtl  \" ><span class=\"plain rtl  \" ><span class=\"h\">בִ</span></span><span class=\"plain rtl  \" ><span class=\"h\">דְגַ֨ת </span></span><span class=\"plain rtl  \" ><span class=\"h\">הַ</span></span><span class=\"plain rtl  \" ><span class=\"h\">יָּ֜ם </span></span><span class=\"plain rtl  \" ><span class=\"h\">וּ</span></span><span class=\"plain rtl  \" ><span class=\"h\">בְ</span></span><span class=\"plain rtl  \" ><span class=\"h\">עֹ֣וף </span></span><span class=\"plain rtl  \" ><span class=\"h\">הַ</span></span><span class=\"plain rtl  \" ><span class=\"h\">שָּׁמַ֗יִם </span></span><span class=\"plain rtl  \" ><span class=\"h\">וּ</span></span><span class=\"plain rtl  \" ><span class=\"h\">בַ</span></span><span class=\"plain rtl  \" ><span class=\"h\"></span></span><span class=\"plain rtl  \" ><span class=\"h\">בְּהֵמָה֙ </span></span><span class=\"plain rtl  \" ><span class=\"h\">וּ</span></span><span class=\"plain rtl  \" ><span class=\"h\">בְ</span></span><span class=\"plain rtl  \" ><span class=\"h\">כָל־</span></span><span class=\"plain rtl  \" ><span class=\"h\">הָ</span></span><span class=\"plain rtl  \" ><span class=\"h\">אָ֔רֶץ </span></span></span><span class=\"plain rtl  \" ><span class=\"plain rtl  \" ><span class=\"h\">וּ</span></span></span><span class=\"plain rtl  \" ><span class=\"plain rtl  \" ><span class=\"h\">בְ</span></span><span class=\"plain rtl  \" ><span class=\"h\">כָל־</span></span><span class=\"plain rtl  \" ><span class=\"h\">הָ</span></span><span class=\"plain rtl  \" ><span class=\"h\">רֶ֖מֶשׂ </span></span></span></span><span class=\"plain rtl  \" ><span class=\"plain rtl  \" ><span class=\"plain rtl  \" ><span class=\"h\">הָֽ</span></span></span><span class=\"plain rtl  \" ><span class=\"plain rtl  \" ><span class=\"h\">רֹמֵ֥שׂ </span></span></span><span class=\"plain rtl  \" ><span class=\"plain rtl  \" ><span class=\"h\">עַל־</span></span><span class=\"plain rtl  \" ><span class=\"h\">הָ</span></span><span class=\"plain rtl  hl\" ><span class=\"h\">אָֽרֶץ׃ </span></span></span></span></span></span></span></a></td><td class=\"tf\"><span class=\"plain outer  rtl  hl\" ><span class=\"h\">אָֽרֶץ׃ </span></span></td></tr></table>"
      ],
      "text/plain": [
       "<IPython.core.display.HTML object>"
      ]
     },
     "metadata": {},
     "output_type": "display_data"
    }
   ],
   "source": [
    "query = '''\n",
    "infrequent otype=sentence\n",
    "  := frequent otype=word\n",
    "'''\n",
    "results = A.search(query, sets=customSets)\n",
    "A.table(results, start=1, end=10)"
   ]
  },
  {
   "cell_type": "markdown",
   "metadata": {},
   "source": [
    "As a check, we replace the custom set `frequent` by the ordinary type `word` with a rank condition."
   ]
  },
  {
   "cell_type": "code",
   "execution_count": 51,
   "metadata": {},
   "outputs": [
    {
     "name": "stdout",
     "output_type": "stream",
     "text": [
      "  1.07s 10793 results\n"
     ]
    },
    {
     "data": {
      "text/html": [
       "<table>\n",
       "<tr class=\"tf\">\n",
       "  <th class=\"tf\">n</th><th class=\"tf\">p</th>\n",
       "  <th class=\"tf\">sentence</th><th>word</th>\n",
       "</tr>\n",
       "\n",
       "<tr class=\"tf\"><td class=\"tf\">1</td><td class=\"tf\"> <a href=\"https://shebanq.ancient-data.org/hebrew/text?book=Genesis&amp;chapter=1&amp;verse=1&amp;version=c&amp;mr=m&amp;qw=q&amp;tp=txt_p&amp;tr=hb&amp;wget=v&amp;qget=v&amp;nget=vt\" title=\"show this passage in SHEBANQ\" sec=\"Genesis 1:1\">Genesis 1:1</a></td><td class=\"tf\"><a href=\"https://shebanq.ancient-data.org/hebrew/text?book=Genesis&amp;chapter=1&amp;verse=1&amp;version=c&amp;mr=m&amp;qw=q&amp;tp=txt_p&amp;tr=hb&amp;wget=v&amp;qget=v&amp;nget=vt\" title=\"Genesis 1:1\" sec=\"Genesis 1:1\"><span class=\"plain outer  rtl \"><span class=\"plain rtl  hlbx\" ><span class=\"plain rtl  \" ><span class=\"plain rtl  \" ><span class=\"plain rtl  \" ><span class=\"plain rtl  \" ><span class=\"h\">בְּ</span></span><span class=\"plain rtl  \" ><span class=\"h\">רֵאשִׁ֖ית </span></span></span><span class=\"plain rtl  \" ><span class=\"plain rtl  \" ><span class=\"h\">בָּרָ֣א </span></span></span><span class=\"plain rtl  \" ><span class=\"plain rtl  \" ><span class=\"h\">אֱלֹהִ֑ים </span></span></span><span class=\"plain rtl  \" ><span class=\"plain rtl  \" ><span class=\"h\">אֵ֥ת </span></span><span class=\"plain rtl  \" ><span class=\"h\">הַ</span></span><span class=\"plain rtl  \" ><span class=\"h\">שָּׁמַ֖יִם </span></span><span class=\"plain rtl  \" ><span class=\"h\">וְ</span></span><span class=\"plain rtl  \" ><span class=\"h\">אֵ֥ת </span></span><span class=\"plain rtl  \" ><span class=\"h\">הָ</span></span><span class=\"plain rtl  hl\" ><span class=\"h\">אָֽרֶץ׃ </span></span></span></span></span></span></span></a></td><td class=\"tf\"><span class=\"plain outer  rtl  hl\" ><span class=\"h\">אָֽרֶץ׃ </span></span></td></tr>\n",
       "<tr class=\"tf\"><td class=\"tf\">2</td><td class=\"tf\"> <a href=\"https://shebanq.ancient-data.org/hebrew/text?book=Genesis&amp;chapter=1&amp;verse=2&amp;version=c&amp;mr=m&amp;qw=q&amp;tp=txt_p&amp;tr=hb&amp;wget=v&amp;qget=v&amp;nget=vt\" title=\"show this passage in SHEBANQ\" sec=\"Genesis 1:2\">Genesis 1:2</a></td><td class=\"tf\"><a href=\"https://shebanq.ancient-data.org/hebrew/text?book=Genesis&amp;chapter=1&amp;verse=2&amp;version=c&amp;mr=m&amp;qw=q&amp;tp=txt_p&amp;tr=hb&amp;wget=v&amp;qget=v&amp;nget=vt\" title=\"Genesis 1:2\" sec=\"Genesis 1:2\"><span class=\"plain outer  rtl \"><span class=\"plain rtl  hlbx\" ><span class=\"plain rtl  \" ><span class=\"plain rtl  \" ><span class=\"plain rtl  \" ><span class=\"plain rtl  \" ><span class=\"h\">וְ</span></span></span><span class=\"plain rtl  \" ><span class=\"plain rtl  \" ><span class=\"h\">ר֣וּחַ </span></span><span class=\"plain rtl  \" ><span class=\"h\">אֱלֹהִ֔ים </span></span></span><span class=\"plain rtl  \" ><span class=\"plain rtl  \" ><span class=\"h\">מְרַחֶ֖פֶת </span></span></span><span class=\"plain rtl  \" ><span class=\"plain rtl  \" ><span class=\"h\">עַל־</span></span><span class=\"plain rtl  \" ><span class=\"h\">פְּנֵ֥י </span></span><span class=\"plain rtl  \" ><span class=\"h\">הַ</span></span><span class=\"plain rtl  hl\" ><span class=\"h\">מָּֽיִם׃ </span></span></span></span></span></span></span></a></td><td class=\"tf\"><span class=\"plain outer  rtl  hl\" ><span class=\"h\">מָּֽיִם׃ </span></span></td></tr>\n",
       "<tr class=\"tf\"><td class=\"tf\">3</td><td class=\"tf\"> <a href=\"https://shebanq.ancient-data.org/hebrew/text?book=Genesis&amp;chapter=1&amp;verse=6&amp;version=c&amp;mr=m&amp;qw=q&amp;tp=txt_p&amp;tr=hb&amp;wget=v&amp;qget=v&amp;nget=vt\" title=\"show this passage in SHEBANQ\" sec=\"Genesis 1:6\">Genesis 1:6</a></td><td class=\"tf\"><a href=\"https://shebanq.ancient-data.org/hebrew/text?book=Genesis&amp;chapter=1&amp;verse=6&amp;version=c&amp;mr=m&amp;qw=q&amp;tp=txt_p&amp;tr=hb&amp;wget=v&amp;qget=v&amp;nget=vt\" title=\"Genesis 1:6\" sec=\"Genesis 1:6\"><span class=\"plain outer  rtl \"><span class=\"plain rtl  hlbx\" ><span class=\"plain rtl  \" ><span class=\"plain rtl  \" ><span class=\"plain rtl  \" ><span class=\"plain rtl  \" ><span class=\"h\">יְהִ֥י </span></span></span><span class=\"plain rtl  \" ><span class=\"plain rtl  \" ><span class=\"h\">רָקִ֖יעַ </span></span></span><span class=\"plain rtl  \" ><span class=\"plain rtl  \" ><span class=\"h\">בְּ</span></span><span class=\"plain rtl  \" ><span class=\"h\">תֹ֣וךְ </span></span><span class=\"plain rtl  \" ><span class=\"h\">הַ</span></span><span class=\"plain rtl  hl\" ><span class=\"h\">מָּ֑יִם </span></span></span></span></span></span></span></a></td><td class=\"tf\"><span class=\"plain outer  rtl  hl\" ><span class=\"h\">מָּ֑יִם </span></span></td></tr>\n",
       "<tr class=\"tf\"><td class=\"tf\">4</td><td class=\"tf\"> <a href=\"https://shebanq.ancient-data.org/hebrew/text?book=Genesis&amp;chapter=1&amp;verse=6&amp;version=c&amp;mr=m&amp;qw=q&amp;tp=txt_p&amp;tr=hb&amp;wget=v&amp;qget=v&amp;nget=vt\" title=\"show this passage in SHEBANQ\" sec=\"Genesis 1:6\">Genesis 1:6</a></td><td class=\"tf\"><a href=\"https://shebanq.ancient-data.org/hebrew/text?book=Genesis&amp;chapter=1&amp;verse=6&amp;version=c&amp;mr=m&amp;qw=q&amp;tp=txt_p&amp;tr=hb&amp;wget=v&amp;qget=v&amp;nget=vt\" title=\"Genesis 1:6\" sec=\"Genesis 1:6\"><span class=\"plain outer  rtl \"><span class=\"plain rtl  hlbx\" ><span class=\"plain rtl  \" ><span class=\"plain rtl  \" ><span class=\"plain rtl  \" ><span class=\"plain rtl  \" ><span class=\"h\">וִ</span></span></span><span class=\"plain rtl  \" ><span class=\"plain rtl  \" ><span class=\"h\">יהִ֣י </span></span></span><span class=\"plain rtl  \" ><span class=\"plain rtl  \" ><span class=\"h\">מַבְדִּ֔יל </span></span></span><span class=\"plain rtl  \" ><span class=\"plain rtl  \" ><span class=\"h\">בֵּ֥ין </span></span><span class=\"plain rtl  \" ><span class=\"h\">מַ֖יִם </span></span></span><span class=\"plain rtl  \" ><span class=\"plain rtl  \" ><span class=\"h\">לָ</span></span><span class=\"plain rtl  hl\" ><span class=\"h\">מָֽיִם׃ </span></span></span></span></span></span></span></a></td><td class=\"tf\"><span class=\"plain outer  rtl  hl\" ><span class=\"h\">מָֽיִם׃ </span></span></td></tr>\n",
       "<tr class=\"tf\"><td class=\"tf\">5</td><td class=\"tf\"> <a href=\"https://shebanq.ancient-data.org/hebrew/text?book=Genesis&amp;chapter=1&amp;verse=9&amp;version=c&amp;mr=m&amp;qw=q&amp;tp=txt_p&amp;tr=hb&amp;wget=v&amp;qget=v&amp;nget=vt\" title=\"show this passage in SHEBANQ\" sec=\"Genesis 1:9\">Genesis 1:9</a></td><td class=\"tf\"><a href=\"https://shebanq.ancient-data.org/hebrew/text?book=Genesis&amp;chapter=1&amp;verse=9&amp;version=c&amp;mr=m&amp;qw=q&amp;tp=txt_p&amp;tr=hb&amp;wget=v&amp;qget=v&amp;nget=vt\" title=\"Genesis 1:9\" sec=\"Genesis 1:9\"><span class=\"plain outer  rtl \"><span class=\"plain rtl  hlbx\" ><span class=\"plain rtl  \" ><span class=\"plain rtl  \" ><span class=\"plain rtl  \" ><span class=\"plain rtl  \" ><span class=\"h\">יִקָּו֨וּ </span></span></span><span class=\"plain rtl  \" ><span class=\"plain rtl  \" ><span class=\"h\">הַ</span></span><span class=\"plain rtl  \" ><span class=\"h\">מַּ֜יִם </span></span></span><span class=\"plain rtl  \" ><span class=\"plain rtl  \" ><span class=\"h\">מִ</span></span><span class=\"plain rtl  \" ><span class=\"h\">תַּ֤חַת </span></span><span class=\"plain rtl  \" ><span class=\"h\">הַ</span></span><span class=\"plain rtl  \" ><span class=\"h\">שָּׁמַ֨יִם֙ </span></span></span><span class=\"plain rtl  \" ><span class=\"plain rtl  \" ><span class=\"h\">אֶל־</span></span><span class=\"plain rtl  \" ><span class=\"h\">מָקֹ֣ום </span></span><span class=\"plain rtl  hl\" ><span class=\"h\">אֶחָ֔ד </span></span></span></span></span></span></span></a></td><td class=\"tf\"><span class=\"plain outer  rtl  hl\" ><span class=\"h\">אֶחָ֔ד </span></span></td></tr>\n",
       "<tr class=\"tf\"><td class=\"tf\">6</td><td class=\"tf\"> <a href=\"https://shebanq.ancient-data.org/hebrew/text?book=Genesis&amp;chapter=1&amp;verse=10&amp;version=c&amp;mr=m&amp;qw=q&amp;tp=txt_p&amp;tr=hb&amp;wget=v&amp;qget=v&amp;nget=vt\" title=\"show this passage in SHEBANQ\" sec=\"Genesis 1:10\">Genesis 1:10</a></td><td class=\"tf\"><a href=\"https://shebanq.ancient-data.org/hebrew/text?book=Genesis&amp;chapter=1&amp;verse=10&amp;version=c&amp;mr=m&amp;qw=q&amp;tp=txt_p&amp;tr=hb&amp;wget=v&amp;qget=v&amp;nget=vt\" title=\"Genesis 1:10\" sec=\"Genesis 1:10\"><span class=\"plain outer  rtl \"><span class=\"plain rtl  hlbx\" ><span class=\"plain rtl  \" ><span class=\"plain rtl  \" ><span class=\"plain rtl  \" ><span class=\"plain rtl  \" ><span class=\"h\">וַ</span></span></span><span class=\"plain rtl  \" ><span class=\"plain rtl  \" ><span class=\"h\">יִּקְרָ֨א </span></span></span><span class=\"plain rtl  \" ><span class=\"plain rtl  \" ><span class=\"h\">אֱלֹהִ֤ים׀ </span></span></span><span class=\"plain rtl  \" ><span class=\"plain rtl  \" ><span class=\"h\">לַ</span></span><span class=\"plain rtl  \" ><span class=\"h\"></span></span><span class=\"plain rtl  \" ><span class=\"h\">יַּבָּשָׁה֙ </span></span></span><span class=\"plain rtl  \" ><span class=\"plain rtl  hl\" ><span class=\"h\">אֶ֔רֶץ </span></span></span></span></span></span></span></a></td><td class=\"tf\"><span class=\"plain outer  rtl  hl\" ><span class=\"h\">אֶ֔רֶץ </span></span></td></tr>\n",
       "<tr class=\"tf\"><td class=\"tf\">7</td><td class=\"tf\"> <a href=\"https://shebanq.ancient-data.org/hebrew/text?book=Genesis&amp;chapter=1&amp;verse=11&amp;version=c&amp;mr=m&amp;qw=q&amp;tp=txt_p&amp;tr=hb&amp;wget=v&amp;qget=v&amp;nget=vt\" title=\"show this passage in SHEBANQ\" sec=\"Genesis 1:11\">Genesis 1:11</a></td><td class=\"tf\"><a href=\"https://shebanq.ancient-data.org/hebrew/text?book=Genesis&amp;chapter=1&amp;verse=11&amp;version=c&amp;mr=m&amp;qw=q&amp;tp=txt_p&amp;tr=hb&amp;wget=v&amp;qget=v&amp;nget=vt\" title=\"Genesis 1:11\" sec=\"Genesis 1:11\"><span class=\"plain outer  rtl \"><span class=\"plain rtl  hlbx\" ><span class=\"plain rtl  \" ><span class=\"plain rtl  \" ><span class=\"plain rtl  \" ><span class=\"plain rtl  \" ><span class=\"h\">תַּֽדְשֵׁ֤א </span></span></span><span class=\"plain rtl  \" ><span class=\"plain rtl  \" ><span class=\"h\">הָ</span></span><span class=\"plain rtl  \" ><span class=\"h\">אָ֨רֶץ֙ </span></span></span><span class=\"plain rtl  \" ><span class=\"plain rtl  \" ><span class=\"h\">דֶּ֔שֶׁא </span></span></span><span class=\"plain rtl  \" ><span class=\"plain rtl  \" ><span class=\"h\">עֵ֚שֶׂב </span></span></span></span><span class=\"plain rtl  \" ><span class=\"plain rtl  \" ><span class=\"plain rtl  \" ><span class=\"h\">מַזְרִ֣יעַ </span></span></span><span class=\"plain rtl  \" ><span class=\"plain rtl  \" ><span class=\"h\">זֶ֔רַע </span></span></span></span><span class=\"plain rtl  \" ><span class=\"plain rtl  \" ><span class=\"plain rtl  \" ><span class=\"h\">עֵ֣ץ </span></span><span class=\"plain rtl  \" ><span class=\"h\">פְּרִ֞י </span></span></span></span><span class=\"plain rtl  \" ><span class=\"plain rtl  \" ><span class=\"plain rtl  \" ><span class=\"h\">עֹ֤שֶׂה </span></span></span><span class=\"plain rtl  \" ><span class=\"plain rtl  \" ><span class=\"h\">פְּרִי֙ </span></span></span><span class=\"plain rtl  \" ><span class=\"plain rtl  \" ><span class=\"h\">לְ</span></span><span class=\"plain rtl  \" ><span class=\"h\">מִינֹ֔ו </span></span></span></span><span class=\"plain rtl  \" ><span class=\"plain rtl  \" ><span class=\"plain rtl  \" ><span class=\"h\">אֲשֶׁ֥ר </span></span></span><span class=\"plain rtl  \" ><span class=\"plain rtl  \" ><span class=\"h\">זַרְעֹו־</span></span></span><span class=\"plain rtl  \" ><span class=\"plain rtl  \" ><span class=\"h\">בֹ֖ו </span></span></span></span><span class=\"plain rtl  \" ><span class=\"plain rtl  \" ><span class=\"plain rtl  \" ><span class=\"h\">עַל־</span></span><span class=\"plain rtl  \" ><span class=\"h\">הָ</span></span><span class=\"plain rtl  hl\" ><span class=\"h\">אָ֑רֶץ </span></span></span></span></span></span></span></a></td><td class=\"tf\"><span class=\"plain outer  rtl  hl\" ><span class=\"h\">אָ֑רֶץ </span></span></td></tr>\n",
       "<tr class=\"tf\"><td class=\"tf\">8</td><td class=\"tf\"> <a href=\"https://shebanq.ancient-data.org/hebrew/text?book=Genesis&amp;chapter=1&amp;verse=15&amp;version=c&amp;mr=m&amp;qw=q&amp;tp=txt_p&amp;tr=hb&amp;wget=v&amp;qget=v&amp;nget=vt\" title=\"show this passage in SHEBANQ\" sec=\"Genesis 1:15\">Genesis 1:15</a></td><td class=\"tf\"><a href=\"https://shebanq.ancient-data.org/hebrew/text?book=Genesis&amp;chapter=1&amp;verse=15&amp;version=c&amp;mr=m&amp;qw=q&amp;tp=txt_p&amp;tr=hb&amp;wget=v&amp;qget=v&amp;nget=vt\" title=\"Genesis 1:15\" sec=\"Genesis 1:15\"><span class=\"plain outer  rtl \"><span class=\"plain rtl  hlbx\" ><span class=\"plain rtl  \" ><span class=\"plain rtl  \" ><span class=\"plain rtl  \" ><span class=\"plain rtl  \" ><span class=\"h\">וְ</span></span></span><span class=\"plain rtl  \" ><span class=\"plain rtl  \" ><span class=\"h\">הָי֤וּ </span></span></span><span class=\"plain rtl  \" ><span class=\"plain rtl  \" ><span class=\"h\">לִ</span></span><span class=\"plain rtl  \" ><span class=\"h\">מְאֹורֹת֙ </span></span></span><span class=\"plain rtl  \" ><span class=\"plain rtl  \" ><span class=\"h\">בִּ</span></span><span class=\"plain rtl  \" ><span class=\"h\">רְקִ֣יעַ </span></span><span class=\"plain rtl  \" ><span class=\"h\">הַ</span></span><span class=\"plain rtl  \" ><span class=\"h\">שָּׁמַ֔יִם </span></span></span></span><span class=\"plain rtl  \" ><span class=\"plain rtl  \" ><span class=\"plain rtl  \" ><span class=\"h\">לְ</span></span><span class=\"plain rtl  \" ><span class=\"h\">הָאִ֖יר </span></span></span><span class=\"plain rtl  \" ><span class=\"plain rtl  \" ><span class=\"h\">עַל־</span></span><span class=\"plain rtl  \" ><span class=\"h\">הָ</span></span><span class=\"plain rtl  hl\" ><span class=\"h\">אָ֑רֶץ </span></span></span></span></span></span></span></a></td><td class=\"tf\"><span class=\"plain outer  rtl  hl\" ><span class=\"h\">אָ֑רֶץ </span></span></td></tr>\n",
       "<tr class=\"tf\"><td class=\"tf\">9</td><td class=\"tf\"> <a href=\"https://shebanq.ancient-data.org/hebrew/text?book=Genesis&amp;chapter=1&amp;verse=22&amp;version=c&amp;mr=m&amp;qw=q&amp;tp=txt_p&amp;tr=hb&amp;wget=v&amp;qget=v&amp;nget=vt\" title=\"show this passage in SHEBANQ\" sec=\"Genesis 1:22\">Genesis 1:22</a></td><td class=\"tf\"><a href=\"https://shebanq.ancient-data.org/hebrew/text?book=Genesis&amp;chapter=1&amp;verse=22&amp;version=c&amp;mr=m&amp;qw=q&amp;tp=txt_p&amp;tr=hb&amp;wget=v&amp;qget=v&amp;nget=vt\" title=\"Genesis 1:22\" sec=\"Genesis 1:22\"><span class=\"plain outer  rtl \"><span class=\"plain rtl  hlbx\" ><span class=\"plain rtl  \" ><span class=\"plain rtl  \" ><span class=\"plain rtl  \" ><span class=\"plain rtl  \" ><span class=\"h\">וְ</span></span></span><span class=\"plain rtl  \" ><span class=\"plain rtl  \" ><span class=\"h\">הָ</span></span><span class=\"plain rtl  \" ><span class=\"h\">עֹ֖וף </span></span></span><span class=\"plain rtl  \" ><span class=\"plain rtl  \" ><span class=\"h\">יִ֥רֶב </span></span></span><span class=\"plain rtl  \" ><span class=\"plain rtl  \" ><span class=\"h\">בָּ</span></span><span class=\"plain rtl  \" ><span class=\"h\"></span></span><span class=\"plain rtl  hl\" ><span class=\"h\">אָֽרֶץ׃ </span></span></span></span></span></span></span></a></td><td class=\"tf\"><span class=\"plain outer  rtl  hl\" ><span class=\"h\">אָֽרֶץ׃ </span></span></td></tr>\n",
       "<tr class=\"tf\"><td class=\"tf\">10</td><td class=\"tf\"> <a href=\"https://shebanq.ancient-data.org/hebrew/text?book=Genesis&amp;chapter=1&amp;verse=26&amp;version=c&amp;mr=m&amp;qw=q&amp;tp=txt_p&amp;tr=hb&amp;wget=v&amp;qget=v&amp;nget=vt\" title=\"show this passage in SHEBANQ\" sec=\"Genesis 1:26\">Genesis 1:26</a></td><td class=\"tf\"><a href=\"https://shebanq.ancient-data.org/hebrew/text?book=Genesis&amp;chapter=1&amp;verse=26&amp;version=c&amp;mr=m&amp;qw=q&amp;tp=txt_p&amp;tr=hb&amp;wget=v&amp;qget=v&amp;nget=vt\" title=\"Genesis 1:26\" sec=\"Genesis 1:26\"><span class=\"plain outer  rtl \"><span class=\"plain rtl  hlbx\" ><span class=\"plain rtl  \" ><span class=\"plain rtl  \" ><span class=\"plain rtl  \" ><span class=\"plain rtl  \" ><span class=\"h\">וְ</span></span></span><span class=\"plain rtl  \" ><span class=\"plain rtl  \" ><span class=\"h\">יִרְדּוּ֩ </span></span></span><span class=\"plain rtl  \" ><span class=\"plain rtl  \" ><span class=\"h\">בִ</span></span><span class=\"plain rtl  \" ><span class=\"h\">דְגַ֨ת </span></span><span class=\"plain rtl  \" ><span class=\"h\">הַ</span></span><span class=\"plain rtl  \" ><span class=\"h\">יָּ֜ם </span></span><span class=\"plain rtl  \" ><span class=\"h\">וּ</span></span><span class=\"plain rtl  \" ><span class=\"h\">בְ</span></span><span class=\"plain rtl  \" ><span class=\"h\">עֹ֣וף </span></span><span class=\"plain rtl  \" ><span class=\"h\">הַ</span></span><span class=\"plain rtl  \" ><span class=\"h\">שָּׁמַ֗יִם </span></span><span class=\"plain rtl  \" ><span class=\"h\">וּ</span></span><span class=\"plain rtl  \" ><span class=\"h\">בַ</span></span><span class=\"plain rtl  \" ><span class=\"h\"></span></span><span class=\"plain rtl  \" ><span class=\"h\">בְּהֵמָה֙ </span></span><span class=\"plain rtl  \" ><span class=\"h\">וּ</span></span><span class=\"plain rtl  \" ><span class=\"h\">בְ</span></span><span class=\"plain rtl  \" ><span class=\"h\">כָל־</span></span><span class=\"plain rtl  \" ><span class=\"h\">הָ</span></span><span class=\"plain rtl  \" ><span class=\"h\">אָ֔רֶץ </span></span></span><span class=\"plain rtl  \" ><span class=\"plain rtl  \" ><span class=\"h\">וּ</span></span></span><span class=\"plain rtl  \" ><span class=\"plain rtl  \" ><span class=\"h\">בְ</span></span><span class=\"plain rtl  \" ><span class=\"h\">כָל־</span></span><span class=\"plain rtl  \" ><span class=\"h\">הָ</span></span><span class=\"plain rtl  \" ><span class=\"h\">רֶ֖מֶשׂ </span></span></span></span><span class=\"plain rtl  \" ><span class=\"plain rtl  \" ><span class=\"plain rtl  \" ><span class=\"h\">הָֽ</span></span></span><span class=\"plain rtl  \" ><span class=\"plain rtl  \" ><span class=\"h\">רֹמֵ֥שׂ </span></span></span><span class=\"plain rtl  \" ><span class=\"plain rtl  \" ><span class=\"h\">עַל־</span></span><span class=\"plain rtl  \" ><span class=\"h\">הָ</span></span><span class=\"plain rtl  hl\" ><span class=\"h\">אָֽרֶץ׃ </span></span></span></span></span></span></span></a></td><td class=\"tf\"><span class=\"plain outer  rtl  hl\" ><span class=\"h\">אָֽרֶץ׃ </span></span></td></tr></table>"
      ],
      "text/plain": [
       "<IPython.core.display.HTML object>"
      ]
     },
     "metadata": {},
     "output_type": "display_data"
    }
   ],
   "source": [
    "query = '''\n",
    "infrequent otype=sentence\n",
    "  := word rank_lex<100\n",
    "'''\n",
    "results = A.search(query, sets=customSets)\n",
    "A.table(results, start=1, end=10)"
   ]
  },
  {
   "cell_type": "markdown",
   "metadata": {},
   "source": [
    "Note that no matter how expensive the construction of a set has been, once you have it, queries based on it are just fast. There is no penalty when you use given sets instead of the familiar node types."
   ]
  },
  {
   "cell_type": "markdown",
   "metadata": {},
   "source": [
    "# Next\n",
    "\n",
    "You have seen how to filter on feature values, of nodes and of edges.\n",
    "\n",
    "Now we want to set up sets for real.\n",
    "[sets](searchSets.ipynb)\n",
    "\n",
    "---\n",
    "\n",
    "[basic](search.ipynb)\n",
    "advanced\n",
    "[sets](searchSets.ipynb)\n",
    "[relations](searchRelations.ipynb)\n",
    "[quantifiers](searchQuantifiers.ipynb)\n",
    "[rough](searchRough.ipynb)\n",
    "[gaps](searchGaps.ipynb)"
   ]
  }
 ],
 "metadata": {
  "kernelspec": {
   "display_name": "Python 3",
   "language": "python",
   "name": "python3"
  },
  "language_info": {
   "codemirror_mode": {
    "name": "ipython",
    "version": 3
   },
   "file_extension": ".py",
   "mimetype": "text/x-python",
   "name": "python",
   "nbconvert_exporter": "python",
   "pygments_lexer": "ipython3",
   "version": "3.7.7"
  }
 },
 "nbformat": 4,
 "nbformat_minor": 4
}
