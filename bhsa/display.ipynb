{
 "cells": [
  {
   "cell_type": "markdown",
   "metadata": {},
   "source": [
    "<img align=\"right\" src=\"images/tf-small.png\" width=\"128\"/>\n",
    "<img align=\"right\" src=\"images/etcbc.png\"/>\n",
    "<img align=\"right\" src=\"images/dans-small.png\"/>\n",
    "\n",
    "# Rich display\n",
    "\n",
    "The apps of Text-Fabric know more about a corpus than vanilla TF.\n",
    "That knowledge is used by the apps to define pretty and plain displays of textual objects.\n",
    "\n",
    "A **plain** display of an object is a simple reference to that object if it is big, or the text of that object if it is small.\n",
    "\n",
    "A **pretty** display of an object is a representation of the structure of that object. It contains text and features of sub objects.\n",
    "Provided the object is not too big."
   ]
  },
  {
   "cell_type": "code",
   "execution_count": 1,
   "metadata": {},
   "outputs": [],
   "source": [
    "%load_ext autoreload\n",
    "%autoreload 2"
   ]
  },
  {
   "cell_type": "markdown",
   "metadata": {},
   "source": [
    "# Incantation\n",
    "\n",
    "The ins and outs of installing Text-Fabric, getting the corpus, and initializing a notebook are\n",
    "explained in the [start tutorial](start.ipynb)."
   ]
  },
  {
   "cell_type": "code",
   "execution_count": 2,
   "metadata": {
    "ExecuteTime": {
     "end_time": "2018-05-24T10:06:39.818664Z",
     "start_time": "2018-05-24T10:06:39.796588Z"
    }
   },
   "outputs": [],
   "source": [
    "from tf.app import use"
   ]
  },
  {
   "cell_type": "code",
   "execution_count": 30,
   "metadata": {
    "ExecuteTime": {
     "end_time": "2018-05-24T10:06:51.615044Z",
     "start_time": "2018-05-24T10:06:50.161456Z"
    }
   },
   "outputs": [
    {
     "name": "stdout",
     "output_type": "stream",
     "text": [
      "Using TF-app in /Users/dirk/github/annotation/app-bhsa/code:\n",
      "\trepo clone offline under ~/github (local github)\n",
      "Using data in /Users/dirk/github/etcbc/bhsa/tf/c:\n",
      "\trepo clone offline under ~/github (local github)\n",
      "Using data in /Users/dirk/github/etcbc/phono/tf/c:\n",
      "\trepo clone offline under ~/github (local github)\n",
      "Using data in /Users/dirk/github/etcbc/parallels/tf/c:\n",
      "\trepo clone offline under ~/github (local github)\n",
      "   |     0.00s No structure info in otext, the structure part of the T-API cannot be used\n"
     ]
    },
    {
     "data": {
      "text/html": [
       "<b>Documentation:</b> <a target=\"_blank\" href=\"https://etcbc.github.io/bhsa\" title=\"provenance of BHSA = Biblia Hebraica Stuttgartensia Amstelodamensis\">BHSA</a> <a target=\"_blank\" href=\"https://annotation.github.io/text-fabric/Writing/Hebrew\" title=\"('Hebrew characters and transcriptions',)\">Character table</a> <a target=\"_blank\" href=\"https://etcbc.github.io/bhsa/features/0_home\" title=\"BHSA feature documentation\">Feature docs</a> <a target=\"_blank\" href=\"https://github.com/annotation/app-bhsa\" title=\"bhsa API documentation\">bhsa API</a> <a target=\"_blank\" href=\"https://annotation.github.io/text-fabric/Api/Fabric/\" title=\"text-fabric-api\">Text-Fabric API 7.11.1</a> <a target=\"_blank\" href=\"https://annotation.github.io/text-fabric/Use/Search/\" title=\"Search Templates Introduction and Reference\">Search Reference</a><details open><summary><b>Loaded features</b>:</summary>\n",
       "<p><b>BHSA = Biblia Hebraica Stuttgartensia Amstelodamensis</b>: <a target=\"_blank\" href=\"https://etcbc.github.io/bhsa/features/book\" title=\"/Users/dirk/github/etcbc/bhsa/tf/c/book.tf\">book</a>  <a target=\"_blank\" href=\"https://etcbc.github.io/bhsa/features/book@ll\" title=\"/Users/dirk/github/etcbc/bhsa/tf/c/book@am.tf\">book@ll</a>  <a target=\"_blank\" href=\"https://etcbc.github.io/bhsa/features/chapter\" title=\"/Users/dirk/github/etcbc/bhsa/tf/c/chapter.tf\">chapter</a>  <a target=\"_blank\" href=\"https://etcbc.github.io/bhsa/features/code\" title=\"/Users/dirk/github/etcbc/bhsa/tf/c/code.tf\">code</a>  <a target=\"_blank\" href=\"https://etcbc.github.io/bhsa/features/det\" title=\"/Users/dirk/github/etcbc/bhsa/tf/c/det.tf\">det</a>  <a target=\"_blank\" href=\"https://etcbc.github.io/bhsa/features/domain\" title=\"/Users/dirk/github/etcbc/bhsa/tf/c/domain.tf\">domain</a>  <a target=\"_blank\" href=\"https://etcbc.github.io/bhsa/features/freq_lex\" title=\"/Users/dirk/github/etcbc/bhsa/tf/c/freq_lex.tf\">freq_lex</a>  <a target=\"_blank\" href=\"https://etcbc.github.io/bhsa/features/function\" title=\"/Users/dirk/github/etcbc/bhsa/tf/c/function.tf\">function</a>  <a target=\"_blank\" href=\"https://etcbc.github.io/bhsa/features/g_cons\" title=\"/Users/dirk/github/etcbc/bhsa/tf/c/g_cons.tf\">g_cons</a>  <a target=\"_blank\" href=\"https://etcbc.github.io/bhsa/features/g_cons_utf8\" title=\"/Users/dirk/github/etcbc/bhsa/tf/c/g_cons_utf8.tf\">g_cons_utf8</a>  <a target=\"_blank\" href=\"https://etcbc.github.io/bhsa/features/g_lex\" title=\"/Users/dirk/github/etcbc/bhsa/tf/c/g_lex.tf\">g_lex</a>  <a target=\"_blank\" href=\"https://etcbc.github.io/bhsa/features/g_lex_utf8\" title=\"/Users/dirk/github/etcbc/bhsa/tf/c/g_lex_utf8.tf\">g_lex_utf8</a>  <a target=\"_blank\" href=\"https://etcbc.github.io/bhsa/features/g_word\" title=\"/Users/dirk/github/etcbc/bhsa/tf/c/g_word.tf\">g_word</a>  <a target=\"_blank\" href=\"https://etcbc.github.io/bhsa/features/g_word_utf8\" title=\"/Users/dirk/github/etcbc/bhsa/tf/c/g_word_utf8.tf\">g_word_utf8</a>  <a target=\"_blank\" href=\"https://etcbc.github.io/bhsa/features/gloss\" title=\"/Users/dirk/github/etcbc/bhsa/tf/c/gloss.tf\">gloss</a>  <a target=\"_blank\" href=\"https://etcbc.github.io/bhsa/features/gn\" title=\"/Users/dirk/github/etcbc/bhsa/tf/c/gn.tf\">gn</a>  <a target=\"_blank\" href=\"https://etcbc.github.io/bhsa/features/label\" title=\"/Users/dirk/github/etcbc/bhsa/tf/c/label.tf\">label</a>  <a target=\"_blank\" href=\"https://etcbc.github.io/bhsa/features/language\" title=\"/Users/dirk/github/etcbc/bhsa/tf/c/language.tf\">language</a>  <a target=\"_blank\" href=\"https://etcbc.github.io/bhsa/features/lex\" title=\"/Users/dirk/github/etcbc/bhsa/tf/c/lex.tf\">lex</a>  <a target=\"_blank\" href=\"https://etcbc.github.io/bhsa/features/lex_utf8\" title=\"/Users/dirk/github/etcbc/bhsa/tf/c/lex_utf8.tf\">lex_utf8</a>  <a target=\"_blank\" href=\"https://etcbc.github.io/bhsa/features/ls\" title=\"/Users/dirk/github/etcbc/bhsa/tf/c/ls.tf\">ls</a>  <a target=\"_blank\" href=\"https://etcbc.github.io/bhsa/features/nametype\" title=\"/Users/dirk/github/etcbc/bhsa/tf/c/nametype.tf\">nametype</a>  <a target=\"_blank\" href=\"https://etcbc.github.io/bhsa/features/nme\" title=\"/Users/dirk/github/etcbc/bhsa/tf/c/nme.tf\">nme</a>  <a target=\"_blank\" href=\"https://etcbc.github.io/bhsa/features/nu\" title=\"/Users/dirk/github/etcbc/bhsa/tf/c/nu.tf\">nu</a>  <a target=\"_blank\" href=\"https://etcbc.github.io/bhsa/features/number\" title=\"/Users/dirk/github/etcbc/bhsa/tf/c/number.tf\">number</a>  <a target=\"_blank\" href=\"https://etcbc.github.io/bhsa/features/otype\" title=\"/Users/dirk/github/etcbc/bhsa/tf/c/otype.tf\">otype</a>  <a target=\"_blank\" href=\"https://etcbc.github.io/bhsa/features/pargr\" title=\"/Users/dirk/github/etcbc/bhsa/tf/c/pargr.tf\">pargr</a>  <a target=\"_blank\" href=\"https://etcbc.github.io/bhsa/features/pdp\" title=\"/Users/dirk/github/etcbc/bhsa/tf/c/pdp.tf\">pdp</a>  <a target=\"_blank\" href=\"https://etcbc.github.io/bhsa/features/pfm\" title=\"/Users/dirk/github/etcbc/bhsa/tf/c/pfm.tf\">pfm</a>  <a target=\"_blank\" href=\"https://etcbc.github.io/bhsa/features/prs\" title=\"/Users/dirk/github/etcbc/bhsa/tf/c/prs.tf\">prs</a>  <a target=\"_blank\" href=\"https://etcbc.github.io/bhsa/features/prs_gn\" title=\"/Users/dirk/github/etcbc/bhsa/tf/c/prs_gn.tf\">prs_gn</a>  <a target=\"_blank\" href=\"https://etcbc.github.io/bhsa/features/prs_nu\" title=\"/Users/dirk/github/etcbc/bhsa/tf/c/prs_nu.tf\">prs_nu</a>  <a target=\"_blank\" href=\"https://etcbc.github.io/bhsa/features/prs_ps\" title=\"/Users/dirk/github/etcbc/bhsa/tf/c/prs_ps.tf\">prs_ps</a>  <a target=\"_blank\" href=\"https://etcbc.github.io/bhsa/features/ps\" title=\"/Users/dirk/github/etcbc/bhsa/tf/c/ps.tf\">ps</a>  <a target=\"_blank\" href=\"https://etcbc.github.io/bhsa/features/qere\" title=\"/Users/dirk/github/etcbc/bhsa/tf/c/qere.tf\">qere</a>  <a target=\"_blank\" href=\"https://etcbc.github.io/bhsa/features/qere_trailer\" title=\"/Users/dirk/github/etcbc/bhsa/tf/c/qere_trailer.tf\">qere_trailer</a>  <a target=\"_blank\" href=\"https://etcbc.github.io/bhsa/features/qere_trailer_utf8\" title=\"/Users/dirk/github/etcbc/bhsa/tf/c/qere_trailer_utf8.tf\">qere_trailer_utf8</a>  <a target=\"_blank\" href=\"https://etcbc.github.io/bhsa/features/qere_utf8\" title=\"/Users/dirk/github/etcbc/bhsa/tf/c/qere_utf8.tf\">qere_utf8</a>  <a target=\"_blank\" href=\"https://etcbc.github.io/bhsa/features/rank_lex\" title=\"/Users/dirk/github/etcbc/bhsa/tf/c/rank_lex.tf\">rank_lex</a>  <a target=\"_blank\" href=\"https://etcbc.github.io/bhsa/features/rela\" title=\"/Users/dirk/github/etcbc/bhsa/tf/c/rela.tf\">rela</a>  <a target=\"_blank\" href=\"https://etcbc.github.io/bhsa/features/sp\" title=\"/Users/dirk/github/etcbc/bhsa/tf/c/sp.tf\">sp</a>  <a target=\"_blank\" href=\"https://etcbc.github.io/bhsa/features/st\" title=\"/Users/dirk/github/etcbc/bhsa/tf/c/st.tf\">st</a>  <a target=\"_blank\" href=\"https://etcbc.github.io/bhsa/features/tab\" title=\"/Users/dirk/github/etcbc/bhsa/tf/c/tab.tf\">tab</a>  <a target=\"_blank\" href=\"https://etcbc.github.io/bhsa/features/trailer\" title=\"/Users/dirk/github/etcbc/bhsa/tf/c/trailer.tf\">trailer</a>  <a target=\"_blank\" href=\"https://etcbc.github.io/bhsa/features/trailer_utf8\" title=\"/Users/dirk/github/etcbc/bhsa/tf/c/trailer_utf8.tf\">trailer_utf8</a>  <a target=\"_blank\" href=\"https://etcbc.github.io/bhsa/features/txt\" title=\"/Users/dirk/github/etcbc/bhsa/tf/c/txt.tf\">txt</a>  <a target=\"_blank\" href=\"https://etcbc.github.io/bhsa/features/typ\" title=\"/Users/dirk/github/etcbc/bhsa/tf/c/typ.tf\">typ</a>  <a target=\"_blank\" href=\"https://etcbc.github.io/bhsa/features/uvf\" title=\"/Users/dirk/github/etcbc/bhsa/tf/c/uvf.tf\">uvf</a>  <a target=\"_blank\" href=\"https://etcbc.github.io/bhsa/features/vbe\" title=\"/Users/dirk/github/etcbc/bhsa/tf/c/vbe.tf\">vbe</a>  <a target=\"_blank\" href=\"https://etcbc.github.io/bhsa/features/vbs\" title=\"/Users/dirk/github/etcbc/bhsa/tf/c/vbs.tf\">vbs</a>  <a target=\"_blank\" href=\"https://etcbc.github.io/bhsa/features/verse\" title=\"/Users/dirk/github/etcbc/bhsa/tf/c/verse.tf\">verse</a>  <a target=\"_blank\" href=\"https://etcbc.github.io/bhsa/features/voc_lex\" title=\"/Users/dirk/github/etcbc/bhsa/tf/c/voc_lex.tf\">voc_lex</a>  <a target=\"_blank\" href=\"https://etcbc.github.io/bhsa/features/voc_lex_utf8\" title=\"/Users/dirk/github/etcbc/bhsa/tf/c/voc_lex_utf8.tf\">voc_lex_utf8</a>  <a target=\"_blank\" href=\"https://etcbc.github.io/bhsa/features/vs\" title=\"/Users/dirk/github/etcbc/bhsa/tf/c/vs.tf\">vs</a>  <a target=\"_blank\" href=\"https://etcbc.github.io/bhsa/features/vt\" title=\"/Users/dirk/github/etcbc/bhsa/tf/c/vt.tf\">vt</a>  <b><i><a target=\"_blank\" href=\"https://etcbc.github.io/bhsa/features/mother\" title=\"/Users/dirk/github/etcbc/bhsa/tf/c/mother.tf\">mother</a></i></b>  <b><i><a target=\"_blank\" href=\"https://etcbc.github.io/bhsa/features/oslots\" title=\"/Users/dirk/github/etcbc/bhsa/tf/c/oslots.tf\">oslots</a></i></b> </p><p><b>Parallel Passages</b>: <b><i><a target=\"_blank\" href=\"https://nbviewer.jupyter.org/github/etcbc/parallels/blob/master/programs/parallels.ipynb\" title=\"/Users/dirk/github/etcbc/parallels/tf/c/crossref.tf\">crossref</a></i></b> </p><p><b>Phonetic Transcriptions</b>: <a target=\"_blank\" href=\"https://nbviewer.jupyter.org/github/etcbc/phono/blob/master/programs/phono.ipynb\" title=\"/Users/dirk/github/etcbc/phono/tf/c/phono.tf\">phono</a>  <a target=\"_blank\" href=\"https://nbviewer.jupyter.org/github/etcbc/phono/blob/master/programs/phono.ipynb\" title=\"/Users/dirk/github/etcbc/phono/tf/c/phono_trailer.tf\">phono_trailer</a> </p></details>"
      ],
      "text/plain": [
       "<IPython.core.display.HTML object>"
      ]
     },
     "metadata": {},
     "output_type": "display_data"
    },
    {
     "data": {
      "text/html": [
       "<style>\n",
       "@font-face {\n",
       "  font-family: \"Ezra SIL\";\n",
       "  src:\n",
       "    local(\"SILEOT.ttf\"),\n",
       "    url(\"https://github.com/annotation/text-fabric/blob/master/tf/server/static/fonts/SILEOT.woff?raw=true\");\n",
       "}\n",
       ".features {\n",
       "    font-family: monospace;\n",
       "    font-size: medium;\n",
       "    font-weight: bold;\n",
       "    color: #0a6611;\n",
       "    display: flex;\n",
       "    flex-flow: column nowrap;\n",
       "    justify-content: flex-start;\n",
       "    align-items: flex-start;\n",
       "    align-content: flex-start;\n",
       "    padding: 0.1em;\n",
       "    margin: 0.1em;\n",
       "    direction: ltr;\n",
       "}\n",
       ".features div,.features span {\n",
       "    padding: 0;\n",
       "    margin: -0.1rem 0;\n",
       "}\n",
       ".features .f {\n",
       "    font-family: sans-serif;\n",
       "    font-size: x-small;\n",
       "    font-weight: normal;\n",
       "    color: #5555bb;\n",
       "}\n",
       ".features .xft {\n",
       "  color: #000000;\n",
       "  background-color: #eeeeee;\n",
       "  font-size: medium;\n",
       "  margin: 0.1em 0em;\n",
       "}\n",
       ".features .xft .f {\n",
       "  color: #000000;\n",
       "  background-color: #eeeeee;\n",
       "  font-style: italic;\n",
       "  font-size: small;\n",
       "  font-weight: normal;\n",
       "}\n",
       ".nd {\n",
       "    font-family: monospace;\n",
       "    font-size: x-small;\n",
       "    color: #999999;\n",
       "}\n",
       ".hl {\n",
       "    background-color: #ffee66;\n",
       "}\n",
       ".outerplain {\n",
       "    direction: rtl;\n",
       "}\n",
       ".outeritem {\n",
       "    display: flex;\n",
       "    flex-flow: row wrap;\n",
       "    direction: rtl;\n",
       "}\n",
       ".ltr {\n",
       "    direction: ltr ! important;\n",
       "}\n",
       ".rtl {\n",
       "    direction: rtl ! important;\n",
       "}\n",
       ".verse {\n",
       "    display: flex;\n",
       "    flex-flow: row wrap;\n",
       "    direction: rtl;\n",
       "}\n",
       ".vl {\n",
       "    display: flex;\n",
       "    flex-flow: column nowrap;\n",
       "    justify-content: flex-end;\n",
       "    align-items: flex-end;\n",
       "    direction: ltr;\n",
       "    width: 100%;\n",
       "}\n",
       ".vn {\n",
       "  font-size: small !important;\n",
       "  padding-right: 1em;\n",
       "}\n",
       ".vrs {\n",
       "    font-family: sans-serif;\n",
       "    font-size: small;\n",
       "    font-weight: bold;\n",
       "    color: #444444;\n",
       "}\n",
       ".sentence,.clause,.phrase {\n",
       "    margin-top: -1.2em;\n",
       "    margin-left: 1em;\n",
       "    background: #ffffff none repeat scroll 0 0;\n",
       "    padding: 0 0.3em;\n",
       "    border-style: solid;\n",
       "    border-radius: 0.2em;\n",
       "    font-size: small;\n",
       "    display: block;\n",
       "    width: fit-content;\n",
       "    max-width: fit-content;\n",
       "    direction: ltr;\n",
       "}\n",
       ".atoms {\n",
       "    display: flex;\n",
       "    flex-flow: row wrap;\n",
       "    margin: 0.3em;\n",
       "    padding: 0.3em;\n",
       "    direction: rtl;\n",
       "    background-color: #ffffff;\n",
       "}\n",
       ".satom,.catom,.patom {\n",
       "    margin: 0.3em;\n",
       "    padding: 0.3em;\n",
       "    border-radius: 0.3em;\n",
       "    border-style: solid;\n",
       "    display: flex;\n",
       "    flex-flow: column nowrap;\n",
       "    direction: rtl;\n",
       "    background-color: #ffffff;\n",
       "}\n",
       ".sentence {\n",
       "    border-color: #aa3333;\n",
       "    border-width: 1px;\n",
       "}\n",
       ".clause {\n",
       "    border-color: #aaaa33;\n",
       "    border-width: 1px;\n",
       "}\n",
       ".phrase {\n",
       "    border-color: #33aaaa;\n",
       "    border-width: 1px;\n",
       "}\n",
       ".satom {\n",
       "    border-color: #aa3333;\n",
       "    border-width: 4px;\n",
       "}\n",
       ".catom {\n",
       "    border-color: #aaaa33;\n",
       "    border-width: 3px;\n",
       "}\n",
       ".patom {\n",
       "    border-color: #33aaaa;\n",
       "    border-width: 3px;\n",
       "}\n",
       ".word {\n",
       "    padding: 0.1em;\n",
       "    margin: 0.1em;\n",
       "    border-radius: 0.1em;\n",
       "    border: 1px solid #cccccc;\n",
       "    display: flex;\n",
       "    flex-flow: column nowrap;\n",
       "    direction: rtl;\n",
       "    background-color: #ffffff;\n",
       "}\n",
       ".lextp {\n",
       "    padding: 0.1em;\n",
       "    margin: 0.1em;\n",
       "    border-radius: 0.1em;\n",
       "    border: 2px solid #888888;\n",
       "    width: fit-content;\n",
       "    display: flex;\n",
       "    flex-flow: column nowrap;\n",
       "    direction: rtl;\n",
       "    background-color: #ffffff;\n",
       "}\n",
       ".occs {\n",
       "    font-size: x-small;\n",
       "}\n",
       ".satom.l,.catom.l,.patom.l,.plain.l {\n",
       "    border-left-style: dotted\n",
       "}\n",
       ".satom.r,.catom.r,.patom.r,.plain.r {\n",
       "    border-right-style: dotted\n",
       "}\n",
       ".satom.lno,.catom.lno,.patom.lno,.plain.lno {\n",
       "    border-left-style: none\n",
       "}\n",
       ".satom.rno,.catom.rno,.patom.rno,.plain.rno {\n",
       "    border-right-style: none\n",
       "}\n",
       "a:hover {\n",
       "    text-decoration: underline | important;\n",
       "    color: #0000ff | important;\n",
       "}\n",
       ".tr,.tr a:visited,.tr a:link {\n",
       "    font-family: sans-serif;\n",
       "    font-size: large;\n",
       "    color: #000044;\n",
       "    direction: ltr;\n",
       "    text-decoration: none;\n",
       "}\n",
       ".trb,.trb a:visited,.trb a:link {\n",
       "    font-family: sans-serif;\n",
       "    font-size: normal;\n",
       "    direction: ltr;\n",
       "    text-decoration: none;\n",
       "}\n",
       ".prb,.prb a:visited,.prb a:link {\n",
       "    font-family: sans-serif;\n",
       "    font-size: large;\n",
       "    direction: ltr;\n",
       "    text-decoration: none;\n",
       "}\n",
       ".h,.h a:visited,.h a:link {\n",
       "    font-family: \"Ezra SIL\", \"SBL Hebrew\", sans-serif;\n",
       "    font-size: large;\n",
       "    color: #000044;\n",
       "    direction: rtl;\n",
       "    text-decoration: none;\n",
       "}\n",
       ".hb,.hb a:visited,.hb a:link {\n",
       "    font-family: \"Ezra SIL\", \"SBL Hebrew\", sans-serif;\n",
       "    font-size: large;\n",
       "    line-height: 2;\n",
       "    direction: rtl;\n",
       "    text-decoration: none;\n",
       "}\n",
       ".rela,.function,.typ {\n",
       "    font-family: monospace;\n",
       "    font-size: small;\n",
       "    color: #0000bb;\n",
       "}\n",
       ".pdp,.pdp a:visited,.pdp a:link {\n",
       "    font-family: monospace;\n",
       "    font-size: medium;\n",
       "    color: #0000bb;\n",
       "    text-decoration: none;\n",
       "}\n",
       ".voc_lex {\n",
       "    font-family: monospace;\n",
       "    font-size: medium;\n",
       "    color: #0000bb;\n",
       "}\n",
       ".vs {\n",
       "    font-family: monospace;\n",
       "    font-size: medium;\n",
       "    font-weight: bold;\n",
       "    color: #0000bb;\n",
       "}\n",
       ".vt {\n",
       "    font-family: monospace;\n",
       "    font-size: medium;\n",
       "    font-weight: bold;\n",
       "    color: #0000bb;\n",
       "}\n",
       ".gloss {\n",
       "    font-family: sans-serif;\n",
       "    font-size: small;\n",
       "    font-weight: normal;\n",
       "    color: #444444;\n",
       "}\n",
       "\n",
       "tr.tf, td.tf, th.tf {\n",
       "  text-align: left;\n",
       "}\n",
       "\n",
       "span.hldot {\n",
       "\tbackground-color: var(--hl-strong);\n",
       "\tborder: 0.2rem solid var(--hl-rim);\n",
       "\tborder-radius: 0.4rem;\n",
       "\t/*\n",
       "\tdisplay: inline-block;\n",
       "\twidth: 0.8rem;\n",
       "\theight: 0.8rem;\n",
       "\t*/\n",
       "}\n",
       "span.hl {\n",
       "\tbackground-color: var(--hl-strong);\n",
       "\tborder-width: 0;\n",
       "\tborder-radius: 0.1rem;\n",
       "\tborder-style: solid;\n",
       "}\n",
       "\n",
       "span.hlbx {\n",
       "\tborder-color: var(--hl-dark);\n",
       "\tborder-width: 0.1rem;\n",
       "\tborder-style: solid;\n",
       "\tborder-radius: 0.2rem;\n",
       "  padding: 0.2rem;\n",
       "  margin: 0.2rem;\n",
       "}\n",
       "\n",
       "span.plain {\n",
       "  display: inline-block;\n",
       "  white-space: pre-wrap;\n",
       "}\n",
       "\n",
       ":root {\n",
       "\t--hl-strong:        hsla( 60, 100%,  70%, 0.9  );\n",
       "\t--hl-rim:           hsla( 55, 100%,  60%, 0.9  );\n",
       "\t--hl-dark:          hsla( 55, 100%,  40%, 0.9  );\n",
       "}\n",
       "</style>"
      ],
      "text/plain": [
       "<IPython.core.display.HTML object>"
      ]
     },
     "metadata": {},
     "output_type": "display_data"
    },
    {
     "data": {
      "text/html": [
       "<details open><summary><b>API members</b>:</summary>\n",
       "<a target=\"_blank\" href=\"https://annotation.github.io/text-fabric/Api/Computed/#computed-data\" title=\"doc\">C Computed</a>, <a target=\"_blank\" href=\"https://annotation.github.io/text-fabric/Api/Computed/#computed-data\" title=\"doc\">Call AllComputeds</a>, <a target=\"_blank\" href=\"https://annotation.github.io/text-fabric/Api/Computed/#computed-data\" title=\"doc\">Cs ComputedString</a><br/>\n",
       "<a target=\"_blank\" href=\"https://annotation.github.io/text-fabric/Api/Features/#edge-features\" title=\"doc\">E Edge</a>, <a target=\"_blank\" href=\"https://annotation.github.io/text-fabric/Api/Features/#edge-features\" title=\"doc\">Eall AllEdges</a>, <a target=\"_blank\" href=\"https://annotation.github.io/text-fabric/Api/Features/#edge-features\" title=\"doc\">Es EdgeString</a><br/>\n",
       "<a target=\"_blank\" href=\"https://annotation.github.io/text-fabric/Api/Fabric/#loading\" title=\"doc\">ensureLoaded</a>, <a target=\"_blank\" href=\"https://annotation.github.io/text-fabric/Api/Fabric/#loading\" title=\"doc\">TF</a>, <a target=\"_blank\" href=\"https://annotation.github.io/text-fabric/Api/Fabric/#loading\" title=\"doc\">ignored</a>, <a target=\"_blank\" href=\"https://annotation.github.io/text-fabric/Api/Fabric/#loading\" title=\"doc\">loadLog</a><br/>\n",
       "<a target=\"_blank\" href=\"https://annotation.github.io/text-fabric/Api/Locality/#locality\" title=\"doc\">L Locality</a><br/>\n",
       "<a target=\"_blank\" href=\"https://annotation.github.io/text-fabric/Api/Misc/#messaging\" title=\"doc\">cache</a>, <a target=\"_blank\" href=\"https://annotation.github.io/text-fabric/Api/Misc/#messaging\" title=\"doc\">error</a>, <a target=\"_blank\" href=\"https://annotation.github.io/text-fabric/Api/Misc/#messaging\" title=\"doc\">indent</a>, <a target=\"_blank\" href=\"https://annotation.github.io/text-fabric/Api/Misc/#messaging\" title=\"doc\">info</a>, <a target=\"_blank\" href=\"https://annotation.github.io/text-fabric/Api/Misc/#messaging\" title=\"doc\">isSilent</a>, <a target=\"_blank\" href=\"https://annotation.github.io/text-fabric/Api/Misc/#messaging\" title=\"doc\">reset</a>, <a target=\"_blank\" href=\"https://annotation.github.io/text-fabric/Api/Misc/#messaging\" title=\"doc\">setSilent</a>, <a target=\"_blank\" href=\"https://annotation.github.io/text-fabric/Api/Misc/#messaging\" title=\"doc\">silentOff</a>, <a target=\"_blank\" href=\"https://annotation.github.io/text-fabric/Api/Misc/#messaging\" title=\"doc\">silentOn</a>, <a target=\"_blank\" href=\"https://annotation.github.io/text-fabric/Api/Misc/#messaging\" title=\"doc\">warning</a><br/>\n",
       "<a target=\"_blank\" href=\"https://annotation.github.io/text-fabric/Api/Nodes/#navigating-nodes\" title=\"doc\">N Nodes</a>, <a target=\"_blank\" href=\"https://annotation.github.io/text-fabric/Api/Nodes/#navigating-nodes\" title=\"doc\">sortKey</a>, <a target=\"_blank\" href=\"https://annotation.github.io/text-fabric/Api/Nodes/#navigating-nodes\" title=\"doc\">sortKeyTuple</a>, <a target=\"_blank\" href=\"https://annotation.github.io/text-fabric/Api/Nodes/#navigating-nodes\" title=\"doc\">otypeRank</a>, <a target=\"_blank\" href=\"https://annotation.github.io/text-fabric/Api/Nodes/#navigating-nodes\" title=\"doc\">sortNodes</a><br/>\n",
       "<a target=\"_blank\" href=\"https://annotation.github.io/text-fabric/Api/Features/#node-features\" title=\"doc\">F Feature</a>, <a target=\"_blank\" href=\"https://annotation.github.io/text-fabric/Api/Features/#node-features\" title=\"doc\">Fall AllFeatures</a>, <a target=\"_blank\" href=\"https://annotation.github.io/text-fabric/Api/Features/#node-features\" title=\"doc\">Fs FeatureString</a><br/>\n",
       "<a target=\"_blank\" href=\"https://annotation.github.io/text-fabric/Api/Search/#search\" title=\"doc\">S Search</a><br/>\n",
       "<a target=\"_blank\" href=\"https://annotation.github.io/text-fabric/Api/Text/#text\" title=\"doc\">T Text</a></details>"
      ],
      "text/plain": [
       "<IPython.core.display.HTML object>"
      ]
     },
     "metadata": {},
     "output_type": "display_data"
    }
   ],
   "source": [
    "# A = use('bhsa', hoist=globals())\n",
    "A = use('bhsa:clone', checkout=\"clone\", hoist=globals())"
   ]
  },
  {
   "cell_type": "markdown",
   "metadata": {},
   "source": [
    "# Arbitrary nodes\n",
    "We pretty-print an arbitrary node."
   ]
  },
  {
   "cell_type": "code",
   "execution_count": 31,
   "metadata": {},
   "outputs": [
    {
     "data": {
      "text/plain": [
       "1414354"
      ]
     },
     "execution_count": 31,
     "metadata": {},
     "output_type": "execute_result"
    }
   ],
   "source": [
    "A.nodeFromSectionStr('Genesis 1:1')"
   ]
  },
  {
   "cell_type": "code",
   "execution_count": 33,
   "metadata": {
    "ExecuteTime": {
     "end_time": "2018-04-25T13:57:33.060576Z",
     "start_time": "2018-04-25T13:57:33.051457Z"
    }
   },
   "outputs": [
    {
     "data": {
      "text/html": [
       "<a href=\"https://shebanq.ancient-data.org/hebrew/text?book=Genesis&amp;chapter=1&amp;verse=4&amp;version=c&amp;mr=m&amp;qw=q&amp;tp=txt_p&amp;tr=hb&amp;wget=v&amp;qget=v&amp;nget=vt\" title=\"show this passage in SHEBANQ\" sec=\"Genesis 1:4\">Genesis 1:4</a><div class=\"outeritem rtl \"><div class=\"atoms   rtl \" ><div class=\"patom   rtl \" >\n",
       "        <div class=\"phrase  rtl \" >\n",
       "            <a href=\"https://shebanq.ancient-data.org/hebrew/text?book=Genesis&amp;chapter=1&amp;verse=4&amp;version=c&amp;mr=m&amp;qw=q&amp;tp=txt_p&amp;tr=hb&amp;wget=v&amp;qget=v&amp;nget=vt\" title=\"Genesis 1:4\" sec=\"Genesis 1:4\">phrase</a>   <span class=\"function\">Cmpl</span> <span class=\"typ\">PP</span>\n",
       "        </div>\n",
       "        <div class=\"atoms rtl \">\n",
       "                    <div class=\"word   rtl \" ><div class=\"h\"><a target=\"_blank\" href=\"https://shebanq.ancient-data.org/hebrew/word?version=c&amp;id=1BJNn\" title=\"show this lexeme in SHEBANQ\">בֵּ֥ין </a></div><div class=\"features\"> <span class=\"pdp\"><a href=\"https://shebanq.ancient-data.org/hebrew/text?book=Genesis&amp;chapter=1&amp;verse=4&amp;version=c&amp;mr=m&amp;qw=q&amp;tp=txt_p&amp;tr=hb&amp;wget=v&amp;qget=v&amp;nget=vt\" title=\"Genesis 1:4\" sec=\"Genesis 1:4\">prep</a></span> <span class=\"gloss\">interval</span></div></div><div class=\"word   rtl \" ><div class=\"h\"><a target=\"_blank\" href=\"https://shebanq.ancient-data.org/hebrew/word?version=c&amp;id=1H\" title=\"show this lexeme in SHEBANQ\">הָ</a></div><div class=\"features\"> <span class=\"pdp\"><a href=\"https://shebanq.ancient-data.org/hebrew/text?book=Genesis&amp;chapter=1&amp;verse=4&amp;version=c&amp;mr=m&amp;qw=q&amp;tp=txt_p&amp;tr=hb&amp;wget=v&amp;qget=v&amp;nget=vt\" title=\"Genesis 1:4\" sec=\"Genesis 1:4\">art</a></span> <span class=\"gloss\">the</span></div></div><div class=\"word   rtl \" ><div class=\"h\"><a target=\"_blank\" href=\"https://shebanq.ancient-data.org/hebrew/word?version=c&amp;id=1AWRn\" title=\"show this lexeme in SHEBANQ\">אֹ֖ור </a></div><div class=\"features\"> <span class=\"pdp\"><a href=\"https://shebanq.ancient-data.org/hebrew/text?book=Genesis&amp;chapter=1&amp;verse=4&amp;version=c&amp;mr=m&amp;qw=q&amp;tp=txt_p&amp;tr=hb&amp;wget=v&amp;qget=v&amp;nget=vt\" title=\"Genesis 1:4\" sec=\"Genesis 1:4\">subs</a></span> <span class=\"gloss\">light</span></div></div><div class=\"word   rtl \" ><div class=\"h\"><a target=\"_blank\" href=\"https://shebanq.ancient-data.org/hebrew/word?version=c&amp;id=1W\" title=\"show this lexeme in SHEBANQ\">וּ</a></div><div class=\"features\"> <span class=\"pdp\"><a href=\"https://shebanq.ancient-data.org/hebrew/text?book=Genesis&amp;chapter=1&amp;verse=4&amp;version=c&amp;mr=m&amp;qw=q&amp;tp=txt_p&amp;tr=hb&amp;wget=v&amp;qget=v&amp;nget=vt\" title=\"Genesis 1:4\" sec=\"Genesis 1:4\">conj</a></span> <span class=\"gloss\">and</span></div></div><div class=\"word   rtl \" ><div class=\"h\"><a target=\"_blank\" href=\"https://shebanq.ancient-data.org/hebrew/word?version=c&amp;id=1BJNn\" title=\"show this lexeme in SHEBANQ\">בֵ֥ין </a></div><div class=\"features\"> <span class=\"pdp\"><a href=\"https://shebanq.ancient-data.org/hebrew/text?book=Genesis&amp;chapter=1&amp;verse=4&amp;version=c&amp;mr=m&amp;qw=q&amp;tp=txt_p&amp;tr=hb&amp;wget=v&amp;qget=v&amp;nget=vt\" title=\"Genesis 1:4\" sec=\"Genesis 1:4\">prep</a></span> <span class=\"gloss\">interval</span></div></div><div class=\"word   rtl \" ><div class=\"h\"><a target=\"_blank\" href=\"https://shebanq.ancient-data.org/hebrew/word?version=c&amp;id=1H\" title=\"show this lexeme in SHEBANQ\">הַ</a></div><div class=\"features\"> <span class=\"pdp\"><a href=\"https://shebanq.ancient-data.org/hebrew/text?book=Genesis&amp;chapter=1&amp;verse=4&amp;version=c&amp;mr=m&amp;qw=q&amp;tp=txt_p&amp;tr=hb&amp;wget=v&amp;qget=v&amp;nget=vt\" title=\"Genesis 1:4\" sec=\"Genesis 1:4\">art</a></span> <span class=\"gloss\">the</span></div></div><div class=\"word   rtl \" ><div class=\"h\"><a target=\"_blank\" href=\"https://shebanq.ancient-data.org/hebrew/word?version=c&amp;id=1XCKn\" title=\"show this lexeme in SHEBANQ\">חֹֽשֶׁךְ׃ </a></div><div class=\"features\"> <span class=\"pdp\"><a href=\"https://shebanq.ancient-data.org/hebrew/text?book=Genesis&amp;chapter=1&amp;verse=4&amp;version=c&amp;mr=m&amp;qw=q&amp;tp=txt_p&amp;tr=hb&amp;wget=v&amp;qget=v&amp;nget=vt\" title=\"Genesis 1:4\" sec=\"Genesis 1:4\">subs</a></span> <span class=\"gloss\">darkness</span></div></div></div></div></div></div>"
      ],
      "text/plain": [
       "<IPython.core.display.HTML object>"
      ]
     },
     "metadata": {},
     "output_type": "display_data"
    },
    {
     "data": {
      "text/html": [
       "<a href=\"https://shebanq.ancient-data.org/hebrew/text?book=Genesis&amp;chapter=1&amp;verse=4&amp;version=c&amp;mr=m&amp;qw=q&amp;tp=txt_p&amp;tr=hb&amp;wget=v&amp;qget=v&amp;nget=vt\" title=\"show this passage in SHEBANQ\" sec=\"Genesis 1:4\">Genesis 1:4</a><div class=\"outeritem rtl \"><div class=\"atoms   rtl \" ><div class=\"patom   rtl \" >\n",
       "        <div class=\"phrase  rtl \" >\n",
       "            <a href=\"https://shebanq.ancient-data.org/hebrew/text?book=Genesis&amp;chapter=1&amp;verse=4&amp;version=c&amp;mr=m&amp;qw=q&amp;tp=txt_p&amp;tr=hb&amp;wget=v&amp;qget=v&amp;nget=vt\" title=\"Genesis 1:4\" sec=\"Genesis 1:4\">phrase</a> <span class=\"nd\">651574</span>  <span class=\"function\">Cmpl</span> <span class=\"typ\">PP</span>\n",
       "        </div>\n",
       "        <div class=\"atoms rtl \">\n",
       "                    <div class=\"word   rtl \" ><span class=\"nd\">51</span><div class=\"h\"><a target=\"_blank\" href=\"https://shebanq.ancient-data.org/hebrew/word?version=c&amp;id=1BJNn\" title=\"show this lexeme in SHEBANQ\">בֵּ֥ין </a></div><div class=\"features\"> <span class=\"pdp\"><a href=\"https://shebanq.ancient-data.org/hebrew/text?book=Genesis&amp;chapter=1&amp;verse=4&amp;version=c&amp;mr=m&amp;qw=q&amp;tp=txt_p&amp;tr=hb&amp;wget=v&amp;qget=v&amp;nget=vt\" title=\"Genesis 1:4\" sec=\"Genesis 1:4\">prep</a></span> <span class=\"gloss\">interval</span></div></div><div class=\"word   rtl \" ><span class=\"nd\">52</span><div class=\"h\"><a target=\"_blank\" href=\"https://shebanq.ancient-data.org/hebrew/word?version=c&amp;id=1H\" title=\"show this lexeme in SHEBANQ\">הָ</a></div><div class=\"features\"> <span class=\"pdp\"><a href=\"https://shebanq.ancient-data.org/hebrew/text?book=Genesis&amp;chapter=1&amp;verse=4&amp;version=c&amp;mr=m&amp;qw=q&amp;tp=txt_p&amp;tr=hb&amp;wget=v&amp;qget=v&amp;nget=vt\" title=\"Genesis 1:4\" sec=\"Genesis 1:4\">art</a></span> <span class=\"gloss\">the</span></div></div><div class=\"word   rtl \" ><span class=\"nd\">53</span><div class=\"h\"><a target=\"_blank\" href=\"https://shebanq.ancient-data.org/hebrew/word?version=c&amp;id=1AWRn\" title=\"show this lexeme in SHEBANQ\">אֹ֖ור </a></div><div class=\"features\"> <span class=\"pdp\"><a href=\"https://shebanq.ancient-data.org/hebrew/text?book=Genesis&amp;chapter=1&amp;verse=4&amp;version=c&amp;mr=m&amp;qw=q&amp;tp=txt_p&amp;tr=hb&amp;wget=v&amp;qget=v&amp;nget=vt\" title=\"Genesis 1:4\" sec=\"Genesis 1:4\">subs</a></span> <span class=\"gloss\">light</span></div></div><div class=\"word   rtl \" ><span class=\"nd\">54</span><div class=\"h\"><a target=\"_blank\" href=\"https://shebanq.ancient-data.org/hebrew/word?version=c&amp;id=1W\" title=\"show this lexeme in SHEBANQ\">וּ</a></div><div class=\"features\"> <span class=\"pdp\"><a href=\"https://shebanq.ancient-data.org/hebrew/text?book=Genesis&amp;chapter=1&amp;verse=4&amp;version=c&amp;mr=m&amp;qw=q&amp;tp=txt_p&amp;tr=hb&amp;wget=v&amp;qget=v&amp;nget=vt\" title=\"Genesis 1:4\" sec=\"Genesis 1:4\">conj</a></span> <span class=\"gloss\">and</span></div></div><div class=\"word   rtl \" ><span class=\"nd\">55</span><div class=\"h\"><a target=\"_blank\" href=\"https://shebanq.ancient-data.org/hebrew/word?version=c&amp;id=1BJNn\" title=\"show this lexeme in SHEBANQ\">בֵ֥ין </a></div><div class=\"features\"> <span class=\"pdp\"><a href=\"https://shebanq.ancient-data.org/hebrew/text?book=Genesis&amp;chapter=1&amp;verse=4&amp;version=c&amp;mr=m&amp;qw=q&amp;tp=txt_p&amp;tr=hb&amp;wget=v&amp;qget=v&amp;nget=vt\" title=\"Genesis 1:4\" sec=\"Genesis 1:4\">prep</a></span> <span class=\"gloss\">interval</span></div></div><div class=\"word   rtl \" ><span class=\"nd\">56</span><div class=\"h\"><a target=\"_blank\" href=\"https://shebanq.ancient-data.org/hebrew/word?version=c&amp;id=1H\" title=\"show this lexeme in SHEBANQ\">הַ</a></div><div class=\"features\"> <span class=\"pdp\"><a href=\"https://shebanq.ancient-data.org/hebrew/text?book=Genesis&amp;chapter=1&amp;verse=4&amp;version=c&amp;mr=m&amp;qw=q&amp;tp=txt_p&amp;tr=hb&amp;wget=v&amp;qget=v&amp;nget=vt\" title=\"Genesis 1:4\" sec=\"Genesis 1:4\">art</a></span> <span class=\"gloss\">the</span></div></div><div class=\"word   rtl \" ><span class=\"nd\">57</span><div class=\"h\"><a target=\"_blank\" href=\"https://shebanq.ancient-data.org/hebrew/word?version=c&amp;id=1XCKn\" title=\"show this lexeme in SHEBANQ\">חֹֽשֶׁךְ׃ </a></div><div class=\"features\"> <span class=\"pdp\"><a href=\"https://shebanq.ancient-data.org/hebrew/text?book=Genesis&amp;chapter=1&amp;verse=4&amp;version=c&amp;mr=m&amp;qw=q&amp;tp=txt_p&amp;tr=hb&amp;wget=v&amp;qget=v&amp;nget=vt\" title=\"Genesis 1:4\" sec=\"Genesis 1:4\">subs</a></span> <span class=\"gloss\">darkness</span></div></div></div></div></div></div>"
      ],
      "text/plain": [
       "<IPython.core.display.HTML object>"
      ]
     },
     "metadata": {},
     "output_type": "display_data"
    }
   ],
   "source": [
    "phrase = 651574\n",
    "A.pretty(phrase, withNodes=False)\n",
    "A.pretty(phrase, withNodes=True)"
   ]
  },
  {
   "cell_type": "markdown",
   "metadata": {},
   "source": [
    "Where is this phrase on SHEBANQ?\n",
    "You can click on the passage reference or on the word `phrase` in the label of the box.\n",
    "\n",
    "You can generate this link in code as follows:"
   ]
  },
  {
   "cell_type": "code",
   "execution_count": 16,
   "metadata": {
    "ExecuteTime": {
     "end_time": "2018-04-25T13:57:36.441490Z",
     "start_time": "2018-04-25T13:57:36.432236Z"
    }
   },
   "outputs": [
    {
     "data": {
      "text/html": [
       "<a href=\"https://shebanq.ancient-data.org/hebrew/text?book=Genesis&amp;chapter=1&amp;verse=4&amp;version=c&amp;mr=m&amp;qw=q&amp;tp=txt_p&amp;tr=hb&amp;wget=v&amp;qget=v&amp;nget=vt\" title=\"show this passage in SHEBANQ\" sec=\"Genesis 1:4\">Genesis 1:4</a>"
      ],
      "text/plain": [
       "<IPython.core.display.HTML object>"
      ]
     },
     "metadata": {},
     "output_type": "display_data"
    }
   ],
   "source": [
    "A.webLink(phrase)"
   ]
  },
  {
   "cell_type": "markdown",
   "metadata": {},
   "source": [
    "A link to another passage:"
   ]
  },
  {
   "cell_type": "code",
   "execution_count": 17,
   "metadata": {
    "ExecuteTime": {
     "end_time": "2018-04-25T13:57:46.144712Z",
     "start_time": "2018-04-25T13:57:46.138983Z"
    }
   },
   "outputs": [],
   "source": [
    "z = A.nodeFromSectionStr('Ezra 3:4')"
   ]
  },
  {
   "cell_type": "code",
   "execution_count": 18,
   "metadata": {
    "ExecuteTime": {
     "end_time": "2018-04-25T13:57:47.022343Z",
     "start_time": "2018-04-25T13:57:47.012756Z"
    }
   },
   "outputs": [
    {
     "data": {
      "text/html": [
       "<a href=\"https://shebanq.ancient-data.org/hebrew/text?book=Esra&amp;chapter=3&amp;verse=4&amp;version=c&amp;mr=m&amp;qw=q&amp;tp=txt_p&amp;tr=hb&amp;wget=v&amp;qget=v&amp;nget=vt\" title=\"show this passage in SHEBANQ\" sec=\"Ezra 3:4\">Ezra 3:4</a>"
      ],
      "text/plain": [
       "<IPython.core.display.HTML object>"
      ]
     },
     "metadata": {},
     "output_type": "display_data"
    }
   ],
   "source": [
    "A.webLink(z)"
   ]
  },
  {
   "cell_type": "markdown",
   "metadata": {},
   "source": [
    "# Plain\n",
    "\n",
    "We can represent a node in plain representation and highlight specific portions."
   ]
  },
  {
   "cell_type": "code",
   "execution_count": 19,
   "metadata": {},
   "outputs": [],
   "source": [
    "firstVerse = F.otype.s('verse')[0]\n",
    "phrases = F.otype.s('phrase')[3:5]\n",
    "words = (2, 4, 6, 9)"
   ]
  },
  {
   "cell_type": "code",
   "execution_count": 20,
   "metadata": {},
   "outputs": [
    {
     "data": {
      "text/html": [
       "<a href=\"https://shebanq.ancient-data.org/hebrew/text?book=Genesis&amp;chapter=1&amp;verse=1&amp;version=c&amp;mr=m&amp;qw=q&amp;tp=txt_p&amp;tr=hb&amp;wget=v&amp;qget=v&amp;nget=vt\" title=\"show this passage in SHEBANQ\" sec=\"Genesis 1:1\">Genesis 1:1</a>&nbsp;<span class=\"plain outer  rtl \"><span class=\"plain rtl  \" ><span class=\"plain rtl  \" ><span class=\"plain rtl  \" ><span class=\"plain rtl  \" ><span class=\"h\">בְּ</span></span><span class=\"plain rtl  \" ><span class=\"h\">רֵאשִׁ֖ית </span></span></span><span class=\"plain rtl  \" ><span class=\"plain rtl  \" ><span class=\"h\">בָּרָ֣א </span></span></span><span class=\"plain rtl  \" ><span class=\"plain rtl  \" ><span class=\"h\">אֱלֹהִ֑ים </span></span></span><span class=\"plain rtl  \" ><span class=\"plain rtl  \" ><span class=\"h\">אֵ֥ת </span></span><span class=\"plain rtl  \" ><span class=\"h\">הַ</span></span><span class=\"plain rtl  \" ><span class=\"h\">שָּׁמַ֖יִם </span></span><span class=\"plain rtl  \" ><span class=\"h\">וְ</span></span><span class=\"plain rtl  \" ><span class=\"h\">אֵ֥ת </span></span><span class=\"plain rtl  \" ><span class=\"h\">הָ</span></span><span class=\"plain rtl  \" ><span class=\"h\">אָֽרֶץ׃ </span></span></span></span></span></span>"
      ],
      "text/plain": [
       "<IPython.core.display.HTML object>"
      ]
     },
     "metadata": {},
     "output_type": "display_data"
    }
   ],
   "source": [
    "firstSentence = F.otype.s('sentence')[0]\n",
    "A.plain(firstSentence, isLinked=False)"
   ]
  },
  {
   "cell_type": "markdown",
   "metadata": {},
   "source": [
    "First we highlight some words:"
   ]
  },
  {
   "cell_type": "code",
   "execution_count": 11,
   "metadata": {},
   "outputs": [
    {
     "data": {
      "text/html": [
       "<span class=\"vrs ltr\"><a href=\"https://shebanq.ancient-data.org/hebrew/text?book=Genesis&amp;chapter=1&amp;verse=1&amp;version=c&amp;mr=m&amp;qw=q&amp;tp=txt_p&amp;tr=hb&amp;wget=v&amp;qget=v&amp;nget=vt\" title=\"show this passage in SHEBANQ\" sec=\"Genesis 1:1\">Genesis 1:1</a></span><span class=\"plain outer  rtl  \" ><span class=\"plain rtl \"><span class=\"plain rtl  \" ><span class=\"plain rtl  \" ><span class=\"plain rtl  \" ><span class=\"plain rtl  \" ><span class=\"h\">בְּ</span></span><span class=\"plain rtl  hl\" ><span class=\"h\">רֵאשִׁ֖ית </span></span></span><span class=\"plain rtl  \" ><span class=\"plain rtl  \" ><span class=\"h\">בָּרָ֣א </span></span></span><span class=\"plain rtl  \" ><span class=\"plain rtl  hl\" ><span class=\"h\">אֱלֹהִ֑ים </span></span></span><span class=\"plain rtl  \" ><span class=\"plain rtl  \" ><span class=\"h\">אֵ֥ת </span></span><span class=\"plain rtl  hl\" ><span class=\"h\">הַ</span></span><span class=\"plain rtl  \" ><span class=\"h\">שָּׁמַ֖יִם </span></span><span class=\"plain rtl  \" ><span class=\"h\">וְ</span></span><span class=\"plain rtl  hl\" ><span class=\"h\">אֵ֥ת </span></span><span class=\"plain rtl  \" ><span class=\"h\">הָ</span></span><span class=\"plain rtl  \" ><span class=\"h\">אָֽרֶץ׃ </span></span></span></span></span></span></span>"
      ],
      "text/plain": [
       "<IPython.core.display.HTML object>"
      ]
     },
     "metadata": {},
     "output_type": "display_data"
    }
   ],
   "source": [
    "highlights = set(words)\n",
    "A.plain(firstVerse, highlights=highlights)"
   ]
  },
  {
   "cell_type": "markdown",
   "metadata": {},
   "source": [
    "Now some phrases:"
   ]
  },
  {
   "cell_type": "code",
   "execution_count": 12,
   "metadata": {},
   "outputs": [
    {
     "data": {
      "text/html": [
       "<span class=\"vrs ltr\"><a href=\"https://shebanq.ancient-data.org/hebrew/text?book=Genesis&amp;chapter=1&amp;verse=1&amp;version=c&amp;mr=m&amp;qw=q&amp;tp=txt_p&amp;tr=hb&amp;wget=v&amp;qget=v&amp;nget=vt\" title=\"show this passage in SHEBANQ\" sec=\"Genesis 1:1\">Genesis 1:1</a></span><span class=\"plain outer  rtl  \" ><span class=\"plain rtl \"><span class=\"plain rtl  \" ><span class=\"plain rtl  \" ><span class=\"plain rtl  \" ><span class=\"plain rtl  \" ><span class=\"h\">בְּ</span></span><span class=\"plain rtl  \" ><span class=\"h\">רֵאשִׁ֖ית </span></span></span><span class=\"plain rtl  \" ><span class=\"plain rtl  \" ><span class=\"h\">בָּרָ֣א </span></span></span><span class=\"plain rtl  \" ><span class=\"plain rtl  \" ><span class=\"h\">אֱלֹהִ֑ים </span></span></span><span class=\"plain rtl  hlbx\" ><span class=\"plain rtl  \" ><span class=\"plain rtl  \" ><span class=\"h\">אֵ֥ת </span></span><span class=\"plain rtl  \" ><span class=\"h\">הַ</span></span><span class=\"plain rtl  \" ><span class=\"h\">שָּׁמַ֖יִם </span></span><span class=\"plain rtl  \" ><span class=\"h\">וְ</span></span><span class=\"plain rtl  \" ><span class=\"h\">אֵ֥ת </span></span><span class=\"plain rtl  \" ><span class=\"h\">הָ</span></span><span class=\"plain rtl  \" ><span class=\"h\">אָֽרֶץ׃ </span></span></span></span></span></span></span></span>"
      ],
      "text/plain": [
       "<IPython.core.display.HTML object>"
      ]
     },
     "metadata": {},
     "output_type": "display_data"
    }
   ],
   "source": [
    "highlights = set(phrases)\n",
    "A.plain(firstVerse, highlights=highlights)"
   ]
  },
  {
   "cell_type": "markdown",
   "metadata": {},
   "source": [
    "As you see, when we highlight bigger things than words, we put a \n",
    "highlighted border around the words in those things."
   ]
  },
  {
   "cell_type": "markdown",
   "metadata": {},
   "source": [
    "We can do both:"
   ]
  },
  {
   "cell_type": "code",
   "execution_count": 13,
   "metadata": {},
   "outputs": [
    {
     "data": {
      "text/html": [
       "<span class=\"vrs ltr\"><a href=\"https://shebanq.ancient-data.org/hebrew/text?book=Genesis&amp;chapter=1&amp;verse=1&amp;version=c&amp;mr=m&amp;qw=q&amp;tp=txt_p&amp;tr=hb&amp;wget=v&amp;qget=v&amp;nget=vt\" title=\"show this passage in SHEBANQ\" sec=\"Genesis 1:1\">Genesis 1:1</a></span><span class=\"plain outer  rtl  \" ><span class=\"plain rtl \"><span class=\"plain rtl  \" ><span class=\"plain rtl  \" ><span class=\"plain rtl  \" ><span class=\"plain rtl  \" ><span class=\"h\">בְּ</span></span><span class=\"plain rtl  hl\" ><span class=\"h\">רֵאשִׁ֖ית </span></span></span><span class=\"plain rtl  \" ><span class=\"plain rtl  \" ><span class=\"h\">בָּרָ֣א </span></span></span><span class=\"plain rtl  \" ><span class=\"plain rtl  hl\" ><span class=\"h\">אֱלֹהִ֑ים </span></span></span><span class=\"plain rtl  hlbx\" ><span class=\"plain rtl  \" ><span class=\"plain rtl  \" ><span class=\"h\">אֵ֥ת </span></span><span class=\"plain rtl  hl\" ><span class=\"h\">הַ</span></span><span class=\"plain rtl  \" ><span class=\"h\">שָּׁמַ֖יִם </span></span><span class=\"plain rtl  \" ><span class=\"h\">וְ</span></span><span class=\"plain rtl  hl\" ><span class=\"h\">אֵ֥ת </span></span><span class=\"plain rtl  \" ><span class=\"h\">הָ</span></span><span class=\"plain rtl  \" ><span class=\"h\">אָֽרֶץ׃ </span></span></span></span></span></span></span></span>"
      ],
      "text/plain": [
       "<IPython.core.display.HTML object>"
      ]
     },
     "metadata": {},
     "output_type": "display_data"
    }
   ],
   "source": [
    "highlights = set(phrases) | set(words)\n",
    "A.plain(firstVerse, highlights=highlights)"
   ]
  },
  {
   "cell_type": "markdown",
   "metadata": {},
   "source": [
    "We can also highlight the verse itself."
   ]
  },
  {
   "cell_type": "code",
   "execution_count": 14,
   "metadata": {},
   "outputs": [
    {
     "data": {
      "text/html": [
       "<span class=\"vrs ltr\"><a href=\"https://shebanq.ancient-data.org/hebrew/text?book=Genesis&amp;chapter=1&amp;verse=1&amp;version=c&amp;mr=m&amp;qw=q&amp;tp=txt_p&amp;tr=hb&amp;wget=v&amp;qget=v&amp;nget=vt\" title=\"show this passage in SHEBANQ\" sec=\"Genesis 1:1\">Genesis 1:1</a></span><span class=\"plain outer  rtl  hlbx\" ><span class=\"plain rtl \"><span class=\"plain rtl  \" ><span class=\"plain rtl  \" ><span class=\"plain rtl  \" ><span class=\"plain rtl  \" ><span class=\"h\">בְּ</span></span><span class=\"plain rtl  \" ><span class=\"h\">רֵאשִׁ֖ית </span></span></span><span class=\"plain rtl  \" ><span class=\"plain rtl  \" ><span class=\"h\">בָּרָ֣א </span></span></span><span class=\"plain rtl  \" ><span class=\"plain rtl  \" ><span class=\"h\">אֱלֹהִ֑ים </span></span></span><span class=\"plain rtl  \" ><span class=\"plain rtl  \" ><span class=\"h\">אֵ֥ת </span></span><span class=\"plain rtl  \" ><span class=\"h\">הַ</span></span><span class=\"plain rtl  \" ><span class=\"h\">שָּׁמַ֖יִם </span></span><span class=\"plain rtl  \" ><span class=\"h\">וְ</span></span><span class=\"plain rtl  \" ><span class=\"h\">אֵ֥ת </span></span><span class=\"plain rtl  \" ><span class=\"h\">הָ</span></span><span class=\"plain rtl  \" ><span class=\"h\">אָֽרֶץ׃ </span></span></span></span></span></span></span>"
      ],
      "text/plain": [
       "<IPython.core.display.HTML object>"
      ]
     },
     "metadata": {},
     "output_type": "display_data"
    }
   ],
   "source": [
    "highlights = {firstVerse}\n",
    "A.plain(firstVerse, highlights=highlights)"
   ]
  },
  {
   "cell_type": "markdown",
   "metadata": {},
   "source": [
    "As you see, only the verse label is highlighted, not the contents.\n",
    "The same policy is followed for chapters and books."
   ]
  },
  {
   "cell_type": "markdown",
   "metadata": {},
   "source": [
    "We can use different colors for highlighting.\n",
    "Lets use two colors for words and yet another color for phrases."
   ]
  },
  {
   "cell_type": "code",
   "execution_count": 15,
   "metadata": {},
   "outputs": [
    {
     "data": {
      "text/html": [
       "<span class=\"vrs ltr\"><a href=\"https://shebanq.ancient-data.org/hebrew/text?book=Genesis&amp;chapter=1&amp;verse=1&amp;version=c&amp;mr=m&amp;qw=q&amp;tp=txt_p&amp;tr=hb&amp;wget=v&amp;qget=v&amp;nget=vt\" title=\"show this passage in SHEBANQ\" sec=\"Genesis 1:1\">Genesis 1:1</a></span><span class=\"plain outer  rtl  hlbx\"  style=\"border-color: #eeeeee;\" ><span class=\"plain rtl \"><span class=\"plain rtl  \" ><span class=\"plain rtl  \" ><span class=\"plain rtl  \" ><span class=\"plain rtl  hl\"  style=\"background-color: lightsalmon;\" ><span class=\"h\">בְּ</span></span><span class=\"plain rtl  \" ><span class=\"h\">רֵאשִׁ֖ית </span></span></span><span class=\"plain rtl  \" ><span class=\"plain rtl  hl\"  style=\"background-color: mediumaquamarine;\" ><span class=\"h\">בָּרָ֣א </span></span></span><span class=\"plain rtl  \" ><span class=\"plain rtl  \" ><span class=\"h\">אֱלֹהִ֑ים </span></span></span><span class=\"plain rtl  hlbx\"  style=\"border-color: blue;\" ><span class=\"plain rtl  \" ><span class=\"plain rtl  hl\"  style=\"background-color: lightsalmon;\" ><span class=\"h\">אֵ֥ת </span></span><span class=\"plain rtl  \" ><span class=\"h\">הַ</span></span><span class=\"plain rtl  hl\"  style=\"background-color: mediumaquamarine;\" ><span class=\"h\">שָּׁמַ֖יִם </span></span><span class=\"plain rtl  \" ><span class=\"h\">וְ</span></span><span class=\"plain rtl  hl\"  style=\"background-color: lightsalmon;\" ><span class=\"h\">אֵ֥ת </span></span><span class=\"plain rtl  \" ><span class=\"h\">הָ</span></span><span class=\"plain rtl  \" ><span class=\"h\">אָֽרֶץ׃ </span></span></span></span></span></span></span></span>"
      ],
      "text/plain": [
       "<IPython.core.display.HTML object>"
      ]
     },
     "metadata": {},
     "output_type": "display_data"
    }
   ],
   "source": [
    "highlights = {i: 'lightsalmon' for i in [1, 5, 9]}\n",
    "highlights.update({i: 'mediumaquamarine' for i in [3, 7]})\n",
    "highlights.update({i: 'blue' for i in phrases})\n",
    "highlights.update({firstVerse: '#eeeeee'})\n",
    "A.plain(firstVerse, highlights=highlights)"
   ]
  },
  {
   "cell_type": "markdown",
   "metadata": {},
   "source": [
    "# Pretty\n",
    "Now a couple of verses:"
   ]
  },
  {
   "cell_type": "code",
   "execution_count": 16,
   "metadata": {
    "ExecuteTime": {
     "end_time": "2018-04-25T13:57:50.369004Z",
     "start_time": "2018-04-25T13:57:50.363695Z"
    }
   },
   "outputs": [],
   "source": [
    "verse1 = A.nodeFromSectionStr('Genesis 1:7')\n",
    "verse2 = A.nodeFromSectionStr('Genesis 1:17')"
   ]
  },
  {
   "cell_type": "code",
   "execution_count": 17,
   "metadata": {
    "ExecuteTime": {
     "end_time": "2018-04-25T13:57:53.124725Z",
     "start_time": "2018-04-25T13:57:53.108960Z"
    }
   },
   "outputs": [
    {
     "data": {
      "text/html": [
       "<div class=\"outeritem rtl \"><div class=\"verse   rtl \" >\n",
       "    <div class=\"vl\">\n",
       "        <div class=\"vrs rtl \"><a href=\"https://shebanq.ancient-data.org/hebrew/text?book=Genesis&amp;chapter=1&amp;verse=7&amp;version=c&amp;mr=m&amp;qw=q&amp;tp=txt_p&amp;tr=hb&amp;wget=v&amp;qget=v&amp;nget=vt\" title=\"show this passage in SHEBANQ\" sec=\"Genesis 1:7\">Genesis 1:7</a></div>\n",
       "        \n",
       "    </div>\n",
       "<div class=\"satom   rtl \" >\n",
       "        <div class=\"sentence  rtl \" >\n",
       "            <a href=\"https://shebanq.ancient-data.org/hebrew/text?book=Genesis&amp;chapter=1&amp;verse=7&amp;version=c&amp;mr=m&amp;qw=q&amp;tp=txt_p&amp;tr=hb&amp;wget=v&amp;qget=v&amp;nget=vt\" title=\"Genesis 1:7\" sec=\"Genesis 1:7\">sentence</a>   <span class=\"number\">18</span>\n",
       "        </div>\n",
       "        <div class=\"atoms rtl \">\n",
       "                    <div class=\"catom   rtl \" >\n",
       "        <div class=\"clause  rtl \" >\n",
       "            <a href=\"https://shebanq.ancient-data.org/hebrew/text?book=Genesis&amp;chapter=1&amp;verse=7&amp;version=c&amp;mr=m&amp;qw=q&amp;tp=txt_p&amp;tr=hb&amp;wget=v&amp;qget=v&amp;nget=vt\" title=\"Genesis 1:7\" sec=\"Genesis 1:7\">clause</a>   <span class=\"typ\">WayX</span>\n",
       "        </div>\n",
       "        <div class=\"atoms rtl \">\n",
       "                    <div class=\"patom   rtl \" >\n",
       "        <div class=\"phrase  rtl \" >\n",
       "            <a href=\"https://shebanq.ancient-data.org/hebrew/text?book=Genesis&amp;chapter=1&amp;verse=7&amp;version=c&amp;mr=m&amp;qw=q&amp;tp=txt_p&amp;tr=hb&amp;wget=v&amp;qget=v&amp;nget=vt\" title=\"Genesis 1:7\" sec=\"Genesis 1:7\">phrase</a>   <span class=\"function\">Conj</span> <span class=\"typ\">CP</span>\n",
       "        </div>\n",
       "        <div class=\"atoms rtl \">\n",
       "                    <div class=\"word   rtl \" ><div class=\"h\"><a target=\"_blank\" href=\"https://shebanq.ancient-data.org/hebrew/word?version=c&amp;id=1W\" title=\"show this lexeme in SHEBANQ\">וַ</a></div><div class=\"features\"> <span class=\"pdp\"><a href=\"https://shebanq.ancient-data.org/hebrew/text?book=Genesis&amp;chapter=1&amp;verse=7&amp;version=c&amp;mr=m&amp;qw=q&amp;tp=txt_p&amp;tr=hb&amp;wget=v&amp;qget=v&amp;nget=vt\" title=\"Genesis 1:7\" sec=\"Genesis 1:7\">conj</a></span> <span class=\"gloss\">and</span></div></div></div></div><div class=\"patom   rtl \" >\n",
       "        <div class=\"phrase  rtl \" >\n",
       "            <a href=\"https://shebanq.ancient-data.org/hebrew/text?book=Genesis&amp;chapter=1&amp;verse=7&amp;version=c&amp;mr=m&amp;qw=q&amp;tp=txt_p&amp;tr=hb&amp;wget=v&amp;qget=v&amp;nget=vt\" title=\"Genesis 1:7\" sec=\"Genesis 1:7\">phrase</a>   <span class=\"function\">Pred</span> <span class=\"typ\">VP</span>\n",
       "        </div>\n",
       "        <div class=\"atoms rtl \">\n",
       "                    <div class=\"word   rtl \" ><div class=\"h\"><a target=\"_blank\" href=\"https://shebanq.ancient-data.org/hebrew/word?version=c&amp;id=1OFHv\" title=\"show this lexeme in SHEBANQ\">יַּ֣עַשׂ </a></div><div class=\"features\"> <span class=\"pdp\"><a href=\"https://shebanq.ancient-data.org/hebrew/text?book=Genesis&amp;chapter=1&amp;verse=7&amp;version=c&amp;mr=m&amp;qw=q&amp;tp=txt_p&amp;tr=hb&amp;wget=v&amp;qget=v&amp;nget=vt\" title=\"Genesis 1:7\" sec=\"Genesis 1:7\">verb</a></span> <span class=\"gloss\">make</span> <span class=\"vs\">qal</span> <span class=\"vt\">wayq</span></div></div></div></div><div class=\"patom   rtl \" >\n",
       "        <div class=\"phrase  rtl \" >\n",
       "            <a href=\"https://shebanq.ancient-data.org/hebrew/text?book=Genesis&amp;chapter=1&amp;verse=7&amp;version=c&amp;mr=m&amp;qw=q&amp;tp=txt_p&amp;tr=hb&amp;wget=v&amp;qget=v&amp;nget=vt\" title=\"Genesis 1:7\" sec=\"Genesis 1:7\">phrase</a>   <span class=\"function\">Subj</span> <span class=\"typ\">NP</span>\n",
       "        </div>\n",
       "        <div class=\"atoms rtl \">\n",
       "                    <div class=\"word   rtl \" ><div class=\"h\"><a target=\"_blank\" href=\"https://shebanq.ancient-data.org/hebrew/word?version=c&amp;id=1ALHJMn\" title=\"show this lexeme in SHEBANQ\">אֱלֹהִים֮ </a></div><div class=\"features\"> <span class=\"pdp\"><a href=\"https://shebanq.ancient-data.org/hebrew/text?book=Genesis&amp;chapter=1&amp;verse=7&amp;version=c&amp;mr=m&amp;qw=q&amp;tp=txt_p&amp;tr=hb&amp;wget=v&amp;qget=v&amp;nget=vt\" title=\"Genesis 1:7\" sec=\"Genesis 1:7\">subs</a></span> <span class=\"gloss\">god(s)</span></div></div></div></div><div class=\"patom   rtl \" >\n",
       "        <div class=\"phrase  rtl \" >\n",
       "            <a href=\"https://shebanq.ancient-data.org/hebrew/text?book=Genesis&amp;chapter=1&amp;verse=7&amp;version=c&amp;mr=m&amp;qw=q&amp;tp=txt_p&amp;tr=hb&amp;wget=v&amp;qget=v&amp;nget=vt\" title=\"Genesis 1:7\" sec=\"Genesis 1:7\">phrase</a>   <span class=\"function\">Objc</span> <span class=\"typ\">PP</span>\n",
       "        </div>\n",
       "        <div class=\"atoms rtl \">\n",
       "                    <div class=\"word   rtl \" ><div class=\"h\"><a target=\"_blank\" href=\"https://shebanq.ancient-data.org/hebrew/word?version=c&amp;id=1AT\" title=\"show this lexeme in SHEBANQ\">אֶת־</a></div><div class=\"features\"> <span class=\"pdp\"><a href=\"https://shebanq.ancient-data.org/hebrew/text?book=Genesis&amp;chapter=1&amp;verse=7&amp;version=c&amp;mr=m&amp;qw=q&amp;tp=txt_p&amp;tr=hb&amp;wget=v&amp;qget=v&amp;nget=vt\" title=\"Genesis 1:7\" sec=\"Genesis 1:7\">prep</a></span> <span class=\"gloss\">&lt;object marker></span></div></div><div class=\"word   rtl \" ><div class=\"h\"><a target=\"_blank\" href=\"https://shebanq.ancient-data.org/hebrew/word?version=c&amp;id=1H\" title=\"show this lexeme in SHEBANQ\">הָ</a></div><div class=\"features\"> <span class=\"pdp\"><a href=\"https://shebanq.ancient-data.org/hebrew/text?book=Genesis&amp;chapter=1&amp;verse=7&amp;version=c&amp;mr=m&amp;qw=q&amp;tp=txt_p&amp;tr=hb&amp;wget=v&amp;qget=v&amp;nget=vt\" title=\"Genesis 1:7\" sec=\"Genesis 1:7\">art</a></span> <span class=\"gloss\">the</span></div></div><div class=\"word   rtl \" ><div class=\"h\"><a target=\"_blank\" href=\"https://shebanq.ancient-data.org/hebrew/word?version=c&amp;id=1RQJOn\" title=\"show this lexeme in SHEBANQ\">רָקִיעַ֒ </a></div><div class=\"features\"> <span class=\"pdp\"><a href=\"https://shebanq.ancient-data.org/hebrew/text?book=Genesis&amp;chapter=1&amp;verse=7&amp;version=c&amp;mr=m&amp;qw=q&amp;tp=txt_p&amp;tr=hb&amp;wget=v&amp;qget=v&amp;nget=vt\" title=\"Genesis 1:7\" sec=\"Genesis 1:7\">subs</a></span> <span class=\"gloss\">firmament</span></div></div></div></div></div></div></div></div><div class=\"satom   rtl \" >\n",
       "        <div class=\"sentence  rtl \" >\n",
       "            <a href=\"https://shebanq.ancient-data.org/hebrew/text?book=Genesis&amp;chapter=1&amp;verse=7&amp;version=c&amp;mr=m&amp;qw=q&amp;tp=txt_p&amp;tr=hb&amp;wget=v&amp;qget=v&amp;nget=vt\" title=\"Genesis 1:7\" sec=\"Genesis 1:7\">sentence</a>   <span class=\"number\">19</span>\n",
       "        </div>\n",
       "        <div class=\"atoms rtl \">\n",
       "                    <div class=\"catom  l  rtl \" >\n",
       "        <div class=\"clause  rtl \" >\n",
       "            <a href=\"https://shebanq.ancient-data.org/hebrew/text?book=Genesis&amp;chapter=1&amp;verse=7&amp;version=c&amp;mr=m&amp;qw=q&amp;tp=txt_p&amp;tr=hb&amp;wget=v&amp;qget=v&amp;nget=vt\" title=\"Genesis 1:7\" sec=\"Genesis 1:7\">clause</a>   <span class=\"typ\">Way0</span>\n",
       "        </div>\n",
       "        <div class=\"atoms rtl \">\n",
       "                    <div class=\"patom   rtl \" >\n",
       "        <div class=\"phrase  rtl \" >\n",
       "            <a href=\"https://shebanq.ancient-data.org/hebrew/text?book=Genesis&amp;chapter=1&amp;verse=7&amp;version=c&amp;mr=m&amp;qw=q&amp;tp=txt_p&amp;tr=hb&amp;wget=v&amp;qget=v&amp;nget=vt\" title=\"Genesis 1:7\" sec=\"Genesis 1:7\">phrase</a>   <span class=\"function\">Conj</span> <span class=\"typ\">CP</span>\n",
       "        </div>\n",
       "        <div class=\"atoms rtl \">\n",
       "                    <div class=\"word   rtl \" ><div class=\"h\"><a target=\"_blank\" href=\"https://shebanq.ancient-data.org/hebrew/word?version=c&amp;id=1W\" title=\"show this lexeme in SHEBANQ\">וַ</a></div><div class=\"features\"> <span class=\"pdp\"><a href=\"https://shebanq.ancient-data.org/hebrew/text?book=Genesis&amp;chapter=1&amp;verse=7&amp;version=c&amp;mr=m&amp;qw=q&amp;tp=txt_p&amp;tr=hb&amp;wget=v&amp;qget=v&amp;nget=vt\" title=\"Genesis 1:7\" sec=\"Genesis 1:7\">conj</a></span> <span class=\"gloss\">and</span></div></div></div></div><div class=\"patom   rtl \" >\n",
       "        <div class=\"phrase  rtl \" >\n",
       "            <a href=\"https://shebanq.ancient-data.org/hebrew/text?book=Genesis&amp;chapter=1&amp;verse=7&amp;version=c&amp;mr=m&amp;qw=q&amp;tp=txt_p&amp;tr=hb&amp;wget=v&amp;qget=v&amp;nget=vt\" title=\"Genesis 1:7\" sec=\"Genesis 1:7\">phrase</a>   <span class=\"function\">Pred</span> <span class=\"typ\">VP</span>\n",
       "        </div>\n",
       "        <div class=\"atoms rtl \">\n",
       "                    <div class=\"word   rtl \" ><div class=\"h\"><a target=\"_blank\" href=\"https://shebanq.ancient-data.org/hebrew/word?version=c&amp;id=1BDLv\" title=\"show this lexeme in SHEBANQ\">יַּבְדֵּ֗ל </a></div><div class=\"features\"> <span class=\"pdp\"><a href=\"https://shebanq.ancient-data.org/hebrew/text?book=Genesis&amp;chapter=1&amp;verse=7&amp;version=c&amp;mr=m&amp;qw=q&amp;tp=txt_p&amp;tr=hb&amp;wget=v&amp;qget=v&amp;nget=vt\" title=\"Genesis 1:7\" sec=\"Genesis 1:7\">verb</a></span> <span class=\"gloss\">separate</span> <span class=\"vs\">hif</span> <span class=\"vt\">wayq</span></div></div></div></div><div class=\"patom  l  rtl \" >\n",
       "        <div class=\"phrase  rtl \" >\n",
       "            <a href=\"https://shebanq.ancient-data.org/hebrew/text?book=Genesis&amp;chapter=1&amp;verse=7&amp;version=c&amp;mr=m&amp;qw=q&amp;tp=txt_p&amp;tr=hb&amp;wget=v&amp;qget=v&amp;nget=vt\" title=\"Genesis 1:7\" sec=\"Genesis 1:7\">phrase</a>   <span class=\"function\">Cmpl</span> <span class=\"typ\">PP</span>\n",
       "        </div>\n",
       "        <div class=\"atoms rtl \">\n",
       "                    <div class=\"word   rtl \" ><div class=\"h\"><a target=\"_blank\" href=\"https://shebanq.ancient-data.org/hebrew/word?version=c&amp;id=1BJNn\" title=\"show this lexeme in SHEBANQ\">בֵּ֤ין </a></div><div class=\"features\"> <span class=\"pdp\"><a href=\"https://shebanq.ancient-data.org/hebrew/text?book=Genesis&amp;chapter=1&amp;verse=7&amp;version=c&amp;mr=m&amp;qw=q&amp;tp=txt_p&amp;tr=hb&amp;wget=v&amp;qget=v&amp;nget=vt\" title=\"Genesis 1:7\" sec=\"Genesis 1:7\">prep</a></span> <span class=\"gloss\">interval</span></div></div><div class=\"word   rtl \" ><div class=\"h\"><a target=\"_blank\" href=\"https://shebanq.ancient-data.org/hebrew/word?version=c&amp;id=1H\" title=\"show this lexeme in SHEBANQ\">הַ</a></div><div class=\"features\"> <span class=\"pdp\"><a href=\"https://shebanq.ancient-data.org/hebrew/text?book=Genesis&amp;chapter=1&amp;verse=7&amp;version=c&amp;mr=m&amp;qw=q&amp;tp=txt_p&amp;tr=hb&amp;wget=v&amp;qget=v&amp;nget=vt\" title=\"Genesis 1:7\" sec=\"Genesis 1:7\">art</a></span> <span class=\"gloss\">the</span></div></div><div class=\"word   rtl \" ><div class=\"h\"><a target=\"_blank\" href=\"https://shebanq.ancient-data.org/hebrew/word?version=c&amp;id=1MJMn\" title=\"show this lexeme in SHEBANQ\">מַּ֨יִם֙ </a></div><div class=\"features\"> <span class=\"pdp\"><a href=\"https://shebanq.ancient-data.org/hebrew/text?book=Genesis&amp;chapter=1&amp;verse=7&amp;version=c&amp;mr=m&amp;qw=q&amp;tp=txt_p&amp;tr=hb&amp;wget=v&amp;qget=v&amp;nget=vt\" title=\"Genesis 1:7\" sec=\"Genesis 1:7\">subs</a></span> <span class=\"gloss\">water</span></div></div></div></div></div></div><div class=\"catom   rtl \" >\n",
       "        <div class=\"clause  rtl \" >\n",
       "            <a href=\"https://shebanq.ancient-data.org/hebrew/text?book=Genesis&amp;chapter=1&amp;verse=7&amp;version=c&amp;mr=m&amp;qw=q&amp;tp=txt_p&amp;tr=hb&amp;wget=v&amp;qget=v&amp;nget=vt\" title=\"Genesis 1:7\" sec=\"Genesis 1:7\">clause</a>   <span class=\"rela\">Attr</span> <span class=\"typ\">NmCl</span>\n",
       "        </div>\n",
       "        <div class=\"atoms rtl \">\n",
       "                    <div class=\"patom   rtl \" >\n",
       "        <div class=\"phrase  rtl \" >\n",
       "            <a href=\"https://shebanq.ancient-data.org/hebrew/text?book=Genesis&amp;chapter=1&amp;verse=7&amp;version=c&amp;mr=m&amp;qw=q&amp;tp=txt_p&amp;tr=hb&amp;wget=v&amp;qget=v&amp;nget=vt\" title=\"Genesis 1:7\" sec=\"Genesis 1:7\">phrase</a>   <span class=\"function\">Rela</span> <span class=\"typ\">CP</span>\n",
       "        </div>\n",
       "        <div class=\"atoms rtl \">\n",
       "                    <div class=\"word   rtl \" ><div class=\"h\"><a target=\"_blank\" href=\"https://shebanq.ancient-data.org/hebrew/word?version=c&amp;id=1ACR\" title=\"show this lexeme in SHEBANQ\">אֲשֶׁר֙ </a></div><div class=\"features\"> <span class=\"pdp\"><a href=\"https://shebanq.ancient-data.org/hebrew/text?book=Genesis&amp;chapter=1&amp;verse=7&amp;version=c&amp;mr=m&amp;qw=q&amp;tp=txt_p&amp;tr=hb&amp;wget=v&amp;qget=v&amp;nget=vt\" title=\"Genesis 1:7\" sec=\"Genesis 1:7\">conj</a></span> <span class=\"gloss\">&lt;relative></span></div></div></div></div><div class=\"patom  l  rtl \" >\n",
       "        <div class=\"phrase  rtl \" >\n",
       "            <a href=\"https://shebanq.ancient-data.org/hebrew/text?book=Genesis&amp;chapter=1&amp;verse=7&amp;version=c&amp;mr=m&amp;qw=q&amp;tp=txt_p&amp;tr=hb&amp;wget=v&amp;qget=v&amp;nget=vt\" title=\"Genesis 1:7\" sec=\"Genesis 1:7\">phrase</a>   <span class=\"function\">PreC</span> <span class=\"typ\">PP</span>\n",
       "        </div>\n",
       "        <div class=\"atoms rtl \">\n",
       "                    <div class=\"word   rtl \" ><div class=\"h\"><a target=\"_blank\" href=\"https://shebanq.ancient-data.org/hebrew/word?version=c&amp;id=1MN\" title=\"show this lexeme in SHEBANQ\">מִ</a></div><div class=\"features\"> <span class=\"pdp\"><a href=\"https://shebanq.ancient-data.org/hebrew/text?book=Genesis&amp;chapter=1&amp;verse=7&amp;version=c&amp;mr=m&amp;qw=q&amp;tp=txt_p&amp;tr=hb&amp;wget=v&amp;qget=v&amp;nget=vt\" title=\"Genesis 1:7\" sec=\"Genesis 1:7\">prep</a></span> <span class=\"gloss\">from</span></div></div><div class=\"word   rtl \" ><div class=\"h\"><a target=\"_blank\" href=\"https://shebanq.ancient-data.org/hebrew/word?version=c&amp;id=1TXTn\" title=\"show this lexeme in SHEBANQ\">תַּ֣חַת </a></div><div class=\"features\"> <span class=\"pdp\"><a href=\"https://shebanq.ancient-data.org/hebrew/text?book=Genesis&amp;chapter=1&amp;verse=7&amp;version=c&amp;mr=m&amp;qw=q&amp;tp=txt_p&amp;tr=hb&amp;wget=v&amp;qget=v&amp;nget=vt\" title=\"Genesis 1:7\" sec=\"Genesis 1:7\">subs</a></span> <span class=\"gloss\">under part</span></div></div></div></div><div class=\"patom  r  rtl \" >\n",
       "        <div class=\"phrase  rtl \" >\n",
       "            <a href=\"https://shebanq.ancient-data.org/hebrew/text?book=Genesis&amp;chapter=1&amp;verse=7&amp;version=c&amp;mr=m&amp;qw=q&amp;tp=txt_p&amp;tr=hb&amp;wget=v&amp;qget=v&amp;nget=vt\" title=\"Genesis 1:7\" sec=\"Genesis 1:7\">phrase</a>   <span class=\"function\">PreC</span> <span class=\"typ\">PP</span>\n",
       "        </div>\n",
       "        <div class=\"atoms rtl \">\n",
       "                    <div class=\"word   rtl \" ><div class=\"h\"><a target=\"_blank\" href=\"https://shebanq.ancient-data.org/hebrew/word?version=c&amp;id=1L\" title=\"show this lexeme in SHEBANQ\">לָ</a></div><div class=\"features\"> <span class=\"pdp\"><a href=\"https://shebanq.ancient-data.org/hebrew/text?book=Genesis&amp;chapter=1&amp;verse=7&amp;version=c&amp;mr=m&amp;qw=q&amp;tp=txt_p&amp;tr=hb&amp;wget=v&amp;qget=v&amp;nget=vt\" title=\"Genesis 1:7\" sec=\"Genesis 1:7\">prep</a></span> <span class=\"gloss\">to</span></div></div><div class=\"word   rtl \" ><div class=\"h\"><a target=\"_blank\" href=\"https://shebanq.ancient-data.org/hebrew/word?version=c&amp;id=1H\" title=\"show this lexeme in SHEBANQ\"></a></div><div class=\"features\"> <span class=\"pdp\"><a href=\"https://shebanq.ancient-data.org/hebrew/text?book=Genesis&amp;chapter=1&amp;verse=7&amp;version=c&amp;mr=m&amp;qw=q&amp;tp=txt_p&amp;tr=hb&amp;wget=v&amp;qget=v&amp;nget=vt\" title=\"Genesis 1:7\" sec=\"Genesis 1:7\">art</a></span> <span class=\"gloss\">the</span></div></div><div class=\"word   rtl \" ><div class=\"h\"><a target=\"_blank\" href=\"https://shebanq.ancient-data.org/hebrew/word?version=c&amp;id=1RQJOn\" title=\"show this lexeme in SHEBANQ\">רָקִ֔יעַ </a></div><div class=\"features\"> <span class=\"pdp\"><a href=\"https://shebanq.ancient-data.org/hebrew/text?book=Genesis&amp;chapter=1&amp;verse=7&amp;version=c&amp;mr=m&amp;qw=q&amp;tp=txt_p&amp;tr=hb&amp;wget=v&amp;qget=v&amp;nget=vt\" title=\"Genesis 1:7\" sec=\"Genesis 1:7\">subs</a></span> <span class=\"gloss\">firmament</span></div></div></div></div></div></div><div class=\"catom  r  rtl \" >\n",
       "        <div class=\"clause  rtl \" >\n",
       "            <a href=\"https://shebanq.ancient-data.org/hebrew/text?book=Genesis&amp;chapter=1&amp;verse=7&amp;version=c&amp;mr=m&amp;qw=q&amp;tp=txt_p&amp;tr=hb&amp;wget=v&amp;qget=v&amp;nget=vt\" title=\"Genesis 1:7\" sec=\"Genesis 1:7\">clause</a>   <span class=\"typ\">Way0|Defc</span>\n",
       "        </div>\n",
       "        <div class=\"atoms rtl \">\n",
       "                    <div class=\"patom  r l  rtl \" >\n",
       "        <div class=\"phrase  rtl \" >\n",
       "            <a href=\"https://shebanq.ancient-data.org/hebrew/text?book=Genesis&amp;chapter=1&amp;verse=7&amp;version=c&amp;mr=m&amp;qw=q&amp;tp=txt_p&amp;tr=hb&amp;wget=v&amp;qget=v&amp;nget=vt\" title=\"Genesis 1:7\" sec=\"Genesis 1:7\">phrase</a>   <span class=\"function\">Cmpl</span> <span class=\"typ\">PP|CP</span>\n",
       "        </div>\n",
       "        <div class=\"atoms rtl \">\n",
       "                    <div class=\"word   rtl \" ><div class=\"h\"><a target=\"_blank\" href=\"https://shebanq.ancient-data.org/hebrew/word?version=c&amp;id=1W\" title=\"show this lexeme in SHEBANQ\">וּ</a></div><div class=\"features\"> <span class=\"pdp\"><a href=\"https://shebanq.ancient-data.org/hebrew/text?book=Genesis&amp;chapter=1&amp;verse=7&amp;version=c&amp;mr=m&amp;qw=q&amp;tp=txt_p&amp;tr=hb&amp;wget=v&amp;qget=v&amp;nget=vt\" title=\"Genesis 1:7\" sec=\"Genesis 1:7\">conj</a></span> <span class=\"gloss\">and</span></div></div></div></div><div class=\"patom  r  rtl \" >\n",
       "        <div class=\"phrase  rtl \" >\n",
       "            <a href=\"https://shebanq.ancient-data.org/hebrew/text?book=Genesis&amp;chapter=1&amp;verse=7&amp;version=c&amp;mr=m&amp;qw=q&amp;tp=txt_p&amp;tr=hb&amp;wget=v&amp;qget=v&amp;nget=vt\" title=\"Genesis 1:7\" sec=\"Genesis 1:7\">phrase</a>   <span class=\"function\">Cmpl</span> <span class=\"typ\">PP</span>\n",
       "        </div>\n",
       "        <div class=\"atoms rtl \">\n",
       "                    <div class=\"word   rtl \" ><div class=\"h\"><a target=\"_blank\" href=\"https://shebanq.ancient-data.org/hebrew/word?version=c&amp;id=1BJNn\" title=\"show this lexeme in SHEBANQ\">בֵ֣ין </a></div><div class=\"features\"> <span class=\"pdp\"><a href=\"https://shebanq.ancient-data.org/hebrew/text?book=Genesis&amp;chapter=1&amp;verse=7&amp;version=c&amp;mr=m&amp;qw=q&amp;tp=txt_p&amp;tr=hb&amp;wget=v&amp;qget=v&amp;nget=vt\" title=\"Genesis 1:7\" sec=\"Genesis 1:7\">prep</a></span> <span class=\"gloss\">interval</span></div></div><div class=\"word   rtl \" ><div class=\"h\"><a target=\"_blank\" href=\"https://shebanq.ancient-data.org/hebrew/word?version=c&amp;id=1H\" title=\"show this lexeme in SHEBANQ\">הַ</a></div><div class=\"features\"> <span class=\"pdp\"><a href=\"https://shebanq.ancient-data.org/hebrew/text?book=Genesis&amp;chapter=1&amp;verse=7&amp;version=c&amp;mr=m&amp;qw=q&amp;tp=txt_p&amp;tr=hb&amp;wget=v&amp;qget=v&amp;nget=vt\" title=\"Genesis 1:7\" sec=\"Genesis 1:7\">art</a></span> <span class=\"gloss\">the</span></div></div><div class=\"word   rtl \" ><div class=\"h\"><a target=\"_blank\" href=\"https://shebanq.ancient-data.org/hebrew/word?version=c&amp;id=1MJMn\" title=\"show this lexeme in SHEBANQ\">מַּ֔יִם </a></div><div class=\"features\"> <span class=\"pdp\"><a href=\"https://shebanq.ancient-data.org/hebrew/text?book=Genesis&amp;chapter=1&amp;verse=7&amp;version=c&amp;mr=m&amp;qw=q&amp;tp=txt_p&amp;tr=hb&amp;wget=v&amp;qget=v&amp;nget=vt\" title=\"Genesis 1:7\" sec=\"Genesis 1:7\">subs</a></span> <span class=\"gloss\">water</span></div></div></div></div></div></div><div class=\"catom   rtl \" >\n",
       "        <div class=\"clause  rtl \" >\n",
       "            <a href=\"https://shebanq.ancient-data.org/hebrew/text?book=Genesis&amp;chapter=1&amp;verse=7&amp;version=c&amp;mr=m&amp;qw=q&amp;tp=txt_p&amp;tr=hb&amp;wget=v&amp;qget=v&amp;nget=vt\" title=\"Genesis 1:7\" sec=\"Genesis 1:7\">clause</a>   <span class=\"rela\">Attr</span> <span class=\"typ\">NmCl</span>\n",
       "        </div>\n",
       "        <div class=\"atoms rtl \">\n",
       "                    <div class=\"patom   rtl \" >\n",
       "        <div class=\"phrase  rtl \" >\n",
       "            <a href=\"https://shebanq.ancient-data.org/hebrew/text?book=Genesis&amp;chapter=1&amp;verse=7&amp;version=c&amp;mr=m&amp;qw=q&amp;tp=txt_p&amp;tr=hb&amp;wget=v&amp;qget=v&amp;nget=vt\" title=\"Genesis 1:7\" sec=\"Genesis 1:7\">phrase</a>   <span class=\"function\">Rela</span> <span class=\"typ\">CP</span>\n",
       "        </div>\n",
       "        <div class=\"atoms rtl \">\n",
       "                    <div class=\"word   rtl \" ><div class=\"h\"><a target=\"_blank\" href=\"https://shebanq.ancient-data.org/hebrew/word?version=c&amp;id=1ACR\" title=\"show this lexeme in SHEBANQ\">אֲשֶׁ֖ר </a></div><div class=\"features\"> <span class=\"pdp\"><a href=\"https://shebanq.ancient-data.org/hebrew/text?book=Genesis&amp;chapter=1&amp;verse=7&amp;version=c&amp;mr=m&amp;qw=q&amp;tp=txt_p&amp;tr=hb&amp;wget=v&amp;qget=v&amp;nget=vt\" title=\"Genesis 1:7\" sec=\"Genesis 1:7\">conj</a></span> <span class=\"gloss\">&lt;relative></span></div></div></div></div><div class=\"patom   rtl \" >\n",
       "        <div class=\"phrase  rtl \" >\n",
       "            <a href=\"https://shebanq.ancient-data.org/hebrew/text?book=Genesis&amp;chapter=1&amp;verse=7&amp;version=c&amp;mr=m&amp;qw=q&amp;tp=txt_p&amp;tr=hb&amp;wget=v&amp;qget=v&amp;nget=vt\" title=\"Genesis 1:7\" sec=\"Genesis 1:7\">phrase</a>   <span class=\"function\">PreC</span> <span class=\"typ\">PP</span>\n",
       "        </div>\n",
       "        <div class=\"atoms rtl \">\n",
       "                    <div class=\"word   rtl \" ><div class=\"h\"><a target=\"_blank\" href=\"https://shebanq.ancient-data.org/hebrew/word?version=c&amp;id=1MN\" title=\"show this lexeme in SHEBANQ\">מֵ</a></div><div class=\"features\"> <span class=\"pdp\"><a href=\"https://shebanq.ancient-data.org/hebrew/text?book=Genesis&amp;chapter=1&amp;verse=7&amp;version=c&amp;mr=m&amp;qw=q&amp;tp=txt_p&amp;tr=hb&amp;wget=v&amp;qget=v&amp;nget=vt\" title=\"Genesis 1:7\" sec=\"Genesis 1:7\">prep</a></span> <span class=\"gloss\">from</span></div></div><div class=\"word   rtl \" ><div class=\"h\"><a target=\"_blank\" href=\"https://shebanq.ancient-data.org/hebrew/word?version=c&amp;id=1OL\" title=\"show this lexeme in SHEBANQ\">עַ֣ל </a></div><div class=\"features\"> <span class=\"pdp\"><a href=\"https://shebanq.ancient-data.org/hebrew/text?book=Genesis&amp;chapter=1&amp;verse=7&amp;version=c&amp;mr=m&amp;qw=q&amp;tp=txt_p&amp;tr=hb&amp;wget=v&amp;qget=v&amp;nget=vt\" title=\"Genesis 1:7\" sec=\"Genesis 1:7\">prep</a></span> <span class=\"gloss\">upon</span></div></div><div class=\"word   rtl \" ><div class=\"h\"><a target=\"_blank\" href=\"https://shebanq.ancient-data.org/hebrew/word?version=c&amp;id=1L\" title=\"show this lexeme in SHEBANQ\">לָ</a></div><div class=\"features\"> <span class=\"pdp\"><a href=\"https://shebanq.ancient-data.org/hebrew/text?book=Genesis&amp;chapter=1&amp;verse=7&amp;version=c&amp;mr=m&amp;qw=q&amp;tp=txt_p&amp;tr=hb&amp;wget=v&amp;qget=v&amp;nget=vt\" title=\"Genesis 1:7\" sec=\"Genesis 1:7\">prep</a></span> <span class=\"gloss\">to</span></div></div><div class=\"word   rtl \" ><div class=\"h\"><a target=\"_blank\" href=\"https://shebanq.ancient-data.org/hebrew/word?version=c&amp;id=1H\" title=\"show this lexeme in SHEBANQ\"></a></div><div class=\"features\"> <span class=\"pdp\"><a href=\"https://shebanq.ancient-data.org/hebrew/text?book=Genesis&amp;chapter=1&amp;verse=7&amp;version=c&amp;mr=m&amp;qw=q&amp;tp=txt_p&amp;tr=hb&amp;wget=v&amp;qget=v&amp;nget=vt\" title=\"Genesis 1:7\" sec=\"Genesis 1:7\">art</a></span> <span class=\"gloss\">the</span></div></div><div class=\"word   rtl \" ><div class=\"h\"><a target=\"_blank\" href=\"https://shebanq.ancient-data.org/hebrew/word?version=c&amp;id=1RQJOn\" title=\"show this lexeme in SHEBANQ\">רָקִ֑יעַ </a></div><div class=\"features\"> <span class=\"pdp\"><a href=\"https://shebanq.ancient-data.org/hebrew/text?book=Genesis&amp;chapter=1&amp;verse=7&amp;version=c&amp;mr=m&amp;qw=q&amp;tp=txt_p&amp;tr=hb&amp;wget=v&amp;qget=v&amp;nget=vt\" title=\"Genesis 1:7\" sec=\"Genesis 1:7\">subs</a></span> <span class=\"gloss\">firmament</span></div></div></div></div></div></div></div></div><div class=\"satom   rtl \" >\n",
       "        <div class=\"sentence  rtl \" >\n",
       "            <a href=\"https://shebanq.ancient-data.org/hebrew/text?book=Genesis&amp;chapter=1&amp;verse=7&amp;version=c&amp;mr=m&amp;qw=q&amp;tp=txt_p&amp;tr=hb&amp;wget=v&amp;qget=v&amp;nget=vt\" title=\"Genesis 1:7\" sec=\"Genesis 1:7\">sentence</a>   <span class=\"number\">20</span>\n",
       "        </div>\n",
       "        <div class=\"atoms rtl \">\n",
       "                    <div class=\"catom   rtl \" >\n",
       "        <div class=\"clause  rtl \" >\n",
       "            <a href=\"https://shebanq.ancient-data.org/hebrew/text?book=Genesis&amp;chapter=1&amp;verse=7&amp;version=c&amp;mr=m&amp;qw=q&amp;tp=txt_p&amp;tr=hb&amp;wget=v&amp;qget=v&amp;nget=vt\" title=\"Genesis 1:7\" sec=\"Genesis 1:7\">clause</a>   <span class=\"typ\">Way0</span>\n",
       "        </div>\n",
       "        <div class=\"atoms rtl \">\n",
       "                    <div class=\"patom   rtl \" >\n",
       "        <div class=\"phrase  rtl \" >\n",
       "            <a href=\"https://shebanq.ancient-data.org/hebrew/text?book=Genesis&amp;chapter=1&amp;verse=7&amp;version=c&amp;mr=m&amp;qw=q&amp;tp=txt_p&amp;tr=hb&amp;wget=v&amp;qget=v&amp;nget=vt\" title=\"Genesis 1:7\" sec=\"Genesis 1:7\">phrase</a>   <span class=\"function\">Conj</span> <span class=\"typ\">CP</span>\n",
       "        </div>\n",
       "        <div class=\"atoms rtl \">\n",
       "                    <div class=\"word   rtl \" ><div class=\"h\"><a target=\"_blank\" href=\"https://shebanq.ancient-data.org/hebrew/word?version=c&amp;id=1W\" title=\"show this lexeme in SHEBANQ\">וַֽ</a></div><div class=\"features\"> <span class=\"pdp\"><a href=\"https://shebanq.ancient-data.org/hebrew/text?book=Genesis&amp;chapter=1&amp;verse=7&amp;version=c&amp;mr=m&amp;qw=q&amp;tp=txt_p&amp;tr=hb&amp;wget=v&amp;qget=v&amp;nget=vt\" title=\"Genesis 1:7\" sec=\"Genesis 1:7\">conj</a></span> <span class=\"gloss\">and</span></div></div></div></div><div class=\"patom   rtl \" >\n",
       "        <div class=\"phrase  rtl \" >\n",
       "            <a href=\"https://shebanq.ancient-data.org/hebrew/text?book=Genesis&amp;chapter=1&amp;verse=7&amp;version=c&amp;mr=m&amp;qw=q&amp;tp=txt_p&amp;tr=hb&amp;wget=v&amp;qget=v&amp;nget=vt\" title=\"Genesis 1:7\" sec=\"Genesis 1:7\">phrase</a>   <span class=\"function\">Pred</span> <span class=\"typ\">VP</span>\n",
       "        </div>\n",
       "        <div class=\"atoms rtl \">\n",
       "                    <div class=\"word   rtl \" ><div class=\"h\"><a target=\"_blank\" href=\"https://shebanq.ancient-data.org/hebrew/word?version=c&amp;id=1HJHv\" title=\"show this lexeme in SHEBANQ\">יְהִי־</a></div><div class=\"features\"> <span class=\"pdp\"><a href=\"https://shebanq.ancient-data.org/hebrew/text?book=Genesis&amp;chapter=1&amp;verse=7&amp;version=c&amp;mr=m&amp;qw=q&amp;tp=txt_p&amp;tr=hb&amp;wget=v&amp;qget=v&amp;nget=vt\" title=\"Genesis 1:7\" sec=\"Genesis 1:7\">verb</a></span> <span class=\"gloss\">be</span> <span class=\"vs\">qal</span> <span class=\"vt\">wayq</span></div></div></div></div><div class=\"patom   rtl \" >\n",
       "        <div class=\"phrase  rtl \" >\n",
       "            <a href=\"https://shebanq.ancient-data.org/hebrew/text?book=Genesis&amp;chapter=1&amp;verse=7&amp;version=c&amp;mr=m&amp;qw=q&amp;tp=txt_p&amp;tr=hb&amp;wget=v&amp;qget=v&amp;nget=vt\" title=\"Genesis 1:7\" sec=\"Genesis 1:7\">phrase</a>   <span class=\"function\">Modi</span> <span class=\"typ\">AdvP</span>\n",
       "        </div>\n",
       "        <div class=\"atoms rtl \">\n",
       "                    <div class=\"word   rtl \" ><div class=\"h\"><a target=\"_blank\" href=\"https://shebanq.ancient-data.org/hebrew/word?version=c&amp;id=1KN\" title=\"show this lexeme in SHEBANQ\">כֵֽן׃ </a></div><div class=\"features\"> <span class=\"pdp\"><a href=\"https://shebanq.ancient-data.org/hebrew/text?book=Genesis&amp;chapter=1&amp;verse=7&amp;version=c&amp;mr=m&amp;qw=q&amp;tp=txt_p&amp;tr=hb&amp;wget=v&amp;qget=v&amp;nget=vt\" title=\"Genesis 1:7\" sec=\"Genesis 1:7\">advb</a></span> <span class=\"gloss\">thus</span></div></div></div></div></div></div></div></div></div></div>"
      ],
      "text/plain": [
       "<IPython.core.display.HTML object>"
      ]
     },
     "metadata": {},
     "output_type": "display_data"
    }
   ],
   "source": [
    "A.pretty(verse1)"
   ]
  },
  {
   "cell_type": "markdown",
   "metadata": {},
   "source": [
    "The next verse with node numbers."
   ]
  },
  {
   "cell_type": "code",
   "execution_count": 18,
   "metadata": {
    "ExecuteTime": {
     "end_time": "2018-04-25T13:58:01.798768Z",
     "start_time": "2018-04-25T13:58:01.787884Z"
    }
   },
   "outputs": [
    {
     "data": {
      "text/html": [
       "<div class=\"outeritem rtl \"><div class=\"verse   rtl \" >\n",
       "    <div class=\"vl\">\n",
       "        <div class=\"vrs rtl \"><a href=\"https://shebanq.ancient-data.org/hebrew/text?book=Genesis&amp;chapter=1&amp;verse=17&amp;version=c&amp;mr=m&amp;qw=q&amp;tp=txt_p&amp;tr=hb&amp;wget=v&amp;qget=v&amp;nget=vt\" title=\"show this passage in SHEBANQ\" sec=\"Genesis 1:17\">Genesis 1:17</a></div>\n",
       "        <span class=\"nd\">1414370</span>\n",
       "    </div>\n",
       "<div class=\"satom  lno  rtl \" >\n",
       "        <div class=\"sentence  rtl \" >\n",
       "            <a href=\"https://shebanq.ancient-data.org/hebrew/text?book=Genesis&amp;chapter=1&amp;verse=17&amp;version=c&amp;mr=m&amp;qw=q&amp;tp=txt_p&amp;tr=hb&amp;wget=v&amp;qget=v&amp;nget=vt\" title=\"Genesis 1:17\" sec=\"Genesis 1:17\">sentence</a> <span class=\"nd\">1172335</span>  <span class=\"number\">46</span>\n",
       "        </div>\n",
       "        <div class=\"atoms rtl \">\n",
       "                    <div class=\"catom   rtl \" >\n",
       "        <div class=\"clause  rtl \" >\n",
       "            <a href=\"https://shebanq.ancient-data.org/hebrew/text?book=Genesis&amp;chapter=1&amp;verse=17&amp;version=c&amp;mr=m&amp;qw=q&amp;tp=txt_p&amp;tr=hb&amp;wget=v&amp;qget=v&amp;nget=vt\" title=\"Genesis 1:17\" sec=\"Genesis 1:17\">clause</a> <span class=\"nd\">427611</span>  <span class=\"typ\">WayX</span>\n",
       "        </div>\n",
       "        <div class=\"atoms rtl \">\n",
       "                    <div class=\"patom   rtl \" >\n",
       "        <div class=\"phrase  rtl \" >\n",
       "            <a href=\"https://shebanq.ancient-data.org/hebrew/text?book=Genesis&amp;chapter=1&amp;verse=17&amp;version=c&amp;mr=m&amp;qw=q&amp;tp=txt_p&amp;tr=hb&amp;wget=v&amp;qget=v&amp;nget=vt\" title=\"Genesis 1:17\" sec=\"Genesis 1:17\">phrase</a> <span class=\"nd\">651720</span>  <span class=\"function\">Conj</span> <span class=\"typ\">CP</span>\n",
       "        </div>\n",
       "        <div class=\"atoms rtl \">\n",
       "                    <div class=\"word   rtl \" ><span class=\"nd\">314</span><div class=\"h\"><a target=\"_blank\" href=\"https://shebanq.ancient-data.org/hebrew/word?version=c&amp;id=1W\" title=\"show this lexeme in SHEBANQ\">וַ</a></div><div class=\"features\"> <span class=\"pdp\"><a href=\"https://shebanq.ancient-data.org/hebrew/text?book=Genesis&amp;chapter=1&amp;verse=17&amp;version=c&amp;mr=m&amp;qw=q&amp;tp=txt_p&amp;tr=hb&amp;wget=v&amp;qget=v&amp;nget=vt\" title=\"Genesis 1:17\" sec=\"Genesis 1:17\">conj</a></span> <span class=\"gloss\">and</span></div></div></div></div><div class=\"patom   rtl \" >\n",
       "        <div class=\"phrase  rtl \" >\n",
       "            <a href=\"https://shebanq.ancient-data.org/hebrew/text?book=Genesis&amp;chapter=1&amp;verse=17&amp;version=c&amp;mr=m&amp;qw=q&amp;tp=txt_p&amp;tr=hb&amp;wget=v&amp;qget=v&amp;nget=vt\" title=\"Genesis 1:17\" sec=\"Genesis 1:17\">phrase</a> <span class=\"nd\">651721</span>  <span class=\"function\">Pred</span> <span class=\"typ\">VP</span>\n",
       "        </div>\n",
       "        <div class=\"atoms rtl \">\n",
       "                    <div class=\"word   rtl \" ><span class=\"nd\">315</span><div class=\"h\"><a target=\"_blank\" href=\"https://shebanq.ancient-data.org/hebrew/word?version=c&amp;id=1NTNv\" title=\"show this lexeme in SHEBANQ\">יִּתֵּ֥ן </a></div><div class=\"features\"> <span class=\"pdp\"><a href=\"https://shebanq.ancient-data.org/hebrew/text?book=Genesis&amp;chapter=1&amp;verse=17&amp;version=c&amp;mr=m&amp;qw=q&amp;tp=txt_p&amp;tr=hb&amp;wget=v&amp;qget=v&amp;nget=vt\" title=\"Genesis 1:17\" sec=\"Genesis 1:17\">verb</a></span> <span class=\"gloss\">give</span> <span class=\"vs\">qal</span> <span class=\"vt\">wayq</span></div></div></div></div><div class=\"patom   rtl \" >\n",
       "        <div class=\"phrase  rtl \" >\n",
       "            <a href=\"https://shebanq.ancient-data.org/hebrew/text?book=Genesis&amp;chapter=1&amp;verse=17&amp;version=c&amp;mr=m&amp;qw=q&amp;tp=txt_p&amp;tr=hb&amp;wget=v&amp;qget=v&amp;nget=vt\" title=\"Genesis 1:17\" sec=\"Genesis 1:17\">phrase</a> <span class=\"nd\">651722</span>  <span class=\"function\">Objc</span> <span class=\"typ\">PP</span>\n",
       "        </div>\n",
       "        <div class=\"atoms rtl \">\n",
       "                    <div class=\"word   rtl \" ><span class=\"nd\">316</span><div class=\"h\"><a target=\"_blank\" href=\"https://shebanq.ancient-data.org/hebrew/word?version=c&amp;id=1AT\" title=\"show this lexeme in SHEBANQ\">אֹתָ֛ם </a></div><div class=\"features\"> <span class=\"pdp\"><a href=\"https://shebanq.ancient-data.org/hebrew/text?book=Genesis&amp;chapter=1&amp;verse=17&amp;version=c&amp;mr=m&amp;qw=q&amp;tp=txt_p&amp;tr=hb&amp;wget=v&amp;qget=v&amp;nget=vt\" title=\"Genesis 1:17\" sec=\"Genesis 1:17\">prep</a></span> <span class=\"gloss\">&lt;object marker></span></div></div></div></div><div class=\"patom   rtl \" >\n",
       "        <div class=\"phrase  rtl \" >\n",
       "            <a href=\"https://shebanq.ancient-data.org/hebrew/text?book=Genesis&amp;chapter=1&amp;verse=17&amp;version=c&amp;mr=m&amp;qw=q&amp;tp=txt_p&amp;tr=hb&amp;wget=v&amp;qget=v&amp;nget=vt\" title=\"Genesis 1:17\" sec=\"Genesis 1:17\">phrase</a> <span class=\"nd\">651723</span>  <span class=\"function\">Subj</span> <span class=\"typ\">NP</span>\n",
       "        </div>\n",
       "        <div class=\"atoms rtl \">\n",
       "                    <div class=\"word   rtl \" ><span class=\"nd\">317</span><div class=\"h\"><a target=\"_blank\" href=\"https://shebanq.ancient-data.org/hebrew/word?version=c&amp;id=1ALHJMn\" title=\"show this lexeme in SHEBANQ\">אֱלֹהִ֖ים </a></div><div class=\"features\"> <span class=\"pdp\"><a href=\"https://shebanq.ancient-data.org/hebrew/text?book=Genesis&amp;chapter=1&amp;verse=17&amp;version=c&amp;mr=m&amp;qw=q&amp;tp=txt_p&amp;tr=hb&amp;wget=v&amp;qget=v&amp;nget=vt\" title=\"Genesis 1:17\" sec=\"Genesis 1:17\">subs</a></span> <span class=\"gloss\">god(s)</span></div></div></div></div><div class=\"patom   rtl \" >\n",
       "        <div class=\"phrase  rtl \" >\n",
       "            <a href=\"https://shebanq.ancient-data.org/hebrew/text?book=Genesis&amp;chapter=1&amp;verse=17&amp;version=c&amp;mr=m&amp;qw=q&amp;tp=txt_p&amp;tr=hb&amp;wget=v&amp;qget=v&amp;nget=vt\" title=\"Genesis 1:17\" sec=\"Genesis 1:17\">phrase</a> <span class=\"nd\">651724</span>  <span class=\"function\">Cmpl</span> <span class=\"typ\">PP</span>\n",
       "        </div>\n",
       "        <div class=\"atoms rtl \">\n",
       "                    <div class=\"word   rtl \" ><span class=\"nd\">318</span><div class=\"h\"><a target=\"_blank\" href=\"https://shebanq.ancient-data.org/hebrew/word?version=c&amp;id=1B\" title=\"show this lexeme in SHEBANQ\">בִּ</a></div><div class=\"features\"> <span class=\"pdp\"><a href=\"https://shebanq.ancient-data.org/hebrew/text?book=Genesis&amp;chapter=1&amp;verse=17&amp;version=c&amp;mr=m&amp;qw=q&amp;tp=txt_p&amp;tr=hb&amp;wget=v&amp;qget=v&amp;nget=vt\" title=\"Genesis 1:17\" sec=\"Genesis 1:17\">prep</a></span> <span class=\"gloss\">in</span></div></div><div class=\"word   rtl \" ><span class=\"nd\">319</span><div class=\"h\"><a target=\"_blank\" href=\"https://shebanq.ancient-data.org/hebrew/word?version=c&amp;id=1RQJOn\" title=\"show this lexeme in SHEBANQ\">רְקִ֣יעַ </a></div><div class=\"features\"> <span class=\"pdp\"><a href=\"https://shebanq.ancient-data.org/hebrew/text?book=Genesis&amp;chapter=1&amp;verse=17&amp;version=c&amp;mr=m&amp;qw=q&amp;tp=txt_p&amp;tr=hb&amp;wget=v&amp;qget=v&amp;nget=vt\" title=\"Genesis 1:17\" sec=\"Genesis 1:17\">subs</a></span> <span class=\"gloss\">firmament</span></div></div><div class=\"word   rtl \" ><span class=\"nd\">320</span><div class=\"h\"><a target=\"_blank\" href=\"https://shebanq.ancient-data.org/hebrew/word?version=c&amp;id=1H\" title=\"show this lexeme in SHEBANQ\">הַ</a></div><div class=\"features\"> <span class=\"pdp\"><a href=\"https://shebanq.ancient-data.org/hebrew/text?book=Genesis&amp;chapter=1&amp;verse=17&amp;version=c&amp;mr=m&amp;qw=q&amp;tp=txt_p&amp;tr=hb&amp;wget=v&amp;qget=v&amp;nget=vt\" title=\"Genesis 1:17\" sec=\"Genesis 1:17\">art</a></span> <span class=\"gloss\">the</span></div></div><div class=\"word   rtl \" ><span class=\"nd\">321</span><div class=\"h\"><a target=\"_blank\" href=\"https://shebanq.ancient-data.org/hebrew/word?version=c&amp;id=1CMJMn\" title=\"show this lexeme in SHEBANQ\">שָּׁמָ֑יִם </a></div><div class=\"features\"> <span class=\"pdp\"><a href=\"https://shebanq.ancient-data.org/hebrew/text?book=Genesis&amp;chapter=1&amp;verse=17&amp;version=c&amp;mr=m&amp;qw=q&amp;tp=txt_p&amp;tr=hb&amp;wget=v&amp;qget=v&amp;nget=vt\" title=\"Genesis 1:17\" sec=\"Genesis 1:17\">subs</a></span> <span class=\"gloss\">heavens</span></div></div></div></div></div></div><div class=\"catom   rtl \" >\n",
       "        <div class=\"clause  rtl \" >\n",
       "            <a href=\"https://shebanq.ancient-data.org/hebrew/text?book=Genesis&amp;chapter=1&amp;verse=17&amp;version=c&amp;mr=m&amp;qw=q&amp;tp=txt_p&amp;tr=hb&amp;wget=v&amp;qget=v&amp;nget=vt\" title=\"Genesis 1:17\" sec=\"Genesis 1:17\">clause</a> <span class=\"nd\">427612</span>  <span class=\"rela\">Adju</span> <span class=\"typ\">InfC</span>\n",
       "        </div>\n",
       "        <div class=\"atoms rtl \">\n",
       "                    <div class=\"patom   rtl \" >\n",
       "        <div class=\"phrase  rtl \" >\n",
       "            <a href=\"https://shebanq.ancient-data.org/hebrew/text?book=Genesis&amp;chapter=1&amp;verse=17&amp;version=c&amp;mr=m&amp;qw=q&amp;tp=txt_p&amp;tr=hb&amp;wget=v&amp;qget=v&amp;nget=vt\" title=\"Genesis 1:17\" sec=\"Genesis 1:17\">phrase</a> <span class=\"nd\">651725</span>  <span class=\"function\">Pred</span> <span class=\"typ\">VP</span>\n",
       "        </div>\n",
       "        <div class=\"atoms rtl \">\n",
       "                    <div class=\"word   rtl \" ><span class=\"nd\">322</span><div class=\"h\"><a target=\"_blank\" href=\"https://shebanq.ancient-data.org/hebrew/word?version=c&amp;id=1L\" title=\"show this lexeme in SHEBANQ\">לְ</a></div><div class=\"features\"> <span class=\"pdp\"><a href=\"https://shebanq.ancient-data.org/hebrew/text?book=Genesis&amp;chapter=1&amp;verse=17&amp;version=c&amp;mr=m&amp;qw=q&amp;tp=txt_p&amp;tr=hb&amp;wget=v&amp;qget=v&amp;nget=vt\" title=\"Genesis 1:17\" sec=\"Genesis 1:17\">prep</a></span> <span class=\"gloss\">to</span></div></div><div class=\"word   rtl \" ><span class=\"nd\">323</span><div class=\"h\"><a target=\"_blank\" href=\"https://shebanq.ancient-data.org/hebrew/word?version=c&amp;id=1AWRv\" title=\"show this lexeme in SHEBANQ\">הָאִ֖יר </a></div><div class=\"features\"> <span class=\"pdp\"><a href=\"https://shebanq.ancient-data.org/hebrew/text?book=Genesis&amp;chapter=1&amp;verse=17&amp;version=c&amp;mr=m&amp;qw=q&amp;tp=txt_p&amp;tr=hb&amp;wget=v&amp;qget=v&amp;nget=vt\" title=\"Genesis 1:17\" sec=\"Genesis 1:17\">verb</a></span> <span class=\"gloss\">be light</span> <span class=\"vs\">hif</span> <span class=\"vt\">infc</span></div></div></div></div><div class=\"patom   rtl \" >\n",
       "        <div class=\"phrase  rtl \" >\n",
       "            <a href=\"https://shebanq.ancient-data.org/hebrew/text?book=Genesis&amp;chapter=1&amp;verse=17&amp;version=c&amp;mr=m&amp;qw=q&amp;tp=txt_p&amp;tr=hb&amp;wget=v&amp;qget=v&amp;nget=vt\" title=\"Genesis 1:17\" sec=\"Genesis 1:17\">phrase</a> <span class=\"nd\">651726</span>  <span class=\"function\">Cmpl</span> <span class=\"typ\">PP</span>\n",
       "        </div>\n",
       "        <div class=\"atoms rtl \">\n",
       "                    <div class=\"word   rtl \" ><span class=\"nd\">324</span><div class=\"h\"><a target=\"_blank\" href=\"https://shebanq.ancient-data.org/hebrew/word?version=c&amp;id=1OL\" title=\"show this lexeme in SHEBANQ\">עַל־</a></div><div class=\"features\"> <span class=\"pdp\"><a href=\"https://shebanq.ancient-data.org/hebrew/text?book=Genesis&amp;chapter=1&amp;verse=17&amp;version=c&amp;mr=m&amp;qw=q&amp;tp=txt_p&amp;tr=hb&amp;wget=v&amp;qget=v&amp;nget=vt\" title=\"Genesis 1:17\" sec=\"Genesis 1:17\">prep</a></span> <span class=\"gloss\">upon</span></div></div><div class=\"word   rtl \" ><span class=\"nd\">325</span><div class=\"h\"><a target=\"_blank\" href=\"https://shebanq.ancient-data.org/hebrew/word?version=c&amp;id=1H\" title=\"show this lexeme in SHEBANQ\">הָ</a></div><div class=\"features\"> <span class=\"pdp\"><a href=\"https://shebanq.ancient-data.org/hebrew/text?book=Genesis&amp;chapter=1&amp;verse=17&amp;version=c&amp;mr=m&amp;qw=q&amp;tp=txt_p&amp;tr=hb&amp;wget=v&amp;qget=v&amp;nget=vt\" title=\"Genesis 1:17\" sec=\"Genesis 1:17\">art</a></span> <span class=\"gloss\">the</span></div></div><div class=\"word   rtl \" ><span class=\"nd\">326</span><div class=\"h\"><a target=\"_blank\" href=\"https://shebanq.ancient-data.org/hebrew/word?version=c&amp;id=1ARYn\" title=\"show this lexeme in SHEBANQ\">אָֽרֶץ׃ </a></div><div class=\"features\"> <span class=\"pdp\"><a href=\"https://shebanq.ancient-data.org/hebrew/text?book=Genesis&amp;chapter=1&amp;verse=17&amp;version=c&amp;mr=m&amp;qw=q&amp;tp=txt_p&amp;tr=hb&amp;wget=v&amp;qget=v&amp;nget=vt\" title=\"Genesis 1:17\" sec=\"Genesis 1:17\">subs</a></span> <span class=\"gloss\">earth</span></div></div></div></div></div></div></div></div></div></div>"
      ],
      "text/plain": [
       "<IPython.core.display.HTML object>"
      ]
     },
     "metadata": {},
     "output_type": "display_data"
    }
   ],
   "source": [
    "A.pretty(verse2, withNodes=True)"
   ]
  },
  {
   "cell_type": "markdown",
   "metadata": {},
   "source": [
    "Note that the sentence in this verse continues after the verse ends, that is why there is no left border."
   ]
  },
  {
   "cell_type": "markdown",
   "metadata": {},
   "source": [
    "Now we selectively remove a few features from the display:"
   ]
  },
  {
   "cell_type": "code",
   "execution_count": 19,
   "metadata": {
    "ExecuteTime": {
     "end_time": "2018-04-25T13:58:07.808474Z",
     "start_time": "2018-04-25T13:58:07.784567Z"
    }
   },
   "outputs": [
    {
     "data": {
      "text/html": [
       "<div class=\"outeritem rtl \"><div class=\"verse   rtl \" >\n",
       "    <div class=\"vl\">\n",
       "        <div class=\"vrs rtl \"><a href=\"https://shebanq.ancient-data.org/hebrew/text?book=Genesis&amp;chapter=1&amp;verse=17&amp;version=c&amp;mr=m&amp;qw=q&amp;tp=txt_p&amp;tr=hb&amp;wget=v&amp;qget=v&amp;nget=vt\" title=\"show this passage in SHEBANQ\" sec=\"Genesis 1:17\">Genesis 1:17</a></div>\n",
       "        \n",
       "    </div>\n",
       "<div class=\"satom  lno  rtl \" >\n",
       "        <div class=\"sentence  rtl \" >\n",
       "            <a href=\"https://shebanq.ancient-data.org/hebrew/text?book=Genesis&amp;chapter=1&amp;verse=17&amp;version=c&amp;mr=m&amp;qw=q&amp;tp=txt_p&amp;tr=hb&amp;wget=v&amp;qget=v&amp;nget=vt\" title=\"Genesis 1:17\" sec=\"Genesis 1:17\">sentence</a>   <span class=\"number\">46</span>\n",
       "        </div>\n",
       "        <div class=\"atoms rtl \">\n",
       "                    <div class=\"catom   rtl \" >\n",
       "        <div class=\"clause  rtl \" >\n",
       "            <a href=\"https://shebanq.ancient-data.org/hebrew/text?book=Genesis&amp;chapter=1&amp;verse=17&amp;version=c&amp;mr=m&amp;qw=q&amp;tp=txt_p&amp;tr=hb&amp;wget=v&amp;qget=v&amp;nget=vt\" title=\"Genesis 1:17\" sec=\"Genesis 1:17\">clause</a>  \n",
       "        </div>\n",
       "        <div class=\"atoms rtl \">\n",
       "                    <div class=\"patom   rtl \" >\n",
       "        <div class=\"phrase  rtl \" >\n",
       "            <a href=\"https://shebanq.ancient-data.org/hebrew/text?book=Genesis&amp;chapter=1&amp;verse=17&amp;version=c&amp;mr=m&amp;qw=q&amp;tp=txt_p&amp;tr=hb&amp;wget=v&amp;qget=v&amp;nget=vt\" title=\"Genesis 1:17\" sec=\"Genesis 1:17\">phrase</a>   <span class=\"function\">Conj</span>\n",
       "        </div>\n",
       "        <div class=\"atoms rtl \">\n",
       "                    <div class=\"word   rtl \" ><div class=\"h\"><a target=\"_blank\" href=\"https://shebanq.ancient-data.org/hebrew/word?version=c&amp;id=1W\" title=\"show this lexeme in SHEBANQ\">וַ</a></div><div class=\"features\"> <span class=\"pdp\"><a href=\"https://shebanq.ancient-data.org/hebrew/text?book=Genesis&amp;chapter=1&amp;verse=17&amp;version=c&amp;mr=m&amp;qw=q&amp;tp=txt_p&amp;tr=hb&amp;wget=v&amp;qget=v&amp;nget=vt\" title=\"Genesis 1:17\" sec=\"Genesis 1:17\">conj</a></span></div></div></div></div><div class=\"patom   rtl \" >\n",
       "        <div class=\"phrase  rtl \" >\n",
       "            <a href=\"https://shebanq.ancient-data.org/hebrew/text?book=Genesis&amp;chapter=1&amp;verse=17&amp;version=c&amp;mr=m&amp;qw=q&amp;tp=txt_p&amp;tr=hb&amp;wget=v&amp;qget=v&amp;nget=vt\" title=\"Genesis 1:17\" sec=\"Genesis 1:17\">phrase</a>   <span class=\"function\">Pred</span>\n",
       "        </div>\n",
       "        <div class=\"atoms rtl \">\n",
       "                    <div class=\"word   rtl \" ><div class=\"h\"><a target=\"_blank\" href=\"https://shebanq.ancient-data.org/hebrew/word?version=c&amp;id=1NTNv\" title=\"show this lexeme in SHEBANQ\">יִּתֵּ֥ן </a></div><div class=\"features\"> <span class=\"pdp\"><a href=\"https://shebanq.ancient-data.org/hebrew/text?book=Genesis&amp;chapter=1&amp;verse=17&amp;version=c&amp;mr=m&amp;qw=q&amp;tp=txt_p&amp;tr=hb&amp;wget=v&amp;qget=v&amp;nget=vt\" title=\"Genesis 1:17\" sec=\"Genesis 1:17\">verb</a></span> <span class=\"vs\">qal</span> <span class=\"vt\">wayq</span></div></div></div></div><div class=\"patom   rtl \" >\n",
       "        <div class=\"phrase  rtl \" >\n",
       "            <a href=\"https://shebanq.ancient-data.org/hebrew/text?book=Genesis&amp;chapter=1&amp;verse=17&amp;version=c&amp;mr=m&amp;qw=q&amp;tp=txt_p&amp;tr=hb&amp;wget=v&amp;qget=v&amp;nget=vt\" title=\"Genesis 1:17\" sec=\"Genesis 1:17\">phrase</a>   <span class=\"function\">Objc</span>\n",
       "        </div>\n",
       "        <div class=\"atoms rtl \">\n",
       "                    <div class=\"word   rtl \" ><div class=\"h\"><a target=\"_blank\" href=\"https://shebanq.ancient-data.org/hebrew/word?version=c&amp;id=1AT\" title=\"show this lexeme in SHEBANQ\">אֹתָ֛ם </a></div><div class=\"features\"> <span class=\"pdp\"><a href=\"https://shebanq.ancient-data.org/hebrew/text?book=Genesis&amp;chapter=1&amp;verse=17&amp;version=c&amp;mr=m&amp;qw=q&amp;tp=txt_p&amp;tr=hb&amp;wget=v&amp;qget=v&amp;nget=vt\" title=\"Genesis 1:17\" sec=\"Genesis 1:17\">prep</a></span></div></div></div></div><div class=\"patom   rtl \" >\n",
       "        <div class=\"phrase  rtl \" >\n",
       "            <a href=\"https://shebanq.ancient-data.org/hebrew/text?book=Genesis&amp;chapter=1&amp;verse=17&amp;version=c&amp;mr=m&amp;qw=q&amp;tp=txt_p&amp;tr=hb&amp;wget=v&amp;qget=v&amp;nget=vt\" title=\"Genesis 1:17\" sec=\"Genesis 1:17\">phrase</a>   <span class=\"function\">Subj</span>\n",
       "        </div>\n",
       "        <div class=\"atoms rtl \">\n",
       "                    <div class=\"word   rtl \" ><div class=\"h\"><a target=\"_blank\" href=\"https://shebanq.ancient-data.org/hebrew/word?version=c&amp;id=1ALHJMn\" title=\"show this lexeme in SHEBANQ\">אֱלֹהִ֖ים </a></div><div class=\"features\"> <span class=\"pdp\"><a href=\"https://shebanq.ancient-data.org/hebrew/text?book=Genesis&amp;chapter=1&amp;verse=17&amp;version=c&amp;mr=m&amp;qw=q&amp;tp=txt_p&amp;tr=hb&amp;wget=v&amp;qget=v&amp;nget=vt\" title=\"Genesis 1:17\" sec=\"Genesis 1:17\">subs</a></span></div></div></div></div><div class=\"patom   rtl \" >\n",
       "        <div class=\"phrase  rtl \" >\n",
       "            <a href=\"https://shebanq.ancient-data.org/hebrew/text?book=Genesis&amp;chapter=1&amp;verse=17&amp;version=c&amp;mr=m&amp;qw=q&amp;tp=txt_p&amp;tr=hb&amp;wget=v&amp;qget=v&amp;nget=vt\" title=\"Genesis 1:17\" sec=\"Genesis 1:17\">phrase</a>   <span class=\"function\">Cmpl</span>\n",
       "        </div>\n",
       "        <div class=\"atoms rtl \">\n",
       "                    <div class=\"word   rtl \" ><div class=\"h\"><a target=\"_blank\" href=\"https://shebanq.ancient-data.org/hebrew/word?version=c&amp;id=1B\" title=\"show this lexeme in SHEBANQ\">בִּ</a></div><div class=\"features\"> <span class=\"pdp\"><a href=\"https://shebanq.ancient-data.org/hebrew/text?book=Genesis&amp;chapter=1&amp;verse=17&amp;version=c&amp;mr=m&amp;qw=q&amp;tp=txt_p&amp;tr=hb&amp;wget=v&amp;qget=v&amp;nget=vt\" title=\"Genesis 1:17\" sec=\"Genesis 1:17\">prep</a></span></div></div><div class=\"word   rtl \" ><div class=\"h\"><a target=\"_blank\" href=\"https://shebanq.ancient-data.org/hebrew/word?version=c&amp;id=1RQJOn\" title=\"show this lexeme in SHEBANQ\">רְקִ֣יעַ </a></div><div class=\"features\"> <span class=\"pdp\"><a href=\"https://shebanq.ancient-data.org/hebrew/text?book=Genesis&amp;chapter=1&amp;verse=17&amp;version=c&amp;mr=m&amp;qw=q&amp;tp=txt_p&amp;tr=hb&amp;wget=v&amp;qget=v&amp;nget=vt\" title=\"Genesis 1:17\" sec=\"Genesis 1:17\">subs</a></span></div></div><div class=\"word   rtl \" ><div class=\"h\"><a target=\"_blank\" href=\"https://shebanq.ancient-data.org/hebrew/word?version=c&amp;id=1H\" title=\"show this lexeme in SHEBANQ\">הַ</a></div><div class=\"features\"> <span class=\"pdp\"><a href=\"https://shebanq.ancient-data.org/hebrew/text?book=Genesis&amp;chapter=1&amp;verse=17&amp;version=c&amp;mr=m&amp;qw=q&amp;tp=txt_p&amp;tr=hb&amp;wget=v&amp;qget=v&amp;nget=vt\" title=\"Genesis 1:17\" sec=\"Genesis 1:17\">art</a></span></div></div><div class=\"word   rtl \" ><div class=\"h\"><a target=\"_blank\" href=\"https://shebanq.ancient-data.org/hebrew/word?version=c&amp;id=1CMJMn\" title=\"show this lexeme in SHEBANQ\">שָּׁמָ֑יִם </a></div><div class=\"features\"> <span class=\"pdp\"><a href=\"https://shebanq.ancient-data.org/hebrew/text?book=Genesis&amp;chapter=1&amp;verse=17&amp;version=c&amp;mr=m&amp;qw=q&amp;tp=txt_p&amp;tr=hb&amp;wget=v&amp;qget=v&amp;nget=vt\" title=\"Genesis 1:17\" sec=\"Genesis 1:17\">subs</a></span></div></div></div></div></div></div><div class=\"catom   rtl \" >\n",
       "        <div class=\"clause  rtl \" >\n",
       "            <a href=\"https://shebanq.ancient-data.org/hebrew/text?book=Genesis&amp;chapter=1&amp;verse=17&amp;version=c&amp;mr=m&amp;qw=q&amp;tp=txt_p&amp;tr=hb&amp;wget=v&amp;qget=v&amp;nget=vt\" title=\"Genesis 1:17\" sec=\"Genesis 1:17\">clause</a>   <span class=\"rela\">Adju</span>\n",
       "        </div>\n",
       "        <div class=\"atoms rtl \">\n",
       "                    <div class=\"patom   rtl \" >\n",
       "        <div class=\"phrase  rtl \" >\n",
       "            <a href=\"https://shebanq.ancient-data.org/hebrew/text?book=Genesis&amp;chapter=1&amp;verse=17&amp;version=c&amp;mr=m&amp;qw=q&amp;tp=txt_p&amp;tr=hb&amp;wget=v&amp;qget=v&amp;nget=vt\" title=\"Genesis 1:17\" sec=\"Genesis 1:17\">phrase</a>   <span class=\"function\">Pred</span>\n",
       "        </div>\n",
       "        <div class=\"atoms rtl \">\n",
       "                    <div class=\"word   rtl \" ><div class=\"h\"><a target=\"_blank\" href=\"https://shebanq.ancient-data.org/hebrew/word?version=c&amp;id=1L\" title=\"show this lexeme in SHEBANQ\">לְ</a></div><div class=\"features\"> <span class=\"pdp\"><a href=\"https://shebanq.ancient-data.org/hebrew/text?book=Genesis&amp;chapter=1&amp;verse=17&amp;version=c&amp;mr=m&amp;qw=q&amp;tp=txt_p&amp;tr=hb&amp;wget=v&amp;qget=v&amp;nget=vt\" title=\"Genesis 1:17\" sec=\"Genesis 1:17\">prep</a></span></div></div><div class=\"word   rtl \" ><div class=\"h\"><a target=\"_blank\" href=\"https://shebanq.ancient-data.org/hebrew/word?version=c&amp;id=1AWRv\" title=\"show this lexeme in SHEBANQ\">הָאִ֖יר </a></div><div class=\"features\"> <span class=\"pdp\"><a href=\"https://shebanq.ancient-data.org/hebrew/text?book=Genesis&amp;chapter=1&amp;verse=17&amp;version=c&amp;mr=m&amp;qw=q&amp;tp=txt_p&amp;tr=hb&amp;wget=v&amp;qget=v&amp;nget=vt\" title=\"Genesis 1:17\" sec=\"Genesis 1:17\">verb</a></span> <span class=\"vs\">hif</span> <span class=\"vt\">infc</span></div></div></div></div><div class=\"patom   rtl \" >\n",
       "        <div class=\"phrase  rtl \" >\n",
       "            <a href=\"https://shebanq.ancient-data.org/hebrew/text?book=Genesis&amp;chapter=1&amp;verse=17&amp;version=c&amp;mr=m&amp;qw=q&amp;tp=txt_p&amp;tr=hb&amp;wget=v&amp;qget=v&amp;nget=vt\" title=\"Genesis 1:17\" sec=\"Genesis 1:17\">phrase</a>   <span class=\"function\">Cmpl</span>\n",
       "        </div>\n",
       "        <div class=\"atoms rtl \">\n",
       "                    <div class=\"word   rtl \" ><div class=\"h\"><a target=\"_blank\" href=\"https://shebanq.ancient-data.org/hebrew/word?version=c&amp;id=1OL\" title=\"show this lexeme in SHEBANQ\">עַל־</a></div><div class=\"features\"> <span class=\"pdp\"><a href=\"https://shebanq.ancient-data.org/hebrew/text?book=Genesis&amp;chapter=1&amp;verse=17&amp;version=c&amp;mr=m&amp;qw=q&amp;tp=txt_p&amp;tr=hb&amp;wget=v&amp;qget=v&amp;nget=vt\" title=\"Genesis 1:17\" sec=\"Genesis 1:17\">prep</a></span></div></div><div class=\"word   rtl \" ><div class=\"h\"><a target=\"_blank\" href=\"https://shebanq.ancient-data.org/hebrew/word?version=c&amp;id=1H\" title=\"show this lexeme in SHEBANQ\">הָ</a></div><div class=\"features\"> <span class=\"pdp\"><a href=\"https://shebanq.ancient-data.org/hebrew/text?book=Genesis&amp;chapter=1&amp;verse=17&amp;version=c&amp;mr=m&amp;qw=q&amp;tp=txt_p&amp;tr=hb&amp;wget=v&amp;qget=v&amp;nget=vt\" title=\"Genesis 1:17\" sec=\"Genesis 1:17\">art</a></span></div></div><div class=\"word   rtl \" ><div class=\"h\"><a target=\"_blank\" href=\"https://shebanq.ancient-data.org/hebrew/word?version=c&amp;id=1ARYn\" title=\"show this lexeme in SHEBANQ\">אָֽרֶץ׃ </a></div><div class=\"features\"> <span class=\"pdp\"><a href=\"https://shebanq.ancient-data.org/hebrew/text?book=Genesis&amp;chapter=1&amp;verse=17&amp;version=c&amp;mr=m&amp;qw=q&amp;tp=txt_p&amp;tr=hb&amp;wget=v&amp;qget=v&amp;nget=vt\" title=\"Genesis 1:17\" sec=\"Genesis 1:17\">subs</a></span></div></div></div></div></div></div></div></div></div></div>"
      ],
      "text/plain": [
       "<IPython.core.display.HTML object>"
      ]
     },
     "metadata": {},
     "output_type": "display_data"
    }
   ],
   "source": [
    "A.pretty(verse2, suppress={'gloss', 'typ'})"
   ]
  },
  {
   "cell_type": "markdown",
   "metadata": {},
   "source": [
    "Now we add features to the display: `lex` and `g_word` :"
   ]
  },
  {
   "cell_type": "code",
   "execution_count": 20,
   "metadata": {},
   "outputs": [],
   "source": [
    "A.displaySetup(extraFeatures=['lex', 'g_word'])"
   ]
  },
  {
   "cell_type": "code",
   "execution_count": 21,
   "metadata": {},
   "outputs": [
    {
     "data": {
      "text/html": [
       "<div class=\"outeritem rtl \"><div class=\"verse   rtl \" >\n",
       "    <div class=\"vl\">\n",
       "        <div class=\"vrs rtl \"><a href=\"https://shebanq.ancient-data.org/hebrew/text?book=Genesis&amp;chapter=1&amp;verse=17&amp;version=c&amp;mr=m&amp;qw=q&amp;tp=txt_p&amp;tr=hb&amp;wget=v&amp;qget=v&amp;nget=vt\" title=\"show this passage in SHEBANQ\" sec=\"Genesis 1:17\">Genesis 1:17</a></div>\n",
       "        \n",
       "    </div>\n",
       "<div class=\"satom  lno  rtl \" >\n",
       "        <div class=\"sentence  rtl \" >\n",
       "            <a href=\"https://shebanq.ancient-data.org/hebrew/text?book=Genesis&amp;chapter=1&amp;verse=17&amp;version=c&amp;mr=m&amp;qw=q&amp;tp=txt_p&amp;tr=hb&amp;wget=v&amp;qget=v&amp;nget=vt\" title=\"Genesis 1:17\" sec=\"Genesis 1:17\">sentence</a>   <span class=\"number\">46</span>\n",
       "        </div>\n",
       "        <div class=\"atoms rtl \">\n",
       "                    <div class=\"catom   rtl \" >\n",
       "        <div class=\"clause  rtl \" >\n",
       "            <a href=\"https://shebanq.ancient-data.org/hebrew/text?book=Genesis&amp;chapter=1&amp;verse=17&amp;version=c&amp;mr=m&amp;qw=q&amp;tp=txt_p&amp;tr=hb&amp;wget=v&amp;qget=v&amp;nget=vt\" title=\"Genesis 1:17\" sec=\"Genesis 1:17\">clause</a>   <span class=\"typ\">WayX</span>\n",
       "        </div>\n",
       "        <div class=\"atoms rtl \">\n",
       "                    <div class=\"patom   rtl \" >\n",
       "        <div class=\"phrase  rtl \" >\n",
       "            <a href=\"https://shebanq.ancient-data.org/hebrew/text?book=Genesis&amp;chapter=1&amp;verse=17&amp;version=c&amp;mr=m&amp;qw=q&amp;tp=txt_p&amp;tr=hb&amp;wget=v&amp;qget=v&amp;nget=vt\" title=\"Genesis 1:17\" sec=\"Genesis 1:17\">phrase</a>   <span class=\"function\">Conj</span> <span class=\"typ\">CP</span>\n",
       "        </div>\n",
       "        <div class=\"atoms rtl \">\n",
       "                    <div class=\"word   rtl \" ><div class=\"h\"><a target=\"_blank\" href=\"https://shebanq.ancient-data.org/hebrew/word?version=c&amp;id=1W\" title=\"show this lexeme in SHEBANQ\">וַ</a></div><div class=\"features\"> <span class=\"pdp\"><a href=\"https://shebanq.ancient-data.org/hebrew/text?book=Genesis&amp;chapter=1&amp;verse=17&amp;version=c&amp;mr=m&amp;qw=q&amp;tp=txt_p&amp;tr=hb&amp;wget=v&amp;qget=v&amp;nget=vt\" title=\"Genesis 1:17\" sec=\"Genesis 1:17\">conj</a></span> <span class=\"gloss\">and</span> <span class=\"g_word xft\"><span class=\"f\">g_word=</span>WA-</span> <span class=\"lex xft\"><span class=\"f\">lex=</span>W</span></div></div></div></div><div class=\"patom   rtl \" >\n",
       "        <div class=\"phrase  rtl \" >\n",
       "            <a href=\"https://shebanq.ancient-data.org/hebrew/text?book=Genesis&amp;chapter=1&amp;verse=17&amp;version=c&amp;mr=m&amp;qw=q&amp;tp=txt_p&amp;tr=hb&amp;wget=v&amp;qget=v&amp;nget=vt\" title=\"Genesis 1:17\" sec=\"Genesis 1:17\">phrase</a>   <span class=\"function\">Pred</span> <span class=\"typ\">VP</span>\n",
       "        </div>\n",
       "        <div class=\"atoms rtl \">\n",
       "                    <div class=\"word   rtl \" ><div class=\"h\"><a target=\"_blank\" href=\"https://shebanq.ancient-data.org/hebrew/word?version=c&amp;id=1NTNv\" title=\"show this lexeme in SHEBANQ\">יִּתֵּ֥ן </a></div><div class=\"features\"> <span class=\"pdp\"><a href=\"https://shebanq.ancient-data.org/hebrew/text?book=Genesis&amp;chapter=1&amp;verse=17&amp;version=c&amp;mr=m&amp;qw=q&amp;tp=txt_p&amp;tr=hb&amp;wget=v&amp;qget=v&amp;nget=vt\" title=\"Genesis 1:17\" sec=\"Genesis 1:17\">verb</a></span> <span class=\"gloss\">give</span> <span class=\"vs\">qal</span> <span class=\"vt\">wayq</span> <span class=\"g_word xft\"><span class=\"f\">g_word=</span>J.IT.;71N</span> <span class=\"lex xft\"><span class=\"f\">lex=</span>NTN[</span></div></div></div></div><div class=\"patom   rtl \" >\n",
       "        <div class=\"phrase  rtl \" >\n",
       "            <a href=\"https://shebanq.ancient-data.org/hebrew/text?book=Genesis&amp;chapter=1&amp;verse=17&amp;version=c&amp;mr=m&amp;qw=q&amp;tp=txt_p&amp;tr=hb&amp;wget=v&amp;qget=v&amp;nget=vt\" title=\"Genesis 1:17\" sec=\"Genesis 1:17\">phrase</a>   <span class=\"function\">Objc</span> <span class=\"typ\">PP</span>\n",
       "        </div>\n",
       "        <div class=\"atoms rtl \">\n",
       "                    <div class=\"word   rtl \" ><div class=\"h\"><a target=\"_blank\" href=\"https://shebanq.ancient-data.org/hebrew/word?version=c&amp;id=1AT\" title=\"show this lexeme in SHEBANQ\">אֹתָ֛ם </a></div><div class=\"features\"> <span class=\"pdp\"><a href=\"https://shebanq.ancient-data.org/hebrew/text?book=Genesis&amp;chapter=1&amp;verse=17&amp;version=c&amp;mr=m&amp;qw=q&amp;tp=txt_p&amp;tr=hb&amp;wget=v&amp;qget=v&amp;nget=vt\" title=\"Genesis 1:17\" sec=\"Genesis 1:17\">prep</a></span> <span class=\"gloss\">&lt;object marker></span> <span class=\"g_word xft\"><span class=\"f\">g_word=</span>>OT@91M</span> <span class=\"lex xft\"><span class=\"f\">lex=</span>>T</span></div></div></div></div><div class=\"patom   rtl \" >\n",
       "        <div class=\"phrase  rtl \" >\n",
       "            <a href=\"https://shebanq.ancient-data.org/hebrew/text?book=Genesis&amp;chapter=1&amp;verse=17&amp;version=c&amp;mr=m&amp;qw=q&amp;tp=txt_p&amp;tr=hb&amp;wget=v&amp;qget=v&amp;nget=vt\" title=\"Genesis 1:17\" sec=\"Genesis 1:17\">phrase</a>   <span class=\"function\">Subj</span> <span class=\"typ\">NP</span>\n",
       "        </div>\n",
       "        <div class=\"atoms rtl \">\n",
       "                    <div class=\"word   rtl \" ><div class=\"h\"><a target=\"_blank\" href=\"https://shebanq.ancient-data.org/hebrew/word?version=c&amp;id=1ALHJMn\" title=\"show this lexeme in SHEBANQ\">אֱלֹהִ֖ים </a></div><div class=\"features\"> <span class=\"pdp\"><a href=\"https://shebanq.ancient-data.org/hebrew/text?book=Genesis&amp;chapter=1&amp;verse=17&amp;version=c&amp;mr=m&amp;qw=q&amp;tp=txt_p&amp;tr=hb&amp;wget=v&amp;qget=v&amp;nget=vt\" title=\"Genesis 1:17\" sec=\"Genesis 1:17\">subs</a></span> <span class=\"gloss\">god(s)</span> <span class=\"g_word xft\"><span class=\"f\">g_word=</span>>:ELOHI73JM</span> <span class=\"lex xft\"><span class=\"f\">lex=</span>>LHJM/</span></div></div></div></div><div class=\"patom   rtl \" >\n",
       "        <div class=\"phrase  rtl \" >\n",
       "            <a href=\"https://shebanq.ancient-data.org/hebrew/text?book=Genesis&amp;chapter=1&amp;verse=17&amp;version=c&amp;mr=m&amp;qw=q&amp;tp=txt_p&amp;tr=hb&amp;wget=v&amp;qget=v&amp;nget=vt\" title=\"Genesis 1:17\" sec=\"Genesis 1:17\">phrase</a>   <span class=\"function\">Cmpl</span> <span class=\"typ\">PP</span>\n",
       "        </div>\n",
       "        <div class=\"atoms rtl \">\n",
       "                    <div class=\"word   rtl \" ><div class=\"h\"><a target=\"_blank\" href=\"https://shebanq.ancient-data.org/hebrew/word?version=c&amp;id=1B\" title=\"show this lexeme in SHEBANQ\">בִּ</a></div><div class=\"features\"> <span class=\"pdp\"><a href=\"https://shebanq.ancient-data.org/hebrew/text?book=Genesis&amp;chapter=1&amp;verse=17&amp;version=c&amp;mr=m&amp;qw=q&amp;tp=txt_p&amp;tr=hb&amp;wget=v&amp;qget=v&amp;nget=vt\" title=\"Genesis 1:17\" sec=\"Genesis 1:17\">prep</a></span> <span class=\"gloss\">in</span> <span class=\"g_word xft\"><span class=\"f\">g_word=</span>B.I-</span> <span class=\"lex xft\"><span class=\"f\">lex=</span>B</span></div></div><div class=\"word   rtl \" ><div class=\"h\"><a target=\"_blank\" href=\"https://shebanq.ancient-data.org/hebrew/word?version=c&amp;id=1RQJOn\" title=\"show this lexeme in SHEBANQ\">רְקִ֣יעַ </a></div><div class=\"features\"> <span class=\"pdp\"><a href=\"https://shebanq.ancient-data.org/hebrew/text?book=Genesis&amp;chapter=1&amp;verse=17&amp;version=c&amp;mr=m&amp;qw=q&amp;tp=txt_p&amp;tr=hb&amp;wget=v&amp;qget=v&amp;nget=vt\" title=\"Genesis 1:17\" sec=\"Genesis 1:17\">subs</a></span> <span class=\"gloss\">firmament</span> <span class=\"g_word xft\"><span class=\"f\">g_word=</span>R:QI74J&lt;A</span> <span class=\"lex xft\"><span class=\"f\">lex=</span>RQJ&lt;/</span></div></div><div class=\"word   rtl \" ><div class=\"h\"><a target=\"_blank\" href=\"https://shebanq.ancient-data.org/hebrew/word?version=c&amp;id=1H\" title=\"show this lexeme in SHEBANQ\">הַ</a></div><div class=\"features\"> <span class=\"pdp\"><a href=\"https://shebanq.ancient-data.org/hebrew/text?book=Genesis&amp;chapter=1&amp;verse=17&amp;version=c&amp;mr=m&amp;qw=q&amp;tp=txt_p&amp;tr=hb&amp;wget=v&amp;qget=v&amp;nget=vt\" title=\"Genesis 1:17\" sec=\"Genesis 1:17\">art</a></span> <span class=\"gloss\">the</span> <span class=\"g_word xft\"><span class=\"f\">g_word=</span>HA-</span> <span class=\"lex xft\"><span class=\"f\">lex=</span>H</span></div></div><div class=\"word   rtl \" ><div class=\"h\"><a target=\"_blank\" href=\"https://shebanq.ancient-data.org/hebrew/word?version=c&amp;id=1CMJMn\" title=\"show this lexeme in SHEBANQ\">שָּׁמָ֑יִם </a></div><div class=\"features\"> <span class=\"pdp\"><a href=\"https://shebanq.ancient-data.org/hebrew/text?book=Genesis&amp;chapter=1&amp;verse=17&amp;version=c&amp;mr=m&amp;qw=q&amp;tp=txt_p&amp;tr=hb&amp;wget=v&amp;qget=v&amp;nget=vt\" title=\"Genesis 1:17\" sec=\"Genesis 1:17\">subs</a></span> <span class=\"gloss\">heavens</span> <span class=\"g_word xft\"><span class=\"f\">g_word=</span>C.@M@92JIM</span> <span class=\"lex xft\"><span class=\"f\">lex=</span>CMJM/</span></div></div></div></div></div></div><div class=\"catom   rtl \" >\n",
       "        <div class=\"clause  rtl \" >\n",
       "            <a href=\"https://shebanq.ancient-data.org/hebrew/text?book=Genesis&amp;chapter=1&amp;verse=17&amp;version=c&amp;mr=m&amp;qw=q&amp;tp=txt_p&amp;tr=hb&amp;wget=v&amp;qget=v&amp;nget=vt\" title=\"Genesis 1:17\" sec=\"Genesis 1:17\">clause</a>   <span class=\"rela\">Adju</span> <span class=\"typ\">InfC</span>\n",
       "        </div>\n",
       "        <div class=\"atoms rtl \">\n",
       "                    <div class=\"patom   rtl \" >\n",
       "        <div class=\"phrase  rtl \" >\n",
       "            <a href=\"https://shebanq.ancient-data.org/hebrew/text?book=Genesis&amp;chapter=1&amp;verse=17&amp;version=c&amp;mr=m&amp;qw=q&amp;tp=txt_p&amp;tr=hb&amp;wget=v&amp;qget=v&amp;nget=vt\" title=\"Genesis 1:17\" sec=\"Genesis 1:17\">phrase</a>   <span class=\"function\">Pred</span> <span class=\"typ\">VP</span>\n",
       "        </div>\n",
       "        <div class=\"atoms rtl \">\n",
       "                    <div class=\"word   rtl \" ><div class=\"h\"><a target=\"_blank\" href=\"https://shebanq.ancient-data.org/hebrew/word?version=c&amp;id=1L\" title=\"show this lexeme in SHEBANQ\">לְ</a></div><div class=\"features\"> <span class=\"pdp\"><a href=\"https://shebanq.ancient-data.org/hebrew/text?book=Genesis&amp;chapter=1&amp;verse=17&amp;version=c&amp;mr=m&amp;qw=q&amp;tp=txt_p&amp;tr=hb&amp;wget=v&amp;qget=v&amp;nget=vt\" title=\"Genesis 1:17\" sec=\"Genesis 1:17\">prep</a></span> <span class=\"gloss\">to</span> <span class=\"g_word xft\"><span class=\"f\">g_word=</span>L:-</span> <span class=\"lex xft\"><span class=\"f\">lex=</span>L</span></div></div><div class=\"word   rtl \" ><div class=\"h\"><a target=\"_blank\" href=\"https://shebanq.ancient-data.org/hebrew/word?version=c&amp;id=1AWRv\" title=\"show this lexeme in SHEBANQ\">הָאִ֖יר </a></div><div class=\"features\"> <span class=\"pdp\"><a href=\"https://shebanq.ancient-data.org/hebrew/text?book=Genesis&amp;chapter=1&amp;verse=17&amp;version=c&amp;mr=m&amp;qw=q&amp;tp=txt_p&amp;tr=hb&amp;wget=v&amp;qget=v&amp;nget=vt\" title=\"Genesis 1:17\" sec=\"Genesis 1:17\">verb</a></span> <span class=\"gloss\">be light</span> <span class=\"vs\">hif</span> <span class=\"vt\">infc</span> <span class=\"g_word xft\"><span class=\"f\">g_word=</span>H@>I73JR</span> <span class=\"lex xft\"><span class=\"f\">lex=</span>>WR[</span></div></div></div></div><div class=\"patom   rtl \" >\n",
       "        <div class=\"phrase  rtl \" >\n",
       "            <a href=\"https://shebanq.ancient-data.org/hebrew/text?book=Genesis&amp;chapter=1&amp;verse=17&amp;version=c&amp;mr=m&amp;qw=q&amp;tp=txt_p&amp;tr=hb&amp;wget=v&amp;qget=v&amp;nget=vt\" title=\"Genesis 1:17\" sec=\"Genesis 1:17\">phrase</a>   <span class=\"function\">Cmpl</span> <span class=\"typ\">PP</span>\n",
       "        </div>\n",
       "        <div class=\"atoms rtl \">\n",
       "                    <div class=\"word   rtl \" ><div class=\"h\"><a target=\"_blank\" href=\"https://shebanq.ancient-data.org/hebrew/word?version=c&amp;id=1OL\" title=\"show this lexeme in SHEBANQ\">עַל־</a></div><div class=\"features\"> <span class=\"pdp\"><a href=\"https://shebanq.ancient-data.org/hebrew/text?book=Genesis&amp;chapter=1&amp;verse=17&amp;version=c&amp;mr=m&amp;qw=q&amp;tp=txt_p&amp;tr=hb&amp;wget=v&amp;qget=v&amp;nget=vt\" title=\"Genesis 1:17\" sec=\"Genesis 1:17\">prep</a></span> <span class=\"gloss\">upon</span> <span class=\"g_word xft\"><span class=\"f\">g_word=</span>&lt;AL</span> <span class=\"lex xft\"><span class=\"f\">lex=</span>&lt;L</span></div></div><div class=\"word   rtl \" ><div class=\"h\"><a target=\"_blank\" href=\"https://shebanq.ancient-data.org/hebrew/word?version=c&amp;id=1H\" title=\"show this lexeme in SHEBANQ\">הָ</a></div><div class=\"features\"> <span class=\"pdp\"><a href=\"https://shebanq.ancient-data.org/hebrew/text?book=Genesis&amp;chapter=1&amp;verse=17&amp;version=c&amp;mr=m&amp;qw=q&amp;tp=txt_p&amp;tr=hb&amp;wget=v&amp;qget=v&amp;nget=vt\" title=\"Genesis 1:17\" sec=\"Genesis 1:17\">art</a></span> <span class=\"gloss\">the</span> <span class=\"g_word xft\"><span class=\"f\">g_word=</span>H@-</span> <span class=\"lex xft\"><span class=\"f\">lex=</span>H</span></div></div><div class=\"word   rtl \" ><div class=\"h\"><a target=\"_blank\" href=\"https://shebanq.ancient-data.org/hebrew/word?version=c&amp;id=1ARYn\" title=\"show this lexeme in SHEBANQ\">אָֽרֶץ׃ </a></div><div class=\"features\"> <span class=\"pdp\"><a href=\"https://shebanq.ancient-data.org/hebrew/text?book=Genesis&amp;chapter=1&amp;verse=17&amp;version=c&amp;mr=m&amp;qw=q&amp;tp=txt_p&amp;tr=hb&amp;wget=v&amp;qget=v&amp;nget=vt\" title=\"Genesis 1:17\" sec=\"Genesis 1:17\">subs</a></span> <span class=\"gloss\">earth</span> <span class=\"g_word xft\"><span class=\"f\">g_word=</span>>@75REY</span> <span class=\"lex xft\"><span class=\"f\">lex=</span>>RY/</span></div></div></div></div></div></div></div></div></div></div>"
      ],
      "text/plain": [
       "<IPython.core.display.HTML object>"
      ]
     },
     "metadata": {},
     "output_type": "display_data"
    }
   ],
   "source": [
    "A.pretty(verse2)"
   ]
  },
  {
   "cell_type": "markdown",
   "metadata": {},
   "source": [
    "and we reset the pretty features to the default values:"
   ]
  },
  {
   "cell_type": "code",
   "execution_count": 22,
   "metadata": {},
   "outputs": [],
   "source": [
    "A.displayReset('extraFeatures')"
   ]
  },
  {
   "cell_type": "code",
   "execution_count": 23,
   "metadata": {},
   "outputs": [
    {
     "data": {
      "text/html": [
       "<div class=\"outeritem rtl \"><div class=\"verse   rtl \" >\n",
       "    <div class=\"vl\">\n",
       "        <div class=\"vrs rtl \"><a href=\"https://shebanq.ancient-data.org/hebrew/text?book=Genesis&amp;chapter=1&amp;verse=17&amp;version=c&amp;mr=m&amp;qw=q&amp;tp=txt_p&amp;tr=hb&amp;wget=v&amp;qget=v&amp;nget=vt\" title=\"show this passage in SHEBANQ\" sec=\"Genesis 1:17\">Genesis 1:17</a></div>\n",
       "        \n",
       "    </div>\n",
       "<div class=\"satom  lno  rtl \" >\n",
       "        <div class=\"sentence  rtl \" >\n",
       "            <a href=\"https://shebanq.ancient-data.org/hebrew/text?book=Genesis&amp;chapter=1&amp;verse=17&amp;version=c&amp;mr=m&amp;qw=q&amp;tp=txt_p&amp;tr=hb&amp;wget=v&amp;qget=v&amp;nget=vt\" title=\"Genesis 1:17\" sec=\"Genesis 1:17\">sentence</a>   <span class=\"number\">46</span>\n",
       "        </div>\n",
       "        <div class=\"atoms rtl \">\n",
       "                    <div class=\"catom   rtl \" >\n",
       "        <div class=\"clause  rtl \" >\n",
       "            <a href=\"https://shebanq.ancient-data.org/hebrew/text?book=Genesis&amp;chapter=1&amp;verse=17&amp;version=c&amp;mr=m&amp;qw=q&amp;tp=txt_p&amp;tr=hb&amp;wget=v&amp;qget=v&amp;nget=vt\" title=\"Genesis 1:17\" sec=\"Genesis 1:17\">clause</a>   <span class=\"typ\">WayX</span>\n",
       "        </div>\n",
       "        <div class=\"atoms rtl \">\n",
       "                    <div class=\"patom   rtl \" >\n",
       "        <div class=\"phrase  rtl \" >\n",
       "            <a href=\"https://shebanq.ancient-data.org/hebrew/text?book=Genesis&amp;chapter=1&amp;verse=17&amp;version=c&amp;mr=m&amp;qw=q&amp;tp=txt_p&amp;tr=hb&amp;wget=v&amp;qget=v&amp;nget=vt\" title=\"Genesis 1:17\" sec=\"Genesis 1:17\">phrase</a>   <span class=\"function\">Conj</span> <span class=\"typ\">CP</span>\n",
       "        </div>\n",
       "        <div class=\"atoms rtl \">\n",
       "                    <div class=\"word   rtl \" ><div class=\"h\"><a target=\"_blank\" href=\"https://shebanq.ancient-data.org/hebrew/word?version=c&amp;id=1W\" title=\"show this lexeme in SHEBANQ\">וַ</a></div><div class=\"features\"> <span class=\"pdp\"><a href=\"https://shebanq.ancient-data.org/hebrew/text?book=Genesis&amp;chapter=1&amp;verse=17&amp;version=c&amp;mr=m&amp;qw=q&amp;tp=txt_p&amp;tr=hb&amp;wget=v&amp;qget=v&amp;nget=vt\" title=\"Genesis 1:17\" sec=\"Genesis 1:17\">conj</a></span> <span class=\"gloss\">and</span></div></div></div></div><div class=\"patom   rtl \" >\n",
       "        <div class=\"phrase  rtl \" >\n",
       "            <a href=\"https://shebanq.ancient-data.org/hebrew/text?book=Genesis&amp;chapter=1&amp;verse=17&amp;version=c&amp;mr=m&amp;qw=q&amp;tp=txt_p&amp;tr=hb&amp;wget=v&amp;qget=v&amp;nget=vt\" title=\"Genesis 1:17\" sec=\"Genesis 1:17\">phrase</a>   <span class=\"function\">Pred</span> <span class=\"typ\">VP</span>\n",
       "        </div>\n",
       "        <div class=\"atoms rtl \">\n",
       "                    <div class=\"word   rtl \" ><div class=\"h\"><a target=\"_blank\" href=\"https://shebanq.ancient-data.org/hebrew/word?version=c&amp;id=1NTNv\" title=\"show this lexeme in SHEBANQ\">יִּתֵּ֥ן </a></div><div class=\"features\"> <span class=\"pdp\"><a href=\"https://shebanq.ancient-data.org/hebrew/text?book=Genesis&amp;chapter=1&amp;verse=17&amp;version=c&amp;mr=m&amp;qw=q&amp;tp=txt_p&amp;tr=hb&amp;wget=v&amp;qget=v&amp;nget=vt\" title=\"Genesis 1:17\" sec=\"Genesis 1:17\">verb</a></span> <span class=\"gloss\">give</span> <span class=\"vs\">qal</span> <span class=\"vt\">wayq</span></div></div></div></div><div class=\"patom   rtl \" >\n",
       "        <div class=\"phrase  rtl \" >\n",
       "            <a href=\"https://shebanq.ancient-data.org/hebrew/text?book=Genesis&amp;chapter=1&amp;verse=17&amp;version=c&amp;mr=m&amp;qw=q&amp;tp=txt_p&amp;tr=hb&amp;wget=v&amp;qget=v&amp;nget=vt\" title=\"Genesis 1:17\" sec=\"Genesis 1:17\">phrase</a>   <span class=\"function\">Objc</span> <span class=\"typ\">PP</span>\n",
       "        </div>\n",
       "        <div class=\"atoms rtl \">\n",
       "                    <div class=\"word   rtl \" ><div class=\"h\"><a target=\"_blank\" href=\"https://shebanq.ancient-data.org/hebrew/word?version=c&amp;id=1AT\" title=\"show this lexeme in SHEBANQ\">אֹתָ֛ם </a></div><div class=\"features\"> <span class=\"pdp\"><a href=\"https://shebanq.ancient-data.org/hebrew/text?book=Genesis&amp;chapter=1&amp;verse=17&amp;version=c&amp;mr=m&amp;qw=q&amp;tp=txt_p&amp;tr=hb&amp;wget=v&amp;qget=v&amp;nget=vt\" title=\"Genesis 1:17\" sec=\"Genesis 1:17\">prep</a></span> <span class=\"gloss\">&lt;object marker></span></div></div></div></div><div class=\"patom   rtl \" >\n",
       "        <div class=\"phrase  rtl \" >\n",
       "            <a href=\"https://shebanq.ancient-data.org/hebrew/text?book=Genesis&amp;chapter=1&amp;verse=17&amp;version=c&amp;mr=m&amp;qw=q&amp;tp=txt_p&amp;tr=hb&amp;wget=v&amp;qget=v&amp;nget=vt\" title=\"Genesis 1:17\" sec=\"Genesis 1:17\">phrase</a>   <span class=\"function\">Subj</span> <span class=\"typ\">NP</span>\n",
       "        </div>\n",
       "        <div class=\"atoms rtl \">\n",
       "                    <div class=\"word   rtl \" ><div class=\"h\"><a target=\"_blank\" href=\"https://shebanq.ancient-data.org/hebrew/word?version=c&amp;id=1ALHJMn\" title=\"show this lexeme in SHEBANQ\">אֱלֹהִ֖ים </a></div><div class=\"features\"> <span class=\"pdp\"><a href=\"https://shebanq.ancient-data.org/hebrew/text?book=Genesis&amp;chapter=1&amp;verse=17&amp;version=c&amp;mr=m&amp;qw=q&amp;tp=txt_p&amp;tr=hb&amp;wget=v&amp;qget=v&amp;nget=vt\" title=\"Genesis 1:17\" sec=\"Genesis 1:17\">subs</a></span> <span class=\"gloss\">god(s)</span></div></div></div></div><div class=\"patom   rtl \" >\n",
       "        <div class=\"phrase  rtl \" >\n",
       "            <a href=\"https://shebanq.ancient-data.org/hebrew/text?book=Genesis&amp;chapter=1&amp;verse=17&amp;version=c&amp;mr=m&amp;qw=q&amp;tp=txt_p&amp;tr=hb&amp;wget=v&amp;qget=v&amp;nget=vt\" title=\"Genesis 1:17\" sec=\"Genesis 1:17\">phrase</a>   <span class=\"function\">Cmpl</span> <span class=\"typ\">PP</span>\n",
       "        </div>\n",
       "        <div class=\"atoms rtl \">\n",
       "                    <div class=\"word   rtl \" ><div class=\"h\"><a target=\"_blank\" href=\"https://shebanq.ancient-data.org/hebrew/word?version=c&amp;id=1B\" title=\"show this lexeme in SHEBANQ\">בִּ</a></div><div class=\"features\"> <span class=\"pdp\"><a href=\"https://shebanq.ancient-data.org/hebrew/text?book=Genesis&amp;chapter=1&amp;verse=17&amp;version=c&amp;mr=m&amp;qw=q&amp;tp=txt_p&amp;tr=hb&amp;wget=v&amp;qget=v&amp;nget=vt\" title=\"Genesis 1:17\" sec=\"Genesis 1:17\">prep</a></span> <span class=\"gloss\">in</span></div></div><div class=\"word   rtl \" ><div class=\"h\"><a target=\"_blank\" href=\"https://shebanq.ancient-data.org/hebrew/word?version=c&amp;id=1RQJOn\" title=\"show this lexeme in SHEBANQ\">רְקִ֣יעַ </a></div><div class=\"features\"> <span class=\"pdp\"><a href=\"https://shebanq.ancient-data.org/hebrew/text?book=Genesis&amp;chapter=1&amp;verse=17&amp;version=c&amp;mr=m&amp;qw=q&amp;tp=txt_p&amp;tr=hb&amp;wget=v&amp;qget=v&amp;nget=vt\" title=\"Genesis 1:17\" sec=\"Genesis 1:17\">subs</a></span> <span class=\"gloss\">firmament</span></div></div><div class=\"word   rtl \" ><div class=\"h\"><a target=\"_blank\" href=\"https://shebanq.ancient-data.org/hebrew/word?version=c&amp;id=1H\" title=\"show this lexeme in SHEBANQ\">הַ</a></div><div class=\"features\"> <span class=\"pdp\"><a href=\"https://shebanq.ancient-data.org/hebrew/text?book=Genesis&amp;chapter=1&amp;verse=17&amp;version=c&amp;mr=m&amp;qw=q&amp;tp=txt_p&amp;tr=hb&amp;wget=v&amp;qget=v&amp;nget=vt\" title=\"Genesis 1:17\" sec=\"Genesis 1:17\">art</a></span> <span class=\"gloss\">the</span></div></div><div class=\"word   rtl \" ><div class=\"h\"><a target=\"_blank\" href=\"https://shebanq.ancient-data.org/hebrew/word?version=c&amp;id=1CMJMn\" title=\"show this lexeme in SHEBANQ\">שָּׁמָ֑יִם </a></div><div class=\"features\"> <span class=\"pdp\"><a href=\"https://shebanq.ancient-data.org/hebrew/text?book=Genesis&amp;chapter=1&amp;verse=17&amp;version=c&amp;mr=m&amp;qw=q&amp;tp=txt_p&amp;tr=hb&amp;wget=v&amp;qget=v&amp;nget=vt\" title=\"Genesis 1:17\" sec=\"Genesis 1:17\">subs</a></span> <span class=\"gloss\">heavens</span></div></div></div></div></div></div><div class=\"catom   rtl \" >\n",
       "        <div class=\"clause  rtl \" >\n",
       "            <a href=\"https://shebanq.ancient-data.org/hebrew/text?book=Genesis&amp;chapter=1&amp;verse=17&amp;version=c&amp;mr=m&amp;qw=q&amp;tp=txt_p&amp;tr=hb&amp;wget=v&amp;qget=v&amp;nget=vt\" title=\"Genesis 1:17\" sec=\"Genesis 1:17\">clause</a>   <span class=\"rela\">Adju</span> <span class=\"typ\">InfC</span>\n",
       "        </div>\n",
       "        <div class=\"atoms rtl \">\n",
       "                    <div class=\"patom   rtl \" >\n",
       "        <div class=\"phrase  rtl \" >\n",
       "            <a href=\"https://shebanq.ancient-data.org/hebrew/text?book=Genesis&amp;chapter=1&amp;verse=17&amp;version=c&amp;mr=m&amp;qw=q&amp;tp=txt_p&amp;tr=hb&amp;wget=v&amp;qget=v&amp;nget=vt\" title=\"Genesis 1:17\" sec=\"Genesis 1:17\">phrase</a>   <span class=\"function\">Pred</span> <span class=\"typ\">VP</span>\n",
       "        </div>\n",
       "        <div class=\"atoms rtl \">\n",
       "                    <div class=\"word   rtl \" ><div class=\"h\"><a target=\"_blank\" href=\"https://shebanq.ancient-data.org/hebrew/word?version=c&amp;id=1L\" title=\"show this lexeme in SHEBANQ\">לְ</a></div><div class=\"features\"> <span class=\"pdp\"><a href=\"https://shebanq.ancient-data.org/hebrew/text?book=Genesis&amp;chapter=1&amp;verse=17&amp;version=c&amp;mr=m&amp;qw=q&amp;tp=txt_p&amp;tr=hb&amp;wget=v&amp;qget=v&amp;nget=vt\" title=\"Genesis 1:17\" sec=\"Genesis 1:17\">prep</a></span> <span class=\"gloss\">to</span></div></div><div class=\"word   rtl \" ><div class=\"h\"><a target=\"_blank\" href=\"https://shebanq.ancient-data.org/hebrew/word?version=c&amp;id=1AWRv\" title=\"show this lexeme in SHEBANQ\">הָאִ֖יר </a></div><div class=\"features\"> <span class=\"pdp\"><a href=\"https://shebanq.ancient-data.org/hebrew/text?book=Genesis&amp;chapter=1&amp;verse=17&amp;version=c&amp;mr=m&amp;qw=q&amp;tp=txt_p&amp;tr=hb&amp;wget=v&amp;qget=v&amp;nget=vt\" title=\"Genesis 1:17\" sec=\"Genesis 1:17\">verb</a></span> <span class=\"gloss\">be light</span> <span class=\"vs\">hif</span> <span class=\"vt\">infc</span></div></div></div></div><div class=\"patom   rtl \" >\n",
       "        <div class=\"phrase  rtl \" >\n",
       "            <a href=\"https://shebanq.ancient-data.org/hebrew/text?book=Genesis&amp;chapter=1&amp;verse=17&amp;version=c&amp;mr=m&amp;qw=q&amp;tp=txt_p&amp;tr=hb&amp;wget=v&amp;qget=v&amp;nget=vt\" title=\"Genesis 1:17\" sec=\"Genesis 1:17\">phrase</a>   <span class=\"function\">Cmpl</span> <span class=\"typ\">PP</span>\n",
       "        </div>\n",
       "        <div class=\"atoms rtl \">\n",
       "                    <div class=\"word   rtl \" ><div class=\"h\"><a target=\"_blank\" href=\"https://shebanq.ancient-data.org/hebrew/word?version=c&amp;id=1OL\" title=\"show this lexeme in SHEBANQ\">עַל־</a></div><div class=\"features\"> <span class=\"pdp\"><a href=\"https://shebanq.ancient-data.org/hebrew/text?book=Genesis&amp;chapter=1&amp;verse=17&amp;version=c&amp;mr=m&amp;qw=q&amp;tp=txt_p&amp;tr=hb&amp;wget=v&amp;qget=v&amp;nget=vt\" title=\"Genesis 1:17\" sec=\"Genesis 1:17\">prep</a></span> <span class=\"gloss\">upon</span></div></div><div class=\"word   rtl \" ><div class=\"h\"><a target=\"_blank\" href=\"https://shebanq.ancient-data.org/hebrew/word?version=c&amp;id=1H\" title=\"show this lexeme in SHEBANQ\">הָ</a></div><div class=\"features\"> <span class=\"pdp\"><a href=\"https://shebanq.ancient-data.org/hebrew/text?book=Genesis&amp;chapter=1&amp;verse=17&amp;version=c&amp;mr=m&amp;qw=q&amp;tp=txt_p&amp;tr=hb&amp;wget=v&amp;qget=v&amp;nget=vt\" title=\"Genesis 1:17\" sec=\"Genesis 1:17\">art</a></span> <span class=\"gloss\">the</span></div></div><div class=\"word   rtl \" ><div class=\"h\"><a target=\"_blank\" href=\"https://shebanq.ancient-data.org/hebrew/word?version=c&amp;id=1ARYn\" title=\"show this lexeme in SHEBANQ\">אָֽרֶץ׃ </a></div><div class=\"features\"> <span class=\"pdp\"><a href=\"https://shebanq.ancient-data.org/hebrew/text?book=Genesis&amp;chapter=1&amp;verse=17&amp;version=c&amp;mr=m&amp;qw=q&amp;tp=txt_p&amp;tr=hb&amp;wget=v&amp;qget=v&amp;nget=vt\" title=\"Genesis 1:17\" sec=\"Genesis 1:17\">subs</a></span> <span class=\"gloss\">earth</span></div></div></div></div></div></div></div></div></div></div>"
      ],
      "text/plain": [
       "<IPython.core.display.HTML object>"
      ]
     },
     "metadata": {},
     "output_type": "display_data"
    }
   ],
   "source": [
    "A.pretty(verse2)"
   ]
  },
  {
   "cell_type": "markdown",
   "metadata": {},
   "source": [
    "We can also opt for less detail: suppose we do not want to dig deeper than the phrases:"
   ]
  },
  {
   "cell_type": "code",
   "execution_count": 24,
   "metadata": {},
   "outputs": [
    {
     "data": {
      "text/html": [
       "<div class=\"outeritem rtl \"><div class=\"verse   rtl \" >\n",
       "    <div class=\"vl\">\n",
       "        <div class=\"vrs rtl \"><a href=\"https://shebanq.ancient-data.org/hebrew/text?book=Genesis&amp;chapter=1&amp;verse=17&amp;version=c&amp;mr=m&amp;qw=q&amp;tp=txt_p&amp;tr=hb&amp;wget=v&amp;qget=v&amp;nget=vt\" title=\"show this passage in SHEBANQ\" sec=\"Genesis 1:17\">Genesis 1:17</a></div>\n",
       "        \n",
       "    </div>\n",
       "<div class=\"satom  lno  rtl \" >\n",
       "        <div class=\"sentence  rtl \" >\n",
       "            <a href=\"https://shebanq.ancient-data.org/hebrew/text?book=Genesis&amp;chapter=1&amp;verse=17&amp;version=c&amp;mr=m&amp;qw=q&amp;tp=txt_p&amp;tr=hb&amp;wget=v&amp;qget=v&amp;nget=vt\" title=\"Genesis 1:17\" sec=\"Genesis 1:17\">sentence</a>   <span class=\"number\">46</span>\n",
       "        </div>\n",
       "        <div class=\"atoms rtl \">\n",
       "                    <div class=\"catom   rtl \" >\n",
       "        <div class=\"clause  rtl \" >\n",
       "            <a href=\"https://shebanq.ancient-data.org/hebrew/text?book=Genesis&amp;chapter=1&amp;verse=17&amp;version=c&amp;mr=m&amp;qw=q&amp;tp=txt_p&amp;tr=hb&amp;wget=v&amp;qget=v&amp;nget=vt\" title=\"Genesis 1:17\" sec=\"Genesis 1:17\">clause</a>   <span class=\"typ\">WayX</span>\n",
       "        </div>\n",
       "        <div class=\"atoms rtl \">\n",
       "                    <div class=\"patom   rtl \" >\n",
       "        <div class=\"phrase  rtl \" >\n",
       "            <a href=\"https://shebanq.ancient-data.org/hebrew/text?book=Genesis&amp;chapter=1&amp;verse=17&amp;version=c&amp;mr=m&amp;qw=q&amp;tp=txt_p&amp;tr=hb&amp;wget=v&amp;qget=v&amp;nget=vt\" title=\"Genesis 1:17\" sec=\"Genesis 1:17\">phrase</a>   <span class=\"function\">Conj</span> <span class=\"typ\">CP</span>\n",
       "        </div>\n",
       "        <div class=\"atoms rtl \">\n",
       "                    <span class=\"plain outer  rtl \"><span class=\"plain rtl  \" ><span class=\"plain rtl  \" ><span class=\"h\">וַ</span></span></span></span></div></div><div class=\"patom   rtl \" >\n",
       "        <div class=\"phrase  rtl \" >\n",
       "            <a href=\"https://shebanq.ancient-data.org/hebrew/text?book=Genesis&amp;chapter=1&amp;verse=17&amp;version=c&amp;mr=m&amp;qw=q&amp;tp=txt_p&amp;tr=hb&amp;wget=v&amp;qget=v&amp;nget=vt\" title=\"Genesis 1:17\" sec=\"Genesis 1:17\">phrase</a>   <span class=\"function\">Pred</span> <span class=\"typ\">VP</span>\n",
       "        </div>\n",
       "        <div class=\"atoms rtl \">\n",
       "                    <span class=\"plain outer  rtl \"><span class=\"plain rtl  \" ><span class=\"plain rtl  \" ><span class=\"h\">יִּתֵּ֥ן </span></span></span></span></div></div><div class=\"patom   rtl \" >\n",
       "        <div class=\"phrase  rtl \" >\n",
       "            <a href=\"https://shebanq.ancient-data.org/hebrew/text?book=Genesis&amp;chapter=1&amp;verse=17&amp;version=c&amp;mr=m&amp;qw=q&amp;tp=txt_p&amp;tr=hb&amp;wget=v&amp;qget=v&amp;nget=vt\" title=\"Genesis 1:17\" sec=\"Genesis 1:17\">phrase</a>   <span class=\"function\">Objc</span> <span class=\"typ\">PP</span>\n",
       "        </div>\n",
       "        <div class=\"atoms rtl \">\n",
       "                    <span class=\"plain outer  rtl \"><span class=\"plain rtl  \" ><span class=\"plain rtl  \" ><span class=\"h\">אֹתָ֛ם </span></span></span></span></div></div><div class=\"patom   rtl \" >\n",
       "        <div class=\"phrase  rtl \" >\n",
       "            <a href=\"https://shebanq.ancient-data.org/hebrew/text?book=Genesis&amp;chapter=1&amp;verse=17&amp;version=c&amp;mr=m&amp;qw=q&amp;tp=txt_p&amp;tr=hb&amp;wget=v&amp;qget=v&amp;nget=vt\" title=\"Genesis 1:17\" sec=\"Genesis 1:17\">phrase</a>   <span class=\"function\">Subj</span> <span class=\"typ\">NP</span>\n",
       "        </div>\n",
       "        <div class=\"atoms rtl \">\n",
       "                    <span class=\"plain outer  rtl \"><span class=\"plain rtl  \" ><span class=\"plain rtl  \" ><span class=\"h\">אֱלֹהִ֖ים </span></span></span></span></div></div><div class=\"patom   rtl \" >\n",
       "        <div class=\"phrase  rtl \" >\n",
       "            <a href=\"https://shebanq.ancient-data.org/hebrew/text?book=Genesis&amp;chapter=1&amp;verse=17&amp;version=c&amp;mr=m&amp;qw=q&amp;tp=txt_p&amp;tr=hb&amp;wget=v&amp;qget=v&amp;nget=vt\" title=\"Genesis 1:17\" sec=\"Genesis 1:17\">phrase</a>   <span class=\"function\">Cmpl</span> <span class=\"typ\">PP</span>\n",
       "        </div>\n",
       "        <div class=\"atoms rtl \">\n",
       "                    <span class=\"plain outer  rtl \"><span class=\"plain rtl  \" ><span class=\"plain rtl  \" ><span class=\"h\">בִּ</span></span><span class=\"plain rtl  \" ><span class=\"h\">רְקִ֣יעַ </span></span><span class=\"plain rtl  \" ><span class=\"h\">הַ</span></span><span class=\"plain rtl  \" ><span class=\"h\">שָּׁמָ֑יִם </span></span></span></span></div></div></div></div><div class=\"catom   rtl \" >\n",
       "        <div class=\"clause  rtl \" >\n",
       "            <a href=\"https://shebanq.ancient-data.org/hebrew/text?book=Genesis&amp;chapter=1&amp;verse=17&amp;version=c&amp;mr=m&amp;qw=q&amp;tp=txt_p&amp;tr=hb&amp;wget=v&amp;qget=v&amp;nget=vt\" title=\"Genesis 1:17\" sec=\"Genesis 1:17\">clause</a>   <span class=\"rela\">Adju</span> <span class=\"typ\">InfC</span>\n",
       "        </div>\n",
       "        <div class=\"atoms rtl \">\n",
       "                    <div class=\"patom   rtl \" >\n",
       "        <div class=\"phrase  rtl \" >\n",
       "            <a href=\"https://shebanq.ancient-data.org/hebrew/text?book=Genesis&amp;chapter=1&amp;verse=17&amp;version=c&amp;mr=m&amp;qw=q&amp;tp=txt_p&amp;tr=hb&amp;wget=v&amp;qget=v&amp;nget=vt\" title=\"Genesis 1:17\" sec=\"Genesis 1:17\">phrase</a>   <span class=\"function\">Pred</span> <span class=\"typ\">VP</span>\n",
       "        </div>\n",
       "        <div class=\"atoms rtl \">\n",
       "                    <span class=\"plain outer  rtl \"><span class=\"plain rtl  \" ><span class=\"plain rtl  \" ><span class=\"h\">לְ</span></span><span class=\"plain rtl  \" ><span class=\"h\">הָאִ֖יר </span></span></span></span></div></div><div class=\"patom   rtl \" >\n",
       "        <div class=\"phrase  rtl \" >\n",
       "            <a href=\"https://shebanq.ancient-data.org/hebrew/text?book=Genesis&amp;chapter=1&amp;verse=17&amp;version=c&amp;mr=m&amp;qw=q&amp;tp=txt_p&amp;tr=hb&amp;wget=v&amp;qget=v&amp;nget=vt\" title=\"Genesis 1:17\" sec=\"Genesis 1:17\">phrase</a>   <span class=\"function\">Cmpl</span> <span class=\"typ\">PP</span>\n",
       "        </div>\n",
       "        <div class=\"atoms rtl \">\n",
       "                    <span class=\"plain outer  rtl \"><span class=\"plain rtl  \" ><span class=\"plain rtl  \" ><span class=\"h\">עַל־</span></span><span class=\"plain rtl  \" ><span class=\"h\">הָ</span></span><span class=\"plain rtl  \" ><span class=\"h\">אָֽרֶץ׃ </span></span></span></span></div></div></div></div></div></div></div></div>"
      ],
      "text/plain": [
       "<IPython.core.display.HTML object>"
      ]
     },
     "metadata": {},
     "output_type": "display_data"
    }
   ],
   "source": [
    "A.pretty(verse2, baseType=\"phrase\")"
   ]
  },
  {
   "cell_type": "markdown",
   "metadata": {},
   "source": [
    "or if clauses are enough:"
   ]
  },
  {
   "cell_type": "code",
   "execution_count": 25,
   "metadata": {},
   "outputs": [
    {
     "data": {
      "text/html": [
       "<div class=\"outeritem rtl \"><div class=\"verse   rtl \" >\n",
       "    <div class=\"vl\">\n",
       "        <div class=\"vrs rtl \"><a href=\"https://shebanq.ancient-data.org/hebrew/text?book=Genesis&amp;chapter=1&amp;verse=17&amp;version=c&amp;mr=m&amp;qw=q&amp;tp=txt_p&amp;tr=hb&amp;wget=v&amp;qget=v&amp;nget=vt\" title=\"show this passage in SHEBANQ\" sec=\"Genesis 1:17\">Genesis 1:17</a></div>\n",
       "        \n",
       "    </div>\n",
       "<div class=\"satom  lno  rtl \" >\n",
       "        <div class=\"sentence  rtl \" >\n",
       "            <a href=\"https://shebanq.ancient-data.org/hebrew/text?book=Genesis&amp;chapter=1&amp;verse=17&amp;version=c&amp;mr=m&amp;qw=q&amp;tp=txt_p&amp;tr=hb&amp;wget=v&amp;qget=v&amp;nget=vt\" title=\"Genesis 1:17\" sec=\"Genesis 1:17\">sentence</a>   <span class=\"number\">46</span>\n",
       "        </div>\n",
       "        <div class=\"atoms rtl \">\n",
       "                    <div class=\"catom   rtl \" >\n",
       "        <div class=\"clause  rtl \" >\n",
       "            <a href=\"https://shebanq.ancient-data.org/hebrew/text?book=Genesis&amp;chapter=1&amp;verse=17&amp;version=c&amp;mr=m&amp;qw=q&amp;tp=txt_p&amp;tr=hb&amp;wget=v&amp;qget=v&amp;nget=vt\" title=\"Genesis 1:17\" sec=\"Genesis 1:17\">clause</a>   <span class=\"typ\">WayX</span>\n",
       "        </div>\n",
       "        <div class=\"atoms rtl \">\n",
       "                    <span class=\"plain outer  rtl \"><span class=\"plain rtl  \" ><span class=\"plain rtl  \" ><span class=\"plain rtl  \" ><span class=\"h\">וַ</span></span></span><span class=\"plain rtl  \" ><span class=\"plain rtl  \" ><span class=\"h\">יִּתֵּ֥ן </span></span></span><span class=\"plain rtl  \" ><span class=\"plain rtl  \" ><span class=\"h\">אֹתָ֛ם </span></span></span><span class=\"plain rtl  \" ><span class=\"plain rtl  \" ><span class=\"h\">אֱלֹהִ֖ים </span></span></span><span class=\"plain rtl  \" ><span class=\"plain rtl  \" ><span class=\"h\">בִּ</span></span><span class=\"plain rtl  \" ><span class=\"h\">רְקִ֣יעַ </span></span><span class=\"plain rtl  \" ><span class=\"h\">הַ</span></span><span class=\"plain rtl  \" ><span class=\"h\">שָּׁמָ֑יִם </span></span></span></span></span></div></div><div class=\"catom   rtl \" >\n",
       "        <div class=\"clause  rtl \" >\n",
       "            <a href=\"https://shebanq.ancient-data.org/hebrew/text?book=Genesis&amp;chapter=1&amp;verse=17&amp;version=c&amp;mr=m&amp;qw=q&amp;tp=txt_p&amp;tr=hb&amp;wget=v&amp;qget=v&amp;nget=vt\" title=\"Genesis 1:17\" sec=\"Genesis 1:17\">clause</a>   <span class=\"rela\">Adju</span> <span class=\"typ\">InfC</span>\n",
       "        </div>\n",
       "        <div class=\"atoms rtl \">\n",
       "                    <span class=\"plain outer  rtl \"><span class=\"plain rtl  \" ><span class=\"plain rtl  \" ><span class=\"plain rtl  \" ><span class=\"h\">לְ</span></span><span class=\"plain rtl  \" ><span class=\"h\">הָאִ֖יר </span></span></span><span class=\"plain rtl  \" ><span class=\"plain rtl  \" ><span class=\"h\">עַל־</span></span><span class=\"plain rtl  \" ><span class=\"h\">הָ</span></span><span class=\"plain rtl  \" ><span class=\"h\">אָֽרֶץ׃ </span></span></span></span></span></div></div></div></div></div></div>"
      ],
      "text/plain": [
       "<IPython.core.display.HTML object>"
      ]
     },
     "metadata": {},
     "output_type": "display_data"
    }
   ],
   "source": [
    "A.pretty(verse2, baseType=\"clause\")"
   ]
  },
  {
   "cell_type": "markdown",
   "metadata": {},
   "source": [
    "even sentences are possible:"
   ]
  },
  {
   "cell_type": "code",
   "execution_count": 26,
   "metadata": {},
   "outputs": [
    {
     "data": {
      "text/html": [
       "<div class=\"outeritem rtl \"><div class=\"verse   rtl \" >\n",
       "    <div class=\"vl\">\n",
       "        <div class=\"vrs rtl \"><a href=\"https://shebanq.ancient-data.org/hebrew/text?book=Genesis&amp;chapter=1&amp;verse=17&amp;version=c&amp;mr=m&amp;qw=q&amp;tp=txt_p&amp;tr=hb&amp;wget=v&amp;qget=v&amp;nget=vt\" title=\"show this passage in SHEBANQ\" sec=\"Genesis 1:17\">Genesis 1:17</a></div>\n",
       "        \n",
       "    </div>\n",
       "<div class=\"satom  lno  rtl \" >\n",
       "        <div class=\"sentence  rtl \" >\n",
       "            <a href=\"https://shebanq.ancient-data.org/hebrew/text?book=Genesis&amp;chapter=1&amp;verse=17&amp;version=c&amp;mr=m&amp;qw=q&amp;tp=txt_p&amp;tr=hb&amp;wget=v&amp;qget=v&amp;nget=vt\" title=\"Genesis 1:17\" sec=\"Genesis 1:17\">sentence</a>   <span class=\"number\">46</span>\n",
       "        </div>\n",
       "        <div class=\"atoms rtl \">\n",
       "                    <span class=\"plain outer  rtl \"><span class=\"plain rtl  \" ><span class=\"plain rtl  \" ><span class=\"plain rtl  \" ><span class=\"plain rtl  \" ><span class=\"h\">וַ</span></span></span><span class=\"plain rtl  \" ><span class=\"plain rtl  \" ><span class=\"h\">יִּתֵּ֥ן </span></span></span><span class=\"plain rtl  \" ><span class=\"plain rtl  \" ><span class=\"h\">אֹתָ֛ם </span></span></span><span class=\"plain rtl  \" ><span class=\"plain rtl  \" ><span class=\"h\">אֱלֹהִ֖ים </span></span></span><span class=\"plain rtl  \" ><span class=\"plain rtl  \" ><span class=\"h\">בִּ</span></span><span class=\"plain rtl  \" ><span class=\"h\">רְקִ֣יעַ </span></span><span class=\"plain rtl  \" ><span class=\"h\">הַ</span></span><span class=\"plain rtl  \" ><span class=\"h\">שָּׁמָ֑יִם </span></span></span></span><span class=\"plain rtl  \" ><span class=\"plain rtl  \" ><span class=\"plain rtl  \" ><span class=\"h\">לְ</span></span><span class=\"plain rtl  \" ><span class=\"h\">הָאִ֖יר </span></span></span><span class=\"plain rtl  \" ><span class=\"plain rtl  \" ><span class=\"h\">עַל־</span></span><span class=\"plain rtl  \" ><span class=\"h\">הָ</span></span><span class=\"plain rtl  \" ><span class=\"h\">אָֽרֶץ׃ </span></span></span></span><span class=\"plain rtl  \" ><span class=\"plain rtl  \" ><span class=\"plain rtl  \" ><span class=\"h\">וְ</span></span></span><span class=\"plain rtl  \" ><span class=\"plain rtl  \" ><span class=\"h\">לִ</span></span><span class=\"plain rtl  \" ><span class=\"h\">מְשֹׁל֙ </span></span></span><span class=\"plain rtl  \" ><span class=\"plain rtl  \" ><span class=\"h\">בַּ</span></span><span class=\"plain rtl  \" ><span class=\"h\"></span></span><span class=\"plain rtl  \" ><span class=\"h\">יֹּ֣ום </span></span><span class=\"plain rtl  \" ><span class=\"h\">וּ</span></span><span class=\"plain rtl  \" ><span class=\"h\">בַ</span></span><span class=\"plain rtl  \" ><span class=\"h\"></span></span><span class=\"plain rtl  \" ><span class=\"h\">לַּ֔יְלָה </span></span></span></span><span class=\"plain rtl  \" ><span class=\"plain rtl  \" ><span class=\"plain rtl  \" ><span class=\"h\">וּֽ</span></span></span><span class=\"plain rtl  \" ><span class=\"plain rtl  \" ><span class=\"h\">לֲ</span></span><span class=\"plain rtl  \" ><span class=\"h\">הַבְדִּ֔יל </span></span></span><span class=\"plain rtl  \" ><span class=\"plain rtl  \" ><span class=\"h\">בֵּ֥ין </span></span><span class=\"plain rtl  \" ><span class=\"h\">הָ</span></span><span class=\"plain rtl  \" ><span class=\"h\">אֹ֖ור </span></span><span class=\"plain rtl  \" ><span class=\"h\">וּ</span></span><span class=\"plain rtl  \" ><span class=\"h\">בֵ֣ין </span></span><span class=\"plain rtl  \" ><span class=\"h\">הַ</span></span><span class=\"plain rtl  \" ><span class=\"h\">חֹ֑שֶׁךְ </span></span></span></span></span></span></div></div></div></div>"
      ],
      "text/plain": [
       "<IPython.core.display.HTML object>"
      ]
     },
     "metadata": {},
     "output_type": "display_data"
    }
   ],
   "source": [
    "A.pretty(verse2, baseType=\"sentence\")"
   ]
  },
  {
   "cell_type": "markdown",
   "metadata": {},
   "source": [
    "# Query results\n",
    "We run a TF query and show some of its results with a lot of pomp and circumstance.\n",
    "The query is written by Stephen Ku, and he is the one who prompted me to write\n",
    "rich display function for query results."
   ]
  },
  {
   "cell_type": "code",
   "execution_count": 27,
   "metadata": {
    "ExecuteTime": {
     "end_time": "2018-04-25T13:58:11.225978Z",
     "start_time": "2018-04-25T13:58:11.220671Z"
    }
   },
   "outputs": [],
   "source": [
    "ellipQuery = '''\n",
    "sentence\n",
    "  c1:clause\n",
    "    phrase function=Pred\n",
    "      word pdp=verb\n",
    "  c2:clause\n",
    "    phrase function=Pred\n",
    "  c3:clause typ=Ellp\n",
    "    phrase function=Objc\n",
    "      word pdp=subs|nmpr|prps|prde|prin\n",
    "  c1 << c2\n",
    "  c2 << c3\n",
    "'''"
   ]
  },
  {
   "cell_type": "markdown",
   "metadata": {},
   "source": [
    "Instead of running `S.search()`, we do `A.search()`."
   ]
  },
  {
   "cell_type": "code",
   "execution_count": 28,
   "metadata": {
    "ExecuteTime": {
     "end_time": "2018-04-25T13:58:18.022692Z",
     "start_time": "2018-04-25T13:58:14.862389Z"
    }
   },
   "outputs": [
    {
     "name": "stdout",
     "output_type": "stream",
     "text": [
      "  2.19s 1472 results\n"
     ]
    },
    {
     "data": {
      "text/plain": [
       "1472"
      ]
     },
     "execution_count": 28,
     "metadata": {},
     "output_type": "execute_result"
    }
   ],
   "source": [
    "results = A.search(ellipQuery)\n",
    "len(results)"
   ]
  },
  {
   "cell_type": "code",
   "execution_count": 29,
   "metadata": {},
   "outputs": [
    {
     "data": {
      "text/html": [
       "<table>\n",
       "<tr class=\"tf\">\n",
       "  <th class=\"tf\">n</th><th class=\"tf\">p</th>\n",
       "  <th class=\"tf\">sentence</th><th>clause</th><th>phrase</th><th>word</th><th>clause</th><th>phrase</th><th>clause</th><th>phrase</th><th>word</th>\n",
       "</tr>\n",
       "\n",
       "<tr class=\"tf\"><td class=\"tf\">10</td><td class=\"tf\"> <a href=\"https://shebanq.ancient-data.org/hebrew/text?book=Exodus&amp;chapter=18&amp;verse=8&amp;version=c&amp;mr=m&amp;qw=q&amp;tp=txt_p&amp;tr=hb&amp;wget=v&amp;qget=v&amp;nget=vt\" title=\"show this passage in SHEBANQ\" sec=\"Exodus 18:8\">Exodus 18:8</a></td><td class=\"tf\"><a href=\"https://shebanq.ancient-data.org/hebrew/text?book=Exodus&amp;chapter=18&amp;verse=8&amp;version=c&amp;mr=m&amp;qw=q&amp;tp=txt_p&amp;tr=hb&amp;wget=v&amp;qget=v&amp;nget=vt\" title=\"Exodus 18:8\" sec=\"Exodus 18:8\"><span class=\"plain outer  rtl \"><span class=\"plain rtl  hlbx\" ><span class=\"plain rtl  \" ><span class=\"plain rtl  hlbx\" ><span class=\"plain rtl  \" ><span class=\"plain rtl  \" ><span class=\"plain rtl  \" ><span class=\"h\">וַ</span></span></span><span class=\"plain rtl  hlbx\" ><span class=\"plain rtl  \" ><span class=\"plain rtl  hl\" ><span class=\"h\">יְסַפֵּ֤ר </span></span></span></span><span class=\"plain rtl  \" ><span class=\"plain rtl  \" ><span class=\"h\">מֹשֶׁה֙ </span></span></span><span class=\"plain rtl  \" ><span class=\"plain rtl  \" ><span class=\"h\">לְ</span></span><span class=\"plain rtl  \" ><span class=\"h\">חֹ֣תְנֹ֔ו </span></span></span><span class=\"plain rtl  \" ><span class=\"plain rtl  \" ><span class=\"h\">אֵת֩ </span></span><span class=\"plain rtl  \" ><span class=\"h\">כָּל־</span></span></span></span></span><span class=\"plain rtl  hlbx\" ><span class=\"plain rtl  \" ><span class=\"plain rtl  \" ><span class=\"plain rtl  \" ><span class=\"h\">אֲשֶׁ֨ר </span></span></span><span class=\"plain rtl  hlbx\" ><span class=\"plain rtl  \" ><span class=\"plain rtl  \" ><span class=\"h\">עָשָׂ֤ה </span></span></span></span><span class=\"plain rtl  \" ><span class=\"plain rtl  \" ><span class=\"h\">יְהוָה֙ </span></span></span><span class=\"plain rtl  \" ><span class=\"plain rtl  \" ><span class=\"h\">לְ</span></span><span class=\"plain rtl  \" ><span class=\"h\">פַרְעֹ֣ה </span></span><span class=\"plain rtl  \" ><span class=\"h\">וּ</span></span><span class=\"plain rtl  \" ><span class=\"h\">לְ</span></span><span class=\"plain rtl  \" ><span class=\"h\">מִצְרַ֔יִם </span></span></span><span class=\"plain rtl  \" ><span class=\"plain rtl  \" ><span class=\"h\">עַ֖ל </span></span><span class=\"plain rtl  \" ><span class=\"h\">אֹודֹ֣ת </span></span><span class=\"plain rtl  \" ><span class=\"h\">יִשְׂרָאֵ֑ל </span></span></span></span></span><span class=\"plain rtl  hlbx\" ><span class=\"plain rtl  \" ><span class=\"plain rtl  hlbx\" ><span class=\"plain rtl  \" ><span class=\"plain rtl  \" ><span class=\"h\">אֵ֤ת </span></span><span class=\"plain rtl  hl\" ><span class=\"h\">כָּל־</span></span><span class=\"plain rtl  \" ><span class=\"h\">הַ</span></span><span class=\"plain rtl  \" ><span class=\"h\">תְּלָאָה֙ </span></span></span></span></span></span><span class=\"plain rtl  \" ><span class=\"plain rtl  \" ><span class=\"plain rtl  \" ><span class=\"h\">אֲשֶׁ֣ר </span></span></span><span class=\"plain rtl  \" ><span class=\"plain rtl  \" ><span class=\"h\">מְצָאָ֣תַם </span></span></span><span class=\"plain rtl  \" ><span class=\"plain rtl  \" ><span class=\"h\">בַּ</span></span><span class=\"plain rtl  \" ><span class=\"h\"></span></span><span class=\"plain rtl  \" ><span class=\"h\">דֶּ֔רֶךְ </span></span></span></span><span class=\"plain rtl  \" ><span class=\"plain rtl  \" ><span class=\"plain rtl  \" ><span class=\"h\">וַ</span></span></span><span class=\"plain rtl  \" ><span class=\"plain rtl  \" ><span class=\"h\">יַּצִּלֵ֖ם </span></span></span><span class=\"plain rtl  \" ><span class=\"plain rtl  \" ><span class=\"h\">יְהוָֽה׃ </span></span></span></span></span></span></span></a></td><td class=\"tf\"><span class=\"plain outer  rtl \"><span class=\"plain rtl  hlbx\" ><span class=\"plain rtl  \" ><span class=\"plain rtl  \" ><span class=\"plain rtl  \" ><span class=\"h\">וַ</span></span></span><span class=\"plain rtl  hlbx\" ><span class=\"plain rtl  \" ><span class=\"plain rtl  hl\" ><span class=\"h\">יְסַפֵּ֤ר </span></span></span></span><span class=\"plain rtl  \" ><span class=\"plain rtl  \" ><span class=\"h\">מֹשֶׁה֙ </span></span></span><span class=\"plain rtl  \" ><span class=\"plain rtl  \" ><span class=\"h\">לְ</span></span><span class=\"plain rtl  \" ><span class=\"h\">חֹ֣תְנֹ֔ו </span></span></span><span class=\"plain rtl  \" ><span class=\"plain rtl  \" ><span class=\"h\">אֵת֩ </span></span><span class=\"plain rtl  \" ><span class=\"h\">כָּל־</span></span></span></span></span></span></td><td class=\"tf\"><span class=\"plain outer  rtl \"><span class=\"plain rtl  hlbx\" ><span class=\"plain rtl  \" ><span class=\"plain rtl  hl\" ><span class=\"h\">יְסַפֵּ֤ר </span></span></span></span></span></td><td class=\"tf\"><span class=\"plain outer  rtl  hl\" ><span class=\"h\">יְסַפֵּ֤ר </span></span></td><td class=\"tf\"><span class=\"plain outer  rtl \"><span class=\"plain rtl  hlbx\" ><span class=\"plain rtl  \" ><span class=\"plain rtl  \" ><span class=\"plain rtl  \" ><span class=\"h\">אֲשֶׁ֨ר </span></span></span><span class=\"plain rtl  hlbx\" ><span class=\"plain rtl  \" ><span class=\"plain rtl  \" ><span class=\"h\">עָשָׂ֤ה </span></span></span></span><span class=\"plain rtl  \" ><span class=\"plain rtl  \" ><span class=\"h\">יְהוָה֙ </span></span></span><span class=\"plain rtl  \" ><span class=\"plain rtl  \" ><span class=\"h\">לְ</span></span><span class=\"plain rtl  \" ><span class=\"h\">פַרְעֹ֣ה </span></span><span class=\"plain rtl  \" ><span class=\"h\">וּ</span></span><span class=\"plain rtl  \" ><span class=\"h\">לְ</span></span><span class=\"plain rtl  \" ><span class=\"h\">מִצְרַ֔יִם </span></span></span><span class=\"plain rtl  \" ><span class=\"plain rtl  \" ><span class=\"h\">עַ֖ל </span></span><span class=\"plain rtl  \" ><span class=\"h\">אֹודֹ֣ת </span></span><span class=\"plain rtl  \" ><span class=\"h\">יִשְׂרָאֵ֑ל </span></span></span></span></span></span></td><td class=\"tf\"><span class=\"plain outer  rtl \"><span class=\"plain rtl  hlbx\" ><span class=\"plain rtl  \" ><span class=\"plain rtl  \" ><span class=\"h\">עָשָׂ֤ה </span></span></span></span></span></td><td class=\"tf\"><span class=\"plain outer  rtl \"><span class=\"plain rtl  hlbx\" ><span class=\"plain rtl  \" ><span class=\"plain rtl  hlbx\" ><span class=\"plain rtl  \" ><span class=\"plain rtl  \" ><span class=\"h\">אֵ֤ת </span></span><span class=\"plain rtl  hl\" ><span class=\"h\">כָּל־</span></span><span class=\"plain rtl  \" ><span class=\"h\">הַ</span></span><span class=\"plain rtl  \" ><span class=\"h\">תְּלָאָה֙ </span></span></span></span></span></span></span></td><td class=\"tf\"><span class=\"plain outer  rtl \"><span class=\"plain rtl  hlbx\" ><span class=\"plain rtl  \" ><span class=\"plain rtl  \" ><span class=\"h\">אֵ֤ת </span></span><span class=\"plain rtl  hl\" ><span class=\"h\">כָּל־</span></span><span class=\"plain rtl  \" ><span class=\"h\">הַ</span></span><span class=\"plain rtl  \" ><span class=\"h\">תְּלָאָה֙ </span></span></span></span></span></td><td class=\"tf\"><span class=\"plain outer  rtl  hl\" ><span class=\"h\">כָּל־</span></span></td></tr>\n",
       "<tr class=\"tf\"><td class=\"tf\">11</td><td class=\"tf\"> <a href=\"https://shebanq.ancient-data.org/hebrew/text?book=Exodus&amp;chapter=18&amp;verse=8&amp;version=c&amp;mr=m&amp;qw=q&amp;tp=txt_p&amp;tr=hb&amp;wget=v&amp;qget=v&amp;nget=vt\" title=\"show this passage in SHEBANQ\" sec=\"Exodus 18:8\">Exodus 18:8</a></td><td class=\"tf\"><a href=\"https://shebanq.ancient-data.org/hebrew/text?book=Exodus&amp;chapter=18&amp;verse=8&amp;version=c&amp;mr=m&amp;qw=q&amp;tp=txt_p&amp;tr=hb&amp;wget=v&amp;qget=v&amp;nget=vt\" title=\"Exodus 18:8\" sec=\"Exodus 18:8\"><span class=\"plain outer  rtl \"><span class=\"plain rtl  hlbx\" ><span class=\"plain rtl  \" ><span class=\"plain rtl  hlbx\" ><span class=\"plain rtl  \" ><span class=\"plain rtl  \" ><span class=\"plain rtl  \" ><span class=\"h\">וַ</span></span></span><span class=\"plain rtl  hlbx\" ><span class=\"plain rtl  \" ><span class=\"plain rtl  hl\" ><span class=\"h\">יְסַפֵּ֤ר </span></span></span></span><span class=\"plain rtl  \" ><span class=\"plain rtl  \" ><span class=\"h\">מֹשֶׁה֙ </span></span></span><span class=\"plain rtl  \" ><span class=\"plain rtl  \" ><span class=\"h\">לְ</span></span><span class=\"plain rtl  \" ><span class=\"h\">חֹ֣תְנֹ֔ו </span></span></span><span class=\"plain rtl  \" ><span class=\"plain rtl  \" ><span class=\"h\">אֵת֩ </span></span><span class=\"plain rtl  \" ><span class=\"h\">כָּל־</span></span></span></span></span><span class=\"plain rtl  hlbx\" ><span class=\"plain rtl  \" ><span class=\"plain rtl  \" ><span class=\"plain rtl  \" ><span class=\"h\">אֲשֶׁ֨ר </span></span></span><span class=\"plain rtl  hlbx\" ><span class=\"plain rtl  \" ><span class=\"plain rtl  \" ><span class=\"h\">עָשָׂ֤ה </span></span></span></span><span class=\"plain rtl  \" ><span class=\"plain rtl  \" ><span class=\"h\">יְהוָה֙ </span></span></span><span class=\"plain rtl  \" ><span class=\"plain rtl  \" ><span class=\"h\">לְ</span></span><span class=\"plain rtl  \" ><span class=\"h\">פַרְעֹ֣ה </span></span><span class=\"plain rtl  \" ><span class=\"h\">וּ</span></span><span class=\"plain rtl  \" ><span class=\"h\">לְ</span></span><span class=\"plain rtl  \" ><span class=\"h\">מִצְרַ֔יִם </span></span></span><span class=\"plain rtl  \" ><span class=\"plain rtl  \" ><span class=\"h\">עַ֖ל </span></span><span class=\"plain rtl  \" ><span class=\"h\">אֹודֹ֣ת </span></span><span class=\"plain rtl  \" ><span class=\"h\">יִשְׂרָאֵ֑ל </span></span></span></span></span><span class=\"plain rtl  hlbx\" ><span class=\"plain rtl  \" ><span class=\"plain rtl  hlbx\" ><span class=\"plain rtl  \" ><span class=\"plain rtl  \" ><span class=\"h\">אֵ֤ת </span></span><span class=\"plain rtl  \" ><span class=\"h\">כָּל־</span></span><span class=\"plain rtl  \" ><span class=\"h\">הַ</span></span><span class=\"plain rtl  hl\" ><span class=\"h\">תְּלָאָה֙ </span></span></span></span></span></span><span class=\"plain rtl  \" ><span class=\"plain rtl  \" ><span class=\"plain rtl  \" ><span class=\"h\">אֲשֶׁ֣ר </span></span></span><span class=\"plain rtl  \" ><span class=\"plain rtl  \" ><span class=\"h\">מְצָאָ֣תַם </span></span></span><span class=\"plain rtl  \" ><span class=\"plain rtl  \" ><span class=\"h\">בַּ</span></span><span class=\"plain rtl  \" ><span class=\"h\"></span></span><span class=\"plain rtl  \" ><span class=\"h\">דֶּ֔רֶךְ </span></span></span></span><span class=\"plain rtl  \" ><span class=\"plain rtl  \" ><span class=\"plain rtl  \" ><span class=\"h\">וַ</span></span></span><span class=\"plain rtl  \" ><span class=\"plain rtl  \" ><span class=\"h\">יַּצִּלֵ֖ם </span></span></span><span class=\"plain rtl  \" ><span class=\"plain rtl  \" ><span class=\"h\">יְהוָֽה׃ </span></span></span></span></span></span></span></a></td><td class=\"tf\"><span class=\"plain outer  rtl \"><span class=\"plain rtl  hlbx\" ><span class=\"plain rtl  \" ><span class=\"plain rtl  \" ><span class=\"plain rtl  \" ><span class=\"h\">וַ</span></span></span><span class=\"plain rtl  hlbx\" ><span class=\"plain rtl  \" ><span class=\"plain rtl  hl\" ><span class=\"h\">יְסַפֵּ֤ר </span></span></span></span><span class=\"plain rtl  \" ><span class=\"plain rtl  \" ><span class=\"h\">מֹשֶׁה֙ </span></span></span><span class=\"plain rtl  \" ><span class=\"plain rtl  \" ><span class=\"h\">לְ</span></span><span class=\"plain rtl  \" ><span class=\"h\">חֹ֣תְנֹ֔ו </span></span></span><span class=\"plain rtl  \" ><span class=\"plain rtl  \" ><span class=\"h\">אֵת֩ </span></span><span class=\"plain rtl  \" ><span class=\"h\">כָּל־</span></span></span></span></span></span></td><td class=\"tf\"><span class=\"plain outer  rtl \"><span class=\"plain rtl  hlbx\" ><span class=\"plain rtl  \" ><span class=\"plain rtl  hl\" ><span class=\"h\">יְסַפֵּ֤ר </span></span></span></span></span></td><td class=\"tf\"><span class=\"plain outer  rtl  hl\" ><span class=\"h\">יְסַפֵּ֤ר </span></span></td><td class=\"tf\"><span class=\"plain outer  rtl \"><span class=\"plain rtl  hlbx\" ><span class=\"plain rtl  \" ><span class=\"plain rtl  \" ><span class=\"plain rtl  \" ><span class=\"h\">אֲשֶׁ֨ר </span></span></span><span class=\"plain rtl  hlbx\" ><span class=\"plain rtl  \" ><span class=\"plain rtl  \" ><span class=\"h\">עָשָׂ֤ה </span></span></span></span><span class=\"plain rtl  \" ><span class=\"plain rtl  \" ><span class=\"h\">יְהוָה֙ </span></span></span><span class=\"plain rtl  \" ><span class=\"plain rtl  \" ><span class=\"h\">לְ</span></span><span class=\"plain rtl  \" ><span class=\"h\">פַרְעֹ֣ה </span></span><span class=\"plain rtl  \" ><span class=\"h\">וּ</span></span><span class=\"plain rtl  \" ><span class=\"h\">לְ</span></span><span class=\"plain rtl  \" ><span class=\"h\">מִצְרַ֔יִם </span></span></span><span class=\"plain rtl  \" ><span class=\"plain rtl  \" ><span class=\"h\">עַ֖ל </span></span><span class=\"plain rtl  \" ><span class=\"h\">אֹודֹ֣ת </span></span><span class=\"plain rtl  \" ><span class=\"h\">יִשְׂרָאֵ֑ל </span></span></span></span></span></span></td><td class=\"tf\"><span class=\"plain outer  rtl \"><span class=\"plain rtl  hlbx\" ><span class=\"plain rtl  \" ><span class=\"plain rtl  \" ><span class=\"h\">עָשָׂ֤ה </span></span></span></span></span></td><td class=\"tf\"><span class=\"plain outer  rtl \"><span class=\"plain rtl  hlbx\" ><span class=\"plain rtl  \" ><span class=\"plain rtl  hlbx\" ><span class=\"plain rtl  \" ><span class=\"plain rtl  \" ><span class=\"h\">אֵ֤ת </span></span><span class=\"plain rtl  \" ><span class=\"h\">כָּל־</span></span><span class=\"plain rtl  \" ><span class=\"h\">הַ</span></span><span class=\"plain rtl  hl\" ><span class=\"h\">תְּלָאָה֙ </span></span></span></span></span></span></span></td><td class=\"tf\"><span class=\"plain outer  rtl \"><span class=\"plain rtl  hlbx\" ><span class=\"plain rtl  \" ><span class=\"plain rtl  \" ><span class=\"h\">אֵ֤ת </span></span><span class=\"plain rtl  \" ><span class=\"h\">כָּל־</span></span><span class=\"plain rtl  \" ><span class=\"h\">הַ</span></span><span class=\"plain rtl  hl\" ><span class=\"h\">תְּלָאָה֙ </span></span></span></span></span></td><td class=\"tf\"><span class=\"plain outer  rtl  hl\" ><span class=\"h\">תְּלָאָה֙ </span></span></td></tr>\n",
       "<tr class=\"tf\"><td class=\"tf\">12</td><td class=\"tf\"> <a href=\"https://shebanq.ancient-data.org/hebrew/text?book=Exodus&amp;chapter=23&amp;verse=15&amp;version=c&amp;mr=m&amp;qw=q&amp;tp=txt_p&amp;tr=hb&amp;wget=v&amp;qget=v&amp;nget=vt\" title=\"show this passage in SHEBANQ\" sec=\"Exodus 23:15\">Exodus 23:15</a></td><td class=\"tf\"><a href=\"https://shebanq.ancient-data.org/hebrew/text?book=Exodus&amp;chapter=23&amp;verse=15&amp;version=c&amp;mr=m&amp;qw=q&amp;tp=txt_p&amp;tr=hb&amp;wget=v&amp;qget=v&amp;nget=vt\" title=\"Exodus 23:15\" sec=\"Exodus 23:15\"><span class=\"plain outer  rtl \"><span class=\"plain rtl  l hlbx\" ><span class=\"plain rtl  \" ><span class=\"plain rtl  hlbx\" ><span class=\"plain rtl  \" ><span class=\"plain rtl  \" ><span class=\"plain rtl  \" ><span class=\"h\">אֶת־</span></span><span class=\"plain rtl  \" ><span class=\"h\">חַ֣ג </span></span><span class=\"plain rtl  \" ><span class=\"h\">הַ</span></span><span class=\"plain rtl  \" ><span class=\"h\">מַּצֹּות֮ </span></span></span><span class=\"plain rtl  hlbx\" ><span class=\"plain rtl  \" ><span class=\"plain rtl  hl\" ><span class=\"h\">תִּשְׁמֹר֒ </span></span></span></span></span></span></span></span><span class=\"plain rtl  r hlbx\" ><span class=\"plain rtl  \" ><span class=\"plain rtl  \" ><span class=\"plain rtl  \" ><span class=\"plain rtl  \" ><span class=\"h\">וְ</span></span></span><span class=\"plain rtl  \" ><span class=\"plain rtl  \" ><span class=\"h\">חַ֤ג </span></span><span class=\"plain rtl  \" ><span class=\"h\">הַ</span></span><span class=\"plain rtl  \" ><span class=\"h\">קָּצִיר֙ </span></span></span><span class=\"plain rtl  \" ><span class=\"plain rtl  \" ><span class=\"h\">בִּכּוּרֵ֣י </span></span><span class=\"plain rtl  \" ><span class=\"h\">מַעֲשֶׂ֔יךָ </span></span></span></span><span class=\"plain rtl  hlbx\" ><span class=\"plain rtl  \" ><span class=\"plain rtl  \" ><span class=\"plain rtl  \" ><span class=\"h\">אֲשֶׁ֥ר </span></span></span><span class=\"plain rtl  hlbx\" ><span class=\"plain rtl  \" ><span class=\"plain rtl  \" ><span class=\"h\">תִּזְרַ֖ע </span></span></span></span><span class=\"plain rtl  \" ><span class=\"plain rtl  \" ><span class=\"h\">בַּ</span></span><span class=\"plain rtl  \" ><span class=\"h\"></span></span><span class=\"plain rtl  \" ><span class=\"h\">שָּׂדֶ֑ה </span></span></span></span></span><span class=\"plain rtl  hlbx\" ><span class=\"plain rtl  \" ><span class=\"plain rtl  \" ><span class=\"plain rtl  \" ><span class=\"h\">וְ</span></span></span><span class=\"plain rtl  hlbx\" ><span class=\"plain rtl  \" ><span class=\"plain rtl  hl\" ><span class=\"h\">חַ֤ג </span></span><span class=\"plain rtl  \" ><span class=\"h\">הָֽ</span></span><span class=\"plain rtl  \" ><span class=\"h\">אָסִף֙ </span></span></span></span></span></span><span class=\"plain rtl  \" ><span class=\"plain rtl  \" ><span class=\"plain rtl  \" ><span class=\"h\">בְּ</span></span><span class=\"plain rtl  \" ><span class=\"h\">צֵ֣את </span></span></span><span class=\"plain rtl  \" ><span class=\"plain rtl  \" ><span class=\"h\">הַ</span></span><span class=\"plain rtl  \" ><span class=\"h\">שָּׁנָ֔ה </span></span></span></span><span class=\"plain rtl  \" ><span class=\"plain rtl  \" ><span class=\"plain rtl  \" ><span class=\"h\">בְּ</span></span><span class=\"plain rtl  \" ><span class=\"h\">אָסְפְּךָ֥ </span></span></span><span class=\"plain rtl  \" ><span class=\"plain rtl  \" ><span class=\"h\">אֶֽת־</span></span><span class=\"plain rtl  \" ><span class=\"h\">מַעֲשֶׂ֖יךָ </span></span></span><span class=\"plain rtl  \" ><span class=\"plain rtl  \" ><span class=\"h\">מִן־</span></span><span class=\"plain rtl  \" ><span class=\"h\">הַ</span></span><span class=\"plain rtl  \" ><span class=\"h\">שָּׂדֶֽה׃ </span></span></span></span></span></span></span></a></td><td class=\"tf\"><span class=\"plain outer  rtl \"><span class=\"plain rtl  hlbx\" ><span class=\"plain rtl  \" ><span class=\"plain rtl  \" ><span class=\"plain rtl  \" ><span class=\"h\">אֶת־</span></span><span class=\"plain rtl  \" ><span class=\"h\">חַ֣ג </span></span><span class=\"plain rtl  \" ><span class=\"h\">הַ</span></span><span class=\"plain rtl  \" ><span class=\"h\">מַּצֹּות֮ </span></span></span><span class=\"plain rtl  hlbx\" ><span class=\"plain rtl  \" ><span class=\"plain rtl  hl\" ><span class=\"h\">תִּשְׁמֹר֒ </span></span></span></span></span></span></span></td><td class=\"tf\"><span class=\"plain outer  rtl \"><span class=\"plain rtl  hlbx\" ><span class=\"plain rtl  \" ><span class=\"plain rtl  hl\" ><span class=\"h\">תִּשְׁמֹר֒ </span></span></span></span></span></td><td class=\"tf\"><span class=\"plain outer  rtl  hl\" ><span class=\"h\">תִּשְׁמֹר֒ </span></span></td><td class=\"tf\"><span class=\"plain outer  rtl \"><span class=\"plain rtl  hlbx\" ><span class=\"plain rtl  \" ><span class=\"plain rtl  \" ><span class=\"plain rtl  \" ><span class=\"h\">אֲשֶׁ֥ר </span></span></span><span class=\"plain rtl  hlbx\" ><span class=\"plain rtl  \" ><span class=\"plain rtl  \" ><span class=\"h\">תִּזְרַ֖ע </span></span></span></span><span class=\"plain rtl  \" ><span class=\"plain rtl  \" ><span class=\"h\">בַּ</span></span><span class=\"plain rtl  \" ><span class=\"h\"></span></span><span class=\"plain rtl  \" ><span class=\"h\">שָּׂדֶ֑ה </span></span></span></span></span></span></td><td class=\"tf\"><span class=\"plain outer  rtl \"><span class=\"plain rtl  hlbx\" ><span class=\"plain rtl  \" ><span class=\"plain rtl  \" ><span class=\"h\">תִּזְרַ֖ע </span></span></span></span></span></td><td class=\"tf\"><span class=\"plain outer  rtl \"><span class=\"plain rtl  hlbx\" ><span class=\"plain rtl  \" ><span class=\"plain rtl  \" ><span class=\"plain rtl  \" ><span class=\"h\">וְ</span></span></span><span class=\"plain rtl  hlbx\" ><span class=\"plain rtl  \" ><span class=\"plain rtl  hl\" ><span class=\"h\">חַ֤ג </span></span><span class=\"plain rtl  \" ><span class=\"h\">הָֽ</span></span><span class=\"plain rtl  \" ><span class=\"h\">אָסִף֙ </span></span></span></span></span></span></span></td><td class=\"tf\"><span class=\"plain outer  rtl \"><span class=\"plain rtl  hlbx\" ><span class=\"plain rtl  \" ><span class=\"plain rtl  hl\" ><span class=\"h\">חַ֤ג </span></span><span class=\"plain rtl  \" ><span class=\"h\">הָֽ</span></span><span class=\"plain rtl  \" ><span class=\"h\">אָסִף֙ </span></span></span></span></span></td><td class=\"tf\"><span class=\"plain outer  rtl  hl\" ><span class=\"h\">חַ֤ג </span></span></td></tr></table>"
      ],
      "text/plain": [
       "<IPython.core.display.HTML object>"
      ]
     },
     "metadata": {},
     "output_type": "display_data"
    }
   ],
   "source": [
    "A.table(results, start=10, end=12)"
   ]
  },
  {
   "cell_type": "markdown",
   "metadata": {},
   "source": [
    "You can also show the results in pretty displays.\n",
    "The `A.show()` function asks you for some limits (it will not show more than 100 at a time), and then it displays them.\n",
    "\n",
    "It lists the results as follows:\n",
    "\n",
    "* a heading showing which result in the sequence of all results this is\n",
    "* an overview of the nodes in the tuple of this result\n",
    "* a display of all verses that have result material, with the places highlighted that \n",
    "  correspond to a node in the result tuple"
   ]
  },
  {
   "cell_type": "code",
   "execution_count": 45,
   "metadata": {
    "ExecuteTime": {
     "end_time": "2018-04-25T13:58:23.002898Z",
     "start_time": "2018-04-25T13:58:21.622054Z"
    }
   },
   "outputs": [
    {
     "data": {
      "text/html": [
       "<p><b>result</b> <i>10</i></p>"
      ],
      "text/plain": [
       "<IPython.core.display.HTML object>"
      ]
     },
     "metadata": {},
     "output_type": "display_data"
    },
    {
     "data": {
      "text/html": [
       "<div class=\"outeritem rtl \"><div class=\"verse   rtl \" >\n",
       "    <div class=\"vl\">\n",
       "        <div class=\"vrs rtl \"><a href=\"https://shebanq.ancient-data.org/hebrew/text?book=Exodus&amp;chapter=18&amp;verse=8&amp;version=c&amp;mr=m&amp;qw=q&amp;tp=txt_p&amp;tr=hb&amp;wget=v&amp;qget=v&amp;nget=vt\" title=\"show this passage in SHEBANQ\" sec=\"Exodus 18:8\">Exodus 18:8</a></div>\n",
       "        <span class=\"nd\">1416361</span>\n",
       "    </div>\n",
       "<div class=\"satom  hl rtl \" >\n",
       "        <div class=\"sentence hl rtl \" >\n",
       "            <a href=\"https://shebanq.ancient-data.org/hebrew/text?book=Exodus&amp;chapter=18&amp;verse=8&amp;version=c&amp;mr=m&amp;qw=q&amp;tp=txt_p&amp;tr=hb&amp;wget=v&amp;qget=v&amp;nget=vt\" title=\"Exodus 18:8\" sec=\"Exodus 18:8\">sentence</a> <span class=\"nd\">1178439</span>  <span class=\"number\">15|1542</span>\n",
       "        </div>\n",
       "        <div class=\"atoms rtl \">\n",
       "                    <div class=\"catom  hl rtl \" >\n",
       "        <div class=\"clause hl rtl \" >\n",
       "            <a href=\"https://shebanq.ancient-data.org/hebrew/text?book=Exodus&amp;chapter=18&amp;verse=8&amp;version=c&amp;mr=m&amp;qw=q&amp;tp=txt_p&amp;tr=hb&amp;wget=v&amp;qget=v&amp;nget=vt\" title=\"Exodus 18:8\" sec=\"Exodus 18:8\">clause</a> <span class=\"nd\">435507</span>  <span class=\"typ\">WayX</span>\n",
       "        </div>\n",
       "        <div class=\"atoms rtl \">\n",
       "                    <div class=\"patom   rtl \" >\n",
       "        <div class=\"phrase  rtl \" >\n",
       "            <a href=\"https://shebanq.ancient-data.org/hebrew/text?book=Exodus&amp;chapter=18&amp;verse=8&amp;version=c&amp;mr=m&amp;qw=q&amp;tp=txt_p&amp;tr=hb&amp;wget=v&amp;qget=v&amp;nget=vt\" title=\"Exodus 18:8\" sec=\"Exodus 18:8\">phrase</a> <span class=\"nd\">675471</span>  <span class=\"function\">Conj</span> <span class=\"typ\">CP</span>\n",
       "        </div>\n",
       "        <div class=\"atoms rtl \">\n",
       "                    <div class=\"word   rtl \" ><span class=\"nd\">38604</span><div class=\"h\"><a target=\"_blank\" href=\"https://shebanq.ancient-data.org/hebrew/word?version=c&amp;id=1W\" title=\"show this lexeme in SHEBANQ\">וַ</a></div><div class=\"features\"> <span class=\"pdp\"><a href=\"https://shebanq.ancient-data.org/hebrew/text?book=Exodus&amp;chapter=18&amp;verse=8&amp;version=c&amp;mr=m&amp;qw=q&amp;tp=txt_p&amp;tr=hb&amp;wget=v&amp;qget=v&amp;nget=vt\" title=\"Exodus 18:8\" sec=\"Exodus 18:8\">conj</a></span> <span class=\"gloss\">and</span></div></div></div></div><div class=\"patom  hl rtl \" >\n",
       "        <div class=\"phrase hl rtl \" >\n",
       "            <a href=\"https://shebanq.ancient-data.org/hebrew/text?book=Exodus&amp;chapter=18&amp;verse=8&amp;version=c&amp;mr=m&amp;qw=q&amp;tp=txt_p&amp;tr=hb&amp;wget=v&amp;qget=v&amp;nget=vt\" title=\"Exodus 18:8\" sec=\"Exodus 18:8\">phrase</a> <span class=\"nd\">675472</span>  <span class=\"function\">Pred</span> <span class=\"typ\">VP</span>\n",
       "        </div>\n",
       "        <div class=\"atoms rtl \">\n",
       "                    <div class=\"word  hl rtl \" ><span class=\"nd\">38605</span><div class=\"h\"><a target=\"_blank\" href=\"https://shebanq.ancient-data.org/hebrew/word?version=c&amp;id=1SPRv\" title=\"show this lexeme in SHEBANQ\">יְסַפֵּ֤ר </a></div><div class=\"features\"> <span class=\"pdp\"><a href=\"https://shebanq.ancient-data.org/hebrew/text?book=Exodus&amp;chapter=18&amp;verse=8&amp;version=c&amp;mr=m&amp;qw=q&amp;tp=txt_p&amp;tr=hb&amp;wget=v&amp;qget=v&amp;nget=vt\" title=\"Exodus 18:8\" sec=\"Exodus 18:8\">verb</a></span> <span class=\"gloss\">count</span> <span class=\"vs\">piel</span> <span class=\"vt\">wayq</span></div></div></div></div><div class=\"patom   rtl \" >\n",
       "        <div class=\"phrase  rtl \" >\n",
       "            <a href=\"https://shebanq.ancient-data.org/hebrew/text?book=Exodus&amp;chapter=18&amp;verse=8&amp;version=c&amp;mr=m&amp;qw=q&amp;tp=txt_p&amp;tr=hb&amp;wget=v&amp;qget=v&amp;nget=vt\" title=\"Exodus 18:8\" sec=\"Exodus 18:8\">phrase</a> <span class=\"nd\">675473</span>  <span class=\"function\">Subj</span> <span class=\"typ\">PrNP</span>\n",
       "        </div>\n",
       "        <div class=\"atoms rtl \">\n",
       "                    <div class=\"word   rtl \" ><span class=\"nd\">38606</span><div class=\"h\"><a target=\"_blank\" href=\"https://shebanq.ancient-data.org/hebrew/word?version=c&amp;id=1MCHin\" title=\"show this lexeme in SHEBANQ\">מֹשֶׁה֙ </a></div><div class=\"features\"> <span class=\"pdp\"><a href=\"https://shebanq.ancient-data.org/hebrew/text?book=Exodus&amp;chapter=18&amp;verse=8&amp;version=c&amp;mr=m&amp;qw=q&amp;tp=txt_p&amp;tr=hb&amp;wget=v&amp;qget=v&amp;nget=vt\" title=\"Exodus 18:8\" sec=\"Exodus 18:8\">nmpr</a></span> <span class=\"gloss\">Moses</span></div></div></div></div><div class=\"patom   rtl \" >\n",
       "        <div class=\"phrase  rtl \" >\n",
       "            <a href=\"https://shebanq.ancient-data.org/hebrew/text?book=Exodus&amp;chapter=18&amp;verse=8&amp;version=c&amp;mr=m&amp;qw=q&amp;tp=txt_p&amp;tr=hb&amp;wget=v&amp;qget=v&amp;nget=vt\" title=\"Exodus 18:8\" sec=\"Exodus 18:8\">phrase</a> <span class=\"nd\">675474</span>  <span class=\"function\">Cmpl</span> <span class=\"typ\">PP</span>\n",
       "        </div>\n",
       "        <div class=\"atoms rtl \">\n",
       "                    <div class=\"word   rtl \" ><span class=\"nd\">38607</span><div class=\"h\"><a target=\"_blank\" href=\"https://shebanq.ancient-data.org/hebrew/word?version=c&amp;id=1L\" title=\"show this lexeme in SHEBANQ\">לְ</a></div><div class=\"features\"> <span class=\"pdp\"><a href=\"https://shebanq.ancient-data.org/hebrew/text?book=Exodus&amp;chapter=18&amp;verse=8&amp;version=c&amp;mr=m&amp;qw=q&amp;tp=txt_p&amp;tr=hb&amp;wget=v&amp;qget=v&amp;nget=vt\" title=\"Exodus 18:8\" sec=\"Exodus 18:8\">prep</a></span> <span class=\"gloss\">to</span></div></div><div class=\"word   rtl \" ><span class=\"nd\">38608</span><div class=\"h\"><a target=\"_blank\" href=\"https://shebanq.ancient-data.org/hebrew/word?version=c&amp;id=1XTNv\" title=\"show this lexeme in SHEBANQ\">חֹ֣תְנֹ֔ו </a></div><div class=\"features\"> <span class=\"pdp\"><a href=\"https://shebanq.ancient-data.org/hebrew/text?book=Exodus&amp;chapter=18&amp;verse=8&amp;version=c&amp;mr=m&amp;qw=q&amp;tp=txt_p&amp;tr=hb&amp;wget=v&amp;qget=v&amp;nget=vt\" title=\"Exodus 18:8\" sec=\"Exodus 18:8\">subs</a></span> <span class=\"gloss\">be father-in-law</span> <span class=\"vs\">qal</span> <span class=\"vt\">ptca</span></div></div></div></div><div class=\"patom   rtl \" >\n",
       "        <div class=\"phrase  rtl \" >\n",
       "            <a href=\"https://shebanq.ancient-data.org/hebrew/text?book=Exodus&amp;chapter=18&amp;verse=8&amp;version=c&amp;mr=m&amp;qw=q&amp;tp=txt_p&amp;tr=hb&amp;wget=v&amp;qget=v&amp;nget=vt\" title=\"Exodus 18:8\" sec=\"Exodus 18:8\">phrase</a> <span class=\"nd\">675475</span>  <span class=\"function\">Objc</span> <span class=\"typ\">PP</span>\n",
       "        </div>\n",
       "        <div class=\"atoms rtl \">\n",
       "                    <div class=\"word   rtl \" ><span class=\"nd\">38609</span><div class=\"h\"><a target=\"_blank\" href=\"https://shebanq.ancient-data.org/hebrew/word?version=c&amp;id=1AT\" title=\"show this lexeme in SHEBANQ\">אֵת֩ </a></div><div class=\"features\"> <span class=\"pdp\"><a href=\"https://shebanq.ancient-data.org/hebrew/text?book=Exodus&amp;chapter=18&amp;verse=8&amp;version=c&amp;mr=m&amp;qw=q&amp;tp=txt_p&amp;tr=hb&amp;wget=v&amp;qget=v&amp;nget=vt\" title=\"Exodus 18:8\" sec=\"Exodus 18:8\">prep</a></span> <span class=\"gloss\">&lt;object marker></span></div></div><div class=\"word   rtl \" ><span class=\"nd\">38610</span><div class=\"h\"><a target=\"_blank\" href=\"https://shebanq.ancient-data.org/hebrew/word?version=c&amp;id=1KLn\" title=\"show this lexeme in SHEBANQ\">כָּל־</a></div><div class=\"features\"> <span class=\"pdp\"><a href=\"https://shebanq.ancient-data.org/hebrew/text?book=Exodus&amp;chapter=18&amp;verse=8&amp;version=c&amp;mr=m&amp;qw=q&amp;tp=txt_p&amp;tr=hb&amp;wget=v&amp;qget=v&amp;nget=vt\" title=\"Exodus 18:8\" sec=\"Exodus 18:8\">subs</a></span> <span class=\"gloss\">whole</span></div></div></div></div></div></div><div class=\"catom  hl rtl \" >\n",
       "        <div class=\"clause hl rtl \" >\n",
       "            <a href=\"https://shebanq.ancient-data.org/hebrew/text?book=Exodus&amp;chapter=18&amp;verse=8&amp;version=c&amp;mr=m&amp;qw=q&amp;tp=txt_p&amp;tr=hb&amp;wget=v&amp;qget=v&amp;nget=vt\" title=\"Exodus 18:8\" sec=\"Exodus 18:8\">clause</a> <span class=\"nd\">435508</span>  <span class=\"rela\">RgRc</span> <span class=\"typ\">xQtX</span>\n",
       "        </div>\n",
       "        <div class=\"atoms rtl \">\n",
       "                    <div class=\"patom   rtl \" >\n",
       "        <div class=\"phrase  rtl \" >\n",
       "            <a href=\"https://shebanq.ancient-data.org/hebrew/text?book=Exodus&amp;chapter=18&amp;verse=8&amp;version=c&amp;mr=m&amp;qw=q&amp;tp=txt_p&amp;tr=hb&amp;wget=v&amp;qget=v&amp;nget=vt\" title=\"Exodus 18:8\" sec=\"Exodus 18:8\">phrase</a> <span class=\"nd\">675476</span>  <span class=\"function\">Rela</span> <span class=\"typ\">CP</span>\n",
       "        </div>\n",
       "        <div class=\"atoms rtl \">\n",
       "                    <div class=\"word   rtl \" ><span class=\"nd\">38611</span><div class=\"h\"><a target=\"_blank\" href=\"https://shebanq.ancient-data.org/hebrew/word?version=c&amp;id=1ACR\" title=\"show this lexeme in SHEBANQ\">אֲשֶׁ֨ר </a></div><div class=\"features\"> <span class=\"pdp\"><a href=\"https://shebanq.ancient-data.org/hebrew/text?book=Exodus&amp;chapter=18&amp;verse=8&amp;version=c&amp;mr=m&amp;qw=q&amp;tp=txt_p&amp;tr=hb&amp;wget=v&amp;qget=v&amp;nget=vt\" title=\"Exodus 18:8\" sec=\"Exodus 18:8\">conj</a></span> <span class=\"gloss\">&lt;relative></span></div></div></div></div><div class=\"patom  hl rtl \" >\n",
       "        <div class=\"phrase hl rtl \" >\n",
       "            <a href=\"https://shebanq.ancient-data.org/hebrew/text?book=Exodus&amp;chapter=18&amp;verse=8&amp;version=c&amp;mr=m&amp;qw=q&amp;tp=txt_p&amp;tr=hb&amp;wget=v&amp;qget=v&amp;nget=vt\" title=\"Exodus 18:8\" sec=\"Exodus 18:8\">phrase</a> <span class=\"nd\">675477</span>  <span class=\"function\">Pred</span> <span class=\"typ\">VP</span>\n",
       "        </div>\n",
       "        <div class=\"atoms rtl \">\n",
       "                    <div class=\"word   rtl \" ><span class=\"nd\">38612</span><div class=\"h\"><a target=\"_blank\" href=\"https://shebanq.ancient-data.org/hebrew/word?version=c&amp;id=1OFHv\" title=\"show this lexeme in SHEBANQ\">עָשָׂ֤ה </a></div><div class=\"features\"> <span class=\"pdp\"><a href=\"https://shebanq.ancient-data.org/hebrew/text?book=Exodus&amp;chapter=18&amp;verse=8&amp;version=c&amp;mr=m&amp;qw=q&amp;tp=txt_p&amp;tr=hb&amp;wget=v&amp;qget=v&amp;nget=vt\" title=\"Exodus 18:8\" sec=\"Exodus 18:8\">verb</a></span> <span class=\"gloss\">make</span> <span class=\"vs\">qal</span> <span class=\"vt\">perf</span></div></div></div></div><div class=\"patom   rtl \" >\n",
       "        <div class=\"phrase  rtl \" >\n",
       "            <a href=\"https://shebanq.ancient-data.org/hebrew/text?book=Exodus&amp;chapter=18&amp;verse=8&amp;version=c&amp;mr=m&amp;qw=q&amp;tp=txt_p&amp;tr=hb&amp;wget=v&amp;qget=v&amp;nget=vt\" title=\"Exodus 18:8\" sec=\"Exodus 18:8\">phrase</a> <span class=\"nd\">675478</span>  <span class=\"function\">Subj</span> <span class=\"typ\">PrNP</span>\n",
       "        </div>\n",
       "        <div class=\"atoms rtl \">\n",
       "                    <div class=\"word   rtl \" ><span class=\"nd\">38613</span><div class=\"h\"><a target=\"_blank\" href=\"https://shebanq.ancient-data.org/hebrew/word?version=c&amp;id=1JHWHn\" title=\"show this lexeme in SHEBANQ\">יְהוָה֙ </a></div><div class=\"features\"> <span class=\"pdp\"><a href=\"https://shebanq.ancient-data.org/hebrew/text?book=Exodus&amp;chapter=18&amp;verse=8&amp;version=c&amp;mr=m&amp;qw=q&amp;tp=txt_p&amp;tr=hb&amp;wget=v&amp;qget=v&amp;nget=vt\" title=\"Exodus 18:8\" sec=\"Exodus 18:8\">nmpr</a></span> <span class=\"gloss\">YHWH</span></div></div></div></div><div class=\"patom   rtl \" >\n",
       "        <div class=\"phrase  rtl \" >\n",
       "            <a href=\"https://shebanq.ancient-data.org/hebrew/text?book=Exodus&amp;chapter=18&amp;verse=8&amp;version=c&amp;mr=m&amp;qw=q&amp;tp=txt_p&amp;tr=hb&amp;wget=v&amp;qget=v&amp;nget=vt\" title=\"Exodus 18:8\" sec=\"Exodus 18:8\">phrase</a> <span class=\"nd\">675479</span>  <span class=\"function\">Cmpl</span> <span class=\"typ\">PP</span>\n",
       "        </div>\n",
       "        <div class=\"atoms rtl \">\n",
       "                    <div class=\"word   rtl \" ><span class=\"nd\">38614</span><div class=\"h\"><a target=\"_blank\" href=\"https://shebanq.ancient-data.org/hebrew/word?version=c&amp;id=1L\" title=\"show this lexeme in SHEBANQ\">לְ</a></div><div class=\"features\"> <span class=\"pdp\"><a href=\"https://shebanq.ancient-data.org/hebrew/text?book=Exodus&amp;chapter=18&amp;verse=8&amp;version=c&amp;mr=m&amp;qw=q&amp;tp=txt_p&amp;tr=hb&amp;wget=v&amp;qget=v&amp;nget=vt\" title=\"Exodus 18:8\" sec=\"Exodus 18:8\">prep</a></span> <span class=\"gloss\">to</span></div></div><div class=\"word   rtl \" ><span class=\"nd\">38615</span><div class=\"h\"><a target=\"_blank\" href=\"https://shebanq.ancient-data.org/hebrew/word?version=c&amp;id=1PROHn\" title=\"show this lexeme in SHEBANQ\">פַרְעֹ֣ה </a></div><div class=\"features\"> <span class=\"pdp\"><a href=\"https://shebanq.ancient-data.org/hebrew/text?book=Exodus&amp;chapter=18&amp;verse=8&amp;version=c&amp;mr=m&amp;qw=q&amp;tp=txt_p&amp;tr=hb&amp;wget=v&amp;qget=v&amp;nget=vt\" title=\"Exodus 18:8\" sec=\"Exodus 18:8\">subs</a></span> <span class=\"gloss\">pharaoh</span></div></div><div class=\"word   rtl \" ><span class=\"nd\">38616</span><div class=\"h\"><a target=\"_blank\" href=\"https://shebanq.ancient-data.org/hebrew/word?version=c&amp;id=1W\" title=\"show this lexeme in SHEBANQ\">וּ</a></div><div class=\"features\"> <span class=\"pdp\"><a href=\"https://shebanq.ancient-data.org/hebrew/text?book=Exodus&amp;chapter=18&amp;verse=8&amp;version=c&amp;mr=m&amp;qw=q&amp;tp=txt_p&amp;tr=hb&amp;wget=v&amp;qget=v&amp;nget=vt\" title=\"Exodus 18:8\" sec=\"Exodus 18:8\">conj</a></span> <span class=\"gloss\">and</span></div></div><div class=\"word   rtl \" ><span class=\"nd\">38617</span><div class=\"h\"><a target=\"_blank\" href=\"https://shebanq.ancient-data.org/hebrew/word?version=c&amp;id=1L\" title=\"show this lexeme in SHEBANQ\">לְ</a></div><div class=\"features\"> <span class=\"pdp\"><a href=\"https://shebanq.ancient-data.org/hebrew/text?book=Exodus&amp;chapter=18&amp;verse=8&amp;version=c&amp;mr=m&amp;qw=q&amp;tp=txt_p&amp;tr=hb&amp;wget=v&amp;qget=v&amp;nget=vt\" title=\"Exodus 18:8\" sec=\"Exodus 18:8\">prep</a></span> <span class=\"gloss\">to</span></div></div><div class=\"word   rtl \" ><span class=\"nd\">38618</span><div class=\"h\"><a target=\"_blank\" href=\"https://shebanq.ancient-data.org/hebrew/word?version=c&amp;id=1MYRJMn\" title=\"show this lexeme in SHEBANQ\">מִצְרַ֔יִם </a></div><div class=\"features\"> <span class=\"pdp\"><a href=\"https://shebanq.ancient-data.org/hebrew/text?book=Exodus&amp;chapter=18&amp;verse=8&amp;version=c&amp;mr=m&amp;qw=q&amp;tp=txt_p&amp;tr=hb&amp;wget=v&amp;qget=v&amp;nget=vt\" title=\"Exodus 18:8\" sec=\"Exodus 18:8\">nmpr</a></span> <span class=\"gloss\">Egypt</span></div></div></div></div><div class=\"patom   rtl \" >\n",
       "        <div class=\"phrase  rtl \" >\n",
       "            <a href=\"https://shebanq.ancient-data.org/hebrew/text?book=Exodus&amp;chapter=18&amp;verse=8&amp;version=c&amp;mr=m&amp;qw=q&amp;tp=txt_p&amp;tr=hb&amp;wget=v&amp;qget=v&amp;nget=vt\" title=\"Exodus 18:8\" sec=\"Exodus 18:8\">phrase</a> <span class=\"nd\">675480</span>  <span class=\"function\">Adju</span> <span class=\"typ\">PP</span>\n",
       "        </div>\n",
       "        <div class=\"atoms rtl \">\n",
       "                    <div class=\"word   rtl \" ><span class=\"nd\">38619</span><div class=\"h\"><a target=\"_blank\" href=\"https://shebanq.ancient-data.org/hebrew/word?version=c&amp;id=1OL\" title=\"show this lexeme in SHEBANQ\">עַ֖ל </a></div><div class=\"features\"> <span class=\"pdp\"><a href=\"https://shebanq.ancient-data.org/hebrew/text?book=Exodus&amp;chapter=18&amp;verse=8&amp;version=c&amp;mr=m&amp;qw=q&amp;tp=txt_p&amp;tr=hb&amp;wget=v&amp;qget=v&amp;nget=vt\" title=\"Exodus 18:8\" sec=\"Exodus 18:8\">prep</a></span> <span class=\"gloss\">upon</span></div></div><div class=\"word   rtl \" ><span class=\"nd\">38620</span><div class=\"h\"><a target=\"_blank\" href=\"https://shebanq.ancient-data.org/hebrew/word?version=c&amp;id=1AWDWTn\" title=\"show this lexeme in SHEBANQ\">אֹודֹ֣ת </a></div><div class=\"features\"> <span class=\"pdp\"><a href=\"https://shebanq.ancient-data.org/hebrew/text?book=Exodus&amp;chapter=18&amp;verse=8&amp;version=c&amp;mr=m&amp;qw=q&amp;tp=txt_p&amp;tr=hb&amp;wget=v&amp;qget=v&amp;nget=vt\" title=\"Exodus 18:8\" sec=\"Exodus 18:8\">subs</a></span> <span class=\"gloss\">inducement</span></div></div><div class=\"word   rtl \" ><span class=\"nd\">38621</span><div class=\"h\"><a target=\"_blank\" href=\"https://shebanq.ancient-data.org/hebrew/word?version=c&amp;id=1JFRALn\" title=\"show this lexeme in SHEBANQ\">יִשְׂרָאֵ֑ל </a></div><div class=\"features\"> <span class=\"pdp\"><a href=\"https://shebanq.ancient-data.org/hebrew/text?book=Exodus&amp;chapter=18&amp;verse=8&amp;version=c&amp;mr=m&amp;qw=q&amp;tp=txt_p&amp;tr=hb&amp;wget=v&amp;qget=v&amp;nget=vt\" title=\"Exodus 18:8\" sec=\"Exodus 18:8\">nmpr</a></span> <span class=\"gloss\">Israel</span></div></div></div></div></div></div><div class=\"catom  hl rtl \" >\n",
       "        <div class=\"clause hl rtl \" >\n",
       "            <a href=\"https://shebanq.ancient-data.org/hebrew/text?book=Exodus&amp;chapter=18&amp;verse=8&amp;version=c&amp;mr=m&amp;qw=q&amp;tp=txt_p&amp;tr=hb&amp;wget=v&amp;qget=v&amp;nget=vt\" title=\"Exodus 18:8\" sec=\"Exodus 18:8\">clause</a> <span class=\"nd\">435509</span>  <span class=\"typ\">Ellp</span>\n",
       "        </div>\n",
       "        <div class=\"atoms rtl \">\n",
       "                    <div class=\"patom  hl rtl \" >\n",
       "        <div class=\"phrase hl rtl \" >\n",
       "            <a href=\"https://shebanq.ancient-data.org/hebrew/text?book=Exodus&amp;chapter=18&amp;verse=8&amp;version=c&amp;mr=m&amp;qw=q&amp;tp=txt_p&amp;tr=hb&amp;wget=v&amp;qget=v&amp;nget=vt\" title=\"Exodus 18:8\" sec=\"Exodus 18:8\">phrase</a> <span class=\"nd\">675481</span>  <span class=\"function\">Objc</span> <span class=\"typ\">PP</span>\n",
       "        </div>\n",
       "        <div class=\"atoms rtl \">\n",
       "                    <div class=\"word   rtl \" ><span class=\"nd\">38622</span><div class=\"h\"><a target=\"_blank\" href=\"https://shebanq.ancient-data.org/hebrew/word?version=c&amp;id=1AT\" title=\"show this lexeme in SHEBANQ\">אֵ֤ת </a></div><div class=\"features\"> <span class=\"pdp\"><a href=\"https://shebanq.ancient-data.org/hebrew/text?book=Exodus&amp;chapter=18&amp;verse=8&amp;version=c&amp;mr=m&amp;qw=q&amp;tp=txt_p&amp;tr=hb&amp;wget=v&amp;qget=v&amp;nget=vt\" title=\"Exodus 18:8\" sec=\"Exodus 18:8\">prep</a></span> <span class=\"gloss\">&lt;object marker></span></div></div><div class=\"word  hl rtl \" ><span class=\"nd\">38623</span><div class=\"h\"><a target=\"_blank\" href=\"https://shebanq.ancient-data.org/hebrew/word?version=c&amp;id=1KLn\" title=\"show this lexeme in SHEBANQ\">כָּל־</a></div><div class=\"features\"> <span class=\"pdp\"><a href=\"https://shebanq.ancient-data.org/hebrew/text?book=Exodus&amp;chapter=18&amp;verse=8&amp;version=c&amp;mr=m&amp;qw=q&amp;tp=txt_p&amp;tr=hb&amp;wget=v&amp;qget=v&amp;nget=vt\" title=\"Exodus 18:8\" sec=\"Exodus 18:8\">subs</a></span> <span class=\"gloss\">whole</span></div></div><div class=\"word   rtl \" ><span class=\"nd\">38624</span><div class=\"h\"><a target=\"_blank\" href=\"https://shebanq.ancient-data.org/hebrew/word?version=c&amp;id=1H\" title=\"show this lexeme in SHEBANQ\">הַ</a></div><div class=\"features\"> <span class=\"pdp\"><a href=\"https://shebanq.ancient-data.org/hebrew/text?book=Exodus&amp;chapter=18&amp;verse=8&amp;version=c&amp;mr=m&amp;qw=q&amp;tp=txt_p&amp;tr=hb&amp;wget=v&amp;qget=v&amp;nget=vt\" title=\"Exodus 18:8\" sec=\"Exodus 18:8\">art</a></span> <span class=\"gloss\">the</span></div></div><div class=\"word   rtl \" ><span class=\"nd\">38625</span><div class=\"h\"><a target=\"_blank\" href=\"https://shebanq.ancient-data.org/hebrew/word?version=c&amp;id=1TLAHn\" title=\"show this lexeme in SHEBANQ\">תְּלָאָה֙ </a></div><div class=\"features\"> <span class=\"pdp\"><a href=\"https://shebanq.ancient-data.org/hebrew/text?book=Exodus&amp;chapter=18&amp;verse=8&amp;version=c&amp;mr=m&amp;qw=q&amp;tp=txt_p&amp;tr=hb&amp;wget=v&amp;qget=v&amp;nget=vt\" title=\"Exodus 18:8\" sec=\"Exodus 18:8\">subs</a></span> <span class=\"gloss\">weariness</span></div></div></div></div></div></div><div class=\"catom   rtl \" >\n",
       "        <div class=\"clause  rtl \" >\n",
       "            <a href=\"https://shebanq.ancient-data.org/hebrew/text?book=Exodus&amp;chapter=18&amp;verse=8&amp;version=c&amp;mr=m&amp;qw=q&amp;tp=txt_p&amp;tr=hb&amp;wget=v&amp;qget=v&amp;nget=vt\" title=\"Exodus 18:8\" sec=\"Exodus 18:8\">clause</a> <span class=\"nd\">435510</span>  <span class=\"rela\">Attr</span> <span class=\"typ\">xQt0</span>\n",
       "        </div>\n",
       "        <div class=\"atoms rtl \">\n",
       "                    <div class=\"patom   rtl \" >\n",
       "        <div class=\"phrase  rtl \" >\n",
       "            <a href=\"https://shebanq.ancient-data.org/hebrew/text?book=Exodus&amp;chapter=18&amp;verse=8&amp;version=c&amp;mr=m&amp;qw=q&amp;tp=txt_p&amp;tr=hb&amp;wget=v&amp;qget=v&amp;nget=vt\" title=\"Exodus 18:8\" sec=\"Exodus 18:8\">phrase</a> <span class=\"nd\">675482</span>  <span class=\"function\">Rela</span> <span class=\"typ\">CP</span>\n",
       "        </div>\n",
       "        <div class=\"atoms rtl \">\n",
       "                    <div class=\"word   rtl \" ><span class=\"nd\">38626</span><div class=\"h\"><a target=\"_blank\" href=\"https://shebanq.ancient-data.org/hebrew/word?version=c&amp;id=1ACR\" title=\"show this lexeme in SHEBANQ\">אֲשֶׁ֣ר </a></div><div class=\"features\"> <span class=\"pdp\"><a href=\"https://shebanq.ancient-data.org/hebrew/text?book=Exodus&amp;chapter=18&amp;verse=8&amp;version=c&amp;mr=m&amp;qw=q&amp;tp=txt_p&amp;tr=hb&amp;wget=v&amp;qget=v&amp;nget=vt\" title=\"Exodus 18:8\" sec=\"Exodus 18:8\">conj</a></span> <span class=\"gloss\">&lt;relative></span></div></div></div></div><div class=\"patom   rtl \" >\n",
       "        <div class=\"phrase  rtl \" >\n",
       "            <a href=\"https://shebanq.ancient-data.org/hebrew/text?book=Exodus&amp;chapter=18&amp;verse=8&amp;version=c&amp;mr=m&amp;qw=q&amp;tp=txt_p&amp;tr=hb&amp;wget=v&amp;qget=v&amp;nget=vt\" title=\"Exodus 18:8\" sec=\"Exodus 18:8\">phrase</a> <span class=\"nd\">675483</span>  <span class=\"function\">PreO</span> <span class=\"typ\">VP</span>\n",
       "        </div>\n",
       "        <div class=\"atoms rtl \">\n",
       "                    <div class=\"word   rtl \" ><span class=\"nd\">38627</span><div class=\"h\"><a target=\"_blank\" href=\"https://shebanq.ancient-data.org/hebrew/word?version=c&amp;id=1MYAv\" title=\"show this lexeme in SHEBANQ\">מְצָאָ֣תַם </a></div><div class=\"features\"> <span class=\"pdp\"><a href=\"https://shebanq.ancient-data.org/hebrew/text?book=Exodus&amp;chapter=18&amp;verse=8&amp;version=c&amp;mr=m&amp;qw=q&amp;tp=txt_p&amp;tr=hb&amp;wget=v&amp;qget=v&amp;nget=vt\" title=\"Exodus 18:8\" sec=\"Exodus 18:8\">verb</a></span> <span class=\"gloss\">find</span> <span class=\"vs\">qal</span> <span class=\"vt\">perf</span></div></div></div></div><div class=\"patom   rtl \" >\n",
       "        <div class=\"phrase  rtl \" >\n",
       "            <a href=\"https://shebanq.ancient-data.org/hebrew/text?book=Exodus&amp;chapter=18&amp;verse=8&amp;version=c&amp;mr=m&amp;qw=q&amp;tp=txt_p&amp;tr=hb&amp;wget=v&amp;qget=v&amp;nget=vt\" title=\"Exodus 18:8\" sec=\"Exodus 18:8\">phrase</a> <span class=\"nd\">675484</span>  <span class=\"function\">Loca</span> <span class=\"typ\">PP</span>\n",
       "        </div>\n",
       "        <div class=\"atoms rtl \">\n",
       "                    <div class=\"word   rtl \" ><span class=\"nd\">38628</span><div class=\"h\"><a target=\"_blank\" href=\"https://shebanq.ancient-data.org/hebrew/word?version=c&amp;id=1B\" title=\"show this lexeme in SHEBANQ\">בַּ</a></div><div class=\"features\"> <span class=\"pdp\"><a href=\"https://shebanq.ancient-data.org/hebrew/text?book=Exodus&amp;chapter=18&amp;verse=8&amp;version=c&amp;mr=m&amp;qw=q&amp;tp=txt_p&amp;tr=hb&amp;wget=v&amp;qget=v&amp;nget=vt\" title=\"Exodus 18:8\" sec=\"Exodus 18:8\">prep</a></span> <span class=\"gloss\">in</span></div></div><div class=\"word   rtl \" ><span class=\"nd\">38629</span><div class=\"h\"><a target=\"_blank\" href=\"https://shebanq.ancient-data.org/hebrew/word?version=c&amp;id=1H\" title=\"show this lexeme in SHEBANQ\"></a></div><div class=\"features\"> <span class=\"pdp\"><a href=\"https://shebanq.ancient-data.org/hebrew/text?book=Exodus&amp;chapter=18&amp;verse=8&amp;version=c&amp;mr=m&amp;qw=q&amp;tp=txt_p&amp;tr=hb&amp;wget=v&amp;qget=v&amp;nget=vt\" title=\"Exodus 18:8\" sec=\"Exodus 18:8\">art</a></span> <span class=\"gloss\">the</span></div></div><div class=\"word   rtl \" ><span class=\"nd\">38630</span><div class=\"h\"><a target=\"_blank\" href=\"https://shebanq.ancient-data.org/hebrew/word?version=c&amp;id=1DRKn\" title=\"show this lexeme in SHEBANQ\">דֶּ֔רֶךְ </a></div><div class=\"features\"> <span class=\"pdp\"><a href=\"https://shebanq.ancient-data.org/hebrew/text?book=Exodus&amp;chapter=18&amp;verse=8&amp;version=c&amp;mr=m&amp;qw=q&amp;tp=txt_p&amp;tr=hb&amp;wget=v&amp;qget=v&amp;nget=vt\" title=\"Exodus 18:8\" sec=\"Exodus 18:8\">subs</a></span> <span class=\"gloss\">way</span></div></div></div></div></div></div><div class=\"catom   rtl \" >\n",
       "        <div class=\"clause  rtl \" >\n",
       "            <a href=\"https://shebanq.ancient-data.org/hebrew/text?book=Exodus&amp;chapter=18&amp;verse=8&amp;version=c&amp;mr=m&amp;qw=q&amp;tp=txt_p&amp;tr=hb&amp;wget=v&amp;qget=v&amp;nget=vt\" title=\"Exodus 18:8\" sec=\"Exodus 18:8\">clause</a> <span class=\"nd\">435511</span>  <span class=\"rela\">Coor</span> <span class=\"typ\">WayX</span>\n",
       "        </div>\n",
       "        <div class=\"atoms rtl \">\n",
       "                    <div class=\"patom   rtl \" >\n",
       "        <div class=\"phrase  rtl \" >\n",
       "            <a href=\"https://shebanq.ancient-data.org/hebrew/text?book=Exodus&amp;chapter=18&amp;verse=8&amp;version=c&amp;mr=m&amp;qw=q&amp;tp=txt_p&amp;tr=hb&amp;wget=v&amp;qget=v&amp;nget=vt\" title=\"Exodus 18:8\" sec=\"Exodus 18:8\">phrase</a> <span class=\"nd\">675485</span>  <span class=\"function\">Conj</span> <span class=\"typ\">CP</span>\n",
       "        </div>\n",
       "        <div class=\"atoms rtl \">\n",
       "                    <div class=\"word   rtl \" ><span class=\"nd\">38631</span><div class=\"h\"><a target=\"_blank\" href=\"https://shebanq.ancient-data.org/hebrew/word?version=c&amp;id=1W\" title=\"show this lexeme in SHEBANQ\">וַ</a></div><div class=\"features\"> <span class=\"pdp\"><a href=\"https://shebanq.ancient-data.org/hebrew/text?book=Exodus&amp;chapter=18&amp;verse=8&amp;version=c&amp;mr=m&amp;qw=q&amp;tp=txt_p&amp;tr=hb&amp;wget=v&amp;qget=v&amp;nget=vt\" title=\"Exodus 18:8\" sec=\"Exodus 18:8\">conj</a></span> <span class=\"gloss\">and</span></div></div></div></div><div class=\"patom   rtl \" >\n",
       "        <div class=\"phrase  rtl \" >\n",
       "            <a href=\"https://shebanq.ancient-data.org/hebrew/text?book=Exodus&amp;chapter=18&amp;verse=8&amp;version=c&amp;mr=m&amp;qw=q&amp;tp=txt_p&amp;tr=hb&amp;wget=v&amp;qget=v&amp;nget=vt\" title=\"Exodus 18:8\" sec=\"Exodus 18:8\">phrase</a> <span class=\"nd\">675486</span>  <span class=\"function\">PreO</span> <span class=\"typ\">VP</span>\n",
       "        </div>\n",
       "        <div class=\"atoms rtl \">\n",
       "                    <div class=\"word   rtl \" ><span class=\"nd\">38632</span><div class=\"h\"><a target=\"_blank\" href=\"https://shebanq.ancient-data.org/hebrew/word?version=c&amp;id=1NYLv\" title=\"show this lexeme in SHEBANQ\">יַּצִּלֵ֖ם </a></div><div class=\"features\"> <span class=\"pdp\"><a href=\"https://shebanq.ancient-data.org/hebrew/text?book=Exodus&amp;chapter=18&amp;verse=8&amp;version=c&amp;mr=m&amp;qw=q&amp;tp=txt_p&amp;tr=hb&amp;wget=v&amp;qget=v&amp;nget=vt\" title=\"Exodus 18:8\" sec=\"Exodus 18:8\">verb</a></span> <span class=\"gloss\">deliver</span> <span class=\"vs\">hif</span> <span class=\"vt\">wayq</span></div></div></div></div><div class=\"patom   rtl \" >\n",
       "        <div class=\"phrase  rtl \" >\n",
       "            <a href=\"https://shebanq.ancient-data.org/hebrew/text?book=Exodus&amp;chapter=18&amp;verse=8&amp;version=c&amp;mr=m&amp;qw=q&amp;tp=txt_p&amp;tr=hb&amp;wget=v&amp;qget=v&amp;nget=vt\" title=\"Exodus 18:8\" sec=\"Exodus 18:8\">phrase</a> <span class=\"nd\">675487</span>  <span class=\"function\">Subj</span> <span class=\"typ\">PrNP</span>\n",
       "        </div>\n",
       "        <div class=\"atoms rtl \">\n",
       "                    <div class=\"word   rtl \" ><span class=\"nd\">38633</span><div class=\"h\"><a target=\"_blank\" href=\"https://shebanq.ancient-data.org/hebrew/word?version=c&amp;id=1JHWHn\" title=\"show this lexeme in SHEBANQ\">יְהוָֽה׃ </a></div><div class=\"features\"> <span class=\"pdp\"><a href=\"https://shebanq.ancient-data.org/hebrew/text?book=Exodus&amp;chapter=18&amp;verse=8&amp;version=c&amp;mr=m&amp;qw=q&amp;tp=txt_p&amp;tr=hb&amp;wget=v&amp;qget=v&amp;nget=vt\" title=\"Exodus 18:8\" sec=\"Exodus 18:8\">nmpr</a></span> <span class=\"gloss\">YHWH</span></div></div></div></div></div></div></div></div></div></div>"
      ],
      "text/plain": [
       "<IPython.core.display.HTML object>"
      ]
     },
     "metadata": {},
     "output_type": "display_data"
    },
    {
     "data": {
      "text/html": [
       "<p><b>result</b> <i>11</i></p>"
      ],
      "text/plain": [
       "<IPython.core.display.HTML object>"
      ]
     },
     "metadata": {},
     "output_type": "display_data"
    },
    {
     "data": {
      "text/html": [
       "<div class=\"outeritem rtl \"><div class=\"verse   rtl \" >\n",
       "    <div class=\"vl\">\n",
       "        <div class=\"vrs rtl \"><a href=\"https://shebanq.ancient-data.org/hebrew/text?book=Exodus&amp;chapter=18&amp;verse=8&amp;version=c&amp;mr=m&amp;qw=q&amp;tp=txt_p&amp;tr=hb&amp;wget=v&amp;qget=v&amp;nget=vt\" title=\"show this passage in SHEBANQ\" sec=\"Exodus 18:8\">Exodus 18:8</a></div>\n",
       "        <span class=\"nd\">1416361</span>\n",
       "    </div>\n",
       "<div class=\"satom  hl rtl \" >\n",
       "        <div class=\"sentence hl rtl \" >\n",
       "            <a href=\"https://shebanq.ancient-data.org/hebrew/text?book=Exodus&amp;chapter=18&amp;verse=8&amp;version=c&amp;mr=m&amp;qw=q&amp;tp=txt_p&amp;tr=hb&amp;wget=v&amp;qget=v&amp;nget=vt\" title=\"Exodus 18:8\" sec=\"Exodus 18:8\">sentence</a> <span class=\"nd\">1178439</span>  <span class=\"number\">15|1542</span>\n",
       "        </div>\n",
       "        <div class=\"atoms rtl \">\n",
       "                    <div class=\"catom  hl rtl \" >\n",
       "        <div class=\"clause hl rtl \" >\n",
       "            <a href=\"https://shebanq.ancient-data.org/hebrew/text?book=Exodus&amp;chapter=18&amp;verse=8&amp;version=c&amp;mr=m&amp;qw=q&amp;tp=txt_p&amp;tr=hb&amp;wget=v&amp;qget=v&amp;nget=vt\" title=\"Exodus 18:8\" sec=\"Exodus 18:8\">clause</a> <span class=\"nd\">435507</span>  <span class=\"typ\">WayX</span>\n",
       "        </div>\n",
       "        <div class=\"atoms rtl \">\n",
       "                    <div class=\"patom   rtl \" >\n",
       "        <div class=\"phrase  rtl \" >\n",
       "            <a href=\"https://shebanq.ancient-data.org/hebrew/text?book=Exodus&amp;chapter=18&amp;verse=8&amp;version=c&amp;mr=m&amp;qw=q&amp;tp=txt_p&amp;tr=hb&amp;wget=v&amp;qget=v&amp;nget=vt\" title=\"Exodus 18:8\" sec=\"Exodus 18:8\">phrase</a> <span class=\"nd\">675471</span>  <span class=\"function\">Conj</span> <span class=\"typ\">CP</span>\n",
       "        </div>\n",
       "        <div class=\"atoms rtl \">\n",
       "                    <div class=\"word   rtl \" ><span class=\"nd\">38604</span><div class=\"h\"><a target=\"_blank\" href=\"https://shebanq.ancient-data.org/hebrew/word?version=c&amp;id=1W\" title=\"show this lexeme in SHEBANQ\">וַ</a></div><div class=\"features\"> <span class=\"pdp\"><a href=\"https://shebanq.ancient-data.org/hebrew/text?book=Exodus&amp;chapter=18&amp;verse=8&amp;version=c&amp;mr=m&amp;qw=q&amp;tp=txt_p&amp;tr=hb&amp;wget=v&amp;qget=v&amp;nget=vt\" title=\"Exodus 18:8\" sec=\"Exodus 18:8\">conj</a></span> <span class=\"gloss\">and</span></div></div></div></div><div class=\"patom  hl rtl \" >\n",
       "        <div class=\"phrase hl rtl \" >\n",
       "            <a href=\"https://shebanq.ancient-data.org/hebrew/text?book=Exodus&amp;chapter=18&amp;verse=8&amp;version=c&amp;mr=m&amp;qw=q&amp;tp=txt_p&amp;tr=hb&amp;wget=v&amp;qget=v&amp;nget=vt\" title=\"Exodus 18:8\" sec=\"Exodus 18:8\">phrase</a> <span class=\"nd\">675472</span>  <span class=\"function\">Pred</span> <span class=\"typ\">VP</span>\n",
       "        </div>\n",
       "        <div class=\"atoms rtl \">\n",
       "                    <div class=\"word  hl rtl \" ><span class=\"nd\">38605</span><div class=\"h\"><a target=\"_blank\" href=\"https://shebanq.ancient-data.org/hebrew/word?version=c&amp;id=1SPRv\" title=\"show this lexeme in SHEBANQ\">יְסַפֵּ֤ר </a></div><div class=\"features\"> <span class=\"pdp\"><a href=\"https://shebanq.ancient-data.org/hebrew/text?book=Exodus&amp;chapter=18&amp;verse=8&amp;version=c&amp;mr=m&amp;qw=q&amp;tp=txt_p&amp;tr=hb&amp;wget=v&amp;qget=v&amp;nget=vt\" title=\"Exodus 18:8\" sec=\"Exodus 18:8\">verb</a></span> <span class=\"gloss\">count</span> <span class=\"vs\">piel</span> <span class=\"vt\">wayq</span></div></div></div></div><div class=\"patom   rtl \" >\n",
       "        <div class=\"phrase  rtl \" >\n",
       "            <a href=\"https://shebanq.ancient-data.org/hebrew/text?book=Exodus&amp;chapter=18&amp;verse=8&amp;version=c&amp;mr=m&amp;qw=q&amp;tp=txt_p&amp;tr=hb&amp;wget=v&amp;qget=v&amp;nget=vt\" title=\"Exodus 18:8\" sec=\"Exodus 18:8\">phrase</a> <span class=\"nd\">675473</span>  <span class=\"function\">Subj</span> <span class=\"typ\">PrNP</span>\n",
       "        </div>\n",
       "        <div class=\"atoms rtl \">\n",
       "                    <div class=\"word   rtl \" ><span class=\"nd\">38606</span><div class=\"h\"><a target=\"_blank\" href=\"https://shebanq.ancient-data.org/hebrew/word?version=c&amp;id=1MCHin\" title=\"show this lexeme in SHEBANQ\">מֹשֶׁה֙ </a></div><div class=\"features\"> <span class=\"pdp\"><a href=\"https://shebanq.ancient-data.org/hebrew/text?book=Exodus&amp;chapter=18&amp;verse=8&amp;version=c&amp;mr=m&amp;qw=q&amp;tp=txt_p&amp;tr=hb&amp;wget=v&amp;qget=v&amp;nget=vt\" title=\"Exodus 18:8\" sec=\"Exodus 18:8\">nmpr</a></span> <span class=\"gloss\">Moses</span></div></div></div></div><div class=\"patom   rtl \" >\n",
       "        <div class=\"phrase  rtl \" >\n",
       "            <a href=\"https://shebanq.ancient-data.org/hebrew/text?book=Exodus&amp;chapter=18&amp;verse=8&amp;version=c&amp;mr=m&amp;qw=q&amp;tp=txt_p&amp;tr=hb&amp;wget=v&amp;qget=v&amp;nget=vt\" title=\"Exodus 18:8\" sec=\"Exodus 18:8\">phrase</a> <span class=\"nd\">675474</span>  <span class=\"function\">Cmpl</span> <span class=\"typ\">PP</span>\n",
       "        </div>\n",
       "        <div class=\"atoms rtl \">\n",
       "                    <div class=\"word   rtl \" ><span class=\"nd\">38607</span><div class=\"h\"><a target=\"_blank\" href=\"https://shebanq.ancient-data.org/hebrew/word?version=c&amp;id=1L\" title=\"show this lexeme in SHEBANQ\">לְ</a></div><div class=\"features\"> <span class=\"pdp\"><a href=\"https://shebanq.ancient-data.org/hebrew/text?book=Exodus&amp;chapter=18&amp;verse=8&amp;version=c&amp;mr=m&amp;qw=q&amp;tp=txt_p&amp;tr=hb&amp;wget=v&amp;qget=v&amp;nget=vt\" title=\"Exodus 18:8\" sec=\"Exodus 18:8\">prep</a></span> <span class=\"gloss\">to</span></div></div><div class=\"word   rtl \" ><span class=\"nd\">38608</span><div class=\"h\"><a target=\"_blank\" href=\"https://shebanq.ancient-data.org/hebrew/word?version=c&amp;id=1XTNv\" title=\"show this lexeme in SHEBANQ\">חֹ֣תְנֹ֔ו </a></div><div class=\"features\"> <span class=\"pdp\"><a href=\"https://shebanq.ancient-data.org/hebrew/text?book=Exodus&amp;chapter=18&amp;verse=8&amp;version=c&amp;mr=m&amp;qw=q&amp;tp=txt_p&amp;tr=hb&amp;wget=v&amp;qget=v&amp;nget=vt\" title=\"Exodus 18:8\" sec=\"Exodus 18:8\">subs</a></span> <span class=\"gloss\">be father-in-law</span> <span class=\"vs\">qal</span> <span class=\"vt\">ptca</span></div></div></div></div><div class=\"patom   rtl \" >\n",
       "        <div class=\"phrase  rtl \" >\n",
       "            <a href=\"https://shebanq.ancient-data.org/hebrew/text?book=Exodus&amp;chapter=18&amp;verse=8&amp;version=c&amp;mr=m&amp;qw=q&amp;tp=txt_p&amp;tr=hb&amp;wget=v&amp;qget=v&amp;nget=vt\" title=\"Exodus 18:8\" sec=\"Exodus 18:8\">phrase</a> <span class=\"nd\">675475</span>  <span class=\"function\">Objc</span> <span class=\"typ\">PP</span>\n",
       "        </div>\n",
       "        <div class=\"atoms rtl \">\n",
       "                    <div class=\"word   rtl \" ><span class=\"nd\">38609</span><div class=\"h\"><a target=\"_blank\" href=\"https://shebanq.ancient-data.org/hebrew/word?version=c&amp;id=1AT\" title=\"show this lexeme in SHEBANQ\">אֵת֩ </a></div><div class=\"features\"> <span class=\"pdp\"><a href=\"https://shebanq.ancient-data.org/hebrew/text?book=Exodus&amp;chapter=18&amp;verse=8&amp;version=c&amp;mr=m&amp;qw=q&amp;tp=txt_p&amp;tr=hb&amp;wget=v&amp;qget=v&amp;nget=vt\" title=\"Exodus 18:8\" sec=\"Exodus 18:8\">prep</a></span> <span class=\"gloss\">&lt;object marker></span></div></div><div class=\"word   rtl \" ><span class=\"nd\">38610</span><div class=\"h\"><a target=\"_blank\" href=\"https://shebanq.ancient-data.org/hebrew/word?version=c&amp;id=1KLn\" title=\"show this lexeme in SHEBANQ\">כָּל־</a></div><div class=\"features\"> <span class=\"pdp\"><a href=\"https://shebanq.ancient-data.org/hebrew/text?book=Exodus&amp;chapter=18&amp;verse=8&amp;version=c&amp;mr=m&amp;qw=q&amp;tp=txt_p&amp;tr=hb&amp;wget=v&amp;qget=v&amp;nget=vt\" title=\"Exodus 18:8\" sec=\"Exodus 18:8\">subs</a></span> <span class=\"gloss\">whole</span></div></div></div></div></div></div><div class=\"catom  hl rtl \" >\n",
       "        <div class=\"clause hl rtl \" >\n",
       "            <a href=\"https://shebanq.ancient-data.org/hebrew/text?book=Exodus&amp;chapter=18&amp;verse=8&amp;version=c&amp;mr=m&amp;qw=q&amp;tp=txt_p&amp;tr=hb&amp;wget=v&amp;qget=v&amp;nget=vt\" title=\"Exodus 18:8\" sec=\"Exodus 18:8\">clause</a> <span class=\"nd\">435508</span>  <span class=\"rela\">RgRc</span> <span class=\"typ\">xQtX</span>\n",
       "        </div>\n",
       "        <div class=\"atoms rtl \">\n",
       "                    <div class=\"patom   rtl \" >\n",
       "        <div class=\"phrase  rtl \" >\n",
       "            <a href=\"https://shebanq.ancient-data.org/hebrew/text?book=Exodus&amp;chapter=18&amp;verse=8&amp;version=c&amp;mr=m&amp;qw=q&amp;tp=txt_p&amp;tr=hb&amp;wget=v&amp;qget=v&amp;nget=vt\" title=\"Exodus 18:8\" sec=\"Exodus 18:8\">phrase</a> <span class=\"nd\">675476</span>  <span class=\"function\">Rela</span> <span class=\"typ\">CP</span>\n",
       "        </div>\n",
       "        <div class=\"atoms rtl \">\n",
       "                    <div class=\"word   rtl \" ><span class=\"nd\">38611</span><div class=\"h\"><a target=\"_blank\" href=\"https://shebanq.ancient-data.org/hebrew/word?version=c&amp;id=1ACR\" title=\"show this lexeme in SHEBANQ\">אֲשֶׁ֨ר </a></div><div class=\"features\"> <span class=\"pdp\"><a href=\"https://shebanq.ancient-data.org/hebrew/text?book=Exodus&amp;chapter=18&amp;verse=8&amp;version=c&amp;mr=m&amp;qw=q&amp;tp=txt_p&amp;tr=hb&amp;wget=v&amp;qget=v&amp;nget=vt\" title=\"Exodus 18:8\" sec=\"Exodus 18:8\">conj</a></span> <span class=\"gloss\">&lt;relative></span></div></div></div></div><div class=\"patom  hl rtl \" >\n",
       "        <div class=\"phrase hl rtl \" >\n",
       "            <a href=\"https://shebanq.ancient-data.org/hebrew/text?book=Exodus&amp;chapter=18&amp;verse=8&amp;version=c&amp;mr=m&amp;qw=q&amp;tp=txt_p&amp;tr=hb&amp;wget=v&amp;qget=v&amp;nget=vt\" title=\"Exodus 18:8\" sec=\"Exodus 18:8\">phrase</a> <span class=\"nd\">675477</span>  <span class=\"function\">Pred</span> <span class=\"typ\">VP</span>\n",
       "        </div>\n",
       "        <div class=\"atoms rtl \">\n",
       "                    <div class=\"word   rtl \" ><span class=\"nd\">38612</span><div class=\"h\"><a target=\"_blank\" href=\"https://shebanq.ancient-data.org/hebrew/word?version=c&amp;id=1OFHv\" title=\"show this lexeme in SHEBANQ\">עָשָׂ֤ה </a></div><div class=\"features\"> <span class=\"pdp\"><a href=\"https://shebanq.ancient-data.org/hebrew/text?book=Exodus&amp;chapter=18&amp;verse=8&amp;version=c&amp;mr=m&amp;qw=q&amp;tp=txt_p&amp;tr=hb&amp;wget=v&amp;qget=v&amp;nget=vt\" title=\"Exodus 18:8\" sec=\"Exodus 18:8\">verb</a></span> <span class=\"gloss\">make</span> <span class=\"vs\">qal</span> <span class=\"vt\">perf</span></div></div></div></div><div class=\"patom   rtl \" >\n",
       "        <div class=\"phrase  rtl \" >\n",
       "            <a href=\"https://shebanq.ancient-data.org/hebrew/text?book=Exodus&amp;chapter=18&amp;verse=8&amp;version=c&amp;mr=m&amp;qw=q&amp;tp=txt_p&amp;tr=hb&amp;wget=v&amp;qget=v&amp;nget=vt\" title=\"Exodus 18:8\" sec=\"Exodus 18:8\">phrase</a> <span class=\"nd\">675478</span>  <span class=\"function\">Subj</span> <span class=\"typ\">PrNP</span>\n",
       "        </div>\n",
       "        <div class=\"atoms rtl \">\n",
       "                    <div class=\"word   rtl \" ><span class=\"nd\">38613</span><div class=\"h\"><a target=\"_blank\" href=\"https://shebanq.ancient-data.org/hebrew/word?version=c&amp;id=1JHWHn\" title=\"show this lexeme in SHEBANQ\">יְהוָה֙ </a></div><div class=\"features\"> <span class=\"pdp\"><a href=\"https://shebanq.ancient-data.org/hebrew/text?book=Exodus&amp;chapter=18&amp;verse=8&amp;version=c&amp;mr=m&amp;qw=q&amp;tp=txt_p&amp;tr=hb&amp;wget=v&amp;qget=v&amp;nget=vt\" title=\"Exodus 18:8\" sec=\"Exodus 18:8\">nmpr</a></span> <span class=\"gloss\">YHWH</span></div></div></div></div><div class=\"patom   rtl \" >\n",
       "        <div class=\"phrase  rtl \" >\n",
       "            <a href=\"https://shebanq.ancient-data.org/hebrew/text?book=Exodus&amp;chapter=18&amp;verse=8&amp;version=c&amp;mr=m&amp;qw=q&amp;tp=txt_p&amp;tr=hb&amp;wget=v&amp;qget=v&amp;nget=vt\" title=\"Exodus 18:8\" sec=\"Exodus 18:8\">phrase</a> <span class=\"nd\">675479</span>  <span class=\"function\">Cmpl</span> <span class=\"typ\">PP</span>\n",
       "        </div>\n",
       "        <div class=\"atoms rtl \">\n",
       "                    <div class=\"word   rtl \" ><span class=\"nd\">38614</span><div class=\"h\"><a target=\"_blank\" href=\"https://shebanq.ancient-data.org/hebrew/word?version=c&amp;id=1L\" title=\"show this lexeme in SHEBANQ\">לְ</a></div><div class=\"features\"> <span class=\"pdp\"><a href=\"https://shebanq.ancient-data.org/hebrew/text?book=Exodus&amp;chapter=18&amp;verse=8&amp;version=c&amp;mr=m&amp;qw=q&amp;tp=txt_p&amp;tr=hb&amp;wget=v&amp;qget=v&amp;nget=vt\" title=\"Exodus 18:8\" sec=\"Exodus 18:8\">prep</a></span> <span class=\"gloss\">to</span></div></div><div class=\"word   rtl \" ><span class=\"nd\">38615</span><div class=\"h\"><a target=\"_blank\" href=\"https://shebanq.ancient-data.org/hebrew/word?version=c&amp;id=1PROHn\" title=\"show this lexeme in SHEBANQ\">פַרְעֹ֣ה </a></div><div class=\"features\"> <span class=\"pdp\"><a href=\"https://shebanq.ancient-data.org/hebrew/text?book=Exodus&amp;chapter=18&amp;verse=8&amp;version=c&amp;mr=m&amp;qw=q&amp;tp=txt_p&amp;tr=hb&amp;wget=v&amp;qget=v&amp;nget=vt\" title=\"Exodus 18:8\" sec=\"Exodus 18:8\">subs</a></span> <span class=\"gloss\">pharaoh</span></div></div><div class=\"word   rtl \" ><span class=\"nd\">38616</span><div class=\"h\"><a target=\"_blank\" href=\"https://shebanq.ancient-data.org/hebrew/word?version=c&amp;id=1W\" title=\"show this lexeme in SHEBANQ\">וּ</a></div><div class=\"features\"> <span class=\"pdp\"><a href=\"https://shebanq.ancient-data.org/hebrew/text?book=Exodus&amp;chapter=18&amp;verse=8&amp;version=c&amp;mr=m&amp;qw=q&amp;tp=txt_p&amp;tr=hb&amp;wget=v&amp;qget=v&amp;nget=vt\" title=\"Exodus 18:8\" sec=\"Exodus 18:8\">conj</a></span> <span class=\"gloss\">and</span></div></div><div class=\"word   rtl \" ><span class=\"nd\">38617</span><div class=\"h\"><a target=\"_blank\" href=\"https://shebanq.ancient-data.org/hebrew/word?version=c&amp;id=1L\" title=\"show this lexeme in SHEBANQ\">לְ</a></div><div class=\"features\"> <span class=\"pdp\"><a href=\"https://shebanq.ancient-data.org/hebrew/text?book=Exodus&amp;chapter=18&amp;verse=8&amp;version=c&amp;mr=m&amp;qw=q&amp;tp=txt_p&amp;tr=hb&amp;wget=v&amp;qget=v&amp;nget=vt\" title=\"Exodus 18:8\" sec=\"Exodus 18:8\">prep</a></span> <span class=\"gloss\">to</span></div></div><div class=\"word   rtl \" ><span class=\"nd\">38618</span><div class=\"h\"><a target=\"_blank\" href=\"https://shebanq.ancient-data.org/hebrew/word?version=c&amp;id=1MYRJMn\" title=\"show this lexeme in SHEBANQ\">מִצְרַ֔יִם </a></div><div class=\"features\"> <span class=\"pdp\"><a href=\"https://shebanq.ancient-data.org/hebrew/text?book=Exodus&amp;chapter=18&amp;verse=8&amp;version=c&amp;mr=m&amp;qw=q&amp;tp=txt_p&amp;tr=hb&amp;wget=v&amp;qget=v&amp;nget=vt\" title=\"Exodus 18:8\" sec=\"Exodus 18:8\">nmpr</a></span> <span class=\"gloss\">Egypt</span></div></div></div></div><div class=\"patom   rtl \" >\n",
       "        <div class=\"phrase  rtl \" >\n",
       "            <a href=\"https://shebanq.ancient-data.org/hebrew/text?book=Exodus&amp;chapter=18&amp;verse=8&amp;version=c&amp;mr=m&amp;qw=q&amp;tp=txt_p&amp;tr=hb&amp;wget=v&amp;qget=v&amp;nget=vt\" title=\"Exodus 18:8\" sec=\"Exodus 18:8\">phrase</a> <span class=\"nd\">675480</span>  <span class=\"function\">Adju</span> <span class=\"typ\">PP</span>\n",
       "        </div>\n",
       "        <div class=\"atoms rtl \">\n",
       "                    <div class=\"word   rtl \" ><span class=\"nd\">38619</span><div class=\"h\"><a target=\"_blank\" href=\"https://shebanq.ancient-data.org/hebrew/word?version=c&amp;id=1OL\" title=\"show this lexeme in SHEBANQ\">עַ֖ל </a></div><div class=\"features\"> <span class=\"pdp\"><a href=\"https://shebanq.ancient-data.org/hebrew/text?book=Exodus&amp;chapter=18&amp;verse=8&amp;version=c&amp;mr=m&amp;qw=q&amp;tp=txt_p&amp;tr=hb&amp;wget=v&amp;qget=v&amp;nget=vt\" title=\"Exodus 18:8\" sec=\"Exodus 18:8\">prep</a></span> <span class=\"gloss\">upon</span></div></div><div class=\"word   rtl \" ><span class=\"nd\">38620</span><div class=\"h\"><a target=\"_blank\" href=\"https://shebanq.ancient-data.org/hebrew/word?version=c&amp;id=1AWDWTn\" title=\"show this lexeme in SHEBANQ\">אֹודֹ֣ת </a></div><div class=\"features\"> <span class=\"pdp\"><a href=\"https://shebanq.ancient-data.org/hebrew/text?book=Exodus&amp;chapter=18&amp;verse=8&amp;version=c&amp;mr=m&amp;qw=q&amp;tp=txt_p&amp;tr=hb&amp;wget=v&amp;qget=v&amp;nget=vt\" title=\"Exodus 18:8\" sec=\"Exodus 18:8\">subs</a></span> <span class=\"gloss\">inducement</span></div></div><div class=\"word   rtl \" ><span class=\"nd\">38621</span><div class=\"h\"><a target=\"_blank\" href=\"https://shebanq.ancient-data.org/hebrew/word?version=c&amp;id=1JFRALn\" title=\"show this lexeme in SHEBANQ\">יִשְׂרָאֵ֑ל </a></div><div class=\"features\"> <span class=\"pdp\"><a href=\"https://shebanq.ancient-data.org/hebrew/text?book=Exodus&amp;chapter=18&amp;verse=8&amp;version=c&amp;mr=m&amp;qw=q&amp;tp=txt_p&amp;tr=hb&amp;wget=v&amp;qget=v&amp;nget=vt\" title=\"Exodus 18:8\" sec=\"Exodus 18:8\">nmpr</a></span> <span class=\"gloss\">Israel</span></div></div></div></div></div></div><div class=\"catom  hl rtl \" >\n",
       "        <div class=\"clause hl rtl \" >\n",
       "            <a href=\"https://shebanq.ancient-data.org/hebrew/text?book=Exodus&amp;chapter=18&amp;verse=8&amp;version=c&amp;mr=m&amp;qw=q&amp;tp=txt_p&amp;tr=hb&amp;wget=v&amp;qget=v&amp;nget=vt\" title=\"Exodus 18:8\" sec=\"Exodus 18:8\">clause</a> <span class=\"nd\">435509</span>  <span class=\"typ\">Ellp</span>\n",
       "        </div>\n",
       "        <div class=\"atoms rtl \">\n",
       "                    <div class=\"patom  hl rtl \" >\n",
       "        <div class=\"phrase hl rtl \" >\n",
       "            <a href=\"https://shebanq.ancient-data.org/hebrew/text?book=Exodus&amp;chapter=18&amp;verse=8&amp;version=c&amp;mr=m&amp;qw=q&amp;tp=txt_p&amp;tr=hb&amp;wget=v&amp;qget=v&amp;nget=vt\" title=\"Exodus 18:8\" sec=\"Exodus 18:8\">phrase</a> <span class=\"nd\">675481</span>  <span class=\"function\">Objc</span> <span class=\"typ\">PP</span>\n",
       "        </div>\n",
       "        <div class=\"atoms rtl \">\n",
       "                    <div class=\"word   rtl \" ><span class=\"nd\">38622</span><div class=\"h\"><a target=\"_blank\" href=\"https://shebanq.ancient-data.org/hebrew/word?version=c&amp;id=1AT\" title=\"show this lexeme in SHEBANQ\">אֵ֤ת </a></div><div class=\"features\"> <span class=\"pdp\"><a href=\"https://shebanq.ancient-data.org/hebrew/text?book=Exodus&amp;chapter=18&amp;verse=8&amp;version=c&amp;mr=m&amp;qw=q&amp;tp=txt_p&amp;tr=hb&amp;wget=v&amp;qget=v&amp;nget=vt\" title=\"Exodus 18:8\" sec=\"Exodus 18:8\">prep</a></span> <span class=\"gloss\">&lt;object marker></span></div></div><div class=\"word   rtl \" ><span class=\"nd\">38623</span><div class=\"h\"><a target=\"_blank\" href=\"https://shebanq.ancient-data.org/hebrew/word?version=c&amp;id=1KLn\" title=\"show this lexeme in SHEBANQ\">כָּל־</a></div><div class=\"features\"> <span class=\"pdp\"><a href=\"https://shebanq.ancient-data.org/hebrew/text?book=Exodus&amp;chapter=18&amp;verse=8&amp;version=c&amp;mr=m&amp;qw=q&amp;tp=txt_p&amp;tr=hb&amp;wget=v&amp;qget=v&amp;nget=vt\" title=\"Exodus 18:8\" sec=\"Exodus 18:8\">subs</a></span> <span class=\"gloss\">whole</span></div></div><div class=\"word   rtl \" ><span class=\"nd\">38624</span><div class=\"h\"><a target=\"_blank\" href=\"https://shebanq.ancient-data.org/hebrew/word?version=c&amp;id=1H\" title=\"show this lexeme in SHEBANQ\">הַ</a></div><div class=\"features\"> <span class=\"pdp\"><a href=\"https://shebanq.ancient-data.org/hebrew/text?book=Exodus&amp;chapter=18&amp;verse=8&amp;version=c&amp;mr=m&amp;qw=q&amp;tp=txt_p&amp;tr=hb&amp;wget=v&amp;qget=v&amp;nget=vt\" title=\"Exodus 18:8\" sec=\"Exodus 18:8\">art</a></span> <span class=\"gloss\">the</span></div></div><div class=\"word  hl rtl \" ><span class=\"nd\">38625</span><div class=\"h\"><a target=\"_blank\" href=\"https://shebanq.ancient-data.org/hebrew/word?version=c&amp;id=1TLAHn\" title=\"show this lexeme in SHEBANQ\">תְּלָאָה֙ </a></div><div class=\"features\"> <span class=\"pdp\"><a href=\"https://shebanq.ancient-data.org/hebrew/text?book=Exodus&amp;chapter=18&amp;verse=8&amp;version=c&amp;mr=m&amp;qw=q&amp;tp=txt_p&amp;tr=hb&amp;wget=v&amp;qget=v&amp;nget=vt\" title=\"Exodus 18:8\" sec=\"Exodus 18:8\">subs</a></span> <span class=\"gloss\">weariness</span></div></div></div></div></div></div><div class=\"catom   rtl \" >\n",
       "        <div class=\"clause  rtl \" >\n",
       "            <a href=\"https://shebanq.ancient-data.org/hebrew/text?book=Exodus&amp;chapter=18&amp;verse=8&amp;version=c&amp;mr=m&amp;qw=q&amp;tp=txt_p&amp;tr=hb&amp;wget=v&amp;qget=v&amp;nget=vt\" title=\"Exodus 18:8\" sec=\"Exodus 18:8\">clause</a> <span class=\"nd\">435510</span>  <span class=\"rela\">Attr</span> <span class=\"typ\">xQt0</span>\n",
       "        </div>\n",
       "        <div class=\"atoms rtl \">\n",
       "                    <div class=\"patom   rtl \" >\n",
       "        <div class=\"phrase  rtl \" >\n",
       "            <a href=\"https://shebanq.ancient-data.org/hebrew/text?book=Exodus&amp;chapter=18&amp;verse=8&amp;version=c&amp;mr=m&amp;qw=q&amp;tp=txt_p&amp;tr=hb&amp;wget=v&amp;qget=v&amp;nget=vt\" title=\"Exodus 18:8\" sec=\"Exodus 18:8\">phrase</a> <span class=\"nd\">675482</span>  <span class=\"function\">Rela</span> <span class=\"typ\">CP</span>\n",
       "        </div>\n",
       "        <div class=\"atoms rtl \">\n",
       "                    <div class=\"word   rtl \" ><span class=\"nd\">38626</span><div class=\"h\"><a target=\"_blank\" href=\"https://shebanq.ancient-data.org/hebrew/word?version=c&amp;id=1ACR\" title=\"show this lexeme in SHEBANQ\">אֲשֶׁ֣ר </a></div><div class=\"features\"> <span class=\"pdp\"><a href=\"https://shebanq.ancient-data.org/hebrew/text?book=Exodus&amp;chapter=18&amp;verse=8&amp;version=c&amp;mr=m&amp;qw=q&amp;tp=txt_p&amp;tr=hb&amp;wget=v&amp;qget=v&amp;nget=vt\" title=\"Exodus 18:8\" sec=\"Exodus 18:8\">conj</a></span> <span class=\"gloss\">&lt;relative></span></div></div></div></div><div class=\"patom   rtl \" >\n",
       "        <div class=\"phrase  rtl \" >\n",
       "            <a href=\"https://shebanq.ancient-data.org/hebrew/text?book=Exodus&amp;chapter=18&amp;verse=8&amp;version=c&amp;mr=m&amp;qw=q&amp;tp=txt_p&amp;tr=hb&amp;wget=v&amp;qget=v&amp;nget=vt\" title=\"Exodus 18:8\" sec=\"Exodus 18:8\">phrase</a> <span class=\"nd\">675483</span>  <span class=\"function\">PreO</span> <span class=\"typ\">VP</span>\n",
       "        </div>\n",
       "        <div class=\"atoms rtl \">\n",
       "                    <div class=\"word   rtl \" ><span class=\"nd\">38627</span><div class=\"h\"><a target=\"_blank\" href=\"https://shebanq.ancient-data.org/hebrew/word?version=c&amp;id=1MYAv\" title=\"show this lexeme in SHEBANQ\">מְצָאָ֣תַם </a></div><div class=\"features\"> <span class=\"pdp\"><a href=\"https://shebanq.ancient-data.org/hebrew/text?book=Exodus&amp;chapter=18&amp;verse=8&amp;version=c&amp;mr=m&amp;qw=q&amp;tp=txt_p&amp;tr=hb&amp;wget=v&amp;qget=v&amp;nget=vt\" title=\"Exodus 18:8\" sec=\"Exodus 18:8\">verb</a></span> <span class=\"gloss\">find</span> <span class=\"vs\">qal</span> <span class=\"vt\">perf</span></div></div></div></div><div class=\"patom   rtl \" >\n",
       "        <div class=\"phrase  rtl \" >\n",
       "            <a href=\"https://shebanq.ancient-data.org/hebrew/text?book=Exodus&amp;chapter=18&amp;verse=8&amp;version=c&amp;mr=m&amp;qw=q&amp;tp=txt_p&amp;tr=hb&amp;wget=v&amp;qget=v&amp;nget=vt\" title=\"Exodus 18:8\" sec=\"Exodus 18:8\">phrase</a> <span class=\"nd\">675484</span>  <span class=\"function\">Loca</span> <span class=\"typ\">PP</span>\n",
       "        </div>\n",
       "        <div class=\"atoms rtl \">\n",
       "                    <div class=\"word   rtl \" ><span class=\"nd\">38628</span><div class=\"h\"><a target=\"_blank\" href=\"https://shebanq.ancient-data.org/hebrew/word?version=c&amp;id=1B\" title=\"show this lexeme in SHEBANQ\">בַּ</a></div><div class=\"features\"> <span class=\"pdp\"><a href=\"https://shebanq.ancient-data.org/hebrew/text?book=Exodus&amp;chapter=18&amp;verse=8&amp;version=c&amp;mr=m&amp;qw=q&amp;tp=txt_p&amp;tr=hb&amp;wget=v&amp;qget=v&amp;nget=vt\" title=\"Exodus 18:8\" sec=\"Exodus 18:8\">prep</a></span> <span class=\"gloss\">in</span></div></div><div class=\"word   rtl \" ><span class=\"nd\">38629</span><div class=\"h\"><a target=\"_blank\" href=\"https://shebanq.ancient-data.org/hebrew/word?version=c&amp;id=1H\" title=\"show this lexeme in SHEBANQ\"></a></div><div class=\"features\"> <span class=\"pdp\"><a href=\"https://shebanq.ancient-data.org/hebrew/text?book=Exodus&amp;chapter=18&amp;verse=8&amp;version=c&amp;mr=m&amp;qw=q&amp;tp=txt_p&amp;tr=hb&amp;wget=v&amp;qget=v&amp;nget=vt\" title=\"Exodus 18:8\" sec=\"Exodus 18:8\">art</a></span> <span class=\"gloss\">the</span></div></div><div class=\"word   rtl \" ><span class=\"nd\">38630</span><div class=\"h\"><a target=\"_blank\" href=\"https://shebanq.ancient-data.org/hebrew/word?version=c&amp;id=1DRKn\" title=\"show this lexeme in SHEBANQ\">דֶּ֔רֶךְ </a></div><div class=\"features\"> <span class=\"pdp\"><a href=\"https://shebanq.ancient-data.org/hebrew/text?book=Exodus&amp;chapter=18&amp;verse=8&amp;version=c&amp;mr=m&amp;qw=q&amp;tp=txt_p&amp;tr=hb&amp;wget=v&amp;qget=v&amp;nget=vt\" title=\"Exodus 18:8\" sec=\"Exodus 18:8\">subs</a></span> <span class=\"gloss\">way</span></div></div></div></div></div></div><div class=\"catom   rtl \" >\n",
       "        <div class=\"clause  rtl \" >\n",
       "            <a href=\"https://shebanq.ancient-data.org/hebrew/text?book=Exodus&amp;chapter=18&amp;verse=8&amp;version=c&amp;mr=m&amp;qw=q&amp;tp=txt_p&amp;tr=hb&amp;wget=v&amp;qget=v&amp;nget=vt\" title=\"Exodus 18:8\" sec=\"Exodus 18:8\">clause</a> <span class=\"nd\">435511</span>  <span class=\"rela\">Coor</span> <span class=\"typ\">WayX</span>\n",
       "        </div>\n",
       "        <div class=\"atoms rtl \">\n",
       "                    <div class=\"patom   rtl \" >\n",
       "        <div class=\"phrase  rtl \" >\n",
       "            <a href=\"https://shebanq.ancient-data.org/hebrew/text?book=Exodus&amp;chapter=18&amp;verse=8&amp;version=c&amp;mr=m&amp;qw=q&amp;tp=txt_p&amp;tr=hb&amp;wget=v&amp;qget=v&amp;nget=vt\" title=\"Exodus 18:8\" sec=\"Exodus 18:8\">phrase</a> <span class=\"nd\">675485</span>  <span class=\"function\">Conj</span> <span class=\"typ\">CP</span>\n",
       "        </div>\n",
       "        <div class=\"atoms rtl \">\n",
       "                    <div class=\"word   rtl \" ><span class=\"nd\">38631</span><div class=\"h\"><a target=\"_blank\" href=\"https://shebanq.ancient-data.org/hebrew/word?version=c&amp;id=1W\" title=\"show this lexeme in SHEBANQ\">וַ</a></div><div class=\"features\"> <span class=\"pdp\"><a href=\"https://shebanq.ancient-data.org/hebrew/text?book=Exodus&amp;chapter=18&amp;verse=8&amp;version=c&amp;mr=m&amp;qw=q&amp;tp=txt_p&amp;tr=hb&amp;wget=v&amp;qget=v&amp;nget=vt\" title=\"Exodus 18:8\" sec=\"Exodus 18:8\">conj</a></span> <span class=\"gloss\">and</span></div></div></div></div><div class=\"patom   rtl \" >\n",
       "        <div class=\"phrase  rtl \" >\n",
       "            <a href=\"https://shebanq.ancient-data.org/hebrew/text?book=Exodus&amp;chapter=18&amp;verse=8&amp;version=c&amp;mr=m&amp;qw=q&amp;tp=txt_p&amp;tr=hb&amp;wget=v&amp;qget=v&amp;nget=vt\" title=\"Exodus 18:8\" sec=\"Exodus 18:8\">phrase</a> <span class=\"nd\">675486</span>  <span class=\"function\">PreO</span> <span class=\"typ\">VP</span>\n",
       "        </div>\n",
       "        <div class=\"atoms rtl \">\n",
       "                    <div class=\"word   rtl \" ><span class=\"nd\">38632</span><div class=\"h\"><a target=\"_blank\" href=\"https://shebanq.ancient-data.org/hebrew/word?version=c&amp;id=1NYLv\" title=\"show this lexeme in SHEBANQ\">יַּצִּלֵ֖ם </a></div><div class=\"features\"> <span class=\"pdp\"><a href=\"https://shebanq.ancient-data.org/hebrew/text?book=Exodus&amp;chapter=18&amp;verse=8&amp;version=c&amp;mr=m&amp;qw=q&amp;tp=txt_p&amp;tr=hb&amp;wget=v&amp;qget=v&amp;nget=vt\" title=\"Exodus 18:8\" sec=\"Exodus 18:8\">verb</a></span> <span class=\"gloss\">deliver</span> <span class=\"vs\">hif</span> <span class=\"vt\">wayq</span></div></div></div></div><div class=\"patom   rtl \" >\n",
       "        <div class=\"phrase  rtl \" >\n",
       "            <a href=\"https://shebanq.ancient-data.org/hebrew/text?book=Exodus&amp;chapter=18&amp;verse=8&amp;version=c&amp;mr=m&amp;qw=q&amp;tp=txt_p&amp;tr=hb&amp;wget=v&amp;qget=v&amp;nget=vt\" title=\"Exodus 18:8\" sec=\"Exodus 18:8\">phrase</a> <span class=\"nd\">675487</span>  <span class=\"function\">Subj</span> <span class=\"typ\">PrNP</span>\n",
       "        </div>\n",
       "        <div class=\"atoms rtl \">\n",
       "                    <div class=\"word   rtl \" ><span class=\"nd\">38633</span><div class=\"h\"><a target=\"_blank\" href=\"https://shebanq.ancient-data.org/hebrew/word?version=c&amp;id=1JHWHn\" title=\"show this lexeme in SHEBANQ\">יְהוָֽה׃ </a></div><div class=\"features\"> <span class=\"pdp\"><a href=\"https://shebanq.ancient-data.org/hebrew/text?book=Exodus&amp;chapter=18&amp;verse=8&amp;version=c&amp;mr=m&amp;qw=q&amp;tp=txt_p&amp;tr=hb&amp;wget=v&amp;qget=v&amp;nget=vt\" title=\"Exodus 18:8\" sec=\"Exodus 18:8\">nmpr</a></span> <span class=\"gloss\">YHWH</span></div></div></div></div></div></div></div></div></div></div>"
      ],
      "text/plain": [
       "<IPython.core.display.HTML object>"
      ]
     },
     "metadata": {},
     "output_type": "display_data"
    },
    {
     "data": {
      "text/html": [
       "<p><b>result</b> <i>12</i></p>"
      ],
      "text/plain": [
       "<IPython.core.display.HTML object>"
      ]
     },
     "metadata": {},
     "output_type": "display_data"
    },
    {
     "data": {
      "text/html": [
       "<div class=\"outeritem rtl \"><div class=\"verse   rtl \" >\n",
       "    <div class=\"vl\">\n",
       "        <div class=\"vrs rtl \"><a href=\"https://shebanq.ancient-data.org/hebrew/text?book=Exodus&amp;chapter=23&amp;verse=15&amp;version=c&amp;mr=m&amp;qw=q&amp;tp=txt_p&amp;tr=hb&amp;wget=v&amp;qget=v&amp;nget=vt\" title=\"show this passage in SHEBANQ\" sec=\"Exodus 23:15\">Exodus 23:15</a></div>\n",
       "        <span class=\"nd\">1416513</span>\n",
       "    </div>\n",
       "<div class=\"satom  l hl rtl \" >\n",
       "        <div class=\"sentence hl rtl \" >\n",
       "            <a href=\"https://shebanq.ancient-data.org/hebrew/text?book=Exodus&amp;chapter=23&amp;verse=15&amp;version=c&amp;mr=m&amp;qw=q&amp;tp=txt_p&amp;tr=hb&amp;wget=v&amp;qget=v&amp;nget=vt\" title=\"Exodus 23:15\" sec=\"Exodus 23:15\">sentence</a> <span class=\"nd\">1178876</span>  <span class=\"number\">36|1979</span>\n",
       "        </div>\n",
       "        <div class=\"atoms rtl \">\n",
       "                    <div class=\"catom  hl rtl \" >\n",
       "        <div class=\"clause hl rtl \" >\n",
       "            <a href=\"https://shebanq.ancient-data.org/hebrew/text?book=Exodus&amp;chapter=23&amp;verse=15&amp;version=c&amp;mr=m&amp;qw=q&amp;tp=txt_p&amp;tr=hb&amp;wget=v&amp;qget=v&amp;nget=vt\" title=\"Exodus 23:15\" sec=\"Exodus 23:15\">clause</a> <span class=\"nd\">436054</span>  <span class=\"typ\">xYq0</span>\n",
       "        </div>\n",
       "        <div class=\"atoms rtl \">\n",
       "                    <div class=\"patom   rtl \" >\n",
       "        <div class=\"phrase  rtl \" >\n",
       "            <a href=\"https://shebanq.ancient-data.org/hebrew/text?book=Exodus&amp;chapter=23&amp;verse=15&amp;version=c&amp;mr=m&amp;qw=q&amp;tp=txt_p&amp;tr=hb&amp;wget=v&amp;qget=v&amp;nget=vt\" title=\"Exodus 23:15\" sec=\"Exodus 23:15\">phrase</a> <span class=\"nd\">677181</span>  <span class=\"function\">Objc</span> <span class=\"typ\">PP</span>\n",
       "        </div>\n",
       "        <div class=\"atoms rtl \">\n",
       "                    <div class=\"word   rtl \" ><span class=\"nd\">41252</span><div class=\"h\"><a target=\"_blank\" href=\"https://shebanq.ancient-data.org/hebrew/word?version=c&amp;id=1AT\" title=\"show this lexeme in SHEBANQ\">אֶת־</a></div><div class=\"features\"> <span class=\"pdp\"><a href=\"https://shebanq.ancient-data.org/hebrew/text?book=Exodus&amp;chapter=23&amp;verse=15&amp;version=c&amp;mr=m&amp;qw=q&amp;tp=txt_p&amp;tr=hb&amp;wget=v&amp;qget=v&amp;nget=vt\" title=\"Exodus 23:15\" sec=\"Exodus 23:15\">prep</a></span> <span class=\"gloss\">&lt;object marker></span></div></div><div class=\"word   rtl \" ><span class=\"nd\">41253</span><div class=\"h\"><a target=\"_blank\" href=\"https://shebanq.ancient-data.org/hebrew/word?version=c&amp;id=1XGn\" title=\"show this lexeme in SHEBANQ\">חַ֣ג </a></div><div class=\"features\"> <span class=\"pdp\"><a href=\"https://shebanq.ancient-data.org/hebrew/text?book=Exodus&amp;chapter=23&amp;verse=15&amp;version=c&amp;mr=m&amp;qw=q&amp;tp=txt_p&amp;tr=hb&amp;wget=v&amp;qget=v&amp;nget=vt\" title=\"Exodus 23:15\" sec=\"Exodus 23:15\">subs</a></span> <span class=\"gloss\">festival</span></div></div><div class=\"word   rtl \" ><span class=\"nd\">41254</span><div class=\"h\"><a target=\"_blank\" href=\"https://shebanq.ancient-data.org/hebrew/word?version=c&amp;id=1H\" title=\"show this lexeme in SHEBANQ\">הַ</a></div><div class=\"features\"> <span class=\"pdp\"><a href=\"https://shebanq.ancient-data.org/hebrew/text?book=Exodus&amp;chapter=23&amp;verse=15&amp;version=c&amp;mr=m&amp;qw=q&amp;tp=txt_p&amp;tr=hb&amp;wget=v&amp;qget=v&amp;nget=vt\" title=\"Exodus 23:15\" sec=\"Exodus 23:15\">art</a></span> <span class=\"gloss\">the</span></div></div><div class=\"word   rtl \" ><span class=\"nd\">41255</span><div class=\"h\"><a target=\"_blank\" href=\"https://shebanq.ancient-data.org/hebrew/word?version=c&amp;id=1MYHn\" title=\"show this lexeme in SHEBANQ\">מַּצֹּות֮ </a></div><div class=\"features\"> <span class=\"pdp\"><a href=\"https://shebanq.ancient-data.org/hebrew/text?book=Exodus&amp;chapter=23&amp;verse=15&amp;version=c&amp;mr=m&amp;qw=q&amp;tp=txt_p&amp;tr=hb&amp;wget=v&amp;qget=v&amp;nget=vt\" title=\"Exodus 23:15\" sec=\"Exodus 23:15\">subs</a></span> <span class=\"gloss\">matzo</span></div></div></div></div><div class=\"patom  hl rtl \" >\n",
       "        <div class=\"phrase hl rtl \" >\n",
       "            <a href=\"https://shebanq.ancient-data.org/hebrew/text?book=Exodus&amp;chapter=23&amp;verse=15&amp;version=c&amp;mr=m&amp;qw=q&amp;tp=txt_p&amp;tr=hb&amp;wget=v&amp;qget=v&amp;nget=vt\" title=\"Exodus 23:15\" sec=\"Exodus 23:15\">phrase</a> <span class=\"nd\">677182</span>  <span class=\"function\">Pred</span> <span class=\"typ\">VP</span>\n",
       "        </div>\n",
       "        <div class=\"atoms rtl \">\n",
       "                    <div class=\"word  hl rtl \" ><span class=\"nd\">41256</span><div class=\"h\"><a target=\"_blank\" href=\"https://shebanq.ancient-data.org/hebrew/word?version=c&amp;id=1CMRv\" title=\"show this lexeme in SHEBANQ\">תִּשְׁמֹר֒ </a></div><div class=\"features\"> <span class=\"pdp\"><a href=\"https://shebanq.ancient-data.org/hebrew/text?book=Exodus&amp;chapter=23&amp;verse=15&amp;version=c&amp;mr=m&amp;qw=q&amp;tp=txt_p&amp;tr=hb&amp;wget=v&amp;qget=v&amp;nget=vt\" title=\"Exodus 23:15\" sec=\"Exodus 23:15\">verb</a></span> <span class=\"gloss\">keep</span> <span class=\"vs\">qal</span> <span class=\"vt\">impf</span></div></div></div></div></div></div></div></div><div class=\"satom   rtl \" >\n",
       "        <div class=\"sentence  rtl \" >\n",
       "            <a href=\"https://shebanq.ancient-data.org/hebrew/text?book=Exodus&amp;chapter=23&amp;verse=15&amp;version=c&amp;mr=m&amp;qw=q&amp;tp=txt_p&amp;tr=hb&amp;wget=v&amp;qget=v&amp;nget=vt\" title=\"Exodus 23:15\" sec=\"Exodus 23:15\">sentence</a> <span class=\"nd\">1178877</span>  <span class=\"number\">37|1980</span>\n",
       "        </div>\n",
       "        <div class=\"atoms rtl \">\n",
       "                    <div class=\"catom  l  rtl \" >\n",
       "        <div class=\"clause  rtl \" >\n",
       "            <a href=\"https://shebanq.ancient-data.org/hebrew/text?book=Exodus&amp;chapter=23&amp;verse=15&amp;version=c&amp;mr=m&amp;qw=q&amp;tp=txt_p&amp;tr=hb&amp;wget=v&amp;qget=v&amp;nget=vt\" title=\"Exodus 23:15\" sec=\"Exodus 23:15\">clause</a> <span class=\"nd\">436055</span>  <span class=\"typ\">xYq0</span>\n",
       "        </div>\n",
       "        <div class=\"atoms rtl \">\n",
       "                    <div class=\"patom   rtl \" >\n",
       "        <div class=\"phrase  rtl \" >\n",
       "            <a href=\"https://shebanq.ancient-data.org/hebrew/text?book=Exodus&amp;chapter=23&amp;verse=15&amp;version=c&amp;mr=m&amp;qw=q&amp;tp=txt_p&amp;tr=hb&amp;wget=v&amp;qget=v&amp;nget=vt\" title=\"Exodus 23:15\" sec=\"Exodus 23:15\">phrase</a> <span class=\"nd\">677183</span>  <span class=\"function\">Time</span> <span class=\"typ\">NP</span>\n",
       "        </div>\n",
       "        <div class=\"atoms rtl \">\n",
       "                    <div class=\"word   rtl \" ><span class=\"nd\">41257</span><div class=\"h\"><a target=\"_blank\" href=\"https://shebanq.ancient-data.org/hebrew/word?version=c&amp;id=1CBOn\" title=\"show this lexeme in SHEBANQ\">שִׁבְעַ֣ת </a></div><div class=\"features\"> <span class=\"pdp\"><a href=\"https://shebanq.ancient-data.org/hebrew/text?book=Exodus&amp;chapter=23&amp;verse=15&amp;version=c&amp;mr=m&amp;qw=q&amp;tp=txt_p&amp;tr=hb&amp;wget=v&amp;qget=v&amp;nget=vt\" title=\"Exodus 23:15\" sec=\"Exodus 23:15\">subs</a></span> <span class=\"gloss\">seven</span></div></div><div class=\"word   rtl \" ><span class=\"nd\">41258</span><div class=\"h\"><a target=\"_blank\" href=\"https://shebanq.ancient-data.org/hebrew/word?version=c&amp;id=1JWMn\" title=\"show this lexeme in SHEBANQ\">יָמִים֩ </a></div><div class=\"features\"> <span class=\"pdp\"><a href=\"https://shebanq.ancient-data.org/hebrew/text?book=Exodus&amp;chapter=23&amp;verse=15&amp;version=c&amp;mr=m&amp;qw=q&amp;tp=txt_p&amp;tr=hb&amp;wget=v&amp;qget=v&amp;nget=vt\" title=\"Exodus 23:15\" sec=\"Exodus 23:15\">subs</a></span> <span class=\"gloss\">day</span></div></div></div></div><div class=\"patom   rtl \" >\n",
       "        <div class=\"phrase  rtl \" >\n",
       "            <a href=\"https://shebanq.ancient-data.org/hebrew/text?book=Exodus&amp;chapter=23&amp;verse=15&amp;version=c&amp;mr=m&amp;qw=q&amp;tp=txt_p&amp;tr=hb&amp;wget=v&amp;qget=v&amp;nget=vt\" title=\"Exodus 23:15\" sec=\"Exodus 23:15\">phrase</a> <span class=\"nd\">677184</span>  <span class=\"function\">Pred</span> <span class=\"typ\">VP</span>\n",
       "        </div>\n",
       "        <div class=\"atoms rtl \">\n",
       "                    <div class=\"word   rtl \" ><span class=\"nd\">41259</span><div class=\"h\"><a target=\"_blank\" href=\"https://shebanq.ancient-data.org/hebrew/word?version=c&amp;id=1AKLv\" title=\"show this lexeme in SHEBANQ\">תֹּאכַ֨ל </a></div><div class=\"features\"> <span class=\"pdp\"><a href=\"https://shebanq.ancient-data.org/hebrew/text?book=Exodus&amp;chapter=23&amp;verse=15&amp;version=c&amp;mr=m&amp;qw=q&amp;tp=txt_p&amp;tr=hb&amp;wget=v&amp;qget=v&amp;nget=vt\" title=\"Exodus 23:15\" sec=\"Exodus 23:15\">verb</a></span> <span class=\"gloss\">eat</span> <span class=\"vs\">qal</span> <span class=\"vt\">impf</span></div></div></div></div><div class=\"patom   rtl \" >\n",
       "        <div class=\"phrase  rtl \" >\n",
       "            <a href=\"https://shebanq.ancient-data.org/hebrew/text?book=Exodus&amp;chapter=23&amp;verse=15&amp;version=c&amp;mr=m&amp;qw=q&amp;tp=txt_p&amp;tr=hb&amp;wget=v&amp;qget=v&amp;nget=vt\" title=\"Exodus 23:15\" sec=\"Exodus 23:15\">phrase</a> <span class=\"nd\">677185</span>  <span class=\"function\">Objc</span> <span class=\"typ\">NP</span>\n",
       "        </div>\n",
       "        <div class=\"atoms rtl \">\n",
       "                    <div class=\"word   rtl \" ><span class=\"nd\">41260</span><div class=\"h\"><a target=\"_blank\" href=\"https://shebanq.ancient-data.org/hebrew/word?version=c&amp;id=1MYHn\" title=\"show this lexeme in SHEBANQ\">מַצֹּ֜ות </a></div><div class=\"features\"> <span class=\"pdp\"><a href=\"https://shebanq.ancient-data.org/hebrew/text?book=Exodus&amp;chapter=23&amp;verse=15&amp;version=c&amp;mr=m&amp;qw=q&amp;tp=txt_p&amp;tr=hb&amp;wget=v&amp;qget=v&amp;nget=vt\" title=\"Exodus 23:15\" sec=\"Exodus 23:15\">subs</a></span> <span class=\"gloss\">matzo</span></div></div></div></div></div></div><div class=\"catom   rtl \" >\n",
       "        <div class=\"clause  rtl \" >\n",
       "            <a href=\"https://shebanq.ancient-data.org/hebrew/text?book=Exodus&amp;chapter=23&amp;verse=15&amp;version=c&amp;mr=m&amp;qw=q&amp;tp=txt_p&amp;tr=hb&amp;wget=v&amp;qget=v&amp;nget=vt\" title=\"Exodus 23:15\" sec=\"Exodus 23:15\">clause</a> <span class=\"nd\">436056</span>  <span class=\"rela\">Adju</span> <span class=\"typ\">xQt0</span>\n",
       "        </div>\n",
       "        <div class=\"atoms rtl \">\n",
       "                    <div class=\"patom   rtl \" >\n",
       "        <div class=\"phrase  rtl \" >\n",
       "            <a href=\"https://shebanq.ancient-data.org/hebrew/text?book=Exodus&amp;chapter=23&amp;verse=15&amp;version=c&amp;mr=m&amp;qw=q&amp;tp=txt_p&amp;tr=hb&amp;wget=v&amp;qget=v&amp;nget=vt\" title=\"Exodus 23:15\" sec=\"Exodus 23:15\">phrase</a> <span class=\"nd\">677186</span>  <span class=\"function\">Conj</span> <span class=\"typ\">CP</span>\n",
       "        </div>\n",
       "        <div class=\"atoms rtl \">\n",
       "                    <div class=\"word   rtl \" ><span class=\"nd\">41261</span><div class=\"h\"><a target=\"_blank\" href=\"https://shebanq.ancient-data.org/hebrew/word?version=c&amp;id=1K\" title=\"show this lexeme in SHEBANQ\">כַּֽ</a></div><div class=\"features\"> <span class=\"pdp\"><a href=\"https://shebanq.ancient-data.org/hebrew/text?book=Exodus&amp;chapter=23&amp;verse=15&amp;version=c&amp;mr=m&amp;qw=q&amp;tp=txt_p&amp;tr=hb&amp;wget=v&amp;qget=v&amp;nget=vt\" title=\"Exodus 23:15\" sec=\"Exodus 23:15\">prep</a></span> <span class=\"gloss\">as</span></div></div><div class=\"word   rtl \" ><span class=\"nd\">41262</span><div class=\"h\"><a target=\"_blank\" href=\"https://shebanq.ancient-data.org/hebrew/word?version=c&amp;id=1ACR\" title=\"show this lexeme in SHEBANQ\">אֲשֶׁ֣ר </a></div><div class=\"features\"> <span class=\"pdp\"><a href=\"https://shebanq.ancient-data.org/hebrew/text?book=Exodus&amp;chapter=23&amp;verse=15&amp;version=c&amp;mr=m&amp;qw=q&amp;tp=txt_p&amp;tr=hb&amp;wget=v&amp;qget=v&amp;nget=vt\" title=\"Exodus 23:15\" sec=\"Exodus 23:15\">conj</a></span> <span class=\"gloss\">&lt;relative></span></div></div></div></div><div class=\"patom   rtl \" >\n",
       "        <div class=\"phrase  rtl \" >\n",
       "            <a href=\"https://shebanq.ancient-data.org/hebrew/text?book=Exodus&amp;chapter=23&amp;verse=15&amp;version=c&amp;mr=m&amp;qw=q&amp;tp=txt_p&amp;tr=hb&amp;wget=v&amp;qget=v&amp;nget=vt\" title=\"Exodus 23:15\" sec=\"Exodus 23:15\">phrase</a> <span class=\"nd\">677187</span>  <span class=\"function\">PreO</span> <span class=\"typ\">VP</span>\n",
       "        </div>\n",
       "        <div class=\"atoms rtl \">\n",
       "                    <div class=\"word   rtl \" ><span class=\"nd\">41263</span><div class=\"h\"><a target=\"_blank\" href=\"https://shebanq.ancient-data.org/hebrew/word?version=c&amp;id=1YWHv\" title=\"show this lexeme in SHEBANQ\">צִוִּיתִ֗ךָ </a></div><div class=\"features\"> <span class=\"pdp\"><a href=\"https://shebanq.ancient-data.org/hebrew/text?book=Exodus&amp;chapter=23&amp;verse=15&amp;version=c&amp;mr=m&amp;qw=q&amp;tp=txt_p&amp;tr=hb&amp;wget=v&amp;qget=v&amp;nget=vt\" title=\"Exodus 23:15\" sec=\"Exodus 23:15\">verb</a></span> <span class=\"gloss\">command</span> <span class=\"vs\">piel</span> <span class=\"vt\">perf</span></div></div></div></div></div></div><div class=\"catom  r  rtl \" >\n",
       "        <div class=\"clause  rtl \" >\n",
       "            <a href=\"https://shebanq.ancient-data.org/hebrew/text?book=Exodus&amp;chapter=23&amp;verse=15&amp;version=c&amp;mr=m&amp;qw=q&amp;tp=txt_p&amp;tr=hb&amp;wget=v&amp;qget=v&amp;nget=vt\" title=\"Exodus 23:15\" sec=\"Exodus 23:15\">clause</a> <span class=\"nd\">436055</span>  <span class=\"typ\">xYq0|Defc</span>\n",
       "        </div>\n",
       "        <div class=\"atoms rtl \">\n",
       "                    <div class=\"patom   rtl \" >\n",
       "        <div class=\"phrase  rtl \" >\n",
       "            <a href=\"https://shebanq.ancient-data.org/hebrew/text?book=Exodus&amp;chapter=23&amp;verse=15&amp;version=c&amp;mr=m&amp;qw=q&amp;tp=txt_p&amp;tr=hb&amp;wget=v&amp;qget=v&amp;nget=vt\" title=\"Exodus 23:15\" sec=\"Exodus 23:15\">phrase</a> <span class=\"nd\">677188</span>  <span class=\"function\">Cmpl</span> <span class=\"typ\">PP</span>\n",
       "        </div>\n",
       "        <div class=\"atoms rtl \">\n",
       "                    <div class=\"word   rtl \" ><span class=\"nd\">41264</span><div class=\"h\"><a target=\"_blank\" href=\"https://shebanq.ancient-data.org/hebrew/word?version=c&amp;id=1L\" title=\"show this lexeme in SHEBANQ\">לְ</a></div><div class=\"features\"> <span class=\"pdp\"><a href=\"https://shebanq.ancient-data.org/hebrew/text?book=Exodus&amp;chapter=23&amp;verse=15&amp;version=c&amp;mr=m&amp;qw=q&amp;tp=txt_p&amp;tr=hb&amp;wget=v&amp;qget=v&amp;nget=vt\" title=\"Exodus 23:15\" sec=\"Exodus 23:15\">prep</a></span> <span class=\"gloss\">to</span></div></div><div class=\"word   rtl \" ><span class=\"nd\">41265</span><div class=\"h\"><a target=\"_blank\" href=\"https://shebanq.ancient-data.org/hebrew/word?version=c&amp;id=1MWODn\" title=\"show this lexeme in SHEBANQ\">מֹועֵד֙ </a></div><div class=\"features\"> <span class=\"pdp\"><a href=\"https://shebanq.ancient-data.org/hebrew/text?book=Exodus&amp;chapter=23&amp;verse=15&amp;version=c&amp;mr=m&amp;qw=q&amp;tp=txt_p&amp;tr=hb&amp;wget=v&amp;qget=v&amp;nget=vt\" title=\"Exodus 23:15\" sec=\"Exodus 23:15\">subs</a></span> <span class=\"gloss\">appointment</span></div></div></div></div><div class=\"patom   rtl \" >\n",
       "        <div class=\"phrase  rtl \" >\n",
       "            <a href=\"https://shebanq.ancient-data.org/hebrew/text?book=Exodus&amp;chapter=23&amp;verse=15&amp;version=c&amp;mr=m&amp;qw=q&amp;tp=txt_p&amp;tr=hb&amp;wget=v&amp;qget=v&amp;nget=vt\" title=\"Exodus 23:15\" sec=\"Exodus 23:15\">phrase</a> <span class=\"nd\">677189</span>  <span class=\"function\">Cmpl</span> <span class=\"typ\">NP</span>\n",
       "        </div>\n",
       "        <div class=\"atoms rtl \">\n",
       "                    <div class=\"word   rtl \" ><span class=\"nd\">41266</span><div class=\"h\"><a target=\"_blank\" href=\"https://shebanq.ancient-data.org/hebrew/word?version=c&amp;id=1XDCin\" title=\"show this lexeme in SHEBANQ\">חֹ֣דֶשׁ </a></div><div class=\"features\"> <span class=\"pdp\"><a href=\"https://shebanq.ancient-data.org/hebrew/text?book=Exodus&amp;chapter=23&amp;verse=15&amp;version=c&amp;mr=m&amp;qw=q&amp;tp=txt_p&amp;tr=hb&amp;wget=v&amp;qget=v&amp;nget=vt\" title=\"Exodus 23:15\" sec=\"Exodus 23:15\">subs</a></span> <span class=\"gloss\">month</span></div></div><div class=\"word   rtl \" ><span class=\"nd\">41267</span><div class=\"h\"><a target=\"_blank\" href=\"https://shebanq.ancient-data.org/hebrew/word?version=c&amp;id=1H\" title=\"show this lexeme in SHEBANQ\">הָֽ</a></div><div class=\"features\"> <span class=\"pdp\"><a href=\"https://shebanq.ancient-data.org/hebrew/text?book=Exodus&amp;chapter=23&amp;verse=15&amp;version=c&amp;mr=m&amp;qw=q&amp;tp=txt_p&amp;tr=hb&amp;wget=v&amp;qget=v&amp;nget=vt\" title=\"Exodus 23:15\" sec=\"Exodus 23:15\">art</a></span> <span class=\"gloss\">the</span></div></div><div class=\"word   rtl \" ><span class=\"nd\">41268</span><div class=\"h\"><a target=\"_blank\" href=\"https://shebanq.ancient-data.org/hebrew/word?version=c&amp;id=1ABJBn\" title=\"show this lexeme in SHEBANQ\">אָבִ֔יב </a></div><div class=\"features\"> <span class=\"pdp\"><a href=\"https://shebanq.ancient-data.org/hebrew/text?book=Exodus&amp;chapter=23&amp;verse=15&amp;version=c&amp;mr=m&amp;qw=q&amp;tp=txt_p&amp;tr=hb&amp;wget=v&amp;qget=v&amp;nget=vt\" title=\"Exodus 23:15\" sec=\"Exodus 23:15\">subs</a></span> <span class=\"gloss\">ears</span></div></div></div></div></div></div></div></div><div class=\"satom   rtl \" >\n",
       "        <div class=\"sentence  rtl \" >\n",
       "            <a href=\"https://shebanq.ancient-data.org/hebrew/text?book=Exodus&amp;chapter=23&amp;verse=15&amp;version=c&amp;mr=m&amp;qw=q&amp;tp=txt_p&amp;tr=hb&amp;wget=v&amp;qget=v&amp;nget=vt\" title=\"Exodus 23:15\" sec=\"Exodus 23:15\">sentence</a> <span class=\"nd\">1178878</span>  <span class=\"number\">38|1981</span>\n",
       "        </div>\n",
       "        <div class=\"atoms rtl \">\n",
       "                    <div class=\"catom   rtl \" >\n",
       "        <div class=\"clause  rtl \" >\n",
       "            <a href=\"https://shebanq.ancient-data.org/hebrew/text?book=Exodus&amp;chapter=23&amp;verse=15&amp;version=c&amp;mr=m&amp;qw=q&amp;tp=txt_p&amp;tr=hb&amp;wget=v&amp;qget=v&amp;nget=vt\" title=\"Exodus 23:15\" sec=\"Exodus 23:15\">clause</a> <span class=\"nd\">436057</span>  <span class=\"typ\">xQt0</span>\n",
       "        </div>\n",
       "        <div class=\"atoms rtl \">\n",
       "                    <div class=\"patom   rtl \" >\n",
       "        <div class=\"phrase  rtl \" >\n",
       "            <a href=\"https://shebanq.ancient-data.org/hebrew/text?book=Exodus&amp;chapter=23&amp;verse=15&amp;version=c&amp;mr=m&amp;qw=q&amp;tp=txt_p&amp;tr=hb&amp;wget=v&amp;qget=v&amp;nget=vt\" title=\"Exodus 23:15\" sec=\"Exodus 23:15\">phrase</a> <span class=\"nd\">677190</span>  <span class=\"function\">Conj</span> <span class=\"typ\">CP</span>\n",
       "        </div>\n",
       "        <div class=\"atoms rtl \">\n",
       "                    <div class=\"word   rtl \" ><span class=\"nd\">41269</span><div class=\"h\"><a target=\"_blank\" href=\"https://shebanq.ancient-data.org/hebrew/word?version=c&amp;id=1KJ\" title=\"show this lexeme in SHEBANQ\">כִּי־</a></div><div class=\"features\"> <span class=\"pdp\"><a href=\"https://shebanq.ancient-data.org/hebrew/text?book=Exodus&amp;chapter=23&amp;verse=15&amp;version=c&amp;mr=m&amp;qw=q&amp;tp=txt_p&amp;tr=hb&amp;wget=v&amp;qget=v&amp;nget=vt\" title=\"Exodus 23:15\" sec=\"Exodus 23:15\">conj</a></span> <span class=\"gloss\">that</span></div></div></div></div><div class=\"patom   rtl \" >\n",
       "        <div class=\"phrase  rtl \" >\n",
       "            <a href=\"https://shebanq.ancient-data.org/hebrew/text?book=Exodus&amp;chapter=23&amp;verse=15&amp;version=c&amp;mr=m&amp;qw=q&amp;tp=txt_p&amp;tr=hb&amp;wget=v&amp;qget=v&amp;nget=vt\" title=\"Exodus 23:15\" sec=\"Exodus 23:15\">phrase</a> <span class=\"nd\">677191</span>  <span class=\"function\">Adju</span> <span class=\"typ\">PP</span>\n",
       "        </div>\n",
       "        <div class=\"atoms rtl \">\n",
       "                    <div class=\"word   rtl \" ><span class=\"nd\">41270</span><div class=\"h\"><a target=\"_blank\" href=\"https://shebanq.ancient-data.org/hebrew/word?version=c&amp;id=1B\" title=\"show this lexeme in SHEBANQ\">בֹ֖ו </a></div><div class=\"features\"> <span class=\"pdp\"><a href=\"https://shebanq.ancient-data.org/hebrew/text?book=Exodus&amp;chapter=23&amp;verse=15&amp;version=c&amp;mr=m&amp;qw=q&amp;tp=txt_p&amp;tr=hb&amp;wget=v&amp;qget=v&amp;nget=vt\" title=\"Exodus 23:15\" sec=\"Exodus 23:15\">prep</a></span> <span class=\"gloss\">in</span></div></div></div></div><div class=\"patom   rtl \" >\n",
       "        <div class=\"phrase  rtl \" >\n",
       "            <a href=\"https://shebanq.ancient-data.org/hebrew/text?book=Exodus&amp;chapter=23&amp;verse=15&amp;version=c&amp;mr=m&amp;qw=q&amp;tp=txt_p&amp;tr=hb&amp;wget=v&amp;qget=v&amp;nget=vt\" title=\"Exodus 23:15\" sec=\"Exodus 23:15\">phrase</a> <span class=\"nd\">677192</span>  <span class=\"function\">Pred</span> <span class=\"typ\">VP</span>\n",
       "        </div>\n",
       "        <div class=\"atoms rtl \">\n",
       "                    <div class=\"word   rtl \" ><span class=\"nd\">41271</span><div class=\"h\"><a target=\"_blank\" href=\"https://shebanq.ancient-data.org/hebrew/word?version=c&amp;id=1JYAv\" title=\"show this lexeme in SHEBANQ\">יָצָ֣אתָ </a></div><div class=\"features\"> <span class=\"pdp\"><a href=\"https://shebanq.ancient-data.org/hebrew/text?book=Exodus&amp;chapter=23&amp;verse=15&amp;version=c&amp;mr=m&amp;qw=q&amp;tp=txt_p&amp;tr=hb&amp;wget=v&amp;qget=v&amp;nget=vt\" title=\"Exodus 23:15\" sec=\"Exodus 23:15\">verb</a></span> <span class=\"gloss\">go out</span> <span class=\"vs\">qal</span> <span class=\"vt\">perf</span></div></div></div></div><div class=\"patom   rtl \" >\n",
       "        <div class=\"phrase  rtl \" >\n",
       "            <a href=\"https://shebanq.ancient-data.org/hebrew/text?book=Exodus&amp;chapter=23&amp;verse=15&amp;version=c&amp;mr=m&amp;qw=q&amp;tp=txt_p&amp;tr=hb&amp;wget=v&amp;qget=v&amp;nget=vt\" title=\"Exodus 23:15\" sec=\"Exodus 23:15\">phrase</a> <span class=\"nd\">677193</span>  <span class=\"function\">Cmpl</span> <span class=\"typ\">PP</span>\n",
       "        </div>\n",
       "        <div class=\"atoms rtl \">\n",
       "                    <div class=\"word   rtl \" ><span class=\"nd\">41272</span><div class=\"h\"><a target=\"_blank\" href=\"https://shebanq.ancient-data.org/hebrew/word?version=c&amp;id=1MN\" title=\"show this lexeme in SHEBANQ\">מִ</a></div><div class=\"features\"> <span class=\"pdp\"><a href=\"https://shebanq.ancient-data.org/hebrew/text?book=Exodus&amp;chapter=23&amp;verse=15&amp;version=c&amp;mr=m&amp;qw=q&amp;tp=txt_p&amp;tr=hb&amp;wget=v&amp;qget=v&amp;nget=vt\" title=\"Exodus 23:15\" sec=\"Exodus 23:15\">prep</a></span> <span class=\"gloss\">from</span></div></div><div class=\"word   rtl \" ><span class=\"nd\">41273</span><div class=\"h\"><a target=\"_blank\" href=\"https://shebanq.ancient-data.org/hebrew/word?version=c&amp;id=1MYRJMn\" title=\"show this lexeme in SHEBANQ\">מִּצְרָ֑יִם </a></div><div class=\"features\"> <span class=\"pdp\"><a href=\"https://shebanq.ancient-data.org/hebrew/text?book=Exodus&amp;chapter=23&amp;verse=15&amp;version=c&amp;mr=m&amp;qw=q&amp;tp=txt_p&amp;tr=hb&amp;wget=v&amp;qget=v&amp;nget=vt\" title=\"Exodus 23:15\" sec=\"Exodus 23:15\">nmpr</a></span> <span class=\"gloss\">Egypt</span></div></div></div></div></div></div></div></div><div class=\"satom   rtl \" >\n",
       "        <div class=\"sentence  rtl \" >\n",
       "            <a href=\"https://shebanq.ancient-data.org/hebrew/text?book=Exodus&amp;chapter=23&amp;verse=15&amp;version=c&amp;mr=m&amp;qw=q&amp;tp=txt_p&amp;tr=hb&amp;wget=v&amp;qget=v&amp;nget=vt\" title=\"Exodus 23:15\" sec=\"Exodus 23:15\">sentence</a> <span class=\"nd\">1178879</span>  <span class=\"number\">39|1982</span>\n",
       "        </div>\n",
       "        <div class=\"atoms rtl \">\n",
       "                    <div class=\"catom   rtl \" >\n",
       "        <div class=\"clause  rtl \" >\n",
       "            <a href=\"https://shebanq.ancient-data.org/hebrew/text?book=Exodus&amp;chapter=23&amp;verse=15&amp;version=c&amp;mr=m&amp;qw=q&amp;tp=txt_p&amp;tr=hb&amp;wget=v&amp;qget=v&amp;nget=vt\" title=\"Exodus 23:15\" sec=\"Exodus 23:15\">clause</a> <span class=\"nd\">436058</span>  <span class=\"typ\">WxY0</span>\n",
       "        </div>\n",
       "        <div class=\"atoms rtl \">\n",
       "                    <div class=\"patom   rtl \" >\n",
       "        <div class=\"phrase  rtl \" >\n",
       "            <a href=\"https://shebanq.ancient-data.org/hebrew/text?book=Exodus&amp;chapter=23&amp;verse=15&amp;version=c&amp;mr=m&amp;qw=q&amp;tp=txt_p&amp;tr=hb&amp;wget=v&amp;qget=v&amp;nget=vt\" title=\"Exodus 23:15\" sec=\"Exodus 23:15\">phrase</a> <span class=\"nd\">677194</span>  <span class=\"function\">Conj</span> <span class=\"typ\">CP</span>\n",
       "        </div>\n",
       "        <div class=\"atoms rtl \">\n",
       "                    <div class=\"word   rtl \" ><span class=\"nd\">41274</span><div class=\"h\"><a target=\"_blank\" href=\"https://shebanq.ancient-data.org/hebrew/word?version=c&amp;id=1W\" title=\"show this lexeme in SHEBANQ\">וְ</a></div><div class=\"features\"> <span class=\"pdp\"><a href=\"https://shebanq.ancient-data.org/hebrew/text?book=Exodus&amp;chapter=23&amp;verse=15&amp;version=c&amp;mr=m&amp;qw=q&amp;tp=txt_p&amp;tr=hb&amp;wget=v&amp;qget=v&amp;nget=vt\" title=\"Exodus 23:15\" sec=\"Exodus 23:15\">conj</a></span> <span class=\"gloss\">and</span></div></div></div></div><div class=\"patom   rtl \" >\n",
       "        <div class=\"phrase  rtl \" >\n",
       "            <a href=\"https://shebanq.ancient-data.org/hebrew/text?book=Exodus&amp;chapter=23&amp;verse=15&amp;version=c&amp;mr=m&amp;qw=q&amp;tp=txt_p&amp;tr=hb&amp;wget=v&amp;qget=v&amp;nget=vt\" title=\"Exodus 23:15\" sec=\"Exodus 23:15\">phrase</a> <span class=\"nd\">677195</span>  <span class=\"function\">Nega</span> <span class=\"typ\">NegP</span>\n",
       "        </div>\n",
       "        <div class=\"atoms rtl \">\n",
       "                    <div class=\"word   rtl \" ><span class=\"nd\">41275</span><div class=\"h\"><a target=\"_blank\" href=\"https://shebanq.ancient-data.org/hebrew/word?version=c&amp;id=1LA\" title=\"show this lexeme in SHEBANQ\">לֹא־</a></div><div class=\"features\"> <span class=\"pdp\"><a href=\"https://shebanq.ancient-data.org/hebrew/text?book=Exodus&amp;chapter=23&amp;verse=15&amp;version=c&amp;mr=m&amp;qw=q&amp;tp=txt_p&amp;tr=hb&amp;wget=v&amp;qget=v&amp;nget=vt\" title=\"Exodus 23:15\" sec=\"Exodus 23:15\">nega</a></span> <span class=\"gloss\">not</span></div></div></div></div><div class=\"patom   rtl \" >\n",
       "        <div class=\"phrase  rtl \" >\n",
       "            <a href=\"https://shebanq.ancient-data.org/hebrew/text?book=Exodus&amp;chapter=23&amp;verse=15&amp;version=c&amp;mr=m&amp;qw=q&amp;tp=txt_p&amp;tr=hb&amp;wget=v&amp;qget=v&amp;nget=vt\" title=\"Exodus 23:15\" sec=\"Exodus 23:15\">phrase</a> <span class=\"nd\">677196</span>  <span class=\"function\">Pred</span> <span class=\"typ\">VP</span>\n",
       "        </div>\n",
       "        <div class=\"atoms rtl \">\n",
       "                    <div class=\"word   rtl \" ><span class=\"nd\">41276</span><div class=\"h\"><a target=\"_blank\" href=\"https://shebanq.ancient-data.org/hebrew/word?version=c&amp;id=1RAHv\" title=\"show this lexeme in SHEBANQ\">יֵרָא֥וּ </a></div><div class=\"features\"> <span class=\"pdp\"><a href=\"https://shebanq.ancient-data.org/hebrew/text?book=Exodus&amp;chapter=23&amp;verse=15&amp;version=c&amp;mr=m&amp;qw=q&amp;tp=txt_p&amp;tr=hb&amp;wget=v&amp;qget=v&amp;nget=vt\" title=\"Exodus 23:15\" sec=\"Exodus 23:15\">verb</a></span> <span class=\"gloss\">see</span> <span class=\"vs\">nif</span> <span class=\"vt\">impf</span></div></div></div></div><div class=\"patom   rtl \" >\n",
       "        <div class=\"phrase  rtl \" >\n",
       "            <a href=\"https://shebanq.ancient-data.org/hebrew/text?book=Exodus&amp;chapter=23&amp;verse=15&amp;version=c&amp;mr=m&amp;qw=q&amp;tp=txt_p&amp;tr=hb&amp;wget=v&amp;qget=v&amp;nget=vt\" title=\"Exodus 23:15\" sec=\"Exodus 23:15\">phrase</a> <span class=\"nd\">677197</span>  <span class=\"function\">Cmpl</span> <span class=\"typ\">NP</span>\n",
       "        </div>\n",
       "        <div class=\"atoms rtl \">\n",
       "                    <div class=\"word   rtl \" ><span class=\"nd\">41277</span><div class=\"h\"><a target=\"_blank\" href=\"https://shebanq.ancient-data.org/hebrew/word?version=c&amp;id=1PNHn\" title=\"show this lexeme in SHEBANQ\">פָנַ֖י </a></div><div class=\"features\"> <span class=\"pdp\"><a href=\"https://shebanq.ancient-data.org/hebrew/text?book=Exodus&amp;chapter=23&amp;verse=15&amp;version=c&amp;mr=m&amp;qw=q&amp;tp=txt_p&amp;tr=hb&amp;wget=v&amp;qget=v&amp;nget=vt\" title=\"Exodus 23:15\" sec=\"Exodus 23:15\">subs</a></span> <span class=\"gloss\">face</span></div></div></div></div><div class=\"patom   rtl \" >\n",
       "        <div class=\"phrase  rtl \" >\n",
       "            <a href=\"https://shebanq.ancient-data.org/hebrew/text?book=Exodus&amp;chapter=23&amp;verse=15&amp;version=c&amp;mr=m&amp;qw=q&amp;tp=txt_p&amp;tr=hb&amp;wget=v&amp;qget=v&amp;nget=vt\" title=\"Exodus 23:15\" sec=\"Exodus 23:15\">phrase</a> <span class=\"nd\">677198</span>  <span class=\"function\">Modi</span> <span class=\"typ\">AdvP</span>\n",
       "        </div>\n",
       "        <div class=\"atoms rtl \">\n",
       "                    <div class=\"word   rtl \" ><span class=\"nd\">41278</span><div class=\"h\"><a target=\"_blank\" href=\"https://shebanq.ancient-data.org/hebrew/word?version=c&amp;id=1RJQM\" title=\"show this lexeme in SHEBANQ\">רֵיקָֽם׃ </a></div><div class=\"features\"> <span class=\"pdp\"><a href=\"https://shebanq.ancient-data.org/hebrew/text?book=Exodus&amp;chapter=23&amp;verse=15&amp;version=c&amp;mr=m&amp;qw=q&amp;tp=txt_p&amp;tr=hb&amp;wget=v&amp;qget=v&amp;nget=vt\" title=\"Exodus 23:15\" sec=\"Exodus 23:15\">advb</a></span> <span class=\"gloss\">with empty hands</span></div></div></div></div></div></div></div></div></div></div>"
      ],
      "text/plain": [
       "<IPython.core.display.HTML object>"
      ]
     },
     "metadata": {},
     "output_type": "display_data"
    },
    {
     "data": {
      "text/html": [
       "<div class=\"outeritem rtl \"><div class=\"verse   rtl \" >\n",
       "    <div class=\"vl\">\n",
       "        <div class=\"vrs rtl \"><a href=\"https://shebanq.ancient-data.org/hebrew/text?book=Exodus&amp;chapter=23&amp;verse=16&amp;version=c&amp;mr=m&amp;qw=q&amp;tp=txt_p&amp;tr=hb&amp;wget=v&amp;qget=v&amp;nget=vt\" title=\"show this passage in SHEBANQ\" sec=\"Exodus 23:16\">Exodus 23:16</a></div>\n",
       "        <span class=\"nd\">1416514</span>\n",
       "    </div>\n",
       "<div class=\"satom  r hl rtl \" >\n",
       "        <div class=\"sentence hl rtl \" >\n",
       "            <a href=\"https://shebanq.ancient-data.org/hebrew/text?book=Exodus&amp;chapter=23&amp;verse=15&amp;version=c&amp;mr=m&amp;qw=q&amp;tp=txt_p&amp;tr=hb&amp;wget=v&amp;qget=v&amp;nget=vt\" title=\"Exodus 23:15\" sec=\"Exodus 23:15\">sentence</a> <span class=\"nd\">1178876</span>  <span class=\"number\">36|1983</span>\n",
       "        </div>\n",
       "        <div class=\"atoms rtl \">\n",
       "                    <div class=\"catom   rtl \" >\n",
       "        <div class=\"clause  rtl \" >\n",
       "            <a href=\"https://shebanq.ancient-data.org/hebrew/text?book=Exodus&amp;chapter=23&amp;verse=16&amp;version=c&amp;mr=m&amp;qw=q&amp;tp=txt_p&amp;tr=hb&amp;wget=v&amp;qget=v&amp;nget=vt\" title=\"Exodus 23:16\" sec=\"Exodus 23:16\">clause</a> <span class=\"nd\">436059</span>  <span class=\"typ\">Ellp</span>\n",
       "        </div>\n",
       "        <div class=\"atoms rtl \">\n",
       "                    <div class=\"patom   rtl \" >\n",
       "        <div class=\"phrase  rtl \" >\n",
       "            <a href=\"https://shebanq.ancient-data.org/hebrew/text?book=Exodus&amp;chapter=23&amp;verse=16&amp;version=c&amp;mr=m&amp;qw=q&amp;tp=txt_p&amp;tr=hb&amp;wget=v&amp;qget=v&amp;nget=vt\" title=\"Exodus 23:16\" sec=\"Exodus 23:16\">phrase</a> <span class=\"nd\">677199</span>  <span class=\"function\">Conj</span> <span class=\"typ\">CP</span>\n",
       "        </div>\n",
       "        <div class=\"atoms rtl \">\n",
       "                    <div class=\"word   rtl \" ><span class=\"nd\">41279</span><div class=\"h\"><a target=\"_blank\" href=\"https://shebanq.ancient-data.org/hebrew/word?version=c&amp;id=1W\" title=\"show this lexeme in SHEBANQ\">וְ</a></div><div class=\"features\"> <span class=\"pdp\"><a href=\"https://shebanq.ancient-data.org/hebrew/text?book=Exodus&amp;chapter=23&amp;verse=16&amp;version=c&amp;mr=m&amp;qw=q&amp;tp=txt_p&amp;tr=hb&amp;wget=v&amp;qget=v&amp;nget=vt\" title=\"Exodus 23:16\" sec=\"Exodus 23:16\">conj</a></span> <span class=\"gloss\">and</span></div></div></div></div><div class=\"patom   rtl \" >\n",
       "        <div class=\"phrase  rtl \" >\n",
       "            <a href=\"https://shebanq.ancient-data.org/hebrew/text?book=Exodus&amp;chapter=23&amp;verse=16&amp;version=c&amp;mr=m&amp;qw=q&amp;tp=txt_p&amp;tr=hb&amp;wget=v&amp;qget=v&amp;nget=vt\" title=\"Exodus 23:16\" sec=\"Exodus 23:16\">phrase</a> <span class=\"nd\">677200</span>  <span class=\"function\">Objc</span> <span class=\"typ\">NP</span>\n",
       "        </div>\n",
       "        <div class=\"atoms rtl \">\n",
       "                    <div class=\"word   rtl \" ><span class=\"nd\">41280</span><div class=\"h\"><a target=\"_blank\" href=\"https://shebanq.ancient-data.org/hebrew/word?version=c&amp;id=1XGn\" title=\"show this lexeme in SHEBANQ\">חַ֤ג </a></div><div class=\"features\"> <span class=\"pdp\"><a href=\"https://shebanq.ancient-data.org/hebrew/text?book=Exodus&amp;chapter=23&amp;verse=16&amp;version=c&amp;mr=m&amp;qw=q&amp;tp=txt_p&amp;tr=hb&amp;wget=v&amp;qget=v&amp;nget=vt\" title=\"Exodus 23:16\" sec=\"Exodus 23:16\">subs</a></span> <span class=\"gloss\">festival</span></div></div><div class=\"word   rtl \" ><span class=\"nd\">41281</span><div class=\"h\"><a target=\"_blank\" href=\"https://shebanq.ancient-data.org/hebrew/word?version=c&amp;id=1H\" title=\"show this lexeme in SHEBANQ\">הַ</a></div><div class=\"features\"> <span class=\"pdp\"><a href=\"https://shebanq.ancient-data.org/hebrew/text?book=Exodus&amp;chapter=23&amp;verse=16&amp;version=c&amp;mr=m&amp;qw=q&amp;tp=txt_p&amp;tr=hb&amp;wget=v&amp;qget=v&amp;nget=vt\" title=\"Exodus 23:16\" sec=\"Exodus 23:16\">art</a></span> <span class=\"gloss\">the</span></div></div><div class=\"word   rtl \" ><span class=\"nd\">41282</span><div class=\"h\"><a target=\"_blank\" href=\"https://shebanq.ancient-data.org/hebrew/word?version=c&amp;id=1QYJRn\" title=\"show this lexeme in SHEBANQ\">קָּצִיר֙ </a></div><div class=\"features\"> <span class=\"pdp\"><a href=\"https://shebanq.ancient-data.org/hebrew/text?book=Exodus&amp;chapter=23&amp;verse=16&amp;version=c&amp;mr=m&amp;qw=q&amp;tp=txt_p&amp;tr=hb&amp;wget=v&amp;qget=v&amp;nget=vt\" title=\"Exodus 23:16\" sec=\"Exodus 23:16\">subs</a></span> <span class=\"gloss\">harvest</span></div></div></div></div><div class=\"patom   rtl \" >\n",
       "        <div class=\"phrase  rtl \" >\n",
       "            <a href=\"https://shebanq.ancient-data.org/hebrew/text?book=Exodus&amp;chapter=23&amp;verse=16&amp;version=c&amp;mr=m&amp;qw=q&amp;tp=txt_p&amp;tr=hb&amp;wget=v&amp;qget=v&amp;nget=vt\" title=\"Exodus 23:16\" sec=\"Exodus 23:16\">phrase</a> <span class=\"nd\">677201</span>  <span class=\"function\">Adju</span> <span class=\"typ\">NP</span>\n",
       "        </div>\n",
       "        <div class=\"atoms rtl \">\n",
       "                    <div class=\"word   rtl \" ><span class=\"nd\">41283</span><div class=\"h\"><a target=\"_blank\" href=\"https://shebanq.ancient-data.org/hebrew/word?version=c&amp;id=1BKWRJMn\" title=\"show this lexeme in SHEBANQ\">בִּכּוּרֵ֣י </a></div><div class=\"features\"> <span class=\"pdp\"><a href=\"https://shebanq.ancient-data.org/hebrew/text?book=Exodus&amp;chapter=23&amp;verse=16&amp;version=c&amp;mr=m&amp;qw=q&amp;tp=txt_p&amp;tr=hb&amp;wget=v&amp;qget=v&amp;nget=vt\" title=\"Exodus 23:16\" sec=\"Exodus 23:16\">subs</a></span> <span class=\"gloss\">first fruits</span></div></div><div class=\"word   rtl \" ><span class=\"nd\">41284</span><div class=\"h\"><a target=\"_blank\" href=\"https://shebanq.ancient-data.org/hebrew/word?version=c&amp;id=1MOFHn\" title=\"show this lexeme in SHEBANQ\">מַעֲשֶׂ֔יךָ </a></div><div class=\"features\"> <span class=\"pdp\"><a href=\"https://shebanq.ancient-data.org/hebrew/text?book=Exodus&amp;chapter=23&amp;verse=16&amp;version=c&amp;mr=m&amp;qw=q&amp;tp=txt_p&amp;tr=hb&amp;wget=v&amp;qget=v&amp;nget=vt\" title=\"Exodus 23:16\" sec=\"Exodus 23:16\">subs</a></span> <span class=\"gloss\">deed</span></div></div></div></div></div></div><div class=\"catom  hl rtl \" >\n",
       "        <div class=\"clause hl rtl \" >\n",
       "            <a href=\"https://shebanq.ancient-data.org/hebrew/text?book=Exodus&amp;chapter=23&amp;verse=16&amp;version=c&amp;mr=m&amp;qw=q&amp;tp=txt_p&amp;tr=hb&amp;wget=v&amp;qget=v&amp;nget=vt\" title=\"Exodus 23:16\" sec=\"Exodus 23:16\">clause</a> <span class=\"nd\">436060</span>  <span class=\"rela\">Attr</span> <span class=\"typ\">xYq0</span>\n",
       "        </div>\n",
       "        <div class=\"atoms rtl \">\n",
       "                    <div class=\"patom   rtl \" >\n",
       "        <div class=\"phrase  rtl \" >\n",
       "            <a href=\"https://shebanq.ancient-data.org/hebrew/text?book=Exodus&amp;chapter=23&amp;verse=16&amp;version=c&amp;mr=m&amp;qw=q&amp;tp=txt_p&amp;tr=hb&amp;wget=v&amp;qget=v&amp;nget=vt\" title=\"Exodus 23:16\" sec=\"Exodus 23:16\">phrase</a> <span class=\"nd\">677202</span>  <span class=\"function\">Rela</span> <span class=\"typ\">CP</span>\n",
       "        </div>\n",
       "        <div class=\"atoms rtl \">\n",
       "                    <div class=\"word   rtl \" ><span class=\"nd\">41285</span><div class=\"h\"><a target=\"_blank\" href=\"https://shebanq.ancient-data.org/hebrew/word?version=c&amp;id=1ACR\" title=\"show this lexeme in SHEBANQ\">אֲשֶׁ֥ר </a></div><div class=\"features\"> <span class=\"pdp\"><a href=\"https://shebanq.ancient-data.org/hebrew/text?book=Exodus&amp;chapter=23&amp;verse=16&amp;version=c&amp;mr=m&amp;qw=q&amp;tp=txt_p&amp;tr=hb&amp;wget=v&amp;qget=v&amp;nget=vt\" title=\"Exodus 23:16\" sec=\"Exodus 23:16\">conj</a></span> <span class=\"gloss\">&lt;relative></span></div></div></div></div><div class=\"patom  hl rtl \" >\n",
       "        <div class=\"phrase hl rtl \" >\n",
       "            <a href=\"https://shebanq.ancient-data.org/hebrew/text?book=Exodus&amp;chapter=23&amp;verse=16&amp;version=c&amp;mr=m&amp;qw=q&amp;tp=txt_p&amp;tr=hb&amp;wget=v&amp;qget=v&amp;nget=vt\" title=\"Exodus 23:16\" sec=\"Exodus 23:16\">phrase</a> <span class=\"nd\">677203</span>  <span class=\"function\">Pred</span> <span class=\"typ\">VP</span>\n",
       "        </div>\n",
       "        <div class=\"atoms rtl \">\n",
       "                    <div class=\"word   rtl \" ><span class=\"nd\">41286</span><div class=\"h\"><a target=\"_blank\" href=\"https://shebanq.ancient-data.org/hebrew/word?version=c&amp;id=1ZROv\" title=\"show this lexeme in SHEBANQ\">תִּזְרַ֖ע </a></div><div class=\"features\"> <span class=\"pdp\"><a href=\"https://shebanq.ancient-data.org/hebrew/text?book=Exodus&amp;chapter=23&amp;verse=16&amp;version=c&amp;mr=m&amp;qw=q&amp;tp=txt_p&amp;tr=hb&amp;wget=v&amp;qget=v&amp;nget=vt\" title=\"Exodus 23:16\" sec=\"Exodus 23:16\">verb</a></span> <span class=\"gloss\">sow</span> <span class=\"vs\">qal</span> <span class=\"vt\">impf</span></div></div></div></div><div class=\"patom   rtl \" >\n",
       "        <div class=\"phrase  rtl \" >\n",
       "            <a href=\"https://shebanq.ancient-data.org/hebrew/text?book=Exodus&amp;chapter=23&amp;verse=16&amp;version=c&amp;mr=m&amp;qw=q&amp;tp=txt_p&amp;tr=hb&amp;wget=v&amp;qget=v&amp;nget=vt\" title=\"Exodus 23:16\" sec=\"Exodus 23:16\">phrase</a> <span class=\"nd\">677204</span>  <span class=\"function\">Loca</span> <span class=\"typ\">PP</span>\n",
       "        </div>\n",
       "        <div class=\"atoms rtl \">\n",
       "                    <div class=\"word   rtl \" ><span class=\"nd\">41287</span><div class=\"h\"><a target=\"_blank\" href=\"https://shebanq.ancient-data.org/hebrew/word?version=c&amp;id=1B\" title=\"show this lexeme in SHEBANQ\">בַּ</a></div><div class=\"features\"> <span class=\"pdp\"><a href=\"https://shebanq.ancient-data.org/hebrew/text?book=Exodus&amp;chapter=23&amp;verse=16&amp;version=c&amp;mr=m&amp;qw=q&amp;tp=txt_p&amp;tr=hb&amp;wget=v&amp;qget=v&amp;nget=vt\" title=\"Exodus 23:16\" sec=\"Exodus 23:16\">prep</a></span> <span class=\"gloss\">in</span></div></div><div class=\"word   rtl \" ><span class=\"nd\">41288</span><div class=\"h\"><a target=\"_blank\" href=\"https://shebanq.ancient-data.org/hebrew/word?version=c&amp;id=1H\" title=\"show this lexeme in SHEBANQ\"></a></div><div class=\"features\"> <span class=\"pdp\"><a href=\"https://shebanq.ancient-data.org/hebrew/text?book=Exodus&amp;chapter=23&amp;verse=16&amp;version=c&amp;mr=m&amp;qw=q&amp;tp=txt_p&amp;tr=hb&amp;wget=v&amp;qget=v&amp;nget=vt\" title=\"Exodus 23:16\" sec=\"Exodus 23:16\">art</a></span> <span class=\"gloss\">the</span></div></div><div class=\"word   rtl \" ><span class=\"nd\">41289</span><div class=\"h\"><a target=\"_blank\" href=\"https://shebanq.ancient-data.org/hebrew/word?version=c&amp;id=1FDHn\" title=\"show this lexeme in SHEBANQ\">שָּׂדֶ֑ה </a></div><div class=\"features\"> <span class=\"pdp\"><a href=\"https://shebanq.ancient-data.org/hebrew/text?book=Exodus&amp;chapter=23&amp;verse=16&amp;version=c&amp;mr=m&amp;qw=q&amp;tp=txt_p&amp;tr=hb&amp;wget=v&amp;qget=v&amp;nget=vt\" title=\"Exodus 23:16\" sec=\"Exodus 23:16\">subs</a></span> <span class=\"gloss\">open field</span></div></div></div></div></div></div><div class=\"catom  hl rtl \" >\n",
       "        <div class=\"clause hl rtl \" >\n",
       "            <a href=\"https://shebanq.ancient-data.org/hebrew/text?book=Exodus&amp;chapter=23&amp;verse=16&amp;version=c&amp;mr=m&amp;qw=q&amp;tp=txt_p&amp;tr=hb&amp;wget=v&amp;qget=v&amp;nget=vt\" title=\"Exodus 23:16\" sec=\"Exodus 23:16\">clause</a> <span class=\"nd\">436061</span>  <span class=\"typ\">Ellp</span>\n",
       "        </div>\n",
       "        <div class=\"atoms rtl \">\n",
       "                    <div class=\"patom   rtl \" >\n",
       "        <div class=\"phrase  rtl \" >\n",
       "            <a href=\"https://shebanq.ancient-data.org/hebrew/text?book=Exodus&amp;chapter=23&amp;verse=16&amp;version=c&amp;mr=m&amp;qw=q&amp;tp=txt_p&amp;tr=hb&amp;wget=v&amp;qget=v&amp;nget=vt\" title=\"Exodus 23:16\" sec=\"Exodus 23:16\">phrase</a> <span class=\"nd\">677205</span>  <span class=\"function\">Conj</span> <span class=\"typ\">CP</span>\n",
       "        </div>\n",
       "        <div class=\"atoms rtl \">\n",
       "                    <div class=\"word   rtl \" ><span class=\"nd\">41290</span><div class=\"h\"><a target=\"_blank\" href=\"https://shebanq.ancient-data.org/hebrew/word?version=c&amp;id=1W\" title=\"show this lexeme in SHEBANQ\">וְ</a></div><div class=\"features\"> <span class=\"pdp\"><a href=\"https://shebanq.ancient-data.org/hebrew/text?book=Exodus&amp;chapter=23&amp;verse=16&amp;version=c&amp;mr=m&amp;qw=q&amp;tp=txt_p&amp;tr=hb&amp;wget=v&amp;qget=v&amp;nget=vt\" title=\"Exodus 23:16\" sec=\"Exodus 23:16\">conj</a></span> <span class=\"gloss\">and</span></div></div></div></div><div class=\"patom  hl rtl \" >\n",
       "        <div class=\"phrase hl rtl \" >\n",
       "            <a href=\"https://shebanq.ancient-data.org/hebrew/text?book=Exodus&amp;chapter=23&amp;verse=16&amp;version=c&amp;mr=m&amp;qw=q&amp;tp=txt_p&amp;tr=hb&amp;wget=v&amp;qget=v&amp;nget=vt\" title=\"Exodus 23:16\" sec=\"Exodus 23:16\">phrase</a> <span class=\"nd\">677206</span>  <span class=\"function\">Objc</span> <span class=\"typ\">NP</span>\n",
       "        </div>\n",
       "        <div class=\"atoms rtl \">\n",
       "                    <div class=\"word  hl rtl \" ><span class=\"nd\">41291</span><div class=\"h\"><a target=\"_blank\" href=\"https://shebanq.ancient-data.org/hebrew/word?version=c&amp;id=1XGn\" title=\"show this lexeme in SHEBANQ\">חַ֤ג </a></div><div class=\"features\"> <span class=\"pdp\"><a href=\"https://shebanq.ancient-data.org/hebrew/text?book=Exodus&amp;chapter=23&amp;verse=16&amp;version=c&amp;mr=m&amp;qw=q&amp;tp=txt_p&amp;tr=hb&amp;wget=v&amp;qget=v&amp;nget=vt\" title=\"Exodus 23:16\" sec=\"Exodus 23:16\">subs</a></span> <span class=\"gloss\">festival</span></div></div><div class=\"word   rtl \" ><span class=\"nd\">41292</span><div class=\"h\"><a target=\"_blank\" href=\"https://shebanq.ancient-data.org/hebrew/word?version=c&amp;id=1H\" title=\"show this lexeme in SHEBANQ\">הָֽ</a></div><div class=\"features\"> <span class=\"pdp\"><a href=\"https://shebanq.ancient-data.org/hebrew/text?book=Exodus&amp;chapter=23&amp;verse=16&amp;version=c&amp;mr=m&amp;qw=q&amp;tp=txt_p&amp;tr=hb&amp;wget=v&amp;qget=v&amp;nget=vt\" title=\"Exodus 23:16\" sec=\"Exodus 23:16\">art</a></span> <span class=\"gloss\">the</span></div></div><div class=\"word   rtl \" ><span class=\"nd\">41293</span><div class=\"h\"><a target=\"_blank\" href=\"https://shebanq.ancient-data.org/hebrew/word?version=c&amp;id=1ASJPn\" title=\"show this lexeme in SHEBANQ\">אָסִף֙ </a></div><div class=\"features\"> <span class=\"pdp\"><a href=\"https://shebanq.ancient-data.org/hebrew/text?book=Exodus&amp;chapter=23&amp;verse=16&amp;version=c&amp;mr=m&amp;qw=q&amp;tp=txt_p&amp;tr=hb&amp;wget=v&amp;qget=v&amp;nget=vt\" title=\"Exodus 23:16\" sec=\"Exodus 23:16\">subs</a></span> <span class=\"gloss\">harvesting</span></div></div></div></div></div></div><div class=\"catom   rtl \" >\n",
       "        <div class=\"clause  rtl \" >\n",
       "            <a href=\"https://shebanq.ancient-data.org/hebrew/text?book=Exodus&amp;chapter=23&amp;verse=16&amp;version=c&amp;mr=m&amp;qw=q&amp;tp=txt_p&amp;tr=hb&amp;wget=v&amp;qget=v&amp;nget=vt\" title=\"Exodus 23:16\" sec=\"Exodus 23:16\">clause</a> <span class=\"nd\">436062</span>  <span class=\"rela\">Adju</span> <span class=\"typ\">InfC</span>\n",
       "        </div>\n",
       "        <div class=\"atoms rtl \">\n",
       "                    <div class=\"patom   rtl \" >\n",
       "        <div class=\"phrase  rtl \" >\n",
       "            <a href=\"https://shebanq.ancient-data.org/hebrew/text?book=Exodus&amp;chapter=23&amp;verse=16&amp;version=c&amp;mr=m&amp;qw=q&amp;tp=txt_p&amp;tr=hb&amp;wget=v&amp;qget=v&amp;nget=vt\" title=\"Exodus 23:16\" sec=\"Exodus 23:16\">phrase</a> <span class=\"nd\">677207</span>  <span class=\"function\">Pred</span> <span class=\"typ\">VP</span>\n",
       "        </div>\n",
       "        <div class=\"atoms rtl \">\n",
       "                    <div class=\"word   rtl \" ><span class=\"nd\">41294</span><div class=\"h\"><a target=\"_blank\" href=\"https://shebanq.ancient-data.org/hebrew/word?version=c&amp;id=1B\" title=\"show this lexeme in SHEBANQ\">בְּ</a></div><div class=\"features\"> <span class=\"pdp\"><a href=\"https://shebanq.ancient-data.org/hebrew/text?book=Exodus&amp;chapter=23&amp;verse=16&amp;version=c&amp;mr=m&amp;qw=q&amp;tp=txt_p&amp;tr=hb&amp;wget=v&amp;qget=v&amp;nget=vt\" title=\"Exodus 23:16\" sec=\"Exodus 23:16\">prep</a></span> <span class=\"gloss\">in</span></div></div><div class=\"word   rtl \" ><span class=\"nd\">41295</span><div class=\"h\"><a target=\"_blank\" href=\"https://shebanq.ancient-data.org/hebrew/word?version=c&amp;id=1JYAv\" title=\"show this lexeme in SHEBANQ\">צֵ֣את </a></div><div class=\"features\"> <span class=\"pdp\"><a href=\"https://shebanq.ancient-data.org/hebrew/text?book=Exodus&amp;chapter=23&amp;verse=16&amp;version=c&amp;mr=m&amp;qw=q&amp;tp=txt_p&amp;tr=hb&amp;wget=v&amp;qget=v&amp;nget=vt\" title=\"Exodus 23:16\" sec=\"Exodus 23:16\">verb</a></span> <span class=\"gloss\">go out</span> <span class=\"vs\">qal</span> <span class=\"vt\">infc</span></div></div></div></div><div class=\"patom   rtl \" >\n",
       "        <div class=\"phrase  rtl \" >\n",
       "            <a href=\"https://shebanq.ancient-data.org/hebrew/text?book=Exodus&amp;chapter=23&amp;verse=16&amp;version=c&amp;mr=m&amp;qw=q&amp;tp=txt_p&amp;tr=hb&amp;wget=v&amp;qget=v&amp;nget=vt\" title=\"Exodus 23:16\" sec=\"Exodus 23:16\">phrase</a> <span class=\"nd\">677208</span>  <span class=\"function\">Subj</span> <span class=\"typ\">NP</span>\n",
       "        </div>\n",
       "        <div class=\"atoms rtl \">\n",
       "                    <div class=\"word   rtl \" ><span class=\"nd\">41296</span><div class=\"h\"><a target=\"_blank\" href=\"https://shebanq.ancient-data.org/hebrew/word?version=c&amp;id=1H\" title=\"show this lexeme in SHEBANQ\">הַ</a></div><div class=\"features\"> <span class=\"pdp\"><a href=\"https://shebanq.ancient-data.org/hebrew/text?book=Exodus&amp;chapter=23&amp;verse=16&amp;version=c&amp;mr=m&amp;qw=q&amp;tp=txt_p&amp;tr=hb&amp;wget=v&amp;qget=v&amp;nget=vt\" title=\"Exodus 23:16\" sec=\"Exodus 23:16\">art</a></span> <span class=\"gloss\">the</span></div></div><div class=\"word   rtl \" ><span class=\"nd\">41297</span><div class=\"h\"><a target=\"_blank\" href=\"https://shebanq.ancient-data.org/hebrew/word?version=c&amp;id=1CNHn\" title=\"show this lexeme in SHEBANQ\">שָּׁנָ֔ה </a></div><div class=\"features\"> <span class=\"pdp\"><a href=\"https://shebanq.ancient-data.org/hebrew/text?book=Exodus&amp;chapter=23&amp;verse=16&amp;version=c&amp;mr=m&amp;qw=q&amp;tp=txt_p&amp;tr=hb&amp;wget=v&amp;qget=v&amp;nget=vt\" title=\"Exodus 23:16\" sec=\"Exodus 23:16\">subs</a></span> <span class=\"gloss\">year</span></div></div></div></div></div></div><div class=\"catom   rtl \" >\n",
       "        <div class=\"clause  rtl \" >\n",
       "            <a href=\"https://shebanq.ancient-data.org/hebrew/text?book=Exodus&amp;chapter=23&amp;verse=16&amp;version=c&amp;mr=m&amp;qw=q&amp;tp=txt_p&amp;tr=hb&amp;wget=v&amp;qget=v&amp;nget=vt\" title=\"Exodus 23:16\" sec=\"Exodus 23:16\">clause</a> <span class=\"nd\">436063</span>  <span class=\"rela\">Adju</span> <span class=\"typ\">InfC</span>\n",
       "        </div>\n",
       "        <div class=\"atoms rtl \">\n",
       "                    <div class=\"patom   rtl \" >\n",
       "        <div class=\"phrase  rtl \" >\n",
       "            <a href=\"https://shebanq.ancient-data.org/hebrew/text?book=Exodus&amp;chapter=23&amp;verse=16&amp;version=c&amp;mr=m&amp;qw=q&amp;tp=txt_p&amp;tr=hb&amp;wget=v&amp;qget=v&amp;nget=vt\" title=\"Exodus 23:16\" sec=\"Exodus 23:16\">phrase</a> <span class=\"nd\">677209</span>  <span class=\"function\">PreS</span> <span class=\"typ\">VP</span>\n",
       "        </div>\n",
       "        <div class=\"atoms rtl \">\n",
       "                    <div class=\"word   rtl \" ><span class=\"nd\">41298</span><div class=\"h\"><a target=\"_blank\" href=\"https://shebanq.ancient-data.org/hebrew/word?version=c&amp;id=1B\" title=\"show this lexeme in SHEBANQ\">בְּ</a></div><div class=\"features\"> <span class=\"pdp\"><a href=\"https://shebanq.ancient-data.org/hebrew/text?book=Exodus&amp;chapter=23&amp;verse=16&amp;version=c&amp;mr=m&amp;qw=q&amp;tp=txt_p&amp;tr=hb&amp;wget=v&amp;qget=v&amp;nget=vt\" title=\"Exodus 23:16\" sec=\"Exodus 23:16\">prep</a></span> <span class=\"gloss\">in</span></div></div><div class=\"word   rtl \" ><span class=\"nd\">41299</span><div class=\"h\"><a target=\"_blank\" href=\"https://shebanq.ancient-data.org/hebrew/word?version=c&amp;id=1ASPv\" title=\"show this lexeme in SHEBANQ\">אָסְפְּךָ֥ </a></div><div class=\"features\"> <span class=\"pdp\"><a href=\"https://shebanq.ancient-data.org/hebrew/text?book=Exodus&amp;chapter=23&amp;verse=16&amp;version=c&amp;mr=m&amp;qw=q&amp;tp=txt_p&amp;tr=hb&amp;wget=v&amp;qget=v&amp;nget=vt\" title=\"Exodus 23:16\" sec=\"Exodus 23:16\">verb</a></span> <span class=\"gloss\">gather</span> <span class=\"vs\">qal</span> <span class=\"vt\">infc</span></div></div></div></div><div class=\"patom   rtl \" >\n",
       "        <div class=\"phrase  rtl \" >\n",
       "            <a href=\"https://shebanq.ancient-data.org/hebrew/text?book=Exodus&amp;chapter=23&amp;verse=16&amp;version=c&amp;mr=m&amp;qw=q&amp;tp=txt_p&amp;tr=hb&amp;wget=v&amp;qget=v&amp;nget=vt\" title=\"Exodus 23:16\" sec=\"Exodus 23:16\">phrase</a> <span class=\"nd\">677210</span>  <span class=\"function\">Objc</span> <span class=\"typ\">PP</span>\n",
       "        </div>\n",
       "        <div class=\"atoms rtl \">\n",
       "                    <div class=\"word   rtl \" ><span class=\"nd\">41300</span><div class=\"h\"><a target=\"_blank\" href=\"https://shebanq.ancient-data.org/hebrew/word?version=c&amp;id=1AT\" title=\"show this lexeme in SHEBANQ\">אֶֽת־</a></div><div class=\"features\"> <span class=\"pdp\"><a href=\"https://shebanq.ancient-data.org/hebrew/text?book=Exodus&amp;chapter=23&amp;verse=16&amp;version=c&amp;mr=m&amp;qw=q&amp;tp=txt_p&amp;tr=hb&amp;wget=v&amp;qget=v&amp;nget=vt\" title=\"Exodus 23:16\" sec=\"Exodus 23:16\">prep</a></span> <span class=\"gloss\">&lt;object marker></span></div></div><div class=\"word   rtl \" ><span class=\"nd\">41301</span><div class=\"h\"><a target=\"_blank\" href=\"https://shebanq.ancient-data.org/hebrew/word?version=c&amp;id=1MOFHn\" title=\"show this lexeme in SHEBANQ\">מַעֲשֶׂ֖יךָ </a></div><div class=\"features\"> <span class=\"pdp\"><a href=\"https://shebanq.ancient-data.org/hebrew/text?book=Exodus&amp;chapter=23&amp;verse=16&amp;version=c&amp;mr=m&amp;qw=q&amp;tp=txt_p&amp;tr=hb&amp;wget=v&amp;qget=v&amp;nget=vt\" title=\"Exodus 23:16\" sec=\"Exodus 23:16\">subs</a></span> <span class=\"gloss\">deed</span></div></div></div></div><div class=\"patom   rtl \" >\n",
       "        <div class=\"phrase  rtl \" >\n",
       "            <a href=\"https://shebanq.ancient-data.org/hebrew/text?book=Exodus&amp;chapter=23&amp;verse=16&amp;version=c&amp;mr=m&amp;qw=q&amp;tp=txt_p&amp;tr=hb&amp;wget=v&amp;qget=v&amp;nget=vt\" title=\"Exodus 23:16\" sec=\"Exodus 23:16\">phrase</a> <span class=\"nd\">677211</span>  <span class=\"function\">Loca</span> <span class=\"typ\">PP</span>\n",
       "        </div>\n",
       "        <div class=\"atoms rtl \">\n",
       "                    <div class=\"word   rtl \" ><span class=\"nd\">41302</span><div class=\"h\"><a target=\"_blank\" href=\"https://shebanq.ancient-data.org/hebrew/word?version=c&amp;id=1MN\" title=\"show this lexeme in SHEBANQ\">מִן־</a></div><div class=\"features\"> <span class=\"pdp\"><a href=\"https://shebanq.ancient-data.org/hebrew/text?book=Exodus&amp;chapter=23&amp;verse=16&amp;version=c&amp;mr=m&amp;qw=q&amp;tp=txt_p&amp;tr=hb&amp;wget=v&amp;qget=v&amp;nget=vt\" title=\"Exodus 23:16\" sec=\"Exodus 23:16\">prep</a></span> <span class=\"gloss\">from</span></div></div><div class=\"word   rtl \" ><span class=\"nd\">41303</span><div class=\"h\"><a target=\"_blank\" href=\"https://shebanq.ancient-data.org/hebrew/word?version=c&amp;id=1H\" title=\"show this lexeme in SHEBANQ\">הַ</a></div><div class=\"features\"> <span class=\"pdp\"><a href=\"https://shebanq.ancient-data.org/hebrew/text?book=Exodus&amp;chapter=23&amp;verse=16&amp;version=c&amp;mr=m&amp;qw=q&amp;tp=txt_p&amp;tr=hb&amp;wget=v&amp;qget=v&amp;nget=vt\" title=\"Exodus 23:16\" sec=\"Exodus 23:16\">art</a></span> <span class=\"gloss\">the</span></div></div><div class=\"word   rtl \" ><span class=\"nd\">41304</span><div class=\"h\"><a target=\"_blank\" href=\"https://shebanq.ancient-data.org/hebrew/word?version=c&amp;id=1FDHn\" title=\"show this lexeme in SHEBANQ\">שָּׂדֶֽה׃ </a></div><div class=\"features\"> <span class=\"pdp\"><a href=\"https://shebanq.ancient-data.org/hebrew/text?book=Exodus&amp;chapter=23&amp;verse=16&amp;version=c&amp;mr=m&amp;qw=q&amp;tp=txt_p&amp;tr=hb&amp;wget=v&amp;qget=v&amp;nget=vt\" title=\"Exodus 23:16\" sec=\"Exodus 23:16\">subs</a></span> <span class=\"gloss\">open field</span></div></div></div></div></div></div></div></div></div></div>"
      ],
      "text/plain": [
       "<IPython.core.display.HTML object>"
      ]
     },
     "metadata": {},
     "output_type": "display_data"
    }
   ],
   "source": [
    "A.show(results, start=10, end=12, withNodes=True)"
   ]
  },
  {
   "cell_type": "markdown",
   "metadata": {},
   "source": [
    "We can also package the results tuples in other things than verses, e.g. sentences, and at the same time cut off the displays at phrases:"
   ]
  },
  {
   "cell_type": "code",
   "execution_count": 48,
   "metadata": {
    "ExecuteTime": {
     "end_time": "2018-04-25T13:58:23.002898Z",
     "start_time": "2018-04-25T13:58:21.622054Z"
    }
   },
   "outputs": [
    {
     "data": {
      "text/html": [
       "<p><b>result</b> <i>10</i></p>"
      ],
      "text/plain": [
       "<IPython.core.display.HTML object>"
      ]
     },
     "metadata": {},
     "output_type": "display_data"
    },
    {
     "data": {
      "text/html": [
       "<a href=\"https://shebanq.ancient-data.org/hebrew/text?book=Exodus&amp;chapter=18&amp;verse=8&amp;version=c&amp;mr=m&amp;qw=q&amp;tp=txt_p&amp;tr=hb&amp;wget=v&amp;qget=v&amp;nget=vt\" title=\"show this passage in SHEBANQ\" sec=\"Exodus 18:8\">Exodus 18:8</a><div class=\"outeritem rtl \"><div class=\"atoms   rtl \" ><div class=\"satom   rtl \" >\n",
       "        <div class=\"sentence  rtl \" >\n",
       "            <a href=\"https://shebanq.ancient-data.org/hebrew/text?book=Exodus&amp;chapter=18&amp;verse=8&amp;version=c&amp;mr=m&amp;qw=q&amp;tp=txt_p&amp;tr=hb&amp;wget=v&amp;qget=v&amp;nget=vt\" title=\"Exodus 18:8\" sec=\"Exodus 18:8\">sentence</a> <span class=\"nd\">1178439</span>  <span class=\"number\">15|1542</span>\n",
       "        </div>\n",
       "        <div class=\"atoms rtl \">\n",
       "                    <div class=\"catom  hl rtl \" >\n",
       "        <div class=\"clause hl rtl \" >\n",
       "            <a href=\"https://shebanq.ancient-data.org/hebrew/text?book=Exodus&amp;chapter=18&amp;verse=8&amp;version=c&amp;mr=m&amp;qw=q&amp;tp=txt_p&amp;tr=hb&amp;wget=v&amp;qget=v&amp;nget=vt\" title=\"Exodus 18:8\" sec=\"Exodus 18:8\">clause</a> <span class=\"nd\">435507</span>  <span class=\"typ\">WayX</span>\n",
       "        </div>\n",
       "        <div class=\"atoms rtl \">\n",
       "                    <div class=\"patom   rtl \" >\n",
       "        <div class=\"phrase  rtl \" >\n",
       "            <a href=\"https://shebanq.ancient-data.org/hebrew/text?book=Exodus&amp;chapter=18&amp;verse=8&amp;version=c&amp;mr=m&amp;qw=q&amp;tp=txt_p&amp;tr=hb&amp;wget=v&amp;qget=v&amp;nget=vt\" title=\"Exodus 18:8\" sec=\"Exodus 18:8\">phrase</a> <span class=\"nd\">675471</span>  <span class=\"function\">Conj</span> <span class=\"typ\">CP</span>\n",
       "        </div>\n",
       "        <div class=\"atoms rtl \">\n",
       "                    <span class=\"plain outer  rtl \"><span class=\"plain rtl  \" ><span class=\"plain rtl  \" ><span class=\"h\">וַ</span></span></span></span></div></div><div class=\"patom  hl rtl \" >\n",
       "        <div class=\"phrase hl rtl \" >\n",
       "            <a href=\"https://shebanq.ancient-data.org/hebrew/text?book=Exodus&amp;chapter=18&amp;verse=8&amp;version=c&amp;mr=m&amp;qw=q&amp;tp=txt_p&amp;tr=hb&amp;wget=v&amp;qget=v&amp;nget=vt\" title=\"Exodus 18:8\" sec=\"Exodus 18:8\">phrase</a> <span class=\"nd\">675472</span>  <span class=\"function\">Pred</span> <span class=\"typ\">VP</span>\n",
       "        </div>\n",
       "        <div class=\"atoms rtl \">\n",
       "                    <span class=\"plain outer  rtl \"><span class=\"plain nd\">675472</span><span class=\"plain rtl  hl\" ><span class=\"plain nd\">675472</span><span class=\"plain rtl  \" ><span class=\"plain rtl  hlbx\" ><span class=\"h\">יְסַפֵּ֤ר </span><span class=\"plain nd\">38605</span></span></span></span></span></div></div><div class=\"patom   rtl \" >\n",
       "        <div class=\"phrase  rtl \" >\n",
       "            <a href=\"https://shebanq.ancient-data.org/hebrew/text?book=Exodus&amp;chapter=18&amp;verse=8&amp;version=c&amp;mr=m&amp;qw=q&amp;tp=txt_p&amp;tr=hb&amp;wget=v&amp;qget=v&amp;nget=vt\" title=\"Exodus 18:8\" sec=\"Exodus 18:8\">phrase</a> <span class=\"nd\">675473</span>  <span class=\"function\">Subj</span> <span class=\"typ\">PrNP</span>\n",
       "        </div>\n",
       "        <div class=\"atoms rtl \">\n",
       "                    <span class=\"plain outer  rtl \"><span class=\"plain rtl  \" ><span class=\"plain rtl  \" ><span class=\"h\">מֹשֶׁה֙ </span></span></span></span></div></div><div class=\"patom   rtl \" >\n",
       "        <div class=\"phrase  rtl \" >\n",
       "            <a href=\"https://shebanq.ancient-data.org/hebrew/text?book=Exodus&amp;chapter=18&amp;verse=8&amp;version=c&amp;mr=m&amp;qw=q&amp;tp=txt_p&amp;tr=hb&amp;wget=v&amp;qget=v&amp;nget=vt\" title=\"Exodus 18:8\" sec=\"Exodus 18:8\">phrase</a> <span class=\"nd\">675474</span>  <span class=\"function\">Cmpl</span> <span class=\"typ\">PP</span>\n",
       "        </div>\n",
       "        <div class=\"atoms rtl \">\n",
       "                    <span class=\"plain outer  rtl \"><span class=\"plain rtl  \" ><span class=\"plain rtl  \" ><span class=\"h\">לְ</span></span><span class=\"plain rtl  \" ><span class=\"h\">חֹ֣תְנֹ֔ו </span></span></span></span></div></div><div class=\"patom   rtl \" >\n",
       "        <div class=\"phrase  rtl \" >\n",
       "            <a href=\"https://shebanq.ancient-data.org/hebrew/text?book=Exodus&amp;chapter=18&amp;verse=8&amp;version=c&amp;mr=m&amp;qw=q&amp;tp=txt_p&amp;tr=hb&amp;wget=v&amp;qget=v&amp;nget=vt\" title=\"Exodus 18:8\" sec=\"Exodus 18:8\">phrase</a> <span class=\"nd\">675475</span>  <span class=\"function\">Objc</span> <span class=\"typ\">PP</span>\n",
       "        </div>\n",
       "        <div class=\"atoms rtl \">\n",
       "                    <span class=\"plain outer  rtl \"><span class=\"plain rtl  \" ><span class=\"plain rtl  \" ><span class=\"h\">אֵת֩ </span></span><span class=\"plain rtl  \" ><span class=\"h\">כָּל־</span></span></span></span></div></div></div></div><div class=\"catom  hl rtl \" >\n",
       "        <div class=\"clause hl rtl \" >\n",
       "            <a href=\"https://shebanq.ancient-data.org/hebrew/text?book=Exodus&amp;chapter=18&amp;verse=8&amp;version=c&amp;mr=m&amp;qw=q&amp;tp=txt_p&amp;tr=hb&amp;wget=v&amp;qget=v&amp;nget=vt\" title=\"Exodus 18:8\" sec=\"Exodus 18:8\">clause</a> <span class=\"nd\">435508</span>  <span class=\"rela\">RgRc</span> <span class=\"typ\">xQtX</span>\n",
       "        </div>\n",
       "        <div class=\"atoms rtl \">\n",
       "                    <div class=\"patom   rtl \" >\n",
       "        <div class=\"phrase  rtl \" >\n",
       "            <a href=\"https://shebanq.ancient-data.org/hebrew/text?book=Exodus&amp;chapter=18&amp;verse=8&amp;version=c&amp;mr=m&amp;qw=q&amp;tp=txt_p&amp;tr=hb&amp;wget=v&amp;qget=v&amp;nget=vt\" title=\"Exodus 18:8\" sec=\"Exodus 18:8\">phrase</a> <span class=\"nd\">675476</span>  <span class=\"function\">Rela</span> <span class=\"typ\">CP</span>\n",
       "        </div>\n",
       "        <div class=\"atoms rtl \">\n",
       "                    <span class=\"plain outer  rtl \"><span class=\"plain rtl  \" ><span class=\"plain rtl  \" ><span class=\"h\">אֲשֶׁ֨ר </span></span></span></span></div></div><div class=\"patom  hl rtl \" >\n",
       "        <div class=\"phrase hl rtl \" >\n",
       "            <a href=\"https://shebanq.ancient-data.org/hebrew/text?book=Exodus&amp;chapter=18&amp;verse=8&amp;version=c&amp;mr=m&amp;qw=q&amp;tp=txt_p&amp;tr=hb&amp;wget=v&amp;qget=v&amp;nget=vt\" title=\"Exodus 18:8\" sec=\"Exodus 18:8\">phrase</a> <span class=\"nd\">675477</span>  <span class=\"function\">Pred</span> <span class=\"typ\">VP</span>\n",
       "        </div>\n",
       "        <div class=\"atoms rtl \">\n",
       "                    <span class=\"plain outer  rtl \"><span class=\"plain nd\">675477</span><span class=\"plain rtl  hl\" ><span class=\"plain nd\">675477</span><span class=\"plain rtl  \" ><span class=\"plain rtl  \" ><span class=\"h\">עָשָׂ֤ה </span></span></span></span></span></div></div><div class=\"patom   rtl \" >\n",
       "        <div class=\"phrase  rtl \" >\n",
       "            <a href=\"https://shebanq.ancient-data.org/hebrew/text?book=Exodus&amp;chapter=18&amp;verse=8&amp;version=c&amp;mr=m&amp;qw=q&amp;tp=txt_p&amp;tr=hb&amp;wget=v&amp;qget=v&amp;nget=vt\" title=\"Exodus 18:8\" sec=\"Exodus 18:8\">phrase</a> <span class=\"nd\">675478</span>  <span class=\"function\">Subj</span> <span class=\"typ\">PrNP</span>\n",
       "        </div>\n",
       "        <div class=\"atoms rtl \">\n",
       "                    <span class=\"plain outer  rtl \"><span class=\"plain rtl  \" ><span class=\"plain rtl  \" ><span class=\"h\">יְהוָה֙ </span></span></span></span></div></div><div class=\"patom   rtl \" >\n",
       "        <div class=\"phrase  rtl \" >\n",
       "            <a href=\"https://shebanq.ancient-data.org/hebrew/text?book=Exodus&amp;chapter=18&amp;verse=8&amp;version=c&amp;mr=m&amp;qw=q&amp;tp=txt_p&amp;tr=hb&amp;wget=v&amp;qget=v&amp;nget=vt\" title=\"Exodus 18:8\" sec=\"Exodus 18:8\">phrase</a> <span class=\"nd\">675479</span>  <span class=\"function\">Cmpl</span> <span class=\"typ\">PP</span>\n",
       "        </div>\n",
       "        <div class=\"atoms rtl \">\n",
       "                    <span class=\"plain outer  rtl \"><span class=\"plain rtl  \" ><span class=\"plain rtl  \" ><span class=\"h\">לְ</span></span><span class=\"plain rtl  \" ><span class=\"h\">פַרְעֹ֣ה </span></span><span class=\"plain rtl  \" ><span class=\"h\">וּ</span></span><span class=\"plain rtl  \" ><span class=\"h\">לְ</span></span><span class=\"plain rtl  \" ><span class=\"h\">מִצְרַ֔יִם </span></span></span></span></div></div><div class=\"patom   rtl \" >\n",
       "        <div class=\"phrase  rtl \" >\n",
       "            <a href=\"https://shebanq.ancient-data.org/hebrew/text?book=Exodus&amp;chapter=18&amp;verse=8&amp;version=c&amp;mr=m&amp;qw=q&amp;tp=txt_p&amp;tr=hb&amp;wget=v&amp;qget=v&amp;nget=vt\" title=\"Exodus 18:8\" sec=\"Exodus 18:8\">phrase</a> <span class=\"nd\">675480</span>  <span class=\"function\">Adju</span> <span class=\"typ\">PP</span>\n",
       "        </div>\n",
       "        <div class=\"atoms rtl \">\n",
       "                    <span class=\"plain outer  rtl \"><span class=\"plain rtl  \" ><span class=\"plain rtl  \" ><span class=\"h\">עַ֖ל </span></span><span class=\"plain rtl  \" ><span class=\"h\">אֹודֹ֣ת </span></span><span class=\"plain rtl  \" ><span class=\"h\">יִשְׂרָאֵ֑ל </span></span></span></span></div></div></div></div><div class=\"catom  hl rtl \" >\n",
       "        <div class=\"clause hl rtl \" >\n",
       "            <a href=\"https://shebanq.ancient-data.org/hebrew/text?book=Exodus&amp;chapter=18&amp;verse=8&amp;version=c&amp;mr=m&amp;qw=q&amp;tp=txt_p&amp;tr=hb&amp;wget=v&amp;qget=v&amp;nget=vt\" title=\"Exodus 18:8\" sec=\"Exodus 18:8\">clause</a> <span class=\"nd\">435509</span>  <span class=\"typ\">Ellp</span>\n",
       "        </div>\n",
       "        <div class=\"atoms rtl \">\n",
       "                    <div class=\"patom  hl rtl \" >\n",
       "        <div class=\"phrase hl rtl \" >\n",
       "            <a href=\"https://shebanq.ancient-data.org/hebrew/text?book=Exodus&amp;chapter=18&amp;verse=8&amp;version=c&amp;mr=m&amp;qw=q&amp;tp=txt_p&amp;tr=hb&amp;wget=v&amp;qget=v&amp;nget=vt\" title=\"Exodus 18:8\" sec=\"Exodus 18:8\">phrase</a> <span class=\"nd\">675481</span>  <span class=\"function\">Objc</span> <span class=\"typ\">PP</span>\n",
       "        </div>\n",
       "        <div class=\"atoms rtl \">\n",
       "                    <span class=\"plain outer  rtl \"><span class=\"plain nd\">675481</span><span class=\"plain rtl  hl\" ><span class=\"plain nd\">675481</span><span class=\"plain rtl  \" ><span class=\"plain rtl  \" ><span class=\"h\">אֵ֤ת </span></span><span class=\"plain rtl  hlbx\" ><span class=\"h\">כָּל־</span><span class=\"plain nd\">38623</span></span><span class=\"plain rtl  \" ><span class=\"h\">הַ</span></span><span class=\"plain rtl  \" ><span class=\"h\">תְּלָאָה֙ </span></span></span></span></span></div></div></div></div><div class=\"catom   rtl \" >\n",
       "        <div class=\"clause  rtl \" >\n",
       "            <a href=\"https://shebanq.ancient-data.org/hebrew/text?book=Exodus&amp;chapter=18&amp;verse=8&amp;version=c&amp;mr=m&amp;qw=q&amp;tp=txt_p&amp;tr=hb&amp;wget=v&amp;qget=v&amp;nget=vt\" title=\"Exodus 18:8\" sec=\"Exodus 18:8\">clause</a> <span class=\"nd\">435510</span>  <span class=\"rela\">Attr</span> <span class=\"typ\">xQt0</span>\n",
       "        </div>\n",
       "        <div class=\"atoms rtl \">\n",
       "                    <div class=\"patom   rtl \" >\n",
       "        <div class=\"phrase  rtl \" >\n",
       "            <a href=\"https://shebanq.ancient-data.org/hebrew/text?book=Exodus&amp;chapter=18&amp;verse=8&amp;version=c&amp;mr=m&amp;qw=q&amp;tp=txt_p&amp;tr=hb&amp;wget=v&amp;qget=v&amp;nget=vt\" title=\"Exodus 18:8\" sec=\"Exodus 18:8\">phrase</a> <span class=\"nd\">675482</span>  <span class=\"function\">Rela</span> <span class=\"typ\">CP</span>\n",
       "        </div>\n",
       "        <div class=\"atoms rtl \">\n",
       "                    <span class=\"plain outer  rtl \"><span class=\"plain rtl  \" ><span class=\"plain rtl  \" ><span class=\"h\">אֲשֶׁ֣ר </span></span></span></span></div></div><div class=\"patom   rtl \" >\n",
       "        <div class=\"phrase  rtl \" >\n",
       "            <a href=\"https://shebanq.ancient-data.org/hebrew/text?book=Exodus&amp;chapter=18&amp;verse=8&amp;version=c&amp;mr=m&amp;qw=q&amp;tp=txt_p&amp;tr=hb&amp;wget=v&amp;qget=v&amp;nget=vt\" title=\"Exodus 18:8\" sec=\"Exodus 18:8\">phrase</a> <span class=\"nd\">675483</span>  <span class=\"function\">PreO</span> <span class=\"typ\">VP</span>\n",
       "        </div>\n",
       "        <div class=\"atoms rtl \">\n",
       "                    <span class=\"plain outer  rtl \"><span class=\"plain rtl  \" ><span class=\"plain rtl  \" ><span class=\"h\">מְצָאָ֣תַם </span></span></span></span></div></div><div class=\"patom   rtl \" >\n",
       "        <div class=\"phrase  rtl \" >\n",
       "            <a href=\"https://shebanq.ancient-data.org/hebrew/text?book=Exodus&amp;chapter=18&amp;verse=8&amp;version=c&amp;mr=m&amp;qw=q&amp;tp=txt_p&amp;tr=hb&amp;wget=v&amp;qget=v&amp;nget=vt\" title=\"Exodus 18:8\" sec=\"Exodus 18:8\">phrase</a> <span class=\"nd\">675484</span>  <span class=\"function\">Loca</span> <span class=\"typ\">PP</span>\n",
       "        </div>\n",
       "        <div class=\"atoms rtl \">\n",
       "                    <span class=\"plain outer  rtl \"><span class=\"plain rtl  \" ><span class=\"plain rtl  \" ><span class=\"h\">בַּ</span></span><span class=\"plain rtl  \" ><span class=\"h\"></span></span><span class=\"plain rtl  \" ><span class=\"h\">דֶּ֔רֶךְ </span></span></span></span></div></div></div></div><div class=\"catom   rtl \" >\n",
       "        <div class=\"clause  rtl \" >\n",
       "            <a href=\"https://shebanq.ancient-data.org/hebrew/text?book=Exodus&amp;chapter=18&amp;verse=8&amp;version=c&amp;mr=m&amp;qw=q&amp;tp=txt_p&amp;tr=hb&amp;wget=v&amp;qget=v&amp;nget=vt\" title=\"Exodus 18:8\" sec=\"Exodus 18:8\">clause</a> <span class=\"nd\">435511</span>  <span class=\"rela\">Coor</span> <span class=\"typ\">WayX</span>\n",
       "        </div>\n",
       "        <div class=\"atoms rtl \">\n",
       "                    <div class=\"patom   rtl \" >\n",
       "        <div class=\"phrase  rtl \" >\n",
       "            <a href=\"https://shebanq.ancient-data.org/hebrew/text?book=Exodus&amp;chapter=18&amp;verse=8&amp;version=c&amp;mr=m&amp;qw=q&amp;tp=txt_p&amp;tr=hb&amp;wget=v&amp;qget=v&amp;nget=vt\" title=\"Exodus 18:8\" sec=\"Exodus 18:8\">phrase</a> <span class=\"nd\">675485</span>  <span class=\"function\">Conj</span> <span class=\"typ\">CP</span>\n",
       "        </div>\n",
       "        <div class=\"atoms rtl \">\n",
       "                    <span class=\"plain outer  rtl \"><span class=\"plain rtl  \" ><span class=\"plain rtl  \" ><span class=\"h\">וַ</span></span></span></span></div></div><div class=\"patom   rtl \" >\n",
       "        <div class=\"phrase  rtl \" >\n",
       "            <a href=\"https://shebanq.ancient-data.org/hebrew/text?book=Exodus&amp;chapter=18&amp;verse=8&amp;version=c&amp;mr=m&amp;qw=q&amp;tp=txt_p&amp;tr=hb&amp;wget=v&amp;qget=v&amp;nget=vt\" title=\"Exodus 18:8\" sec=\"Exodus 18:8\">phrase</a> <span class=\"nd\">675486</span>  <span class=\"function\">PreO</span> <span class=\"typ\">VP</span>\n",
       "        </div>\n",
       "        <div class=\"atoms rtl \">\n",
       "                    <span class=\"plain outer  rtl \"><span class=\"plain rtl  \" ><span class=\"plain rtl  \" ><span class=\"h\">יַּצִּלֵ֖ם </span></span></span></span></div></div><div class=\"patom   rtl \" >\n",
       "        <div class=\"phrase  rtl \" >\n",
       "            <a href=\"https://shebanq.ancient-data.org/hebrew/text?book=Exodus&amp;chapter=18&amp;verse=8&amp;version=c&amp;mr=m&amp;qw=q&amp;tp=txt_p&amp;tr=hb&amp;wget=v&amp;qget=v&amp;nget=vt\" title=\"Exodus 18:8\" sec=\"Exodus 18:8\">phrase</a> <span class=\"nd\">675487</span>  <span class=\"function\">Subj</span> <span class=\"typ\">PrNP</span>\n",
       "        </div>\n",
       "        <div class=\"atoms rtl \">\n",
       "                    <span class=\"plain outer  rtl \"><span class=\"plain rtl  \" ><span class=\"plain rtl  \" ><span class=\"h\">יְהוָֽה׃ </span></span></span></span></div></div></div></div></div></div></div></div>"
      ],
      "text/plain": [
       "<IPython.core.display.HTML object>"
      ]
     },
     "metadata": {},
     "output_type": "display_data"
    },
    {
     "data": {
      "text/html": [
       "<p><b>result</b> <i>11</i></p>"
      ],
      "text/plain": [
       "<IPython.core.display.HTML object>"
      ]
     },
     "metadata": {},
     "output_type": "display_data"
    },
    {
     "data": {
      "text/html": [
       "<a href=\"https://shebanq.ancient-data.org/hebrew/text?book=Exodus&amp;chapter=18&amp;verse=8&amp;version=c&amp;mr=m&amp;qw=q&amp;tp=txt_p&amp;tr=hb&amp;wget=v&amp;qget=v&amp;nget=vt\" title=\"show this passage in SHEBANQ\" sec=\"Exodus 18:8\">Exodus 18:8</a><div class=\"outeritem rtl \"><div class=\"atoms   rtl \" ><div class=\"satom   rtl \" >\n",
       "        <div class=\"sentence  rtl \" >\n",
       "            <a href=\"https://shebanq.ancient-data.org/hebrew/text?book=Exodus&amp;chapter=18&amp;verse=8&amp;version=c&amp;mr=m&amp;qw=q&amp;tp=txt_p&amp;tr=hb&amp;wget=v&amp;qget=v&amp;nget=vt\" title=\"Exodus 18:8\" sec=\"Exodus 18:8\">sentence</a> <span class=\"nd\">1178439</span>  <span class=\"number\">15|1542</span>\n",
       "        </div>\n",
       "        <div class=\"atoms rtl \">\n",
       "                    <div class=\"catom  hl rtl \" >\n",
       "        <div class=\"clause hl rtl \" >\n",
       "            <a href=\"https://shebanq.ancient-data.org/hebrew/text?book=Exodus&amp;chapter=18&amp;verse=8&amp;version=c&amp;mr=m&amp;qw=q&amp;tp=txt_p&amp;tr=hb&amp;wget=v&amp;qget=v&amp;nget=vt\" title=\"Exodus 18:8\" sec=\"Exodus 18:8\">clause</a> <span class=\"nd\">435507</span>  <span class=\"typ\">WayX</span>\n",
       "        </div>\n",
       "        <div class=\"atoms rtl \">\n",
       "                    <div class=\"patom   rtl \" >\n",
       "        <div class=\"phrase  rtl \" >\n",
       "            <a href=\"https://shebanq.ancient-data.org/hebrew/text?book=Exodus&amp;chapter=18&amp;verse=8&amp;version=c&amp;mr=m&amp;qw=q&amp;tp=txt_p&amp;tr=hb&amp;wget=v&amp;qget=v&amp;nget=vt\" title=\"Exodus 18:8\" sec=\"Exodus 18:8\">phrase</a> <span class=\"nd\">675471</span>  <span class=\"function\">Conj</span> <span class=\"typ\">CP</span>\n",
       "        </div>\n",
       "        <div class=\"atoms rtl \">\n",
       "                    <span class=\"plain outer  rtl \"><span class=\"plain rtl  \" ><span class=\"plain rtl  \" ><span class=\"h\">וַ</span></span></span></span></div></div><div class=\"patom  hl rtl \" >\n",
       "        <div class=\"phrase hl rtl \" >\n",
       "            <a href=\"https://shebanq.ancient-data.org/hebrew/text?book=Exodus&amp;chapter=18&amp;verse=8&amp;version=c&amp;mr=m&amp;qw=q&amp;tp=txt_p&amp;tr=hb&amp;wget=v&amp;qget=v&amp;nget=vt\" title=\"Exodus 18:8\" sec=\"Exodus 18:8\">phrase</a> <span class=\"nd\">675472</span>  <span class=\"function\">Pred</span> <span class=\"typ\">VP</span>\n",
       "        </div>\n",
       "        <div class=\"atoms rtl \">\n",
       "                    <span class=\"plain outer  rtl \"><span class=\"plain nd\">675472</span><span class=\"plain rtl  hl\" ><span class=\"plain nd\">675472</span><span class=\"plain rtl  \" ><span class=\"plain rtl  hlbx\" ><span class=\"h\">יְסַפֵּ֤ר </span><span class=\"plain nd\">38605</span></span></span></span></span></div></div><div class=\"patom   rtl \" >\n",
       "        <div class=\"phrase  rtl \" >\n",
       "            <a href=\"https://shebanq.ancient-data.org/hebrew/text?book=Exodus&amp;chapter=18&amp;verse=8&amp;version=c&amp;mr=m&amp;qw=q&amp;tp=txt_p&amp;tr=hb&amp;wget=v&amp;qget=v&amp;nget=vt\" title=\"Exodus 18:8\" sec=\"Exodus 18:8\">phrase</a> <span class=\"nd\">675473</span>  <span class=\"function\">Subj</span> <span class=\"typ\">PrNP</span>\n",
       "        </div>\n",
       "        <div class=\"atoms rtl \">\n",
       "                    <span class=\"plain outer  rtl \"><span class=\"plain rtl  \" ><span class=\"plain rtl  \" ><span class=\"h\">מֹשֶׁה֙ </span></span></span></span></div></div><div class=\"patom   rtl \" >\n",
       "        <div class=\"phrase  rtl \" >\n",
       "            <a href=\"https://shebanq.ancient-data.org/hebrew/text?book=Exodus&amp;chapter=18&amp;verse=8&amp;version=c&amp;mr=m&amp;qw=q&amp;tp=txt_p&amp;tr=hb&amp;wget=v&amp;qget=v&amp;nget=vt\" title=\"Exodus 18:8\" sec=\"Exodus 18:8\">phrase</a> <span class=\"nd\">675474</span>  <span class=\"function\">Cmpl</span> <span class=\"typ\">PP</span>\n",
       "        </div>\n",
       "        <div class=\"atoms rtl \">\n",
       "                    <span class=\"plain outer  rtl \"><span class=\"plain rtl  \" ><span class=\"plain rtl  \" ><span class=\"h\">לְ</span></span><span class=\"plain rtl  \" ><span class=\"h\">חֹ֣תְנֹ֔ו </span></span></span></span></div></div><div class=\"patom   rtl \" >\n",
       "        <div class=\"phrase  rtl \" >\n",
       "            <a href=\"https://shebanq.ancient-data.org/hebrew/text?book=Exodus&amp;chapter=18&amp;verse=8&amp;version=c&amp;mr=m&amp;qw=q&amp;tp=txt_p&amp;tr=hb&amp;wget=v&amp;qget=v&amp;nget=vt\" title=\"Exodus 18:8\" sec=\"Exodus 18:8\">phrase</a> <span class=\"nd\">675475</span>  <span class=\"function\">Objc</span> <span class=\"typ\">PP</span>\n",
       "        </div>\n",
       "        <div class=\"atoms rtl \">\n",
       "                    <span class=\"plain outer  rtl \"><span class=\"plain rtl  \" ><span class=\"plain rtl  \" ><span class=\"h\">אֵת֩ </span></span><span class=\"plain rtl  \" ><span class=\"h\">כָּל־</span></span></span></span></div></div></div></div><div class=\"catom  hl rtl \" >\n",
       "        <div class=\"clause hl rtl \" >\n",
       "            <a href=\"https://shebanq.ancient-data.org/hebrew/text?book=Exodus&amp;chapter=18&amp;verse=8&amp;version=c&amp;mr=m&amp;qw=q&amp;tp=txt_p&amp;tr=hb&amp;wget=v&amp;qget=v&amp;nget=vt\" title=\"Exodus 18:8\" sec=\"Exodus 18:8\">clause</a> <span class=\"nd\">435508</span>  <span class=\"rela\">RgRc</span> <span class=\"typ\">xQtX</span>\n",
       "        </div>\n",
       "        <div class=\"atoms rtl \">\n",
       "                    <div class=\"patom   rtl \" >\n",
       "        <div class=\"phrase  rtl \" >\n",
       "            <a href=\"https://shebanq.ancient-data.org/hebrew/text?book=Exodus&amp;chapter=18&amp;verse=8&amp;version=c&amp;mr=m&amp;qw=q&amp;tp=txt_p&amp;tr=hb&amp;wget=v&amp;qget=v&amp;nget=vt\" title=\"Exodus 18:8\" sec=\"Exodus 18:8\">phrase</a> <span class=\"nd\">675476</span>  <span class=\"function\">Rela</span> <span class=\"typ\">CP</span>\n",
       "        </div>\n",
       "        <div class=\"atoms rtl \">\n",
       "                    <span class=\"plain outer  rtl \"><span class=\"plain rtl  \" ><span class=\"plain rtl  \" ><span class=\"h\">אֲשֶׁ֨ר </span></span></span></span></div></div><div class=\"patom  hl rtl \" >\n",
       "        <div class=\"phrase hl rtl \" >\n",
       "            <a href=\"https://shebanq.ancient-data.org/hebrew/text?book=Exodus&amp;chapter=18&amp;verse=8&amp;version=c&amp;mr=m&amp;qw=q&amp;tp=txt_p&amp;tr=hb&amp;wget=v&amp;qget=v&amp;nget=vt\" title=\"Exodus 18:8\" sec=\"Exodus 18:8\">phrase</a> <span class=\"nd\">675477</span>  <span class=\"function\">Pred</span> <span class=\"typ\">VP</span>\n",
       "        </div>\n",
       "        <div class=\"atoms rtl \">\n",
       "                    <span class=\"plain outer  rtl \"><span class=\"plain nd\">675477</span><span class=\"plain rtl  hl\" ><span class=\"plain nd\">675477</span><span class=\"plain rtl  \" ><span class=\"plain rtl  \" ><span class=\"h\">עָשָׂ֤ה </span></span></span></span></span></div></div><div class=\"patom   rtl \" >\n",
       "        <div class=\"phrase  rtl \" >\n",
       "            <a href=\"https://shebanq.ancient-data.org/hebrew/text?book=Exodus&amp;chapter=18&amp;verse=8&amp;version=c&amp;mr=m&amp;qw=q&amp;tp=txt_p&amp;tr=hb&amp;wget=v&amp;qget=v&amp;nget=vt\" title=\"Exodus 18:8\" sec=\"Exodus 18:8\">phrase</a> <span class=\"nd\">675478</span>  <span class=\"function\">Subj</span> <span class=\"typ\">PrNP</span>\n",
       "        </div>\n",
       "        <div class=\"atoms rtl \">\n",
       "                    <span class=\"plain outer  rtl \"><span class=\"plain rtl  \" ><span class=\"plain rtl  \" ><span class=\"h\">יְהוָה֙ </span></span></span></span></div></div><div class=\"patom   rtl \" >\n",
       "        <div class=\"phrase  rtl \" >\n",
       "            <a href=\"https://shebanq.ancient-data.org/hebrew/text?book=Exodus&amp;chapter=18&amp;verse=8&amp;version=c&amp;mr=m&amp;qw=q&amp;tp=txt_p&amp;tr=hb&amp;wget=v&amp;qget=v&amp;nget=vt\" title=\"Exodus 18:8\" sec=\"Exodus 18:8\">phrase</a> <span class=\"nd\">675479</span>  <span class=\"function\">Cmpl</span> <span class=\"typ\">PP</span>\n",
       "        </div>\n",
       "        <div class=\"atoms rtl \">\n",
       "                    <span class=\"plain outer  rtl \"><span class=\"plain rtl  \" ><span class=\"plain rtl  \" ><span class=\"h\">לְ</span></span><span class=\"plain rtl  \" ><span class=\"h\">פַרְעֹ֣ה </span></span><span class=\"plain rtl  \" ><span class=\"h\">וּ</span></span><span class=\"plain rtl  \" ><span class=\"h\">לְ</span></span><span class=\"plain rtl  \" ><span class=\"h\">מִצְרַ֔יִם </span></span></span></span></div></div><div class=\"patom   rtl \" >\n",
       "        <div class=\"phrase  rtl \" >\n",
       "            <a href=\"https://shebanq.ancient-data.org/hebrew/text?book=Exodus&amp;chapter=18&amp;verse=8&amp;version=c&amp;mr=m&amp;qw=q&amp;tp=txt_p&amp;tr=hb&amp;wget=v&amp;qget=v&amp;nget=vt\" title=\"Exodus 18:8\" sec=\"Exodus 18:8\">phrase</a> <span class=\"nd\">675480</span>  <span class=\"function\">Adju</span> <span class=\"typ\">PP</span>\n",
       "        </div>\n",
       "        <div class=\"atoms rtl \">\n",
       "                    <span class=\"plain outer  rtl \"><span class=\"plain rtl  \" ><span class=\"plain rtl  \" ><span class=\"h\">עַ֖ל </span></span><span class=\"plain rtl  \" ><span class=\"h\">אֹודֹ֣ת </span></span><span class=\"plain rtl  \" ><span class=\"h\">יִשְׂרָאֵ֑ל </span></span></span></span></div></div></div></div><div class=\"catom  hl rtl \" >\n",
       "        <div class=\"clause hl rtl \" >\n",
       "            <a href=\"https://shebanq.ancient-data.org/hebrew/text?book=Exodus&amp;chapter=18&amp;verse=8&amp;version=c&amp;mr=m&amp;qw=q&amp;tp=txt_p&amp;tr=hb&amp;wget=v&amp;qget=v&amp;nget=vt\" title=\"Exodus 18:8\" sec=\"Exodus 18:8\">clause</a> <span class=\"nd\">435509</span>  <span class=\"typ\">Ellp</span>\n",
       "        </div>\n",
       "        <div class=\"atoms rtl \">\n",
       "                    <div class=\"patom  hl rtl \" >\n",
       "        <div class=\"phrase hl rtl \" >\n",
       "            <a href=\"https://shebanq.ancient-data.org/hebrew/text?book=Exodus&amp;chapter=18&amp;verse=8&amp;version=c&amp;mr=m&amp;qw=q&amp;tp=txt_p&amp;tr=hb&amp;wget=v&amp;qget=v&amp;nget=vt\" title=\"Exodus 18:8\" sec=\"Exodus 18:8\">phrase</a> <span class=\"nd\">675481</span>  <span class=\"function\">Objc</span> <span class=\"typ\">PP</span>\n",
       "        </div>\n",
       "        <div class=\"atoms rtl \">\n",
       "                    <span class=\"plain outer  rtl \"><span class=\"plain nd\">675481</span><span class=\"plain rtl  hl\" ><span class=\"plain nd\">675481</span><span class=\"plain rtl  \" ><span class=\"plain rtl  \" ><span class=\"h\">אֵ֤ת </span></span><span class=\"plain rtl  \" ><span class=\"h\">כָּל־</span></span><span class=\"plain rtl  \" ><span class=\"h\">הַ</span></span><span class=\"plain rtl  hlbx\" ><span class=\"h\">תְּלָאָה֙ </span><span class=\"plain nd\">38625</span></span></span></span></span></div></div></div></div><div class=\"catom   rtl \" >\n",
       "        <div class=\"clause  rtl \" >\n",
       "            <a href=\"https://shebanq.ancient-data.org/hebrew/text?book=Exodus&amp;chapter=18&amp;verse=8&amp;version=c&amp;mr=m&amp;qw=q&amp;tp=txt_p&amp;tr=hb&amp;wget=v&amp;qget=v&amp;nget=vt\" title=\"Exodus 18:8\" sec=\"Exodus 18:8\">clause</a> <span class=\"nd\">435510</span>  <span class=\"rela\">Attr</span> <span class=\"typ\">xQt0</span>\n",
       "        </div>\n",
       "        <div class=\"atoms rtl \">\n",
       "                    <div class=\"patom   rtl \" >\n",
       "        <div class=\"phrase  rtl \" >\n",
       "            <a href=\"https://shebanq.ancient-data.org/hebrew/text?book=Exodus&amp;chapter=18&amp;verse=8&amp;version=c&amp;mr=m&amp;qw=q&amp;tp=txt_p&amp;tr=hb&amp;wget=v&amp;qget=v&amp;nget=vt\" title=\"Exodus 18:8\" sec=\"Exodus 18:8\">phrase</a> <span class=\"nd\">675482</span>  <span class=\"function\">Rela</span> <span class=\"typ\">CP</span>\n",
       "        </div>\n",
       "        <div class=\"atoms rtl \">\n",
       "                    <span class=\"plain outer  rtl \"><span class=\"plain rtl  \" ><span class=\"plain rtl  \" ><span class=\"h\">אֲשֶׁ֣ר </span></span></span></span></div></div><div class=\"patom   rtl \" >\n",
       "        <div class=\"phrase  rtl \" >\n",
       "            <a href=\"https://shebanq.ancient-data.org/hebrew/text?book=Exodus&amp;chapter=18&amp;verse=8&amp;version=c&amp;mr=m&amp;qw=q&amp;tp=txt_p&amp;tr=hb&amp;wget=v&amp;qget=v&amp;nget=vt\" title=\"Exodus 18:8\" sec=\"Exodus 18:8\">phrase</a> <span class=\"nd\">675483</span>  <span class=\"function\">PreO</span> <span class=\"typ\">VP</span>\n",
       "        </div>\n",
       "        <div class=\"atoms rtl \">\n",
       "                    <span class=\"plain outer  rtl \"><span class=\"plain rtl  \" ><span class=\"plain rtl  \" ><span class=\"h\">מְצָאָ֣תַם </span></span></span></span></div></div><div class=\"patom   rtl \" >\n",
       "        <div class=\"phrase  rtl \" >\n",
       "            <a href=\"https://shebanq.ancient-data.org/hebrew/text?book=Exodus&amp;chapter=18&amp;verse=8&amp;version=c&amp;mr=m&amp;qw=q&amp;tp=txt_p&amp;tr=hb&amp;wget=v&amp;qget=v&amp;nget=vt\" title=\"Exodus 18:8\" sec=\"Exodus 18:8\">phrase</a> <span class=\"nd\">675484</span>  <span class=\"function\">Loca</span> <span class=\"typ\">PP</span>\n",
       "        </div>\n",
       "        <div class=\"atoms rtl \">\n",
       "                    <span class=\"plain outer  rtl \"><span class=\"plain rtl  \" ><span class=\"plain rtl  \" ><span class=\"h\">בַּ</span></span><span class=\"plain rtl  \" ><span class=\"h\"></span></span><span class=\"plain rtl  \" ><span class=\"h\">דֶּ֔רֶךְ </span></span></span></span></div></div></div></div><div class=\"catom   rtl \" >\n",
       "        <div class=\"clause  rtl \" >\n",
       "            <a href=\"https://shebanq.ancient-data.org/hebrew/text?book=Exodus&amp;chapter=18&amp;verse=8&amp;version=c&amp;mr=m&amp;qw=q&amp;tp=txt_p&amp;tr=hb&amp;wget=v&amp;qget=v&amp;nget=vt\" title=\"Exodus 18:8\" sec=\"Exodus 18:8\">clause</a> <span class=\"nd\">435511</span>  <span class=\"rela\">Coor</span> <span class=\"typ\">WayX</span>\n",
       "        </div>\n",
       "        <div class=\"atoms rtl \">\n",
       "                    <div class=\"patom   rtl \" >\n",
       "        <div class=\"phrase  rtl \" >\n",
       "            <a href=\"https://shebanq.ancient-data.org/hebrew/text?book=Exodus&amp;chapter=18&amp;verse=8&amp;version=c&amp;mr=m&amp;qw=q&amp;tp=txt_p&amp;tr=hb&amp;wget=v&amp;qget=v&amp;nget=vt\" title=\"Exodus 18:8\" sec=\"Exodus 18:8\">phrase</a> <span class=\"nd\">675485</span>  <span class=\"function\">Conj</span> <span class=\"typ\">CP</span>\n",
       "        </div>\n",
       "        <div class=\"atoms rtl \">\n",
       "                    <span class=\"plain outer  rtl \"><span class=\"plain rtl  \" ><span class=\"plain rtl  \" ><span class=\"h\">וַ</span></span></span></span></div></div><div class=\"patom   rtl \" >\n",
       "        <div class=\"phrase  rtl \" >\n",
       "            <a href=\"https://shebanq.ancient-data.org/hebrew/text?book=Exodus&amp;chapter=18&amp;verse=8&amp;version=c&amp;mr=m&amp;qw=q&amp;tp=txt_p&amp;tr=hb&amp;wget=v&amp;qget=v&amp;nget=vt\" title=\"Exodus 18:8\" sec=\"Exodus 18:8\">phrase</a> <span class=\"nd\">675486</span>  <span class=\"function\">PreO</span> <span class=\"typ\">VP</span>\n",
       "        </div>\n",
       "        <div class=\"atoms rtl \">\n",
       "                    <span class=\"plain outer  rtl \"><span class=\"plain rtl  \" ><span class=\"plain rtl  \" ><span class=\"h\">יַּצִּלֵ֖ם </span></span></span></span></div></div><div class=\"patom   rtl \" >\n",
       "        <div class=\"phrase  rtl \" >\n",
       "            <a href=\"https://shebanq.ancient-data.org/hebrew/text?book=Exodus&amp;chapter=18&amp;verse=8&amp;version=c&amp;mr=m&amp;qw=q&amp;tp=txt_p&amp;tr=hb&amp;wget=v&amp;qget=v&amp;nget=vt\" title=\"Exodus 18:8\" sec=\"Exodus 18:8\">phrase</a> <span class=\"nd\">675487</span>  <span class=\"function\">Subj</span> <span class=\"typ\">PrNP</span>\n",
       "        </div>\n",
       "        <div class=\"atoms rtl \">\n",
       "                    <span class=\"plain outer  rtl \"><span class=\"plain rtl  \" ><span class=\"plain rtl  \" ><span class=\"h\">יְהוָֽה׃ </span></span></span></span></div></div></div></div></div></div></div></div>"
      ],
      "text/plain": [
       "<IPython.core.display.HTML object>"
      ]
     },
     "metadata": {},
     "output_type": "display_data"
    },
    {
     "data": {
      "text/html": [
       "<p><b>result</b> <i>12</i></p>"
      ],
      "text/plain": [
       "<IPython.core.display.HTML object>"
      ]
     },
     "metadata": {},
     "output_type": "display_data"
    },
    {
     "data": {
      "text/html": [
       "<a href=\"https://shebanq.ancient-data.org/hebrew/text?book=Exodus&amp;chapter=23&amp;verse=15&amp;version=c&amp;mr=m&amp;qw=q&amp;tp=txt_p&amp;tr=hb&amp;wget=v&amp;qget=v&amp;nget=vt\" title=\"show this passage in SHEBANQ\" sec=\"Exodus 23:15\">Exodus 23:15</a><div class=\"outeritem rtl \"><div class=\"atoms   rtl \" ><div class=\"satom  l  rtl \" >\n",
       "        <div class=\"sentence  rtl \" >\n",
       "            <a href=\"https://shebanq.ancient-data.org/hebrew/text?book=Exodus&amp;chapter=23&amp;verse=15&amp;version=c&amp;mr=m&amp;qw=q&amp;tp=txt_p&amp;tr=hb&amp;wget=v&amp;qget=v&amp;nget=vt\" title=\"Exodus 23:15\" sec=\"Exodus 23:15\">sentence</a> <span class=\"nd\">1178876</span>  <span class=\"number\">36|1979</span>\n",
       "        </div>\n",
       "        <div class=\"atoms rtl \">\n",
       "                    <div class=\"catom  hl rtl \" >\n",
       "        <div class=\"clause hl rtl \" >\n",
       "            <a href=\"https://shebanq.ancient-data.org/hebrew/text?book=Exodus&amp;chapter=23&amp;verse=15&amp;version=c&amp;mr=m&amp;qw=q&amp;tp=txt_p&amp;tr=hb&amp;wget=v&amp;qget=v&amp;nget=vt\" title=\"Exodus 23:15\" sec=\"Exodus 23:15\">clause</a> <span class=\"nd\">436054</span>  <span class=\"typ\">xYq0</span>\n",
       "        </div>\n",
       "        <div class=\"atoms rtl \">\n",
       "                    <div class=\"patom   rtl \" >\n",
       "        <div class=\"phrase  rtl \" >\n",
       "            <a href=\"https://shebanq.ancient-data.org/hebrew/text?book=Exodus&amp;chapter=23&amp;verse=15&amp;version=c&amp;mr=m&amp;qw=q&amp;tp=txt_p&amp;tr=hb&amp;wget=v&amp;qget=v&amp;nget=vt\" title=\"Exodus 23:15\" sec=\"Exodus 23:15\">phrase</a> <span class=\"nd\">677181</span>  <span class=\"function\">Objc</span> <span class=\"typ\">PP</span>\n",
       "        </div>\n",
       "        <div class=\"atoms rtl \">\n",
       "                    <span class=\"plain outer  rtl \"><span class=\"plain rtl  \" ><span class=\"plain rtl  \" ><span class=\"h\">אֶת־</span></span><span class=\"plain rtl  \" ><span class=\"h\">חַ֣ג </span></span><span class=\"plain rtl  \" ><span class=\"h\">הַ</span></span><span class=\"plain rtl  \" ><span class=\"h\">מַּצֹּות֮ </span></span></span></span></div></div><div class=\"patom  hl rtl \" >\n",
       "        <div class=\"phrase hl rtl \" >\n",
       "            <a href=\"https://shebanq.ancient-data.org/hebrew/text?book=Exodus&amp;chapter=23&amp;verse=15&amp;version=c&amp;mr=m&amp;qw=q&amp;tp=txt_p&amp;tr=hb&amp;wget=v&amp;qget=v&amp;nget=vt\" title=\"Exodus 23:15\" sec=\"Exodus 23:15\">phrase</a> <span class=\"nd\">677182</span>  <span class=\"function\">Pred</span> <span class=\"typ\">VP</span>\n",
       "        </div>\n",
       "        <div class=\"atoms rtl \">\n",
       "                    <span class=\"plain outer  rtl \"><span class=\"plain nd\">677182</span><span class=\"plain rtl  hl\" ><span class=\"plain nd\">677182</span><span class=\"plain rtl  \" ><span class=\"plain rtl  hlbx\" ><span class=\"h\">תִּשְׁמֹר֒ </span><span class=\"plain nd\">41256</span></span></span></span></span></div></div></div></div></div></div><div class=\"satom  r  rtl \" >\n",
       "        <div class=\"sentence  rtl \" >\n",
       "            <a href=\"https://shebanq.ancient-data.org/hebrew/text?book=Exodus&amp;chapter=23&amp;verse=15&amp;version=c&amp;mr=m&amp;qw=q&amp;tp=txt_p&amp;tr=hb&amp;wget=v&amp;qget=v&amp;nget=vt\" title=\"Exodus 23:15\" sec=\"Exodus 23:15\">sentence</a> <span class=\"nd\">1178876</span>  <span class=\"number\">36|1983</span>\n",
       "        </div>\n",
       "        <div class=\"atoms rtl \">\n",
       "                    <div class=\"catom   rtl \" >\n",
       "        <div class=\"clause  rtl \" >\n",
       "            <a href=\"https://shebanq.ancient-data.org/hebrew/text?book=Exodus&amp;chapter=23&amp;verse=16&amp;version=c&amp;mr=m&amp;qw=q&amp;tp=txt_p&amp;tr=hb&amp;wget=v&amp;qget=v&amp;nget=vt\" title=\"Exodus 23:16\" sec=\"Exodus 23:16\">clause</a> <span class=\"nd\">436059</span>  <span class=\"typ\">Ellp</span>\n",
       "        </div>\n",
       "        <div class=\"atoms rtl \">\n",
       "                    <div class=\"patom   rtl \" >\n",
       "        <div class=\"phrase  rtl \" >\n",
       "            <a href=\"https://shebanq.ancient-data.org/hebrew/text?book=Exodus&amp;chapter=23&amp;verse=16&amp;version=c&amp;mr=m&amp;qw=q&amp;tp=txt_p&amp;tr=hb&amp;wget=v&amp;qget=v&amp;nget=vt\" title=\"Exodus 23:16\" sec=\"Exodus 23:16\">phrase</a> <span class=\"nd\">677199</span>  <span class=\"function\">Conj</span> <span class=\"typ\">CP</span>\n",
       "        </div>\n",
       "        <div class=\"atoms rtl \">\n",
       "                    <span class=\"plain outer  rtl \"><span class=\"plain rtl  \" ><span class=\"plain rtl  \" ><span class=\"h\">וְ</span></span></span></span></div></div><div class=\"patom   rtl \" >\n",
       "        <div class=\"phrase  rtl \" >\n",
       "            <a href=\"https://shebanq.ancient-data.org/hebrew/text?book=Exodus&amp;chapter=23&amp;verse=16&amp;version=c&amp;mr=m&amp;qw=q&amp;tp=txt_p&amp;tr=hb&amp;wget=v&amp;qget=v&amp;nget=vt\" title=\"Exodus 23:16\" sec=\"Exodus 23:16\">phrase</a> <span class=\"nd\">677200</span>  <span class=\"function\">Objc</span> <span class=\"typ\">NP</span>\n",
       "        </div>\n",
       "        <div class=\"atoms rtl \">\n",
       "                    <span class=\"plain outer  rtl \"><span class=\"plain rtl  \" ><span class=\"plain rtl  \" ><span class=\"h\">חַ֤ג </span></span><span class=\"plain rtl  \" ><span class=\"h\">הַ</span></span><span class=\"plain rtl  \" ><span class=\"h\">קָּצִיר֙ </span></span></span></span></div></div><div class=\"patom   rtl \" >\n",
       "        <div class=\"phrase  rtl \" >\n",
       "            <a href=\"https://shebanq.ancient-data.org/hebrew/text?book=Exodus&amp;chapter=23&amp;verse=16&amp;version=c&amp;mr=m&amp;qw=q&amp;tp=txt_p&amp;tr=hb&amp;wget=v&amp;qget=v&amp;nget=vt\" title=\"Exodus 23:16\" sec=\"Exodus 23:16\">phrase</a> <span class=\"nd\">677201</span>  <span class=\"function\">Adju</span> <span class=\"typ\">NP</span>\n",
       "        </div>\n",
       "        <div class=\"atoms rtl \">\n",
       "                    <span class=\"plain outer  rtl \"><span class=\"plain rtl  \" ><span class=\"plain rtl  \" ><span class=\"h\">בִּכּוּרֵ֣י </span></span><span class=\"plain rtl  \" ><span class=\"h\">מַעֲשֶׂ֔יךָ </span></span></span></span></div></div></div></div><div class=\"catom  hl rtl \" >\n",
       "        <div class=\"clause hl rtl \" >\n",
       "            <a href=\"https://shebanq.ancient-data.org/hebrew/text?book=Exodus&amp;chapter=23&amp;verse=16&amp;version=c&amp;mr=m&amp;qw=q&amp;tp=txt_p&amp;tr=hb&amp;wget=v&amp;qget=v&amp;nget=vt\" title=\"Exodus 23:16\" sec=\"Exodus 23:16\">clause</a> <span class=\"nd\">436060</span>  <span class=\"rela\">Attr</span> <span class=\"typ\">xYq0</span>\n",
       "        </div>\n",
       "        <div class=\"atoms rtl \">\n",
       "                    <div class=\"patom   rtl \" >\n",
       "        <div class=\"phrase  rtl \" >\n",
       "            <a href=\"https://shebanq.ancient-data.org/hebrew/text?book=Exodus&amp;chapter=23&amp;verse=16&amp;version=c&amp;mr=m&amp;qw=q&amp;tp=txt_p&amp;tr=hb&amp;wget=v&amp;qget=v&amp;nget=vt\" title=\"Exodus 23:16\" sec=\"Exodus 23:16\">phrase</a> <span class=\"nd\">677202</span>  <span class=\"function\">Rela</span> <span class=\"typ\">CP</span>\n",
       "        </div>\n",
       "        <div class=\"atoms rtl \">\n",
       "                    <span class=\"plain outer  rtl \"><span class=\"plain rtl  \" ><span class=\"plain rtl  \" ><span class=\"h\">אֲשֶׁ֥ר </span></span></span></span></div></div><div class=\"patom  hl rtl \" >\n",
       "        <div class=\"phrase hl rtl \" >\n",
       "            <a href=\"https://shebanq.ancient-data.org/hebrew/text?book=Exodus&amp;chapter=23&amp;verse=16&amp;version=c&amp;mr=m&amp;qw=q&amp;tp=txt_p&amp;tr=hb&amp;wget=v&amp;qget=v&amp;nget=vt\" title=\"Exodus 23:16\" sec=\"Exodus 23:16\">phrase</a> <span class=\"nd\">677203</span>  <span class=\"function\">Pred</span> <span class=\"typ\">VP</span>\n",
       "        </div>\n",
       "        <div class=\"atoms rtl \">\n",
       "                    <span class=\"plain outer  rtl \"><span class=\"plain nd\">677203</span><span class=\"plain rtl  hl\" ><span class=\"plain nd\">677203</span><span class=\"plain rtl  \" ><span class=\"plain rtl  \" ><span class=\"h\">תִּזְרַ֖ע </span></span></span></span></span></div></div><div class=\"patom   rtl \" >\n",
       "        <div class=\"phrase  rtl \" >\n",
       "            <a href=\"https://shebanq.ancient-data.org/hebrew/text?book=Exodus&amp;chapter=23&amp;verse=16&amp;version=c&amp;mr=m&amp;qw=q&amp;tp=txt_p&amp;tr=hb&amp;wget=v&amp;qget=v&amp;nget=vt\" title=\"Exodus 23:16\" sec=\"Exodus 23:16\">phrase</a> <span class=\"nd\">677204</span>  <span class=\"function\">Loca</span> <span class=\"typ\">PP</span>\n",
       "        </div>\n",
       "        <div class=\"atoms rtl \">\n",
       "                    <span class=\"plain outer  rtl \"><span class=\"plain rtl  \" ><span class=\"plain rtl  \" ><span class=\"h\">בַּ</span></span><span class=\"plain rtl  \" ><span class=\"h\"></span></span><span class=\"plain rtl  \" ><span class=\"h\">שָּׂדֶ֑ה </span></span></span></span></div></div></div></div><div class=\"catom  hl rtl \" >\n",
       "        <div class=\"clause hl rtl \" >\n",
       "            <a href=\"https://shebanq.ancient-data.org/hebrew/text?book=Exodus&amp;chapter=23&amp;verse=16&amp;version=c&amp;mr=m&amp;qw=q&amp;tp=txt_p&amp;tr=hb&amp;wget=v&amp;qget=v&amp;nget=vt\" title=\"Exodus 23:16\" sec=\"Exodus 23:16\">clause</a> <span class=\"nd\">436061</span>  <span class=\"typ\">Ellp</span>\n",
       "        </div>\n",
       "        <div class=\"atoms rtl \">\n",
       "                    <div class=\"patom   rtl \" >\n",
       "        <div class=\"phrase  rtl \" >\n",
       "            <a href=\"https://shebanq.ancient-data.org/hebrew/text?book=Exodus&amp;chapter=23&amp;verse=16&amp;version=c&amp;mr=m&amp;qw=q&amp;tp=txt_p&amp;tr=hb&amp;wget=v&amp;qget=v&amp;nget=vt\" title=\"Exodus 23:16\" sec=\"Exodus 23:16\">phrase</a> <span class=\"nd\">677205</span>  <span class=\"function\">Conj</span> <span class=\"typ\">CP</span>\n",
       "        </div>\n",
       "        <div class=\"atoms rtl \">\n",
       "                    <span class=\"plain outer  rtl \"><span class=\"plain rtl  \" ><span class=\"plain rtl  \" ><span class=\"h\">וְ</span></span></span></span></div></div><div class=\"patom  hl rtl \" >\n",
       "        <div class=\"phrase hl rtl \" >\n",
       "            <a href=\"https://shebanq.ancient-data.org/hebrew/text?book=Exodus&amp;chapter=23&amp;verse=16&amp;version=c&amp;mr=m&amp;qw=q&amp;tp=txt_p&amp;tr=hb&amp;wget=v&amp;qget=v&amp;nget=vt\" title=\"Exodus 23:16\" sec=\"Exodus 23:16\">phrase</a> <span class=\"nd\">677206</span>  <span class=\"function\">Objc</span> <span class=\"typ\">NP</span>\n",
       "        </div>\n",
       "        <div class=\"atoms rtl \">\n",
       "                    <span class=\"plain outer  rtl \"><span class=\"plain nd\">677206</span><span class=\"plain rtl  hl\" ><span class=\"plain nd\">677206</span><span class=\"plain rtl  \" ><span class=\"plain rtl  hlbx\" ><span class=\"h\">חַ֤ג </span><span class=\"plain nd\">41291</span></span><span class=\"plain rtl  \" ><span class=\"h\">הָֽ</span></span><span class=\"plain rtl  \" ><span class=\"h\">אָסִף֙ </span></span></span></span></span></div></div></div></div><div class=\"catom   rtl \" >\n",
       "        <div class=\"clause  rtl \" >\n",
       "            <a href=\"https://shebanq.ancient-data.org/hebrew/text?book=Exodus&amp;chapter=23&amp;verse=16&amp;version=c&amp;mr=m&amp;qw=q&amp;tp=txt_p&amp;tr=hb&amp;wget=v&amp;qget=v&amp;nget=vt\" title=\"Exodus 23:16\" sec=\"Exodus 23:16\">clause</a> <span class=\"nd\">436062</span>  <span class=\"rela\">Adju</span> <span class=\"typ\">InfC</span>\n",
       "        </div>\n",
       "        <div class=\"atoms rtl \">\n",
       "                    <div class=\"patom   rtl \" >\n",
       "        <div class=\"phrase  rtl \" >\n",
       "            <a href=\"https://shebanq.ancient-data.org/hebrew/text?book=Exodus&amp;chapter=23&amp;verse=16&amp;version=c&amp;mr=m&amp;qw=q&amp;tp=txt_p&amp;tr=hb&amp;wget=v&amp;qget=v&amp;nget=vt\" title=\"Exodus 23:16\" sec=\"Exodus 23:16\">phrase</a> <span class=\"nd\">677207</span>  <span class=\"function\">Pred</span> <span class=\"typ\">VP</span>\n",
       "        </div>\n",
       "        <div class=\"atoms rtl \">\n",
       "                    <span class=\"plain outer  rtl \"><span class=\"plain rtl  \" ><span class=\"plain rtl  \" ><span class=\"h\">בְּ</span></span><span class=\"plain rtl  \" ><span class=\"h\">צֵ֣את </span></span></span></span></div></div><div class=\"patom   rtl \" >\n",
       "        <div class=\"phrase  rtl \" >\n",
       "            <a href=\"https://shebanq.ancient-data.org/hebrew/text?book=Exodus&amp;chapter=23&amp;verse=16&amp;version=c&amp;mr=m&amp;qw=q&amp;tp=txt_p&amp;tr=hb&amp;wget=v&amp;qget=v&amp;nget=vt\" title=\"Exodus 23:16\" sec=\"Exodus 23:16\">phrase</a> <span class=\"nd\">677208</span>  <span class=\"function\">Subj</span> <span class=\"typ\">NP</span>\n",
       "        </div>\n",
       "        <div class=\"atoms rtl \">\n",
       "                    <span class=\"plain outer  rtl \"><span class=\"plain rtl  \" ><span class=\"plain rtl  \" ><span class=\"h\">הַ</span></span><span class=\"plain rtl  \" ><span class=\"h\">שָּׁנָ֔ה </span></span></span></span></div></div></div></div><div class=\"catom   rtl \" >\n",
       "        <div class=\"clause  rtl \" >\n",
       "            <a href=\"https://shebanq.ancient-data.org/hebrew/text?book=Exodus&amp;chapter=23&amp;verse=16&amp;version=c&amp;mr=m&amp;qw=q&amp;tp=txt_p&amp;tr=hb&amp;wget=v&amp;qget=v&amp;nget=vt\" title=\"Exodus 23:16\" sec=\"Exodus 23:16\">clause</a> <span class=\"nd\">436063</span>  <span class=\"rela\">Adju</span> <span class=\"typ\">InfC</span>\n",
       "        </div>\n",
       "        <div class=\"atoms rtl \">\n",
       "                    <div class=\"patom   rtl \" >\n",
       "        <div class=\"phrase  rtl \" >\n",
       "            <a href=\"https://shebanq.ancient-data.org/hebrew/text?book=Exodus&amp;chapter=23&amp;verse=16&amp;version=c&amp;mr=m&amp;qw=q&amp;tp=txt_p&amp;tr=hb&amp;wget=v&amp;qget=v&amp;nget=vt\" title=\"Exodus 23:16\" sec=\"Exodus 23:16\">phrase</a> <span class=\"nd\">677209</span>  <span class=\"function\">PreS</span> <span class=\"typ\">VP</span>\n",
       "        </div>\n",
       "        <div class=\"atoms rtl \">\n",
       "                    <span class=\"plain outer  rtl \"><span class=\"plain rtl  \" ><span class=\"plain rtl  \" ><span class=\"h\">בְּ</span></span><span class=\"plain rtl  \" ><span class=\"h\">אָסְפְּךָ֥ </span></span></span></span></div></div><div class=\"patom   rtl \" >\n",
       "        <div class=\"phrase  rtl \" >\n",
       "            <a href=\"https://shebanq.ancient-data.org/hebrew/text?book=Exodus&amp;chapter=23&amp;verse=16&amp;version=c&amp;mr=m&amp;qw=q&amp;tp=txt_p&amp;tr=hb&amp;wget=v&amp;qget=v&amp;nget=vt\" title=\"Exodus 23:16\" sec=\"Exodus 23:16\">phrase</a> <span class=\"nd\">677210</span>  <span class=\"function\">Objc</span> <span class=\"typ\">PP</span>\n",
       "        </div>\n",
       "        <div class=\"atoms rtl \">\n",
       "                    <span class=\"plain outer  rtl \"><span class=\"plain rtl  \" ><span class=\"plain rtl  \" ><span class=\"h\">אֶֽת־</span></span><span class=\"plain rtl  \" ><span class=\"h\">מַעֲשֶׂ֖יךָ </span></span></span></span></div></div><div class=\"patom   rtl \" >\n",
       "        <div class=\"phrase  rtl \" >\n",
       "            <a href=\"https://shebanq.ancient-data.org/hebrew/text?book=Exodus&amp;chapter=23&amp;verse=16&amp;version=c&amp;mr=m&amp;qw=q&amp;tp=txt_p&amp;tr=hb&amp;wget=v&amp;qget=v&amp;nget=vt\" title=\"Exodus 23:16\" sec=\"Exodus 23:16\">phrase</a> <span class=\"nd\">677211</span>  <span class=\"function\">Loca</span> <span class=\"typ\">PP</span>\n",
       "        </div>\n",
       "        <div class=\"atoms rtl \">\n",
       "                    <span class=\"plain outer  rtl \"><span class=\"plain rtl  \" ><span class=\"plain rtl  \" ><span class=\"h\">מִן־</span></span><span class=\"plain rtl  \" ><span class=\"h\">הַ</span></span><span class=\"plain rtl  \" ><span class=\"h\">שָּׂדֶֽה׃ </span></span></span></span></div></div></div></div></div></div></div></div>"
      ],
      "text/plain": [
       "<IPython.core.display.HTML object>"
      ]
     },
     "metadata": {},
     "output_type": "display_data"
    }
   ],
   "source": [
    "A.show(results, start=10, end=12, withNodes=True, condenseType='sentence', baseType=\"phrase\")"
   ]
  },
  {
   "cell_type": "markdown",
   "metadata": {},
   "source": [
    "Note, that now the phrases are heavily highlighted whereas the highlighted words just have a box around them."
   ]
  },
  {
   "cell_type": "markdown",
   "metadata": {},
   "source": [
    "And if we want to make life harder for ourselves, we can leave the passage indicators out as well."
   ]
  },
  {
   "cell_type": "code",
   "execution_count": 49,
   "metadata": {
    "ExecuteTime": {
     "end_time": "2018-04-25T13:58:23.002898Z",
     "start_time": "2018-04-25T13:58:21.622054Z"
    }
   },
   "outputs": [
    {
     "data": {
      "text/html": [
       "<p><b>result</b> <i>10</i></p>"
      ],
      "text/plain": [
       "<IPython.core.display.HTML object>"
      ]
     },
     "metadata": {},
     "output_type": "display_data"
    },
    {
     "data": {
      "text/html": [
       "<div class=\"outeritem rtl \"><div class=\"atoms   rtl \" ><div class=\"satom   rtl \" >\n",
       "        <div class=\"sentence  rtl \" >\n",
       "            <a href=\"https://shebanq.ancient-data.org/hebrew/text?book=Exodus&amp;chapter=18&amp;verse=8&amp;version=c&amp;mr=m&amp;qw=q&amp;tp=txt_p&amp;tr=hb&amp;wget=v&amp;qget=v&amp;nget=vt\" title=\"Exodus 18:8\" sec=\"Exodus 18:8\">sentence</a> <span class=\"nd\">1178439</span>  <span class=\"number\">15|1542</span>\n",
       "        </div>\n",
       "        <div class=\"atoms rtl \">\n",
       "                    <div class=\"catom  hl rtl \" >\n",
       "        <div class=\"clause hl rtl \" >\n",
       "            <a href=\"https://shebanq.ancient-data.org/hebrew/text?book=Exodus&amp;chapter=18&amp;verse=8&amp;version=c&amp;mr=m&amp;qw=q&amp;tp=txt_p&amp;tr=hb&amp;wget=v&amp;qget=v&amp;nget=vt\" title=\"Exodus 18:8\" sec=\"Exodus 18:8\">clause</a> <span class=\"nd\">435507</span>  <span class=\"typ\">WayX</span>\n",
       "        </div>\n",
       "        <div class=\"atoms rtl \">\n",
       "                    <div class=\"patom   rtl \" >\n",
       "        <div class=\"phrase  rtl \" >\n",
       "            <a href=\"https://shebanq.ancient-data.org/hebrew/text?book=Exodus&amp;chapter=18&amp;verse=8&amp;version=c&amp;mr=m&amp;qw=q&amp;tp=txt_p&amp;tr=hb&amp;wget=v&amp;qget=v&amp;nget=vt\" title=\"Exodus 18:8\" sec=\"Exodus 18:8\">phrase</a> <span class=\"nd\">675471</span>  <span class=\"function\">Conj</span> <span class=\"typ\">CP</span>\n",
       "        </div>\n",
       "        <div class=\"atoms rtl \">\n",
       "                    <span class=\"plain outer  rtl \"><span class=\"plain rtl  \" ><span class=\"plain rtl  \" ><span class=\"h\">וַ</span></span></span></span></div></div><div class=\"patom  hl rtl \" >\n",
       "        <div class=\"phrase hl rtl \" >\n",
       "            <a href=\"https://shebanq.ancient-data.org/hebrew/text?book=Exodus&amp;chapter=18&amp;verse=8&amp;version=c&amp;mr=m&amp;qw=q&amp;tp=txt_p&amp;tr=hb&amp;wget=v&amp;qget=v&amp;nget=vt\" title=\"Exodus 18:8\" sec=\"Exodus 18:8\">phrase</a> <span class=\"nd\">675472</span>  <span class=\"function\">Pred</span> <span class=\"typ\">VP</span>\n",
       "        </div>\n",
       "        <div class=\"atoms rtl \">\n",
       "                    <span class=\"plain outer  rtl \"><span class=\"plain nd\">675472</span><span class=\"plain rtl  hl\" ><span class=\"plain nd\">675472</span><span class=\"plain rtl  \" ><span class=\"plain rtl  hlbx\" ><span class=\"h\">יְסַפֵּ֤ר </span><span class=\"plain nd\">38605</span></span></span></span></span></div></div><div class=\"patom   rtl \" >\n",
       "        <div class=\"phrase  rtl \" >\n",
       "            <a href=\"https://shebanq.ancient-data.org/hebrew/text?book=Exodus&amp;chapter=18&amp;verse=8&amp;version=c&amp;mr=m&amp;qw=q&amp;tp=txt_p&amp;tr=hb&amp;wget=v&amp;qget=v&amp;nget=vt\" title=\"Exodus 18:8\" sec=\"Exodus 18:8\">phrase</a> <span class=\"nd\">675473</span>  <span class=\"function\">Subj</span> <span class=\"typ\">PrNP</span>\n",
       "        </div>\n",
       "        <div class=\"atoms rtl \">\n",
       "                    <span class=\"plain outer  rtl \"><span class=\"plain rtl  \" ><span class=\"plain rtl  \" ><span class=\"h\">מֹשֶׁה֙ </span></span></span></span></div></div><div class=\"patom   rtl \" >\n",
       "        <div class=\"phrase  rtl \" >\n",
       "            <a href=\"https://shebanq.ancient-data.org/hebrew/text?book=Exodus&amp;chapter=18&amp;verse=8&amp;version=c&amp;mr=m&amp;qw=q&amp;tp=txt_p&amp;tr=hb&amp;wget=v&amp;qget=v&amp;nget=vt\" title=\"Exodus 18:8\" sec=\"Exodus 18:8\">phrase</a> <span class=\"nd\">675474</span>  <span class=\"function\">Cmpl</span> <span class=\"typ\">PP</span>\n",
       "        </div>\n",
       "        <div class=\"atoms rtl \">\n",
       "                    <span class=\"plain outer  rtl \"><span class=\"plain rtl  \" ><span class=\"plain rtl  \" ><span class=\"h\">לְ</span></span><span class=\"plain rtl  \" ><span class=\"h\">חֹ֣תְנֹ֔ו </span></span></span></span></div></div><div class=\"patom   rtl \" >\n",
       "        <div class=\"phrase  rtl \" >\n",
       "            <a href=\"https://shebanq.ancient-data.org/hebrew/text?book=Exodus&amp;chapter=18&amp;verse=8&amp;version=c&amp;mr=m&amp;qw=q&amp;tp=txt_p&amp;tr=hb&amp;wget=v&amp;qget=v&amp;nget=vt\" title=\"Exodus 18:8\" sec=\"Exodus 18:8\">phrase</a> <span class=\"nd\">675475</span>  <span class=\"function\">Objc</span> <span class=\"typ\">PP</span>\n",
       "        </div>\n",
       "        <div class=\"atoms rtl \">\n",
       "                    <span class=\"plain outer  rtl \"><span class=\"plain rtl  \" ><span class=\"plain rtl  \" ><span class=\"h\">אֵת֩ </span></span><span class=\"plain rtl  \" ><span class=\"h\">כָּל־</span></span></span></span></div></div></div></div><div class=\"catom  hl rtl \" >\n",
       "        <div class=\"clause hl rtl \" >\n",
       "            <a href=\"https://shebanq.ancient-data.org/hebrew/text?book=Exodus&amp;chapter=18&amp;verse=8&amp;version=c&amp;mr=m&amp;qw=q&amp;tp=txt_p&amp;tr=hb&amp;wget=v&amp;qget=v&amp;nget=vt\" title=\"Exodus 18:8\" sec=\"Exodus 18:8\">clause</a> <span class=\"nd\">435508</span>  <span class=\"rela\">RgRc</span> <span class=\"typ\">xQtX</span>\n",
       "        </div>\n",
       "        <div class=\"atoms rtl \">\n",
       "                    <div class=\"patom   rtl \" >\n",
       "        <div class=\"phrase  rtl \" >\n",
       "            <a href=\"https://shebanq.ancient-data.org/hebrew/text?book=Exodus&amp;chapter=18&amp;verse=8&amp;version=c&amp;mr=m&amp;qw=q&amp;tp=txt_p&amp;tr=hb&amp;wget=v&amp;qget=v&amp;nget=vt\" title=\"Exodus 18:8\" sec=\"Exodus 18:8\">phrase</a> <span class=\"nd\">675476</span>  <span class=\"function\">Rela</span> <span class=\"typ\">CP</span>\n",
       "        </div>\n",
       "        <div class=\"atoms rtl \">\n",
       "                    <span class=\"plain outer  rtl \"><span class=\"plain rtl  \" ><span class=\"plain rtl  \" ><span class=\"h\">אֲשֶׁ֨ר </span></span></span></span></div></div><div class=\"patom  hl rtl \" >\n",
       "        <div class=\"phrase hl rtl \" >\n",
       "            <a href=\"https://shebanq.ancient-data.org/hebrew/text?book=Exodus&amp;chapter=18&amp;verse=8&amp;version=c&amp;mr=m&amp;qw=q&amp;tp=txt_p&amp;tr=hb&amp;wget=v&amp;qget=v&amp;nget=vt\" title=\"Exodus 18:8\" sec=\"Exodus 18:8\">phrase</a> <span class=\"nd\">675477</span>  <span class=\"function\">Pred</span> <span class=\"typ\">VP</span>\n",
       "        </div>\n",
       "        <div class=\"atoms rtl \">\n",
       "                    <span class=\"plain outer  rtl \"><span class=\"plain nd\">675477</span><span class=\"plain rtl  hl\" ><span class=\"plain nd\">675477</span><span class=\"plain rtl  \" ><span class=\"plain rtl  \" ><span class=\"h\">עָשָׂ֤ה </span></span></span></span></span></div></div><div class=\"patom   rtl \" >\n",
       "        <div class=\"phrase  rtl \" >\n",
       "            <a href=\"https://shebanq.ancient-data.org/hebrew/text?book=Exodus&amp;chapter=18&amp;verse=8&amp;version=c&amp;mr=m&amp;qw=q&amp;tp=txt_p&amp;tr=hb&amp;wget=v&amp;qget=v&amp;nget=vt\" title=\"Exodus 18:8\" sec=\"Exodus 18:8\">phrase</a> <span class=\"nd\">675478</span>  <span class=\"function\">Subj</span> <span class=\"typ\">PrNP</span>\n",
       "        </div>\n",
       "        <div class=\"atoms rtl \">\n",
       "                    <span class=\"plain outer  rtl \"><span class=\"plain rtl  \" ><span class=\"plain rtl  \" ><span class=\"h\">יְהוָה֙ </span></span></span></span></div></div><div class=\"patom   rtl \" >\n",
       "        <div class=\"phrase  rtl \" >\n",
       "            <a href=\"https://shebanq.ancient-data.org/hebrew/text?book=Exodus&amp;chapter=18&amp;verse=8&amp;version=c&amp;mr=m&amp;qw=q&amp;tp=txt_p&amp;tr=hb&amp;wget=v&amp;qget=v&amp;nget=vt\" title=\"Exodus 18:8\" sec=\"Exodus 18:8\">phrase</a> <span class=\"nd\">675479</span>  <span class=\"function\">Cmpl</span> <span class=\"typ\">PP</span>\n",
       "        </div>\n",
       "        <div class=\"atoms rtl \">\n",
       "                    <span class=\"plain outer  rtl \"><span class=\"plain rtl  \" ><span class=\"plain rtl  \" ><span class=\"h\">לְ</span></span><span class=\"plain rtl  \" ><span class=\"h\">פַרְעֹ֣ה </span></span><span class=\"plain rtl  \" ><span class=\"h\">וּ</span></span><span class=\"plain rtl  \" ><span class=\"h\">לְ</span></span><span class=\"plain rtl  \" ><span class=\"h\">מִצְרַ֔יִם </span></span></span></span></div></div><div class=\"patom   rtl \" >\n",
       "        <div class=\"phrase  rtl \" >\n",
       "            <a href=\"https://shebanq.ancient-data.org/hebrew/text?book=Exodus&amp;chapter=18&amp;verse=8&amp;version=c&amp;mr=m&amp;qw=q&amp;tp=txt_p&amp;tr=hb&amp;wget=v&amp;qget=v&amp;nget=vt\" title=\"Exodus 18:8\" sec=\"Exodus 18:8\">phrase</a> <span class=\"nd\">675480</span>  <span class=\"function\">Adju</span> <span class=\"typ\">PP</span>\n",
       "        </div>\n",
       "        <div class=\"atoms rtl \">\n",
       "                    <span class=\"plain outer  rtl \"><span class=\"plain rtl  \" ><span class=\"plain rtl  \" ><span class=\"h\">עַ֖ל </span></span><span class=\"plain rtl  \" ><span class=\"h\">אֹודֹ֣ת </span></span><span class=\"plain rtl  \" ><span class=\"h\">יִשְׂרָאֵ֑ל </span></span></span></span></div></div></div></div><div class=\"catom  hl rtl \" >\n",
       "        <div class=\"clause hl rtl \" >\n",
       "            <a href=\"https://shebanq.ancient-data.org/hebrew/text?book=Exodus&amp;chapter=18&amp;verse=8&amp;version=c&amp;mr=m&amp;qw=q&amp;tp=txt_p&amp;tr=hb&amp;wget=v&amp;qget=v&amp;nget=vt\" title=\"Exodus 18:8\" sec=\"Exodus 18:8\">clause</a> <span class=\"nd\">435509</span>  <span class=\"typ\">Ellp</span>\n",
       "        </div>\n",
       "        <div class=\"atoms rtl \">\n",
       "                    <div class=\"patom  hl rtl \" >\n",
       "        <div class=\"phrase hl rtl \" >\n",
       "            <a href=\"https://shebanq.ancient-data.org/hebrew/text?book=Exodus&amp;chapter=18&amp;verse=8&amp;version=c&amp;mr=m&amp;qw=q&amp;tp=txt_p&amp;tr=hb&amp;wget=v&amp;qget=v&amp;nget=vt\" title=\"Exodus 18:8\" sec=\"Exodus 18:8\">phrase</a> <span class=\"nd\">675481</span>  <span class=\"function\">Objc</span> <span class=\"typ\">PP</span>\n",
       "        </div>\n",
       "        <div class=\"atoms rtl \">\n",
       "                    <span class=\"plain outer  rtl \"><span class=\"plain nd\">675481</span><span class=\"plain rtl  hl\" ><span class=\"plain nd\">675481</span><span class=\"plain rtl  \" ><span class=\"plain rtl  \" ><span class=\"h\">אֵ֤ת </span></span><span class=\"plain rtl  hlbx\" ><span class=\"h\">כָּל־</span><span class=\"plain nd\">38623</span></span><span class=\"plain rtl  \" ><span class=\"h\">הַ</span></span><span class=\"plain rtl  \" ><span class=\"h\">תְּלָאָה֙ </span></span></span></span></span></div></div></div></div><div class=\"catom   rtl \" >\n",
       "        <div class=\"clause  rtl \" >\n",
       "            <a href=\"https://shebanq.ancient-data.org/hebrew/text?book=Exodus&amp;chapter=18&amp;verse=8&amp;version=c&amp;mr=m&amp;qw=q&amp;tp=txt_p&amp;tr=hb&amp;wget=v&amp;qget=v&amp;nget=vt\" title=\"Exodus 18:8\" sec=\"Exodus 18:8\">clause</a> <span class=\"nd\">435510</span>  <span class=\"rela\">Attr</span> <span class=\"typ\">xQt0</span>\n",
       "        </div>\n",
       "        <div class=\"atoms rtl \">\n",
       "                    <div class=\"patom   rtl \" >\n",
       "        <div class=\"phrase  rtl \" >\n",
       "            <a href=\"https://shebanq.ancient-data.org/hebrew/text?book=Exodus&amp;chapter=18&amp;verse=8&amp;version=c&amp;mr=m&amp;qw=q&amp;tp=txt_p&amp;tr=hb&amp;wget=v&amp;qget=v&amp;nget=vt\" title=\"Exodus 18:8\" sec=\"Exodus 18:8\">phrase</a> <span class=\"nd\">675482</span>  <span class=\"function\">Rela</span> <span class=\"typ\">CP</span>\n",
       "        </div>\n",
       "        <div class=\"atoms rtl \">\n",
       "                    <span class=\"plain outer  rtl \"><span class=\"plain rtl  \" ><span class=\"plain rtl  \" ><span class=\"h\">אֲשֶׁ֣ר </span></span></span></span></div></div><div class=\"patom   rtl \" >\n",
       "        <div class=\"phrase  rtl \" >\n",
       "            <a href=\"https://shebanq.ancient-data.org/hebrew/text?book=Exodus&amp;chapter=18&amp;verse=8&amp;version=c&amp;mr=m&amp;qw=q&amp;tp=txt_p&amp;tr=hb&amp;wget=v&amp;qget=v&amp;nget=vt\" title=\"Exodus 18:8\" sec=\"Exodus 18:8\">phrase</a> <span class=\"nd\">675483</span>  <span class=\"function\">PreO</span> <span class=\"typ\">VP</span>\n",
       "        </div>\n",
       "        <div class=\"atoms rtl \">\n",
       "                    <span class=\"plain outer  rtl \"><span class=\"plain rtl  \" ><span class=\"plain rtl  \" ><span class=\"h\">מְצָאָ֣תַם </span></span></span></span></div></div><div class=\"patom   rtl \" >\n",
       "        <div class=\"phrase  rtl \" >\n",
       "            <a href=\"https://shebanq.ancient-data.org/hebrew/text?book=Exodus&amp;chapter=18&amp;verse=8&amp;version=c&amp;mr=m&amp;qw=q&amp;tp=txt_p&amp;tr=hb&amp;wget=v&amp;qget=v&amp;nget=vt\" title=\"Exodus 18:8\" sec=\"Exodus 18:8\">phrase</a> <span class=\"nd\">675484</span>  <span class=\"function\">Loca</span> <span class=\"typ\">PP</span>\n",
       "        </div>\n",
       "        <div class=\"atoms rtl \">\n",
       "                    <span class=\"plain outer  rtl \"><span class=\"plain rtl  \" ><span class=\"plain rtl  \" ><span class=\"h\">בַּ</span></span><span class=\"plain rtl  \" ><span class=\"h\"></span></span><span class=\"plain rtl  \" ><span class=\"h\">דֶּ֔רֶךְ </span></span></span></span></div></div></div></div><div class=\"catom   rtl \" >\n",
       "        <div class=\"clause  rtl \" >\n",
       "            <a href=\"https://shebanq.ancient-data.org/hebrew/text?book=Exodus&amp;chapter=18&amp;verse=8&amp;version=c&amp;mr=m&amp;qw=q&amp;tp=txt_p&amp;tr=hb&amp;wget=v&amp;qget=v&amp;nget=vt\" title=\"Exodus 18:8\" sec=\"Exodus 18:8\">clause</a> <span class=\"nd\">435511</span>  <span class=\"rela\">Coor</span> <span class=\"typ\">WayX</span>\n",
       "        </div>\n",
       "        <div class=\"atoms rtl \">\n",
       "                    <div class=\"patom   rtl \" >\n",
       "        <div class=\"phrase  rtl \" >\n",
       "            <a href=\"https://shebanq.ancient-data.org/hebrew/text?book=Exodus&amp;chapter=18&amp;verse=8&amp;version=c&amp;mr=m&amp;qw=q&amp;tp=txt_p&amp;tr=hb&amp;wget=v&amp;qget=v&amp;nget=vt\" title=\"Exodus 18:8\" sec=\"Exodus 18:8\">phrase</a> <span class=\"nd\">675485</span>  <span class=\"function\">Conj</span> <span class=\"typ\">CP</span>\n",
       "        </div>\n",
       "        <div class=\"atoms rtl \">\n",
       "                    <span class=\"plain outer  rtl \"><span class=\"plain rtl  \" ><span class=\"plain rtl  \" ><span class=\"h\">וַ</span></span></span></span></div></div><div class=\"patom   rtl \" >\n",
       "        <div class=\"phrase  rtl \" >\n",
       "            <a href=\"https://shebanq.ancient-data.org/hebrew/text?book=Exodus&amp;chapter=18&amp;verse=8&amp;version=c&amp;mr=m&amp;qw=q&amp;tp=txt_p&amp;tr=hb&amp;wget=v&amp;qget=v&amp;nget=vt\" title=\"Exodus 18:8\" sec=\"Exodus 18:8\">phrase</a> <span class=\"nd\">675486</span>  <span class=\"function\">PreO</span> <span class=\"typ\">VP</span>\n",
       "        </div>\n",
       "        <div class=\"atoms rtl \">\n",
       "                    <span class=\"plain outer  rtl \"><span class=\"plain rtl  \" ><span class=\"plain rtl  \" ><span class=\"h\">יַּצִּלֵ֖ם </span></span></span></span></div></div><div class=\"patom   rtl \" >\n",
       "        <div class=\"phrase  rtl \" >\n",
       "            <a href=\"https://shebanq.ancient-data.org/hebrew/text?book=Exodus&amp;chapter=18&amp;verse=8&amp;version=c&amp;mr=m&amp;qw=q&amp;tp=txt_p&amp;tr=hb&amp;wget=v&amp;qget=v&amp;nget=vt\" title=\"Exodus 18:8\" sec=\"Exodus 18:8\">phrase</a> <span class=\"nd\">675487</span>  <span class=\"function\">Subj</span> <span class=\"typ\">PrNP</span>\n",
       "        </div>\n",
       "        <div class=\"atoms rtl \">\n",
       "                    <span class=\"plain outer  rtl \"><span class=\"plain rtl  \" ><span class=\"plain rtl  \" ><span class=\"h\">יְהוָֽה׃ </span></span></span></span></div></div></div></div></div></div></div></div>"
      ],
      "text/plain": [
       "<IPython.core.display.HTML object>"
      ]
     },
     "metadata": {},
     "output_type": "display_data"
    },
    {
     "data": {
      "text/html": [
       "<p><b>result</b> <i>11</i></p>"
      ],
      "text/plain": [
       "<IPython.core.display.HTML object>"
      ]
     },
     "metadata": {},
     "output_type": "display_data"
    },
    {
     "data": {
      "text/html": [
       "<div class=\"outeritem rtl \"><div class=\"atoms   rtl \" ><div class=\"satom   rtl \" >\n",
       "        <div class=\"sentence  rtl \" >\n",
       "            <a href=\"https://shebanq.ancient-data.org/hebrew/text?book=Exodus&amp;chapter=18&amp;verse=8&amp;version=c&amp;mr=m&amp;qw=q&amp;tp=txt_p&amp;tr=hb&amp;wget=v&amp;qget=v&amp;nget=vt\" title=\"Exodus 18:8\" sec=\"Exodus 18:8\">sentence</a> <span class=\"nd\">1178439</span>  <span class=\"number\">15|1542</span>\n",
       "        </div>\n",
       "        <div class=\"atoms rtl \">\n",
       "                    <div class=\"catom  hl rtl \" >\n",
       "        <div class=\"clause hl rtl \" >\n",
       "            <a href=\"https://shebanq.ancient-data.org/hebrew/text?book=Exodus&amp;chapter=18&amp;verse=8&amp;version=c&amp;mr=m&amp;qw=q&amp;tp=txt_p&amp;tr=hb&amp;wget=v&amp;qget=v&amp;nget=vt\" title=\"Exodus 18:8\" sec=\"Exodus 18:8\">clause</a> <span class=\"nd\">435507</span>  <span class=\"typ\">WayX</span>\n",
       "        </div>\n",
       "        <div class=\"atoms rtl \">\n",
       "                    <div class=\"patom   rtl \" >\n",
       "        <div class=\"phrase  rtl \" >\n",
       "            <a href=\"https://shebanq.ancient-data.org/hebrew/text?book=Exodus&amp;chapter=18&amp;verse=8&amp;version=c&amp;mr=m&amp;qw=q&amp;tp=txt_p&amp;tr=hb&amp;wget=v&amp;qget=v&amp;nget=vt\" title=\"Exodus 18:8\" sec=\"Exodus 18:8\">phrase</a> <span class=\"nd\">675471</span>  <span class=\"function\">Conj</span> <span class=\"typ\">CP</span>\n",
       "        </div>\n",
       "        <div class=\"atoms rtl \">\n",
       "                    <span class=\"plain outer  rtl \"><span class=\"plain rtl  \" ><span class=\"plain rtl  \" ><span class=\"h\">וַ</span></span></span></span></div></div><div class=\"patom  hl rtl \" >\n",
       "        <div class=\"phrase hl rtl \" >\n",
       "            <a href=\"https://shebanq.ancient-data.org/hebrew/text?book=Exodus&amp;chapter=18&amp;verse=8&amp;version=c&amp;mr=m&amp;qw=q&amp;tp=txt_p&amp;tr=hb&amp;wget=v&amp;qget=v&amp;nget=vt\" title=\"Exodus 18:8\" sec=\"Exodus 18:8\">phrase</a> <span class=\"nd\">675472</span>  <span class=\"function\">Pred</span> <span class=\"typ\">VP</span>\n",
       "        </div>\n",
       "        <div class=\"atoms rtl \">\n",
       "                    <span class=\"plain outer  rtl \"><span class=\"plain nd\">675472</span><span class=\"plain rtl  hl\" ><span class=\"plain nd\">675472</span><span class=\"plain rtl  \" ><span class=\"plain rtl  hlbx\" ><span class=\"h\">יְסַפֵּ֤ר </span><span class=\"plain nd\">38605</span></span></span></span></span></div></div><div class=\"patom   rtl \" >\n",
       "        <div class=\"phrase  rtl \" >\n",
       "            <a href=\"https://shebanq.ancient-data.org/hebrew/text?book=Exodus&amp;chapter=18&amp;verse=8&amp;version=c&amp;mr=m&amp;qw=q&amp;tp=txt_p&amp;tr=hb&amp;wget=v&amp;qget=v&amp;nget=vt\" title=\"Exodus 18:8\" sec=\"Exodus 18:8\">phrase</a> <span class=\"nd\">675473</span>  <span class=\"function\">Subj</span> <span class=\"typ\">PrNP</span>\n",
       "        </div>\n",
       "        <div class=\"atoms rtl \">\n",
       "                    <span class=\"plain outer  rtl \"><span class=\"plain rtl  \" ><span class=\"plain rtl  \" ><span class=\"h\">מֹשֶׁה֙ </span></span></span></span></div></div><div class=\"patom   rtl \" >\n",
       "        <div class=\"phrase  rtl \" >\n",
       "            <a href=\"https://shebanq.ancient-data.org/hebrew/text?book=Exodus&amp;chapter=18&amp;verse=8&amp;version=c&amp;mr=m&amp;qw=q&amp;tp=txt_p&amp;tr=hb&amp;wget=v&amp;qget=v&amp;nget=vt\" title=\"Exodus 18:8\" sec=\"Exodus 18:8\">phrase</a> <span class=\"nd\">675474</span>  <span class=\"function\">Cmpl</span> <span class=\"typ\">PP</span>\n",
       "        </div>\n",
       "        <div class=\"atoms rtl \">\n",
       "                    <span class=\"plain outer  rtl \"><span class=\"plain rtl  \" ><span class=\"plain rtl  \" ><span class=\"h\">לְ</span></span><span class=\"plain rtl  \" ><span class=\"h\">חֹ֣תְנֹ֔ו </span></span></span></span></div></div><div class=\"patom   rtl \" >\n",
       "        <div class=\"phrase  rtl \" >\n",
       "            <a href=\"https://shebanq.ancient-data.org/hebrew/text?book=Exodus&amp;chapter=18&amp;verse=8&amp;version=c&amp;mr=m&amp;qw=q&amp;tp=txt_p&amp;tr=hb&amp;wget=v&amp;qget=v&amp;nget=vt\" title=\"Exodus 18:8\" sec=\"Exodus 18:8\">phrase</a> <span class=\"nd\">675475</span>  <span class=\"function\">Objc</span> <span class=\"typ\">PP</span>\n",
       "        </div>\n",
       "        <div class=\"atoms rtl \">\n",
       "                    <span class=\"plain outer  rtl \"><span class=\"plain rtl  \" ><span class=\"plain rtl  \" ><span class=\"h\">אֵת֩ </span></span><span class=\"plain rtl  \" ><span class=\"h\">כָּל־</span></span></span></span></div></div></div></div><div class=\"catom  hl rtl \" >\n",
       "        <div class=\"clause hl rtl \" >\n",
       "            <a href=\"https://shebanq.ancient-data.org/hebrew/text?book=Exodus&amp;chapter=18&amp;verse=8&amp;version=c&amp;mr=m&amp;qw=q&amp;tp=txt_p&amp;tr=hb&amp;wget=v&amp;qget=v&amp;nget=vt\" title=\"Exodus 18:8\" sec=\"Exodus 18:8\">clause</a> <span class=\"nd\">435508</span>  <span class=\"rela\">RgRc</span> <span class=\"typ\">xQtX</span>\n",
       "        </div>\n",
       "        <div class=\"atoms rtl \">\n",
       "                    <div class=\"patom   rtl \" >\n",
       "        <div class=\"phrase  rtl \" >\n",
       "            <a href=\"https://shebanq.ancient-data.org/hebrew/text?book=Exodus&amp;chapter=18&amp;verse=8&amp;version=c&amp;mr=m&amp;qw=q&amp;tp=txt_p&amp;tr=hb&amp;wget=v&amp;qget=v&amp;nget=vt\" title=\"Exodus 18:8\" sec=\"Exodus 18:8\">phrase</a> <span class=\"nd\">675476</span>  <span class=\"function\">Rela</span> <span class=\"typ\">CP</span>\n",
       "        </div>\n",
       "        <div class=\"atoms rtl \">\n",
       "                    <span class=\"plain outer  rtl \"><span class=\"plain rtl  \" ><span class=\"plain rtl  \" ><span class=\"h\">אֲשֶׁ֨ר </span></span></span></span></div></div><div class=\"patom  hl rtl \" >\n",
       "        <div class=\"phrase hl rtl \" >\n",
       "            <a href=\"https://shebanq.ancient-data.org/hebrew/text?book=Exodus&amp;chapter=18&amp;verse=8&amp;version=c&amp;mr=m&amp;qw=q&amp;tp=txt_p&amp;tr=hb&amp;wget=v&amp;qget=v&amp;nget=vt\" title=\"Exodus 18:8\" sec=\"Exodus 18:8\">phrase</a> <span class=\"nd\">675477</span>  <span class=\"function\">Pred</span> <span class=\"typ\">VP</span>\n",
       "        </div>\n",
       "        <div class=\"atoms rtl \">\n",
       "                    <span class=\"plain outer  rtl \"><span class=\"plain nd\">675477</span><span class=\"plain rtl  hl\" ><span class=\"plain nd\">675477</span><span class=\"plain rtl  \" ><span class=\"plain rtl  \" ><span class=\"h\">עָשָׂ֤ה </span></span></span></span></span></div></div><div class=\"patom   rtl \" >\n",
       "        <div class=\"phrase  rtl \" >\n",
       "            <a href=\"https://shebanq.ancient-data.org/hebrew/text?book=Exodus&amp;chapter=18&amp;verse=8&amp;version=c&amp;mr=m&amp;qw=q&amp;tp=txt_p&amp;tr=hb&amp;wget=v&amp;qget=v&amp;nget=vt\" title=\"Exodus 18:8\" sec=\"Exodus 18:8\">phrase</a> <span class=\"nd\">675478</span>  <span class=\"function\">Subj</span> <span class=\"typ\">PrNP</span>\n",
       "        </div>\n",
       "        <div class=\"atoms rtl \">\n",
       "                    <span class=\"plain outer  rtl \"><span class=\"plain rtl  \" ><span class=\"plain rtl  \" ><span class=\"h\">יְהוָה֙ </span></span></span></span></div></div><div class=\"patom   rtl \" >\n",
       "        <div class=\"phrase  rtl \" >\n",
       "            <a href=\"https://shebanq.ancient-data.org/hebrew/text?book=Exodus&amp;chapter=18&amp;verse=8&amp;version=c&amp;mr=m&amp;qw=q&amp;tp=txt_p&amp;tr=hb&amp;wget=v&amp;qget=v&amp;nget=vt\" title=\"Exodus 18:8\" sec=\"Exodus 18:8\">phrase</a> <span class=\"nd\">675479</span>  <span class=\"function\">Cmpl</span> <span class=\"typ\">PP</span>\n",
       "        </div>\n",
       "        <div class=\"atoms rtl \">\n",
       "                    <span class=\"plain outer  rtl \"><span class=\"plain rtl  \" ><span class=\"plain rtl  \" ><span class=\"h\">לְ</span></span><span class=\"plain rtl  \" ><span class=\"h\">פַרְעֹ֣ה </span></span><span class=\"plain rtl  \" ><span class=\"h\">וּ</span></span><span class=\"plain rtl  \" ><span class=\"h\">לְ</span></span><span class=\"plain rtl  \" ><span class=\"h\">מִצְרַ֔יִם </span></span></span></span></div></div><div class=\"patom   rtl \" >\n",
       "        <div class=\"phrase  rtl \" >\n",
       "            <a href=\"https://shebanq.ancient-data.org/hebrew/text?book=Exodus&amp;chapter=18&amp;verse=8&amp;version=c&amp;mr=m&amp;qw=q&amp;tp=txt_p&amp;tr=hb&amp;wget=v&amp;qget=v&amp;nget=vt\" title=\"Exodus 18:8\" sec=\"Exodus 18:8\">phrase</a> <span class=\"nd\">675480</span>  <span class=\"function\">Adju</span> <span class=\"typ\">PP</span>\n",
       "        </div>\n",
       "        <div class=\"atoms rtl \">\n",
       "                    <span class=\"plain outer  rtl \"><span class=\"plain rtl  \" ><span class=\"plain rtl  \" ><span class=\"h\">עַ֖ל </span></span><span class=\"plain rtl  \" ><span class=\"h\">אֹודֹ֣ת </span></span><span class=\"plain rtl  \" ><span class=\"h\">יִשְׂרָאֵ֑ל </span></span></span></span></div></div></div></div><div class=\"catom  hl rtl \" >\n",
       "        <div class=\"clause hl rtl \" >\n",
       "            <a href=\"https://shebanq.ancient-data.org/hebrew/text?book=Exodus&amp;chapter=18&amp;verse=8&amp;version=c&amp;mr=m&amp;qw=q&amp;tp=txt_p&amp;tr=hb&amp;wget=v&amp;qget=v&amp;nget=vt\" title=\"Exodus 18:8\" sec=\"Exodus 18:8\">clause</a> <span class=\"nd\">435509</span>  <span class=\"typ\">Ellp</span>\n",
       "        </div>\n",
       "        <div class=\"atoms rtl \">\n",
       "                    <div class=\"patom  hl rtl \" >\n",
       "        <div class=\"phrase hl rtl \" >\n",
       "            <a href=\"https://shebanq.ancient-data.org/hebrew/text?book=Exodus&amp;chapter=18&amp;verse=8&amp;version=c&amp;mr=m&amp;qw=q&amp;tp=txt_p&amp;tr=hb&amp;wget=v&amp;qget=v&amp;nget=vt\" title=\"Exodus 18:8\" sec=\"Exodus 18:8\">phrase</a> <span class=\"nd\">675481</span>  <span class=\"function\">Objc</span> <span class=\"typ\">PP</span>\n",
       "        </div>\n",
       "        <div class=\"atoms rtl \">\n",
       "                    <span class=\"plain outer  rtl \"><span class=\"plain nd\">675481</span><span class=\"plain rtl  hl\" ><span class=\"plain nd\">675481</span><span class=\"plain rtl  \" ><span class=\"plain rtl  \" ><span class=\"h\">אֵ֤ת </span></span><span class=\"plain rtl  \" ><span class=\"h\">כָּל־</span></span><span class=\"plain rtl  \" ><span class=\"h\">הַ</span></span><span class=\"plain rtl  hlbx\" ><span class=\"h\">תְּלָאָה֙ </span><span class=\"plain nd\">38625</span></span></span></span></span></div></div></div></div><div class=\"catom   rtl \" >\n",
       "        <div class=\"clause  rtl \" >\n",
       "            <a href=\"https://shebanq.ancient-data.org/hebrew/text?book=Exodus&amp;chapter=18&amp;verse=8&amp;version=c&amp;mr=m&amp;qw=q&amp;tp=txt_p&amp;tr=hb&amp;wget=v&amp;qget=v&amp;nget=vt\" title=\"Exodus 18:8\" sec=\"Exodus 18:8\">clause</a> <span class=\"nd\">435510</span>  <span class=\"rela\">Attr</span> <span class=\"typ\">xQt0</span>\n",
       "        </div>\n",
       "        <div class=\"atoms rtl \">\n",
       "                    <div class=\"patom   rtl \" >\n",
       "        <div class=\"phrase  rtl \" >\n",
       "            <a href=\"https://shebanq.ancient-data.org/hebrew/text?book=Exodus&amp;chapter=18&amp;verse=8&amp;version=c&amp;mr=m&amp;qw=q&amp;tp=txt_p&amp;tr=hb&amp;wget=v&amp;qget=v&amp;nget=vt\" title=\"Exodus 18:8\" sec=\"Exodus 18:8\">phrase</a> <span class=\"nd\">675482</span>  <span class=\"function\">Rela</span> <span class=\"typ\">CP</span>\n",
       "        </div>\n",
       "        <div class=\"atoms rtl \">\n",
       "                    <span class=\"plain outer  rtl \"><span class=\"plain rtl  \" ><span class=\"plain rtl  \" ><span class=\"h\">אֲשֶׁ֣ר </span></span></span></span></div></div><div class=\"patom   rtl \" >\n",
       "        <div class=\"phrase  rtl \" >\n",
       "            <a href=\"https://shebanq.ancient-data.org/hebrew/text?book=Exodus&amp;chapter=18&amp;verse=8&amp;version=c&amp;mr=m&amp;qw=q&amp;tp=txt_p&amp;tr=hb&amp;wget=v&amp;qget=v&amp;nget=vt\" title=\"Exodus 18:8\" sec=\"Exodus 18:8\">phrase</a> <span class=\"nd\">675483</span>  <span class=\"function\">PreO</span> <span class=\"typ\">VP</span>\n",
       "        </div>\n",
       "        <div class=\"atoms rtl \">\n",
       "                    <span class=\"plain outer  rtl \"><span class=\"plain rtl  \" ><span class=\"plain rtl  \" ><span class=\"h\">מְצָאָ֣תַם </span></span></span></span></div></div><div class=\"patom   rtl \" >\n",
       "        <div class=\"phrase  rtl \" >\n",
       "            <a href=\"https://shebanq.ancient-data.org/hebrew/text?book=Exodus&amp;chapter=18&amp;verse=8&amp;version=c&amp;mr=m&amp;qw=q&amp;tp=txt_p&amp;tr=hb&amp;wget=v&amp;qget=v&amp;nget=vt\" title=\"Exodus 18:8\" sec=\"Exodus 18:8\">phrase</a> <span class=\"nd\">675484</span>  <span class=\"function\">Loca</span> <span class=\"typ\">PP</span>\n",
       "        </div>\n",
       "        <div class=\"atoms rtl \">\n",
       "                    <span class=\"plain outer  rtl \"><span class=\"plain rtl  \" ><span class=\"plain rtl  \" ><span class=\"h\">בַּ</span></span><span class=\"plain rtl  \" ><span class=\"h\"></span></span><span class=\"plain rtl  \" ><span class=\"h\">דֶּ֔רֶךְ </span></span></span></span></div></div></div></div><div class=\"catom   rtl \" >\n",
       "        <div class=\"clause  rtl \" >\n",
       "            <a href=\"https://shebanq.ancient-data.org/hebrew/text?book=Exodus&amp;chapter=18&amp;verse=8&amp;version=c&amp;mr=m&amp;qw=q&amp;tp=txt_p&amp;tr=hb&amp;wget=v&amp;qget=v&amp;nget=vt\" title=\"Exodus 18:8\" sec=\"Exodus 18:8\">clause</a> <span class=\"nd\">435511</span>  <span class=\"rela\">Coor</span> <span class=\"typ\">WayX</span>\n",
       "        </div>\n",
       "        <div class=\"atoms rtl \">\n",
       "                    <div class=\"patom   rtl \" >\n",
       "        <div class=\"phrase  rtl \" >\n",
       "            <a href=\"https://shebanq.ancient-data.org/hebrew/text?book=Exodus&amp;chapter=18&amp;verse=8&amp;version=c&amp;mr=m&amp;qw=q&amp;tp=txt_p&amp;tr=hb&amp;wget=v&amp;qget=v&amp;nget=vt\" title=\"Exodus 18:8\" sec=\"Exodus 18:8\">phrase</a> <span class=\"nd\">675485</span>  <span class=\"function\">Conj</span> <span class=\"typ\">CP</span>\n",
       "        </div>\n",
       "        <div class=\"atoms rtl \">\n",
       "                    <span class=\"plain outer  rtl \"><span class=\"plain rtl  \" ><span class=\"plain rtl  \" ><span class=\"h\">וַ</span></span></span></span></div></div><div class=\"patom   rtl \" >\n",
       "        <div class=\"phrase  rtl \" >\n",
       "            <a href=\"https://shebanq.ancient-data.org/hebrew/text?book=Exodus&amp;chapter=18&amp;verse=8&amp;version=c&amp;mr=m&amp;qw=q&amp;tp=txt_p&amp;tr=hb&amp;wget=v&amp;qget=v&amp;nget=vt\" title=\"Exodus 18:8\" sec=\"Exodus 18:8\">phrase</a> <span class=\"nd\">675486</span>  <span class=\"function\">PreO</span> <span class=\"typ\">VP</span>\n",
       "        </div>\n",
       "        <div class=\"atoms rtl \">\n",
       "                    <span class=\"plain outer  rtl \"><span class=\"plain rtl  \" ><span class=\"plain rtl  \" ><span class=\"h\">יַּצִּלֵ֖ם </span></span></span></span></div></div><div class=\"patom   rtl \" >\n",
       "        <div class=\"phrase  rtl \" >\n",
       "            <a href=\"https://shebanq.ancient-data.org/hebrew/text?book=Exodus&amp;chapter=18&amp;verse=8&amp;version=c&amp;mr=m&amp;qw=q&amp;tp=txt_p&amp;tr=hb&amp;wget=v&amp;qget=v&amp;nget=vt\" title=\"Exodus 18:8\" sec=\"Exodus 18:8\">phrase</a> <span class=\"nd\">675487</span>  <span class=\"function\">Subj</span> <span class=\"typ\">PrNP</span>\n",
       "        </div>\n",
       "        <div class=\"atoms rtl \">\n",
       "                    <span class=\"plain outer  rtl \"><span class=\"plain rtl  \" ><span class=\"plain rtl  \" ><span class=\"h\">יְהוָֽה׃ </span></span></span></span></div></div></div></div></div></div></div></div>"
      ],
      "text/plain": [
       "<IPython.core.display.HTML object>"
      ]
     },
     "metadata": {},
     "output_type": "display_data"
    },
    {
     "data": {
      "text/html": [
       "<p><b>result</b> <i>12</i></p>"
      ],
      "text/plain": [
       "<IPython.core.display.HTML object>"
      ]
     },
     "metadata": {},
     "output_type": "display_data"
    },
    {
     "data": {
      "text/html": [
       "<div class=\"outeritem rtl \"><div class=\"atoms   rtl \" ><div class=\"satom  l  rtl \" >\n",
       "        <div class=\"sentence  rtl \" >\n",
       "            <a href=\"https://shebanq.ancient-data.org/hebrew/text?book=Exodus&amp;chapter=23&amp;verse=15&amp;version=c&amp;mr=m&amp;qw=q&amp;tp=txt_p&amp;tr=hb&amp;wget=v&amp;qget=v&amp;nget=vt\" title=\"Exodus 23:15\" sec=\"Exodus 23:15\">sentence</a> <span class=\"nd\">1178876</span>  <span class=\"number\">36|1979</span>\n",
       "        </div>\n",
       "        <div class=\"atoms rtl \">\n",
       "                    <div class=\"catom  hl rtl \" >\n",
       "        <div class=\"clause hl rtl \" >\n",
       "            <a href=\"https://shebanq.ancient-data.org/hebrew/text?book=Exodus&amp;chapter=23&amp;verse=15&amp;version=c&amp;mr=m&amp;qw=q&amp;tp=txt_p&amp;tr=hb&amp;wget=v&amp;qget=v&amp;nget=vt\" title=\"Exodus 23:15\" sec=\"Exodus 23:15\">clause</a> <span class=\"nd\">436054</span>  <span class=\"typ\">xYq0</span>\n",
       "        </div>\n",
       "        <div class=\"atoms rtl \">\n",
       "                    <div class=\"patom   rtl \" >\n",
       "        <div class=\"phrase  rtl \" >\n",
       "            <a href=\"https://shebanq.ancient-data.org/hebrew/text?book=Exodus&amp;chapter=23&amp;verse=15&amp;version=c&amp;mr=m&amp;qw=q&amp;tp=txt_p&amp;tr=hb&amp;wget=v&amp;qget=v&amp;nget=vt\" title=\"Exodus 23:15\" sec=\"Exodus 23:15\">phrase</a> <span class=\"nd\">677181</span>  <span class=\"function\">Objc</span> <span class=\"typ\">PP</span>\n",
       "        </div>\n",
       "        <div class=\"atoms rtl \">\n",
       "                    <span class=\"plain outer  rtl \"><span class=\"plain rtl  \" ><span class=\"plain rtl  \" ><span class=\"h\">אֶת־</span></span><span class=\"plain rtl  \" ><span class=\"h\">חַ֣ג </span></span><span class=\"plain rtl  \" ><span class=\"h\">הַ</span></span><span class=\"plain rtl  \" ><span class=\"h\">מַּצֹּות֮ </span></span></span></span></div></div><div class=\"patom  hl rtl \" >\n",
       "        <div class=\"phrase hl rtl \" >\n",
       "            <a href=\"https://shebanq.ancient-data.org/hebrew/text?book=Exodus&amp;chapter=23&amp;verse=15&amp;version=c&amp;mr=m&amp;qw=q&amp;tp=txt_p&amp;tr=hb&amp;wget=v&amp;qget=v&amp;nget=vt\" title=\"Exodus 23:15\" sec=\"Exodus 23:15\">phrase</a> <span class=\"nd\">677182</span>  <span class=\"function\">Pred</span> <span class=\"typ\">VP</span>\n",
       "        </div>\n",
       "        <div class=\"atoms rtl \">\n",
       "                    <span class=\"plain outer  rtl \"><span class=\"plain nd\">677182</span><span class=\"plain rtl  hl\" ><span class=\"plain nd\">677182</span><span class=\"plain rtl  \" ><span class=\"plain rtl  hlbx\" ><span class=\"h\">תִּשְׁמֹר֒ </span><span class=\"plain nd\">41256</span></span></span></span></span></div></div></div></div></div></div><div class=\"satom  r  rtl \" >\n",
       "        <div class=\"sentence  rtl \" >\n",
       "            <a href=\"https://shebanq.ancient-data.org/hebrew/text?book=Exodus&amp;chapter=23&amp;verse=15&amp;version=c&amp;mr=m&amp;qw=q&amp;tp=txt_p&amp;tr=hb&amp;wget=v&amp;qget=v&amp;nget=vt\" title=\"Exodus 23:15\" sec=\"Exodus 23:15\">sentence</a> <span class=\"nd\">1178876</span>  <span class=\"number\">36|1983</span>\n",
       "        </div>\n",
       "        <div class=\"atoms rtl \">\n",
       "                    <div class=\"catom   rtl \" >\n",
       "        <div class=\"clause  rtl \" >\n",
       "            <a href=\"https://shebanq.ancient-data.org/hebrew/text?book=Exodus&amp;chapter=23&amp;verse=16&amp;version=c&amp;mr=m&amp;qw=q&amp;tp=txt_p&amp;tr=hb&amp;wget=v&amp;qget=v&amp;nget=vt\" title=\"Exodus 23:16\" sec=\"Exodus 23:16\">clause</a> <span class=\"nd\">436059</span>  <span class=\"typ\">Ellp</span>\n",
       "        </div>\n",
       "        <div class=\"atoms rtl \">\n",
       "                    <div class=\"patom   rtl \" >\n",
       "        <div class=\"phrase  rtl \" >\n",
       "            <a href=\"https://shebanq.ancient-data.org/hebrew/text?book=Exodus&amp;chapter=23&amp;verse=16&amp;version=c&amp;mr=m&amp;qw=q&amp;tp=txt_p&amp;tr=hb&amp;wget=v&amp;qget=v&amp;nget=vt\" title=\"Exodus 23:16\" sec=\"Exodus 23:16\">phrase</a> <span class=\"nd\">677199</span>  <span class=\"function\">Conj</span> <span class=\"typ\">CP</span>\n",
       "        </div>\n",
       "        <div class=\"atoms rtl \">\n",
       "                    <span class=\"plain outer  rtl \"><span class=\"plain rtl  \" ><span class=\"plain rtl  \" ><span class=\"h\">וְ</span></span></span></span></div></div><div class=\"patom   rtl \" >\n",
       "        <div class=\"phrase  rtl \" >\n",
       "            <a href=\"https://shebanq.ancient-data.org/hebrew/text?book=Exodus&amp;chapter=23&amp;verse=16&amp;version=c&amp;mr=m&amp;qw=q&amp;tp=txt_p&amp;tr=hb&amp;wget=v&amp;qget=v&amp;nget=vt\" title=\"Exodus 23:16\" sec=\"Exodus 23:16\">phrase</a> <span class=\"nd\">677200</span>  <span class=\"function\">Objc</span> <span class=\"typ\">NP</span>\n",
       "        </div>\n",
       "        <div class=\"atoms rtl \">\n",
       "                    <span class=\"plain outer  rtl \"><span class=\"plain rtl  \" ><span class=\"plain rtl  \" ><span class=\"h\">חַ֤ג </span></span><span class=\"plain rtl  \" ><span class=\"h\">הַ</span></span><span class=\"plain rtl  \" ><span class=\"h\">קָּצִיר֙ </span></span></span></span></div></div><div class=\"patom   rtl \" >\n",
       "        <div class=\"phrase  rtl \" >\n",
       "            <a href=\"https://shebanq.ancient-data.org/hebrew/text?book=Exodus&amp;chapter=23&amp;verse=16&amp;version=c&amp;mr=m&amp;qw=q&amp;tp=txt_p&amp;tr=hb&amp;wget=v&amp;qget=v&amp;nget=vt\" title=\"Exodus 23:16\" sec=\"Exodus 23:16\">phrase</a> <span class=\"nd\">677201</span>  <span class=\"function\">Adju</span> <span class=\"typ\">NP</span>\n",
       "        </div>\n",
       "        <div class=\"atoms rtl \">\n",
       "                    <span class=\"plain outer  rtl \"><span class=\"plain rtl  \" ><span class=\"plain rtl  \" ><span class=\"h\">בִּכּוּרֵ֣י </span></span><span class=\"plain rtl  \" ><span class=\"h\">מַעֲשֶׂ֔יךָ </span></span></span></span></div></div></div></div><div class=\"catom  hl rtl \" >\n",
       "        <div class=\"clause hl rtl \" >\n",
       "            <a href=\"https://shebanq.ancient-data.org/hebrew/text?book=Exodus&amp;chapter=23&amp;verse=16&amp;version=c&amp;mr=m&amp;qw=q&amp;tp=txt_p&amp;tr=hb&amp;wget=v&amp;qget=v&amp;nget=vt\" title=\"Exodus 23:16\" sec=\"Exodus 23:16\">clause</a> <span class=\"nd\">436060</span>  <span class=\"rela\">Attr</span> <span class=\"typ\">xYq0</span>\n",
       "        </div>\n",
       "        <div class=\"atoms rtl \">\n",
       "                    <div class=\"patom   rtl \" >\n",
       "        <div class=\"phrase  rtl \" >\n",
       "            <a href=\"https://shebanq.ancient-data.org/hebrew/text?book=Exodus&amp;chapter=23&amp;verse=16&amp;version=c&amp;mr=m&amp;qw=q&amp;tp=txt_p&amp;tr=hb&amp;wget=v&amp;qget=v&amp;nget=vt\" title=\"Exodus 23:16\" sec=\"Exodus 23:16\">phrase</a> <span class=\"nd\">677202</span>  <span class=\"function\">Rela</span> <span class=\"typ\">CP</span>\n",
       "        </div>\n",
       "        <div class=\"atoms rtl \">\n",
       "                    <span class=\"plain outer  rtl \"><span class=\"plain rtl  \" ><span class=\"plain rtl  \" ><span class=\"h\">אֲשֶׁ֥ר </span></span></span></span></div></div><div class=\"patom  hl rtl \" >\n",
       "        <div class=\"phrase hl rtl \" >\n",
       "            <a href=\"https://shebanq.ancient-data.org/hebrew/text?book=Exodus&amp;chapter=23&amp;verse=16&amp;version=c&amp;mr=m&amp;qw=q&amp;tp=txt_p&amp;tr=hb&amp;wget=v&amp;qget=v&amp;nget=vt\" title=\"Exodus 23:16\" sec=\"Exodus 23:16\">phrase</a> <span class=\"nd\">677203</span>  <span class=\"function\">Pred</span> <span class=\"typ\">VP</span>\n",
       "        </div>\n",
       "        <div class=\"atoms rtl \">\n",
       "                    <span class=\"plain outer  rtl \"><span class=\"plain nd\">677203</span><span class=\"plain rtl  hl\" ><span class=\"plain nd\">677203</span><span class=\"plain rtl  \" ><span class=\"plain rtl  \" ><span class=\"h\">תִּזְרַ֖ע </span></span></span></span></span></div></div><div class=\"patom   rtl \" >\n",
       "        <div class=\"phrase  rtl \" >\n",
       "            <a href=\"https://shebanq.ancient-data.org/hebrew/text?book=Exodus&amp;chapter=23&amp;verse=16&amp;version=c&amp;mr=m&amp;qw=q&amp;tp=txt_p&amp;tr=hb&amp;wget=v&amp;qget=v&amp;nget=vt\" title=\"Exodus 23:16\" sec=\"Exodus 23:16\">phrase</a> <span class=\"nd\">677204</span>  <span class=\"function\">Loca</span> <span class=\"typ\">PP</span>\n",
       "        </div>\n",
       "        <div class=\"atoms rtl \">\n",
       "                    <span class=\"plain outer  rtl \"><span class=\"plain rtl  \" ><span class=\"plain rtl  \" ><span class=\"h\">בַּ</span></span><span class=\"plain rtl  \" ><span class=\"h\"></span></span><span class=\"plain rtl  \" ><span class=\"h\">שָּׂדֶ֑ה </span></span></span></span></div></div></div></div><div class=\"catom  hl rtl \" >\n",
       "        <div class=\"clause hl rtl \" >\n",
       "            <a href=\"https://shebanq.ancient-data.org/hebrew/text?book=Exodus&amp;chapter=23&amp;verse=16&amp;version=c&amp;mr=m&amp;qw=q&amp;tp=txt_p&amp;tr=hb&amp;wget=v&amp;qget=v&amp;nget=vt\" title=\"Exodus 23:16\" sec=\"Exodus 23:16\">clause</a> <span class=\"nd\">436061</span>  <span class=\"typ\">Ellp</span>\n",
       "        </div>\n",
       "        <div class=\"atoms rtl \">\n",
       "                    <div class=\"patom   rtl \" >\n",
       "        <div class=\"phrase  rtl \" >\n",
       "            <a href=\"https://shebanq.ancient-data.org/hebrew/text?book=Exodus&amp;chapter=23&amp;verse=16&amp;version=c&amp;mr=m&amp;qw=q&amp;tp=txt_p&amp;tr=hb&amp;wget=v&amp;qget=v&amp;nget=vt\" title=\"Exodus 23:16\" sec=\"Exodus 23:16\">phrase</a> <span class=\"nd\">677205</span>  <span class=\"function\">Conj</span> <span class=\"typ\">CP</span>\n",
       "        </div>\n",
       "        <div class=\"atoms rtl \">\n",
       "                    <span class=\"plain outer  rtl \"><span class=\"plain rtl  \" ><span class=\"plain rtl  \" ><span class=\"h\">וְ</span></span></span></span></div></div><div class=\"patom  hl rtl \" >\n",
       "        <div class=\"phrase hl rtl \" >\n",
       "            <a href=\"https://shebanq.ancient-data.org/hebrew/text?book=Exodus&amp;chapter=23&amp;verse=16&amp;version=c&amp;mr=m&amp;qw=q&amp;tp=txt_p&amp;tr=hb&amp;wget=v&amp;qget=v&amp;nget=vt\" title=\"Exodus 23:16\" sec=\"Exodus 23:16\">phrase</a> <span class=\"nd\">677206</span>  <span class=\"function\">Objc</span> <span class=\"typ\">NP</span>\n",
       "        </div>\n",
       "        <div class=\"atoms rtl \">\n",
       "                    <span class=\"plain outer  rtl \"><span class=\"plain nd\">677206</span><span class=\"plain rtl  hl\" ><span class=\"plain nd\">677206</span><span class=\"plain rtl  \" ><span class=\"plain rtl  hlbx\" ><span class=\"h\">חַ֤ג </span><span class=\"plain nd\">41291</span></span><span class=\"plain rtl  \" ><span class=\"h\">הָֽ</span></span><span class=\"plain rtl  \" ><span class=\"h\">אָסִף֙ </span></span></span></span></span></div></div></div></div><div class=\"catom   rtl \" >\n",
       "        <div class=\"clause  rtl \" >\n",
       "            <a href=\"https://shebanq.ancient-data.org/hebrew/text?book=Exodus&amp;chapter=23&amp;verse=16&amp;version=c&amp;mr=m&amp;qw=q&amp;tp=txt_p&amp;tr=hb&amp;wget=v&amp;qget=v&amp;nget=vt\" title=\"Exodus 23:16\" sec=\"Exodus 23:16\">clause</a> <span class=\"nd\">436062</span>  <span class=\"rela\">Adju</span> <span class=\"typ\">InfC</span>\n",
       "        </div>\n",
       "        <div class=\"atoms rtl \">\n",
       "                    <div class=\"patom   rtl \" >\n",
       "        <div class=\"phrase  rtl \" >\n",
       "            <a href=\"https://shebanq.ancient-data.org/hebrew/text?book=Exodus&amp;chapter=23&amp;verse=16&amp;version=c&amp;mr=m&amp;qw=q&amp;tp=txt_p&amp;tr=hb&amp;wget=v&amp;qget=v&amp;nget=vt\" title=\"Exodus 23:16\" sec=\"Exodus 23:16\">phrase</a> <span class=\"nd\">677207</span>  <span class=\"function\">Pred</span> <span class=\"typ\">VP</span>\n",
       "        </div>\n",
       "        <div class=\"atoms rtl \">\n",
       "                    <span class=\"plain outer  rtl \"><span class=\"plain rtl  \" ><span class=\"plain rtl  \" ><span class=\"h\">בְּ</span></span><span class=\"plain rtl  \" ><span class=\"h\">צֵ֣את </span></span></span></span></div></div><div class=\"patom   rtl \" >\n",
       "        <div class=\"phrase  rtl \" >\n",
       "            <a href=\"https://shebanq.ancient-data.org/hebrew/text?book=Exodus&amp;chapter=23&amp;verse=16&amp;version=c&amp;mr=m&amp;qw=q&amp;tp=txt_p&amp;tr=hb&amp;wget=v&amp;qget=v&amp;nget=vt\" title=\"Exodus 23:16\" sec=\"Exodus 23:16\">phrase</a> <span class=\"nd\">677208</span>  <span class=\"function\">Subj</span> <span class=\"typ\">NP</span>\n",
       "        </div>\n",
       "        <div class=\"atoms rtl \">\n",
       "                    <span class=\"plain outer  rtl \"><span class=\"plain rtl  \" ><span class=\"plain rtl  \" ><span class=\"h\">הַ</span></span><span class=\"plain rtl  \" ><span class=\"h\">שָּׁנָ֔ה </span></span></span></span></div></div></div></div><div class=\"catom   rtl \" >\n",
       "        <div class=\"clause  rtl \" >\n",
       "            <a href=\"https://shebanq.ancient-data.org/hebrew/text?book=Exodus&amp;chapter=23&amp;verse=16&amp;version=c&amp;mr=m&amp;qw=q&amp;tp=txt_p&amp;tr=hb&amp;wget=v&amp;qget=v&amp;nget=vt\" title=\"Exodus 23:16\" sec=\"Exodus 23:16\">clause</a> <span class=\"nd\">436063</span>  <span class=\"rela\">Adju</span> <span class=\"typ\">InfC</span>\n",
       "        </div>\n",
       "        <div class=\"atoms rtl \">\n",
       "                    <div class=\"patom   rtl \" >\n",
       "        <div class=\"phrase  rtl \" >\n",
       "            <a href=\"https://shebanq.ancient-data.org/hebrew/text?book=Exodus&amp;chapter=23&amp;verse=16&amp;version=c&amp;mr=m&amp;qw=q&amp;tp=txt_p&amp;tr=hb&amp;wget=v&amp;qget=v&amp;nget=vt\" title=\"Exodus 23:16\" sec=\"Exodus 23:16\">phrase</a> <span class=\"nd\">677209</span>  <span class=\"function\">PreS</span> <span class=\"typ\">VP</span>\n",
       "        </div>\n",
       "        <div class=\"atoms rtl \">\n",
       "                    <span class=\"plain outer  rtl \"><span class=\"plain rtl  \" ><span class=\"plain rtl  \" ><span class=\"h\">בְּ</span></span><span class=\"plain rtl  \" ><span class=\"h\">אָסְפְּךָ֥ </span></span></span></span></div></div><div class=\"patom   rtl \" >\n",
       "        <div class=\"phrase  rtl \" >\n",
       "            <a href=\"https://shebanq.ancient-data.org/hebrew/text?book=Exodus&amp;chapter=23&amp;verse=16&amp;version=c&amp;mr=m&amp;qw=q&amp;tp=txt_p&amp;tr=hb&amp;wget=v&amp;qget=v&amp;nget=vt\" title=\"Exodus 23:16\" sec=\"Exodus 23:16\">phrase</a> <span class=\"nd\">677210</span>  <span class=\"function\">Objc</span> <span class=\"typ\">PP</span>\n",
       "        </div>\n",
       "        <div class=\"atoms rtl \">\n",
       "                    <span class=\"plain outer  rtl \"><span class=\"plain rtl  \" ><span class=\"plain rtl  \" ><span class=\"h\">אֶֽת־</span></span><span class=\"plain rtl  \" ><span class=\"h\">מַעֲשֶׂ֖יךָ </span></span></span></span></div></div><div class=\"patom   rtl \" >\n",
       "        <div class=\"phrase  rtl \" >\n",
       "            <a href=\"https://shebanq.ancient-data.org/hebrew/text?book=Exodus&amp;chapter=23&amp;verse=16&amp;version=c&amp;mr=m&amp;qw=q&amp;tp=txt_p&amp;tr=hb&amp;wget=v&amp;qget=v&amp;nget=vt\" title=\"Exodus 23:16\" sec=\"Exodus 23:16\">phrase</a> <span class=\"nd\">677211</span>  <span class=\"function\">Loca</span> <span class=\"typ\">PP</span>\n",
       "        </div>\n",
       "        <div class=\"atoms rtl \">\n",
       "                    <span class=\"plain outer  rtl \"><span class=\"plain rtl  \" ><span class=\"plain rtl  \" ><span class=\"h\">מִן־</span></span><span class=\"plain rtl  \" ><span class=\"h\">הַ</span></span><span class=\"plain rtl  \" ><span class=\"h\">שָּׂדֶֽה׃ </span></span></span></span></div></div></div></div></div></div></div></div>"
      ],
      "text/plain": [
       "<IPython.core.display.HTML object>"
      ]
     },
     "metadata": {},
     "output_type": "display_data"
    },
    {
     "data": {
      "text/html": [
       "<p><b>result</b> <i>13</i></p>"
      ],
      "text/plain": [
       "<IPython.core.display.HTML object>"
      ]
     },
     "metadata": {},
     "output_type": "display_data"
    },
    {
     "data": {
      "text/html": [
       "<div class=\"outeritem rtl \"><div class=\"atoms   rtl \" ><div class=\"satom  l  rtl \" >\n",
       "        <div class=\"sentence  rtl \" >\n",
       "            <a href=\"https://shebanq.ancient-data.org/hebrew/text?book=Exodus&amp;chapter=23&amp;verse=15&amp;version=c&amp;mr=m&amp;qw=q&amp;tp=txt_p&amp;tr=hb&amp;wget=v&amp;qget=v&amp;nget=vt\" title=\"Exodus 23:15\" sec=\"Exodus 23:15\">sentence</a> <span class=\"nd\">1178876</span>  <span class=\"number\">36|1979</span>\n",
       "        </div>\n",
       "        <div class=\"atoms rtl \">\n",
       "                    <div class=\"catom  hl rtl \" >\n",
       "        <div class=\"clause hl rtl \" >\n",
       "            <a href=\"https://shebanq.ancient-data.org/hebrew/text?book=Exodus&amp;chapter=23&amp;verse=15&amp;version=c&amp;mr=m&amp;qw=q&amp;tp=txt_p&amp;tr=hb&amp;wget=v&amp;qget=v&amp;nget=vt\" title=\"Exodus 23:15\" sec=\"Exodus 23:15\">clause</a> <span class=\"nd\">436054</span>  <span class=\"typ\">xYq0</span>\n",
       "        </div>\n",
       "        <div class=\"atoms rtl \">\n",
       "                    <div class=\"patom   rtl \" >\n",
       "        <div class=\"phrase  rtl \" >\n",
       "            <a href=\"https://shebanq.ancient-data.org/hebrew/text?book=Exodus&amp;chapter=23&amp;verse=15&amp;version=c&amp;mr=m&amp;qw=q&amp;tp=txt_p&amp;tr=hb&amp;wget=v&amp;qget=v&amp;nget=vt\" title=\"Exodus 23:15\" sec=\"Exodus 23:15\">phrase</a> <span class=\"nd\">677181</span>  <span class=\"function\">Objc</span> <span class=\"typ\">PP</span>\n",
       "        </div>\n",
       "        <div class=\"atoms rtl \">\n",
       "                    <span class=\"plain outer  rtl \"><span class=\"plain rtl  \" ><span class=\"plain rtl  \" ><span class=\"h\">אֶת־</span></span><span class=\"plain rtl  \" ><span class=\"h\">חַ֣ג </span></span><span class=\"plain rtl  \" ><span class=\"h\">הַ</span></span><span class=\"plain rtl  \" ><span class=\"h\">מַּצֹּות֮ </span></span></span></span></div></div><div class=\"patom  hl rtl \" >\n",
       "        <div class=\"phrase hl rtl \" >\n",
       "            <a href=\"https://shebanq.ancient-data.org/hebrew/text?book=Exodus&amp;chapter=23&amp;verse=15&amp;version=c&amp;mr=m&amp;qw=q&amp;tp=txt_p&amp;tr=hb&amp;wget=v&amp;qget=v&amp;nget=vt\" title=\"Exodus 23:15\" sec=\"Exodus 23:15\">phrase</a> <span class=\"nd\">677182</span>  <span class=\"function\">Pred</span> <span class=\"typ\">VP</span>\n",
       "        </div>\n",
       "        <div class=\"atoms rtl \">\n",
       "                    <span class=\"plain outer  rtl \"><span class=\"plain nd\">677182</span><span class=\"plain rtl  hl\" ><span class=\"plain nd\">677182</span><span class=\"plain rtl  \" ><span class=\"plain rtl  hlbx\" ><span class=\"h\">תִּשְׁמֹר֒ </span><span class=\"plain nd\">41256</span></span></span></span></span></div></div></div></div></div></div><div class=\"satom  r  rtl \" >\n",
       "        <div class=\"sentence  rtl \" >\n",
       "            <a href=\"https://shebanq.ancient-data.org/hebrew/text?book=Exodus&amp;chapter=23&amp;verse=15&amp;version=c&amp;mr=m&amp;qw=q&amp;tp=txt_p&amp;tr=hb&amp;wget=v&amp;qget=v&amp;nget=vt\" title=\"Exodus 23:15\" sec=\"Exodus 23:15\">sentence</a> <span class=\"nd\">1178876</span>  <span class=\"number\">36|1983</span>\n",
       "        </div>\n",
       "        <div class=\"atoms rtl \">\n",
       "                    <div class=\"catom   rtl \" >\n",
       "        <div class=\"clause  rtl \" >\n",
       "            <a href=\"https://shebanq.ancient-data.org/hebrew/text?book=Exodus&amp;chapter=23&amp;verse=16&amp;version=c&amp;mr=m&amp;qw=q&amp;tp=txt_p&amp;tr=hb&amp;wget=v&amp;qget=v&amp;nget=vt\" title=\"Exodus 23:16\" sec=\"Exodus 23:16\">clause</a> <span class=\"nd\">436059</span>  <span class=\"typ\">Ellp</span>\n",
       "        </div>\n",
       "        <div class=\"atoms rtl \">\n",
       "                    <div class=\"patom   rtl \" >\n",
       "        <div class=\"phrase  rtl \" >\n",
       "            <a href=\"https://shebanq.ancient-data.org/hebrew/text?book=Exodus&amp;chapter=23&amp;verse=16&amp;version=c&amp;mr=m&amp;qw=q&amp;tp=txt_p&amp;tr=hb&amp;wget=v&amp;qget=v&amp;nget=vt\" title=\"Exodus 23:16\" sec=\"Exodus 23:16\">phrase</a> <span class=\"nd\">677199</span>  <span class=\"function\">Conj</span> <span class=\"typ\">CP</span>\n",
       "        </div>\n",
       "        <div class=\"atoms rtl \">\n",
       "                    <span class=\"plain outer  rtl \"><span class=\"plain rtl  \" ><span class=\"plain rtl  \" ><span class=\"h\">וְ</span></span></span></span></div></div><div class=\"patom   rtl \" >\n",
       "        <div class=\"phrase  rtl \" >\n",
       "            <a href=\"https://shebanq.ancient-data.org/hebrew/text?book=Exodus&amp;chapter=23&amp;verse=16&amp;version=c&amp;mr=m&amp;qw=q&amp;tp=txt_p&amp;tr=hb&amp;wget=v&amp;qget=v&amp;nget=vt\" title=\"Exodus 23:16\" sec=\"Exodus 23:16\">phrase</a> <span class=\"nd\">677200</span>  <span class=\"function\">Objc</span> <span class=\"typ\">NP</span>\n",
       "        </div>\n",
       "        <div class=\"atoms rtl \">\n",
       "                    <span class=\"plain outer  rtl \"><span class=\"plain rtl  \" ><span class=\"plain rtl  \" ><span class=\"h\">חַ֤ג </span></span><span class=\"plain rtl  \" ><span class=\"h\">הַ</span></span><span class=\"plain rtl  \" ><span class=\"h\">קָּצִיר֙ </span></span></span></span></div></div><div class=\"patom   rtl \" >\n",
       "        <div class=\"phrase  rtl \" >\n",
       "            <a href=\"https://shebanq.ancient-data.org/hebrew/text?book=Exodus&amp;chapter=23&amp;verse=16&amp;version=c&amp;mr=m&amp;qw=q&amp;tp=txt_p&amp;tr=hb&amp;wget=v&amp;qget=v&amp;nget=vt\" title=\"Exodus 23:16\" sec=\"Exodus 23:16\">phrase</a> <span class=\"nd\">677201</span>  <span class=\"function\">Adju</span> <span class=\"typ\">NP</span>\n",
       "        </div>\n",
       "        <div class=\"atoms rtl \">\n",
       "                    <span class=\"plain outer  rtl \"><span class=\"plain rtl  \" ><span class=\"plain rtl  \" ><span class=\"h\">בִּכּוּרֵ֣י </span></span><span class=\"plain rtl  \" ><span class=\"h\">מַעֲשֶׂ֔יךָ </span></span></span></span></div></div></div></div><div class=\"catom  hl rtl \" >\n",
       "        <div class=\"clause hl rtl \" >\n",
       "            <a href=\"https://shebanq.ancient-data.org/hebrew/text?book=Exodus&amp;chapter=23&amp;verse=16&amp;version=c&amp;mr=m&amp;qw=q&amp;tp=txt_p&amp;tr=hb&amp;wget=v&amp;qget=v&amp;nget=vt\" title=\"Exodus 23:16\" sec=\"Exodus 23:16\">clause</a> <span class=\"nd\">436060</span>  <span class=\"rela\">Attr</span> <span class=\"typ\">xYq0</span>\n",
       "        </div>\n",
       "        <div class=\"atoms rtl \">\n",
       "                    <div class=\"patom   rtl \" >\n",
       "        <div class=\"phrase  rtl \" >\n",
       "            <a href=\"https://shebanq.ancient-data.org/hebrew/text?book=Exodus&amp;chapter=23&amp;verse=16&amp;version=c&amp;mr=m&amp;qw=q&amp;tp=txt_p&amp;tr=hb&amp;wget=v&amp;qget=v&amp;nget=vt\" title=\"Exodus 23:16\" sec=\"Exodus 23:16\">phrase</a> <span class=\"nd\">677202</span>  <span class=\"function\">Rela</span> <span class=\"typ\">CP</span>\n",
       "        </div>\n",
       "        <div class=\"atoms rtl \">\n",
       "                    <span class=\"plain outer  rtl \"><span class=\"plain rtl  \" ><span class=\"plain rtl  \" ><span class=\"h\">אֲשֶׁ֥ר </span></span></span></span></div></div><div class=\"patom  hl rtl \" >\n",
       "        <div class=\"phrase hl rtl \" >\n",
       "            <a href=\"https://shebanq.ancient-data.org/hebrew/text?book=Exodus&amp;chapter=23&amp;verse=16&amp;version=c&amp;mr=m&amp;qw=q&amp;tp=txt_p&amp;tr=hb&amp;wget=v&amp;qget=v&amp;nget=vt\" title=\"Exodus 23:16\" sec=\"Exodus 23:16\">phrase</a> <span class=\"nd\">677203</span>  <span class=\"function\">Pred</span> <span class=\"typ\">VP</span>\n",
       "        </div>\n",
       "        <div class=\"atoms rtl \">\n",
       "                    <span class=\"plain outer  rtl \"><span class=\"plain nd\">677203</span><span class=\"plain rtl  hl\" ><span class=\"plain nd\">677203</span><span class=\"plain rtl  \" ><span class=\"plain rtl  \" ><span class=\"h\">תִּזְרַ֖ע </span></span></span></span></span></div></div><div class=\"patom   rtl \" >\n",
       "        <div class=\"phrase  rtl \" >\n",
       "            <a href=\"https://shebanq.ancient-data.org/hebrew/text?book=Exodus&amp;chapter=23&amp;verse=16&amp;version=c&amp;mr=m&amp;qw=q&amp;tp=txt_p&amp;tr=hb&amp;wget=v&amp;qget=v&amp;nget=vt\" title=\"Exodus 23:16\" sec=\"Exodus 23:16\">phrase</a> <span class=\"nd\">677204</span>  <span class=\"function\">Loca</span> <span class=\"typ\">PP</span>\n",
       "        </div>\n",
       "        <div class=\"atoms rtl \">\n",
       "                    <span class=\"plain outer  rtl \"><span class=\"plain rtl  \" ><span class=\"plain rtl  \" ><span class=\"h\">בַּ</span></span><span class=\"plain rtl  \" ><span class=\"h\"></span></span><span class=\"plain rtl  \" ><span class=\"h\">שָּׂדֶ֑ה </span></span></span></span></div></div></div></div><div class=\"catom  hl rtl \" >\n",
       "        <div class=\"clause hl rtl \" >\n",
       "            <a href=\"https://shebanq.ancient-data.org/hebrew/text?book=Exodus&amp;chapter=23&amp;verse=16&amp;version=c&amp;mr=m&amp;qw=q&amp;tp=txt_p&amp;tr=hb&amp;wget=v&amp;qget=v&amp;nget=vt\" title=\"Exodus 23:16\" sec=\"Exodus 23:16\">clause</a> <span class=\"nd\">436061</span>  <span class=\"typ\">Ellp</span>\n",
       "        </div>\n",
       "        <div class=\"atoms rtl \">\n",
       "                    <div class=\"patom   rtl \" >\n",
       "        <div class=\"phrase  rtl \" >\n",
       "            <a href=\"https://shebanq.ancient-data.org/hebrew/text?book=Exodus&amp;chapter=23&amp;verse=16&amp;version=c&amp;mr=m&amp;qw=q&amp;tp=txt_p&amp;tr=hb&amp;wget=v&amp;qget=v&amp;nget=vt\" title=\"Exodus 23:16\" sec=\"Exodus 23:16\">phrase</a> <span class=\"nd\">677205</span>  <span class=\"function\">Conj</span> <span class=\"typ\">CP</span>\n",
       "        </div>\n",
       "        <div class=\"atoms rtl \">\n",
       "                    <span class=\"plain outer  rtl \"><span class=\"plain rtl  \" ><span class=\"plain rtl  \" ><span class=\"h\">וְ</span></span></span></span></div></div><div class=\"patom  hl rtl \" >\n",
       "        <div class=\"phrase hl rtl \" >\n",
       "            <a href=\"https://shebanq.ancient-data.org/hebrew/text?book=Exodus&amp;chapter=23&amp;verse=16&amp;version=c&amp;mr=m&amp;qw=q&amp;tp=txt_p&amp;tr=hb&amp;wget=v&amp;qget=v&amp;nget=vt\" title=\"Exodus 23:16\" sec=\"Exodus 23:16\">phrase</a> <span class=\"nd\">677206</span>  <span class=\"function\">Objc</span> <span class=\"typ\">NP</span>\n",
       "        </div>\n",
       "        <div class=\"atoms rtl \">\n",
       "                    <span class=\"plain outer  rtl \"><span class=\"plain nd\">677206</span><span class=\"plain rtl  hl\" ><span class=\"plain nd\">677206</span><span class=\"plain rtl  \" ><span class=\"plain rtl  \" ><span class=\"h\">חַ֤ג </span></span><span class=\"plain rtl  \" ><span class=\"h\">הָֽ</span></span><span class=\"plain rtl  hlbx\" ><span class=\"h\">אָסִף֙ </span><span class=\"plain nd\">41293</span></span></span></span></span></div></div></div></div><div class=\"catom   rtl \" >\n",
       "        <div class=\"clause  rtl \" >\n",
       "            <a href=\"https://shebanq.ancient-data.org/hebrew/text?book=Exodus&amp;chapter=23&amp;verse=16&amp;version=c&amp;mr=m&amp;qw=q&amp;tp=txt_p&amp;tr=hb&amp;wget=v&amp;qget=v&amp;nget=vt\" title=\"Exodus 23:16\" sec=\"Exodus 23:16\">clause</a> <span class=\"nd\">436062</span>  <span class=\"rela\">Adju</span> <span class=\"typ\">InfC</span>\n",
       "        </div>\n",
       "        <div class=\"atoms rtl \">\n",
       "                    <div class=\"patom   rtl \" >\n",
       "        <div class=\"phrase  rtl \" >\n",
       "            <a href=\"https://shebanq.ancient-data.org/hebrew/text?book=Exodus&amp;chapter=23&amp;verse=16&amp;version=c&amp;mr=m&amp;qw=q&amp;tp=txt_p&amp;tr=hb&amp;wget=v&amp;qget=v&amp;nget=vt\" title=\"Exodus 23:16\" sec=\"Exodus 23:16\">phrase</a> <span class=\"nd\">677207</span>  <span class=\"function\">Pred</span> <span class=\"typ\">VP</span>\n",
       "        </div>\n",
       "        <div class=\"atoms rtl \">\n",
       "                    <span class=\"plain outer  rtl \"><span class=\"plain rtl  \" ><span class=\"plain rtl  \" ><span class=\"h\">בְּ</span></span><span class=\"plain rtl  \" ><span class=\"h\">צֵ֣את </span></span></span></span></div></div><div class=\"patom   rtl \" >\n",
       "        <div class=\"phrase  rtl \" >\n",
       "            <a href=\"https://shebanq.ancient-data.org/hebrew/text?book=Exodus&amp;chapter=23&amp;verse=16&amp;version=c&amp;mr=m&amp;qw=q&amp;tp=txt_p&amp;tr=hb&amp;wget=v&amp;qget=v&amp;nget=vt\" title=\"Exodus 23:16\" sec=\"Exodus 23:16\">phrase</a> <span class=\"nd\">677208</span>  <span class=\"function\">Subj</span> <span class=\"typ\">NP</span>\n",
       "        </div>\n",
       "        <div class=\"atoms rtl \">\n",
       "                    <span class=\"plain outer  rtl \"><span class=\"plain rtl  \" ><span class=\"plain rtl  \" ><span class=\"h\">הַ</span></span><span class=\"plain rtl  \" ><span class=\"h\">שָּׁנָ֔ה </span></span></span></span></div></div></div></div><div class=\"catom   rtl \" >\n",
       "        <div class=\"clause  rtl \" >\n",
       "            <a href=\"https://shebanq.ancient-data.org/hebrew/text?book=Exodus&amp;chapter=23&amp;verse=16&amp;version=c&amp;mr=m&amp;qw=q&amp;tp=txt_p&amp;tr=hb&amp;wget=v&amp;qget=v&amp;nget=vt\" title=\"Exodus 23:16\" sec=\"Exodus 23:16\">clause</a> <span class=\"nd\">436063</span>  <span class=\"rela\">Adju</span> <span class=\"typ\">InfC</span>\n",
       "        </div>\n",
       "        <div class=\"atoms rtl \">\n",
       "                    <div class=\"patom   rtl \" >\n",
       "        <div class=\"phrase  rtl \" >\n",
       "            <a href=\"https://shebanq.ancient-data.org/hebrew/text?book=Exodus&amp;chapter=23&amp;verse=16&amp;version=c&amp;mr=m&amp;qw=q&amp;tp=txt_p&amp;tr=hb&amp;wget=v&amp;qget=v&amp;nget=vt\" title=\"Exodus 23:16\" sec=\"Exodus 23:16\">phrase</a> <span class=\"nd\">677209</span>  <span class=\"function\">PreS</span> <span class=\"typ\">VP</span>\n",
       "        </div>\n",
       "        <div class=\"atoms rtl \">\n",
       "                    <span class=\"plain outer  rtl \"><span class=\"plain rtl  \" ><span class=\"plain rtl  \" ><span class=\"h\">בְּ</span></span><span class=\"plain rtl  \" ><span class=\"h\">אָסְפְּךָ֥ </span></span></span></span></div></div><div class=\"patom   rtl \" >\n",
       "        <div class=\"phrase  rtl \" >\n",
       "            <a href=\"https://shebanq.ancient-data.org/hebrew/text?book=Exodus&amp;chapter=23&amp;verse=16&amp;version=c&amp;mr=m&amp;qw=q&amp;tp=txt_p&amp;tr=hb&amp;wget=v&amp;qget=v&amp;nget=vt\" title=\"Exodus 23:16\" sec=\"Exodus 23:16\">phrase</a> <span class=\"nd\">677210</span>  <span class=\"function\">Objc</span> <span class=\"typ\">PP</span>\n",
       "        </div>\n",
       "        <div class=\"atoms rtl \">\n",
       "                    <span class=\"plain outer  rtl \"><span class=\"plain rtl  \" ><span class=\"plain rtl  \" ><span class=\"h\">אֶֽת־</span></span><span class=\"plain rtl  \" ><span class=\"h\">מַעֲשֶׂ֖יךָ </span></span></span></span></div></div><div class=\"patom   rtl \" >\n",
       "        <div class=\"phrase  rtl \" >\n",
       "            <a href=\"https://shebanq.ancient-data.org/hebrew/text?book=Exodus&amp;chapter=23&amp;verse=16&amp;version=c&amp;mr=m&amp;qw=q&amp;tp=txt_p&amp;tr=hb&amp;wget=v&amp;qget=v&amp;nget=vt\" title=\"Exodus 23:16\" sec=\"Exodus 23:16\">phrase</a> <span class=\"nd\">677211</span>  <span class=\"function\">Loca</span> <span class=\"typ\">PP</span>\n",
       "        </div>\n",
       "        <div class=\"atoms rtl \">\n",
       "                    <span class=\"plain outer  rtl \"><span class=\"plain rtl  \" ><span class=\"plain rtl  \" ><span class=\"h\">מִן־</span></span><span class=\"plain rtl  \" ><span class=\"h\">הַ</span></span><span class=\"plain rtl  \" ><span class=\"h\">שָּׂדֶֽה׃ </span></span></span></span></div></div></div></div></div></div></div></div>"
      ],
      "text/plain": [
       "<IPython.core.display.HTML object>"
      ]
     },
     "metadata": {},
     "output_type": "display_data"
    },
    {
     "data": {
      "text/html": [
       "<p><b>result</b> <i>14</i></p>"
      ],
      "text/plain": [
       "<IPython.core.display.HTML object>"
      ]
     },
     "metadata": {},
     "output_type": "display_data"
    },
    {
     "data": {
      "text/html": [
       "<div class=\"outeritem rtl \"><div class=\"atoms   rtl \" ><div class=\"satom   rtl \" >\n",
       "        <div class=\"sentence  rtl \" >\n",
       "            <a href=\"https://shebanq.ancient-data.org/hebrew/text?book=Exodus&amp;chapter=25&amp;verse=12&amp;version=c&amp;mr=m&amp;qw=q&amp;tp=txt_p&amp;tr=hb&amp;wget=v&amp;qget=v&amp;nget=vt\" title=\"Exodus 25:12\" sec=\"Exodus 25:12\">sentence</a> <span class=\"nd\">1178995</span>  <span class=\"number\">16|2099</span>\n",
       "        </div>\n",
       "        <div class=\"atoms rtl \">\n",
       "                    <div class=\"catom  hl rtl \" >\n",
       "        <div class=\"clause hl rtl \" >\n",
       "            <a href=\"https://shebanq.ancient-data.org/hebrew/text?book=Exodus&amp;chapter=25&amp;verse=12&amp;version=c&amp;mr=m&amp;qw=q&amp;tp=txt_p&amp;tr=hb&amp;wget=v&amp;qget=v&amp;nget=vt\" title=\"Exodus 25:12\" sec=\"Exodus 25:12\">clause</a> <span class=\"nd\">436206</span>  <span class=\"typ\">WQt0</span>\n",
       "        </div>\n",
       "        <div class=\"atoms rtl \">\n",
       "                    <div class=\"patom   rtl \" >\n",
       "        <div class=\"phrase  rtl \" >\n",
       "            <a href=\"https://shebanq.ancient-data.org/hebrew/text?book=Exodus&amp;chapter=25&amp;verse=12&amp;version=c&amp;mr=m&amp;qw=q&amp;tp=txt_p&amp;tr=hb&amp;wget=v&amp;qget=v&amp;nget=vt\" title=\"Exodus 25:12\" sec=\"Exodus 25:12\">phrase</a> <span class=\"nd\">677666</span>  <span class=\"function\">Conj</span> <span class=\"typ\">CP</span>\n",
       "        </div>\n",
       "        <div class=\"atoms rtl \">\n",
       "                    <span class=\"plain outer  rtl \"><span class=\"plain rtl  \" ><span class=\"plain rtl  \" ><span class=\"h\">וְ</span></span></span></span></div></div><div class=\"patom  hl rtl \" >\n",
       "        <div class=\"phrase hl rtl \" >\n",
       "            <a href=\"https://shebanq.ancient-data.org/hebrew/text?book=Exodus&amp;chapter=25&amp;verse=12&amp;version=c&amp;mr=m&amp;qw=q&amp;tp=txt_p&amp;tr=hb&amp;wget=v&amp;qget=v&amp;nget=vt\" title=\"Exodus 25:12\" sec=\"Exodus 25:12\">phrase</a> <span class=\"nd\">677667</span>  <span class=\"function\">Pred</span> <span class=\"typ\">VP</span>\n",
       "        </div>\n",
       "        <div class=\"atoms rtl \">\n",
       "                    <span class=\"plain outer  rtl \"><span class=\"plain nd\">677667</span><span class=\"plain rtl  hl\" ><span class=\"plain nd\">677667</span><span class=\"plain rtl  \" ><span class=\"plain rtl  hlbx\" ><span class=\"h\">יָצַ֣קְתָּ </span><span class=\"plain nd\">42123</span></span></span></span></span></div></div><div class=\"patom   rtl \" >\n",
       "        <div class=\"phrase  rtl \" >\n",
       "            <a href=\"https://shebanq.ancient-data.org/hebrew/text?book=Exodus&amp;chapter=25&amp;verse=12&amp;version=c&amp;mr=m&amp;qw=q&amp;tp=txt_p&amp;tr=hb&amp;wget=v&amp;qget=v&amp;nget=vt\" title=\"Exodus 25:12\" sec=\"Exodus 25:12\">phrase</a> <span class=\"nd\">677668</span>  <span class=\"function\">Cmpl</span> <span class=\"typ\">PP</span>\n",
       "        </div>\n",
       "        <div class=\"atoms rtl \">\n",
       "                    <span class=\"plain outer  rtl \"><span class=\"plain rtl  \" ><span class=\"plain rtl  \" ><span class=\"h\">לֹּ֗ו </span></span></span></span></div></div><div class=\"patom   rtl \" >\n",
       "        <div class=\"phrase  rtl \" >\n",
       "            <a href=\"https://shebanq.ancient-data.org/hebrew/text?book=Exodus&amp;chapter=25&amp;verse=12&amp;version=c&amp;mr=m&amp;qw=q&amp;tp=txt_p&amp;tr=hb&amp;wget=v&amp;qget=v&amp;nget=vt\" title=\"Exodus 25:12\" sec=\"Exodus 25:12\">phrase</a> <span class=\"nd\">677669</span>  <span class=\"function\">Objc</span> <span class=\"typ\">NP</span>\n",
       "        </div>\n",
       "        <div class=\"atoms rtl \">\n",
       "                    <span class=\"plain outer  rtl \"><span class=\"plain rtl  \" ><span class=\"plain rtl  \" ><span class=\"h\">אַרְבַּע֙ </span></span><span class=\"plain rtl  \" ><span class=\"h\">טַבְּעֹ֣ת </span></span><span class=\"plain rtl  \" ><span class=\"h\">זָהָ֔ב </span></span></span></span></div></div></div></div><div class=\"catom  hl rtl \" >\n",
       "        <div class=\"clause hl rtl \" >\n",
       "            <a href=\"https://shebanq.ancient-data.org/hebrew/text?book=Exodus&amp;chapter=25&amp;verse=12&amp;version=c&amp;mr=m&amp;qw=q&amp;tp=txt_p&amp;tr=hb&amp;wget=v&amp;qget=v&amp;nget=vt\" title=\"Exodus 25:12\" sec=\"Exodus 25:12\">clause</a> <span class=\"nd\">436207</span>  <span class=\"rela\">Coor</span> <span class=\"typ\">WQt0</span>\n",
       "        </div>\n",
       "        <div class=\"atoms rtl \">\n",
       "                    <div class=\"patom   rtl \" >\n",
       "        <div class=\"phrase  rtl \" >\n",
       "            <a href=\"https://shebanq.ancient-data.org/hebrew/text?book=Exodus&amp;chapter=25&amp;verse=12&amp;version=c&amp;mr=m&amp;qw=q&amp;tp=txt_p&amp;tr=hb&amp;wget=v&amp;qget=v&amp;nget=vt\" title=\"Exodus 25:12\" sec=\"Exodus 25:12\">phrase</a> <span class=\"nd\">677670</span>  <span class=\"function\">Conj</span> <span class=\"typ\">CP</span>\n",
       "        </div>\n",
       "        <div class=\"atoms rtl \">\n",
       "                    <span class=\"plain outer  rtl \"><span class=\"plain rtl  \" ><span class=\"plain rtl  \" ><span class=\"h\">וְ</span></span></span></span></div></div><div class=\"patom  hl rtl \" >\n",
       "        <div class=\"phrase hl rtl \" >\n",
       "            <a href=\"https://shebanq.ancient-data.org/hebrew/text?book=Exodus&amp;chapter=25&amp;verse=12&amp;version=c&amp;mr=m&amp;qw=q&amp;tp=txt_p&amp;tr=hb&amp;wget=v&amp;qget=v&amp;nget=vt\" title=\"Exodus 25:12\" sec=\"Exodus 25:12\">phrase</a> <span class=\"nd\">677671</span>  <span class=\"function\">Pred</span> <span class=\"typ\">VP</span>\n",
       "        </div>\n",
       "        <div class=\"atoms rtl \">\n",
       "                    <span class=\"plain outer  rtl \"><span class=\"plain nd\">677671</span><span class=\"plain rtl  hl\" ><span class=\"plain nd\">677671</span><span class=\"plain rtl  \" ><span class=\"plain rtl  \" ><span class=\"h\">נָ֣תַתָּ֔ה </span></span></span></span></span></div></div><div class=\"patom   rtl \" >\n",
       "        <div class=\"phrase  rtl \" >\n",
       "            <a href=\"https://shebanq.ancient-data.org/hebrew/text?book=Exodus&amp;chapter=25&amp;verse=12&amp;version=c&amp;mr=m&amp;qw=q&amp;tp=txt_p&amp;tr=hb&amp;wget=v&amp;qget=v&amp;nget=vt\" title=\"Exodus 25:12\" sec=\"Exodus 25:12\">phrase</a> <span class=\"nd\">677672</span>  <span class=\"function\">Cmpl</span> <span class=\"typ\">PP</span>\n",
       "        </div>\n",
       "        <div class=\"atoms rtl \">\n",
       "                    <span class=\"plain outer  rtl \"><span class=\"plain rtl  \" ><span class=\"plain rtl  \" ><span class=\"h\">עַ֖ל </span></span><span class=\"plain rtl  \" ><span class=\"h\">אַרְבַּ֣ע </span></span><span class=\"plain rtl  \" ><span class=\"h\">פַּעֲמֹתָ֑יו </span></span></span></span></div></div></div></div><div class=\"catom  hl rtl \" >\n",
       "        <div class=\"clause hl rtl \" >\n",
       "            <a href=\"https://shebanq.ancient-data.org/hebrew/text?book=Exodus&amp;chapter=25&amp;verse=12&amp;version=c&amp;mr=m&amp;qw=q&amp;tp=txt_p&amp;tr=hb&amp;wget=v&amp;qget=v&amp;nget=vt\" title=\"Exodus 25:12\" sec=\"Exodus 25:12\">clause</a> <span class=\"nd\">436208</span>  <span class=\"typ\">Ellp</span>\n",
       "        </div>\n",
       "        <div class=\"atoms rtl \">\n",
       "                    <div class=\"patom   rtl \" >\n",
       "        <div class=\"phrase  rtl \" >\n",
       "            <a href=\"https://shebanq.ancient-data.org/hebrew/text?book=Exodus&amp;chapter=25&amp;verse=12&amp;version=c&amp;mr=m&amp;qw=q&amp;tp=txt_p&amp;tr=hb&amp;wget=v&amp;qget=v&amp;nget=vt\" title=\"Exodus 25:12\" sec=\"Exodus 25:12\">phrase</a> <span class=\"nd\">677673</span>  <span class=\"function\">Conj</span> <span class=\"typ\">CP</span>\n",
       "        </div>\n",
       "        <div class=\"atoms rtl \">\n",
       "                    <span class=\"plain outer  rtl \"><span class=\"plain rtl  \" ><span class=\"plain rtl  \" ><span class=\"h\">וּ</span></span></span></span></div></div><div class=\"patom  hl rtl \" >\n",
       "        <div class=\"phrase hl rtl \" >\n",
       "            <a href=\"https://shebanq.ancient-data.org/hebrew/text?book=Exodus&amp;chapter=25&amp;verse=12&amp;version=c&amp;mr=m&amp;qw=q&amp;tp=txt_p&amp;tr=hb&amp;wget=v&amp;qget=v&amp;nget=vt\" title=\"Exodus 25:12\" sec=\"Exodus 25:12\">phrase</a> <span class=\"nd\">677674</span>  <span class=\"function\">Objc</span> <span class=\"typ\">NP</span>\n",
       "        </div>\n",
       "        <div class=\"atoms rtl \">\n",
       "                    <span class=\"plain outer  rtl \"><span class=\"plain nd\">677674</span><span class=\"plain rtl  hl\" ><span class=\"plain nd\">677674</span><span class=\"plain rtl  \" ><span class=\"plain rtl  hlbx\" ><span class=\"h\">שְׁתֵּ֣י </span><span class=\"plain nd\">42134</span></span><span class=\"plain rtl  \" ><span class=\"h\">טַבָּעֹ֗ת </span></span></span></span></span></div></div><div class=\"patom   rtl \" >\n",
       "        <div class=\"phrase  rtl \" >\n",
       "            <a href=\"https://shebanq.ancient-data.org/hebrew/text?book=Exodus&amp;chapter=25&amp;verse=12&amp;version=c&amp;mr=m&amp;qw=q&amp;tp=txt_p&amp;tr=hb&amp;wget=v&amp;qget=v&amp;nget=vt\" title=\"Exodus 25:12\" sec=\"Exodus 25:12\">phrase</a> <span class=\"nd\">677675</span>  <span class=\"function\">Cmpl</span> <span class=\"typ\">PP</span>\n",
       "        </div>\n",
       "        <div class=\"atoms rtl \">\n",
       "                    <span class=\"plain outer  rtl \"><span class=\"plain rtl  \" ><span class=\"plain rtl  \" ><span class=\"h\">עַל־</span></span><span class=\"plain rtl  \" ><span class=\"h\">צַלְעֹו֙ </span></span><span class=\"plain rtl  \" ><span class=\"h\">הָֽ</span></span><span class=\"plain rtl  \" ><span class=\"h\">אֶחָ֔ת </span></span></span></span></div></div></div></div><div class=\"catom   rtl \" >\n",
       "        <div class=\"clause  rtl \" >\n",
       "            <a href=\"https://shebanq.ancient-data.org/hebrew/text?book=Exodus&amp;chapter=25&amp;verse=12&amp;version=c&amp;mr=m&amp;qw=q&amp;tp=txt_p&amp;tr=hb&amp;wget=v&amp;qget=v&amp;nget=vt\" title=\"Exodus 25:12\" sec=\"Exodus 25:12\">clause</a> <span class=\"nd\">436209</span>  <span class=\"typ\">Ellp</span>\n",
       "        </div>\n",
       "        <div class=\"atoms rtl \">\n",
       "                    <div class=\"patom   rtl \" >\n",
       "        <div class=\"phrase  rtl \" >\n",
       "            <a href=\"https://shebanq.ancient-data.org/hebrew/text?book=Exodus&amp;chapter=25&amp;verse=12&amp;version=c&amp;mr=m&amp;qw=q&amp;tp=txt_p&amp;tr=hb&amp;wget=v&amp;qget=v&amp;nget=vt\" title=\"Exodus 25:12\" sec=\"Exodus 25:12\">phrase</a> <span class=\"nd\">677676</span>  <span class=\"function\">Conj</span> <span class=\"typ\">CP</span>\n",
       "        </div>\n",
       "        <div class=\"atoms rtl \">\n",
       "                    <span class=\"plain outer  rtl \"><span class=\"plain rtl  \" ><span class=\"plain rtl  \" ><span class=\"h\">וּ</span></span></span></span></div></div><div class=\"patom   rtl \" >\n",
       "        <div class=\"phrase  rtl \" >\n",
       "            <a href=\"https://shebanq.ancient-data.org/hebrew/text?book=Exodus&amp;chapter=25&amp;verse=12&amp;version=c&amp;mr=m&amp;qw=q&amp;tp=txt_p&amp;tr=hb&amp;wget=v&amp;qget=v&amp;nget=vt\" title=\"Exodus 25:12\" sec=\"Exodus 25:12\">phrase</a> <span class=\"nd\">677677</span>  <span class=\"function\">Objc</span> <span class=\"typ\">NP</span>\n",
       "        </div>\n",
       "        <div class=\"atoms rtl \">\n",
       "                    <span class=\"plain outer  rtl \"><span class=\"plain rtl  \" ><span class=\"plain rtl  \" ><span class=\"h\">שְׁתֵּי֙ </span></span><span class=\"plain rtl  \" ><span class=\"h\">טַבָּעֹ֔ת </span></span></span></span></div></div><div class=\"patom   rtl \" >\n",
       "        <div class=\"phrase  rtl \" >\n",
       "            <a href=\"https://shebanq.ancient-data.org/hebrew/text?book=Exodus&amp;chapter=25&amp;verse=12&amp;version=c&amp;mr=m&amp;qw=q&amp;tp=txt_p&amp;tr=hb&amp;wget=v&amp;qget=v&amp;nget=vt\" title=\"Exodus 25:12\" sec=\"Exodus 25:12\">phrase</a> <span class=\"nd\">677678</span>  <span class=\"function\">Cmpl</span> <span class=\"typ\">PP</span>\n",
       "        </div>\n",
       "        <div class=\"atoms rtl \">\n",
       "                    <span class=\"plain outer  rtl \"><span class=\"plain rtl  \" ><span class=\"plain rtl  \" ><span class=\"h\">עַל־</span></span><span class=\"plain rtl  \" ><span class=\"h\">צַלְעֹ֖ו </span></span><span class=\"plain rtl  \" ><span class=\"h\">הַ</span></span><span class=\"plain rtl  \" ><span class=\"h\">שֵּׁנִֽית׃ </span></span></span></span></div></div></div></div></div></div></div></div>"
      ],
      "text/plain": [
       "<IPython.core.display.HTML object>"
      ]
     },
     "metadata": {},
     "output_type": "display_data"
    }
   ],
   "source": [
    "A.show(results, start=10, end=14, withNodes=True, condenseType='sentence', baseType=\"phrase\", withPassage=False)"
   ]
  },
  {
   "cell_type": "markdown",
   "metadata": {},
   "source": [
    "# Next steps\n",
    "\n",
    "* **display** become an expert in creating pretty displays of your text structures\n",
    "* **[search](search.ipynb)** turbo charge your hand-coding with search templates\n",
    "* **[exportExcel](exportExcel.ipynb)** make tailor-made spreadsheets out of your results\n",
    "* **[share](share.ipynb)** draw in other people's data and let them use yours\n",
    "* **[export](export.ipynb)** export your dataset as an Emdros database\n",
    "\n",
    "Back to [start](start.ipynb)"
   ]
  }
 ],
 "metadata": {
  "kernelspec": {
   "display_name": "Python 3",
   "language": "python",
   "name": "python3"
  },
  "language_info": {
   "codemirror_mode": {
    "name": "ipython",
    "version": 3
   },
   "file_extension": ".py",
   "mimetype": "text/x-python",
   "name": "python",
   "nbconvert_exporter": "python",
   "pygments_lexer": "ipython3",
   "version": "3.7.7"
  },
  "toc": {
   "base_numbering": 1,
   "nav_menu": {},
   "number_sections": true,
   "sideBar": true,
   "skip_h1_title": true,
   "title_cell": "Table of Contents",
   "title_sidebar": "Contents",
   "toc_cell": true,
   "toc_position": {},
   "toc_section_display": "block",
   "toc_window_display": false
  }
 },
 "nbformat": 4,
 "nbformat_minor": 4
}
