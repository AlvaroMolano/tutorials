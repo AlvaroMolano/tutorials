{
 "cells": [
  {
   "cell_type": "markdown",
   "metadata": {},
   "source": [
    "<img align=\"right\" src=\"images/tf-small.png\" width=\"128\"/>\n",
    "<img align=\"right\" src=\"images/etcbc.png\"/>\n",
    "<img align=\"right\" src=\"images/dans-small.png\"/>\n",
    "\n",
    "You might want to consider the [start](search.ipynb) of this tutorial."
   ]
  },
  {
   "cell_type": "code",
   "execution_count": 1,
   "metadata": {},
   "outputs": [],
   "source": [
    "%load_ext autoreload\n",
    "%autoreload 2"
   ]
  },
  {
   "cell_type": "code",
   "execution_count": 2,
   "metadata": {
    "ExecuteTime": {
     "end_time": "2018-05-24T10:06:39.818664Z",
     "start_time": "2018-05-24T10:06:39.796588Z"
    }
   },
   "outputs": [],
   "source": [
    "from tf.app import use"
   ]
  },
  {
   "cell_type": "code",
   "execution_count": 3,
   "metadata": {
    "ExecuteTime": {
     "end_time": "2018-05-24T10:06:41.254515Z",
     "start_time": "2018-05-24T10:06:41.238046Z"
    }
   },
   "outputs": [],
   "source": [
    "VERSION = '2017'"
   ]
  },
  {
   "cell_type": "code",
   "execution_count": 4,
   "metadata": {
    "ExecuteTime": {
     "end_time": "2018-05-24T10:06:48.865143Z",
     "start_time": "2018-05-24T10:06:44.712958Z"
    }
   },
   "outputs": [
    {
     "name": "stdout",
     "output_type": "stream",
     "text": [
      "\tconnecting to online GitHub repo annotation/app-bhsa ... connected\n",
      "Using TF-app in /Users/dirk/text-fabric-data/annotation/app-bhsa/code:\n",
      "\t#d3cf8f0c2ab5d690a0fda14ea31c33da5c5c8483 (latest commit)\n",
      "\tconnecting to online GitHub repo etcbc/bhsa ... connected\n",
      "Using data in /Users/dirk/text-fabric-data/etcbc/bhsa/tf/2017:\n",
      "\trv1.6 (latest release)\n",
      "\tconnecting to online GitHub repo etcbc/phono ... connected\n",
      "Using data in /Users/dirk/text-fabric-data/etcbc/phono/tf/2017:\n",
      "\tr1.2=#1ac68e976ee4a7f23eb6bb4c6f401a033d0ec169 (latest release)\n",
      "\tconnecting to online GitHub repo etcbc/parallels ... connected\n",
      "Using data in /Users/dirk/text-fabric-data/etcbc/parallels/tf/2017:\n",
      "\tr1.2=#395dfe2cb69c261862fab9f0289e594a52121d5c (latest release)\n"
     ]
    },
    {
     "data": {
      "text/html": [
       "<b>Documentation:</b> <a target=\"_blank\" href=\"https://etcbc.github.io/bhsa\" title=\"provenance of BHSA = Biblia Hebraica Stuttgartensia Amstelodamensis\">BHSA</a> <a target=\"_blank\" href=\"https://annotation.github.io/text-fabric/Writing/Hebrew\" title=\"('Hebrew characters and transcriptions',)\">Character table</a> <a target=\"_blank\" href=\"https://etcbc.github.io/bhsa/features/0_home\" title=\"BHSA feature documentation\">Feature docs</a> <a target=\"_blank\" href=\"https://github.com/annotation/app-bhsa\" title=\"bhsa API documentation\">bhsa API</a> <a target=\"_blank\" href=\"https://annotation.github.io/text-fabric/Api/Fabric/\" title=\"text-fabric-api\">Text-Fabric API 7.7.8</a> <a target=\"_blank\" href=\"https://annotation.github.io/text-fabric/Use/Search/\" title=\"Search Templates Introduction and Reference\">Search Reference</a><details open><summary><b>Loaded features</b>:</summary>\n",
       "<p><b>BHSA = Biblia Hebraica Stuttgartensia Amstelodamensis</b>: <a target=\"_blank\" href=\"https://etcbc.github.io/bhsa/features/book\" title=\"/Users/dirk/text-fabric-data/etcbc/bhsa/tf/2017/book.tf\">book</a>  <a target=\"_blank\" href=\"https://etcbc.github.io/bhsa/features/book@ll\" title=\"/Users/dirk/text-fabric-data/etcbc/bhsa/tf/2017/book@am.tf\">book@ll</a>  <a target=\"_blank\" href=\"https://etcbc.github.io/bhsa/features/chapter\" title=\"/Users/dirk/text-fabric-data/etcbc/bhsa/tf/2017/chapter.tf\">chapter</a>  <a target=\"_blank\" href=\"https://etcbc.github.io/bhsa/features/code\" title=\"/Users/dirk/text-fabric-data/etcbc/bhsa/tf/2017/code.tf\">code</a>  <a target=\"_blank\" href=\"https://etcbc.github.io/bhsa/features/det\" title=\"/Users/dirk/text-fabric-data/etcbc/bhsa/tf/2017/det.tf\">det</a>  <a target=\"_blank\" href=\"https://etcbc.github.io/bhsa/features/freq_lex\" title=\"/Users/dirk/text-fabric-data/etcbc/bhsa/tf/2017/freq_lex.tf\">freq_lex</a>  <a target=\"_blank\" href=\"https://etcbc.github.io/bhsa/features/function\" title=\"/Users/dirk/text-fabric-data/etcbc/bhsa/tf/2017/function.tf\">function</a>  <a target=\"_blank\" href=\"https://etcbc.github.io/bhsa/features/g_cons\" title=\"/Users/dirk/text-fabric-data/etcbc/bhsa/tf/2017/g_cons.tf\">g_cons</a>  <a target=\"_blank\" href=\"https://etcbc.github.io/bhsa/features/g_cons_utf8\" title=\"/Users/dirk/text-fabric-data/etcbc/bhsa/tf/2017/g_cons_utf8.tf\">g_cons_utf8</a>  <a target=\"_blank\" href=\"https://etcbc.github.io/bhsa/features/g_lex\" title=\"/Users/dirk/text-fabric-data/etcbc/bhsa/tf/2017/g_lex.tf\">g_lex</a>  <a target=\"_blank\" href=\"https://etcbc.github.io/bhsa/features/g_lex_utf8\" title=\"/Users/dirk/text-fabric-data/etcbc/bhsa/tf/2017/g_lex_utf8.tf\">g_lex_utf8</a>  <a target=\"_blank\" href=\"https://etcbc.github.io/bhsa/features/g_word\" title=\"/Users/dirk/text-fabric-data/etcbc/bhsa/tf/2017/g_word.tf\">g_word</a>  <a target=\"_blank\" href=\"https://etcbc.github.io/bhsa/features/g_word_utf8\" title=\"/Users/dirk/text-fabric-data/etcbc/bhsa/tf/2017/g_word_utf8.tf\">g_word_utf8</a>  <a target=\"_blank\" href=\"https://etcbc.github.io/bhsa/features/gloss\" title=\"/Users/dirk/text-fabric-data/etcbc/bhsa/tf/2017/gloss.tf\">gloss</a>  <a target=\"_blank\" href=\"https://etcbc.github.io/bhsa/features/gn\" title=\"/Users/dirk/text-fabric-data/etcbc/bhsa/tf/2017/gn.tf\">gn</a>  <a target=\"_blank\" href=\"https://etcbc.github.io/bhsa/features/label\" title=\"/Users/dirk/text-fabric-data/etcbc/bhsa/tf/2017/label.tf\">label</a>  <a target=\"_blank\" href=\"https://etcbc.github.io/bhsa/features/language\" title=\"/Users/dirk/text-fabric-data/etcbc/bhsa/tf/2017/language.tf\">language</a>  <a target=\"_blank\" href=\"https://etcbc.github.io/bhsa/features/lex\" title=\"/Users/dirk/text-fabric-data/etcbc/bhsa/tf/2017/lex.tf\">lex</a>  <a target=\"_blank\" href=\"https://etcbc.github.io/bhsa/features/lex_utf8\" title=\"/Users/dirk/text-fabric-data/etcbc/bhsa/tf/2017/lex_utf8.tf\">lex_utf8</a>  <a target=\"_blank\" href=\"https://etcbc.github.io/bhsa/features/ls\" title=\"/Users/dirk/text-fabric-data/etcbc/bhsa/tf/2017/ls.tf\">ls</a>  <a target=\"_blank\" href=\"https://etcbc.github.io/bhsa/features/nametype\" title=\"/Users/dirk/text-fabric-data/etcbc/bhsa/tf/2017/nametype.tf\">nametype</a>  <a target=\"_blank\" href=\"https://etcbc.github.io/bhsa/features/nu\" title=\"/Users/dirk/text-fabric-data/etcbc/bhsa/tf/2017/nu.tf\">nu</a>  <a target=\"_blank\" href=\"https://etcbc.github.io/bhsa/features/number\" title=\"/Users/dirk/text-fabric-data/etcbc/bhsa/tf/2017/number.tf\">number</a>  <a target=\"_blank\" href=\"https://etcbc.github.io/bhsa/features/otype\" title=\"/Users/dirk/text-fabric-data/etcbc/bhsa/tf/2017/otype.tf\">otype</a>  <a target=\"_blank\" href=\"https://etcbc.github.io/bhsa/features/pdp\" title=\"/Users/dirk/text-fabric-data/etcbc/bhsa/tf/2017/pdp.tf\">pdp</a>  <a target=\"_blank\" href=\"https://etcbc.github.io/bhsa/features/prs_gn\" title=\"/Users/dirk/text-fabric-data/etcbc/bhsa/tf/2017/prs_gn.tf\">prs_gn</a>  <a target=\"_blank\" href=\"https://etcbc.github.io/bhsa/features/prs_nu\" title=\"/Users/dirk/text-fabric-data/etcbc/bhsa/tf/2017/prs_nu.tf\">prs_nu</a>  <a target=\"_blank\" href=\"https://etcbc.github.io/bhsa/features/prs_ps\" title=\"/Users/dirk/text-fabric-data/etcbc/bhsa/tf/2017/prs_ps.tf\">prs_ps</a>  <a target=\"_blank\" href=\"https://etcbc.github.io/bhsa/features/ps\" title=\"/Users/dirk/text-fabric-data/etcbc/bhsa/tf/2017/ps.tf\">ps</a>  <a target=\"_blank\" href=\"https://etcbc.github.io/bhsa/features/qere\" title=\"/Users/dirk/text-fabric-data/etcbc/bhsa/tf/2017/qere.tf\">qere</a>  <a target=\"_blank\" href=\"https://etcbc.github.io/bhsa/features/qere_trailer\" title=\"/Users/dirk/text-fabric-data/etcbc/bhsa/tf/2017/qere_trailer.tf\">qere_trailer</a>  <a target=\"_blank\" href=\"https://etcbc.github.io/bhsa/features/qere_trailer_utf8\" title=\"/Users/dirk/text-fabric-data/etcbc/bhsa/tf/2017/qere_trailer_utf8.tf\">qere_trailer_utf8</a>  <a target=\"_blank\" href=\"https://etcbc.github.io/bhsa/features/qere_utf8\" title=\"/Users/dirk/text-fabric-data/etcbc/bhsa/tf/2017/qere_utf8.tf\">qere_utf8</a>  <a target=\"_blank\" href=\"https://etcbc.github.io/bhsa/features/rank_lex\" title=\"/Users/dirk/text-fabric-data/etcbc/bhsa/tf/2017/rank_lex.tf\">rank_lex</a>  <a target=\"_blank\" href=\"https://etcbc.github.io/bhsa/features/rela\" title=\"/Users/dirk/text-fabric-data/etcbc/bhsa/tf/2017/rela.tf\">rela</a>  <a target=\"_blank\" href=\"https://etcbc.github.io/bhsa/features/sp\" title=\"/Users/dirk/text-fabric-data/etcbc/bhsa/tf/2017/sp.tf\">sp</a>  <a target=\"_blank\" href=\"https://etcbc.github.io/bhsa/features/st\" title=\"/Users/dirk/text-fabric-data/etcbc/bhsa/tf/2017/st.tf\">st</a>  <a target=\"_blank\" href=\"https://etcbc.github.io/bhsa/features/trailer\" title=\"/Users/dirk/text-fabric-data/etcbc/bhsa/tf/2017/trailer.tf\">trailer</a>  <a target=\"_blank\" href=\"https://etcbc.github.io/bhsa/features/trailer_utf8\" title=\"/Users/dirk/text-fabric-data/etcbc/bhsa/tf/2017/trailer_utf8.tf\">trailer_utf8</a>  <a target=\"_blank\" href=\"https://etcbc.github.io/bhsa/features/txt\" title=\"/Users/dirk/text-fabric-data/etcbc/bhsa/tf/2017/txt.tf\">txt</a>  <a target=\"_blank\" href=\"https://etcbc.github.io/bhsa/features/typ\" title=\"/Users/dirk/text-fabric-data/etcbc/bhsa/tf/2017/typ.tf\">typ</a>  <a target=\"_blank\" href=\"https://etcbc.github.io/bhsa/features/verse\" title=\"/Users/dirk/text-fabric-data/etcbc/bhsa/tf/2017/verse.tf\">verse</a>  <a target=\"_blank\" href=\"https://etcbc.github.io/bhsa/features/voc_lex\" title=\"/Users/dirk/text-fabric-data/etcbc/bhsa/tf/2017/voc_lex.tf\">voc_lex</a>  <a target=\"_blank\" href=\"https://etcbc.github.io/bhsa/features/voc_lex_utf8\" title=\"/Users/dirk/text-fabric-data/etcbc/bhsa/tf/2017/voc_lex_utf8.tf\">voc_lex_utf8</a>  <a target=\"_blank\" href=\"https://etcbc.github.io/bhsa/features/vs\" title=\"/Users/dirk/text-fabric-data/etcbc/bhsa/tf/2017/vs.tf\">vs</a>  <a target=\"_blank\" href=\"https://etcbc.github.io/bhsa/features/vt\" title=\"/Users/dirk/text-fabric-data/etcbc/bhsa/tf/2017/vt.tf\">vt</a>  <b><i><a target=\"_blank\" href=\"https://etcbc.github.io/bhsa/features/mother\" title=\"/Users/dirk/text-fabric-data/etcbc/bhsa/tf/2017/mother.tf\">mother</a></i></b>  <b><i><a target=\"_blank\" href=\"https://etcbc.github.io/bhsa/features/omap@ll\" title=\"/Users/dirk/text-fabric-data/etcbc/bhsa/tf/2017/omap@2016-2017.tf\">omap@ll</a></i></b>  <b><i><a target=\"_blank\" href=\"https://etcbc.github.io/bhsa/features/oslots\" title=\"/Users/dirk/text-fabric-data/etcbc/bhsa/tf/2017/oslots.tf\">oslots</a></i></b> </p><p><b>Parallel Passages</b>: <b><i><a target=\"_blank\" href=\"https://nbviewer.jupyter.org/github/etcbc/parallels/blob/master/programs/parallels.ipynb\" title=\"/Users/dirk/text-fabric-data/etcbc/parallels/tf/2017/crossref.tf\">crossref</a></i></b> </p><p><b>Phonetic Transcriptions</b>: <a target=\"_blank\" href=\"https://nbviewer.jupyter.org/github/etcbc/phono/blob/master/programs/phono.ipynb\" title=\"/Users/dirk/text-fabric-data/etcbc/phono/tf/2017/phono.tf\">phono</a>  <a target=\"_blank\" href=\"https://nbviewer.jupyter.org/github/etcbc/phono/blob/master/programs/phono.ipynb\" title=\"/Users/dirk/text-fabric-data/etcbc/phono/tf/2017/phono_trailer.tf\">phono_trailer</a> </p></details>"
      ],
      "text/plain": [
       "<IPython.core.display.HTML object>"
      ]
     },
     "metadata": {},
     "output_type": "display_data"
    },
    {
     "data": {
      "text/html": [
       "<style>\n",
       "@font-face {\n",
       "  font-family: \"Ezra SIL\";\n",
       "  src:\n",
       "    local(\"SILEOT.ttf\"),\n",
       "    url(\"https://github.com/annotation/text-fabric/blob/master/tf/server/static/fonts/SILEOT.woff?raw=true\");\n",
       "}\n",
       ".features {\n",
       "    font-family: monospace;\n",
       "    font-size: medium;\n",
       "    font-weight: bold;\n",
       "    color: #0a6611;\n",
       "    display: flex;\n",
       "    flex-flow: column nowrap;\n",
       "    padding: 0.1em;\n",
       "    margin: 0.1em;\n",
       "    direction: ltr;\n",
       "}\n",
       ".features div,.features span {\n",
       "    padding: 0;\n",
       "    margin: -0.1rem 0;\n",
       "}\n",
       ".features .f {\n",
       "    font-family: sans-serif;\n",
       "    font-size: x-small;\n",
       "    font-weight: normal;\n",
       "    color: #5555bb;\n",
       "}\n",
       ".features .xft {\n",
       "  color: #000000;\n",
       "  background-color: #eeeeee;\n",
       "  font-size: medium;\n",
       "  margin: 0.1em 0em;\n",
       "}\n",
       ".features .xft .f {\n",
       "  color: #000000;\n",
       "  background-color: #eeeeee;\n",
       "  font-style: italic;\n",
       "  font-size: small;\n",
       "  font-weight: normal;\n",
       "}\n",
       ".ltr {\n",
       "    direction: ltr ! important;\n",
       "}\n",
       ".verse {\n",
       "    display: flex;\n",
       "    flex-flow: row wrap;\n",
       "    direction: rtl;\n",
       "}\n",
       ".vl {\n",
       "    display: flex;\n",
       "    flex-flow: column nowrap;\n",
       "    justify-content: flex-end;\n",
       "    align-items: flex-end;\n",
       "    direction: ltr;\n",
       "    width: 100%;\n",
       "}\n",
       ".outeritem {\n",
       "    display: flex;\n",
       "    flex-flow: row wrap;\n",
       "    direction: rtl;\n",
       "}\n",
       ".sentence,.clause,.phrase {\n",
       "    margin-top: -1.2em;\n",
       "    margin-left: 1em;\n",
       "    background: #ffffff none repeat scroll 0 0;\n",
       "    padding: 0 0.3em;\n",
       "    border-style: solid;\n",
       "    border-radius: 0.2em;\n",
       "    font-size: small;\n",
       "    display: block;\n",
       "    width: fit-content;\n",
       "    max-width: fit-content;\n",
       "    direction: ltr;\n",
       "}\n",
       ".atoms {\n",
       "    display: flex;\n",
       "    flex-flow: row wrap;\n",
       "    margin: 0.3em;\n",
       "    padding: 0.3em;\n",
       "    direction: rtl;\n",
       "    background-color: #ffffff;\n",
       "}\n",
       ".satom,.catom,.patom {\n",
       "    margin: 0.3em;\n",
       "    padding: 0.3em;\n",
       "    border-radius: 0.3em;\n",
       "    border-style: solid;\n",
       "    display: flex;\n",
       "    flex-flow: column nowrap;\n",
       "    direction: rtl;\n",
       "    background-color: #ffffff;\n",
       "}\n",
       ".sentence {\n",
       "    border-color: #aa3333;\n",
       "    border-width: 1px;\n",
       "}\n",
       ".clause {\n",
       "    border-color: #aaaa33;\n",
       "    border-width: 1px;\n",
       "}\n",
       ".phrase {\n",
       "    border-color: #33aaaa;\n",
       "    border-width: 1px;\n",
       "}\n",
       ".satom {\n",
       "    border-color: #aa3333;\n",
       "    border-width: 4px;\n",
       "}\n",
       ".catom {\n",
       "    border-color: #aaaa33;\n",
       "    border-width: 3px;\n",
       "}\n",
       ".patom {\n",
       "    border-color: #33aaaa;\n",
       "    border-width: 3px;\n",
       "}\n",
       ".word {\n",
       "    padding: 0.1em;\n",
       "    margin: 0.1em;\n",
       "    border-radius: 0.1em;\n",
       "    border: 1px solid #cccccc;\n",
       "    display: flex;\n",
       "    flex-flow: column nowrap;\n",
       "    direction: rtl;\n",
       "    background-color: #ffffff;\n",
       "}\n",
       ".lextp {\n",
       "    padding: 0.1em;\n",
       "    margin: 0.1em;\n",
       "    border-radius: 0.1em;\n",
       "    border: 2px solid #888888;\n",
       "    width: fit-content;\n",
       "    display: flex;\n",
       "    flex-flow: column nowrap;\n",
       "    direction: rtl;\n",
       "    background-color: #ffffff;\n",
       "}\n",
       ".occs {\n",
       "    font-size: x-small;\n",
       "}\n",
       ".satom.l,.catom.l,.patom.l {\n",
       "    border-left-style: dotted\n",
       "}\n",
       ".satom.r,.catom.r,.patom.r {\n",
       "    border-right-style: dotted\n",
       "}\n",
       ".satom.lno,.catom.lno,.patom.lno {\n",
       "    border-left-style: none\n",
       "}\n",
       ".satom.rno,.catom.rno,.patom.rno {\n",
       "    border-right-style: none\n",
       "}\n",
       ".tr,.tr a:visited,.tr a:link {\n",
       "    font-family: sans-serif;\n",
       "    font-size: large;\n",
       "    color: #000044;\n",
       "    direction: ltr;\n",
       "    text-decoration: none;\n",
       "}\n",
       ".trb,.trb a:visited,.trb a:link {\n",
       "    font-family: sans-serif;\n",
       "    font-size: normal;\n",
       "    direction: ltr;\n",
       "    text-decoration: none;\n",
       "}\n",
       ".prb,.prb a:visited,.prb a:link {\n",
       "    font-family: sans-serif;\n",
       "    font-size: large;\n",
       "    direction: ltr;\n",
       "    text-decoration: none;\n",
       "}\n",
       ".h,.h a:visited,.h a:link {\n",
       "    font-family: \"Ezra SIL\", \"SBL Hebrew\", sans-serif;\n",
       "    font-size: large;\n",
       "    color: #000044;\n",
       "    direction: rtl;\n",
       "    text-decoration: none;\n",
       "}\n",
       ".hb,.hb a:visited,.hb a:link {\n",
       "    font-family: \"Ezra SIL\", \"SBL Hebrew\", sans-serif;\n",
       "    font-size: large;\n",
       "    line-height: 2;\n",
       "    direction: rtl;\n",
       "    text-decoration: none;\n",
       "}\n",
       ".vn {\n",
       "  font-size: small !important;\n",
       "  padding-right: 1em;\n",
       "}\n",
       ".rela,.function,.typ {\n",
       "    font-family: monospace;\n",
       "    font-size: small;\n",
       "    color: #0000bb;\n",
       "}\n",
       ".pdp,.pdp a:visited,.pdp a:link {\n",
       "    font-family: monospace;\n",
       "    font-size: medium;\n",
       "    color: #0000bb;\n",
       "    text-decoration: none;\n",
       "}\n",
       ".voc_lex {\n",
       "    font-family: monospace;\n",
       "    font-size: medium;\n",
       "    color: #0000bb;\n",
       "}\n",
       ".vs {\n",
       "    font-family: monospace;\n",
       "    font-size: medium;\n",
       "    font-weight: bold;\n",
       "    color: #0000bb;\n",
       "}\n",
       ".vt {\n",
       "    font-family: monospace;\n",
       "    font-size: medium;\n",
       "    font-weight: bold;\n",
       "    color: #0000bb;\n",
       "}\n",
       ".gloss {\n",
       "    font-family: sans-serif;\n",
       "    font-size: small;\n",
       "    font-weight: normal;\n",
       "    color: #444444;\n",
       "}\n",
       ".vrs {\n",
       "    font-family: sans-serif;\n",
       "    font-size: small;\n",
       "    font-weight: bold;\n",
       "    color: #444444;\n",
       "}\n",
       ".nd {\n",
       "    font-family: monospace;\n",
       "    font-size: x-small;\n",
       "    color: #999999;\n",
       "}\n",
       ".hl {\n",
       "    background-color: #ffee66;\n",
       "}\n",
       "\n",
       "tr.tf, td.tf, th.tf {\n",
       "  text-align: left;\n",
       "}\n",
       "\n",
       "span.hldot {\n",
       "\tbackground-color: var(--hl-strong);\n",
       "\tborder: 0.2rem solid var(--hl-rim);\n",
       "\tborder-radius: 0.4rem;\n",
       "\t/*\n",
       "\tdisplay: inline-block;\n",
       "\twidth: 0.8rem;\n",
       "\theight: 0.8rem;\n",
       "\t*/\n",
       "}\n",
       "span.hl {\n",
       "\tbackground-color: var(--hl-strong);\n",
       "\tborder-width: 0;\n",
       "\tborder-radius: 0.1rem;\n",
       "\tborder-style: solid;\n",
       "}\n",
       "\n",
       "span.hlup {\n",
       "\tborder-color: var(--hl-dark);\n",
       "\tborder-width: 0.1rem;\n",
       "\tborder-style: solid;\n",
       "\tborder-radius: 0.2rem;\n",
       "  padding: 0.2rem;\n",
       "}\n",
       "\n",
       ":root {\n",
       "\t--hl-strong:        hsla( 60, 100%,  70%, 0.9  );\n",
       "\t--hl-rim:           hsla( 55, 100%,  60%, 0.9  );\n",
       "\t--hl-dark:          hsla( 55, 100%,  40%, 0.9  );\n",
       "}\n",
       "</style>"
      ],
      "text/plain": [
       "<IPython.core.display.HTML object>"
      ]
     },
     "metadata": {},
     "output_type": "display_data"
    },
    {
     "data": {
      "text/html": [
       "<details open><summary><b>API members</b>:</summary>\n",
       "<a target=\"_blank\" href=\"https://annotation.github.io/text-fabric/Api/Computed/#computed-data\" title=\"doc\">C Computed</a>, <a target=\"_blank\" href=\"https://annotation.github.io/text-fabric/Api/Computed/#computed-data\" title=\"doc\">Call AllComputeds</a>, <a target=\"_blank\" href=\"https://annotation.github.io/text-fabric/Api/Computed/#computed-data\" title=\"doc\">Cs ComputedString</a><br/>\n",
       "<a target=\"_blank\" href=\"https://annotation.github.io/text-fabric/Api/Features/#edge-features\" title=\"doc\">E Edge</a>, <a target=\"_blank\" href=\"https://annotation.github.io/text-fabric/Api/Features/#edge-features\" title=\"doc\">Eall AllEdges</a>, <a target=\"_blank\" href=\"https://annotation.github.io/text-fabric/Api/Features/#edge-features\" title=\"doc\">Es EdgeString</a><br/>\n",
       "<a target=\"_blank\" href=\"https://annotation.github.io/text-fabric/Api/Fabric/#loading\" title=\"doc\">ensureLoaded</a>, <a target=\"_blank\" href=\"https://annotation.github.io/text-fabric/Api/Fabric/#loading\" title=\"doc\">TF</a>, <a target=\"_blank\" href=\"https://annotation.github.io/text-fabric/Api/Fabric/#loading\" title=\"doc\">ignored</a>, <a target=\"_blank\" href=\"https://annotation.github.io/text-fabric/Api/Fabric/#loading\" title=\"doc\">loadLog</a><br/>\n",
       "<a target=\"_blank\" href=\"https://annotation.github.io/text-fabric/Api/Locality/#locality\" title=\"doc\">L Locality</a><br/>\n",
       "<a target=\"_blank\" href=\"https://annotation.github.io/text-fabric/Api/Misc/#messaging\" title=\"doc\">cache</a>, <a target=\"_blank\" href=\"https://annotation.github.io/text-fabric/Api/Misc/#messaging\" title=\"doc\">error</a>, <a target=\"_blank\" href=\"https://annotation.github.io/text-fabric/Api/Misc/#messaging\" title=\"doc\">indent</a>, <a target=\"_blank\" href=\"https://annotation.github.io/text-fabric/Api/Misc/#messaging\" title=\"doc\">info</a>, <a target=\"_blank\" href=\"https://annotation.github.io/text-fabric/Api/Misc/#messaging\" title=\"doc\">reset</a><br/>\n",
       "<a target=\"_blank\" href=\"https://annotation.github.io/text-fabric/Api/Nodes/#navigating-nodes\" title=\"doc\">N Nodes</a>, <a target=\"_blank\" href=\"https://annotation.github.io/text-fabric/Api/Nodes/#navigating-nodes\" title=\"doc\">sortKey</a>, <a target=\"_blank\" href=\"https://annotation.github.io/text-fabric/Api/Nodes/#navigating-nodes\" title=\"doc\">sortKeyTuple</a>, <a target=\"_blank\" href=\"https://annotation.github.io/text-fabric/Api/Nodes/#navigating-nodes\" title=\"doc\">otypeRank</a>, <a target=\"_blank\" href=\"https://annotation.github.io/text-fabric/Api/Nodes/#navigating-nodes\" title=\"doc\">sortNodes</a><br/>\n",
       "<a target=\"_blank\" href=\"https://annotation.github.io/text-fabric/Api/Features/#node-features\" title=\"doc\">F Feature</a>, <a target=\"_blank\" href=\"https://annotation.github.io/text-fabric/Api/Features/#node-features\" title=\"doc\">Fall AllFeatures</a>, <a target=\"_blank\" href=\"https://annotation.github.io/text-fabric/Api/Features/#node-features\" title=\"doc\">Fs FeatureString</a><br/>\n",
       "<a target=\"_blank\" href=\"https://annotation.github.io/text-fabric/Api/Search/#search\" title=\"doc\">S Search</a><br/>\n",
       "<a target=\"_blank\" href=\"https://annotation.github.io/text-fabric/Api/Text/#text\" title=\"doc\">T Text</a></details>"
      ],
      "text/plain": [
       "<IPython.core.display.HTML object>"
      ]
     },
     "metadata": {},
     "output_type": "display_data"
    }
   ],
   "source": [
    "A = use('bhsa', hoist=globals(), version=VERSION)"
   ]
  },
  {
   "cell_type": "markdown",
   "metadata": {},
   "source": [
    "## Rough edges\n",
    "\n",
    "It might be helpful to peek under the hood, especially when exploring searches that go slow.\n",
    "\n",
    "If you went through the previous parts of the tutorial you have encountered cases where things come\n",
    "to a grinding halt.\n",
    "\n",
    "Yet we can get a hunch of what is going on, even in those cases.\n",
    "For that, we use the lower-level search api `S` of Text-Fabric, and not the \n",
    "wrappers that the corpus specific `A` api provides.\n",
    "\n",
    "The main difference is, that `S.search()` returns a *generator* of the results, \n",
    "whereas `A.search()` returns a list of the results.\n",
    "In fact, `A.search()` calls the generator function delivered by `S.search()` as often as needed.\n",
    "\n",
    "For some queries, the fetching of results is quite costly, so costly that we do not want to fetch\n",
    "all results up-front. Rather we want to fetch a few, to see how it goes.\n",
    "In these cases, directly using `S.search()` is preferred over `A.search()`."
   ]
  },
  {
   "cell_type": "code",
   "execution_count": 5,
   "metadata": {
    "ExecuteTime": {
     "end_time": "2018-05-24T08:49:43.870215Z",
     "start_time": "2018-05-24T08:49:43.866722Z"
    }
   },
   "outputs": [],
   "source": [
    "query = '''\n",
    "book\n",
    "  chapter\n",
    "    verse\n",
    "      phrase det=und\n",
    "        word lex=>LHJM/\n",
    "'''"
   ]
  },
  {
   "cell_type": "markdown",
   "metadata": {},
   "source": [
    "### Study\n",
    "\n",
    "First we call `S.study(query)`.\n",
    "\n",
    "The syntax will be checked, features loaded, the search space will be set up, narrowed down, \n",
    "and the fetching of results will be prepared, but not yet executed.\n",
    "\n",
    "In order to make the query a bit more interesting, we lift the constraint that the results must be in Genesis 1-2."
   ]
  },
  {
   "cell_type": "code",
   "execution_count": 6,
   "metadata": {
    "ExecuteTime": {
     "end_time": "2018-05-24T08:49:46.451394Z",
     "start_time": "2018-05-24T08:49:45.192096Z"
    }
   },
   "outputs": [
    {
     "name": "stdout",
     "output_type": "stream",
     "text": [
      "   |     0.00s Feature overview: 111 for nodes; 8 for edges; 2 configs; 8 computed\n",
      "  0.00s Checking search template ...\n",
      "  0.00s Setting up search space for 5 objects ...\n",
      "  0.64s Constraining search space with 4 relations ...\n",
      "  0.65s \t4 edges thinned\n",
      "  0.65s Setting up retrieval plan ...\n",
      "  0.72s Ready to deliver results from 2735 nodes\n",
      "Iterate over S.fetch() to get the results\n",
      "See S.showPlan() to interpret the results\n"
     ]
    }
   ],
   "source": [
    "S.study(query)"
   ]
  },
  {
   "cell_type": "markdown",
   "metadata": {},
   "source": [
    "Before we rush to the results, lets have a look at the *plan*."
   ]
  },
  {
   "cell_type": "code",
   "execution_count": 7,
   "metadata": {
    "ExecuteTime": {
     "end_time": "2018-05-24T08:49:49.104091Z",
     "start_time": "2018-05-24T08:49:49.088781Z"
    }
   },
   "outputs": [
    {
     "name": "stdout",
     "output_type": "stream",
     "text": [
      "  3.58s The results are connected to the original search template as follows:\n",
      " 0     \n",
      " 1 R0  book\n",
      " 2 R1    chapter\n",
      " 3 R2      verse\n",
      " 4 R3        phrase det=und\n",
      " 5 R4          word lex=>LHJM/\n",
      " 6     \n"
     ]
    }
   ],
   "source": [
    "S.showPlan()"
   ]
  },
  {
   "cell_type": "markdown",
   "metadata": {},
   "source": [
    "Here you see already what your results will look like.\n",
    "Each result `r` is a *tuple* of nodes:\n",
    "```\n",
    "(R0, R1, R2, R3, R4)\n",
    "```\n",
    "that instantiate the objects in your template.\n",
    "\n",
    "In case you are curious, you can get details about the search space as well:"
   ]
  },
  {
   "cell_type": "code",
   "execution_count": 8,
   "metadata": {
    "ExecuteTime": {
     "end_time": "2018-05-24T08:50:03.622134Z",
     "start_time": "2018-05-24T08:50:03.589828Z"
    }
   },
   "outputs": [
    {
     "name": "stdout",
     "output_type": "stream",
     "text": [
      "Search with 5 objects and 4 relations\n",
      "Results are instantiations of the following objects:\n",
      "node  0-book                              (    29   choices)\n",
      "node  1-chapter                           (   329   choices)\n",
      "node  2-verse                             (   754   choices)\n",
      "node  3-phrase                            (   805   choices)\n",
      "node  4-word                              (   818   choices)\n",
      "Performance parameters:\n",
      "\tyarnRatio            =     1.2\n",
      "\ttryLimitFrom         =     100\n",
      "\ttryLimitTo           =     100\n",
      "Instantiations are computed along the following relations:\n",
      "node                      0-book          (    29   choices)\n",
      "edge  0-book          [[  1-chapter       (    11.3 choices (thinned))\n",
      "edge  1-chapter       [[  2-verse         (     2.0 choices (thinned))\n",
      "edge  2-verse         [[  3-phrase        (     1.1 choices (thinned))\n",
      "edge  3-phrase        [[  4-word          (     1.0 choices (thinned))\n",
      "  4.58s The results are connected to the original search template as follows:\n",
      " 0     \n",
      " 1 R0  book\n",
      " 2 R1    chapter\n",
      " 3 R2      verse\n",
      " 4 R3        phrase det=und\n",
      " 5 R4          word lex=>LHJM/\n",
      " 6     \n"
     ]
    }
   ],
   "source": [
    "S.showPlan(details=True)"
   ]
  },
  {
   "cell_type": "markdown",
   "metadata": {},
   "source": [
    "The part about the *nodes* shows you how many possible instantiations for each object in your template\n",
    "has been found.\n",
    "These are not results yet, because only combinations of instantiations\n",
    "that satisfy all constraints are results.\n",
    "\n",
    "The constraints come from the relations between the objects that you specified.\n",
    "In this case, there is only an implicit relation: embedding `[[`. \n",
    "Later on we'll examine all \n",
    "[spatial relations](https://annotation.github.io/text-fabric/Use/Search/#relational-operators).\n",
    "\n",
    "The part about the *edges* shows you the constraints,\n",
    "and in what order they will be computed when stitching results together.\n",
    "In this case the order is exactly the order by which the relations appear in the template,\n",
    "but that will not always be the case.\n",
    "Text-Fabric spends some time and ingenuity to find out an optimal *stitch plan*.\n",
    "Fetching results is like selecting a node, stitching it to another node with an edge,\n",
    "and so on, until a full stitch of nodes intersects with all the node sets from which they\n",
    "must be chosen (the yarns).\n",
    "\n",
    "Fetching results may take time. \n",
    "\n",
    "For some queries, it can take a large amount of time to walk through all results.\n",
    "Even worse, it may happen that it takes a large amount of time before getting the *first* result.\n",
    "During stitching, many stitchings will be tried and fail before they can be completed.\n",
    "\n",
    "This has to do with search strategies on the one hand,\n",
    "and the very likely possibility to encounter *pathological* search patterns,\n",
    "which have billions of results, mostly unintended.\n",
    "For example, a simple query that asks for 5 words in the Hebrew Bible without further constraints,\n",
    "will have 425,000 to the power of 5 results.\n",
    "That is 10-e28 (a one with 28 zeros),\n",
    "roughly the number of molecules in a few hundred liters of air.\n",
    "That may not sound much, but it is 10,000 times the amount of bytes\n",
    "that can be currently stored on the whole Internet.\n",
    "\n",
    "Text-Fabric search is not yet done with finding optimal search strategies,\n",
    "and I hope to refine its arsenal of methods in the future, depending on what you report."
   ]
  },
  {
   "cell_type": "markdown",
   "metadata": {},
   "source": [
    "### Counting results\n",
    "It is always a good idea to get a feel for the amount of results, before you dive into them head-on."
   ]
  },
  {
   "cell_type": "code",
   "execution_count": 9,
   "metadata": {
    "ExecuteTime": {
     "end_time": "2018-05-24T08:50:45.871673Z",
     "start_time": "2018-05-24T08:50:45.847217Z"
    }
   },
   "outputs": [
    {
     "name": "stdout",
     "output_type": "stream",
     "text": [
      "  0.00s Counting results per 1 up to 5 ...\n",
      "   |     0.01s 1\n",
      "   |     0.01s 2\n",
      "   |     0.01s 3\n",
      "   |     0.01s 4\n",
      "   |     0.01s 5\n",
      "  0.01s Done: 5 results\n"
     ]
    }
   ],
   "source": [
    "S.count(progress=1, limit=5)"
   ]
  },
  {
   "cell_type": "markdown",
   "metadata": {},
   "source": [
    "We asked for 5 results in total, with a progress message for every one.\n",
    "That was a bit conservative."
   ]
  },
  {
   "cell_type": "code",
   "execution_count": 10,
   "metadata": {
    "ExecuteTime": {
     "end_time": "2018-05-24T08:50:48.710519Z",
     "start_time": "2018-05-24T08:50:48.598126Z"
    }
   },
   "outputs": [
    {
     "name": "stdout",
     "output_type": "stream",
     "text": [
      "  0.00s Counting results per 100 up to 500 ...\n",
      "   |     0.01s 100\n",
      "   |     0.02s 200\n",
      "   |     0.04s 300\n",
      "   |     0.06s 400\n",
      "   |     0.08s 500\n",
      "  0.08s Done: 500 results\n"
     ]
    }
   ],
   "source": [
    "S.count(progress=100, limit=500)"
   ]
  },
  {
   "cell_type": "markdown",
   "metadata": {},
   "source": [
    "Still pretty quick, now we want to count all results."
   ]
  },
  {
   "cell_type": "code",
   "execution_count": 11,
   "metadata": {
    "ExecuteTime": {
     "end_time": "2018-05-24T08:50:50.003468Z",
     "start_time": "2018-05-24T08:50:49.859589Z"
    }
   },
   "outputs": [
    {
     "name": "stdout",
     "output_type": "stream",
     "text": [
      "  0.00s Counting results per 200 up to  the end of the results ...\n",
      "   |     0.02s 200\n",
      "   |     0.05s 400\n",
      "   |     0.08s 600\n",
      "   |     0.10s 800\n",
      "  0.10s Done: 818 results\n"
     ]
    }
   ],
   "source": [
    "S.count(progress=200, limit=-1)"
   ]
  },
  {
   "cell_type": "markdown",
   "metadata": {},
   "source": [
    "### Fetching results\n",
    "\n",
    "It is time to see something of those results."
   ]
  },
  {
   "cell_type": "code",
   "execution_count": 12,
   "metadata": {
    "ExecuteTime": {
     "end_time": "2018-05-24T08:51:06.009618Z",
     "start_time": "2018-05-24T08:51:05.993571Z"
    }
   },
   "outputs": [
    {
     "data": {
      "text/plain": [
       "((426585, 426624, 1414190, 651505, 4),\n",
       " (426585, 426624, 1414191, 651515, 26),\n",
       " (426585, 426624, 1414192, 651520, 34),\n",
       " (426585, 426624, 1414193, 651528, 42),\n",
       " (426585, 426624, 1414193, 651534, 50),\n",
       " (426585, 426624, 1414194, 651538, 60),\n",
       " (426585, 426624, 1414195, 651554, 81),\n",
       " (426585, 426624, 1414196, 651564, 97),\n",
       " (426585, 426624, 1414197, 651578, 127),\n",
       " (426585, 426624, 1414198, 651590, 142))"
      ]
     },
     "execution_count": 12,
     "metadata": {},
     "output_type": "execute_result"
    }
   ],
   "source": [
    "S.fetch(limit=10)"
   ]
  },
  {
   "cell_type": "markdown",
   "metadata": {},
   "source": [
    "Not very informative.\n",
    "Just a quick observation: look at the last column.\n",
    "These are the result nodes for the `word` part in the query, indicated as `R7` by `showPlan()` before.\n",
    "And indeed, they are all below 425,000, the number of words in the Hebrew Bible.\n",
    "\n",
    "Nevertheless, we want to glean a bit more information off them."
   ]
  },
  {
   "cell_type": "code",
   "execution_count": 13,
   "metadata": {
    "ExecuteTime": {
     "end_time": "2018-05-24T08:51:14.214022Z",
     "start_time": "2018-05-24T08:51:14.118975Z"
    }
   },
   "outputs": [
    {
     "name": "stdout",
     "output_type": "stream",
     "text": [
      "  Genesis 1:1 phrase[אֱלֹהִ֑ים ] אֱלֹהִ֑ים \n",
      "  Genesis 1:2 phrase[ר֣וּחַ אֱלֹהִ֔ים ] אֱלֹהִ֔ים \n",
      "  Genesis 1:3 phrase[אֱלֹהִ֖ים ] אֱלֹהִ֖ים \n",
      "  Genesis 1:4 phrase[אֱלֹהִ֛ים ] אֱלֹהִ֛ים \n",
      "  Genesis 1:4 phrase[אֱלֹהִ֔ים ] אֱלֹהִ֔ים \n",
      "  Genesis 1:5 phrase[אֱלֹהִ֤ים׀ ] אֱלֹהִ֤ים׀ \n",
      "  Genesis 1:6 phrase[אֱלֹהִ֔ים ] אֱלֹהִ֔ים \n",
      "  Genesis 1:7 phrase[אֱלֹהִים֮ ] אֱלֹהִים֮ \n",
      "  Genesis 1:8 phrase[אֱלֹהִ֛ים ] אֱלֹהִ֛ים \n",
      "  Genesis 1:9 phrase[אֱלֹהִ֗ים ] אֱלֹהִ֗ים \n"
     ]
    }
   ],
   "source": [
    "for r in S.fetch(limit=10):\n",
    "    print(S.glean(r))"
   ]
  },
  {
   "cell_type": "markdown",
   "metadata": {},
   "source": [
    "##### Caution\n",
    "> It is not possible to do `len(S.fetch())`.\n",
    "Because `fetch()` is a *generator*, not a list.\n",
    "It will deliver a result every time it is being asked and for as long as there are results,\n",
    "but it does not know in advance how many there will be.\n",
    "\n",
    ">Fetching a result can be costly, because due to the constraints, a lot of possibilities\n",
    "may have to be tried and rejected before a the next result is found.\n",
    "\n",
    "> That is why you often see results coming in at varying speeds when counting them."
   ]
  },
  {
   "cell_type": "markdown",
   "metadata": {},
   "source": [
    "We can also use `A.table()` to make a list of results.\n",
    "This function is part of the `Bhsa` API, not of the generic Text-Fabric machinery, as opposed to `S.glean()`.\n",
    "\n",
    "So, you can use `S.glean()` for every Text-Fabric corpus, but the output is still not very nice.\n",
    "`A.table()` gives much nicer output, but works only for the BHSA corpus.\n",
    "\n",
    "We put hyperlinks to SHEBANQ under column 3."
   ]
  },
  {
   "cell_type": "code",
   "execution_count": 14,
   "metadata": {
    "ExecuteTime": {
     "end_time": "2018-05-24T08:51:19.071119Z",
     "start_time": "2018-05-24T08:51:18.970211Z"
    }
   },
   "outputs": [
    {
     "data": {
      "text/html": [
       "<table>\n",
       "<tr class=\"tf\">\n",
       "  <th class=\"tf\">n</th><th class=\"tf\">p</th>\n",
       "  <th class=\"tf\">book</th><th>chapter</th><th>verse</th><th>phrase</th><th>word</th>\n",
       "</tr>\n",
       "\n",
       "<tr class=\"tf\"><td class=\"tf\">1</td><td class=\"tf\"> <a href=\"https://shebanq.ancient-data.org/hebrew/text?book=Genesis&amp;chapter=1&amp;verse=1&amp;version=2017&amp;mr=m&amp;qw=q&amp;tp=txt_p&amp;tr=hb&amp;wget=v&amp;qget=v&amp;nget=vt\" title=\"show this passage in SHEBANQ\" sec=\"Genesis 1:1\">Genesis 1:1</a></td><td class=\"tf\"><span class=\"trb\"></span></td><td class=\"tf\"><span class=\"trb\"></span></td><td class=\"tf\"><span class=\"hb\"><a class=\"vn\" href=\"https://shebanq.ancient-data.org/hebrew/text?book=Genesis&amp;chapter=1&amp;verse=1&amp;version=2017&amp;mr=m&amp;qw=q&amp;tp=txt_p&amp;tr=hb&amp;wget=v&amp;qget=v&amp;nget=vt\" title=\"Genesis 1:1\" sec=\"Genesis 1:1\"></a>בְּרֵאשִׁ֖ית בָּרָ֣א <span  class=\"hl hlup\" >אֱלֹהִ֑ים </span>אֵ֥ת הַשָּׁמַ֖יִם וְאֵ֥ת הָאָֽרֶץ׃ </span></td><td class=\"tf\"><span class=\"hb\"><span  class=\"hl hlup\" >אֱלֹהִ֑ים </span></span></td><td class=\"tf\"><span class=\"hb\"><span  class=\"hl hlup\" >אֱלֹהִ֑ים </span></span></td></tr>\n",
       "<tr class=\"tf\"><td class=\"tf\">2</td><td class=\"tf\"> <a href=\"https://shebanq.ancient-data.org/hebrew/text?book=Genesis&amp;chapter=1&amp;verse=2&amp;version=2017&amp;mr=m&amp;qw=q&amp;tp=txt_p&amp;tr=hb&amp;wget=v&amp;qget=v&amp;nget=vt\" title=\"show this passage in SHEBANQ\" sec=\"Genesis 1:2\">Genesis 1:2</a></td><td class=\"tf\"><span class=\"trb\"></span></td><td class=\"tf\"><span class=\"trb\"></span></td><td class=\"tf\"><span class=\"hb\"><a class=\"vn\" href=\"https://shebanq.ancient-data.org/hebrew/text?book=Genesis&amp;chapter=1&amp;verse=2&amp;version=2017&amp;mr=m&amp;qw=q&amp;tp=txt_p&amp;tr=hb&amp;wget=v&amp;qget=v&amp;nget=vt\" title=\"Genesis 1:2\" sec=\"Genesis 1:2\"></a>וְהָאָ֗רֶץ הָיְתָ֥ה תֹ֨הוּ֙ וָבֹ֔הוּ וְחֹ֖שֶׁךְ עַל־פְּנֵ֣י תְהֹ֑ום וְ<span  class=\"hlup\" >ר֣וּחַ </span><span  class=\"hl hlup\" >אֱלֹהִ֔ים </span>מְרַחֶ֖פֶת עַל־פְּנֵ֥י הַמָּֽיִם׃ </span></td><td class=\"tf\"><span class=\"hb\"><span  class=\"hlup\" >ר֣וּחַ </span><span  class=\"hl hlup\" >אֱלֹהִ֔ים </span></span></td><td class=\"tf\"><span class=\"hb\"><span  class=\"hl hlup\" >אֱלֹהִ֔ים </span></span></td></tr>\n",
       "<tr class=\"tf\"><td class=\"tf\">3</td><td class=\"tf\"> <a href=\"https://shebanq.ancient-data.org/hebrew/text?book=Genesis&amp;chapter=1&amp;verse=3&amp;version=2017&amp;mr=m&amp;qw=q&amp;tp=txt_p&amp;tr=hb&amp;wget=v&amp;qget=v&amp;nget=vt\" title=\"show this passage in SHEBANQ\" sec=\"Genesis 1:3\">Genesis 1:3</a></td><td class=\"tf\"><span class=\"trb\"></span></td><td class=\"tf\"><span class=\"trb\"></span></td><td class=\"tf\"><span class=\"hb\"><a class=\"vn\" href=\"https://shebanq.ancient-data.org/hebrew/text?book=Genesis&amp;chapter=1&amp;verse=3&amp;version=2017&amp;mr=m&amp;qw=q&amp;tp=txt_p&amp;tr=hb&amp;wget=v&amp;qget=v&amp;nget=vt\" title=\"Genesis 1:3\" sec=\"Genesis 1:3\"></a>וַיֹּ֥אמֶר <span  class=\"hl hlup\" >אֱלֹהִ֖ים </span>יְהִ֣י אֹ֑ור וַֽיְהִי־אֹֽור׃ </span></td><td class=\"tf\"><span class=\"hb\"><span  class=\"hl hlup\" >אֱלֹהִ֖ים </span></span></td><td class=\"tf\"><span class=\"hb\"><span  class=\"hl hlup\" >אֱלֹהִ֖ים </span></span></td></tr>\n",
       "<tr class=\"tf\"><td class=\"tf\">4</td><td class=\"tf\"> <a href=\"https://shebanq.ancient-data.org/hebrew/text?book=Genesis&amp;chapter=1&amp;verse=4&amp;version=2017&amp;mr=m&amp;qw=q&amp;tp=txt_p&amp;tr=hb&amp;wget=v&amp;qget=v&amp;nget=vt\" title=\"show this passage in SHEBANQ\" sec=\"Genesis 1:4\">Genesis 1:4</a></td><td class=\"tf\"><span class=\"trb\"></span></td><td class=\"tf\"><span class=\"trb\"></span></td><td class=\"tf\"><span class=\"hb\"><a class=\"vn\" href=\"https://shebanq.ancient-data.org/hebrew/text?book=Genesis&amp;chapter=1&amp;verse=4&amp;version=2017&amp;mr=m&amp;qw=q&amp;tp=txt_p&amp;tr=hb&amp;wget=v&amp;qget=v&amp;nget=vt\" title=\"Genesis 1:4\" sec=\"Genesis 1:4\"></a>וַיַּ֧רְא <span  class=\"hl hlup\" >אֱלֹהִ֛ים </span>אֶת־הָאֹ֖ור כִּי־טֹ֑וב וַיַּבְדֵּ֣ל אֱלֹהִ֔ים בֵּ֥ין הָאֹ֖ור וּבֵ֥ין הַחֹֽשֶׁךְ׃ </span></td><td class=\"tf\"><span class=\"hb\"><span  class=\"hl hlup\" >אֱלֹהִ֛ים </span></span></td><td class=\"tf\"><span class=\"hb\"><span  class=\"hl hlup\" >אֱלֹהִ֛ים </span></span></td></tr>\n",
       "<tr class=\"tf\"><td class=\"tf\">5</td><td class=\"tf\"> <a href=\"https://shebanq.ancient-data.org/hebrew/text?book=Genesis&amp;chapter=1&amp;verse=4&amp;version=2017&amp;mr=m&amp;qw=q&amp;tp=txt_p&amp;tr=hb&amp;wget=v&amp;qget=v&amp;nget=vt\" title=\"show this passage in SHEBANQ\" sec=\"Genesis 1:4\">Genesis 1:4</a></td><td class=\"tf\"><span class=\"trb\"></span></td><td class=\"tf\"><span class=\"trb\"></span></td><td class=\"tf\"><span class=\"hb\"><a class=\"vn\" href=\"https://shebanq.ancient-data.org/hebrew/text?book=Genesis&amp;chapter=1&amp;verse=4&amp;version=2017&amp;mr=m&amp;qw=q&amp;tp=txt_p&amp;tr=hb&amp;wget=v&amp;qget=v&amp;nget=vt\" title=\"Genesis 1:4\" sec=\"Genesis 1:4\"></a>וַיַּ֧רְא אֱלֹהִ֛ים אֶת־הָאֹ֖ור כִּי־טֹ֑וב וַיַּבְדֵּ֣ל <span  class=\"hl hlup\" >אֱלֹהִ֔ים </span>בֵּ֥ין הָאֹ֖ור וּבֵ֥ין הַחֹֽשֶׁךְ׃ </span></td><td class=\"tf\"><span class=\"hb\"><span  class=\"hl hlup\" >אֱלֹהִ֔ים </span></span></td><td class=\"tf\"><span class=\"hb\"><span  class=\"hl hlup\" >אֱלֹהִ֔ים </span></span></td></tr>\n",
       "<tr class=\"tf\"><td class=\"tf\">6</td><td class=\"tf\"> <a href=\"https://shebanq.ancient-data.org/hebrew/text?book=Genesis&amp;chapter=1&amp;verse=5&amp;version=2017&amp;mr=m&amp;qw=q&amp;tp=txt_p&amp;tr=hb&amp;wget=v&amp;qget=v&amp;nget=vt\" title=\"show this passage in SHEBANQ\" sec=\"Genesis 1:5\">Genesis 1:5</a></td><td class=\"tf\"><span class=\"trb\"></span></td><td class=\"tf\"><span class=\"trb\"></span></td><td class=\"tf\"><span class=\"hb\"><a class=\"vn\" href=\"https://shebanq.ancient-data.org/hebrew/text?book=Genesis&amp;chapter=1&amp;verse=5&amp;version=2017&amp;mr=m&amp;qw=q&amp;tp=txt_p&amp;tr=hb&amp;wget=v&amp;qget=v&amp;nget=vt\" title=\"Genesis 1:5\" sec=\"Genesis 1:5\"></a>וַיִּקְרָ֨א <span  class=\"hl hlup\" >אֱלֹהִ֤ים׀ </span>לָאֹור֙ יֹ֔ום וְלַחֹ֖שֶׁךְ קָ֣רָא לָ֑יְלָה וַֽיְהִי־עֶ֥רֶב וַֽיְהִי־בֹ֖קֶר יֹ֥ום אֶחָֽד׃ פ </span></td><td class=\"tf\"><span class=\"hb\"><span  class=\"hl hlup\" >אֱלֹהִ֤ים׀ </span></span></td><td class=\"tf\"><span class=\"hb\"><span  class=\"hl hlup\" >אֱלֹהִ֤ים׀ </span></span></td></tr>\n",
       "<tr class=\"tf\"><td class=\"tf\">7</td><td class=\"tf\"> <a href=\"https://shebanq.ancient-data.org/hebrew/text?book=Genesis&amp;chapter=1&amp;verse=6&amp;version=2017&amp;mr=m&amp;qw=q&amp;tp=txt_p&amp;tr=hb&amp;wget=v&amp;qget=v&amp;nget=vt\" title=\"show this passage in SHEBANQ\" sec=\"Genesis 1:6\">Genesis 1:6</a></td><td class=\"tf\"><span class=\"trb\"></span></td><td class=\"tf\"><span class=\"trb\"></span></td><td class=\"tf\"><span class=\"hb\"><a class=\"vn\" href=\"https://shebanq.ancient-data.org/hebrew/text?book=Genesis&amp;chapter=1&amp;verse=6&amp;version=2017&amp;mr=m&amp;qw=q&amp;tp=txt_p&amp;tr=hb&amp;wget=v&amp;qget=v&amp;nget=vt\" title=\"Genesis 1:6\" sec=\"Genesis 1:6\"></a>וַיֹּ֣אמֶר <span  class=\"hl hlup\" >אֱלֹהִ֔ים </span>יְהִ֥י רָקִ֖יעַ בְּתֹ֣וךְ הַמָּ֑יִם וִיהִ֣י מַבְדִּ֔יל בֵּ֥ין מַ֖יִם לָמָֽיִם׃ </span></td><td class=\"tf\"><span class=\"hb\"><span  class=\"hl hlup\" >אֱלֹהִ֔ים </span></span></td><td class=\"tf\"><span class=\"hb\"><span  class=\"hl hlup\" >אֱלֹהִ֔ים </span></span></td></tr>\n",
       "<tr class=\"tf\"><td class=\"tf\">8</td><td class=\"tf\"> <a href=\"https://shebanq.ancient-data.org/hebrew/text?book=Genesis&amp;chapter=1&amp;verse=7&amp;version=2017&amp;mr=m&amp;qw=q&amp;tp=txt_p&amp;tr=hb&amp;wget=v&amp;qget=v&amp;nget=vt\" title=\"show this passage in SHEBANQ\" sec=\"Genesis 1:7\">Genesis 1:7</a></td><td class=\"tf\"><span class=\"trb\"></span></td><td class=\"tf\"><span class=\"trb\"></span></td><td class=\"tf\"><span class=\"hb\"><a class=\"vn\" href=\"https://shebanq.ancient-data.org/hebrew/text?book=Genesis&amp;chapter=1&amp;verse=7&amp;version=2017&amp;mr=m&amp;qw=q&amp;tp=txt_p&amp;tr=hb&amp;wget=v&amp;qget=v&amp;nget=vt\" title=\"Genesis 1:7\" sec=\"Genesis 1:7\"></a>וַיַּ֣עַשׂ <span  class=\"hl hlup\" >אֱלֹהִים֮ </span>אֶת־הָרָקִיעַ֒ וַיַּבְדֵּ֗ל בֵּ֤ין הַמַּ֨יִם֙ אֲשֶׁר֙ מִתַּ֣חַת לָרָקִ֔יעַ וּבֵ֣ין הַמַּ֔יִם אֲשֶׁ֖ר מֵעַ֣ל לָרָקִ֑יעַ וַֽיְהִי־כֵֽן׃ </span></td><td class=\"tf\"><span class=\"hb\"><span  class=\"hl hlup\" >אֱלֹהִים֮ </span></span></td><td class=\"tf\"><span class=\"hb\"><span  class=\"hl hlup\" >אֱלֹהִים֮ </span></span></td></tr>\n",
       "<tr class=\"tf\"><td class=\"tf\">9</td><td class=\"tf\"> <a href=\"https://shebanq.ancient-data.org/hebrew/text?book=Genesis&amp;chapter=1&amp;verse=8&amp;version=2017&amp;mr=m&amp;qw=q&amp;tp=txt_p&amp;tr=hb&amp;wget=v&amp;qget=v&amp;nget=vt\" title=\"show this passage in SHEBANQ\" sec=\"Genesis 1:8\">Genesis 1:8</a></td><td class=\"tf\"><span class=\"trb\"></span></td><td class=\"tf\"><span class=\"trb\"></span></td><td class=\"tf\"><span class=\"hb\"><a class=\"vn\" href=\"https://shebanq.ancient-data.org/hebrew/text?book=Genesis&amp;chapter=1&amp;verse=8&amp;version=2017&amp;mr=m&amp;qw=q&amp;tp=txt_p&amp;tr=hb&amp;wget=v&amp;qget=v&amp;nget=vt\" title=\"Genesis 1:8\" sec=\"Genesis 1:8\"></a>וַיִּקְרָ֧א <span  class=\"hl hlup\" >אֱלֹהִ֛ים </span>לָֽרָקִ֖יעַ שָׁמָ֑יִם וַֽיְהִי־עֶ֥רֶב וַֽיְהִי־בֹ֖קֶר יֹ֥ום שֵׁנִֽי׃ פ </span></td><td class=\"tf\"><span class=\"hb\"><span  class=\"hl hlup\" >אֱלֹהִ֛ים </span></span></td><td class=\"tf\"><span class=\"hb\"><span  class=\"hl hlup\" >אֱלֹהִ֛ים </span></span></td></tr>\n",
       "<tr class=\"tf\"><td class=\"tf\">10</td><td class=\"tf\"> <a href=\"https://shebanq.ancient-data.org/hebrew/text?book=Genesis&amp;chapter=1&amp;verse=9&amp;version=2017&amp;mr=m&amp;qw=q&amp;tp=txt_p&amp;tr=hb&amp;wget=v&amp;qget=v&amp;nget=vt\" title=\"show this passage in SHEBANQ\" sec=\"Genesis 1:9\">Genesis 1:9</a></td><td class=\"tf\"><span class=\"trb\"></span></td><td class=\"tf\"><span class=\"trb\"></span></td><td class=\"tf\"><span class=\"hb\"><a class=\"vn\" href=\"https://shebanq.ancient-data.org/hebrew/text?book=Genesis&amp;chapter=1&amp;verse=9&amp;version=2017&amp;mr=m&amp;qw=q&amp;tp=txt_p&amp;tr=hb&amp;wget=v&amp;qget=v&amp;nget=vt\" title=\"Genesis 1:9\" sec=\"Genesis 1:9\"></a>וַיֹּ֣אמֶר <span  class=\"hl hlup\" >אֱלֹהִ֗ים </span>יִקָּו֨וּ הַמַּ֜יִם מִתַּ֤חַת הַשָּׁמַ֨יִם֙ אֶל־מָקֹ֣ום אֶחָ֔ד וְתֵרָאֶ֖ה הַיַּבָּשָׁ֑ה וַֽיְהִי־כֵֽן׃ </span></td><td class=\"tf\"><span class=\"hb\"><span  class=\"hl hlup\" >אֱלֹהִ֗ים </span></span></td><td class=\"tf\"><span class=\"hb\"><span  class=\"hl hlup\" >אֱלֹהִ֗ים </span></span></td></tr></table>"
      ],
      "text/plain": [
       "<IPython.core.display.HTML object>"
      ]
     },
     "metadata": {},
     "output_type": "display_data"
    }
   ],
   "source": [
    "A.table(S.fetch(limit=10), linked=3)"
   ]
  },
  {
   "cell_type": "markdown",
   "metadata": {},
   "source": [
    "## Slow queries\n",
    "\n",
    "The search template above has some pretty tight constraints on one of its objects,\n",
    "so the amount of data to deal with is pretty limited.\n",
    "\n",
    "If the constraints are weak, search may become slow.\n",
    "\n",
    "For example:"
   ]
  },
  {
   "cell_type": "code",
   "execution_count": 15,
   "metadata": {
    "ExecuteTime": {
     "end_time": "2018-05-24T08:53:35.245388Z",
     "start_time": "2018-05-24T08:53:35.241669Z"
    }
   },
   "outputs": [],
   "source": [
    "query = '''\n",
    "% test\n",
    "% verse book=Genesis chapter=2 verse=25\n",
    "verse\n",
    "  clause\n",
    "                                 \n",
    "    p1:phrase\n",
    "        w1:word\n",
    "        w3:word\n",
    "        w1 < w3\n",
    "\n",
    "    p2:phrase\n",
    "        w2:word\n",
    "        w1 < w2 \n",
    "        w3 > w2\n",
    "    \n",
    "    p1 < p2   \n",
    "'''"
   ]
  },
  {
   "cell_type": "markdown",
   "metadata": {},
   "source": [
    "A couple of remarks you may have encountered before.\n",
    "\n",
    "* some objects have got a name\n",
    "* there are additional relations specified between named objects\n",
    "* `<` means: *comes before*, and `>`: *comes after* in the canonical order for nodes,\n",
    "  which for words means: comes textually before/after, but for other nodes the meaning\n",
    "  is explained [here](https://annotation.github.io/text-fabric/Api/General/#navigating-nodes)\n",
    "* later on we describe those relations in more detail\n",
    "\n",
    "> **Note on order**\n",
    "Look at the words `w1` and `w3` below phrase `p1`.\n",
    "Although in the template `w1` comes before `w3`, this is not \n",
    "translated in a search constraint of the same nature.\n",
    "\n",
    "> Order between objects in a template is never significant, only embedding is.\n",
    "\n",
    "Because order is not significant, you have to specify order yourself, using relations.\n",
    "\n",
    "It turns out that this is better than the other way around.\n",
    "In MQL order *is* significant, and it is very difficult to \n",
    "search for `w1` and `w2` in any order.\n",
    "Especially if your are looking for more than 2 complex objects with lots of feature\n",
    "conditions, your search template would explode if you had to spell out all\n",
    "possible permutations. See the example of Reinoud Oosting below.\n",
    "\n",
    "> **Note on gaps**\n",
    "Look at the phrases `p1` and `p2`.\n",
    "We do not specify an order here, only that they are different.\n",
    "In order to prevent duplicated searches with `p1` and `p2` interchanged, we even \n",
    "stipulate that `p1 < p2`.\n",
    "There are many spatial relationships possible between different objects.\n",
    "In many cases, neither the one comes before the other, nor vice versa.\n",
    "They can overlap, one can occur in a gap of the other, they can be completely disjoint\n",
    "and interleaved, etc."
   ]
  },
  {
   "cell_type": "code",
   "execution_count": 16,
   "metadata": {},
   "outputs": [],
   "source": [
    "# ignore this\n",
    "# S.tweakPerformance(yarnRatio=2)"
   ]
  },
  {
   "cell_type": "code",
   "execution_count": 17,
   "metadata": {
    "ExecuteTime": {
     "end_time": "2018-05-24T08:53:38.402967Z",
     "start_time": "2018-05-24T08:53:37.837161Z"
    }
   },
   "outputs": [
    {
     "name": "stdout",
     "output_type": "stream",
     "text": [
      "   |     0.00s Feature overview: 111 for nodes; 8 for edges; 2 configs; 8 computed\n",
      "  0.00s Checking search template ...\n",
      "  0.00s Setting up search space for 7 objects ...\n",
      "  0.28s Constraining search space with 10 relations ...\n",
      "  2.76s \t6 edges thinned\n",
      "  2.76s Setting up retrieval plan ...\n",
      "  2.80s Ready to deliver results from 1894418 nodes\n",
      "Iterate over S.fetch() to get the results\n",
      "See S.showPlan() to interpret the results\n"
     ]
    }
   ],
   "source": [
    "S.study(query)"
   ]
  },
  {
   "cell_type": "markdown",
   "metadata": {},
   "source": [
    "Text-Fabric knows that narrowing down the search space in this case would take ages,\n",
    "without resulting in a significantly shrunken space.\n",
    "So it skips doing so for most constraints.\n",
    "\n",
    "Let us see the plan, with details."
   ]
  },
  {
   "cell_type": "code",
   "execution_count": 18,
   "metadata": {},
   "outputs": [
    {
     "name": "stdout",
     "output_type": "stream",
     "text": [
      "Search with 7 objects and 10 relations\n",
      "Results are instantiations of the following objects:\n",
      "node  0-verse                             ( 23207   choices)\n",
      "node  1-clause                            ( 88051   choices)\n",
      "node  2-phrase                            (252982   choices)\n",
      "node  3-word                              (425732   choices)\n",
      "node  4-word                              (425732   choices)\n",
      "node  5-phrase                            (252982   choices)\n",
      "node  6-word                              (425732   choices)\n",
      "Performance parameters:\n",
      "\tyarnRatio            =     1.2\n",
      "\ttryLimitFrom         =     100\n",
      "\ttryLimitTo           =     100\n",
      "Instantiations are computed along the following relations:\n",
      "node                      0-verse         ( 23207   choices)\n",
      "edge  0-verse         [[  1-clause        (     4.0 choices (thinned))\n",
      "edge  1-clause        [[  2-phrase        (     2.6 choices (thinned))\n",
      "edge  2-phrase        [[  3-word          (     1.7 choices (thinned))\n",
      "edge  2-phrase        [[  4-word          (     1.7 choices (thinned))\n",
      "edge  3-word          <   4-word          (212866.0 choices)\n",
      "edge  1-clause        [[  5-phrase        (     2.9 choices (thinned))\n",
      "edge  2-phrase        <   5-phrase        (126491.0 choices)\n",
      "edge  5-phrase        [[  6-word          (     1.7 choices (thinned))\n",
      "edge  6-word          >   3-word          (212866.0 choices)\n",
      "edge  4-word          >   6-word          (212866.0 choices)\n",
      "  7.51s The results are connected to the original search template as follows:\n",
      " 0     \n",
      " 1     % test\n",
      " 2     % verse book=Genesis chapter=2 verse=25\n",
      " 3 R0  verse\n",
      " 4 R1    clause\n",
      " 5                                      \n",
      " 6 R2      p1:phrase\n",
      " 7 R3          w1:word\n",
      " 8 R4          w3:word\n",
      " 9             w1 < w3\n",
      "10     \n",
      "11 R5      p2:phrase\n",
      "12 R6          w2:word\n",
      "13             w1 < w2 \n",
      "14             w3 > w2\n",
      "15         \n",
      "16         p1 < p2   \n",
      "17     \n"
     ]
    }
   ],
   "source": [
    "S.showPlan(details=True)"
   ]
  },
  {
   "cell_type": "markdown",
   "metadata": {},
   "source": [
    "As you see, we have a hefty search space here.\n",
    "Let us play with the `count()` function."
   ]
  },
  {
   "cell_type": "code",
   "execution_count": 19,
   "metadata": {
    "ExecuteTime": {
     "end_time": "2018-05-24T08:53:43.176732Z",
     "start_time": "2018-05-24T08:53:42.972063Z"
    }
   },
   "outputs": [
    {
     "name": "stdout",
     "output_type": "stream",
     "text": [
      "  0.00s Counting results per 10 up to 100 ...\n",
      "   |     0.10s 10\n",
      "   |     0.10s 20\n",
      "   |     0.10s 30\n",
      "   |     0.12s 40\n",
      "   |     0.12s 50\n",
      "   |     0.12s 60\n",
      "   |     0.14s 70\n",
      "   |     0.14s 80\n",
      "   |     0.14s 90\n",
      "   |     0.14s 100\n",
      "  0.14s Done: 100 results\n"
     ]
    }
   ],
   "source": [
    "S.count(progress=10, limit=100)"
   ]
  },
  {
   "cell_type": "markdown",
   "metadata": {},
   "source": [
    "We can be bolder than this!"
   ]
  },
  {
   "cell_type": "code",
   "execution_count": 20,
   "metadata": {
    "ExecuteTime": {
     "end_time": "2018-05-24T08:53:45.993373Z",
     "start_time": "2018-05-24T08:53:45.182241Z"
    }
   },
   "outputs": [
    {
     "name": "stdout",
     "output_type": "stream",
     "text": [
      "  0.00s Counting results per 100 up to 1000 ...\n",
      "   |     0.13s 100\n",
      "   |     0.15s 200\n",
      "   |     0.15s 300\n",
      "   |     0.27s 400\n",
      "   |     0.31s 500\n",
      "   |     0.31s 600\n",
      "   |     0.36s 700\n",
      "   |     0.46s 800\n",
      "   |     0.47s 900\n",
      "   |     0.61s 1000\n",
      "  0.61s Done: 1000 results\n"
     ]
    }
   ],
   "source": [
    "S.count(progress=100, limit=1000)"
   ]
  },
  {
   "cell_type": "markdown",
   "metadata": {},
   "source": [
    "OK, not too bad, but note that it takes a big fraction of a second to get just 100 results.\n",
    "\n",
    "Now let us go for all of them by the thousand."
   ]
  },
  {
   "cell_type": "code",
   "execution_count": 21,
   "metadata": {
    "ExecuteTime": {
     "end_time": "2018-05-24T08:53:59.440736Z",
     "start_time": "2018-05-24T08:53:51.899813Z"
    }
   },
   "outputs": [
    {
     "name": "stdout",
     "output_type": "stream",
     "text": [
      "  0.00s Counting results per 1000 up to  the end of the results ...\n",
      "   |     0.58s 1000\n",
      "   |     1.03s 2000\n",
      "   |     1.47s 3000\n",
      "   |     1.91s 4000\n",
      "   |     2.29s 5000\n",
      "   |     3.05s 6000\n",
      "   |     4.59s 7000\n",
      "  5.67s Done: 7618 results\n"
     ]
    }
   ],
   "source": [
    "S.count(progress=1000, limit=-1)"
   ]
  },
  {
   "cell_type": "markdown",
   "metadata": {},
   "source": [
    "See? This is substantial work."
   ]
  },
  {
   "cell_type": "code",
   "execution_count": 22,
   "metadata": {
    "ExecuteTime": {
     "end_time": "2018-05-24T08:54:02.778931Z",
     "start_time": "2018-05-24T08:54:02.657595Z"
    }
   },
   "outputs": [
    {
     "data": {
      "text/html": [
       "<table>\n",
       "<tr class=\"tf\">\n",
       "  <th class=\"tf\">n</th><th class=\"tf\">p</th>\n",
       "  <th class=\"tf\">verse</th><th>clause</th><th>phrase</th><th>word</th><th>word</th><th>phrase</th><th>word</th>\n",
       "</tr>\n",
       "\n",
       "<tr class=\"tf\"><td class=\"tf\">1</td><td class=\"tf\"> <a href=\"https://shebanq.ancient-data.org/hebrew/text?book=Genesis&amp;chapter=2&amp;verse=25&amp;version=2017&amp;mr=m&amp;qw=q&amp;tp=txt_p&amp;tr=hb&amp;wget=v&amp;qget=v&amp;nget=vt\" title=\"show this passage in SHEBANQ\" sec=\"Genesis 2:25\">Genesis 2:25</a></td><td class=\"tf\"><span class=\"hb\"><a class=\"vn\" href=\"https://shebanq.ancient-data.org/hebrew/text?book=Genesis&amp;chapter=2&amp;verse=25&amp;version=2017&amp;mr=m&amp;qw=q&amp;tp=txt_p&amp;tr=hb&amp;wget=v&amp;qget=v&amp;nget=vt\" title=\"Genesis 2:25\" sec=\"Genesis 2:25\"></a><span  class=\"hlup\" >וַ</span><span  class=\"hlup\" >יִּֽהְי֤וּ </span><span  class=\"hl hlup\" >שְׁנֵיהֶם֙ </span><span  class=\"hl hlup\" >עֲרוּמִּ֔ים </span><span  class=\"hl hlup\" >הָֽ</span><span  class=\"hlup\" >אָדָ֖ם </span><span  class=\"hlup\" >וְ</span><span  class=\"hlup\" >אִשְׁתֹּ֑ו </span>וְלֹ֖א יִתְבֹּשָֽׁשׁוּ׃ </span></td><td class=\"tf\"><span class=\"hb\"><span  class=\"hlup\" >וַ</span><span  class=\"hlup\" >יִּֽהְי֤וּ </span><span  class=\"hl hlup\" >שְׁנֵיהֶם֙ </span><span  class=\"hl hlup\" >עֲרוּמִּ֔ים </span><span  class=\"hl hlup\" >הָֽ</span><span  class=\"hlup\" >אָדָ֖ם </span><span  class=\"hlup\" >וְ</span><span  class=\"hlup\" >אִשְׁתֹּ֑ו </span></span></td><td class=\"tf\"><span class=\"hb\"><span  class=\"hl hlup\" >שְׁנֵיהֶם֙ </span><span  class=\"hl hlup\" >הָֽ</span><span  class=\"hlup\" >אָדָ֖ם </span><span  class=\"hlup\" >וְ</span><span  class=\"hlup\" >אִשְׁתֹּ֑ו </span></span></td><td class=\"tf\"><span class=\"hb\"><span  class=\"hl hlup\" >שְׁנֵיהֶם֙ </span></span></td><td class=\"tf\"><span class=\"hb\"><span  class=\"hl hlup\" >הָֽ</span></span></td><td class=\"tf\"><span class=\"hb\"><span  class=\"hl hlup\" >עֲרוּמִּ֔ים </span></span></td><td class=\"tf\"><span class=\"hb\"><span  class=\"hl hlup\" >עֲרוּמִּ֔ים </span></span></td></tr>\n",
       "<tr class=\"tf\"><td class=\"tf\">2</td><td class=\"tf\"> <a href=\"https://shebanq.ancient-data.org/hebrew/text?book=Genesis&amp;chapter=2&amp;verse=25&amp;version=2017&amp;mr=m&amp;qw=q&amp;tp=txt_p&amp;tr=hb&amp;wget=v&amp;qget=v&amp;nget=vt\" title=\"show this passage in SHEBANQ\" sec=\"Genesis 2:25\">Genesis 2:25</a></td><td class=\"tf\"><span class=\"hb\"><a class=\"vn\" href=\"https://shebanq.ancient-data.org/hebrew/text?book=Genesis&amp;chapter=2&amp;verse=25&amp;version=2017&amp;mr=m&amp;qw=q&amp;tp=txt_p&amp;tr=hb&amp;wget=v&amp;qget=v&amp;nget=vt\" title=\"Genesis 2:25\" sec=\"Genesis 2:25\"></a><span  class=\"hlup\" >וַ</span><span  class=\"hlup\" >יִּֽהְי֤וּ </span><span  class=\"hl hlup\" >שְׁנֵיהֶם֙ </span><span  class=\"hl hlup\" >עֲרוּמִּ֔ים </span><span  class=\"hlup\" >הָֽ</span><span  class=\"hl hlup\" >אָדָ֖ם </span><span  class=\"hlup\" >וְ</span><span  class=\"hlup\" >אִשְׁתֹּ֑ו </span>וְלֹ֖א יִתְבֹּשָֽׁשׁוּ׃ </span></td><td class=\"tf\"><span class=\"hb\"><span  class=\"hlup\" >וַ</span><span  class=\"hlup\" >יִּֽהְי֤וּ </span><span  class=\"hl hlup\" >שְׁנֵיהֶם֙ </span><span  class=\"hl hlup\" >עֲרוּמִּ֔ים </span><span  class=\"hlup\" >הָֽ</span><span  class=\"hl hlup\" >אָדָ֖ם </span><span  class=\"hlup\" >וְ</span><span  class=\"hlup\" >אִשְׁתֹּ֑ו </span></span></td><td class=\"tf\"><span class=\"hb\"><span  class=\"hl hlup\" >שְׁנֵיהֶם֙ </span><span  class=\"hlup\" >הָֽ</span><span  class=\"hl hlup\" >אָדָ֖ם </span><span  class=\"hlup\" >וְ</span><span  class=\"hlup\" >אִשְׁתֹּ֑ו </span></span></td><td class=\"tf\"><span class=\"hb\"><span  class=\"hl hlup\" >שְׁנֵיהֶם֙ </span></span></td><td class=\"tf\"><span class=\"hb\"><span  class=\"hl hlup\" >אָדָ֖ם </span></span></td><td class=\"tf\"><span class=\"hb\"><span  class=\"hl hlup\" >עֲרוּמִּ֔ים </span></span></td><td class=\"tf\"><span class=\"hb\"><span  class=\"hl hlup\" >עֲרוּמִּ֔ים </span></span></td></tr>\n",
       "<tr class=\"tf\"><td class=\"tf\">3</td><td class=\"tf\"> <a href=\"https://shebanq.ancient-data.org/hebrew/text?book=Genesis&amp;chapter=2&amp;verse=25&amp;version=2017&amp;mr=m&amp;qw=q&amp;tp=txt_p&amp;tr=hb&amp;wget=v&amp;qget=v&amp;nget=vt\" title=\"show this passage in SHEBANQ\" sec=\"Genesis 2:25\">Genesis 2:25</a></td><td class=\"tf\"><span class=\"hb\"><a class=\"vn\" href=\"https://shebanq.ancient-data.org/hebrew/text?book=Genesis&amp;chapter=2&amp;verse=25&amp;version=2017&amp;mr=m&amp;qw=q&amp;tp=txt_p&amp;tr=hb&amp;wget=v&amp;qget=v&amp;nget=vt\" title=\"Genesis 2:25\" sec=\"Genesis 2:25\"></a><span  class=\"hlup\" >וַ</span><span  class=\"hlup\" >יִּֽהְי֤וּ </span><span  class=\"hl hlup\" >שְׁנֵיהֶם֙ </span><span  class=\"hl hlup\" >עֲרוּמִּ֔ים </span><span  class=\"hlup\" >הָֽ</span><span  class=\"hlup\" >אָדָ֖ם </span><span  class=\"hl hlup\" >וְ</span><span  class=\"hlup\" >אִשְׁתֹּ֑ו </span>וְלֹ֖א יִתְבֹּשָֽׁשׁוּ׃ </span></td><td class=\"tf\"><span class=\"hb\"><span  class=\"hlup\" >וַ</span><span  class=\"hlup\" >יִּֽהְי֤וּ </span><span  class=\"hl hlup\" >שְׁנֵיהֶם֙ </span><span  class=\"hl hlup\" >עֲרוּמִּ֔ים </span><span  class=\"hlup\" >הָֽ</span><span  class=\"hlup\" >אָדָ֖ם </span><span  class=\"hl hlup\" >וְ</span><span  class=\"hlup\" >אִשְׁתֹּ֑ו </span></span></td><td class=\"tf\"><span class=\"hb\"><span  class=\"hl hlup\" >שְׁנֵיהֶם֙ </span><span  class=\"hlup\" >הָֽ</span><span  class=\"hlup\" >אָדָ֖ם </span><span  class=\"hl hlup\" >וְ</span><span  class=\"hlup\" >אִשְׁתֹּ֑ו </span></span></td><td class=\"tf\"><span class=\"hb\"><span  class=\"hl hlup\" >שְׁנֵיהֶם֙ </span></span></td><td class=\"tf\"><span class=\"hb\"><span  class=\"hl hlup\" >וְ</span></span></td><td class=\"tf\"><span class=\"hb\"><span  class=\"hl hlup\" >עֲרוּמִּ֔ים </span></span></td><td class=\"tf\"><span class=\"hb\"><span  class=\"hl hlup\" >עֲרוּמִּ֔ים </span></span></td></tr>\n",
       "<tr class=\"tf\"><td class=\"tf\">4</td><td class=\"tf\"> <a href=\"https://shebanq.ancient-data.org/hebrew/text?book=Genesis&amp;chapter=2&amp;verse=25&amp;version=2017&amp;mr=m&amp;qw=q&amp;tp=txt_p&amp;tr=hb&amp;wget=v&amp;qget=v&amp;nget=vt\" title=\"show this passage in SHEBANQ\" sec=\"Genesis 2:25\">Genesis 2:25</a></td><td class=\"tf\"><span class=\"hb\"><a class=\"vn\" href=\"https://shebanq.ancient-data.org/hebrew/text?book=Genesis&amp;chapter=2&amp;verse=25&amp;version=2017&amp;mr=m&amp;qw=q&amp;tp=txt_p&amp;tr=hb&amp;wget=v&amp;qget=v&amp;nget=vt\" title=\"Genesis 2:25\" sec=\"Genesis 2:25\"></a><span  class=\"hlup\" >וַ</span><span  class=\"hlup\" >יִּֽהְי֤וּ </span><span  class=\"hl hlup\" >שְׁנֵיהֶם֙ </span><span  class=\"hl hlup\" >עֲרוּמִּ֔ים </span><span  class=\"hlup\" >הָֽ</span><span  class=\"hlup\" >אָדָ֖ם </span><span  class=\"hlup\" >וְ</span><span  class=\"hl hlup\" >אִשְׁתֹּ֑ו </span>וְלֹ֖א יִתְבֹּשָֽׁשׁוּ׃ </span></td><td class=\"tf\"><span class=\"hb\"><span  class=\"hlup\" >וַ</span><span  class=\"hlup\" >יִּֽהְי֤וּ </span><span  class=\"hl hlup\" >שְׁנֵיהֶם֙ </span><span  class=\"hl hlup\" >עֲרוּמִּ֔ים </span><span  class=\"hlup\" >הָֽ</span><span  class=\"hlup\" >אָדָ֖ם </span><span  class=\"hlup\" >וְ</span><span  class=\"hl hlup\" >אִשְׁתֹּ֑ו </span></span></td><td class=\"tf\"><span class=\"hb\"><span  class=\"hl hlup\" >שְׁנֵיהֶם֙ </span><span  class=\"hlup\" >הָֽ</span><span  class=\"hlup\" >אָדָ֖ם </span><span  class=\"hlup\" >וְ</span><span  class=\"hl hlup\" >אִשְׁתֹּ֑ו </span></span></td><td class=\"tf\"><span class=\"hb\"><span  class=\"hl hlup\" >שְׁנֵיהֶם֙ </span></span></td><td class=\"tf\"><span class=\"hb\"><span  class=\"hl hlup\" >אִשְׁתֹּ֑ו </span></span></td><td class=\"tf\"><span class=\"hb\"><span  class=\"hl hlup\" >עֲרוּמִּ֔ים </span></span></td><td class=\"tf\"><span class=\"hb\"><span  class=\"hl hlup\" >עֲרוּמִּ֔ים </span></span></td></tr>\n",
       "<tr class=\"tf\"><td class=\"tf\">5</td><td class=\"tf\"> <a href=\"https://shebanq.ancient-data.org/hebrew/text?book=Genesis&amp;chapter=4&amp;verse=4&amp;version=2017&amp;mr=m&amp;qw=q&amp;tp=txt_p&amp;tr=hb&amp;wget=v&amp;qget=v&amp;nget=vt\" title=\"show this passage in SHEBANQ\" sec=\"Genesis 4:4\">Genesis 4:4</a></td><td class=\"tf\"><span class=\"hb\"><a class=\"vn\" href=\"https://shebanq.ancient-data.org/hebrew/text?book=Genesis&amp;chapter=4&amp;verse=4&amp;version=2017&amp;mr=m&amp;qw=q&amp;tp=txt_p&amp;tr=hb&amp;wget=v&amp;qget=v&amp;nget=vt\" title=\"Genesis 4:4\" sec=\"Genesis 4:4\"></a><span  class=\"hlup\" >וְ</span><span  class=\"hl hlup\" >הֶ֨בֶל </span><span  class=\"hl hlup\" >הֵבִ֥יא </span><span  class=\"hl hlup\" >גַם־</span><span  class=\"hlup\" >ה֛וּא </span><span  class=\"hlup\" >מִ</span><span  class=\"hlup\" >בְּכֹרֹ֥ות </span><span  class=\"hlup\" >צֹאנֹ֖ו </span><span  class=\"hlup\" >וּ</span><span  class=\"hlup\" >מֵֽ</span><span  class=\"hlup\" >חֶלְבֵהֶ֑ן </span>וַיִּ֣שַׁע יְהוָ֔ה אֶל־הֶ֖בֶל וְאֶל־מִנְחָתֹֽו׃ </span></td><td class=\"tf\"><span class=\"hb\"><span  class=\"hlup\" >וְ</span><span  class=\"hl hlup\" >הֶ֨בֶל </span><span  class=\"hl hlup\" >הֵבִ֥יא </span><span  class=\"hl hlup\" >גַם־</span><span  class=\"hlup\" >ה֛וּא </span><span  class=\"hlup\" >מִ</span><span  class=\"hlup\" >בְּכֹרֹ֥ות </span><span  class=\"hlup\" >צֹאנֹ֖ו </span><span  class=\"hlup\" >וּ</span><span  class=\"hlup\" >מֵֽ</span><span  class=\"hlup\" >חֶלְבֵהֶ֑ן </span></span></td><td class=\"tf\"><span class=\"hb\"><span  class=\"hl hlup\" >הֶ֨בֶל </span><span  class=\"hl hlup\" >גַם־</span><span  class=\"hlup\" >ה֛וּא </span></span></td><td class=\"tf\"><span class=\"hb\"><span  class=\"hl hlup\" >הֶ֨בֶל </span></span></td><td class=\"tf\"><span class=\"hb\"><span  class=\"hl hlup\" >גַם־</span></span></td><td class=\"tf\"><span class=\"hb\"><span  class=\"hl hlup\" >הֵבִ֥יא </span></span></td><td class=\"tf\"><span class=\"hb\"><span  class=\"hl hlup\" >הֵבִ֥יא </span></span></td></tr>\n",
       "<tr class=\"tf\"><td class=\"tf\">6</td><td class=\"tf\"> <a href=\"https://shebanq.ancient-data.org/hebrew/text?book=Genesis&amp;chapter=4&amp;verse=4&amp;version=2017&amp;mr=m&amp;qw=q&amp;tp=txt_p&amp;tr=hb&amp;wget=v&amp;qget=v&amp;nget=vt\" title=\"show this passage in SHEBANQ\" sec=\"Genesis 4:4\">Genesis 4:4</a></td><td class=\"tf\"><span class=\"hb\"><a class=\"vn\" href=\"https://shebanq.ancient-data.org/hebrew/text?book=Genesis&amp;chapter=4&amp;verse=4&amp;version=2017&amp;mr=m&amp;qw=q&amp;tp=txt_p&amp;tr=hb&amp;wget=v&amp;qget=v&amp;nget=vt\" title=\"Genesis 4:4\" sec=\"Genesis 4:4\"></a><span  class=\"hlup\" >וְ</span><span  class=\"hl hlup\" >הֶ֨בֶל </span><span  class=\"hl hlup\" >הֵבִ֥יא </span><span  class=\"hlup\" >גַם־</span><span  class=\"hl hlup\" >ה֛וּא </span><span  class=\"hlup\" >מִ</span><span  class=\"hlup\" >בְּכֹרֹ֥ות </span><span  class=\"hlup\" >צֹאנֹ֖ו </span><span  class=\"hlup\" >וּ</span><span  class=\"hlup\" >מֵֽ</span><span  class=\"hlup\" >חֶלְבֵהֶ֑ן </span>וַיִּ֣שַׁע יְהוָ֔ה אֶל־הֶ֖בֶל וְאֶל־מִנְחָתֹֽו׃ </span></td><td class=\"tf\"><span class=\"hb\"><span  class=\"hlup\" >וְ</span><span  class=\"hl hlup\" >הֶ֨בֶל </span><span  class=\"hl hlup\" >הֵבִ֥יא </span><span  class=\"hlup\" >גַם־</span><span  class=\"hl hlup\" >ה֛וּא </span><span  class=\"hlup\" >מִ</span><span  class=\"hlup\" >בְּכֹרֹ֥ות </span><span  class=\"hlup\" >צֹאנֹ֖ו </span><span  class=\"hlup\" >וּ</span><span  class=\"hlup\" >מֵֽ</span><span  class=\"hlup\" >חֶלְבֵהֶ֑ן </span></span></td><td class=\"tf\"><span class=\"hb\"><span  class=\"hl hlup\" >הֶ֨בֶל </span><span  class=\"hlup\" >גַם־</span><span  class=\"hl hlup\" >ה֛וּא </span></span></td><td class=\"tf\"><span class=\"hb\"><span  class=\"hl hlup\" >הֶ֨בֶל </span></span></td><td class=\"tf\"><span class=\"hb\"><span  class=\"hl hlup\" >ה֛וּא </span></span></td><td class=\"tf\"><span class=\"hb\"><span  class=\"hl hlup\" >הֵבִ֥יא </span></span></td><td class=\"tf\"><span class=\"hb\"><span  class=\"hl hlup\" >הֵבִ֥יא </span></span></td></tr>\n",
       "<tr class=\"tf\"><td class=\"tf\">7</td><td class=\"tf\"> <a href=\"https://shebanq.ancient-data.org/hebrew/text?book=Genesis&amp;chapter=10&amp;verse=21&amp;version=2017&amp;mr=m&amp;qw=q&amp;tp=txt_p&amp;tr=hb&amp;wget=v&amp;qget=v&amp;nget=vt\" title=\"show this passage in SHEBANQ\" sec=\"Genesis 10:21\">Genesis 10:21</a></td><td class=\"tf\"><span class=\"hb\"><a class=\"vn\" href=\"https://shebanq.ancient-data.org/hebrew/text?book=Genesis&amp;chapter=10&amp;verse=21&amp;version=2017&amp;mr=m&amp;qw=q&amp;tp=txt_p&amp;tr=hb&amp;wget=v&amp;qget=v&amp;nget=vt\" title=\"Genesis 10:21\" sec=\"Genesis 10:21\"></a>וּלְשֵׁ֥ם יֻלַּ֖ד <span  class=\"hl hlup\" >גַּם־</span><span  class=\"hlup\" >ה֑וּא </span><span  class=\"hlup\" >אֲבִי֙ </span><span  class=\"hlup\" >כָּל־</span><span  class=\"hlup\" >בְּנֵי־</span><span  class=\"hl hlup\" >עֵ֔בֶר </span><span  class=\"hl hlup\" >אֲחִ֖י </span><span  class=\"hlup\" >יֶ֥פֶת </span><span  class=\"hlup\" >הַ</span><span  class=\"hlup\" >גָּדֹֽול׃ </span></span></td><td class=\"tf\"><span class=\"hb\"><span  class=\"hl hlup\" >גַּם־</span><span  class=\"hlup\" >ה֑וּא </span><span  class=\"hlup\" >אֲבִי֙ </span><span  class=\"hlup\" >כָּל־</span><span  class=\"hlup\" >בְּנֵי־</span><span  class=\"hl hlup\" >עֵ֔בֶר </span><span  class=\"hl hlup\" >אֲחִ֖י </span><span  class=\"hlup\" >יֶ֥פֶת </span><span  class=\"hlup\" >הַ</span><span  class=\"hlup\" >גָּדֹֽול׃ </span></span></td><td class=\"tf\"><span class=\"hb\"><span  class=\"hl hlup\" >גַּם־</span><span  class=\"hlup\" >ה֑וּא </span><span  class=\"hl hlup\" >אֲחִ֖י </span><span  class=\"hlup\" >יֶ֥פֶת </span><span  class=\"hlup\" >הַ</span><span  class=\"hlup\" >גָּדֹֽול׃ </span></span></td><td class=\"tf\"><span class=\"hb\"><span  class=\"hl hlup\" >גַּם־</span></span></td><td class=\"tf\"><span class=\"hb\"><span  class=\"hl hlup\" >אֲחִ֖י </span></span></td><td class=\"tf\"><span class=\"hb\"><span  class=\"hlup\" >אֲבִי֙ </span><span  class=\"hlup\" >כָּל־</span><span  class=\"hlup\" >בְּנֵי־</span><span  class=\"hl hlup\" >עֵ֔בֶר </span></span></td><td class=\"tf\"><span class=\"hb\"><span  class=\"hl hlup\" >עֵ֔בֶר </span></span></td></tr>\n",
       "<tr class=\"tf\"><td class=\"tf\">8</td><td class=\"tf\"> <a href=\"https://shebanq.ancient-data.org/hebrew/text?book=Genesis&amp;chapter=10&amp;verse=21&amp;version=2017&amp;mr=m&amp;qw=q&amp;tp=txt_p&amp;tr=hb&amp;wget=v&amp;qget=v&amp;nget=vt\" title=\"show this passage in SHEBANQ\" sec=\"Genesis 10:21\">Genesis 10:21</a></td><td class=\"tf\"><span class=\"hb\"><a class=\"vn\" href=\"https://shebanq.ancient-data.org/hebrew/text?book=Genesis&amp;chapter=10&amp;verse=21&amp;version=2017&amp;mr=m&amp;qw=q&amp;tp=txt_p&amp;tr=hb&amp;wget=v&amp;qget=v&amp;nget=vt\" title=\"Genesis 10:21\" sec=\"Genesis 10:21\"></a>וּלְשֵׁ֥ם יֻלַּ֖ד <span  class=\"hl hlup\" >גַּם־</span><span  class=\"hlup\" >ה֑וּא </span><span  class=\"hl hlup\" >אֲבִי֙ </span><span  class=\"hlup\" >כָּל־</span><span  class=\"hlup\" >בְּנֵי־</span><span  class=\"hlup\" >עֵ֔בֶר </span><span  class=\"hl hlup\" >אֲחִ֖י </span><span  class=\"hlup\" >יֶ֥פֶת </span><span  class=\"hlup\" >הַ</span><span  class=\"hlup\" >גָּדֹֽול׃ </span></span></td><td class=\"tf\"><span class=\"hb\"><span  class=\"hl hlup\" >גַּם־</span><span  class=\"hlup\" >ה֑וּא </span><span  class=\"hl hlup\" >אֲבִי֙ </span><span  class=\"hlup\" >כָּל־</span><span  class=\"hlup\" >בְּנֵי־</span><span  class=\"hlup\" >עֵ֔בֶר </span><span  class=\"hl hlup\" >אֲחִ֖י </span><span  class=\"hlup\" >יֶ֥פֶת </span><span  class=\"hlup\" >הַ</span><span  class=\"hlup\" >גָּדֹֽול׃ </span></span></td><td class=\"tf\"><span class=\"hb\"><span  class=\"hl hlup\" >גַּם־</span><span  class=\"hlup\" >ה֑וּא </span><span  class=\"hl hlup\" >אֲחִ֖י </span><span  class=\"hlup\" >יֶ֥פֶת </span><span  class=\"hlup\" >הַ</span><span  class=\"hlup\" >גָּדֹֽול׃ </span></span></td><td class=\"tf\"><span class=\"hb\"><span  class=\"hl hlup\" >גַּם־</span></span></td><td class=\"tf\"><span class=\"hb\"><span  class=\"hl hlup\" >אֲחִ֖י </span></span></td><td class=\"tf\"><span class=\"hb\"><span  class=\"hl hlup\" >אֲבִי֙ </span><span  class=\"hlup\" >כָּל־</span><span  class=\"hlup\" >בְּנֵי־</span><span  class=\"hlup\" >עֵ֔בֶר </span></span></td><td class=\"tf\"><span class=\"hb\"><span  class=\"hl hlup\" >אֲבִי֙ </span></span></td></tr>\n",
       "<tr class=\"tf\"><td class=\"tf\">9</td><td class=\"tf\"> <a href=\"https://shebanq.ancient-data.org/hebrew/text?book=Genesis&amp;chapter=10&amp;verse=21&amp;version=2017&amp;mr=m&amp;qw=q&amp;tp=txt_p&amp;tr=hb&amp;wget=v&amp;qget=v&amp;nget=vt\" title=\"show this passage in SHEBANQ\" sec=\"Genesis 10:21\">Genesis 10:21</a></td><td class=\"tf\"><span class=\"hb\"><a class=\"vn\" href=\"https://shebanq.ancient-data.org/hebrew/text?book=Genesis&amp;chapter=10&amp;verse=21&amp;version=2017&amp;mr=m&amp;qw=q&amp;tp=txt_p&amp;tr=hb&amp;wget=v&amp;qget=v&amp;nget=vt\" title=\"Genesis 10:21\" sec=\"Genesis 10:21\"></a>וּלְשֵׁ֥ם יֻלַּ֖ד <span  class=\"hl hlup\" >גַּם־</span><span  class=\"hlup\" >ה֑וּא </span><span  class=\"hlup\" >אֲבִי֙ </span><span  class=\"hl hlup\" >כָּל־</span><span  class=\"hlup\" >בְּנֵי־</span><span  class=\"hlup\" >עֵ֔בֶר </span><span  class=\"hl hlup\" >אֲחִ֖י </span><span  class=\"hlup\" >יֶ֥פֶת </span><span  class=\"hlup\" >הַ</span><span  class=\"hlup\" >גָּדֹֽול׃ </span></span></td><td class=\"tf\"><span class=\"hb\"><span  class=\"hl hlup\" >גַּם־</span><span  class=\"hlup\" >ה֑וּא </span><span  class=\"hlup\" >אֲבִי֙ </span><span  class=\"hl hlup\" >כָּל־</span><span  class=\"hlup\" >בְּנֵי־</span><span  class=\"hlup\" >עֵ֔בֶר </span><span  class=\"hl hlup\" >אֲחִ֖י </span><span  class=\"hlup\" >יֶ֥פֶת </span><span  class=\"hlup\" >הַ</span><span  class=\"hlup\" >גָּדֹֽול׃ </span></span></td><td class=\"tf\"><span class=\"hb\"><span  class=\"hl hlup\" >גַּם־</span><span  class=\"hlup\" >ה֑וּא </span><span  class=\"hl hlup\" >אֲחִ֖י </span><span  class=\"hlup\" >יֶ֥פֶת </span><span  class=\"hlup\" >הַ</span><span  class=\"hlup\" >גָּדֹֽול׃ </span></span></td><td class=\"tf\"><span class=\"hb\"><span  class=\"hl hlup\" >גַּם־</span></span></td><td class=\"tf\"><span class=\"hb\"><span  class=\"hl hlup\" >אֲחִ֖י </span></span></td><td class=\"tf\"><span class=\"hb\"><span  class=\"hlup\" >אֲבִי֙ </span><span  class=\"hl hlup\" >כָּל־</span><span  class=\"hlup\" >בְּנֵי־</span><span  class=\"hlup\" >עֵ֔בֶר </span></span></td><td class=\"tf\"><span class=\"hb\"><span  class=\"hl hlup\" >כָּל־</span></span></td></tr>\n",
       "<tr class=\"tf\"><td class=\"tf\">10</td><td class=\"tf\"> <a href=\"https://shebanq.ancient-data.org/hebrew/text?book=Genesis&amp;chapter=10&amp;verse=21&amp;version=2017&amp;mr=m&amp;qw=q&amp;tp=txt_p&amp;tr=hb&amp;wget=v&amp;qget=v&amp;nget=vt\" title=\"show this passage in SHEBANQ\" sec=\"Genesis 10:21\">Genesis 10:21</a></td><td class=\"tf\"><span class=\"hb\"><a class=\"vn\" href=\"https://shebanq.ancient-data.org/hebrew/text?book=Genesis&amp;chapter=10&amp;verse=21&amp;version=2017&amp;mr=m&amp;qw=q&amp;tp=txt_p&amp;tr=hb&amp;wget=v&amp;qget=v&amp;nget=vt\" title=\"Genesis 10:21\" sec=\"Genesis 10:21\"></a>וּלְשֵׁ֥ם יֻלַּ֖ד <span  class=\"hl hlup\" >גַּם־</span><span  class=\"hlup\" >ה֑וּא </span><span  class=\"hlup\" >אֲבִי֙ </span><span  class=\"hlup\" >כָּל־</span><span  class=\"hl hlup\" >בְּנֵי־</span><span  class=\"hlup\" >עֵ֔בֶר </span><span  class=\"hl hlup\" >אֲחִ֖י </span><span  class=\"hlup\" >יֶ֥פֶת </span><span  class=\"hlup\" >הַ</span><span  class=\"hlup\" >גָּדֹֽול׃ </span></span></td><td class=\"tf\"><span class=\"hb\"><span  class=\"hl hlup\" >גַּם־</span><span  class=\"hlup\" >ה֑וּא </span><span  class=\"hlup\" >אֲבִי֙ </span><span  class=\"hlup\" >כָּל־</span><span  class=\"hl hlup\" >בְּנֵי־</span><span  class=\"hlup\" >עֵ֔בֶר </span><span  class=\"hl hlup\" >אֲחִ֖י </span><span  class=\"hlup\" >יֶ֥פֶת </span><span  class=\"hlup\" >הַ</span><span  class=\"hlup\" >גָּדֹֽול׃ </span></span></td><td class=\"tf\"><span class=\"hb\"><span  class=\"hl hlup\" >גַּם־</span><span  class=\"hlup\" >ה֑וּא </span><span  class=\"hl hlup\" >אֲחִ֖י </span><span  class=\"hlup\" >יֶ֥פֶת </span><span  class=\"hlup\" >הַ</span><span  class=\"hlup\" >גָּדֹֽול׃ </span></span></td><td class=\"tf\"><span class=\"hb\"><span  class=\"hl hlup\" >גַּם־</span></span></td><td class=\"tf\"><span class=\"hb\"><span  class=\"hl hlup\" >אֲחִ֖י </span></span></td><td class=\"tf\"><span class=\"hb\"><span  class=\"hlup\" >אֲבִי֙ </span><span  class=\"hlup\" >כָּל־</span><span  class=\"hl hlup\" >בְּנֵי־</span><span  class=\"hlup\" >עֵ֔בֶר </span></span></td><td class=\"tf\"><span class=\"hb\"><span  class=\"hl hlup\" >בְּנֵי־</span></span></td></tr></table>"
      ],
      "text/plain": [
       "<IPython.core.display.HTML object>"
      ]
     },
     "metadata": {},
     "output_type": "display_data"
    }
   ],
   "source": [
    "A.table(S.fetch(limit=10))"
   ]
  },
  {
   "cell_type": "markdown",
   "metadata": {},
   "source": [
    "## Hand-coding\n",
    "\n",
    "As a check, here is some code that looks for basically the same phenomenon:\n",
    "a phrase within the gap of another phrase.\n",
    "It does not use search, and it gets a bit more focused results, in half the time compared\n",
    "to the search with the template.\n",
    "\n",
    "> **Hint**\n",
    "If you are comfortable with programming, and what you look for is fairly generic,\n",
    "you may be better off without search, provided you can translate your insight in the\n",
    "data into an effective procedure within Text-Fabric.\n",
    "But wait till we are completely done with this example!"
   ]
  },
  {
   "cell_type": "code",
   "execution_count": 23,
   "metadata": {
    "ExecuteTime": {
     "end_time": "2018-05-24T08:54:13.108437Z",
     "start_time": "2018-05-24T08:54:10.074685Z"
    }
   },
   "outputs": [
    {
     "name": "stdout",
     "output_type": "stream",
     "text": [
      "  0.00s Getting gapped phrases\n",
      "  2.14s 368 results\n"
     ]
    }
   ],
   "source": [
    "indent(reset=True)\n",
    "info('Getting gapped phrases')\n",
    "results = []\n",
    "for v in F.otype.s('verse'):\n",
    "    for c in L.d(v, otype='clause'):\n",
    "        ps = L.d(c, otype='phrase')\n",
    "        first = {}\n",
    "        last = {}\n",
    "        slots = {}\n",
    "        # make index of phrase boundaries\n",
    "        for p in ps:\n",
    "            words = L.d(p, otype='word')\n",
    "            first[p] = words[0]\n",
    "            last[p] = words[-1]\n",
    "            slots[p] = set(words)\n",
    "        for p1 in ps:\n",
    "            for p2 in ps:\n",
    "                if p2 < p1: continue\n",
    "                if len(slots[p1] & slots[p2]) != 0: continue\n",
    "                if first[p1] < first[p2] and last[p2] < last[p1]:\n",
    "                    results.append((v, c, p1, p2, first[p1], first[p2], last[p2], last[p1]))\n",
    "info('{} results'.format(len(results)))"
   ]
  },
  {
   "cell_type": "markdown",
   "metadata": {},
   "source": [
    "## Pretty printing\n",
    "\n",
    "We can use the pretty printing of `A.table()` and `A.show()` here as well, even though we have\n",
    "not used search!\n",
    "\n",
    "Not that you can show the node numbers. In this case it helps to see where the gaps are."
   ]
  },
  {
   "cell_type": "code",
   "execution_count": 24,
   "metadata": {
    "ExecuteTime": {
     "end_time": "2018-05-24T08:54:34.120441Z",
     "start_time": "2018-05-24T08:54:34.112139Z"
    }
   },
   "outputs": [
    {
     "data": {
      "text/html": [
       "<table>\n",
       "<tr class=\"tf\">\n",
       "  <th class=\"tf\">n</th><th class=\"tf\">p</th>\n",
       "  <th class=\"tf\">verse</th><th>clause</th><th>phrase</th><th>phrase</th><th>word</th><th>word</th><th>word</th><th>word</th>\n",
       "</tr>\n",
       "\n",
       "<tr class=\"tf\"><td class=\"tf\">1</td><td class=\"tf\"> <a href=\"https://shebanq.ancient-data.org/hebrew/text?book=Genesis&amp;chapter=2&amp;verse=25&amp;version=2017&amp;mr=m&amp;qw=q&amp;tp=txt_p&amp;tr=hb&amp;wget=v&amp;qget=v&amp;nget=vt\" title=\"show this passage in SHEBANQ\" sec=\"Genesis 2:25\">Genesis 2:25</a></td><td class=\"tf\"><span class=\"hb\"><a class=\"vn\" href=\"https://shebanq.ancient-data.org/hebrew/text?book=Genesis&amp;chapter=2&amp;verse=25&amp;version=2017&amp;mr=m&amp;qw=q&amp;tp=txt_p&amp;tr=hb&amp;wget=v&amp;qget=v&amp;nget=vt\" title=\"Genesis 2:25\" sec=\"Genesis 2:25\"></a><span  class=\"hlup\" >וַ</span><span  class=\"hlup\" >יִּֽהְי֤וּ </span><span  class=\"hl hlup\" >שְׁנֵיהֶם֙ </span><span  class=\"hl hlup\" >עֲרוּמִּ֔ים </span><span  class=\"hlup\" >הָֽ</span><span  class=\"hlup\" >אָדָ֖ם </span><span  class=\"hlup\" >וְ</span><span  class=\"hl hlup\" >אִשְׁתֹּ֑ו </span>וְלֹ֖א יִתְבֹּשָֽׁשׁוּ׃ </span> <i>1414245</i> </td><td class=\"tf\"><span class=\"hb\"><span  class=\"hlup\" >וַ</span><span  class=\"hlup\" >יִּֽהְי֤וּ </span><span  class=\"hl hlup\" >שְׁנֵיהֶם֙ </span><span  class=\"hl hlup\" >עֲרוּמִּ֔ים </span><span  class=\"hlup\" >הָֽ</span><span  class=\"hlup\" >אָדָ֖ם </span><span  class=\"hlup\" >וְ</span><span  class=\"hl hlup\" >אִשְׁתֹּ֑ו </span></span> <i>427767</i> </td><td class=\"tf\"><span class=\"hb\"><span  class=\"hl hlup\" >שְׁנֵיהֶם֙ </span><span  class=\"hlup\" >הָֽ</span><span  class=\"hlup\" >אָדָ֖ם </span><span  class=\"hlup\" >וְ</span><span  class=\"hl hlup\" >אִשְׁתֹּ֑ו </span></span> <i>652147</i> </td><td class=\"tf\"><span class=\"hb\"><span  class=\"hl hlup\" >עֲרוּמִּ֔ים </span></span> <i>652148</i> </td><td class=\"tf\"><span class=\"hb\"><span  class=\"hl hlup\" >שְׁנֵיהֶם֙ </span></span> <i>1159</i> </td><td class=\"tf\"><span class=\"hb\"><span  class=\"hl hlup\" >עֲרוּמִּ֔ים </span></span> <i>1160</i> </td><td class=\"tf\"><span class=\"hb\"><span  class=\"hl hlup\" >עֲרוּמִּ֔ים </span></span> <i>1160</i> </td><td class=\"tf\"><span class=\"hb\"><span  class=\"hl hlup\" >אִשְׁתֹּ֑ו </span></span> <i>1164</i> </td></tr>\n",
       "<tr class=\"tf\"><td class=\"tf\">2</td><td class=\"tf\"> <a href=\"https://shebanq.ancient-data.org/hebrew/text?book=Genesis&amp;chapter=4&amp;verse=4&amp;version=2017&amp;mr=m&amp;qw=q&amp;tp=txt_p&amp;tr=hb&amp;wget=v&amp;qget=v&amp;nget=vt\" title=\"show this passage in SHEBANQ\" sec=\"Genesis 4:4\">Genesis 4:4</a></td><td class=\"tf\"><span class=\"hb\"><a class=\"vn\" href=\"https://shebanq.ancient-data.org/hebrew/text?book=Genesis&amp;chapter=4&amp;verse=4&amp;version=2017&amp;mr=m&amp;qw=q&amp;tp=txt_p&amp;tr=hb&amp;wget=v&amp;qget=v&amp;nget=vt\" title=\"Genesis 4:4\" sec=\"Genesis 4:4\"></a><span  class=\"hlup\" >וְ</span><span  class=\"hl hlup\" >הֶ֨בֶל </span><span  class=\"hl hlup\" >הֵבִ֥יא </span><span  class=\"hlup\" >גַם־</span><span  class=\"hl hlup\" >ה֛וּא </span><span  class=\"hlup\" >מִ</span><span  class=\"hlup\" >בְּכֹרֹ֥ות </span><span  class=\"hlup\" >צֹאנֹ֖ו </span><span  class=\"hlup\" >וּ</span><span  class=\"hlup\" >מֵֽ</span><span  class=\"hlup\" >חֶלְבֵהֶ֑ן </span>וַיִּ֣שַׁע יְהוָ֔ה אֶל־הֶ֖בֶל וְאֶל־מִנְחָתֹֽו׃ </span> <i>1414273</i> </td><td class=\"tf\"><span class=\"hb\"><span  class=\"hlup\" >וְ</span><span  class=\"hl hlup\" >הֶ֨בֶל </span><span  class=\"hl hlup\" >הֵבִ֥יא </span><span  class=\"hlup\" >גַם־</span><span  class=\"hl hlup\" >ה֛וּא </span><span  class=\"hlup\" >מִ</span><span  class=\"hlup\" >בְּכֹרֹ֥ות </span><span  class=\"hlup\" >צֹאנֹ֖ו </span><span  class=\"hlup\" >וּ</span><span  class=\"hlup\" >מֵֽ</span><span  class=\"hlup\" >חֶלְבֵהֶ֑ן </span></span> <i>427889</i> </td><td class=\"tf\"><span class=\"hb\"><span  class=\"hl hlup\" >הֶ֨בֶל </span><span  class=\"hlup\" >גַם־</span><span  class=\"hl hlup\" >ה֛וּא </span></span> <i>652504</i> </td><td class=\"tf\"><span class=\"hb\"><span  class=\"hl hlup\" >הֵבִ֥יא </span></span> <i>652505</i> </td><td class=\"tf\"><span class=\"hb\"><span  class=\"hl hlup\" >הֶ֨בֶל </span></span> <i>1720</i> </td><td class=\"tf\"><span class=\"hb\"><span  class=\"hl hlup\" >הֵבִ֥יא </span></span> <i>1721</i> </td><td class=\"tf\"><span class=\"hb\"><span  class=\"hl hlup\" >הֵבִ֥יא </span></span> <i>1721</i> </td><td class=\"tf\"><span class=\"hb\"><span  class=\"hl hlup\" >ה֛וּא </span></span> <i>1723</i> </td></tr>\n",
       "<tr class=\"tf\"><td class=\"tf\">3</td><td class=\"tf\"> <a href=\"https://shebanq.ancient-data.org/hebrew/text?book=Genesis&amp;chapter=10&amp;verse=21&amp;version=2017&amp;mr=m&amp;qw=q&amp;tp=txt_p&amp;tr=hb&amp;wget=v&amp;qget=v&amp;nget=vt\" title=\"show this passage in SHEBANQ\" sec=\"Genesis 10:21\">Genesis 10:21</a></td><td class=\"tf\"><span class=\"hb\"><a class=\"vn\" href=\"https://shebanq.ancient-data.org/hebrew/text?book=Genesis&amp;chapter=10&amp;verse=21&amp;version=2017&amp;mr=m&amp;qw=q&amp;tp=txt_p&amp;tr=hb&amp;wget=v&amp;qget=v&amp;nget=vt\" title=\"Genesis 10:21\" sec=\"Genesis 10:21\"></a>וּלְשֵׁ֥ם יֻלַּ֖ד <span  class=\"hl hlup\" >גַּם־</span><span  class=\"hlup\" >ה֑וּא </span><span  class=\"hl hlup\" >אֲבִי֙ </span><span  class=\"hlup\" >כָּל־</span><span  class=\"hlup\" >בְּנֵי־</span><span  class=\"hl hlup\" >עֵ֔בֶר </span><span  class=\"hlup\" >אֲחִ֖י </span><span  class=\"hlup\" >יֶ֥פֶת </span><span  class=\"hlup\" >הַ</span><span  class=\"hl hlup\" >גָּדֹֽול׃ </span></span> <i>1414445</i> </td><td class=\"tf\"><span class=\"hb\"><span  class=\"hl hlup\" >גַּם־</span><span  class=\"hlup\" >ה֑וּא </span><span  class=\"hl hlup\" >אֲבִי֙ </span><span  class=\"hlup\" >כָּל־</span><span  class=\"hlup\" >בְּנֵי־</span><span  class=\"hl hlup\" >עֵ֔בֶר </span><span  class=\"hlup\" >אֲחִ֖י </span><span  class=\"hlup\" >יֶ֥פֶת </span><span  class=\"hlup\" >הַ</span><span  class=\"hl hlup\" >גָּדֹֽול׃ </span></span> <i>428386</i> </td><td class=\"tf\"><span class=\"hb\"><span  class=\"hl hlup\" >גַּם־</span><span  class=\"hlup\" >ה֑וּא </span><span  class=\"hlup\" >אֲחִ֖י </span><span  class=\"hlup\" >יֶ֥פֶת </span><span  class=\"hlup\" >הַ</span><span  class=\"hl hlup\" >גָּדֹֽול׃ </span></span> <i>654102</i> </td><td class=\"tf\"><span class=\"hb\"><span  class=\"hl hlup\" >אֲבִי֙ </span><span  class=\"hlup\" >כָּל־</span><span  class=\"hlup\" >בְּנֵי־</span><span  class=\"hl hlup\" >עֵ֔בֶר </span></span> <i>654103</i> </td><td class=\"tf\"><span class=\"hb\"><span  class=\"hl hlup\" >גַּם־</span></span> <i>4819</i> </td><td class=\"tf\"><span class=\"hb\"><span  class=\"hl hlup\" >אֲבִי֙ </span></span> <i>4821</i> </td><td class=\"tf\"><span class=\"hb\"><span  class=\"hl hlup\" >עֵ֔בֶר </span></span> <i>4824</i> </td><td class=\"tf\"><span class=\"hb\"><span  class=\"hl hlup\" >גָּדֹֽול׃ </span></span> <i>4828</i> </td></tr>\n",
       "<tr class=\"tf\"><td class=\"tf\">4</td><td class=\"tf\"> <a href=\"https://shebanq.ancient-data.org/hebrew/text?book=Genesis&amp;chapter=12&amp;verse=17&amp;version=2017&amp;mr=m&amp;qw=q&amp;tp=txt_p&amp;tr=hb&amp;wget=v&amp;qget=v&amp;nget=vt\" title=\"show this passage in SHEBANQ\" sec=\"Genesis 12:17\">Genesis 12:17</a></td><td class=\"tf\"><span class=\"hb\"><a class=\"vn\" href=\"https://shebanq.ancient-data.org/hebrew/text?book=Genesis&amp;chapter=12&amp;verse=17&amp;version=2017&amp;mr=m&amp;qw=q&amp;tp=txt_p&amp;tr=hb&amp;wget=v&amp;qget=v&amp;nget=vt\" title=\"Genesis 12:17\" sec=\"Genesis 12:17\"><span  class=\"hlup\" ></span></a><span  class=\"hlup\" >וַ</span><span  class=\"hlup\" >יְנַגַּ֨ע </span><span  class=\"hlup\" >יְהוָ֧ה׀ </span><span  class=\"hl hlup\" >אֶת־</span><span  class=\"hlup\" >פַּרְעֹ֛ה </span><span  class=\"hl hlup\" >נְגָעִ֥ים </span><span  class=\"hl hlup\" >גְּדֹלִ֖ים </span><span  class=\"hlup\" >וְ</span><span  class=\"hlup\" >אֶת־</span><span  class=\"hl hlup\" >בֵּיתֹ֑ו </span><span  class=\"hlup\" >עַל־</span><span  class=\"hlup\" >דְּבַ֥ר </span><span  class=\"hlup\" >שָׂרַ֖י </span><span  class=\"hlup\" >אֵ֥שֶׁת </span><span  class=\"hlup\" >אַבְרָֽם׃ </span></span> <i>1414505</i> </td><td class=\"tf\"><span class=\"hb\"><span  class=\"hlup\" >וַ</span><span  class=\"hlup\" >יְנַגַּ֨ע </span><span  class=\"hlup\" >יְהוָ֧ה׀ </span><span  class=\"hl hlup\" >אֶת־</span><span  class=\"hlup\" >פַּרְעֹ֛ה </span><span  class=\"hl hlup\" >נְגָעִ֥ים </span><span  class=\"hl hlup\" >גְּדֹלִ֖ים </span><span  class=\"hlup\" >וְ</span><span  class=\"hlup\" >אֶת־</span><span  class=\"hl hlup\" >בֵּיתֹ֑ו </span><span  class=\"hlup\" >עַל־</span><span  class=\"hlup\" >דְּבַ֥ר </span><span  class=\"hlup\" >שָׂרַ֖י </span><span  class=\"hlup\" >אֵ֥שֶׁת </span><span  class=\"hlup\" >אַבְרָֽם׃ </span></span> <i>428569</i> </td><td class=\"tf\"><span class=\"hb\"><span  class=\"hl hlup\" >אֶת־</span><span  class=\"hlup\" >פַּרְעֹ֛ה </span><span  class=\"hlup\" >וְ</span><span  class=\"hlup\" >אֶת־</span><span  class=\"hl hlup\" >בֵּיתֹ֑ו </span></span> <i>654678</i> </td><td class=\"tf\"><span class=\"hb\"><span  class=\"hl hlup\" >נְגָעִ֥ים </span><span  class=\"hl hlup\" >גְּדֹלִ֖ים </span></span> <i>654679</i> </td><td class=\"tf\"><span class=\"hb\"><span  class=\"hl hlup\" >אֶת־</span></span> <i>5803</i> </td><td class=\"tf\"><span class=\"hb\"><span  class=\"hl hlup\" >נְגָעִ֥ים </span></span> <i>5805</i> </td><td class=\"tf\"><span class=\"hb\"><span  class=\"hl hlup\" >גְּדֹלִ֖ים </span></span> <i>5806</i> </td><td class=\"tf\"><span class=\"hb\"><span  class=\"hl hlup\" >בֵּיתֹ֑ו </span></span> <i>5809</i> </td></tr>\n",
       "<tr class=\"tf\"><td class=\"tf\">5</td><td class=\"tf\"> <a href=\"https://shebanq.ancient-data.org/hebrew/text?book=Genesis&amp;chapter=13&amp;verse=1&amp;version=2017&amp;mr=m&amp;qw=q&amp;tp=txt_p&amp;tr=hb&amp;wget=v&amp;qget=v&amp;nget=vt\" title=\"show this passage in SHEBANQ\" sec=\"Genesis 13:1\">Genesis 13:1</a></td><td class=\"tf\"><span class=\"hb\"><a class=\"vn\" href=\"https://shebanq.ancient-data.org/hebrew/text?book=Genesis&amp;chapter=13&amp;verse=1&amp;version=2017&amp;mr=m&amp;qw=q&amp;tp=txt_p&amp;tr=hb&amp;wget=v&amp;qget=v&amp;nget=vt\" title=\"Genesis 13:1\" sec=\"Genesis 13:1\"></a><span  class=\"hlup\" >וַ</span><span  class=\"hlup\" >יַּעַל֩ </span><span  class=\"hl hlup\" >אַבְרָ֨ם </span><span  class=\"hl hlup\" >מִ</span><span  class=\"hl hlup\" >מִּצְרַ֜יִם </span><span  class=\"hlup\" >ה֠וּא </span><span  class=\"hlup\" >וְ</span><span  class=\"hlup\" >אִשְׁתֹּ֧ו </span><span  class=\"hlup\" >וְ</span><span  class=\"hl hlup\" >כָל־</span>אֲשֶׁר־לֹ֛ו וְלֹ֥וט עִמֹּ֖ו <span  class=\"hlup\" >הַ</span><span  class=\"hlup\" >נֶּֽגְבָּה׃ </span></span> <i>1414509</i> </td><td class=\"tf\"><span class=\"hb\"><span  class=\"hlup\" >וַ</span><span  class=\"hlup\" >יַּעַל֩ </span><span  class=\"hl hlup\" >אַבְרָ֨ם </span><span  class=\"hl hlup\" >מִ</span><span  class=\"hl hlup\" >מִּצְרַ֜יִם </span><span  class=\"hlup\" >ה֠וּא </span><span  class=\"hlup\" >וְ</span><span  class=\"hlup\" >אִשְׁתֹּ֧ו </span><span  class=\"hlup\" >וְ</span><span  class=\"hl hlup\" >כָל־</span><span  class=\"hlup\" >הַ</span><span  class=\"hlup\" >נֶּֽגְבָּה׃ </span></span> <i>428585</i> </td><td class=\"tf\"><span class=\"hb\"><span  class=\"hl hlup\" >אַבְרָ֨ם </span><span  class=\"hlup\" >ה֠וּא </span><span  class=\"hlup\" >וְ</span><span  class=\"hlup\" >אִשְׁתֹּ֧ו </span><span  class=\"hlup\" >וְ</span><span  class=\"hl hlup\" >כָל־</span></span> <i>654725</i> </td><td class=\"tf\"><span class=\"hb\"><span  class=\"hl hlup\" >מִ</span><span  class=\"hl hlup\" >מִּצְרַ֜יִם </span></span> <i>654726</i> </td><td class=\"tf\"><span class=\"hb\"><span  class=\"hl hlup\" >אַבְרָ֨ם </span></span> <i>5868</i> </td><td class=\"tf\"><span class=\"hb\"><span  class=\"hl hlup\" >מִ</span></span> <i>5869</i> </td><td class=\"tf\"><span class=\"hb\"><span  class=\"hl hlup\" >מִּצְרַ֜יִם </span></span> <i>5870</i> </td><td class=\"tf\"><span class=\"hb\"><span  class=\"hl hlup\" >כָל־</span></span> <i>5875</i> </td></tr>\n",
       "<tr class=\"tf\"><td class=\"tf\">6</td><td class=\"tf\"> <a href=\"https://shebanq.ancient-data.org/hebrew/text?book=Genesis&amp;chapter=14&amp;verse=16&amp;version=2017&amp;mr=m&amp;qw=q&amp;tp=txt_p&amp;tr=hb&amp;wget=v&amp;qget=v&amp;nget=vt\" title=\"show this passage in SHEBANQ\" sec=\"Genesis 14:16\">Genesis 14:16</a></td><td class=\"tf\"><span class=\"hb\"><a class=\"vn\" href=\"https://shebanq.ancient-data.org/hebrew/text?book=Genesis&amp;chapter=14&amp;verse=16&amp;version=2017&amp;mr=m&amp;qw=q&amp;tp=txt_p&amp;tr=hb&amp;wget=v&amp;qget=v&amp;nget=vt\" title=\"Genesis 14:16\" sec=\"Genesis 14:16\"></a>וַיָּ֕שֶׁב אֵ֖ת כָּל־הָרְכֻ֑שׁ <span  class=\"hlup\" >וְ</span><span  class=\"hl hlup\" >גַם֩ </span><span  class=\"hlup\" >אֶת־</span><span  class=\"hlup\" >לֹ֨וט </span><span  class=\"hlup\" >אָחִ֤יו </span><span  class=\"hlup\" >וּ</span><span  class=\"hlup\" >רְכֻשֹׁו֙ </span><span  class=\"hl hlup\" >הֵשִׁ֔יב </span><span  class=\"hlup\" >וְ</span><span  class=\"hlup\" >גַ֥ם </span><span  class=\"hlup\" >אֶת־</span><span  class=\"hlup\" >הַ</span><span  class=\"hlup\" >נָּשִׁ֖ים </span><span  class=\"hlup\" >וְ</span><span  class=\"hlup\" >אֶת־</span><span  class=\"hlup\" >הָ</span><span  class=\"hl hlup\" >עָֽם׃ </span></span> <i>1414542</i> </td><td class=\"tf\"><span class=\"hb\"><span  class=\"hlup\" >וְ</span><span  class=\"hl hlup\" >גַם֩ </span><span  class=\"hlup\" >אֶת־</span><span  class=\"hlup\" >לֹ֨וט </span><span  class=\"hlup\" >אָחִ֤יו </span><span  class=\"hlup\" >וּ</span><span  class=\"hlup\" >רְכֻשֹׁו֙ </span><span  class=\"hl hlup\" >הֵשִׁ֔יב </span><span  class=\"hlup\" >וְ</span><span  class=\"hlup\" >גַ֥ם </span><span  class=\"hlup\" >אֶת־</span><span  class=\"hlup\" >הַ</span><span  class=\"hlup\" >נָּשִׁ֖ים </span><span  class=\"hlup\" >וְ</span><span  class=\"hlup\" >אֶת־</span><span  class=\"hlup\" >הָ</span><span  class=\"hl hlup\" >עָֽם׃ </span></span> <i>428692</i> </td><td class=\"tf\"><span class=\"hb\"><span  class=\"hl hlup\" >גַם֩ </span><span  class=\"hlup\" >אֶת־</span><span  class=\"hlup\" >לֹ֨וט </span><span  class=\"hlup\" >אָחִ֤יו </span><span  class=\"hlup\" >וּ</span><span  class=\"hlup\" >רְכֻשֹׁו֙ </span><span  class=\"hlup\" >וְ</span><span  class=\"hlup\" >גַ֥ם </span><span  class=\"hlup\" >אֶת־</span><span  class=\"hlup\" >הַ</span><span  class=\"hlup\" >נָּשִׁ֖ים </span><span  class=\"hlup\" >וְ</span><span  class=\"hlup\" >אֶת־</span><span  class=\"hlup\" >הָ</span><span  class=\"hl hlup\" >עָֽם׃ </span></span> <i>655061</i> </td><td class=\"tf\"><span class=\"hb\"><span  class=\"hl hlup\" >הֵשִׁ֔יב </span></span> <i>655062</i> </td><td class=\"tf\"><span class=\"hb\"><span  class=\"hl hlup\" >גַם֩ </span></span> <i>6515</i> </td><td class=\"tf\"><span class=\"hb\"><span  class=\"hl hlup\" >הֵשִׁ֔יב </span></span> <i>6521</i> </td><td class=\"tf\"><span class=\"hb\"><span  class=\"hl hlup\" >הֵשִׁ֔יב </span></span> <i>6521</i> </td><td class=\"tf\"><span class=\"hb\"><span  class=\"hl hlup\" >עָֽם׃ </span></span> <i>6530</i> </td></tr>\n",
       "<tr class=\"tf\"><td class=\"tf\">7</td><td class=\"tf\"> <a href=\"https://shebanq.ancient-data.org/hebrew/text?book=Genesis&amp;chapter=17&amp;verse=7&amp;version=2017&amp;mr=m&amp;qw=q&amp;tp=txt_p&amp;tr=hb&amp;wget=v&amp;qget=v&amp;nget=vt\" title=\"show this passage in SHEBANQ\" sec=\"Genesis 17:7\">Genesis 17:7</a></td><td class=\"tf\"><span class=\"hb\"><a class=\"vn\" href=\"https://shebanq.ancient-data.org/hebrew/text?book=Genesis&amp;chapter=17&amp;verse=7&amp;version=2017&amp;mr=m&amp;qw=q&amp;tp=txt_p&amp;tr=hb&amp;wget=v&amp;qget=v&amp;nget=vt\" title=\"Genesis 17:7\" sec=\"Genesis 17:7\"></a>וַהֲקִמֹתִ֨י אֶת־בְּרִיתִ֜י בֵּינִ֣י וּבֵינֶ֗ךָ וּבֵ֨ין זַרְעֲךָ֧ אַחֲרֶ֛יךָ לְדֹרֹתָ֖ם לִבְרִ֣ית עֹולָ֑ם <span  class=\"hlup\" >לִ</span><span  class=\"hlup\" >הְיֹ֤ות </span><span  class=\"hl hlup\" >לְךָ֙ </span><span  class=\"hl hlup\" >לֵֽ</span><span  class=\"hl hlup\" >אלֹהִ֔ים </span><span  class=\"hlup\" >וּֽ</span><span  class=\"hlup\" >לְ</span><span  class=\"hlup\" >זַרְעֲךָ֖ </span><span  class=\"hl hlup\" >אַחֲרֶֽיךָ׃ </span></span> <i>1414594</i> </td><td class=\"tf\"><span class=\"hb\"><span  class=\"hlup\" >לִ</span><span  class=\"hlup\" >הְיֹ֤ות </span><span  class=\"hl hlup\" >לְךָ֙ </span><span  class=\"hl hlup\" >לֵֽ</span><span  class=\"hl hlup\" >אלֹהִ֔ים </span><span  class=\"hlup\" >וּֽ</span><span  class=\"hlup\" >לְ</span><span  class=\"hlup\" >זַרְעֲךָ֖ </span><span  class=\"hl hlup\" >אַחֲרֶֽיךָ׃ </span></span> <i>428886</i> </td><td class=\"tf\"><span class=\"hb\"><span  class=\"hl hlup\" >לְךָ֙ </span><span  class=\"hlup\" >וּֽ</span><span  class=\"hlup\" >לְ</span><span  class=\"hlup\" >זַרְעֲךָ֖ </span><span  class=\"hl hlup\" >אַחֲרֶֽיךָ׃ </span></span> <i>655642</i> </td><td class=\"tf\"><span class=\"hb\"><span  class=\"hl hlup\" >לֵֽ</span><span  class=\"hl hlup\" >אלֹהִ֔ים </span></span> <i>655643</i> </td><td class=\"tf\"><span class=\"hb\"><span  class=\"hl hlup\" >לְךָ֙ </span></span> <i>7431</i> </td><td class=\"tf\"><span class=\"hb\"><span  class=\"hl hlup\" >לֵֽ</span></span> <i>7432</i> </td><td class=\"tf\"><span class=\"hb\"><span  class=\"hl hlup\" >אלֹהִ֔ים </span></span> <i>7433</i> </td><td class=\"tf\"><span class=\"hb\"><span  class=\"hl hlup\" >אַחֲרֶֽיךָ׃ </span></span> <i>7437</i> </td></tr>\n",
       "<tr class=\"tf\"><td class=\"tf\">8</td><td class=\"tf\"> <a href=\"https://shebanq.ancient-data.org/hebrew/text?book=Genesis&amp;chapter=19&amp;verse=4&amp;version=2017&amp;mr=m&amp;qw=q&amp;tp=txt_p&amp;tr=hb&amp;wget=v&amp;qget=v&amp;nget=vt\" title=\"show this passage in SHEBANQ\" sec=\"Genesis 19:4\">Genesis 19:4</a></td><td class=\"tf\"><span class=\"hb\"><a class=\"vn\" href=\"https://shebanq.ancient-data.org/hebrew/text?book=Genesis&amp;chapter=19&amp;verse=4&amp;version=2017&amp;mr=m&amp;qw=q&amp;tp=txt_p&amp;tr=hb&amp;wget=v&amp;qget=v&amp;nget=vt\" title=\"Genesis 19:4\" sec=\"Genesis 19:4\"></a>טֶרֶם֮ יִשְׁכָּבוּ֒ <span  class=\"hlup\" >וְ</span><span  class=\"hl hlup\" >אַנְשֵׁ֨י </span><span  class=\"hlup\" >הָ</span><span  class=\"hlup\" >עִ֜יר </span><span  class=\"hlup\" >אַנְשֵׁ֤י </span><span  class=\"hlup\" >סְדֹם֙ </span><span  class=\"hl hlup\" >נָסַ֣בּוּ </span><span  class=\"hlup\" >עַל־</span><span  class=\"hlup\" >הַ</span><span  class=\"hlup\" >בַּ֔יִת </span><span  class=\"hlup\" >מִ</span><span  class=\"hlup\" >נַּ֖עַר </span><span  class=\"hlup\" >וְ</span><span  class=\"hlup\" >עַד־</span><span  class=\"hlup\" >זָקֵ֑ן </span><span  class=\"hlup\" >כָּל־</span><span  class=\"hlup\" >הָ</span><span  class=\"hlup\" >עָ֖ם </span><span  class=\"hlup\" >מִ</span><span  class=\"hl hlup\" >קָּצֶֽה׃ </span></span> <i>1414651</i> </td><td class=\"tf\"><span class=\"hb\"><span  class=\"hlup\" >וְ</span><span  class=\"hl hlup\" >אַנְשֵׁ֨י </span><span  class=\"hlup\" >הָ</span><span  class=\"hlup\" >עִ֜יר </span><span  class=\"hlup\" >אַנְשֵׁ֤י </span><span  class=\"hlup\" >סְדֹם֙ </span><span  class=\"hl hlup\" >נָסַ֣בּוּ </span><span  class=\"hlup\" >עַל־</span><span  class=\"hlup\" >הַ</span><span  class=\"hlup\" >בַּ֔יִת </span><span  class=\"hlup\" >מִ</span><span  class=\"hlup\" >נַּ֖עַר </span><span  class=\"hlup\" >וְ</span><span  class=\"hlup\" >עַד־</span><span  class=\"hlup\" >זָקֵ֑ן </span><span  class=\"hlup\" >כָּל־</span><span  class=\"hlup\" >הָ</span><span  class=\"hlup\" >עָ֖ם </span><span  class=\"hlup\" >מִ</span><span  class=\"hl hlup\" >קָּצֶֽה׃ </span></span> <i>429128</i> </td><td class=\"tf\"><span class=\"hb\"><span  class=\"hl hlup\" >אַנְשֵׁ֨י </span><span  class=\"hlup\" >הָ</span><span  class=\"hlup\" >עִ֜יר </span><span  class=\"hlup\" >אַנְשֵׁ֤י </span><span  class=\"hlup\" >סְדֹם֙ </span><span  class=\"hlup\" >מִ</span><span  class=\"hlup\" >נַּ֖עַר </span><span  class=\"hlup\" >וְ</span><span  class=\"hlup\" >עַד־</span><span  class=\"hlup\" >זָקֵ֑ן </span><span  class=\"hlup\" >כָּל־</span><span  class=\"hlup\" >הָ</span><span  class=\"hlup\" >עָ֖ם </span><span  class=\"hlup\" >מִ</span><span  class=\"hl hlup\" >קָּצֶֽה׃ </span></span> <i>656353</i> </td><td class=\"tf\"><span class=\"hb\"><span  class=\"hl hlup\" >נָסַ֣בּוּ </span></span> <i>656354</i> </td><td class=\"tf\"><span class=\"hb\"><span  class=\"hl hlup\" >אַנְשֵׁ֨י </span></span> <i>8502</i> </td><td class=\"tf\"><span class=\"hb\"><span  class=\"hl hlup\" >נָסַ֣בּוּ </span></span> <i>8507</i> </td><td class=\"tf\"><span class=\"hb\"><span  class=\"hl hlup\" >נָסַ֣בּוּ </span></span> <i>8507</i> </td><td class=\"tf\"><span class=\"hb\"><span  class=\"hl hlup\" >קָּצֶֽה׃ </span></span> <i>8520</i> </td></tr>\n",
       "<tr class=\"tf\"><td class=\"tf\">9</td><td class=\"tf\"> <a href=\"https://shebanq.ancient-data.org/hebrew/text?book=Genesis&amp;chapter=19&amp;verse=4&amp;version=2017&amp;mr=m&amp;qw=q&amp;tp=txt_p&amp;tr=hb&amp;wget=v&amp;qget=v&amp;nget=vt\" title=\"show this passage in SHEBANQ\" sec=\"Genesis 19:4\">Genesis 19:4</a></td><td class=\"tf\"><span class=\"hb\"><a class=\"vn\" href=\"https://shebanq.ancient-data.org/hebrew/text?book=Genesis&amp;chapter=19&amp;verse=4&amp;version=2017&amp;mr=m&amp;qw=q&amp;tp=txt_p&amp;tr=hb&amp;wget=v&amp;qget=v&amp;nget=vt\" title=\"Genesis 19:4\" sec=\"Genesis 19:4\"></a>טֶרֶם֮ יִשְׁכָּבוּ֒ <span  class=\"hlup\" >וְ</span><span  class=\"hl hlup\" >אַנְשֵׁ֨י </span><span  class=\"hlup\" >הָ</span><span  class=\"hlup\" >עִ֜יר </span><span  class=\"hlup\" >אַנְשֵׁ֤י </span><span  class=\"hlup\" >סְדֹם֙ </span><span  class=\"hlup\" >נָסַ֣בּוּ </span><span  class=\"hl hlup\" >עַל־</span><span  class=\"hlup\" >הַ</span><span  class=\"hl hlup\" >בַּ֔יִת </span><span  class=\"hlup\" >מִ</span><span  class=\"hlup\" >נַּ֖עַר </span><span  class=\"hlup\" >וְ</span><span  class=\"hlup\" >עַד־</span><span  class=\"hlup\" >זָקֵ֑ן </span><span  class=\"hlup\" >כָּל־</span><span  class=\"hlup\" >הָ</span><span  class=\"hlup\" >עָ֖ם </span><span  class=\"hlup\" >מִ</span><span  class=\"hl hlup\" >קָּצֶֽה׃ </span></span> <i>1414651</i> </td><td class=\"tf\"><span class=\"hb\"><span  class=\"hlup\" >וְ</span><span  class=\"hl hlup\" >אַנְשֵׁ֨י </span><span  class=\"hlup\" >הָ</span><span  class=\"hlup\" >עִ֜יר </span><span  class=\"hlup\" >אַנְשֵׁ֤י </span><span  class=\"hlup\" >סְדֹם֙ </span><span  class=\"hlup\" >נָסַ֣בּוּ </span><span  class=\"hl hlup\" >עַל־</span><span  class=\"hlup\" >הַ</span><span  class=\"hl hlup\" >בַּ֔יִת </span><span  class=\"hlup\" >מִ</span><span  class=\"hlup\" >נַּ֖עַר </span><span  class=\"hlup\" >וְ</span><span  class=\"hlup\" >עַד־</span><span  class=\"hlup\" >זָקֵ֑ן </span><span  class=\"hlup\" >כָּל־</span><span  class=\"hlup\" >הָ</span><span  class=\"hlup\" >עָ֖ם </span><span  class=\"hlup\" >מִ</span><span  class=\"hl hlup\" >קָּצֶֽה׃ </span></span> <i>429128</i> </td><td class=\"tf\"><span class=\"hb\"><span  class=\"hl hlup\" >אַנְשֵׁ֨י </span><span  class=\"hlup\" >הָ</span><span  class=\"hlup\" >עִ֜יר </span><span  class=\"hlup\" >אַנְשֵׁ֤י </span><span  class=\"hlup\" >סְדֹם֙ </span><span  class=\"hlup\" >מִ</span><span  class=\"hlup\" >נַּ֖עַר </span><span  class=\"hlup\" >וְ</span><span  class=\"hlup\" >עַד־</span><span  class=\"hlup\" >זָקֵ֑ן </span><span  class=\"hlup\" >כָּל־</span><span  class=\"hlup\" >הָ</span><span  class=\"hlup\" >עָ֖ם </span><span  class=\"hlup\" >מִ</span><span  class=\"hl hlup\" >קָּצֶֽה׃ </span></span> <i>656353</i> </td><td class=\"tf\"><span class=\"hb\"><span  class=\"hl hlup\" >עַל־</span><span  class=\"hlup\" >הַ</span><span  class=\"hl hlup\" >בַּ֔יִת </span></span> <i>656355</i> </td><td class=\"tf\"><span class=\"hb\"><span  class=\"hl hlup\" >אַנְשֵׁ֨י </span></span> <i>8502</i> </td><td class=\"tf\"><span class=\"hb\"><span  class=\"hl hlup\" >עַל־</span></span> <i>8508</i> </td><td class=\"tf\"><span class=\"hb\"><span  class=\"hl hlup\" >בַּ֔יִת </span></span> <i>8510</i> </td><td class=\"tf\"><span class=\"hb\"><span  class=\"hl hlup\" >קָּצֶֽה׃ </span></span> <i>8520</i> </td></tr>\n",
       "<tr class=\"tf\"><td class=\"tf\">10</td><td class=\"tf\"> <a href=\"https://shebanq.ancient-data.org/hebrew/text?book=Genesis&amp;chapter=22&amp;verse=3&amp;version=2017&amp;mr=m&amp;qw=q&amp;tp=txt_p&amp;tr=hb&amp;wget=v&amp;qget=v&amp;nget=vt\" title=\"show this passage in SHEBANQ\" sec=\"Genesis 22:3\">Genesis 22:3</a></td><td class=\"tf\"><span class=\"hb\"><a class=\"vn\" href=\"https://shebanq.ancient-data.org/hebrew/text?book=Genesis&amp;chapter=22&amp;verse=3&amp;version=2017&amp;mr=m&amp;qw=q&amp;tp=txt_p&amp;tr=hb&amp;wget=v&amp;qget=v&amp;nget=vt\" title=\"Genesis 22:3\" sec=\"Genesis 22:3\"></a>וַיַּשְׁכֵּ֨ם אַבְרָהָ֜ם בַּבֹּ֗קֶר וַֽיַּחֲבֹשׁ֙ אֶת־חֲמֹרֹ֔ו <span  class=\"hlup\" >וַ</span><span  class=\"hlup\" >יִּקַּ֞ח </span><span  class=\"hl hlup\" >אֶת־</span><span  class=\"hlup\" >שְׁנֵ֤י </span><span  class=\"hlup\" >נְעָרָיו֙ </span><span  class=\"hl hlup\" >אִתֹּ֔ו </span><span  class=\"hlup\" >וְ</span><span  class=\"hlup\" >אֵ֖ת </span><span  class=\"hlup\" >יִצְחָ֣ק </span><span  class=\"hl hlup\" >בְּנֹ֑ו </span>וַיְבַקַּע֙ עֲצֵ֣י עֹלָ֔ה וַיָּ֣קָם וַיֵּ֔לֶךְ אֶל־הַמָּקֹ֖ום אֲשֶׁר־אָֽמַר־לֹ֥ו הָאֱלֹהִֽים׃ </span> <i>1414740</i> </td><td class=\"tf\"><span class=\"hb\"><span  class=\"hlup\" >וַ</span><span  class=\"hlup\" >יִּקַּ֞ח </span><span  class=\"hl hlup\" >אֶת־</span><span  class=\"hlup\" >שְׁנֵ֤י </span><span  class=\"hlup\" >נְעָרָיו֙ </span><span  class=\"hl hlup\" >אִתֹּ֔ו </span><span  class=\"hlup\" >וְ</span><span  class=\"hlup\" >אֵ֖ת </span><span  class=\"hlup\" >יִצְחָ֣ק </span><span  class=\"hl hlup\" >בְּנֹ֑ו </span></span> <i>429497</i> </td><td class=\"tf\"><span class=\"hb\"><span  class=\"hl hlup\" >אֶת־</span><span  class=\"hlup\" >שְׁנֵ֤י </span><span  class=\"hlup\" >נְעָרָיו֙ </span><span  class=\"hlup\" >וְ</span><span  class=\"hlup\" >אֵ֖ת </span><span  class=\"hlup\" >יִצְחָ֣ק </span><span  class=\"hl hlup\" >בְּנֹ֑ו </span></span> <i>657505</i> </td><td class=\"tf\"><span class=\"hb\"><span  class=\"hl hlup\" >אִתֹּ֔ו </span></span> <i>657506</i> </td><td class=\"tf\"><span class=\"hb\"><span  class=\"hl hlup\" >אֶת־</span></span> <i>10284</i> </td><td class=\"tf\"><span class=\"hb\"><span  class=\"hl hlup\" >אִתֹּ֔ו </span></span> <i>10287</i> </td><td class=\"tf\"><span class=\"hb\"><span  class=\"hl hlup\" >אִתֹּ֔ו </span></span> <i>10287</i> </td><td class=\"tf\"><span class=\"hb\"><span  class=\"hl hlup\" >בְּנֹ֑ו </span></span> <i>10291</i> </td></tr></table>"
      ],
      "text/plain": [
       "<IPython.core.display.HTML object>"
      ]
     },
     "metadata": {},
     "output_type": "display_data"
    },
    {
     "data": {
      "text/html": [
       "<p><b>result</b> <i>1</i></p>"
      ],
      "text/plain": [
       "<IPython.core.display.HTML object>"
      ]
     },
     "metadata": {},
     "output_type": "display_data"
    },
    {
     "data": {
      "text/html": [
       "<div class=\"verse  \" >\n",
       "\n",
       "    <div class=\"vl\">\n",
       "        <div class=\"vrs\"><a href=\"https://shebanq.ancient-data.org/hebrew/text?book=Genesis&amp;chapter=2&amp;verse=25&amp;version=2017&amp;mr=m&amp;qw=q&amp;tp=txt_p&amp;tr=hb&amp;wget=v&amp;qget=v&amp;nget=vt\" title=\"show this passage in SHEBANQ\" sec=\"Genesis 2:25\">Genesis 2:25</a></div>\n",
       "        \n",
       "    </div>\n",
       "\n",
       "<div class=\"satom  \" >\n",
       "\n",
       "    <div class=\"sentence \" >\n",
       "        <a href=\"https://shebanq.ancient-data.org/hebrew/text?book=Genesis&amp;chapter=2&amp;verse=25&amp;version=2017&amp;mr=m&amp;qw=q&amp;tp=txt_p&amp;tr=hb&amp;wget=v&amp;qget=v&amp;nget=vt\" title=\"Genesis 2:25\" sec=\"Genesis 2:25\">sentence</a>   <span class=\"number\">59|151</span>\n",
       "    </div>\n",
       "    <div class=\"atoms\">\n",
       "\n",
       "<div class=\"catom  hl\" >\n",
       "\n",
       "    <div class=\"clause hl\" >\n",
       "        <a href=\"https://shebanq.ancient-data.org/hebrew/text?book=Genesis&amp;chapter=2&amp;verse=25&amp;version=2017&amp;mr=m&amp;qw=q&amp;tp=txt_p&amp;tr=hb&amp;wget=v&amp;qget=v&amp;nget=vt\" title=\"Genesis 2:25\" sec=\"Genesis 2:25\">clause</a>   <span class=\"typ\">WayX</span>\n",
       "    </div>\n",
       "    <div class=\"atoms\">\n",
       "\n",
       "<div class=\"patom  \" >\n",
       "\n",
       "    <div class=\"phrase \" >\n",
       "        <a href=\"https://shebanq.ancient-data.org/hebrew/text?book=Genesis&amp;chapter=2&amp;verse=25&amp;version=2017&amp;mr=m&amp;qw=q&amp;tp=txt_p&amp;tr=hb&amp;wget=v&amp;qget=v&amp;nget=vt\" title=\"Genesis 2:25\" sec=\"Genesis 2:25\">phrase</a>   <span class=\"function\">Conj</span> <span class=\"typ\">CP</span>\n",
       "    </div>\n",
       "    <div class=\"atoms\">\n",
       "\n",
       "<div class=\"word  \" >\n",
       "<div class=\"h\"><a target=\"_blank\" href=\"https://shebanq.ancient-data.org/hebrew/word?version=2017&amp;id=1W\" title=\"show this lexeme in SHEBANQ\">וַ</a></div>\n",
       "<div class=\"features\"> <span class=\"pdp\"><a href=\"https://shebanq.ancient-data.org/hebrew/text?book=Genesis&amp;chapter=2&amp;verse=25&amp;version=2017&amp;mr=m&amp;qw=q&amp;tp=txt_p&amp;tr=hb&amp;wget=v&amp;qget=v&amp;nget=vt\" title=\"Genesis 2:25\" sec=\"Genesis 2:25\">conj</a></span> <span class=\"gloss\">and</span></div>\n",
       "\n",
       "\n",
       "</div>\n",
       "\n",
       "\n",
       "    </div>\n",
       "\n",
       "\n",
       "</div>\n",
       "\n",
       "<div class=\"patom  \" >\n",
       "\n",
       "    <div class=\"phrase \" >\n",
       "        <a href=\"https://shebanq.ancient-data.org/hebrew/text?book=Genesis&amp;chapter=2&amp;verse=25&amp;version=2017&amp;mr=m&amp;qw=q&amp;tp=txt_p&amp;tr=hb&amp;wget=v&amp;qget=v&amp;nget=vt\" title=\"Genesis 2:25\" sec=\"Genesis 2:25\">phrase</a>   <span class=\"function\">Pred</span> <span class=\"typ\">VP</span>\n",
       "    </div>\n",
       "    <div class=\"atoms\">\n",
       "\n",
       "<div class=\"word  \" >\n",
       "<div class=\"h\"><a target=\"_blank\" href=\"https://shebanq.ancient-data.org/hebrew/word?version=2017&amp;id=1HJHv\" title=\"show this lexeme in SHEBANQ\">יִּֽהְי֤וּ </a></div>\n",
       "<div class=\"features\"> <span class=\"pdp\"><a href=\"https://shebanq.ancient-data.org/hebrew/text?book=Genesis&amp;chapter=2&amp;verse=25&amp;version=2017&amp;mr=m&amp;qw=q&amp;tp=txt_p&amp;tr=hb&amp;wget=v&amp;qget=v&amp;nget=vt\" title=\"Genesis 2:25\" sec=\"Genesis 2:25\">verb</a></span> <span class=\"gloss\">be</span> <span class=\"vs\">qal</span> <span class=\"vt\">wayq</span></div>\n",
       "\n",
       "\n",
       "</div>\n",
       "\n",
       "\n",
       "    </div>\n",
       "\n",
       "\n",
       "</div>\n",
       "\n",
       "<div class=\"patom  l hl\" >\n",
       "\n",
       "    <div class=\"phrase hl\" >\n",
       "        <a href=\"https://shebanq.ancient-data.org/hebrew/text?book=Genesis&amp;chapter=2&amp;verse=25&amp;version=2017&amp;mr=m&amp;qw=q&amp;tp=txt_p&amp;tr=hb&amp;wget=v&amp;qget=v&amp;nget=vt\" title=\"Genesis 2:25\" sec=\"Genesis 2:25\">phrase</a>   <span class=\"function\">Subj</span> <span class=\"typ\">NP</span>\n",
       "    </div>\n",
       "    <div class=\"atoms\">\n",
       "\n",
       "<div class=\"word  hl\" >\n",
       "<div class=\"h\"><a target=\"_blank\" href=\"https://shebanq.ancient-data.org/hebrew/word?version=2017&amp;id=1CNJMn\" title=\"show this lexeme in SHEBANQ\">שְׁנֵיהֶם֙ </a></div>\n",
       "<div class=\"features\"> <span class=\"pdp\"><a href=\"https://shebanq.ancient-data.org/hebrew/text?book=Genesis&amp;chapter=2&amp;verse=25&amp;version=2017&amp;mr=m&amp;qw=q&amp;tp=txt_p&amp;tr=hb&amp;wget=v&amp;qget=v&amp;nget=vt\" title=\"Genesis 2:25\" sec=\"Genesis 2:25\">subs</a></span> <span class=\"gloss\">two</span></div>\n",
       "\n",
       "\n",
       "</div>\n",
       "\n",
       "\n",
       "    </div>\n",
       "\n",
       "\n",
       "</div>\n",
       "\n",
       "<div class=\"patom  hl\" >\n",
       "\n",
       "    <div class=\"phrase hl\" >\n",
       "        <a href=\"https://shebanq.ancient-data.org/hebrew/text?book=Genesis&amp;chapter=2&amp;verse=25&amp;version=2017&amp;mr=m&amp;qw=q&amp;tp=txt_p&amp;tr=hb&amp;wget=v&amp;qget=v&amp;nget=vt\" title=\"Genesis 2:25\" sec=\"Genesis 2:25\">phrase</a>   <span class=\"function\">PreC</span> <span class=\"typ\">AdjP</span>\n",
       "    </div>\n",
       "    <div class=\"atoms\">\n",
       "\n",
       "<div class=\"word  hl\" >\n",
       "<div class=\"h\"><a target=\"_blank\" href=\"https://shebanq.ancient-data.org/hebrew/word?version=2017&amp;id=1ORWMn\" title=\"show this lexeme in SHEBANQ\">עֲרוּמִּ֔ים </a></div>\n",
       "<div class=\"features\"> <span class=\"pdp\"><a href=\"https://shebanq.ancient-data.org/hebrew/text?book=Genesis&amp;chapter=2&amp;verse=25&amp;version=2017&amp;mr=m&amp;qw=q&amp;tp=txt_p&amp;tr=hb&amp;wget=v&amp;qget=v&amp;nget=vt\" title=\"Genesis 2:25\" sec=\"Genesis 2:25\">adjv</a></span> <span class=\"gloss\">naked</span></div>\n",
       "\n",
       "\n",
       "</div>\n",
       "\n",
       "\n",
       "    </div>\n",
       "\n",
       "\n",
       "</div>\n",
       "\n",
       "<div class=\"patom  r hl\" >\n",
       "\n",
       "    <div class=\"phrase hl\" >\n",
       "        <a href=\"https://shebanq.ancient-data.org/hebrew/text?book=Genesis&amp;chapter=2&amp;verse=25&amp;version=2017&amp;mr=m&amp;qw=q&amp;tp=txt_p&amp;tr=hb&amp;wget=v&amp;qget=v&amp;nget=vt\" title=\"Genesis 2:25\" sec=\"Genesis 2:25\">phrase</a>   <span class=\"function\">Subj</span> <span class=\"typ\">NP</span>\n",
       "    </div>\n",
       "    <div class=\"atoms\">\n",
       "\n",
       "<div class=\"word  \" >\n",
       "<div class=\"h\"><a target=\"_blank\" href=\"https://shebanq.ancient-data.org/hebrew/word?version=2017&amp;id=1H\" title=\"show this lexeme in SHEBANQ\">הָֽ</a></div>\n",
       "<div class=\"features\"> <span class=\"pdp\"><a href=\"https://shebanq.ancient-data.org/hebrew/text?book=Genesis&amp;chapter=2&amp;verse=25&amp;version=2017&amp;mr=m&amp;qw=q&amp;tp=txt_p&amp;tr=hb&amp;wget=v&amp;qget=v&amp;nget=vt\" title=\"Genesis 2:25\" sec=\"Genesis 2:25\">art</a></span> <span class=\"gloss\">the</span></div>\n",
       "\n",
       "\n",
       "</div>\n",
       "\n",
       "<div class=\"word  \" >\n",
       "<div class=\"h\"><a target=\"_blank\" href=\"https://shebanq.ancient-data.org/hebrew/word?version=2017&amp;id=1ADMn\" title=\"show this lexeme in SHEBANQ\">אָדָ֖ם </a></div>\n",
       "<div class=\"features\"> <span class=\"pdp\"><a href=\"https://shebanq.ancient-data.org/hebrew/text?book=Genesis&amp;chapter=2&amp;verse=25&amp;version=2017&amp;mr=m&amp;qw=q&amp;tp=txt_p&amp;tr=hb&amp;wget=v&amp;qget=v&amp;nget=vt\" title=\"Genesis 2:25\" sec=\"Genesis 2:25\">subs</a></span> <span class=\"gloss\">human, mankind</span></div>\n",
       "\n",
       "\n",
       "</div>\n",
       "\n",
       "<div class=\"word  \" >\n",
       "<div class=\"h\"><a target=\"_blank\" href=\"https://shebanq.ancient-data.org/hebrew/word?version=2017&amp;id=1W\" title=\"show this lexeme in SHEBANQ\">וְ</a></div>\n",
       "<div class=\"features\"> <span class=\"pdp\"><a href=\"https://shebanq.ancient-data.org/hebrew/text?book=Genesis&amp;chapter=2&amp;verse=25&amp;version=2017&amp;mr=m&amp;qw=q&amp;tp=txt_p&amp;tr=hb&amp;wget=v&amp;qget=v&amp;nget=vt\" title=\"Genesis 2:25\" sec=\"Genesis 2:25\">conj</a></span> <span class=\"gloss\">and</span></div>\n",
       "\n",
       "\n",
       "</div>\n",
       "\n",
       "<div class=\"word  hl\" >\n",
       "<div class=\"h\"><a target=\"_blank\" href=\"https://shebanq.ancient-data.org/hebrew/word?version=2017&amp;id=1ACHn\" title=\"show this lexeme in SHEBANQ\">אִשְׁתֹּ֑ו </a></div>\n",
       "<div class=\"features\"> <span class=\"pdp\"><a href=\"https://shebanq.ancient-data.org/hebrew/text?book=Genesis&amp;chapter=2&amp;verse=25&amp;version=2017&amp;mr=m&amp;qw=q&amp;tp=txt_p&amp;tr=hb&amp;wget=v&amp;qget=v&amp;nget=vt\" title=\"Genesis 2:25\" sec=\"Genesis 2:25\">subs</a></span> <span class=\"gloss\">woman</span></div>\n",
       "\n",
       "\n",
       "</div>\n",
       "\n",
       "\n",
       "    </div>\n",
       "\n",
       "\n",
       "</div>\n",
       "\n",
       "\n",
       "    </div>\n",
       "\n",
       "\n",
       "</div>\n",
       "\n",
       "\n",
       "    </div>\n",
       "\n",
       "\n",
       "</div>\n",
       "\n",
       "<div class=\"satom  \" >\n",
       "\n",
       "    <div class=\"sentence \" >\n",
       "        <a href=\"https://shebanq.ancient-data.org/hebrew/text?book=Genesis&amp;chapter=2&amp;verse=25&amp;version=2017&amp;mr=m&amp;qw=q&amp;tp=txt_p&amp;tr=hb&amp;wget=v&amp;qget=v&amp;nget=vt\" title=\"Genesis 2:25\" sec=\"Genesis 2:25\">sentence</a>   <span class=\"number\">60|152</span>\n",
       "    </div>\n",
       "    <div class=\"atoms\">\n",
       "\n",
       "<div class=\"catom  \" >\n",
       "\n",
       "    <div class=\"clause \" >\n",
       "        <a href=\"https://shebanq.ancient-data.org/hebrew/text?book=Genesis&amp;chapter=2&amp;verse=25&amp;version=2017&amp;mr=m&amp;qw=q&amp;tp=txt_p&amp;tr=hb&amp;wget=v&amp;qget=v&amp;nget=vt\" title=\"Genesis 2:25\" sec=\"Genesis 2:25\">clause</a>   <span class=\"typ\">WxY0</span>\n",
       "    </div>\n",
       "    <div class=\"atoms\">\n",
       "\n",
       "<div class=\"patom  \" >\n",
       "\n",
       "    <div class=\"phrase \" >\n",
       "        <a href=\"https://shebanq.ancient-data.org/hebrew/text?book=Genesis&amp;chapter=2&amp;verse=25&amp;version=2017&amp;mr=m&amp;qw=q&amp;tp=txt_p&amp;tr=hb&amp;wget=v&amp;qget=v&amp;nget=vt\" title=\"Genesis 2:25\" sec=\"Genesis 2:25\">phrase</a>   <span class=\"function\">Conj</span> <span class=\"typ\">CP</span>\n",
       "    </div>\n",
       "    <div class=\"atoms\">\n",
       "\n",
       "<div class=\"word  \" >\n",
       "<div class=\"h\"><a target=\"_blank\" href=\"https://shebanq.ancient-data.org/hebrew/word?version=2017&amp;id=1W\" title=\"show this lexeme in SHEBANQ\">וְ</a></div>\n",
       "<div class=\"features\"> <span class=\"pdp\"><a href=\"https://shebanq.ancient-data.org/hebrew/text?book=Genesis&amp;chapter=2&amp;verse=25&amp;version=2017&amp;mr=m&amp;qw=q&amp;tp=txt_p&amp;tr=hb&amp;wget=v&amp;qget=v&amp;nget=vt\" title=\"Genesis 2:25\" sec=\"Genesis 2:25\">conj</a></span> <span class=\"gloss\">and</span></div>\n",
       "\n",
       "\n",
       "</div>\n",
       "\n",
       "\n",
       "    </div>\n",
       "\n",
       "\n",
       "</div>\n",
       "\n",
       "<div class=\"patom  \" >\n",
       "\n",
       "    <div class=\"phrase \" >\n",
       "        <a href=\"https://shebanq.ancient-data.org/hebrew/text?book=Genesis&amp;chapter=2&amp;verse=25&amp;version=2017&amp;mr=m&amp;qw=q&amp;tp=txt_p&amp;tr=hb&amp;wget=v&amp;qget=v&amp;nget=vt\" title=\"Genesis 2:25\" sec=\"Genesis 2:25\">phrase</a>   <span class=\"function\">Nega</span> <span class=\"typ\">NegP</span>\n",
       "    </div>\n",
       "    <div class=\"atoms\">\n",
       "\n",
       "<div class=\"word  \" >\n",
       "<div class=\"h\"><a target=\"_blank\" href=\"https://shebanq.ancient-data.org/hebrew/word?version=2017&amp;id=1LA\" title=\"show this lexeme in SHEBANQ\">לֹ֖א </a></div>\n",
       "<div class=\"features\"> <span class=\"pdp\"><a href=\"https://shebanq.ancient-data.org/hebrew/text?book=Genesis&amp;chapter=2&amp;verse=25&amp;version=2017&amp;mr=m&amp;qw=q&amp;tp=txt_p&amp;tr=hb&amp;wget=v&amp;qget=v&amp;nget=vt\" title=\"Genesis 2:25\" sec=\"Genesis 2:25\">nega</a></span> <span class=\"gloss\">not</span></div>\n",
       "\n",
       "\n",
       "</div>\n",
       "\n",
       "\n",
       "    </div>\n",
       "\n",
       "\n",
       "</div>\n",
       "\n",
       "<div class=\"patom  \" >\n",
       "\n",
       "    <div class=\"phrase \" >\n",
       "        <a href=\"https://shebanq.ancient-data.org/hebrew/text?book=Genesis&amp;chapter=2&amp;verse=25&amp;version=2017&amp;mr=m&amp;qw=q&amp;tp=txt_p&amp;tr=hb&amp;wget=v&amp;qget=v&amp;nget=vt\" title=\"Genesis 2:25\" sec=\"Genesis 2:25\">phrase</a>   <span class=\"function\">Pred</span> <span class=\"typ\">VP</span>\n",
       "    </div>\n",
       "    <div class=\"atoms\">\n",
       "\n",
       "<div class=\"word  \" >\n",
       "<div class=\"h\"><a target=\"_blank\" href=\"https://shebanq.ancient-data.org/hebrew/word?version=2017&amp;id=1BWCv\" title=\"show this lexeme in SHEBANQ\">יִתְבֹּשָֽׁשׁוּ׃ </a></div>\n",
       "<div class=\"features\"> <span class=\"pdp\"><a href=\"https://shebanq.ancient-data.org/hebrew/text?book=Genesis&amp;chapter=2&amp;verse=25&amp;version=2017&amp;mr=m&amp;qw=q&amp;tp=txt_p&amp;tr=hb&amp;wget=v&amp;qget=v&amp;nget=vt\" title=\"Genesis 2:25\" sec=\"Genesis 2:25\">verb</a></span> <span class=\"gloss\">be ashamed</span> <span class=\"vs\">hit</span> <span class=\"vt\">impf</span></div>\n",
       "\n",
       "\n",
       "</div>\n",
       "\n",
       "\n",
       "    </div>\n",
       "\n",
       "\n",
       "</div>\n",
       "\n",
       "\n",
       "    </div>\n",
       "\n",
       "\n",
       "</div>\n",
       "\n",
       "\n",
       "    </div>\n",
       "\n",
       "\n",
       "</div>\n",
       "\n",
       "\n",
       "</div>\n"
      ],
      "text/plain": [
       "<IPython.core.display.HTML object>"
      ]
     },
     "metadata": {},
     "output_type": "display_data"
    }
   ],
   "source": [
    "A.table(results, withNodes=True, end=10)\n",
    "A.show(results, start=1, end=1)"
   ]
  },
  {
   "cell_type": "markdown",
   "metadata": {},
   "source": [
    "**NB**\n",
    "Gaps are a tricky phenomenon. In [gaps](searchGaps.ipynb) we will deal with them cruelly."
   ]
  },
  {
   "cell_type": "markdown",
   "metadata": {},
   "source": [
    "# Performance tuning\n",
    "\n",
    "Here is an example by Yanniek van der Schans (2018-09-21)."
   ]
  },
  {
   "cell_type": "code",
   "execution_count": 27,
   "metadata": {},
   "outputs": [],
   "source": [
    "query = '''\n",
    "c:clause\n",
    " PreGap:phrase_atom\n",
    " LastPhrase:phrase_atom\n",
    " :=\n",
    "\n",
    "Gap:clause_atom\n",
    " :: word\n",
    "\n",
    "PreGap < Gap\n",
    "Gap < LastPhrase\n",
    "c || Gap\n",
    "'''"
   ]
  },
  {
   "cell_type": "code",
   "execution_count": 26,
   "metadata": {},
   "outputs": [
    {
     "name": "stdout",
     "output_type": "stream",
     "text": [
      "   |     0.00s Feature overview: 111 for nodes; 8 for edges; 2 configs; 8 computed\n",
      "  0.00s Checking search template ...\n",
      "  0.00s Setting up search space for 5 objects ...\n",
      "  0.16s Constraining search space with 8 relations ...\n",
      "  0.79s \t2 edges thinned\n",
      "  0.79s Setting up retrieval plan ...\n",
      "  0.81s Ready to deliver results from 454123 nodes\n",
      "Iterate over S.fetch() to get the results\n",
      "See S.showPlan() to interpret the results\n",
      "Search with 5 objects and 8 relations\n",
      "Results are instantiations of the following objects:\n",
      "node  0-clause                            ( 88101   choices)\n",
      "node  1-phrase_atom                       (267519   choices)\n",
      "node  2-phrase_atom                       ( 88101   choices)\n",
      "node  3-clause_atom                       (  5201   choices)\n",
      "node  4-word                              (  5201   choices)\n",
      "Performance parameters:\n",
      "\tyarnRatio            =     1.2\n",
      "\ttryLimitFrom         =     100\n",
      "\ttryLimitTo           =     100\n",
      "Instantiations are computed along the following relations:\n",
      "node                      3-clause_atom   (  5201   choices)\n",
      "edge  3-clause_atom   ::  4-word          (     1.0 choices (thinned))\n",
      "edge  4-word          ]]  3-clause_atom   (     1.0 choices)\n",
      "edge  3-clause_atom   <   2-phrase_atom   ( 44050.5 choices)\n",
      "edge  2-phrase_atom   :=  0-clause        (     1.0 choices (thinned))\n",
      "edge  0-clause        [[  2-phrase_atom   (     1.0 choices)\n",
      "edge  0-clause        ||  3-clause_atom   (  4680.9 choices)\n",
      "edge  0-clause        [[  1-phrase_atom   (     3.1 choices)\n",
      "edge  1-phrase_atom   <   3-clause_atom   (  2600.5 choices)\n",
      "  0.82s The results are connected to the original search template as follows:\n",
      " 0     \n",
      " 1 R0  c:clause\n",
      " 2 R1   PreGap:phrase_atom\n",
      " 3 R2   LastPhrase:phrase_atom\n",
      " 4      :=\n",
      " 5     \n",
      " 6 R3  Gap:clause_atom\n",
      " 7 R4   :: word\n",
      " 8     \n",
      " 9     PreGap < Gap\n",
      "10     Gap < LastPhrase\n",
      "11     c || Gap\n",
      "12     \n"
     ]
    }
   ],
   "source": [
    "S.study(query)\n",
    "S.showPlan(details=True)"
   ]
  },
  {
   "cell_type": "code",
   "execution_count": 28,
   "metadata": {},
   "outputs": [
    {
     "name": "stdout",
     "output_type": "stream",
     "text": [
      "  0.00s Counting results per 1 up to 4 ...\n",
      "   |     1.84s 1\n",
      "   |     8.54s 2\n",
      "   |       29s 3\n",
      "   |       32s 4\n",
      "    32s Done: 4 results\n"
     ]
    }
   ],
   "source": [
    "S.count(progress=1, limit=4)"
   ]
  },
  {
   "cell_type": "markdown",
   "metadata": {},
   "source": [
    "Can we do better?\n",
    "\n",
    "The performance parameter `yarnRatio` can be used to increase the amount of preprocessing, and we can \n",
    "increase to number of random samples that we make by `tryLimitFrom` and `tryLimitTo`.\n",
    "\n",
    "We start with increasing the amount of up-front edge-spinning."
   ]
  },
  {
   "cell_type": "code",
   "execution_count": 33,
   "metadata": {},
   "outputs": [
    {
     "name": "stdout",
     "output_type": "stream",
     "text": [
      "Performance parameters, current values:\n",
      "\ttryLimitFrom         =   10000\n",
      "\ttryLimitTo           =   10000\n",
      "\tyarnRatio            =     0.2\n"
     ]
    }
   ],
   "source": [
    "S.tweakPerformance(yarnRatio=0.2, tryLimitFrom=10000, tryLimitTo=10000)"
   ]
  },
  {
   "cell_type": "code",
   "execution_count": 34,
   "metadata": {},
   "outputs": [
    {
     "name": "stdout",
     "output_type": "stream",
     "text": [
      "   |     0.00s Feature overview: 111 for nodes; 8 for edges; 2 configs; 8 computed\n",
      "  0.00s Checking search template ...\n",
      "  0.00s Setting up search space for 5 objects ...\n",
      "  0.15s Constraining search space with 8 relations ...\n",
      "  1.03s \t2 edges thinned\n",
      "  1.03s Setting up retrieval plan ...\n",
      "  1.25s Ready to deliver results from 454123 nodes\n",
      "Iterate over S.fetch() to get the results\n",
      "See S.showPlan() to interpret the results\n",
      "Search with 5 objects and 8 relations\n",
      "Results are instantiations of the following objects:\n",
      "node  0-clause                            ( 88101   choices)\n",
      "node  1-phrase_atom                       (267519   choices)\n",
      "node  2-phrase_atom                       ( 88101   choices)\n",
      "node  3-clause_atom                       (  5201   choices)\n",
      "node  4-word                              (  5201   choices)\n",
      "Performance parameters:\n",
      "\tyarnRatio            =     0.2\n",
      "\ttryLimitFrom         =   10000\n",
      "\ttryLimitTo           =   10000\n",
      "Instantiations are computed along the following relations:\n",
      "node                      3-clause_atom   (  5201   choices)\n",
      "edge  3-clause_atom   ::  4-word          (     1.0 choices (thinned))\n",
      "edge  4-word          ]]  3-clause_atom   (     1.0 choices)\n",
      "edge  3-clause_atom   <   2-phrase_atom   ( 44050.5 choices)\n",
      "edge  2-phrase_atom   :=  0-clause        (     1.0 choices (thinned))\n",
      "edge  0-clause        [[  2-phrase_atom   (     1.0 choices)\n",
      "edge  0-clause        ||  3-clause_atom   (  4680.9 choices)\n",
      "edge  0-clause        [[  1-phrase_atom   (     3.0 choices)\n",
      "edge  1-phrase_atom   <   3-clause_atom   (  2600.5 choices)\n",
      "  1.26s The results are connected to the original search template as follows:\n",
      " 0     \n",
      " 1 R0  c:clause\n",
      " 2 R1   PreGap:phrase_atom\n",
      " 3 R2   LastPhrase:phrase_atom\n",
      " 4      :=\n",
      " 5     \n",
      " 6 R3  Gap:clause_atom\n",
      " 7 R4   :: word\n",
      " 8     \n",
      " 9     PreGap < Gap\n",
      "10     Gap < LastPhrase\n",
      "11     c || Gap\n",
      "12     \n"
     ]
    }
   ],
   "source": [
    "S.study(query)\n",
    "S.showPlan(details=True)"
   ]
  },
  {
   "cell_type": "markdown",
   "metadata": {},
   "source": [
    "It seems to be the same plan. No improvement.\n",
    "\n",
    "What if we decrease the amount of edge spinning?"
   ]
  },
  {
   "cell_type": "code",
   "execution_count": 35,
   "metadata": {},
   "outputs": [
    {
     "name": "stdout",
     "output_type": "stream",
     "text": [
      "Performance parameters, current values:\n",
      "\ttryLimitFrom         =   10000\n",
      "\ttryLimitTo           =   10000\n",
      "\tyarnRatio            =       5\n"
     ]
    }
   ],
   "source": [
    "S.tweakPerformance(yarnRatio=5, tryLimitFrom=10000, tryLimitTo=10000)"
   ]
  },
  {
   "cell_type": "code",
   "execution_count": 36,
   "metadata": {},
   "outputs": [
    {
     "name": "stdout",
     "output_type": "stream",
     "text": [
      "   |     0.00s Feature overview: 111 for nodes; 8 for edges; 2 configs; 8 computed\n",
      "  0.00s Checking search template ...\n",
      "  0.00s Setting up search space for 5 objects ...\n",
      "  0.16s Constraining search space with 8 relations ...\n",
      "  0.60s \t2 edges thinned\n",
      "  0.60s Setting up retrieval plan ...\n",
      "  0.82s Ready to deliver results from 454123 nodes\n",
      "Iterate over S.fetch() to get the results\n",
      "See S.showPlan() to interpret the results\n",
      "Search with 5 objects and 8 relations\n",
      "Results are instantiations of the following objects:\n",
      "node  0-clause                            ( 88101   choices)\n",
      "node  1-phrase_atom                       (267519   choices)\n",
      "node  2-phrase_atom                       ( 88101   choices)\n",
      "node  3-clause_atom                       (  5201   choices)\n",
      "node  4-word                              (  5201   choices)\n",
      "Performance parameters:\n",
      "\tyarnRatio            =       5\n",
      "\ttryLimitFrom         =   10000\n",
      "\ttryLimitTo           =   10000\n",
      "Instantiations are computed along the following relations:\n",
      "node                      3-clause_atom   (  5201   choices)\n",
      "edge  3-clause_atom   ::  4-word          (     1.0 choices (thinned))\n",
      "edge  4-word          ]]  3-clause_atom   (     1.0 choices)\n",
      "edge  3-clause_atom   <   2-phrase_atom   ( 44050.5 choices)\n",
      "edge  2-phrase_atom   :=  0-clause        (     1.0 choices (thinned))\n",
      "edge  0-clause        [[  2-phrase_atom   (     1.0 choices)\n",
      "edge  0-clause        ||  3-clause_atom   (  4680.9 choices)\n",
      "edge  0-clause        [[  1-phrase_atom   (     3.0 choices)\n",
      "edge  1-phrase_atom   <   3-clause_atom   (  2600.5 choices)\n",
      "  0.83s The results are connected to the original search template as follows:\n",
      " 0     \n",
      " 1 R0  c:clause\n",
      " 2 R1   PreGap:phrase_atom\n",
      " 3 R2   LastPhrase:phrase_atom\n",
      " 4      :=\n",
      " 5     \n",
      " 6 R3  Gap:clause_atom\n",
      " 7 R4   :: word\n",
      " 8     \n",
      " 9     PreGap < Gap\n",
      "10     Gap < LastPhrase\n",
      "11     c || Gap\n",
      "12     \n"
     ]
    }
   ],
   "source": [
    "S.study(query)\n",
    "S.showPlan(details=True)"
   ]
  },
  {
   "cell_type": "markdown",
   "metadata": {},
   "source": [
    "No change either.\n",
    "\n",
    "We'll look for queries where the parameters matter more in the future."
   ]
  },
  {
   "cell_type": "markdown",
   "metadata": {},
   "source": [
    "# Next\n",
    "\n",
    "You have seen cases where the implementation is to blame.\n",
    "\n",
    "Now I want to point to gaps in your understanding:\n",
    "[gaps](searchGaps.ipynb)\n",
    "\n",
    "---\n",
    "\n",
    "[basic](search.ipynb)\n",
    "[advanced](searchAdvanced.ipynb)\n",
    "[sets](searchSets.ipynb)\n",
    "[relations](searchRelations.ipynb)\n",
    "[quantifiers](searchQuantifiers.ipynb)\n",
    "rough\n",
    "[gaps](searchGaps.ipynb)"
   ]
  }
 ],
 "metadata": {
  "kernelspec": {
   "display_name": "Python 3",
   "language": "python",
   "name": "python3"
  },
  "language_info": {
   "codemirror_mode": {
    "name": "ipython",
    "version": 3
   },
   "file_extension": ".py",
   "mimetype": "text/x-python",
   "name": "python",
   "nbconvert_exporter": "python",
   "pygments_lexer": "ipython3",
   "version": "3.7.2"
  }
 },
 "nbformat": 4,
 "nbformat_minor": 2
}
