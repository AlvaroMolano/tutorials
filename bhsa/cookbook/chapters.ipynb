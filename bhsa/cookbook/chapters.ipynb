{
 "cells": [
  {
   "cell_type": "code",
   "execution_count": null,
   "metadata": {},
   "outputs": [],
   "source": [
    "from tf.app import use"
   ]
  },
  {
   "cell_type": "code",
   "execution_count": null,
   "metadata": {},
   "outputs": [],
   "source": [
    "A = use(\n",
    "    'bhsa', version='2017',\n",
    "    mod=(\n",
    "        'etcbc/lingo/heads/tf,'\n",
    "        'cmerwich/bh-reference-system/tf'\n",
    "    ),\n",
    "    hoist=globals(),\n",
    "\n",
    ")"
   ]
  },
  {
   "cell_type": "code",
   "execution_count": null,
   "metadata": {},
   "outputs": [],
   "source": [
    "def compute_text(MY_BOOK, MY_CHAPTERS):\n",
    "\n",
    "    results = []\n",
    "    highlights = {}\n",
    "    \n",
    "    for book in F.otype.s('book'):\n",
    "        book_name = T.bookName(book)\n",
    "       \n",
    "        for chn in L.d(book, 'chapter'):\n",
    "            chapter = F.chapter.v(chn)\n",
    "            tup = (chn,)\n",
    "            if (\n",
    "                (MY_BOOK and book_name not in MY_BOOK)\n",
    "                or \n",
    "                (MY_CHAPTERS and chapter not in MY_CHAPTERS)\n",
    "            ):\n",
    "                continue\n",
    "            for phrase in L.d(chn, 'phrase'):\n",
    "                typ = F.typ.v(phrase)\n",
    "                if typ == 'NP':\n",
    "                    tup = tup + (phrase,)\n",
    "                    highlights[phrase] = 'skyblue'\n",
    "\n",
    "            for phr_atom in L.d(chn, 'phrase_atom'):\n",
    "                if F.rela.v(phr_atom) == 'Appo':\n",
    "                    tup = tup + (phr_atom,)\n",
    "                    highlights[phr_atom] = 'yellow'\n",
    "\n",
    "            for w in L.d(chn, 'word'):\n",
    "                pdp = F.pdp.v(w)\n",
    "                pgn_prps = F.pgn_prps.v(w)\n",
    "                pgn_prde = F.pgn_prde.v(w)\n",
    "                pgn_verb = F.pgn_verb.v(w)\n",
    "                pgn_prs = F.pgn_prs.v(w)\n",
    "\n",
    "                if pdp == 'verb':\n",
    "                    tup = tup + (w,)\n",
    "                    highlights[w] = 'springgreen'\n",
    "\n",
    "                if pdp == 'subs':\n",
    "                    tup = tup + (w,)\n",
    "                    highlights[w] = 'skyblue'\n",
    "\n",
    "                if pdp == 'art':\n",
    "                    tup = tup + (w,)\n",
    "                    highlights[w] = 'skyblue'\n",
    "\n",
    "                if pdp == 'nmpr':\n",
    "                    tup = tup + (w,)\n",
    "                    highlights[w] = 'tomato' \n",
    "\n",
    "                if pdp == 'prps':\n",
    "                    tup = tup + (w,)\n",
    "                    highlights[w] = 'palegoldenrod'\n",
    "\n",
    "                if pdp == 'prde':\n",
    "                    tup = tup + (w,)\n",
    "                    highlights[w] = 'royalblue'\n",
    "\n",
    "                if pdp == 'prep' and pgn_prs in prs_set:\n",
    "                    tup = tup + (w,)\n",
    "                    highlights[w] = 'DarkGoldenrod'\n",
    "\n",
    "            results.append(tup)\n",
    "    return (results, highlights)\n",
    "  \n",
    "def show_text(books, chapters):\n",
    "    (results, highlights) = compute_text(books, chapters)\n",
    "    A.displaySetup(extraFeatures='pgn_prps pgn_prde pgn_verb pgn_prs pdp typ rela ls function det st lex nametype gn nu') #ps gn nu\n",
    "    A.show(results, condensed=False, highlights=highlights)"
   ]
  },
  {
   "cell_type": "code",
   "execution_count": null,
   "metadata": {},
   "outputs": [],
   "source": [
    "show_text('Numbers', set(range(1,17)))"
   ]
  },
  {
   "cell_type": "code",
   "execution_count": null,
   "metadata": {},
   "outputs": [],
   "source": []
  }
 ],
 "metadata": {
  "kernelspec": {
   "display_name": "Python 3",
   "language": "python",
   "name": "python3"
  },
  "language_info": {
   "codemirror_mode": {
    "name": "ipython",
    "version": 3
   },
   "file_extension": ".py",
   "mimetype": "text/x-python",
   "name": "python",
   "nbconvert_exporter": "python",
   "pygments_lexer": "ipython3",
   "version": "3.7.2"
  }
 },
 "nbformat": 4,
 "nbformat_minor": 4
}
