{
 "cells": [
  {
   "cell_type": "markdown",
   "metadata": {},
   "source": [
    "<img align=\"right\" src=\"images/tf-small.png\" width=\"128\"/>\n",
    "<img align=\"right\" src=\"images/etcbc.png\"/>\n",
    "<img align=\"right\" src=\"images/dans-small.png\"/>\n",
    "\n",
    "You might want to consider the [start](search.ipynb) of this tutorial.\n",
    "\n",
    "Short introductions to other TF datasets:\n",
    "\n",
    "* [Dead Sea Scrolls](https://nbviewer.jupyter.org/github/annotation/tutorials/blob/master/lorentz2020/dss.ipynb),\n",
    "* [Old Babylonian Letters](https://nbviewer.jupyter.org/github/annotation/tutorials/blob/master/lorentz2020/oldbabylonian.ipynb),\n",
    "or the \n",
    "* [Q'uran](https://nbviewer.jupyter.org/github/annotation/tutorials/blob/master/lorentz2020/quran.ipynb)\n"
   ]
  },
  {
   "cell_type": "code",
   "execution_count": 1,
   "metadata": {},
   "outputs": [],
   "source": [
    "%load_ext autoreload\n",
    "%autoreload 2"
   ]
  },
  {
   "cell_type": "code",
   "execution_count": 2,
   "metadata": {
    "ExecuteTime": {
     "end_time": "2018-05-24T10:06:39.818664Z",
     "start_time": "2018-05-24T10:06:39.796588Z"
    }
   },
   "outputs": [],
   "source": [
    "from tf.app import use"
   ]
  },
  {
   "cell_type": "code",
   "execution_count": 3,
   "metadata": {
    "ExecuteTime": {
     "end_time": "2018-05-24T10:06:41.254515Z",
     "start_time": "2018-05-24T10:06:41.238046Z"
    }
   },
   "outputs": [],
   "source": [
    "VERSION = '2017'"
   ]
  },
  {
   "cell_type": "code",
   "execution_count": 4,
   "metadata": {
    "ExecuteTime": {
     "end_time": "2018-05-24T10:06:48.865143Z",
     "start_time": "2018-05-24T10:06:44.712958Z"
    }
   },
   "outputs": [
    {
     "name": "stdout",
     "output_type": "stream",
     "text": [
      "Using TF-app in /Users/dirk/github/annotation/app-bhsa/code:\n",
      "\trepo clone offline under ~/github (local github)\n",
      "Using data in /Users/dirk/github/etcbc/bhsa/tf/2017:\n",
      "\trepo clone offline under ~/github (local github)\n",
      "Using data in /Users/dirk/github/etcbc/phono/tf/2017:\n",
      "\trepo clone offline under ~/github (local github)\n",
      "Using data in /Users/dirk/github/etcbc/parallels/tf/2017:\n",
      "\trepo clone offline under ~/github (local github)\n",
      "   |     0.00s Dataset without structure sections in otext:no structure functions in the T-API\n"
     ]
    },
    {
     "data": {
      "text/html": [
       "<b>Documentation:</b> <a target=\"_blank\" href=\"https://etcbc.github.io/bhsa/0_home\" title=\"provenance of BHSA = Biblia Hebraica Stuttgartensia Amstelodamensis\">BHSA</a> <a target=\"_blank\" href=\"https://annotation.github.io/text-fabric/Writing/Transcription/Hebrew\" title=\"How TF features represent text\">Character table</a> <a target=\"_blank\" href=\"https://etcbc.github.io/bhsa/features/0_home\" title=\"BHSA feature documentation\">Feature docs</a> <a target=\"_blank\" href=\"https://github.com/annotation/app-bhsa\" title=\"bhsa API documentation\">bhsa API</a> <a target=\"_blank\" href=\"https://annotation.github.io/text-fabric/Api/Fabric/\" title=\"text-fabric-api\">Text-Fabric API 8.0.0</a> <a target=\"_blank\" href=\"https://annotation.github.io/text-fabric/Use/Search/\" title=\"Search Templates Introduction and Reference\">Search Reference</a><details open><summary><b>Loaded features</b>:</summary>\n",
       "<p><b>Parallel Passages</b>: <b><i><a target=\"_blank\" href=\"https://nbviewer.jupyter.org/github/etcbc/parallels/blob/master/programs/parallels.ipynb\" title=\"/Users/dirk/github/etcbc/parallels/tf/2017/crossref.tf\">crossref</a></i></b> </p><p><b>BHSA = Biblia Hebraica Stuttgartensia Amstelodamensis</b>: <a target=\"_blank\" href=\"https://etcbc.github.io/bhsa/features/book\" title=\"/Users/dirk/github/etcbc/bhsa/tf/2017/book.tf\">book</a>  <a target=\"_blank\" href=\"https://etcbc.github.io/bhsa/features/book@ll\" title=\"/Users/dirk/github/etcbc/bhsa/tf/2017/book@am.tf\">book@ll</a>  <a target=\"_blank\" href=\"https://etcbc.github.io/bhsa/features/chapter\" title=\"/Users/dirk/github/etcbc/bhsa/tf/2017/chapter.tf\">chapter</a>  <a target=\"_blank\" href=\"https://etcbc.github.io/bhsa/features/code\" title=\"/Users/dirk/github/etcbc/bhsa/tf/2017/code.tf\">code</a>  <a target=\"_blank\" href=\"https://etcbc.github.io/bhsa/features/det\" title=\"/Users/dirk/github/etcbc/bhsa/tf/2017/det.tf\">det</a>  <a target=\"_blank\" href=\"https://etcbc.github.io/bhsa/features/domain\" title=\"/Users/dirk/github/etcbc/bhsa/tf/2017/domain.tf\">domain</a>  <a target=\"_blank\" href=\"https://etcbc.github.io/bhsa/features/freq_lex\" title=\"/Users/dirk/github/etcbc/bhsa/tf/2017/freq_lex.tf\">freq_lex</a>  <a target=\"_blank\" href=\"https://etcbc.github.io/bhsa/features/function\" title=\"/Users/dirk/github/etcbc/bhsa/tf/2017/function.tf\">function</a>  <a target=\"_blank\" href=\"https://etcbc.github.io/bhsa/features/g_cons\" title=\"/Users/dirk/github/etcbc/bhsa/tf/2017/g_cons.tf\">g_cons</a>  <a target=\"_blank\" href=\"https://etcbc.github.io/bhsa/features/g_cons_utf8\" title=\"/Users/dirk/github/etcbc/bhsa/tf/2017/g_cons_utf8.tf\">g_cons_utf8</a>  <a target=\"_blank\" href=\"https://etcbc.github.io/bhsa/features/g_lex\" title=\"/Users/dirk/github/etcbc/bhsa/tf/2017/g_lex.tf\">g_lex</a>  <a target=\"_blank\" href=\"https://etcbc.github.io/bhsa/features/g_lex_utf8\" title=\"/Users/dirk/github/etcbc/bhsa/tf/2017/g_lex_utf8.tf\">g_lex_utf8</a>  <a target=\"_blank\" href=\"https://etcbc.github.io/bhsa/features/g_word\" title=\"/Users/dirk/github/etcbc/bhsa/tf/2017/g_word.tf\">g_word</a>  <a target=\"_blank\" href=\"https://etcbc.github.io/bhsa/features/g_word_utf8\" title=\"/Users/dirk/github/etcbc/bhsa/tf/2017/g_word_utf8.tf\">g_word_utf8</a>  <a target=\"_blank\" href=\"https://etcbc.github.io/bhsa/features/gloss\" title=\"/Users/dirk/github/etcbc/bhsa/tf/2017/gloss.tf\">gloss</a>  <a target=\"_blank\" href=\"https://etcbc.github.io/bhsa/features/gn\" title=\"/Users/dirk/github/etcbc/bhsa/tf/2017/gn.tf\">gn</a>  <a target=\"_blank\" href=\"https://etcbc.github.io/bhsa/features/label\" title=\"/Users/dirk/github/etcbc/bhsa/tf/2017/label.tf\">label</a>  <a target=\"_blank\" href=\"https://etcbc.github.io/bhsa/features/language\" title=\"/Users/dirk/github/etcbc/bhsa/tf/2017/language.tf\">language</a>  <a target=\"_blank\" href=\"https://etcbc.github.io/bhsa/features/lex\" title=\"/Users/dirk/github/etcbc/bhsa/tf/2017/lex.tf\">lex</a>  <a target=\"_blank\" href=\"https://etcbc.github.io/bhsa/features/lex_utf8\" title=\"/Users/dirk/github/etcbc/bhsa/tf/2017/lex_utf8.tf\">lex_utf8</a>  <a target=\"_blank\" href=\"https://etcbc.github.io/bhsa/features/ls\" title=\"/Users/dirk/github/etcbc/bhsa/tf/2017/ls.tf\">ls</a>  <a target=\"_blank\" href=\"https://etcbc.github.io/bhsa/features/nametype\" title=\"/Users/dirk/github/etcbc/bhsa/tf/2017/nametype.tf\">nametype</a>  <a target=\"_blank\" href=\"https://etcbc.github.io/bhsa/features/nme\" title=\"/Users/dirk/github/etcbc/bhsa/tf/2017/nme.tf\">nme</a>  <a target=\"_blank\" href=\"https://etcbc.github.io/bhsa/features/nu\" title=\"/Users/dirk/github/etcbc/bhsa/tf/2017/nu.tf\">nu</a>  <a target=\"_blank\" href=\"https://etcbc.github.io/bhsa/features/number\" title=\"/Users/dirk/github/etcbc/bhsa/tf/2017/number.tf\">number</a>  <a target=\"_blank\" href=\"https://etcbc.github.io/bhsa/features/otype\" title=\"/Users/dirk/github/etcbc/bhsa/tf/2017/otype.tf\">otype</a>  <a target=\"_blank\" href=\"https://etcbc.github.io/bhsa/features/pargr\" title=\"/Users/dirk/github/etcbc/bhsa/tf/2017/pargr.tf\">pargr</a>  <a target=\"_blank\" href=\"https://etcbc.github.io/bhsa/features/pdp\" title=\"/Users/dirk/github/etcbc/bhsa/tf/2017/pdp.tf\">pdp</a>  <a target=\"_blank\" href=\"https://etcbc.github.io/bhsa/features/pfm\" title=\"/Users/dirk/github/etcbc/bhsa/tf/2017/pfm.tf\">pfm</a>  <a target=\"_blank\" href=\"https://etcbc.github.io/bhsa/features/prs\" title=\"/Users/dirk/github/etcbc/bhsa/tf/2017/prs.tf\">prs</a>  <a target=\"_blank\" href=\"https://etcbc.github.io/bhsa/features/prs_gn\" title=\"/Users/dirk/github/etcbc/bhsa/tf/2017/prs_gn.tf\">prs_gn</a>  <a target=\"_blank\" href=\"https://etcbc.github.io/bhsa/features/prs_nu\" title=\"/Users/dirk/github/etcbc/bhsa/tf/2017/prs_nu.tf\">prs_nu</a>  <a target=\"_blank\" href=\"https://etcbc.github.io/bhsa/features/prs_ps\" title=\"/Users/dirk/github/etcbc/bhsa/tf/2017/prs_ps.tf\">prs_ps</a>  <a target=\"_blank\" href=\"https://etcbc.github.io/bhsa/features/ps\" title=\"/Users/dirk/github/etcbc/bhsa/tf/2017/ps.tf\">ps</a>  <a target=\"_blank\" href=\"https://etcbc.github.io/bhsa/features/qere\" title=\"/Users/dirk/github/etcbc/bhsa/tf/2017/qere.tf\">qere</a>  <a target=\"_blank\" href=\"https://etcbc.github.io/bhsa/features/qere_trailer\" title=\"/Users/dirk/github/etcbc/bhsa/tf/2017/qere_trailer.tf\">qere_trailer</a>  <a target=\"_blank\" href=\"https://etcbc.github.io/bhsa/features/qere_trailer_utf8\" title=\"/Users/dirk/github/etcbc/bhsa/tf/2017/qere_trailer_utf8.tf\">qere_trailer_utf8</a>  <a target=\"_blank\" href=\"https://etcbc.github.io/bhsa/features/qere_utf8\" title=\"/Users/dirk/github/etcbc/bhsa/tf/2017/qere_utf8.tf\">qere_utf8</a>  <a target=\"_blank\" href=\"https://etcbc.github.io/bhsa/features/rank_lex\" title=\"/Users/dirk/github/etcbc/bhsa/tf/2017/rank_lex.tf\">rank_lex</a>  <a target=\"_blank\" href=\"https://etcbc.github.io/bhsa/features/rela\" title=\"/Users/dirk/github/etcbc/bhsa/tf/2017/rela.tf\">rela</a>  <a target=\"_blank\" href=\"https://etcbc.github.io/bhsa/features/sp\" title=\"/Users/dirk/github/etcbc/bhsa/tf/2017/sp.tf\">sp</a>  <a target=\"_blank\" href=\"https://etcbc.github.io/bhsa/features/st\" title=\"/Users/dirk/github/etcbc/bhsa/tf/2017/st.tf\">st</a>  <a target=\"_blank\" href=\"https://etcbc.github.io/bhsa/features/tab\" title=\"/Users/dirk/github/etcbc/bhsa/tf/2017/tab.tf\">tab</a>  <a target=\"_blank\" href=\"https://etcbc.github.io/bhsa/features/trailer\" title=\"/Users/dirk/github/etcbc/bhsa/tf/2017/trailer.tf\">trailer</a>  <a target=\"_blank\" href=\"https://etcbc.github.io/bhsa/features/trailer_utf8\" title=\"/Users/dirk/github/etcbc/bhsa/tf/2017/trailer_utf8.tf\">trailer_utf8</a>  <a target=\"_blank\" href=\"https://etcbc.github.io/bhsa/features/txt\" title=\"/Users/dirk/github/etcbc/bhsa/tf/2017/txt.tf\">txt</a>  <a target=\"_blank\" href=\"https://etcbc.github.io/bhsa/features/typ\" title=\"/Users/dirk/github/etcbc/bhsa/tf/2017/typ.tf\">typ</a>  <a target=\"_blank\" href=\"https://etcbc.github.io/bhsa/features/uvf\" title=\"/Users/dirk/github/etcbc/bhsa/tf/2017/uvf.tf\">uvf</a>  <a target=\"_blank\" href=\"https://etcbc.github.io/bhsa/features/vbe\" title=\"/Users/dirk/github/etcbc/bhsa/tf/2017/vbe.tf\">vbe</a>  <a target=\"_blank\" href=\"https://etcbc.github.io/bhsa/features/vbs\" title=\"/Users/dirk/github/etcbc/bhsa/tf/2017/vbs.tf\">vbs</a>  <a target=\"_blank\" href=\"https://etcbc.github.io/bhsa/features/verse\" title=\"/Users/dirk/github/etcbc/bhsa/tf/2017/verse.tf\">verse</a>  <a target=\"_blank\" href=\"https://etcbc.github.io/bhsa/features/voc_lex\" title=\"/Users/dirk/github/etcbc/bhsa/tf/2017/voc_lex.tf\">voc_lex</a>  <a target=\"_blank\" href=\"https://etcbc.github.io/bhsa/features/voc_lex_utf8\" title=\"/Users/dirk/github/etcbc/bhsa/tf/2017/voc_lex_utf8.tf\">voc_lex_utf8</a>  <a target=\"_blank\" href=\"https://etcbc.github.io/bhsa/features/vs\" title=\"/Users/dirk/github/etcbc/bhsa/tf/2017/vs.tf\">vs</a>  <a target=\"_blank\" href=\"https://etcbc.github.io/bhsa/features/vt\" title=\"/Users/dirk/github/etcbc/bhsa/tf/2017/vt.tf\">vt</a>  <b><i><a target=\"_blank\" href=\"https://etcbc.github.io/bhsa/features/mother\" title=\"/Users/dirk/github/etcbc/bhsa/tf/2017/mother.tf\">mother</a></i></b>  <b><i><a target=\"_blank\" href=\"https://etcbc.github.io/bhsa/features/omap@ll\" title=\"/Users/dirk/github/etcbc/bhsa/tf/2017/omap@2016-2017.tf\">omap@ll</a></i></b>  <b><i><a target=\"_blank\" href=\"https://etcbc.github.io/bhsa/features/oslots\" title=\"/Users/dirk/github/etcbc/bhsa/tf/2017/oslots.tf\">oslots</a></i></b> </p><p><b>Phonetic Transcriptions</b>: <a target=\"_blank\" href=\"https://nbviewer.jupyter.org/github/etcbc/phono/blob/master/programs/phono.ipynb\" title=\"/Users/dirk/github/etcbc/phono/tf/2017/phono.tf\">phono</a>  <a target=\"_blank\" href=\"https://nbviewer.jupyter.org/github/etcbc/phono/blob/master/programs/phono.ipynb\" title=\"/Users/dirk/github/etcbc/phono/tf/2017/phono_trailer.tf\">phono_trailer</a> </p></details>"
      ],
      "text/plain": [
       "<IPython.core.display.HTML object>"
      ]
     },
     "metadata": {},
     "output_type": "display_data"
    },
    {
     "data": {
      "text/html": [
       "<style>tr.tf, td.tf, th.tf { text-align: left ! important;}@font-face {\n",
       "  font-family: \"Ezra SIL\";\n",
       "  src: local('Ezra SIL'), local('EzraSIL'),\n",
       "    url('/server/static/fonts/SILEOT.woff') format('woff'),\n",
       "    url('https://github.com/annotation/text-fabric/blob/master/tf/server/static/fonts/SILEOT.woff?raw=true') format('woff');\n",
       "}\n",
       "\n",
       "@font-face {\n",
       "  font-family: \"SBL Hebrew\";\n",
       "  src: local('SBL Hebrew'), local('SBLHebrew'),\n",
       "    url('/server/static/fonts/SBL_Hbrw.woff') format('woff'),\n",
       "    url('https://github.com/annotation/text-fabric/blob/master/tf/server/static/fonts/SBL_Hbrw.woff?raw=true') format('woff');\n",
       "}\n",
       "\n",
       "@font-face {\n",
       "  font-family: \"Estrangelo Edessa\";\n",
       "  src: local('Estrangelo Edessa'), local('EstrangeloEdessa');\n",
       "    url('/server/static/fonts/SyrCOMEdessa.woff') format('woff'),\n",
       "    url('https://github.com/annotation/text-fabric/blob/master/tf/server/static/fonts/SyrCOMEdessa.woff?raw=true') format('woff');\n",
       "}\n",
       "\n",
       "@font-face {\n",
       "  font-family: AmiriQuran;\n",
       "  font-style: normal;\n",
       "  font-weight: 400;\n",
       "  src: local('Amiri Quran'), local('AmiriQuran'),\n",
       "    url('/server/static/fonts/AmiriQuran.woff') format('woff'),\n",
       "    url('https://github.com/annotation/text-fabric/blob/master/tf/server/static/fonts/AmiriQuran.woff?raw=true') format('woff');\n",
       "}\n",
       "\n",
       "@font-face {\n",
       "  font-family: AmiriQuranColored;\n",
       "  font-style: normal;\n",
       "  font-weight: 400;\n",
       "  src: local('Amiri Quran Colored'), local('AmiriQuranColored'),\n",
       "    url('/server/static/fonts/AmiriQuranColored.woff') format('woff'),\n",
       "    url('https://github.com/annotation/text-fabric/blob/master/tf/server/static/fonts/AmiriQuranColored.woff?raw=true') format('woff');\n",
       "}\n",
       "\n",
       "@font-face {\n",
       "  font-family: \"Santakku\";\n",
       "  src: local('Santakku'),\n",
       "    url('/server/static/fonts/Santakku.woff') format('woff'),\n",
       "    url('https://github.com/annotation/text-fabric/blob/master/tf/server/static/fonts/Santakku.woff?raw=true') format('woff');\n",
       "}\n",
       "\n",
       "@font-face {\n",
       "  font-family: \"SantakkuM\";\n",
       "  src: local('SantakkuM'),\n",
       "    url('/server/static/fonts/SantakkuM.woff') format('woff'),\n",
       "    url('https://github.com/annotation/text-fabric/blob/master/tf/server/static/fonts/SantakkuM.woff?raw=true') format('woff');\n",
       "}\n",
       "/* neutral text */\n",
       ".txtn,.txtn a:visited,.txtn a:link {\n",
       "    font-family: sans-serif;\n",
       "    font-size: medium;\n",
       "    direction: ltr;\n",
       "    text-decoration: none;\n",
       "    color: var(--text-color);\n",
       "}\n",
       "/* transcription text */\n",
       ".txtt,.txtt a:visited,.txtt a:link {\n",
       "    font-family: monospace;\n",
       "    font-size: medium;\n",
       "    direction: ltr;\n",
       "    text-decoration: none;\n",
       "    color: var(--text-color);\n",
       "}\n",
       "/* source text */\n",
       ".txto,.txto a:visited,.txto a:link {\n",
       "    font-family: serif;\n",
       "    font-size: medium;\n",
       "    direction: ltr;\n",
       "    text-decoration: none;\n",
       "    color: var(--text-color);\n",
       "}\n",
       "/* phonetic text */\n",
       ".txtp,.txtp a:visited,.txtp a:link {\n",
       "    font-family: Gentium, sans-serif;\n",
       "    font-size: large;\n",
       "    direction: ltr;\n",
       "    text-decoration: none;\n",
       "    color: var(--text-color);\n",
       "}\n",
       "/* original script text */\n",
       ".txtu,.txtu a:visited,.txtu a:link {\n",
       "    font-family: Gentium, sans-serif;\n",
       "    font-size: large;\n",
       "    text-decoration: none;\n",
       "    color: var(--text-color);\n",
       "}\n",
       "/* hebrew */\n",
       ".txtu.hbo,.lex.hbo {\n",
       "    font-family: \"Ezra SIL\", \"SBL Hebrew\", sans-serif;\n",
       "    font-size: x-large;\n",
       "    direction: rtl ! important;\n",
       "    unicode-bidi: embed;\n",
       "}\n",
       "/* syriac */\n",
       ".txtu.syc,.lex.syc {\n",
       "    font-family: \"Estrangelo Edessa\", sans-serif;\n",
       "    font-size: large;\n",
       "    direction: rtl ! important;\n",
       "    unicode-bidi: embed;\n",
       "}\n",
       "/* neo aramaic */\n",
       ".txtu.cld,.lex.cld {\n",
       "    font-family: \"CharisSIL-R\", sans-serif;\n",
       "    font-size: medium;\n",
       "    direction: ltr ! important;\n",
       "    unicode-bidi: embed;\n",
       "}\n",
       "/* standard arabic */\n",
       ".txtu.ara,.lex.ara {\n",
       "    font-family: \"AmiriQuran\", sans-serif;\n",
       "    font-size: large;\n",
       "    direction: rtl ! important;\n",
       "    unicode-bidi: embed;\n",
       "}\n",
       "/* cuneiform */\n",
       ".txtu.akk,.lex.akk {\n",
       "    font-family: Santakku, sans-serif;\n",
       "    font-size: x-large;\n",
       "    direction: ltr ! important;\n",
       "    unicode-bidi: embed;\n",
       "}\n",
       "/* greek */\n",
       ".txtu.grc,.lex.grc a:link {\n",
       "    font-family: Gentium, sans-serif;\n",
       "    font-size: medium;\n",
       "    direction: ltr ! important;\n",
       "    unicode-bidi: embed;\n",
       "}\n",
       "a:hover {\n",
       "    text-decoration: underline | important;\n",
       "    color: #0000ff | important;\n",
       "}\n",
       ".ltr {\n",
       "    direction: ltr ! important;\n",
       "}\n",
       ".rtl {\n",
       "    direction: rtl ! important;\n",
       "}\n",
       "span.plain {\n",
       "    display: inline-block;\n",
       "    white-space: pre-wrap;\n",
       "    text-align: start;\n",
       "}\n",
       ".features {\n",
       "    font-family: monospace;\n",
       "    font-size: medium;\n",
       "    font-weight: bold;\n",
       "    color: var(--features);\n",
       "    display: flex;\n",
       "    flex-flow: column nowrap;\n",
       "    justify-content: flex-start;\n",
       "    align-items: flex-start;\n",
       "    align-content: flex-start;\n",
       "    padding: 0.1rem;\n",
       "    margin: 0.1rem;\n",
       "    direction: ltr;\n",
       "    border: var(--meta-width) solid var(--meta-color);\n",
       "    border-radius: var(--meta-width);\n",
       "}\n",
       ".features div,.features span {\n",
       "    padding: 0;\n",
       "    margin: -0.1rem 0;\n",
       "}\n",
       ".features .f {\n",
       "    font-family: sans-serif;\n",
       "    font-size: small;\n",
       "    font-weight: normal;\n",
       "    color: #5555bb;\n",
       "}\n",
       ".features .xft {\n",
       "  color: #000000;\n",
       "  background-color: #eeeeee;\n",
       "  font-size: medium;\n",
       "  margin: 0.1rem 0rem;\n",
       "}\n",
       ".features .xft .f {\n",
       "  color: #000000;\n",
       "  background-color: #eeeeee;\n",
       "  font-size: small;\n",
       "  font-weight: normal;\n",
       "}\n",
       ".section {\n",
       "    font-family: sans-serif;\n",
       "    font-size: small;\n",
       "    font-weight: bold;\n",
       "    color: var(--section);\n",
       "}\n",
       ".structure {\n",
       "    font-family: sans-serif;\n",
       "    font-size: small;\n",
       "    font-weight: bold;\n",
       "    color: var(--structure);\n",
       "}\n",
       ".comments {\n",
       "    display: flex;\n",
       "    justify-content: flex-start;\n",
       "    align-items: flex-start;\n",
       "    align-content: flex-start;\n",
       "    flex-flow: column nowrap;\n",
       "}\n",
       ".nd {\n",
       "    font-family: sans-serif;\n",
       "    font-size: small;\n",
       "    color: var(--node);\n",
       "    vertical-align: super;\n",
       "}\n",
       ".lex {\n",
       "  color: var(--lex-color);;\n",
       "}\n",
       ".children,.children.ltr {\n",
       "    display: flex;\n",
       "    border: 0;\n",
       "    background-color: #ffffff;\n",
       "    justify-content: flex-start;\n",
       "    align-items: flex-start;\n",
       "    align-content: flex-start;\n",
       "}\n",
       ".children.stretch {\n",
       "    align-items: stretch;\n",
       "}\n",
       ".children.row {\n",
       "    flex-flow: row nowrap;\n",
       "}\n",
       ".children.row.wrap {\n",
       "    flex-flow: row wrap;\n",
       "}\n",
       ".children.col {\n",
       "    flex-flow: column nowrap;\n",
       "}\n",
       ".children.col.wrap {\n",
       "    flex-flow: column wrap;\n",
       "}\n",
       ".contnr {\n",
       "    width: fit-content;\n",
       "    display: flex;\n",
       "    justify-content: flex-start;\n",
       "    align-items: flex-start;\n",
       "    align-content: flex-start;\n",
       "    flex-flow: column nowrap;\n",
       "    background: #ffffff none repeat scroll 0 0;\n",
       "    padding:  0.5rem 0.1rem 0.1rem 0.1rem;\n",
       "    margin: 0.8rem 0.1rem 0.1rem 0.1rem;\n",
       "    border-style: solid;\n",
       "    font-size: small;\n",
       "}\n",
       ".contnr.trm {\n",
       "    background-attachment: local;\n",
       "}\n",
       ".contnr.cnul {\n",
       "    padding:  0;\n",
       "    margin: 0;\n",
       "    border-style: solid;\n",
       "    font-size: xx-small;\n",
       "}\n",
       ".contnr.cnul,.lbl.cnul {\n",
       "    border-color: var(--border-color-nul);\n",
       "    border-width: var(--border-width-nul);\n",
       "    border-radius: var(--border-width-nul);\n",
       "}\n",
       ".contnr.c0,.lbl.c0 {\n",
       "    border-color: var(--border-color0);\n",
       "    border-width: var(--border-width0);\n",
       "    border-radius: var(--border-width0);\n",
       "}\n",
       ".contnr.c1,.lbl.c1 {\n",
       "    border-color: var(--border-color1);\n",
       "    border-width: var(--border-width1);\n",
       "    border-radius: var(--border-width1);\n",
       "}\n",
       ".contnr.c2,.lbl.c2 {\n",
       "    border-color: var(--border-color2);\n",
       "    border-width: var(--border-width2);\n",
       "    border-radius: var(--border-width2);\n",
       "}\n",
       ".contnr.c3,.lbl.c3 {\n",
       "    border-color: var(--border-color3);\n",
       "    border-width: var(--border-width3);\n",
       "    border-radius: var(--border-width3);\n",
       "}\n",
       ".contnr.c4,.lbl.c4 {\n",
       "    border-color: var(--border-color4);\n",
       "    border-width: var(--border-width4);\n",
       "    border-radius: var(--border-width4);\n",
       "}\n",
       ".contnr.l {\n",
       "    border-left-style: dotted\n",
       "}\n",
       ".contnr.r {\n",
       "    border-right-style: dotted\n",
       "}\n",
       ".contnr.lno {\n",
       "    border-left-style: none\n",
       "}\n",
       ".contnr.rno {\n",
       "    border-right-style: none\n",
       "}\n",
       ".lbl {\n",
       "    font-family: monospace;\n",
       "    margin-top: -1.2rem;\n",
       "    margin-left: 1rem;\n",
       "    background: #ffffff none repeat scroll 0 0;\n",
       "    padding: 0 0.3rem;\n",
       "    border-style: solid;\n",
       "    display: block;\n",
       "    color: var(--label)\n",
       "}\n",
       ".lbl.trm {\n",
       "    background-attachment: local;\n",
       "    margin-top: 0.1rem;\n",
       "    margin-left: 0.1rem;\n",
       "    padding: 0.1rem 0.1rem;\n",
       "    border-style: none;\n",
       "}\n",
       ".lbl.cnul {\n",
       "    font-size: xx-small;\n",
       "}\n",
       ".lbl.c0 {\n",
       "    font-size: small;\n",
       "}\n",
       ".lbl.c1 {\n",
       "    font-size: small;\n",
       "}\n",
       ".lbl.c2 {\n",
       "    font-size: medium;\n",
       "}\n",
       ".lbl.c3 {\n",
       "    font-size: medium;\n",
       "}\n",
       ".lbl.c4 {\n",
       "    font-size: large;\n",
       "}\n",
       ".occs {\n",
       "    font-size: small;\n",
       "}\n",
       "\n",
       ":root {\n",
       "\t--node:             hsla(120, 100%,  20%, 1.0  );\n",
       "\t--label:            hsla(  0, 100%,  20%, 1.0  );\n",
       "\t--section:          hsla(  0, 100%,  25%, 1.0  );\n",
       "\t--structure:        hsla(120, 100%,  25%, 1.0  );\n",
       "\t--features:         hsla(  0,   0%,  30%, 1.0  );\n",
       "  --text-color:       hsla( 60,  80%,  10%, 1.0  );\n",
       "  --lex-color:        hsla(220,  90%,  60%, 1.0  );\n",
       "  --meta-color:       hsla(  0,   0%,  90%, 0.7  );\n",
       "  --meta-width:       0.15rem;\n",
       "  --border-color-nul: hsla(  0,   0%,  90%, 0.5  );\n",
       "  --border-color0:    hsla(  0,   0%,  90%, 0.9  );\n",
       "  --border-color1:    hsla(  0,   0%,  80%, 0.9  );\n",
       "  --border-color2:    hsla(  0,   0%,  70%, 0.9  );\n",
       "  --border-color3:    hsla(  0,   0%,  80%, 0.8  );\n",
       "  --border-color4:    hsla(  0,   0%,  60%, 0.9  );\n",
       "  --border-width-nul: 0.1rem;\n",
       "  --border-width0:    0.1rem;\n",
       "  --border-width1:    0.15rem;\n",
       "  --border-width2:    0.2rem;\n",
       "  --border-width3:    0.3rem;\n",
       "  --border-width4:    0.25rem;\n",
       "}\n",
       ".hl {\n",
       "  background-color: var(--hl-strong);\n",
       "}\n",
       "span.hl {\n",
       "\tbackground-color: var(--hl-strong);\n",
       "\tborder-width: 0;\n",
       "\tborder-radius: 0.1rem;\n",
       "\tborder-style: solid;\n",
       "}\n",
       "div.contnr.hl,div.lbl.hl {\n",
       "  background-color: var(--hl-strong);\n",
       "}\n",
       "div.contnr.hl {\n",
       "  border-color: var(--hl-rim) ! important;\n",
       "\tborder-width: 0.2rem ! important;\n",
       "}\n",
       "\n",
       "span.hlbx {\n",
       "\tborder-color: var(--hl-rim);\n",
       "\tborder-width: 0.2rem;\n",
       "\tborder-style: solid;\n",
       "\tborder-radius: 0.3rem;\n",
       "  padding: 0.2rem;\n",
       "  margin: 0.2rem;\n",
       "}\n",
       "\n",
       "span.plain {\n",
       "  display: inline-block;\n",
       "  white-space: pre-wrap;\n",
       "}\n",
       "\n",
       ":root {\n",
       "\t--hl-strong:        hsla( 60, 100%,  70%, 0.9  );\n",
       "\t--hl-rim:           hsla( 55,  80%,  50%, 1.0  );\n",
       "}\n",
       "</style>"
      ],
      "text/plain": [
       "<IPython.core.display.HTML object>"
      ]
     },
     "metadata": {},
     "output_type": "display_data"
    },
    {
     "data": {
      "text/html": [
       "<details open><summary><b>API members</b>:</summary>\n",
       "<a target=\"_blank\" href=\"https://annotation.github.io/text-fabric/Api/Computed/#computed-data\" title=\"doc\">C Computed</a>, <a target=\"_blank\" href=\"https://annotation.github.io/text-fabric/Api/Computed/#computed-data\" title=\"doc\">Call AllComputeds</a>, <a target=\"_blank\" href=\"https://annotation.github.io/text-fabric/Api/Computed/#computed-data\" title=\"doc\">Cs ComputedString</a><br/>\n",
       "<a target=\"_blank\" href=\"https://annotation.github.io/text-fabric/Api/Features/#edge-features\" title=\"doc\">E Edge</a>, <a target=\"_blank\" href=\"https://annotation.github.io/text-fabric/Api/Features/#edge-features\" title=\"doc\">Eall AllEdges</a>, <a target=\"_blank\" href=\"https://annotation.github.io/text-fabric/Api/Features/#edge-features\" title=\"doc\">Es EdgeString</a><br/>\n",
       "<a target=\"_blank\" href=\"https://annotation.github.io/text-fabric/Api/Fabric/#loading\" title=\"doc\">ensureLoaded</a>, <a target=\"_blank\" href=\"https://annotation.github.io/text-fabric/Api/Fabric/#loading\" title=\"doc\">TF</a>, <a target=\"_blank\" href=\"https://annotation.github.io/text-fabric/Api/Fabric/#loading\" title=\"doc\">ignored</a>, <a target=\"_blank\" href=\"https://annotation.github.io/text-fabric/Api/Fabric/#loading\" title=\"doc\">loadLog</a><br/>\n",
       "<a target=\"_blank\" href=\"https://annotation.github.io/text-fabric/Api/Locality/#locality\" title=\"doc\">L Locality</a><br/>\n",
       "<a target=\"_blank\" href=\"https://annotation.github.io/text-fabric/Api/Misc/#messaging\" title=\"doc\">cache</a>, <a target=\"_blank\" href=\"https://annotation.github.io/text-fabric/Api/Misc/#messaging\" title=\"doc\">error</a>, <a target=\"_blank\" href=\"https://annotation.github.io/text-fabric/Api/Misc/#messaging\" title=\"doc\">indent</a>, <a target=\"_blank\" href=\"https://annotation.github.io/text-fabric/Api/Misc/#messaging\" title=\"doc\">info</a>, <a target=\"_blank\" href=\"https://annotation.github.io/text-fabric/Api/Misc/#messaging\" title=\"doc\">isSilent</a>, <a target=\"_blank\" href=\"https://annotation.github.io/text-fabric/Api/Misc/#messaging\" title=\"doc\">reset</a>, <a target=\"_blank\" href=\"https://annotation.github.io/text-fabric/Api/Misc/#messaging\" title=\"doc\">setSilent</a>, <a target=\"_blank\" href=\"https://annotation.github.io/text-fabric/Api/Misc/#messaging\" title=\"doc\">silentOff</a>, <a target=\"_blank\" href=\"https://annotation.github.io/text-fabric/Api/Misc/#messaging\" title=\"doc\">silentOn</a>, <a target=\"_blank\" href=\"https://annotation.github.io/text-fabric/Api/Misc/#messaging\" title=\"doc\">warning</a><br/>\n",
       "<a target=\"_blank\" href=\"https://annotation.github.io/text-fabric/Api/Nodes/#navigating-nodes\" title=\"doc\">N Nodes</a>, <a target=\"_blank\" href=\"https://annotation.github.io/text-fabric/Api/Nodes/#navigating-nodes\" title=\"doc\">sortKey</a>, <a target=\"_blank\" href=\"https://annotation.github.io/text-fabric/Api/Nodes/#navigating-nodes\" title=\"doc\">sortKeyTuple</a>, <a target=\"_blank\" href=\"https://annotation.github.io/text-fabric/Api/Nodes/#navigating-nodes\" title=\"doc\">otypeRank</a>, <a target=\"_blank\" href=\"https://annotation.github.io/text-fabric/Api/Nodes/#navigating-nodes\" title=\"doc\">sortNodes</a><br/>\n",
       "<a target=\"_blank\" href=\"https://annotation.github.io/text-fabric/Api/Features/#node-features\" title=\"doc\">F Feature</a>, <a target=\"_blank\" href=\"https://annotation.github.io/text-fabric/Api/Features/#node-features\" title=\"doc\">Fall AllFeatures</a>, <a target=\"_blank\" href=\"https://annotation.github.io/text-fabric/Api/Features/#node-features\" title=\"doc\">Fs FeatureString</a><br/>\n",
       "<a target=\"_blank\" href=\"https://annotation.github.io/text-fabric/Api/Search/#search\" title=\"doc\">S Search</a><br/>\n",
       "<a target=\"_blank\" href=\"https://annotation.github.io/text-fabric/Api/Text/#text\" title=\"doc\">T Text</a></details>"
      ],
      "text/plain": [
       "<IPython.core.display.HTML object>"
      ]
     },
     "metadata": {},
     "output_type": "display_data"
    }
   ],
   "source": [
    "# A = use('bhsa', hoist=globals(), version=VERSION)\n",
    "A = use('bhsa:clone', checkout=\"clone\", hoist=globals(), version=VERSION)"
   ]
  },
  {
   "cell_type": "markdown",
   "metadata": {},
   "source": [
    "# Relationships\n",
    "\n",
    "There are relationship between objects that are about their identities, the way they \n",
    "occupy space, and the way they are connected.\n",
    "\n",
    "Are two objects the same, do they occupy the same slots, do they overlap, is one embedded in the other,\n",
    "does one come before the other? Is there an edge from one to another?\n",
    "\n",
    "Although these relationships are easy to define, and even easy to implement,\n",
    "they may be very costly to use. \n",
    "When searching, most of them have to be computed very many times.\n",
    "\n",
    "Some of them have been precomputed and stored in an index, e.g. the embedding relationships.\n",
    "They can be used without penalty.\n",
    "\n",
    "Other relations are not suitable for pre-computing: most inequality relations are of that kind.\n",
    "It would require an enormous amount of storage to pre-compute for each node the set of nodes that\n",
    "occupy different slots. This type of relation will not be used in narrowing down the search space,\n",
    "which means that it may take more time to get the results.\n",
    "\n",
    "We are going to test all of our relationships here.\n",
    "\n",
    "Let us first see what relationships we have:"
   ]
  },
  {
   "cell_type": "code",
   "execution_count": 5,
   "metadata": {
    "ExecuteTime": {
     "end_time": "2018-05-24T09:05:33.516913Z",
     "start_time": "2018-05-24T09:05:33.512571Z"
    }
   },
   "outputs": [
    {
     "name": "stdout",
     "output_type": "stream",
     "text": [
      "                      = left equal to right (as node)\n",
      "                      # left unequal to right (as node)\n",
      "                      < left before right (in canonical node ordering)\n",
      "                      > left after right (in canonical node ordering)\n",
      "                     == left occupies same slots as right\n",
      "                     && left has overlapping slots with right\n",
      "                     ## left and right do not have the same slot set\n",
      "                     || left and right do not have common slots\n",
      "                     [[ left embeds right\n",
      "                     ]] left embedded in right\n",
      "                     << left completely before right\n",
      "                     >> left completely after right\n",
      "                     =: left and right start at the same slot\n",
      "                     := left and right end at the same slot\n",
      "                     :: left and right start and end at the same slot\n",
      "                     <: left immediately before right\n",
      "                     :> left immediately after right\n",
      "                    =k: left and right start at k-nearly the same slot\n",
      "                    :k= left and right end at k-nearly the same slot\n",
      "                    :k: left and right start and end at k-near slots\n",
      "                    <k: left k-nearly before right\n",
      "                    :k> left k-nearly after right\n",
      "                    .f. left.f = right.f\n",
      "                  .f=g. left.f = right.g\n",
      "                .f~r~g. left.f matches right.g\n",
      "                  .f#g. left.f # right.g\n",
      "                  .f>g. left.f > right.g\n",
      "                  .f<g. left.f > right.g\n",
      "             -crossref> edge feature \"crossref\" with value specification allowed\n",
      "             <crossref- edge feature \"crossref\" with value specification allowed (opposite direction)\n",
      "             <crossref> edge feature \"crossref\" with value specification allowed (either direction)\n",
      "          -crossrefLCS> edge feature \"crossrefLCS\" with value specification allowed\n",
      "          <crossrefLCS- edge feature \"crossrefLCS\" with value specification allowed (opposite direction)\n",
      "          <crossrefLCS> edge feature \"crossrefLCS\" with value specification allowed (either direction)\n",
      "          -crossrefSET> edge feature \"crossrefSET\" with value specification allowed\n",
      "          <crossrefSET- edge feature \"crossrefSET\" with value specification allowed (opposite direction)\n",
      "          <crossrefSET> edge feature \"crossrefSET\" with value specification allowed (either direction)\n",
      "-distributional_parent> edge feature \"distributional_parent\"\n",
      "<distributional_parent- edge feature \"distributional_parent\" (opposite direction)\n",
      "<distributional_parent> edge feature \"distributional_parent\" (either direction)\n",
      "    -functional_parent> edge feature \"functional_parent\"\n",
      "    <functional_parent- edge feature \"functional_parent\" (opposite direction)\n",
      "    <functional_parent> edge feature \"functional_parent\" (either direction)\n",
      "               -mother> edge feature \"mother\"\n",
      "               <mother- edge feature \"mother\" (opposite direction)\n",
      "               <mother> edge feature \"mother\" (either direction)\n",
      "       -omap@2016-2017> edge feature \"omap@2016-2017\" with value specification allowed\n",
      "       <omap@2016-2017- edge feature \"omap@2016-2017\" with value specification allowed (opposite direction)\n",
      "       <omap@2016-2017> edge feature \"omap@2016-2017\" with value specification allowed (either direction)\n",
      "The warp feature \"oslots\" cannot be used in searches.\n",
      "One of the above relations on nodes and/or slots will suit you better.\n"
     ]
    }
   ],
   "source": [
    "S.relationsLegend()"
   ]
  },
  {
   "cell_type": "markdown",
   "metadata": {},
   "source": [
    "The top of the list are identity and spatial relationships.\n",
    "We are going to dicuss them. They are documented in\n",
    "[relationships](https://annotation.github.io/text-fabric/Use/Search/#relational-operators)\n",
    "\n",
    "The bottom of the list are relationships defined by the edge features of your dataset.\n",
    "We have discussed them in [advanced](searchAdvanced.ipynb)."
   ]
  },
  {
   "cell_type": "markdown",
   "metadata": {},
   "source": [
    "# Identity and order\n",
    "\n",
    "## = equal as node\n",
    "\n",
    "The `=` means that both parts are the same node. Left and right are not two things with similar properties,\n",
    "no, they are one and the same thing.\n",
    "\n",
    "Useful if the thing you search for it part of two wildly different patterns."
   ]
  },
  {
   "cell_type": "code",
   "execution_count": 6,
   "metadata": {
    "ExecuteTime": {
     "end_time": "2018-05-24T09:05:59.853397Z",
     "start_time": "2018-05-24T09:05:58.186929Z"
    }
   },
   "outputs": [
    {
     "name": "stdout",
     "output_type": "stream",
     "text": [
      "  1.02s 48 results\n"
     ]
    }
   ],
   "source": [
    "query = '''\n",
    "v1:verse\n",
    "  sentence\n",
    "    clause rela=Objc\n",
    "      phrase\n",
    "        word sp=verb gn=f nu=pl\n",
    "v2:verse\n",
    "  sentence\n",
    "    c1:clause\n",
    "    c2:clause\n",
    "    c3:clause\n",
    "    c1 < c2\n",
    "    c2 < c3\n",
    "v1 = v2\n",
    "'''\n",
    "results = A.search(query)"
   ]
  },
  {
   "cell_type": "markdown",
   "metadata": {},
   "source": [
    "We show the results with the first clause in magenta and the second sentence in cyan.\n",
    "\n",
    "Note that the first and the second sentence may be the same sentence!\n",
    "\n",
    "**And observe that the last clause is the same one as the first one, hence they have the same color.**"
   ]
  },
  {
   "cell_type": "code",
   "execution_count": 9,
   "metadata": {
    "ExecuteTime": {
     "end_time": "2018-05-24T09:05:59.853397Z",
     "start_time": "2018-05-24T09:05:58.186929Z"
    }
   },
   "outputs": [
    {
     "data": {
      "text/html": [
       "<table><tr class=\"tf\"><th class=\"tf\">n</th><th class=\"tf\">p</th><th class=\"tf\">sentence</th><th class=\"tf\">clause</th><th class=\"tf\">phrase</th><th class=\"tf\">word</th><th class=\"tf\">sentence</th><th class=\"tf\">clause</th><th class=\"tf\">clause</th><th class=\"tf\">clause</th></tr>\n",
       "<tr class=\"tf\"><td class=\"tf\">1</td><td class=\"tf\"><span class=\"section ltr\"><a target=\"_blank\" href=\"https://shebanq.ancient-data.org/hebrew/text?book=Jeremia&amp;chapter=44&amp;verse=15&amp;version=2017&amp;mr=m&amp;qw=q&amp;tp=txt_p&amp;tr=hb&amp;wget=v&amp;qget=v&amp;nget=vt\" title=\"Show this on SHEBANQ\" sec=\"Jeremiah 44:15\">Jeremiah 44:15</a></span></td><td class=\"tf\"><span class=\"plain  hlbx\" ><span class=\"plain  rtl  \" ><span class=\"plain  rtl\"></span><span class=\"plain  l hlbx\"  style=\"border-color: cyan;\" ><span class=\"plain  rtl  \" ><span class=\"plain  rtl\"></span><span class=\"plain  rtl  \" ><span class=\"plain  rtl\"></span><span class=\"plain  rtl  \" ><span class=\"txtu hbo\">וַ</span></span></span><span class=\"plain  rtl  \" ><span class=\"plain  rtl\"></span><span class=\"plain  rtl  \" ><span class=\"txtu hbo\">יַּעֲנ֣וּ </span></span></span><span class=\"plain  rtl  \" ><span class=\"plain  rtl\"></span><span class=\"plain  rtl  \" ><span class=\"txtu hbo\">אֶֽת־</span></span><span class=\"plain  rtl  \" ><span class=\"txtu hbo\">יִרְמְיָ֗הוּ </span></span></span><span class=\"plain  rtl  \" ><span class=\"plain  rtl\"></span><span class=\"plain  rtl  \" ><span class=\"txtu hbo\">כָּל־</span></span><span class=\"plain  rtl  \" ><span class=\"txtu hbo\">הָ</span></span><span class=\"plain  rtl  \" ><span class=\"txtu hbo\">אֲנָשִׁ֤ים </span></span></span></span></span><span class=\"plain  hlbx\" ><span class=\"plain  rtl  \" ><span class=\"plain  rtl\"></span><span class=\"plain  rtl  \" ><span class=\"plain  rtl\"></span><span class=\"plain  rtl  \" ><span class=\"txtu hbo\">הַ</span></span></span><span class=\"plain  rtl  \" ><span class=\"plain  rtl\"></span><span class=\"plain  rtl  \" ><span class=\"txtu hbo\">יֹּֽדְעִים֙ </span></span></span></span></span><span class=\"plain  hlbx\"  style=\"border-color: magenta;\" ><span class=\"plain  rtl  \" ><span class=\"plain  rtl\"></span><span class=\"plain  rtl  \" ><span class=\"plain  rtl\"></span><span class=\"plain  rtl  \" ><span class=\"txtu hbo\">כִּֽי־</span></span></span><span class=\"plain  hlbx\" ><span class=\"plain  rtl  \" ><span class=\"plain  rtl\"></span><span class=\"plain  rtl  hl\" ><span class=\"txtu hbo\">מְקַטְּרֹ֤ות </span></span></span></span><span class=\"plain  rtl  \" ><span class=\"plain  rtl\"></span><span class=\"plain  rtl  \" ><span class=\"txtu hbo\">נְשֵׁיהֶם֙ </span></span></span><span class=\"plain  rtl  \" ><span class=\"plain  rtl\"></span><span class=\"plain  rtl  \" ><span class=\"txtu hbo\">לֵ</span></span><span class=\"plain  rtl  \" ><span class=\"txtu hbo\">אלֹהִ֣ים </span></span><span class=\"plain  rtl  \" ><span class=\"txtu hbo\">אֲחֵרִ֔ים </span></span></span></span></span><span class=\"plain  r l hlbx\"  style=\"border-color: cyan;\" ><span class=\"plain  rtl  \" ><span class=\"plain  rtl\"></span><span class=\"plain  rtl  \" ><span class=\"plain  rtl\"></span><span class=\"plain  rtl  \" ><span class=\"txtu hbo\">וְ</span></span></span><span class=\"plain  rtl  \" ><span class=\"plain  rtl\"></span><span class=\"plain  rtl  \" ><span class=\"txtu hbo\">כָל־</span></span><span class=\"plain  rtl  \" ><span class=\"txtu hbo\">הַ</span></span><span class=\"plain  rtl  \" ><span class=\"txtu hbo\">נָּשִׁ֥ים </span></span></span></span></span><span class=\"plain  rtl  \" ><span class=\"plain  rtl\"></span><span class=\"plain  rtl  \" ><span class=\"plain  rtl\"></span><span class=\"plain  rtl  \" ><span class=\"txtu hbo\">הָ</span></span></span><span class=\"plain  rtl  \" ><span class=\"plain  rtl\"></span><span class=\"plain  rtl  \" ><span class=\"txtu hbo\">עֹמְדֹ֖ות </span></span></span></span><span class=\"plain  r hlbx\"  style=\"border-color: cyan;\" ><span class=\"plain  rtl  \" ><span class=\"plain  rtl\"></span><span class=\"plain  rtl  \" ><span class=\"plain  rtl\"></span><span class=\"plain  rtl  \" ><span class=\"txtu hbo\">קָהָ֣ל </span></span><span class=\"plain  rtl  \" ><span class=\"txtu hbo\">גָּדֹ֑ול </span></span></span><span class=\"plain  rtl  \" ><span class=\"plain  rtl\"></span><span class=\"plain  rtl  \" ><span class=\"txtu hbo\">וְ</span></span></span><span class=\"plain  rtl  \" ><span class=\"plain  rtl\"></span><span class=\"plain  rtl  \" ><span class=\"txtu hbo\">כָל־</span></span><span class=\"plain  rtl  \" ><span class=\"txtu hbo\">הָ</span></span><span class=\"plain  rtl  \" ><span class=\"txtu hbo\">עָ֛ם </span></span></span></span></span><span class=\"plain  rtl  \" ><span class=\"plain  rtl\"></span><span class=\"plain  rtl  \" ><span class=\"plain  rtl\"></span><span class=\"plain  rtl  \" ><span class=\"txtu hbo\">הַ</span></span></span><span class=\"plain  rtl  \" ><span class=\"plain  rtl\"></span><span class=\"plain  rtl  \" ><span class=\"txtu hbo\">יֹּשְׁבִ֥ים </span></span></span><span class=\"plain  rtl  \" ><span class=\"plain  rtl\"></span><span class=\"plain  rtl  \" ><span class=\"txtu hbo\">בְּ</span></span><span class=\"plain  rtl  \" ><span class=\"txtu hbo\">אֶֽרֶץ־</span></span><span class=\"plain  rtl  \" ><span class=\"txtu hbo\">מִצְרַ֖יִם </span></span></span><span class=\"plain  rtl  \" ><span class=\"plain  rtl\"></span><span class=\"plain  rtl  \" ><span class=\"txtu hbo\">בְּ</span></span><span class=\"plain  rtl  \" ><span class=\"txtu hbo\">פַתְרֹ֥וס </span></span></span></span><span class=\"plain  rtl  \" ><span class=\"plain  rtl\"></span><span class=\"plain  rtl  \" ><span class=\"plain  rtl\"></span><span class=\"plain  rtl  \" ><span class=\"txtu hbo\">לֵ</span></span><span class=\"plain  rtl  \" ><span class=\"txtu hbo\">אמֹֽר׃ </span></span></span></span></span></span></td><td class=\"tf\"><span class=\"plain  hlbx\"  style=\"border-color: magenta;\" ><span class=\"plain  rtl  \" ><span class=\"plain  rtl\"></span><span class=\"plain  rtl  \" ><span class=\"plain  rtl\"></span><span class=\"plain  rtl  \" ><span class=\"txtu hbo\">כִּֽי־</span></span></span><span class=\"plain  hlbx\" ><span class=\"plain  rtl  \" ><span class=\"plain  rtl\"></span><span class=\"plain  rtl  hl\" ><span class=\"txtu hbo\">מְקַטְּרֹ֤ות </span></span></span></span><span class=\"plain  rtl  \" ><span class=\"plain  rtl\"></span><span class=\"plain  rtl  \" ><span class=\"txtu hbo\">נְשֵׁיהֶם֙ </span></span></span><span class=\"plain  rtl  \" ><span class=\"plain  rtl\"></span><span class=\"plain  rtl  \" ><span class=\"txtu hbo\">לֵ</span></span><span class=\"plain  rtl  \" ><span class=\"txtu hbo\">אלֹהִ֣ים </span></span><span class=\"plain  rtl  \" ><span class=\"txtu hbo\">אֲחֵרִ֔ים </span></span></span></span></span></td><td class=\"tf\"><span class=\"plain  hlbx\" ><span class=\"plain  rtl  \" ><span class=\"plain  rtl\"></span><span class=\"plain  rtl  hl\" ><span class=\"txtu hbo\">מְקַטְּרֹ֤ות </span></span></span></span></td><td class=\"tf\"><span class=\"plain outer rtl  hl\" ><span class=\"txtu hbo\">מְקַטְּרֹ֤ות </span></span></td><td class=\"tf\"><span class=\"plain  hlbx\" ><span class=\"plain  rtl  \" ><span class=\"plain  rtl\"></span><span class=\"plain  l hlbx\"  style=\"border-color: cyan;\" ><span class=\"plain  rtl  \" ><span class=\"plain  rtl\"></span><span class=\"plain  rtl  \" ><span class=\"plain  rtl\"></span><span class=\"plain  rtl  \" ><span class=\"txtu hbo\">וַ</span></span></span><span class=\"plain  rtl  \" ><span class=\"plain  rtl\"></span><span class=\"plain  rtl  \" ><span class=\"txtu hbo\">יַּעֲנ֣וּ </span></span></span><span class=\"plain  rtl  \" ><span class=\"plain  rtl\"></span><span class=\"plain  rtl  \" ><span class=\"txtu hbo\">אֶֽת־</span></span><span class=\"plain  rtl  \" ><span class=\"txtu hbo\">יִרְמְיָ֗הוּ </span></span></span><span class=\"plain  rtl  \" ><span class=\"plain  rtl\"></span><span class=\"plain  rtl  \" ><span class=\"txtu hbo\">כָּל־</span></span><span class=\"plain  rtl  \" ><span class=\"txtu hbo\">הָ</span></span><span class=\"plain  rtl  \" ><span class=\"txtu hbo\">אֲנָשִׁ֤ים </span></span></span></span></span><span class=\"plain  hlbx\" ><span class=\"plain  rtl  \" ><span class=\"plain  rtl\"></span><span class=\"plain  rtl  \" ><span class=\"plain  rtl\"></span><span class=\"plain  rtl  \" ><span class=\"txtu hbo\">הַ</span></span></span><span class=\"plain  rtl  \" ><span class=\"plain  rtl\"></span><span class=\"plain  rtl  \" ><span class=\"txtu hbo\">יֹּֽדְעִים֙ </span></span></span></span></span><span class=\"plain  hlbx\"  style=\"border-color: magenta;\" ><span class=\"plain  rtl  \" ><span class=\"plain  rtl\"></span><span class=\"plain  rtl  \" ><span class=\"plain  rtl\"></span><span class=\"plain  rtl  \" ><span class=\"txtu hbo\">כִּֽי־</span></span></span><span class=\"plain  hlbx\" ><span class=\"plain  rtl  \" ><span class=\"plain  rtl\"></span><span class=\"plain  rtl  hl\" ><span class=\"txtu hbo\">מְקַטְּרֹ֤ות </span></span></span></span><span class=\"plain  rtl  \" ><span class=\"plain  rtl\"></span><span class=\"plain  rtl  \" ><span class=\"txtu hbo\">נְשֵׁיהֶם֙ </span></span></span><span class=\"plain  rtl  \" ><span class=\"plain  rtl\"></span><span class=\"plain  rtl  \" ><span class=\"txtu hbo\">לֵ</span></span><span class=\"plain  rtl  \" ><span class=\"txtu hbo\">אלֹהִ֣ים </span></span><span class=\"plain  rtl  \" ><span class=\"txtu hbo\">אֲחֵרִ֔ים </span></span></span></span></span><span class=\"plain  r l hlbx\"  style=\"border-color: cyan;\" ><span class=\"plain  rtl  \" ><span class=\"plain  rtl\"></span><span class=\"plain  rtl  \" ><span class=\"plain  rtl\"></span><span class=\"plain  rtl  \" ><span class=\"txtu hbo\">וְ</span></span></span><span class=\"plain  rtl  \" ><span class=\"plain  rtl\"></span><span class=\"plain  rtl  \" ><span class=\"txtu hbo\">כָל־</span></span><span class=\"plain  rtl  \" ><span class=\"txtu hbo\">הַ</span></span><span class=\"plain  rtl  \" ><span class=\"txtu hbo\">נָּשִׁ֥ים </span></span></span></span></span><span class=\"plain  rtl  \" ><span class=\"plain  rtl\"></span><span class=\"plain  rtl  \" ><span class=\"plain  rtl\"></span><span class=\"plain  rtl  \" ><span class=\"txtu hbo\">הָ</span></span></span><span class=\"plain  rtl  \" ><span class=\"plain  rtl\"></span><span class=\"plain  rtl  \" ><span class=\"txtu hbo\">עֹמְדֹ֖ות </span></span></span></span><span class=\"plain  r hlbx\"  style=\"border-color: cyan;\" ><span class=\"plain  rtl  \" ><span class=\"plain  rtl\"></span><span class=\"plain  rtl  \" ><span class=\"plain  rtl\"></span><span class=\"plain  rtl  \" ><span class=\"txtu hbo\">קָהָ֣ל </span></span><span class=\"plain  rtl  \" ><span class=\"txtu hbo\">גָּדֹ֑ול </span></span></span><span class=\"plain  rtl  \" ><span class=\"plain  rtl\"></span><span class=\"plain  rtl  \" ><span class=\"txtu hbo\">וְ</span></span></span><span class=\"plain  rtl  \" ><span class=\"plain  rtl\"></span><span class=\"plain  rtl  \" ><span class=\"txtu hbo\">כָל־</span></span><span class=\"plain  rtl  \" ><span class=\"txtu hbo\">הָ</span></span><span class=\"plain  rtl  \" ><span class=\"txtu hbo\">עָ֛ם </span></span></span></span></span><span class=\"plain  rtl  \" ><span class=\"plain  rtl\"></span><span class=\"plain  rtl  \" ><span class=\"plain  rtl\"></span><span class=\"plain  rtl  \" ><span class=\"txtu hbo\">הַ</span></span></span><span class=\"plain  rtl  \" ><span class=\"plain  rtl\"></span><span class=\"plain  rtl  \" ><span class=\"txtu hbo\">יֹּשְׁבִ֥ים </span></span></span><span class=\"plain  rtl  \" ><span class=\"plain  rtl\"></span><span class=\"plain  rtl  \" ><span class=\"txtu hbo\">בְּ</span></span><span class=\"plain  rtl  \" ><span class=\"txtu hbo\">אֶֽרֶץ־</span></span><span class=\"plain  rtl  \" ><span class=\"txtu hbo\">מִצְרַ֖יִם </span></span></span><span class=\"plain  rtl  \" ><span class=\"plain  rtl\"></span><span class=\"plain  rtl  \" ><span class=\"txtu hbo\">בְּ</span></span><span class=\"plain  rtl  \" ><span class=\"txtu hbo\">פַתְרֹ֥וס </span></span></span></span><span class=\"plain  rtl  \" ><span class=\"plain  rtl\"></span><span class=\"plain  rtl  \" ><span class=\"plain  rtl\"></span><span class=\"plain  rtl  \" ><span class=\"txtu hbo\">לֵ</span></span><span class=\"plain  rtl  \" ><span class=\"txtu hbo\">אמֹֽר׃ </span></span></span></span></span></span></td><td class=\"tf\"><span class=\"plain  l hlbx\"  style=\"border-color: cyan;\" ><span class=\"plain  rtl  \" ><span class=\"plain  rtl\"></span><span class=\"plain  rtl  \" ><span class=\"plain  rtl\"></span><span class=\"plain  rtl  \" ><span class=\"txtu hbo\">וַ</span></span></span><span class=\"plain  rtl  \" ><span class=\"plain  rtl\"></span><span class=\"plain  rtl  \" ><span class=\"txtu hbo\">יַּעֲנ֣וּ </span></span></span><span class=\"plain  rtl  \" ><span class=\"plain  rtl\"></span><span class=\"plain  rtl  \" ><span class=\"txtu hbo\">אֶֽת־</span></span><span class=\"plain  rtl  \" ><span class=\"txtu hbo\">יִרְמְיָ֗הוּ </span></span></span><span class=\"plain  rtl  \" ><span class=\"plain  rtl\"></span><span class=\"plain  rtl  \" ><span class=\"txtu hbo\">כָּל־</span></span><span class=\"plain  rtl  \" ><span class=\"txtu hbo\">הָ</span></span><span class=\"plain  rtl  \" ><span class=\"txtu hbo\">אֲנָשִׁ֤ים </span></span></span></span></span><span class=\"plain  r l hlbx\"  style=\"border-color: cyan;\" ><span class=\"plain  rtl  \" ><span class=\"plain  rtl\"></span><span class=\"plain  rtl  \" ><span class=\"plain  rtl\"></span><span class=\"plain  rtl  \" ><span class=\"txtu hbo\">וְ</span></span></span><span class=\"plain  rtl  \" ><span class=\"plain  rtl\"></span><span class=\"plain  rtl  \" ><span class=\"txtu hbo\">כָל־</span></span><span class=\"plain  rtl  \" ><span class=\"txtu hbo\">הַ</span></span><span class=\"plain  rtl  \" ><span class=\"txtu hbo\">נָּשִׁ֥ים </span></span></span></span></span><span class=\"plain  r hlbx\"  style=\"border-color: cyan;\" ><span class=\"plain  rtl  \" ><span class=\"plain  rtl\"></span><span class=\"plain  rtl  \" ><span class=\"plain  rtl\"></span><span class=\"plain  rtl  \" ><span class=\"txtu hbo\">קָהָ֣ל </span></span><span class=\"plain  rtl  \" ><span class=\"txtu hbo\">גָּדֹ֑ול </span></span></span><span class=\"plain  rtl  \" ><span class=\"plain  rtl\"></span><span class=\"plain  rtl  \" ><span class=\"txtu hbo\">וְ</span></span></span><span class=\"plain  rtl  \" ><span class=\"plain  rtl\"></span><span class=\"plain  rtl  \" ><span class=\"txtu hbo\">כָל־</span></span><span class=\"plain  rtl  \" ><span class=\"txtu hbo\">הָ</span></span><span class=\"plain  rtl  \" ><span class=\"txtu hbo\">עָ֛ם </span></span></span></span></span></td><td class=\"tf\"><span class=\"plain  hlbx\" ><span class=\"plain  rtl  \" ><span class=\"plain  rtl\"></span><span class=\"plain  rtl  \" ><span class=\"plain  rtl\"></span><span class=\"plain  rtl  \" ><span class=\"txtu hbo\">הַ</span></span></span><span class=\"plain  rtl  \" ><span class=\"plain  rtl\"></span><span class=\"plain  rtl  \" ><span class=\"txtu hbo\">יֹּֽדְעִים֙ </span></span></span></span></span></td><td class=\"tf\"><span class=\"plain  hlbx\"  style=\"border-color: magenta;\" ><span class=\"plain  rtl  \" ><span class=\"plain  rtl\"></span><span class=\"plain  rtl  \" ><span class=\"plain  rtl\"></span><span class=\"plain  rtl  \" ><span class=\"txtu hbo\">כִּֽי־</span></span></span><span class=\"plain  hlbx\" ><span class=\"plain  rtl  \" ><span class=\"plain  rtl\"></span><span class=\"plain  rtl  hl\" ><span class=\"txtu hbo\">מְקַטְּרֹ֤ות </span></span></span></span><span class=\"plain  rtl  \" ><span class=\"plain  rtl\"></span><span class=\"plain  rtl  \" ><span class=\"txtu hbo\">נְשֵׁיהֶם֙ </span></span></span><span class=\"plain  rtl  \" ><span class=\"plain  rtl\"></span><span class=\"plain  rtl  \" ><span class=\"txtu hbo\">לֵ</span></span><span class=\"plain  rtl  \" ><span class=\"txtu hbo\">אלֹהִ֣ים </span></span><span class=\"plain  rtl  \" ><span class=\"txtu hbo\">אֲחֵרִ֔ים </span></span></span></span></span></td></tr></table>"
      ],
      "text/plain": [
       "<IPython.core.display.HTML object>"
      ]
     },
     "metadata": {},
     "output_type": "display_data"
    }
   ],
   "source": [
    "skipCols = \"1 6\" # the verses\n",
    "colorMap = {2: 'magenta', 6: 'cyan'}\n",
    "A.table(results, end=1, colorMap=colorMap, skipCols=skipCols)"
   ]
  },
  {
   "cell_type": "code",
   "execution_count": 11,
   "metadata": {
    "ExecuteTime": {
     "end_time": "2018-05-24T09:06:03.554488Z",
     "start_time": "2018-05-24T09:06:03.528480Z"
    }
   },
   "outputs": [
    {
     "data": {
      "text/html": [
       "<p><b>result</b> <i>1</i></p>"
      ],
      "text/plain": [
       "<IPython.core.display.HTML object>"
      ]
     },
     "metadata": {},
     "output_type": "display_data"
    },
    {
     "data": {
      "text/html": [
       "<span class=\"section ltr\"><a target=\"_blank\" href=\"https://shebanq.ancient-data.org/hebrew/text?book=Jeremia&amp;chapter=44&amp;verse=15&amp;version=2017&amp;mr=m&amp;qw=q&amp;tp=txt_p&amp;tr=hb&amp;wget=v&amp;qget=v&amp;nget=vt\" title=\"Show this on SHEBANQ\" sec=\"Jeremiah 44:15\">Jeremiah 44:15</a> </span><div class=\"contnr c3  rtl  \" ><div class=\"lbl c3  \" ><span class=\"nd\">verse</span></div> <div class=\"children row wrap rtl\"><div class=\"contnr c2  rtl  hl\" ><div class=\"lbl c2  hl\" ><span class=\"nd\">sentence</span></div> <div class=\"children row wrap rtl\"><div class=\"contnr cnul trm rtl  \" ><div class=\"children row wrap rtl\"><div class=\"contnr c2  rtl  l hl\"  style=\"background-color: cyan;\" ><div class=\"lbl c2  hl\"  style=\"background-color: cyan;\" ><span class=\"nd\">clause</span></div> <div class=\"children row wrap rtl\"><div class=\"contnr cnul trm rtl  \" ><div class=\"children row wrap rtl\"><div class=\"contnr c1  rtl  \" ><div class=\"lbl c1  \" ><span class=\"nd\">phrase</span></div> <div class=\"children row wrap rtl\"><div class=\"contnr cnul trm rtl  \" ><div class=\"children row wrap rtl\"><div class=\"contnr c0 trm rtl  \" ><div class=\"lbl c0 trm \" ><a class=\" txtu hbo\" target=\"_blank\" href=\"https://shebanq.ancient-data.org/hebrew/word?version=2017&amp;id=1W\" title=\"Show this on SHEBANQ\"><span class=\"txtu hbo\">וַ</span></a></div> <div class='features'><span class=\"sp xft\" ><span class=\"f\">sp=</span>conj</span></div></div></div></div></div></div><div class=\"contnr c1  rtl  \" ><div class=\"lbl c1  \" ><span class=\"nd\">phrase</span></div> <div class=\"children row wrap rtl\"><div class=\"contnr cnul trm rtl  \" ><div class=\"children row wrap rtl\"><div class=\"contnr c0 trm rtl  \" ><div class=\"lbl c0 trm \" ><a class=\" txtu hbo\" target=\"_blank\" href=\"https://shebanq.ancient-data.org/hebrew/word?version=2017&amp;id=1ONHv\" title=\"Show this on SHEBANQ\"><span class=\"txtu hbo\">יַּעֲנ֣וּ </span></a></div> <div class='features'><span class=\"gn xft\" ><span class=\"f\">gn=</span>m</span><span class=\"nu xft\" ><span class=\"f\">nu=</span>pl</span><span class=\"sp xft\" ><span class=\"f\">sp=</span>verb</span></div></div></div></div></div></div><div class=\"contnr c1  rtl  \" ><div class=\"lbl c1  \" ><span class=\"nd\">phrase</span></div> <div class=\"children row wrap rtl\"><div class=\"contnr cnul trm rtl  \" ><div class=\"children row wrap rtl\"><div class=\"contnr c0 trm rtl  \" ><div class=\"lbl c0 trm \" ><a class=\" txtu hbo\" target=\"_blank\" href=\"https://shebanq.ancient-data.org/hebrew/word?version=2017&amp;id=1AT\" title=\"Show this on SHEBANQ\"><span class=\"txtu hbo\">אֶֽת־</span></a></div> <div class='features'><span class=\"sp xft\" ><span class=\"f\">sp=</span>prep</span></div></div><div class=\"contnr c0 trm rtl  \" ><div class=\"lbl c0 trm \" ><a class=\" txtu hbo\" target=\"_blank\" href=\"https://shebanq.ancient-data.org/hebrew/word?version=2017&amp;id=1JRMJHWn\" title=\"Show this on SHEBANQ\"><span class=\"txtu hbo\">יִרְמְיָ֗הוּ </span></a></div> <div class='features'><span class=\"gn xft\" ><span class=\"f\">gn=</span>m</span><span class=\"nu xft\" ><span class=\"f\">nu=</span>sg</span><span class=\"sp xft\" ><span class=\"f\">sp=</span>nmpr</span></div></div></div></div></div></div><div class=\"contnr c1  rtl  l \" ><div class=\"lbl c1  \" ><span class=\"nd\">phrase</span></div> <div class=\"children row wrap rtl\"><div class=\"contnr cnul trm rtl  \" ><div class=\"children row wrap rtl\"><div class=\"contnr c0 trm rtl  \" ><div class=\"lbl c0 trm \" ><a class=\" txtu hbo\" target=\"_blank\" href=\"https://shebanq.ancient-data.org/hebrew/word?version=2017&amp;id=1KLn\" title=\"Show this on SHEBANQ\"><span class=\"txtu hbo\">כָּל־</span></a></div> <div class='features'><span class=\"gn xft\" ><span class=\"f\">gn=</span>m</span><span class=\"nu xft\" ><span class=\"f\">nu=</span>sg</span><span class=\"sp xft\" ><span class=\"f\">sp=</span>subs</span></div></div><div class=\"contnr c0 trm rtl  \" ><div class=\"lbl c0 trm \" ><a class=\" txtu hbo\" target=\"_blank\" href=\"https://shebanq.ancient-data.org/hebrew/word?version=2017&amp;id=1H\" title=\"Show this on SHEBANQ\"><span class=\"txtu hbo\">הָ</span></a></div> <div class='features'><span class=\"sp xft\" ><span class=\"f\">sp=</span>art</span></div></div><div class=\"contnr c0 trm rtl  \" ><div class=\"lbl c0 trm \" ><a class=\" txtu hbo\" target=\"_blank\" href=\"https://shebanq.ancient-data.org/hebrew/word?version=2017&amp;id=1AJCn\" title=\"Show this on SHEBANQ\"><span class=\"txtu hbo\">אֲנָשִׁ֤ים </span></a></div> <div class='features'><span class=\"gn xft\" ><span class=\"f\">gn=</span>m</span><span class=\"nu xft\" ><span class=\"f\">nu=</span>pl</span><span class=\"sp xft\" ><span class=\"f\">sp=</span>subs</span></div></div></div></div></div></div></div></div></div></div><div class=\"contnr c2  rtl  hl\" ><div class=\"lbl c2  hl\" ><span class=\"nd\">clause</span></div> <div class='features'><span class=\"rela xft\" ><span class=\"f\">rela=</span>Attr</span></div><div class=\"children row wrap rtl\"><div class=\"contnr cnul trm rtl  \" ><div class=\"children row wrap rtl\"><div class=\"contnr c1  rtl  \" ><div class=\"lbl c1  \" ><span class=\"nd\">phrase</span></div> <div class=\"children row wrap rtl\"><div class=\"contnr cnul trm rtl  \" ><div class=\"children row wrap rtl\"><div class=\"contnr c0 trm rtl  \" ><div class=\"lbl c0 trm \" ><a class=\" txtu hbo\" target=\"_blank\" href=\"https://shebanq.ancient-data.org/hebrew/word?version=2017&amp;id=1H\" title=\"Show this on SHEBANQ\"><span class=\"txtu hbo\">הַ</span></a></div> <div class='features'><span class=\"sp xft\" ><span class=\"f\">sp=</span>art</span></div></div></div></div></div></div><div class=\"contnr c1  rtl  \" ><div class=\"lbl c1  \" ><span class=\"nd\">phrase</span></div> <div class=\"children row wrap rtl\"><div class=\"contnr cnul trm rtl  \" ><div class=\"children row wrap rtl\"><div class=\"contnr c0 trm rtl  \" ><div class=\"lbl c0 trm \" ><a class=\" txtu hbo\" target=\"_blank\" href=\"https://shebanq.ancient-data.org/hebrew/word?version=2017&amp;id=1JDOv\" title=\"Show this on SHEBANQ\"><span class=\"txtu hbo\">יֹּֽדְעִים֙ </span></a></div> <div class='features'><span class=\"gn xft\" ><span class=\"f\">gn=</span>m</span><span class=\"nu xft\" ><span class=\"f\">nu=</span>pl</span><span class=\"sp xft\" ><span class=\"f\">sp=</span>verb</span></div></div></div></div></div></div></div></div></div></div><div class=\"contnr c2  rtl  hl\"  style=\"background-color: magenta;\" ><div class=\"lbl c2  hl\"  style=\"background-color: magenta;\" ><span class=\"nd\">clause</span></div> <div class='features'><span class=\"rela xft\" ><span class=\"f\">rela=</span>Objc</span></div><div class=\"children row wrap rtl\"><div class=\"contnr cnul trm rtl  \" ><div class=\"children row wrap rtl\"><div class=\"contnr c1  rtl  \" ><div class=\"lbl c1  \" ><span class=\"nd\">phrase</span></div> <div class=\"children row wrap rtl\"><div class=\"contnr cnul trm rtl  \" ><div class=\"children row wrap rtl\"><div class=\"contnr c0 trm rtl  \" ><div class=\"lbl c0 trm \" ><a class=\" txtu hbo\" target=\"_blank\" href=\"https://shebanq.ancient-data.org/hebrew/word?version=2017&amp;id=1KJ\" title=\"Show this on SHEBANQ\"><span class=\"txtu hbo\">כִּֽי־</span></a></div> <div class='features'><span class=\"sp xft\" ><span class=\"f\">sp=</span>conj</span></div></div></div></div></div></div><div class=\"contnr c1  rtl  hl\" ><div class=\"lbl c1  hl\" ><span class=\"nd\">phrase</span></div> <div class=\"children row wrap rtl\"><div class=\"contnr cnul trm rtl  \" ><div class=\"children row wrap rtl\"><div class=\"contnr c0 trm rtl  hl\" ><div class=\"lbl c0 trm hl\" ><a class=\" txtu hbo\" target=\"_blank\" href=\"https://shebanq.ancient-data.org/hebrew/word?version=2017&amp;id=1QVRv\" title=\"Show this on SHEBANQ\"><span class=\"txtu hbo\">מְקַטְּרֹ֤ות </span></a></div> <div class='features'><span class=\"gn xft\" ><span class=\"f\">gn=</span>f</span><span class=\"nu xft\" ><span class=\"f\">nu=</span>pl</span><span class=\"sp xft\" ><span class=\"f\">sp=</span>verb</span></div></div></div></div></div></div><div class=\"contnr c1  rtl  \" ><div class=\"lbl c1  \" ><span class=\"nd\">phrase</span></div> <div class=\"children row wrap rtl\"><div class=\"contnr cnul trm rtl  \" ><div class=\"children row wrap rtl\"><div class=\"contnr c0 trm rtl  \" ><div class=\"lbl c0 trm \" ><a class=\" txtu hbo\" target=\"_blank\" href=\"https://shebanq.ancient-data.org/hebrew/word?version=2017&amp;id=1ACHn\" title=\"Show this on SHEBANQ\"><span class=\"txtu hbo\">נְשֵׁיהֶם֙ </span></a></div> <div class='features'><span class=\"gn xft\" ><span class=\"f\">gn=</span>f</span><span class=\"nu xft\" ><span class=\"f\">nu=</span>pl</span><span class=\"sp xft\" ><span class=\"f\">sp=</span>subs</span></div></div></div></div></div></div><div class=\"contnr c1  rtl  \" ><div class=\"lbl c1  \" ><span class=\"nd\">phrase</span></div> <div class=\"children row wrap rtl\"><div class=\"contnr cnul trm rtl  \" ><div class=\"children row wrap rtl\"><div class=\"contnr c0 trm rtl  \" ><div class=\"lbl c0 trm \" ><a class=\" txtu hbo\" target=\"_blank\" href=\"https://shebanq.ancient-data.org/hebrew/word?version=2017&amp;id=1L\" title=\"Show this on SHEBANQ\"><span class=\"txtu hbo\">לֵ</span></a></div> <div class='features'><span class=\"sp xft\" ><span class=\"f\">sp=</span>prep</span></div></div><div class=\"contnr c0 trm rtl  \" ><div class=\"lbl c0 trm \" ><a class=\" txtu hbo\" target=\"_blank\" href=\"https://shebanq.ancient-data.org/hebrew/word?version=2017&amp;id=1ALHJMn\" title=\"Show this on SHEBANQ\"><span class=\"txtu hbo\">אלֹהִ֣ים </span></a></div> <div class='features'><span class=\"gn xft\" ><span class=\"f\">gn=</span>m</span><span class=\"nu xft\" ><span class=\"f\">nu=</span>pl</span><span class=\"sp xft\" ><span class=\"f\">sp=</span>subs</span></div></div><div class=\"contnr c0 trm rtl  \" ><div class=\"lbl c0 trm \" ><a class=\" txtu hbo\" target=\"_blank\" href=\"https://shebanq.ancient-data.org/hebrew/word?version=2017&amp;id=1AXRin\" title=\"Show this on SHEBANQ\"><span class=\"txtu hbo\">אֲחֵרִ֔ים </span></a></div> <div class='features'><span class=\"gn xft\" ><span class=\"f\">gn=</span>m</span><span class=\"nu xft\" ><span class=\"f\">nu=</span>pl</span><span class=\"sp xft\" ><span class=\"f\">sp=</span>adjv</span></div></div></div></div></div></div></div></div></div></div><div class=\"contnr c2  rtl  r l hl\"  style=\"background-color: cyan;\" ><div class=\"lbl c2  hl\"  style=\"background-color: cyan;\" ><span class=\"nd\">clause</span></div> <div class=\"children row wrap rtl\"><div class=\"contnr cnul trm rtl  \" ><div class=\"children row wrap rtl\"><div class=\"contnr c1  rtl  r l \" ><div class=\"lbl c1  \" ><span class=\"nd\">phrase</span></div> <div class=\"children row wrap rtl\"><div class=\"contnr cnul trm rtl  \" ><div class=\"children row wrap rtl\"><div class=\"contnr c0 trm rtl  \" ><div class=\"lbl c0 trm \" ><a class=\" txtu hbo\" target=\"_blank\" href=\"https://shebanq.ancient-data.org/hebrew/word?version=2017&amp;id=1W\" title=\"Show this on SHEBANQ\"><span class=\"txtu hbo\">וְ</span></a></div> <div class='features'><span class=\"sp xft\" ><span class=\"f\">sp=</span>conj</span></div></div></div></div></div></div><div class=\"contnr c1  rtl  r l \" ><div class=\"lbl c1  \" ><span class=\"nd\">phrase</span></div> <div class=\"children row wrap rtl\"><div class=\"contnr cnul trm rtl  \" ><div class=\"children row wrap rtl\"><div class=\"contnr c0 trm rtl  \" ><div class=\"lbl c0 trm \" ><a class=\" txtu hbo\" target=\"_blank\" href=\"https://shebanq.ancient-data.org/hebrew/word?version=2017&amp;id=1KLn\" title=\"Show this on SHEBANQ\"><span class=\"txtu hbo\">כָל־</span></a></div> <div class='features'><span class=\"gn xft\" ><span class=\"f\">gn=</span>m</span><span class=\"nu xft\" ><span class=\"f\">nu=</span>sg</span><span class=\"sp xft\" ><span class=\"f\">sp=</span>subs</span></div></div><div class=\"contnr c0 trm rtl  \" ><div class=\"lbl c0 trm \" ><a class=\" txtu hbo\" target=\"_blank\" href=\"https://shebanq.ancient-data.org/hebrew/word?version=2017&amp;id=1H\" title=\"Show this on SHEBANQ\"><span class=\"txtu hbo\">הַ</span></a></div> <div class='features'><span class=\"sp xft\" ><span class=\"f\">sp=</span>art</span></div></div><div class=\"contnr c0 trm rtl  \" ><div class=\"lbl c0 trm \" ><a class=\" txtu hbo\" target=\"_blank\" href=\"https://shebanq.ancient-data.org/hebrew/word?version=2017&amp;id=1ACHn\" title=\"Show this on SHEBANQ\"><span class=\"txtu hbo\">נָּשִׁ֥ים </span></a></div> <div class='features'><span class=\"gn xft\" ><span class=\"f\">gn=</span>f</span><span class=\"nu xft\" ><span class=\"f\">nu=</span>pl</span><span class=\"sp xft\" ><span class=\"f\">sp=</span>subs</span></div></div></div></div></div></div></div></div></div></div><div class=\"contnr c2  rtl  \" ><div class=\"lbl c2  \" ><span class=\"nd\">clause</span></div> <div class='features'><span class=\"rela xft\" ><span class=\"f\">rela=</span>Attr</span></div><div class=\"children row wrap rtl\"><div class=\"contnr cnul trm rtl  \" ><div class=\"children row wrap rtl\"><div class=\"contnr c1  rtl  \" ><div class=\"lbl c1  \" ><span class=\"nd\">phrase</span></div> <div class=\"children row wrap rtl\"><div class=\"contnr cnul trm rtl  \" ><div class=\"children row wrap rtl\"><div class=\"contnr c0 trm rtl  \" ><div class=\"lbl c0 trm \" ><a class=\" txtu hbo\" target=\"_blank\" href=\"https://shebanq.ancient-data.org/hebrew/word?version=2017&amp;id=1H\" title=\"Show this on SHEBANQ\"><span class=\"txtu hbo\">הָ</span></a></div> <div class='features'><span class=\"sp xft\" ><span class=\"f\">sp=</span>art</span></div></div></div></div></div></div><div class=\"contnr c1  rtl  \" ><div class=\"lbl c1  \" ><span class=\"nd\">phrase</span></div> <div class=\"children row wrap rtl\"><div class=\"contnr cnul trm rtl  \" ><div class=\"children row wrap rtl\"><div class=\"contnr c0 trm rtl  \" ><div class=\"lbl c0 trm \" ><a class=\" txtu hbo\" target=\"_blank\" href=\"https://shebanq.ancient-data.org/hebrew/word?version=2017&amp;id=1OMDv\" title=\"Show this on SHEBANQ\"><span class=\"txtu hbo\">עֹמְדֹ֖ות </span></a></div> <div class='features'><span class=\"gn xft\" ><span class=\"f\">gn=</span>f</span><span class=\"nu xft\" ><span class=\"f\">nu=</span>pl</span><span class=\"sp xft\" ><span class=\"f\">sp=</span>verb</span></div></div></div></div></div></div></div></div></div></div><div class=\"contnr c2  rtl  r hl\"  style=\"background-color: cyan;\" ><div class=\"lbl c2  hl\"  style=\"background-color: cyan;\" ><span class=\"nd\">clause</span></div> <div class=\"children row wrap rtl\"><div class=\"contnr cnul trm rtl  \" ><div class=\"children row wrap rtl\"><div class=\"contnr c1  rtl  r l \" ><div class=\"lbl c1  \" ><span class=\"nd\">phrase</span></div> <div class=\"children row wrap rtl\"><div class=\"contnr cnul trm rtl  \" ><div class=\"children row wrap rtl\"><div class=\"contnr c0 trm rtl  \" ><div class=\"lbl c0 trm \" ><a class=\" txtu hbo\" target=\"_blank\" href=\"https://shebanq.ancient-data.org/hebrew/word?version=2017&amp;id=1QHLn\" title=\"Show this on SHEBANQ\"><span class=\"txtu hbo\">קָהָ֣ל </span></a></div> <div class='features'><span class=\"gn xft\" ><span class=\"f\">gn=</span>m</span><span class=\"nu xft\" ><span class=\"f\">nu=</span>sg</span><span class=\"sp xft\" ><span class=\"f\">sp=</span>subs</span></div></div><div class=\"contnr c0 trm rtl  \" ><div class=\"lbl c0 trm \" ><a class=\" txtu hbo\" target=\"_blank\" href=\"https://shebanq.ancient-data.org/hebrew/word?version=2017&amp;id=1GDWLn\" title=\"Show this on SHEBANQ\"><span class=\"txtu hbo\">גָּדֹ֑ול </span></a></div> <div class='features'><span class=\"gn xft\" ><span class=\"f\">gn=</span>m</span><span class=\"nu xft\" ><span class=\"f\">nu=</span>sg</span><span class=\"sp xft\" ><span class=\"f\">sp=</span>adjv</span></div></div></div></div></div></div><div class=\"contnr c1  rtl  r l \" ><div class=\"lbl c1  \" ><span class=\"nd\">phrase</span></div> <div class=\"children row wrap rtl\"><div class=\"contnr cnul trm rtl  \" ><div class=\"children row wrap rtl\"><div class=\"contnr c0 trm rtl  \" ><div class=\"lbl c0 trm \" ><a class=\" txtu hbo\" target=\"_blank\" href=\"https://shebanq.ancient-data.org/hebrew/word?version=2017&amp;id=1W\" title=\"Show this on SHEBANQ\"><span class=\"txtu hbo\">וְ</span></a></div> <div class='features'><span class=\"sp xft\" ><span class=\"f\">sp=</span>conj</span></div></div></div></div></div></div><div class=\"contnr c1  rtl  r \" ><div class=\"lbl c1  \" ><span class=\"nd\">phrase</span></div> <div class=\"children row wrap rtl\"><div class=\"contnr cnul trm rtl  \" ><div class=\"children row wrap rtl\"><div class=\"contnr c0 trm rtl  \" ><div class=\"lbl c0 trm \" ><a class=\" txtu hbo\" target=\"_blank\" href=\"https://shebanq.ancient-data.org/hebrew/word?version=2017&amp;id=1KLn\" title=\"Show this on SHEBANQ\"><span class=\"txtu hbo\">כָל־</span></a></div> <div class='features'><span class=\"gn xft\" ><span class=\"f\">gn=</span>m</span><span class=\"nu xft\" ><span class=\"f\">nu=</span>sg</span><span class=\"sp xft\" ><span class=\"f\">sp=</span>subs</span></div></div><div class=\"contnr c0 trm rtl  \" ><div class=\"lbl c0 trm \" ><a class=\" txtu hbo\" target=\"_blank\" href=\"https://shebanq.ancient-data.org/hebrew/word?version=2017&amp;id=1H\" title=\"Show this on SHEBANQ\"><span class=\"txtu hbo\">הָ</span></a></div> <div class='features'><span class=\"sp xft\" ><span class=\"f\">sp=</span>art</span></div></div><div class=\"contnr c0 trm rtl  \" ><div class=\"lbl c0 trm \" ><a class=\" txtu hbo\" target=\"_blank\" href=\"https://shebanq.ancient-data.org/hebrew/word?version=2017&amp;id=1OMn\" title=\"Show this on SHEBANQ\"><span class=\"txtu hbo\">עָ֛ם </span></a></div> <div class='features'><span class=\"gn xft\" ><span class=\"f\">gn=</span>m</span><span class=\"nu xft\" ><span class=\"f\">nu=</span>sg</span><span class=\"sp xft\" ><span class=\"f\">sp=</span>subs</span></div></div></div></div></div></div></div></div></div></div><div class=\"contnr c2  rtl  \" ><div class=\"lbl c2  \" ><span class=\"nd\">clause</span></div> <div class='features'><span class=\"rela xft\" ><span class=\"f\">rela=</span>Attr</span></div><div class=\"children row wrap rtl\"><div class=\"contnr cnul trm rtl  \" ><div class=\"children row wrap rtl\"><div class=\"contnr c1  rtl  \" ><div class=\"lbl c1  \" ><span class=\"nd\">phrase</span></div> <div class=\"children row wrap rtl\"><div class=\"contnr cnul trm rtl  \" ><div class=\"children row wrap rtl\"><div class=\"contnr c0 trm rtl  \" ><div class=\"lbl c0 trm \" ><a class=\" txtu hbo\" target=\"_blank\" href=\"https://shebanq.ancient-data.org/hebrew/word?version=2017&amp;id=1H\" title=\"Show this on SHEBANQ\"><span class=\"txtu hbo\">הַ</span></a></div> <div class='features'><span class=\"sp xft\" ><span class=\"f\">sp=</span>art</span></div></div></div></div></div></div><div class=\"contnr c1  rtl  \" ><div class=\"lbl c1  \" ><span class=\"nd\">phrase</span></div> <div class=\"children row wrap rtl\"><div class=\"contnr cnul trm rtl  \" ><div class=\"children row wrap rtl\"><div class=\"contnr c0 trm rtl  \" ><div class=\"lbl c0 trm \" ><a class=\" txtu hbo\" target=\"_blank\" href=\"https://shebanq.ancient-data.org/hebrew/word?version=2017&amp;id=1JCBv\" title=\"Show this on SHEBANQ\"><span class=\"txtu hbo\">יֹּשְׁבִ֥ים </span></a></div> <div class='features'><span class=\"gn xft\" ><span class=\"f\">gn=</span>m</span><span class=\"nu xft\" ><span class=\"f\">nu=</span>pl</span><span class=\"sp xft\" ><span class=\"f\">sp=</span>verb</span></div></div></div></div></div></div><div class=\"contnr c1  rtl  \" ><div class=\"lbl c1  \" ><span class=\"nd\">phrase</span></div> <div class=\"children row wrap rtl\"><div class=\"contnr cnul trm rtl  \" ><div class=\"children row wrap rtl\"><div class=\"contnr c0 trm rtl  \" ><div class=\"lbl c0 trm \" ><a class=\" txtu hbo\" target=\"_blank\" href=\"https://shebanq.ancient-data.org/hebrew/word?version=2017&amp;id=1B\" title=\"Show this on SHEBANQ\"><span class=\"txtu hbo\">בְּ</span></a></div> <div class='features'><span class=\"sp xft\" ><span class=\"f\">sp=</span>prep</span></div></div><div class=\"contnr c0 trm rtl  \" ><div class=\"lbl c0 trm \" ><a class=\" txtu hbo\" target=\"_blank\" href=\"https://shebanq.ancient-data.org/hebrew/word?version=2017&amp;id=1ARYn\" title=\"Show this on SHEBANQ\"><span class=\"txtu hbo\">אֶֽרֶץ־</span></a></div> <div class='features'><span class=\"nu xft\" ><span class=\"f\">nu=</span>sg</span><span class=\"sp xft\" ><span class=\"f\">sp=</span>subs</span></div></div><div class=\"contnr c0 trm rtl  \" ><div class=\"lbl c0 trm \" ><a class=\" txtu hbo\" target=\"_blank\" href=\"https://shebanq.ancient-data.org/hebrew/word?version=2017&amp;id=1MYRJMn\" title=\"Show this on SHEBANQ\"><span class=\"txtu hbo\">מִצְרַ֖יִם </span></a></div> <div class='features'><span class=\"nu xft\" ><span class=\"f\">nu=</span>sg</span><span class=\"sp xft\" ><span class=\"f\">sp=</span>nmpr</span></div></div></div></div></div></div><div class=\"contnr c1  rtl  \" ><div class=\"lbl c1  \" ><span class=\"nd\">phrase</span></div> <div class=\"children row wrap rtl\"><div class=\"contnr cnul trm rtl  \" ><div class=\"children row wrap rtl\"><div class=\"contnr c0 trm rtl  \" ><div class=\"lbl c0 trm \" ><a class=\" txtu hbo\" target=\"_blank\" href=\"https://shebanq.ancient-data.org/hebrew/word?version=2017&amp;id=1B\" title=\"Show this on SHEBANQ\"><span class=\"txtu hbo\">בְּ</span></a></div> <div class='features'><span class=\"sp xft\" ><span class=\"f\">sp=</span>prep</span></div></div><div class=\"contnr c0 trm rtl  \" ><div class=\"lbl c0 trm \" ><a class=\" txtu hbo\" target=\"_blank\" href=\"https://shebanq.ancient-data.org/hebrew/word?version=2017&amp;id=1PTRWSn\" title=\"Show this on SHEBANQ\"><span class=\"txtu hbo\">פַתְרֹ֥וס </span></a></div> <div class='features'><span class=\"nu xft\" ><span class=\"f\">nu=</span>sg</span><span class=\"sp xft\" ><span class=\"f\">sp=</span>nmpr</span></div></div></div></div></div></div></div></div></div></div><div class=\"contnr c2  rtl  \" ><div class=\"lbl c2  \" ><span class=\"nd\">clause</span></div> <div class='features'><span class=\"rela xft\" ><span class=\"f\">rela=</span>Adju</span></div><div class=\"children row wrap rtl\"><div class=\"contnr cnul trm rtl  \" ><div class=\"children row wrap rtl\"><div class=\"contnr c1  rtl  \" ><div class=\"lbl c1  \" ><span class=\"nd\">phrase</span></div> <div class=\"children row wrap rtl\"><div class=\"contnr cnul trm rtl  \" ><div class=\"children row wrap rtl\"><div class=\"contnr c0 trm rtl  \" ><div class=\"lbl c0 trm \" ><a class=\" txtu hbo\" target=\"_blank\" href=\"https://shebanq.ancient-data.org/hebrew/word?version=2017&amp;id=1L\" title=\"Show this on SHEBANQ\"><span class=\"txtu hbo\">לֵ</span></a></div> <div class='features'><span class=\"sp xft\" ><span class=\"f\">sp=</span>prep</span></div></div><div class=\"contnr c0 trm rtl  \" ><div class=\"lbl c0 trm \" ><a class=\" txtu hbo\" target=\"_blank\" href=\"https://shebanq.ancient-data.org/hebrew/word?version=2017&amp;id=1AMRv\" title=\"Show this on SHEBANQ\"><span class=\"txtu hbo\">אמֹֽר׃ </span></a></div> <div class='features'><span class=\"sp xft\" ><span class=\"f\">sp=</span>verb</span></div></div></div></div></div></div></div></div></div></div></div></div></div></div></div></div>"
      ],
      "text/plain": [
       "<IPython.core.display.HTML object>"
      ]
     },
     "metadata": {},
     "output_type": "display_data"
    }
   ],
   "source": [
    "A.show(results, end=1, colorMap=colorMap, skipCols=skipCols)"
   ]
  },
  {
   "cell_type": "markdown",
   "metadata": {},
   "source": [
    "## # unequal as node\n",
    "\n",
    "`n # m` if `n` and `m` are not the same node.\n",
    "\n",
    "If you write a template, and you know that one node should come before another one,\n",
    "consider using `<` or `>`, which will constrain the results better.\n",
    "\n",
    "We have seen this in action in the search for gapped phrases."
   ]
  },
  {
   "cell_type": "markdown",
   "metadata": {},
   "source": [
    "## < and > canonical order\n",
    "\n",
    "`n < m` if `n` comes before `m` in the\n",
    "[canonical ordering](https://annotation.github.io/text-fabric/Api/General/#navigating-nodes)\n",
    "of nodes.\n",
    "\n",
    "We have seen them in action before."
   ]
  },
  {
   "cell_type": "markdown",
   "metadata": {},
   "source": [
    "# Space occupation\n",
    "\n",
    "We show that the following relationships also work with custom sets, as introduced in the \n",
    "[searchAdvanced tutorial](searchAdvanced.ipynb).\n",
    "\n",
    "We make two custom sets, `common` and `rare`, consisting of nodes whose contained slots have all\n",
    "common lexemes or some rare lexemes, like we did in\n",
    "[searchAdvanced](searchAdvanced.ipynb)."
   ]
  },
  {
   "cell_type": "code",
   "execution_count": 12,
   "metadata": {
    "ExecuteTime": {
     "end_time": "2018-05-24T08:06:08.187551Z",
     "start_time": "2018-05-24T08:06:00.209985Z"
    }
   },
   "outputs": [
    {
     "name": "stdout",
     "output_type": "stream",
     "text": [
      "669178 members in set common\n",
      "424746 members in set rare\n"
     ]
    }
   ],
   "source": [
    "COMMON_RANK = 100\n",
    "RARE_RANK = 500\n",
    "\n",
    "common = set()\n",
    "rare = set()\n",
    "\n",
    "for n in N():\n",
    "    nTp = F.otype.v(n)\n",
    "    if nTp == 'lex':\n",
    "       continue\n",
    "    if nTp == 'word':\n",
    "        ranks = [F.rank_lex.v(n)]\n",
    "    else:\n",
    "        ranks = [F.rank_lex.v(w) for w in L.d(n, otype='word')]\n",
    "    maxRank = max(ranks)\n",
    "    minRank = min(ranks)\n",
    "    if maxRank < COMMON_RANK:\n",
    "        common.add(n)\n",
    "    if maxRank > RARE_RANK:\n",
    "        rare.add(n)\n",
    "        \n",
    "print(f'{len(common):>6} members in set common')\n",
    "print(f'{len(rare):>6} members in set rare')"
   ]
  },
  {
   "cell_type": "markdown",
   "metadata": {},
   "source": [
    "Now we can do all kinds of searches within the domain of `common` and `rare` things.\n",
    "\n",
    "We give the names to all the sets and put them in a dictionary."
   ]
  },
  {
   "cell_type": "code",
   "execution_count": 13,
   "metadata": {
    "ExecuteTime": {
     "end_time": "2018-05-24T08:07:11.688552Z",
     "start_time": "2018-05-24T08:07:11.685127Z"
    }
   },
   "outputs": [],
   "source": [
    "customSets=dict(\n",
    "    common=common,\n",
    "    rare=rare,\n",
    ")"
   ]
  },
  {
   "cell_type": "markdown",
   "metadata": {},
   "source": [
    "**Expert remark**\n",
    "\n",
    "Note that these sets contain both slot nodes and non-slot nodes. \n",
    "The code that implements the basic relationship is heavily optimized and contains case distinctions as to whether nodes are slot\n",
    "or non-slot.\n",
    "For ordinary node types, it is clear on beforehand whether its nodes are slot or non-slot, but custom sets may contain both.\n",
    "\n",
    "So our `frequent` and `infrequent` sets are good tests whether the basic relationships are correctly implemented."
   ]
  },
  {
   "cell_type": "markdown",
   "metadata": {},
   "source": [
    "## == same slots\n",
    "\n",
    "Two objects are extensionally equal if they occupy exactly the same slots."
   ]
  },
  {
   "cell_type": "code",
   "execution_count": 14,
   "metadata": {
    "ExecuteTime": {
     "end_time": "2018-05-24T09:15:45.123089Z",
     "start_time": "2018-05-24T09:15:19.569287Z"
    }
   },
   "outputs": [
    {
     "name": "stdout",
     "output_type": "stream",
     "text": [
      "  0.78s 3601 results\n"
     ]
    }
   ],
   "source": [
    "indent(reset=True)\n",
    "query = '''\n",
    "v:verse\n",
    "    s:sentence\n",
    "v == s\n",
    "'''\n",
    "results = A.search(query)"
   ]
  },
  {
   "cell_type": "code",
   "execution_count": 17,
   "metadata": {
    "ExecuteTime": {
     "end_time": "2018-05-24T09:15:45.123089Z",
     "start_time": "2018-05-24T09:15:19.569287Z"
    }
   },
   "outputs": [
    {
     "data": {
      "text/html": [
       "<table><tr class=\"tf\"><th class=\"tf\">n</th><th class=\"tf\">p</th><th class=\"tf\">sentence</th></tr>\n",
       "<tr class=\"tf\"><td class=\"tf\">1</td><td class=\"tf\"><span class=\"section ltr\"><a target=\"_blank\" href=\"https://shebanq.ancient-data.org/hebrew/text?book=Genesis&amp;chapter=1&amp;verse=1&amp;version=2017&amp;mr=m&amp;qw=q&amp;tp=txt_p&amp;tr=hb&amp;wget=v&amp;qget=v&amp;nget=vt\" title=\"Show this on SHEBANQ\" sec=\"Genesis 1:1\">Genesis 1:1</a></span></td><td class=\"tf\"><span class=\"plain  hlbx\" ><span class=\"plain  rtl  \" ><span class=\"plain  rtl\"></span><span class=\"plain  rtl  \" ><span class=\"plain  rtl\"></span><span class=\"plain  rtl  \" ><span class=\"plain  rtl\"></span><span class=\"plain  rtl  \" ><span class=\"txtu hbo\">בְּ</span></span><span class=\"plain  rtl  \" ><span class=\"txtu hbo\">רֵאשִׁ֖ית </span></span></span><span class=\"plain  rtl  \" ><span class=\"plain  rtl\"></span><span class=\"plain  rtl  \" ><span class=\"txtu hbo\">בָּרָ֣א </span></span></span><span class=\"plain  rtl  \" ><span class=\"plain  rtl\"></span><span class=\"plain  rtl  \" ><span class=\"txtu hbo\">אֱלֹהִ֑ים </span></span></span><span class=\"plain  rtl  \" ><span class=\"plain  rtl\"></span><span class=\"plain  rtl  \" ><span class=\"txtu hbo\">אֵ֥ת </span></span><span class=\"plain  rtl  \" ><span class=\"txtu hbo\">הַ</span></span><span class=\"plain  rtl  \" ><span class=\"txtu hbo\">שָּׁמַ֖יִם </span></span><span class=\"plain  rtl  \" ><span class=\"txtu hbo\">וְ</span></span><span class=\"plain  rtl  \" ><span class=\"txtu hbo\">אֵ֥ת </span></span><span class=\"plain  rtl  \" ><span class=\"txtu hbo\">הָ</span></span><span class=\"plain  rtl  \" ><span class=\"txtu hbo\">אָֽרֶץ׃ </span></span></span></span></span></span></td></tr>\n",
       "<tr class=\"tf\"><td class=\"tf\">2</td><td class=\"tf\"><span class=\"section ltr\"><a target=\"_blank\" href=\"https://shebanq.ancient-data.org/hebrew/text?book=Genesis&amp;chapter=1&amp;verse=16&amp;version=2017&amp;mr=m&amp;qw=q&amp;tp=txt_p&amp;tr=hb&amp;wget=v&amp;qget=v&amp;nget=vt\" title=\"Show this on SHEBANQ\" sec=\"Genesis 1:16\">Genesis 1:16</a></span></td><td class=\"tf\"><span class=\"plain  hlbx\" ><span class=\"plain  rtl  \" ><span class=\"plain  rtl\"></span><span class=\"plain  rtl  \" ><span class=\"plain  rtl\"></span><span class=\"plain  rtl  \" ><span class=\"plain  rtl\"></span><span class=\"plain  rtl  \" ><span class=\"txtu hbo\">וַ</span></span></span><span class=\"plain  rtl  \" ><span class=\"plain  rtl\"></span><span class=\"plain  rtl  \" ><span class=\"txtu hbo\">יַּ֣עַשׂ </span></span></span><span class=\"plain  rtl  \" ><span class=\"plain  rtl\"></span><span class=\"plain  rtl  \" ><span class=\"txtu hbo\">אֱלֹהִ֔ים </span></span></span><span class=\"plain  rtl  \" ><span class=\"plain  rtl\"></span><span class=\"plain  rtl  \" ><span class=\"txtu hbo\">אֶת־</span></span><span class=\"plain  rtl  \" ><span class=\"txtu hbo\">שְׁנֵ֥י </span></span><span class=\"plain  rtl  \" ><span class=\"txtu hbo\">הַ</span></span><span class=\"plain  rtl  \" ><span class=\"txtu hbo\">מְּאֹרֹ֖ת </span></span><span class=\"plain  rtl  \" ><span class=\"txtu hbo\">הַ</span></span><span class=\"plain  rtl  \" ><span class=\"txtu hbo\">גְּדֹלִ֑ים </span></span></span><span class=\"plain  rtl  \" ><span class=\"plain  rtl\"></span><span class=\"plain  rtl  \" ><span class=\"txtu hbo\">אֶת־</span></span><span class=\"plain  rtl  \" ><span class=\"txtu hbo\">הַ</span></span><span class=\"plain  rtl  \" ><span class=\"txtu hbo\">מָּאֹ֤ור </span></span><span class=\"plain  rtl  \" ><span class=\"txtu hbo\">הַ</span></span><span class=\"plain  rtl  \" ><span class=\"txtu hbo\">גָּדֹל֙ </span></span></span><span class=\"plain  rtl  \" ><span class=\"plain  rtl\"></span><span class=\"plain  rtl  \" ><span class=\"txtu hbo\">לְ</span></span><span class=\"plain  rtl  \" ><span class=\"txtu hbo\">מֶמְשֶׁ֣לֶת </span></span><span class=\"plain  rtl  \" ><span class=\"txtu hbo\">הַ</span></span><span class=\"plain  rtl  \" ><span class=\"txtu hbo\">יֹּ֔ום </span></span></span><span class=\"plain  rtl  \" ><span class=\"plain  rtl\"></span><span class=\"plain  rtl  \" ><span class=\"txtu hbo\">וְ</span></span></span><span class=\"plain  rtl  \" ><span class=\"plain  rtl\"></span><span class=\"plain  rtl  \" ><span class=\"txtu hbo\">אֶת־</span></span><span class=\"plain  rtl  \" ><span class=\"txtu hbo\">הַ</span></span><span class=\"plain  rtl  \" ><span class=\"txtu hbo\">מָּאֹ֤ור </span></span><span class=\"plain  rtl  \" ><span class=\"txtu hbo\">הַ</span></span><span class=\"plain  rtl  \" ><span class=\"txtu hbo\">קָּטֹן֙ </span></span></span><span class=\"plain  rtl  \" ><span class=\"plain  rtl\"></span><span class=\"plain  rtl  \" ><span class=\"txtu hbo\">לְ</span></span><span class=\"plain  rtl  \" ><span class=\"txtu hbo\">מֶמְשֶׁ֣לֶת </span></span><span class=\"plain  rtl  \" ><span class=\"txtu hbo\">הַ</span></span><span class=\"plain  rtl  \" ><span class=\"txtu hbo\">לַּ֔יְלָה </span></span></span><span class=\"plain  rtl  \" ><span class=\"plain  rtl\"></span><span class=\"plain  rtl  \" ><span class=\"txtu hbo\">וְ</span></span></span><span class=\"plain  rtl  \" ><span class=\"plain  rtl\"></span><span class=\"plain  rtl  \" ><span class=\"txtu hbo\">אֵ֖ת </span></span><span class=\"plain  rtl  \" ><span class=\"txtu hbo\">הַ</span></span><span class=\"plain  rtl  \" ><span class=\"txtu hbo\">כֹּוכָבִֽים׃ </span></span></span></span></span></span></td></tr>\n",
       "<tr class=\"tf\"><td class=\"tf\">3</td><td class=\"tf\"><span class=\"section ltr\"><a target=\"_blank\" href=\"https://shebanq.ancient-data.org/hebrew/text?book=Genesis&amp;chapter=2&amp;verse=1&amp;version=2017&amp;mr=m&amp;qw=q&amp;tp=txt_p&amp;tr=hb&amp;wget=v&amp;qget=v&amp;nget=vt\" title=\"Show this on SHEBANQ\" sec=\"Genesis 2:1\">Genesis 2:1</a></span></td><td class=\"tf\"><span class=\"plain  hlbx\" ><span class=\"plain  rtl  \" ><span class=\"plain  rtl\"></span><span class=\"plain  rtl  \" ><span class=\"plain  rtl\"></span><span class=\"plain  rtl  \" ><span class=\"plain  rtl\"></span><span class=\"plain  rtl  \" ><span class=\"txtu hbo\">וַ</span></span></span><span class=\"plain  rtl  \" ><span class=\"plain  rtl\"></span><span class=\"plain  rtl  \" ><span class=\"txtu hbo\">יְכֻלּ֛וּ </span></span></span><span class=\"plain  rtl  \" ><span class=\"plain  rtl\"></span><span class=\"plain  rtl  \" ><span class=\"txtu hbo\">הַ</span></span><span class=\"plain  rtl  \" ><span class=\"txtu hbo\">שָּׁמַ֥יִם </span></span><span class=\"plain  rtl  \" ><span class=\"txtu hbo\">וְ</span></span><span class=\"plain  rtl  \" ><span class=\"txtu hbo\">הָ</span></span><span class=\"plain  rtl  \" ><span class=\"txtu hbo\">אָ֖רֶץ </span></span><span class=\"plain  rtl  \" ><span class=\"txtu hbo\">וְ</span></span><span class=\"plain  rtl  \" ><span class=\"txtu hbo\">כָל־</span></span><span class=\"plain  rtl  \" ><span class=\"txtu hbo\">צְבָאָֽם׃ </span></span></span></span></span></span></td></tr>\n",
       "<tr class=\"tf\"><td class=\"tf\">4</td><td class=\"tf\"><span class=\"section ltr\"><a target=\"_blank\" href=\"https://shebanq.ancient-data.org/hebrew/text?book=Genesis&amp;chapter=2&amp;verse=9&amp;version=2017&amp;mr=m&amp;qw=q&amp;tp=txt_p&amp;tr=hb&amp;wget=v&amp;qget=v&amp;nget=vt\" title=\"Show this on SHEBANQ\" sec=\"Genesis 2:9\">Genesis 2:9</a></span></td><td class=\"tf\"><span class=\"plain  hlbx\" ><span class=\"plain  rtl  \" ><span class=\"plain  rtl\"></span><span class=\"plain  rtl  \" ><span class=\"plain  rtl\"></span><span class=\"plain  rtl  \" ><span class=\"plain  rtl\"></span><span class=\"plain  rtl  \" ><span class=\"txtu hbo\">וַ</span></span></span><span class=\"plain  rtl  \" ><span class=\"plain  rtl\"></span><span class=\"plain  rtl  \" ><span class=\"txtu hbo\">יַּצְמַ֞ח </span></span></span><span class=\"plain  rtl  \" ><span class=\"plain  rtl\"></span><span class=\"plain  rtl  \" ><span class=\"txtu hbo\">יְהוָ֤ה </span></span><span class=\"plain  rtl  \" ><span class=\"txtu hbo\">אֱלֹהִים֙ </span></span></span><span class=\"plain  rtl  \" ><span class=\"plain  rtl\"></span><span class=\"plain  rtl  \" ><span class=\"txtu hbo\">מִן־</span></span><span class=\"plain  rtl  \" ><span class=\"txtu hbo\">הָ֣</span></span><span class=\"plain  rtl  \" ><span class=\"txtu hbo\">אֲדָמָ֔ה </span></span></span><span class=\"plain  rtl  \" ><span class=\"plain  rtl\"></span><span class=\"plain  rtl  \" ><span class=\"txtu hbo\">כָּל־</span></span><span class=\"plain  rtl  \" ><span class=\"txtu hbo\">עֵ֛ץ </span></span></span></span><span class=\"plain  rtl  \" ><span class=\"plain  rtl\"></span><span class=\"plain  rtl  \" ><span class=\"plain  rtl\"></span><span class=\"plain  rtl  \" ><span class=\"txtu hbo\">נֶחְמָ֥ד </span></span></span><span class=\"plain  rtl  \" ><span class=\"plain  rtl\"></span><span class=\"plain  rtl  \" ><span class=\"txtu hbo\">לְ</span></span><span class=\"plain  rtl  \" ><span class=\"txtu hbo\">מַרְאֶ֖ה </span></span></span></span><span class=\"plain  rtl  \" ><span class=\"plain  rtl\"></span><span class=\"plain  rtl  \" ><span class=\"plain  rtl\"></span><span class=\"plain  rtl  \" ><span class=\"txtu hbo\">וְ</span></span></span><span class=\"plain  rtl  \" ><span class=\"plain  rtl\"></span><span class=\"plain  rtl  \" ><span class=\"txtu hbo\">טֹ֣וב </span></span></span><span class=\"plain  rtl  \" ><span class=\"plain  rtl\"></span><span class=\"plain  rtl  \" ><span class=\"txtu hbo\">לְ</span></span><span class=\"plain  rtl  \" ><span class=\"txtu hbo\">מַאֲכָ֑ל </span></span></span></span><span class=\"plain  rtl  \" ><span class=\"plain  rtl\"></span><span class=\"plain  rtl  \" ><span class=\"plain  rtl\"></span><span class=\"plain  rtl  \" ><span class=\"txtu hbo\">וְ</span></span></span><span class=\"plain  rtl  \" ><span class=\"plain  rtl\"></span><span class=\"plain  rtl  \" ><span class=\"txtu hbo\">עֵ֤ץ </span></span><span class=\"plain  rtl  \" ><span class=\"txtu hbo\">הַֽ</span></span><span class=\"plain  rtl  \" ><span class=\"txtu hbo\">חַיִּים֙ </span></span></span><span class=\"plain  rtl  \" ><span class=\"plain  rtl\"></span><span class=\"plain  rtl  \" ><span class=\"txtu hbo\">בְּ</span></span><span class=\"plain  rtl  \" ><span class=\"txtu hbo\">תֹ֣וךְ </span></span><span class=\"plain  rtl  \" ><span class=\"txtu hbo\">הַ</span></span><span class=\"plain  rtl  \" ><span class=\"txtu hbo\">גָּ֔ן </span></span></span></span><span class=\"plain  rtl  \" ><span class=\"plain  rtl\"></span><span class=\"plain  rtl  \" ><span class=\"plain  rtl\"></span><span class=\"plain  rtl  \" ><span class=\"txtu hbo\">וְ</span></span></span><span class=\"plain  rtl  \" ><span class=\"plain  rtl\"></span><span class=\"plain  rtl  \" ><span class=\"txtu hbo\">עֵ֕ץ </span></span><span class=\"plain  rtl  \" ><span class=\"txtu hbo\">הַ</span></span><span class=\"plain  rtl  \" ><span class=\"txtu hbo\">דַּ֖עַת </span></span><span class=\"plain  rtl  \" ><span class=\"txtu hbo\">טֹ֥וב </span></span><span class=\"plain  rtl  \" ><span class=\"txtu hbo\">וָ</span></span><span class=\"plain  rtl  \" ><span class=\"txtu hbo\">רָֽע׃ </span></span></span></span></span></span></td></tr>\n",
       "<tr class=\"tf\"><td class=\"tf\">5</td><td class=\"tf\"><span class=\"section ltr\"><a target=\"_blank\" href=\"https://shebanq.ancient-data.org/hebrew/text?book=Genesis&amp;chapter=3&amp;verse=5&amp;version=2017&amp;mr=m&amp;qw=q&amp;tp=txt_p&amp;tr=hb&amp;wget=v&amp;qget=v&amp;nget=vt\" title=\"Show this on SHEBANQ\" sec=\"Genesis 3:5\">Genesis 3:5</a></span></td><td class=\"tf\"><span class=\"plain  hlbx\" ><span class=\"plain  rtl  \" ><span class=\"plain  rtl\"></span><span class=\"plain  rtl  \" ><span class=\"plain  rtl\"></span><span class=\"plain  rtl  \" ><span class=\"plain  rtl\"></span><span class=\"plain  rtl  \" ><span class=\"txtu hbo\">כִּ֚י </span></span></span><span class=\"plain  rtl  \" ><span class=\"plain  rtl\"></span><span class=\"plain  rtl  \" ><span class=\"txtu hbo\">יֹדֵ֣עַ </span></span></span><span class=\"plain  rtl  \" ><span class=\"plain  rtl\"></span><span class=\"plain  rtl  \" ><span class=\"txtu hbo\">אֱלֹהִ֔ים </span></span></span></span><span class=\"plain  rtl  \" ><span class=\"plain  rtl\"></span><span class=\"plain  rtl  \" ><span class=\"plain  rtl\"></span><span class=\"plain  rtl  \" ><span class=\"txtu hbo\">כִּ֗י </span></span></span><span class=\"plain  rtl  \" ><span class=\"plain  rtl\"></span><span class=\"plain  rtl  \" ><span class=\"txtu hbo\">בְּ</span></span><span class=\"plain  rtl  \" ><span class=\"txtu hbo\">יֹום֙ </span></span></span></span><span class=\"plain  rtl  \" ><span class=\"plain  rtl\"></span><span class=\"plain  rtl  \" ><span class=\"plain  rtl\"></span><span class=\"plain  rtl  \" ><span class=\"txtu hbo\">אֲכָלְכֶ֣ם </span></span></span><span class=\"plain  rtl  \" ><span class=\"plain  rtl\"></span><span class=\"plain  rtl  \" ><span class=\"txtu hbo\">מִמֶּ֔נּוּ </span></span></span></span><span class=\"plain  rtl  \" ><span class=\"plain  rtl\"></span><span class=\"plain  rtl  \" ><span class=\"plain  rtl\"></span><span class=\"plain  rtl  \" ><span class=\"txtu hbo\">וְ</span></span></span><span class=\"plain  rtl  \" ><span class=\"plain  rtl\"></span><span class=\"plain  rtl  \" ><span class=\"txtu hbo\">נִפְקְח֖וּ </span></span></span><span class=\"plain  rtl  \" ><span class=\"plain  rtl\"></span><span class=\"plain  rtl  \" ><span class=\"txtu hbo\">עֵֽינֵיכֶ֑ם </span></span></span></span><span class=\"plain  rtl  \" ><span class=\"plain  rtl\"></span><span class=\"plain  rtl  \" ><span class=\"plain  rtl\"></span><span class=\"plain  rtl  \" ><span class=\"txtu hbo\">וִ</span></span></span><span class=\"plain  rtl  \" ><span class=\"plain  rtl\"></span><span class=\"plain  rtl  \" ><span class=\"txtu hbo\">הְיִיתֶם֙ </span></span></span><span class=\"plain  rtl  \" ><span class=\"plain  rtl\"></span><span class=\"plain  rtl  \" ><span class=\"txtu hbo\">כֵּֽ</span></span><span class=\"plain  rtl  \" ><span class=\"txtu hbo\">אלֹהִ֔ים </span></span></span></span><span class=\"plain  rtl  \" ><span class=\"plain  rtl\"></span><span class=\"plain  rtl  \" ><span class=\"plain  rtl\"></span><span class=\"plain  rtl  \" ><span class=\"txtu hbo\">יֹדְעֵ֖י </span></span><span class=\"plain  rtl  \" ><span class=\"txtu hbo\">טֹ֥וב </span></span><span class=\"plain  rtl  \" ><span class=\"txtu hbo\">וָ</span></span><span class=\"plain  rtl  \" ><span class=\"txtu hbo\">רָֽע׃ </span></span></span></span></span></span></td></tr>\n",
       "<tr class=\"tf\"><td class=\"tf\">6</td><td class=\"tf\"><span class=\"section ltr\"><a target=\"_blank\" href=\"https://shebanq.ancient-data.org/hebrew/text?book=Genesis&amp;chapter=3&amp;verse=23&amp;version=2017&amp;mr=m&amp;qw=q&amp;tp=txt_p&amp;tr=hb&amp;wget=v&amp;qget=v&amp;nget=vt\" title=\"Show this on SHEBANQ\" sec=\"Genesis 3:23\">Genesis 3:23</a></span></td><td class=\"tf\"><span class=\"plain  hlbx\" ><span class=\"plain  rtl  \" ><span class=\"plain  rtl\"></span><span class=\"plain  rtl  \" ><span class=\"plain  rtl\"></span><span class=\"plain  rtl  \" ><span class=\"plain  rtl\"></span><span class=\"plain  rtl  \" ><span class=\"txtu hbo\">וַֽ</span></span></span><span class=\"plain  rtl  \" ><span class=\"plain  rtl\"></span><span class=\"plain  rtl  \" ><span class=\"txtu hbo\">יְשַׁלְּחֵ֛הוּ </span></span></span><span class=\"plain  rtl  \" ><span class=\"plain  rtl\"></span><span class=\"plain  rtl  \" ><span class=\"txtu hbo\">יְהוָ֥ה </span></span><span class=\"plain  rtl  \" ><span class=\"txtu hbo\">אֱלֹהִ֖ים </span></span></span><span class=\"plain  rtl  \" ><span class=\"plain  rtl\"></span><span class=\"plain  rtl  \" ><span class=\"txtu hbo\">מִ</span></span><span class=\"plain  rtl  \" ><span class=\"txtu hbo\">גַּן־</span></span><span class=\"plain  rtl  \" ><span class=\"txtu hbo\">עֵ֑דֶן </span></span></span></span><span class=\"plain  rtl  \" ><span class=\"plain  rtl\"></span><span class=\"plain  rtl  \" ><span class=\"plain  rtl\"></span><span class=\"plain  rtl  \" ><span class=\"txtu hbo\">לַֽ</span></span><span class=\"plain  rtl  \" ><span class=\"txtu hbo\">עֲבֹד֙ </span></span></span><span class=\"plain  rtl  \" ><span class=\"plain  rtl\"></span><span class=\"plain  rtl  \" ><span class=\"txtu hbo\">אֶת־</span></span><span class=\"plain  rtl  \" ><span class=\"txtu hbo\">הָ֣</span></span><span class=\"plain  rtl  \" ><span class=\"txtu hbo\">אֲדָמָ֔ה </span></span></span></span><span class=\"plain  rtl  \" ><span class=\"plain  rtl\"></span><span class=\"plain  rtl  \" ><span class=\"plain  rtl\"></span><span class=\"plain  rtl  \" ><span class=\"txtu hbo\">אֲשֶׁ֥ר </span></span></span><span class=\"plain  rtl  \" ><span class=\"plain  rtl\"></span><span class=\"plain  rtl  \" ><span class=\"txtu hbo\">לֻקַּ֖ח </span></span></span><span class=\"plain  rtl  \" ><span class=\"plain  rtl\"></span><span class=\"plain  rtl  \" ><span class=\"txtu hbo\">מִ</span></span><span class=\"plain  rtl  \" ><span class=\"txtu hbo\">שָּֽׁם׃ </span></span></span></span></span></span></td></tr>\n",
       "<tr class=\"tf\"><td class=\"tf\">7</td><td class=\"tf\"><span class=\"section ltr\"><a target=\"_blank\" href=\"https://shebanq.ancient-data.org/hebrew/text?book=Genesis&amp;chapter=4&amp;verse=24&amp;version=2017&amp;mr=m&amp;qw=q&amp;tp=txt_p&amp;tr=hb&amp;wget=v&amp;qget=v&amp;nget=vt\" title=\"Show this on SHEBANQ\" sec=\"Genesis 4:24\">Genesis 4:24</a></span></td><td class=\"tf\"><span class=\"plain  hlbx\" ><span class=\"plain  rtl  \" ><span class=\"plain  rtl\"></span><span class=\"plain  rtl  \" ><span class=\"plain  rtl\"></span><span class=\"plain  rtl  \" ><span class=\"plain  rtl\"></span><span class=\"plain  rtl  \" ><span class=\"txtu hbo\">כִּ֥י </span></span></span><span class=\"plain  rtl  \" ><span class=\"plain  rtl\"></span><span class=\"plain  rtl  \" ><span class=\"txtu hbo\">שִׁבְעָתַ֖יִם </span></span></span><span class=\"plain  rtl  \" ><span class=\"plain  rtl\"></span><span class=\"plain  rtl  \" ><span class=\"txtu hbo\">יֻקַּם־</span></span></span><span class=\"plain  rtl  \" ><span class=\"plain  rtl\"></span><span class=\"plain  rtl  \" ><span class=\"txtu hbo\">קָ֑יִן </span></span></span></span><span class=\"plain  rtl  \" ><span class=\"plain  rtl\"></span><span class=\"plain  rtl  \" ><span class=\"plain  rtl\"></span><span class=\"plain  rtl  \" ><span class=\"txtu hbo\">וְ</span></span></span><span class=\"plain  rtl  \" ><span class=\"plain  rtl\"></span><span class=\"plain  rtl  \" ><span class=\"txtu hbo\">לֶ֖מֶךְ </span></span></span><span class=\"plain  rtl  \" ><span class=\"plain  rtl\"></span><span class=\"plain  rtl  \" ><span class=\"txtu hbo\">שִׁבְעִ֥ים </span></span><span class=\"plain  rtl  \" ><span class=\"txtu hbo\">וְ</span></span><span class=\"plain  rtl  \" ><span class=\"txtu hbo\">שִׁבְעָֽה׃ </span></span></span></span></span></span></td></tr></table>"
      ],
      "text/plain": [
       "<IPython.core.display.HTML object>"
      ]
     },
     "metadata": {},
     "output_type": "display_data"
    },
    {
     "data": {
      "text/html": [
       "<p><b>result</b> <i>1</i></p>"
      ],
      "text/plain": [
       "<IPython.core.display.HTML object>"
      ]
     },
     "metadata": {},
     "output_type": "display_data"
    },
    {
     "data": {
      "text/html": [
       "<span class=\"section ltr\"><a target=\"_blank\" href=\"https://shebanq.ancient-data.org/hebrew/text?book=Genesis&amp;chapter=1&amp;verse=1&amp;version=2017&amp;mr=m&amp;qw=q&amp;tp=txt_p&amp;tr=hb&amp;wget=v&amp;qget=v&amp;nget=vt\" title=\"Show this on SHEBANQ\" sec=\"Genesis 1:1\">Genesis 1:1</a> </span><div class=\"contnr c3  rtl  \" ><div class=\"lbl c3  \" ><span class=\"nd\">verse</span></div> <div class=\"children row wrap rtl\"><div class=\"contnr c2  rtl  hl\" ><div class=\"lbl c2  hl\" ><span class=\"nd\">sentence</span></div> <div class=\"children row wrap rtl\"><div class=\"contnr cnul trm rtl  \" ><div class=\"children row wrap rtl\"><div class=\"contnr c2  rtl  \" ><div class=\"lbl c2  \" ><span class=\"nd\">clause</span></div> <div class=\"children row wrap rtl\"><div class=\"contnr cnul trm rtl  \" ><div class=\"children row wrap rtl\"><div class=\"contnr c1  rtl  \" ><div class=\"lbl c1  \" ><span class=\"nd\">phrase</span></div> <div class=\"children row wrap rtl\"><div class=\"contnr cnul trm rtl  \" ><div class=\"children row wrap rtl\"><div class=\"contnr c0 trm rtl  \" ><div class=\"lbl c0 trm \" ><a class=\" txtu hbo\" target=\"_blank\" href=\"https://shebanq.ancient-data.org/hebrew/word?version=2017&amp;id=1B\" title=\"Show this on SHEBANQ\"><span class=\"txtu hbo\">בְּ</span></a></div> </div><div class=\"contnr c0 trm rtl  \" ><div class=\"lbl c0 trm \" ><a class=\" txtu hbo\" target=\"_blank\" href=\"https://shebanq.ancient-data.org/hebrew/word?version=2017&amp;id=1RACJTn\" title=\"Show this on SHEBANQ\"><span class=\"txtu hbo\">רֵאשִׁ֖ית </span></a></div> </div></div></div></div></div><div class=\"contnr c1  rtl  \" ><div class=\"lbl c1  \" ><span class=\"nd\">phrase</span></div> <div class=\"children row wrap rtl\"><div class=\"contnr cnul trm rtl  \" ><div class=\"children row wrap rtl\"><div class=\"contnr c0 trm rtl  \" ><div class=\"lbl c0 trm \" ><a class=\" txtu hbo\" target=\"_blank\" href=\"https://shebanq.ancient-data.org/hebrew/word?version=2017&amp;id=1BRAv\" title=\"Show this on SHEBANQ\"><span class=\"txtu hbo\">בָּרָ֣א </span></a></div> </div></div></div></div></div><div class=\"contnr c1  rtl  \" ><div class=\"lbl c1  \" ><span class=\"nd\">phrase</span></div> <div class=\"children row wrap rtl\"><div class=\"contnr cnul trm rtl  \" ><div class=\"children row wrap rtl\"><div class=\"contnr c0 trm rtl  \" ><div class=\"lbl c0 trm \" ><a class=\" txtu hbo\" target=\"_blank\" href=\"https://shebanq.ancient-data.org/hebrew/word?version=2017&amp;id=1ALHJMn\" title=\"Show this on SHEBANQ\"><span class=\"txtu hbo\">אֱלֹהִ֑ים </span></a></div> </div></div></div></div></div><div class=\"contnr c1  rtl  \" ><div class=\"lbl c1  \" ><span class=\"nd\">phrase</span></div> <div class=\"children row wrap rtl\"><div class=\"contnr cnul trm rtl  \" ><div class=\"children row wrap rtl\"><div class=\"contnr c0 trm rtl  \" ><div class=\"lbl c0 trm \" ><a class=\" txtu hbo\" target=\"_blank\" href=\"https://shebanq.ancient-data.org/hebrew/word?version=2017&amp;id=1AT\" title=\"Show this on SHEBANQ\"><span class=\"txtu hbo\">אֵ֥ת </span></a></div> </div><div class=\"contnr c0 trm rtl  \" ><div class=\"lbl c0 trm \" ><a class=\" txtu hbo\" target=\"_blank\" href=\"https://shebanq.ancient-data.org/hebrew/word?version=2017&amp;id=1H\" title=\"Show this on SHEBANQ\"><span class=\"txtu hbo\">הַ</span></a></div> </div><div class=\"contnr c0 trm rtl  \" ><div class=\"lbl c0 trm \" ><a class=\" txtu hbo\" target=\"_blank\" href=\"https://shebanq.ancient-data.org/hebrew/word?version=2017&amp;id=1CMJMn\" title=\"Show this on SHEBANQ\"><span class=\"txtu hbo\">שָּׁמַ֖יִם </span></a></div> </div><div class=\"contnr c0 trm rtl  \" ><div class=\"lbl c0 trm \" ><a class=\" txtu hbo\" target=\"_blank\" href=\"https://shebanq.ancient-data.org/hebrew/word?version=2017&amp;id=1W\" title=\"Show this on SHEBANQ\"><span class=\"txtu hbo\">וְ</span></a></div> </div><div class=\"contnr c0 trm rtl  \" ><div class=\"lbl c0 trm \" ><a class=\" txtu hbo\" target=\"_blank\" href=\"https://shebanq.ancient-data.org/hebrew/word?version=2017&amp;id=1AT\" title=\"Show this on SHEBANQ\"><span class=\"txtu hbo\">אֵ֥ת </span></a></div> </div><div class=\"contnr c0 trm rtl  \" ><div class=\"lbl c0 trm \" ><a class=\" txtu hbo\" target=\"_blank\" href=\"https://shebanq.ancient-data.org/hebrew/word?version=2017&amp;id=1H\" title=\"Show this on SHEBANQ\"><span class=\"txtu hbo\">הָ</span></a></div> </div><div class=\"contnr c0 trm rtl  \" ><div class=\"lbl c0 trm \" ><a class=\" txtu hbo\" target=\"_blank\" href=\"https://shebanq.ancient-data.org/hebrew/word?version=2017&amp;id=1ARYn\" title=\"Show this on SHEBANQ\"><span class=\"txtu hbo\">אָֽרֶץ׃ </span></a></div> </div></div></div></div></div></div></div></div></div></div></div></div></div></div></div>"
      ],
      "text/plain": [
       "<IPython.core.display.HTML object>"
      ]
     },
     "metadata": {},
     "output_type": "display_data"
    }
   ],
   "source": [
    "A.table(results, end=7, skipCols=\"1\")\n",
    "A.show(results, start=1, end=1, skipCols=\"1\")\n",
    "info('Done')"
   ]
  },
  {
   "cell_type": "markdown",
   "metadata": {},
   "source": [
    "Now a similar query with the custom sets:"
   ]
  },
  {
   "cell_type": "code",
   "execution_count": 18,
   "metadata": {
    "ExecuteTime": {
     "end_time": "2018-05-24T09:15:45.123089Z",
     "start_time": "2018-05-24T09:15:19.569287Z"
    }
   },
   "outputs": [
    {
     "name": "stdout",
     "output_type": "stream",
     "text": [
      "  1.57s 135 results\n"
     ]
    },
    {
     "data": {
      "text/html": [
       "<table><tr class=\"tf\"><th class=\"tf\">n</th><th class=\"tf\">p</th><th class=\"tf\">sentence</th></tr>\n",
       "<tr class=\"tf\"><td class=\"tf\">1</td><td class=\"tf\"><span class=\"section ltr\"><a target=\"_blank\" href=\"https://shebanq.ancient-data.org/hebrew/text?book=Exodus&amp;chapter=6&amp;verse=10&amp;version=2017&amp;mr=m&amp;qw=q&amp;tp=txt_p&amp;tr=hb&amp;wget=v&amp;qget=v&amp;nget=vt\" title=\"Show this on SHEBANQ\" sec=\"Exodus 6:10\">Exodus 6:10</a></span></td><td class=\"tf\"><span class=\"plain  hlbx\" ><span class=\"plain  rtl  \" ><span class=\"plain  rtl\"></span><span class=\"plain  rtl  \" ><span class=\"plain  rtl\"></span><span class=\"plain  rtl  \" ><span class=\"plain  rtl\"></span><span class=\"plain  rtl  \" ><span class=\"txtu hbo\">וַ</span></span></span><span class=\"plain  rtl  \" ><span class=\"plain  rtl\"></span><span class=\"plain  rtl  \" ><span class=\"txtu hbo\">יְדַבֵּ֥ר </span></span></span><span class=\"plain  rtl  \" ><span class=\"plain  rtl\"></span><span class=\"plain  rtl  \" ><span class=\"txtu hbo\">יְהוָ֖ה </span></span></span><span class=\"plain  rtl  \" ><span class=\"plain  rtl\"></span><span class=\"plain  rtl  \" ><span class=\"txtu hbo\">אֶל־</span></span><span class=\"plain  rtl  \" ><span class=\"txtu hbo\">מֹשֶׁ֥ה </span></span></span></span><span class=\"plain  rtl  \" ><span class=\"plain  rtl\"></span><span class=\"plain  rtl  \" ><span class=\"plain  rtl\"></span><span class=\"plain  rtl  \" ><span class=\"txtu hbo\">לֵּ</span></span><span class=\"plain  rtl  \" ><span class=\"txtu hbo\">אמֹֽר׃ </span></span></span></span></span></span></td></tr>\n",
       "<tr class=\"tf\"><td class=\"tf\">2</td><td class=\"tf\"><span class=\"section ltr\"><a target=\"_blank\" href=\"https://shebanq.ancient-data.org/hebrew/text?book=Exodus&amp;chapter=6&amp;verse=28&amp;version=2017&amp;mr=m&amp;qw=q&amp;tp=txt_p&amp;tr=hb&amp;wget=v&amp;qget=v&amp;nget=vt\" title=\"Show this on SHEBANQ\" sec=\"Exodus 6:28\">Exodus 6:28</a></span></td><td class=\"tf\"><span class=\"plain  hlbx\" ><span class=\"plain  rtl  \" ><span class=\"plain  rtl\"></span><span class=\"plain  rtl  \" ><span class=\"plain  rtl\"></span><span class=\"plain  rtl  \" ><span class=\"plain  rtl\"></span><span class=\"plain  rtl  \" ><span class=\"txtu hbo\">וַ</span></span></span><span class=\"plain  rtl  \" ><span class=\"plain  rtl\"></span><span class=\"plain  rtl  \" ><span class=\"txtu hbo\">יְהִ֗י </span></span></span><span class=\"plain  rtl  \" ><span class=\"plain  rtl\"></span><span class=\"plain  rtl  \" ><span class=\"txtu hbo\">בְּ</span></span><span class=\"plain  rtl  \" ><span class=\"txtu hbo\">יֹ֨ום </span></span></span></span><span class=\"plain  rtl  \" ><span class=\"plain  rtl\"></span><span class=\"plain  rtl  \" ><span class=\"plain  rtl\"></span><span class=\"plain  rtl  \" ><span class=\"txtu hbo\">דִּבֶּ֧ר </span></span></span><span class=\"plain  rtl  \" ><span class=\"plain  rtl\"></span><span class=\"plain  rtl  \" ><span class=\"txtu hbo\">יְהוָ֛ה </span></span></span><span class=\"plain  rtl  \" ><span class=\"plain  rtl\"></span><span class=\"plain  rtl  \" ><span class=\"txtu hbo\">אֶל־</span></span><span class=\"plain  rtl  \" ><span class=\"txtu hbo\">מֹשֶׁ֖ה </span></span></span><span class=\"plain  rtl  \" ><span class=\"plain  rtl\"></span><span class=\"plain  rtl  \" ><span class=\"txtu hbo\">בְּ</span></span><span class=\"plain  rtl  \" ><span class=\"txtu hbo\">אֶ֥רֶץ </span></span><span class=\"plain  rtl  \" ><span class=\"txtu hbo\">מִצְרָֽיִם׃ פ </span></span></span></span></span></span></td></tr>\n",
       "<tr class=\"tf\"><td class=\"tf\">3</td><td class=\"tf\"><span class=\"section ltr\"><a target=\"_blank\" href=\"https://shebanq.ancient-data.org/hebrew/text?book=Exodus&amp;chapter=13&amp;verse=1&amp;version=2017&amp;mr=m&amp;qw=q&amp;tp=txt_p&amp;tr=hb&amp;wget=v&amp;qget=v&amp;nget=vt\" title=\"Show this on SHEBANQ\" sec=\"Exodus 13:1\">Exodus 13:1</a></span></td><td class=\"tf\"><span class=\"plain  hlbx\" ><span class=\"plain  rtl  \" ><span class=\"plain  rtl\"></span><span class=\"plain  rtl  \" ><span class=\"plain  rtl\"></span><span class=\"plain  rtl  \" ><span class=\"plain  rtl\"></span><span class=\"plain  rtl  \" ><span class=\"txtu hbo\">וַ</span></span></span><span class=\"plain  rtl  \" ><span class=\"plain  rtl\"></span><span class=\"plain  rtl  \" ><span class=\"txtu hbo\">יְדַבֵּ֥ר </span></span></span><span class=\"plain  rtl  \" ><span class=\"plain  rtl\"></span><span class=\"plain  rtl  \" ><span class=\"txtu hbo\">יְהוָ֖ה </span></span></span><span class=\"plain  rtl  \" ><span class=\"plain  rtl\"></span><span class=\"plain  rtl  \" ><span class=\"txtu hbo\">אֶל־</span></span><span class=\"plain  rtl  \" ><span class=\"txtu hbo\">מֹשֶׁ֥ה </span></span></span></span><span class=\"plain  rtl  \" ><span class=\"plain  rtl\"></span><span class=\"plain  rtl  \" ><span class=\"plain  rtl\"></span><span class=\"plain  rtl  \" ><span class=\"txtu hbo\">לֵּ</span></span><span class=\"plain  rtl  \" ><span class=\"txtu hbo\">אמֹֽר׃ </span></span></span></span></span></span></td></tr>\n",
       "<tr class=\"tf\"><td class=\"tf\">4</td><td class=\"tf\"><span class=\"section ltr\"><a target=\"_blank\" href=\"https://shebanq.ancient-data.org/hebrew/text?book=Exodus&amp;chapter=14&amp;verse=1&amp;version=2017&amp;mr=m&amp;qw=q&amp;tp=txt_p&amp;tr=hb&amp;wget=v&amp;qget=v&amp;nget=vt\" title=\"Show this on SHEBANQ\" sec=\"Exodus 14:1\">Exodus 14:1</a></span></td><td class=\"tf\"><span class=\"plain  hlbx\" ><span class=\"plain  rtl  \" ><span class=\"plain  rtl\"></span><span class=\"plain  rtl  \" ><span class=\"plain  rtl\"></span><span class=\"plain  rtl  \" ><span class=\"plain  rtl\"></span><span class=\"plain  rtl  \" ><span class=\"txtu hbo\">וַ</span></span></span><span class=\"plain  rtl  \" ><span class=\"plain  rtl\"></span><span class=\"plain  rtl  \" ><span class=\"txtu hbo\">יְדַבֵּ֥ר </span></span></span><span class=\"plain  rtl  \" ><span class=\"plain  rtl\"></span><span class=\"plain  rtl  \" ><span class=\"txtu hbo\">יְהֹוָ֖ה </span></span></span><span class=\"plain  rtl  \" ><span class=\"plain  rtl\"></span><span class=\"plain  rtl  \" ><span class=\"txtu hbo\">אֶל־</span></span><span class=\"plain  rtl  \" ><span class=\"txtu hbo\">מֹשֶׁ֥ה </span></span></span></span><span class=\"plain  rtl  \" ><span class=\"plain  rtl\"></span><span class=\"plain  rtl  \" ><span class=\"plain  rtl\"></span><span class=\"plain  rtl  \" ><span class=\"txtu hbo\">לֵּ</span></span><span class=\"plain  rtl  \" ><span class=\"txtu hbo\">אמֹֽר׃ </span></span></span></span></span></span></td></tr>\n",
       "<tr class=\"tf\"><td class=\"tf\">5</td><td class=\"tf\"><span class=\"section ltr\"><a target=\"_blank\" href=\"https://shebanq.ancient-data.org/hebrew/text?book=Exodus&amp;chapter=16&amp;verse=11&amp;version=2017&amp;mr=m&amp;qw=q&amp;tp=txt_p&amp;tr=hb&amp;wget=v&amp;qget=v&amp;nget=vt\" title=\"Show this on SHEBANQ\" sec=\"Exodus 16:11\">Exodus 16:11</a></span></td><td class=\"tf\"><span class=\"plain  hlbx\" ><span class=\"plain  rtl  \" ><span class=\"plain  rtl\"></span><span class=\"plain  rtl  \" ><span class=\"plain  rtl\"></span><span class=\"plain  rtl  \" ><span class=\"plain  rtl\"></span><span class=\"plain  rtl  \" ><span class=\"txtu hbo\">וַ</span></span></span><span class=\"plain  rtl  \" ><span class=\"plain  rtl\"></span><span class=\"plain  rtl  \" ><span class=\"txtu hbo\">יְדַבֵּ֥ר </span></span></span><span class=\"plain  rtl  \" ><span class=\"plain  rtl\"></span><span class=\"plain  rtl  \" ><span class=\"txtu hbo\">יְהוָ֖ה </span></span></span><span class=\"plain  rtl  \" ><span class=\"plain  rtl\"></span><span class=\"plain  rtl  \" ><span class=\"txtu hbo\">אֶל־</span></span><span class=\"plain  rtl  \" ><span class=\"txtu hbo\">מֹשֶׁ֥ה </span></span></span></span><span class=\"plain  rtl  \" ><span class=\"plain  rtl\"></span><span class=\"plain  rtl  \" ><span class=\"plain  rtl\"></span><span class=\"plain  rtl  \" ><span class=\"txtu hbo\">לֵּ</span></span><span class=\"plain  rtl  \" ><span class=\"txtu hbo\">אמֹֽר׃ </span></span></span></span></span></span></td></tr>\n",
       "<tr class=\"tf\"><td class=\"tf\">6</td><td class=\"tf\"><span class=\"section ltr\"><a target=\"_blank\" href=\"https://shebanq.ancient-data.org/hebrew/text?book=Exodus&amp;chapter=20&amp;verse=1&amp;version=2017&amp;mr=m&amp;qw=q&amp;tp=txt_p&amp;tr=hb&amp;wget=v&amp;qget=v&amp;nget=vt\" title=\"Show this on SHEBANQ\" sec=\"Exodus 20:1\">Exodus 20:1</a></span></td><td class=\"tf\"><span class=\"plain  hlbx\" ><span class=\"plain  rtl  \" ><span class=\"plain  rtl\"></span><span class=\"plain  rtl  \" ><span class=\"plain  rtl\"></span><span class=\"plain  rtl  \" ><span class=\"plain  rtl\"></span><span class=\"plain  rtl  \" ><span class=\"txtu hbo\">וַ</span></span></span><span class=\"plain  rtl  \" ><span class=\"plain  rtl\"></span><span class=\"plain  rtl  \" ><span class=\"txtu hbo\">יְדַבֵּ֣ר </span></span></span><span class=\"plain  rtl  \" ><span class=\"plain  rtl\"></span><span class=\"plain  rtl  \" ><span class=\"txtu hbo\">אֱלֹהִ֔ים </span></span></span><span class=\"plain  rtl  \" ><span class=\"plain  rtl\"></span><span class=\"plain  rtl  \" ><span class=\"txtu hbo\">אֵ֛ת </span></span><span class=\"plain  rtl  \" ><span class=\"txtu hbo\">כָּל־</span></span><span class=\"plain  rtl  \" ><span class=\"txtu hbo\">הַ</span></span><span class=\"plain  rtl  \" ><span class=\"txtu hbo\">דְּבָרִ֥ים </span></span><span class=\"plain  rtl  \" ><span class=\"txtu hbo\">הָ</span></span><span class=\"plain  rtl  \" ><span class=\"txtu hbo\">אֵ֖לֶּה </span></span></span></span><span class=\"plain  rtl  \" ><span class=\"plain  rtl\"></span><span class=\"plain  rtl  \" ><span class=\"plain  rtl\"></span><span class=\"plain  rtl  \" ><span class=\"txtu hbo\">לֵ</span></span><span class=\"plain  rtl  \" ><span class=\"txtu hbo\">אמֹֽר׃ ס </span></span></span></span></span></span></td></tr>\n",
       "<tr class=\"tf\"><td class=\"tf\">7</td><td class=\"tf\"><span class=\"section ltr\"><a target=\"_blank\" href=\"https://shebanq.ancient-data.org/hebrew/text?book=Exodus&amp;chapter=25&amp;verse=1&amp;version=2017&amp;mr=m&amp;qw=q&amp;tp=txt_p&amp;tr=hb&amp;wget=v&amp;qget=v&amp;nget=vt\" title=\"Show this on SHEBANQ\" sec=\"Exodus 25:1\">Exodus 25:1</a></span></td><td class=\"tf\"><span class=\"plain  hlbx\" ><span class=\"plain  rtl  \" ><span class=\"plain  rtl\"></span><span class=\"plain  rtl  \" ><span class=\"plain  rtl\"></span><span class=\"plain  rtl  \" ><span class=\"plain  rtl\"></span><span class=\"plain  rtl  \" ><span class=\"txtu hbo\">וַ</span></span></span><span class=\"plain  rtl  \" ><span class=\"plain  rtl\"></span><span class=\"plain  rtl  \" ><span class=\"txtu hbo\">יְדַבֵּ֥ר </span></span></span><span class=\"plain  rtl  \" ><span class=\"plain  rtl\"></span><span class=\"plain  rtl  \" ><span class=\"txtu hbo\">יְהוָ֖ה </span></span></span><span class=\"plain  rtl  \" ><span class=\"plain  rtl\"></span><span class=\"plain  rtl  \" ><span class=\"txtu hbo\">אֶל־</span></span><span class=\"plain  rtl  \" ><span class=\"txtu hbo\">מֹשֶׁ֥ה </span></span></span></span><span class=\"plain  rtl  \" ><span class=\"plain  rtl\"></span><span class=\"plain  rtl  \" ><span class=\"plain  rtl\"></span><span class=\"plain  rtl  \" ><span class=\"txtu hbo\">לֵּ</span></span><span class=\"plain  rtl  \" ><span class=\"txtu hbo\">אמֹֽר׃ </span></span></span></span></span></span></td></tr>\n",
       "<tr class=\"tf\"><td class=\"tf\">8</td><td class=\"tf\"><span class=\"section ltr\"><a target=\"_blank\" href=\"https://shebanq.ancient-data.org/hebrew/text?book=Exodus&amp;chapter=30&amp;verse=11&amp;version=2017&amp;mr=m&amp;qw=q&amp;tp=txt_p&amp;tr=hb&amp;wget=v&amp;qget=v&amp;nget=vt\" title=\"Show this on SHEBANQ\" sec=\"Exodus 30:11\">Exodus 30:11</a></span></td><td class=\"tf\"><span class=\"plain  hlbx\" ><span class=\"plain  rtl  \" ><span class=\"plain  rtl\"></span><span class=\"plain  rtl  \" ><span class=\"plain  rtl\"></span><span class=\"plain  rtl  \" ><span class=\"plain  rtl\"></span><span class=\"plain  rtl  \" ><span class=\"txtu hbo\">וַ</span></span></span><span class=\"plain  rtl  \" ><span class=\"plain  rtl\"></span><span class=\"plain  rtl  \" ><span class=\"txtu hbo\">יְדַבֵּ֥ר </span></span></span><span class=\"plain  rtl  \" ><span class=\"plain  rtl\"></span><span class=\"plain  rtl  \" ><span class=\"txtu hbo\">יְהוָ֖ה </span></span></span><span class=\"plain  rtl  \" ><span class=\"plain  rtl\"></span><span class=\"plain  rtl  \" ><span class=\"txtu hbo\">אֶל־</span></span><span class=\"plain  rtl  \" ><span class=\"txtu hbo\">מֹשֶׁ֥ה </span></span></span></span><span class=\"plain  rtl  \" ><span class=\"plain  rtl\"></span><span class=\"plain  rtl  \" ><span class=\"plain  rtl\"></span><span class=\"plain  rtl  \" ><span class=\"txtu hbo\">לֵּ</span></span><span class=\"plain  rtl  \" ><span class=\"txtu hbo\">אמֹֽר׃ </span></span></span></span></span></span></td></tr>\n",
       "<tr class=\"tf\"><td class=\"tf\">9</td><td class=\"tf\"><span class=\"section ltr\"><a target=\"_blank\" href=\"https://shebanq.ancient-data.org/hebrew/text?book=Exodus&amp;chapter=30&amp;verse=17&amp;version=2017&amp;mr=m&amp;qw=q&amp;tp=txt_p&amp;tr=hb&amp;wget=v&amp;qget=v&amp;nget=vt\" title=\"Show this on SHEBANQ\" sec=\"Exodus 30:17\">Exodus 30:17</a></span></td><td class=\"tf\"><span class=\"plain  hlbx\" ><span class=\"plain  rtl  \" ><span class=\"plain  rtl\"></span><span class=\"plain  rtl  \" ><span class=\"plain  rtl\"></span><span class=\"plain  rtl  \" ><span class=\"plain  rtl\"></span><span class=\"plain  rtl  \" ><span class=\"txtu hbo\">וַ</span></span></span><span class=\"plain  rtl  \" ><span class=\"plain  rtl\"></span><span class=\"plain  rtl  \" ><span class=\"txtu hbo\">יְדַבֵּ֥ר </span></span></span><span class=\"plain  rtl  \" ><span class=\"plain  rtl\"></span><span class=\"plain  rtl  \" ><span class=\"txtu hbo\">יְהוָ֖ה </span></span></span><span class=\"plain  rtl  \" ><span class=\"plain  rtl\"></span><span class=\"plain  rtl  \" ><span class=\"txtu hbo\">אֶל־</span></span><span class=\"plain  rtl  \" ><span class=\"txtu hbo\">מֹשֶׁ֥ה </span></span></span></span><span class=\"plain  rtl  \" ><span class=\"plain  rtl\"></span><span class=\"plain  rtl  \" ><span class=\"plain  rtl\"></span><span class=\"plain  rtl  \" ><span class=\"txtu hbo\">לֵּ</span></span><span class=\"plain  rtl  \" ><span class=\"txtu hbo\">אמֹֽר׃ </span></span></span></span></span></span></td></tr>\n",
       "<tr class=\"tf\"><td class=\"tf\">10</td><td class=\"tf\"><span class=\"section ltr\"><a target=\"_blank\" href=\"https://shebanq.ancient-data.org/hebrew/text?book=Exodus&amp;chapter=30&amp;verse=22&amp;version=2017&amp;mr=m&amp;qw=q&amp;tp=txt_p&amp;tr=hb&amp;wget=v&amp;qget=v&amp;nget=vt\" title=\"Show this on SHEBANQ\" sec=\"Exodus 30:22\">Exodus 30:22</a></span></td><td class=\"tf\"><span class=\"plain  hlbx\" ><span class=\"plain  rtl  \" ><span class=\"plain  rtl\"></span><span class=\"plain  rtl  \" ><span class=\"plain  rtl\"></span><span class=\"plain  rtl  \" ><span class=\"plain  rtl\"></span><span class=\"plain  rtl  \" ><span class=\"txtu hbo\">וַ</span></span></span><span class=\"plain  rtl  \" ><span class=\"plain  rtl\"></span><span class=\"plain  rtl  \" ><span class=\"txtu hbo\">יְדַבֵּ֥ר </span></span></span><span class=\"plain  rtl  \" ><span class=\"plain  rtl\"></span><span class=\"plain  rtl  \" ><span class=\"txtu hbo\">יְהוָ֖ה </span></span></span><span class=\"plain  rtl  \" ><span class=\"plain  rtl\"></span><span class=\"plain  rtl  \" ><span class=\"txtu hbo\">אֶל־</span></span><span class=\"plain  rtl  \" ><span class=\"txtu hbo\">מֹשֶׁ֥ה </span></span></span></span><span class=\"plain  rtl  \" ><span class=\"plain  rtl\"></span><span class=\"plain  rtl  \" ><span class=\"plain  rtl\"></span><span class=\"plain  rtl  \" ><span class=\"txtu hbo\">לֵּ</span></span><span class=\"plain  rtl  \" ><span class=\"txtu hbo\">אמֹֽר׃ </span></span></span></span></span></span></td></tr></table>"
      ],
      "text/plain": [
       "<IPython.core.display.HTML object>"
      ]
     },
     "metadata": {},
     "output_type": "display_data"
    },
    {
     "data": {
      "text/html": [
       "<p><b>result</b> <i>1</i></p>"
      ],
      "text/plain": [
       "<IPython.core.display.HTML object>"
      ]
     },
     "metadata": {},
     "output_type": "display_data"
    },
    {
     "data": {
      "text/html": [
       "<span class=\"section ltr\"><a target=\"_blank\" href=\"https://shebanq.ancient-data.org/hebrew/text?book=Exodus&amp;chapter=6&amp;verse=10&amp;version=2017&amp;mr=m&amp;qw=q&amp;tp=txt_p&amp;tr=hb&amp;wget=v&amp;qget=v&amp;nget=vt\" title=\"Show this on SHEBANQ\" sec=\"Exodus 6:10\">Exodus 6:10</a> </span><div class=\"contnr c3  rtl  \" ><div class=\"lbl c3  \" ><span class=\"nd\">verse</span></div> <div class='features'><span class=\"otype xft\" ><span class=\"f\">otype=</span>verse</span></div><div class=\"children row wrap rtl\"><div class=\"contnr c2  rtl  hl\" ><div class=\"lbl c2  hl\" ><span class=\"nd\">sentence</span></div> <div class='features'><span class=\"otype xft\" ><span class=\"f\">otype=</span>sentence</span></div><div class=\"children row wrap rtl\"><div class=\"contnr cnul trm rtl  \" ><div class=\"children row wrap rtl\"><div class=\"contnr c2  rtl  \" ><div class=\"lbl c2  \" ><span class=\"nd\">clause</span></div> <div class='features'><span class=\"otype xft\" ><span class=\"f\">otype=</span>clause</span></div><div class=\"children row wrap rtl\"><div class=\"contnr cnul trm rtl  \" ><div class=\"children row wrap rtl\"><div class=\"contnr c1  rtl  \" ><div class=\"lbl c1  \" ><span class=\"nd\">phrase</span></div> <div class='features'><span class=\"otype xft\" ><span class=\"f\">otype=</span>phrase</span></div><div class=\"children row wrap rtl\"><div class=\"contnr cnul trm rtl  \" ><div class=\"children row wrap rtl\"><div class=\"contnr c0 trm rtl  \" ><div class=\"lbl c0 trm \" ><a class=\" txtu hbo\" target=\"_blank\" href=\"https://shebanq.ancient-data.org/hebrew/word?version=2017&amp;id=1W\" title=\"Show this on SHEBANQ\"><span class=\"txtu hbo\">וַ</span></a></div> <div class='features'><span class=\"otype xft\" ><span class=\"f\">otype=</span>word</span></div></div></div></div></div></div><div class=\"contnr c1  rtl  \" ><div class=\"lbl c1  \" ><span class=\"nd\">phrase</span></div> <div class='features'><span class=\"otype xft\" ><span class=\"f\">otype=</span>phrase</span></div><div class=\"children row wrap rtl\"><div class=\"contnr cnul trm rtl  \" ><div class=\"children row wrap rtl\"><div class=\"contnr c0 trm rtl  \" ><div class=\"lbl c0 trm \" ><a class=\" txtu hbo\" target=\"_blank\" href=\"https://shebanq.ancient-data.org/hebrew/word?version=2017&amp;id=1DBRv\" title=\"Show this on SHEBANQ\"><span class=\"txtu hbo\">יְדַבֵּ֥ר </span></a></div> <div class='features'><span class=\"otype xft\" ><span class=\"f\">otype=</span>word</span></div></div></div></div></div></div><div class=\"contnr c1  rtl  \" ><div class=\"lbl c1  \" ><span class=\"nd\">phrase</span></div> <div class='features'><span class=\"otype xft\" ><span class=\"f\">otype=</span>phrase</span></div><div class=\"children row wrap rtl\"><div class=\"contnr cnul trm rtl  \" ><div class=\"children row wrap rtl\"><div class=\"contnr c0 trm rtl  \" ><div class=\"lbl c0 trm \" ><a class=\" txtu hbo\" target=\"_blank\" href=\"https://shebanq.ancient-data.org/hebrew/word?version=2017&amp;id=1JHWHn\" title=\"Show this on SHEBANQ\"><span class=\"txtu hbo\">יְהוָ֖ה </span></a></div> <div class='features'><span class=\"otype xft\" ><span class=\"f\">otype=</span>word</span></div></div></div></div></div></div><div class=\"contnr c1  rtl  \" ><div class=\"lbl c1  \" ><span class=\"nd\">phrase</span></div> <div class='features'><span class=\"otype xft\" ><span class=\"f\">otype=</span>phrase</span></div><div class=\"children row wrap rtl\"><div class=\"contnr cnul trm rtl  \" ><div class=\"children row wrap rtl\"><div class=\"contnr c0 trm rtl  \" ><div class=\"lbl c0 trm \" ><a class=\" txtu hbo\" target=\"_blank\" href=\"https://shebanq.ancient-data.org/hebrew/word?version=2017&amp;id=1AL\" title=\"Show this on SHEBANQ\"><span class=\"txtu hbo\">אֶל־</span></a></div> <div class='features'><span class=\"otype xft\" ><span class=\"f\">otype=</span>word</span></div></div><div class=\"contnr c0 trm rtl  \" ><div class=\"lbl c0 trm \" ><a class=\" txtu hbo\" target=\"_blank\" href=\"https://shebanq.ancient-data.org/hebrew/word?version=2017&amp;id=1MCHin\" title=\"Show this on SHEBANQ\"><span class=\"txtu hbo\">מֹשֶׁ֥ה </span></a></div> <div class='features'><span class=\"otype xft\" ><span class=\"f\">otype=</span>word</span></div></div></div></div></div></div></div></div></div></div><div class=\"contnr c2  rtl  \" ><div class=\"lbl c2  \" ><span class=\"nd\">clause</span></div> <div class='features'><span class=\"otype xft\" ><span class=\"f\">otype=</span>clause</span></div><div class=\"children row wrap rtl\"><div class=\"contnr cnul trm rtl  \" ><div class=\"children row wrap rtl\"><div class=\"contnr c1  rtl  \" ><div class=\"lbl c1  \" ><span class=\"nd\">phrase</span></div> <div class='features'><span class=\"otype xft\" ><span class=\"f\">otype=</span>phrase</span></div><div class=\"children row wrap rtl\"><div class=\"contnr cnul trm rtl  \" ><div class=\"children row wrap rtl\"><div class=\"contnr c0 trm rtl  \" ><div class=\"lbl c0 trm \" ><a class=\" txtu hbo\" target=\"_blank\" href=\"https://shebanq.ancient-data.org/hebrew/word?version=2017&amp;id=1L\" title=\"Show this on SHEBANQ\"><span class=\"txtu hbo\">לֵּ</span></a></div> <div class='features'><span class=\"otype xft\" ><span class=\"f\">otype=</span>word</span></div></div><div class=\"contnr c0 trm rtl  \" ><div class=\"lbl c0 trm \" ><a class=\" txtu hbo\" target=\"_blank\" href=\"https://shebanq.ancient-data.org/hebrew/word?version=2017&amp;id=1AMRv\" title=\"Show this on SHEBANQ\"><span class=\"txtu hbo\">אמֹֽר׃ </span></a></div> <div class='features'><span class=\"otype xft\" ><span class=\"f\">otype=</span>word</span></div></div></div></div></div></div></div></div></div></div></div></div></div></div></div></div>"
      ],
      "text/plain": [
       "<IPython.core.display.HTML object>"
      ]
     },
     "metadata": {},
     "output_type": "display_data"
    }
   ],
   "source": [
    "indent(reset=True)\n",
    "query = '''\n",
    "v:common otype=verse\n",
    "    s:common otype=sentence\n",
    "v == s\n",
    "'''\n",
    "resultsCustom = A.search(query, sets=customSets)\n",
    "A.table(resultsCustom, end=10, skipCols=\"1\")\n",
    "A.show(resultsCustom, start=1, end=1, skipCols=\"1\")\n",
    "info('Done')"
   ]
  },
  {
   "cell_type": "markdown",
   "metadata": {},
   "source": [
    "As a check we compute manually the maximum rank of the lexemes in the clauses yielded by the query without the custom sets:"
   ]
  },
  {
   "cell_type": "code",
   "execution_count": 19,
   "metadata": {},
   "outputs": [
    {
     "name": "stdout",
     "output_type": "stream",
     "text": [
      "Rejected 3466 non-common results, leaving 135 ones\n"
     ]
    }
   ],
   "source": [
    "rejected = 0\n",
    "for (verse, sentence) in results:\n",
    "    maxRank = max(F.rank_lex.v(w) for w in L.d(verse, otype='word'))\n",
    "    if maxRank >= COMMON_RANK:\n",
    "        rejected += 1\n",
    "        \n",
    "print(f'Rejected {rejected} non-common results, leaving {len(results) - rejected} ones')"
   ]
  },
  {
   "cell_type": "markdown",
   "metadata": {},
   "source": [
    "## && overlap\n",
    "\n",
    "Two objects overlap if and only if they share at least one slot.\n",
    "This is quite costly to use in some cases.\n",
    "\n",
    "We are going to find the sentences that overlap with two verses."
   ]
  },
  {
   "cell_type": "code",
   "execution_count": 20,
   "metadata": {},
   "outputs": [],
   "source": [
    "query = '''\n",
    "sentence\n",
    "/with/\n",
    "v1:verse\n",
    "&& ..\n",
    "v2:verse\n",
    "&& ..\n",
    "v1 < v2\n",
    "/-/\n",
    "'''"
   ]
  },
  {
   "cell_type": "markdown",
   "metadata": {},
   "source": [
    "Explanation: the query looks for sentences and delivers results that are tuples with only a sentence node.\n",
    "\n",
    "This is because the stuff within the `/with/` quantifier does not contribute to the result tuples.\n",
    "\n",
    "The `/with/` quantifier poses a few restrictions on its parent, the `sentence`.\n",
    "\n",
    "From within the quantifier you can refer to the parent by `..`.\n",
    "\n",
    "The condition is that there are verses `v1` and `v2` that have overlap with the sentence, and that `v1` comes before `v2`.\n",
    "\n",
    "The result is a tuple of exactly the sentences that span multiple verses."
   ]
  },
  {
   "cell_type": "code",
   "execution_count": 21,
   "metadata": {},
   "outputs": [
    {
     "name": "stdout",
     "output_type": "stream",
     "text": [
      "  1.30s 892 results\n"
     ]
    }
   ],
   "source": [
    "results = A.search(query)"
   ]
  },
  {
   "cell_type": "code",
   "execution_count": 23,
   "metadata": {},
   "outputs": [
    {
     "data": {
      "text/html": [
       "<table><tr class=\"tf\"><th class=\"tf\">n</th><th class=\"tf\">p</th><th class=\"tf\">sentence</th></tr>\n",
       "<tr class=\"tf\"><td class=\"tf\">1</td><td class=\"tf\"><span class=\"section ltr\"><a target=\"_blank\" href=\"https://shebanq.ancient-data.org/hebrew/text?book=Genesis&amp;chapter=1&amp;verse=17&amp;version=2017&amp;mr=m&amp;qw=q&amp;tp=txt_p&amp;tr=hb&amp;wget=v&amp;qget=v&amp;nget=vt\" title=\"Show this on SHEBANQ\" sec=\"Genesis 1:17\">Genesis 1:17</a></span></td><td class=\"tf\"><span class=\"plain  hlbx\" ><span class=\"plain  rtl  \" ><span class=\"plain  rtl\"></span><span class=\"plain  rtl  \" ><span class=\"plain  rtl\"></span><span class=\"plain  rtl  \" ><span class=\"plain  rtl\"></span><span class=\"plain  rtl  \" ><span class=\"txtu hbo\">וַ</span></span></span><span class=\"plain  rtl  \" ><span class=\"plain  rtl\"></span><span class=\"plain  rtl  \" ><span class=\"txtu hbo\">יִּתֵּ֥ן </span></span></span><span class=\"plain  rtl  \" ><span class=\"plain  rtl\"></span><span class=\"plain  rtl  \" ><span class=\"txtu hbo\">אֹתָ֛ם </span></span></span><span class=\"plain  rtl  \" ><span class=\"plain  rtl\"></span><span class=\"plain  rtl  \" ><span class=\"txtu hbo\">אֱלֹהִ֖ים </span></span></span><span class=\"plain  rtl  \" ><span class=\"plain  rtl\"></span><span class=\"plain  rtl  \" ><span class=\"txtu hbo\">בִּ</span></span><span class=\"plain  rtl  \" ><span class=\"txtu hbo\">רְקִ֣יעַ </span></span><span class=\"plain  rtl  \" ><span class=\"txtu hbo\">הַ</span></span><span class=\"plain  rtl  \" ><span class=\"txtu hbo\">שָּׁמָ֑יִם </span></span></span></span><span class=\"plain  rtl  \" ><span class=\"plain  rtl\"></span><span class=\"plain  rtl  \" ><span class=\"plain  rtl\"></span><span class=\"plain  rtl  \" ><span class=\"txtu hbo\">לְ</span></span><span class=\"plain  rtl  \" ><span class=\"txtu hbo\">הָאִ֖יר </span></span></span><span class=\"plain  rtl  \" ><span class=\"plain  rtl\"></span><span class=\"plain  rtl  \" ><span class=\"txtu hbo\">עַל־</span></span><span class=\"plain  rtl  \" ><span class=\"txtu hbo\">הָ</span></span><span class=\"plain  rtl  \" ><span class=\"txtu hbo\">אָֽרֶץ׃ </span></span></span></span><span class=\"plain  rtl  \" ><span class=\"plain  rtl\"></span><span class=\"plain  rtl  \" ><span class=\"plain  rtl\"></span><span class=\"plain  rtl  \" ><span class=\"txtu hbo\">וְ</span></span></span><span class=\"plain  rtl  \" ><span class=\"plain  rtl\"></span><span class=\"plain  rtl  \" ><span class=\"txtu hbo\">לִ</span></span><span class=\"plain  rtl  \" ><span class=\"txtu hbo\">מְשֹׁל֙ </span></span></span><span class=\"plain  rtl  \" ><span class=\"plain  rtl\"></span><span class=\"plain  rtl  \" ><span class=\"txtu hbo\">בַּ</span></span><span class=\"plain  rtl  \" ><span class=\"txtu hbo\"></span></span><span class=\"plain  rtl  \" ><span class=\"txtu hbo\">יֹּ֣ום </span></span><span class=\"plain  rtl  \" ><span class=\"txtu hbo\">וּ</span></span><span class=\"plain  rtl  \" ><span class=\"txtu hbo\">בַ</span></span><span class=\"plain  rtl  \" ><span class=\"txtu hbo\"></span></span><span class=\"plain  rtl  \" ><span class=\"txtu hbo\">לַּ֔יְלָה </span></span></span></span><span class=\"plain  rtl  \" ><span class=\"plain  rtl\"></span><span class=\"plain  rtl  \" ><span class=\"plain  rtl\"></span><span class=\"plain  rtl  \" ><span class=\"txtu hbo\">וּֽ</span></span></span><span class=\"plain  rtl  \" ><span class=\"plain  rtl\"></span><span class=\"plain  rtl  \" ><span class=\"txtu hbo\">לֲ</span></span><span class=\"plain  rtl  \" ><span class=\"txtu hbo\">הַבְדִּ֔יל </span></span></span><span class=\"plain  rtl  \" ><span class=\"plain  rtl\"></span><span class=\"plain  rtl  \" ><span class=\"txtu hbo\">בֵּ֥ין </span></span><span class=\"plain  rtl  \" ><span class=\"txtu hbo\">הָ</span></span><span class=\"plain  rtl  \" ><span class=\"txtu hbo\">אֹ֖ור </span></span><span class=\"plain  rtl  \" ><span class=\"txtu hbo\">וּ</span></span><span class=\"plain  rtl  \" ><span class=\"txtu hbo\">בֵ֣ין </span></span><span class=\"plain  rtl  \" ><span class=\"txtu hbo\">הַ</span></span><span class=\"plain  rtl  \" ><span class=\"txtu hbo\">חֹ֑שֶׁךְ </span></span></span></span></span></span></td></tr>\n",
       "<tr class=\"tf\"><td class=\"tf\">2</td><td class=\"tf\"><span class=\"section ltr\"><a target=\"_blank\" href=\"https://shebanq.ancient-data.org/hebrew/text?book=Genesis&amp;chapter=1&amp;verse=29&amp;version=2017&amp;mr=m&amp;qw=q&amp;tp=txt_p&amp;tr=hb&amp;wget=v&amp;qget=v&amp;nget=vt\" title=\"Show this on SHEBANQ\" sec=\"Genesis 1:29\">Genesis 1:29</a></span></td><td class=\"tf\"><span class=\"plain  l hlbx\" ><span class=\"plain  rtl  \" ><span class=\"plain  rtl\"></span><span class=\"plain  rtl  \" ><span class=\"plain  rtl\"></span><span class=\"plain  rtl  \" ><span class=\"plain  rtl\"></span><span class=\"plain  rtl  \" ><span class=\"txtu hbo\">הִנֵּה֩ </span></span></span><span class=\"plain  rtl  \" ><span class=\"plain  rtl\"></span><span class=\"plain  rtl  \" ><span class=\"txtu hbo\">נָתַ֨תִּי </span></span></span><span class=\"plain  rtl  \" ><span class=\"plain  rtl\"></span><span class=\"plain  rtl  \" ><span class=\"txtu hbo\">לָכֶ֜ם </span></span></span><span class=\"plain  rtl  \" ><span class=\"plain  rtl\"></span><span class=\"plain  rtl  \" ><span class=\"txtu hbo\">אֶת־</span></span><span class=\"plain  rtl  \" ><span class=\"txtu hbo\">כָּל־</span></span><span class=\"plain  rtl  \" ><span class=\"txtu hbo\">עֵ֣שֶׂב׀ </span></span></span></span><span class=\"plain  rtl  \" ><span class=\"plain  rtl\"></span><span class=\"plain  rtl  \" ><span class=\"plain  rtl\"></span><span class=\"plain  rtl  \" ><span class=\"txtu hbo\">זֹרֵ֣עַ </span></span></span><span class=\"plain  rtl  \" ><span class=\"plain  rtl\"></span><span class=\"plain  rtl  \" ><span class=\"txtu hbo\">זֶ֗רַע </span></span></span></span><span class=\"plain  rtl  \" ><span class=\"plain  rtl\"></span><span class=\"plain  rtl  \" ><span class=\"plain  rtl\"></span><span class=\"plain  rtl  \" ><span class=\"txtu hbo\">אֲשֶׁר֙ </span></span></span><span class=\"plain  rtl  \" ><span class=\"plain  rtl\"></span><span class=\"plain  rtl  \" ><span class=\"txtu hbo\">עַל־</span></span><span class=\"plain  rtl  \" ><span class=\"txtu hbo\">פְּנֵ֣י </span></span><span class=\"plain  rtl  \" ><span class=\"txtu hbo\">כָל־</span></span><span class=\"plain  rtl  \" ><span class=\"txtu hbo\">הָ</span></span><span class=\"plain  rtl  \" ><span class=\"txtu hbo\">אָ֔רֶץ </span></span></span></span><span class=\"plain  rtl  \" ><span class=\"plain  rtl\"></span><span class=\"plain  rtl  \" ><span class=\"plain  rtl\"></span><span class=\"plain  rtl  \" ><span class=\"txtu hbo\">וְ</span></span></span><span class=\"plain  rtl  \" ><span class=\"plain  rtl\"></span><span class=\"plain  rtl  \" ><span class=\"txtu hbo\">אֶת־</span></span><span class=\"plain  rtl  \" ><span class=\"txtu hbo\">כָּל־</span></span><span class=\"plain  rtl  \" ><span class=\"txtu hbo\">הָ</span></span><span class=\"plain  rtl  \" ><span class=\"txtu hbo\">עֵ֛ץ </span></span></span></span><span class=\"plain  rtl  \" ><span class=\"plain  rtl\"></span><span class=\"plain  rtl  \" ><span class=\"plain  rtl\"></span><span class=\"plain  rtl  \" ><span class=\"txtu hbo\">אֲשֶׁר־</span></span></span><span class=\"plain  rtl  \" ><span class=\"plain  rtl\"></span><span class=\"plain  rtl  \" ><span class=\"txtu hbo\">בֹּ֥ו </span></span></span><span class=\"plain  rtl  \" ><span class=\"plain  rtl\"></span><span class=\"plain  rtl  \" ><span class=\"txtu hbo\">פְרִי־</span></span><span class=\"plain  rtl  \" ><span class=\"txtu hbo\">עֵ֖ץ </span></span></span></span><span class=\"plain  rtl  \" ><span class=\"plain  rtl\"></span><span class=\"plain  rtl  \" ><span class=\"plain  rtl\"></span><span class=\"plain  rtl  \" ><span class=\"txtu hbo\">זֹרֵ֣עַ </span></span></span><span class=\"plain  rtl  \" ><span class=\"plain  rtl\"></span><span class=\"plain  rtl  \" ><span class=\"txtu hbo\">זָ֑רַע </span></span></span></span></span></span><span class=\"plain  r hlbx\" ><span class=\"plain  rtl  \" ><span class=\"plain  rtl\"></span><span class=\"plain  rtl  \" ><span class=\"plain  rtl\"></span><span class=\"plain  rtl  \" ><span class=\"plain  rtl\"></span><span class=\"plain  rtl  \" ><span class=\"txtu hbo\">וּֽ</span></span></span><span class=\"plain  rtl  \" ><span class=\"plain  rtl\"></span><span class=\"plain  rtl  \" ><span class=\"txtu hbo\">לְ</span></span><span class=\"plain  rtl  \" ><span class=\"txtu hbo\">כָל־</span></span><span class=\"plain  rtl  \" ><span class=\"txtu hbo\">חַיַּ֣ת </span></span><span class=\"plain  rtl  \" ><span class=\"txtu hbo\">הָ֠</span></span><span class=\"plain  rtl  \" ><span class=\"txtu hbo\">אָרֶץ </span></span><span class=\"plain  rtl  \" ><span class=\"txtu hbo\">וּ</span></span><span class=\"plain  rtl  \" ><span class=\"txtu hbo\">לְ</span></span><span class=\"plain  rtl  \" ><span class=\"txtu hbo\">כָל־</span></span><span class=\"plain  rtl  \" ><span class=\"txtu hbo\">עֹ֨וף </span></span><span class=\"plain  rtl  \" ><span class=\"txtu hbo\">הַ</span></span><span class=\"plain  rtl  \" ><span class=\"txtu hbo\">שָּׁמַ֜יִם </span></span><span class=\"plain  rtl  \" ><span class=\"txtu hbo\">וּ</span></span><span class=\"plain  rtl  \" ><span class=\"txtu hbo\">לְ</span></span><span class=\"plain  rtl  \" ><span class=\"txtu hbo\">כֹ֣ל׀ </span></span><span class=\"plain  rtl  \" ><span class=\"txtu hbo\">רֹומֵ֣שׂ </span></span></span><span class=\"plain  rtl  \" ><span class=\"plain  rtl\"></span><span class=\"plain  rtl  \" ><span class=\"txtu hbo\">עַל־</span></span><span class=\"plain  rtl  \" ><span class=\"txtu hbo\">הָ</span></span><span class=\"plain  rtl  \" ><span class=\"txtu hbo\">אָ֗רֶץ </span></span></span></span><span class=\"plain  rtl  \" ><span class=\"plain  rtl\"></span><span class=\"plain  rtl  \" ><span class=\"plain  rtl\"></span><span class=\"plain  rtl  \" ><span class=\"txtu hbo\">אֲשֶׁר־</span></span></span><span class=\"plain  rtl  \" ><span class=\"plain  rtl\"></span><span class=\"plain  rtl  \" ><span class=\"txtu hbo\">בֹּו֙ </span></span></span><span class=\"plain  rtl  \" ><span class=\"plain  rtl\"></span><span class=\"plain  rtl  \" ><span class=\"txtu hbo\">נֶ֣פֶשׁ </span></span><span class=\"plain  rtl  \" ><span class=\"txtu hbo\">חַיָּ֔ה </span></span></span></span><span class=\"plain  rtl  \" ><span class=\"plain  rtl\"></span><span class=\"plain  rtl  \" ><span class=\"plain  rtl\"></span><span class=\"plain  rtl  \" ><span class=\"txtu hbo\">אֶת־</span></span><span class=\"plain  rtl  \" ><span class=\"txtu hbo\">כָּל־</span></span><span class=\"plain  rtl  \" ><span class=\"txtu hbo\">יֶ֥רֶק </span></span><span class=\"plain  rtl  \" ><span class=\"txtu hbo\">עֵ֖שֶׂב </span></span></span><span class=\"plain  rtl  \" ><span class=\"plain  rtl\"></span><span class=\"plain  rtl  \" ><span class=\"txtu hbo\">לְ</span></span><span class=\"plain  rtl  \" ><span class=\"txtu hbo\">אָכְלָ֑ה </span></span></span></span></span></span></td></tr>\n",
       "<tr class=\"tf\"><td class=\"tf\">3</td><td class=\"tf\"><span class=\"section ltr\"><a target=\"_blank\" href=\"https://shebanq.ancient-data.org/hebrew/text?book=Genesis&amp;chapter=2&amp;verse=4&amp;version=2017&amp;mr=m&amp;qw=q&amp;tp=txt_p&amp;tr=hb&amp;wget=v&amp;qget=v&amp;nget=vt\" title=\"Show this on SHEBANQ\" sec=\"Genesis 2:4\">Genesis 2:4</a></span></td><td class=\"tf\"><span class=\"plain  l hlbx\" ><span class=\"plain  rtl  \" ><span class=\"plain  rtl\"></span><span class=\"plain  rtl  \" ><span class=\"plain  rtl\"></span><span class=\"plain  rtl  \" ><span class=\"plain  rtl\"></span><span class=\"plain  rtl  \" ><span class=\"txtu hbo\">בְּ</span></span><span class=\"plain  rtl  \" ><span class=\"txtu hbo\">יֹ֗ום </span></span></span></span><span class=\"plain  rtl  \" ><span class=\"plain  rtl\"></span><span class=\"plain  rtl  \" ><span class=\"plain  rtl\"></span><span class=\"plain  rtl  \" ><span class=\"txtu hbo\">עֲשֹׂ֛ות </span></span></span><span class=\"plain  rtl  \" ><span class=\"plain  rtl\"></span><span class=\"plain  rtl  \" ><span class=\"txtu hbo\">יְהוָ֥ה </span></span><span class=\"plain  rtl  \" ><span class=\"txtu hbo\">אֱלֹהִ֖ים </span></span></span><span class=\"plain  rtl  \" ><span class=\"plain  rtl\"></span><span class=\"plain  rtl  \" ><span class=\"txtu hbo\">אֶ֥רֶץ </span></span><span class=\"plain  rtl  \" ><span class=\"txtu hbo\">וְ</span></span><span class=\"plain  rtl  \" ><span class=\"txtu hbo\">שָׁמָֽיִם׃ </span></span></span></span></span></span><span class=\"plain  r hlbx\" ><span class=\"plain  rtl  \" ><span class=\"plain  rtl\"></span><span class=\"plain  rtl  \" ><span class=\"plain  rtl\"></span><span class=\"plain  rtl  \" ><span class=\"plain  rtl\"></span><span class=\"plain  rtl  \" ><span class=\"txtu hbo\">וַ</span></span></span><span class=\"plain  rtl  \" ><span class=\"plain  rtl\"></span><span class=\"plain  rtl  \" ><span class=\"txtu hbo\">יִּיצֶר֩ </span></span></span><span class=\"plain  rtl  \" ><span class=\"plain  rtl\"></span><span class=\"plain  rtl  \" ><span class=\"txtu hbo\">יְהוָ֨ה </span></span><span class=\"plain  rtl  \" ><span class=\"txtu hbo\">אֱלֹהִ֜ים </span></span></span><span class=\"plain  rtl  \" ><span class=\"plain  rtl\"></span><span class=\"plain  rtl  \" ><span class=\"txtu hbo\">אֶת־</span></span><span class=\"plain  rtl  \" ><span class=\"txtu hbo\">הָֽ</span></span><span class=\"plain  rtl  \" ><span class=\"txtu hbo\">אָדָ֗ם </span></span></span><span class=\"plain  rtl  \" ><span class=\"plain  rtl\"></span><span class=\"plain  rtl  \" ><span class=\"txtu hbo\">עָפָר֙ </span></span></span><span class=\"plain  rtl  \" ><span class=\"plain  rtl\"></span><span class=\"plain  rtl  \" ><span class=\"txtu hbo\">מִן־</span></span><span class=\"plain  rtl  \" ><span class=\"txtu hbo\">הָ֣</span></span><span class=\"plain  rtl  \" ><span class=\"txtu hbo\">אֲדָמָ֔ה </span></span></span></span></span></span></td></tr>\n",
       "<tr class=\"tf\"><td class=\"tf\">4</td><td class=\"tf\"><span class=\"section ltr\"><a target=\"_blank\" href=\"https://shebanq.ancient-data.org/hebrew/text?book=Genesis&amp;chapter=7&amp;verse=2&amp;version=2017&amp;mr=m&amp;qw=q&amp;tp=txt_p&amp;tr=hb&amp;wget=v&amp;qget=v&amp;nget=vt\" title=\"Show this on SHEBANQ\" sec=\"Genesis 7:2\">Genesis 7:2</a></span></td><td class=\"tf\"><span class=\"plain  hlbx\" ><span class=\"plain  rtl  \" ><span class=\"plain  rtl\"></span><span class=\"plain  rtl  \" ><span class=\"plain  rtl\"></span><span class=\"plain  rtl  \" ><span class=\"plain  rtl\"></span><span class=\"plain  rtl  \" ><span class=\"txtu hbo\">מִ</span></span><span class=\"plain  rtl  \" ><span class=\"txtu hbo\">כֹּ֣ל׀ </span></span><span class=\"plain  rtl  \" ><span class=\"txtu hbo\">הַ</span></span><span class=\"plain  rtl  \" ><span class=\"txtu hbo\">בְּהֵמָ֣ה </span></span><span class=\"plain  rtl  \" ><span class=\"txtu hbo\">הַ</span></span><span class=\"plain  rtl  \" ><span class=\"txtu hbo\">טְּהֹורָ֗ה </span></span></span><span class=\"plain  rtl  \" ><span class=\"plain  rtl\"></span><span class=\"plain  rtl  \" ><span class=\"txtu hbo\">תִּֽקַּח־</span></span></span><span class=\"plain  rtl  \" ><span class=\"plain  rtl\"></span><span class=\"plain  rtl  \" ><span class=\"txtu hbo\">לְךָ֛ </span></span></span><span class=\"plain  rtl  \" ><span class=\"plain  rtl\"></span><span class=\"plain  rtl  \" ><span class=\"txtu hbo\">שִׁבְעָ֥ה </span></span><span class=\"plain  rtl  \" ><span class=\"txtu hbo\">שִׁבְעָ֖ה </span></span></span><span class=\"plain  rtl  \" ><span class=\"plain  rtl\"></span><span class=\"plain  rtl  \" ><span class=\"txtu hbo\">אִ֣ישׁ </span></span><span class=\"plain  rtl  \" ><span class=\"txtu hbo\">וְ</span></span><span class=\"plain  rtl  \" ><span class=\"txtu hbo\">אִשְׁתֹּ֑ו </span></span></span></span><span class=\"plain  rtl  \" ><span class=\"plain  rtl\"></span><span class=\"plain  rtl  \" ><span class=\"plain  rtl\"></span><span class=\"plain  rtl  \" ><span class=\"txtu hbo\">וּ</span></span></span><span class=\"plain  rtl  \" ><span class=\"plain  rtl\"></span><span class=\"plain  rtl  \" ><span class=\"txtu hbo\">מִן־</span></span><span class=\"plain  rtl  \" ><span class=\"txtu hbo\">הַ</span></span><span class=\"plain  rtl  \" ><span class=\"txtu hbo\">בְּהֵמָ֡ה </span></span></span></span><span class=\"plain  rtl  \" ><span class=\"plain  rtl\"></span><span class=\"plain  rtl  \" ><span class=\"plain  rtl\"></span><span class=\"plain  rtl  \" ><span class=\"txtu hbo\">אֲ֠שֶׁר </span></span></span><span class=\"plain  rtl  \" ><span class=\"plain  rtl\"></span><span class=\"plain  rtl  \" ><span class=\"txtu hbo\">לֹ֣א </span></span></span><span class=\"plain  rtl  \" ><span class=\"plain  rtl\"></span><span class=\"plain  rtl  \" ><span class=\"txtu hbo\">טְהֹרָ֥ה </span></span></span><span class=\"plain  rtl  \" ><span class=\"plain  rtl\"></span><span class=\"plain  rtl  \" ><span class=\"txtu hbo\">הִ֛וא </span></span></span></span><span class=\"plain  rtl  \" ><span class=\"plain  rtl\"></span><span class=\"plain  rtl  \" ><span class=\"plain  rtl\"></span><span class=\"plain  rtl  \" ><span class=\"txtu hbo\">שְׁנַ֖יִם </span></span></span><span class=\"plain  rtl  \" ><span class=\"plain  rtl\"></span><span class=\"plain  rtl  \" ><span class=\"txtu hbo\">אִ֥ישׁ </span></span><span class=\"plain  rtl  \" ><span class=\"txtu hbo\">וְ</span></span><span class=\"plain  rtl  \" ><span class=\"txtu hbo\">אִשְׁתֹּֽו׃ </span></span></span></span><span class=\"plain  rtl  \" ><span class=\"plain  rtl\"></span><span class=\"plain  rtl  \" ><span class=\"plain  rtl\"></span><span class=\"plain  rtl  \" ><span class=\"txtu hbo\">גַּ֣ם </span></span><span class=\"plain  rtl  \" ><span class=\"txtu hbo\">מֵ</span></span><span class=\"plain  rtl  \" ><span class=\"txtu hbo\">עֹ֧וף </span></span><span class=\"plain  rtl  \" ><span class=\"txtu hbo\">הַ</span></span><span class=\"plain  rtl  \" ><span class=\"txtu hbo\">שָּׁמַ֛יִם </span></span></span><span class=\"plain  rtl  \" ><span class=\"plain  rtl\"></span><span class=\"plain  rtl  \" ><span class=\"txtu hbo\">שִׁבְעָ֥ה </span></span></span><span class=\"plain  rtl  \" ><span class=\"plain  rtl\"></span><span class=\"plain  rtl  \" ><span class=\"txtu hbo\">שִׁבְעָ֖ה </span></span></span><span class=\"plain  rtl  \" ><span class=\"plain  rtl\"></span><span class=\"plain  rtl  \" ><span class=\"txtu hbo\">זָכָ֣ר </span></span><span class=\"plain  rtl  \" ><span class=\"txtu hbo\">וּ</span></span><span class=\"plain  rtl  \" ><span class=\"txtu hbo\">נְקֵבָ֑ה </span></span></span></span><span class=\"plain  rtl  \" ><span class=\"plain  rtl\"></span><span class=\"plain  rtl  \" ><span class=\"plain  rtl\"></span><span class=\"plain  rtl  \" ><span class=\"txtu hbo\">לְ</span></span><span class=\"plain  rtl  \" ><span class=\"txtu hbo\">חַיֹּ֥ות </span></span></span><span class=\"plain  rtl  \" ><span class=\"plain  rtl\"></span><span class=\"plain  rtl  \" ><span class=\"txtu hbo\">זֶ֖רַע </span></span></span><span class=\"plain  rtl  \" ><span class=\"plain  rtl\"></span><span class=\"plain  rtl  \" ><span class=\"txtu hbo\">עַל־</span></span><span class=\"plain  rtl  \" ><span class=\"txtu hbo\">פְּנֵ֥י </span></span><span class=\"plain  rtl  \" ><span class=\"txtu hbo\">כָל־</span></span><span class=\"plain  rtl  \" ><span class=\"txtu hbo\">הָ</span></span><span class=\"plain  rtl  \" ><span class=\"txtu hbo\">אָֽרֶץ׃ </span></span></span></span></span></span></td></tr>\n",
       "<tr class=\"tf\"><td class=\"tf\">5</td><td class=\"tf\"><span class=\"section ltr\"><a target=\"_blank\" href=\"https://shebanq.ancient-data.org/hebrew/text?book=Genesis&amp;chapter=7&amp;verse=8&amp;version=2017&amp;mr=m&amp;qw=q&amp;tp=txt_p&amp;tr=hb&amp;wget=v&amp;qget=v&amp;nget=vt\" title=\"Show this on SHEBANQ\" sec=\"Genesis 7:8\">Genesis 7:8</a></span></td><td class=\"tf\"><span class=\"plain  hlbx\" ><span class=\"plain  rtl  \" ><span class=\"plain  rtl\"></span><span class=\"plain  rtl  \" ><span class=\"plain  rtl\"></span><span class=\"plain  rtl  \" ><span class=\"plain  rtl\"></span><span class=\"plain  rtl  \" ><span class=\"txtu hbo\">מִן־</span></span><span class=\"plain  rtl  \" ><span class=\"txtu hbo\">הַ</span></span><span class=\"plain  rtl  \" ><span class=\"txtu hbo\">בְּהֵמָה֙ </span></span><span class=\"plain  rtl  \" ><span class=\"txtu hbo\">הַ</span></span><span class=\"plain  rtl  \" ><span class=\"txtu hbo\">טְּהֹורָ֔ה </span></span><span class=\"plain  rtl  \" ><span class=\"txtu hbo\">וּ</span></span><span class=\"plain  rtl  \" ><span class=\"txtu hbo\">מִן־</span></span><span class=\"plain  rtl  \" ><span class=\"txtu hbo\">הַ֨</span></span><span class=\"plain  rtl  \" ><span class=\"txtu hbo\">בְּהֵמָ֔ה </span></span></span></span><span class=\"plain  rtl  \" ><span class=\"plain  rtl\"></span><span class=\"plain  rtl  \" ><span class=\"plain  rtl\"></span><span class=\"plain  rtl  \" ><span class=\"txtu hbo\">אֲשֶׁ֥ר </span></span></span><span class=\"plain  rtl  \" ><span class=\"plain  rtl\"></span><span class=\"plain  rtl  \" ><span class=\"txtu hbo\">אֵינֶ֖נָּה </span></span></span><span class=\"plain  rtl  \" ><span class=\"plain  rtl\"></span><span class=\"plain  rtl  \" ><span class=\"txtu hbo\">טְהֹרָ֑ה </span></span></span></span><span class=\"plain  rtl  \" ><span class=\"plain  rtl\"></span><span class=\"plain  rtl  \" ><span class=\"plain  rtl\"></span><span class=\"plain  rtl  \" ><span class=\"txtu hbo\">וּ</span></span></span><span class=\"plain  rtl  \" ><span class=\"plain  rtl\"></span><span class=\"plain  rtl  \" ><span class=\"txtu hbo\">מִ֨ן־</span></span><span class=\"plain  rtl  \" ><span class=\"txtu hbo\">הָ</span></span><span class=\"plain  rtl  \" ><span class=\"txtu hbo\">עֹ֔וף </span></span><span class=\"plain  rtl  \" ><span class=\"txtu hbo\">וְ</span></span><span class=\"plain  rtl  \" ><span class=\"txtu hbo\">כֹ֥ל </span></span></span></span><span class=\"plain  rtl  \" ><span class=\"plain  rtl\"></span><span class=\"plain  rtl  \" ><span class=\"plain  rtl\"></span><span class=\"plain  rtl  \" ><span class=\"txtu hbo\">אֲשֶׁר־</span></span></span><span class=\"plain  rtl  \" ><span class=\"plain  rtl\"></span><span class=\"plain  rtl  \" ><span class=\"txtu hbo\">רֹמֵ֖שׂ </span></span></span><span class=\"plain  rtl  \" ><span class=\"plain  rtl\"></span><span class=\"plain  rtl  \" ><span class=\"txtu hbo\">עַל־</span></span><span class=\"plain  rtl  \" ><span class=\"txtu hbo\">הָֽ</span></span><span class=\"plain  rtl  \" ><span class=\"txtu hbo\">אֲדָמָֽה׃ </span></span></span></span><span class=\"plain  rtl  \" ><span class=\"plain  rtl\"></span><span class=\"plain  rtl  \" ><span class=\"plain  rtl\"></span><span class=\"plain  rtl  \" ><span class=\"txtu hbo\">שְׁנַ֨יִם </span></span><span class=\"plain  rtl  \" ><span class=\"txtu hbo\">שְׁנַ֜יִם </span></span></span><span class=\"plain  rtl  \" ><span class=\"plain  rtl\"></span><span class=\"plain  rtl  \" ><span class=\"txtu hbo\">בָּ֧אוּ </span></span></span><span class=\"plain  rtl  \" ><span class=\"plain  rtl\"></span><span class=\"plain  rtl  \" ><span class=\"txtu hbo\">אֶל־</span></span><span class=\"plain  rtl  \" ><span class=\"txtu hbo\">נֹ֛חַ </span></span></span><span class=\"plain  rtl  \" ><span class=\"plain  rtl\"></span><span class=\"plain  rtl  \" ><span class=\"txtu hbo\">אֶל־</span></span><span class=\"plain  rtl  \" ><span class=\"txtu hbo\">הַ</span></span><span class=\"plain  rtl  \" ><span class=\"txtu hbo\">תֵּבָ֖ה </span></span></span><span class=\"plain  rtl  \" ><span class=\"plain  rtl\"></span><span class=\"plain  rtl  \" ><span class=\"txtu hbo\">זָכָ֣ר </span></span><span class=\"plain  rtl  \" ><span class=\"txtu hbo\">וּ</span></span><span class=\"plain  rtl  \" ><span class=\"txtu hbo\">נְקֵבָ֑ה </span></span></span></span><span class=\"plain  rtl  \" ><span class=\"plain  rtl\"></span><span class=\"plain  rtl  \" ><span class=\"plain  rtl\"></span><span class=\"plain  rtl  \" ><span class=\"txtu hbo\">כַּֽ</span></span><span class=\"plain  rtl  \" ><span class=\"txtu hbo\">אֲשֶׁ֛ר </span></span></span><span class=\"plain  rtl  \" ><span class=\"plain  rtl\"></span><span class=\"plain  rtl  \" ><span class=\"txtu hbo\">צִוָּ֥ה </span></span></span><span class=\"plain  rtl  \" ><span class=\"plain  rtl\"></span><span class=\"plain  rtl  \" ><span class=\"txtu hbo\">אֱלֹהִ֖ים </span></span></span><span class=\"plain  rtl  \" ><span class=\"plain  rtl\"></span><span class=\"plain  rtl  \" ><span class=\"txtu hbo\">אֶת־</span></span><span class=\"plain  rtl  \" ><span class=\"txtu hbo\">נֹֽחַ׃ </span></span></span></span></span></span></td></tr></table>"
      ],
      "text/plain": [
       "<IPython.core.display.HTML object>"
      ]
     },
     "metadata": {},
     "output_type": "display_data"
    },
    {
     "data": {
      "text/html": [
       "<p><b>result</b> <i>1</i></p>"
      ],
      "text/plain": [
       "<IPython.core.display.HTML object>"
      ]
     },
     "metadata": {},
     "output_type": "display_data"
    },
    {
     "data": {
      "text/html": [
       "<span class=\"section ltr\"><a target=\"_blank\" href=\"https://shebanq.ancient-data.org/hebrew/text?book=Genesis&amp;chapter=1&amp;verse=17&amp;version=2017&amp;mr=m&amp;qw=q&amp;tp=txt_p&amp;tr=hb&amp;wget=v&amp;qget=v&amp;nget=vt\" title=\"Show this on SHEBANQ\" sec=\"Genesis 1:17\">Genesis 1:17</a> </span><div class=\"contnr c3  rtl  \" ><div class=\"lbl c3  \" ><span class=\"nd\">verse</span></div> <div class=\"children row wrap rtl\"><div class=\"contnr c2  rtl  lno hl\" ><div class=\"lbl c2  hl\" ><span class=\"nd\">sentence</span></div> <div class=\"children row wrap rtl\"><div class=\"contnr cnul trm rtl  lno \" ><div class=\"children row wrap rtl\"><div class=\"contnr c2 trm rtl  \" ><div class=\"lbl c2 trm \" ><span class=\"nd\">clause</span> <span class=\"\"><span class=\"plain  rtl  \" ><span class=\"plain  rtl\"></span><span class=\"plain  rtl  \" ><span class=\"plain  rtl\"></span><span class=\"plain  rtl  \" ><span class=\"txtu hbo\">וַ</span></span></span><span class=\"plain  rtl  \" ><span class=\"plain  rtl\"></span><span class=\"plain  rtl  \" ><span class=\"txtu hbo\">יִּתֵּ֥ן </span></span></span><span class=\"plain  rtl  \" ><span class=\"plain  rtl\"></span><span class=\"plain  rtl  \" ><span class=\"txtu hbo\">אֹתָ֛ם </span></span></span><span class=\"plain  rtl  \" ><span class=\"plain  rtl\"></span><span class=\"plain  rtl  \" ><span class=\"txtu hbo\">אֱלֹהִ֖ים </span></span></span><span class=\"plain  rtl  \" ><span class=\"plain  rtl\"></span><span class=\"plain  rtl  \" ><span class=\"txtu hbo\">בִּ</span></span><span class=\"plain  rtl  \" ><span class=\"txtu hbo\">רְקִ֣יעַ </span></span><span class=\"plain  rtl  \" ><span class=\"txtu hbo\">הַ</span></span><span class=\"plain  rtl  \" ><span class=\"txtu hbo\">שָּׁמָ֑יִם </span></span></span></span></span></div> <div class=\"children row wrap rtl\"><div class=\"contnr cnul trm rtl  \" ></div></div></div><div class=\"contnr c2 trm rtl  \" ><div class=\"lbl c2 trm \" ><span class=\"nd\">clause</span> <span class=\"\"><span class=\"plain  rtl  \" ><span class=\"plain  rtl\"></span><span class=\"plain  rtl  \" ><span class=\"plain  rtl\"></span><span class=\"plain  rtl  \" ><span class=\"txtu hbo\">לְ</span></span><span class=\"plain  rtl  \" ><span class=\"txtu hbo\">הָאִ֖יר </span></span></span><span class=\"plain  rtl  \" ><span class=\"plain  rtl\"></span><span class=\"plain  rtl  \" ><span class=\"txtu hbo\">עַל־</span></span><span class=\"plain  rtl  \" ><span class=\"txtu hbo\">הָ</span></span><span class=\"plain  rtl  \" ><span class=\"txtu hbo\">אָֽרֶץ׃ </span></span></span></span></span></div> <div class=\"children row wrap rtl\"><div class=\"contnr cnul trm rtl  \" ></div></div></div></div></div></div></div></div></div>"
      ],
      "text/plain": [
       "<IPython.core.display.HTML object>"
      ]
     },
     "metadata": {},
     "output_type": "display_data"
    },
    {
     "data": {
      "text/html": [
       "<span class=\"section ltr\"><a target=\"_blank\" href=\"https://shebanq.ancient-data.org/hebrew/text?book=Genesis&amp;chapter=1&amp;verse=18&amp;version=2017&amp;mr=m&amp;qw=q&amp;tp=txt_p&amp;tr=hb&amp;wget=v&amp;qget=v&amp;nget=vt\" title=\"Show this on SHEBANQ\" sec=\"Genesis 1:18\">Genesis 1:18</a> </span><div class=\"contnr c3  rtl  \" ><div class=\"lbl c3  \" ><span class=\"nd\">verse</span></div> <div class=\"children row wrap rtl\"><div class=\"contnr c2  rtl  rno hl\" ><div class=\"lbl c2  hl\" ><span class=\"nd\">sentence</span></div> <div class=\"children row wrap rtl\"><div class=\"contnr cnul trm rtl  rno \" ><div class=\"children row wrap rtl\"><div class=\"contnr c2 trm rtl  \" ><div class=\"lbl c2 trm \" ><span class=\"nd\">clause</span> <span class=\"\"><span class=\"plain  rtl  \" ><span class=\"plain  rtl\"></span><span class=\"plain  rtl  \" ><span class=\"plain  rtl\"></span><span class=\"plain  rtl  \" ><span class=\"txtu hbo\">וְ</span></span></span><span class=\"plain  rtl  \" ><span class=\"plain  rtl\"></span><span class=\"plain  rtl  \" ><span class=\"txtu hbo\">לִ</span></span><span class=\"plain  rtl  \" ><span class=\"txtu hbo\">מְשֹׁל֙ </span></span></span><span class=\"plain  rtl  \" ><span class=\"plain  rtl\"></span><span class=\"plain  rtl  \" ><span class=\"txtu hbo\">בַּ</span></span><span class=\"plain  rtl  \" ><span class=\"txtu hbo\"></span></span><span class=\"plain  rtl  \" ><span class=\"txtu hbo\">יֹּ֣ום </span></span><span class=\"plain  rtl  \" ><span class=\"txtu hbo\">וּ</span></span><span class=\"plain  rtl  \" ><span class=\"txtu hbo\">בַ</span></span><span class=\"plain  rtl  \" ><span class=\"txtu hbo\"></span></span><span class=\"plain  rtl  \" ><span class=\"txtu hbo\">לַּ֔יְלָה </span></span></span></span></span></div> <div class=\"children row wrap rtl\"><div class=\"contnr cnul trm rtl  \" ></div></div></div><div class=\"contnr c2 trm rtl  \" ><div class=\"lbl c2 trm \" ><span class=\"nd\">clause</span> <span class=\"\"><span class=\"plain  rtl  \" ><span class=\"plain  rtl\"></span><span class=\"plain  rtl  \" ><span class=\"plain  rtl\"></span><span class=\"plain  rtl  \" ><span class=\"txtu hbo\">וּֽ</span></span></span><span class=\"plain  rtl  \" ><span class=\"plain  rtl\"></span><span class=\"plain  rtl  \" ><span class=\"txtu hbo\">לֲ</span></span><span class=\"plain  rtl  \" ><span class=\"txtu hbo\">הַבְדִּ֔יל </span></span></span><span class=\"plain  rtl  \" ><span class=\"plain  rtl\"></span><span class=\"plain  rtl  \" ><span class=\"txtu hbo\">בֵּ֥ין </span></span><span class=\"plain  rtl  \" ><span class=\"txtu hbo\">הָ</span></span><span class=\"plain  rtl  \" ><span class=\"txtu hbo\">אֹ֖ור </span></span><span class=\"plain  rtl  \" ><span class=\"txtu hbo\">וּ</span></span><span class=\"plain  rtl  \" ><span class=\"txtu hbo\">בֵ֣ין </span></span><span class=\"plain  rtl  \" ><span class=\"txtu hbo\">הַ</span></span><span class=\"plain  rtl  \" ><span class=\"txtu hbo\">חֹ֑שֶׁךְ </span></span></span></span></span></div> <div class=\"children row wrap rtl\"><div class=\"contnr cnul trm rtl  \" ></div></div></div></div></div></div></div><div class=\"contnr c2  rtl  \" ><div class=\"lbl c2  \" ><span class=\"nd\">sentence</span></div> <div class=\"children row wrap rtl\"><div class=\"contnr cnul trm rtl  \" ><div class=\"children row wrap rtl\"><div class=\"contnr c2 trm rtl  \" ><div class=\"lbl c2 trm \" ><span class=\"nd\">clause</span> <span class=\"\"><span class=\"plain  rtl  \" ><span class=\"plain  rtl\"></span><span class=\"plain  rtl  \" ><span class=\"plain  rtl\"></span><span class=\"plain  rtl  \" ><span class=\"txtu hbo\">וַ</span></span></span><span class=\"plain  rtl  \" ><span class=\"plain  rtl\"></span><span class=\"plain  rtl  \" ><span class=\"txtu hbo\">יַּ֥רְא </span></span></span><span class=\"plain  rtl  \" ><span class=\"plain  rtl\"></span><span class=\"plain  rtl  \" ><span class=\"txtu hbo\">אֱלֹהִ֖ים </span></span></span></span></span></div> <div class=\"children row wrap rtl\"><div class=\"contnr cnul trm rtl  \" ></div></div></div><div class=\"contnr c2 trm rtl  \" ><div class=\"lbl c2 trm \" ><span class=\"nd\">clause</span> <span class=\"\"><span class=\"plain  rtl  \" ><span class=\"plain  rtl\"></span><span class=\"plain  rtl  \" ><span class=\"plain  rtl\"></span><span class=\"plain  rtl  \" ><span class=\"txtu hbo\">כִּי־</span></span></span><span class=\"plain  rtl  \" ><span class=\"plain  rtl\"></span><span class=\"plain  rtl  \" ><span class=\"txtu hbo\">טֹֽוב׃ </span></span></span></span></span></div> <div class=\"children row wrap rtl\"><div class=\"contnr cnul trm rtl  \" ></div></div></div></div></div></div></div></div></div>"
      ],
      "text/plain": [
       "<IPython.core.display.HTML object>"
      ]
     },
     "metadata": {},
     "output_type": "display_data"
    },
    {
     "data": {
      "text/html": [
       "<p><b>result</b> <i>2</i></p>"
      ],
      "text/plain": [
       "<IPython.core.display.HTML object>"
      ]
     },
     "metadata": {},
     "output_type": "display_data"
    },
    {
     "data": {
      "text/html": [
       "<span class=\"section ltr\"><a target=\"_blank\" href=\"https://shebanq.ancient-data.org/hebrew/text?book=Genesis&amp;chapter=1&amp;verse=29&amp;version=2017&amp;mr=m&amp;qw=q&amp;tp=txt_p&amp;tr=hb&amp;wget=v&amp;qget=v&amp;nget=vt\" title=\"Show this on SHEBANQ\" sec=\"Genesis 1:29\">Genesis 1:29</a> </span><div class=\"contnr c3  rtl  \" ><div class=\"lbl c3  \" ><span class=\"nd\">verse</span></div> <div class=\"children row wrap rtl\"><div class=\"contnr c2  rtl  \" ><div class=\"lbl c2  \" ><span class=\"nd\">sentence</span></div> <div class=\"children row wrap rtl\"><div class=\"contnr cnul trm rtl  \" ><div class=\"children row wrap rtl\"><div class=\"contnr c2 trm rtl  \" ><div class=\"lbl c2 trm \" ><span class=\"nd\">clause</span> <span class=\"\"><span class=\"plain  rtl  \" ><span class=\"plain  rtl\"></span><span class=\"plain  rtl  \" ><span class=\"plain  rtl\"></span><span class=\"plain  rtl  \" ><span class=\"txtu hbo\">וַ</span></span></span><span class=\"plain  rtl  \" ><span class=\"plain  rtl\"></span><span class=\"plain  rtl  \" ><span class=\"txtu hbo\">יֹּ֣אמֶר </span></span></span><span class=\"plain  rtl  \" ><span class=\"plain  rtl\"></span><span class=\"plain  rtl  \" ><span class=\"txtu hbo\">אֱלֹהִ֗ים </span></span></span></span></span></div> <div class=\"children row wrap rtl\"><div class=\"contnr cnul trm rtl  \" ></div></div></div></div></div></div></div><div class=\"contnr c2  rtl  l hl\" ><div class=\"lbl c2  hl\" ><span class=\"nd\">sentence</span></div> <div class=\"children row wrap rtl\"><div class=\"contnr cnul trm rtl  \" ><div class=\"children row wrap rtl\"><div class=\"contnr c2 trm rtl  l \" ><div class=\"lbl c2 trm \" ><span class=\"nd\">clause</span> <span class=\"\"><span class=\"plain  rtl  \" ><span class=\"plain  rtl\"></span><span class=\"plain  rtl  \" ><span class=\"plain  rtl\"></span><span class=\"plain  rtl  \" ><span class=\"txtu hbo\">הִנֵּה֩ </span></span></span><span class=\"plain  rtl  \" ><span class=\"plain  rtl\"></span><span class=\"plain  rtl  \" ><span class=\"txtu hbo\">נָתַ֨תִּי </span></span></span><span class=\"plain  rtl  \" ><span class=\"plain  rtl\"></span><span class=\"plain  rtl  \" ><span class=\"txtu hbo\">לָכֶ֜ם </span></span></span><span class=\"plain  rtl  \" ><span class=\"plain  rtl\"></span><span class=\"plain  rtl  \" ><span class=\"txtu hbo\">אֶת־</span></span><span class=\"plain  rtl  \" ><span class=\"txtu hbo\">כָּל־</span></span><span class=\"plain  rtl  \" ><span class=\"txtu hbo\">עֵ֣שֶׂב׀ </span></span></span></span></span></div> <div class=\"children row wrap rtl\"><div class=\"contnr cnul trm rtl  \" ></div></div></div><div class=\"contnr c2 trm rtl  \" ><div class=\"lbl c2 trm \" ><span class=\"nd\">clause</span> <span class=\"\"><span class=\"plain  rtl  \" ><span class=\"plain  rtl\"></span><span class=\"plain  rtl  \" ><span class=\"plain  rtl\"></span><span class=\"plain  rtl  \" ><span class=\"txtu hbo\">זֹרֵ֣עַ </span></span></span><span class=\"plain  rtl  \" ><span class=\"plain  rtl\"></span><span class=\"plain  rtl  \" ><span class=\"txtu hbo\">זֶ֗רַע </span></span></span></span></span></div> <div class=\"children row wrap rtl\"><div class=\"contnr cnul trm rtl  \" ></div></div></div><div class=\"contnr c2 trm rtl  \" ><div class=\"lbl c2 trm \" ><span class=\"nd\">clause</span> <span class=\"\"><span class=\"plain  rtl  \" ><span class=\"plain  rtl\"></span><span class=\"plain  rtl  \" ><span class=\"plain  rtl\"></span><span class=\"plain  rtl  \" ><span class=\"txtu hbo\">אֲשֶׁר֙ </span></span></span><span class=\"plain  rtl  \" ><span class=\"plain  rtl\"></span><span class=\"plain  rtl  \" ><span class=\"txtu hbo\">עַל־</span></span><span class=\"plain  rtl  \" ><span class=\"txtu hbo\">פְּנֵ֣י </span></span><span class=\"plain  rtl  \" ><span class=\"txtu hbo\">כָל־</span></span><span class=\"plain  rtl  \" ><span class=\"txtu hbo\">הָ</span></span><span class=\"plain  rtl  \" ><span class=\"txtu hbo\">אָ֔רֶץ </span></span></span></span></span></div> <div class=\"children row wrap rtl\"><div class=\"contnr cnul trm rtl  \" ></div></div></div><div class=\"contnr c2 trm rtl  r \" ><div class=\"lbl c2 trm \" ><span class=\"nd\">clause</span> <span class=\"\"><span class=\"plain  rtl  \" ><span class=\"plain  rtl\"></span><span class=\"plain  rtl  \" ><span class=\"plain  rtl\"></span><span class=\"plain  rtl  \" ><span class=\"txtu hbo\">וְ</span></span></span><span class=\"plain  rtl  \" ><span class=\"plain  rtl\"></span><span class=\"plain  rtl  \" ><span class=\"txtu hbo\">אֶת־</span></span><span class=\"plain  rtl  \" ><span class=\"txtu hbo\">כָּל־</span></span><span class=\"plain  rtl  \" ><span class=\"txtu hbo\">הָ</span></span><span class=\"plain  rtl  \" ><span class=\"txtu hbo\">עֵ֛ץ </span></span></span></span></span></div> <div class=\"children row wrap rtl\"><div class=\"contnr cnul trm rtl  \" ></div></div></div><div class=\"contnr c2 trm rtl  \" ><div class=\"lbl c2 trm \" ><span class=\"nd\">clause</span> <span class=\"\"><span class=\"plain  rtl  \" ><span class=\"plain  rtl\"></span><span class=\"plain  rtl  \" ><span class=\"plain  rtl\"></span><span class=\"plain  rtl  \" ><span class=\"txtu hbo\">אֲשֶׁר־</span></span></span><span class=\"plain  rtl  \" ><span class=\"plain  rtl\"></span><span class=\"plain  rtl  \" ><span class=\"txtu hbo\">בֹּ֥ו </span></span></span><span class=\"plain  rtl  \" ><span class=\"plain  rtl\"></span><span class=\"plain  rtl  \" ><span class=\"txtu hbo\">פְרִי־</span></span><span class=\"plain  rtl  \" ><span class=\"txtu hbo\">עֵ֖ץ </span></span></span></span></span></div> <div class=\"children row wrap rtl\"><div class=\"contnr cnul trm rtl  \" ></div></div></div><div class=\"contnr c2 trm rtl  \" ><div class=\"lbl c2 trm \" ><span class=\"nd\">clause</span> <span class=\"\"><span class=\"plain  rtl  \" ><span class=\"plain  rtl\"></span><span class=\"plain  rtl  \" ><span class=\"plain  rtl\"></span><span class=\"plain  rtl  \" ><span class=\"txtu hbo\">זֹרֵ֣עַ </span></span></span><span class=\"plain  rtl  \" ><span class=\"plain  rtl\"></span><span class=\"plain  rtl  \" ><span class=\"txtu hbo\">זָ֑רַע </span></span></span></span></span></div> <div class=\"children row wrap rtl\"><div class=\"contnr cnul trm rtl  \" ></div></div></div></div></div></div></div><div class=\"contnr c2  rtl  \" ><div class=\"lbl c2  \" ><span class=\"nd\">sentence</span></div> <div class=\"children row wrap rtl\"><div class=\"contnr cnul trm rtl  \" ><div class=\"children row wrap rtl\"><div class=\"contnr c2 trm rtl  \" ><div class=\"lbl c2 trm \" ><span class=\"nd\">clause</span> <span class=\"\"><span class=\"plain  rtl  \" ><span class=\"plain  rtl\"></span><span class=\"plain  rtl  \" ><span class=\"plain  rtl\"></span><span class=\"plain  rtl  \" ><span class=\"txtu hbo\">לָכֶ֥ם </span></span></span><span class=\"plain  rtl  \" ><span class=\"plain  rtl\"></span><span class=\"plain  rtl  \" ><span class=\"txtu hbo\">יִֽהְיֶ֖ה </span></span></span><span class=\"plain  rtl  \" ><span class=\"plain  rtl\"></span><span class=\"plain  rtl  \" ><span class=\"txtu hbo\">לְ</span></span><span class=\"plain  rtl  \" ><span class=\"txtu hbo\">אָכְלָֽה׃ </span></span></span></span></span></div> <div class=\"children row wrap rtl\"><div class=\"contnr cnul trm rtl  \" ></div></div></div></div></div></div></div></div></div>"
      ],
      "text/plain": [
       "<IPython.core.display.HTML object>"
      ]
     },
     "metadata": {},
     "output_type": "display_data"
    },
    {
     "data": {
      "text/html": [
       "<span class=\"section ltr\"><a target=\"_blank\" href=\"https://shebanq.ancient-data.org/hebrew/text?book=Genesis&amp;chapter=1&amp;verse=30&amp;version=2017&amp;mr=m&amp;qw=q&amp;tp=txt_p&amp;tr=hb&amp;wget=v&amp;qget=v&amp;nget=vt\" title=\"Show this on SHEBANQ\" sec=\"Genesis 1:30\">Genesis 1:30</a> </span><div class=\"contnr c3  rtl  \" ><div class=\"lbl c3  \" ><span class=\"nd\">verse</span></div> <div class=\"children row wrap rtl\"><div class=\"contnr c2  rtl  r hl\" ><div class=\"lbl c2  hl\" ><span class=\"nd\">sentence</span></div> <div class=\"children row wrap rtl\"><div class=\"contnr cnul trm rtl  \" ><div class=\"children row wrap rtl\"><div class=\"contnr c2 trm rtl  l \" ><div class=\"lbl c2 trm \" ><span class=\"nd\">clause</span> <span class=\"\"><span class=\"plain  rtl  \" ><span class=\"plain  rtl\"></span><span class=\"plain  rtl  \" ><span class=\"plain  rtl\"></span><span class=\"plain  rtl  \" ><span class=\"txtu hbo\">וּֽ</span></span></span><span class=\"plain  rtl  \" ><span class=\"plain  rtl\"></span><span class=\"plain  rtl  \" ><span class=\"txtu hbo\">לְ</span></span><span class=\"plain  rtl  \" ><span class=\"txtu hbo\">כָל־</span></span><span class=\"plain  rtl  \" ><span class=\"txtu hbo\">חַיַּ֣ת </span></span><span class=\"plain  rtl  \" ><span class=\"txtu hbo\">הָ֠</span></span><span class=\"plain  rtl  \" ><span class=\"txtu hbo\">אָרֶץ </span></span><span class=\"plain  rtl  \" ><span class=\"txtu hbo\">וּ</span></span><span class=\"plain  rtl  \" ><span class=\"txtu hbo\">לְ</span></span><span class=\"plain  rtl  \" ><span class=\"txtu hbo\">כָל־</span></span><span class=\"plain  rtl  \" ><span class=\"txtu hbo\">עֹ֨וף </span></span><span class=\"plain  rtl  \" ><span class=\"txtu hbo\">הַ</span></span><span class=\"plain  rtl  \" ><span class=\"txtu hbo\">שָּׁמַ֜יִם </span></span><span class=\"plain  rtl  \" ><span class=\"txtu hbo\">וּ</span></span><span class=\"plain  rtl  \" ><span class=\"txtu hbo\">לְ</span></span><span class=\"plain  rtl  \" ><span class=\"txtu hbo\">כֹ֣ל׀ </span></span><span class=\"plain  rtl  \" ><span class=\"txtu hbo\">רֹומֵ֣שׂ </span></span></span><span class=\"plain  rtl  \" ><span class=\"plain  rtl\"></span><span class=\"plain  rtl  \" ><span class=\"txtu hbo\">עַל־</span></span><span class=\"plain  rtl  \" ><span class=\"txtu hbo\">הָ</span></span><span class=\"plain  rtl  \" ><span class=\"txtu hbo\">אָ֗רֶץ </span></span></span></span></span></div> <div class=\"children row wrap rtl\"><div class=\"contnr cnul trm rtl  \" ></div></div></div><div class=\"contnr c2 trm rtl  \" ><div class=\"lbl c2 trm \" ><span class=\"nd\">clause</span> <span class=\"\"><span class=\"plain  rtl  \" ><span class=\"plain  rtl\"></span><span class=\"plain  rtl  \" ><span class=\"plain  rtl\"></span><span class=\"plain  rtl  \" ><span class=\"txtu hbo\">אֲשֶׁר־</span></span></span><span class=\"plain  rtl  \" ><span class=\"plain  rtl\"></span><span class=\"plain  rtl  \" ><span class=\"txtu hbo\">בֹּו֙ </span></span></span><span class=\"plain  rtl  \" ><span class=\"plain  rtl\"></span><span class=\"plain  rtl  \" ><span class=\"txtu hbo\">נֶ֣פֶשׁ </span></span><span class=\"plain  rtl  \" ><span class=\"txtu hbo\">חַיָּ֔ה </span></span></span></span></span></div> <div class=\"children row wrap rtl\"><div class=\"contnr cnul trm rtl  \" ></div></div></div><div class=\"contnr c2 trm rtl  r \" ><div class=\"lbl c2 trm \" ><span class=\"nd\">clause</span> <span class=\"\"><span class=\"plain  rtl  \" ><span class=\"plain  rtl\"></span><span class=\"plain  rtl  \" ><span class=\"plain  rtl\"></span><span class=\"plain  rtl  \" ><span class=\"txtu hbo\">אֶת־</span></span><span class=\"plain  rtl  \" ><span class=\"txtu hbo\">כָּל־</span></span><span class=\"plain  rtl  \" ><span class=\"txtu hbo\">יֶ֥רֶק </span></span><span class=\"plain  rtl  \" ><span class=\"txtu hbo\">עֵ֖שֶׂב </span></span></span><span class=\"plain  rtl  \" ><span class=\"plain  rtl\"></span><span class=\"plain  rtl  \" ><span class=\"txtu hbo\">לְ</span></span><span class=\"plain  rtl  \" ><span class=\"txtu hbo\">אָכְלָ֑ה </span></span></span></span></span></div> <div class=\"children row wrap rtl\"><div class=\"contnr cnul trm rtl  \" ></div></div></div></div></div></div></div><div class=\"contnr c2  rtl  \" ><div class=\"lbl c2  \" ><span class=\"nd\">sentence</span></div> <div class=\"children row wrap rtl\"><div class=\"contnr cnul trm rtl  \" ><div class=\"children row wrap rtl\"><div class=\"contnr c2 trm rtl  \" ><div class=\"lbl c2 trm \" ><span class=\"nd\">clause</span> <span class=\"\"><span class=\"plain  rtl  \" ><span class=\"plain  rtl\"></span><span class=\"plain  rtl  \" ><span class=\"plain  rtl\"></span><span class=\"plain  rtl  \" ><span class=\"txtu hbo\">וַֽ</span></span></span><span class=\"plain  rtl  \" ><span class=\"plain  rtl\"></span><span class=\"plain  rtl  \" ><span class=\"txtu hbo\">יְהִי־</span></span></span><span class=\"plain  rtl  \" ><span class=\"plain  rtl\"></span><span class=\"plain  rtl  \" ><span class=\"txtu hbo\">כֵֽן׃ </span></span></span></span></span></div> <div class=\"children row wrap rtl\"><div class=\"contnr cnul trm rtl  \" ></div></div></div></div></div></div></div></div></div>"
      ],
      "text/plain": [
       "<IPython.core.display.HTML object>"
      ]
     },
     "metadata": {},
     "output_type": "display_data"
    },
    {
     "data": {
      "text/html": [
       "<p><b>result</b> <i>3</i></p>"
      ],
      "text/plain": [
       "<IPython.core.display.HTML object>"
      ]
     },
     "metadata": {},
     "output_type": "display_data"
    },
    {
     "data": {
      "text/html": [
       "<span class=\"section ltr\"><a target=\"_blank\" href=\"https://shebanq.ancient-data.org/hebrew/text?book=Genesis&amp;chapter=2&amp;verse=4&amp;version=2017&amp;mr=m&amp;qw=q&amp;tp=txt_p&amp;tr=hb&amp;wget=v&amp;qget=v&amp;nget=vt\" title=\"Show this on SHEBANQ\" sec=\"Genesis 2:4\">Genesis 2:4</a> </span><div class=\"contnr c3  rtl  \" ><div class=\"lbl c3  \" ><span class=\"nd\">verse</span></div> <div class=\"children row wrap rtl\"><div class=\"contnr c2  rtl  \" ><div class=\"lbl c2  \" ><span class=\"nd\">sentence</span></div> <div class=\"children row wrap rtl\"><div class=\"contnr cnul trm rtl  \" ><div class=\"children row wrap rtl\"><div class=\"contnr c2 trm rtl  \" ><div class=\"lbl c2 trm \" ><span class=\"nd\">clause</span> <span class=\"\"><span class=\"plain  rtl  \" ><span class=\"plain  rtl\"></span><span class=\"plain  rtl  \" ><span class=\"plain  rtl\"></span><span class=\"plain  rtl  \" ><span class=\"txtu hbo\">אֵ֣לֶּה </span></span></span><span class=\"plain  rtl  \" ><span class=\"plain  rtl\"></span><span class=\"plain  rtl  \" ><span class=\"txtu hbo\">תֹולְדֹ֧ות </span></span><span class=\"plain  rtl  \" ><span class=\"txtu hbo\">הַ</span></span><span class=\"plain  rtl  \" ><span class=\"txtu hbo\">שָּׁמַ֛יִם </span></span><span class=\"plain  rtl  \" ><span class=\"txtu hbo\">וְ</span></span><span class=\"plain  rtl  \" ><span class=\"txtu hbo\">הָ</span></span><span class=\"plain  rtl  \" ><span class=\"txtu hbo\">אָ֖רֶץ </span></span></span></span></span></div> <div class=\"children row wrap rtl\"><div class=\"contnr cnul trm rtl  \" ></div></div></div><div class=\"contnr c2 trm rtl  \" ><div class=\"lbl c2 trm \" ><span class=\"nd\">clause</span> <span class=\"\"><span class=\"plain  rtl  \" ><span class=\"plain  rtl\"></span><span class=\"plain  rtl  \" ><span class=\"plain  rtl\"></span><span class=\"plain  rtl  \" ><span class=\"txtu hbo\">בְּ</span></span><span class=\"plain  rtl  \" ><span class=\"txtu hbo\">הִבָּֽרְאָ֑ם </span></span></span></span></span></div> <div class=\"children row wrap rtl\"><div class=\"contnr cnul trm rtl  \" ></div></div></div></div></div></div></div><div class=\"contnr c2  rtl  l hl\" ><div class=\"lbl c2  hl\" ><span class=\"nd\">sentence</span></div> <div class=\"children row wrap rtl\"><div class=\"contnr cnul trm rtl  \" ><div class=\"children row wrap rtl\"><div class=\"contnr c2 trm rtl  \" ><div class=\"lbl c2 trm \" ><span class=\"nd\">clause</span> <span class=\"\"><span class=\"plain  rtl  \" ><span class=\"plain  rtl\"></span><span class=\"plain  rtl  \" ><span class=\"plain  rtl\"></span><span class=\"plain  rtl  \" ><span class=\"txtu hbo\">בְּ</span></span><span class=\"plain  rtl  \" ><span class=\"txtu hbo\">יֹ֗ום </span></span></span></span></span></div> <div class=\"children row wrap rtl\"><div class=\"contnr cnul trm rtl  \" ></div></div></div><div class=\"contnr c2 trm rtl  \" ><div class=\"lbl c2 trm \" ><span class=\"nd\">clause</span> <span class=\"\"><span class=\"plain  rtl  \" ><span class=\"plain  rtl\"></span><span class=\"plain  rtl  \" ><span class=\"plain  rtl\"></span><span class=\"plain  rtl  \" ><span class=\"txtu hbo\">עֲשֹׂ֛ות </span></span></span><span class=\"plain  rtl  \" ><span class=\"plain  rtl\"></span><span class=\"plain  rtl  \" ><span class=\"txtu hbo\">יְהוָ֥ה </span></span><span class=\"plain  rtl  \" ><span class=\"txtu hbo\">אֱלֹהִ֖ים </span></span></span><span class=\"plain  rtl  \" ><span class=\"plain  rtl\"></span><span class=\"plain  rtl  \" ><span class=\"txtu hbo\">אֶ֥רֶץ </span></span><span class=\"plain  rtl  \" ><span class=\"txtu hbo\">וְ</span></span><span class=\"plain  rtl  \" ><span class=\"txtu hbo\">שָׁמָֽיִם׃ </span></span></span></span></span></div> <div class=\"children row wrap rtl\"><div class=\"contnr cnul trm rtl  \" ></div></div></div></div></div></div></div></div></div>"
      ],
      "text/plain": [
       "<IPython.core.display.HTML object>"
      ]
     },
     "metadata": {},
     "output_type": "display_data"
    },
    {
     "data": {
      "text/html": [
       "<span class=\"section ltr\"><a target=\"_blank\" href=\"https://shebanq.ancient-data.org/hebrew/text?book=Genesis&amp;chapter=2&amp;verse=7&amp;version=2017&amp;mr=m&amp;qw=q&amp;tp=txt_p&amp;tr=hb&amp;wget=v&amp;qget=v&amp;nget=vt\" title=\"Show this on SHEBANQ\" sec=\"Genesis 2:7\">Genesis 2:7</a> </span><div class=\"contnr c3  rtl  \" ><div class=\"lbl c3  \" ><span class=\"nd\">verse</span></div> <div class=\"children row wrap rtl\"><div class=\"contnr c2  rtl  r hl\" ><div class=\"lbl c2  hl\" ><span class=\"nd\">sentence</span></div> <div class=\"children row wrap rtl\"><div class=\"contnr cnul trm rtl  \" ><div class=\"children row wrap rtl\"><div class=\"contnr c2 trm rtl  \" ><div class=\"lbl c2 trm \" ><span class=\"nd\">clause</span> <span class=\"\"><span class=\"plain  rtl  \" ><span class=\"plain  rtl\"></span><span class=\"plain  rtl  \" ><span class=\"plain  rtl\"></span><span class=\"plain  rtl  \" ><span class=\"txtu hbo\">וַ</span></span></span><span class=\"plain  rtl  \" ><span class=\"plain  rtl\"></span><span class=\"plain  rtl  \" ><span class=\"txtu hbo\">יִּיצֶר֩ </span></span></span><span class=\"plain  rtl  \" ><span class=\"plain  rtl\"></span><span class=\"plain  rtl  \" ><span class=\"txtu hbo\">יְהוָ֨ה </span></span><span class=\"plain  rtl  \" ><span class=\"txtu hbo\">אֱלֹהִ֜ים </span></span></span><span class=\"plain  rtl  \" ><span class=\"plain  rtl\"></span><span class=\"plain  rtl  \" ><span class=\"txtu hbo\">אֶת־</span></span><span class=\"plain  rtl  \" ><span class=\"txtu hbo\">הָֽ</span></span><span class=\"plain  rtl  \" ><span class=\"txtu hbo\">אָדָ֗ם </span></span></span><span class=\"plain  rtl  \" ><span class=\"plain  rtl\"></span><span class=\"plain  rtl  \" ><span class=\"txtu hbo\">עָפָר֙ </span></span></span><span class=\"plain  rtl  \" ><span class=\"plain  rtl\"></span><span class=\"plain  rtl  \" ><span class=\"txtu hbo\">מִן־</span></span><span class=\"plain  rtl  \" ><span class=\"txtu hbo\">הָ֣</span></span><span class=\"plain  rtl  \" ><span class=\"txtu hbo\">אֲדָמָ֔ה </span></span></span></span></span></div> <div class=\"children row wrap rtl\"><div class=\"contnr cnul trm rtl  \" ></div></div></div></div></div></div></div><div class=\"contnr c2  rtl  \" ><div class=\"lbl c2  \" ><span class=\"nd\">sentence</span></div> <div class=\"children row wrap rtl\"><div class=\"contnr cnul trm rtl  \" ><div class=\"children row wrap rtl\"><div class=\"contnr c2 trm rtl  \" ><div class=\"lbl c2 trm \" ><span class=\"nd\">clause</span> <span class=\"\"><span class=\"plain  rtl  \" ><span class=\"plain  rtl\"></span><span class=\"plain  rtl  \" ><span class=\"plain  rtl\"></span><span class=\"plain  rtl  \" ><span class=\"txtu hbo\">וַ</span></span></span><span class=\"plain  rtl  \" ><span class=\"plain  rtl\"></span><span class=\"plain  rtl  \" ><span class=\"txtu hbo\">יִּפַּ֥ח </span></span></span><span class=\"plain  rtl  \" ><span class=\"plain  rtl\"></span><span class=\"plain  rtl  \" ><span class=\"txtu hbo\">בְּ</span></span><span class=\"plain  rtl  \" ><span class=\"txtu hbo\">אַפָּ֖יו </span></span></span><span class=\"plain  rtl  \" ><span class=\"plain  rtl\"></span><span class=\"plain  rtl  \" ><span class=\"txtu hbo\">נִשְׁמַ֣ת </span></span><span class=\"plain  rtl  \" ><span class=\"txtu hbo\">חַיִּ֑ים </span></span></span></span></span></div> <div class=\"children row wrap rtl\"><div class=\"contnr cnul trm rtl  \" ></div></div></div></div></div></div></div><div class=\"contnr c2  rtl  \" ><div class=\"lbl c2  \" ><span class=\"nd\">sentence</span></div> <div class=\"children row wrap rtl\"><div class=\"contnr cnul trm rtl  \" ><div class=\"children row wrap rtl\"><div class=\"contnr c2 trm rtl  \" ><div class=\"lbl c2 trm \" ><span class=\"nd\">clause</span> <span class=\"\"><span class=\"plain  rtl  \" ><span class=\"plain  rtl\"></span><span class=\"plain  rtl  \" ><span class=\"plain  rtl\"></span><span class=\"plain  rtl  \" ><span class=\"txtu hbo\">וַֽ</span></span></span><span class=\"plain  rtl  \" ><span class=\"plain  rtl\"></span><span class=\"plain  rtl  \" ><span class=\"txtu hbo\">יְהִ֥י </span></span></span><span class=\"plain  rtl  \" ><span class=\"plain  rtl\"></span><span class=\"plain  rtl  \" ><span class=\"txtu hbo\">הָֽ</span></span><span class=\"plain  rtl  \" ><span class=\"txtu hbo\">אָדָ֖ם </span></span></span><span class=\"plain  rtl  \" ><span class=\"plain  rtl\"></span><span class=\"plain  rtl  \" ><span class=\"txtu hbo\">לְ</span></span><span class=\"plain  rtl  \" ><span class=\"txtu hbo\">נֶ֥פֶשׁ </span></span><span class=\"plain  rtl  \" ><span class=\"txtu hbo\">חַיָּֽה׃ </span></span></span></span></span></div> <div class=\"children row wrap rtl\"><div class=\"contnr cnul trm rtl  \" ></div></div></div></div></div></div></div></div></div>"
      ],
      "text/plain": [
       "<IPython.core.display.HTML object>"
      ]
     },
     "metadata": {},
     "output_type": "display_data"
    }
   ],
   "source": [
    "A.table(results, end=5)\n",
    "A.show(results, condensed=False, baseTypes=\"clause\", start=1, end=3)"
   ]
  },
  {
   "cell_type": "markdown",
   "metadata": {},
   "source": [
    "Now with custom sets:"
   ]
  },
  {
   "cell_type": "code",
   "execution_count": 24,
   "metadata": {},
   "outputs": [],
   "source": [
    "query = '''\n",
    "common otype=sentence\n",
    "/with/\n",
    "v1:verse\n",
    "&& ..\n",
    "v2:verse\n",
    "&& ..\n",
    "v1 < v2\n",
    "/-/\n",
    "'''"
   ]
  },
  {
   "cell_type": "code",
   "execution_count": 25,
   "metadata": {},
   "outputs": [
    {
     "name": "stdout",
     "output_type": "stream",
     "text": [
      "  1.38s 6 results\n"
     ]
    }
   ],
   "source": [
    "resultsCommon = A.search(query, sets=customSets)"
   ]
  },
  {
   "cell_type": "code",
   "execution_count": 26,
   "metadata": {},
   "outputs": [
    {
     "data": {
      "text/html": [
       "<table><tr class=\"tf\"><th class=\"tf\">n</th><th class=\"tf\">p</th><th class=\"tf\">sentence</th></tr>\n",
       "<tr class=\"tf\"><td class=\"tf\">1</td><td class=\"tf\"><span class=\"section ltr\"><a target=\"_blank\" href=\"https://shebanq.ancient-data.org/hebrew/text?book=Numeri&amp;chapter=27&amp;verse=8&amp;version=2017&amp;mr=m&amp;qw=q&amp;tp=txt_p&amp;tr=hb&amp;wget=v&amp;qget=v&amp;nget=vt\" title=\"Show this on SHEBANQ\" sec=\"Numbers 27:8\">Numbers 27:8</a></span></td><td class=\"tf\"><span class=\"plain  l hlbx\" ><span class=\"plain  rtl  \" ><span class=\"plain  rtl\"></span><span class=\"plain  rtl  \" ><span class=\"plain  rtl\"></span><span class=\"plain  rtl  \" ><span class=\"plain  rtl\"></span><span class=\"plain  rtl  \" ><span class=\"txtu hbo\">אִ֣ישׁ </span></span></span></span><span class=\"plain  rtl  \" ><span class=\"plain  rtl\"></span><span class=\"plain  rtl  \" ><span class=\"plain  rtl\"></span><span class=\"plain  rtl  \" ><span class=\"txtu hbo\">כִּֽי־</span></span></span><span class=\"plain  rtl  \" ><span class=\"plain  rtl\"></span><span class=\"plain  rtl  \" ><span class=\"txtu hbo\">יָמ֗וּת </span></span></span></span><span class=\"plain  rtl  \" ><span class=\"plain  rtl\"></span><span class=\"plain  rtl  \" ><span class=\"plain  rtl\"></span><span class=\"plain  rtl  \" ><span class=\"txtu hbo\">וּ</span></span></span><span class=\"plain  rtl  \" ><span class=\"plain  rtl\"></span><span class=\"plain  rtl  \" ><span class=\"txtu hbo\">בֵן֙ </span></span></span><span class=\"plain  rtl  \" ><span class=\"plain  rtl\"></span><span class=\"plain  rtl  \" ><span class=\"txtu hbo\">אֵ֣ין </span></span></span><span class=\"plain  rtl  \" ><span class=\"plain  rtl\"></span><span class=\"plain  rtl  \" ><span class=\"txtu hbo\">לֹ֔ו </span></span></span></span></span></span><span class=\"plain  r l hlbx\" ><span class=\"plain  rtl  \" ><span class=\"plain  rtl\"></span><span class=\"plain  rtl  \" ><span class=\"plain  rtl\"></span><span class=\"plain  rtl  \" ><span class=\"plain  rtl\"></span><span class=\"plain  rtl  \" ><span class=\"txtu hbo\">וְ</span></span></span><span class=\"plain  rtl  \" ><span class=\"plain  rtl\"></span><span class=\"plain  rtl  \" ><span class=\"txtu hbo\">אִם־</span></span></span><span class=\"plain  rtl  \" ><span class=\"plain  rtl\"></span><span class=\"plain  rtl  \" ><span class=\"txtu hbo\">אֵ֥ין </span></span></span><span class=\"plain  rtl  \" ><span class=\"plain  rtl\"></span><span class=\"plain  rtl  \" ><span class=\"txtu hbo\">לֹ֖ו </span></span></span><span class=\"plain  rtl  \" ><span class=\"plain  rtl\"></span><span class=\"plain  rtl  \" ><span class=\"txtu hbo\">בַּ֑ת </span></span></span></span></span></span><span class=\"plain  r l hlbx\" ><span class=\"plain  rtl  \" ><span class=\"plain  rtl\"></span><span class=\"plain  rtl  \" ><span class=\"plain  rtl\"></span><span class=\"plain  rtl  \" ><span class=\"plain  rtl\"></span><span class=\"plain  rtl  \" ><span class=\"txtu hbo\">וְ</span></span></span><span class=\"plain  rtl  \" ><span class=\"plain  rtl\"></span><span class=\"plain  rtl  \" ><span class=\"txtu hbo\">אִם־</span></span></span><span class=\"plain  rtl  \" ><span class=\"plain  rtl\"></span><span class=\"plain  rtl  \" ><span class=\"txtu hbo\">אֵ֥ין </span></span></span><span class=\"plain  rtl  \" ><span class=\"plain  rtl\"></span><span class=\"plain  rtl  \" ><span class=\"txtu hbo\">לֹ֖ו </span></span></span><span class=\"plain  rtl  \" ><span class=\"plain  rtl\"></span><span class=\"plain  rtl  \" ><span class=\"txtu hbo\">אַחִ֑ים </span></span></span></span></span></span><span class=\"plain  r hlbx\" ><span class=\"plain  rtl  \" ><span class=\"plain  rtl\"></span><span class=\"plain  rtl  \" ><span class=\"plain  rtl\"></span><span class=\"plain  rtl  \" ><span class=\"plain  rtl\"></span><span class=\"plain  rtl  \" ><span class=\"txtu hbo\">וְ</span></span></span><span class=\"plain  rtl  \" ><span class=\"plain  rtl\"></span><span class=\"plain  rtl  \" ><span class=\"txtu hbo\">אִם־</span></span></span><span class=\"plain  rtl  \" ><span class=\"plain  rtl\"></span><span class=\"plain  rtl  \" ><span class=\"txtu hbo\">אֵ֣ין </span></span></span><span class=\"plain  rtl  \" ><span class=\"plain  rtl\"></span><span class=\"plain  rtl  \" ><span class=\"txtu hbo\">אַחִים֮ </span></span></span><span class=\"plain  rtl  \" ><span class=\"plain  rtl\"></span><span class=\"plain  rtl  \" ><span class=\"txtu hbo\">לְ</span></span><span class=\"plain  rtl  \" ><span class=\"txtu hbo\">אָבִיו֒ </span></span></span></span></span></span></td></tr>\n",
       "<tr class=\"tf\"><td class=\"tf\">2</td><td class=\"tf\"><span class=\"section ltr\"><a target=\"_blank\" href=\"https://shebanq.ancient-data.org/hebrew/text?book=Jeremia&amp;chapter=7&amp;verse=24&amp;version=2017&amp;mr=m&amp;qw=q&amp;tp=txt_p&amp;tr=hb&amp;wget=v&amp;qget=v&amp;nget=vt\" title=\"Show this on SHEBANQ\" sec=\"Jeremiah 7:24\">Jeremiah 7:24</a></span></td><td class=\"tf\"><span class=\"plain  l hlbx\" ><span class=\"plain  rtl  \" ><span class=\"plain  rtl\"></span><span class=\"plain  rtl  \" ><span class=\"plain  rtl\"></span><span class=\"plain  rtl  \" ><span class=\"plain  rtl\"></span><span class=\"plain  rtl  \" ><span class=\"txtu hbo\">וְ</span></span></span><span class=\"plain  rtl  \" ><span class=\"plain  rtl\"></span><span class=\"plain  rtl  \" ><span class=\"txtu hbo\">לֹ֤א </span></span></span><span class=\"plain  rtl  \" ><span class=\"plain  rtl\"></span><span class=\"plain  rtl  \" ><span class=\"txtu hbo\">שָֽׁמְעוּ֙ </span></span></span></span></span></span><span class=\"plain  r hlbx\" ><span class=\"plain  rtl  \" ><span class=\"plain  rtl\"></span><span class=\"plain  rtl  \" ><span class=\"plain  rtl\"></span><span class=\"plain  rtl  \" ><span class=\"plain  rtl\"></span><span class=\"plain  rtl  \" ><span class=\"txtu hbo\">לְ</span></span><span class=\"plain  rtl  \" ><span class=\"txtu hbo\">מִן־</span></span><span class=\"plain  rtl  \" ><span class=\"txtu hbo\">הַ</span></span><span class=\"plain  rtl  \" ><span class=\"txtu hbo\">יֹּ֗ום </span></span></span></span><span class=\"plain  rtl  \" ><span class=\"plain  rtl\"></span><span class=\"plain  rtl  \" ><span class=\"plain  rtl\"></span><span class=\"plain  rtl  \" ><span class=\"txtu hbo\">אֲשֶׁ֨ר </span></span></span><span class=\"plain  rtl  \" ><span class=\"plain  rtl\"></span><span class=\"plain  rtl  \" ><span class=\"txtu hbo\">יָצְא֤וּ </span></span></span><span class=\"plain  rtl  \" ><span class=\"plain  rtl\"></span><span class=\"plain  rtl  \" ><span class=\"txtu hbo\">אֲבֹֽותֵיכֶם֙ </span></span></span><span class=\"plain  rtl  \" ><span class=\"plain  rtl\"></span><span class=\"plain  rtl  \" ><span class=\"txtu hbo\">מֵ</span></span><span class=\"plain  rtl  \" ><span class=\"txtu hbo\">אֶ֣רֶץ </span></span><span class=\"plain  rtl  \" ><span class=\"txtu hbo\">מִצְרַ֔יִם </span></span></span></span><span class=\"plain  rtl  \" ><span class=\"plain  rtl\"></span><span class=\"plain  rtl  \" ><span class=\"plain  rtl\"></span><span class=\"plain  rtl  \" ><span class=\"txtu hbo\">עַ֖ד </span></span><span class=\"plain  rtl  \" ><span class=\"txtu hbo\">הַ</span></span><span class=\"plain  rtl  \" ><span class=\"txtu hbo\">יֹּ֣ום </span></span><span class=\"plain  rtl  \" ><span class=\"txtu hbo\">הַ</span></span><span class=\"plain  rtl  \" ><span class=\"txtu hbo\">זֶּ֑ה </span></span></span></span></span></span></td></tr>\n",
       "<tr class=\"tf\"><td class=\"tf\">3</td><td class=\"tf\"><span class=\"section ltr\"><a target=\"_blank\" href=\"https://shebanq.ancient-data.org/hebrew/text?book=Jeremia&amp;chapter=21&amp;verse=8&amp;version=2017&amp;mr=m&amp;qw=q&amp;tp=txt_p&amp;tr=hb&amp;wget=v&amp;qget=v&amp;nget=vt\" title=\"Show this on SHEBANQ\" sec=\"Jeremiah 21:8\">Jeremiah 21:8</a></span></td><td class=\"tf\"><span class=\"plain  l hlbx\" ><span class=\"plain  rtl  \" ><span class=\"plain  rtl\"></span><span class=\"plain  rtl  \" ><span class=\"plain  rtl\"></span><span class=\"plain  rtl  \" ><span class=\"plain  rtl\"></span><span class=\"plain  rtl  \" ><span class=\"txtu hbo\">וְ</span></span></span><span class=\"plain  rtl  \" ><span class=\"plain  rtl\"></span><span class=\"plain  rtl  \" ><span class=\"txtu hbo\">אֶל־</span></span><span class=\"plain  rtl  \" ><span class=\"txtu hbo\">הָ</span></span><span class=\"plain  rtl  \" ><span class=\"txtu hbo\">עָ֤ם </span></span><span class=\"plain  rtl  \" ><span class=\"txtu hbo\">הַ</span></span><span class=\"plain  rtl  \" ><span class=\"txtu hbo\">זֶּה֙ </span></span></span><span class=\"plain  rtl  \" ><span class=\"plain  rtl\"></span><span class=\"plain  rtl  \" ><span class=\"txtu hbo\">תֹּאמַ֔ר </span></span></span></span></span></span><span class=\"plain  r hlbx\" ><span class=\"plain  rtl  \" ><span class=\"plain  rtl\"></span><span class=\"plain  rtl  \" ><span class=\"plain  rtl\"></span><span class=\"plain  rtl  \" ><span class=\"plain  rtl\"></span><span class=\"plain  rtl  \" ><span class=\"txtu hbo\">וּ</span></span></span><span class=\"plain  rtl  \" ><span class=\"plain  rtl\"></span><span class=\"plain  rtl  \" ><span class=\"txtu hbo\">לְ</span></span><span class=\"plain  rtl  \" ><span class=\"txtu hbo\">בֵית֙ </span></span><span class=\"plain  rtl  \" ><span class=\"txtu hbo\">מֶ֣לֶךְ </span></span><span class=\"plain  rtl  \" ><span class=\"txtu hbo\">יְהוּדָ֔ה </span></span></span></span></span></span></td></tr>\n",
       "<tr class=\"tf\"><td class=\"tf\">4</td><td class=\"tf\"><span class=\"section ltr\"><a target=\"_blank\" href=\"https://shebanq.ancient-data.org/hebrew/text?book=Jeremia&amp;chapter=21&amp;verse=11&amp;version=2017&amp;mr=m&amp;qw=q&amp;tp=txt_p&amp;tr=hb&amp;wget=v&amp;qget=v&amp;nget=vt\" title=\"Show this on SHEBANQ\" sec=\"Jeremiah 21:11\">Jeremiah 21:11</a></span></td><td class=\"tf\"><span class=\"plain  hlbx\" ><span class=\"plain  rtl  \" ><span class=\"plain  rtl\"></span><span class=\"plain  rtl  \" ><span class=\"plain  rtl\"></span><span class=\"plain  rtl  \" ><span class=\"plain  rtl\"></span><span class=\"plain  rtl  \" ><span class=\"txtu hbo\">שִׁמְע֖וּ </span></span></span><span class=\"plain  rtl  \" ><span class=\"plain  rtl\"></span><span class=\"plain  rtl  \" ><span class=\"txtu hbo\">דְּבַר־</span></span><span class=\"plain  rtl  \" ><span class=\"txtu hbo\">יְהוָֽה׃ </span></span></span></span><span class=\"plain  rtl  \" ><span class=\"plain  rtl\"></span><span class=\"plain  rtl  \" ><span class=\"plain  rtl\"></span><span class=\"plain  rtl  \" ><span class=\"txtu hbo\">בֵּ֣ית </span></span><span class=\"plain  rtl  \" ><span class=\"txtu hbo\">דָּוִ֗ד </span></span></span></span></span></span></td></tr>\n",
       "<tr class=\"tf\"><td class=\"tf\">5</td><td class=\"tf\"><span class=\"section ltr\"><a target=\"_blank\" href=\"https://shebanq.ancient-data.org/hebrew/text?book=Ezechiel&amp;chapter=37&amp;verse=18&amp;version=2017&amp;mr=m&amp;qw=q&amp;tp=txt_p&amp;tr=hb&amp;wget=v&amp;qget=v&amp;nget=vt\" title=\"Show this on SHEBANQ\" sec=\"Ezekiel 37:18\">Ezekiel 37:18</a></span></td><td class=\"tf\"><span class=\"plain  l hlbx\" ><span class=\"plain  rtl  \" ><span class=\"plain  rtl\"></span><span class=\"plain  rtl  \" ><span class=\"plain  rtl\"></span><span class=\"plain  rtl  \" ><span class=\"plain  rtl\"></span><span class=\"plain  rtl  \" ><span class=\"txtu hbo\">וְ</span></span></span></span><span class=\"plain  rtl  \" ><span class=\"plain  rtl\"></span><span class=\"plain  rtl  \" ><span class=\"plain  rtl\"></span><span class=\"plain  rtl  \" ><span class=\"txtu hbo\">כַֽ</span></span><span class=\"plain  rtl  \" ><span class=\"txtu hbo\">אֲשֶׁר֙ </span></span></span><span class=\"plain  rtl  \" ><span class=\"plain  rtl\"></span><span class=\"plain  rtl  \" ><span class=\"txtu hbo\">יֹאמְר֣וּ </span></span></span><span class=\"plain  rtl  \" ><span class=\"plain  rtl\"></span><span class=\"plain  rtl  \" ><span class=\"txtu hbo\">אֵלֶ֔יךָ </span></span></span><span class=\"plain  rtl  \" ><span class=\"plain  rtl\"></span><span class=\"plain  rtl  \" ><span class=\"txtu hbo\">בְּנֵ֥י </span></span><span class=\"plain  rtl  \" ><span class=\"txtu hbo\">עַמְּךָ֖ </span></span></span></span><span class=\"plain  rtl  \" ><span class=\"plain  rtl\"></span><span class=\"plain  rtl  \" ><span class=\"plain  rtl\"></span><span class=\"plain  rtl  \" ><span class=\"txtu hbo\">לֵ</span></span><span class=\"plain  rtl  \" ><span class=\"txtu hbo\">אמֹ֑ר </span></span></span></span></span></span><span class=\"plain  r hlbx\" ><span class=\"plain  rtl  \" ><span class=\"plain  rtl\"></span><span class=\"plain  rtl  \" ><span class=\"plain  rtl\"></span><span class=\"plain  rtl  \" ><span class=\"plain  rtl\"></span><span class=\"plain  rtl  \" ><span class=\"txtu hbo\">דַּבֵּ֣ר </span></span></span><span class=\"plain  rtl  \" ><span class=\"plain  rtl\"></span><span class=\"plain  rtl  \" ><span class=\"txtu hbo\">אֲלֵהֶ֗ם </span></span></span></span></span></span></td></tr>\n",
       "<tr class=\"tf\"><td class=\"tf\">6</td><td class=\"tf\"><span class=\"section ltr\"><a target=\"_blank\" href=\"https://shebanq.ancient-data.org/hebrew/text?book=Psalmi&amp;chapter=25&amp;verse=1&amp;version=2017&amp;mr=m&amp;qw=q&amp;tp=txt_p&amp;tr=hb&amp;wget=v&amp;qget=v&amp;nget=vt\" title=\"Show this on SHEBANQ\" sec=\"Psalms 25:1\">Psalms 25:1</a></span></td><td class=\"tf\"><span class=\"plain  hlbx\" ><span class=\"plain  rtl  \" ><span class=\"plain  rtl\"></span><span class=\"plain  rtl  \" ><span class=\"plain  rtl\"></span><span class=\"plain  rtl  \" ><span class=\"plain  rtl\"></span><span class=\"plain  rtl  \" ><span class=\"txtu hbo\">אֵלֶ֥יךָ </span></span></span></span><span class=\"plain  rtl  \" ><span class=\"plain  rtl\"></span><span class=\"plain  rtl  \" ><span class=\"plain  rtl\"></span><span class=\"plain  rtl  \" ><span class=\"txtu hbo\">יְ֝הוָ֗ה </span></span></span></span><span class=\"plain  rtl  \" ><span class=\"plain  rtl\"></span><span class=\"plain  rtl  \" ><span class=\"plain  rtl\"></span><span class=\"plain  rtl  \" ><span class=\"txtu hbo\">נַפְשִׁ֥י </span></span></span><span class=\"plain  rtl  \" ><span class=\"plain  rtl\"></span><span class=\"plain  rtl  \" ><span class=\"txtu hbo\">אֶשָּֽׂא׃ </span></span></span></span><span class=\"plain  rtl  \" ><span class=\"plain  rtl\"></span><span class=\"plain  rtl  \" ><span class=\"plain  rtl\"></span><span class=\"plain  rtl  \" ><span class=\"txtu hbo\">אֱֽלֹהַ֗י </span></span></span></span></span></span></td></tr></table>"
      ],
      "text/plain": [
       "<IPython.core.display.HTML object>"
      ]
     },
     "metadata": {},
     "output_type": "display_data"
    }
   ],
   "source": [
    "A.table(resultsCommon)"
   ]
  },
  {
   "cell_type": "markdown",
   "metadata": {},
   "source": [
    "The following query has the same results but is less insightful."
   ]
  },
  {
   "cell_type": "code",
   "execution_count": 27,
   "metadata": {},
   "outputs": [],
   "source": [
    "query = '''\n",
    "sentence\n",
    "  =: w1:word\n",
    "  w2:word\n",
    "  :=\n",
    "\n",
    "v1:verse\n",
    "  wv1:word\n",
    "\n",
    "v2:verse\n",
    "  wv2:word\n",
    "\n",
    "w1 = wv1\n",
    "w2 = wv2\n",
    "v1 < v2\n",
    "'''"
   ]
  },
  {
   "cell_type": "code",
   "execution_count": 28,
   "metadata": {},
   "outputs": [
    {
     "name": "stdout",
     "output_type": "stream",
     "text": [
      "  2.59s 892 results\n"
     ]
    }
   ],
   "source": [
    "indent(reset=True)\n",
    "fastResults = A.search(query)\n",
    "info('Done')"
   ]
  },
  {
   "cell_type": "code",
   "execution_count": 29,
   "metadata": {},
   "outputs": [
    {
     "data": {
      "text/plain": [
       "True"
      ]
     },
     "execution_count": 29,
     "metadata": {},
     "output_type": "execute_result"
    }
   ],
   "source": [
    "sorted((x[0],) for x in fastResults) == sorted(results)"
   ]
  },
  {
   "cell_type": "markdown",
   "metadata": {},
   "source": [
    "## ## not the same slots\n",
    "\n",
    "True when the two objects in question do not occupy exactly the same set of slots.\n",
    "This is a very loose relationship.\n",
    "\n",
    "We look for sentences that start with a sentence atom that is not co-extensive with its sentence."
   ]
  },
  {
   "cell_type": "code",
   "execution_count": 32,
   "metadata": {
    "ExecuteTime": {
     "end_time": "2018-05-24T09:15:45.123089Z",
     "start_time": "2018-05-24T09:15:19.569287Z"
    }
   },
   "outputs": [
    {
     "name": "stdout",
     "output_type": "stream",
     "text": [
      "  0.25s 697 results\n"
     ]
    },
    {
     "data": {
      "text/html": [
       "<table><tr class=\"tf\"><th class=\"tf\">n</th><th class=\"tf\">p</th><th class=\"tf\">sentence</th><th class=\"tf\">sentence_atom</th></tr>\n",
       "<tr class=\"tf\"><td class=\"tf\">1</td><td class=\"tf\"><span class=\"section ltr\"><a target=\"_blank\" href=\"https://shebanq.ancient-data.org/hebrew/text?book=Genesis&amp;chapter=1&amp;verse=29&amp;version=2017&amp;mr=m&amp;qw=q&amp;tp=txt_p&amp;tr=hb&amp;wget=v&amp;qget=v&amp;nget=vt\" title=\"Show this on SHEBANQ\" sec=\"Genesis 1:29\">Genesis 1:29</a></span></td><td class=\"tf\"><span class=\"plain  l hlbx\" ><span class=\"plain  rtl  hlbx\" ><span class=\"plain  rtl\"></span><span class=\"plain  rtl  \" ><span class=\"plain  rtl\"></span><span class=\"plain  rtl  \" ><span class=\"plain  rtl\"></span><span class=\"plain  rtl  \" ><span class=\"txtu hbo\">הִנֵּה֩ </span></span></span><span class=\"plain  rtl  \" ><span class=\"plain  rtl\"></span><span class=\"plain  rtl  \" ><span class=\"txtu hbo\">נָתַ֨תִּי </span></span></span><span class=\"plain  rtl  \" ><span class=\"plain  rtl\"></span><span class=\"plain  rtl  \" ><span class=\"txtu hbo\">לָכֶ֜ם </span></span></span><span class=\"plain  rtl  \" ><span class=\"plain  rtl\"></span><span class=\"plain  rtl  \" ><span class=\"txtu hbo\">אֶת־</span></span><span class=\"plain  rtl  \" ><span class=\"txtu hbo\">כָּל־</span></span><span class=\"plain  rtl  \" ><span class=\"txtu hbo\">עֵ֣שֶׂב׀ </span></span></span></span><span class=\"plain  rtl  \" ><span class=\"plain  rtl\"></span><span class=\"plain  rtl  \" ><span class=\"plain  rtl\"></span><span class=\"plain  rtl  \" ><span class=\"txtu hbo\">זֹרֵ֣עַ </span></span></span><span class=\"plain  rtl  \" ><span class=\"plain  rtl\"></span><span class=\"plain  rtl  \" ><span class=\"txtu hbo\">זֶ֗רַע </span></span></span></span><span class=\"plain  rtl  \" ><span class=\"plain  rtl\"></span><span class=\"plain  rtl  \" ><span class=\"plain  rtl\"></span><span class=\"plain  rtl  \" ><span class=\"txtu hbo\">אֲשֶׁר֙ </span></span></span><span class=\"plain  rtl  \" ><span class=\"plain  rtl\"></span><span class=\"plain  rtl  \" ><span class=\"txtu hbo\">עַל־</span></span><span class=\"plain  rtl  \" ><span class=\"txtu hbo\">פְּנֵ֣י </span></span><span class=\"plain  rtl  \" ><span class=\"txtu hbo\">כָל־</span></span><span class=\"plain  rtl  \" ><span class=\"txtu hbo\">הָ</span></span><span class=\"plain  rtl  \" ><span class=\"txtu hbo\">אָ֔רֶץ </span></span></span></span><span class=\"plain  rtl  \" ><span class=\"plain  rtl\"></span><span class=\"plain  rtl  \" ><span class=\"plain  rtl\"></span><span class=\"plain  rtl  \" ><span class=\"txtu hbo\">וְ</span></span></span><span class=\"plain  rtl  \" ><span class=\"plain  rtl\"></span><span class=\"plain  rtl  \" ><span class=\"txtu hbo\">אֶת־</span></span><span class=\"plain  rtl  \" ><span class=\"txtu hbo\">כָּל־</span></span><span class=\"plain  rtl  \" ><span class=\"txtu hbo\">הָ</span></span><span class=\"plain  rtl  \" ><span class=\"txtu hbo\">עֵ֛ץ </span></span></span></span><span class=\"plain  rtl  \" ><span class=\"plain  rtl\"></span><span class=\"plain  rtl  \" ><span class=\"plain  rtl\"></span><span class=\"plain  rtl  \" ><span class=\"txtu hbo\">אֲשֶׁר־</span></span></span><span class=\"plain  rtl  \" ><span class=\"plain  rtl\"></span><span class=\"plain  rtl  \" ><span class=\"txtu hbo\">בֹּ֥ו </span></span></span><span class=\"plain  rtl  \" ><span class=\"plain  rtl\"></span><span class=\"plain  rtl  \" ><span class=\"txtu hbo\">פְרִי־</span></span><span class=\"plain  rtl  \" ><span class=\"txtu hbo\">עֵ֖ץ </span></span></span></span><span class=\"plain  rtl  \" ><span class=\"plain  rtl\"></span><span class=\"plain  rtl  \" ><span class=\"plain  rtl\"></span><span class=\"plain  rtl  \" ><span class=\"txtu hbo\">זֹרֵ֣עַ </span></span></span><span class=\"plain  rtl  \" ><span class=\"plain  rtl\"></span><span class=\"plain  rtl  \" ><span class=\"txtu hbo\">זָ֑רַע </span></span></span></span></span></span><span class=\"plain  r hlbx\" ><span class=\"plain  rtl  \" ><span class=\"plain  rtl\"></span><span class=\"plain  rtl  \" ><span class=\"plain  rtl\"></span><span class=\"plain  rtl  \" ><span class=\"plain  rtl\"></span><span class=\"plain  rtl  \" ><span class=\"txtu hbo\">וּֽ</span></span></span><span class=\"plain  rtl  \" ><span class=\"plain  rtl\"></span><span class=\"plain  rtl  \" ><span class=\"txtu hbo\">לְ</span></span><span class=\"plain  rtl  \" ><span class=\"txtu hbo\">כָל־</span></span><span class=\"plain  rtl  \" ><span class=\"txtu hbo\">חַיַּ֣ת </span></span><span class=\"plain  rtl  \" ><span class=\"txtu hbo\">הָ֠</span></span><span class=\"plain  rtl  \" ><span class=\"txtu hbo\">אָרֶץ </span></span><span class=\"plain  rtl  \" ><span class=\"txtu hbo\">וּ</span></span><span class=\"plain  rtl  \" ><span class=\"txtu hbo\">לְ</span></span><span class=\"plain  rtl  \" ><span class=\"txtu hbo\">כָל־</span></span><span class=\"plain  rtl  \" ><span class=\"txtu hbo\">עֹ֨וף </span></span><span class=\"plain  rtl  \" ><span class=\"txtu hbo\">הַ</span></span><span class=\"plain  rtl  \" ><span class=\"txtu hbo\">שָּׁמַ֜יִם </span></span><span class=\"plain  rtl  \" ><span class=\"txtu hbo\">וּ</span></span><span class=\"plain  rtl  \" ><span class=\"txtu hbo\">לְ</span></span><span class=\"plain  rtl  \" ><span class=\"txtu hbo\">כֹ֣ל׀ </span></span><span class=\"plain  rtl  \" ><span class=\"txtu hbo\">רֹומֵ֣שׂ </span></span></span><span class=\"plain  rtl  \" ><span class=\"plain  rtl\"></span><span class=\"plain  rtl  \" ><span class=\"txtu hbo\">עַל־</span></span><span class=\"plain  rtl  \" ><span class=\"txtu hbo\">הָ</span></span><span class=\"plain  rtl  \" ><span class=\"txtu hbo\">אָ֗רֶץ </span></span></span></span><span class=\"plain  rtl  \" ><span class=\"plain  rtl\"></span><span class=\"plain  rtl  \" ><span class=\"plain  rtl\"></span><span class=\"plain  rtl  \" ><span class=\"txtu hbo\">אֲשֶׁר־</span></span></span><span class=\"plain  rtl  \" ><span class=\"plain  rtl\"></span><span class=\"plain  rtl  \" ><span class=\"txtu hbo\">בֹּו֙ </span></span></span><span class=\"plain  rtl  \" ><span class=\"plain  rtl\"></span><span class=\"plain  rtl  \" ><span class=\"txtu hbo\">נֶ֣פֶשׁ </span></span><span class=\"plain  rtl  \" ><span class=\"txtu hbo\">חַיָּ֔ה </span></span></span></span><span class=\"plain  rtl  \" ><span class=\"plain  rtl\"></span><span class=\"plain  rtl  \" ><span class=\"plain  rtl\"></span><span class=\"plain  rtl  \" ><span class=\"txtu hbo\">אֶת־</span></span><span class=\"plain  rtl  \" ><span class=\"txtu hbo\">כָּל־</span></span><span class=\"plain  rtl  \" ><span class=\"txtu hbo\">יֶ֥רֶק </span></span><span class=\"plain  rtl  \" ><span class=\"txtu hbo\">עֵ֖שֶׂב </span></span></span><span class=\"plain  rtl  \" ><span class=\"plain  rtl\"></span><span class=\"plain  rtl  \" ><span class=\"txtu hbo\">לְ</span></span><span class=\"plain  rtl  \" ><span class=\"txtu hbo\">אָכְלָ֑ה </span></span></span></span></span></span></td><td class=\"tf\"><span class=\"plain outer rtl  hlbx\" ><span class=\"plain  rtl\"></span><span class=\"plain  rtl  \" ><span class=\"plain  rtl\"></span><span class=\"plain  rtl  \" ><span class=\"plain  rtl\"></span><span class=\"plain  rtl  \" ><span class=\"txtu hbo\">הִנֵּה֩ </span></span></span><span class=\"plain  rtl  \" ><span class=\"plain  rtl\"></span><span class=\"plain  rtl  \" ><span class=\"txtu hbo\">נָתַ֨תִּי </span></span></span><span class=\"plain  rtl  \" ><span class=\"plain  rtl\"></span><span class=\"plain  rtl  \" ><span class=\"txtu hbo\">לָכֶ֜ם </span></span></span><span class=\"plain  rtl  \" ><span class=\"plain  rtl\"></span><span class=\"plain  rtl  \" ><span class=\"txtu hbo\">אֶת־</span></span><span class=\"plain  rtl  \" ><span class=\"txtu hbo\">כָּל־</span></span><span class=\"plain  rtl  \" ><span class=\"txtu hbo\">עֵ֣שֶׂב׀ </span></span></span></span><span class=\"plain  rtl  \" ><span class=\"plain  rtl\"></span><span class=\"plain  rtl  \" ><span class=\"plain  rtl\"></span><span class=\"plain  rtl  \" ><span class=\"txtu hbo\">זֹרֵ֣עַ </span></span></span><span class=\"plain  rtl  \" ><span class=\"plain  rtl\"></span><span class=\"plain  rtl  \" ><span class=\"txtu hbo\">זֶ֗רַע </span></span></span></span><span class=\"plain  rtl  \" ><span class=\"plain  rtl\"></span><span class=\"plain  rtl  \" ><span class=\"plain  rtl\"></span><span class=\"plain  rtl  \" ><span class=\"txtu hbo\">אֲשֶׁר֙ </span></span></span><span class=\"plain  rtl  \" ><span class=\"plain  rtl\"></span><span class=\"plain  rtl  \" ><span class=\"txtu hbo\">עַל־</span></span><span class=\"plain  rtl  \" ><span class=\"txtu hbo\">פְּנֵ֣י </span></span><span class=\"plain  rtl  \" ><span class=\"txtu hbo\">כָל־</span></span><span class=\"plain  rtl  \" ><span class=\"txtu hbo\">הָ</span></span><span class=\"plain  rtl  \" ><span class=\"txtu hbo\">אָ֔רֶץ </span></span></span></span><span class=\"plain  rtl  \" ><span class=\"plain  rtl\"></span><span class=\"plain  rtl  \" ><span class=\"plain  rtl\"></span><span class=\"plain  rtl  \" ><span class=\"txtu hbo\">וְ</span></span></span><span class=\"plain  rtl  \" ><span class=\"plain  rtl\"></span><span class=\"plain  rtl  \" ><span class=\"txtu hbo\">אֶת־</span></span><span class=\"plain  rtl  \" ><span class=\"txtu hbo\">כָּל־</span></span><span class=\"plain  rtl  \" ><span class=\"txtu hbo\">הָ</span></span><span class=\"plain  rtl  \" ><span class=\"txtu hbo\">עֵ֛ץ </span></span></span></span><span class=\"plain  rtl  \" ><span class=\"plain  rtl\"></span><span class=\"plain  rtl  \" ><span class=\"plain  rtl\"></span><span class=\"plain  rtl  \" ><span class=\"txtu hbo\">אֲשֶׁר־</span></span></span><span class=\"plain  rtl  \" ><span class=\"plain  rtl\"></span><span class=\"plain  rtl  \" ><span class=\"txtu hbo\">בֹּ֥ו </span></span></span><span class=\"plain  rtl  \" ><span class=\"plain  rtl\"></span><span class=\"plain  rtl  \" ><span class=\"txtu hbo\">פְרִי־</span></span><span class=\"plain  rtl  \" ><span class=\"txtu hbo\">עֵ֖ץ </span></span></span></span><span class=\"plain  rtl  \" ><span class=\"plain  rtl\"></span><span class=\"plain  rtl  \" ><span class=\"plain  rtl\"></span><span class=\"plain  rtl  \" ><span class=\"txtu hbo\">זֹרֵ֣עַ </span></span></span><span class=\"plain  rtl  \" ><span class=\"plain  rtl\"></span><span class=\"plain  rtl  \" ><span class=\"txtu hbo\">זָ֑רַע </span></span></span></span></span></td></tr>\n",
       "<tr class=\"tf\"><td class=\"tf\">2</td><td class=\"tf\"><span class=\"section ltr\"><a target=\"_blank\" href=\"https://shebanq.ancient-data.org/hebrew/text?book=Genesis&amp;chapter=2&amp;verse=4&amp;version=2017&amp;mr=m&amp;qw=q&amp;tp=txt_p&amp;tr=hb&amp;wget=v&amp;qget=v&amp;nget=vt\" title=\"Show this on SHEBANQ\" sec=\"Genesis 2:4\">Genesis 2:4</a></span></td><td class=\"tf\"><span class=\"plain  l hlbx\" ><span class=\"plain  rtl  hlbx\" ><span class=\"plain  rtl\"></span><span class=\"plain  rtl  \" ><span class=\"plain  rtl\"></span><span class=\"plain  rtl  \" ><span class=\"plain  rtl\"></span><span class=\"plain  rtl  \" ><span class=\"txtu hbo\">בְּ</span></span><span class=\"plain  rtl  \" ><span class=\"txtu hbo\">יֹ֗ום </span></span></span></span><span class=\"plain  rtl  \" ><span class=\"plain  rtl\"></span><span class=\"plain  rtl  \" ><span class=\"plain  rtl\"></span><span class=\"plain  rtl  \" ><span class=\"txtu hbo\">עֲשֹׂ֛ות </span></span></span><span class=\"plain  rtl  \" ><span class=\"plain  rtl\"></span><span class=\"plain  rtl  \" ><span class=\"txtu hbo\">יְהוָ֥ה </span></span><span class=\"plain  rtl  \" ><span class=\"txtu hbo\">אֱלֹהִ֖ים </span></span></span><span class=\"plain  rtl  \" ><span class=\"plain  rtl\"></span><span class=\"plain  rtl  \" ><span class=\"txtu hbo\">אֶ֥רֶץ </span></span><span class=\"plain  rtl  \" ><span class=\"txtu hbo\">וְ</span></span><span class=\"plain  rtl  \" ><span class=\"txtu hbo\">שָׁמָֽיִם׃ </span></span></span></span></span></span><span class=\"plain  r hlbx\" ><span class=\"plain  rtl  \" ><span class=\"plain  rtl\"></span><span class=\"plain  rtl  \" ><span class=\"plain  rtl\"></span><span class=\"plain  rtl  \" ><span class=\"plain  rtl\"></span><span class=\"plain  rtl  \" ><span class=\"txtu hbo\">וַ</span></span></span><span class=\"plain  rtl  \" ><span class=\"plain  rtl\"></span><span class=\"plain  rtl  \" ><span class=\"txtu hbo\">יִּיצֶר֩ </span></span></span><span class=\"plain  rtl  \" ><span class=\"plain  rtl\"></span><span class=\"plain  rtl  \" ><span class=\"txtu hbo\">יְהוָ֨ה </span></span><span class=\"plain  rtl  \" ><span class=\"txtu hbo\">אֱלֹהִ֜ים </span></span></span><span class=\"plain  rtl  \" ><span class=\"plain  rtl\"></span><span class=\"plain  rtl  \" ><span class=\"txtu hbo\">אֶת־</span></span><span class=\"plain  rtl  \" ><span class=\"txtu hbo\">הָֽ</span></span><span class=\"plain  rtl  \" ><span class=\"txtu hbo\">אָדָ֗ם </span></span></span><span class=\"plain  rtl  \" ><span class=\"plain  rtl\"></span><span class=\"plain  rtl  \" ><span class=\"txtu hbo\">עָפָר֙ </span></span></span><span class=\"plain  rtl  \" ><span class=\"plain  rtl\"></span><span class=\"plain  rtl  \" ><span class=\"txtu hbo\">מִן־</span></span><span class=\"plain  rtl  \" ><span class=\"txtu hbo\">הָ֣</span></span><span class=\"plain  rtl  \" ><span class=\"txtu hbo\">אֲדָמָ֔ה </span></span></span></span></span></span></td><td class=\"tf\"><span class=\"plain outer rtl  hlbx\" ><span class=\"plain  rtl\"></span><span class=\"plain  rtl  \" ><span class=\"plain  rtl\"></span><span class=\"plain  rtl  \" ><span class=\"plain  rtl\"></span><span class=\"plain  rtl  \" ><span class=\"txtu hbo\">בְּ</span></span><span class=\"plain  rtl  \" ><span class=\"txtu hbo\">יֹ֗ום </span></span></span></span><span class=\"plain  rtl  \" ><span class=\"plain  rtl\"></span><span class=\"plain  rtl  \" ><span class=\"plain  rtl\"></span><span class=\"plain  rtl  \" ><span class=\"txtu hbo\">עֲשֹׂ֛ות </span></span></span><span class=\"plain  rtl  \" ><span class=\"plain  rtl\"></span><span class=\"plain  rtl  \" ><span class=\"txtu hbo\">יְהוָ֥ה </span></span><span class=\"plain  rtl  \" ><span class=\"txtu hbo\">אֱלֹהִ֖ים </span></span></span><span class=\"plain  rtl  \" ><span class=\"plain  rtl\"></span><span class=\"plain  rtl  \" ><span class=\"txtu hbo\">אֶ֥רֶץ </span></span><span class=\"plain  rtl  \" ><span class=\"txtu hbo\">וְ</span></span><span class=\"plain  rtl  \" ><span class=\"txtu hbo\">שָׁמָֽיִם׃ </span></span></span></span></span></td></tr>\n",
       "<tr class=\"tf\"><td class=\"tf\">3</td><td class=\"tf\"><span class=\"section ltr\"><a target=\"_blank\" href=\"https://shebanq.ancient-data.org/hebrew/text?book=Genesis&amp;chapter=3&amp;verse=3&amp;version=2017&amp;mr=m&amp;qw=q&amp;tp=txt_p&amp;tr=hb&amp;wget=v&amp;qget=v&amp;nget=vt\" title=\"Show this on SHEBANQ\" sec=\"Genesis 3:3\">Genesis 3:3</a></span></td><td class=\"tf\"><span class=\"plain  l hlbx\" ><span class=\"plain  rtl  hlbx\" ><span class=\"plain  rtl\"></span><span class=\"plain  rtl  \" ><span class=\"plain  rtl\"></span><span class=\"plain  rtl  \" ><span class=\"plain  rtl\"></span><span class=\"plain  rtl  \" ><span class=\"txtu hbo\">וּ</span></span></span><span class=\"plain  rtl  \" ><span class=\"plain  rtl\"></span><span class=\"plain  rtl  \" ><span class=\"txtu hbo\">מִ</span></span><span class=\"plain  rtl  \" ><span class=\"txtu hbo\">פְּרִ֣י </span></span><span class=\"plain  rtl  \" ><span class=\"txtu hbo\">הָ</span></span><span class=\"plain  rtl  \" ><span class=\"txtu hbo\">עֵץ֮ </span></span></span></span><span class=\"plain  rtl  \" ><span class=\"plain  rtl\"></span><span class=\"plain  rtl  \" ><span class=\"plain  rtl\"></span><span class=\"plain  rtl  \" ><span class=\"txtu hbo\">אֲשֶׁ֣ר </span></span></span><span class=\"plain  rtl  \" ><span class=\"plain  rtl\"></span><span class=\"plain  rtl  \" ><span class=\"txtu hbo\">בְּ</span></span><span class=\"plain  rtl  \" ><span class=\"txtu hbo\">תֹוךְ־</span></span><span class=\"plain  rtl  \" ><span class=\"txtu hbo\">הַ</span></span><span class=\"plain  rtl  \" ><span class=\"txtu hbo\">גָּן֒ </span></span></span></span></span></span><span class=\"plain  r hlbx\" ><span class=\"plain  rtl  \" ><span class=\"plain  rtl\"></span><span class=\"plain  rtl  \" ><span class=\"plain  rtl\"></span><span class=\"plain  rtl  \" ><span class=\"plain  rtl\"></span><span class=\"plain  rtl  \" ><span class=\"txtu hbo\">לֹ֤א </span></span></span><span class=\"plain  rtl  \" ><span class=\"plain  rtl\"></span><span class=\"plain  rtl  \" ><span class=\"txtu hbo\">תֹֽאכְלוּ֙ </span></span></span><span class=\"plain  rtl  \" ><span class=\"plain  rtl\"></span><span class=\"plain  rtl  \" ><span class=\"txtu hbo\">מִמֶּ֔נּוּ </span></span></span></span></span></span></td><td class=\"tf\"><span class=\"plain outer rtl  hlbx\" ><span class=\"plain  rtl\"></span><span class=\"plain  rtl  \" ><span class=\"plain  rtl\"></span><span class=\"plain  rtl  \" ><span class=\"plain  rtl\"></span><span class=\"plain  rtl  \" ><span class=\"txtu hbo\">וּ</span></span></span><span class=\"plain  rtl  \" ><span class=\"plain  rtl\"></span><span class=\"plain  rtl  \" ><span class=\"txtu hbo\">מִ</span></span><span class=\"plain  rtl  \" ><span class=\"txtu hbo\">פְּרִ֣י </span></span><span class=\"plain  rtl  \" ><span class=\"txtu hbo\">הָ</span></span><span class=\"plain  rtl  \" ><span class=\"txtu hbo\">עֵץ֮ </span></span></span></span><span class=\"plain  rtl  \" ><span class=\"plain  rtl\"></span><span class=\"plain  rtl  \" ><span class=\"plain  rtl\"></span><span class=\"plain  rtl  \" ><span class=\"txtu hbo\">אֲשֶׁ֣ר </span></span></span><span class=\"plain  rtl  \" ><span class=\"plain  rtl\"></span><span class=\"plain  rtl  \" ><span class=\"txtu hbo\">בְּ</span></span><span class=\"plain  rtl  \" ><span class=\"txtu hbo\">תֹוךְ־</span></span><span class=\"plain  rtl  \" ><span class=\"txtu hbo\">הַ</span></span><span class=\"plain  rtl  \" ><span class=\"txtu hbo\">גָּן֒ </span></span></span></span></span></td></tr>\n",
       "<tr class=\"tf\"><td class=\"tf\">4</td><td class=\"tf\"><span class=\"section ltr\"><a target=\"_blank\" href=\"https://shebanq.ancient-data.org/hebrew/text?book=Genesis&amp;chapter=13&amp;verse=1&amp;version=2017&amp;mr=m&amp;qw=q&amp;tp=txt_p&amp;tr=hb&amp;wget=v&amp;qget=v&amp;nget=vt\" title=\"Show this on SHEBANQ\" sec=\"Genesis 13:1\">Genesis 13:1</a></span></td><td class=\"tf\"><span class=\"plain  l hlbx\" ><span class=\"plain  rtl  hlbx\" ><span class=\"plain  rtl\"></span><span class=\"plain  rtl  \" ><span class=\"plain  rtl\"></span><span class=\"plain  rtl  \" ><span class=\"plain  rtl\"></span><span class=\"plain  rtl  \" ><span class=\"txtu hbo\">וַ</span></span></span><span class=\"plain  rtl  \" ><span class=\"plain  rtl\"></span><span class=\"plain  rtl  \" ><span class=\"txtu hbo\">יַּעַל֩ </span></span></span><span class=\"plain  rtl  \" ><span class=\"plain  rtl\"></span><span class=\"plain  rtl  \" ><span class=\"txtu hbo\">אַבְרָ֨ם </span></span></span><span class=\"plain  rtl  \" ><span class=\"plain  rtl\"></span><span class=\"plain  rtl  \" ><span class=\"txtu hbo\">מִ</span></span><span class=\"plain  rtl  \" ><span class=\"txtu hbo\">מִּצְרַ֜יִם </span></span></span><span class=\"plain  rtl  \" ><span class=\"plain  rtl\"></span><span class=\"plain  rtl  \" ><span class=\"txtu hbo\">ה֠וּא </span></span><span class=\"plain  rtl  \" ><span class=\"txtu hbo\">וְ</span></span><span class=\"plain  rtl  \" ><span class=\"txtu hbo\">אִשְׁתֹּ֧ו </span></span><span class=\"plain  rtl  \" ><span class=\"txtu hbo\">וְ</span></span><span class=\"plain  rtl  \" ><span class=\"txtu hbo\">כָל־</span></span></span></span><span class=\"plain  rtl  \" ><span class=\"plain  rtl\"></span><span class=\"plain  rtl  \" ><span class=\"plain  rtl\"></span><span class=\"plain  rtl  \" ><span class=\"txtu hbo\">אֲשֶׁר־</span></span></span><span class=\"plain  rtl  \" ><span class=\"plain  rtl\"></span><span class=\"plain  rtl  \" ><span class=\"txtu hbo\">לֹ֛ו </span></span></span></span></span></span><span class=\"plain  r hlbx\" ><span class=\"plain  rtl  \" ><span class=\"plain  rtl\"></span><span class=\"plain  rtl  \" ><span class=\"plain  rtl\"></span><span class=\"plain  rtl  \" ><span class=\"plain  rtl\"></span><span class=\"plain  rtl  \" ><span class=\"txtu hbo\">הַ</span></span><span class=\"plain  rtl  \" ><span class=\"txtu hbo\">נֶּֽגְבָּה׃ </span></span></span></span></span></span></td><td class=\"tf\"><span class=\"plain outer rtl  hlbx\" ><span class=\"plain  rtl\"></span><span class=\"plain  rtl  \" ><span class=\"plain  rtl\"></span><span class=\"plain  rtl  \" ><span class=\"plain  rtl\"></span><span class=\"plain  rtl  \" ><span class=\"txtu hbo\">וַ</span></span></span><span class=\"plain  rtl  \" ><span class=\"plain  rtl\"></span><span class=\"plain  rtl  \" ><span class=\"txtu hbo\">יַּעַל֩ </span></span></span><span class=\"plain  rtl  \" ><span class=\"plain  rtl\"></span><span class=\"plain  rtl  \" ><span class=\"txtu hbo\">אַבְרָ֨ם </span></span></span><span class=\"plain  rtl  \" ><span class=\"plain  rtl\"></span><span class=\"plain  rtl  \" ><span class=\"txtu hbo\">מִ</span></span><span class=\"plain  rtl  \" ><span class=\"txtu hbo\">מִּצְרַ֜יִם </span></span></span><span class=\"plain  rtl  \" ><span class=\"plain  rtl\"></span><span class=\"plain  rtl  \" ><span class=\"txtu hbo\">ה֠וּא </span></span><span class=\"plain  rtl  \" ><span class=\"txtu hbo\">וְ</span></span><span class=\"plain  rtl  \" ><span class=\"txtu hbo\">אִשְׁתֹּ֧ו </span></span><span class=\"plain  rtl  \" ><span class=\"txtu hbo\">וְ</span></span><span class=\"plain  rtl  \" ><span class=\"txtu hbo\">כָל־</span></span></span></span><span class=\"plain  rtl  \" ><span class=\"plain  rtl\"></span><span class=\"plain  rtl  \" ><span class=\"plain  rtl\"></span><span class=\"plain  rtl  \" ><span class=\"txtu hbo\">אֲשֶׁר־</span></span></span><span class=\"plain  rtl  \" ><span class=\"plain  rtl\"></span><span class=\"plain  rtl  \" ><span class=\"txtu hbo\">לֹ֛ו </span></span></span></span></span></td></tr>\n",
       "<tr class=\"tf\"><td class=\"tf\">5</td><td class=\"tf\"><span class=\"section ltr\"><a target=\"_blank\" href=\"https://shebanq.ancient-data.org/hebrew/text?book=Genesis&amp;chapter=13&amp;verse=9&amp;version=2017&amp;mr=m&amp;qw=q&amp;tp=txt_p&amp;tr=hb&amp;wget=v&amp;qget=v&amp;nget=vt\" title=\"Show this on SHEBANQ\" sec=\"Genesis 13:9\">Genesis 13:9</a></span></td><td class=\"tf\"><span class=\"plain  l hlbx\" ><span class=\"plain  rtl  hlbx\" ><span class=\"plain  rtl\"></span><span class=\"plain  rtl  \" ><span class=\"plain  rtl\"></span><span class=\"plain  rtl  \" ><span class=\"plain  rtl\"></span><span class=\"plain  rtl  \" ><span class=\"txtu hbo\">הִפָּ֥רֶד </span></span></span><span class=\"plain  rtl  \" ><span class=\"plain  rtl\"></span><span class=\"plain  rtl  \" ><span class=\"txtu hbo\">נָ֖א </span></span></span><span class=\"plain  rtl  \" ><span class=\"plain  rtl\"></span><span class=\"plain  rtl  \" ><span class=\"txtu hbo\">מֵ</span></span><span class=\"plain  rtl  \" ><span class=\"txtu hbo\">עָלָ֑י </span></span></span></span><span class=\"plain  rtl  \" ><span class=\"plain  rtl\"></span><span class=\"plain  rtl  \" ><span class=\"plain  rtl\"></span><span class=\"plain  rtl  \" ><span class=\"txtu hbo\">אִם־</span></span></span><span class=\"plain  rtl  \" ><span class=\"plain  rtl\"></span><span class=\"plain  rtl  \" ><span class=\"txtu hbo\">הַ</span></span><span class=\"plain  rtl  \" ><span class=\"txtu hbo\">שְּׂמֹ֣אל </span></span></span></span></span></span><span class=\"plain  r hlbx\" ><span class=\"plain  rtl  \" ><span class=\"plain  rtl\"></span><span class=\"plain  rtl  \" ><span class=\"plain  rtl\"></span><span class=\"plain  rtl  \" ><span class=\"plain  rtl\"></span><span class=\"plain  rtl  \" ><span class=\"txtu hbo\">וְ</span></span></span><span class=\"plain  rtl  \" ><span class=\"plain  rtl\"></span><span class=\"plain  rtl  \" ><span class=\"txtu hbo\">אִם־</span></span></span><span class=\"plain  rtl  \" ><span class=\"plain  rtl\"></span><span class=\"plain  rtl  \" ><span class=\"txtu hbo\">הַ</span></span><span class=\"plain  rtl  \" ><span class=\"txtu hbo\">יָּמִ֖ין </span></span></span></span></span></span></td><td class=\"tf\"><span class=\"plain outer rtl  hlbx\" ><span class=\"plain  rtl\"></span><span class=\"plain  rtl  \" ><span class=\"plain  rtl\"></span><span class=\"plain  rtl  \" ><span class=\"plain  rtl\"></span><span class=\"plain  rtl  \" ><span class=\"txtu hbo\">הִפָּ֥רֶד </span></span></span><span class=\"plain  rtl  \" ><span class=\"plain  rtl\"></span><span class=\"plain  rtl  \" ><span class=\"txtu hbo\">נָ֖א </span></span></span><span class=\"plain  rtl  \" ><span class=\"plain  rtl\"></span><span class=\"plain  rtl  \" ><span class=\"txtu hbo\">מֵ</span></span><span class=\"plain  rtl  \" ><span class=\"txtu hbo\">עָלָ֑י </span></span></span></span><span class=\"plain  rtl  \" ><span class=\"plain  rtl\"></span><span class=\"plain  rtl  \" ><span class=\"plain  rtl\"></span><span class=\"plain  rtl  \" ><span class=\"txtu hbo\">אִם־</span></span></span><span class=\"plain  rtl  \" ><span class=\"plain  rtl\"></span><span class=\"plain  rtl  \" ><span class=\"txtu hbo\">הַ</span></span><span class=\"plain  rtl  \" ><span class=\"txtu hbo\">שְּׂמֹ֣אל </span></span></span></span></span></td></tr></table>"
      ],
      "text/plain": [
       "<IPython.core.display.HTML object>"
      ]
     },
     "metadata": {},
     "output_type": "display_data"
    },
    {
     "data": {
      "text/html": [
       "<p><b>result</b> <i>1</i></p>"
      ],
      "text/plain": [
       "<IPython.core.display.HTML object>"
      ]
     },
     "metadata": {},
     "output_type": "display_data"
    },
    {
     "data": {
      "text/html": [
       "<span class=\"section ltr\"><a target=\"_blank\" href=\"https://shebanq.ancient-data.org/hebrew/text?book=Genesis&amp;chapter=1&amp;verse=29&amp;version=2017&amp;mr=m&amp;qw=q&amp;tp=txt_p&amp;tr=hb&amp;wget=v&amp;qget=v&amp;nget=vt\" title=\"Show this on SHEBANQ\" sec=\"Genesis 1:29\">Genesis 1:29</a> </span><div class=\"contnr c3  rtl  \" ><div class=\"lbl c3  \" ><span class=\"nd\">verse</span></div> <div class=\"children row wrap rtl\"><div class=\"contnr c2  rtl  \" ><div class=\"lbl c2  \" ><span class=\"nd\">sentence</span></div> <div class=\"children row wrap rtl\"><div class=\"contnr cnul trm rtl  \" ><div class=\"children row wrap rtl\"><div class=\"contnr c2  rtl  \" ><div class=\"lbl c2  \" ><span class=\"nd\">clause</span></div> <div class=\"children row wrap rtl\"><div class=\"contnr cnul trm rtl  \" ><div class=\"children row wrap rtl\"><div class=\"contnr c1 trm rtl  \" ><div class=\"lbl c1 trm \" ><span class=\"nd\">phrase</span> <span class=\"\"><span class=\"plain  rtl  \" ><span class=\"plain  rtl\"></span><span class=\"plain  rtl  \" ><span class=\"txtu hbo\">וַ</span></span></span></span></div> <div class=\"children row wrap rtl\"><div class=\"contnr cnul trm rtl  \" ></div></div></div><div class=\"contnr c1 trm rtl  \" ><div class=\"lbl c1 trm \" ><span class=\"nd\">phrase</span> <span class=\"\"><span class=\"plain  rtl  \" ><span class=\"plain  rtl\"></span><span class=\"plain  rtl  \" ><span class=\"txtu hbo\">יֹּ֣אמֶר </span></span></span></span></div> <div class=\"children row wrap rtl\"><div class=\"contnr cnul trm rtl  \" ></div></div></div><div class=\"contnr c1 trm rtl  \" ><div class=\"lbl c1 trm \" ><span class=\"nd\">phrase</span> <span class=\"\"><span class=\"plain  rtl  \" ><span class=\"plain  rtl\"></span><span class=\"plain  rtl  \" ><span class=\"txtu hbo\">אֱלֹהִ֗ים </span></span></span></span></div> <div class=\"children row wrap rtl\"><div class=\"contnr cnul trm rtl  \" ></div></div></div></div></div></div></div></div></div></div></div><div class=\"contnr c2  rtl  l hl\" ><div class=\"lbl c2  hl\" ><span class=\"nd\">sentence</span></div> <div class=\"children row wrap rtl\"><div class=\"contnr cnul trm rtl  hl\" ><div class=\"children row wrap rtl\"><div class=\"contnr c2  rtl  l \" ><div class=\"lbl c2  \" ><span class=\"nd\">clause</span></div> <div class=\"children row wrap rtl\"><div class=\"contnr cnul trm rtl  \" ><div class=\"children row wrap rtl\"><div class=\"contnr c1 trm rtl  \" ><div class=\"lbl c1 trm \" ><span class=\"nd\">phrase</span> <span class=\"\"><span class=\"plain  rtl  \" ><span class=\"plain  rtl\"></span><span class=\"plain  rtl  \" ><span class=\"txtu hbo\">הִנֵּה֩ </span></span></span></span></div> <div class=\"children row wrap rtl\"><div class=\"contnr cnul trm rtl  \" ></div></div></div><div class=\"contnr c1 trm rtl  \" ><div class=\"lbl c1 trm \" ><span class=\"nd\">phrase</span> <span class=\"\"><span class=\"plain  rtl  \" ><span class=\"plain  rtl\"></span><span class=\"plain  rtl  \" ><span class=\"txtu hbo\">נָתַ֨תִּי </span></span></span></span></div> <div class=\"children row wrap rtl\"><div class=\"contnr cnul trm rtl  \" ></div></div></div><div class=\"contnr c1 trm rtl  \" ><div class=\"lbl c1 trm \" ><span class=\"nd\">phrase</span> <span class=\"\"><span class=\"plain  rtl  \" ><span class=\"plain  rtl\"></span><span class=\"plain  rtl  \" ><span class=\"txtu hbo\">לָכֶ֜ם </span></span></span></span></div> <div class=\"children row wrap rtl\"><div class=\"contnr cnul trm rtl  \" ></div></div></div><div class=\"contnr c1 trm rtl  l \" ><div class=\"lbl c1 trm \" ><span class=\"nd\">phrase</span> <span class=\"\"><span class=\"plain  rtl  \" ><span class=\"plain  rtl\"></span><span class=\"plain  rtl  \" ><span class=\"txtu hbo\">אֶת־</span></span><span class=\"plain  rtl  \" ><span class=\"txtu hbo\">כָּל־</span></span><span class=\"plain  rtl  \" ><span class=\"txtu hbo\">עֵ֣שֶׂב׀ </span></span></span></span></div> <div class=\"children row wrap rtl\"><div class=\"contnr cnul trm rtl  \" ></div></div></div></div></div></div></div><div class=\"contnr c2  rtl  \" ><div class=\"lbl c2  \" ><span class=\"nd\">clause</span></div> <div class=\"children row wrap rtl\"><div class=\"contnr cnul trm rtl  \" ><div class=\"children row wrap rtl\"><div class=\"contnr c1 trm rtl  \" ><div class=\"lbl c1 trm \" ><span class=\"nd\">phrase</span> <span class=\"\"><span class=\"plain  rtl  \" ><span class=\"plain  rtl\"></span><span class=\"plain  rtl  \" ><span class=\"txtu hbo\">זֹרֵ֣עַ </span></span></span></span></div> <div class=\"children row wrap rtl\"><div class=\"contnr cnul trm rtl  \" ></div></div></div><div class=\"contnr c1 trm rtl  \" ><div class=\"lbl c1 trm \" ><span class=\"nd\">phrase</span> <span class=\"\"><span class=\"plain  rtl  \" ><span class=\"plain  rtl\"></span><span class=\"plain  rtl  \" ><span class=\"txtu hbo\">זֶ֗רַע </span></span></span></span></div> <div class=\"children row wrap rtl\"><div class=\"contnr cnul trm rtl  \" ></div></div></div></div></div></div></div><div class=\"contnr c2  rtl  \" ><div class=\"lbl c2  \" ><span class=\"nd\">clause</span></div> <div class=\"children row wrap rtl\"><div class=\"contnr cnul trm rtl  \" ><div class=\"children row wrap rtl\"><div class=\"contnr c1 trm rtl  \" ><div class=\"lbl c1 trm \" ><span class=\"nd\">phrase</span> <span class=\"\"><span class=\"plain  rtl  \" ><span class=\"plain  rtl\"></span><span class=\"plain  rtl  \" ><span class=\"txtu hbo\">אֲשֶׁר֙ </span></span></span></span></div> <div class=\"children row wrap rtl\"><div class=\"contnr cnul trm rtl  \" ></div></div></div><div class=\"contnr c1 trm rtl  \" ><div class=\"lbl c1 trm \" ><span class=\"nd\">phrase</span> <span class=\"\"><span class=\"plain  rtl  \" ><span class=\"plain  rtl\"></span><span class=\"plain  rtl  \" ><span class=\"txtu hbo\">עַל־</span></span><span class=\"plain  rtl  \" ><span class=\"txtu hbo\">פְּנֵ֣י </span></span><span class=\"plain  rtl  \" ><span class=\"txtu hbo\">כָל־</span></span><span class=\"plain  rtl  \" ><span class=\"txtu hbo\">הָ</span></span><span class=\"plain  rtl  \" ><span class=\"txtu hbo\">אָ֔רֶץ </span></span></span></span></div> <div class=\"children row wrap rtl\"><div class=\"contnr cnul trm rtl  \" ></div></div></div></div></div></div></div><div class=\"contnr c2  rtl  r \" ><div class=\"lbl c2  \" ><span class=\"nd\">clause</span></div> <div class=\"children row wrap rtl\"><div class=\"contnr cnul trm rtl  \" ><div class=\"children row wrap rtl\"><div class=\"contnr c1 trm rtl  r l \" ><div class=\"lbl c1 trm \" ><span class=\"nd\">phrase</span> <span class=\"\"><span class=\"plain  rtl  \" ><span class=\"plain  rtl\"></span><span class=\"plain  rtl  \" ><span class=\"txtu hbo\">וְ</span></span></span></span></div> <div class=\"children row wrap rtl\"><div class=\"contnr cnul trm rtl  \" ></div></div></div><div class=\"contnr c1 trm rtl  r \" ><div class=\"lbl c1 trm \" ><span class=\"nd\">phrase</span> <span class=\"\"><span class=\"plain  rtl  \" ><span class=\"plain  rtl\"></span><span class=\"plain  rtl  \" ><span class=\"txtu hbo\">אֶת־</span></span><span class=\"plain  rtl  \" ><span class=\"txtu hbo\">כָּל־</span></span><span class=\"plain  rtl  \" ><span class=\"txtu hbo\">הָ</span></span><span class=\"plain  rtl  \" ><span class=\"txtu hbo\">עֵ֛ץ </span></span></span></span></div> <div class=\"children row wrap rtl\"><div class=\"contnr cnul trm rtl  \" ></div></div></div></div></div></div></div><div class=\"contnr c2  rtl  \" ><div class=\"lbl c2  \" ><span class=\"nd\">clause</span></div> <div class=\"children row wrap rtl\"><div class=\"contnr cnul trm rtl  \" ><div class=\"children row wrap rtl\"><div class=\"contnr c1 trm rtl  \" ><div class=\"lbl c1 trm \" ><span class=\"nd\">phrase</span> <span class=\"\"><span class=\"plain  rtl  \" ><span class=\"plain  rtl\"></span><span class=\"plain  rtl  \" ><span class=\"txtu hbo\">אֲשֶׁר־</span></span></span></span></div> <div class=\"children row wrap rtl\"><div class=\"contnr cnul trm rtl  \" ></div></div></div><div class=\"contnr c1 trm rtl  \" ><div class=\"lbl c1 trm \" ><span class=\"nd\">phrase</span> <span class=\"\"><span class=\"plain  rtl  \" ><span class=\"plain  rtl\"></span><span class=\"plain  rtl  \" ><span class=\"txtu hbo\">בֹּ֥ו </span></span></span></span></div> <div class=\"children row wrap rtl\"><div class=\"contnr cnul trm rtl  \" ></div></div></div><div class=\"contnr c1 trm rtl  \" ><div class=\"lbl c1 trm \" ><span class=\"nd\">phrase</span> <span class=\"\"><span class=\"plain  rtl  \" ><span class=\"plain  rtl\"></span><span class=\"plain  rtl  \" ><span class=\"txtu hbo\">פְרִי־</span></span><span class=\"plain  rtl  \" ><span class=\"txtu hbo\">עֵ֖ץ </span></span></span></span></div> <div class=\"children row wrap rtl\"><div class=\"contnr cnul trm rtl  \" ></div></div></div></div></div></div></div><div class=\"contnr c2  rtl  \" ><div class=\"lbl c2  \" ><span class=\"nd\">clause</span></div> <div class=\"children row wrap rtl\"><div class=\"contnr cnul trm rtl  \" ><div class=\"children row wrap rtl\"><div class=\"contnr c1 trm rtl  \" ><div class=\"lbl c1 trm \" ><span class=\"nd\">phrase</span> <span class=\"\"><span class=\"plain  rtl  \" ><span class=\"plain  rtl\"></span><span class=\"plain  rtl  \" ><span class=\"txtu hbo\">זֹרֵ֣עַ </span></span></span></span></div> <div class=\"children row wrap rtl\"><div class=\"contnr cnul trm rtl  \" ></div></div></div><div class=\"contnr c1 trm rtl  \" ><div class=\"lbl c1 trm \" ><span class=\"nd\">phrase</span> <span class=\"\"><span class=\"plain  rtl  \" ><span class=\"plain  rtl\"></span><span class=\"plain  rtl  \" ><span class=\"txtu hbo\">זָ֑רַע </span></span></span></span></div> <div class=\"children row wrap rtl\"><div class=\"contnr cnul trm rtl  \" ></div></div></div></div></div></div></div></div></div></div></div><div class=\"contnr c2  rtl  \" ><div class=\"lbl c2  \" ><span class=\"nd\">sentence</span></div> <div class=\"children row wrap rtl\"><div class=\"contnr cnul trm rtl  \" ><div class=\"children row wrap rtl\"><div class=\"contnr c2  rtl  \" ><div class=\"lbl c2  \" ><span class=\"nd\">clause</span></div> <div class=\"children row wrap rtl\"><div class=\"contnr cnul trm rtl  \" ><div class=\"children row wrap rtl\"><div class=\"contnr c1 trm rtl  \" ><div class=\"lbl c1 trm \" ><span class=\"nd\">phrase</span> <span class=\"\"><span class=\"plain  rtl  \" ><span class=\"plain  rtl\"></span><span class=\"plain  rtl  \" ><span class=\"txtu hbo\">לָכֶ֥ם </span></span></span></span></div> <div class=\"children row wrap rtl\"><div class=\"contnr cnul trm rtl  \" ></div></div></div><div class=\"contnr c1 trm rtl  \" ><div class=\"lbl c1 trm \" ><span class=\"nd\">phrase</span> <span class=\"\"><span class=\"plain  rtl  \" ><span class=\"plain  rtl\"></span><span class=\"plain  rtl  \" ><span class=\"txtu hbo\">יִֽהְיֶ֖ה </span></span></span></span></div> <div class=\"children row wrap rtl\"><div class=\"contnr cnul trm rtl  \" ></div></div></div><div class=\"contnr c1 trm rtl  \" ><div class=\"lbl c1 trm \" ><span class=\"nd\">phrase</span> <span class=\"\"><span class=\"plain  rtl  \" ><span class=\"plain  rtl\"></span><span class=\"plain  rtl  \" ><span class=\"txtu hbo\">לְ</span></span><span class=\"plain  rtl  \" ><span class=\"txtu hbo\">אָכְלָֽה׃ </span></span></span></span></div> <div class=\"children row wrap rtl\"><div class=\"contnr cnul trm rtl  \" ></div></div></div></div></div></div></div></div></div></div></div></div></div>"
      ],
      "text/plain": [
       "<IPython.core.display.HTML object>"
      ]
     },
     "metadata": {},
     "output_type": "display_data"
    },
    {
     "data": {
      "text/html": [
       "<span class=\"section ltr\"><a target=\"_blank\" href=\"https://shebanq.ancient-data.org/hebrew/text?book=Genesis&amp;chapter=1&amp;verse=30&amp;version=2017&amp;mr=m&amp;qw=q&amp;tp=txt_p&amp;tr=hb&amp;wget=v&amp;qget=v&amp;nget=vt\" title=\"Show this on SHEBANQ\" sec=\"Genesis 1:30\">Genesis 1:30</a> </span><div class=\"contnr c3  rtl  \" ><div class=\"lbl c3  \" ><span class=\"nd\">verse</span></div> <div class=\"children row wrap rtl\"><div class=\"contnr c2  rtl  r hl\" ><div class=\"lbl c2  hl\" ><span class=\"nd\">sentence</span></div> <div class=\"children row wrap rtl\"><div class=\"contnr cnul trm rtl  \" ><div class=\"children row wrap rtl\"><div class=\"contnr c2  rtl  l \" ><div class=\"lbl c2  \" ><span class=\"nd\">clause</span></div> <div class=\"children row wrap rtl\"><div class=\"contnr cnul trm rtl  \" ><div class=\"children row wrap rtl\"><div class=\"contnr c1 trm rtl  \" ><div class=\"lbl c1 trm \" ><span class=\"nd\">phrase</span> <span class=\"\"><span class=\"plain  rtl  \" ><span class=\"plain  rtl\"></span><span class=\"plain  rtl  \" ><span class=\"txtu hbo\">וּֽ</span></span></span></span></div> <div class=\"children row wrap rtl\"><div class=\"contnr cnul trm rtl  \" ></div></div></div><div class=\"contnr c1 trm rtl  l \" ><div class=\"lbl c1 trm \" ><span class=\"nd\">phrase</span> <span class=\"\"><span class=\"plain  rtl  \" ><span class=\"plain  rtl\"></span><span class=\"plain  rtl  \" ><span class=\"txtu hbo\">לְ</span></span><span class=\"plain  rtl  \" ><span class=\"txtu hbo\">כָל־</span></span><span class=\"plain  rtl  \" ><span class=\"txtu hbo\">חַיַּ֣ת </span></span><span class=\"plain  rtl  \" ><span class=\"txtu hbo\">הָ֠</span></span><span class=\"plain  rtl  \" ><span class=\"txtu hbo\">אָרֶץ </span></span><span class=\"plain  rtl  \" ><span class=\"txtu hbo\">וּ</span></span><span class=\"plain  rtl  \" ><span class=\"txtu hbo\">לְ</span></span><span class=\"plain  rtl  \" ><span class=\"txtu hbo\">כָל־</span></span><span class=\"plain  rtl  \" ><span class=\"txtu hbo\">עֹ֨וף </span></span><span class=\"plain  rtl  \" ><span class=\"txtu hbo\">הַ</span></span><span class=\"plain  rtl  \" ><span class=\"txtu hbo\">שָּׁמַ֜יִם </span></span><span class=\"plain  rtl  \" ><span class=\"txtu hbo\">וּ</span></span><span class=\"plain  rtl  \" ><span class=\"txtu hbo\">לְ</span></span><span class=\"plain  rtl  \" ><span class=\"txtu hbo\">כֹ֣ל׀ </span></span><span class=\"plain  rtl  \" ><span class=\"txtu hbo\">רֹומֵ֣שׂ </span></span></span></span></div> <div class=\"children row wrap rtl\"><div class=\"contnr cnul trm rtl  \" ></div></div></div><div class=\"contnr c1 trm rtl  r \" ><div class=\"lbl c1 trm \" ><span class=\"nd\">phrase</span> <span class=\"\"><span class=\"plain  rtl  \" ><span class=\"plain  rtl\"></span><span class=\"plain  rtl  \" ><span class=\"txtu hbo\">עַל־</span></span><span class=\"plain  rtl  \" ><span class=\"txtu hbo\">הָ</span></span><span class=\"plain  rtl  \" ><span class=\"txtu hbo\">אָ֗רֶץ </span></span></span></span></div> <div class=\"children row wrap rtl\"><div class=\"contnr cnul trm rtl  \" ></div></div></div></div></div></div></div><div class=\"contnr c2  rtl  \" ><div class=\"lbl c2  \" ><span class=\"nd\">clause</span></div> <div class=\"children row wrap rtl\"><div class=\"contnr cnul trm rtl  \" ><div class=\"children row wrap rtl\"><div class=\"contnr c1 trm rtl  \" ><div class=\"lbl c1 trm \" ><span class=\"nd\">phrase</span> <span class=\"\"><span class=\"plain  rtl  \" ><span class=\"plain  rtl\"></span><span class=\"plain  rtl  \" ><span class=\"txtu hbo\">אֲשֶׁר־</span></span></span></span></div> <div class=\"children row wrap rtl\"><div class=\"contnr cnul trm rtl  \" ></div></div></div><div class=\"contnr c1 trm rtl  \" ><div class=\"lbl c1 trm \" ><span class=\"nd\">phrase</span> <span class=\"\"><span class=\"plain  rtl  \" ><span class=\"plain  rtl\"></span><span class=\"plain  rtl  \" ><span class=\"txtu hbo\">בֹּו֙ </span></span></span></span></div> <div class=\"children row wrap rtl\"><div class=\"contnr cnul trm rtl  \" ></div></div></div><div class=\"contnr c1 trm rtl  \" ><div class=\"lbl c1 trm \" ><span class=\"nd\">phrase</span> <span class=\"\"><span class=\"plain  rtl  \" ><span class=\"plain  rtl\"></span><span class=\"plain  rtl  \" ><span class=\"txtu hbo\">נֶ֣פֶשׁ </span></span><span class=\"plain  rtl  \" ><span class=\"txtu hbo\">חַיָּ֔ה </span></span></span></span></div> <div class=\"children row wrap rtl\"><div class=\"contnr cnul trm rtl  \" ></div></div></div></div></div></div></div><div class=\"contnr c2  rtl  r \" ><div class=\"lbl c2  \" ><span class=\"nd\">clause</span></div> <div class=\"children row wrap rtl\"><div class=\"contnr cnul trm rtl  \" ><div class=\"children row wrap rtl\"><div class=\"contnr c1 trm rtl  \" ><div class=\"lbl c1 trm \" ><span class=\"nd\">phrase</span> <span class=\"\"><span class=\"plain  rtl  \" ><span class=\"plain  rtl\"></span><span class=\"plain  rtl  \" ><span class=\"txtu hbo\">אֶת־</span></span><span class=\"plain  rtl  \" ><span class=\"txtu hbo\">כָּל־</span></span><span class=\"plain  rtl  \" ><span class=\"txtu hbo\">יֶ֥רֶק </span></span><span class=\"plain  rtl  \" ><span class=\"txtu hbo\">עֵ֖שֶׂב </span></span></span></span></div> <div class=\"children row wrap rtl\"><div class=\"contnr cnul trm rtl  \" ></div></div></div><div class=\"contnr c1 trm rtl  \" ><div class=\"lbl c1 trm \" ><span class=\"nd\">phrase</span> <span class=\"\"><span class=\"plain  rtl  \" ><span class=\"plain  rtl\"></span><span class=\"plain  rtl  \" ><span class=\"txtu hbo\">לְ</span></span><span class=\"plain  rtl  \" ><span class=\"txtu hbo\">אָכְלָ֑ה </span></span></span></span></div> <div class=\"children row wrap rtl\"><div class=\"contnr cnul trm rtl  \" ></div></div></div></div></div></div></div></div></div></div></div><div class=\"contnr c2  rtl  \" ><div class=\"lbl c2  \" ><span class=\"nd\">sentence</span></div> <div class=\"children row wrap rtl\"><div class=\"contnr cnul trm rtl  \" ><div class=\"children row wrap rtl\"><div class=\"contnr c2  rtl  \" ><div class=\"lbl c2  \" ><span class=\"nd\">clause</span></div> <div class=\"children row wrap rtl\"><div class=\"contnr cnul trm rtl  \" ><div class=\"children row wrap rtl\"><div class=\"contnr c1 trm rtl  \" ><div class=\"lbl c1 trm \" ><span class=\"nd\">phrase</span> <span class=\"\"><span class=\"plain  rtl  \" ><span class=\"plain  rtl\"></span><span class=\"plain  rtl  \" ><span class=\"txtu hbo\">וַֽ</span></span></span></span></div> <div class=\"children row wrap rtl\"><div class=\"contnr cnul trm rtl  \" ></div></div></div><div class=\"contnr c1 trm rtl  \" ><div class=\"lbl c1 trm \" ><span class=\"nd\">phrase</span> <span class=\"\"><span class=\"plain  rtl  \" ><span class=\"plain  rtl\"></span><span class=\"plain  rtl  \" ><span class=\"txtu hbo\">יְהִי־</span></span></span></span></div> <div class=\"children row wrap rtl\"><div class=\"contnr cnul trm rtl  \" ></div></div></div><div class=\"contnr c1 trm rtl  \" ><div class=\"lbl c1 trm \" ><span class=\"nd\">phrase</span> <span class=\"\"><span class=\"plain  rtl  \" ><span class=\"plain  rtl\"></span><span class=\"plain  rtl  \" ><span class=\"txtu hbo\">כֵֽן׃ </span></span></span></span></div> <div class=\"children row wrap rtl\"><div class=\"contnr cnul trm rtl  \" ></div></div></div></div></div></div></div></div></div></div></div></div></div>"
      ],
      "text/plain": [
       "<IPython.core.display.HTML object>"
      ]
     },
     "metadata": {},
     "output_type": "display_data"
    }
   ],
   "source": [
    "indent(reset=True)\n",
    "query = '''\n",
    "s:sentence\n",
    "=: sa:sentence_atom\n",
    "s ## sa\n",
    "'''\n",
    "results = A.search(query)\n",
    "A.table(results, end=5)\n",
    "A.show(results, baseTypes=\"phrase\", start=1, end=1)\n",
    "info('Done')"
   ]
  },
  {
   "cell_type": "markdown",
   "metadata": {},
   "source": [
    "Now in the common domain."
   ]
  },
  {
   "cell_type": "code",
   "execution_count": 36,
   "metadata": {
    "ExecuteTime": {
     "end_time": "2018-05-24T09:15:45.123089Z",
     "start_time": "2018-05-24T09:15:19.569287Z"
    }
   },
   "outputs": [
    {
     "name": "stdout",
     "output_type": "stream",
     "text": [
      "  0.86s 20 results\n"
     ]
    },
    {
     "data": {
      "text/html": [
       "<table><tr class=\"tf\"><th class=\"tf\">n</th><th class=\"tf\">p</th><th class=\"tf\">sentence</th><th class=\"tf\">sentence_atom</th></tr>\n",
       "<tr class=\"tf\"><td class=\"tf\">1</td><td class=\"tf\"><span class=\"section ltr\"><a target=\"_blank\" href=\"https://shebanq.ancient-data.org/hebrew/text?book=Numeri&amp;chapter=23&amp;verse=19&amp;version=2017&amp;mr=m&amp;qw=q&amp;tp=txt_p&amp;tr=hb&amp;wget=v&amp;qget=v&amp;nget=vt\" title=\"Show this on SHEBANQ\" sec=\"Numbers 23:19\">Numbers 23:19</a></span></td><td class=\"tf\"><span class=\"plain  l hlbx\" ><span class=\"plain  rtl  hlbx\" ><span class=\"plain  rtl\"></span><span class=\"plain  rtl  \" ><span class=\"plain  rtl\"></span><span class=\"plain  rtl  \" ><span class=\"plain  rtl\"></span><span class=\"plain  rtl  \" ><span class=\"txtu hbo\">הַ</span></span></span><span class=\"plain  rtl  \" ><span class=\"plain  rtl\"></span><span class=\"plain  rtl  \" ><span class=\"txtu hbo\">ה֤וּא </span></span></span><span class=\"plain  rtl  \" ><span class=\"plain  rtl\"></span><span class=\"plain  rtl  \" ><span class=\"txtu hbo\">אָמַר֙ </span></span></span></span></span></span><span class=\"plain  r hlbx\" ><span class=\"plain  rtl  \" ><span class=\"plain  rtl\"></span><span class=\"plain  rtl  \" ><span class=\"plain  rtl\"></span><span class=\"plain  rtl  \" ><span class=\"plain  rtl\"></span><span class=\"plain  rtl  \" ><span class=\"txtu hbo\">וְ</span></span></span><span class=\"plain  rtl  \" ><span class=\"plain  rtl\"></span><span class=\"plain  rtl  \" ><span class=\"txtu hbo\">דִבֶּ֖ר </span></span></span></span></span></span></td><td class=\"tf\"><span class=\"plain outer rtl  hlbx\" ><span class=\"plain  rtl\"></span><span class=\"plain  rtl  \" ><span class=\"plain  rtl\"></span><span class=\"plain  rtl  \" ><span class=\"plain  rtl\"></span><span class=\"plain  rtl  \" ><span class=\"txtu hbo\">הַ</span></span></span><span class=\"plain  rtl  \" ><span class=\"plain  rtl\"></span><span class=\"plain  rtl  \" ><span class=\"txtu hbo\">ה֤וּא </span></span></span><span class=\"plain  rtl  \" ><span class=\"plain  rtl\"></span><span class=\"plain  rtl  \" ><span class=\"txtu hbo\">אָמַר֙ </span></span></span></span></span></td></tr>\n",
       "<tr class=\"tf\"><td class=\"tf\">2</td><td class=\"tf\"><span class=\"section ltr\"><a target=\"_blank\" href=\"https://shebanq.ancient-data.org/hebrew/text?book=Numeri&amp;chapter=27&amp;verse=8&amp;version=2017&amp;mr=m&amp;qw=q&amp;tp=txt_p&amp;tr=hb&amp;wget=v&amp;qget=v&amp;nget=vt\" title=\"Show this on SHEBANQ\" sec=\"Numbers 27:8\">Numbers 27:8</a></span></td><td class=\"tf\"><span class=\"plain  l hlbx\" ><span class=\"plain  rtl  hlbx\" ><span class=\"plain  rtl\"></span><span class=\"plain  rtl  \" ><span class=\"plain  rtl\"></span><span class=\"plain  rtl  \" ><span class=\"plain  rtl\"></span><span class=\"plain  rtl  \" ><span class=\"txtu hbo\">אִ֣ישׁ </span></span></span></span><span class=\"plain  rtl  \" ><span class=\"plain  rtl\"></span><span class=\"plain  rtl  \" ><span class=\"plain  rtl\"></span><span class=\"plain  rtl  \" ><span class=\"txtu hbo\">כִּֽי־</span></span></span><span class=\"plain  rtl  \" ><span class=\"plain  rtl\"></span><span class=\"plain  rtl  \" ><span class=\"txtu hbo\">יָמ֗וּת </span></span></span></span><span class=\"plain  rtl  \" ><span class=\"plain  rtl\"></span><span class=\"plain  rtl  \" ><span class=\"plain  rtl\"></span><span class=\"plain  rtl  \" ><span class=\"txtu hbo\">וּ</span></span></span><span class=\"plain  rtl  \" ><span class=\"plain  rtl\"></span><span class=\"plain  rtl  \" ><span class=\"txtu hbo\">בֵן֙ </span></span></span><span class=\"plain  rtl  \" ><span class=\"plain  rtl\"></span><span class=\"plain  rtl  \" ><span class=\"txtu hbo\">אֵ֣ין </span></span></span><span class=\"plain  rtl  \" ><span class=\"plain  rtl\"></span><span class=\"plain  rtl  \" ><span class=\"txtu hbo\">לֹ֔ו </span></span></span></span></span></span><span class=\"plain  r l hlbx\" ><span class=\"plain  rtl  \" ><span class=\"plain  rtl\"></span><span class=\"plain  rtl  \" ><span class=\"plain  rtl\"></span><span class=\"plain  rtl  \" ><span class=\"plain  rtl\"></span><span class=\"plain  rtl  \" ><span class=\"txtu hbo\">וְ</span></span></span><span class=\"plain  rtl  \" ><span class=\"plain  rtl\"></span><span class=\"plain  rtl  \" ><span class=\"txtu hbo\">אִם־</span></span></span><span class=\"plain  rtl  \" ><span class=\"plain  rtl\"></span><span class=\"plain  rtl  \" ><span class=\"txtu hbo\">אֵ֥ין </span></span></span><span class=\"plain  rtl  \" ><span class=\"plain  rtl\"></span><span class=\"plain  rtl  \" ><span class=\"txtu hbo\">לֹ֖ו </span></span></span><span class=\"plain  rtl  \" ><span class=\"plain  rtl\"></span><span class=\"plain  rtl  \" ><span class=\"txtu hbo\">בַּ֑ת </span></span></span></span></span></span><span class=\"plain  r l hlbx\" ><span class=\"plain  rtl  \" ><span class=\"plain  rtl\"></span><span class=\"plain  rtl  \" ><span class=\"plain  rtl\"></span><span class=\"plain  rtl  \" ><span class=\"plain  rtl\"></span><span class=\"plain  rtl  \" ><span class=\"txtu hbo\">וְ</span></span></span><span class=\"plain  rtl  \" ><span class=\"plain  rtl\"></span><span class=\"plain  rtl  \" ><span class=\"txtu hbo\">אִם־</span></span></span><span class=\"plain  rtl  \" ><span class=\"plain  rtl\"></span><span class=\"plain  rtl  \" ><span class=\"txtu hbo\">אֵ֥ין </span></span></span><span class=\"plain  rtl  \" ><span class=\"plain  rtl\"></span><span class=\"plain  rtl  \" ><span class=\"txtu hbo\">לֹ֖ו </span></span></span><span class=\"plain  rtl  \" ><span class=\"plain  rtl\"></span><span class=\"plain  rtl  \" ><span class=\"txtu hbo\">אַחִ֑ים </span></span></span></span></span></span><span class=\"plain  r hlbx\" ><span class=\"plain  rtl  \" ><span class=\"plain  rtl\"></span><span class=\"plain  rtl  \" ><span class=\"plain  rtl\"></span><span class=\"plain  rtl  \" ><span class=\"plain  rtl\"></span><span class=\"plain  rtl  \" ><span class=\"txtu hbo\">וְ</span></span></span><span class=\"plain  rtl  \" ><span class=\"plain  rtl\"></span><span class=\"plain  rtl  \" ><span class=\"txtu hbo\">אִם־</span></span></span><span class=\"plain  rtl  \" ><span class=\"plain  rtl\"></span><span class=\"plain  rtl  \" ><span class=\"txtu hbo\">אֵ֣ין </span></span></span><span class=\"plain  rtl  \" ><span class=\"plain  rtl\"></span><span class=\"plain  rtl  \" ><span class=\"txtu hbo\">אַחִים֮ </span></span></span><span class=\"plain  rtl  \" ><span class=\"plain  rtl\"></span><span class=\"plain  rtl  \" ><span class=\"txtu hbo\">לְ</span></span><span class=\"plain  rtl  \" ><span class=\"txtu hbo\">אָבִיו֒ </span></span></span></span></span></span></td><td class=\"tf\"><span class=\"plain outer rtl  hlbx\" ><span class=\"plain  rtl\"></span><span class=\"plain  rtl  \" ><span class=\"plain  rtl\"></span><span class=\"plain  rtl  \" ><span class=\"plain  rtl\"></span><span class=\"plain  rtl  \" ><span class=\"txtu hbo\">אִ֣ישׁ </span></span></span></span><span class=\"plain  rtl  \" ><span class=\"plain  rtl\"></span><span class=\"plain  rtl  \" ><span class=\"plain  rtl\"></span><span class=\"plain  rtl  \" ><span class=\"txtu hbo\">כִּֽי־</span></span></span><span class=\"plain  rtl  \" ><span class=\"plain  rtl\"></span><span class=\"plain  rtl  \" ><span class=\"txtu hbo\">יָמ֗וּת </span></span></span></span><span class=\"plain  rtl  \" ><span class=\"plain  rtl\"></span><span class=\"plain  rtl  \" ><span class=\"plain  rtl\"></span><span class=\"plain  rtl  \" ><span class=\"txtu hbo\">וּ</span></span></span><span class=\"plain  rtl  \" ><span class=\"plain  rtl\"></span><span class=\"plain  rtl  \" ><span class=\"txtu hbo\">בֵן֙ </span></span></span><span class=\"plain  rtl  \" ><span class=\"plain  rtl\"></span><span class=\"plain  rtl  \" ><span class=\"txtu hbo\">אֵ֣ין </span></span></span><span class=\"plain  rtl  \" ><span class=\"plain  rtl\"></span><span class=\"plain  rtl  \" ><span class=\"txtu hbo\">לֹ֔ו </span></span></span></span></span></td></tr>\n",
       "<tr class=\"tf\"><td class=\"tf\">3</td><td class=\"tf\"><span class=\"section ltr\"><a target=\"_blank\" href=\"https://shebanq.ancient-data.org/hebrew/text?book=Judices&amp;chapter=7&amp;verse=4&amp;version=2017&amp;mr=m&amp;qw=q&amp;tp=txt_p&amp;tr=hb&amp;wget=v&amp;qget=v&amp;nget=vt\" title=\"Show this on SHEBANQ\" sec=\"Judges 7:4\">Judges 7:4</a></span></td><td class=\"tf\"><span class=\"plain  l hlbx\" ><span class=\"plain  rtl  hlbx\" ><span class=\"plain  rtl\"></span><span class=\"plain  rtl  \" ><span class=\"plain  rtl\"></span><span class=\"plain  rtl  \" ><span class=\"plain  rtl\"></span><span class=\"plain  rtl  \" ><span class=\"txtu hbo\">אֲשֶׁר֩ </span></span></span><span class=\"plain  rtl  \" ><span class=\"plain  rtl\"></span><span class=\"plain  rtl  \" ><span class=\"txtu hbo\">אֹמַ֨ר </span></span></span><span class=\"plain  rtl  \" ><span class=\"plain  rtl\"></span><span class=\"plain  rtl  \" ><span class=\"txtu hbo\">אֵלֶ֜יךָ </span></span></span></span></span></span><span class=\"plain  r hlbx\" ><span class=\"plain  rtl  \" ><span class=\"plain  rtl\"></span><span class=\"plain  rtl  \" ><span class=\"plain  rtl\"></span><span class=\"plain  rtl  \" ><span class=\"plain  rtl\"></span><span class=\"plain  rtl  \" ><span class=\"txtu hbo\">ה֚וּא </span></span></span><span class=\"plain  rtl  \" ><span class=\"plain  rtl\"></span><span class=\"plain  rtl  \" ><span class=\"txtu hbo\">יֵלֵ֣ךְ </span></span></span><span class=\"plain  rtl  \" ><span class=\"plain  rtl\"></span><span class=\"plain  rtl  \" ><span class=\"txtu hbo\">אִתָּ֔ךְ </span></span></span></span></span></span></td><td class=\"tf\"><span class=\"plain outer rtl  hlbx\" ><span class=\"plain  rtl\"></span><span class=\"plain  rtl  \" ><span class=\"plain  rtl\"></span><span class=\"plain  rtl  \" ><span class=\"plain  rtl\"></span><span class=\"plain  rtl  \" ><span class=\"txtu hbo\">אֲשֶׁר֩ </span></span></span><span class=\"plain  rtl  \" ><span class=\"plain  rtl\"></span><span class=\"plain  rtl  \" ><span class=\"txtu hbo\">אֹמַ֨ר </span></span></span><span class=\"plain  rtl  \" ><span class=\"plain  rtl\"></span><span class=\"plain  rtl  \" ><span class=\"txtu hbo\">אֵלֶ֜יךָ </span></span></span></span></span></td></tr>\n",
       "<tr class=\"tf\"><td class=\"tf\">4</td><td class=\"tf\"><span class=\"section ltr\"><a target=\"_blank\" href=\"https://shebanq.ancient-data.org/hebrew/text?book=Judices&amp;chapter=7&amp;verse=4&amp;version=2017&amp;mr=m&amp;qw=q&amp;tp=txt_p&amp;tr=hb&amp;wget=v&amp;qget=v&amp;nget=vt\" title=\"Show this on SHEBANQ\" sec=\"Judges 7:4\">Judges 7:4</a></span></td><td class=\"tf\"><span class=\"plain  l hlbx\" ><span class=\"plain  rtl  hlbx\" ><span class=\"plain  rtl\"></span><span class=\"plain  rtl  \" ><span class=\"plain  rtl\"></span><span class=\"plain  rtl  \" ><span class=\"plain  rtl\"></span><span class=\"plain  rtl  \" ><span class=\"txtu hbo\">וְ</span></span></span><span class=\"plain  rtl  \" ><span class=\"plain  rtl\"></span><span class=\"plain  rtl  \" ><span class=\"txtu hbo\">כֹ֨ל </span></span></span></span><span class=\"plain  rtl  \" ><span class=\"plain  rtl\"></span><span class=\"plain  rtl  \" ><span class=\"plain  rtl\"></span><span class=\"plain  rtl  \" ><span class=\"txtu hbo\">אֲשֶׁר־</span></span></span><span class=\"plain  rtl  \" ><span class=\"plain  rtl\"></span><span class=\"plain  rtl  \" ><span class=\"txtu hbo\">אֹמַ֜ר </span></span></span><span class=\"plain  rtl  \" ><span class=\"plain  rtl\"></span><span class=\"plain  rtl  \" ><span class=\"txtu hbo\">אֵלֶ֗יךָ </span></span></span></span></span></span><span class=\"plain  r hlbx\" ><span class=\"plain  rtl  \" ><span class=\"plain  rtl\"></span><span class=\"plain  rtl  \" ><span class=\"plain  rtl\"></span><span class=\"plain  rtl  \" ><span class=\"plain  rtl\"></span><span class=\"plain  rtl  \" ><span class=\"txtu hbo\">ה֖וּא </span></span></span><span class=\"plain  rtl  \" ><span class=\"plain  rtl\"></span><span class=\"plain  rtl  \" ><span class=\"txtu hbo\">לֹ֥א </span></span></span><span class=\"plain  rtl  \" ><span class=\"plain  rtl\"></span><span class=\"plain  rtl  \" ><span class=\"txtu hbo\">יֵלֵֽךְ׃ </span></span></span></span></span></span></td><td class=\"tf\"><span class=\"plain outer rtl  hlbx\" ><span class=\"plain  rtl\"></span><span class=\"plain  rtl  \" ><span class=\"plain  rtl\"></span><span class=\"plain  rtl  \" ><span class=\"plain  rtl\"></span><span class=\"plain  rtl  \" ><span class=\"txtu hbo\">וְ</span></span></span><span class=\"plain  rtl  \" ><span class=\"plain  rtl\"></span><span class=\"plain  rtl  \" ><span class=\"txtu hbo\">כֹ֨ל </span></span></span></span><span class=\"plain  rtl  \" ><span class=\"plain  rtl\"></span><span class=\"plain  rtl  \" ><span class=\"plain  rtl\"></span><span class=\"plain  rtl  \" ><span class=\"txtu hbo\">אֲשֶׁר־</span></span></span><span class=\"plain  rtl  \" ><span class=\"plain  rtl\"></span><span class=\"plain  rtl  \" ><span class=\"txtu hbo\">אֹמַ֜ר </span></span></span><span class=\"plain  rtl  \" ><span class=\"plain  rtl\"></span><span class=\"plain  rtl  \" ><span class=\"txtu hbo\">אֵלֶ֗יךָ </span></span></span></span></span></td></tr>\n",
       "<tr class=\"tf\"><td class=\"tf\">5</td><td class=\"tf\"><span class=\"section ltr\"><a target=\"_blank\" href=\"https://shebanq.ancient-data.org/hebrew/text?book=Samuel_II&amp;chapter=5&amp;verse=6&amp;version=2017&amp;mr=m&amp;qw=q&amp;tp=txt_p&amp;tr=hb&amp;wget=v&amp;qget=v&amp;nget=vt\" title=\"Show this on SHEBANQ\" sec=\"2_Samuel 5:6\">2_Samuel 5:6</a></span></td><td class=\"tf\"><span class=\"plain  l hlbx\" ><span class=\"plain  rtl  hlbx\" ><span class=\"plain  rtl\"></span><span class=\"plain  rtl  \" ><span class=\"plain  rtl\"></span><span class=\"plain  rtl  \" ><span class=\"plain  rtl\"></span><span class=\"plain  rtl  \" ><span class=\"txtu hbo\">וַ</span></span></span><span class=\"plain  rtl  \" ><span class=\"plain  rtl\"></span><span class=\"plain  rtl  \" ><span class=\"txtu hbo\">יֹּ֨אמֶר </span></span></span><span class=\"plain  rtl  \" ><span class=\"plain  rtl\"></span><span class=\"plain  rtl  \" ><span class=\"txtu hbo\">לְ</span></span><span class=\"plain  rtl  \" ><span class=\"txtu hbo\">דָוִ֤ד </span></span></span></span><span class=\"plain  rtl  \" ><span class=\"plain  rtl\"></span><span class=\"plain  rtl  \" ><span class=\"plain  rtl\"></span><span class=\"plain  rtl  \" ><span class=\"txtu hbo\">לֵ</span></span><span class=\"plain  rtl  \" ><span class=\"txtu hbo\">אמֹר֙ </span></span></span></span></span></span><span class=\"plain  r hlbx\" ><span class=\"plain  rtl  \" ><span class=\"plain  rtl\"></span><span class=\"plain  rtl  \" ><span class=\"plain  rtl\"></span><span class=\"plain  rtl  \" ><span class=\"plain  rtl\"></span><span class=\"plain  rtl  \" ><span class=\"txtu hbo\">לֵ</span></span><span class=\"plain  rtl  \" ><span class=\"txtu hbo\">אמֹ֔ר </span></span></span></span></span></span></td><td class=\"tf\"><span class=\"plain outer rtl  hlbx\" ><span class=\"plain  rtl\"></span><span class=\"plain  rtl  \" ><span class=\"plain  rtl\"></span><span class=\"plain  rtl  \" ><span class=\"plain  rtl\"></span><span class=\"plain  rtl  \" ><span class=\"txtu hbo\">וַ</span></span></span><span class=\"plain  rtl  \" ><span class=\"plain  rtl\"></span><span class=\"plain  rtl  \" ><span class=\"txtu hbo\">יֹּ֨אמֶר </span></span></span><span class=\"plain  rtl  \" ><span class=\"plain  rtl\"></span><span class=\"plain  rtl  \" ><span class=\"txtu hbo\">לְ</span></span><span class=\"plain  rtl  \" ><span class=\"txtu hbo\">דָוִ֤ד </span></span></span></span><span class=\"plain  rtl  \" ><span class=\"plain  rtl\"></span><span class=\"plain  rtl  \" ><span class=\"plain  rtl\"></span><span class=\"plain  rtl  \" ><span class=\"txtu hbo\">לֵ</span></span><span class=\"plain  rtl  \" ><span class=\"txtu hbo\">אמֹר֙ </span></span></span></span></span></td></tr></table>"
      ],
      "text/plain": [
       "<IPython.core.display.HTML object>"
      ]
     },
     "metadata": {},
     "output_type": "display_data"
    },
    {
     "data": {
      "text/html": [
       "<p><b>result</b> <i>1</i></p>"
      ],
      "text/plain": [
       "<IPython.core.display.HTML object>"
      ]
     },
     "metadata": {},
     "output_type": "display_data"
    },
    {
     "data": {
      "text/html": [
       "<span class=\"section ltr\"><a target=\"_blank\" href=\"https://shebanq.ancient-data.org/hebrew/text?book=Numeri&amp;chapter=23&amp;verse=19&amp;version=2017&amp;mr=m&amp;qw=q&amp;tp=txt_p&amp;tr=hb&amp;wget=v&amp;qget=v&amp;nget=vt\" title=\"Show this on SHEBANQ\" sec=\"Numbers 23:19\">Numbers 23:19</a> </span><div class=\"contnr c3  rtl  \" ><div class=\"lbl c3  \" ><span class=\"nd\">verse</span></div> <div class='features'><span class=\"otype xft\" ><span class=\"f\">otype=</span>verse</span></div><div class=\"children row wrap rtl\"><div class=\"contnr c2  rtl  l \" ><div class=\"lbl c2  \" ><span class=\"nd\">sentence</span></div> <div class='features'><span class=\"otype xft\" ><span class=\"f\">otype=</span>sentence</span></div><div class=\"children row wrap rtl\"><div class=\"contnr cnul trm rtl  \" ><div class=\"children row wrap rtl\"><div class=\"contnr c2  rtl  \" ><div class=\"lbl c2  \" ><span class=\"nd\">clause</span></div> <div class='features'><span class=\"otype xft\" ><span class=\"f\">otype=</span>clause</span></div><div class=\"children row wrap rtl\"><div class=\"contnr cnul trm rtl  \" ><div class=\"children row wrap rtl\"><div class=\"contnr c1 trm rtl  \" ><div class=\"lbl c1 trm \" ><span class=\"nd\">phrase</span> <span class=\"\"><span class=\"plain  rtl  \" ><span class=\"plain  rtl\"></span><span class=\"plain  rtl  \" ><span class=\"txtu hbo\">לֹ֣א </span></span></span></span></div> <div class='features'><span class=\"otype xft\" ><span class=\"f\">otype=</span>phrase</span></div><div class=\"children row wrap rtl\"><div class=\"contnr cnul trm rtl  \" ></div></div></div><div class=\"contnr c1 trm rtl  \" ><div class=\"lbl c1 trm \" ><span class=\"nd\">phrase</span> <span class=\"\"><span class=\"plain  rtl  \" ><span class=\"plain  rtl\"></span><span class=\"plain  rtl  \" ><span class=\"txtu hbo\">אִ֥ישׁ </span></span></span></span></div> <div class='features'><span class=\"otype xft\" ><span class=\"f\">otype=</span>phrase</span></div><div class=\"children row wrap rtl\"><div class=\"contnr cnul trm rtl  \" ></div></div></div><div class=\"contnr c1 trm rtl  \" ><div class=\"lbl c1 trm \" ><span class=\"nd\">phrase</span> <span class=\"\"><span class=\"plain  rtl  \" ><span class=\"plain  rtl\"></span><span class=\"plain  rtl  \" ><span class=\"txtu hbo\">אֵל֙ </span></span></span></span></div> <div class='features'><span class=\"otype xft\" ><span class=\"f\">otype=</span>phrase</span></div><div class=\"children row wrap rtl\"><div class=\"contnr cnul trm rtl  \" ></div></div></div></div></div></div></div></div></div></div></div><div class=\"contnr c2  rtl  \" ><div class=\"lbl c2  \" ><span class=\"nd\">sentence</span></div> <div class='features'><span class=\"otype xft\" ><span class=\"f\">otype=</span>sentence</span></div><div class=\"children row wrap rtl\"><div class=\"contnr cnul trm rtl  \" ><div class=\"children row wrap rtl\"><div class=\"contnr c2  rtl  \" ><div class=\"lbl c2  \" ><span class=\"nd\">clause</span></div> <div class='features'><span class=\"otype xft\" ><span class=\"f\">otype=</span>clause</span></div><div class=\"children row wrap rtl\"><div class=\"contnr cnul trm rtl  \" ><div class=\"children row wrap rtl\"><div class=\"contnr c1 trm rtl  \" ><div class=\"lbl c1 trm \" ><span class=\"nd\">phrase</span> <span class=\"\"><span class=\"plain  rtl  \" ><span class=\"plain  rtl\"></span><span class=\"plain  rtl  \" ><span class=\"txtu hbo\">וִֽ</span></span></span></span></div> <div class='features'><span class=\"otype xft\" ><span class=\"f\">otype=</span>phrase</span></div><div class=\"children row wrap rtl\"><div class=\"contnr cnul trm rtl  \" ></div></div></div><div class=\"contnr c1 trm rtl  \" ><div class=\"lbl c1 trm \" ><span class=\"nd\">phrase</span> <span class=\"\"><span class=\"plain  rtl  \" ><span class=\"plain  rtl\"></span><span class=\"plain  rtl  \" ><span class=\"txtu hbo\">יכַזֵּ֔ב </span></span></span></span></div> <div class='features'><span class=\"otype xft\" ><span class=\"f\">otype=</span>phrase</span></div><div class=\"children row wrap rtl\"><div class=\"contnr cnul trm rtl  \" ></div></div></div></div></div></div></div></div></div></div></div><div class=\"contnr c2  rtl  r \" ><div class=\"lbl c2  \" ><span class=\"nd\">sentence</span></div> <div class='features'><span class=\"otype xft\" ><span class=\"f\">otype=</span>sentence</span></div><div class=\"children row wrap rtl\"><div class=\"contnr cnul trm rtl  \" ><div class=\"children row wrap rtl\"><div class=\"contnr c2  rtl  \" ><div class=\"lbl c2  \" ><span class=\"nd\">clause</span></div> <div class='features'><span class=\"otype xft\" ><span class=\"f\">otype=</span>clause</span></div><div class=\"children row wrap rtl\"><div class=\"contnr cnul trm rtl  \" ><div class=\"children row wrap rtl\"><div class=\"contnr c1 trm rtl  \" ><div class=\"lbl c1 trm \" ><span class=\"nd\">phrase</span> <span class=\"\"><span class=\"plain  rtl  \" ><span class=\"plain  rtl\"></span><span class=\"plain  rtl  \" ><span class=\"txtu hbo\">וּ</span></span></span></span></div> <div class='features'><span class=\"otype xft\" ><span class=\"f\">otype=</span>phrase</span></div><div class=\"children row wrap rtl\"><div class=\"contnr cnul trm rtl  \" ></div></div></div><div class=\"contnr c1 trm rtl  \" ><div class=\"lbl c1 trm \" ><span class=\"nd\">phrase</span> <span class=\"\"><span class=\"plain  rtl  \" ><span class=\"plain  rtl\"></span><span class=\"plain  rtl  \" ><span class=\"txtu hbo\">בֶן־</span></span><span class=\"plain  rtl  \" ><span class=\"txtu hbo\">אָדָ֖ם </span></span></span></span></div> <div class='features'><span class=\"otype xft\" ><span class=\"f\">otype=</span>phrase</span></div><div class=\"children row wrap rtl\"><div class=\"contnr cnul trm rtl  \" ></div></div></div></div></div></div></div></div></div></div></div><div class=\"contnr c2  rtl  \" ><div class=\"lbl c2  \" ><span class=\"nd\">sentence</span></div> <div class='features'><span class=\"otype xft\" ><span class=\"f\">otype=</span>sentence</span></div><div class=\"children row wrap rtl\"><div class=\"contnr cnul trm rtl  \" ><div class=\"children row wrap rtl\"><div class=\"contnr c2  rtl  \" ><div class=\"lbl c2  \" ><span class=\"nd\">clause</span></div> <div class='features'><span class=\"otype xft\" ><span class=\"f\">otype=</span>clause</span></div><div class=\"children row wrap rtl\"><div class=\"contnr cnul trm rtl  \" ><div class=\"children row wrap rtl\"><div class=\"contnr c1 trm rtl  \" ><div class=\"lbl c1 trm \" ><span class=\"nd\">phrase</span> <span class=\"\"><span class=\"plain  rtl  \" ><span class=\"plain  rtl\"></span><span class=\"plain  rtl  \" ><span class=\"txtu hbo\">וְ</span></span></span></span></div> <div class='features'><span class=\"otype xft\" ><span class=\"f\">otype=</span>phrase</span></div><div class=\"children row wrap rtl\"><div class=\"contnr cnul trm rtl  \" ></div></div></div><div class=\"contnr c1 trm rtl  \" ><div class=\"lbl c1 trm \" ><span class=\"nd\">phrase</span> <span class=\"\"><span class=\"plain  rtl  \" ><span class=\"plain  rtl\"></span><span class=\"plain  rtl  \" ><span class=\"txtu hbo\">יִתְנֶחָ֑ם </span></span></span></span></div> <div class='features'><span class=\"otype xft\" ><span class=\"f\">otype=</span>phrase</span></div><div class=\"children row wrap rtl\"><div class=\"contnr cnul trm rtl  \" ></div></div></div></div></div></div></div></div></div></div></div><div class=\"contnr c2  rtl  l hl\" ><div class=\"lbl c2  hl\" ><span class=\"nd\">sentence</span></div> <div class='features'><span class=\"otype xft\" ><span class=\"f\">otype=</span>sentence</span></div><div class=\"children row wrap rtl\"><div class=\"contnr cnul trm rtl  hl\" ><div class=\"children row wrap rtl\"><div class=\"contnr c2  rtl  \" ><div class=\"lbl c2  \" ><span class=\"nd\">clause</span></div> <div class='features'><span class=\"otype xft\" ><span class=\"f\">otype=</span>clause</span></div><div class=\"children row wrap rtl\"><div class=\"contnr cnul trm rtl  \" ><div class=\"children row wrap rtl\"><div class=\"contnr c1 trm rtl  \" ><div class=\"lbl c1 trm \" ><span class=\"nd\">phrase</span> <span class=\"\"><span class=\"plain  rtl  \" ><span class=\"plain  rtl\"></span><span class=\"plain  rtl  \" ><span class=\"txtu hbo\">הַ</span></span></span></span></div> <div class='features'><span class=\"otype xft\" ><span class=\"f\">otype=</span>phrase</span></div><div class=\"children row wrap rtl\"><div class=\"contnr cnul trm rtl  \" ></div></div></div><div class=\"contnr c1 trm rtl  \" ><div class=\"lbl c1 trm \" ><span class=\"nd\">phrase</span> <span class=\"\"><span class=\"plain  rtl  \" ><span class=\"plain  rtl\"></span><span class=\"plain  rtl  \" ><span class=\"txtu hbo\">ה֤וּא </span></span></span></span></div> <div class='features'><span class=\"otype xft\" ><span class=\"f\">otype=</span>phrase</span></div><div class=\"children row wrap rtl\"><div class=\"contnr cnul trm rtl  \" ></div></div></div><div class=\"contnr c1 trm rtl  \" ><div class=\"lbl c1 trm \" ><span class=\"nd\">phrase</span> <span class=\"\"><span class=\"plain  rtl  \" ><span class=\"plain  rtl\"></span><span class=\"plain  rtl  \" ><span class=\"txtu hbo\">אָמַר֙ </span></span></span></span></div> <div class='features'><span class=\"otype xft\" ><span class=\"f\">otype=</span>phrase</span></div><div class=\"children row wrap rtl\"><div class=\"contnr cnul trm rtl  \" ></div></div></div></div></div></div></div></div></div></div></div><div class=\"contnr c2  rtl  \" ><div class=\"lbl c2  \" ><span class=\"nd\">sentence</span></div> <div class='features'><span class=\"otype xft\" ><span class=\"f\">otype=</span>sentence</span></div><div class=\"children row wrap rtl\"><div class=\"contnr cnul trm rtl  \" ><div class=\"children row wrap rtl\"><div class=\"contnr c2  rtl  \" ><div class=\"lbl c2  \" ><span class=\"nd\">clause</span></div> <div class='features'><span class=\"otype xft\" ><span class=\"f\">otype=</span>clause</span></div><div class=\"children row wrap rtl\"><div class=\"contnr cnul trm rtl  \" ><div class=\"children row wrap rtl\"><div class=\"contnr c1 trm rtl  \" ><div class=\"lbl c1 trm \" ><span class=\"nd\">phrase</span> <span class=\"\"><span class=\"plain  rtl  \" ><span class=\"plain  rtl\"></span><span class=\"plain  rtl  \" ><span class=\"txtu hbo\">וְ</span></span></span></span></div> <div class='features'><span class=\"otype xft\" ><span class=\"f\">otype=</span>phrase</span></div><div class=\"children row wrap rtl\"><div class=\"contnr cnul trm rtl  \" ></div></div></div><div class=\"contnr c1 trm rtl  \" ><div class=\"lbl c1 trm \" ><span class=\"nd\">phrase</span> <span class=\"\"><span class=\"plain  rtl  \" ><span class=\"plain  rtl\"></span><span class=\"plain  rtl  \" ><span class=\"txtu hbo\">לֹ֣א </span></span></span></span></div> <div class='features'><span class=\"otype xft\" ><span class=\"f\">otype=</span>phrase</span></div><div class=\"children row wrap rtl\"><div class=\"contnr cnul trm rtl  \" ></div></div></div><div class=\"contnr c1 trm rtl  \" ><div class=\"lbl c1 trm \" ><span class=\"nd\">phrase</span> <span class=\"\"><span class=\"plain  rtl  \" ><span class=\"plain  rtl\"></span><span class=\"plain  rtl  \" ><span class=\"txtu hbo\">יַעֲשֶׂ֔ה </span></span></span></span></div> <div class='features'><span class=\"otype xft\" ><span class=\"f\">otype=</span>phrase</span></div><div class=\"children row wrap rtl\"><div class=\"contnr cnul trm rtl  \" ></div></div></div></div></div></div></div></div></div></div></div><div class=\"contnr c2  rtl  r hl\" ><div class=\"lbl c2  hl\" ><span class=\"nd\">sentence</span></div> <div class='features'><span class=\"otype xft\" ><span class=\"f\">otype=</span>sentence</span></div><div class=\"children row wrap rtl\"><div class=\"contnr cnul trm rtl  \" ><div class=\"children row wrap rtl\"><div class=\"contnr c2  rtl  \" ><div class=\"lbl c2  \" ><span class=\"nd\">clause</span></div> <div class='features'><span class=\"otype xft\" ><span class=\"f\">otype=</span>clause</span></div><div class=\"children row wrap rtl\"><div class=\"contnr cnul trm rtl  \" ><div class=\"children row wrap rtl\"><div class=\"contnr c1 trm rtl  \" ><div class=\"lbl c1 trm \" ><span class=\"nd\">phrase</span> <span class=\"\"><span class=\"plain  rtl  \" ><span class=\"plain  rtl\"></span><span class=\"plain  rtl  \" ><span class=\"txtu hbo\">וְ</span></span></span></span></div> <div class='features'><span class=\"otype xft\" ><span class=\"f\">otype=</span>phrase</span></div><div class=\"children row wrap rtl\"><div class=\"contnr cnul trm rtl  \" ></div></div></div><div class=\"contnr c1 trm rtl  \" ><div class=\"lbl c1 trm \" ><span class=\"nd\">phrase</span> <span class=\"\"><span class=\"plain  rtl  \" ><span class=\"plain  rtl\"></span><span class=\"plain  rtl  \" ><span class=\"txtu hbo\">דִבֶּ֖ר </span></span></span></span></div> <div class='features'><span class=\"otype xft\" ><span class=\"f\">otype=</span>phrase</span></div><div class=\"children row wrap rtl\"><div class=\"contnr cnul trm rtl  \" ></div></div></div></div></div></div></div></div></div></div></div><div class=\"contnr c2  rtl  \" ><div class=\"lbl c2  \" ><span class=\"nd\">sentence</span></div> <div class='features'><span class=\"otype xft\" ><span class=\"f\">otype=</span>sentence</span></div><div class=\"children row wrap rtl\"><div class=\"contnr cnul trm rtl  \" ><div class=\"children row wrap rtl\"><div class=\"contnr c2  rtl  \" ><div class=\"lbl c2  \" ><span class=\"nd\">clause</span></div> <div class='features'><span class=\"otype xft\" ><span class=\"f\">otype=</span>clause</span></div><div class=\"children row wrap rtl\"><div class=\"contnr cnul trm rtl  \" ><div class=\"children row wrap rtl\"><div class=\"contnr c1 trm rtl  \" ><div class=\"lbl c1 trm \" ><span class=\"nd\">phrase</span> <span class=\"\"><span class=\"plain  rtl  \" ><span class=\"plain  rtl\"></span><span class=\"plain  rtl  \" ><span class=\"txtu hbo\">וְ</span></span></span></span></div> <div class='features'><span class=\"otype xft\" ><span class=\"f\">otype=</span>phrase</span></div><div class=\"children row wrap rtl\"><div class=\"contnr cnul trm rtl  \" ></div></div></div><div class=\"contnr c1 trm rtl  \" ><div class=\"lbl c1 trm \" ><span class=\"nd\">phrase</span> <span class=\"\"><span class=\"plain  rtl  \" ><span class=\"plain  rtl\"></span><span class=\"plain  rtl  \" ><span class=\"txtu hbo\">לֹ֥א </span></span></span></span></div> <div class='features'><span class=\"otype xft\" ><span class=\"f\">otype=</span>phrase</span></div><div class=\"children row wrap rtl\"><div class=\"contnr cnul trm rtl  \" ></div></div></div><div class=\"contnr c1 trm rtl  \" ><div class=\"lbl c1 trm \" ><span class=\"nd\">phrase</span> <span class=\"\"><span class=\"plain  rtl  \" ><span class=\"plain  rtl\"></span><span class=\"plain  rtl  \" ><span class=\"txtu hbo\">יְקִימֶֽנָּה׃ </span></span></span></span></div> <div class='features'><span class=\"otype xft\" ><span class=\"f\">otype=</span>phrase</span></div><div class=\"children row wrap rtl\"><div class=\"contnr cnul trm rtl  \" ></div></div></div></div></div></div></div></div></div></div></div></div></div>"
      ],
      "text/plain": [
       "<IPython.core.display.HTML object>"
      ]
     },
     "metadata": {},
     "output_type": "display_data"
    }
   ],
   "source": [
    "indent(reset=True)\n",
    "query = '''\n",
    "s:common otype=sentence\n",
    "=: sa:sentence_atom\n",
    "s ## sa\n",
    "'''\n",
    "resultsCustom = A.search(query, sets=customSets)\n",
    "A.table(resultsCustom, end=5)\n",
    "A.show(resultsCustom, baseTypes=\"phrase\", start=1, end=1)\n",
    "info('Done')"
   ]
  },
  {
   "cell_type": "markdown",
   "metadata": {},
   "source": [
    "## || disjoint slots\n",
    "\n",
    "True when the two objects in question do not share any slots.\n",
    "This is a rather loose relationship.\n",
    "\n",
    "This can be used for locating gaps: a textual object that lies inside a gap of another object.\n",
    "See also [gaps](searchGaps.ipynb).\n",
    "\n",
    "Here we check whether there are phrases with disjoint subphrases."
   ]
  },
  {
   "cell_type": "code",
   "execution_count": 38,
   "metadata": {
    "ExecuteTime": {
     "end_time": "2018-05-24T09:15:45.123089Z",
     "start_time": "2018-05-24T09:15:19.569287Z"
    }
   },
   "outputs": [
    {
     "name": "stdout",
     "output_type": "stream",
     "text": [
      "  1.61s 168333 results\n"
     ]
    },
    {
     "data": {
      "text/html": [
       "<table><tr class=\"tf\"><th class=\"tf\">n</th><th class=\"tf\">p</th><th class=\"tf\">phrase</th><th class=\"tf\">subphrase</th><th class=\"tf\">subphrase</th></tr>\n",
       "<tr class=\"tf\"><td class=\"tf\">1</td><td class=\"tf\"><span class=\"section ltr\"><a target=\"_blank\" href=\"https://shebanq.ancient-data.org/hebrew/text?book=Genesis&amp;chapter=1&amp;verse=1&amp;version=2017&amp;mr=m&amp;qw=q&amp;tp=txt_p&amp;tr=hb&amp;wget=v&amp;qget=v&amp;nget=vt\" title=\"Show this on SHEBANQ\" sec=\"Genesis 1:1\">Genesis 1:1</a></span></td><td class=\"tf\"><span class=\"plain  hlbx\" ><span class=\"plain  rtl  \" ><span class=\"plain  rtl\"></span><span class=\"plain  rtl  \" ><span class=\"txtu hbo\">אֵ֥ת </span></span><span class=\"plain  rtl  \" ><span class=\"txtu hbo\">הַ</span></span><span class=\"plain  rtl  \" ><span class=\"txtu hbo\">שָּׁמַ֖יִם </span></span><span class=\"plain  rtl  \" ><span class=\"txtu hbo\">וְ</span></span><span class=\"plain  rtl  \" ><span class=\"txtu hbo\">אֵ֥ת </span></span><span class=\"plain  rtl  \" ><span class=\"txtu hbo\">הָ</span></span><span class=\"plain  rtl  \" ><span class=\"txtu hbo\">אָֽרֶץ׃ </span></span></span></span></td><td class=\"tf\"><span class=\"plain outer rtl  hlbx\" ><span class=\"plain  rtl\"></span><span class=\"plain  rtl  \" ><span class=\"txtu hbo\">אֵ֥ת </span></span><span class=\"plain  rtl  \" ><span class=\"txtu hbo\">הַ</span></span><span class=\"plain  rtl  \" ><span class=\"txtu hbo\">שָּׁמַ֖יִם </span></span></span></td><td class=\"tf\"><span class=\"plain outer rtl  hlbx\" ><span class=\"plain  rtl\"></span><span class=\"plain  rtl  \" ><span class=\"txtu hbo\">אֵ֥ת </span></span><span class=\"plain  rtl  \" ><span class=\"txtu hbo\">הָ</span></span><span class=\"plain  rtl  \" ><span class=\"txtu hbo\">אָֽרֶץ׃ </span></span></span></td></tr>\n",
       "<tr class=\"tf\"><td class=\"tf\">2</td><td class=\"tf\"><span class=\"section ltr\"><a target=\"_blank\" href=\"https://shebanq.ancient-data.org/hebrew/text?book=Genesis&amp;chapter=1&amp;verse=2&amp;version=2017&amp;mr=m&amp;qw=q&amp;tp=txt_p&amp;tr=hb&amp;wget=v&amp;qget=v&amp;nget=vt\" title=\"Show this on SHEBANQ\" sec=\"Genesis 1:2\">Genesis 1:2</a></span></td><td class=\"tf\"><span class=\"plain  hlbx\" ><span class=\"plain  rtl  \" ><span class=\"plain  rtl\"></span><span class=\"plain  rtl  \" ><span class=\"txtu hbo\">תֹ֨הוּ֙ </span></span><span class=\"plain  rtl  \" ><span class=\"txtu hbo\">וָ</span></span><span class=\"plain  rtl  \" ><span class=\"txtu hbo\">בֹ֔הוּ </span></span></span></span></td><td class=\"tf\"><span class=\"plain outer rtl  hlbx\" ><span class=\"plain  rtl\"></span><span class=\"plain  rtl  \" ><span class=\"txtu hbo\">תֹ֨הוּ֙ </span></span></span></td><td class=\"tf\"><span class=\"plain outer rtl  hlbx\" ><span class=\"plain  rtl\"></span><span class=\"plain  rtl  \" ><span class=\"txtu hbo\">בֹ֔הוּ </span></span></span></td></tr>\n",
       "<tr class=\"tf\"><td class=\"tf\">3</td><td class=\"tf\"><span class=\"section ltr\"><a target=\"_blank\" href=\"https://shebanq.ancient-data.org/hebrew/text?book=Genesis&amp;chapter=1&amp;verse=2&amp;version=2017&amp;mr=m&amp;qw=q&amp;tp=txt_p&amp;tr=hb&amp;wget=v&amp;qget=v&amp;nget=vt\" title=\"Show this on SHEBANQ\" sec=\"Genesis 1:2\">Genesis 1:2</a></span></td><td class=\"tf\"><span class=\"plain  hlbx\" ><span class=\"plain  rtl  \" ><span class=\"plain  rtl\"></span><span class=\"plain  rtl  \" ><span class=\"txtu hbo\">עַל־</span></span><span class=\"plain  rtl  \" ><span class=\"txtu hbo\">פְּנֵ֣י </span></span><span class=\"plain  rtl  \" ><span class=\"txtu hbo\">תְהֹ֑ום </span></span></span></span></td><td class=\"tf\"><span class=\"plain outer rtl  hlbx\" ><span class=\"plain  rtl\"></span><span class=\"plain  rtl  \" ><span class=\"txtu hbo\">פְּנֵ֣י </span></span></span></td><td class=\"tf\"><span class=\"plain outer rtl  hlbx\" ><span class=\"plain  rtl\"></span><span class=\"plain  rtl  \" ><span class=\"txtu hbo\">תְהֹ֑ום </span></span></span></td></tr>\n",
       "<tr class=\"tf\"><td class=\"tf\">4</td><td class=\"tf\"><span class=\"section ltr\"><a target=\"_blank\" href=\"https://shebanq.ancient-data.org/hebrew/text?book=Genesis&amp;chapter=1&amp;verse=2&amp;version=2017&amp;mr=m&amp;qw=q&amp;tp=txt_p&amp;tr=hb&amp;wget=v&amp;qget=v&amp;nget=vt\" title=\"Show this on SHEBANQ\" sec=\"Genesis 1:2\">Genesis 1:2</a></span></td><td class=\"tf\"><span class=\"plain  hlbx\" ><span class=\"plain  rtl  \" ><span class=\"plain  rtl\"></span><span class=\"plain  rtl  \" ><span class=\"txtu hbo\">ר֣וּחַ </span></span><span class=\"plain  rtl  \" ><span class=\"txtu hbo\">אֱלֹהִ֔ים </span></span></span></span></td><td class=\"tf\"><span class=\"plain outer rtl  hlbx\" ><span class=\"plain  rtl\"></span><span class=\"plain  rtl  \" ><span class=\"txtu hbo\">ר֣וּחַ </span></span></span></td><td class=\"tf\"><span class=\"plain outer rtl  hlbx\" ><span class=\"plain  rtl\"></span><span class=\"plain  rtl  \" ><span class=\"txtu hbo\">אֱלֹהִ֔ים </span></span></span></td></tr>\n",
       "<tr class=\"tf\"><td class=\"tf\">5</td><td class=\"tf\"><span class=\"section ltr\"><a target=\"_blank\" href=\"https://shebanq.ancient-data.org/hebrew/text?book=Genesis&amp;chapter=1&amp;verse=2&amp;version=2017&amp;mr=m&amp;qw=q&amp;tp=txt_p&amp;tr=hb&amp;wget=v&amp;qget=v&amp;nget=vt\" title=\"Show this on SHEBANQ\" sec=\"Genesis 1:2\">Genesis 1:2</a></span></td><td class=\"tf\"><span class=\"plain  hlbx\" ><span class=\"plain  rtl  \" ><span class=\"plain  rtl\"></span><span class=\"plain  rtl  \" ><span class=\"txtu hbo\">עַל־</span></span><span class=\"plain  rtl  \" ><span class=\"txtu hbo\">פְּנֵ֥י </span></span><span class=\"plain  rtl  \" ><span class=\"txtu hbo\">הַ</span></span><span class=\"plain  rtl  \" ><span class=\"txtu hbo\">מָּֽיִם׃ </span></span></span></span></td><td class=\"tf\"><span class=\"plain outer rtl  hlbx\" ><span class=\"plain  rtl\"></span><span class=\"plain  rtl  \" ><span class=\"txtu hbo\">פְּנֵ֥י </span></span></span></td><td class=\"tf\"><span class=\"plain outer rtl  hlbx\" ><span class=\"plain  rtl\"></span><span class=\"plain  rtl  \" ><span class=\"txtu hbo\">הַ</span></span><span class=\"plain  rtl  \" ><span class=\"txtu hbo\">מָּֽיִם׃ </span></span></span></td></tr>\n",
       "<tr class=\"tf\"><td class=\"tf\">6</td><td class=\"tf\"><span class=\"section ltr\"><a target=\"_blank\" href=\"https://shebanq.ancient-data.org/hebrew/text?book=Genesis&amp;chapter=1&amp;verse=4&amp;version=2017&amp;mr=m&amp;qw=q&amp;tp=txt_p&amp;tr=hb&amp;wget=v&amp;qget=v&amp;nget=vt\" title=\"Show this on SHEBANQ\" sec=\"Genesis 1:4\">Genesis 1:4</a></span></td><td class=\"tf\"><span class=\"plain  hlbx\" ><span class=\"plain  rtl  \" ><span class=\"plain  rtl\"></span><span class=\"plain  rtl  \" ><span class=\"txtu hbo\">בֵּ֥ין </span></span><span class=\"plain  rtl  \" ><span class=\"txtu hbo\">הָ</span></span><span class=\"plain  rtl  \" ><span class=\"txtu hbo\">אֹ֖ור </span></span><span class=\"plain  rtl  \" ><span class=\"txtu hbo\">וּ</span></span><span class=\"plain  rtl  \" ><span class=\"txtu hbo\">בֵ֥ין </span></span><span class=\"plain  rtl  \" ><span class=\"txtu hbo\">הַ</span></span><span class=\"plain  rtl  \" ><span class=\"txtu hbo\">חֹֽשֶׁךְ׃ </span></span></span></span></td><td class=\"tf\"><span class=\"plain outer rtl  hlbx\" ><span class=\"plain  rtl\"></span><span class=\"plain  rtl  \" ><span class=\"txtu hbo\">בֵּ֥ין </span></span><span class=\"plain  rtl  \" ><span class=\"txtu hbo\">הָ</span></span><span class=\"plain  rtl  \" ><span class=\"txtu hbo\">אֹ֖ור </span></span></span></td><td class=\"tf\"><span class=\"plain outer rtl  hlbx\" ><span class=\"plain  rtl\"></span><span class=\"plain  rtl  \" ><span class=\"txtu hbo\">בֵ֥ין </span></span><span class=\"plain  rtl  \" ><span class=\"txtu hbo\">הַ</span></span><span class=\"plain  rtl  \" ><span class=\"txtu hbo\">חֹֽשֶׁךְ׃ </span></span></span></td></tr>\n",
       "<tr class=\"tf\"><td class=\"tf\">7</td><td class=\"tf\"><span class=\"section ltr\"><a target=\"_blank\" href=\"https://shebanq.ancient-data.org/hebrew/text?book=Genesis&amp;chapter=1&amp;verse=5&amp;version=2017&amp;mr=m&amp;qw=q&amp;tp=txt_p&amp;tr=hb&amp;wget=v&amp;qget=v&amp;nget=vt\" title=\"Show this on SHEBANQ\" sec=\"Genesis 1:5\">Genesis 1:5</a></span></td><td class=\"tf\"><span class=\"plain  hlbx\" ><span class=\"plain  rtl  \" ><span class=\"plain  rtl\"></span><span class=\"plain  rtl  \" ><span class=\"txtu hbo\">יֹ֥ום </span></span><span class=\"plain  rtl  \" ><span class=\"txtu hbo\">אֶחָֽד׃ פ </span></span></span></span></td><td class=\"tf\"><span class=\"plain outer rtl  hlbx\" ><span class=\"plain  rtl\"></span><span class=\"plain  rtl  \" ><span class=\"txtu hbo\">יֹ֥ום </span></span></span></td><td class=\"tf\"><span class=\"plain outer rtl  hlbx\" ><span class=\"plain  rtl\"></span><span class=\"plain  rtl  \" ><span class=\"txtu hbo\">אֶחָֽד׃ פ </span></span></span></td></tr></table>"
      ],
      "text/plain": [
       "<IPython.core.display.HTML object>"
      ]
     },
     "metadata": {},
     "output_type": "display_data"
    },
    {
     "data": {
      "text/html": [
       "<p><b>result</b> <i>1</i></p>"
      ],
      "text/plain": [
       "<IPython.core.display.HTML object>"
      ]
     },
     "metadata": {},
     "output_type": "display_data"
    },
    {
     "data": {
      "text/html": [
       "<span class=\"section ltr\"><a target=\"_blank\" href=\"https://shebanq.ancient-data.org/hebrew/text?book=Genesis&amp;chapter=1&amp;verse=1&amp;version=2017&amp;mr=m&amp;qw=q&amp;tp=txt_p&amp;tr=hb&amp;wget=v&amp;qget=v&amp;nget=vt\" title=\"Show this on SHEBANQ\" sec=\"Genesis 1:1\">Genesis 1:1</a> </span><div class=\"contnr c3  rtl  \" ><div class=\"lbl c3  \" ><span class=\"nd\">verse</span></div> <div class=\"children row wrap rtl\"><div class=\"contnr c2  rtl  \" ><div class=\"lbl c2  \" ><span class=\"nd\">sentence</span></div> <div class=\"children row wrap rtl\"><div class=\"contnr cnul trm rtl  \" ><div class=\"children row wrap rtl\"><div class=\"contnr c2  rtl  \" ><div class=\"lbl c2  \" ><span class=\"nd\">clause</span></div> <div class=\"children row wrap rtl\"><div class=\"contnr cnul trm rtl  \" ><div class=\"children row wrap rtl\"><div class=\"contnr c1  rtl  \" ><div class=\"lbl c1  \" ><span class=\"nd\">phrase</span></div> <div class=\"children row wrap rtl\"><div class=\"contnr cnul trm rtl  \" ><div class=\"children row wrap rtl\"><div class=\"contnr c0 trm rtl  \" ><div class=\"lbl c0 trm \" ><a class=\" txtu hbo\" target=\"_blank\" href=\"https://shebanq.ancient-data.org/hebrew/word?version=2017&amp;id=1B\" title=\"Show this on SHEBANQ\"><span class=\"txtu hbo\">בְּ</span></a></div> </div><div class=\"contnr c0 trm rtl  \" ><div class=\"lbl c0 trm \" ><a class=\" txtu hbo\" target=\"_blank\" href=\"https://shebanq.ancient-data.org/hebrew/word?version=2017&amp;id=1RACJTn\" title=\"Show this on SHEBANQ\"><span class=\"txtu hbo\">רֵאשִׁ֖ית </span></a></div> </div></div></div></div></div><div class=\"contnr c1  rtl  \" ><div class=\"lbl c1  \" ><span class=\"nd\">phrase</span></div> <div class=\"children row wrap rtl\"><div class=\"contnr cnul trm rtl  \" ><div class=\"children row wrap rtl\"><div class=\"contnr c0 trm rtl  \" ><div class=\"lbl c0 trm \" ><a class=\" txtu hbo\" target=\"_blank\" href=\"https://shebanq.ancient-data.org/hebrew/word?version=2017&amp;id=1BRAv\" title=\"Show this on SHEBANQ\"><span class=\"txtu hbo\">בָּרָ֣א </span></a></div> </div></div></div></div></div><div class=\"contnr c1  rtl  \" ><div class=\"lbl c1  \" ><span class=\"nd\">phrase</span></div> <div class=\"children row wrap rtl\"><div class=\"contnr cnul trm rtl  \" ><div class=\"children row wrap rtl\"><div class=\"contnr c0 trm rtl  \" ><div class=\"lbl c0 trm \" ><a class=\" txtu hbo\" target=\"_blank\" href=\"https://shebanq.ancient-data.org/hebrew/word?version=2017&amp;id=1ALHJMn\" title=\"Show this on SHEBANQ\"><span class=\"txtu hbo\">אֱלֹהִ֑ים </span></a></div> </div></div></div></div></div><div class=\"contnr c1  rtl  hl\" ><div class=\"lbl c1  hl\" ><span class=\"nd\">phrase</span></div> <div class=\"children row wrap rtl\"><div class=\"contnr cnul trm rtl  \" ><div class=\"children row wrap rtl\"><div class=\"contnr c0 trm rtl  \" ><div class=\"lbl c0 trm \" ><a class=\" txtu hbo\" target=\"_blank\" href=\"https://shebanq.ancient-data.org/hebrew/word?version=2017&amp;id=1AT\" title=\"Show this on SHEBANQ\"><span class=\"txtu hbo\">אֵ֥ת </span></a></div> </div><div class=\"contnr c0 trm rtl  \" ><div class=\"lbl c0 trm \" ><a class=\" txtu hbo\" target=\"_blank\" href=\"https://shebanq.ancient-data.org/hebrew/word?version=2017&amp;id=1H\" title=\"Show this on SHEBANQ\"><span class=\"txtu hbo\">הַ</span></a></div> </div><div class=\"contnr c0 trm rtl  \" ><div class=\"lbl c0 trm \" ><a class=\" txtu hbo\" target=\"_blank\" href=\"https://shebanq.ancient-data.org/hebrew/word?version=2017&amp;id=1CMJMn\" title=\"Show this on SHEBANQ\"><span class=\"txtu hbo\">שָּׁמַ֖יִם </span></a></div> </div><div class=\"contnr c0 trm rtl  \" ><div class=\"lbl c0 trm \" ><a class=\" txtu hbo\" target=\"_blank\" href=\"https://shebanq.ancient-data.org/hebrew/word?version=2017&amp;id=1W\" title=\"Show this on SHEBANQ\"><span class=\"txtu hbo\">וְ</span></a></div> </div><div class=\"contnr c0 trm rtl  \" ><div class=\"lbl c0 trm \" ><a class=\" txtu hbo\" target=\"_blank\" href=\"https://shebanq.ancient-data.org/hebrew/word?version=2017&amp;id=1AT\" title=\"Show this on SHEBANQ\"><span class=\"txtu hbo\">אֵ֥ת </span></a></div> </div><div class=\"contnr c0 trm rtl  \" ><div class=\"lbl c0 trm \" ><a class=\" txtu hbo\" target=\"_blank\" href=\"https://shebanq.ancient-data.org/hebrew/word?version=2017&amp;id=1H\" title=\"Show this on SHEBANQ\"><span class=\"txtu hbo\">הָ</span></a></div> </div><div class=\"contnr c0 trm rtl  \" ><div class=\"lbl c0 trm \" ><a class=\" txtu hbo\" target=\"_blank\" href=\"https://shebanq.ancient-data.org/hebrew/word?version=2017&amp;id=1ARYn\" title=\"Show this on SHEBANQ\"><span class=\"txtu hbo\">אָֽרֶץ׃ </span></a></div> </div></div></div></div></div></div></div></div></div></div></div></div></div></div></div>"
      ],
      "text/plain": [
       "<IPython.core.display.HTML object>"
      ]
     },
     "metadata": {},
     "output_type": "display_data"
    }
   ],
   "source": [
    "indent(reset=True)\n",
    "query = '''\n",
    "p:phrase\n",
    "  s1:subphrase\n",
    "  < s2:subphrase\n",
    "s1 || s2\n",
    "'''\n",
    "results = A.search(query)\n",
    "A.table(results, end=7)\n",
    "A.show(results, start=1, end=1)\n",
    "info('Done')"
   ]
  },
  {
   "cell_type": "markdown",
   "metadata": {},
   "source": [
    "Now in the common domain."
   ]
  },
  {
   "cell_type": "code",
   "execution_count": 39,
   "metadata": {
    "ExecuteTime": {
     "end_time": "2018-05-24T09:15:45.123089Z",
     "start_time": "2018-05-24T09:15:19.569287Z"
    }
   },
   "outputs": [
    {
     "name": "stdout",
     "output_type": "stream",
     "text": [
      "  1.15s 10959 results\n"
     ]
    },
    {
     "data": {
      "text/html": [
       "<table><tr class=\"tf\"><th class=\"tf\">n</th><th class=\"tf\">p</th><th class=\"tf\">phrase</th><th class=\"tf\">subphrase</th><th class=\"tf\">subphrase</th></tr>\n",
       "<tr class=\"tf\"><td class=\"tf\">1</td><td class=\"tf\"><span class=\"section ltr\"><a target=\"_blank\" href=\"https://shebanq.ancient-data.org/hebrew/text?book=Genesis&amp;chapter=1&amp;verse=2&amp;version=2017&amp;mr=m&amp;qw=q&amp;tp=txt_p&amp;tr=hb&amp;wget=v&amp;qget=v&amp;nget=vt\" title=\"Show this on SHEBANQ\" sec=\"Genesis 1:2\">Genesis 1:2</a></span></td><td class=\"tf\"><span class=\"plain  hlbx\" ><span class=\"plain  rtl  \" ><span class=\"plain  rtl\"></span><span class=\"plain  rtl  \" ><span class=\"txtu hbo\">עַל־</span></span><span class=\"plain  rtl  \" ><span class=\"txtu hbo\">פְּנֵ֥י </span></span><span class=\"plain  rtl  \" ><span class=\"txtu hbo\">הַ</span></span><span class=\"plain  rtl  \" ><span class=\"txtu hbo\">מָּֽיִם׃ </span></span></span></span></td><td class=\"tf\"><span class=\"plain outer rtl  hlbx\" ><span class=\"plain  rtl\"></span><span class=\"plain  rtl  \" ><span class=\"txtu hbo\">פְּנֵ֥י </span></span></span></td><td class=\"tf\"><span class=\"plain outer rtl  hlbx\" ><span class=\"plain  rtl\"></span><span class=\"plain  rtl  \" ><span class=\"txtu hbo\">הַ</span></span><span class=\"plain  rtl  \" ><span class=\"txtu hbo\">מָּֽיִם׃ </span></span></span></td></tr>\n",
       "<tr class=\"tf\"><td class=\"tf\">2</td><td class=\"tf\"><span class=\"section ltr\"><a target=\"_blank\" href=\"https://shebanq.ancient-data.org/hebrew/text?book=Genesis&amp;chapter=1&amp;verse=5&amp;version=2017&amp;mr=m&amp;qw=q&amp;tp=txt_p&amp;tr=hb&amp;wget=v&amp;qget=v&amp;nget=vt\" title=\"Show this on SHEBANQ\" sec=\"Genesis 1:5\">Genesis 1:5</a></span></td><td class=\"tf\"><span class=\"plain  hlbx\" ><span class=\"plain  rtl  \" ><span class=\"plain  rtl\"></span><span class=\"plain  rtl  \" ><span class=\"txtu hbo\">יֹ֥ום </span></span><span class=\"plain  rtl  \" ><span class=\"txtu hbo\">אֶחָֽד׃ פ </span></span></span></span></td><td class=\"tf\"><span class=\"plain outer rtl  hlbx\" ><span class=\"plain  rtl\"></span><span class=\"plain  rtl  \" ><span class=\"txtu hbo\">יֹ֥ום </span></span></span></td><td class=\"tf\"><span class=\"plain outer rtl  hlbx\" ><span class=\"plain  rtl\"></span><span class=\"plain  rtl  \" ><span class=\"txtu hbo\">אֶחָֽד׃ פ </span></span></span></td></tr>\n",
       "<tr class=\"tf\"><td class=\"tf\">3</td><td class=\"tf\"><span class=\"section ltr\"><a target=\"_blank\" href=\"https://shebanq.ancient-data.org/hebrew/text?book=Genesis&amp;chapter=1&amp;verse=29&amp;version=2017&amp;mr=m&amp;qw=q&amp;tp=txt_p&amp;tr=hb&amp;wget=v&amp;qget=v&amp;nget=vt\" title=\"Show this on SHEBANQ\" sec=\"Genesis 1:29\">Genesis 1:29</a></span></td><td class=\"tf\"><span class=\"plain  hlbx\" ><span class=\"plain  rtl  \" ><span class=\"plain  rtl\"></span><span class=\"plain  rtl  \" ><span class=\"txtu hbo\">עַל־</span></span><span class=\"plain  rtl  \" ><span class=\"txtu hbo\">פְּנֵ֣י </span></span><span class=\"plain  rtl  \" ><span class=\"txtu hbo\">כָל־</span></span><span class=\"plain  rtl  \" ><span class=\"txtu hbo\">הָ</span></span><span class=\"plain  rtl  \" ><span class=\"txtu hbo\">אָ֔רֶץ </span></span></span></span></td><td class=\"tf\"><span class=\"plain outer rtl  hlbx\" ><span class=\"plain  rtl\"></span><span class=\"plain  rtl  \" ><span class=\"txtu hbo\">פְּנֵ֣י </span></span></span></td><td class=\"tf\"><span class=\"plain outer rtl  hlbx\" ><span class=\"plain  rtl\"></span><span class=\"plain  rtl  \" ><span class=\"txtu hbo\">כָל־</span></span><span class=\"plain  rtl  \" ><span class=\"txtu hbo\">הָ</span></span><span class=\"plain  rtl  \" ><span class=\"txtu hbo\">אָ֔רֶץ </span></span></span></td></tr>\n",
       "<tr class=\"tf\"><td class=\"tf\">4</td><td class=\"tf\"><span class=\"section ltr\"><a target=\"_blank\" href=\"https://shebanq.ancient-data.org/hebrew/text?book=Genesis&amp;chapter=1&amp;verse=29&amp;version=2017&amp;mr=m&amp;qw=q&amp;tp=txt_p&amp;tr=hb&amp;wget=v&amp;qget=v&amp;nget=vt\" title=\"Show this on SHEBANQ\" sec=\"Genesis 1:29\">Genesis 1:29</a></span></td><td class=\"tf\"><span class=\"plain  hlbx\" ><span class=\"plain  rtl  \" ><span class=\"plain  rtl\"></span><span class=\"plain  rtl  \" ><span class=\"txtu hbo\">עַל־</span></span><span class=\"plain  rtl  \" ><span class=\"txtu hbo\">פְּנֵ֣י </span></span><span class=\"plain  rtl  \" ><span class=\"txtu hbo\">כָל־</span></span><span class=\"plain  rtl  \" ><span class=\"txtu hbo\">הָ</span></span><span class=\"plain  rtl  \" ><span class=\"txtu hbo\">אָ֔רֶץ </span></span></span></span></td><td class=\"tf\"><span class=\"plain outer rtl  hlbx\" ><span class=\"plain  rtl\"></span><span class=\"plain  rtl  \" ><span class=\"txtu hbo\">פְּנֵ֣י </span></span></span></td><td class=\"tf\"><span class=\"plain outer rtl  hlbx\" ><span class=\"plain  rtl\"></span><span class=\"plain  rtl  \" ><span class=\"txtu hbo\">כָל־</span></span></span></td></tr>\n",
       "<tr class=\"tf\"><td class=\"tf\">5</td><td class=\"tf\"><span class=\"section ltr\"><a target=\"_blank\" href=\"https://shebanq.ancient-data.org/hebrew/text?book=Genesis&amp;chapter=1&amp;verse=29&amp;version=2017&amp;mr=m&amp;qw=q&amp;tp=txt_p&amp;tr=hb&amp;wget=v&amp;qget=v&amp;nget=vt\" title=\"Show this on SHEBANQ\" sec=\"Genesis 1:29\">Genesis 1:29</a></span></td><td class=\"tf\"><span class=\"plain  hlbx\" ><span class=\"plain  rtl  \" ><span class=\"plain  rtl\"></span><span class=\"plain  rtl  \" ><span class=\"txtu hbo\">עַל־</span></span><span class=\"plain  rtl  \" ><span class=\"txtu hbo\">פְּנֵ֣י </span></span><span class=\"plain  rtl  \" ><span class=\"txtu hbo\">כָל־</span></span><span class=\"plain  rtl  \" ><span class=\"txtu hbo\">הָ</span></span><span class=\"plain  rtl  \" ><span class=\"txtu hbo\">אָ֔רֶץ </span></span></span></span></td><td class=\"tf\"><span class=\"plain outer rtl  hlbx\" ><span class=\"plain  rtl\"></span><span class=\"plain  rtl  \" ><span class=\"txtu hbo\">פְּנֵ֣י </span></span></span></td><td class=\"tf\"><span class=\"plain outer rtl  hlbx\" ><span class=\"plain  rtl\"></span><span class=\"plain  rtl  \" ><span class=\"txtu hbo\">הָ</span></span><span class=\"plain  rtl  \" ><span class=\"txtu hbo\">אָ֔רֶץ </span></span></span></td></tr>\n",
       "<tr class=\"tf\"><td class=\"tf\">6</td><td class=\"tf\"><span class=\"section ltr\"><a target=\"_blank\" href=\"https://shebanq.ancient-data.org/hebrew/text?book=Genesis&amp;chapter=1&amp;verse=29&amp;version=2017&amp;mr=m&amp;qw=q&amp;tp=txt_p&amp;tr=hb&amp;wget=v&amp;qget=v&amp;nget=vt\" title=\"Show this on SHEBANQ\" sec=\"Genesis 1:29\">Genesis 1:29</a></span></td><td class=\"tf\"><span class=\"plain  hlbx\" ><span class=\"plain  rtl  \" ><span class=\"plain  rtl\"></span><span class=\"plain  rtl  \" ><span class=\"txtu hbo\">עַל־</span></span><span class=\"plain  rtl  \" ><span class=\"txtu hbo\">פְּנֵ֣י </span></span><span class=\"plain  rtl  \" ><span class=\"txtu hbo\">כָל־</span></span><span class=\"plain  rtl  \" ><span class=\"txtu hbo\">הָ</span></span><span class=\"plain  rtl  \" ><span class=\"txtu hbo\">אָ֔רֶץ </span></span></span></span></td><td class=\"tf\"><span class=\"plain outer rtl  hlbx\" ><span class=\"plain  rtl\"></span><span class=\"plain  rtl  \" ><span class=\"txtu hbo\">כָל־</span></span></span></td><td class=\"tf\"><span class=\"plain outer rtl  hlbx\" ><span class=\"plain  rtl\"></span><span class=\"plain  rtl  \" ><span class=\"txtu hbo\">הָ</span></span><span class=\"plain  rtl  \" ><span class=\"txtu hbo\">אָ֔רֶץ </span></span></span></td></tr>\n",
       "<tr class=\"tf\"><td class=\"tf\">7</td><td class=\"tf\"><span class=\"section ltr\"><a target=\"_blank\" href=\"https://shebanq.ancient-data.org/hebrew/text?book=Genesis&amp;chapter=2&amp;verse=4&amp;version=2017&amp;mr=m&amp;qw=q&amp;tp=txt_p&amp;tr=hb&amp;wget=v&amp;qget=v&amp;nget=vt\" title=\"Show this on SHEBANQ\" sec=\"Genesis 2:4\">Genesis 2:4</a></span></td><td class=\"tf\"><span class=\"plain  hlbx\" ><span class=\"plain  rtl  \" ><span class=\"plain  rtl\"></span><span class=\"plain  rtl  \" ><span class=\"txtu hbo\">יְהוָ֥ה </span></span><span class=\"plain  rtl  \" ><span class=\"txtu hbo\">אֱלֹהִ֖ים </span></span></span></span></td><td class=\"tf\"><span class=\"plain outer rtl  hlbx\" ><span class=\"plain  rtl\"></span><span class=\"plain  rtl  \" ><span class=\"txtu hbo\">יְהוָ֥ה </span></span></span></td><td class=\"tf\"><span class=\"plain outer rtl  hlbx\" ><span class=\"plain  rtl\"></span><span class=\"plain  rtl  \" ><span class=\"txtu hbo\">אֱלֹהִ֖ים </span></span></span></td></tr></table>"
      ],
      "text/plain": [
       "<IPython.core.display.HTML object>"
      ]
     },
     "metadata": {},
     "output_type": "display_data"
    },
    {
     "data": {
      "text/html": [
       "<p><b>result</b> <i>1</i></p>"
      ],
      "text/plain": [
       "<IPython.core.display.HTML object>"
      ]
     },
     "metadata": {},
     "output_type": "display_data"
    },
    {
     "data": {
      "text/html": [
       "<span class=\"section ltr\"><a target=\"_blank\" href=\"https://shebanq.ancient-data.org/hebrew/text?book=Genesis&amp;chapter=1&amp;verse=2&amp;version=2017&amp;mr=m&amp;qw=q&amp;tp=txt_p&amp;tr=hb&amp;wget=v&amp;qget=v&amp;nget=vt\" title=\"Show this on SHEBANQ\" sec=\"Genesis 1:2\">Genesis 1:2</a> </span><div class=\"contnr c3  rtl  \" ><div class=\"lbl c3  \" ><span class=\"nd\">verse</span></div> <div class='features'><span class=\"otype xft\" ><span class=\"f\">otype=</span>verse</span></div><div class=\"children row wrap rtl\"><div class=\"contnr c2  rtl  \" ><div class=\"lbl c2  \" ><span class=\"nd\">sentence</span></div> <div class='features'><span class=\"otype xft\" ><span class=\"f\">otype=</span>sentence</span></div><div class=\"children row wrap rtl\"><div class=\"contnr cnul trm rtl  \" ><div class=\"children row wrap rtl\"><div class=\"contnr c2  rtl  \" ><div class=\"lbl c2  \" ><span class=\"nd\">clause</span></div> <div class='features'><span class=\"otype xft\" ><span class=\"f\">otype=</span>clause</span></div><div class=\"children row wrap rtl\"><div class=\"contnr cnul trm rtl  \" ><div class=\"children row wrap rtl\"><div class=\"contnr c1  rtl  \" ><div class=\"lbl c1  \" ><span class=\"nd\">phrase</span></div> <div class='features'><span class=\"otype xft\" ><span class=\"f\">otype=</span>phrase</span></div><div class=\"children row wrap rtl\"><div class=\"contnr cnul trm rtl  \" ><div class=\"children row wrap rtl\"><div class=\"contnr c0 trm rtl  \" ><div class=\"lbl c0 trm \" ><a class=\" txtu hbo\" target=\"_blank\" href=\"https://shebanq.ancient-data.org/hebrew/word?version=2017&amp;id=1W\" title=\"Show this on SHEBANQ\"><span class=\"txtu hbo\">וְ</span></a></div> <div class='features'><span class=\"otype xft\" ><span class=\"f\">otype=</span>word</span></div></div></div></div></div></div><div class=\"contnr c1  rtl  \" ><div class=\"lbl c1  \" ><span class=\"nd\">phrase</span></div> <div class='features'><span class=\"otype xft\" ><span class=\"f\">otype=</span>phrase</span></div><div class=\"children row wrap rtl\"><div class=\"contnr cnul trm rtl  \" ><div class=\"children row wrap rtl\"><div class=\"contnr c0 trm rtl  \" ><div class=\"lbl c0 trm \" ><a class=\" txtu hbo\" target=\"_blank\" href=\"https://shebanq.ancient-data.org/hebrew/word?version=2017&amp;id=1H\" title=\"Show this on SHEBANQ\"><span class=\"txtu hbo\">הָ</span></a></div> <div class='features'><span class=\"otype xft\" ><span class=\"f\">otype=</span>word</span></div></div><div class=\"contnr c0 trm rtl  \" ><div class=\"lbl c0 trm \" ><a class=\" txtu hbo\" target=\"_blank\" href=\"https://shebanq.ancient-data.org/hebrew/word?version=2017&amp;id=1ARYn\" title=\"Show this on SHEBANQ\"><span class=\"txtu hbo\">אָ֗רֶץ </span></a></div> <div class='features'><span class=\"otype xft\" ><span class=\"f\">otype=</span>word</span></div></div></div></div></div></div><div class=\"contnr c1  rtl  \" ><div class=\"lbl c1  \" ><span class=\"nd\">phrase</span></div> <div class='features'><span class=\"otype xft\" ><span class=\"f\">otype=</span>phrase</span></div><div class=\"children row wrap rtl\"><div class=\"contnr cnul trm rtl  \" ><div class=\"children row wrap rtl\"><div class=\"contnr c0 trm rtl  \" ><div class=\"lbl c0 trm \" ><a class=\" txtu hbo\" target=\"_blank\" href=\"https://shebanq.ancient-data.org/hebrew/word?version=2017&amp;id=1HJHv\" title=\"Show this on SHEBANQ\"><span class=\"txtu hbo\">הָיְתָ֥ה </span></a></div> <div class='features'><span class=\"otype xft\" ><span class=\"f\">otype=</span>word</span></div></div></div></div></div></div><div class=\"contnr c1  rtl  \" ><div class=\"lbl c1  \" ><span class=\"nd\">phrase</span></div> <div class='features'><span class=\"otype xft\" ><span class=\"f\">otype=</span>phrase</span></div><div class=\"children row wrap rtl\"><div class=\"contnr cnul trm rtl  \" ><div class=\"children row wrap rtl\"><div class=\"contnr c0 trm rtl  \" ><div class=\"lbl c0 trm \" ><a class=\" txtu hbo\" target=\"_blank\" href=\"https://shebanq.ancient-data.org/hebrew/word?version=2017&amp;id=1THWn\" title=\"Show this on SHEBANQ\"><span class=\"txtu hbo\">תֹ֨הוּ֙ </span></a></div> <div class='features'><span class=\"otype xft\" ><span class=\"f\">otype=</span>word</span></div></div><div class=\"contnr c0 trm rtl  \" ><div class=\"lbl c0 trm \" ><a class=\" txtu hbo\" target=\"_blank\" href=\"https://shebanq.ancient-data.org/hebrew/word?version=2017&amp;id=1W\" title=\"Show this on SHEBANQ\"><span class=\"txtu hbo\">וָ</span></a></div> <div class='features'><span class=\"otype xft\" ><span class=\"f\">otype=</span>word</span></div></div><div class=\"contnr c0 trm rtl  \" ><div class=\"lbl c0 trm \" ><a class=\" txtu hbo\" target=\"_blank\" href=\"https://shebanq.ancient-data.org/hebrew/word?version=2017&amp;id=1BHWn\" title=\"Show this on SHEBANQ\"><span class=\"txtu hbo\">בֹ֔הוּ </span></a></div> <div class='features'><span class=\"otype xft\" ><span class=\"f\">otype=</span>word</span></div></div></div></div></div></div></div></div></div></div></div></div></div></div><div class=\"contnr c2  rtl  \" ><div class=\"lbl c2  \" ><span class=\"nd\">sentence</span></div> <div class='features'><span class=\"otype xft\" ><span class=\"f\">otype=</span>sentence</span></div><div class=\"children row wrap rtl\"><div class=\"contnr cnul trm rtl  \" ><div class=\"children row wrap rtl\"><div class=\"contnr c2  rtl  \" ><div class=\"lbl c2  \" ><span class=\"nd\">clause</span></div> <div class='features'><span class=\"otype xft\" ><span class=\"f\">otype=</span>clause</span></div><div class=\"children row wrap rtl\"><div class=\"contnr cnul trm rtl  \" ><div class=\"children row wrap rtl\"><div class=\"contnr c1  rtl  \" ><div class=\"lbl c1  \" ><span class=\"nd\">phrase</span></div> <div class='features'><span class=\"otype xft\" ><span class=\"f\">otype=</span>phrase</span></div><div class=\"children row wrap rtl\"><div class=\"contnr cnul trm rtl  \" ><div class=\"children row wrap rtl\"><div class=\"contnr c0 trm rtl  \" ><div class=\"lbl c0 trm \" ><a class=\" txtu hbo\" target=\"_blank\" href=\"https://shebanq.ancient-data.org/hebrew/word?version=2017&amp;id=1W\" title=\"Show this on SHEBANQ\"><span class=\"txtu hbo\">וְ</span></a></div> <div class='features'><span class=\"otype xft\" ><span class=\"f\">otype=</span>word</span></div></div></div></div></div></div><div class=\"contnr c1  rtl  \" ><div class=\"lbl c1  \" ><span class=\"nd\">phrase</span></div> <div class='features'><span class=\"otype xft\" ><span class=\"f\">otype=</span>phrase</span></div><div class=\"children row wrap rtl\"><div class=\"contnr cnul trm rtl  \" ><div class=\"children row wrap rtl\"><div class=\"contnr c0 trm rtl  \" ><div class=\"lbl c0 trm \" ><a class=\" txtu hbo\" target=\"_blank\" href=\"https://shebanq.ancient-data.org/hebrew/word?version=2017&amp;id=1XCKn\" title=\"Show this on SHEBANQ\"><span class=\"txtu hbo\">חֹ֖שֶׁךְ </span></a></div> <div class='features'><span class=\"otype xft\" ><span class=\"f\">otype=</span>word</span></div></div></div></div></div></div><div class=\"contnr c1  rtl  \" ><div class=\"lbl c1  \" ><span class=\"nd\">phrase</span></div> <div class='features'><span class=\"otype xft\" ><span class=\"f\">otype=</span>phrase</span></div><div class=\"children row wrap rtl\"><div class=\"contnr cnul trm rtl  \" ><div class=\"children row wrap rtl\"><div class=\"contnr c0 trm rtl  \" ><div class=\"lbl c0 trm \" ><a class=\" txtu hbo\" target=\"_blank\" href=\"https://shebanq.ancient-data.org/hebrew/word?version=2017&amp;id=1OL\" title=\"Show this on SHEBANQ\"><span class=\"txtu hbo\">עַל־</span></a></div> <div class='features'><span class=\"otype xft\" ><span class=\"f\">otype=</span>word</span></div></div><div class=\"contnr c0 trm rtl  \" ><div class=\"lbl c0 trm \" ><a class=\" txtu hbo\" target=\"_blank\" href=\"https://shebanq.ancient-data.org/hebrew/word?version=2017&amp;id=1PNHn\" title=\"Show this on SHEBANQ\"><span class=\"txtu hbo\">פְּנֵ֣י </span></a></div> <div class='features'><span class=\"otype xft\" ><span class=\"f\">otype=</span>word</span></div></div><div class=\"contnr c0 trm rtl  \" ><div class=\"lbl c0 trm \" ><a class=\" txtu hbo\" target=\"_blank\" href=\"https://shebanq.ancient-data.org/hebrew/word?version=2017&amp;id=1THWMn\" title=\"Show this on SHEBANQ\"><span class=\"txtu hbo\">תְהֹ֑ום </span></a></div> <div class='features'><span class=\"otype xft\" ><span class=\"f\">otype=</span>word</span></div></div></div></div></div></div></div></div></div></div></div></div></div></div><div class=\"contnr c2  rtl  \" ><div class=\"lbl c2  \" ><span class=\"nd\">sentence</span></div> <div class='features'><span class=\"otype xft\" ><span class=\"f\">otype=</span>sentence</span></div><div class=\"children row wrap rtl\"><div class=\"contnr cnul trm rtl  \" ><div class=\"children row wrap rtl\"><div class=\"contnr c2  rtl  \" ><div class=\"lbl c2  \" ><span class=\"nd\">clause</span></div> <div class='features'><span class=\"otype xft\" ><span class=\"f\">otype=</span>clause</span></div><div class=\"children row wrap rtl\"><div class=\"contnr cnul trm rtl  \" ><div class=\"children row wrap rtl\"><div class=\"contnr c1  rtl  \" ><div class=\"lbl c1  \" ><span class=\"nd\">phrase</span></div> <div class='features'><span class=\"otype xft\" ><span class=\"f\">otype=</span>phrase</span></div><div class=\"children row wrap rtl\"><div class=\"contnr cnul trm rtl  \" ><div class=\"children row wrap rtl\"><div class=\"contnr c0 trm rtl  \" ><div class=\"lbl c0 trm \" ><a class=\" txtu hbo\" target=\"_blank\" href=\"https://shebanq.ancient-data.org/hebrew/word?version=2017&amp;id=1W\" title=\"Show this on SHEBANQ\"><span class=\"txtu hbo\">וְ</span></a></div> <div class='features'><span class=\"otype xft\" ><span class=\"f\">otype=</span>word</span></div></div></div></div></div></div><div class=\"contnr c1  rtl  \" ><div class=\"lbl c1  \" ><span class=\"nd\">phrase</span></div> <div class='features'><span class=\"otype xft\" ><span class=\"f\">otype=</span>phrase</span></div><div class=\"children row wrap rtl\"><div class=\"contnr cnul trm rtl  \" ><div class=\"children row wrap rtl\"><div class=\"contnr c0 trm rtl  \" ><div class=\"lbl c0 trm \" ><a class=\" txtu hbo\" target=\"_blank\" href=\"https://shebanq.ancient-data.org/hebrew/word?version=2017&amp;id=1RWXn\" title=\"Show this on SHEBANQ\"><span class=\"txtu hbo\">ר֣וּחַ </span></a></div> <div class='features'><span class=\"otype xft\" ><span class=\"f\">otype=</span>word</span></div></div><div class=\"contnr c0 trm rtl  \" ><div class=\"lbl c0 trm \" ><a class=\" txtu hbo\" target=\"_blank\" href=\"https://shebanq.ancient-data.org/hebrew/word?version=2017&amp;id=1ALHJMn\" title=\"Show this on SHEBANQ\"><span class=\"txtu hbo\">אֱלֹהִ֔ים </span></a></div> <div class='features'><span class=\"otype xft\" ><span class=\"f\">otype=</span>word</span></div></div></div></div></div></div><div class=\"contnr c1  rtl  \" ><div class=\"lbl c1  \" ><span class=\"nd\">phrase</span></div> <div class='features'><span class=\"otype xft\" ><span class=\"f\">otype=</span>phrase</span></div><div class=\"children row wrap rtl\"><div class=\"contnr cnul trm rtl  \" ><div class=\"children row wrap rtl\"><div class=\"contnr c0 trm rtl  \" ><div class=\"lbl c0 trm \" ><a class=\" txtu hbo\" target=\"_blank\" href=\"https://shebanq.ancient-data.org/hebrew/word?version=2017&amp;id=1RXPv\" title=\"Show this on SHEBANQ\"><span class=\"txtu hbo\">מְרַחֶ֖פֶת </span></a></div> <div class='features'><span class=\"otype xft\" ><span class=\"f\">otype=</span>word</span></div></div></div></div></div></div><div class=\"contnr c1  rtl  hl\" ><div class=\"lbl c1  hl\" ><span class=\"nd\">phrase</span></div> <div class='features'><span class=\"otype xft\" ><span class=\"f\">otype=</span>phrase</span></div><div class=\"children row wrap rtl\"><div class=\"contnr cnul trm rtl  \" ><div class=\"children row wrap rtl\"><div class=\"contnr c0 trm rtl  \" ><div class=\"lbl c0 trm \" ><a class=\" txtu hbo\" target=\"_blank\" href=\"https://shebanq.ancient-data.org/hebrew/word?version=2017&amp;id=1OL\" title=\"Show this on SHEBANQ\"><span class=\"txtu hbo\">עַל־</span></a></div> <div class='features'><span class=\"otype xft\" ><span class=\"f\">otype=</span>word</span></div></div><div class=\"contnr c0 trm rtl  \" ><div class=\"lbl c0 trm \" ><a class=\" txtu hbo\" target=\"_blank\" href=\"https://shebanq.ancient-data.org/hebrew/word?version=2017&amp;id=1PNHn\" title=\"Show this on SHEBANQ\"><span class=\"txtu hbo\">פְּנֵ֥י </span></a></div> <div class='features'><span class=\"otype xft\" ><span class=\"f\">otype=</span>word</span></div></div><div class=\"contnr c0 trm rtl  \" ><div class=\"lbl c0 trm \" ><a class=\" txtu hbo\" target=\"_blank\" href=\"https://shebanq.ancient-data.org/hebrew/word?version=2017&amp;id=1H\" title=\"Show this on SHEBANQ\"><span class=\"txtu hbo\">הַ</span></a></div> <div class='features'><span class=\"otype xft\" ><span class=\"f\">otype=</span>word</span></div></div><div class=\"contnr c0 trm rtl  \" ><div class=\"lbl c0 trm \" ><a class=\" txtu hbo\" target=\"_blank\" href=\"https://shebanq.ancient-data.org/hebrew/word?version=2017&amp;id=1MJMn\" title=\"Show this on SHEBANQ\"><span class=\"txtu hbo\">מָּֽיִם׃ </span></a></div> <div class='features'><span class=\"otype xft\" ><span class=\"f\">otype=</span>word</span></div></div></div></div></div></div></div></div></div></div></div></div></div></div></div></div>"
      ],
      "text/plain": [
       "<IPython.core.display.HTML object>"
      ]
     },
     "metadata": {},
     "output_type": "display_data"
    }
   ],
   "source": [
    "indent(reset=True)\n",
    "query = '''\n",
    "p:common otype=phrase\n",
    "  s1:subphrase\n",
    "  < s2:subphrase\n",
    "s1 || s2\n",
    "'''\n",
    "resultsCustom = A.search(query, sets=customSets)\n",
    "A.table(resultsCustom, end=7)\n",
    "A.show(resultsCustom, start=1, end=1)\n",
    "info('Done')"
   ]
  },
  {
   "cell_type": "markdown",
   "metadata": {},
   "source": [
    "We see that Genesis 1:1 has fallen out. Let's check the ranks of the lexemes of its last phrase:"
   ]
  },
  {
   "cell_type": "code",
   "execution_count": 40,
   "metadata": {},
   "outputs": [
    {
     "data": {
      "text/plain": [
       "[('אֵ֥ת', 4),\n",
       " ('הַ', 1),\n",
       " ('שָּׁמַ֖יִם', 122),\n",
       " ('וְ', 0),\n",
       " ('אֵ֥ת', 4),\n",
       " ('הָ', 1),\n",
       " ('אָֽרֶץ', 22)]"
      ]
     },
     "execution_count": 40,
     "metadata": {},
     "output_type": "execute_result"
    }
   ],
   "source": [
    "firstSentence = F.otype.s('sentence')[0]\n",
    "lastPhrase = L.d(firstSentence, otype='phrase')[-1]\n",
    "[(F.g_word_utf8.v(w), F.rank_lex.v(w)) for w in L.d(lastPhrase, otype='word')]"
   ]
  },
  {
   "cell_type": "markdown",
   "metadata": {},
   "source": [
    "There you have it: the heavens are rare!"
   ]
  },
  {
   "cell_type": "markdown",
   "metadata": {},
   "source": [
    "## [[ and ]] embedding\n",
    "\n",
    "`n [[ m` if object `n` embeds `m`.\n",
    "\n",
    "`n ]] m` if object `n` lies embedded in `m`.\n",
    "\n",
    "These relations are used implicitly in templates when there is indentation:\n",
    "\n",
    "```\n",
    "s:sentence\n",
    "  p:phrase\n",
    "    w1:word gn=f\n",
    "    w2:word gn=m\n",
    "```\n",
    "\n",
    "The template above implicitly states the following embeddings:\n",
    "\n",
    "* `s ]] p`\n",
    "* `p ]] w1`\n",
    "* `p ]] w2`\n",
    "\n",
    "We have seen these relations in action."
   ]
  },
  {
   "cell_type": "markdown",
   "metadata": {},
   "source": [
    "# Positioning\n",
    "\n",
    "## << and >> before and after (slot-wise)\n",
    "\n",
    "These relations test whether one object comes before or after an other,\n",
    "in the sense that the slots\n",
    "occupied by the one object lie completely \n",
    "before or after the slots occupied by the other object."
   ]
  },
  {
   "cell_type": "code",
   "execution_count": 43,
   "metadata": {
    "ExecuteTime": {
     "end_time": "2018-05-24T09:23:27.279338Z",
     "start_time": "2018-05-24T09:23:27.084721Z"
    }
   },
   "outputs": [
    {
     "name": "stdout",
     "output_type": "stream",
     "text": [
      "  3.99s 129469 results\n"
     ]
    },
    {
     "data": {
      "text/html": [
       "<table><tr class=\"tf\"><th class=\"tf\">n</th><th class=\"tf\">p</th><th class=\"tf\">sentence</th><th class=\"tf\">clause</th><th class=\"tf\">phrase</th><th class=\"tf\">clause</th></tr>\n",
       "<tr class=\"tf\"><td class=\"tf\">1</td><td class=\"tf\"><span class=\"section ltr\"><a target=\"_blank\" href=\"https://shebanq.ancient-data.org/hebrew/text?book=Genesis&amp;chapter=1&amp;verse=11&amp;version=2017&amp;mr=m&amp;qw=q&amp;tp=txt_p&amp;tr=hb&amp;wget=v&amp;qget=v&amp;nget=vt\" title=\"Show this on SHEBANQ\" sec=\"Genesis 1:11\">Genesis 1:11</a></span></td><td class=\"tf\"><span class=\"plain  hlbx\" ><span class=\"plain  rtl  \" ><span class=\"plain  rtl\"></span><span class=\"plain  l hlbx\"  style=\"border-color: lightyellow;\" ><span class=\"plain  rtl  \" ><span class=\"plain  rtl\"></span><span class=\"plain  rtl  \" ><span class=\"plain  rtl\"></span><span class=\"plain  rtl  \" ><span class=\"txtu hbo\">תַּֽדְשֵׁ֤א </span></span></span><span class=\"plain  rtl  \" ><span class=\"plain  rtl\"></span><span class=\"plain  rtl  \" ><span class=\"txtu hbo\">הָ</span></span><span class=\"plain  rtl  \" ><span class=\"txtu hbo\">אָ֨רֶץ֙ </span></span></span><span class=\"plain  rtl  \" ><span class=\"plain  rtl\"></span><span class=\"plain  rtl  \" ><span class=\"txtu hbo\">דֶּ֔שֶׁא </span></span></span><span class=\"plain  rtl  \" ><span class=\"plain  rtl\"></span><span class=\"plain  rtl  \" ><span class=\"txtu hbo\">עֵ֚שֶׂב </span></span></span></span></span><span class=\"plain  rtl  \" ><span class=\"plain  rtl\"></span><span class=\"plain  rtl  \" ><span class=\"plain  rtl\"></span><span class=\"plain  rtl  \" ><span class=\"txtu hbo\">מַזְרִ֣יעַ </span></span></span><span class=\"plain  rtl  \" ><span class=\"plain  rtl\"></span><span class=\"plain  rtl  \" ><span class=\"txtu hbo\">זֶ֔רַע </span></span></span></span><span class=\"plain  r hlbx\"  style=\"border-color: lightyellow;\" ><span class=\"plain  rtl  \" ><span class=\"plain  rtl\"></span><span class=\"plain  rtl  \" ><span class=\"plain  rtl\"></span><span class=\"plain  rtl  \" ><span class=\"txtu hbo\">עֵ֣ץ </span></span><span class=\"plain  rtl  \" ><span class=\"txtu hbo\">פְּרִ֞י </span></span></span></span></span><span class=\"plain  rtl  \" ><span class=\"plain  rtl\"></span><span class=\"plain  hl\"  style=\"background-color: cyan;\" ><span class=\"plain  rtl  \" ><span class=\"plain  rtl\"></span><span class=\"plain  rtl  \" ><span class=\"txtu hbo\">עֹ֤שֶׂה </span></span></span></span><span class=\"plain  rtl  \" ><span class=\"plain  rtl\"></span><span class=\"plain  rtl  \" ><span class=\"txtu hbo\">פְּרִי֙ </span></span></span><span class=\"plain  rtl  \" ><span class=\"plain  rtl\"></span><span class=\"plain  rtl  \" ><span class=\"txtu hbo\">לְ</span></span><span class=\"plain  rtl  \" ><span class=\"txtu hbo\">מִינֹ֔ו </span></span></span></span><span class=\"plain  hlbx\"  style=\"border-color: magenta;\" ><span class=\"plain  rtl  \" ><span class=\"plain  rtl\"></span><span class=\"plain  rtl  \" ><span class=\"plain  rtl\"></span><span class=\"plain  rtl  \" ><span class=\"txtu hbo\">אֲשֶׁ֥ר </span></span></span><span class=\"plain  rtl  \" ><span class=\"plain  rtl\"></span><span class=\"plain  rtl  \" ><span class=\"txtu hbo\">זַרְעֹו־</span></span></span><span class=\"plain  rtl  \" ><span class=\"plain  rtl\"></span><span class=\"plain  rtl  \" ><span class=\"txtu hbo\">בֹ֖ו </span></span></span></span></span><span class=\"plain  rtl  \" ><span class=\"plain  rtl\"></span><span class=\"plain  rtl  \" ><span class=\"plain  rtl\"></span><span class=\"plain  rtl  \" ><span class=\"txtu hbo\">עַל־</span></span><span class=\"plain  rtl  \" ><span class=\"txtu hbo\">הָ</span></span><span class=\"plain  rtl  \" ><span class=\"txtu hbo\">אָ֑רֶץ </span></span></span></span></span></span></td><td class=\"tf\"><span class=\"plain  l hlbx\"  style=\"border-color: lightyellow;\" ><span class=\"plain  rtl  \" ><span class=\"plain  rtl\"></span><span class=\"plain  rtl  \" ><span class=\"plain  rtl\"></span><span class=\"plain  rtl  \" ><span class=\"txtu hbo\">תַּֽדְשֵׁ֤א </span></span></span><span class=\"plain  rtl  \" ><span class=\"plain  rtl\"></span><span class=\"plain  rtl  \" ><span class=\"txtu hbo\">הָ</span></span><span class=\"plain  rtl  \" ><span class=\"txtu hbo\">אָ֨רֶץ֙ </span></span></span><span class=\"plain  rtl  \" ><span class=\"plain  rtl\"></span><span class=\"plain  rtl  \" ><span class=\"txtu hbo\">דֶּ֔שֶׁא </span></span></span><span class=\"plain  rtl  \" ><span class=\"plain  rtl\"></span><span class=\"plain  rtl  \" ><span class=\"txtu hbo\">עֵ֚שֶׂב </span></span></span></span></span><span class=\"plain  r hlbx\"  style=\"border-color: lightyellow;\" ><span class=\"plain  rtl  \" ><span class=\"plain  rtl\"></span><span class=\"plain  rtl  \" ><span class=\"plain  rtl\"></span><span class=\"plain  rtl  \" ><span class=\"txtu hbo\">עֵ֣ץ </span></span><span class=\"plain  rtl  \" ><span class=\"txtu hbo\">פְּרִ֞י </span></span></span></span></span></td><td class=\"tf\"><span class=\"plain  hl\"  style=\"background-color: cyan;\" ><span class=\"plain  rtl  \" ><span class=\"plain  rtl\"></span><span class=\"plain  rtl  \" ><span class=\"txtu hbo\">עֹ֤שֶׂה </span></span></span></span></td><td class=\"tf\"><span class=\"plain  hlbx\"  style=\"border-color: magenta;\" ><span class=\"plain  rtl  \" ><span class=\"plain  rtl\"></span><span class=\"plain  rtl  \" ><span class=\"plain  rtl\"></span><span class=\"plain  rtl  \" ><span class=\"txtu hbo\">אֲשֶׁ֥ר </span></span></span><span class=\"plain  rtl  \" ><span class=\"plain  rtl\"></span><span class=\"plain  rtl  \" ><span class=\"txtu hbo\">זַרְעֹו־</span></span></span><span class=\"plain  rtl  \" ><span class=\"plain  rtl\"></span><span class=\"plain  rtl  \" ><span class=\"txtu hbo\">בֹ֖ו </span></span></span></span></span></td></tr>\n",
       "<tr class=\"tf\"><td class=\"tf\">2</td><td class=\"tf\"><span class=\"section ltr\"><a target=\"_blank\" href=\"https://shebanq.ancient-data.org/hebrew/text?book=Genesis&amp;chapter=1&amp;verse=11&amp;version=2017&amp;mr=m&amp;qw=q&amp;tp=txt_p&amp;tr=hb&amp;wget=v&amp;qget=v&amp;nget=vt\" title=\"Show this on SHEBANQ\" sec=\"Genesis 1:11\">Genesis 1:11</a></span></td><td class=\"tf\"><span class=\"plain  hlbx\" ><span class=\"plain  rtl  \" ><span class=\"plain  rtl\"></span><span class=\"plain  l hlbx\"  style=\"border-color: lightyellow;\" ><span class=\"plain  rtl  \" ><span class=\"plain  rtl\"></span><span class=\"plain  rtl  \" ><span class=\"plain  rtl\"></span><span class=\"plain  rtl  \" ><span class=\"txtu hbo\">תַּֽדְשֵׁ֤א </span></span></span><span class=\"plain  rtl  \" ><span class=\"plain  rtl\"></span><span class=\"plain  rtl  \" ><span class=\"txtu hbo\">הָ</span></span><span class=\"plain  rtl  \" ><span class=\"txtu hbo\">אָ֨רֶץ֙ </span></span></span><span class=\"plain  rtl  \" ><span class=\"plain  rtl\"></span><span class=\"plain  rtl  \" ><span class=\"txtu hbo\">דֶּ֔שֶׁא </span></span></span><span class=\"plain  rtl  \" ><span class=\"plain  rtl\"></span><span class=\"plain  rtl  \" ><span class=\"txtu hbo\">עֵ֚שֶׂב </span></span></span></span></span><span class=\"plain  rtl  \" ><span class=\"plain  rtl\"></span><span class=\"plain  rtl  \" ><span class=\"plain  rtl\"></span><span class=\"plain  rtl  \" ><span class=\"txtu hbo\">מַזְרִ֣יעַ </span></span></span><span class=\"plain  rtl  \" ><span class=\"plain  rtl\"></span><span class=\"plain  rtl  \" ><span class=\"txtu hbo\">זֶ֔רַע </span></span></span></span><span class=\"plain  r hlbx\"  style=\"border-color: lightyellow;\" ><span class=\"plain  rtl  \" ><span class=\"plain  rtl\"></span><span class=\"plain  rtl  \" ><span class=\"plain  rtl\"></span><span class=\"plain  rtl  \" ><span class=\"txtu hbo\">עֵ֣ץ </span></span><span class=\"plain  rtl  \" ><span class=\"txtu hbo\">פְּרִ֞י </span></span></span></span></span><span class=\"plain  rtl  \" ><span class=\"plain  rtl\"></span><span class=\"plain  rtl  \" ><span class=\"plain  rtl\"></span><span class=\"plain  rtl  \" ><span class=\"txtu hbo\">עֹ֤שֶׂה </span></span></span><span class=\"plain  hl\"  style=\"background-color: cyan;\" ><span class=\"plain  rtl  \" ><span class=\"plain  rtl\"></span><span class=\"plain  rtl  \" ><span class=\"txtu hbo\">פְּרִי֙ </span></span></span></span><span class=\"plain  rtl  \" ><span class=\"plain  rtl\"></span><span class=\"plain  rtl  \" ><span class=\"txtu hbo\">לְ</span></span><span class=\"plain  rtl  \" ><span class=\"txtu hbo\">מִינֹ֔ו </span></span></span></span><span class=\"plain  hlbx\"  style=\"border-color: magenta;\" ><span class=\"plain  rtl  \" ><span class=\"plain  rtl\"></span><span class=\"plain  rtl  \" ><span class=\"plain  rtl\"></span><span class=\"plain  rtl  \" ><span class=\"txtu hbo\">אֲשֶׁ֥ר </span></span></span><span class=\"plain  rtl  \" ><span class=\"plain  rtl\"></span><span class=\"plain  rtl  \" ><span class=\"txtu hbo\">זַרְעֹו־</span></span></span><span class=\"plain  rtl  \" ><span class=\"plain  rtl\"></span><span class=\"plain  rtl  \" ><span class=\"txtu hbo\">בֹ֖ו </span></span></span></span></span><span class=\"plain  rtl  \" ><span class=\"plain  rtl\"></span><span class=\"plain  rtl  \" ><span class=\"plain  rtl\"></span><span class=\"plain  rtl  \" ><span class=\"txtu hbo\">עַל־</span></span><span class=\"plain  rtl  \" ><span class=\"txtu hbo\">הָ</span></span><span class=\"plain  rtl  \" ><span class=\"txtu hbo\">אָ֑רֶץ </span></span></span></span></span></span></td><td class=\"tf\"><span class=\"plain  l hlbx\"  style=\"border-color: lightyellow;\" ><span class=\"plain  rtl  \" ><span class=\"plain  rtl\"></span><span class=\"plain  rtl  \" ><span class=\"plain  rtl\"></span><span class=\"plain  rtl  \" ><span class=\"txtu hbo\">תַּֽדְשֵׁ֤א </span></span></span><span class=\"plain  rtl  \" ><span class=\"plain  rtl\"></span><span class=\"plain  rtl  \" ><span class=\"txtu hbo\">הָ</span></span><span class=\"plain  rtl  \" ><span class=\"txtu hbo\">אָ֨רֶץ֙ </span></span></span><span class=\"plain  rtl  \" ><span class=\"plain  rtl\"></span><span class=\"plain  rtl  \" ><span class=\"txtu hbo\">דֶּ֔שֶׁא </span></span></span><span class=\"plain  rtl  \" ><span class=\"plain  rtl\"></span><span class=\"plain  rtl  \" ><span class=\"txtu hbo\">עֵ֚שֶׂב </span></span></span></span></span><span class=\"plain  r hlbx\"  style=\"border-color: lightyellow;\" ><span class=\"plain  rtl  \" ><span class=\"plain  rtl\"></span><span class=\"plain  rtl  \" ><span class=\"plain  rtl\"></span><span class=\"plain  rtl  \" ><span class=\"txtu hbo\">עֵ֣ץ </span></span><span class=\"plain  rtl  \" ><span class=\"txtu hbo\">פְּרִ֞י </span></span></span></span></span></td><td class=\"tf\"><span class=\"plain  hl\"  style=\"background-color: cyan;\" ><span class=\"plain  rtl  \" ><span class=\"plain  rtl\"></span><span class=\"plain  rtl  \" ><span class=\"txtu hbo\">פְּרִי֙ </span></span></span></span></td><td class=\"tf\"><span class=\"plain  hlbx\"  style=\"border-color: magenta;\" ><span class=\"plain  rtl  \" ><span class=\"plain  rtl\"></span><span class=\"plain  rtl  \" ><span class=\"plain  rtl\"></span><span class=\"plain  rtl  \" ><span class=\"txtu hbo\">אֲשֶׁ֥ר </span></span></span><span class=\"plain  rtl  \" ><span class=\"plain  rtl\"></span><span class=\"plain  rtl  \" ><span class=\"txtu hbo\">זַרְעֹו־</span></span></span><span class=\"plain  rtl  \" ><span class=\"plain  rtl\"></span><span class=\"plain  rtl  \" ><span class=\"txtu hbo\">בֹ֖ו </span></span></span></span></span></td></tr>\n",
       "<tr class=\"tf\"><td class=\"tf\">3</td><td class=\"tf\"><span class=\"section ltr\"><a target=\"_blank\" href=\"https://shebanq.ancient-data.org/hebrew/text?book=Genesis&amp;chapter=1&amp;verse=11&amp;version=2017&amp;mr=m&amp;qw=q&amp;tp=txt_p&amp;tr=hb&amp;wget=v&amp;qget=v&amp;nget=vt\" title=\"Show this on SHEBANQ\" sec=\"Genesis 1:11\">Genesis 1:11</a></span></td><td class=\"tf\"><span class=\"plain  hlbx\" ><span class=\"plain  rtl  \" ><span class=\"plain  rtl\"></span><span class=\"plain  l hlbx\"  style=\"border-color: lightyellow;\" ><span class=\"plain  rtl  \" ><span class=\"plain  rtl\"></span><span class=\"plain  rtl  \" ><span class=\"plain  rtl\"></span><span class=\"plain  rtl  \" ><span class=\"txtu hbo\">תַּֽדְשֵׁ֤א </span></span></span><span class=\"plain  rtl  \" ><span class=\"plain  rtl\"></span><span class=\"plain  rtl  \" ><span class=\"txtu hbo\">הָ</span></span><span class=\"plain  rtl  \" ><span class=\"txtu hbo\">אָ֨רֶץ֙ </span></span></span><span class=\"plain  rtl  \" ><span class=\"plain  rtl\"></span><span class=\"plain  rtl  \" ><span class=\"txtu hbo\">דֶּ֔שֶׁא </span></span></span><span class=\"plain  rtl  \" ><span class=\"plain  rtl\"></span><span class=\"plain  rtl  \" ><span class=\"txtu hbo\">עֵ֚שֶׂב </span></span></span></span></span><span class=\"plain  rtl  \" ><span class=\"plain  rtl\"></span><span class=\"plain  rtl  \" ><span class=\"plain  rtl\"></span><span class=\"plain  rtl  \" ><span class=\"txtu hbo\">מַזְרִ֣יעַ </span></span></span><span class=\"plain  rtl  \" ><span class=\"plain  rtl\"></span><span class=\"plain  rtl  \" ><span class=\"txtu hbo\">זֶ֔רַע </span></span></span></span><span class=\"plain  r hlbx\"  style=\"border-color: lightyellow;\" ><span class=\"plain  rtl  \" ><span class=\"plain  rtl\"></span><span class=\"plain  rtl  \" ><span class=\"plain  rtl\"></span><span class=\"plain  rtl  \" ><span class=\"txtu hbo\">עֵ֣ץ </span></span><span class=\"plain  rtl  \" ><span class=\"txtu hbo\">פְּרִ֞י </span></span></span></span></span><span class=\"plain  rtl  \" ><span class=\"plain  rtl\"></span><span class=\"plain  rtl  \" ><span class=\"plain  rtl\"></span><span class=\"plain  rtl  \" ><span class=\"txtu hbo\">עֹ֤שֶׂה </span></span></span><span class=\"plain  rtl  \" ><span class=\"plain  rtl\"></span><span class=\"plain  rtl  \" ><span class=\"txtu hbo\">פְּרִי֙ </span></span></span><span class=\"plain  hl\"  style=\"background-color: cyan;\" ><span class=\"plain  rtl  \" ><span class=\"plain  rtl\"></span><span class=\"plain  rtl  \" ><span class=\"txtu hbo\">לְ</span></span><span class=\"plain  rtl  \" ><span class=\"txtu hbo\">מִינֹ֔ו </span></span></span></span></span><span class=\"plain  hlbx\"  style=\"border-color: magenta;\" ><span class=\"plain  rtl  \" ><span class=\"plain  rtl\"></span><span class=\"plain  rtl  \" ><span class=\"plain  rtl\"></span><span class=\"plain  rtl  \" ><span class=\"txtu hbo\">אֲשֶׁ֥ר </span></span></span><span class=\"plain  rtl  \" ><span class=\"plain  rtl\"></span><span class=\"plain  rtl  \" ><span class=\"txtu hbo\">זַרְעֹו־</span></span></span><span class=\"plain  rtl  \" ><span class=\"plain  rtl\"></span><span class=\"plain  rtl  \" ><span class=\"txtu hbo\">בֹ֖ו </span></span></span></span></span><span class=\"plain  rtl  \" ><span class=\"plain  rtl\"></span><span class=\"plain  rtl  \" ><span class=\"plain  rtl\"></span><span class=\"plain  rtl  \" ><span class=\"txtu hbo\">עַל־</span></span><span class=\"plain  rtl  \" ><span class=\"txtu hbo\">הָ</span></span><span class=\"plain  rtl  \" ><span class=\"txtu hbo\">אָ֑רֶץ </span></span></span></span></span></span></td><td class=\"tf\"><span class=\"plain  l hlbx\"  style=\"border-color: lightyellow;\" ><span class=\"plain  rtl  \" ><span class=\"plain  rtl\"></span><span class=\"plain  rtl  \" ><span class=\"plain  rtl\"></span><span class=\"plain  rtl  \" ><span class=\"txtu hbo\">תַּֽדְשֵׁ֤א </span></span></span><span class=\"plain  rtl  \" ><span class=\"plain  rtl\"></span><span class=\"plain  rtl  \" ><span class=\"txtu hbo\">הָ</span></span><span class=\"plain  rtl  \" ><span class=\"txtu hbo\">אָ֨רֶץ֙ </span></span></span><span class=\"plain  rtl  \" ><span class=\"plain  rtl\"></span><span class=\"plain  rtl  \" ><span class=\"txtu hbo\">דֶּ֔שֶׁא </span></span></span><span class=\"plain  rtl  \" ><span class=\"plain  rtl\"></span><span class=\"plain  rtl  \" ><span class=\"txtu hbo\">עֵ֚שֶׂב </span></span></span></span></span><span class=\"plain  r hlbx\"  style=\"border-color: lightyellow;\" ><span class=\"plain  rtl  \" ><span class=\"plain  rtl\"></span><span class=\"plain  rtl  \" ><span class=\"plain  rtl\"></span><span class=\"plain  rtl  \" ><span class=\"txtu hbo\">עֵ֣ץ </span></span><span class=\"plain  rtl  \" ><span class=\"txtu hbo\">פְּרִ֞י </span></span></span></span></span></td><td class=\"tf\"><span class=\"plain  hl\"  style=\"background-color: cyan;\" ><span class=\"plain  rtl  \" ><span class=\"plain  rtl\"></span><span class=\"plain  rtl  \" ><span class=\"txtu hbo\">לְ</span></span><span class=\"plain  rtl  \" ><span class=\"txtu hbo\">מִינֹ֔ו </span></span></span></span></td><td class=\"tf\"><span class=\"plain  hlbx\"  style=\"border-color: magenta;\" ><span class=\"plain  rtl  \" ><span class=\"plain  rtl\"></span><span class=\"plain  rtl  \" ><span class=\"plain  rtl\"></span><span class=\"plain  rtl  \" ><span class=\"txtu hbo\">אֲשֶׁ֥ר </span></span></span><span class=\"plain  rtl  \" ><span class=\"plain  rtl\"></span><span class=\"plain  rtl  \" ><span class=\"txtu hbo\">זַרְעֹו־</span></span></span><span class=\"plain  rtl  \" ><span class=\"plain  rtl\"></span><span class=\"plain  rtl  \" ><span class=\"txtu hbo\">בֹ֖ו </span></span></span></span></span></td></tr>\n",
       "<tr class=\"tf\"><td class=\"tf\">4</td><td class=\"tf\"><span class=\"section ltr\"><a target=\"_blank\" href=\"https://shebanq.ancient-data.org/hebrew/text?book=Genesis&amp;chapter=1&amp;verse=11&amp;version=2017&amp;mr=m&amp;qw=q&amp;tp=txt_p&amp;tr=hb&amp;wget=v&amp;qget=v&amp;nget=vt\" title=\"Show this on SHEBANQ\" sec=\"Genesis 1:11\">Genesis 1:11</a></span></td><td class=\"tf\"><span class=\"plain  hlbx\" ><span class=\"plain  rtl  \" ><span class=\"plain  rtl\"></span><span class=\"plain  rtl  \" ><span class=\"plain  rtl\"></span><span class=\"plain  rtl  \" ><span class=\"plain  rtl\"></span><span class=\"plain  rtl  \" ><span class=\"txtu hbo\">תַּֽדְשֵׁ֤א </span></span></span><span class=\"plain  rtl  \" ><span class=\"plain  rtl\"></span><span class=\"plain  rtl  \" ><span class=\"txtu hbo\">הָ</span></span><span class=\"plain  rtl  \" ><span class=\"txtu hbo\">אָ֨רֶץ֙ </span></span></span><span class=\"plain  rtl  \" ><span class=\"plain  rtl\"></span><span class=\"plain  rtl  \" ><span class=\"txtu hbo\">דֶּ֔שֶׁא </span></span></span><span class=\"plain  rtl  \" ><span class=\"plain  rtl\"></span><span class=\"plain  rtl  \" ><span class=\"txtu hbo\">עֵ֚שֶׂב </span></span></span></span><span class=\"plain  hlbx\"  style=\"border-color: lightyellow;\" ><span class=\"plain  rtl  \" ><span class=\"plain  rtl\"></span><span class=\"plain  rtl  \" ><span class=\"plain  rtl\"></span><span class=\"plain  rtl  \" ><span class=\"txtu hbo\">מַזְרִ֣יעַ </span></span></span><span class=\"plain  rtl  \" ><span class=\"plain  rtl\"></span><span class=\"plain  rtl  \" ><span class=\"txtu hbo\">זֶ֔רַע </span></span></span></span></span><span class=\"plain  rtl  \" ><span class=\"plain  rtl\"></span><span class=\"plain  rtl  \" ><span class=\"plain  rtl\"></span><span class=\"plain  rtl  \" ><span class=\"txtu hbo\">עֵ֣ץ </span></span><span class=\"plain  rtl  \" ><span class=\"txtu hbo\">פְּרִ֞י </span></span></span></span><span class=\"plain  rtl  \" ><span class=\"plain  rtl\"></span><span class=\"plain  hl\"  style=\"background-color: cyan;\" ><span class=\"plain  rtl  \" ><span class=\"plain  rtl\"></span><span class=\"plain  rtl  \" ><span class=\"txtu hbo\">עֹ֤שֶׂה </span></span></span></span><span class=\"plain  rtl  \" ><span class=\"plain  rtl\"></span><span class=\"plain  rtl  \" ><span class=\"txtu hbo\">פְּרִי֙ </span></span></span><span class=\"plain  rtl  \" ><span class=\"plain  rtl\"></span><span class=\"plain  rtl  \" ><span class=\"txtu hbo\">לְ</span></span><span class=\"plain  rtl  \" ><span class=\"txtu hbo\">מִינֹ֔ו </span></span></span></span><span class=\"plain  hlbx\"  style=\"border-color: magenta;\" ><span class=\"plain  rtl  \" ><span class=\"plain  rtl\"></span><span class=\"plain  rtl  \" ><span class=\"plain  rtl\"></span><span class=\"plain  rtl  \" ><span class=\"txtu hbo\">אֲשֶׁ֥ר </span></span></span><span class=\"plain  rtl  \" ><span class=\"plain  rtl\"></span><span class=\"plain  rtl  \" ><span class=\"txtu hbo\">זַרְעֹו־</span></span></span><span class=\"plain  rtl  \" ><span class=\"plain  rtl\"></span><span class=\"plain  rtl  \" ><span class=\"txtu hbo\">בֹ֖ו </span></span></span></span></span><span class=\"plain  rtl  \" ><span class=\"plain  rtl\"></span><span class=\"plain  rtl  \" ><span class=\"plain  rtl\"></span><span class=\"plain  rtl  \" ><span class=\"txtu hbo\">עַל־</span></span><span class=\"plain  rtl  \" ><span class=\"txtu hbo\">הָ</span></span><span class=\"plain  rtl  \" ><span class=\"txtu hbo\">אָ֑רֶץ </span></span></span></span></span></span></td><td class=\"tf\"><span class=\"plain  hlbx\"  style=\"border-color: lightyellow;\" ><span class=\"plain  rtl  \" ><span class=\"plain  rtl\"></span><span class=\"plain  rtl  \" ><span class=\"plain  rtl\"></span><span class=\"plain  rtl  \" ><span class=\"txtu hbo\">מַזְרִ֣יעַ </span></span></span><span class=\"plain  rtl  \" ><span class=\"plain  rtl\"></span><span class=\"plain  rtl  \" ><span class=\"txtu hbo\">זֶ֔רַע </span></span></span></span></span></td><td class=\"tf\"><span class=\"plain  hl\"  style=\"background-color: cyan;\" ><span class=\"plain  rtl  \" ><span class=\"plain  rtl\"></span><span class=\"plain  rtl  \" ><span class=\"txtu hbo\">עֹ֤שֶׂה </span></span></span></span></td><td class=\"tf\"><span class=\"plain  hlbx\"  style=\"border-color: magenta;\" ><span class=\"plain  rtl  \" ><span class=\"plain  rtl\"></span><span class=\"plain  rtl  \" ><span class=\"plain  rtl\"></span><span class=\"plain  rtl  \" ><span class=\"txtu hbo\">אֲשֶׁ֥ר </span></span></span><span class=\"plain  rtl  \" ><span class=\"plain  rtl\"></span><span class=\"plain  rtl  \" ><span class=\"txtu hbo\">זַרְעֹו־</span></span></span><span class=\"plain  rtl  \" ><span class=\"plain  rtl\"></span><span class=\"plain  rtl  \" ><span class=\"txtu hbo\">בֹ֖ו </span></span></span></span></span></td></tr>\n",
       "<tr class=\"tf\"><td class=\"tf\">5</td><td class=\"tf\"><span class=\"section ltr\"><a target=\"_blank\" href=\"https://shebanq.ancient-data.org/hebrew/text?book=Genesis&amp;chapter=1&amp;verse=11&amp;version=2017&amp;mr=m&amp;qw=q&amp;tp=txt_p&amp;tr=hb&amp;wget=v&amp;qget=v&amp;nget=vt\" title=\"Show this on SHEBANQ\" sec=\"Genesis 1:11\">Genesis 1:11</a></span></td><td class=\"tf\"><span class=\"plain  hlbx\" ><span class=\"plain  rtl  \" ><span class=\"plain  rtl\"></span><span class=\"plain  rtl  \" ><span class=\"plain  rtl\"></span><span class=\"plain  rtl  \" ><span class=\"plain  rtl\"></span><span class=\"plain  rtl  \" ><span class=\"txtu hbo\">תַּֽדְשֵׁ֤א </span></span></span><span class=\"plain  rtl  \" ><span class=\"plain  rtl\"></span><span class=\"plain  rtl  \" ><span class=\"txtu hbo\">הָ</span></span><span class=\"plain  rtl  \" ><span class=\"txtu hbo\">אָ֨רֶץ֙ </span></span></span><span class=\"plain  rtl  \" ><span class=\"plain  rtl\"></span><span class=\"plain  rtl  \" ><span class=\"txtu hbo\">דֶּ֔שֶׁא </span></span></span><span class=\"plain  rtl  \" ><span class=\"plain  rtl\"></span><span class=\"plain  rtl  \" ><span class=\"txtu hbo\">עֵ֚שֶׂב </span></span></span></span><span class=\"plain  hlbx\"  style=\"border-color: lightyellow;\" ><span class=\"plain  rtl  \" ><span class=\"plain  rtl\"></span><span class=\"plain  rtl  \" ><span class=\"plain  rtl\"></span><span class=\"plain  rtl  \" ><span class=\"txtu hbo\">מַזְרִ֣יעַ </span></span></span><span class=\"plain  rtl  \" ><span class=\"plain  rtl\"></span><span class=\"plain  rtl  \" ><span class=\"txtu hbo\">זֶ֔רַע </span></span></span></span></span><span class=\"plain  rtl  \" ><span class=\"plain  rtl\"></span><span class=\"plain  rtl  \" ><span class=\"plain  rtl\"></span><span class=\"plain  rtl  \" ><span class=\"txtu hbo\">עֵ֣ץ </span></span><span class=\"plain  rtl  \" ><span class=\"txtu hbo\">פְּרִ֞י </span></span></span></span><span class=\"plain  rtl  \" ><span class=\"plain  rtl\"></span><span class=\"plain  rtl  \" ><span class=\"plain  rtl\"></span><span class=\"plain  rtl  \" ><span class=\"txtu hbo\">עֹ֤שֶׂה </span></span></span><span class=\"plain  hl\"  style=\"background-color: cyan;\" ><span class=\"plain  rtl  \" ><span class=\"plain  rtl\"></span><span class=\"plain  rtl  \" ><span class=\"txtu hbo\">פְּרִי֙ </span></span></span></span><span class=\"plain  rtl  \" ><span class=\"plain  rtl\"></span><span class=\"plain  rtl  \" ><span class=\"txtu hbo\">לְ</span></span><span class=\"plain  rtl  \" ><span class=\"txtu hbo\">מִינֹ֔ו </span></span></span></span><span class=\"plain  hlbx\"  style=\"border-color: magenta;\" ><span class=\"plain  rtl  \" ><span class=\"plain  rtl\"></span><span class=\"plain  rtl  \" ><span class=\"plain  rtl\"></span><span class=\"plain  rtl  \" ><span class=\"txtu hbo\">אֲשֶׁ֥ר </span></span></span><span class=\"plain  rtl  \" ><span class=\"plain  rtl\"></span><span class=\"plain  rtl  \" ><span class=\"txtu hbo\">זַרְעֹו־</span></span></span><span class=\"plain  rtl  \" ><span class=\"plain  rtl\"></span><span class=\"plain  rtl  \" ><span class=\"txtu hbo\">בֹ֖ו </span></span></span></span></span><span class=\"plain  rtl  \" ><span class=\"plain  rtl\"></span><span class=\"plain  rtl  \" ><span class=\"plain  rtl\"></span><span class=\"plain  rtl  \" ><span class=\"txtu hbo\">עַל־</span></span><span class=\"plain  rtl  \" ><span class=\"txtu hbo\">הָ</span></span><span class=\"plain  rtl  \" ><span class=\"txtu hbo\">אָ֑רֶץ </span></span></span></span></span></span></td><td class=\"tf\"><span class=\"plain  hlbx\"  style=\"border-color: lightyellow;\" ><span class=\"plain  rtl  \" ><span class=\"plain  rtl\"></span><span class=\"plain  rtl  \" ><span class=\"plain  rtl\"></span><span class=\"plain  rtl  \" ><span class=\"txtu hbo\">מַזְרִ֣יעַ </span></span></span><span class=\"plain  rtl  \" ><span class=\"plain  rtl\"></span><span class=\"plain  rtl  \" ><span class=\"txtu hbo\">זֶ֔רַע </span></span></span></span></span></td><td class=\"tf\"><span class=\"plain  hl\"  style=\"background-color: cyan;\" ><span class=\"plain  rtl  \" ><span class=\"plain  rtl\"></span><span class=\"plain  rtl  \" ><span class=\"txtu hbo\">פְּרִי֙ </span></span></span></span></td><td class=\"tf\"><span class=\"plain  hlbx\"  style=\"border-color: magenta;\" ><span class=\"plain  rtl  \" ><span class=\"plain  rtl\"></span><span class=\"plain  rtl  \" ><span class=\"plain  rtl\"></span><span class=\"plain  rtl  \" ><span class=\"txtu hbo\">אֲשֶׁ֥ר </span></span></span><span class=\"plain  rtl  \" ><span class=\"plain  rtl\"></span><span class=\"plain  rtl  \" ><span class=\"txtu hbo\">זַרְעֹו־</span></span></span><span class=\"plain  rtl  \" ><span class=\"plain  rtl\"></span><span class=\"plain  rtl  \" ><span class=\"txtu hbo\">בֹ֖ו </span></span></span></span></span></td></tr></table>"
      ],
      "text/plain": [
       "<IPython.core.display.HTML object>"
      ]
     },
     "metadata": {},
     "output_type": "display_data"
    },
    {
     "data": {
      "text/html": [
       "<p><b>result</b> <i>1</i></p>"
      ],
      "text/plain": [
       "<IPython.core.display.HTML object>"
      ]
     },
     "metadata": {},
     "output_type": "display_data"
    },
    {
     "data": {
      "text/html": [
       "<span class=\"section ltr\"><a target=\"_blank\" href=\"https://shebanq.ancient-data.org/hebrew/text?book=Genesis&amp;chapter=1&amp;verse=11&amp;version=2017&amp;mr=m&amp;qw=q&amp;tp=txt_p&amp;tr=hb&amp;wget=v&amp;qget=v&amp;nget=vt\" title=\"Show this on SHEBANQ\" sec=\"Genesis 1:11\">Genesis 1:11</a> </span><div class=\"contnr c3  rtl  \" ><div class=\"lbl c3  \" ><span class=\"nd\">verse</span></div> <div class=\"children row wrap rtl\"><div class=\"contnr c2  rtl  \" ><div class=\"lbl c2  \" ><span class=\"nd\">sentence</span></div> <div class=\"children row wrap rtl\"><div class=\"contnr cnul trm rtl  \" ><div class=\"children row wrap rtl\"><div class=\"contnr c2  rtl  \" ><div class=\"lbl c2  \" ><span class=\"nd\">clause</span></div> <div class=\"children row wrap rtl\"><div class=\"contnr cnul trm rtl  \" ><div class=\"children row wrap rtl\"><div class=\"contnr c1 trm rtl  \" ><div class=\"lbl c1 trm \" ><span class=\"nd\">phrase</span> <span class=\"\"><span class=\"plain  rtl  \" ><span class=\"plain  rtl\"></span><span class=\"plain  rtl  \" ><span class=\"txtu hbo\">וַ</span></span></span></span></div> <div class=\"children row wrap rtl\"><div class=\"contnr cnul trm rtl  \" ></div></div></div><div class=\"contnr c1 trm rtl  \" ><div class=\"lbl c1 trm \" ><span class=\"nd\">phrase</span> <span class=\"\"><span class=\"plain  rtl  \" ><span class=\"plain  rtl\"></span><span class=\"plain  rtl  \" ><span class=\"txtu hbo\">יֹּ֣אמֶר </span></span></span></span></div> <div class=\"children row wrap rtl\"><div class=\"contnr cnul trm rtl  \" ></div></div></div><div class=\"contnr c1 trm rtl  \" ><div class=\"lbl c1 trm \" ><span class=\"nd\">phrase</span> <span class=\"\"><span class=\"plain  rtl  \" ><span class=\"plain  rtl\"></span><span class=\"plain  rtl  \" ><span class=\"txtu hbo\">אֱלֹהִ֗ים </span></span></span></span></div> <div class=\"children row wrap rtl\"><div class=\"contnr cnul trm rtl  \" ></div></div></div></div></div></div></div></div></div></div></div><div class=\"contnr c2  rtl  hl\" ><div class=\"lbl c2  hl\" ><span class=\"nd\">sentence</span></div> <div class=\"children row wrap rtl\"><div class=\"contnr cnul trm rtl  \" ><div class=\"children row wrap rtl\"><div class=\"contnr c2  rtl  l hl\"  style=\"background-color: lightyellow;\" ><div class=\"lbl c2  hl\"  style=\"background-color: lightyellow;\" ><span class=\"nd\">clause</span></div> <div class=\"children row wrap rtl\"><div class=\"contnr cnul trm rtl  \" ><div class=\"children row wrap rtl\"><div class=\"contnr c1 trm rtl  \" ><div class=\"lbl c1 trm \" ><span class=\"nd\">phrase</span> <span class=\"\"><span class=\"plain  rtl  \" ><span class=\"plain  rtl\"></span><span class=\"plain  rtl  \" ><span class=\"txtu hbo\">תַּֽדְשֵׁ֤א </span></span></span></span></div> <div class=\"children row wrap rtl\"><div class=\"contnr cnul trm rtl  \" ></div></div></div><div class=\"contnr c1 trm rtl  \" ><div class=\"lbl c1 trm \" ><span class=\"nd\">phrase</span> <span class=\"\"><span class=\"plain  rtl  \" ><span class=\"plain  rtl\"></span><span class=\"plain  rtl  \" ><span class=\"txtu hbo\">הָ</span></span><span class=\"plain  rtl  \" ><span class=\"txtu hbo\">אָ֨רֶץ֙ </span></span></span></span></div> <div class=\"children row wrap rtl\"><div class=\"contnr cnul trm rtl  \" ></div></div></div><div class=\"contnr c1 trm rtl  l \" ><div class=\"lbl c1 trm \" ><span class=\"nd\">phrase</span> <span class=\"\"><span class=\"plain  rtl  \" ><span class=\"plain  rtl\"></span><span class=\"plain  rtl  \" ><span class=\"txtu hbo\">דֶּ֔שֶׁא </span></span></span></span></div> <div class=\"children row wrap rtl\"><div class=\"contnr cnul trm rtl  \" ></div></div></div><div class=\"contnr c1 trm rtl  r l \" ><div class=\"lbl c1 trm \" ><span class=\"nd\">phrase</span> <span class=\"\"><span class=\"plain  rtl  \" ><span class=\"plain  rtl\"></span><span class=\"plain  rtl  \" ><span class=\"txtu hbo\">עֵ֚שֶׂב </span></span></span></span></div> <div class=\"children row wrap rtl\"><div class=\"contnr cnul trm rtl  \" ></div></div></div></div></div></div></div><div class=\"contnr c2  rtl  \" ><div class=\"lbl c2  \" ><span class=\"nd\">clause</span></div> <div class=\"children row wrap rtl\"><div class=\"contnr cnul trm rtl  \" ><div class=\"children row wrap rtl\"><div class=\"contnr c1 trm rtl  \" ><div class=\"lbl c1 trm \" ><span class=\"nd\">phrase</span> <span class=\"\"><span class=\"plain  rtl  \" ><span class=\"plain  rtl\"></span><span class=\"plain  rtl  \" ><span class=\"txtu hbo\">מַזְרִ֣יעַ </span></span></span></span></div> <div class=\"children row wrap rtl\"><div class=\"contnr cnul trm rtl  \" ></div></div></div><div class=\"contnr c1 trm rtl  \" ><div class=\"lbl c1 trm \" ><span class=\"nd\">phrase</span> <span class=\"\"><span class=\"plain  rtl  \" ><span class=\"plain  rtl\"></span><span class=\"plain  rtl  \" ><span class=\"txtu hbo\">זֶ֔רַע </span></span></span></span></div> <div class=\"children row wrap rtl\"><div class=\"contnr cnul trm rtl  \" ></div></div></div></div></div></div></div><div class=\"contnr c2  rtl  r hl\"  style=\"background-color: lightyellow;\" ><div class=\"lbl c2  hl\"  style=\"background-color: lightyellow;\" ><span class=\"nd\">clause</span></div> <div class=\"children row wrap rtl\"><div class=\"contnr cnul trm rtl  \" ><div class=\"children row wrap rtl\"><div class=\"contnr c1 trm rtl  r \" ><div class=\"lbl c1 trm \" ><span class=\"nd\">phrase</span> <span class=\"\"><span class=\"plain  rtl  \" ><span class=\"plain  rtl\"></span><span class=\"plain  rtl  \" ><span class=\"txtu hbo\">עֵ֣ץ </span></span><span class=\"plain  rtl  \" ><span class=\"txtu hbo\">פְּרִ֞י </span></span></span></span></div> <div class=\"children row wrap rtl\"><div class=\"contnr cnul trm rtl  \" ></div></div></div></div></div></div></div><div class=\"contnr c2  rtl  l \" ><div class=\"lbl c2  \" ><span class=\"nd\">clause</span></div> <div class=\"children row wrap rtl\"><div class=\"contnr cnul trm rtl  \" ><div class=\"children row wrap rtl\"><div class=\"contnr c1 trm rtl  hl\"  style=\"background-color: cyan;\" ><div class=\"lbl c1 trm \" ><span class=\"nd\">phrase</span> <span class=\"\"><span class=\"plain  hl\"  style=\"background-color: cyan;\" ><span class=\"plain  rtl  \" ><span class=\"plain  rtl\"></span><span class=\"plain  rtl  \" ><span class=\"txtu hbo\">עֹ֤שֶׂה </span></span></span></span></span></div> <div class=\"children row wrap rtl\"><div class=\"contnr cnul trm rtl  \" ></div></div></div><div class=\"contnr c1 trm rtl  \" ><div class=\"lbl c1 trm \" ><span class=\"nd\">phrase</span> <span class=\"\"><span class=\"plain  rtl  \" ><span class=\"plain  rtl\"></span><span class=\"plain  rtl  \" ><span class=\"txtu hbo\">פְּרִי֙ </span></span></span></span></div> <div class=\"children row wrap rtl\"><div class=\"contnr cnul trm rtl  \" ></div></div></div><div class=\"contnr c1 trm rtl  \" ><div class=\"lbl c1 trm \" ><span class=\"nd\">phrase</span> <span class=\"\"><span class=\"plain  rtl  \" ><span class=\"plain  rtl\"></span><span class=\"plain  rtl  \" ><span class=\"txtu hbo\">לְ</span></span><span class=\"plain  rtl  \" ><span class=\"txtu hbo\">מִינֹ֔ו </span></span></span></span></div> <div class=\"children row wrap rtl\"><div class=\"contnr cnul trm rtl  \" ></div></div></div></div></div></div></div><div class=\"contnr c2  rtl  hl\"  style=\"background-color: magenta;\" ><div class=\"lbl c2  hl\"  style=\"background-color: magenta;\" ><span class=\"nd\">clause</span></div> <div class=\"children row wrap rtl\"><div class=\"contnr cnul trm rtl  \" ><div class=\"children row wrap rtl\"><div class=\"contnr c1 trm rtl  \" ><div class=\"lbl c1 trm \" ><span class=\"nd\">phrase</span> <span class=\"\"><span class=\"plain  rtl  \" ><span class=\"plain  rtl\"></span><span class=\"plain  rtl  \" ><span class=\"txtu hbo\">אֲשֶׁ֥ר </span></span></span></span></div> <div class=\"children row wrap rtl\"><div class=\"contnr cnul trm rtl  \" ></div></div></div><div class=\"contnr c1 trm rtl  \" ><div class=\"lbl c1 trm \" ><span class=\"nd\">phrase</span> <span class=\"\"><span class=\"plain  rtl  \" ><span class=\"plain  rtl\"></span><span class=\"plain  rtl  \" ><span class=\"txtu hbo\">זַרְעֹו־</span></span></span></span></div> <div class=\"children row wrap rtl\"><div class=\"contnr cnul trm rtl  \" ></div></div></div><div class=\"contnr c1 trm rtl  \" ><div class=\"lbl c1 trm \" ><span class=\"nd\">phrase</span> <span class=\"\"><span class=\"plain  rtl  \" ><span class=\"plain  rtl\"></span><span class=\"plain  rtl  \" ><span class=\"txtu hbo\">בֹ֖ו </span></span></span></span></div> <div class=\"children row wrap rtl\"><div class=\"contnr cnul trm rtl  \" ></div></div></div></div></div></div></div><div class=\"contnr c2  rtl  r \" ><div class=\"lbl c2  \" ><span class=\"nd\">clause</span></div> <div class=\"children row wrap rtl\"><div class=\"contnr cnul trm rtl  \" ><div class=\"children row wrap rtl\"><div class=\"contnr c1 trm rtl  \" ><div class=\"lbl c1 trm \" ><span class=\"nd\">phrase</span> <span class=\"\"><span class=\"plain  rtl  \" ><span class=\"plain  rtl\"></span><span class=\"plain  rtl  \" ><span class=\"txtu hbo\">עַל־</span></span><span class=\"plain  rtl  \" ><span class=\"txtu hbo\">הָ</span></span><span class=\"plain  rtl  \" ><span class=\"txtu hbo\">אָ֑רֶץ </span></span></span></span></div> <div class=\"children row wrap rtl\"><div class=\"contnr cnul trm rtl  \" ></div></div></div></div></div></div></div></div></div></div></div><div class=\"contnr c2  rtl  \" ><div class=\"lbl c2  \" ><span class=\"nd\">sentence</span></div> <div class=\"children row wrap rtl\"><div class=\"contnr cnul trm rtl  \" ><div class=\"children row wrap rtl\"><div class=\"contnr c2  rtl  \" ><div class=\"lbl c2  \" ><span class=\"nd\">clause</span></div> <div class=\"children row wrap rtl\"><div class=\"contnr cnul trm rtl  \" ><div class=\"children row wrap rtl\"><div class=\"contnr c1 trm rtl  \" ><div class=\"lbl c1 trm \" ><span class=\"nd\">phrase</span> <span class=\"\"><span class=\"plain  rtl  \" ><span class=\"plain  rtl\"></span><span class=\"plain  rtl  \" ><span class=\"txtu hbo\">וַֽ</span></span></span></span></div> <div class=\"children row wrap rtl\"><div class=\"contnr cnul trm rtl  \" ></div></div></div><div class=\"contnr c1 trm rtl  \" ><div class=\"lbl c1 trm \" ><span class=\"nd\">phrase</span> <span class=\"\"><span class=\"plain  rtl  \" ><span class=\"plain  rtl\"></span><span class=\"plain  rtl  \" ><span class=\"txtu hbo\">יְהִי־</span></span></span></span></div> <div class=\"children row wrap rtl\"><div class=\"contnr cnul trm rtl  \" ></div></div></div><div class=\"contnr c1 trm rtl  \" ><div class=\"lbl c1 trm \" ><span class=\"nd\">phrase</span> <span class=\"\"><span class=\"plain  rtl  \" ><span class=\"plain  rtl\"></span><span class=\"plain  rtl  \" ><span class=\"txtu hbo\">כֵֽן׃ </span></span></span></span></div> <div class=\"children row wrap rtl\"><div class=\"contnr cnul trm rtl  \" ></div></div></div></div></div></div></div></div></div></div></div></div></div>"
      ],
      "text/plain": [
       "<IPython.core.display.HTML object>"
      ]
     },
     "metadata": {},
     "output_type": "display_data"
    }
   ],
   "source": [
    "query = '''\n",
    "sentence\n",
    "  c1:clause\n",
    "  p:phrase\n",
    "  c2:clause\n",
    "  c1 << p\n",
    "  c2 >> p\n",
    "'''\n",
    "results = A.search(query)\n",
    "colorMap = {2: 'lightyellow', 3: 'cyan', 4: 'magenta', 5: 'blue'}\n",
    "A.table(results, end=5, baseTypes=\"phrase\", colorMap=colorMap)\n",
    "A.show(results, condensed=False, baseTypes=\"phrase\", start=1, end=1, colorMap=colorMap)"
   ]
  },
  {
   "cell_type": "markdown",
   "metadata": {},
   "source": [
    "In the common domain:"
   ]
  },
  {
   "cell_type": "code",
   "execution_count": 44,
   "metadata": {
    "ExecuteTime": {
     "end_time": "2018-05-24T09:15:45.123089Z",
     "start_time": "2018-05-24T09:15:19.569287Z"
    }
   },
   "outputs": [
    {
     "name": "stdout",
     "output_type": "stream",
     "text": [
      "  2.28s 497 results\n"
     ]
    },
    {
     "data": {
      "text/html": [
       "<table><tr class=\"tf\"><th class=\"tf\">n</th><th class=\"tf\">p</th><th class=\"tf\">sentence</th><th class=\"tf\">clause</th><th class=\"tf\">phrase</th><th class=\"tf\">clause</th></tr>\n",
       "<tr class=\"tf\"><td class=\"tf\">1</td><td class=\"tf\"><span class=\"section ltr\"><a target=\"_blank\" href=\"https://shebanq.ancient-data.org/hebrew/text?book=Genesis&amp;chapter=3&amp;verse=5&amp;version=2017&amp;mr=m&amp;qw=q&amp;tp=txt_p&amp;tr=hb&amp;wget=v&amp;qget=v&amp;nget=vt\" title=\"Show this on SHEBANQ\" sec=\"Genesis 3:5\">Genesis 3:5</a></span></td><td class=\"tf\"><span class=\"plain  hlbx\" ><span class=\"plain  rtl  \" ><span class=\"plain  rtl\"></span><span class=\"plain  hlbx\"  style=\"border-color: lightyellow;\" ><span class=\"plain  rtl  \" ><span class=\"plain  rtl\"></span><span class=\"plain  rtl  \" ><span class=\"plain  rtl\"></span><span class=\"plain  rtl  \" ><span class=\"txtu hbo\">כִּ֚י </span></span></span><span class=\"plain  rtl  \" ><span class=\"plain  rtl\"></span><span class=\"plain  rtl  \" ><span class=\"txtu hbo\">יֹדֵ֣עַ </span></span></span><span class=\"plain  rtl  \" ><span class=\"plain  rtl\"></span><span class=\"plain  rtl  \" ><span class=\"txtu hbo\">אֱלֹהִ֔ים </span></span></span></span></span><span class=\"plain  rtl  \" ><span class=\"plain  rtl\"></span><span class=\"plain  rtl  \" ><span class=\"plain  rtl\"></span><span class=\"plain  rtl  \" ><span class=\"txtu hbo\">כִּ֗י </span></span></span><span class=\"plain  rtl  \" ><span class=\"plain  rtl\"></span><span class=\"plain  rtl  \" ><span class=\"txtu hbo\">בְּ</span></span><span class=\"plain  rtl  \" ><span class=\"txtu hbo\">יֹום֙ </span></span></span></span><span class=\"plain  rtl  \" ><span class=\"plain  rtl\"></span><span class=\"plain  rtl  \" ><span class=\"plain  rtl\"></span><span class=\"plain  rtl  \" ><span class=\"txtu hbo\">אֲכָלְכֶ֣ם </span></span></span><span class=\"plain  rtl  \" ><span class=\"plain  rtl\"></span><span class=\"plain  rtl  \" ><span class=\"txtu hbo\">מִמֶּ֔נּוּ </span></span></span></span><span class=\"plain  rtl  \" ><span class=\"plain  rtl\"></span><span class=\"plain  rtl  \" ><span class=\"plain  rtl\"></span><span class=\"plain  rtl  \" ><span class=\"txtu hbo\">וְ</span></span></span><span class=\"plain  hl\"  style=\"background-color: cyan;\" ><span class=\"plain  rtl  \" ><span class=\"plain  rtl\"></span><span class=\"plain  rtl  \" ><span class=\"txtu hbo\">נִפְקְח֖וּ </span></span></span></span><span class=\"plain  rtl  \" ><span class=\"plain  rtl\"></span><span class=\"plain  rtl  \" ><span class=\"txtu hbo\">עֵֽינֵיכֶ֑ם </span></span></span></span><span class=\"plain  hlbx\"  style=\"border-color: magenta;\" ><span class=\"plain  rtl  \" ><span class=\"plain  rtl\"></span><span class=\"plain  rtl  \" ><span class=\"plain  rtl\"></span><span class=\"plain  rtl  \" ><span class=\"txtu hbo\">וִ</span></span></span><span class=\"plain  rtl  \" ><span class=\"plain  rtl\"></span><span class=\"plain  rtl  \" ><span class=\"txtu hbo\">הְיִיתֶם֙ </span></span></span><span class=\"plain  rtl  \" ><span class=\"plain  rtl\"></span><span class=\"plain  rtl  \" ><span class=\"txtu hbo\">כֵּֽ</span></span><span class=\"plain  rtl  \" ><span class=\"txtu hbo\">אלֹהִ֔ים </span></span></span></span></span><span class=\"plain  rtl  \" ><span class=\"plain  rtl\"></span><span class=\"plain  rtl  \" ><span class=\"plain  rtl\"></span><span class=\"plain  rtl  \" ><span class=\"txtu hbo\">יֹדְעֵ֖י </span></span><span class=\"plain  rtl  \" ><span class=\"txtu hbo\">טֹ֥וב </span></span><span class=\"plain  rtl  \" ><span class=\"txtu hbo\">וָ</span></span><span class=\"plain  rtl  \" ><span class=\"txtu hbo\">רָֽע׃ </span></span></span></span></span></span></td><td class=\"tf\"><span class=\"plain  hlbx\"  style=\"border-color: lightyellow;\" ><span class=\"plain  rtl  \" ><span class=\"plain  rtl\"></span><span class=\"plain  rtl  \" ><span class=\"plain  rtl\"></span><span class=\"plain  rtl  \" ><span class=\"txtu hbo\">כִּ֚י </span></span></span><span class=\"plain  rtl  \" ><span class=\"plain  rtl\"></span><span class=\"plain  rtl  \" ><span class=\"txtu hbo\">יֹדֵ֣עַ </span></span></span><span class=\"plain  rtl  \" ><span class=\"plain  rtl\"></span><span class=\"plain  rtl  \" ><span class=\"txtu hbo\">אֱלֹהִ֔ים </span></span></span></span></span></td><td class=\"tf\"><span class=\"plain  hl\"  style=\"background-color: cyan;\" ><span class=\"plain  rtl  \" ><span class=\"plain  rtl\"></span><span class=\"plain  rtl  \" ><span class=\"txtu hbo\">נִפְקְח֖וּ </span></span></span></span></td><td class=\"tf\"><span class=\"plain  hlbx\"  style=\"border-color: magenta;\" ><span class=\"plain  rtl  \" ><span class=\"plain  rtl\"></span><span class=\"plain  rtl  \" ><span class=\"plain  rtl\"></span><span class=\"plain  rtl  \" ><span class=\"txtu hbo\">וִ</span></span></span><span class=\"plain  rtl  \" ><span class=\"plain  rtl\"></span><span class=\"plain  rtl  \" ><span class=\"txtu hbo\">הְיִיתֶם֙ </span></span></span><span class=\"plain  rtl  \" ><span class=\"plain  rtl\"></span><span class=\"plain  rtl  \" ><span class=\"txtu hbo\">כֵּֽ</span></span><span class=\"plain  rtl  \" ><span class=\"txtu hbo\">אלֹהִ֔ים </span></span></span></span></span></td></tr>\n",
       "<tr class=\"tf\"><td class=\"tf\">2</td><td class=\"tf\"><span class=\"section ltr\"><a target=\"_blank\" href=\"https://shebanq.ancient-data.org/hebrew/text?book=Genesis&amp;chapter=3&amp;verse=5&amp;version=2017&amp;mr=m&amp;qw=q&amp;tp=txt_p&amp;tr=hb&amp;wget=v&amp;qget=v&amp;nget=vt\" title=\"Show this on SHEBANQ\" sec=\"Genesis 3:5\">Genesis 3:5</a></span></td><td class=\"tf\"><span class=\"plain  hlbx\" ><span class=\"plain  rtl  \" ><span class=\"plain  rtl\"></span><span class=\"plain  rtl  \" ><span class=\"plain  rtl\"></span><span class=\"plain  rtl  \" ><span class=\"plain  rtl\"></span><span class=\"plain  rtl  \" ><span class=\"txtu hbo\">כִּ֚י </span></span></span><span class=\"plain  rtl  \" ><span class=\"plain  rtl\"></span><span class=\"plain  rtl  \" ><span class=\"txtu hbo\">יֹדֵ֣עַ </span></span></span><span class=\"plain  rtl  \" ><span class=\"plain  rtl\"></span><span class=\"plain  rtl  \" ><span class=\"txtu hbo\">אֱלֹהִ֔ים </span></span></span></span><span class=\"plain  hlbx\"  style=\"border-color: lightyellow;\" ><span class=\"plain  rtl  \" ><span class=\"plain  rtl\"></span><span class=\"plain  rtl  \" ><span class=\"plain  rtl\"></span><span class=\"plain  rtl  \" ><span class=\"txtu hbo\">כִּ֗י </span></span></span><span class=\"plain  rtl  \" ><span class=\"plain  rtl\"></span><span class=\"plain  rtl  \" ><span class=\"txtu hbo\">בְּ</span></span><span class=\"plain  rtl  \" ><span class=\"txtu hbo\">יֹום֙ </span></span></span></span></span><span class=\"plain  rtl  \" ><span class=\"plain  rtl\"></span><span class=\"plain  rtl  \" ><span class=\"plain  rtl\"></span><span class=\"plain  rtl  \" ><span class=\"txtu hbo\">אֲכָלְכֶ֣ם </span></span></span><span class=\"plain  rtl  \" ><span class=\"plain  rtl\"></span><span class=\"plain  rtl  \" ><span class=\"txtu hbo\">מִמֶּ֔נּוּ </span></span></span></span><span class=\"plain  rtl  \" ><span class=\"plain  rtl\"></span><span class=\"plain  rtl  \" ><span class=\"plain  rtl\"></span><span class=\"plain  rtl  \" ><span class=\"txtu hbo\">וְ</span></span></span><span class=\"plain  hl\"  style=\"background-color: cyan;\" ><span class=\"plain  rtl  \" ><span class=\"plain  rtl\"></span><span class=\"plain  rtl  \" ><span class=\"txtu hbo\">נִפְקְח֖וּ </span></span></span></span><span class=\"plain  rtl  \" ><span class=\"plain  rtl\"></span><span class=\"plain  rtl  \" ><span class=\"txtu hbo\">עֵֽינֵיכֶ֑ם </span></span></span></span><span class=\"plain  hlbx\"  style=\"border-color: magenta;\" ><span class=\"plain  rtl  \" ><span class=\"plain  rtl\"></span><span class=\"plain  rtl  \" ><span class=\"plain  rtl\"></span><span class=\"plain  rtl  \" ><span class=\"txtu hbo\">וִ</span></span></span><span class=\"plain  rtl  \" ><span class=\"plain  rtl\"></span><span class=\"plain  rtl  \" ><span class=\"txtu hbo\">הְיִיתֶם֙ </span></span></span><span class=\"plain  rtl  \" ><span class=\"plain  rtl\"></span><span class=\"plain  rtl  \" ><span class=\"txtu hbo\">כֵּֽ</span></span><span class=\"plain  rtl  \" ><span class=\"txtu hbo\">אלֹהִ֔ים </span></span></span></span></span><span class=\"plain  rtl  \" ><span class=\"plain  rtl\"></span><span class=\"plain  rtl  \" ><span class=\"plain  rtl\"></span><span class=\"plain  rtl  \" ><span class=\"txtu hbo\">יֹדְעֵ֖י </span></span><span class=\"plain  rtl  \" ><span class=\"txtu hbo\">טֹ֥וב </span></span><span class=\"plain  rtl  \" ><span class=\"txtu hbo\">וָ</span></span><span class=\"plain  rtl  \" ><span class=\"txtu hbo\">רָֽע׃ </span></span></span></span></span></span></td><td class=\"tf\"><span class=\"plain  hlbx\"  style=\"border-color: lightyellow;\" ><span class=\"plain  rtl  \" ><span class=\"plain  rtl\"></span><span class=\"plain  rtl  \" ><span class=\"plain  rtl\"></span><span class=\"plain  rtl  \" ><span class=\"txtu hbo\">כִּ֗י </span></span></span><span class=\"plain  rtl  \" ><span class=\"plain  rtl\"></span><span class=\"plain  rtl  \" ><span class=\"txtu hbo\">בְּ</span></span><span class=\"plain  rtl  \" ><span class=\"txtu hbo\">יֹום֙ </span></span></span></span></span></td><td class=\"tf\"><span class=\"plain  hl\"  style=\"background-color: cyan;\" ><span class=\"plain  rtl  \" ><span class=\"plain  rtl\"></span><span class=\"plain  rtl  \" ><span class=\"txtu hbo\">נִפְקְח֖וּ </span></span></span></span></td><td class=\"tf\"><span class=\"plain  hlbx\"  style=\"border-color: magenta;\" ><span class=\"plain  rtl  \" ><span class=\"plain  rtl\"></span><span class=\"plain  rtl  \" ><span class=\"plain  rtl\"></span><span class=\"plain  rtl  \" ><span class=\"txtu hbo\">וִ</span></span></span><span class=\"plain  rtl  \" ><span class=\"plain  rtl\"></span><span class=\"plain  rtl  \" ><span class=\"txtu hbo\">הְיִיתֶם֙ </span></span></span><span class=\"plain  rtl  \" ><span class=\"plain  rtl\"></span><span class=\"plain  rtl  \" ><span class=\"txtu hbo\">כֵּֽ</span></span><span class=\"plain  rtl  \" ><span class=\"txtu hbo\">אלֹהִ֔ים </span></span></span></span></span></td></tr>\n",
       "<tr class=\"tf\"><td class=\"tf\">3</td><td class=\"tf\"><span class=\"section ltr\"><a target=\"_blank\" href=\"https://shebanq.ancient-data.org/hebrew/text?book=Genesis&amp;chapter=3&amp;verse=5&amp;version=2017&amp;mr=m&amp;qw=q&amp;tp=txt_p&amp;tr=hb&amp;wget=v&amp;qget=v&amp;nget=vt\" title=\"Show this on SHEBANQ\" sec=\"Genesis 3:5\">Genesis 3:5</a></span></td><td class=\"tf\"><span class=\"plain  hlbx\" ><span class=\"plain  rtl  \" ><span class=\"plain  rtl\"></span><span class=\"plain  rtl  \" ><span class=\"plain  rtl\"></span><span class=\"plain  rtl  \" ><span class=\"plain  rtl\"></span><span class=\"plain  rtl  \" ><span class=\"txtu hbo\">כִּ֚י </span></span></span><span class=\"plain  rtl  \" ><span class=\"plain  rtl\"></span><span class=\"plain  rtl  \" ><span class=\"txtu hbo\">יֹדֵ֣עַ </span></span></span><span class=\"plain  rtl  \" ><span class=\"plain  rtl\"></span><span class=\"plain  rtl  \" ><span class=\"txtu hbo\">אֱלֹהִ֔ים </span></span></span></span><span class=\"plain  rtl  \" ><span class=\"plain  rtl\"></span><span class=\"plain  rtl  \" ><span class=\"plain  rtl\"></span><span class=\"plain  rtl  \" ><span class=\"txtu hbo\">כִּ֗י </span></span></span><span class=\"plain  rtl  \" ><span class=\"plain  rtl\"></span><span class=\"plain  rtl  \" ><span class=\"txtu hbo\">בְּ</span></span><span class=\"plain  rtl  \" ><span class=\"txtu hbo\">יֹום֙ </span></span></span></span><span class=\"plain  hlbx\"  style=\"border-color: lightyellow;\" ><span class=\"plain  rtl  \" ><span class=\"plain  rtl\"></span><span class=\"plain  rtl  \" ><span class=\"plain  rtl\"></span><span class=\"plain  rtl  \" ><span class=\"txtu hbo\">אֲכָלְכֶ֣ם </span></span></span><span class=\"plain  rtl  \" ><span class=\"plain  rtl\"></span><span class=\"plain  rtl  \" ><span class=\"txtu hbo\">מִמֶּ֔נּוּ </span></span></span></span></span><span class=\"plain  rtl  \" ><span class=\"plain  rtl\"></span><span class=\"plain  rtl  \" ><span class=\"plain  rtl\"></span><span class=\"plain  rtl  \" ><span class=\"txtu hbo\">וְ</span></span></span><span class=\"plain  hl\"  style=\"background-color: cyan;\" ><span class=\"plain  rtl  \" ><span class=\"plain  rtl\"></span><span class=\"plain  rtl  \" ><span class=\"txtu hbo\">נִפְקְח֖וּ </span></span></span></span><span class=\"plain  rtl  \" ><span class=\"plain  rtl\"></span><span class=\"plain  rtl  \" ><span class=\"txtu hbo\">עֵֽינֵיכֶ֑ם </span></span></span></span><span class=\"plain  hlbx\"  style=\"border-color: magenta;\" ><span class=\"plain  rtl  \" ><span class=\"plain  rtl\"></span><span class=\"plain  rtl  \" ><span class=\"plain  rtl\"></span><span class=\"plain  rtl  \" ><span class=\"txtu hbo\">וִ</span></span></span><span class=\"plain  rtl  \" ><span class=\"plain  rtl\"></span><span class=\"plain  rtl  \" ><span class=\"txtu hbo\">הְיִיתֶם֙ </span></span></span><span class=\"plain  rtl  \" ><span class=\"plain  rtl\"></span><span class=\"plain  rtl  \" ><span class=\"txtu hbo\">כֵּֽ</span></span><span class=\"plain  rtl  \" ><span class=\"txtu hbo\">אלֹהִ֔ים </span></span></span></span></span><span class=\"plain  rtl  \" ><span class=\"plain  rtl\"></span><span class=\"plain  rtl  \" ><span class=\"plain  rtl\"></span><span class=\"plain  rtl  \" ><span class=\"txtu hbo\">יֹדְעֵ֖י </span></span><span class=\"plain  rtl  \" ><span class=\"txtu hbo\">טֹ֥וב </span></span><span class=\"plain  rtl  \" ><span class=\"txtu hbo\">וָ</span></span><span class=\"plain  rtl  \" ><span class=\"txtu hbo\">רָֽע׃ </span></span></span></span></span></span></td><td class=\"tf\"><span class=\"plain  hlbx\"  style=\"border-color: lightyellow;\" ><span class=\"plain  rtl  \" ><span class=\"plain  rtl\"></span><span class=\"plain  rtl  \" ><span class=\"plain  rtl\"></span><span class=\"plain  rtl  \" ><span class=\"txtu hbo\">אֲכָלְכֶ֣ם </span></span></span><span class=\"plain  rtl  \" ><span class=\"plain  rtl\"></span><span class=\"plain  rtl  \" ><span class=\"txtu hbo\">מִמֶּ֔נּוּ </span></span></span></span></span></td><td class=\"tf\"><span class=\"plain  hl\"  style=\"background-color: cyan;\" ><span class=\"plain  rtl  \" ><span class=\"plain  rtl\"></span><span class=\"plain  rtl  \" ><span class=\"txtu hbo\">נִפְקְח֖וּ </span></span></span></span></td><td class=\"tf\"><span class=\"plain  hlbx\"  style=\"border-color: magenta;\" ><span class=\"plain  rtl  \" ><span class=\"plain  rtl\"></span><span class=\"plain  rtl  \" ><span class=\"plain  rtl\"></span><span class=\"plain  rtl  \" ><span class=\"txtu hbo\">וִ</span></span></span><span class=\"plain  rtl  \" ><span class=\"plain  rtl\"></span><span class=\"plain  rtl  \" ><span class=\"txtu hbo\">הְיִיתֶם֙ </span></span></span><span class=\"plain  rtl  \" ><span class=\"plain  rtl\"></span><span class=\"plain  rtl  \" ><span class=\"txtu hbo\">כֵּֽ</span></span><span class=\"plain  rtl  \" ><span class=\"txtu hbo\">אלֹהִ֔ים </span></span></span></span></span></td></tr>\n",
       "<tr class=\"tf\"><td class=\"tf\">4</td><td class=\"tf\"><span class=\"section ltr\"><a target=\"_blank\" href=\"https://shebanq.ancient-data.org/hebrew/text?book=Genesis&amp;chapter=3&amp;verse=12&amp;version=2017&amp;mr=m&amp;qw=q&amp;tp=txt_p&amp;tr=hb&amp;wget=v&amp;qget=v&amp;nget=vt\" title=\"Show this on SHEBANQ\" sec=\"Genesis 3:12\">Genesis 3:12</a></span></td><td class=\"tf\"><span class=\"plain  hlbx\" ><span class=\"plain  rtl  \" ><span class=\"plain  rtl\"></span><span class=\"plain  hlbx\"  style=\"border-color: lightyellow;\" ><span class=\"plain  rtl  \" ><span class=\"plain  rtl\"></span><span class=\"plain  rtl  \" ><span class=\"plain  rtl\"></span><span class=\"plain  rtl  \" ><span class=\"txtu hbo\">הָֽ</span></span><span class=\"plain  rtl  \" ><span class=\"txtu hbo\">אִשָּׁה֙ </span></span></span></span></span><span class=\"plain  rtl  \" ><span class=\"plain  rtl\"></span><span class=\"plain  rtl  \" ><span class=\"plain  rtl\"></span><span class=\"plain  rtl  \" ><span class=\"txtu hbo\">אֲשֶׁ֣ר </span></span></span><span class=\"plain  rtl  \" ><span class=\"plain  rtl\"></span><span class=\"plain  rtl  \" ><span class=\"txtu hbo\">נָתַ֣תָּה </span></span></span><span class=\"plain  hl\"  style=\"background-color: cyan;\" ><span class=\"plain  rtl  \" ><span class=\"plain  rtl\"></span><span class=\"plain  rtl  \" ><span class=\"txtu hbo\">עִמָּדִ֔י </span></span></span></span></span><span class=\"plain  rtl  \" ><span class=\"plain  rtl\"></span><span class=\"plain  rtl  \" ><span class=\"plain  rtl\"></span><span class=\"plain  rtl  \" ><span class=\"txtu hbo\">הִ֛וא </span></span></span><span class=\"plain  rtl  \" ><span class=\"plain  rtl\"></span><span class=\"plain  rtl  \" ><span class=\"txtu hbo\">נָֽתְנָה־</span></span></span><span class=\"plain  rtl  \" ><span class=\"plain  rtl\"></span><span class=\"plain  rtl  \" ><span class=\"txtu hbo\">לִּ֥י </span></span></span><span class=\"plain  rtl  \" ><span class=\"plain  rtl\"></span><span class=\"plain  rtl  \" ><span class=\"txtu hbo\">מִן־</span></span><span class=\"plain  rtl  \" ><span class=\"txtu hbo\">הָ</span></span><span class=\"plain  rtl  \" ><span class=\"txtu hbo\">עֵ֖ץ </span></span></span></span><span class=\"plain  hlbx\"  style=\"border-color: magenta;\" ><span class=\"plain  rtl  \" ><span class=\"plain  rtl\"></span><span class=\"plain  rtl  \" ><span class=\"plain  rtl\"></span><span class=\"plain  rtl  \" ><span class=\"txtu hbo\">וָ</span></span></span><span class=\"plain  rtl  \" ><span class=\"plain  rtl\"></span><span class=\"plain  rtl  \" ><span class=\"txtu hbo\">אֹכֵֽל׃ </span></span></span></span></span></span></span></td><td class=\"tf\"><span class=\"plain  hlbx\"  style=\"border-color: lightyellow;\" ><span class=\"plain  rtl  \" ><span class=\"plain  rtl\"></span><span class=\"plain  rtl  \" ><span class=\"plain  rtl\"></span><span class=\"plain  rtl  \" ><span class=\"txtu hbo\">הָֽ</span></span><span class=\"plain  rtl  \" ><span class=\"txtu hbo\">אִשָּׁה֙ </span></span></span></span></span></td><td class=\"tf\"><span class=\"plain  hl\"  style=\"background-color: cyan;\" ><span class=\"plain  rtl  \" ><span class=\"plain  rtl\"></span><span class=\"plain  rtl  \" ><span class=\"txtu hbo\">עִמָּדִ֔י </span></span></span></span></td><td class=\"tf\"><span class=\"plain  hlbx\"  style=\"border-color: magenta;\" ><span class=\"plain  rtl  \" ><span class=\"plain  rtl\"></span><span class=\"plain  rtl  \" ><span class=\"plain  rtl\"></span><span class=\"plain  rtl  \" ><span class=\"txtu hbo\">וָ</span></span></span><span class=\"plain  rtl  \" ><span class=\"plain  rtl\"></span><span class=\"plain  rtl  \" ><span class=\"txtu hbo\">אֹכֵֽל׃ </span></span></span></span></span></td></tr>\n",
       "<tr class=\"tf\"><td class=\"tf\">5</td><td class=\"tf\"><span class=\"section ltr\"><a target=\"_blank\" href=\"https://shebanq.ancient-data.org/hebrew/text?book=Genesis&amp;chapter=14&amp;verse=17&amp;version=2017&amp;mr=m&amp;qw=q&amp;tp=txt_p&amp;tr=hb&amp;wget=v&amp;qget=v&amp;nget=vt\" title=\"Show this on SHEBANQ\" sec=\"Genesis 14:17\">Genesis 14:17</a></span></td><td class=\"tf\"><span class=\"plain  hlbx\" ><span class=\"plain  rtl  \" ><span class=\"plain  rtl\"></span><span class=\"plain  rtl  \" ><span class=\"plain  rtl\"></span><span class=\"plain  rtl  \" ><span class=\"plain  rtl\"></span><span class=\"plain  rtl  \" ><span class=\"txtu hbo\">וַ</span></span></span><span class=\"plain  rtl  \" ><span class=\"plain  rtl\"></span><span class=\"plain  rtl  \" ><span class=\"txtu hbo\">יֵּצֵ֣א </span></span></span><span class=\"plain  rtl  \" ><span class=\"plain  rtl\"></span><span class=\"plain  rtl  \" ><span class=\"txtu hbo\">מֶֽלֶךְ־</span></span><span class=\"plain  rtl  \" ><span class=\"txtu hbo\">סְדֹם֮ </span></span></span></span><span class=\"plain  rtl  \" ><span class=\"plain  rtl\"></span><span class=\"plain  rtl  \" ><span class=\"plain  rtl\"></span><span class=\"plain  rtl  \" ><span class=\"txtu hbo\">לִ</span></span><span class=\"plain  rtl  \" ><span class=\"txtu hbo\">קְרָאתֹו֒ </span></span></span></span><span class=\"plain  hlbx\"  style=\"border-color: lightyellow;\" ><span class=\"plain  rtl  \" ><span class=\"plain  rtl\"></span><span class=\"plain  rtl  \" ><span class=\"plain  rtl\"></span><span class=\"plain  rtl  \" ><span class=\"txtu hbo\">אַחֲרֵ֣י </span></span><span class=\"plain  rtl  \" ><span class=\"txtu hbo\">שׁוּבֹ֗ו </span></span></span></span></span><span class=\"plain  rtl  \" ><span class=\"plain  rtl\"></span><span class=\"plain  rtl  \" ><span class=\"plain  rtl\"></span><span class=\"plain  rtl  \" ><span class=\"txtu hbo\">מֵֽ</span></span><span class=\"plain  rtl  \" ><span class=\"txtu hbo\">הַכֹּות֙ </span></span></span><span class=\"plain  hl\"  style=\"background-color: cyan;\" ><span class=\"plain  rtl  \" ><span class=\"plain  rtl\"></span><span class=\"plain  rtl  \" ><span class=\"txtu hbo\">אֶת־</span></span><span class=\"plain  rtl  \" ><span class=\"txtu hbo\">כְּדָר־לָעֹ֔מֶר </span></span><span class=\"plain  rtl  \" ><span class=\"txtu hbo\">וְ</span></span><span class=\"plain  rtl  \" ><span class=\"txtu hbo\">אֶת־</span></span><span class=\"plain  rtl  \" ><span class=\"txtu hbo\">הַ</span></span><span class=\"plain  rtl  \" ><span class=\"txtu hbo\">מְּלָכִ֖ים </span></span></span></span></span><span class=\"plain  hlbx\"  style=\"border-color: magenta;\" ><span class=\"plain  rtl  \" ><span class=\"plain  rtl\"></span><span class=\"plain  rtl  \" ><span class=\"plain  rtl\"></span><span class=\"plain  rtl  \" ><span class=\"txtu hbo\">אֲשֶׁ֣ר </span></span></span><span class=\"plain  rtl  \" ><span class=\"plain  rtl\"></span><span class=\"plain  rtl  \" ><span class=\"txtu hbo\">אִתֹּ֑ו </span></span></span></span></span><span class=\"plain  rtl  \" ><span class=\"plain  rtl\"></span><span class=\"plain  rtl  \" ><span class=\"plain  rtl\"></span><span class=\"plain  rtl  \" ><span class=\"txtu hbo\">אֶל־</span></span><span class=\"plain  rtl  \" ><span class=\"txtu hbo\">עֵ֣מֶק </span></span><span class=\"plain  rtl  \" ><span class=\"txtu hbo\">שָׁוֵ֔ה </span></span></span></span></span></span></td><td class=\"tf\"><span class=\"plain  hlbx\"  style=\"border-color: lightyellow;\" ><span class=\"plain  rtl  \" ><span class=\"plain  rtl\"></span><span class=\"plain  rtl  \" ><span class=\"plain  rtl\"></span><span class=\"plain  rtl  \" ><span class=\"txtu hbo\">אַחֲרֵ֣י </span></span><span class=\"plain  rtl  \" ><span class=\"txtu hbo\">שׁוּבֹ֗ו </span></span></span></span></span></td><td class=\"tf\"><span class=\"plain  hl\"  style=\"background-color: cyan;\" ><span class=\"plain  rtl  \" ><span class=\"plain  rtl\"></span><span class=\"plain  rtl  \" ><span class=\"txtu hbo\">אֶת־</span></span><span class=\"plain  rtl  \" ><span class=\"txtu hbo\">כְּדָר־לָעֹ֔מֶר </span></span><span class=\"plain  rtl  \" ><span class=\"txtu hbo\">וְ</span></span><span class=\"plain  rtl  \" ><span class=\"txtu hbo\">אֶת־</span></span><span class=\"plain  rtl  \" ><span class=\"txtu hbo\">הַ</span></span><span class=\"plain  rtl  \" ><span class=\"txtu hbo\">מְּלָכִ֖ים </span></span></span></span></td><td class=\"tf\"><span class=\"plain  hlbx\"  style=\"border-color: magenta;\" ><span class=\"plain  rtl  \" ><span class=\"plain  rtl\"></span><span class=\"plain  rtl  \" ><span class=\"plain  rtl\"></span><span class=\"plain  rtl  \" ><span class=\"txtu hbo\">אֲשֶׁ֣ר </span></span></span><span class=\"plain  rtl  \" ><span class=\"plain  rtl\"></span><span class=\"plain  rtl  \" ><span class=\"txtu hbo\">אִתֹּ֑ו </span></span></span></span></span></td></tr></table>"
      ],
      "text/plain": [
       "<IPython.core.display.HTML object>"
      ]
     },
     "metadata": {},
     "output_type": "display_data"
    },
    {
     "data": {
      "text/html": [
       "<p><b>result</b> <i>1</i></p>"
      ],
      "text/plain": [
       "<IPython.core.display.HTML object>"
      ]
     },
     "metadata": {},
     "output_type": "display_data"
    },
    {
     "data": {
      "text/html": [
       "<span class=\"section ltr\"><a target=\"_blank\" href=\"https://shebanq.ancient-data.org/hebrew/text?book=Genesis&amp;chapter=3&amp;verse=5&amp;version=2017&amp;mr=m&amp;qw=q&amp;tp=txt_p&amp;tr=hb&amp;wget=v&amp;qget=v&amp;nget=vt\" title=\"Show this on SHEBANQ\" sec=\"Genesis 3:5\">Genesis 3:5</a> </span><div class=\"contnr c3  rtl  \" ><div class=\"lbl c3  \" ><span class=\"nd\">verse</span></div> <div class='features'><span class=\"otype xft\" ><span class=\"f\">otype=</span>verse</span></div><div class=\"children row wrap rtl\"><div class=\"contnr c2  rtl  hl\" ><div class=\"lbl c2  hl\" ><span class=\"nd\">sentence</span></div> <div class='features'><span class=\"otype xft\" ><span class=\"f\">otype=</span>sentence</span></div><div class=\"children row wrap rtl\"><div class=\"contnr cnul trm rtl  \" ><div class=\"children row wrap rtl\"><div class=\"contnr c2  rtl  hl\"  style=\"background-color: lightyellow;\" ><div class=\"lbl c2  hl\"  style=\"background-color: lightyellow;\" ><span class=\"nd\">clause</span></div> <div class='features'><span class=\"otype xft\" ><span class=\"f\">otype=</span>clause</span></div><div class=\"children row wrap rtl\"><div class=\"contnr cnul trm rtl  \" ><div class=\"children row wrap rtl\"><div class=\"contnr c1 trm rtl  \" ><div class=\"lbl c1 trm \" ><span class=\"nd\">phrase</span> <span class=\"\"><span class=\"plain  rtl  \" ><span class=\"plain  rtl\"></span><span class=\"plain  rtl  \" ><span class=\"txtu hbo\">כִּ֚י </span></span></span></span></div> <div class='features'><span class=\"otype xft\" ><span class=\"f\">otype=</span>phrase</span></div><div class=\"children row wrap rtl\"><div class=\"contnr cnul trm rtl  \" ></div></div></div><div class=\"contnr c1 trm rtl  \" ><div class=\"lbl c1 trm \" ><span class=\"nd\">phrase</span> <span class=\"\"><span class=\"plain  rtl  \" ><span class=\"plain  rtl\"></span><span class=\"plain  rtl  \" ><span class=\"txtu hbo\">יֹדֵ֣עַ </span></span></span></span></div> <div class='features'><span class=\"otype xft\" ><span class=\"f\">otype=</span>phrase</span></div><div class=\"children row wrap rtl\"><div class=\"contnr cnul trm rtl  \" ></div></div></div><div class=\"contnr c1 trm rtl  \" ><div class=\"lbl c1 trm \" ><span class=\"nd\">phrase</span> <span class=\"\"><span class=\"plain  rtl  \" ><span class=\"plain  rtl\"></span><span class=\"plain  rtl  \" ><span class=\"txtu hbo\">אֱלֹהִ֔ים </span></span></span></span></div> <div class='features'><span class=\"otype xft\" ><span class=\"f\">otype=</span>phrase</span></div><div class=\"children row wrap rtl\"><div class=\"contnr cnul trm rtl  \" ></div></div></div></div></div></div></div><div class=\"contnr c2  rtl  \" ><div class=\"lbl c2  \" ><span class=\"nd\">clause</span></div> <div class='features'><span class=\"otype xft\" ><span class=\"f\">otype=</span>clause</span></div><div class=\"children row wrap rtl\"><div class=\"contnr cnul trm rtl  \" ><div class=\"children row wrap rtl\"><div class=\"contnr c1 trm rtl  \" ><div class=\"lbl c1 trm \" ><span class=\"nd\">phrase</span> <span class=\"\"><span class=\"plain  rtl  \" ><span class=\"plain  rtl\"></span><span class=\"plain  rtl  \" ><span class=\"txtu hbo\">כִּ֗י </span></span></span></span></div> <div class='features'><span class=\"otype xft\" ><span class=\"f\">otype=</span>phrase</span></div><div class=\"children row wrap rtl\"><div class=\"contnr cnul trm rtl  \" ></div></div></div><div class=\"contnr c1 trm rtl  \" ><div class=\"lbl c1 trm \" ><span class=\"nd\">phrase</span> <span class=\"\"><span class=\"plain  rtl  \" ><span class=\"plain  rtl\"></span><span class=\"plain  rtl  \" ><span class=\"txtu hbo\">בְּ</span></span><span class=\"plain  rtl  \" ><span class=\"txtu hbo\">יֹום֙ </span></span></span></span></div> <div class='features'><span class=\"otype xft\" ><span class=\"f\">otype=</span>phrase</span></div><div class=\"children row wrap rtl\"><div class=\"contnr cnul trm rtl  \" ></div></div></div></div></div></div></div><div class=\"contnr c2  rtl  \" ><div class=\"lbl c2  \" ><span class=\"nd\">clause</span></div> <div class='features'><span class=\"otype xft\" ><span class=\"f\">otype=</span>clause</span></div><div class=\"children row wrap rtl\"><div class=\"contnr cnul trm rtl  \" ><div class=\"children row wrap rtl\"><div class=\"contnr c1 trm rtl  \" ><div class=\"lbl c1 trm \" ><span class=\"nd\">phrase</span> <span class=\"\"><span class=\"plain  rtl  \" ><span class=\"plain  rtl\"></span><span class=\"plain  rtl  \" ><span class=\"txtu hbo\">אֲכָלְכֶ֣ם </span></span></span></span></div> <div class='features'><span class=\"otype xft\" ><span class=\"f\">otype=</span>phrase</span></div><div class=\"children row wrap rtl\"><div class=\"contnr cnul trm rtl  \" ></div></div></div><div class=\"contnr c1 trm rtl  \" ><div class=\"lbl c1 trm \" ><span class=\"nd\">phrase</span> <span class=\"\"><span class=\"plain  rtl  \" ><span class=\"plain  rtl\"></span><span class=\"plain  rtl  \" ><span class=\"txtu hbo\">מִמֶּ֔נּוּ </span></span></span></span></div> <div class='features'><span class=\"otype xft\" ><span class=\"f\">otype=</span>phrase</span></div><div class=\"children row wrap rtl\"><div class=\"contnr cnul trm rtl  \" ></div></div></div></div></div></div></div><div class=\"contnr c2  rtl  \" ><div class=\"lbl c2  \" ><span class=\"nd\">clause</span></div> <div class='features'><span class=\"otype xft\" ><span class=\"f\">otype=</span>clause</span></div><div class=\"children row wrap rtl\"><div class=\"contnr cnul trm rtl  \" ><div class=\"children row wrap rtl\"><div class=\"contnr c1 trm rtl  \" ><div class=\"lbl c1 trm \" ><span class=\"nd\">phrase</span> <span class=\"\"><span class=\"plain  rtl  \" ><span class=\"plain  rtl\"></span><span class=\"plain  rtl  \" ><span class=\"txtu hbo\">וְ</span></span></span></span></div> <div class='features'><span class=\"otype xft\" ><span class=\"f\">otype=</span>phrase</span></div><div class=\"children row wrap rtl\"><div class=\"contnr cnul trm rtl  \" ></div></div></div><div class=\"contnr c1 trm rtl  hl\"  style=\"background-color: cyan;\" ><div class=\"lbl c1 trm \" ><span class=\"nd\">phrase</span> <span class=\"\"><span class=\"plain  hl\"  style=\"background-color: cyan;\" ><span class=\"plain  rtl  \" ><span class=\"plain  rtl\"></span><span class=\"plain  rtl  \" ><span class=\"txtu hbo\">נִפְקְח֖וּ </span></span></span></span></span></div> <div class='features'><span class=\"otype xft\" ><span class=\"f\">otype=</span>phrase</span></div><div class=\"children row wrap rtl\"><div class=\"contnr cnul trm rtl  \" ></div></div></div><div class=\"contnr c1 trm rtl  \" ><div class=\"lbl c1 trm \" ><span class=\"nd\">phrase</span> <span class=\"\"><span class=\"plain  rtl  \" ><span class=\"plain  rtl\"></span><span class=\"plain  rtl  \" ><span class=\"txtu hbo\">עֵֽינֵיכֶ֑ם </span></span></span></span></div> <div class='features'><span class=\"otype xft\" ><span class=\"f\">otype=</span>phrase</span></div><div class=\"children row wrap rtl\"><div class=\"contnr cnul trm rtl  \" ></div></div></div></div></div></div></div><div class=\"contnr c2  rtl  hl\"  style=\"background-color: magenta;\" ><div class=\"lbl c2  hl\"  style=\"background-color: magenta;\" ><span class=\"nd\">clause</span></div> <div class='features'><span class=\"otype xft\" ><span class=\"f\">otype=</span>clause</span></div><div class=\"children row wrap rtl\"><div class=\"contnr cnul trm rtl  \" ><div class=\"children row wrap rtl\"><div class=\"contnr c1 trm rtl  \" ><div class=\"lbl c1 trm \" ><span class=\"nd\">phrase</span> <span class=\"\"><span class=\"plain  rtl  \" ><span class=\"plain  rtl\"></span><span class=\"plain  rtl  \" ><span class=\"txtu hbo\">וִ</span></span></span></span></div> <div class='features'><span class=\"otype xft\" ><span class=\"f\">otype=</span>phrase</span></div><div class=\"children row wrap rtl\"><div class=\"contnr cnul trm rtl  \" ></div></div></div><div class=\"contnr c1 trm rtl  \" ><div class=\"lbl c1 trm \" ><span class=\"nd\">phrase</span> <span class=\"\"><span class=\"plain  rtl  \" ><span class=\"plain  rtl\"></span><span class=\"plain  rtl  \" ><span class=\"txtu hbo\">הְיִיתֶם֙ </span></span></span></span></div> <div class='features'><span class=\"otype xft\" ><span class=\"f\">otype=</span>phrase</span></div><div class=\"children row wrap rtl\"><div class=\"contnr cnul trm rtl  \" ></div></div></div><div class=\"contnr c1 trm rtl  \" ><div class=\"lbl c1 trm \" ><span class=\"nd\">phrase</span> <span class=\"\"><span class=\"plain  rtl  \" ><span class=\"plain  rtl\"></span><span class=\"plain  rtl  \" ><span class=\"txtu hbo\">כֵּֽ</span></span><span class=\"plain  rtl  \" ><span class=\"txtu hbo\">אלֹהִ֔ים </span></span></span></span></div> <div class='features'><span class=\"otype xft\" ><span class=\"f\">otype=</span>phrase</span></div><div class=\"children row wrap rtl\"><div class=\"contnr cnul trm rtl  \" ></div></div></div></div></div></div></div><div class=\"contnr c2  rtl  \" ><div class=\"lbl c2  \" ><span class=\"nd\">clause</span></div> <div class='features'><span class=\"otype xft\" ><span class=\"f\">otype=</span>clause</span></div><div class=\"children row wrap rtl\"><div class=\"contnr cnul trm rtl  \" ><div class=\"children row wrap rtl\"><div class=\"contnr c1 trm rtl  \" ><div class=\"lbl c1 trm \" ><span class=\"nd\">phrase</span> <span class=\"\"><span class=\"plain  rtl  \" ><span class=\"plain  rtl\"></span><span class=\"plain  rtl  \" ><span class=\"txtu hbo\">יֹדְעֵ֖י </span></span><span class=\"plain  rtl  \" ><span class=\"txtu hbo\">טֹ֥וב </span></span><span class=\"plain  rtl  \" ><span class=\"txtu hbo\">וָ</span></span><span class=\"plain  rtl  \" ><span class=\"txtu hbo\">רָֽע׃ </span></span></span></span></div> <div class='features'><span class=\"otype xft\" ><span class=\"f\">otype=</span>phrase</span></div><div class=\"children row wrap rtl\"><div class=\"contnr cnul trm rtl  \" ></div></div></div></div></div></div></div></div></div></div></div></div></div>"
      ],
      "text/plain": [
       "<IPython.core.display.HTML object>"
      ]
     },
     "metadata": {},
     "output_type": "display_data"
    }
   ],
   "source": [
    "indent(reset=True)\n",
    "query = '''\n",
    "sentence\n",
    "  c1:common otype=clause\n",
    "  p:rare otype=phrase\n",
    "  c2:common otype=clause\n",
    "  c1 << p\n",
    "  c2 >> p\n",
    "'''\n",
    "resultsCustom = A.search(query, sets=customSets)\n",
    "A.table(resultsCustom, end=5, baseTypes=\"phrase\", colorMap=colorMap)\n",
    "A.show(resultsCustom, condensed=False, baseTypes=\"phrase\", start=1, end=1, colorMap=colorMap)\n",
    "info('Done')"
   ]
  },
  {
   "cell_type": "markdown",
   "metadata": {},
   "source": [
    "## =: same start slots\n",
    "This relation holds when the left and right hand sides are nodes that have the same first slot.\n",
    "It serves to enforce the the children of a parent are textually the first things inside that\n",
    "parent. We have seen it in action before.\n",
    "\n",
    "## := same end slots\n",
    "This relation holds when the left and right hand sides are nodes that have the same last slot\n",
    "It serves to enforce the the children of a parent are textually the last things inside that\n",
    "parent. We have seen it in action before.\n",
    "\n",
    "## :: same boundary slots\n",
    "This relation holds when `=:` and `:=` both hold between the left and right hand sides.\n",
    "It serves to look for parents with single children, or at least, where the parent is textually spanned by a single child."
   ]
  },
  {
   "cell_type": "markdown",
   "metadata": {},
   "source": [
    "Let us look for a phrase, whose start and end slots coincide with its containing clause.\n",
    "But only if the phrase does not conincide with its parent clause."
   ]
  },
  {
   "cell_type": "code",
   "execution_count": 46,
   "metadata": {
    "ExecuteTime": {
     "end_time": "2018-05-24T09:31:17.618695Z",
     "start_time": "2018-05-24T09:31:17.079362Z"
    }
   },
   "outputs": [
    {
     "name": "stdout",
     "output_type": "stream",
     "text": [
      "  0.36s 54 results\n"
     ]
    },
    {
     "data": {
      "text/html": [
       "<table><tr class=\"tf\"><th class=\"tf\">n</th><th class=\"tf\">p</th><th class=\"tf\">clause</th><th class=\"tf\">phrase</th></tr>\n",
       "<tr class=\"tf\"><td class=\"tf\">1</td><td class=\"tf\"><span class=\"section ltr\"><a target=\"_blank\" href=\"https://shebanq.ancient-data.org/hebrew/text?book=Genesis&amp;chapter=10&amp;verse=21&amp;version=2017&amp;mr=m&amp;qw=q&amp;tp=txt_p&amp;tr=hb&amp;wget=v&amp;qget=v&amp;nget=vt\" title=\"Show this on SHEBANQ\" sec=\"Genesis 10:21\">Genesis 10:21</a></span></td><td class=\"tf\"><span class=\"plain  hlbx\" ><span class=\"plain  rtl  \" ><span class=\"plain  rtl\"></span><span class=\"plain  l hl\" ><span class=\"plain  rtl  \" ><span class=\"plain  rtl\"></span><span class=\"plain  rtl  \" ><span class=\"txtu hbo\">גַּם־</span></span><span class=\"plain  rtl  \" ><span class=\"txtu hbo\">ה֑וּא </span></span></span></span><span class=\"plain  rtl  \" ><span class=\"plain  rtl\"></span><span class=\"plain  rtl  \" ><span class=\"txtu hbo\">אֲבִי֙ </span></span><span class=\"plain  rtl  \" ><span class=\"txtu hbo\">כָּל־</span></span><span class=\"plain  rtl  \" ><span class=\"txtu hbo\">בְּנֵי־</span></span><span class=\"plain  rtl  \" ><span class=\"txtu hbo\">עֵ֔בֶר </span></span></span><span class=\"plain  r hl\" ><span class=\"plain  rtl  \" ><span class=\"plain  rtl\"></span><span class=\"plain  rtl  \" ><span class=\"txtu hbo\">אֲחִ֖י </span></span><span class=\"plain  rtl  \" ><span class=\"txtu hbo\">יֶ֥פֶת </span></span><span class=\"plain  rtl  \" ><span class=\"txtu hbo\">הַ</span></span><span class=\"plain  rtl  \" ><span class=\"txtu hbo\">גָּדֹֽול׃ </span></span></span></span></span></span></td><td class=\"tf\"><span class=\"plain  l hl\" ><span class=\"plain  rtl  \" ><span class=\"plain  rtl\"></span><span class=\"plain  rtl  \" ><span class=\"txtu hbo\">גַּם־</span></span><span class=\"plain  rtl  \" ><span class=\"txtu hbo\">ה֑וּא </span></span></span></span><span class=\"plain  r hl\" ><span class=\"plain  rtl  \" ><span class=\"plain  rtl\"></span><span class=\"plain  rtl  \" ><span class=\"txtu hbo\">אֲחִ֖י </span></span><span class=\"plain  rtl  \" ><span class=\"txtu hbo\">יֶ֥פֶת </span></span><span class=\"plain  rtl  \" ><span class=\"txtu hbo\">הַ</span></span><span class=\"plain  rtl  \" ><span class=\"txtu hbo\">גָּדֹֽול׃ </span></span></span></span></td></tr>\n",
       "<tr class=\"tf\"><td class=\"tf\">2</td><td class=\"tf\"><span class=\"section ltr\"><a target=\"_blank\" href=\"https://shebanq.ancient-data.org/hebrew/text?book=Genesis&amp;chapter=24&amp;verse=24&amp;version=2017&amp;mr=m&amp;qw=q&amp;tp=txt_p&amp;tr=hb&amp;wget=v&amp;qget=v&amp;nget=vt\" title=\"Show this on SHEBANQ\" sec=\"Genesis 24:24\">Genesis 24:24</a></span></td><td class=\"tf\"><span class=\"plain  hlbx\" ><span class=\"plain  rtl  \" ><span class=\"plain  rtl\"></span><span class=\"plain  l hl\" ><span class=\"plain  rtl  \" ><span class=\"plain  rtl\"></span><span class=\"plain  rtl  \" ><span class=\"txtu hbo\">בַּת־</span></span><span class=\"plain  rtl  \" ><span class=\"txtu hbo\">בְּתוּאֵ֖ל </span></span></span></span><span class=\"plain  rtl  \" ><span class=\"plain  rtl\"></span><span class=\"plain  rtl  \" ><span class=\"txtu hbo\">אָנֹ֑כִי </span></span></span><span class=\"plain  r hl\" ><span class=\"plain  rtl  \" ><span class=\"plain  rtl\"></span><span class=\"plain  rtl  \" ><span class=\"txtu hbo\">בֶּן־</span></span><span class=\"plain  rtl  \" ><span class=\"txtu hbo\">מִלְכָּ֕ה </span></span></span></span></span></span></td><td class=\"tf\"><span class=\"plain  l hl\" ><span class=\"plain  rtl  \" ><span class=\"plain  rtl\"></span><span class=\"plain  rtl  \" ><span class=\"txtu hbo\">בַּת־</span></span><span class=\"plain  rtl  \" ><span class=\"txtu hbo\">בְּתוּאֵ֖ל </span></span></span></span><span class=\"plain  r hl\" ><span class=\"plain  rtl  \" ><span class=\"plain  rtl\"></span><span class=\"plain  rtl  \" ><span class=\"txtu hbo\">בֶּן־</span></span><span class=\"plain  rtl  \" ><span class=\"txtu hbo\">מִלְכָּ֕ה </span></span></span></span></td></tr>\n",
       "<tr class=\"tf\"><td class=\"tf\">3</td><td class=\"tf\"><span class=\"section ltr\"><a target=\"_blank\" href=\"https://shebanq.ancient-data.org/hebrew/text?book=Genesis&amp;chapter=31&amp;verse=16&amp;version=2017&amp;mr=m&amp;qw=q&amp;tp=txt_p&amp;tr=hb&amp;wget=v&amp;qget=v&amp;nget=vt\" title=\"Show this on SHEBANQ\" sec=\"Genesis 31:16\">Genesis 31:16</a></span></td><td class=\"tf\"><span class=\"plain  hlbx\" ><span class=\"plain  rtl  \" ><span class=\"plain  rtl\"></span><span class=\"plain  l hl\" ><span class=\"plain  rtl  \" ><span class=\"plain  rtl\"></span><span class=\"plain  rtl  \" ><span class=\"txtu hbo\">לָ֥נוּ </span></span></span></span><span class=\"plain  rtl  \" ><span class=\"plain  rtl\"></span><span class=\"plain  rtl  \" ><span class=\"txtu hbo\">ה֖וּא </span></span></span><span class=\"plain  r l hl\" ><span class=\"plain  rtl  \" ><span class=\"plain  rtl\"></span><span class=\"plain  rtl  \" ><span class=\"txtu hbo\">וּ</span></span></span></span><span class=\"plain  r hl\" ><span class=\"plain  rtl  \" ><span class=\"plain  rtl\"></span><span class=\"plain  rtl  \" ><span class=\"txtu hbo\">לְ</span></span><span class=\"plain  rtl  \" ><span class=\"txtu hbo\">בָנֵ֑ינוּ </span></span></span></span></span></span></td><td class=\"tf\"><span class=\"plain  l hl\" ><span class=\"plain  rtl  \" ><span class=\"plain  rtl\"></span><span class=\"plain  rtl  \" ><span class=\"txtu hbo\">לָ֥נוּ </span></span></span></span><span class=\"plain  r l hl\" ><span class=\"plain  rtl  \" ><span class=\"plain  rtl\"></span><span class=\"plain  rtl  \" ><span class=\"txtu hbo\">וּ</span></span></span></span><span class=\"plain  r hl\" ><span class=\"plain  rtl  \" ><span class=\"plain  rtl\"></span><span class=\"plain  rtl  \" ><span class=\"txtu hbo\">לְ</span></span><span class=\"plain  rtl  \" ><span class=\"txtu hbo\">בָנֵ֑ינוּ </span></span></span></span></td></tr>\n",
       "<tr class=\"tf\"><td class=\"tf\">4</td><td class=\"tf\"><span class=\"section ltr\"><a target=\"_blank\" href=\"https://shebanq.ancient-data.org/hebrew/text?book=Genesis&amp;chapter=31&amp;verse=53&amp;version=2017&amp;mr=m&amp;qw=q&amp;tp=txt_p&amp;tr=hb&amp;wget=v&amp;qget=v&amp;nget=vt\" title=\"Show this on SHEBANQ\" sec=\"Genesis 31:53\">Genesis 31:53</a></span></td><td class=\"tf\"><span class=\"plain  hlbx\" ><span class=\"plain  rtl  \" ><span class=\"plain  rtl\"></span><span class=\"plain  l hl\" ><span class=\"plain  rtl  \" ><span class=\"plain  rtl\"></span><span class=\"plain  rtl  \" ><span class=\"txtu hbo\">אֱלֹהֵ֨י </span></span><span class=\"plain  rtl  \" ><span class=\"txtu hbo\">אַבְרָהָ֜ם </span></span><span class=\"plain  rtl  \" ><span class=\"txtu hbo\">וֵֽ</span></span><span class=\"plain  rtl  \" ><span class=\"txtu hbo\">אלֹהֵ֤י </span></span><span class=\"plain  rtl  \" ><span class=\"txtu hbo\">נָחֹור֙ </span></span></span></span><span class=\"plain  rtl  \" ><span class=\"plain  rtl\"></span><span class=\"plain  rtl  \" ><span class=\"txtu hbo\">יִשְׁפְּט֣וּ </span></span></span><span class=\"plain  rtl  \" ><span class=\"plain  rtl\"></span><span class=\"plain  rtl  \" ><span class=\"txtu hbo\">בֵינֵ֔ינוּ </span></span></span><span class=\"plain  r hl\" ><span class=\"plain  rtl  \" ><span class=\"plain  rtl\"></span><span class=\"plain  rtl  \" ><span class=\"txtu hbo\">אֱלֹהֵ֖י </span></span><span class=\"plain  rtl  \" ><span class=\"txtu hbo\">אֲבִיהֶ֑ם </span></span></span></span></span></span></td><td class=\"tf\"><span class=\"plain  l hl\" ><span class=\"plain  rtl  \" ><span class=\"plain  rtl\"></span><span class=\"plain  rtl  \" ><span class=\"txtu hbo\">אֱלֹהֵ֨י </span></span><span class=\"plain  rtl  \" ><span class=\"txtu hbo\">אַבְרָהָ֜ם </span></span><span class=\"plain  rtl  \" ><span class=\"txtu hbo\">וֵֽ</span></span><span class=\"plain  rtl  \" ><span class=\"txtu hbo\">אלֹהֵ֤י </span></span><span class=\"plain  rtl  \" ><span class=\"txtu hbo\">נָחֹור֙ </span></span></span></span><span class=\"plain  r hl\" ><span class=\"plain  rtl  \" ><span class=\"plain  rtl\"></span><span class=\"plain  rtl  \" ><span class=\"txtu hbo\">אֱלֹהֵ֖י </span></span><span class=\"plain  rtl  \" ><span class=\"txtu hbo\">אֲבִיהֶ֑ם </span></span></span></span></td></tr>\n",
       "<tr class=\"tf\"><td class=\"tf\">5</td><td class=\"tf\"><span class=\"section ltr\"><a target=\"_blank\" href=\"https://shebanq.ancient-data.org/hebrew/text?book=Exodus&amp;chapter=28&amp;verse=1&amp;version=2017&amp;mr=m&amp;qw=q&amp;tp=txt_p&amp;tr=hb&amp;wget=v&amp;qget=v&amp;nget=vt\" title=\"Show this on SHEBANQ\" sec=\"Exodus 28:1\">Exodus 28:1</a></span></td><td class=\"tf\"><span class=\"plain  hlbx\" ><span class=\"plain  rtl  \" ><span class=\"plain  rtl\"></span><span class=\"plain  l hl\" ><span class=\"plain  rtl  \" ><span class=\"plain  rtl\"></span><span class=\"plain  rtl  \" ><span class=\"txtu hbo\">לְ</span></span><span class=\"plain  rtl  \" ><span class=\"txtu hbo\">כַהֲנֹו־</span></span></span></span><span class=\"plain  rtl  \" ><span class=\"plain  rtl\"></span><span class=\"plain  rtl  \" ><span class=\"txtu hbo\">לִ֑י </span></span></span><span class=\"plain  r l hl\" ><span class=\"plain  rtl  \" ><span class=\"plain  rtl\"></span><span class=\"plain  rtl  \" ><span class=\"txtu hbo\">אַהֲרֹ֕ן </span></span></span></span><span class=\"plain  r l hl\" ><span class=\"plain  rtl  \" ><span class=\"plain  rtl\"></span><span class=\"plain  rtl  \" ><span class=\"txtu hbo\">נָדָ֧ב </span></span><span class=\"plain  rtl  \" ><span class=\"txtu hbo\">וַ</span></span><span class=\"plain  rtl  \" ><span class=\"txtu hbo\">אֲבִיה֛וּא </span></span><span class=\"plain  rtl  \" ><span class=\"txtu hbo\">אֶלְעָזָ֥ר </span></span><span class=\"plain  rtl  \" ><span class=\"txtu hbo\">וְ</span></span><span class=\"plain  rtl  \" ><span class=\"txtu hbo\">אִיתָמָ֖ר </span></span></span></span><span class=\"plain  r hl\" ><span class=\"plain  rtl  \" ><span class=\"plain  rtl\"></span><span class=\"plain  rtl  \" ><span class=\"txtu hbo\">בְּנֵ֥י </span></span><span class=\"plain  rtl  \" ><span class=\"txtu hbo\">אַהֲרֹֽן׃ </span></span></span></span></span></span></td><td class=\"tf\"><span class=\"plain  l hl\" ><span class=\"plain  rtl  \" ><span class=\"plain  rtl\"></span><span class=\"plain  rtl  \" ><span class=\"txtu hbo\">לְ</span></span><span class=\"plain  rtl  \" ><span class=\"txtu hbo\">כַהֲנֹו־</span></span></span></span><span class=\"plain  r l hl\" ><span class=\"plain  rtl  \" ><span class=\"plain  rtl\"></span><span class=\"plain  rtl  \" ><span class=\"txtu hbo\">אַהֲרֹ֕ן </span></span></span></span><span class=\"plain  r l hl\" ><span class=\"plain  rtl  \" ><span class=\"plain  rtl\"></span><span class=\"plain  rtl  \" ><span class=\"txtu hbo\">נָדָ֧ב </span></span><span class=\"plain  rtl  \" ><span class=\"txtu hbo\">וַ</span></span><span class=\"plain  rtl  \" ><span class=\"txtu hbo\">אֲבִיה֛וּא </span></span><span class=\"plain  rtl  \" ><span class=\"txtu hbo\">אֶלְעָזָ֥ר </span></span><span class=\"plain  rtl  \" ><span class=\"txtu hbo\">וְ</span></span><span class=\"plain  rtl  \" ><span class=\"txtu hbo\">אִיתָמָ֖ר </span></span></span></span><span class=\"plain  r hl\" ><span class=\"plain  rtl  \" ><span class=\"plain  rtl\"></span><span class=\"plain  rtl  \" ><span class=\"txtu hbo\">בְּנֵ֥י </span></span><span class=\"plain  rtl  \" ><span class=\"txtu hbo\">אַהֲרֹֽן׃ </span></span></span></span></td></tr></table>"
      ],
      "text/plain": [
       "<IPython.core.display.HTML object>"
      ]
     },
     "metadata": {},
     "output_type": "display_data"
    },
    {
     "data": {
      "text/html": [
       "<p><b>result</b> <i>1</i></p>"
      ],
      "text/plain": [
       "<IPython.core.display.HTML object>"
      ]
     },
     "metadata": {},
     "output_type": "display_data"
    },
    {
     "data": {
      "text/html": [
       "<span class=\"section ltr\"><a target=\"_blank\" href=\"https://shebanq.ancient-data.org/hebrew/text?book=Genesis&amp;chapter=10&amp;verse=21&amp;version=2017&amp;mr=m&amp;qw=q&amp;tp=txt_p&amp;tr=hb&amp;wget=v&amp;qget=v&amp;nget=vt\" title=\"Show this on SHEBANQ\" sec=\"Genesis 10:21\">Genesis 10:21</a> </span><div class=\"children row wrap rtl\"><div class=\"contnr c2  rtl  \" ><div class=\"lbl c2  \" ><span class=\"nd\">clause</span></div> <div class=\"children row wrap rtl\"><div class=\"contnr cnul trm rtl  \" ><div class=\"children row wrap rtl\"><div class=\"contnr c1 trm rtl  l hl\" ><div class=\"lbl c1 trm \" ><span class=\"nd\">phrase</span> <span class=\"\"><span class=\"plain  l hl\" ><span class=\"plain  rtl  \" ><span class=\"plain  rtl\"></span><span class=\"plain  rtl  \" ><span class=\"txtu hbo\">גַּם־</span></span><span class=\"plain  rtl  \" ><span class=\"txtu hbo\">ה֑וּא </span></span></span></span></span></div> <div class=\"children row wrap rtl\"><div class=\"contnr cnul trm rtl  \" ></div></div></div><div class=\"contnr c1 trm rtl  \" ><div class=\"lbl c1 trm \" ><span class=\"nd\">phrase</span> <span class=\"\"><span class=\"plain  rtl  \" ><span class=\"plain  rtl\"></span><span class=\"plain  rtl  \" ><span class=\"txtu hbo\">אֲבִי֙ </span></span><span class=\"plain  rtl  \" ><span class=\"txtu hbo\">כָּל־</span></span><span class=\"plain  rtl  \" ><span class=\"txtu hbo\">בְּנֵי־</span></span><span class=\"plain  rtl  \" ><span class=\"txtu hbo\">עֵ֔בֶר </span></span></span></span></div> <div class=\"children row wrap rtl\"><div class=\"contnr cnul trm rtl  \" ></div></div></div><div class=\"contnr c1 trm rtl  r hl\" ><div class=\"lbl c1 trm \" ><span class=\"nd\">phrase</span> <span class=\"\"><span class=\"plain  r hl\" ><span class=\"plain  rtl  \" ><span class=\"plain  rtl\"></span><span class=\"plain  rtl  \" ><span class=\"txtu hbo\">אֲחִ֖י </span></span><span class=\"plain  rtl  \" ><span class=\"txtu hbo\">יֶ֥פֶת </span></span><span class=\"plain  rtl  \" ><span class=\"txtu hbo\">הַ</span></span><span class=\"plain  rtl  \" ><span class=\"txtu hbo\">גָּדֹֽול׃ </span></span></span></span></span></div> <div class=\"children row wrap rtl\"><div class=\"contnr cnul trm rtl  \" ></div></div></div></div></div></div></div></div>"
      ],
      "text/plain": [
       "<IPython.core.display.HTML object>"
      ]
     },
     "metadata": {},
     "output_type": "display_data"
    },
    {
     "data": {
      "text/html": [
       "<p><b>result</b> <i>2</i></p>"
      ],
      "text/plain": [
       "<IPython.core.display.HTML object>"
      ]
     },
     "metadata": {},
     "output_type": "display_data"
    },
    {
     "data": {
      "text/html": [
       "<span class=\"section ltr\"><a target=\"_blank\" href=\"https://shebanq.ancient-data.org/hebrew/text?book=Genesis&amp;chapter=24&amp;verse=24&amp;version=2017&amp;mr=m&amp;qw=q&amp;tp=txt_p&amp;tr=hb&amp;wget=v&amp;qget=v&amp;nget=vt\" title=\"Show this on SHEBANQ\" sec=\"Genesis 24:24\">Genesis 24:24</a> </span><div class=\"children row wrap rtl\"><div class=\"contnr c2  rtl  \" ><div class=\"lbl c2  \" ><span class=\"nd\">clause</span></div> <div class=\"children row wrap rtl\"><div class=\"contnr cnul trm rtl  \" ><div class=\"children row wrap rtl\"><div class=\"contnr c1 trm rtl  l hl\" ><div class=\"lbl c1 trm \" ><span class=\"nd\">phrase</span> <span class=\"\"><span class=\"plain  l hl\" ><span class=\"plain  rtl  \" ><span class=\"plain  rtl\"></span><span class=\"plain  rtl  \" ><span class=\"txtu hbo\">בַּת־</span></span><span class=\"plain  rtl  \" ><span class=\"txtu hbo\">בְּתוּאֵ֖ל </span></span></span></span></span></div> <div class=\"children row wrap rtl\"><div class=\"contnr cnul trm rtl  \" ></div></div></div><div class=\"contnr c1 trm rtl  \" ><div class=\"lbl c1 trm \" ><span class=\"nd\">phrase</span> <span class=\"\"><span class=\"plain  rtl  \" ><span class=\"plain  rtl\"></span><span class=\"plain  rtl  \" ><span class=\"txtu hbo\">אָנֹ֑כִי </span></span></span></span></div> <div class=\"children row wrap rtl\"><div class=\"contnr cnul trm rtl  \" ></div></div></div><div class=\"contnr c1 trm rtl  r hl\" ><div class=\"lbl c1 trm \" ><span class=\"nd\">phrase</span> <span class=\"\"><span class=\"plain  r hl\" ><span class=\"plain  rtl  \" ><span class=\"plain  rtl\"></span><span class=\"plain  rtl  \" ><span class=\"txtu hbo\">בֶּן־</span></span><span class=\"plain  rtl  \" ><span class=\"txtu hbo\">מִלְכָּ֕ה </span></span></span></span></span></div> <div class=\"children row wrap rtl\"><div class=\"contnr cnul trm rtl  \" ></div></div></div></div></div></div></div></div>"
      ],
      "text/plain": [
       "<IPython.core.display.HTML object>"
      ]
     },
     "metadata": {},
     "output_type": "display_data"
    },
    {
     "data": {
      "text/html": [
       "<p><b>result</b> <i>3</i></p>"
      ],
      "text/plain": [
       "<IPython.core.display.HTML object>"
      ]
     },
     "metadata": {},
     "output_type": "display_data"
    },
    {
     "data": {
      "text/html": [
       "<span class=\"section ltr\"><a target=\"_blank\" href=\"https://shebanq.ancient-data.org/hebrew/text?book=Genesis&amp;chapter=31&amp;verse=16&amp;version=2017&amp;mr=m&amp;qw=q&amp;tp=txt_p&amp;tr=hb&amp;wget=v&amp;qget=v&amp;nget=vt\" title=\"Show this on SHEBANQ\" sec=\"Genesis 31:16\">Genesis 31:16</a> </span><div class=\"children row wrap rtl\"><div class=\"contnr c2  rtl  \" ><div class=\"lbl c2  \" ><span class=\"nd\">clause</span></div> <div class=\"children row wrap rtl\"><div class=\"contnr cnul trm rtl  \" ><div class=\"children row wrap rtl\"><div class=\"contnr c1 trm rtl  l hl\" ><div class=\"lbl c1 trm \" ><span class=\"nd\">phrase</span> <span class=\"\"><span class=\"plain  l hl\" ><span class=\"plain  rtl  \" ><span class=\"plain  rtl\"></span><span class=\"plain  rtl  \" ><span class=\"txtu hbo\">לָ֥נוּ </span></span></span></span></span></div> <div class=\"children row wrap rtl\"><div class=\"contnr cnul trm rtl  \" ></div></div></div><div class=\"contnr c1 trm rtl  \" ><div class=\"lbl c1 trm \" ><span class=\"nd\">phrase</span> <span class=\"\"><span class=\"plain  rtl  \" ><span class=\"plain  rtl\"></span><span class=\"plain  rtl  \" ><span class=\"txtu hbo\">ה֖וּא </span></span></span></span></div> <div class=\"children row wrap rtl\"><div class=\"contnr cnul trm rtl  \" ></div></div></div><div class=\"contnr c1 trm rtl  r l hl\" ><div class=\"lbl c1 trm \" ><span class=\"nd\">phrase</span> <span class=\"\"><span class=\"plain  r l hl\" ><span class=\"plain  rtl  \" ><span class=\"plain  rtl\"></span><span class=\"plain  rtl  \" ><span class=\"txtu hbo\">וּ</span></span></span></span></span></div> <div class=\"children row wrap rtl\"><div class=\"contnr cnul trm rtl  \" ></div></div></div><div class=\"contnr c1 trm rtl  r hl\" ><div class=\"lbl c1 trm \" ><span class=\"nd\">phrase</span> <span class=\"\"><span class=\"plain  r hl\" ><span class=\"plain  rtl  \" ><span class=\"plain  rtl\"></span><span class=\"plain  rtl  \" ><span class=\"txtu hbo\">לְ</span></span><span class=\"plain  rtl  \" ><span class=\"txtu hbo\">בָנֵ֑ינוּ </span></span></span></span></span></div> <div class=\"children row wrap rtl\"><div class=\"contnr cnul trm rtl  \" ></div></div></div></div></div></div></div></div>"
      ],
      "text/plain": [
       "<IPython.core.display.HTML object>"
      ]
     },
     "metadata": {},
     "output_type": "display_data"
    },
    {
     "data": {
      "text/html": [
       "<p><b>result</b> <i>4</i></p>"
      ],
      "text/plain": [
       "<IPython.core.display.HTML object>"
      ]
     },
     "metadata": {},
     "output_type": "display_data"
    },
    {
     "data": {
      "text/html": [
       "<span class=\"section ltr\"><a target=\"_blank\" href=\"https://shebanq.ancient-data.org/hebrew/text?book=Genesis&amp;chapter=31&amp;verse=53&amp;version=2017&amp;mr=m&amp;qw=q&amp;tp=txt_p&amp;tr=hb&amp;wget=v&amp;qget=v&amp;nget=vt\" title=\"Show this on SHEBANQ\" sec=\"Genesis 31:53\">Genesis 31:53</a> </span><div class=\"children row wrap rtl\"><div class=\"contnr c2  rtl  \" ><div class=\"lbl c2  \" ><span class=\"nd\">clause</span></div> <div class=\"children row wrap rtl\"><div class=\"contnr cnul trm rtl  \" ><div class=\"children row wrap rtl\"><div class=\"contnr c1 trm rtl  l hl\" ><div class=\"lbl c1 trm \" ><span class=\"nd\">phrase</span> <span class=\"\"><span class=\"plain  l hl\" ><span class=\"plain  rtl  \" ><span class=\"plain  rtl\"></span><span class=\"plain  rtl  \" ><span class=\"txtu hbo\">אֱלֹהֵ֨י </span></span><span class=\"plain  rtl  \" ><span class=\"txtu hbo\">אַבְרָהָ֜ם </span></span><span class=\"plain  rtl  \" ><span class=\"txtu hbo\">וֵֽ</span></span><span class=\"plain  rtl  \" ><span class=\"txtu hbo\">אלֹהֵ֤י </span></span><span class=\"plain  rtl  \" ><span class=\"txtu hbo\">נָחֹור֙ </span></span></span></span></span></div> <div class=\"children row wrap rtl\"><div class=\"contnr cnul trm rtl  \" ></div></div></div><div class=\"contnr c1 trm rtl  \" ><div class=\"lbl c1 trm \" ><span class=\"nd\">phrase</span> <span class=\"\"><span class=\"plain  rtl  \" ><span class=\"plain  rtl\"></span><span class=\"plain  rtl  \" ><span class=\"txtu hbo\">יִשְׁפְּט֣וּ </span></span></span></span></div> <div class=\"children row wrap rtl\"><div class=\"contnr cnul trm rtl  \" ></div></div></div><div class=\"contnr c1 trm rtl  \" ><div class=\"lbl c1 trm \" ><span class=\"nd\">phrase</span> <span class=\"\"><span class=\"plain  rtl  \" ><span class=\"plain  rtl\"></span><span class=\"plain  rtl  \" ><span class=\"txtu hbo\">בֵינֵ֔ינוּ </span></span></span></span></div> <div class=\"children row wrap rtl\"><div class=\"contnr cnul trm rtl  \" ></div></div></div><div class=\"contnr c1 trm rtl  r hl\" ><div class=\"lbl c1 trm \" ><span class=\"nd\">phrase</span> <span class=\"\"><span class=\"plain  r hl\" ><span class=\"plain  rtl  \" ><span class=\"plain  rtl\"></span><span class=\"plain  rtl  \" ><span class=\"txtu hbo\">אֱלֹהֵ֖י </span></span><span class=\"plain  rtl  \" ><span class=\"txtu hbo\">אֲבִיהֶ֑ם </span></span></span></span></span></div> <div class=\"children row wrap rtl\"><div class=\"contnr cnul trm rtl  \" ></div></div></div></div></div></div></div></div>"
      ],
      "text/plain": [
       "<IPython.core.display.HTML object>"
      ]
     },
     "metadata": {},
     "output_type": "display_data"
    },
    {
     "data": {
      "text/html": [
       "<p><b>result</b> <i>5</i></p>"
      ],
      "text/plain": [
       "<IPython.core.display.HTML object>"
      ]
     },
     "metadata": {},
     "output_type": "display_data"
    },
    {
     "data": {
      "text/html": [
       "<span class=\"section ltr\"><a target=\"_blank\" href=\"https://shebanq.ancient-data.org/hebrew/text?book=Exodus&amp;chapter=28&amp;verse=1&amp;version=2017&amp;mr=m&amp;qw=q&amp;tp=txt_p&amp;tr=hb&amp;wget=v&amp;qget=v&amp;nget=vt\" title=\"Show this on SHEBANQ\" sec=\"Exodus 28:1\">Exodus 28:1</a> </span><div class=\"children row wrap rtl\"><div class=\"contnr c2  rtl  \" ><div class=\"lbl c2  \" ><span class=\"nd\">clause</span></div> <div class=\"children row wrap rtl\"><div class=\"contnr cnul trm rtl  \" ><div class=\"children row wrap rtl\"><div class=\"contnr c1 trm rtl  l hl\" ><div class=\"lbl c1 trm \" ><span class=\"nd\">phrase</span> <span class=\"\"><span class=\"plain  l hl\" ><span class=\"plain  rtl  \" ><span class=\"plain  rtl\"></span><span class=\"plain  rtl  \" ><span class=\"txtu hbo\">לְ</span></span><span class=\"plain  rtl  \" ><span class=\"txtu hbo\">כַהֲנֹו־</span></span></span></span></span></div> <div class=\"children row wrap rtl\"><div class=\"contnr cnul trm rtl  \" ></div></div></div><div class=\"contnr c1 trm rtl  \" ><div class=\"lbl c1 trm \" ><span class=\"nd\">phrase</span> <span class=\"\"><span class=\"plain  rtl  \" ><span class=\"plain  rtl\"></span><span class=\"plain  rtl  \" ><span class=\"txtu hbo\">לִ֑י </span></span></span></span></div> <div class=\"children row wrap rtl\"><div class=\"contnr cnul trm rtl  \" ></div></div></div><div class=\"contnr c1 trm rtl  r l hl\" ><div class=\"lbl c1 trm \" ><span class=\"nd\">phrase</span> <span class=\"\"><span class=\"plain  r l hl\" ><span class=\"plain  rtl  \" ><span class=\"plain  rtl\"></span><span class=\"plain  rtl  \" ><span class=\"txtu hbo\">אַהֲרֹ֕ן </span></span></span></span></span></div> <div class=\"children row wrap rtl\"><div class=\"contnr cnul trm rtl  \" ></div></div></div><div class=\"contnr c1 trm rtl  r l hl\" ><div class=\"lbl c1 trm \" ><span class=\"nd\">phrase</span> <span class=\"\"><span class=\"plain  r l hl\" ><span class=\"plain  rtl  \" ><span class=\"plain  rtl\"></span><span class=\"plain  rtl  \" ><span class=\"txtu hbo\">נָדָ֧ב </span></span><span class=\"plain  rtl  \" ><span class=\"txtu hbo\">וַ</span></span><span class=\"plain  rtl  \" ><span class=\"txtu hbo\">אֲבִיה֛וּא </span></span><span class=\"plain  rtl  \" ><span class=\"txtu hbo\">אֶלְעָזָ֥ר </span></span><span class=\"plain  rtl  \" ><span class=\"txtu hbo\">וְ</span></span><span class=\"plain  rtl  \" ><span class=\"txtu hbo\">אִיתָמָ֖ר </span></span></span></span></span></div> <div class=\"children row wrap rtl\"><div class=\"contnr cnul trm rtl  \" ></div></div></div><div class=\"contnr c1 trm rtl  r hl\" ><div class=\"lbl c1 trm \" ><span class=\"nd\">phrase</span> <span class=\"\"><span class=\"plain  r hl\" ><span class=\"plain  rtl  \" ><span class=\"plain  rtl\"></span><span class=\"plain  rtl  \" ><span class=\"txtu hbo\">בְּנֵ֥י </span></span><span class=\"plain  rtl  \" ><span class=\"txtu hbo\">אַהֲרֹֽן׃ </span></span></span></span></span></div> <div class=\"children row wrap rtl\"><div class=\"contnr cnul trm rtl  \" ></div></div></div></div></div></div></div></div>"
      ],
      "text/plain": [
       "<IPython.core.display.HTML object>"
      ]
     },
     "metadata": {},
     "output_type": "display_data"
    }
   ],
   "source": [
    "query = '''\n",
    "c:clause\n",
    "  :: p:phrase\n",
    "c ## p\n",
    "'''\n",
    "results = A.search(query)\n",
    "A.table(results, start=1, end=5, baseTypes=\"phrase\")\n",
    "A.show(results, start=1, end=5, condenseType='clause', baseTypes=\"phrase\")"
   ]
  },
  {
   "cell_type": "markdown",
   "metadata": {},
   "source": [
    "Here you see an extra phrase in such clauses, lying embedded in the clause-spanning phrase.\n",
    "\n",
    "A nice case of **Mind the gap!**."
   ]
  },
  {
   "cell_type": "markdown",
   "metadata": {},
   "source": [
    "In the common domain:"
   ]
  },
  {
   "cell_type": "code",
   "execution_count": 47,
   "metadata": {
    "ExecuteTime": {
     "end_time": "2018-05-24T09:15:45.123089Z",
     "start_time": "2018-05-24T09:15:19.569287Z"
    }
   },
   "outputs": [
    {
     "name": "stdout",
     "output_type": "stream",
     "text": [
      "  1.69s 3 results\n"
     ]
    },
    {
     "data": {
      "text/html": [
       "<table><tr class=\"tf\"><th class=\"tf\">n</th><th class=\"tf\">p</th><th class=\"tf\">clause</th><th class=\"tf\">phrase</th></tr>\n",
       "<tr class=\"tf\"><td class=\"tf\">1</td><td class=\"tf\"><span class=\"section ltr\"><a target=\"_blank\" href=\"https://shebanq.ancient-data.org/hebrew/text?book=Genesis&amp;chapter=31&amp;verse=16&amp;version=2017&amp;mr=m&amp;qw=q&amp;tp=txt_p&amp;tr=hb&amp;wget=v&amp;qget=v&amp;nget=vt\" title=\"Show this on SHEBANQ\" sec=\"Genesis 31:16\">Genesis 31:16</a></span></td><td class=\"tf\"><span class=\"plain  hlbx\" ><span class=\"plain  rtl  \" ><span class=\"plain  rtl\"></span><span class=\"plain  l hl\" ><span class=\"plain  rtl  \" ><span class=\"plain  rtl\"></span><span class=\"plain  rtl  \" ><span class=\"txtu hbo\">לָ֥נוּ </span></span></span></span><span class=\"plain  rtl  \" ><span class=\"plain  rtl\"></span><span class=\"plain  rtl  \" ><span class=\"txtu hbo\">ה֖וּא </span></span></span><span class=\"plain  r l hl\" ><span class=\"plain  rtl  \" ><span class=\"plain  rtl\"></span><span class=\"plain  rtl  \" ><span class=\"txtu hbo\">וּ</span></span></span></span><span class=\"plain  r hl\" ><span class=\"plain  rtl  \" ><span class=\"plain  rtl\"></span><span class=\"plain  rtl  \" ><span class=\"txtu hbo\">לְ</span></span><span class=\"plain  rtl  \" ><span class=\"txtu hbo\">בָנֵ֑ינוּ </span></span></span></span></span></span></td><td class=\"tf\"><span class=\"plain  l hl\" ><span class=\"plain  rtl  \" ><span class=\"plain  rtl\"></span><span class=\"plain  rtl  \" ><span class=\"txtu hbo\">לָ֥נוּ </span></span></span></span><span class=\"plain  r l hl\" ><span class=\"plain  rtl  \" ><span class=\"plain  rtl\"></span><span class=\"plain  rtl  \" ><span class=\"txtu hbo\">וּ</span></span></span></span><span class=\"plain  r hl\" ><span class=\"plain  rtl  \" ><span class=\"plain  rtl\"></span><span class=\"plain  rtl  \" ><span class=\"txtu hbo\">לְ</span></span><span class=\"plain  rtl  \" ><span class=\"txtu hbo\">בָנֵ֑ינוּ </span></span></span></span></td></tr>\n",
       "<tr class=\"tf\"><td class=\"tf\">2</td><td class=\"tf\"><span class=\"section ltr\"><a target=\"_blank\" href=\"https://shebanq.ancient-data.org/hebrew/text?book=Leviticus&amp;chapter=11&amp;verse=9&amp;version=2017&amp;mr=m&amp;qw=q&amp;tp=txt_p&amp;tr=hb&amp;wget=v&amp;qget=v&amp;nget=vt\" title=\"Show this on SHEBANQ\" sec=\"Leviticus 11:9\">Leviticus 11:9</a></span></td><td class=\"tf\"><span class=\"plain  hlbx\" ><span class=\"plain  rtl  \" ><span class=\"plain  rtl\"></span><span class=\"plain  l hl\" ><span class=\"plain  rtl  \" ><span class=\"plain  rtl\"></span><span class=\"plain  rtl  \" ><span class=\"txtu hbo\">אֶת־</span></span><span class=\"plain  rtl  \" ><span class=\"txtu hbo\">זֶה֙ </span></span></span></span><span class=\"plain  rtl  \" ><span class=\"plain  rtl\"></span><span class=\"plain  rtl  \" ><span class=\"txtu hbo\">תֹּֽאכְל֔וּ </span></span></span><span class=\"plain  r hl\" ><span class=\"plain  rtl  \" ><span class=\"plain  rtl\"></span><span class=\"plain  rtl  \" ><span class=\"txtu hbo\">מִ</span></span><span class=\"plain  rtl  \" ><span class=\"txtu hbo\">כֹּ֖ל </span></span></span></span></span></span></td><td class=\"tf\"><span class=\"plain  l hl\" ><span class=\"plain  rtl  \" ><span class=\"plain  rtl\"></span><span class=\"plain  rtl  \" ><span class=\"txtu hbo\">אֶת־</span></span><span class=\"plain  rtl  \" ><span class=\"txtu hbo\">זֶה֙ </span></span></span></span><span class=\"plain  r hl\" ><span class=\"plain  rtl  \" ><span class=\"plain  rtl\"></span><span class=\"plain  rtl  \" ><span class=\"txtu hbo\">מִ</span></span><span class=\"plain  rtl  \" ><span class=\"txtu hbo\">כֹּ֖ל </span></span></span></span></td></tr>\n",
       "<tr class=\"tf\"><td class=\"tf\">3</td><td class=\"tf\"><span class=\"section ltr\"><a target=\"_blank\" href=\"https://shebanq.ancient-data.org/hebrew/text?book=Ezechiel&amp;chapter=14&amp;verse=4&amp;version=2017&amp;mr=m&amp;qw=q&amp;tp=txt_p&amp;tr=hb&amp;wget=v&amp;qget=v&amp;nget=vt\" title=\"Show this on SHEBANQ\" sec=\"Ezekiel 14:4\">Ezekiel 14:4</a></span></td><td class=\"tf\"><span class=\"plain  hlbx\" ><span class=\"plain  rtl  \" ><span class=\"plain  rtl\"></span><span class=\"plain  l hl\" ><span class=\"plain  rtl  \" ><span class=\"plain  rtl\"></span><span class=\"plain  rtl  \" ><span class=\"txtu hbo\">אִ֣ישׁ </span></span></span></span><span class=\"plain  rtl  \" ><span class=\"plain  rtl\"></span><span class=\"plain  rtl  \" ><span class=\"txtu hbo\">אִ֣ישׁ </span></span></span><span class=\"plain  r hl\" ><span class=\"plain  rtl  \" ><span class=\"plain  rtl\"></span><span class=\"plain  rtl  \" ><span class=\"txtu hbo\">מִ</span></span><span class=\"plain  rtl  \" ><span class=\"txtu hbo\">בֵּ֣ית </span></span><span class=\"plain  rtl  \" ><span class=\"txtu hbo\">יִשְׂרָאֵ֡ל </span></span></span></span></span></span></td><td class=\"tf\"><span class=\"plain  l hl\" ><span class=\"plain  rtl  \" ><span class=\"plain  rtl\"></span><span class=\"plain  rtl  \" ><span class=\"txtu hbo\">אִ֣ישׁ </span></span></span></span><span class=\"plain  r hl\" ><span class=\"plain  rtl  \" ><span class=\"plain  rtl\"></span><span class=\"plain  rtl  \" ><span class=\"txtu hbo\">מִ</span></span><span class=\"plain  rtl  \" ><span class=\"txtu hbo\">בֵּ֣ית </span></span><span class=\"plain  rtl  \" ><span class=\"txtu hbo\">יִשְׂרָאֵ֡ל </span></span></span></span></td></tr></table>"
      ],
      "text/plain": [
       "<IPython.core.display.HTML object>"
      ]
     },
     "metadata": {},
     "output_type": "display_data"
    },
    {
     "data": {
      "text/html": [
       "<p><b>result</b> <i>1</i></p>"
      ],
      "text/plain": [
       "<IPython.core.display.HTML object>"
      ]
     },
     "metadata": {},
     "output_type": "display_data"
    },
    {
     "data": {
      "text/html": [
       "<span class=\"section ltr\"><a target=\"_blank\" href=\"https://shebanq.ancient-data.org/hebrew/text?book=Genesis&amp;chapter=31&amp;verse=16&amp;version=2017&amp;mr=m&amp;qw=q&amp;tp=txt_p&amp;tr=hb&amp;wget=v&amp;qget=v&amp;nget=vt\" title=\"Show this on SHEBANQ\" sec=\"Genesis 31:16\">Genesis 31:16</a> </span><div class=\"children row wrap rtl\"><div class=\"contnr c2  rtl  \" ><div class=\"lbl c2  \" ><span class=\"nd\">clause</span></div> <div class='features'><span class=\"otype xft\" ><span class=\"f\">otype=</span>clause</span></div><div class=\"children row wrap rtl\"><div class=\"contnr cnul trm rtl  \" ><div class=\"children row wrap rtl\"><div class=\"contnr c1 trm rtl  l hl\" ><div class=\"lbl c1 trm \" ><span class=\"nd\">phrase</span> <span class=\"\"><span class=\"plain  l hl\" ><span class=\"plain  rtl  \" ><span class=\"plain  rtl\"></span><span class=\"plain  rtl  \" ><span class=\"txtu hbo\">לָ֥נוּ </span></span></span></span></span></div> <div class='features'><span class=\"otype xft\" ><span class=\"f\">otype=</span>phrase</span></div><div class=\"children row wrap rtl\"><div class=\"contnr cnul trm rtl  \" ></div></div></div><div class=\"contnr c1 trm rtl  \" ><div class=\"lbl c1 trm \" ><span class=\"nd\">phrase</span> <span class=\"\"><span class=\"plain  rtl  \" ><span class=\"plain  rtl\"></span><span class=\"plain  rtl  \" ><span class=\"txtu hbo\">ה֖וּא </span></span></span></span></div> <div class='features'><span class=\"otype xft\" ><span class=\"f\">otype=</span>phrase</span></div><div class=\"children row wrap rtl\"><div class=\"contnr cnul trm rtl  \" ></div></div></div><div class=\"contnr c1 trm rtl  r l hl\" ><div class=\"lbl c1 trm \" ><span class=\"nd\">phrase</span> <span class=\"\"><span class=\"plain  r l hl\" ><span class=\"plain  rtl  \" ><span class=\"plain  rtl\"></span><span class=\"plain  rtl  \" ><span class=\"txtu hbo\">וּ</span></span></span></span></span></div> <div class='features'><span class=\"otype xft\" ><span class=\"f\">otype=</span>phrase</span></div><div class=\"children row wrap rtl\"><div class=\"contnr cnul trm rtl  \" ></div></div></div><div class=\"contnr c1 trm rtl  r hl\" ><div class=\"lbl c1 trm \" ><span class=\"nd\">phrase</span> <span class=\"\"><span class=\"plain  r hl\" ><span class=\"plain  rtl  \" ><span class=\"plain  rtl\"></span><span class=\"plain  rtl  \" ><span class=\"txtu hbo\">לְ</span></span><span class=\"plain  rtl  \" ><span class=\"txtu hbo\">בָנֵ֑ינוּ </span></span></span></span></span></div> <div class='features'><span class=\"otype xft\" ><span class=\"f\">otype=</span>phrase</span></div><div class=\"children row wrap rtl\"><div class=\"contnr cnul trm rtl  \" ></div></div></div></div></div></div></div></div>"
      ],
      "text/plain": [
       "<IPython.core.display.HTML object>"
      ]
     },
     "metadata": {},
     "output_type": "display_data"
    },
    {
     "data": {
      "text/html": [
       "<p><b>result</b> <i>2</i></p>"
      ],
      "text/plain": [
       "<IPython.core.display.HTML object>"
      ]
     },
     "metadata": {},
     "output_type": "display_data"
    },
    {
     "data": {
      "text/html": [
       "<span class=\"section ltr\"><a target=\"_blank\" href=\"https://shebanq.ancient-data.org/hebrew/text?book=Leviticus&amp;chapter=11&amp;verse=9&amp;version=2017&amp;mr=m&amp;qw=q&amp;tp=txt_p&amp;tr=hb&amp;wget=v&amp;qget=v&amp;nget=vt\" title=\"Show this on SHEBANQ\" sec=\"Leviticus 11:9\">Leviticus 11:9</a> </span><div class=\"children row wrap rtl\"><div class=\"contnr c2  rtl  \" ><div class=\"lbl c2  \" ><span class=\"nd\">clause</span></div> <div class='features'><span class=\"otype xft\" ><span class=\"f\">otype=</span>clause</span></div><div class=\"children row wrap rtl\"><div class=\"contnr cnul trm rtl  \" ><div class=\"children row wrap rtl\"><div class=\"contnr c1 trm rtl  l hl\" ><div class=\"lbl c1 trm \" ><span class=\"nd\">phrase</span> <span class=\"\"><span class=\"plain  l hl\" ><span class=\"plain  rtl  \" ><span class=\"plain  rtl\"></span><span class=\"plain  rtl  \" ><span class=\"txtu hbo\">אֶת־</span></span><span class=\"plain  rtl  \" ><span class=\"txtu hbo\">זֶה֙ </span></span></span></span></span></div> <div class='features'><span class=\"otype xft\" ><span class=\"f\">otype=</span>phrase</span></div><div class=\"children row wrap rtl\"><div class=\"contnr cnul trm rtl  \" ></div></div></div><div class=\"contnr c1 trm rtl  \" ><div class=\"lbl c1 trm \" ><span class=\"nd\">phrase</span> <span class=\"\"><span class=\"plain  rtl  \" ><span class=\"plain  rtl\"></span><span class=\"plain  rtl  \" ><span class=\"txtu hbo\">תֹּֽאכְל֔וּ </span></span></span></span></div> <div class='features'><span class=\"otype xft\" ><span class=\"f\">otype=</span>phrase</span></div><div class=\"children row wrap rtl\"><div class=\"contnr cnul trm rtl  \" ></div></div></div><div class=\"contnr c1 trm rtl  r hl\" ><div class=\"lbl c1 trm \" ><span class=\"nd\">phrase</span> <span class=\"\"><span class=\"plain  r hl\" ><span class=\"plain  rtl  \" ><span class=\"plain  rtl\"></span><span class=\"plain  rtl  \" ><span class=\"txtu hbo\">מִ</span></span><span class=\"plain  rtl  \" ><span class=\"txtu hbo\">כֹּ֖ל </span></span></span></span></span></div> <div class='features'><span class=\"otype xft\" ><span class=\"f\">otype=</span>phrase</span></div><div class=\"children row wrap rtl\"><div class=\"contnr cnul trm rtl  \" ></div></div></div></div></div></div></div></div>"
      ],
      "text/plain": [
       "<IPython.core.display.HTML object>"
      ]
     },
     "metadata": {},
     "output_type": "display_data"
    },
    {
     "data": {
      "text/html": [
       "<p><b>result</b> <i>3</i></p>"
      ],
      "text/plain": [
       "<IPython.core.display.HTML object>"
      ]
     },
     "metadata": {},
     "output_type": "display_data"
    },
    {
     "data": {
      "text/html": [
       "<span class=\"section ltr\"><a target=\"_blank\" href=\"https://shebanq.ancient-data.org/hebrew/text?book=Ezechiel&amp;chapter=14&amp;verse=4&amp;version=2017&amp;mr=m&amp;qw=q&amp;tp=txt_p&amp;tr=hb&amp;wget=v&amp;qget=v&amp;nget=vt\" title=\"Show this on SHEBANQ\" sec=\"Ezekiel 14:4\">Ezekiel 14:4</a> </span><div class=\"children row wrap rtl\"><div class=\"contnr c2  rtl  \" ><div class=\"lbl c2  \" ><span class=\"nd\">clause</span></div> <div class='features'><span class=\"otype xft\" ><span class=\"f\">otype=</span>clause</span></div><div class=\"children row wrap rtl\"><div class=\"contnr cnul trm rtl  \" ><div class=\"children row wrap rtl\"><div class=\"contnr c1 trm rtl  l hl\" ><div class=\"lbl c1 trm \" ><span class=\"nd\">phrase</span> <span class=\"\"><span class=\"plain  l hl\" ><span class=\"plain  rtl  \" ><span class=\"plain  rtl\"></span><span class=\"plain  rtl  \" ><span class=\"txtu hbo\">אִ֣ישׁ </span></span></span></span></span></div> <div class='features'><span class=\"otype xft\" ><span class=\"f\">otype=</span>phrase</span></div><div class=\"children row wrap rtl\"><div class=\"contnr cnul trm rtl  \" ></div></div></div><div class=\"contnr c1 trm rtl  \" ><div class=\"lbl c1 trm \" ><span class=\"nd\">phrase</span> <span class=\"\"><span class=\"plain  rtl  \" ><span class=\"plain  rtl\"></span><span class=\"plain  rtl  \" ><span class=\"txtu hbo\">אִ֣ישׁ </span></span></span></span></div> <div class='features'><span class=\"otype xft\" ><span class=\"f\">otype=</span>phrase</span></div><div class=\"children row wrap rtl\"><div class=\"contnr cnul trm rtl  \" ></div></div></div><div class=\"contnr c1 trm rtl  r hl\" ><div class=\"lbl c1 trm \" ><span class=\"nd\">phrase</span> <span class=\"\"><span class=\"plain  r hl\" ><span class=\"plain  rtl  \" ><span class=\"plain  rtl\"></span><span class=\"plain  rtl  \" ><span class=\"txtu hbo\">מִ</span></span><span class=\"plain  rtl  \" ><span class=\"txtu hbo\">בֵּ֣ית </span></span><span class=\"plain  rtl  \" ><span class=\"txtu hbo\">יִשְׂרָאֵ֡ל </span></span></span></span></span></div> <div class='features'><span class=\"otype xft\" ><span class=\"f\">otype=</span>phrase</span></div><div class=\"children row wrap rtl\"><div class=\"contnr cnul trm rtl  \" ></div></div></div></div></div></div></div></div>"
      ],
      "text/plain": [
       "<IPython.core.display.HTML object>"
      ]
     },
     "metadata": {},
     "output_type": "display_data"
    }
   ],
   "source": [
    "indent(reset=True)\n",
    "query = '''\n",
    "c:common otype=clause\n",
    "  :: p:common otype=phrase\n",
    "c ## p\n",
    "'''\n",
    "resultsCustom = A.search(query, sets=customSets)\n",
    "A.table(resultsCustom, start=1, end=10, baseTypes=\"phrase\")\n",
    "A.show(resultsCustom, start=1, end=5, condenseType='clause', baseTypes=\"phrase\")\n",
    "info('Done')"
   ]
  },
  {
   "cell_type": "markdown",
   "metadata": {},
   "source": [
    "## <: adjacent before \n",
    "This relation holds when the left hand sides ends in a slot that lies before the first slot of the right hand side.\n",
    "It serves to enforce an ordering between siblings of a parent.\n",
    "\n",
    "## :> adjacent after\n",
    "This relation holds when the left hand sides starts in a slot that lies after the last slot of the right hand side."
   ]
  },
  {
   "cell_type": "code",
   "execution_count": 48,
   "metadata": {
    "ExecuteTime": {
     "end_time": "2018-05-24T09:33:15.105847Z",
     "start_time": "2018-05-24T09:33:14.237419Z"
    }
   },
   "outputs": [
    {
     "name": "stdout",
     "output_type": "stream",
     "text": [
      "  1.62s 162667 results\n"
     ]
    },
    {
     "data": {
      "text/html": [
       "<table><tr class=\"tf\"><th class=\"tf\">n</th><th class=\"tf\">p</th><th class=\"tf\">clause</th><th class=\"tf\">phrase</th><th class=\"tf\">phrase</th></tr>\n",
       "<tr class=\"tf\"><td class=\"tf\">1</td><td class=\"tf\"><span class=\"section ltr\"><a target=\"_blank\" href=\"https://shebanq.ancient-data.org/hebrew/text?book=Genesis&amp;chapter=1&amp;verse=1&amp;version=2017&amp;mr=m&amp;qw=q&amp;tp=txt_p&amp;tr=hb&amp;wget=v&amp;qget=v&amp;nget=vt\" title=\"Show this on SHEBANQ\" sec=\"Genesis 1:1\">Genesis 1:1</a></span></td><td class=\"tf\"><span class=\"plain  hlbx\" ><span class=\"plain  rtl  \" ><span class=\"plain  rtl\"></span><span class=\"plain  hl\" ><span class=\"plain  rtl  \" ><span class=\"plain  rtl\"></span><span class=\"plain  rtl  \" ><span class=\"txtu hbo\">בְּ</span></span><span class=\"plain  rtl  \" ><span class=\"txtu hbo\">רֵאשִׁ֖ית </span></span></span></span><span class=\"plain  hl\" ><span class=\"plain  rtl  \" ><span class=\"plain  rtl\"></span><span class=\"plain  rtl  \" ><span class=\"txtu hbo\">בָּרָ֣א </span></span></span></span><span class=\"plain  rtl  \" ><span class=\"plain  rtl\"></span><span class=\"plain  rtl  \" ><span class=\"txtu hbo\">אֱלֹהִ֑ים </span></span></span><span class=\"plain  rtl  \" ><span class=\"plain  rtl\"></span><span class=\"plain  rtl  \" ><span class=\"txtu hbo\">אֵ֥ת </span></span><span class=\"plain  rtl  \" ><span class=\"txtu hbo\">הַ</span></span><span class=\"plain  rtl  \" ><span class=\"txtu hbo\">שָּׁמַ֖יִם </span></span><span class=\"plain  rtl  \" ><span class=\"txtu hbo\">וְ</span></span><span class=\"plain  rtl  \" ><span class=\"txtu hbo\">אֵ֥ת </span></span><span class=\"plain  rtl  \" ><span class=\"txtu hbo\">הָ</span></span><span class=\"plain  rtl  \" ><span class=\"txtu hbo\">אָֽרֶץ׃ </span></span></span></span></span></td><td class=\"tf\"><span class=\"plain  hl\" ><span class=\"plain  rtl  \" ><span class=\"plain  rtl\"></span><span class=\"plain  rtl  \" ><span class=\"txtu hbo\">בְּ</span></span><span class=\"plain  rtl  \" ><span class=\"txtu hbo\">רֵאשִׁ֖ית </span></span></span></span></td><td class=\"tf\"><span class=\"plain  hl\" ><span class=\"plain  rtl  \" ><span class=\"plain  rtl\"></span><span class=\"plain  rtl  \" ><span class=\"txtu hbo\">בָּרָ֣א </span></span></span></span></td></tr>\n",
       "<tr class=\"tf\"><td class=\"tf\">2</td><td class=\"tf\"><span class=\"section ltr\"><a target=\"_blank\" href=\"https://shebanq.ancient-data.org/hebrew/text?book=Genesis&amp;chapter=1&amp;verse=1&amp;version=2017&amp;mr=m&amp;qw=q&amp;tp=txt_p&amp;tr=hb&amp;wget=v&amp;qget=v&amp;nget=vt\" title=\"Show this on SHEBANQ\" sec=\"Genesis 1:1\">Genesis 1:1</a></span></td><td class=\"tf\"><span class=\"plain  hlbx\" ><span class=\"plain  rtl  \" ><span class=\"plain  rtl\"></span><span class=\"plain  rtl  \" ><span class=\"plain  rtl\"></span><span class=\"plain  rtl  \" ><span class=\"txtu hbo\">בְּ</span></span><span class=\"plain  rtl  \" ><span class=\"txtu hbo\">רֵאשִׁ֖ית </span></span></span><span class=\"plain  hl\" ><span class=\"plain  rtl  \" ><span class=\"plain  rtl\"></span><span class=\"plain  rtl  \" ><span class=\"txtu hbo\">בָּרָ֣א </span></span></span></span><span class=\"plain  hl\" ><span class=\"plain  rtl  \" ><span class=\"plain  rtl\"></span><span class=\"plain  rtl  \" ><span class=\"txtu hbo\">אֱלֹהִ֑ים </span></span></span></span><span class=\"plain  rtl  \" ><span class=\"plain  rtl\"></span><span class=\"plain  rtl  \" ><span class=\"txtu hbo\">אֵ֥ת </span></span><span class=\"plain  rtl  \" ><span class=\"txtu hbo\">הַ</span></span><span class=\"plain  rtl  \" ><span class=\"txtu hbo\">שָּׁמַ֖יִם </span></span><span class=\"plain  rtl  \" ><span class=\"txtu hbo\">וְ</span></span><span class=\"plain  rtl  \" ><span class=\"txtu hbo\">אֵ֥ת </span></span><span class=\"plain  rtl  \" ><span class=\"txtu hbo\">הָ</span></span><span class=\"plain  rtl  \" ><span class=\"txtu hbo\">אָֽרֶץ׃ </span></span></span></span></span></td><td class=\"tf\"><span class=\"plain  hl\" ><span class=\"plain  rtl  \" ><span class=\"plain  rtl\"></span><span class=\"plain  rtl  \" ><span class=\"txtu hbo\">בָּרָ֣א </span></span></span></span></td><td class=\"tf\"><span class=\"plain  hl\" ><span class=\"plain  rtl  \" ><span class=\"plain  rtl\"></span><span class=\"plain  rtl  \" ><span class=\"txtu hbo\">אֱלֹהִ֑ים </span></span></span></span></td></tr>\n",
       "<tr class=\"tf\"><td class=\"tf\">3</td><td class=\"tf\"><span class=\"section ltr\"><a target=\"_blank\" href=\"https://shebanq.ancient-data.org/hebrew/text?book=Genesis&amp;chapter=1&amp;verse=1&amp;version=2017&amp;mr=m&amp;qw=q&amp;tp=txt_p&amp;tr=hb&amp;wget=v&amp;qget=v&amp;nget=vt\" title=\"Show this on SHEBANQ\" sec=\"Genesis 1:1\">Genesis 1:1</a></span></td><td class=\"tf\"><span class=\"plain  hlbx\" ><span class=\"plain  rtl  \" ><span class=\"plain  rtl\"></span><span class=\"plain  rtl  \" ><span class=\"plain  rtl\"></span><span class=\"plain  rtl  \" ><span class=\"txtu hbo\">בְּ</span></span><span class=\"plain  rtl  \" ><span class=\"txtu hbo\">רֵאשִׁ֖ית </span></span></span><span class=\"plain  rtl  \" ><span class=\"plain  rtl\"></span><span class=\"plain  rtl  \" ><span class=\"txtu hbo\">בָּרָ֣א </span></span></span><span class=\"plain  hl\" ><span class=\"plain  rtl  \" ><span class=\"plain  rtl\"></span><span class=\"plain  rtl  \" ><span class=\"txtu hbo\">אֱלֹהִ֑ים </span></span></span></span><span class=\"plain  hl\" ><span class=\"plain  rtl  \" ><span class=\"plain  rtl\"></span><span class=\"plain  rtl  \" ><span class=\"txtu hbo\">אֵ֥ת </span></span><span class=\"plain  rtl  \" ><span class=\"txtu hbo\">הַ</span></span><span class=\"plain  rtl  \" ><span class=\"txtu hbo\">שָּׁמַ֖יִם </span></span><span class=\"plain  rtl  \" ><span class=\"txtu hbo\">וְ</span></span><span class=\"plain  rtl  \" ><span class=\"txtu hbo\">אֵ֥ת </span></span><span class=\"plain  rtl  \" ><span class=\"txtu hbo\">הָ</span></span><span class=\"plain  rtl  \" ><span class=\"txtu hbo\">אָֽרֶץ׃ </span></span></span></span></span></span></td><td class=\"tf\"><span class=\"plain  hl\" ><span class=\"plain  rtl  \" ><span class=\"plain  rtl\"></span><span class=\"plain  rtl  \" ><span class=\"txtu hbo\">אֱלֹהִ֑ים </span></span></span></span></td><td class=\"tf\"><span class=\"plain  hl\" ><span class=\"plain  rtl  \" ><span class=\"plain  rtl\"></span><span class=\"plain  rtl  \" ><span class=\"txtu hbo\">אֵ֥ת </span></span><span class=\"plain  rtl  \" ><span class=\"txtu hbo\">הַ</span></span><span class=\"plain  rtl  \" ><span class=\"txtu hbo\">שָּׁמַ֖יִם </span></span><span class=\"plain  rtl  \" ><span class=\"txtu hbo\">וְ</span></span><span class=\"plain  rtl  \" ><span class=\"txtu hbo\">אֵ֥ת </span></span><span class=\"plain  rtl  \" ><span class=\"txtu hbo\">הָ</span></span><span class=\"plain  rtl  \" ><span class=\"txtu hbo\">אָֽרֶץ׃ </span></span></span></span></td></tr></table>"
      ],
      "text/plain": [
       "<IPython.core.display.HTML object>"
      ]
     },
     "metadata": {},
     "output_type": "display_data"
    }
   ],
   "source": [
    "query = '''\n",
    "clause\n",
    "  phrase\n",
    "  <: phrase\n",
    "'''\n",
    "results = A.search(query)\n",
    "A.table(results, start=1, end=3, baseTypes=\"phrase\")"
   ]
  },
  {
   "cell_type": "code",
   "execution_count": 49,
   "metadata": {
    "ExecuteTime": {
     "end_time": "2018-05-24T09:33:15.105847Z",
     "start_time": "2018-05-24T09:33:14.237419Z"
    }
   },
   "outputs": [
    {
     "name": "stdout",
     "output_type": "stream",
     "text": [
      "  1.60s 162667 results\n"
     ]
    },
    {
     "data": {
      "text/html": [
       "<table><tr class=\"tf\"><th class=\"tf\">n</th><th class=\"tf\">p</th><th class=\"tf\">clause</th><th class=\"tf\">phrase</th><th class=\"tf\">phrase</th></tr>\n",
       "<tr class=\"tf\"><td class=\"tf\">1</td><td class=\"tf\"><span class=\"section ltr\"><a target=\"_blank\" href=\"https://shebanq.ancient-data.org/hebrew/text?book=Genesis&amp;chapter=1&amp;verse=1&amp;version=2017&amp;mr=m&amp;qw=q&amp;tp=txt_p&amp;tr=hb&amp;wget=v&amp;qget=v&amp;nget=vt\" title=\"Show this on SHEBANQ\" sec=\"Genesis 1:1\">Genesis 1:1</a></span></td><td class=\"tf\"><span class=\"plain  hlbx\" ><span class=\"plain  rtl  \" ><span class=\"plain  rtl\"></span><span class=\"plain  hl\" ><span class=\"plain  rtl  \" ><span class=\"plain  rtl\"></span><span class=\"plain  rtl  \" ><span class=\"txtu hbo\">בְּ</span></span><span class=\"plain  rtl  \" ><span class=\"txtu hbo\">רֵאשִׁ֖ית </span></span></span></span><span class=\"plain  hl\" ><span class=\"plain  rtl  \" ><span class=\"plain  rtl\"></span><span class=\"plain  rtl  \" ><span class=\"txtu hbo\">בָּרָ֣א </span></span></span></span><span class=\"plain  rtl  \" ><span class=\"plain  rtl\"></span><span class=\"plain  rtl  \" ><span class=\"txtu hbo\">אֱלֹהִ֑ים </span></span></span><span class=\"plain  rtl  \" ><span class=\"plain  rtl\"></span><span class=\"plain  rtl  \" ><span class=\"txtu hbo\">אֵ֥ת </span></span><span class=\"plain  rtl  \" ><span class=\"txtu hbo\">הַ</span></span><span class=\"plain  rtl  \" ><span class=\"txtu hbo\">שָּׁמַ֖יִם </span></span><span class=\"plain  rtl  \" ><span class=\"txtu hbo\">וְ</span></span><span class=\"plain  rtl  \" ><span class=\"txtu hbo\">אֵ֥ת </span></span><span class=\"plain  rtl  \" ><span class=\"txtu hbo\">הָ</span></span><span class=\"plain  rtl  \" ><span class=\"txtu hbo\">אָֽרֶץ׃ </span></span></span></span></span></td><td class=\"tf\"><span class=\"plain  hl\" ><span class=\"plain  rtl  \" ><span class=\"plain  rtl\"></span><span class=\"plain  rtl  \" ><span class=\"txtu hbo\">בָּרָ֣א </span></span></span></span></td><td class=\"tf\"><span class=\"plain  hl\" ><span class=\"plain  rtl  \" ><span class=\"plain  rtl\"></span><span class=\"plain  rtl  \" ><span class=\"txtu hbo\">בְּ</span></span><span class=\"plain  rtl  \" ><span class=\"txtu hbo\">רֵאשִׁ֖ית </span></span></span></span></td></tr>\n",
       "<tr class=\"tf\"><td class=\"tf\">2</td><td class=\"tf\"><span class=\"section ltr\"><a target=\"_blank\" href=\"https://shebanq.ancient-data.org/hebrew/text?book=Genesis&amp;chapter=1&amp;verse=1&amp;version=2017&amp;mr=m&amp;qw=q&amp;tp=txt_p&amp;tr=hb&amp;wget=v&amp;qget=v&amp;nget=vt\" title=\"Show this on SHEBANQ\" sec=\"Genesis 1:1\">Genesis 1:1</a></span></td><td class=\"tf\"><span class=\"plain  hlbx\" ><span class=\"plain  rtl  \" ><span class=\"plain  rtl\"></span><span class=\"plain  rtl  \" ><span class=\"plain  rtl\"></span><span class=\"plain  rtl  \" ><span class=\"txtu hbo\">בְּ</span></span><span class=\"plain  rtl  \" ><span class=\"txtu hbo\">רֵאשִׁ֖ית </span></span></span><span class=\"plain  hl\" ><span class=\"plain  rtl  \" ><span class=\"plain  rtl\"></span><span class=\"plain  rtl  \" ><span class=\"txtu hbo\">בָּרָ֣א </span></span></span></span><span class=\"plain  hl\" ><span class=\"plain  rtl  \" ><span class=\"plain  rtl\"></span><span class=\"plain  rtl  \" ><span class=\"txtu hbo\">אֱלֹהִ֑ים </span></span></span></span><span class=\"plain  rtl  \" ><span class=\"plain  rtl\"></span><span class=\"plain  rtl  \" ><span class=\"txtu hbo\">אֵ֥ת </span></span><span class=\"plain  rtl  \" ><span class=\"txtu hbo\">הַ</span></span><span class=\"plain  rtl  \" ><span class=\"txtu hbo\">שָּׁמַ֖יִם </span></span><span class=\"plain  rtl  \" ><span class=\"txtu hbo\">וְ</span></span><span class=\"plain  rtl  \" ><span class=\"txtu hbo\">אֵ֥ת </span></span><span class=\"plain  rtl  \" ><span class=\"txtu hbo\">הָ</span></span><span class=\"plain  rtl  \" ><span class=\"txtu hbo\">אָֽרֶץ׃ </span></span></span></span></span></td><td class=\"tf\"><span class=\"plain  hl\" ><span class=\"plain  rtl  \" ><span class=\"plain  rtl\"></span><span class=\"plain  rtl  \" ><span class=\"txtu hbo\">אֱלֹהִ֑ים </span></span></span></span></td><td class=\"tf\"><span class=\"plain  hl\" ><span class=\"plain  rtl  \" ><span class=\"plain  rtl\"></span><span class=\"plain  rtl  \" ><span class=\"txtu hbo\">בָּרָ֣א </span></span></span></span></td></tr>\n",
       "<tr class=\"tf\"><td class=\"tf\">3</td><td class=\"tf\"><span class=\"section ltr\"><a target=\"_blank\" href=\"https://shebanq.ancient-data.org/hebrew/text?book=Genesis&amp;chapter=1&amp;verse=1&amp;version=2017&amp;mr=m&amp;qw=q&amp;tp=txt_p&amp;tr=hb&amp;wget=v&amp;qget=v&amp;nget=vt\" title=\"Show this on SHEBANQ\" sec=\"Genesis 1:1\">Genesis 1:1</a></span></td><td class=\"tf\"><span class=\"plain  hlbx\" ><span class=\"plain  rtl  \" ><span class=\"plain  rtl\"></span><span class=\"plain  rtl  \" ><span class=\"plain  rtl\"></span><span class=\"plain  rtl  \" ><span class=\"txtu hbo\">בְּ</span></span><span class=\"plain  rtl  \" ><span class=\"txtu hbo\">רֵאשִׁ֖ית </span></span></span><span class=\"plain  rtl  \" ><span class=\"plain  rtl\"></span><span class=\"plain  rtl  \" ><span class=\"txtu hbo\">בָּרָ֣א </span></span></span><span class=\"plain  hl\" ><span class=\"plain  rtl  \" ><span class=\"plain  rtl\"></span><span class=\"plain  rtl  \" ><span class=\"txtu hbo\">אֱלֹהִ֑ים </span></span></span></span><span class=\"plain  hl\" ><span class=\"plain  rtl  \" ><span class=\"plain  rtl\"></span><span class=\"plain  rtl  \" ><span class=\"txtu hbo\">אֵ֥ת </span></span><span class=\"plain  rtl  \" ><span class=\"txtu hbo\">הַ</span></span><span class=\"plain  rtl  \" ><span class=\"txtu hbo\">שָּׁמַ֖יִם </span></span><span class=\"plain  rtl  \" ><span class=\"txtu hbo\">וְ</span></span><span class=\"plain  rtl  \" ><span class=\"txtu hbo\">אֵ֥ת </span></span><span class=\"plain  rtl  \" ><span class=\"txtu hbo\">הָ</span></span><span class=\"plain  rtl  \" ><span class=\"txtu hbo\">אָֽרֶץ׃ </span></span></span></span></span></span></td><td class=\"tf\"><span class=\"plain  hl\" ><span class=\"plain  rtl  \" ><span class=\"plain  rtl\"></span><span class=\"plain  rtl  \" ><span class=\"txtu hbo\">אֵ֥ת </span></span><span class=\"plain  rtl  \" ><span class=\"txtu hbo\">הַ</span></span><span class=\"plain  rtl  \" ><span class=\"txtu hbo\">שָּׁמַ֖יִם </span></span><span class=\"plain  rtl  \" ><span class=\"txtu hbo\">וְ</span></span><span class=\"plain  rtl  \" ><span class=\"txtu hbo\">אֵ֥ת </span></span><span class=\"plain  rtl  \" ><span class=\"txtu hbo\">הָ</span></span><span class=\"plain  rtl  \" ><span class=\"txtu hbo\">אָֽרֶץ׃ </span></span></span></span></td><td class=\"tf\"><span class=\"plain  hl\" ><span class=\"plain  rtl  \" ><span class=\"plain  rtl\"></span><span class=\"plain  rtl  \" ><span class=\"txtu hbo\">אֱלֹהִ֑ים </span></span></span></span></td></tr></table>"
      ],
      "text/plain": [
       "<IPython.core.display.HTML object>"
      ]
     },
     "metadata": {},
     "output_type": "display_data"
    }
   ],
   "source": [
    "query = '''\n",
    "clause\n",
    "  phrase\n",
    "  :> phrase\n",
    "'''\n",
    "results = A.search(query)\n",
    "A.table(results, start=1, end=3, baseTypes=\"phrase\")"
   ]
  },
  {
   "cell_type": "markdown",
   "metadata": {},
   "source": [
    "Playing with common and rare:"
   ]
  },
  {
   "cell_type": "code",
   "execution_count": 50,
   "metadata": {
    "ExecuteTime": {
     "end_time": "2018-05-24T09:33:15.105847Z",
     "start_time": "2018-05-24T09:33:14.237419Z"
    }
   },
   "outputs": [
    {
     "name": "stdout",
     "output_type": "stream",
     "text": [
      "  1.77s 25915 results\n"
     ]
    },
    {
     "data": {
      "text/html": [
       "<table><tr class=\"tf\"><th class=\"tf\">n</th><th class=\"tf\">p</th><th class=\"tf\">clause</th><th class=\"tf\">phrase</th><th class=\"tf\">phrase</th></tr>\n",
       "<tr class=\"tf\"><td class=\"tf\">1</td><td class=\"tf\"><span class=\"section ltr\"><a target=\"_blank\" href=\"https://shebanq.ancient-data.org/hebrew/text?book=Genesis&amp;chapter=1&amp;verse=2&amp;version=2017&amp;mr=m&amp;qw=q&amp;tp=txt_p&amp;tr=hb&amp;wget=v&amp;qget=v&amp;nget=vt\" title=\"Show this on SHEBANQ\" sec=\"Genesis 1:2\">Genesis 1:2</a></span></td><td class=\"tf\"><span class=\"plain  hlbx\" ><span class=\"plain  rtl  \" ><span class=\"plain  rtl\"></span><span class=\"plain  rtl  \" ><span class=\"plain  rtl\"></span><span class=\"plain  rtl  \" ><span class=\"txtu hbo\">וְ</span></span></span><span class=\"plain  rtl  \" ><span class=\"plain  rtl\"></span><span class=\"plain  rtl  \" ><span class=\"txtu hbo\">הָ</span></span><span class=\"plain  rtl  \" ><span class=\"txtu hbo\">אָ֗רֶץ </span></span></span><span class=\"plain  hl\" ><span class=\"plain  rtl  \" ><span class=\"plain  rtl\"></span><span class=\"plain  rtl  \" ><span class=\"txtu hbo\">הָיְתָ֥ה </span></span></span></span><span class=\"plain  hl\" ><span class=\"plain  rtl  \" ><span class=\"plain  rtl\"></span><span class=\"plain  rtl  \" ><span class=\"txtu hbo\">תֹ֨הוּ֙ </span></span><span class=\"plain  rtl  \" ><span class=\"txtu hbo\">וָ</span></span><span class=\"plain  rtl  \" ><span class=\"txtu hbo\">בֹ֔הוּ </span></span></span></span></span></span></td><td class=\"tf\"><span class=\"plain  hl\" ><span class=\"plain  rtl  \" ><span class=\"plain  rtl\"></span><span class=\"plain  rtl  \" ><span class=\"txtu hbo\">הָיְתָ֥ה </span></span></span></span></td><td class=\"tf\"><span class=\"plain  hl\" ><span class=\"plain  rtl  \" ><span class=\"plain  rtl\"></span><span class=\"plain  rtl  \" ><span class=\"txtu hbo\">תֹ֨הוּ֙ </span></span><span class=\"plain  rtl  \" ><span class=\"txtu hbo\">וָ</span></span><span class=\"plain  rtl  \" ><span class=\"txtu hbo\">בֹ֔הוּ </span></span></span></span></td></tr>\n",
       "<tr class=\"tf\"><td class=\"tf\">2</td><td class=\"tf\"><span class=\"section ltr\"><a target=\"_blank\" href=\"https://shebanq.ancient-data.org/hebrew/text?book=Genesis&amp;chapter=1&amp;verse=4&amp;version=2017&amp;mr=m&amp;qw=q&amp;tp=txt_p&amp;tr=hb&amp;wget=v&amp;qget=v&amp;nget=vt\" title=\"Show this on SHEBANQ\" sec=\"Genesis 1:4\">Genesis 1:4</a></span></td><td class=\"tf\"><span class=\"plain  hlbx\" ><span class=\"plain  rtl  \" ><span class=\"plain  rtl\"></span><span class=\"plain  hl\" ><span class=\"plain  rtl  \" ><span class=\"plain  rtl\"></span><span class=\"plain  rtl  \" ><span class=\"txtu hbo\">כִּי־</span></span></span></span><span class=\"plain  hl\" ><span class=\"plain  rtl  \" ><span class=\"plain  rtl\"></span><span class=\"plain  rtl  \" ><span class=\"txtu hbo\">טֹ֑וב </span></span></span></span></span></span></td><td class=\"tf\"><span class=\"plain  hl\" ><span class=\"plain  rtl  \" ><span class=\"plain  rtl\"></span><span class=\"plain  rtl  \" ><span class=\"txtu hbo\">כִּי־</span></span></span></span></td><td class=\"tf\"><span class=\"plain  hl\" ><span class=\"plain  rtl  \" ><span class=\"plain  rtl\"></span><span class=\"plain  rtl  \" ><span class=\"txtu hbo\">טֹ֑וב </span></span></span></span></td></tr>\n",
       "<tr class=\"tf\"><td class=\"tf\">3</td><td class=\"tf\"><span class=\"section ltr\"><a target=\"_blank\" href=\"https://shebanq.ancient-data.org/hebrew/text?book=Genesis&amp;chapter=1&amp;verse=4&amp;version=2017&amp;mr=m&amp;qw=q&amp;tp=txt_p&amp;tr=hb&amp;wget=v&amp;qget=v&amp;nget=vt\" title=\"Show this on SHEBANQ\" sec=\"Genesis 1:4\">Genesis 1:4</a></span></td><td class=\"tf\"><span class=\"plain  hlbx\" ><span class=\"plain  rtl  \" ><span class=\"plain  rtl\"></span><span class=\"plain  hl\" ><span class=\"plain  rtl  \" ><span class=\"plain  rtl\"></span><span class=\"plain  rtl  \" ><span class=\"txtu hbo\">וַ</span></span></span></span><span class=\"plain  hl\" ><span class=\"plain  rtl  \" ><span class=\"plain  rtl\"></span><span class=\"plain  rtl  \" ><span class=\"txtu hbo\">יַּבְדֵּ֣ל </span></span></span></span><span class=\"plain  rtl  \" ><span class=\"plain  rtl\"></span><span class=\"plain  rtl  \" ><span class=\"txtu hbo\">אֱלֹהִ֔ים </span></span></span><span class=\"plain  rtl  \" ><span class=\"plain  rtl\"></span><span class=\"plain  rtl  \" ><span class=\"txtu hbo\">בֵּ֥ין </span></span><span class=\"plain  rtl  \" ><span class=\"txtu hbo\">הָ</span></span><span class=\"plain  rtl  \" ><span class=\"txtu hbo\">אֹ֖ור </span></span><span class=\"plain  rtl  \" ><span class=\"txtu hbo\">וּ</span></span><span class=\"plain  rtl  \" ><span class=\"txtu hbo\">בֵ֥ין </span></span><span class=\"plain  rtl  \" ><span class=\"txtu hbo\">הַ</span></span><span class=\"plain  rtl  \" ><span class=\"txtu hbo\">חֹֽשֶׁךְ׃ </span></span></span></span></span></td><td class=\"tf\"><span class=\"plain  hl\" ><span class=\"plain  rtl  \" ><span class=\"plain  rtl\"></span><span class=\"plain  rtl  \" ><span class=\"txtu hbo\">וַ</span></span></span></span></td><td class=\"tf\"><span class=\"plain  hl\" ><span class=\"plain  rtl  \" ><span class=\"plain  rtl\"></span><span class=\"plain  rtl  \" ><span class=\"txtu hbo\">יַּבְדֵּ֣ל </span></span></span></span></td></tr></table>"
      ],
      "text/plain": [
       "<IPython.core.display.HTML object>"
      ]
     },
     "metadata": {},
     "output_type": "display_data"
    }
   ],
   "source": [
    "query = '''\n",
    "clause\n",
    "  common otype=phrase\n",
    "  <: rare otype=phrase\n",
    "'''\n",
    "resultsCommon = A.search(query, sets=customSets)\n",
    "A.table(resultsCommon, start=1, end=3, baseTypes=\"phrase\")"
   ]
  },
  {
   "cell_type": "code",
   "execution_count": 51,
   "metadata": {
    "ExecuteTime": {
     "end_time": "2018-05-24T09:33:15.105847Z",
     "start_time": "2018-05-24T09:33:14.237419Z"
    }
   },
   "outputs": [
    {
     "name": "stdout",
     "output_type": "stream",
     "text": [
      "  1.71s 9673 results\n"
     ]
    },
    {
     "data": {
      "text/html": [
       "<table><tr class=\"tf\"><th class=\"tf\">n</th><th class=\"tf\">p</th><th class=\"tf\">clause</th><th class=\"tf\">phrase</th><th class=\"tf\">phrase</th></tr>\n",
       "<tr class=\"tf\"><td class=\"tf\">1</td><td class=\"tf\"><span class=\"section ltr\"><a target=\"_blank\" href=\"https://shebanq.ancient-data.org/hebrew/text?book=Genesis&amp;chapter=1&amp;verse=1&amp;version=2017&amp;mr=m&amp;qw=q&amp;tp=txt_p&amp;tr=hb&amp;wget=v&amp;qget=v&amp;nget=vt\" title=\"Show this on SHEBANQ\" sec=\"Genesis 1:1\">Genesis 1:1</a></span></td><td class=\"tf\"><span class=\"plain  hlbx\" ><span class=\"plain  rtl  \" ><span class=\"plain  rtl\"></span><span class=\"plain  rtl  \" ><span class=\"plain  rtl\"></span><span class=\"plain  rtl  \" ><span class=\"txtu hbo\">בְּ</span></span><span class=\"plain  rtl  \" ><span class=\"txtu hbo\">רֵאשִׁ֖ית </span></span></span><span class=\"plain  hl\" ><span class=\"plain  rtl  \" ><span class=\"plain  rtl\"></span><span class=\"plain  rtl  \" ><span class=\"txtu hbo\">בָּרָ֣א </span></span></span></span><span class=\"plain  hl\" ><span class=\"plain  rtl  \" ><span class=\"plain  rtl\"></span><span class=\"plain  rtl  \" ><span class=\"txtu hbo\">אֱלֹהִ֑ים </span></span></span></span><span class=\"plain  rtl  \" ><span class=\"plain  rtl\"></span><span class=\"plain  rtl  \" ><span class=\"txtu hbo\">אֵ֥ת </span></span><span class=\"plain  rtl  \" ><span class=\"txtu hbo\">הַ</span></span><span class=\"plain  rtl  \" ><span class=\"txtu hbo\">שָּׁמַ֖יִם </span></span><span class=\"plain  rtl  \" ><span class=\"txtu hbo\">וְ</span></span><span class=\"plain  rtl  \" ><span class=\"txtu hbo\">אֵ֥ת </span></span><span class=\"plain  rtl  \" ><span class=\"txtu hbo\">הָ</span></span><span class=\"plain  rtl  \" ><span class=\"txtu hbo\">אָֽרֶץ׃ </span></span></span></span></span></td><td class=\"tf\"><span class=\"plain  hl\" ><span class=\"plain  rtl  \" ><span class=\"plain  rtl\"></span><span class=\"plain  rtl  \" ><span class=\"txtu hbo\">אֱלֹהִ֑ים </span></span></span></span></td><td class=\"tf\"><span class=\"plain  hl\" ><span class=\"plain  rtl  \" ><span class=\"plain  rtl\"></span><span class=\"plain  rtl  \" ><span class=\"txtu hbo\">בָּרָ֣א </span></span></span></span></td></tr>\n",
       "<tr class=\"tf\"><td class=\"tf\">2</td><td class=\"tf\"><span class=\"section ltr\"><a target=\"_blank\" href=\"https://shebanq.ancient-data.org/hebrew/text?book=Genesis&amp;chapter=1&amp;verse=2&amp;version=2017&amp;mr=m&amp;qw=q&amp;tp=txt_p&amp;tr=hb&amp;wget=v&amp;qget=v&amp;nget=vt\" title=\"Show this on SHEBANQ\" sec=\"Genesis 1:2\">Genesis 1:2</a></span></td><td class=\"tf\"><span class=\"plain  hlbx\" ><span class=\"plain  rtl  \" ><span class=\"plain  rtl\"></span><span class=\"plain  rtl  \" ><span class=\"plain  rtl\"></span><span class=\"plain  rtl  \" ><span class=\"txtu hbo\">וְ</span></span></span><span class=\"plain  rtl  \" ><span class=\"plain  rtl\"></span><span class=\"plain  rtl  \" ><span class=\"txtu hbo\">ר֣וּחַ </span></span><span class=\"plain  rtl  \" ><span class=\"txtu hbo\">אֱלֹהִ֔ים </span></span></span><span class=\"plain  hl\" ><span class=\"plain  rtl  \" ><span class=\"plain  rtl\"></span><span class=\"plain  rtl  \" ><span class=\"txtu hbo\">מְרַחֶ֖פֶת </span></span></span></span><span class=\"plain  hl\" ><span class=\"plain  rtl  \" ><span class=\"plain  rtl\"></span><span class=\"plain  rtl  \" ><span class=\"txtu hbo\">עַל־</span></span><span class=\"plain  rtl  \" ><span class=\"txtu hbo\">פְּנֵ֥י </span></span><span class=\"plain  rtl  \" ><span class=\"txtu hbo\">הַ</span></span><span class=\"plain  rtl  \" ><span class=\"txtu hbo\">מָּֽיִם׃ </span></span></span></span></span></span></td><td class=\"tf\"><span class=\"plain  hl\" ><span class=\"plain  rtl  \" ><span class=\"plain  rtl\"></span><span class=\"plain  rtl  \" ><span class=\"txtu hbo\">עַל־</span></span><span class=\"plain  rtl  \" ><span class=\"txtu hbo\">פְּנֵ֥י </span></span><span class=\"plain  rtl  \" ><span class=\"txtu hbo\">הַ</span></span><span class=\"plain  rtl  \" ><span class=\"txtu hbo\">מָּֽיִם׃ </span></span></span></span></td><td class=\"tf\"><span class=\"plain  hl\" ><span class=\"plain  rtl  \" ><span class=\"plain  rtl\"></span><span class=\"plain  rtl  \" ><span class=\"txtu hbo\">מְרַחֶ֖פֶת </span></span></span></span></td></tr>\n",
       "<tr class=\"tf\"><td class=\"tf\">3</td><td class=\"tf\"><span class=\"section ltr\"><a target=\"_blank\" href=\"https://shebanq.ancient-data.org/hebrew/text?book=Genesis&amp;chapter=1&amp;verse=4&amp;version=2017&amp;mr=m&amp;qw=q&amp;tp=txt_p&amp;tr=hb&amp;wget=v&amp;qget=v&amp;nget=vt\" title=\"Show this on SHEBANQ\" sec=\"Genesis 1:4\">Genesis 1:4</a></span></td><td class=\"tf\"><span class=\"plain  hlbx\" ><span class=\"plain  rtl  \" ><span class=\"plain  rtl\"></span><span class=\"plain  rtl  \" ><span class=\"plain  rtl\"></span><span class=\"plain  rtl  \" ><span class=\"txtu hbo\">וַ</span></span></span><span class=\"plain  hl\" ><span class=\"plain  rtl  \" ><span class=\"plain  rtl\"></span><span class=\"plain  rtl  \" ><span class=\"txtu hbo\">יַּבְדֵּ֣ל </span></span></span></span><span class=\"plain  hl\" ><span class=\"plain  rtl  \" ><span class=\"plain  rtl\"></span><span class=\"plain  rtl  \" ><span class=\"txtu hbo\">אֱלֹהִ֔ים </span></span></span></span><span class=\"plain  rtl  \" ><span class=\"plain  rtl\"></span><span class=\"plain  rtl  \" ><span class=\"txtu hbo\">בֵּ֥ין </span></span><span class=\"plain  rtl  \" ><span class=\"txtu hbo\">הָ</span></span><span class=\"plain  rtl  \" ><span class=\"txtu hbo\">אֹ֖ור </span></span><span class=\"plain  rtl  \" ><span class=\"txtu hbo\">וּ</span></span><span class=\"plain  rtl  \" ><span class=\"txtu hbo\">בֵ֥ין </span></span><span class=\"plain  rtl  \" ><span class=\"txtu hbo\">הַ</span></span><span class=\"plain  rtl  \" ><span class=\"txtu hbo\">חֹֽשֶׁךְ׃ </span></span></span></span></span></td><td class=\"tf\"><span class=\"plain  hl\" ><span class=\"plain  rtl  \" ><span class=\"plain  rtl\"></span><span class=\"plain  rtl  \" ><span class=\"txtu hbo\">אֱלֹהִ֔ים </span></span></span></span></td><td class=\"tf\"><span class=\"plain  hl\" ><span class=\"plain  rtl  \" ><span class=\"plain  rtl\"></span><span class=\"plain  rtl  \" ><span class=\"txtu hbo\">יַּבְדֵּ֣ל </span></span></span></span></td></tr></table>"
      ],
      "text/plain": [
       "<IPython.core.display.HTML object>"
      ]
     },
     "metadata": {},
     "output_type": "display_data"
    }
   ],
   "source": [
    "query = '''\n",
    "clause\n",
    "  common otype=phrase\n",
    "  :> rare otype=phrase\n",
    "'''\n",
    "resultsCommon = A.search(query, sets=customSets)\n",
    "A.table(resultsCommon, start=1, end=3, baseTypes=\"phrase\")"
   ]
  },
  {
   "cell_type": "markdown",
   "metadata": {},
   "source": [
    "Another example: are there clauses with multiple clause atoms without a gap between the two?"
   ]
  },
  {
   "cell_type": "code",
   "execution_count": 52,
   "metadata": {
    "ExecuteTime": {
     "end_time": "2018-05-24T09:33:15.105847Z",
     "start_time": "2018-05-24T09:33:14.237419Z"
    }
   },
   "outputs": [
    {
     "name": "stdout",
     "output_type": "stream",
     "text": [
      "  0.42s 0 results\n"
     ]
    },
    {
     "data": {
      "text/html": [
       "<table></table>"
      ],
      "text/plain": [
       "<IPython.core.display.HTML object>"
      ]
     },
     "metadata": {},
     "output_type": "display_data"
    }
   ],
   "source": [
    "query = '''\n",
    "clause\n",
    "  clause_atom\n",
    "  <: clause_atom\n",
    "'''\n",
    "results = A.search(query)\n",
    "A.table(results, start=1, end=10, baseTypes=\"clause_atom\")"
   ]
  },
  {
   "cell_type": "markdown",
   "metadata": {},
   "source": [
    "Conclusion: there is always textual material between clause_atoms of the same clause.\n",
    "If we lift the adjacency to sequentially before (`<<`) we do get results:"
   ]
  },
  {
   "cell_type": "code",
   "execution_count": 53,
   "metadata": {
    "ExecuteTime": {
     "end_time": "2018-05-24T09:34:14.004381Z",
     "start_time": "2018-05-24T09:34:13.002485Z"
    }
   },
   "outputs": [
    {
     "name": "stdout",
     "output_type": "stream",
     "text": [
      "  0.43s 2701 results\n"
     ]
    },
    {
     "data": {
      "text/html": [
       "<table><tr class=\"tf\"><th class=\"tf\">n</th><th class=\"tf\">p</th><th class=\"tf\">clause</th><th class=\"tf\">clause_atom</th><th class=\"tf\">clause_atom</th></tr>\n",
       "<tr class=\"tf\"><td class=\"tf\">1</td><td class=\"tf\"><span class=\"section ltr\"><a target=\"_blank\" href=\"https://shebanq.ancient-data.org/hebrew/text?book=Genesis&amp;chapter=1&amp;verse=7&amp;version=2017&amp;mr=m&amp;qw=q&amp;tp=txt_p&amp;tr=hb&amp;wget=v&amp;qget=v&amp;nget=vt\" title=\"Show this on SHEBANQ\" sec=\"Genesis 1:7\">Genesis 1:7</a></span></td><td class=\"tf\"><span class=\"plain  l hlbx\" ><span class=\"plain  rtl  hl\" ><span class=\"plain  rtl\"></span><span class=\"plain  rtl  \" ><span class=\"plain  rtl\"></span><span class=\"plain  rtl  \" ><span class=\"txtu hbo\">וַ</span></span></span><span class=\"plain  rtl  \" ><span class=\"plain  rtl\"></span><span class=\"plain  rtl  \" ><span class=\"txtu hbo\">יַּבְדֵּ֗ל </span></span></span><span class=\"plain  rtl  \" ><span class=\"plain  rtl\"></span><span class=\"plain  rtl  \" ><span class=\"txtu hbo\">בֵּ֤ין </span></span><span class=\"plain  rtl  \" ><span class=\"txtu hbo\">הַ</span></span><span class=\"plain  rtl  \" ><span class=\"txtu hbo\">מַּ֨יִם֙ </span></span></span></span></span><span class=\"plain  r hlbx\" ><span class=\"plain  rtl  hl\" ><span class=\"plain  rtl\"></span><span class=\"plain  rtl  \" ><span class=\"plain  rtl\"></span><span class=\"plain  rtl  \" ><span class=\"txtu hbo\">וּ</span></span></span><span class=\"plain  rtl  \" ><span class=\"plain  rtl\"></span><span class=\"plain  rtl  \" ><span class=\"txtu hbo\">בֵ֣ין </span></span><span class=\"plain  rtl  \" ><span class=\"txtu hbo\">הַ</span></span><span class=\"plain  rtl  \" ><span class=\"txtu hbo\">מַּ֔יִם </span></span></span></span></span></td><td class=\"tf\"><span class=\"plain outer rtl  hl\" ><span class=\"plain  rtl\"></span><span class=\"plain  rtl  \" ><span class=\"plain  rtl\"></span><span class=\"plain  rtl  \" ><span class=\"txtu hbo\">וַ</span></span></span><span class=\"plain  rtl  \" ><span class=\"plain  rtl\"></span><span class=\"plain  rtl  \" ><span class=\"txtu hbo\">יַּבְדֵּ֗ל </span></span></span><span class=\"plain  rtl  \" ><span class=\"plain  rtl\"></span><span class=\"plain  rtl  \" ><span class=\"txtu hbo\">בֵּ֤ין </span></span><span class=\"plain  rtl  \" ><span class=\"txtu hbo\">הַ</span></span><span class=\"plain  rtl  \" ><span class=\"txtu hbo\">מַּ֨יִם֙ </span></span></span></span></td><td class=\"tf\"><span class=\"plain outer rtl  hl\" ><span class=\"plain  rtl\"></span><span class=\"plain  rtl  \" ><span class=\"plain  rtl\"></span><span class=\"plain  rtl  \" ><span class=\"txtu hbo\">וּ</span></span></span><span class=\"plain  rtl  \" ><span class=\"plain  rtl\"></span><span class=\"plain  rtl  \" ><span class=\"txtu hbo\">בֵ֣ין </span></span><span class=\"plain  rtl  \" ><span class=\"txtu hbo\">הַ</span></span><span class=\"plain  rtl  \" ><span class=\"txtu hbo\">מַּ֔יִם </span></span></span></span></td></tr>\n",
       "<tr class=\"tf\"><td class=\"tf\">2</td><td class=\"tf\"><span class=\"section ltr\"><a target=\"_blank\" href=\"https://shebanq.ancient-data.org/hebrew/text?book=Genesis&amp;chapter=1&amp;verse=11&amp;version=2017&amp;mr=m&amp;qw=q&amp;tp=txt_p&amp;tr=hb&amp;wget=v&amp;qget=v&amp;nget=vt\" title=\"Show this on SHEBANQ\" sec=\"Genesis 1:11\">Genesis 1:11</a></span></td><td class=\"tf\"><span class=\"plain  l hlbx\" ><span class=\"plain  rtl  hl\" ><span class=\"plain  rtl\"></span><span class=\"plain  rtl  \" ><span class=\"plain  rtl\"></span><span class=\"plain  rtl  \" ><span class=\"txtu hbo\">תַּֽדְשֵׁ֤א </span></span></span><span class=\"plain  rtl  \" ><span class=\"plain  rtl\"></span><span class=\"plain  rtl  \" ><span class=\"txtu hbo\">הָ</span></span><span class=\"plain  rtl  \" ><span class=\"txtu hbo\">אָ֨רֶץ֙ </span></span></span><span class=\"plain  rtl  \" ><span class=\"plain  rtl\"></span><span class=\"plain  rtl  \" ><span class=\"txtu hbo\">דֶּ֔שֶׁא </span></span></span><span class=\"plain  rtl  \" ><span class=\"plain  rtl\"></span><span class=\"plain  rtl  \" ><span class=\"txtu hbo\">עֵ֚שֶׂב </span></span></span></span></span><span class=\"plain  r hlbx\" ><span class=\"plain  rtl  hl\" ><span class=\"plain  rtl\"></span><span class=\"plain  rtl  \" ><span class=\"plain  rtl\"></span><span class=\"plain  rtl  \" ><span class=\"txtu hbo\">עֵ֣ץ </span></span><span class=\"plain  rtl  \" ><span class=\"txtu hbo\">פְּרִ֞י </span></span></span></span></span></td><td class=\"tf\"><span class=\"plain outer rtl  hl\" ><span class=\"plain  rtl\"></span><span class=\"plain  rtl  \" ><span class=\"plain  rtl\"></span><span class=\"plain  rtl  \" ><span class=\"txtu hbo\">תַּֽדְשֵׁ֤א </span></span></span><span class=\"plain  rtl  \" ><span class=\"plain  rtl\"></span><span class=\"plain  rtl  \" ><span class=\"txtu hbo\">הָ</span></span><span class=\"plain  rtl  \" ><span class=\"txtu hbo\">אָ֨רֶץ֙ </span></span></span><span class=\"plain  rtl  \" ><span class=\"plain  rtl\"></span><span class=\"plain  rtl  \" ><span class=\"txtu hbo\">דֶּ֔שֶׁא </span></span></span><span class=\"plain  rtl  \" ><span class=\"plain  rtl\"></span><span class=\"plain  rtl  \" ><span class=\"txtu hbo\">עֵ֚שֶׂב </span></span></span></span></td><td class=\"tf\"><span class=\"plain outer rtl  hl\" ><span class=\"plain  rtl\"></span><span class=\"plain  rtl  \" ><span class=\"plain  rtl\"></span><span class=\"plain  rtl  \" ><span class=\"txtu hbo\">עֵ֣ץ </span></span><span class=\"plain  rtl  \" ><span class=\"txtu hbo\">פְּרִ֞י </span></span></span></span></td></tr>\n",
       "<tr class=\"tf\"><td class=\"tf\">3</td><td class=\"tf\"><span class=\"section ltr\"><a target=\"_blank\" href=\"https://shebanq.ancient-data.org/hebrew/text?book=Genesis&amp;chapter=1&amp;verse=11&amp;version=2017&amp;mr=m&amp;qw=q&amp;tp=txt_p&amp;tr=hb&amp;wget=v&amp;qget=v&amp;nget=vt\" title=\"Show this on SHEBANQ\" sec=\"Genesis 1:11\">Genesis 1:11</a></span></td><td class=\"tf\"><span class=\"plain  l hlbx\" ><span class=\"plain  rtl  hl\" ><span class=\"plain  rtl\"></span><span class=\"plain  rtl  \" ><span class=\"plain  rtl\"></span><span class=\"plain  rtl  \" ><span class=\"txtu hbo\">עֹ֤שֶׂה </span></span></span><span class=\"plain  rtl  \" ><span class=\"plain  rtl\"></span><span class=\"plain  rtl  \" ><span class=\"txtu hbo\">פְּרִי֙ </span></span></span><span class=\"plain  rtl  \" ><span class=\"plain  rtl\"></span><span class=\"plain  rtl  \" ><span class=\"txtu hbo\">לְ</span></span><span class=\"plain  rtl  \" ><span class=\"txtu hbo\">מִינֹ֔ו </span></span></span></span></span><span class=\"plain  r hlbx\" ><span class=\"plain  rtl  hl\" ><span class=\"plain  rtl\"></span><span class=\"plain  rtl  \" ><span class=\"plain  rtl\"></span><span class=\"plain  rtl  \" ><span class=\"txtu hbo\">עַל־</span></span><span class=\"plain  rtl  \" ><span class=\"txtu hbo\">הָ</span></span><span class=\"plain  rtl  \" ><span class=\"txtu hbo\">אָ֑רֶץ </span></span></span></span></span></td><td class=\"tf\"><span class=\"plain outer rtl  hl\" ><span class=\"plain  rtl\"></span><span class=\"plain  rtl  \" ><span class=\"plain  rtl\"></span><span class=\"plain  rtl  \" ><span class=\"txtu hbo\">עֹ֤שֶׂה </span></span></span><span class=\"plain  rtl  \" ><span class=\"plain  rtl\"></span><span class=\"plain  rtl  \" ><span class=\"txtu hbo\">פְּרִי֙ </span></span></span><span class=\"plain  rtl  \" ><span class=\"plain  rtl\"></span><span class=\"plain  rtl  \" ><span class=\"txtu hbo\">לְ</span></span><span class=\"plain  rtl  \" ><span class=\"txtu hbo\">מִינֹ֔ו </span></span></span></span></td><td class=\"tf\"><span class=\"plain outer rtl  hl\" ><span class=\"plain  rtl\"></span><span class=\"plain  rtl  \" ><span class=\"plain  rtl\"></span><span class=\"plain  rtl  \" ><span class=\"txtu hbo\">עַל־</span></span><span class=\"plain  rtl  \" ><span class=\"txtu hbo\">הָ</span></span><span class=\"plain  rtl  \" ><span class=\"txtu hbo\">אָ֑רֶץ </span></span></span></span></td></tr>\n",
       "<tr class=\"tf\"><td class=\"tf\">4</td><td class=\"tf\"><span class=\"section ltr\"><a target=\"_blank\" href=\"https://shebanq.ancient-data.org/hebrew/text?book=Genesis&amp;chapter=1&amp;verse=12&amp;version=2017&amp;mr=m&amp;qw=q&amp;tp=txt_p&amp;tr=hb&amp;wget=v&amp;qget=v&amp;nget=vt\" title=\"Show this on SHEBANQ\" sec=\"Genesis 1:12\">Genesis 1:12</a></span></td><td class=\"tf\"><span class=\"plain  l hlbx\" ><span class=\"plain  rtl  hl\" ><span class=\"plain  rtl\"></span><span class=\"plain  rtl  \" ><span class=\"plain  rtl\"></span><span class=\"plain  rtl  \" ><span class=\"txtu hbo\">וַ</span></span></span><span class=\"plain  rtl  \" ><span class=\"plain  rtl\"></span><span class=\"plain  rtl  \" ><span class=\"txtu hbo\">תֹּוצֵ֨א </span></span></span><span class=\"plain  rtl  \" ><span class=\"plain  rtl\"></span><span class=\"plain  rtl  \" ><span class=\"txtu hbo\">הָ</span></span><span class=\"plain  rtl  \" ><span class=\"txtu hbo\">אָ֜רֶץ </span></span></span><span class=\"plain  rtl  \" ><span class=\"plain  rtl\"></span><span class=\"plain  rtl  \" ><span class=\"txtu hbo\">דֶּ֠שֶׁא </span></span></span><span class=\"plain  rtl  \" ><span class=\"plain  rtl\"></span><span class=\"plain  rtl  \" ><span class=\"txtu hbo\">עֵ֣שֶׂב </span></span></span></span></span><span class=\"plain  r hlbx\" ><span class=\"plain  rtl  hl\" ><span class=\"plain  rtl\"></span><span class=\"plain  rtl  \" ><span class=\"plain  rtl\"></span><span class=\"plain  rtl  \" ><span class=\"txtu hbo\">וְ</span></span></span><span class=\"plain  rtl  \" ><span class=\"plain  rtl\"></span><span class=\"plain  rtl  \" ><span class=\"txtu hbo\">עֵ֧ץ </span></span></span></span></span></td><td class=\"tf\"><span class=\"plain outer rtl  hl\" ><span class=\"plain  rtl\"></span><span class=\"plain  rtl  \" ><span class=\"plain  rtl\"></span><span class=\"plain  rtl  \" ><span class=\"txtu hbo\">וַ</span></span></span><span class=\"plain  rtl  \" ><span class=\"plain  rtl\"></span><span class=\"plain  rtl  \" ><span class=\"txtu hbo\">תֹּוצֵ֨א </span></span></span><span class=\"plain  rtl  \" ><span class=\"plain  rtl\"></span><span class=\"plain  rtl  \" ><span class=\"txtu hbo\">הָ</span></span><span class=\"plain  rtl  \" ><span class=\"txtu hbo\">אָ֜רֶץ </span></span></span><span class=\"plain  rtl  \" ><span class=\"plain  rtl\"></span><span class=\"plain  rtl  \" ><span class=\"txtu hbo\">דֶּ֠שֶׁא </span></span></span><span class=\"plain  rtl  \" ><span class=\"plain  rtl\"></span><span class=\"plain  rtl  \" ><span class=\"txtu hbo\">עֵ֣שֶׂב </span></span></span></span></td><td class=\"tf\"><span class=\"plain outer rtl  hl\" ><span class=\"plain  rtl\"></span><span class=\"plain  rtl  \" ><span class=\"plain  rtl\"></span><span class=\"plain  rtl  \" ><span class=\"txtu hbo\">וְ</span></span></span><span class=\"plain  rtl  \" ><span class=\"plain  rtl\"></span><span class=\"plain  rtl  \" ><span class=\"txtu hbo\">עֵ֧ץ </span></span></span></span></td></tr>\n",
       "<tr class=\"tf\"><td class=\"tf\">5</td><td class=\"tf\"><span class=\"section ltr\"><a target=\"_blank\" href=\"https://shebanq.ancient-data.org/hebrew/text?book=Genesis&amp;chapter=1&amp;verse=12&amp;version=2017&amp;mr=m&amp;qw=q&amp;tp=txt_p&amp;tr=hb&amp;wget=v&amp;qget=v&amp;nget=vt\" title=\"Show this on SHEBANQ\" sec=\"Genesis 1:12\">Genesis 1:12</a></span></td><td class=\"tf\"><span class=\"plain  l hlbx\" ><span class=\"plain  rtl  hl\" ><span class=\"plain  rtl\"></span><span class=\"plain  rtl  \" ><span class=\"plain  rtl\"></span><span class=\"plain  rtl  \" ><span class=\"txtu hbo\">עֹ֥שֶׂה </span></span></span><span class=\"plain  rtl  \" ><span class=\"plain  rtl\"></span><span class=\"plain  rtl  \" ><span class=\"txtu hbo\">פְּרִ֛י </span></span></span></span></span><span class=\"plain  r hlbx\" ><span class=\"plain  rtl  hl\" ><span class=\"plain  rtl\"></span><span class=\"plain  rtl  \" ><span class=\"plain  rtl\"></span><span class=\"plain  rtl  \" ><span class=\"txtu hbo\">לְ</span></span><span class=\"plain  rtl  \" ><span class=\"txtu hbo\">מִינֵ֑הוּ </span></span></span></span></span></td><td class=\"tf\"><span class=\"plain outer rtl  hl\" ><span class=\"plain  rtl\"></span><span class=\"plain  rtl  \" ><span class=\"plain  rtl\"></span><span class=\"plain  rtl  \" ><span class=\"txtu hbo\">עֹ֥שֶׂה </span></span></span><span class=\"plain  rtl  \" ><span class=\"plain  rtl\"></span><span class=\"plain  rtl  \" ><span class=\"txtu hbo\">פְּרִ֛י </span></span></span></span></td><td class=\"tf\"><span class=\"plain outer rtl  hl\" ><span class=\"plain  rtl\"></span><span class=\"plain  rtl  \" ><span class=\"plain  rtl\"></span><span class=\"plain  rtl  \" ><span class=\"txtu hbo\">לְ</span></span><span class=\"plain  rtl  \" ><span class=\"txtu hbo\">מִינֵ֑הוּ </span></span></span></span></td></tr></table>"
      ],
      "text/plain": [
       "<IPython.core.display.HTML object>"
      ]
     },
     "metadata": {},
     "output_type": "display_data"
    },
    {
     "data": {
      "text/html": [
       "<p><b>result</b> <i>1</i></p>"
      ],
      "text/plain": [
       "<IPython.core.display.HTML object>"
      ]
     },
     "metadata": {},
     "output_type": "display_data"
    },
    {
     "data": {
      "text/html": [
       "<span class=\"section ltr\"><a target=\"_blank\" href=\"https://shebanq.ancient-data.org/hebrew/text?book=Genesis&amp;chapter=1&amp;verse=7&amp;version=2017&amp;mr=m&amp;qw=q&amp;tp=txt_p&amp;tr=hb&amp;wget=v&amp;qget=v&amp;nget=vt\" title=\"Show this on SHEBANQ\" sec=\"Genesis 1:7\">Genesis 1:7</a> </span><div class=\"contnr c3  rtl  \" ><div class=\"lbl c3  \" ><span class=\"nd\">verse</span></div> <div class=\"children row wrap rtl\"><div class=\"contnr c2  rtl  \" ><div class=\"lbl c2  \" ><span class=\"nd\">sentence</span></div> <div class=\"children row wrap rtl\"><div class=\"contnr cnul trm rtl  \" ><div class=\"children row wrap rtl\"><div class=\"contnr c2  rtl  \" ><div class=\"lbl c2  \" ><span class=\"nd\">clause</span></div> <div class=\"children row wrap rtl\"><div class=\"contnr cnul trm rtl  \" ><div class=\"lbl c1 trm \" ><span class=\"\"><span class=\"plain outer rtl  \" ><span class=\"plain  rtl\"></span><span class=\"plain  rtl  \" ><span class=\"plain  rtl\"></span><span class=\"plain  rtl  \" ><span class=\"txtu hbo\">וַ</span></span></span><span class=\"plain  rtl  \" ><span class=\"plain  rtl\"></span><span class=\"plain  rtl  \" ><span class=\"txtu hbo\">יַּ֣עַשׂ </span></span></span><span class=\"plain  rtl  \" ><span class=\"plain  rtl\"></span><span class=\"plain  rtl  \" ><span class=\"txtu hbo\">אֱלֹהִים֮ </span></span></span><span class=\"plain  rtl  \" ><span class=\"plain  rtl\"></span><span class=\"plain  rtl  \" ><span class=\"txtu hbo\">אֶת־</span></span><span class=\"plain  rtl  \" ><span class=\"txtu hbo\">הָ</span></span><span class=\"plain  rtl  \" ><span class=\"txtu hbo\">רָקִיעַ֒ </span></span></span></span></span></div></div></div></div></div></div></div></div><div class=\"contnr c2  rtl  \" ><div class=\"lbl c2  \" ><span class=\"nd\">sentence</span></div> <div class=\"children row wrap rtl\"><div class=\"contnr cnul trm rtl  \" ><div class=\"children row wrap rtl\"><div class=\"contnr c2  rtl  l hl\" ><div class=\"lbl c2  hl\" ><span class=\"nd\">clause</span></div> <div class=\"children row wrap rtl\"><div class=\"contnr cnul trm rtl  hl\" ><div class=\"lbl c1 trm \" ><span class=\"\"><span class=\"plain outer rtl  hl\" ><span class=\"plain  rtl\"></span><span class=\"plain  rtl  \" ><span class=\"plain  rtl\"></span><span class=\"plain  rtl  \" ><span class=\"txtu hbo\">וַ</span></span></span><span class=\"plain  rtl  \" ><span class=\"plain  rtl\"></span><span class=\"plain  rtl  \" ><span class=\"txtu hbo\">יַּבְדֵּ֗ל </span></span></span><span class=\"plain  rtl  \" ><span class=\"plain  rtl\"></span><span class=\"plain  rtl  \" ><span class=\"txtu hbo\">בֵּ֤ין </span></span><span class=\"plain  rtl  \" ><span class=\"txtu hbo\">הַ</span></span><span class=\"plain  rtl  \" ><span class=\"txtu hbo\">מַּ֨יִם֙ </span></span></span></span></span></div></div></div></div><div class=\"contnr c2  rtl  \" ><div class=\"lbl c2  \" ><span class=\"nd\">clause</span></div> <div class=\"children row wrap rtl\"><div class=\"contnr cnul trm rtl  \" ><div class=\"lbl c1 trm \" ><span class=\"\"><span class=\"plain outer rtl  \" ><span class=\"plain  rtl\"></span><span class=\"plain  rtl  \" ><span class=\"plain  rtl\"></span><span class=\"plain  rtl  \" ><span class=\"txtu hbo\">אֲשֶׁר֙ </span></span></span><span class=\"plain  rtl  \" ><span class=\"plain  rtl\"></span><span class=\"plain  rtl  \" ><span class=\"txtu hbo\">מִ</span></span><span class=\"plain  rtl  \" ><span class=\"txtu hbo\">תַּ֣חַת </span></span></span><span class=\"plain  rtl  \" ><span class=\"plain  rtl\"></span><span class=\"plain  rtl  \" ><span class=\"txtu hbo\">לָ</span></span><span class=\"plain  rtl  \" ><span class=\"txtu hbo\"></span></span><span class=\"plain  rtl  \" ><span class=\"txtu hbo\">רָקִ֔יעַ </span></span></span></span></span></div></div></div></div><div class=\"contnr c2  rtl  r hl\" ><div class=\"lbl c2  hl\" ><span class=\"nd\">clause</span></div> <div class=\"children row wrap rtl\"><div class=\"contnr cnul trm rtl  hl\" ><div class=\"lbl c1 trm \" ><span class=\"\"><span class=\"plain outer rtl  hl\" ><span class=\"plain  rtl\"></span><span class=\"plain  rtl  \" ><span class=\"plain  rtl\"></span><span class=\"plain  rtl  \" ><span class=\"txtu hbo\">וּ</span></span></span><span class=\"plain  rtl  \" ><span class=\"plain  rtl\"></span><span class=\"plain  rtl  \" ><span class=\"txtu hbo\">בֵ֣ין </span></span><span class=\"plain  rtl  \" ><span class=\"txtu hbo\">הַ</span></span><span class=\"plain  rtl  \" ><span class=\"txtu hbo\">מַּ֔יִם </span></span></span></span></span></div></div></div></div><div class=\"contnr c2  rtl  \" ><div class=\"lbl c2  \" ><span class=\"nd\">clause</span></div> <div class=\"children row wrap rtl\"><div class=\"contnr cnul trm rtl  \" ><div class=\"lbl c1 trm \" ><span class=\"\"><span class=\"plain outer rtl  \" ><span class=\"plain  rtl\"></span><span class=\"plain  rtl  \" ><span class=\"plain  rtl\"></span><span class=\"plain  rtl  \" ><span class=\"txtu hbo\">אֲשֶׁ֖ר </span></span></span><span class=\"plain  rtl  \" ><span class=\"plain  rtl\"></span><span class=\"plain  rtl  \" ><span class=\"txtu hbo\">מֵ</span></span><span class=\"plain  rtl  \" ><span class=\"txtu hbo\">עַ֣ל </span></span><span class=\"plain  rtl  \" ><span class=\"txtu hbo\">לָ</span></span><span class=\"plain  rtl  \" ><span class=\"txtu hbo\"></span></span><span class=\"plain  rtl  \" ><span class=\"txtu hbo\">רָקִ֑יעַ </span></span></span></span></span></div></div></div></div></div></div></div></div><div class=\"contnr c2  rtl  \" ><div class=\"lbl c2  \" ><span class=\"nd\">sentence</span></div> <div class=\"children row wrap rtl\"><div class=\"contnr cnul trm rtl  \" ><div class=\"children row wrap rtl\"><div class=\"contnr c2  rtl  \" ><div class=\"lbl c2  \" ><span class=\"nd\">clause</span></div> <div class=\"children row wrap rtl\"><div class=\"contnr cnul trm rtl  \" ><div class=\"lbl c1 trm \" ><span class=\"\"><span class=\"plain outer rtl  \" ><span class=\"plain  rtl\"></span><span class=\"plain  rtl  \" ><span class=\"plain  rtl\"></span><span class=\"plain  rtl  \" ><span class=\"txtu hbo\">וַֽ</span></span></span><span class=\"plain  rtl  \" ><span class=\"plain  rtl\"></span><span class=\"plain  rtl  \" ><span class=\"txtu hbo\">יְהִי־</span></span></span><span class=\"plain  rtl  \" ><span class=\"plain  rtl\"></span><span class=\"plain  rtl  \" ><span class=\"txtu hbo\">כֵֽן׃ </span></span></span></span></span></div></div></div></div></div></div></div></div></div></div>"
      ],
      "text/plain": [
       "<IPython.core.display.HTML object>"
      ]
     },
     "metadata": {},
     "output_type": "display_data"
    }
   ],
   "source": [
    "query = '''\n",
    "clause\n",
    "  clause_atom\n",
    "  << clause_atom\n",
    "'''\n",
    "results = A.search(query)\n",
    "A.table(results, start=1, end=5, baseTypes=\"clause_atom\")\n",
    "A.show(results, start=1, end=1, baseTypes=\"clause_atom\")"
   ]
  },
  {
   "cell_type": "markdown",
   "metadata": {},
   "source": [
    "# Nearness\n",
    "\n",
    "The relations with `:` in their name always have a requirement somewhere that a slot of the\n",
    "left hand node equals a slot of the right hand node, or that the two are adjacent.\n",
    "\n",
    "All these relationships can be relaxed by a **nearness number**.\n",
    "If you put a number *k* inside the relationship symbols, those restrictions will be relaxed to\n",
    "*the one slot and the other slot should have a mutual distance of at most k*.\n",
    "\n",
    "## =k: same start within k slots\n",
    "\n",
    "Here is an example.\n",
    "\n",
    "First we look for clauses, with a phrase in it that starts at the\n",
    "same slot as the clause."
   ]
  },
  {
   "cell_type": "code",
   "execution_count": 54,
   "metadata": {
    "ExecuteTime": {
     "end_time": "2018-05-24T10:07:04.112246Z",
     "start_time": "2018-05-24T10:07:03.896523Z"
    }
   },
   "outputs": [
    {
     "name": "stdout",
     "output_type": "stream",
     "text": [
      "  0.43s 126 results\n"
     ]
    }
   ],
   "source": [
    "results = A.search('''\n",
    "chapter book=Genesis chapter=1\n",
    "  clause\n",
    "    =: phrase\n",
    "''')"
   ]
  },
  {
   "cell_type": "markdown",
   "metadata": {},
   "source": [
    "Now we add a bit of freedom, but not much: 0. Indeed, this is no extra\n",
    "freedom, and it should give the same number of results."
   ]
  },
  {
   "cell_type": "code",
   "execution_count": 55,
   "metadata": {
    "ExecuteTime": {
     "end_time": "2018-05-24T10:07:07.275070Z",
     "start_time": "2018-05-24T10:07:07.067280Z"
    }
   },
   "outputs": [
    {
     "name": "stdout",
     "output_type": "stream",
     "text": [
      "  0.50s 126 results\n"
     ]
    }
   ],
   "source": [
    "results=A.search('''\n",
    "chapter book=Genesis chapter=1\n",
    "  clause\n",
    "    =0: phrase\n",
    "''')"
   ]
  },
  {
   "cell_type": "markdown",
   "metadata": {},
   "source": [
    "Now we add real freedom: 1 and 2"
   ]
  },
  {
   "cell_type": "code",
   "execution_count": 56,
   "metadata": {
    "ExecuteTime": {
     "end_time": "2018-05-24T10:07:08.830980Z",
     "start_time": "2018-05-24T10:07:08.610457Z"
    }
   },
   "outputs": [
    {
     "name": "stdout",
     "output_type": "stream",
     "text": [
      "  0.73s 236 results\n"
     ]
    }
   ],
   "source": [
    "results = A.search('''\n",
    "chapter book=Genesis chapter=1\n",
    "    clause\n",
    "      =1: phrase\n",
    "''')"
   ]
  },
  {
   "cell_type": "code",
   "execution_count": 57,
   "metadata": {
    "ExecuteTime": {
     "end_time": "2018-05-24T10:07:10.594598Z",
     "start_time": "2018-05-24T10:07:10.370887Z"
    }
   },
   "outputs": [
    {
     "name": "stdout",
     "output_type": "stream",
     "text": [
      "  0.31s 315 results\n"
     ]
    }
   ],
   "source": [
    "results = A.search('''\n",
    "chapter book=Genesis chapter=1\n",
    "    clause\n",
    "      =2: phrase\n",
    "''')"
   ]
  },
  {
   "cell_type": "markdown",
   "metadata": {},
   "source": [
    "Let us see some cases:"
   ]
  },
  {
   "cell_type": "code",
   "execution_count": 58,
   "metadata": {
    "ExecuteTime": {
     "end_time": "2018-05-24T10:07:12.554216Z",
     "start_time": "2018-05-24T10:07:12.507558Z"
    }
   },
   "outputs": [
    {
     "data": {
      "text/html": [
       "<table><tr class=\"tf\"><th class=\"tf\">n</th><th class=\"tf\">p</th><th class=\"tf\">clause</th><th class=\"tf\">phrase</th></tr>\n",
       "<tr class=\"tf\"><td class=\"tf\">1</td><td class=\"tf\"><span class=\"section ltr\"><a target=\"_blank\" href=\"https://shebanq.ancient-data.org/hebrew/text?book=Genesis&amp;chapter=1&amp;verse=1&amp;version=2017&amp;mr=m&amp;qw=q&amp;tp=txt_p&amp;tr=hb&amp;wget=v&amp;qget=v&amp;nget=vt\" title=\"Show this on SHEBANQ\" sec=\"Genesis 1:1\">Genesis 1:1</a></span></td><td class=\"tf\"><span class=\"plain  hlbx\" ><span class=\"plain  rtl  \" ><span class=\"plain  rtl\"></span><span class=\"plain  hl\" ><span class=\"plain  rtl  \" ><span class=\"plain  rtl\"></span><span class=\"plain  rtl  \" ><span class=\"txtu hbo\">בְּ</span></span><span class=\"plain  rtl  \" ><span class=\"txtu hbo\">רֵאשִׁ֖ית </span></span></span></span><span class=\"plain  rtl  \" ><span class=\"plain  rtl\"></span><span class=\"plain  rtl  \" ><span class=\"txtu hbo\">בָּרָ֣א </span></span></span><span class=\"plain  rtl  \" ><span class=\"plain  rtl\"></span><span class=\"plain  rtl  \" ><span class=\"txtu hbo\">אֱלֹהִ֑ים </span></span></span><span class=\"plain  rtl  \" ><span class=\"plain  rtl\"></span><span class=\"plain  rtl  \" ><span class=\"txtu hbo\">אֵ֥ת </span></span><span class=\"plain  rtl  \" ><span class=\"txtu hbo\">הַ</span></span><span class=\"plain  rtl  \" ><span class=\"txtu hbo\">שָּׁמַ֖יִם </span></span><span class=\"plain  rtl  \" ><span class=\"txtu hbo\">וְ</span></span><span class=\"plain  rtl  \" ><span class=\"txtu hbo\">אֵ֥ת </span></span><span class=\"plain  rtl  \" ><span class=\"txtu hbo\">הָ</span></span><span class=\"plain  rtl  \" ><span class=\"txtu hbo\">אָֽרֶץ׃ </span></span></span></span></span></td><td class=\"tf\"><span class=\"plain  hl\" ><span class=\"plain  rtl  \" ><span class=\"plain  rtl\"></span><span class=\"plain  rtl  \" ><span class=\"txtu hbo\">בְּ</span></span><span class=\"plain  rtl  \" ><span class=\"txtu hbo\">רֵאשִׁ֖ית </span></span></span></span></td></tr>\n",
       "<tr class=\"tf\"><td class=\"tf\">2</td><td class=\"tf\"><span class=\"section ltr\"><a target=\"_blank\" href=\"https://shebanq.ancient-data.org/hebrew/text?book=Genesis&amp;chapter=1&amp;verse=1&amp;version=2017&amp;mr=m&amp;qw=q&amp;tp=txt_p&amp;tr=hb&amp;wget=v&amp;qget=v&amp;nget=vt\" title=\"Show this on SHEBANQ\" sec=\"Genesis 1:1\">Genesis 1:1</a></span></td><td class=\"tf\"><span class=\"plain  hlbx\" ><span class=\"plain  rtl  \" ><span class=\"plain  rtl\"></span><span class=\"plain  rtl  \" ><span class=\"plain  rtl\"></span><span class=\"plain  rtl  \" ><span class=\"txtu hbo\">בְּ</span></span><span class=\"plain  rtl  \" ><span class=\"txtu hbo\">רֵאשִׁ֖ית </span></span></span><span class=\"plain  hl\" ><span class=\"plain  rtl  \" ><span class=\"plain  rtl\"></span><span class=\"plain  rtl  \" ><span class=\"txtu hbo\">בָּרָ֣א </span></span></span></span><span class=\"plain  rtl  \" ><span class=\"plain  rtl\"></span><span class=\"plain  rtl  \" ><span class=\"txtu hbo\">אֱלֹהִ֑ים </span></span></span><span class=\"plain  rtl  \" ><span class=\"plain  rtl\"></span><span class=\"plain  rtl  \" ><span class=\"txtu hbo\">אֵ֥ת </span></span><span class=\"plain  rtl  \" ><span class=\"txtu hbo\">הַ</span></span><span class=\"plain  rtl  \" ><span class=\"txtu hbo\">שָּׁמַ֖יִם </span></span><span class=\"plain  rtl  \" ><span class=\"txtu hbo\">וְ</span></span><span class=\"plain  rtl  \" ><span class=\"txtu hbo\">אֵ֥ת </span></span><span class=\"plain  rtl  \" ><span class=\"txtu hbo\">הָ</span></span><span class=\"plain  rtl  \" ><span class=\"txtu hbo\">אָֽרֶץ׃ </span></span></span></span></span></td><td class=\"tf\"><span class=\"plain  hl\" ><span class=\"plain  rtl  \" ><span class=\"plain  rtl\"></span><span class=\"plain  rtl  \" ><span class=\"txtu hbo\">בָּרָ֣א </span></span></span></span></td></tr>\n",
       "<tr class=\"tf\"><td class=\"tf\">3</td><td class=\"tf\"><span class=\"section ltr\"><a target=\"_blank\" href=\"https://shebanq.ancient-data.org/hebrew/text?book=Genesis&amp;chapter=1&amp;verse=2&amp;version=2017&amp;mr=m&amp;qw=q&amp;tp=txt_p&amp;tr=hb&amp;wget=v&amp;qget=v&amp;nget=vt\" title=\"Show this on SHEBANQ\" sec=\"Genesis 1:2\">Genesis 1:2</a></span></td><td class=\"tf\"><span class=\"plain  hlbx\" ><span class=\"plain  rtl  \" ><span class=\"plain  rtl\"></span><span class=\"plain  hl\" ><span class=\"plain  rtl  \" ><span class=\"plain  rtl\"></span><span class=\"plain  rtl  \" ><span class=\"txtu hbo\">וְ</span></span></span></span><span class=\"plain  rtl  \" ><span class=\"plain  rtl\"></span><span class=\"plain  rtl  \" ><span class=\"txtu hbo\">הָ</span></span><span class=\"plain  rtl  \" ><span class=\"txtu hbo\">אָ֗רֶץ </span></span></span><span class=\"plain  rtl  \" ><span class=\"plain  rtl\"></span><span class=\"plain  rtl  \" ><span class=\"txtu hbo\">הָיְתָ֥ה </span></span></span><span class=\"plain  rtl  \" ><span class=\"plain  rtl\"></span><span class=\"plain  rtl  \" ><span class=\"txtu hbo\">תֹ֨הוּ֙ </span></span><span class=\"plain  rtl  \" ><span class=\"txtu hbo\">וָ</span></span><span class=\"plain  rtl  \" ><span class=\"txtu hbo\">בֹ֔הוּ </span></span></span></span></span></td><td class=\"tf\"><span class=\"plain  hl\" ><span class=\"plain  rtl  \" ><span class=\"plain  rtl\"></span><span class=\"plain  rtl  \" ><span class=\"txtu hbo\">וְ</span></span></span></span></td></tr>\n",
       "<tr class=\"tf\"><td class=\"tf\">4</td><td class=\"tf\"><span class=\"section ltr\"><a target=\"_blank\" href=\"https://shebanq.ancient-data.org/hebrew/text?book=Genesis&amp;chapter=1&amp;verse=2&amp;version=2017&amp;mr=m&amp;qw=q&amp;tp=txt_p&amp;tr=hb&amp;wget=v&amp;qget=v&amp;nget=vt\" title=\"Show this on SHEBANQ\" sec=\"Genesis 1:2\">Genesis 1:2</a></span></td><td class=\"tf\"><span class=\"plain  hlbx\" ><span class=\"plain  rtl  \" ><span class=\"plain  rtl\"></span><span class=\"plain  rtl  \" ><span class=\"plain  rtl\"></span><span class=\"plain  rtl  \" ><span class=\"txtu hbo\">וְ</span></span></span><span class=\"plain  hl\" ><span class=\"plain  rtl  \" ><span class=\"plain  rtl\"></span><span class=\"plain  rtl  \" ><span class=\"txtu hbo\">הָ</span></span><span class=\"plain  rtl  \" ><span class=\"txtu hbo\">אָ֗רֶץ </span></span></span></span><span class=\"plain  rtl  \" ><span class=\"plain  rtl\"></span><span class=\"plain  rtl  \" ><span class=\"txtu hbo\">הָיְתָ֥ה </span></span></span><span class=\"plain  rtl  \" ><span class=\"plain  rtl\"></span><span class=\"plain  rtl  \" ><span class=\"txtu hbo\">תֹ֨הוּ֙ </span></span><span class=\"plain  rtl  \" ><span class=\"txtu hbo\">וָ</span></span><span class=\"plain  rtl  \" ><span class=\"txtu hbo\">בֹ֔הוּ </span></span></span></span></span></td><td class=\"tf\"><span class=\"plain  hl\" ><span class=\"plain  rtl  \" ><span class=\"plain  rtl\"></span><span class=\"plain  rtl  \" ><span class=\"txtu hbo\">הָ</span></span><span class=\"plain  rtl  \" ><span class=\"txtu hbo\">אָ֗רֶץ </span></span></span></span></td></tr>\n",
       "<tr class=\"tf\"><td class=\"tf\">5</td><td class=\"tf\"><span class=\"section ltr\"><a target=\"_blank\" href=\"https://shebanq.ancient-data.org/hebrew/text?book=Genesis&amp;chapter=1&amp;verse=2&amp;version=2017&amp;mr=m&amp;qw=q&amp;tp=txt_p&amp;tr=hb&amp;wget=v&amp;qget=v&amp;nget=vt\" title=\"Show this on SHEBANQ\" sec=\"Genesis 1:2\">Genesis 1:2</a></span></td><td class=\"tf\"><span class=\"plain  hlbx\" ><span class=\"plain  rtl  \" ><span class=\"plain  rtl\"></span><span class=\"plain  hl\" ><span class=\"plain  rtl  \" ><span class=\"plain  rtl\"></span><span class=\"plain  rtl  \" ><span class=\"txtu hbo\">וְ</span></span></span></span><span class=\"plain  rtl  \" ><span class=\"plain  rtl\"></span><span class=\"plain  rtl  \" ><span class=\"txtu hbo\">חֹ֖שֶׁךְ </span></span></span><span class=\"plain  rtl  \" ><span class=\"plain  rtl\"></span><span class=\"plain  rtl  \" ><span class=\"txtu hbo\">עַל־</span></span><span class=\"plain  rtl  \" ><span class=\"txtu hbo\">פְּנֵ֣י </span></span><span class=\"plain  rtl  \" ><span class=\"txtu hbo\">תְהֹ֑ום </span></span></span></span></span></td><td class=\"tf\"><span class=\"plain  hl\" ><span class=\"plain  rtl  \" ><span class=\"plain  rtl\"></span><span class=\"plain  rtl  \" ><span class=\"txtu hbo\">וְ</span></span></span></span></td></tr>\n",
       "<tr class=\"tf\"><td class=\"tf\">6</td><td class=\"tf\"><span class=\"section ltr\"><a target=\"_blank\" href=\"https://shebanq.ancient-data.org/hebrew/text?book=Genesis&amp;chapter=1&amp;verse=2&amp;version=2017&amp;mr=m&amp;qw=q&amp;tp=txt_p&amp;tr=hb&amp;wget=v&amp;qget=v&amp;nget=vt\" title=\"Show this on SHEBANQ\" sec=\"Genesis 1:2\">Genesis 1:2</a></span></td><td class=\"tf\"><span class=\"plain  hlbx\" ><span class=\"plain  rtl  \" ><span class=\"plain  rtl\"></span><span class=\"plain  rtl  \" ><span class=\"plain  rtl\"></span><span class=\"plain  rtl  \" ><span class=\"txtu hbo\">וְ</span></span></span><span class=\"plain  hl\" ><span class=\"plain  rtl  \" ><span class=\"plain  rtl\"></span><span class=\"plain  rtl  \" ><span class=\"txtu hbo\">חֹ֖שֶׁךְ </span></span></span></span><span class=\"plain  rtl  \" ><span class=\"plain  rtl\"></span><span class=\"plain  rtl  \" ><span class=\"txtu hbo\">עַל־</span></span><span class=\"plain  rtl  \" ><span class=\"txtu hbo\">פְּנֵ֣י </span></span><span class=\"plain  rtl  \" ><span class=\"txtu hbo\">תְהֹ֑ום </span></span></span></span></span></td><td class=\"tf\"><span class=\"plain  hl\" ><span class=\"plain  rtl  \" ><span class=\"plain  rtl\"></span><span class=\"plain  rtl  \" ><span class=\"txtu hbo\">חֹ֖שֶׁךְ </span></span></span></span></td></tr>\n",
       "<tr class=\"tf\"><td class=\"tf\">7</td><td class=\"tf\"><span class=\"section ltr\"><a target=\"_blank\" href=\"https://shebanq.ancient-data.org/hebrew/text?book=Genesis&amp;chapter=1&amp;verse=2&amp;version=2017&amp;mr=m&amp;qw=q&amp;tp=txt_p&amp;tr=hb&amp;wget=v&amp;qget=v&amp;nget=vt\" title=\"Show this on SHEBANQ\" sec=\"Genesis 1:2\">Genesis 1:2</a></span></td><td class=\"tf\"><span class=\"plain  hlbx\" ><span class=\"plain  rtl  \" ><span class=\"plain  rtl\"></span><span class=\"plain  rtl  \" ><span class=\"plain  rtl\"></span><span class=\"plain  rtl  \" ><span class=\"txtu hbo\">וְ</span></span></span><span class=\"plain  rtl  \" ><span class=\"plain  rtl\"></span><span class=\"plain  rtl  \" ><span class=\"txtu hbo\">חֹ֖שֶׁךְ </span></span></span><span class=\"plain  hl\" ><span class=\"plain  rtl  \" ><span class=\"plain  rtl\"></span><span class=\"plain  rtl  \" ><span class=\"txtu hbo\">עַל־</span></span><span class=\"plain  rtl  \" ><span class=\"txtu hbo\">פְּנֵ֣י </span></span><span class=\"plain  rtl  \" ><span class=\"txtu hbo\">תְהֹ֑ום </span></span></span></span></span></span></td><td class=\"tf\"><span class=\"plain  hl\" ><span class=\"plain  rtl  \" ><span class=\"plain  rtl\"></span><span class=\"plain  rtl  \" ><span class=\"txtu hbo\">עַל־</span></span><span class=\"plain  rtl  \" ><span class=\"txtu hbo\">פְּנֵ֣י </span></span><span class=\"plain  rtl  \" ><span class=\"txtu hbo\">תְהֹ֑ום </span></span></span></span></td></tr>\n",
       "<tr class=\"tf\"><td class=\"tf\">8</td><td class=\"tf\"><span class=\"section ltr\"><a target=\"_blank\" href=\"https://shebanq.ancient-data.org/hebrew/text?book=Genesis&amp;chapter=1&amp;verse=2&amp;version=2017&amp;mr=m&amp;qw=q&amp;tp=txt_p&amp;tr=hb&amp;wget=v&amp;qget=v&amp;nget=vt\" title=\"Show this on SHEBANQ\" sec=\"Genesis 1:2\">Genesis 1:2</a></span></td><td class=\"tf\"><span class=\"plain  hlbx\" ><span class=\"plain  rtl  \" ><span class=\"plain  rtl\"></span><span class=\"plain  hl\" ><span class=\"plain  rtl  \" ><span class=\"plain  rtl\"></span><span class=\"plain  rtl  \" ><span class=\"txtu hbo\">וְ</span></span></span></span><span class=\"plain  rtl  \" ><span class=\"plain  rtl\"></span><span class=\"plain  rtl  \" ><span class=\"txtu hbo\">ר֣וּחַ </span></span><span class=\"plain  rtl  \" ><span class=\"txtu hbo\">אֱלֹהִ֔ים </span></span></span><span class=\"plain  rtl  \" ><span class=\"plain  rtl\"></span><span class=\"plain  rtl  \" ><span class=\"txtu hbo\">מְרַחֶ֖פֶת </span></span></span><span class=\"plain  rtl  \" ><span class=\"plain  rtl\"></span><span class=\"plain  rtl  \" ><span class=\"txtu hbo\">עַל־</span></span><span class=\"plain  rtl  \" ><span class=\"txtu hbo\">פְּנֵ֥י </span></span><span class=\"plain  rtl  \" ><span class=\"txtu hbo\">הַ</span></span><span class=\"plain  rtl  \" ><span class=\"txtu hbo\">מָּֽיִם׃ </span></span></span></span></span></td><td class=\"tf\"><span class=\"plain  hl\" ><span class=\"plain  rtl  \" ><span class=\"plain  rtl\"></span><span class=\"plain  rtl  \" ><span class=\"txtu hbo\">וְ</span></span></span></span></td></tr>\n",
       "<tr class=\"tf\"><td class=\"tf\">9</td><td class=\"tf\"><span class=\"section ltr\"><a target=\"_blank\" href=\"https://shebanq.ancient-data.org/hebrew/text?book=Genesis&amp;chapter=1&amp;verse=2&amp;version=2017&amp;mr=m&amp;qw=q&amp;tp=txt_p&amp;tr=hb&amp;wget=v&amp;qget=v&amp;nget=vt\" title=\"Show this on SHEBANQ\" sec=\"Genesis 1:2\">Genesis 1:2</a></span></td><td class=\"tf\"><span class=\"plain  hlbx\" ><span class=\"plain  rtl  \" ><span class=\"plain  rtl\"></span><span class=\"plain  rtl  \" ><span class=\"plain  rtl\"></span><span class=\"plain  rtl  \" ><span class=\"txtu hbo\">וְ</span></span></span><span class=\"plain  hl\" ><span class=\"plain  rtl  \" ><span class=\"plain  rtl\"></span><span class=\"plain  rtl  \" ><span class=\"txtu hbo\">ר֣וּחַ </span></span><span class=\"plain  rtl  \" ><span class=\"txtu hbo\">אֱלֹהִ֔ים </span></span></span></span><span class=\"plain  rtl  \" ><span class=\"plain  rtl\"></span><span class=\"plain  rtl  \" ><span class=\"txtu hbo\">מְרַחֶ֖פֶת </span></span></span><span class=\"plain  rtl  \" ><span class=\"plain  rtl\"></span><span class=\"plain  rtl  \" ><span class=\"txtu hbo\">עַל־</span></span><span class=\"plain  rtl  \" ><span class=\"txtu hbo\">פְּנֵ֥י </span></span><span class=\"plain  rtl  \" ><span class=\"txtu hbo\">הַ</span></span><span class=\"plain  rtl  \" ><span class=\"txtu hbo\">מָּֽיִם׃ </span></span></span></span></span></td><td class=\"tf\"><span class=\"plain  hl\" ><span class=\"plain  rtl  \" ><span class=\"plain  rtl\"></span><span class=\"plain  rtl  \" ><span class=\"txtu hbo\">ר֣וּחַ </span></span><span class=\"plain  rtl  \" ><span class=\"txtu hbo\">אֱלֹהִ֔ים </span></span></span></span></td></tr>\n",
       "<tr class=\"tf\"><td class=\"tf\">10</td><td class=\"tf\"><span class=\"section ltr\"><a target=\"_blank\" href=\"https://shebanq.ancient-data.org/hebrew/text?book=Genesis&amp;chapter=1&amp;verse=3&amp;version=2017&amp;mr=m&amp;qw=q&amp;tp=txt_p&amp;tr=hb&amp;wget=v&amp;qget=v&amp;nget=vt\" title=\"Show this on SHEBANQ\" sec=\"Genesis 1:3\">Genesis 1:3</a></span></td><td class=\"tf\"><span class=\"plain  hlbx\" ><span class=\"plain  rtl  \" ><span class=\"plain  rtl\"></span><span class=\"plain  hl\" ><span class=\"plain  rtl  \" ><span class=\"plain  rtl\"></span><span class=\"plain  rtl  \" ><span class=\"txtu hbo\">וַ</span></span></span></span><span class=\"plain  rtl  \" ><span class=\"plain  rtl\"></span><span class=\"plain  rtl  \" ><span class=\"txtu hbo\">יֹּ֥אמֶר </span></span></span><span class=\"plain  rtl  \" ><span class=\"plain  rtl\"></span><span class=\"plain  rtl  \" ><span class=\"txtu hbo\">אֱלֹהִ֖ים </span></span></span></span></span></td><td class=\"tf\"><span class=\"plain  hl\" ><span class=\"plain  rtl  \" ><span class=\"plain  rtl\"></span><span class=\"plain  rtl  \" ><span class=\"txtu hbo\">וַ</span></span></span></span></td></tr></table>"
      ],
      "text/plain": [
       "<IPython.core.display.HTML object>"
      ]
     },
     "metadata": {},
     "output_type": "display_data"
    },
    {
     "data": {
      "text/html": [
       "<p><b>result</b> <i>1</i></p>"
      ],
      "text/plain": [
       "<IPython.core.display.HTML object>"
      ]
     },
     "metadata": {},
     "output_type": "display_data"
    },
    {
     "data": {
      "text/html": [
       "<span class=\"section ltr\"><a target=\"_blank\" href=\"https://shebanq.ancient-data.org/hebrew/text?book=Genesis&amp;chapter=1&amp;verse=1&amp;version=2017&amp;mr=m&amp;qw=q&amp;tp=txt_p&amp;tr=hb&amp;wget=v&amp;qget=v&amp;nget=vt\" title=\"Show this on SHEBANQ\" sec=\"Genesis 1:1\">Genesis 1:1</a> </span><div class=\"contnr c3  rtl  \" ><div class=\"lbl c3  \" ><span class=\"nd\">verse</span></div> <div class='features'><span class=\"book xft\" ><span class=\"f\">book=</span>Genesis</span><span class=\"chapter xft\" ><span class=\"f\">chapter=</span>1</span></div><div class=\"children row wrap rtl\"><div class=\"contnr c2  rtl  \" ><div class=\"lbl c2  \" ><span class=\"nd\">sentence</span></div> <div class=\"children row wrap rtl\"><div class=\"contnr cnul trm rtl  \" ><div class=\"children row wrap rtl\"><div class=\"contnr c2  rtl  hl\" ><div class=\"lbl c2  hl\" ><span class=\"nd\">clause</span></div> <div class=\"children row wrap rtl\"><div class=\"contnr cnul trm rtl  \" ><div class=\"children row wrap rtl\"><div class=\"contnr c1 trm rtl  hl\"  style=\"background-color: yellow;\" ><div class=\"lbl c1 trm \" ><span class=\"nd\">phrase</span> <span class=\"\"><span class=\"plain  hl\"  style=\"background-color: yellow;\" ><span class=\"plain  rtl  \" ><span class=\"plain  rtl\"></span><span class=\"plain  rtl  \" ><span class=\"txtu hbo\">בְּ</span></span><span class=\"plain  rtl  \" ><span class=\"txtu hbo\">רֵאשִׁ֖ית </span></span></span></span></span></div> <div class=\"children row wrap rtl\"><div class=\"contnr cnul trm rtl  \" ></div></div></div><div class=\"contnr c1 trm rtl  \" ><div class=\"lbl c1 trm \" ><span class=\"nd\">phrase</span> <span class=\"\"><span class=\"plain  rtl  \" ><span class=\"plain  rtl\"></span><span class=\"plain  rtl  \" ><span class=\"txtu hbo\">בָּרָ֣א </span></span></span></span></div> <div class=\"children row wrap rtl\"><div class=\"contnr cnul trm rtl  \" ></div></div></div><div class=\"contnr c1 trm rtl  \" ><div class=\"lbl c1 trm \" ><span class=\"nd\">phrase</span> <span class=\"\"><span class=\"plain  rtl  \" ><span class=\"plain  rtl\"></span><span class=\"plain  rtl  \" ><span class=\"txtu hbo\">אֱלֹהִ֑ים </span></span></span></span></div> <div class=\"children row wrap rtl\"><div class=\"contnr cnul trm rtl  \" ></div></div></div><div class=\"contnr c1 trm rtl  \" ><div class=\"lbl c1 trm \" ><span class=\"nd\">phrase</span> <span class=\"\"><span class=\"plain  rtl  \" ><span class=\"plain  rtl\"></span><span class=\"plain  rtl  \" ><span class=\"txtu hbo\">אֵ֥ת </span></span><span class=\"plain  rtl  \" ><span class=\"txtu hbo\">הַ</span></span><span class=\"plain  rtl  \" ><span class=\"txtu hbo\">שָּׁמַ֖יִם </span></span><span class=\"plain  rtl  \" ><span class=\"txtu hbo\">וְ</span></span><span class=\"plain  rtl  \" ><span class=\"txtu hbo\">אֵ֥ת </span></span><span class=\"plain  rtl  \" ><span class=\"txtu hbo\">הָ</span></span><span class=\"plain  rtl  \" ><span class=\"txtu hbo\">אָֽרֶץ׃ </span></span></span></span></div> <div class=\"children row wrap rtl\"><div class=\"contnr cnul trm rtl  \" ></div></div></div></div></div></div></div></div></div></div></div></div></div>"
      ],
      "text/plain": [
       "<IPython.core.display.HTML object>"
      ]
     },
     "metadata": {},
     "output_type": "display_data"
    },
    {
     "data": {
      "text/html": [
       "<p><b>result</b> <i>2</i></p>"
      ],
      "text/plain": [
       "<IPython.core.display.HTML object>"
      ]
     },
     "metadata": {},
     "output_type": "display_data"
    },
    {
     "data": {
      "text/html": [
       "<span class=\"section ltr\"><a target=\"_blank\" href=\"https://shebanq.ancient-data.org/hebrew/text?book=Genesis&amp;chapter=1&amp;verse=1&amp;version=2017&amp;mr=m&amp;qw=q&amp;tp=txt_p&amp;tr=hb&amp;wget=v&amp;qget=v&amp;nget=vt\" title=\"Show this on SHEBANQ\" sec=\"Genesis 1:1\">Genesis 1:1</a> </span><div class=\"contnr c3  rtl  \" ><div class=\"lbl c3  \" ><span class=\"nd\">verse</span></div> <div class='features'><span class=\"book xft\" ><span class=\"f\">book=</span>Genesis</span><span class=\"chapter xft\" ><span class=\"f\">chapter=</span>1</span></div><div class=\"children row wrap rtl\"><div class=\"contnr c2  rtl  \" ><div class=\"lbl c2  \" ><span class=\"nd\">sentence</span></div> <div class=\"children row wrap rtl\"><div class=\"contnr cnul trm rtl  \" ><div class=\"children row wrap rtl\"><div class=\"contnr c2  rtl  hl\" ><div class=\"lbl c2  hl\" ><span class=\"nd\">clause</span></div> <div class=\"children row wrap rtl\"><div class=\"contnr cnul trm rtl  \" ><div class=\"children row wrap rtl\"><div class=\"contnr c1 trm rtl  \" ><div class=\"lbl c1 trm \" ><span class=\"nd\">phrase</span> <span class=\"\"><span class=\"plain  rtl  \" ><span class=\"plain  rtl\"></span><span class=\"plain  rtl  \" ><span class=\"txtu hbo\">בְּ</span></span><span class=\"plain  rtl  \" ><span class=\"txtu hbo\">רֵאשִׁ֖ית </span></span></span></span></div> <div class=\"children row wrap rtl\"><div class=\"contnr cnul trm rtl  \" ></div></div></div><div class=\"contnr c1 trm rtl  hl\"  style=\"background-color: yellow;\" ><div class=\"lbl c1 trm \" ><span class=\"nd\">phrase</span> <span class=\"\"><span class=\"plain  hl\"  style=\"background-color: yellow;\" ><span class=\"plain  rtl  \" ><span class=\"plain  rtl\"></span><span class=\"plain  rtl  \" ><span class=\"txtu hbo\">בָּרָ֣א </span></span></span></span></span></div> <div class=\"children row wrap rtl\"><div class=\"contnr cnul trm rtl  \" ></div></div></div><div class=\"contnr c1 trm rtl  \" ><div class=\"lbl c1 trm \" ><span class=\"nd\">phrase</span> <span class=\"\"><span class=\"plain  rtl  \" ><span class=\"plain  rtl\"></span><span class=\"plain  rtl  \" ><span class=\"txtu hbo\">אֱלֹהִ֑ים </span></span></span></span></div> <div class=\"children row wrap rtl\"><div class=\"contnr cnul trm rtl  \" ></div></div></div><div class=\"contnr c1 trm rtl  \" ><div class=\"lbl c1 trm \" ><span class=\"nd\">phrase</span> <span class=\"\"><span class=\"plain  rtl  \" ><span class=\"plain  rtl\"></span><span class=\"plain  rtl  \" ><span class=\"txtu hbo\">אֵ֥ת </span></span><span class=\"plain  rtl  \" ><span class=\"txtu hbo\">הַ</span></span><span class=\"plain  rtl  \" ><span class=\"txtu hbo\">שָּׁמַ֖יִם </span></span><span class=\"plain  rtl  \" ><span class=\"txtu hbo\">וְ</span></span><span class=\"plain  rtl  \" ><span class=\"txtu hbo\">אֵ֥ת </span></span><span class=\"plain  rtl  \" ><span class=\"txtu hbo\">הָ</span></span><span class=\"plain  rtl  \" ><span class=\"txtu hbo\">אָֽרֶץ׃ </span></span></span></span></div> <div class=\"children row wrap rtl\"><div class=\"contnr cnul trm rtl  \" ></div></div></div></div></div></div></div></div></div></div></div></div></div>"
      ],
      "text/plain": [
       "<IPython.core.display.HTML object>"
      ]
     },
     "metadata": {},
     "output_type": "display_data"
    },
    {
     "data": {
      "text/html": [
       "<p><b>result</b> <i>3</i></p>"
      ],
      "text/plain": [
       "<IPython.core.display.HTML object>"
      ]
     },
     "metadata": {},
     "output_type": "display_data"
    },
    {
     "data": {
      "text/html": [
       "<span class=\"section ltr\"><a target=\"_blank\" href=\"https://shebanq.ancient-data.org/hebrew/text?book=Genesis&amp;chapter=1&amp;verse=2&amp;version=2017&amp;mr=m&amp;qw=q&amp;tp=txt_p&amp;tr=hb&amp;wget=v&amp;qget=v&amp;nget=vt\" title=\"Show this on SHEBANQ\" sec=\"Genesis 1:2\">Genesis 1:2</a> </span><div class=\"contnr c3  rtl  \" ><div class=\"lbl c3  \" ><span class=\"nd\">verse</span></div> <div class='features'><span class=\"book xft\" ><span class=\"f\">book=</span>Genesis</span><span class=\"chapter xft\" ><span class=\"f\">chapter=</span>1</span></div><div class=\"children row wrap rtl\"><div class=\"contnr c2  rtl  \" ><div class=\"lbl c2  \" ><span class=\"nd\">sentence</span></div> <div class=\"children row wrap rtl\"><div class=\"contnr cnul trm rtl  \" ><div class=\"children row wrap rtl\"><div class=\"contnr c2  rtl  hl\" ><div class=\"lbl c2  hl\" ><span class=\"nd\">clause</span></div> <div class=\"children row wrap rtl\"><div class=\"contnr cnul trm rtl  \" ><div class=\"children row wrap rtl\"><div class=\"contnr c1 trm rtl  hl\"  style=\"background-color: yellow;\" ><div class=\"lbl c1 trm \" ><span class=\"nd\">phrase</span> <span class=\"\"><span class=\"plain  hl\"  style=\"background-color: yellow;\" ><span class=\"plain  rtl  \" ><span class=\"plain  rtl\"></span><span class=\"plain  rtl  \" ><span class=\"txtu hbo\">וְ</span></span></span></span></span></div> <div class=\"children row wrap rtl\"><div class=\"contnr cnul trm rtl  \" ></div></div></div><div class=\"contnr c1 trm rtl  \" ><div class=\"lbl c1 trm \" ><span class=\"nd\">phrase</span> <span class=\"\"><span class=\"plain  rtl  \" ><span class=\"plain  rtl\"></span><span class=\"plain  rtl  \" ><span class=\"txtu hbo\">הָ</span></span><span class=\"plain  rtl  \" ><span class=\"txtu hbo\">אָ֗רֶץ </span></span></span></span></div> <div class=\"children row wrap rtl\"><div class=\"contnr cnul trm rtl  \" ></div></div></div><div class=\"contnr c1 trm rtl  \" ><div class=\"lbl c1 trm \" ><span class=\"nd\">phrase</span> <span class=\"\"><span class=\"plain  rtl  \" ><span class=\"plain  rtl\"></span><span class=\"plain  rtl  \" ><span class=\"txtu hbo\">הָיְתָ֥ה </span></span></span></span></div> <div class=\"children row wrap rtl\"><div class=\"contnr cnul trm rtl  \" ></div></div></div><div class=\"contnr c1 trm rtl  \" ><div class=\"lbl c1 trm \" ><span class=\"nd\">phrase</span> <span class=\"\"><span class=\"plain  rtl  \" ><span class=\"plain  rtl\"></span><span class=\"plain  rtl  \" ><span class=\"txtu hbo\">תֹ֨הוּ֙ </span></span><span class=\"plain  rtl  \" ><span class=\"txtu hbo\">וָ</span></span><span class=\"plain  rtl  \" ><span class=\"txtu hbo\">בֹ֔הוּ </span></span></span></span></div> <div class=\"children row wrap rtl\"><div class=\"contnr cnul trm rtl  \" ></div></div></div></div></div></div></div></div></div></div></div><div class=\"contnr c2  rtl  \" ><div class=\"lbl c2  \" ><span class=\"nd\">sentence</span></div> <div class=\"children row wrap rtl\"><div class=\"contnr cnul trm rtl  \" ><div class=\"children row wrap rtl\"><div class=\"contnr c2  rtl  \" ><div class=\"lbl c2  \" ><span class=\"nd\">clause</span></div> <div class=\"children row wrap rtl\"><div class=\"contnr cnul trm rtl  \" ><div class=\"children row wrap rtl\"><div class=\"contnr c1 trm rtl  \" ><div class=\"lbl c1 trm \" ><span class=\"nd\">phrase</span> <span class=\"\"><span class=\"plain  rtl  \" ><span class=\"plain  rtl\"></span><span class=\"plain  rtl  \" ><span class=\"txtu hbo\">וְ</span></span></span></span></div> <div class=\"children row wrap rtl\"><div class=\"contnr cnul trm rtl  \" ></div></div></div><div class=\"contnr c1 trm rtl  \" ><div class=\"lbl c1 trm \" ><span class=\"nd\">phrase</span> <span class=\"\"><span class=\"plain  rtl  \" ><span class=\"plain  rtl\"></span><span class=\"plain  rtl  \" ><span class=\"txtu hbo\">חֹ֖שֶׁךְ </span></span></span></span></div> <div class=\"children row wrap rtl\"><div class=\"contnr cnul trm rtl  \" ></div></div></div><div class=\"contnr c1 trm rtl  \" ><div class=\"lbl c1 trm \" ><span class=\"nd\">phrase</span> <span class=\"\"><span class=\"plain  rtl  \" ><span class=\"plain  rtl\"></span><span class=\"plain  rtl  \" ><span class=\"txtu hbo\">עַל־</span></span><span class=\"plain  rtl  \" ><span class=\"txtu hbo\">פְּנֵ֣י </span></span><span class=\"plain  rtl  \" ><span class=\"txtu hbo\">תְהֹ֑ום </span></span></span></span></div> <div class=\"children row wrap rtl\"><div class=\"contnr cnul trm rtl  \" ></div></div></div></div></div></div></div></div></div></div></div><div class=\"contnr c2  rtl  \" ><div class=\"lbl c2  \" ><span class=\"nd\">sentence</span></div> <div class=\"children row wrap rtl\"><div class=\"contnr cnul trm rtl  \" ><div class=\"children row wrap rtl\"><div class=\"contnr c2  rtl  \" ><div class=\"lbl c2  \" ><span class=\"nd\">clause</span></div> <div class=\"children row wrap rtl\"><div class=\"contnr cnul trm rtl  \" ><div class=\"children row wrap rtl\"><div class=\"contnr c1 trm rtl  \" ><div class=\"lbl c1 trm \" ><span class=\"nd\">phrase</span> <span class=\"\"><span class=\"plain  rtl  \" ><span class=\"plain  rtl\"></span><span class=\"plain  rtl  \" ><span class=\"txtu hbo\">וְ</span></span></span></span></div> <div class=\"children row wrap rtl\"><div class=\"contnr cnul trm rtl  \" ></div></div></div><div class=\"contnr c1 trm rtl  \" ><div class=\"lbl c1 trm \" ><span class=\"nd\">phrase</span> <span class=\"\"><span class=\"plain  rtl  \" ><span class=\"plain  rtl\"></span><span class=\"plain  rtl  \" ><span class=\"txtu hbo\">ר֣וּחַ </span></span><span class=\"plain  rtl  \" ><span class=\"txtu hbo\">אֱלֹהִ֔ים </span></span></span></span></div> <div class=\"children row wrap rtl\"><div class=\"contnr cnul trm rtl  \" ></div></div></div><div class=\"contnr c1 trm rtl  \" ><div class=\"lbl c1 trm \" ><span class=\"nd\">phrase</span> <span class=\"\"><span class=\"plain  rtl  \" ><span class=\"plain  rtl\"></span><span class=\"plain  rtl  \" ><span class=\"txtu hbo\">מְרַחֶ֖פֶת </span></span></span></span></div> <div class=\"children row wrap rtl\"><div class=\"contnr cnul trm rtl  \" ></div></div></div><div class=\"contnr c1 trm rtl  \" ><div class=\"lbl c1 trm \" ><span class=\"nd\">phrase</span> <span class=\"\"><span class=\"plain  rtl  \" ><span class=\"plain  rtl\"></span><span class=\"plain  rtl  \" ><span class=\"txtu hbo\">עַל־</span></span><span class=\"plain  rtl  \" ><span class=\"txtu hbo\">פְּנֵ֥י </span></span><span class=\"plain  rtl  \" ><span class=\"txtu hbo\">הַ</span></span><span class=\"plain  rtl  \" ><span class=\"txtu hbo\">מָּֽיִם׃ </span></span></span></span></div> <div class=\"children row wrap rtl\"><div class=\"contnr cnul trm rtl  \" ></div></div></div></div></div></div></div></div></div></div></div></div></div>"
      ],
      "text/plain": [
       "<IPython.core.display.HTML object>"
      ]
     },
     "metadata": {},
     "output_type": "display_data"
    },
    {
     "data": {
      "text/html": [
       "<p><b>result</b> <i>4</i></p>"
      ],
      "text/plain": [
       "<IPython.core.display.HTML object>"
      ]
     },
     "metadata": {},
     "output_type": "display_data"
    },
    {
     "data": {
      "text/html": [
       "<span class=\"section ltr\"><a target=\"_blank\" href=\"https://shebanq.ancient-data.org/hebrew/text?book=Genesis&amp;chapter=1&amp;verse=2&amp;version=2017&amp;mr=m&amp;qw=q&amp;tp=txt_p&amp;tr=hb&amp;wget=v&amp;qget=v&amp;nget=vt\" title=\"Show this on SHEBANQ\" sec=\"Genesis 1:2\">Genesis 1:2</a> </span><div class=\"contnr c3  rtl  \" ><div class=\"lbl c3  \" ><span class=\"nd\">verse</span></div> <div class='features'><span class=\"book xft\" ><span class=\"f\">book=</span>Genesis</span><span class=\"chapter xft\" ><span class=\"f\">chapter=</span>1</span></div><div class=\"children row wrap rtl\"><div class=\"contnr c2  rtl  \" ><div class=\"lbl c2  \" ><span class=\"nd\">sentence</span></div> <div class=\"children row wrap rtl\"><div class=\"contnr cnul trm rtl  \" ><div class=\"children row wrap rtl\"><div class=\"contnr c2  rtl  hl\" ><div class=\"lbl c2  hl\" ><span class=\"nd\">clause</span></div> <div class=\"children row wrap rtl\"><div class=\"contnr cnul trm rtl  \" ><div class=\"children row wrap rtl\"><div class=\"contnr c1 trm rtl  \" ><div class=\"lbl c1 trm \" ><span class=\"nd\">phrase</span> <span class=\"\"><span class=\"plain  rtl  \" ><span class=\"plain  rtl\"></span><span class=\"plain  rtl  \" ><span class=\"txtu hbo\">וְ</span></span></span></span></div> <div class=\"children row wrap rtl\"><div class=\"contnr cnul trm rtl  \" ></div></div></div><div class=\"contnr c1 trm rtl  hl\"  style=\"background-color: yellow;\" ><div class=\"lbl c1 trm \" ><span class=\"nd\">phrase</span> <span class=\"\"><span class=\"plain  hl\"  style=\"background-color: yellow;\" ><span class=\"plain  rtl  \" ><span class=\"plain  rtl\"></span><span class=\"plain  rtl  \" ><span class=\"txtu hbo\">הָ</span></span><span class=\"plain  rtl  \" ><span class=\"txtu hbo\">אָ֗רֶץ </span></span></span></span></span></div> <div class=\"children row wrap rtl\"><div class=\"contnr cnul trm rtl  \" ></div></div></div><div class=\"contnr c1 trm rtl  \" ><div class=\"lbl c1 trm \" ><span class=\"nd\">phrase</span> <span class=\"\"><span class=\"plain  rtl  \" ><span class=\"plain  rtl\"></span><span class=\"plain  rtl  \" ><span class=\"txtu hbo\">הָיְתָ֥ה </span></span></span></span></div> <div class=\"children row wrap rtl\"><div class=\"contnr cnul trm rtl  \" ></div></div></div><div class=\"contnr c1 trm rtl  \" ><div class=\"lbl c1 trm \" ><span class=\"nd\">phrase</span> <span class=\"\"><span class=\"plain  rtl  \" ><span class=\"plain  rtl\"></span><span class=\"plain  rtl  \" ><span class=\"txtu hbo\">תֹ֨הוּ֙ </span></span><span class=\"plain  rtl  \" ><span class=\"txtu hbo\">וָ</span></span><span class=\"plain  rtl  \" ><span class=\"txtu hbo\">בֹ֔הוּ </span></span></span></span></div> <div class=\"children row wrap rtl\"><div class=\"contnr cnul trm rtl  \" ></div></div></div></div></div></div></div></div></div></div></div><div class=\"contnr c2  rtl  \" ><div class=\"lbl c2  \" ><span class=\"nd\">sentence</span></div> <div class=\"children row wrap rtl\"><div class=\"contnr cnul trm rtl  \" ><div class=\"children row wrap rtl\"><div class=\"contnr c2  rtl  \" ><div class=\"lbl c2  \" ><span class=\"nd\">clause</span></div> <div class=\"children row wrap rtl\"><div class=\"contnr cnul trm rtl  \" ><div class=\"children row wrap rtl\"><div class=\"contnr c1 trm rtl  \" ><div class=\"lbl c1 trm \" ><span class=\"nd\">phrase</span> <span class=\"\"><span class=\"plain  rtl  \" ><span class=\"plain  rtl\"></span><span class=\"plain  rtl  \" ><span class=\"txtu hbo\">וְ</span></span></span></span></div> <div class=\"children row wrap rtl\"><div class=\"contnr cnul trm rtl  \" ></div></div></div><div class=\"contnr c1 trm rtl  \" ><div class=\"lbl c1 trm \" ><span class=\"nd\">phrase</span> <span class=\"\"><span class=\"plain  rtl  \" ><span class=\"plain  rtl\"></span><span class=\"plain  rtl  \" ><span class=\"txtu hbo\">חֹ֖שֶׁךְ </span></span></span></span></div> <div class=\"children row wrap rtl\"><div class=\"contnr cnul trm rtl  \" ></div></div></div><div class=\"contnr c1 trm rtl  \" ><div class=\"lbl c1 trm \" ><span class=\"nd\">phrase</span> <span class=\"\"><span class=\"plain  rtl  \" ><span class=\"plain  rtl\"></span><span class=\"plain  rtl  \" ><span class=\"txtu hbo\">עַל־</span></span><span class=\"plain  rtl  \" ><span class=\"txtu hbo\">פְּנֵ֣י </span></span><span class=\"plain  rtl  \" ><span class=\"txtu hbo\">תְהֹ֑ום </span></span></span></span></div> <div class=\"children row wrap rtl\"><div class=\"contnr cnul trm rtl  \" ></div></div></div></div></div></div></div></div></div></div></div><div class=\"contnr c2  rtl  \" ><div class=\"lbl c2  \" ><span class=\"nd\">sentence</span></div> <div class=\"children row wrap rtl\"><div class=\"contnr cnul trm rtl  \" ><div class=\"children row wrap rtl\"><div class=\"contnr c2  rtl  \" ><div class=\"lbl c2  \" ><span class=\"nd\">clause</span></div> <div class=\"children row wrap rtl\"><div class=\"contnr cnul trm rtl  \" ><div class=\"children row wrap rtl\"><div class=\"contnr c1 trm rtl  \" ><div class=\"lbl c1 trm \" ><span class=\"nd\">phrase</span> <span class=\"\"><span class=\"plain  rtl  \" ><span class=\"plain  rtl\"></span><span class=\"plain  rtl  \" ><span class=\"txtu hbo\">וְ</span></span></span></span></div> <div class=\"children row wrap rtl\"><div class=\"contnr cnul trm rtl  \" ></div></div></div><div class=\"contnr c1 trm rtl  \" ><div class=\"lbl c1 trm \" ><span class=\"nd\">phrase</span> <span class=\"\"><span class=\"plain  rtl  \" ><span class=\"plain  rtl\"></span><span class=\"plain  rtl  \" ><span class=\"txtu hbo\">ר֣וּחַ </span></span><span class=\"plain  rtl  \" ><span class=\"txtu hbo\">אֱלֹהִ֔ים </span></span></span></span></div> <div class=\"children row wrap rtl\"><div class=\"contnr cnul trm rtl  \" ></div></div></div><div class=\"contnr c1 trm rtl  \" ><div class=\"lbl c1 trm \" ><span class=\"nd\">phrase</span> <span class=\"\"><span class=\"plain  rtl  \" ><span class=\"plain  rtl\"></span><span class=\"plain  rtl  \" ><span class=\"txtu hbo\">מְרַחֶ֖פֶת </span></span></span></span></div> <div class=\"children row wrap rtl\"><div class=\"contnr cnul trm rtl  \" ></div></div></div><div class=\"contnr c1 trm rtl  \" ><div class=\"lbl c1 trm \" ><span class=\"nd\">phrase</span> <span class=\"\"><span class=\"plain  rtl  \" ><span class=\"plain  rtl\"></span><span class=\"plain  rtl  \" ><span class=\"txtu hbo\">עַל־</span></span><span class=\"plain  rtl  \" ><span class=\"txtu hbo\">פְּנֵ֥י </span></span><span class=\"plain  rtl  \" ><span class=\"txtu hbo\">הַ</span></span><span class=\"plain  rtl  \" ><span class=\"txtu hbo\">מָּֽיִם׃ </span></span></span></span></div> <div class=\"children row wrap rtl\"><div class=\"contnr cnul trm rtl  \" ></div></div></div></div></div></div></div></div></div></div></div></div></div>"
      ],
      "text/plain": [
       "<IPython.core.display.HTML object>"
      ]
     },
     "metadata": {},
     "output_type": "display_data"
    }
   ],
   "source": [
    "A.table(results, start=1, end=10, baseTypes=\"phrase\", skipCols=\"1\")\n",
    "A.show(results, condensed=False, start=1, end=4, colorMap={2: 'yellow', 3: 'cyan'}, baseTypes=\"phrase\", skipCols=\"1\")"
   ]
  },
  {
   "cell_type": "markdown",
   "metadata": {},
   "source": [
    "The first and second result show the same clause, with its first and second phrase respectively.\n",
    "\n",
    "Note that we look for phrases that lie embedded in their clause.\n",
    "So we do not get phrases of a preceding clause.\n",
    "\n",
    "But if we want, we can get those as well."
   ]
  },
  {
   "cell_type": "code",
   "execution_count": 44,
   "metadata": {
    "ExecuteTime": {
     "end_time": "2018-05-24T10:07:18.484171Z",
     "start_time": "2018-05-24T10:07:18.052778Z"
    }
   },
   "outputs": [
    {
     "name": "stdout",
     "output_type": "stream",
     "text": [
      "  0.09s 485 results\n"
     ]
    }
   ],
   "source": [
    "results = A.search('''\n",
    "chapter book=Genesis chapter=1\n",
    "  c:clause\n",
    "  p:phrase\n",
    "    \n",
    "  c =2: p\n",
    "''')"
   ]
  },
  {
   "cell_type": "markdown",
   "metadata": {},
   "source": [
    "We have more results now. Here is a closer look:"
   ]
  },
  {
   "cell_type": "code",
   "execution_count": 60,
   "metadata": {
    "ExecuteTime": {
     "end_time": "2018-05-24T10:07:21.149115Z",
     "start_time": "2018-05-24T10:07:21.113629Z"
    }
   },
   "outputs": [
    {
     "data": {
      "text/html": [
       "<table><tr class=\"tf\"><th class=\"tf\">n</th><th class=\"tf\">p</th><th class=\"tf\">clause</th><th class=\"tf\">phrase</th></tr>\n",
       "<tr class=\"tf\"><td class=\"tf\">1</td><td class=\"tf\"><span class=\"section ltr\"><a target=\"_blank\" href=\"https://shebanq.ancient-data.org/hebrew/text?book=Genesis&amp;chapter=1&amp;verse=1&amp;version=2017&amp;mr=m&amp;qw=q&amp;tp=txt_p&amp;tr=hb&amp;wget=v&amp;qget=v&amp;nget=vt\" title=\"Show this on SHEBANQ\" sec=\"Genesis 1:1\">Genesis 1:1</a></span></td><td class=\"tf\"><span class=\"plain  hlbx\" ><span class=\"plain  rtl  \" ><span class=\"plain  rtl\"></span><span class=\"plain  hl\" ><span class=\"plain  rtl  \" ><span class=\"plain  rtl\"></span><span class=\"plain  rtl  \" ><span class=\"txtu hbo\">בְּ</span></span><span class=\"plain  rtl  \" ><span class=\"txtu hbo\">רֵאשִׁ֖ית </span></span></span></span><span class=\"plain  rtl  \" ><span class=\"plain  rtl\"></span><span class=\"plain  rtl  \" ><span class=\"txtu hbo\">בָּרָ֣א </span></span></span><span class=\"plain  rtl  \" ><span class=\"plain  rtl\"></span><span class=\"plain  rtl  \" ><span class=\"txtu hbo\">אֱלֹהִ֑ים </span></span></span><span class=\"plain  rtl  \" ><span class=\"plain  rtl\"></span><span class=\"plain  rtl  \" ><span class=\"txtu hbo\">אֵ֥ת </span></span><span class=\"plain  rtl  \" ><span class=\"txtu hbo\">הַ</span></span><span class=\"plain  rtl  \" ><span class=\"txtu hbo\">שָּׁמַ֖יִם </span></span><span class=\"plain  rtl  \" ><span class=\"txtu hbo\">וְ</span></span><span class=\"plain  rtl  \" ><span class=\"txtu hbo\">אֵ֥ת </span></span><span class=\"plain  rtl  \" ><span class=\"txtu hbo\">הָ</span></span><span class=\"plain  rtl  \" ><span class=\"txtu hbo\">אָֽרֶץ׃ </span></span></span></span></span></td><td class=\"tf\"><span class=\"plain  hl\" ><span class=\"plain  rtl  \" ><span class=\"plain  rtl\"></span><span class=\"plain  rtl  \" ><span class=\"txtu hbo\">בְּ</span></span><span class=\"plain  rtl  \" ><span class=\"txtu hbo\">רֵאשִׁ֖ית </span></span></span></span></td></tr>\n",
       "<tr class=\"tf\"><td class=\"tf\">2</td><td class=\"tf\"><span class=\"section ltr\"><a target=\"_blank\" href=\"https://shebanq.ancient-data.org/hebrew/text?book=Genesis&amp;chapter=1&amp;verse=1&amp;version=2017&amp;mr=m&amp;qw=q&amp;tp=txt_p&amp;tr=hb&amp;wget=v&amp;qget=v&amp;nget=vt\" title=\"Show this on SHEBANQ\" sec=\"Genesis 1:1\">Genesis 1:1</a></span></td><td class=\"tf\"><span class=\"plain  hlbx\" ><span class=\"plain  rtl  \" ><span class=\"plain  rtl\"></span><span class=\"plain  rtl  \" ><span class=\"plain  rtl\"></span><span class=\"plain  rtl  \" ><span class=\"txtu hbo\">בְּ</span></span><span class=\"plain  rtl  \" ><span class=\"txtu hbo\">רֵאשִׁ֖ית </span></span></span><span class=\"plain  hl\" ><span class=\"plain  rtl  \" ><span class=\"plain  rtl\"></span><span class=\"plain  rtl  \" ><span class=\"txtu hbo\">בָּרָ֣א </span></span></span></span><span class=\"plain  rtl  \" ><span class=\"plain  rtl\"></span><span class=\"plain  rtl  \" ><span class=\"txtu hbo\">אֱלֹהִ֑ים </span></span></span><span class=\"plain  rtl  \" ><span class=\"plain  rtl\"></span><span class=\"plain  rtl  \" ><span class=\"txtu hbo\">אֵ֥ת </span></span><span class=\"plain  rtl  \" ><span class=\"txtu hbo\">הַ</span></span><span class=\"plain  rtl  \" ><span class=\"txtu hbo\">שָּׁמַ֖יִם </span></span><span class=\"plain  rtl  \" ><span class=\"txtu hbo\">וְ</span></span><span class=\"plain  rtl  \" ><span class=\"txtu hbo\">אֵ֥ת </span></span><span class=\"plain  rtl  \" ><span class=\"txtu hbo\">הָ</span></span><span class=\"plain  rtl  \" ><span class=\"txtu hbo\">אָֽרֶץ׃ </span></span></span></span></span></td><td class=\"tf\"><span class=\"plain  hl\" ><span class=\"plain  rtl  \" ><span class=\"plain  rtl\"></span><span class=\"plain  rtl  \" ><span class=\"txtu hbo\">בָּרָ֣א </span></span></span></span></td></tr>\n",
       "<tr class=\"tf\"><td class=\"tf\">3</td><td class=\"tf\"><span class=\"section ltr\"><a target=\"_blank\" href=\"https://shebanq.ancient-data.org/hebrew/text?book=Genesis&amp;chapter=1&amp;verse=2&amp;version=2017&amp;mr=m&amp;qw=q&amp;tp=txt_p&amp;tr=hb&amp;wget=v&amp;qget=v&amp;nget=vt\" title=\"Show this on SHEBANQ\" sec=\"Genesis 1:2\">Genesis 1:2</a></span></td><td class=\"tf\"><span class=\"plain  hlbx\" ><span class=\"plain  rtl  \" ><span class=\"plain  rtl\"></span><span class=\"plain  hl\" ><span class=\"plain  rtl  \" ><span class=\"plain  rtl\"></span><span class=\"plain  rtl  \" ><span class=\"txtu hbo\">וְ</span></span></span></span><span class=\"plain  rtl  \" ><span class=\"plain  rtl\"></span><span class=\"plain  rtl  \" ><span class=\"txtu hbo\">הָ</span></span><span class=\"plain  rtl  \" ><span class=\"txtu hbo\">אָ֗רֶץ </span></span></span><span class=\"plain  rtl  \" ><span class=\"plain  rtl\"></span><span class=\"plain  rtl  \" ><span class=\"txtu hbo\">הָיְתָ֥ה </span></span></span><span class=\"plain  rtl  \" ><span class=\"plain  rtl\"></span><span class=\"plain  rtl  \" ><span class=\"txtu hbo\">תֹ֨הוּ֙ </span></span><span class=\"plain  rtl  \" ><span class=\"txtu hbo\">וָ</span></span><span class=\"plain  rtl  \" ><span class=\"txtu hbo\">בֹ֔הוּ </span></span></span></span></span></td><td class=\"tf\"><span class=\"plain  hl\" ><span class=\"plain  rtl  \" ><span class=\"plain  rtl\"></span><span class=\"plain  rtl  \" ><span class=\"txtu hbo\">וְ</span></span></span></span></td></tr>\n",
       "<tr class=\"tf\"><td class=\"tf\">4</td><td class=\"tf\"><span class=\"section ltr\"><a target=\"_blank\" href=\"https://shebanq.ancient-data.org/hebrew/text?book=Genesis&amp;chapter=1&amp;verse=2&amp;version=2017&amp;mr=m&amp;qw=q&amp;tp=txt_p&amp;tr=hb&amp;wget=v&amp;qget=v&amp;nget=vt\" title=\"Show this on SHEBANQ\" sec=\"Genesis 1:2\">Genesis 1:2</a></span></td><td class=\"tf\"><span class=\"plain  hlbx\" ><span class=\"plain  rtl  \" ><span class=\"plain  rtl\"></span><span class=\"plain  rtl  \" ><span class=\"plain  rtl\"></span><span class=\"plain  rtl  \" ><span class=\"txtu hbo\">וְ</span></span></span><span class=\"plain  hl\" ><span class=\"plain  rtl  \" ><span class=\"plain  rtl\"></span><span class=\"plain  rtl  \" ><span class=\"txtu hbo\">הָ</span></span><span class=\"plain  rtl  \" ><span class=\"txtu hbo\">אָ֗רֶץ </span></span></span></span><span class=\"plain  rtl  \" ><span class=\"plain  rtl\"></span><span class=\"plain  rtl  \" ><span class=\"txtu hbo\">הָיְתָ֥ה </span></span></span><span class=\"plain  rtl  \" ><span class=\"plain  rtl\"></span><span class=\"plain  rtl  \" ><span class=\"txtu hbo\">תֹ֨הוּ֙ </span></span><span class=\"plain  rtl  \" ><span class=\"txtu hbo\">וָ</span></span><span class=\"plain  rtl  \" ><span class=\"txtu hbo\">בֹ֔הוּ </span></span></span></span></span></td><td class=\"tf\"><span class=\"plain  hl\" ><span class=\"plain  rtl  \" ><span class=\"plain  rtl\"></span><span class=\"plain  rtl  \" ><span class=\"txtu hbo\">הָ</span></span><span class=\"plain  rtl  \" ><span class=\"txtu hbo\">אָ֗רֶץ </span></span></span></span></td></tr>\n",
       "<tr class=\"tf\"><td class=\"tf\">5</td><td class=\"tf\"><span class=\"section ltr\"><a target=\"_blank\" href=\"https://shebanq.ancient-data.org/hebrew/text?book=Genesis&amp;chapter=1&amp;verse=2&amp;version=2017&amp;mr=m&amp;qw=q&amp;tp=txt_p&amp;tr=hb&amp;wget=v&amp;qget=v&amp;nget=vt\" title=\"Show this on SHEBANQ\" sec=\"Genesis 1:2\">Genesis 1:2</a></span></td><td class=\"tf\"><span class=\"plain  hlbx\" ><span class=\"plain  rtl  \" ><span class=\"plain  rtl\"></span><span class=\"plain  hl\" ><span class=\"plain  rtl  \" ><span class=\"plain  rtl\"></span><span class=\"plain  rtl  \" ><span class=\"txtu hbo\">וְ</span></span></span></span><span class=\"plain  rtl  \" ><span class=\"plain  rtl\"></span><span class=\"plain  rtl  \" ><span class=\"txtu hbo\">חֹ֖שֶׁךְ </span></span></span><span class=\"plain  rtl  \" ><span class=\"plain  rtl\"></span><span class=\"plain  rtl  \" ><span class=\"txtu hbo\">עַל־</span></span><span class=\"plain  rtl  \" ><span class=\"txtu hbo\">פְּנֵ֣י </span></span><span class=\"plain  rtl  \" ><span class=\"txtu hbo\">תְהֹ֑ום </span></span></span></span></span></td><td class=\"tf\"><span class=\"plain  hl\" ><span class=\"plain  rtl  \" ><span class=\"plain  rtl\"></span><span class=\"plain  rtl  \" ><span class=\"txtu hbo\">וְ</span></span></span></span></td></tr></table>"
      ],
      "text/plain": [
       "<IPython.core.display.HTML object>"
      ]
     },
     "metadata": {},
     "output_type": "display_data"
    },
    {
     "data": {
      "text/html": [
       "<p><b>result</b> <i>12</i></p>"
      ],
      "text/plain": [
       "<IPython.core.display.HTML object>"
      ]
     },
     "metadata": {},
     "output_type": "display_data"
    },
    {
     "data": {
      "text/html": [
       "<span class=\"section ltr\"><a target=\"_blank\" href=\"https://shebanq.ancient-data.org/hebrew/text?book=Genesis&amp;chapter=1&amp;verse=3&amp;version=2017&amp;mr=m&amp;qw=q&amp;tp=txt_p&amp;tr=hb&amp;wget=v&amp;qget=v&amp;nget=vt\" title=\"Show this on SHEBANQ\" sec=\"Genesis 1:3\">Genesis 1:3</a> </span><div class=\"contnr c3  rtl  \" ><div class=\"lbl c3  \" ><span class=\"nd\">verse</span></div> <div class='features'><span class=\"book xft\" ><span class=\"f\">book=</span>Genesis</span><span class=\"chapter xft\" ><span class=\"f\">chapter=</span>1</span></div><div class=\"children row wrap rtl\"><div class=\"contnr c2  rtl  \" ><div class=\"lbl c2  \" ><span class=\"nd\">sentence</span></div> <div class=\"children row wrap rtl\"><div class=\"contnr cnul trm rtl  \" ><div class=\"children row wrap rtl\"><div class=\"contnr c2  rtl  hl\" ><div class=\"lbl c2  hl\" ><span class=\"nd\">clause</span></div> <div class=\"children row wrap rtl\"><div class=\"contnr cnul trm rtl  \" ><div class=\"children row wrap rtl\"><div class=\"contnr c1 trm rtl  \" ><div class=\"lbl c1 trm \" ><span class=\"nd\">phrase</span> <span class=\"\"><span class=\"plain  rtl  \" ><span class=\"plain  rtl\"></span><span class=\"plain  rtl  \" ><span class=\"txtu hbo\">וַ</span></span></span></span></div> <div class=\"children row wrap rtl\"><div class=\"contnr cnul trm rtl  \" ></div></div></div><div class=\"contnr c1 trm rtl  \" ><div class=\"lbl c1 trm \" ><span class=\"nd\">phrase</span> <span class=\"\"><span class=\"plain  rtl  \" ><span class=\"plain  rtl\"></span><span class=\"plain  rtl  \" ><span class=\"txtu hbo\">יֹּ֥אמֶר </span></span></span></span></div> <div class=\"children row wrap rtl\"><div class=\"contnr cnul trm rtl  \" ></div></div></div><div class=\"contnr c1 trm rtl  hl\"  style=\"background-color: yellow;\" ><div class=\"lbl c1 trm \" ><span class=\"nd\">phrase</span> <span class=\"\"><span class=\"plain  hl\"  style=\"background-color: yellow;\" ><span class=\"plain  rtl  \" ><span class=\"plain  rtl\"></span><span class=\"plain  rtl  \" ><span class=\"txtu hbo\">אֱלֹהִ֖ים </span></span></span></span></span></div> <div class=\"children row wrap rtl\"><div class=\"contnr cnul trm rtl  \" ></div></div></div></div></div></div></div></div></div></div></div><div class=\"contnr c2  rtl  \" ><div class=\"lbl c2  \" ><span class=\"nd\">sentence</span></div> <div class=\"children row wrap rtl\"><div class=\"contnr cnul trm rtl  \" ><div class=\"children row wrap rtl\"><div class=\"contnr c2  rtl  \" ><div class=\"lbl c2  \" ><span class=\"nd\">clause</span></div> <div class=\"children row wrap rtl\"><div class=\"contnr cnul trm rtl  \" ><div class=\"children row wrap rtl\"><div class=\"contnr c1 trm rtl  \" ><div class=\"lbl c1 trm \" ><span class=\"nd\">phrase</span> <span class=\"\"><span class=\"plain  rtl  \" ><span class=\"plain  rtl\"></span><span class=\"plain  rtl  \" ><span class=\"txtu hbo\">יְהִ֣י </span></span></span></span></div> <div class=\"children row wrap rtl\"><div class=\"contnr cnul trm rtl  \" ></div></div></div><div class=\"contnr c1 trm rtl  \" ><div class=\"lbl c1 trm \" ><span class=\"nd\">phrase</span> <span class=\"\"><span class=\"plain  rtl  \" ><span class=\"plain  rtl\"></span><span class=\"plain  rtl  \" ><span class=\"txtu hbo\">אֹ֑ור </span></span></span></span></div> <div class=\"children row wrap rtl\"><div class=\"contnr cnul trm rtl  \" ></div></div></div></div></div></div></div></div></div></div></div><div class=\"contnr c2  rtl  \" ><div class=\"lbl c2  \" ><span class=\"nd\">sentence</span></div> <div class=\"children row wrap rtl\"><div class=\"contnr cnul trm rtl  \" ><div class=\"children row wrap rtl\"><div class=\"contnr c2  rtl  \" ><div class=\"lbl c2  \" ><span class=\"nd\">clause</span></div> <div class=\"children row wrap rtl\"><div class=\"contnr cnul trm rtl  \" ><div class=\"children row wrap rtl\"><div class=\"contnr c1 trm rtl  \" ><div class=\"lbl c1 trm \" ><span class=\"nd\">phrase</span> <span class=\"\"><span class=\"plain  rtl  \" ><span class=\"plain  rtl\"></span><span class=\"plain  rtl  \" ><span class=\"txtu hbo\">וַֽ</span></span></span></span></div> <div class=\"children row wrap rtl\"><div class=\"contnr cnul trm rtl  \" ></div></div></div><div class=\"contnr c1 trm rtl  \" ><div class=\"lbl c1 trm \" ><span class=\"nd\">phrase</span> <span class=\"\"><span class=\"plain  rtl  \" ><span class=\"plain  rtl\"></span><span class=\"plain  rtl  \" ><span class=\"txtu hbo\">יְהִי־</span></span></span></span></div> <div class=\"children row wrap rtl\"><div class=\"contnr cnul trm rtl  \" ></div></div></div><div class=\"contnr c1 trm rtl  \" ><div class=\"lbl c1 trm \" ><span class=\"nd\">phrase</span> <span class=\"\"><span class=\"plain  rtl  \" ><span class=\"plain  rtl\"></span><span class=\"plain  rtl  \" ><span class=\"txtu hbo\">אֹֽור׃ </span></span></span></span></div> <div class=\"children row wrap rtl\"><div class=\"contnr cnul trm rtl  \" ></div></div></div></div></div></div></div></div></div></div></div></div></div>"
      ],
      "text/plain": [
       "<IPython.core.display.HTML object>"
      ]
     },
     "metadata": {},
     "output_type": "display_data"
    },
    {
     "data": {
      "text/html": [
       "<p><b>result</b> <i>13</i></p>"
      ],
      "text/plain": [
       "<IPython.core.display.HTML object>"
      ]
     },
     "metadata": {},
     "output_type": "display_data"
    },
    {
     "data": {
      "text/html": [
       "<span class=\"section ltr\"><a target=\"_blank\" href=\"https://shebanq.ancient-data.org/hebrew/text?book=Genesis&amp;chapter=1&amp;verse=3&amp;version=2017&amp;mr=m&amp;qw=q&amp;tp=txt_p&amp;tr=hb&amp;wget=v&amp;qget=v&amp;nget=vt\" title=\"Show this on SHEBANQ\" sec=\"Genesis 1:3\">Genesis 1:3</a> </span><div class=\"contnr c3  rtl  \" ><div class=\"lbl c3  \" ><span class=\"nd\">verse</span></div> <div class='features'><span class=\"book xft\" ><span class=\"f\">book=</span>Genesis</span><span class=\"chapter xft\" ><span class=\"f\">chapter=</span>1</span></div><div class=\"children row wrap rtl\"><div class=\"contnr c2  rtl  \" ><div class=\"lbl c2  \" ><span class=\"nd\">sentence</span></div> <div class=\"children row wrap rtl\"><div class=\"contnr cnul trm rtl  \" ><div class=\"children row wrap rtl\"><div class=\"contnr c2  rtl  \" ><div class=\"lbl c2  \" ><span class=\"nd\">clause</span></div> <div class=\"children row wrap rtl\"><div class=\"contnr cnul trm rtl  \" ><div class=\"children row wrap rtl\"><div class=\"contnr c1 trm rtl  \" ><div class=\"lbl c1 trm \" ><span class=\"nd\">phrase</span> <span class=\"\"><span class=\"plain  rtl  \" ><span class=\"plain  rtl\"></span><span class=\"plain  rtl  \" ><span class=\"txtu hbo\">וַ</span></span></span></span></div> <div class=\"children row wrap rtl\"><div class=\"contnr cnul trm rtl  \" ></div></div></div><div class=\"contnr c1 trm rtl  \" ><div class=\"lbl c1 trm \" ><span class=\"nd\">phrase</span> <span class=\"\"><span class=\"plain  rtl  \" ><span class=\"plain  rtl\"></span><span class=\"plain  rtl  \" ><span class=\"txtu hbo\">יֹּ֥אמֶר </span></span></span></span></div> <div class=\"children row wrap rtl\"><div class=\"contnr cnul trm rtl  \" ></div></div></div><div class=\"contnr c1 trm rtl  \" ><div class=\"lbl c1 trm \" ><span class=\"nd\">phrase</span> <span class=\"\"><span class=\"plain  rtl  \" ><span class=\"plain  rtl\"></span><span class=\"plain  rtl  \" ><span class=\"txtu hbo\">אֱלֹהִ֖ים </span></span></span></span></div> <div class=\"children row wrap rtl\"><div class=\"contnr cnul trm rtl  \" ></div></div></div></div></div></div></div></div></div></div></div><div class=\"contnr c2  rtl  \" ><div class=\"lbl c2  \" ><span class=\"nd\">sentence</span></div> <div class=\"children row wrap rtl\"><div class=\"contnr cnul trm rtl  \" ><div class=\"children row wrap rtl\"><div class=\"contnr c2  rtl  hl\" ><div class=\"lbl c2  hl\" ><span class=\"nd\">clause</span></div> <div class=\"children row wrap rtl\"><div class=\"contnr cnul trm rtl  \" ><div class=\"children row wrap rtl\"><div class=\"contnr c1 trm rtl  hl\"  style=\"background-color: yellow;\" ><div class=\"lbl c1 trm \" ><span class=\"nd\">phrase</span> <span class=\"\"><span class=\"plain  hl\"  style=\"background-color: yellow;\" ><span class=\"plain  rtl  \" ><span class=\"plain  rtl\"></span><span class=\"plain  rtl  \" ><span class=\"txtu hbo\">יְהִ֣י </span></span></span></span></span></div> <div class=\"children row wrap rtl\"><div class=\"contnr cnul trm rtl  \" ></div></div></div><div class=\"contnr c1 trm rtl  \" ><div class=\"lbl c1 trm \" ><span class=\"nd\">phrase</span> <span class=\"\"><span class=\"plain  rtl  \" ><span class=\"plain  rtl\"></span><span class=\"plain  rtl  \" ><span class=\"txtu hbo\">אֹ֑ור </span></span></span></span></div> <div class=\"children row wrap rtl\"><div class=\"contnr cnul trm rtl  \" ></div></div></div></div></div></div></div></div></div></div></div><div class=\"contnr c2  rtl  \" ><div class=\"lbl c2  \" ><span class=\"nd\">sentence</span></div> <div class=\"children row wrap rtl\"><div class=\"contnr cnul trm rtl  \" ><div class=\"children row wrap rtl\"><div class=\"contnr c2  rtl  \" ><div class=\"lbl c2  \" ><span class=\"nd\">clause</span></div> <div class=\"children row wrap rtl\"><div class=\"contnr cnul trm rtl  \" ><div class=\"children row wrap rtl\"><div class=\"contnr c1 trm rtl  \" ><div class=\"lbl c1 trm \" ><span class=\"nd\">phrase</span> <span class=\"\"><span class=\"plain  rtl  \" ><span class=\"plain  rtl\"></span><span class=\"plain  rtl  \" ><span class=\"txtu hbo\">וַֽ</span></span></span></span></div> <div class=\"children row wrap rtl\"><div class=\"contnr cnul trm rtl  \" ></div></div></div><div class=\"contnr c1 trm rtl  \" ><div class=\"lbl c1 trm \" ><span class=\"nd\">phrase</span> <span class=\"\"><span class=\"plain  rtl  \" ><span class=\"plain  rtl\"></span><span class=\"plain  rtl  \" ><span class=\"txtu hbo\">יְהִי־</span></span></span></span></div> <div class=\"children row wrap rtl\"><div class=\"contnr cnul trm rtl  \" ></div></div></div><div class=\"contnr c1 trm rtl  \" ><div class=\"lbl c1 trm \" ><span class=\"nd\">phrase</span> <span class=\"\"><span class=\"plain  rtl  \" ><span class=\"plain  rtl\"></span><span class=\"plain  rtl  \" ><span class=\"txtu hbo\">אֹֽור׃ </span></span></span></span></div> <div class=\"children row wrap rtl\"><div class=\"contnr cnul trm rtl  \" ></div></div></div></div></div></div></div></div></div></div></div></div></div>"
      ],
      "text/plain": [
       "<IPython.core.display.HTML object>"
      ]
     },
     "metadata": {},
     "output_type": "display_data"
    },
    {
     "data": {
      "text/html": [
       "<p><b>result</b> <i>14</i></p>"
      ],
      "text/plain": [
       "<IPython.core.display.HTML object>"
      ]
     },
     "metadata": {},
     "output_type": "display_data"
    },
    {
     "data": {
      "text/html": [
       "<span class=\"section ltr\"><a target=\"_blank\" href=\"https://shebanq.ancient-data.org/hebrew/text?book=Genesis&amp;chapter=1&amp;verse=3&amp;version=2017&amp;mr=m&amp;qw=q&amp;tp=txt_p&amp;tr=hb&amp;wget=v&amp;qget=v&amp;nget=vt\" title=\"Show this on SHEBANQ\" sec=\"Genesis 1:3\">Genesis 1:3</a> </span><div class=\"contnr c3  rtl  \" ><div class=\"lbl c3  \" ><span class=\"nd\">verse</span></div> <div class='features'><span class=\"book xft\" ><span class=\"f\">book=</span>Genesis</span><span class=\"chapter xft\" ><span class=\"f\">chapter=</span>1</span></div><div class=\"children row wrap rtl\"><div class=\"contnr c2  rtl  \" ><div class=\"lbl c2  \" ><span class=\"nd\">sentence</span></div> <div class=\"children row wrap rtl\"><div class=\"contnr cnul trm rtl  \" ><div class=\"children row wrap rtl\"><div class=\"contnr c2  rtl  \" ><div class=\"lbl c2  \" ><span class=\"nd\">clause</span></div> <div class=\"children row wrap rtl\"><div class=\"contnr cnul trm rtl  \" ><div class=\"children row wrap rtl\"><div class=\"contnr c1 trm rtl  \" ><div class=\"lbl c1 trm \" ><span class=\"nd\">phrase</span> <span class=\"\"><span class=\"plain  rtl  \" ><span class=\"plain  rtl\"></span><span class=\"plain  rtl  \" ><span class=\"txtu hbo\">וַ</span></span></span></span></div> <div class=\"children row wrap rtl\"><div class=\"contnr cnul trm rtl  \" ></div></div></div><div class=\"contnr c1 trm rtl  \" ><div class=\"lbl c1 trm \" ><span class=\"nd\">phrase</span> <span class=\"\"><span class=\"plain  rtl  \" ><span class=\"plain  rtl\"></span><span class=\"plain  rtl  \" ><span class=\"txtu hbo\">יֹּ֥אמֶר </span></span></span></span></div> <div class=\"children row wrap rtl\"><div class=\"contnr cnul trm rtl  \" ></div></div></div><div class=\"contnr c1 trm rtl  \" ><div class=\"lbl c1 trm \" ><span class=\"nd\">phrase</span> <span class=\"\"><span class=\"plain  rtl  \" ><span class=\"plain  rtl\"></span><span class=\"plain  rtl  \" ><span class=\"txtu hbo\">אֱלֹהִ֖ים </span></span></span></span></div> <div class=\"children row wrap rtl\"><div class=\"contnr cnul trm rtl  \" ></div></div></div></div></div></div></div></div></div></div></div><div class=\"contnr c2  rtl  \" ><div class=\"lbl c2  \" ><span class=\"nd\">sentence</span></div> <div class=\"children row wrap rtl\"><div class=\"contnr cnul trm rtl  \" ><div class=\"children row wrap rtl\"><div class=\"contnr c2  rtl  hl\" ><div class=\"lbl c2  hl\" ><span class=\"nd\">clause</span></div> <div class=\"children row wrap rtl\"><div class=\"contnr cnul trm rtl  \" ><div class=\"children row wrap rtl\"><div class=\"contnr c1 trm rtl  \" ><div class=\"lbl c1 trm \" ><span class=\"nd\">phrase</span> <span class=\"\"><span class=\"plain  rtl  \" ><span class=\"plain  rtl\"></span><span class=\"plain  rtl  \" ><span class=\"txtu hbo\">יְהִ֣י </span></span></span></span></div> <div class=\"children row wrap rtl\"><div class=\"contnr cnul trm rtl  \" ></div></div></div><div class=\"contnr c1 trm rtl  hl\"  style=\"background-color: yellow;\" ><div class=\"lbl c1 trm \" ><span class=\"nd\">phrase</span> <span class=\"\"><span class=\"plain  hl\"  style=\"background-color: yellow;\" ><span class=\"plain  rtl  \" ><span class=\"plain  rtl\"></span><span class=\"plain  rtl  \" ><span class=\"txtu hbo\">אֹ֑ור </span></span></span></span></span></div> <div class=\"children row wrap rtl\"><div class=\"contnr cnul trm rtl  \" ></div></div></div></div></div></div></div></div></div></div></div><div class=\"contnr c2  rtl  \" ><div class=\"lbl c2  \" ><span class=\"nd\">sentence</span></div> <div class=\"children row wrap rtl\"><div class=\"contnr cnul trm rtl  \" ><div class=\"children row wrap rtl\"><div class=\"contnr c2  rtl  \" ><div class=\"lbl c2  \" ><span class=\"nd\">clause</span></div> <div class=\"children row wrap rtl\"><div class=\"contnr cnul trm rtl  \" ><div class=\"children row wrap rtl\"><div class=\"contnr c1 trm rtl  \" ><div class=\"lbl c1 trm \" ><span class=\"nd\">phrase</span> <span class=\"\"><span class=\"plain  rtl  \" ><span class=\"plain  rtl\"></span><span class=\"plain  rtl  \" ><span class=\"txtu hbo\">וַֽ</span></span></span></span></div> <div class=\"children row wrap rtl\"><div class=\"contnr cnul trm rtl  \" ></div></div></div><div class=\"contnr c1 trm rtl  \" ><div class=\"lbl c1 trm \" ><span class=\"nd\">phrase</span> <span class=\"\"><span class=\"plain  rtl  \" ><span class=\"plain  rtl\"></span><span class=\"plain  rtl  \" ><span class=\"txtu hbo\">יְהִי־</span></span></span></span></div> <div class=\"children row wrap rtl\"><div class=\"contnr cnul trm rtl  \" ></div></div></div><div class=\"contnr c1 trm rtl  \" ><div class=\"lbl c1 trm \" ><span class=\"nd\">phrase</span> <span class=\"\"><span class=\"plain  rtl  \" ><span class=\"plain  rtl\"></span><span class=\"plain  rtl  \" ><span class=\"txtu hbo\">אֹֽור׃ </span></span></span></span></div> <div class=\"children row wrap rtl\"><div class=\"contnr cnul trm rtl  \" ></div></div></div></div></div></div></div></div></div></div></div></div></div>"
      ],
      "text/plain": [
       "<IPython.core.display.HTML object>"
      ]
     },
     "metadata": {},
     "output_type": "display_data"
    }
   ],
   "source": [
    "A.table(results, start=1, end=5, baseTypes=\"phrase\", skipCols=\"1\")\n",
    "A.show(results, condensed=False, start=12, end=14, colorMap={2: 'yellow', 3: 'cyan'}, baseTypes=\"phrase\", skipCols=\"1\")"
   ]
  },
  {
   "cell_type": "markdown",
   "metadata": {},
   "source": [
    "Here you see in results 13 and 14 a phrase of the previous clause."
   ]
  },
  {
   "cell_type": "markdown",
   "metadata": {},
   "source": [
    "Lets also play with common and rare:"
   ]
  },
  {
   "cell_type": "code",
   "execution_count": 61,
   "metadata": {
    "ExecuteTime": {
     "end_time": "2018-05-24T10:07:04.112246Z",
     "start_time": "2018-05-24T10:07:03.896523Z"
    }
   },
   "outputs": [
    {
     "name": "stdout",
     "output_type": "stream",
     "text": [
      "  0.81s 10294 results\n"
     ]
    }
   ],
   "source": [
    "resultsCommon = A.search('''\n",
    "verse\n",
    "  clause\n",
    "    =: rare otype=phrase\n",
    "''', sets=customSets)"
   ]
  },
  {
   "cell_type": "code",
   "execution_count": 62,
   "metadata": {
    "ExecuteTime": {
     "end_time": "2018-05-24T10:07:04.112246Z",
     "start_time": "2018-05-24T10:07:03.896523Z"
    }
   },
   "outputs": [
    {
     "name": "stdout",
     "output_type": "stream",
     "text": [
      "  0.93s 10294 results\n"
     ]
    }
   ],
   "source": [
    "resultsCommon = A.search('''\n",
    "verse\n",
    "  clause\n",
    "    =0: rare otype=phrase\n",
    "''', sets=customSets)"
   ]
  },
  {
   "cell_type": "code",
   "execution_count": 63,
   "metadata": {
    "ExecuteTime": {
     "end_time": "2018-05-24T10:07:04.112246Z",
     "start_time": "2018-05-24T10:07:03.896523Z"
    }
   },
   "outputs": [
    {
     "name": "stdout",
     "output_type": "stream",
     "text": [
      "  1.23s 26074 results\n"
     ]
    }
   ],
   "source": [
    "resultsCommon = A.search('''\n",
    "verse\n",
    "  clause\n",
    "    =1: rare otype=phrase\n",
    "''', sets=customSets)"
   ]
  },
  {
   "cell_type": "code",
   "execution_count": 64,
   "metadata": {
    "ExecuteTime": {
     "end_time": "2018-05-24T10:07:04.112246Z",
     "start_time": "2018-05-24T10:07:03.896523Z"
    }
   },
   "outputs": [
    {
     "name": "stdout",
     "output_type": "stream",
     "text": [
      "  1.49s 39312 results\n"
     ]
    }
   ],
   "source": [
    "resultsCommon = A.search('''\n",
    "verse\n",
    "  clause\n",
    "    =2: rare otype=phrase\n",
    "''', sets=customSets)"
   ]
  },
  {
   "cell_type": "markdown",
   "metadata": {},
   "source": [
    "## :k= same end within k slots\n",
    "\n",
    "## :k: same start and end within k slots"
   ]
  },
  {
   "cell_type": "markdown",
   "metadata": {},
   "source": [
    "# All steps\n",
    "\n",
    "* **[start](start.ipynb)** your first step in mastering the bible computationally\n",
    "* **[display](display.ipynb)** become an expert in creating pretty displays of your text structures\n",
    "* **[search](search.ipynb)** turbo charge your hand-coding with search templates\n",
    "\n",
    "---\n",
    "\n",
    "[advanced](searchAdvanced.ipynb)\n",
    "[sets](searchSets.ipynb)\n",
    "relations\n",
    "\n",
    "You are comfortable in space now.\n",
    "\n",
    "Ready to enter a whole new dimension?\n",
    "\n",
    "[quantifiers](searchQuantifiers.ipynb)\n",
    "[fromMQL](searchFromMQL.ipynb)\n",
    "[rough](searchRough.ipynb)\n",
    "[gaps](searchGaps.ipynb)\n",
    "\n",
    "---\n",
    "\n",
    "* **[exportExcel](exportExcel.ipynb)** make tailor-made spreadsheets out of your results\n",
    "* **[share](share.ipynb)** draw in other people's data and let them use yours\n",
    "* **[export](export.ipynb)** export your dataset as an Emdros database\n",
    "\n",
    "CC-BY Dirk Roorda"
   ]
  }
 ],
 "metadata": {
  "kernelspec": {
   "display_name": "Python 3",
   "language": "python",
   "name": "python3"
  },
  "language_info": {
   "codemirror_mode": {
    "name": "ipython",
    "version": 3
   },
   "file_extension": ".py",
   "mimetype": "text/x-python",
   "name": "python",
   "nbconvert_exporter": "python",
   "pygments_lexer": "ipython3",
   "version": "3.7.7"
  }
 },
 "nbformat": 4,
 "nbformat_minor": 4
}
