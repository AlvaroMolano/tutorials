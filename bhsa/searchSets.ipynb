{
 "cells": [
  {
   "cell_type": "markdown",
   "metadata": {},
   "source": [
    "<img align=\"right\" src=\"images/tf-small.png\" width=\"128\"/>\n",
    "<img align=\"right\" src=\"images/etcbc.png\"/>\n",
    "<img align=\"right\" src=\"images/dans-small.png\"/>\n",
    "\n",
    "You might want to consider the [start](search.ipynb) of this tutorial.\n",
    "\n",
    "Short introductions to other TF datasets:\n",
    "\n",
    "* [Dead Sea Scrolls](https://nbviewer.jupyter.org/github/annotation/tutorials/blob/master/lorentz2020/dss.ipynb),\n",
    "* [Old Babylonian Letters](https://nbviewer.jupyter.org/github/annotation/tutorials/blob/master/lorentz2020/oldbabylonian.ipynb),\n",
    "or the \n",
    "* [Q'uran](https://nbviewer.jupyter.org/github/annotation/tutorials/blob/master/lorentz2020/quran.ipynb)\n"
   ]
  },
  {
   "cell_type": "markdown",
   "metadata": {},
   "source": [
    "# Sets and queries\n",
    "\n",
    "You can pass custom sets to the search function, as we have seen in [advanced](searchAdvanced.ipynb).\n",
    "Now we want to give a real-world example of that, and also show how you can prepare sets for use\n",
    "in the TF browser.\n",
    "\n",
    "## Chapters with only \"frequent\" words\n",
    "\n",
    "The following task comes from the department of education:\n",
    "\n",
    "*Find the chapters without more than 20 rare words, where a rare word has a frequency (as lexeme) of less than 70.*\n",
    "\n",
    "A question posed by Oliver Glanz."
   ]
  },
  {
   "cell_type": "code",
   "execution_count": 1,
   "metadata": {},
   "outputs": [],
   "source": [
    "%load_ext autoreload\n",
    "%autoreload 2"
   ]
  },
  {
   "cell_type": "code",
   "execution_count": 2,
   "metadata": {},
   "outputs": [],
   "source": [
    "import os"
   ]
  },
  {
   "cell_type": "code",
   "execution_count": 3,
   "metadata": {},
   "outputs": [],
   "source": [
    "from tf.fabric import Fabric\n",
    "from tf.app import use\n",
    "from tf.lib import writeSets, readSets"
   ]
  },
  {
   "cell_type": "code",
   "execution_count": 4,
   "metadata": {
    "ExecuteTime": {
     "end_time": "2018-05-24T10:06:51.615044Z",
     "start_time": "2018-05-24T10:06:50.161456Z"
    }
   },
   "outputs": [
    {
     "name": "stdout",
     "output_type": "stream",
     "text": [
      "rate limit is 5000 requests per hour, with 4860 left for this hour\n",
      "\tconnecting to online GitHub repo annotation/app-bhsa ... connected\n",
      "Using TF-app in /Users/dirk/text-fabric-data/annotation/app-bhsa/code:\n",
      "\trv2.0.0=#7b3b9ffba7ee6dbc76a52b8d76475d17babf0daf (latest release)\n",
      "rate limit is 5000 requests per hour, with 4855 left for this hour\n",
      "\tconnecting to online GitHub repo etcbc/bhsa ... connected\n",
      "Using data in /Users/dirk/text-fabric-data/etcbc/bhsa/tf/c:\n",
      "\trv1.6 (latest release)\n",
      "rate limit is 5000 requests per hour, with 4850 left for this hour\n",
      "\tconnecting to online GitHub repo etcbc/phono ... connected\n",
      "Using data in /Users/dirk/text-fabric-data/etcbc/phono/tf/c:\n",
      "\tr1.2 (latest release)\n",
      "rate limit is 5000 requests per hour, with 4845 left for this hour\n",
      "\tconnecting to online GitHub repo etcbc/parallels ... connected\n",
      "Using data in /Users/dirk/text-fabric-data/etcbc/parallels/tf/c:\n",
      "\tr1.2 (latest release)\n",
      "   |     0.00s Dataset without structure sections in otext:no structure functions in the T-API\n"
     ]
    },
    {
     "data": {
      "text/html": [
       "<b>Documentation:</b> <a target=\"_blank\" href=\"https://etcbc.github.io/bhsa/0_home\" title=\"provenance of BHSA = Biblia Hebraica Stuttgartensia Amstelodamensis\">BHSA</a> <a target=\"_blank\" href=\"https://annotation.github.io/text-fabric/Writing/Transcription/Hebrew\" title=\"How TF features represent text\">Character table</a> <a target=\"_blank\" href=\"https://etcbc.github.io/bhsa/features/0_home\" title=\"BHSA feature documentation\">Feature docs</a> <a target=\"_blank\" href=\"https://github.com/annotation/app-bhsa\" title=\"bhsa API documentation\">bhsa API</a> <a target=\"_blank\" href=\"https://annotation.github.io/text-fabric/Api/Fabric/\" title=\"text-fabric-api\">Text-Fabric API 8.0.1</a> <a target=\"_blank\" href=\"https://annotation.github.io/text-fabric/Use/Search/\" title=\"Search Templates Introduction and Reference\">Search Reference</a><details open><summary><b>Loaded features</b>:</summary>\n",
       "<p><b>Parallel Passages</b>: <b><i><a target=\"_blank\" href=\"https://nbviewer.jupyter.org/github/etcbc/parallels/blob/master/programs/parallels.ipynb\" title=\"/Users/dirk/text-fabric-data/etcbc/parallels/tf/c/crossref.tf\">crossref</a></i></b> </p><p><b>BHSA = Biblia Hebraica Stuttgartensia Amstelodamensis</b>: <a target=\"_blank\" href=\"https://etcbc.github.io/bhsa/features/book\" title=\"/Users/dirk/text-fabric-data/etcbc/bhsa/tf/c/book.tf\">book</a>  <a target=\"_blank\" href=\"https://etcbc.github.io/bhsa/features/book@ll\" title=\"/Users/dirk/text-fabric-data/etcbc/bhsa/tf/c/book@am.tf\">book@ll</a>  <a target=\"_blank\" href=\"https://etcbc.github.io/bhsa/features/chapter\" title=\"/Users/dirk/text-fabric-data/etcbc/bhsa/tf/c/chapter.tf\">chapter</a>  <a target=\"_blank\" href=\"https://etcbc.github.io/bhsa/features/code\" title=\"/Users/dirk/text-fabric-data/etcbc/bhsa/tf/c/code.tf\">code</a>  <a target=\"_blank\" href=\"https://etcbc.github.io/bhsa/features/det\" title=\"/Users/dirk/text-fabric-data/etcbc/bhsa/tf/c/det.tf\">det</a>  <a target=\"_blank\" href=\"https://etcbc.github.io/bhsa/features/domain\" title=\"/Users/dirk/text-fabric-data/etcbc/bhsa/tf/c/domain.tf\">domain</a>  <a target=\"_blank\" href=\"https://etcbc.github.io/bhsa/features/freq_lex\" title=\"/Users/dirk/text-fabric-data/etcbc/bhsa/tf/c/freq_lex.tf\">freq_lex</a>  <a target=\"_blank\" href=\"https://etcbc.github.io/bhsa/features/function\" title=\"/Users/dirk/text-fabric-data/etcbc/bhsa/tf/c/function.tf\">function</a>  <a target=\"_blank\" href=\"https://etcbc.github.io/bhsa/features/g_cons\" title=\"/Users/dirk/text-fabric-data/etcbc/bhsa/tf/c/g_cons.tf\">g_cons</a>  <a target=\"_blank\" href=\"https://etcbc.github.io/bhsa/features/g_cons_utf8\" title=\"/Users/dirk/text-fabric-data/etcbc/bhsa/tf/c/g_cons_utf8.tf\">g_cons_utf8</a>  <a target=\"_blank\" href=\"https://etcbc.github.io/bhsa/features/g_lex\" title=\"/Users/dirk/text-fabric-data/etcbc/bhsa/tf/c/g_lex.tf\">g_lex</a>  <a target=\"_blank\" href=\"https://etcbc.github.io/bhsa/features/g_lex_utf8\" title=\"/Users/dirk/text-fabric-data/etcbc/bhsa/tf/c/g_lex_utf8.tf\">g_lex_utf8</a>  <a target=\"_blank\" href=\"https://etcbc.github.io/bhsa/features/g_word\" title=\"/Users/dirk/text-fabric-data/etcbc/bhsa/tf/c/g_word.tf\">g_word</a>  <a target=\"_blank\" href=\"https://etcbc.github.io/bhsa/features/g_word_utf8\" title=\"/Users/dirk/text-fabric-data/etcbc/bhsa/tf/c/g_word_utf8.tf\">g_word_utf8</a>  <a target=\"_blank\" href=\"https://etcbc.github.io/bhsa/features/gloss\" title=\"/Users/dirk/text-fabric-data/etcbc/bhsa/tf/c/gloss.tf\">gloss</a>  <a target=\"_blank\" href=\"https://etcbc.github.io/bhsa/features/gn\" title=\"/Users/dirk/text-fabric-data/etcbc/bhsa/tf/c/gn.tf\">gn</a>  <a target=\"_blank\" href=\"https://etcbc.github.io/bhsa/features/label\" title=\"/Users/dirk/text-fabric-data/etcbc/bhsa/tf/c/label.tf\">label</a>  <a target=\"_blank\" href=\"https://etcbc.github.io/bhsa/features/language\" title=\"/Users/dirk/text-fabric-data/etcbc/bhsa/tf/c/language.tf\">language</a>  <a target=\"_blank\" href=\"https://etcbc.github.io/bhsa/features/lex\" title=\"/Users/dirk/text-fabric-data/etcbc/bhsa/tf/c/lex.tf\">lex</a>  <a target=\"_blank\" href=\"https://etcbc.github.io/bhsa/features/lex_utf8\" title=\"/Users/dirk/text-fabric-data/etcbc/bhsa/tf/c/lex_utf8.tf\">lex_utf8</a>  <a target=\"_blank\" href=\"https://etcbc.github.io/bhsa/features/ls\" title=\"/Users/dirk/text-fabric-data/etcbc/bhsa/tf/c/ls.tf\">ls</a>  <a target=\"_blank\" href=\"https://etcbc.github.io/bhsa/features/nametype\" title=\"/Users/dirk/text-fabric-data/etcbc/bhsa/tf/c/nametype.tf\">nametype</a>  <a target=\"_blank\" href=\"https://etcbc.github.io/bhsa/features/nme\" title=\"/Users/dirk/text-fabric-data/etcbc/bhsa/tf/c/nme.tf\">nme</a>  <a target=\"_blank\" href=\"https://etcbc.github.io/bhsa/features/nu\" title=\"/Users/dirk/text-fabric-data/etcbc/bhsa/tf/c/nu.tf\">nu</a>  <a target=\"_blank\" href=\"https://etcbc.github.io/bhsa/features/number\" title=\"/Users/dirk/text-fabric-data/etcbc/bhsa/tf/c/number.tf\">number</a>  <a target=\"_blank\" href=\"https://etcbc.github.io/bhsa/features/otype\" title=\"/Users/dirk/text-fabric-data/etcbc/bhsa/tf/c/otype.tf\">otype</a>  <a target=\"_blank\" href=\"https://etcbc.github.io/bhsa/features/pargr\" title=\"/Users/dirk/text-fabric-data/etcbc/bhsa/tf/c/pargr.tf\">pargr</a>  <a target=\"_blank\" href=\"https://etcbc.github.io/bhsa/features/pdp\" title=\"/Users/dirk/text-fabric-data/etcbc/bhsa/tf/c/pdp.tf\">pdp</a>  <a target=\"_blank\" href=\"https://etcbc.github.io/bhsa/features/pfm\" title=\"/Users/dirk/text-fabric-data/etcbc/bhsa/tf/c/pfm.tf\">pfm</a>  <a target=\"_blank\" href=\"https://etcbc.github.io/bhsa/features/prs\" title=\"/Users/dirk/text-fabric-data/etcbc/bhsa/tf/c/prs.tf\">prs</a>  <a target=\"_blank\" href=\"https://etcbc.github.io/bhsa/features/prs_gn\" title=\"/Users/dirk/text-fabric-data/etcbc/bhsa/tf/c/prs_gn.tf\">prs_gn</a>  <a target=\"_blank\" href=\"https://etcbc.github.io/bhsa/features/prs_nu\" title=\"/Users/dirk/text-fabric-data/etcbc/bhsa/tf/c/prs_nu.tf\">prs_nu</a>  <a target=\"_blank\" href=\"https://etcbc.github.io/bhsa/features/prs_ps\" title=\"/Users/dirk/text-fabric-data/etcbc/bhsa/tf/c/prs_ps.tf\">prs_ps</a>  <a target=\"_blank\" href=\"https://etcbc.github.io/bhsa/features/ps\" title=\"/Users/dirk/text-fabric-data/etcbc/bhsa/tf/c/ps.tf\">ps</a>  <a target=\"_blank\" href=\"https://etcbc.github.io/bhsa/features/qere\" title=\"/Users/dirk/text-fabric-data/etcbc/bhsa/tf/c/qere.tf\">qere</a>  <a target=\"_blank\" href=\"https://etcbc.github.io/bhsa/features/qere_trailer\" title=\"/Users/dirk/text-fabric-data/etcbc/bhsa/tf/c/qere_trailer.tf\">qere_trailer</a>  <a target=\"_blank\" href=\"https://etcbc.github.io/bhsa/features/qere_trailer_utf8\" title=\"/Users/dirk/text-fabric-data/etcbc/bhsa/tf/c/qere_trailer_utf8.tf\">qere_trailer_utf8</a>  <a target=\"_blank\" href=\"https://etcbc.github.io/bhsa/features/qere_utf8\" title=\"/Users/dirk/text-fabric-data/etcbc/bhsa/tf/c/qere_utf8.tf\">qere_utf8</a>  <a target=\"_blank\" href=\"https://etcbc.github.io/bhsa/features/rank_lex\" title=\"/Users/dirk/text-fabric-data/etcbc/bhsa/tf/c/rank_lex.tf\">rank_lex</a>  <a target=\"_blank\" href=\"https://etcbc.github.io/bhsa/features/rela\" title=\"/Users/dirk/text-fabric-data/etcbc/bhsa/tf/c/rela.tf\">rela</a>  <a target=\"_blank\" href=\"https://etcbc.github.io/bhsa/features/sp\" title=\"/Users/dirk/text-fabric-data/etcbc/bhsa/tf/c/sp.tf\">sp</a>  <a target=\"_blank\" href=\"https://etcbc.github.io/bhsa/features/st\" title=\"/Users/dirk/text-fabric-data/etcbc/bhsa/tf/c/st.tf\">st</a>  <a target=\"_blank\" href=\"https://etcbc.github.io/bhsa/features/tab\" title=\"/Users/dirk/text-fabric-data/etcbc/bhsa/tf/c/tab.tf\">tab</a>  <a target=\"_blank\" href=\"https://etcbc.github.io/bhsa/features/trailer\" title=\"/Users/dirk/text-fabric-data/etcbc/bhsa/tf/c/trailer.tf\">trailer</a>  <a target=\"_blank\" href=\"https://etcbc.github.io/bhsa/features/trailer_utf8\" title=\"/Users/dirk/text-fabric-data/etcbc/bhsa/tf/c/trailer_utf8.tf\">trailer_utf8</a>  <a target=\"_blank\" href=\"https://etcbc.github.io/bhsa/features/txt\" title=\"/Users/dirk/text-fabric-data/etcbc/bhsa/tf/c/txt.tf\">txt</a>  <a target=\"_blank\" href=\"https://etcbc.github.io/bhsa/features/typ\" title=\"/Users/dirk/text-fabric-data/etcbc/bhsa/tf/c/typ.tf\">typ</a>  <a target=\"_blank\" href=\"https://etcbc.github.io/bhsa/features/uvf\" title=\"/Users/dirk/text-fabric-data/etcbc/bhsa/tf/c/uvf.tf\">uvf</a>  <a target=\"_blank\" href=\"https://etcbc.github.io/bhsa/features/vbe\" title=\"/Users/dirk/text-fabric-data/etcbc/bhsa/tf/c/vbe.tf\">vbe</a>  <a target=\"_blank\" href=\"https://etcbc.github.io/bhsa/features/vbs\" title=\"/Users/dirk/text-fabric-data/etcbc/bhsa/tf/c/vbs.tf\">vbs</a>  <a target=\"_blank\" href=\"https://etcbc.github.io/bhsa/features/verse\" title=\"/Users/dirk/text-fabric-data/etcbc/bhsa/tf/c/verse.tf\">verse</a>  <a target=\"_blank\" href=\"https://etcbc.github.io/bhsa/features/voc_lex\" title=\"/Users/dirk/text-fabric-data/etcbc/bhsa/tf/c/voc_lex.tf\">voc_lex</a>  <a target=\"_blank\" href=\"https://etcbc.github.io/bhsa/features/voc_lex_utf8\" title=\"/Users/dirk/text-fabric-data/etcbc/bhsa/tf/c/voc_lex_utf8.tf\">voc_lex_utf8</a>  <a target=\"_blank\" href=\"https://etcbc.github.io/bhsa/features/vs\" title=\"/Users/dirk/text-fabric-data/etcbc/bhsa/tf/c/vs.tf\">vs</a>  <a target=\"_blank\" href=\"https://etcbc.github.io/bhsa/features/vt\" title=\"/Users/dirk/text-fabric-data/etcbc/bhsa/tf/c/vt.tf\">vt</a>  <b><i><a target=\"_blank\" href=\"https://etcbc.github.io/bhsa/features/mother\" title=\"/Users/dirk/text-fabric-data/etcbc/bhsa/tf/c/mother.tf\">mother</a></i></b>  <b><i><a target=\"_blank\" href=\"https://etcbc.github.io/bhsa/features/oslots\" title=\"/Users/dirk/text-fabric-data/etcbc/bhsa/tf/c/oslots.tf\">oslots</a></i></b> </p><p><b>Phonetic Transcriptions</b>: <a target=\"_blank\" href=\"https://nbviewer.jupyter.org/github/etcbc/phono/blob/master/programs/phono.ipynb\" title=\"/Users/dirk/text-fabric-data/etcbc/phono/tf/c/phono.tf\">phono</a>  <a target=\"_blank\" href=\"https://nbviewer.jupyter.org/github/etcbc/phono/blob/master/programs/phono.ipynb\" title=\"/Users/dirk/text-fabric-data/etcbc/phono/tf/c/phono_trailer.tf\">phono_trailer</a> </p></details>"
      ],
      "text/plain": [
       "<IPython.core.display.HTML object>"
      ]
     },
     "metadata": {},
     "output_type": "display_data"
    },
    {
     "data": {
      "text/html": [
       "<style>tr.tf, td.tf, th.tf { text-align: left ! important;}@font-face {\n",
       "  font-family: \"Ezra SIL\";\n",
       "  src: local('Ezra SIL'), local('EzraSIL'),\n",
       "    url('/server/static/fonts/SILEOT.woff') format('woff'),\n",
       "    url('https://github.com/annotation/text-fabric/blob/master/tf/server/static/fonts/SILEOT.woff?raw=true') format('woff');\n",
       "}\n",
       "\n",
       "@font-face {\n",
       "  font-family: \"SBL Hebrew\";\n",
       "  src: local('SBL Hebrew'), local('SBLHebrew'),\n",
       "    url('/server/static/fonts/SBL_Hbrw.woff') format('woff'),\n",
       "    url('https://github.com/annotation/text-fabric/blob/master/tf/server/static/fonts/SBL_Hbrw.woff?raw=true') format('woff');\n",
       "}\n",
       "\n",
       "@font-face {\n",
       "  font-family: \"Estrangelo Edessa\";\n",
       "  src: local('Estrangelo Edessa'), local('EstrangeloEdessa');\n",
       "    url('/server/static/fonts/SyrCOMEdessa.woff') format('woff'),\n",
       "    url('https://github.com/annotation/text-fabric/blob/master/tf/server/static/fonts/SyrCOMEdessa.woff?raw=true') format('woff');\n",
       "}\n",
       "\n",
       "@font-face {\n",
       "  font-family: AmiriQuran;\n",
       "  font-style: normal;\n",
       "  font-weight: 400;\n",
       "  src: local('Amiri Quran'), local('AmiriQuran'),\n",
       "    url('/server/static/fonts/AmiriQuran.woff') format('woff'),\n",
       "    url('https://github.com/annotation/text-fabric/blob/master/tf/server/static/fonts/AmiriQuran.woff?raw=true') format('woff');\n",
       "}\n",
       "\n",
       "@font-face {\n",
       "  font-family: AmiriQuranColored;\n",
       "  font-style: normal;\n",
       "  font-weight: 400;\n",
       "  src: local('Amiri Quran Colored'), local('AmiriQuranColored'),\n",
       "    url('/server/static/fonts/AmiriQuranColored.woff') format('woff'),\n",
       "    url('https://github.com/annotation/text-fabric/blob/master/tf/server/static/fonts/AmiriQuranColored.woff?raw=true') format('woff');\n",
       "}\n",
       "\n",
       "@font-face {\n",
       "  font-family: \"Santakku\";\n",
       "  src: local('Santakku'),\n",
       "    url('/server/static/fonts/Santakku.woff') format('woff'),\n",
       "    url('https://github.com/annotation/text-fabric/blob/master/tf/server/static/fonts/Santakku.woff?raw=true') format('woff');\n",
       "}\n",
       "\n",
       "@font-face {\n",
       "  font-family: \"SantakkuM\";\n",
       "  src: local('SantakkuM'),\n",
       "    url('/server/static/fonts/SantakkuM.woff') format('woff'),\n",
       "    url('https://github.com/annotation/text-fabric/blob/master/tf/server/static/fonts/SantakkuM.woff?raw=true') format('woff');\n",
       "}\n",
       "/* bypassing some classical notebook settings */\n",
       "div#notebook {\n",
       "  line-height: unset;\n",
       "}\n",
       "/* neutral text */\n",
       ".txtn,.txtn a:visited,.txtn a:link {\n",
       "    font-family: sans-serif;\n",
       "    font-size: medium;\n",
       "    direction: ltr;\n",
       "    text-decoration: none;\n",
       "    color: var(--text-color);\n",
       "}\n",
       "/* transcription text */\n",
       ".txtt,.txtt a:visited,.txtt a:link {\n",
       "    font-family: monospace;\n",
       "    font-size: medium;\n",
       "    direction: ltr;\n",
       "    text-decoration: none;\n",
       "    color: var(--text-color);\n",
       "}\n",
       "/* source text */\n",
       ".txto,.txto a:visited,.txto a:link {\n",
       "    font-family: serif;\n",
       "    font-size: medium;\n",
       "    direction: ltr;\n",
       "    text-decoration: none;\n",
       "    color: var(--text-color);\n",
       "}\n",
       "/* phonetic text */\n",
       ".txtp,.txtp a:visited,.txtp a:link {\n",
       "    font-family: Gentium, sans-serif;\n",
       "    font-size: large;\n",
       "    direction: ltr;\n",
       "    text-decoration: none;\n",
       "    color: var(--text-color);\n",
       "}\n",
       "/* original script text */\n",
       ".txtu,.txtu a:visited,.txtu a:link {\n",
       "    font-family: Gentium, sans-serif;\n",
       "    font-size: large;\n",
       "    text-decoration: none;\n",
       "    color: var(--text-color);\n",
       "}\n",
       "/* hebrew */\n",
       ".txtu.hbo,.lex.hbo {\n",
       "    font-family: \"Ezra SIL\", \"SBL Hebrew\", sans-serif;\n",
       "    font-size: x-large;\n",
       "    direction: rtl ! important;\n",
       "    unicode-bidi: embed;\n",
       "}\n",
       "/* syriac */\n",
       ".txtu.syc,.lex.syc {\n",
       "    font-family: \"Estrangelo Edessa\", sans-serif;\n",
       "    font-size: large;\n",
       "    direction: rtl ! important;\n",
       "    unicode-bidi: embed;\n",
       "}\n",
       "/* neo aramaic */\n",
       ".txtu.cld,.lex.cld {\n",
       "    font-family: \"CharisSIL-R\", sans-serif;\n",
       "    font-size: medium;\n",
       "    direction: ltr ! important;\n",
       "    unicode-bidi: embed;\n",
       "}\n",
       "/* standard arabic */\n",
       ".txtu.ara,.lex.ara {\n",
       "    font-family: \"AmiriQuran\", sans-serif;\n",
       "    font-size: large;\n",
       "    direction: rtl ! important;\n",
       "    unicode-bidi: embed;\n",
       "}\n",
       "/* cuneiform */\n",
       ".txtu.akk,.lex.akk {\n",
       "    font-family: Santakku, sans-serif;\n",
       "    font-size: x-large;\n",
       "    direction: ltr ! important;\n",
       "    unicode-bidi: embed;\n",
       "}\n",
       "/* greek */\n",
       ".txtu.grc,.lex.grc a:link {\n",
       "    font-family: Gentium, sans-serif;\n",
       "    font-size: medium;\n",
       "    direction: ltr ! important;\n",
       "    unicode-bidi: embed;\n",
       "}\n",
       "a:hover {\n",
       "    text-decoration: underline | important;\n",
       "    color: #0000ff | important;\n",
       "}\n",
       ".ltr {\n",
       "    direction: ltr ! important;\n",
       "}\n",
       ".rtl {\n",
       "    direction: rtl ! important;\n",
       "}\n",
       "span.plain {\n",
       "    display: inline-block;\n",
       "    white-space: pre-wrap;\n",
       "    text-align: start;\n",
       "}\n",
       ".features {\n",
       "    font-family: monospace;\n",
       "    font-size: medium;\n",
       "    font-weight: bold;\n",
       "    color: var(--features);\n",
       "    display: flex;\n",
       "    flex-flow: column nowrap;\n",
       "    justify-content: flex-start;\n",
       "    align-items: flex-start;\n",
       "    align-content: flex-start;\n",
       "    padding: 0.1rem;\n",
       "    margin: 0.1rem;\n",
       "    direction: ltr;\n",
       "    border: var(--meta-width) solid var(--meta-color);\n",
       "    border-radius: var(--meta-width);\n",
       "}\n",
       ".features div,.features span {\n",
       "    padding: 0;\n",
       "    margin: -0.1rem 0;\n",
       "}\n",
       ".features .f {\n",
       "    font-family: sans-serif;\n",
       "    font-size: small;\n",
       "    font-weight: normal;\n",
       "    color: #5555bb;\n",
       "}\n",
       ".features .xft {\n",
       "  color: #000000;\n",
       "  background-color: #eeeeee;\n",
       "  font-size: medium;\n",
       "  margin: 0.1rem 0rem;\n",
       "}\n",
       ".features .xft .f {\n",
       "  color: #000000;\n",
       "  background-color: #eeeeee;\n",
       "  font-size: small;\n",
       "  font-weight: normal;\n",
       "}\n",
       ".section {\n",
       "    font-family: sans-serif;\n",
       "    font-size: small;\n",
       "    font-weight: bold;\n",
       "    color: var(--section);\n",
       "}\n",
       ".structure {\n",
       "    font-family: sans-serif;\n",
       "    font-size: small;\n",
       "    font-weight: bold;\n",
       "    color: var(--structure);\n",
       "}\n",
       ".comments {\n",
       "    display: flex;\n",
       "    justify-content: flex-start;\n",
       "    align-items: flex-start;\n",
       "    align-content: flex-start;\n",
       "    flex-flow: column nowrap;\n",
       "}\n",
       ".nd {\n",
       "    font-family: sans-serif;\n",
       "    font-size: small;\n",
       "    color: var(--node);\n",
       "    vertical-align: super;\n",
       "}\n",
       ".lex {\n",
       "  color: var(--lex-color);;\n",
       "}\n",
       ".children,.children.ltr {\n",
       "    display: flex;\n",
       "    border: 0;\n",
       "    background-color: #ffffff;\n",
       "    justify-content: flex-start;\n",
       "    align-items: flex-start;\n",
       "    align-content: flex-start;\n",
       "}\n",
       ".children.stretch {\n",
       "    align-items: stretch;\n",
       "}\n",
       ".children.hor {\n",
       "    flex-flow: row nowrap;\n",
       "}\n",
       ".children.hor.wrap {\n",
       "    flex-flow: row wrap;\n",
       "}\n",
       ".children.ver {\n",
       "    flex-flow: column nowrap;\n",
       "}\n",
       ".children.ver.wrap {\n",
       "    flex-flow: column wrap;\n",
       "}\n",
       ".contnr {\n",
       "    width: fit-content;\n",
       "    display: flex;\n",
       "    justify-content: flex-start;\n",
       "    align-items: flex-start;\n",
       "    align-content: flex-start;\n",
       "    flex-flow: column nowrap;\n",
       "    background: #ffffff none repeat scroll 0 0;\n",
       "    padding:  0.5rem 0.1rem 0.1rem 0.1rem;\n",
       "    margin: 0.8rem 0.1rem 0.1rem 0.1rem;\n",
       "    border-style: solid;\n",
       "    font-size: small;\n",
       "}\n",
       ".contnr.trm {\n",
       "    background-attachment: local;\n",
       "}\n",
       ".contnr.cnul {\n",
       "    padding:  0;\n",
       "    margin: 0;\n",
       "    border-style: solid;\n",
       "    font-size: xx-small;\n",
       "}\n",
       ".contnr.cnul,.lbl.cnul {\n",
       "    border-color: var(--border-color-nul);\n",
       "    border-width: var(--border-width-nul);\n",
       "    border-radius: var(--border-width-nul);\n",
       "}\n",
       ".contnr.c0,.lbl.c0 {\n",
       "    border-color: var(--border-color0);\n",
       "    border-width: var(--border-width0);\n",
       "    border-radius: var(--border-width0);\n",
       "}\n",
       ".contnr.c1,.lbl.c1 {\n",
       "    border-color: var(--border-color1);\n",
       "    border-width: var(--border-width1);\n",
       "    border-radius: var(--border-width1);\n",
       "}\n",
       ".contnr.c2,.lbl.c2 {\n",
       "    border-color: var(--border-color2);\n",
       "    border-width: var(--border-width2);\n",
       "    border-radius: var(--border-width2);\n",
       "}\n",
       ".contnr.c3,.lbl.c3 {\n",
       "    border-color: var(--border-color3);\n",
       "    border-width: var(--border-width3);\n",
       "    border-radius: var(--border-width3);\n",
       "}\n",
       ".contnr.c4,.lbl.c4 {\n",
       "    border-color: var(--border-color4);\n",
       "    border-width: var(--border-width4);\n",
       "    border-radius: var(--border-width4);\n",
       "}\n",
       ".contnr.l {\n",
       "    border-left-style: dotted\n",
       "}\n",
       ".contnr.r {\n",
       "    border-right-style: dotted\n",
       "}\n",
       ".contnr.lno {\n",
       "    border-left-style: none\n",
       "}\n",
       ".contnr.rno {\n",
       "    border-right-style: none\n",
       "}\n",
       ".lbl {\n",
       "    font-family: monospace;\n",
       "    margin-top: -1.2rem;\n",
       "    margin-left: 1rem;\n",
       "    background: #ffffff none repeat scroll 0 0;\n",
       "    padding: 0 0.3rem;\n",
       "    border-style: solid;\n",
       "    display: block;\n",
       "    color: var(--label)\n",
       "}\n",
       ".lbl.trm {\n",
       "    background-attachment: local;\n",
       "    margin-top: 0.1rem;\n",
       "    margin-left: 0.1rem;\n",
       "    padding: 0.1rem 0.1rem;\n",
       "    border-style: none;\n",
       "}\n",
       ".lbl.cnul {\n",
       "    font-size: xx-small;\n",
       "}\n",
       ".lbl.c0 {\n",
       "    font-size: small;\n",
       "}\n",
       ".lbl.c1 {\n",
       "    font-size: small;\n",
       "}\n",
       ".lbl.c2 {\n",
       "    font-size: medium;\n",
       "}\n",
       ".lbl.c3 {\n",
       "    font-size: medium;\n",
       "}\n",
       ".lbl.c4 {\n",
       "    font-size: large;\n",
       "}\n",
       ".occs {\n",
       "    font-size: small;\n",
       "}\n",
       "\n",
       ":root {\n",
       "\t--node:             hsla(120, 100%,  20%, 1.0  );\n",
       "\t--label:            hsla(  0, 100%,  20%, 1.0  );\n",
       "\t--section:          hsla(  0, 100%,  25%, 1.0  );\n",
       "\t--structure:        hsla(120, 100%,  25%, 1.0  );\n",
       "\t--features:         hsla(  0,   0%,  30%, 1.0  );\n",
       "  --text-color:       hsla( 60,  80%,  10%, 1.0  );\n",
       "  --lex-color:        hsla(220,  90%,  60%, 1.0  );\n",
       "  --meta-color:       hsla(  0,   0%,  90%, 0.7  );\n",
       "  --meta-width:       0.15rem;\n",
       "  --border-color-nul: hsla(  0,   0%,  90%, 0.5  );\n",
       "  --border-color0:    hsla(  0,   0%,  90%, 0.9  );\n",
       "  --border-color1:    hsla(  0,   0%,  80%, 0.9  );\n",
       "  --border-color2:    hsla(  0,   0%,  70%, 0.9  );\n",
       "  --border-color3:    hsla(  0,   0%,  80%, 0.8  );\n",
       "  --border-color4:    hsla(  0,   0%,  60%, 0.9  );\n",
       "  --border-width-nul: 0.1rem;\n",
       "  --border-width0:    0.1rem;\n",
       "  --border-width1:    0.15rem;\n",
       "  --border-width2:    0.2rem;\n",
       "  --border-width3:    0.3rem;\n",
       "  --border-width4:    0.25rem;\n",
       "}\n",
       ".hl {\n",
       "  background-color: var(--hl-strong);\n",
       "}\n",
       "span.hl {\n",
       "\tbackground-color: var(--hl-strong);\n",
       "\tborder-width: 0;\n",
       "\tborder-radius: 0.1rem;\n",
       "\tborder-style: solid;\n",
       "}\n",
       "div.contnr.hl,div.lbl.hl {\n",
       "  background-color: var(--hl-strong);\n",
       "}\n",
       "div.contnr.hl {\n",
       "  border-color: var(--hl-rim) ! important;\n",
       "\tborder-width: 0.2rem ! important;\n",
       "}\n",
       "\n",
       "span.hlbx {\n",
       "\tborder-color: var(--hl-rim);\n",
       "\tborder-width: 0.2rem;\n",
       "\tborder-style: solid;\n",
       "\tborder-radius: 0.3rem;\n",
       "  padding: 0.2rem;\n",
       "  margin: 0.2rem;\n",
       "}\n",
       "\n",
       "span.plain {\n",
       "  display: inline-block;\n",
       "  white-space: pre-wrap;\n",
       "}\n",
       "\n",
       ":root {\n",
       "\t--hl-strong:        hsla( 60, 100%,  70%, 0.9  );\n",
       "\t--hl-rim:           hsla( 55,  80%,  50%, 1.0  );\n",
       "}\n",
       "</style>"
      ],
      "text/plain": [
       "<IPython.core.display.HTML object>"
      ]
     },
     "metadata": {},
     "output_type": "display_data"
    },
    {
     "data": {
      "text/html": [
       "<details open><summary><b>API members</b>:</summary>\n",
       "<a target=\"_blank\" href=\"https://annotation.github.io/text-fabric/Api/Computed/#computed-data\" title=\"doc\">C Computed</a>, <a target=\"_blank\" href=\"https://annotation.github.io/text-fabric/Api/Computed/#computed-data\" title=\"doc\">Call AllComputeds</a>, <a target=\"_blank\" href=\"https://annotation.github.io/text-fabric/Api/Computed/#computed-data\" title=\"doc\">Cs ComputedString</a><br/>\n",
       "<a target=\"_blank\" href=\"https://annotation.github.io/text-fabric/Api/Features/#edge-features\" title=\"doc\">E Edge</a>, <a target=\"_blank\" href=\"https://annotation.github.io/text-fabric/Api/Features/#edge-features\" title=\"doc\">Eall AllEdges</a>, <a target=\"_blank\" href=\"https://annotation.github.io/text-fabric/Api/Features/#edge-features\" title=\"doc\">Es EdgeString</a><br/>\n",
       "<a target=\"_blank\" href=\"https://annotation.github.io/text-fabric/Api/Fabric/#loading\" title=\"doc\">ensureLoaded</a>, <a target=\"_blank\" href=\"https://annotation.github.io/text-fabric/Api/Fabric/#loading\" title=\"doc\">TF</a>, <a target=\"_blank\" href=\"https://annotation.github.io/text-fabric/Api/Fabric/#loading\" title=\"doc\">ignored</a>, <a target=\"_blank\" href=\"https://annotation.github.io/text-fabric/Api/Fabric/#loading\" title=\"doc\">loadLog</a><br/>\n",
       "<a target=\"_blank\" href=\"https://annotation.github.io/text-fabric/Api/Locality/#locality\" title=\"doc\">L Locality</a><br/>\n",
       "<a target=\"_blank\" href=\"https://annotation.github.io/text-fabric/Api/Misc/#messaging\" title=\"doc\">cache</a>, <a target=\"_blank\" href=\"https://annotation.github.io/text-fabric/Api/Misc/#messaging\" title=\"doc\">error</a>, <a target=\"_blank\" href=\"https://annotation.github.io/text-fabric/Api/Misc/#messaging\" title=\"doc\">indent</a>, <a target=\"_blank\" href=\"https://annotation.github.io/text-fabric/Api/Misc/#messaging\" title=\"doc\">info</a>, <a target=\"_blank\" href=\"https://annotation.github.io/text-fabric/Api/Misc/#messaging\" title=\"doc\">isSilent</a>, <a target=\"_blank\" href=\"https://annotation.github.io/text-fabric/Api/Misc/#messaging\" title=\"doc\">reset</a>, <a target=\"_blank\" href=\"https://annotation.github.io/text-fabric/Api/Misc/#messaging\" title=\"doc\">setSilent</a>, <a target=\"_blank\" href=\"https://annotation.github.io/text-fabric/Api/Misc/#messaging\" title=\"doc\">silentOff</a>, <a target=\"_blank\" href=\"https://annotation.github.io/text-fabric/Api/Misc/#messaging\" title=\"doc\">silentOn</a>, <a target=\"_blank\" href=\"https://annotation.github.io/text-fabric/Api/Misc/#messaging\" title=\"doc\">warning</a><br/>\n",
       "<a target=\"_blank\" href=\"https://annotation.github.io/text-fabric/Api/Nodes/#navigating-nodes\" title=\"doc\">N Nodes</a>, <a target=\"_blank\" href=\"https://annotation.github.io/text-fabric/Api/Nodes/#navigating-nodes\" title=\"doc\">sortKey</a>, <a target=\"_blank\" href=\"https://annotation.github.io/text-fabric/Api/Nodes/#navigating-nodes\" title=\"doc\">sortKeyTuple</a>, <a target=\"_blank\" href=\"https://annotation.github.io/text-fabric/Api/Nodes/#navigating-nodes\" title=\"doc\">otypeRank</a>, <a target=\"_blank\" href=\"https://annotation.github.io/text-fabric/Api/Nodes/#navigating-nodes\" title=\"doc\">sortNodes</a><br/>\n",
       "<a target=\"_blank\" href=\"https://annotation.github.io/text-fabric/Api/Features/#node-features\" title=\"doc\">F Feature</a>, <a target=\"_blank\" href=\"https://annotation.github.io/text-fabric/Api/Features/#node-features\" title=\"doc\">Fall AllFeatures</a>, <a target=\"_blank\" href=\"https://annotation.github.io/text-fabric/Api/Features/#node-features\" title=\"doc\">Fs FeatureString</a><br/>\n",
       "<a target=\"_blank\" href=\"https://annotation.github.io/text-fabric/Api/Search/#search\" title=\"doc\">S Search</a><br/>\n",
       "<a target=\"_blank\" href=\"https://annotation.github.io/text-fabric/Api/Text/#text\" title=\"doc\">T Text</a></details>"
      ],
      "text/plain": [
       "<IPython.core.display.HTML object>"
      ]
     },
     "metadata": {},
     "output_type": "display_data"
    }
   ],
   "source": [
    "A = use('bhsa', hoist=globals())\n",
    "# A = use('bhsa:clone', checkout=\"clone\", hoist=globals())"
   ]
  },
  {
   "cell_type": "code",
   "execution_count": 5,
   "metadata": {},
   "outputs": [],
   "source": [
    "FREQ = 70\n",
    "AMOUNT = 20"
   ]
  },
  {
   "cell_type": "markdown",
   "metadata": {},
   "source": [
    "## Query\n",
    "\n",
    "A straightforward query is:"
   ]
  },
  {
   "cell_type": "code",
   "execution_count": 6,
   "metadata": {},
   "outputs": [],
   "source": [
    "query = f'''\n",
    "chapter\n",
    "/without/\n",
    "  word freq_lex<{FREQ}\n",
    "  < word freq_lex<{FREQ}\n",
    "  < word freq_lex<{FREQ}\n",
    "  < word freq_lex<{FREQ}\n",
    "  < word freq_lex<{FREQ}\n",
    "  < word freq_lex<{FREQ}\n",
    "  < word freq_lex<{FREQ}\n",
    "  < word freq_lex<{FREQ}\n",
    "  < word freq_lex<{FREQ}\n",
    "  < word freq_lex<{FREQ}\n",
    "  < word freq_lex<{FREQ}\n",
    "  < word freq_lex<{FREQ}\n",
    "  < word freq_lex<{FREQ}\n",
    "  < word freq_lex<{FREQ}\n",
    "  < word freq_lex<{FREQ}\n",
    "  < word freq_lex<{FREQ}\n",
    "  < word freq_lex<{FREQ}\n",
    "  < word freq_lex<{FREQ}\n",
    "  < word freq_lex<{FREQ}\n",
    "  < word freq_lex<{FREQ}\n",
    "/-/\n",
    "'''"
   ]
  },
  {
   "cell_type": "markdown",
   "metadata": {},
   "source": [
    "Several problems with this query:\n",
    "\n",
    "* it is very inelegant.\n",
    "* it does not perform, in fact, you cannot wait for it.\n",
    "* the logic is wasteful: the `/without/` query that expresses what should be left out\n",
    "  denotes all possible combinations of 20 infrequent words, an astronomical number.\n",
    "\n",
    "So, better not search with this one."
   ]
  },
  {
   "cell_type": "code",
   "execution_count": 7,
   "metadata": {},
   "outputs": [],
   "source": [
    "# indent(reset=True)\n",
    "# info('start query')\n",
    "# results = S.search(query, limit=1)\n",
    "# info('end query')\n",
    "# len(results)"
   ]
  },
  {
   "cell_type": "markdown",
   "metadata": {},
   "source": [
    "# By hand\n",
    "\n",
    "On the other hand, with a bit of hand coding it is very easy, and almost instantaneous:"
   ]
  },
  {
   "cell_type": "code",
   "execution_count": 8,
   "metadata": {},
   "outputs": [
    {
     "name": "stdout",
     "output_type": "stream",
     "text": [
      "60 chapters out of 929\n"
     ]
    }
   ],
   "source": [
    "results = []\n",
    "allChapters = F.otype.s('chapter')\n",
    "\n",
    "for chapter in allChapters:\n",
    "    if len([\n",
    "        word for word in L.d(chapter, otype='word') if F.freq_lex.v(word) < FREQ\n",
    "    ]) < AMOUNT:\n",
    "        results.append(chapter)\n",
    "        \n",
    "print(f'{len(results)} chapters out of {len(allChapters)}')"
   ]
  },
  {
   "cell_type": "code",
   "execution_count": 9,
   "metadata": {},
   "outputs": [
    {
     "name": "stdout",
     "output_type": "stream",
     "text": [
      "Exodus 11, 24\n",
      "Leviticus 17\n",
      "Deuteronomy 30\n",
      "Joshua 23\n",
      "Isaiah 12, 39\n",
      "Jeremiah 45\n",
      "Ezekiel 15\n",
      "Hosea 3\n",
      "Joel 3\n",
      "Psalms 1, 3, 4, 13, 14, 15, 20, 23, 24, 26, 43, 47, 53, 54, 61, 67, 70, 82, 86, 87, 93, 97, 99, 100, 101, 110, 113, 114, 115, 117, 120, 121, 122, 123, 124, 125, 126, 127, 128, 130, 131, 133, 134, 136, 138, 150\n",
      "Job 25\n",
      "Esther 10\n",
      "2_Chronicles 27\n"
     ]
    }
   ],
   "source": [
    "resultsByBook = dict()\n",
    "\n",
    "for chapter in results:\n",
    "    (bk, ch) = T.sectionFromNode(chapter)\n",
    "    resultsByBook.setdefault(bk, []).append(ch)\n",
    "    \n",
    "for (bk, chps) in resultsByBook.items():\n",
    "    print('{} {}'.format(bk, ', '.join(str(c) for c in chps)))"
   ]
  },
  {
   "cell_type": "markdown",
   "metadata": {},
   "source": [
    "# Custom sets\n",
    "\n",
    "Once you have these chapters, you can put them in a set and use them in queries.\n",
    "\n",
    "We show how to query results as far as they occur in an \"ordinary\" chapter.\n",
    "\n",
    "First we search for a phenomenon in all chapters. The phenomenon is a clause with a subject consisting of a single noun in\n",
    "the plural and a verb in the plural."
   ]
  },
  {
   "cell_type": "code",
   "execution_count": 10,
   "metadata": {},
   "outputs": [],
   "source": [
    "sets = dict(ochapter=set(results))"
   ]
  },
  {
   "cell_type": "code",
   "execution_count": 11,
   "metadata": {},
   "outputs": [],
   "source": [
    "query1 = '''\n",
    "verse\n",
    "  clause\n",
    "    phrase function=Pred\n",
    "      word pdp=verb nu=sg\n",
    "    phrase function=Subj\n",
    "      =: word pdp=subs nu=pl\n",
    "      :=\n",
    "'''"
   ]
  },
  {
   "cell_type": "code",
   "execution_count": 12,
   "metadata": {},
   "outputs": [
    {
     "name": "stdout",
     "output_type": "stream",
     "text": [
      "  1.77s 263 results\n"
     ]
    }
   ],
   "source": [
    "results1 = A.search(query1)"
   ]
  },
  {
   "cell_type": "code",
   "execution_count": 13,
   "metadata": {},
   "outputs": [
    {
     "data": {
      "text/html": [
       "<table><tr class=\"tf\"><th class=\"tf\">n</th><th class=\"tf\">p</th><th class=\"tf\">clause</th><th class=\"tf\">phrase</th><th class=\"tf\">word</th><th class=\"tf\">phrase</th><th class=\"tf\">word</th></tr>\n",
       "<tr class=\"tf\"><td class=\"tf\">1</td><td class=\"tf\"><span class=\"section ltr\"><a target=\"_blank\" href=\"https://shebanq.ancient-data.org/hebrew/text?book=Genesis&amp;chapter=1&amp;verse=1&amp;version=c&amp;mr=m&amp;qw=q&amp;tp=txt_p&amp;tr=hb&amp;wget=v&amp;qget=v&amp;nget=vt\" title=\"Show this on SHEBANQ\" sec=\"Genesis 1:1\">Genesis 1:1</a></span></td><td class=\"tf\"><span class=\"plain  hlbx\" ><span class=\"plain  rtl  \" ><span class=\"plain  rtl\"></span><span class=\"plain  rtl  \" ><span class=\"plain  rtl\"></span><span class=\"plain  rtl  \" ><span class=\"txtu hbo\">בְּ</span></span><span class=\"plain  rtl  \" ><span class=\"txtu hbo\">רֵאשִׁ֖ית </span></span></span><span class=\"plain  hlbx\" ><span class=\"plain  rtl  \" ><span class=\"plain  rtl\"></span><span class=\"plain  rtl  hl\" ><span class=\"txtu hbo\">בָּרָ֣א </span></span></span></span><span class=\"plain  hlbx\" ><span class=\"plain  rtl  \" ><span class=\"plain  rtl\"></span><span class=\"plain  rtl  hl\" ><span class=\"txtu hbo\">אֱלֹהִ֑ים </span></span></span></span><span class=\"plain  rtl  \" ><span class=\"plain  rtl\"></span><span class=\"plain  rtl  \" ><span class=\"txtu hbo\">אֵ֥ת </span></span><span class=\"plain  rtl  \" ><span class=\"txtu hbo\">הַ</span></span><span class=\"plain  rtl  \" ><span class=\"txtu hbo\">שָּׁמַ֖יִם </span></span><span class=\"plain  rtl  \" ><span class=\"txtu hbo\">וְ</span></span><span class=\"plain  rtl  \" ><span class=\"txtu hbo\">אֵ֥ת </span></span><span class=\"plain  rtl  \" ><span class=\"txtu hbo\">הָ</span></span><span class=\"plain  rtl  \" ><span class=\"txtu hbo\">אָֽרֶץ׃ </span></span></span></span></span></td><td class=\"tf\"><span class=\"plain  hlbx\" ><span class=\"plain  rtl  \" ><span class=\"plain  rtl\"></span><span class=\"plain  rtl  hl\" ><span class=\"txtu hbo\">בָּרָ֣א </span></span></span></span></td><td class=\"tf\"><span class=\"plain outer rtl  hl\" ><span class=\"txtu hbo\">בָּרָ֣א </span></span></td><td class=\"tf\"><span class=\"plain  hlbx\" ><span class=\"plain  rtl  \" ><span class=\"plain  rtl\"></span><span class=\"plain  rtl  hl\" ><span class=\"txtu hbo\">אֱלֹהִ֑ים </span></span></span></span></td><td class=\"tf\"><span class=\"plain outer rtl  hl\" ><span class=\"txtu hbo\">אֱלֹהִ֑ים </span></span></td></tr>\n",
       "<tr class=\"tf\"><td class=\"tf\">2</td><td class=\"tf\"><span class=\"section ltr\"><a target=\"_blank\" href=\"https://shebanq.ancient-data.org/hebrew/text?book=Genesis&amp;chapter=1&amp;verse=3&amp;version=c&amp;mr=m&amp;qw=q&amp;tp=txt_p&amp;tr=hb&amp;wget=v&amp;qget=v&amp;nget=vt\" title=\"Show this on SHEBANQ\" sec=\"Genesis 1:3\">Genesis 1:3</a></span></td><td class=\"tf\"><span class=\"plain  hlbx\" ><span class=\"plain  rtl  \" ><span class=\"plain  rtl\"></span><span class=\"plain  rtl  \" ><span class=\"plain  rtl\"></span><span class=\"plain  rtl  \" ><span class=\"txtu hbo\">וַ</span></span></span><span class=\"plain  hlbx\" ><span class=\"plain  rtl  \" ><span class=\"plain  rtl\"></span><span class=\"plain  rtl  hl\" ><span class=\"txtu hbo\">יֹּ֥אמֶר </span></span></span></span><span class=\"plain  hlbx\" ><span class=\"plain  rtl  \" ><span class=\"plain  rtl\"></span><span class=\"plain  rtl  hl\" ><span class=\"txtu hbo\">אֱלֹהִ֖ים </span></span></span></span></span></span></td><td class=\"tf\"><span class=\"plain  hlbx\" ><span class=\"plain  rtl  \" ><span class=\"plain  rtl\"></span><span class=\"plain  rtl  hl\" ><span class=\"txtu hbo\">יֹּ֥אמֶר </span></span></span></span></td><td class=\"tf\"><span class=\"plain outer rtl  hl\" ><span class=\"txtu hbo\">יֹּ֥אמֶר </span></span></td><td class=\"tf\"><span class=\"plain  hlbx\" ><span class=\"plain  rtl  \" ><span class=\"plain  rtl\"></span><span class=\"plain  rtl  hl\" ><span class=\"txtu hbo\">אֱלֹהִ֖ים </span></span></span></span></td><td class=\"tf\"><span class=\"plain outer rtl  hl\" ><span class=\"txtu hbo\">אֱלֹהִ֖ים </span></span></td></tr>\n",
       "<tr class=\"tf\"><td class=\"tf\">3</td><td class=\"tf\"><span class=\"section ltr\"><a target=\"_blank\" href=\"https://shebanq.ancient-data.org/hebrew/text?book=Genesis&amp;chapter=1&amp;verse=4&amp;version=c&amp;mr=m&amp;qw=q&amp;tp=txt_p&amp;tr=hb&amp;wget=v&amp;qget=v&amp;nget=vt\" title=\"Show this on SHEBANQ\" sec=\"Genesis 1:4\">Genesis 1:4</a></span></td><td class=\"tf\"><span class=\"plain  hlbx\" ><span class=\"plain  rtl  \" ><span class=\"plain  rtl\"></span><span class=\"plain  rtl  \" ><span class=\"plain  rtl\"></span><span class=\"plain  rtl  \" ><span class=\"txtu hbo\">וַ</span></span></span><span class=\"plain  hlbx\" ><span class=\"plain  rtl  \" ><span class=\"plain  rtl\"></span><span class=\"plain  rtl  hl\" ><span class=\"txtu hbo\">יַּ֧רְא </span></span></span></span><span class=\"plain  hlbx\" ><span class=\"plain  rtl  \" ><span class=\"plain  rtl\"></span><span class=\"plain  rtl  hl\" ><span class=\"txtu hbo\">אֱלֹהִ֛ים </span></span></span></span><span class=\"plain  rtl  \" ><span class=\"plain  rtl\"></span><span class=\"plain  rtl  \" ><span class=\"txtu hbo\">אֶת־</span></span><span class=\"plain  rtl  \" ><span class=\"txtu hbo\">הָ</span></span><span class=\"plain  rtl  \" ><span class=\"txtu hbo\">אֹ֖ור </span></span></span></span></span></td><td class=\"tf\"><span class=\"plain  hlbx\" ><span class=\"plain  rtl  \" ><span class=\"plain  rtl\"></span><span class=\"plain  rtl  hl\" ><span class=\"txtu hbo\">יַּ֧רְא </span></span></span></span></td><td class=\"tf\"><span class=\"plain outer rtl  hl\" ><span class=\"txtu hbo\">יַּ֧רְא </span></span></td><td class=\"tf\"><span class=\"plain  hlbx\" ><span class=\"plain  rtl  \" ><span class=\"plain  rtl\"></span><span class=\"plain  rtl  hl\" ><span class=\"txtu hbo\">אֱלֹהִ֛ים </span></span></span></span></td><td class=\"tf\"><span class=\"plain outer rtl  hl\" ><span class=\"txtu hbo\">אֱלֹהִ֛ים </span></span></td></tr>\n",
       "<tr class=\"tf\"><td class=\"tf\">4</td><td class=\"tf\"><span class=\"section ltr\"><a target=\"_blank\" href=\"https://shebanq.ancient-data.org/hebrew/text?book=Genesis&amp;chapter=1&amp;verse=4&amp;version=c&amp;mr=m&amp;qw=q&amp;tp=txt_p&amp;tr=hb&amp;wget=v&amp;qget=v&amp;nget=vt\" title=\"Show this on SHEBANQ\" sec=\"Genesis 1:4\">Genesis 1:4</a></span></td><td class=\"tf\"><span class=\"plain  hlbx\" ><span class=\"plain  rtl  \" ><span class=\"plain  rtl\"></span><span class=\"plain  rtl  \" ><span class=\"plain  rtl\"></span><span class=\"plain  rtl  \" ><span class=\"txtu hbo\">וַ</span></span></span><span class=\"plain  hlbx\" ><span class=\"plain  rtl  \" ><span class=\"plain  rtl\"></span><span class=\"plain  rtl  hl\" ><span class=\"txtu hbo\">יַּבְדֵּ֣ל </span></span></span></span><span class=\"plain  hlbx\" ><span class=\"plain  rtl  \" ><span class=\"plain  rtl\"></span><span class=\"plain  rtl  hl\" ><span class=\"txtu hbo\">אֱלֹהִ֔ים </span></span></span></span><span class=\"plain  rtl  \" ><span class=\"plain  rtl\"></span><span class=\"plain  rtl  \" ><span class=\"txtu hbo\">בֵּ֥ין </span></span><span class=\"plain  rtl  \" ><span class=\"txtu hbo\">הָ</span></span><span class=\"plain  rtl  \" ><span class=\"txtu hbo\">אֹ֖ור </span></span><span class=\"plain  rtl  \" ><span class=\"txtu hbo\">וּ</span></span><span class=\"plain  rtl  \" ><span class=\"txtu hbo\">בֵ֥ין </span></span><span class=\"plain  rtl  \" ><span class=\"txtu hbo\">הַ</span></span><span class=\"plain  rtl  \" ><span class=\"txtu hbo\">חֹֽשֶׁךְ׃ </span></span></span></span></span></td><td class=\"tf\"><span class=\"plain  hlbx\" ><span class=\"plain  rtl  \" ><span class=\"plain  rtl\"></span><span class=\"plain  rtl  hl\" ><span class=\"txtu hbo\">יַּבְדֵּ֣ל </span></span></span></span></td><td class=\"tf\"><span class=\"plain outer rtl  hl\" ><span class=\"txtu hbo\">יַּבְדֵּ֣ל </span></span></td><td class=\"tf\"><span class=\"plain  hlbx\" ><span class=\"plain  rtl  \" ><span class=\"plain  rtl\"></span><span class=\"plain  rtl  hl\" ><span class=\"txtu hbo\">אֱלֹהִ֔ים </span></span></span></span></td><td class=\"tf\"><span class=\"plain outer rtl  hl\" ><span class=\"txtu hbo\">אֱלֹהִ֔ים </span></span></td></tr>\n",
       "<tr class=\"tf\"><td class=\"tf\">5</td><td class=\"tf\"><span class=\"section ltr\"><a target=\"_blank\" href=\"https://shebanq.ancient-data.org/hebrew/text?book=Genesis&amp;chapter=1&amp;verse=5&amp;version=c&amp;mr=m&amp;qw=q&amp;tp=txt_p&amp;tr=hb&amp;wget=v&amp;qget=v&amp;nget=vt\" title=\"Show this on SHEBANQ\" sec=\"Genesis 1:5\">Genesis 1:5</a></span></td><td class=\"tf\"><span class=\"plain  hlbx\" ><span class=\"plain  rtl  \" ><span class=\"plain  rtl\"></span><span class=\"plain  rtl  \" ><span class=\"plain  rtl\"></span><span class=\"plain  rtl  \" ><span class=\"txtu hbo\">וַ</span></span></span><span class=\"plain  hlbx\" ><span class=\"plain  rtl  \" ><span class=\"plain  rtl\"></span><span class=\"plain  rtl  hl\" ><span class=\"txtu hbo\">יִּקְרָ֨א </span></span></span></span><span class=\"plain  hlbx\" ><span class=\"plain  rtl  \" ><span class=\"plain  rtl\"></span><span class=\"plain  rtl  hl\" ><span class=\"txtu hbo\">אֱלֹהִ֤ים׀ </span></span></span></span><span class=\"plain  rtl  \" ><span class=\"plain  rtl\"></span><span class=\"plain  rtl  \" ><span class=\"txtu hbo\">לָ</span></span><span class=\"plain  rtl  \" ><span class=\"txtu hbo\"></span></span><span class=\"plain  rtl  \" ><span class=\"txtu hbo\">אֹור֙ </span></span></span><span class=\"plain  rtl  \" ><span class=\"plain  rtl\"></span><span class=\"plain  rtl  \" ><span class=\"txtu hbo\">יֹ֔ום </span></span></span></span></span></td><td class=\"tf\"><span class=\"plain  hlbx\" ><span class=\"plain  rtl  \" ><span class=\"plain  rtl\"></span><span class=\"plain  rtl  hl\" ><span class=\"txtu hbo\">יִּקְרָ֨א </span></span></span></span></td><td class=\"tf\"><span class=\"plain outer rtl  hl\" ><span class=\"txtu hbo\">יִּקְרָ֨א </span></span></td><td class=\"tf\"><span class=\"plain  hlbx\" ><span class=\"plain  rtl  \" ><span class=\"plain  rtl\"></span><span class=\"plain  rtl  hl\" ><span class=\"txtu hbo\">אֱלֹהִ֤ים׀ </span></span></span></span></td><td class=\"tf\"><span class=\"plain outer rtl  hl\" ><span class=\"txtu hbo\">אֱלֹהִ֤ים׀ </span></span></td></tr></table>"
      ],
      "text/plain": [
       "<IPython.core.display.HTML object>"
      ]
     },
     "metadata": {},
     "output_type": "display_data"
    }
   ],
   "source": [
    "A.table(results1, start=1, end=5, skipCols=\"1\")"
   ]
  },
  {
   "cell_type": "markdown",
   "metadata": {},
   "source": [
    "Now we want to restrict results to ordinary chapters:"
   ]
  },
  {
   "cell_type": "code",
   "execution_count": 14,
   "metadata": {},
   "outputs": [],
   "source": [
    "query2 = '''\n",
    "ochapter\n",
    "  verse\n",
    "    clause\n",
    "      phrase function=Pred\n",
    "        word pdp=verb nu=sg\n",
    "      phrase function=Subj\n",
    "        =: word pdp=subs nu=pl\n",
    "        :=\n",
    "'''"
   ]
  },
  {
   "cell_type": "markdown",
   "metadata": {},
   "source": [
    "Note that we use the name of a set here: `ochapter`. \n",
    "It is not a known node type in the BHSA, so we have to tell it what it means.\n",
    "We do that by passing a dictionary of custom sets.\n",
    "The keys are the names of the sets, which are the values.\n",
    "\n",
    "Then we may use those keys in queries, everywhere where a node type is expected."
   ]
  },
  {
   "cell_type": "code",
   "execution_count": 15,
   "metadata": {},
   "outputs": [
    {
     "name": "stdout",
     "output_type": "stream",
     "text": [
      "  1.84s 7 results\n"
     ]
    }
   ],
   "source": [
    "results2 = A.search(query2, sets=sets)"
   ]
  },
  {
   "cell_type": "code",
   "execution_count": 16,
   "metadata": {},
   "outputs": [
    {
     "data": {
      "text/html": [
       "<table><tr class=\"tf\"><th class=\"tf\">n</th><th class=\"tf\">p</th><th class=\"tf\">chapter</th><th class=\"tf\">verse</th><th class=\"tf\">clause</th><th class=\"tf\">phrase</th><th class=\"tf\">word</th><th class=\"tf\">phrase</th><th class=\"tf\">word</th></tr>\n",
       "<tr class=\"tf\"><td class=\"tf\">1</td><td class=\"tf\"><span class=\"section ltr\"><a target=\"_blank\" href=\"https://shebanq.ancient-data.org/hebrew/text?book=Psalmi&amp;chapter=47&amp;verse=6&amp;version=c&amp;mr=m&amp;qw=q&amp;tp=txt_p&amp;tr=hb&amp;wget=v&amp;qget=v&amp;nget=vt\" title=\"Show this on SHEBANQ\" sec=\"Psalms 47:6\">Psalms 47:6</a></span></td><td class=\"tf\"><span class=\"plain outer rtl  \" ><span class=\"plain txtu hbo rtl\"><span class=\"section\">Psalms 47</span></span></span></td><td class=\"tf\"><span class=\"plain outer rtl  \" ><span class=\"plain txtu hbo rtl\"></span></span></td><td class=\"tf\"><span class=\"plain  hlbx\" ><span class=\"plain  rtl  \" ><span class=\"plain  rtl\"></span><span class=\"plain  hlbx\" ><span class=\"plain  rtl  \" ><span class=\"plain  rtl\"></span><span class=\"plain  rtl  hl\" ><span class=\"txtu hbo\">עָלָ֣ה </span></span></span></span><span class=\"plain  hlbx\" ><span class=\"plain  rtl  \" ><span class=\"plain  rtl\"></span><span class=\"plain  rtl  hl\" ><span class=\"txtu hbo\">אֱ֭לֹהִים </span></span></span></span><span class=\"plain  rtl  \" ><span class=\"plain  rtl\"></span><span class=\"plain  rtl  \" ><span class=\"txtu hbo\">בִּ</span></span><span class=\"plain  rtl  \" ><span class=\"txtu hbo\">תְרוּעָ֑ה </span></span></span></span></span></td><td class=\"tf\"><span class=\"plain  hlbx\" ><span class=\"plain  rtl  \" ><span class=\"plain  rtl\"></span><span class=\"plain  rtl  hl\" ><span class=\"txtu hbo\">עָלָ֣ה </span></span></span></span></td><td class=\"tf\"><span class=\"plain outer rtl  hl\" ><span class=\"txtu hbo\">עָלָ֣ה </span></span></td><td class=\"tf\"><span class=\"plain  hlbx\" ><span class=\"plain  rtl  \" ><span class=\"plain  rtl\"></span><span class=\"plain  rtl  hl\" ><span class=\"txtu hbo\">אֱ֭לֹהִים </span></span></span></span></td><td class=\"tf\"><span class=\"plain outer rtl  hl\" ><span class=\"txtu hbo\">אֱ֭לֹהִים </span></span></td></tr>\n",
       "<tr class=\"tf\"><td class=\"tf\">2</td><td class=\"tf\"><span class=\"section ltr\"><a target=\"_blank\" href=\"https://shebanq.ancient-data.org/hebrew/text?book=Psalmi&amp;chapter=47&amp;verse=9&amp;version=c&amp;mr=m&amp;qw=q&amp;tp=txt_p&amp;tr=hb&amp;wget=v&amp;qget=v&amp;nget=vt\" title=\"Show this on SHEBANQ\" sec=\"Psalms 47:9\">Psalms 47:9</a></span></td><td class=\"tf\"><span class=\"plain outer rtl  \" ><span class=\"plain txtu hbo rtl\"><span class=\"section\">Psalms 47</span></span></span></td><td class=\"tf\"><span class=\"plain outer rtl  \" ><span class=\"plain txtu hbo rtl\"></span></span></td><td class=\"tf\"><span class=\"plain  hlbx\" ><span class=\"plain  rtl  \" ><span class=\"plain  rtl\"></span><span class=\"plain  hlbx\" ><span class=\"plain  rtl  \" ><span class=\"plain  rtl\"></span><span class=\"plain  rtl  hl\" ><span class=\"txtu hbo\">מָלַ֣ךְ </span></span></span></span><span class=\"plain  hlbx\" ><span class=\"plain  rtl  \" ><span class=\"plain  rtl\"></span><span class=\"plain  rtl  hl\" ><span class=\"txtu hbo\">אֱ֭לֹהִים </span></span></span></span><span class=\"plain  rtl  \" ><span class=\"plain  rtl\"></span><span class=\"plain  rtl  \" ><span class=\"txtu hbo\">עַל־</span></span><span class=\"plain  rtl  \" ><span class=\"txtu hbo\">גֹּויִ֑ם </span></span></span></span></span></td><td class=\"tf\"><span class=\"plain  hlbx\" ><span class=\"plain  rtl  \" ><span class=\"plain  rtl\"></span><span class=\"plain  rtl  hl\" ><span class=\"txtu hbo\">מָלַ֣ךְ </span></span></span></span></td><td class=\"tf\"><span class=\"plain outer rtl  hl\" ><span class=\"txtu hbo\">מָלַ֣ךְ </span></span></td><td class=\"tf\"><span class=\"plain  hlbx\" ><span class=\"plain  rtl  \" ><span class=\"plain  rtl\"></span><span class=\"plain  rtl  hl\" ><span class=\"txtu hbo\">אֱ֭לֹהִים </span></span></span></span></td><td class=\"tf\"><span class=\"plain outer rtl  hl\" ><span class=\"txtu hbo\">אֱ֭לֹהִים </span></span></td></tr>\n",
       "<tr class=\"tf\"><td class=\"tf\">3</td><td class=\"tf\"><span class=\"section ltr\"><a target=\"_blank\" href=\"https://shebanq.ancient-data.org/hebrew/text?book=Psalmi&amp;chapter=47&amp;verse=9&amp;version=c&amp;mr=m&amp;qw=q&amp;tp=txt_p&amp;tr=hb&amp;wget=v&amp;qget=v&amp;nget=vt\" title=\"Show this on SHEBANQ\" sec=\"Psalms 47:9\">Psalms 47:9</a></span></td><td class=\"tf\"><span class=\"plain outer rtl  \" ><span class=\"plain txtu hbo rtl\"><span class=\"section\">Psalms 47</span></span></span></td><td class=\"tf\"><span class=\"plain outer rtl  \" ><span class=\"plain txtu hbo rtl\"></span></span></td><td class=\"tf\"><span class=\"plain  hlbx\" ><span class=\"plain  rtl  \" ><span class=\"plain  rtl\"></span><span class=\"plain  hlbx\" ><span class=\"plain  rtl  \" ><span class=\"plain  rtl\"></span><span class=\"plain  rtl  hl\" ><span class=\"txtu hbo\">אֱ֝לֹהִ֗ים </span></span></span></span><span class=\"plain  hlbx\" ><span class=\"plain  rtl  \" ><span class=\"plain  rtl\"></span><span class=\"plain  rtl  hl\" ><span class=\"txtu hbo\">יָשַׁ֤ב׀ </span></span></span></span><span class=\"plain  rtl  \" ><span class=\"plain  rtl\"></span><span class=\"plain  rtl  \" ><span class=\"txtu hbo\">עַל־</span></span><span class=\"plain  rtl  \" ><span class=\"txtu hbo\">כִּסֵּ֬א </span></span><span class=\"plain  rtl  \" ><span class=\"txtu hbo\">קָדְשֹֽׁו׃ </span></span></span></span></span></td><td class=\"tf\"><span class=\"plain  hlbx\" ><span class=\"plain  rtl  \" ><span class=\"plain  rtl\"></span><span class=\"plain  rtl  hl\" ><span class=\"txtu hbo\">יָשַׁ֤ב׀ </span></span></span></span></td><td class=\"tf\"><span class=\"plain outer rtl  hl\" ><span class=\"txtu hbo\">יָשַׁ֤ב׀ </span></span></td><td class=\"tf\"><span class=\"plain  hlbx\" ><span class=\"plain  rtl  \" ><span class=\"plain  rtl\"></span><span class=\"plain  rtl  hl\" ><span class=\"txtu hbo\">אֱ֝לֹהִ֗ים </span></span></span></span></td><td class=\"tf\"><span class=\"plain outer rtl  hl\" ><span class=\"txtu hbo\">אֱ֝לֹהִ֗ים </span></span></td></tr>\n",
       "<tr class=\"tf\"><td class=\"tf\">4</td><td class=\"tf\"><span class=\"section ltr\"><a target=\"_blank\" href=\"https://shebanq.ancient-data.org/hebrew/text?book=Psalmi&amp;chapter=53&amp;verse=3&amp;version=c&amp;mr=m&amp;qw=q&amp;tp=txt_p&amp;tr=hb&amp;wget=v&amp;qget=v&amp;nget=vt\" title=\"Show this on SHEBANQ\" sec=\"Psalms 53:3\">Psalms 53:3</a></span></td><td class=\"tf\"><span class=\"plain outer rtl  \" ><span class=\"plain txtu hbo rtl\"><span class=\"section\">Psalms 53</span></span></span></td><td class=\"tf\"><span class=\"plain outer rtl  \" ><span class=\"plain txtu hbo rtl\"></span></span></td><td class=\"tf\"><span class=\"plain  hlbx\" ><span class=\"plain  rtl  \" ><span class=\"plain  rtl\"></span><span class=\"plain  hlbx\" ><span class=\"plain  rtl  \" ><span class=\"plain  rtl\"></span><span class=\"plain  rtl  hl\" ><span class=\"txtu hbo\">אֱֽלֹהִ֗ים </span></span></span></span><span class=\"plain  rtl  \" ><span class=\"plain  rtl\"></span><span class=\"plain  rtl  \" ><span class=\"txtu hbo\">מִ</span></span><span class=\"plain  rtl  \" ><span class=\"txtu hbo\">שָּׁמַיִם֮ </span></span></span><span class=\"plain  hlbx\" ><span class=\"plain  rtl  \" ><span class=\"plain  rtl\"></span><span class=\"plain  rtl  hl\" ><span class=\"txtu hbo\">הִשְׁקִ֪יף </span></span></span></span><span class=\"plain  rtl  \" ><span class=\"plain  rtl\"></span><span class=\"plain  rtl  \" ><span class=\"txtu hbo\">עַֽל־</span></span><span class=\"plain  rtl  \" ><span class=\"txtu hbo\">בְּנֵ֫י </span></span><span class=\"plain  rtl  \" ><span class=\"txtu hbo\">אָדָ֥ם </span></span></span></span></span></td><td class=\"tf\"><span class=\"plain  hlbx\" ><span class=\"plain  rtl  \" ><span class=\"plain  rtl\"></span><span class=\"plain  rtl  hl\" ><span class=\"txtu hbo\">הִשְׁקִ֪יף </span></span></span></span></td><td class=\"tf\"><span class=\"plain outer rtl  hl\" ><span class=\"txtu hbo\">הִשְׁקִ֪יף </span></span></td><td class=\"tf\"><span class=\"plain  hlbx\" ><span class=\"plain  rtl  \" ><span class=\"plain  rtl\"></span><span class=\"plain  rtl  hl\" ><span class=\"txtu hbo\">אֱֽלֹהִ֗ים </span></span></span></span></td><td class=\"tf\"><span class=\"plain outer rtl  hl\" ><span class=\"txtu hbo\">אֱֽלֹהִ֗ים </span></span></td></tr>\n",
       "<tr class=\"tf\"><td class=\"tf\">5</td><td class=\"tf\"><span class=\"section ltr\"><a target=\"_blank\" href=\"https://shebanq.ancient-data.org/hebrew/text?book=Psalmi&amp;chapter=53&amp;verse=6&amp;version=c&amp;mr=m&amp;qw=q&amp;tp=txt_p&amp;tr=hb&amp;wget=v&amp;qget=v&amp;nget=vt\" title=\"Show this on SHEBANQ\" sec=\"Psalms 53:6\">Psalms 53:6</a></span></td><td class=\"tf\"><span class=\"plain outer rtl  \" ><span class=\"plain txtu hbo rtl\"><span class=\"section\">Psalms 53</span></span></span></td><td class=\"tf\"><span class=\"plain outer rtl  \" ><span class=\"plain txtu hbo rtl\"></span></span></td><td class=\"tf\"><span class=\"plain  hlbx\" ><span class=\"plain  rtl  \" ><span class=\"plain  rtl\"></span><span class=\"plain  rtl  \" ><span class=\"plain  rtl\"></span><span class=\"plain  rtl  \" ><span class=\"txtu hbo\">כִּֽי־</span></span></span><span class=\"plain  hlbx\" ><span class=\"plain  rtl  \" ><span class=\"plain  rtl\"></span><span class=\"plain  rtl  hl\" ><span class=\"txtu hbo\">אֱלֹהִ֗ים </span></span></span></span><span class=\"plain  hlbx\" ><span class=\"plain  rtl  \" ><span class=\"plain  rtl\"></span><span class=\"plain  rtl  hl\" ><span class=\"txtu hbo\">פִּ֭זַּר </span></span></span></span><span class=\"plain  rtl  \" ><span class=\"plain  rtl\"></span><span class=\"plain  rtl  \" ><span class=\"txtu hbo\">עַצְמֹ֣ות </span></span><span class=\"plain  rtl  \" ><span class=\"txtu hbo\">חֹנָ֑ךְ </span></span></span></span></span></td><td class=\"tf\"><span class=\"plain  hlbx\" ><span class=\"plain  rtl  \" ><span class=\"plain  rtl\"></span><span class=\"plain  rtl  hl\" ><span class=\"txtu hbo\">פִּ֭זַּר </span></span></span></span></td><td class=\"tf\"><span class=\"plain outer rtl  hl\" ><span class=\"txtu hbo\">פִּ֭זַּר </span></span></td><td class=\"tf\"><span class=\"plain  hlbx\" ><span class=\"plain  rtl  \" ><span class=\"plain  rtl\"></span><span class=\"plain  rtl  hl\" ><span class=\"txtu hbo\">אֱלֹהִ֗ים </span></span></span></span></td><td class=\"tf\"><span class=\"plain outer rtl  hl\" ><span class=\"txtu hbo\">אֱלֹהִ֗ים </span></span></td></tr>\n",
       "<tr class=\"tf\"><td class=\"tf\">6</td><td class=\"tf\"><span class=\"section ltr\"><a target=\"_blank\" href=\"https://shebanq.ancient-data.org/hebrew/text?book=Psalmi&amp;chapter=70&amp;verse=5&amp;version=c&amp;mr=m&amp;qw=q&amp;tp=txt_p&amp;tr=hb&amp;wget=v&amp;qget=v&amp;nget=vt\" title=\"Show this on SHEBANQ\" sec=\"Psalms 70:5\">Psalms 70:5</a></span></td><td class=\"tf\"><span class=\"plain outer rtl  \" ><span class=\"plain txtu hbo rtl\"><span class=\"section\">Psalms 70</span></span></span></td><td class=\"tf\"><span class=\"plain outer rtl  \" ><span class=\"plain txtu hbo rtl\"></span></span></td><td class=\"tf\"><span class=\"plain  hlbx\" ><span class=\"plain  rtl  \" ><span class=\"plain  rtl\"></span><span class=\"plain  hlbx\" ><span class=\"plain  rtl  \" ><span class=\"plain  rtl\"></span><span class=\"plain  rtl  hl\" ><span class=\"txtu hbo\">יִגְדַּ֣ל </span></span></span></span><span class=\"plain  hlbx\" ><span class=\"plain  rtl  \" ><span class=\"plain  rtl\"></span><span class=\"plain  rtl  hl\" ><span class=\"txtu hbo\">אֱלֹהִ֑ים </span></span></span></span></span></span></td><td class=\"tf\"><span class=\"plain  hlbx\" ><span class=\"plain  rtl  \" ><span class=\"plain  rtl\"></span><span class=\"plain  rtl  hl\" ><span class=\"txtu hbo\">יִגְדַּ֣ל </span></span></span></span></td><td class=\"tf\"><span class=\"plain outer rtl  hl\" ><span class=\"txtu hbo\">יִגְדַּ֣ל </span></span></td><td class=\"tf\"><span class=\"plain  hlbx\" ><span class=\"plain  rtl  \" ><span class=\"plain  rtl\"></span><span class=\"plain  rtl  hl\" ><span class=\"txtu hbo\">אֱלֹהִ֑ים </span></span></span></span></td><td class=\"tf\"><span class=\"plain outer rtl  hl\" ><span class=\"txtu hbo\">אֱלֹהִ֑ים </span></span></td></tr>\n",
       "<tr class=\"tf\"><td class=\"tf\">7</td><td class=\"tf\"><span class=\"section ltr\"><a target=\"_blank\" href=\"https://shebanq.ancient-data.org/hebrew/text?book=Chronica_II&amp;chapter=27&amp;verse=6&amp;version=c&amp;mr=m&amp;qw=q&amp;tp=txt_p&amp;tr=hb&amp;wget=v&amp;qget=v&amp;nget=vt\" title=\"Show this on SHEBANQ\" sec=\"2_Chronicles 27:6\">2_Chronicles 27:6</a></span></td><td class=\"tf\"><span class=\"plain outer rtl  \" ><span class=\"plain txtu hbo rtl\"><span class=\"section\">2_Chronicles 27</span></span></span></td><td class=\"tf\"><span class=\"plain outer rtl  \" ><span class=\"plain txtu hbo rtl\"></span></span></td><td class=\"tf\"><span class=\"plain  hlbx\" ><span class=\"plain  rtl  \" ><span class=\"plain  rtl\"></span><span class=\"plain  rtl  \" ><span class=\"plain  rtl\"></span><span class=\"plain  rtl  \" ><span class=\"txtu hbo\">כִּ֚י </span></span></span><span class=\"plain  hlbx\" ><span class=\"plain  rtl  \" ><span class=\"plain  rtl\"></span><span class=\"plain  rtl  hl\" ><span class=\"txtu hbo\">הֵכִ֣ין </span></span></span></span><span class=\"plain  hlbx\" ><span class=\"plain  rtl  \" ><span class=\"plain  rtl\"></span><span class=\"plain  rtl  hl\" ><span class=\"txtu hbo\">דְּרָכָ֔יו </span></span></span></span><span class=\"plain  rtl  \" ><span class=\"plain  rtl\"></span><span class=\"plain  rtl  \" ><span class=\"txtu hbo\">לִ</span></span><span class=\"plain  rtl  \" ><span class=\"txtu hbo\">פְנֵ֖י </span></span><span class=\"plain  rtl  \" ><span class=\"txtu hbo\">יְהוָ֥ה </span></span></span><span class=\"plain  rtl  \" ><span class=\"plain  rtl\"></span><span class=\"plain  rtl  \" ><span class=\"txtu hbo\">אֱלֹהָֽיו׃ </span></span></span></span></span></td><td class=\"tf\"><span class=\"plain  hlbx\" ><span class=\"plain  rtl  \" ><span class=\"plain  rtl\"></span><span class=\"plain  rtl  hl\" ><span class=\"txtu hbo\">הֵכִ֣ין </span></span></span></span></td><td class=\"tf\"><span class=\"plain outer rtl  hl\" ><span class=\"txtu hbo\">הֵכִ֣ין </span></span></td><td class=\"tf\"><span class=\"plain  hlbx\" ><span class=\"plain  rtl  \" ><span class=\"plain  rtl\"></span><span class=\"plain  rtl  hl\" ><span class=\"txtu hbo\">דְּרָכָ֔יו </span></span></span></span></td><td class=\"tf\"><span class=\"plain outer rtl  hl\" ><span class=\"txtu hbo\">דְּרָכָ֔יו </span></span></td></tr></table>"
      ],
      "text/plain": [
       "<IPython.core.display.HTML object>"
      ]
     },
     "metadata": {},
     "output_type": "display_data"
    }
   ],
   "source": [
    "A.table(results2)"
   ]
  },
  {
   "cell_type": "markdown",
   "metadata": {},
   "source": [
    "## Custom sets in the browser\n",
    "\n",
    "We save the sets in a file.\n",
    "But before we do so, we also want to save all ordinary verses in a set, and all ordinary words. "
   ]
  },
  {
   "cell_type": "code",
   "execution_count": 17,
   "metadata": {},
   "outputs": [
    {
     "name": "stdout",
     "output_type": "stream",
     "text": [
      "  0.53s 2757 results\n"
     ]
    }
   ],
   "source": [
    "queryV = f'''\n",
    "verse\n",
    "/without/\n",
    "  word freq_lex<{FREQ}\n",
    "/-/\n",
    "'''\n",
    "resultsV = A.search(queryV, shallow=True)\n",
    "sets['overse'] = resultsV"
   ]
  },
  {
   "cell_type": "code",
   "execution_count": 18,
   "metadata": {},
   "outputs": [],
   "source": [
    "sets['oword'] = {w for w in F.otype.s('word') if F.freq_lex.v(w) >= FREQ}"
   ]
  },
  {
   "cell_type": "code",
   "execution_count": 19,
   "metadata": {},
   "outputs": [
    {
     "data": {
      "text/plain": [
       "True"
      ]
     },
     "execution_count": 19,
     "metadata": {},
     "output_type": "execute_result"
    }
   ],
   "source": [
    "SETS_FILE = os.path.expanduser('~/Downloads/ordinary.set')\n",
    "writeSets(sets, SETS_FILE)"
   ]
  },
  {
   "cell_type": "markdown",
   "metadata": {},
   "source": [
    "As a test, we read back the sets from disk and compare the number of\n",
    "elements with those in the original sets, which we still have in memory."
   ]
  },
  {
   "cell_type": "code",
   "execution_count": 20,
   "metadata": {},
   "outputs": [
    {
     "name": "stdout",
     "output_type": "stream",
     "text": [
      "ochapter with 60 nb 0\n",
      "overse with 2757 nb 0\n",
      "oword with 361485 nb 0\n"
     ]
    }
   ],
   "source": [
    "testSets = readSets(SETS_FILE)\n",
    "for s in sorted(testSets):\n",
    "    elems = len(testSets[s])\n",
    "    oelems = len(sets[s])\n",
    "    print(f'{s} with {elems} nb {elems - oelems}')"
   ]
  },
  {
   "cell_type": "markdown",
   "metadata": {},
   "source": [
    "Now you can start your TF browser as follows:\n",
    "\n",
    "```sh\n",
    "text-fabric bhsa --sets=~/Downloads/ordinary.set\n",
    "```\n",
    "\n",
    "and then you can run the same queries over there!"
   ]
  },
  {
   "cell_type": "markdown",
   "metadata": {},
   "source": [
    "# Appendix: investigation\n",
    "\n",
    "Let's investigate the number of ordinary chapters with shifting definitions of ordinary"
   ]
  },
  {
   "cell_type": "code",
   "execution_count": 21,
   "metadata": {},
   "outputs": [
    {
     "name": "stdout",
     "output_type": "stream",
     "text": [
      "There are 929 chapters, the longest is 1603 words\n"
     ]
    }
   ],
   "source": [
    "allChapters = F.otype.s('chapter')\n",
    "longestChapter = max(len(L.d(chapter, otype='word')) for chapter in allChapters)\n",
    "\n",
    "print(f'There are {len(allChapters)} chapters, the longest is {longestChapter} words')"
   ]
  },
  {
   "cell_type": "code",
   "execution_count": 22,
   "metadata": {},
   "outputs": [],
   "source": [
    "def getOrdinary(freq, amount):\n",
    "    results = []\n",
    "\n",
    "    for chapter in allChapters:\n",
    "        if len([\n",
    "            word for word in L.d(chapter, otype='word') if F.freq_lex.v(word) < freq\n",
    "        ]) < amount:\n",
    "            results.append(chapter)\n",
    "    return results"
   ]
  },
  {
   "cell_type": "code",
   "execution_count": 23,
   "metadata": {},
   "outputs": [],
   "source": [
    "def overview(freq):\n",
    "    for amount in range(20, 1700, 50):\n",
    "        results = getOrdinary(freq, amount)\n",
    "        print(f'for freq={freq:>3} and amount={amount:>4}: {len(results):>4} ordinary chapters')\n",
    "        if len(results) >= len(allChapters):\n",
    "            break"
   ]
  },
  {
   "cell_type": "code",
   "execution_count": 24,
   "metadata": {},
   "outputs": [
    {
     "name": "stdout",
     "output_type": "stream",
     "text": [
      "for freq= 40 and amount=  20:  140 ordinary chapters\n",
      "for freq= 40 and amount=  70:  758 ordinary chapters\n",
      "for freq= 40 and amount= 120:  885 ordinary chapters\n",
      "for freq= 40 and amount= 170:  908 ordinary chapters\n",
      "for freq= 40 and amount= 220:  919 ordinary chapters\n",
      "for freq= 40 and amount= 270:  923 ordinary chapters\n",
      "for freq= 40 and amount= 320:  924 ordinary chapters\n",
      "for freq= 40 and amount= 370:  925 ordinary chapters\n",
      "for freq= 40 and amount= 420:  926 ordinary chapters\n",
      "for freq= 40 and amount= 470:  928 ordinary chapters\n",
      "for freq= 40 and amount= 520:  929 ordinary chapters\n",
      "for freq= 70 and amount=  20:   60 ordinary chapters\n",
      "for freq= 70 and amount=  70:  551 ordinary chapters\n",
      "for freq= 70 and amount= 120:  842 ordinary chapters\n",
      "for freq= 70 and amount= 170:  890 ordinary chapters\n",
      "for freq= 70 and amount= 220:  915 ordinary chapters\n",
      "for freq= 70 and amount= 270:  922 ordinary chapters\n",
      "for freq= 70 and amount= 320:  923 ordinary chapters\n",
      "for freq= 70 and amount= 370:  923 ordinary chapters\n",
      "for freq= 70 and amount= 420:  926 ordinary chapters\n",
      "for freq= 70 and amount= 470:  927 ordinary chapters\n",
      "for freq= 70 and amount= 520:  928 ordinary chapters\n",
      "for freq= 70 and amount= 570:  928 ordinary chapters\n",
      "for freq= 70 and amount= 620:  929 ordinary chapters\n",
      "for freq=100 and amount=  20:   38 ordinary chapters\n",
      "for freq=100 and amount=  70:  432 ordinary chapters\n",
      "for freq=100 and amount= 120:  782 ordinary chapters\n",
      "for freq=100 and amount= 170:  874 ordinary chapters\n",
      "for freq=100 and amount= 220:  905 ordinary chapters\n",
      "for freq=100 and amount= 270:  918 ordinary chapters\n",
      "for freq=100 and amount= 320:  921 ordinary chapters\n",
      "for freq=100 and amount= 370:  923 ordinary chapters\n",
      "for freq=100 and amount= 420:  923 ordinary chapters\n",
      "for freq=100 and amount= 470:  926 ordinary chapters\n",
      "for freq=100 and amount= 520:  927 ordinary chapters\n",
      "for freq=100 and amount= 570:  928 ordinary chapters\n",
      "for freq=100 and amount= 620:  928 ordinary chapters\n",
      "for freq=100 and amount= 670:  929 ordinary chapters\n"
     ]
    }
   ],
   "source": [
    "for freq in (40, 70, 100):\n",
    "    overview(freq)"
   ]
  },
  {
   "cell_type": "markdown",
   "metadata": {},
   "source": [
    "# All steps\n",
    "\n",
    "* **[start](start.ipynb)** your first step in mastering the bible computationally\n",
    "* **[display](display.ipynb)** become an expert in creating pretty displays of your text structures\n",
    "* **[search](search.ipynb)** turbo charge your hand-coding with search templates\n",
    "\n",
    "---\n",
    "\n",
    "[advanced](searchAdvanced.ipynb)\n",
    "sets\n",
    "\n",
    "You have seen how to mingle sets with queries.\n",
    "\n",
    "Time to enter the race for space:\n",
    "\n",
    "[relations](searchRelations.ipynb)\n",
    "[quantifiers](searchQuantifiers.ipynb)\n",
    "[fromMQL](searchFromMQL.ipynb)\n",
    "[rough](searchRough.ipynb)\n",
    "[gaps](searchGaps.ipynb)\n",
    "\n",
    "---\n",
    "\n",
    "* **[exportExcel](exportExcel.ipynb)** make tailor-made spreadsheets out of your results\n",
    "* **[share](share.ipynb)** draw in other people's data and let them use yours\n",
    "* **[export](export.ipynb)** export your dataset as an Emdros database\n",
    "\n",
    "CC-BY Dirk Roorda"
   ]
  }
 ],
 "metadata": {
  "kernelspec": {
   "display_name": "Python 3",
   "language": "python",
   "name": "python3"
  },
  "language_info": {
   "codemirror_mode": {
    "name": "ipython",
    "version": 3
   },
   "file_extension": ".py",
   "mimetype": "text/x-python",
   "name": "python",
   "nbconvert_exporter": "python",
   "pygments_lexer": "ipython3",
   "version": "3.7.7"
  }
 },
 "nbformat": 4,
 "nbformat_minor": 4
}
