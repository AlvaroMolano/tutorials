{
 "cells": [
  {
   "cell_type": "markdown",
   "metadata": {},
   "source": [
    "# Chapters with only \"frequent\" words\n",
    "\n",
    "Task: find the chapters without more than 20 rare words, where a rare word has a frequency (as lexeme) of less than 70.\n",
    "\n",
    "A question posed by Oliver Glanz."
   ]
  },
  {
   "cell_type": "markdown",
   "metadata": {},
   "source": [
    "<img align=\"right\" src=\"images/tf-small.png\" width=\"128\"/>\n",
    "<img align=\"right\" src=\"images/etcbc.png\"/>\n",
    "<img align=\"right\" src=\"images/dans-small.png\"/>\n",
    "\n",
    "# Sets and queries\n",
    "\n",
    "You can pass custom sets to the search function, as we have seen in [advanced](searchAdvanced.ipynb).\n",
    "Now we want to give a real-world example of that, and also show how you can prepare sets for use\n",
    "in the TF browser.\n",
    "\n",
    "## Chapters with only \"frequent\" words\n",
    "\n",
    "The following task comes from the department of education:\n",
    "\n",
    "*Find the chapters without more than 20 rare words, where a rare word has a frequency (as lexeme) of less than 70.*\n",
    "\n",
    "A question posed by Oliver Glanz."
   ]
  },
  {
   "cell_type": "code",
   "execution_count": 1,
   "metadata": {},
   "outputs": [],
   "source": [
    "%load_ext autoreload\n",
    "%autoreload 2"
   ]
  },
  {
   "cell_type": "code",
   "execution_count": 2,
   "metadata": {},
   "outputs": [],
   "source": [
    "import os"
   ]
  },
  {
   "cell_type": "code",
   "execution_count": 3,
   "metadata": {},
   "outputs": [],
   "source": [
    "from tf.fabric import Fabric\n",
    "from tf.app import use\n",
    "from tf.lib import writeSets, readSets"
   ]
  },
  {
   "cell_type": "markdown",
   "metadata": {},
   "source": [
    "By way of variation, we do not use the *minimal incantation* but a *fast* incantation."
   ]
  },
  {
   "cell_type": "code",
   "execution_count": 4,
   "metadata": {},
   "outputs": [
    {
     "name": "stdout",
     "output_type": "stream",
     "text": [
      "This is Text-Fabric 7.11.1\n",
      "Api reference : https://annotation.github.io/text-fabric/Api/Fabric/\n",
      "\n",
      "114 features found and 0 ignored\n"
     ]
    }
   ],
   "source": [
    "TF = Fabric(modules='etcbc/bhsa/tf/c')"
   ]
  },
  {
   "cell_type": "code",
   "execution_count": 5,
   "metadata": {},
   "outputs": [
    {
     "name": "stdout",
     "output_type": "stream",
     "text": [
      "   |     0.00s No structure info in otext, the structure part of the T-API cannot be used\n"
     ]
    }
   ],
   "source": [
    "api = TF.load('book freq_lex', silent=True)"
   ]
  },
  {
   "cell_type": "code",
   "execution_count": 6,
   "metadata": {},
   "outputs": [
    {
     "name": "stdout",
     "output_type": "stream",
     "text": [
      "Using TF-app in /Users/dirk/github/annotation/app-bhsa/code:\n",
      "\trepo clone offline under ~/github (local github)\n"
     ]
    },
    {
     "data": {
      "text/html": [
       "<b>Documentation:</b> <a target=\"_blank\" href=\"https://etcbc.github.io/bhsa\" title=\"provenance of BHSA = Biblia Hebraica Stuttgartensia Amstelodamensis\">BHSA</a> <a target=\"_blank\" href=\"https://annotation.github.io/text-fabric/Writing/Hebrew\" title=\"('Hebrew characters and transcriptions',)\">Character table</a> <a target=\"_blank\" href=\"https://etcbc.github.io/bhsa/features/0_home\" title=\"BHSA feature documentation\">Feature docs</a> <a target=\"_blank\" href=\"https://github.com/annotation/app-bhsa\" title=\"bhsa API documentation\">bhsa API</a> <a target=\"_blank\" href=\"https://annotation.github.io/text-fabric/Api/Fabric/\" title=\"text-fabric-api\">Text-Fabric API 7.11.1</a> <a target=\"_blank\" href=\"https://annotation.github.io/text-fabric/Use/Search/\" title=\"Search Templates Introduction and Reference\">Search Reference</a><details open><summary><b>Loaded features</b>:</summary>\n",
       "<p><b>etcbc/bhsa/tf/c</b>: <a target=\"_blank\" href=\"https://github.com/etcbc/bhsa/tree/master/tf/c\" title=\"/Users/dirk/text-fabric-data/etcbc/bhsa/tf/c/book.tf\">book</a>  <a target=\"_blank\" href=\"https://github.com/etcbc/bhsa/tree/master/tf/c\" title=\"/Users/dirk/text-fabric-data/etcbc/bhsa/tf/c/book@am.tf\">book@ll</a>  <a target=\"_blank\" href=\"https://github.com/etcbc/bhsa/tree/master/tf/c\" title=\"/Users/dirk/text-fabric-data/etcbc/bhsa/tf/c/chapter.tf\">chapter</a>  <a target=\"_blank\" href=\"https://github.com/etcbc/bhsa/tree/master/tf/c\" title=\"/Users/dirk/text-fabric-data/etcbc/bhsa/tf/c/freq_lex.tf\">freq_lex</a>  <a target=\"_blank\" href=\"https://github.com/etcbc/bhsa/tree/master/tf/c\" title=\"/Users/dirk/text-fabric-data/etcbc/bhsa/tf/c/g_cons.tf\">g_cons</a>  <a target=\"_blank\" href=\"https://github.com/etcbc/bhsa/tree/master/tf/c\" title=\"/Users/dirk/text-fabric-data/etcbc/bhsa/tf/c/g_cons_utf8.tf\">g_cons_utf8</a>  <a target=\"_blank\" href=\"https://github.com/etcbc/bhsa/tree/master/tf/c\" title=\"/Users/dirk/text-fabric-data/etcbc/bhsa/tf/c/g_lex.tf\">g_lex</a>  <a target=\"_blank\" href=\"https://github.com/etcbc/bhsa/tree/master/tf/c\" title=\"/Users/dirk/text-fabric-data/etcbc/bhsa/tf/c/g_lex_utf8.tf\">g_lex_utf8</a>  <a target=\"_blank\" href=\"https://github.com/etcbc/bhsa/tree/master/tf/c\" title=\"/Users/dirk/text-fabric-data/etcbc/bhsa/tf/c/g_word.tf\">g_word</a>  <a target=\"_blank\" href=\"https://github.com/etcbc/bhsa/tree/master/tf/c\" title=\"/Users/dirk/text-fabric-data/etcbc/bhsa/tf/c/g_word_utf8.tf\">g_word_utf8</a>  <a target=\"_blank\" href=\"https://github.com/etcbc/bhsa/tree/master/tf/c\" title=\"/Users/dirk/text-fabric-data/etcbc/bhsa/tf/c/lex.tf\">lex</a>  <a target=\"_blank\" href=\"https://github.com/etcbc/bhsa/tree/master/tf/c\" title=\"/Users/dirk/text-fabric-data/etcbc/bhsa/tf/c/lex_utf8.tf\">lex_utf8</a>  <a target=\"_blank\" href=\"https://github.com/etcbc/bhsa/tree/master/tf/c\" title=\"/Users/dirk/text-fabric-data/etcbc/bhsa/tf/c/otype.tf\">otype</a>  <a target=\"_blank\" href=\"https://github.com/etcbc/bhsa/tree/master/tf/c\" title=\"/Users/dirk/text-fabric-data/etcbc/bhsa/tf/c/qere.tf\">qere</a>  <a target=\"_blank\" href=\"https://github.com/etcbc/bhsa/tree/master/tf/c\" title=\"/Users/dirk/text-fabric-data/etcbc/bhsa/tf/c/qere_trailer.tf\">qere_trailer</a>  <a target=\"_blank\" href=\"https://github.com/etcbc/bhsa/tree/master/tf/c\" title=\"/Users/dirk/text-fabric-data/etcbc/bhsa/tf/c/qere_trailer_utf8.tf\">qere_trailer_utf8</a>  <a target=\"_blank\" href=\"https://github.com/etcbc/bhsa/tree/master/tf/c\" title=\"/Users/dirk/text-fabric-data/etcbc/bhsa/tf/c/qere_utf8.tf\">qere_utf8</a>  <a target=\"_blank\" href=\"https://github.com/etcbc/bhsa/tree/master/tf/c\" title=\"/Users/dirk/text-fabric-data/etcbc/bhsa/tf/c/trailer.tf\">trailer</a>  <a target=\"_blank\" href=\"https://github.com/etcbc/bhsa/tree/master/tf/c\" title=\"/Users/dirk/text-fabric-data/etcbc/bhsa/tf/c/trailer_utf8.tf\">trailer_utf8</a>  <a target=\"_blank\" href=\"https://github.com/etcbc/bhsa/tree/master/tf/c\" title=\"/Users/dirk/text-fabric-data/etcbc/bhsa/tf/c/verse.tf\">verse</a>  <a target=\"_blank\" href=\"https://github.com/etcbc/bhsa/tree/master/tf/c\" title=\"/Users/dirk/text-fabric-data/etcbc/bhsa/tf/c/voc_lex_utf8.tf\">voc_lex_utf8</a>  <b><i><a target=\"_blank\" href=\"https://github.com/etcbc/bhsa/tree/master/tf/c\" title=\"/Users/dirk/text-fabric-data/etcbc/bhsa/tf/c/oslots.tf\">oslots</a></i></b> </p></details>"
      ],
      "text/plain": [
       "<IPython.core.display.HTML object>"
      ]
     },
     "metadata": {},
     "output_type": "display_data"
    },
    {
     "data": {
      "text/html": [
       "<style>\n",
       "@font-face {\n",
       "  font-family: \"Ezra SIL\";\n",
       "  src:\n",
       "    local(\"SILEOT.ttf\"),\n",
       "    url(\"https://github.com/annotation/text-fabric/blob/master/tf/server/static/fonts/SILEOT.woff?raw=true\");\n",
       "}\n",
       ".features {\n",
       "    font-family: monospace;\n",
       "    font-size: medium;\n",
       "    font-weight: bold;\n",
       "    color: #0a6611;\n",
       "    display: flex;\n",
       "    flex-flow: column nowrap;\n",
       "    padding: 0.1em;\n",
       "    margin: 0.1em;\n",
       "    direction: ltr;\n",
       "}\n",
       ".features div,.features span {\n",
       "    padding: 0;\n",
       "    margin: -0.1rem 0;\n",
       "}\n",
       ".features .f {\n",
       "    font-family: sans-serif;\n",
       "    font-size: x-small;\n",
       "    font-weight: normal;\n",
       "    color: #5555bb;\n",
       "}\n",
       ".features .xft {\n",
       "  color: #000000;\n",
       "  background-color: #eeeeee;\n",
       "  font-size: medium;\n",
       "  margin: 0.1em 0em;\n",
       "}\n",
       ".features .xft .f {\n",
       "  color: #000000;\n",
       "  background-color: #eeeeee;\n",
       "  font-style: italic;\n",
       "  font-size: small;\n",
       "  font-weight: normal;\n",
       "}\n",
       ".ltr {\n",
       "    direction: ltr ! important;\n",
       "}\n",
       ".rtl {\n",
       "    direction: rtl ! important;\n",
       "}\n",
       ".verse {\n",
       "    display: flex;\n",
       "    flex-flow: row wrap;\n",
       "    direction: rtl;\n",
       "}\n",
       ".vl {\n",
       "    display: flex;\n",
       "    flex-flow: column nowrap;\n",
       "    justify-content: flex-end;\n",
       "    align-items: flex-end;\n",
       "    direction: ltr;\n",
       "    width: 100%;\n",
       "}\n",
       ".outeritem {\n",
       "    display: flex;\n",
       "    flex-flow: row wrap;\n",
       "    direction: rtl;\n",
       "}\n",
       ".outerplain {\n",
       "    direction: rtl;\n",
       "}\n",
       ".sentence,.clause,.phrase {\n",
       "    margin-top: -1.2em;\n",
       "    margin-left: 1em;\n",
       "    background: #ffffff none repeat scroll 0 0;\n",
       "    padding: 0 0.3em;\n",
       "    border-style: solid;\n",
       "    border-radius: 0.2em;\n",
       "    font-size: small;\n",
       "    display: block;\n",
       "    width: fit-content;\n",
       "    max-width: fit-content;\n",
       "    direction: ltr;\n",
       "}\n",
       ".atoms {\n",
       "    display: flex;\n",
       "    flex-flow: row wrap;\n",
       "    margin: 0.3em;\n",
       "    padding: 0.3em;\n",
       "    direction: rtl;\n",
       "    background-color: #ffffff;\n",
       "}\n",
       ".satom,.catom,.patom {\n",
       "    margin: 0.3em;\n",
       "    padding: 0.3em;\n",
       "    border-radius: 0.3em;\n",
       "    border-style: solid;\n",
       "    display: flex;\n",
       "    flex-flow: column nowrap;\n",
       "    direction: rtl;\n",
       "    background-color: #ffffff;\n",
       "}\n",
       ".sentence {\n",
       "    border-color: #aa3333;\n",
       "    border-width: 1px;\n",
       "}\n",
       ".clause {\n",
       "    border-color: #aaaa33;\n",
       "    border-width: 1px;\n",
       "}\n",
       ".phrase {\n",
       "    border-color: #33aaaa;\n",
       "    border-width: 1px;\n",
       "}\n",
       ".satom {\n",
       "    border-color: #aa3333;\n",
       "    border-width: 4px;\n",
       "}\n",
       ".catom {\n",
       "    border-color: #aaaa33;\n",
       "    border-width: 3px;\n",
       "}\n",
       ".patom {\n",
       "    border-color: #33aaaa;\n",
       "    border-width: 3px;\n",
       "}\n",
       ".word {\n",
       "    padding: 0.1em;\n",
       "    margin: 0.1em;\n",
       "    border-radius: 0.1em;\n",
       "    border: 1px solid #cccccc;\n",
       "    display: flex;\n",
       "    flex-flow: column nowrap;\n",
       "    direction: rtl;\n",
       "    background-color: #ffffff;\n",
       "}\n",
       ".lextp {\n",
       "    padding: 0.1em;\n",
       "    margin: 0.1em;\n",
       "    border-radius: 0.1em;\n",
       "    border: 2px solid #888888;\n",
       "    width: fit-content;\n",
       "    display: flex;\n",
       "    flex-flow: column nowrap;\n",
       "    direction: rtl;\n",
       "    background-color: #ffffff;\n",
       "}\n",
       ".occs {\n",
       "    font-size: x-small;\n",
       "}\n",
       ".satom.l,.catom.l,.patom.l,.plain.l {\n",
       "    border-left-style: dotted\n",
       "}\n",
       ".satom.r,.catom.r,.patom.r,.plain.r {\n",
       "    border-right-style: dotted\n",
       "}\n",
       ".satom.lno,.catom.lno,.patom.lno,.plain.lno {\n",
       "    border-left-style: none\n",
       "}\n",
       ".satom.rno,.catom.rno,.patom.rno,.plain.rno {\n",
       "    border-right-style: none\n",
       "}\n",
       "a:hover {\n",
       "    text-decoration: underline | important;\n",
       "    color: #0000ff | important;\n",
       "}\n",
       ".tr,.tr a:visited,.tr a:link {\n",
       "    font-family: sans-serif;\n",
       "    font-size: large;\n",
       "    color: #000044;\n",
       "    direction: ltr;\n",
       "    text-decoration: none;\n",
       "}\n",
       ".trb,.trb a:visited,.trb a:link {\n",
       "    font-family: sans-serif;\n",
       "    font-size: normal;\n",
       "    direction: ltr;\n",
       "    text-decoration: none;\n",
       "}\n",
       ".prb,.prb a:visited,.prb a:link {\n",
       "    font-family: sans-serif;\n",
       "    font-size: large;\n",
       "    direction: ltr;\n",
       "    text-decoration: none;\n",
       "}\n",
       ".h,.h a:visited,.h a:link {\n",
       "    font-family: \"Ezra SIL\", \"SBL Hebrew\", sans-serif;\n",
       "    font-size: large;\n",
       "    color: #000044;\n",
       "    direction: rtl;\n",
       "    text-decoration: none;\n",
       "}\n",
       ".hb,.hb a:visited,.hb a:link {\n",
       "    font-family: \"Ezra SIL\", \"SBL Hebrew\", sans-serif;\n",
       "    font-size: large;\n",
       "    line-height: 2;\n",
       "    direction: rtl;\n",
       "    text-decoration: none;\n",
       "}\n",
       ".vn {\n",
       "  font-size: small !important;\n",
       "  padding-right: 1em;\n",
       "}\n",
       ".rela,.function,.typ {\n",
       "    font-family: monospace;\n",
       "    font-size: small;\n",
       "    color: #0000bb;\n",
       "}\n",
       ".pdp,.pdp a:visited,.pdp a:link {\n",
       "    font-family: monospace;\n",
       "    font-size: medium;\n",
       "    color: #0000bb;\n",
       "    text-decoration: none;\n",
       "}\n",
       ".voc_lex {\n",
       "    font-family: monospace;\n",
       "    font-size: medium;\n",
       "    color: #0000bb;\n",
       "}\n",
       ".vs {\n",
       "    font-family: monospace;\n",
       "    font-size: medium;\n",
       "    font-weight: bold;\n",
       "    color: #0000bb;\n",
       "}\n",
       ".vt {\n",
       "    font-family: monospace;\n",
       "    font-size: medium;\n",
       "    font-weight: bold;\n",
       "    color: #0000bb;\n",
       "}\n",
       ".gloss {\n",
       "    font-family: sans-serif;\n",
       "    font-size: small;\n",
       "    font-weight: normal;\n",
       "    color: #444444;\n",
       "}\n",
       ".vrs {\n",
       "    font-family: sans-serif;\n",
       "    font-size: small;\n",
       "    font-weight: bold;\n",
       "    color: #444444;\n",
       "}\n",
       ".nd {\n",
       "    font-family: monospace;\n",
       "    font-size: x-small;\n",
       "    color: #999999;\n",
       "}\n",
       ".hl {\n",
       "    background-color: #ffee66;\n",
       "}\n",
       "\n",
       "tr.tf, td.tf, th.tf {\n",
       "  text-align: left;\n",
       "}\n",
       "\n",
       "span.hldot {\n",
       "\tbackground-color: var(--hl-strong);\n",
       "\tborder: 0.2rem solid var(--hl-rim);\n",
       "\tborder-radius: 0.4rem;\n",
       "\t/*\n",
       "\tdisplay: inline-block;\n",
       "\twidth: 0.8rem;\n",
       "\theight: 0.8rem;\n",
       "\t*/\n",
       "}\n",
       "span.hl {\n",
       "\tbackground-color: var(--hl-strong);\n",
       "\tborder-width: 0;\n",
       "\tborder-radius: 0.1rem;\n",
       "\tborder-style: solid;\n",
       "}\n",
       "\n",
       "span.hlbx {\n",
       "\tborder-color: var(--hl-dark);\n",
       "\tborder-width: 0.1rem;\n",
       "\tborder-style: solid;\n",
       "\tborder-radius: 0.2rem;\n",
       "  padding: 0.2rem;\n",
       "  margin: 0.2rem;\n",
       "}\n",
       "\n",
       "span.plain {\n",
       "  display: inline-block;\n",
       "  white-space: pre-wrap;\n",
       "}\n",
       "\n",
       ":root {\n",
       "\t--hl-strong:        hsla( 60, 100%,  70%, 0.9  );\n",
       "\t--hl-rim:           hsla( 55, 100%,  60%, 0.9  );\n",
       "\t--hl-dark:          hsla( 55, 100%,  40%, 0.9  );\n",
       "}\n",
       "</style>"
      ],
      "text/plain": [
       "<IPython.core.display.HTML object>"
      ]
     },
     "metadata": {},
     "output_type": "display_data"
    },
    {
     "data": {
      "text/html": [
       "<details open><summary><b>API members</b>:</summary>\n",
       "<a target=\"_blank\" href=\"https://annotation.github.io/text-fabric/Api/Computed/#computed-data\" title=\"doc\">C Computed</a>, <a target=\"_blank\" href=\"https://annotation.github.io/text-fabric/Api/Computed/#computed-data\" title=\"doc\">Call AllComputeds</a>, <a target=\"_blank\" href=\"https://annotation.github.io/text-fabric/Api/Computed/#computed-data\" title=\"doc\">Cs ComputedString</a><br/>\n",
       "<a target=\"_blank\" href=\"https://annotation.github.io/text-fabric/Api/Features/#edge-features\" title=\"doc\">E Edge</a>, <a target=\"_blank\" href=\"https://annotation.github.io/text-fabric/Api/Features/#edge-features\" title=\"doc\">Eall AllEdges</a>, <a target=\"_blank\" href=\"https://annotation.github.io/text-fabric/Api/Features/#edge-features\" title=\"doc\">Es EdgeString</a><br/>\n",
       "<a target=\"_blank\" href=\"https://annotation.github.io/text-fabric/Api/Fabric/#loading\" title=\"doc\">ensureLoaded</a>, <a target=\"_blank\" href=\"https://annotation.github.io/text-fabric/Api/Fabric/#loading\" title=\"doc\">TF</a>, <a target=\"_blank\" href=\"https://annotation.github.io/text-fabric/Api/Fabric/#loading\" title=\"doc\">ignored</a>, <a target=\"_blank\" href=\"https://annotation.github.io/text-fabric/Api/Fabric/#loading\" title=\"doc\">loadLog</a><br/>\n",
       "<a target=\"_blank\" href=\"https://annotation.github.io/text-fabric/Api/Locality/#locality\" title=\"doc\">L Locality</a><br/>\n",
       "<a target=\"_blank\" href=\"https://annotation.github.io/text-fabric/Api/Misc/#messaging\" title=\"doc\">cache</a>, <a target=\"_blank\" href=\"https://annotation.github.io/text-fabric/Api/Misc/#messaging\" title=\"doc\">error</a>, <a target=\"_blank\" href=\"https://annotation.github.io/text-fabric/Api/Misc/#messaging\" title=\"doc\">indent</a>, <a target=\"_blank\" href=\"https://annotation.github.io/text-fabric/Api/Misc/#messaging\" title=\"doc\">info</a>, <a target=\"_blank\" href=\"https://annotation.github.io/text-fabric/Api/Misc/#messaging\" title=\"doc\">isSilent</a>, <a target=\"_blank\" href=\"https://annotation.github.io/text-fabric/Api/Misc/#messaging\" title=\"doc\">reset</a>, <a target=\"_blank\" href=\"https://annotation.github.io/text-fabric/Api/Misc/#messaging\" title=\"doc\">setSilent</a>, <a target=\"_blank\" href=\"https://annotation.github.io/text-fabric/Api/Misc/#messaging\" title=\"doc\">silentOff</a>, <a target=\"_blank\" href=\"https://annotation.github.io/text-fabric/Api/Misc/#messaging\" title=\"doc\">silentOn</a>, <a target=\"_blank\" href=\"https://annotation.github.io/text-fabric/Api/Misc/#messaging\" title=\"doc\">warning</a><br/>\n",
       "<a target=\"_blank\" href=\"https://annotation.github.io/text-fabric/Api/Nodes/#navigating-nodes\" title=\"doc\">N Nodes</a>, <a target=\"_blank\" href=\"https://annotation.github.io/text-fabric/Api/Nodes/#navigating-nodes\" title=\"doc\">sortKey</a>, <a target=\"_blank\" href=\"https://annotation.github.io/text-fabric/Api/Nodes/#navigating-nodes\" title=\"doc\">sortKeyTuple</a>, <a target=\"_blank\" href=\"https://annotation.github.io/text-fabric/Api/Nodes/#navigating-nodes\" title=\"doc\">otypeRank</a>, <a target=\"_blank\" href=\"https://annotation.github.io/text-fabric/Api/Nodes/#navigating-nodes\" title=\"doc\">sortNodes</a><br/>\n",
       "<a target=\"_blank\" href=\"https://annotation.github.io/text-fabric/Api/Features/#node-features\" title=\"doc\">F Feature</a>, <a target=\"_blank\" href=\"https://annotation.github.io/text-fabric/Api/Features/#node-features\" title=\"doc\">Fall AllFeatures</a>, <a target=\"_blank\" href=\"https://annotation.github.io/text-fabric/Api/Features/#node-features\" title=\"doc\">Fs FeatureString</a><br/>\n",
       "<a target=\"_blank\" href=\"https://annotation.github.io/text-fabric/Api/Search/#search\" title=\"doc\">S Search</a><br/>\n",
       "<a target=\"_blank\" href=\"https://annotation.github.io/text-fabric/Api/Text/#text\" title=\"doc\">T Text</a></details>"
      ],
      "text/plain": [
       "<IPython.core.display.HTML object>"
      ]
     },
     "metadata": {},
     "output_type": "display_data"
    }
   ],
   "source": [
    "A = use('bhsa:clone', checkout=\"clone\", api=api, hoist=globals())"
   ]
  },
  {
   "cell_type": "code",
   "execution_count": 7,
   "metadata": {},
   "outputs": [],
   "source": [
    "FREQ = 70\n",
    "AMOUNT = 20"
   ]
  },
  {
   "cell_type": "markdown",
   "metadata": {},
   "source": [
    "## Query\n",
    "\n",
    "A straightforward query is:"
   ]
  },
  {
   "cell_type": "code",
   "execution_count": 8,
   "metadata": {},
   "outputs": [],
   "source": [
    "query = f'''\n",
    "chapter\n",
    "/without/\n",
    "  word freq_lex<{FREQ}\n",
    "  < word freq_lex<{FREQ}\n",
    "  < word freq_lex<{FREQ}\n",
    "  < word freq_lex<{FREQ}\n",
    "  < word freq_lex<{FREQ}\n",
    "  < word freq_lex<{FREQ}\n",
    "  < word freq_lex<{FREQ}\n",
    "  < word freq_lex<{FREQ}\n",
    "  < word freq_lex<{FREQ}\n",
    "  < word freq_lex<{FREQ}\n",
    "  < word freq_lex<{FREQ}\n",
    "  < word freq_lex<{FREQ}\n",
    "  < word freq_lex<{FREQ}\n",
    "  < word freq_lex<{FREQ}\n",
    "  < word freq_lex<{FREQ}\n",
    "  < word freq_lex<{FREQ}\n",
    "  < word freq_lex<{FREQ}\n",
    "  < word freq_lex<{FREQ}\n",
    "  < word freq_lex<{FREQ}\n",
    "  < word freq_lex<{FREQ}\n",
    "/-/\n",
    "'''"
   ]
  },
  {
   "cell_type": "markdown",
   "metadata": {},
   "source": [
    "Several problems with this query:\n",
    "\n",
    "* it is very inelegant.\n",
    "* it does not perform, in fact, you cannot wait for it.\n",
    "* the logic is wasteful: the `/without/` query that expresses what should be left out\n",
    "  denotes all possible combinations of 20 infrequent words, an astronomical number.\n",
    "\n",
    "So, better not search with this one."
   ]
  },
  {
   "cell_type": "code",
   "execution_count": 9,
   "metadata": {},
   "outputs": [],
   "source": [
    "# indent(reset=True)\n",
    "# info('start query')\n",
    "# results = S.search(query, limit=1)\n",
    "# info('end query')\n",
    "# len(results)"
   ]
  },
  {
   "cell_type": "markdown",
   "metadata": {},
   "source": [
    "# By hand\n",
    "\n",
    "On the other hand, with a bit of hand coding it is very easy, and almost instantaneous:"
   ]
  },
  {
   "cell_type": "code",
   "execution_count": 10,
   "metadata": {},
   "outputs": [
    {
     "name": "stdout",
     "output_type": "stream",
     "text": [
      "60 chapters out of 929\n"
     ]
    }
   ],
   "source": [
    "results = []\n",
    "allChapters = F.otype.s('chapter')\n",
    "\n",
    "for chapter in allChapters:\n",
    "    if len([\n",
    "        word for word in L.d(chapter, otype='word') if F.freq_lex.v(word) < FREQ\n",
    "    ]) < AMOUNT:\n",
    "        results.append(chapter)\n",
    "        \n",
    "print(f'{len(results)} chapters out of {len(allChapters)}')"
   ]
  },
  {
   "cell_type": "code",
   "execution_count": 11,
   "metadata": {},
   "outputs": [
    {
     "name": "stdout",
     "output_type": "stream",
     "text": [
      "Exodus 11, 24\n",
      "Leviticus 17\n",
      "Deuteronomy 30\n",
      "Joshua 23\n",
      "Isaiah 12, 39\n",
      "Jeremiah 45\n",
      "Ezekiel 15\n",
      "Hosea 3\n",
      "Joel 3\n",
      "Psalms 1, 3, 4, 13, 14, 15, 20, 23, 24, 26, 43, 47, 53, 54, 61, 67, 70, 82, 86, 87, 93, 97, 99, 100, 101, 110, 113, 114, 115, 117, 120, 121, 122, 123, 124, 125, 126, 127, 128, 130, 131, 133, 134, 136, 138, 150\n",
      "Job 25\n",
      "Esther 10\n",
      "2_Chronicles 27\n"
     ]
    }
   ],
   "source": [
    "resultsByBook = dict()\n",
    "\n",
    "for chapter in results:\n",
    "    (bk, ch) = T.sectionFromNode(chapter)\n",
    "    resultsByBook.setdefault(bk, []).append(ch)\n",
    "    \n",
    "for (bk, chps) in resultsByBook.items():\n",
    "    print('{} {}'.format(bk, ', '.join(str(c) for c in chps)))"
   ]
  },
  {
   "cell_type": "markdown",
   "metadata": {},
   "source": [
    "# Custom sets\n",
    "\n",
    "Once you have these chapters, you can put them in a set and use them in queries.\n",
    "\n",
    "We show how to query results as far as they occur in an \"ordinary\" chapter.\n",
    "\n",
    "First we search for a phenomenon in all chapters. The phenomenon is a clause with a subject consisting of a single noun in\n",
    "the plural and a verb in the plural."
   ]
  },
  {
   "cell_type": "code",
   "execution_count": 12,
   "metadata": {},
   "outputs": [],
   "source": [
    "sets = dict(ochapter=set(results))"
   ]
  },
  {
   "cell_type": "code",
   "execution_count": 13,
   "metadata": {},
   "outputs": [],
   "source": [
    "query1 = '''\n",
    "verse\n",
    "  clause\n",
    "    phrase function=Pred\n",
    "      word pdp=verb nu=sg\n",
    "    phrase function=Subj\n",
    "      =: word pdp=subs nu=pl\n",
    "      :=\n",
    "'''"
   ]
  },
  {
   "cell_type": "code",
   "execution_count": 14,
   "metadata": {},
   "outputs": [
    {
     "name": "stdout",
     "output_type": "stream",
     "text": [
      "  1.87s 263 results\n"
     ]
    }
   ],
   "source": [
    "results1 = A.search(query1)"
   ]
  },
  {
   "cell_type": "code",
   "execution_count": 15,
   "metadata": {},
   "outputs": [
    {
     "data": {
      "text/html": [
       "<table>\n",
       "<tr class=\"tf\">\n",
       "  <th class=\"tf\">n</th><th class=\"tf\">p</th>\n",
       "  <th class=\"tf\">verse</th><th>clause</th><th>phrase</th><th>word</th><th>phrase</th><th>word</th>\n",
       "</tr>\n",
       "\n",
       "<tr class=\"tf\"><td class=\"tf\">1</td><td class=\"tf\"> <a href=\"https://shebanq.ancient-data.org/hebrew/text?book=Genesis&amp;chapter=1&amp;verse=1&amp;version=c&amp;mr=m&amp;qw=q&amp;tp=txt_p&amp;tr=hb&amp;wget=v&amp;qget=v&amp;nget=vt\" title=\"show this passage in SHEBANQ\" sec=\"Genesis 1:1\">Genesis 1:1</a></td><td class=\"tf\"><span class=\"vrs ltr\"><a href=\"https://shebanq.ancient-data.org/hebrew/text?book=Genesis&amp;chapter=1&amp;verse=1&amp;version=c&amp;mr=m&amp;qw=q&amp;tp=txt_p&amp;tr=hb&amp;wget=v&amp;qget=v&amp;nget=vt\" title=\"show this passage in SHEBANQ\" sec=\"Genesis 1:1\">Genesis 1:1</a></span><span class=\"plain outer  rtl  \" ><span class=\"plain rtl \"><span class=\"plain rtl  \" ><span class=\"plain rtl  hlbx\" ><span class=\"plain rtl  \" ><span class=\"plain rtl  \" ><span class=\"plain rtl  \" ><span class=\"h\">בְּ</span></span><span class=\"plain rtl  \" ><span class=\"h\">רֵאשִׁ֖ית </span></span></span><span class=\"plain rtl  hlbx\" ><span class=\"plain rtl  \" ><span class=\"plain rtl  hl\" ><span class=\"h\">בָּרָ֣א </span></span></span></span><span class=\"plain rtl  hlbx\" ><span class=\"plain rtl  \" ><span class=\"plain rtl  hl\" ><span class=\"h\">אֱלֹהִ֑ים </span></span></span></span><span class=\"plain rtl  \" ><span class=\"plain rtl  \" ><span class=\"h\">אֵ֥ת </span></span><span class=\"plain rtl  \" ><span class=\"h\">הַ</span></span><span class=\"plain rtl  \" ><span class=\"h\">שָּׁמַ֖יִם </span></span><span class=\"plain rtl  \" ><span class=\"h\">וְ</span></span><span class=\"plain rtl  \" ><span class=\"h\">אֵ֥ת </span></span><span class=\"plain rtl  \" ><span class=\"h\">הָ</span></span><span class=\"plain rtl  \" ><span class=\"h\">אָֽרֶץ׃ </span></span></span></span></span></span></span></span></td><td class=\"tf\"><span class=\"plain outer  rtl \"><span class=\"plain rtl  hlbx\" ><span class=\"plain rtl  \" ><span class=\"plain rtl  \" ><span class=\"plain rtl  \" ><span class=\"h\">בְּ</span></span><span class=\"plain rtl  \" ><span class=\"h\">רֵאשִׁ֖ית </span></span></span><span class=\"plain rtl  hlbx\" ><span class=\"plain rtl  \" ><span class=\"plain rtl  hl\" ><span class=\"h\">בָּרָ֣א </span></span></span></span><span class=\"plain rtl  hlbx\" ><span class=\"plain rtl  \" ><span class=\"plain rtl  hl\" ><span class=\"h\">אֱלֹהִ֑ים </span></span></span></span><span class=\"plain rtl  \" ><span class=\"plain rtl  \" ><span class=\"h\">אֵ֥ת </span></span><span class=\"plain rtl  \" ><span class=\"h\">הַ</span></span><span class=\"plain rtl  \" ><span class=\"h\">שָּׁמַ֖יִם </span></span><span class=\"plain rtl  \" ><span class=\"h\">וְ</span></span><span class=\"plain rtl  \" ><span class=\"h\">אֵ֥ת </span></span><span class=\"plain rtl  \" ><span class=\"h\">הָ</span></span><span class=\"plain rtl  \" ><span class=\"h\">אָֽרֶץ׃ </span></span></span></span></span></span></td><td class=\"tf\"><span class=\"plain outer  rtl \"><span class=\"plain rtl  hlbx\" ><span class=\"plain rtl  \" ><span class=\"plain rtl  hl\" ><span class=\"h\">בָּרָ֣א </span></span></span></span></span></td><td class=\"tf\"><span class=\"plain outer  rtl  hl\" ><span class=\"h\">בָּרָ֣א </span></span></td><td class=\"tf\"><span class=\"plain outer  rtl \"><span class=\"plain rtl  hlbx\" ><span class=\"plain rtl  \" ><span class=\"plain rtl  hl\" ><span class=\"h\">אֱלֹהִ֑ים </span></span></span></span></span></td><td class=\"tf\"><span class=\"plain outer  rtl  hl\" ><span class=\"h\">אֱלֹהִ֑ים </span></span></td></tr>\n",
       "<tr class=\"tf\"><td class=\"tf\">2</td><td class=\"tf\"> <a href=\"https://shebanq.ancient-data.org/hebrew/text?book=Genesis&amp;chapter=1&amp;verse=3&amp;version=c&amp;mr=m&amp;qw=q&amp;tp=txt_p&amp;tr=hb&amp;wget=v&amp;qget=v&amp;nget=vt\" title=\"show this passage in SHEBANQ\" sec=\"Genesis 1:3\">Genesis 1:3</a></td><td class=\"tf\"><span class=\"vrs ltr\"><a href=\"https://shebanq.ancient-data.org/hebrew/text?book=Genesis&amp;chapter=1&amp;verse=3&amp;version=c&amp;mr=m&amp;qw=q&amp;tp=txt_p&amp;tr=hb&amp;wget=v&amp;qget=v&amp;nget=vt\" title=\"show this passage in SHEBANQ\" sec=\"Genesis 1:3\">Genesis 1:3</a></span><span class=\"plain outer  rtl  \" ><span class=\"plain rtl \"><span class=\"plain rtl  \" ><span class=\"plain rtl  hlbx\" ><span class=\"plain rtl  \" ><span class=\"plain rtl  \" ><span class=\"plain rtl  \" ><span class=\"h\">וַ</span></span></span><span class=\"plain rtl  hlbx\" ><span class=\"plain rtl  \" ><span class=\"plain rtl  hl\" ><span class=\"h\">יֹּ֥אמֶר </span></span></span></span><span class=\"plain rtl  hlbx\" ><span class=\"plain rtl  \" ><span class=\"plain rtl  hl\" ><span class=\"h\">אֱלֹהִ֖ים </span></span></span></span></span></span></span><span class=\"plain rtl  \" ><span class=\"plain rtl  \" ><span class=\"plain rtl  \" ><span class=\"plain rtl  \" ><span class=\"h\">יְהִ֣י </span></span></span><span class=\"plain rtl  \" ><span class=\"plain rtl  \" ><span class=\"h\">אֹ֑ור </span></span></span></span></span><span class=\"plain rtl  \" ><span class=\"plain rtl  \" ><span class=\"plain rtl  \" ><span class=\"plain rtl  \" ><span class=\"h\">וַֽ</span></span></span><span class=\"plain rtl  \" ><span class=\"plain rtl  \" ><span class=\"h\">יְהִי־</span></span></span><span class=\"plain rtl  \" ><span class=\"plain rtl  \" ><span class=\"h\">אֹֽור׃ </span></span></span></span></span></span></span></td><td class=\"tf\"><span class=\"plain outer  rtl \"><span class=\"plain rtl  hlbx\" ><span class=\"plain rtl  \" ><span class=\"plain rtl  \" ><span class=\"plain rtl  \" ><span class=\"h\">וַ</span></span></span><span class=\"plain rtl  hlbx\" ><span class=\"plain rtl  \" ><span class=\"plain rtl  hl\" ><span class=\"h\">יֹּ֥אמֶר </span></span></span></span><span class=\"plain rtl  hlbx\" ><span class=\"plain rtl  \" ><span class=\"plain rtl  hl\" ><span class=\"h\">אֱלֹהִ֖ים </span></span></span></span></span></span></span></td><td class=\"tf\"><span class=\"plain outer  rtl \"><span class=\"plain rtl  hlbx\" ><span class=\"plain rtl  \" ><span class=\"plain rtl  hl\" ><span class=\"h\">יֹּ֥אמֶר </span></span></span></span></span></td><td class=\"tf\"><span class=\"plain outer  rtl  hl\" ><span class=\"h\">יֹּ֥אמֶר </span></span></td><td class=\"tf\"><span class=\"plain outer  rtl \"><span class=\"plain rtl  hlbx\" ><span class=\"plain rtl  \" ><span class=\"plain rtl  hl\" ><span class=\"h\">אֱלֹהִ֖ים </span></span></span></span></span></td><td class=\"tf\"><span class=\"plain outer  rtl  hl\" ><span class=\"h\">אֱלֹהִ֖ים </span></span></td></tr>\n",
       "<tr class=\"tf\"><td class=\"tf\">3</td><td class=\"tf\"> <a href=\"https://shebanq.ancient-data.org/hebrew/text?book=Genesis&amp;chapter=1&amp;verse=4&amp;version=c&amp;mr=m&amp;qw=q&amp;tp=txt_p&amp;tr=hb&amp;wget=v&amp;qget=v&amp;nget=vt\" title=\"show this passage in SHEBANQ\" sec=\"Genesis 1:4\">Genesis 1:4</a></td><td class=\"tf\"><span class=\"vrs ltr\"><a href=\"https://shebanq.ancient-data.org/hebrew/text?book=Genesis&amp;chapter=1&amp;verse=4&amp;version=c&amp;mr=m&amp;qw=q&amp;tp=txt_p&amp;tr=hb&amp;wget=v&amp;qget=v&amp;nget=vt\" title=\"show this passage in SHEBANQ\" sec=\"Genesis 1:4\">Genesis 1:4</a></span><span class=\"plain outer  rtl  \" ><span class=\"plain rtl \"><span class=\"plain rtl  \" ><span class=\"plain rtl  hlbx\" ><span class=\"plain rtl  \" ><span class=\"plain rtl  \" ><span class=\"plain rtl  \" ><span class=\"h\">וַ</span></span></span><span class=\"plain rtl  hlbx\" ><span class=\"plain rtl  \" ><span class=\"plain rtl  hl\" ><span class=\"h\">יַּ֧רְא </span></span></span></span><span class=\"plain rtl  hlbx\" ><span class=\"plain rtl  \" ><span class=\"plain rtl  hl\" ><span class=\"h\">אֱלֹהִ֛ים </span></span></span></span><span class=\"plain rtl  \" ><span class=\"plain rtl  \" ><span class=\"h\">אֶת־</span></span><span class=\"plain rtl  \" ><span class=\"h\">הָ</span></span><span class=\"plain rtl  \" ><span class=\"h\">אֹ֖ור </span></span></span></span></span><span class=\"plain rtl  \" ><span class=\"plain rtl  \" ><span class=\"plain rtl  \" ><span class=\"h\">כִּי־</span></span></span><span class=\"plain rtl  \" ><span class=\"plain rtl  \" ><span class=\"h\">טֹ֑וב </span></span></span></span></span><span class=\"plain rtl  \" ><span class=\"plain rtl  \" ><span class=\"plain rtl  \" ><span class=\"plain rtl  \" ><span class=\"h\">וַ</span></span></span><span class=\"plain rtl  \" ><span class=\"plain rtl  \" ><span class=\"h\">יַּבְדֵּ֣ל </span></span></span><span class=\"plain rtl  \" ><span class=\"plain rtl  \" ><span class=\"h\">אֱלֹהִ֔ים </span></span></span><span class=\"plain rtl  \" ><span class=\"plain rtl  \" ><span class=\"h\">בֵּ֥ין </span></span><span class=\"plain rtl  \" ><span class=\"h\">הָ</span></span><span class=\"plain rtl  \" ><span class=\"h\">אֹ֖ור </span></span><span class=\"plain rtl  \" ><span class=\"h\">וּ</span></span><span class=\"plain rtl  \" ><span class=\"h\">בֵ֥ין </span></span><span class=\"plain rtl  \" ><span class=\"h\">הַ</span></span><span class=\"plain rtl  \" ><span class=\"h\">חֹֽשֶׁךְ׃ </span></span></span></span></span></span></span></td><td class=\"tf\"><span class=\"plain outer  rtl \"><span class=\"plain rtl  hlbx\" ><span class=\"plain rtl  \" ><span class=\"plain rtl  \" ><span class=\"plain rtl  \" ><span class=\"h\">וַ</span></span></span><span class=\"plain rtl  hlbx\" ><span class=\"plain rtl  \" ><span class=\"plain rtl  hl\" ><span class=\"h\">יַּ֧רְא </span></span></span></span><span class=\"plain rtl  hlbx\" ><span class=\"plain rtl  \" ><span class=\"plain rtl  hl\" ><span class=\"h\">אֱלֹהִ֛ים </span></span></span></span><span class=\"plain rtl  \" ><span class=\"plain rtl  \" ><span class=\"h\">אֶת־</span></span><span class=\"plain rtl  \" ><span class=\"h\">הָ</span></span><span class=\"plain rtl  \" ><span class=\"h\">אֹ֖ור </span></span></span></span></span></span></td><td class=\"tf\"><span class=\"plain outer  rtl \"><span class=\"plain rtl  hlbx\" ><span class=\"plain rtl  \" ><span class=\"plain rtl  hl\" ><span class=\"h\">יַּ֧רְא </span></span></span></span></span></td><td class=\"tf\"><span class=\"plain outer  rtl  hl\" ><span class=\"h\">יַּ֧רְא </span></span></td><td class=\"tf\"><span class=\"plain outer  rtl \"><span class=\"plain rtl  hlbx\" ><span class=\"plain rtl  \" ><span class=\"plain rtl  hl\" ><span class=\"h\">אֱלֹהִ֛ים </span></span></span></span></span></td><td class=\"tf\"><span class=\"plain outer  rtl  hl\" ><span class=\"h\">אֱלֹהִ֛ים </span></span></td></tr>\n",
       "<tr class=\"tf\"><td class=\"tf\">4</td><td class=\"tf\"> <a href=\"https://shebanq.ancient-data.org/hebrew/text?book=Genesis&amp;chapter=1&amp;verse=4&amp;version=c&amp;mr=m&amp;qw=q&amp;tp=txt_p&amp;tr=hb&amp;wget=v&amp;qget=v&amp;nget=vt\" title=\"show this passage in SHEBANQ\" sec=\"Genesis 1:4\">Genesis 1:4</a></td><td class=\"tf\"><span class=\"vrs ltr\"><a href=\"https://shebanq.ancient-data.org/hebrew/text?book=Genesis&amp;chapter=1&amp;verse=4&amp;version=c&amp;mr=m&amp;qw=q&amp;tp=txt_p&amp;tr=hb&amp;wget=v&amp;qget=v&amp;nget=vt\" title=\"show this passage in SHEBANQ\" sec=\"Genesis 1:4\">Genesis 1:4</a></span><span class=\"plain outer  rtl  \" ><span class=\"plain rtl \"><span class=\"plain rtl  \" ><span class=\"plain rtl  \" ><span class=\"plain rtl  \" ><span class=\"plain rtl  \" ><span class=\"h\">וַ</span></span></span><span class=\"plain rtl  \" ><span class=\"plain rtl  \" ><span class=\"h\">יַּ֧רְא </span></span></span><span class=\"plain rtl  \" ><span class=\"plain rtl  \" ><span class=\"h\">אֱלֹהִ֛ים </span></span></span><span class=\"plain rtl  \" ><span class=\"plain rtl  \" ><span class=\"h\">אֶת־</span></span><span class=\"plain rtl  \" ><span class=\"h\">הָ</span></span><span class=\"plain rtl  \" ><span class=\"h\">אֹ֖ור </span></span></span></span><span class=\"plain rtl  \" ><span class=\"plain rtl  \" ><span class=\"plain rtl  \" ><span class=\"h\">כִּי־</span></span></span><span class=\"plain rtl  \" ><span class=\"plain rtl  \" ><span class=\"h\">טֹ֑וב </span></span></span></span></span><span class=\"plain rtl  \" ><span class=\"plain rtl  hlbx\" ><span class=\"plain rtl  \" ><span class=\"plain rtl  \" ><span class=\"plain rtl  \" ><span class=\"h\">וַ</span></span></span><span class=\"plain rtl  hlbx\" ><span class=\"plain rtl  \" ><span class=\"plain rtl  hl\" ><span class=\"h\">יַּבְדֵּ֣ל </span></span></span></span><span class=\"plain rtl  hlbx\" ><span class=\"plain rtl  \" ><span class=\"plain rtl  hl\" ><span class=\"h\">אֱלֹהִ֔ים </span></span></span></span><span class=\"plain rtl  \" ><span class=\"plain rtl  \" ><span class=\"h\">בֵּ֥ין </span></span><span class=\"plain rtl  \" ><span class=\"h\">הָ</span></span><span class=\"plain rtl  \" ><span class=\"h\">אֹ֖ור </span></span><span class=\"plain rtl  \" ><span class=\"h\">וּ</span></span><span class=\"plain rtl  \" ><span class=\"h\">בֵ֥ין </span></span><span class=\"plain rtl  \" ><span class=\"h\">הַ</span></span><span class=\"plain rtl  \" ><span class=\"h\">חֹֽשֶׁךְ׃ </span></span></span></span></span></span></span></span></td><td class=\"tf\"><span class=\"plain outer  rtl \"><span class=\"plain rtl  hlbx\" ><span class=\"plain rtl  \" ><span class=\"plain rtl  \" ><span class=\"plain rtl  \" ><span class=\"h\">וַ</span></span></span><span class=\"plain rtl  hlbx\" ><span class=\"plain rtl  \" ><span class=\"plain rtl  hl\" ><span class=\"h\">יַּבְדֵּ֣ל </span></span></span></span><span class=\"plain rtl  hlbx\" ><span class=\"plain rtl  \" ><span class=\"plain rtl  hl\" ><span class=\"h\">אֱלֹהִ֔ים </span></span></span></span><span class=\"plain rtl  \" ><span class=\"plain rtl  \" ><span class=\"h\">בֵּ֥ין </span></span><span class=\"plain rtl  \" ><span class=\"h\">הָ</span></span><span class=\"plain rtl  \" ><span class=\"h\">אֹ֖ור </span></span><span class=\"plain rtl  \" ><span class=\"h\">וּ</span></span><span class=\"plain rtl  \" ><span class=\"h\">בֵ֥ין </span></span><span class=\"plain rtl  \" ><span class=\"h\">הַ</span></span><span class=\"plain rtl  \" ><span class=\"h\">חֹֽשֶׁךְ׃ </span></span></span></span></span></span></td><td class=\"tf\"><span class=\"plain outer  rtl \"><span class=\"plain rtl  hlbx\" ><span class=\"plain rtl  \" ><span class=\"plain rtl  hl\" ><span class=\"h\">יַּבְדֵּ֣ל </span></span></span></span></span></td><td class=\"tf\"><span class=\"plain outer  rtl  hl\" ><span class=\"h\">יַּבְדֵּ֣ל </span></span></td><td class=\"tf\"><span class=\"plain outer  rtl \"><span class=\"plain rtl  hlbx\" ><span class=\"plain rtl  \" ><span class=\"plain rtl  hl\" ><span class=\"h\">אֱלֹהִ֔ים </span></span></span></span></span></td><td class=\"tf\"><span class=\"plain outer  rtl  hl\" ><span class=\"h\">אֱלֹהִ֔ים </span></span></td></tr>\n",
       "<tr class=\"tf\"><td class=\"tf\">5</td><td class=\"tf\"> <a href=\"https://shebanq.ancient-data.org/hebrew/text?book=Genesis&amp;chapter=1&amp;verse=5&amp;version=c&amp;mr=m&amp;qw=q&amp;tp=txt_p&amp;tr=hb&amp;wget=v&amp;qget=v&amp;nget=vt\" title=\"show this passage in SHEBANQ\" sec=\"Genesis 1:5\">Genesis 1:5</a></td><td class=\"tf\"><span class=\"vrs ltr\"><a href=\"https://shebanq.ancient-data.org/hebrew/text?book=Genesis&amp;chapter=1&amp;verse=5&amp;version=c&amp;mr=m&amp;qw=q&amp;tp=txt_p&amp;tr=hb&amp;wget=v&amp;qget=v&amp;nget=vt\" title=\"show this passage in SHEBANQ\" sec=\"Genesis 1:5\">Genesis 1:5</a></span><span class=\"plain outer  rtl  \" ><span class=\"plain rtl \"><span class=\"plain rtl  \" ><span class=\"plain rtl  hlbx\" ><span class=\"plain rtl  \" ><span class=\"plain rtl  \" ><span class=\"plain rtl  \" ><span class=\"h\">וַ</span></span></span><span class=\"plain rtl  hlbx\" ><span class=\"plain rtl  \" ><span class=\"plain rtl  hl\" ><span class=\"h\">יִּקְרָ֨א </span></span></span></span><span class=\"plain rtl  hlbx\" ><span class=\"plain rtl  \" ><span class=\"plain rtl  hl\" ><span class=\"h\">אֱלֹהִ֤ים׀ </span></span></span></span><span class=\"plain rtl  \" ><span class=\"plain rtl  \" ><span class=\"h\">לָ</span></span><span class=\"plain rtl  \" ><span class=\"h\"></span></span><span class=\"plain rtl  \" ><span class=\"h\">אֹור֙ </span></span></span><span class=\"plain rtl  \" ><span class=\"plain rtl  \" ><span class=\"h\">יֹ֔ום </span></span></span></span></span></span><span class=\"plain rtl  \" ><span class=\"plain rtl  \" ><span class=\"plain rtl  \" ><span class=\"plain rtl  \" ><span class=\"h\">וְ</span></span></span><span class=\"plain rtl  \" ><span class=\"plain rtl  \" ><span class=\"h\">לַ</span></span><span class=\"plain rtl  \" ><span class=\"h\"></span></span><span class=\"plain rtl  \" ><span class=\"h\">חֹ֖שֶׁךְ </span></span></span><span class=\"plain rtl  \" ><span class=\"plain rtl  \" ><span class=\"h\">קָ֣רָא </span></span></span><span class=\"plain rtl  \" ><span class=\"plain rtl  \" ><span class=\"h\">לָ֑יְלָה </span></span></span></span></span><span class=\"plain rtl  \" ><span class=\"plain rtl  \" ><span class=\"plain rtl  \" ><span class=\"plain rtl  \" ><span class=\"h\">וַֽ</span></span></span><span class=\"plain rtl  \" ><span class=\"plain rtl  \" ><span class=\"h\">יְהִי־</span></span></span><span class=\"plain rtl  \" ><span class=\"plain rtl  \" ><span class=\"h\">עֶ֥רֶב </span></span></span></span></span><span class=\"plain rtl  \" ><span class=\"plain rtl  \" ><span class=\"plain rtl  \" ><span class=\"plain rtl  \" ><span class=\"h\">וַֽ</span></span></span><span class=\"plain rtl  \" ><span class=\"plain rtl  \" ><span class=\"h\">יְהִי־</span></span></span><span class=\"plain rtl  \" ><span class=\"plain rtl  \" ><span class=\"h\">בֹ֖קֶר </span></span></span></span></span><span class=\"plain rtl  \" ><span class=\"plain rtl  \" ><span class=\"plain rtl  \" ><span class=\"plain rtl  \" ><span class=\"h\">יֹ֥ום </span></span><span class=\"plain rtl  \" ><span class=\"h\">אֶחָֽד׃ פ </span></span></span></span></span></span></span></td><td class=\"tf\"><span class=\"plain outer  rtl \"><span class=\"plain rtl  hlbx\" ><span class=\"plain rtl  \" ><span class=\"plain rtl  \" ><span class=\"plain rtl  \" ><span class=\"h\">וַ</span></span></span><span class=\"plain rtl  hlbx\" ><span class=\"plain rtl  \" ><span class=\"plain rtl  hl\" ><span class=\"h\">יִּקְרָ֨א </span></span></span></span><span class=\"plain rtl  hlbx\" ><span class=\"plain rtl  \" ><span class=\"plain rtl  hl\" ><span class=\"h\">אֱלֹהִ֤ים׀ </span></span></span></span><span class=\"plain rtl  \" ><span class=\"plain rtl  \" ><span class=\"h\">לָ</span></span><span class=\"plain rtl  \" ><span class=\"h\"></span></span><span class=\"plain rtl  \" ><span class=\"h\">אֹור֙ </span></span></span><span class=\"plain rtl  \" ><span class=\"plain rtl  \" ><span class=\"h\">יֹ֔ום </span></span></span></span></span></span></td><td class=\"tf\"><span class=\"plain outer  rtl \"><span class=\"plain rtl  hlbx\" ><span class=\"plain rtl  \" ><span class=\"plain rtl  hl\" ><span class=\"h\">יִּקְרָ֨א </span></span></span></span></span></td><td class=\"tf\"><span class=\"plain outer  rtl  hl\" ><span class=\"h\">יִּקְרָ֨א </span></span></td><td class=\"tf\"><span class=\"plain outer  rtl \"><span class=\"plain rtl  hlbx\" ><span class=\"plain rtl  \" ><span class=\"plain rtl  hl\" ><span class=\"h\">אֱלֹהִ֤ים׀ </span></span></span></span></span></td><td class=\"tf\"><span class=\"plain outer  rtl  hl\" ><span class=\"h\">אֱלֹהִ֤ים׀ </span></span></td></tr>\n",
       "<tr class=\"tf\"><td class=\"tf\">6</td><td class=\"tf\"> <a href=\"https://shebanq.ancient-data.org/hebrew/text?book=Genesis&amp;chapter=1&amp;verse=6&amp;version=c&amp;mr=m&amp;qw=q&amp;tp=txt_p&amp;tr=hb&amp;wget=v&amp;qget=v&amp;nget=vt\" title=\"show this passage in SHEBANQ\" sec=\"Genesis 1:6\">Genesis 1:6</a></td><td class=\"tf\"><span class=\"vrs ltr\"><a href=\"https://shebanq.ancient-data.org/hebrew/text?book=Genesis&amp;chapter=1&amp;verse=6&amp;version=c&amp;mr=m&amp;qw=q&amp;tp=txt_p&amp;tr=hb&amp;wget=v&amp;qget=v&amp;nget=vt\" title=\"show this passage in SHEBANQ\" sec=\"Genesis 1:6\">Genesis 1:6</a></span><span class=\"plain outer  rtl  \" ><span class=\"plain rtl \"><span class=\"plain rtl  \" ><span class=\"plain rtl  hlbx\" ><span class=\"plain rtl  \" ><span class=\"plain rtl  \" ><span class=\"plain rtl  \" ><span class=\"h\">וַ</span></span></span><span class=\"plain rtl  hlbx\" ><span class=\"plain rtl  \" ><span class=\"plain rtl  hl\" ><span class=\"h\">יֹּ֣אמֶר </span></span></span></span><span class=\"plain rtl  hlbx\" ><span class=\"plain rtl  \" ><span class=\"plain rtl  hl\" ><span class=\"h\">אֱלֹהִ֔ים </span></span></span></span></span></span></span><span class=\"plain rtl  \" ><span class=\"plain rtl  \" ><span class=\"plain rtl  \" ><span class=\"plain rtl  \" ><span class=\"h\">יְהִ֥י </span></span></span><span class=\"plain rtl  \" ><span class=\"plain rtl  \" ><span class=\"h\">רָקִ֖יעַ </span></span></span><span class=\"plain rtl  \" ><span class=\"plain rtl  \" ><span class=\"h\">בְּ</span></span><span class=\"plain rtl  \" ><span class=\"h\">תֹ֣וךְ </span></span><span class=\"plain rtl  \" ><span class=\"h\">הַ</span></span><span class=\"plain rtl  \" ><span class=\"h\">מָּ֑יִם </span></span></span></span></span><span class=\"plain rtl  \" ><span class=\"plain rtl  \" ><span class=\"plain rtl  \" ><span class=\"plain rtl  \" ><span class=\"h\">וִ</span></span></span><span class=\"plain rtl  \" ><span class=\"plain rtl  \" ><span class=\"h\">יהִ֣י </span></span></span><span class=\"plain rtl  \" ><span class=\"plain rtl  \" ><span class=\"h\">מַבְדִּ֔יל </span></span></span><span class=\"plain rtl  \" ><span class=\"plain rtl  \" ><span class=\"h\">בֵּ֥ין </span></span><span class=\"plain rtl  \" ><span class=\"h\">מַ֖יִם </span></span></span><span class=\"plain rtl  \" ><span class=\"plain rtl  \" ><span class=\"h\">לָ</span></span><span class=\"plain rtl  \" ><span class=\"h\">מָֽיִם׃ </span></span></span></span></span></span></span></td><td class=\"tf\"><span class=\"plain outer  rtl \"><span class=\"plain rtl  hlbx\" ><span class=\"plain rtl  \" ><span class=\"plain rtl  \" ><span class=\"plain rtl  \" ><span class=\"h\">וַ</span></span></span><span class=\"plain rtl  hlbx\" ><span class=\"plain rtl  \" ><span class=\"plain rtl  hl\" ><span class=\"h\">יֹּ֣אמֶר </span></span></span></span><span class=\"plain rtl  hlbx\" ><span class=\"plain rtl  \" ><span class=\"plain rtl  hl\" ><span class=\"h\">אֱלֹהִ֔ים </span></span></span></span></span></span></span></td><td class=\"tf\"><span class=\"plain outer  rtl \"><span class=\"plain rtl  hlbx\" ><span class=\"plain rtl  \" ><span class=\"plain rtl  hl\" ><span class=\"h\">יֹּ֣אמֶר </span></span></span></span></span></td><td class=\"tf\"><span class=\"plain outer  rtl  hl\" ><span class=\"h\">יֹּ֣אמֶר </span></span></td><td class=\"tf\"><span class=\"plain outer  rtl \"><span class=\"plain rtl  hlbx\" ><span class=\"plain rtl  \" ><span class=\"plain rtl  hl\" ><span class=\"h\">אֱלֹהִ֔ים </span></span></span></span></span></td><td class=\"tf\"><span class=\"plain outer  rtl  hl\" ><span class=\"h\">אֱלֹהִ֔ים </span></span></td></tr>\n",
       "<tr class=\"tf\"><td class=\"tf\">7</td><td class=\"tf\"> <a href=\"https://shebanq.ancient-data.org/hebrew/text?book=Genesis&amp;chapter=1&amp;verse=7&amp;version=c&amp;mr=m&amp;qw=q&amp;tp=txt_p&amp;tr=hb&amp;wget=v&amp;qget=v&amp;nget=vt\" title=\"show this passage in SHEBANQ\" sec=\"Genesis 1:7\">Genesis 1:7</a></td><td class=\"tf\"><span class=\"vrs ltr\"><a href=\"https://shebanq.ancient-data.org/hebrew/text?book=Genesis&amp;chapter=1&amp;verse=7&amp;version=c&amp;mr=m&amp;qw=q&amp;tp=txt_p&amp;tr=hb&amp;wget=v&amp;qget=v&amp;nget=vt\" title=\"show this passage in SHEBANQ\" sec=\"Genesis 1:7\">Genesis 1:7</a></span><span class=\"plain outer  rtl  \" ><span class=\"plain rtl \"><span class=\"plain rtl  \" ><span class=\"plain rtl  hlbx\" ><span class=\"plain rtl  \" ><span class=\"plain rtl  \" ><span class=\"plain rtl  \" ><span class=\"h\">וַ</span></span></span><span class=\"plain rtl  hlbx\" ><span class=\"plain rtl  \" ><span class=\"plain rtl  hl\" ><span class=\"h\">יַּ֣עַשׂ </span></span></span></span><span class=\"plain rtl  hlbx\" ><span class=\"plain rtl  \" ><span class=\"plain rtl  hl\" ><span class=\"h\">אֱלֹהִים֮ </span></span></span></span><span class=\"plain rtl  \" ><span class=\"plain rtl  \" ><span class=\"h\">אֶת־</span></span><span class=\"plain rtl  \" ><span class=\"h\">הָ</span></span><span class=\"plain rtl  \" ><span class=\"h\">רָקִיעַ֒ </span></span></span></span></span></span><span class=\"plain rtl  \" ><span class=\"plain rtl  \" ><span class=\"plain rtl  \" ><span class=\"plain rtl  \" ><span class=\"h\">וַ</span></span></span><span class=\"plain rtl  \" ><span class=\"plain rtl  \" ><span class=\"h\">יַּבְדֵּ֗ל </span></span></span><span class=\"plain rtl  \" ><span class=\"plain rtl  \" ><span class=\"h\">בֵּ֤ין </span></span><span class=\"plain rtl  \" ><span class=\"h\">הַ</span></span><span class=\"plain rtl  \" ><span class=\"h\">מַּ֨יִם֙ </span></span></span></span><span class=\"plain rtl  \" ><span class=\"plain rtl  \" ><span class=\"plain rtl  \" ><span class=\"h\">אֲשֶׁר֙ </span></span></span><span class=\"plain rtl  \" ><span class=\"plain rtl  \" ><span class=\"h\">מִ</span></span><span class=\"plain rtl  \" ><span class=\"h\">תַּ֣חַת </span></span></span><span class=\"plain rtl  \" ><span class=\"plain rtl  \" ><span class=\"h\">לָ</span></span><span class=\"plain rtl  \" ><span class=\"h\"></span></span><span class=\"plain rtl  \" ><span class=\"h\">רָקִ֔יעַ </span></span></span></span><span class=\"plain rtl  \" ><span class=\"plain rtl  \" ><span class=\"plain rtl  \" ><span class=\"h\">וּ</span></span></span><span class=\"plain rtl  \" ><span class=\"plain rtl  \" ><span class=\"h\">בֵ֣ין </span></span><span class=\"plain rtl  \" ><span class=\"h\">הַ</span></span><span class=\"plain rtl  \" ><span class=\"h\">מַּ֔יִם </span></span></span></span><span class=\"plain rtl  \" ><span class=\"plain rtl  \" ><span class=\"plain rtl  \" ><span class=\"h\">אֲשֶׁ֖ר </span></span></span><span class=\"plain rtl  \" ><span class=\"plain rtl  \" ><span class=\"h\">מֵ</span></span><span class=\"plain rtl  \" ><span class=\"h\">עַ֣ל </span></span><span class=\"plain rtl  \" ><span class=\"h\">לָ</span></span><span class=\"plain rtl  \" ><span class=\"h\"></span></span><span class=\"plain rtl  \" ><span class=\"h\">רָקִ֑יעַ </span></span></span></span></span><span class=\"plain rtl  \" ><span class=\"plain rtl  \" ><span class=\"plain rtl  \" ><span class=\"plain rtl  \" ><span class=\"h\">וַֽ</span></span></span><span class=\"plain rtl  \" ><span class=\"plain rtl  \" ><span class=\"h\">יְהִי־</span></span></span><span class=\"plain rtl  \" ><span class=\"plain rtl  \" ><span class=\"h\">כֵֽן׃ </span></span></span></span></span></span></span></td><td class=\"tf\"><span class=\"plain outer  rtl \"><span class=\"plain rtl  hlbx\" ><span class=\"plain rtl  \" ><span class=\"plain rtl  \" ><span class=\"plain rtl  \" ><span class=\"h\">וַ</span></span></span><span class=\"plain rtl  hlbx\" ><span class=\"plain rtl  \" ><span class=\"plain rtl  hl\" ><span class=\"h\">יַּ֣עַשׂ </span></span></span></span><span class=\"plain rtl  hlbx\" ><span class=\"plain rtl  \" ><span class=\"plain rtl  hl\" ><span class=\"h\">אֱלֹהִים֮ </span></span></span></span><span class=\"plain rtl  \" ><span class=\"plain rtl  \" ><span class=\"h\">אֶת־</span></span><span class=\"plain rtl  \" ><span class=\"h\">הָ</span></span><span class=\"plain rtl  \" ><span class=\"h\">רָקִיעַ֒ </span></span></span></span></span></span></td><td class=\"tf\"><span class=\"plain outer  rtl \"><span class=\"plain rtl  hlbx\" ><span class=\"plain rtl  \" ><span class=\"plain rtl  hl\" ><span class=\"h\">יַּ֣עַשׂ </span></span></span></span></span></td><td class=\"tf\"><span class=\"plain outer  rtl  hl\" ><span class=\"h\">יַּ֣עַשׂ </span></span></td><td class=\"tf\"><span class=\"plain outer  rtl \"><span class=\"plain rtl  hlbx\" ><span class=\"plain rtl  \" ><span class=\"plain rtl  hl\" ><span class=\"h\">אֱלֹהִים֮ </span></span></span></span></span></td><td class=\"tf\"><span class=\"plain outer  rtl  hl\" ><span class=\"h\">אֱלֹהִים֮ </span></span></td></tr>\n",
       "<tr class=\"tf\"><td class=\"tf\">8</td><td class=\"tf\"> <a href=\"https://shebanq.ancient-data.org/hebrew/text?book=Genesis&amp;chapter=1&amp;verse=8&amp;version=c&amp;mr=m&amp;qw=q&amp;tp=txt_p&amp;tr=hb&amp;wget=v&amp;qget=v&amp;nget=vt\" title=\"show this passage in SHEBANQ\" sec=\"Genesis 1:8\">Genesis 1:8</a></td><td class=\"tf\"><span class=\"vrs ltr\"><a href=\"https://shebanq.ancient-data.org/hebrew/text?book=Genesis&amp;chapter=1&amp;verse=8&amp;version=c&amp;mr=m&amp;qw=q&amp;tp=txt_p&amp;tr=hb&amp;wget=v&amp;qget=v&amp;nget=vt\" title=\"show this passage in SHEBANQ\" sec=\"Genesis 1:8\">Genesis 1:8</a></span><span class=\"plain outer  rtl  \" ><span class=\"plain rtl \"><span class=\"plain rtl  \" ><span class=\"plain rtl  hlbx\" ><span class=\"plain rtl  \" ><span class=\"plain rtl  \" ><span class=\"plain rtl  \" ><span class=\"h\">וַ</span></span></span><span class=\"plain rtl  hlbx\" ><span class=\"plain rtl  \" ><span class=\"plain rtl  hl\" ><span class=\"h\">יִּקְרָ֧א </span></span></span></span><span class=\"plain rtl  hlbx\" ><span class=\"plain rtl  \" ><span class=\"plain rtl  hl\" ><span class=\"h\">אֱלֹהִ֛ים </span></span></span></span><span class=\"plain rtl  \" ><span class=\"plain rtl  \" ><span class=\"h\">לָֽ</span></span><span class=\"plain rtl  \" ><span class=\"h\"></span></span><span class=\"plain rtl  \" ><span class=\"h\">רָקִ֖יעַ </span></span></span><span class=\"plain rtl  \" ><span class=\"plain rtl  \" ><span class=\"h\">שָׁמָ֑יִם </span></span></span></span></span></span><span class=\"plain rtl  \" ><span class=\"plain rtl  \" ><span class=\"plain rtl  \" ><span class=\"plain rtl  \" ><span class=\"h\">וַֽ</span></span></span><span class=\"plain rtl  \" ><span class=\"plain rtl  \" ><span class=\"h\">יְהִי־</span></span></span><span class=\"plain rtl  \" ><span class=\"plain rtl  \" ><span class=\"h\">עֶ֥רֶב </span></span></span></span></span><span class=\"plain rtl  \" ><span class=\"plain rtl  \" ><span class=\"plain rtl  \" ><span class=\"plain rtl  \" ><span class=\"h\">וַֽ</span></span></span><span class=\"plain rtl  \" ><span class=\"plain rtl  \" ><span class=\"h\">יְהִי־</span></span></span><span class=\"plain rtl  \" ><span class=\"plain rtl  \" ><span class=\"h\">בֹ֖קֶר </span></span></span></span></span><span class=\"plain rtl  \" ><span class=\"plain rtl  \" ><span class=\"plain rtl  \" ><span class=\"plain rtl  \" ><span class=\"h\">יֹ֥ום </span></span><span class=\"plain rtl  \" ><span class=\"h\">שֵׁנִֽי׃ פ </span></span></span></span></span></span></span></td><td class=\"tf\"><span class=\"plain outer  rtl \"><span class=\"plain rtl  hlbx\" ><span class=\"plain rtl  \" ><span class=\"plain rtl  \" ><span class=\"plain rtl  \" ><span class=\"h\">וַ</span></span></span><span class=\"plain rtl  hlbx\" ><span class=\"plain rtl  \" ><span class=\"plain rtl  hl\" ><span class=\"h\">יִּקְרָ֧א </span></span></span></span><span class=\"plain rtl  hlbx\" ><span class=\"plain rtl  \" ><span class=\"plain rtl  hl\" ><span class=\"h\">אֱלֹהִ֛ים </span></span></span></span><span class=\"plain rtl  \" ><span class=\"plain rtl  \" ><span class=\"h\">לָֽ</span></span><span class=\"plain rtl  \" ><span class=\"h\"></span></span><span class=\"plain rtl  \" ><span class=\"h\">רָקִ֖יעַ </span></span></span><span class=\"plain rtl  \" ><span class=\"plain rtl  \" ><span class=\"h\">שָׁמָ֑יִם </span></span></span></span></span></span></td><td class=\"tf\"><span class=\"plain outer  rtl \"><span class=\"plain rtl  hlbx\" ><span class=\"plain rtl  \" ><span class=\"plain rtl  hl\" ><span class=\"h\">יִּקְרָ֧א </span></span></span></span></span></td><td class=\"tf\"><span class=\"plain outer  rtl  hl\" ><span class=\"h\">יִּקְרָ֧א </span></span></td><td class=\"tf\"><span class=\"plain outer  rtl \"><span class=\"plain rtl  hlbx\" ><span class=\"plain rtl  \" ><span class=\"plain rtl  hl\" ><span class=\"h\">אֱלֹהִ֛ים </span></span></span></span></span></td><td class=\"tf\"><span class=\"plain outer  rtl  hl\" ><span class=\"h\">אֱלֹהִ֛ים </span></span></td></tr>\n",
       "<tr class=\"tf\"><td class=\"tf\">9</td><td class=\"tf\"> <a href=\"https://shebanq.ancient-data.org/hebrew/text?book=Genesis&amp;chapter=1&amp;verse=9&amp;version=c&amp;mr=m&amp;qw=q&amp;tp=txt_p&amp;tr=hb&amp;wget=v&amp;qget=v&amp;nget=vt\" title=\"show this passage in SHEBANQ\" sec=\"Genesis 1:9\">Genesis 1:9</a></td><td class=\"tf\"><span class=\"vrs ltr\"><a href=\"https://shebanq.ancient-data.org/hebrew/text?book=Genesis&amp;chapter=1&amp;verse=9&amp;version=c&amp;mr=m&amp;qw=q&amp;tp=txt_p&amp;tr=hb&amp;wget=v&amp;qget=v&amp;nget=vt\" title=\"show this passage in SHEBANQ\" sec=\"Genesis 1:9\">Genesis 1:9</a></span><span class=\"plain outer  rtl  \" ><span class=\"plain rtl \"><span class=\"plain rtl  \" ><span class=\"plain rtl  hlbx\" ><span class=\"plain rtl  \" ><span class=\"plain rtl  \" ><span class=\"plain rtl  \" ><span class=\"h\">וַ</span></span></span><span class=\"plain rtl  hlbx\" ><span class=\"plain rtl  \" ><span class=\"plain rtl  hl\" ><span class=\"h\">יֹּ֣אמֶר </span></span></span></span><span class=\"plain rtl  hlbx\" ><span class=\"plain rtl  \" ><span class=\"plain rtl  hl\" ><span class=\"h\">אֱלֹהִ֗ים </span></span></span></span></span></span></span><span class=\"plain rtl  \" ><span class=\"plain rtl  \" ><span class=\"plain rtl  \" ><span class=\"plain rtl  \" ><span class=\"h\">יִקָּו֨וּ </span></span></span><span class=\"plain rtl  \" ><span class=\"plain rtl  \" ><span class=\"h\">הַ</span></span><span class=\"plain rtl  \" ><span class=\"h\">מַּ֜יִם </span></span></span><span class=\"plain rtl  \" ><span class=\"plain rtl  \" ><span class=\"h\">מִ</span></span><span class=\"plain rtl  \" ><span class=\"h\">תַּ֤חַת </span></span><span class=\"plain rtl  \" ><span class=\"h\">הַ</span></span><span class=\"plain rtl  \" ><span class=\"h\">שָּׁמַ֨יִם֙ </span></span></span><span class=\"plain rtl  \" ><span class=\"plain rtl  \" ><span class=\"h\">אֶל־</span></span><span class=\"plain rtl  \" ><span class=\"h\">מָקֹ֣ום </span></span><span class=\"plain rtl  \" ><span class=\"h\">אֶחָ֔ד </span></span></span></span></span><span class=\"plain rtl  \" ><span class=\"plain rtl  \" ><span class=\"plain rtl  \" ><span class=\"plain rtl  \" ><span class=\"h\">וְ</span></span></span><span class=\"plain rtl  \" ><span class=\"plain rtl  \" ><span class=\"h\">תֵרָאֶ֖ה </span></span></span><span class=\"plain rtl  \" ><span class=\"plain rtl  \" ><span class=\"h\">הַ</span></span><span class=\"plain rtl  \" ><span class=\"h\">יַּבָּשָׁ֑ה </span></span></span></span></span><span class=\"plain rtl  \" ><span class=\"plain rtl  \" ><span class=\"plain rtl  \" ><span class=\"plain rtl  \" ><span class=\"h\">וַֽ</span></span></span><span class=\"plain rtl  \" ><span class=\"plain rtl  \" ><span class=\"h\">יְהִי־</span></span></span><span class=\"plain rtl  \" ><span class=\"plain rtl  \" ><span class=\"h\">כֵֽן׃ </span></span></span></span></span></span></span></td><td class=\"tf\"><span class=\"plain outer  rtl \"><span class=\"plain rtl  hlbx\" ><span class=\"plain rtl  \" ><span class=\"plain rtl  \" ><span class=\"plain rtl  \" ><span class=\"h\">וַ</span></span></span><span class=\"plain rtl  hlbx\" ><span class=\"plain rtl  \" ><span class=\"plain rtl  hl\" ><span class=\"h\">יֹּ֣אמֶר </span></span></span></span><span class=\"plain rtl  hlbx\" ><span class=\"plain rtl  \" ><span class=\"plain rtl  hl\" ><span class=\"h\">אֱלֹהִ֗ים </span></span></span></span></span></span></span></td><td class=\"tf\"><span class=\"plain outer  rtl \"><span class=\"plain rtl  hlbx\" ><span class=\"plain rtl  \" ><span class=\"plain rtl  hl\" ><span class=\"h\">יֹּ֣אמֶר </span></span></span></span></span></td><td class=\"tf\"><span class=\"plain outer  rtl  hl\" ><span class=\"h\">יֹּ֣אמֶר </span></span></td><td class=\"tf\"><span class=\"plain outer  rtl \"><span class=\"plain rtl  hlbx\" ><span class=\"plain rtl  \" ><span class=\"plain rtl  hl\" ><span class=\"h\">אֱלֹהִ֗ים </span></span></span></span></span></td><td class=\"tf\"><span class=\"plain outer  rtl  hl\" ><span class=\"h\">אֱלֹהִ֗ים </span></span></td></tr>\n",
       "<tr class=\"tf\"><td class=\"tf\">10</td><td class=\"tf\"> <a href=\"https://shebanq.ancient-data.org/hebrew/text?book=Genesis&amp;chapter=1&amp;verse=10&amp;version=c&amp;mr=m&amp;qw=q&amp;tp=txt_p&amp;tr=hb&amp;wget=v&amp;qget=v&amp;nget=vt\" title=\"show this passage in SHEBANQ\" sec=\"Genesis 1:10\">Genesis 1:10</a></td><td class=\"tf\"><span class=\"vrs ltr\"><a href=\"https://shebanq.ancient-data.org/hebrew/text?book=Genesis&amp;chapter=1&amp;verse=10&amp;version=c&amp;mr=m&amp;qw=q&amp;tp=txt_p&amp;tr=hb&amp;wget=v&amp;qget=v&amp;nget=vt\" title=\"show this passage in SHEBANQ\" sec=\"Genesis 1:10\">Genesis 1:10</a></span><span class=\"plain outer  rtl  \" ><span class=\"plain rtl \"><span class=\"plain rtl  \" ><span class=\"plain rtl  hlbx\" ><span class=\"plain rtl  \" ><span class=\"plain rtl  \" ><span class=\"plain rtl  \" ><span class=\"h\">וַ</span></span></span><span class=\"plain rtl  hlbx\" ><span class=\"plain rtl  \" ><span class=\"plain rtl  hl\" ><span class=\"h\">יִּקְרָ֨א </span></span></span></span><span class=\"plain rtl  hlbx\" ><span class=\"plain rtl  \" ><span class=\"plain rtl  hl\" ><span class=\"h\">אֱלֹהִ֤ים׀ </span></span></span></span><span class=\"plain rtl  \" ><span class=\"plain rtl  \" ><span class=\"h\">לַ</span></span><span class=\"plain rtl  \" ><span class=\"h\"></span></span><span class=\"plain rtl  \" ><span class=\"h\">יַּבָּשָׁה֙ </span></span></span><span class=\"plain rtl  \" ><span class=\"plain rtl  \" ><span class=\"h\">אֶ֔רֶץ </span></span></span></span></span></span><span class=\"plain rtl  \" ><span class=\"plain rtl  \" ><span class=\"plain rtl  \" ><span class=\"plain rtl  \" ><span class=\"h\">וּ</span></span></span><span class=\"plain rtl  \" ><span class=\"plain rtl  \" ><span class=\"h\">לְ</span></span><span class=\"plain rtl  \" ><span class=\"h\">מִקְוֵ֥ה </span></span><span class=\"plain rtl  \" ><span class=\"h\">הַ</span></span><span class=\"plain rtl  \" ><span class=\"h\">מַּ֖יִם </span></span></span><span class=\"plain rtl  \" ><span class=\"plain rtl  \" ><span class=\"h\">קָרָ֣א </span></span></span><span class=\"plain rtl  \" ><span class=\"plain rtl  \" ><span class=\"h\">יַמִּ֑ים </span></span></span></span></span><span class=\"plain rtl  \" ><span class=\"plain rtl  \" ><span class=\"plain rtl  \" ><span class=\"plain rtl  \" ><span class=\"h\">וַ</span></span></span><span class=\"plain rtl  \" ><span class=\"plain rtl  \" ><span class=\"h\">יַּ֥רְא </span></span></span><span class=\"plain rtl  \" ><span class=\"plain rtl  \" ><span class=\"h\">אֱלֹהִ֖ים </span></span></span></span><span class=\"plain rtl  \" ><span class=\"plain rtl  \" ><span class=\"plain rtl  \" ><span class=\"h\">כִּי־</span></span></span><span class=\"plain rtl  \" ><span class=\"plain rtl  \" ><span class=\"h\">טֹֽוב׃ </span></span></span></span></span></span></span></td><td class=\"tf\"><span class=\"plain outer  rtl \"><span class=\"plain rtl  hlbx\" ><span class=\"plain rtl  \" ><span class=\"plain rtl  \" ><span class=\"plain rtl  \" ><span class=\"h\">וַ</span></span></span><span class=\"plain rtl  hlbx\" ><span class=\"plain rtl  \" ><span class=\"plain rtl  hl\" ><span class=\"h\">יִּקְרָ֨א </span></span></span></span><span class=\"plain rtl  hlbx\" ><span class=\"plain rtl  \" ><span class=\"plain rtl  hl\" ><span class=\"h\">אֱלֹהִ֤ים׀ </span></span></span></span><span class=\"plain rtl  \" ><span class=\"plain rtl  \" ><span class=\"h\">לַ</span></span><span class=\"plain rtl  \" ><span class=\"h\"></span></span><span class=\"plain rtl  \" ><span class=\"h\">יַּבָּשָׁה֙ </span></span></span><span class=\"plain rtl  \" ><span class=\"plain rtl  \" ><span class=\"h\">אֶ֔רֶץ </span></span></span></span></span></span></td><td class=\"tf\"><span class=\"plain outer  rtl \"><span class=\"plain rtl  hlbx\" ><span class=\"plain rtl  \" ><span class=\"plain rtl  hl\" ><span class=\"h\">יִּקְרָ֨א </span></span></span></span></span></td><td class=\"tf\"><span class=\"plain outer  rtl  hl\" ><span class=\"h\">יִּקְרָ֨א </span></span></td><td class=\"tf\"><span class=\"plain outer  rtl \"><span class=\"plain rtl  hlbx\" ><span class=\"plain rtl  \" ><span class=\"plain rtl  hl\" ><span class=\"h\">אֱלֹהִ֤ים׀ </span></span></span></span></span></td><td class=\"tf\"><span class=\"plain outer  rtl  hl\" ><span class=\"h\">אֱלֹהִ֤ים׀ </span></span></td></tr></table>"
      ],
      "text/plain": [
       "<IPython.core.display.HTML object>"
      ]
     },
     "metadata": {},
     "output_type": "display_data"
    }
   ],
   "source": [
    "A.table(results1, start=1, end=10)"
   ]
  },
  {
   "cell_type": "markdown",
   "metadata": {},
   "source": [
    "Now we want to restrict results to ordinary chapters:"
   ]
  },
  {
   "cell_type": "code",
   "execution_count": 16,
   "metadata": {},
   "outputs": [],
   "source": [
    "query2 = '''\n",
    "ochapter\n",
    "  verse\n",
    "    clause\n",
    "      phrase function=Pred\n",
    "        word pdp=verb nu=sg\n",
    "      phrase function=Subj\n",
    "        =: word pdp=subs nu=pl\n",
    "        :=\n",
    "'''"
   ]
  },
  {
   "cell_type": "markdown",
   "metadata": {},
   "source": [
    "Note that we use the name of a set here: `ochapter`. \n",
    "It is not a known node type in the BHSA, so we have to tell it what it means.\n",
    "We do that by passing a dictionary of custom sets.\n",
    "The keys are the names of the sets, which are the values.\n",
    "\n",
    "Then we may use those keys in queries, everywhere where a node type is expected."
   ]
  },
  {
   "cell_type": "code",
   "execution_count": 17,
   "metadata": {},
   "outputs": [
    {
     "name": "stdout",
     "output_type": "stream",
     "text": [
      "  1.74s 7 results\n"
     ]
    }
   ],
   "source": [
    "results2 = A.search(query2, sets=sets)"
   ]
  },
  {
   "cell_type": "code",
   "execution_count": 18,
   "metadata": {},
   "outputs": [
    {
     "data": {
      "text/html": [
       "<table>\n",
       "<tr class=\"tf\">\n",
       "  <th class=\"tf\">n</th><th class=\"tf\">p</th>\n",
       "  <th class=\"tf\">chapter</th><th>verse</th><th>clause</th><th>phrase</th><th>word</th><th>phrase</th><th>word</th>\n",
       "</tr>\n",
       "\n",
       "<tr class=\"tf\"><td class=\"tf\">1</td><td class=\"tf\"> <a href=\"https://shebanq.ancient-data.org/hebrew/text?book=Psalmi&amp;chapter=47&amp;verse=6&amp;version=c&amp;mr=m&amp;qw=q&amp;tp=txt_p&amp;tr=hb&amp;wget=v&amp;qget=v&amp;nget=vt\" title=\"show this passage in SHEBANQ\" sec=\"Psalms 47:6\">Psalms 47:6</a></td><td class=\"tf\"><a href=\"https://shebanq.ancient-data.org/hebrew/text?book=Psalmi&amp;chapter=47&amp;verse=1&amp;version=c&amp;mr=m&amp;qw=q&amp;tp=txt_p&amp;tr=hb&amp;wget=v&amp;qget=v&amp;nget=vt\" title=\"show this passage in SHEBANQ\" sec=\"Psalms 47\">Psalms 47</a>&nbsp;</td><td class=\"tf\"><span class=\"vrs ltr\"><a href=\"https://shebanq.ancient-data.org/hebrew/text?book=Psalmi&amp;chapter=47&amp;verse=6&amp;version=c&amp;mr=m&amp;qw=q&amp;tp=txt_p&amp;tr=hb&amp;wget=v&amp;qget=v&amp;nget=vt\" title=\"show this passage in SHEBANQ\" sec=\"Psalms 47:6\">Psalms 47:6</a></span><span class=\"plain outer  rtl  \" ><span class=\"plain rtl \"><span class=\"plain rtl  \" ><span class=\"plain rtl  hlbx\" ><span class=\"plain rtl  \" ><span class=\"plain rtl  hlbx\" ><span class=\"plain rtl  \" ><span class=\"plain rtl  hl\" ><span class=\"h\">עָלָ֣ה </span></span></span></span><span class=\"plain rtl  hlbx\" ><span class=\"plain rtl  \" ><span class=\"plain rtl  hl\" ><span class=\"h\">אֱ֭לֹהִים </span></span></span></span><span class=\"plain rtl  \" ><span class=\"plain rtl  \" ><span class=\"h\">בִּ</span></span><span class=\"plain rtl  \" ><span class=\"h\">תְרוּעָ֑ה </span></span></span></span></span><span class=\"plain rtl  \" ><span class=\"plain rtl  \" ><span class=\"plain rtl  \" ><span class=\"h\">יְ֝הֹוָ֗ה </span></span></span><span class=\"plain rtl  \" ><span class=\"plain rtl  \" ><span class=\"h\">בְּ</span></span><span class=\"plain rtl  \" ><span class=\"h\">קֹ֣ול </span></span><span class=\"plain rtl  \" ><span class=\"h\">שֹׁופָֽר׃ </span></span></span></span></span></span></span></td><td class=\"tf\"><span class=\"plain outer  rtl \"><span class=\"plain rtl  hlbx\" ><span class=\"plain rtl  \" ><span class=\"plain rtl  hlbx\" ><span class=\"plain rtl  \" ><span class=\"plain rtl  hl\" ><span class=\"h\">עָלָ֣ה </span></span></span></span><span class=\"plain rtl  hlbx\" ><span class=\"plain rtl  \" ><span class=\"plain rtl  hl\" ><span class=\"h\">אֱ֭לֹהִים </span></span></span></span><span class=\"plain rtl  \" ><span class=\"plain rtl  \" ><span class=\"h\">בִּ</span></span><span class=\"plain rtl  \" ><span class=\"h\">תְרוּעָ֑ה </span></span></span></span></span></span></td><td class=\"tf\"><span class=\"plain outer  rtl \"><span class=\"plain rtl  hlbx\" ><span class=\"plain rtl  \" ><span class=\"plain rtl  hl\" ><span class=\"h\">עָלָ֣ה </span></span></span></span></span></td><td class=\"tf\"><span class=\"plain outer  rtl  hl\" ><span class=\"h\">עָלָ֣ה </span></span></td><td class=\"tf\"><span class=\"plain outer  rtl \"><span class=\"plain rtl  hlbx\" ><span class=\"plain rtl  \" ><span class=\"plain rtl  hl\" ><span class=\"h\">אֱ֭לֹהִים </span></span></span></span></span></td><td class=\"tf\"><span class=\"plain outer  rtl  hl\" ><span class=\"h\">אֱ֭לֹהִים </span></span></td></tr>\n",
       "<tr class=\"tf\"><td class=\"tf\">2</td><td class=\"tf\"> <a href=\"https://shebanq.ancient-data.org/hebrew/text?book=Psalmi&amp;chapter=47&amp;verse=9&amp;version=c&amp;mr=m&amp;qw=q&amp;tp=txt_p&amp;tr=hb&amp;wget=v&amp;qget=v&amp;nget=vt\" title=\"show this passage in SHEBANQ\" sec=\"Psalms 47:9\">Psalms 47:9</a></td><td class=\"tf\"><a href=\"https://shebanq.ancient-data.org/hebrew/text?book=Psalmi&amp;chapter=47&amp;verse=1&amp;version=c&amp;mr=m&amp;qw=q&amp;tp=txt_p&amp;tr=hb&amp;wget=v&amp;qget=v&amp;nget=vt\" title=\"show this passage in SHEBANQ\" sec=\"Psalms 47\">Psalms 47</a>&nbsp;</td><td class=\"tf\"><span class=\"vrs ltr\"><a href=\"https://shebanq.ancient-data.org/hebrew/text?book=Psalmi&amp;chapter=47&amp;verse=9&amp;version=c&amp;mr=m&amp;qw=q&amp;tp=txt_p&amp;tr=hb&amp;wget=v&amp;qget=v&amp;nget=vt\" title=\"show this passage in SHEBANQ\" sec=\"Psalms 47:9\">Psalms 47:9</a></span><span class=\"plain outer  rtl  \" ><span class=\"plain rtl \"><span class=\"plain rtl  \" ><span class=\"plain rtl  hlbx\" ><span class=\"plain rtl  \" ><span class=\"plain rtl  hlbx\" ><span class=\"plain rtl  \" ><span class=\"plain rtl  hl\" ><span class=\"h\">מָלַ֣ךְ </span></span></span></span><span class=\"plain rtl  hlbx\" ><span class=\"plain rtl  \" ><span class=\"plain rtl  hl\" ><span class=\"h\">אֱ֭לֹהִים </span></span></span></span><span class=\"plain rtl  \" ><span class=\"plain rtl  \" ><span class=\"h\">עַל־</span></span><span class=\"plain rtl  \" ><span class=\"h\">גֹּויִ֑ם </span></span></span></span></span></span><span class=\"plain rtl  \" ><span class=\"plain rtl  \" ><span class=\"plain rtl  \" ><span class=\"plain rtl  \" ><span class=\"h\">אֱ֝לֹהִ֗ים </span></span></span><span class=\"plain rtl  \" ><span class=\"plain rtl  \" ><span class=\"h\">יָשַׁ֤ב׀ </span></span></span><span class=\"plain rtl  \" ><span class=\"plain rtl  \" ><span class=\"h\">עַל־</span></span><span class=\"plain rtl  \" ><span class=\"h\">כִּסֵּ֬א </span></span><span class=\"plain rtl  \" ><span class=\"h\">קָדְשֹֽׁו׃ </span></span></span></span></span></span></span></td><td class=\"tf\"><span class=\"plain outer  rtl \"><span class=\"plain rtl  hlbx\" ><span class=\"plain rtl  \" ><span class=\"plain rtl  hlbx\" ><span class=\"plain rtl  \" ><span class=\"plain rtl  hl\" ><span class=\"h\">מָלַ֣ךְ </span></span></span></span><span class=\"plain rtl  hlbx\" ><span class=\"plain rtl  \" ><span class=\"plain rtl  hl\" ><span class=\"h\">אֱ֭לֹהִים </span></span></span></span><span class=\"plain rtl  \" ><span class=\"plain rtl  \" ><span class=\"h\">עַל־</span></span><span class=\"plain rtl  \" ><span class=\"h\">גֹּויִ֑ם </span></span></span></span></span></span></td><td class=\"tf\"><span class=\"plain outer  rtl \"><span class=\"plain rtl  hlbx\" ><span class=\"plain rtl  \" ><span class=\"plain rtl  hl\" ><span class=\"h\">מָלַ֣ךְ </span></span></span></span></span></td><td class=\"tf\"><span class=\"plain outer  rtl  hl\" ><span class=\"h\">מָלַ֣ךְ </span></span></td><td class=\"tf\"><span class=\"plain outer  rtl \"><span class=\"plain rtl  hlbx\" ><span class=\"plain rtl  \" ><span class=\"plain rtl  hl\" ><span class=\"h\">אֱ֭לֹהִים </span></span></span></span></span></td><td class=\"tf\"><span class=\"plain outer  rtl  hl\" ><span class=\"h\">אֱ֭לֹהִים </span></span></td></tr>\n",
       "<tr class=\"tf\"><td class=\"tf\">3</td><td class=\"tf\"> <a href=\"https://shebanq.ancient-data.org/hebrew/text?book=Psalmi&amp;chapter=47&amp;verse=9&amp;version=c&amp;mr=m&amp;qw=q&amp;tp=txt_p&amp;tr=hb&amp;wget=v&amp;qget=v&amp;nget=vt\" title=\"show this passage in SHEBANQ\" sec=\"Psalms 47:9\">Psalms 47:9</a></td><td class=\"tf\"><a href=\"https://shebanq.ancient-data.org/hebrew/text?book=Psalmi&amp;chapter=47&amp;verse=1&amp;version=c&amp;mr=m&amp;qw=q&amp;tp=txt_p&amp;tr=hb&amp;wget=v&amp;qget=v&amp;nget=vt\" title=\"show this passage in SHEBANQ\" sec=\"Psalms 47\">Psalms 47</a>&nbsp;</td><td class=\"tf\"><span class=\"vrs ltr\"><a href=\"https://shebanq.ancient-data.org/hebrew/text?book=Psalmi&amp;chapter=47&amp;verse=9&amp;version=c&amp;mr=m&amp;qw=q&amp;tp=txt_p&amp;tr=hb&amp;wget=v&amp;qget=v&amp;nget=vt\" title=\"show this passage in SHEBANQ\" sec=\"Psalms 47:9\">Psalms 47:9</a></span><span class=\"plain outer  rtl  \" ><span class=\"plain rtl \"><span class=\"plain rtl  \" ><span class=\"plain rtl  \" ><span class=\"plain rtl  \" ><span class=\"plain rtl  \" ><span class=\"h\">מָלַ֣ךְ </span></span></span><span class=\"plain rtl  \" ><span class=\"plain rtl  \" ><span class=\"h\">אֱ֭לֹהִים </span></span></span><span class=\"plain rtl  \" ><span class=\"plain rtl  \" ><span class=\"h\">עַל־</span></span><span class=\"plain rtl  \" ><span class=\"h\">גֹּויִ֑ם </span></span></span></span></span><span class=\"plain rtl  \" ><span class=\"plain rtl  hlbx\" ><span class=\"plain rtl  \" ><span class=\"plain rtl  hlbx\" ><span class=\"plain rtl  \" ><span class=\"plain rtl  hl\" ><span class=\"h\">אֱ֝לֹהִ֗ים </span></span></span></span><span class=\"plain rtl  hlbx\" ><span class=\"plain rtl  \" ><span class=\"plain rtl  hl\" ><span class=\"h\">יָשַׁ֤ב׀ </span></span></span></span><span class=\"plain rtl  \" ><span class=\"plain rtl  \" ><span class=\"h\">עַל־</span></span><span class=\"plain rtl  \" ><span class=\"h\">כִּסֵּ֬א </span></span><span class=\"plain rtl  \" ><span class=\"h\">קָדְשֹֽׁו׃ </span></span></span></span></span></span></span></span></td><td class=\"tf\"><span class=\"plain outer  rtl \"><span class=\"plain rtl  hlbx\" ><span class=\"plain rtl  \" ><span class=\"plain rtl  hlbx\" ><span class=\"plain rtl  \" ><span class=\"plain rtl  hl\" ><span class=\"h\">אֱ֝לֹהִ֗ים </span></span></span></span><span class=\"plain rtl  hlbx\" ><span class=\"plain rtl  \" ><span class=\"plain rtl  hl\" ><span class=\"h\">יָשַׁ֤ב׀ </span></span></span></span><span class=\"plain rtl  \" ><span class=\"plain rtl  \" ><span class=\"h\">עַל־</span></span><span class=\"plain rtl  \" ><span class=\"h\">כִּסֵּ֬א </span></span><span class=\"plain rtl  \" ><span class=\"h\">קָדְשֹֽׁו׃ </span></span></span></span></span></span></td><td class=\"tf\"><span class=\"plain outer  rtl \"><span class=\"plain rtl  hlbx\" ><span class=\"plain rtl  \" ><span class=\"plain rtl  hl\" ><span class=\"h\">יָשַׁ֤ב׀ </span></span></span></span></span></td><td class=\"tf\"><span class=\"plain outer  rtl  hl\" ><span class=\"h\">יָשַׁ֤ב׀ </span></span></td><td class=\"tf\"><span class=\"plain outer  rtl \"><span class=\"plain rtl  hlbx\" ><span class=\"plain rtl  \" ><span class=\"plain rtl  hl\" ><span class=\"h\">אֱ֝לֹהִ֗ים </span></span></span></span></span></td><td class=\"tf\"><span class=\"plain outer  rtl  hl\" ><span class=\"h\">אֱ֝לֹהִ֗ים </span></span></td></tr>\n",
       "<tr class=\"tf\"><td class=\"tf\">4</td><td class=\"tf\"> <a href=\"https://shebanq.ancient-data.org/hebrew/text?book=Psalmi&amp;chapter=53&amp;verse=3&amp;version=c&amp;mr=m&amp;qw=q&amp;tp=txt_p&amp;tr=hb&amp;wget=v&amp;qget=v&amp;nget=vt\" title=\"show this passage in SHEBANQ\" sec=\"Psalms 53:3\">Psalms 53:3</a></td><td class=\"tf\"><a href=\"https://shebanq.ancient-data.org/hebrew/text?book=Psalmi&amp;chapter=53&amp;verse=1&amp;version=c&amp;mr=m&amp;qw=q&amp;tp=txt_p&amp;tr=hb&amp;wget=v&amp;qget=v&amp;nget=vt\" title=\"show this passage in SHEBANQ\" sec=\"Psalms 53\">Psalms 53</a>&nbsp;</td><td class=\"tf\"><span class=\"vrs ltr\"><a href=\"https://shebanq.ancient-data.org/hebrew/text?book=Psalmi&amp;chapter=53&amp;verse=3&amp;version=c&amp;mr=m&amp;qw=q&amp;tp=txt_p&amp;tr=hb&amp;wget=v&amp;qget=v&amp;nget=vt\" title=\"show this passage in SHEBANQ\" sec=\"Psalms 53:3\">Psalms 53:3</a></span><span class=\"plain outer  rtl  \" ><span class=\"plain rtl \"><span class=\"plain rtl  \" ><span class=\"plain rtl  hlbx\" ><span class=\"plain rtl  \" ><span class=\"plain rtl  hlbx\" ><span class=\"plain rtl  \" ><span class=\"plain rtl  hl\" ><span class=\"h\">אֱֽלֹהִ֗ים </span></span></span></span><span class=\"plain rtl  \" ><span class=\"plain rtl  \" ><span class=\"h\">מִ</span></span><span class=\"plain rtl  \" ><span class=\"h\">שָּׁמַיִם֮ </span></span></span><span class=\"plain rtl  hlbx\" ><span class=\"plain rtl  \" ><span class=\"plain rtl  hl\" ><span class=\"h\">הִשְׁקִ֪יף </span></span></span></span><span class=\"plain rtl  \" ><span class=\"plain rtl  \" ><span class=\"h\">עַֽל־</span></span><span class=\"plain rtl  \" ><span class=\"h\">בְּנֵ֫י </span></span><span class=\"plain rtl  \" ><span class=\"h\">אָדָ֥ם </span></span></span></span></span><span class=\"plain rtl  \" ><span class=\"plain rtl  \" ><span class=\"plain rtl  \" ><span class=\"h\">לִ֭</span></span><span class=\"plain rtl  \" ><span class=\"h\">רְאֹות </span></span></span></span><span class=\"plain rtl  \" ><span class=\"plain rtl  \" ><span class=\"plain rtl  \" ><span class=\"h\">הֲ</span></span></span><span class=\"plain rtl  \" ><span class=\"plain rtl  \" ><span class=\"h\">יֵ֣שׁ </span></span></span><span class=\"plain rtl  \" ><span class=\"plain rtl  \" ><span class=\"h\">מַשְׂכִּ֑יל </span></span></span></span><span class=\"plain rtl  \" ><span class=\"plain rtl  \" ><span class=\"plain rtl  \" ><span class=\"h\">דֹּ֝רֵ֗שׁ </span></span></span><span class=\"plain rtl  \" ><span class=\"plain rtl  \" ><span class=\"h\">אֶת־</span></span><span class=\"plain rtl  \" ><span class=\"h\">אֱלֹהִֽים׃ </span></span></span></span></span></span></span></td><td class=\"tf\"><span class=\"plain outer  rtl \"><span class=\"plain rtl  hlbx\" ><span class=\"plain rtl  \" ><span class=\"plain rtl  hlbx\" ><span class=\"plain rtl  \" ><span class=\"plain rtl  hl\" ><span class=\"h\">אֱֽלֹהִ֗ים </span></span></span></span><span class=\"plain rtl  \" ><span class=\"plain rtl  \" ><span class=\"h\">מִ</span></span><span class=\"plain rtl  \" ><span class=\"h\">שָּׁמַיִם֮ </span></span></span><span class=\"plain rtl  hlbx\" ><span class=\"plain rtl  \" ><span class=\"plain rtl  hl\" ><span class=\"h\">הִשְׁקִ֪יף </span></span></span></span><span class=\"plain rtl  \" ><span class=\"plain rtl  \" ><span class=\"h\">עַֽל־</span></span><span class=\"plain rtl  \" ><span class=\"h\">בְּנֵ֫י </span></span><span class=\"plain rtl  \" ><span class=\"h\">אָדָ֥ם </span></span></span></span></span></span></td><td class=\"tf\"><span class=\"plain outer  rtl \"><span class=\"plain rtl  hlbx\" ><span class=\"plain rtl  \" ><span class=\"plain rtl  hl\" ><span class=\"h\">הִשְׁקִ֪יף </span></span></span></span></span></td><td class=\"tf\"><span class=\"plain outer  rtl  hl\" ><span class=\"h\">הִשְׁקִ֪יף </span></span></td><td class=\"tf\"><span class=\"plain outer  rtl \"><span class=\"plain rtl  hlbx\" ><span class=\"plain rtl  \" ><span class=\"plain rtl  hl\" ><span class=\"h\">אֱֽלֹהִ֗ים </span></span></span></span></span></td><td class=\"tf\"><span class=\"plain outer  rtl  hl\" ><span class=\"h\">אֱֽלֹהִ֗ים </span></span></td></tr>\n",
       "<tr class=\"tf\"><td class=\"tf\">5</td><td class=\"tf\"> <a href=\"https://shebanq.ancient-data.org/hebrew/text?book=Psalmi&amp;chapter=53&amp;verse=6&amp;version=c&amp;mr=m&amp;qw=q&amp;tp=txt_p&amp;tr=hb&amp;wget=v&amp;qget=v&amp;nget=vt\" title=\"show this passage in SHEBANQ\" sec=\"Psalms 53:6\">Psalms 53:6</a></td><td class=\"tf\"><a href=\"https://shebanq.ancient-data.org/hebrew/text?book=Psalmi&amp;chapter=53&amp;verse=1&amp;version=c&amp;mr=m&amp;qw=q&amp;tp=txt_p&amp;tr=hb&amp;wget=v&amp;qget=v&amp;nget=vt\" title=\"show this passage in SHEBANQ\" sec=\"Psalms 53\">Psalms 53</a>&nbsp;</td><td class=\"tf\"><span class=\"vrs ltr\"><a href=\"https://shebanq.ancient-data.org/hebrew/text?book=Psalmi&amp;chapter=53&amp;verse=6&amp;version=c&amp;mr=m&amp;qw=q&amp;tp=txt_p&amp;tr=hb&amp;wget=v&amp;qget=v&amp;nget=vt\" title=\"show this passage in SHEBANQ\" sec=\"Psalms 53:6\">Psalms 53:6</a></span><span class=\"plain outer  rtl  \" ><span class=\"plain rtl \"><span class=\"plain rtl  \" ><span class=\"plain rtl  \" ><span class=\"plain rtl  \" ><span class=\"plain rtl  \" ><span class=\"h\">שָׁ֤ם׀ </span></span></span><span class=\"plain rtl  \" ><span class=\"plain rtl  \" ><span class=\"h\">פָּֽחֲדוּ־</span></span></span><span class=\"plain rtl  \" ><span class=\"plain rtl  \" ><span class=\"h\">פַחַד֮ </span></span></span></span></span><span class=\"plain rtl  \" ><span class=\"plain rtl  \" ><span class=\"plain rtl  \" ><span class=\"plain rtl  \" ><span class=\"h\">לֹא־</span></span></span><span class=\"plain rtl  \" ><span class=\"plain rtl  \" ><span class=\"h\">הָ֪יָה֫ </span></span></span><span class=\"plain rtl  \" ><span class=\"plain rtl  \" ><span class=\"h\">פָ֥חַד </span></span></span></span></span><span class=\"plain rtl  \" ><span class=\"plain rtl  hlbx\" ><span class=\"plain rtl  \" ><span class=\"plain rtl  \" ><span class=\"plain rtl  \" ><span class=\"h\">כִּֽי־</span></span></span><span class=\"plain rtl  hlbx\" ><span class=\"plain rtl  \" ><span class=\"plain rtl  hl\" ><span class=\"h\">אֱלֹהִ֗ים </span></span></span></span><span class=\"plain rtl  hlbx\" ><span class=\"plain rtl  \" ><span class=\"plain rtl  hl\" ><span class=\"h\">פִּ֭זַּר </span></span></span></span><span class=\"plain rtl  \" ><span class=\"plain rtl  \" ><span class=\"h\">עַצְמֹ֣ות </span></span><span class=\"plain rtl  \" ><span class=\"h\">חֹנָ֑ךְ </span></span></span></span></span></span><span class=\"plain rtl  \" ><span class=\"plain rtl  \" ><span class=\"plain rtl  \" ><span class=\"plain rtl  \" ><span class=\"h\">הֱ֝בִשֹׁ֗תָה </span></span></span></span></span><span class=\"plain rtl  \" ><span class=\"plain rtl  \" ><span class=\"plain rtl  \" ><span class=\"plain rtl  \" ><span class=\"h\">כִּֽי־</span></span></span><span class=\"plain rtl  \" ><span class=\"plain rtl  \" ><span class=\"h\">אֱלֹהִ֥ים </span></span></span><span class=\"plain rtl  \" ><span class=\"plain rtl  \" ><span class=\"h\">מְאָסָֽם׃ </span></span></span></span></span></span></span></td><td class=\"tf\"><span class=\"plain outer  rtl \"><span class=\"plain rtl  hlbx\" ><span class=\"plain rtl  \" ><span class=\"plain rtl  \" ><span class=\"plain rtl  \" ><span class=\"h\">כִּֽי־</span></span></span><span class=\"plain rtl  hlbx\" ><span class=\"plain rtl  \" ><span class=\"plain rtl  hl\" ><span class=\"h\">אֱלֹהִ֗ים </span></span></span></span><span class=\"plain rtl  hlbx\" ><span class=\"plain rtl  \" ><span class=\"plain rtl  hl\" ><span class=\"h\">פִּ֭זַּר </span></span></span></span><span class=\"plain rtl  \" ><span class=\"plain rtl  \" ><span class=\"h\">עַצְמֹ֣ות </span></span><span class=\"plain rtl  \" ><span class=\"h\">חֹנָ֑ךְ </span></span></span></span></span></span></td><td class=\"tf\"><span class=\"plain outer  rtl \"><span class=\"plain rtl  hlbx\" ><span class=\"plain rtl  \" ><span class=\"plain rtl  hl\" ><span class=\"h\">פִּ֭זַּר </span></span></span></span></span></td><td class=\"tf\"><span class=\"plain outer  rtl  hl\" ><span class=\"h\">פִּ֭זַּר </span></span></td><td class=\"tf\"><span class=\"plain outer  rtl \"><span class=\"plain rtl  hlbx\" ><span class=\"plain rtl  \" ><span class=\"plain rtl  hl\" ><span class=\"h\">אֱלֹהִ֗ים </span></span></span></span></span></td><td class=\"tf\"><span class=\"plain outer  rtl  hl\" ><span class=\"h\">אֱלֹהִ֗ים </span></span></td></tr>\n",
       "<tr class=\"tf\"><td class=\"tf\">6</td><td class=\"tf\"> <a href=\"https://shebanq.ancient-data.org/hebrew/text?book=Psalmi&amp;chapter=70&amp;verse=5&amp;version=c&amp;mr=m&amp;qw=q&amp;tp=txt_p&amp;tr=hb&amp;wget=v&amp;qget=v&amp;nget=vt\" title=\"show this passage in SHEBANQ\" sec=\"Psalms 70:5\">Psalms 70:5</a></td><td class=\"tf\"><a href=\"https://shebanq.ancient-data.org/hebrew/text?book=Psalmi&amp;chapter=70&amp;verse=1&amp;version=c&amp;mr=m&amp;qw=q&amp;tp=txt_p&amp;tr=hb&amp;wget=v&amp;qget=v&amp;nget=vt\" title=\"show this passage in SHEBANQ\" sec=\"Psalms 70\">Psalms 70</a>&nbsp;</td><td class=\"tf\"><span class=\"vrs ltr\"><a href=\"https://shebanq.ancient-data.org/hebrew/text?book=Psalmi&amp;chapter=70&amp;verse=5&amp;version=c&amp;mr=m&amp;qw=q&amp;tp=txt_p&amp;tr=hb&amp;wget=v&amp;qget=v&amp;nget=vt\" title=\"show this passage in SHEBANQ\" sec=\"Psalms 70:5\">Psalms 70:5</a></span><span class=\"plain outer  rtl  \" ><span class=\"plain rtl \"><span class=\"plain rtl  \" ><span class=\"plain rtl  \" ><span class=\"plain rtl  \" ><span class=\"plain rtl  \" ><span class=\"h\">יָ֘שִׂ֤ישׂוּ </span></span></span></span><span class=\"plain rtl  \" ><span class=\"plain rtl  \" ><span class=\"plain rtl  \" ><span class=\"h\">וְ</span></span></span><span class=\"plain rtl  \" ><span class=\"plain rtl  \" ><span class=\"h\">יִשְׂמְח֨וּ׀ </span></span></span><span class=\"plain rtl  \" ><span class=\"plain rtl  \" ><span class=\"h\">בְּךָ֗ </span></span></span><span class=\"plain rtl  \" ><span class=\"plain rtl  \" ><span class=\"h\">כָּֽל־</span></span></span></span><span class=\"plain rtl  \" ><span class=\"plain rtl  \" ><span class=\"plain rtl  \" ><span class=\"h\">מְבַ֫קְשֶׁ֥יךָ </span></span></span></span></span><span class=\"plain rtl  \" ><span class=\"plain rtl  \" ><span class=\"plain rtl  \" ><span class=\"plain rtl  \" ><span class=\"h\">וְ</span></span></span><span class=\"plain rtl  \" ><span class=\"plain rtl  \" ><span class=\"h\">יֹאמְר֣וּ </span></span></span><span class=\"plain rtl  \" ><span class=\"plain rtl  \" ><span class=\"h\">תָ֭מִיד </span></span></span></span></span><span class=\"plain rtl  \" ><span class=\"plain rtl  hlbx\" ><span class=\"plain rtl  \" ><span class=\"plain rtl  hlbx\" ><span class=\"plain rtl  \" ><span class=\"plain rtl  hl\" ><span class=\"h\">יִגְדַּ֣ל </span></span></span></span><span class=\"plain rtl  hlbx\" ><span class=\"plain rtl  \" ><span class=\"plain rtl  hl\" ><span class=\"h\">אֱלֹהִ֑ים </span></span></span></span></span></span></span><span class=\"plain rtl  \" ><span class=\"plain rtl  \" ><span class=\"plain rtl  \" ><span class=\"plain rtl  \" ><span class=\"h\">אֹ֝הֲבֵ֗י </span></span></span><span class=\"plain rtl  \" ><span class=\"plain rtl  \" ><span class=\"h\">יְשׁוּעָתֶֽךָ׃ </span></span></span></span></span></span></span></td><td class=\"tf\"><span class=\"plain outer  rtl \"><span class=\"plain rtl  hlbx\" ><span class=\"plain rtl  \" ><span class=\"plain rtl  hlbx\" ><span class=\"plain rtl  \" ><span class=\"plain rtl  hl\" ><span class=\"h\">יִגְדַּ֣ל </span></span></span></span><span class=\"plain rtl  hlbx\" ><span class=\"plain rtl  \" ><span class=\"plain rtl  hl\" ><span class=\"h\">אֱלֹהִ֑ים </span></span></span></span></span></span></span></td><td class=\"tf\"><span class=\"plain outer  rtl \"><span class=\"plain rtl  hlbx\" ><span class=\"plain rtl  \" ><span class=\"plain rtl  hl\" ><span class=\"h\">יִגְדַּ֣ל </span></span></span></span></span></td><td class=\"tf\"><span class=\"plain outer  rtl  hl\" ><span class=\"h\">יִגְדַּ֣ל </span></span></td><td class=\"tf\"><span class=\"plain outer  rtl \"><span class=\"plain rtl  hlbx\" ><span class=\"plain rtl  \" ><span class=\"plain rtl  hl\" ><span class=\"h\">אֱלֹהִ֑ים </span></span></span></span></span></td><td class=\"tf\"><span class=\"plain outer  rtl  hl\" ><span class=\"h\">אֱלֹהִ֑ים </span></span></td></tr>\n",
       "<tr class=\"tf\"><td class=\"tf\">7</td><td class=\"tf\"> <a href=\"https://shebanq.ancient-data.org/hebrew/text?book=Chronica_II&amp;chapter=27&amp;verse=6&amp;version=c&amp;mr=m&amp;qw=q&amp;tp=txt_p&amp;tr=hb&amp;wget=v&amp;qget=v&amp;nget=vt\" title=\"show this passage in SHEBANQ\" sec=\"2_Chronicles 27:6\">2_Chronicles 27:6</a></td><td class=\"tf\"><a href=\"https://shebanq.ancient-data.org/hebrew/text?book=Chronica_II&amp;chapter=27&amp;verse=1&amp;version=c&amp;mr=m&amp;qw=q&amp;tp=txt_p&amp;tr=hb&amp;wget=v&amp;qget=v&amp;nget=vt\" title=\"show this passage in SHEBANQ\" sec=\"2_Chronicles 27\">2_Chronicles 27</a>&nbsp;</td><td class=\"tf\"><span class=\"vrs ltr\"><a href=\"https://shebanq.ancient-data.org/hebrew/text?book=Chronica_II&amp;chapter=27&amp;verse=6&amp;version=c&amp;mr=m&amp;qw=q&amp;tp=txt_p&amp;tr=hb&amp;wget=v&amp;qget=v&amp;nget=vt\" title=\"show this passage in SHEBANQ\" sec=\"2_Chronicles 27:6\">2_Chronicles 27:6</a></span><span class=\"plain outer  rtl  \" ><span class=\"plain rtl \"><span class=\"plain rtl  \" ><span class=\"plain rtl  \" ><span class=\"plain rtl  \" ><span class=\"plain rtl  \" ><span class=\"h\">וַ</span></span></span><span class=\"plain rtl  \" ><span class=\"plain rtl  \" ><span class=\"h\">יִּתְחַזֵּ֖ק </span></span></span><span class=\"plain rtl  \" ><span class=\"plain rtl  \" ><span class=\"h\">יֹותָ֑ם </span></span></span></span></span><span class=\"plain rtl  \" ><span class=\"plain rtl  hlbx\" ><span class=\"plain rtl  \" ><span class=\"plain rtl  \" ><span class=\"plain rtl  \" ><span class=\"h\">כִּ֚י </span></span></span><span class=\"plain rtl  hlbx\" ><span class=\"plain rtl  \" ><span class=\"plain rtl  hl\" ><span class=\"h\">הֵכִ֣ין </span></span></span></span><span class=\"plain rtl  hlbx\" ><span class=\"plain rtl  \" ><span class=\"plain rtl  hl\" ><span class=\"h\">דְּרָכָ֔יו </span></span></span></span><span class=\"plain rtl  \" ><span class=\"plain rtl  \" ><span class=\"h\">לִ</span></span><span class=\"plain rtl  \" ><span class=\"h\">פְנֵ֖י </span></span><span class=\"plain rtl  \" ><span class=\"h\">יְהוָ֥ה </span></span></span><span class=\"plain rtl  \" ><span class=\"plain rtl  \" ><span class=\"h\">אֱלֹהָֽיו׃ </span></span></span></span></span></span></span></span></td><td class=\"tf\"><span class=\"plain outer  rtl \"><span class=\"plain rtl  hlbx\" ><span class=\"plain rtl  \" ><span class=\"plain rtl  \" ><span class=\"plain rtl  \" ><span class=\"h\">כִּ֚י </span></span></span><span class=\"plain rtl  hlbx\" ><span class=\"plain rtl  \" ><span class=\"plain rtl  hl\" ><span class=\"h\">הֵכִ֣ין </span></span></span></span><span class=\"plain rtl  hlbx\" ><span class=\"plain rtl  \" ><span class=\"plain rtl  hl\" ><span class=\"h\">דְּרָכָ֔יו </span></span></span></span><span class=\"plain rtl  \" ><span class=\"plain rtl  \" ><span class=\"h\">לִ</span></span><span class=\"plain rtl  \" ><span class=\"h\">פְנֵ֖י </span></span><span class=\"plain rtl  \" ><span class=\"h\">יְהוָ֥ה </span></span></span><span class=\"plain rtl  \" ><span class=\"plain rtl  \" ><span class=\"h\">אֱלֹהָֽיו׃ </span></span></span></span></span></span></td><td class=\"tf\"><span class=\"plain outer  rtl \"><span class=\"plain rtl  hlbx\" ><span class=\"plain rtl  \" ><span class=\"plain rtl  hl\" ><span class=\"h\">הֵכִ֣ין </span></span></span></span></span></td><td class=\"tf\"><span class=\"plain outer  rtl  hl\" ><span class=\"h\">הֵכִ֣ין </span></span></td><td class=\"tf\"><span class=\"plain outer  rtl \"><span class=\"plain rtl  hlbx\" ><span class=\"plain rtl  \" ><span class=\"plain rtl  hl\" ><span class=\"h\">דְּרָכָ֔יו </span></span></span></span></span></td><td class=\"tf\"><span class=\"plain outer  rtl  hl\" ><span class=\"h\">דְּרָכָ֔יו </span></span></td></tr></table>"
      ],
      "text/plain": [
       "<IPython.core.display.HTML object>"
      ]
     },
     "metadata": {},
     "output_type": "display_data"
    }
   ],
   "source": [
    "A.table(results2)"
   ]
  },
  {
   "cell_type": "markdown",
   "metadata": {},
   "source": [
    "## Custom sets in the browser\n",
    "\n",
    "We save the sets in a file.\n",
    "But before we do so, we also want to save all ordinary verses in a set, and all ordinary words. "
   ]
  },
  {
   "cell_type": "code",
   "execution_count": 19,
   "metadata": {},
   "outputs": [
    {
     "name": "stdout",
     "output_type": "stream",
     "text": [
      "  0.56s 2757 results\n"
     ]
    }
   ],
   "source": [
    "queryV = f'''\n",
    "verse\n",
    "/without/\n",
    "  word freq_lex<{FREQ}\n",
    "/-/\n",
    "'''\n",
    "resultsV = A.search(queryV, shallow=True)\n",
    "sets['overse'] = resultsV"
   ]
  },
  {
   "cell_type": "code",
   "execution_count": 20,
   "metadata": {},
   "outputs": [],
   "source": [
    "sets['oword'] = {w for w in F.otype.s('word') if F.freq_lex.v(w) >= FREQ}"
   ]
  },
  {
   "cell_type": "code",
   "execution_count": 21,
   "metadata": {},
   "outputs": [
    {
     "data": {
      "text/plain": [
       "True"
      ]
     },
     "execution_count": 21,
     "metadata": {},
     "output_type": "execute_result"
    }
   ],
   "source": [
    "SETS_FILE = os.path.expanduser('~/Downloads/ordinary.set')\n",
    "writeSets(sets, SETS_FILE)"
   ]
  },
  {
   "cell_type": "markdown",
   "metadata": {},
   "source": [
    "As a test, we read back the sets from disk and compare the number of\n",
    "elements with those in the original sets, which we still have in memory."
   ]
  },
  {
   "cell_type": "code",
   "execution_count": 22,
   "metadata": {},
   "outputs": [
    {
     "name": "stdout",
     "output_type": "stream",
     "text": [
      "ochapter with 60 nb 0\n",
      "overse with 2757 nb 0\n",
      "oword with 361485 nb 0\n"
     ]
    }
   ],
   "source": [
    "testSets = readSets(SETS_FILE)\n",
    "for s in sorted(testSets):\n",
    "    elems = len(testSets[s])\n",
    "    oelems = len(sets[s])\n",
    "    print(f'{s} with {elems} nb {elems - oelems}')"
   ]
  },
  {
   "cell_type": "markdown",
   "metadata": {},
   "source": [
    "Now you can start your TF browser as follows:\n",
    "\n",
    "```sh\n",
    "text-fabric bhsa --sets=~/Downloads/ordinary.set\n",
    "```\n",
    "\n",
    "and then you can run the same queries over there!"
   ]
  },
  {
   "cell_type": "markdown",
   "metadata": {},
   "source": [
    "# Appendix: investigation\n",
    "\n",
    "Let's investigate the number of ordinary chapters with shifting definitions of ordinary"
   ]
  },
  {
   "cell_type": "code",
   "execution_count": 23,
   "metadata": {},
   "outputs": [
    {
     "name": "stdout",
     "output_type": "stream",
     "text": [
      "There are 929 chapters, the longest is 1603 words\n"
     ]
    }
   ],
   "source": [
    "allChapters = F.otype.s('chapter')\n",
    "longestChapter = max(len(L.d(chapter, otype='word')) for chapter in allChapters)\n",
    "\n",
    "print(f'There are {len(allChapters)} chapters, the longest is {longestChapter} words')"
   ]
  },
  {
   "cell_type": "code",
   "execution_count": 24,
   "metadata": {},
   "outputs": [],
   "source": [
    "def getOrdinary(freq, amount):\n",
    "    results = []\n",
    "\n",
    "    for chapter in allChapters:\n",
    "        if len([\n",
    "            word for word in L.d(chapter, otype='word') if F.freq_lex.v(word) < freq\n",
    "        ]) < amount:\n",
    "            results.append(chapter)\n",
    "    return results"
   ]
  },
  {
   "cell_type": "code",
   "execution_count": 25,
   "metadata": {},
   "outputs": [],
   "source": [
    "def overview(freq):\n",
    "    for amount in range(20, 1700, 50):\n",
    "        results = getOrdinary(freq, amount)\n",
    "        print(f'for freq={freq:>3} and amount={amount:>4}: {len(results):>4} ordinary chapters')\n",
    "        if len(results) >= len(allChapters):\n",
    "            break"
   ]
  },
  {
   "cell_type": "code",
   "execution_count": 26,
   "metadata": {},
   "outputs": [
    {
     "name": "stdout",
     "output_type": "stream",
     "text": [
      "for freq= 40 and amount=  20:  140 ordinary chapters\n",
      "for freq= 40 and amount=  70:  758 ordinary chapters\n",
      "for freq= 40 and amount= 120:  885 ordinary chapters\n",
      "for freq= 40 and amount= 170:  908 ordinary chapters\n",
      "for freq= 40 and amount= 220:  919 ordinary chapters\n",
      "for freq= 40 and amount= 270:  923 ordinary chapters\n",
      "for freq= 40 and amount= 320:  924 ordinary chapters\n",
      "for freq= 40 and amount= 370:  925 ordinary chapters\n",
      "for freq= 40 and amount= 420:  926 ordinary chapters\n",
      "for freq= 40 and amount= 470:  928 ordinary chapters\n",
      "for freq= 40 and amount= 520:  929 ordinary chapters\n",
      "for freq= 70 and amount=  20:   60 ordinary chapters\n",
      "for freq= 70 and amount=  70:  551 ordinary chapters\n",
      "for freq= 70 and amount= 120:  842 ordinary chapters\n",
      "for freq= 70 and amount= 170:  890 ordinary chapters\n",
      "for freq= 70 and amount= 220:  915 ordinary chapters\n",
      "for freq= 70 and amount= 270:  922 ordinary chapters\n",
      "for freq= 70 and amount= 320:  923 ordinary chapters\n",
      "for freq= 70 and amount= 370:  923 ordinary chapters\n",
      "for freq= 70 and amount= 420:  926 ordinary chapters\n",
      "for freq= 70 and amount= 470:  927 ordinary chapters\n",
      "for freq= 70 and amount= 520:  928 ordinary chapters\n",
      "for freq= 70 and amount= 570:  928 ordinary chapters\n",
      "for freq= 70 and amount= 620:  929 ordinary chapters\n",
      "for freq=100 and amount=  20:   38 ordinary chapters\n",
      "for freq=100 and amount=  70:  432 ordinary chapters\n",
      "for freq=100 and amount= 120:  782 ordinary chapters\n",
      "for freq=100 and amount= 170:  874 ordinary chapters\n",
      "for freq=100 and amount= 220:  905 ordinary chapters\n",
      "for freq=100 and amount= 270:  918 ordinary chapters\n",
      "for freq=100 and amount= 320:  921 ordinary chapters\n",
      "for freq=100 and amount= 370:  923 ordinary chapters\n",
      "for freq=100 and amount= 420:  923 ordinary chapters\n",
      "for freq=100 and amount= 470:  926 ordinary chapters\n",
      "for freq=100 and amount= 520:  927 ordinary chapters\n",
      "for freq=100 and amount= 570:  928 ordinary chapters\n",
      "for freq=100 and amount= 620:  928 ordinary chapters\n",
      "for freq=100 and amount= 670:  929 ordinary chapters\n"
     ]
    }
   ],
   "source": [
    "for freq in (40, 70, 100):\n",
    "    overview(freq)"
   ]
  },
  {
   "cell_type": "markdown",
   "metadata": {},
   "source": [
    "# Next\n",
    "\n",
    "You have seen how to mingle sets with queries.\n",
    "\n",
    "Time to enter the race for space:\n",
    "[relations](searchRelations.ipynb)\n",
    "\n",
    "---\n",
    "\n",
    "[basic](search.ipynb)\n",
    "[advanced](searchAdvanced.ipynb)\n",
    "sets\n",
    "[relations](searchRelations.ipynb)\n",
    "[quantifiers](searchQuantifiers.ipynb)\n",
    "[rough](searchRough.ipynb)\n",
    "[gaps](searchGaps.ipynb)"
   ]
  }
 ],
 "metadata": {
  "kernelspec": {
   "display_name": "Python 3",
   "language": "python",
   "name": "python3"
  },
  "language_info": {
   "codemirror_mode": {
    "name": "ipython",
    "version": 3
   },
   "file_extension": ".py",
   "mimetype": "text/x-python",
   "name": "python",
   "nbconvert_exporter": "python",
   "pygments_lexer": "ipython3",
   "version": "3.7.7"
  }
 },
 "nbformat": 4,
 "nbformat_minor": 4
}
