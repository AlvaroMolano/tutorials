{
 "cells": [
  {
   "cell_type": "code",
   "execution_count": 1,
   "metadata": {},
   "outputs": [],
   "source": [
    "%load_ext autoreload\n",
    "%autoreload 2"
   ]
  },
  {
   "cell_type": "code",
   "execution_count": 2,
   "metadata": {},
   "outputs": [],
   "source": [
    "from tf.app import use\n",
    "from fixture import typeShow"
   ]
  },
  {
   "cell_type": "markdown",
   "metadata": {},
   "source": [
    "# BHSA specifics"
   ]
  },
  {
   "cell_type": "code",
   "execution_count": 3,
   "metadata": {},
   "outputs": [
    {
     "name": "stdout",
     "output_type": "stream",
     "text": [
      "Using TF-app in /Users/dirk/github/annotation/app-bhsa/code:\n",
      "\trepo clone offline under ~/github (local github)\n",
      "Using data in /Users/dirk/github/etcbc/bhsa/tf/c:\n",
      "\trepo clone offline under ~/github (local github)\n",
      "Using data in /Users/dirk/github/etcbc/phono/tf/c:\n",
      "\trepo clone offline under ~/github (local github)\n",
      "Using data in /Users/dirk/github/etcbc/parallels/tf/c:\n",
      "\trepo clone offline under ~/github (local github)\n",
      "   |     0.00s Dataset without structure sections in otext:no structure functions in the T-API\n"
     ]
    },
    {
     "data": {
      "text/html": [
       "<b>Documentation:</b> <a target=\"_blank\" href=\"https://etcbc.github.io/bhsa/0_home\" title=\"provenance of BHSA = Biblia Hebraica Stuttgartensia Amstelodamensis\">BHSA</a> <a target=\"_blank\" href=\"https://annotation.github.io/text-fabric/Writing/Transcription/Hebrew\" title=\"How TF features represent text\">Character table</a> not online <a target=\"_blank\" href=\"https://github.com/annotation/app-bhsa\" title=\"bhsa API documentation\">bhsa API</a> <a target=\"_blank\" href=\"https://annotation.github.io/text-fabric/Api/Fabric/\" title=\"text-fabric-api\">Text-Fabric API 8.0.0</a> <a target=\"_blank\" href=\"https://annotation.github.io/text-fabric/Use/Search/\" title=\"Search Templates Introduction and Reference\">Search Reference</a><details open><summary><b>Loaded features</b>:</summary>\n",
       "<p><b>Parallel Passages</b>: <b><i><a target=\"_blank\" href=\"https://nbviewer.jupyter.org/github/etcbc/parallels/blob/master/programs/parallels.ipynb\" title=\"/Users/dirk/github/etcbc/parallels/tf/c/crossref.tf\">crossref</a></i></b> </p><p><b>BHSA = Biblia Hebraica Stuttgartensia Amstelodamensis</b>: <span title=\"/Users/dirk/github/etcbc/bhsa/tf/c/book.tf\">book</span>  <span title=\"/Users/dirk/github/etcbc/bhsa/tf/c/book@am.tf\">book@ll</span>  <span title=\"/Users/dirk/github/etcbc/bhsa/tf/c/chapter.tf\">chapter</span>  <span title=\"/Users/dirk/github/etcbc/bhsa/tf/c/code.tf\">code</span>  <span title=\"/Users/dirk/github/etcbc/bhsa/tf/c/det.tf\">det</span>  <span title=\"/Users/dirk/github/etcbc/bhsa/tf/c/domain.tf\">domain</span>  <span title=\"/Users/dirk/github/etcbc/bhsa/tf/c/freq_lex.tf\">freq_lex</span>  <span title=\"/Users/dirk/github/etcbc/bhsa/tf/c/function.tf\">function</span>  <span title=\"/Users/dirk/github/etcbc/bhsa/tf/c/g_cons.tf\">g_cons</span>  <span title=\"/Users/dirk/github/etcbc/bhsa/tf/c/g_cons_utf8.tf\">g_cons_utf8</span>  <span title=\"/Users/dirk/github/etcbc/bhsa/tf/c/g_lex.tf\">g_lex</span>  <span title=\"/Users/dirk/github/etcbc/bhsa/tf/c/g_lex_utf8.tf\">g_lex_utf8</span>  <span title=\"/Users/dirk/github/etcbc/bhsa/tf/c/g_word.tf\">g_word</span>  <span title=\"/Users/dirk/github/etcbc/bhsa/tf/c/g_word_utf8.tf\">g_word_utf8</span>  <span title=\"/Users/dirk/github/etcbc/bhsa/tf/c/gloss.tf\">gloss</span>  <span title=\"/Users/dirk/github/etcbc/bhsa/tf/c/gn.tf\">gn</span>  <span title=\"/Users/dirk/github/etcbc/bhsa/tf/c/label.tf\">label</span>  <span title=\"/Users/dirk/github/etcbc/bhsa/tf/c/language.tf\">language</span>  <span title=\"/Users/dirk/github/etcbc/bhsa/tf/c/lex.tf\">lex</span>  <span title=\"/Users/dirk/github/etcbc/bhsa/tf/c/lex_utf8.tf\">lex_utf8</span>  <span title=\"/Users/dirk/github/etcbc/bhsa/tf/c/ls.tf\">ls</span>  <span title=\"/Users/dirk/github/etcbc/bhsa/tf/c/nametype.tf\">nametype</span>  <span title=\"/Users/dirk/github/etcbc/bhsa/tf/c/nme.tf\">nme</span>  <span title=\"/Users/dirk/github/etcbc/bhsa/tf/c/nu.tf\">nu</span>  <span title=\"/Users/dirk/github/etcbc/bhsa/tf/c/number.tf\">number</span>  <span title=\"/Users/dirk/github/etcbc/bhsa/tf/c/otype.tf\">otype</span>  <span title=\"/Users/dirk/github/etcbc/bhsa/tf/c/pargr.tf\">pargr</span>  <span title=\"/Users/dirk/github/etcbc/bhsa/tf/c/pdp.tf\">pdp</span>  <span title=\"/Users/dirk/github/etcbc/bhsa/tf/c/pfm.tf\">pfm</span>  <span title=\"/Users/dirk/github/etcbc/bhsa/tf/c/prs.tf\">prs</span>  <span title=\"/Users/dirk/github/etcbc/bhsa/tf/c/prs_gn.tf\">prs_gn</span>  <span title=\"/Users/dirk/github/etcbc/bhsa/tf/c/prs_nu.tf\">prs_nu</span>  <span title=\"/Users/dirk/github/etcbc/bhsa/tf/c/prs_ps.tf\">prs_ps</span>  <span title=\"/Users/dirk/github/etcbc/bhsa/tf/c/ps.tf\">ps</span>  <span title=\"/Users/dirk/github/etcbc/bhsa/tf/c/qere.tf\">qere</span>  <span title=\"/Users/dirk/github/etcbc/bhsa/tf/c/qere_trailer.tf\">qere_trailer</span>  <span title=\"/Users/dirk/github/etcbc/bhsa/tf/c/qere_trailer_utf8.tf\">qere_trailer_utf8</span>  <span title=\"/Users/dirk/github/etcbc/bhsa/tf/c/qere_utf8.tf\">qere_utf8</span>  <span title=\"/Users/dirk/github/etcbc/bhsa/tf/c/rank_lex.tf\">rank_lex</span>  <span title=\"/Users/dirk/github/etcbc/bhsa/tf/c/rela.tf\">rela</span>  <span title=\"/Users/dirk/github/etcbc/bhsa/tf/c/sp.tf\">sp</span>  <span title=\"/Users/dirk/github/etcbc/bhsa/tf/c/st.tf\">st</span>  <span title=\"/Users/dirk/github/etcbc/bhsa/tf/c/tab.tf\">tab</span>  <span title=\"/Users/dirk/github/etcbc/bhsa/tf/c/trailer.tf\">trailer</span>  <span title=\"/Users/dirk/github/etcbc/bhsa/tf/c/trailer_utf8.tf\">trailer_utf8</span>  <span title=\"/Users/dirk/github/etcbc/bhsa/tf/c/txt.tf\">txt</span>  <span title=\"/Users/dirk/github/etcbc/bhsa/tf/c/typ.tf\">typ</span>  <span title=\"/Users/dirk/github/etcbc/bhsa/tf/c/uvf.tf\">uvf</span>  <span title=\"/Users/dirk/github/etcbc/bhsa/tf/c/vbe.tf\">vbe</span>  <span title=\"/Users/dirk/github/etcbc/bhsa/tf/c/vbs.tf\">vbs</span>  <span title=\"/Users/dirk/github/etcbc/bhsa/tf/c/verse.tf\">verse</span>  <span title=\"/Users/dirk/github/etcbc/bhsa/tf/c/voc_lex.tf\">voc_lex</span>  <span title=\"/Users/dirk/github/etcbc/bhsa/tf/c/voc_lex_utf8.tf\">voc_lex_utf8</span>  <span title=\"/Users/dirk/github/etcbc/bhsa/tf/c/vs.tf\">vs</span>  <span title=\"/Users/dirk/github/etcbc/bhsa/tf/c/vt.tf\">vt</span>  <b><i><span title=\"/Users/dirk/github/etcbc/bhsa/tf/c/mother.tf\">mother</span></i></b>  <b><i><span title=\"/Users/dirk/github/etcbc/bhsa/tf/c/oslots.tf\">oslots</span></i></b> </p><p><b>Phonetic Transcriptions</b>: <a target=\"_blank\" href=\"https://nbviewer.jupyter.org/github/etcbc/phono/blob/master/programs/phono.ipynb\" title=\"/Users/dirk/github/etcbc/phono/tf/c/phono.tf\">phono</a>  <a target=\"_blank\" href=\"https://nbviewer.jupyter.org/github/etcbc/phono/blob/master/programs/phono.ipynb\" title=\"/Users/dirk/github/etcbc/phono/tf/c/phono_trailer.tf\">phono_trailer</a> </p></details>"
      ],
      "text/plain": [
       "<IPython.core.display.HTML object>"
      ]
     },
     "metadata": {},
     "output_type": "display_data"
    },
    {
     "data": {
      "text/html": [
       "<style>tr.tf, td.tf, th.tf { text-align: left ! important;}@font-face {\n",
       "  font-family: \"Ezra SIL\";\n",
       "  src: local('Ezra SIL'), local('EzraSIL'),\n",
       "    url('/server/static/fonts/SILEOT.woff') format('woff'),\n",
       "    url('https://github.com/annotation/text-fabric/blob/master/tf/server/static/fonts/SILEOT.woff?raw=true') format('woff');\n",
       "}\n",
       "\n",
       "@font-face {\n",
       "  font-family: \"SBL Hebrew\";\n",
       "  src: local('SBL Hebrew'), local('SBLHebrew'),\n",
       "    url('/server/static/fonts/SBL_Hbrw.woff') format('woff'),\n",
       "    url('https://github.com/annotation/text-fabric/blob/master/tf/server/static/fonts/SBL_Hbrw.woff?raw=true') format('woff');\n",
       "}\n",
       "\n",
       "@font-face {\n",
       "  font-family: \"Estrangelo Edessa\";\n",
       "  src: local('Estrangelo Edessa'), local('EstrangeloEdessa');\n",
       "    url('/server/static/fonts/SyrCOMEdessa.woff') format('woff'),\n",
       "    url('https://github.com/annotation/text-fabric/blob/master/tf/server/static/fonts/SyrCOMEdessa.woff?raw=true') format('woff');\n",
       "}\n",
       "\n",
       "@font-face {\n",
       "  font-family: AmiriQuran;\n",
       "  font-style: normal;\n",
       "  font-weight: 400;\n",
       "  src: local('Amiri Quran'), local('AmiriQuran'),\n",
       "    url('/server/static/fonts/AmiriQuran.woff') format('woff'),\n",
       "    url('https://github.com/annotation/text-fabric/blob/master/tf/server/static/fonts/AmiriQuran.woff?raw=true') format('woff');\n",
       "}\n",
       "\n",
       "@font-face {\n",
       "  font-family: AmiriQuranColored;\n",
       "  font-style: normal;\n",
       "  font-weight: 400;\n",
       "  src: local('Amiri Quran Colored'), local('AmiriQuranColored'),\n",
       "    url('/server/static/fonts/AmiriQuranColored.woff') format('woff'),\n",
       "    url('https://github.com/annotation/text-fabric/blob/master/tf/server/static/fonts/AmiriQuranColored.woff?raw=true') format('woff');\n",
       "}\n",
       "\n",
       "@font-face {\n",
       "  font-family: \"Santakku\";\n",
       "  src: local('Santakku'),\n",
       "    url('/server/static/fonts/Santakku.woff') format('woff'),\n",
       "    url('https://github.com/annotation/text-fabric/blob/master/tf/server/static/fonts/Santakku.woff?raw=true') format('woff');\n",
       "}\n",
       "\n",
       "@font-face {\n",
       "  font-family: \"SantakkuM\";\n",
       "  src: local('SantakkuM'),\n",
       "    url('/server/static/fonts/SantakkuM.woff') format('woff'),\n",
       "    url('https://github.com/annotation/text-fabric/blob/master/tf/server/static/fonts/SantakkuM.woff?raw=true') format('woff');\n",
       "}\n",
       "/* neutral text */\n",
       ".txtn,.txtn a:visited,.txtn a:link {\n",
       "    font-family: sans-serif;\n",
       "    font-size: medium;\n",
       "    direction: ltr;\n",
       "    text-decoration: none;\n",
       "    color: var(--text-color);\n",
       "}\n",
       "/* transcription text */\n",
       ".txtt,.txtt a:visited,.txtt a:link {\n",
       "    font-family: monospace;\n",
       "    font-size: medium;\n",
       "    direction: ltr;\n",
       "    text-decoration: none;\n",
       "    color: var(--text-color);\n",
       "}\n",
       "/* source text */\n",
       ".txto,.txto a:visited,.txto a:link {\n",
       "    font-family: serif;\n",
       "    font-size: medium;\n",
       "    direction: ltr;\n",
       "    text-decoration: none;\n",
       "    color: var(--text-color);\n",
       "}\n",
       "/* phonetic text */\n",
       ".txtp,.txtp a:visited,.txtp a:link {\n",
       "    font-family: Gentium, sans-serif;\n",
       "    font-size: large;\n",
       "    direction: ltr;\n",
       "    text-decoration: none;\n",
       "    color: var(--text-color);\n",
       "}\n",
       "/* original script text */\n",
       ".txtu,.txtu a:visited,.txtu a:link {\n",
       "    font-family: Gentium, sans-serif;\n",
       "    font-size: large;\n",
       "    text-decoration: none;\n",
       "    color: var(--text-color);\n",
       "}\n",
       "/* hebrew */\n",
       ".txtu.hbo,.lex.hbo {\n",
       "    font-family: \"Ezra SIL\", \"SBL Hebrew\", sans-serif;\n",
       "    font-size: x-large;\n",
       "    direction: rtl ! important;\n",
       "    unicode-bidi: embed;\n",
       "}\n",
       "/* syriac */\n",
       ".txtu.syc,.lex.syc {\n",
       "    font-family: \"Estrangelo Edessa\", sans-serif;\n",
       "    font-size: large;\n",
       "    direction: rtl ! important;\n",
       "    unicode-bidi: embed;\n",
       "}\n",
       "/* neo aramaic */\n",
       ".txtu.cld,.lex.cld {\n",
       "    font-family: \"CharisSIL-R\", sans-serif;\n",
       "    font-size: medium;\n",
       "    direction: ltr ! important;\n",
       "    unicode-bidi: embed;\n",
       "}\n",
       "/* standard arabic */\n",
       ".txtu.ara,.lex.ara {\n",
       "    font-family: \"AmiriQuran\", sans-serif;\n",
       "    font-size: large;\n",
       "    direction: rtl ! important;\n",
       "    unicode-bidi: embed;\n",
       "}\n",
       "/* cuneiform */\n",
       ".txtu.akk,.lex.akk {\n",
       "    font-family: Santakku, sans-serif;\n",
       "    font-size: x-large;\n",
       "    direction: ltr ! important;\n",
       "    unicode-bidi: embed;\n",
       "}\n",
       "/* greek */\n",
       ".txtu.grc,.lex.grc a:link {\n",
       "    font-family: Gentium, sans-serif;\n",
       "    font-size: medium;\n",
       "    direction: ltr ! important;\n",
       "    unicode-bidi: embed;\n",
       "}\n",
       "a:hover {\n",
       "    text-decoration: underline | important;\n",
       "    color: #0000ff | important;\n",
       "}\n",
       ".ltr {\n",
       "    direction: ltr ! important;\n",
       "}\n",
       ".rtl {\n",
       "    direction: rtl ! important;\n",
       "}\n",
       "span.plain {\n",
       "    display: inline-block;\n",
       "    white-space: pre-wrap;\n",
       "    text-align: start;\n",
       "}\n",
       ".features {\n",
       "    font-family: monospace;\n",
       "    font-size: medium;\n",
       "    font-weight: bold;\n",
       "    color: var(--features);\n",
       "    display: flex;\n",
       "    flex-flow: column nowrap;\n",
       "    justify-content: flex-start;\n",
       "    align-items: flex-start;\n",
       "    align-content: flex-start;\n",
       "    padding: 0.1rem;\n",
       "    margin: 0.1rem;\n",
       "    direction: ltr;\n",
       "    border: var(--meta-width) solid var(--meta-color);\n",
       "    border-radius: var(--meta-width);\n",
       "}\n",
       ".features div,.features span {\n",
       "    padding: 0;\n",
       "    margin: -0.1rem 0;\n",
       "}\n",
       ".features .f {\n",
       "    font-family: sans-serif;\n",
       "    font-size: x-small;\n",
       "    font-weight: normal;\n",
       "    color: #5555bb;\n",
       "}\n",
       ".features .xft {\n",
       "  color: #000000;\n",
       "  background-color: #eeeeee;\n",
       "  font-size: medium;\n",
       "  margin: 0.1rem 0rem;\n",
       "}\n",
       ".features .xft .f {\n",
       "  color: #000000;\n",
       "  background-color: #eeeeee;\n",
       "  font-style: italic;\n",
       "  font-size: small;\n",
       "  font-weight: normal;\n",
       "}\n",
       ".section,.section a:visited,.section a:link {\n",
       "    font-family: sans-serif;\n",
       "    font-size: small;\n",
       "    font-weight: bold;\n",
       "    color: var(--section);\n",
       "}\n",
       ".structure,.structure a:visited,.structure a:link {\n",
       "    font-family: sans-serif;\n",
       "    font-size: small;\n",
       "    font-weight: bold;\n",
       "    color: var(--structure);\n",
       "}\n",
       ".comments {\n",
       "    display: flex;\n",
       "    justify-content: flex-start;\n",
       "    align-items: flex-start;\n",
       "    align-content: flex-start;\n",
       "    flex-flow: column nowrap;\n",
       "}\n",
       ".nd {\n",
       "    font-family: sans-serif;\n",
       "    font-size: x-small;\n",
       "    color: var(--node);\n",
       "    vertical-align: super;\n",
       "}\n",
       ".lex {\n",
       "  color: var(--lex-color);;\n",
       "}\n",
       ".children,.children.ltr {\n",
       "    display: flex;\n",
       "    border: 0;\n",
       "    background-color: #ffffff;\n",
       "    justify-content: flex-start;\n",
       "    align-items: flex-start;\n",
       "    align-content: flex-start;\n",
       "}\n",
       ".children.stretch {\n",
       "    align-items: stretch;\n",
       "}\n",
       ".children.row {\n",
       "    flex-flow: row nowrap;\n",
       "}\n",
       ".children.row.wrap {\n",
       "    flex-flow: row wrap;\n",
       "}\n",
       ".children.col {\n",
       "    flex-flow: column nowrap;\n",
       "}\n",
       ".children.col.wrap {\n",
       "    flex-flow: column wrap;\n",
       "}\n",
       ".contnr {\n",
       "    width: fit-content;\n",
       "    display: flex;\n",
       "    justify-content: flex-start;\n",
       "    align-items: flex-start;\n",
       "    align-content: flex-start;\n",
       "    flex-flow: column nowrap;\n",
       "    background: #ffffff none repeat scroll 0 0;\n",
       "    padding:  0.5rem 0.1rem 0.1rem 0.1rem;\n",
       "    margin: 0.8rem 0.1rem 0.1rem 0.1rem;\n",
       "    border-style: solid;\n",
       "    font-size: small;\n",
       "}\n",
       ".contnr.trm {\n",
       "    background-attachment: local;\n",
       "}\n",
       ".contnr.cnul {\n",
       "    padding:  0;\n",
       "    margin: 0;\n",
       "    border-style: solid;\n",
       "    font-size: xx-small;\n",
       "}\n",
       ".contnr.cnul,.lbl.cnul {\n",
       "    border-color: var(--border-color-nul);\n",
       "    border-width: var(--border-width-nul);\n",
       "    border-radius: var(--border-width-nul);\n",
       "}\n",
       ".contnr.c0,.lbl.c0 {\n",
       "    border-color: var(--border-color0);\n",
       "    border-width: var(--border-width0);\n",
       "    border-radius: var(--border-width0);\n",
       "}\n",
       ".contnr.c1,.lbl.c1 {\n",
       "    border-color: var(--border-color1);\n",
       "    border-width: var(--border-width1);\n",
       "    border-radius: var(--border-width1);\n",
       "}\n",
       ".contnr.c2,.lbl.c2 {\n",
       "    border-color: var(--border-color2);\n",
       "    border-width: var(--border-width2);\n",
       "    border-radius: var(--border-width2);\n",
       "}\n",
       ".contnr.c3,.lbl.c3 {\n",
       "    border-color: var(--border-color3);\n",
       "    border-width: var(--border-width3);\n",
       "    border-radius: var(--border-width3);\n",
       "}\n",
       ".contnr.c4,.lbl.c4 {\n",
       "    border-color: var(--border-color4);\n",
       "    border-width: var(--border-width4);\n",
       "    border-radius: var(--border-width4);\n",
       "}\n",
       ".contnr.l {\n",
       "    border-left-style: dotted\n",
       "}\n",
       ".contnr.r {\n",
       "    border-right-style: dotted\n",
       "}\n",
       ".contnr.lno {\n",
       "    border-left-style: none\n",
       "}\n",
       ".contnr.rno {\n",
       "    border-right-style: none\n",
       "}\n",
       ".lbl {\n",
       "    font-family: monospace;\n",
       "    margin-top: -1.2rem;\n",
       "    margin-left: 1rem;\n",
       "    background: #ffffff none repeat scroll 0 0;\n",
       "    padding: 0 0.3rem;\n",
       "    border-style: solid;\n",
       "    display: block;\n",
       "    color: var(--label)\n",
       "}\n",
       ".lbl.trm {\n",
       "    background-attachment: local;\n",
       "    margin-top: 0.1rem;\n",
       "    margin-left: 0.1rem;\n",
       "    padding: 0.1rem 0.1rem;\n",
       "    border-style: none;\n",
       "}\n",
       ".lbl.cnul {\n",
       "    font-size: xx-small;\n",
       "}\n",
       ".lbl.c0 {\n",
       "    font-size: small;\n",
       "}\n",
       ".lbl.c1 {\n",
       "    font-size: small;\n",
       "}\n",
       ".lbl.c2 {\n",
       "    font-size: medium;\n",
       "}\n",
       ".lbl.c3 {\n",
       "    font-size: medium;\n",
       "}\n",
       ".lbl.c4 {\n",
       "    font-size: large;\n",
       "}\n",
       ".occs {\n",
       "    font-size: x-small;\n",
       "}\n",
       "\n",
       ":root {\n",
       "\t--node:             hsla(120, 100%,  30%, 1.0  );\n",
       "\t--label:            hsla(  0, 100%,  20%, 1.0  );\n",
       "\t--section:          hsla(  0, 100%,  25%, 1.0  );\n",
       "\t--structure:        hsla(120, 100%,  25%, 1.0  );\n",
       "\t--features:         hsla(  0,   0%,  30%, 1.0  );\n",
       "  --text-color:       hsla( 60,  80%,  10%, 1.0  );\n",
       "  --lex-color:        hsla(220,  90%,  60%, 1.0  );\n",
       "  --meta-color:       hsla(  0,   0%,  90%, 0.7  );\n",
       "  --meta-width:       0.15rem;\n",
       "  --border-color-nul: hsla(  0,   0%,  90%, 0.5  );\n",
       "  --border-color0:    hsla(  0,   0%,  90%, 0.9  );\n",
       "  --border-color1:    hsla(  0,   0%,  80%, 0.9  );\n",
       "  --border-color2:    hsla(  0,   0%,  70%, 0.9  );\n",
       "  --border-color3:    hsla(  0,   0%,  80%, 0.8  );\n",
       "  --border-color4:    hsla(  0,   0%,  60%, 0.9  );\n",
       "  --border-width-nul: 0.1rem;\n",
       "  --border-width0:    0.1rem;\n",
       "  --border-width1:    0.15rem;\n",
       "  --border-width2:    0.2rem;\n",
       "  --border-width3:    0.3rem;\n",
       "  --border-width4:    0.25rem;\n",
       "}\n",
       ".hl {\n",
       "  background-color: var(--hl-strong);\n",
       "}\n",
       "span.hl {\n",
       "\tbackground-color: var(--hl-strong);\n",
       "\tborder-width: 0;\n",
       "\tborder-radius: 0.1rem;\n",
       "\tborder-style: solid;\n",
       "}\n",
       "div.contnr.hl,div.lbl.hl {\n",
       "    background-color: var(--hl-strong);\n",
       "}\n",
       "\n",
       "span.hlbx {\n",
       "\tborder-color: var(--hl-rim);\n",
       "\tborder-width: 0.2rem;\n",
       "\tborder-style: solid;\n",
       "\tborder-radius: 0.3rem;\n",
       "  padding: 0.2rem;\n",
       "  margin: 0.2rem;\n",
       "}\n",
       "\n",
       "span.plain {\n",
       "  display: inline-block;\n",
       "  white-space: pre-wrap;\n",
       "}\n",
       "\n",
       ":root {\n",
       "\t--hl-strong:        hsla( 60, 100%,  70%, 0.9  );\n",
       "\t--hl-rim:           hsla( 55,  80%,  50%, 1.0  );\n",
       "}\n",
       "</style>"
      ],
      "text/plain": [
       "<IPython.core.display.HTML object>"
      ]
     },
     "metadata": {},
     "output_type": "display_data"
    },
    {
     "data": {
      "text/html": [
       "<details open><summary><b>API members</b>:</summary>\n",
       "<a target=\"_blank\" href=\"https://annotation.github.io/text-fabric/Api/Computed/#computed-data\" title=\"doc\">C Computed</a>, <a target=\"_blank\" href=\"https://annotation.github.io/text-fabric/Api/Computed/#computed-data\" title=\"doc\">Call AllComputeds</a>, <a target=\"_blank\" href=\"https://annotation.github.io/text-fabric/Api/Computed/#computed-data\" title=\"doc\">Cs ComputedString</a><br/>\n",
       "<a target=\"_blank\" href=\"https://annotation.github.io/text-fabric/Api/Features/#edge-features\" title=\"doc\">E Edge</a>, <a target=\"_blank\" href=\"https://annotation.github.io/text-fabric/Api/Features/#edge-features\" title=\"doc\">Eall AllEdges</a>, <a target=\"_blank\" href=\"https://annotation.github.io/text-fabric/Api/Features/#edge-features\" title=\"doc\">Es EdgeString</a><br/>\n",
       "<a target=\"_blank\" href=\"https://annotation.github.io/text-fabric/Api/Fabric/#loading\" title=\"doc\">ensureLoaded</a>, <a target=\"_blank\" href=\"https://annotation.github.io/text-fabric/Api/Fabric/#loading\" title=\"doc\">TF</a>, <a target=\"_blank\" href=\"https://annotation.github.io/text-fabric/Api/Fabric/#loading\" title=\"doc\">ignored</a>, <a target=\"_blank\" href=\"https://annotation.github.io/text-fabric/Api/Fabric/#loading\" title=\"doc\">loadLog</a><br/>\n",
       "<a target=\"_blank\" href=\"https://annotation.github.io/text-fabric/Api/Locality/#locality\" title=\"doc\">L Locality</a><br/>\n",
       "<a target=\"_blank\" href=\"https://annotation.github.io/text-fabric/Api/Misc/#messaging\" title=\"doc\">cache</a>, <a target=\"_blank\" href=\"https://annotation.github.io/text-fabric/Api/Misc/#messaging\" title=\"doc\">error</a>, <a target=\"_blank\" href=\"https://annotation.github.io/text-fabric/Api/Misc/#messaging\" title=\"doc\">indent</a>, <a target=\"_blank\" href=\"https://annotation.github.io/text-fabric/Api/Misc/#messaging\" title=\"doc\">info</a>, <a target=\"_blank\" href=\"https://annotation.github.io/text-fabric/Api/Misc/#messaging\" title=\"doc\">isSilent</a>, <a target=\"_blank\" href=\"https://annotation.github.io/text-fabric/Api/Misc/#messaging\" title=\"doc\">reset</a>, <a target=\"_blank\" href=\"https://annotation.github.io/text-fabric/Api/Misc/#messaging\" title=\"doc\">setSilent</a>, <a target=\"_blank\" href=\"https://annotation.github.io/text-fabric/Api/Misc/#messaging\" title=\"doc\">silentOff</a>, <a target=\"_blank\" href=\"https://annotation.github.io/text-fabric/Api/Misc/#messaging\" title=\"doc\">silentOn</a>, <a target=\"_blank\" href=\"https://annotation.github.io/text-fabric/Api/Misc/#messaging\" title=\"doc\">warning</a><br/>\n",
       "<a target=\"_blank\" href=\"https://annotation.github.io/text-fabric/Api/Nodes/#navigating-nodes\" title=\"doc\">N Nodes</a>, <a target=\"_blank\" href=\"https://annotation.github.io/text-fabric/Api/Nodes/#navigating-nodes\" title=\"doc\">sortKey</a>, <a target=\"_blank\" href=\"https://annotation.github.io/text-fabric/Api/Nodes/#navigating-nodes\" title=\"doc\">sortKeyTuple</a>, <a target=\"_blank\" href=\"https://annotation.github.io/text-fabric/Api/Nodes/#navigating-nodes\" title=\"doc\">otypeRank</a>, <a target=\"_blank\" href=\"https://annotation.github.io/text-fabric/Api/Nodes/#navigating-nodes\" title=\"doc\">sortNodes</a><br/>\n",
       "<a target=\"_blank\" href=\"https://annotation.github.io/text-fabric/Api/Features/#node-features\" title=\"doc\">F Feature</a>, <a target=\"_blank\" href=\"https://annotation.github.io/text-fabric/Api/Features/#node-features\" title=\"doc\">Fall AllFeatures</a>, <a target=\"_blank\" href=\"https://annotation.github.io/text-fabric/Api/Features/#node-features\" title=\"doc\">Fs FeatureString</a><br/>\n",
       "<a target=\"_blank\" href=\"https://annotation.github.io/text-fabric/Api/Search/#search\" title=\"doc\">S Search</a><br/>\n",
       "<a target=\"_blank\" href=\"https://annotation.github.io/text-fabric/Api/Text/#text\" title=\"doc\">T Text</a></details>"
      ],
      "text/plain": [
       "<IPython.core.display.HTML object>"
      ]
     },
     "metadata": {},
     "output_type": "display_data"
    }
   ],
   "source": [
    "A = use('bhsa:clone', checkout=\"clone\", hoist=globals())"
   ]
  },
  {
   "cell_type": "code",
   "execution_count": 14,
   "metadata": {},
   "outputs": [
    {
     "data": {
      "text/html": [
       "<style>tr.tf, td.tf, th.tf { text-align: left ! important;}@font-face {\n",
       "  font-family: \"Ezra SIL\";\n",
       "  src: local('Ezra SIL'), local('EzraSIL'),\n",
       "    url('/server/static/fonts/SILEOT.woff') format('woff'),\n",
       "    url('https://github.com/annotation/text-fabric/blob/master/tf/server/static/fonts/SILEOT.woff?raw=true') format('woff');\n",
       "}\n",
       "\n",
       "@font-face {\n",
       "  font-family: \"SBL Hebrew\";\n",
       "  src: local('SBL Hebrew'), local('SBLHebrew'),\n",
       "    url('/server/static/fonts/SBL_Hbrw.woff') format('woff'),\n",
       "    url('https://github.com/annotation/text-fabric/blob/master/tf/server/static/fonts/SBL_Hbrw.woff?raw=true') format('woff');\n",
       "}\n",
       "\n",
       "@font-face {\n",
       "  font-family: \"Estrangelo Edessa\";\n",
       "  src: local('Estrangelo Edessa'), local('EstrangeloEdessa');\n",
       "    url('/server/static/fonts/SyrCOMEdessa.woff') format('woff'),\n",
       "    url('https://github.com/annotation/text-fabric/blob/master/tf/server/static/fonts/SyrCOMEdessa.woff?raw=true') format('woff');\n",
       "}\n",
       "\n",
       "@font-face {\n",
       "  font-family: AmiriQuran;\n",
       "  font-style: normal;\n",
       "  font-weight: 400;\n",
       "  src: local('Amiri Quran'), local('AmiriQuran'),\n",
       "    url('/server/static/fonts/AmiriQuran.woff') format('woff'),\n",
       "    url('https://github.com/annotation/text-fabric/blob/master/tf/server/static/fonts/AmiriQuran.woff?raw=true') format('woff');\n",
       "}\n",
       "\n",
       "@font-face {\n",
       "  font-family: AmiriQuranColored;\n",
       "  font-style: normal;\n",
       "  font-weight: 400;\n",
       "  src: local('Amiri Quran Colored'), local('AmiriQuranColored'),\n",
       "    url('/server/static/fonts/AmiriQuranColored.woff') format('woff'),\n",
       "    url('https://github.com/annotation/text-fabric/blob/master/tf/server/static/fonts/AmiriQuranColored.woff?raw=true') format('woff');\n",
       "}\n",
       "\n",
       "@font-face {\n",
       "  font-family: \"Santakku\";\n",
       "  src: local('Santakku'),\n",
       "    url('/server/static/fonts/Santakku.woff') format('woff'),\n",
       "    url('https://github.com/annotation/text-fabric/blob/master/tf/server/static/fonts/Santakku.woff?raw=true') format('woff');\n",
       "}\n",
       "\n",
       "@font-face {\n",
       "  font-family: \"SantakkuM\";\n",
       "  src: local('SantakkuM'),\n",
       "    url('/server/static/fonts/SantakkuM.woff') format('woff'),\n",
       "    url('https://github.com/annotation/text-fabric/blob/master/tf/server/static/fonts/SantakkuM.woff?raw=true') format('woff');\n",
       "}\n",
       "/* neutral text */\n",
       ".txtn,.txtn a:visited,.txtn a:link {\n",
       "    font-family: sans-serif;\n",
       "    font-size: medium;\n",
       "    direction: ltr;\n",
       "    text-decoration: none;\n",
       "    color: var(--text-color);\n",
       "}\n",
       "/* transcription text */\n",
       ".txtt,.txtt a:visited,.txtt a:link {\n",
       "    font-family: monospace;\n",
       "    font-size: medium;\n",
       "    direction: ltr;\n",
       "    text-decoration: none;\n",
       "    color: var(--text-color);\n",
       "}\n",
       "/* source text */\n",
       ".txto,.txto a:visited,.txto a:link {\n",
       "    font-family: serif;\n",
       "    font-size: medium;\n",
       "    direction: ltr;\n",
       "    text-decoration: none;\n",
       "    color: var(--text-color);\n",
       "}\n",
       "/* phonetic text */\n",
       ".txtp,.txtp a:visited,.txtp a:link {\n",
       "    font-family: Gentium, sans-serif;\n",
       "    font-size: large;\n",
       "    direction: ltr;\n",
       "    text-decoration: none;\n",
       "    color: var(--text-color);\n",
       "}\n",
       "/* original script text */\n",
       ".txtu,.txtu a:visited,.txtu a:link {\n",
       "    font-family: Gentium, sans-serif;\n",
       "    font-size: large;\n",
       "    text-decoration: none;\n",
       "    color: var(--text-color);\n",
       "}\n",
       "/* hebrew */\n",
       ".txtu.hbo,.lex.hbo {\n",
       "    font-family: \"Ezra SIL\", \"SBL Hebrew\", sans-serif;\n",
       "    font-size: x-large;\n",
       "    direction: rtl ! important;\n",
       "    unicode-bidi: embed;\n",
       "}\n",
       "/* syriac */\n",
       ".txtu.syc,.lex.syc {\n",
       "    font-family: \"Estrangelo Edessa\", sans-serif;\n",
       "    font-size: large;\n",
       "    direction: rtl ! important;\n",
       "    unicode-bidi: embed;\n",
       "}\n",
       "/* neo aramaic */\n",
       ".txtu.cld,.lex.cld {\n",
       "    font-family: \"CharisSIL-R\", sans-serif;\n",
       "    font-size: medium;\n",
       "    direction: ltr ! important;\n",
       "    unicode-bidi: embed;\n",
       "}\n",
       "/* standard arabic */\n",
       ".txtu.ara,.lex.ara {\n",
       "    font-family: \"AmiriQuran\", sans-serif;\n",
       "    font-size: large;\n",
       "    direction: rtl ! important;\n",
       "    unicode-bidi: embed;\n",
       "}\n",
       "/* cuneiform */\n",
       ".txtu.akk,.lex.akk {\n",
       "    font-family: Santakku, sans-serif;\n",
       "    font-size: x-large;\n",
       "    direction: ltr ! important;\n",
       "    unicode-bidi: embed;\n",
       "}\n",
       "/* greek */\n",
       ".txtu.grc,.lex.grc a:link {\n",
       "    font-family: Gentium, sans-serif;\n",
       "    font-size: medium;\n",
       "    direction: ltr ! important;\n",
       "    unicode-bidi: embed;\n",
       "}\n",
       "a:hover {\n",
       "    text-decoration: underline | important;\n",
       "    color: #0000ff | important;\n",
       "}\n",
       ".ltr {\n",
       "    direction: ltr ! important;\n",
       "}\n",
       ".rtl {\n",
       "    direction: rtl ! important;\n",
       "}\n",
       "span.plain {\n",
       "    display: inline-block;\n",
       "    white-space: pre-wrap;\n",
       "    text-align: start;\n",
       "}\n",
       ".features {\n",
       "    font-family: monospace;\n",
       "    font-size: medium;\n",
       "    font-weight: bold;\n",
       "    color: var(--features);\n",
       "    display: flex;\n",
       "    flex-flow: column nowrap;\n",
       "    justify-content: flex-start;\n",
       "    align-items: flex-start;\n",
       "    align-content: flex-start;\n",
       "    padding: 0.1rem;\n",
       "    margin: 0.1rem;\n",
       "    direction: ltr;\n",
       "    border: var(--meta-width) solid var(--meta-color);\n",
       "    border-radius: var(--meta-width);\n",
       "}\n",
       ".features div,.features span {\n",
       "    padding: 0;\n",
       "    margin: -0.1rem 0;\n",
       "}\n",
       ".features .f {\n",
       "    font-family: sans-serif;\n",
       "    font-size: x-small;\n",
       "    font-weight: normal;\n",
       "    color: #5555bb;\n",
       "}\n",
       ".features .xft {\n",
       "  color: #000000;\n",
       "  background-color: #eeeeee;\n",
       "  font-size: medium;\n",
       "  margin: 0.1rem 0rem;\n",
       "}\n",
       ".features .xft .f {\n",
       "  color: #000000;\n",
       "  background-color: #eeeeee;\n",
       "  font-style: italic;\n",
       "  font-size: small;\n",
       "  font-weight: normal;\n",
       "}\n",
       ".section,.section a:visited,.section a:link {\n",
       "    font-family: sans-serif;\n",
       "    font-size: small;\n",
       "    font-weight: bold;\n",
       "    color: var(--section);\n",
       "}\n",
       ".structure,.structure a:visited,.structure a:link {\n",
       "    font-family: sans-serif;\n",
       "    font-size: small;\n",
       "    font-weight: bold;\n",
       "    color: var(--structure);\n",
       "}\n",
       ".comments {\n",
       "    display: flex;\n",
       "    justify-content: flex-start;\n",
       "    align-items: flex-start;\n",
       "    align-content: flex-start;\n",
       "    flex-flow: column nowrap;\n",
       "}\n",
       ".nd {\n",
       "    font-family: sans-serif;\n",
       "    font-size: x-small;\n",
       "    color: var(--node);\n",
       "    vertical-align: super;\n",
       "}\n",
       ".lex {\n",
       "  color: var(--lex-color);;\n",
       "}\n",
       ".children,.children.ltr {\n",
       "    display: flex;\n",
       "    border: 0;\n",
       "    background-color: #ffffff;\n",
       "    justify-content: flex-start;\n",
       "    align-items: flex-start;\n",
       "    align-content: flex-start;\n",
       "}\n",
       ".children.stretch {\n",
       "    align-items: stretch;\n",
       "}\n",
       ".children.row {\n",
       "    flex-flow: row nowrap;\n",
       "}\n",
       ".children.row.wrap {\n",
       "    flex-flow: row wrap;\n",
       "}\n",
       ".children.col {\n",
       "    flex-flow: column nowrap;\n",
       "}\n",
       ".children.col.wrap {\n",
       "    flex-flow: column wrap;\n",
       "}\n",
       ".contnr {\n",
       "    width: fit-content;\n",
       "    display: flex;\n",
       "    justify-content: flex-start;\n",
       "    align-items: flex-start;\n",
       "    align-content: flex-start;\n",
       "    flex-flow: column nowrap;\n",
       "    background: #ffffff none repeat scroll 0 0;\n",
       "    padding:  0.5rem 0.1rem 0.1rem 0.1rem;\n",
       "    margin: 0.8rem 0.1rem 0.1rem 0.1rem;\n",
       "    border-style: solid;\n",
       "    font-size: small;\n",
       "}\n",
       ".contnr.trm {\n",
       "    background-attachment: local;\n",
       "}\n",
       ".contnr.cnul {\n",
       "    padding:  0;\n",
       "    margin: 0;\n",
       "    border-style: solid;\n",
       "    font-size: xx-small;\n",
       "}\n",
       ".contnr.cnul,.lbl.cnul {\n",
       "    border-color: var(--border-color-nul);\n",
       "    border-width: var(--border-width-nul);\n",
       "    border-radius: var(--border-width-nul);\n",
       "}\n",
       ".contnr.c0,.lbl.c0 {\n",
       "    border-color: var(--border-color0);\n",
       "    border-width: var(--border-width0);\n",
       "    border-radius: var(--border-width0);\n",
       "}\n",
       ".contnr.c1,.lbl.c1 {\n",
       "    border-color: var(--border-color1);\n",
       "    border-width: var(--border-width1);\n",
       "    border-radius: var(--border-width1);\n",
       "}\n",
       ".contnr.c2,.lbl.c2 {\n",
       "    border-color: var(--border-color2);\n",
       "    border-width: var(--border-width2);\n",
       "    border-radius: var(--border-width2);\n",
       "}\n",
       ".contnr.c3,.lbl.c3 {\n",
       "    border-color: var(--border-color3);\n",
       "    border-width: var(--border-width3);\n",
       "    border-radius: var(--border-width3);\n",
       "}\n",
       ".contnr.c4,.lbl.c4 {\n",
       "    border-color: var(--border-color4);\n",
       "    border-width: var(--border-width4);\n",
       "    border-radius: var(--border-width4);\n",
       "}\n",
       ".contnr.l {\n",
       "    border-left-style: dotted\n",
       "}\n",
       ".contnr.r {\n",
       "    border-right-style: dotted\n",
       "}\n",
       ".contnr.lno {\n",
       "    border-left-style: none\n",
       "}\n",
       ".contnr.rno {\n",
       "    border-right-style: none\n",
       "}\n",
       ".lbl {\n",
       "    font-family: monospace;\n",
       "    margin-top: -1.2rem;\n",
       "    margin-left: 1rem;\n",
       "    background: #ffffff none repeat scroll 0 0;\n",
       "    padding: 0 0.3rem;\n",
       "    border-style: solid;\n",
       "    display: block;\n",
       "    color: var(--label)\n",
       "}\n",
       ".lbl.trm {\n",
       "    background-attachment: local;\n",
       "    margin-top: 0.1rem;\n",
       "    margin-left: 0.1rem;\n",
       "    padding: 0.1rem 0.1rem;\n",
       "    border-style: none;\n",
       "}\n",
       ".lbl.cnul {\n",
       "    font-size: xx-small;\n",
       "}\n",
       ".lbl.c0 {\n",
       "    font-size: small;\n",
       "}\n",
       ".lbl.c1 {\n",
       "    font-size: small;\n",
       "}\n",
       ".lbl.c2 {\n",
       "    font-size: medium;\n",
       "}\n",
       ".lbl.c3 {\n",
       "    font-size: medium;\n",
       "}\n",
       ".lbl.c4 {\n",
       "    font-size: large;\n",
       "}\n",
       ".occs {\n",
       "    font-size: x-small;\n",
       "}\n",
       "\n",
       ":root {\n",
       "\t--node:             hsla(120, 100%,  30%, 1.0  );\n",
       "\t--label:            hsla(  0, 100%,  20%, 1.0  );\n",
       "\t--section:          hsla(  0, 100%,  25%, 1.0  );\n",
       "\t--structure:        hsla(120, 100%,  25%, 1.0  );\n",
       "\t--features:         hsla(  0,   0%,  30%, 1.0  );\n",
       "  --text-color:       hsla( 60,  80%,  10%, 1.0  );\n",
       "  --lex-color:        hsla(220,  90%,  60%, 1.0  );\n",
       "  --meta-color:       hsla(  0,   0%,  90%, 0.7  );\n",
       "  --meta-width:       0.15rem;\n",
       "  --border-color-nul: hsla(  0,   0%,  90%, 0.5  );\n",
       "  --border-color0:    hsla(  0,   0%,  90%, 0.9  );\n",
       "  --border-color1:    hsla(  0,   0%,  80%, 0.9  );\n",
       "  --border-color2:    hsla(  0,   0%,  70%, 0.9  );\n",
       "  --border-color3:    hsla(  0,   0%,  80%, 0.8  );\n",
       "  --border-color4:    hsla(  0,   0%,  60%, 0.9  );\n",
       "  --border-width-nul: 0.1rem;\n",
       "  --border-width0:    0.1rem;\n",
       "  --border-width1:    0.15rem;\n",
       "  --border-width2:    0.2rem;\n",
       "  --border-width3:    0.3rem;\n",
       "  --border-width4:    0.25rem;\n",
       "}\n",
       ".hl {\n",
       "  background-color: var(--hl-strong);\n",
       "}\n",
       "span.hl {\n",
       "\tbackground-color: var(--hl-strong);\n",
       "\tborder-width: 0;\n",
       "\tborder-radius: 0.1rem;\n",
       "\tborder-style: solid;\n",
       "}\n",
       "div.contnr.hl,div.lbl.hl {\n",
       "    background-color: var(--hl-strong);\n",
       "}\n",
       "\n",
       "span.hlbx {\n",
       "\tborder-color: var(--hl-rim);\n",
       "\tborder-width: 0.2rem;\n",
       "\tborder-style: solid;\n",
       "\tborder-radius: 0.3rem;\n",
       "  padding: 0.2rem;\n",
       "  margin: 0.2rem;\n",
       "}\n",
       "\n",
       "span.plain {\n",
       "  display: inline-block;\n",
       "  white-space: pre-wrap;\n",
       "}\n",
       "\n",
       ":root {\n",
       "\t--hl-strong:        hsla( 60, 100%,  70%, 0.9  );\n",
       "\t--hl-rim:           hsla( 55,  80%,  50%, 1.0  );\n",
       "}\n",
       "</style>"
      ],
      "text/plain": [
       "<IPython.core.display.HTML object>"
      ]
     },
     "metadata": {},
     "output_type": "display_data"
    }
   ],
   "source": [
    "A.reuse()"
   ]
  },
  {
   "cell_type": "markdown",
   "metadata": {},
   "source": [
    "# Gaps"
   ]
  },
  {
   "cell_type": "code",
   "execution_count": 15,
   "metadata": {},
   "outputs": [],
   "source": [
    "c = 427931\n",
    "s = L.u(c, otype=\"sentence\")[0]\n",
    "v = L.u(c, otype=\"verse\")[0]"
   ]
  },
  {
   "cell_type": "code",
   "execution_count": 16,
   "metadata": {},
   "outputs": [
    {
     "data": {
      "text/markdown": [
       "# bhsa app context\n",
       "\n"
      ],
      "text/plain": [
       "<IPython.core.display.Markdown object>"
      ]
     },
     "metadata": {},
     "output_type": "display_data"
    },
    {
     "data": {
      "text/markdown": [
       "<details><summary>1. afterChild</summary>\n",
       "{}\n",
       "\n",
       "</details>\n"
      ],
      "text/plain": [
       "<IPython.core.display.Markdown object>"
      ]
     },
     "metadata": {},
     "output_type": "display_data"
    },
    {
     "data": {
      "text/markdown": [
       "<details><summary>2. allowedBaseTypes</summary>\n",
       "\n",
       "1.  `lex`\n",
       "2.  `half_verse`\n",
       "3.  `sentence`\n",
       "4.  `sentence_atom`\n",
       "5.  `clause`\n",
       "6.  `clause_atom`\n",
       "7.  `phrase`\n",
       "8.  `phrase_atom`\n",
       "9.  `subphrase`\n",
       "\n",
       "</details>\n"
      ],
      "text/plain": [
       "<IPython.core.display.Markdown object>"
      ]
     },
     "metadata": {},
     "output_type": "display_data"
    },
    {
     "data": {
      "text/markdown": [
       "<details><summary>3. apiVersion</summary>\n",
       "1\n",
       "\n",
       "</details>\n"
      ],
      "text/plain": [
       "<IPython.core.display.Markdown object>"
      ]
     },
     "metadata": {},
     "output_type": "display_data"
    },
    {
     "data": {
      "text/markdown": [
       "<details><summary>4. appName</summary>\n",
       "bhsa\n",
       "\n",
       "</details>\n"
      ],
      "text/plain": [
       "<IPython.core.display.Markdown object>"
      ]
     },
     "metadata": {},
     "output_type": "display_data"
    },
    {
     "data": {
      "text/markdown": [
       "<details><summary>5. appPath</summary>\n",
       "/Users/dirk/github/annotation/app-bhsa/code\n",
       "\n",
       "</details>\n"
      ],
      "text/plain": [
       "<IPython.core.display.Markdown object>"
      ]
     },
     "metadata": {},
     "output_type": "display_data"
    },
    {
     "data": {
      "text/markdown": [
       "<details><summary>6. baseTypes</summary>\n",
       "set()\n",
       "\n",
       "</details>\n"
      ],
      "text/plain": [
       "<IPython.core.display.Markdown object>"
      ]
     },
     "metadata": {},
     "output_type": "display_data"
    },
    {
     "data": {
      "text/markdown": [
       "<details><summary>7. browseContentPretty</summary>\n",
       "False\n",
       "\n",
       "</details>\n"
      ],
      "text/plain": [
       "<IPython.core.display.Markdown object>"
      ]
     },
     "metadata": {},
     "output_type": "display_data"
    },
    {
     "data": {
      "text/markdown": [
       "<details><summary>8. browseNavLevel</summary>\n",
       "2\n",
       "\n",
       "</details>\n"
      ],
      "text/plain": [
       "<IPython.core.display.Markdown object>"
      ]
     },
     "metadata": {},
     "output_type": "display_data"
    },
    {
     "data": {
      "text/markdown": [
       "<details><summary>9. charText</summary>\n",
       "How TF features represent text\n",
       "\n",
       "</details>\n"
      ],
      "text/plain": [
       "<IPython.core.display.Markdown object>"
      ]
     },
     "metadata": {},
     "output_type": "display_data"
    },
    {
     "data": {
      "text/markdown": [
       "<details><summary>10. charUrl</summary>\n",
       "https://annotation.github.io/text-fabric/Writing/Transcription/Hebrew\n",
       "\n",
       "</details>\n"
      ],
      "text/plain": [
       "<IPython.core.display.Markdown object>"
      ]
     },
     "metadata": {},
     "output_type": "display_data"
    },
    {
     "data": {
      "text/markdown": [
       "<details><summary>11. childType</summary>\n",
       "\n",
       "*   **book**: \n",
       "    *   `chapter`\n",
       "*   **chapter**: \n",
       "    *   `verse`\n",
       "*   **clause**: \n",
       "    *   `clause_atom`\n",
       "*   **clause_atom**: \n",
       "    *   `phrase_atom`\n",
       "*   **half_verse**: \n",
       "    *   `sentence_atom`\n",
       "*   **phrase**: \n",
       "    *   `phrase_atom`\n",
       "*   **phrase_atom**: \n",
       "    *   `word`\n",
       "*   **sentence**: \n",
       "    *   `sentence_atom`\n",
       "*   **sentence_atom**: \n",
       "    *   `clause_atom`\n",
       "*   **subphrase**: \n",
       "    *   `word`\n",
       "*   **verse**: \n",
       "    *   `sentence_atom`\n",
       "\n",
       "</details>\n"
      ],
      "text/plain": [
       "<IPython.core.display.Markdown object>"
      ]
     },
     "metadata": {},
     "output_type": "display_data"
    },
    {
     "data": {
      "text/markdown": [
       "<details><summary>12. childrenCustom</summary>\n",
       "{}\n",
       "\n",
       "</details>\n"
      ],
      "text/plain": [
       "<IPython.core.display.Markdown object>"
      ]
     },
     "metadata": {},
     "output_type": "display_data"
    },
    {
     "data": {
      "text/markdown": [
       "<details><summary>13. chunkedTypes</summary>\n",
       "\n",
       "1.  `clause`\n",
       "2.  `phrase`\n",
       "3.  `sentence`\n",
       "\n",
       "</details>\n"
      ],
      "text/plain": [
       "<IPython.core.display.Markdown object>"
      ]
     },
     "metadata": {},
     "output_type": "display_data"
    },
    {
     "data": {
      "text/markdown": [
       "<details><summary>14. commit</summary>\n",
       "None\n",
       "\n",
       "</details>\n"
      ],
      "text/plain": [
       "<IPython.core.display.Markdown object>"
      ]
     },
     "metadata": {},
     "output_type": "display_data"
    },
    {
     "data": {
      "text/markdown": [
       "<details><summary>15. condenseType</summary>\n",
       "verse\n",
       "\n",
       "</details>\n"
      ],
      "text/plain": [
       "<IPython.core.display.Markdown object>"
      ]
     },
     "metadata": {},
     "output_type": "display_data"
    },
    {
     "data": {
      "text/markdown": [
       "<details><summary>16. condenseTypes</summary>\n",
       "\n",
       "1.  \n",
       "    *   `book`\n",
       "    *   `10938.051282051281`\n",
       "    *   `426585`\n",
       "    *   `426623`\n",
       "2.  \n",
       "    *   `chapter`\n",
       "    *   `459.18622174381056`\n",
       "    *   `426624`\n",
       "    *   `427552`\n",
       "3.  \n",
       "    *   `lex`\n",
       "    *   `46.2021011588866`\n",
       "    *   `1437567`\n",
       "    *   `1446799`\n",
       "4.  \n",
       "    *   `verse`\n",
       "    *   `18.37694395381898`\n",
       "    *   `1414354`\n",
       "    *   `1437566`\n",
       "5.  \n",
       "    *   `half_verse`\n",
       "    *   `9.441876936697653`\n",
       "    *   `606362`\n",
       "    *   `651541`\n",
       "6.  \n",
       "    *   `sentence`\n",
       "    *   `6.693928789994822`\n",
       "    *   `1172290`\n",
       "    *   `1236016`\n",
       "7.  \n",
       "    *   `sentence_atom`\n",
       "    *   `6.611142967841921`\n",
       "    *   `1236017`\n",
       "    *   `1300541`\n",
       "8.  \n",
       "    *   `clause`\n",
       "    *   `4.8408892318516585`\n",
       "    *   `427553`\n",
       "    *   `515673`\n",
       "9.  \n",
       "    *   `clause_atom`\n",
       "    *   `4.703863796753705`\n",
       "    *   `515674`\n",
       "    *   `606361`\n",
       "10. \n",
       "    *   `phrase`\n",
       "    *   `1.684724355961723`\n",
       "    *   `651542`\n",
       "    *   `904748`\n",
       "11. \n",
       "    *   `phrase_atom`\n",
       "    *   `1.5944621572020736`\n",
       "    *   `904749`\n",
       "    *   `1172289`\n",
       "12. \n",
       "    *   `subphrase`\n",
       "    *   `1.4231715460584122`\n",
       "    *   `1300542`\n",
       "    *   `1414353`\n",
       "13. \n",
       "    *   `word`\n",
       "    *   `1`\n",
       "    *   `1`\n",
       "    *   `426584`\n",
       "\n",
       "</details>\n"
      ],
      "text/plain": [
       "<IPython.core.display.Markdown object>"
      ]
     },
     "metadata": {},
     "output_type": "display_data"
    },
    {
     "data": {
      "text/markdown": [
       "<details><summary>17. corpus</summary>\n",
       "BHSA = Biblia Hebraica Stuttgartensia Amstelodamensis\n",
       "\n",
       "</details>\n"
      ],
      "text/plain": [
       "<IPython.core.display.Markdown object>"
      ]
     },
     "metadata": {},
     "output_type": "display_data"
    },
    {
     "data": {
      "text/markdown": [
       "<details><summary>18. css</summary>\n",
       "*empty*\n",
       "\n",
       "</details>\n"
      ],
      "text/plain": [
       "<IPython.core.display.Markdown object>"
      ]
     },
     "metadata": {},
     "output_type": "display_data"
    },
    {
     "data": {
      "text/markdown": [
       "<details><summary>19. dataDisplay</summary>\n",
       "\n",
       "*   **exampleSectionHtml**: `<code>Genesis 1:1</code> (use <a href=\"https://github.com/{org}/{repo}/blob/master/tf/{version}/book%40en.tf\" target=\"_blank\">English book names</a>)`\n",
       "*   **excludedFeatures**: \n",
       "    *   `g_uvf_utf8`\n",
       "    *   `g_vbs`\n",
       "    *   `kq_hybrid`\n",
       "    *   `languageISO`\n",
       "    *   `g_nme`\n",
       "    *   `lex0`\n",
       "    *   `is_root`\n",
       "    *   `g_vbs_utf8`\n",
       "    *   `g_uvf`\n",
       "    *   `dist`\n",
       "    *   `root`\n",
       "    *   `suffix_person`\n",
       "    *   `g_vbe`\n",
       "    *   `dist_unit`\n",
       "    *   `suffix_number`\n",
       "    *   `distributional_parent`\n",
       "    *   `kq_hybrid_utf8`\n",
       "    *   `crossrefSET`\n",
       "    *   `instruction`\n",
       "    *   `g_prs`\n",
       "    *   `lexeme_count`\n",
       "    *   `rank_occ`\n",
       "    *   `g_pfm_utf8`\n",
       "    *   `freq_occ`\n",
       "    *   `crossrefLCS`\n",
       "    *   `functional_parent`\n",
       "    *   `g_pfm`\n",
       "    *   `g_nme_utf8`\n",
       "    *   `g_vbe_utf8`\n",
       "    *   `kind`\n",
       "    *   `g_prs_utf8`\n",
       "    *   `suffix_gender`\n",
       "    *   `mother_object_type`\n",
       "*   **noneValues**: \n",
       "    *   `none`\n",
       "    *   `unknown`\n",
       "    *   None\n",
       "    *   `NA`\n",
       "\n",
       "</details>\n"
      ],
      "text/plain": [
       "<IPython.core.display.Markdown object>"
      ]
     },
     "metadata": {},
     "output_type": "display_data"
    },
    {
     "data": {
      "text/markdown": [
       "<details><summary>20. defaultClsOrig</summary>\n",
       "txtu hbo\n",
       "\n",
       "</details>\n"
      ],
      "text/plain": [
       "<IPython.core.display.Markdown object>"
      ]
     },
     "metadata": {},
     "output_type": "display_data"
    },
    {
     "data": {
      "text/markdown": [
       "<details><summary>21. defaultFormat</summary>\n",
       "text-orig-full\n",
       "\n",
       "</details>\n"
      ],
      "text/plain": [
       "<IPython.core.display.Markdown object>"
      ]
     },
     "metadata": {},
     "output_type": "display_data"
    },
    {
     "data": {
      "text/markdown": [
       "<details><summary>22. direction</summary>\n",
       "rtl\n",
       "\n",
       "</details>\n"
      ],
      "text/plain": [
       "<IPython.core.display.Markdown object>"
      ]
     },
     "metadata": {},
     "output_type": "display_data"
    },
    {
     "data": {
      "text/markdown": [
       "<details><summary>23. docBase</summary>\n",
       "https://etcbc.github.io/bhsa\n",
       "\n",
       "</details>\n"
      ],
      "text/plain": [
       "<IPython.core.display.Markdown object>"
      ]
     },
     "metadata": {},
     "output_type": "display_data"
    },
    {
     "data": {
      "text/markdown": [
       "<details><summary>24. docExt</summary>\n",
       "*empty*\n",
       "\n",
       "</details>\n"
      ],
      "text/plain": [
       "<IPython.core.display.Markdown object>"
      ]
     },
     "metadata": {},
     "output_type": "display_data"
    },
    {
     "data": {
      "text/markdown": [
       "<details><summary>25. docPage</summary>\n",
       "0_home\n",
       "\n",
       "</details>\n"
      ],
      "text/plain": [
       "<IPython.core.display.Markdown object>"
      ]
     },
     "metadata": {},
     "output_type": "display_data"
    },
    {
     "data": {
      "text/markdown": [
       "<details><summary>26. docRoot</summary>\n",
       "https://etcbc.github.io\n",
       "\n",
       "</details>\n"
      ],
      "text/plain": [
       "<IPython.core.display.Markdown object>"
      ]
     },
     "metadata": {},
     "output_type": "display_data"
    },
    {
     "data": {
      "text/markdown": [
       "<details><summary>27. docUrl</summary>\n",
       "https://etcbc.github.io/bhsa/0_home\n",
       "\n",
       "</details>\n"
      ],
      "text/plain": [
       "<IPython.core.display.Markdown object>"
      ]
     },
     "metadata": {},
     "output_type": "display_data"
    },
    {
     "data": {
      "text/markdown": [
       "<details><summary>28. docs</summary>\n",
       "\n",
       "*   **docBase**: `{docRoot}/{repo}`\n",
       "*   **docExt**: *empty*\n",
       "*   **docPage**: `0_home`\n",
       "*   **docRoot**: `https://{org}.github.io`\n",
       "*   **featurePage**: `0_home`\n",
       "\n",
       "</details>\n"
      ],
      "text/plain": [
       "<IPython.core.display.Markdown object>"
      ]
     },
     "metadata": {},
     "output_type": "display_data"
    },
    {
     "data": {
      "text/markdown": [
       "<details><summary>29. doi</summary>\n",
       "10.5281/zenodo.1007624\n",
       "\n",
       "</details>\n"
      ],
      "text/plain": [
       "<IPython.core.display.Markdown object>"
      ]
     },
     "metadata": {},
     "output_type": "display_data"
    },
    {
     "data": {
      "text/markdown": [
       "<details><summary>30. exampleSection</summary>\n",
       "Genesis 1:1\n",
       "\n",
       "</details>\n"
      ],
      "text/plain": [
       "<IPython.core.display.Markdown object>"
      ]
     },
     "metadata": {},
     "output_type": "display_data"
    },
    {
     "data": {
      "text/markdown": [
       "<details><summary>31. exampleSectionHtml</summary>\n",
       "<code>Genesis 1:1</code> (use <a href=\"https://github.com/{org}/{repo}/blob/master/tf/{version}/book%40en.tf\" target=\"_blank\">English book names</a>)\n",
       "\n",
       "</details>\n"
      ],
      "text/plain": [
       "<IPython.core.display.Markdown object>"
      ]
     },
     "metadata": {},
     "output_type": "display_data"
    },
    {
     "data": {
      "text/markdown": [
       "<details><summary>32. excludedFeatures</summary>\n",
       "\n",
       "1.  `g_uvf_utf8`\n",
       "2.  `g_vbs`\n",
       "3.  `kq_hybrid`\n",
       "4.  `languageISO`\n",
       "5.  `g_nme`\n",
       "6.  `lex0`\n",
       "7.  `is_root`\n",
       "8.  `g_vbs_utf8`\n",
       "9.  `g_uvf`\n",
       "10. `dist`\n",
       "11. `root`\n",
       "12. `suffix_person`\n",
       "13. `g_vbe`\n",
       "14. `dist_unit`\n",
       "15. `suffix_number`\n",
       "16. `distributional_parent`\n",
       "17. `kq_hybrid_utf8`\n",
       "18. `crossrefSET`\n",
       "19. `instruction`\n",
       "20. `g_prs`\n",
       "21. `lexeme_count`\n",
       "22. `rank_occ`\n",
       "23. `g_pfm_utf8`\n",
       "24. `freq_occ`\n",
       "25. `crossrefLCS`\n",
       "26. `functional_parent`\n",
       "27. `g_pfm`\n",
       "28. `g_nme_utf8`\n",
       "29. `g_vbe_utf8`\n",
       "30. `kind`\n",
       "31. `g_prs_utf8`\n",
       "32. `suffix_gender`\n",
       "33. `mother_object_type`\n",
       "\n",
       "</details>\n"
      ],
      "text/plain": [
       "<IPython.core.display.Markdown object>"
      ]
     },
     "metadata": {},
     "output_type": "display_data"
    },
    {
     "data": {
      "text/markdown": [
       "<details><summary>33. extension</summary>\n",
       " hbo\n",
       "\n",
       "</details>\n"
      ],
      "text/plain": [
       "<IPython.core.display.Markdown object>"
      ]
     },
     "metadata": {},
     "output_type": "display_data"
    },
    {
     "data": {
      "text/markdown": [
       "<details><summary>34. featureBase</summary>\n",
       "None\n",
       "\n",
       "</details>\n"
      ],
      "text/plain": [
       "<IPython.core.display.Markdown object>"
      ]
     },
     "metadata": {},
     "output_type": "display_data"
    },
    {
     "data": {
      "text/markdown": [
       "<details><summary>35. featurePage</summary>\n",
       "0_home\n",
       "\n",
       "</details>\n"
      ],
      "text/plain": [
       "<IPython.core.display.Markdown object>"
      ]
     },
     "metadata": {},
     "output_type": "display_data"
    },
    {
     "data": {
      "text/markdown": [
       "<details><summary>36. features</summary>\n",
       "\n",
       "*   **clause**: \n",
       "    *   []\n",
       "    *   {}\n",
       "*   **clause_atom**: \n",
       "    *   []\n",
       "    *   {}\n",
       "*   **half_verse**: \n",
       "    *   []\n",
       "    *   {}\n",
       "*   **lex**: \n",
       "    *   []\n",
       "    *   {}\n",
       "*   **phrase**: \n",
       "    *   []\n",
       "    *   {}\n",
       "*   **phrase_atom**: \n",
       "    *   []\n",
       "    *   {}\n",
       "*   **sentence**: \n",
       "    *   []\n",
       "    *   {}\n",
       "*   **sentence_atom**: \n",
       "    *   []\n",
       "    *   {}\n",
       "*   **subphrase**: \n",
       "    *   []\n",
       "    *   {}\n",
       "*   **verse**: \n",
       "    *   []\n",
       "    *   {}\n",
       "*   **word**: \n",
       "    *   \n",
       "        *   `pdp`\n",
       "        *   `vs`\n",
       "        *   `vt`\n",
       "    *   {}\n",
       "\n",
       "</details>\n"
      ],
      "text/plain": [
       "<IPython.core.display.Markdown object>"
      ]
     },
     "metadata": {},
     "output_type": "display_data"
    },
    {
     "data": {
      "text/markdown": [
       "<details><summary>37. featuresBare</summary>\n",
       "\n",
       "*   **clause**: \n",
       "    *   []\n",
       "    *   {}\n",
       "*   **clause_atom**: \n",
       "    *   []\n",
       "    *   {}\n",
       "*   **half_verse**: \n",
       "    *   []\n",
       "    *   {}\n",
       "*   **lex**: \n",
       "    *   \n",
       "        *   `gloss`\n",
       "    *   {}\n",
       "*   **phrase**: \n",
       "    *   []\n",
       "    *   {}\n",
       "*   **phrase_atom**: \n",
       "    *   []\n",
       "    *   {}\n",
       "*   **sentence**: \n",
       "    *   []\n",
       "    *   {}\n",
       "*   **sentence_atom**: \n",
       "    *   []\n",
       "    *   {}\n",
       "*   **subphrase**: \n",
       "    *   []\n",
       "    *   {}\n",
       "*   **verse**: \n",
       "    *   []\n",
       "    *   {}\n",
       "*   **word**: \n",
       "    *   \n",
       "        *   `gloss`\n",
       "    *   \n",
       "        *   **`gloss`**: `lex`\n",
       "\n",
       "</details>\n"
      ],
      "text/plain": [
       "<IPython.core.display.Markdown object>"
      ]
     },
     "metadata": {},
     "output_type": "display_data"
    },
    {
     "data": {
      "text/markdown": [
       "<details><summary>38. formatCls</summary>\n",
       "\n",
       "*   **lex-default**: `txtn`\n",
       "*   **lex-orig-full**: `txtu hbo`\n",
       "*   **lex-orig-plain**: `txtu hbo`\n",
       "*   **lex-trans-full**: `txtt`\n",
       "*   **lex-trans-plain**: `txtt`\n",
       "*   **text-orig-full**: `txtu hbo`\n",
       "*   **text-orig-full-ketiv**: `txtu hbo`\n",
       "*   **text-orig-plain**: `txtu hbo`\n",
       "*   **text-phono-full**: `txtp`\n",
       "*   **text-trans-full**: `txtt`\n",
       "*   **text-trans-full-ketiv**: `txtt`\n",
       "*   **text-trans-plain**: `txtt`\n",
       "\n",
       "</details>\n"
      ],
      "text/plain": [
       "<IPython.core.display.Markdown object>"
      ]
     },
     "metadata": {},
     "output_type": "display_data"
    },
    {
     "data": {
      "text/markdown": [
       "<details><summary>39. formatHtml</summary>\n",
       "set()\n",
       "\n",
       "</details>\n"
      ],
      "text/plain": [
       "<IPython.core.display.Markdown object>"
      ]
     },
     "metadata": {},
     "output_type": "display_data"
    },
    {
     "data": {
      "text/markdown": [
       "<details><summary>40. formatMethod</summary>\n",
       "{}\n",
       "\n",
       "</details>\n"
      ],
      "text/plain": [
       "<IPython.core.display.Markdown object>"
      ]
     },
     "metadata": {},
     "output_type": "display_data"
    },
    {
     "data": {
      "text/markdown": [
       "<details><summary>41. graphicsRelative</summary>\n",
       "None\n",
       "\n",
       "</details>\n"
      ],
      "text/plain": [
       "<IPython.core.display.Markdown object>"
      ]
     },
     "metadata": {},
     "output_type": "display_data"
    },
    {
     "data": {
      "text/markdown": [
       "<details><summary>42. hasGraphics</summary>\n",
       "set()\n",
       "\n",
       "</details>\n"
      ],
      "text/plain": [
       "<IPython.core.display.Markdown object>"
      ]
     },
     "metadata": {},
     "output_type": "display_data"
    },
    {
     "data": {
      "text/markdown": [
       "<details><summary>43. interfaceDefaults</summary>\n",
       "\n",
       "*   **lineNumbers**: None\n",
       "*   **prettyTypes**: `True`\n",
       "*   **showChunks**: False\n",
       "*   **showFeatures**: `True`\n",
       "*   **showGraphics**: None\n",
       "*   **withNodes**: False\n",
       "*   **withTypes**: False\n",
       "\n",
       "</details>\n"
      ],
      "text/plain": [
       "<IPython.core.display.Markdown object>"
      ]
     },
     "metadata": {},
     "output_type": "display_data"
    },
    {
     "data": {
      "text/markdown": [
       "<details><summary>44. isChunkOf</summary>\n",
       "\n",
       "*   **clause_atom**: `clause`\n",
       "*   **phrase_atom**: `phrase`\n",
       "*   **sentence_atom**: `sentence`\n",
       "\n",
       "</details>\n"
      ],
      "text/plain": [
       "<IPython.core.display.Markdown object>"
      ]
     },
     "metadata": {},
     "output_type": "display_data"
    },
    {
     "data": {
      "text/markdown": [
       "<details><summary>45. isCompatible</summary>\n",
       "True\n",
       "\n",
       "</details>\n"
      ],
      "text/plain": [
       "<IPython.core.display.Markdown object>"
      ]
     },
     "metadata": {},
     "output_type": "display_data"
    },
    {
     "data": {
      "text/markdown": [
       "<details><summary>46. labels</summary>\n",
       "\n",
       "*   **book**: \n",
       "    *   `True`\n",
       "    *   ()\n",
       "*   **chapter**: \n",
       "    *   `True`\n",
       "    *   ()\n",
       "*   **clause**: \n",
       "    *   `{typ} {rela}`\n",
       "    *   \n",
       "        *   `typ`\n",
       "        *   `rela`\n",
       "*   **clause_atom**: \n",
       "    *   `{code}`\n",
       "    *   \n",
       "        *   `code`\n",
       "*   **half_verse**: \n",
       "    *   `{label}`\n",
       "    *   \n",
       "        *   `label`\n",
       "*   **lex**: \n",
       "    *   `{voc_lex_utf8}`\n",
       "    *   \n",
       "        *   `voc_lex_utf8`\n",
       "*   **phrase**: \n",
       "    *   `{typ} {function}`\n",
       "    *   \n",
       "        *   `typ`\n",
       "        *   `function`\n",
       "*   **phrase_atom**: \n",
       "    *   `{typ} {rela}`\n",
       "    *   \n",
       "        *   `typ`\n",
       "        *   `rela`\n",
       "*   **sentence**: \n",
       "    *   `{number}`\n",
       "    *   \n",
       "        *   `number`\n",
       "*   **sentence_atom**: \n",
       "    *   `{number}`\n",
       "    *   \n",
       "        *   `number`\n",
       "*   **subphrase**: \n",
       "    *   `{number}`\n",
       "    *   \n",
       "        *   `number`\n",
       "*   **verse**: \n",
       "    *   *empty*\n",
       "    *   ()\n",
       "*   **word**: \n",
       "    *   `True`\n",
       "    *   ()\n",
       "\n",
       "</details>\n"
      ],
      "text/plain": [
       "<IPython.core.display.Markdown object>"
      ]
     },
     "metadata": {},
     "output_type": "display_data"
    },
    {
     "data": {
      "text/markdown": [
       "<details><summary>47. language</summary>\n",
       "Hebrew\n",
       "\n",
       "</details>\n"
      ],
      "text/plain": [
       "<IPython.core.display.Markdown object>"
      ]
     },
     "metadata": {},
     "output_type": "display_data"
    },
    {
     "data": {
      "text/markdown": [
       "<details><summary>48. levelCls</summary>\n",
       "\n",
       "*   **book**: \n",
       "    *   **`children`**: `children row wrap`\n",
       "    *   **`container`**: `contnr c4`\n",
       "    *   **`label`**: `lbl c4`\n",
       "*   **chapter**: \n",
       "    *   **`children`**: `children row wrap`\n",
       "    *   **`container`**: `contnr c4`\n",
       "    *   **`label`**: `lbl c4`\n",
       "*   **clause**: \n",
       "    *   **`children`**: `children row wrap`\n",
       "    *   **`container`**: `contnr c2`\n",
       "    *   **`label`**: `lbl c2`\n",
       "*   **clause_atom**: \n",
       "    *   **`children`**: `children row wrap`\n",
       "    *   **`container`**: `contnr c1`\n",
       "    *   **`label`**: `lbl c1`\n",
       "*   **half_verse**: \n",
       "    *   **`children`**: `children row wrap`\n",
       "    *   **`container`**: `contnr c3`\n",
       "    *   **`label`**: `lbl c3`\n",
       "*   **lex**: \n",
       "    *   **`children`**: *empty*\n",
       "    *   **`container`**: `contnr c0`\n",
       "    *   **`label`**: `lbl c0`\n",
       "*   **phrase**: \n",
       "    *   **`children`**: `children row wrap`\n",
       "    *   **`container`**: `contnr c1`\n",
       "    *   **`label`**: `lbl c1`\n",
       "*   **phrase_atom**: \n",
       "    *   **`children`**: `children row wrap`\n",
       "    *   **`container`**: `contnr c1`\n",
       "    *   **`label`**: `lbl c1`\n",
       "*   **sentence**: \n",
       "    *   **`children`**: `children row wrap`\n",
       "    *   **`container`**: `contnr c2`\n",
       "    *   **`label`**: `lbl c2`\n",
       "*   **sentence_atom**: \n",
       "    *   **`children`**: `children row wrap`\n",
       "    *   **`container`**: `contnr c1`\n",
       "    *   **`label`**: `lbl c1`\n",
       "*   **subphrase**: \n",
       "    *   **`children`**: `children row wrap`\n",
       "    *   **`container`**: `contnr c1`\n",
       "    *   **`label`**: `lbl c1`\n",
       "*   **verse**: \n",
       "    *   **`children`**: `children row wrap`\n",
       "    *   **`container`**: `contnr c3`\n",
       "    *   **`label`**: `lbl c3`\n",
       "*   **word**: \n",
       "    *   **`children`**: *empty*\n",
       "    *   **`container`**: `contnr c0`\n",
       "    *   **`label`**: `lbl c0`\n",
       "\n",
       "</details>\n"
      ],
      "text/plain": [
       "<IPython.core.display.Markdown object>"
      ]
     },
     "metadata": {},
     "output_type": "display_data"
    },
    {
     "data": {
      "text/markdown": [
       "<details><summary>49. levels</summary>\n",
       "\n",
       "*   **book**: \n",
       "    *   **`flow`**: `row`\n",
       "    *   **`level`**: `4`\n",
       "    *   **`stretch`**: `True`\n",
       "    *   **`wrap`**: `True`\n",
       "*   **chapter**: \n",
       "    *   **`flow`**: `row`\n",
       "    *   **`level`**: `4`\n",
       "    *   **`stretch`**: `True`\n",
       "    *   **`wrap`**: `True`\n",
       "*   **clause**: \n",
       "    *   **`flow`**: `row`\n",
       "    *   **`level`**: `2`\n",
       "    *   **`stretch`**: `True`\n",
       "    *   **`wrap`**: `True`\n",
       "*   **clause_atom**: \n",
       "    *   **`flow`**: `row`\n",
       "    *   **`level`**: `1`\n",
       "    *   **`stretch`**: `True`\n",
       "    *   **`wrap`**: `True`\n",
       "*   **half_verse**: \n",
       "    *   **`flow`**: `row`\n",
       "    *   **`level`**: `3`\n",
       "    *   **`stretch`**: `True`\n",
       "    *   **`wrap`**: `True`\n",
       "*   **lex**: \n",
       "    *   **`flow`**: `col`\n",
       "    *   **`level`**: 0\n",
       "    *   **`stretch`**: False\n",
       "    *   **`wrap`**: False\n",
       "*   **phrase**: \n",
       "    *   **`flow`**: `row`\n",
       "    *   **`level`**: `1`\n",
       "    *   **`stretch`**: `True`\n",
       "    *   **`wrap`**: `True`\n",
       "*   **phrase_atom**: \n",
       "    *   **`flow`**: `row`\n",
       "    *   **`level`**: `1`\n",
       "    *   **`stretch`**: `True`\n",
       "    *   **`wrap`**: `True`\n",
       "*   **sentence**: \n",
       "    *   **`flow`**: `row`\n",
       "    *   **`level`**: `2`\n",
       "    *   **`stretch`**: `True`\n",
       "    *   **`wrap`**: `True`\n",
       "*   **sentence_atom**: \n",
       "    *   **`flow`**: `row`\n",
       "    *   **`level`**: `1`\n",
       "    *   **`stretch`**: `True`\n",
       "    *   **`wrap`**: `True`\n",
       "*   **subphrase**: \n",
       "    *   **`flow`**: `row`\n",
       "    *   **`level`**: `1`\n",
       "    *   **`stretch`**: `True`\n",
       "    *   **`wrap`**: `True`\n",
       "*   **verse**: \n",
       "    *   **`flow`**: `row`\n",
       "    *   **`level`**: `3`\n",
       "    *   **`stretch`**: `True`\n",
       "    *   **`wrap`**: `True`\n",
       "*   **word**: \n",
       "    *   **`flow`**: `col`\n",
       "    *   **`level`**: 0\n",
       "    *   **`stretch`**: False\n",
       "    *   **`wrap`**: False\n",
       "\n",
       "</details>\n"
      ],
      "text/plain": [
       "<IPython.core.display.Markdown object>"
      ]
     },
     "metadata": {},
     "output_type": "display_data"
    },
    {
     "data": {
      "text/markdown": [
       "<details><summary>50. lexMap</summary>\n",
       "\n",
       "*   **word**: `lex`\n",
       "\n",
       "</details>\n"
      ],
      "text/plain": [
       "<IPython.core.display.Markdown object>"
      ]
     },
     "metadata": {},
     "output_type": "display_data"
    },
    {
     "data": {
      "text/markdown": [
       "<details><summary>51. lexTypes</summary>\n",
       "\n",
       "1.  `lex`\n",
       "\n",
       "</details>\n"
      ],
      "text/plain": [
       "<IPython.core.display.Markdown object>"
      ]
     },
     "metadata": {},
     "output_type": "display_data"
    },
    {
     "data": {
      "text/markdown": [
       "<details><summary>52. lineNumberFeature</summary>\n",
       "{}\n",
       "\n",
       "</details>\n"
      ],
      "text/plain": [
       "<IPython.core.display.Markdown object>"
      ]
     },
     "metadata": {},
     "output_type": "display_data"
    },
    {
     "data": {
      "text/markdown": [
       "<details><summary>53. local</summary>\n",
       "clone\n",
       "\n",
       "</details>\n"
      ],
      "text/plain": [
       "<IPython.core.display.Markdown object>"
      ]
     },
     "metadata": {},
     "output_type": "display_data"
    },
    {
     "data": {
      "text/markdown": [
       "<details><summary>54. localDir</summary>\n",
       "/Users/dirk/github/etcbc/bhsa/_temp\n",
       "\n",
       "</details>\n"
      ],
      "text/plain": [
       "<IPython.core.display.Markdown object>"
      ]
     },
     "metadata": {},
     "output_type": "display_data"
    },
    {
     "data": {
      "text/markdown": [
       "<details><summary>55. moduleSpecs</summary>\n",
       "\n",
       "1.  \n",
       "    *   **`corpus`**: `Phonetic Transcriptions`\n",
       "    *   **`docUrl`**: `https://nbviewer.jupyter.org/github/etcbc/phono/blob/master/programs/phono.ipynb`\n",
       "    *   **`doi`**: `10.5281/zenodo.1007636`\n",
       "    *   **`org`**: `etcbc`\n",
       "    *   **`relative`**: `tf`\n",
       "    *   **`repo`**: `phono`\n",
       "2.  \n",
       "    *   **`corpus`**: `Parallel Passages`\n",
       "    *   **`docUrl`**: `https://nbviewer.jupyter.org/github/etcbc/parallels/blob/master/programs/parallels.ipynb`\n",
       "    *   **`doi`**: `10.5281/zenodo.1007642`\n",
       "    *   **`org`**: `etcbc`\n",
       "    *   **`relative`**: `tf`\n",
       "    *   **`repo`**: `parallels`\n",
       "\n",
       "</details>\n"
      ],
      "text/plain": [
       "<IPython.core.display.Markdown object>"
      ]
     },
     "metadata": {},
     "output_type": "display_data"
    },
    {
     "data": {
      "text/markdown": [
       "<details><summary>56. noChildren</summary>\n",
       "set()\n",
       "\n",
       "</details>\n"
      ],
      "text/plain": [
       "<IPython.core.display.Markdown object>"
      ]
     },
     "metadata": {},
     "output_type": "display_data"
    },
    {
     "data": {
      "text/markdown": [
       "<details><summary>57. noDescendTypes</summary>\n",
       "\n",
       "1.  `lex`\n",
       "\n",
       "</details>\n"
      ],
      "text/plain": [
       "<IPython.core.display.Markdown object>"
      ]
     },
     "metadata": {},
     "output_type": "display_data"
    },
    {
     "data": {
      "text/markdown": [
       "<details><summary>58. noneValues</summary>\n",
       "\n",
       "1.  `none`\n",
       "2.  `unknown`\n",
       "3.  None\n",
       "4.  `NA`\n",
       "\n",
       "</details>\n"
      ],
      "text/plain": [
       "<IPython.core.display.Markdown object>"
      ]
     },
     "metadata": {},
     "output_type": "display_data"
    },
    {
     "data": {
      "text/markdown": [
       "<details><summary>59. org</summary>\n",
       "etcbc\n",
       "\n",
       "</details>\n"
      ],
      "text/plain": [
       "<IPython.core.display.Markdown object>"
      ]
     },
     "metadata": {},
     "output_type": "display_data"
    },
    {
     "data": {
      "text/markdown": [
       "<details><summary>60. plainCustom</summary>\n",
       "{}\n",
       "\n",
       "</details>\n"
      ],
      "text/plain": [
       "<IPython.core.display.Markdown object>"
      ]
     },
     "metadata": {},
     "output_type": "display_data"
    },
    {
     "data": {
      "text/markdown": [
       "<details><summary>61. prettyCustom</summary>\n",
       "{}\n",
       "\n",
       "</details>\n"
      ],
      "text/plain": [
       "<IPython.core.display.Markdown object>"
      ]
     },
     "metadata": {},
     "output_type": "display_data"
    },
    {
     "data": {
      "text/markdown": [
       "<details><summary>62. provenanceSpec</summary>\n",
       "\n",
       "*   **corpus**: `BHSA = Biblia Hebraica Stuttgartensia Amstelodamensis`\n",
       "*   **doi**: `10.5281/zenodo.1007624`\n",
       "*   **moduleSpecs**: \n",
       "    *   \n",
       "        *   **`corpus`**: `Phonetic Transcriptions`\n",
       "        *   **`docUrl`**: `https://nbviewer.jupyter.org/github/etcbc/phono/blob/master/programs/phono.ipynb`\n",
       "        *   **`doi`**: `10.5281/zenodo.1007636`\n",
       "        *   **`org`**: `etcbc`\n",
       "        *   **`relative`**: `tf`\n",
       "        *   **`repo`**: `phono`\n",
       "    *   \n",
       "        *   **`corpus`**: `Parallel Passages`\n",
       "        *   **`docUrl`**: `https://nbviewer.jupyter.org/github/etcbc/parallels/blob/master/programs/parallels.ipynb`\n",
       "        *   **`doi`**: `10.5281/zenodo.1007642`\n",
       "        *   **`org`**: `etcbc`\n",
       "        *   **`relative`**: `tf`\n",
       "        *   **`repo`**: `parallels`\n",
       "*   **org**: `etcbc`\n",
       "*   **repo**: `bhsa`\n",
       "*   **version**: `c`\n",
       "*   **webBase**: `https://shebanq.ancient-data.org/hebrew`\n",
       "*   **webHint**: `Show this on SHEBANQ`\n",
       "*   **webLang**: `la`\n",
       "*   **webUrl**: `{webBase}/text?book=<1>&chapter=<2>&verse=<3>&version={version}&mr=m&qw=q&tp=txt_p&tr=hb&wget=v&qget=v&nget=vt`\n",
       "*   **webUrlLex**: `{webBase}/word?version={version}&id=<lid>`\n",
       "\n",
       "</details>\n"
      ],
      "text/plain": [
       "<IPython.core.display.Markdown object>"
      ]
     },
     "metadata": {},
     "output_type": "display_data"
    },
    {
     "data": {
      "text/markdown": [
       "<details><summary>63. relative</summary>\n",
       "tf\n",
       "\n",
       "</details>\n"
      ],
      "text/plain": [
       "<IPython.core.display.Markdown object>"
      ]
     },
     "metadata": {},
     "output_type": "display_data"
    },
    {
     "data": {
      "text/markdown": [
       "<details><summary>64. release</summary>\n",
       "None\n",
       "\n",
       "</details>\n"
      ],
      "text/plain": [
       "<IPython.core.display.Markdown object>"
      ]
     },
     "metadata": {},
     "output_type": "display_data"
    },
    {
     "data": {
      "text/markdown": [
       "<details><summary>65. repo</summary>\n",
       "bhsa\n",
       "\n",
       "</details>\n"
      ],
      "text/plain": [
       "<IPython.core.display.Markdown object>"
      ]
     },
     "metadata": {},
     "output_type": "display_data"
    },
    {
     "data": {
      "text/markdown": [
       "<details><summary>66. sectionSep1</summary>\n",
       " \n",
       "\n",
       "</details>\n"
      ],
      "text/plain": [
       "<IPython.core.display.Markdown object>"
      ]
     },
     "metadata": {},
     "output_type": "display_data"
    },
    {
     "data": {
      "text/markdown": [
       "<details><summary>67. sectionSep2</summary>\n",
       ":\n",
       "\n",
       "</details>\n"
      ],
      "text/plain": [
       "<IPython.core.display.Markdown object>"
      ]
     },
     "metadata": {},
     "output_type": "display_data"
    },
    {
     "data": {
      "text/markdown": [
       "<details><summary>68. styles</summary>\n",
       "\n",
       "*   **clause**: *empty*\n",
       "*   **clause_atom**: *empty*\n",
       "*   **half_verse**: *empty*\n",
       "*   **phrase**: *empty*\n",
       "*   **phrase_atom**: *empty*\n",
       "*   **sentence**: *empty*\n",
       "*   **sentence_atom**: *empty*\n",
       "*   **subphrase**: *empty*\n",
       "\n",
       "</details>\n"
      ],
      "text/plain": [
       "<IPython.core.display.Markdown object>"
      ]
     },
     "metadata": {},
     "output_type": "display_data"
    },
    {
     "data": {
      "text/markdown": [
       "<details><summary>69. templates</summary>\n",
       "\n",
       "*   **book**: \n",
       "    *   `True`\n",
       "    *   ()\n",
       "*   **chapter**: \n",
       "    *   `True`\n",
       "    *   ()\n",
       "*   **clause**: \n",
       "    *   *empty*\n",
       "    *   ()\n",
       "*   **clause_atom**: \n",
       "    *   *empty*\n",
       "    *   ()\n",
       "*   **half_verse**: \n",
       "    *   *empty*\n",
       "    *   ()\n",
       "*   **lex**: \n",
       "    *   `{voc_lex_utf8}`\n",
       "    *   \n",
       "        *   `voc_lex_utf8`\n",
       "*   **phrase**: \n",
       "    *   *empty*\n",
       "    *   ()\n",
       "*   **phrase_atom**: \n",
       "    *   *empty*\n",
       "    *   ()\n",
       "*   **sentence**: \n",
       "    *   *empty*\n",
       "    *   ()\n",
       "*   **sentence_atom**: \n",
       "    *   *empty*\n",
       "    *   ()\n",
       "*   **subphrase**: \n",
       "    *   *empty*\n",
       "    *   ()\n",
       "*   **verse**: \n",
       "    *   *empty*\n",
       "    *   ()\n",
       "*   **word**: \n",
       "    *   `True`\n",
       "    *   ()\n",
       "\n",
       "</details>\n"
      ],
      "text/plain": [
       "<IPython.core.display.Markdown object>"
      ]
     },
     "metadata": {},
     "output_type": "display_data"
    },
    {
     "data": {
      "text/markdown": [
       "<details><summary>70. tfDoc</summary>\n",
       "https://annotation.github.io/text-fabric\n",
       "\n",
       "</details>\n"
      ],
      "text/plain": [
       "<IPython.core.display.Markdown object>"
      ]
     },
     "metadata": {},
     "output_type": "display_data"
    },
    {
     "data": {
      "text/markdown": [
       "<details><summary>71. transform</summary>\n",
       "{}\n",
       "\n",
       "</details>\n"
      ],
      "text/plain": [
       "<IPython.core.display.Markdown object>"
      ]
     },
     "metadata": {},
     "output_type": "display_data"
    },
    {
     "data": {
      "text/markdown": [
       "<details><summary>72. typeDisplay</summary>\n",
       "\n",
       "*   **clause**: \n",
       "    *   **`children`**: `clause_atom`\n",
       "    *   **`label`**: `{typ} {rela}`\n",
       "    *   **`style`**: *empty*\n",
       "*   **clause_atom**: \n",
       "    *   **`children`**: `phrase_atom`\n",
       "    *   **`chunkOf`**: `clause`\n",
       "    *   **`label`**: `{code}`\n",
       "    *   **`level`**: `1`\n",
       "    *   **`style`**: *empty*\n",
       "*   **half_verse**: \n",
       "    *   **`children`**: `sentence_atom`\n",
       "    *   **`label`**: `{label}`\n",
       "    *   **`style`**: *empty*\n",
       "    *   **`verselike`**: `True`\n",
       "*   **lex**: \n",
       "    *   **`featuresBare`**: `gloss`\n",
       "    *   **`label`**: `{voc_lex_utf8}`\n",
       "    *   **`lexOcc`**: `word`\n",
       "    *   **`template`**: `{voc_lex_utf8}`\n",
       "*   **phrase**: \n",
       "    *   **`children`**: `phrase_atom`\n",
       "    *   **`label`**: `{typ} {function}`\n",
       "    *   **`style`**: *empty*\n",
       "*   **phrase_atom**: \n",
       "    *   **`children`**: `word`\n",
       "    *   **`chunkOf`**: `phrase`\n",
       "    *   **`label`**: `{typ} {rela}`\n",
       "    *   **`level`**: `1`\n",
       "    *   **`style`**: *empty*\n",
       "*   **sentence**: \n",
       "    *   **`children`**: `sentence_atom`\n",
       "    *   **`label`**: `{number}`\n",
       "    *   **`style`**: *empty*\n",
       "*   **sentence_atom**: \n",
       "    *   **`children`**: `clause_atom`\n",
       "    *   **`chunkOf`**: `sentence`\n",
       "    *   **`label`**: `{number}`\n",
       "    *   **`level`**: `1`\n",
       "    *   **`style`**: *empty*\n",
       "*   **subphrase**: \n",
       "    *   **`children`**: `word`\n",
       "    *   **`label`**: `{number}`\n",
       "    *   **`style`**: *empty*\n",
       "*   **verse**: \n",
       "    *   **`children`**: `sentence_atom`\n",
       "*   **word**: \n",
       "    *   **`features`**: `pdp vs vt`\n",
       "    *   **`featuresBare`**: `lex:gloss`\n",
       "\n",
       "</details>\n"
      ],
      "text/plain": [
       "<IPython.core.display.Markdown object>"
      ]
     },
     "metadata": {},
     "output_type": "display_data"
    },
    {
     "data": {
      "text/markdown": [
       "<details><summary>73. urlGh</summary>\n",
       "https://github.com\n",
       "\n",
       "</details>\n"
      ],
      "text/plain": [
       "<IPython.core.display.Markdown object>"
      ]
     },
     "metadata": {},
     "output_type": "display_data"
    },
    {
     "data": {
      "text/markdown": [
       "<details><summary>74. urlNb</summary>\n",
       "https://nbviewer.jupyter.org/github\n",
       "\n",
       "</details>\n"
      ],
      "text/plain": [
       "<IPython.core.display.Markdown object>"
      ]
     },
     "metadata": {},
     "output_type": "display_data"
    },
    {
     "data": {
      "text/markdown": [
       "<details><summary>75. verseTypes</summary>\n",
       "\n",
       "1.  `half_verse`\n",
       "2.  `verse`\n",
       "\n",
       "</details>\n"
      ],
      "text/plain": [
       "<IPython.core.display.Markdown object>"
      ]
     },
     "metadata": {},
     "output_type": "display_data"
    },
    {
     "data": {
      "text/markdown": [
       "<details><summary>76. version</summary>\n",
       "c\n",
       "\n",
       "</details>\n"
      ],
      "text/plain": [
       "<IPython.core.display.Markdown object>"
      ]
     },
     "metadata": {},
     "output_type": "display_data"
    },
    {
     "data": {
      "text/markdown": [
       "<details><summary>77. webBase</summary>\n",
       "https://shebanq.ancient-data.org/hebrew\n",
       "\n",
       "</details>\n"
      ],
      "text/plain": [
       "<IPython.core.display.Markdown object>"
      ]
     },
     "metadata": {},
     "output_type": "display_data"
    },
    {
     "data": {
      "text/markdown": [
       "<details><summary>78. webHint</summary>\n",
       "Show this on SHEBANQ\n",
       "\n",
       "</details>\n"
      ],
      "text/plain": [
       "<IPython.core.display.Markdown object>"
      ]
     },
     "metadata": {},
     "output_type": "display_data"
    },
    {
     "data": {
      "text/markdown": [
       "<details><summary>79. webLang</summary>\n",
       "la\n",
       "\n",
       "</details>\n"
      ],
      "text/plain": [
       "<IPython.core.display.Markdown object>"
      ]
     },
     "metadata": {},
     "output_type": "display_data"
    },
    {
     "data": {
      "text/markdown": [
       "<details><summary>80. webLexId</summary>\n",
       "None\n",
       "\n",
       "</details>\n"
      ],
      "text/plain": [
       "<IPython.core.display.Markdown object>"
      ]
     },
     "metadata": {},
     "output_type": "display_data"
    },
    {
     "data": {
      "text/markdown": [
       "<details><summary>81. webUrl</summary>\n",
       "https://shebanq.ancient-data.org/hebrew/text?book=<1>&chapter=<2>&verse=<3>&version=c&mr=m&qw=q&tp=txt_p&tr=hb&wget=v&qget=v&nget=vt\n",
       "\n",
       "</details>\n"
      ],
      "text/plain": [
       "<IPython.core.display.Markdown object>"
      ]
     },
     "metadata": {},
     "output_type": "display_data"
    },
    {
     "data": {
      "text/markdown": [
       "<details><summary>82. webUrlLex</summary>\n",
       "https://shebanq.ancient-data.org/hebrew/word?version=c&id=<lid>\n",
       "\n",
       "</details>\n"
      ],
      "text/plain": [
       "<IPython.core.display.Markdown object>"
      ]
     },
     "metadata": {},
     "output_type": "display_data"
    },
    {
     "data": {
      "text/markdown": [
       "<details><summary>83. writing</summary>\n",
       "hbo\n",
       "\n",
       "</details>\n"
      ],
      "text/plain": [
       "<IPython.core.display.Markdown object>"
      ]
     },
     "metadata": {},
     "output_type": "display_data"
    },
    {
     "data": {
      "text/markdown": [
       "<details><summary>84. zip</summary>\n",
       "\n",
       "1.  `bhsa`\n",
       "2.  \n",
       "    *   `etcbc`\n",
       "    *   `phono`\n",
       "    *   `tf`\n",
       "3.  \n",
       "    *   `etcbc`\n",
       "    *   `parallels`\n",
       "    *   `tf`\n",
       "\n",
       "</details>\n"
      ],
      "text/plain": [
       "<IPython.core.display.Markdown object>"
      ]
     },
     "metadata": {},
     "output_type": "display_data"
    }
   ],
   "source": [
    "A.showContext()"
   ]
  },
  {
   "cell_type": "code",
   "execution_count": 17,
   "metadata": {},
   "outputs": [
    {
     "data": {
      "text/html": [
       "<a target=\"_blank\" href=\"https://shebanq.ancient-data.org/hebrew/text?book=Genesis&amp;chapter=4&amp;verse=14&amp;version=c&amp;mr=m&amp;qw=q&amp;tp=txt_p&amp;tr=hb&amp;wget=v&amp;qget=v&amp;nget=vt\" title=\"Show this on SHEBANQ\" sec=\"Genesis 4:14\">Genesis 4:14</a>"
      ],
      "text/plain": [
       "<IPython.core.display.HTML object>"
      ]
     },
     "metadata": {},
     "output_type": "display_data"
    }
   ],
   "source": [
    "A.webLink(s)"
   ]
  },
  {
   "cell_type": "code",
   "execution_count": 18,
   "metadata": {},
   "outputs": [
    {
     "data": {
      "text/html": [
       "<span class=\"section ltr\"><a target=\"_blank\" href=\"https://shebanq.ancient-data.org/hebrew/text?book=Genesis&amp;chapter=4&amp;verse=14&amp;version=c&amp;mr=m&amp;qw=q&amp;tp=txt_p&amp;tr=hb&amp;wget=v&amp;qget=v&amp;nget=vt\" title=\"Show this on SHEBANQ\" sec=\"Genesis 4:14\">Genesis 4:14</a> </span><div class=\"children row wrap rtl\"><div class=\"contnr c2  rtl  \" ><div class=\"lbl c2  \"><span class=\"nd\">sentence:1172567</span> <span class=\"\">47</span></div> <div class=\"children row wrap rtl\"><div class=\"contnr cnul trm rtl  \" ><div class=\"children row wrap rtl\"><div class=\"contnr c2  rtl  l \" ><div class=\"lbl c2  \"><span class=\"nd\">clause:427931</span> <span class=\"\">XYqt NA</span></div> <div class=\"children row wrap rtl\"><div class=\"contnr cnul trm rtl  \" ><div class=\"children row wrap rtl\"><div class=\"contnr c1  rtl  \" ><div class=\"lbl c1  \"><span class=\"nd\">phrase:652670</span> <span class=\"\">NP Subj</span></div> <div class=\"children row wrap rtl\"><div class=\"contnr cnul trm rtl  \" ><div class=\"children row wrap rtl\"><div class=\"contnr c0 trm rtl  \" ><div class=\"lbl c0 trm \"><span class=\"nd\">1904</span> <a target=\"_blank\" href=\"https://shebanq.ancient-data.org/hebrew\" title=\"Show this on SHEBANQ\"><span class=\"txtu hbo\">כָל־</span></a></div> <div class='features'><span class=\"gloss \">whole</span><span class=\"pdp \"><span class=\"f\">pdp=</span>subs</span></div></div></div></div></div></div></div></div></div></div><div class=\"contnr c2  rtl  \" ><div class=\"lbl c2  \"><span class=\"nd\">clause:427932</span> <span class=\"\">Ptcp RgRc</span></div> <div class=\"children row wrap rtl\"><div class=\"contnr cnul trm rtl  \" ><div class=\"children row wrap rtl\"><div class=\"contnr c1  rtl  \" ><div class=\"lbl c1  \"><span class=\"nd\">phrase:652671</span> <span class=\"\">VP PtcO</span></div> <div class=\"children row wrap rtl\"><div class=\"contnr cnul trm rtl  \" ><div class=\"children row wrap rtl\"><div class=\"contnr c0 trm rtl  \" ><div class=\"lbl c0 trm \"><span class=\"nd\">1905</span> <a target=\"_blank\" href=\"https://shebanq.ancient-data.org/hebrew\" title=\"Show this on SHEBANQ\"><span class=\"txtu hbo\">מֹצְאִ֖י </span></a></div> <div class='features'><span class=\"gloss \">find</span><span class=\"pdp \"><span class=\"f\">pdp=</span>verb</span><span class=\"vs \"><span class=\"f\">vs=</span>qal</span><span class=\"vt \"><span class=\"f\">vt=</span>ptca</span></div></div></div></div></div></div></div></div></div></div><div class=\"contnr c2  rtl  r \" ><div class=\"lbl c2  \"><span class=\"nd\">clause:427931</span> <span class=\"\">XYqt NA</span></div> <div class=\"children row wrap rtl\"><div class=\"contnr cnul trm rtl  \" ><div class=\"children row wrap rtl\"><div class=\"contnr c1  rtl  \" ><div class=\"lbl c1  \"><span class=\"nd\">phrase:652672</span> <span class=\"\">VP PreO</span></div> <div class=\"children row wrap rtl\"><div class=\"contnr cnul trm rtl  \" ><div class=\"children row wrap rtl\"><div class=\"contnr c0 trm rtl  \" ><div class=\"lbl c0 trm \"><span class=\"nd\">1906</span> <a target=\"_blank\" href=\"https://shebanq.ancient-data.org/hebrew\" title=\"Show this on SHEBANQ\"><span class=\"txtu hbo\">יַֽהַרְגֵֽנִי׃ </span></a></div> <div class='features'><span class=\"gloss \">kill</span><span class=\"pdp \"><span class=\"f\">pdp=</span>verb</span><span class=\"vs \"><span class=\"f\">vs=</span>qal</span><span class=\"vt \"><span class=\"f\">vt=</span>impf</span></div></div></div></div></div></div></div></div></div></div></div></div></div></div></div>"
      ],
      "text/plain": [
       "<IPython.core.display.HTML object>"
      ]
     },
     "metadata": {},
     "output_type": "display_data"
    }
   ],
   "source": [
    "A.pretty(s, withNodes=True)"
   ]
  },
  {
   "cell_type": "code",
   "execution_count": 19,
   "metadata": {},
   "outputs": [
    {
     "data": {
      "text/html": [
       "<span class=\"section ltr\"><a target=\"_blank\" href=\"https://shebanq.ancient-data.org/hebrew/text?book=Genesis&amp;chapter=4&amp;verse=14&amp;version=c&amp;mr=m&amp;qw=q&amp;tp=txt_p&amp;tr=hb&amp;wget=v&amp;qget=v&amp;nget=vt\" title=\"Show this on SHEBANQ\" sec=\"Genesis 4:14\">Genesis 4:14</a> </span><div class=\"children row wrap rtl\"><div class=\"contnr c2  rtl  \" ><div class=\"lbl c2  \"><span class=\"nd\">sentence:1172567</span> <span class=\"\">47</span></div> <div class=\"children row wrap rtl\"><div class=\"contnr c1  rtl  \" ><div class=\"lbl c1  \"><span class=\"nd\">sentence_atom:1236297</span> <span class=\"\">281</span></div> <div class=\"children row wrap rtl\"><div class=\"contnr c2  rtl  l \" ><div class=\"lbl c2  \"><span class=\"nd\">clause:427931</span> <span class=\"\">XYqt NA</span></div> <div class=\"children row wrap rtl\"><div class=\"contnr c1  rtl  \" ><div class=\"lbl c1  \"><span class=\"nd\">clause_atom:516064</span> <span class=\"\">112</span></div> <div class=\"children row wrap rtl\"><div class=\"contnr c1  rtl  \" ><div class=\"lbl c1  \"><span class=\"nd\">phrase:652670</span> <span class=\"\">NP Subj</span></div> <div class=\"children row wrap rtl\"><div class=\"contnr c1  rtl  \" ><div class=\"lbl c1  \"><span class=\"nd\">phrase_atom:905918</span> <span class=\"\">NP NA</span></div> <div class=\"children row wrap rtl\"><div class=\"contnr c0 trm rtl  \" ><div class=\"lbl c0 trm \"><span class=\"nd\">1904</span> <a target=\"_blank\" href=\"https://shebanq.ancient-data.org/hebrew\" title=\"Show this on SHEBANQ\"><span class=\"txtu hbo\">כָל־</span></a></div> <div class='features'><span class=\"gloss \">whole</span><span class=\"pdp \"><span class=\"f\">pdp=</span>subs</span></div></div></div></div></div></div></div></div></div></div><div class=\"contnr c2  rtl  \" ><div class=\"lbl c2  \"><span class=\"nd\">clause:427932</span> <span class=\"\">Ptcp RgRc</span></div> <div class=\"children row wrap rtl\"><div class=\"contnr c1  rtl  \" ><div class=\"lbl c1  \"><span class=\"nd\">clause_atom:516065</span> <span class=\"\">161</span></div> <div class=\"children row wrap rtl\"><div class=\"contnr c1  rtl  \" ><div class=\"lbl c1  \"><span class=\"nd\">phrase:652671</span> <span class=\"\">VP PtcO</span></div> <div class=\"children row wrap rtl\"><div class=\"contnr c1  rtl  \" ><div class=\"lbl c1  \"><span class=\"nd\">phrase_atom:905919</span> <span class=\"\">VP NA</span></div> <div class=\"children row wrap rtl\"><div class=\"contnr c0 trm rtl  \" ><div class=\"lbl c0 trm \"><span class=\"nd\">1905</span> <a target=\"_blank\" href=\"https://shebanq.ancient-data.org/hebrew\" title=\"Show this on SHEBANQ\"><span class=\"txtu hbo\">מֹצְאִ֖י </span></a></div> <div class='features'><span class=\"gloss \">find</span><span class=\"pdp \"><span class=\"f\">pdp=</span>verb</span><span class=\"vs \"><span class=\"f\">vs=</span>qal</span><span class=\"vt \"><span class=\"f\">vt=</span>ptca</span></div></div></div></div></div></div></div></div></div></div><div class=\"contnr c2  rtl  r \" ><div class=\"lbl c2  \"><span class=\"nd\">clause:427931</span> <span class=\"\">XYqt NA</span></div> <div class=\"children row wrap rtl\"><div class=\"contnr c1  rtl  \" ><div class=\"lbl c1  \"><span class=\"nd\">clause_atom:516066</span> <span class=\"\">222</span></div> <div class=\"children row wrap rtl\"><div class=\"contnr c1  rtl  \" ><div class=\"lbl c1  \"><span class=\"nd\">phrase:652672</span> <span class=\"\">VP PreO</span></div> <div class=\"children row wrap rtl\"><div class=\"contnr c1  rtl  \" ><div class=\"lbl c1  \"><span class=\"nd\">phrase_atom:905920</span> <span class=\"\">VP NA</span></div> <div class=\"children row wrap rtl\"><div class=\"contnr c0 trm rtl  \" ><div class=\"lbl c0 trm \"><span class=\"nd\">1906</span> <a target=\"_blank\" href=\"https://shebanq.ancient-data.org/hebrew\" title=\"Show this on SHEBANQ\"><span class=\"txtu hbo\">יַֽהַרְגֵֽנִי׃ </span></a></div> <div class='features'><span class=\"gloss \">kill</span><span class=\"pdp \"><span class=\"f\">pdp=</span>verb</span><span class=\"vs \"><span class=\"f\">vs=</span>qal</span><span class=\"vt \"><span class=\"f\">vt=</span>impf</span></div></div></div></div></div></div></div></div></div></div></div></div></div></div></div>"
      ],
      "text/plain": [
       "<IPython.core.display.HTML object>"
      ]
     },
     "metadata": {},
     "output_type": "display_data"
    }
   ],
   "source": [
    "A.pretty(s, withNodes=True, showChunks=True)"
   ]
  },
  {
   "cell_type": "code",
   "execution_count": null,
   "metadata": {},
   "outputs": [],
   "source": [
    "A.plain(427931)\n",
    "A.pretty(427931)\n",
    "A.plain(427932)\n",
    "A.pretty(427932)"
   ]
  },
  {
   "cell_type": "code",
   "execution_count": null,
   "metadata": {},
   "outputs": [],
   "source": [
    "typeShow(A)"
   ]
  },
  {
   "cell_type": "code",
   "execution_count": null,
   "metadata": {},
   "outputs": [],
   "source": [
    "A.showContext()"
   ]
  },
  {
   "cell_type": "code",
   "execution_count": null,
   "metadata": {},
   "outputs": [],
   "source": []
  }
 ],
 "metadata": {
  "kernelspec": {
   "display_name": "Python 3",
   "language": "python",
   "name": "python3"
  },
  "language_info": {
   "codemirror_mode": {
    "name": "ipython",
    "version": 3
   },
   "file_extension": ".py",
   "mimetype": "text/x-python",
   "name": "python",
   "nbconvert_exporter": "python",
   "pygments_lexer": "ipython3",
   "version": "3.7.7"
  }
 },
 "nbformat": 4,
 "nbformat_minor": 4
}
