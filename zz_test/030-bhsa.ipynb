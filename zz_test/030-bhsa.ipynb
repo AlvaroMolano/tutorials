{
 "cells": [
  {
   "cell_type": "code",
   "execution_count": 1,
   "metadata": {},
   "outputs": [],
   "source": [
    "%load_ext autoreload\n",
    "%autoreload 2"
   ]
  },
  {
   "cell_type": "code",
   "execution_count": 2,
   "metadata": {},
   "outputs": [],
   "source": [
    "from tf.app import use\n",
    "from fixture import typeShow"
   ]
  },
  {
   "cell_type": "markdown",
   "metadata": {},
   "source": [
    "# BHSA specifics"
   ]
  },
  {
   "cell_type": "code",
   "execution_count": 3,
   "metadata": {},
   "outputs": [
    {
     "name": "stdout",
     "output_type": "stream",
     "text": [
      "Using TF-app in ~/github/annotation/app-bhsa/code:\n",
      "\trepo clone offline under ~/github (local github)\n",
      "Using data in ~/github/etcbc/bhsa/tf/c:\n",
      "\trepo clone offline under ~/github (local github)\n",
      "Using data in ~/github/etcbc/phono/tf/c:\n",
      "\trepo clone offline under ~/github (local github)\n",
      "Using data in ~/github/etcbc/parallels/tf/c:\n",
      "\trepo clone offline under ~/github (local github)\n",
      "   |     0.00s Dataset without structure sections in otext:no structure functions in the T-API\n"
     ]
    },
    {
     "data": {
      "text/html": [
       "<b>Documentation:</b> <a target=\"_blank\" href=\"https://etcbc.github.io/bhsa/0_home\" title=\"provenance of BHSA = Biblia Hebraica Stuttgartensia Amstelodamensis\">BHSA</a> <a target=\"_blank\" href=\"https://annotation.github.io/text-fabric/writing/hebrew.html\" title=\"How TF features represent text\">Character table</a> <a target=\"_blank\" href=\"https://etcbc.github.io/bhsa/features/0_home\" title=\"BHSA feature documentation\">Feature docs</a> <a target=\"_blank\" href=\"https://github.com/annotation/app-bhsa\" title=\"bhsa TF-app\">app-bhsa</a> <a target=\"_blank\" href=\"https://annotation.github.io/text-fabric/cheatsheet.html\" title=\"text-fabric-api\">Text-Fabric API 8.3.0</a> <a target=\"_blank\" href=\"https://annotation.github.io/text-fabric/about/searchusage.html\" title=\"Search Templates Introduction and Reference\">Search Reference</a><details open><summary><b>Loaded features</b>:</summary>\n",
       "<p><b>Parallel Passages</b>: <b><i><a target=\"_blank\" href=\"https://nbviewer.jupyter.org/github/etcbc/parallels/blob/master/programs/parallels.ipynb\" title=\"~/github/etcbc/parallels/tf/c/crossref.tf\">crossref</a></i></b> </p><p><b>BHSA = Biblia Hebraica Stuttgartensia Amstelodamensis</b>: <a target=\"_blank\" href=\"https://etcbc.github.io/bhsa/features/book\" title=\"~/github/etcbc/bhsa/tf/c/book.tf\">book</a>  <a target=\"_blank\" href=\"https://etcbc.github.io/bhsa/features/book@ll\" title=\"~/github/etcbc/bhsa/tf/c/book@am.tf\">book@ll</a>  <a target=\"_blank\" href=\"https://etcbc.github.io/bhsa/features/chapter\" title=\"~/github/etcbc/bhsa/tf/c/chapter.tf\">chapter</a>  <a target=\"_blank\" href=\"https://etcbc.github.io/bhsa/features/code\" title=\"~/github/etcbc/bhsa/tf/c/code.tf\">code</a>  <a target=\"_blank\" href=\"https://etcbc.github.io/bhsa/features/det\" title=\"~/github/etcbc/bhsa/tf/c/det.tf\">det</a>  <a target=\"_blank\" href=\"https://etcbc.github.io/bhsa/features/domain\" title=\"~/github/etcbc/bhsa/tf/c/domain.tf\">domain</a>  <a target=\"_blank\" href=\"https://etcbc.github.io/bhsa/features/freq_lex\" title=\"~/github/etcbc/bhsa/tf/c/freq_lex.tf\">freq_lex</a>  <a target=\"_blank\" href=\"https://etcbc.github.io/bhsa/features/function\" title=\"~/github/etcbc/bhsa/tf/c/function.tf\">function</a>  <a target=\"_blank\" href=\"https://etcbc.github.io/bhsa/features/g_cons\" title=\"~/github/etcbc/bhsa/tf/c/g_cons.tf\">g_cons</a>  <a target=\"_blank\" href=\"https://etcbc.github.io/bhsa/features/g_cons_utf8\" title=\"~/github/etcbc/bhsa/tf/c/g_cons_utf8.tf\">g_cons_utf8</a>  <a target=\"_blank\" href=\"https://etcbc.github.io/bhsa/features/g_lex\" title=\"~/github/etcbc/bhsa/tf/c/g_lex.tf\">g_lex</a>  <a target=\"_blank\" href=\"https://etcbc.github.io/bhsa/features/g_lex_utf8\" title=\"~/github/etcbc/bhsa/tf/c/g_lex_utf8.tf\">g_lex_utf8</a>  <a target=\"_blank\" href=\"https://etcbc.github.io/bhsa/features/g_word\" title=\"~/github/etcbc/bhsa/tf/c/g_word.tf\">g_word</a>  <a target=\"_blank\" href=\"https://etcbc.github.io/bhsa/features/g_word_utf8\" title=\"~/github/etcbc/bhsa/tf/c/g_word_utf8.tf\">g_word_utf8</a>  <a target=\"_blank\" href=\"https://etcbc.github.io/bhsa/features/gloss\" title=\"~/github/etcbc/bhsa/tf/c/gloss.tf\">gloss</a>  <a target=\"_blank\" href=\"https://etcbc.github.io/bhsa/features/gn\" title=\"~/github/etcbc/bhsa/tf/c/gn.tf\">gn</a>  <a target=\"_blank\" href=\"https://etcbc.github.io/bhsa/features/label\" title=\"~/github/etcbc/bhsa/tf/c/label.tf\">label</a>  <a target=\"_blank\" href=\"https://etcbc.github.io/bhsa/features/language\" title=\"~/github/etcbc/bhsa/tf/c/language.tf\">language</a>  <a target=\"_blank\" href=\"https://etcbc.github.io/bhsa/features/lex\" title=\"~/github/etcbc/bhsa/tf/c/lex.tf\">lex</a>  <a target=\"_blank\" href=\"https://etcbc.github.io/bhsa/features/lex_utf8\" title=\"~/github/etcbc/bhsa/tf/c/lex_utf8.tf\">lex_utf8</a>  <a target=\"_blank\" href=\"https://etcbc.github.io/bhsa/features/ls\" title=\"~/github/etcbc/bhsa/tf/c/ls.tf\">ls</a>  <a target=\"_blank\" href=\"https://etcbc.github.io/bhsa/features/nametype\" title=\"~/github/etcbc/bhsa/tf/c/nametype.tf\">nametype</a>  <a target=\"_blank\" href=\"https://etcbc.github.io/bhsa/features/nme\" title=\"~/github/etcbc/bhsa/tf/c/nme.tf\">nme</a>  <a target=\"_blank\" href=\"https://etcbc.github.io/bhsa/features/nu\" title=\"~/github/etcbc/bhsa/tf/c/nu.tf\">nu</a>  <a target=\"_blank\" href=\"https://etcbc.github.io/bhsa/features/number\" title=\"~/github/etcbc/bhsa/tf/c/number.tf\">number</a>  <a target=\"_blank\" href=\"https://etcbc.github.io/bhsa/features/otype\" title=\"~/github/etcbc/bhsa/tf/c/otype.tf\">otype</a>  <a target=\"_blank\" href=\"https://etcbc.github.io/bhsa/features/pargr\" title=\"~/github/etcbc/bhsa/tf/c/pargr.tf\">pargr</a>  <a target=\"_blank\" href=\"https://etcbc.github.io/bhsa/features/pdp\" title=\"~/github/etcbc/bhsa/tf/c/pdp.tf\">pdp</a>  <a target=\"_blank\" href=\"https://etcbc.github.io/bhsa/features/pfm\" title=\"~/github/etcbc/bhsa/tf/c/pfm.tf\">pfm</a>  <a target=\"_blank\" href=\"https://etcbc.github.io/bhsa/features/prs\" title=\"~/github/etcbc/bhsa/tf/c/prs.tf\">prs</a>  <a target=\"_blank\" href=\"https://etcbc.github.io/bhsa/features/prs_gn\" title=\"~/github/etcbc/bhsa/tf/c/prs_gn.tf\">prs_gn</a>  <a target=\"_blank\" href=\"https://etcbc.github.io/bhsa/features/prs_nu\" title=\"~/github/etcbc/bhsa/tf/c/prs_nu.tf\">prs_nu</a>  <a target=\"_blank\" href=\"https://etcbc.github.io/bhsa/features/prs_ps\" title=\"~/github/etcbc/bhsa/tf/c/prs_ps.tf\">prs_ps</a>  <a target=\"_blank\" href=\"https://etcbc.github.io/bhsa/features/ps\" title=\"~/github/etcbc/bhsa/tf/c/ps.tf\">ps</a>  <a target=\"_blank\" href=\"https://etcbc.github.io/bhsa/features/qere\" title=\"~/github/etcbc/bhsa/tf/c/qere.tf\">qere</a>  <a target=\"_blank\" href=\"https://etcbc.github.io/bhsa/features/qere_trailer\" title=\"~/github/etcbc/bhsa/tf/c/qere_trailer.tf\">qere_trailer</a>  <a target=\"_blank\" href=\"https://etcbc.github.io/bhsa/features/qere_trailer_utf8\" title=\"~/github/etcbc/bhsa/tf/c/qere_trailer_utf8.tf\">qere_trailer_utf8</a>  <a target=\"_blank\" href=\"https://etcbc.github.io/bhsa/features/qere_utf8\" title=\"~/github/etcbc/bhsa/tf/c/qere_utf8.tf\">qere_utf8</a>  <a target=\"_blank\" href=\"https://etcbc.github.io/bhsa/features/rank_lex\" title=\"~/github/etcbc/bhsa/tf/c/rank_lex.tf\">rank_lex</a>  <a target=\"_blank\" href=\"https://etcbc.github.io/bhsa/features/rela\" title=\"~/github/etcbc/bhsa/tf/c/rela.tf\">rela</a>  <a target=\"_blank\" href=\"https://etcbc.github.io/bhsa/features/sp\" title=\"~/github/etcbc/bhsa/tf/c/sp.tf\">sp</a>  <a target=\"_blank\" href=\"https://etcbc.github.io/bhsa/features/st\" title=\"~/github/etcbc/bhsa/tf/c/st.tf\">st</a>  <a target=\"_blank\" href=\"https://etcbc.github.io/bhsa/features/tab\" title=\"~/github/etcbc/bhsa/tf/c/tab.tf\">tab</a>  <a target=\"_blank\" href=\"https://etcbc.github.io/bhsa/features/trailer\" title=\"~/github/etcbc/bhsa/tf/c/trailer.tf\">trailer</a>  <a target=\"_blank\" href=\"https://etcbc.github.io/bhsa/features/trailer_utf8\" title=\"~/github/etcbc/bhsa/tf/c/trailer_utf8.tf\">trailer_utf8</a>  <a target=\"_blank\" href=\"https://etcbc.github.io/bhsa/features/txt\" title=\"~/github/etcbc/bhsa/tf/c/txt.tf\">txt</a>  <a target=\"_blank\" href=\"https://etcbc.github.io/bhsa/features/typ\" title=\"~/github/etcbc/bhsa/tf/c/typ.tf\">typ</a>  <a target=\"_blank\" href=\"https://etcbc.github.io/bhsa/features/uvf\" title=\"~/github/etcbc/bhsa/tf/c/uvf.tf\">uvf</a>  <a target=\"_blank\" href=\"https://etcbc.github.io/bhsa/features/vbe\" title=\"~/github/etcbc/bhsa/tf/c/vbe.tf\">vbe</a>  <a target=\"_blank\" href=\"https://etcbc.github.io/bhsa/features/vbs\" title=\"~/github/etcbc/bhsa/tf/c/vbs.tf\">vbs</a>  <a target=\"_blank\" href=\"https://etcbc.github.io/bhsa/features/verse\" title=\"~/github/etcbc/bhsa/tf/c/verse.tf\">verse</a>  <a target=\"_blank\" href=\"https://etcbc.github.io/bhsa/features/voc_lex\" title=\"~/github/etcbc/bhsa/tf/c/voc_lex.tf\">voc_lex</a>  <a target=\"_blank\" href=\"https://etcbc.github.io/bhsa/features/voc_lex_utf8\" title=\"~/github/etcbc/bhsa/tf/c/voc_lex_utf8.tf\">voc_lex_utf8</a>  <a target=\"_blank\" href=\"https://etcbc.github.io/bhsa/features/vs\" title=\"~/github/etcbc/bhsa/tf/c/vs.tf\">vs</a>  <a target=\"_blank\" href=\"https://etcbc.github.io/bhsa/features/vt\" title=\"~/github/etcbc/bhsa/tf/c/vt.tf\">vt</a>  <b><i><a target=\"_blank\" href=\"https://etcbc.github.io/bhsa/features/mother\" title=\"~/github/etcbc/bhsa/tf/c/mother.tf\">mother</a></i></b>  <b><i><a target=\"_blank\" href=\"https://etcbc.github.io/bhsa/features/oslots\" title=\"~/github/etcbc/bhsa/tf/c/oslots.tf\">oslots</a></i></b> </p><p><b>Phonetic Transcriptions</b>: <a target=\"_blank\" href=\"https://nbviewer.jupyter.org/github/etcbc/phono/blob/master/programs/phono.ipynb\" title=\"~/github/etcbc/phono/tf/c/phono.tf\">phono</a>  <a target=\"_blank\" href=\"https://nbviewer.jupyter.org/github/etcbc/phono/blob/master/programs/phono.ipynb\" title=\"~/github/etcbc/phono/tf/c/phono_trailer.tf\">phono_trailer</a> </p></details>"
      ],
      "text/plain": [
       "<IPython.core.display.HTML object>"
      ]
     },
     "metadata": {},
     "output_type": "display_data"
    },
    {
     "data": {
      "text/html": [
       "<style>tr.tf, td.tf, th.tf { text-align: left ! important;}@font-face {\n",
       "  font-family: \"Ezra SIL\";\n",
       "  src: local('Ezra SIL'), local('EzraSIL'),\n",
       "    url('/server/static/fonts/SILEOT.woff') format('woff'),\n",
       "    url('https://github.com/annotation/text-fabric/blob/master/tf/server/static/fonts/SILEOT.woff?raw=true') format('woff');\n",
       "}\n",
       "\n",
       "@font-face {\n",
       "  font-family: \"SBL Hebrew\";\n",
       "  src: local('SBL Hebrew'), local('SBLHebrew'),\n",
       "    url('/server/static/fonts/SBL_Hbrw.woff') format('woff'),\n",
       "    url('https://github.com/annotation/text-fabric/blob/master/tf/server/static/fonts/SBL_Hbrw.woff?raw=true') format('woff');\n",
       "}\n",
       "\n",
       "@font-face {\n",
       "  font-family: \"Estrangelo Edessa\";\n",
       "  src: local('Estrangelo Edessa'), local('EstrangeloEdessa');\n",
       "    url('/server/static/fonts/SyrCOMEdessa.woff') format('woff'),\n",
       "    url('https://github.com/annotation/text-fabric/blob/master/tf/server/static/fonts/SyrCOMEdessa.woff?raw=true') format('woff');\n",
       "}\n",
       "\n",
       "@font-face {\n",
       "  font-family: AmiriQuran;\n",
       "  font-style: normal;\n",
       "  font-weight: 400;\n",
       "  src: local('Amiri Quran'), local('AmiriQuran'),\n",
       "    url('/server/static/fonts/AmiriQuran.woff') format('woff'),\n",
       "    url('https://github.com/annotation/text-fabric/blob/master/tf/server/static/fonts/AmiriQuran.woff?raw=true') format('woff');\n",
       "}\n",
       "\n",
       "@font-face {\n",
       "  font-family: AmiriQuranColored;\n",
       "  font-style: normal;\n",
       "  font-weight: 400;\n",
       "  src: local('Amiri Quran Colored'), local('AmiriQuranColored'),\n",
       "    url('/server/static/fonts/AmiriQuranColored.woff') format('woff'),\n",
       "    url('https://github.com/annotation/text-fabric/blob/master/tf/server/static/fonts/AmiriQuranColored.woff?raw=true') format('woff');\n",
       "}\n",
       "\n",
       "@font-face {\n",
       "  font-family: \"Santakku\";\n",
       "  src: local('Santakku'),\n",
       "    url('/server/static/fonts/Santakku.woff') format('woff'),\n",
       "    url('https://github.com/annotation/text-fabric/blob/master/tf/server/static/fonts/Santakku.woff?raw=true') format('woff');\n",
       "}\n",
       "\n",
       "@font-face {\n",
       "  font-family: \"SantakkuM\";\n",
       "  src: local('SantakkuM'),\n",
       "    url('/server/static/fonts/SantakkuM.woff') format('woff'),\n",
       "    url('https://github.com/annotation/text-fabric/blob/master/tf/server/static/fonts/SantakkuM.woff?raw=true') format('woff');\n",
       "}\n",
       "/* bypassing some classical notebook settings */\n",
       "div#notebook {\n",
       "  line-height: unset;\n",
       "}\n",
       "/* neutral text */\n",
       ".txtn,.txtn a:visited,.txtn a:link {\n",
       "    font-family: sans-serif;\n",
       "    font-size: medium;\n",
       "    direction: ltr;\n",
       "    text-decoration: none;\n",
       "    color: var(--text-color);\n",
       "}\n",
       "/* transcription text */\n",
       ".txtt,.txtt a:visited,.txtt a:link {\n",
       "    font-family: monospace;\n",
       "    font-size: medium;\n",
       "    direction: ltr;\n",
       "    text-decoration: none;\n",
       "    color: var(--text-color);\n",
       "}\n",
       "/* source text */\n",
       ".txto,.txto a:visited,.txto a:link {\n",
       "    font-family: serif;\n",
       "    font-size: medium;\n",
       "    direction: ltr;\n",
       "    text-decoration: none;\n",
       "    color: var(--text-color);\n",
       "}\n",
       "/* phonetic text */\n",
       ".txtp,.txtp a:visited,.txtp a:link {\n",
       "    font-family: Gentium, sans-serif;\n",
       "    font-size: large;\n",
       "    direction: ltr;\n",
       "    text-decoration: none;\n",
       "    color: var(--text-color);\n",
       "}\n",
       "/* original script text */\n",
       ".txtu,.txtu a:visited,.txtu a:link {\n",
       "    font-family: Gentium, sans-serif;\n",
       "    font-size: large;\n",
       "    text-decoration: none;\n",
       "    color: var(--text-color);\n",
       "}\n",
       "/* hebrew */\n",
       ".txtu.hbo,.lex.hbo {\n",
       "    font-family: \"Ezra SIL\", \"SBL Hebrew\", sans-serif;\n",
       "    font-size: x-large;\n",
       "    direction: rtl ! important;\n",
       "    unicode-bidi: embed;\n",
       "}\n",
       "/* syriac */\n",
       ".txtu.syc,.lex.syc {\n",
       "    font-family: \"Estrangelo Edessa\", sans-serif;\n",
       "    font-size: large;\n",
       "    direction: rtl ! important;\n",
       "    unicode-bidi: embed;\n",
       "}\n",
       "/* neo aramaic */\n",
       ".txtu.cld,.lex.cld {\n",
       "    font-family: \"CharisSIL-R\", sans-serif;\n",
       "    font-size: medium;\n",
       "    direction: ltr ! important;\n",
       "    unicode-bidi: embed;\n",
       "}\n",
       "/* standard arabic */\n",
       ".txtu.ara,.lex.ara {\n",
       "    font-family: \"AmiriQuran\", sans-serif;\n",
       "    font-size: large;\n",
       "    direction: rtl ! important;\n",
       "    unicode-bidi: embed;\n",
       "}\n",
       "/* cuneiform */\n",
       ".txtu.akk,.lex.akk {\n",
       "    font-family: Santakku, sans-serif;\n",
       "    font-size: x-large;\n",
       "    direction: ltr ! important;\n",
       "    unicode-bidi: embed;\n",
       "}\n",
       "/* greek */\n",
       ".txtu.grc,.lex.grc a:link {\n",
       "    font-family: Gentium, sans-serif;\n",
       "    font-size: medium;\n",
       "    direction: ltr ! important;\n",
       "    unicode-bidi: embed;\n",
       "}\n",
       "a:hover {\n",
       "    text-decoration: underline | important;\n",
       "    color: #0000ff | important;\n",
       "}\n",
       ".ltr {\n",
       "    direction: ltr ! important;\n",
       "}\n",
       ".rtl {\n",
       "    direction: rtl ! important;\n",
       "}\n",
       "span.plain {\n",
       "    display: inline-block;\n",
       "    white-space: pre-wrap;\n",
       "    text-align: start;\n",
       "}\n",
       ".gr,.gl {\n",
       "    white-space: pre-wrap;\n",
       "    border-color: var(--border-color-gap);\n",
       "    border-width: var(--border-width-gap);\n",
       "    border-top-style: none;\n",
       "    border-bottom-style: none;\n",
       "}\n",
       ".gr {\n",
       "    border-right-style: solid;\n",
       "    border-left-style: dashed;\n",
       "}\n",
       ".gl {\n",
       "    border-right-style: dashed;\n",
       "    border-left-style: solid;\n",
       "}\n",
       ".features {\n",
       "    font-family: monospace;\n",
       "    font-size: medium;\n",
       "    font-weight: bold;\n",
       "    color: var(--features);\n",
       "    display: flex;\n",
       "    flex-flow: column nowrap;\n",
       "    justify-content: flex-start;\n",
       "    align-items: flex-start;\n",
       "    align-content: flex-start;\n",
       "    padding: 0.1rem;\n",
       "    margin: 0.1rem;\n",
       "    direction: ltr;\n",
       "    border: var(--meta-width) solid var(--meta-color);\n",
       "    border-radius: var(--meta-width);\n",
       "}\n",
       ".features div,.features span {\n",
       "    padding: 0;\n",
       "    margin: -0.1rem 0;\n",
       "}\n",
       ".features .f {\n",
       "    font-family: sans-serif;\n",
       "    font-size: small;\n",
       "    font-weight: normal;\n",
       "    color: #5555bb;\n",
       "}\n",
       ".features .xft {\n",
       "  color: #000000;\n",
       "  background-color: #eeeeee;\n",
       "  font-size: medium;\n",
       "  margin: 0.1rem 0rem;\n",
       "}\n",
       ".features .xft .f {\n",
       "  color: #000000;\n",
       "  background-color: #eeeeee;\n",
       "  font-size: small;\n",
       "  font-weight: normal;\n",
       "}\n",
       ".section {\n",
       "    font-family: sans-serif;\n",
       "    font-size: small;\n",
       "    font-weight: bold;\n",
       "    color: var(--section);\n",
       "}\n",
       ".structure {\n",
       "    font-family: sans-serif;\n",
       "    font-size: small;\n",
       "    font-weight: bold;\n",
       "    color: var(--structure);\n",
       "}\n",
       ".comments {\n",
       "    display: flex;\n",
       "    justify-content: flex-start;\n",
       "    align-items: flex-start;\n",
       "    align-content: flex-start;\n",
       "    flex-flow: column nowrap;\n",
       "}\n",
       ".nd {\n",
       "    font-family: sans-serif;\n",
       "    font-size: small;\n",
       "    color: var(--node);\n",
       "    vertical-align: super;\n",
       "}\n",
       ".lex {\n",
       "  color: var(--lex-color);;\n",
       "}\n",
       ".children,.children.ltr {\n",
       "    display: flex;\n",
       "    border: 0;\n",
       "    background-color: #ffffff;\n",
       "    justify-content: flex-start;\n",
       "    align-items: flex-start;\n",
       "    align-content: flex-start;\n",
       "}\n",
       ".children.stretch {\n",
       "    align-items: stretch;\n",
       "}\n",
       ".children.hor {\n",
       "    flex-flow: row nowrap;\n",
       "}\n",
       ".children.hor.wrap {\n",
       "    flex-flow: row wrap;\n",
       "}\n",
       ".children.ver {\n",
       "    flex-flow: column nowrap;\n",
       "}\n",
       ".children.ver.wrap {\n",
       "    flex-flow: column wrap;\n",
       "}\n",
       ".contnr {\n",
       "    width: fit-content;\n",
       "    display: flex;\n",
       "    justify-content: flex-start;\n",
       "    align-items: flex-start;\n",
       "    align-content: flex-start;\n",
       "    flex-flow: column nowrap;\n",
       "    background: #ffffff none repeat scroll 0 0;\n",
       "    padding:  0.5rem 0.1rem 0.1rem 0.1rem;\n",
       "    margin: 0.8rem 0.1rem 0.1rem 0.1rem;\n",
       "    border-style: solid;\n",
       "    font-size: small;\n",
       "}\n",
       ".contnr.trm {\n",
       "    background-attachment: local;\n",
       "}\n",
       ".contnr.cnul {\n",
       "    padding:  0;\n",
       "    margin: 0;\n",
       "    border-style: solid;\n",
       "    font-size: xx-small;\n",
       "}\n",
       ".contnr.cnul,.lbl.cnul {\n",
       "    border-color: var(--border-color-nul);\n",
       "    border-width: var(--border-width-nul);\n",
       "    border-radius: var(--border-width-nul);\n",
       "}\n",
       ".contnr.c0,.lbl.c0 {\n",
       "    border-color: var(--border-color0);\n",
       "    border-width: var(--border-width0);\n",
       "    border-radius: var(--border-width0);\n",
       "}\n",
       ".contnr.c1,.lbl.c1 {\n",
       "    border-color: var(--border-color1);\n",
       "    border-width: var(--border-width1);\n",
       "    border-radius: var(--border-width1);\n",
       "}\n",
       ".contnr.c2,.lbl.c2 {\n",
       "    border-color: var(--border-color2);\n",
       "    border-width: var(--border-width2);\n",
       "    border-radius: var(--border-width2);\n",
       "}\n",
       ".contnr.c3,.lbl.c3 {\n",
       "    border-color: var(--border-color3);\n",
       "    border-width: var(--border-width3);\n",
       "    border-radius: var(--border-width3);\n",
       "}\n",
       ".contnr.c4,.lbl.c4 {\n",
       "    border-color: var(--border-color4);\n",
       "    border-width: var(--border-width4);\n",
       "    border-radius: var(--border-width4);\n",
       "}\n",
       ".plain.l,.contnr.l,.contnr.l>.lbl {\n",
       "    border-left-style: dotted\n",
       "}\n",
       ".plain.r,.contnr.r,.contnr.r>.lbl {\n",
       "    border-right-style: dotted\n",
       "}\n",
       ".plain.lno,.contnr.lno,.contnr.lno>.lbl {\n",
       "    border-left-style: none\n",
       "}\n",
       ".plain.rno,.contnr.rno,.contnr.rno>.lbl {\n",
       "    border-right-style: none\n",
       "}\n",
       ".plain.l {\n",
       "    padding-left: 0.2rem;\n",
       "    margin-left: 0.1rem;\n",
       "    border-width: var(--border-width-plain);\n",
       "}\n",
       ".plain.r {\n",
       "    padding-right: 0.2rem;\n",
       "    margin-right: 0.1rem;\n",
       "    border-width: var(--border-width-plain);\n",
       "}\n",
       ".lbl {\n",
       "    font-family: monospace;\n",
       "    margin-top: -1.2rem;\n",
       "    margin-left: 1rem;\n",
       "    background: #ffffff none repeat scroll 0 0;\n",
       "    padding: 0 0.3rem;\n",
       "    border-style: solid;\n",
       "    display: block;\n",
       "    color: var(--label)\n",
       "}\n",
       ".lbl.trm {\n",
       "    background-attachment: local;\n",
       "    margin-top: 0.1rem;\n",
       "    margin-left: 0.1rem;\n",
       "    padding: 0.1rem 0.1rem;\n",
       "    border-style: none;\n",
       "}\n",
       ".lbl.cnul {\n",
       "    font-size: xx-small;\n",
       "}\n",
       ".lbl.c0 {\n",
       "    font-size: small;\n",
       "}\n",
       ".lbl.c1 {\n",
       "    font-size: small;\n",
       "}\n",
       ".lbl.c2 {\n",
       "    font-size: medium;\n",
       "}\n",
       ".lbl.c3 {\n",
       "    font-size: medium;\n",
       "}\n",
       ".lbl.c4 {\n",
       "    font-size: large;\n",
       "}\n",
       ".occs {\n",
       "    font-size: small;\n",
       "}\n",
       "\n",
       "/* PROVENANCE */\n",
       "\n",
       "div.prov {\n",
       "\tmargin: 2rem;\n",
       "\tpadding: 1rem;\n",
       "\tborder: 0.1rem solid var(--fog-rim);\n",
       "}\n",
       "div.pline {\n",
       "\tdisplay: flex;\n",
       "\tflex-flow: row nowrap;\n",
       "\tjustify-content: stretch;\n",
       "\talign-items: baseline;\n",
       "}\n",
       "div.p2line {\n",
       "\tmargin-left: 2em;\n",
       "\tdisplay: flex;\n",
       "\tflex-flow: row nowrap;\n",
       "\tjustify-content: stretch;\n",
       "\talign-items: baseline;\n",
       "}\n",
       "div.psline {\n",
       "\tdisplay: flex;\n",
       "\tflex-flow: row nowrap;\n",
       "\tjustify-content: stretch;\n",
       "\talign-items: baseline;\n",
       "\tbackground-color: var(--gold-mist-back);\n",
       "}\n",
       "div.pname {\n",
       "\tflex: 0 0 5rem;\n",
       "\tfont-weight: bold;\n",
       "}\n",
       "div.pval {\n",
       "    flex: 1 1 auto;\n",
       "}\n",
       "\n",
       ":root {\n",
       "\t--node:               hsla(120, 100%,  20%, 1.0  );\n",
       "\t--label:              hsla(  0, 100%,  20%, 1.0  );\n",
       "\t--section:            hsla(  0, 100%,  25%, 1.0  );\n",
       "\t--structure:          hsla(120, 100%,  25%, 1.0  );\n",
       "\t--features:           hsla(  0,   0%,  30%, 1.0  );\n",
       "  --text-color:         hsla( 60,  80%,  10%, 1.0  );\n",
       "  --lex-color:          hsla(220,  90%,  60%, 1.0  );\n",
       "  --meta-color:         hsla(  0,   0%,  90%, 0.7  );\n",
       "  --meta-width:         0.15rem;\n",
       "  --border-color-nul:   hsla(  0,   0%,  90%, 0.5  );\n",
       "  --border-color-gap:   hsla(  0,  50%,  70%, 1.0  );\n",
       "  --border-color0:      hsla(  0,   0%,  90%, 0.9  );\n",
       "  --border-color1:      hsla(  0,   0%,  80%, 0.9  );\n",
       "  --border-color2:      hsla(  0,   0%,  70%, 0.9  );\n",
       "  --border-color3:      hsla(  0,   0%,  80%, 0.8  );\n",
       "  --border-color4:      hsla(  0,   0%,  60%, 0.9  );\n",
       "  --border-width-nul:   0.1rem;\n",
       "  --border-width-gap:   0.1rem;\n",
       "  --border-width0:      0.1rem;\n",
       "  --border-width1:      0.15rem;\n",
       "  --border-width2:      0.2rem;\n",
       "  --border-width3:      0.3rem;\n",
       "  --border-width4:      0.25rem;\n",
       "  --border-width-plain: 0.1rem;\n",
       "}\n",
       ".hl {\n",
       "  background-color: var(--hl-strong);\n",
       "}\n",
       "span.hl {\n",
       "\tbackground-color: var(--hl-strong);\n",
       "\tborder-width: 0;\n",
       "\tborder-radius: 0.1rem;\n",
       "\tborder-style: solid;\n",
       "}\n",
       "div.contnr.hl,div.lbl.hl {\n",
       "  background-color: var(--hl-strong);\n",
       "}\n",
       "div.contnr.hl {\n",
       "  border-color: var(--hl-rim) ! important;\n",
       "\tborder-width: 0.2rem ! important;\n",
       "}\n",
       "\n",
       "span.hlbx {\n",
       "\tborder-color: var(--hl-rim);\n",
       "\tborder-width: 0.2rem;\n",
       "\tborder-style: solid;\n",
       "\tborder-radius: 0.3rem;\n",
       "  padding: 0.2rem;\n",
       "  margin: 0.2rem;\n",
       "}\n",
       "\n",
       "span.plain {\n",
       "  display: inline-block;\n",
       "  white-space: pre-wrap;\n",
       "}\n",
       "\n",
       ":root {\n",
       "\t--hl-strong:        hsla( 60, 100%,  70%, 0.9  );\n",
       "\t--hl-rim:           hsla( 55,  80%,  50%, 1.0  );\n",
       "}\n",
       "</style>"
      ],
      "text/plain": [
       "<IPython.core.display.HTML object>"
      ]
     },
     "metadata": {},
     "output_type": "display_data"
    },
    {
     "data": {
      "text/html": [
       "<div><a target=\"_blank\" href=\"https://annotation.github.io/text-fabric/cheatsheet.html\" title=\"doc\">names N F E L T S C TF directly usable</a></div>"
      ],
      "text/plain": [
       "<IPython.core.display.HTML object>"
      ]
     },
     "metadata": {},
     "output_type": "display_data"
    }
   ],
   "source": [
    "A = use('bhsa:clone', checkout=\"clone\", hoist=globals())"
   ]
  },
  {
   "cell_type": "code",
   "execution_count": 4,
   "metadata": {},
   "outputs": [
    {
     "name": "stdout",
     "output_type": "stream",
     "text": [
      "  7.49s All features loaded/computed - for details use loadLog()\n"
     ]
    },
    {
     "data": {
      "text/html": [
       "<style>tr.tf, td.tf, th.tf { text-align: left ! important;}@font-face {\n",
       "  font-family: \"Ezra SIL\";\n",
       "  src: local('Ezra SIL'), local('EzraSIL'),\n",
       "    url('/server/static/fonts/SILEOT.woff') format('woff'),\n",
       "    url('https://github.com/annotation/text-fabric/blob/master/tf/server/static/fonts/SILEOT.woff?raw=true') format('woff');\n",
       "}\n",
       "\n",
       "@font-face {\n",
       "  font-family: \"SBL Hebrew\";\n",
       "  src: local('SBL Hebrew'), local('SBLHebrew'),\n",
       "    url('/server/static/fonts/SBL_Hbrw.woff') format('woff'),\n",
       "    url('https://github.com/annotation/text-fabric/blob/master/tf/server/static/fonts/SBL_Hbrw.woff?raw=true') format('woff');\n",
       "}\n",
       "\n",
       "@font-face {\n",
       "  font-family: \"Estrangelo Edessa\";\n",
       "  src: local('Estrangelo Edessa'), local('EstrangeloEdessa');\n",
       "    url('/server/static/fonts/SyrCOMEdessa.woff') format('woff'),\n",
       "    url('https://github.com/annotation/text-fabric/blob/master/tf/server/static/fonts/SyrCOMEdessa.woff?raw=true') format('woff');\n",
       "}\n",
       "\n",
       "@font-face {\n",
       "  font-family: AmiriQuran;\n",
       "  font-style: normal;\n",
       "  font-weight: 400;\n",
       "  src: local('Amiri Quran'), local('AmiriQuran'),\n",
       "    url('/server/static/fonts/AmiriQuran.woff') format('woff'),\n",
       "    url('https://github.com/annotation/text-fabric/blob/master/tf/server/static/fonts/AmiriQuran.woff?raw=true') format('woff');\n",
       "}\n",
       "\n",
       "@font-face {\n",
       "  font-family: AmiriQuranColored;\n",
       "  font-style: normal;\n",
       "  font-weight: 400;\n",
       "  src: local('Amiri Quran Colored'), local('AmiriQuranColored'),\n",
       "    url('/server/static/fonts/AmiriQuranColored.woff') format('woff'),\n",
       "    url('https://github.com/annotation/text-fabric/blob/master/tf/server/static/fonts/AmiriQuranColored.woff?raw=true') format('woff');\n",
       "}\n",
       "\n",
       "@font-face {\n",
       "  font-family: \"Santakku\";\n",
       "  src: local('Santakku'),\n",
       "    url('/server/static/fonts/Santakku.woff') format('woff'),\n",
       "    url('https://github.com/annotation/text-fabric/blob/master/tf/server/static/fonts/Santakku.woff?raw=true') format('woff');\n",
       "}\n",
       "\n",
       "@font-face {\n",
       "  font-family: \"SantakkuM\";\n",
       "  src: local('SantakkuM'),\n",
       "    url('/server/static/fonts/SantakkuM.woff') format('woff'),\n",
       "    url('https://github.com/annotation/text-fabric/blob/master/tf/server/static/fonts/SantakkuM.woff?raw=true') format('woff');\n",
       "}\n",
       "/* bypassing some classical notebook settings */\n",
       "div#notebook {\n",
       "  line-height: unset;\n",
       "}\n",
       "/* neutral text */\n",
       ".txtn,.txtn a:visited,.txtn a:link {\n",
       "    font-family: sans-serif;\n",
       "    font-size: medium;\n",
       "    direction: ltr;\n",
       "    text-decoration: none;\n",
       "    color: var(--text-color);\n",
       "}\n",
       "/* transcription text */\n",
       ".txtt,.txtt a:visited,.txtt a:link {\n",
       "    font-family: monospace;\n",
       "    font-size: medium;\n",
       "    direction: ltr;\n",
       "    text-decoration: none;\n",
       "    color: var(--text-color);\n",
       "}\n",
       "/* source text */\n",
       ".txto,.txto a:visited,.txto a:link {\n",
       "    font-family: serif;\n",
       "    font-size: medium;\n",
       "    direction: ltr;\n",
       "    text-decoration: none;\n",
       "    color: var(--text-color);\n",
       "}\n",
       "/* phonetic text */\n",
       ".txtp,.txtp a:visited,.txtp a:link {\n",
       "    font-family: Gentium, sans-serif;\n",
       "    font-size: large;\n",
       "    direction: ltr;\n",
       "    text-decoration: none;\n",
       "    color: var(--text-color);\n",
       "}\n",
       "/* original script text */\n",
       ".txtu,.txtu a:visited,.txtu a:link {\n",
       "    font-family: Gentium, sans-serif;\n",
       "    font-size: large;\n",
       "    text-decoration: none;\n",
       "    color: var(--text-color);\n",
       "}\n",
       "/* hebrew */\n",
       ".txtu.hbo,.lex.hbo {\n",
       "    font-family: \"Ezra SIL\", \"SBL Hebrew\", sans-serif;\n",
       "    font-size: x-large;\n",
       "    direction: rtl ! important;\n",
       "    unicode-bidi: embed;\n",
       "}\n",
       "/* syriac */\n",
       ".txtu.syc,.lex.syc {\n",
       "    font-family: \"Estrangelo Edessa\", sans-serif;\n",
       "    font-size: large;\n",
       "    direction: rtl ! important;\n",
       "    unicode-bidi: embed;\n",
       "}\n",
       "/* neo aramaic */\n",
       ".txtu.cld,.lex.cld {\n",
       "    font-family: \"CharisSIL-R\", sans-serif;\n",
       "    font-size: medium;\n",
       "    direction: ltr ! important;\n",
       "    unicode-bidi: embed;\n",
       "}\n",
       "/* standard arabic */\n",
       ".txtu.ara,.lex.ara {\n",
       "    font-family: \"AmiriQuran\", sans-serif;\n",
       "    font-size: large;\n",
       "    direction: rtl ! important;\n",
       "    unicode-bidi: embed;\n",
       "}\n",
       "/* cuneiform */\n",
       ".txtu.akk,.lex.akk {\n",
       "    font-family: Santakku, sans-serif;\n",
       "    font-size: x-large;\n",
       "    direction: ltr ! important;\n",
       "    unicode-bidi: embed;\n",
       "}\n",
       "/* greek */\n",
       ".txtu.grc,.lex.grc a:link {\n",
       "    font-family: Gentium, sans-serif;\n",
       "    font-size: medium;\n",
       "    direction: ltr ! important;\n",
       "    unicode-bidi: embed;\n",
       "}\n",
       "a:hover {\n",
       "    text-decoration: underline | important;\n",
       "    color: #0000ff | important;\n",
       "}\n",
       ".ltr {\n",
       "    direction: ltr ! important;\n",
       "}\n",
       ".rtl {\n",
       "    direction: rtl ! important;\n",
       "}\n",
       "span.plain {\n",
       "    display: inline-block;\n",
       "    white-space: pre-wrap;\n",
       "    text-align: start;\n",
       "}\n",
       ".gr,.gl {\n",
       "    white-space: pre-wrap;\n",
       "    border-color: var(--border-color-gap);\n",
       "    border-width: var(--border-width-gap);\n",
       "    border-top-style: none;\n",
       "    border-bottom-style: none;\n",
       "}\n",
       ".gr {\n",
       "    border-right-style: solid;\n",
       "    border-left-style: dashed;\n",
       "}\n",
       ".gl {\n",
       "    border-right-style: dashed;\n",
       "    border-left-style: solid;\n",
       "}\n",
       ".features {\n",
       "    font-family: monospace;\n",
       "    font-size: medium;\n",
       "    font-weight: bold;\n",
       "    color: var(--features);\n",
       "    display: flex;\n",
       "    flex-flow: column nowrap;\n",
       "    justify-content: flex-start;\n",
       "    align-items: flex-start;\n",
       "    align-content: flex-start;\n",
       "    padding: 0.1rem;\n",
       "    margin: 0.1rem;\n",
       "    direction: ltr;\n",
       "    border: var(--meta-width) solid var(--meta-color);\n",
       "    border-radius: var(--meta-width);\n",
       "}\n",
       ".features div,.features span {\n",
       "    padding: 0;\n",
       "    margin: -0.1rem 0;\n",
       "}\n",
       ".features .f {\n",
       "    font-family: sans-serif;\n",
       "    font-size: small;\n",
       "    font-weight: normal;\n",
       "    color: #5555bb;\n",
       "}\n",
       ".features .xft {\n",
       "  color: #000000;\n",
       "  background-color: #eeeeee;\n",
       "  font-size: medium;\n",
       "  margin: 0.1rem 0rem;\n",
       "}\n",
       ".features .xft .f {\n",
       "  color: #000000;\n",
       "  background-color: #eeeeee;\n",
       "  font-size: small;\n",
       "  font-weight: normal;\n",
       "}\n",
       ".section {\n",
       "    font-family: sans-serif;\n",
       "    font-size: small;\n",
       "    font-weight: bold;\n",
       "    color: var(--section);\n",
       "}\n",
       ".structure {\n",
       "    font-family: sans-serif;\n",
       "    font-size: small;\n",
       "    font-weight: bold;\n",
       "    color: var(--structure);\n",
       "}\n",
       ".comments {\n",
       "    display: flex;\n",
       "    justify-content: flex-start;\n",
       "    align-items: flex-start;\n",
       "    align-content: flex-start;\n",
       "    flex-flow: column nowrap;\n",
       "}\n",
       ".nd {\n",
       "    font-family: sans-serif;\n",
       "    font-size: small;\n",
       "    color: var(--node);\n",
       "    vertical-align: super;\n",
       "}\n",
       ".lex {\n",
       "  color: var(--lex-color);;\n",
       "}\n",
       ".children,.children.ltr {\n",
       "    display: flex;\n",
       "    border: 0;\n",
       "    background-color: #ffffff;\n",
       "    justify-content: flex-start;\n",
       "    align-items: flex-start;\n",
       "    align-content: flex-start;\n",
       "}\n",
       ".children.stretch {\n",
       "    align-items: stretch;\n",
       "}\n",
       ".children.hor {\n",
       "    flex-flow: row nowrap;\n",
       "}\n",
       ".children.hor.wrap {\n",
       "    flex-flow: row wrap;\n",
       "}\n",
       ".children.ver {\n",
       "    flex-flow: column nowrap;\n",
       "}\n",
       ".children.ver.wrap {\n",
       "    flex-flow: column wrap;\n",
       "}\n",
       ".contnr {\n",
       "    width: fit-content;\n",
       "    display: flex;\n",
       "    justify-content: flex-start;\n",
       "    align-items: flex-start;\n",
       "    align-content: flex-start;\n",
       "    flex-flow: column nowrap;\n",
       "    background: #ffffff none repeat scroll 0 0;\n",
       "    padding:  0.5rem 0.1rem 0.1rem 0.1rem;\n",
       "    margin: 0.8rem 0.1rem 0.1rem 0.1rem;\n",
       "    border-style: solid;\n",
       "    font-size: small;\n",
       "}\n",
       ".contnr.trm {\n",
       "    background-attachment: local;\n",
       "}\n",
       ".contnr.cnul {\n",
       "    padding:  0;\n",
       "    margin: 0;\n",
       "    border-style: solid;\n",
       "    font-size: xx-small;\n",
       "}\n",
       ".contnr.cnul,.lbl.cnul {\n",
       "    border-color: var(--border-color-nul);\n",
       "    border-width: var(--border-width-nul);\n",
       "    border-radius: var(--border-width-nul);\n",
       "}\n",
       ".contnr.c0,.lbl.c0 {\n",
       "    border-color: var(--border-color0);\n",
       "    border-width: var(--border-width0);\n",
       "    border-radius: var(--border-width0);\n",
       "}\n",
       ".contnr.c1,.lbl.c1 {\n",
       "    border-color: var(--border-color1);\n",
       "    border-width: var(--border-width1);\n",
       "    border-radius: var(--border-width1);\n",
       "}\n",
       ".contnr.c2,.lbl.c2 {\n",
       "    border-color: var(--border-color2);\n",
       "    border-width: var(--border-width2);\n",
       "    border-radius: var(--border-width2);\n",
       "}\n",
       ".contnr.c3,.lbl.c3 {\n",
       "    border-color: var(--border-color3);\n",
       "    border-width: var(--border-width3);\n",
       "    border-radius: var(--border-width3);\n",
       "}\n",
       ".contnr.c4,.lbl.c4 {\n",
       "    border-color: var(--border-color4);\n",
       "    border-width: var(--border-width4);\n",
       "    border-radius: var(--border-width4);\n",
       "}\n",
       ".plain.l,.contnr.l,.contnr.l>.lbl {\n",
       "    border-left-style: dotted\n",
       "}\n",
       ".plain.r,.contnr.r,.contnr.r>.lbl {\n",
       "    border-right-style: dotted\n",
       "}\n",
       ".plain.lno,.contnr.lno,.contnr.lno>.lbl {\n",
       "    border-left-style: none\n",
       "}\n",
       ".plain.rno,.contnr.rno,.contnr.rno>.lbl {\n",
       "    border-right-style: none\n",
       "}\n",
       ".plain.l {\n",
       "    padding-left: 0.2rem;\n",
       "    margin-left: 0.1rem;\n",
       "    border-width: var(--border-width-plain);\n",
       "}\n",
       ".plain.r {\n",
       "    padding-right: 0.2rem;\n",
       "    margin-right: 0.1rem;\n",
       "    border-width: var(--border-width-plain);\n",
       "}\n",
       ".lbl {\n",
       "    font-family: monospace;\n",
       "    margin-top: -1.2rem;\n",
       "    margin-left: 1rem;\n",
       "    background: #ffffff none repeat scroll 0 0;\n",
       "    padding: 0 0.3rem;\n",
       "    border-style: solid;\n",
       "    display: block;\n",
       "    color: var(--label)\n",
       "}\n",
       ".lbl.trm {\n",
       "    background-attachment: local;\n",
       "    margin-top: 0.1rem;\n",
       "    margin-left: 0.1rem;\n",
       "    padding: 0.1rem 0.1rem;\n",
       "    border-style: none;\n",
       "}\n",
       ".lbl.cnul {\n",
       "    font-size: xx-small;\n",
       "}\n",
       ".lbl.c0 {\n",
       "    font-size: small;\n",
       "}\n",
       ".lbl.c1 {\n",
       "    font-size: small;\n",
       "}\n",
       ".lbl.c2 {\n",
       "    font-size: medium;\n",
       "}\n",
       ".lbl.c3 {\n",
       "    font-size: medium;\n",
       "}\n",
       ".lbl.c4 {\n",
       "    font-size: large;\n",
       "}\n",
       ".occs {\n",
       "    font-size: small;\n",
       "}\n",
       "\n",
       "/* PROVENANCE */\n",
       "\n",
       "div.prov {\n",
       "\tmargin: 2rem;\n",
       "\tpadding: 1rem;\n",
       "\tborder: 0.1rem solid var(--fog-rim);\n",
       "}\n",
       "div.pline {\n",
       "\tdisplay: flex;\n",
       "\tflex-flow: row nowrap;\n",
       "\tjustify-content: stretch;\n",
       "\talign-items: baseline;\n",
       "}\n",
       "div.p2line {\n",
       "\tmargin-left: 2em;\n",
       "\tdisplay: flex;\n",
       "\tflex-flow: row nowrap;\n",
       "\tjustify-content: stretch;\n",
       "\talign-items: baseline;\n",
       "}\n",
       "div.psline {\n",
       "\tdisplay: flex;\n",
       "\tflex-flow: row nowrap;\n",
       "\tjustify-content: stretch;\n",
       "\talign-items: baseline;\n",
       "\tbackground-color: var(--gold-mist-back);\n",
       "}\n",
       "div.pname {\n",
       "\tflex: 0 0 5rem;\n",
       "\tfont-weight: bold;\n",
       "}\n",
       "div.pval {\n",
       "    flex: 1 1 auto;\n",
       "}\n",
       "\n",
       ":root {\n",
       "\t--node:               hsla(120, 100%,  20%, 1.0  );\n",
       "\t--label:              hsla(  0, 100%,  20%, 1.0  );\n",
       "\t--section:            hsla(  0, 100%,  25%, 1.0  );\n",
       "\t--structure:          hsla(120, 100%,  25%, 1.0  );\n",
       "\t--features:           hsla(  0,   0%,  30%, 1.0  );\n",
       "  --text-color:         hsla( 60,  80%,  10%, 1.0  );\n",
       "  --lex-color:          hsla(220,  90%,  60%, 1.0  );\n",
       "  --meta-color:         hsla(  0,   0%,  90%, 0.7  );\n",
       "  --meta-width:         0.15rem;\n",
       "  --border-color-nul:   hsla(  0,   0%,  90%, 0.5  );\n",
       "  --border-color-gap:   hsla(  0,  50%,  70%, 1.0  );\n",
       "  --border-color0:      hsla(  0,   0%,  90%, 0.9  );\n",
       "  --border-color1:      hsla(  0,   0%,  80%, 0.9  );\n",
       "  --border-color2:      hsla(  0,   0%,  70%, 0.9  );\n",
       "  --border-color3:      hsla(  0,   0%,  80%, 0.8  );\n",
       "  --border-color4:      hsla(  0,   0%,  60%, 0.9  );\n",
       "  --border-width-nul:   0.1rem;\n",
       "  --border-width-gap:   0.1rem;\n",
       "  --border-width0:      0.1rem;\n",
       "  --border-width1:      0.15rem;\n",
       "  --border-width2:      0.2rem;\n",
       "  --border-width3:      0.3rem;\n",
       "  --border-width4:      0.25rem;\n",
       "  --border-width-plain: 0.1rem;\n",
       "}\n",
       ".hl {\n",
       "  background-color: var(--hl-strong);\n",
       "}\n",
       "span.hl {\n",
       "\tbackground-color: var(--hl-strong);\n",
       "\tborder-width: 0;\n",
       "\tborder-radius: 0.1rem;\n",
       "\tborder-style: solid;\n",
       "}\n",
       "div.contnr.hl,div.lbl.hl {\n",
       "  background-color: var(--hl-strong);\n",
       "}\n",
       "div.contnr.hl {\n",
       "  border-color: var(--hl-rim) ! important;\n",
       "\tborder-width: 0.2rem ! important;\n",
       "}\n",
       "\n",
       "span.hlbx {\n",
       "\tborder-color: var(--hl-rim);\n",
       "\tborder-width: 0.2rem;\n",
       "\tborder-style: solid;\n",
       "\tborder-radius: 0.3rem;\n",
       "  padding: 0.2rem;\n",
       "  margin: 0.2rem;\n",
       "}\n",
       "\n",
       "span.plain {\n",
       "  display: inline-block;\n",
       "  white-space: pre-wrap;\n",
       "}\n",
       "\n",
       ":root {\n",
       "\t--hl-strong:        hsla( 60, 100%,  70%, 0.9  );\n",
       "\t--hl-rim:           hsla( 55,  80%,  50%, 1.0  );\n",
       "}\n",
       "</style>"
      ],
      "text/plain": [
       "<IPython.core.display.HTML object>"
      ]
     },
     "metadata": {},
     "output_type": "display_data"
    }
   ],
   "source": [
    "A.reuse()"
   ]
  },
  {
   "cell_type": "code",
   "execution_count": 4,
   "metadata": {},
   "outputs": [
    {
     "data": {
      "text/markdown": [
       "<details ><summary><b>bhsa</b> <i>app context</i></summary>\n",
       "\n",
       "<details ><summary>1. afterChild</summary>\n",
       "\n",
       "{}\n",
       "\n",
       "</details>\n",
       "<details ><summary>2. allowedBaseTypes</summary>\n",
       "\n",
       "\n",
       "1.  `lex`\n",
       "2.  `half_verse`\n",
       "3.  `sentence`\n",
       "4.  `sentence_atom`\n",
       "5.  `clause`\n",
       "6.  `clause_atom`\n",
       "7.  `phrase`\n",
       "8.  `phrase_atom`\n",
       "9.  `subphrase`\n",
       "\n",
       "</details>\n",
       "<details ><summary>3. apiVersion</summary>\n",
       "\n",
       "`3`\n",
       "\n",
       "</details>\n",
       "<details ><summary>4. appName</summary>\n",
       "\n",
       "`bhsa`\n",
       "\n",
       "</details>\n",
       "<details ><summary>5. appPath</summary>\n",
       "\n",
       "`/Users/dirk/github/annotation/app-bhsa/code`\n",
       "\n",
       "</details>\n",
       "<details ><summary>6. baseTypes</summary>\n",
       "\n",
       "\n",
       "1.  `word`\n",
       "\n",
       "</details>\n",
       "<details ><summary>7. browseContentPretty</summary>\n",
       "\n",
       "False\n",
       "\n",
       "</details>\n",
       "<details ><summary>8. browseNavLevel</summary>\n",
       "\n",
       "`2`\n",
       "\n",
       "</details>\n",
       "<details ><summary>9. charText</summary>\n",
       "\n",
       "`How TF features represent text`\n",
       "\n",
       "</details>\n",
       "<details ><summary>10. charUrl</summary>\n",
       "\n",
       "`https://annotation.github.io/text-fabric/writing/hebrew.html`\n",
       "\n",
       "</details>\n",
       "<details ><summary>11. childType</summary>\n",
       "\n",
       "\n",
       "*   **`book`**: \n",
       "    *   `chapter`\n",
       "*   **`chapter`**: \n",
       "    *   `verse`\n",
       "*   **`clause`**: \n",
       "    *   `clause_atom`\n",
       "*   **`clause_atom`**: \n",
       "    *   `phrase`\n",
       "*   **`half_verse`**: \n",
       "    *   `sentence`\n",
       "*   **`phrase`**: \n",
       "    *   `phrase_atom`\n",
       "*   **`phrase_atom`**: \n",
       "    *   `subphrase`\n",
       "*   **`sentence`**: \n",
       "    *   `sentence_atom`\n",
       "*   **`sentence_atom`**: \n",
       "    *   `clause`\n",
       "*   **`subphrase`**: \n",
       "    *   `word`\n",
       "*   **`verse`**: \n",
       "    *   `sentence`\n",
       "\n",
       "</details>\n",
       "<details ><summary>12. commit</summary>\n",
       "\n",
       "None\n",
       "\n",
       "</details>\n",
       "<details ><summary>13. condenseType</summary>\n",
       "\n",
       "`verse`\n",
       "\n",
       "</details>\n",
       "<details ><summary>14. condenseTypes</summary>\n",
       "\n",
       "\n",
       "1.  \n",
       "    *   `book`\n",
       "    *   `10938.051282051281`\n",
       "    *   `426585`\n",
       "    *   `426623`\n",
       "2.  \n",
       "    *   `chapter`\n",
       "    *   `459.18622174381056`\n",
       "    *   `426624`\n",
       "    *   `427552`\n",
       "3.  \n",
       "    *   `lex`\n",
       "    *   `46.2021011588866`\n",
       "    *   `1437567`\n",
       "    *   `1446799`\n",
       "4.  \n",
       "    *   `verse`\n",
       "    *   `18.37694395381898`\n",
       "    *   `1414354`\n",
       "    *   `1437566`\n",
       "5.  \n",
       "    *   `half_verse`\n",
       "    *   `9.441876936697653`\n",
       "    *   `606362`\n",
       "    *   `651541`\n",
       "6.  \n",
       "    *   `sentence`\n",
       "    *   `6.693928789994822`\n",
       "    *   `1172290`\n",
       "    *   `1236016`\n",
       "7.  \n",
       "    *   `sentence_atom`\n",
       "    *   `6.611142967841921`\n",
       "    *   `1236017`\n",
       "    *   `1300541`\n",
       "8.  \n",
       "    *   `clause`\n",
       "    *   `4.8408892318516585`\n",
       "    *   `427553`\n",
       "    *   `515673`\n",
       "9.  \n",
       "    *   `clause_atom`\n",
       "    *   `4.703863796753705`\n",
       "    *   `515674`\n",
       "    *   `606361`\n",
       "10. \n",
       "    *   `phrase`\n",
       "    *   `1.684724355961723`\n",
       "    *   `651542`\n",
       "    *   `904748`\n",
       "11. \n",
       "    *   `phrase_atom`\n",
       "    *   `1.5944621572020736`\n",
       "    *   `904749`\n",
       "    *   `1172289`\n",
       "12. \n",
       "    *   `subphrase`\n",
       "    *   `1.4231715460584122`\n",
       "    *   `1300542`\n",
       "    *   `1414353`\n",
       "13. \n",
       "    *   `word`\n",
       "    *   `1`\n",
       "    *   `1`\n",
       "    *   `426584`\n",
       "\n",
       "</details>\n",
       "<details ><summary>15. corpus</summary>\n",
       "\n",
       "`BHSA = Biblia Hebraica Stuttgartensia Amstelodamensis`\n",
       "\n",
       "</details>\n",
       "<details ><summary>16. css</summary>\n",
       "\n",
       "*empty*\n",
       "\n",
       "</details>\n",
       "<details ><summary>17. dataDisplay</summary>\n",
       "\n",
       "\n",
       "*   **`exampleSectionHtml`**: `<code>Genesis 1:1</code> (use <a href=\"https://github.com/{org}/{repo}/blob/master/tf/{version}/book%40en.tf\" target=\"_blank\">English book names</a>)`\n",
       "*   **`excludedFeatures`**: \n",
       "    *   `g_uvf_utf8`\n",
       "    *   `g_vbs`\n",
       "    *   `kq_hybrid`\n",
       "    *   `languageISO`\n",
       "    *   `g_nme`\n",
       "    *   `lex0`\n",
       "    *   `is_root`\n",
       "    *   `g_vbs_utf8`\n",
       "    *   `g_uvf`\n",
       "    *   `dist`\n",
       "    *   `root`\n",
       "    *   `suffix_person`\n",
       "    *   `g_vbe`\n",
       "    *   `dist_unit`\n",
       "    *   `suffix_number`\n",
       "    *   `distributional_parent`\n",
       "    *   `kq_hybrid_utf8`\n",
       "    *   `crossrefSET`\n",
       "    *   `instruction`\n",
       "    *   `g_prs`\n",
       "    *   `lexeme_count`\n",
       "    *   `rank_occ`\n",
       "    *   `g_pfm_utf8`\n",
       "    *   `freq_occ`\n",
       "    *   `crossrefLCS`\n",
       "    *   `functional_parent`\n",
       "    *   `g_pfm`\n",
       "    *   `g_nme_utf8`\n",
       "    *   `g_vbe_utf8`\n",
       "    *   `kind`\n",
       "    *   `g_prs_utf8`\n",
       "    *   `suffix_gender`\n",
       "    *   `mother_object_type`\n",
       "*   **`noneValues`**: \n",
       "    *   `none`\n",
       "    *   `unknown`\n",
       "    *   None\n",
       "    *   `NA`\n",
       "\n",
       "</details>\n",
       "<details ><summary>18. defaultClsOrig</summary>\n",
       "\n",
       "`txtu hbo`\n",
       "\n",
       "</details>\n",
       "<details ><summary>19. defaultFormat</summary>\n",
       "\n",
       "`text-orig-full`\n",
       "\n",
       "</details>\n",
       "<details ><summary>20. descendantType</summary>\n",
       "\n",
       "\n",
       "*   **`book`**: \n",
       "    *   `book`\n",
       "    *   `chapter`\n",
       "    *   `clause`\n",
       "    *   `clause_atom`\n",
       "    *   `phrase`\n",
       "    *   `phrase_atom`\n",
       "    *   `sentence`\n",
       "    *   `sentence_atom`\n",
       "    *   `subphrase`\n",
       "    *   `verse`\n",
       "    *   `word`\n",
       "*   **`chapter`**: \n",
       "    *   `chapter`\n",
       "    *   `clause`\n",
       "    *   `clause_atom`\n",
       "    *   `phrase`\n",
       "    *   `phrase_atom`\n",
       "    *   `sentence`\n",
       "    *   `sentence_atom`\n",
       "    *   `subphrase`\n",
       "    *   `verse`\n",
       "    *   `word`\n",
       "*   **`clause`**: \n",
       "    *   `clause`\n",
       "    *   `clause_atom`\n",
       "    *   `phrase`\n",
       "    *   `phrase_atom`\n",
       "    *   `subphrase`\n",
       "    *   `word`\n",
       "*   **`clause_atom`**: \n",
       "    *   `clause_atom`\n",
       "    *   `phrase`\n",
       "    *   `phrase_atom`\n",
       "    *   `subphrase`\n",
       "    *   `word`\n",
       "*   **`half_verse`**: \n",
       "    *   `clause`\n",
       "    *   `clause_atom`\n",
       "    *   `half_verse`\n",
       "    *   `phrase`\n",
       "    *   `phrase_atom`\n",
       "    *   `sentence`\n",
       "    *   `sentence_atom`\n",
       "    *   `subphrase`\n",
       "    *   `word`\n",
       "*   **`phrase`**: \n",
       "    *   `phrase`\n",
       "    *   `phrase_atom`\n",
       "    *   `subphrase`\n",
       "    *   `word`\n",
       "*   **`phrase_atom`**: \n",
       "    *   `phrase_atom`\n",
       "    *   `subphrase`\n",
       "    *   `word`\n",
       "*   **`sentence`**: \n",
       "    *   `clause`\n",
       "    *   `clause_atom`\n",
       "    *   `phrase`\n",
       "    *   `phrase_atom`\n",
       "    *   `sentence`\n",
       "    *   `sentence_atom`\n",
       "    *   `subphrase`\n",
       "    *   `word`\n",
       "*   **`sentence_atom`**: \n",
       "    *   `clause`\n",
       "    *   `clause_atom`\n",
       "    *   `phrase`\n",
       "    *   `phrase_atom`\n",
       "    *   `sentence_atom`\n",
       "    *   `subphrase`\n",
       "    *   `word`\n",
       "*   **`subphrase`**: \n",
       "    *   `subphrase`\n",
       "    *   `word`\n",
       "*   **`verse`**: \n",
       "    *   `clause`\n",
       "    *   `clause_atom`\n",
       "    *   `phrase`\n",
       "    *   `phrase_atom`\n",
       "    *   `sentence`\n",
       "    *   `sentence_atom`\n",
       "    *   `subphrase`\n",
       "    *   `verse`\n",
       "    *   `word`\n",
       "\n",
       "</details>\n",
       "<details ><summary>21. direction</summary>\n",
       "\n",
       "`rtl`\n",
       "\n",
       "</details>\n",
       "<details ><summary>22. docBase</summary>\n",
       "\n",
       "`https://etcbc.github.io/bhsa`\n",
       "\n",
       "</details>\n",
       "<details ><summary>23. docExt</summary>\n",
       "\n",
       "*empty*\n",
       "\n",
       "</details>\n",
       "<details ><summary>24. docPage</summary>\n",
       "\n",
       "`0_home`\n",
       "\n",
       "</details>\n",
       "<details ><summary>25. docRoot</summary>\n",
       "\n",
       "`https://etcbc.github.io`\n",
       "\n",
       "</details>\n",
       "<details ><summary>26. docUrl</summary>\n",
       "\n",
       "`https://etcbc.github.io/bhsa/0_home`\n",
       "\n",
       "</details>\n",
       "<details ><summary>27. docs</summary>\n",
       "\n",
       "\n",
       "*   **`charText`**: `How TF features represent text`\n",
       "*   **`charUrl`**: `https://annotation.github.io/text-fabric/writing/hebrew.html`\n",
       "*   **`docBase`**: `https://etcbc.github.io/bhsa`\n",
       "*   **`docExt`**: *empty*\n",
       "*   **`docPage`**: `0_home`\n",
       "*   **`docRoot`**: `https://etcbc.github.io`\n",
       "*   **`docUrl`**: `https://etcbc.github.io/bhsa/0_home`\n",
       "*   **`featureBase`**: `https://etcbc.github.io/bhsa/features/<feature>`\n",
       "*   **`featurePage`**: `0_home`\n",
       "\n",
       "</details>\n",
       "<details ><summary>28. doi</summary>\n",
       "\n",
       "`10.5281/zenodo.1007624`\n",
       "\n",
       "</details>\n",
       "<details ><summary>29. exampleSection</summary>\n",
       "\n",
       "`Genesis 1:1`\n",
       "\n",
       "</details>\n",
       "<details ><summary>30. exampleSectionHtml</summary>\n",
       "\n",
       "`<code>Genesis 1:1</code> (use <a href=\"https://github.com/{org}/{repo}/blob/master/tf/{version}/book%40en.tf\" target=\"_blank\">English book names</a>)`\n",
       "\n",
       "</details>\n",
       "<details ><summary>31. excludedFeatures</summary>\n",
       "\n",
       "\n",
       "1.  `g_uvf_utf8`\n",
       "2.  `g_vbs`\n",
       "3.  `kq_hybrid`\n",
       "4.  `languageISO`\n",
       "5.  `g_nme`\n",
       "6.  `lex0`\n",
       "7.  `is_root`\n",
       "8.  `g_vbs_utf8`\n",
       "9.  `g_uvf`\n",
       "10. `dist`\n",
       "11. `root`\n",
       "12. `suffix_person`\n",
       "13. `g_vbe`\n",
       "14. `dist_unit`\n",
       "15. `suffix_number`\n",
       "16. `distributional_parent`\n",
       "17. `kq_hybrid_utf8`\n",
       "18. `crossrefSET`\n",
       "19. `instruction`\n",
       "20. `g_prs`\n",
       "21. `lexeme_count`\n",
       "22. `rank_occ`\n",
       "23. `g_pfm_utf8`\n",
       "24. `freq_occ`\n",
       "25. `crossrefLCS`\n",
       "26. `functional_parent`\n",
       "27. `g_pfm`\n",
       "28. `g_nme_utf8`\n",
       "29. `g_vbe_utf8`\n",
       "30. `kind`\n",
       "31. `g_prs_utf8`\n",
       "32. `suffix_gender`\n",
       "33. `mother_object_type`\n",
       "\n",
       "</details>\n",
       "<details ><summary>32. exclusions</summary>\n",
       "\n",
       "{}\n",
       "\n",
       "</details>\n",
       "<details ><summary>33. extension</summary>\n",
       "\n",
       "` hbo`\n",
       "\n",
       "</details>\n",
       "<details ><summary>34. featureBase</summary>\n",
       "\n",
       "`https://etcbc.github.io/bhsa/features/<feature>`\n",
       "\n",
       "</details>\n",
       "<details ><summary>35. featurePage</summary>\n",
       "\n",
       "`0_home`\n",
       "\n",
       "</details>\n",
       "<details ><summary>36. features</summary>\n",
       "\n",
       "\n",
       "*   **`clause`**: \n",
       "    *   []\n",
       "    *   {}\n",
       "*   **`clause_atom`**: \n",
       "    *   []\n",
       "    *   {}\n",
       "*   **`half_verse`**: \n",
       "    *   []\n",
       "    *   {}\n",
       "*   **`lex`**: \n",
       "    *   []\n",
       "    *   {}\n",
       "*   **`phrase`**: \n",
       "    *   []\n",
       "    *   {}\n",
       "*   **`phrase_atom`**: \n",
       "    *   []\n",
       "    *   {}\n",
       "*   **`sentence`**: \n",
       "    *   []\n",
       "    *   {}\n",
       "*   **`sentence_atom`**: \n",
       "    *   []\n",
       "    *   {}\n",
       "*   **`subphrase`**: \n",
       "    *   []\n",
       "    *   {}\n",
       "*   **`word`**: \n",
       "    *   \n",
       "        *   `pdp`\n",
       "        *   `vs`\n",
       "        *   `vt`\n",
       "    *   {}\n",
       "\n",
       "</details>\n",
       "<details ><summary>37. featuresBare</summary>\n",
       "\n",
       "\n",
       "*   **`clause`**: \n",
       "    *   []\n",
       "    *   {}\n",
       "*   **`clause_atom`**: \n",
       "    *   []\n",
       "    *   {}\n",
       "*   **`half_verse`**: \n",
       "    *   []\n",
       "    *   {}\n",
       "*   **`lex`**: \n",
       "    *   \n",
       "        *   `gloss`\n",
       "    *   {}\n",
       "*   **`phrase`**: \n",
       "    *   []\n",
       "    *   {}\n",
       "*   **`phrase_atom`**: \n",
       "    *   []\n",
       "    *   {}\n",
       "*   **`sentence`**: \n",
       "    *   []\n",
       "    *   {}\n",
       "*   **`sentence_atom`**: \n",
       "    *   []\n",
       "    *   {}\n",
       "*   **`subphrase`**: \n",
       "    *   []\n",
       "    *   {}\n",
       "*   **`word`**: \n",
       "    *   \n",
       "        *   `gloss`\n",
       "    *   \n",
       "        *   **`gloss`**: `lex`\n",
       "\n",
       "</details>\n",
       "<details ><summary>38. formatCls</summary>\n",
       "\n",
       "\n",
       "*   **`lex-default`**: `txtn`\n",
       "*   **`lex-orig-full`**: `txtu hbo`\n",
       "*   **`lex-orig-plain`**: `txtu hbo`\n",
       "*   **`lex-trans-full`**: `txtt`\n",
       "*   **`lex-trans-plain`**: `txtt`\n",
       "*   **`text-orig-full`**: `txtu hbo`\n",
       "*   **`text-orig-full-ketiv`**: `txtu hbo`\n",
       "*   **`text-orig-plain`**: `txtu hbo`\n",
       "*   **`text-phono-full`**: `txtp`\n",
       "*   **`text-trans-full`**: `txtt`\n",
       "*   **`text-trans-full-ketiv`**: `txtt`\n",
       "*   **`text-trans-plain`**: `txtt`\n",
       "\n",
       "</details>\n",
       "<details ><summary>39. formatHtml</summary>\n",
       "\n",
       "set()\n",
       "\n",
       "</details>\n",
       "<details ><summary>40. formatMethod</summary>\n",
       "\n",
       "{}\n",
       "\n",
       "</details>\n",
       "<details ><summary>41. formatStyle</summary>\n",
       "\n",
       "\n",
       "*   **`normal`**: `txtn`\n",
       "*   **`orig`**: `txtu hbo`\n",
       "*   **`phono`**: `txtp`\n",
       "*   **`source`**: `txto`\n",
       "*   **`trans`**: `txtt`\n",
       "\n",
       "</details>\n",
       "<details ><summary>42. graphicsRelative</summary>\n",
       "\n",
       "None\n",
       "\n",
       "</details>\n",
       "<details ><summary>43. hasGraphics</summary>\n",
       "\n",
       "set()\n",
       "\n",
       "</details>\n",
       "<details ><summary>44. interfaceDefaults</summary>\n",
       "\n",
       "\n",
       "*   **`lineNumbers`**: None\n",
       "*   **`plainGaps`**: `True`\n",
       "*   **`prettyTypes`**: `True`\n",
       "*   **`queryFeatures`**: `True`\n",
       "*   **`showGraphics`**: None\n",
       "*   **`showHidden`**: False\n",
       "*   **`standardFeatures`**: False\n",
       "*   **`withNodes`**: False\n",
       "*   **`withTypes`**: False\n",
       "\n",
       "</details>\n",
       "<details ><summary>45. isCompatible</summary>\n",
       "\n",
       "`True`\n",
       "\n",
       "</details>\n",
       "<details ><summary>46. isHidden</summary>\n",
       "\n",
       "\n",
       "1.  `clause_atom`\n",
       "2.  `phrase_atom`\n",
       "3.  `sentence_atom`\n",
       "\n",
       "</details>\n",
       "<details ><summary>47. labels</summary>\n",
       "\n",
       "\n",
       "*   **`book`**: \n",
       "    *   `True`\n",
       "    *   ()\n",
       "*   **`chapter`**: \n",
       "    *   `True`\n",
       "    *   ()\n",
       "*   **`clause`**: \n",
       "    *   `{typ} {rela}`\n",
       "    *   \n",
       "        *   `typ`\n",
       "        *   `rela`\n",
       "*   **`clause_atom`**: \n",
       "    *   `{code}`\n",
       "    *   \n",
       "        *   `code`\n",
       "*   **`half_verse`**: \n",
       "    *   `{label}`\n",
       "    *   \n",
       "        *   `label`\n",
       "*   **`lex`**: \n",
       "    *   `{voc_lex_utf8}`\n",
       "    *   \n",
       "        *   `voc_lex_utf8`\n",
       "*   **`phrase`**: \n",
       "    *   `{typ} {function}`\n",
       "    *   \n",
       "        *   `typ`\n",
       "        *   `function`\n",
       "*   **`phrase_atom`**: \n",
       "    *   `{typ} {rela}`\n",
       "    *   \n",
       "        *   `typ`\n",
       "        *   `rela`\n",
       "*   **`sentence`**: \n",
       "    *   `{number}`\n",
       "    *   \n",
       "        *   `number`\n",
       "*   **`sentence_atom`**: \n",
       "    *   `{number}`\n",
       "    *   \n",
       "        *   `number`\n",
       "*   **`subphrase`**: \n",
       "    *   `{number}`\n",
       "    *   \n",
       "        *   `number`\n",
       "*   **`verse`**: \n",
       "    *   *empty*\n",
       "    *   ()\n",
       "*   **`word`**: \n",
       "    *   `True`\n",
       "    *   ()\n",
       "\n",
       "</details>\n",
       "<details ><summary>48. language</summary>\n",
       "\n",
       "`hebrew`\n",
       "\n",
       "</details>\n",
       "<details ><summary>49. levelCls</summary>\n",
       "\n",
       "\n",
       "*   **`book`**: \n",
       "    *   **`children`**: `children hor wrap`\n",
       "    *   **`container`**: `contnr c4`\n",
       "    *   **`label`**: `lbl c4`\n",
       "*   **`chapter`**: \n",
       "    *   **`children`**: `children hor wrap`\n",
       "    *   **`container`**: `contnr c4`\n",
       "    *   **`label`**: `lbl c4`\n",
       "*   **`clause`**: \n",
       "    *   **`children`**: `children hor wrap`\n",
       "    *   **`container`**: `contnr c2`\n",
       "    *   **`label`**: `lbl c2`\n",
       "*   **`clause_atom`**: \n",
       "    *   **`children`**: `children hor wrap`\n",
       "    *   **`container`**: `contnr c1`\n",
       "    *   **`label`**: `lbl c1`\n",
       "*   **`half_verse`**: \n",
       "    *   **`children`**: `children hor wrap`\n",
       "    *   **`container`**: `contnr c3`\n",
       "    *   **`label`**: `lbl c3`\n",
       "*   **`lex`**: \n",
       "    *   **`children`**: *empty*\n",
       "    *   **`container`**: `contnr c0`\n",
       "    *   **`label`**: `lbl c0`\n",
       "*   **`phrase`**: \n",
       "    *   **`children`**: `children hor wrap`\n",
       "    *   **`container`**: `contnr c1`\n",
       "    *   **`label`**: `lbl c1`\n",
       "*   **`phrase_atom`**: \n",
       "    *   **`children`**: `children hor wrap`\n",
       "    *   **`container`**: `contnr c1`\n",
       "    *   **`label`**: `lbl c1`\n",
       "*   **`sentence`**: \n",
       "    *   **`children`**: `children hor wrap`\n",
       "    *   **`container`**: `contnr c2`\n",
       "    *   **`label`**: `lbl c2`\n",
       "*   **`sentence_atom`**: \n",
       "    *   **`children`**: `children hor wrap`\n",
       "    *   **`container`**: `contnr c1`\n",
       "    *   **`label`**: `lbl c1`\n",
       "*   **`subphrase`**: \n",
       "    *   **`children`**: `children hor wrap`\n",
       "    *   **`container`**: `contnr c1`\n",
       "    *   **`label`**: `lbl c1`\n",
       "*   **`verse`**: \n",
       "    *   **`children`**: `children hor wrap`\n",
       "    *   **`container`**: `contnr c3`\n",
       "    *   **`label`**: `lbl c3`\n",
       "*   **`word`**: \n",
       "    *   **`children`**: *empty*\n",
       "    *   **`container`**: `contnr c0`\n",
       "    *   **`label`**: `lbl c0`\n",
       "\n",
       "</details>\n",
       "<details ><summary>50. levels</summary>\n",
       "\n",
       "\n",
       "*   **`book`**: \n",
       "    *   **`flow`**: `hor`\n",
       "    *   **`level`**: `4`\n",
       "    *   **`stretch`**: `True`\n",
       "    *   **`wrap`**: `True`\n",
       "*   **`chapter`**: \n",
       "    *   **`flow`**: `hor`\n",
       "    *   **`level`**: `4`\n",
       "    *   **`stretch`**: `True`\n",
       "    *   **`wrap`**: `True`\n",
       "*   **`clause`**: \n",
       "    *   **`flow`**: `hor`\n",
       "    *   **`level`**: `2`\n",
       "    *   **`stretch`**: `True`\n",
       "    *   **`wrap`**: `True`\n",
       "*   **`clause_atom`**: \n",
       "    *   **`flow`**: `hor`\n",
       "    *   **`level`**: `1`\n",
       "    *   **`stretch`**: `True`\n",
       "    *   **`wrap`**: `True`\n",
       "*   **`half_verse`**: \n",
       "    *   **`flow`**: `hor`\n",
       "    *   **`level`**: `3`\n",
       "    *   **`stretch`**: `True`\n",
       "    *   **`wrap`**: `True`\n",
       "*   **`lex`**: \n",
       "    *   **`flow`**: `ver`\n",
       "    *   **`level`**: 0\n",
       "    *   **`stretch`**: False\n",
       "    *   **`wrap`**: False\n",
       "*   **`phrase`**: \n",
       "    *   **`flow`**: `hor`\n",
       "    *   **`level`**: `1`\n",
       "    *   **`stretch`**: `True`\n",
       "    *   **`wrap`**: `True`\n",
       "*   **`phrase_atom`**: \n",
       "    *   **`flow`**: `hor`\n",
       "    *   **`level`**: `1`\n",
       "    *   **`stretch`**: `True`\n",
       "    *   **`wrap`**: `True`\n",
       "*   **`sentence`**: \n",
       "    *   **`flow`**: `hor`\n",
       "    *   **`level`**: `2`\n",
       "    *   **`stretch`**: `True`\n",
       "    *   **`wrap`**: `True`\n",
       "*   **`sentence_atom`**: \n",
       "    *   **`flow`**: `hor`\n",
       "    *   **`level`**: `1`\n",
       "    *   **`stretch`**: `True`\n",
       "    *   **`wrap`**: `True`\n",
       "*   **`subphrase`**: \n",
       "    *   **`flow`**: `hor`\n",
       "    *   **`level`**: `1`\n",
       "    *   **`stretch`**: `True`\n",
       "    *   **`wrap`**: `True`\n",
       "*   **`verse`**: \n",
       "    *   **`flow`**: `hor`\n",
       "    *   **`level`**: `3`\n",
       "    *   **`stretch`**: `True`\n",
       "    *   **`wrap`**: `True`\n",
       "*   **`word`**: \n",
       "    *   **`flow`**: `ver`\n",
       "    *   **`level`**: 0\n",
       "    *   **`stretch`**: False\n",
       "    *   **`wrap`**: False\n",
       "\n",
       "</details>\n",
       "<details ><summary>51. lexMap</summary>\n",
       "\n",
       "\n",
       "*   **`word`**: `lex`\n",
       "\n",
       "</details>\n",
       "<details ><summary>52. lexTypes</summary>\n",
       "\n",
       "\n",
       "1.  `lex`\n",
       "\n",
       "</details>\n",
       "<details ><summary>53. lineNumberFeature</summary>\n",
       "\n",
       "{}\n",
       "\n",
       "</details>\n",
       "<details ><summary>54. local</summary>\n",
       "\n",
       "`clone`\n",
       "\n",
       "</details>\n",
       "<details ><summary>55. localDir</summary>\n",
       "\n",
       "`/Users/dirk/github/etcbc/bhsa/_temp`\n",
       "\n",
       "</details>\n",
       "<details ><summary>56. moduleSpecs</summary>\n",
       "\n",
       "\n",
       "1.  \n",
       "    *   **`corpus`**: `Phonetic Transcriptions`\n",
       "    *   **`docUrl`**: `https://nbviewer.jupyter.org/github/etcbc/phono/blob/master/programs/phono.ipynb`\n",
       "    *   **`doi`**: `10.5281/zenodo.1007636`\n",
       "    *   **`org`**: `etcbc`\n",
       "    *   **`relative`**: `tf`\n",
       "    *   **`repo`**: `phono`\n",
       "2.  \n",
       "    *   **`corpus`**: `Parallel Passages`\n",
       "    *   **`docUrl`**: `https://nbviewer.jupyter.org/github/etcbc/parallels/blob/master/programs/parallels.ipynb`\n",
       "    *   **`doi`**: `10.5281/zenodo.1007642`\n",
       "    *   **`org`**: `etcbc`\n",
       "    *   **`relative`**: `tf`\n",
       "    *   **`repo`**: `parallels`\n",
       "\n",
       "</details>\n",
       "<details ><summary>57. noDescendTypes</summary>\n",
       "\n",
       "\n",
       "1.  `lex`\n",
       "\n",
       "</details>\n",
       "<details ><summary>58. noneValues</summary>\n",
       "\n",
       "\n",
       "1.  `none`\n",
       "2.  `unknown`\n",
       "3.  None\n",
       "4.  `NA`\n",
       "\n",
       "</details>\n",
       "<details ><summary>59. org</summary>\n",
       "\n",
       "`etcbc`\n",
       "\n",
       "</details>\n",
       "<details ><summary>60. plainCustom</summary>\n",
       "\n",
       "{}\n",
       "\n",
       "</details>\n",
       "<details ><summary>61. prettyCustom</summary>\n",
       "\n",
       "{}\n",
       "\n",
       "</details>\n",
       "<details ><summary>62. provenanceSpec</summary>\n",
       "\n",
       "\n",
       "*   **`corpus`**: `BHSA = Biblia Hebraica Stuttgartensia Amstelodamensis`\n",
       "*   **`doi`**: `10.5281/zenodo.1007624`\n",
       "*   **`graphicsRelative`**: None\n",
       "*   **`moduleSpecs`**: \n",
       "    *   \n",
       "        *   **`corpus`**: `Phonetic Transcriptions`\n",
       "        *   **`docUrl`**: `https://nbviewer.jupyter.org/github/etcbc/phono/blob/master/programs/phono.ipynb`\n",
       "        *   **`doi`**: `10.5281/zenodo.1007636`\n",
       "        *   **`org`**: `etcbc`\n",
       "        *   **`relative`**: `tf`\n",
       "        *   **`repo`**: `phono`\n",
       "    *   \n",
       "        *   **`corpus`**: `Parallel Passages`\n",
       "        *   **`docUrl`**: `https://nbviewer.jupyter.org/github/etcbc/parallels/blob/master/programs/parallels.ipynb`\n",
       "        *   **`doi`**: `10.5281/zenodo.1007642`\n",
       "        *   **`org`**: `etcbc`\n",
       "        *   **`relative`**: `tf`\n",
       "        *   **`repo`**: `parallels`\n",
       "*   **`org`**: `etcbc`\n",
       "*   **`relative`**: `tf`\n",
       "*   **`repo`**: `bhsa`\n",
       "*   **`version`**: `c`\n",
       "*   **`webBase`**: `https://shebanq.ancient-data.org/hebrew`\n",
       "*   **`webHint`**: `Show this on SHEBANQ`\n",
       "*   **`webLang`**: `la`\n",
       "*   **`webLexId`**: `True`\n",
       "*   **`webUrl`**: `https://shebanq.ancient-data.org/hebrew/text?book=<1>&chapter=<2>&verse=<3>&version=c&mr=m&qw=q&tp=txt_p&tr=hb&wget=v&qget=v&nget=vt`\n",
       "*   **`webUrlLex`**: `https://shebanq.ancient-data.org/hebrew/word?version=c&id=<lid>`\n",
       "*   **`zip`**: None\n",
       "\n",
       "</details>\n",
       "<details ><summary>63. relative</summary>\n",
       "\n",
       "`tf`\n",
       "\n",
       "</details>\n",
       "<details ><summary>64. release</summary>\n",
       "\n",
       "None\n",
       "\n",
       "</details>\n",
       "<details ><summary>65. repo</summary>\n",
       "\n",
       "`bhsa`\n",
       "\n",
       "</details>\n",
       "<details ><summary>66. sectionSep1</summary>\n",
       "\n",
       "` `\n",
       "\n",
       "</details>\n",
       "<details ><summary>67. sectionSep2</summary>\n",
       "\n",
       "`:`\n",
       "\n",
       "</details>\n",
       "<details ><summary>68. showVerseInTuple</summary>\n",
       "\n",
       "False\n",
       "\n",
       "</details>\n",
       "<details ><summary>69. styles</summary>\n",
       "\n",
       "\n",
       "*   **`clause`**: *empty*\n",
       "*   **`clause_atom`**: *empty*\n",
       "*   **`half_verse`**: *empty*\n",
       "*   **`lex`**: `txtu hbo`\n",
       "*   **`phrase`**: *empty*\n",
       "*   **`phrase_atom`**: *empty*\n",
       "*   **`sentence`**: *empty*\n",
       "*   **`sentence_atom`**: *empty*\n",
       "*   **`subphrase`**: *empty*\n",
       "\n",
       "</details>\n",
       "<details ><summary>70. templates</summary>\n",
       "\n",
       "\n",
       "*   **`book`**: \n",
       "    *   `True`\n",
       "    *   ()\n",
       "*   **`chapter`**: \n",
       "    *   `True`\n",
       "    *   ()\n",
       "*   **`clause`**: \n",
       "    *   *empty*\n",
       "    *   ()\n",
       "*   **`clause_atom`**: \n",
       "    *   *empty*\n",
       "    *   ()\n",
       "*   **`half_verse`**: \n",
       "    *   *empty*\n",
       "    *   ()\n",
       "*   **`lex`**: \n",
       "    *   `{voc_lex_utf8}`\n",
       "    *   \n",
       "        *   `voc_lex_utf8`\n",
       "*   **`phrase`**: \n",
       "    *   *empty*\n",
       "    *   ()\n",
       "*   **`phrase_atom`**: \n",
       "    *   *empty*\n",
       "    *   ()\n",
       "*   **`sentence`**: \n",
       "    *   *empty*\n",
       "    *   ()\n",
       "*   **`sentence_atom`**: \n",
       "    *   *empty*\n",
       "    *   ()\n",
       "*   **`subphrase`**: \n",
       "    *   *empty*\n",
       "    *   ()\n",
       "*   **`verse`**: \n",
       "    *   *empty*\n",
       "    *   ()\n",
       "*   **`word`**: \n",
       "    *   `True`\n",
       "    *   ()\n",
       "\n",
       "</details>\n",
       "<details ><summary>71. tfDoc</summary>\n",
       "\n",
       "`https://annotation.github.io/text-fabric`\n",
       "\n",
       "</details>\n",
       "<details ><summary>72. transform</summary>\n",
       "\n",
       "{}\n",
       "\n",
       "</details>\n",
       "<details ><summary>73. typeDisplay</summary>\n",
       "\n",
       "\n",
       "*   **`clause`**: \n",
       "    *   **`label`**: `{typ} {rela}`\n",
       "    *   **`style`**: *empty*\n",
       "*   **`clause_atom`**: \n",
       "    *   **`hidden`**: `True`\n",
       "    *   **`label`**: `{code}`\n",
       "    *   **`level`**: `1`\n",
       "    *   **`style`**: *empty*\n",
       "*   **`half_verse`**: \n",
       "    *   **`label`**: `{label}`\n",
       "    *   **`style`**: *empty*\n",
       "    *   **`verselike`**: `True`\n",
       "*   **`lex`**: \n",
       "    *   **`featuresBare`**: `gloss`\n",
       "    *   **`label`**: `{voc_lex_utf8}`\n",
       "    *   **`lexOcc`**: `word`\n",
       "    *   **`style`**: `orig`\n",
       "    *   **`template`**: `{voc_lex_utf8}`\n",
       "*   **`phrase`**: \n",
       "    *   **`label`**: `{typ} {function}`\n",
       "    *   **`style`**: *empty*\n",
       "*   **`phrase_atom`**: \n",
       "    *   **`hidden`**: `True`\n",
       "    *   **`label`**: `{typ} {rela}`\n",
       "    *   **`level`**: `1`\n",
       "    *   **`style`**: *empty*\n",
       "*   **`sentence`**: \n",
       "    *   **`label`**: `{number}`\n",
       "    *   **`style`**: *empty*\n",
       "*   **`sentence_atom`**: \n",
       "    *   **`hidden`**: `True`\n",
       "    *   **`label`**: `{number}`\n",
       "    *   **`level`**: `1`\n",
       "    *   **`style`**: *empty*\n",
       "*   **`subphrase`**: \n",
       "    *   **`label`**: `{number}`\n",
       "    *   **`style`**: *empty*\n",
       "*   **`word`**: \n",
       "    *   **`features`**: `pdp vs vt`\n",
       "    *   **`featuresBare`**: `lex:gloss`\n",
       "\n",
       "</details>\n",
       "<details ><summary>74. urlGh</summary>\n",
       "\n",
       "`https://github.com`\n",
       "\n",
       "</details>\n",
       "<details ><summary>75. urlNb</summary>\n",
       "\n",
       "`https://nbviewer.jupyter.org/github`\n",
       "\n",
       "</details>\n",
       "<details ><summary>76. verseTypes</summary>\n",
       "\n",
       "\n",
       "1.  `half_verse`\n",
       "2.  `verse`\n",
       "\n",
       "</details>\n",
       "<details ><summary>77. version</summary>\n",
       "\n",
       "`c`\n",
       "\n",
       "</details>\n",
       "<details ><summary>78. webBase</summary>\n",
       "\n",
       "`https://shebanq.ancient-data.org/hebrew`\n",
       "\n",
       "</details>\n",
       "<details ><summary>79. webHint</summary>\n",
       "\n",
       "`Show this on SHEBANQ`\n",
       "\n",
       "</details>\n",
       "<details ><summary>80. webLang</summary>\n",
       "\n",
       "`la`\n",
       "\n",
       "</details>\n",
       "<details ><summary>81. webLexId</summary>\n",
       "\n",
       "`True`\n",
       "\n",
       "</details>\n",
       "<details ><summary>82. webUrl</summary>\n",
       "\n",
       "`https://shebanq.ancient-data.org/hebrew/text?book=<1>&chapter=<2>&verse=<3>&version=c&mr=m&qw=q&tp=txt_p&tr=hb&wget=v&qget=v&nget=vt`\n",
       "\n",
       "</details>\n",
       "<details ><summary>83. webUrlLex</summary>\n",
       "\n",
       "`https://shebanq.ancient-data.org/hebrew/word?version=c&id=<lid>`\n",
       "\n",
       "</details>\n",
       "<details ><summary>84. writing</summary>\n",
       "\n",
       "`hbo`\n",
       "\n",
       "</details>\n",
       "<details ><summary>85. zip</summary>\n",
       "\n",
       "\n",
       "1.  `bhsa`\n",
       "2.  \n",
       "    *   `etcbc`\n",
       "    *   `phono`\n",
       "    *   `tf`\n",
       "3.  \n",
       "    *   `etcbc`\n",
       "    *   `parallels`\n",
       "    *   `tf`\n",
       "\n",
       "</details>\n",
       "</details>\n"
      ],
      "text/plain": [
       "<IPython.core.display.Markdown object>"
      ]
     },
     "metadata": {},
     "output_type": "display_data"
    }
   ],
   "source": [
    "A.showContext()"
   ]
  },
  {
   "cell_type": "markdown",
   "metadata": {},
   "source": [
    "# Gaps"
   ]
  },
  {
   "cell_type": "code",
   "execution_count": 5,
   "metadata": {},
   "outputs": [],
   "source": [
    "c = 427931\n",
    "s = L.u(c, otype=\"sentence\")[0]\n",
    "v = L.u(c, otype=\"verse\")[0]\n",
    "highlights = {c: \"khaki\", c + 1: \"lightblue\"}"
   ]
  },
  {
   "cell_type": "code",
   "execution_count": 6,
   "metadata": {},
   "outputs": [
    {
     "data": {
      "text/html": [
       "<a target=\"_blank\" href=\"https://shebanq.ancient-data.org/hebrew/text?book=Genesis&amp;chapter=4&amp;verse=14&amp;version=c&amp;mr=m&amp;qw=q&amp;tp=txt_p&amp;tr=hb&amp;wget=v&amp;qget=v&amp;nget=vt\" title=\"Show this on SHEBANQ\" sec=\"Genesis 4:14\">Genesis 4:14</a>"
      ],
      "text/plain": [
       "<IPython.core.display.HTML object>"
      ]
     },
     "metadata": {},
     "output_type": "display_data"
    }
   ],
   "source": [
    "A.webLink(s)"
   ]
  },
  {
   "cell_type": "code",
   "execution_count": 7,
   "metadata": {},
   "outputs": [
    {
     "data": {
      "text/html": [
       "<div class=\"rtl children\"><span class=\"section ltr\"><a target=\"_blank\" href=\"https://shebanq.ancient-data.org/hebrew/text?book=Genesis&amp;chapter=4&amp;verse=14&amp;version=c&amp;mr=m&amp;qw=q&amp;tp=txt_p&amp;tr=hb&amp;wget=v&amp;qget=v&amp;nget=vt\" title=\"Show this on SHEBANQ\" sec=\"Genesis 4:14\">Genesis 4:14</a></span> <span class=\"plain outer rtl  \" ><span class=\"nd\">1172567</span><span class=\"plain  rtl\"></span><span class=\"plain  rtl l hlbx\"  style=\"border-color: khaki;\" ><span class=\"nd\">427931</span><span class=\"plain  rtl\"></span><span class=\"plain  rtl  \" ><span class=\"plain  rtl\"></span><span class=\"plain  rtl  \" ><span class=\"txtu hbo\">כָל־</span></span></span></span><span class=\"plain  rtl  hlbx\"  style=\"border-color: lightblue;\" ><span class=\"nd\">427932</span><span class=\"plain  rtl\"></span><span class=\"plain  rtl  \" ><span class=\"plain  rtl\"></span><span class=\"plain  rtl  \" ><span class=\"txtu hbo\">מֹצְאִ֖י </span></span></span></span><span class=\"plain  rtl r hlbx\"  style=\"border-color: khaki;\" ><span class=\"nd\">427931</span><span class=\"plain  rtl\"></span><span class=\"plain  rtl  \" ><span class=\"plain  rtl\"></span><span class=\"plain  rtl  \" ><span class=\"txtu hbo\">יַֽהַרְגֵֽנִי׃ </span></span></span></span></span></div>"
      ],
      "text/plain": [
       "<IPython.core.display.HTML object>"
      ]
     },
     "metadata": {},
     "output_type": "display_data"
    }
   ],
   "source": [
    "A.plain(s, withNodes=True, highlights=highlights,explain=False)"
   ]
  },
  {
   "cell_type": "code",
   "execution_count": 8,
   "metadata": {},
   "outputs": [
    {
     "data": {
      "text/plain": [
       "{'lex-default': 'word',\n",
       " 'lex-orig-full': 'word',\n",
       " 'lex-orig-plain': 'word',\n",
       " 'lex-trans-full': 'word',\n",
       " 'lex-trans-plain': 'word',\n",
       " 'text-orig-full': 'word',\n",
       " 'text-orig-full-ketiv': 'word',\n",
       " 'text-orig-plain': 'word',\n",
       " 'text-phono-full': 'word',\n",
       " 'text-trans-full': 'word',\n",
       " 'text-trans-full-ketiv': 'word',\n",
       " 'text-trans-plain': 'word'}"
      ]
     },
     "execution_count": 8,
     "metadata": {},
     "output_type": "execute_result"
    }
   ],
   "source": [
    "T.formats"
   ]
  },
  {
   "cell_type": "code",
   "execution_count": 9,
   "metadata": {},
   "outputs": [
    {
     "data": {
      "text/html": [
       "<div class=\"ltr children\"><span class=\"section ltr\"><a target=\"_blank\" href=\"https://shebanq.ancient-data.org/hebrew/text?book=Genesis&amp;chapter=4&amp;verse=14&amp;version=c&amp;mr=m&amp;qw=q&amp;tp=txt_p&amp;tr=hb&amp;wget=v&amp;qget=v&amp;nget=vt\" title=\"Show this on SHEBANQ\" sec=\"Genesis 4:14\">Genesis 4:14</a></span> <span class=\"plain outer ltr r \" ><span class=\"nd\">427931</span><span class=\"plain  ltr\"></span><span class=\"plain  ltr  \" ><span class=\"plain  ltr\"></span><span class=\"plain  ltr  \" ><span class=\"txtp\">ḵol-</span></span></span></span><span class=\"plain outer ltr l \" ><span class=\"nd\">427931</span><span class=\"plain  ltr\"></span><span class=\"plain  ltr  \" ><span class=\"plain  ltr\"></span><span class=\"plain  ltr  \" ><span class=\"txtp\">yˈaharᵊḡˈēnî . </span></span></span></span></div>"
      ],
      "text/plain": [
       "<IPython.core.display.HTML object>"
      ]
     },
     "metadata": {},
     "output_type": "display_data"
    }
   ],
   "source": [
    "A.plain(c, fmt=\"text-phono-full\", withNodes=True, explain=False)"
   ]
  },
  {
   "cell_type": "code",
   "execution_count": 10,
   "metadata": {},
   "outputs": [
    {
     "data": {
      "text/html": [
       "<div class=\"rtl children\"><span class=\"section ltr\"><a target=\"_blank\" href=\"https://shebanq.ancient-data.org/hebrew/text?book=Genesis&amp;chapter=4&amp;verse=14&amp;version=c&amp;mr=m&amp;qw=q&amp;tp=txt_p&amp;tr=hb&amp;wget=v&amp;qget=v&amp;nget=vt\" title=\"Show this on SHEBANQ\" sec=\"Genesis 4:14\">Genesis 4:14</a></span> <span class=\"plain outer rtl l \" ><span class=\"plain  rtl\"></span><span class=\"plain  rtl  \" ><span class=\"plain  rtl\"></span><span class=\"plain  rtl  \" ><span class=\"txtu hbo\">כָל־</span></span></span></span><span class=\"plain outer rtl r \" ><span class=\"plain  rtl\"></span><span class=\"plain  rtl  \" ><span class=\"plain  rtl\"></span><span class=\"plain  rtl  \" ><span class=\"txtu hbo\">יַֽהַרְגֵֽנִי׃ </span></span></span></span></div>"
      ],
      "text/plain": [
       "<IPython.core.display.HTML object>"
      ]
     },
     "metadata": {},
     "output_type": "display_data"
    }
   ],
   "source": [
    "A.plain(c, withNodes=False, explain=False)"
   ]
  },
  {
   "cell_type": "code",
   "execution_count": 11,
   "metadata": {},
   "outputs": [
    {
     "data": {
      "text/html": [
       "<span class=\"section ltr\"><a target=\"_blank\" href=\"https://shebanq.ancient-data.org/hebrew/text?book=Genesis&amp;chapter=4&amp;verse=14&amp;version=c&amp;mr=m&amp;qw=q&amp;tp=txt_p&amp;tr=hb&amp;wget=v&amp;qget=v&amp;nget=vt\" title=\"Show this on SHEBANQ\" sec=\"Genesis 4:14\">Genesis 4:14</a></span><div class=\"rtl children\"><div class=\"contnr c2  rtl l \" ><div class=\"lbl c2  \" ><span class=\"nd\">clause:427931</span></div><div class=\"children hor wrap rtl\"><div class=\"contnr c1  rtl  \" ><div class=\"lbl c1  \" ><span class=\"nd\">phrase:652670</span></div><div class=\"children hor wrap rtl\"><div class=\"contnr c0 trm rtl  \" ><div class=\"lbl c0 trm \" ><span class=\"nd\">1904</span> <a class=\" txtu hbo\" target=\"_blank\" href=\"https://shebanq.ancient-data.org/hebrew/word?version=c&amp;id=1KLn\" title=\"Show this on SHEBANQ\"><span class=\"txtu hbo\">כָל־</span></a></div></div></div></div></div></div><div class=\"contnr c2  rtl r \" ><div class=\"lbl c2  \" ><span class=\"nd\">clause:427931</span></div><div class=\"children hor wrap rtl\"><div class=\"contnr c1  rtl  \" ><div class=\"lbl c1  \" ><span class=\"nd\">phrase:652672</span></div><div class=\"children hor wrap rtl\"><div class=\"contnr c0 trm rtl  \" ><div class=\"lbl c0 trm \" ><span class=\"nd\">1906</span> <a class=\" txtu hbo\" target=\"_blank\" href=\"https://shebanq.ancient-data.org/hebrew/word?version=c&amp;id=1HRGv\" title=\"Show this on SHEBANQ\"><span class=\"txtu hbo\">יַֽהַרְגֵֽנִי׃ </span></a></div></div></div></div></div></div></div>"
      ],
      "text/plain": [
       "<IPython.core.display.HTML object>"
      ]
     },
     "metadata": {},
     "output_type": "display_data"
    }
   ],
   "source": [
    "A.pretty(c, withNodes=True, explain=False)"
   ]
  },
  {
   "cell_type": "code",
   "execution_count": 12,
   "metadata": {},
   "outputs": [
    {
     "data": {
      "text/html": [
       "<span class=\"section ltr\"><a target=\"_blank\" href=\"https://shebanq.ancient-data.org/hebrew/text?book=Genesis&amp;chapter=4&amp;verse=14&amp;version=c&amp;mr=m&amp;qw=q&amp;tp=txt_p&amp;tr=hb&amp;wget=v&amp;qget=v&amp;nget=vt\" title=\"Show this on SHEBANQ\" sec=\"Genesis 4:14\">Genesis 4:14</a></span><div class=\"rtl children\"><div class=\"contnr c2  rtl l \" ><div class=\"lbl c2  \" ><span class=\"nd\">clause:427931</span></div><div class=\"children hor wrap rtl\"><div class=\"contnr c1  rtl  \" ><div class=\"lbl c1  \" ><span class=\"nd\">clause_atom:516064</span></div><div class=\"children hor wrap rtl\"><div class=\"contnr c1  rtl  \" ><div class=\"lbl c1  \" ><span class=\"nd\">phrase:652670</span></div><div class=\"children hor wrap rtl\"><div class=\"contnr c1  rtl  \" ><div class=\"lbl c1  \" ><span class=\"nd\">phrase_atom:905918</span></div><div class=\"children hor wrap rtl\"><div class=\"contnr c0 trm rtl  \" ><div class=\"lbl c0 trm \" ><span class=\"nd\">1904</span> <a class=\" txtu hbo\" target=\"_blank\" href=\"https://shebanq.ancient-data.org/hebrew/word?version=c&amp;id=1KLn\" title=\"Show this on SHEBANQ\"><span class=\"txtu hbo\">כָל־</span></a></div></div></div></div></div></div></div></div></div></div><div class=\"contnr c2  rtl r \" ><div class=\"lbl c2  \" ><span class=\"nd\">clause:427931</span></div><div class=\"children hor wrap rtl\"><div class=\"contnr c1  rtl  \" ><div class=\"lbl c1  \" ><span class=\"nd\">clause_atom:516066</span></div><div class=\"children hor wrap rtl\"><div class=\"contnr c1  rtl  \" ><div class=\"lbl c1  \" ><span class=\"nd\">phrase:652672</span></div><div class=\"children hor wrap rtl\"><div class=\"contnr c1  rtl  \" ><div class=\"lbl c1  \" ><span class=\"nd\">phrase_atom:905920</span></div><div class=\"children hor wrap rtl\"><div class=\"contnr c0 trm rtl  \" ><div class=\"lbl c0 trm \" ><span class=\"nd\">1906</span> <a class=\" txtu hbo\" target=\"_blank\" href=\"https://shebanq.ancient-data.org/hebrew/word?version=c&amp;id=1HRGv\" title=\"Show this on SHEBANQ\"><span class=\"txtu hbo\">יַֽהַרְגֵֽנִי׃ </span></a></div></div></div></div></div></div></div></div></div></div></div>"
      ],
      "text/plain": [
       "<IPython.core.display.HTML object>"
      ]
     },
     "metadata": {},
     "output_type": "display_data"
    }
   ],
   "source": [
    "A.pretty(c, withNodes=True, showHidden=True, explain=False)"
   ]
  },
  {
   "cell_type": "code",
   "execution_count": 13,
   "metadata": {},
   "outputs": [
    {
     "data": {
      "text/html": [
       "<span class=\"section ltr\"><a target=\"_blank\" href=\"https://shebanq.ancient-data.org/hebrew/text?book=Genesis&amp;chapter=4&amp;verse=14&amp;version=c&amp;mr=m&amp;qw=q&amp;tp=txt_p&amp;tr=hb&amp;wget=v&amp;qget=v&amp;nget=vt\" title=\"Show this on SHEBANQ\" sec=\"Genesis 4:14\">Genesis 4:14</a></span><div class=\"rtl children\"><div class=\"contnr c2  rtl  \" ><div class=\"lbl c2  \" ><span class=\"nd\">sentence:1172567</span></div><div class=\"children hor wrap rtl\"><div class=\"contnr c2  rtl l hl\"  style=\"background-color: khaki;\" ><div class=\"lbl c2  hl\"  style=\"background-color: khaki;\" ><span class=\"nd\">clause:427931</span></div><div class=\"children hor wrap rtl\"><div class=\"contnr c1  rtl  \" ><div class=\"lbl c1  \" ><span class=\"nd\">phrase:652670</span></div><div class=\"children hor wrap rtl\"><div class=\"contnr c0 trm rtl  \" ><div class=\"lbl c0 trm \" ><span class=\"nd\">1904</span> <a class=\" txtu hbo\" target=\"_blank\" href=\"https://shebanq.ancient-data.org/hebrew/word?version=c&amp;id=1KLn\" title=\"Show this on SHEBANQ\"><span class=\"txtu hbo\">כָל־</span></a></div></div></div></div></div></div><div class=\"contnr c2  rtl  hl\"  style=\"background-color: lightblue;\" ><div class=\"lbl c2  hl\"  style=\"background-color: lightblue;\" ><span class=\"nd\">clause:427932</span></div><div class=\"children hor wrap rtl\"><div class=\"contnr c1  rtl  \" ><div class=\"lbl c1  \" ><span class=\"nd\">phrase:652671</span></div><div class=\"children hor wrap rtl\"><div class=\"contnr c0 trm rtl  \" ><div class=\"lbl c0 trm \" ><span class=\"nd\">1905</span> <a class=\" txtu hbo\" target=\"_blank\" href=\"https://shebanq.ancient-data.org/hebrew/word?version=c&amp;id=1MYAv\" title=\"Show this on SHEBANQ\"><span class=\"txtu hbo\">מֹצְאִ֖י </span></a></div></div></div></div></div></div><div class=\"contnr c2  rtl r hl\"  style=\"background-color: khaki;\" ><div class=\"lbl c2  hl\"  style=\"background-color: khaki;\" ><span class=\"nd\">clause:427931</span></div><div class=\"children hor wrap rtl\"><div class=\"contnr c1  rtl  \" ><div class=\"lbl c1  \" ><span class=\"nd\">phrase:652672</span></div><div class=\"children hor wrap rtl\"><div class=\"contnr c0 trm rtl  \" ><div class=\"lbl c0 trm \" ><span class=\"nd\">1906</span> <a class=\" txtu hbo\" target=\"_blank\" href=\"https://shebanq.ancient-data.org/hebrew/word?version=c&amp;id=1HRGv\" title=\"Show this on SHEBANQ\"><span class=\"txtu hbo\">יַֽהַרְגֵֽנִי׃ </span></a></div></div></div></div></div></div></div></div></div>"
      ],
      "text/plain": [
       "<IPython.core.display.HTML object>"
      ]
     },
     "metadata": {},
     "output_type": "display_data"
    }
   ],
   "source": [
    "A.pretty(s, withNodes=True, highlights=highlights, explain=False)"
   ]
  },
  {
   "cell_type": "code",
   "execution_count": 14,
   "metadata": {},
   "outputs": [
    {
     "data": {
      "text/html": [
       "<div class=\"rtl children\"><span class=\"section ltr\"><a target=\"_blank\" href=\"https://shebanq.ancient-data.org/hebrew/text?book=Genesis&amp;chapter=4&amp;verse=14&amp;version=c&amp;mr=m&amp;qw=q&amp;tp=txt_p&amp;tr=hb&amp;wget=v&amp;qget=v&amp;nget=vt\" title=\"Show this on SHEBANQ\" sec=\"Genesis 4:14\">Genesis 4:14</a></span> <span class=\"plain outer rtl  \" ><span class=\"nd\">1172567</span><span class=\"plain  rtl\"></span><span class=\"plain  rtl  \" ><span class=\"plain  rtl\"></span><span class=\"plain  rtl l \" ><span class=\"plain  rtl\"></span><span class=\"plain  rtl  \" ><span class=\"plain  rtl\"></span><span class=\"plain  rtl  \" ><span class=\"plain  rtl\"></span><span class=\"plain  rtl  \" ><span class=\"plain  rtl\"></span><span class=\"plain  rtl  \" ><span class=\"txtu hbo\">כָל־</span></span></span></span></span></span><span class=\"plain  rtl  \" ><span class=\"plain  rtl\"></span><span class=\"plain  rtl  \" ><span class=\"plain  rtl\"></span><span class=\"plain  rtl  \" ><span class=\"plain  rtl\"></span><span class=\"plain  rtl  \" ><span class=\"plain  rtl\"></span><span class=\"plain  rtl  \" ><span class=\"txtu hbo\">מֹצְאִ֖י </span></span></span></span></span></span><span class=\"plain  rtl r \" ><span class=\"plain  rtl\"></span><span class=\"plain  rtl  \" ><span class=\"plain  rtl\"></span><span class=\"plain  rtl  \" ><span class=\"plain  rtl\"></span><span class=\"plain  rtl  \" ><span class=\"plain  rtl\"></span><span class=\"plain  rtl  \" ><span class=\"txtu hbo\">יַֽהַרְגֵֽנִי׃ </span></span></span></span></span></span></span></span></div>"
      ],
      "text/plain": [
       "<IPython.core.display.HTML object>"
      ]
     },
     "metadata": {},
     "output_type": "display_data"
    }
   ],
   "source": [
    "A.plain(s, withNodes=True, showHidden=True)"
   ]
  },
  {
   "cell_type": "code",
   "execution_count": 15,
   "metadata": {},
   "outputs": [
    {
     "data": {
      "text/html": [
       "<span class=\"section ltr\"><a target=\"_blank\" href=\"https://shebanq.ancient-data.org/hebrew/text?book=Genesis&amp;chapter=4&amp;verse=14&amp;version=c&amp;mr=m&amp;qw=q&amp;tp=txt_p&amp;tr=hb&amp;wget=v&amp;qget=v&amp;nget=vt\" title=\"Show this on SHEBANQ\" sec=\"Genesis 4:14\">Genesis 4:14</a></span><div class=\"rtl children\"><div class=\"contnr c2  rtl  \" ><div class=\"lbl c2  \" ><span class=\"nd\">sentence:1172567</span></div><div class=\"children hor wrap rtl\"><div class=\"contnr c1  rtl  \" ><div class=\"lbl c1  \" ><span class=\"nd\">sentence_atom:1236297</span></div><div class=\"children hor wrap rtl\"><div class=\"contnr c2  rtl l hl\"  style=\"background-color: khaki;\" ><div class=\"lbl c2  hl\"  style=\"background-color: khaki;\" ><span class=\"nd\">clause:427931</span></div><div class=\"children hor wrap rtl\"><div class=\"contnr c1  rtl  \" ><div class=\"lbl c1  \" ><span class=\"nd\">clause_atom:516064</span></div><div class=\"children hor wrap rtl\"><div class=\"contnr c1  rtl  \" ><div class=\"lbl c1  \" ><span class=\"nd\">phrase:652670</span></div><div class=\"children hor wrap rtl\"><div class=\"contnr c1  rtl  \" ><div class=\"lbl c1  \" ><span class=\"nd\">phrase_atom:905918</span></div><div class=\"children hor wrap rtl\"><div class=\"contnr c0 trm rtl  \" ><div class=\"lbl c0 trm \" ><span class=\"nd\">1904</span> <a class=\" txtu hbo\" target=\"_blank\" href=\"https://shebanq.ancient-data.org/hebrew/word?version=c&amp;id=1KLn\" title=\"Show this on SHEBANQ\"><span class=\"txtu hbo\">כָל־</span></a></div></div></div></div></div></div></div></div></div></div><div class=\"contnr c2  rtl  hl\"  style=\"background-color: lightblue;\" ><div class=\"lbl c2  hl\"  style=\"background-color: lightblue;\" ><span class=\"nd\">clause:427932</span></div><div class=\"children hor wrap rtl\"><div class=\"contnr c1  rtl  \" ><div class=\"lbl c1  \" ><span class=\"nd\">clause_atom:516065</span></div><div class=\"children hor wrap rtl\"><div class=\"contnr c1  rtl  \" ><div class=\"lbl c1  \" ><span class=\"nd\">phrase:652671</span></div><div class=\"children hor wrap rtl\"><div class=\"contnr c1  rtl  \" ><div class=\"lbl c1  \" ><span class=\"nd\">phrase_atom:905919</span></div><div class=\"children hor wrap rtl\"><div class=\"contnr c0 trm rtl  \" ><div class=\"lbl c0 trm \" ><span class=\"nd\">1905</span> <a class=\" txtu hbo\" target=\"_blank\" href=\"https://shebanq.ancient-data.org/hebrew/word?version=c&amp;id=1MYAv\" title=\"Show this on SHEBANQ\"><span class=\"txtu hbo\">מֹצְאִ֖י </span></a></div></div></div></div></div></div></div></div></div></div><div class=\"contnr c2  rtl r hl\"  style=\"background-color: khaki;\" ><div class=\"lbl c2  hl\"  style=\"background-color: khaki;\" ><span class=\"nd\">clause:427931</span></div><div class=\"children hor wrap rtl\"><div class=\"contnr c1  rtl  \" ><div class=\"lbl c1  \" ><span class=\"nd\">clause_atom:516066</span></div><div class=\"children hor wrap rtl\"><div class=\"contnr c1  rtl  \" ><div class=\"lbl c1  \" ><span class=\"nd\">phrase:652672</span></div><div class=\"children hor wrap rtl\"><div class=\"contnr c1  rtl  \" ><div class=\"lbl c1  \" ><span class=\"nd\">phrase_atom:905920</span></div><div class=\"children hor wrap rtl\"><div class=\"contnr c0 trm rtl  \" ><div class=\"lbl c0 trm \" ><span class=\"nd\">1906</span> <a class=\" txtu hbo\" target=\"_blank\" href=\"https://shebanq.ancient-data.org/hebrew/word?version=c&amp;id=1HRGv\" title=\"Show this on SHEBANQ\"><span class=\"txtu hbo\">יַֽהַרְגֵֽנִי׃ </span></a></div></div></div></div></div></div></div></div></div></div></div></div></div></div></div>"
      ],
      "text/plain": [
       "<IPython.core.display.HTML object>"
      ]
     },
     "metadata": {},
     "output_type": "display_data"
    }
   ],
   "source": [
    "A.pretty(s, withNodes=True, highlights=highlights, showHidden=True, explain=False)"
   ]
  },
  {
   "cell_type": "code",
   "execution_count": 16,
   "metadata": {},
   "outputs": [
    {
     "data": {
      "text/html": [
       "<div class=\"rtl children\"><span class=\"section ltr\"><a target=\"_blank\" href=\"https://shebanq.ancient-data.org/hebrew/text?book=Genesis&amp;chapter=4&amp;verse=14&amp;version=c&amp;mr=m&amp;qw=q&amp;tp=txt_p&amp;tr=hb&amp;wget=v&amp;qget=v&amp;nget=vt\" title=\"Show this on SHEBANQ\" sec=\"Genesis 4:14\">Genesis 4:14</a></span> <span class=\"plain outer rtl l \" ><span class=\"plain  rtl\"></span><span class=\"plain  rtl  \" ><span class=\"plain  rtl\"></span><span class=\"plain  rtl  \" ><span class=\"txtu hbo\">כָל־</span></span></span></span><span class=\"plain outer rtl r \" ><span class=\"plain  rtl\"></span><span class=\"plain  rtl  \" ><span class=\"plain  rtl\"></span><span class=\"plain  rtl  \" ><span class=\"txtu hbo\">יַֽהַרְגֵֽנִי׃ </span></span></span></span></div>"
      ],
      "text/plain": [
       "<IPython.core.display.HTML object>"
      ]
     },
     "metadata": {},
     "output_type": "display_data"
    },
    {
     "data": {
      "text/html": [
       "<span class=\"section ltr\"><a target=\"_blank\" href=\"https://shebanq.ancient-data.org/hebrew/text?book=Genesis&amp;chapter=4&amp;verse=14&amp;version=c&amp;mr=m&amp;qw=q&amp;tp=txt_p&amp;tr=hb&amp;wget=v&amp;qget=v&amp;nget=vt\" title=\"Show this on SHEBANQ\" sec=\"Genesis 4:14\">Genesis 4:14</a></span><div class=\"rtl children\"><div class=\"contnr c2  rtl l \" ><div class=\"lbl c2  \" ><span class=\"nd\">clause:427931</span></div><div class=\"children hor wrap rtl\"><div class=\"contnr c1  rtl  \" ><div class=\"lbl c1  \" ><span class=\"nd\">phrase:652670</span></div><div class=\"children hor wrap rtl\"><div class=\"contnr c0 trm rtl  \" ><div class=\"lbl c0 trm \" ><span class=\"nd\">1904</span> <a class=\" txtu hbo\" target=\"_blank\" href=\"https://shebanq.ancient-data.org/hebrew/word?version=c&amp;id=1KLn\" title=\"Show this on SHEBANQ\"><span class=\"txtu hbo\">כָל־</span></a></div></div></div></div></div></div><div class=\"contnr c2  rtl r \" ><div class=\"lbl c2  \" ><span class=\"nd\">clause:427931</span></div><div class=\"children hor wrap rtl\"><div class=\"contnr c1  rtl  \" ><div class=\"lbl c1  \" ><span class=\"nd\">phrase:652672</span></div><div class=\"children hor wrap rtl\"><div class=\"contnr c0 trm rtl  \" ><div class=\"lbl c0 trm \" ><span class=\"nd\">1906</span> <a class=\" txtu hbo\" target=\"_blank\" href=\"https://shebanq.ancient-data.org/hebrew/word?version=c&amp;id=1HRGv\" title=\"Show this on SHEBANQ\"><span class=\"txtu hbo\">יַֽהַרְגֵֽנִי׃ </span></a></div></div></div></div></div></div></div>"
      ],
      "text/plain": [
       "<IPython.core.display.HTML object>"
      ]
     },
     "metadata": {},
     "output_type": "display_data"
    },
    {
     "data": {
      "text/html": [
       "<div class=\"rtl children\"><span class=\"section ltr\"><a target=\"_blank\" href=\"https://shebanq.ancient-data.org/hebrew/text?book=Genesis&amp;chapter=4&amp;verse=14&amp;version=c&amp;mr=m&amp;qw=q&amp;tp=txt_p&amp;tr=hb&amp;wget=v&amp;qget=v&amp;nget=vt\" title=\"Show this on SHEBANQ\" sec=\"Genesis 4:14\">Genesis 4:14</a></span> <span class=\"plain outer rtl  \" ><span class=\"plain  rtl\"></span><span class=\"plain  rtl  \" ><span class=\"plain  rtl\"></span><span class=\"plain  rtl  \" ><span class=\"txtu hbo\">מֹצְאִ֖י </span></span></span></span></div>"
      ],
      "text/plain": [
       "<IPython.core.display.HTML object>"
      ]
     },
     "metadata": {},
     "output_type": "display_data"
    },
    {
     "data": {
      "text/html": [
       "<span class=\"section ltr\"><a target=\"_blank\" href=\"https://shebanq.ancient-data.org/hebrew/text?book=Genesis&amp;chapter=4&amp;verse=14&amp;version=c&amp;mr=m&amp;qw=q&amp;tp=txt_p&amp;tr=hb&amp;wget=v&amp;qget=v&amp;nget=vt\" title=\"Show this on SHEBANQ\" sec=\"Genesis 4:14\">Genesis 4:14</a></span><div class=\"rtl children\"><div class=\"contnr c2  rtl  \" ><div class=\"lbl c2  \" ><span class=\"nd\">clause</span></div><div class=\"children hor wrap rtl\"><div class=\"contnr c1  rtl  \" ><div class=\"lbl c1  \" ><span class=\"nd\">phrase</span></div><div class=\"children hor wrap rtl\"><div class=\"contnr c0 trm rtl  \" ><div class=\"lbl c0 trm \" ><a class=\" txtu hbo\" target=\"_blank\" href=\"https://shebanq.ancient-data.org/hebrew/word?version=c&amp;id=1MYAv\" title=\"Show this on SHEBANQ\"><span class=\"txtu hbo\">מֹצְאִ֖י </span></a></div></div></div></div></div></div></div>"
      ],
      "text/plain": [
       "<IPython.core.display.HTML object>"
      ]
     },
     "metadata": {},
     "output_type": "display_data"
    }
   ],
   "source": [
    "A.plain(427931)\n",
    "A.pretty(427931, withNodes=True)\n",
    "A.plain(427932)\n",
    "A.pretty(427932)"
   ]
  },
  {
   "cell_type": "code",
   "execution_count": 17,
   "metadata": {},
   "outputs": [],
   "source": [
    "sp = F.otype.s('subphrase')[0]\n",
    "v = L.u(sp, otype=\"verse\")[0]"
   ]
  },
  {
   "cell_type": "code",
   "execution_count": 18,
   "metadata": {},
   "outputs": [
    {
     "data": {
      "text/html": [
       "<span class=\"section ltr\"><a target=\"_blank\" href=\"https://shebanq.ancient-data.org/hebrew/text?book=Genesis&amp;chapter=1&amp;verse=1&amp;version=c&amp;mr=m&amp;qw=q&amp;tp=txt_p&amp;tr=hb&amp;wget=v&amp;qget=v&amp;nget=vt\" title=\"Show this on SHEBANQ\" sec=\"Genesis 1:1\">Genesis 1:1</a></span><div class=\"rtl children\"><div class=\"contnr c3  rtl  \" ><div class=\"lbl c3  \" ><span class=\"nd\">verse</span></div><div class=\"children hor wrap rtl\"><div class=\"contnr c2  rtl  \" ><div class=\"lbl c2  \" ><span class=\"nd\">sentence</span></div><div class=\"children hor wrap rtl\"><div class=\"contnr c2  rtl  \" ><div class=\"lbl c2  \" ><span class=\"nd\">clause</span></div><div class=\"children hor wrap rtl\"><div class=\"contnr c1  rtl  \" ><div class=\"lbl c1  \" ><span class=\"nd\">phrase</span></div><div class=\"children hor wrap rtl\"><div class=\"contnr c0 trm rtl  \" ><div class=\"lbl c0 trm \" ><a class=\" txtu hbo\" target=\"_blank\" href=\"https://shebanq.ancient-data.org/hebrew/word?version=c&amp;id=1B\" title=\"Show this on SHEBANQ\"><span class=\"txtu hbo\">בְּ</span></a></div></div><div class=\"contnr c0 trm rtl  \" ><div class=\"lbl c0 trm \" ><a class=\" txtu hbo\" target=\"_blank\" href=\"https://shebanq.ancient-data.org/hebrew/word?version=c&amp;id=1RACJTn\" title=\"Show this on SHEBANQ\"><span class=\"txtu hbo\">רֵאשִׁ֖ית </span></a></div></div></div></div><div class=\"contnr c1  rtl  \" ><div class=\"lbl c1  \" ><span class=\"nd\">phrase</span></div><div class=\"children hor wrap rtl\"><div class=\"contnr c0 trm rtl  \" ><div class=\"lbl c0 trm \" ><a class=\" txtu hbo\" target=\"_blank\" href=\"https://shebanq.ancient-data.org/hebrew/word?version=c&amp;id=1BRAv\" title=\"Show this on SHEBANQ\"><span class=\"txtu hbo\">בָּרָ֣א </span></a></div></div></div></div><div class=\"contnr c1  rtl  \" ><div class=\"lbl c1  \" ><span class=\"nd\">phrase</span></div><div class=\"children hor wrap rtl\"><div class=\"contnr c0 trm rtl  \" ><div class=\"lbl c0 trm \" ><a class=\" txtu hbo\" target=\"_blank\" href=\"https://shebanq.ancient-data.org/hebrew/word?version=c&amp;id=1ALHJMn\" title=\"Show this on SHEBANQ\"><span class=\"txtu hbo\">אֱלֹהִ֑ים </span></a></div></div></div></div><div class=\"contnr c1  rtl  \" ><div class=\"lbl c1  \" ><span class=\"nd\">phrase</span></div><div class=\"children hor wrap rtl\"><div class=\"contnr c1  rtl  \" ><div class=\"lbl c1  \" ><span class=\"nd\">subphrase</span></div><div class=\"children hor wrap rtl\"><div class=\"contnr c0 trm rtl  \" ><div class=\"lbl c0 trm \" ><a class=\" txtu hbo\" target=\"_blank\" href=\"https://shebanq.ancient-data.org/hebrew/word?version=c&amp;id=1AT\" title=\"Show this on SHEBANQ\"><span class=\"txtu hbo\">אֵ֥ת </span></a></div></div><div class=\"contnr c0 trm rtl  \" ><div class=\"lbl c0 trm \" ><a class=\" txtu hbo\" target=\"_blank\" href=\"https://shebanq.ancient-data.org/hebrew/word?version=c&amp;id=1H\" title=\"Show this on SHEBANQ\"><span class=\"txtu hbo\">הַ</span></a></div></div><div class=\"contnr c0 trm rtl  \" ><div class=\"lbl c0 trm \" ><a class=\" txtu hbo\" target=\"_blank\" href=\"https://shebanq.ancient-data.org/hebrew/word?version=c&amp;id=1CMJMn\" title=\"Show this on SHEBANQ\"><span class=\"txtu hbo\">שָּׁמַ֖יִם </span></a></div></div></div></div><div class=\"contnr c0 trm rtl  \" ><div class=\"lbl c0 trm \" ><a class=\" txtu hbo\" target=\"_blank\" href=\"https://shebanq.ancient-data.org/hebrew/word?version=c&amp;id=1W\" title=\"Show this on SHEBANQ\"><span class=\"txtu hbo\">וְ</span></a></div></div><div class=\"contnr c1  rtl  \" ><div class=\"lbl c1  \" ><span class=\"nd\">subphrase</span></div><div class=\"children hor wrap rtl\"><div class=\"contnr c0 trm rtl  \" ><div class=\"lbl c0 trm \" ><a class=\" txtu hbo\" target=\"_blank\" href=\"https://shebanq.ancient-data.org/hebrew/word?version=c&amp;id=1AT\" title=\"Show this on SHEBANQ\"><span class=\"txtu hbo\">אֵ֥ת </span></a></div></div><div class=\"contnr c0 trm rtl  \" ><div class=\"lbl c0 trm \" ><a class=\" txtu hbo\" target=\"_blank\" href=\"https://shebanq.ancient-data.org/hebrew/word?version=c&amp;id=1H\" title=\"Show this on SHEBANQ\"><span class=\"txtu hbo\">הָ</span></a></div></div><div class=\"contnr c0 trm rtl  \" ><div class=\"lbl c0 trm \" ><a class=\" txtu hbo\" target=\"_blank\" href=\"https://shebanq.ancient-data.org/hebrew/word?version=c&amp;id=1ARYn\" title=\"Show this on SHEBANQ\"><span class=\"txtu hbo\">אָֽרֶץ׃ </span></a></div></div></div></div></div></div></div></div></div></div></div></div></div>"
      ],
      "text/plain": [
       "<IPython.core.display.HTML object>"
      ]
     },
     "metadata": {},
     "output_type": "display_data"
    }
   ],
   "source": [
    "A.pretty(v)"
   ]
  },
  {
   "cell_type": "code",
   "execution_count": 19,
   "metadata": {},
   "outputs": [],
   "source": [
    "p = 653380\n",
    "s = L.u(p, otype=\"sentence\")[0]\n",
    "c = L.d(s, otype=\"clause\")[0]"
   ]
  },
  {
   "cell_type": "code",
   "execution_count": 20,
   "metadata": {},
   "outputs": [
    {
     "data": {
      "text/html": [
       "<div class=\"rtl children\"><span class=\"section ltr\"><a target=\"_blank\" href=\"https://shebanq.ancient-data.org/hebrew/text?book=Genesis&amp;chapter=7&amp;verse=8&amp;version=c&amp;mr=m&amp;qw=q&amp;tp=txt_p&amp;tr=hb&amp;wget=v&amp;qget=v&amp;nget=vt\" title=\"Show this on SHEBANQ\" sec=\"Genesis 7:8\">Genesis 7:8</a></span> <span class=\"plain outer rtl  \" ><span class=\"plain  rtl\"></span><span class=\"plain  rtl  \" ><span class=\"txtu hbo\">אֵינֶ֖נָּה </span></span></span></div>"
      ],
      "text/plain": [
       "<IPython.core.display.HTML object>"
      ]
     },
     "metadata": {},
     "output_type": "display_data"
    }
   ],
   "source": [
    "A.plain(p)"
   ]
  },
  {
   "cell_type": "code",
   "execution_count": 21,
   "metadata": {},
   "outputs": [
    {
     "data": {
      "text/html": [
       "<span class=\"section ltr\"><a target=\"_blank\" href=\"https://shebanq.ancient-data.org/hebrew/text?book=Genesis&amp;chapter=7&amp;verse=8&amp;version=c&amp;mr=m&amp;qw=q&amp;tp=txt_p&amp;tr=hb&amp;wget=v&amp;qget=v&amp;nget=vt\" title=\"Show this on SHEBANQ\" sec=\"Genesis 7:8\">Genesis 7:8</a></span><div class=\"rtl children\"><div class=\"contnr c1  rtl  \" ><div class=\"lbl c1  \" ><span class=\"nd\">phrase</span></div><div class=\"children hor wrap rtl\"><div class=\"contnr c0 trm rtl  \" ><div class=\"lbl c0 trm \" ><a class=\" txtu hbo\" target=\"_blank\" href=\"https://shebanq.ancient-data.org/hebrew/word?version=c&amp;id=1AJNn\" title=\"Show this on SHEBANQ\"><span class=\"txtu hbo\">אֵינֶ֖נָּה </span></a></div></div></div></div></div>"
      ],
      "text/plain": [
       "<IPython.core.display.HTML object>"
      ]
     },
     "metadata": {},
     "output_type": "display_data"
    }
   ],
   "source": [
    "A.pretty(p)"
   ]
  },
  {
   "cell_type": "code",
   "execution_count": 22,
   "metadata": {},
   "outputs": [
    {
     "data": {
      "text/html": [
       "<span class=\"section ltr\"><a target=\"_blank\" href=\"https://shebanq.ancient-data.org/hebrew/text?book=Genesis&amp;chapter=7&amp;verse=8&amp;version=c&amp;mr=m&amp;qw=q&amp;tp=txt_p&amp;tr=hb&amp;wget=v&amp;qget=v&amp;nget=vt\" title=\"Show this on SHEBANQ\" sec=\"Genesis 7:8\">Genesis 7:8</a></span><div class=\"rtl children\"><div class=\"contnr c1  rtl  \" ><div class=\"lbl c1  \" ><span class=\"nd\">phrase</span></div><div class=\"children hor wrap rtl\"><div class=\"contnr c0 trm rtl  \" ><div class=\"lbl c0 trm \" ><a class=\" txtu hbo\" target=\"_blank\" href=\"https://shebanq.ancient-data.org/hebrew/word?version=c&amp;id=1AJNn\" title=\"Show this on SHEBANQ\"><span class=\"txtu hbo\">אֵינֶ֖נָּה </span></a></div></div></div></div></div>"
      ],
      "text/plain": [
       "<IPython.core.display.HTML object>"
      ]
     },
     "metadata": {},
     "output_type": "display_data"
    }
   ],
   "source": [
    "A.pretty(p, baseTypes=\"phrase_atom\", showHidden=False)"
   ]
  },
  {
   "cell_type": "code",
   "execution_count": 23,
   "metadata": {},
   "outputs": [
    {
     "data": {
      "text/html": [
       "<span class=\"section ltr\"><a target=\"_blank\" href=\"https://shebanq.ancient-data.org/hebrew/text?book=Genesis&amp;chapter=7&amp;verse=8&amp;version=c&amp;mr=m&amp;qw=q&amp;tp=txt_p&amp;tr=hb&amp;wget=v&amp;qget=v&amp;nget=vt\" title=\"Show this on SHEBANQ\" sec=\"Genesis 7:8\">Genesis 7:8</a></span><div class=\"rtl children\"><div class=\"contnr c1  rtl  \" ><div class=\"lbl c1  \" ><span class=\"nd\">phrase</span> <span class=\"\"><span class=\"plain outer rtl  \" ><span class=\"plain  rtl\"></span><span class=\"plain  rtl  \" ><span class=\"txtu hbo\">אֵינֶ֖נָּה </span></span></span></span></div></div></div>"
      ],
      "text/plain": [
       "<IPython.core.display.HTML object>"
      ]
     },
     "metadata": {},
     "output_type": "display_data"
    }
   ],
   "source": [
    "A.pretty(p, baseTypes=\"phrase\")"
   ]
  },
  {
   "cell_type": "code",
   "execution_count": 24,
   "metadata": {},
   "outputs": [
    {
     "data": {
      "text/html": [
       "<div class=\"rtl children\"><span class=\"section ltr\"><a target=\"_blank\" href=\"https://shebanq.ancient-data.org/hebrew/text?book=Genesis&amp;chapter=7&amp;verse=8&amp;version=c&amp;mr=m&amp;qw=q&amp;tp=txt_p&amp;tr=hb&amp;wget=v&amp;qget=v&amp;nget=vt\" title=\"Show this on SHEBANQ\" sec=\"Genesis 7:8\">Genesis 7:8</a></span> <span class=\"plain outer rtl  \" ><span class=\"plain  rtl\"></span><span class=\"plain  rtl l \" ><span class=\"plain  rtl\"></span><span class=\"plain  rtl l \" ><span class=\"plain  rtl\"></span><span class=\"plain  rtl  \" ><span class=\"plain  rtl\"></span><span class=\"plain  rtl  \" ><span class=\"txtu hbo\">מִן־</span></span><span class=\"plain  rtl  \" ><span class=\"plain  rtl\"></span><span class=\"plain  rtl  \" ><span class=\"txtu hbo\">הַ</span></span><span class=\"plain  rtl  \" ><span class=\"txtu hbo\">בְּהֵמָה֙ </span></span></span><span class=\"plain  rtl  \" ><span class=\"plain  rtl\"></span><span class=\"plain  rtl  \" ><span class=\"txtu hbo\">הַ</span></span><span class=\"plain  rtl  \" ><span class=\"txtu hbo\">טְּהֹורָ֔ה </span></span></span></span><span class=\"plain  rtl  \" ><span class=\"txtu hbo\">וּ</span></span><span class=\"plain  rtl  \" ><span class=\"plain  rtl\"></span><span class=\"plain  rtl  \" ><span class=\"txtu hbo\">מִן־</span></span><span class=\"plain  rtl  \" ><span class=\"txtu hbo\">הַ֨</span></span><span class=\"plain  rtl  \" ><span class=\"txtu hbo\">בְּהֵמָ֔ה </span></span></span></span></span><span class=\"plain  rtl  \" ><span class=\"plain  rtl\"></span><span class=\"plain  rtl  \" ><span class=\"plain  rtl\"></span><span class=\"plain  rtl  \" ><span class=\"txtu hbo\">אֲשֶׁ֥ר </span></span></span><span class=\"plain  rtl  \" ><span class=\"plain  rtl\"></span><span class=\"plain  rtl  \" ><span class=\"txtu hbo\">אֵינֶ֖נָּה </span></span></span><span class=\"plain  rtl  \" ><span class=\"plain  rtl\"></span><span class=\"plain  rtl  \" ><span class=\"txtu hbo\">טְהֹרָ֑ה </span></span></span></span><span class=\"plain  rtl r l \" ><span class=\"plain  rtl\"></span><span class=\"plain  rtl r \" ><span class=\"plain  rtl\"></span><span class=\"plain  rtl  \" ><span class=\"txtu hbo\">וּ</span></span><span class=\"plain  rtl  \" ><span class=\"txtu hbo\">מִ֨ן־</span></span><span class=\"plain  rtl  \" ><span class=\"plain  rtl\"></span><span class=\"plain  rtl  \" ><span class=\"txtu hbo\">הָ</span></span><span class=\"plain  rtl  \" ><span class=\"txtu hbo\">עֹ֔וף </span></span></span><span class=\"plain  rtl  \" ><span class=\"txtu hbo\">וְ</span></span><span class=\"plain  rtl  \" ><span class=\"plain  rtl\"></span><span class=\"plain  rtl  \" ><span class=\"txtu hbo\">כֹ֥ל </span></span></span></span></span><span class=\"plain  rtl  \" ><span class=\"plain  rtl\"></span><span class=\"plain  rtl  \" ><span class=\"plain  rtl\"></span><span class=\"plain  rtl  \" ><span class=\"txtu hbo\">אֲשֶׁר־</span></span></span><span class=\"plain  rtl  \" ><span class=\"plain  rtl\"></span><span class=\"plain  rtl  \" ><span class=\"txtu hbo\">רֹמֵ֖שׂ </span></span></span><span class=\"plain  rtl  \" ><span class=\"plain  rtl\"></span><span class=\"plain  rtl  \" ><span class=\"txtu hbo\">עַל־</span></span><span class=\"plain  rtl  \" ><span class=\"txtu hbo\">הָֽ</span></span><span class=\"plain  rtl  \" ><span class=\"txtu hbo\">אֲדָמָֽה׃ </span></span></span></span><span class=\"plain  rtl r \" ><span class=\"plain  rtl\"></span><span class=\"plain  rtl  \" ><span class=\"plain  rtl\"></span><span class=\"plain  rtl  \" ><span class=\"plain  rtl\"></span><span class=\"plain  rtl  \" ><span class=\"txtu hbo\">שְׁנַ֨יִם </span></span></span><span class=\"plain  rtl  \" ><span class=\"plain  rtl\"></span><span class=\"plain  rtl  \" ><span class=\"txtu hbo\">שְׁנַ֜יִם </span></span></span></span><span class=\"plain  rtl  \" ><span class=\"plain  rtl\"></span><span class=\"plain  rtl  \" ><span class=\"txtu hbo\">בָּ֧אוּ </span></span></span><span class=\"plain  rtl  \" ><span class=\"plain  rtl\"></span><span class=\"plain  rtl  \" ><span class=\"txtu hbo\">אֶל־</span></span><span class=\"plain  rtl  \" ><span class=\"txtu hbo\">נֹ֛חַ </span></span></span><span class=\"plain  rtl  \" ><span class=\"plain  rtl\"></span><span class=\"plain  rtl  \" ><span class=\"txtu hbo\">אֶל־</span></span><span class=\"plain  rtl  \" ><span class=\"txtu hbo\">הַ</span></span><span class=\"plain  rtl  \" ><span class=\"txtu hbo\">תֵּבָ֖ה </span></span></span><span class=\"plain  rtl  \" ><span class=\"plain  rtl\"></span><span class=\"plain  rtl  \" ><span class=\"plain  rtl\"></span><span class=\"plain  rtl  \" ><span class=\"txtu hbo\">זָכָ֣ר </span></span></span><span class=\"plain  rtl  \" ><span class=\"txtu hbo\">וּ</span></span><span class=\"plain  rtl  \" ><span class=\"plain  rtl\"></span><span class=\"plain  rtl  \" ><span class=\"txtu hbo\">נְקֵבָ֑ה </span></span></span></span></span><span class=\"plain  rtl  \" ><span class=\"plain  rtl\"></span><span class=\"plain  rtl  \" ><span class=\"plain  rtl\"></span><span class=\"plain  rtl  \" ><span class=\"txtu hbo\">כַּֽ</span></span><span class=\"plain  rtl  \" ><span class=\"txtu hbo\">אֲשֶׁ֛ר </span></span></span><span class=\"plain  rtl  \" ><span class=\"plain  rtl\"></span><span class=\"plain  rtl  \" ><span class=\"txtu hbo\">צִוָּ֥ה </span></span></span><span class=\"plain  rtl  \" ><span class=\"plain  rtl\"></span><span class=\"plain  rtl  \" ><span class=\"txtu hbo\">אֱלֹהִ֖ים </span></span></span><span class=\"plain  rtl  \" ><span class=\"plain  rtl\"></span><span class=\"plain  rtl  \" ><span class=\"txtu hbo\">אֶת־</span></span><span class=\"plain  rtl  \" ><span class=\"txtu hbo\">נֹֽחַ׃ </span></span></span></span></span></div>"
      ],
      "text/plain": [
       "<IPython.core.display.HTML object>"
      ]
     },
     "metadata": {},
     "output_type": "display_data"
    }
   ],
   "source": [
    "A.plain(s)"
   ]
  },
  {
   "cell_type": "code",
   "execution_count": 25,
   "metadata": {},
   "outputs": [
    {
     "data": {
      "text/html": [
       "<div class=\"rtl children\"><span class=\"section ltr\"><a target=\"_blank\" href=\"https://shebanq.ancient-data.org/hebrew/text?book=Genesis&amp;chapter=7&amp;verse=8&amp;version=c&amp;mr=m&amp;qw=q&amp;tp=txt_p&amp;tr=hb&amp;wget=v&amp;qget=v&amp;nget=vt\" title=\"Show this on SHEBANQ\" sec=\"Genesis 7:8\">Genesis 7:8</a></span> <span class=\"plain outer rtl  \" ><span class=\"plain  rtl\"></span><span class=\"plain  rtl  \" ><span class=\"plain  rtl\"></span><span class=\"plain  rtl  \" ><span class=\"plain  rtl\"></span><span class=\"plain  rtl  \" ><span class=\"plain  rtl\"></span><span class=\"plain  rtl  \" ><span class=\"txtu hbo\">מִן־</span></span><span class=\"plain  rtl  \" ><span class=\"plain  rtl\"></span><span class=\"plain  rtl  \" ><span class=\"txtu hbo\">הַ</span></span><span class=\"plain  rtl  \" ><span class=\"txtu hbo\">בְּהֵמָה֙ </span></span></span><span class=\"plain  rtl  \" ><span class=\"plain  rtl\"></span><span class=\"plain  rtl  \" ><span class=\"txtu hbo\">הַ</span></span><span class=\"plain  rtl  \" ><span class=\"txtu hbo\">טְּהֹורָ֔ה </span></span></span></span><span class=\"plain  rtl  \" ><span class=\"txtu hbo\">וּ</span></span><span class=\"plain  rtl  \" ><span class=\"plain  rtl\"></span><span class=\"plain  rtl  \" ><span class=\"txtu hbo\">מִן־</span></span><span class=\"plain  rtl  \" ><span class=\"txtu hbo\">הַ֨</span></span><span class=\"plain  rtl  \" ><span class=\"txtu hbo\">בְּהֵמָ֔ה </span></span></span></span></span><span class=\"plain  rtl  \" ><span class=\"plain  rtl\"></span><span class=\"plain  rtl  \" ><span class=\"plain  rtl\"></span><span class=\"plain  rtl  \" ><span class=\"txtu hbo\">אֲשֶׁ֥ר </span></span></span><span class=\"plain  rtl  \" ><span class=\"plain  rtl\"></span><span class=\"plain  rtl  \" ><span class=\"txtu hbo\">אֵינֶ֖נָּה </span></span></span><span class=\"plain  rtl  \" ><span class=\"plain  rtl\"></span><span class=\"plain  rtl  \" ><span class=\"txtu hbo\">טְהֹרָ֑ה </span></span></span></span><span class=\"plain  rtl  \" ><span class=\"plain  rtl\"></span><span class=\"plain  rtl  \" ><span class=\"plain  rtl\"></span><span class=\"plain  rtl  \" ><span class=\"txtu hbo\">וּ</span></span><span class=\"plain  rtl  \" ><span class=\"txtu hbo\">מִ֨ן־</span></span><span class=\"plain  rtl  \" ><span class=\"plain  rtl\"></span><span class=\"plain  rtl  \" ><span class=\"txtu hbo\">הָ</span></span><span class=\"plain  rtl  \" ><span class=\"txtu hbo\">עֹ֔וף </span></span></span><span class=\"plain  rtl  \" ><span class=\"txtu hbo\">וְ</span></span><span class=\"plain  rtl  \" ><span class=\"plain  rtl\"></span><span class=\"plain  rtl  \" ><span class=\"txtu hbo\">כֹ֥ל </span></span></span></span></span><span class=\"plain  rtl  \" ><span class=\"plain  rtl\"></span><span class=\"plain  rtl  \" ><span class=\"plain  rtl\"></span><span class=\"plain  rtl  \" ><span class=\"txtu hbo\">אֲשֶׁר־</span></span></span><span class=\"plain  rtl  \" ><span class=\"plain  rtl\"></span><span class=\"plain  rtl  \" ><span class=\"txtu hbo\">רֹמֵ֖שׂ </span></span></span><span class=\"plain  rtl  \" ><span class=\"plain  rtl\"></span><span class=\"plain  rtl  \" ><span class=\"txtu hbo\">עַל־</span></span><span class=\"plain  rtl  \" ><span class=\"txtu hbo\">הָֽ</span></span><span class=\"plain  rtl  \" ><span class=\"txtu hbo\">אֲדָמָֽה׃ </span></span></span></span><span class=\"plain  rtl  \" ><span class=\"plain  rtl\"></span><span class=\"plain  rtl  \" ><span class=\"plain  rtl\"></span><span class=\"plain  rtl  \" ><span class=\"plain  rtl\"></span><span class=\"plain  rtl  \" ><span class=\"txtu hbo\">שְׁנַ֨יִם </span></span></span><span class=\"plain  rtl  \" ><span class=\"plain  rtl\"></span><span class=\"plain  rtl  \" ><span class=\"txtu hbo\">שְׁנַ֜יִם </span></span></span></span><span class=\"plain  rtl  \" ><span class=\"plain  rtl\"></span><span class=\"plain  rtl  \" ><span class=\"txtu hbo\">בָּ֧אוּ </span></span></span><span class=\"plain  rtl  \" ><span class=\"plain  rtl\"></span><span class=\"plain  rtl  \" ><span class=\"txtu hbo\">אֶל־</span></span><span class=\"plain  rtl  \" ><span class=\"txtu hbo\">נֹ֛חַ </span></span></span><span class=\"plain  rtl  \" ><span class=\"plain  rtl\"></span><span class=\"plain  rtl  \" ><span class=\"txtu hbo\">אֶל־</span></span><span class=\"plain  rtl  \" ><span class=\"txtu hbo\">הַ</span></span><span class=\"plain  rtl  \" ><span class=\"txtu hbo\">תֵּבָ֖ה </span></span></span><span class=\"plain  rtl  \" ><span class=\"plain  rtl\"></span><span class=\"plain  rtl  \" ><span class=\"plain  rtl\"></span><span class=\"plain  rtl  \" ><span class=\"txtu hbo\">זָכָ֣ר </span></span></span><span class=\"plain  rtl  \" ><span class=\"txtu hbo\">וּ</span></span><span class=\"plain  rtl  \" ><span class=\"plain  rtl\"></span><span class=\"plain  rtl  \" ><span class=\"txtu hbo\">נְקֵבָ֑ה </span></span></span></span></span><span class=\"plain  rtl  \" ><span class=\"plain  rtl\"></span><span class=\"plain  rtl  \" ><span class=\"plain  rtl\"></span><span class=\"plain  rtl  \" ><span class=\"txtu hbo\">כַּֽ</span></span><span class=\"plain  rtl  \" ><span class=\"txtu hbo\">אֲשֶׁ֛ר </span></span></span><span class=\"plain  rtl  \" ><span class=\"plain  rtl\"></span><span class=\"plain  rtl  \" ><span class=\"txtu hbo\">צִוָּ֥ה </span></span></span><span class=\"plain  rtl  \" ><span class=\"plain  rtl\"></span><span class=\"plain  rtl  \" ><span class=\"txtu hbo\">אֱלֹהִ֖ים </span></span></span><span class=\"plain  rtl  \" ><span class=\"plain  rtl\"></span><span class=\"plain  rtl  \" ><span class=\"txtu hbo\">אֶת־</span></span><span class=\"plain  rtl  \" ><span class=\"txtu hbo\">נֹֽחַ׃ </span></span></span></span></span></div>"
      ],
      "text/plain": [
       "<IPython.core.display.HTML object>"
      ]
     },
     "metadata": {},
     "output_type": "display_data"
    }
   ],
   "source": [
    "A.plain(s, plainGaps=False)"
   ]
  },
  {
   "cell_type": "code",
   "execution_count": 26,
   "metadata": {},
   "outputs": [
    {
     "data": {
      "text/html": [
       "<div class=\"rtl children\"><span class=\"section ltr\"><a target=\"_blank\" href=\"https://shebanq.ancient-data.org/hebrew/text?book=Genesis&amp;chapter=7&amp;verse=8&amp;version=c&amp;mr=m&amp;qw=q&amp;tp=txt_p&amp;tr=hb&amp;wget=v&amp;qget=v&amp;nget=vt\" title=\"Show this on SHEBANQ\" sec=\"Genesis 7:8\">Genesis 7:8</a></span> <span class=\"plain outer rtl l \" ><span class=\"nd\">428152</span><span class=\"plain  rtl\"></span><span class=\"plain  rtl l \" ><span class=\"plain  rtl\"></span><span class=\"plain  rtl  \" ><span class=\"plain  rtl\"></span><span class=\"plain  rtl  \" ><span class=\"txtu hbo\">מִן־</span></span><span class=\"plain  rtl  \" ><span class=\"plain  rtl\"></span><span class=\"plain  rtl  \" ><span class=\"txtu hbo\">הַ</span></span><span class=\"plain  rtl  \" ><span class=\"txtu hbo\">בְּהֵמָה֙ </span></span></span><span class=\"plain  rtl  \" ><span class=\"plain  rtl\"></span><span class=\"plain  rtl  \" ><span class=\"txtu hbo\">הַ</span></span><span class=\"plain  rtl  \" ><span class=\"txtu hbo\">טְּהֹורָ֔ה </span></span></span></span><span class=\"plain  rtl  \" ><span class=\"txtu hbo\">וּ</span></span><span class=\"plain  rtl  \" ><span class=\"plain  rtl\"></span><span class=\"plain  rtl  \" ><span class=\"txtu hbo\">מִן־</span></span><span class=\"plain  rtl  \" ><span class=\"txtu hbo\">הַ֨</span></span><span class=\"plain  rtl  \" ><span class=\"txtu hbo\">בְּהֵמָ֔ה </span></span></span></span></span><span class=\"plain outer rtl r l \" ><span class=\"nd\">428152</span><span class=\"plain  rtl\"></span><span class=\"plain  rtl r \" ><span class=\"plain  rtl\"></span><span class=\"plain  rtl  \" ><span class=\"txtu hbo\">וּ</span></span><span class=\"plain  rtl  \" ><span class=\"txtu hbo\">מִ֨ן־</span></span><span class=\"plain  rtl  \" ><span class=\"plain  rtl\"></span><span class=\"plain  rtl  \" ><span class=\"txtu hbo\">הָ</span></span><span class=\"plain  rtl  \" ><span class=\"txtu hbo\">עֹ֔וף </span></span></span><span class=\"plain  rtl  \" ><span class=\"txtu hbo\">וְ</span></span><span class=\"plain  rtl  \" ><span class=\"plain  rtl\"></span><span class=\"plain  rtl  \" ><span class=\"txtu hbo\">כֹ֥ל </span></span></span></span></span><span class=\"plain outer rtl r \" ><span class=\"nd\">428152</span><span class=\"plain  rtl\"></span><span class=\"plain  rtl  \" ><span class=\"plain  rtl\"></span><span class=\"plain  rtl  \" ><span class=\"plain  rtl\"></span><span class=\"plain  rtl  \" ><span class=\"txtu hbo\">שְׁנַ֨יִם </span></span></span><span class=\"plain  rtl  \" ><span class=\"plain  rtl\"></span><span class=\"plain  rtl  \" ><span class=\"txtu hbo\">שְׁנַ֜יִם </span></span></span></span><span class=\"plain  rtl  \" ><span class=\"plain  rtl\"></span><span class=\"plain  rtl  \" ><span class=\"txtu hbo\">בָּ֧אוּ </span></span></span><span class=\"plain  rtl  \" ><span class=\"plain  rtl\"></span><span class=\"plain  rtl  \" ><span class=\"txtu hbo\">אֶל־</span></span><span class=\"plain  rtl  \" ><span class=\"txtu hbo\">נֹ֛חַ </span></span></span><span class=\"plain  rtl  \" ><span class=\"plain  rtl\"></span><span class=\"plain  rtl  \" ><span class=\"txtu hbo\">אֶל־</span></span><span class=\"plain  rtl  \" ><span class=\"txtu hbo\">הַ</span></span><span class=\"plain  rtl  \" ><span class=\"txtu hbo\">תֵּבָ֖ה </span></span></span><span class=\"plain  rtl  \" ><span class=\"plain  rtl\"></span><span class=\"plain  rtl  \" ><span class=\"plain  rtl\"></span><span class=\"plain  rtl  \" ><span class=\"txtu hbo\">זָכָ֣ר </span></span></span><span class=\"plain  rtl  \" ><span class=\"txtu hbo\">וּ</span></span><span class=\"plain  rtl  \" ><span class=\"plain  rtl\"></span><span class=\"plain  rtl  \" ><span class=\"txtu hbo\">נְקֵבָ֑ה </span></span></span></span></span></div>"
      ],
      "text/plain": [
       "<IPython.core.display.HTML object>"
      ]
     },
     "metadata": {},
     "output_type": "display_data"
    }
   ],
   "source": [
    "A.plain(c, withNodes=True)"
   ]
  },
  {
   "cell_type": "code",
   "execution_count": 27,
   "metadata": {},
   "outputs": [
    {
     "data": {
      "text/html": [
       "<span class=\"section ltr\"><a target=\"_blank\" href=\"https://shebanq.ancient-data.org/hebrew/text?book=Genesis&amp;chapter=7&amp;verse=8&amp;version=c&amp;mr=m&amp;qw=q&amp;tp=txt_p&amp;tr=hb&amp;wget=v&amp;qget=v&amp;nget=vt\" title=\"Show this on SHEBANQ\" sec=\"Genesis 7:8\">Genesis 7:8</a></span><div class=\"rtl children\"><div class=\"contnr c2  rtl l \" ><div class=\"lbl c2  \" ><span class=\"nd\">clause</span></div><div class=\"children hor wrap rtl\"><div class=\"contnr c1  rtl l \" ><div class=\"lbl c1  \" ><span class=\"nd\">phrase</span></div><div class=\"children hor wrap rtl\"><div class=\"contnr c1  rtl  \" ><div class=\"lbl c1  \" ><span class=\"nd\">subphrase</span></div><div class=\"children hor wrap rtl\"><div class=\"contnr c0 trm rtl  \" ><div class=\"lbl c0 trm \" ><a class=\" txtu hbo\" target=\"_blank\" href=\"https://shebanq.ancient-data.org/hebrew/word?version=c&amp;id=1MN\" title=\"Show this on SHEBANQ\"><span class=\"txtu hbo\">מִן־</span></a></div></div><div class=\"contnr c1  rtl  \" ><div class=\"lbl c1  \" ><span class=\"nd\">subphrase</span></div><div class=\"children hor wrap rtl\"><div class=\"contnr c0 trm rtl  \" ><div class=\"lbl c0 trm \" ><a class=\" txtu hbo\" target=\"_blank\" href=\"https://shebanq.ancient-data.org/hebrew/word?version=c&amp;id=1H\" title=\"Show this on SHEBANQ\"><span class=\"txtu hbo\">הַ</span></a></div></div><div class=\"contnr c0 trm rtl  \" ><div class=\"lbl c0 trm \" ><a class=\" txtu hbo\" target=\"_blank\" href=\"https://shebanq.ancient-data.org/hebrew/word?version=c&amp;id=1BHMHn\" title=\"Show this on SHEBANQ\"><span class=\"txtu hbo\">בְּהֵמָה֙ </span></a></div></div></div></div><div class=\"contnr c1  rtl  \" ><div class=\"lbl c1  \" ><span class=\"nd\">subphrase</span></div><div class=\"children hor wrap rtl\"><div class=\"contnr c0 trm rtl  \" ><div class=\"lbl c0 trm \" ><a class=\" txtu hbo\" target=\"_blank\" href=\"https://shebanq.ancient-data.org/hebrew/word?version=c&amp;id=1H\" title=\"Show this on SHEBANQ\"><span class=\"txtu hbo\">הַ</span></a></div></div><div class=\"contnr c0 trm rtl  \" ><div class=\"lbl c0 trm \" ><a class=\" txtu hbo\" target=\"_blank\" href=\"https://shebanq.ancient-data.org/hebrew/word?version=c&amp;id=1VHRn\" title=\"Show this on SHEBANQ\"><span class=\"txtu hbo\">טְּהֹורָ֔ה </span></a></div></div></div></div></div></div><div class=\"contnr c0 trm rtl  \" ><div class=\"lbl c0 trm \" ><a class=\" txtu hbo\" target=\"_blank\" href=\"https://shebanq.ancient-data.org/hebrew/word?version=c&amp;id=1W\" title=\"Show this on SHEBANQ\"><span class=\"txtu hbo\">וּ</span></a></div></div><div class=\"contnr c1  rtl  \" ><div class=\"lbl c1  \" ><span class=\"nd\">subphrase</span></div><div class=\"children hor wrap rtl\"><div class=\"contnr c0 trm rtl  \" ><div class=\"lbl c0 trm \" ><a class=\" txtu hbo\" target=\"_blank\" href=\"https://shebanq.ancient-data.org/hebrew/word?version=c&amp;id=1MN\" title=\"Show this on SHEBANQ\"><span class=\"txtu hbo\">מִן־</span></a></div></div><div class=\"contnr c0 trm rtl  \" ><div class=\"lbl c0 trm \" ><a class=\" txtu hbo\" target=\"_blank\" href=\"https://shebanq.ancient-data.org/hebrew/word?version=c&amp;id=1H\" title=\"Show this on SHEBANQ\"><span class=\"txtu hbo\">הַ֨</span></a></div></div><div class=\"contnr c0 trm rtl  \" ><div class=\"lbl c0 trm \" ><a class=\" txtu hbo\" target=\"_blank\" href=\"https://shebanq.ancient-data.org/hebrew/word?version=c&amp;id=1BHMHn\" title=\"Show this on SHEBANQ\"><span class=\"txtu hbo\">בְּהֵמָ֔ה </span></a></div></div></div></div></div></div></div></div><div class=\"contnr c2  rtl r l \" ><div class=\"lbl c2  \" ><span class=\"nd\">clause</span></div><div class=\"children hor wrap rtl\"><div class=\"contnr c1  rtl r \" ><div class=\"lbl c1  \" ><span class=\"nd\">phrase</span></div><div class=\"children hor wrap rtl\"><div class=\"contnr c0 trm rtl  \" ><div class=\"lbl c0 trm \" ><a class=\" txtu hbo\" target=\"_blank\" href=\"https://shebanq.ancient-data.org/hebrew/word?version=c&amp;id=1W\" title=\"Show this on SHEBANQ\"><span class=\"txtu hbo\">וּ</span></a></div></div><div class=\"contnr c0 trm rtl  \" ><div class=\"lbl c0 trm \" ><a class=\" txtu hbo\" target=\"_blank\" href=\"https://shebanq.ancient-data.org/hebrew/word?version=c&amp;id=1MN\" title=\"Show this on SHEBANQ\"><span class=\"txtu hbo\">מִ֨ן־</span></a></div></div><div class=\"contnr c1  rtl  \" ><div class=\"lbl c1  \" ><span class=\"nd\">subphrase</span></div><div class=\"children hor wrap rtl\"><div class=\"contnr c0 trm rtl  \" ><div class=\"lbl c0 trm \" ><a class=\" txtu hbo\" target=\"_blank\" href=\"https://shebanq.ancient-data.org/hebrew/word?version=c&amp;id=1H\" title=\"Show this on SHEBANQ\"><span class=\"txtu hbo\">הָ</span></a></div></div><div class=\"contnr c0 trm rtl  \" ><div class=\"lbl c0 trm \" ><a class=\" txtu hbo\" target=\"_blank\" href=\"https://shebanq.ancient-data.org/hebrew/word?version=c&amp;id=1OWPn\" title=\"Show this on SHEBANQ\"><span class=\"txtu hbo\">עֹ֔וף </span></a></div></div></div></div><div class=\"contnr c0 trm rtl  \" ><div class=\"lbl c0 trm \" ><a class=\" txtu hbo\" target=\"_blank\" href=\"https://shebanq.ancient-data.org/hebrew/word?version=c&amp;id=1W\" title=\"Show this on SHEBANQ\"><span class=\"txtu hbo\">וְ</span></a></div></div><div class=\"contnr c1  rtl  \" ><div class=\"lbl c1  \" ><span class=\"nd\">subphrase</span></div><div class=\"children hor wrap rtl\"><div class=\"contnr c0 trm rtl  \" ><div class=\"lbl c0 trm \" ><a class=\" txtu hbo\" target=\"_blank\" href=\"https://shebanq.ancient-data.org/hebrew/word?version=c&amp;id=1KLn\" title=\"Show this on SHEBANQ\"><span class=\"txtu hbo\">כֹ֥ל </span></a></div></div></div></div></div></div></div></div><div class=\"contnr c2  rtl r \" ><div class=\"lbl c2  \" ><span class=\"nd\">clause</span></div><div class=\"children hor wrap rtl\"><div class=\"contnr c1  rtl  \" ><div class=\"lbl c1  \" ><span class=\"nd\">phrase</span></div><div class=\"children hor wrap rtl\"><div class=\"contnr c1  rtl  \" ><div class=\"lbl c1  \" ><span class=\"nd\">subphrase</span></div><div class=\"children hor wrap rtl\"><div class=\"contnr c0 trm rtl  \" ><div class=\"lbl c0 trm \" ><a class=\" txtu hbo\" target=\"_blank\" href=\"https://shebanq.ancient-data.org/hebrew/word?version=c&amp;id=1CNJMn\" title=\"Show this on SHEBANQ\"><span class=\"txtu hbo\">שְׁנַ֨יִם </span></a></div></div></div></div><div class=\"contnr c1  rtl  \" ><div class=\"lbl c1  \" ><span class=\"nd\">subphrase</span></div><div class=\"children hor wrap rtl\"><div class=\"contnr c0 trm rtl  \" ><div class=\"lbl c0 trm \" ><a class=\" txtu hbo\" target=\"_blank\" href=\"https://shebanq.ancient-data.org/hebrew/word?version=c&amp;id=1CNJMn\" title=\"Show this on SHEBANQ\"><span class=\"txtu hbo\">שְׁנַ֜יִם </span></a></div></div></div></div></div></div><div class=\"contnr c1  rtl  \" ><div class=\"lbl c1  \" ><span class=\"nd\">phrase</span></div><div class=\"children hor wrap rtl\"><div class=\"contnr c0 trm rtl  \" ><div class=\"lbl c0 trm \" ><a class=\" txtu hbo\" target=\"_blank\" href=\"https://shebanq.ancient-data.org/hebrew/word?version=c&amp;id=1BWAv\" title=\"Show this on SHEBANQ\"><span class=\"txtu hbo\">בָּ֧אוּ </span></a></div></div></div></div><div class=\"contnr c1  rtl  \" ><div class=\"lbl c1  \" ><span class=\"nd\">phrase</span></div><div class=\"children hor wrap rtl\"><div class=\"contnr c0 trm rtl  \" ><div class=\"lbl c0 trm \" ><a class=\" txtu hbo\" target=\"_blank\" href=\"https://shebanq.ancient-data.org/hebrew/word?version=c&amp;id=1AL\" title=\"Show this on SHEBANQ\"><span class=\"txtu hbo\">אֶל־</span></a></div></div><div class=\"contnr c0 trm rtl  \" ><div class=\"lbl c0 trm \" ><a class=\" txtu hbo\" target=\"_blank\" href=\"https://shebanq.ancient-data.org/hebrew/word?version=c&amp;id=1NXn\" title=\"Show this on SHEBANQ\"><span class=\"txtu hbo\">נֹ֛חַ </span></a></div></div></div></div><div class=\"contnr c1  rtl  \" ><div class=\"lbl c1  \" ><span class=\"nd\">phrase</span></div><div class=\"children hor wrap rtl\"><div class=\"contnr c0 trm rtl  \" ><div class=\"lbl c0 trm \" ><a class=\" txtu hbo\" target=\"_blank\" href=\"https://shebanq.ancient-data.org/hebrew/word?version=c&amp;id=1AL\" title=\"Show this on SHEBANQ\"><span class=\"txtu hbo\">אֶל־</span></a></div></div><div class=\"contnr c0 trm rtl  \" ><div class=\"lbl c0 trm \" ><a class=\" txtu hbo\" target=\"_blank\" href=\"https://shebanq.ancient-data.org/hebrew/word?version=c&amp;id=1H\" title=\"Show this on SHEBANQ\"><span class=\"txtu hbo\">הַ</span></a></div></div><div class=\"contnr c0 trm rtl  \" ><div class=\"lbl c0 trm \" ><a class=\" txtu hbo\" target=\"_blank\" href=\"https://shebanq.ancient-data.org/hebrew/word?version=c&amp;id=1TBHn\" title=\"Show this on SHEBANQ\"><span class=\"txtu hbo\">תֵּבָ֖ה </span></a></div></div></div></div><div class=\"contnr c1  rtl  \" ><div class=\"lbl c1  \" ><span class=\"nd\">phrase</span></div><div class=\"children hor wrap rtl\"><div class=\"contnr c1  rtl  \" ><div class=\"lbl c1  \" ><span class=\"nd\">subphrase</span></div><div class=\"children hor wrap rtl\"><div class=\"contnr c0 trm rtl  \" ><div class=\"lbl c0 trm \" ><a class=\" txtu hbo\" target=\"_blank\" href=\"https://shebanq.ancient-data.org/hebrew/word?version=c&amp;id=1ZKRin\" title=\"Show this on SHEBANQ\"><span class=\"txtu hbo\">זָכָ֣ר </span></a></div></div></div></div><div class=\"contnr c0 trm rtl  \" ><div class=\"lbl c0 trm \" ><a class=\" txtu hbo\" target=\"_blank\" href=\"https://shebanq.ancient-data.org/hebrew/word?version=c&amp;id=1W\" title=\"Show this on SHEBANQ\"><span class=\"txtu hbo\">וּ</span></a></div></div><div class=\"contnr c1  rtl  \" ><div class=\"lbl c1  \" ><span class=\"nd\">subphrase</span></div><div class=\"children hor wrap rtl\"><div class=\"contnr c0 trm rtl  \" ><div class=\"lbl c0 trm \" ><a class=\" txtu hbo\" target=\"_blank\" href=\"https://shebanq.ancient-data.org/hebrew/word?version=c&amp;id=1NQBHn\" title=\"Show this on SHEBANQ\"><span class=\"txtu hbo\">נְקֵבָ֑ה </span></a></div></div></div></div></div></div></div></div></div>"
      ],
      "text/plain": [
       "<IPython.core.display.HTML object>"
      ]
     },
     "metadata": {},
     "output_type": "display_data"
    }
   ],
   "source": [
    "A.pretty(c)"
   ]
  },
  {
   "cell_type": "code",
   "execution_count": 28,
   "metadata": {},
   "outputs": [
    {
     "data": {
      "text/html": [
       "<span class=\"section ltr\"><a target=\"_blank\" href=\"https://shebanq.ancient-data.org/hebrew/text?book=Genesis&amp;chapter=7&amp;verse=8&amp;version=c&amp;mr=m&amp;qw=q&amp;tp=txt_p&amp;tr=hb&amp;wget=v&amp;qget=v&amp;nget=vt\" title=\"Show this on SHEBANQ\" sec=\"Genesis 7:8\">Genesis 7:8</a></span><div class=\"rtl children\"><div class=\"contnr c2  rtl  \" ><div class=\"lbl c2  \" ><span class=\"nd\">sentence</span></div><div class=\"children hor wrap rtl\"><div class=\"contnr c2  rtl l \" ><div class=\"lbl c2  \" ><span class=\"nd\">clause</span></div><div class=\"children hor wrap rtl\"><div class=\"contnr c1  rtl l \" ><div class=\"lbl c1  \" ><span class=\"nd\">phrase</span></div><div class=\"children hor wrap rtl\"><div class=\"contnr c1  rtl  \" ><div class=\"lbl c1  \" ><span class=\"nd\">subphrase</span> <span class=\"\"><span class=\"plain  rtl  \" ><span class=\"plain  rtl\"></span><span class=\"plain  rtl  \" ><span class=\"txtu hbo\">מִן־</span></span><span class=\"plain  rtl  \" ><span class=\"plain  rtl\"></span><span class=\"plain  rtl  \" ><span class=\"txtu hbo\">הַ</span></span><span class=\"plain  rtl  \" ><span class=\"txtu hbo\">בְּהֵמָה֙ </span></span></span><span class=\"plain  rtl  \" ><span class=\"plain  rtl\"></span><span class=\"plain  rtl  \" ><span class=\"txtu hbo\">הַ</span></span><span class=\"plain  rtl  \" ><span class=\"txtu hbo\">טְּהֹורָ֔ה </span></span></span></span></span></div></div><div class=\"contnr c0 trm rtl  \" ><div class=\"lbl c0 trm \" ><a class=\" txtu hbo\" target=\"_blank\" href=\"https://shebanq.ancient-data.org/hebrew/word?version=c&amp;id=1W\" title=\"Show this on SHEBANQ\"><span class=\"txtu hbo\">וּ</span></a></div></div><div class=\"contnr c1  rtl  \" ><div class=\"lbl c1  \" ><span class=\"nd\">subphrase</span> <span class=\"\"><span class=\"plain  rtl  \" ><span class=\"plain  rtl\"></span><span class=\"plain  rtl  \" ><span class=\"txtu hbo\">מִן־</span></span><span class=\"plain  rtl  \" ><span class=\"txtu hbo\">הַ֨</span></span><span class=\"plain  rtl  \" ><span class=\"txtu hbo\">בְּהֵמָ֔ה </span></span></span></span></div></div></div></div></div></div><div class=\"contnr c2  rtl  \" ><div class=\"lbl c2  \" ><span class=\"nd\">clause</span></div><div class=\"children hor wrap rtl\"><div class=\"contnr c1  rtl  \" ><div class=\"lbl c1  \" ><span class=\"nd\">phrase</span></div><div class=\"children hor wrap rtl\"><div class=\"contnr c0 trm rtl  \" ><div class=\"lbl c0 trm \" ><a class=\" txtu hbo\" target=\"_blank\" href=\"https://shebanq.ancient-data.org/hebrew/word?version=c&amp;id=1ACR\" title=\"Show this on SHEBANQ\"><span class=\"txtu hbo\">אֲשֶׁ֥ר </span></a></div></div></div></div><div class=\"contnr c1  rtl  \" ><div class=\"lbl c1  \" ><span class=\"nd\">phrase</span></div><div class=\"children hor wrap rtl\"><div class=\"contnr c0 trm rtl  \" ><div class=\"lbl c0 trm \" ><a class=\" txtu hbo\" target=\"_blank\" href=\"https://shebanq.ancient-data.org/hebrew/word?version=c&amp;id=1AJNn\" title=\"Show this on SHEBANQ\"><span class=\"txtu hbo\">אֵינֶ֖נָּה </span></a></div></div></div></div><div class=\"contnr c1  rtl  \" ><div class=\"lbl c1  \" ><span class=\"nd\">phrase</span></div><div class=\"children hor wrap rtl\"><div class=\"contnr c0 trm rtl  \" ><div class=\"lbl c0 trm \" ><a class=\" txtu hbo\" target=\"_blank\" href=\"https://shebanq.ancient-data.org/hebrew/word?version=c&amp;id=1VHRn\" title=\"Show this on SHEBANQ\"><span class=\"txtu hbo\">טְהֹרָ֑ה </span></a></div></div></div></div></div></div><div class=\"contnr c2  rtl r l \" ><div class=\"lbl c2  \" ><span class=\"nd\">clause</span></div><div class=\"children hor wrap rtl\"><div class=\"contnr c1  rtl r \" ><div class=\"lbl c1  \" ><span class=\"nd\">phrase</span></div><div class=\"children hor wrap rtl\"><div class=\"contnr c0 trm rtl  \" ><div class=\"lbl c0 trm \" ><a class=\" txtu hbo\" target=\"_blank\" href=\"https://shebanq.ancient-data.org/hebrew/word?version=c&amp;id=1W\" title=\"Show this on SHEBANQ\"><span class=\"txtu hbo\">וּ</span></a></div></div><div class=\"contnr c0 trm rtl  \" ><div class=\"lbl c0 trm \" ><a class=\" txtu hbo\" target=\"_blank\" href=\"https://shebanq.ancient-data.org/hebrew/word?version=c&amp;id=1MN\" title=\"Show this on SHEBANQ\"><span class=\"txtu hbo\">מִ֨ן־</span></a></div></div><div class=\"contnr c1  rtl  \" ><div class=\"lbl c1  \" ><span class=\"nd\">subphrase</span> <span class=\"\"><span class=\"plain  rtl  \" ><span class=\"plain  rtl\"></span><span class=\"plain  rtl  \" ><span class=\"txtu hbo\">הָ</span></span><span class=\"plain  rtl  \" ><span class=\"txtu hbo\">עֹ֔וף </span></span></span></span></div></div><div class=\"contnr c0 trm rtl  \" ><div class=\"lbl c0 trm \" ><a class=\" txtu hbo\" target=\"_blank\" href=\"https://shebanq.ancient-data.org/hebrew/word?version=c&amp;id=1W\" title=\"Show this on SHEBANQ\"><span class=\"txtu hbo\">וְ</span></a></div></div><div class=\"contnr c1  rtl  \" ><div class=\"lbl c1  \" ><span class=\"nd\">subphrase</span> <span class=\"\"><span class=\"plain  rtl  \" ><span class=\"plain  rtl\"></span><span class=\"plain  rtl  \" ><span class=\"txtu hbo\">כֹ֥ל </span></span></span></span></div></div></div></div></div></div><div class=\"contnr c2  rtl  \" ><div class=\"lbl c2  \" ><span class=\"nd\">clause</span></div><div class=\"children hor wrap rtl\"><div class=\"contnr c1  rtl  \" ><div class=\"lbl c1  \" ><span class=\"nd\">phrase</span></div><div class=\"children hor wrap rtl\"><div class=\"contnr c0 trm rtl  \" ><div class=\"lbl c0 trm \" ><a class=\" txtu hbo\" target=\"_blank\" href=\"https://shebanq.ancient-data.org/hebrew/word?version=c&amp;id=1ACR\" title=\"Show this on SHEBANQ\"><span class=\"txtu hbo\">אֲשֶׁר־</span></a></div></div></div></div><div class=\"contnr c1  rtl  \" ><div class=\"lbl c1  \" ><span class=\"nd\">phrase</span></div><div class=\"children hor wrap rtl\"><div class=\"contnr c0 trm rtl  \" ><div class=\"lbl c0 trm \" ><a class=\" txtu hbo\" target=\"_blank\" href=\"https://shebanq.ancient-data.org/hebrew/word?version=c&amp;id=1RMFv\" title=\"Show this on SHEBANQ\"><span class=\"txtu hbo\">רֹמֵ֖שׂ </span></a></div></div></div></div><div class=\"contnr c1  rtl  \" ><div class=\"lbl c1  \" ><span class=\"nd\">phrase</span></div><div class=\"children hor wrap rtl\"><div class=\"contnr c0 trm rtl  \" ><div class=\"lbl c0 trm \" ><a class=\" txtu hbo\" target=\"_blank\" href=\"https://shebanq.ancient-data.org/hebrew/word?version=c&amp;id=1OL\" title=\"Show this on SHEBANQ\"><span class=\"txtu hbo\">עַל־</span></a></div></div><div class=\"contnr c0 trm rtl  \" ><div class=\"lbl c0 trm \" ><a class=\" txtu hbo\" target=\"_blank\" href=\"https://shebanq.ancient-data.org/hebrew/word?version=c&amp;id=1H\" title=\"Show this on SHEBANQ\"><span class=\"txtu hbo\">הָֽ</span></a></div></div><div class=\"contnr c0 trm rtl  \" ><div class=\"lbl c0 trm \" ><a class=\" txtu hbo\" target=\"_blank\" href=\"https://shebanq.ancient-data.org/hebrew/word?version=c&amp;id=1ADMHn\" title=\"Show this on SHEBANQ\"><span class=\"txtu hbo\">אֲדָמָֽה׃ </span></a></div></div></div></div></div></div><div class=\"contnr c2  rtl r \" ><div class=\"lbl c2  \" ><span class=\"nd\">clause</span></div><div class=\"children hor wrap rtl\"><div class=\"contnr c1  rtl  \" ><div class=\"lbl c1  \" ><span class=\"nd\">phrase</span></div><div class=\"children hor wrap rtl\"><div class=\"contnr c1  rtl  \" ><div class=\"lbl c1  \" ><span class=\"nd\">subphrase</span> <span class=\"\"><span class=\"plain  rtl  \" ><span class=\"plain  rtl\"></span><span class=\"plain  rtl  \" ><span class=\"txtu hbo\">שְׁנַ֨יִם </span></span></span></span></div></div><div class=\"contnr c1  rtl  \" ><div class=\"lbl c1  \" ><span class=\"nd\">subphrase</span> <span class=\"\"><span class=\"plain  rtl  \" ><span class=\"plain  rtl\"></span><span class=\"plain  rtl  \" ><span class=\"txtu hbo\">שְׁנַ֜יִם </span></span></span></span></div></div></div></div><div class=\"contnr c1  rtl  \" ><div class=\"lbl c1  \" ><span class=\"nd\">phrase</span></div><div class=\"children hor wrap rtl\"><div class=\"contnr c0 trm rtl  \" ><div class=\"lbl c0 trm \" ><a class=\" txtu hbo\" target=\"_blank\" href=\"https://shebanq.ancient-data.org/hebrew/word?version=c&amp;id=1BWAv\" title=\"Show this on SHEBANQ\"><span class=\"txtu hbo\">בָּ֧אוּ </span></a></div></div></div></div><div class=\"contnr c1  rtl  \" ><div class=\"lbl c1  \" ><span class=\"nd\">phrase</span></div><div class=\"children hor wrap rtl\"><div class=\"contnr c0 trm rtl  \" ><div class=\"lbl c0 trm \" ><a class=\" txtu hbo\" target=\"_blank\" href=\"https://shebanq.ancient-data.org/hebrew/word?version=c&amp;id=1AL\" title=\"Show this on SHEBANQ\"><span class=\"txtu hbo\">אֶל־</span></a></div></div><div class=\"contnr c0 trm rtl  \" ><div class=\"lbl c0 trm \" ><a class=\" txtu hbo\" target=\"_blank\" href=\"https://shebanq.ancient-data.org/hebrew/word?version=c&amp;id=1NXn\" title=\"Show this on SHEBANQ\"><span class=\"txtu hbo\">נֹ֛חַ </span></a></div></div></div></div><div class=\"contnr c1  rtl  \" ><div class=\"lbl c1  \" ><span class=\"nd\">phrase</span></div><div class=\"children hor wrap rtl\"><div class=\"contnr c0 trm rtl  \" ><div class=\"lbl c0 trm \" ><a class=\" txtu hbo\" target=\"_blank\" href=\"https://shebanq.ancient-data.org/hebrew/word?version=c&amp;id=1AL\" title=\"Show this on SHEBANQ\"><span class=\"txtu hbo\">אֶל־</span></a></div></div><div class=\"contnr c0 trm rtl  \" ><div class=\"lbl c0 trm \" ><a class=\" txtu hbo\" target=\"_blank\" href=\"https://shebanq.ancient-data.org/hebrew/word?version=c&amp;id=1H\" title=\"Show this on SHEBANQ\"><span class=\"txtu hbo\">הַ</span></a></div></div><div class=\"contnr c0 trm rtl  \" ><div class=\"lbl c0 trm \" ><a class=\" txtu hbo\" target=\"_blank\" href=\"https://shebanq.ancient-data.org/hebrew/word?version=c&amp;id=1TBHn\" title=\"Show this on SHEBANQ\"><span class=\"txtu hbo\">תֵּבָ֖ה </span></a></div></div></div></div><div class=\"contnr c1  rtl  \" ><div class=\"lbl c1  \" ><span class=\"nd\">phrase</span></div><div class=\"children hor wrap rtl\"><div class=\"contnr c1  rtl  \" ><div class=\"lbl c1  \" ><span class=\"nd\">subphrase</span> <span class=\"\"><span class=\"plain  rtl  \" ><span class=\"plain  rtl\"></span><span class=\"plain  rtl  \" ><span class=\"txtu hbo\">זָכָ֣ר </span></span></span></span></div></div><div class=\"contnr c0 trm rtl  \" ><div class=\"lbl c0 trm \" ><a class=\" txtu hbo\" target=\"_blank\" href=\"https://shebanq.ancient-data.org/hebrew/word?version=c&amp;id=1W\" title=\"Show this on SHEBANQ\"><span class=\"txtu hbo\">וּ</span></a></div></div><div class=\"contnr c1  rtl  \" ><div class=\"lbl c1  \" ><span class=\"nd\">subphrase</span> <span class=\"\"><span class=\"plain  rtl  \" ><span class=\"plain  rtl\"></span><span class=\"plain  rtl  \" ><span class=\"txtu hbo\">נְקֵבָ֑ה </span></span></span></span></div></div></div></div></div></div><div class=\"contnr c2  rtl  \" ><div class=\"lbl c2  \" ><span class=\"nd\">clause</span></div><div class=\"children hor wrap rtl\"><div class=\"contnr c1  rtl  \" ><div class=\"lbl c1  \" ><span class=\"nd\">phrase</span></div><div class=\"children hor wrap rtl\"><div class=\"contnr c0 trm rtl  \" ><div class=\"lbl c0 trm \" ><a class=\" txtu hbo\" target=\"_blank\" href=\"https://shebanq.ancient-data.org/hebrew/word?version=c&amp;id=1K\" title=\"Show this on SHEBANQ\"><span class=\"txtu hbo\">כַּֽ</span></a></div></div><div class=\"contnr c0 trm rtl  \" ><div class=\"lbl c0 trm \" ><a class=\" txtu hbo\" target=\"_blank\" href=\"https://shebanq.ancient-data.org/hebrew/word?version=c&amp;id=1ACR\" title=\"Show this on SHEBANQ\"><span class=\"txtu hbo\">אֲשֶׁ֛ר </span></a></div></div></div></div><div class=\"contnr c1  rtl  \" ><div class=\"lbl c1  \" ><span class=\"nd\">phrase</span></div><div class=\"children hor wrap rtl\"><div class=\"contnr c0 trm rtl  \" ><div class=\"lbl c0 trm \" ><a class=\" txtu hbo\" target=\"_blank\" href=\"https://shebanq.ancient-data.org/hebrew/word?version=c&amp;id=1YWHv\" title=\"Show this on SHEBANQ\"><span class=\"txtu hbo\">צִוָּ֥ה </span></a></div></div></div></div><div class=\"contnr c1  rtl  \" ><div class=\"lbl c1  \" ><span class=\"nd\">phrase</span></div><div class=\"children hor wrap rtl\"><div class=\"contnr c0 trm rtl  \" ><div class=\"lbl c0 trm \" ><a class=\" txtu hbo\" target=\"_blank\" href=\"https://shebanq.ancient-data.org/hebrew/word?version=c&amp;id=1ALHJMn\" title=\"Show this on SHEBANQ\"><span class=\"txtu hbo\">אֱלֹהִ֖ים </span></a></div></div></div></div><div class=\"contnr c1  rtl  \" ><div class=\"lbl c1  \" ><span class=\"nd\">phrase</span></div><div class=\"children hor wrap rtl\"><div class=\"contnr c0 trm rtl  \" ><div class=\"lbl c0 trm \" ><a class=\" txtu hbo\" target=\"_blank\" href=\"https://shebanq.ancient-data.org/hebrew/word?version=c&amp;id=1AT\" title=\"Show this on SHEBANQ\"><span class=\"txtu hbo\">אֶת־</span></a></div></div><div class=\"contnr c0 trm rtl  \" ><div class=\"lbl c0 trm \" ><a class=\" txtu hbo\" target=\"_blank\" href=\"https://shebanq.ancient-data.org/hebrew/word?version=c&amp;id=1NXn\" title=\"Show this on SHEBANQ\"><span class=\"txtu hbo\">נֹֽחַ׃ </span></a></div></div></div></div></div></div></div></div></div>"
      ],
      "text/plain": [
       "<IPython.core.display.HTML object>"
      ]
     },
     "metadata": {},
     "output_type": "display_data"
    }
   ],
   "source": [
    "A.pretty(s, baseTypes={\"subphrase\", \"word\"})"
   ]
  },
  {
   "cell_type": "code",
   "execution_count": 29,
   "metadata": {},
   "outputs": [
    {
     "data": {
      "text/html": [
       "<span class=\"section ltr\"><a target=\"_blank\" href=\"https://shebanq.ancient-data.org/hebrew/text?book=Genesis&amp;chapter=7&amp;verse=8&amp;version=c&amp;mr=m&amp;qw=q&amp;tp=txt_p&amp;tr=hb&amp;wget=v&amp;qget=v&amp;nget=vt\" title=\"Show this on SHEBANQ\" sec=\"Genesis 7:8\">Genesis 7:8</a></span><div class=\"rtl children\"><div class=\"contnr c2  rtl  \" ><div class=\"lbl c2  \" ><span class=\"nd\">sentence</span></div><div class=\"children hor wrap rtl\"><div class=\"contnr c2  rtl l \" ><div class=\"lbl c2  \" ><span class=\"nd\">clause</span></div><div class=\"children hor wrap rtl\"><div class=\"contnr c1  rtl l \" ><div class=\"lbl c1  \" ><span class=\"nd\">phrase</span> <span class=\"\"><span class=\"plain  rtl l \" ><span class=\"plain  rtl\"></span><span class=\"plain  rtl  \" ><span class=\"plain  rtl\"></span><span class=\"plain  rtl  \" ><span class=\"txtu hbo\">מִן־</span></span><span class=\"plain  rtl  \" ><span class=\"plain  rtl\"></span><span class=\"plain  rtl  \" ><span class=\"txtu hbo\">הַ</span></span><span class=\"plain  rtl  \" ><span class=\"txtu hbo\">בְּהֵמָה֙ </span></span></span><span class=\"plain  rtl  \" ><span class=\"plain  rtl\"></span><span class=\"plain  rtl  \" ><span class=\"txtu hbo\">הַ</span></span><span class=\"plain  rtl  \" ><span class=\"txtu hbo\">טְּהֹורָ֔ה </span></span></span></span><span class=\"plain  rtl  \" ><span class=\"txtu hbo\">וּ</span></span><span class=\"plain  rtl  \" ><span class=\"plain  rtl\"></span><span class=\"plain  rtl  \" ><span class=\"txtu hbo\">מִן־</span></span><span class=\"plain  rtl  \" ><span class=\"txtu hbo\">הַ֨</span></span><span class=\"plain  rtl  \" ><span class=\"txtu hbo\">בְּהֵמָ֔ה </span></span></span></span></span></div></div></div></div><div class=\"contnr c2  rtl  \" ><div class=\"lbl c2  \" ><span class=\"nd\">clause</span></div><div class=\"children hor wrap rtl\"><div class=\"contnr c1  rtl  \" ><div class=\"lbl c1  \" ><span class=\"nd\">phrase</span> <span class=\"\"><span class=\"plain  rtl  \" ><span class=\"plain  rtl\"></span><span class=\"plain  rtl  \" ><span class=\"txtu hbo\">אֲשֶׁ֥ר </span></span></span></span></div></div><div class=\"contnr c1  rtl  \" ><div class=\"lbl c1  \" ><span class=\"nd\">phrase</span> <span class=\"\"><span class=\"plain  rtl  \" ><span class=\"plain  rtl\"></span><span class=\"plain  rtl  \" ><span class=\"txtu hbo\">אֵינֶ֖נָּה </span></span></span></span></div></div><div class=\"contnr c1  rtl  \" ><div class=\"lbl c1  \" ><span class=\"nd\">phrase</span> <span class=\"\"><span class=\"plain  rtl  \" ><span class=\"plain  rtl\"></span><span class=\"plain  rtl  \" ><span class=\"txtu hbo\">טְהֹרָ֑ה </span></span></span></span></div></div></div></div><div class=\"contnr c2  rtl r l \" ><div class=\"lbl c2  \" ><span class=\"nd\">clause</span></div><div class=\"children hor wrap rtl\"><div class=\"contnr c1  rtl r \" ><div class=\"lbl c1  \" ><span class=\"nd\">phrase</span> <span class=\"\"><span class=\"plain  rtl r \" ><span class=\"plain  rtl\"></span><span class=\"plain  rtl  \" ><span class=\"txtu hbo\">וּ</span></span><span class=\"plain  rtl  \" ><span class=\"txtu hbo\">מִ֨ן־</span></span><span class=\"plain  rtl  \" ><span class=\"plain  rtl\"></span><span class=\"plain  rtl  \" ><span class=\"txtu hbo\">הָ</span></span><span class=\"plain  rtl  \" ><span class=\"txtu hbo\">עֹ֔וף </span></span></span><span class=\"plain  rtl  \" ><span class=\"txtu hbo\">וְ</span></span><span class=\"plain  rtl  \" ><span class=\"plain  rtl\"></span><span class=\"plain  rtl  \" ><span class=\"txtu hbo\">כֹ֥ל </span></span></span></span></span></div></div></div></div><div class=\"contnr c2  rtl  \" ><div class=\"lbl c2  \" ><span class=\"nd\">clause</span></div><div class=\"children hor wrap rtl\"><div class=\"contnr c1  rtl  \" ><div class=\"lbl c1  \" ><span class=\"nd\">phrase</span> <span class=\"\"><span class=\"plain  rtl  \" ><span class=\"plain  rtl\"></span><span class=\"plain  rtl  \" ><span class=\"txtu hbo\">אֲשֶׁר־</span></span></span></span></div></div><div class=\"contnr c1  rtl  \" ><div class=\"lbl c1  \" ><span class=\"nd\">phrase</span> <span class=\"\"><span class=\"plain  rtl  \" ><span class=\"plain  rtl\"></span><span class=\"plain  rtl  \" ><span class=\"txtu hbo\">רֹמֵ֖שׂ </span></span></span></span></div></div><div class=\"contnr c1  rtl  \" ><div class=\"lbl c1  \" ><span class=\"nd\">phrase</span> <span class=\"\"><span class=\"plain  rtl  \" ><span class=\"plain  rtl\"></span><span class=\"plain  rtl  \" ><span class=\"txtu hbo\">עַל־</span></span><span class=\"plain  rtl  \" ><span class=\"txtu hbo\">הָֽ</span></span><span class=\"plain  rtl  \" ><span class=\"txtu hbo\">אֲדָמָֽה׃ </span></span></span></span></div></div></div></div><div class=\"contnr c2  rtl r \" ><div class=\"lbl c2  \" ><span class=\"nd\">clause</span></div><div class=\"children hor wrap rtl\"><div class=\"contnr c1  rtl  \" ><div class=\"lbl c1  \" ><span class=\"nd\">phrase</span> <span class=\"\"><span class=\"plain  rtl  \" ><span class=\"plain  rtl\"></span><span class=\"plain  rtl  \" ><span class=\"plain  rtl\"></span><span class=\"plain  rtl  \" ><span class=\"txtu hbo\">שְׁנַ֨יִם </span></span></span><span class=\"plain  rtl  \" ><span class=\"plain  rtl\"></span><span class=\"plain  rtl  \" ><span class=\"txtu hbo\">שְׁנַ֜יִם </span></span></span></span></span></div></div><div class=\"contnr c1  rtl  \" ><div class=\"lbl c1  \" ><span class=\"nd\">phrase</span> <span class=\"\"><span class=\"plain  rtl  \" ><span class=\"plain  rtl\"></span><span class=\"plain  rtl  \" ><span class=\"txtu hbo\">בָּ֧אוּ </span></span></span></span></div></div><div class=\"contnr c1  rtl  \" ><div class=\"lbl c1  \" ><span class=\"nd\">phrase</span> <span class=\"\"><span class=\"plain  rtl  \" ><span class=\"plain  rtl\"></span><span class=\"plain  rtl  \" ><span class=\"txtu hbo\">אֶל־</span></span><span class=\"plain  rtl  \" ><span class=\"txtu hbo\">נֹ֛חַ </span></span></span></span></div></div><div class=\"contnr c1  rtl  \" ><div class=\"lbl c1  \" ><span class=\"nd\">phrase</span> <span class=\"\"><span class=\"plain  rtl  \" ><span class=\"plain  rtl\"></span><span class=\"plain  rtl  \" ><span class=\"txtu hbo\">אֶל־</span></span><span class=\"plain  rtl  \" ><span class=\"txtu hbo\">הַ</span></span><span class=\"plain  rtl  \" ><span class=\"txtu hbo\">תֵּבָ֖ה </span></span></span></span></div></div><div class=\"contnr c1  rtl  \" ><div class=\"lbl c1  \" ><span class=\"nd\">phrase</span> <span class=\"\"><span class=\"plain  rtl  \" ><span class=\"plain  rtl\"></span><span class=\"plain  rtl  \" ><span class=\"plain  rtl\"></span><span class=\"plain  rtl  \" ><span class=\"txtu hbo\">זָכָ֣ר </span></span></span><span class=\"plain  rtl  \" ><span class=\"txtu hbo\">וּ</span></span><span class=\"plain  rtl  \" ><span class=\"plain  rtl\"></span><span class=\"plain  rtl  \" ><span class=\"txtu hbo\">נְקֵבָ֑ה </span></span></span></span></span></div></div></div></div><div class=\"contnr c2  rtl  \" ><div class=\"lbl c2  \" ><span class=\"nd\">clause</span></div><div class=\"children hor wrap rtl\"><div class=\"contnr c1  rtl  \" ><div class=\"lbl c1  \" ><span class=\"nd\">phrase</span> <span class=\"\"><span class=\"plain  rtl  \" ><span class=\"plain  rtl\"></span><span class=\"plain  rtl  \" ><span class=\"txtu hbo\">כַּֽ</span></span><span class=\"plain  rtl  \" ><span class=\"txtu hbo\">אֲשֶׁ֛ר </span></span></span></span></div></div><div class=\"contnr c1  rtl  \" ><div class=\"lbl c1  \" ><span class=\"nd\">phrase</span> <span class=\"\"><span class=\"plain  rtl  \" ><span class=\"plain  rtl\"></span><span class=\"plain  rtl  \" ><span class=\"txtu hbo\">צִוָּ֥ה </span></span></span></span></div></div><div class=\"contnr c1  rtl  \" ><div class=\"lbl c1  \" ><span class=\"nd\">phrase</span> <span class=\"\"><span class=\"plain  rtl  \" ><span class=\"plain  rtl\"></span><span class=\"plain  rtl  \" ><span class=\"txtu hbo\">אֱלֹהִ֖ים </span></span></span></span></div></div><div class=\"contnr c1  rtl  \" ><div class=\"lbl c1  \" ><span class=\"nd\">phrase</span> <span class=\"\"><span class=\"plain  rtl  \" ><span class=\"plain  rtl\"></span><span class=\"plain  rtl  \" ><span class=\"txtu hbo\">אֶת־</span></span><span class=\"plain  rtl  \" ><span class=\"txtu hbo\">נֹֽחַ׃ </span></span></span></span></div></div></div></div></div></div></div>"
      ],
      "text/plain": [
       "<IPython.core.display.HTML object>"
      ]
     },
     "metadata": {},
     "output_type": "display_data"
    }
   ],
   "source": [
    "A.pretty(s, baseTypes=\"phrase\")"
   ]
  },
  {
   "cell_type": "code",
   "execution_count": 30,
   "metadata": {},
   "outputs": [
    {
     "data": {
      "text/html": [
       "<p><b>result</b> <i>1</i></p>"
      ],
      "text/plain": [
       "<IPython.core.display.HTML object>"
      ]
     },
     "metadata": {},
     "output_type": "display_data"
    },
    {
     "data": {
      "text/html": [
       "<span class=\"section ltr\"><a target=\"_blank\" href=\"https://shebanq.ancient-data.org/hebrew/text?book=Genesis&amp;chapter=7&amp;verse=8&amp;version=c&amp;mr=m&amp;qw=q&amp;tp=txt_p&amp;tr=hb&amp;wget=v&amp;qget=v&amp;nget=vt\" title=\"Show this on SHEBANQ\" sec=\"Genesis 7:8\">Genesis 7:8</a></span><div class=\"rtl children\"><div class=\"contnr c3  rtl  \" ><div class=\"lbl c3  \" ><span class=\"nd\">verse</span></div><div class=\"children hor wrap rtl\"><div class=\"contnr c2  rtl l \" ><div class=\"lbl c2  \" ><span class=\"nd\">clause</span></div><div class=\"children hor wrap rtl\"><div class=\"contnr c1  rtl l \" ><div class=\"lbl c1  \" ><span class=\"nd\">phrase</span> <span class=\"\"><span class=\"plain  rtl l \" ><span class=\"plain  rtl\"></span><span class=\"plain  rtl  \" ><span class=\"plain  rtl\"></span><span class=\"plain  rtl  \" ><span class=\"txtu hbo\">מִן־</span></span><span class=\"plain  rtl  \" ><span class=\"plain  rtl\"></span><span class=\"plain  rtl  \" ><span class=\"txtu hbo\">הַ</span></span><span class=\"plain  rtl  \" ><span class=\"txtu hbo\">בְּהֵמָה֙ </span></span></span><span class=\"plain  rtl  \" ><span class=\"plain  rtl\"></span><span class=\"plain  rtl  \" ><span class=\"txtu hbo\">הַ</span></span><span class=\"plain  rtl  \" ><span class=\"txtu hbo\">טְּהֹורָ֔ה </span></span></span></span><span class=\"plain  rtl  \" ><span class=\"txtu hbo\">וּ</span></span><span class=\"plain  rtl  \" ><span class=\"plain  rtl\"></span><span class=\"plain  rtl  \" ><span class=\"txtu hbo\">מִן־</span></span><span class=\"plain  rtl  \" ><span class=\"txtu hbo\">הַ֨</span></span><span class=\"plain  rtl  \" ><span class=\"txtu hbo\">בְּהֵמָ֔ה </span></span></span></span></span></div></div></div></div><div class=\"contnr c2  rtl  \" ><div class=\"lbl c2  \" ><span class=\"nd\">clause</span></div><div class=\"children hor wrap rtl\"><div class=\"contnr c1  rtl  \" ><div class=\"lbl c1  \" ><span class=\"nd\">phrase</span> <span class=\"\"><span class=\"plain  rtl  \" ><span class=\"plain  rtl\"></span><span class=\"plain  rtl  \" ><span class=\"txtu hbo\">אֲשֶׁ֥ר </span></span></span></span></div></div><div class=\"contnr c1  rtl  hl\" ><div class=\"lbl c1  hl\" ><span class=\"nd\">phrase</span> <span class=\"\"><span class=\"plain  rtl  hl\" ><span class=\"plain  rtl\"></span><span class=\"plain  rtl  \" ><span class=\"txtu hbo\">אֵינֶ֖נָּה </span></span></span></span></div></div><div class=\"contnr c1  rtl  \" ><div class=\"lbl c1  \" ><span class=\"nd\">phrase</span> <span class=\"\"><span class=\"plain  rtl  \" ><span class=\"plain  rtl\"></span><span class=\"plain  rtl  \" ><span class=\"txtu hbo\">טְהֹרָ֑ה </span></span></span></span></div></div></div></div><div class=\"contnr c2  rtl r l \" ><div class=\"lbl c2  \" ><span class=\"nd\">clause</span></div><div class=\"children hor wrap rtl\"><div class=\"contnr c1  rtl r \" ><div class=\"lbl c1  \" ><span class=\"nd\">phrase</span> <span class=\"\"><span class=\"plain  rtl r \" ><span class=\"plain  rtl\"></span><span class=\"plain  rtl  \" ><span class=\"txtu hbo\">וּ</span></span><span class=\"plain  rtl  \" ><span class=\"txtu hbo\">מִ֨ן־</span></span><span class=\"plain  rtl  \" ><span class=\"plain  rtl\"></span><span class=\"plain  rtl  \" ><span class=\"txtu hbo\">הָ</span></span><span class=\"plain  rtl  \" ><span class=\"txtu hbo\">עֹ֔וף </span></span></span><span class=\"plain  rtl  \" ><span class=\"txtu hbo\">וְ</span></span><span class=\"plain  rtl  \" ><span class=\"plain  rtl\"></span><span class=\"plain  rtl  \" ><span class=\"txtu hbo\">כֹ֥ל </span></span></span></span></span></div></div></div></div><div class=\"contnr c2  rtl  \" ><div class=\"lbl c2  \" ><span class=\"nd\">clause</span></div><div class=\"children hor wrap rtl\"><div class=\"contnr c1  rtl  \" ><div class=\"lbl c1  \" ><span class=\"nd\">phrase</span> <span class=\"\"><span class=\"plain  rtl  \" ><span class=\"plain  rtl\"></span><span class=\"plain  rtl  \" ><span class=\"txtu hbo\">אֲשֶׁר־</span></span></span></span></div></div><div class=\"contnr c1  rtl  \" ><div class=\"lbl c1  \" ><span class=\"nd\">phrase</span> <span class=\"\"><span class=\"plain  rtl  \" ><span class=\"plain  rtl\"></span><span class=\"plain  rtl  \" ><span class=\"txtu hbo\">רֹמֵ֖שׂ </span></span></span></span></div></div><div class=\"contnr c1  rtl  \" ><div class=\"lbl c1  \" ><span class=\"nd\">phrase</span> <span class=\"\"><span class=\"plain  rtl  \" ><span class=\"plain  rtl\"></span><span class=\"plain  rtl  \" ><span class=\"txtu hbo\">עַל־</span></span><span class=\"plain  rtl  \" ><span class=\"txtu hbo\">הָֽ</span></span><span class=\"plain  rtl  \" ><span class=\"txtu hbo\">אֲדָמָֽה׃ </span></span></span></span></div></div></div></div></div></div><div class=\"contnr c2 trm rtl r \" ><div class=\"lbl c2 trm \" ><span class=\"nd\">clause</span></div></div></div>"
      ],
      "text/plain": [
       "<IPython.core.display.HTML object>"
      ]
     },
     "metadata": {},
     "output_type": "display_data"
    }
   ],
   "source": [
    "A.prettyTuple((p,), 1, baseTypes=\"phrase\")"
   ]
  },
  {
   "cell_type": "code",
   "execution_count": 31,
   "metadata": {},
   "outputs": [
    {
     "data": {
      "text/html": [
       "<span class=\"section ltr\"><a target=\"_blank\" href=\"https://shebanq.ancient-data.org/hebrew/text?book=Genesis&amp;chapter=7&amp;verse=8&amp;version=c&amp;mr=m&amp;qw=q&amp;tp=txt_p&amp;tr=hb&amp;wget=v&amp;qget=v&amp;nget=vt\" title=\"Show this on SHEBANQ\" sec=\"Genesis 7:8\">Genesis 7:8</a></span><div class=\"rtl children\"><div class=\"contnr c1  rtl  \" ><div class=\"lbl c1  \" ><span class=\"nd\">phrase</span> <span class=\"\"><span class=\"plain outer rtl  \" ><span class=\"plain  rtl\"></span><span class=\"plain  rtl  \" ><span class=\"txtu hbo\">אֵינֶ֖נָּה </span></span></span></span></div></div></div>"
      ],
      "text/plain": [
       "<IPython.core.display.HTML object>"
      ]
     },
     "metadata": {},
     "output_type": "display_data"
    }
   ],
   "source": [
    "A.pretty(p, baseTypes=\"phrase\")"
   ]
  },
  {
   "cell_type": "markdown",
   "metadata": {},
   "source": [
    "# Atom types"
   ]
  },
  {
   "cell_type": "code",
   "execution_count": 32,
   "metadata": {},
   "outputs": [],
   "source": [
    "p = F.otype.s(\"phrase\")[0]\n",
    "pa = F.otype.s(\"phrase_atom\")[0]"
   ]
  },
  {
   "cell_type": "markdown",
   "metadata": {},
   "source": [
    "# Plain"
   ]
  },
  {
   "cell_type": "code",
   "execution_count": 33,
   "metadata": {},
   "outputs": [
    {
     "data": {
      "text/html": [
       "<div class=\"rtl children\"><span class=\"section ltr\"><a target=\"_blank\" href=\"https://shebanq.ancient-data.org/hebrew/text?book=Genesis&amp;chapter=1&amp;verse=1&amp;version=c&amp;mr=m&amp;qw=q&amp;tp=txt_p&amp;tr=hb&amp;wget=v&amp;qget=v&amp;nget=vt\" title=\"Show this on SHEBANQ\" sec=\"Genesis 1:1\">Genesis 1:1</a></span> <span class=\"plain outer rtl  hlbx\" ><span class=\"plain  rtl\"></span><span class=\"plain  rtl  \" ><span class=\"txtu hbo\">בְּ</span></span><span class=\"plain  rtl  \" ><span class=\"txtu hbo\">רֵאשִׁ֖ית </span></span></span></div>"
      ],
      "text/plain": [
       "<IPython.core.display.HTML object>"
      ]
     },
     "metadata": {},
     "output_type": "display_data"
    },
    {
     "data": {
      "text/html": [
       "<div class=\"rtl children\"><span class=\"section ltr\"><a target=\"_blank\" href=\"https://shebanq.ancient-data.org/hebrew/text?book=Genesis&amp;chapter=1&amp;verse=1&amp;version=c&amp;mr=m&amp;qw=q&amp;tp=txt_p&amp;tr=hb&amp;wget=v&amp;qget=v&amp;nget=vt\" title=\"Show this on SHEBANQ\" sec=\"Genesis 1:1\">Genesis 1:1</a></span> <span class=\"plain outer rtl  hlbx\" ><span class=\"plain  rtl\"></span><span class=\"plain  rtl  hlbx\" ><span class=\"plain  rtl\"></span><span class=\"plain  rtl  \" ><span class=\"txtu hbo\">בְּ</span></span><span class=\"plain  rtl  \" ><span class=\"txtu hbo\">רֵאשִׁ֖ית </span></span></span></span></div>"
      ],
      "text/plain": [
       "<IPython.core.display.HTML object>"
      ]
     },
     "metadata": {},
     "output_type": "display_data"
    }
   ],
   "source": [
    "A.plain(p, highlights={p, pa})\n",
    "A.plain(p, highlights={p, pa}, showHidden=True)"
   ]
  },
  {
   "cell_type": "code",
   "execution_count": 34,
   "metadata": {},
   "outputs": [
    {
     "data": {
      "text/html": [
       "<div class=\"rtl children\"><span class=\"section ltr\"><a target=\"_blank\" href=\"https://shebanq.ancient-data.org/hebrew/text?book=Genesis&amp;chapter=1&amp;verse=1&amp;version=c&amp;mr=m&amp;qw=q&amp;tp=txt_p&amp;tr=hb&amp;wget=v&amp;qget=v&amp;nget=vt\" title=\"Show this on SHEBANQ\" sec=\"Genesis 1:1\">Genesis 1:1</a></span> <span class=\"plain outer rtl  hlbx\" ><span class=\"plain  rtl\"></span><span class=\"plain  rtl  \" ><span class=\"txtu hbo\">בְּ</span></span><span class=\"plain  rtl  \" ><span class=\"txtu hbo\">רֵאשִׁ֖ית </span></span></span></div>"
      ],
      "text/plain": [
       "<IPython.core.display.HTML object>"
      ]
     },
     "metadata": {},
     "output_type": "display_data"
    },
    {
     "data": {
      "text/html": [
       "<div class=\"rtl children\"><span class=\"section ltr\"><a target=\"_blank\" href=\"https://shebanq.ancient-data.org/hebrew/text?book=Genesis&amp;chapter=1&amp;verse=1&amp;version=c&amp;mr=m&amp;qw=q&amp;tp=txt_p&amp;tr=hb&amp;wget=v&amp;qget=v&amp;nget=vt\" title=\"Show this on SHEBANQ\" sec=\"Genesis 1:1\">Genesis 1:1</a></span> <span class=\"plain outer rtl  hlbx\" ><span class=\"plain  rtl\"></span><span class=\"plain  rtl  \" ><span class=\"plain  rtl\"></span><span class=\"plain  rtl  \" ><span class=\"txtu hbo\">בְּ</span></span><span class=\"plain  rtl  \" ><span class=\"txtu hbo\">רֵאשִׁ֖ית </span></span></span></span></div>"
      ],
      "text/plain": [
       "<IPython.core.display.HTML object>"
      ]
     },
     "metadata": {},
     "output_type": "display_data"
    }
   ],
   "source": [
    "A.plain(p, highlights={p})\n",
    "A.plain(p, highlights={p}, showHidden=True)"
   ]
  },
  {
   "cell_type": "code",
   "execution_count": 35,
   "metadata": {},
   "outputs": [
    {
     "data": {
      "text/html": [
       "<div class=\"rtl children\"><span class=\"section ltr\"><a target=\"_blank\" href=\"https://shebanq.ancient-data.org/hebrew/text?book=Genesis&amp;chapter=1&amp;verse=1&amp;version=c&amp;mr=m&amp;qw=q&amp;tp=txt_p&amp;tr=hb&amp;wget=v&amp;qget=v&amp;nget=vt\" title=\"Show this on SHEBANQ\" sec=\"Genesis 1:1\">Genesis 1:1</a></span> <span class=\"plain outer rtl  \" ><span class=\"plain  rtl\"></span><span class=\"plain  rtl  \" ><span class=\"txtu hbo\">בְּ</span></span><span class=\"plain  rtl  \" ><span class=\"txtu hbo\">רֵאשִׁ֖ית </span></span></span></div>"
      ],
      "text/plain": [
       "<IPython.core.display.HTML object>"
      ]
     },
     "metadata": {},
     "output_type": "display_data"
    },
    {
     "data": {
      "text/html": [
       "<div class=\"rtl children\"><span class=\"section ltr\"><a target=\"_blank\" href=\"https://shebanq.ancient-data.org/hebrew/text?book=Genesis&amp;chapter=1&amp;verse=1&amp;version=c&amp;mr=m&amp;qw=q&amp;tp=txt_p&amp;tr=hb&amp;wget=v&amp;qget=v&amp;nget=vt\" title=\"Show this on SHEBANQ\" sec=\"Genesis 1:1\">Genesis 1:1</a></span> <span class=\"plain outer rtl  \" ><span class=\"plain  rtl\"></span><span class=\"plain  rtl  hlbx\" ><span class=\"plain  rtl\"></span><span class=\"plain  rtl  \" ><span class=\"txtu hbo\">בְּ</span></span><span class=\"plain  rtl  \" ><span class=\"txtu hbo\">רֵאשִׁ֖ית </span></span></span></span></div>"
      ],
      "text/plain": [
       "<IPython.core.display.HTML object>"
      ]
     },
     "metadata": {},
     "output_type": "display_data"
    }
   ],
   "source": [
    "A.plain(p, highlights={pa})\n",
    "A.plain(p, highlights={pa}, showHidden=True)"
   ]
  },
  {
   "cell_type": "code",
   "execution_count": 36,
   "metadata": {},
   "outputs": [
    {
     "data": {
      "text/html": [
       "<div class=\"rtl children\"><span class=\"section ltr\"><a target=\"_blank\" href=\"https://shebanq.ancient-data.org/hebrew/text?book=Genesis&amp;chapter=1&amp;verse=1&amp;version=c&amp;mr=m&amp;qw=q&amp;tp=txt_p&amp;tr=hb&amp;wget=v&amp;qget=v&amp;nget=vt\" title=\"Show this on SHEBANQ\" sec=\"Genesis 1:1\">Genesis 1:1</a></span> <span class=\"plain outer rtl  hlbx\" ><span class=\"plain  rtl\"></span><span class=\"plain  rtl  \" ><span class=\"txtu hbo\">בְּ</span></span><span class=\"plain  rtl  \" ><span class=\"txtu hbo\">רֵאשִׁ֖ית </span></span></span></div>"
      ],
      "text/plain": [
       "<IPython.core.display.HTML object>"
      ]
     },
     "metadata": {},
     "output_type": "display_data"
    },
    {
     "data": {
      "text/html": [
       "<div class=\"rtl children\"><span class=\"section ltr\"><a target=\"_blank\" href=\"https://shebanq.ancient-data.org/hebrew/text?book=Genesis&amp;chapter=1&amp;verse=1&amp;version=c&amp;mr=m&amp;qw=q&amp;tp=txt_p&amp;tr=hb&amp;wget=v&amp;qget=v&amp;nget=vt\" title=\"Show this on SHEBANQ\" sec=\"Genesis 1:1\">Genesis 1:1</a></span> <span class=\"plain outer rtl  hlbx\" ><span class=\"plain  rtl\"></span><span class=\"plain  rtl  \" ><span class=\"txtu hbo\">בְּ</span></span><span class=\"plain  rtl  \" ><span class=\"txtu hbo\">רֵאשִׁ֖ית </span></span></span></div>"
      ],
      "text/plain": [
       "<IPython.core.display.HTML object>"
      ]
     },
     "metadata": {},
     "output_type": "display_data"
    }
   ],
   "source": [
    "A.plain(pa, highlights={p, pa})\n",
    "A.plain(pa, highlights={p, pa}, showHidden=True)"
   ]
  },
  {
   "cell_type": "code",
   "execution_count": 37,
   "metadata": {},
   "outputs": [
    {
     "data": {
      "text/html": [
       "<div class=\"rtl children\"><span class=\"section ltr\"><a target=\"_blank\" href=\"https://shebanq.ancient-data.org/hebrew/text?book=Genesis&amp;chapter=1&amp;verse=1&amp;version=c&amp;mr=m&amp;qw=q&amp;tp=txt_p&amp;tr=hb&amp;wget=v&amp;qget=v&amp;nget=vt\" title=\"Show this on SHEBANQ\" sec=\"Genesis 1:1\">Genesis 1:1</a></span> <span class=\"plain outer rtl  hlbx\" ><span class=\"plain  rtl\"></span><span class=\"plain  rtl  \" ><span class=\"txtu hbo\">בְּ</span></span><span class=\"plain  rtl  \" ><span class=\"txtu hbo\">רֵאשִׁ֖ית </span></span></span></div>"
      ],
      "text/plain": [
       "<IPython.core.display.HTML object>"
      ]
     },
     "metadata": {},
     "output_type": "display_data"
    },
    {
     "data": {
      "text/html": [
       "<div class=\"rtl children\"><span class=\"section ltr\"><a target=\"_blank\" href=\"https://shebanq.ancient-data.org/hebrew/text?book=Genesis&amp;chapter=1&amp;verse=1&amp;version=c&amp;mr=m&amp;qw=q&amp;tp=txt_p&amp;tr=hb&amp;wget=v&amp;qget=v&amp;nget=vt\" title=\"Show this on SHEBANQ\" sec=\"Genesis 1:1\">Genesis 1:1</a></span> <span class=\"plain outer rtl  hlbx\" ><span class=\"plain  rtl\"></span><span class=\"plain  rtl  \" ><span class=\"txtu hbo\">בְּ</span></span><span class=\"plain  rtl  \" ><span class=\"txtu hbo\">רֵאשִׁ֖ית </span></span></span></div>"
      ],
      "text/plain": [
       "<IPython.core.display.HTML object>"
      ]
     },
     "metadata": {},
     "output_type": "display_data"
    }
   ],
   "source": [
    "A.plain(pa, highlights={pa})\n",
    "A.plain(pa, highlights={pa}, showHidden=True)"
   ]
  },
  {
   "cell_type": "code",
   "execution_count": 38,
   "metadata": {},
   "outputs": [
    {
     "data": {
      "text/html": [
       "<div class=\"rtl children\"><span class=\"section ltr\"><a target=\"_blank\" href=\"https://shebanq.ancient-data.org/hebrew/text?book=Genesis&amp;chapter=1&amp;verse=1&amp;version=c&amp;mr=m&amp;qw=q&amp;tp=txt_p&amp;tr=hb&amp;wget=v&amp;qget=v&amp;nget=vt\" title=\"Show this on SHEBANQ\" sec=\"Genesis 1:1\">Genesis 1:1</a></span> <span class=\"plain outer rtl  \" ><span class=\"plain  rtl\"></span><span class=\"plain  rtl  \" ><span class=\"txtu hbo\">בְּ</span></span><span class=\"plain  rtl  \" ><span class=\"txtu hbo\">רֵאשִׁ֖ית </span></span></span></div>"
      ],
      "text/plain": [
       "<IPython.core.display.HTML object>"
      ]
     },
     "metadata": {},
     "output_type": "display_data"
    },
    {
     "data": {
      "text/html": [
       "<div class=\"rtl children\"><span class=\"section ltr\"><a target=\"_blank\" href=\"https://shebanq.ancient-data.org/hebrew/text?book=Genesis&amp;chapter=1&amp;verse=1&amp;version=c&amp;mr=m&amp;qw=q&amp;tp=txt_p&amp;tr=hb&amp;wget=v&amp;qget=v&amp;nget=vt\" title=\"Show this on SHEBANQ\" sec=\"Genesis 1:1\">Genesis 1:1</a></span> <span class=\"plain outer rtl  \" ><span class=\"plain  rtl\"></span><span class=\"plain  rtl  \" ><span class=\"txtu hbo\">בְּ</span></span><span class=\"plain  rtl  \" ><span class=\"txtu hbo\">רֵאשִׁ֖ית </span></span></span></div>"
      ],
      "text/plain": [
       "<IPython.core.display.HTML object>"
      ]
     },
     "metadata": {},
     "output_type": "display_data"
    }
   ],
   "source": [
    "A.plain(pa, highlights={p})\n",
    "A.plain(pa, highlights={p}, showHidden=True)"
   ]
  },
  {
   "cell_type": "markdown",
   "metadata": {},
   "source": [
    "# Pretty"
   ]
  },
  {
   "cell_type": "code",
   "execution_count": 39,
   "metadata": {},
   "outputs": [
    {
     "data": {
      "text/html": [
       "<span class=\"section ltr\"><a target=\"_blank\" href=\"https://shebanq.ancient-data.org/hebrew/text?book=Genesis&amp;chapter=1&amp;verse=1&amp;version=c&amp;mr=m&amp;qw=q&amp;tp=txt_p&amp;tr=hb&amp;wget=v&amp;qget=v&amp;nget=vt\" title=\"Show this on SHEBANQ\" sec=\"Genesis 1:1\">Genesis 1:1</a></span><div class=\"rtl children\"><div class=\"contnr c1  rtl  hl\" ><div class=\"lbl c1  hl\" ><span class=\"nd\">phrase</span></div><div class=\"children hor wrap rtl\"><div class=\"contnr c0 trm rtl  \" ><div class=\"lbl c0 trm \" ><a class=\" txtu hbo\" target=\"_blank\" href=\"https://shebanq.ancient-data.org/hebrew/word?version=c&amp;id=1B\" title=\"Show this on SHEBANQ\"><span class=\"txtu hbo\">בְּ</span></a></div></div><div class=\"contnr c0 trm rtl  \" ><div class=\"lbl c0 trm \" ><a class=\" txtu hbo\" target=\"_blank\" href=\"https://shebanq.ancient-data.org/hebrew/word?version=c&amp;id=1RACJTn\" title=\"Show this on SHEBANQ\"><span class=\"txtu hbo\">רֵאשִׁ֖ית </span></a></div></div></div></div></div>"
      ],
      "text/plain": [
       "<IPython.core.display.HTML object>"
      ]
     },
     "metadata": {},
     "output_type": "display_data"
    },
    {
     "data": {
      "text/html": [
       "<span class=\"section ltr\"><a target=\"_blank\" href=\"https://shebanq.ancient-data.org/hebrew/text?book=Genesis&amp;chapter=1&amp;verse=1&amp;version=c&amp;mr=m&amp;qw=q&amp;tp=txt_p&amp;tr=hb&amp;wget=v&amp;qget=v&amp;nget=vt\" title=\"Show this on SHEBANQ\" sec=\"Genesis 1:1\">Genesis 1:1</a></span><div class=\"rtl children\"><div class=\"contnr c1  rtl  hl\" ><div class=\"lbl c1  hl\" ><span class=\"nd\">phrase</span></div><div class=\"children hor wrap rtl\"><div class=\"contnr c1  rtl  hl\" ><div class=\"lbl c1  hl\" ><span class=\"nd\">phrase_atom</span></div><div class=\"children hor wrap rtl\"><div class=\"contnr c0 trm rtl  \" ><div class=\"lbl c0 trm \" ><a class=\" txtu hbo\" target=\"_blank\" href=\"https://shebanq.ancient-data.org/hebrew/word?version=c&amp;id=1B\" title=\"Show this on SHEBANQ\"><span class=\"txtu hbo\">בְּ</span></a></div></div><div class=\"contnr c0 trm rtl  \" ><div class=\"lbl c0 trm \" ><a class=\" txtu hbo\" target=\"_blank\" href=\"https://shebanq.ancient-data.org/hebrew/word?version=c&amp;id=1RACJTn\" title=\"Show this on SHEBANQ\"><span class=\"txtu hbo\">רֵאשִׁ֖ית </span></a></div></div></div></div></div></div></div>"
      ],
      "text/plain": [
       "<IPython.core.display.HTML object>"
      ]
     },
     "metadata": {},
     "output_type": "display_data"
    }
   ],
   "source": [
    "A.pretty(p, highlights={p, pa})\n",
    "A.pretty(p, highlights={p, pa}, showHidden=True)"
   ]
  },
  {
   "cell_type": "code",
   "execution_count": 40,
   "metadata": {},
   "outputs": [
    {
     "data": {
      "text/html": [
       "<span class=\"section ltr\"><a target=\"_blank\" href=\"https://shebanq.ancient-data.org/hebrew/text?book=Genesis&amp;chapter=1&amp;verse=1&amp;version=c&amp;mr=m&amp;qw=q&amp;tp=txt_p&amp;tr=hb&amp;wget=v&amp;qget=v&amp;nget=vt\" title=\"Show this on SHEBANQ\" sec=\"Genesis 1:1\">Genesis 1:1</a></span><div class=\"rtl children\"><div class=\"contnr c1  rtl  hl\" ><div class=\"lbl c1  hl\" ><span class=\"nd\">phrase</span></div><div class=\"children hor wrap rtl\"><div class=\"contnr c0 trm rtl  \" ><div class=\"lbl c0 trm \" ><a class=\" txtu hbo\" target=\"_blank\" href=\"https://shebanq.ancient-data.org/hebrew/word?version=c&amp;id=1B\" title=\"Show this on SHEBANQ\"><span class=\"txtu hbo\">בְּ</span></a></div></div><div class=\"contnr c0 trm rtl  \" ><div class=\"lbl c0 trm \" ><a class=\" txtu hbo\" target=\"_blank\" href=\"https://shebanq.ancient-data.org/hebrew/word?version=c&amp;id=1RACJTn\" title=\"Show this on SHEBANQ\"><span class=\"txtu hbo\">רֵאשִׁ֖ית </span></a></div></div></div></div></div>"
      ],
      "text/plain": [
       "<IPython.core.display.HTML object>"
      ]
     },
     "metadata": {},
     "output_type": "display_data"
    },
    {
     "data": {
      "text/html": [
       "<span class=\"section ltr\"><a target=\"_blank\" href=\"https://shebanq.ancient-data.org/hebrew/text?book=Genesis&amp;chapter=1&amp;verse=1&amp;version=c&amp;mr=m&amp;qw=q&amp;tp=txt_p&amp;tr=hb&amp;wget=v&amp;qget=v&amp;nget=vt\" title=\"Show this on SHEBANQ\" sec=\"Genesis 1:1\">Genesis 1:1</a></span><div class=\"rtl children\"><div class=\"contnr c1  rtl  hl\" ><div class=\"lbl c1  hl\" ><span class=\"nd\">phrase</span></div><div class=\"children hor wrap rtl\"><div class=\"contnr c1  rtl  \" ><div class=\"lbl c1  \" ><span class=\"nd\">phrase_atom</span></div><div class=\"children hor wrap rtl\"><div class=\"contnr c0 trm rtl  \" ><div class=\"lbl c0 trm \" ><a class=\" txtu hbo\" target=\"_blank\" href=\"https://shebanq.ancient-data.org/hebrew/word?version=c&amp;id=1B\" title=\"Show this on SHEBANQ\"><span class=\"txtu hbo\">בְּ</span></a></div></div><div class=\"contnr c0 trm rtl  \" ><div class=\"lbl c0 trm \" ><a class=\" txtu hbo\" target=\"_blank\" href=\"https://shebanq.ancient-data.org/hebrew/word?version=c&amp;id=1RACJTn\" title=\"Show this on SHEBANQ\"><span class=\"txtu hbo\">רֵאשִׁ֖ית </span></a></div></div></div></div></div></div></div>"
      ],
      "text/plain": [
       "<IPython.core.display.HTML object>"
      ]
     },
     "metadata": {},
     "output_type": "display_data"
    }
   ],
   "source": [
    "A.pretty(p, highlights={p})\n",
    "A.pretty(p, highlights={p}, showHidden=True)"
   ]
  },
  {
   "cell_type": "code",
   "execution_count": 41,
   "metadata": {},
   "outputs": [
    {
     "data": {
      "text/html": [
       "<span class=\"section ltr\"><a target=\"_blank\" href=\"https://shebanq.ancient-data.org/hebrew/text?book=Genesis&amp;chapter=1&amp;verse=1&amp;version=c&amp;mr=m&amp;qw=q&amp;tp=txt_p&amp;tr=hb&amp;wget=v&amp;qget=v&amp;nget=vt\" title=\"Show this on SHEBANQ\" sec=\"Genesis 1:1\">Genesis 1:1</a></span><div class=\"rtl children\"><div class=\"contnr c1  rtl  \" ><div class=\"lbl c1  \" ><span class=\"nd\">phrase</span></div><div class=\"children hor wrap rtl\"><div class=\"contnr c0 trm rtl  \" ><div class=\"lbl c0 trm \" ><a class=\" txtu hbo\" target=\"_blank\" href=\"https://shebanq.ancient-data.org/hebrew/word?version=c&amp;id=1B\" title=\"Show this on SHEBANQ\"><span class=\"txtu hbo\">בְּ</span></a></div></div><div class=\"contnr c0 trm rtl  \" ><div class=\"lbl c0 trm \" ><a class=\" txtu hbo\" target=\"_blank\" href=\"https://shebanq.ancient-data.org/hebrew/word?version=c&amp;id=1RACJTn\" title=\"Show this on SHEBANQ\"><span class=\"txtu hbo\">רֵאשִׁ֖ית </span></a></div></div></div></div></div>"
      ],
      "text/plain": [
       "<IPython.core.display.HTML object>"
      ]
     },
     "metadata": {},
     "output_type": "display_data"
    },
    {
     "data": {
      "text/html": [
       "<span class=\"section ltr\"><a target=\"_blank\" href=\"https://shebanq.ancient-data.org/hebrew/text?book=Genesis&amp;chapter=1&amp;verse=1&amp;version=c&amp;mr=m&amp;qw=q&amp;tp=txt_p&amp;tr=hb&amp;wget=v&amp;qget=v&amp;nget=vt\" title=\"Show this on SHEBANQ\" sec=\"Genesis 1:1\">Genesis 1:1</a></span><div class=\"rtl children\"><div class=\"contnr c1  rtl  \" ><div class=\"lbl c1  \" ><span class=\"nd\">phrase</span></div><div class=\"children hor wrap rtl\"><div class=\"contnr c1  rtl  hl\" ><div class=\"lbl c1  hl\" ><span class=\"nd\">phrase_atom</span></div><div class=\"children hor wrap rtl\"><div class=\"contnr c0 trm rtl  \" ><div class=\"lbl c0 trm \" ><a class=\" txtu hbo\" target=\"_blank\" href=\"https://shebanq.ancient-data.org/hebrew/word?version=c&amp;id=1B\" title=\"Show this on SHEBANQ\"><span class=\"txtu hbo\">בְּ</span></a></div></div><div class=\"contnr c0 trm rtl  \" ><div class=\"lbl c0 trm \" ><a class=\" txtu hbo\" target=\"_blank\" href=\"https://shebanq.ancient-data.org/hebrew/word?version=c&amp;id=1RACJTn\" title=\"Show this on SHEBANQ\"><span class=\"txtu hbo\">רֵאשִׁ֖ית </span></a></div></div></div></div></div></div></div>"
      ],
      "text/plain": [
       "<IPython.core.display.HTML object>"
      ]
     },
     "metadata": {},
     "output_type": "display_data"
    }
   ],
   "source": [
    "A.pretty(p, highlights={pa})\n",
    "A.pretty(p, highlights={pa}, showHidden=True)"
   ]
  },
  {
   "cell_type": "code",
   "execution_count": 42,
   "metadata": {},
   "outputs": [
    {
     "data": {
      "text/html": [
       "<span class=\"section ltr\"><a target=\"_blank\" href=\"https://shebanq.ancient-data.org/hebrew/text?book=Genesis&amp;chapter=1&amp;verse=1&amp;version=c&amp;mr=m&amp;qw=q&amp;tp=txt_p&amp;tr=hb&amp;wget=v&amp;qget=v&amp;nget=vt\" title=\"Show this on SHEBANQ\" sec=\"Genesis 1:1\">Genesis 1:1</a></span><div class=\"rtl children\"><div class=\"contnr c1  rtl  hl\" ><div class=\"lbl c1  hl\" ><span class=\"nd\">phrase_atom</span></div><div class=\"children hor wrap rtl\"><div class=\"contnr c0 trm rtl  \" ><div class=\"lbl c0 trm \" ><a class=\" txtu hbo\" target=\"_blank\" href=\"https://shebanq.ancient-data.org/hebrew/word?version=c&amp;id=1B\" title=\"Show this on SHEBANQ\"><span class=\"txtu hbo\">בְּ</span></a></div></div><div class=\"contnr c0 trm rtl  \" ><div class=\"lbl c0 trm \" ><a class=\" txtu hbo\" target=\"_blank\" href=\"https://shebanq.ancient-data.org/hebrew/word?version=c&amp;id=1RACJTn\" title=\"Show this on SHEBANQ\"><span class=\"txtu hbo\">רֵאשִׁ֖ית </span></a></div></div></div></div></div>"
      ],
      "text/plain": [
       "<IPython.core.display.HTML object>"
      ]
     },
     "metadata": {},
     "output_type": "display_data"
    },
    {
     "data": {
      "text/html": [
       "<span class=\"section ltr\"><a target=\"_blank\" href=\"https://shebanq.ancient-data.org/hebrew/text?book=Genesis&amp;chapter=1&amp;verse=1&amp;version=c&amp;mr=m&amp;qw=q&amp;tp=txt_p&amp;tr=hb&amp;wget=v&amp;qget=v&amp;nget=vt\" title=\"Show this on SHEBANQ\" sec=\"Genesis 1:1\">Genesis 1:1</a></span><div class=\"rtl children\"><div class=\"contnr c1  rtl  hl\" ><div class=\"lbl c1  hl\" ><span class=\"nd\">phrase_atom</span></div><div class=\"children hor wrap rtl\"><div class=\"contnr c0 trm rtl  \" ><div class=\"lbl c0 trm \" ><a class=\" txtu hbo\" target=\"_blank\" href=\"https://shebanq.ancient-data.org/hebrew/word?version=c&amp;id=1B\" title=\"Show this on SHEBANQ\"><span class=\"txtu hbo\">בְּ</span></a></div></div><div class=\"contnr c0 trm rtl  \" ><div class=\"lbl c0 trm \" ><a class=\" txtu hbo\" target=\"_blank\" href=\"https://shebanq.ancient-data.org/hebrew/word?version=c&amp;id=1RACJTn\" title=\"Show this on SHEBANQ\"><span class=\"txtu hbo\">רֵאשִׁ֖ית </span></a></div></div></div></div></div>"
      ],
      "text/plain": [
       "<IPython.core.display.HTML object>"
      ]
     },
     "metadata": {},
     "output_type": "display_data"
    }
   ],
   "source": [
    "A.pretty(pa, highlights={p, pa})\n",
    "A.pretty(pa, highlights={p, pa}, showHidden=True)"
   ]
  },
  {
   "cell_type": "code",
   "execution_count": 43,
   "metadata": {},
   "outputs": [
    {
     "data": {
      "text/html": [
       "<span class=\"section ltr\"><a target=\"_blank\" href=\"https://shebanq.ancient-data.org/hebrew/text?book=Genesis&amp;chapter=1&amp;verse=1&amp;version=c&amp;mr=m&amp;qw=q&amp;tp=txt_p&amp;tr=hb&amp;wget=v&amp;qget=v&amp;nget=vt\" title=\"Show this on SHEBANQ\" sec=\"Genesis 1:1\">Genesis 1:1</a></span><div class=\"rtl children\"><div class=\"contnr c1  rtl  hl\" ><div class=\"lbl c1  hl\" ><span class=\"nd\">phrase_atom</span></div><div class=\"children hor wrap rtl\"><div class=\"contnr c0 trm rtl  \" ><div class=\"lbl c0 trm \" ><a class=\" txtu hbo\" target=\"_blank\" href=\"https://shebanq.ancient-data.org/hebrew/word?version=c&amp;id=1B\" title=\"Show this on SHEBANQ\"><span class=\"txtu hbo\">בְּ</span></a></div></div><div class=\"contnr c0 trm rtl  \" ><div class=\"lbl c0 trm \" ><a class=\" txtu hbo\" target=\"_blank\" href=\"https://shebanq.ancient-data.org/hebrew/word?version=c&amp;id=1RACJTn\" title=\"Show this on SHEBANQ\"><span class=\"txtu hbo\">רֵאשִׁ֖ית </span></a></div></div></div></div></div>"
      ],
      "text/plain": [
       "<IPython.core.display.HTML object>"
      ]
     },
     "metadata": {},
     "output_type": "display_data"
    },
    {
     "data": {
      "text/html": [
       "<span class=\"section ltr\"><a target=\"_blank\" href=\"https://shebanq.ancient-data.org/hebrew/text?book=Genesis&amp;chapter=1&amp;verse=1&amp;version=c&amp;mr=m&amp;qw=q&amp;tp=txt_p&amp;tr=hb&amp;wget=v&amp;qget=v&amp;nget=vt\" title=\"Show this on SHEBANQ\" sec=\"Genesis 1:1\">Genesis 1:1</a></span><div class=\"rtl children\"><div class=\"contnr c1  rtl  hl\" ><div class=\"lbl c1  hl\" ><span class=\"nd\">phrase_atom</span></div><div class=\"children hor wrap rtl\"><div class=\"contnr c0 trm rtl  \" ><div class=\"lbl c0 trm \" ><a class=\" txtu hbo\" target=\"_blank\" href=\"https://shebanq.ancient-data.org/hebrew/word?version=c&amp;id=1B\" title=\"Show this on SHEBANQ\"><span class=\"txtu hbo\">בְּ</span></a></div></div><div class=\"contnr c0 trm rtl  \" ><div class=\"lbl c0 trm \" ><a class=\" txtu hbo\" target=\"_blank\" href=\"https://shebanq.ancient-data.org/hebrew/word?version=c&amp;id=1RACJTn\" title=\"Show this on SHEBANQ\"><span class=\"txtu hbo\">רֵאשִׁ֖ית </span></a></div></div></div></div></div>"
      ],
      "text/plain": [
       "<IPython.core.display.HTML object>"
      ]
     },
     "metadata": {},
     "output_type": "display_data"
    }
   ],
   "source": [
    "A.pretty(pa, highlights={pa})\n",
    "A.pretty(pa, highlights={pa}, showHidden=True)"
   ]
  },
  {
   "cell_type": "code",
   "execution_count": 44,
   "metadata": {},
   "outputs": [
    {
     "data": {
      "text/html": [
       "<span class=\"section ltr\"><a target=\"_blank\" href=\"https://shebanq.ancient-data.org/hebrew/text?book=Genesis&amp;chapter=1&amp;verse=1&amp;version=c&amp;mr=m&amp;qw=q&amp;tp=txt_p&amp;tr=hb&amp;wget=v&amp;qget=v&amp;nget=vt\" title=\"Show this on SHEBANQ\" sec=\"Genesis 1:1\">Genesis 1:1</a></span><div class=\"rtl children\"><div class=\"contnr c1  rtl  \" ><div class=\"lbl c1  \" ><span class=\"nd\">phrase_atom</span></div><div class=\"children hor wrap rtl\"><div class=\"contnr c0 trm rtl  \" ><div class=\"lbl c0 trm \" ><a class=\" txtu hbo\" target=\"_blank\" href=\"https://shebanq.ancient-data.org/hebrew/word?version=c&amp;id=1B\" title=\"Show this on SHEBANQ\"><span class=\"txtu hbo\">בְּ</span></a></div></div><div class=\"contnr c0 trm rtl  \" ><div class=\"lbl c0 trm \" ><a class=\" txtu hbo\" target=\"_blank\" href=\"https://shebanq.ancient-data.org/hebrew/word?version=c&amp;id=1RACJTn\" title=\"Show this on SHEBANQ\"><span class=\"txtu hbo\">רֵאשִׁ֖ית </span></a></div></div></div></div></div>"
      ],
      "text/plain": [
       "<IPython.core.display.HTML object>"
      ]
     },
     "metadata": {},
     "output_type": "display_data"
    },
    {
     "data": {
      "text/html": [
       "<span class=\"section ltr\"><a target=\"_blank\" href=\"https://shebanq.ancient-data.org/hebrew/text?book=Genesis&amp;chapter=1&amp;verse=1&amp;version=c&amp;mr=m&amp;qw=q&amp;tp=txt_p&amp;tr=hb&amp;wget=v&amp;qget=v&amp;nget=vt\" title=\"Show this on SHEBANQ\" sec=\"Genesis 1:1\">Genesis 1:1</a></span><div class=\"rtl children\"><div class=\"contnr c1  rtl  \" ><div class=\"lbl c1  \" ><span class=\"nd\">phrase_atom</span></div><div class=\"children hor wrap rtl\"><div class=\"contnr c0 trm rtl  \" ><div class=\"lbl c0 trm \" ><a class=\" txtu hbo\" target=\"_blank\" href=\"https://shebanq.ancient-data.org/hebrew/word?version=c&amp;id=1B\" title=\"Show this on SHEBANQ\"><span class=\"txtu hbo\">בְּ</span></a></div></div><div class=\"contnr c0 trm rtl  \" ><div class=\"lbl c0 trm \" ><a class=\" txtu hbo\" target=\"_blank\" href=\"https://shebanq.ancient-data.org/hebrew/word?version=c&amp;id=1RACJTn\" title=\"Show this on SHEBANQ\"><span class=\"txtu hbo\">רֵאשִׁ֖ית </span></a></div></div></div></div></div>"
      ],
      "text/plain": [
       "<IPython.core.display.HTML object>"
      ]
     },
     "metadata": {},
     "output_type": "display_data"
    }
   ],
   "source": [
    "A.pretty(pa, highlights={p})\n",
    "A.pretty(pa, highlights={p}, showHidden=True)"
   ]
  },
  {
   "cell_type": "markdown",
   "metadata": {},
   "source": [
    "# Highlights"
   ]
  },
  {
   "cell_type": "code",
   "execution_count": 45,
   "metadata": {},
   "outputs": [],
   "source": [
    "cl = 435509\n",
    "ph = 675481\n",
    "w = 38625\n",
    "\n",
    "highlights = {ph, w}"
   ]
  },
  {
   "cell_type": "code",
   "execution_count": 46,
   "metadata": {},
   "outputs": [
    {
     "data": {
      "text/html": [
       "<span class=\"section ltr\"><a target=\"_blank\" href=\"https://shebanq.ancient-data.org/hebrew/text?book=Exodus&amp;chapter=18&amp;verse=8&amp;version=c&amp;mr=m&amp;qw=q&amp;tp=txt_p&amp;tr=hb&amp;wget=v&amp;qget=v&amp;nget=vt\" title=\"Show this on SHEBANQ\" sec=\"Exodus 18:8\">Exodus 18:8</a></span><div class=\"rtl children\"><div class=\"contnr c2  rtl  \" ><div class=\"lbl c2  \" ><span class=\"nd\">clause:435509</span></div><div class=\"children hor wrap rtl\"><div class=\"contnr c1  rtl  hl\" ><div class=\"lbl c1  hl\" ><span class=\"nd\">phrase:675481</span></div><div class=\"children hor wrap rtl\"><div class=\"contnr c0 trm rtl  \" ><div class=\"lbl c0 trm \" ><span class=\"nd\">38622</span> <a class=\" txtu hbo\" target=\"_blank\" href=\"https://shebanq.ancient-data.org/hebrew/word?version=c&amp;id=1AT\" title=\"Show this on SHEBANQ\"><span class=\"txtu hbo\">אֵ֤ת </span></a></div></div><div class=\"contnr c1  rtl  \" ><div class=\"lbl c1  \" ><span class=\"nd\">subphrase:1310018</span></div><div class=\"children hor wrap rtl\"><div class=\"contnr c0 trm rtl  \" ><div class=\"lbl c0 trm \" ><span class=\"nd\">38623</span> <a class=\" txtu hbo\" target=\"_blank\" href=\"https://shebanq.ancient-data.org/hebrew/word?version=c&amp;id=1KLn\" title=\"Show this on SHEBANQ\"><span class=\"txtu hbo\">כָּל־</span></a></div></div></div></div><div class=\"contnr c1  rtl  \" ><div class=\"lbl c1  \" ><span class=\"nd\">subphrase:1310019</span></div><div class=\"children hor wrap rtl\"><div class=\"contnr c0 trm rtl  \" ><div class=\"lbl c0 trm \" ><span class=\"nd\">38624</span> <a class=\" txtu hbo\" target=\"_blank\" href=\"https://shebanq.ancient-data.org/hebrew/word?version=c&amp;id=1H\" title=\"Show this on SHEBANQ\"><span class=\"txtu hbo\">הַ</span></a></div></div><div class=\"contnr c0 trm rtl  hl\" ><div class=\"lbl c0 trm hl\" ><span class=\"nd\">38625</span> <a class=\" txtu hbo\" target=\"_blank\" href=\"https://shebanq.ancient-data.org/hebrew/word?version=c&amp;id=1TLAHn\" title=\"Show this on SHEBANQ\"><span class=\"txtu hbo\">תְּלָאָה֙ </span></a></div></div></div></div></div></div></div></div></div>"
      ],
      "text/plain": [
       "<IPython.core.display.HTML object>"
      ]
     },
     "metadata": {},
     "output_type": "display_data"
    }
   ],
   "source": [
    "A.pretty(cl, highlights=highlights, withNodes=True)"
   ]
  },
  {
   "cell_type": "code",
   "execution_count": 47,
   "metadata": {},
   "outputs": [
    {
     "data": {
      "text/html": [
       "<span class=\"section ltr\"><a target=\"_blank\" href=\"https://shebanq.ancient-data.org/hebrew/text?book=Exodus&amp;chapter=18&amp;verse=8&amp;version=c&amp;mr=m&amp;qw=q&amp;tp=txt_p&amp;tr=hb&amp;wget=v&amp;qget=v&amp;nget=vt\" title=\"Show this on SHEBANQ\" sec=\"Exodus 18:8\">Exodus 18:8</a></span><div class=\"rtl children\"><div class=\"contnr c2  rtl  \" ><div class=\"lbl c2  \" ><span class=\"nd\">clause:435509</span></div><div class=\"children hor wrap rtl\"><div class=\"contnr c1  rtl  hl\" ><div class=\"lbl c1  hl\" ><span class=\"nd\">phrase:675481</span> <span class=\"\"><span class=\"plain  rtl  hl\" ><span class=\"plain  rtl\"></span><span class=\"plain  rtl  \" ><span class=\"txtu hbo\">אֵ֤ת </span></span><span class=\"plain  rtl  \" ><span class=\"plain  rtl\"></span><span class=\"plain  rtl  \" ><span class=\"txtu hbo\">כָּל־</span></span></span><span class=\"plain  rtl  \" ><span class=\"plain  rtl\"></span><span class=\"plain  rtl  \" ><span class=\"txtu hbo\">הַ</span></span><span class=\"plain  rtl  hl\" ><span class=\"nd\">38625</span><span class=\"txtu hbo\">תְּלָאָה֙ </span></span></span></span></span></div></div></div></div></div>"
      ],
      "text/plain": [
       "<IPython.core.display.HTML object>"
      ]
     },
     "metadata": {},
     "output_type": "display_data"
    }
   ],
   "source": [
    "A.pretty(cl, highlights=highlights, baseTypes={\"phrase\"}, withNodes=True)"
   ]
  },
  {
   "cell_type": "code",
   "execution_count": 48,
   "metadata": {},
   "outputs": [
    {
     "data": {
      "text/html": [
       "<div class=\"rtl children\"><span class=\"section ltr\"><a target=\"_blank\" href=\"https://shebanq.ancient-data.org/hebrew/text?book=Exodus&amp;chapter=18&amp;verse=8&amp;version=c&amp;mr=m&amp;qw=q&amp;tp=txt_p&amp;tr=hb&amp;wget=v&amp;qget=v&amp;nget=vt\" title=\"Show this on SHEBANQ\" sec=\"Exodus 18:8\">Exodus 18:8</a></span> <span class=\"plain outer rtl  hlbx\" ><span class=\"plain  rtl\"></span><span class=\"plain  rtl  \" ><span class=\"txtu hbo\">אֵ֤ת </span></span><span class=\"plain  rtl  \" ><span class=\"plain  rtl\"></span><span class=\"plain  rtl  \" ><span class=\"txtu hbo\">כָּל־</span></span></span><span class=\"plain  rtl  \" ><span class=\"plain  rtl\"></span><span class=\"plain  rtl  \" ><span class=\"txtu hbo\">הַ</span></span><span class=\"plain  rtl  hl\" ><span class=\"txtu hbo\">תְּלָאָה֙ </span></span></span></span></div>"
      ],
      "text/plain": [
       "<IPython.core.display.HTML object>"
      ]
     },
     "metadata": {},
     "output_type": "display_data"
    }
   ],
   "source": [
    "A.plain(ph, highlights=highlights)"
   ]
  },
  {
   "cell_type": "code",
   "execution_count": 49,
   "metadata": {},
   "outputs": [
    {
     "data": {
      "text/html": [
       "<div class=\"rtl children\"><span class=\"section ltr\"><a target=\"_blank\" href=\"https://shebanq.ancient-data.org/hebrew/text?book=Exodus&amp;chapter=18&amp;verse=8&amp;version=c&amp;mr=m&amp;qw=q&amp;tp=txt_p&amp;tr=hb&amp;wget=v&amp;qget=v&amp;nget=vt\" title=\"Show this on SHEBANQ\" sec=\"Exodus 18:8\">Exodus 18:8</a></span> <span class=\"plain outer rtl  hl\" ><span class=\"nd\">675481</span><span class=\"plain  rtl\"></span><span class=\"plain  rtl  \" ><span class=\"txtu hbo\">אֵ֤ת </span></span><span class=\"plain  rtl  \" ><span class=\"plain  rtl\"></span><span class=\"plain  rtl  \" ><span class=\"txtu hbo\">כָּל־</span></span></span><span class=\"plain  rtl  \" ><span class=\"plain  rtl\"></span><span class=\"plain  rtl  \" ><span class=\"txtu hbo\">הַ</span></span><span class=\"plain  rtl  hlbx\" ><span class=\"nd\">38625</span><span class=\"txtu hbo\">תְּלָאָה֙ </span></span></span></span></div>"
      ],
      "text/plain": [
       "<IPython.core.display.HTML object>"
      ]
     },
     "metadata": {},
     "output_type": "display_data"
    }
   ],
   "source": [
    "A.plain(ph, highlights=highlights, baseTypes={\"phrase\"}, withNodes=True)"
   ]
  },
  {
   "cell_type": "code",
   "execution_count": 50,
   "metadata": {},
   "outputs": [
    {
     "data": {
      "text/markdown": [
       "### book 426585\n"
      ],
      "text/plain": [
       "<IPython.core.display.Markdown object>"
      ]
     },
     "metadata": {},
     "output_type": "display_data"
    },
    {
     "data": {
      "text/html": [
       "<div class=\"rtl children\"><span class=\"section ltr\"><a target=\"_blank\" href=\"https://shebanq.ancient-data.org/hebrew/text?book=Genesis&amp;chapter=1&amp;verse=1&amp;version=c&amp;mr=m&amp;qw=q&amp;tp=txt_p&amp;tr=hb&amp;wget=v&amp;qget=v&amp;nget=vt\" title=\"Show this on SHEBANQ\" sec=\"Genesis\">Genesis</a></span> <span class=\"plain outer rtl  \" ><span class=\"plain txtu hbo rtl\"><span class=\"section\"> </span></span></span></div>"
      ],
      "text/plain": [
       "<IPython.core.display.HTML object>"
      ]
     },
     "metadata": {},
     "output_type": "display_data"
    },
    {
     "data": {
      "text/html": [
       "<span class=\"section ltr\"><a target=\"_blank\" href=\"https://shebanq.ancient-data.org/hebrew/text?book=Genesis&amp;chapter=1&amp;verse=1&amp;version=c&amp;mr=m&amp;qw=q&amp;tp=txt_p&amp;tr=hb&amp;wget=v&amp;qget=v&amp;nget=vt\" title=\"Show this on SHEBANQ\" sec=\"Genesis\">Genesis</a></span><div class=\"rtl children\"><div class=\"contnr c4 trm rtl  \" ><div class=\"lbl c4 trm \" ><span class=\"nd\">book</span> <span class=\"txtu hbo\"><span class=\"section\">Genesis</span></span></div></div></div>"
      ],
      "text/plain": [
       "<IPython.core.display.HTML object>"
      ]
     },
     "metadata": {},
     "output_type": "display_data"
    },
    {
     "data": {
      "text/markdown": [
       "### chapter 426624\n"
      ],
      "text/plain": [
       "<IPython.core.display.Markdown object>"
      ]
     },
     "metadata": {},
     "output_type": "display_data"
    },
    {
     "data": {
      "text/html": [
       "<div class=\"rtl children\"><span class=\"section ltr\"><a target=\"_blank\" href=\"https://shebanq.ancient-data.org/hebrew/text?book=Genesis&amp;chapter=1&amp;verse=1&amp;version=c&amp;mr=m&amp;qw=q&amp;tp=txt_p&amp;tr=hb&amp;wget=v&amp;qget=v&amp;nget=vt\" title=\"Show this on SHEBANQ\" sec=\"Genesis 1\">Genesis 1</a></span> <span class=\"plain outer rtl  \" ><span class=\"plain txtu hbo rtl\"><span class=\"section\"> </span></span></span></div>"
      ],
      "text/plain": [
       "<IPython.core.display.HTML object>"
      ]
     },
     "metadata": {},
     "output_type": "display_data"
    },
    {
     "data": {
      "text/html": [
       "<span class=\"section ltr\"><a target=\"_blank\" href=\"https://shebanq.ancient-data.org/hebrew/text?book=Genesis&amp;chapter=1&amp;verse=1&amp;version=c&amp;mr=m&amp;qw=q&amp;tp=txt_p&amp;tr=hb&amp;wget=v&amp;qget=v&amp;nget=vt\" title=\"Show this on SHEBANQ\" sec=\"Genesis 1\">Genesis 1</a></span><div class=\"rtl children\"><div class=\"contnr c4 trm rtl  \" ><div class=\"lbl c4 trm \" ><span class=\"nd\">chapter</span> <span class=\"txtu hbo\"><span class=\"section\">Genesis 1</span></span></div></div></div>"
      ],
      "text/plain": [
       "<IPython.core.display.HTML object>"
      ]
     },
     "metadata": {},
     "output_type": "display_data"
    },
    {
     "data": {
      "text/markdown": [
       "### lex 1437567\n"
      ],
      "text/plain": [
       "<IPython.core.display.Markdown object>"
      ]
     },
     "metadata": {},
     "output_type": "display_data"
    },
    {
     "data": {
      "text/html": [
       "<div class=\"rtl children\"><span class=\"section ltr\"><a class=\" txtu hbo\" target=\"_blank\" href=\"https://shebanq.ancient-data.org/hebrew/word?version=c&amp;id=1B\" title=\"Show this on SHEBANQ\"><span title=\"voc_lex_utf8\">בְּ</span></a></span> <span class=\"plain outer rtl  \" ><span class=\"plain txtu hbo rtl\"></span></span></div>"
      ],
      "text/plain": [
       "<IPython.core.display.HTML object>"
      ]
     },
     "metadata": {},
     "output_type": "display_data"
    },
    {
     "data": {
      "text/html": [
       "<span class=\"section ltr\"><a class=\" txtu hbo\" target=\"_blank\" href=\"https://shebanq.ancient-data.org/hebrew/word?version=c&amp;id=1B\" title=\"Show this on SHEBANQ\"><span title=\"voc_lex_utf8\">בְּ</span></a></span><div class=\"rtl children\"><div class=\"contnr c0 trm rtl  \" ><div class=\"lbl c0 trm \" ><span class=\"nd\">lex</span></div><div class=\"occs\"><a target=\"_blank\" href=\"https://shebanq.ancient-data.org/hebrew/text?book=Genesis&amp;chapter=1&amp;verse=1&amp;version=c&amp;mr=m&amp;qw=q&amp;tp=txt_p&amp;tr=hb&amp;wget=v&amp;qget=v&amp;nget=vt\" title=\"Show this on SHEBANQ\" sec=\"Genesis 1:1\">Genesis 1:1</a> - <a target=\"_blank\" href=\"https://shebanq.ancient-data.org/hebrew/text?book=Chronica_II&amp;chapter=36&amp;verse=23&amp;version=c&amp;mr=m&amp;qw=q&amp;tp=txt_p&amp;tr=hb&amp;wget=v&amp;qget=v&amp;nget=vt\" title=\"Show this on SHEBANQ\" sec=\"2_Chronicles 36:23\">2_Chronicles 36:23</a></div></div></div>"
      ],
      "text/plain": [
       "<IPython.core.display.HTML object>"
      ]
     },
     "metadata": {},
     "output_type": "display_data"
    },
    {
     "data": {
      "text/markdown": [
       "### verse 1414354\n"
      ],
      "text/plain": [
       "<IPython.core.display.Markdown object>"
      ]
     },
     "metadata": {},
     "output_type": "display_data"
    },
    {
     "data": {
      "text/html": [
       "<div class=\"rtl children\"><span class=\"section ltr\"><a target=\"_blank\" href=\"https://shebanq.ancient-data.org/hebrew/text?book=Genesis&amp;chapter=1&amp;verse=1&amp;version=c&amp;mr=m&amp;qw=q&amp;tp=txt_p&amp;tr=hb&amp;wget=v&amp;qget=v&amp;nget=vt\" title=\"Show this on SHEBANQ\" sec=\"Genesis 1:1\">Genesis 1:1</a></span> <span class=\"plain outer rtl  \" ><span class=\"plain txtu hbo rtl\"></span><span class=\"plain  rtl  \" ><span class=\"plain  rtl\"></span><span class=\"plain  rtl  \" ><span class=\"plain  rtl\"></span><span class=\"plain  rtl  \" ><span class=\"plain  rtl\"></span><span class=\"plain  rtl  \" ><span class=\"txtu hbo\">בְּ</span></span><span class=\"plain  rtl  \" ><span class=\"txtu hbo\">רֵאשִׁ֖ית </span></span></span><span class=\"plain  rtl  \" ><span class=\"plain  rtl\"></span><span class=\"plain  rtl  \" ><span class=\"txtu hbo\">בָּרָ֣א </span></span></span><span class=\"plain  rtl  \" ><span class=\"plain  rtl\"></span><span class=\"plain  rtl  \" ><span class=\"txtu hbo\">אֱלֹהִ֑ים </span></span></span><span class=\"plain  rtl  \" ><span class=\"plain  rtl\"></span><span class=\"plain  rtl  \" ><span class=\"plain  rtl\"></span><span class=\"plain  rtl  \" ><span class=\"txtu hbo\">אֵ֥ת </span></span><span class=\"plain  rtl  \" ><span class=\"txtu hbo\">הַ</span></span><span class=\"plain  rtl  \" ><span class=\"txtu hbo\">שָּׁמַ֖יִם </span></span></span><span class=\"plain  rtl  \" ><span class=\"txtu hbo\">וְ</span></span><span class=\"plain  rtl  \" ><span class=\"plain  rtl\"></span><span class=\"plain  rtl  \" ><span class=\"txtu hbo\">אֵ֥ת </span></span><span class=\"plain  rtl  \" ><span class=\"txtu hbo\">הָ</span></span><span class=\"plain  rtl  \" ><span class=\"txtu hbo\">אָֽרֶץ׃ </span></span></span></span></span></span></span></div>"
      ],
      "text/plain": [
       "<IPython.core.display.HTML object>"
      ]
     },
     "metadata": {},
     "output_type": "display_data"
    },
    {
     "data": {
      "text/html": [
       "<span class=\"section ltr\"><a target=\"_blank\" href=\"https://shebanq.ancient-data.org/hebrew/text?book=Genesis&amp;chapter=1&amp;verse=1&amp;version=c&amp;mr=m&amp;qw=q&amp;tp=txt_p&amp;tr=hb&amp;wget=v&amp;qget=v&amp;nget=vt\" title=\"Show this on SHEBANQ\" sec=\"Genesis 1:1\">Genesis 1:1</a></span><div class=\"rtl children\"><div class=\"contnr c3  rtl  \" ><div class=\"lbl c3  \" ><span class=\"nd\">verse</span></div><div class=\"children hor wrap rtl\"><div class=\"contnr c2  rtl  \" ><div class=\"lbl c2  \" ><span class=\"nd\">sentence</span></div><div class=\"children hor wrap rtl\"><div class=\"contnr c2  rtl  \" ><div class=\"lbl c2  \" ><span class=\"nd\">clause</span></div><div class=\"children hor wrap rtl\"><div class=\"contnr c1  rtl  \" ><div class=\"lbl c1  \" ><span class=\"nd\">phrase</span></div><div class=\"children hor wrap rtl\"><div class=\"contnr c0 trm rtl  \" ><div class=\"lbl c0 trm \" ><a class=\" txtu hbo\" target=\"_blank\" href=\"https://shebanq.ancient-data.org/hebrew/word?version=c&amp;id=1B\" title=\"Show this on SHEBANQ\"><span class=\"txtu hbo\">בְּ</span></a></div></div><div class=\"contnr c0 trm rtl  \" ><div class=\"lbl c0 trm \" ><a class=\" txtu hbo\" target=\"_blank\" href=\"https://shebanq.ancient-data.org/hebrew/word?version=c&amp;id=1RACJTn\" title=\"Show this on SHEBANQ\"><span class=\"txtu hbo\">רֵאשִׁ֖ית </span></a></div></div></div></div><div class=\"contnr c1  rtl  \" ><div class=\"lbl c1  \" ><span class=\"nd\">phrase</span></div><div class=\"children hor wrap rtl\"><div class=\"contnr c0 trm rtl  \" ><div class=\"lbl c0 trm \" ><a class=\" txtu hbo\" target=\"_blank\" href=\"https://shebanq.ancient-data.org/hebrew/word?version=c&amp;id=1BRAv\" title=\"Show this on SHEBANQ\"><span class=\"txtu hbo\">בָּרָ֣א </span></a></div></div></div></div><div class=\"contnr c1  rtl  \" ><div class=\"lbl c1  \" ><span class=\"nd\">phrase</span></div><div class=\"children hor wrap rtl\"><div class=\"contnr c0 trm rtl  \" ><div class=\"lbl c0 trm \" ><a class=\" txtu hbo\" target=\"_blank\" href=\"https://shebanq.ancient-data.org/hebrew/word?version=c&amp;id=1ALHJMn\" title=\"Show this on SHEBANQ\"><span class=\"txtu hbo\">אֱלֹהִ֑ים </span></a></div></div></div></div><div class=\"contnr c1  rtl  \" ><div class=\"lbl c1  \" ><span class=\"nd\">phrase</span></div><div class=\"children hor wrap rtl\"><div class=\"contnr c1  rtl  \" ><div class=\"lbl c1  \" ><span class=\"nd\">subphrase</span></div><div class=\"children hor wrap rtl\"><div class=\"contnr c0 trm rtl  \" ><div class=\"lbl c0 trm \" ><a class=\" txtu hbo\" target=\"_blank\" href=\"https://shebanq.ancient-data.org/hebrew/word?version=c&amp;id=1AT\" title=\"Show this on SHEBANQ\"><span class=\"txtu hbo\">אֵ֥ת </span></a></div></div><div class=\"contnr c0 trm rtl  \" ><div class=\"lbl c0 trm \" ><a class=\" txtu hbo\" target=\"_blank\" href=\"https://shebanq.ancient-data.org/hebrew/word?version=c&amp;id=1H\" title=\"Show this on SHEBANQ\"><span class=\"txtu hbo\">הַ</span></a></div></div><div class=\"contnr c0 trm rtl  \" ><div class=\"lbl c0 trm \" ><a class=\" txtu hbo\" target=\"_blank\" href=\"https://shebanq.ancient-data.org/hebrew/word?version=c&amp;id=1CMJMn\" title=\"Show this on SHEBANQ\"><span class=\"txtu hbo\">שָּׁמַ֖יִם </span></a></div></div></div></div><div class=\"contnr c0 trm rtl  \" ><div class=\"lbl c0 trm \" ><a class=\" txtu hbo\" target=\"_blank\" href=\"https://shebanq.ancient-data.org/hebrew/word?version=c&amp;id=1W\" title=\"Show this on SHEBANQ\"><span class=\"txtu hbo\">וְ</span></a></div></div><div class=\"contnr c1  rtl  \" ><div class=\"lbl c1  \" ><span class=\"nd\">subphrase</span></div><div class=\"children hor wrap rtl\"><div class=\"contnr c0 trm rtl  \" ><div class=\"lbl c0 trm \" ><a class=\" txtu hbo\" target=\"_blank\" href=\"https://shebanq.ancient-data.org/hebrew/word?version=c&amp;id=1AT\" title=\"Show this on SHEBANQ\"><span class=\"txtu hbo\">אֵ֥ת </span></a></div></div><div class=\"contnr c0 trm rtl  \" ><div class=\"lbl c0 trm \" ><a class=\" txtu hbo\" target=\"_blank\" href=\"https://shebanq.ancient-data.org/hebrew/word?version=c&amp;id=1H\" title=\"Show this on SHEBANQ\"><span class=\"txtu hbo\">הָ</span></a></div></div><div class=\"contnr c0 trm rtl  \" ><div class=\"lbl c0 trm \" ><a class=\" txtu hbo\" target=\"_blank\" href=\"https://shebanq.ancient-data.org/hebrew/word?version=c&amp;id=1ARYn\" title=\"Show this on SHEBANQ\"><span class=\"txtu hbo\">אָֽרֶץ׃ </span></a></div></div></div></div></div></div></div></div></div></div></div></div></div>"
      ],
      "text/plain": [
       "<IPython.core.display.HTML object>"
      ]
     },
     "metadata": {},
     "output_type": "display_data"
    },
    {
     "data": {
      "text/markdown": [
       "### half_verse 606362\n"
      ],
      "text/plain": [
       "<IPython.core.display.Markdown object>"
      ]
     },
     "metadata": {},
     "output_type": "display_data"
    },
    {
     "data": {
      "text/html": [
       "<div class=\"rtl children\"><span class=\"section ltr\"><a target=\"_blank\" href=\"https://shebanq.ancient-data.org/hebrew/text?book=Genesis&amp;chapter=1&amp;verse=1&amp;version=c&amp;mr=m&amp;qw=q&amp;tp=txt_p&amp;tr=hb&amp;wget=v&amp;qget=v&amp;nget=vt\" title=\"Show this on SHEBANQ\" sec=\"Genesis 1:1\">Genesis 1:1</a></span> <span class=\"plain outer rtl  \" ><span class=\"plain  rtl\"></span><span class=\"plain  rtl  \" ><span class=\"plain  rtl\"></span><span class=\"plain  rtl  \" ><span class=\"txtu hbo\">בְּ</span></span><span class=\"plain  rtl  \" ><span class=\"txtu hbo\">רֵאשִׁ֖ית </span></span></span><span class=\"plain  rtl  \" ><span class=\"plain  rtl\"></span><span class=\"plain  rtl  \" ><span class=\"txtu hbo\">בָּרָ֣א </span></span></span><span class=\"plain  rtl  \" ><span class=\"plain  rtl\"></span><span class=\"plain  rtl  \" ><span class=\"txtu hbo\">אֱלֹהִ֑ים </span></span></span></span></div>"
      ],
      "text/plain": [
       "<IPython.core.display.HTML object>"
      ]
     },
     "metadata": {},
     "output_type": "display_data"
    },
    {
     "data": {
      "text/html": [
       "<span class=\"section ltr\"><a target=\"_blank\" href=\"https://shebanq.ancient-data.org/hebrew/text?book=Genesis&amp;chapter=1&amp;verse=1&amp;version=c&amp;mr=m&amp;qw=q&amp;tp=txt_p&amp;tr=hb&amp;wget=v&amp;qget=v&amp;nget=vt\" title=\"Show this on SHEBANQ\" sec=\"Genesis 1:1\">Genesis 1:1</a></span><div class=\"rtl children\"><div class=\"contnr c3  rtl  \" ><div class=\"lbl c3  \" ><span class=\"nd\">half_verse</span></div><div class=\"children hor wrap rtl\"><div class=\"contnr c1  rtl  \" ><div class=\"lbl c1  \" ><span class=\"nd\">phrase</span></div><div class=\"children hor wrap rtl\"><div class=\"contnr c0 trm rtl  \" ><div class=\"lbl c0 trm \" ><a class=\" txtu hbo\" target=\"_blank\" href=\"https://shebanq.ancient-data.org/hebrew/word?version=c&amp;id=1B\" title=\"Show this on SHEBANQ\"><span class=\"txtu hbo\">בְּ</span></a></div></div><div class=\"contnr c0 trm rtl  \" ><div class=\"lbl c0 trm \" ><a class=\" txtu hbo\" target=\"_blank\" href=\"https://shebanq.ancient-data.org/hebrew/word?version=c&amp;id=1RACJTn\" title=\"Show this on SHEBANQ\"><span class=\"txtu hbo\">רֵאשִׁ֖ית </span></a></div></div></div></div><div class=\"contnr c1  rtl  \" ><div class=\"lbl c1  \" ><span class=\"nd\">phrase</span></div><div class=\"children hor wrap rtl\"><div class=\"contnr c0 trm rtl  \" ><div class=\"lbl c0 trm \" ><a class=\" txtu hbo\" target=\"_blank\" href=\"https://shebanq.ancient-data.org/hebrew/word?version=c&amp;id=1BRAv\" title=\"Show this on SHEBANQ\"><span class=\"txtu hbo\">בָּרָ֣א </span></a></div></div></div></div><div class=\"contnr c1  rtl  \" ><div class=\"lbl c1  \" ><span class=\"nd\">phrase</span></div><div class=\"children hor wrap rtl\"><div class=\"contnr c0 trm rtl  \" ><div class=\"lbl c0 trm \" ><a class=\" txtu hbo\" target=\"_blank\" href=\"https://shebanq.ancient-data.org/hebrew/word?version=c&amp;id=1ALHJMn\" title=\"Show this on SHEBANQ\"><span class=\"txtu hbo\">אֱלֹהִ֑ים </span></a></div></div></div></div></div></div></div>"
      ],
      "text/plain": [
       "<IPython.core.display.HTML object>"
      ]
     },
     "metadata": {},
     "output_type": "display_data"
    },
    {
     "data": {
      "text/markdown": [
       "### sentence 1172290\n"
      ],
      "text/plain": [
       "<IPython.core.display.Markdown object>"
      ]
     },
     "metadata": {},
     "output_type": "display_data"
    },
    {
     "data": {
      "text/html": [
       "<div class=\"rtl children\"><span class=\"section ltr\"><a target=\"_blank\" href=\"https://shebanq.ancient-data.org/hebrew/text?book=Genesis&amp;chapter=1&amp;verse=1&amp;version=c&amp;mr=m&amp;qw=q&amp;tp=txt_p&amp;tr=hb&amp;wget=v&amp;qget=v&amp;nget=vt\" title=\"Show this on SHEBANQ\" sec=\"Genesis 1:1\">Genesis 1:1</a></span> <span class=\"plain outer rtl  \" ><span class=\"plain  rtl\"></span><span class=\"plain  rtl  \" ><span class=\"plain  rtl\"></span><span class=\"plain  rtl  \" ><span class=\"plain  rtl\"></span><span class=\"plain  rtl  \" ><span class=\"txtu hbo\">בְּ</span></span><span class=\"plain  rtl  \" ><span class=\"txtu hbo\">רֵאשִׁ֖ית </span></span></span><span class=\"plain  rtl  \" ><span class=\"plain  rtl\"></span><span class=\"plain  rtl  \" ><span class=\"txtu hbo\">בָּרָ֣א </span></span></span><span class=\"plain  rtl  \" ><span class=\"plain  rtl\"></span><span class=\"plain  rtl  \" ><span class=\"txtu hbo\">אֱלֹהִ֑ים </span></span></span><span class=\"plain  rtl  \" ><span class=\"plain  rtl\"></span><span class=\"plain  rtl  \" ><span class=\"plain  rtl\"></span><span class=\"plain  rtl  \" ><span class=\"txtu hbo\">אֵ֥ת </span></span><span class=\"plain  rtl  \" ><span class=\"txtu hbo\">הַ</span></span><span class=\"plain  rtl  \" ><span class=\"txtu hbo\">שָּׁמַ֖יִם </span></span></span><span class=\"plain  rtl  \" ><span class=\"txtu hbo\">וְ</span></span><span class=\"plain  rtl  \" ><span class=\"plain  rtl\"></span><span class=\"plain  rtl  \" ><span class=\"txtu hbo\">אֵ֥ת </span></span><span class=\"plain  rtl  \" ><span class=\"txtu hbo\">הָ</span></span><span class=\"plain  rtl  \" ><span class=\"txtu hbo\">אָֽרֶץ׃ </span></span></span></span></span></span></div>"
      ],
      "text/plain": [
       "<IPython.core.display.HTML object>"
      ]
     },
     "metadata": {},
     "output_type": "display_data"
    },
    {
     "data": {
      "text/html": [
       "<span class=\"section ltr\"><a target=\"_blank\" href=\"https://shebanq.ancient-data.org/hebrew/text?book=Genesis&amp;chapter=1&amp;verse=1&amp;version=c&amp;mr=m&amp;qw=q&amp;tp=txt_p&amp;tr=hb&amp;wget=v&amp;qget=v&amp;nget=vt\" title=\"Show this on SHEBANQ\" sec=\"Genesis 1:1\">Genesis 1:1</a></span><div class=\"rtl children\"><div class=\"contnr c2  rtl  \" ><div class=\"lbl c2  \" ><span class=\"nd\">sentence</span></div><div class=\"children hor wrap rtl\"><div class=\"contnr c2  rtl  \" ><div class=\"lbl c2  \" ><span class=\"nd\">clause</span></div><div class=\"children hor wrap rtl\"><div class=\"contnr c1  rtl  \" ><div class=\"lbl c1  \" ><span class=\"nd\">phrase</span></div><div class=\"children hor wrap rtl\"><div class=\"contnr c0 trm rtl  \" ><div class=\"lbl c0 trm \" ><a class=\" txtu hbo\" target=\"_blank\" href=\"https://shebanq.ancient-data.org/hebrew/word?version=c&amp;id=1B\" title=\"Show this on SHEBANQ\"><span class=\"txtu hbo\">בְּ</span></a></div></div><div class=\"contnr c0 trm rtl  \" ><div class=\"lbl c0 trm \" ><a class=\" txtu hbo\" target=\"_blank\" href=\"https://shebanq.ancient-data.org/hebrew/word?version=c&amp;id=1RACJTn\" title=\"Show this on SHEBANQ\"><span class=\"txtu hbo\">רֵאשִׁ֖ית </span></a></div></div></div></div><div class=\"contnr c1  rtl  \" ><div class=\"lbl c1  \" ><span class=\"nd\">phrase</span></div><div class=\"children hor wrap rtl\"><div class=\"contnr c0 trm rtl  \" ><div class=\"lbl c0 trm \" ><a class=\" txtu hbo\" target=\"_blank\" href=\"https://shebanq.ancient-data.org/hebrew/word?version=c&amp;id=1BRAv\" title=\"Show this on SHEBANQ\"><span class=\"txtu hbo\">בָּרָ֣א </span></a></div></div></div></div><div class=\"contnr c1  rtl  \" ><div class=\"lbl c1  \" ><span class=\"nd\">phrase</span></div><div class=\"children hor wrap rtl\"><div class=\"contnr c0 trm rtl  \" ><div class=\"lbl c0 trm \" ><a class=\" txtu hbo\" target=\"_blank\" href=\"https://shebanq.ancient-data.org/hebrew/word?version=c&amp;id=1ALHJMn\" title=\"Show this on SHEBANQ\"><span class=\"txtu hbo\">אֱלֹהִ֑ים </span></a></div></div></div></div><div class=\"contnr c1  rtl  \" ><div class=\"lbl c1  \" ><span class=\"nd\">phrase</span></div><div class=\"children hor wrap rtl\"><div class=\"contnr c1  rtl  \" ><div class=\"lbl c1  \" ><span class=\"nd\">subphrase</span></div><div class=\"children hor wrap rtl\"><div class=\"contnr c0 trm rtl  \" ><div class=\"lbl c0 trm \" ><a class=\" txtu hbo\" target=\"_blank\" href=\"https://shebanq.ancient-data.org/hebrew/word?version=c&amp;id=1AT\" title=\"Show this on SHEBANQ\"><span class=\"txtu hbo\">אֵ֥ת </span></a></div></div><div class=\"contnr c0 trm rtl  \" ><div class=\"lbl c0 trm \" ><a class=\" txtu hbo\" target=\"_blank\" href=\"https://shebanq.ancient-data.org/hebrew/word?version=c&amp;id=1H\" title=\"Show this on SHEBANQ\"><span class=\"txtu hbo\">הַ</span></a></div></div><div class=\"contnr c0 trm rtl  \" ><div class=\"lbl c0 trm \" ><a class=\" txtu hbo\" target=\"_blank\" href=\"https://shebanq.ancient-data.org/hebrew/word?version=c&amp;id=1CMJMn\" title=\"Show this on SHEBANQ\"><span class=\"txtu hbo\">שָּׁמַ֖יִם </span></a></div></div></div></div><div class=\"contnr c0 trm rtl  \" ><div class=\"lbl c0 trm \" ><a class=\" txtu hbo\" target=\"_blank\" href=\"https://shebanq.ancient-data.org/hebrew/word?version=c&amp;id=1W\" title=\"Show this on SHEBANQ\"><span class=\"txtu hbo\">וְ</span></a></div></div><div class=\"contnr c1  rtl  \" ><div class=\"lbl c1  \" ><span class=\"nd\">subphrase</span></div><div class=\"children hor wrap rtl\"><div class=\"contnr c0 trm rtl  \" ><div class=\"lbl c0 trm \" ><a class=\" txtu hbo\" target=\"_blank\" href=\"https://shebanq.ancient-data.org/hebrew/word?version=c&amp;id=1AT\" title=\"Show this on SHEBANQ\"><span class=\"txtu hbo\">אֵ֥ת </span></a></div></div><div class=\"contnr c0 trm rtl  \" ><div class=\"lbl c0 trm \" ><a class=\" txtu hbo\" target=\"_blank\" href=\"https://shebanq.ancient-data.org/hebrew/word?version=c&amp;id=1H\" title=\"Show this on SHEBANQ\"><span class=\"txtu hbo\">הָ</span></a></div></div><div class=\"contnr c0 trm rtl  \" ><div class=\"lbl c0 trm \" ><a class=\" txtu hbo\" target=\"_blank\" href=\"https://shebanq.ancient-data.org/hebrew/word?version=c&amp;id=1ARYn\" title=\"Show this on SHEBANQ\"><span class=\"txtu hbo\">אָֽרֶץ׃ </span></a></div></div></div></div></div></div></div></div></div></div></div>"
      ],
      "text/plain": [
       "<IPython.core.display.HTML object>"
      ]
     },
     "metadata": {},
     "output_type": "display_data"
    },
    {
     "data": {
      "text/markdown": [
       "### sentence_atom 1236017\n"
      ],
      "text/plain": [
       "<IPython.core.display.Markdown object>"
      ]
     },
     "metadata": {},
     "output_type": "display_data"
    },
    {
     "data": {
      "text/html": [
       "<div class=\"rtl children\"><span class=\"section ltr\"><a target=\"_blank\" href=\"https://shebanq.ancient-data.org/hebrew/text?book=Genesis&amp;chapter=1&amp;verse=1&amp;version=c&amp;mr=m&amp;qw=q&amp;tp=txt_p&amp;tr=hb&amp;wget=v&amp;qget=v&amp;nget=vt\" title=\"Show this on SHEBANQ\" sec=\"Genesis 1:1\">Genesis 1:1</a></span> <span class=\"plain outer rtl  \" ><span class=\"plain  rtl\"></span><span class=\"plain  rtl  \" ><span class=\"plain  rtl\"></span><span class=\"plain  rtl  \" ><span class=\"plain  rtl\"></span><span class=\"plain  rtl  \" ><span class=\"txtu hbo\">בְּ</span></span><span class=\"plain  rtl  \" ><span class=\"txtu hbo\">רֵאשִׁ֖ית </span></span></span><span class=\"plain  rtl  \" ><span class=\"plain  rtl\"></span><span class=\"plain  rtl  \" ><span class=\"txtu hbo\">בָּרָ֣א </span></span></span><span class=\"plain  rtl  \" ><span class=\"plain  rtl\"></span><span class=\"plain  rtl  \" ><span class=\"txtu hbo\">אֱלֹהִ֑ים </span></span></span><span class=\"plain  rtl  \" ><span class=\"plain  rtl\"></span><span class=\"plain  rtl  \" ><span class=\"plain  rtl\"></span><span class=\"plain  rtl  \" ><span class=\"txtu hbo\">אֵ֥ת </span></span><span class=\"plain  rtl  \" ><span class=\"txtu hbo\">הַ</span></span><span class=\"plain  rtl  \" ><span class=\"txtu hbo\">שָּׁמַ֖יִם </span></span></span><span class=\"plain  rtl  \" ><span class=\"txtu hbo\">וְ</span></span><span class=\"plain  rtl  \" ><span class=\"plain  rtl\"></span><span class=\"plain  rtl  \" ><span class=\"txtu hbo\">אֵ֥ת </span></span><span class=\"plain  rtl  \" ><span class=\"txtu hbo\">הָ</span></span><span class=\"plain  rtl  \" ><span class=\"txtu hbo\">אָֽרֶץ׃ </span></span></span></span></span></span></div>"
      ],
      "text/plain": [
       "<IPython.core.display.HTML object>"
      ]
     },
     "metadata": {},
     "output_type": "display_data"
    },
    {
     "data": {
      "text/html": [
       "<span class=\"section ltr\"><a target=\"_blank\" href=\"https://shebanq.ancient-data.org/hebrew/text?book=Genesis&amp;chapter=1&amp;verse=1&amp;version=c&amp;mr=m&amp;qw=q&amp;tp=txt_p&amp;tr=hb&amp;wget=v&amp;qget=v&amp;nget=vt\" title=\"Show this on SHEBANQ\" sec=\"Genesis 1:1\">Genesis 1:1</a></span><div class=\"rtl children\"><div class=\"contnr c1  rtl  \" ><div class=\"lbl c1  \" ><span class=\"nd\">sentence_atom</span></div><div class=\"children hor wrap rtl\"><div class=\"contnr c2  rtl  \" ><div class=\"lbl c2  \" ><span class=\"nd\">clause</span></div><div class=\"children hor wrap rtl\"><div class=\"contnr c1  rtl  \" ><div class=\"lbl c1  \" ><span class=\"nd\">phrase</span></div><div class=\"children hor wrap rtl\"><div class=\"contnr c0 trm rtl  \" ><div class=\"lbl c0 trm \" ><a class=\" txtu hbo\" target=\"_blank\" href=\"https://shebanq.ancient-data.org/hebrew/word?version=c&amp;id=1B\" title=\"Show this on SHEBANQ\"><span class=\"txtu hbo\">בְּ</span></a></div></div><div class=\"contnr c0 trm rtl  \" ><div class=\"lbl c0 trm \" ><a class=\" txtu hbo\" target=\"_blank\" href=\"https://shebanq.ancient-data.org/hebrew/word?version=c&amp;id=1RACJTn\" title=\"Show this on SHEBANQ\"><span class=\"txtu hbo\">רֵאשִׁ֖ית </span></a></div></div></div></div><div class=\"contnr c1  rtl  \" ><div class=\"lbl c1  \" ><span class=\"nd\">phrase</span></div><div class=\"children hor wrap rtl\"><div class=\"contnr c0 trm rtl  \" ><div class=\"lbl c0 trm \" ><a class=\" txtu hbo\" target=\"_blank\" href=\"https://shebanq.ancient-data.org/hebrew/word?version=c&amp;id=1BRAv\" title=\"Show this on SHEBANQ\"><span class=\"txtu hbo\">בָּרָ֣א </span></a></div></div></div></div><div class=\"contnr c1  rtl  \" ><div class=\"lbl c1  \" ><span class=\"nd\">phrase</span></div><div class=\"children hor wrap rtl\"><div class=\"contnr c0 trm rtl  \" ><div class=\"lbl c0 trm \" ><a class=\" txtu hbo\" target=\"_blank\" href=\"https://shebanq.ancient-data.org/hebrew/word?version=c&amp;id=1ALHJMn\" title=\"Show this on SHEBANQ\"><span class=\"txtu hbo\">אֱלֹהִ֑ים </span></a></div></div></div></div><div class=\"contnr c1  rtl  \" ><div class=\"lbl c1  \" ><span class=\"nd\">phrase</span></div><div class=\"children hor wrap rtl\"><div class=\"contnr c1  rtl  \" ><div class=\"lbl c1  \" ><span class=\"nd\">subphrase</span></div><div class=\"children hor wrap rtl\"><div class=\"contnr c0 trm rtl  \" ><div class=\"lbl c0 trm \" ><a class=\" txtu hbo\" target=\"_blank\" href=\"https://shebanq.ancient-data.org/hebrew/word?version=c&amp;id=1AT\" title=\"Show this on SHEBANQ\"><span class=\"txtu hbo\">אֵ֥ת </span></a></div></div><div class=\"contnr c0 trm rtl  \" ><div class=\"lbl c0 trm \" ><a class=\" txtu hbo\" target=\"_blank\" href=\"https://shebanq.ancient-data.org/hebrew/word?version=c&amp;id=1H\" title=\"Show this on SHEBANQ\"><span class=\"txtu hbo\">הַ</span></a></div></div><div class=\"contnr c0 trm rtl  \" ><div class=\"lbl c0 trm \" ><a class=\" txtu hbo\" target=\"_blank\" href=\"https://shebanq.ancient-data.org/hebrew/word?version=c&amp;id=1CMJMn\" title=\"Show this on SHEBANQ\"><span class=\"txtu hbo\">שָּׁמַ֖יִם </span></a></div></div></div></div><div class=\"contnr c0 trm rtl  \" ><div class=\"lbl c0 trm \" ><a class=\" txtu hbo\" target=\"_blank\" href=\"https://shebanq.ancient-data.org/hebrew/word?version=c&amp;id=1W\" title=\"Show this on SHEBANQ\"><span class=\"txtu hbo\">וְ</span></a></div></div><div class=\"contnr c1  rtl  \" ><div class=\"lbl c1  \" ><span class=\"nd\">subphrase</span></div><div class=\"children hor wrap rtl\"><div class=\"contnr c0 trm rtl  \" ><div class=\"lbl c0 trm \" ><a class=\" txtu hbo\" target=\"_blank\" href=\"https://shebanq.ancient-data.org/hebrew/word?version=c&amp;id=1AT\" title=\"Show this on SHEBANQ\"><span class=\"txtu hbo\">אֵ֥ת </span></a></div></div><div class=\"contnr c0 trm rtl  \" ><div class=\"lbl c0 trm \" ><a class=\" txtu hbo\" target=\"_blank\" href=\"https://shebanq.ancient-data.org/hebrew/word?version=c&amp;id=1H\" title=\"Show this on SHEBANQ\"><span class=\"txtu hbo\">הָ</span></a></div></div><div class=\"contnr c0 trm rtl  \" ><div class=\"lbl c0 trm \" ><a class=\" txtu hbo\" target=\"_blank\" href=\"https://shebanq.ancient-data.org/hebrew/word?version=c&amp;id=1ARYn\" title=\"Show this on SHEBANQ\"><span class=\"txtu hbo\">אָֽרֶץ׃ </span></a></div></div></div></div></div></div></div></div></div></div></div>"
      ],
      "text/plain": [
       "<IPython.core.display.HTML object>"
      ]
     },
     "metadata": {},
     "output_type": "display_data"
    },
    {
     "data": {
      "text/markdown": [
       "### clause 427553\n"
      ],
      "text/plain": [
       "<IPython.core.display.Markdown object>"
      ]
     },
     "metadata": {},
     "output_type": "display_data"
    },
    {
     "data": {
      "text/html": [
       "<div class=\"rtl children\"><span class=\"section ltr\"><a target=\"_blank\" href=\"https://shebanq.ancient-data.org/hebrew/text?book=Genesis&amp;chapter=1&amp;verse=1&amp;version=c&amp;mr=m&amp;qw=q&amp;tp=txt_p&amp;tr=hb&amp;wget=v&amp;qget=v&amp;nget=vt\" title=\"Show this on SHEBANQ\" sec=\"Genesis 1:1\">Genesis 1:1</a></span> <span class=\"plain outer rtl  \" ><span class=\"plain  rtl\"></span><span class=\"plain  rtl  \" ><span class=\"plain  rtl\"></span><span class=\"plain  rtl  \" ><span class=\"txtu hbo\">בְּ</span></span><span class=\"plain  rtl  \" ><span class=\"txtu hbo\">רֵאשִׁ֖ית </span></span></span><span class=\"plain  rtl  \" ><span class=\"plain  rtl\"></span><span class=\"plain  rtl  \" ><span class=\"txtu hbo\">בָּרָ֣א </span></span></span><span class=\"plain  rtl  \" ><span class=\"plain  rtl\"></span><span class=\"plain  rtl  \" ><span class=\"txtu hbo\">אֱלֹהִ֑ים </span></span></span><span class=\"plain  rtl  \" ><span class=\"plain  rtl\"></span><span class=\"plain  rtl  \" ><span class=\"plain  rtl\"></span><span class=\"plain  rtl  \" ><span class=\"txtu hbo\">אֵ֥ת </span></span><span class=\"plain  rtl  \" ><span class=\"txtu hbo\">הַ</span></span><span class=\"plain  rtl  \" ><span class=\"txtu hbo\">שָּׁמַ֖יִם </span></span></span><span class=\"plain  rtl  \" ><span class=\"txtu hbo\">וְ</span></span><span class=\"plain  rtl  \" ><span class=\"plain  rtl\"></span><span class=\"plain  rtl  \" ><span class=\"txtu hbo\">אֵ֥ת </span></span><span class=\"plain  rtl  \" ><span class=\"txtu hbo\">הָ</span></span><span class=\"plain  rtl  \" ><span class=\"txtu hbo\">אָֽרֶץ׃ </span></span></span></span></span></div>"
      ],
      "text/plain": [
       "<IPython.core.display.HTML object>"
      ]
     },
     "metadata": {},
     "output_type": "display_data"
    },
    {
     "data": {
      "text/html": [
       "<span class=\"section ltr\"><a target=\"_blank\" href=\"https://shebanq.ancient-data.org/hebrew/text?book=Genesis&amp;chapter=1&amp;verse=1&amp;version=c&amp;mr=m&amp;qw=q&amp;tp=txt_p&amp;tr=hb&amp;wget=v&amp;qget=v&amp;nget=vt\" title=\"Show this on SHEBANQ\" sec=\"Genesis 1:1\">Genesis 1:1</a></span><div class=\"rtl children\"><div class=\"contnr c2  rtl  \" ><div class=\"lbl c2  \" ><span class=\"nd\">clause</span></div><div class=\"children hor wrap rtl\"><div class=\"contnr c1  rtl  \" ><div class=\"lbl c1  \" ><span class=\"nd\">phrase</span></div><div class=\"children hor wrap rtl\"><div class=\"contnr c0 trm rtl  \" ><div class=\"lbl c0 trm \" ><a class=\" txtu hbo\" target=\"_blank\" href=\"https://shebanq.ancient-data.org/hebrew/word?version=c&amp;id=1B\" title=\"Show this on SHEBANQ\"><span class=\"txtu hbo\">בְּ</span></a></div></div><div class=\"contnr c0 trm rtl  \" ><div class=\"lbl c0 trm \" ><a class=\" txtu hbo\" target=\"_blank\" href=\"https://shebanq.ancient-data.org/hebrew/word?version=c&amp;id=1RACJTn\" title=\"Show this on SHEBANQ\"><span class=\"txtu hbo\">רֵאשִׁ֖ית </span></a></div></div></div></div><div class=\"contnr c1  rtl  \" ><div class=\"lbl c1  \" ><span class=\"nd\">phrase</span></div><div class=\"children hor wrap rtl\"><div class=\"contnr c0 trm rtl  \" ><div class=\"lbl c0 trm \" ><a class=\" txtu hbo\" target=\"_blank\" href=\"https://shebanq.ancient-data.org/hebrew/word?version=c&amp;id=1BRAv\" title=\"Show this on SHEBANQ\"><span class=\"txtu hbo\">בָּרָ֣א </span></a></div></div></div></div><div class=\"contnr c1  rtl  \" ><div class=\"lbl c1  \" ><span class=\"nd\">phrase</span></div><div class=\"children hor wrap rtl\"><div class=\"contnr c0 trm rtl  \" ><div class=\"lbl c0 trm \" ><a class=\" txtu hbo\" target=\"_blank\" href=\"https://shebanq.ancient-data.org/hebrew/word?version=c&amp;id=1ALHJMn\" title=\"Show this on SHEBANQ\"><span class=\"txtu hbo\">אֱלֹהִ֑ים </span></a></div></div></div></div><div class=\"contnr c1  rtl  \" ><div class=\"lbl c1  \" ><span class=\"nd\">phrase</span></div><div class=\"children hor wrap rtl\"><div class=\"contnr c1  rtl  \" ><div class=\"lbl c1  \" ><span class=\"nd\">subphrase</span></div><div class=\"children hor wrap rtl\"><div class=\"contnr c0 trm rtl  \" ><div class=\"lbl c0 trm \" ><a class=\" txtu hbo\" target=\"_blank\" href=\"https://shebanq.ancient-data.org/hebrew/word?version=c&amp;id=1AT\" title=\"Show this on SHEBANQ\"><span class=\"txtu hbo\">אֵ֥ת </span></a></div></div><div class=\"contnr c0 trm rtl  \" ><div class=\"lbl c0 trm \" ><a class=\" txtu hbo\" target=\"_blank\" href=\"https://shebanq.ancient-data.org/hebrew/word?version=c&amp;id=1H\" title=\"Show this on SHEBANQ\"><span class=\"txtu hbo\">הַ</span></a></div></div><div class=\"contnr c0 trm rtl  \" ><div class=\"lbl c0 trm \" ><a class=\" txtu hbo\" target=\"_blank\" href=\"https://shebanq.ancient-data.org/hebrew/word?version=c&amp;id=1CMJMn\" title=\"Show this on SHEBANQ\"><span class=\"txtu hbo\">שָּׁמַ֖יִם </span></a></div></div></div></div><div class=\"contnr c0 trm rtl  \" ><div class=\"lbl c0 trm \" ><a class=\" txtu hbo\" target=\"_blank\" href=\"https://shebanq.ancient-data.org/hebrew/word?version=c&amp;id=1W\" title=\"Show this on SHEBANQ\"><span class=\"txtu hbo\">וְ</span></a></div></div><div class=\"contnr c1  rtl  \" ><div class=\"lbl c1  \" ><span class=\"nd\">subphrase</span></div><div class=\"children hor wrap rtl\"><div class=\"contnr c0 trm rtl  \" ><div class=\"lbl c0 trm \" ><a class=\" txtu hbo\" target=\"_blank\" href=\"https://shebanq.ancient-data.org/hebrew/word?version=c&amp;id=1AT\" title=\"Show this on SHEBANQ\"><span class=\"txtu hbo\">אֵ֥ת </span></a></div></div><div class=\"contnr c0 trm rtl  \" ><div class=\"lbl c0 trm \" ><a class=\" txtu hbo\" target=\"_blank\" href=\"https://shebanq.ancient-data.org/hebrew/word?version=c&amp;id=1H\" title=\"Show this on SHEBANQ\"><span class=\"txtu hbo\">הָ</span></a></div></div><div class=\"contnr c0 trm rtl  \" ><div class=\"lbl c0 trm \" ><a class=\" txtu hbo\" target=\"_blank\" href=\"https://shebanq.ancient-data.org/hebrew/word?version=c&amp;id=1ARYn\" title=\"Show this on SHEBANQ\"><span class=\"txtu hbo\">אָֽרֶץ׃ </span></a></div></div></div></div></div></div></div></div></div>"
      ],
      "text/plain": [
       "<IPython.core.display.HTML object>"
      ]
     },
     "metadata": {},
     "output_type": "display_data"
    },
    {
     "data": {
      "text/markdown": [
       "### clause_atom 515674\n"
      ],
      "text/plain": [
       "<IPython.core.display.Markdown object>"
      ]
     },
     "metadata": {},
     "output_type": "display_data"
    },
    {
     "data": {
      "text/html": [
       "<div class=\"rtl children\"><span class=\"section ltr\"><a target=\"_blank\" href=\"https://shebanq.ancient-data.org/hebrew/text?book=Genesis&amp;chapter=1&amp;verse=1&amp;version=c&amp;mr=m&amp;qw=q&amp;tp=txt_p&amp;tr=hb&amp;wget=v&amp;qget=v&amp;nget=vt\" title=\"Show this on SHEBANQ\" sec=\"Genesis 1:1\">Genesis 1:1</a></span> <span class=\"plain outer rtl  \" ><span class=\"plain  rtl\"></span><span class=\"plain  rtl  \" ><span class=\"plain  rtl\"></span><span class=\"plain  rtl  \" ><span class=\"txtu hbo\">בְּ</span></span><span class=\"plain  rtl  \" ><span class=\"txtu hbo\">רֵאשִׁ֖ית </span></span></span><span class=\"plain  rtl  \" ><span class=\"plain  rtl\"></span><span class=\"plain  rtl  \" ><span class=\"txtu hbo\">בָּרָ֣א </span></span></span><span class=\"plain  rtl  \" ><span class=\"plain  rtl\"></span><span class=\"plain  rtl  \" ><span class=\"txtu hbo\">אֱלֹהִ֑ים </span></span></span><span class=\"plain  rtl  \" ><span class=\"plain  rtl\"></span><span class=\"plain  rtl  \" ><span class=\"plain  rtl\"></span><span class=\"plain  rtl  \" ><span class=\"txtu hbo\">אֵ֥ת </span></span><span class=\"plain  rtl  \" ><span class=\"txtu hbo\">הַ</span></span><span class=\"plain  rtl  \" ><span class=\"txtu hbo\">שָּׁמַ֖יִם </span></span></span><span class=\"plain  rtl  \" ><span class=\"txtu hbo\">וְ</span></span><span class=\"plain  rtl  \" ><span class=\"plain  rtl\"></span><span class=\"plain  rtl  \" ><span class=\"txtu hbo\">אֵ֥ת </span></span><span class=\"plain  rtl  \" ><span class=\"txtu hbo\">הָ</span></span><span class=\"plain  rtl  \" ><span class=\"txtu hbo\">אָֽרֶץ׃ </span></span></span></span></span></div>"
      ],
      "text/plain": [
       "<IPython.core.display.HTML object>"
      ]
     },
     "metadata": {},
     "output_type": "display_data"
    },
    {
     "data": {
      "text/html": [
       "<span class=\"section ltr\"><a target=\"_blank\" href=\"https://shebanq.ancient-data.org/hebrew/text?book=Genesis&amp;chapter=1&amp;verse=1&amp;version=c&amp;mr=m&amp;qw=q&amp;tp=txt_p&amp;tr=hb&amp;wget=v&amp;qget=v&amp;nget=vt\" title=\"Show this on SHEBANQ\" sec=\"Genesis 1:1\">Genesis 1:1</a></span><div class=\"rtl children\"><div class=\"contnr c1  rtl  \" ><div class=\"lbl c1  \" ><span class=\"nd\">clause_atom</span></div><div class=\"children hor wrap rtl\"><div class=\"contnr c1  rtl  \" ><div class=\"lbl c1  \" ><span class=\"nd\">phrase</span></div><div class=\"children hor wrap rtl\"><div class=\"contnr c0 trm rtl  \" ><div class=\"lbl c0 trm \" ><a class=\" txtu hbo\" target=\"_blank\" href=\"https://shebanq.ancient-data.org/hebrew/word?version=c&amp;id=1B\" title=\"Show this on SHEBANQ\"><span class=\"txtu hbo\">בְּ</span></a></div></div><div class=\"contnr c0 trm rtl  \" ><div class=\"lbl c0 trm \" ><a class=\" txtu hbo\" target=\"_blank\" href=\"https://shebanq.ancient-data.org/hebrew/word?version=c&amp;id=1RACJTn\" title=\"Show this on SHEBANQ\"><span class=\"txtu hbo\">רֵאשִׁ֖ית </span></a></div></div></div></div><div class=\"contnr c1  rtl  \" ><div class=\"lbl c1  \" ><span class=\"nd\">phrase</span></div><div class=\"children hor wrap rtl\"><div class=\"contnr c0 trm rtl  \" ><div class=\"lbl c0 trm \" ><a class=\" txtu hbo\" target=\"_blank\" href=\"https://shebanq.ancient-data.org/hebrew/word?version=c&amp;id=1BRAv\" title=\"Show this on SHEBANQ\"><span class=\"txtu hbo\">בָּרָ֣א </span></a></div></div></div></div><div class=\"contnr c1  rtl  \" ><div class=\"lbl c1  \" ><span class=\"nd\">phrase</span></div><div class=\"children hor wrap rtl\"><div class=\"contnr c0 trm rtl  \" ><div class=\"lbl c0 trm \" ><a class=\" txtu hbo\" target=\"_blank\" href=\"https://shebanq.ancient-data.org/hebrew/word?version=c&amp;id=1ALHJMn\" title=\"Show this on SHEBANQ\"><span class=\"txtu hbo\">אֱלֹהִ֑ים </span></a></div></div></div></div><div class=\"contnr c1  rtl  \" ><div class=\"lbl c1  \" ><span class=\"nd\">phrase</span></div><div class=\"children hor wrap rtl\"><div class=\"contnr c1  rtl  \" ><div class=\"lbl c1  \" ><span class=\"nd\">subphrase</span></div><div class=\"children hor wrap rtl\"><div class=\"contnr c0 trm rtl  \" ><div class=\"lbl c0 trm \" ><a class=\" txtu hbo\" target=\"_blank\" href=\"https://shebanq.ancient-data.org/hebrew/word?version=c&amp;id=1AT\" title=\"Show this on SHEBANQ\"><span class=\"txtu hbo\">אֵ֥ת </span></a></div></div><div class=\"contnr c0 trm rtl  \" ><div class=\"lbl c0 trm \" ><a class=\" txtu hbo\" target=\"_blank\" href=\"https://shebanq.ancient-data.org/hebrew/word?version=c&amp;id=1H\" title=\"Show this on SHEBANQ\"><span class=\"txtu hbo\">הַ</span></a></div></div><div class=\"contnr c0 trm rtl  \" ><div class=\"lbl c0 trm \" ><a class=\" txtu hbo\" target=\"_blank\" href=\"https://shebanq.ancient-data.org/hebrew/word?version=c&amp;id=1CMJMn\" title=\"Show this on SHEBANQ\"><span class=\"txtu hbo\">שָּׁמַ֖יִם </span></a></div></div></div></div><div class=\"contnr c0 trm rtl  \" ><div class=\"lbl c0 trm \" ><a class=\" txtu hbo\" target=\"_blank\" href=\"https://shebanq.ancient-data.org/hebrew/word?version=c&amp;id=1W\" title=\"Show this on SHEBANQ\"><span class=\"txtu hbo\">וְ</span></a></div></div><div class=\"contnr c1  rtl  \" ><div class=\"lbl c1  \" ><span class=\"nd\">subphrase</span></div><div class=\"children hor wrap rtl\"><div class=\"contnr c0 trm rtl  \" ><div class=\"lbl c0 trm \" ><a class=\" txtu hbo\" target=\"_blank\" href=\"https://shebanq.ancient-data.org/hebrew/word?version=c&amp;id=1AT\" title=\"Show this on SHEBANQ\"><span class=\"txtu hbo\">אֵ֥ת </span></a></div></div><div class=\"contnr c0 trm rtl  \" ><div class=\"lbl c0 trm \" ><a class=\" txtu hbo\" target=\"_blank\" href=\"https://shebanq.ancient-data.org/hebrew/word?version=c&amp;id=1H\" title=\"Show this on SHEBANQ\"><span class=\"txtu hbo\">הָ</span></a></div></div><div class=\"contnr c0 trm rtl  \" ><div class=\"lbl c0 trm \" ><a class=\" txtu hbo\" target=\"_blank\" href=\"https://shebanq.ancient-data.org/hebrew/word?version=c&amp;id=1ARYn\" title=\"Show this on SHEBANQ\"><span class=\"txtu hbo\">אָֽרֶץ׃ </span></a></div></div></div></div></div></div></div></div></div>"
      ],
      "text/plain": [
       "<IPython.core.display.HTML object>"
      ]
     },
     "metadata": {},
     "output_type": "display_data"
    },
    {
     "data": {
      "text/markdown": [
       "### phrase 651542\n"
      ],
      "text/plain": [
       "<IPython.core.display.Markdown object>"
      ]
     },
     "metadata": {},
     "output_type": "display_data"
    },
    {
     "data": {
      "text/html": [
       "<div class=\"rtl children\"><span class=\"section ltr\"><a target=\"_blank\" href=\"https://shebanq.ancient-data.org/hebrew/text?book=Genesis&amp;chapter=1&amp;verse=1&amp;version=c&amp;mr=m&amp;qw=q&amp;tp=txt_p&amp;tr=hb&amp;wget=v&amp;qget=v&amp;nget=vt\" title=\"Show this on SHEBANQ\" sec=\"Genesis 1:1\">Genesis 1:1</a></span> <span class=\"plain outer rtl  \" ><span class=\"plain  rtl\"></span><span class=\"plain  rtl  \" ><span class=\"txtu hbo\">בְּ</span></span><span class=\"plain  rtl  \" ><span class=\"txtu hbo\">רֵאשִׁ֖ית </span></span></span></div>"
      ],
      "text/plain": [
       "<IPython.core.display.HTML object>"
      ]
     },
     "metadata": {},
     "output_type": "display_data"
    },
    {
     "data": {
      "text/html": [
       "<span class=\"section ltr\"><a target=\"_blank\" href=\"https://shebanq.ancient-data.org/hebrew/text?book=Genesis&amp;chapter=1&amp;verse=1&amp;version=c&amp;mr=m&amp;qw=q&amp;tp=txt_p&amp;tr=hb&amp;wget=v&amp;qget=v&amp;nget=vt\" title=\"Show this on SHEBANQ\" sec=\"Genesis 1:1\">Genesis 1:1</a></span><div class=\"rtl children\"><div class=\"contnr c1  rtl  \" ><div class=\"lbl c1  \" ><span class=\"nd\">phrase</span></div><div class=\"children hor wrap rtl\"><div class=\"contnr c0 trm rtl  \" ><div class=\"lbl c0 trm \" ><a class=\" txtu hbo\" target=\"_blank\" href=\"https://shebanq.ancient-data.org/hebrew/word?version=c&amp;id=1B\" title=\"Show this on SHEBANQ\"><span class=\"txtu hbo\">בְּ</span></a></div></div><div class=\"contnr c0 trm rtl  \" ><div class=\"lbl c0 trm \" ><a class=\" txtu hbo\" target=\"_blank\" href=\"https://shebanq.ancient-data.org/hebrew/word?version=c&amp;id=1RACJTn\" title=\"Show this on SHEBANQ\"><span class=\"txtu hbo\">רֵאשִׁ֖ית </span></a></div></div></div></div></div>"
      ],
      "text/plain": [
       "<IPython.core.display.HTML object>"
      ]
     },
     "metadata": {},
     "output_type": "display_data"
    },
    {
     "data": {
      "text/markdown": [
       "### phrase_atom 904749\n"
      ],
      "text/plain": [
       "<IPython.core.display.Markdown object>"
      ]
     },
     "metadata": {},
     "output_type": "display_data"
    },
    {
     "data": {
      "text/html": [
       "<div class=\"rtl children\"><span class=\"section ltr\"><a target=\"_blank\" href=\"https://shebanq.ancient-data.org/hebrew/text?book=Genesis&amp;chapter=1&amp;verse=1&amp;version=c&amp;mr=m&amp;qw=q&amp;tp=txt_p&amp;tr=hb&amp;wget=v&amp;qget=v&amp;nget=vt\" title=\"Show this on SHEBANQ\" sec=\"Genesis 1:1\">Genesis 1:1</a></span> <span class=\"plain outer rtl  \" ><span class=\"plain  rtl\"></span><span class=\"plain  rtl  \" ><span class=\"txtu hbo\">בְּ</span></span><span class=\"plain  rtl  \" ><span class=\"txtu hbo\">רֵאשִׁ֖ית </span></span></span></div>"
      ],
      "text/plain": [
       "<IPython.core.display.HTML object>"
      ]
     },
     "metadata": {},
     "output_type": "display_data"
    },
    {
     "data": {
      "text/html": [
       "<span class=\"section ltr\"><a target=\"_blank\" href=\"https://shebanq.ancient-data.org/hebrew/text?book=Genesis&amp;chapter=1&amp;verse=1&amp;version=c&amp;mr=m&amp;qw=q&amp;tp=txt_p&amp;tr=hb&amp;wget=v&amp;qget=v&amp;nget=vt\" title=\"Show this on SHEBANQ\" sec=\"Genesis 1:1\">Genesis 1:1</a></span><div class=\"rtl children\"><div class=\"contnr c1  rtl  \" ><div class=\"lbl c1  \" ><span class=\"nd\">phrase_atom</span></div><div class=\"children hor wrap rtl\"><div class=\"contnr c0 trm rtl  \" ><div class=\"lbl c0 trm \" ><a class=\" txtu hbo\" target=\"_blank\" href=\"https://shebanq.ancient-data.org/hebrew/word?version=c&amp;id=1B\" title=\"Show this on SHEBANQ\"><span class=\"txtu hbo\">בְּ</span></a></div></div><div class=\"contnr c0 trm rtl  \" ><div class=\"lbl c0 trm \" ><a class=\" txtu hbo\" target=\"_blank\" href=\"https://shebanq.ancient-data.org/hebrew/word?version=c&amp;id=1RACJTn\" title=\"Show this on SHEBANQ\"><span class=\"txtu hbo\">רֵאשִׁ֖ית </span></a></div></div></div></div></div>"
      ],
      "text/plain": [
       "<IPython.core.display.HTML object>"
      ]
     },
     "metadata": {},
     "output_type": "display_data"
    },
    {
     "data": {
      "text/markdown": [
       "### subphrase 1300542\n"
      ],
      "text/plain": [
       "<IPython.core.display.Markdown object>"
      ]
     },
     "metadata": {},
     "output_type": "display_data"
    },
    {
     "data": {
      "text/html": [
       "<div class=\"rtl children\"><span class=\"section ltr\"><a target=\"_blank\" href=\"https://shebanq.ancient-data.org/hebrew/text?book=Genesis&amp;chapter=1&amp;verse=1&amp;version=c&amp;mr=m&amp;qw=q&amp;tp=txt_p&amp;tr=hb&amp;wget=v&amp;qget=v&amp;nget=vt\" title=\"Show this on SHEBANQ\" sec=\"Genesis 1:1\">Genesis 1:1</a></span> <span class=\"plain outer rtl  \" ><span class=\"plain  rtl\"></span><span class=\"plain  rtl  \" ><span class=\"txtu hbo\">אֵ֥ת </span></span><span class=\"plain  rtl  \" ><span class=\"txtu hbo\">הַ</span></span><span class=\"plain  rtl  \" ><span class=\"txtu hbo\">שָּׁמַ֖יִם </span></span></span></div>"
      ],
      "text/plain": [
       "<IPython.core.display.HTML object>"
      ]
     },
     "metadata": {},
     "output_type": "display_data"
    },
    {
     "data": {
      "text/html": [
       "<span class=\"section ltr\"><a target=\"_blank\" href=\"https://shebanq.ancient-data.org/hebrew/text?book=Genesis&amp;chapter=1&amp;verse=1&amp;version=c&amp;mr=m&amp;qw=q&amp;tp=txt_p&amp;tr=hb&amp;wget=v&amp;qget=v&amp;nget=vt\" title=\"Show this on SHEBANQ\" sec=\"Genesis 1:1\">Genesis 1:1</a></span><div class=\"rtl children\"><div class=\"contnr c1  rtl  \" ><div class=\"lbl c1  \" ><span class=\"nd\">subphrase</span></div><div class=\"children hor wrap rtl\"><div class=\"contnr c0 trm rtl  \" ><div class=\"lbl c0 trm \" ><a class=\" txtu hbo\" target=\"_blank\" href=\"https://shebanq.ancient-data.org/hebrew/word?version=c&amp;id=1AT\" title=\"Show this on SHEBANQ\"><span class=\"txtu hbo\">אֵ֥ת </span></a></div></div><div class=\"contnr c0 trm rtl  \" ><div class=\"lbl c0 trm \" ><a class=\" txtu hbo\" target=\"_blank\" href=\"https://shebanq.ancient-data.org/hebrew/word?version=c&amp;id=1H\" title=\"Show this on SHEBANQ\"><span class=\"txtu hbo\">הַ</span></a></div></div><div class=\"contnr c0 trm rtl  \" ><div class=\"lbl c0 trm \" ><a class=\" txtu hbo\" target=\"_blank\" href=\"https://shebanq.ancient-data.org/hebrew/word?version=c&amp;id=1CMJMn\" title=\"Show this on SHEBANQ\"><span class=\"txtu hbo\">שָּׁמַ֖יִם </span></a></div></div></div></div></div>"
      ],
      "text/plain": [
       "<IPython.core.display.HTML object>"
      ]
     },
     "metadata": {},
     "output_type": "display_data"
    },
    {
     "data": {
      "text/markdown": [
       "### word 1\n"
      ],
      "text/plain": [
       "<IPython.core.display.Markdown object>"
      ]
     },
     "metadata": {},
     "output_type": "display_data"
    },
    {
     "data": {
      "text/html": [
       "<div class=\"rtl children\"><span class=\"section ltr\"><a target=\"_blank\" href=\"https://shebanq.ancient-data.org/hebrew/text?book=Genesis&amp;chapter=1&amp;verse=1&amp;version=c&amp;mr=m&amp;qw=q&amp;tp=txt_p&amp;tr=hb&amp;wget=v&amp;qget=v&amp;nget=vt\" title=\"Show this on SHEBANQ\" sec=\"Genesis 1:1\">Genesis 1:1</a></span> <span class=\"plain outer rtl  \" ><span class=\"txtu hbo\">בְּ</span></span></div>"
      ],
      "text/plain": [
       "<IPython.core.display.HTML object>"
      ]
     },
     "metadata": {},
     "output_type": "display_data"
    },
    {
     "data": {
      "text/html": [
       "<span class=\"section ltr\"><a target=\"_blank\" href=\"https://shebanq.ancient-data.org/hebrew/text?book=Genesis&amp;chapter=1&amp;verse=1&amp;version=c&amp;mr=m&amp;qw=q&amp;tp=txt_p&amp;tr=hb&amp;wget=v&amp;qget=v&amp;nget=vt\" title=\"Show this on SHEBANQ\" sec=\"Genesis 1:1\">Genesis 1:1</a></span><div class=\"rtl children\"><div class=\"contnr c0 trm rtl  \" ><div class=\"lbl c0 trm \" ><a class=\" txtu hbo\" target=\"_blank\" href=\"https://shebanq.ancient-data.org/hebrew/word?version=c&amp;id=1B\" title=\"Show this on SHEBANQ\"><span class=\"txtu hbo\">בְּ</span></a></div></div></div>"
      ],
      "text/plain": [
       "<IPython.core.display.HTML object>"
      ]
     },
     "metadata": {},
     "output_type": "display_data"
    }
   ],
   "source": [
    "typeShow(A)"
   ]
  },
  {
   "cell_type": "code",
   "execution_count": 51,
   "metadata": {},
   "outputs": [
    {
     "data": {
      "text/markdown": [
       "<details ><summary><b>bhsa</b> <i>app context</i></summary>\n",
       "\n",
       "<details ><summary>1. afterChild</summary>\n",
       "\n",
       "{}\n",
       "\n",
       "</details>\n",
       "<details ><summary>2. allowedBaseTypes</summary>\n",
       "\n",
       "\n",
       "1.  `lex`\n",
       "2.  `half_verse`\n",
       "3.  `sentence`\n",
       "4.  `sentence_atom`\n",
       "5.  `clause`\n",
       "6.  `clause_atom`\n",
       "7.  `phrase`\n",
       "8.  `phrase_atom`\n",
       "9.  `subphrase`\n",
       "\n",
       "</details>\n",
       "<details ><summary>3. apiVersion</summary>\n",
       "\n",
       "`3`\n",
       "\n",
       "</details>\n",
       "<details ><summary>4. appName</summary>\n",
       "\n",
       "`bhsa`\n",
       "\n",
       "</details>\n",
       "<details ><summary>5. appPath</summary>\n",
       "\n",
       "`/Users/dirk/github/annotation/app-bhsa/code`\n",
       "\n",
       "</details>\n",
       "<details ><summary>6. baseTypes</summary>\n",
       "\n",
       "\n",
       "1.  `word`\n",
       "\n",
       "</details>\n",
       "<details ><summary>7. browseContentPretty</summary>\n",
       "\n",
       "False\n",
       "\n",
       "</details>\n",
       "<details ><summary>8. browseNavLevel</summary>\n",
       "\n",
       "`2`\n",
       "\n",
       "</details>\n",
       "<details ><summary>9. charText</summary>\n",
       "\n",
       "`How TF features represent text`\n",
       "\n",
       "</details>\n",
       "<details ><summary>10. charUrl</summary>\n",
       "\n",
       "`https://annotation.github.io/text-fabric/writing/hebrew.html`\n",
       "\n",
       "</details>\n",
       "<details ><summary>11. childType</summary>\n",
       "\n",
       "\n",
       "*   **`book`**: \n",
       "    *   `chapter`\n",
       "*   **`chapter`**: \n",
       "    *   `verse`\n",
       "*   **`clause`**: \n",
       "    *   `clause_atom`\n",
       "*   **`clause_atom`**: \n",
       "    *   `phrase`\n",
       "*   **`half_verse`**: \n",
       "    *   `sentence`\n",
       "*   **`phrase`**: \n",
       "    *   `phrase_atom`\n",
       "*   **`phrase_atom`**: \n",
       "    *   `subphrase`\n",
       "*   **`sentence`**: \n",
       "    *   `sentence_atom`\n",
       "*   **`sentence_atom`**: \n",
       "    *   `clause`\n",
       "*   **`subphrase`**: \n",
       "    *   `word`\n",
       "*   **`verse`**: \n",
       "    *   `sentence`\n",
       "\n",
       "</details>\n",
       "<details ><summary>12. commit</summary>\n",
       "\n",
       "None\n",
       "\n",
       "</details>\n",
       "<details ><summary>13. condenseType</summary>\n",
       "\n",
       "`verse`\n",
       "\n",
       "</details>\n",
       "<details ><summary>14. condenseTypes</summary>\n",
       "\n",
       "\n",
       "1.  \n",
       "    *   `book`\n",
       "    *   `10938.051282051281`\n",
       "    *   `426585`\n",
       "    *   `426623`\n",
       "2.  \n",
       "    *   `chapter`\n",
       "    *   `459.18622174381056`\n",
       "    *   `426624`\n",
       "    *   `427552`\n",
       "3.  \n",
       "    *   `lex`\n",
       "    *   `46.2021011588866`\n",
       "    *   `1437567`\n",
       "    *   `1446799`\n",
       "4.  \n",
       "    *   `verse`\n",
       "    *   `18.37694395381898`\n",
       "    *   `1414354`\n",
       "    *   `1437566`\n",
       "5.  \n",
       "    *   `half_verse`\n",
       "    *   `9.441876936697653`\n",
       "    *   `606362`\n",
       "    *   `651541`\n",
       "6.  \n",
       "    *   `sentence`\n",
       "    *   `6.693928789994822`\n",
       "    *   `1172290`\n",
       "    *   `1236016`\n",
       "7.  \n",
       "    *   `sentence_atom`\n",
       "    *   `6.611142967841921`\n",
       "    *   `1236017`\n",
       "    *   `1300541`\n",
       "8.  \n",
       "    *   `clause`\n",
       "    *   `4.8408892318516585`\n",
       "    *   `427553`\n",
       "    *   `515673`\n",
       "9.  \n",
       "    *   `clause_atom`\n",
       "    *   `4.703863796753705`\n",
       "    *   `515674`\n",
       "    *   `606361`\n",
       "10. \n",
       "    *   `phrase`\n",
       "    *   `1.684724355961723`\n",
       "    *   `651542`\n",
       "    *   `904748`\n",
       "11. \n",
       "    *   `phrase_atom`\n",
       "    *   `1.5944621572020736`\n",
       "    *   `904749`\n",
       "    *   `1172289`\n",
       "12. \n",
       "    *   `subphrase`\n",
       "    *   `1.4231715460584122`\n",
       "    *   `1300542`\n",
       "    *   `1414353`\n",
       "13. \n",
       "    *   `word`\n",
       "    *   `1`\n",
       "    *   `1`\n",
       "    *   `426584`\n",
       "\n",
       "</details>\n",
       "<details ><summary>15. corpus</summary>\n",
       "\n",
       "`BHSA = Biblia Hebraica Stuttgartensia Amstelodamensis`\n",
       "\n",
       "</details>\n",
       "<details ><summary>16. css</summary>\n",
       "\n",
       "*empty*\n",
       "\n",
       "</details>\n",
       "<details ><summary>17. dataDisplay</summary>\n",
       "\n",
       "\n",
       "*   **`exampleSectionHtml`**: `<code>Genesis 1:1</code> (use <a href=\"https://github.com/{org}/{repo}/blob/master/tf/{version}/book%40en.tf\" target=\"_blank\">English book names</a>)`\n",
       "*   **`excludedFeatures`**: \n",
       "    *   `g_uvf_utf8`\n",
       "    *   `g_vbs`\n",
       "    *   `kq_hybrid`\n",
       "    *   `languageISO`\n",
       "    *   `g_nme`\n",
       "    *   `lex0`\n",
       "    *   `is_root`\n",
       "    *   `g_vbs_utf8`\n",
       "    *   `g_uvf`\n",
       "    *   `dist`\n",
       "    *   `root`\n",
       "    *   `suffix_person`\n",
       "    *   `g_vbe`\n",
       "    *   `dist_unit`\n",
       "    *   `suffix_number`\n",
       "    *   `distributional_parent`\n",
       "    *   `kq_hybrid_utf8`\n",
       "    *   `crossrefSET`\n",
       "    *   `instruction`\n",
       "    *   `g_prs`\n",
       "    *   `lexeme_count`\n",
       "    *   `rank_occ`\n",
       "    *   `g_pfm_utf8`\n",
       "    *   `freq_occ`\n",
       "    *   `crossrefLCS`\n",
       "    *   `functional_parent`\n",
       "    *   `g_pfm`\n",
       "    *   `g_nme_utf8`\n",
       "    *   `g_vbe_utf8`\n",
       "    *   `kind`\n",
       "    *   `g_prs_utf8`\n",
       "    *   `suffix_gender`\n",
       "    *   `mother_object_type`\n",
       "*   **`noneValues`**: \n",
       "    *   `none`\n",
       "    *   `unknown`\n",
       "    *   None\n",
       "    *   `NA`\n",
       "\n",
       "</details>\n",
       "<details ><summary>18. defaultClsOrig</summary>\n",
       "\n",
       "`txtu hbo`\n",
       "\n",
       "</details>\n",
       "<details ><summary>19. defaultFormat</summary>\n",
       "\n",
       "`text-orig-full`\n",
       "\n",
       "</details>\n",
       "<details ><summary>20. descendantType</summary>\n",
       "\n",
       "\n",
       "*   **`book`**: \n",
       "    *   `book`\n",
       "    *   `chapter`\n",
       "    *   `clause`\n",
       "    *   `clause_atom`\n",
       "    *   `phrase`\n",
       "    *   `phrase_atom`\n",
       "    *   `sentence`\n",
       "    *   `sentence_atom`\n",
       "    *   `subphrase`\n",
       "    *   `verse`\n",
       "    *   `word`\n",
       "*   **`chapter`**: \n",
       "    *   `chapter`\n",
       "    *   `clause`\n",
       "    *   `clause_atom`\n",
       "    *   `phrase`\n",
       "    *   `phrase_atom`\n",
       "    *   `sentence`\n",
       "    *   `sentence_atom`\n",
       "    *   `subphrase`\n",
       "    *   `verse`\n",
       "    *   `word`\n",
       "*   **`clause`**: \n",
       "    *   `clause`\n",
       "    *   `clause_atom`\n",
       "    *   `phrase`\n",
       "    *   `phrase_atom`\n",
       "    *   `subphrase`\n",
       "    *   `word`\n",
       "*   **`clause_atom`**: \n",
       "    *   `clause_atom`\n",
       "    *   `phrase`\n",
       "    *   `phrase_atom`\n",
       "    *   `subphrase`\n",
       "    *   `word`\n",
       "*   **`half_verse`**: \n",
       "    *   `clause`\n",
       "    *   `clause_atom`\n",
       "    *   `half_verse`\n",
       "    *   `phrase`\n",
       "    *   `phrase_atom`\n",
       "    *   `sentence`\n",
       "    *   `sentence_atom`\n",
       "    *   `subphrase`\n",
       "    *   `word`\n",
       "*   **`phrase`**: \n",
       "    *   `phrase`\n",
       "    *   `phrase_atom`\n",
       "    *   `subphrase`\n",
       "    *   `word`\n",
       "*   **`phrase_atom`**: \n",
       "    *   `phrase_atom`\n",
       "    *   `subphrase`\n",
       "    *   `word`\n",
       "*   **`sentence`**: \n",
       "    *   `clause`\n",
       "    *   `clause_atom`\n",
       "    *   `phrase`\n",
       "    *   `phrase_atom`\n",
       "    *   `sentence`\n",
       "    *   `sentence_atom`\n",
       "    *   `subphrase`\n",
       "    *   `word`\n",
       "*   **`sentence_atom`**: \n",
       "    *   `clause`\n",
       "    *   `clause_atom`\n",
       "    *   `phrase`\n",
       "    *   `phrase_atom`\n",
       "    *   `sentence_atom`\n",
       "    *   `subphrase`\n",
       "    *   `word`\n",
       "*   **`subphrase`**: \n",
       "    *   `subphrase`\n",
       "    *   `word`\n",
       "*   **`verse`**: \n",
       "    *   `clause`\n",
       "    *   `clause_atom`\n",
       "    *   `phrase`\n",
       "    *   `phrase_atom`\n",
       "    *   `sentence`\n",
       "    *   `sentence_atom`\n",
       "    *   `subphrase`\n",
       "    *   `verse`\n",
       "    *   `word`\n",
       "\n",
       "</details>\n",
       "<details ><summary>21. direction</summary>\n",
       "\n",
       "`rtl`\n",
       "\n",
       "</details>\n",
       "<details ><summary>22. docBase</summary>\n",
       "\n",
       "`https://etcbc.github.io/bhsa`\n",
       "\n",
       "</details>\n",
       "<details ><summary>23. docExt</summary>\n",
       "\n",
       "*empty*\n",
       "\n",
       "</details>\n",
       "<details ><summary>24. docPage</summary>\n",
       "\n",
       "`0_home`\n",
       "\n",
       "</details>\n",
       "<details ><summary>25. docRoot</summary>\n",
       "\n",
       "`https://etcbc.github.io`\n",
       "\n",
       "</details>\n",
       "<details ><summary>26. docUrl</summary>\n",
       "\n",
       "`https://etcbc.github.io/bhsa/0_home`\n",
       "\n",
       "</details>\n",
       "<details ><summary>27. docs</summary>\n",
       "\n",
       "\n",
       "*   **`charText`**: `How TF features represent text`\n",
       "*   **`charUrl`**: `https://annotation.github.io/text-fabric/writing/hebrew.html`\n",
       "*   **`docBase`**: `https://etcbc.github.io/bhsa`\n",
       "*   **`docExt`**: *empty*\n",
       "*   **`docPage`**: `0_home`\n",
       "*   **`docRoot`**: `https://etcbc.github.io`\n",
       "*   **`docUrl`**: `https://etcbc.github.io/bhsa/0_home`\n",
       "*   **`featureBase`**: `https://etcbc.github.io/bhsa/features/<feature>`\n",
       "*   **`featurePage`**: `0_home`\n",
       "\n",
       "</details>\n",
       "<details ><summary>28. doi</summary>\n",
       "\n",
       "`10.5281/zenodo.1007624`\n",
       "\n",
       "</details>\n",
       "<details ><summary>29. exampleSection</summary>\n",
       "\n",
       "`Genesis 1:1`\n",
       "\n",
       "</details>\n",
       "<details ><summary>30. exampleSectionHtml</summary>\n",
       "\n",
       "`<code>Genesis 1:1</code> (use <a href=\"https://github.com/{org}/{repo}/blob/master/tf/{version}/book%40en.tf\" target=\"_blank\">English book names</a>)`\n",
       "\n",
       "</details>\n",
       "<details ><summary>31. excludedFeatures</summary>\n",
       "\n",
       "\n",
       "1.  `g_uvf_utf8`\n",
       "2.  `g_vbs`\n",
       "3.  `kq_hybrid`\n",
       "4.  `languageISO`\n",
       "5.  `g_nme`\n",
       "6.  `lex0`\n",
       "7.  `is_root`\n",
       "8.  `g_vbs_utf8`\n",
       "9.  `g_uvf`\n",
       "10. `dist`\n",
       "11. `root`\n",
       "12. `suffix_person`\n",
       "13. `g_vbe`\n",
       "14. `dist_unit`\n",
       "15. `suffix_number`\n",
       "16. `distributional_parent`\n",
       "17. `kq_hybrid_utf8`\n",
       "18. `crossrefSET`\n",
       "19. `instruction`\n",
       "20. `g_prs`\n",
       "21. `lexeme_count`\n",
       "22. `rank_occ`\n",
       "23. `g_pfm_utf8`\n",
       "24. `freq_occ`\n",
       "25. `crossrefLCS`\n",
       "26. `functional_parent`\n",
       "27. `g_pfm`\n",
       "28. `g_nme_utf8`\n",
       "29. `g_vbe_utf8`\n",
       "30. `kind`\n",
       "31. `g_prs_utf8`\n",
       "32. `suffix_gender`\n",
       "33. `mother_object_type`\n",
       "\n",
       "</details>\n",
       "<details ><summary>32. exclusions</summary>\n",
       "\n",
       "{}\n",
       "\n",
       "</details>\n",
       "<details ><summary>33. extension</summary>\n",
       "\n",
       "` hbo`\n",
       "\n",
       "</details>\n",
       "<details ><summary>34. featureBase</summary>\n",
       "\n",
       "`https://etcbc.github.io/bhsa/features/<feature>`\n",
       "\n",
       "</details>\n",
       "<details ><summary>35. featurePage</summary>\n",
       "\n",
       "`0_home`\n",
       "\n",
       "</details>\n",
       "<details ><summary>36. features</summary>\n",
       "\n",
       "\n",
       "*   **`clause`**: \n",
       "    *   []\n",
       "    *   {}\n",
       "*   **`clause_atom`**: \n",
       "    *   []\n",
       "    *   {}\n",
       "*   **`half_verse`**: \n",
       "    *   []\n",
       "    *   {}\n",
       "*   **`lex`**: \n",
       "    *   []\n",
       "    *   {}\n",
       "*   **`phrase`**: \n",
       "    *   []\n",
       "    *   {}\n",
       "*   **`phrase_atom`**: \n",
       "    *   []\n",
       "    *   {}\n",
       "*   **`sentence`**: \n",
       "    *   []\n",
       "    *   {}\n",
       "*   **`sentence_atom`**: \n",
       "    *   []\n",
       "    *   {}\n",
       "*   **`subphrase`**: \n",
       "    *   []\n",
       "    *   {}\n",
       "*   **`word`**: \n",
       "    *   \n",
       "        *   `pdp`\n",
       "        *   `vs`\n",
       "        *   `vt`\n",
       "    *   {}\n",
       "\n",
       "</details>\n",
       "<details ><summary>37. featuresBare</summary>\n",
       "\n",
       "\n",
       "*   **`clause`**: \n",
       "    *   []\n",
       "    *   {}\n",
       "*   **`clause_atom`**: \n",
       "    *   []\n",
       "    *   {}\n",
       "*   **`half_verse`**: \n",
       "    *   []\n",
       "    *   {}\n",
       "*   **`lex`**: \n",
       "    *   \n",
       "        *   `gloss`\n",
       "    *   {}\n",
       "*   **`phrase`**: \n",
       "    *   []\n",
       "    *   {}\n",
       "*   **`phrase_atom`**: \n",
       "    *   []\n",
       "    *   {}\n",
       "*   **`sentence`**: \n",
       "    *   []\n",
       "    *   {}\n",
       "*   **`sentence_atom`**: \n",
       "    *   []\n",
       "    *   {}\n",
       "*   **`subphrase`**: \n",
       "    *   []\n",
       "    *   {}\n",
       "*   **`word`**: \n",
       "    *   \n",
       "        *   `gloss`\n",
       "    *   \n",
       "        *   **`gloss`**: `lex`\n",
       "\n",
       "</details>\n",
       "<details ><summary>38. formatCls</summary>\n",
       "\n",
       "\n",
       "*   **`lex-default`**: `txtn`\n",
       "*   **`lex-orig-full`**: `txtu hbo`\n",
       "*   **`lex-orig-plain`**: `txtu hbo`\n",
       "*   **`lex-trans-full`**: `txtt`\n",
       "*   **`lex-trans-plain`**: `txtt`\n",
       "*   **`text-orig-full`**: `txtu hbo`\n",
       "*   **`text-orig-full-ketiv`**: `txtu hbo`\n",
       "*   **`text-orig-plain`**: `txtu hbo`\n",
       "*   **`text-phono-full`**: `txtp`\n",
       "*   **`text-trans-full`**: `txtt`\n",
       "*   **`text-trans-full-ketiv`**: `txtt`\n",
       "*   **`text-trans-plain`**: `txtt`\n",
       "\n",
       "</details>\n",
       "<details ><summary>39. formatHtml</summary>\n",
       "\n",
       "set()\n",
       "\n",
       "</details>\n",
       "<details ><summary>40. formatMethod</summary>\n",
       "\n",
       "{}\n",
       "\n",
       "</details>\n",
       "<details ><summary>41. formatStyle</summary>\n",
       "\n",
       "\n",
       "*   **`normal`**: `txtn`\n",
       "*   **`orig`**: `txtu hbo`\n",
       "*   **`phono`**: `txtp`\n",
       "*   **`source`**: `txto`\n",
       "*   **`trans`**: `txtt`\n",
       "\n",
       "</details>\n",
       "<details ><summary>42. graphicsRelative</summary>\n",
       "\n",
       "None\n",
       "\n",
       "</details>\n",
       "<details ><summary>43. hasGraphics</summary>\n",
       "\n",
       "set()\n",
       "\n",
       "</details>\n",
       "<details ><summary>44. interfaceDefaults</summary>\n",
       "\n",
       "\n",
       "*   **`lineNumbers`**: None\n",
       "*   **`plainGaps`**: `True`\n",
       "*   **`prettyTypes`**: `True`\n",
       "*   **`queryFeatures`**: `True`\n",
       "*   **`showGraphics`**: None\n",
       "*   **`showHidden`**: False\n",
       "*   **`standardFeatures`**: False\n",
       "*   **`withNodes`**: False\n",
       "*   **`withTypes`**: False\n",
       "\n",
       "</details>\n",
       "<details ><summary>45. isCompatible</summary>\n",
       "\n",
       "`True`\n",
       "\n",
       "</details>\n",
       "<details ><summary>46. isHidden</summary>\n",
       "\n",
       "\n",
       "1.  `clause_atom`\n",
       "2.  `phrase_atom`\n",
       "3.  `sentence_atom`\n",
       "\n",
       "</details>\n",
       "<details ><summary>47. labels</summary>\n",
       "\n",
       "\n",
       "*   **`book`**: \n",
       "    *   `True`\n",
       "    *   ()\n",
       "*   **`chapter`**: \n",
       "    *   `True`\n",
       "    *   ()\n",
       "*   **`clause`**: \n",
       "    *   `{typ} {rela}`\n",
       "    *   \n",
       "        *   `typ`\n",
       "        *   `rela`\n",
       "*   **`clause_atom`**: \n",
       "    *   `{code}`\n",
       "    *   \n",
       "        *   `code`\n",
       "*   **`half_verse`**: \n",
       "    *   `{label}`\n",
       "    *   \n",
       "        *   `label`\n",
       "*   **`lex`**: \n",
       "    *   `{voc_lex_utf8}`\n",
       "    *   \n",
       "        *   `voc_lex_utf8`\n",
       "*   **`phrase`**: \n",
       "    *   `{typ} {function}`\n",
       "    *   \n",
       "        *   `typ`\n",
       "        *   `function`\n",
       "*   **`phrase_atom`**: \n",
       "    *   `{typ} {rela}`\n",
       "    *   \n",
       "        *   `typ`\n",
       "        *   `rela`\n",
       "*   **`sentence`**: \n",
       "    *   `{number}`\n",
       "    *   \n",
       "        *   `number`\n",
       "*   **`sentence_atom`**: \n",
       "    *   `{number}`\n",
       "    *   \n",
       "        *   `number`\n",
       "*   **`subphrase`**: \n",
       "    *   `{number}`\n",
       "    *   \n",
       "        *   `number`\n",
       "*   **`verse`**: \n",
       "    *   *empty*\n",
       "    *   ()\n",
       "*   **`word`**: \n",
       "    *   `True`\n",
       "    *   ()\n",
       "\n",
       "</details>\n",
       "<details ><summary>48. language</summary>\n",
       "\n",
       "`hebrew`\n",
       "\n",
       "</details>\n",
       "<details ><summary>49. levelCls</summary>\n",
       "\n",
       "\n",
       "*   **`book`**: \n",
       "    *   **`children`**: `children hor wrap`\n",
       "    *   **`container`**: `contnr c4`\n",
       "    *   **`label`**: `lbl c4`\n",
       "*   **`chapter`**: \n",
       "    *   **`children`**: `children hor wrap`\n",
       "    *   **`container`**: `contnr c4`\n",
       "    *   **`label`**: `lbl c4`\n",
       "*   **`clause`**: \n",
       "    *   **`children`**: `children hor wrap`\n",
       "    *   **`container`**: `contnr c2`\n",
       "    *   **`label`**: `lbl c2`\n",
       "*   **`clause_atom`**: \n",
       "    *   **`children`**: `children hor wrap`\n",
       "    *   **`container`**: `contnr c1`\n",
       "    *   **`label`**: `lbl c1`\n",
       "*   **`half_verse`**: \n",
       "    *   **`children`**: `children hor wrap`\n",
       "    *   **`container`**: `contnr c3`\n",
       "    *   **`label`**: `lbl c3`\n",
       "*   **`lex`**: \n",
       "    *   **`children`**: *empty*\n",
       "    *   **`container`**: `contnr c0`\n",
       "    *   **`label`**: `lbl c0`\n",
       "*   **`phrase`**: \n",
       "    *   **`children`**: `children hor wrap`\n",
       "    *   **`container`**: `contnr c1`\n",
       "    *   **`label`**: `lbl c1`\n",
       "*   **`phrase_atom`**: \n",
       "    *   **`children`**: `children hor wrap`\n",
       "    *   **`container`**: `contnr c1`\n",
       "    *   **`label`**: `lbl c1`\n",
       "*   **`sentence`**: \n",
       "    *   **`children`**: `children hor wrap`\n",
       "    *   **`container`**: `contnr c2`\n",
       "    *   **`label`**: `lbl c2`\n",
       "*   **`sentence_atom`**: \n",
       "    *   **`children`**: `children hor wrap`\n",
       "    *   **`container`**: `contnr c1`\n",
       "    *   **`label`**: `lbl c1`\n",
       "*   **`subphrase`**: \n",
       "    *   **`children`**: `children hor wrap`\n",
       "    *   **`container`**: `contnr c1`\n",
       "    *   **`label`**: `lbl c1`\n",
       "*   **`verse`**: \n",
       "    *   **`children`**: `children hor wrap`\n",
       "    *   **`container`**: `contnr c3`\n",
       "    *   **`label`**: `lbl c3`\n",
       "*   **`word`**: \n",
       "    *   **`children`**: *empty*\n",
       "    *   **`container`**: `contnr c0`\n",
       "    *   **`label`**: `lbl c0`\n",
       "\n",
       "</details>\n",
       "<details ><summary>50. levels</summary>\n",
       "\n",
       "\n",
       "*   **`book`**: \n",
       "    *   **`flow`**: `hor`\n",
       "    *   **`level`**: `4`\n",
       "    *   **`stretch`**: `True`\n",
       "    *   **`wrap`**: `True`\n",
       "*   **`chapter`**: \n",
       "    *   **`flow`**: `hor`\n",
       "    *   **`level`**: `4`\n",
       "    *   **`stretch`**: `True`\n",
       "    *   **`wrap`**: `True`\n",
       "*   **`clause`**: \n",
       "    *   **`flow`**: `hor`\n",
       "    *   **`level`**: `2`\n",
       "    *   **`stretch`**: `True`\n",
       "    *   **`wrap`**: `True`\n",
       "*   **`clause_atom`**: \n",
       "    *   **`flow`**: `hor`\n",
       "    *   **`level`**: `1`\n",
       "    *   **`stretch`**: `True`\n",
       "    *   **`wrap`**: `True`\n",
       "*   **`half_verse`**: \n",
       "    *   **`flow`**: `hor`\n",
       "    *   **`level`**: `3`\n",
       "    *   **`stretch`**: `True`\n",
       "    *   **`wrap`**: `True`\n",
       "*   **`lex`**: \n",
       "    *   **`flow`**: `ver`\n",
       "    *   **`level`**: 0\n",
       "    *   **`stretch`**: False\n",
       "    *   **`wrap`**: False\n",
       "*   **`phrase`**: \n",
       "    *   **`flow`**: `hor`\n",
       "    *   **`level`**: `1`\n",
       "    *   **`stretch`**: `True`\n",
       "    *   **`wrap`**: `True`\n",
       "*   **`phrase_atom`**: \n",
       "    *   **`flow`**: `hor`\n",
       "    *   **`level`**: `1`\n",
       "    *   **`stretch`**: `True`\n",
       "    *   **`wrap`**: `True`\n",
       "*   **`sentence`**: \n",
       "    *   **`flow`**: `hor`\n",
       "    *   **`level`**: `2`\n",
       "    *   **`stretch`**: `True`\n",
       "    *   **`wrap`**: `True`\n",
       "*   **`sentence_atom`**: \n",
       "    *   **`flow`**: `hor`\n",
       "    *   **`level`**: `1`\n",
       "    *   **`stretch`**: `True`\n",
       "    *   **`wrap`**: `True`\n",
       "*   **`subphrase`**: \n",
       "    *   **`flow`**: `hor`\n",
       "    *   **`level`**: `1`\n",
       "    *   **`stretch`**: `True`\n",
       "    *   **`wrap`**: `True`\n",
       "*   **`verse`**: \n",
       "    *   **`flow`**: `hor`\n",
       "    *   **`level`**: `3`\n",
       "    *   **`stretch`**: `True`\n",
       "    *   **`wrap`**: `True`\n",
       "*   **`word`**: \n",
       "    *   **`flow`**: `ver`\n",
       "    *   **`level`**: 0\n",
       "    *   **`stretch`**: False\n",
       "    *   **`wrap`**: False\n",
       "\n",
       "</details>\n",
       "<details ><summary>51. lexMap</summary>\n",
       "\n",
       "\n",
       "*   **`word`**: `lex`\n",
       "\n",
       "</details>\n",
       "<details ><summary>52. lexTypes</summary>\n",
       "\n",
       "\n",
       "1.  `lex`\n",
       "\n",
       "</details>\n",
       "<details ><summary>53. lineNumberFeature</summary>\n",
       "\n",
       "{}\n",
       "\n",
       "</details>\n",
       "<details ><summary>54. local</summary>\n",
       "\n",
       "`clone`\n",
       "\n",
       "</details>\n",
       "<details ><summary>55. localDir</summary>\n",
       "\n",
       "`/Users/dirk/github/etcbc/bhsa/_temp`\n",
       "\n",
       "</details>\n",
       "<details ><summary>56. moduleSpecs</summary>\n",
       "\n",
       "\n",
       "1.  \n",
       "    *   **`corpus`**: `Phonetic Transcriptions`\n",
       "    *   **`docUrl`**: `https://nbviewer.jupyter.org/github/etcbc/phono/blob/master/programs/phono.ipynb`\n",
       "    *   **`doi`**: `10.5281/zenodo.1007636`\n",
       "    *   **`org`**: `etcbc`\n",
       "    *   **`relative`**: `tf`\n",
       "    *   **`repo`**: `phono`\n",
       "2.  \n",
       "    *   **`corpus`**: `Parallel Passages`\n",
       "    *   **`docUrl`**: `https://nbviewer.jupyter.org/github/etcbc/parallels/blob/master/programs/parallels.ipynb`\n",
       "    *   **`doi`**: `10.5281/zenodo.1007642`\n",
       "    *   **`org`**: `etcbc`\n",
       "    *   **`relative`**: `tf`\n",
       "    *   **`repo`**: `parallels`\n",
       "\n",
       "</details>\n",
       "<details ><summary>57. noDescendTypes</summary>\n",
       "\n",
       "\n",
       "1.  `lex`\n",
       "\n",
       "</details>\n",
       "<details ><summary>58. noneValues</summary>\n",
       "\n",
       "\n",
       "1.  `none`\n",
       "2.  `unknown`\n",
       "3.  None\n",
       "4.  `NA`\n",
       "\n",
       "</details>\n",
       "<details ><summary>59. org</summary>\n",
       "\n",
       "`etcbc`\n",
       "\n",
       "</details>\n",
       "<details ><summary>60. plainCustom</summary>\n",
       "\n",
       "{}\n",
       "\n",
       "</details>\n",
       "<details ><summary>61. prettyCustom</summary>\n",
       "\n",
       "{}\n",
       "\n",
       "</details>\n",
       "<details ><summary>62. provenanceSpec</summary>\n",
       "\n",
       "\n",
       "*   **`corpus`**: `BHSA = Biblia Hebraica Stuttgartensia Amstelodamensis`\n",
       "*   **`doi`**: `10.5281/zenodo.1007624`\n",
       "*   **`graphicsRelative`**: None\n",
       "*   **`moduleSpecs`**: \n",
       "    *   \n",
       "        *   **`corpus`**: `Phonetic Transcriptions`\n",
       "        *   **`docUrl`**: `https://nbviewer.jupyter.org/github/etcbc/phono/blob/master/programs/phono.ipynb`\n",
       "        *   **`doi`**: `10.5281/zenodo.1007636`\n",
       "        *   **`org`**: `etcbc`\n",
       "        *   **`relative`**: `tf`\n",
       "        *   **`repo`**: `phono`\n",
       "    *   \n",
       "        *   **`corpus`**: `Parallel Passages`\n",
       "        *   **`docUrl`**: `https://nbviewer.jupyter.org/github/etcbc/parallels/blob/master/programs/parallels.ipynb`\n",
       "        *   **`doi`**: `10.5281/zenodo.1007642`\n",
       "        *   **`org`**: `etcbc`\n",
       "        *   **`relative`**: `tf`\n",
       "        *   **`repo`**: `parallels`\n",
       "*   **`org`**: `etcbc`\n",
       "*   **`relative`**: `tf`\n",
       "*   **`repo`**: `bhsa`\n",
       "*   **`version`**: `c`\n",
       "*   **`webBase`**: `https://shebanq.ancient-data.org/hebrew`\n",
       "*   **`webHint`**: `Show this on SHEBANQ`\n",
       "*   **`webLang`**: `la`\n",
       "*   **`webLexId`**: `True`\n",
       "*   **`webUrl`**: `https://shebanq.ancient-data.org/hebrew/text?book=<1>&chapter=<2>&verse=<3>&version=c&mr=m&qw=q&tp=txt_p&tr=hb&wget=v&qget=v&nget=vt`\n",
       "*   **`webUrlLex`**: `https://shebanq.ancient-data.org/hebrew/word?version=c&id=<lid>`\n",
       "*   **`zip`**: None\n",
       "\n",
       "</details>\n",
       "<details ><summary>63. relative</summary>\n",
       "\n",
       "`tf`\n",
       "\n",
       "</details>\n",
       "<details ><summary>64. release</summary>\n",
       "\n",
       "None\n",
       "\n",
       "</details>\n",
       "<details ><summary>65. repo</summary>\n",
       "\n",
       "`bhsa`\n",
       "\n",
       "</details>\n",
       "<details ><summary>66. sectionSep1</summary>\n",
       "\n",
       "` `\n",
       "\n",
       "</details>\n",
       "<details ><summary>67. sectionSep2</summary>\n",
       "\n",
       "`:`\n",
       "\n",
       "</details>\n",
       "<details ><summary>68. showVerseInTuple</summary>\n",
       "\n",
       "False\n",
       "\n",
       "</details>\n",
       "<details ><summary>69. styles</summary>\n",
       "\n",
       "\n",
       "*   **`clause`**: *empty*\n",
       "*   **`clause_atom`**: *empty*\n",
       "*   **`half_verse`**: *empty*\n",
       "*   **`lex`**: `txtu hbo`\n",
       "*   **`phrase`**: *empty*\n",
       "*   **`phrase_atom`**: *empty*\n",
       "*   **`sentence`**: *empty*\n",
       "*   **`sentence_atom`**: *empty*\n",
       "*   **`subphrase`**: *empty*\n",
       "\n",
       "</details>\n",
       "<details ><summary>70. templates</summary>\n",
       "\n",
       "\n",
       "*   **`book`**: \n",
       "    *   `True`\n",
       "    *   ()\n",
       "*   **`chapter`**: \n",
       "    *   `True`\n",
       "    *   ()\n",
       "*   **`clause`**: \n",
       "    *   *empty*\n",
       "    *   ()\n",
       "*   **`clause_atom`**: \n",
       "    *   *empty*\n",
       "    *   ()\n",
       "*   **`half_verse`**: \n",
       "    *   *empty*\n",
       "    *   ()\n",
       "*   **`lex`**: \n",
       "    *   `{voc_lex_utf8}`\n",
       "    *   \n",
       "        *   `voc_lex_utf8`\n",
       "*   **`phrase`**: \n",
       "    *   *empty*\n",
       "    *   ()\n",
       "*   **`phrase_atom`**: \n",
       "    *   *empty*\n",
       "    *   ()\n",
       "*   **`sentence`**: \n",
       "    *   *empty*\n",
       "    *   ()\n",
       "*   **`sentence_atom`**: \n",
       "    *   *empty*\n",
       "    *   ()\n",
       "*   **`subphrase`**: \n",
       "    *   *empty*\n",
       "    *   ()\n",
       "*   **`verse`**: \n",
       "    *   *empty*\n",
       "    *   ()\n",
       "*   **`word`**: \n",
       "    *   `True`\n",
       "    *   ()\n",
       "\n",
       "</details>\n",
       "<details ><summary>71. tfDoc</summary>\n",
       "\n",
       "`https://annotation.github.io/text-fabric`\n",
       "\n",
       "</details>\n",
       "<details ><summary>72. transform</summary>\n",
       "\n",
       "{}\n",
       "\n",
       "</details>\n",
       "<details ><summary>73. typeDisplay</summary>\n",
       "\n",
       "\n",
       "*   **`clause`**: \n",
       "    *   **`label`**: `{typ} {rela}`\n",
       "    *   **`style`**: *empty*\n",
       "*   **`clause_atom`**: \n",
       "    *   **`hidden`**: `True`\n",
       "    *   **`label`**: `{code}`\n",
       "    *   **`level`**: `1`\n",
       "    *   **`style`**: *empty*\n",
       "*   **`half_verse`**: \n",
       "    *   **`label`**: `{label}`\n",
       "    *   **`style`**: *empty*\n",
       "    *   **`verselike`**: `True`\n",
       "*   **`lex`**: \n",
       "    *   **`featuresBare`**: `gloss`\n",
       "    *   **`label`**: `{voc_lex_utf8}`\n",
       "    *   **`lexOcc`**: `word`\n",
       "    *   **`style`**: `orig`\n",
       "    *   **`template`**: `{voc_lex_utf8}`\n",
       "*   **`phrase`**: \n",
       "    *   **`label`**: `{typ} {function}`\n",
       "    *   **`style`**: *empty*\n",
       "*   **`phrase_atom`**: \n",
       "    *   **`hidden`**: `True`\n",
       "    *   **`label`**: `{typ} {rela}`\n",
       "    *   **`level`**: `1`\n",
       "    *   **`style`**: *empty*\n",
       "*   **`sentence`**: \n",
       "    *   **`label`**: `{number}`\n",
       "    *   **`style`**: *empty*\n",
       "*   **`sentence_atom`**: \n",
       "    *   **`hidden`**: `True`\n",
       "    *   **`label`**: `{number}`\n",
       "    *   **`level`**: `1`\n",
       "    *   **`style`**: *empty*\n",
       "*   **`subphrase`**: \n",
       "    *   **`label`**: `{number}`\n",
       "    *   **`style`**: *empty*\n",
       "*   **`word`**: \n",
       "    *   **`features`**: `pdp vs vt`\n",
       "    *   **`featuresBare`**: `lex:gloss`\n",
       "\n",
       "</details>\n",
       "<details ><summary>74. urlGh</summary>\n",
       "\n",
       "`https://github.com`\n",
       "\n",
       "</details>\n",
       "<details ><summary>75. urlNb</summary>\n",
       "\n",
       "`https://nbviewer.jupyter.org/github`\n",
       "\n",
       "</details>\n",
       "<details ><summary>76. verseTypes</summary>\n",
       "\n",
       "\n",
       "1.  `half_verse`\n",
       "2.  `verse`\n",
       "\n",
       "</details>\n",
       "<details ><summary>77. version</summary>\n",
       "\n",
       "`c`\n",
       "\n",
       "</details>\n",
       "<details ><summary>78. webBase</summary>\n",
       "\n",
       "`https://shebanq.ancient-data.org/hebrew`\n",
       "\n",
       "</details>\n",
       "<details ><summary>79. webHint</summary>\n",
       "\n",
       "`Show this on SHEBANQ`\n",
       "\n",
       "</details>\n",
       "<details ><summary>80. webLang</summary>\n",
       "\n",
       "`la`\n",
       "\n",
       "</details>\n",
       "<details ><summary>81. webLexId</summary>\n",
       "\n",
       "`True`\n",
       "\n",
       "</details>\n",
       "<details ><summary>82. webUrl</summary>\n",
       "\n",
       "`https://shebanq.ancient-data.org/hebrew/text?book=<1>&chapter=<2>&verse=<3>&version=c&mr=m&qw=q&tp=txt_p&tr=hb&wget=v&qget=v&nget=vt`\n",
       "\n",
       "</details>\n",
       "<details ><summary>83. webUrlLex</summary>\n",
       "\n",
       "`https://shebanq.ancient-data.org/hebrew/word?version=c&id=<lid>`\n",
       "\n",
       "</details>\n",
       "<details ><summary>84. writing</summary>\n",
       "\n",
       "`hbo`\n",
       "\n",
       "</details>\n",
       "<details ><summary>85. zip</summary>\n",
       "\n",
       "\n",
       "1.  `bhsa`\n",
       "2.  \n",
       "    *   `etcbc`\n",
       "    *   `phono`\n",
       "    *   `tf`\n",
       "3.  \n",
       "    *   `etcbc`\n",
       "    *   `parallels`\n",
       "    *   `tf`\n",
       "\n",
       "</details>\n",
       "</details>\n"
      ],
      "text/plain": [
       "<IPython.core.display.Markdown object>"
      ]
     },
     "metadata": {},
     "output_type": "display_data"
    }
   ],
   "source": [
    "A.showContext()"
   ]
  },
  {
   "cell_type": "code",
   "execution_count": null,
   "metadata": {},
   "outputs": [],
   "source": []
  }
 ],
 "metadata": {
  "kernelspec": {
   "display_name": "Python 3",
   "language": "python",
   "name": "python3"
  },
  "language_info": {
   "codemirror_mode": {
    "name": "ipython",
    "version": 3
   },
   "file_extension": ".py",
   "mimetype": "text/x-python",
   "name": "python",
   "nbconvert_exporter": "python",
   "pygments_lexer": "ipython3",
   "version": "3.7.7"
  }
 },
 "nbformat": 4,
 "nbformat_minor": 4
}
