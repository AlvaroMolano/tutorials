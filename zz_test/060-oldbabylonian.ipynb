{
 "cells": [
  {
   "cell_type": "code",
   "execution_count": 1,
   "metadata": {},
   "outputs": [],
   "source": [
    "%load_ext autoreload\n",
    "%autoreload 2"
   ]
  },
  {
   "cell_type": "code",
   "execution_count": 2,
   "metadata": {},
   "outputs": [],
   "source": [
    "from tf.app import use\n",
    "from fixture import typeShow"
   ]
  },
  {
   "cell_type": "markdown",
   "metadata": {},
   "source": [
    "# Old Babylonian"
   ]
  },
  {
   "cell_type": "code",
   "execution_count": 3,
   "metadata": {},
   "outputs": [
    {
     "name": "stdout",
     "output_type": "stream",
     "text": [
      "Using TF-app in /Users/dirk/github/annotation/app-oldbabylonian/code:\n",
      "\trepo clone offline under ~/github (local github)\n",
      "Using data in /Users/dirk/github/Nino-cunei/oldbabylonian/tf/1.0.5:\n",
      "\trepo clone offline under ~/github (local github)\n",
      "   |     0.00s Dataset without structure sections in otext:no structure functions in the T-API\n"
     ]
    },
    {
     "data": {
      "text/html": [
       "<b>Documentation:</b> <a target=\"_blank\" href=\"https://github.com/Nino-cunei/oldbabylonian/blob/master/docs/about.md\" title=\"provenance of Old Babylonian Letters 1900-1600: Cuneiform tablets \">OLDBABYLONIAN</a> <a target=\"_blank\" href=\"https://github.com/Nino-cunei/oldbabylonian/blob/master/docs/programs/mapReadings.ipynb\" title=\"mapping from readings to UNICODE\">Character table</a> <a target=\"_blank\" href=\"https://github.com/Nino-cunei/oldbabylonian/blob/master/docs/transcription.md\" title=\"OLDBABYLONIAN feature documentation\">Feature docs</a> <a target=\"_blank\" href=\"https://github.com/annotation/app-oldbabylonian\" title=\"oldbabylonian API documentation\">oldbabylonian API</a> <a target=\"_blank\" href=\"https://annotation.github.io/text-fabric/Api/Fabric/\" title=\"text-fabric-api\">Text-Fabric API 8.0.3</a> <a target=\"_blank\" href=\"https://annotation.github.io/text-fabric/Use/Search/\" title=\"Search Templates Introduction and Reference\">Search Reference</a><details open><summary><b>Loaded features</b>:</summary>\n",
       "<p><b>Old Babylonian Letters 1900-1600: Cuneiform tablets </b>: <a target=\"_blank\" href=\"https://github.com/Nino-cunei/oldbabylonian/blob/master/docs/transcription.md\" title=\"/Users/dirk/github/Nino-cunei/oldbabylonian/tf/1.0.5/ARK.tf\">ARK</a>  <a target=\"_blank\" href=\"https://github.com/Nino-cunei/oldbabylonian/blob/master/docs/transcription.md\" title=\"/Users/dirk/github/Nino-cunei/oldbabylonian/tf/1.0.5/after.tf\">after</a>  <a target=\"_blank\" href=\"https://github.com/Nino-cunei/oldbabylonian/blob/master/docs/transcription.md\" title=\"/Users/dirk/github/Nino-cunei/oldbabylonian/tf/1.0.5/afterr.tf\">afterr</a>  <a target=\"_blank\" href=\"https://github.com/Nino-cunei/oldbabylonian/blob/master/docs/transcription.md\" title=\"/Users/dirk/github/Nino-cunei/oldbabylonian/tf/1.0.5/afteru.tf\">afteru</a>  <a target=\"_blank\" href=\"https://github.com/Nino-cunei/oldbabylonian/blob/master/docs/transcription.md\" title=\"/Users/dirk/github/Nino-cunei/oldbabylonian/tf/1.0.5/atf.tf\">atf</a>  <a target=\"_blank\" href=\"https://github.com/Nino-cunei/oldbabylonian/blob/master/docs/transcription.md\" title=\"/Users/dirk/github/Nino-cunei/oldbabylonian/tf/1.0.5/atfpost.tf\">atfpost</a>  <a target=\"_blank\" href=\"https://github.com/Nino-cunei/oldbabylonian/blob/master/docs/transcription.md\" title=\"/Users/dirk/github/Nino-cunei/oldbabylonian/tf/1.0.5/atfpre.tf\">atfpre</a>  <a target=\"_blank\" href=\"https://github.com/Nino-cunei/oldbabylonian/blob/master/docs/transcription.md\" title=\"/Users/dirk/github/Nino-cunei/oldbabylonian/tf/1.0.5/author.tf\">author</a>  <a target=\"_blank\" href=\"https://github.com/Nino-cunei/oldbabylonian/blob/master/docs/transcription.md\" title=\"/Users/dirk/github/Nino-cunei/oldbabylonian/tf/1.0.5/col.tf\">col</a>  <a target=\"_blank\" href=\"https://github.com/Nino-cunei/oldbabylonian/blob/master/docs/transcription.md\" title=\"/Users/dirk/github/Nino-cunei/oldbabylonian/tf/1.0.5/collated.tf\">collated</a>  <a target=\"_blank\" href=\"https://github.com/Nino-cunei/oldbabylonian/blob/master/docs/transcription.md\" title=\"/Users/dirk/github/Nino-cunei/oldbabylonian/tf/1.0.5/collection.tf\">collection</a>  <a target=\"_blank\" href=\"https://github.com/Nino-cunei/oldbabylonian/blob/master/docs/transcription.md\" title=\"/Users/dirk/github/Nino-cunei/oldbabylonian/tf/1.0.5/comment.tf\">comment</a>  <a target=\"_blank\" href=\"https://github.com/Nino-cunei/oldbabylonian/blob/master/docs/transcription.md\" title=\"/Users/dirk/github/Nino-cunei/oldbabylonian/tf/1.0.5/damage.tf\">damage</a>  <a target=\"_blank\" href=\"https://github.com/Nino-cunei/oldbabylonian/blob/master/docs/transcription.md\" title=\"/Users/dirk/github/Nino-cunei/oldbabylonian/tf/1.0.5/det.tf\">det</a>  <a target=\"_blank\" href=\"https://github.com/Nino-cunei/oldbabylonian/blob/master/docs/transcription.md\" title=\"/Users/dirk/github/Nino-cunei/oldbabylonian/tf/1.0.5/docnote.tf\">docnote</a>  <a target=\"_blank\" href=\"https://github.com/Nino-cunei/oldbabylonian/blob/master/docs/transcription.md\" title=\"/Users/dirk/github/Nino-cunei/oldbabylonian/tf/1.0.5/docnumber.tf\">docnumber</a>  <a target=\"_blank\" href=\"https://github.com/Nino-cunei/oldbabylonian/blob/master/docs/transcription.md\" title=\"/Users/dirk/github/Nino-cunei/oldbabylonian/tf/1.0.5/excavation.tf\">excavation</a>  <a target=\"_blank\" href=\"https://github.com/Nino-cunei/oldbabylonian/blob/master/docs/transcription.md\" title=\"/Users/dirk/github/Nino-cunei/oldbabylonian/tf/1.0.5/excised.tf\">excised</a>  <a target=\"_blank\" href=\"https://github.com/Nino-cunei/oldbabylonian/blob/master/docs/transcription.md\" title=\"/Users/dirk/github/Nino-cunei/oldbabylonian/tf/1.0.5/face.tf\">face</a>  <a target=\"_blank\" href=\"https://github.com/Nino-cunei/oldbabylonian/blob/master/docs/transcription.md\" title=\"/Users/dirk/github/Nino-cunei/oldbabylonian/tf/1.0.5/flags.tf\">flags</a>  <a target=\"_blank\" href=\"https://github.com/Nino-cunei/oldbabylonian/blob/master/docs/transcription.md\" title=\"/Users/dirk/github/Nino-cunei/oldbabylonian/tf/1.0.5/fraction.tf\">fraction</a>  <a target=\"_blank\" href=\"https://github.com/Nino-cunei/oldbabylonian/blob/master/docs/transcription.md\" title=\"/Users/dirk/github/Nino-cunei/oldbabylonian/tf/1.0.5/genre.tf\">genre</a>  <a target=\"_blank\" href=\"https://github.com/Nino-cunei/oldbabylonian/blob/master/docs/transcription.md\" title=\"/Users/dirk/github/Nino-cunei/oldbabylonian/tf/1.0.5/grapheme.tf\">grapheme</a>  <a target=\"_blank\" href=\"https://github.com/Nino-cunei/oldbabylonian/blob/master/docs/transcription.md\" title=\"/Users/dirk/github/Nino-cunei/oldbabylonian/tf/1.0.5/graphemer.tf\">graphemer</a>  <a target=\"_blank\" href=\"https://github.com/Nino-cunei/oldbabylonian/blob/master/docs/transcription.md\" title=\"/Users/dirk/github/Nino-cunei/oldbabylonian/tf/1.0.5/graphemeu.tf\">graphemeu</a>  <a target=\"_blank\" href=\"https://github.com/Nino-cunei/oldbabylonian/blob/master/docs/transcription.md\" title=\"/Users/dirk/github/Nino-cunei/oldbabylonian/tf/1.0.5/lang.tf\">lang</a>  <a target=\"_blank\" href=\"https://github.com/Nino-cunei/oldbabylonian/blob/master/docs/transcription.md\" title=\"/Users/dirk/github/Nino-cunei/oldbabylonian/tf/1.0.5/langalt.tf\">langalt</a>  <a target=\"_blank\" href=\"https://github.com/Nino-cunei/oldbabylonian/blob/master/docs/transcription.md\" title=\"/Users/dirk/github/Nino-cunei/oldbabylonian/tf/1.0.5/ln.tf\">ln</a>  <a target=\"_blank\" href=\"https://github.com/Nino-cunei/oldbabylonian/blob/master/docs/transcription.md\" title=\"/Users/dirk/github/Nino-cunei/oldbabylonian/tf/1.0.5/lnc.tf\">lnc</a>  <a target=\"_blank\" href=\"https://github.com/Nino-cunei/oldbabylonian/blob/master/docs/transcription.md\" title=\"/Users/dirk/github/Nino-cunei/oldbabylonian/tf/1.0.5/lnno.tf\">lnno</a>  <a target=\"_blank\" href=\"https://github.com/Nino-cunei/oldbabylonian/blob/master/docs/transcription.md\" title=\"/Users/dirk/github/Nino-cunei/oldbabylonian/tf/1.0.5/material.tf\">material</a>  <a target=\"_blank\" href=\"https://github.com/Nino-cunei/oldbabylonian/blob/master/docs/transcription.md\" title=\"/Users/dirk/github/Nino-cunei/oldbabylonian/tf/1.0.5/missing.tf\">missing</a>  <a target=\"_blank\" href=\"https://github.com/Nino-cunei/oldbabylonian/blob/master/docs/transcription.md\" title=\"/Users/dirk/github/Nino-cunei/oldbabylonian/tf/1.0.5/museumcode.tf\">museumcode</a>  <a target=\"_blank\" href=\"https://github.com/Nino-cunei/oldbabylonian/blob/master/docs/transcription.md\" title=\"/Users/dirk/github/Nino-cunei/oldbabylonian/tf/1.0.5/museumname.tf\">museumname</a>  <a target=\"_blank\" href=\"https://github.com/Nino-cunei/oldbabylonian/blob/master/docs/transcription.md\" title=\"/Users/dirk/github/Nino-cunei/oldbabylonian/tf/1.0.5/object.tf\">object</a>  <a target=\"_blank\" href=\"https://github.com/Nino-cunei/oldbabylonian/blob/master/docs/transcription.md\" title=\"/Users/dirk/github/Nino-cunei/oldbabylonian/tf/1.0.5/operator.tf\">operator</a>  <a target=\"_blank\" href=\"https://github.com/Nino-cunei/oldbabylonian/blob/master/docs/transcription.md\" title=\"/Users/dirk/github/Nino-cunei/oldbabylonian/tf/1.0.5/operatorr.tf\">operatorr</a>  <a target=\"_blank\" href=\"https://github.com/Nino-cunei/oldbabylonian/blob/master/docs/transcription.md\" title=\"/Users/dirk/github/Nino-cunei/oldbabylonian/tf/1.0.5/operatoru.tf\">operatoru</a>  <a target=\"_blank\" href=\"https://github.com/Nino-cunei/oldbabylonian/blob/master/docs/transcription.md\" title=\"/Users/dirk/github/Nino-cunei/oldbabylonian/tf/1.0.5/otype.tf\">otype</a>  <a target=\"_blank\" href=\"https://github.com/Nino-cunei/oldbabylonian/blob/master/docs/transcription.md\" title=\"/Users/dirk/github/Nino-cunei/oldbabylonian/tf/1.0.5/period.tf\">period</a>  <a target=\"_blank\" href=\"https://github.com/Nino-cunei/oldbabylonian/blob/master/docs/transcription.md\" title=\"/Users/dirk/github/Nino-cunei/oldbabylonian/tf/1.0.5/pnumber.tf\">pnumber</a>  <a target=\"_blank\" href=\"https://github.com/Nino-cunei/oldbabylonian/blob/master/docs/transcription.md\" title=\"/Users/dirk/github/Nino-cunei/oldbabylonian/tf/1.0.5/primecol.tf\">primecol</a>  <a target=\"_blank\" href=\"https://github.com/Nino-cunei/oldbabylonian/blob/master/docs/transcription.md\" title=\"/Users/dirk/github/Nino-cunei/oldbabylonian/tf/1.0.5/primeln.tf\">primeln</a>  <a target=\"_blank\" href=\"https://github.com/Nino-cunei/oldbabylonian/blob/master/docs/transcription.md\" title=\"/Users/dirk/github/Nino-cunei/oldbabylonian/tf/1.0.5/pubdate.tf\">pubdate</a>  <a target=\"_blank\" href=\"https://github.com/Nino-cunei/oldbabylonian/blob/master/docs/transcription.md\" title=\"/Users/dirk/github/Nino-cunei/oldbabylonian/tf/1.0.5/question.tf\">question</a>  <a target=\"_blank\" href=\"https://github.com/Nino-cunei/oldbabylonian/blob/master/docs/transcription.md\" title=\"/Users/dirk/github/Nino-cunei/oldbabylonian/tf/1.0.5/reading.tf\">reading</a>  <a target=\"_blank\" href=\"https://github.com/Nino-cunei/oldbabylonian/blob/master/docs/transcription.md\" title=\"/Users/dirk/github/Nino-cunei/oldbabylonian/tf/1.0.5/readingr.tf\">readingr</a>  <a target=\"_blank\" href=\"https://github.com/Nino-cunei/oldbabylonian/blob/master/docs/transcription.md\" title=\"/Users/dirk/github/Nino-cunei/oldbabylonian/tf/1.0.5/readingu.tf\">readingu</a>  <a target=\"_blank\" href=\"https://github.com/Nino-cunei/oldbabylonian/blob/master/docs/transcription.md\" title=\"/Users/dirk/github/Nino-cunei/oldbabylonian/tf/1.0.5/remarkable.tf\">remarkable</a>  <a target=\"_blank\" href=\"https://github.com/Nino-cunei/oldbabylonian/blob/master/docs/transcription.md\" title=\"/Users/dirk/github/Nino-cunei/oldbabylonian/tf/1.0.5/remarks.tf\">remarks</a>  <a target=\"_blank\" href=\"https://github.com/Nino-cunei/oldbabylonian/blob/master/docs/transcription.md\" title=\"/Users/dirk/github/Nino-cunei/oldbabylonian/tf/1.0.5/repeat.tf\">repeat</a>  <a target=\"_blank\" href=\"https://github.com/Nino-cunei/oldbabylonian/blob/master/docs/transcription.md\" title=\"/Users/dirk/github/Nino-cunei/oldbabylonian/tf/1.0.5/srcLn.tf\">srcLn</a>  <a target=\"_blank\" href=\"https://github.com/Nino-cunei/oldbabylonian/blob/master/docs/transcription.md\" title=\"/Users/dirk/github/Nino-cunei/oldbabylonian/tf/1.0.5/srcLnNum.tf\">srcLnNum</a>  <a target=\"_blank\" href=\"https://github.com/Nino-cunei/oldbabylonian/blob/master/docs/transcription.md\" title=\"/Users/dirk/github/Nino-cunei/oldbabylonian/tf/1.0.5/srcfile.tf\">srcfile</a>  <a target=\"_blank\" href=\"https://github.com/Nino-cunei/oldbabylonian/blob/master/docs/transcription.md\" title=\"/Users/dirk/github/Nino-cunei/oldbabylonian/tf/1.0.5/subgenre.tf\">subgenre</a>  <a target=\"_blank\" href=\"https://github.com/Nino-cunei/oldbabylonian/blob/master/docs/transcription.md\" title=\"/Users/dirk/github/Nino-cunei/oldbabylonian/tf/1.0.5/supplied.tf\">supplied</a>  <a target=\"_blank\" href=\"https://github.com/Nino-cunei/oldbabylonian/blob/master/docs/transcription.md\" title=\"/Users/dirk/github/Nino-cunei/oldbabylonian/tf/1.0.5/sym.tf\">sym</a>  <a target=\"_blank\" href=\"https://github.com/Nino-cunei/oldbabylonian/blob/master/docs/transcription.md\" title=\"/Users/dirk/github/Nino-cunei/oldbabylonian/tf/1.0.5/symr.tf\">symr</a>  <a target=\"_blank\" href=\"https://github.com/Nino-cunei/oldbabylonian/blob/master/docs/transcription.md\" title=\"/Users/dirk/github/Nino-cunei/oldbabylonian/tf/1.0.5/symu.tf\">symu</a>  <a target=\"_blank\" href=\"https://github.com/Nino-cunei/oldbabylonian/blob/master/docs/transcription.md\" title=\"/Users/dirk/github/Nino-cunei/oldbabylonian/tf/1.0.5/trans.tf\">trans</a>  <a target=\"_blank\" href=\"https://github.com/Nino-cunei/oldbabylonian/blob/master/docs/transcription.md\" title=\"/Users/dirk/github/Nino-cunei/oldbabylonian/tf/1.0.5/transcriber.tf\">transcriber</a>  <a target=\"_blank\" href=\"https://github.com/Nino-cunei/oldbabylonian/blob/master/docs/transcription.md\" title=\"/Users/dirk/github/Nino-cunei/oldbabylonian/tf/1.0.5/translation@en.tf\">translation@ll</a>  <a target=\"_blank\" href=\"https://github.com/Nino-cunei/oldbabylonian/blob/master/docs/transcription.md\" title=\"/Users/dirk/github/Nino-cunei/oldbabylonian/tf/1.0.5/type.tf\">type</a>  <a target=\"_blank\" href=\"https://github.com/Nino-cunei/oldbabylonian/blob/master/docs/transcription.md\" title=\"/Users/dirk/github/Nino-cunei/oldbabylonian/tf/1.0.5/uncertain.tf\">uncertain</a>  <a target=\"_blank\" href=\"https://github.com/Nino-cunei/oldbabylonian/blob/master/docs/transcription.md\" title=\"/Users/dirk/github/Nino-cunei/oldbabylonian/tf/1.0.5/volume.tf\">volume</a>  <b><i><a target=\"_blank\" href=\"https://github.com/Nino-cunei/oldbabylonian/blob/master/docs/transcription.md\" title=\"/Users/dirk/github/Nino-cunei/oldbabylonian/tf/1.0.5/oslots.tf\">oslots</a></i></b> </p></details>"
      ],
      "text/plain": [
       "<IPython.core.display.HTML object>"
      ]
     },
     "metadata": {},
     "output_type": "display_data"
    },
    {
     "data": {
      "text/html": [
       "<style>tr.tf, td.tf, th.tf { text-align: left ! important;}@font-face {\n",
       "  font-family: \"Ezra SIL\";\n",
       "  src: local('Ezra SIL'), local('EzraSIL'),\n",
       "    url('/server/static/fonts/SILEOT.woff') format('woff'),\n",
       "    url('https://github.com/annotation/text-fabric/blob/master/tf/server/static/fonts/SILEOT.woff?raw=true') format('woff');\n",
       "}\n",
       "\n",
       "@font-face {\n",
       "  font-family: \"SBL Hebrew\";\n",
       "  src: local('SBL Hebrew'), local('SBLHebrew'),\n",
       "    url('/server/static/fonts/SBL_Hbrw.woff') format('woff'),\n",
       "    url('https://github.com/annotation/text-fabric/blob/master/tf/server/static/fonts/SBL_Hbrw.woff?raw=true') format('woff');\n",
       "}\n",
       "\n",
       "@font-face {\n",
       "  font-family: \"Estrangelo Edessa\";\n",
       "  src: local('Estrangelo Edessa'), local('EstrangeloEdessa');\n",
       "    url('/server/static/fonts/SyrCOMEdessa.woff') format('woff'),\n",
       "    url('https://github.com/annotation/text-fabric/blob/master/tf/server/static/fonts/SyrCOMEdessa.woff?raw=true') format('woff');\n",
       "}\n",
       "\n",
       "@font-face {\n",
       "  font-family: AmiriQuran;\n",
       "  font-style: normal;\n",
       "  font-weight: 400;\n",
       "  src: local('Amiri Quran'), local('AmiriQuran'),\n",
       "    url('/server/static/fonts/AmiriQuran.woff') format('woff'),\n",
       "    url('https://github.com/annotation/text-fabric/blob/master/tf/server/static/fonts/AmiriQuran.woff?raw=true') format('woff');\n",
       "}\n",
       "\n",
       "@font-face {\n",
       "  font-family: AmiriQuranColored;\n",
       "  font-style: normal;\n",
       "  font-weight: 400;\n",
       "  src: local('Amiri Quran Colored'), local('AmiriQuranColored'),\n",
       "    url('/server/static/fonts/AmiriQuranColored.woff') format('woff'),\n",
       "    url('https://github.com/annotation/text-fabric/blob/master/tf/server/static/fonts/AmiriQuranColored.woff?raw=true') format('woff');\n",
       "}\n",
       "\n",
       "@font-face {\n",
       "  font-family: \"Santakku\";\n",
       "  src: local('Santakku'),\n",
       "    url('/server/static/fonts/Santakku.woff') format('woff'),\n",
       "    url('https://github.com/annotation/text-fabric/blob/master/tf/server/static/fonts/Santakku.woff?raw=true') format('woff');\n",
       "}\n",
       "\n",
       "@font-face {\n",
       "  font-family: \"SantakkuM\";\n",
       "  src: local('SantakkuM'),\n",
       "    url('/server/static/fonts/SantakkuM.woff') format('woff'),\n",
       "    url('https://github.com/annotation/text-fabric/blob/master/tf/server/static/fonts/SantakkuM.woff?raw=true') format('woff');\n",
       "}\n",
       "/* bypassing some classical notebook settings */\n",
       "div#notebook {\n",
       "  line-height: unset;\n",
       "}\n",
       "/* neutral text */\n",
       ".txtn,.txtn a:visited,.txtn a:link {\n",
       "    font-family: sans-serif;\n",
       "    font-size: medium;\n",
       "    direction: ltr;\n",
       "    text-decoration: none;\n",
       "    color: var(--text-color);\n",
       "}\n",
       "/* transcription text */\n",
       ".txtt,.txtt a:visited,.txtt a:link {\n",
       "    font-family: monospace;\n",
       "    font-size: medium;\n",
       "    direction: ltr;\n",
       "    text-decoration: none;\n",
       "    color: var(--text-color);\n",
       "}\n",
       "/* source text */\n",
       ".txto,.txto a:visited,.txto a:link {\n",
       "    font-family: serif;\n",
       "    font-size: medium;\n",
       "    direction: ltr;\n",
       "    text-decoration: none;\n",
       "    color: var(--text-color);\n",
       "}\n",
       "/* phonetic text */\n",
       ".txtp,.txtp a:visited,.txtp a:link {\n",
       "    font-family: Gentium, sans-serif;\n",
       "    font-size: large;\n",
       "    direction: ltr;\n",
       "    text-decoration: none;\n",
       "    color: var(--text-color);\n",
       "}\n",
       "/* original script text */\n",
       ".txtu,.txtu a:visited,.txtu a:link {\n",
       "    font-family: Gentium, sans-serif;\n",
       "    font-size: large;\n",
       "    text-decoration: none;\n",
       "    color: var(--text-color);\n",
       "}\n",
       "/* hebrew */\n",
       ".txtu.hbo,.lex.hbo {\n",
       "    font-family: \"Ezra SIL\", \"SBL Hebrew\", sans-serif;\n",
       "    font-size: x-large;\n",
       "    direction: rtl ! important;\n",
       "    unicode-bidi: embed;\n",
       "}\n",
       "/* syriac */\n",
       ".txtu.syc,.lex.syc {\n",
       "    font-family: \"Estrangelo Edessa\", sans-serif;\n",
       "    font-size: large;\n",
       "    direction: rtl ! important;\n",
       "    unicode-bidi: embed;\n",
       "}\n",
       "/* neo aramaic */\n",
       ".txtu.cld,.lex.cld {\n",
       "    font-family: \"CharisSIL-R\", sans-serif;\n",
       "    font-size: medium;\n",
       "    direction: ltr ! important;\n",
       "    unicode-bidi: embed;\n",
       "}\n",
       "/* standard arabic */\n",
       ".txtu.ara,.lex.ara {\n",
       "    font-family: \"AmiriQuran\", sans-serif;\n",
       "    font-size: large;\n",
       "    direction: rtl ! important;\n",
       "    unicode-bidi: embed;\n",
       "}\n",
       "/* cuneiform */\n",
       ".txtu.akk,.lex.akk {\n",
       "    font-family: Santakku, sans-serif;\n",
       "    font-size: x-large;\n",
       "    direction: ltr ! important;\n",
       "    unicode-bidi: embed;\n",
       "}\n",
       "/* greek */\n",
       ".txtu.grc,.lex.grc a:link {\n",
       "    font-family: Gentium, sans-serif;\n",
       "    font-size: medium;\n",
       "    direction: ltr ! important;\n",
       "    unicode-bidi: embed;\n",
       "}\n",
       "a:hover {\n",
       "    text-decoration: underline | important;\n",
       "    color: #0000ff | important;\n",
       "}\n",
       ".ltr {\n",
       "    direction: ltr ! important;\n",
       "}\n",
       ".rtl {\n",
       "    direction: rtl ! important;\n",
       "}\n",
       "span.plain {\n",
       "    display: inline-block;\n",
       "    white-space: pre-wrap;\n",
       "    text-align: start;\n",
       "}\n",
       ".features {\n",
       "    font-family: monospace;\n",
       "    font-size: medium;\n",
       "    font-weight: bold;\n",
       "    color: var(--features);\n",
       "    display: flex;\n",
       "    flex-flow: column nowrap;\n",
       "    justify-content: flex-start;\n",
       "    align-items: flex-start;\n",
       "    align-content: flex-start;\n",
       "    padding: 0.1rem;\n",
       "    margin: 0.1rem;\n",
       "    direction: ltr;\n",
       "    border: var(--meta-width) solid var(--meta-color);\n",
       "    border-radius: var(--meta-width);\n",
       "}\n",
       ".features div,.features span {\n",
       "    padding: 0;\n",
       "    margin: -0.1rem 0;\n",
       "}\n",
       ".features .f {\n",
       "    font-family: sans-serif;\n",
       "    font-size: small;\n",
       "    font-weight: normal;\n",
       "    color: #5555bb;\n",
       "}\n",
       ".features .xft {\n",
       "  color: #000000;\n",
       "  background-color: #eeeeee;\n",
       "  font-size: medium;\n",
       "  margin: 0.1rem 0rem;\n",
       "}\n",
       ".features .xft .f {\n",
       "  color: #000000;\n",
       "  background-color: #eeeeee;\n",
       "  font-size: small;\n",
       "  font-weight: normal;\n",
       "}\n",
       ".section {\n",
       "    font-family: sans-serif;\n",
       "    font-size: small;\n",
       "    font-weight: bold;\n",
       "    color: var(--section);\n",
       "}\n",
       ".structure {\n",
       "    font-family: sans-serif;\n",
       "    font-size: small;\n",
       "    font-weight: bold;\n",
       "    color: var(--structure);\n",
       "}\n",
       ".comments {\n",
       "    display: flex;\n",
       "    justify-content: flex-start;\n",
       "    align-items: flex-start;\n",
       "    align-content: flex-start;\n",
       "    flex-flow: column nowrap;\n",
       "}\n",
       ".nd {\n",
       "    font-family: sans-serif;\n",
       "    font-size: small;\n",
       "    color: var(--node);\n",
       "    vertical-align: super;\n",
       "}\n",
       ".lex {\n",
       "  color: var(--lex-color);;\n",
       "}\n",
       ".children,.children.ltr {\n",
       "    display: flex;\n",
       "    border: 0;\n",
       "    background-color: #ffffff;\n",
       "    justify-content: flex-start;\n",
       "    align-items: flex-start;\n",
       "    align-content: flex-start;\n",
       "}\n",
       ".children.stretch {\n",
       "    align-items: stretch;\n",
       "}\n",
       ".children.hor {\n",
       "    flex-flow: row nowrap;\n",
       "}\n",
       ".children.hor.wrap {\n",
       "    flex-flow: row wrap;\n",
       "}\n",
       ".children.ver {\n",
       "    flex-flow: column nowrap;\n",
       "}\n",
       ".children.ver.wrap {\n",
       "    flex-flow: column wrap;\n",
       "}\n",
       ".contnr {\n",
       "    width: fit-content;\n",
       "    display: flex;\n",
       "    justify-content: flex-start;\n",
       "    align-items: flex-start;\n",
       "    align-content: flex-start;\n",
       "    flex-flow: column nowrap;\n",
       "    background: #ffffff none repeat scroll 0 0;\n",
       "    padding:  0.5rem 0.1rem 0.1rem 0.1rem;\n",
       "    margin: 0.8rem 0.1rem 0.1rem 0.1rem;\n",
       "    border-style: solid;\n",
       "    font-size: small;\n",
       "}\n",
       ".contnr.trm {\n",
       "    background-attachment: local;\n",
       "}\n",
       ".contnr.cnul {\n",
       "    padding:  0;\n",
       "    margin: 0;\n",
       "    border-style: solid;\n",
       "    font-size: xx-small;\n",
       "}\n",
       ".contnr.cnul,.lbl.cnul {\n",
       "    border-color: var(--border-color-nul);\n",
       "    border-width: var(--border-width-nul);\n",
       "    border-radius: var(--border-width-nul);\n",
       "}\n",
       ".contnr.c0,.lbl.c0 {\n",
       "    border-color: var(--border-color0);\n",
       "    border-width: var(--border-width0);\n",
       "    border-radius: var(--border-width0);\n",
       "}\n",
       ".contnr.c1,.lbl.c1 {\n",
       "    border-color: var(--border-color1);\n",
       "    border-width: var(--border-width1);\n",
       "    border-radius: var(--border-width1);\n",
       "}\n",
       ".contnr.c2,.lbl.c2 {\n",
       "    border-color: var(--border-color2);\n",
       "    border-width: var(--border-width2);\n",
       "    border-radius: var(--border-width2);\n",
       "}\n",
       ".contnr.c3,.lbl.c3 {\n",
       "    border-color: var(--border-color3);\n",
       "    border-width: var(--border-width3);\n",
       "    border-radius: var(--border-width3);\n",
       "}\n",
       ".contnr.c4,.lbl.c4 {\n",
       "    border-color: var(--border-color4);\n",
       "    border-width: var(--border-width4);\n",
       "    border-radius: var(--border-width4);\n",
       "}\n",
       ".contnr.l {\n",
       "    border-left-style: dotted\n",
       "}\n",
       ".contnr.r {\n",
       "    border-right-style: dotted\n",
       "}\n",
       ".contnr.lno {\n",
       "    border-left-style: none\n",
       "}\n",
       ".contnr.rno {\n",
       "    border-right-style: none\n",
       "}\n",
       ".lbl {\n",
       "    font-family: monospace;\n",
       "    margin-top: -1.2rem;\n",
       "    margin-left: 1rem;\n",
       "    background: #ffffff none repeat scroll 0 0;\n",
       "    padding: 0 0.3rem;\n",
       "    border-style: solid;\n",
       "    display: block;\n",
       "    color: var(--label)\n",
       "}\n",
       ".lbl.trm {\n",
       "    background-attachment: local;\n",
       "    margin-top: 0.1rem;\n",
       "    margin-left: 0.1rem;\n",
       "    padding: 0.1rem 0.1rem;\n",
       "    border-style: none;\n",
       "}\n",
       ".lbl.cnul {\n",
       "    font-size: xx-small;\n",
       "}\n",
       ".lbl.c0 {\n",
       "    font-size: small;\n",
       "}\n",
       ".lbl.c1 {\n",
       "    font-size: small;\n",
       "}\n",
       ".lbl.c2 {\n",
       "    font-size: medium;\n",
       "}\n",
       ".lbl.c3 {\n",
       "    font-size: medium;\n",
       "}\n",
       ".lbl.c4 {\n",
       "    font-size: large;\n",
       "}\n",
       ".occs {\n",
       "    font-size: small;\n",
       "}\n",
       "\n",
       "/* PROVENANCE */\n",
       "\n",
       "div.prov {\n",
       "\tmargin: 2rem;\n",
       "\tpadding: 1rem;\n",
       "\tborder: 0.1rem solid var(--fog-rim);\n",
       "}\n",
       "div.pline {\n",
       "\tdisplay: flex;\n",
       "\tflex-flow: row nowrap;\n",
       "\tjustify-content: stretch;\n",
       "\talign-items: baseline;\n",
       "}\n",
       "div.p2line {\n",
       "\tmargin-left: 2em;\n",
       "\tdisplay: flex;\n",
       "\tflex-flow: row nowrap;\n",
       "\tjustify-content: stretch;\n",
       "\talign-items: baseline;\n",
       "}\n",
       "div.psline {\n",
       "\tdisplay: flex;\n",
       "\tflex-flow: row nowrap;\n",
       "\tjustify-content: stretch;\n",
       "\talign-items: baseline;\n",
       "\tbackground-color: var(--gold-mist-back);\n",
       "}\n",
       "div.pname {\n",
       "\tflex: 0 0 5rem;\n",
       "\tfont-weight: bold;\n",
       "}\n",
       "div.pval {\n",
       "    flex: 1 1 auto;\n",
       "}\n",
       "\n",
       ":root {\n",
       "\t--node:             hsla(120, 100%,  20%, 1.0  );\n",
       "\t--label:            hsla(  0, 100%,  20%, 1.0  );\n",
       "\t--section:          hsla(  0, 100%,  25%, 1.0  );\n",
       "\t--structure:        hsla(120, 100%,  25%, 1.0  );\n",
       "\t--features:         hsla(  0,   0%,  30%, 1.0  );\n",
       "  --text-color:       hsla( 60,  80%,  10%, 1.0  );\n",
       "  --lex-color:        hsla(220,  90%,  60%, 1.0  );\n",
       "  --meta-color:       hsla(  0,   0%,  90%, 0.7  );\n",
       "  --meta-width:       0.15rem;\n",
       "  --border-color-nul: hsla(  0,   0%,  90%, 0.5  );\n",
       "  --border-color0:    hsla(  0,   0%,  90%, 0.9  );\n",
       "  --border-color1:    hsla(  0,   0%,  80%, 0.9  );\n",
       "  --border-color2:    hsla(  0,   0%,  70%, 0.9  );\n",
       "  --border-color3:    hsla(  0,   0%,  80%, 0.8  );\n",
       "  --border-color4:    hsla(  0,   0%,  60%, 0.9  );\n",
       "  --border-width-nul: 0.1rem;\n",
       "  --border-width0:    0.1rem;\n",
       "  --border-width1:    0.15rem;\n",
       "  --border-width2:    0.2rem;\n",
       "  --border-width3:    0.3rem;\n",
       "  --border-width4:    0.25rem;\n",
       "}\n",
       ".hl {\n",
       "  background-color: var(--hl-strong);\n",
       "}\n",
       "span.hl {\n",
       "\tbackground-color: var(--hl-strong);\n",
       "\tborder-width: 0;\n",
       "\tborder-radius: 0.1rem;\n",
       "\tborder-style: solid;\n",
       "}\n",
       "div.contnr.hl,div.lbl.hl {\n",
       "  background-color: var(--hl-strong);\n",
       "}\n",
       "div.contnr.hl {\n",
       "  border-color: var(--hl-rim) ! important;\n",
       "\tborder-width: 0.2rem ! important;\n",
       "}\n",
       "\n",
       "span.hlbx {\n",
       "\tborder-color: var(--hl-rim);\n",
       "\tborder-width: 0.2rem;\n",
       "\tborder-style: solid;\n",
       "\tborder-radius: 0.3rem;\n",
       "  padding: 0.2rem;\n",
       "  margin: 0.2rem;\n",
       "}\n",
       "\n",
       "span.plain {\n",
       "  display: inline-block;\n",
       "  white-space: pre-wrap;\n",
       "}\n",
       "\n",
       ":root {\n",
       "\t--hl-strong:        hsla( 60, 100%,  70%, 0.9  );\n",
       "\t--hl-rim:           hsla( 55,  80%,  50%, 1.0  );\n",
       "}\n",
       ".pnum {\n",
       "    font-family: sans-serif;\n",
       "    font-size: small;\n",
       "    font-weight: bold;\n",
       "    color: #444444;\n",
       "}\n",
       ".op {\n",
       "    padding:  0.5em 0.1em 0.1em 0.1em;\n",
       "    margin: 0.8em 0.1em 0.1em 0.1em;\n",
       "    font-family: monospace;\n",
       "    font-size: x-large;\n",
       "    font-weight: bold;\n",
       "}\n",
       ".period {\n",
       "    font-family: monospace;\n",
       "    font-size: medium;\n",
       "    font-weight: bold;\n",
       "    color: #0000bb;\n",
       "}\n",
       ".comment {\n",
       "    color: #7777dd;\n",
       "    font-family: monospace;\n",
       "    font-size: small;\n",
       "}\n",
       ".operator {\n",
       "    color: #ff77ff;\n",
       "    font-size: large;\n",
       "}\n",
       "/* LANGUAGE: superscript and subscript */\n",
       "\n",
       "/* cluster */\n",
       ".det {\n",
       "    vertical-align: super;\n",
       "}\n",
       "/* cluster */\n",
       ".langalt {\n",
       "    vertical-align: sub;\n",
       "}\n",
       "/* REDACTIONAL: line over or under  */\n",
       "\n",
       "/* flag */\n",
       ".collated {\n",
       "    font-weight: bold;\n",
       "    text-decoration: underline;\n",
       "}\n",
       "/* cluster */\n",
       ".excised {\n",
       "    color: #dd0000;\n",
       "    text-decoration: line-through;\n",
       "}\n",
       "/* cluster */\n",
       ".supplied {\n",
       "    color: #0000ff;\n",
       "    text-decoration: overline;\n",
       "}\n",
       "/* flag */\n",
       ".remarkable {\n",
       "    font-weight: bold;\n",
       "    text-decoration: overline;\n",
       "}\n",
       "\n",
       "/* UNSURE: italic*/\n",
       "\n",
       "/* cluster */\n",
       ".uncertain {\n",
       "    font-style: italic\n",
       "}\n",
       "/* flag */\n",
       ".question {\n",
       "    font-weight: bold;\n",
       "    font-style: italic\n",
       "}\n",
       "\n",
       "/* BROKEN: text-shadow */\n",
       "\n",
       "/* cluster */\n",
       ".missing {\n",
       "    color: #999999;\n",
       "    text-shadow: #bbbbbb 1px 1px;\n",
       "}\n",
       "/* flag */\n",
       ".damage {\n",
       "    font-weight: bold;\n",
       "    color: #999999;\n",
       "    text-shadow: #bbbbbb 1px 1px;\n",
       "}\n",
       ".empty {\n",
       "  color: #ff0000;\n",
       "}\n",
       "\n",
       "</style>"
      ],
      "text/plain": [
       "<IPython.core.display.HTML object>"
      ]
     },
     "metadata": {},
     "output_type": "display_data"
    },
    {
     "data": {
      "text/html": [
       "<details open><summary><b>API members</b>:</summary>\n",
       "<a target=\"_blank\" href=\"https://annotation.github.io/text-fabric/Api/Computed/#computed-data\" title=\"doc\">C Computed</a>, <a target=\"_blank\" href=\"https://annotation.github.io/text-fabric/Api/Computed/#computed-data\" title=\"doc\">Call AllComputeds</a>, <a target=\"_blank\" href=\"https://annotation.github.io/text-fabric/Api/Computed/#computed-data\" title=\"doc\">Cs ComputedString</a><br/>\n",
       "<a target=\"_blank\" href=\"https://annotation.github.io/text-fabric/Api/Features/#edge-features\" title=\"doc\">E Edge</a>, <a target=\"_blank\" href=\"https://annotation.github.io/text-fabric/Api/Features/#edge-features\" title=\"doc\">Eall AllEdges</a>, <a target=\"_blank\" href=\"https://annotation.github.io/text-fabric/Api/Features/#edge-features\" title=\"doc\">Es EdgeString</a><br/>\n",
       "<a target=\"_blank\" href=\"https://annotation.github.io/text-fabric/Api/Fabric/#loading\" title=\"doc\">ensureLoaded</a>, <a target=\"_blank\" href=\"https://annotation.github.io/text-fabric/Api/Fabric/#loading\" title=\"doc\">TF</a>, <a target=\"_blank\" href=\"https://annotation.github.io/text-fabric/Api/Fabric/#loading\" title=\"doc\">ignored</a>, <a target=\"_blank\" href=\"https://annotation.github.io/text-fabric/Api/Fabric/#loading\" title=\"doc\">loadLog</a><br/>\n",
       "<a target=\"_blank\" href=\"https://annotation.github.io/text-fabric/Api/Locality/#locality\" title=\"doc\">L Locality</a><br/>\n",
       "<a target=\"_blank\" href=\"https://annotation.github.io/text-fabric/Api/Misc/#messaging\" title=\"doc\">cache</a>, <a target=\"_blank\" href=\"https://annotation.github.io/text-fabric/Api/Misc/#messaging\" title=\"doc\">error</a>, <a target=\"_blank\" href=\"https://annotation.github.io/text-fabric/Api/Misc/#messaging\" title=\"doc\">indent</a>, <a target=\"_blank\" href=\"https://annotation.github.io/text-fabric/Api/Misc/#messaging\" title=\"doc\">info</a>, <a target=\"_blank\" href=\"https://annotation.github.io/text-fabric/Api/Misc/#messaging\" title=\"doc\">isSilent</a>, <a target=\"_blank\" href=\"https://annotation.github.io/text-fabric/Api/Misc/#messaging\" title=\"doc\">reset</a>, <a target=\"_blank\" href=\"https://annotation.github.io/text-fabric/Api/Misc/#messaging\" title=\"doc\">setSilent</a>, <a target=\"_blank\" href=\"https://annotation.github.io/text-fabric/Api/Misc/#messaging\" title=\"doc\">silentOff</a>, <a target=\"_blank\" href=\"https://annotation.github.io/text-fabric/Api/Misc/#messaging\" title=\"doc\">silentOn</a>, <a target=\"_blank\" href=\"https://annotation.github.io/text-fabric/Api/Misc/#messaging\" title=\"doc\">warning</a><br/>\n",
       "<a target=\"_blank\" href=\"https://annotation.github.io/text-fabric/Api/Nodes/#navigating-nodes\" title=\"doc\">N Nodes</a>, <a target=\"_blank\" href=\"https://annotation.github.io/text-fabric/Api/Nodes/#navigating-nodes\" title=\"doc\">sortKey</a>, <a target=\"_blank\" href=\"https://annotation.github.io/text-fabric/Api/Nodes/#navigating-nodes\" title=\"doc\">sortKeyTuple</a>, <a target=\"_blank\" href=\"https://annotation.github.io/text-fabric/Api/Nodes/#navigating-nodes\" title=\"doc\">otypeRank</a>, <a target=\"_blank\" href=\"https://annotation.github.io/text-fabric/Api/Nodes/#navigating-nodes\" title=\"doc\">sortNodes</a><br/>\n",
       "<a target=\"_blank\" href=\"https://annotation.github.io/text-fabric/Api/Features/#node-features\" title=\"doc\">F Feature</a>, <a target=\"_blank\" href=\"https://annotation.github.io/text-fabric/Api/Features/#node-features\" title=\"doc\">Fall AllFeatures</a>, <a target=\"_blank\" href=\"https://annotation.github.io/text-fabric/Api/Features/#node-features\" title=\"doc\">Fs FeatureString</a><br/>\n",
       "<a target=\"_blank\" href=\"https://annotation.github.io/text-fabric/Api/Search/#search\" title=\"doc\">S Search</a><br/>\n",
       "<a target=\"_blank\" href=\"https://annotation.github.io/text-fabric/Api/Text/#text\" title=\"doc\">T Text</a></details>"
      ],
      "text/plain": [
       "<IPython.core.display.HTML object>"
      ]
     },
     "metadata": {},
     "output_type": "display_data"
    }
   ],
   "source": [
    "A = use('oldbabylonian:clone', checkout=\"clone\", hoist=globals())"
   ]
  },
  {
   "cell_type": "code",
   "execution_count": 30,
   "metadata": {},
   "outputs": [
    {
     "data": {
      "text/html": [
       "<style>tr.tf, td.tf, th.tf { text-align: left ! important;}@font-face {\n",
       "  font-family: \"Ezra SIL\";\n",
       "  src: local('Ezra SIL'), local('EzraSIL'),\n",
       "    url('/server/static/fonts/SILEOT.woff') format('woff'),\n",
       "    url('https://github.com/annotation/text-fabric/blob/master/tf/server/static/fonts/SILEOT.woff?raw=true') format('woff');\n",
       "}\n",
       "\n",
       "@font-face {\n",
       "  font-family: \"SBL Hebrew\";\n",
       "  src: local('SBL Hebrew'), local('SBLHebrew'),\n",
       "    url('/server/static/fonts/SBL_Hbrw.woff') format('woff'),\n",
       "    url('https://github.com/annotation/text-fabric/blob/master/tf/server/static/fonts/SBL_Hbrw.woff?raw=true') format('woff');\n",
       "}\n",
       "\n",
       "@font-face {\n",
       "  font-family: \"Estrangelo Edessa\";\n",
       "  src: local('Estrangelo Edessa'), local('EstrangeloEdessa');\n",
       "    url('/server/static/fonts/SyrCOMEdessa.woff') format('woff'),\n",
       "    url('https://github.com/annotation/text-fabric/blob/master/tf/server/static/fonts/SyrCOMEdessa.woff?raw=true') format('woff');\n",
       "}\n",
       "\n",
       "@font-face {\n",
       "  font-family: AmiriQuran;\n",
       "  font-style: normal;\n",
       "  font-weight: 400;\n",
       "  src: local('Amiri Quran'), local('AmiriQuran'),\n",
       "    url('/server/static/fonts/AmiriQuran.woff') format('woff'),\n",
       "    url('https://github.com/annotation/text-fabric/blob/master/tf/server/static/fonts/AmiriQuran.woff?raw=true') format('woff');\n",
       "}\n",
       "\n",
       "@font-face {\n",
       "  font-family: AmiriQuranColored;\n",
       "  font-style: normal;\n",
       "  font-weight: 400;\n",
       "  src: local('Amiri Quran Colored'), local('AmiriQuranColored'),\n",
       "    url('/server/static/fonts/AmiriQuranColored.woff') format('woff'),\n",
       "    url('https://github.com/annotation/text-fabric/blob/master/tf/server/static/fonts/AmiriQuranColored.woff?raw=true') format('woff');\n",
       "}\n",
       "\n",
       "@font-face {\n",
       "  font-family: \"Santakku\";\n",
       "  src: local('Santakku'),\n",
       "    url('/server/static/fonts/Santakku.woff') format('woff'),\n",
       "    url('https://github.com/annotation/text-fabric/blob/master/tf/server/static/fonts/Santakku.woff?raw=true') format('woff');\n",
       "}\n",
       "\n",
       "@font-face {\n",
       "  font-family: \"SantakkuM\";\n",
       "  src: local('SantakkuM'),\n",
       "    url('/server/static/fonts/SantakkuM.woff') format('woff'),\n",
       "    url('https://github.com/annotation/text-fabric/blob/master/tf/server/static/fonts/SantakkuM.woff?raw=true') format('woff');\n",
       "}\n",
       "/* bypassing some classical notebook settings */\n",
       "div#notebook {\n",
       "  line-height: unset;\n",
       "}\n",
       "/* neutral text */\n",
       ".txtn,.txtn a:visited,.txtn a:link {\n",
       "    font-family: sans-serif;\n",
       "    font-size: medium;\n",
       "    direction: ltr;\n",
       "    text-decoration: none;\n",
       "    color: var(--text-color);\n",
       "}\n",
       "/* transcription text */\n",
       ".txtt,.txtt a:visited,.txtt a:link {\n",
       "    font-family: monospace;\n",
       "    font-size: medium;\n",
       "    direction: ltr;\n",
       "    text-decoration: none;\n",
       "    color: var(--text-color);\n",
       "}\n",
       "/* source text */\n",
       ".txto,.txto a:visited,.txto a:link {\n",
       "    font-family: serif;\n",
       "    font-size: medium;\n",
       "    direction: ltr;\n",
       "    text-decoration: none;\n",
       "    color: var(--text-color);\n",
       "}\n",
       "/* phonetic text */\n",
       ".txtp,.txtp a:visited,.txtp a:link {\n",
       "    font-family: Gentium, sans-serif;\n",
       "    font-size: large;\n",
       "    direction: ltr;\n",
       "    text-decoration: none;\n",
       "    color: var(--text-color);\n",
       "}\n",
       "/* original script text */\n",
       ".txtu,.txtu a:visited,.txtu a:link {\n",
       "    font-family: Gentium, sans-serif;\n",
       "    font-size: large;\n",
       "    text-decoration: none;\n",
       "    color: var(--text-color);\n",
       "}\n",
       "/* hebrew */\n",
       ".txtu.hbo,.lex.hbo {\n",
       "    font-family: \"Ezra SIL\", \"SBL Hebrew\", sans-serif;\n",
       "    font-size: x-large;\n",
       "    direction: rtl ! important;\n",
       "    unicode-bidi: embed;\n",
       "}\n",
       "/* syriac */\n",
       ".txtu.syc,.lex.syc {\n",
       "    font-family: \"Estrangelo Edessa\", sans-serif;\n",
       "    font-size: large;\n",
       "    direction: rtl ! important;\n",
       "    unicode-bidi: embed;\n",
       "}\n",
       "/* neo aramaic */\n",
       ".txtu.cld,.lex.cld {\n",
       "    font-family: \"CharisSIL-R\", sans-serif;\n",
       "    font-size: medium;\n",
       "    direction: ltr ! important;\n",
       "    unicode-bidi: embed;\n",
       "}\n",
       "/* standard arabic */\n",
       ".txtu.ara,.lex.ara {\n",
       "    font-family: \"AmiriQuran\", sans-serif;\n",
       "    font-size: large;\n",
       "    direction: rtl ! important;\n",
       "    unicode-bidi: embed;\n",
       "}\n",
       "/* cuneiform */\n",
       ".txtu.akk,.lex.akk {\n",
       "    font-family: Santakku, sans-serif;\n",
       "    font-size: x-large;\n",
       "    direction: ltr ! important;\n",
       "    unicode-bidi: embed;\n",
       "}\n",
       "/* greek */\n",
       ".txtu.grc,.lex.grc a:link {\n",
       "    font-family: Gentium, sans-serif;\n",
       "    font-size: medium;\n",
       "    direction: ltr ! important;\n",
       "    unicode-bidi: embed;\n",
       "}\n",
       "a:hover {\n",
       "    text-decoration: underline | important;\n",
       "    color: #0000ff | important;\n",
       "}\n",
       ".ltr {\n",
       "    direction: ltr ! important;\n",
       "}\n",
       ".rtl {\n",
       "    direction: rtl ! important;\n",
       "}\n",
       "span.plain {\n",
       "    display: inline-block;\n",
       "    white-space: pre-wrap;\n",
       "    text-align: start;\n",
       "}\n",
       ".features {\n",
       "    font-family: monospace;\n",
       "    font-size: medium;\n",
       "    font-weight: bold;\n",
       "    color: var(--features);\n",
       "    display: flex;\n",
       "    flex-flow: column nowrap;\n",
       "    justify-content: flex-start;\n",
       "    align-items: flex-start;\n",
       "    align-content: flex-start;\n",
       "    padding: 0.1rem;\n",
       "    margin: 0.1rem;\n",
       "    direction: ltr;\n",
       "    border: var(--meta-width) solid var(--meta-color);\n",
       "    border-radius: var(--meta-width);\n",
       "}\n",
       ".features div,.features span {\n",
       "    padding: 0;\n",
       "    margin: -0.1rem 0;\n",
       "}\n",
       ".features .f {\n",
       "    font-family: sans-serif;\n",
       "    font-size: small;\n",
       "    font-weight: normal;\n",
       "    color: #5555bb;\n",
       "}\n",
       ".features .xft {\n",
       "  color: #000000;\n",
       "  background-color: #eeeeee;\n",
       "  font-size: medium;\n",
       "  margin: 0.1rem 0rem;\n",
       "}\n",
       ".features .xft .f {\n",
       "  color: #000000;\n",
       "  background-color: #eeeeee;\n",
       "  font-size: small;\n",
       "  font-weight: normal;\n",
       "}\n",
       ".section {\n",
       "    font-family: sans-serif;\n",
       "    font-size: small;\n",
       "    font-weight: bold;\n",
       "    color: var(--section);\n",
       "}\n",
       ".structure {\n",
       "    font-family: sans-serif;\n",
       "    font-size: small;\n",
       "    font-weight: bold;\n",
       "    color: var(--structure);\n",
       "}\n",
       ".comments {\n",
       "    display: flex;\n",
       "    justify-content: flex-start;\n",
       "    align-items: flex-start;\n",
       "    align-content: flex-start;\n",
       "    flex-flow: column nowrap;\n",
       "}\n",
       ".nd {\n",
       "    font-family: sans-serif;\n",
       "    font-size: small;\n",
       "    color: var(--node);\n",
       "    vertical-align: super;\n",
       "}\n",
       ".lex {\n",
       "  color: var(--lex-color);;\n",
       "}\n",
       ".children,.children.ltr {\n",
       "    display: flex;\n",
       "    border: 0;\n",
       "    background-color: #ffffff;\n",
       "    justify-content: flex-start;\n",
       "    align-items: flex-start;\n",
       "    align-content: flex-start;\n",
       "}\n",
       ".children.stretch {\n",
       "    align-items: stretch;\n",
       "}\n",
       ".children.hor {\n",
       "    flex-flow: row nowrap;\n",
       "}\n",
       ".children.hor.wrap {\n",
       "    flex-flow: row wrap;\n",
       "}\n",
       ".children.ver {\n",
       "    flex-flow: column nowrap;\n",
       "}\n",
       ".children.ver.wrap {\n",
       "    flex-flow: column wrap;\n",
       "}\n",
       ".contnr {\n",
       "    width: fit-content;\n",
       "    display: flex;\n",
       "    justify-content: flex-start;\n",
       "    align-items: flex-start;\n",
       "    align-content: flex-start;\n",
       "    flex-flow: column nowrap;\n",
       "    background: #ffffff none repeat scroll 0 0;\n",
       "    padding:  0.5rem 0.1rem 0.1rem 0.1rem;\n",
       "    margin: 0.8rem 0.1rem 0.1rem 0.1rem;\n",
       "    border-style: solid;\n",
       "    font-size: small;\n",
       "}\n",
       ".contnr.trm {\n",
       "    background-attachment: local;\n",
       "}\n",
       ".contnr.cnul {\n",
       "    padding:  0;\n",
       "    margin: 0;\n",
       "    border-style: solid;\n",
       "    font-size: xx-small;\n",
       "}\n",
       ".contnr.cnul,.lbl.cnul {\n",
       "    border-color: var(--border-color-nul);\n",
       "    border-width: var(--border-width-nul);\n",
       "    border-radius: var(--border-width-nul);\n",
       "}\n",
       ".contnr.c0,.lbl.c0 {\n",
       "    border-color: var(--border-color0);\n",
       "    border-width: var(--border-width0);\n",
       "    border-radius: var(--border-width0);\n",
       "}\n",
       ".contnr.c1,.lbl.c1 {\n",
       "    border-color: var(--border-color1);\n",
       "    border-width: var(--border-width1);\n",
       "    border-radius: var(--border-width1);\n",
       "}\n",
       ".contnr.c2,.lbl.c2 {\n",
       "    border-color: var(--border-color2);\n",
       "    border-width: var(--border-width2);\n",
       "    border-radius: var(--border-width2);\n",
       "}\n",
       ".contnr.c3,.lbl.c3 {\n",
       "    border-color: var(--border-color3);\n",
       "    border-width: var(--border-width3);\n",
       "    border-radius: var(--border-width3);\n",
       "}\n",
       ".contnr.c4,.lbl.c4 {\n",
       "    border-color: var(--border-color4);\n",
       "    border-width: var(--border-width4);\n",
       "    border-radius: var(--border-width4);\n",
       "}\n",
       ".contnr.l {\n",
       "    border-left-style: dotted\n",
       "}\n",
       ".contnr.r {\n",
       "    border-right-style: dotted\n",
       "}\n",
       ".contnr.lno {\n",
       "    border-left-style: none\n",
       "}\n",
       ".contnr.rno {\n",
       "    border-right-style: none\n",
       "}\n",
       ".lbl {\n",
       "    font-family: monospace;\n",
       "    margin-top: -1.2rem;\n",
       "    margin-left: 1rem;\n",
       "    background: #ffffff none repeat scroll 0 0;\n",
       "    padding: 0 0.3rem;\n",
       "    border-style: solid;\n",
       "    display: block;\n",
       "    color: var(--label)\n",
       "}\n",
       ".lbl.trm {\n",
       "    background-attachment: local;\n",
       "    margin-top: 0.1rem;\n",
       "    margin-left: 0.1rem;\n",
       "    padding: 0.1rem 0.1rem;\n",
       "    border-style: none;\n",
       "}\n",
       ".lbl.cnul {\n",
       "    font-size: xx-small;\n",
       "}\n",
       ".lbl.c0 {\n",
       "    font-size: small;\n",
       "}\n",
       ".lbl.c1 {\n",
       "    font-size: small;\n",
       "}\n",
       ".lbl.c2 {\n",
       "    font-size: medium;\n",
       "}\n",
       ".lbl.c3 {\n",
       "    font-size: medium;\n",
       "}\n",
       ".lbl.c4 {\n",
       "    font-size: large;\n",
       "}\n",
       ".occs {\n",
       "    font-size: small;\n",
       "}\n",
       "\n",
       "/* PROVENANCE */\n",
       "\n",
       "div.prov {\n",
       "\tmargin: 2rem;\n",
       "\tpadding: 1rem;\n",
       "\tborder: 0.1rem solid var(--fog-rim);\n",
       "}\n",
       "div.pline {\n",
       "\tdisplay: flex;\n",
       "\tflex-flow: row nowrap;\n",
       "\tjustify-content: stretch;\n",
       "\talign-items: baseline;\n",
       "}\n",
       "div.p2line {\n",
       "\tmargin-left: 2em;\n",
       "\tdisplay: flex;\n",
       "\tflex-flow: row nowrap;\n",
       "\tjustify-content: stretch;\n",
       "\talign-items: baseline;\n",
       "}\n",
       "div.psline {\n",
       "\tdisplay: flex;\n",
       "\tflex-flow: row nowrap;\n",
       "\tjustify-content: stretch;\n",
       "\talign-items: baseline;\n",
       "\tbackground-color: var(--gold-mist-back);\n",
       "}\n",
       "div.pname {\n",
       "\tflex: 0 0 5rem;\n",
       "\tfont-weight: bold;\n",
       "}\n",
       "div.pval {\n",
       "    flex: 1 1 auto;\n",
       "}\n",
       "\n",
       ":root {\n",
       "\t--node:             hsla(120, 100%,  20%, 1.0  );\n",
       "\t--label:            hsla(  0, 100%,  20%, 1.0  );\n",
       "\t--section:          hsla(  0, 100%,  25%, 1.0  );\n",
       "\t--structure:        hsla(120, 100%,  25%, 1.0  );\n",
       "\t--features:         hsla(  0,   0%,  30%, 1.0  );\n",
       "  --text-color:       hsla( 60,  80%,  10%, 1.0  );\n",
       "  --lex-color:        hsla(220,  90%,  60%, 1.0  );\n",
       "  --meta-color:       hsla(  0,   0%,  90%, 0.7  );\n",
       "  --meta-width:       0.15rem;\n",
       "  --border-color-nul: hsla(  0,   0%,  90%, 0.5  );\n",
       "  --border-color0:    hsla(  0,   0%,  90%, 0.9  );\n",
       "  --border-color1:    hsla(  0,   0%,  80%, 0.9  );\n",
       "  --border-color2:    hsla(  0,   0%,  70%, 0.9  );\n",
       "  --border-color3:    hsla(  0,   0%,  80%, 0.8  );\n",
       "  --border-color4:    hsla(  0,   0%,  60%, 0.9  );\n",
       "  --border-width-nul: 0.1rem;\n",
       "  --border-width0:    0.1rem;\n",
       "  --border-width1:    0.15rem;\n",
       "  --border-width2:    0.2rem;\n",
       "  --border-width3:    0.3rem;\n",
       "  --border-width4:    0.25rem;\n",
       "}\n",
       ".hl {\n",
       "  background-color: var(--hl-strong);\n",
       "}\n",
       "span.hl {\n",
       "\tbackground-color: var(--hl-strong);\n",
       "\tborder-width: 0;\n",
       "\tborder-radius: 0.1rem;\n",
       "\tborder-style: solid;\n",
       "}\n",
       "div.contnr.hl,div.lbl.hl {\n",
       "  background-color: var(--hl-strong);\n",
       "}\n",
       "div.contnr.hl {\n",
       "  border-color: var(--hl-rim) ! important;\n",
       "\tborder-width: 0.2rem ! important;\n",
       "}\n",
       "\n",
       "span.hlbx {\n",
       "\tborder-color: var(--hl-rim);\n",
       "\tborder-width: 0.2rem;\n",
       "\tborder-style: solid;\n",
       "\tborder-radius: 0.3rem;\n",
       "  padding: 0.2rem;\n",
       "  margin: 0.2rem;\n",
       "}\n",
       "\n",
       "span.plain {\n",
       "  display: inline-block;\n",
       "  white-space: pre-wrap;\n",
       "}\n",
       "\n",
       ":root {\n",
       "\t--hl-strong:        hsla( 60, 100%,  70%, 0.9  );\n",
       "\t--hl-rim:           hsla( 55,  80%,  50%, 1.0  );\n",
       "}\n",
       ".pnum {\n",
       "    font-family: sans-serif;\n",
       "    font-size: small;\n",
       "    font-weight: bold;\n",
       "    color: #444444;\n",
       "}\n",
       ".op {\n",
       "    padding:  0.5em 0.1em 0.1em 0.1em;\n",
       "    margin: 0.8em 0.1em 0.1em 0.1em;\n",
       "    font-family: monospace;\n",
       "    font-size: x-large;\n",
       "    font-weight: bold;\n",
       "}\n",
       ".period {\n",
       "    font-family: monospace;\n",
       "    font-size: medium;\n",
       "    font-weight: bold;\n",
       "    color: #0000bb;\n",
       "}\n",
       ".comment {\n",
       "    color: #7777dd;\n",
       "    font-family: monospace;\n",
       "    font-size: small;\n",
       "}\n",
       ".operator {\n",
       "    color: #ff77ff;\n",
       "    font-size: large;\n",
       "}\n",
       "/* LANGUAGE: superscript and subscript */\n",
       "\n",
       "/* cluster */\n",
       ".det {\n",
       "    vertical-align: super;\n",
       "}\n",
       "/* cluster */\n",
       ".langalt {\n",
       "    vertical-align: sub;\n",
       "}\n",
       "/* REDACTIONAL: line over or under  */\n",
       "\n",
       "/* flag */\n",
       ".collated {\n",
       "    font-weight: bold;\n",
       "    text-decoration: underline;\n",
       "}\n",
       "/* cluster */\n",
       ".excised {\n",
       "    color: #dd0000;\n",
       "    text-decoration: line-through;\n",
       "}\n",
       "/* cluster */\n",
       ".supplied {\n",
       "    color: #0000ff;\n",
       "    text-decoration: overline;\n",
       "}\n",
       "/* flag */\n",
       ".remarkable {\n",
       "    font-weight: bold;\n",
       "    text-decoration: overline;\n",
       "}\n",
       "\n",
       "/* UNSURE: italic*/\n",
       "\n",
       "/* cluster */\n",
       ".uncertain {\n",
       "    font-style: italic\n",
       "}\n",
       "/* flag */\n",
       ".question {\n",
       "    font-weight: bold;\n",
       "    font-style: italic\n",
       "}\n",
       "\n",
       "/* BROKEN: text-shadow */\n",
       "\n",
       "/* cluster */\n",
       ".missing {\n",
       "    color: #999999;\n",
       "    text-shadow: #bbbbbb 1px 1px;\n",
       "}\n",
       "/* flag */\n",
       ".damage {\n",
       "    font-weight: bold;\n",
       "    color: #999999;\n",
       "    text-shadow: #bbbbbb 1px 1px;\n",
       "}\n",
       ".empty {\n",
       "  color: #ff0000;\n",
       "}\n",
       "\n",
       "</style>"
      ],
      "text/plain": [
       "<IPython.core.display.HTML object>"
      ]
     },
     "metadata": {},
     "output_type": "display_data"
    }
   ],
   "source": [
    "A.reuse()"
   ]
  },
  {
   "cell_type": "code",
   "execution_count": 31,
   "metadata": {},
   "outputs": [],
   "source": [
    "ln  = 230788"
   ]
  },
  {
   "cell_type": "code",
   "execution_count": 38,
   "metadata": {},
   "outputs": [
    {
     "data": {
      "text/plain": [
       "(203220, 203221, 203222, 203223)"
      ]
     },
     "execution_count": 38,
     "metadata": {},
     "output_type": "execute_result"
    }
   ],
   "source": [
    "cls = L.d(ln, otype=\"cluster\")\n",
    "cls"
   ]
  },
  {
   "cell_type": "code",
   "execution_count": 32,
   "metadata": {},
   "outputs": [
    {
     "data": {
      "text/plain": [
       "'1. [a-na] _{d}suen_-i-[din-nam]'"
      ]
     },
     "execution_count": 32,
     "metadata": {},
     "output_type": "execute_result"
    }
   ],
   "source": [
    "F.srcLn.v(ln)"
   ]
  },
  {
   "cell_type": "code",
   "execution_count": 33,
   "metadata": {},
   "outputs": [
    {
     "data": {
      "text/plain": [
       "'[a-na] _{d}suen_-i-[din-nam]'"
      ]
     },
     "execution_count": 33,
     "metadata": {},
     "output_type": "execute_result"
    }
   ],
   "source": [
    "T.text(ln)"
   ]
  },
  {
   "cell_type": "code",
   "execution_count": 34,
   "metadata": {},
   "outputs": [
    {
     "data": {
      "text/html": [
       "<span class=\"section ltr\"><a target=\"_blank\" href=\"https://cdli.ucla.edu/search/search_results.php?SearchMode=Text&amp;ObjectID=P509373\" title=\"Show this document on CDLI\" sec=\"P509373 obverse:1\">P509373 obverse:1</a> </span> <span class=\"plain outer   \" ><span class=\"plain txto \"></span><span class=\"plain    \" ><span class=\"plain txto \"></span><span class=\"plain    \" ><span class=\"plain txto \"></span><span class=\"plain    \" ><span class=\"txto\">[a-</span></span><span class=\"plain    \" ><span class=\"txto\">na] </span></span></span></span><span class=\"plain    \" ><span class=\"plain txto \"></span><span class=\"plain    \" ><span class=\"plain txto \"></span><span class=\"plain    \" ><span class=\"plain txto \"></span><span class=\"plain    \" ><span class=\"txto\">_{d}</span></span></span><span class=\"plain    \" ><span class=\"txto\">suen_-</span></span></span><span class=\"plain    \" ><span class=\"txto\">i-</span></span><span class=\"plain    \" ><span class=\"plain txto \"></span><span class=\"plain    \" ><span class=\"txto\">[din-</span></span><span class=\"plain    \" ><span class=\"txto\">nam]</span></span></span></span></span>"
      ],
      "text/plain": [
       "<IPython.core.display.HTML object>"
      ]
     },
     "metadata": {},
     "output_type": "display_data"
    }
   ],
   "source": [
    "A.plain(ln)"
   ]
  },
  {
   "cell_type": "code",
   "execution_count": 40,
   "metadata": {},
   "outputs": [
    {
     "data": {
      "text/html": [
       "<span class=\"section ltr\"><a target=\"_blank\" href=\"https://cdli.ucla.edu/search/search_results.php?SearchMode=Text&amp;ObjectID=P509373\" title=\"Show this document on CDLI\" sec=\"P509373 obverse:1\">P509373 obverse:1</a> </span> <span class=\"plain outer   \" ><span class=\"plain txto \"></span><span class=\"plain    \" ><span class=\"plain txto \"></span><span class=\"plain    hlbx\" ><span class=\"plain txto \"></span><span class=\"plain    \" ><span class=\"txto\">[a-</span></span><span class=\"plain    \" ><span class=\"txto\">na] </span></span></span></span><span class=\"plain    \" ><span class=\"plain txto \"></span><span class=\"plain    \" ><span class=\"plain txto \"></span><span class=\"plain    \" ><span class=\"plain txto \"></span><span class=\"plain    \" ><span class=\"txto\">_{d}</span></span></span><span class=\"plain    \" ><span class=\"txto\">suen_-</span></span></span><span class=\"plain    \" ><span class=\"txto\">i-</span></span><span class=\"plain    \" ><span class=\"plain txto \"></span><span class=\"plain    \" ><span class=\"txto\">[din-</span></span><span class=\"plain    \" ><span class=\"txto\">nam]</span></span></span></span></span>"
      ],
      "text/plain": [
       "<IPython.core.display.HTML object>"
      ]
     },
     "metadata": {},
     "output_type": "display_data"
    },
    {
     "data": {
      "text/html": [
       "<span class=\"section ltr\"><a target=\"_blank\" href=\"https://cdli.ucla.edu/search/search_results.php?SearchMode=Text&amp;ObjectID=P509373\" title=\"Show this document on CDLI\" sec=\"P509373 obverse:1\">P509373 obverse:1</a> </span> <span class=\"plain outer   \" ><span class=\"plain txto \"></span><span class=\"plain    \" ><span class=\"plain txto \"></span><span class=\"plain    \" ><span class=\"plain txto \"></span><span class=\"plain    \" ><span class=\"txto\">[a-</span></span><span class=\"plain    \" ><span class=\"txto\">na] </span></span></span></span><span class=\"plain    \" ><span class=\"plain txto \"></span><span class=\"plain    hlbx\" ><span class=\"plain txto \"></span><span class=\"plain    \" ><span class=\"plain txto \"></span><span class=\"plain    \" ><span class=\"txto\">_{d}</span></span></span><span class=\"plain    \" ><span class=\"txto\">suen_-</span></span></span><span class=\"plain    \" ><span class=\"txto\">i-</span></span><span class=\"plain    \" ><span class=\"plain txto \"></span><span class=\"plain    \" ><span class=\"txto\">[din-</span></span><span class=\"plain    \" ><span class=\"txto\">nam]</span></span></span></span></span>"
      ],
      "text/plain": [
       "<IPython.core.display.HTML object>"
      ]
     },
     "metadata": {},
     "output_type": "display_data"
    },
    {
     "data": {
      "text/html": [
       "<span class=\"section ltr\"><a target=\"_blank\" href=\"https://cdli.ucla.edu/search/search_results.php?SearchMode=Text&amp;ObjectID=P509373\" title=\"Show this document on CDLI\" sec=\"P509373 obverse:1\">P509373 obverse:1</a> </span> <span class=\"plain outer   \" ><span class=\"plain txto \"></span><span class=\"plain    \" ><span class=\"plain txto \"></span><span class=\"plain    \" ><span class=\"plain txto \"></span><span class=\"plain    \" ><span class=\"txto\">[a-</span></span><span class=\"plain    \" ><span class=\"txto\">na] </span></span></span></span><span class=\"plain    \" ><span class=\"plain txto \"></span><span class=\"plain    \" ><span class=\"plain txto \"></span><span class=\"plain    hlbx\" ><span class=\"plain txto \"></span><span class=\"plain    \" ><span class=\"txto\">_{d}</span></span></span><span class=\"plain    \" ><span class=\"txto\">suen_-</span></span></span><span class=\"plain    \" ><span class=\"txto\">i-</span></span><span class=\"plain    \" ><span class=\"plain txto \"></span><span class=\"plain    \" ><span class=\"txto\">[din-</span></span><span class=\"plain    \" ><span class=\"txto\">nam]</span></span></span></span></span>"
      ],
      "text/plain": [
       "<IPython.core.display.HTML object>"
      ]
     },
     "metadata": {},
     "output_type": "display_data"
    },
    {
     "data": {
      "text/html": [
       "<span class=\"section ltr\"><a target=\"_blank\" href=\"https://cdli.ucla.edu/search/search_results.php?SearchMode=Text&amp;ObjectID=P509373\" title=\"Show this document on CDLI\" sec=\"P509373 obverse:1\">P509373 obverse:1</a> </span> <span class=\"plain outer   \" ><span class=\"plain txto \"></span><span class=\"plain    \" ><span class=\"plain txto \"></span><span class=\"plain    \" ><span class=\"plain txto \"></span><span class=\"plain    \" ><span class=\"txto\">[a-</span></span><span class=\"plain    \" ><span class=\"txto\">na] </span></span></span></span><span class=\"plain    \" ><span class=\"plain txto \"></span><span class=\"plain    \" ><span class=\"plain txto \"></span><span class=\"plain    \" ><span class=\"plain txto \"></span><span class=\"plain    \" ><span class=\"txto\">_{d}</span></span></span><span class=\"plain    \" ><span class=\"txto\">suen_-</span></span></span><span class=\"plain    \" ><span class=\"txto\">i-</span></span><span class=\"plain    hlbx\" ><span class=\"plain txto \"></span><span class=\"plain    \" ><span class=\"txto\">[din-</span></span><span class=\"plain    \" ><span class=\"txto\">nam]</span></span></span></span></span>"
      ],
      "text/plain": [
       "<IPython.core.display.HTML object>"
      ]
     },
     "metadata": {},
     "output_type": "display_data"
    }
   ],
   "source": [
    "for cl in cls:\n",
    "    A.plain(ln, highlights={cl})"
   ]
  },
  {
   "cell_type": "code",
   "execution_count": 35,
   "metadata": {},
   "outputs": [
    {
     "data": {
      "text/html": [
       "<span class=\"section ltr\"><a target=\"_blank\" href=\"https://cdli.ucla.edu/search/search_results.php?SearchMode=Text&amp;ObjectID=P509373\" title=\"Show this document on CDLI\" sec=\"P509373 obverse:1\">P509373 obverse:1</a> </span><div class=\"contnr c3    \" ><div class=\"lbl c3  \" ><span class=\"nd\">line</span></div> <div class=\"children hor wrap \"><div class=\"contnr c2 trm   \" ><div class=\"lbl c2 trm \" ><span class=\"nd\">word</span> <span class=\"txto\"><span class=\"plain outer   \" ><span class=\"plain txto \"></span><span class=\"plain    \" ><span class=\"plain txto \"></span><span class=\"plain    \" ><span class=\"txto\">[a-</span></span><span class=\"plain    \" ><span class=\"txto\">na] </span></span></span></span></span></div> </div><div class=\"contnr c1    \" ><div class=\"lbl c1  \" ><span class=\"nd\">cluster</span></div> <div class=\"children hor wrap \"><div class=\"contnr c0 trm   \" ><div class=\"lbl c0 trm \" ><span class=\"txto\">[a-</span></div> </div><div class=\"contnr c0 trm   \" ><div class=\"lbl c0 trm \" ><span class=\"txto\">na] </span></div> </div></div></div><div class=\"contnr c2 trm   \" ><div class=\"lbl c2 trm \" ><span class=\"nd\">word</span> <span class=\"txto\"><span class=\"plain outer   \" ><span class=\"plain txto \"></span><span class=\"plain    \" ><span class=\"plain txto \"></span><span class=\"plain    \" ><span class=\"plain txto \"></span><span class=\"plain    \" ><span class=\"txto\">_{d}</span></span></span><span class=\"plain    \" ><span class=\"txto\">suen_-</span></span></span><span class=\"plain    \" ><span class=\"txto\">i-</span></span><span class=\"plain    \" ><span class=\"plain txto \"></span><span class=\"plain    \" ><span class=\"txto\">[din-</span></span><span class=\"plain    \" ><span class=\"txto\">nam]</span></span></span></span></span></div> </div><div class=\"contnr c1    \" ><div class=\"lbl c1  \" ><span class=\"nd\">cluster</span></div> <div class=\"children hor wrap \"><div class=\"contnr c1    \" ><div class=\"lbl c1  \" ><span class=\"nd\">cluster</span></div> <div class=\"children hor wrap \"><div class=\"contnr c0 trm   \" ><div class=\"lbl c0 trm \" ><span class=\"txto\">_{d}</span></div> </div></div></div><div class=\"contnr c0 trm   \" ><div class=\"lbl c0 trm \" ><span class=\"txto\">suen_-</span></div> </div></div></div><div class=\"contnr c1    \" ><div class=\"lbl c1  \" ><span class=\"nd\">cluster</span></div> <div class=\"children hor wrap \"><div class=\"contnr c0 trm   \" ><div class=\"lbl c0 trm \" ><span class=\"txto\">[din-</span></div> </div><div class=\"contnr c0 trm   \" ><div class=\"lbl c0 trm \" ><span class=\"txto\">nam]</span></div> </div></div></div></div></div>"
      ],
      "text/plain": [
       "<IPython.core.display.HTML object>"
      ]
     },
     "metadata": {},
     "output_type": "display_data"
    }
   ],
   "source": [
    "A.pretty(ln)"
   ]
  },
  {
   "cell_type": "code",
   "execution_count": 41,
   "metadata": {},
   "outputs": [
    {
     "data": {
      "text/html": [
       "<span class=\"section ltr\"><a target=\"_blank\" href=\"https://cdli.ucla.edu/search/search_results.php?SearchMode=Text&amp;ObjectID=P509373\" title=\"Show this document on CDLI\" sec=\"P509373 obverse:1\">P509373 obverse:1</a> </span><div class=\"contnr c3    \" ><div class=\"lbl c3  \" ><span class=\"nd\">line</span></div> <div class=\"children hor wrap \"><div class=\"contnr c2 trm   \" ><div class=\"lbl c2 trm \" ><span class=\"nd\">word</span> <span class=\"txto\"><span class=\"plain outer   \" ><span class=\"plain txto \"></span><span class=\"plain    hlbx\" ><span class=\"plain txto \"></span><span class=\"plain    \" ><span class=\"txto\">[a-</span></span><span class=\"plain    \" ><span class=\"txto\">na] </span></span></span></span></span></div> </div><div class=\"contnr c1    hl\" ><div class=\"lbl c1  hl\" ><span class=\"nd\">cluster</span></div> <div class=\"children hor wrap \"><div class=\"contnr c0 trm   \" ><div class=\"lbl c0 trm \" ><span class=\"txto\">[a-</span></div> </div><div class=\"contnr c0 trm   \" ><div class=\"lbl c0 trm \" ><span class=\"txto\">na] </span></div> </div></div></div><div class=\"contnr c2 trm   \" ><div class=\"lbl c2 trm \" ><span class=\"nd\">word</span> <span class=\"txto\"><span class=\"plain outer   \" ><span class=\"plain txto \"></span><span class=\"plain    \" ><span class=\"plain txto \"></span><span class=\"plain    \" ><span class=\"plain txto \"></span><span class=\"plain    \" ><span class=\"txto\">_{d}</span></span></span><span class=\"plain    \" ><span class=\"txto\">suen_-</span></span></span><span class=\"plain    \" ><span class=\"txto\">i-</span></span><span class=\"plain    \" ><span class=\"plain txto \"></span><span class=\"plain    \" ><span class=\"txto\">[din-</span></span><span class=\"plain    \" ><span class=\"txto\">nam]</span></span></span></span></span></div> </div><div class=\"contnr c1    \" ><div class=\"lbl c1  \" ><span class=\"nd\">cluster</span></div> <div class=\"children hor wrap \"><div class=\"contnr c1    \" ><div class=\"lbl c1  \" ><span class=\"nd\">cluster</span></div> <div class=\"children hor wrap \"><div class=\"contnr c0 trm   \" ><div class=\"lbl c0 trm \" ><span class=\"txto\">_{d}</span></div> </div></div></div><div class=\"contnr c0 trm   \" ><div class=\"lbl c0 trm \" ><span class=\"txto\">suen_-</span></div> </div></div></div><div class=\"contnr c1    \" ><div class=\"lbl c1  \" ><span class=\"nd\">cluster</span></div> <div class=\"children hor wrap \"><div class=\"contnr c0 trm   \" ><div class=\"lbl c0 trm \" ><span class=\"txto\">[din-</span></div> </div><div class=\"contnr c0 trm   \" ><div class=\"lbl c0 trm \" ><span class=\"txto\">nam]</span></div> </div></div></div></div></div>"
      ],
      "text/plain": [
       "<IPython.core.display.HTML object>"
      ]
     },
     "metadata": {},
     "output_type": "display_data"
    },
    {
     "data": {
      "text/html": [
       "<span class=\"section ltr\"><a target=\"_blank\" href=\"https://cdli.ucla.edu/search/search_results.php?SearchMode=Text&amp;ObjectID=P509373\" title=\"Show this document on CDLI\" sec=\"P509373 obverse:1\">P509373 obverse:1</a> </span><div class=\"contnr c3    \" ><div class=\"lbl c3  \" ><span class=\"nd\">line</span></div> <div class=\"children hor wrap \"><div class=\"contnr c2 trm   \" ><div class=\"lbl c2 trm \" ><span class=\"nd\">word</span> <span class=\"txto\"><span class=\"plain outer   \" ><span class=\"plain txto \"></span><span class=\"plain    \" ><span class=\"plain txto \"></span><span class=\"plain    \" ><span class=\"txto\">[a-</span></span><span class=\"plain    \" ><span class=\"txto\">na] </span></span></span></span></span></div> </div><div class=\"contnr c1    \" ><div class=\"lbl c1  \" ><span class=\"nd\">cluster</span></div> <div class=\"children hor wrap \"><div class=\"contnr c0 trm   \" ><div class=\"lbl c0 trm \" ><span class=\"txto\">[a-</span></div> </div><div class=\"contnr c0 trm   \" ><div class=\"lbl c0 trm \" ><span class=\"txto\">na] </span></div> </div></div></div><div class=\"contnr c2 trm   \" ><div class=\"lbl c2 trm \" ><span class=\"nd\">word</span> <span class=\"txto\"><span class=\"plain outer   \" ><span class=\"plain txto \"></span><span class=\"plain    hlbx\" ><span class=\"plain txto \"></span><span class=\"plain    \" ><span class=\"plain txto \"></span><span class=\"plain    \" ><span class=\"txto\">_{d}</span></span></span><span class=\"plain    \" ><span class=\"txto\">suen_-</span></span></span><span class=\"plain    \" ><span class=\"txto\">i-</span></span><span class=\"plain    \" ><span class=\"plain txto \"></span><span class=\"plain    \" ><span class=\"txto\">[din-</span></span><span class=\"plain    \" ><span class=\"txto\">nam]</span></span></span></span></span></div> </div><div class=\"contnr c1    hl\" ><div class=\"lbl c1  hl\" ><span class=\"nd\">cluster</span></div> <div class=\"children hor wrap \"><div class=\"contnr c1    \" ><div class=\"lbl c1  \" ><span class=\"nd\">cluster</span></div> <div class=\"children hor wrap \"><div class=\"contnr c0 trm   \" ><div class=\"lbl c0 trm \" ><span class=\"txto\">_{d}</span></div> </div></div></div><div class=\"contnr c0 trm   \" ><div class=\"lbl c0 trm \" ><span class=\"txto\">suen_-</span></div> </div></div></div><div class=\"contnr c1    \" ><div class=\"lbl c1  \" ><span class=\"nd\">cluster</span></div> <div class=\"children hor wrap \"><div class=\"contnr c0 trm   \" ><div class=\"lbl c0 trm \" ><span class=\"txto\">[din-</span></div> </div><div class=\"contnr c0 trm   \" ><div class=\"lbl c0 trm \" ><span class=\"txto\">nam]</span></div> </div></div></div></div></div>"
      ],
      "text/plain": [
       "<IPython.core.display.HTML object>"
      ]
     },
     "metadata": {},
     "output_type": "display_data"
    },
    {
     "data": {
      "text/html": [
       "<span class=\"section ltr\"><a target=\"_blank\" href=\"https://cdli.ucla.edu/search/search_results.php?SearchMode=Text&amp;ObjectID=P509373\" title=\"Show this document on CDLI\" sec=\"P509373 obverse:1\">P509373 obverse:1</a> </span><div class=\"contnr c3    \" ><div class=\"lbl c3  \" ><span class=\"nd\">line</span></div> <div class=\"children hor wrap \"><div class=\"contnr c2 trm   \" ><div class=\"lbl c2 trm \" ><span class=\"nd\">word</span> <span class=\"txto\"><span class=\"plain outer   \" ><span class=\"plain txto \"></span><span class=\"plain    \" ><span class=\"plain txto \"></span><span class=\"plain    \" ><span class=\"txto\">[a-</span></span><span class=\"plain    \" ><span class=\"txto\">na] </span></span></span></span></span></div> </div><div class=\"contnr c1    \" ><div class=\"lbl c1  \" ><span class=\"nd\">cluster</span></div> <div class=\"children hor wrap \"><div class=\"contnr c0 trm   \" ><div class=\"lbl c0 trm \" ><span class=\"txto\">[a-</span></div> </div><div class=\"contnr c0 trm   \" ><div class=\"lbl c0 trm \" ><span class=\"txto\">na] </span></div> </div></div></div><div class=\"contnr c2 trm   \" ><div class=\"lbl c2 trm \" ><span class=\"nd\">word</span> <span class=\"txto\"><span class=\"plain outer   \" ><span class=\"plain txto \"></span><span class=\"plain    \" ><span class=\"plain txto \"></span><span class=\"plain    hlbx\" ><span class=\"plain txto \"></span><span class=\"plain    \" ><span class=\"txto\">_{d}</span></span></span><span class=\"plain    \" ><span class=\"txto\">suen_-</span></span></span><span class=\"plain    \" ><span class=\"txto\">i-</span></span><span class=\"plain    \" ><span class=\"plain txto \"></span><span class=\"plain    \" ><span class=\"txto\">[din-</span></span><span class=\"plain    \" ><span class=\"txto\">nam]</span></span></span></span></span></div> </div><div class=\"contnr c1    \" ><div class=\"lbl c1  \" ><span class=\"nd\">cluster</span></div> <div class=\"children hor wrap \"><div class=\"contnr c1    hl\" ><div class=\"lbl c1  hl\" ><span class=\"nd\">cluster</span></div> <div class=\"children hor wrap \"><div class=\"contnr c0 trm   \" ><div class=\"lbl c0 trm \" ><span class=\"txto\">_{d}</span></div> </div></div></div><div class=\"contnr c0 trm   \" ><div class=\"lbl c0 trm \" ><span class=\"txto\">suen_-</span></div> </div></div></div><div class=\"contnr c1    \" ><div class=\"lbl c1  \" ><span class=\"nd\">cluster</span></div> <div class=\"children hor wrap \"><div class=\"contnr c0 trm   \" ><div class=\"lbl c0 trm \" ><span class=\"txto\">[din-</span></div> </div><div class=\"contnr c0 trm   \" ><div class=\"lbl c0 trm \" ><span class=\"txto\">nam]</span></div> </div></div></div></div></div>"
      ],
      "text/plain": [
       "<IPython.core.display.HTML object>"
      ]
     },
     "metadata": {},
     "output_type": "display_data"
    },
    {
     "data": {
      "text/html": [
       "<span class=\"section ltr\"><a target=\"_blank\" href=\"https://cdli.ucla.edu/search/search_results.php?SearchMode=Text&amp;ObjectID=P509373\" title=\"Show this document on CDLI\" sec=\"P509373 obverse:1\">P509373 obverse:1</a> </span><div class=\"contnr c3    \" ><div class=\"lbl c3  \" ><span class=\"nd\">line</span></div> <div class=\"children hor wrap \"><div class=\"contnr c2 trm   \" ><div class=\"lbl c2 trm \" ><span class=\"nd\">word</span> <span class=\"txto\"><span class=\"plain outer   \" ><span class=\"plain txto \"></span><span class=\"plain    \" ><span class=\"plain txto \"></span><span class=\"plain    \" ><span class=\"txto\">[a-</span></span><span class=\"plain    \" ><span class=\"txto\">na] </span></span></span></span></span></div> </div><div class=\"contnr c1    \" ><div class=\"lbl c1  \" ><span class=\"nd\">cluster</span></div> <div class=\"children hor wrap \"><div class=\"contnr c0 trm   \" ><div class=\"lbl c0 trm \" ><span class=\"txto\">[a-</span></div> </div><div class=\"contnr c0 trm   \" ><div class=\"lbl c0 trm \" ><span class=\"txto\">na] </span></div> </div></div></div><div class=\"contnr c2 trm   \" ><div class=\"lbl c2 trm \" ><span class=\"nd\">word</span> <span class=\"txto\"><span class=\"plain outer   \" ><span class=\"plain txto \"></span><span class=\"plain    \" ><span class=\"plain txto \"></span><span class=\"plain    \" ><span class=\"plain txto \"></span><span class=\"plain    \" ><span class=\"txto\">_{d}</span></span></span><span class=\"plain    \" ><span class=\"txto\">suen_-</span></span></span><span class=\"plain    \" ><span class=\"txto\">i-</span></span><span class=\"plain    hlbx\" ><span class=\"plain txto \"></span><span class=\"plain    \" ><span class=\"txto\">[din-</span></span><span class=\"plain    \" ><span class=\"txto\">nam]</span></span></span></span></span></div> </div><div class=\"contnr c1    \" ><div class=\"lbl c1  \" ><span class=\"nd\">cluster</span></div> <div class=\"children hor wrap \"><div class=\"contnr c1    \" ><div class=\"lbl c1  \" ><span class=\"nd\">cluster</span></div> <div class=\"children hor wrap \"><div class=\"contnr c0 trm   \" ><div class=\"lbl c0 trm \" ><span class=\"txto\">_{d}</span></div> </div></div></div><div class=\"contnr c0 trm   \" ><div class=\"lbl c0 trm \" ><span class=\"txto\">suen_-</span></div> </div></div></div><div class=\"contnr c1    hl\" ><div class=\"lbl c1  hl\" ><span class=\"nd\">cluster</span></div> <div class=\"children hor wrap \"><div class=\"contnr c0 trm   \" ><div class=\"lbl c0 trm \" ><span class=\"txto\">[din-</span></div> </div><div class=\"contnr c0 trm   \" ><div class=\"lbl c0 trm \" ><span class=\"txto\">nam]</span></div> </div></div></div></div></div>"
      ],
      "text/plain": [
       "<IPython.core.display.HTML object>"
      ]
     },
     "metadata": {},
     "output_type": "display_data"
    }
   ],
   "source": [
    "for cl in cls:\n",
    "    A.pretty(ln, highlights={cl})"
   ]
  },
  {
   "cell_type": "code",
   "execution_count": 42,
   "metadata": {},
   "outputs": [
    {
     "data": {
      "text/html": [
       "<span class=\"section ltr\"><a target=\"_blank\" href=\"https://cdli.ucla.edu/search/search_results.php?SearchMode=Text&amp;ObjectID=P509373\" title=\"Show this document on CDLI\" sec=\"P509373 obverse:1\">P509373 obverse:1</a> </span><div class=\"contnr c3    \" ><div class=\"lbl c3  \" ><span class=\"nd\">line</span></div> <div class=\"children hor wrap \"><div class=\"contnr c2    \" ><div class=\"lbl c2  \" ><span class=\"nd\">word</span> <span class=\"txto\">[a-na] </span></div> <div class=\"children hor  \"><div class=\"contnr c1    hl\" ><div class=\"lbl c1  hl\" ><span class=\"nd\">cluster</span></div> <div class=\"children hor wrap \"><div class=\"contnr c0 trm   \" ><div class=\"lbl c0 trm \" ><span class=\"txto\">[a-</span></div> </div><div class=\"contnr c0 trm   \" ><div class=\"lbl c0 trm \" ><span class=\"txto\">na] </span></div> </div></div></div></div></div><div class=\"contnr c2    \" ><div class=\"lbl c2  \" ><span class=\"nd\">word</span> <span class=\"txto\">_{d}suen_-i-[din-nam]</span></div> <div class=\"children hor  \"><div class=\"contnr c1    \" ><div class=\"lbl c1  \" ><span class=\"nd\">cluster</span></div> <div class=\"children hor wrap \"><div class=\"contnr c1    \" ><div class=\"lbl c1  \" ><span class=\"nd\">cluster</span></div> <div class=\"children hor wrap \"><div class=\"contnr c0 trm   \" ><div class=\"lbl c0 trm \" ><span class=\"txto\">_{d}</span></div> </div></div></div><div class=\"contnr c0 trm   \" ><div class=\"lbl c0 trm \" ><span class=\"txto\">suen_-</span></div> </div></div></div><div class=\"contnr c0 trm   \" ><div class=\"lbl c0 trm \" ><span class=\"txto\">i-</span></div> </div><div class=\"contnr c1    \" ><div class=\"lbl c1  \" ><span class=\"nd\">cluster</span></div> <div class=\"children hor wrap \"><div class=\"contnr c0 trm   \" ><div class=\"lbl c0 trm \" ><span class=\"txto\">[din-</span></div> </div><div class=\"contnr c0 trm   \" ><div class=\"lbl c0 trm \" ><span class=\"txto\">nam]</span></div> </div></div></div></div></div></div></div>"
      ],
      "text/plain": [
       "<IPython.core.display.HTML object>"
      ]
     },
     "metadata": {},
     "output_type": "display_data"
    },
    {
     "data": {
      "text/html": [
       "<span class=\"section ltr\"><a target=\"_blank\" href=\"https://cdli.ucla.edu/search/search_results.php?SearchMode=Text&amp;ObjectID=P509373\" title=\"Show this document on CDLI\" sec=\"P509373 obverse:1\">P509373 obverse:1</a> </span><div class=\"contnr c3    \" ><div class=\"lbl c3  \" ><span class=\"nd\">line</span></div> <div class=\"children hor wrap \"><div class=\"contnr c2    \" ><div class=\"lbl c2  \" ><span class=\"nd\">word</span> <span class=\"txto\">[a-na] </span></div> <div class=\"children hor  \"><div class=\"contnr c1    \" ><div class=\"lbl c1  \" ><span class=\"nd\">cluster</span></div> <div class=\"children hor wrap \"><div class=\"contnr c0 trm   \" ><div class=\"lbl c0 trm \" ><span class=\"txto\">[a-</span></div> </div><div class=\"contnr c0 trm   \" ><div class=\"lbl c0 trm \" ><span class=\"txto\">na] </span></div> </div></div></div></div></div><div class=\"contnr c2    \" ><div class=\"lbl c2  \" ><span class=\"nd\">word</span> <span class=\"txto\">_{d}suen_-i-[din-nam]</span></div> <div class=\"children hor  \"><div class=\"contnr c1    hl\" ><div class=\"lbl c1  hl\" ><span class=\"nd\">cluster</span></div> <div class=\"children hor wrap \"><div class=\"contnr c1    \" ><div class=\"lbl c1  \" ><span class=\"nd\">cluster</span></div> <div class=\"children hor wrap \"><div class=\"contnr c0 trm   \" ><div class=\"lbl c0 trm \" ><span class=\"txto\">_{d}</span></div> </div></div></div><div class=\"contnr c0 trm   \" ><div class=\"lbl c0 trm \" ><span class=\"txto\">suen_-</span></div> </div></div></div><div class=\"contnr c0 trm   \" ><div class=\"lbl c0 trm \" ><span class=\"txto\">i-</span></div> </div><div class=\"contnr c1    \" ><div class=\"lbl c1  \" ><span class=\"nd\">cluster</span></div> <div class=\"children hor wrap \"><div class=\"contnr c0 trm   \" ><div class=\"lbl c0 trm \" ><span class=\"txto\">[din-</span></div> </div><div class=\"contnr c0 trm   \" ><div class=\"lbl c0 trm \" ><span class=\"txto\">nam]</span></div> </div></div></div></div></div></div></div>"
      ],
      "text/plain": [
       "<IPython.core.display.HTML object>"
      ]
     },
     "metadata": {},
     "output_type": "display_data"
    },
    {
     "data": {
      "text/html": [
       "<span class=\"section ltr\"><a target=\"_blank\" href=\"https://cdli.ucla.edu/search/search_results.php?SearchMode=Text&amp;ObjectID=P509373\" title=\"Show this document on CDLI\" sec=\"P509373 obverse:1\">P509373 obverse:1</a> </span><div class=\"contnr c3    \" ><div class=\"lbl c3  \" ><span class=\"nd\">line</span></div> <div class=\"children hor wrap \"><div class=\"contnr c2    \" ><div class=\"lbl c2  \" ><span class=\"nd\">word</span> <span class=\"txto\">[a-na] </span></div> <div class=\"children hor  \"><div class=\"contnr c1    \" ><div class=\"lbl c1  \" ><span class=\"nd\">cluster</span></div> <div class=\"children hor wrap \"><div class=\"contnr c0 trm   \" ><div class=\"lbl c0 trm \" ><span class=\"txto\">[a-</span></div> </div><div class=\"contnr c0 trm   \" ><div class=\"lbl c0 trm \" ><span class=\"txto\">na] </span></div> </div></div></div></div></div><div class=\"contnr c2    \" ><div class=\"lbl c2  \" ><span class=\"nd\">word</span> <span class=\"txto\">_{d}suen_-i-[din-nam]</span></div> <div class=\"children hor  \"><div class=\"contnr c1    \" ><div class=\"lbl c1  \" ><span class=\"nd\">cluster</span></div> <div class=\"children hor wrap \"><div class=\"contnr c1    hl\" ><div class=\"lbl c1  hl\" ><span class=\"nd\">cluster</span></div> <div class=\"children hor wrap \"><div class=\"contnr c0 trm   \" ><div class=\"lbl c0 trm \" ><span class=\"txto\">_{d}</span></div> </div></div></div><div class=\"contnr c0 trm   \" ><div class=\"lbl c0 trm \" ><span class=\"txto\">suen_-</span></div> </div></div></div><div class=\"contnr c0 trm   \" ><div class=\"lbl c0 trm \" ><span class=\"txto\">i-</span></div> </div><div class=\"contnr c1    \" ><div class=\"lbl c1  \" ><span class=\"nd\">cluster</span></div> <div class=\"children hor wrap \"><div class=\"contnr c0 trm   \" ><div class=\"lbl c0 trm \" ><span class=\"txto\">[din-</span></div> </div><div class=\"contnr c0 trm   \" ><div class=\"lbl c0 trm \" ><span class=\"txto\">nam]</span></div> </div></div></div></div></div></div></div>"
      ],
      "text/plain": [
       "<IPython.core.display.HTML object>"
      ]
     },
     "metadata": {},
     "output_type": "display_data"
    },
    {
     "data": {
      "text/html": [
       "<span class=\"section ltr\"><a target=\"_blank\" href=\"https://cdli.ucla.edu/search/search_results.php?SearchMode=Text&amp;ObjectID=P509373\" title=\"Show this document on CDLI\" sec=\"P509373 obverse:1\">P509373 obverse:1</a> </span><div class=\"contnr c3    \" ><div class=\"lbl c3  \" ><span class=\"nd\">line</span></div> <div class=\"children hor wrap \"><div class=\"contnr c2    \" ><div class=\"lbl c2  \" ><span class=\"nd\">word</span> <span class=\"txto\">[a-na] </span></div> <div class=\"children hor  \"><div class=\"contnr c1    \" ><div class=\"lbl c1  \" ><span class=\"nd\">cluster</span></div> <div class=\"children hor wrap \"><div class=\"contnr c0 trm   \" ><div class=\"lbl c0 trm \" ><span class=\"txto\">[a-</span></div> </div><div class=\"contnr c0 trm   \" ><div class=\"lbl c0 trm \" ><span class=\"txto\">na] </span></div> </div></div></div></div></div><div class=\"contnr c2    \" ><div class=\"lbl c2  \" ><span class=\"nd\">word</span> <span class=\"txto\">_{d}suen_-i-[din-nam]</span></div> <div class=\"children hor  \"><div class=\"contnr c1    \" ><div class=\"lbl c1  \" ><span class=\"nd\">cluster</span></div> <div class=\"children hor wrap \"><div class=\"contnr c1    \" ><div class=\"lbl c1  \" ><span class=\"nd\">cluster</span></div> <div class=\"children hor wrap \"><div class=\"contnr c0 trm   \" ><div class=\"lbl c0 trm \" ><span class=\"txto\">_{d}</span></div> </div></div></div><div class=\"contnr c0 trm   \" ><div class=\"lbl c0 trm \" ><span class=\"txto\">suen_-</span></div> </div></div></div><div class=\"contnr c0 trm   \" ><div class=\"lbl c0 trm \" ><span class=\"txto\">i-</span></div> </div><div class=\"contnr c1    hl\" ><div class=\"lbl c1  hl\" ><span class=\"nd\">cluster</span></div> <div class=\"children hor wrap \"><div class=\"contnr c0 trm   \" ><div class=\"lbl c0 trm \" ><span class=\"txto\">[din-</span></div> </div><div class=\"contnr c0 trm   \" ><div class=\"lbl c0 trm \" ><span class=\"txto\">nam]</span></div> </div></div></div></div></div></div></div>"
      ],
      "text/plain": [
       "<IPython.core.display.HTML object>"
      ]
     },
     "metadata": {},
     "output_type": "display_data"
    }
   ],
   "source": [
    "for cl in cls:\n",
    "    A.pretty(ln, baseTypes=\"sign\", highlights={cl})"
   ]
  },
  {
   "cell_type": "code",
   "execution_count": 36,
   "metadata": {},
   "outputs": [
    {
     "data": {
      "text/html": [
       "<span class=\"section ltr\"><a target=\"_blank\" href=\"https://cdli.ucla.edu/search/search_results.php?SearchMode=Text&amp;ObjectID=P509373\" title=\"Show this document on CDLI\" sec=\"P509373 obverse:1\">P509373 obverse:1</a> </span><div class=\"contnr c3    \" ><div class=\"lbl c3  \" ><span class=\"nd\">line</span></div> <div class=\"children hor wrap \"><div class=\"contnr c2    \" ><div class=\"lbl c2  \" ><span class=\"nd\">word</span> <span class=\"txto\">[a-na] </span></div> <div class=\"children hor  \"><div class=\"contnr c1    \" ><div class=\"lbl c1  \" ><span class=\"nd\">cluster</span></div> <div class=\"children hor wrap \"><div class=\"contnr c0 trm   \" ><div class=\"lbl c0 trm \" ><span class=\"txto\">[a-</span></div> </div><div class=\"contnr c0 trm   \" ><div class=\"lbl c0 trm \" ><span class=\"txto\">na] </span></div> </div></div></div></div></div><div class=\"contnr c2    \" ><div class=\"lbl c2  \" ><span class=\"nd\">word</span> <span class=\"txto\">_{d}suen_-i-[din-nam]</span></div> <div class=\"children hor  \"><div class=\"contnr c1    \" ><div class=\"lbl c1  \" ><span class=\"nd\">cluster</span></div> <div class=\"children hor wrap \"><div class=\"contnr c1    \" ><div class=\"lbl c1  \" ><span class=\"nd\">cluster</span></div> <div class=\"children hor wrap \"><div class=\"contnr c0 trm   \" ><div class=\"lbl c0 trm \" ><span class=\"txto\">_{d}</span></div> </div></div></div><div class=\"contnr c0 trm   \" ><div class=\"lbl c0 trm \" ><span class=\"txto\">suen_-</span></div> </div></div></div><div class=\"contnr c0 trm   \" ><div class=\"lbl c0 trm \" ><span class=\"txto\">i-</span></div> </div><div class=\"contnr c1    \" ><div class=\"lbl c1  \" ><span class=\"nd\">cluster</span></div> <div class=\"children hor wrap \"><div class=\"contnr c0 trm   \" ><div class=\"lbl c0 trm \" ><span class=\"txto\">[din-</span></div> </div><div class=\"contnr c0 trm   \" ><div class=\"lbl c0 trm \" ><span class=\"txto\">nam]</span></div> </div></div></div></div></div></div></div>"
      ],
      "text/plain": [
       "<IPython.core.display.HTML object>"
      ]
     },
     "metadata": {},
     "output_type": "display_data"
    }
   ],
   "source": [
    "A.pretty(ln, baseTypes=\"sign\")"
   ]
  },
  {
   "cell_type": "code",
   "execution_count": 5,
   "metadata": {},
   "outputs": [],
   "source": [
    "w = 329880"
   ]
  },
  {
   "cell_type": "code",
   "execution_count": 6,
   "metadata": {},
   "outputs": [
    {
     "data": {
      "text/html": [
       "<span class=\"section ltr\"><a target=\"_blank\" href=\"https://cdli.ucla.edu/search/search_results.php?SearchMode=Text&amp;ObjectID=P305753\" title=\"Show this document on CDLI\" sec=\"P305753 case - obverse:10\">P305753 case - obverse:10</a> </span> <span class=\"plain outer   \" ><span class=\"plain txtu akk \"></span><span class=\"plain    \" ><span class=\"txtu akk\"><span class=\"langalt\">𒐊</span> </span></span></span>"
      ],
      "text/plain": [
       "<IPython.core.display.HTML object>"
      ]
     },
     "metadata": {},
     "output_type": "display_data"
    },
    {
     "data": {
      "text/html": [
       "<span class=\"section ltr\"><a target=\"_blank\" href=\"https://cdli.ucla.edu/search/search_results.php?SearchMode=Text&amp;ObjectID=P305753\" title=\"Show this document on CDLI\" sec=\"P305753 case - obverse:10\">P305753 case - obverse:10</a> </span><div class=\"contnr c2 trm   \" ><div class=\"lbl c2 trm \" ><span class=\"nd\">word</span> <span class=\"txtu akk\"><span class=\"plain outer   \" ><span class=\"plain txtu akk \"></span><span class=\"plain    \" ><span class=\"txtu akk\"><span class=\"langalt\">𒐊</span> </span></span></span></span></div> </div>"
      ],
      "text/plain": [
       "<IPython.core.display.HTML object>"
      ]
     },
     "metadata": {},
     "output_type": "display_data"
    }
   ],
   "source": [
    "A.plain(w, fmt=\"layout-orig-unicode\")\n",
    "A.pretty(w, fmt=\"layout-orig-unicode\")"
   ]
  },
  {
   "cell_type": "code",
   "execution_count": 7,
   "metadata": {},
   "outputs": [
    {
     "data": {
      "text/html": [
       "<span class=\"section ltr\"><a target=\"_blank\" href=\"https://cdli.ucla.edu/search/search_results.php?SearchMode=Text&amp;ObjectID=P305753\" title=\"Show this document on CDLI\" sec=\"P305753 case - obverse:10\">P305753 case - obverse:10</a> </span> <span class=\"plain outer   \" ><span class=\"plain txto \"></span><span class=\"plain    \" ><span class=\"txto\">5(disz) </span></span></span>"
      ],
      "text/plain": [
       "<IPython.core.display.HTML object>"
      ]
     },
     "metadata": {},
     "output_type": "display_data"
    },
    {
     "data": {
      "text/html": [
       "<span class=\"section ltr\"><a target=\"_blank\" href=\"https://cdli.ucla.edu/search/search_results.php?SearchMode=Text&amp;ObjectID=P305753\" title=\"Show this document on CDLI\" sec=\"P305753 case - obverse:10\">P305753 case - obverse:10</a> </span><div class=\"contnr c2 trm   \" ><div class=\"lbl c2 trm \" ><span class=\"nd\">word</span> <span class=\"txto\"><span class=\"plain outer   \" ><span class=\"plain txto \"></span><span class=\"plain    \" ><span class=\"txto\">5(disz) </span></span></span></span></div> </div>"
      ],
      "text/plain": [
       "<IPython.core.display.HTML object>"
      ]
     },
     "metadata": {},
     "output_type": "display_data"
    }
   ],
   "source": [
    "A.plain(w)\n",
    "A.pretty(w)"
   ]
  },
  {
   "cell_type": "code",
   "execution_count": 8,
   "metadata": {},
   "outputs": [],
   "source": [
    "w = 112\n",
    "w = 189594\n",
    "ln = L.u(w, otype=\"line\")[0]"
   ]
  },
  {
   "cell_type": "code",
   "execution_count": 9,
   "metadata": {},
   "outputs": [
    {
     "data": {
      "text/plain": [
       "'10. ma-ti-ma i-na _szam3 1(u) 5(disz) sze ku3-babbar_'"
      ]
     },
     "execution_count": 9,
     "metadata": {},
     "output_type": "execute_result"
    }
   ],
   "source": [
    "F.srcLn.v(ln)"
   ]
  },
  {
   "cell_type": "code",
   "execution_count": 10,
   "metadata": {},
   "outputs": [
    {
     "data": {
      "text/plain": [
       "'5(disz) '"
      ]
     },
     "execution_count": 10,
     "metadata": {},
     "output_type": "execute_result"
    }
   ],
   "source": [
    "T.text(w, fmt=\"text-orig-full\")"
   ]
  },
  {
   "cell_type": "code",
   "execution_count": 11,
   "metadata": {},
   "outputs": [
    {
     "data": {
      "text/plain": [
       "'5(diš) '"
      ]
     },
     "execution_count": 11,
     "metadata": {},
     "output_type": "execute_result"
    }
   ],
   "source": [
    "T.text(w, fmt=\"text-orig-rich\")"
   ]
  },
  {
   "cell_type": "code",
   "execution_count": 12,
   "metadata": {},
   "outputs": [
    {
     "data": {
      "text/html": [
       "<span class=\"section ltr\"><a target=\"_blank\" href=\"https://cdli.ucla.edu/search/search_results.php?SearchMode=Text&amp;ObjectID=P305753\" title=\"Show this document on CDLI\" sec=\"P305753 case - obverse:10\">P305753 case - obverse:10</a> </span> <span class=\"plain outer   \" ><span class=\"txtt\">5(diš) </span></span>"
      ],
      "text/plain": [
       "<IPython.core.display.HTML object>"
      ]
     },
     "metadata": {},
     "output_type": "display_data"
    }
   ],
   "source": [
    "A.plain(w, fmt=\"text-orig-rich\")"
   ]
  },
  {
   "cell_type": "code",
   "execution_count": 13,
   "metadata": {},
   "outputs": [
    {
     "data": {
      "text/plain": [
       "'_sza3-gal_ la i-ku-lu ba-al-t,u2-u2'"
      ]
     },
     "execution_count": 13,
     "metadata": {},
     "output_type": "execute_result"
    }
   ],
   "source": [
    "ln = F.otype.s(\"line\")[100]\n",
    "T.text(ln)"
   ]
  },
  {
   "cell_type": "code",
   "execution_count": 14,
   "metadata": {},
   "outputs": [
    {
     "data": {
      "text/html": [
       "<span class=\"section ltr\"><a target=\"_blank\" href=\"https://cdli.ucla.edu/search/search_results.php?SearchMode=Text&amp;ObjectID=P509377\" title=\"Show this document on CDLI\" sec=\"P509377 obverse:9\">P509377 obverse:9</a> </span> <span class=\"plain outer   \" ><span class=\"plain txto \"></span><span class=\"plain    \" ><span class=\"plain txto \"></span><span class=\"plain    \" ><span class=\"plain txto \"></span><span class=\"plain    \" ><span class=\"txto\">_sza3-</span></span><span class=\"plain    \" ><span class=\"txto\">gal_ </span></span></span></span><span class=\"plain    \" ><span class=\"plain txto \"></span><span class=\"plain    \" ><span class=\"txto\">la </span></span></span><span class=\"plain    \" ><span class=\"plain txto \"></span><span class=\"plain    \" ><span class=\"txto\">i-</span></span><span class=\"plain    \" ><span class=\"txto\">ku-</span></span><span class=\"plain    \" ><span class=\"txto\">lu </span></span></span><span class=\"plain    \" ><span class=\"plain txto \"></span><span class=\"plain    \" ><span class=\"txto\">ba-</span></span><span class=\"plain    \" ><span class=\"txto\">al-</span></span><span class=\"plain    \" ><span class=\"txto\">t,u2-</span></span><span class=\"plain    \" ><span class=\"txto\">u2</span></span></span></span>"
      ],
      "text/plain": [
       "<IPython.core.display.HTML object>"
      ]
     },
     "metadata": {},
     "output_type": "display_data"
    }
   ],
   "source": [
    "A.plain(ln)"
   ]
  },
  {
   "cell_type": "code",
   "execution_count": 15,
   "metadata": {},
   "outputs": [
    {
     "data": {
      "text/html": [
       "<span class=\"section ltr\"><a target=\"_blank\" href=\"https://cdli.ucla.edu/search/search_results.php?SearchMode=Text&amp;ObjectID=P509377\" title=\"Show this document on CDLI\" sec=\"P509377 obverse:9\">P509377 obverse:9</a> </span> <span class=\"plain outer   \" ><span class=\"plain txto \"></span><span class=\"plain    \" ><span class=\"txto\">la </span></span></span>"
      ],
      "text/plain": [
       "<IPython.core.display.HTML object>"
      ]
     },
     "metadata": {},
     "output_type": "display_data"
    }
   ],
   "source": [
    "A.plain(258510)"
   ]
  },
  {
   "cell_type": "code",
   "execution_count": 16,
   "metadata": {},
   "outputs": [
    {
     "name": "stdout",
     "output_type": "stream",
     "text": [
      "text-orig-full _sza3-gal_ la i-ku-lu ba-al-t,u2-u2\n"
     ]
    },
    {
     "data": {
      "text/html": [
       "<span class=\"section ltr\"><a target=\"_blank\" href=\"https://cdli.ucla.edu/search/search_results.php?SearchMode=Text&amp;ObjectID=P509377\" title=\"Show this document on CDLI\" sec=\"P509377 obverse:9\">P509377 obverse:9</a> </span> <span class=\"plain outer   \" ><span class=\"plain txto \"></span><span class=\"plain    \" ><span class=\"plain txto \"></span><span class=\"plain    \" ><span class=\"plain txto \"></span><span class=\"plain    \" ><span class=\"txto\">_sza3-</span></span><span class=\"plain    \" ><span class=\"txto\">gal_ </span></span></span></span><span class=\"plain    \" ><span class=\"plain txto \"></span><span class=\"plain    \" ><span class=\"txto\">la </span></span></span><span class=\"plain    \" ><span class=\"plain txto \"></span><span class=\"plain    \" ><span class=\"txto\">i-</span></span><span class=\"plain    \" ><span class=\"txto\">ku-</span></span><span class=\"plain    \" ><span class=\"txto\">lu </span></span></span><span class=\"plain    \" ><span class=\"plain txto \"></span><span class=\"plain    \" ><span class=\"txto\">ba-</span></span><span class=\"plain    \" ><span class=\"txto\">al-</span></span><span class=\"plain    \" ><span class=\"txto\">t,u2-</span></span><span class=\"plain    \" ><span class=\"txto\">u2</span></span></span></span>"
      ],
      "text/plain": [
       "<IPython.core.display.HTML object>"
      ]
     },
     "metadata": {},
     "output_type": "display_data"
    },
    {
     "name": "stdout",
     "output_type": "stream",
     "text": [
      "text-orig-plain sza3-gal la i-ku-lu ba-al-t,u2-u2\n"
     ]
    },
    {
     "data": {
      "text/html": [
       "<span class=\"section ltr\"><a target=\"_blank\" href=\"https://cdli.ucla.edu/search/search_results.php?SearchMode=Text&amp;ObjectID=P509377\" title=\"Show this document on CDLI\" sec=\"P509377 obverse:9\">P509377 obverse:9</a> </span> <span class=\"plain outer   \" ><span class=\"plain txtt \"></span><span class=\"plain    \" ><span class=\"plain txtt \"></span><span class=\"plain    \" ><span class=\"plain txtt \"></span><span class=\"plain    \" ><span class=\"txtt\">sza3-</span></span><span class=\"plain    \" ><span class=\"txtt\">gal </span></span></span></span><span class=\"plain    \" ><span class=\"plain txtt \"></span><span class=\"plain    \" ><span class=\"txtt\">la </span></span></span><span class=\"plain    \" ><span class=\"plain txtt \"></span><span class=\"plain    \" ><span class=\"txtt\">i-</span></span><span class=\"plain    \" ><span class=\"txtt\">ku-</span></span><span class=\"plain    \" ><span class=\"txtt\">lu </span></span></span><span class=\"plain    \" ><span class=\"plain txtt \"></span><span class=\"plain    \" ><span class=\"txtt\">ba-</span></span><span class=\"plain    \" ><span class=\"txtt\">al-</span></span><span class=\"plain    \" ><span class=\"txtt\">t,u2-</span></span><span class=\"plain    \" ><span class=\"txtt\">u2</span></span></span></span>"
      ],
      "text/plain": [
       "<IPython.core.display.HTML object>"
      ]
     },
     "metadata": {},
     "output_type": "display_data"
    },
    {
     "name": "stdout",
     "output_type": "stream",
     "text": [
      "text-orig-rich ša₃-gal la i-ku-lu ba-al-ṭu₂-u₂\n"
     ]
    },
    {
     "data": {
      "text/html": [
       "<span class=\"section ltr\"><a target=\"_blank\" href=\"https://cdli.ucla.edu/search/search_results.php?SearchMode=Text&amp;ObjectID=P509377\" title=\"Show this document on CDLI\" sec=\"P509377 obverse:9\">P509377 obverse:9</a> </span> <span class=\"plain outer   \" ><span class=\"plain txtt \"></span><span class=\"plain    \" ><span class=\"plain txtt \"></span><span class=\"plain    \" ><span class=\"plain txtt \"></span><span class=\"plain    \" ><span class=\"txtt\">ša₃-</span></span><span class=\"plain    \" ><span class=\"txtt\">gal </span></span></span></span><span class=\"plain    \" ><span class=\"plain txtt \"></span><span class=\"plain    \" ><span class=\"txtt\">la </span></span></span><span class=\"plain    \" ><span class=\"plain txtt \"></span><span class=\"plain    \" ><span class=\"txtt\">i-</span></span><span class=\"plain    \" ><span class=\"txtt\">ku-</span></span><span class=\"plain    \" ><span class=\"txtt\">lu </span></span></span><span class=\"plain    \" ><span class=\"plain txtt \"></span><span class=\"plain    \" ><span class=\"txtt\">ba-</span></span><span class=\"plain    \" ><span class=\"txtt\">al-</span></span><span class=\"plain    \" ><span class=\"txtt\">ṭu₂-</span></span><span class=\"plain    \" ><span class=\"txtt\">u₂</span></span></span></span>"
      ],
      "text/plain": [
       "<IPython.core.display.HTML object>"
      ]
     },
     "metadata": {},
     "output_type": "display_data"
    },
    {
     "name": "stdout",
     "output_type": "stream",
     "text": [
      "text-orig-unicode 𒊮𒃲 𒆷 𒄿𒆪𒇻 𒁀𒀠𒌅𒌑\n"
     ]
    },
    {
     "data": {
      "text/html": [
       "<span class=\"section ltr\"><a target=\"_blank\" href=\"https://cdli.ucla.edu/search/search_results.php?SearchMode=Text&amp;ObjectID=P509377\" title=\"Show this document on CDLI\" sec=\"P509377 obverse:9\">P509377 obverse:9</a> </span> <span class=\"plain outer   \" ><span class=\"plain txtu akk \"></span><span class=\"plain    \" ><span class=\"plain txtu akk \"></span><span class=\"plain    \" ><span class=\"plain txtu akk \"></span><span class=\"plain    \" ><span class=\"txtu akk\">𒊮</span></span><span class=\"plain    \" ><span class=\"txtu akk\">𒃲 </span></span></span></span><span class=\"plain    \" ><span class=\"plain txtu akk \"></span><span class=\"plain    \" ><span class=\"txtu akk\">𒆷 </span></span></span><span class=\"plain    \" ><span class=\"plain txtu akk \"></span><span class=\"plain    \" ><span class=\"txtu akk\">𒄿</span></span><span class=\"plain    \" ><span class=\"txtu akk\">𒆪</span></span><span class=\"plain    \" ><span class=\"txtu akk\">𒇻 </span></span></span><span class=\"plain    \" ><span class=\"plain txtu akk \"></span><span class=\"plain    \" ><span class=\"txtu akk\">𒁀</span></span><span class=\"plain    \" ><span class=\"txtu akk\">𒀠</span></span><span class=\"plain    \" ><span class=\"txtu akk\">𒌅</span></span><span class=\"plain    \" ><span class=\"txtu akk\">𒌑</span></span></span></span>"
      ],
      "text/plain": [
       "<IPython.core.display.HTML object>"
      ]
     },
     "metadata": {},
     "output_type": "display_data"
    },
    {
     "name": "stdout",
     "output_type": "stream",
     "text": [
      "layout-orig-rich <span class=\"langalt\"><span class=\"r\">ša₃</span></span>-<span class=\"langalt\"><span class=\"r\">gal</span></span> <span class=\"r\">la</span> <span class=\"r\">i</span>-<span class=\"r\">ku</span>-<span class=\"r\">lu</span> <span class=\"r\">ba</span>-<span class=\"r\">al</span>-<span class=\"r\">ṭu₂</span>-<span class=\"r\">u₂</span>\n"
     ]
    },
    {
     "data": {
      "text/html": [
       "<span class=\"section ltr\"><a target=\"_blank\" href=\"https://cdli.ucla.edu/search/search_results.php?SearchMode=Text&amp;ObjectID=P509377\" title=\"Show this document on CDLI\" sec=\"P509377 obverse:9\">P509377 obverse:9</a> </span> <span class=\"plain outer   \" ><span class=\"plain txtt \"></span><span class=\"plain    \" ><span class=\"plain txtt \"></span><span class=\"plain    \" ><span class=\"plain txtt \"></span><span class=\"plain    \" ><span class=\"txtt\"><span class=\"langalt\"><span class=\"r\">ša₃</span></span>-</span></span><span class=\"plain    \" ><span class=\"txtt\"><span class=\"langalt\"><span class=\"r\">gal</span></span> </span></span></span></span><span class=\"plain    \" ><span class=\"plain txtt \"></span><span class=\"plain    \" ><span class=\"txtt\"><span class=\"r\">la</span> </span></span></span><span class=\"plain    \" ><span class=\"plain txtt \"></span><span class=\"plain    \" ><span class=\"txtt\"><span class=\"r\">i</span>-</span></span><span class=\"plain    \" ><span class=\"txtt\"><span class=\"r\">ku</span>-</span></span><span class=\"plain    \" ><span class=\"txtt\"><span class=\"r\">lu</span> </span></span></span><span class=\"plain    \" ><span class=\"plain txtt \"></span><span class=\"plain    \" ><span class=\"txtt\"><span class=\"r\">ba</span>-</span></span><span class=\"plain    \" ><span class=\"txtt\"><span class=\"r\">al</span>-</span></span><span class=\"plain    \" ><span class=\"txtt\"><span class=\"r\">ṭu₂</span>-</span></span><span class=\"plain    \" ><span class=\"txtt\"><span class=\"r\">u₂</span></span></span></span></span>"
      ],
      "text/plain": [
       "<IPython.core.display.HTML object>"
      ]
     },
     "metadata": {},
     "output_type": "display_data"
    },
    {
     "name": "stdout",
     "output_type": "stream",
     "text": [
      "layout-orig-unicode <span class=\"langalt\"><span class=\"r\">𒊮</span></span><span class=\"langalt\"><span class=\"r\">𒃲</span></span> <span class=\"r\">𒆷</span> <span class=\"r\">𒄿</span><span class=\"r\">𒆪</span><span class=\"r\">𒇻</span> <span class=\"r\">𒁀</span><span class=\"r\">𒀠</span><span class=\"r\">𒌅</span><span class=\"r\">𒌑</span>\n"
     ]
    },
    {
     "data": {
      "text/html": [
       "<span class=\"section ltr\"><a target=\"_blank\" href=\"https://cdli.ucla.edu/search/search_results.php?SearchMode=Text&amp;ObjectID=P509377\" title=\"Show this document on CDLI\" sec=\"P509377 obverse:9\">P509377 obverse:9</a> </span> <span class=\"plain outer   \" ><span class=\"plain txtu akk \"></span><span class=\"plain    \" ><span class=\"plain txtu akk \"></span><span class=\"plain    \" ><span class=\"plain txtu akk \"></span><span class=\"plain    \" ><span class=\"txtu akk\"><span class=\"langalt\"><span class=\"r\">𒊮</span></span></span></span><span class=\"plain    \" ><span class=\"txtu akk\"><span class=\"langalt\"><span class=\"r\">𒃲</span></span> </span></span></span></span><span class=\"plain    \" ><span class=\"plain txtu akk \"></span><span class=\"plain    \" ><span class=\"txtu akk\"><span class=\"r\">𒆷</span> </span></span></span><span class=\"plain    \" ><span class=\"plain txtu akk \"></span><span class=\"plain    \" ><span class=\"txtu akk\"><span class=\"r\">𒄿</span></span></span><span class=\"plain    \" ><span class=\"txtu akk\"><span class=\"r\">𒆪</span></span></span><span class=\"plain    \" ><span class=\"txtu akk\"><span class=\"r\">𒇻</span> </span></span></span><span class=\"plain    \" ><span class=\"plain txtu akk \"></span><span class=\"plain    \" ><span class=\"txtu akk\"><span class=\"r\">𒁀</span></span></span><span class=\"plain    \" ><span class=\"txtu akk\"><span class=\"r\">𒀠</span></span></span><span class=\"plain    \" ><span class=\"txtu akk\"><span class=\"r\">𒌅</span></span></span><span class=\"plain    \" ><span class=\"txtu akk\"><span class=\"r\">𒌑</span></span></span></span></span>"
      ],
      "text/plain": [
       "<IPython.core.display.HTML object>"
      ]
     },
     "metadata": {},
     "output_type": "display_data"
    }
   ],
   "source": [
    "for fmt in T.formats:\n",
    "    print(fmt, T.text(ln, fmt=fmt))\n",
    "    A.plain(ln, fmt=fmt)"
   ]
  },
  {
   "cell_type": "code",
   "execution_count": 16,
   "metadata": {},
   "outputs": [
    {
     "data": {
      "text/markdown": [
       "### document 226669\n"
      ],
      "text/plain": [
       "<IPython.core.display.Markdown object>"
      ]
     },
     "metadata": {},
     "output_type": "display_data"
    },
    {
     "data": {
      "text/html": [
       "<span class=\"section ltr\"><a target=\"_blank\" href=\"/search/search_results.php?SearchMode=Text&amp;ObjectID=P509373\" title=\"Show this document on CDLI\" sec=\"P509373\">P509373</a> </span> <span class=\"plain outer   \" ><span class=\"plain txtu akk \"><span class=\"section\"> </span></span></span>"
      ],
      "text/plain": [
       "<IPython.core.display.HTML object>"
      ]
     },
     "metadata": {},
     "output_type": "display_data"
    },
    {
     "data": {
      "text/html": [
       "<span class=\"section ltr\"><a target=\"_blank\" href=\"/search/search_results.php?SearchMode=Text&amp;ObjectID=P509373\" title=\"Show this document on CDLI\" sec=\"P509373\">P509373</a> </span><div class=\"contnr c4 trm   \" ><div class=\"lbl c4 trm \" ><span class=\"txtu akk\"><span class=\"section\">P509373</span></span></div> </div>"
      ],
      "text/plain": [
       "<IPython.core.display.HTML object>"
      ]
     },
     "metadata": {},
     "output_type": "display_data"
    },
    {
     "data": {
      "text/markdown": [
       "### face 227954\n"
      ],
      "text/plain": [
       "<IPython.core.display.Markdown object>"
      ]
     },
     "metadata": {},
     "output_type": "display_data"
    },
    {
     "data": {
      "text/html": [
       "<span class=\"section ltr\"><a target=\"_blank\" href=\"/search/search_results.php?SearchMode=Text&amp;ObjectID=P509373\" title=\"Show this document on CDLI\" sec=\"P509373 obverse\">P509373 obverse</a> </span> <span class=\"plain outer   \" ><span class=\"plain txtu akk \"><span class=\"section\"> </span></span></span>"
      ],
      "text/plain": [
       "<IPython.core.display.HTML object>"
      ]
     },
     "metadata": {},
     "output_type": "display_data"
    },
    {
     "data": {
      "text/html": [
       "<span class=\"section ltr\"><a target=\"_blank\" href=\"/search/search_results.php?SearchMode=Text&amp;ObjectID=P509373\" title=\"Show this document on CDLI\" sec=\"P509373 obverse\">P509373 obverse</a> </span><div class=\"contnr c4 trm   \" ><div class=\"lbl c4 trm \" ><span class=\"txtu akk\"><span class=\"section\">P509373 obverse</span></span></div> </div>"
      ],
      "text/plain": [
       "<IPython.core.display.HTML object>"
      ]
     },
     "metadata": {},
     "output_type": "display_data"
    },
    {
     "data": {
      "text/markdown": [
       "### line 230788\n"
      ],
      "text/plain": [
       "<IPython.core.display.Markdown object>"
      ]
     },
     "metadata": {},
     "output_type": "display_data"
    },
    {
     "data": {
      "text/html": [
       "<span class=\"section ltr\"><a target=\"_blank\" href=\"/search/search_results.php?SearchMode=Text&amp;ObjectID=P509373\" title=\"Show this document on CDLI\" sec=\"P509373 obverse:1\">P509373 obverse:1</a> </span> <span class=\"plain outer   \" ><span class=\"plain txtu akk \"></span><span class=\"plain    \" ><span class=\"plain txtu akk \"></span><span class=\"plain    \" ><span class=\"plain txtu akk \"></span><span class=\"plain    \" ><span class=\"txtu akk\">𒀀</span></span><span class=\"plain    \" ><span class=\"txtu akk\">𒈾 </span></span></span></span><span class=\"plain    \" ><span class=\"plain txtu akk \"></span><span class=\"plain    \" ><span class=\"plain txtu akk \"></span><span class=\"plain    \" ><span class=\"txtu akk\">𒀭</span></span><span class=\"plain    \" ><span class=\"txtu akk\">𒂗𒍪</span></span></span><span class=\"plain    \" ><span class=\"plain txtu akk \"></span></span><span class=\"plain    \" ><span class=\"txtu akk\">𒄿</span></span><span class=\"plain    \" ><span class=\"plain txtu akk \"></span><span class=\"plain    \" ><span class=\"txtu akk\">𒁷</span></span><span class=\"plain    \" ><span class=\"txtu akk\">𒉆</span></span></span></span></span>"
      ],
      "text/plain": [
       "<IPython.core.display.HTML object>"
      ]
     },
     "metadata": {},
     "output_type": "display_data"
    },
    {
     "data": {
      "text/html": [
       "<span class=\"section ltr\"><a target=\"_blank\" href=\"/search/search_results.php?SearchMode=Text&amp;ObjectID=P509373\" title=\"Show this document on CDLI\" sec=\"P509373 obverse:1\">P509373 obverse:1</a> </span><div class=\"contnr c3    \" > <div class=\"children hor wrap \"><div class=\"contnr c2    \" ><div class=\"lbl c2  \" ><span class=\"txtu akk\">𒀀𒈾</span></div> <div class=\"children hor  \"><div class=\"contnr c1    \" > <div class=\"children hor wrap \"><div class=\"contnr c0 trm   \" ><div class=\"lbl c0 trm \" ><span class=\"txtu akk\">𒀀</span></div> </div><div class=\"contnr c0 trm   \" ><div class=\"lbl c0 trm \" ><span class=\"txtu akk\">𒈾 </span></div> </div></div></div></div></div><div class=\"contnr c2    \" ><div class=\"lbl c2  \" ><span class=\"txtu akk\">𒀭𒂗𒍪𒄿𒁷𒉆</span></div> <div class=\"children hor  \"><div class=\"contnr c1    \" > <div class=\"children hor wrap \"><div class=\"contnr c0 trm   \" ><div class=\"lbl c0 trm \" ><span class=\"txtu akk\">𒀭</span></div> </div><div class=\"contnr c0 trm   \" ><div class=\"lbl c0 trm \" ><span class=\"txtu akk\">𒂗𒍪</span></div> </div></div></div><div class=\"contnr c1    \" > <div class=\"children hor wrap \"></div></div><div class=\"contnr c0 trm   \" ><div class=\"lbl c0 trm \" ><span class=\"txtu akk\">𒄿</span></div> </div><div class=\"contnr c1    \" > <div class=\"children hor wrap \"><div class=\"contnr c0 trm   \" ><div class=\"lbl c0 trm \" ><span class=\"txtu akk\">𒁷</span></div> </div><div class=\"contnr c0 trm   \" ><div class=\"lbl c0 trm \" ><span class=\"txtu akk\">𒉆</span></div> </div></div></div></div></div></div></div>"
      ],
      "text/plain": [
       "<IPython.core.display.HTML object>"
      ]
     },
     "metadata": {},
     "output_type": "display_data"
    },
    {
     "data": {
      "text/markdown": [
       "### word 258163\n"
      ],
      "text/plain": [
       "<IPython.core.display.Markdown object>"
      ]
     },
     "metadata": {},
     "output_type": "display_data"
    },
    {
     "data": {
      "text/html": [
       "<span class=\"section ltr\"><a target=\"_blank\" href=\"/search/search_results.php?SearchMode=Text&amp;ObjectID=P509373\" title=\"Show this document on CDLI\" sec=\"P509373 obverse:1\">P509373 obverse:1</a> </span> <span class=\"plain outer   \" ><span class=\"plain txtu akk \"></span><span class=\"plain    \" ><span class=\"plain txtu akk \"></span><span class=\"plain    \" ><span class=\"txtu akk\">𒀀</span></span><span class=\"plain    \" ><span class=\"txtu akk\">𒈾 </span></span></span></span>"
      ],
      "text/plain": [
       "<IPython.core.display.HTML object>"
      ]
     },
     "metadata": {},
     "output_type": "display_data"
    },
    {
     "data": {
      "text/html": [
       "<span class=\"section ltr\"><a target=\"_blank\" href=\"/search/search_results.php?SearchMode=Text&amp;ObjectID=P509373\" title=\"Show this document on CDLI\" sec=\"P509373 obverse:1\">P509373 obverse:1</a> </span><div class=\"contnr c2    \" ><div class=\"lbl c2  \" ><span class=\"txtu akk\">𒀀𒈾</span></div> <div class=\"children hor  \"><div class=\"contnr c1    \" > <div class=\"children hor wrap \"><div class=\"contnr c0 trm   \" ><div class=\"lbl c0 trm \" ><span class=\"txtu akk\">𒀀</span></div> </div><div class=\"contnr c0 trm   \" ><div class=\"lbl c0 trm \" ><span class=\"txtu akk\">𒈾 </span></div> </div></div></div></div></div>"
      ],
      "text/plain": [
       "<IPython.core.display.HTML object>"
      ]
     },
     "metadata": {},
     "output_type": "display_data"
    },
    {
     "data": {
      "text/markdown": [
       "### cluster 203220\n"
      ],
      "text/plain": [
       "<IPython.core.display.Markdown object>"
      ]
     },
     "metadata": {},
     "output_type": "display_data"
    },
    {
     "data": {
      "text/html": [
       "<span class=\"section ltr\"><a target=\"_blank\" href=\"/search/search_results.php?SearchMode=Text&amp;ObjectID=P509373\" title=\"Show this document on CDLI\" sec=\"P509373 obverse:1\">P509373 obverse:1</a> </span> <span class=\"plain outer   \" ><span class=\"plain txtu akk \"></span><span class=\"plain    \" ><span class=\"txtu akk\">𒀀</span></span><span class=\"plain    \" ><span class=\"txtu akk\">𒈾 </span></span></span>"
      ],
      "text/plain": [
       "<IPython.core.display.HTML object>"
      ]
     },
     "metadata": {},
     "output_type": "display_data"
    },
    {
     "data": {
      "text/html": [
       "<span class=\"section ltr\"><a target=\"_blank\" href=\"/search/search_results.php?SearchMode=Text&amp;ObjectID=P509373\" title=\"Show this document on CDLI\" sec=\"P509373 obverse:1\">P509373 obverse:1</a> </span><div class=\"contnr c1    \" > <div class=\"children hor wrap \"><div class=\"contnr c0 trm   \" ><div class=\"lbl c0 trm \" ><span class=\"txtu akk\">𒀀</span></div> </div><div class=\"contnr c0 trm   \" ><div class=\"lbl c0 trm \" ><span class=\"txtu akk\">𒈾 </span></div> </div></div></div>"
      ],
      "text/plain": [
       "<IPython.core.display.HTML object>"
      ]
     },
     "metadata": {},
     "output_type": "display_data"
    },
    {
     "data": {
      "text/markdown": [
       "### sign 1\n"
      ],
      "text/plain": [
       "<IPython.core.display.Markdown object>"
      ]
     },
     "metadata": {},
     "output_type": "display_data"
    },
    {
     "data": {
      "text/html": [
       "<span class=\"section ltr\"><a target=\"_blank\" href=\"/search/search_results.php?SearchMode=Text&amp;ObjectID=P509373\" title=\"Show this document on CDLI\" sec=\"P509373 obverse:1\">P509373 obverse:1</a> </span> <span class=\"plain outer   \" ><span class=\"txtu akk\">𒀀</span></span>"
      ],
      "text/plain": [
       "<IPython.core.display.HTML object>"
      ]
     },
     "metadata": {},
     "output_type": "display_data"
    },
    {
     "data": {
      "text/html": [
       "<span class=\"section ltr\"><a target=\"_blank\" href=\"/search/search_results.php?SearchMode=Text&amp;ObjectID=P509373\" title=\"Show this document on CDLI\" sec=\"P509373 obverse:1\">P509373 obverse:1</a> </span><div class=\"contnr c0 trm   \" ><div class=\"lbl c0 trm \" ><span class=\"txtu akk\">𒀀</span></div> </div>"
      ],
      "text/plain": [
       "<IPython.core.display.HTML object>"
      ]
     },
     "metadata": {},
     "output_type": "display_data"
    }
   ],
   "source": [
    "typeShow(A, standardFeatures=False, prettyTypes=False, baseTypes=set(), fmt=\"text-orig-unicode\")"
   ]
  },
  {
   "cell_type": "code",
   "execution_count": 17,
   "metadata": {},
   "outputs": [
    {
     "data": {
      "text/markdown": [
       "### document 226669\n"
      ],
      "text/plain": [
       "<IPython.core.display.Markdown object>"
      ]
     },
     "metadata": {},
     "output_type": "display_data"
    },
    {
     "data": {
      "text/html": [
       "<span class=\"section ltr\"><a target=\"_blank\" href=\"/search/search_results.php?SearchMode=Text&amp;ObjectID=P509373\" title=\"Show this document on CDLI\" sec=\"P509373\">P509373</a> </span> <span class=\"plain outer   \" ><span class=\"plain txto \"><span class=\"section\"> </span></span></span>"
      ],
      "text/plain": [
       "<IPython.core.display.HTML object>"
      ]
     },
     "metadata": {},
     "output_type": "display_data"
    },
    {
     "data": {
      "text/html": [
       "<span class=\"section ltr\"><a target=\"_blank\" href=\"/search/search_results.php?SearchMode=Text&amp;ObjectID=P509373\" title=\"Show this document on CDLI\" sec=\"P509373\">P509373</a> </span><div class=\"contnr c4 trm   \" ><div class=\"lbl c4 trm \" ><span class=\"nd\">document</span> <span class=\"txto\"><span class=\"section\">P509373</span></span></div> <div class='features'><span class=\"collection \" title=\"collection\">AbB</span><span class=\"volume \" title=\"volume\">1</span><span class=\"docnumber \" title=\"docnumber\">059</span></div></div>"
      ],
      "text/plain": [
       "<IPython.core.display.HTML object>"
      ]
     },
     "metadata": {},
     "output_type": "display_data"
    },
    {
     "data": {
      "text/markdown": [
       "### face 227954\n"
      ],
      "text/plain": [
       "<IPython.core.display.Markdown object>"
      ]
     },
     "metadata": {},
     "output_type": "display_data"
    },
    {
     "data": {
      "text/html": [
       "<span class=\"section ltr\"><a target=\"_blank\" href=\"/search/search_results.php?SearchMode=Text&amp;ObjectID=P509373\" title=\"Show this document on CDLI\" sec=\"P509373 obverse\">P509373 obverse</a> </span> <span class=\"plain outer   \" ><span class=\"plain txto \"><span class=\"section\"> </span></span></span>"
      ],
      "text/plain": [
       "<IPython.core.display.HTML object>"
      ]
     },
     "metadata": {},
     "output_type": "display_data"
    },
    {
     "data": {
      "text/html": [
       "<span class=\"section ltr\"><a target=\"_blank\" href=\"/search/search_results.php?SearchMode=Text&amp;ObjectID=P509373\" title=\"Show this document on CDLI\" sec=\"P509373 obverse\">P509373 obverse</a> </span><div class=\"contnr c4 trm   \" ><div class=\"lbl c4 trm \" ><span class=\"nd\">face</span> <span class=\"txto\"><span class=\"section\">P509373 obverse</span></span></div> <div class='features'><span class=\"object \" title=\"object\">tablet</span></div></div>"
      ],
      "text/plain": [
       "<IPython.core.display.HTML object>"
      ]
     },
     "metadata": {},
     "output_type": "display_data"
    },
    {
     "data": {
      "text/markdown": [
       "### line 230788\n"
      ],
      "text/plain": [
       "<IPython.core.display.Markdown object>"
      ]
     },
     "metadata": {},
     "output_type": "display_data"
    },
    {
     "data": {
      "text/html": [
       "<span class=\"section ltr\"><a target=\"_blank\" href=\"/search/search_results.php?SearchMode=Text&amp;ObjectID=P509373\" title=\"Show this document on CDLI\" sec=\"P509373 obverse:1\">P509373 obverse:1</a> </span> <span class=\"plain outer   \" ><span class=\"plain txto \"></span><span class=\"plain    \" ><span class=\"plain txto \"></span><span class=\"plain    \" ><span class=\"plain txto \"></span><span class=\"plain    \" ><span class=\"txto\">[a-</span></span><span class=\"plain    \" ><span class=\"txto\">na] </span></span></span></span><span class=\"plain    \" ><span class=\"plain txto \"></span><span class=\"plain    \" ><span class=\"plain txto \"></span><span class=\"plain    \" ><span class=\"txto\">_{d}</span></span><span class=\"plain    \" ><span class=\"txto\">suen_-</span></span></span><span class=\"plain    \" ><span class=\"plain txto \"></span></span><span class=\"plain    \" ><span class=\"txto\">i-</span></span><span class=\"plain    \" ><span class=\"plain txto \"></span><span class=\"plain    \" ><span class=\"txto\">[din-</span></span><span class=\"plain    \" ><span class=\"txto\">nam]</span></span></span></span></span>"
      ],
      "text/plain": [
       "<IPython.core.display.HTML object>"
      ]
     },
     "metadata": {},
     "output_type": "display_data"
    },
    {
     "data": {
      "text/html": [
       "<span class=\"section ltr\"><a target=\"_blank\" href=\"/search/search_results.php?SearchMode=Text&amp;ObjectID=P509373\" title=\"Show this document on CDLI\" sec=\"P509373 obverse:1\">P509373 obverse:1</a> </span><div class=\"contnr c3    \" ><div class=\"lbl c3  \" ><span class=\"nd\">line</span></div> <div class=\"children hor wrap \"><div class=\"contnr c2 trm   \" ><div class=\"lbl c2 trm \" ><span class=\"nd\">word</span> <span class=\"txto\"><span class=\"plain outer   \" ><span class=\"plain txto \"></span><span class=\"plain    \" ><span class=\"plain txto \"></span><span class=\"plain    \" ><span class=\"txto\">[a-</span></span><span class=\"plain    \" ><span class=\"txto\">na] </span></span></span></span></span></div> </div><div class=\"contnr c1    \" ><div class=\"lbl c1  \" ><span class=\"nd\">cluster</span> <span class=\"txto\"><span title=\"type\">missing</span></span></div> <div class=\"children hor wrap \"><div class=\"contnr c0 trm   \" ><div class=\"lbl c0 trm \" ><span class=\"txto\">[a-</span></div> <div class='features'><span class=\"missing \" ><span class=\"f\">missing=</span>1</span></div></div><div class=\"contnr c0 trm   \" ><div class=\"lbl c0 trm \" ><span class=\"txto\">na] </span></div> <div class='features'><span class=\"missing \" ><span class=\"f\">missing=</span>1</span></div></div></div></div><div class=\"contnr c2 trm   \" ><div class=\"lbl c2 trm \" ><span class=\"nd\">word</span> <span class=\"txto\"><span class=\"plain outer   \" ><span class=\"plain txto \"></span><span class=\"plain    \" ><span class=\"plain txto \"></span><span class=\"plain    \" ><span class=\"txto\">_{d}</span></span><span class=\"plain    \" ><span class=\"txto\">suen_-</span></span></span><span class=\"plain    \" ><span class=\"plain txto \"></span></span><span class=\"plain    \" ><span class=\"txto\">i-</span></span><span class=\"plain    \" ><span class=\"plain txto \"></span><span class=\"plain    \" ><span class=\"txto\">[din-</span></span><span class=\"plain    \" ><span class=\"txto\">nam]</span></span></span></span></span></div> </div><div class=\"contnr c1    \" ><div class=\"lbl c1  \" ><span class=\"nd\">cluster</span> <span class=\"txto\"><span title=\"type\">langalt</span></span></div> <div class=\"children hor wrap \"><div class=\"contnr c0 trm   \" ><div class=\"lbl c0 trm \" ><span class=\"txto\">_{d}</span></div> <div class='features'><span class=\"det \" ><span class=\"f\">det=</span>1</span><span class=\"langalt \" ><span class=\"f\">langalt=</span>1</span></div></div><div class=\"contnr c0 trm   \" ><div class=\"lbl c0 trm \" ><span class=\"txto\">suen_-</span></div> <div class='features'><span class=\"langalt \" ><span class=\"f\">langalt=</span>1</span></div></div></div></div><div class=\"contnr c1    \" ><div class=\"lbl c1  \" ><span class=\"nd\">cluster</span> <span class=\"txto\"><span title=\"type\">det</span></span></div> <div class=\"children hor wrap \"></div></div><div class=\"contnr c1    \" ><div class=\"lbl c1  \" ><span class=\"nd\">cluster</span> <span class=\"txto\"><span title=\"type\">missing</span></span></div> <div class=\"children hor wrap \"><div class=\"contnr c0 trm   \" ><div class=\"lbl c0 trm \" ><span class=\"txto\">[din-</span></div> <div class='features'><span class=\"missing \" ><span class=\"f\">missing=</span>1</span></div></div><div class=\"contnr c0 trm   \" ><div class=\"lbl c0 trm \" ><span class=\"txto\">nam]</span></div> <div class='features'><span class=\"missing \" ><span class=\"f\">missing=</span>1</span></div></div></div></div></div></div>"
      ],
      "text/plain": [
       "<IPython.core.display.HTML object>"
      ]
     },
     "metadata": {},
     "output_type": "display_data"
    },
    {
     "data": {
      "text/markdown": [
       "### word 258163\n"
      ],
      "text/plain": [
       "<IPython.core.display.Markdown object>"
      ]
     },
     "metadata": {},
     "output_type": "display_data"
    },
    {
     "data": {
      "text/html": [
       "<span class=\"section ltr\"><a target=\"_blank\" href=\"/search/search_results.php?SearchMode=Text&amp;ObjectID=P509373\" title=\"Show this document on CDLI\" sec=\"P509373 obverse:1\">P509373 obverse:1</a> </span> <span class=\"plain outer   \" ><span class=\"plain txto \"></span><span class=\"plain    \" ><span class=\"plain txto \"></span><span class=\"plain    \" ><span class=\"txto\">[a-</span></span><span class=\"plain    \" ><span class=\"txto\">na] </span></span></span></span>"
      ],
      "text/plain": [
       "<IPython.core.display.HTML object>"
      ]
     },
     "metadata": {},
     "output_type": "display_data"
    },
    {
     "data": {
      "text/html": [
       "<span class=\"section ltr\"><a target=\"_blank\" href=\"/search/search_results.php?SearchMode=Text&amp;ObjectID=P509373\" title=\"Show this document on CDLI\" sec=\"P509373 obverse:1\">P509373 obverse:1</a> </span><div class=\"contnr c2 trm   \" ><div class=\"lbl c2 trm \" ><span class=\"nd\">word</span> <span class=\"txto\"><span class=\"plain outer   \" ><span class=\"plain txto \"></span><span class=\"plain    \" ><span class=\"plain txto \"></span><span class=\"plain    \" ><span class=\"txto\">[a-</span></span><span class=\"plain    \" ><span class=\"txto\">na] </span></span></span></span></span></div> </div>"
      ],
      "text/plain": [
       "<IPython.core.display.HTML object>"
      ]
     },
     "metadata": {},
     "output_type": "display_data"
    },
    {
     "data": {
      "text/markdown": [
       "### cluster 203220\n"
      ],
      "text/plain": [
       "<IPython.core.display.Markdown object>"
      ]
     },
     "metadata": {},
     "output_type": "display_data"
    },
    {
     "data": {
      "text/html": [
       "<span class=\"section ltr\"><a target=\"_blank\" href=\"/search/search_results.php?SearchMode=Text&amp;ObjectID=P509373\" title=\"Show this document on CDLI\" sec=\"P509373 obverse:1\">P509373 obverse:1</a> </span> <span class=\"plain outer   \" ><span class=\"plain txto \"></span><span class=\"plain    \" ><span class=\"txto\">[a-</span></span><span class=\"plain    \" ><span class=\"txto\">na] </span></span></span>"
      ],
      "text/plain": [
       "<IPython.core.display.HTML object>"
      ]
     },
     "metadata": {},
     "output_type": "display_data"
    },
    {
     "data": {
      "text/html": [
       "<span class=\"section ltr\"><a target=\"_blank\" href=\"/search/search_results.php?SearchMode=Text&amp;ObjectID=P509373\" title=\"Show this document on CDLI\" sec=\"P509373 obverse:1\">P509373 obverse:1</a> </span><div class=\"contnr c1    \" ><div class=\"lbl c1  \" ><span class=\"nd\">cluster</span> <span class=\"txto\"><span title=\"type\">missing</span></span></div> <div class=\"children hor wrap \"><div class=\"contnr c0 trm   \" ><div class=\"lbl c0 trm \" ><span class=\"txto\">[a-</span></div> <div class='features'><span class=\"missing \" ><span class=\"f\">missing=</span>1</span></div></div><div class=\"contnr c0 trm   \" ><div class=\"lbl c0 trm \" ><span class=\"txto\">na] </span></div> <div class='features'><span class=\"missing \" ><span class=\"f\">missing=</span>1</span></div></div></div></div>"
      ],
      "text/plain": [
       "<IPython.core.display.HTML object>"
      ]
     },
     "metadata": {},
     "output_type": "display_data"
    },
    {
     "data": {
      "text/markdown": [
       "### sign 1\n"
      ],
      "text/plain": [
       "<IPython.core.display.Markdown object>"
      ]
     },
     "metadata": {},
     "output_type": "display_data"
    },
    {
     "data": {
      "text/html": [
       "<span class=\"section ltr\"><a target=\"_blank\" href=\"/search/search_results.php?SearchMode=Text&amp;ObjectID=P509373\" title=\"Show this document on CDLI\" sec=\"P509373 obverse:1\">P509373 obverse:1</a> </span> <span class=\"plain outer   \" ><span class=\"txto\">[a-</span></span>"
      ],
      "text/plain": [
       "<IPython.core.display.HTML object>"
      ]
     },
     "metadata": {},
     "output_type": "display_data"
    },
    {
     "data": {
      "text/html": [
       "<span class=\"section ltr\"><a target=\"_blank\" href=\"/search/search_results.php?SearchMode=Text&amp;ObjectID=P509373\" title=\"Show this document on CDLI\" sec=\"P509373 obverse:1\">P509373 obverse:1</a> </span><div class=\"contnr c0 trm   \" ><div class=\"lbl c0 trm \" ><span class=\"txto\">[a-</span></div> <div class='features'><span class=\"missing \" ><span class=\"f\">missing=</span>1</span></div></div>"
      ],
      "text/plain": [
       "<IPython.core.display.HTML object>"
      ]
     },
     "metadata": {},
     "output_type": "display_data"
    }
   ],
   "source": [
    "typeShow(A, standardFeatures=True, prettyTypes=True)"
   ]
  },
  {
   "cell_type": "code",
   "execution_count": 18,
   "metadata": {},
   "outputs": [
    {
     "data": {
      "text/markdown": [
       "### document 226669\n"
      ],
      "text/plain": [
       "<IPython.core.display.Markdown object>"
      ]
     },
     "metadata": {},
     "output_type": "display_data"
    },
    {
     "data": {
      "text/html": [
       "<span class=\"section ltr\"><a target=\"_blank\" href=\"/search/search_results.php?SearchMode=Text&amp;ObjectID=P509373\" title=\"Show this document on CDLI\" sec=\"P509373\">P509373</a> </span> <span class=\"plain outer   \" ><span class=\"plain txtu akk \"><span class=\"section\"> </span></span></span>"
      ],
      "text/plain": [
       "<IPython.core.display.HTML object>"
      ]
     },
     "metadata": {},
     "output_type": "display_data"
    },
    {
     "data": {
      "text/html": [
       "<span class=\"section ltr\"><a target=\"_blank\" href=\"/search/search_results.php?SearchMode=Text&amp;ObjectID=P509373\" title=\"Show this document on CDLI\" sec=\"P509373\">P509373</a> </span><div class=\"contnr c4 trm   \" ><div class=\"lbl c4 trm \" ><span class=\"txtu akk\"><span class=\"section\">P509373</span></span></div> </div>"
      ],
      "text/plain": [
       "<IPython.core.display.HTML object>"
      ]
     },
     "metadata": {},
     "output_type": "display_data"
    },
    {
     "data": {
      "text/markdown": [
       "### face 227954\n"
      ],
      "text/plain": [
       "<IPython.core.display.Markdown object>"
      ]
     },
     "metadata": {},
     "output_type": "display_data"
    },
    {
     "data": {
      "text/html": [
       "<span class=\"section ltr\"><a target=\"_blank\" href=\"/search/search_results.php?SearchMode=Text&amp;ObjectID=P509373\" title=\"Show this document on CDLI\" sec=\"P509373 obverse\">P509373 obverse</a> </span> <span class=\"plain outer   \" ><span class=\"plain txtu akk \"><span class=\"section\"> </span></span></span>"
      ],
      "text/plain": [
       "<IPython.core.display.HTML object>"
      ]
     },
     "metadata": {},
     "output_type": "display_data"
    },
    {
     "data": {
      "text/html": [
       "<span class=\"section ltr\"><a target=\"_blank\" href=\"/search/search_results.php?SearchMode=Text&amp;ObjectID=P509373\" title=\"Show this document on CDLI\" sec=\"P509373 obverse\">P509373 obverse</a> </span><div class=\"contnr c4 trm   \" ><div class=\"lbl c4 trm \" ><span class=\"txtu akk\"><span class=\"section\">P509373 obverse</span></span></div> </div>"
      ],
      "text/plain": [
       "<IPython.core.display.HTML object>"
      ]
     },
     "metadata": {},
     "output_type": "display_data"
    },
    {
     "data": {
      "text/markdown": [
       "### line 230788\n"
      ],
      "text/plain": [
       "<IPython.core.display.Markdown object>"
      ]
     },
     "metadata": {},
     "output_type": "display_data"
    },
    {
     "data": {
      "text/html": [
       "<span class=\"section ltr\"><a target=\"_blank\" href=\"/search/search_results.php?SearchMode=Text&amp;ObjectID=P509373\" title=\"Show this document on CDLI\" sec=\"P509373 obverse:1\">P509373 obverse:1</a> </span> <span class=\"plain outer   \" ><span class=\"plain txtu akk \"></span><span class=\"plain    \" ><span class=\"plain txtu akk \"></span><span class=\"plain    \" ><span class=\"plain txtu akk \"></span><span class=\"plain    \" ><span class=\"txtu akk\"><span class=\"missing\"><span class=\"r\">𒀀</span></span></span></span><span class=\"plain    \" ><span class=\"txtu akk\"><span class=\"missing\"><span class=\"r\">𒈾</span></span> </span></span></span></span><span class=\"plain    \" ><span class=\"plain txtu akk \"></span><span class=\"plain    \" ><span class=\"plain txtu akk \"></span><span class=\"plain    \" ><span class=\"txtu akk\"><span class=\"langalt\"><span class=\"det\"><span class=\"r\">𒀭</span></span></span></span></span><span class=\"plain    \" ><span class=\"txtu akk\"><span class=\"langalt\"><span class=\"r\">𒂗𒍪</span></span></span></span></span><span class=\"plain    \" ><span class=\"plain txtu akk \"></span></span><span class=\"plain    \" ><span class=\"txtu akk\"><span class=\"r\">𒄿</span></span></span><span class=\"plain    \" ><span class=\"plain txtu akk \"></span><span class=\"plain    \" ><span class=\"txtu akk\"><span class=\"missing\"><span class=\"r\">𒁷</span></span></span></span><span class=\"plain    \" ><span class=\"txtu akk\"><span class=\"missing\"><span class=\"r\">𒉆</span></span></span></span></span></span></span>"
      ],
      "text/plain": [
       "<IPython.core.display.HTML object>"
      ]
     },
     "metadata": {},
     "output_type": "display_data"
    },
    {
     "data": {
      "text/html": [
       "<span class=\"section ltr\"><a target=\"_blank\" href=\"/search/search_results.php?SearchMode=Text&amp;ObjectID=P509373\" title=\"Show this document on CDLI\" sec=\"P509373 obverse:1\">P509373 obverse:1</a> </span><div class=\"contnr c3    \" > <div class=\"children hor wrap \"><div class=\"contnr c2 trm   \" ><div class=\"lbl c2 trm \" ><span class=\"txtu akk\"><span class=\"plain outer   \" ><span class=\"plain txtu akk \"></span><span class=\"plain    \" ><span class=\"plain txtu akk \"></span><span class=\"plain    \" ><span class=\"txtu akk\"><span class=\"missing\"><span class=\"r\">𒀀</span></span></span></span><span class=\"plain    \" ><span class=\"txtu akk\"><span class=\"missing\"><span class=\"r\">𒈾</span></span> </span></span></span></span></span></div> </div><div class=\"contnr c1    \" > <div class=\"children hor wrap \"><div class=\"contnr c0 trm   \" ><div class=\"lbl c0 trm \" ><span class=\"txtu akk\"><span class=\"missing\"><span class=\"r\">𒀀</span></span></span></div> </div><div class=\"contnr c0 trm   \" ><div class=\"lbl c0 trm \" ><span class=\"txtu akk\"><span class=\"missing\"><span class=\"r\">𒈾</span></span> </span></div> </div></div></div><div class=\"contnr c2 trm   \" ><div class=\"lbl c2 trm \" ><span class=\"txtu akk\"><span class=\"plain outer   \" ><span class=\"plain txtu akk \"></span><span class=\"plain    \" ><span class=\"plain txtu akk \"></span><span class=\"plain    \" ><span class=\"txtu akk\"><span class=\"langalt\"><span class=\"det\"><span class=\"r\">𒀭</span></span></span></span></span><span class=\"plain    \" ><span class=\"txtu akk\"><span class=\"langalt\"><span class=\"r\">𒂗𒍪</span></span></span></span></span><span class=\"plain    \" ><span class=\"plain txtu akk \"></span></span><span class=\"plain    \" ><span class=\"txtu akk\"><span class=\"r\">𒄿</span></span></span><span class=\"plain    \" ><span class=\"plain txtu akk \"></span><span class=\"plain    \" ><span class=\"txtu akk\"><span class=\"missing\"><span class=\"r\">𒁷</span></span></span></span><span class=\"plain    \" ><span class=\"txtu akk\"><span class=\"missing\"><span class=\"r\">𒉆</span></span></span></span></span></span></span></div> </div><div class=\"contnr c1    \" > <div class=\"children hor wrap \"><div class=\"contnr c0 trm   \" ><div class=\"lbl c0 trm \" ><span class=\"txtu akk\"><span class=\"langalt\"><span class=\"det\"><span class=\"r\">𒀭</span></span></span></span></div> </div><div class=\"contnr c0 trm   \" ><div class=\"lbl c0 trm \" ><span class=\"txtu akk\"><span class=\"langalt\"><span class=\"r\">𒂗𒍪</span></span></span></div> </div></div></div><div class=\"contnr c1    \" > <div class=\"children hor wrap \"></div></div><div class=\"contnr c1    \" > <div class=\"children hor wrap \"><div class=\"contnr c0 trm   \" ><div class=\"lbl c0 trm \" ><span class=\"txtu akk\"><span class=\"missing\"><span class=\"r\">𒁷</span></span></span></div> </div><div class=\"contnr c0 trm   \" ><div class=\"lbl c0 trm \" ><span class=\"txtu akk\"><span class=\"missing\"><span class=\"r\">𒉆</span></span></span></div> </div></div></div></div></div>"
      ],
      "text/plain": [
       "<IPython.core.display.HTML object>"
      ]
     },
     "metadata": {},
     "output_type": "display_data"
    },
    {
     "data": {
      "text/markdown": [
       "### word 258163\n"
      ],
      "text/plain": [
       "<IPython.core.display.Markdown object>"
      ]
     },
     "metadata": {},
     "output_type": "display_data"
    },
    {
     "data": {
      "text/html": [
       "<span class=\"section ltr\"><a target=\"_blank\" href=\"/search/search_results.php?SearchMode=Text&amp;ObjectID=P509373\" title=\"Show this document on CDLI\" sec=\"P509373 obverse:1\">P509373 obverse:1</a> </span> <span class=\"plain outer   \" ><span class=\"plain txtu akk \"></span><span class=\"plain    \" ><span class=\"plain txtu akk \"></span><span class=\"plain    \" ><span class=\"txtu akk\"><span class=\"missing\"><span class=\"r\">𒀀</span></span></span></span><span class=\"plain    \" ><span class=\"txtu akk\"><span class=\"missing\"><span class=\"r\">𒈾</span></span> </span></span></span></span>"
      ],
      "text/plain": [
       "<IPython.core.display.HTML object>"
      ]
     },
     "metadata": {},
     "output_type": "display_data"
    },
    {
     "data": {
      "text/html": [
       "<span class=\"section ltr\"><a target=\"_blank\" href=\"/search/search_results.php?SearchMode=Text&amp;ObjectID=P509373\" title=\"Show this document on CDLI\" sec=\"P509373 obverse:1\">P509373 obverse:1</a> </span><div class=\"contnr c2 trm   \" ><div class=\"lbl c2 trm \" ><span class=\"txtu akk\"><span class=\"plain outer   \" ><span class=\"plain txtu akk \"></span><span class=\"plain    \" ><span class=\"plain txtu akk \"></span><span class=\"plain    \" ><span class=\"txtu akk\"><span class=\"missing\"><span class=\"r\">𒀀</span></span></span></span><span class=\"plain    \" ><span class=\"txtu akk\"><span class=\"missing\"><span class=\"r\">𒈾</span></span> </span></span></span></span></span></div> </div>"
      ],
      "text/plain": [
       "<IPython.core.display.HTML object>"
      ]
     },
     "metadata": {},
     "output_type": "display_data"
    },
    {
     "data": {
      "text/markdown": [
       "### cluster 203220\n"
      ],
      "text/plain": [
       "<IPython.core.display.Markdown object>"
      ]
     },
     "metadata": {},
     "output_type": "display_data"
    },
    {
     "data": {
      "text/html": [
       "<span class=\"section ltr\"><a target=\"_blank\" href=\"/search/search_results.php?SearchMode=Text&amp;ObjectID=P509373\" title=\"Show this document on CDLI\" sec=\"P509373 obverse:1\">P509373 obverse:1</a> </span> <span class=\"plain outer   \" ><span class=\"plain txtu akk \"></span><span class=\"plain    \" ><span class=\"txtu akk\"><span class=\"missing\"><span class=\"r\">𒀀</span></span></span></span><span class=\"plain    \" ><span class=\"txtu akk\"><span class=\"missing\"><span class=\"r\">𒈾</span></span> </span></span></span>"
      ],
      "text/plain": [
       "<IPython.core.display.HTML object>"
      ]
     },
     "metadata": {},
     "output_type": "display_data"
    },
    {
     "data": {
      "text/html": [
       "<span class=\"section ltr\"><a target=\"_blank\" href=\"/search/search_results.php?SearchMode=Text&amp;ObjectID=P509373\" title=\"Show this document on CDLI\" sec=\"P509373 obverse:1\">P509373 obverse:1</a> </span><div class=\"contnr c1    \" > <div class=\"children hor wrap \"><div class=\"contnr c0 trm   \" ><div class=\"lbl c0 trm \" ><span class=\"txtu akk\"><span class=\"missing\"><span class=\"r\">𒀀</span></span></span></div> </div><div class=\"contnr c0 trm   \" ><div class=\"lbl c0 trm \" ><span class=\"txtu akk\"><span class=\"missing\"><span class=\"r\">𒈾</span></span> </span></div> </div></div></div>"
      ],
      "text/plain": [
       "<IPython.core.display.HTML object>"
      ]
     },
     "metadata": {},
     "output_type": "display_data"
    },
    {
     "data": {
      "text/markdown": [
       "### sign 1\n"
      ],
      "text/plain": [
       "<IPython.core.display.Markdown object>"
      ]
     },
     "metadata": {},
     "output_type": "display_data"
    },
    {
     "data": {
      "text/html": [
       "<span class=\"section ltr\"><a target=\"_blank\" href=\"/search/search_results.php?SearchMode=Text&amp;ObjectID=P509373\" title=\"Show this document on CDLI\" sec=\"P509373 obverse:1\">P509373 obverse:1</a> </span> <span class=\"plain outer   \" ><span class=\"txtu akk\"><span class=\"missing\"><span class=\"r\">𒀀</span></span></span></span>"
      ],
      "text/plain": [
       "<IPython.core.display.HTML object>"
      ]
     },
     "metadata": {},
     "output_type": "display_data"
    },
    {
     "data": {
      "text/html": [
       "<span class=\"section ltr\"><a target=\"_blank\" href=\"/search/search_results.php?SearchMode=Text&amp;ObjectID=P509373\" title=\"Show this document on CDLI\" sec=\"P509373 obverse:1\">P509373 obverse:1</a> </span><div class=\"contnr c0 trm   \" ><div class=\"lbl c0 trm \" ><span class=\"txtu akk\"><span class=\"missing\"><span class=\"r\">𒀀</span></span></span></div> </div>"
      ],
      "text/plain": [
       "<IPython.core.display.HTML object>"
      ]
     },
     "metadata": {},
     "output_type": "display_data"
    }
   ],
   "source": [
    "typeShow(A, standardFeatures=False, prettyTypes=False, fmt=\"layout-orig-unicode\")"
   ]
  },
  {
   "cell_type": "code",
   "execution_count": 19,
   "metadata": {},
   "outputs": [
    {
     "data": {
      "text/markdown": [
       "<details><summary><b>oldbabylonian</b> <i>app context</i></summary>\n",
       "<details><summary>1. afterChild</summary>\n",
       "{}\n",
       "\n",
       "</details>\n",
       "<details><summary>2. allowedBaseTypes</summary>\n",
       "\n",
       "1.  `word`\n",
       "2.  `cluster`\n",
       "\n",
       "</details>\n",
       "<details><summary>3. apiVersion</summary>\n",
       "`1`\n",
       "\n",
       "</details>\n",
       "<details><summary>4. appName</summary>\n",
       "`oldbabylonian`\n",
       "\n",
       "</details>\n",
       "<details><summary>5. appPath</summary>\n",
       "`/Users/dirk/github/annotation/app-oldbabylonian/code`\n",
       "\n",
       "</details>\n",
       "<details><summary>6. baseTypes</summary>\n",
       "\n",
       "1.  `word`\n",
       "\n",
       "</details>\n",
       "<details><summary>7. browseContentPretty</summary>\n",
       "False\n",
       "\n",
       "</details>\n",
       "<details><summary>8. browseNavLevel</summary>\n",
       "`2`\n",
       "\n",
       "</details>\n",
       "<details><summary>9. charText</summary>\n",
       "`mapping from readings to UNICODE`\n",
       "\n",
       "</details>\n",
       "<details><summary>10. charUrl</summary>\n",
       "`https://github.com/Nino-cunei/oldbabylonian/blob/master/docs/programs/mapReadings.ipynb`\n",
       "\n",
       "</details>\n",
       "<details><summary>11. childType</summary>\n",
       "\n",
       "*   **`cluster`**: \n",
       "    *   `sign`\n",
       "*   **`document`**: \n",
       "    *   `face`\n",
       "*   **`face`**: \n",
       "    *   `line`\n",
       "*   **`line`**: \n",
       "    *   `cluster`\n",
       "    *   `word`\n",
       "*   **`word`**: \n",
       "    *   `cluster`\n",
       "    *   `sign`\n",
       "\n",
       "</details>\n",
       "<details><summary>12. childrenCustom</summary>\n",
       "{}\n",
       "\n",
       "</details>\n",
       "<details><summary>13. chunkedTypes</summary>\n",
       "set()\n",
       "\n",
       "</details>\n",
       "<details><summary>14. commit</summary>\n",
       "None\n",
       "\n",
       "</details>\n",
       "<details><summary>15. condenseType</summary>\n",
       "`line`\n",
       "\n",
       "</details>\n",
       "<details><summary>16. condenseTypes</summary>\n",
       "\n",
       "1.  \n",
       "    *   `document`\n",
       "    *   `158.14708171206226`\n",
       "    *   `226669`\n",
       "    *   `227953`\n",
       "2.  \n",
       "    *   `face`\n",
       "    *   `71.70748059280169`\n",
       "    *   `227954`\n",
       "    *   `230787`\n",
       "3.  \n",
       "    *   `line`\n",
       "    *   `7.423525114155251`\n",
       "    *   `230788`\n",
       "    *   `258162`\n",
       "4.  \n",
       "    *   `word`\n",
       "    *   `2.6436180641788116`\n",
       "    *   `258163`\n",
       "    *   `334667`\n",
       "5.  \n",
       "    *   `cluster`\n",
       "    *   `1.782122905027933`\n",
       "    *   `203220`\n",
       "    *   `226668`\n",
       "6.  \n",
       "    *   `sign`\n",
       "    *   `1`\n",
       "    *   `1`\n",
       "    *   `203219`\n",
       "\n",
       "</details>\n",
       "<details><summary>17. corpus</summary>\n",
       "`Old Babylonian Letters 1900-1600: Cuneiform tablets `\n",
       "\n",
       "</details>\n",
       "<details><summary>18. css</summary>\n",
       "\n",
       "```\n",
       ".pnum {\n",
       "    font-family: sans-serif;\n",
       "    font-size: small;\n",
       "    font-weight: bold;\n",
       "    color: #444444;\n",
       "}\n",
       ".op {\n",
       "    padding:  0.5em 0.1em 0.1em 0.1em;\n",
       "    margin: 0.8em 0.1em 0.1em 0.1em;\n",
       "    font-family: monospace;\n",
       "    font-size: x-large;\n",
       "    font-weight: bold;\n",
       "}\n",
       ".period {\n",
       "    font-family: monospace;\n",
       "    font-size: medium;\n",
       "    font-weight: bold;\n",
       "    color: #0000bb;\n",
       "}\n",
       ".comment {\n",
       "    color: #7777dd;\n",
       "    font-family: monospace;\n",
       "    font-size: small;\n",
       "}\n",
       ".operator {\n",
       "    color: #ff77ff;\n",
       "    font-size: large;\n",
       "}\n",
       "/* LANGUAGE: superscript and subscript */\n",
       "\n",
       "/* cluster */\n",
       ".det {\n",
       "    vertical-align: super;\n",
       "}\n",
       "/* cluster */\n",
       ".langalt {\n",
       "    vertical-align: sub;\n",
       "}\n",
       "/* REDACTIONAL: line over or under  */\n",
       "\n",
       "/* flag */\n",
       ".collated {\n",
       "    font-weight: bold;\n",
       "    text-decoration: underline;\n",
       "}\n",
       "/* cluster */\n",
       ".excised {\n",
       "    color: #dd0000;\n",
       "    text-decoration: line-through;\n",
       "}\n",
       "/* cluster */\n",
       ".supplied {\n",
       "    color: #0000ff;\n",
       "    text-decoration: overline;\n",
       "}\n",
       "/* flag */\n",
       ".remarkable {\n",
       "    font-weight: bold;\n",
       "    text-decoration: overline;\n",
       "}\n",
       "\n",
       "/* UNSURE: italic*/\n",
       "\n",
       "/* cluster */\n",
       ".uncertain {\n",
       "    font-style: italic\n",
       "}\n",
       "/* flag */\n",
       ".question {\n",
       "    font-weight: bold;\n",
       "    font-style: italic\n",
       "}\n",
       "\n",
       "/* BROKEN: text-shadow */\n",
       "\n",
       "/* cluster */\n",
       ".missing {\n",
       "    color: #999999;\n",
       "    text-shadow: #bbbbbb 1px 1px;\n",
       "}\n",
       "/* flag */\n",
       ".damage {\n",
       "    font-weight: bold;\n",
       "    color: #999999;\n",
       "    text-shadow: #bbbbbb 1px 1px;\n",
       "}\n",
       ".empty {\n",
       "  color: #ff0000;\n",
       "}\n",
       "\n",
       "\n",
       "```\n",
       "\n",
       "\n",
       "</details>\n",
       "<details><summary>19. dataDisplay</summary>\n",
       "\n",
       "*   **`showVerseInTuple`**: `True`\n",
       "*   **`textFormats`**: \n",
       "    *   **`layout-orig-rich`**: \n",
       "        *   **`method`**: `layoutRich`\n",
       "        *   **`style`**: `trans`\n",
       "    *   **`layout-orig-unicode`**: \n",
       "        *   **`method`**: `layoutUnicode`\n",
       "        *   **`style`**: `orig`\n",
       "    *   **`text-orig-full`**: \n",
       "        *   **`style`**: `source`\n",
       "    *   **`text-orig-plain`**: \n",
       "        *   **`style`**: `trans`\n",
       "    *   **`text-orig-rich`**: \n",
       "        *   **`style`**: `trans`\n",
       "    *   **`text-orig-unicode`**: \n",
       "        *   **`style`**: `orig`\n",
       "\n",
       "</details>\n",
       "<details><summary>20. defaultClsOrig</summary>\n",
       "`txtu akk`\n",
       "\n",
       "</details>\n",
       "<details><summary>21. defaultFormat</summary>\n",
       "`text-orig-full`\n",
       "\n",
       "</details>\n",
       "<details><summary>22. direction</summary>\n",
       "`ltr`\n",
       "\n",
       "</details>\n",
       "<details><summary>23. docBase</summary>\n",
       "`https://github.com/Nino-cunei/oldbabylonian/blob/master/docs`\n",
       "\n",
       "</details>\n",
       "<details><summary>24. docExt</summary>\n",
       "`.md`\n",
       "\n",
       "</details>\n",
       "<details><summary>25. docPage</summary>\n",
       "`about`\n",
       "\n",
       "</details>\n",
       "<details><summary>26. docRoot</summary>\n",
       "`https://github.com`\n",
       "\n",
       "</details>\n",
       "<details><summary>27. docUrl</summary>\n",
       "`https://github.com/Nino-cunei/oldbabylonian/blob/master/docs/about.md`\n",
       "\n",
       "</details>\n",
       "<details><summary>28. docs</summary>\n",
       "\n",
       "*   **`charText`**: `mapping from readings to UNICODE`\n",
       "*   **`charUrl`**: `{docBase}/programs/mapReadings.ipynb`\n",
       "*   **`docPage`**: `about`\n",
       "*   **`featureBase`**: `{docBase}/transcription{docExt}`\n",
       "*   **`featurePage`**: *empty*\n",
       "\n",
       "</details>\n",
       "<details><summary>29. doi</summary>\n",
       "`10.5281/zenodo.2579207`\n",
       "\n",
       "</details>\n",
       "<details><summary>30. exampleSection</summary>\n",
       "`P509373 obverse:1`\n",
       "\n",
       "</details>\n",
       "<details><summary>31. exampleSectionHtml</summary>\n",
       "`<code>P509373 obverse:1</code>`\n",
       "\n",
       "</details>\n",
       "<details><summary>32. excludedFeatures</summary>\n",
       "set()\n",
       "\n",
       "</details>\n",
       "<details><summary>33. extension</summary>\n",
       "` akk`\n",
       "\n",
       "</details>\n",
       "<details><summary>34. featureBase</summary>\n",
       "`https://github.com/Nino-cunei/oldbabylonian/blob/master/docs/transcription.md`\n",
       "\n",
       "</details>\n",
       "<details><summary>35. featurePage</summary>\n",
       "*empty*\n",
       "\n",
       "</details>\n",
       "<details><summary>36. features</summary>\n",
       "\n",
       "*   **`cluster`**: \n",
       "    *   []\n",
       "    *   {}\n",
       "*   **`document`**: \n",
       "    *   []\n",
       "    *   {}\n",
       "*   **`face`**: \n",
       "    *   []\n",
       "    *   {}\n",
       "*   **`line`**: \n",
       "    *   \n",
       "        *   `remarks`\n",
       "        *   `translation@en`\n",
       "    *   {}\n",
       "*   **`sign`**: \n",
       "    *   \n",
       "        *   `collated`\n",
       "        *   `remarkable`\n",
       "        *   `question`\n",
       "        *   `damage`\n",
       "        *   `det`\n",
       "        *   `uncertain`\n",
       "        *   `missing`\n",
       "        *   `excised`\n",
       "        *   `supplied`\n",
       "        *   `langalt`\n",
       "        *   `comment`\n",
       "        *   `remarks`\n",
       "        *   `repeat`\n",
       "        *   `fraction`\n",
       "        *   `operator`\n",
       "        *   `grapheme`\n",
       "    *   {}\n",
       "*   **`word`**: \n",
       "    *   []\n",
       "    *   {}\n",
       "\n",
       "</details>\n",
       "<details><summary>37. featuresBare</summary>\n",
       "\n",
       "*   **`cluster`**: \n",
       "    *   []\n",
       "    *   {}\n",
       "*   **`document`**: \n",
       "    *   \n",
       "        *   `collection`\n",
       "        *   `volume`\n",
       "        *   `docnumber`\n",
       "        *   `docnote`\n",
       "    *   {}\n",
       "*   **`face`**: \n",
       "    *   \n",
       "        *   `object`\n",
       "    *   {}\n",
       "*   **`line`**: \n",
       "    *   []\n",
       "    *   {}\n",
       "*   **`sign`**: \n",
       "    *   []\n",
       "    *   {}\n",
       "*   **`word`**: \n",
       "    *   []\n",
       "    *   {}\n",
       "\n",
       "</details>\n",
       "<details><summary>38. formatCls</summary>\n",
       "\n",
       "*   **`layout-orig-rich`**: `txtt`\n",
       "*   **`layout-orig-unicode`**: `txtu akk`\n",
       "*   **`text-orig-full`**: `txto`\n",
       "*   **`text-orig-plain`**: `txtt`\n",
       "*   **`text-orig-rich`**: `txtt`\n",
       "*   **`text-orig-unicode`**: `txtu akk`\n",
       "\n",
       "</details>\n",
       "<details><summary>39. formatHtml</summary>\n",
       "\n",
       "1.  `layout-orig-rich`\n",
       "2.  `layout-orig-unicode`\n",
       "\n",
       "</details>\n",
       "<details><summary>40. formatMethod</summary>\n",
       "\n",
       "*   **`layout-orig-rich`**: `layoutRich`\n",
       "*   **`layout-orig-unicode`**: `layoutUnicode`\n",
       "\n",
       "</details>\n",
       "<details><summary>41. formatStyle</summary>\n",
       "\n",
       "*   **`normal`**: `txtn`\n",
       "*   **`orig`**: `txtu akk`\n",
       "*   **`phono`**: `txtp`\n",
       "*   **`source`**: `txto`\n",
       "*   **`trans`**: `txtt`\n",
       "\n",
       "</details>\n",
       "<details><summary>42. graphicsRelative</summary>\n",
       "None\n",
       "\n",
       "</details>\n",
       "<details><summary>43. hasGraphics</summary>\n",
       "set()\n",
       "\n",
       "</details>\n",
       "<details><summary>44. interfaceDefaults</summary>\n",
       "\n",
       "*   **`lineNumbers`**: False\n",
       "*   **`prettyTypes`**: `True`\n",
       "*   **`queryFeatures`**: `True`\n",
       "*   **`showChunks`**: None\n",
       "*   **`showGraphics`**: None\n",
       "*   **`standardFeatures`**: False\n",
       "*   **`withNodes`**: False\n",
       "*   **`withTypes`**: False\n",
       "\n",
       "</details>\n",
       "<details><summary>45. isChunkOf</summary>\n",
       "{}\n",
       "\n",
       "</details>\n",
       "<details><summary>46. isCompatible</summary>\n",
       "`True`\n",
       "\n",
       "</details>\n",
       "<details><summary>47. labels</summary>\n",
       "\n",
       "*   **`cluster`**: \n",
       "    *   `{type}`\n",
       "    *   \n",
       "        *   `type`\n",
       "*   **`document`**: \n",
       "    *   `True`\n",
       "    *   ()\n",
       "*   **`face`**: \n",
       "    *   `True`\n",
       "    *   ()\n",
       "*   **`line`**: \n",
       "    *   *empty*\n",
       "    *   ()\n",
       "*   **`sign`**: \n",
       "    *   `True`\n",
       "    *   ()\n",
       "*   **`word`**: \n",
       "    *   `True`\n",
       "    *   ()\n",
       "\n",
       "</details>\n",
       "<details><summary>48. language</summary>\n",
       "`Akkadian`\n",
       "\n",
       "</details>\n",
       "<details><summary>49. levelCls</summary>\n",
       "\n",
       "*   **`cluster`**: \n",
       "    *   **`children`**: `children hor wrap`\n",
       "    *   **`container`**: `contnr c1`\n",
       "    *   **`label`**: `lbl c1`\n",
       "*   **`document`**: \n",
       "    *   **`children`**: `children hor wrap`\n",
       "    *   **`container`**: `contnr c4`\n",
       "    *   **`label`**: `lbl c4`\n",
       "*   **`face`**: \n",
       "    *   **`children`**: `children hor wrap`\n",
       "    *   **`container`**: `contnr c4`\n",
       "    *   **`label`**: `lbl c4`\n",
       "*   **`line`**: \n",
       "    *   **`children`**: `children hor wrap`\n",
       "    *   **`container`**: `contnr c3`\n",
       "    *   **`label`**: `lbl c3`\n",
       "*   **`sign`**: \n",
       "    *   **`children`**: *empty*\n",
       "    *   **`container`**: `contnr c0`\n",
       "    *   **`label`**: `lbl c0`\n",
       "*   **`word`**: \n",
       "    *   **`children`**: `children hor `\n",
       "    *   **`container`**: `contnr c2`\n",
       "    *   **`label`**: `lbl c2`\n",
       "\n",
       "</details>\n",
       "<details><summary>50. levels</summary>\n",
       "\n",
       "*   **`cluster`**: \n",
       "    *   **`flow`**: `hor`\n",
       "    *   **`level`**: `1`\n",
       "    *   **`stretch`**: False\n",
       "    *   **`wrap`**: `True`\n",
       "*   **`document`**: \n",
       "    *   **`flow`**: `hor`\n",
       "    *   **`level`**: `4`\n",
       "    *   **`stretch`**: `True`\n",
       "    *   **`wrap`**: `True`\n",
       "*   **`face`**: \n",
       "    *   **`flow`**: `hor`\n",
       "    *   **`level`**: `4`\n",
       "    *   **`stretch`**: `True`\n",
       "    *   **`wrap`**: `True`\n",
       "*   **`line`**: \n",
       "    *   **`flow`**: `hor`\n",
       "    *   **`level`**: `3`\n",
       "    *   **`stretch`**: `True`\n",
       "    *   **`wrap`**: `True`\n",
       "*   **`sign`**: \n",
       "    *   **`flow`**: `ver`\n",
       "    *   **`level`**: 0\n",
       "    *   **`stretch`**: False\n",
       "    *   **`wrap`**: False\n",
       "*   **`word`**: \n",
       "    *   **`flow`**: `hor`\n",
       "    *   **`level`**: `2`\n",
       "    *   **`stretch`**: `True`\n",
       "    *   **`wrap`**: False\n",
       "\n",
       "</details>\n",
       "<details><summary>51. lexMap</summary>\n",
       "{}\n",
       "\n",
       "</details>\n",
       "<details><summary>52. lexTypes</summary>\n",
       "set()\n",
       "\n",
       "</details>\n",
       "<details><summary>53. lineNumberFeature</summary>\n",
       "\n",
       "*   **`document`**: `srcLnNum`\n",
       "*   **`face`**: `srcLnNum`\n",
       "*   **`line`**: `srcLnNum`\n",
       "\n",
       "</details>\n",
       "<details><summary>54. local</summary>\n",
       "`clone`\n",
       "\n",
       "</details>\n",
       "<details><summary>55. localDir</summary>\n",
       "`/Users/dirk/github/Nino-cunei/oldbabylonian/_temp`\n",
       "\n",
       "</details>\n",
       "<details><summary>56. moduleSpecs</summary>\n",
       "()\n",
       "\n",
       "</details>\n",
       "<details><summary>57. noChildren</summary>\n",
       "set()\n",
       "\n",
       "</details>\n",
       "<details><summary>58. noDescendTypes</summary>\n",
       "set()\n",
       "\n",
       "</details>\n",
       "<details><summary>59. noneValues</summary>\n",
       "\n",
       "1.  None\n",
       "\n",
       "</details>\n",
       "<details><summary>60. org</summary>\n",
       "`Nino-cunei`\n",
       "\n",
       "</details>\n",
       "<details><summary>61. plainCustom</summary>\n",
       "{}\n",
       "\n",
       "</details>\n",
       "<details><summary>62. prettyCustom</summary>\n",
       "{}\n",
       "\n",
       "</details>\n",
       "<details><summary>63. provenanceSpec</summary>\n",
       "\n",
       "*   **`corpus`**: `Old Babylonian Letters 1900-1600: Cuneiform tablets `\n",
       "*   **`doi`**: `10.5281/zenodo.2579207`\n",
       "*   **`org`**: `Nino-cunei`\n",
       "*   **`repo`**: `oldbabylonian`\n",
       "*   **`version`**: `1.0.5`\n",
       "*   **`webBase`**: `https://cdli.ucla.edu`\n",
       "*   **`webHint`**: `Show this document on CDLI`\n",
       "*   **`webUrl`**: `/search/search_results.php?SearchMode=Text&ObjectID=<1>`\n",
       "\n",
       "</details>\n",
       "<details><summary>64. relative</summary>\n",
       "`tf`\n",
       "\n",
       "</details>\n",
       "<details><summary>65. release</summary>\n",
       "None\n",
       "\n",
       "</details>\n",
       "<details><summary>66. repo</summary>\n",
       "`oldbabylonian`\n",
       "\n",
       "</details>\n",
       "<details><summary>67. sectionSep1</summary>\n",
       "` `\n",
       "\n",
       "</details>\n",
       "<details><summary>68. sectionSep2</summary>\n",
       "`:`\n",
       "\n",
       "</details>\n",
       "<details><summary>69. showVerseInTuple</summary>\n",
       "`True`\n",
       "\n",
       "</details>\n",
       "<details><summary>70. styles</summary>\n",
       "{}\n",
       "\n",
       "</details>\n",
       "<details><summary>71. templates</summary>\n",
       "\n",
       "*   **`cluster`**: \n",
       "    *   *empty*\n",
       "    *   ()\n",
       "*   **`document`**: \n",
       "    *   `True`\n",
       "    *   ()\n",
       "*   **`face`**: \n",
       "    *   `True`\n",
       "    *   ()\n",
       "*   **`line`**: \n",
       "    *   *empty*\n",
       "    *   ()\n",
       "*   **`sign`**: \n",
       "    *   `True`\n",
       "    *   ()\n",
       "*   **`word`**: \n",
       "    *   *empty*\n",
       "    *   ()\n",
       "\n",
       "</details>\n",
       "<details><summary>72. tfDoc</summary>\n",
       "`https://annotation.github.io/text-fabric`\n",
       "\n",
       "</details>\n",
       "<details><summary>73. transform</summary>\n",
       "{}\n",
       "\n",
       "</details>\n",
       "<details><summary>74. typeDisplay</summary>\n",
       "\n",
       "*   **`cluster`**: \n",
       "    *   **`children`**: \n",
       "        *   `sign`\n",
       "    *   **`label`**: `{type}`\n",
       "    *   **`stretch`**: False\n",
       "*   **`document`**: \n",
       "    *   **`featuresBare`**: `collection volume docnumber docnote`\n",
       "    *   **`lineNumber`**: `srcLnNum`\n",
       "*   **`face`**: \n",
       "    *   **`featuresBare`**: `object`\n",
       "    *   **`lineNumber`**: `srcLnNum`\n",
       "*   **`line`**: \n",
       "    *   **`children`**: \n",
       "        *   `cluster`\n",
       "        *   `word`\n",
       "    *   **`features`**: `remarks translation@en`\n",
       "    *   **`lineNumber`**: `srcLnNum`\n",
       "*   **`sign`**: \n",
       "    *   **`features`**: `collated remarkable question damage det uncertain missing excised supplied langalt comment remarks repeat fraction operator grapheme`\n",
       "*   **`word`**: \n",
       "    *   **`base`**: `True`\n",
       "    *   **`children`**: \n",
       "        *   `cluster`\n",
       "        *   `sign`\n",
       "    *   **`label`**: `True`\n",
       "    *   **`wrap`**: False\n",
       "\n",
       "</details>\n",
       "<details><summary>75. urlGh</summary>\n",
       "`https://github.com`\n",
       "\n",
       "</details>\n",
       "<details><summary>76. urlNb</summary>\n",
       "`https://nbviewer.jupyter.org/github`\n",
       "\n",
       "</details>\n",
       "<details><summary>77. verseTypes</summary>\n",
       "\n",
       "1.  `line`\n",
       "\n",
       "</details>\n",
       "<details><summary>78. version</summary>\n",
       "`1.0.5`\n",
       "\n",
       "</details>\n",
       "<details><summary>79. webBase</summary>\n",
       "`https://cdli.ucla.edu`\n",
       "\n",
       "</details>\n",
       "<details><summary>80. webHint</summary>\n",
       "`Show this document on CDLI`\n",
       "\n",
       "</details>\n",
       "<details><summary>81. webLang</summary>\n",
       "None\n",
       "\n",
       "</details>\n",
       "<details><summary>82. webLexId</summary>\n",
       "None\n",
       "\n",
       "</details>\n",
       "<details><summary>83. webUrl</summary>\n",
       "`/search/search_results.php?SearchMode=Text&ObjectID=<1>`\n",
       "\n",
       "</details>\n",
       "<details><summary>84. webUrlLex</summary>\n",
       "None\n",
       "\n",
       "</details>\n",
       "<details><summary>85. writing</summary>\n",
       "`akk`\n",
       "\n",
       "</details>\n",
       "<details><summary>86. zip</summary>\n",
       "\n",
       "1.  `oldbabylonian`\n",
       "\n",
       "</details>\n",
       "</details>\n"
      ],
      "text/plain": [
       "<IPython.core.display.Markdown object>"
      ]
     },
     "metadata": {},
     "output_type": "display_data"
    }
   ],
   "source": [
    "A.showContext()"
   ]
  }
 ],
 "metadata": {
  "kernelspec": {
   "display_name": "Python 3",
   "language": "python",
   "name": "python3"
  },
  "language_info": {
   "codemirror_mode": {
    "name": "ipython",
    "version": 3
   },
   "file_extension": ".py",
   "mimetype": "text/x-python",
   "name": "python",
   "nbconvert_exporter": "python",
   "pygments_lexer": "ipython3",
   "version": "3.7.7"
  }
 },
 "nbformat": 4,
 "nbformat_minor": 4
}
