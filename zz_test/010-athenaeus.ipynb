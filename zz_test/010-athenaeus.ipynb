{
 "cells": [
  {
   "cell_type": "code",
   "execution_count": 1,
   "metadata": {},
   "outputs": [],
   "source": [
    "%load_ext autoreload\n",
    "%autoreload 2"
   ]
  },
  {
   "cell_type": "code",
   "execution_count": 2,
   "metadata": {},
   "outputs": [],
   "source": [
    "from tf.app import use\n",
    "from fixture import typeShow"
   ]
  },
  {
   "cell_type": "markdown",
   "metadata": {},
   "source": [
    "# Athenaeus (without app)"
   ]
  },
  {
   "cell_type": "code",
   "execution_count": 17,
   "metadata": {},
   "outputs": [
    {
     "name": "stdout",
     "output_type": "stream",
     "text": [
      "No app configuration found.\n",
      "Text-Fabric will be loaded, but no app specific code will be loaded\n",
      "and app config may not be optimal.\n",
      "The corpus data may not be found.\n"
     ]
    },
    {
     "data": {
      "text/html": [
       "<b>Documentation:</b>     <a target=\"_blank\" href=\"https://annotation.github.io/text-fabric/cheatsheet.html\" title=\"text-fabric-api\">Text-Fabric API 8.3.0</a> v <details open><summary><b>Loaded features</b>:</summary>\n",
       "</details>"
      ],
      "text/plain": [
       "<IPython.core.display.HTML object>"
      ]
     },
     "metadata": {},
     "output_type": "display_data"
    },
    {
     "data": {
      "text/html": [
       "<style>tr.tf, td.tf, th.tf { text-align: left ! important;}@font-face {\n",
       "  font-family: \"Ezra SIL\";\n",
       "  src: local('Ezra SIL'), local('EzraSIL'),\n",
       "    url('/server/static/fonts/SILEOT.woff') format('woff'),\n",
       "    url('https://github.com/annotation/text-fabric/blob/master/tf/server/static/fonts/SILEOT.woff?raw=true') format('woff');\n",
       "}\n",
       "\n",
       "@font-face {\n",
       "  font-family: \"SBL Hebrew\";\n",
       "  src: local('SBL Hebrew'), local('SBLHebrew'),\n",
       "    url('/server/static/fonts/SBL_Hbrw.woff') format('woff'),\n",
       "    url('https://github.com/annotation/text-fabric/blob/master/tf/server/static/fonts/SBL_Hbrw.woff?raw=true') format('woff');\n",
       "}\n",
       "\n",
       "@font-face {\n",
       "  font-family: \"Estrangelo Edessa\";\n",
       "  src: local('Estrangelo Edessa'), local('EstrangeloEdessa');\n",
       "    url('/server/static/fonts/SyrCOMEdessa.woff') format('woff'),\n",
       "    url('https://github.com/annotation/text-fabric/blob/master/tf/server/static/fonts/SyrCOMEdessa.woff?raw=true') format('woff');\n",
       "}\n",
       "\n",
       "@font-face {\n",
       "  font-family: AmiriQuran;\n",
       "  font-style: normal;\n",
       "  font-weight: 400;\n",
       "  src: local('Amiri Quran'), local('AmiriQuran'),\n",
       "    url('/server/static/fonts/AmiriQuran.woff') format('woff'),\n",
       "    url('https://github.com/annotation/text-fabric/blob/master/tf/server/static/fonts/AmiriQuran.woff?raw=true') format('woff');\n",
       "}\n",
       "\n",
       "@font-face {\n",
       "  font-family: AmiriQuranColored;\n",
       "  font-style: normal;\n",
       "  font-weight: 400;\n",
       "  src: local('Amiri Quran Colored'), local('AmiriQuranColored'),\n",
       "    url('/server/static/fonts/AmiriQuranColored.woff') format('woff'),\n",
       "    url('https://github.com/annotation/text-fabric/blob/master/tf/server/static/fonts/AmiriQuranColored.woff?raw=true') format('woff');\n",
       "}\n",
       "\n",
       "@font-face {\n",
       "  font-family: \"Santakku\";\n",
       "  src: local('Santakku'),\n",
       "    url('/server/static/fonts/Santakku.woff') format('woff'),\n",
       "    url('https://github.com/annotation/text-fabric/blob/master/tf/server/static/fonts/Santakku.woff?raw=true') format('woff');\n",
       "}\n",
       "\n",
       "@font-face {\n",
       "  font-family: \"SantakkuM\";\n",
       "  src: local('SantakkuM'),\n",
       "    url('/server/static/fonts/SantakkuM.woff') format('woff'),\n",
       "    url('https://github.com/annotation/text-fabric/blob/master/tf/server/static/fonts/SantakkuM.woff?raw=true') format('woff');\n",
       "}\n",
       "/* bypassing some classical notebook settings */\n",
       "div#notebook {\n",
       "  line-height: unset;\n",
       "}\n",
       "/* neutral text */\n",
       ".txtn,.txtn a:visited,.txtn a:link {\n",
       "    font-family: sans-serif;\n",
       "    font-size: medium;\n",
       "    direction: ltr;\n",
       "    text-decoration: none;\n",
       "    color: var(--text-color);\n",
       "}\n",
       "/* transcription text */\n",
       ".txtt,.txtt a:visited,.txtt a:link {\n",
       "    font-family: monospace;\n",
       "    font-size: medium;\n",
       "    direction: ltr;\n",
       "    text-decoration: none;\n",
       "    color: var(--text-color);\n",
       "}\n",
       "/* source text */\n",
       ".txto,.txto a:visited,.txto a:link {\n",
       "    font-family: serif;\n",
       "    font-size: medium;\n",
       "    direction: ltr;\n",
       "    text-decoration: none;\n",
       "    color: var(--text-color);\n",
       "}\n",
       "/* phonetic text */\n",
       ".txtp,.txtp a:visited,.txtp a:link {\n",
       "    font-family: Gentium, sans-serif;\n",
       "    font-size: large;\n",
       "    direction: ltr;\n",
       "    text-decoration: none;\n",
       "    color: var(--text-color);\n",
       "}\n",
       "/* original script text */\n",
       ".txtu,.txtu a:visited,.txtu a:link {\n",
       "    font-family: Gentium, sans-serif;\n",
       "    font-size: large;\n",
       "    text-decoration: none;\n",
       "    color: var(--text-color);\n",
       "}\n",
       "/* hebrew */\n",
       ".txtu.hbo,.lex.hbo {\n",
       "    font-family: \"Ezra SIL\", \"SBL Hebrew\", sans-serif;\n",
       "    font-size: x-large;\n",
       "    direction: rtl ! important;\n",
       "    unicode-bidi: embed;\n",
       "}\n",
       "/* syriac */\n",
       ".txtu.syc,.lex.syc {\n",
       "    font-family: \"Estrangelo Edessa\", sans-serif;\n",
       "    font-size: large;\n",
       "    direction: rtl ! important;\n",
       "    unicode-bidi: embed;\n",
       "}\n",
       "/* neo aramaic */\n",
       ".txtu.cld,.lex.cld {\n",
       "    font-family: \"CharisSIL-R\", sans-serif;\n",
       "    font-size: medium;\n",
       "    direction: ltr ! important;\n",
       "    unicode-bidi: embed;\n",
       "}\n",
       "/* standard arabic */\n",
       ".txtu.ara,.lex.ara {\n",
       "    font-family: \"AmiriQuran\", sans-serif;\n",
       "    font-size: large;\n",
       "    direction: rtl ! important;\n",
       "    unicode-bidi: embed;\n",
       "}\n",
       "/* cuneiform */\n",
       ".txtu.akk,.lex.akk {\n",
       "    font-family: Santakku, sans-serif;\n",
       "    font-size: x-large;\n",
       "    direction: ltr ! important;\n",
       "    unicode-bidi: embed;\n",
       "}\n",
       "/* greek */\n",
       ".txtu.grc,.lex.grc a:link {\n",
       "    font-family: Gentium, sans-serif;\n",
       "    font-size: medium;\n",
       "    direction: ltr ! important;\n",
       "    unicode-bidi: embed;\n",
       "}\n",
       "a:hover {\n",
       "    text-decoration: underline | important;\n",
       "    color: #0000ff | important;\n",
       "}\n",
       ".ltr {\n",
       "    direction: ltr ! important;\n",
       "}\n",
       ".rtl {\n",
       "    direction: rtl ! important;\n",
       "}\n",
       "span.plain {\n",
       "    display: inline-block;\n",
       "    white-space: pre-wrap;\n",
       "    text-align: start;\n",
       "}\n",
       ".gr,.gl {\n",
       "    white-space: pre-wrap;\n",
       "    border-color: var(--border-color-gap);\n",
       "    border-width: var(--border-width-gap);\n",
       "    border-top-style: none;\n",
       "    border-bottom-style: none;\n",
       "}\n",
       ".gr {\n",
       "    border-right-style: solid;\n",
       "    border-left-style: dashed;\n",
       "}\n",
       ".gl {\n",
       "    border-right-style: dashed;\n",
       "    border-left-style: solid;\n",
       "}\n",
       ".features {\n",
       "    font-family: monospace;\n",
       "    font-size: medium;\n",
       "    font-weight: bold;\n",
       "    color: var(--features);\n",
       "    display: flex;\n",
       "    flex-flow: column nowrap;\n",
       "    justify-content: flex-start;\n",
       "    align-items: flex-start;\n",
       "    align-content: flex-start;\n",
       "    padding: 0.1rem;\n",
       "    margin: 0.1rem;\n",
       "    direction: ltr;\n",
       "    border: var(--meta-width) solid var(--meta-color);\n",
       "    border-radius: var(--meta-width);\n",
       "}\n",
       ".features div,.features span {\n",
       "    padding: 0;\n",
       "    margin: -0.1rem 0;\n",
       "}\n",
       ".features .f {\n",
       "    font-family: sans-serif;\n",
       "    font-size: small;\n",
       "    font-weight: normal;\n",
       "    color: #5555bb;\n",
       "}\n",
       ".features .xft {\n",
       "  color: #000000;\n",
       "  background-color: #eeeeee;\n",
       "  font-size: medium;\n",
       "  margin: 0.1rem 0rem;\n",
       "}\n",
       ".features .xft .f {\n",
       "  color: #000000;\n",
       "  background-color: #eeeeee;\n",
       "  font-size: small;\n",
       "  font-weight: normal;\n",
       "}\n",
       ".section {\n",
       "    font-family: sans-serif;\n",
       "    font-size: small;\n",
       "    font-weight: bold;\n",
       "    color: var(--section);\n",
       "}\n",
       ".structure {\n",
       "    font-family: sans-serif;\n",
       "    font-size: small;\n",
       "    font-weight: bold;\n",
       "    color: var(--structure);\n",
       "}\n",
       ".comments {\n",
       "    display: flex;\n",
       "    justify-content: flex-start;\n",
       "    align-items: flex-start;\n",
       "    align-content: flex-start;\n",
       "    flex-flow: column nowrap;\n",
       "}\n",
       ".nd {\n",
       "    font-family: sans-serif;\n",
       "    font-size: small;\n",
       "    color: var(--node);\n",
       "    vertical-align: super;\n",
       "}\n",
       ".lex {\n",
       "  color: var(--lex-color);;\n",
       "}\n",
       ".children,.children.ltr {\n",
       "    display: flex;\n",
       "    border: 0;\n",
       "    background-color: #ffffff;\n",
       "    justify-content: flex-start;\n",
       "    align-items: flex-start;\n",
       "    align-content: flex-start;\n",
       "}\n",
       ".children.stretch {\n",
       "    align-items: stretch;\n",
       "}\n",
       ".children.hor {\n",
       "    flex-flow: row nowrap;\n",
       "}\n",
       ".children.hor.wrap {\n",
       "    flex-flow: row wrap;\n",
       "}\n",
       ".children.ver {\n",
       "    flex-flow: column nowrap;\n",
       "}\n",
       ".children.ver.wrap {\n",
       "    flex-flow: column wrap;\n",
       "}\n",
       ".contnr {\n",
       "    width: fit-content;\n",
       "    display: flex;\n",
       "    justify-content: flex-start;\n",
       "    align-items: flex-start;\n",
       "    align-content: flex-start;\n",
       "    flex-flow: column nowrap;\n",
       "    background: #ffffff none repeat scroll 0 0;\n",
       "    padding:  0.5rem 0.1rem 0.1rem 0.1rem;\n",
       "    margin: 0.8rem 0.1rem 0.1rem 0.1rem;\n",
       "    border-style: solid;\n",
       "    font-size: small;\n",
       "}\n",
       ".contnr.trm {\n",
       "    background-attachment: local;\n",
       "}\n",
       ".contnr.cnul {\n",
       "    padding:  0;\n",
       "    margin: 0;\n",
       "    border-style: solid;\n",
       "    font-size: xx-small;\n",
       "}\n",
       ".contnr.cnul,.lbl.cnul {\n",
       "    border-color: var(--border-color-nul);\n",
       "    border-width: var(--border-width-nul);\n",
       "    border-radius: var(--border-width-nul);\n",
       "}\n",
       ".contnr.c0,.lbl.c0 {\n",
       "    border-color: var(--border-color0);\n",
       "    border-width: var(--border-width0);\n",
       "    border-radius: var(--border-width0);\n",
       "}\n",
       ".contnr.c1,.lbl.c1 {\n",
       "    border-color: var(--border-color1);\n",
       "    border-width: var(--border-width1);\n",
       "    border-radius: var(--border-width1);\n",
       "}\n",
       ".contnr.c2,.lbl.c2 {\n",
       "    border-color: var(--border-color2);\n",
       "    border-width: var(--border-width2);\n",
       "    border-radius: var(--border-width2);\n",
       "}\n",
       ".contnr.c3,.lbl.c3 {\n",
       "    border-color: var(--border-color3);\n",
       "    border-width: var(--border-width3);\n",
       "    border-radius: var(--border-width3);\n",
       "}\n",
       ".contnr.c4,.lbl.c4 {\n",
       "    border-color: var(--border-color4);\n",
       "    border-width: var(--border-width4);\n",
       "    border-radius: var(--border-width4);\n",
       "}\n",
       ".plain.l,.contnr.l,.contnr.l>.lbl {\n",
       "    border-left-style: dotted\n",
       "}\n",
       ".plain.r,.contnr.r,.contnr.r>.lbl {\n",
       "    border-right-style: dotted\n",
       "}\n",
       ".plain.lno,.contnr.lno,.contnr.lno>.lbl {\n",
       "    border-left-style: none\n",
       "}\n",
       ".plain.rno,.contnr.rno,.contnr.rno>.lbl {\n",
       "    border-right-style: none\n",
       "}\n",
       ".plain.l {\n",
       "    padding-left: 0.2rem;\n",
       "    margin-left: 0.1rem;\n",
       "    border-width: var(--border-width-plain);\n",
       "}\n",
       ".plain.r {\n",
       "    padding-right: 0.2rem;\n",
       "    margin-right: 0.1rem;\n",
       "    border-width: var(--border-width-plain);\n",
       "}\n",
       ".lbl {\n",
       "    font-family: monospace;\n",
       "    margin-top: -1.2rem;\n",
       "    margin-left: 1rem;\n",
       "    background: #ffffff none repeat scroll 0 0;\n",
       "    padding: 0 0.3rem;\n",
       "    border-style: solid;\n",
       "    display: block;\n",
       "    color: var(--label)\n",
       "}\n",
       ".lbl.trm {\n",
       "    background-attachment: local;\n",
       "    margin-top: 0.1rem;\n",
       "    margin-left: 0.1rem;\n",
       "    padding: 0.1rem 0.1rem;\n",
       "    border-style: none;\n",
       "}\n",
       ".lbl.cnul {\n",
       "    font-size: xx-small;\n",
       "}\n",
       ".lbl.c0 {\n",
       "    font-size: small;\n",
       "}\n",
       ".lbl.c1 {\n",
       "    font-size: small;\n",
       "}\n",
       ".lbl.c2 {\n",
       "    font-size: medium;\n",
       "}\n",
       ".lbl.c3 {\n",
       "    font-size: medium;\n",
       "}\n",
       ".lbl.c4 {\n",
       "    font-size: large;\n",
       "}\n",
       ".occs {\n",
       "    font-size: small;\n",
       "}\n",
       "\n",
       "/* PROVENANCE */\n",
       "\n",
       "div.prov {\n",
       "\tmargin: 2rem;\n",
       "\tpadding: 1rem;\n",
       "\tborder: 0.1rem solid var(--fog-rim);\n",
       "}\n",
       "div.pline {\n",
       "\tdisplay: flex;\n",
       "\tflex-flow: row nowrap;\n",
       "\tjustify-content: stretch;\n",
       "\talign-items: baseline;\n",
       "}\n",
       "div.p2line {\n",
       "\tmargin-left: 2em;\n",
       "\tdisplay: flex;\n",
       "\tflex-flow: row nowrap;\n",
       "\tjustify-content: stretch;\n",
       "\talign-items: baseline;\n",
       "}\n",
       "div.psline {\n",
       "\tdisplay: flex;\n",
       "\tflex-flow: row nowrap;\n",
       "\tjustify-content: stretch;\n",
       "\talign-items: baseline;\n",
       "\tbackground-color: var(--gold-mist-back);\n",
       "}\n",
       "div.pname {\n",
       "\tflex: 0 0 5rem;\n",
       "\tfont-weight: bold;\n",
       "}\n",
       "div.pval {\n",
       "    flex: 1 1 auto;\n",
       "}\n",
       "\n",
       ":root {\n",
       "\t--node:               hsla(120, 100%,  20%, 1.0  );\n",
       "\t--label:              hsla(  0, 100%,  20%, 1.0  );\n",
       "\t--section:            hsla(  0, 100%,  25%, 1.0  );\n",
       "\t--structure:          hsla(120, 100%,  25%, 1.0  );\n",
       "\t--features:           hsla(  0,   0%,  30%, 1.0  );\n",
       "  --text-color:         hsla( 60,  80%,  10%, 1.0  );\n",
       "  --lex-color:          hsla(220,  90%,  60%, 1.0  );\n",
       "  --meta-color:         hsla(  0,   0%,  90%, 0.7  );\n",
       "  --meta-width:         0.15rem;\n",
       "  --border-color-nul:   hsla(  0,   0%,  90%, 0.5  );\n",
       "  --border-color-gap:   hsla(  0,  50%,  70%, 1.0  );\n",
       "  --border-color0:      hsla(  0,   0%,  90%, 0.9  );\n",
       "  --border-color1:      hsla(  0,   0%,  80%, 0.9  );\n",
       "  --border-color2:      hsla(  0,   0%,  70%, 0.9  );\n",
       "  --border-color3:      hsla(  0,   0%,  80%, 0.8  );\n",
       "  --border-color4:      hsla(  0,   0%,  60%, 0.9  );\n",
       "  --border-width-nul:   0.1rem;\n",
       "  --border-width-gap:   0.1rem;\n",
       "  --border-width0:      0.1rem;\n",
       "  --border-width1:      0.15rem;\n",
       "  --border-width2:      0.2rem;\n",
       "  --border-width3:      0.3rem;\n",
       "  --border-width4:      0.25rem;\n",
       "  --border-width-plain: 0.1rem;\n",
       "}\n",
       ".hl {\n",
       "  background-color: var(--hl-strong);\n",
       "}\n",
       "span.hl {\n",
       "\tbackground-color: var(--hl-strong);\n",
       "\tborder-width: 0;\n",
       "\tborder-radius: 0.1rem;\n",
       "\tborder-style: solid;\n",
       "}\n",
       "div.contnr.hl,div.lbl.hl {\n",
       "  background-color: var(--hl-strong);\n",
       "}\n",
       "div.contnr.hl {\n",
       "  border-color: var(--hl-rim) ! important;\n",
       "\tborder-width: 0.2rem ! important;\n",
       "}\n",
       "\n",
       "span.hlbx {\n",
       "\tborder-color: var(--hl-rim);\n",
       "\tborder-width: 0.2rem;\n",
       "\tborder-style: solid;\n",
       "\tborder-radius: 0.3rem;\n",
       "  padding: 0.2rem;\n",
       "  margin: 0.2rem;\n",
       "}\n",
       "\n",
       "span.plain {\n",
       "  display: inline-block;\n",
       "  white-space: pre-wrap;\n",
       "}\n",
       "\n",
       ":root {\n",
       "\t--hl-strong:        hsla( 60, 100%,  70%, 0.9  );\n",
       "\t--hl-rim:           hsla( 55,  80%,  50%, 1.0  );\n",
       "}\n",
       "</style>"
      ],
      "text/plain": [
       "<IPython.core.display.HTML object>"
      ]
     },
     "metadata": {},
     "output_type": "display_data"
    },
    {
     "data": {
      "text/html": [
       "<div><a target=\"_blank\" href=\"https://annotation.github.io/text-fabric/cheatsheet.html\" title=\"doc\">names N F E L T S C TF directly usable</a></div>"
      ],
      "text/plain": [
       "<IPython.core.display.HTML object>"
      ]
     },
     "metadata": {},
     "output_type": "display_data"
    }
   ],
   "source": [
    "A = use('~/github/pthu/athenaeus/Athenaeus/Deipnosophistae/tf/1.1', hoist=globals())"
   ]
  },
  {
   "cell_type": "code",
   "execution_count": 6,
   "metadata": {},
   "outputs": [
    {
     "data": {
      "text/markdown": [
       "<details ><summary><b>1.1</b> <i>app context</i></summary>\n",
       "\n",
       "<details ><summary>1. afterChild</summary>\n",
       "\n",
       "{}\n",
       "\n",
       "</details>\n",
       "<details ><summary>2. allowedBaseTypes</summary>\n",
       "\n",
       "\n",
       "1.  `_book`\n",
       "2.  `head`\n",
       "3.  `hi`\n",
       "4.  `cit`\n",
       "5.  `num`\n",
       "6.  `add`\n",
       "7.  `pb`\n",
       "8.  `p`\n",
       "9.  `quote`\n",
       "10. `bibl`\n",
       "11. `l`\n",
       "\n",
       "</details>\n",
       "<details ><summary>3. appName</summary>\n",
       "\n",
       "`1.1`\n",
       "\n",
       "</details>\n",
       "<details ><summary>4. appPath</summary>\n",
       "\n",
       "`/Users/dirk/github/pthu/athenaeus/Athenaeus/Deipnosophistae/tf`\n",
       "\n",
       "</details>\n",
       "<details ><summary>5. baseTypes</summary>\n",
       "\n",
       "\n",
       "1.  `word`\n",
       "\n",
       "</details>\n",
       "<details ><summary>6. browseContentPretty</summary>\n",
       "\n",
       "False\n",
       "\n",
       "</details>\n",
       "<details ><summary>7. browseNavLevel</summary>\n",
       "\n",
       "`2`\n",
       "\n",
       "</details>\n",
       "<details ><summary>8. charText</summary>\n",
       "\n",
       "`How TF features represent text`\n",
       "\n",
       "</details>\n",
       "<details ><summary>9. charUrl</summary>\n",
       "\n",
       "`https://annotation.github.io/text-fabric/writing/.html`\n",
       "\n",
       "</details>\n",
       "<details ><summary>10. childType</summary>\n",
       "\n",
       "\n",
       "*   **`_book`**: \n",
       "    *   `head`\n",
       "*   **`_sentence`**: \n",
       "    *   `word`\n",
       "*   **`add`**: \n",
       "    *   `chapter`\n",
       "*   **`bibl`**: \n",
       "    *   `l`\n",
       "*   **`book`**: \n",
       "    *   `head`\n",
       "*   **`chapter`**: \n",
       "    *   `book`\n",
       "*   **`cit`**: \n",
       "    *   `num`\n",
       "*   **`head`**: \n",
       "    *   `book`\n",
       "*   **`hi`**: \n",
       "    *   `cit`\n",
       "*   **`l`**: \n",
       "    *   `_sentence`\n",
       "    *   `word`\n",
       "*   **`num`**: \n",
       "    *   `add`\n",
       "*   **`p`**: \n",
       "    *   `quote`\n",
       "*   **`pb`**: \n",
       "    *   `p`\n",
       "*   **`quote`**: \n",
       "    *   `bibl`\n",
       "\n",
       "</details>\n",
       "<details ><summary>11. commit</summary>\n",
       "\n",
       "None\n",
       "\n",
       "</details>\n",
       "<details ><summary>12. condenseType</summary>\n",
       "\n",
       "`_sentence`\n",
       "\n",
       "</details>\n",
       "<details ><summary>13. condenseTypes</summary>\n",
       "\n",
       "\n",
       "1.  \n",
       "    *   `_book`\n",
       "    *   `265146.0`\n",
       "    *   `265147`\n",
       "    *   `265147`\n",
       "2.  \n",
       "    *   `head`\n",
       "    *   `265146.0`\n",
       "    *   `287484`\n",
       "    *   `287484`\n",
       "3.  \n",
       "    *   `book`\n",
       "    *   `17676.4`\n",
       "    *   `285974`\n",
       "    *   `285988`\n",
       "4.  \n",
       "    *   `hi`\n",
       "    *   `3114.9358974358975`\n",
       "    *   `287485`\n",
       "    *   `287562`\n",
       "5.  \n",
       "    *   `cit`\n",
       "    *   `1586.0179640718563`\n",
       "    *   `287317`\n",
       "    *   `287483`\n",
       "6.  \n",
       "    *   `num`\n",
       "    *   `949.7745454545454`\n",
       "    *   `298830`\n",
       "    *   `299104`\n",
       "7.  \n",
       "    *   `add`\n",
       "    *   `335.9391634980989`\n",
       "    *   `279921`\n",
       "    *   `280709`\n",
       "8.  \n",
       "    *   `chapter`\n",
       "    *   `199.65813253012047`\n",
       "    *   `285989`\n",
       "    *   `287316`\n",
       "9.  \n",
       "    *   `pb`\n",
       "    *   `171.18463524854744`\n",
       "    *   `300676`\n",
       "    *   `302224`\n",
       "10. \n",
       "    *   `p`\n",
       "    *   `168.78421387651179`\n",
       "    *   `299105`\n",
       "    *   `300675`\n",
       "11. \n",
       "    *   `quote`\n",
       "    *   `84.7364043506078`\n",
       "    *   `302225`\n",
       "    *   `305350`\n",
       "12. \n",
       "    *   `bibl`\n",
       "    *   `51.0862462006079`\n",
       "    *   `280710`\n",
       "    *   `285973`\n",
       "13. \n",
       "    *   `l`\n",
       "    *   `23.49968935830301`\n",
       "    *   `287563`\n",
       "    *   `298829`\n",
       "14. \n",
       "    *   `_sentence`\n",
       "    *   `17.94801326744737`\n",
       "    *   `265148`\n",
       "    *   `279920`\n",
       "15. \n",
       "    *   `word`\n",
       "    *   `1`\n",
       "    *   `1`\n",
       "    *   `265146`\n",
       "\n",
       "</details>\n",
       "<details ><summary>14. corpus</summary>\n",
       "\n",
       "`TF dataset (unspecified)`\n",
       "\n",
       "</details>\n",
       "<details ><summary>15. css</summary>\n",
       "\n",
       "*empty*\n",
       "\n",
       "</details>\n",
       "<details ><summary>16. defaultClsOrig</summary>\n",
       "\n",
       "`txtu`\n",
       "\n",
       "</details>\n",
       "<details ><summary>17. defaultFormat</summary>\n",
       "\n",
       "`text-orig-full`\n",
       "\n",
       "</details>\n",
       "<details ><summary>18. descendantType</summary>\n",
       "\n",
       "\n",
       "*   **`_book`**: \n",
       "    *   `_book`\n",
       "    *   `book`\n",
       "    *   `head`\n",
       "*   **`_sentence`**: \n",
       "    *   `_sentence`\n",
       "    *   `word`\n",
       "*   **`add`**: \n",
       "    *   `add`\n",
       "    *   `book`\n",
       "    *   `chapter`\n",
       "    *   `head`\n",
       "*   **`bibl`**: \n",
       "    *   `_sentence`\n",
       "    *   `bibl`\n",
       "    *   `l`\n",
       "    *   `word`\n",
       "*   **`book`**: \n",
       "    *   `book`\n",
       "    *   `head`\n",
       "*   **`chapter`**: \n",
       "    *   `book`\n",
       "    *   `chapter`\n",
       "    *   `head`\n",
       "*   **`cit`**: \n",
       "    *   `add`\n",
       "    *   `book`\n",
       "    *   `chapter`\n",
       "    *   `cit`\n",
       "    *   `head`\n",
       "    *   `num`\n",
       "*   **`head`**: \n",
       "    *   `book`\n",
       "    *   `head`\n",
       "*   **`hi`**: \n",
       "    *   `add`\n",
       "    *   `book`\n",
       "    *   `chapter`\n",
       "    *   `cit`\n",
       "    *   `head`\n",
       "    *   `hi`\n",
       "    *   `num`\n",
       "*   **`l`**: \n",
       "    *   `_sentence`\n",
       "    *   `l`\n",
       "    *   `word`\n",
       "*   **`num`**: \n",
       "    *   `add`\n",
       "    *   `book`\n",
       "    *   `chapter`\n",
       "    *   `head`\n",
       "    *   `num`\n",
       "*   **`p`**: \n",
       "    *   `_sentence`\n",
       "    *   `bibl`\n",
       "    *   `l`\n",
       "    *   `p`\n",
       "    *   `quote`\n",
       "    *   `word`\n",
       "*   **`pb`**: \n",
       "    *   `_sentence`\n",
       "    *   `bibl`\n",
       "    *   `l`\n",
       "    *   `p`\n",
       "    *   `pb`\n",
       "    *   `quote`\n",
       "    *   `word`\n",
       "*   **`quote`**: \n",
       "    *   `_sentence`\n",
       "    *   `bibl`\n",
       "    *   `l`\n",
       "    *   `quote`\n",
       "    *   `word`\n",
       "\n",
       "</details>\n",
       "<details ><summary>19. direction</summary>\n",
       "\n",
       "`ltr`\n",
       "\n",
       "</details>\n",
       "<details ><summary>20. docBase</summary>\n",
       "\n",
       "`https://github.com/None/None/blob/master/docs`\n",
       "\n",
       "</details>\n",
       "<details ><summary>21. docExt</summary>\n",
       "\n",
       "`.md`\n",
       "\n",
       "</details>\n",
       "<details ><summary>22. docPage</summary>\n",
       "\n",
       "`home`\n",
       "\n",
       "</details>\n",
       "<details ><summary>23. docRoot</summary>\n",
       "\n",
       "`https://github.com`\n",
       "\n",
       "</details>\n",
       "<details ><summary>24. docUrl</summary>\n",
       "\n",
       "`https://github.com/None/None/blob/master/docs/home.md`\n",
       "\n",
       "</details>\n",
       "<details ><summary>25. docs</summary>\n",
       "\n",
       "\n",
       "*   **`charText`**: `How TF features represent text`\n",
       "*   **`charUrl`**: `https://annotation.github.io/text-fabric/writing/.html`\n",
       "*   **`docBase`**: `https://github.com/None/None/blob/master/docs`\n",
       "*   **`docExt`**: `.md`\n",
       "*   **`docPage`**: `home`\n",
       "*   **`docRoot`**: `https://github.com`\n",
       "*   **`docUrl`**: `https://github.com/None/None/blob/master/docs/home.md`\n",
       "*   **`featureBase`**: `https://github.com/None/None/blob/master/docs/features/<feature>.md`\n",
       "*   **`featurePage`**: `home`\n",
       "\n",
       "</details>\n",
       "<details ><summary>26. doi</summary>\n",
       "\n",
       "None\n",
       "\n",
       "</details>\n",
       "<details ><summary>27. exampleSection</summary>\n",
       "\n",
       "`1 1:1`\n",
       "\n",
       "</details>\n",
       "<details ><summary>28. exampleSectionHtml</summary>\n",
       "\n",
       "`<code>1 1:1</code>`\n",
       "\n",
       "</details>\n",
       "<details ><summary>29. excludedFeatures</summary>\n",
       "\n",
       "set()\n",
       "\n",
       "</details>\n",
       "<details ><summary>30. exclusions</summary>\n",
       "\n",
       "{}\n",
       "\n",
       "</details>\n",
       "<details ><summary>31. extension</summary>\n",
       "\n",
       "*empty*\n",
       "\n",
       "</details>\n",
       "<details ><summary>32. featureBase</summary>\n",
       "\n",
       "`https://github.com/None/None/blob/master/docs/features/<feature>.md`\n",
       "\n",
       "</details>\n",
       "<details ><summary>33. featurePage</summary>\n",
       "\n",
       "`home`\n",
       "\n",
       "</details>\n",
       "<details ><summary>34. features</summary>\n",
       "\n",
       "{}\n",
       "\n",
       "</details>\n",
       "<details ><summary>35. featuresBare</summary>\n",
       "\n",
       "{}\n",
       "\n",
       "</details>\n",
       "<details ><summary>36. formatCls</summary>\n",
       "\n",
       "\n",
       "*   **`text-orig-beta-plain`**: `txtu`\n",
       "*   **`text-orig-full`**: `txtu`\n",
       "*   **`text-orig-lemma`**: `txtu`\n",
       "*   **`text-orig-main`**: `txtu`\n",
       "*   **`text-orig-norm`**: `txtu`\n",
       "*   **`text-orig-plain`**: `txtu`\n",
       "\n",
       "</details>\n",
       "<details ><summary>37. formatHtml</summary>\n",
       "\n",
       "set()\n",
       "\n",
       "</details>\n",
       "<details ><summary>38. formatMethod</summary>\n",
       "\n",
       "{}\n",
       "\n",
       "</details>\n",
       "<details ><summary>39. formatStyle</summary>\n",
       "\n",
       "\n",
       "*   **`normal`**: `txtn`\n",
       "*   **`orig`**: `txtu`\n",
       "*   **`phono`**: `txtp`\n",
       "*   **`source`**: `txto`\n",
       "*   **`trans`**: `txtt`\n",
       "\n",
       "</details>\n",
       "<details ><summary>40. graphicsRelative</summary>\n",
       "\n",
       "None\n",
       "\n",
       "</details>\n",
       "<details ><summary>41. hasGraphics</summary>\n",
       "\n",
       "set()\n",
       "\n",
       "</details>\n",
       "<details ><summary>42. interfaceDefaults</summary>\n",
       "\n",
       "\n",
       "*   **`lineNumbers`**: None\n",
       "*   **`plainGaps`**: `True`\n",
       "*   **`prettyTypes`**: `True`\n",
       "*   **`queryFeatures`**: `True`\n",
       "*   **`showGraphics`**: None\n",
       "*   **`showHidden`**: None\n",
       "*   **`standardFeatures`**: False\n",
       "*   **`withNodes`**: False\n",
       "*   **`withTypes`**: False\n",
       "\n",
       "</details>\n",
       "<details ><summary>43. isCompatible</summary>\n",
       "\n",
       "None\n",
       "\n",
       "</details>\n",
       "<details ><summary>44. isHidden</summary>\n",
       "\n",
       "set()\n",
       "\n",
       "</details>\n",
       "<details ><summary>45. labels</summary>\n",
       "\n",
       "\n",
       "*   **`_book`**: \n",
       "    *   `True`\n",
       "    *   ()\n",
       "*   **`_sentence`**: \n",
       "    *   *empty*\n",
       "    *   ()\n",
       "*   **`add`**: \n",
       "    *   *empty*\n",
       "    *   ()\n",
       "*   **`bibl`**: \n",
       "    *   *empty*\n",
       "    *   ()\n",
       "*   **`book`**: \n",
       "    *   `True`\n",
       "    *   ()\n",
       "*   **`chapter`**: \n",
       "    *   `True`\n",
       "    *   ()\n",
       "*   **`cit`**: \n",
       "    *   *empty*\n",
       "    *   ()\n",
       "*   **`head`**: \n",
       "    *   *empty*\n",
       "    *   ()\n",
       "*   **`hi`**: \n",
       "    *   *empty*\n",
       "    *   ()\n",
       "*   **`l`**: \n",
       "    *   *empty*\n",
       "    *   ()\n",
       "*   **`num`**: \n",
       "    *   *empty*\n",
       "    *   ()\n",
       "*   **`p`**: \n",
       "    *   *empty*\n",
       "    *   ()\n",
       "*   **`pb`**: \n",
       "    *   *empty*\n",
       "    *   ()\n",
       "*   **`quote`**: \n",
       "    *   *empty*\n",
       "    *   ()\n",
       "*   **`word`**: \n",
       "    *   `True`\n",
       "    *   ()\n",
       "\n",
       "</details>\n",
       "<details ><summary>46. language</summary>\n",
       "\n",
       "*empty*\n",
       "\n",
       "</details>\n",
       "<details ><summary>47. levelCls</summary>\n",
       "\n",
       "\n",
       "*   **`_book`**: \n",
       "    *   **`children`**: `children hor wrap`\n",
       "    *   **`container`**: `contnr c4`\n",
       "    *   **`label`**: `lbl c4`\n",
       "*   **`_sentence`**: \n",
       "    *   **`children`**: `children hor wrap`\n",
       "    *   **`container`**: `contnr c3`\n",
       "    *   **`label`**: `lbl c3`\n",
       "*   **`add`**: \n",
       "    *   **`children`**: `children hor wrap`\n",
       "    *   **`container`**: `contnr c2`\n",
       "    *   **`label`**: `lbl c2`\n",
       "*   **`bibl`**: \n",
       "    *   **`children`**: `children hor wrap`\n",
       "    *   **`container`**: `contnr c1`\n",
       "    *   **`label`**: `lbl c1`\n",
       "*   **`book`**: \n",
       "    *   **`children`**: `children hor wrap`\n",
       "    *   **`container`**: `contnr c4`\n",
       "    *   **`label`**: `lbl c4`\n",
       "*   **`chapter`**: \n",
       "    *   **`children`**: `children hor wrap`\n",
       "    *   **`container`**: `contnr c4`\n",
       "    *   **`label`**: `lbl c4`\n",
       "*   **`cit`**: \n",
       "    *   **`children`**: `children hor wrap`\n",
       "    *   **`container`**: `contnr c2`\n",
       "    *   **`label`**: `lbl c2`\n",
       "*   **`head`**: \n",
       "    *   **`children`**: `children hor wrap`\n",
       "    *   **`container`**: `contnr c2`\n",
       "    *   **`label`**: `lbl c2`\n",
       "*   **`hi`**: \n",
       "    *   **`children`**: `children hor wrap`\n",
       "    *   **`container`**: `contnr c2`\n",
       "    *   **`label`**: `lbl c2`\n",
       "*   **`l`**: \n",
       "    *   **`children`**: `children hor wrap`\n",
       "    *   **`container`**: `contnr c1`\n",
       "    *   **`label`**: `lbl c1`\n",
       "*   **`num`**: \n",
       "    *   **`children`**: `children hor wrap`\n",
       "    *   **`container`**: `contnr c2`\n",
       "    *   **`label`**: `lbl c2`\n",
       "*   **`p`**: \n",
       "    *   **`children`**: `children hor wrap`\n",
       "    *   **`container`**: `contnr c1`\n",
       "    *   **`label`**: `lbl c1`\n",
       "*   **`pb`**: \n",
       "    *   **`children`**: `children hor wrap`\n",
       "    *   **`container`**: `contnr c1`\n",
       "    *   **`label`**: `lbl c1`\n",
       "*   **`quote`**: \n",
       "    *   **`children`**: `children hor wrap`\n",
       "    *   **`container`**: `contnr c1`\n",
       "    *   **`label`**: `lbl c1`\n",
       "*   **`word`**: \n",
       "    *   **`children`**: *empty*\n",
       "    *   **`container`**: `contnr c0`\n",
       "    *   **`label`**: `lbl c0`\n",
       "\n",
       "</details>\n",
       "<details ><summary>48. levels</summary>\n",
       "\n",
       "\n",
       "*   **`_book`**: \n",
       "    *   **`flow`**: `hor`\n",
       "    *   **`level`**: `4`\n",
       "    *   **`stretch`**: `True`\n",
       "    *   **`wrap`**: `True`\n",
       "*   **`_sentence`**: \n",
       "    *   **`flow`**: `hor`\n",
       "    *   **`level`**: `3`\n",
       "    *   **`stretch`**: `True`\n",
       "    *   **`wrap`**: `True`\n",
       "*   **`add`**: \n",
       "    *   **`flow`**: `hor`\n",
       "    *   **`level`**: `2`\n",
       "    *   **`stretch`**: `True`\n",
       "    *   **`wrap`**: `True`\n",
       "*   **`bibl`**: \n",
       "    *   **`flow`**: `hor`\n",
       "    *   **`level`**: `1`\n",
       "    *   **`stretch`**: `True`\n",
       "    *   **`wrap`**: `True`\n",
       "*   **`book`**: \n",
       "    *   **`flow`**: `hor`\n",
       "    *   **`level`**: `4`\n",
       "    *   **`stretch`**: `True`\n",
       "    *   **`wrap`**: `True`\n",
       "*   **`chapter`**: \n",
       "    *   **`flow`**: `hor`\n",
       "    *   **`level`**: `4`\n",
       "    *   **`stretch`**: `True`\n",
       "    *   **`wrap`**: `True`\n",
       "*   **`cit`**: \n",
       "    *   **`flow`**: `hor`\n",
       "    *   **`level`**: `2`\n",
       "    *   **`stretch`**: `True`\n",
       "    *   **`wrap`**: `True`\n",
       "*   **`head`**: \n",
       "    *   **`flow`**: `hor`\n",
       "    *   **`level`**: `2`\n",
       "    *   **`stretch`**: `True`\n",
       "    *   **`wrap`**: `True`\n",
       "*   **`hi`**: \n",
       "    *   **`flow`**: `hor`\n",
       "    *   **`level`**: `2`\n",
       "    *   **`stretch`**: `True`\n",
       "    *   **`wrap`**: `True`\n",
       "*   **`l`**: \n",
       "    *   **`flow`**: `hor`\n",
       "    *   **`level`**: `1`\n",
       "    *   **`stretch`**: `True`\n",
       "    *   **`wrap`**: `True`\n",
       "*   **`num`**: \n",
       "    *   **`flow`**: `hor`\n",
       "    *   **`level`**: `2`\n",
       "    *   **`stretch`**: `True`\n",
       "    *   **`wrap`**: `True`\n",
       "*   **`p`**: \n",
       "    *   **`flow`**: `hor`\n",
       "    *   **`level`**: `1`\n",
       "    *   **`stretch`**: `True`\n",
       "    *   **`wrap`**: `True`\n",
       "*   **`pb`**: \n",
       "    *   **`flow`**: `hor`\n",
       "    *   **`level`**: `1`\n",
       "    *   **`stretch`**: `True`\n",
       "    *   **`wrap`**: `True`\n",
       "*   **`quote`**: \n",
       "    *   **`flow`**: `hor`\n",
       "    *   **`level`**: `1`\n",
       "    *   **`stretch`**: `True`\n",
       "    *   **`wrap`**: `True`\n",
       "*   **`word`**: \n",
       "    *   **`flow`**: `ver`\n",
       "    *   **`level`**: 0\n",
       "    *   **`stretch`**: False\n",
       "    *   **`wrap`**: False\n",
       "\n",
       "</details>\n",
       "<details ><summary>49. lexMap</summary>\n",
       "\n",
       "{}\n",
       "\n",
       "</details>\n",
       "<details ><summary>50. lexTypes</summary>\n",
       "\n",
       "set()\n",
       "\n",
       "</details>\n",
       "<details ><summary>51. lineNumberFeature</summary>\n",
       "\n",
       "{}\n",
       "\n",
       "</details>\n",
       "<details ><summary>52. local</summary>\n",
       "\n",
       "None\n",
       "\n",
       "</details>\n",
       "<details ><summary>53. localDir</summary>\n",
       "\n",
       "`/Users/dirk/text-fabric-data/None/None/_temp`\n",
       "\n",
       "</details>\n",
       "<details ><summary>54. moduleSpecs</summary>\n",
       "\n",
       "()\n",
       "\n",
       "</details>\n",
       "<details ><summary>55. noDescendTypes</summary>\n",
       "\n",
       "set()\n",
       "\n",
       "</details>\n",
       "<details ><summary>56. noneValues</summary>\n",
       "\n",
       "\n",
       "1.  None\n",
       "\n",
       "</details>\n",
       "<details ><summary>57. org</summary>\n",
       "\n",
       "None\n",
       "\n",
       "</details>\n",
       "<details ><summary>58. plainCustom</summary>\n",
       "\n",
       "{}\n",
       "\n",
       "</details>\n",
       "<details ><summary>59. prettyCustom</summary>\n",
       "\n",
       "{}\n",
       "\n",
       "</details>\n",
       "<details ><summary>60. provenanceSpec</summary>\n",
       "\n",
       "\n",
       "*   **`corpus`**: `TF dataset (unspecified)`\n",
       "*   **`doi`**: None\n",
       "*   **`graphicsRelative`**: None\n",
       "*   **`moduleSpecs`**: ()\n",
       "*   **`org`**: None\n",
       "*   **`relative`**: `tf`\n",
       "*   **`repo`**: None\n",
       "*   **`version`**: None\n",
       "*   **`webBase`**: None\n",
       "*   **`webHint`**: None\n",
       "*   **`webLang`**: None\n",
       "*   **`webLexId`**: None\n",
       "*   **`webUrl`**: None\n",
       "*   **`webUrlLex`**: None\n",
       "*   **`zip`**: None\n",
       "\n",
       "</details>\n",
       "<details ><summary>61. relative</summary>\n",
       "\n",
       "`tf`\n",
       "\n",
       "</details>\n",
       "<details ><summary>62. release</summary>\n",
       "\n",
       "None\n",
       "\n",
       "</details>\n",
       "<details ><summary>63. repo</summary>\n",
       "\n",
       "None\n",
       "\n",
       "</details>\n",
       "<details ><summary>64. sectionSep1</summary>\n",
       "\n",
       "` `\n",
       "\n",
       "</details>\n",
       "<details ><summary>65. sectionSep2</summary>\n",
       "\n",
       "`:`\n",
       "\n",
       "</details>\n",
       "<details ><summary>66. showVerseInTuple</summary>\n",
       "\n",
       "False\n",
       "\n",
       "</details>\n",
       "<details ><summary>67. styles</summary>\n",
       "\n",
       "{}\n",
       "\n",
       "</details>\n",
       "<details ><summary>68. templates</summary>\n",
       "\n",
       "\n",
       "*   **`_book`**: \n",
       "    *   `True`\n",
       "    *   ()\n",
       "*   **`_sentence`**: \n",
       "    *   *empty*\n",
       "    *   ()\n",
       "*   **`add`**: \n",
       "    *   *empty*\n",
       "    *   ()\n",
       "*   **`bibl`**: \n",
       "    *   *empty*\n",
       "    *   ()\n",
       "*   **`book`**: \n",
       "    *   `True`\n",
       "    *   ()\n",
       "*   **`chapter`**: \n",
       "    *   `True`\n",
       "    *   ()\n",
       "*   **`cit`**: \n",
       "    *   *empty*\n",
       "    *   ()\n",
       "*   **`head`**: \n",
       "    *   *empty*\n",
       "    *   ()\n",
       "*   **`hi`**: \n",
       "    *   *empty*\n",
       "    *   ()\n",
       "*   **`l`**: \n",
       "    *   *empty*\n",
       "    *   ()\n",
       "*   **`num`**: \n",
       "    *   *empty*\n",
       "    *   ()\n",
       "*   **`p`**: \n",
       "    *   *empty*\n",
       "    *   ()\n",
       "*   **`pb`**: \n",
       "    *   *empty*\n",
       "    *   ()\n",
       "*   **`quote`**: \n",
       "    *   *empty*\n",
       "    *   ()\n",
       "*   **`word`**: \n",
       "    *   `True`\n",
       "    *   ()\n",
       "\n",
       "</details>\n",
       "<details ><summary>69. tfDoc</summary>\n",
       "\n",
       "`https://annotation.github.io/text-fabric`\n",
       "\n",
       "</details>\n",
       "<details ><summary>70. transform</summary>\n",
       "\n",
       "{}\n",
       "\n",
       "</details>\n",
       "<details ><summary>71. urlGh</summary>\n",
       "\n",
       "`https://github.com`\n",
       "\n",
       "</details>\n",
       "<details ><summary>72. urlNb</summary>\n",
       "\n",
       "`https://nbviewer.jupyter.org/github`\n",
       "\n",
       "</details>\n",
       "<details ><summary>73. verseTypes</summary>\n",
       "\n",
       "\n",
       "1.  `_sentence`\n",
       "\n",
       "</details>\n",
       "<details ><summary>74. version</summary>\n",
       "\n",
       "None\n",
       "\n",
       "</details>\n",
       "<details ><summary>75. webBase</summary>\n",
       "\n",
       "None\n",
       "\n",
       "</details>\n",
       "<details ><summary>76. webHint</summary>\n",
       "\n",
       "None\n",
       "\n",
       "</details>\n",
       "<details ><summary>77. webLang</summary>\n",
       "\n",
       "None\n",
       "\n",
       "</details>\n",
       "<details ><summary>78. webLexId</summary>\n",
       "\n",
       "None\n",
       "\n",
       "</details>\n",
       "<details ><summary>79. webUrl</summary>\n",
       "\n",
       "None\n",
       "\n",
       "</details>\n",
       "<details ><summary>80. webUrlLex</summary>\n",
       "\n",
       "None\n",
       "\n",
       "</details>\n",
       "<details ><summary>81. writing</summary>\n",
       "\n",
       "*empty*\n",
       "\n",
       "</details>\n",
       "<details ><summary>82. zip</summary>\n",
       "\n",
       "\n",
       "1.  None\n",
       "\n",
       "</details>\n",
       "</details>\n"
      ],
      "text/plain": [
       "<IPython.core.display.Markdown object>"
      ]
     },
     "metadata": {},
     "output_type": "display_data"
    }
   ],
   "source": [
    "A.showContext()"
   ]
  },
  {
   "cell_type": "code",
   "execution_count": 18,
   "metadata": {},
   "outputs": [
    {
     "data": {
      "text/markdown": [
       "### _book 265147\n"
      ],
      "text/plain": [
       "<IPython.core.display.Markdown object>"
      ]
     },
     "metadata": {},
     "output_type": "display_data"
    },
    {
     "data": {
      "text/html": [
       "<div class=\" children\"><span class=\"section ltr\">1 1:1</span> <span class=\"plain outer   \" ><span class=\"plain txtu \"><span class=\"structure\"><span class=\"nd\">_book</span> Deipnosophistae</span></span></span></div>"
      ],
      "text/plain": [
       "<IPython.core.display.HTML object>"
      ]
     },
     "metadata": {},
     "output_type": "display_data"
    },
    {
     "data": {
      "text/html": [
       "<span class=\"section ltr\">1 1:1</span><div class=\" children\"><div class=\"contnr c4 trm   \" ><div class=\"lbl c4 trm \" ><span class=\"nd\">_book</span> <span class=\"txtu\"><span class=\"structure\"><span class=\"nd\">_book</span> Deipnosophistae</span></span></div></div></div>"
      ],
      "text/plain": [
       "<IPython.core.display.HTML object>"
      ]
     },
     "metadata": {},
     "output_type": "display_data"
    },
    {
     "data": {
      "text/markdown": [
       "### head 287484\n"
      ],
      "text/plain": [
       "<IPython.core.display.Markdown object>"
      ]
     },
     "metadata": {},
     "output_type": "display_data"
    },
    {
     "data": {
      "text/html": [
       "<div class=\" children\"><span class=\"section ltr\">1 1:1</span> <span class=\"plain outer   \" ><span class=\"plain txtu \"></span></span></div>"
      ],
      "text/plain": [
       "<IPython.core.display.HTML object>"
      ]
     },
     "metadata": {},
     "output_type": "display_data"
    },
    {
     "data": {
      "text/html": [
       "<span class=\"section ltr\">1 1:1</span><div class=\" children\"><div class=\"contnr c2 trm   \" ><div class=\"lbl c2 trm \" ><span class=\"nd\">head</span></div></div></div>"
      ],
      "text/plain": [
       "<IPython.core.display.HTML object>"
      ]
     },
     "metadata": {},
     "output_type": "display_data"
    },
    {
     "data": {
      "text/markdown": [
       "### book 285974\n"
      ],
      "text/plain": [
       "<IPython.core.display.Markdown object>"
      ]
     },
     "metadata": {},
     "output_type": "display_data"
    },
    {
     "data": {
      "text/html": [
       "<div class=\" children\"><span class=\"section ltr\">1</span> <span class=\"plain outer   \" ><span class=\"plain txtu \"><span class=\"section\"> </span></span></span></div>"
      ],
      "text/plain": [
       "<IPython.core.display.HTML object>"
      ]
     },
     "metadata": {},
     "output_type": "display_data"
    },
    {
     "data": {
      "text/html": [
       "<span class=\"section ltr\">1</span><div class=\" children\"><div class=\"contnr c4 trm   \" ><div class=\"lbl c4 trm \" ><span class=\"nd\">book</span> <span class=\"txtu\"><span class=\"section\">1</span></span></div></div></div>"
      ],
      "text/plain": [
       "<IPython.core.display.HTML object>"
      ]
     },
     "metadata": {},
     "output_type": "display_data"
    },
    {
     "data": {
      "text/markdown": [
       "### hi 287485\n"
      ],
      "text/plain": [
       "<IPython.core.display.Markdown object>"
      ]
     },
     "metadata": {},
     "output_type": "display_data"
    },
    {
     "data": {
      "text/html": [
       "<div class=\" children\"><span class=\"section ltr\">2 52:1411</span> <span class=\"plain outer   \" ><span class=\"plain txtu \"></span></span></div>"
      ],
      "text/plain": [
       "<IPython.core.display.HTML object>"
      ]
     },
     "metadata": {},
     "output_type": "display_data"
    },
    {
     "data": {
      "text/html": [
       "<span class=\"section ltr\">2 52:1411</span><div class=\" children\"><div class=\"contnr c2 trm   \" ><div class=\"lbl c2 trm \" ><span class=\"nd\">hi</span></div></div></div>"
      ],
      "text/plain": [
       "<IPython.core.display.HTML object>"
      ]
     },
     "metadata": {},
     "output_type": "display_data"
    },
    {
     "data": {
      "text/markdown": [
       "### cit 287317\n"
      ],
      "text/plain": [
       "<IPython.core.display.Markdown object>"
      ]
     },
     "metadata": {},
     "output_type": "display_data"
    },
    {
     "data": {
      "text/html": [
       "<div class=\" children\"><span class=\"section ltr\">1 2:9</span> <span class=\"plain outer   \" ><span class=\"plain txtu \"></span></span></div>"
      ],
      "text/plain": [
       "<IPython.core.display.HTML object>"
      ]
     },
     "metadata": {},
     "output_type": "display_data"
    },
    {
     "data": {
      "text/html": [
       "<span class=\"section ltr\">1 2:9</span><div class=\" children\"><div class=\"contnr c2 trm   \" ><div class=\"lbl c2 trm \" ><span class=\"nd\">cit</span></div></div></div>"
      ],
      "text/plain": [
       "<IPython.core.display.HTML object>"
      ]
     },
     "metadata": {},
     "output_type": "display_data"
    },
    {
     "data": {
      "text/markdown": [
       "### num 298830\n"
      ],
      "text/plain": [
       "<IPython.core.display.Markdown object>"
      ]
     },
     "metadata": {},
     "output_type": "display_data"
    },
    {
     "data": {
      "text/html": [
       "<div class=\" children\"><span class=\"section ltr\">1 19:182</span> <span class=\"plain outer   \" ><span class=\"plain txtu \"></span></span></div>"
      ],
      "text/plain": [
       "<IPython.core.display.HTML object>"
      ]
     },
     "metadata": {},
     "output_type": "display_data"
    },
    {
     "data": {
      "text/html": [
       "<span class=\"section ltr\">1 19:182</span><div class=\" children\"><div class=\"contnr c2 trm   \" ><div class=\"lbl c2 trm \" ><span class=\"nd\">num</span></div></div></div>"
      ],
      "text/plain": [
       "<IPython.core.display.HTML object>"
      ]
     },
     "metadata": {},
     "output_type": "display_data"
    },
    {
     "data": {
      "text/markdown": [
       "### add 279921\n"
      ],
      "text/plain": [
       "<IPython.core.display.Markdown object>"
      ]
     },
     "metadata": {},
     "output_type": "display_data"
    },
    {
     "data": {
      "text/html": [
       "<div class=\" children\"><span class=\"section ltr\">1 1:3</span> <span class=\"plain outer   \" ><span class=\"plain txtu \"></span></span></div>"
      ],
      "text/plain": [
       "<IPython.core.display.HTML object>"
      ]
     },
     "metadata": {},
     "output_type": "display_data"
    },
    {
     "data": {
      "text/html": [
       "<span class=\"section ltr\">1 1:3</span><div class=\" children\"><div class=\"contnr c2 trm   \" ><div class=\"lbl c2 trm \" ><span class=\"nd\">add</span></div></div></div>"
      ],
      "text/plain": [
       "<IPython.core.display.HTML object>"
      ]
     },
     "metadata": {},
     "output_type": "display_data"
    },
    {
     "data": {
      "text/markdown": [
       "### chapter 285989\n"
      ],
      "text/plain": [
       "<IPython.core.display.Markdown object>"
      ]
     },
     "metadata": {},
     "output_type": "display_data"
    },
    {
     "data": {
      "text/html": [
       "<div class=\" children\"><span class=\"section ltr\">1 1</span> <span class=\"plain outer   \" ><span class=\"plain txtu \"><span class=\"section\"> </span></span></span></div>"
      ],
      "text/plain": [
       "<IPython.core.display.HTML object>"
      ]
     },
     "metadata": {},
     "output_type": "display_data"
    },
    {
     "data": {
      "text/html": [
       "<span class=\"section ltr\">1 1</span><div class=\" children\"><div class=\"contnr c4 trm   \" ><div class=\"lbl c4 trm \" ><span class=\"nd\">chapter</span> <span class=\"txtu\"><span class=\"section\">1 1</span></span></div></div></div>"
      ],
      "text/plain": [
       "<IPython.core.display.HTML object>"
      ]
     },
     "metadata": {},
     "output_type": "display_data"
    },
    {
     "data": {
      "text/markdown": [
       "### pb 300676\n"
      ],
      "text/plain": [
       "<IPython.core.display.Markdown object>"
      ]
     },
     "metadata": {},
     "output_type": "display_data"
    },
    {
     "data": {
      "text/html": [
       "<div class=\" children\"><span class=\"section ltr\">1 1:1</span> <span class=\"plain outer   \" ><span class=\"plain txtu \"></span></span></div>"
      ],
      "text/plain": [
       "<IPython.core.display.HTML object>"
      ]
     },
     "metadata": {},
     "output_type": "display_data"
    },
    {
     "data": {
      "text/html": [
       "<span class=\"section ltr\">1 1:1</span><div class=\" children\"><div class=\"contnr c1 trm   \" ><div class=\"lbl c1 trm \" ><span class=\"nd\">pb</span></div></div></div>"
      ],
      "text/plain": [
       "<IPython.core.display.HTML object>"
      ]
     },
     "metadata": {},
     "output_type": "display_data"
    },
    {
     "data": {
      "text/markdown": [
       "### p 299105\n"
      ],
      "text/plain": [
       "<IPython.core.display.Markdown object>"
      ]
     },
     "metadata": {},
     "output_type": "display_data"
    },
    {
     "data": {
      "text/html": [
       "<div class=\" children\"><span class=\"section ltr\">1 1:1</span> <span class=\"plain outer   \" ><span class=\"plain txtu \"></span></span></div>"
      ],
      "text/plain": [
       "<IPython.core.display.HTML object>"
      ]
     },
     "metadata": {},
     "output_type": "display_data"
    },
    {
     "data": {
      "text/html": [
       "<span class=\"section ltr\">1 1:1</span><div class=\" children\"><div class=\"contnr c1 trm   \" ><div class=\"lbl c1 trm \" ><span class=\"nd\">p</span></div></div></div>"
      ],
      "text/plain": [
       "<IPython.core.display.HTML object>"
      ]
     },
     "metadata": {},
     "output_type": "display_data"
    },
    {
     "data": {
      "text/markdown": [
       "### quote 302225\n"
      ],
      "text/plain": [
       "<IPython.core.display.Markdown object>"
      ]
     },
     "metadata": {},
     "output_type": "display_data"
    },
    {
     "data": {
      "text/html": [
       "<div class=\" children\"><span class=\"section ltr\">1 2:9</span> <span class=\"plain outer   \" ><span class=\"plain txtu \"></span></span></div>"
      ],
      "text/plain": [
       "<IPython.core.display.HTML object>"
      ]
     },
     "metadata": {},
     "output_type": "display_data"
    },
    {
     "data": {
      "text/html": [
       "<span class=\"section ltr\">1 2:9</span><div class=\" children\"><div class=\"contnr c1 trm   \" ><div class=\"lbl c1 trm \" ><span class=\"nd\">quote</span></div></div></div>"
      ],
      "text/plain": [
       "<IPython.core.display.HTML object>"
      ]
     },
     "metadata": {},
     "output_type": "display_data"
    },
    {
     "data": {
      "text/markdown": [
       "### bibl 280710\n"
      ],
      "text/plain": [
       "<IPython.core.display.Markdown object>"
      ]
     },
     "metadata": {},
     "output_type": "display_data"
    },
    {
     "data": {
      "text/html": [
       "<div class=\" children\"><span class=\"section ltr\">1 2:9</span> <span class=\"plain outer   \" ><span class=\"plain txtu \"></span></span></div>"
      ],
      "text/plain": [
       "<IPython.core.display.HTML object>"
      ]
     },
     "metadata": {},
     "output_type": "display_data"
    },
    {
     "data": {
      "text/html": [
       "<span class=\"section ltr\">1 2:9</span><div class=\" children\"><div class=\"contnr c1 trm   \" ><div class=\"lbl c1 trm \" ><span class=\"nd\">bibl</span></div></div></div>"
      ],
      "text/plain": [
       "<IPython.core.display.HTML object>"
      ]
     },
     "metadata": {},
     "output_type": "display_data"
    },
    {
     "data": {
      "text/markdown": [
       "### l 287563\n"
      ],
      "text/plain": [
       "<IPython.core.display.Markdown object>"
      ]
     },
     "metadata": {},
     "output_type": "display_data"
    },
    {
     "data": {
      "text/html": [
       "<div class=\" children\"><span class=\"section ltr\">1 3:16</span> <span class=\"plain outer   \" ><span class=\"plain txtu \"></span></span></div>"
      ],
      "text/plain": [
       "<IPython.core.display.HTML object>"
      ]
     },
     "metadata": {},
     "output_type": "display_data"
    },
    {
     "data": {
      "text/html": [
       "<span class=\"section ltr\">1 3:16</span><div class=\" children\"><div class=\"contnr c1 trm   \" ><div class=\"lbl c1 trm \" ><span class=\"nd\">l</span></div></div></div>"
      ],
      "text/plain": [
       "<IPython.core.display.HTML object>"
      ]
     },
     "metadata": {},
     "output_type": "display_data"
    },
    {
     "data": {
      "text/markdown": [
       "### _sentence 265148\n"
      ],
      "text/plain": [
       "<IPython.core.display.Markdown object>"
      ]
     },
     "metadata": {},
     "output_type": "display_data"
    },
    {
     "data": {
      "text/html": [
       "<div class=\" children\"><span class=\"section ltr\">1 1:1</span> <span class=\"plain outer   \" ><span class=\"plain txtu \"></span><span class=\"plain    \" ><span class=\"txtu\">Ἀθήναιος </span></span><span class=\"plain    \" ><span class=\"txtu\">μὲν </span></span><span class=\"plain    \" ><span class=\"txtu\">ὁ </span></span><span class=\"plain    \" ><span class=\"txtu\">τῆς </span></span><span class=\"plain    \" ><span class=\"txtu\">βίβλου </span></span><span class=\"plain    \" ><span class=\"txtu\">πατήρ· </span></span><span class=\"plain    \" ><span class=\"txtu\">ποιεῖται </span></span><span class=\"plain    \" ><span class=\"txtu\">δὲ </span></span><span class=\"plain    \" ><span class=\"txtu\">τὸν </span></span><span class=\"plain    \" ><span class=\"txtu\">λόγον </span></span><span class=\"plain    \" ><span class=\"txtu\">πρὸς </span></span><span class=\"plain    \" ><span class=\"txtu\">Τιμοκράτην· </span></span><span class=\"plain    \" ><span class=\"txtu\">Δειπνοσοφιστὴς </span></span><span class=\"plain    \" ><span class=\"txtu\">δὲ </span></span><span class=\"plain    \" ><span class=\"txtu\">ταύτῃ </span></span><span class=\"plain    \" ><span class=\"txtu\">τὸ </span></span><span class=\"plain    \" ><span class=\"txtu\">ὄνομα. </span></span></span></div>"
      ],
      "text/plain": [
       "<IPython.core.display.HTML object>"
      ]
     },
     "metadata": {},
     "output_type": "display_data"
    },
    {
     "data": {
      "text/html": [
       "<span class=\"section ltr\">1 1:1</span><div class=\" children\"><div class=\"contnr c3    \" ><div class=\"lbl c3  \" ><span class=\"nd\">_sentence</span></div><div class=\"children hor wrap \"><div class=\"contnr c0 trm   \" ><div class=\"lbl c0 trm \" ><span class=\"txtu\">Ἀθήναιος </span></div></div><div class=\"contnr c0 trm   \" ><div class=\"lbl c0 trm \" ><span class=\"txtu\">μὲν </span></div></div><div class=\"contnr c0 trm   \" ><div class=\"lbl c0 trm \" ><span class=\"txtu\">ὁ </span></div></div><div class=\"contnr c0 trm   \" ><div class=\"lbl c0 trm \" ><span class=\"txtu\">τῆς </span></div></div><div class=\"contnr c0 trm   \" ><div class=\"lbl c0 trm \" ><span class=\"txtu\">βίβλου </span></div></div><div class=\"contnr c0 trm   \" ><div class=\"lbl c0 trm \" ><span class=\"txtu\">πατήρ· </span></div></div><div class=\"contnr c0 trm   \" ><div class=\"lbl c0 trm \" ><span class=\"txtu\">ποιεῖται </span></div></div><div class=\"contnr c0 trm   \" ><div class=\"lbl c0 trm \" ><span class=\"txtu\">δὲ </span></div></div><div class=\"contnr c0 trm   \" ><div class=\"lbl c0 trm \" ><span class=\"txtu\">τὸν </span></div></div><div class=\"contnr c0 trm   \" ><div class=\"lbl c0 trm \" ><span class=\"txtu\">λόγον </span></div></div><div class=\"contnr c0 trm   \" ><div class=\"lbl c0 trm \" ><span class=\"txtu\">πρὸς </span></div></div><div class=\"contnr c0 trm   \" ><div class=\"lbl c0 trm \" ><span class=\"txtu\">Τιμοκράτην· </span></div></div><div class=\"contnr c0 trm   \" ><div class=\"lbl c0 trm \" ><span class=\"txtu\">Δειπνοσοφιστὴς </span></div></div><div class=\"contnr c0 trm   \" ><div class=\"lbl c0 trm \" ><span class=\"txtu\">δὲ </span></div></div><div class=\"contnr c0 trm   \" ><div class=\"lbl c0 trm \" ><span class=\"txtu\">ταύτῃ </span></div></div><div class=\"contnr c0 trm   \" ><div class=\"lbl c0 trm \" ><span class=\"txtu\">τὸ </span></div></div><div class=\"contnr c0 trm   \" ><div class=\"lbl c0 trm \" ><span class=\"txtu\">ὄνομα. </span></div></div></div></div></div>"
      ],
      "text/plain": [
       "<IPython.core.display.HTML object>"
      ]
     },
     "metadata": {},
     "output_type": "display_data"
    },
    {
     "data": {
      "text/markdown": [
       "### word 1\n"
      ],
      "text/plain": [
       "<IPython.core.display.Markdown object>"
      ]
     },
     "metadata": {},
     "output_type": "display_data"
    },
    {
     "data": {
      "text/html": [
       "<div class=\" children\"><span class=\"section ltr\">1 1:1</span> <span class=\"plain outer   \" ><span class=\"txtu\">Ἀθήναιος </span></span></div>"
      ],
      "text/plain": [
       "<IPython.core.display.HTML object>"
      ]
     },
     "metadata": {},
     "output_type": "display_data"
    },
    {
     "data": {
      "text/html": [
       "<span class=\"section ltr\">1 1:1</span><div class=\" children\"><div class=\"contnr c0 trm   \" ><div class=\"lbl c0 trm \" ><span class=\"txtu\">Ἀθήναιος </span></div></div></div>"
      ],
      "text/plain": [
       "<IPython.core.display.HTML object>"
      ]
     },
     "metadata": {},
     "output_type": "display_data"
    }
   ],
   "source": [
    "typeShow(A)"
   ]
  },
  {
   "cell_type": "markdown",
   "metadata": {},
   "source": [
    "# Athenaeus (as app)"
   ]
  },
  {
   "cell_type": "code",
   "execution_count": 20,
   "metadata": {},
   "outputs": [
    {
     "name": "stdout",
     "output_type": "stream",
     "text": [
      "Using TF-app in ~/github/annotation/app-athenaeus/code:\n",
      "\trepo clone offline under ~/github (local github)\n",
      "Using data in ~/github/pthu/athenaeus/Athenaeus/Deipnosophistae/tf/1.1:\n",
      "\trepo clone offline under ~/github (local github)\n"
     ]
    },
    {
     "data": {
      "text/html": [
       "<b>Documentation:</b> <a target=\"_blank\" href=\"https://github.com/pthu/athenaeus/blob/master/docs/home.md\" title=\"provenance of The Deipnosophistae by Athenaeus\">ATHENAEUS</a> <a target=\"_blank\" href=\"https://annotation.github.io/text-fabric/writing/greek.html\" title=\"How TF features represent text\">Character table</a> <a target=\"_blank\" href=\"https://github.com/pthu/athenaeus/blob/master/docs/features/home.md\" title=\"ATHENAEUS feature documentation\">Feature docs</a> <a target=\"_blank\" href=\"https://github.com/annotation/app-athenaeus\" title=\"athenaeus TF-app\">app-athenaeus</a> <a target=\"_blank\" href=\"https://annotation.github.io/text-fabric/cheatsheet.html\" title=\"text-fabric-api\">Text-Fabric API 8.3.0</a> <a target=\"_blank\" href=\"https://annotation.github.io/text-fabric/about/searchusage.html\" title=\"Search Templates Introduction and Reference\">Search Reference</a><details open><summary><b>Loaded features</b>:</summary>\n",
       "<p><b>The Deipnosophistae by Athenaeus</b>: <a target=\"_blank\" href=\"https://github.com/pthu/athenaeus/blob/master/docs/features/_book.md\" title=\"~/github/pthu/athenaeus/Athenaeus/Deipnosophistae/tf/1.1/_book.tf\">_book</a>  <a target=\"_blank\" href=\"https://github.com/pthu/athenaeus/blob/master/docs/features/_sentence.md\" title=\"~/github/pthu/athenaeus/Athenaeus/Deipnosophistae/tf/1.1/_sentence.tf\">_sentence</a>  <a target=\"_blank\" href=\"https://github.com/pthu/athenaeus/blob/master/docs/features/add.md\" title=\"~/github/pthu/athenaeus/Athenaeus/Deipnosophistae/tf/1.1/add.tf\">add</a>  <a target=\"_blank\" href=\"https://github.com/pthu/athenaeus/blob/master/docs/features/beta_plain.md\" title=\"~/github/pthu/athenaeus/Athenaeus/Deipnosophistae/tf/1.1/beta_plain.tf\">beta_plain</a>  <a target=\"_blank\" href=\"https://github.com/pthu/athenaeus/blob/master/docs/features/bibl.md\" title=\"~/github/pthu/athenaeus/Athenaeus/Deipnosophistae/tf/1.1/bibl.tf\">bibl</a>  <a target=\"_blank\" href=\"https://github.com/pthu/athenaeus/blob/master/docs/features/book.md\" title=\"~/github/pthu/athenaeus/Athenaeus/Deipnosophistae/tf/1.1/book.tf\">book</a>  <a target=\"_blank\" href=\"https://github.com/pthu/athenaeus/blob/master/docs/features/chapter.md\" title=\"~/github/pthu/athenaeus/Athenaeus/Deipnosophistae/tf/1.1/chapter.tf\">chapter</a>  <a target=\"_blank\" href=\"https://github.com/pthu/athenaeus/blob/master/docs/features/cit.md\" title=\"~/github/pthu/athenaeus/Athenaeus/Deipnosophistae/tf/1.1/cit.tf\">cit</a>  <a target=\"_blank\" href=\"https://github.com/pthu/athenaeus/blob/master/docs/features/head.md\" title=\"~/github/pthu/athenaeus/Athenaeus/Deipnosophistae/tf/1.1/head.tf\">head</a>  <a target=\"_blank\" href=\"https://github.com/pthu/athenaeus/blob/master/docs/features/hi.md\" title=\"~/github/pthu/athenaeus/Athenaeus/Deipnosophistae/tf/1.1/hi.tf\">hi</a>  <a target=\"_blank\" href=\"https://github.com/pthu/athenaeus/blob/master/docs/features/l.md\" title=\"~/github/pthu/athenaeus/Athenaeus/Deipnosophistae/tf/1.1/l.tf\">l</a>  <a target=\"_blank\" href=\"https://github.com/pthu/athenaeus/blob/master/docs/features/lemma.md\" title=\"~/github/pthu/athenaeus/Athenaeus/Deipnosophistae/tf/1.1/lemma.tf\">lemma</a>  <a target=\"_blank\" href=\"https://github.com/pthu/athenaeus/blob/master/docs/features/main.md\" title=\"~/github/pthu/athenaeus/Athenaeus/Deipnosophistae/tf/1.1/main.tf\">main</a>  <a target=\"_blank\" href=\"https://github.com/pthu/athenaeus/blob/master/docs/features/norm.md\" title=\"~/github/pthu/athenaeus/Athenaeus/Deipnosophistae/tf/1.1/norm.tf\">norm</a>  <a target=\"_blank\" href=\"https://github.com/pthu/athenaeus/blob/master/docs/features/num.md\" title=\"~/github/pthu/athenaeus/Athenaeus/Deipnosophistae/tf/1.1/num.tf\">num</a>  <a target=\"_blank\" href=\"https://github.com/pthu/athenaeus/blob/master/docs/features/orig.md\" title=\"~/github/pthu/athenaeus/Athenaeus/Deipnosophistae/tf/1.1/orig.tf\">orig</a>  <a target=\"_blank\" href=\"https://github.com/pthu/athenaeus/blob/master/docs/features/otype.md\" title=\"~/github/pthu/athenaeus/Athenaeus/Deipnosophistae/tf/1.1/otype.tf\">otype</a>  <a target=\"_blank\" href=\"https://github.com/pthu/athenaeus/blob/master/docs/features/p.md\" title=\"~/github/pthu/athenaeus/Athenaeus/Deipnosophistae/tf/1.1/p.tf\">p</a>  <a target=\"_blank\" href=\"https://github.com/pthu/athenaeus/blob/master/docs/features/pb.md\" title=\"~/github/pthu/athenaeus/Athenaeus/Deipnosophistae/tf/1.1/pb.tf\">pb</a>  <a target=\"_blank\" href=\"https://github.com/pthu/athenaeus/blob/master/docs/features/plain.md\" title=\"~/github/pthu/athenaeus/Athenaeus/Deipnosophistae/tf/1.1/plain.tf\">plain</a>  <a target=\"_blank\" href=\"https://github.com/pthu/athenaeus/blob/master/docs/features/post.md\" title=\"~/github/pthu/athenaeus/Athenaeus/Deipnosophistae/tf/1.1/post.tf\">post</a>  <a target=\"_blank\" href=\"https://github.com/pthu/athenaeus/blob/master/docs/features/pre.md\" title=\"~/github/pthu/athenaeus/Athenaeus/Deipnosophistae/tf/1.1/pre.tf\">pre</a>  <a target=\"_blank\" href=\"https://github.com/pthu/athenaeus/blob/master/docs/features/quote.md\" title=\"~/github/pthu/athenaeus/Athenaeus/Deipnosophistae/tf/1.1/quote.tf\">quote</a>  <b><i><a target=\"_blank\" href=\"https://github.com/pthu/athenaeus/blob/master/docs/features/oslots.md\" title=\"~/github/pthu/athenaeus/Athenaeus/Deipnosophistae/tf/1.1/oslots.tf\">oslots</a></i></b> </p></details>"
      ],
      "text/plain": [
       "<IPython.core.display.HTML object>"
      ]
     },
     "metadata": {},
     "output_type": "display_data"
    },
    {
     "data": {
      "text/html": [
       "<style>tr.tf, td.tf, th.tf { text-align: left ! important;}@font-face {\n",
       "  font-family: \"Ezra SIL\";\n",
       "  src: local('Ezra SIL'), local('EzraSIL'),\n",
       "    url('/server/static/fonts/SILEOT.woff') format('woff'),\n",
       "    url('https://github.com/annotation/text-fabric/blob/master/tf/server/static/fonts/SILEOT.woff?raw=true') format('woff');\n",
       "}\n",
       "\n",
       "@font-face {\n",
       "  font-family: \"SBL Hebrew\";\n",
       "  src: local('SBL Hebrew'), local('SBLHebrew'),\n",
       "    url('/server/static/fonts/SBL_Hbrw.woff') format('woff'),\n",
       "    url('https://github.com/annotation/text-fabric/blob/master/tf/server/static/fonts/SBL_Hbrw.woff?raw=true') format('woff');\n",
       "}\n",
       "\n",
       "@font-face {\n",
       "  font-family: \"Estrangelo Edessa\";\n",
       "  src: local('Estrangelo Edessa'), local('EstrangeloEdessa');\n",
       "    url('/server/static/fonts/SyrCOMEdessa.woff') format('woff'),\n",
       "    url('https://github.com/annotation/text-fabric/blob/master/tf/server/static/fonts/SyrCOMEdessa.woff?raw=true') format('woff');\n",
       "}\n",
       "\n",
       "@font-face {\n",
       "  font-family: AmiriQuran;\n",
       "  font-style: normal;\n",
       "  font-weight: 400;\n",
       "  src: local('Amiri Quran'), local('AmiriQuran'),\n",
       "    url('/server/static/fonts/AmiriQuran.woff') format('woff'),\n",
       "    url('https://github.com/annotation/text-fabric/blob/master/tf/server/static/fonts/AmiriQuran.woff?raw=true') format('woff');\n",
       "}\n",
       "\n",
       "@font-face {\n",
       "  font-family: AmiriQuranColored;\n",
       "  font-style: normal;\n",
       "  font-weight: 400;\n",
       "  src: local('Amiri Quran Colored'), local('AmiriQuranColored'),\n",
       "    url('/server/static/fonts/AmiriQuranColored.woff') format('woff'),\n",
       "    url('https://github.com/annotation/text-fabric/blob/master/tf/server/static/fonts/AmiriQuranColored.woff?raw=true') format('woff');\n",
       "}\n",
       "\n",
       "@font-face {\n",
       "  font-family: \"Santakku\";\n",
       "  src: local('Santakku'),\n",
       "    url('/server/static/fonts/Santakku.woff') format('woff'),\n",
       "    url('https://github.com/annotation/text-fabric/blob/master/tf/server/static/fonts/Santakku.woff?raw=true') format('woff');\n",
       "}\n",
       "\n",
       "@font-face {\n",
       "  font-family: \"SantakkuM\";\n",
       "  src: local('SantakkuM'),\n",
       "    url('/server/static/fonts/SantakkuM.woff') format('woff'),\n",
       "    url('https://github.com/annotation/text-fabric/blob/master/tf/server/static/fonts/SantakkuM.woff?raw=true') format('woff');\n",
       "}\n",
       "/* bypassing some classical notebook settings */\n",
       "div#notebook {\n",
       "  line-height: unset;\n",
       "}\n",
       "/* neutral text */\n",
       ".txtn,.txtn a:visited,.txtn a:link {\n",
       "    font-family: sans-serif;\n",
       "    font-size: medium;\n",
       "    direction: ltr;\n",
       "    text-decoration: none;\n",
       "    color: var(--text-color);\n",
       "}\n",
       "/* transcription text */\n",
       ".txtt,.txtt a:visited,.txtt a:link {\n",
       "    font-family: monospace;\n",
       "    font-size: medium;\n",
       "    direction: ltr;\n",
       "    text-decoration: none;\n",
       "    color: var(--text-color);\n",
       "}\n",
       "/* source text */\n",
       ".txto,.txto a:visited,.txto a:link {\n",
       "    font-family: serif;\n",
       "    font-size: medium;\n",
       "    direction: ltr;\n",
       "    text-decoration: none;\n",
       "    color: var(--text-color);\n",
       "}\n",
       "/* phonetic text */\n",
       ".txtp,.txtp a:visited,.txtp a:link {\n",
       "    font-family: Gentium, sans-serif;\n",
       "    font-size: large;\n",
       "    direction: ltr;\n",
       "    text-decoration: none;\n",
       "    color: var(--text-color);\n",
       "}\n",
       "/* original script text */\n",
       ".txtu,.txtu a:visited,.txtu a:link {\n",
       "    font-family: Gentium, sans-serif;\n",
       "    font-size: large;\n",
       "    text-decoration: none;\n",
       "    color: var(--text-color);\n",
       "}\n",
       "/* hebrew */\n",
       ".txtu.hbo,.lex.hbo {\n",
       "    font-family: \"Ezra SIL\", \"SBL Hebrew\", sans-serif;\n",
       "    font-size: x-large;\n",
       "    direction: rtl ! important;\n",
       "    unicode-bidi: embed;\n",
       "}\n",
       "/* syriac */\n",
       ".txtu.syc,.lex.syc {\n",
       "    font-family: \"Estrangelo Edessa\", sans-serif;\n",
       "    font-size: large;\n",
       "    direction: rtl ! important;\n",
       "    unicode-bidi: embed;\n",
       "}\n",
       "/* neo aramaic */\n",
       ".txtu.cld,.lex.cld {\n",
       "    font-family: \"CharisSIL-R\", sans-serif;\n",
       "    font-size: medium;\n",
       "    direction: ltr ! important;\n",
       "    unicode-bidi: embed;\n",
       "}\n",
       "/* standard arabic */\n",
       ".txtu.ara,.lex.ara {\n",
       "    font-family: \"AmiriQuran\", sans-serif;\n",
       "    font-size: large;\n",
       "    direction: rtl ! important;\n",
       "    unicode-bidi: embed;\n",
       "}\n",
       "/* cuneiform */\n",
       ".txtu.akk,.lex.akk {\n",
       "    font-family: Santakku, sans-serif;\n",
       "    font-size: x-large;\n",
       "    direction: ltr ! important;\n",
       "    unicode-bidi: embed;\n",
       "}\n",
       "/* greek */\n",
       ".txtu.grc,.lex.grc a:link {\n",
       "    font-family: Gentium, sans-serif;\n",
       "    font-size: medium;\n",
       "    direction: ltr ! important;\n",
       "    unicode-bidi: embed;\n",
       "}\n",
       "a:hover {\n",
       "    text-decoration: underline | important;\n",
       "    color: #0000ff | important;\n",
       "}\n",
       ".ltr {\n",
       "    direction: ltr ! important;\n",
       "}\n",
       ".rtl {\n",
       "    direction: rtl ! important;\n",
       "}\n",
       "span.plain {\n",
       "    display: inline-block;\n",
       "    white-space: pre-wrap;\n",
       "    text-align: start;\n",
       "}\n",
       ".gr,.gl {\n",
       "    white-space: pre-wrap;\n",
       "    border-color: var(--border-color-gap);\n",
       "    border-width: var(--border-width-gap);\n",
       "    border-top-style: none;\n",
       "    border-bottom-style: none;\n",
       "}\n",
       ".gr {\n",
       "    border-right-style: solid;\n",
       "    border-left-style: dashed;\n",
       "}\n",
       ".gl {\n",
       "    border-right-style: dashed;\n",
       "    border-left-style: solid;\n",
       "}\n",
       ".features {\n",
       "    font-family: monospace;\n",
       "    font-size: medium;\n",
       "    font-weight: bold;\n",
       "    color: var(--features);\n",
       "    display: flex;\n",
       "    flex-flow: column nowrap;\n",
       "    justify-content: flex-start;\n",
       "    align-items: flex-start;\n",
       "    align-content: flex-start;\n",
       "    padding: 0.1rem;\n",
       "    margin: 0.1rem;\n",
       "    direction: ltr;\n",
       "    border: var(--meta-width) solid var(--meta-color);\n",
       "    border-radius: var(--meta-width);\n",
       "}\n",
       ".features div,.features span {\n",
       "    padding: 0;\n",
       "    margin: -0.1rem 0;\n",
       "}\n",
       ".features .f {\n",
       "    font-family: sans-serif;\n",
       "    font-size: small;\n",
       "    font-weight: normal;\n",
       "    color: #5555bb;\n",
       "}\n",
       ".features .xft {\n",
       "  color: #000000;\n",
       "  background-color: #eeeeee;\n",
       "  font-size: medium;\n",
       "  margin: 0.1rem 0rem;\n",
       "}\n",
       ".features .xft .f {\n",
       "  color: #000000;\n",
       "  background-color: #eeeeee;\n",
       "  font-size: small;\n",
       "  font-weight: normal;\n",
       "}\n",
       ".section {\n",
       "    font-family: sans-serif;\n",
       "    font-size: small;\n",
       "    font-weight: bold;\n",
       "    color: var(--section);\n",
       "}\n",
       ".structure {\n",
       "    font-family: sans-serif;\n",
       "    font-size: small;\n",
       "    font-weight: bold;\n",
       "    color: var(--structure);\n",
       "}\n",
       ".comments {\n",
       "    display: flex;\n",
       "    justify-content: flex-start;\n",
       "    align-items: flex-start;\n",
       "    align-content: flex-start;\n",
       "    flex-flow: column nowrap;\n",
       "}\n",
       ".nd {\n",
       "    font-family: sans-serif;\n",
       "    font-size: small;\n",
       "    color: var(--node);\n",
       "    vertical-align: super;\n",
       "}\n",
       ".lex {\n",
       "  color: var(--lex-color);;\n",
       "}\n",
       ".children,.children.ltr {\n",
       "    display: flex;\n",
       "    border: 0;\n",
       "    background-color: #ffffff;\n",
       "    justify-content: flex-start;\n",
       "    align-items: flex-start;\n",
       "    align-content: flex-start;\n",
       "}\n",
       ".children.stretch {\n",
       "    align-items: stretch;\n",
       "}\n",
       ".children.hor {\n",
       "    flex-flow: row nowrap;\n",
       "}\n",
       ".children.hor.wrap {\n",
       "    flex-flow: row wrap;\n",
       "}\n",
       ".children.ver {\n",
       "    flex-flow: column nowrap;\n",
       "}\n",
       ".children.ver.wrap {\n",
       "    flex-flow: column wrap;\n",
       "}\n",
       ".contnr {\n",
       "    width: fit-content;\n",
       "    display: flex;\n",
       "    justify-content: flex-start;\n",
       "    align-items: flex-start;\n",
       "    align-content: flex-start;\n",
       "    flex-flow: column nowrap;\n",
       "    background: #ffffff none repeat scroll 0 0;\n",
       "    padding:  0.5rem 0.1rem 0.1rem 0.1rem;\n",
       "    margin: 0.8rem 0.1rem 0.1rem 0.1rem;\n",
       "    border-style: solid;\n",
       "    font-size: small;\n",
       "}\n",
       ".contnr.trm {\n",
       "    background-attachment: local;\n",
       "}\n",
       ".contnr.cnul {\n",
       "    padding:  0;\n",
       "    margin: 0;\n",
       "    border-style: solid;\n",
       "    font-size: xx-small;\n",
       "}\n",
       ".contnr.cnul,.lbl.cnul {\n",
       "    border-color: var(--border-color-nul);\n",
       "    border-width: var(--border-width-nul);\n",
       "    border-radius: var(--border-width-nul);\n",
       "}\n",
       ".contnr.c0,.lbl.c0 {\n",
       "    border-color: var(--border-color0);\n",
       "    border-width: var(--border-width0);\n",
       "    border-radius: var(--border-width0);\n",
       "}\n",
       ".contnr.c1,.lbl.c1 {\n",
       "    border-color: var(--border-color1);\n",
       "    border-width: var(--border-width1);\n",
       "    border-radius: var(--border-width1);\n",
       "}\n",
       ".contnr.c2,.lbl.c2 {\n",
       "    border-color: var(--border-color2);\n",
       "    border-width: var(--border-width2);\n",
       "    border-radius: var(--border-width2);\n",
       "}\n",
       ".contnr.c3,.lbl.c3 {\n",
       "    border-color: var(--border-color3);\n",
       "    border-width: var(--border-width3);\n",
       "    border-radius: var(--border-width3);\n",
       "}\n",
       ".contnr.c4,.lbl.c4 {\n",
       "    border-color: var(--border-color4);\n",
       "    border-width: var(--border-width4);\n",
       "    border-radius: var(--border-width4);\n",
       "}\n",
       ".plain.l,.contnr.l,.contnr.l>.lbl {\n",
       "    border-left-style: dotted\n",
       "}\n",
       ".plain.r,.contnr.r,.contnr.r>.lbl {\n",
       "    border-right-style: dotted\n",
       "}\n",
       ".plain.lno,.contnr.lno,.contnr.lno>.lbl {\n",
       "    border-left-style: none\n",
       "}\n",
       ".plain.rno,.contnr.rno,.contnr.rno>.lbl {\n",
       "    border-right-style: none\n",
       "}\n",
       ".plain.l {\n",
       "    padding-left: 0.2rem;\n",
       "    margin-left: 0.1rem;\n",
       "    border-width: var(--border-width-plain);\n",
       "}\n",
       ".plain.r {\n",
       "    padding-right: 0.2rem;\n",
       "    margin-right: 0.1rem;\n",
       "    border-width: var(--border-width-plain);\n",
       "}\n",
       ".lbl {\n",
       "    font-family: monospace;\n",
       "    margin-top: -1.2rem;\n",
       "    margin-left: 1rem;\n",
       "    background: #ffffff none repeat scroll 0 0;\n",
       "    padding: 0 0.3rem;\n",
       "    border-style: solid;\n",
       "    display: block;\n",
       "    color: var(--label)\n",
       "}\n",
       ".lbl.trm {\n",
       "    background-attachment: local;\n",
       "    margin-top: 0.1rem;\n",
       "    margin-left: 0.1rem;\n",
       "    padding: 0.1rem 0.1rem;\n",
       "    border-style: none;\n",
       "}\n",
       ".lbl.cnul {\n",
       "    font-size: xx-small;\n",
       "}\n",
       ".lbl.c0 {\n",
       "    font-size: small;\n",
       "}\n",
       ".lbl.c1 {\n",
       "    font-size: small;\n",
       "}\n",
       ".lbl.c2 {\n",
       "    font-size: medium;\n",
       "}\n",
       ".lbl.c3 {\n",
       "    font-size: medium;\n",
       "}\n",
       ".lbl.c4 {\n",
       "    font-size: large;\n",
       "}\n",
       ".occs {\n",
       "    font-size: small;\n",
       "}\n",
       "\n",
       "/* PROVENANCE */\n",
       "\n",
       "div.prov {\n",
       "\tmargin: 2rem;\n",
       "\tpadding: 1rem;\n",
       "\tborder: 0.1rem solid var(--fog-rim);\n",
       "}\n",
       "div.pline {\n",
       "\tdisplay: flex;\n",
       "\tflex-flow: row nowrap;\n",
       "\tjustify-content: stretch;\n",
       "\talign-items: baseline;\n",
       "}\n",
       "div.p2line {\n",
       "\tmargin-left: 2em;\n",
       "\tdisplay: flex;\n",
       "\tflex-flow: row nowrap;\n",
       "\tjustify-content: stretch;\n",
       "\talign-items: baseline;\n",
       "}\n",
       "div.psline {\n",
       "\tdisplay: flex;\n",
       "\tflex-flow: row nowrap;\n",
       "\tjustify-content: stretch;\n",
       "\talign-items: baseline;\n",
       "\tbackground-color: var(--gold-mist-back);\n",
       "}\n",
       "div.pname {\n",
       "\tflex: 0 0 5rem;\n",
       "\tfont-weight: bold;\n",
       "}\n",
       "div.pval {\n",
       "    flex: 1 1 auto;\n",
       "}\n",
       "\n",
       ":root {\n",
       "\t--node:               hsla(120, 100%,  20%, 1.0  );\n",
       "\t--label:              hsla(  0, 100%,  20%, 1.0  );\n",
       "\t--section:            hsla(  0, 100%,  25%, 1.0  );\n",
       "\t--structure:          hsla(120, 100%,  25%, 1.0  );\n",
       "\t--features:           hsla(  0,   0%,  30%, 1.0  );\n",
       "  --text-color:         hsla( 60,  80%,  10%, 1.0  );\n",
       "  --lex-color:          hsla(220,  90%,  60%, 1.0  );\n",
       "  --meta-color:         hsla(  0,   0%,  90%, 0.7  );\n",
       "  --meta-width:         0.15rem;\n",
       "  --border-color-nul:   hsla(  0,   0%,  90%, 0.5  );\n",
       "  --border-color-gap:   hsla(  0,  50%,  70%, 1.0  );\n",
       "  --border-color0:      hsla(  0,   0%,  90%, 0.9  );\n",
       "  --border-color1:      hsla(  0,   0%,  80%, 0.9  );\n",
       "  --border-color2:      hsla(  0,   0%,  70%, 0.9  );\n",
       "  --border-color3:      hsla(  0,   0%,  80%, 0.8  );\n",
       "  --border-color4:      hsla(  0,   0%,  60%, 0.9  );\n",
       "  --border-width-nul:   0.1rem;\n",
       "  --border-width-gap:   0.1rem;\n",
       "  --border-width0:      0.1rem;\n",
       "  --border-width1:      0.15rem;\n",
       "  --border-width2:      0.2rem;\n",
       "  --border-width3:      0.3rem;\n",
       "  --border-width4:      0.25rem;\n",
       "  --border-width-plain: 0.1rem;\n",
       "}\n",
       ".hl {\n",
       "  background-color: var(--hl-strong);\n",
       "}\n",
       "span.hl {\n",
       "\tbackground-color: var(--hl-strong);\n",
       "\tborder-width: 0;\n",
       "\tborder-radius: 0.1rem;\n",
       "\tborder-style: solid;\n",
       "}\n",
       "div.contnr.hl,div.lbl.hl {\n",
       "  background-color: var(--hl-strong);\n",
       "}\n",
       "div.contnr.hl {\n",
       "  border-color: var(--hl-rim) ! important;\n",
       "\tborder-width: 0.2rem ! important;\n",
       "}\n",
       "\n",
       "span.hlbx {\n",
       "\tborder-color: var(--hl-rim);\n",
       "\tborder-width: 0.2rem;\n",
       "\tborder-style: solid;\n",
       "\tborder-radius: 0.3rem;\n",
       "  padding: 0.2rem;\n",
       "  margin: 0.2rem;\n",
       "}\n",
       "\n",
       "span.plain {\n",
       "  display: inline-block;\n",
       "  white-space: pre-wrap;\n",
       "}\n",
       "\n",
       ":root {\n",
       "\t--hl-strong:        hsla( 60, 100%,  70%, 0.9  );\n",
       "\t--hl-rim:           hsla( 55,  80%,  50%, 1.0  );\n",
       "}\n",
       "</style>"
      ],
      "text/plain": [
       "<IPython.core.display.HTML object>"
      ]
     },
     "metadata": {},
     "output_type": "display_data"
    },
    {
     "data": {
      "text/html": [
       "<div><a target=\"_blank\" href=\"https://annotation.github.io/text-fabric/cheatsheet.html\" title=\"doc\">names N F E L T S C TF directly usable</a></div>"
      ],
      "text/plain": [
       "<IPython.core.display.HTML object>"
      ]
     },
     "metadata": {},
     "output_type": "display_data"
    }
   ],
   "source": [
    "A = use('athenaeus:clone', checkout=\"clone\", hoist=globals())"
   ]
  },
  {
   "cell_type": "code",
   "execution_count": 21,
   "metadata": {},
   "outputs": [
    {
     "data": {
      "text/markdown": [
       "### _book 265147\n"
      ],
      "text/plain": [
       "<IPython.core.display.Markdown object>"
      ]
     },
     "metadata": {},
     "output_type": "display_data"
    },
    {
     "data": {
      "text/html": [
       "<div class=\" children\"><span class=\"section ltr\">1 1:1</span> <span class=\"plain outer   \" ><span class=\"plain txtu grc \"><span class=\"structure\"><span class=\"nd\">_book</span> Deipnosophistae</span></span></span></div>"
      ],
      "text/plain": [
       "<IPython.core.display.HTML object>"
      ]
     },
     "metadata": {},
     "output_type": "display_data"
    },
    {
     "data": {
      "text/html": [
       "<span class=\"section ltr\">1 1:1</span><div class=\" children\"><div class=\"contnr c4 trm   \" ><div class=\"lbl c4 trm \" ><span class=\"nd\">_book</span> <span class=\"txtu grc\"><span class=\"structure\"><span class=\"nd\">_book</span> Deipnosophistae</span></span></div></div></div>"
      ],
      "text/plain": [
       "<IPython.core.display.HTML object>"
      ]
     },
     "metadata": {},
     "output_type": "display_data"
    },
    {
     "data": {
      "text/markdown": [
       "### head 287484\n"
      ],
      "text/plain": [
       "<IPython.core.display.Markdown object>"
      ]
     },
     "metadata": {},
     "output_type": "display_data"
    },
    {
     "data": {
      "text/html": [
       "<div class=\" children\"><span class=\"section ltr\">1 1:1</span> <span class=\"plain outer   \" ><span class=\"plain txtu grc \"></span></span></div>"
      ],
      "text/plain": [
       "<IPython.core.display.HTML object>"
      ]
     },
     "metadata": {},
     "output_type": "display_data"
    },
    {
     "data": {
      "text/html": [
       "<span class=\"section ltr\">1 1:1</span><div class=\" children\"><div class=\"contnr c2 trm   \" ><div class=\"lbl c2 trm \" ><span class=\"nd\">head</span></div></div></div>"
      ],
      "text/plain": [
       "<IPython.core.display.HTML object>"
      ]
     },
     "metadata": {},
     "output_type": "display_data"
    },
    {
     "data": {
      "text/markdown": [
       "### book 285974\n"
      ],
      "text/plain": [
       "<IPython.core.display.Markdown object>"
      ]
     },
     "metadata": {},
     "output_type": "display_data"
    },
    {
     "data": {
      "text/html": [
       "<div class=\" children\"><span class=\"section ltr\">1</span> <span class=\"plain outer   \" ><span class=\"plain txtu grc \"><span class=\"section\"> </span></span></span></div>"
      ],
      "text/plain": [
       "<IPython.core.display.HTML object>"
      ]
     },
     "metadata": {},
     "output_type": "display_data"
    },
    {
     "data": {
      "text/html": [
       "<span class=\"section ltr\">1</span><div class=\" children\"><div class=\"contnr c4 trm   \" ><div class=\"lbl c4 trm \" ><span class=\"nd\">book</span> <span class=\"txtu grc\"><span class=\"section\">1</span></span></div></div></div>"
      ],
      "text/plain": [
       "<IPython.core.display.HTML object>"
      ]
     },
     "metadata": {},
     "output_type": "display_data"
    },
    {
     "data": {
      "text/markdown": [
       "### hi 287485\n"
      ],
      "text/plain": [
       "<IPython.core.display.Markdown object>"
      ]
     },
     "metadata": {},
     "output_type": "display_data"
    },
    {
     "data": {
      "text/html": [
       "<div class=\" children\"><span class=\"section ltr\">2 52:1411</span> <span class=\"plain outer   \" ><span class=\"plain txtu grc \"></span></span></div>"
      ],
      "text/plain": [
       "<IPython.core.display.HTML object>"
      ]
     },
     "metadata": {},
     "output_type": "display_data"
    },
    {
     "data": {
      "text/html": [
       "<span class=\"section ltr\">2 52:1411</span><div class=\" children\"><div class=\"contnr c2 trm   \" ><div class=\"lbl c2 trm \" ><span class=\"nd\">hi</span></div></div></div>"
      ],
      "text/plain": [
       "<IPython.core.display.HTML object>"
      ]
     },
     "metadata": {},
     "output_type": "display_data"
    },
    {
     "data": {
      "text/markdown": [
       "### cit 287317\n"
      ],
      "text/plain": [
       "<IPython.core.display.Markdown object>"
      ]
     },
     "metadata": {},
     "output_type": "display_data"
    },
    {
     "data": {
      "text/html": [
       "<div class=\" children\"><span class=\"section ltr\">1 2:9</span> <span class=\"plain outer   \" ><span class=\"plain txtu grc \"></span></span></div>"
      ],
      "text/plain": [
       "<IPython.core.display.HTML object>"
      ]
     },
     "metadata": {},
     "output_type": "display_data"
    },
    {
     "data": {
      "text/html": [
       "<span class=\"section ltr\">1 2:9</span><div class=\" children\"><div class=\"contnr c2 trm   \" ><div class=\"lbl c2 trm \" ><span class=\"nd\">cit</span></div></div></div>"
      ],
      "text/plain": [
       "<IPython.core.display.HTML object>"
      ]
     },
     "metadata": {},
     "output_type": "display_data"
    },
    {
     "data": {
      "text/markdown": [
       "### num 298830\n"
      ],
      "text/plain": [
       "<IPython.core.display.Markdown object>"
      ]
     },
     "metadata": {},
     "output_type": "display_data"
    },
    {
     "data": {
      "text/html": [
       "<div class=\" children\"><span class=\"section ltr\">1 19:182</span> <span class=\"plain outer   \" ><span class=\"plain txtu grc \"></span></span></div>"
      ],
      "text/plain": [
       "<IPython.core.display.HTML object>"
      ]
     },
     "metadata": {},
     "output_type": "display_data"
    },
    {
     "data": {
      "text/html": [
       "<span class=\"section ltr\">1 19:182</span><div class=\" children\"><div class=\"contnr c2 trm   \" ><div class=\"lbl c2 trm \" ><span class=\"nd\">num</span></div></div></div>"
      ],
      "text/plain": [
       "<IPython.core.display.HTML object>"
      ]
     },
     "metadata": {},
     "output_type": "display_data"
    },
    {
     "data": {
      "text/markdown": [
       "### add 279921\n"
      ],
      "text/plain": [
       "<IPython.core.display.Markdown object>"
      ]
     },
     "metadata": {},
     "output_type": "display_data"
    },
    {
     "data": {
      "text/html": [
       "<div class=\" children\"><span class=\"section ltr\">1 1:3</span> <span class=\"plain outer   \" ><span class=\"plain txtu grc \"></span></span></div>"
      ],
      "text/plain": [
       "<IPython.core.display.HTML object>"
      ]
     },
     "metadata": {},
     "output_type": "display_data"
    },
    {
     "data": {
      "text/html": [
       "<span class=\"section ltr\">1 1:3</span><div class=\" children\"><div class=\"contnr c2 trm   \" ><div class=\"lbl c2 trm \" ><span class=\"nd\">add</span></div></div></div>"
      ],
      "text/plain": [
       "<IPython.core.display.HTML object>"
      ]
     },
     "metadata": {},
     "output_type": "display_data"
    },
    {
     "data": {
      "text/markdown": [
       "### chapter 285989\n"
      ],
      "text/plain": [
       "<IPython.core.display.Markdown object>"
      ]
     },
     "metadata": {},
     "output_type": "display_data"
    },
    {
     "data": {
      "text/html": [
       "<div class=\" children\"><span class=\"section ltr\">1 1</span> <span class=\"plain outer   \" ><span class=\"plain txtu grc \"><span class=\"section\"> </span></span></span></div>"
      ],
      "text/plain": [
       "<IPython.core.display.HTML object>"
      ]
     },
     "metadata": {},
     "output_type": "display_data"
    },
    {
     "data": {
      "text/html": [
       "<span class=\"section ltr\">1 1</span><div class=\" children\"><div class=\"contnr c4 trm   \" ><div class=\"lbl c4 trm \" ><span class=\"nd\">chapter</span> <span class=\"txtu grc\"><span class=\"section\">1 1</span></span></div></div></div>"
      ],
      "text/plain": [
       "<IPython.core.display.HTML object>"
      ]
     },
     "metadata": {},
     "output_type": "display_data"
    },
    {
     "data": {
      "text/markdown": [
       "### pb 300676\n"
      ],
      "text/plain": [
       "<IPython.core.display.Markdown object>"
      ]
     },
     "metadata": {},
     "output_type": "display_data"
    },
    {
     "data": {
      "text/html": [
       "<div class=\" children\"><span class=\"section ltr\">1 1:1</span> <span class=\"plain outer   \" ><span class=\"plain txtu grc \"></span></span></div>"
      ],
      "text/plain": [
       "<IPython.core.display.HTML object>"
      ]
     },
     "metadata": {},
     "output_type": "display_data"
    },
    {
     "data": {
      "text/html": [
       "<span class=\"section ltr\">1 1:1</span><div class=\" children\"><div class=\"contnr c1 trm   \" ><div class=\"lbl c1 trm \" ><span class=\"nd\">pb</span></div></div></div>"
      ],
      "text/plain": [
       "<IPython.core.display.HTML object>"
      ]
     },
     "metadata": {},
     "output_type": "display_data"
    },
    {
     "data": {
      "text/markdown": [
       "### p 299105\n"
      ],
      "text/plain": [
       "<IPython.core.display.Markdown object>"
      ]
     },
     "metadata": {},
     "output_type": "display_data"
    },
    {
     "data": {
      "text/html": [
       "<div class=\" children\"><span class=\"section ltr\">1 1:1</span> <span class=\"plain outer   \" ><span class=\"plain txtu grc \"></span></span></div>"
      ],
      "text/plain": [
       "<IPython.core.display.HTML object>"
      ]
     },
     "metadata": {},
     "output_type": "display_data"
    },
    {
     "data": {
      "text/html": [
       "<span class=\"section ltr\">1 1:1</span><div class=\" children\"><div class=\"contnr c1 trm   \" ><div class=\"lbl c1 trm \" ><span class=\"nd\">p</span></div></div></div>"
      ],
      "text/plain": [
       "<IPython.core.display.HTML object>"
      ]
     },
     "metadata": {},
     "output_type": "display_data"
    },
    {
     "data": {
      "text/markdown": [
       "### quote 302225\n"
      ],
      "text/plain": [
       "<IPython.core.display.Markdown object>"
      ]
     },
     "metadata": {},
     "output_type": "display_data"
    },
    {
     "data": {
      "text/html": [
       "<div class=\" children\"><span class=\"section ltr\">1 2:9</span> <span class=\"plain outer   \" ><span class=\"plain txtu grc \"></span></span></div>"
      ],
      "text/plain": [
       "<IPython.core.display.HTML object>"
      ]
     },
     "metadata": {},
     "output_type": "display_data"
    },
    {
     "data": {
      "text/html": [
       "<span class=\"section ltr\">1 2:9</span><div class=\" children\"><div class=\"contnr c1 trm   \" ><div class=\"lbl c1 trm \" ><span class=\"nd\">quote</span></div></div></div>"
      ],
      "text/plain": [
       "<IPython.core.display.HTML object>"
      ]
     },
     "metadata": {},
     "output_type": "display_data"
    },
    {
     "data": {
      "text/markdown": [
       "### bibl 280710\n"
      ],
      "text/plain": [
       "<IPython.core.display.Markdown object>"
      ]
     },
     "metadata": {},
     "output_type": "display_data"
    },
    {
     "data": {
      "text/html": [
       "<div class=\" children\"><span class=\"section ltr\">1 2:9</span> <span class=\"plain outer   \" ><span class=\"plain txtu grc \"></span></span></div>"
      ],
      "text/plain": [
       "<IPython.core.display.HTML object>"
      ]
     },
     "metadata": {},
     "output_type": "display_data"
    },
    {
     "data": {
      "text/html": [
       "<span class=\"section ltr\">1 2:9</span><div class=\" children\"><div class=\"contnr c1 trm   \" ><div class=\"lbl c1 trm \" ><span class=\"nd\">bibl</span></div></div></div>"
      ],
      "text/plain": [
       "<IPython.core.display.HTML object>"
      ]
     },
     "metadata": {},
     "output_type": "display_data"
    },
    {
     "data": {
      "text/markdown": [
       "### l 287563\n"
      ],
      "text/plain": [
       "<IPython.core.display.Markdown object>"
      ]
     },
     "metadata": {},
     "output_type": "display_data"
    },
    {
     "data": {
      "text/html": [
       "<div class=\" children\"><span class=\"section ltr\">1 3:16</span> <span class=\"plain outer   \" ><span class=\"plain txtu grc \"></span></span></div>"
      ],
      "text/plain": [
       "<IPython.core.display.HTML object>"
      ]
     },
     "metadata": {},
     "output_type": "display_data"
    },
    {
     "data": {
      "text/html": [
       "<span class=\"section ltr\">1 3:16</span><div class=\" children\"><div class=\"contnr c1 trm   \" ><div class=\"lbl c1 trm \" ><span class=\"nd\">l</span></div></div></div>"
      ],
      "text/plain": [
       "<IPython.core.display.HTML object>"
      ]
     },
     "metadata": {},
     "output_type": "display_data"
    },
    {
     "data": {
      "text/markdown": [
       "### _sentence 265148\n"
      ],
      "text/plain": [
       "<IPython.core.display.Markdown object>"
      ]
     },
     "metadata": {},
     "output_type": "display_data"
    },
    {
     "data": {
      "text/html": [
       "<div class=\" children\"><span class=\"section ltr\">1 1:1</span> <span class=\"plain outer   \" ><span class=\"plain txtu grc \"></span><span class=\"plain    \" ><span class=\"txtu grc\">Ἀθήναιος </span></span><span class=\"plain    \" ><span class=\"txtu grc\">μὲν </span></span><span class=\"plain    \" ><span class=\"txtu grc\">ὁ </span></span><span class=\"plain    \" ><span class=\"txtu grc\">τῆς </span></span><span class=\"plain    \" ><span class=\"txtu grc\">βίβλου </span></span><span class=\"plain    \" ><span class=\"txtu grc\">πατήρ· </span></span><span class=\"plain    \" ><span class=\"txtu grc\">ποιεῖται </span></span><span class=\"plain    \" ><span class=\"txtu grc\">δὲ </span></span><span class=\"plain    \" ><span class=\"txtu grc\">τὸν </span></span><span class=\"plain    \" ><span class=\"txtu grc\">λόγον </span></span><span class=\"plain    \" ><span class=\"txtu grc\">πρὸς </span></span><span class=\"plain    \" ><span class=\"txtu grc\">Τιμοκράτην· </span></span><span class=\"plain    \" ><span class=\"txtu grc\">Δειπνοσοφιστὴς </span></span><span class=\"plain    \" ><span class=\"txtu grc\">δὲ </span></span><span class=\"plain    \" ><span class=\"txtu grc\">ταύτῃ </span></span><span class=\"plain    \" ><span class=\"txtu grc\">τὸ </span></span><span class=\"plain    \" ><span class=\"txtu grc\">ὄνομα. </span></span></span></div>"
      ],
      "text/plain": [
       "<IPython.core.display.HTML object>"
      ]
     },
     "metadata": {},
     "output_type": "display_data"
    },
    {
     "data": {
      "text/html": [
       "<span class=\"section ltr\">1 1:1</span><div class=\" children\"><div class=\"contnr c3    \" ><div class=\"lbl c3  \" ><span class=\"nd\">_sentence</span></div><div class=\"children hor wrap \"><div class=\"contnr c0 trm   \" ><div class=\"lbl c0 trm \" ><span class=\"txtu grc\">Ἀθήναιος </span></div></div><div class=\"contnr c0 trm   \" ><div class=\"lbl c0 trm \" ><span class=\"txtu grc\">μὲν </span></div></div><div class=\"contnr c0 trm   \" ><div class=\"lbl c0 trm \" ><span class=\"txtu grc\">ὁ </span></div></div><div class=\"contnr c0 trm   \" ><div class=\"lbl c0 trm \" ><span class=\"txtu grc\">τῆς </span></div></div><div class=\"contnr c0 trm   \" ><div class=\"lbl c0 trm \" ><span class=\"txtu grc\">βίβλου </span></div></div><div class=\"contnr c0 trm   \" ><div class=\"lbl c0 trm \" ><span class=\"txtu grc\">πατήρ· </span></div></div><div class=\"contnr c0 trm   \" ><div class=\"lbl c0 trm \" ><span class=\"txtu grc\">ποιεῖται </span></div></div><div class=\"contnr c0 trm   \" ><div class=\"lbl c0 trm \" ><span class=\"txtu grc\">δὲ </span></div></div><div class=\"contnr c0 trm   \" ><div class=\"lbl c0 trm \" ><span class=\"txtu grc\">τὸν </span></div></div><div class=\"contnr c0 trm   \" ><div class=\"lbl c0 trm \" ><span class=\"txtu grc\">λόγον </span></div></div><div class=\"contnr c0 trm   \" ><div class=\"lbl c0 trm \" ><span class=\"txtu grc\">πρὸς </span></div></div><div class=\"contnr c0 trm   \" ><div class=\"lbl c0 trm \" ><span class=\"txtu grc\">Τιμοκράτην· </span></div></div><div class=\"contnr c0 trm   \" ><div class=\"lbl c0 trm \" ><span class=\"txtu grc\">Δειπνοσοφιστὴς </span></div></div><div class=\"contnr c0 trm   \" ><div class=\"lbl c0 trm \" ><span class=\"txtu grc\">δὲ </span></div></div><div class=\"contnr c0 trm   \" ><div class=\"lbl c0 trm \" ><span class=\"txtu grc\">ταύτῃ </span></div></div><div class=\"contnr c0 trm   \" ><div class=\"lbl c0 trm \" ><span class=\"txtu grc\">τὸ </span></div></div><div class=\"contnr c0 trm   \" ><div class=\"lbl c0 trm \" ><span class=\"txtu grc\">ὄνομα. </span></div></div></div></div></div>"
      ],
      "text/plain": [
       "<IPython.core.display.HTML object>"
      ]
     },
     "metadata": {},
     "output_type": "display_data"
    },
    {
     "data": {
      "text/markdown": [
       "### word 1\n"
      ],
      "text/plain": [
       "<IPython.core.display.Markdown object>"
      ]
     },
     "metadata": {},
     "output_type": "display_data"
    },
    {
     "data": {
      "text/html": [
       "<div class=\" children\"><span class=\"section ltr\">1 1:1</span> <span class=\"plain outer   \" ><span class=\"txtu grc\">Ἀθήναιος </span></span></div>"
      ],
      "text/plain": [
       "<IPython.core.display.HTML object>"
      ]
     },
     "metadata": {},
     "output_type": "display_data"
    },
    {
     "data": {
      "text/html": [
       "<span class=\"section ltr\">1 1:1</span><div class=\" children\"><div class=\"contnr c0 trm   \" ><div class=\"lbl c0 trm \" ><span class=\"txtu grc\">Ἀθήναιος </span></div></div></div>"
      ],
      "text/plain": [
       "<IPython.core.display.HTML object>"
      ]
     },
     "metadata": {},
     "output_type": "display_data"
    }
   ],
   "source": [
    "typeShow(A)"
   ]
  },
  {
   "cell_type": "code",
   "execution_count": 7,
   "metadata": {},
   "outputs": [
    {
     "data": {
      "text/markdown": [
       "<details ><summary><b>athenaeus</b> <i>app context</i></summary>\n",
       "\n",
       "<details ><summary>1. afterChild</summary>\n",
       "\n",
       "{}\n",
       "\n",
       "</details>\n",
       "<details ><summary>2. allowedBaseTypes</summary>\n",
       "\n",
       "\n",
       "1.  `_book`\n",
       "2.  `head`\n",
       "3.  `hi`\n",
       "4.  `cit`\n",
       "5.  `num`\n",
       "6.  `add`\n",
       "7.  `pb`\n",
       "8.  `p`\n",
       "9.  `quote`\n",
       "10. `bibl`\n",
       "11. `l`\n",
       "\n",
       "</details>\n",
       "<details ><summary>3. apiVersion</summary>\n",
       "\n",
       "`2`\n",
       "\n",
       "</details>\n",
       "<details ><summary>4. appName</summary>\n",
       "\n",
       "`athenaeus`\n",
       "\n",
       "</details>\n",
       "<details ><summary>5. appPath</summary>\n",
       "\n",
       "`/Users/dirk/github/annotation/app-athenaeus/code`\n",
       "\n",
       "</details>\n",
       "<details ><summary>6. baseTypes</summary>\n",
       "\n",
       "\n",
       "1.  `word`\n",
       "\n",
       "</details>\n",
       "<details ><summary>7. browseContentPretty</summary>\n",
       "\n",
       "False\n",
       "\n",
       "</details>\n",
       "<details ><summary>8. browseNavLevel</summary>\n",
       "\n",
       "`2`\n",
       "\n",
       "</details>\n",
       "<details ><summary>9. charText</summary>\n",
       "\n",
       "`How TF features represent text`\n",
       "\n",
       "</details>\n",
       "<details ><summary>10. charUrl</summary>\n",
       "\n",
       "`https://annotation.github.io/text-fabric/writing/greek.html`\n",
       "\n",
       "</details>\n",
       "<details ><summary>11. childType</summary>\n",
       "\n",
       "\n",
       "*   **`_book`**: \n",
       "    *   `head`\n",
       "*   **`_sentence`**: \n",
       "    *   `word`\n",
       "*   **`add`**: \n",
       "    *   `chapter`\n",
       "*   **`bibl`**: \n",
       "    *   `l`\n",
       "*   **`book`**: \n",
       "    *   `head`\n",
       "*   **`chapter`**: \n",
       "    *   `book`\n",
       "*   **`cit`**: \n",
       "    *   `num`\n",
       "*   **`head`**: \n",
       "    *   `book`\n",
       "*   **`hi`**: \n",
       "    *   `cit`\n",
       "*   **`l`**: \n",
       "    *   `_sentence`\n",
       "    *   `word`\n",
       "*   **`num`**: \n",
       "    *   `add`\n",
       "*   **`p`**: \n",
       "    *   `quote`\n",
       "*   **`pb`**: \n",
       "    *   `p`\n",
       "*   **`quote`**: \n",
       "    *   `bibl`\n",
       "\n",
       "</details>\n",
       "<details ><summary>12. commit</summary>\n",
       "\n",
       "None\n",
       "\n",
       "</details>\n",
       "<details ><summary>13. condenseType</summary>\n",
       "\n",
       "`_sentence`\n",
       "\n",
       "</details>\n",
       "<details ><summary>14. condenseTypes</summary>\n",
       "\n",
       "\n",
       "1.  \n",
       "    *   `_book`\n",
       "    *   `265146.0`\n",
       "    *   `265147`\n",
       "    *   `265147`\n",
       "2.  \n",
       "    *   `head`\n",
       "    *   `265146.0`\n",
       "    *   `287484`\n",
       "    *   `287484`\n",
       "3.  \n",
       "    *   `book`\n",
       "    *   `17676.4`\n",
       "    *   `285974`\n",
       "    *   `285988`\n",
       "4.  \n",
       "    *   `hi`\n",
       "    *   `3114.9358974358975`\n",
       "    *   `287485`\n",
       "    *   `287562`\n",
       "5.  \n",
       "    *   `cit`\n",
       "    *   `1586.0179640718563`\n",
       "    *   `287317`\n",
       "    *   `287483`\n",
       "6.  \n",
       "    *   `num`\n",
       "    *   `949.7745454545454`\n",
       "    *   `298830`\n",
       "    *   `299104`\n",
       "7.  \n",
       "    *   `add`\n",
       "    *   `335.9391634980989`\n",
       "    *   `279921`\n",
       "    *   `280709`\n",
       "8.  \n",
       "    *   `chapter`\n",
       "    *   `199.65813253012047`\n",
       "    *   `285989`\n",
       "    *   `287316`\n",
       "9.  \n",
       "    *   `pb`\n",
       "    *   `171.18463524854744`\n",
       "    *   `300676`\n",
       "    *   `302224`\n",
       "10. \n",
       "    *   `p`\n",
       "    *   `168.78421387651179`\n",
       "    *   `299105`\n",
       "    *   `300675`\n",
       "11. \n",
       "    *   `quote`\n",
       "    *   `84.7364043506078`\n",
       "    *   `302225`\n",
       "    *   `305350`\n",
       "12. \n",
       "    *   `bibl`\n",
       "    *   `51.0862462006079`\n",
       "    *   `280710`\n",
       "    *   `285973`\n",
       "13. \n",
       "    *   `l`\n",
       "    *   `23.49968935830301`\n",
       "    *   `287563`\n",
       "    *   `298829`\n",
       "14. \n",
       "    *   `_sentence`\n",
       "    *   `17.94801326744737`\n",
       "    *   `265148`\n",
       "    *   `279920`\n",
       "15. \n",
       "    *   `word`\n",
       "    *   `1`\n",
       "    *   `1`\n",
       "    *   `265146`\n",
       "\n",
       "</details>\n",
       "<details ><summary>15. corpus</summary>\n",
       "\n",
       "`The Deipnosophistae by Athenaeus`\n",
       "\n",
       "</details>\n",
       "<details ><summary>16. css</summary>\n",
       "\n",
       "*empty*\n",
       "\n",
       "</details>\n",
       "<details ><summary>17. dataDisplay</summary>\n",
       "\n",
       "{}\n",
       "\n",
       "</details>\n",
       "<details ><summary>18. defaultClsOrig</summary>\n",
       "\n",
       "`txtu grc`\n",
       "\n",
       "</details>\n",
       "<details ><summary>19. defaultFormat</summary>\n",
       "\n",
       "`text-orig-full`\n",
       "\n",
       "</details>\n",
       "<details ><summary>20. descendantType</summary>\n",
       "\n",
       "\n",
       "*   **`_book`**: \n",
       "    *   `_book`\n",
       "    *   `book`\n",
       "    *   `head`\n",
       "*   **`_sentence`**: \n",
       "    *   `_sentence`\n",
       "    *   `word`\n",
       "*   **`add`**: \n",
       "    *   `add`\n",
       "    *   `book`\n",
       "    *   `chapter`\n",
       "    *   `head`\n",
       "*   **`bibl`**: \n",
       "    *   `_sentence`\n",
       "    *   `bibl`\n",
       "    *   `l`\n",
       "    *   `word`\n",
       "*   **`book`**: \n",
       "    *   `book`\n",
       "    *   `head`\n",
       "*   **`chapter`**: \n",
       "    *   `book`\n",
       "    *   `chapter`\n",
       "    *   `head`\n",
       "*   **`cit`**: \n",
       "    *   `add`\n",
       "    *   `book`\n",
       "    *   `chapter`\n",
       "    *   `cit`\n",
       "    *   `head`\n",
       "    *   `num`\n",
       "*   **`head`**: \n",
       "    *   `book`\n",
       "    *   `head`\n",
       "*   **`hi`**: \n",
       "    *   `add`\n",
       "    *   `book`\n",
       "    *   `chapter`\n",
       "    *   `cit`\n",
       "    *   `head`\n",
       "    *   `hi`\n",
       "    *   `num`\n",
       "*   **`l`**: \n",
       "    *   `_sentence`\n",
       "    *   `l`\n",
       "    *   `word`\n",
       "*   **`num`**: \n",
       "    *   `add`\n",
       "    *   `book`\n",
       "    *   `chapter`\n",
       "    *   `head`\n",
       "    *   `num`\n",
       "*   **`p`**: \n",
       "    *   `_sentence`\n",
       "    *   `bibl`\n",
       "    *   `l`\n",
       "    *   `p`\n",
       "    *   `quote`\n",
       "    *   `word`\n",
       "*   **`pb`**: \n",
       "    *   `_sentence`\n",
       "    *   `bibl`\n",
       "    *   `l`\n",
       "    *   `p`\n",
       "    *   `pb`\n",
       "    *   `quote`\n",
       "    *   `word`\n",
       "*   **`quote`**: \n",
       "    *   `_sentence`\n",
       "    *   `bibl`\n",
       "    *   `l`\n",
       "    *   `quote`\n",
       "    *   `word`\n",
       "\n",
       "</details>\n",
       "<details ><summary>21. direction</summary>\n",
       "\n",
       "`ltr`\n",
       "\n",
       "</details>\n",
       "<details ><summary>22. docBase</summary>\n",
       "\n",
       "`https://github.com/pthu/athenaeus/blob/master/docs`\n",
       "\n",
       "</details>\n",
       "<details ><summary>23. docExt</summary>\n",
       "\n",
       "`.md`\n",
       "\n",
       "</details>\n",
       "<details ><summary>24. docPage</summary>\n",
       "\n",
       "`home`\n",
       "\n",
       "</details>\n",
       "<details ><summary>25. docRoot</summary>\n",
       "\n",
       "`https://github.com`\n",
       "\n",
       "</details>\n",
       "<details ><summary>26. docUrl</summary>\n",
       "\n",
       "`https://github.com/pthu/athenaeus/blob/master/docs/home.md`\n",
       "\n",
       "</details>\n",
       "<details ><summary>27. docs</summary>\n",
       "\n",
       "\n",
       "*   **`charText`**: `How TF features represent text`\n",
       "*   **`charUrl`**: `https://annotation.github.io/text-fabric/writing/greek.html`\n",
       "*   **`docBase`**: `https://github.com/pthu/athenaeus/blob/master/docs`\n",
       "*   **`docExt`**: `.md`\n",
       "*   **`docPage`**: `home`\n",
       "*   **`docRoot`**: `https://github.com`\n",
       "*   **`docUrl`**: `https://github.com/pthu/athenaeus/blob/master/docs/home.md`\n",
       "*   **`featureBase`**: `https://github.com/pthu/athenaeus/blob/master/docs/features/<feature>.md`\n",
       "*   **`featurePage`**: `home`\n",
       "\n",
       "</details>\n",
       "<details ><summary>28. doi</summary>\n",
       "\n",
       "None\n",
       "\n",
       "</details>\n",
       "<details ><summary>29. exampleSection</summary>\n",
       "\n",
       "`1 1:1`\n",
       "\n",
       "</details>\n",
       "<details ><summary>30. exampleSectionHtml</summary>\n",
       "\n",
       "`<code>1 1:1</code>`\n",
       "\n",
       "</details>\n",
       "<details ><summary>31. excludedFeatures</summary>\n",
       "\n",
       "set()\n",
       "\n",
       "</details>\n",
       "<details ><summary>32. extension</summary>\n",
       "\n",
       "` grc`\n",
       "\n",
       "</details>\n",
       "<details ><summary>33. featureBase</summary>\n",
       "\n",
       "`https://github.com/pthu/athenaeus/blob/master/docs/features/<feature>.md`\n",
       "\n",
       "</details>\n",
       "<details ><summary>34. featurePage</summary>\n",
       "\n",
       "`home`\n",
       "\n",
       "</details>\n",
       "<details ><summary>35. features</summary>\n",
       "\n",
       "\n",
       "*   **`p`**: \n",
       "    *   []\n",
       "    *   {}\n",
       "*   **`word`**: \n",
       "    *   []\n",
       "    *   {}\n",
       "\n",
       "</details>\n",
       "<details ><summary>36. featuresBare</summary>\n",
       "\n",
       "\n",
       "*   **`p`**: \n",
       "    *   []\n",
       "    *   {}\n",
       "*   **`word`**: \n",
       "    *   \n",
       "        *   `beta_plain`\n",
       "    *   {}\n",
       "\n",
       "</details>\n",
       "<details ><summary>37. formatCls</summary>\n",
       "\n",
       "\n",
       "*   **`text-orig-beta-plain`**: `txtu grc`\n",
       "*   **`text-orig-full`**: `txtu grc`\n",
       "*   **`text-orig-lemma`**: `txtu grc`\n",
       "*   **`text-orig-main`**: `txtu grc`\n",
       "*   **`text-orig-norm`**: `txtu grc`\n",
       "*   **`text-orig-plain`**: `txtu grc`\n",
       "\n",
       "</details>\n",
       "<details ><summary>38. formatHtml</summary>\n",
       "\n",
       "set()\n",
       "\n",
       "</details>\n",
       "<details ><summary>39. formatMethod</summary>\n",
       "\n",
       "{}\n",
       "\n",
       "</details>\n",
       "<details ><summary>40. formatStyle</summary>\n",
       "\n",
       "\n",
       "*   **`normal`**: `txtn`\n",
       "*   **`orig`**: `txtu grc`\n",
       "*   **`phono`**: `txtp`\n",
       "*   **`source`**: `txto`\n",
       "*   **`trans`**: `txtt`\n",
       "\n",
       "</details>\n",
       "<details ><summary>41. graphicsRelative</summary>\n",
       "\n",
       "None\n",
       "\n",
       "</details>\n",
       "<details ><summary>42. hasGraphics</summary>\n",
       "\n",
       "set()\n",
       "\n",
       "</details>\n",
       "<details ><summary>43. interfaceDefaults</summary>\n",
       "\n",
       "\n",
       "*   **`lineNumbers`**: None\n",
       "*   **`plainGaps`**: `True`\n",
       "*   **`prettyTypes`**: `True`\n",
       "*   **`queryFeatures`**: `True`\n",
       "*   **`showGraphics`**: None\n",
       "*   **`showHidden`**: None\n",
       "*   **`standardFeatures`**: False\n",
       "*   **`withNodes`**: False\n",
       "*   **`withTypes`**: False\n",
       "\n",
       "</details>\n",
       "<details ><summary>44. isCompatible</summary>\n",
       "\n",
       "`True`\n",
       "\n",
       "</details>\n",
       "<details ><summary>45. isHidden</summary>\n",
       "\n",
       "set()\n",
       "\n",
       "</details>\n",
       "<details ><summary>46. labels</summary>\n",
       "\n",
       "\n",
       "*   **`_book`**: \n",
       "    *   `True`\n",
       "    *   ()\n",
       "*   **`_sentence`**: \n",
       "    *   *empty*\n",
       "    *   ()\n",
       "*   **`add`**: \n",
       "    *   *empty*\n",
       "    *   ()\n",
       "*   **`bibl`**: \n",
       "    *   *empty*\n",
       "    *   ()\n",
       "*   **`book`**: \n",
       "    *   `True`\n",
       "    *   ()\n",
       "*   **`chapter`**: \n",
       "    *   `True`\n",
       "    *   ()\n",
       "*   **`cit`**: \n",
       "    *   *empty*\n",
       "    *   ()\n",
       "*   **`head`**: \n",
       "    *   *empty*\n",
       "    *   ()\n",
       "*   **`hi`**: \n",
       "    *   *empty*\n",
       "    *   ()\n",
       "*   **`l`**: \n",
       "    *   *empty*\n",
       "    *   ()\n",
       "*   **`num`**: \n",
       "    *   *empty*\n",
       "    *   ()\n",
       "*   **`p`**: \n",
       "    *   `{p}`\n",
       "    *   \n",
       "        *   `p`\n",
       "*   **`pb`**: \n",
       "    *   *empty*\n",
       "    *   ()\n",
       "*   **`quote`**: \n",
       "    *   *empty*\n",
       "    *   ()\n",
       "*   **`word`**: \n",
       "    *   `True`\n",
       "    *   ()\n",
       "\n",
       "</details>\n",
       "<details ><summary>47. language</summary>\n",
       "\n",
       "`greek`\n",
       "\n",
       "</details>\n",
       "<details ><summary>48. levelCls</summary>\n",
       "\n",
       "\n",
       "*   **`_book`**: \n",
       "    *   **`children`**: `children hor wrap`\n",
       "    *   **`container`**: `contnr c4`\n",
       "    *   **`label`**: `lbl c4`\n",
       "*   **`_sentence`**: \n",
       "    *   **`children`**: `children hor wrap`\n",
       "    *   **`container`**: `contnr c3`\n",
       "    *   **`label`**: `lbl c3`\n",
       "*   **`add`**: \n",
       "    *   **`children`**: `children hor wrap`\n",
       "    *   **`container`**: `contnr c2`\n",
       "    *   **`label`**: `lbl c2`\n",
       "*   **`bibl`**: \n",
       "    *   **`children`**: `children hor wrap`\n",
       "    *   **`container`**: `contnr c1`\n",
       "    *   **`label`**: `lbl c1`\n",
       "*   **`book`**: \n",
       "    *   **`children`**: `children hor wrap`\n",
       "    *   **`container`**: `contnr c4`\n",
       "    *   **`label`**: `lbl c4`\n",
       "*   **`chapter`**: \n",
       "    *   **`children`**: `children hor wrap`\n",
       "    *   **`container`**: `contnr c4`\n",
       "    *   **`label`**: `lbl c4`\n",
       "*   **`cit`**: \n",
       "    *   **`children`**: `children hor wrap`\n",
       "    *   **`container`**: `contnr c2`\n",
       "    *   **`label`**: `lbl c2`\n",
       "*   **`head`**: \n",
       "    *   **`children`**: `children hor wrap`\n",
       "    *   **`container`**: `contnr c2`\n",
       "    *   **`label`**: `lbl c2`\n",
       "*   **`hi`**: \n",
       "    *   **`children`**: `children hor wrap`\n",
       "    *   **`container`**: `contnr c2`\n",
       "    *   **`label`**: `lbl c2`\n",
       "*   **`l`**: \n",
       "    *   **`children`**: `children hor wrap`\n",
       "    *   **`container`**: `contnr c1`\n",
       "    *   **`label`**: `lbl c1`\n",
       "*   **`num`**: \n",
       "    *   **`children`**: `children hor wrap`\n",
       "    *   **`container`**: `contnr c2`\n",
       "    *   **`label`**: `lbl c2`\n",
       "*   **`p`**: \n",
       "    *   **`children`**: `children hor wrap`\n",
       "    *   **`container`**: `contnr c1`\n",
       "    *   **`label`**: `lbl c1`\n",
       "*   **`pb`**: \n",
       "    *   **`children`**: `children hor wrap`\n",
       "    *   **`container`**: `contnr c1`\n",
       "    *   **`label`**: `lbl c1`\n",
       "*   **`quote`**: \n",
       "    *   **`children`**: `children hor wrap`\n",
       "    *   **`container`**: `contnr c1`\n",
       "    *   **`label`**: `lbl c1`\n",
       "*   **`word`**: \n",
       "    *   **`children`**: *empty*\n",
       "    *   **`container`**: `contnr c0`\n",
       "    *   **`label`**: `lbl c0`\n",
       "\n",
       "</details>\n",
       "<details ><summary>49. levels</summary>\n",
       "\n",
       "\n",
       "*   **`_book`**: \n",
       "    *   **`flow`**: `hor`\n",
       "    *   **`level`**: `4`\n",
       "    *   **`stretch`**: `True`\n",
       "    *   **`wrap`**: `True`\n",
       "*   **`_sentence`**: \n",
       "    *   **`flow`**: `hor`\n",
       "    *   **`level`**: `3`\n",
       "    *   **`stretch`**: `True`\n",
       "    *   **`wrap`**: `True`\n",
       "*   **`add`**: \n",
       "    *   **`flow`**: `hor`\n",
       "    *   **`level`**: `2`\n",
       "    *   **`stretch`**: `True`\n",
       "    *   **`wrap`**: `True`\n",
       "*   **`bibl`**: \n",
       "    *   **`flow`**: `hor`\n",
       "    *   **`level`**: `1`\n",
       "    *   **`stretch`**: `True`\n",
       "    *   **`wrap`**: `True`\n",
       "*   **`book`**: \n",
       "    *   **`flow`**: `hor`\n",
       "    *   **`level`**: `4`\n",
       "    *   **`stretch`**: `True`\n",
       "    *   **`wrap`**: `True`\n",
       "*   **`chapter`**: \n",
       "    *   **`flow`**: `hor`\n",
       "    *   **`level`**: `4`\n",
       "    *   **`stretch`**: `True`\n",
       "    *   **`wrap`**: `True`\n",
       "*   **`cit`**: \n",
       "    *   **`flow`**: `hor`\n",
       "    *   **`level`**: `2`\n",
       "    *   **`stretch`**: `True`\n",
       "    *   **`wrap`**: `True`\n",
       "*   **`head`**: \n",
       "    *   **`flow`**: `hor`\n",
       "    *   **`level`**: `2`\n",
       "    *   **`stretch`**: `True`\n",
       "    *   **`wrap`**: `True`\n",
       "*   **`hi`**: \n",
       "    *   **`flow`**: `hor`\n",
       "    *   **`level`**: `2`\n",
       "    *   **`stretch`**: `True`\n",
       "    *   **`wrap`**: `True`\n",
       "*   **`l`**: \n",
       "    *   **`flow`**: `hor`\n",
       "    *   **`level`**: `1`\n",
       "    *   **`stretch`**: `True`\n",
       "    *   **`wrap`**: `True`\n",
       "*   **`num`**: \n",
       "    *   **`flow`**: `hor`\n",
       "    *   **`level`**: `2`\n",
       "    *   **`stretch`**: `True`\n",
       "    *   **`wrap`**: `True`\n",
       "*   **`p`**: \n",
       "    *   **`flow`**: `hor`\n",
       "    *   **`level`**: `1`\n",
       "    *   **`stretch`**: `True`\n",
       "    *   **`wrap`**: `True`\n",
       "*   **`pb`**: \n",
       "    *   **`flow`**: `hor`\n",
       "    *   **`level`**: `1`\n",
       "    *   **`stretch`**: `True`\n",
       "    *   **`wrap`**: `True`\n",
       "*   **`quote`**: \n",
       "    *   **`flow`**: `hor`\n",
       "    *   **`level`**: `1`\n",
       "    *   **`stretch`**: `True`\n",
       "    *   **`wrap`**: `True`\n",
       "*   **`word`**: \n",
       "    *   **`flow`**: `ver`\n",
       "    *   **`level`**: 0\n",
       "    *   **`stretch`**: False\n",
       "    *   **`wrap`**: False\n",
       "\n",
       "</details>\n",
       "<details ><summary>50. lexMap</summary>\n",
       "\n",
       "{}\n",
       "\n",
       "</details>\n",
       "<details ><summary>51. lexTypes</summary>\n",
       "\n",
       "set()\n",
       "\n",
       "</details>\n",
       "<details ><summary>52. lineNumberFeature</summary>\n",
       "\n",
       "{}\n",
       "\n",
       "</details>\n",
       "<details ><summary>53. local</summary>\n",
       "\n",
       "`clone`\n",
       "\n",
       "</details>\n",
       "<details ><summary>54. localDir</summary>\n",
       "\n",
       "`/Users/dirk/github/pthu/athenaeus/_temp`\n",
       "\n",
       "</details>\n",
       "<details ><summary>55. moduleSpecs</summary>\n",
       "\n",
       "()\n",
       "\n",
       "</details>\n",
       "<details ><summary>56. noChildren</summary>\n",
       "\n",
       "set()\n",
       "\n",
       "</details>\n",
       "<details ><summary>57. noDescendTypes</summary>\n",
       "\n",
       "set()\n",
       "\n",
       "</details>\n",
       "<details ><summary>58. noneValues</summary>\n",
       "\n",
       "\n",
       "1.  None\n",
       "\n",
       "</details>\n",
       "<details ><summary>59. org</summary>\n",
       "\n",
       "`pthu`\n",
       "\n",
       "</details>\n",
       "<details ><summary>60. plainCustom</summary>\n",
       "\n",
       "{}\n",
       "\n",
       "</details>\n",
       "<details ><summary>61. prettyCustom</summary>\n",
       "\n",
       "{}\n",
       "\n",
       "</details>\n",
       "<details ><summary>62. provenanceSpec</summary>\n",
       "\n",
       "\n",
       "*   **`corpus`**: `The Deipnosophistae by Athenaeus`\n",
       "*   **`doi`**: None\n",
       "*   **`graphicsRelative`**: None\n",
       "*   **`moduleSpecs`**: ()\n",
       "*   **`org`**: `pthu`\n",
       "*   **`relative`**: `Athenaeus/Deipnosophistae/tf`\n",
       "*   **`repo`**: `athenaeus`\n",
       "*   **`version`**: `1.1`\n",
       "*   **`webBase`**: None\n",
       "*   **`webHint`**: None\n",
       "*   **`webLang`**: None\n",
       "*   **`webLexId`**: None\n",
       "*   **`webUrl`**: None\n",
       "*   **`webUrlLex`**: None\n",
       "*   **`zip`**: None\n",
       "\n",
       "</details>\n",
       "<details ><summary>63. relative</summary>\n",
       "\n",
       "`Athenaeus/Deipnosophistae/tf`\n",
       "\n",
       "</details>\n",
       "<details ><summary>64. release</summary>\n",
       "\n",
       "None\n",
       "\n",
       "</details>\n",
       "<details ><summary>65. repo</summary>\n",
       "\n",
       "`athenaeus`\n",
       "\n",
       "</details>\n",
       "<details ><summary>66. sectionSep1</summary>\n",
       "\n",
       "` `\n",
       "\n",
       "</details>\n",
       "<details ><summary>67. sectionSep2</summary>\n",
       "\n",
       "`:`\n",
       "\n",
       "</details>\n",
       "<details ><summary>68. showVerseInTuple</summary>\n",
       "\n",
       "False\n",
       "\n",
       "</details>\n",
       "<details ><summary>69. styles</summary>\n",
       "\n",
       "{}\n",
       "\n",
       "</details>\n",
       "<details ><summary>70. templates</summary>\n",
       "\n",
       "\n",
       "*   **`_book`**: \n",
       "    *   `True`\n",
       "    *   ()\n",
       "*   **`_sentence`**: \n",
       "    *   *empty*\n",
       "    *   ()\n",
       "*   **`add`**: \n",
       "    *   *empty*\n",
       "    *   ()\n",
       "*   **`bibl`**: \n",
       "    *   *empty*\n",
       "    *   ()\n",
       "*   **`book`**: \n",
       "    *   `True`\n",
       "    *   ()\n",
       "*   **`chapter`**: \n",
       "    *   `True`\n",
       "    *   ()\n",
       "*   **`cit`**: \n",
       "    *   *empty*\n",
       "    *   ()\n",
       "*   **`head`**: \n",
       "    *   *empty*\n",
       "    *   ()\n",
       "*   **`hi`**: \n",
       "    *   *empty*\n",
       "    *   ()\n",
       "*   **`l`**: \n",
       "    *   *empty*\n",
       "    *   ()\n",
       "*   **`num`**: \n",
       "    *   *empty*\n",
       "    *   ()\n",
       "*   **`p`**: \n",
       "    *   *empty*\n",
       "    *   ()\n",
       "*   **`pb`**: \n",
       "    *   *empty*\n",
       "    *   ()\n",
       "*   **`quote`**: \n",
       "    *   *empty*\n",
       "    *   ()\n",
       "*   **`word`**: \n",
       "    *   `True`\n",
       "    *   ()\n",
       "\n",
       "</details>\n",
       "<details ><summary>71. tfDoc</summary>\n",
       "\n",
       "`https://annotation.github.io/text-fabric`\n",
       "\n",
       "</details>\n",
       "<details ><summary>72. transform</summary>\n",
       "\n",
       "{}\n",
       "\n",
       "</details>\n",
       "<details ><summary>73. typeDisplay</summary>\n",
       "\n",
       "\n",
       "*   **`p`**: \n",
       "    *   **`label`**: `{p}`\n",
       "*   **`word`**: \n",
       "    *   **`featuresBare`**: `beta_plain`\n",
       "\n",
       "</details>\n",
       "<details ><summary>74. urlGh</summary>\n",
       "\n",
       "`https://github.com`\n",
       "\n",
       "</details>\n",
       "<details ><summary>75. urlNb</summary>\n",
       "\n",
       "`https://nbviewer.jupyter.org/github`\n",
       "\n",
       "</details>\n",
       "<details ><summary>76. verseTypes</summary>\n",
       "\n",
       "\n",
       "1.  `_sentence`\n",
       "\n",
       "</details>\n",
       "<details ><summary>77. version</summary>\n",
       "\n",
       "`1.1`\n",
       "\n",
       "</details>\n",
       "<details ><summary>78. webBase</summary>\n",
       "\n",
       "None\n",
       "\n",
       "</details>\n",
       "<details ><summary>79. webHint</summary>\n",
       "\n",
       "None\n",
       "\n",
       "</details>\n",
       "<details ><summary>80. webLang</summary>\n",
       "\n",
       "None\n",
       "\n",
       "</details>\n",
       "<details ><summary>81. webLexId</summary>\n",
       "\n",
       "None\n",
       "\n",
       "</details>\n",
       "<details ><summary>82. webUrl</summary>\n",
       "\n",
       "None\n",
       "\n",
       "</details>\n",
       "<details ><summary>83. webUrlLex</summary>\n",
       "\n",
       "None\n",
       "\n",
       "</details>\n",
       "<details ><summary>84. writing</summary>\n",
       "\n",
       "`grc`\n",
       "\n",
       "</details>\n",
       "<details ><summary>85. xChildType</summary>\n",
       "\n",
       "{}\n",
       "\n",
       "</details>\n",
       "<details ><summary>86. zip</summary>\n",
       "\n",
       "\n",
       "1.  `athenaeus`\n",
       "\n",
       "</details>\n",
       "</details>\n"
      ],
      "text/plain": [
       "<IPython.core.display.Markdown object>"
      ]
     },
     "metadata": {},
     "output_type": "display_data"
    }
   ],
   "source": [
    "A.showContext()"
   ]
  },
  {
   "cell_type": "code",
   "execution_count": null,
   "metadata": {},
   "outputs": [],
   "source": []
  }
 ],
 "metadata": {
  "kernelspec": {
   "display_name": "Python 3",
   "language": "python",
   "name": "python3"
  },
  "language_info": {
   "codemirror_mode": {
    "name": "ipython",
    "version": 3
   },
   "file_extension": ".py",
   "mimetype": "text/x-python",
   "name": "python",
   "nbconvert_exporter": "python",
   "pygments_lexer": "ipython3",
   "version": "3.7.7"
  }
 },
 "nbformat": 4,
 "nbformat_minor": 4
}
