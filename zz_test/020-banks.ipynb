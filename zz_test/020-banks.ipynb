{
 "cells": [
  {
   "cell_type": "code",
   "execution_count": 1,
   "metadata": {},
   "outputs": [],
   "source": [
    "%load_ext autoreload\n",
    "%autoreload 2"
   ]
  },
  {
   "cell_type": "code",
   "execution_count": 2,
   "metadata": {},
   "outputs": [],
   "source": [
    "from tf.app import use\n",
    "from fixture import typeShow"
   ]
  },
  {
   "cell_type": "markdown",
   "metadata": {},
   "source": [
    "# Banks (without app)"
   ]
  },
  {
   "cell_type": "code",
   "execution_count": 3,
   "metadata": {},
   "outputs": [
    {
     "name": "stdout",
     "output_type": "stream",
     "text": [
      "No app configuration found.\n",
      "Text-Fabric will be loaded, but no app specific code will be loaded\n",
      "and app config may not be optimal.\n",
      "The corpus data may not be found.\n"
     ]
    },
    {
     "data": {
      "text/html": [
       "<b>Documentation:</b> not online not online not online <a target=\"_blank\" href=\"https://github.com/annotation/app-0.2\" title=\"not online\">0.2 API</a> not online not online<details open><summary><b>Loaded features</b>:</summary>\n",
       "not online</details>"
      ],
      "text/plain": [
       "<IPython.core.display.HTML object>"
      ]
     },
     "metadata": {},
     "output_type": "display_data"
    },
    {
     "data": {
      "text/html": [
       "<style>tr.tf, td.tf, th.tf { text-align: left ! important;}@font-face {\n",
       "  font-family: \"Ezra SIL\";\n",
       "  src: local('Ezra SIL'), local('EzraSIL'),\n",
       "    url('/server/static/fonts/SILEOT.woff') format('woff'),\n",
       "    url('https://github.com/annotation/text-fabric/blob/master/tf/server/static/fonts/SILEOT.woff?raw=true') format('woff');\n",
       "}\n",
       "\n",
       "@font-face {\n",
       "  font-family: \"SBL Hebrew\";\n",
       "  src: local('SBL Hebrew'), local('SBLHebrew'),\n",
       "    url('/server/static/fonts/SBL_Hbrw.woff') format('woff'),\n",
       "    url('https://github.com/annotation/text-fabric/blob/master/tf/server/static/fonts/SBL_Hbrw.woff?raw=true') format('woff');\n",
       "}\n",
       "\n",
       "@font-face {\n",
       "  font-family: \"Estrangelo Edessa\";\n",
       "  src: local('Estrangelo Edessa'), local('EstrangeloEdessa');\n",
       "    url('/server/static/fonts/SyrCOMEdessa.woff') format('woff'),\n",
       "    url('https://github.com/annotation/text-fabric/blob/master/tf/server/static/fonts/SyrCOMEdessa.woff?raw=true') format('woff');\n",
       "}\n",
       "\n",
       "@font-face {\n",
       "  font-family: AmiriQuran;\n",
       "  font-style: normal;\n",
       "  font-weight: 400;\n",
       "  src: local('Amiri Quran'), local('AmiriQuran'),\n",
       "    url('/server/static/fonts/AmiriQuran.woff') format('woff'),\n",
       "    url('https://github.com/annotation/text-fabric/blob/master/tf/server/static/fonts/AmiriQuran.woff?raw=true') format('woff');\n",
       "}\n",
       "\n",
       "@font-face {\n",
       "  font-family: AmiriQuranColored;\n",
       "  font-style: normal;\n",
       "  font-weight: 400;\n",
       "  src: local('Amiri Quran Colored'), local('AmiriQuranColored'),\n",
       "    url('/server/static/fonts/AmiriQuranColored.woff') format('woff'),\n",
       "    url('https://github.com/annotation/text-fabric/blob/master/tf/server/static/fonts/AmiriQuranColored.woff?raw=true') format('woff');\n",
       "}\n",
       "\n",
       "@font-face {\n",
       "  font-family: \"Santakku\";\n",
       "  src: local('Santakku'),\n",
       "    url('/server/static/fonts/Santakku.woff') format('woff'),\n",
       "    url('https://github.com/annotation/text-fabric/blob/master/tf/server/static/fonts/Santakku.woff?raw=true') format('woff');\n",
       "}\n",
       "\n",
       "@font-face {\n",
       "  font-family: \"SantakkuM\";\n",
       "  src: local('SantakkuM'),\n",
       "    url('/server/static/fonts/SantakkuM.woff') format('woff'),\n",
       "    url('https://github.com/annotation/text-fabric/blob/master/tf/server/static/fonts/SantakkuM.woff?raw=true') format('woff');\n",
       "}\n",
       "/* bypassing some classical notebook settings */\n",
       "div#notebook {\n",
       "  line-height: unset;\n",
       "}\n",
       "/* neutral text */\n",
       ".txtn,.txtn a:visited,.txtn a:link {\n",
       "    font-family: sans-serif;\n",
       "    font-size: medium;\n",
       "    direction: ltr;\n",
       "    text-decoration: none;\n",
       "    color: var(--text-color);\n",
       "}\n",
       "/* transcription text */\n",
       ".txtt,.txtt a:visited,.txtt a:link {\n",
       "    font-family: monospace;\n",
       "    font-size: medium;\n",
       "    direction: ltr;\n",
       "    text-decoration: none;\n",
       "    color: var(--text-color);\n",
       "}\n",
       "/* source text */\n",
       ".txto,.txto a:visited,.txto a:link {\n",
       "    font-family: serif;\n",
       "    font-size: medium;\n",
       "    direction: ltr;\n",
       "    text-decoration: none;\n",
       "    color: var(--text-color);\n",
       "}\n",
       "/* phonetic text */\n",
       ".txtp,.txtp a:visited,.txtp a:link {\n",
       "    font-family: Gentium, sans-serif;\n",
       "    font-size: large;\n",
       "    direction: ltr;\n",
       "    text-decoration: none;\n",
       "    color: var(--text-color);\n",
       "}\n",
       "/* original script text */\n",
       ".txtu,.txtu a:visited,.txtu a:link {\n",
       "    font-family: Gentium, sans-serif;\n",
       "    font-size: large;\n",
       "    text-decoration: none;\n",
       "    color: var(--text-color);\n",
       "}\n",
       "/* hebrew */\n",
       ".txtu.hbo,.lex.hbo {\n",
       "    font-family: \"Ezra SIL\", \"SBL Hebrew\", sans-serif;\n",
       "    font-size: x-large;\n",
       "    direction: rtl ! important;\n",
       "    unicode-bidi: embed;\n",
       "}\n",
       "/* syriac */\n",
       ".txtu.syc,.lex.syc {\n",
       "    font-family: \"Estrangelo Edessa\", sans-serif;\n",
       "    font-size: large;\n",
       "    direction: rtl ! important;\n",
       "    unicode-bidi: embed;\n",
       "}\n",
       "/* neo aramaic */\n",
       ".txtu.cld,.lex.cld {\n",
       "    font-family: \"CharisSIL-R\", sans-serif;\n",
       "    font-size: medium;\n",
       "    direction: ltr ! important;\n",
       "    unicode-bidi: embed;\n",
       "}\n",
       "/* standard arabic */\n",
       ".txtu.ara,.lex.ara {\n",
       "    font-family: \"AmiriQuran\", sans-serif;\n",
       "    font-size: large;\n",
       "    direction: rtl ! important;\n",
       "    unicode-bidi: embed;\n",
       "}\n",
       "/* cuneiform */\n",
       ".txtu.akk,.lex.akk {\n",
       "    font-family: Santakku, sans-serif;\n",
       "    font-size: x-large;\n",
       "    direction: ltr ! important;\n",
       "    unicode-bidi: embed;\n",
       "}\n",
       "/* greek */\n",
       ".txtu.grc,.lex.grc a:link {\n",
       "    font-family: Gentium, sans-serif;\n",
       "    font-size: medium;\n",
       "    direction: ltr ! important;\n",
       "    unicode-bidi: embed;\n",
       "}\n",
       "a:hover {\n",
       "    text-decoration: underline | important;\n",
       "    color: #0000ff | important;\n",
       "}\n",
       ".ltr {\n",
       "    direction: ltr ! important;\n",
       "}\n",
       ".rtl {\n",
       "    direction: rtl ! important;\n",
       "}\n",
       "span.plain {\n",
       "    display: inline-block;\n",
       "    white-space: pre-wrap;\n",
       "    text-align: start;\n",
       "}\n",
       ".features {\n",
       "    font-family: monospace;\n",
       "    font-size: medium;\n",
       "    font-weight: bold;\n",
       "    color: var(--features);\n",
       "    display: flex;\n",
       "    flex-flow: column nowrap;\n",
       "    justify-content: flex-start;\n",
       "    align-items: flex-start;\n",
       "    align-content: flex-start;\n",
       "    padding: 0.1rem;\n",
       "    margin: 0.1rem;\n",
       "    direction: ltr;\n",
       "    border: var(--meta-width) solid var(--meta-color);\n",
       "    border-radius: var(--meta-width);\n",
       "}\n",
       ".features div,.features span {\n",
       "    padding: 0;\n",
       "    margin: -0.1rem 0;\n",
       "}\n",
       ".features .f {\n",
       "    font-family: sans-serif;\n",
       "    font-size: small;\n",
       "    font-weight: normal;\n",
       "    color: #5555bb;\n",
       "}\n",
       ".features .xft {\n",
       "  color: #000000;\n",
       "  background-color: #eeeeee;\n",
       "  font-size: medium;\n",
       "  margin: 0.1rem 0rem;\n",
       "}\n",
       ".features .xft .f {\n",
       "  color: #000000;\n",
       "  background-color: #eeeeee;\n",
       "  font-size: small;\n",
       "  font-weight: normal;\n",
       "}\n",
       ".section {\n",
       "    font-family: sans-serif;\n",
       "    font-size: small;\n",
       "    font-weight: bold;\n",
       "    color: var(--section);\n",
       "}\n",
       ".structure {\n",
       "    font-family: sans-serif;\n",
       "    font-size: small;\n",
       "    font-weight: bold;\n",
       "    color: var(--structure);\n",
       "}\n",
       ".comments {\n",
       "    display: flex;\n",
       "    justify-content: flex-start;\n",
       "    align-items: flex-start;\n",
       "    align-content: flex-start;\n",
       "    flex-flow: column nowrap;\n",
       "}\n",
       ".nd {\n",
       "    font-family: sans-serif;\n",
       "    font-size: small;\n",
       "    color: var(--node);\n",
       "    vertical-align: super;\n",
       "}\n",
       ".lex {\n",
       "  color: var(--lex-color);;\n",
       "}\n",
       ".children,.children.ltr {\n",
       "    display: flex;\n",
       "    border: 0;\n",
       "    background-color: #ffffff;\n",
       "    justify-content: flex-start;\n",
       "    align-items: flex-start;\n",
       "    align-content: flex-start;\n",
       "}\n",
       ".children.stretch {\n",
       "    align-items: stretch;\n",
       "}\n",
       ".children.hor {\n",
       "    flex-flow: row nowrap;\n",
       "}\n",
       ".children.hor.wrap {\n",
       "    flex-flow: row wrap;\n",
       "}\n",
       ".children.ver {\n",
       "    flex-flow: column nowrap;\n",
       "}\n",
       ".children.ver.wrap {\n",
       "    flex-flow: column wrap;\n",
       "}\n",
       ".contnr {\n",
       "    width: fit-content;\n",
       "    display: flex;\n",
       "    justify-content: flex-start;\n",
       "    align-items: flex-start;\n",
       "    align-content: flex-start;\n",
       "    flex-flow: column nowrap;\n",
       "    background: #ffffff none repeat scroll 0 0;\n",
       "    padding:  0.5rem 0.1rem 0.1rem 0.1rem;\n",
       "    margin: 0.8rem 0.1rem 0.1rem 0.1rem;\n",
       "    border-style: solid;\n",
       "    font-size: small;\n",
       "}\n",
       ".contnr.trm {\n",
       "    background-attachment: local;\n",
       "}\n",
       ".contnr.cnul {\n",
       "    padding:  0;\n",
       "    margin: 0;\n",
       "    border-style: solid;\n",
       "    font-size: xx-small;\n",
       "}\n",
       ".contnr.cnul,.lbl.cnul {\n",
       "    border-color: var(--border-color-nul);\n",
       "    border-width: var(--border-width-nul);\n",
       "    border-radius: var(--border-width-nul);\n",
       "}\n",
       ".contnr.c0,.lbl.c0 {\n",
       "    border-color: var(--border-color0);\n",
       "    border-width: var(--border-width0);\n",
       "    border-radius: var(--border-width0);\n",
       "}\n",
       ".contnr.c1,.lbl.c1 {\n",
       "    border-color: var(--border-color1);\n",
       "    border-width: var(--border-width1);\n",
       "    border-radius: var(--border-width1);\n",
       "}\n",
       ".contnr.c2,.lbl.c2 {\n",
       "    border-color: var(--border-color2);\n",
       "    border-width: var(--border-width2);\n",
       "    border-radius: var(--border-width2);\n",
       "}\n",
       ".contnr.c3,.lbl.c3 {\n",
       "    border-color: var(--border-color3);\n",
       "    border-width: var(--border-width3);\n",
       "    border-radius: var(--border-width3);\n",
       "}\n",
       ".contnr.c4,.lbl.c4 {\n",
       "    border-color: var(--border-color4);\n",
       "    border-width: var(--border-width4);\n",
       "    border-radius: var(--border-width4);\n",
       "}\n",
       ".contnr.l {\n",
       "    border-left-style: dotted\n",
       "}\n",
       ".contnr.r {\n",
       "    border-right-style: dotted\n",
       "}\n",
       ".contnr.lno {\n",
       "    border-left-style: none\n",
       "}\n",
       ".contnr.rno {\n",
       "    border-right-style: none\n",
       "}\n",
       ".lbl {\n",
       "    font-family: monospace;\n",
       "    margin-top: -1.2rem;\n",
       "    margin-left: 1rem;\n",
       "    background: #ffffff none repeat scroll 0 0;\n",
       "    padding: 0 0.3rem;\n",
       "    border-style: solid;\n",
       "    display: block;\n",
       "    color: var(--label)\n",
       "}\n",
       ".lbl.trm {\n",
       "    background-attachment: local;\n",
       "    margin-top: 0.1rem;\n",
       "    margin-left: 0.1rem;\n",
       "    padding: 0.1rem 0.1rem;\n",
       "    border-style: none;\n",
       "}\n",
       ".lbl.cnul {\n",
       "    font-size: xx-small;\n",
       "}\n",
       ".lbl.c0 {\n",
       "    font-size: small;\n",
       "}\n",
       ".lbl.c1 {\n",
       "    font-size: small;\n",
       "}\n",
       ".lbl.c2 {\n",
       "    font-size: medium;\n",
       "}\n",
       ".lbl.c3 {\n",
       "    font-size: medium;\n",
       "}\n",
       ".lbl.c4 {\n",
       "    font-size: large;\n",
       "}\n",
       ".occs {\n",
       "    font-size: small;\n",
       "}\n",
       "\n",
       ":root {\n",
       "\t--node:             hsla(120, 100%,  20%, 1.0  );\n",
       "\t--label:            hsla(  0, 100%,  20%, 1.0  );\n",
       "\t--section:          hsla(  0, 100%,  25%, 1.0  );\n",
       "\t--structure:        hsla(120, 100%,  25%, 1.0  );\n",
       "\t--features:         hsla(  0,   0%,  30%, 1.0  );\n",
       "  --text-color:       hsla( 60,  80%,  10%, 1.0  );\n",
       "  --lex-color:        hsla(220,  90%,  60%, 1.0  );\n",
       "  --meta-color:       hsla(  0,   0%,  90%, 0.7  );\n",
       "  --meta-width:       0.15rem;\n",
       "  --border-color-nul: hsla(  0,   0%,  90%, 0.5  );\n",
       "  --border-color0:    hsla(  0,   0%,  90%, 0.9  );\n",
       "  --border-color1:    hsla(  0,   0%,  80%, 0.9  );\n",
       "  --border-color2:    hsla(  0,   0%,  70%, 0.9  );\n",
       "  --border-color3:    hsla(  0,   0%,  80%, 0.8  );\n",
       "  --border-color4:    hsla(  0,   0%,  60%, 0.9  );\n",
       "  --border-width-nul: 0.1rem;\n",
       "  --border-width0:    0.1rem;\n",
       "  --border-width1:    0.15rem;\n",
       "  --border-width2:    0.2rem;\n",
       "  --border-width3:    0.3rem;\n",
       "  --border-width4:    0.25rem;\n",
       "}\n",
       ".hl {\n",
       "  background-color: var(--hl-strong);\n",
       "}\n",
       "span.hl {\n",
       "\tbackground-color: var(--hl-strong);\n",
       "\tborder-width: 0;\n",
       "\tborder-radius: 0.1rem;\n",
       "\tborder-style: solid;\n",
       "}\n",
       "div.contnr.hl,div.lbl.hl {\n",
       "  background-color: var(--hl-strong);\n",
       "}\n",
       "div.contnr.hl {\n",
       "  border-color: var(--hl-rim) ! important;\n",
       "\tborder-width: 0.2rem ! important;\n",
       "}\n",
       "\n",
       "span.hlbx {\n",
       "\tborder-color: var(--hl-rim);\n",
       "\tborder-width: 0.2rem;\n",
       "\tborder-style: solid;\n",
       "\tborder-radius: 0.3rem;\n",
       "  padding: 0.2rem;\n",
       "  margin: 0.2rem;\n",
       "}\n",
       "\n",
       "span.plain {\n",
       "  display: inline-block;\n",
       "  white-space: pre-wrap;\n",
       "}\n",
       "\n",
       ":root {\n",
       "\t--hl-strong:        hsla( 60, 100%,  70%, 0.9  );\n",
       "\t--hl-rim:           hsla( 55,  80%,  50%, 1.0  );\n",
       "}\n",
       "</style>"
      ],
      "text/plain": [
       "<IPython.core.display.HTML object>"
      ]
     },
     "metadata": {},
     "output_type": "display_data"
    },
    {
     "data": {
      "text/html": [
       "<details open><summary><b>API members</b>:</summary>\n",
       "<a target=\"_blank\" href=\"https://annotation.github.io/text-fabric/Api/Computed/#computed-data\" title=\"doc\">C Computed</a>, <a target=\"_blank\" href=\"https://annotation.github.io/text-fabric/Api/Computed/#computed-data\" title=\"doc\">Call AllComputeds</a>, <a target=\"_blank\" href=\"https://annotation.github.io/text-fabric/Api/Computed/#computed-data\" title=\"doc\">Cs ComputedString</a><br/>\n",
       "<a target=\"_blank\" href=\"https://annotation.github.io/text-fabric/Api/Features/#edge-features\" title=\"doc\">E Edge</a>, <a target=\"_blank\" href=\"https://annotation.github.io/text-fabric/Api/Features/#edge-features\" title=\"doc\">Eall AllEdges</a>, <a target=\"_blank\" href=\"https://annotation.github.io/text-fabric/Api/Features/#edge-features\" title=\"doc\">Es EdgeString</a><br/>\n",
       "<a target=\"_blank\" href=\"https://annotation.github.io/text-fabric/Api/Fabric/#loading\" title=\"doc\">ensureLoaded</a>, <a target=\"_blank\" href=\"https://annotation.github.io/text-fabric/Api/Fabric/#loading\" title=\"doc\">TF</a>, <a target=\"_blank\" href=\"https://annotation.github.io/text-fabric/Api/Fabric/#loading\" title=\"doc\">ignored</a>, <a target=\"_blank\" href=\"https://annotation.github.io/text-fabric/Api/Fabric/#loading\" title=\"doc\">loadLog</a><br/>\n",
       "<a target=\"_blank\" href=\"https://annotation.github.io/text-fabric/Api/Locality/#locality\" title=\"doc\">L Locality</a><br/>\n",
       "<a target=\"_blank\" href=\"https://annotation.github.io/text-fabric/Api/Misc/#messaging\" title=\"doc\">cache</a>, <a target=\"_blank\" href=\"https://annotation.github.io/text-fabric/Api/Misc/#messaging\" title=\"doc\">error</a>, <a target=\"_blank\" href=\"https://annotation.github.io/text-fabric/Api/Misc/#messaging\" title=\"doc\">indent</a>, <a target=\"_blank\" href=\"https://annotation.github.io/text-fabric/Api/Misc/#messaging\" title=\"doc\">info</a>, <a target=\"_blank\" href=\"https://annotation.github.io/text-fabric/Api/Misc/#messaging\" title=\"doc\">isSilent</a>, <a target=\"_blank\" href=\"https://annotation.github.io/text-fabric/Api/Misc/#messaging\" title=\"doc\">reset</a>, <a target=\"_blank\" href=\"https://annotation.github.io/text-fabric/Api/Misc/#messaging\" title=\"doc\">setSilent</a>, <a target=\"_blank\" href=\"https://annotation.github.io/text-fabric/Api/Misc/#messaging\" title=\"doc\">silentOff</a>, <a target=\"_blank\" href=\"https://annotation.github.io/text-fabric/Api/Misc/#messaging\" title=\"doc\">silentOn</a>, <a target=\"_blank\" href=\"https://annotation.github.io/text-fabric/Api/Misc/#messaging\" title=\"doc\">warning</a><br/>\n",
       "<a target=\"_blank\" href=\"https://annotation.github.io/text-fabric/Api/Nodes/#navigating-nodes\" title=\"doc\">N Nodes</a>, <a target=\"_blank\" href=\"https://annotation.github.io/text-fabric/Api/Nodes/#navigating-nodes\" title=\"doc\">sortKey</a>, <a target=\"_blank\" href=\"https://annotation.github.io/text-fabric/Api/Nodes/#navigating-nodes\" title=\"doc\">sortKeyTuple</a>, <a target=\"_blank\" href=\"https://annotation.github.io/text-fabric/Api/Nodes/#navigating-nodes\" title=\"doc\">otypeRank</a>, <a target=\"_blank\" href=\"https://annotation.github.io/text-fabric/Api/Nodes/#navigating-nodes\" title=\"doc\">sortNodes</a><br/>\n",
       "<a target=\"_blank\" href=\"https://annotation.github.io/text-fabric/Api/Features/#node-features\" title=\"doc\">F Feature</a>, <a target=\"_blank\" href=\"https://annotation.github.io/text-fabric/Api/Features/#node-features\" title=\"doc\">Fall AllFeatures</a>, <a target=\"_blank\" href=\"https://annotation.github.io/text-fabric/Api/Features/#node-features\" title=\"doc\">Fs FeatureString</a><br/>\n",
       "<a target=\"_blank\" href=\"https://annotation.github.io/text-fabric/Api/Search/#search\" title=\"doc\">S Search</a><br/>\n",
       "<a target=\"_blank\" href=\"https://annotation.github.io/text-fabric/Api/Text/#text\" title=\"doc\">T Text</a></details>"
      ],
      "text/plain": [
       "<IPython.core.display.HTML object>"
      ]
     },
     "metadata": {},
     "output_type": "display_data"
    }
   ],
   "source": [
    "A = use('~/github/annotation/banks/tf/0.2', hoist=globals())"
   ]
  },
  {
   "cell_type": "code",
   "execution_count": 4,
   "metadata": {},
   "outputs": [
    {
     "data": {
      "text/markdown": [
       "### book 100\n"
      ],
      "text/plain": [
       "<IPython.core.display.Markdown object>"
      ]
     },
     "metadata": {},
     "output_type": "display_data"
    },
    {
     "data": {
      "text/html": [
       "<span class=\"section ltr\">Consider Phlebas </span> <span class=\"plain outer   \" ><span class=\"plain txtu \"><span class=\"section\"> </span></span></span>"
      ],
      "text/plain": [
       "<IPython.core.display.HTML object>"
      ]
     },
     "metadata": {},
     "output_type": "display_data"
    },
    {
     "data": {
      "text/html": [
       "<span class=\"section ltr\">Consider Phlebas </span><div class=\"contnr c4 trm   \" ><div class=\"lbl c4 trm \" ><span class=\"nd\">book</span> <span class=\"txtu\"><span class=\"section\">Consider Phlebas</span></span></div> </div>"
      ],
      "text/plain": [
       "<IPython.core.display.HTML object>"
      ]
     },
     "metadata": {},
     "output_type": "display_data"
    },
    {
     "data": {
      "text/markdown": [
       "### chapter 101\n"
      ],
      "text/plain": [
       "<IPython.core.display.Markdown object>"
      ]
     },
     "metadata": {},
     "output_type": "display_data"
    },
    {
     "data": {
      "text/html": [
       "<span class=\"section ltr\">Consider Phlebas 1 </span> <span class=\"plain outer   \" ><span class=\"plain txtu \"><span class=\"section\"> </span></span></span>"
      ],
      "text/plain": [
       "<IPython.core.display.HTML object>"
      ]
     },
     "metadata": {},
     "output_type": "display_data"
    },
    {
     "data": {
      "text/html": [
       "<span class=\"section ltr\">Consider Phlebas 1 </span><div class=\"contnr c4 trm   \" ><div class=\"lbl c4 trm \" ><span class=\"nd\">chapter</span> <span class=\"txtu\"><span class=\"section\">Consider Phlebas 1</span></span></div> </div>"
      ],
      "text/plain": [
       "<IPython.core.display.HTML object>"
      ]
     },
     "metadata": {},
     "output_type": "display_data"
    },
    {
     "data": {
      "text/markdown": [
       "### sentence 115\n"
      ],
      "text/plain": [
       "<IPython.core.display.Markdown object>"
      ]
     },
     "metadata": {},
     "output_type": "display_data"
    },
    {
     "data": {
      "text/html": [
       "<span class=\"section ltr\">Consider Phlebas 1:1 </span> <span class=\"plain outer   \" ><span class=\"plain txtu \"></span><span class=\"plain    \" ><span class=\"plain txtu \"><span class=\"structure\"><span class=\"nd\">book</span> Consider Phlebas, <span class=\"nd\">chapter</span> 1, <span class=\"nd\">sentence</span> 1, <span class=\"nd\">line</span> 1</span></span><span class=\"plain    \" ><span class=\"txtu\">Everything </span></span><span class=\"plain    \" ><span class=\"txtu\">about </span></span><span class=\"plain    \" ><span class=\"txtu\">us, </span></span></span><span class=\"plain    \" ><span class=\"plain txtu \"><span class=\"structure\"><span class=\"nd\">book</span> Consider Phlebas, <span class=\"nd\">chapter</span> 1, <span class=\"nd\">sentence</span> 1, <span class=\"nd\">line</span> 2</span></span><span class=\"plain    \" ><span class=\"txtu\">everything </span></span><span class=\"plain    \" ><span class=\"txtu\">around </span></span><span class=\"plain    \" ><span class=\"txtu\">us, </span></span></span><span class=\"plain    \" ><span class=\"plain txtu \"><span class=\"structure\"><span class=\"nd\">book</span> Consider Phlebas, <span class=\"nd\">chapter</span> 1, <span class=\"nd\">sentence</span> 1, <span class=\"nd\">line</span> 3</span></span><span class=\"plain    \" ><span class=\"txtu\">everything </span></span><span class=\"plain    \" ><span class=\"txtu\">we </span></span><span class=\"plain    \" ><span class=\"txtu\">know </span></span><span class=\"plain    \" ><span class=\"txtu\">is </span></span><span class=\"plain    \" ><span class=\"txtu\">composed </span></span><span class=\"plain    \" ><span class=\"txtu\">ultimately </span></span><span class=\"plain    \" ><span class=\"txtu\">of </span></span><span class=\"plain    \" ><span class=\"txtu\">patterns </span></span><span class=\"plain    \" ><span class=\"txtu\">of </span></span><span class=\"plain    \" ><span class=\"txtu\">nothing; </span></span></span><span class=\"plain    \" ><span class=\"txtu\">and </span></span><span class=\"plain    \" ><span class=\"txtu\">can </span></span><span class=\"plain    \" ><span class=\"txtu\">know </span></span><span class=\"plain    \" ><span class=\"txtu\">of </span></span><span class=\"plain    \" ><span class=\"plain txtu \"><span class=\"structure\"><span class=\"nd\">book</span> Consider Phlebas, <span class=\"nd\">chapter</span> 1, <span class=\"nd\">sentence</span> 1, <span class=\"nd\">line</span> 4</span></span><span class=\"plain    \" ><span class=\"txtu\">that’s </span></span><span class=\"plain    \" ><span class=\"txtu\">the </span></span><span class=\"plain    \" ><span class=\"txtu\">bottom </span></span><span class=\"plain    \" ><span class=\"txtu\">line, </span></span><span class=\"plain    \" ><span class=\"txtu\">the </span></span><span class=\"plain    \" ><span class=\"txtu\">final </span></span><span class=\"plain    \" ><span class=\"txtu\">truth. </span></span></span></span>"
      ],
      "text/plain": [
       "<IPython.core.display.HTML object>"
      ]
     },
     "metadata": {},
     "output_type": "display_data"
    },
    {
     "data": {
      "text/html": [
       "<span class=\"section ltr\">Consider Phlebas 1:1 </span><div class=\"contnr c3    \" ><div class=\"lbl c3  \" ><span class=\"nd\">sentence</span></div> <div class=\"children hor wrap \"><div class=\"contnr c4    \" ><div class=\"lbl c4  \" ><span class=\"nd\">line</span> <span class=\"txtu\"><span class=\"structure\"><span class=\"nd\">book</span> Consider Phlebas, <span class=\"nd\">chapter</span> 1, <span class=\"nd\">sentence</span> 1, <span class=\"nd\">line</span> 1</span></span></div> <div class=\"children hor wrap \"><div class=\"contnr c0 trm   \" ><div class=\"lbl c0 trm \" ><span class=\"txtu\">Everything </span></div> </div><div class=\"contnr c0 trm   \" ><div class=\"lbl c0 trm \" ><span class=\"txtu\">about </span></div> </div><div class=\"contnr c0 trm   \" ><div class=\"lbl c0 trm \" ><span class=\"txtu\">us, </span></div> </div></div></div><div class=\"contnr c4    \" ><div class=\"lbl c4  \" ><span class=\"nd\">line</span> <span class=\"txtu\"><span class=\"structure\"><span class=\"nd\">book</span> Consider Phlebas, <span class=\"nd\">chapter</span> 1, <span class=\"nd\">sentence</span> 1, <span class=\"nd\">line</span> 2</span></span></div> <div class=\"children hor wrap \"><div class=\"contnr c0 trm   \" ><div class=\"lbl c0 trm \" ><span class=\"txtu\">everything </span></div> </div><div class=\"contnr c0 trm   \" ><div class=\"lbl c0 trm \" ><span class=\"txtu\">around </span></div> </div><div class=\"contnr c0 trm   \" ><div class=\"lbl c0 trm \" ><span class=\"txtu\">us, </span></div> </div></div></div><div class=\"contnr c4    \" ><div class=\"lbl c4  \" ><span class=\"nd\">line</span> <span class=\"txtu\"><span class=\"structure\"><span class=\"nd\">book</span> Consider Phlebas, <span class=\"nd\">chapter</span> 1, <span class=\"nd\">sentence</span> 1, <span class=\"nd\">line</span> 3</span></span></div> <div class=\"children hor wrap \"><div class=\"contnr c0 trm   \" ><div class=\"lbl c0 trm \" ><span class=\"txtu\">everything </span></div> </div><div class=\"contnr c0 trm   \" ><div class=\"lbl c0 trm \" ><span class=\"txtu\">we </span></div> </div><div class=\"contnr c0 trm   \" ><div class=\"lbl c0 trm \" ><span class=\"txtu\">know </span></div> </div><div class=\"contnr c0 trm   \" ><div class=\"lbl c0 trm \" ><span class=\"txtu\">is </span></div> </div><div class=\"contnr c0 trm   \" ><div class=\"lbl c0 trm \" ><span class=\"txtu\">composed </span></div> </div><div class=\"contnr c0 trm   \" ><div class=\"lbl c0 trm \" ><span class=\"txtu\">ultimately </span></div> </div><div class=\"contnr c0 trm   \" ><div class=\"lbl c0 trm \" ><span class=\"txtu\">of </span></div> </div><div class=\"contnr c0 trm   \" ><div class=\"lbl c0 trm \" ><span class=\"txtu\">patterns </span></div> </div><div class=\"contnr c0 trm   \" ><div class=\"lbl c0 trm \" ><span class=\"txtu\">of </span></div> </div><div class=\"contnr c0 trm   \" ><div class=\"lbl c0 trm \" ><span class=\"txtu\">nothing; </span></div> </div></div></div><div class=\"contnr c0 trm   \" ><div class=\"lbl c0 trm \" ><span class=\"txtu\">and </span></div> </div><div class=\"contnr c0 trm   \" ><div class=\"lbl c0 trm \" ><span class=\"txtu\">can </span></div> </div><div class=\"contnr c0 trm   \" ><div class=\"lbl c0 trm \" ><span class=\"txtu\">know </span></div> </div><div class=\"contnr c0 trm   \" ><div class=\"lbl c0 trm \" ><span class=\"txtu\">of </span></div> </div><div class=\"contnr c4    \" ><div class=\"lbl c4  \" ><span class=\"nd\">line</span> <span class=\"txtu\"><span class=\"structure\"><span class=\"nd\">book</span> Consider Phlebas, <span class=\"nd\">chapter</span> 1, <span class=\"nd\">sentence</span> 1, <span class=\"nd\">line</span> 4</span></span></div> <div class=\"children hor wrap \"><div class=\"contnr c0 trm   \" ><div class=\"lbl c0 trm \" ><span class=\"txtu\">that’s </span></div> </div><div class=\"contnr c0 trm   \" ><div class=\"lbl c0 trm \" ><span class=\"txtu\">the </span></div> </div><div class=\"contnr c0 trm   \" ><div class=\"lbl c0 trm \" ><span class=\"txtu\">bottom </span></div> </div><div class=\"contnr c0 trm   \" ><div class=\"lbl c0 trm \" ><span class=\"txtu\">line, </span></div> </div><div class=\"contnr c0 trm   \" ><div class=\"lbl c0 trm \" ><span class=\"txtu\">the </span></div> </div><div class=\"contnr c0 trm   \" ><div class=\"lbl c0 trm \" ><span class=\"txtu\">final </span></div> </div><div class=\"contnr c0 trm   \" ><div class=\"lbl c0 trm \" ><span class=\"txtu\">truth. </span></div> </div></div></div></div></div>"
      ],
      "text/plain": [
       "<IPython.core.display.HTML object>"
      ]
     },
     "metadata": {},
     "output_type": "display_data"
    },
    {
     "data": {
      "text/markdown": [
       "### line 103\n"
      ],
      "text/plain": [
       "<IPython.core.display.Markdown object>"
      ]
     },
     "metadata": {},
     "output_type": "display_data"
    },
    {
     "data": {
      "text/html": [
       "<span class=\"section ltr\">Consider Phlebas 1:1 </span> <span class=\"plain outer   \" ><span class=\"plain txtu \"><span class=\"structure\"><span class=\"nd\">book</span> Consider Phlebas, <span class=\"nd\">chapter</span> 1, <span class=\"nd\">sentence</span> 1, <span class=\"nd\">line</span> 1</span></span><span class=\"plain    \" ><span class=\"txtu\">Everything </span></span><span class=\"plain    \" ><span class=\"txtu\">about </span></span><span class=\"plain    \" ><span class=\"txtu\">us, </span></span></span>"
      ],
      "text/plain": [
       "<IPython.core.display.HTML object>"
      ]
     },
     "metadata": {},
     "output_type": "display_data"
    },
    {
     "data": {
      "text/html": [
       "<span class=\"section ltr\">Consider Phlebas 1:1 </span><div class=\"contnr c4    \" ><div class=\"lbl c4  \" ><span class=\"nd\">line</span> <span class=\"txtu\"><span class=\"structure\"><span class=\"nd\">book</span> Consider Phlebas, <span class=\"nd\">chapter</span> 1, <span class=\"nd\">sentence</span> 1, <span class=\"nd\">line</span> 1</span></span></div> <div class=\"children hor wrap \"><div class=\"contnr c0 trm   \" ><div class=\"lbl c0 trm \" ><span class=\"txtu\">Everything </span></div> </div><div class=\"contnr c0 trm   \" ><div class=\"lbl c0 trm \" ><span class=\"txtu\">about </span></div> </div><div class=\"contnr c0 trm   \" ><div class=\"lbl c0 trm \" ><span class=\"txtu\">us, </span></div> </div></div></div>"
      ],
      "text/plain": [
       "<IPython.core.display.HTML object>"
      ]
     },
     "metadata": {},
     "output_type": "display_data"
    },
    {
     "data": {
      "text/markdown": [
       "### word 1\n"
      ],
      "text/plain": [
       "<IPython.core.display.Markdown object>"
      ]
     },
     "metadata": {},
     "output_type": "display_data"
    },
    {
     "data": {
      "text/html": [
       "<span class=\"section ltr\">Consider Phlebas 1:1 </span> <span class=\"plain outer   \" ><span class=\"txtu\">Everything </span></span>"
      ],
      "text/plain": [
       "<IPython.core.display.HTML object>"
      ]
     },
     "metadata": {},
     "output_type": "display_data"
    },
    {
     "data": {
      "text/html": [
       "<span class=\"section ltr\">Consider Phlebas 1:1 </span><div class=\"contnr c0 trm   \" ><div class=\"lbl c0 trm \" ><span class=\"txtu\">Everything </span></div> </div>"
      ],
      "text/plain": [
       "<IPython.core.display.HTML object>"
      ]
     },
     "metadata": {},
     "output_type": "display_data"
    }
   ],
   "source": [
    "typeShow(A)"
   ]
  },
  {
   "cell_type": "markdown",
   "metadata": {},
   "source": [
    "# Banks (unofficial app)"
   ]
  },
  {
   "cell_type": "code",
   "execution_count": 5,
   "metadata": {},
   "outputs": [
    {
     "name": "stdout",
     "output_type": "stream",
     "text": [
      "Using data in /Users/dirk/github/annotation/banks/tf/0.2:\n",
      "\trepo clone offline under ~/github (local github)\n"
     ]
    },
    {
     "data": {
      "text/html": [
       "<b>Documentation:</b> <a target=\"_blank\" href=\"https://nbviewer.jupyter.org/github/annotation/banks/blob/master/programs/convert.ipynb\" title=\"provenance of Two quotes from Consider Phlebas by Iain M. Banks\">BANKS</a> <a target=\"_blank\" href=\"https://annotation.github.io/text-fabric/Writing/Transcription/\" title=\"How TF features represent text\">Character table</a> <a target=\"_blank\" href=\"https://nbviewer.jupyter.org/github/annotation/banks/blob/master/programs\" title=\"BANKS feature documentation\">Feature docs</a> <a target=\"_blank\" href=\"https://github.com/annotation/app-banks\" title=\"banks API documentation\">banks API</a> <a target=\"_blank\" href=\"https://annotation.github.io/text-fabric/Api/Fabric/\" title=\"text-fabric-api\">Text-Fabric API 8.0.1</a> <a target=\"_blank\" href=\"https://annotation.github.io/text-fabric/Use/Search/\" title=\"Search Templates Introduction and Reference\">Search Reference</a><details open><summary><b>Loaded features</b>:</summary>\n",
       "<p><b>Two quotes from Consider Phlebas by Iain M. Banks</b>: <a target=\"_blank\" href=\"https://nbviewer.jupyter.org/github/annotation/banks/blob/master/programs\" title=\"/Users/dirk/github/annotation/banks/tf/0.2/author.tf\">author</a>  <a target=\"_blank\" href=\"https://nbviewer.jupyter.org/github/annotation/banks/blob/master/programs\" title=\"/Users/dirk/github/annotation/banks/tf/0.2/gap.tf\">gap</a>  <a target=\"_blank\" href=\"https://nbviewer.jupyter.org/github/annotation/banks/blob/master/programs\" title=\"/Users/dirk/github/annotation/banks/tf/0.2/letters.tf\">letters</a>  <a target=\"_blank\" href=\"https://nbviewer.jupyter.org/github/annotation/banks/blob/master/programs\" title=\"/Users/dirk/github/annotation/banks/tf/0.2/number.tf\">number</a>  <a target=\"_blank\" href=\"https://nbviewer.jupyter.org/github/annotation/banks/blob/master/programs\" title=\"/Users/dirk/github/annotation/banks/tf/0.2/otype.tf\">otype</a>  <a target=\"_blank\" href=\"https://nbviewer.jupyter.org/github/annotation/banks/blob/master/programs\" title=\"/Users/dirk/github/annotation/banks/tf/0.2/punc.tf\">punc</a>  <a target=\"_blank\" href=\"https://nbviewer.jupyter.org/github/annotation/banks/blob/master/programs\" title=\"/Users/dirk/github/annotation/banks/tf/0.2/terminator.tf\">terminator</a>  <a target=\"_blank\" href=\"https://nbviewer.jupyter.org/github/annotation/banks/blob/master/programs\" title=\"/Users/dirk/github/annotation/banks/tf/0.2/title.tf\">title</a>  <b><i><a target=\"_blank\" href=\"https://nbviewer.jupyter.org/github/annotation/banks/blob/master/programs\" title=\"/Users/dirk/github/annotation/banks/tf/0.2/oslots.tf\">oslots</a></i></b> </p></details>"
      ],
      "text/plain": [
       "<IPython.core.display.HTML object>"
      ]
     },
     "metadata": {},
     "output_type": "display_data"
    },
    {
     "data": {
      "text/html": [
       "<style>tr.tf, td.tf, th.tf { text-align: left ! important;}@font-face {\n",
       "  font-family: \"Ezra SIL\";\n",
       "  src: local('Ezra SIL'), local('EzraSIL'),\n",
       "    url('/server/static/fonts/SILEOT.woff') format('woff'),\n",
       "    url('https://github.com/annotation/text-fabric/blob/master/tf/server/static/fonts/SILEOT.woff?raw=true') format('woff');\n",
       "}\n",
       "\n",
       "@font-face {\n",
       "  font-family: \"SBL Hebrew\";\n",
       "  src: local('SBL Hebrew'), local('SBLHebrew'),\n",
       "    url('/server/static/fonts/SBL_Hbrw.woff') format('woff'),\n",
       "    url('https://github.com/annotation/text-fabric/blob/master/tf/server/static/fonts/SBL_Hbrw.woff?raw=true') format('woff');\n",
       "}\n",
       "\n",
       "@font-face {\n",
       "  font-family: \"Estrangelo Edessa\";\n",
       "  src: local('Estrangelo Edessa'), local('EstrangeloEdessa');\n",
       "    url('/server/static/fonts/SyrCOMEdessa.woff') format('woff'),\n",
       "    url('https://github.com/annotation/text-fabric/blob/master/tf/server/static/fonts/SyrCOMEdessa.woff?raw=true') format('woff');\n",
       "}\n",
       "\n",
       "@font-face {\n",
       "  font-family: AmiriQuran;\n",
       "  font-style: normal;\n",
       "  font-weight: 400;\n",
       "  src: local('Amiri Quran'), local('AmiriQuran'),\n",
       "    url('/server/static/fonts/AmiriQuran.woff') format('woff'),\n",
       "    url('https://github.com/annotation/text-fabric/blob/master/tf/server/static/fonts/AmiriQuran.woff?raw=true') format('woff');\n",
       "}\n",
       "\n",
       "@font-face {\n",
       "  font-family: AmiriQuranColored;\n",
       "  font-style: normal;\n",
       "  font-weight: 400;\n",
       "  src: local('Amiri Quran Colored'), local('AmiriQuranColored'),\n",
       "    url('/server/static/fonts/AmiriQuranColored.woff') format('woff'),\n",
       "    url('https://github.com/annotation/text-fabric/blob/master/tf/server/static/fonts/AmiriQuranColored.woff?raw=true') format('woff');\n",
       "}\n",
       "\n",
       "@font-face {\n",
       "  font-family: \"Santakku\";\n",
       "  src: local('Santakku'),\n",
       "    url('/server/static/fonts/Santakku.woff') format('woff'),\n",
       "    url('https://github.com/annotation/text-fabric/blob/master/tf/server/static/fonts/Santakku.woff?raw=true') format('woff');\n",
       "}\n",
       "\n",
       "@font-face {\n",
       "  font-family: \"SantakkuM\";\n",
       "  src: local('SantakkuM'),\n",
       "    url('/server/static/fonts/SantakkuM.woff') format('woff'),\n",
       "    url('https://github.com/annotation/text-fabric/blob/master/tf/server/static/fonts/SantakkuM.woff?raw=true') format('woff');\n",
       "}\n",
       "/* bypassing some classical notebook settings */\n",
       "div#notebook {\n",
       "  line-height: unset;\n",
       "}\n",
       "/* neutral text */\n",
       ".txtn,.txtn a:visited,.txtn a:link {\n",
       "    font-family: sans-serif;\n",
       "    font-size: medium;\n",
       "    direction: ltr;\n",
       "    text-decoration: none;\n",
       "    color: var(--text-color);\n",
       "}\n",
       "/* transcription text */\n",
       ".txtt,.txtt a:visited,.txtt a:link {\n",
       "    font-family: monospace;\n",
       "    font-size: medium;\n",
       "    direction: ltr;\n",
       "    text-decoration: none;\n",
       "    color: var(--text-color);\n",
       "}\n",
       "/* source text */\n",
       ".txto,.txto a:visited,.txto a:link {\n",
       "    font-family: serif;\n",
       "    font-size: medium;\n",
       "    direction: ltr;\n",
       "    text-decoration: none;\n",
       "    color: var(--text-color);\n",
       "}\n",
       "/* phonetic text */\n",
       ".txtp,.txtp a:visited,.txtp a:link {\n",
       "    font-family: Gentium, sans-serif;\n",
       "    font-size: large;\n",
       "    direction: ltr;\n",
       "    text-decoration: none;\n",
       "    color: var(--text-color);\n",
       "}\n",
       "/* original script text */\n",
       ".txtu,.txtu a:visited,.txtu a:link {\n",
       "    font-family: Gentium, sans-serif;\n",
       "    font-size: large;\n",
       "    text-decoration: none;\n",
       "    color: var(--text-color);\n",
       "}\n",
       "/* hebrew */\n",
       ".txtu.hbo,.lex.hbo {\n",
       "    font-family: \"Ezra SIL\", \"SBL Hebrew\", sans-serif;\n",
       "    font-size: x-large;\n",
       "    direction: rtl ! important;\n",
       "    unicode-bidi: embed;\n",
       "}\n",
       "/* syriac */\n",
       ".txtu.syc,.lex.syc {\n",
       "    font-family: \"Estrangelo Edessa\", sans-serif;\n",
       "    font-size: large;\n",
       "    direction: rtl ! important;\n",
       "    unicode-bidi: embed;\n",
       "}\n",
       "/* neo aramaic */\n",
       ".txtu.cld,.lex.cld {\n",
       "    font-family: \"CharisSIL-R\", sans-serif;\n",
       "    font-size: medium;\n",
       "    direction: ltr ! important;\n",
       "    unicode-bidi: embed;\n",
       "}\n",
       "/* standard arabic */\n",
       ".txtu.ara,.lex.ara {\n",
       "    font-family: \"AmiriQuran\", sans-serif;\n",
       "    font-size: large;\n",
       "    direction: rtl ! important;\n",
       "    unicode-bidi: embed;\n",
       "}\n",
       "/* cuneiform */\n",
       ".txtu.akk,.lex.akk {\n",
       "    font-family: Santakku, sans-serif;\n",
       "    font-size: x-large;\n",
       "    direction: ltr ! important;\n",
       "    unicode-bidi: embed;\n",
       "}\n",
       "/* greek */\n",
       ".txtu.grc,.lex.grc a:link {\n",
       "    font-family: Gentium, sans-serif;\n",
       "    font-size: medium;\n",
       "    direction: ltr ! important;\n",
       "    unicode-bidi: embed;\n",
       "}\n",
       "a:hover {\n",
       "    text-decoration: underline | important;\n",
       "    color: #0000ff | important;\n",
       "}\n",
       ".ltr {\n",
       "    direction: ltr ! important;\n",
       "}\n",
       ".rtl {\n",
       "    direction: rtl ! important;\n",
       "}\n",
       "span.plain {\n",
       "    display: inline-block;\n",
       "    white-space: pre-wrap;\n",
       "    text-align: start;\n",
       "}\n",
       ".features {\n",
       "    font-family: monospace;\n",
       "    font-size: medium;\n",
       "    font-weight: bold;\n",
       "    color: var(--features);\n",
       "    display: flex;\n",
       "    flex-flow: column nowrap;\n",
       "    justify-content: flex-start;\n",
       "    align-items: flex-start;\n",
       "    align-content: flex-start;\n",
       "    padding: 0.1rem;\n",
       "    margin: 0.1rem;\n",
       "    direction: ltr;\n",
       "    border: var(--meta-width) solid var(--meta-color);\n",
       "    border-radius: var(--meta-width);\n",
       "}\n",
       ".features div,.features span {\n",
       "    padding: 0;\n",
       "    margin: -0.1rem 0;\n",
       "}\n",
       ".features .f {\n",
       "    font-family: sans-serif;\n",
       "    font-size: small;\n",
       "    font-weight: normal;\n",
       "    color: #5555bb;\n",
       "}\n",
       ".features .xft {\n",
       "  color: #000000;\n",
       "  background-color: #eeeeee;\n",
       "  font-size: medium;\n",
       "  margin: 0.1rem 0rem;\n",
       "}\n",
       ".features .xft .f {\n",
       "  color: #000000;\n",
       "  background-color: #eeeeee;\n",
       "  font-size: small;\n",
       "  font-weight: normal;\n",
       "}\n",
       ".section {\n",
       "    font-family: sans-serif;\n",
       "    font-size: small;\n",
       "    font-weight: bold;\n",
       "    color: var(--section);\n",
       "}\n",
       ".structure {\n",
       "    font-family: sans-serif;\n",
       "    font-size: small;\n",
       "    font-weight: bold;\n",
       "    color: var(--structure);\n",
       "}\n",
       ".comments {\n",
       "    display: flex;\n",
       "    justify-content: flex-start;\n",
       "    align-items: flex-start;\n",
       "    align-content: flex-start;\n",
       "    flex-flow: column nowrap;\n",
       "}\n",
       ".nd {\n",
       "    font-family: sans-serif;\n",
       "    font-size: small;\n",
       "    color: var(--node);\n",
       "    vertical-align: super;\n",
       "}\n",
       ".lex {\n",
       "  color: var(--lex-color);;\n",
       "}\n",
       ".children,.children.ltr {\n",
       "    display: flex;\n",
       "    border: 0;\n",
       "    background-color: #ffffff;\n",
       "    justify-content: flex-start;\n",
       "    align-items: flex-start;\n",
       "    align-content: flex-start;\n",
       "}\n",
       ".children.stretch {\n",
       "    align-items: stretch;\n",
       "}\n",
       ".children.hor {\n",
       "    flex-flow: row nowrap;\n",
       "}\n",
       ".children.hor.wrap {\n",
       "    flex-flow: row wrap;\n",
       "}\n",
       ".children.ver {\n",
       "    flex-flow: column nowrap;\n",
       "}\n",
       ".children.ver.wrap {\n",
       "    flex-flow: column wrap;\n",
       "}\n",
       ".contnr {\n",
       "    width: fit-content;\n",
       "    display: flex;\n",
       "    justify-content: flex-start;\n",
       "    align-items: flex-start;\n",
       "    align-content: flex-start;\n",
       "    flex-flow: column nowrap;\n",
       "    background: #ffffff none repeat scroll 0 0;\n",
       "    padding:  0.5rem 0.1rem 0.1rem 0.1rem;\n",
       "    margin: 0.8rem 0.1rem 0.1rem 0.1rem;\n",
       "    border-style: solid;\n",
       "    font-size: small;\n",
       "}\n",
       ".contnr.trm {\n",
       "    background-attachment: local;\n",
       "}\n",
       ".contnr.cnul {\n",
       "    padding:  0;\n",
       "    margin: 0;\n",
       "    border-style: solid;\n",
       "    font-size: xx-small;\n",
       "}\n",
       ".contnr.cnul,.lbl.cnul {\n",
       "    border-color: var(--border-color-nul);\n",
       "    border-width: var(--border-width-nul);\n",
       "    border-radius: var(--border-width-nul);\n",
       "}\n",
       ".contnr.c0,.lbl.c0 {\n",
       "    border-color: var(--border-color0);\n",
       "    border-width: var(--border-width0);\n",
       "    border-radius: var(--border-width0);\n",
       "}\n",
       ".contnr.c1,.lbl.c1 {\n",
       "    border-color: var(--border-color1);\n",
       "    border-width: var(--border-width1);\n",
       "    border-radius: var(--border-width1);\n",
       "}\n",
       ".contnr.c2,.lbl.c2 {\n",
       "    border-color: var(--border-color2);\n",
       "    border-width: var(--border-width2);\n",
       "    border-radius: var(--border-width2);\n",
       "}\n",
       ".contnr.c3,.lbl.c3 {\n",
       "    border-color: var(--border-color3);\n",
       "    border-width: var(--border-width3);\n",
       "    border-radius: var(--border-width3);\n",
       "}\n",
       ".contnr.c4,.lbl.c4 {\n",
       "    border-color: var(--border-color4);\n",
       "    border-width: var(--border-width4);\n",
       "    border-radius: var(--border-width4);\n",
       "}\n",
       ".contnr.l {\n",
       "    border-left-style: dotted\n",
       "}\n",
       ".contnr.r {\n",
       "    border-right-style: dotted\n",
       "}\n",
       ".contnr.lno {\n",
       "    border-left-style: none\n",
       "}\n",
       ".contnr.rno {\n",
       "    border-right-style: none\n",
       "}\n",
       ".lbl {\n",
       "    font-family: monospace;\n",
       "    margin-top: -1.2rem;\n",
       "    margin-left: 1rem;\n",
       "    background: #ffffff none repeat scroll 0 0;\n",
       "    padding: 0 0.3rem;\n",
       "    border-style: solid;\n",
       "    display: block;\n",
       "    color: var(--label)\n",
       "}\n",
       ".lbl.trm {\n",
       "    background-attachment: local;\n",
       "    margin-top: 0.1rem;\n",
       "    margin-left: 0.1rem;\n",
       "    padding: 0.1rem 0.1rem;\n",
       "    border-style: none;\n",
       "}\n",
       ".lbl.cnul {\n",
       "    font-size: xx-small;\n",
       "}\n",
       ".lbl.c0 {\n",
       "    font-size: small;\n",
       "}\n",
       ".lbl.c1 {\n",
       "    font-size: small;\n",
       "}\n",
       ".lbl.c2 {\n",
       "    font-size: medium;\n",
       "}\n",
       ".lbl.c3 {\n",
       "    font-size: medium;\n",
       "}\n",
       ".lbl.c4 {\n",
       "    font-size: large;\n",
       "}\n",
       ".occs {\n",
       "    font-size: small;\n",
       "}\n",
       "\n",
       ":root {\n",
       "\t--node:             hsla(120, 100%,  20%, 1.0  );\n",
       "\t--label:            hsla(  0, 100%,  20%, 1.0  );\n",
       "\t--section:          hsla(  0, 100%,  25%, 1.0  );\n",
       "\t--structure:        hsla(120, 100%,  25%, 1.0  );\n",
       "\t--features:         hsla(  0,   0%,  30%, 1.0  );\n",
       "  --text-color:       hsla( 60,  80%,  10%, 1.0  );\n",
       "  --lex-color:        hsla(220,  90%,  60%, 1.0  );\n",
       "  --meta-color:       hsla(  0,   0%,  90%, 0.7  );\n",
       "  --meta-width:       0.15rem;\n",
       "  --border-color-nul: hsla(  0,   0%,  90%, 0.5  );\n",
       "  --border-color0:    hsla(  0,   0%,  90%, 0.9  );\n",
       "  --border-color1:    hsla(  0,   0%,  80%, 0.9  );\n",
       "  --border-color2:    hsla(  0,   0%,  70%, 0.9  );\n",
       "  --border-color3:    hsla(  0,   0%,  80%, 0.8  );\n",
       "  --border-color4:    hsla(  0,   0%,  60%, 0.9  );\n",
       "  --border-width-nul: 0.1rem;\n",
       "  --border-width0:    0.1rem;\n",
       "  --border-width1:    0.15rem;\n",
       "  --border-width2:    0.2rem;\n",
       "  --border-width3:    0.3rem;\n",
       "  --border-width4:    0.25rem;\n",
       "}\n",
       ".hl {\n",
       "  background-color: var(--hl-strong);\n",
       "}\n",
       "span.hl {\n",
       "\tbackground-color: var(--hl-strong);\n",
       "\tborder-width: 0;\n",
       "\tborder-radius: 0.1rem;\n",
       "\tborder-style: solid;\n",
       "}\n",
       "div.contnr.hl,div.lbl.hl {\n",
       "  background-color: var(--hl-strong);\n",
       "}\n",
       "div.contnr.hl {\n",
       "  border-color: var(--hl-rim) ! important;\n",
       "\tborder-width: 0.2rem ! important;\n",
       "}\n",
       "\n",
       "span.hlbx {\n",
       "\tborder-color: var(--hl-rim);\n",
       "\tborder-width: 0.2rem;\n",
       "\tborder-style: solid;\n",
       "\tborder-radius: 0.3rem;\n",
       "  padding: 0.2rem;\n",
       "  margin: 0.2rem;\n",
       "}\n",
       "\n",
       "span.plain {\n",
       "  display: inline-block;\n",
       "  white-space: pre-wrap;\n",
       "}\n",
       "\n",
       ":root {\n",
       "\t--hl-strong:        hsla( 60, 100%,  70%, 0.9  );\n",
       "\t--hl-rim:           hsla( 55,  80%,  50%, 1.0  );\n",
       "}\n",
       "</style>"
      ],
      "text/plain": [
       "<IPython.core.display.HTML object>"
      ]
     },
     "metadata": {},
     "output_type": "display_data"
    },
    {
     "data": {
      "text/html": [
       "<details open><summary><b>API members</b>:</summary>\n",
       "<a target=\"_blank\" href=\"https://annotation.github.io/text-fabric/Api/Computed/#computed-data\" title=\"doc\">C Computed</a>, <a target=\"_blank\" href=\"https://annotation.github.io/text-fabric/Api/Computed/#computed-data\" title=\"doc\">Call AllComputeds</a>, <a target=\"_blank\" href=\"https://annotation.github.io/text-fabric/Api/Computed/#computed-data\" title=\"doc\">Cs ComputedString</a><br/>\n",
       "<a target=\"_blank\" href=\"https://annotation.github.io/text-fabric/Api/Features/#edge-features\" title=\"doc\">E Edge</a>, <a target=\"_blank\" href=\"https://annotation.github.io/text-fabric/Api/Features/#edge-features\" title=\"doc\">Eall AllEdges</a>, <a target=\"_blank\" href=\"https://annotation.github.io/text-fabric/Api/Features/#edge-features\" title=\"doc\">Es EdgeString</a><br/>\n",
       "<a target=\"_blank\" href=\"https://annotation.github.io/text-fabric/Api/Fabric/#loading\" title=\"doc\">ensureLoaded</a>, <a target=\"_blank\" href=\"https://annotation.github.io/text-fabric/Api/Fabric/#loading\" title=\"doc\">TF</a>, <a target=\"_blank\" href=\"https://annotation.github.io/text-fabric/Api/Fabric/#loading\" title=\"doc\">ignored</a>, <a target=\"_blank\" href=\"https://annotation.github.io/text-fabric/Api/Fabric/#loading\" title=\"doc\">loadLog</a><br/>\n",
       "<a target=\"_blank\" href=\"https://annotation.github.io/text-fabric/Api/Locality/#locality\" title=\"doc\">L Locality</a><br/>\n",
       "<a target=\"_blank\" href=\"https://annotation.github.io/text-fabric/Api/Misc/#messaging\" title=\"doc\">cache</a>, <a target=\"_blank\" href=\"https://annotation.github.io/text-fabric/Api/Misc/#messaging\" title=\"doc\">error</a>, <a target=\"_blank\" href=\"https://annotation.github.io/text-fabric/Api/Misc/#messaging\" title=\"doc\">indent</a>, <a target=\"_blank\" href=\"https://annotation.github.io/text-fabric/Api/Misc/#messaging\" title=\"doc\">info</a>, <a target=\"_blank\" href=\"https://annotation.github.io/text-fabric/Api/Misc/#messaging\" title=\"doc\">isSilent</a>, <a target=\"_blank\" href=\"https://annotation.github.io/text-fabric/Api/Misc/#messaging\" title=\"doc\">reset</a>, <a target=\"_blank\" href=\"https://annotation.github.io/text-fabric/Api/Misc/#messaging\" title=\"doc\">setSilent</a>, <a target=\"_blank\" href=\"https://annotation.github.io/text-fabric/Api/Misc/#messaging\" title=\"doc\">silentOff</a>, <a target=\"_blank\" href=\"https://annotation.github.io/text-fabric/Api/Misc/#messaging\" title=\"doc\">silentOn</a>, <a target=\"_blank\" href=\"https://annotation.github.io/text-fabric/Api/Misc/#messaging\" title=\"doc\">warning</a><br/>\n",
       "<a target=\"_blank\" href=\"https://annotation.github.io/text-fabric/Api/Nodes/#navigating-nodes\" title=\"doc\">N Nodes</a>, <a target=\"_blank\" href=\"https://annotation.github.io/text-fabric/Api/Nodes/#navigating-nodes\" title=\"doc\">sortKey</a>, <a target=\"_blank\" href=\"https://annotation.github.io/text-fabric/Api/Nodes/#navigating-nodes\" title=\"doc\">sortKeyTuple</a>, <a target=\"_blank\" href=\"https://annotation.github.io/text-fabric/Api/Nodes/#navigating-nodes\" title=\"doc\">otypeRank</a>, <a target=\"_blank\" href=\"https://annotation.github.io/text-fabric/Api/Nodes/#navigating-nodes\" title=\"doc\">sortNodes</a><br/>\n",
       "<a target=\"_blank\" href=\"https://annotation.github.io/text-fabric/Api/Features/#node-features\" title=\"doc\">F Feature</a>, <a target=\"_blank\" href=\"https://annotation.github.io/text-fabric/Api/Features/#node-features\" title=\"doc\">Fall AllFeatures</a>, <a target=\"_blank\" href=\"https://annotation.github.io/text-fabric/Api/Features/#node-features\" title=\"doc\">Fs FeatureString</a><br/>\n",
       "<a target=\"_blank\" href=\"https://annotation.github.io/text-fabric/Api/Search/#search\" title=\"doc\">S Search</a><br/>\n",
       "<a target=\"_blank\" href=\"https://annotation.github.io/text-fabric/Api/Text/#text\" title=\"doc\">T Text</a></details>"
      ],
      "text/plain": [
       "<IPython.core.display.HTML object>"
      ]
     },
     "metadata": {},
     "output_type": "display_data"
    }
   ],
   "source": [
    "A = use('./banks', checkout=\"clone\", hoist=globals())"
   ]
  },
  {
   "cell_type": "code",
   "execution_count": 6,
   "metadata": {},
   "outputs": [
    {
     "data": {
      "text/markdown": [
       "### book 100\n"
      ],
      "text/plain": [
       "<IPython.core.display.Markdown object>"
      ]
     },
     "metadata": {},
     "output_type": "display_data"
    },
    {
     "data": {
      "text/html": [
       "<span class=\"section ltr\">Consider Phlebas </span> <span class=\"plain outer   \" ><span class=\"plain txtu \"><span class=\"section\"> </span></span></span>"
      ],
      "text/plain": [
       "<IPython.core.display.HTML object>"
      ]
     },
     "metadata": {},
     "output_type": "display_data"
    },
    {
     "data": {
      "text/html": [
       "<span class=\"section ltr\">Consider Phlebas </span><div class=\"contnr c4 trm   \" ><div class=\"lbl c4 trm \" ><span class=\"nd\">book</span> <span class=\"txtu\"><span class=\"section\">Consider Phlebas</span></span></div> </div>"
      ],
      "text/plain": [
       "<IPython.core.display.HTML object>"
      ]
     },
     "metadata": {},
     "output_type": "display_data"
    },
    {
     "data": {
      "text/markdown": [
       "### chapter 101\n"
      ],
      "text/plain": [
       "<IPython.core.display.Markdown object>"
      ]
     },
     "metadata": {},
     "output_type": "display_data"
    },
    {
     "data": {
      "text/html": [
       "<span class=\"section ltr\">Consider Phlebas 1 </span> <span class=\"plain outer   \" ><span class=\"plain txtu \"><span class=\"section\"> </span></span></span>"
      ],
      "text/plain": [
       "<IPython.core.display.HTML object>"
      ]
     },
     "metadata": {},
     "output_type": "display_data"
    },
    {
     "data": {
      "text/html": [
       "<span class=\"section ltr\">Consider Phlebas 1 </span><div class=\"contnr c4 trm   \" ><div class=\"lbl c4 trm \" ><span class=\"nd\">chapter</span> <span class=\"txtu\"><span class=\"section\">Consider Phlebas 1</span></span></div> </div>"
      ],
      "text/plain": [
       "<IPython.core.display.HTML object>"
      ]
     },
     "metadata": {},
     "output_type": "display_data"
    },
    {
     "data": {
      "text/markdown": [
       "### sentence 115\n"
      ],
      "text/plain": [
       "<IPython.core.display.Markdown object>"
      ]
     },
     "metadata": {},
     "output_type": "display_data"
    },
    {
     "data": {
      "text/html": [
       "<span class=\"section ltr\">Consider Phlebas 1:1 </span> <span class=\"plain outer   \" ><span class=\"plain txtu \"></span><span class=\"plain    \" ><span class=\"txtu\">Everything </span></span><span class=\"plain    \" ><span class=\"txtu\">about </span></span><span class=\"plain    \" ><span class=\"txtu\">us, </span></span><span class=\"plain    \" ><span class=\"txtu\">everything </span></span><span class=\"plain    \" ><span class=\"txtu\">around </span></span><span class=\"plain    \" ><span class=\"txtu\">us, </span></span><span class=\"plain    \" ><span class=\"txtu\">everything </span></span><span class=\"plain    \" ><span class=\"txtu\">we </span></span><span class=\"plain    \" ><span class=\"txtu\">know </span></span><span class=\"plain    \" ><span class=\"txtu\">and </span></span><span class=\"plain    \" ><span class=\"txtu\">can </span></span><span class=\"plain    \" ><span class=\"txtu\">know </span></span><span class=\"plain    \" ><span class=\"txtu\">of </span></span><span class=\"plain    \" ><span class=\"txtu\">is </span></span><span class=\"plain    \" ><span class=\"txtu\">composed </span></span><span class=\"plain    \" ><span class=\"txtu\">ultimately </span></span><span class=\"plain    \" ><span class=\"txtu\">of </span></span><span class=\"plain    \" ><span class=\"txtu\">patterns </span></span><span class=\"plain    \" ><span class=\"txtu\">of </span></span><span class=\"plain    \" ><span class=\"txtu\">nothing; </span></span><span class=\"plain    \" ><span class=\"txtu\">that’s </span></span><span class=\"plain    \" ><span class=\"txtu\">the </span></span><span class=\"plain    \" ><span class=\"txtu\">bottom </span></span><span class=\"plain    \" ><span class=\"txtu\">line, </span></span><span class=\"plain    \" ><span class=\"txtu\">the </span></span><span class=\"plain    \" ><span class=\"txtu\">final </span></span><span class=\"plain    \" ><span class=\"txtu\">truth. </span></span></span>"
      ],
      "text/plain": [
       "<IPython.core.display.HTML object>"
      ]
     },
     "metadata": {},
     "output_type": "display_data"
    },
    {
     "data": {
      "text/html": [
       "<span class=\"section ltr\">Consider Phlebas 1:1 </span><div class=\"contnr c3    \" ><div class=\"lbl c3  \" ><span class=\"nd\">sentence</span></div> <div class=\"children hor wrap \"><div class=\"contnr c0 trm   \" ><div class=\"lbl c0 trm \" ><span class=\"txtu\">Everything </span></div> </div><div class=\"contnr c0 trm   \" ><div class=\"lbl c0 trm \" ><span class=\"txtu\">about </span></div> </div><div class=\"contnr c0 trm   \" ><div class=\"lbl c0 trm \" ><span class=\"txtu\">us, </span></div> </div><div class=\"contnr c0 trm   \" ><div class=\"lbl c0 trm \" ><span class=\"txtu\">everything </span></div> </div><div class=\"contnr c0 trm   \" ><div class=\"lbl c0 trm \" ><span class=\"txtu\">around </span></div> </div><div class=\"contnr c0 trm   \" ><div class=\"lbl c0 trm \" ><span class=\"txtu\">us, </span></div> </div><div class=\"contnr c0 trm   \" ><div class=\"lbl c0 trm \" ><span class=\"txtu\">everything </span></div> </div><div class=\"contnr c0 trm   \" ><div class=\"lbl c0 trm \" ><span class=\"txtu\">we </span></div> </div><div class=\"contnr c0 trm   \" ><div class=\"lbl c0 trm \" ><span class=\"txtu\">know </span></div> </div><div class=\"contnr c0 trm   \" ><div class=\"lbl c0 trm \" ><span class=\"txtu\">and </span></div> </div><div class=\"contnr c0 trm   \" ><div class=\"lbl c0 trm \" ><span class=\"txtu\">can </span></div> </div><div class=\"contnr c0 trm   \" ><div class=\"lbl c0 trm \" ><span class=\"txtu\">know </span></div> </div><div class=\"contnr c0 trm   \" ><div class=\"lbl c0 trm \" ><span class=\"txtu\">of </span></div> </div><div class=\"contnr c0 trm   \" ><div class=\"lbl c0 trm \" ><span class=\"txtu\">is </span></div> </div><div class=\"contnr c0 trm   \" ><div class=\"lbl c0 trm \" ><span class=\"txtu\">composed </span></div> </div><div class=\"contnr c0 trm   \" ><div class=\"lbl c0 trm \" ><span class=\"txtu\">ultimately </span></div> </div><div class=\"contnr c0 trm   \" ><div class=\"lbl c0 trm \" ><span class=\"txtu\">of </span></div> </div><div class=\"contnr c0 trm   \" ><div class=\"lbl c0 trm \" ><span class=\"txtu\">patterns </span></div> </div><div class=\"contnr c0 trm   \" ><div class=\"lbl c0 trm \" ><span class=\"txtu\">of </span></div> </div><div class=\"contnr c0 trm   \" ><div class=\"lbl c0 trm \" ><span class=\"txtu\">nothing; </span></div> </div><div class=\"contnr c0 trm   \" ><div class=\"lbl c0 trm \" ><span class=\"txtu\">that’s </span></div> </div><div class=\"contnr c0 trm   \" ><div class=\"lbl c0 trm \" ><span class=\"txtu\">the </span></div> </div><div class=\"contnr c0 trm   \" ><div class=\"lbl c0 trm \" ><span class=\"txtu\">bottom </span></div> </div><div class=\"contnr c0 trm   \" ><div class=\"lbl c0 trm \" ><span class=\"txtu\">line, </span></div> </div><div class=\"contnr c0 trm   \" ><div class=\"lbl c0 trm \" ><span class=\"txtu\">the </span></div> </div><div class=\"contnr c0 trm   \" ><div class=\"lbl c0 trm \" ><span class=\"txtu\">final </span></div> </div><div class=\"contnr c0 trm   \" ><div class=\"lbl c0 trm \" ><span class=\"txtu\">truth. </span></div> </div></div></div>"
      ],
      "text/plain": [
       "<IPython.core.display.HTML object>"
      ]
     },
     "metadata": {},
     "output_type": "display_data"
    },
    {
     "data": {
      "text/markdown": [
       "### line 103\n"
      ],
      "text/plain": [
       "<IPython.core.display.Markdown object>"
      ]
     },
     "metadata": {},
     "output_type": "display_data"
    },
    {
     "data": {
      "text/html": [
       "<span class=\"section ltr\">Consider Phlebas 1:1 </span> <span class=\"plain outer   \" ><span class=\"plain txtu \"><span class=\"structure\"><span class=\"nd\">book</span> Consider Phlebas, <span class=\"nd\">chapter</span> 1, <span class=\"nd\">sentence</span> 1, <span class=\"nd\">line</span> 1</span></span><span class=\"plain    \" ><span class=\"txtu\">Everything </span></span><span class=\"plain    \" ><span class=\"txtu\">about </span></span><span class=\"plain    \" ><span class=\"txtu\">us, </span></span></span>"
      ],
      "text/plain": [
       "<IPython.core.display.HTML object>"
      ]
     },
     "metadata": {},
     "output_type": "display_data"
    },
    {
     "data": {
      "text/html": [
       "<span class=\"section ltr\">Consider Phlebas 1:1 </span><div class=\"contnr c3    \" ><div class=\"lbl c3  \" ><span class=\"nd\">line</span></div> <div class=\"children hor wrap \"><div class=\"contnr c0 trm   \" ><div class=\"lbl c0 trm \" ><span class=\"txtu\">Everything </span></div> </div><div class=\"contnr c0 trm   \" ><div class=\"lbl c0 trm \" ><span class=\"txtu\">about </span></div> </div><div class=\"contnr c0 trm   \" ><div class=\"lbl c0 trm \" ><span class=\"txtu\">us, </span></div> </div></div></div>"
      ],
      "text/plain": [
       "<IPython.core.display.HTML object>"
      ]
     },
     "metadata": {},
     "output_type": "display_data"
    },
    {
     "data": {
      "text/markdown": [
       "### word 1\n"
      ],
      "text/plain": [
       "<IPython.core.display.Markdown object>"
      ]
     },
     "metadata": {},
     "output_type": "display_data"
    },
    {
     "data": {
      "text/html": [
       "<span class=\"section ltr\">Consider Phlebas 1:1 </span> <span class=\"plain outer   \" ><span class=\"txtu\">Everything </span></span>"
      ],
      "text/plain": [
       "<IPython.core.display.HTML object>"
      ]
     },
     "metadata": {},
     "output_type": "display_data"
    },
    {
     "data": {
      "text/html": [
       "<span class=\"section ltr\">Consider Phlebas 1:1 </span><div class=\"contnr c0 trm   \" ><div class=\"lbl c0 trm \" ><span class=\"txtu\">Everything </span></div> </div>"
      ],
      "text/plain": [
       "<IPython.core.display.HTML object>"
      ]
     },
     "metadata": {},
     "output_type": "display_data"
    }
   ],
   "source": [
    "typeShow(A)"
   ]
  },
  {
   "cell_type": "markdown",
   "metadata": {},
   "source": [
    "# Banks (as app)"
   ]
  },
  {
   "cell_type": "code",
   "execution_count": 7,
   "metadata": {},
   "outputs": [
    {
     "name": "stdout",
     "output_type": "stream",
     "text": [
      "Using TF-app in /Users/dirk/github/annotation/app-banks/code:\n",
      "\trepo clone offline under ~/github (local github)\n",
      "Using data in /Users/dirk/github/annotation/banks/tf/0.2:\n",
      "\trepo clone offline under ~/github (local github)\n"
     ]
    },
    {
     "data": {
      "text/html": [
       "<b>Documentation:</b> <a target=\"_blank\" href=\"https://nbviewer.jupyter.org/github/annotation/banks/blob/master/programs/convert.ipynb\" title=\"provenance of Two quotes from Consider Phlebas by Iain M. Banks\">BANKS</a> <a target=\"_blank\" href=\"https://annotation.github.io/text-fabric/Writing/Transcription/\" title=\"How TF features represent text\">Character table</a> <a target=\"_blank\" href=\"https://nbviewer.jupyter.org/github/annotation/banks/blob/master/programs\" title=\"BANKS feature documentation\">Feature docs</a> <a target=\"_blank\" href=\"https://github.com/annotation/app-banks\" title=\"banks API documentation\">banks API</a> <a target=\"_blank\" href=\"https://annotation.github.io/text-fabric/Api/Fabric/\" title=\"text-fabric-api\">Text-Fabric API 8.0.1</a> <a target=\"_blank\" href=\"https://annotation.github.io/text-fabric/Use/Search/\" title=\"Search Templates Introduction and Reference\">Search Reference</a><details open><summary><b>Loaded features</b>:</summary>\n",
       "<p><b>Two quotes from Consider Phlebas by Iain M. Banks</b>: <a target=\"_blank\" href=\"https://nbviewer.jupyter.org/github/annotation/banks/blob/master/programs\" title=\"/Users/dirk/github/annotation/banks/tf/0.2/author.tf\">author</a>  <a target=\"_blank\" href=\"https://nbviewer.jupyter.org/github/annotation/banks/blob/master/programs\" title=\"/Users/dirk/github/annotation/banks/tf/0.2/gap.tf\">gap</a>  <a target=\"_blank\" href=\"https://nbviewer.jupyter.org/github/annotation/banks/blob/master/programs\" title=\"/Users/dirk/github/annotation/banks/tf/0.2/letters.tf\">letters</a>  <a target=\"_blank\" href=\"https://nbviewer.jupyter.org/github/annotation/banks/blob/master/programs\" title=\"/Users/dirk/github/annotation/banks/tf/0.2/number.tf\">number</a>  <a target=\"_blank\" href=\"https://nbviewer.jupyter.org/github/annotation/banks/blob/master/programs\" title=\"/Users/dirk/github/annotation/banks/tf/0.2/otype.tf\">otype</a>  <a target=\"_blank\" href=\"https://nbviewer.jupyter.org/github/annotation/banks/blob/master/programs\" title=\"/Users/dirk/github/annotation/banks/tf/0.2/punc.tf\">punc</a>  <a target=\"_blank\" href=\"https://nbviewer.jupyter.org/github/annotation/banks/blob/master/programs\" title=\"/Users/dirk/github/annotation/banks/tf/0.2/terminator.tf\">terminator</a>  <a target=\"_blank\" href=\"https://nbviewer.jupyter.org/github/annotation/banks/blob/master/programs\" title=\"/Users/dirk/github/annotation/banks/tf/0.2/title.tf\">title</a>  <b><i><a target=\"_blank\" href=\"https://nbviewer.jupyter.org/github/annotation/banks/blob/master/programs\" title=\"/Users/dirk/github/annotation/banks/tf/0.2/oslots.tf\">oslots</a></i></b> </p></details>"
      ],
      "text/plain": [
       "<IPython.core.display.HTML object>"
      ]
     },
     "metadata": {},
     "output_type": "display_data"
    },
    {
     "data": {
      "text/html": [
       "<style>tr.tf, td.tf, th.tf { text-align: left ! important;}@font-face {\n",
       "  font-family: \"Ezra SIL\";\n",
       "  src: local('Ezra SIL'), local('EzraSIL'),\n",
       "    url('/server/static/fonts/SILEOT.woff') format('woff'),\n",
       "    url('https://github.com/annotation/text-fabric/blob/master/tf/server/static/fonts/SILEOT.woff?raw=true') format('woff');\n",
       "}\n",
       "\n",
       "@font-face {\n",
       "  font-family: \"SBL Hebrew\";\n",
       "  src: local('SBL Hebrew'), local('SBLHebrew'),\n",
       "    url('/server/static/fonts/SBL_Hbrw.woff') format('woff'),\n",
       "    url('https://github.com/annotation/text-fabric/blob/master/tf/server/static/fonts/SBL_Hbrw.woff?raw=true') format('woff');\n",
       "}\n",
       "\n",
       "@font-face {\n",
       "  font-family: \"Estrangelo Edessa\";\n",
       "  src: local('Estrangelo Edessa'), local('EstrangeloEdessa');\n",
       "    url('/server/static/fonts/SyrCOMEdessa.woff') format('woff'),\n",
       "    url('https://github.com/annotation/text-fabric/blob/master/tf/server/static/fonts/SyrCOMEdessa.woff?raw=true') format('woff');\n",
       "}\n",
       "\n",
       "@font-face {\n",
       "  font-family: AmiriQuran;\n",
       "  font-style: normal;\n",
       "  font-weight: 400;\n",
       "  src: local('Amiri Quran'), local('AmiriQuran'),\n",
       "    url('/server/static/fonts/AmiriQuran.woff') format('woff'),\n",
       "    url('https://github.com/annotation/text-fabric/blob/master/tf/server/static/fonts/AmiriQuran.woff?raw=true') format('woff');\n",
       "}\n",
       "\n",
       "@font-face {\n",
       "  font-family: AmiriQuranColored;\n",
       "  font-style: normal;\n",
       "  font-weight: 400;\n",
       "  src: local('Amiri Quran Colored'), local('AmiriQuranColored'),\n",
       "    url('/server/static/fonts/AmiriQuranColored.woff') format('woff'),\n",
       "    url('https://github.com/annotation/text-fabric/blob/master/tf/server/static/fonts/AmiriQuranColored.woff?raw=true') format('woff');\n",
       "}\n",
       "\n",
       "@font-face {\n",
       "  font-family: \"Santakku\";\n",
       "  src: local('Santakku'),\n",
       "    url('/server/static/fonts/Santakku.woff') format('woff'),\n",
       "    url('https://github.com/annotation/text-fabric/blob/master/tf/server/static/fonts/Santakku.woff?raw=true') format('woff');\n",
       "}\n",
       "\n",
       "@font-face {\n",
       "  font-family: \"SantakkuM\";\n",
       "  src: local('SantakkuM'),\n",
       "    url('/server/static/fonts/SantakkuM.woff') format('woff'),\n",
       "    url('https://github.com/annotation/text-fabric/blob/master/tf/server/static/fonts/SantakkuM.woff?raw=true') format('woff');\n",
       "}\n",
       "/* bypassing some classical notebook settings */\n",
       "div#notebook {\n",
       "  line-height: unset;\n",
       "}\n",
       "/* neutral text */\n",
       ".txtn,.txtn a:visited,.txtn a:link {\n",
       "    font-family: sans-serif;\n",
       "    font-size: medium;\n",
       "    direction: ltr;\n",
       "    text-decoration: none;\n",
       "    color: var(--text-color);\n",
       "}\n",
       "/* transcription text */\n",
       ".txtt,.txtt a:visited,.txtt a:link {\n",
       "    font-family: monospace;\n",
       "    font-size: medium;\n",
       "    direction: ltr;\n",
       "    text-decoration: none;\n",
       "    color: var(--text-color);\n",
       "}\n",
       "/* source text */\n",
       ".txto,.txto a:visited,.txto a:link {\n",
       "    font-family: serif;\n",
       "    font-size: medium;\n",
       "    direction: ltr;\n",
       "    text-decoration: none;\n",
       "    color: var(--text-color);\n",
       "}\n",
       "/* phonetic text */\n",
       ".txtp,.txtp a:visited,.txtp a:link {\n",
       "    font-family: Gentium, sans-serif;\n",
       "    font-size: large;\n",
       "    direction: ltr;\n",
       "    text-decoration: none;\n",
       "    color: var(--text-color);\n",
       "}\n",
       "/* original script text */\n",
       ".txtu,.txtu a:visited,.txtu a:link {\n",
       "    font-family: Gentium, sans-serif;\n",
       "    font-size: large;\n",
       "    text-decoration: none;\n",
       "    color: var(--text-color);\n",
       "}\n",
       "/* hebrew */\n",
       ".txtu.hbo,.lex.hbo {\n",
       "    font-family: \"Ezra SIL\", \"SBL Hebrew\", sans-serif;\n",
       "    font-size: x-large;\n",
       "    direction: rtl ! important;\n",
       "    unicode-bidi: embed;\n",
       "}\n",
       "/* syriac */\n",
       ".txtu.syc,.lex.syc {\n",
       "    font-family: \"Estrangelo Edessa\", sans-serif;\n",
       "    font-size: large;\n",
       "    direction: rtl ! important;\n",
       "    unicode-bidi: embed;\n",
       "}\n",
       "/* neo aramaic */\n",
       ".txtu.cld,.lex.cld {\n",
       "    font-family: \"CharisSIL-R\", sans-serif;\n",
       "    font-size: medium;\n",
       "    direction: ltr ! important;\n",
       "    unicode-bidi: embed;\n",
       "}\n",
       "/* standard arabic */\n",
       ".txtu.ara,.lex.ara {\n",
       "    font-family: \"AmiriQuran\", sans-serif;\n",
       "    font-size: large;\n",
       "    direction: rtl ! important;\n",
       "    unicode-bidi: embed;\n",
       "}\n",
       "/* cuneiform */\n",
       ".txtu.akk,.lex.akk {\n",
       "    font-family: Santakku, sans-serif;\n",
       "    font-size: x-large;\n",
       "    direction: ltr ! important;\n",
       "    unicode-bidi: embed;\n",
       "}\n",
       "/* greek */\n",
       ".txtu.grc,.lex.grc a:link {\n",
       "    font-family: Gentium, sans-serif;\n",
       "    font-size: medium;\n",
       "    direction: ltr ! important;\n",
       "    unicode-bidi: embed;\n",
       "}\n",
       "a:hover {\n",
       "    text-decoration: underline | important;\n",
       "    color: #0000ff | important;\n",
       "}\n",
       ".ltr {\n",
       "    direction: ltr ! important;\n",
       "}\n",
       ".rtl {\n",
       "    direction: rtl ! important;\n",
       "}\n",
       "span.plain {\n",
       "    display: inline-block;\n",
       "    white-space: pre-wrap;\n",
       "    text-align: start;\n",
       "}\n",
       ".features {\n",
       "    font-family: monospace;\n",
       "    font-size: medium;\n",
       "    font-weight: bold;\n",
       "    color: var(--features);\n",
       "    display: flex;\n",
       "    flex-flow: column nowrap;\n",
       "    justify-content: flex-start;\n",
       "    align-items: flex-start;\n",
       "    align-content: flex-start;\n",
       "    padding: 0.1rem;\n",
       "    margin: 0.1rem;\n",
       "    direction: ltr;\n",
       "    border: var(--meta-width) solid var(--meta-color);\n",
       "    border-radius: var(--meta-width);\n",
       "}\n",
       ".features div,.features span {\n",
       "    padding: 0;\n",
       "    margin: -0.1rem 0;\n",
       "}\n",
       ".features .f {\n",
       "    font-family: sans-serif;\n",
       "    font-size: small;\n",
       "    font-weight: normal;\n",
       "    color: #5555bb;\n",
       "}\n",
       ".features .xft {\n",
       "  color: #000000;\n",
       "  background-color: #eeeeee;\n",
       "  font-size: medium;\n",
       "  margin: 0.1rem 0rem;\n",
       "}\n",
       ".features .xft .f {\n",
       "  color: #000000;\n",
       "  background-color: #eeeeee;\n",
       "  font-size: small;\n",
       "  font-weight: normal;\n",
       "}\n",
       ".section {\n",
       "    font-family: sans-serif;\n",
       "    font-size: small;\n",
       "    font-weight: bold;\n",
       "    color: var(--section);\n",
       "}\n",
       ".structure {\n",
       "    font-family: sans-serif;\n",
       "    font-size: small;\n",
       "    font-weight: bold;\n",
       "    color: var(--structure);\n",
       "}\n",
       ".comments {\n",
       "    display: flex;\n",
       "    justify-content: flex-start;\n",
       "    align-items: flex-start;\n",
       "    align-content: flex-start;\n",
       "    flex-flow: column nowrap;\n",
       "}\n",
       ".nd {\n",
       "    font-family: sans-serif;\n",
       "    font-size: small;\n",
       "    color: var(--node);\n",
       "    vertical-align: super;\n",
       "}\n",
       ".lex {\n",
       "  color: var(--lex-color);;\n",
       "}\n",
       ".children,.children.ltr {\n",
       "    display: flex;\n",
       "    border: 0;\n",
       "    background-color: #ffffff;\n",
       "    justify-content: flex-start;\n",
       "    align-items: flex-start;\n",
       "    align-content: flex-start;\n",
       "}\n",
       ".children.stretch {\n",
       "    align-items: stretch;\n",
       "}\n",
       ".children.hor {\n",
       "    flex-flow: row nowrap;\n",
       "}\n",
       ".children.hor.wrap {\n",
       "    flex-flow: row wrap;\n",
       "}\n",
       ".children.ver {\n",
       "    flex-flow: column nowrap;\n",
       "}\n",
       ".children.ver.wrap {\n",
       "    flex-flow: column wrap;\n",
       "}\n",
       ".contnr {\n",
       "    width: fit-content;\n",
       "    display: flex;\n",
       "    justify-content: flex-start;\n",
       "    align-items: flex-start;\n",
       "    align-content: flex-start;\n",
       "    flex-flow: column nowrap;\n",
       "    background: #ffffff none repeat scroll 0 0;\n",
       "    padding:  0.5rem 0.1rem 0.1rem 0.1rem;\n",
       "    margin: 0.8rem 0.1rem 0.1rem 0.1rem;\n",
       "    border-style: solid;\n",
       "    font-size: small;\n",
       "}\n",
       ".contnr.trm {\n",
       "    background-attachment: local;\n",
       "}\n",
       ".contnr.cnul {\n",
       "    padding:  0;\n",
       "    margin: 0;\n",
       "    border-style: solid;\n",
       "    font-size: xx-small;\n",
       "}\n",
       ".contnr.cnul,.lbl.cnul {\n",
       "    border-color: var(--border-color-nul);\n",
       "    border-width: var(--border-width-nul);\n",
       "    border-radius: var(--border-width-nul);\n",
       "}\n",
       ".contnr.c0,.lbl.c0 {\n",
       "    border-color: var(--border-color0);\n",
       "    border-width: var(--border-width0);\n",
       "    border-radius: var(--border-width0);\n",
       "}\n",
       ".contnr.c1,.lbl.c1 {\n",
       "    border-color: var(--border-color1);\n",
       "    border-width: var(--border-width1);\n",
       "    border-radius: var(--border-width1);\n",
       "}\n",
       ".contnr.c2,.lbl.c2 {\n",
       "    border-color: var(--border-color2);\n",
       "    border-width: var(--border-width2);\n",
       "    border-radius: var(--border-width2);\n",
       "}\n",
       ".contnr.c3,.lbl.c3 {\n",
       "    border-color: var(--border-color3);\n",
       "    border-width: var(--border-width3);\n",
       "    border-radius: var(--border-width3);\n",
       "}\n",
       ".contnr.c4,.lbl.c4 {\n",
       "    border-color: var(--border-color4);\n",
       "    border-width: var(--border-width4);\n",
       "    border-radius: var(--border-width4);\n",
       "}\n",
       ".contnr.l {\n",
       "    border-left-style: dotted\n",
       "}\n",
       ".contnr.r {\n",
       "    border-right-style: dotted\n",
       "}\n",
       ".contnr.lno {\n",
       "    border-left-style: none\n",
       "}\n",
       ".contnr.rno {\n",
       "    border-right-style: none\n",
       "}\n",
       ".lbl {\n",
       "    font-family: monospace;\n",
       "    margin-top: -1.2rem;\n",
       "    margin-left: 1rem;\n",
       "    background: #ffffff none repeat scroll 0 0;\n",
       "    padding: 0 0.3rem;\n",
       "    border-style: solid;\n",
       "    display: block;\n",
       "    color: var(--label)\n",
       "}\n",
       ".lbl.trm {\n",
       "    background-attachment: local;\n",
       "    margin-top: 0.1rem;\n",
       "    margin-left: 0.1rem;\n",
       "    padding: 0.1rem 0.1rem;\n",
       "    border-style: none;\n",
       "}\n",
       ".lbl.cnul {\n",
       "    font-size: xx-small;\n",
       "}\n",
       ".lbl.c0 {\n",
       "    font-size: small;\n",
       "}\n",
       ".lbl.c1 {\n",
       "    font-size: small;\n",
       "}\n",
       ".lbl.c2 {\n",
       "    font-size: medium;\n",
       "}\n",
       ".lbl.c3 {\n",
       "    font-size: medium;\n",
       "}\n",
       ".lbl.c4 {\n",
       "    font-size: large;\n",
       "}\n",
       ".occs {\n",
       "    font-size: small;\n",
       "}\n",
       "\n",
       ":root {\n",
       "\t--node:             hsla(120, 100%,  20%, 1.0  );\n",
       "\t--label:            hsla(  0, 100%,  20%, 1.0  );\n",
       "\t--section:          hsla(  0, 100%,  25%, 1.0  );\n",
       "\t--structure:        hsla(120, 100%,  25%, 1.0  );\n",
       "\t--features:         hsla(  0,   0%,  30%, 1.0  );\n",
       "  --text-color:       hsla( 60,  80%,  10%, 1.0  );\n",
       "  --lex-color:        hsla(220,  90%,  60%, 1.0  );\n",
       "  --meta-color:       hsla(  0,   0%,  90%, 0.7  );\n",
       "  --meta-width:       0.15rem;\n",
       "  --border-color-nul: hsla(  0,   0%,  90%, 0.5  );\n",
       "  --border-color0:    hsla(  0,   0%,  90%, 0.9  );\n",
       "  --border-color1:    hsla(  0,   0%,  80%, 0.9  );\n",
       "  --border-color2:    hsla(  0,   0%,  70%, 0.9  );\n",
       "  --border-color3:    hsla(  0,   0%,  80%, 0.8  );\n",
       "  --border-color4:    hsla(  0,   0%,  60%, 0.9  );\n",
       "  --border-width-nul: 0.1rem;\n",
       "  --border-width0:    0.1rem;\n",
       "  --border-width1:    0.15rem;\n",
       "  --border-width2:    0.2rem;\n",
       "  --border-width3:    0.3rem;\n",
       "  --border-width4:    0.25rem;\n",
       "}\n",
       ".hl {\n",
       "  background-color: var(--hl-strong);\n",
       "}\n",
       "span.hl {\n",
       "\tbackground-color: var(--hl-strong);\n",
       "\tborder-width: 0;\n",
       "\tborder-radius: 0.1rem;\n",
       "\tborder-style: solid;\n",
       "}\n",
       "div.contnr.hl,div.lbl.hl {\n",
       "  background-color: var(--hl-strong);\n",
       "}\n",
       "div.contnr.hl {\n",
       "  border-color: var(--hl-rim) ! important;\n",
       "\tborder-width: 0.2rem ! important;\n",
       "}\n",
       "\n",
       "span.hlbx {\n",
       "\tborder-color: var(--hl-rim);\n",
       "\tborder-width: 0.2rem;\n",
       "\tborder-style: solid;\n",
       "\tborder-radius: 0.3rem;\n",
       "  padding: 0.2rem;\n",
       "  margin: 0.2rem;\n",
       "}\n",
       "\n",
       "span.plain {\n",
       "  display: inline-block;\n",
       "  white-space: pre-wrap;\n",
       "}\n",
       "\n",
       ":root {\n",
       "\t--hl-strong:        hsla( 60, 100%,  70%, 0.9  );\n",
       "\t--hl-rim:           hsla( 55,  80%,  50%, 1.0  );\n",
       "}\n",
       "</style>"
      ],
      "text/plain": [
       "<IPython.core.display.HTML object>"
      ]
     },
     "metadata": {},
     "output_type": "display_data"
    },
    {
     "data": {
      "text/html": [
       "<details open><summary><b>API members</b>:</summary>\n",
       "<a target=\"_blank\" href=\"https://annotation.github.io/text-fabric/Api/Computed/#computed-data\" title=\"doc\">C Computed</a>, <a target=\"_blank\" href=\"https://annotation.github.io/text-fabric/Api/Computed/#computed-data\" title=\"doc\">Call AllComputeds</a>, <a target=\"_blank\" href=\"https://annotation.github.io/text-fabric/Api/Computed/#computed-data\" title=\"doc\">Cs ComputedString</a><br/>\n",
       "<a target=\"_blank\" href=\"https://annotation.github.io/text-fabric/Api/Features/#edge-features\" title=\"doc\">E Edge</a>, <a target=\"_blank\" href=\"https://annotation.github.io/text-fabric/Api/Features/#edge-features\" title=\"doc\">Eall AllEdges</a>, <a target=\"_blank\" href=\"https://annotation.github.io/text-fabric/Api/Features/#edge-features\" title=\"doc\">Es EdgeString</a><br/>\n",
       "<a target=\"_blank\" href=\"https://annotation.github.io/text-fabric/Api/Fabric/#loading\" title=\"doc\">ensureLoaded</a>, <a target=\"_blank\" href=\"https://annotation.github.io/text-fabric/Api/Fabric/#loading\" title=\"doc\">TF</a>, <a target=\"_blank\" href=\"https://annotation.github.io/text-fabric/Api/Fabric/#loading\" title=\"doc\">ignored</a>, <a target=\"_blank\" href=\"https://annotation.github.io/text-fabric/Api/Fabric/#loading\" title=\"doc\">loadLog</a><br/>\n",
       "<a target=\"_blank\" href=\"https://annotation.github.io/text-fabric/Api/Locality/#locality\" title=\"doc\">L Locality</a><br/>\n",
       "<a target=\"_blank\" href=\"https://annotation.github.io/text-fabric/Api/Misc/#messaging\" title=\"doc\">cache</a>, <a target=\"_blank\" href=\"https://annotation.github.io/text-fabric/Api/Misc/#messaging\" title=\"doc\">error</a>, <a target=\"_blank\" href=\"https://annotation.github.io/text-fabric/Api/Misc/#messaging\" title=\"doc\">indent</a>, <a target=\"_blank\" href=\"https://annotation.github.io/text-fabric/Api/Misc/#messaging\" title=\"doc\">info</a>, <a target=\"_blank\" href=\"https://annotation.github.io/text-fabric/Api/Misc/#messaging\" title=\"doc\">isSilent</a>, <a target=\"_blank\" href=\"https://annotation.github.io/text-fabric/Api/Misc/#messaging\" title=\"doc\">reset</a>, <a target=\"_blank\" href=\"https://annotation.github.io/text-fabric/Api/Misc/#messaging\" title=\"doc\">setSilent</a>, <a target=\"_blank\" href=\"https://annotation.github.io/text-fabric/Api/Misc/#messaging\" title=\"doc\">silentOff</a>, <a target=\"_blank\" href=\"https://annotation.github.io/text-fabric/Api/Misc/#messaging\" title=\"doc\">silentOn</a>, <a target=\"_blank\" href=\"https://annotation.github.io/text-fabric/Api/Misc/#messaging\" title=\"doc\">warning</a><br/>\n",
       "<a target=\"_blank\" href=\"https://annotation.github.io/text-fabric/Api/Nodes/#navigating-nodes\" title=\"doc\">N Nodes</a>, <a target=\"_blank\" href=\"https://annotation.github.io/text-fabric/Api/Nodes/#navigating-nodes\" title=\"doc\">sortKey</a>, <a target=\"_blank\" href=\"https://annotation.github.io/text-fabric/Api/Nodes/#navigating-nodes\" title=\"doc\">sortKeyTuple</a>, <a target=\"_blank\" href=\"https://annotation.github.io/text-fabric/Api/Nodes/#navigating-nodes\" title=\"doc\">otypeRank</a>, <a target=\"_blank\" href=\"https://annotation.github.io/text-fabric/Api/Nodes/#navigating-nodes\" title=\"doc\">sortNodes</a><br/>\n",
       "<a target=\"_blank\" href=\"https://annotation.github.io/text-fabric/Api/Features/#node-features\" title=\"doc\">F Feature</a>, <a target=\"_blank\" href=\"https://annotation.github.io/text-fabric/Api/Features/#node-features\" title=\"doc\">Fall AllFeatures</a>, <a target=\"_blank\" href=\"https://annotation.github.io/text-fabric/Api/Features/#node-features\" title=\"doc\">Fs FeatureString</a><br/>\n",
       "<a target=\"_blank\" href=\"https://annotation.github.io/text-fabric/Api/Search/#search\" title=\"doc\">S Search</a><br/>\n",
       "<a target=\"_blank\" href=\"https://annotation.github.io/text-fabric/Api/Text/#text\" title=\"doc\">T Text</a></details>"
      ],
      "text/plain": [
       "<IPython.core.display.HTML object>"
      ]
     },
     "metadata": {},
     "output_type": "display_data"
    }
   ],
   "source": [
    "A = use('banks:clone', checkout=\"clone\", hoist=globals())"
   ]
  },
  {
   "cell_type": "code",
   "execution_count": 8,
   "metadata": {},
   "outputs": [
    {
     "data": {
      "text/markdown": [
       "### book 100\n"
      ],
      "text/plain": [
       "<IPython.core.display.Markdown object>"
      ]
     },
     "metadata": {},
     "output_type": "display_data"
    },
    {
     "data": {
      "text/html": [
       "<span class=\"section ltr\">Consider Phlebas </span> <span class=\"plain outer   \" ><span class=\"plain txtu \"><span class=\"section\"> </span></span></span>"
      ],
      "text/plain": [
       "<IPython.core.display.HTML object>"
      ]
     },
     "metadata": {},
     "output_type": "display_data"
    },
    {
     "data": {
      "text/html": [
       "<span class=\"section ltr\">Consider Phlebas </span><div class=\"contnr c4 trm   \" ><div class=\"lbl c4 trm \" ><span class=\"nd\">book</span> <span class=\"txtu\"><span class=\"section\">Consider Phlebas</span></span></div> </div>"
      ],
      "text/plain": [
       "<IPython.core.display.HTML object>"
      ]
     },
     "metadata": {},
     "output_type": "display_data"
    },
    {
     "data": {
      "text/markdown": [
       "### chapter 101\n"
      ],
      "text/plain": [
       "<IPython.core.display.Markdown object>"
      ]
     },
     "metadata": {},
     "output_type": "display_data"
    },
    {
     "data": {
      "text/html": [
       "<span class=\"section ltr\">Consider Phlebas 1 </span> <span class=\"plain outer   \" ><span class=\"plain txtu \"><span class=\"section\"> </span></span></span>"
      ],
      "text/plain": [
       "<IPython.core.display.HTML object>"
      ]
     },
     "metadata": {},
     "output_type": "display_data"
    },
    {
     "data": {
      "text/html": [
       "<span class=\"section ltr\">Consider Phlebas 1 </span><div class=\"contnr c4 trm   \" ><div class=\"lbl c4 trm \" ><span class=\"nd\">chapter</span> <span class=\"txtu\"><span class=\"section\">Consider Phlebas 1</span></span></div> </div>"
      ],
      "text/plain": [
       "<IPython.core.display.HTML object>"
      ]
     },
     "metadata": {},
     "output_type": "display_data"
    },
    {
     "data": {
      "text/markdown": [
       "### sentence 115\n"
      ],
      "text/plain": [
       "<IPython.core.display.Markdown object>"
      ]
     },
     "metadata": {},
     "output_type": "display_data"
    },
    {
     "data": {
      "text/html": [
       "<span class=\"section ltr\">Consider Phlebas 1:1 </span> <span class=\"plain outer   \" ><span class=\"plain txtu \"></span><span class=\"plain    \" ><span class=\"txtu\">Everything </span></span><span class=\"plain    \" ><span class=\"txtu\">about </span></span><span class=\"plain    \" ><span class=\"txtu\">us, </span></span><span class=\"plain    \" ><span class=\"txtu\">everything </span></span><span class=\"plain    \" ><span class=\"txtu\">around </span></span><span class=\"plain    \" ><span class=\"txtu\">us, </span></span><span class=\"plain    \" ><span class=\"txtu\">everything </span></span><span class=\"plain    \" ><span class=\"txtu\">we </span></span><span class=\"plain    \" ><span class=\"txtu\">know </span></span><span class=\"plain    \" ><span class=\"txtu\">and </span></span><span class=\"plain    \" ><span class=\"txtu\">can </span></span><span class=\"plain    \" ><span class=\"txtu\">know </span></span><span class=\"plain    \" ><span class=\"txtu\">of </span></span><span class=\"plain    \" ><span class=\"txtu\">is </span></span><span class=\"plain    \" ><span class=\"txtu\">composed </span></span><span class=\"plain    \" ><span class=\"txtu\">ultimately </span></span><span class=\"plain    \" ><span class=\"txtu\">of </span></span><span class=\"plain    \" ><span class=\"txtu\">patterns </span></span><span class=\"plain    \" ><span class=\"txtu\">of </span></span><span class=\"plain    \" ><span class=\"txtu\">nothing; </span></span><span class=\"plain    \" ><span class=\"txtu\">that’s </span></span><span class=\"plain    \" ><span class=\"txtu\">the </span></span><span class=\"plain    \" ><span class=\"txtu\">bottom </span></span><span class=\"plain    \" ><span class=\"txtu\">line, </span></span><span class=\"plain    \" ><span class=\"txtu\">the </span></span><span class=\"plain    \" ><span class=\"txtu\">final </span></span><span class=\"plain    \" ><span class=\"txtu\">truth. </span></span></span>"
      ],
      "text/plain": [
       "<IPython.core.display.HTML object>"
      ]
     },
     "metadata": {},
     "output_type": "display_data"
    },
    {
     "data": {
      "text/html": [
       "<span class=\"section ltr\">Consider Phlebas 1:1 </span><div class=\"contnr c3    \" ><div class=\"lbl c3  \" ><span class=\"nd\">sentence</span></div> <div class=\"children hor wrap \"><div class=\"contnr c3    r \" ><div class=\"lbl c3  \" ><span class=\"nd\">line</span></div> <div class=\"children hor wrap \"><div class=\"contnr c0 trm   \" ><div class=\"lbl c0 trm \" ><span class=\"txtu\">Everything </span></div> </div></div></div><div class=\"contnr c3    l r \" ><div class=\"lbl c3  \" ><span class=\"nd\">line</span></div> <div class=\"children hor wrap \"><div class=\"contnr c0 trm   \" ><div class=\"lbl c0 trm \" ><span class=\"txtu\">about </span></div> </div></div></div><div class=\"contnr c3    l \" ><div class=\"lbl c3  \" ><span class=\"nd\">line</span></div> <div class=\"children hor wrap \"><div class=\"contnr c0 trm   \" ><div class=\"lbl c0 trm \" ><span class=\"txtu\">us, </span></div> </div></div></div><div class=\"contnr c3    r \" ><div class=\"lbl c3  \" ><span class=\"nd\">line</span></div> <div class=\"children hor wrap \"><div class=\"contnr c0 trm   \" ><div class=\"lbl c0 trm \" ><span class=\"txtu\">everything </span></div> </div></div></div><div class=\"contnr c3    l r \" ><div class=\"lbl c3  \" ><span class=\"nd\">line</span></div> <div class=\"children hor wrap \"><div class=\"contnr c0 trm   \" ><div class=\"lbl c0 trm \" ><span class=\"txtu\">around </span></div> </div></div></div><div class=\"contnr c3    l \" ><div class=\"lbl c3  \" ><span class=\"nd\">line</span></div> <div class=\"children hor wrap \"><div class=\"contnr c0 trm   \" ><div class=\"lbl c0 trm \" ><span class=\"txtu\">us, </span></div> </div></div></div><div class=\"contnr c3    r \" ><div class=\"lbl c3  \" ><span class=\"nd\">line</span></div> <div class=\"children hor wrap \"><div class=\"contnr c0 trm   \" ><div class=\"lbl c0 trm \" ><span class=\"txtu\">everything </span></div> </div></div></div><div class=\"contnr c3    l r \" ><div class=\"lbl c3  \" ><span class=\"nd\">line</span></div> <div class=\"children hor wrap \"><div class=\"contnr c0 trm   \" ><div class=\"lbl c0 trm \" ><span class=\"txtu\">we </span></div> </div></div></div><div class=\"contnr c3    l r \" ><div class=\"lbl c3  \" ><span class=\"nd\">line</span></div> <div class=\"children hor wrap \"><div class=\"contnr c0 trm   \" ><div class=\"lbl c0 trm \" ><span class=\"txtu\">know </span></div> </div></div></div><div class=\"contnr c0 trm   \" ><div class=\"lbl c0 trm \" ><span class=\"txtu\">and </span></div> </div><div class=\"contnr c0 trm   \" ><div class=\"lbl c0 trm \" ><span class=\"txtu\">can </span></div> </div><div class=\"contnr c0 trm   \" ><div class=\"lbl c0 trm \" ><span class=\"txtu\">know </span></div> </div><div class=\"contnr c0 trm   \" ><div class=\"lbl c0 trm \" ><span class=\"txtu\">of </span></div> </div><div class=\"contnr c3    l r \" ><div class=\"lbl c3  \" ><span class=\"nd\">line</span></div> <div class=\"children hor wrap \"><div class=\"contnr c0 trm   \" ><div class=\"lbl c0 trm \" ><span class=\"txtu\">is </span></div> </div></div></div><div class=\"contnr c3    l r \" ><div class=\"lbl c3  \" ><span class=\"nd\">line</span></div> <div class=\"children hor wrap \"><div class=\"contnr c0 trm   \" ><div class=\"lbl c0 trm \" ><span class=\"txtu\">composed </span></div> </div></div></div><div class=\"contnr c3    l r \" ><div class=\"lbl c3  \" ><span class=\"nd\">line</span></div> <div class=\"children hor wrap \"><div class=\"contnr c0 trm   \" ><div class=\"lbl c0 trm \" ><span class=\"txtu\">ultimately </span></div> </div></div></div><div class=\"contnr c3    l r \" ><div class=\"lbl c3  \" ><span class=\"nd\">line</span></div> <div class=\"children hor wrap \"><div class=\"contnr c0 trm   \" ><div class=\"lbl c0 trm \" ><span class=\"txtu\">of </span></div> </div></div></div><div class=\"contnr c3    l r \" ><div class=\"lbl c3  \" ><span class=\"nd\">line</span></div> <div class=\"children hor wrap \"><div class=\"contnr c0 trm   \" ><div class=\"lbl c0 trm \" ><span class=\"txtu\">patterns </span></div> </div></div></div><div class=\"contnr c3    l r \" ><div class=\"lbl c3  \" ><span class=\"nd\">line</span></div> <div class=\"children hor wrap \"><div class=\"contnr c0 trm   \" ><div class=\"lbl c0 trm \" ><span class=\"txtu\">of </span></div> </div></div></div><div class=\"contnr c3    l \" ><div class=\"lbl c3  \" ><span class=\"nd\">line</span></div> <div class=\"children hor wrap \"><div class=\"contnr c0 trm   \" ><div class=\"lbl c0 trm \" ><span class=\"txtu\">nothing; </span></div> </div></div></div><div class=\"contnr c3    r \" ><div class=\"lbl c3  \" ><span class=\"nd\">line</span></div> <div class=\"children hor wrap \"><div class=\"contnr c0 trm   \" ><div class=\"lbl c0 trm \" ><span class=\"txtu\">that’s </span></div> </div></div></div><div class=\"contnr c3    l r \" ><div class=\"lbl c3  \" ><span class=\"nd\">line</span></div> <div class=\"children hor wrap \"><div class=\"contnr c0 trm   \" ><div class=\"lbl c0 trm \" ><span class=\"txtu\">the </span></div> </div></div></div><div class=\"contnr c3    l r \" ><div class=\"lbl c3  \" ><span class=\"nd\">line</span></div> <div class=\"children hor wrap \"><div class=\"contnr c0 trm   \" ><div class=\"lbl c0 trm \" ><span class=\"txtu\">bottom </span></div> </div></div></div><div class=\"contnr c3    l r \" ><div class=\"lbl c3  \" ><span class=\"nd\">line</span></div> <div class=\"children hor wrap \"><div class=\"contnr c0 trm   \" ><div class=\"lbl c0 trm \" ><span class=\"txtu\">line, </span></div> </div></div></div><div class=\"contnr c3    l r \" ><div class=\"lbl c3  \" ><span class=\"nd\">line</span></div> <div class=\"children hor wrap \"><div class=\"contnr c0 trm   \" ><div class=\"lbl c0 trm \" ><span class=\"txtu\">the </span></div> </div></div></div><div class=\"contnr c3    l r \" ><div class=\"lbl c3  \" ><span class=\"nd\">line</span></div> <div class=\"children hor wrap \"><div class=\"contnr c0 trm   \" ><div class=\"lbl c0 trm \" ><span class=\"txtu\">final </span></div> </div></div></div><div class=\"contnr c3    l \" ><div class=\"lbl c3  \" ><span class=\"nd\">line</span></div> <div class=\"children hor wrap \"><div class=\"contnr c0 trm   \" ><div class=\"lbl c0 trm \" ><span class=\"txtu\">truth. </span></div> </div></div></div></div></div>"
      ],
      "text/plain": [
       "<IPython.core.display.HTML object>"
      ]
     },
     "metadata": {},
     "output_type": "display_data"
    },
    {
     "data": {
      "text/markdown": [
       "### line 103\n"
      ],
      "text/plain": [
       "<IPython.core.display.Markdown object>"
      ]
     },
     "metadata": {},
     "output_type": "display_data"
    },
    {
     "data": {
      "text/html": [
       "<span class=\"section ltr\">Consider Phlebas 1:1 </span> <span class=\"plain    \" ><span class=\"txtu\">Everything </span></span><span class=\"plain    \" ><span class=\"txtu\">about </span></span><span class=\"plain    \" ><span class=\"txtu\">us, </span></span>"
      ],
      "text/plain": [
       "<IPython.core.display.HTML object>"
      ]
     },
     "metadata": {},
     "output_type": "display_data"
    },
    {
     "data": {
      "text/html": [
       "<span class=\"section ltr\">Consider Phlebas 1:1 </span><div class=\"children hor wrap \"><div class=\"contnr c3    r \" ><div class=\"lbl c3  \" ><span class=\"nd\">line</span></div> <div class=\"children hor wrap \"><div class=\"contnr c0 trm   \" ><div class=\"lbl c0 trm \" ><span class=\"txtu\">Everything </span></div> </div></div></div><div class=\"contnr c3    l r \" ><div class=\"lbl c3  \" ><span class=\"nd\">line</span></div> <div class=\"children hor wrap \"><div class=\"contnr c0 trm   \" ><div class=\"lbl c0 trm \" ><span class=\"txtu\">about </span></div> </div></div></div><div class=\"contnr c3    l \" ><div class=\"lbl c3  \" ><span class=\"nd\">line</span></div> <div class=\"children hor wrap \"><div class=\"contnr c0 trm   \" ><div class=\"lbl c0 trm \" ><span class=\"txtu\">us, </span></div> </div></div></div></div>"
      ],
      "text/plain": [
       "<IPython.core.display.HTML object>"
      ]
     },
     "metadata": {},
     "output_type": "display_data"
    },
    {
     "data": {
      "text/markdown": [
       "### word 1\n"
      ],
      "text/plain": [
       "<IPython.core.display.Markdown object>"
      ]
     },
     "metadata": {},
     "output_type": "display_data"
    },
    {
     "data": {
      "text/html": [
       "<span class=\"section ltr\">Consider Phlebas 1:1 </span> <span class=\"plain outer   \" ><span class=\"txtu\">Everything </span></span>"
      ],
      "text/plain": [
       "<IPython.core.display.HTML object>"
      ]
     },
     "metadata": {},
     "output_type": "display_data"
    },
    {
     "data": {
      "text/html": [
       "<span class=\"section ltr\">Consider Phlebas 1:1 </span><div class=\"contnr c0 trm   \" ><div class=\"lbl c0 trm \" ><span class=\"txtu\">Everything </span></div> </div>"
      ],
      "text/plain": [
       "<IPython.core.display.HTML object>"
      ]
     },
     "metadata": {},
     "output_type": "display_data"
    }
   ],
   "source": [
    "typeShow(A)"
   ]
  },
  {
   "cell_type": "code",
   "execution_count": 9,
   "metadata": {},
   "outputs": [
    {
     "data": {
      "text/markdown": [
       "<details><summary><b>banks</b> <i>app context</i></summary>\n",
       "<details><summary>1. afterChild</summary>\n",
       "{}\n",
       "\n",
       "</details>\n",
       "<details><summary>2. allowedBaseTypes</summary>\n",
       "\n",
       "1.  `line`\n",
       "\n",
       "</details>\n",
       "<details><summary>3. apiVersion</summary>\n",
       "`1`\n",
       "\n",
       "</details>\n",
       "<details><summary>4. appName</summary>\n",
       "`banks`\n",
       "\n",
       "</details>\n",
       "<details><summary>5. appPath</summary>\n",
       "`/Users/dirk/github/annotation/app-banks/code`\n",
       "\n",
       "</details>\n",
       "<details><summary>6. baseTypes</summary>\n",
       "\n",
       "1.  `word`\n",
       "\n",
       "</details>\n",
       "<details><summary>7. browseContentPretty</summary>\n",
       "False\n",
       "\n",
       "</details>\n",
       "<details><summary>8. browseNavLevel</summary>\n",
       "`2`\n",
       "\n",
       "</details>\n",
       "<details><summary>9. charText</summary>\n",
       "`How TF features represent text`\n",
       "\n",
       "</details>\n",
       "<details><summary>10. charUrl</summary>\n",
       "`https://annotation.github.io/text-fabric/Writing/Transcription/`\n",
       "\n",
       "</details>\n",
       "<details><summary>11. childType</summary>\n",
       "\n",
       "*   **`book`**: \n",
       "    *   `chapter`\n",
       "*   **`chapter`**: \n",
       "    *   `sentence`\n",
       "*   **`line`**: \n",
       "    *   `word`\n",
       "*   **`sentence`**: \n",
       "    *   `word`\n",
       "\n",
       "</details>\n",
       "<details><summary>12. childrenCustom</summary>\n",
       "{}\n",
       "\n",
       "</details>\n",
       "<details><summary>13. chunkedTypes</summary>\n",
       "\n",
       "1.  `line`\n",
       "\n",
       "</details>\n",
       "<details><summary>14. commit</summary>\n",
       "None\n",
       "\n",
       "</details>\n",
       "<details><summary>15. condenseType</summary>\n",
       "`sentence`\n",
       "\n",
       "</details>\n",
       "<details><summary>16. condenseTypes</summary>\n",
       "\n",
       "1.  \n",
       "    *   `book`\n",
       "    *   `99.0`\n",
       "    *   `100`\n",
       "    *   `100`\n",
       "2.  \n",
       "    *   `chapter`\n",
       "    *   `49.5`\n",
       "    *   `101`\n",
       "    *   `102`\n",
       "3.  \n",
       "    *   `sentence`\n",
       "    *   `33.0`\n",
       "    *   `115`\n",
       "    *   `117`\n",
       "4.  \n",
       "    *   `line`\n",
       "    *   `7.666666666666667`\n",
       "    *   `103`\n",
       "    *   `114`\n",
       "5.  \n",
       "    *   `word`\n",
       "    *   `1`\n",
       "    *   `1`\n",
       "    *   `99`\n",
       "\n",
       "</details>\n",
       "<details><summary>17. corpus</summary>\n",
       "`Two quotes from Consider Phlebas by Iain M. Banks`\n",
       "\n",
       "</details>\n",
       "<details><summary>18. css</summary>\n",
       "*empty*\n",
       "\n",
       "</details>\n",
       "<details><summary>19. dataDisplay</summary>\n",
       "\n",
       "*   **`textFormats`**: \n",
       "    *   **`layout-orig-full`**: \n",
       "        *   **`method`**: `layoutRich`\n",
       "        *   **`style`**: `normal`\n",
       "\n",
       "</details>\n",
       "<details><summary>20. defaultClsOrig</summary>\n",
       "`txtu`\n",
       "\n",
       "</details>\n",
       "<details><summary>21. defaultFormat</summary>\n",
       "`text-orig-full`\n",
       "\n",
       "</details>\n",
       "<details><summary>22. direction</summary>\n",
       "`ltr`\n",
       "\n",
       "</details>\n",
       "<details><summary>23. docBase</summary>\n",
       "`https://nbviewer.jupyter.org/github/annotation/banks/blob/master/programs`\n",
       "\n",
       "</details>\n",
       "<details><summary>24. docExt</summary>\n",
       "`.ipynb`\n",
       "\n",
       "</details>\n",
       "<details><summary>25. docPage</summary>\n",
       "`convert`\n",
       "\n",
       "</details>\n",
       "<details><summary>26. docRoot</summary>\n",
       "`https://nbviewer.jupyter.org/github`\n",
       "\n",
       "</details>\n",
       "<details><summary>27. docUrl</summary>\n",
       "`https://nbviewer.jupyter.org/github/annotation/banks/blob/master/programs/convert.ipynb`\n",
       "\n",
       "</details>\n",
       "<details><summary>28. docs</summary>\n",
       "\n",
       "*   **`docBase`**: `{docRoot}/{org}/{repo}/blob/master/programs`\n",
       "*   **`docExt`**: `.ipynb`\n",
       "*   **`docPage`**: `convert`\n",
       "*   **`docRoot`**: `{urlNb}`\n",
       "*   **`featureBase`**: `{docBase}`\n",
       "*   **`featurePage`**: `convert`\n",
       "\n",
       "</details>\n",
       "<details><summary>29. doi</summary>\n",
       "`10.5281/zenodo.2630416`\n",
       "\n",
       "</details>\n",
       "<details><summary>30. exampleSection</summary>\n",
       "`Consider Phlebas 1:1`\n",
       "\n",
       "</details>\n",
       "<details><summary>31. exampleSectionHtml</summary>\n",
       "`<code>Consider Phlebas 1:1</code>`\n",
       "\n",
       "</details>\n",
       "<details><summary>32. excludedFeatures</summary>\n",
       "set()\n",
       "\n",
       "</details>\n",
       "<details><summary>33. extension</summary>\n",
       "*empty*\n",
       "\n",
       "</details>\n",
       "<details><summary>34. featureBase</summary>\n",
       "`https://nbviewer.jupyter.org/github/annotation/banks/blob/master/programs`\n",
       "\n",
       "</details>\n",
       "<details><summary>35. featurePage</summary>\n",
       "`convert`\n",
       "\n",
       "</details>\n",
       "<details><summary>36. features</summary>\n",
       "\n",
       "*   **`book`**: \n",
       "    *   []\n",
       "    *   {}\n",
       "*   **`line`**: \n",
       "    *   \n",
       "        *   `terminator`\n",
       "    *   {}\n",
       "*   **`sentence`**: \n",
       "    *   []\n",
       "    *   {}\n",
       "*   **`word`**: \n",
       "    *   \n",
       "        *   `gap`\n",
       "    *   {}\n",
       "\n",
       "</details>\n",
       "<details><summary>37. featuresBare</summary>\n",
       "\n",
       "*   **`book`**: \n",
       "    *   \n",
       "        *   `author`\n",
       "    *   {}\n",
       "*   **`line`**: \n",
       "    *   []\n",
       "    *   {}\n",
       "*   **`sentence`**: \n",
       "    *   []\n",
       "    *   {}\n",
       "*   **`word`**: \n",
       "    *   []\n",
       "    *   {}\n",
       "\n",
       "</details>\n",
       "<details><summary>38. formatCls</summary>\n",
       "\n",
       "*   **`layout-orig-full`**: `txtn`\n",
       "*   **`line-default`**: `txtn`\n",
       "*   **`line-term`**: `txtn`\n",
       "*   **`text-orig-full`**: `txtu`\n",
       "\n",
       "</details>\n",
       "<details><summary>39. formatHtml</summary>\n",
       "\n",
       "1.  `layout-orig-full`\n",
       "\n",
       "</details>\n",
       "<details><summary>40. formatMethod</summary>\n",
       "\n",
       "*   **`layout-orig-full`**: `layoutRich`\n",
       "\n",
       "</details>\n",
       "<details><summary>41. formatStyle</summary>\n",
       "\n",
       "*   **`normal`**: `txtn`\n",
       "*   **`orig`**: `txtu`\n",
       "*   **`phono`**: `txtp`\n",
       "*   **`source`**: `txto`\n",
       "*   **`trans`**: `txtt`\n",
       "\n",
       "</details>\n",
       "<details><summary>42. graphicsRelative</summary>\n",
       "None\n",
       "\n",
       "</details>\n",
       "<details><summary>43. hasGraphics</summary>\n",
       "set()\n",
       "\n",
       "</details>\n",
       "<details><summary>44. interfaceDefaults</summary>\n",
       "\n",
       "*   **`lineNumbers`**: None\n",
       "*   **`prettyTypes`**: `True`\n",
       "*   **`queryFeatures`**: `True`\n",
       "*   **`showChunks`**: `True`\n",
       "*   **`showGraphics`**: None\n",
       "*   **`standardFeatures`**: False\n",
       "*   **`withNodes`**: False\n",
       "*   **`withTypes`**: False\n",
       "\n",
       "</details>\n",
       "<details><summary>45. isChunkOf</summary>\n",
       "\n",
       "*   **`word`**: `line`\n",
       "\n",
       "</details>\n",
       "<details><summary>46. isCompatible</summary>\n",
       "`True`\n",
       "\n",
       "</details>\n",
       "<details><summary>47. labels</summary>\n",
       "\n",
       "*   **`book`**: \n",
       "    *   `True`\n",
       "    *   ()\n",
       "*   **`chapter`**: \n",
       "    *   `True`\n",
       "    *   ()\n",
       "*   **`line`**: \n",
       "    *   `{number}`\n",
       "    *   \n",
       "        *   `number`\n",
       "*   **`sentence`**: \n",
       "    *   *empty*\n",
       "    *   ()\n",
       "*   **`word`**: \n",
       "    *   `True`\n",
       "    *   ()\n",
       "\n",
       "</details>\n",
       "<details><summary>48. language</summary>\n",
       "*empty*\n",
       "\n",
       "</details>\n",
       "<details><summary>49. levelCls</summary>\n",
       "\n",
       "*   **`book`**: \n",
       "    *   **`children`**: `children hor wrap`\n",
       "    *   **`container`**: `contnr c4`\n",
       "    *   **`label`**: `lbl c4`\n",
       "*   **`chapter`**: \n",
       "    *   **`children`**: `children hor wrap`\n",
       "    *   **`container`**: `contnr c4`\n",
       "    *   **`label`**: `lbl c4`\n",
       "*   **`line`**: \n",
       "    *   **`children`**: `children hor wrap`\n",
       "    *   **`container`**: `contnr c3`\n",
       "    *   **`label`**: `lbl c3`\n",
       "*   **`sentence`**: \n",
       "    *   **`children`**: `children hor wrap`\n",
       "    *   **`container`**: `contnr c3`\n",
       "    *   **`label`**: `lbl c3`\n",
       "*   **`word`**: \n",
       "    *   **`children`**: *empty*\n",
       "    *   **`container`**: `contnr c0`\n",
       "    *   **`label`**: `lbl c0`\n",
       "\n",
       "</details>\n",
       "<details><summary>50. levels</summary>\n",
       "\n",
       "*   **`book`**: \n",
       "    *   **`flow`**: `hor`\n",
       "    *   **`level`**: `4`\n",
       "    *   **`stretch`**: `True`\n",
       "    *   **`wrap`**: `True`\n",
       "*   **`chapter`**: \n",
       "    *   **`flow`**: `hor`\n",
       "    *   **`level`**: `4`\n",
       "    *   **`stretch`**: `True`\n",
       "    *   **`wrap`**: `True`\n",
       "*   **`line`**: \n",
       "    *   **`flow`**: `hor`\n",
       "    *   **`level`**: `3`\n",
       "    *   **`stretch`**: `True`\n",
       "    *   **`wrap`**: `True`\n",
       "*   **`sentence`**: \n",
       "    *   **`flow`**: `hor`\n",
       "    *   **`level`**: `3`\n",
       "    *   **`stretch`**: `True`\n",
       "    *   **`wrap`**: `True`\n",
       "*   **`word`**: \n",
       "    *   **`flow`**: `ver`\n",
       "    *   **`level`**: 0\n",
       "    *   **`stretch`**: False\n",
       "    *   **`wrap`**: False\n",
       "\n",
       "</details>\n",
       "<details><summary>51. lexMap</summary>\n",
       "{}\n",
       "\n",
       "</details>\n",
       "<details><summary>52. lexTypes</summary>\n",
       "set()\n",
       "\n",
       "</details>\n",
       "<details><summary>53. lineNumberFeature</summary>\n",
       "{}\n",
       "\n",
       "</details>\n",
       "<details><summary>54. local</summary>\n",
       "`clone`\n",
       "\n",
       "</details>\n",
       "<details><summary>55. localDir</summary>\n",
       "`/Users/dirk/github/annotation/banks/_temp`\n",
       "\n",
       "</details>\n",
       "<details><summary>56. moduleSpecs</summary>\n",
       "()\n",
       "\n",
       "</details>\n",
       "<details><summary>57. noChildren</summary>\n",
       "set()\n",
       "\n",
       "</details>\n",
       "<details><summary>58. noDescendTypes</summary>\n",
       "set()\n",
       "\n",
       "</details>\n",
       "<details><summary>59. noneValues</summary>\n",
       "\n",
       "1.  None\n",
       "\n",
       "</details>\n",
       "<details><summary>60. org</summary>\n",
       "`annotation`\n",
       "\n",
       "</details>\n",
       "<details><summary>61. plainCustom</summary>\n",
       "{}\n",
       "\n",
       "</details>\n",
       "<details><summary>62. prettyCustom</summary>\n",
       "{}\n",
       "\n",
       "</details>\n",
       "<details><summary>63. provenanceSpec</summary>\n",
       "\n",
       "*   **`corpus`**: `Two quotes from Consider Phlebas by Iain M. Banks`\n",
       "*   **`doi`**: `10.5281/zenodo.2630416`\n",
       "*   **`org`**: `annotation`\n",
       "*   **`repo`**: `banks`\n",
       "*   **`version`**: `0.2`\n",
       "\n",
       "</details>\n",
       "<details><summary>64. relative</summary>\n",
       "`tf`\n",
       "\n",
       "</details>\n",
       "<details><summary>65. release</summary>\n",
       "None\n",
       "\n",
       "</details>\n",
       "<details><summary>66. repo</summary>\n",
       "`banks`\n",
       "\n",
       "</details>\n",
       "<details><summary>67. sectionSep1</summary>\n",
       "` `\n",
       "\n",
       "</details>\n",
       "<details><summary>68. sectionSep2</summary>\n",
       "`:`\n",
       "\n",
       "</details>\n",
       "<details><summary>69. showVerseInTuple</summary>\n",
       "False\n",
       "\n",
       "</details>\n",
       "<details><summary>70. styles</summary>\n",
       "{}\n",
       "\n",
       "</details>\n",
       "<details><summary>71. templates</summary>\n",
       "\n",
       "*   **`book`**: \n",
       "    *   `True`\n",
       "    *   ()\n",
       "*   **`chapter`**: \n",
       "    *   `True`\n",
       "    *   ()\n",
       "*   **`line`**: \n",
       "    *   `True`\n",
       "    *   ()\n",
       "*   **`sentence`**: \n",
       "    *   *empty*\n",
       "    *   ()\n",
       "*   **`word`**: \n",
       "    *   `True`\n",
       "    *   ()\n",
       "\n",
       "</details>\n",
       "<details><summary>72. tfDoc</summary>\n",
       "`https://annotation.github.io/text-fabric`\n",
       "\n",
       "</details>\n",
       "<details><summary>73. transform</summary>\n",
       "{}\n",
       "\n",
       "</details>\n",
       "<details><summary>74. typeDisplay</summary>\n",
       "\n",
       "*   **`book`**: \n",
       "    *   **`featuresBare`**: `author`\n",
       "*   **`line`**: \n",
       "    *   **`features`**: `terminator`\n",
       "    *   **`label`**: `{number}`\n",
       "    *   **`verselike`**: `True`\n",
       "*   **`sentence`**: \n",
       "    *   **`children`**: \n",
       "        *   `word`\n",
       "*   **`word`**: \n",
       "    *   **`chunkOf`**: `line`\n",
       "    *   **`features`**: `gap`\n",
       "\n",
       "</details>\n",
       "<details><summary>75. urlGh</summary>\n",
       "`https://github.com`\n",
       "\n",
       "</details>\n",
       "<details><summary>76. urlNb</summary>\n",
       "`https://nbviewer.jupyter.org/github`\n",
       "\n",
       "</details>\n",
       "<details><summary>77. verseTypes</summary>\n",
       "\n",
       "1.  `line`\n",
       "2.  `sentence`\n",
       "\n",
       "</details>\n",
       "<details><summary>78. version</summary>\n",
       "`0.2`\n",
       "\n",
       "</details>\n",
       "<details><summary>79. webBase</summary>\n",
       "None\n",
       "\n",
       "</details>\n",
       "<details><summary>80. webHint</summary>\n",
       "None\n",
       "\n",
       "</details>\n",
       "<details><summary>81. webLang</summary>\n",
       "None\n",
       "\n",
       "</details>\n",
       "<details><summary>82. webLexId</summary>\n",
       "None\n",
       "\n",
       "</details>\n",
       "<details><summary>83. webUrl</summary>\n",
       "None\n",
       "\n",
       "</details>\n",
       "<details><summary>84. webUrlLex</summary>\n",
       "None\n",
       "\n",
       "</details>\n",
       "<details><summary>85. writing</summary>\n",
       "*empty*\n",
       "\n",
       "</details>\n",
       "<details><summary>86. zip</summary>\n",
       "\n",
       "1.  `banks`\n",
       "\n",
       "</details>\n",
       "</details>\n"
      ],
      "text/plain": [
       "<IPython.core.display.Markdown object>"
      ]
     },
     "metadata": {},
     "output_type": "display_data"
    }
   ],
   "source": [
    "A.showContext()"
   ]
  },
  {
   "cell_type": "code",
   "execution_count": 10,
   "metadata": {},
   "outputs": [
    {
     "data": {
      "text/html": [
       "<span class=\"section ltr\">Consider Phlebas 1:1 </span><div class=\"contnr c3    \" ><div class=\"lbl c3  \" ><span class=\"nd\">sentence</span></div> <div class=\"children hor wrap \"><div class=\"contnr c3    r \" ><div class=\"lbl c3  \" ><span class=\"nd\">line</span></div> <div class=\"children hor wrap \"><div class=\"contnr c0 trm   \" ><div class=\"lbl c0 trm \" ><span class=\"txtu\">Everything </span></div> </div></div></div><div class=\"contnr c3    l r \" ><div class=\"lbl c3  \" ><span class=\"nd\">line</span></div> <div class=\"children hor wrap \"><div class=\"contnr c0 trm   \" ><div class=\"lbl c0 trm \" ><span class=\"txtu\">about </span></div> </div></div></div><div class=\"contnr c3    l \" ><div class=\"lbl c3  \" ><span class=\"nd\">line</span></div> <div class=\"children hor wrap \"><div class=\"contnr c0 trm   \" ><div class=\"lbl c0 trm \" ><span class=\"txtu\">us, </span></div> </div></div></div><div class=\"contnr c3    r \" ><div class=\"lbl c3  \" ><span class=\"nd\">line</span></div> <div class=\"children hor wrap \"><div class=\"contnr c0 trm   \" ><div class=\"lbl c0 trm \" ><span class=\"txtu\">everything </span></div> </div></div></div><div class=\"contnr c3    l r \" ><div class=\"lbl c3  \" ><span class=\"nd\">line</span></div> <div class=\"children hor wrap \"><div class=\"contnr c0 trm   \" ><div class=\"lbl c0 trm \" ><span class=\"txtu\">around </span></div> </div></div></div><div class=\"contnr c3    l \" ><div class=\"lbl c3  \" ><span class=\"nd\">line</span></div> <div class=\"children hor wrap \"><div class=\"contnr c0 trm   \" ><div class=\"lbl c0 trm \" ><span class=\"txtu\">us, </span></div> </div></div></div><div class=\"contnr c3    r \" ><div class=\"lbl c3  \" ><span class=\"nd\">line</span></div> <div class=\"children hor wrap \"><div class=\"contnr c0 trm   \" ><div class=\"lbl c0 trm \" ><span class=\"txtu\">everything </span></div> </div></div></div><div class=\"contnr c3    l r \" ><div class=\"lbl c3  \" ><span class=\"nd\">line</span></div> <div class=\"children hor wrap \"><div class=\"contnr c0 trm   \" ><div class=\"lbl c0 trm \" ><span class=\"txtu\">we </span></div> </div></div></div><div class=\"contnr c3    l r \" ><div class=\"lbl c3  \" ><span class=\"nd\">line</span></div> <div class=\"children hor wrap \"><div class=\"contnr c0 trm   \" ><div class=\"lbl c0 trm \" ><span class=\"txtu\">know </span></div> </div></div></div><div class=\"contnr c0 trm   \" ><div class=\"lbl c0 trm \" ><span class=\"txtu\">and </span></div> </div><div class=\"contnr c0 trm   \" ><div class=\"lbl c0 trm \" ><span class=\"txtu\">can </span></div> </div><div class=\"contnr c0 trm   \" ><div class=\"lbl c0 trm \" ><span class=\"txtu\">know </span></div> </div><div class=\"contnr c0 trm   \" ><div class=\"lbl c0 trm \" ><span class=\"txtu\">of </span></div> </div><div class=\"contnr c3    l r \" ><div class=\"lbl c3  \" ><span class=\"nd\">line</span></div> <div class=\"children hor wrap \"><div class=\"contnr c0 trm   \" ><div class=\"lbl c0 trm \" ><span class=\"txtu\">is </span></div> </div></div></div><div class=\"contnr c3    l r \" ><div class=\"lbl c3  \" ><span class=\"nd\">line</span></div> <div class=\"children hor wrap \"><div class=\"contnr c0 trm   \" ><div class=\"lbl c0 trm \" ><span class=\"txtu\">composed </span></div> </div></div></div><div class=\"contnr c3    l r \" ><div class=\"lbl c3  \" ><span class=\"nd\">line</span></div> <div class=\"children hor wrap \"><div class=\"contnr c0 trm   \" ><div class=\"lbl c0 trm \" ><span class=\"txtu\">ultimately </span></div> </div></div></div><div class=\"contnr c3    l r \" ><div class=\"lbl c3  \" ><span class=\"nd\">line</span></div> <div class=\"children hor wrap \"><div class=\"contnr c0 trm   \" ><div class=\"lbl c0 trm \" ><span class=\"txtu\">of </span></div> </div></div></div><div class=\"contnr c3    l r \" ><div class=\"lbl c3  \" ><span class=\"nd\">line</span></div> <div class=\"children hor wrap \"><div class=\"contnr c0 trm   \" ><div class=\"lbl c0 trm \" ><span class=\"txtu\">patterns </span></div> </div></div></div><div class=\"contnr c3    l r \" ><div class=\"lbl c3  \" ><span class=\"nd\">line</span></div> <div class=\"children hor wrap \"><div class=\"contnr c0 trm   \" ><div class=\"lbl c0 trm \" ><span class=\"txtu\">of </span></div> </div></div></div><div class=\"contnr c3    l \" ><div class=\"lbl c3  \" ><span class=\"nd\">line</span></div> <div class=\"children hor wrap \"><div class=\"contnr c0 trm   \" ><div class=\"lbl c0 trm \" ><span class=\"txtu\">nothing; </span></div> </div></div></div><div class=\"contnr c3    r \" ><div class=\"lbl c3  \" ><span class=\"nd\">line</span></div> <div class=\"children hor wrap \"><div class=\"contnr c0 trm   \" ><div class=\"lbl c0 trm \" ><span class=\"txtu\">that’s </span></div> </div></div></div><div class=\"contnr c3    l r \" ><div class=\"lbl c3  \" ><span class=\"nd\">line</span></div> <div class=\"children hor wrap \"><div class=\"contnr c0 trm   \" ><div class=\"lbl c0 trm \" ><span class=\"txtu\">the </span></div> </div></div></div><div class=\"contnr c3    l r \" ><div class=\"lbl c3  \" ><span class=\"nd\">line</span></div> <div class=\"children hor wrap \"><div class=\"contnr c0 trm   \" ><div class=\"lbl c0 trm \" ><span class=\"txtu\">bottom </span></div> </div></div></div><div class=\"contnr c3    l r \" ><div class=\"lbl c3  \" ><span class=\"nd\">line</span></div> <div class=\"children hor wrap \"><div class=\"contnr c0 trm   \" ><div class=\"lbl c0 trm \" ><span class=\"txtu\">line, </span></div> </div></div></div><div class=\"contnr c3    l r \" ><div class=\"lbl c3  \" ><span class=\"nd\">line</span></div> <div class=\"children hor wrap \"><div class=\"contnr c0 trm   \" ><div class=\"lbl c0 trm \" ><span class=\"txtu\">the </span></div> </div></div></div><div class=\"contnr c3    l r \" ><div class=\"lbl c3  \" ><span class=\"nd\">line</span></div> <div class=\"children hor wrap \"><div class=\"contnr c0 trm   \" ><div class=\"lbl c0 trm \" ><span class=\"txtu\">final </span></div> </div></div></div><div class=\"contnr c3    l \" ><div class=\"lbl c3  \" ><span class=\"nd\">line</span></div> <div class=\"children hor wrap \"><div class=\"contnr c0 trm   \" ><div class=\"lbl c0 trm \" ><span class=\"txtu\">truth. </span></div> </div></div></div></div></div>"
      ],
      "text/plain": [
       "<IPython.core.display.HTML object>"
      ]
     },
     "metadata": {},
     "output_type": "display_data"
    }
   ],
   "source": [
    "A.pretty(115)"
   ]
  },
  {
   "cell_type": "code",
   "execution_count": 11,
   "metadata": {},
   "outputs": [
    {
     "data": {
      "text/markdown": [
       "### book 100\n"
      ],
      "text/plain": [
       "<IPython.core.display.Markdown object>"
      ]
     },
     "metadata": {},
     "output_type": "display_data"
    },
    {
     "data": {
      "text/html": [
       "<span class=\"section ltr\">Consider Phlebas </span> <span class=\"plain outer   \" ><span class=\"plain txtu \"><span class=\"section\"> </span></span></span>"
      ],
      "text/plain": [
       "<IPython.core.display.HTML object>"
      ]
     },
     "metadata": {},
     "output_type": "display_data"
    },
    {
     "data": {
      "text/html": [
       "<span class=\"section ltr\">Consider Phlebas </span><div class=\"contnr c4 trm   \" ><div class=\"lbl c4 trm \" ><span class=\"nd\">book</span> <span class=\"txtu\"><span class=\"section\">Consider Phlebas</span></span></div> </div>"
      ],
      "text/plain": [
       "<IPython.core.display.HTML object>"
      ]
     },
     "metadata": {},
     "output_type": "display_data"
    },
    {
     "data": {
      "text/markdown": [
       "### chapter 101\n"
      ],
      "text/plain": [
       "<IPython.core.display.Markdown object>"
      ]
     },
     "metadata": {},
     "output_type": "display_data"
    },
    {
     "data": {
      "text/html": [
       "<span class=\"section ltr\">Consider Phlebas 1 </span> <span class=\"plain outer   \" ><span class=\"plain txtu \"><span class=\"section\"> </span></span></span>"
      ],
      "text/plain": [
       "<IPython.core.display.HTML object>"
      ]
     },
     "metadata": {},
     "output_type": "display_data"
    },
    {
     "data": {
      "text/html": [
       "<span class=\"section ltr\">Consider Phlebas 1 </span><div class=\"contnr c4 trm   \" ><div class=\"lbl c4 trm \" ><span class=\"nd\">chapter</span> <span class=\"txtu\"><span class=\"section\">Consider Phlebas 1</span></span></div> </div>"
      ],
      "text/plain": [
       "<IPython.core.display.HTML object>"
      ]
     },
     "metadata": {},
     "output_type": "display_data"
    },
    {
     "data": {
      "text/markdown": [
       "### sentence 115\n"
      ],
      "text/plain": [
       "<IPython.core.display.Markdown object>"
      ]
     },
     "metadata": {},
     "output_type": "display_data"
    },
    {
     "data": {
      "text/html": [
       "<span class=\"section ltr\">Consider Phlebas 1:1 </span> <span class=\"plain outer   \" ><span class=\"plain txtu \"></span><span class=\"plain    \" ><span class=\"txtu\">Everything </span></span><span class=\"plain    \" ><span class=\"txtu\">about </span></span><span class=\"plain    \" ><span class=\"txtu\">us, </span></span><span class=\"plain    \" ><span class=\"txtu\">everything </span></span><span class=\"plain    \" ><span class=\"txtu\">around </span></span><span class=\"plain    \" ><span class=\"txtu\">us, </span></span><span class=\"plain    \" ><span class=\"txtu\">everything </span></span><span class=\"plain    \" ><span class=\"txtu\">we </span></span><span class=\"plain    \" ><span class=\"txtu\">know </span></span><span class=\"plain    \" ><span class=\"txtu\">and </span></span><span class=\"plain    \" ><span class=\"txtu\">can </span></span><span class=\"plain    \" ><span class=\"txtu\">know </span></span><span class=\"plain    \" ><span class=\"txtu\">of </span></span><span class=\"plain    \" ><span class=\"txtu\">is </span></span><span class=\"plain    \" ><span class=\"txtu\">composed </span></span><span class=\"plain    \" ><span class=\"txtu\">ultimately </span></span><span class=\"plain    \" ><span class=\"txtu\">of </span></span><span class=\"plain    \" ><span class=\"txtu\">patterns </span></span><span class=\"plain    \" ><span class=\"txtu\">of </span></span><span class=\"plain    \" ><span class=\"txtu\">nothing; </span></span><span class=\"plain    \" ><span class=\"txtu\">that’s </span></span><span class=\"plain    \" ><span class=\"txtu\">the </span></span><span class=\"plain    \" ><span class=\"txtu\">bottom </span></span><span class=\"plain    \" ><span class=\"txtu\">line, </span></span><span class=\"plain    \" ><span class=\"txtu\">the </span></span><span class=\"plain    \" ><span class=\"txtu\">final </span></span><span class=\"plain    \" ><span class=\"txtu\">truth. </span></span></span>"
      ],
      "text/plain": [
       "<IPython.core.display.HTML object>"
      ]
     },
     "metadata": {},
     "output_type": "display_data"
    },
    {
     "data": {
      "text/html": [
       "<span class=\"section ltr\">Consider Phlebas 1:1 </span><div class=\"contnr c3    \" ><div class=\"lbl c3  \" ><span class=\"nd\">sentence</span></div> <div class=\"children hor wrap \"><div class=\"contnr c3    r \" ><div class=\"lbl c3  \" ><span class=\"nd\">line</span></div> <div class=\"children hor wrap \"><div class=\"contnr c0 trm   \" ><div class=\"lbl c0 trm \" ><span class=\"txtu\">Everything </span></div> </div></div></div><div class=\"contnr c3    l r \" ><div class=\"lbl c3  \" ><span class=\"nd\">line</span></div> <div class=\"children hor wrap \"><div class=\"contnr c0 trm   \" ><div class=\"lbl c0 trm \" ><span class=\"txtu\">about </span></div> </div></div></div><div class=\"contnr c3    l \" ><div class=\"lbl c3  \" ><span class=\"nd\">line</span></div> <div class=\"children hor wrap \"><div class=\"contnr c0 trm   \" ><div class=\"lbl c0 trm \" ><span class=\"txtu\">us, </span></div> </div></div></div><div class=\"contnr c3    r \" ><div class=\"lbl c3  \" ><span class=\"nd\">line</span></div> <div class=\"children hor wrap \"><div class=\"contnr c0 trm   \" ><div class=\"lbl c0 trm \" ><span class=\"txtu\">everything </span></div> </div></div></div><div class=\"contnr c3    l r \" ><div class=\"lbl c3  \" ><span class=\"nd\">line</span></div> <div class=\"children hor wrap \"><div class=\"contnr c0 trm   \" ><div class=\"lbl c0 trm \" ><span class=\"txtu\">around </span></div> </div></div></div><div class=\"contnr c3    l \" ><div class=\"lbl c3  \" ><span class=\"nd\">line</span></div> <div class=\"children hor wrap \"><div class=\"contnr c0 trm   \" ><div class=\"lbl c0 trm \" ><span class=\"txtu\">us, </span></div> </div></div></div><div class=\"contnr c3    r \" ><div class=\"lbl c3  \" ><span class=\"nd\">line</span></div> <div class=\"children hor wrap \"><div class=\"contnr c0 trm   \" ><div class=\"lbl c0 trm \" ><span class=\"txtu\">everything </span></div> </div></div></div><div class=\"contnr c3    l r \" ><div class=\"lbl c3  \" ><span class=\"nd\">line</span></div> <div class=\"children hor wrap \"><div class=\"contnr c0 trm   \" ><div class=\"lbl c0 trm \" ><span class=\"txtu\">we </span></div> </div></div></div><div class=\"contnr c3    l r \" ><div class=\"lbl c3  \" ><span class=\"nd\">line</span></div> <div class=\"children hor wrap \"><div class=\"contnr c0 trm   \" ><div class=\"lbl c0 trm \" ><span class=\"txtu\">know </span></div> </div></div></div><div class=\"contnr c0 trm   \" ><div class=\"lbl c0 trm \" ><span class=\"txtu\">and </span></div> </div><div class=\"contnr c0 trm   \" ><div class=\"lbl c0 trm \" ><span class=\"txtu\">can </span></div> </div><div class=\"contnr c0 trm   \" ><div class=\"lbl c0 trm \" ><span class=\"txtu\">know </span></div> </div><div class=\"contnr c0 trm   \" ><div class=\"lbl c0 trm \" ><span class=\"txtu\">of </span></div> </div><div class=\"contnr c3    l r \" ><div class=\"lbl c3  \" ><span class=\"nd\">line</span></div> <div class=\"children hor wrap \"><div class=\"contnr c0 trm   \" ><div class=\"lbl c0 trm \" ><span class=\"txtu\">is </span></div> </div></div></div><div class=\"contnr c3    l r \" ><div class=\"lbl c3  \" ><span class=\"nd\">line</span></div> <div class=\"children hor wrap \"><div class=\"contnr c0 trm   \" ><div class=\"lbl c0 trm \" ><span class=\"txtu\">composed </span></div> </div></div></div><div class=\"contnr c3    l r \" ><div class=\"lbl c3  \" ><span class=\"nd\">line</span></div> <div class=\"children hor wrap \"><div class=\"contnr c0 trm   \" ><div class=\"lbl c0 trm \" ><span class=\"txtu\">ultimately </span></div> </div></div></div><div class=\"contnr c3    l r \" ><div class=\"lbl c3  \" ><span class=\"nd\">line</span></div> <div class=\"children hor wrap \"><div class=\"contnr c0 trm   \" ><div class=\"lbl c0 trm \" ><span class=\"txtu\">of </span></div> </div></div></div><div class=\"contnr c3    l r \" ><div class=\"lbl c3  \" ><span class=\"nd\">line</span></div> <div class=\"children hor wrap \"><div class=\"contnr c0 trm   \" ><div class=\"lbl c0 trm \" ><span class=\"txtu\">patterns </span></div> </div></div></div><div class=\"contnr c3    l r \" ><div class=\"lbl c3  \" ><span class=\"nd\">line</span></div> <div class=\"children hor wrap \"><div class=\"contnr c0 trm   \" ><div class=\"lbl c0 trm \" ><span class=\"txtu\">of </span></div> </div></div></div><div class=\"contnr c3    l \" ><div class=\"lbl c3  \" ><span class=\"nd\">line</span></div> <div class=\"children hor wrap \"><div class=\"contnr c0 trm   \" ><div class=\"lbl c0 trm \" ><span class=\"txtu\">nothing; </span></div> </div></div></div><div class=\"contnr c3    r \" ><div class=\"lbl c3  \" ><span class=\"nd\">line</span></div> <div class=\"children hor wrap \"><div class=\"contnr c0 trm   \" ><div class=\"lbl c0 trm \" ><span class=\"txtu\">that’s </span></div> </div></div></div><div class=\"contnr c3    l r \" ><div class=\"lbl c3  \" ><span class=\"nd\">line</span></div> <div class=\"children hor wrap \"><div class=\"contnr c0 trm   \" ><div class=\"lbl c0 trm \" ><span class=\"txtu\">the </span></div> </div></div></div><div class=\"contnr c3    l r \" ><div class=\"lbl c3  \" ><span class=\"nd\">line</span></div> <div class=\"children hor wrap \"><div class=\"contnr c0 trm   \" ><div class=\"lbl c0 trm \" ><span class=\"txtu\">bottom </span></div> </div></div></div><div class=\"contnr c3    l r \" ><div class=\"lbl c3  \" ><span class=\"nd\">line</span></div> <div class=\"children hor wrap \"><div class=\"contnr c0 trm   \" ><div class=\"lbl c0 trm \" ><span class=\"txtu\">line, </span></div> </div></div></div><div class=\"contnr c3    l r \" ><div class=\"lbl c3  \" ><span class=\"nd\">line</span></div> <div class=\"children hor wrap \"><div class=\"contnr c0 trm   \" ><div class=\"lbl c0 trm \" ><span class=\"txtu\">the </span></div> </div></div></div><div class=\"contnr c3    l r \" ><div class=\"lbl c3  \" ><span class=\"nd\">line</span></div> <div class=\"children hor wrap \"><div class=\"contnr c0 trm   \" ><div class=\"lbl c0 trm \" ><span class=\"txtu\">final </span></div> </div></div></div><div class=\"contnr c3    l \" ><div class=\"lbl c3  \" ><span class=\"nd\">line</span></div> <div class=\"children hor wrap \"><div class=\"contnr c0 trm   \" ><div class=\"lbl c0 trm \" ><span class=\"txtu\">truth. </span></div> </div></div></div></div></div>"
      ],
      "text/plain": [
       "<IPython.core.display.HTML object>"
      ]
     },
     "metadata": {},
     "output_type": "display_data"
    },
    {
     "data": {
      "text/markdown": [
       "### line 103\n"
      ],
      "text/plain": [
       "<IPython.core.display.Markdown object>"
      ]
     },
     "metadata": {},
     "output_type": "display_data"
    },
    {
     "data": {
      "text/html": [
       "<span class=\"section ltr\">Consider Phlebas 1:1 </span> <span class=\"plain    \" ><span class=\"txtu\">Everything </span></span><span class=\"plain    \" ><span class=\"txtu\">about </span></span><span class=\"plain    \" ><span class=\"txtu\">us, </span></span>"
      ],
      "text/plain": [
       "<IPython.core.display.HTML object>"
      ]
     },
     "metadata": {},
     "output_type": "display_data"
    },
    {
     "data": {
      "text/html": [
       "<span class=\"section ltr\">Consider Phlebas 1:1 </span><div class=\"children hor wrap \"><div class=\"contnr c3    r \" ><div class=\"lbl c3  \" ><span class=\"nd\">line</span></div> <div class=\"children hor wrap \"><div class=\"contnr c0 trm   \" ><div class=\"lbl c0 trm \" ><span class=\"txtu\">Everything </span></div> </div></div></div><div class=\"contnr c3    l r \" ><div class=\"lbl c3  \" ><span class=\"nd\">line</span></div> <div class=\"children hor wrap \"><div class=\"contnr c0 trm   \" ><div class=\"lbl c0 trm \" ><span class=\"txtu\">about </span></div> </div></div></div><div class=\"contnr c3    l \" ><div class=\"lbl c3  \" ><span class=\"nd\">line</span></div> <div class=\"children hor wrap \"><div class=\"contnr c0 trm   \" ><div class=\"lbl c0 trm \" ><span class=\"txtu\">us, </span></div> </div></div></div></div>"
      ],
      "text/plain": [
       "<IPython.core.display.HTML object>"
      ]
     },
     "metadata": {},
     "output_type": "display_data"
    },
    {
     "data": {
      "text/markdown": [
       "### word 1\n"
      ],
      "text/plain": [
       "<IPython.core.display.Markdown object>"
      ]
     },
     "metadata": {},
     "output_type": "display_data"
    },
    {
     "data": {
      "text/html": [
       "<span class=\"section ltr\">Consider Phlebas 1:1 </span> <span class=\"plain outer   \" ><span class=\"txtu\">Everything </span></span>"
      ],
      "text/plain": [
       "<IPython.core.display.HTML object>"
      ]
     },
     "metadata": {},
     "output_type": "display_data"
    },
    {
     "data": {
      "text/html": [
       "<span class=\"section ltr\">Consider Phlebas 1:1 </span><div class=\"contnr c0 trm   \" ><div class=\"lbl c0 trm \" ><span class=\"txtu\">Everything </span></div> </div>"
      ],
      "text/plain": [
       "<IPython.core.display.HTML object>"
      ]
     },
     "metadata": {},
     "output_type": "display_data"
    }
   ],
   "source": [
    "typeShow(A)"
   ]
  }
 ],
 "metadata": {
  "kernelspec": {
   "display_name": "Python 3",
   "language": "python",
   "name": "python3"
  },
  "language_info": {
   "codemirror_mode": {
    "name": "ipython",
    "version": 3
   },
   "file_extension": ".py",
   "mimetype": "text/x-python",
   "name": "python",
   "nbconvert_exporter": "python",
   "pygments_lexer": "ipython3",
   "version": "3.7.7"
  }
 },
 "nbformat": 4,
 "nbformat_minor": 4
}
