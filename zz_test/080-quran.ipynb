{
 "cells": [
  {
   "cell_type": "code",
   "execution_count": 1,
   "metadata": {},
   "outputs": [],
   "source": [
    "%load_ext autoreload\n",
    "%autoreload 2"
   ]
  },
  {
   "cell_type": "code",
   "execution_count": 2,
   "metadata": {},
   "outputs": [],
   "source": [
    "from tf.app import use\n",
    "from fixture import typeShow"
   ]
  },
  {
   "cell_type": "markdown",
   "metadata": {},
   "source": [
    "# Q'uran"
   ]
  },
  {
   "cell_type": "code",
   "execution_count": 3,
   "metadata": {},
   "outputs": [
    {
     "name": "stdout",
     "output_type": "stream",
     "text": [
      "Using TF-app in /Users/dirk/github/annotation/app-quran/code:\n",
      "\trepo clone offline under ~/github (local github)\n",
      "Using data in /Users/dirk/github/q-ran/quran/tf/0.4:\n",
      "\trepo clone offline under ~/github (local github)\n"
     ]
    },
    {
     "data": {
      "text/html": [
       "<b>Documentation:</b> <a target=\"_blank\" href=\"https://github.com/q-ran/quran/blob/master/docs/features.md\" title=\"provenance of Quran\">QURAN</a> <a target=\"_blank\" href=\"https://annotation.github.io/text-fabric/Writing/Transcription/Arabic\" title=\"How TF features represent text\">Character table</a> <a target=\"_blank\" href=\"https://github.com/q-ran/quran/blob/master/docs/features.md\" title=\"QURAN feature documentation\">Feature docs</a> <a target=\"_blank\" href=\"https://github.com/annotation/app-quran\" title=\"quran API documentation\">quran API</a> <a target=\"_blank\" href=\"https://annotation.github.io/text-fabric/Api/Fabric/\" title=\"text-fabric-api\">Text-Fabric API 8.0.1</a> <a target=\"_blank\" href=\"https://annotation.github.io/text-fabric/Use/Search/\" title=\"Search Templates Introduction and Reference\">Search Reference</a><details open><summary><b>Loaded features</b>:</summary>\n",
       "<p><b>Quran</b>: <a target=\"_blank\" href=\"https://github.com/q-ran/quran/blob/master/docs/features.md\" title=\"/Users/dirk/github/q-ran/quran/tf/0.4/a.tf\">a</a>  <a target=\"_blank\" href=\"https://github.com/q-ran/quran/blob/master/docs/features.md\" title=\"/Users/dirk/github/q-ran/quran/tf/0.4/ascii.tf\">ascii</a>  <a target=\"_blank\" href=\"https://github.com/q-ran/quran/blob/master/docs/features.md\" title=\"/Users/dirk/github/q-ran/quran/tf/0.4/ax.tf\">ax</a>  <a target=\"_blank\" href=\"https://github.com/q-ran/quran/blob/master/docs/features.md\" title=\"/Users/dirk/github/q-ran/quran/tf/0.4/case.tf\">case</a>  <a target=\"_blank\" href=\"https://github.com/q-ran/quran/blob/master/docs/features.md\" title=\"/Users/dirk/github/q-ran/quran/tf/0.4/component.tf\">component</a>  <a target=\"_blank\" href=\"https://github.com/q-ran/quran/blob/master/docs/features.md\" title=\"/Users/dirk/github/q-ran/quran/tf/0.4/definite.tf\">definite</a>  <a target=\"_blank\" href=\"https://github.com/q-ran/quran/blob/master/docs/features.md\" title=\"/Users/dirk/github/q-ran/quran/tf/0.4/f.tf\">f</a>  <a target=\"_blank\" href=\"https://github.com/q-ran/quran/blob/master/docs/features.md\" title=\"/Users/dirk/github/q-ran/quran/tf/0.4/formation.tf\">formation</a>  <a target=\"_blank\" href=\"https://github.com/q-ran/quran/blob/master/docs/features.md\" title=\"/Users/dirk/github/q-ran/quran/tf/0.4/fx.tf\">fx</a>  <a target=\"_blank\" href=\"https://github.com/q-ran/quran/blob/master/docs/features.md\" title=\"/Users/dirk/github/q-ran/quran/tf/0.4/gn.tf\">gn</a>  <a target=\"_blank\" href=\"https://github.com/q-ran/quran/blob/master/docs/features.md\" title=\"/Users/dirk/github/q-ran/quran/tf/0.4/interjection.tf\">interjection</a>  <a target=\"_blank\" href=\"https://github.com/q-ran/quran/blob/master/docs/features.md\" title=\"/Users/dirk/github/q-ran/quran/tf/0.4/l.tf\">l</a>  <a target=\"_blank\" href=\"https://github.com/q-ran/quran/blob/master/docs/features.md\" title=\"/Users/dirk/github/q-ran/quran/tf/0.4/lemma.tf\">lemma</a>  <a target=\"_blank\" href=\"https://github.com/q-ran/quran/blob/master/docs/features.md\" title=\"/Users/dirk/github/q-ran/quran/tf/0.4/lx.tf\">lx</a>  <a target=\"_blank\" href=\"https://github.com/q-ran/quran/blob/master/docs/features.md\" title=\"/Users/dirk/github/q-ran/quran/tf/0.4/mood.tf\">mood</a>  <a target=\"_blank\" href=\"https://github.com/q-ran/quran/blob/master/docs/features.md\" title=\"/Users/dirk/github/q-ran/quran/tf/0.4/n.tf\">n</a>  <a target=\"_blank\" href=\"https://github.com/q-ran/quran/blob/master/docs/features.md\" title=\"/Users/dirk/github/q-ran/quran/tf/0.4/name.tf\">name</a>  <a target=\"_blank\" href=\"https://github.com/q-ran/quran/blob/master/docs/features.md\" title=\"/Users/dirk/github/q-ran/quran/tf/0.4/name@en.tf\">name@ll</a>  <a target=\"_blank\" href=\"https://github.com/q-ran/quran/blob/master/docs/features.md\" title=\"/Users/dirk/github/q-ran/quran/tf/0.4/nameAscii.tf\">nameAscii</a>  <a target=\"_blank\" href=\"https://github.com/q-ran/quran/blob/master/docs/features.md\" title=\"/Users/dirk/github/q-ran/quran/tf/0.4/nameTrans.tf\">nameTrans</a>  <a target=\"_blank\" href=\"https://github.com/q-ran/quran/blob/master/docs/features.md\" title=\"/Users/dirk/github/q-ran/quran/tf/0.4/nu.tf\">nu</a>  <a target=\"_blank\" href=\"https://github.com/q-ran/quran/blob/master/docs/features.md\" title=\"/Users/dirk/github/q-ran/quran/tf/0.4/number.tf\">number</a>  <a target=\"_blank\" href=\"https://github.com/q-ran/quran/blob/master/docs/features.md\" title=\"/Users/dirk/github/q-ran/quran/tf/0.4/order.tf\">order</a>  <a target=\"_blank\" href=\"https://github.com/q-ran/quran/blob/master/docs/features.md\" title=\"/Users/dirk/github/q-ran/quran/tf/0.4/otype.tf\">otype</a>  <a target=\"_blank\" href=\"https://github.com/q-ran/quran/blob/master/docs/features.md\" title=\"/Users/dirk/github/q-ran/quran/tf/0.4/pos.tf\">pos</a>  <a target=\"_blank\" href=\"https://github.com/q-ran/quran/blob/master/docs/features.md\" title=\"/Users/dirk/github/q-ran/quran/tf/0.4/posx.tf\">posx</a>  <a target=\"_blank\" href=\"https://github.com/q-ran/quran/blob/master/docs/features.md\" title=\"/Users/dirk/github/q-ran/quran/tf/0.4/ps.tf\">ps</a>  <a target=\"_blank\" href=\"https://github.com/q-ran/quran/blob/master/docs/features.md\" title=\"/Users/dirk/github/q-ran/quran/tf/0.4/root.tf\">root</a>  <a target=\"_blank\" href=\"https://github.com/q-ran/quran/blob/master/docs/features.md\" title=\"/Users/dirk/github/q-ran/quran/tf/0.4/sp.tf\">sp</a>  <a target=\"_blank\" href=\"https://github.com/q-ran/quran/blob/master/docs/features.md\" title=\"/Users/dirk/github/q-ran/quran/tf/0.4/space.tf\">space</a>  <a target=\"_blank\" href=\"https://github.com/q-ran/quran/blob/master/docs/features.md\" title=\"/Users/dirk/github/q-ran/quran/tf/0.4/tense.tf\">tense</a>  <a target=\"_blank\" href=\"https://github.com/q-ran/quran/blob/master/docs/features.md\" title=\"/Users/dirk/github/q-ran/quran/tf/0.4/translation@en.tf\">translation@ll</a>  <a target=\"_blank\" href=\"https://github.com/q-ran/quran/blob/master/docs/features.md\" title=\"/Users/dirk/github/q-ran/quran/tf/0.4/type.tf\">type</a>  <a target=\"_blank\" href=\"https://github.com/q-ran/quran/blob/master/docs/features.md\" title=\"/Users/dirk/github/q-ran/quran/tf/0.4/unicode.tf\">unicode</a>  <a target=\"_blank\" href=\"https://github.com/q-ran/quran/blob/master/docs/features.md\" title=\"/Users/dirk/github/q-ran/quran/tf/0.4/voice.tf\">voice</a>  <a target=\"_blank\" href=\"https://github.com/q-ran/quran/blob/master/docs/features.md\" title=\"/Users/dirk/github/q-ran/quran/tf/0.4/w.tf\">w</a>  <a target=\"_blank\" href=\"https://github.com/q-ran/quran/blob/master/docs/features.md\" title=\"/Users/dirk/github/q-ran/quran/tf/0.4/wx.tf\">wx</a>  <b><i><a target=\"_blank\" href=\"https://github.com/q-ran/quran/blob/master/docs/features.md\" title=\"/Users/dirk/github/q-ran/quran/tf/0.4/oslots.tf\">oslots</a></i></b> </p></details>"
      ],
      "text/plain": [
       "<IPython.core.display.HTML object>"
      ]
     },
     "metadata": {},
     "output_type": "display_data"
    },
    {
     "data": {
      "text/html": [
       "<style>tr.tf, td.tf, th.tf { text-align: left ! important;}@font-face {\n",
       "  font-family: \"Ezra SIL\";\n",
       "  src: local('Ezra SIL'), local('EzraSIL'),\n",
       "    url('/server/static/fonts/SILEOT.woff') format('woff'),\n",
       "    url('https://github.com/annotation/text-fabric/blob/master/tf/server/static/fonts/SILEOT.woff?raw=true') format('woff');\n",
       "}\n",
       "\n",
       "@font-face {\n",
       "  font-family: \"SBL Hebrew\";\n",
       "  src: local('SBL Hebrew'), local('SBLHebrew'),\n",
       "    url('/server/static/fonts/SBL_Hbrw.woff') format('woff'),\n",
       "    url('https://github.com/annotation/text-fabric/blob/master/tf/server/static/fonts/SBL_Hbrw.woff?raw=true') format('woff');\n",
       "}\n",
       "\n",
       "@font-face {\n",
       "  font-family: \"Estrangelo Edessa\";\n",
       "  src: local('Estrangelo Edessa'), local('EstrangeloEdessa');\n",
       "    url('/server/static/fonts/SyrCOMEdessa.woff') format('woff'),\n",
       "    url('https://github.com/annotation/text-fabric/blob/master/tf/server/static/fonts/SyrCOMEdessa.woff?raw=true') format('woff');\n",
       "}\n",
       "\n",
       "@font-face {\n",
       "  font-family: AmiriQuran;\n",
       "  font-style: normal;\n",
       "  font-weight: 400;\n",
       "  src: local('Amiri Quran'), local('AmiriQuran'),\n",
       "    url('/server/static/fonts/AmiriQuran.woff') format('woff'),\n",
       "    url('https://github.com/annotation/text-fabric/blob/master/tf/server/static/fonts/AmiriQuran.woff?raw=true') format('woff');\n",
       "}\n",
       "\n",
       "@font-face {\n",
       "  font-family: AmiriQuranColored;\n",
       "  font-style: normal;\n",
       "  font-weight: 400;\n",
       "  src: local('Amiri Quran Colored'), local('AmiriQuranColored'),\n",
       "    url('/server/static/fonts/AmiriQuranColored.woff') format('woff'),\n",
       "    url('https://github.com/annotation/text-fabric/blob/master/tf/server/static/fonts/AmiriQuranColored.woff?raw=true') format('woff');\n",
       "}\n",
       "\n",
       "@font-face {\n",
       "  font-family: \"Santakku\";\n",
       "  src: local('Santakku'),\n",
       "    url('/server/static/fonts/Santakku.woff') format('woff'),\n",
       "    url('https://github.com/annotation/text-fabric/blob/master/tf/server/static/fonts/Santakku.woff?raw=true') format('woff');\n",
       "}\n",
       "\n",
       "@font-face {\n",
       "  font-family: \"SantakkuM\";\n",
       "  src: local('SantakkuM'),\n",
       "    url('/server/static/fonts/SantakkuM.woff') format('woff'),\n",
       "    url('https://github.com/annotation/text-fabric/blob/master/tf/server/static/fonts/SantakkuM.woff?raw=true') format('woff');\n",
       "}\n",
       "/* bypassing some classical notebook settings */\n",
       "div#notebook {\n",
       "  line-height: unset;\n",
       "}\n",
       "/* neutral text */\n",
       ".txtn,.txtn a:visited,.txtn a:link {\n",
       "    font-family: sans-serif;\n",
       "    font-size: medium;\n",
       "    direction: ltr;\n",
       "    text-decoration: none;\n",
       "    color: var(--text-color);\n",
       "}\n",
       "/* transcription text */\n",
       ".txtt,.txtt a:visited,.txtt a:link {\n",
       "    font-family: monospace;\n",
       "    font-size: medium;\n",
       "    direction: ltr;\n",
       "    text-decoration: none;\n",
       "    color: var(--text-color);\n",
       "}\n",
       "/* source text */\n",
       ".txto,.txto a:visited,.txto a:link {\n",
       "    font-family: serif;\n",
       "    font-size: medium;\n",
       "    direction: ltr;\n",
       "    text-decoration: none;\n",
       "    color: var(--text-color);\n",
       "}\n",
       "/* phonetic text */\n",
       ".txtp,.txtp a:visited,.txtp a:link {\n",
       "    font-family: Gentium, sans-serif;\n",
       "    font-size: large;\n",
       "    direction: ltr;\n",
       "    text-decoration: none;\n",
       "    color: var(--text-color);\n",
       "}\n",
       "/* original script text */\n",
       ".txtu,.txtu a:visited,.txtu a:link {\n",
       "    font-family: Gentium, sans-serif;\n",
       "    font-size: large;\n",
       "    text-decoration: none;\n",
       "    color: var(--text-color);\n",
       "}\n",
       "/* hebrew */\n",
       ".txtu.hbo,.lex.hbo {\n",
       "    font-family: \"Ezra SIL\", \"SBL Hebrew\", sans-serif;\n",
       "    font-size: x-large;\n",
       "    direction: rtl ! important;\n",
       "    unicode-bidi: embed;\n",
       "}\n",
       "/* syriac */\n",
       ".txtu.syc,.lex.syc {\n",
       "    font-family: \"Estrangelo Edessa\", sans-serif;\n",
       "    font-size: large;\n",
       "    direction: rtl ! important;\n",
       "    unicode-bidi: embed;\n",
       "}\n",
       "/* neo aramaic */\n",
       ".txtu.cld,.lex.cld {\n",
       "    font-family: \"CharisSIL-R\", sans-serif;\n",
       "    font-size: medium;\n",
       "    direction: ltr ! important;\n",
       "    unicode-bidi: embed;\n",
       "}\n",
       "/* standard arabic */\n",
       ".txtu.ara,.lex.ara {\n",
       "    font-family: \"AmiriQuran\", sans-serif;\n",
       "    font-size: large;\n",
       "    direction: rtl ! important;\n",
       "    unicode-bidi: embed;\n",
       "}\n",
       "/* cuneiform */\n",
       ".txtu.akk,.lex.akk {\n",
       "    font-family: Santakku, sans-serif;\n",
       "    font-size: x-large;\n",
       "    direction: ltr ! important;\n",
       "    unicode-bidi: embed;\n",
       "}\n",
       "/* greek */\n",
       ".txtu.grc,.lex.grc a:link {\n",
       "    font-family: Gentium, sans-serif;\n",
       "    font-size: medium;\n",
       "    direction: ltr ! important;\n",
       "    unicode-bidi: embed;\n",
       "}\n",
       "a:hover {\n",
       "    text-decoration: underline | important;\n",
       "    color: #0000ff | important;\n",
       "}\n",
       ".ltr {\n",
       "    direction: ltr ! important;\n",
       "}\n",
       ".rtl {\n",
       "    direction: rtl ! important;\n",
       "}\n",
       "span.plain {\n",
       "    display: inline-block;\n",
       "    white-space: pre-wrap;\n",
       "    text-align: start;\n",
       "}\n",
       ".features {\n",
       "    font-family: monospace;\n",
       "    font-size: medium;\n",
       "    font-weight: bold;\n",
       "    color: var(--features);\n",
       "    display: flex;\n",
       "    flex-flow: column nowrap;\n",
       "    justify-content: flex-start;\n",
       "    align-items: flex-start;\n",
       "    align-content: flex-start;\n",
       "    padding: 0.1rem;\n",
       "    margin: 0.1rem;\n",
       "    direction: ltr;\n",
       "    border: var(--meta-width) solid var(--meta-color);\n",
       "    border-radius: var(--meta-width);\n",
       "}\n",
       ".features div,.features span {\n",
       "    padding: 0;\n",
       "    margin: -0.1rem 0;\n",
       "}\n",
       ".features .f {\n",
       "    font-family: sans-serif;\n",
       "    font-size: small;\n",
       "    font-weight: normal;\n",
       "    color: #5555bb;\n",
       "}\n",
       ".features .xft {\n",
       "  color: #000000;\n",
       "  background-color: #eeeeee;\n",
       "  font-size: medium;\n",
       "  margin: 0.1rem 0rem;\n",
       "}\n",
       ".features .xft .f {\n",
       "  color: #000000;\n",
       "  background-color: #eeeeee;\n",
       "  font-size: small;\n",
       "  font-weight: normal;\n",
       "}\n",
       ".section {\n",
       "    font-family: sans-serif;\n",
       "    font-size: small;\n",
       "    font-weight: bold;\n",
       "    color: var(--section);\n",
       "}\n",
       ".structure {\n",
       "    font-family: sans-serif;\n",
       "    font-size: small;\n",
       "    font-weight: bold;\n",
       "    color: var(--structure);\n",
       "}\n",
       ".comments {\n",
       "    display: flex;\n",
       "    justify-content: flex-start;\n",
       "    align-items: flex-start;\n",
       "    align-content: flex-start;\n",
       "    flex-flow: column nowrap;\n",
       "}\n",
       ".nd {\n",
       "    font-family: sans-serif;\n",
       "    font-size: small;\n",
       "    color: var(--node);\n",
       "    vertical-align: super;\n",
       "}\n",
       ".lex {\n",
       "  color: var(--lex-color);;\n",
       "}\n",
       ".children,.children.ltr {\n",
       "    display: flex;\n",
       "    border: 0;\n",
       "    background-color: #ffffff;\n",
       "    justify-content: flex-start;\n",
       "    align-items: flex-start;\n",
       "    align-content: flex-start;\n",
       "}\n",
       ".children.stretch {\n",
       "    align-items: stretch;\n",
       "}\n",
       ".children.hor {\n",
       "    flex-flow: row nowrap;\n",
       "}\n",
       ".children.hor.wrap {\n",
       "    flex-flow: row wrap;\n",
       "}\n",
       ".children.ver {\n",
       "    flex-flow: column nowrap;\n",
       "}\n",
       ".children.ver.wrap {\n",
       "    flex-flow: column wrap;\n",
       "}\n",
       ".contnr {\n",
       "    width: fit-content;\n",
       "    display: flex;\n",
       "    justify-content: flex-start;\n",
       "    align-items: flex-start;\n",
       "    align-content: flex-start;\n",
       "    flex-flow: column nowrap;\n",
       "    background: #ffffff none repeat scroll 0 0;\n",
       "    padding:  0.5rem 0.1rem 0.1rem 0.1rem;\n",
       "    margin: 0.8rem 0.1rem 0.1rem 0.1rem;\n",
       "    border-style: solid;\n",
       "    font-size: small;\n",
       "}\n",
       ".contnr.trm {\n",
       "    background-attachment: local;\n",
       "}\n",
       ".contnr.cnul {\n",
       "    padding:  0;\n",
       "    margin: 0;\n",
       "    border-style: solid;\n",
       "    font-size: xx-small;\n",
       "}\n",
       ".contnr.cnul,.lbl.cnul {\n",
       "    border-color: var(--border-color-nul);\n",
       "    border-width: var(--border-width-nul);\n",
       "    border-radius: var(--border-width-nul);\n",
       "}\n",
       ".contnr.c0,.lbl.c0 {\n",
       "    border-color: var(--border-color0);\n",
       "    border-width: var(--border-width0);\n",
       "    border-radius: var(--border-width0);\n",
       "}\n",
       ".contnr.c1,.lbl.c1 {\n",
       "    border-color: var(--border-color1);\n",
       "    border-width: var(--border-width1);\n",
       "    border-radius: var(--border-width1);\n",
       "}\n",
       ".contnr.c2,.lbl.c2 {\n",
       "    border-color: var(--border-color2);\n",
       "    border-width: var(--border-width2);\n",
       "    border-radius: var(--border-width2);\n",
       "}\n",
       ".contnr.c3,.lbl.c3 {\n",
       "    border-color: var(--border-color3);\n",
       "    border-width: var(--border-width3);\n",
       "    border-radius: var(--border-width3);\n",
       "}\n",
       ".contnr.c4,.lbl.c4 {\n",
       "    border-color: var(--border-color4);\n",
       "    border-width: var(--border-width4);\n",
       "    border-radius: var(--border-width4);\n",
       "}\n",
       ".contnr.l {\n",
       "    border-left-style: dotted\n",
       "}\n",
       ".contnr.r {\n",
       "    border-right-style: dotted\n",
       "}\n",
       ".contnr.lno {\n",
       "    border-left-style: none\n",
       "}\n",
       ".contnr.rno {\n",
       "    border-right-style: none\n",
       "}\n",
       ".lbl {\n",
       "    font-family: monospace;\n",
       "    margin-top: -1.2rem;\n",
       "    margin-left: 1rem;\n",
       "    background: #ffffff none repeat scroll 0 0;\n",
       "    padding: 0 0.3rem;\n",
       "    border-style: solid;\n",
       "    display: block;\n",
       "    color: var(--label)\n",
       "}\n",
       ".lbl.trm {\n",
       "    background-attachment: local;\n",
       "    margin-top: 0.1rem;\n",
       "    margin-left: 0.1rem;\n",
       "    padding: 0.1rem 0.1rem;\n",
       "    border-style: none;\n",
       "}\n",
       ".lbl.cnul {\n",
       "    font-size: xx-small;\n",
       "}\n",
       ".lbl.c0 {\n",
       "    font-size: small;\n",
       "}\n",
       ".lbl.c1 {\n",
       "    font-size: small;\n",
       "}\n",
       ".lbl.c2 {\n",
       "    font-size: medium;\n",
       "}\n",
       ".lbl.c3 {\n",
       "    font-size: medium;\n",
       "}\n",
       ".lbl.c4 {\n",
       "    font-size: large;\n",
       "}\n",
       ".occs {\n",
       "    font-size: small;\n",
       "}\n",
       "\n",
       ":root {\n",
       "\t--node:             hsla(120, 100%,  20%, 1.0  );\n",
       "\t--label:            hsla(  0, 100%,  20%, 1.0  );\n",
       "\t--section:          hsla(  0, 100%,  25%, 1.0  );\n",
       "\t--structure:        hsla(120, 100%,  25%, 1.0  );\n",
       "\t--features:         hsla(  0,   0%,  30%, 1.0  );\n",
       "  --text-color:       hsla( 60,  80%,  10%, 1.0  );\n",
       "  --lex-color:        hsla(220,  90%,  60%, 1.0  );\n",
       "  --meta-color:       hsla(  0,   0%,  90%, 0.7  );\n",
       "  --meta-width:       0.15rem;\n",
       "  --border-color-nul: hsla(  0,   0%,  90%, 0.5  );\n",
       "  --border-color0:    hsla(  0,   0%,  90%, 0.9  );\n",
       "  --border-color1:    hsla(  0,   0%,  80%, 0.9  );\n",
       "  --border-color2:    hsla(  0,   0%,  70%, 0.9  );\n",
       "  --border-color3:    hsla(  0,   0%,  80%, 0.8  );\n",
       "  --border-color4:    hsla(  0,   0%,  60%, 0.9  );\n",
       "  --border-width-nul: 0.1rem;\n",
       "  --border-width0:    0.1rem;\n",
       "  --border-width1:    0.15rem;\n",
       "  --border-width2:    0.2rem;\n",
       "  --border-width3:    0.3rem;\n",
       "  --border-width4:    0.25rem;\n",
       "}\n",
       ".hl {\n",
       "  background-color: var(--hl-strong);\n",
       "}\n",
       "span.hl {\n",
       "\tbackground-color: var(--hl-strong);\n",
       "\tborder-width: 0;\n",
       "\tborder-radius: 0.1rem;\n",
       "\tborder-style: solid;\n",
       "}\n",
       "div.contnr.hl,div.lbl.hl {\n",
       "  background-color: var(--hl-strong);\n",
       "}\n",
       "div.contnr.hl {\n",
       "  border-color: var(--hl-rim) ! important;\n",
       "\tborder-width: 0.2rem ! important;\n",
       "}\n",
       "\n",
       "span.hlbx {\n",
       "\tborder-color: var(--hl-rim);\n",
       "\tborder-width: 0.2rem;\n",
       "\tborder-style: solid;\n",
       "\tborder-radius: 0.3rem;\n",
       "  padding: 0.2rem;\n",
       "  margin: 0.2rem;\n",
       "}\n",
       "\n",
       "span.plain {\n",
       "  display: inline-block;\n",
       "  white-space: pre-wrap;\n",
       "}\n",
       "\n",
       ":root {\n",
       "\t--hl-strong:        hsla( 60, 100%,  70%, 0.9  );\n",
       "\t--hl-rim:           hsla( 55,  80%,  50%, 1.0  );\n",
       "}\n",
       "</style>"
      ],
      "text/plain": [
       "<IPython.core.display.HTML object>"
      ]
     },
     "metadata": {},
     "output_type": "display_data"
    },
    {
     "data": {
      "text/html": [
       "<details open><summary><b>API members</b>:</summary>\n",
       "<a target=\"_blank\" href=\"https://annotation.github.io/text-fabric/Api/Computed/#computed-data\" title=\"doc\">C Computed</a>, <a target=\"_blank\" href=\"https://annotation.github.io/text-fabric/Api/Computed/#computed-data\" title=\"doc\">Call AllComputeds</a>, <a target=\"_blank\" href=\"https://annotation.github.io/text-fabric/Api/Computed/#computed-data\" title=\"doc\">Cs ComputedString</a><br/>\n",
       "<a target=\"_blank\" href=\"https://annotation.github.io/text-fabric/Api/Features/#edge-features\" title=\"doc\">E Edge</a>, <a target=\"_blank\" href=\"https://annotation.github.io/text-fabric/Api/Features/#edge-features\" title=\"doc\">Eall AllEdges</a>, <a target=\"_blank\" href=\"https://annotation.github.io/text-fabric/Api/Features/#edge-features\" title=\"doc\">Es EdgeString</a><br/>\n",
       "<a target=\"_blank\" href=\"https://annotation.github.io/text-fabric/Api/Fabric/#loading\" title=\"doc\">ensureLoaded</a>, <a target=\"_blank\" href=\"https://annotation.github.io/text-fabric/Api/Fabric/#loading\" title=\"doc\">TF</a>, <a target=\"_blank\" href=\"https://annotation.github.io/text-fabric/Api/Fabric/#loading\" title=\"doc\">ignored</a>, <a target=\"_blank\" href=\"https://annotation.github.io/text-fabric/Api/Fabric/#loading\" title=\"doc\">loadLog</a><br/>\n",
       "<a target=\"_blank\" href=\"https://annotation.github.io/text-fabric/Api/Locality/#locality\" title=\"doc\">L Locality</a><br/>\n",
       "<a target=\"_blank\" href=\"https://annotation.github.io/text-fabric/Api/Misc/#messaging\" title=\"doc\">cache</a>, <a target=\"_blank\" href=\"https://annotation.github.io/text-fabric/Api/Misc/#messaging\" title=\"doc\">error</a>, <a target=\"_blank\" href=\"https://annotation.github.io/text-fabric/Api/Misc/#messaging\" title=\"doc\">indent</a>, <a target=\"_blank\" href=\"https://annotation.github.io/text-fabric/Api/Misc/#messaging\" title=\"doc\">info</a>, <a target=\"_blank\" href=\"https://annotation.github.io/text-fabric/Api/Misc/#messaging\" title=\"doc\">isSilent</a>, <a target=\"_blank\" href=\"https://annotation.github.io/text-fabric/Api/Misc/#messaging\" title=\"doc\">reset</a>, <a target=\"_blank\" href=\"https://annotation.github.io/text-fabric/Api/Misc/#messaging\" title=\"doc\">setSilent</a>, <a target=\"_blank\" href=\"https://annotation.github.io/text-fabric/Api/Misc/#messaging\" title=\"doc\">silentOff</a>, <a target=\"_blank\" href=\"https://annotation.github.io/text-fabric/Api/Misc/#messaging\" title=\"doc\">silentOn</a>, <a target=\"_blank\" href=\"https://annotation.github.io/text-fabric/Api/Misc/#messaging\" title=\"doc\">warning</a><br/>\n",
       "<a target=\"_blank\" href=\"https://annotation.github.io/text-fabric/Api/Nodes/#navigating-nodes\" title=\"doc\">N Nodes</a>, <a target=\"_blank\" href=\"https://annotation.github.io/text-fabric/Api/Nodes/#navigating-nodes\" title=\"doc\">sortKey</a>, <a target=\"_blank\" href=\"https://annotation.github.io/text-fabric/Api/Nodes/#navigating-nodes\" title=\"doc\">sortKeyTuple</a>, <a target=\"_blank\" href=\"https://annotation.github.io/text-fabric/Api/Nodes/#navigating-nodes\" title=\"doc\">otypeRank</a>, <a target=\"_blank\" href=\"https://annotation.github.io/text-fabric/Api/Nodes/#navigating-nodes\" title=\"doc\">sortNodes</a><br/>\n",
       "<a target=\"_blank\" href=\"https://annotation.github.io/text-fabric/Api/Features/#node-features\" title=\"doc\">F Feature</a>, <a target=\"_blank\" href=\"https://annotation.github.io/text-fabric/Api/Features/#node-features\" title=\"doc\">Fall AllFeatures</a>, <a target=\"_blank\" href=\"https://annotation.github.io/text-fabric/Api/Features/#node-features\" title=\"doc\">Fs FeatureString</a><br/>\n",
       "<a target=\"_blank\" href=\"https://annotation.github.io/text-fabric/Api/Search/#search\" title=\"doc\">S Search</a><br/>\n",
       "<a target=\"_blank\" href=\"https://annotation.github.io/text-fabric/Api/Text/#text\" title=\"doc\">T Text</a></details>"
      ],
      "text/plain": [
       "<IPython.core.display.HTML object>"
      ]
     },
     "metadata": {},
     "output_type": "display_data"
    }
   ],
   "source": [
    "A = use('quran:clone', checkout=\"clone\", hoist=globals())"
   ]
  },
  {
   "cell_type": "code",
   "execution_count": 27,
   "metadata": {},
   "outputs": [
    {
     "data": {
      "text/html": [
       "<style>tr.tf, td.tf, th.tf { text-align: left ! important;}@font-face {\n",
       "  font-family: \"Ezra SIL\";\n",
       "  src: local('Ezra SIL'), local('EzraSIL'),\n",
       "    url('/server/static/fonts/SILEOT.woff') format('woff'),\n",
       "    url('https://github.com/annotation/text-fabric/blob/master/tf/server/static/fonts/SILEOT.woff?raw=true') format('woff');\n",
       "}\n",
       "\n",
       "@font-face {\n",
       "  font-family: \"SBL Hebrew\";\n",
       "  src: local('SBL Hebrew'), local('SBLHebrew'),\n",
       "    url('/server/static/fonts/SBL_Hbrw.woff') format('woff'),\n",
       "    url('https://github.com/annotation/text-fabric/blob/master/tf/server/static/fonts/SBL_Hbrw.woff?raw=true') format('woff');\n",
       "}\n",
       "\n",
       "@font-face {\n",
       "  font-family: \"Estrangelo Edessa\";\n",
       "  src: local('Estrangelo Edessa'), local('EstrangeloEdessa');\n",
       "    url('/server/static/fonts/SyrCOMEdessa.woff') format('woff'),\n",
       "    url('https://github.com/annotation/text-fabric/blob/master/tf/server/static/fonts/SyrCOMEdessa.woff?raw=true') format('woff');\n",
       "}\n",
       "\n",
       "@font-face {\n",
       "  font-family: AmiriQuran;\n",
       "  font-style: normal;\n",
       "  font-weight: 400;\n",
       "  src: local('Amiri Quran'), local('AmiriQuran'),\n",
       "    url('/server/static/fonts/AmiriQuran.woff') format('woff'),\n",
       "    url('https://github.com/annotation/text-fabric/blob/master/tf/server/static/fonts/AmiriQuran.woff?raw=true') format('woff');\n",
       "}\n",
       "\n",
       "@font-face {\n",
       "  font-family: AmiriQuranColored;\n",
       "  font-style: normal;\n",
       "  font-weight: 400;\n",
       "  src: local('Amiri Quran Colored'), local('AmiriQuranColored'),\n",
       "    url('/server/static/fonts/AmiriQuranColored.woff') format('woff'),\n",
       "    url('https://github.com/annotation/text-fabric/blob/master/tf/server/static/fonts/AmiriQuranColored.woff?raw=true') format('woff');\n",
       "}\n",
       "\n",
       "@font-face {\n",
       "  font-family: \"Santakku\";\n",
       "  src: local('Santakku'),\n",
       "    url('/server/static/fonts/Santakku.woff') format('woff'),\n",
       "    url('https://github.com/annotation/text-fabric/blob/master/tf/server/static/fonts/Santakku.woff?raw=true') format('woff');\n",
       "}\n",
       "\n",
       "@font-face {\n",
       "  font-family: \"SantakkuM\";\n",
       "  src: local('SantakkuM'),\n",
       "    url('/server/static/fonts/SantakkuM.woff') format('woff'),\n",
       "    url('https://github.com/annotation/text-fabric/blob/master/tf/server/static/fonts/SantakkuM.woff?raw=true') format('woff');\n",
       "}\n",
       "/* neutral text */\n",
       ".txtn,.txtn a:visited,.txtn a:link {\n",
       "    font-family: sans-serif;\n",
       "    font-size: medium;\n",
       "    direction: ltr;\n",
       "    text-decoration: none;\n",
       "    color: var(--text-color);\n",
       "}\n",
       "/* transcription text */\n",
       ".txtt,.txtt a:visited,.txtt a:link {\n",
       "    font-family: monospace;\n",
       "    font-size: medium;\n",
       "    direction: ltr;\n",
       "    text-decoration: none;\n",
       "    color: var(--text-color);\n",
       "}\n",
       "/* source text */\n",
       ".txto,.txto a:visited,.txto a:link {\n",
       "    font-family: serif;\n",
       "    font-size: medium;\n",
       "    direction: ltr;\n",
       "    text-decoration: none;\n",
       "    color: var(--text-color);\n",
       "}\n",
       "/* phonetic text */\n",
       ".txtp,.txtp a:visited,.txtp a:link {\n",
       "    font-family: Gentium, sans-serif;\n",
       "    font-size: large;\n",
       "    direction: ltr;\n",
       "    text-decoration: none;\n",
       "    color: var(--text-color);\n",
       "}\n",
       "/* original script text */\n",
       ".txtu,.txtu a:visited,.txtu a:link {\n",
       "    font-family: Gentium, sans-serif;\n",
       "    font-size: large;\n",
       "    text-decoration: none;\n",
       "    color: var(--text-color);\n",
       "}\n",
       "/* hebrew */\n",
       ".txtu.hbo,.lex.hbo {\n",
       "    font-family: \"Ezra SIL\", \"SBL Hebrew\", sans-serif;\n",
       "    font-size: x-large;\n",
       "    direction: rtl;\n",
       "    unicode-bidi: embed;\n",
       "}\n",
       "/* syriac */\n",
       ".txtu.syc,.lex.syc {\n",
       "    font-family: \"Estrangelo Edessa\", sans-serif;\n",
       "    font-size: large;\n",
       "    direction: rtl;\n",
       "    unicode-bidi: embed;\n",
       "}\n",
       "/* neo aramaic */\n",
       ".txtu.cld,.lex.cld {\n",
       "    font-family: \"CharisSIL-R\", sans-serif;\n",
       "    font-size: medium;\n",
       "    direction: rtl;\n",
       "    unicode-bidi: embed;\n",
       "}\n",
       "/* standard arabic */\n",
       ".txtu.ara,.lex.ara {\n",
       "    font-family: \"AmiriQuran\", sans-serif;\n",
       "    font-size: large;\n",
       "    direction: rtl;\n",
       "    unicode-bidi: embed;\n",
       "}\n",
       "/* cuneiform */\n",
       ".txtu.akk,.lex.akk {\n",
       "    font-family: Santakku, sans-serif;\n",
       "    font-size: x-large;\n",
       "    direction: ltr;\n",
       "    unicode-bidi: embed;\n",
       "}\n",
       "/* greek */\n",
       ".txtu.grc,.lex.grc a:link {\n",
       "    font-family: Gentium, sans-serif;\n",
       "    font-size: medium;\n",
       "    direction: ltr;\n",
       "    unicode-bidi: embed;\n",
       "}\n",
       "a:hover {\n",
       "    text-decoration: underline | important;\n",
       "    color: #0000ff | important;\n",
       "}\n",
       ".ltr {\n",
       "    direction: ltr ! important;\n",
       "}\n",
       ".rtl {\n",
       "    direction: rtl ! important;\n",
       "}\n",
       "span.plain {\n",
       "    display: inline-block;\n",
       "    white-space: pre-wrap;\n",
       "    text-align: start;\n",
       "}\n",
       ".features {\n",
       "    font-family: monospace;\n",
       "    font-size: medium;\n",
       "    font-weight: bold;\n",
       "    color: var(--features);\n",
       "    display: flex;\n",
       "    flex-flow: column nowrap;\n",
       "    justify-content: flex-start;\n",
       "    align-items: flex-start;\n",
       "    align-content: flex-start;\n",
       "    padding: 0.1rem;\n",
       "    margin: 0.1rem;\n",
       "    direction: ltr;\n",
       "    border: var(--meta-width) solid var(--meta-color);\n",
       "    border-radius: var(--meta-width);\n",
       "}\n",
       ".features div,.features span {\n",
       "    padding: 0;\n",
       "    margin: -0.1rem 0;\n",
       "}\n",
       ".features .f {\n",
       "    font-family: sans-serif;\n",
       "    font-size: x-small;\n",
       "    font-weight: normal;\n",
       "    color: #5555bb;\n",
       "}\n",
       ".features .xft {\n",
       "  color: #000000;\n",
       "  background-color: #eeeeee;\n",
       "  font-size: medium;\n",
       "  margin: 0.1rem 0rem;\n",
       "}\n",
       ".features .xft .f {\n",
       "  color: #000000;\n",
       "  background-color: #eeeeee;\n",
       "  font-style: italic;\n",
       "  font-size: small;\n",
       "  font-weight: normal;\n",
       "}\n",
       ".psg {\n",
       "    font-family: sans-serif;\n",
       "    font-size: small;\n",
       "    font-weight: bold;\n",
       "    color: var(--passage);\n",
       "}\n",
       ".comments {\n",
       "    display: flex;\n",
       "    justify-content: flex-start;\n",
       "    align-items: flex-start;\n",
       "    align-content: flex-start;\n",
       "    flex-flow: column nowrap;\n",
       "}\n",
       ".nd {\n",
       "    font-family: sans-serif;\n",
       "    font-size: x-small;\n",
       "    color: var(--node);\n",
       "    vertical-align: super;\n",
       "}\n",
       ".verse {\n",
       "    display: flex;\n",
       "    flex-flow: row wrap;\n",
       "    direction: rtl;\n",
       "}\n",
       ".vl {\n",
       "    display: flex;\n",
       "    flex-flow: column nowrap;\n",
       "    justify-content: flex-end;\n",
       "    align-items: flex-end;\n",
       "    direction: ltr;\n",
       "    width: 100%;\n",
       "}\n",
       ".vn {\n",
       "  font-size: small !important;\n",
       "  padding-right: 1rem;\n",
       "}\n",
       ".lex {\n",
       "  color: var(--lex-color);;\n",
       "}\n",
       ".children,.children.ltr {\n",
       "    display: flex;\n",
       "    border: 0;\n",
       "    background-color: #ffffff;\n",
       "    justify-content: flex-start;\n",
       "    align-items: flex-start;\n",
       "    align-content: flex-start;\n",
       "}\n",
       ".children.stretch {\n",
       "    align-items: stretch;\n",
       "}\n",
       ".children.row {\n",
       "    flex-flow: row nowrap;\n",
       "}\n",
       ".children.row.wrap {\n",
       "    flex-flow: row wrap;\n",
       "}\n",
       ".children.col {\n",
       "    flex-flow: column nowrap;\n",
       "}\n",
       ".children.col.wrap {\n",
       "    flex-flow: column wrap;\n",
       "}\n",
       ".contnr {\n",
       "    width: fit-content;\n",
       "    display: flex;\n",
       "    justify-content: flex-start;\n",
       "    align-items: flex-start;\n",
       "    align-content: flex-start;\n",
       "    flex-flow: column nowrap;\n",
       "    background: #ffffff none repeat scroll 0 0;\n",
       "    padding:  0.5rem 0.1rem 0.1rem 0.1rem;\n",
       "    margin: 0.8rem 0.1rem 0.1rem 0.1rem;\n",
       "    border-style: solid;\n",
       "    font-size: small;\n",
       "}\n",
       ".contnr.trm {\n",
       "    background-attachment: local;\n",
       "}\n",
       ".contnr.cnul {\n",
       "    padding:  0;\n",
       "    margin: 0;\n",
       "    border-style: solid;\n",
       "    font-size: xx-small;\n",
       "}\n",
       ".contnr.cnul,.lbl.cnul {\n",
       "    border-color: var(--border-color-nul);\n",
       "    border-width: var(--border-width-nul);\n",
       "    border-radius: var(--border-width-nul);\n",
       "}\n",
       ".contnr.c0,.lbl.c0 {\n",
       "    border-color: var(--border-color0);\n",
       "    border-width: var(--border-width0);\n",
       "    border-radius: var(--border-width0);\n",
       "}\n",
       ".contnr.c1,.lbl.c1 {\n",
       "    border-color: var(--border-color1);\n",
       "    border-width: var(--border-width1);\n",
       "    border-radius: var(--border-width1);\n",
       "}\n",
       ".contnr.c2,.lbl.c2 {\n",
       "    border-color: var(--border-color2);\n",
       "    border-width: var(--border-width2);\n",
       "    border-radius: var(--border-width2);\n",
       "}\n",
       ".contnr.c3,.lbl.c3 {\n",
       "    border-color: var(--border-color3);\n",
       "    border-width: var(--border-width3);\n",
       "    border-radius: var(--border-width3);\n",
       "}\n",
       ".contnr.c4,.lbl.c4 {\n",
       "    border-color: var(--border-color4);\n",
       "    border-width: var(--border-width4);\n",
       "    border-radius: var(--border-width4);\n",
       "}\n",
       ".contnr.l {\n",
       "    border-left-style: dotted\n",
       "}\n",
       ".contnr.r {\n",
       "    border-right-style: dotted\n",
       "}\n",
       ".contnr.lno {\n",
       "    border-left-style: none\n",
       "}\n",
       ".contnr.rno {\n",
       "    border-right-style: none\n",
       "}\n",
       ".lbl {\n",
       "    margin-top: -1.2rem;\n",
       "    margin-left: 1rem;\n",
       "    background: #ffffff none repeat scroll 0 0;\n",
       "    padding: 0 0.3rem;\n",
       "    border-style: solid;\n",
       "    display: block;\n",
       "    color: var(--label)\n",
       "}\n",
       ".lbl.trm {\n",
       "    background-attachment: local;\n",
       "    margin-top: 0.1rem;\n",
       "    margin-left: 0.1rem;\n",
       "    padding: 0.1rem 0.1rem;\n",
       "    border-style: none;\n",
       "}\n",
       ".lbl.cnul {\n",
       "    font-size: xx-small;\n",
       "}\n",
       ".lbl.c0 {\n",
       "    font-size: small;\n",
       "}\n",
       ".lbl.c1 {\n",
       "    font-size: small;\n",
       "}\n",
       ".lbl.c2 {\n",
       "    font-size: medium;\n",
       "}\n",
       ".lbl.c3 {\n",
       "    font-size: medium;\n",
       "}\n",
       ".lbl.c4 {\n",
       "    font-size: large;\n",
       "}\n",
       ".occs {\n",
       "    font-size: x-small;\n",
       "}\n",
       "\n",
       ":root {\n",
       "\t--node:             hsla(120, 100%,  30%, 1.0  );\n",
       "\t--label:            hsla(  0, 100%,  20%, 1.0  );\n",
       "\t--passage:          hsla(  0, 100%,  25%, 1.0  );\n",
       "\t--features:         hsla(  0,   0%,  30%, 1.0  );\n",
       "  --text-color:       hsla( 60,  80%,  10%, 1.0  );\n",
       "  --lex-color:        hsla(220,  90%,  60%, 1.0  );\n",
       "  --meta-color:       hsla(  0,   0%,  90%, 0.7  );\n",
       "  --meta-width:       0.15rem;\n",
       "  --border-color-nul: hsla(  0,   0%,  90%, 0.5  );\n",
       "  --border-color0:    hsla(  0,   0%,  90%, 0.9  );\n",
       "  --border-color1:    hsla(  0,   0%,  80%, 0.9  );\n",
       "  --border-color2:    hsla(  0,   0%,  70%, 0.9  );\n",
       "  --border-color3:    hsla(  0,   0%,  80%, 0.8  );\n",
       "  --border-color4:    hsla(  0,   0%,  60%, 0.9  );\n",
       "  --border-width-nul: 0.1rem;\n",
       "  --border-width0:    0.1rem;\n",
       "  --border-width1:    0.15rem;\n",
       "  --border-width2:    0.2rem;\n",
       "  --border-width3:    0.3rem;\n",
       "  --border-width4:    0.25rem;\n",
       "}\n",
       ".hl {\n",
       "  background-color: var(--hl-strong);\n",
       "}\n",
       "span.hl {\n",
       "\tbackground-color: var(--hl-strong);\n",
       "\tborder-width: 0;\n",
       "\tborder-radius: 0.1rem;\n",
       "\tborder-style: solid;\n",
       "}\n",
       "div.contnr.hl,div.lbl.hl {\n",
       "    background-color: var(--hl-strong);\n",
       "}\n",
       "\n",
       "span.hlbx {\n",
       "\tborder-color: var(--hl-rim);\n",
       "\tborder-width: 0.2rem;\n",
       "\tborder-style: solid;\n",
       "\tborder-radius: 0.3rem;\n",
       "  padding: 0.2rem;\n",
       "  margin: 0.2rem;\n",
       "}\n",
       "\n",
       "span.plain {\n",
       "  display: inline-block;\n",
       "  white-space: pre-wrap;\n",
       "}\n",
       "\n",
       ":root {\n",
       "\t--hl-strong:        hsla( 60, 100%,  70%, 0.9  );\n",
       "\t--hl-rim:           hsla( 55,  80%,  50%, 1.0  );\n",
       "}\n",
       "</style>"
      ],
      "text/plain": [
       "<IPython.core.display.HTML object>"
      ]
     },
     "metadata": {},
     "output_type": "display_data"
    }
   ],
   "source": [
    "A.reuse()"
   ]
  },
  {
   "cell_type": "code",
   "execution_count": 4,
   "metadata": {},
   "outputs": [
    {
     "data": {
      "text/markdown": [
       "### manzil 216987\n"
      ],
      "text/plain": [
       "<IPython.core.display.Markdown object>"
      ]
     },
     "metadata": {},
     "output_type": "display_data"
    },
    {
     "data": {
      "text/html": [
       "<span class=\"section ltr\"><a target=\"_blank\" href=\"/#1:1\" title=\"show this passage on Tanzil\" sec=\"1:1\">1:1</a> </span> <span class=\"plain outer rtl  \" ><span class=\"plain txtu ara rtl\"></span></span>"
      ],
      "text/plain": [
       "<IPython.core.display.HTML object>"
      ]
     },
     "metadata": {},
     "output_type": "display_data"
    },
    {
     "data": {
      "text/html": [
       "<span class=\"section ltr\"><a target=\"_blank\" href=\"/#1:1\" title=\"show this passage on Tanzil\" sec=\"1:1\">1:1</a> </span><div class=\"contnr c2 trm rtl  \" > </div>"
      ],
      "text/plain": [
       "<IPython.core.display.HTML object>"
      ]
     },
     "metadata": {},
     "output_type": "display_data"
    },
    {
     "data": {
      "text/markdown": [
       "### sajda 218154\n"
      ],
      "text/plain": [
       "<IPython.core.display.Markdown object>"
      ]
     },
     "metadata": {},
     "output_type": "display_data"
    },
    {
     "data": {
      "text/html": [
       "<span class=\"section ltr\"><a target=\"_blank\" href=\"/#7:206\" title=\"show this passage on Tanzil\" sec=\"7:206\">7:206</a> </span> <span class=\"plain outer rtl  \" ><span class=\"plain txtu ara rtl\"></span></span>"
      ],
      "text/plain": [
       "<IPython.core.display.HTML object>"
      ]
     },
     "metadata": {},
     "output_type": "display_data"
    },
    {
     "data": {
      "text/html": [
       "<span class=\"section ltr\"><a target=\"_blank\" href=\"/#7:206\" title=\"show this passage on Tanzil\" sec=\"7:206\">7:206</a> </span><div class=\"contnr c2 trm rtl  \" > </div>"
      ],
      "text/plain": [
       "<IPython.core.display.HTML object>"
      ]
     },
     "metadata": {},
     "output_type": "display_data"
    },
    {
     "data": {
      "text/markdown": [
       "### juz 212125\n"
      ],
      "text/plain": [
       "<IPython.core.display.Markdown object>"
      ]
     },
     "metadata": {},
     "output_type": "display_data"
    },
    {
     "data": {
      "text/html": [
       "<span class=\"section ltr\"><a target=\"_blank\" href=\"/#1:1\" title=\"show this passage on Tanzil\" sec=\"1:1\">1:1</a> </span> <span class=\"plain outer rtl  \" ><span class=\"plain txtu ara rtl\"></span></span>"
      ],
      "text/plain": [
       "<IPython.core.display.HTML object>"
      ]
     },
     "metadata": {},
     "output_type": "display_data"
    },
    {
     "data": {
      "text/html": [
       "<span class=\"section ltr\"><a target=\"_blank\" href=\"/#1:1\" title=\"show this passage on Tanzil\" sec=\"1:1\">1:1</a> </span><div class=\"contnr c2 trm rtl  \" > </div>"
      ],
      "text/plain": [
       "<IPython.core.display.HTML object>"
      ]
     },
     "metadata": {},
     "output_type": "display_data"
    },
    {
     "data": {
      "text/markdown": [
       "### sura 218169\n"
      ],
      "text/plain": [
       "<IPython.core.display.Markdown object>"
      ]
     },
     "metadata": {},
     "output_type": "display_data"
    },
    {
     "data": {
      "text/html": [
       "<span class=\"section ltr\"><a target=\"_blank\" href=\"/#1:1\" title=\"show this passage on Tanzil\" sec=\"1\">1</a> </span> <span class=\"plain outer rtl  \" ><span class=\"plain txtu ara rtl\"><span class=\"section\"> </span></span></span>"
      ],
      "text/plain": [
       "<IPython.core.display.HTML object>"
      ]
     },
     "metadata": {},
     "output_type": "display_data"
    },
    {
     "data": {
      "text/html": [
       "<span class=\"section ltr\"><a target=\"_blank\" href=\"/#1:1\" title=\"show this passage on Tanzil\" sec=\"1\">1</a> </span><div class=\"contnr c4 trm rtl  \" ><div class=\"lbl c4 trm \" ><span class=\"txtu ara\"><span class=\"section\">1</span></span></div> </div>"
      ],
      "text/plain": [
       "<IPython.core.display.HTML object>"
      ]
     },
     "metadata": {},
     "output_type": "display_data"
    },
    {
     "data": {
      "text/markdown": [
       "### hizb 211885\n"
      ],
      "text/plain": [
       "<IPython.core.display.Markdown object>"
      ]
     },
     "metadata": {},
     "output_type": "display_data"
    },
    {
     "data": {
      "text/html": [
       "<span class=\"section ltr\"><a target=\"_blank\" href=\"/#1:1\" title=\"show this passage on Tanzil\" sec=\"1:1\">1:1</a> </span> <span class=\"plain outer rtl  \" ><span class=\"plain txtu ara rtl\"></span></span>"
      ],
      "text/plain": [
       "<IPython.core.display.HTML object>"
      ]
     },
     "metadata": {},
     "output_type": "display_data"
    },
    {
     "data": {
      "text/html": [
       "<span class=\"section ltr\"><a target=\"_blank\" href=\"/#1:1\" title=\"show this passage on Tanzil\" sec=\"1:1\">1:1</a> </span><div class=\"contnr c1 trm rtl  \" > </div>"
      ],
      "text/plain": [
       "<IPython.core.display.HTML object>"
      ]
     },
     "metadata": {},
     "output_type": "display_data"
    },
    {
     "data": {
      "text/markdown": [
       "### ruku 217598\n"
      ],
      "text/plain": [
       "<IPython.core.display.Markdown object>"
      ]
     },
     "metadata": {},
     "output_type": "display_data"
    },
    {
     "data": {
      "text/html": [
       "<span class=\"section ltr\"><a target=\"_blank\" href=\"/#1:1\" title=\"show this passage on Tanzil\" sec=\"1:1\">1:1</a> </span> <span class=\"plain outer rtl  \" ><span class=\"plain txtu ara rtl\"><span class=\"structure\"><span class=\"nd\">sura</span> 1, <span class=\"nd\">ruku</span> 1</span></span></span>"
      ],
      "text/plain": [
       "<IPython.core.display.HTML object>"
      ]
     },
     "metadata": {},
     "output_type": "display_data"
    },
    {
     "data": {
      "text/html": [
       "<span class=\"section ltr\"><a target=\"_blank\" href=\"/#1:1\" title=\"show this passage on Tanzil\" sec=\"1:1\">1:1</a> </span><div class=\"contnr c4 trm rtl  \" ><div class=\"lbl c4 trm \" ><span class=\"txtu ara\"><span class=\"structure\"><span class=\"nd\">sura</span> 1, <span class=\"nd\">ruku</span> 1</span></span></div> </div>"
      ],
      "text/plain": [
       "<IPython.core.display.HTML object>"
      ]
     },
     "metadata": {},
     "output_type": "display_data"
    },
    {
     "data": {
      "text/markdown": [
       "### page 216994\n"
      ],
      "text/plain": [
       "<IPython.core.display.Markdown object>"
      ]
     },
     "metadata": {},
     "output_type": "display_data"
    },
    {
     "data": {
      "text/html": [
       "<span class=\"section ltr\"><a target=\"_blank\" href=\"/#1:1\" title=\"show this passage on Tanzil\" sec=\"1:1\">1:1</a> </span> <span class=\"plain outer rtl  \" ><span class=\"plain txtu ara rtl\"></span></span>"
      ],
      "text/plain": [
       "<IPython.core.display.HTML object>"
      ]
     },
     "metadata": {},
     "output_type": "display_data"
    },
    {
     "data": {
      "text/html": [
       "<span class=\"section ltr\"><a target=\"_blank\" href=\"/#1:1\" title=\"show this passage on Tanzil\" sec=\"1:1\">1:1</a> </span><div class=\"contnr c1 trm rtl  \" > </div>"
      ],
      "text/plain": [
       "<IPython.core.display.HTML object>"
      ]
     },
     "metadata": {},
     "output_type": "display_data"
    },
    {
     "data": {
      "text/markdown": [
       "### aya 128220\n"
      ],
      "text/plain": [
       "<IPython.core.display.Markdown object>"
      ]
     },
     "metadata": {},
     "output_type": "display_data"
    },
    {
     "data": {
      "text/html": [
       "<span class=\"section ltr\"><a target=\"_blank\" href=\"/#1:1\" title=\"show this passage on Tanzil\" sec=\"1:1\">1:1</a> </span> <span class=\"plain outer rtl  \" ><span class=\"plain txtu ara rtl\"></span><span class=\"plain  rtl  \" ><span class=\"plain txtu ara rtl\"></span><span class=\"plain  rtl  \" ><span class=\"txtu ara\">بِ</span></span><span class=\"plain  rtl  \" ><span class=\"txtu ara\">سْمِ </span></span></span><span class=\"plain  rtl  \" ><span class=\"plain txtu ara rtl\"></span><span class=\"plain  rtl  \" ><span class=\"txtu ara\">ٱللَّهِ </span></span></span><span class=\"plain  rtl  \" ><span class=\"plain txtu ara rtl\"></span><span class=\"plain  rtl  \" ><span class=\"txtu ara\">ٱل</span></span><span class=\"plain  rtl  \" ><span class=\"txtu ara\">رَّحْمَٰنِ </span></span></span><span class=\"plain  rtl  \" ><span class=\"plain txtu ara rtl\"></span><span class=\"plain  rtl  \" ><span class=\"txtu ara\">ٱل</span></span><span class=\"plain  rtl  \" ><span class=\"txtu ara\">رَّحِيمِ</span></span></span></span>"
      ],
      "text/plain": [
       "<IPython.core.display.HTML object>"
      ]
     },
     "metadata": {},
     "output_type": "display_data"
    },
    {
     "data": {
      "text/html": [
       "<span class=\"section ltr\"><a target=\"_blank\" href=\"/#1:1\" title=\"show this passage on Tanzil\" sec=\"1:1\">1:1</a> </span><div class=\"contnr c3  rtl  \" > <div class=\"children hor wrap rtl\"><div class=\"contnr c1  rtl  \" > <div class=\"children hor  rtl\"><div class=\"contnr c0 trm rtl  \" ><div class=\"lbl c0 trm \" ><span class=\"txtu ara\">بِ</span></div> </div><div class=\"contnr c0 trm rtl  \" ><div class=\"lbl c0 trm \" ><a target=\"_blank\" href=\"http://tanzil.net\" title=\"show this passage on Tanzil\"><span class=\"txtu ara\">سْمِ </span></a></div> </div></div></div><div class=\"contnr c1  rtl  \" > <div class=\"children hor  rtl\"><div class=\"contnr c0 trm rtl  \" ><div class=\"lbl c0 trm \" ><a target=\"_blank\" href=\"http://tanzil.net\" title=\"show this passage on Tanzil\"><span class=\"txtu ara\">ٱللَّهِ </span></a></div> </div></div></div><div class=\"contnr c1  rtl  \" > <div class=\"children hor  rtl\"><div class=\"contnr c0 trm rtl  \" ><div class=\"lbl c0 trm \" ><span class=\"txtu ara\">ٱل</span></div> </div><div class=\"contnr c0 trm rtl  \" ><div class=\"lbl c0 trm \" ><a target=\"_blank\" href=\"http://tanzil.net\" title=\"show this passage on Tanzil\"><span class=\"txtu ara\">رَّحْمَٰنِ </span></a></div> </div></div></div><div class=\"contnr c1  rtl  \" > <div class=\"children hor  rtl\"><div class=\"contnr c0 trm rtl  \" ><div class=\"lbl c0 trm \" ><span class=\"txtu ara\">ٱل</span></div> </div><div class=\"contnr c0 trm rtl  \" ><div class=\"lbl c0 trm \" ><a target=\"_blank\" href=\"http://tanzil.net\" title=\"show this passage on Tanzil\"><span class=\"txtu ara\">رَّحِيمِ</span></a></div> </div></div></div></div></div>"
      ],
      "text/plain": [
       "<IPython.core.display.HTML object>"
      ]
     },
     "metadata": {},
     "output_type": "display_data"
    },
    {
     "data": {
      "text/markdown": [
       "### lex 212155\n"
      ],
      "text/plain": [
       "<IPython.core.display.Markdown object>"
      ]
     },
     "metadata": {},
     "output_type": "display_data"
    },
    {
     "data": {
      "text/html": [
       "<span class=\"section ltr\"><a target=\"_blank\" href=\"http://tanzil.net\" title=\"show this passage on Tanzil\"><span title=\"lemma\">{som</span></a> </span> <span class=\"plain outer rtl  \" ><span class=\"plain txtu ara rtl\"></span></span>"
      ],
      "text/plain": [
       "<IPython.core.display.HTML object>"
      ]
     },
     "metadata": {},
     "output_type": "display_data"
    },
    {
     "data": {
      "text/html": [
       "<span class=\"section ltr\"><a target=\"_blank\" href=\"http://tanzil.net\" title=\"show this passage on Tanzil\"><span title=\"lemma\">{som</span></a> </span><div class=\"contnr c0 trm rtl  \" > <div class=\"occs\"><a target=\"_blank\" href=\"/#1:1\" title=\"show this passage on Tanzil\" sec=\"1:1\">1:1</a> - <a target=\"_blank\" href=\"/#96:1\" title=\"show this passage on Tanzil\" sec=\"96:1\">96:1</a></div></div>"
      ],
      "text/plain": [
       "<IPython.core.display.HTML object>"
      ]
     },
     "metadata": {},
     "output_type": "display_data"
    },
    {
     "data": {
      "text/markdown": [
       "### group 134456\n"
      ],
      "text/plain": [
       "<IPython.core.display.Markdown object>"
      ]
     },
     "metadata": {},
     "output_type": "display_data"
    },
    {
     "data": {
      "text/html": [
       "<span class=\"section ltr\"><a target=\"_blank\" href=\"/#1:1\" title=\"show this passage on Tanzil\" sec=\"1:1\">1:1</a> </span> <span class=\"plain outer rtl  \" ><span class=\"plain txtu ara rtl\"></span><span class=\"plain  rtl  \" ><span class=\"txtu ara\">بِ</span></span><span class=\"plain  rtl  \" ><span class=\"txtu ara\">سْمِ </span></span></span>"
      ],
      "text/plain": [
       "<IPython.core.display.HTML object>"
      ]
     },
     "metadata": {},
     "output_type": "display_data"
    },
    {
     "data": {
      "text/html": [
       "<span class=\"section ltr\"><a target=\"_blank\" href=\"/#1:1\" title=\"show this passage on Tanzil\" sec=\"1:1\">1:1</a> </span><div class=\"contnr c1  rtl  \" > <div class=\"children hor  rtl\"><div class=\"contnr c0 trm rtl  \" ><div class=\"lbl c0 trm \" ><span class=\"txtu ara\">بِ</span></div> </div><div class=\"contnr c0 trm rtl  \" ><div class=\"lbl c0 trm \" ><a target=\"_blank\" href=\"http://tanzil.net\" title=\"show this passage on Tanzil\"><span class=\"txtu ara\">سْمِ </span></a></div> </div></div></div>"
      ],
      "text/plain": [
       "<IPython.core.display.HTML object>"
      ]
     },
     "metadata": {},
     "output_type": "display_data"
    },
    {
     "data": {
      "text/markdown": [
       "### word 1\n"
      ],
      "text/plain": [
       "<IPython.core.display.Markdown object>"
      ]
     },
     "metadata": {},
     "output_type": "display_data"
    },
    {
     "data": {
      "text/html": [
       "<span class=\"section ltr\"><a target=\"_blank\" href=\"/#1:1\" title=\"show this passage on Tanzil\" sec=\"1:1\">1:1</a> </span> <span class=\"plain outer rtl  \" ><span class=\"txtu ara\">بِ</span></span>"
      ],
      "text/plain": [
       "<IPython.core.display.HTML object>"
      ]
     },
     "metadata": {},
     "output_type": "display_data"
    },
    {
     "data": {
      "text/html": [
       "<span class=\"section ltr\"><a target=\"_blank\" href=\"/#1:1\" title=\"show this passage on Tanzil\" sec=\"1:1\">1:1</a> </span><div class=\"contnr c0 trm rtl  \" ><div class=\"lbl c0 trm \" ><span class=\"txtu ara\">بِ</span></div> </div>"
      ],
      "text/plain": [
       "<IPython.core.display.HTML object>"
      ]
     },
     "metadata": {},
     "output_type": "display_data"
    }
   ],
   "source": [
    "typeShow(A, prettyTypes=False, baseTypes=set())"
   ]
  },
  {
   "cell_type": "code",
   "execution_count": 5,
   "metadata": {},
   "outputs": [
    {
     "data": {
      "text/markdown": [
       "### manzil 216987\n"
      ],
      "text/plain": [
       "<IPython.core.display.Markdown object>"
      ]
     },
     "metadata": {},
     "output_type": "display_data"
    },
    {
     "data": {
      "text/html": [
       "<span class=\"section ltr\"><a target=\"_blank\" href=\"/#1:1\" title=\"show this passage on Tanzil\" sec=\"1:1\">1:1</a> </span> <span class=\"plain outer rtl  \" ><span class=\"plain txtu ara rtl\"></span></span>"
      ],
      "text/plain": [
       "<IPython.core.display.HTML object>"
      ]
     },
     "metadata": {},
     "output_type": "display_data"
    },
    {
     "data": {
      "text/html": [
       "<span class=\"section ltr\"><a target=\"_blank\" href=\"/#1:1\" title=\"show this passage on Tanzil\" sec=\"1:1\">1:1</a> </span><div class=\"contnr c2 trm rtl  \" ><div class=\"lbl c2 trm \" ><span class=\"nd\">manzil</span> <span class=\"txtu ara\"><span title=\"otype\">manzil</span> <span title=\"number\">1</span></span></div> </div>"
      ],
      "text/plain": [
       "<IPython.core.display.HTML object>"
      ]
     },
     "metadata": {},
     "output_type": "display_data"
    },
    {
     "data": {
      "text/markdown": [
       "### sajda 218154\n"
      ],
      "text/plain": [
       "<IPython.core.display.Markdown object>"
      ]
     },
     "metadata": {},
     "output_type": "display_data"
    },
    {
     "data": {
      "text/html": [
       "<span class=\"section ltr\"><a target=\"_blank\" href=\"/#7:206\" title=\"show this passage on Tanzil\" sec=\"7:206\">7:206</a> </span> <span class=\"plain outer rtl  \" ><span class=\"plain txtu ara rtl\"></span></span>"
      ],
      "text/plain": [
       "<IPython.core.display.HTML object>"
      ]
     },
     "metadata": {},
     "output_type": "display_data"
    },
    {
     "data": {
      "text/html": [
       "<span class=\"section ltr\"><a target=\"_blank\" href=\"/#7:206\" title=\"show this passage on Tanzil\" sec=\"7:206\">7:206</a> </span><div class=\"contnr c2 trm rtl  \" ><div class=\"lbl c2 trm \" ><span class=\"nd\">sajda</span> <span class=\"txtu ara\"><span title=\"otype\">sajda</span> <span title=\"number\">1</span></span></div> </div>"
      ],
      "text/plain": [
       "<IPython.core.display.HTML object>"
      ]
     },
     "metadata": {},
     "output_type": "display_data"
    },
    {
     "data": {
      "text/markdown": [
       "### juz 212125\n"
      ],
      "text/plain": [
       "<IPython.core.display.Markdown object>"
      ]
     },
     "metadata": {},
     "output_type": "display_data"
    },
    {
     "data": {
      "text/html": [
       "<span class=\"section ltr\"><a target=\"_blank\" href=\"/#1:1\" title=\"show this passage on Tanzil\" sec=\"1:1\">1:1</a> </span> <span class=\"plain outer rtl  \" ><span class=\"plain txtu ara rtl\"></span></span>"
      ],
      "text/plain": [
       "<IPython.core.display.HTML object>"
      ]
     },
     "metadata": {},
     "output_type": "display_data"
    },
    {
     "data": {
      "text/html": [
       "<span class=\"section ltr\"><a target=\"_blank\" href=\"/#1:1\" title=\"show this passage on Tanzil\" sec=\"1:1\">1:1</a> </span><div class=\"contnr c2 trm rtl  \" ><div class=\"lbl c2 trm \" ><span class=\"nd\">juz</span> <span class=\"txtu ara\"><span title=\"otype\">juz</span> <span title=\"number\">1</span></span></div> </div>"
      ],
      "text/plain": [
       "<IPython.core.display.HTML object>"
      ]
     },
     "metadata": {},
     "output_type": "display_data"
    },
    {
     "data": {
      "text/markdown": [
       "### sura 218169\n"
      ],
      "text/plain": [
       "<IPython.core.display.Markdown object>"
      ]
     },
     "metadata": {},
     "output_type": "display_data"
    },
    {
     "data": {
      "text/html": [
       "<span class=\"section ltr\"><a target=\"_blank\" href=\"/#1:1\" title=\"show this passage on Tanzil\" sec=\"1\">1</a> </span> <span class=\"plain outer rtl  \" ><span class=\"plain txtu ara rtl\"><span class=\"section\"> </span></span></span>"
      ],
      "text/plain": [
       "<IPython.core.display.HTML object>"
      ]
     },
     "metadata": {},
     "output_type": "display_data"
    },
    {
     "data": {
      "text/html": [
       "<span class=\"section ltr\"><a target=\"_blank\" href=\"/#1:1\" title=\"show this passage on Tanzil\" sec=\"1\">1</a> </span><div class=\"contnr c4 trm rtl  \" ><div class=\"lbl c4 trm \" ><span class=\"nd\">sura</span> <span class=\"txtu ara\"><span class=\"section\">1</span></span></div> </div>"
      ],
      "text/plain": [
       "<IPython.core.display.HTML object>"
      ]
     },
     "metadata": {},
     "output_type": "display_data"
    },
    {
     "data": {
      "text/markdown": [
       "### hizb 211885\n"
      ],
      "text/plain": [
       "<IPython.core.display.Markdown object>"
      ]
     },
     "metadata": {},
     "output_type": "display_data"
    },
    {
     "data": {
      "text/html": [
       "<span class=\"section ltr\"><a target=\"_blank\" href=\"/#1:1\" title=\"show this passage on Tanzil\" sec=\"1:1\">1:1</a> </span> <span class=\"plain outer rtl  \" ><span class=\"plain txtu ara rtl\"></span></span>"
      ],
      "text/plain": [
       "<IPython.core.display.HTML object>"
      ]
     },
     "metadata": {},
     "output_type": "display_data"
    },
    {
     "data": {
      "text/html": [
       "<span class=\"section ltr\"><a target=\"_blank\" href=\"/#1:1\" title=\"show this passage on Tanzil\" sec=\"1:1\">1:1</a> </span><div class=\"contnr c1 trm rtl  \" ><div class=\"lbl c1 trm \" ><span class=\"nd\">hizb</span> <span class=\"txtu ara\"><span title=\"otype\">hizb</span> <span title=\"number\">1</span></span></div> </div>"
      ],
      "text/plain": [
       "<IPython.core.display.HTML object>"
      ]
     },
     "metadata": {},
     "output_type": "display_data"
    },
    {
     "data": {
      "text/markdown": [
       "### ruku 217598\n"
      ],
      "text/plain": [
       "<IPython.core.display.Markdown object>"
      ]
     },
     "metadata": {},
     "output_type": "display_data"
    },
    {
     "data": {
      "text/html": [
       "<span class=\"section ltr\"><a target=\"_blank\" href=\"/#1:1\" title=\"show this passage on Tanzil\" sec=\"1:1\">1:1</a> </span> <span class=\"plain outer rtl  \" ><span class=\"plain txtu ara rtl\"><span class=\"structure\"><span class=\"nd\">sura</span> 1, <span class=\"nd\">ruku</span> 1</span></span></span>"
      ],
      "text/plain": [
       "<IPython.core.display.HTML object>"
      ]
     },
     "metadata": {},
     "output_type": "display_data"
    },
    {
     "data": {
      "text/html": [
       "<span class=\"section ltr\"><a target=\"_blank\" href=\"/#1:1\" title=\"show this passage on Tanzil\" sec=\"1:1\">1:1</a> </span><div class=\"contnr c4 trm rtl  \" ><div class=\"lbl c4 trm \" ><span class=\"nd\">ruku</span> <span class=\"txtu ara\"><span class=\"structure\"><span class=\"nd\">sura</span> 1, <span class=\"nd\">ruku</span> 1</span></span></div> </div>"
      ],
      "text/plain": [
       "<IPython.core.display.HTML object>"
      ]
     },
     "metadata": {},
     "output_type": "display_data"
    },
    {
     "data": {
      "text/markdown": [
       "### page 216994\n"
      ],
      "text/plain": [
       "<IPython.core.display.Markdown object>"
      ]
     },
     "metadata": {},
     "output_type": "display_data"
    },
    {
     "data": {
      "text/html": [
       "<span class=\"section ltr\"><a target=\"_blank\" href=\"/#1:1\" title=\"show this passage on Tanzil\" sec=\"1:1\">1:1</a> </span> <span class=\"plain outer rtl  \" ><span class=\"plain txtu ara rtl\"></span></span>"
      ],
      "text/plain": [
       "<IPython.core.display.HTML object>"
      ]
     },
     "metadata": {},
     "output_type": "display_data"
    },
    {
     "data": {
      "text/html": [
       "<span class=\"section ltr\"><a target=\"_blank\" href=\"/#1:1\" title=\"show this passage on Tanzil\" sec=\"1:1\">1:1</a> </span><div class=\"contnr c1 trm rtl  \" ><div class=\"lbl c1 trm \" ><span class=\"nd\">page</span> <span class=\"txtu ara\"><span title=\"otype\">page</span> <span title=\"number\">1</span></span></div> </div>"
      ],
      "text/plain": [
       "<IPython.core.display.HTML object>"
      ]
     },
     "metadata": {},
     "output_type": "display_data"
    },
    {
     "data": {
      "text/markdown": [
       "### aya 128220\n"
      ],
      "text/plain": [
       "<IPython.core.display.Markdown object>"
      ]
     },
     "metadata": {},
     "output_type": "display_data"
    },
    {
     "data": {
      "text/html": [
       "<span class=\"section ltr\"><a target=\"_blank\" href=\"/#1:1\" title=\"show this passage on Tanzil\" sec=\"1:1\">1:1</a> </span> <span class=\"plain outer rtl  \" ><span class=\"plain txtu ara rtl\"></span><span class=\"plain  rtl  \" ><span class=\"plain txtu ara rtl\"></span><span class=\"plain  rtl  \" ><span class=\"txtu ara\">بِ</span></span><span class=\"plain  rtl  \" ><span class=\"txtu ara\">سْمِ </span></span></span><span class=\"plain  rtl  \" ><span class=\"plain txtu ara rtl\"></span><span class=\"plain  rtl  \" ><span class=\"txtu ara\">ٱللَّهِ </span></span></span><span class=\"plain  rtl  \" ><span class=\"plain txtu ara rtl\"></span><span class=\"plain  rtl  \" ><span class=\"txtu ara\">ٱل</span></span><span class=\"plain  rtl  \" ><span class=\"txtu ara\">رَّحْمَٰنِ </span></span></span><span class=\"plain  rtl  \" ><span class=\"plain txtu ara rtl\"></span><span class=\"plain  rtl  \" ><span class=\"txtu ara\">ٱل</span></span><span class=\"plain  rtl  \" ><span class=\"txtu ara\">رَّحِيمِ</span></span></span></span>"
      ],
      "text/plain": [
       "<IPython.core.display.HTML object>"
      ]
     },
     "metadata": {},
     "output_type": "display_data"
    },
    {
     "data": {
      "text/html": [
       "<span class=\"section ltr\"><a target=\"_blank\" href=\"/#1:1\" title=\"show this passage on Tanzil\" sec=\"1:1\">1:1</a> </span><div class=\"contnr c3  rtl  \" ><div class=\"lbl c3  \" ><span class=\"nd\">aya</span></div> <div class=\"children hor wrap rtl\"><div class=\"contnr c1  rtl  \" ><div class=\"lbl c1  \" ><span class=\"nd\">group</span></div> <div class=\"children hor  rtl\"><div class=\"contnr c0 trm rtl  \" ><div class=\"lbl c0 trm \" ><span class=\"txtu ara\">بِ</span></div> <div class='features'><span class=\"pos \" title=\"pos\">preposition</span></div></div><div class=\"contnr c0 trm rtl  \" ><div class=\"lbl c0 trm \" ><a target=\"_blank\" href=\"http://tanzil.net\" title=\"show this passage on Tanzil\"><span class=\"txtu ara\">سْمِ </span></a></div> <div class='features'><span class=\"pos \" title=\"pos\">noun</span><span class=\"lemma \" ><span class=\"f\">lemma=</span>{som</span><span class=\"root \" ><span class=\"f\">root=</span>smw</span></div></div></div></div><div class=\"contnr c1  rtl  \" ><div class=\"lbl c1  \" ><span class=\"nd\">group</span></div> <div class=\"children hor  rtl\"><div class=\"contnr c0 trm rtl  \" ><div class=\"lbl c0 trm \" ><a target=\"_blank\" href=\"http://tanzil.net\" title=\"show this passage on Tanzil\"><span class=\"txtu ara\">ٱللَّهِ </span></a></div> <div class='features'><span class=\"pos \" title=\"pos\">noun</span><span class=\"posx \" title=\"posx\">proper</span><span class=\"lemma \" ><span class=\"f\">lemma=</span>{ll~ah</span><span class=\"root \" ><span class=\"f\">root=</span>Alh</span></div></div></div></div><div class=\"contnr c1  rtl  \" ><div class=\"lbl c1  \" ><span class=\"nd\">group</span></div> <div class=\"children hor  rtl\"><div class=\"contnr c0 trm rtl  \" ><div class=\"lbl c0 trm \" ><span class=\"txtu ara\">ٱل</span></div> <div class='features'><span class=\"pos \" title=\"pos\">determiner</span></div></div><div class=\"contnr c0 trm rtl  \" ><div class=\"lbl c0 trm \" ><a target=\"_blank\" href=\"http://tanzil.net\" title=\"show this passage on Tanzil\"><span class=\"txtu ara\">رَّحْمَٰنِ </span></a></div> <div class='features'><span class=\"pos \" title=\"pos\">adjective</span><span class=\"lemma \" ><span class=\"f\">lemma=</span>r~aHoma`n</span><span class=\"root \" ><span class=\"f\">root=</span>rHm</span></div></div></div></div><div class=\"contnr c1  rtl  \" ><div class=\"lbl c1  \" ><span class=\"nd\">group</span></div> <div class=\"children hor  rtl\"><div class=\"contnr c0 trm rtl  \" ><div class=\"lbl c0 trm \" ><span class=\"txtu ara\">ٱل</span></div> <div class='features'><span class=\"pos \" title=\"pos\">determiner</span></div></div><div class=\"contnr c0 trm rtl  \" ><div class=\"lbl c0 trm \" ><a target=\"_blank\" href=\"http://tanzil.net\" title=\"show this passage on Tanzil\"><span class=\"txtu ara\">رَّحِيمِ</span></a></div> <div class='features'><span class=\"pos \" title=\"pos\">adjective</span><span class=\"lemma \" ><span class=\"f\">lemma=</span>r~aHiym</span><span class=\"root \" ><span class=\"f\">root=</span>rHm</span></div></div></div></div></div></div>"
      ],
      "text/plain": [
       "<IPython.core.display.HTML object>"
      ]
     },
     "metadata": {},
     "output_type": "display_data"
    },
    {
     "data": {
      "text/markdown": [
       "### lex 212155\n"
      ],
      "text/plain": [
       "<IPython.core.display.Markdown object>"
      ]
     },
     "metadata": {},
     "output_type": "display_data"
    },
    {
     "data": {
      "text/html": [
       "<span class=\"section ltr\"><a target=\"_blank\" href=\"http://tanzil.net\" title=\"show this passage on Tanzil\"><span title=\"lemma\">{som</span></a> </span> <span class=\"plain outer rtl  \" ><span class=\"plain txtu ara rtl\"><span title=\"lemma\">{som</span></span></span>"
      ],
      "text/plain": [
       "<IPython.core.display.HTML object>"
      ]
     },
     "metadata": {},
     "output_type": "display_data"
    },
    {
     "data": {
      "text/html": [
       "<span class=\"section ltr\"><a target=\"_blank\" href=\"http://tanzil.net\" title=\"show this passage on Tanzil\"><span title=\"lemma\">{som</span></a> </span><div class=\"contnr c0 trm rtl  \" ><div class=\"lbl c0 trm \" ><span class=\"nd\">lex</span> <span class=\"txtu ara\"><span title=\"lemma\">{som</span></span></div> <div class=\"occs\"><a target=\"_blank\" href=\"/#1:1\" title=\"show this passage on Tanzil\" sec=\"1:1\">1:1</a> - <a target=\"_blank\" href=\"/#96:1\" title=\"show this passage on Tanzil\" sec=\"96:1\">96:1</a></div></div>"
      ],
      "text/plain": [
       "<IPython.core.display.HTML object>"
      ]
     },
     "metadata": {},
     "output_type": "display_data"
    },
    {
     "data": {
      "text/markdown": [
       "### group 134456\n"
      ],
      "text/plain": [
       "<IPython.core.display.Markdown object>"
      ]
     },
     "metadata": {},
     "output_type": "display_data"
    },
    {
     "data": {
      "text/html": [
       "<span class=\"section ltr\"><a target=\"_blank\" href=\"/#1:1\" title=\"show this passage on Tanzil\" sec=\"1:1\">1:1</a> </span> <span class=\"plain outer rtl  \" ><span class=\"plain txtu ara rtl\"></span><span class=\"plain  rtl  \" ><span class=\"txtu ara\">بِ</span></span><span class=\"plain  rtl  \" ><span class=\"txtu ara\">سْمِ </span></span></span>"
      ],
      "text/plain": [
       "<IPython.core.display.HTML object>"
      ]
     },
     "metadata": {},
     "output_type": "display_data"
    },
    {
     "data": {
      "text/html": [
       "<span class=\"section ltr\"><a target=\"_blank\" href=\"/#1:1\" title=\"show this passage on Tanzil\" sec=\"1:1\">1:1</a> </span><div class=\"contnr c1  rtl  \" ><div class=\"lbl c1  \" ><span class=\"nd\">group</span></div> <div class=\"children hor  rtl\"><div class=\"contnr c0 trm rtl  \" ><div class=\"lbl c0 trm \" ><span class=\"txtu ara\">بِ</span></div> <div class='features'><span class=\"pos \" title=\"pos\">preposition</span></div></div><div class=\"contnr c0 trm rtl  \" ><div class=\"lbl c0 trm \" ><a target=\"_blank\" href=\"http://tanzil.net\" title=\"show this passage on Tanzil\"><span class=\"txtu ara\">سْمِ </span></a></div> <div class='features'><span class=\"pos \" title=\"pos\">noun</span><span class=\"lemma \" ><span class=\"f\">lemma=</span>{som</span><span class=\"root \" ><span class=\"f\">root=</span>smw</span></div></div></div></div>"
      ],
      "text/plain": [
       "<IPython.core.display.HTML object>"
      ]
     },
     "metadata": {},
     "output_type": "display_data"
    },
    {
     "data": {
      "text/markdown": [
       "### word 1\n"
      ],
      "text/plain": [
       "<IPython.core.display.Markdown object>"
      ]
     },
     "metadata": {},
     "output_type": "display_data"
    },
    {
     "data": {
      "text/html": [
       "<span class=\"section ltr\"><a target=\"_blank\" href=\"/#1:1\" title=\"show this passage on Tanzil\" sec=\"1:1\">1:1</a> </span> <span class=\"plain outer rtl  \" ><span class=\"txtu ara\">بِ</span></span>"
      ],
      "text/plain": [
       "<IPython.core.display.HTML object>"
      ]
     },
     "metadata": {},
     "output_type": "display_data"
    },
    {
     "data": {
      "text/html": [
       "<span class=\"section ltr\"><a target=\"_blank\" href=\"/#1:1\" title=\"show this passage on Tanzil\" sec=\"1:1\">1:1</a> </span><div class=\"contnr c0 trm rtl  \" ><div class=\"lbl c0 trm \" ><span class=\"txtu ara\">بِ</span></div> <div class='features'><span class=\"pos \" title=\"pos\">preposition</span></div></div>"
      ],
      "text/plain": [
       "<IPython.core.display.HTML object>"
      ]
     },
     "metadata": {},
     "output_type": "display_data"
    }
   ],
   "source": [
    "typeShow(A, standardFeatures=True, prettyTypes=True)"
   ]
  },
  {
   "cell_type": "code",
   "execution_count": 6,
   "metadata": {},
   "outputs": [
    {
     "data": {
      "text/markdown": [
       "<details><summary><b>quran</b> <i>app context</i></summary>\n",
       "<details><summary>1. afterChild</summary>\n",
       "{}\n",
       "\n",
       "</details>\n",
       "<details><summary>2. allowedBaseTypes</summary>\n",
       "\n",
       "1.  `manzil`\n",
       "2.  `sajda`\n",
       "3.  `juz`\n",
       "4.  `hizb`\n",
       "5.  `ruku`\n",
       "6.  `page`\n",
       "7.  `lex`\n",
       "8.  `group`\n",
       "\n",
       "</details>\n",
       "<details><summary>3. apiVersion</summary>\n",
       "`1`\n",
       "\n",
       "</details>\n",
       "<details><summary>4. appName</summary>\n",
       "`quran`\n",
       "\n",
       "</details>\n",
       "<details><summary>5. appPath</summary>\n",
       "`/Users/dirk/github/annotation/app-quran/code`\n",
       "\n",
       "</details>\n",
       "<details><summary>6. baseTypes</summary>\n",
       "\n",
       "1.  `word`\n",
       "\n",
       "</details>\n",
       "<details><summary>7. browseContentPretty</summary>\n",
       "False\n",
       "\n",
       "</details>\n",
       "<details><summary>8. browseNavLevel</summary>\n",
       "`1`\n",
       "\n",
       "</details>\n",
       "<details><summary>9. charText</summary>\n",
       "`How TF features represent text`\n",
       "\n",
       "</details>\n",
       "<details><summary>10. charUrl</summary>\n",
       "`https://annotation.github.io/text-fabric/Writing/Transcription/Arabic`\n",
       "\n",
       "</details>\n",
       "<details><summary>11. childType</summary>\n",
       "\n",
       "*   **`aya`**: \n",
       "    *   `group`\n",
       "*   **`group`**: \n",
       "    *   `word`\n",
       "*   **`hizb`**: \n",
       "    *   `aya`\n",
       "*   **`juz`**: \n",
       "    *   `aya`\n",
       "*   **`manzil`**: \n",
       "    *   `aya`\n",
       "*   **`page`**: \n",
       "    *   `aya`\n",
       "*   **`ruku`**: \n",
       "    *   `aya`\n",
       "*   **`sajda`**: \n",
       "    *   `aya`\n",
       "*   **`sura`**: \n",
       "    *   `sajda`\n",
       "\n",
       "</details>\n",
       "<details><summary>12. childrenCustom</summary>\n",
       "{}\n",
       "\n",
       "</details>\n",
       "<details><summary>13. chunkedTypes</summary>\n",
       "set()\n",
       "\n",
       "</details>\n",
       "<details><summary>14. commit</summary>\n",
       "None\n",
       "\n",
       "</details>\n",
       "<details><summary>15. condenseType</summary>\n",
       "`aya`\n",
       "\n",
       "</details>\n",
       "<details><summary>16. condenseTypes</summary>\n",
       "\n",
       "1.  \n",
       "    *   `manzil`\n",
       "    *   `18317.0`\n",
       "    *   `216987`\n",
       "    *   `216993`\n",
       "2.  \n",
       "    *   `sajda`\n",
       "    *   `6043.066666666667`\n",
       "    *   `218154`\n",
       "    *   `218168`\n",
       "3.  \n",
       "    *   `juz`\n",
       "    *   `4273.966666666666`\n",
       "    *   `212125`\n",
       "    *   `212154`\n",
       "4.  \n",
       "    *   `sura`\n",
       "    *   `1124.7280701754387`\n",
       "    *   `218169`\n",
       "    *   `218282`\n",
       "5.  \n",
       "    *   `hizb`\n",
       "    *   `534.2458333333333`\n",
       "    *   `211885`\n",
       "    *   `212124`\n",
       "6.  \n",
       "    *   `ruku`\n",
       "    *   `230.60971223021582`\n",
       "    *   `217598`\n",
       "    *   `218153`\n",
       "7.  \n",
       "    *   `page`\n",
       "    *   `212.28311258278146`\n",
       "    *   `216994`\n",
       "    *   `217597`\n",
       "8.  \n",
       "    *   `aya`\n",
       "    *   `20.56109685695959`\n",
       "    *   `128220`\n",
       "    *   `134455`\n",
       "9.  \n",
       "    *   `lex`\n",
       "    *   `15.440397350993377`\n",
       "    *   `212155`\n",
       "    *   `216986`\n",
       "10. \n",
       "    *   `group`\n",
       "    *   `1.6559557788425525`\n",
       "    *   `134456`\n",
       "    *   `211884`\n",
       "11. \n",
       "    *   `word`\n",
       "    *   `1`\n",
       "    *   `1`\n",
       "    *   `128219`\n",
       "\n",
       "</details>\n",
       "<details><summary>17. corpus</summary>\n",
       "`Quran`\n",
       "\n",
       "</details>\n",
       "<details><summary>18. css</summary>\n",
       "*empty*\n",
       "\n",
       "</details>\n",
       "<details><summary>19. dataDisplay</summary>\n",
       "\n",
       "*   **`noneValues`**: \n",
       "    *   `none`\n",
       "    *   `unknown`\n",
       "    *   None\n",
       "    *   `NA`\n",
       "*   **`sectionSep1`**: `:`\n",
       "*   **`showVerseInTuple`**: `True`\n",
       "\n",
       "</details>\n",
       "<details><summary>20. defaultClsOrig</summary>\n",
       "`txtu ara`\n",
       "\n",
       "</details>\n",
       "<details><summary>21. defaultFormat</summary>\n",
       "`text-orig-full`\n",
       "\n",
       "</details>\n",
       "<details><summary>22. direction</summary>\n",
       "`rtl`\n",
       "\n",
       "</details>\n",
       "<details><summary>23. docBase</summary>\n",
       "`https://github.com/q-ran/quran/blob/master/docs`\n",
       "\n",
       "</details>\n",
       "<details><summary>24. docExt</summary>\n",
       "`.md`\n",
       "\n",
       "</details>\n",
       "<details><summary>25. docPage</summary>\n",
       "`features`\n",
       "\n",
       "</details>\n",
       "<details><summary>26. docRoot</summary>\n",
       "`https://github.com`\n",
       "\n",
       "</details>\n",
       "<details><summary>27. docUrl</summary>\n",
       "`https://github.com/q-ran/quran/blob/master/docs/features.md`\n",
       "\n",
       "</details>\n",
       "<details><summary>28. docs</summary>\n",
       "\n",
       "*   **`docPage`**: `features`\n",
       "*   **`featureBase`**: `{docBase}/features{docExt}`\n",
       "\n",
       "</details>\n",
       "<details><summary>29. doi</summary>\n",
       "`10.5281/zenodo.2532177`\n",
       "\n",
       "</details>\n",
       "<details><summary>30. exampleSection</summary>\n",
       "`1:1`\n",
       "\n",
       "</details>\n",
       "<details><summary>31. exampleSectionHtml</summary>\n",
       "`<code>1:1</code>`\n",
       "\n",
       "</details>\n",
       "<details><summary>32. excludedFeatures</summary>\n",
       "set()\n",
       "\n",
       "</details>\n",
       "<details><summary>33. extension</summary>\n",
       "` ara`\n",
       "\n",
       "</details>\n",
       "<details><summary>34. featureBase</summary>\n",
       "`https://github.com/q-ran/quran/blob/master/docs/features.md`\n",
       "\n",
       "</details>\n",
       "<details><summary>35. featurePage</summary>\n",
       "`home`\n",
       "\n",
       "</details>\n",
       "<details><summary>36. features</summary>\n",
       "\n",
       "*   **`aya`**: \n",
       "    *   []\n",
       "    *   {}\n",
       "*   **`group`**: \n",
       "    *   []\n",
       "    *   {}\n",
       "*   **`hizb`**: \n",
       "    *   []\n",
       "    *   {}\n",
       "*   **`juz`**: \n",
       "    *   []\n",
       "    *   {}\n",
       "*   **`lex`**: \n",
       "    *   []\n",
       "    *   {}\n",
       "*   **`manzil`**: \n",
       "    *   []\n",
       "    *   {}\n",
       "*   **`page`**: \n",
       "    *   []\n",
       "    *   {}\n",
       "*   **`ruku`**: \n",
       "    *   []\n",
       "    *   {}\n",
       "*   **`sajda`**: \n",
       "    *   []\n",
       "    *   {}\n",
       "*   **`word`**: \n",
       "    *   \n",
       "        *   `lemma`\n",
       "        *   `root`\n",
       "        *   `formation`\n",
       "        *   `tense`\n",
       "    *   {}\n",
       "\n",
       "</details>\n",
       "<details><summary>37. featuresBare</summary>\n",
       "\n",
       "*   **`aya`**: \n",
       "    *   []\n",
       "    *   {}\n",
       "*   **`group`**: \n",
       "    *   []\n",
       "    *   {}\n",
       "*   **`hizb`**: \n",
       "    *   []\n",
       "    *   {}\n",
       "*   **`juz`**: \n",
       "    *   []\n",
       "    *   {}\n",
       "*   **`lex`**: \n",
       "    *   []\n",
       "    *   {}\n",
       "*   **`manzil`**: \n",
       "    *   []\n",
       "    *   {}\n",
       "*   **`page`**: \n",
       "    *   []\n",
       "    *   {}\n",
       "*   **`ruku`**: \n",
       "    *   []\n",
       "    *   {}\n",
       "*   **`sajda`**: \n",
       "    *   []\n",
       "    *   {}\n",
       "*   **`word`**: \n",
       "    *   \n",
       "        *   `pos`\n",
       "        *   `posx`\n",
       "    *   {}\n",
       "\n",
       "</details>\n",
       "<details><summary>38. formatCls</summary>\n",
       "\n",
       "*   **`lex-trans-full`**: `txtt`\n",
       "*   **`root-trans-full`**: `txtt`\n",
       "*   **`text-orig-full`**: `txtu ara`\n",
       "*   **`text-trans-full`**: `txtt`\n",
       "\n",
       "</details>\n",
       "<details><summary>39. formatHtml</summary>\n",
       "set()\n",
       "\n",
       "</details>\n",
       "<details><summary>40. formatMethod</summary>\n",
       "{}\n",
       "\n",
       "</details>\n",
       "<details><summary>41. formatStyle</summary>\n",
       "\n",
       "*   **`normal`**: `txtn`\n",
       "*   **`orig`**: `txtu ara`\n",
       "*   **`phono`**: `txtp`\n",
       "*   **`source`**: `txto`\n",
       "*   **`trans`**: `txtt`\n",
       "\n",
       "</details>\n",
       "<details><summary>42. graphicsRelative</summary>\n",
       "None\n",
       "\n",
       "</details>\n",
       "<details><summary>43. hasGraphics</summary>\n",
       "set()\n",
       "\n",
       "</details>\n",
       "<details><summary>44. interfaceDefaults</summary>\n",
       "\n",
       "*   **`lineNumbers`**: None\n",
       "*   **`prettyTypes`**: `True`\n",
       "*   **`queryFeatures`**: `True`\n",
       "*   **`showChunks`**: None\n",
       "*   **`showGraphics`**: None\n",
       "*   **`standardFeatures`**: False\n",
       "*   **`withNodes`**: False\n",
       "*   **`withTypes`**: False\n",
       "\n",
       "</details>\n",
       "<details><summary>45. isChunkOf</summary>\n",
       "{}\n",
       "\n",
       "</details>\n",
       "<details><summary>46. isCompatible</summary>\n",
       "`True`\n",
       "\n",
       "</details>\n",
       "<details><summary>47. labels</summary>\n",
       "\n",
       "*   **`aya`**: \n",
       "    *   *empty*\n",
       "    *   ()\n",
       "*   **`group`**: \n",
       "    *   *empty*\n",
       "    *   ()\n",
       "*   **`hizb`**: \n",
       "    *   `{otype} {number}`\n",
       "    *   \n",
       "        *   `otype`\n",
       "        *   `number`\n",
       "*   **`juz`**: \n",
       "    *   `{otype} {number}`\n",
       "    *   \n",
       "        *   `otype`\n",
       "        *   `number`\n",
       "*   **`lex`**: \n",
       "    *   `{lemma}`\n",
       "    *   \n",
       "        *   `lemma`\n",
       "*   **`manzil`**: \n",
       "    *   `{otype} {number}`\n",
       "    *   \n",
       "        *   `otype`\n",
       "        *   `number`\n",
       "*   **`page`**: \n",
       "    *   `{otype} {number}`\n",
       "    *   \n",
       "        *   `otype`\n",
       "        *   `number`\n",
       "*   **`ruku`**: \n",
       "    *   `True`\n",
       "    *   ()\n",
       "*   **`sajda`**: \n",
       "    *   `{otype} {number}`\n",
       "    *   \n",
       "        *   `otype`\n",
       "        *   `number`\n",
       "*   **`sura`**: \n",
       "    *   `True`\n",
       "    *   ()\n",
       "*   **`word`**: \n",
       "    *   `True`\n",
       "    *   ()\n",
       "\n",
       "</details>\n",
       "<details><summary>48. language</summary>\n",
       "`Arabic`\n",
       "\n",
       "</details>\n",
       "<details><summary>49. levelCls</summary>\n",
       "\n",
       "*   **`aya`**: \n",
       "    *   **`children`**: `children hor wrap`\n",
       "    *   **`container`**: `contnr c3`\n",
       "    *   **`label`**: `lbl c3`\n",
       "*   **`group`**: \n",
       "    *   **`children`**: `children hor `\n",
       "    *   **`container`**: `contnr c1`\n",
       "    *   **`label`**: `lbl c1`\n",
       "*   **`hizb`**: \n",
       "    *   **`children`**: `children hor wrap`\n",
       "    *   **`container`**: `contnr c1`\n",
       "    *   **`label`**: `lbl c1`\n",
       "*   **`juz`**: \n",
       "    *   **`children`**: `children hor wrap`\n",
       "    *   **`container`**: `contnr c2`\n",
       "    *   **`label`**: `lbl c2`\n",
       "*   **`lex`**: \n",
       "    *   **`children`**: *empty*\n",
       "    *   **`container`**: `contnr c0`\n",
       "    *   **`label`**: `lbl c0`\n",
       "*   **`manzil`**: \n",
       "    *   **`children`**: `children hor wrap`\n",
       "    *   **`container`**: `contnr c2`\n",
       "    *   **`label`**: `lbl c2`\n",
       "*   **`page`**: \n",
       "    *   **`children`**: `children hor wrap`\n",
       "    *   **`container`**: `contnr c1`\n",
       "    *   **`label`**: `lbl c1`\n",
       "*   **`ruku`**: \n",
       "    *   **`children`**: `children hor wrap`\n",
       "    *   **`container`**: `contnr c4`\n",
       "    *   **`label`**: `lbl c4`\n",
       "*   **`sajda`**: \n",
       "    *   **`children`**: `children hor wrap`\n",
       "    *   **`container`**: `contnr c2`\n",
       "    *   **`label`**: `lbl c2`\n",
       "*   **`sura`**: \n",
       "    *   **`children`**: `children hor wrap`\n",
       "    *   **`container`**: `contnr c4`\n",
       "    *   **`label`**: `lbl c4`\n",
       "*   **`word`**: \n",
       "    *   **`children`**: *empty*\n",
       "    *   **`container`**: `contnr c0`\n",
       "    *   **`label`**: `lbl c0`\n",
       "\n",
       "</details>\n",
       "<details><summary>50. levels</summary>\n",
       "\n",
       "*   **`aya`**: \n",
       "    *   **`flow`**: `hor`\n",
       "    *   **`level`**: `3`\n",
       "    *   **`stretch`**: `True`\n",
       "    *   **`wrap`**: `True`\n",
       "*   **`group`**: \n",
       "    *   **`flow`**: `hor`\n",
       "    *   **`level`**: `1`\n",
       "    *   **`stretch`**: `True`\n",
       "    *   **`wrap`**: False\n",
       "*   **`hizb`**: \n",
       "    *   **`flow`**: `hor`\n",
       "    *   **`level`**: `1`\n",
       "    *   **`stretch`**: `True`\n",
       "    *   **`wrap`**: `True`\n",
       "*   **`juz`**: \n",
       "    *   **`flow`**: `hor`\n",
       "    *   **`level`**: `2`\n",
       "    *   **`stretch`**: `True`\n",
       "    *   **`wrap`**: `True`\n",
       "*   **`lex`**: \n",
       "    *   **`flow`**: `ver`\n",
       "    *   **`level`**: 0\n",
       "    *   **`stretch`**: False\n",
       "    *   **`wrap`**: False\n",
       "*   **`manzil`**: \n",
       "    *   **`flow`**: `hor`\n",
       "    *   **`level`**: `2`\n",
       "    *   **`stretch`**: `True`\n",
       "    *   **`wrap`**: `True`\n",
       "*   **`page`**: \n",
       "    *   **`flow`**: `hor`\n",
       "    *   **`level`**: `1`\n",
       "    *   **`stretch`**: `True`\n",
       "    *   **`wrap`**: `True`\n",
       "*   **`ruku`**: \n",
       "    *   **`flow`**: `hor`\n",
       "    *   **`level`**: `4`\n",
       "    *   **`stretch`**: `True`\n",
       "    *   **`wrap`**: `True`\n",
       "*   **`sajda`**: \n",
       "    *   **`flow`**: `hor`\n",
       "    *   **`level`**: `2`\n",
       "    *   **`stretch`**: `True`\n",
       "    *   **`wrap`**: `True`\n",
       "*   **`sura`**: \n",
       "    *   **`flow`**: `hor`\n",
       "    *   **`level`**: `4`\n",
       "    *   **`stretch`**: `True`\n",
       "    *   **`wrap`**: `True`\n",
       "*   **`word`**: \n",
       "    *   **`flow`**: `ver`\n",
       "    *   **`level`**: 0\n",
       "    *   **`stretch`**: False\n",
       "    *   **`wrap`**: False\n",
       "\n",
       "</details>\n",
       "<details><summary>51. lexMap</summary>\n",
       "\n",
       "*   **`word`**: `lex`\n",
       "\n",
       "</details>\n",
       "<details><summary>52. lexTypes</summary>\n",
       "\n",
       "1.  `lex`\n",
       "\n",
       "</details>\n",
       "<details><summary>53. lineNumberFeature</summary>\n",
       "{}\n",
       "\n",
       "</details>\n",
       "<details><summary>54. local</summary>\n",
       "`clone`\n",
       "\n",
       "</details>\n",
       "<details><summary>55. localDir</summary>\n",
       "`/Users/dirk/github/q-ran/quran/_temp`\n",
       "\n",
       "</details>\n",
       "<details><summary>56. moduleSpecs</summary>\n",
       "()\n",
       "\n",
       "</details>\n",
       "<details><summary>57. noChildren</summary>\n",
       "\n",
       "1.  `hizb`\n",
       "2.  `juz`\n",
       "3.  `manzil`\n",
       "4.  `page`\n",
       "5.  `sajda`\n",
       "\n",
       "</details>\n",
       "<details><summary>58. noDescendTypes</summary>\n",
       "\n",
       "1.  `lex`\n",
       "\n",
       "</details>\n",
       "<details><summary>59. noneValues</summary>\n",
       "\n",
       "1.  `none`\n",
       "2.  `unknown`\n",
       "3.  None\n",
       "4.  `NA`\n",
       "\n",
       "</details>\n",
       "<details><summary>60. org</summary>\n",
       "`q-ran`\n",
       "\n",
       "</details>\n",
       "<details><summary>61. plainCustom</summary>\n",
       "{}\n",
       "\n",
       "</details>\n",
       "<details><summary>62. prettyCustom</summary>\n",
       "{}\n",
       "\n",
       "</details>\n",
       "<details><summary>63. provenanceSpec</summary>\n",
       "\n",
       "*   **`corpus`**: `Quran`\n",
       "*   **`doi`**: `10.5281/zenodo.2532177`\n",
       "*   **`org`**: `q-ran`\n",
       "*   **`repo`**: `quran`\n",
       "*   **`version`**: `0.4`\n",
       "*   **`webBase`**: `http://tanzil.net`\n",
       "*   **`webHint`**: `show this passage on Tanzil`\n",
       "*   **`webUrl`**: `/#<1>:<2>`\n",
       "\n",
       "</details>\n",
       "<details><summary>64. relative</summary>\n",
       "`tf`\n",
       "\n",
       "</details>\n",
       "<details><summary>65. release</summary>\n",
       "None\n",
       "\n",
       "</details>\n",
       "<details><summary>66. repo</summary>\n",
       "`quran`\n",
       "\n",
       "</details>\n",
       "<details><summary>67. sectionSep1</summary>\n",
       "`:`\n",
       "\n",
       "</details>\n",
       "<details><summary>68. sectionSep2</summary>\n",
       "`:`\n",
       "\n",
       "</details>\n",
       "<details><summary>69. showVerseInTuple</summary>\n",
       "`True`\n",
       "\n",
       "</details>\n",
       "<details><summary>70. styles</summary>\n",
       "{}\n",
       "\n",
       "</details>\n",
       "<details><summary>71. templates</summary>\n",
       "\n",
       "*   **`aya`**: \n",
       "    *   *empty*\n",
       "    *   ()\n",
       "*   **`group`**: \n",
       "    *   *empty*\n",
       "    *   ()\n",
       "*   **`hizb`**: \n",
       "    *   *empty*\n",
       "    *   ()\n",
       "*   **`juz`**: \n",
       "    *   *empty*\n",
       "    *   ()\n",
       "*   **`lex`**: \n",
       "    *   `{lemma}`\n",
       "    *   \n",
       "        *   `lemma`\n",
       "*   **`manzil`**: \n",
       "    *   *empty*\n",
       "    *   ()\n",
       "*   **`page`**: \n",
       "    *   *empty*\n",
       "    *   ()\n",
       "*   **`ruku`**: \n",
       "    *   `True`\n",
       "    *   ()\n",
       "*   **`sajda`**: \n",
       "    *   *empty*\n",
       "    *   ()\n",
       "*   **`sura`**: \n",
       "    *   `True`\n",
       "    *   ()\n",
       "*   **`word`**: \n",
       "    *   `True`\n",
       "    *   ()\n",
       "\n",
       "</details>\n",
       "<details><summary>72. tfDoc</summary>\n",
       "`https://annotation.github.io/text-fabric`\n",
       "\n",
       "</details>\n",
       "<details><summary>73. transform</summary>\n",
       "{}\n",
       "\n",
       "</details>\n",
       "<details><summary>74. typeDisplay</summary>\n",
       "\n",
       "*   **`aya`**: \n",
       "    *   **`children`**: `group`\n",
       "*   **`group`**: \n",
       "    *   **`wrap`**: False\n",
       "*   **`hizb`**: \n",
       "    *   **`children`**: `aya`\n",
       "    *   **`childrenPlain`**: False\n",
       "    *   **`label`**: `{otype} {number}`\n",
       "*   **`juz`**: \n",
       "    *   **`children`**: `aya`\n",
       "    *   **`childrenPlain`**: False\n",
       "    *   **`label`**: `{otype} {number}`\n",
       "*   **`lex`**: \n",
       "    *   **`label`**: `{lemma}`\n",
       "    *   **`lexOcc`**: `word`\n",
       "    *   **`template`**: `{lemma}`\n",
       "*   **`manzil`**: \n",
       "    *   **`children`**: `aya`\n",
       "    *   **`childrenPlain`**: False\n",
       "    *   **`label`**: `{otype} {number}`\n",
       "*   **`page`**: \n",
       "    *   **`children`**: `aya`\n",
       "    *   **`childrenPlain`**: False\n",
       "    *   **`label`**: `{otype} {number}`\n",
       "*   **`ruku`**: \n",
       "    *   **`children`**: `aya`\n",
       "*   **`sajda`**: \n",
       "    *   **`children`**: `aya`\n",
       "    *   **`childrenPlain`**: False\n",
       "    *   **`label`**: `{otype} {number}`\n",
       "*   **`word`**: \n",
       "    *   **`features`**: `lemma root formation tense`\n",
       "    *   **`featuresBare`**: `pos posx`\n",
       "\n",
       "</details>\n",
       "<details><summary>75. urlGh</summary>\n",
       "`https://github.com`\n",
       "\n",
       "</details>\n",
       "<details><summary>76. urlNb</summary>\n",
       "`https://nbviewer.jupyter.org/github`\n",
       "\n",
       "</details>\n",
       "<details><summary>77. verseTypes</summary>\n",
       "\n",
       "1.  `aya`\n",
       "\n",
       "</details>\n",
       "<details><summary>78. version</summary>\n",
       "`0.4`\n",
       "\n",
       "</details>\n",
       "<details><summary>79. webBase</summary>\n",
       "`http://tanzil.net`\n",
       "\n",
       "</details>\n",
       "<details><summary>80. webHint</summary>\n",
       "`show this passage on Tanzil`\n",
       "\n",
       "</details>\n",
       "<details><summary>81. webLang</summary>\n",
       "None\n",
       "\n",
       "</details>\n",
       "<details><summary>82. webLexId</summary>\n",
       "None\n",
       "\n",
       "</details>\n",
       "<details><summary>83. webUrl</summary>\n",
       "`/#<1>:<2>`\n",
       "\n",
       "</details>\n",
       "<details><summary>84. webUrlLex</summary>\n",
       "None\n",
       "\n",
       "</details>\n",
       "<details><summary>85. writing</summary>\n",
       "`ara`\n",
       "\n",
       "</details>\n",
       "<details><summary>86. zip</summary>\n",
       "\n",
       "1.  `quran`\n",
       "\n",
       "</details>\n",
       "</details>\n"
      ],
      "text/plain": [
       "<IPython.core.display.Markdown object>"
      ]
     },
     "metadata": {},
     "output_type": "display_data"
    }
   ],
   "source": [
    "A.showContext()"
   ]
  }
 ],
 "metadata": {
  "kernelspec": {
   "display_name": "Python 3",
   "language": "python",
   "name": "python3"
  },
  "language_info": {
   "codemirror_mode": {
    "name": "ipython",
    "version": 3
   },
   "file_extension": ".py",
   "mimetype": "text/x-python",
   "name": "python",
   "nbconvert_exporter": "python",
   "pygments_lexer": "ipython3",
   "version": "3.7.7"
  }
 },
 "nbformat": 4,
 "nbformat_minor": 4
}
