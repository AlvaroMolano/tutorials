{
 "cells": [
  {
   "cell_type": "code",
   "execution_count": 1,
   "metadata": {},
   "outputs": [],
   "source": [
    "%load_ext autoreload\n",
    "%autoreload 2"
   ]
  },
  {
   "cell_type": "code",
   "execution_count": 2,
   "metadata": {},
   "outputs": [],
   "source": [
    "from tf.app import use\n",
    "from tf.applib.helpers import dm\n",
    "from fixture import typeShow"
   ]
  },
  {
   "cell_type": "markdown",
   "metadata": {},
   "source": [
    "# NENA (North-Eastern Neo-Aramaic)"
   ]
  },
  {
   "cell_type": "code",
   "execution_count": 3,
   "metadata": {},
   "outputs": [
    {
     "name": "stdout",
     "output_type": "stream",
     "text": [
      "Using TF-app in /Users/dirk/github/annotation/app-nena/code:\n",
      "\trepo clone offline under ~/github (local github)\n",
      "Using data in /Users/dirk/github/CambridgeSemiticsLab/nena_tf/tf/0.02:\n",
      "\trepo clone offline under ~/github (local github)\n",
      "   |     0.00s Dataset without structure sections in otext:no structure functions in the T-API\n"
     ]
    },
    {
     "data": {
      "text/html": [
       "<b>Documentation:</b> <a target=\"_blank\" href=\"https://github.com/CambridgeSemiticsLab/nena_tf/blob/master/docs/features.md.md\" title=\"provenance of Northeastern Neo-Aramaic Text Corpus\">NENA_TF</a> <a target=\"_blank\" href=\"https://github.com/CambridgeSemiticsLab/nena_tf/blob/master/docs/transcription.md\" title=\"NENA transcription script\">Character table</a> <a target=\"_blank\" href=\"https://github.com/CambridgeSemiticsLab/nena_tf/blob/master/docs/features.md#\" title=\"NENA_TF feature documentation\">Feature docs</a> <a target=\"_blank\" href=\"https://github.com/annotation/app-nena\" title=\"nena API documentation\">nena API</a> <a target=\"_blank\" href=\"https://annotation.github.io/text-fabric/Api/Fabric/\" title=\"text-fabric-api\">Text-Fabric API 8.0.0</a> <a target=\"_blank\" href=\"https://annotation.github.io/text-fabric/Use/Search/\" title=\"Search Templates Introduction and Reference\">Search Reference</a><details open><summary><b>Loaded features</b>:</summary>\n",
       "<p><b>Northeastern Neo-Aramaic Text Corpus</b>: <a target=\"_blank\" href=\"https://github.com/CambridgeSemiticsLab/nena_tf/blob/master/docs/features.md#class\" title=\"/Users/dirk/github/CambridgeSemiticsLab/nena_tf/tf/0.02/class.tf\">class</a>  <a target=\"_blank\" href=\"https://github.com/CambridgeSemiticsLab/nena_tf/blob/master/docs/features.md#comment\" title=\"/Users/dirk/github/CambridgeSemiticsLab/nena_tf/tf/0.02/comment.tf\">comment</a>  <a target=\"_blank\" href=\"https://github.com/CambridgeSemiticsLab/nena_tf/blob/master/docs/features.md#dialect\" title=\"/Users/dirk/github/CambridgeSemiticsLab/nena_tf/tf/0.02/dialect.tf\">dialect</a>  <a target=\"_blank\" href=\"https://github.com/CambridgeSemiticsLab/nena_tf/blob/master/docs/features.md#end\" title=\"/Users/dirk/github/CambridgeSemiticsLab/nena_tf/tf/0.02/end.tf\">end</a>  <a target=\"_blank\" href=\"https://github.com/CambridgeSemiticsLab/nena_tf/blob/master/docs/features.md#foreign\" title=\"/Users/dirk/github/CambridgeSemiticsLab/nena_tf/tf/0.02/foreign.tf\">foreign</a>  <a target=\"_blank\" href=\"https://github.com/CambridgeSemiticsLab/nena_tf/blob/master/docs/features.md#full\" title=\"/Users/dirk/github/CambridgeSemiticsLab/nena_tf/tf/0.02/full.tf\">full</a>  <a target=\"_blank\" href=\"https://github.com/CambridgeSemiticsLab/nena_tf/blob/master/docs/features.md#full_end\" title=\"/Users/dirk/github/CambridgeSemiticsLab/nena_tf/tf/0.02/full_end.tf\">full_end</a>  <a target=\"_blank\" href=\"https://github.com/CambridgeSemiticsLab/nena_tf/blob/master/docs/features.md#fuzzy\" title=\"/Users/dirk/github/CambridgeSemiticsLab/nena_tf/tf/0.02/fuzzy.tf\">fuzzy</a>  <a target=\"_blank\" href=\"https://github.com/CambridgeSemiticsLab/nena_tf/blob/master/docs/features.md#fuzzy_end\" title=\"/Users/dirk/github/CambridgeSemiticsLab/nena_tf/tf/0.02/fuzzy_end.tf\">fuzzy_end</a>  <a target=\"_blank\" href=\"https://github.com/CambridgeSemiticsLab/nena_tf/blob/master/docs/features.md#gloss\" title=\"/Users/dirk/github/CambridgeSemiticsLab/nena_tf/tf/0.02/gloss.tf\">gloss</a>  <a target=\"_blank\" href=\"https://github.com/CambridgeSemiticsLab/nena_tf/blob/master/docs/features.md#grm_desc\" title=\"/Users/dirk/github/CambridgeSemiticsLab/nena_tf/tf/0.02/grm_desc.tf\">grm_desc</a>  <a target=\"_blank\" href=\"https://github.com/CambridgeSemiticsLab/nena_tf/blob/master/docs/features.md#informant\" title=\"/Users/dirk/github/CambridgeSemiticsLab/nena_tf/tf/0.02/informant.tf\">informant</a>  <a target=\"_blank\" href=\"https://github.com/CambridgeSemiticsLab/nena_tf/blob/master/docs/features.md#lang\" title=\"/Users/dirk/github/CambridgeSemiticsLab/nena_tf/tf/0.02/lang.tf\">lang</a>  <a target=\"_blank\" href=\"https://github.com/CambridgeSemiticsLab/nena_tf/blob/master/docs/features.md#lemma\" title=\"/Users/dirk/github/CambridgeSemiticsLab/nena_tf/tf/0.02/lemma.tf\">lemma</a>  <a target=\"_blank\" href=\"https://github.com/CambridgeSemiticsLab/nena_tf/blob/master/docs/features.md#lemma_form\" title=\"/Users/dirk/github/CambridgeSemiticsLab/nena_tf/tf/0.02/lemma_form.tf\">lemma_form</a>  <a target=\"_blank\" href=\"https://github.com/CambridgeSemiticsLab/nena_tf/blob/master/docs/features.md#lite\" title=\"/Users/dirk/github/CambridgeSemiticsLab/nena_tf/tf/0.02/lite.tf\">lite</a>  <a target=\"_blank\" href=\"https://github.com/CambridgeSemiticsLab/nena_tf/blob/master/docs/features.md#lite_end\" title=\"/Users/dirk/github/CambridgeSemiticsLab/nena_tf/tf/0.02/lite_end.tf\">lite_end</a>  <a target=\"_blank\" href=\"https://github.com/CambridgeSemiticsLab/nena_tf/blob/master/docs/features.md#number\" title=\"/Users/dirk/github/CambridgeSemiticsLab/nena_tf/tf/0.02/number.tf\">number</a>  <a target=\"_blank\" href=\"https://github.com/CambridgeSemiticsLab/nena_tf/blob/master/docs/features.md#otype\" title=\"/Users/dirk/github/CambridgeSemiticsLab/nena_tf/tf/0.02/otype.tf\">otype</a>  <a target=\"_blank\" href=\"https://github.com/CambridgeSemiticsLab/nena_tf/blob/master/docs/features.md#place\" title=\"/Users/dirk/github/CambridgeSemiticsLab/nena_tf/tf/0.02/place.tf\">place</a>  <a target=\"_blank\" href=\"https://github.com/CambridgeSemiticsLab/nena_tf/blob/master/docs/features.md#speaker\" title=\"/Users/dirk/github/CambridgeSemiticsLab/nena_tf/tf/0.02/speaker.tf\">speaker</a>  <a target=\"_blank\" href=\"https://github.com/CambridgeSemiticsLab/nena_tf/blob/master/docs/features.md#text\" title=\"/Users/dirk/github/CambridgeSemiticsLab/nena_tf/tf/0.02/text.tf\">text</a>  <a target=\"_blank\" href=\"https://github.com/CambridgeSemiticsLab/nena_tf/blob/master/docs/features.md#text_id\" title=\"/Users/dirk/github/CambridgeSemiticsLab/nena_tf/tf/0.02/text_id.tf\">text_id</a>  <a target=\"_blank\" href=\"https://github.com/CambridgeSemiticsLab/nena_tf/blob/master/docs/features.md#text_lite\" title=\"/Users/dirk/github/CambridgeSemiticsLab/nena_tf/tf/0.02/text_lite.tf\">text_lite</a>  <a target=\"_blank\" href=\"https://github.com/CambridgeSemiticsLab/nena_tf/blob/master/docs/features.md#text_norm\" title=\"/Users/dirk/github/CambridgeSemiticsLab/nena_tf/tf/0.02/text_norm.tf\">text_norm</a>  <a target=\"_blank\" href=\"https://github.com/CambridgeSemiticsLab/nena_tf/blob/master/docs/features.md#title\" title=\"/Users/dirk/github/CambridgeSemiticsLab/nena_tf/tf/0.02/title.tf\">title</a>  <b><i><a target=\"_blank\" href=\"https://github.com/CambridgeSemiticsLab/nena_tf/blob/master/docs/features.md#oslots\" title=\"/Users/dirk/github/CambridgeSemiticsLab/nena_tf/tf/0.02/oslots.tf\">oslots</a></i></b> </p></details>"
      ],
      "text/plain": [
       "<IPython.core.display.HTML object>"
      ]
     },
     "metadata": {},
     "output_type": "display_data"
    },
    {
     "data": {
      "text/html": [
       "<style>tr.tf, td.tf, th.tf { text-align: left ! important;}@font-face {\n",
       "  font-family: \"Ezra SIL\";\n",
       "  src: local('Ezra SIL'), local('EzraSIL'),\n",
       "    url('/server/static/fonts/SILEOT.woff') format('woff'),\n",
       "    url('https://github.com/annotation/text-fabric/blob/master/tf/server/static/fonts/SILEOT.woff?raw=true') format('woff');\n",
       "}\n",
       "\n",
       "@font-face {\n",
       "  font-family: \"SBL Hebrew\";\n",
       "  src: local('SBL Hebrew'), local('SBLHebrew'),\n",
       "    url('/server/static/fonts/SBL_Hbrw.woff') format('woff'),\n",
       "    url('https://github.com/annotation/text-fabric/blob/master/tf/server/static/fonts/SBL_Hbrw.woff?raw=true') format('woff');\n",
       "}\n",
       "\n",
       "@font-face {\n",
       "  font-family: \"Estrangelo Edessa\";\n",
       "  src: local('Estrangelo Edessa'), local('EstrangeloEdessa');\n",
       "    url('/server/static/fonts/SyrCOMEdessa.woff') format('woff'),\n",
       "    url('https://github.com/annotation/text-fabric/blob/master/tf/server/static/fonts/SyrCOMEdessa.woff?raw=true') format('woff');\n",
       "}\n",
       "\n",
       "@font-face {\n",
       "  font-family: AmiriQuran;\n",
       "  font-style: normal;\n",
       "  font-weight: 400;\n",
       "  src: local('Amiri Quran'), local('AmiriQuran'),\n",
       "    url('/server/static/fonts/AmiriQuran.woff') format('woff'),\n",
       "    url('https://github.com/annotation/text-fabric/blob/master/tf/server/static/fonts/AmiriQuran.woff?raw=true') format('woff');\n",
       "}\n",
       "\n",
       "@font-face {\n",
       "  font-family: AmiriQuranColored;\n",
       "  font-style: normal;\n",
       "  font-weight: 400;\n",
       "  src: local('Amiri Quran Colored'), local('AmiriQuranColored'),\n",
       "    url('/server/static/fonts/AmiriQuranColored.woff') format('woff'),\n",
       "    url('https://github.com/annotation/text-fabric/blob/master/tf/server/static/fonts/AmiriQuranColored.woff?raw=true') format('woff');\n",
       "}\n",
       "\n",
       "@font-face {\n",
       "  font-family: \"Santakku\";\n",
       "  src: local('Santakku'),\n",
       "    url('/server/static/fonts/Santakku.woff') format('woff'),\n",
       "    url('https://github.com/annotation/text-fabric/blob/master/tf/server/static/fonts/Santakku.woff?raw=true') format('woff');\n",
       "}\n",
       "\n",
       "@font-face {\n",
       "  font-family: \"SantakkuM\";\n",
       "  src: local('SantakkuM'),\n",
       "    url('/server/static/fonts/SantakkuM.woff') format('woff'),\n",
       "    url('https://github.com/annotation/text-fabric/blob/master/tf/server/static/fonts/SantakkuM.woff?raw=true') format('woff');\n",
       "}\n",
       "/* neutral text */\n",
       ".txtn,.txtn a:visited,.txtn a:link {\n",
       "    font-family: sans-serif;\n",
       "    font-size: medium;\n",
       "    direction: ltr;\n",
       "    text-decoration: none;\n",
       "    color: var(--text-color);\n",
       "}\n",
       "/* transcription text */\n",
       ".txtt,.txtt a:visited,.txtt a:link {\n",
       "    font-family: monospace;\n",
       "    font-size: medium;\n",
       "    direction: ltr;\n",
       "    text-decoration: none;\n",
       "    color: var(--text-color);\n",
       "}\n",
       "/* source text */\n",
       ".txto,.txto a:visited,.txto a:link {\n",
       "    font-family: serif;\n",
       "    font-size: medium;\n",
       "    direction: ltr;\n",
       "    text-decoration: none;\n",
       "    color: var(--text-color);\n",
       "}\n",
       "/* phonetic text */\n",
       ".txtp,.txtp a:visited,.txtp a:link {\n",
       "    font-family: Gentium, sans-serif;\n",
       "    font-size: large;\n",
       "    direction: ltr;\n",
       "    text-decoration: none;\n",
       "    color: var(--text-color);\n",
       "}\n",
       "/* original script text */\n",
       ".txtu,.txtu a:visited,.txtu a:link {\n",
       "    font-family: Gentium, sans-serif;\n",
       "    font-size: large;\n",
       "    text-decoration: none;\n",
       "    color: var(--text-color);\n",
       "}\n",
       "/* hebrew */\n",
       ".txtu.hbo,.lex.hbo {\n",
       "    font-family: \"Ezra SIL\", \"SBL Hebrew\", sans-serif;\n",
       "    font-size: x-large;\n",
       "    direction: rtl ! important;\n",
       "    unicode-bidi: embed;\n",
       "}\n",
       "/* syriac */\n",
       ".txtu.syc,.lex.syc {\n",
       "    font-family: \"Estrangelo Edessa\", sans-serif;\n",
       "    font-size: large;\n",
       "    direction: rtl ! important;\n",
       "    unicode-bidi: embed;\n",
       "}\n",
       "/* neo aramaic */\n",
       ".txtu.cld,.lex.cld {\n",
       "    font-family: \"CharisSIL-R\", sans-serif;\n",
       "    font-size: medium;\n",
       "    direction: ltr ! important;\n",
       "    unicode-bidi: embed;\n",
       "}\n",
       "/* standard arabic */\n",
       ".txtu.ara,.lex.ara {\n",
       "    font-family: \"AmiriQuran\", sans-serif;\n",
       "    font-size: large;\n",
       "    direction: rtl ! important;\n",
       "    unicode-bidi: embed;\n",
       "}\n",
       "/* cuneiform */\n",
       ".txtu.akk,.lex.akk {\n",
       "    font-family: Santakku, sans-serif;\n",
       "    font-size: x-large;\n",
       "    direction: ltr ! important;\n",
       "    unicode-bidi: embed;\n",
       "}\n",
       "/* greek */\n",
       ".txtu.grc,.lex.grc a:link {\n",
       "    font-family: Gentium, sans-serif;\n",
       "    font-size: medium;\n",
       "    direction: ltr ! important;\n",
       "    unicode-bidi: embed;\n",
       "}\n",
       "a:hover {\n",
       "    text-decoration: underline | important;\n",
       "    color: #0000ff | important;\n",
       "}\n",
       ".ltr {\n",
       "    direction: ltr ! important;\n",
       "}\n",
       ".rtl {\n",
       "    direction: rtl ! important;\n",
       "}\n",
       "span.plain {\n",
       "    display: inline-block;\n",
       "    white-space: pre-wrap;\n",
       "    text-align: start;\n",
       "}\n",
       ".features {\n",
       "    font-family: monospace;\n",
       "    font-size: medium;\n",
       "    font-weight: bold;\n",
       "    color: var(--features);\n",
       "    display: flex;\n",
       "    flex-flow: column nowrap;\n",
       "    justify-content: flex-start;\n",
       "    align-items: flex-start;\n",
       "    align-content: flex-start;\n",
       "    padding: 0.1rem;\n",
       "    margin: 0.1rem;\n",
       "    direction: ltr;\n",
       "    border: var(--meta-width) solid var(--meta-color);\n",
       "    border-radius: var(--meta-width);\n",
       "}\n",
       ".features div,.features span {\n",
       "    padding: 0;\n",
       "    margin: -0.1rem 0;\n",
       "}\n",
       ".features .f {\n",
       "    font-family: sans-serif;\n",
       "    font-size: x-small;\n",
       "    font-weight: normal;\n",
       "    color: #5555bb;\n",
       "}\n",
       ".features .xft {\n",
       "  color: #000000;\n",
       "  background-color: #eeeeee;\n",
       "  font-size: medium;\n",
       "  margin: 0.1rem 0rem;\n",
       "}\n",
       ".features .xft .f {\n",
       "  color: #000000;\n",
       "  background-color: #eeeeee;\n",
       "  font-style: italic;\n",
       "  font-size: small;\n",
       "  font-weight: normal;\n",
       "}\n",
       ".section,.section a:visited,.section a:link {\n",
       "    font-family: sans-serif;\n",
       "    font-size: small;\n",
       "    font-weight: bold;\n",
       "    color: var(--section);\n",
       "}\n",
       ".structure,.structure a:visited,.structure a:link {\n",
       "    font-family: sans-serif;\n",
       "    font-size: small;\n",
       "    font-weight: bold;\n",
       "    color: var(--structure);\n",
       "}\n",
       ".comments {\n",
       "    display: flex;\n",
       "    justify-content: flex-start;\n",
       "    align-items: flex-start;\n",
       "    align-content: flex-start;\n",
       "    flex-flow: column nowrap;\n",
       "}\n",
       ".nd {\n",
       "    font-family: sans-serif;\n",
       "    font-size: x-small;\n",
       "    color: var(--node);\n",
       "    vertical-align: super;\n",
       "}\n",
       ".lex {\n",
       "  color: var(--lex-color);;\n",
       "}\n",
       ".children,.children.ltr {\n",
       "    display: flex;\n",
       "    border: 0;\n",
       "    background-color: #ffffff;\n",
       "    justify-content: flex-start;\n",
       "    align-items: flex-start;\n",
       "    align-content: flex-start;\n",
       "}\n",
       ".children.stretch {\n",
       "    align-items: stretch;\n",
       "}\n",
       ".children.row {\n",
       "    flex-flow: row nowrap;\n",
       "}\n",
       ".children.row.wrap {\n",
       "    flex-flow: row wrap;\n",
       "}\n",
       ".children.col {\n",
       "    flex-flow: column nowrap;\n",
       "}\n",
       ".children.col.wrap {\n",
       "    flex-flow: column wrap;\n",
       "}\n",
       ".contnr {\n",
       "    width: fit-content;\n",
       "    display: flex;\n",
       "    justify-content: flex-start;\n",
       "    align-items: flex-start;\n",
       "    align-content: flex-start;\n",
       "    flex-flow: column nowrap;\n",
       "    background: #ffffff none repeat scroll 0 0;\n",
       "    padding:  0.5rem 0.1rem 0.1rem 0.1rem;\n",
       "    margin: 0.8rem 0.1rem 0.1rem 0.1rem;\n",
       "    border-style: solid;\n",
       "    font-size: small;\n",
       "}\n",
       ".contnr.trm {\n",
       "    background-attachment: local;\n",
       "}\n",
       ".contnr.cnul {\n",
       "    padding:  0;\n",
       "    margin: 0;\n",
       "    border-style: solid;\n",
       "    font-size: xx-small;\n",
       "}\n",
       ".contnr.cnul,.lbl.cnul {\n",
       "    border-color: var(--border-color-nul);\n",
       "    border-width: var(--border-width-nul);\n",
       "    border-radius: var(--border-width-nul);\n",
       "}\n",
       ".contnr.c0,.lbl.c0 {\n",
       "    border-color: var(--border-color0);\n",
       "    border-width: var(--border-width0);\n",
       "    border-radius: var(--border-width0);\n",
       "}\n",
       ".contnr.c1,.lbl.c1 {\n",
       "    border-color: var(--border-color1);\n",
       "    border-width: var(--border-width1);\n",
       "    border-radius: var(--border-width1);\n",
       "}\n",
       ".contnr.c2,.lbl.c2 {\n",
       "    border-color: var(--border-color2);\n",
       "    border-width: var(--border-width2);\n",
       "    border-radius: var(--border-width2);\n",
       "}\n",
       ".contnr.c3,.lbl.c3 {\n",
       "    border-color: var(--border-color3);\n",
       "    border-width: var(--border-width3);\n",
       "    border-radius: var(--border-width3);\n",
       "}\n",
       ".contnr.c4,.lbl.c4 {\n",
       "    border-color: var(--border-color4);\n",
       "    border-width: var(--border-width4);\n",
       "    border-radius: var(--border-width4);\n",
       "}\n",
       ".contnr.l {\n",
       "    border-left-style: dotted\n",
       "}\n",
       ".contnr.r {\n",
       "    border-right-style: dotted\n",
       "}\n",
       ".contnr.lno {\n",
       "    border-left-style: none\n",
       "}\n",
       ".contnr.rno {\n",
       "    border-right-style: none\n",
       "}\n",
       ".lbl {\n",
       "    font-family: monospace;\n",
       "    margin-top: -1.2rem;\n",
       "    margin-left: 1rem;\n",
       "    background: #ffffff none repeat scroll 0 0;\n",
       "    padding: 0 0.3rem;\n",
       "    border-style: solid;\n",
       "    display: block;\n",
       "    color: var(--label)\n",
       "}\n",
       ".lbl.trm {\n",
       "    background-attachment: local;\n",
       "    margin-top: 0.1rem;\n",
       "    margin-left: 0.1rem;\n",
       "    padding: 0.1rem 0.1rem;\n",
       "    border-style: none;\n",
       "}\n",
       ".lbl.cnul {\n",
       "    font-size: xx-small;\n",
       "}\n",
       ".lbl.c0 {\n",
       "    font-size: small;\n",
       "}\n",
       ".lbl.c1 {\n",
       "    font-size: small;\n",
       "}\n",
       ".lbl.c2 {\n",
       "    font-size: medium;\n",
       "}\n",
       ".lbl.c3 {\n",
       "    font-size: medium;\n",
       "}\n",
       ".lbl.c4 {\n",
       "    font-size: large;\n",
       "}\n",
       ".occs {\n",
       "    font-size: x-small;\n",
       "}\n",
       "\n",
       ":root {\n",
       "\t--node:             hsla(120, 100%,  30%, 1.0  );\n",
       "\t--label:            hsla(  0, 100%,  20%, 1.0  );\n",
       "\t--section:          hsla(  0, 100%,  25%, 1.0  );\n",
       "\t--structure:        hsla(120, 100%,  25%, 1.0  );\n",
       "\t--features:         hsla(  0,   0%,  30%, 1.0  );\n",
       "  --text-color:       hsla( 60,  80%,  10%, 1.0  );\n",
       "  --lex-color:        hsla(220,  90%,  60%, 1.0  );\n",
       "  --meta-color:       hsla(  0,   0%,  90%, 0.7  );\n",
       "  --meta-width:       0.15rem;\n",
       "  --border-color-nul: hsla(  0,   0%,  90%, 0.5  );\n",
       "  --border-color0:    hsla(  0,   0%,  90%, 0.9  );\n",
       "  --border-color1:    hsla(  0,   0%,  80%, 0.9  );\n",
       "  --border-color2:    hsla(  0,   0%,  70%, 0.9  );\n",
       "  --border-color3:    hsla(  0,   0%,  80%, 0.8  );\n",
       "  --border-color4:    hsla(  0,   0%,  60%, 0.9  );\n",
       "  --border-width-nul: 0.1rem;\n",
       "  --border-width0:    0.1rem;\n",
       "  --border-width1:    0.15rem;\n",
       "  --border-width2:    0.2rem;\n",
       "  --border-width3:    0.3rem;\n",
       "  --border-width4:    0.25rem;\n",
       "}\n",
       ".hl {\n",
       "  background-color: var(--hl-strong);\n",
       "}\n",
       "span.hl {\n",
       "\tbackground-color: var(--hl-strong);\n",
       "\tborder-width: 0;\n",
       "\tborder-radius: 0.1rem;\n",
       "\tborder-style: solid;\n",
       "}\n",
       "div.contnr.hl,div.lbl.hl {\n",
       "    background-color: var(--hl-strong);\n",
       "}\n",
       "\n",
       "span.hlbx {\n",
       "\tborder-color: var(--hl-rim);\n",
       "\tborder-width: 0.2rem;\n",
       "\tborder-style: solid;\n",
       "\tborder-radius: 0.3rem;\n",
       "  padding: 0.2rem;\n",
       "  margin: 0.2rem;\n",
       "}\n",
       "\n",
       "span.plain {\n",
       "  display: inline-block;\n",
       "  white-space: pre-wrap;\n",
       "}\n",
       "\n",
       ":root {\n",
       "\t--hl-strong:        hsla( 60, 100%,  70%, 0.9  );\n",
       "\t--hl-rim:           hsla( 55,  80%,  50%, 1.0  );\n",
       "}\n",
       ".speaker {\n",
       "    vertical-align: super;\n",
       "    font-family: sans-serif;\n",
       "    font-size: small;\n",
       "    font-weight: bold;\n",
       "    color: #884400;\n",
       "}\n",
       "</style>"
      ],
      "text/plain": [
       "<IPython.core.display.HTML object>"
      ]
     },
     "metadata": {},
     "output_type": "display_data"
    },
    {
     "data": {
      "text/html": [
       "<details open><summary><b>API members</b>:</summary>\n",
       "<a target=\"_blank\" href=\"https://annotation.github.io/text-fabric/Api/Computed/#computed-data\" title=\"doc\">C Computed</a>, <a target=\"_blank\" href=\"https://annotation.github.io/text-fabric/Api/Computed/#computed-data\" title=\"doc\">Call AllComputeds</a>, <a target=\"_blank\" href=\"https://annotation.github.io/text-fabric/Api/Computed/#computed-data\" title=\"doc\">Cs ComputedString</a><br/>\n",
       "<a target=\"_blank\" href=\"https://annotation.github.io/text-fabric/Api/Features/#edge-features\" title=\"doc\">E Edge</a>, <a target=\"_blank\" href=\"https://annotation.github.io/text-fabric/Api/Features/#edge-features\" title=\"doc\">Eall AllEdges</a>, <a target=\"_blank\" href=\"https://annotation.github.io/text-fabric/Api/Features/#edge-features\" title=\"doc\">Es EdgeString</a><br/>\n",
       "<a target=\"_blank\" href=\"https://annotation.github.io/text-fabric/Api/Fabric/#loading\" title=\"doc\">ensureLoaded</a>, <a target=\"_blank\" href=\"https://annotation.github.io/text-fabric/Api/Fabric/#loading\" title=\"doc\">TF</a>, <a target=\"_blank\" href=\"https://annotation.github.io/text-fabric/Api/Fabric/#loading\" title=\"doc\">ignored</a>, <a target=\"_blank\" href=\"https://annotation.github.io/text-fabric/Api/Fabric/#loading\" title=\"doc\">loadLog</a><br/>\n",
       "<a target=\"_blank\" href=\"https://annotation.github.io/text-fabric/Api/Locality/#locality\" title=\"doc\">L Locality</a><br/>\n",
       "<a target=\"_blank\" href=\"https://annotation.github.io/text-fabric/Api/Misc/#messaging\" title=\"doc\">cache</a>, <a target=\"_blank\" href=\"https://annotation.github.io/text-fabric/Api/Misc/#messaging\" title=\"doc\">error</a>, <a target=\"_blank\" href=\"https://annotation.github.io/text-fabric/Api/Misc/#messaging\" title=\"doc\">indent</a>, <a target=\"_blank\" href=\"https://annotation.github.io/text-fabric/Api/Misc/#messaging\" title=\"doc\">info</a>, <a target=\"_blank\" href=\"https://annotation.github.io/text-fabric/Api/Misc/#messaging\" title=\"doc\">isSilent</a>, <a target=\"_blank\" href=\"https://annotation.github.io/text-fabric/Api/Misc/#messaging\" title=\"doc\">reset</a>, <a target=\"_blank\" href=\"https://annotation.github.io/text-fabric/Api/Misc/#messaging\" title=\"doc\">setSilent</a>, <a target=\"_blank\" href=\"https://annotation.github.io/text-fabric/Api/Misc/#messaging\" title=\"doc\">silentOff</a>, <a target=\"_blank\" href=\"https://annotation.github.io/text-fabric/Api/Misc/#messaging\" title=\"doc\">silentOn</a>, <a target=\"_blank\" href=\"https://annotation.github.io/text-fabric/Api/Misc/#messaging\" title=\"doc\">warning</a><br/>\n",
       "<a target=\"_blank\" href=\"https://annotation.github.io/text-fabric/Api/Nodes/#navigating-nodes\" title=\"doc\">N Nodes</a>, <a target=\"_blank\" href=\"https://annotation.github.io/text-fabric/Api/Nodes/#navigating-nodes\" title=\"doc\">sortKey</a>, <a target=\"_blank\" href=\"https://annotation.github.io/text-fabric/Api/Nodes/#navigating-nodes\" title=\"doc\">sortKeyTuple</a>, <a target=\"_blank\" href=\"https://annotation.github.io/text-fabric/Api/Nodes/#navigating-nodes\" title=\"doc\">otypeRank</a>, <a target=\"_blank\" href=\"https://annotation.github.io/text-fabric/Api/Nodes/#navigating-nodes\" title=\"doc\">sortNodes</a><br/>\n",
       "<a target=\"_blank\" href=\"https://annotation.github.io/text-fabric/Api/Features/#node-features\" title=\"doc\">F Feature</a>, <a target=\"_blank\" href=\"https://annotation.github.io/text-fabric/Api/Features/#node-features\" title=\"doc\">Fall AllFeatures</a>, <a target=\"_blank\" href=\"https://annotation.github.io/text-fabric/Api/Features/#node-features\" title=\"doc\">Fs FeatureString</a><br/>\n",
       "<a target=\"_blank\" href=\"https://annotation.github.io/text-fabric/Api/Search/#search\" title=\"doc\">S Search</a><br/>\n",
       "<a target=\"_blank\" href=\"https://annotation.github.io/text-fabric/Api/Text/#text\" title=\"doc\">T Text</a></details>"
      ],
      "text/plain": [
       "<IPython.core.display.HTML object>"
      ]
     },
     "metadata": {},
     "output_type": "display_data"
    }
   ],
   "source": [
    "A = use('nena:clone', checkout=\"clone\", hoist=globals())"
   ]
  },
  {
   "cell_type": "code",
   "execution_count": null,
   "metadata": {},
   "outputs": [],
   "source": [
    "A.reuse()"
   ]
  },
  {
   "cell_type": "code",
   "execution_count": null,
   "metadata": {},
   "outputs": [],
   "source": [
    "A.showContext()"
   ]
  },
  {
   "cell_type": "markdown",
   "metadata": {},
   "source": [
    "# Structure of lines and sentences"
   ]
  },
  {
   "cell_type": "code",
   "execution_count": 4,
   "metadata": {},
   "outputs": [],
   "source": [
    "v = F.otype.s('line')[0]"
   ]
  },
  {
   "cell_type": "code",
   "execution_count": 5,
   "metadata": {},
   "outputs": [
    {
     "data": {
      "text/html": [
       "<span class=\"section ltr\"><a target=\"_blank\" href=\"0.02/Barwar/A Hundred Gold Coins.nena\" title=\"Show this title in the NENA repository\" sec=\"Barwar, A Hundred Gold Coins, Ln. 1\">Barwar, A Hundred Gold Coins, Ln. 1</a> </span><div class=\"contnr c3    \" ><div class=\"lbl c3  \"><span class=\"nd\">line</span> <span class=\"txtu cld\">1</span></div> <div class=\"children row wrap \"><div class=\"children row wrap \"><div class=\"contnr c2    r \" ><div class=\"lbl c2  \"><span class=\"nd\">sentence</span> </div> <div class=\"children row wrap \"><div class=\"contnr cnul trm   \" ><div class=\"children row wrap \"><div class=\"contnr c1    \" ><div class=\"lbl c1  \"><span class=\"nd\">inton</span> </div> <div class=\"children row  \"><div class=\"contnr c1 trm   \" ><div class=\"lbl c1 trm \"><span class=\"nd\">stress</span> <span class=\"txtu cld\"><span class=\"plain outer   \" ><span class=\"plain txtu cld \"></span><span class=\"plain    \" ><span class=\"plain txtu cld \"></span><span class=\"plain    \" ><span class=\"txtu cld\">x</span></span><span class=\"plain    \" ><span class=\"txtu cld\">á-</span></span></span><span class=\"plain    \" ><span class=\"plain txtu cld \"></span><span class=\"plain    \" ><span class=\"txtu cld\">g</span></span><span class=\"plain    \" ><span class=\"txtu cld\">a </span></span></span></span></span></div> </div><div class=\"contnr c1 trm   \" ><div class=\"lbl c1 trm \"><span class=\"nd\">stress</span> <span class=\"txtu cld\"><span class=\"plain outer   \" ><span class=\"plain txtu cld \"></span><span class=\"plain    \" ><span class=\"plain txtu cld \"></span><span class=\"plain    \" ><span class=\"txtu cld\">x</span></span><span class=\"plain    \" ><span class=\"txtu cld\">è</span></span><span class=\"plain    \" ><span class=\"txtu cld\">t</span></span><span class=\"plain    \" ><span class=\"txtu cld\">a,ˈ </span></span></span></span></span></div> </div></div></div></div></div></div></div><div class=\"contnr c2    l r \" ><div class=\"lbl c2  \"><span class=\"nd\">sentence</span> </div> <div class=\"children row wrap \"><div class=\"contnr cnul trm   \" ><div class=\"children row wrap \"><div class=\"contnr c1    \" ><div class=\"lbl c1  \"><span class=\"nd\">inton</span> </div> <div class=\"children row  \"><div class=\"contnr c1 trm   \" ><div class=\"lbl c1 trm \"><span class=\"nd\">stress</span> <span class=\"txtu cld\"><span class=\"plain outer   \" ><span class=\"plain txtu cld \"></span><span class=\"plain    \" ><span class=\"plain txtu cld \"></span><span class=\"plain    \" ><span class=\"txtu cld\">m</span></span><span class=\"plain    \" ><span class=\"txtu cld\">á</span></span><span class=\"plain    \" ><span class=\"txtu cld\">l</span></span><span class=\"plain    \" ><span class=\"txtu cld\">l</span></span><span class=\"plain    \" ><span class=\"txtu cld\">a</span></span><span class=\"plain    \" ><span class=\"txtu cld\">h </span></span></span></span></span></div> </div><div class=\"contnr c1 trm   \" ><div class=\"lbl c1 trm \"><span class=\"nd\">stress</span> <span class=\"txtu cld\"><span class=\"plain outer   \" ><span class=\"plain txtu cld \"></span><span class=\"plain    \" ><span class=\"plain txtu cld \"></span><span class=\"plain    \" ><span class=\"txtu cld\">N</span></span><span class=\"plain    \" ><span class=\"txtu cld\">a</span></span><span class=\"plain    \" ><span class=\"txtu cld\">ṣ</span></span><span class=\"plain    \" ><span class=\"txtu cld\">r</span></span><span class=\"plain    \" ><span class=\"txtu cld\">à</span></span><span class=\"plain    \" ><span class=\"txtu cld\">d</span></span><span class=\"plain    \" ><span class=\"txtu cld\">i</span></span><span class=\"plain    \" ><span class=\"txtu cld\">n,ˈ </span></span></span></span></span></div> </div></div></div></div></div></div></div><div class=\"contnr c2    l \" ><div class=\"lbl c2  \"><span class=\"nd\">sentence</span> </div> <div class=\"children row wrap \"><div class=\"contnr cnul trm   \" ><div class=\"children row wrap \"><div class=\"contnr c1    \" ><div class=\"lbl c1  \"><span class=\"nd\">inton</span> </div> <div class=\"children row  \"><div class=\"contnr c1 trm   \" ><div class=\"lbl c1 trm \"><span class=\"nd\">stress</span> <span class=\"txtu cld\"><span class=\"plain outer   \" ><span class=\"plain txtu cld \"></span><span class=\"plain    \" ><span class=\"plain txtu cld \"></span><span class=\"plain    \" ><span class=\"txtu cld\">x</span></span><span class=\"plain    \" ><span class=\"txtu cld\">á</span></span><span class=\"plain    \" ><span class=\"txtu cld\">z</span></span><span class=\"plain    \" ><span class=\"txtu cld\">ə</span></span><span class=\"plain    \" ><span class=\"txtu cld\">x </span></span></span></span></span></div> </div><div class=\"contnr c1 trm   \" ><div class=\"lbl c1 trm \"><span class=\"nd\">stress</span> <span class=\"txtu cld\"><span class=\"plain outer   \" ><span class=\"plain txtu cld \"></span><span class=\"plain    \" ><span class=\"plain txtu cld \"></span><span class=\"plain    \" ><span class=\"txtu cld\">m</span></span><span class=\"plain    \" ><span class=\"txtu cld\">ò</span></span><span class=\"plain    \" ><span class=\"txtu cld\">d</span></span><span class=\"plain    \" ><span class=\"txtu cld\">i </span></span></span></span></span></div> </div><div class=\"contnr c1 trm   \" ><div class=\"lbl c1 trm \"><span class=\"nd\">stress</span> <span class=\"txtu cld\"><span class=\"plain outer   \" ><span class=\"plain txtu cld \"></span><span class=\"plain    \" ><span class=\"plain txtu cld \"></span><span class=\"plain    \" ><span class=\"txtu cld\">w</span></span><span class=\"plain    \" ><span class=\"txtu cld\">í</span></span><span class=\"plain    \" ><span class=\"txtu cld\">ð</span></span><span class=\"plain    \" ><span class=\"txtu cld\">a.ˈ </span></span></span></span></span></div> </div></div></div></div></div></div></div></div><div class=\"children row wrap \"><div class=\"contnr c2    r \" ><div class=\"lbl c2  \"><span class=\"nd\">sentence</span> </div> <div class=\"children row wrap \"><div class=\"contnr cnul trm   \" ><div class=\"children row wrap \"><div class=\"contnr c1    \" ><div class=\"lbl c1  \"><span class=\"nd\">inton</span> </div> <div class=\"children row  \"><div class=\"contnr c1 trm   \" ><div class=\"lbl c1 trm \"><span class=\"nd\">stress</span> <span class=\"txtu cld\"><span class=\"plain outer   \" ><span class=\"plain txtu cld \"></span><span class=\"plain    \" ><span class=\"plain txtu cld \"></span><span class=\"plain    \" ><span class=\"txtu cld\">g</span></span><span class=\"plain    \" ><span class=\"txtu cld\">u-</span></span></span><span class=\"plain    \" ><span class=\"plain txtu cld \"></span><span class=\"plain    \" ><span class=\"txtu cld\">b</span></span><span class=\"plain    \" ><span class=\"txtu cld\">ɛ̀</span></span><span class=\"plain    \" ><span class=\"txtu cld\">θ</span></span><span class=\"plain    \" ><span class=\"txtu cld\">a </span></span></span></span></span></div> </div><div class=\"contnr c1 trm   \" ><div class=\"lbl c1 trm \"><span class=\"nd\">stress</span> <span class=\"txtu cld\"><span class=\"plain outer   \" ><span class=\"plain txtu cld \"></span><span class=\"plain    \" ><span class=\"plain txtu cld \"></span><span class=\"plain    \" ><span class=\"txtu cld\">w</span></span><span class=\"plain    \" ><span class=\"txtu cld\">é</span></span><span class=\"plain    \" ><span class=\"txtu cld\">w</span></span><span class=\"plain    \" ><span class=\"txtu cld\">a,ˈ </span></span></span></span></span></div> </div></div></div></div></div></div></div><div class=\"contnr c2    l \" ><div class=\"lbl c2  \"><span class=\"nd\">sentence</span> </div> <div class=\"children row wrap \"><div class=\"contnr cnul trm   \" ><div class=\"children row wrap \"><div class=\"contnr c1    \" ><div class=\"lbl c1  \"><span class=\"nd\">inton</span> </div> <div class=\"children row  \"><div class=\"contnr c1 trm   \" ><div class=\"lbl c1 trm \"><span class=\"nd\">stress</span> <span class=\"txtu cld\"><span class=\"plain outer   \" ><span class=\"plain txtu cld \"></span><span class=\"plain    \" ><span class=\"plain txtu cld \"></span><span class=\"plain    \" ><span class=\"txtu cld\">h</span></span><span class=\"plain    \" ><span class=\"txtu cld\">a</span></span><span class=\"plain    \" ><span class=\"txtu cld\">r-</span></span></span><span class=\"plain    \" ><span class=\"plain txtu cld \"></span><span class=\"plain    \" ><span class=\"txtu cld\">z</span></span><span class=\"plain    \" ><span class=\"txtu cld\">á</span></span><span class=\"plain    \" ><span class=\"txtu cld\">l</span></span><span class=\"plain    \" ><span class=\"txtu cld\">a-</span></span></span><span class=\"plain    \" ><span class=\"plain txtu cld \"></span><span class=\"plain    \" ><span class=\"txtu cld\">w </span></span></span></span></span></div> </div><div class=\"contnr c1 trm   \" ><div class=\"lbl c1 trm \"><span class=\"nd\">stress</span> <span class=\"txtu cld\"><span class=\"plain outer   \" ><span class=\"plain txtu cld \"></span><span class=\"plain    \" ><span class=\"plain txtu cld \"></span><span class=\"plain    \" ><span class=\"txtu cld\">θ</span></span><span class=\"plain    \" ><span class=\"txtu cld\">à</span></span><span class=\"plain    \" ><span class=\"txtu cld\">y</span></span><span class=\"plain    \" ><span class=\"txtu cld\">a.ˈ </span></span></span></span></span></div> </div></div></div></div></div></div></div></div><div class=\"children row wrap \"><div class=\"contnr c2    r \" ><div class=\"lbl c2  \"><span class=\"nd\">sentence</span> </div> <div class=\"children row wrap \"><div class=\"contnr cnul trm   \" ><div class=\"children row wrap \"><div class=\"contnr c1    \" ><div class=\"lbl c1  \"><span class=\"nd\">inton</span> </div> <div class=\"children row  \"><div class=\"contnr c1 trm   \" ><div class=\"lbl c1 trm \"><span class=\"nd\">stress</span> <span class=\"txtu cld\"><span class=\"plain outer   \" ><span class=\"plain txtu cld \"></span><span class=\"plain    \" ><span class=\"plain txtu cld \"></span><span class=\"plain    \" ><span class=\"txtu cld\">z</span></span><span class=\"plain    \" ><span class=\"txtu cld\">á</span></span><span class=\"plain    \" ><span class=\"txtu cld\">l</span></span><span class=\"plain    \" ><span class=\"txtu cld\">a-</span></span></span><span class=\"plain    \" ><span class=\"plain txtu cld \"></span><span class=\"plain    \" ><span class=\"txtu cld\">w </span></span></span></span></span></div> </div><div class=\"contnr c1 trm   \" ><div class=\"lbl c1 trm \"><span class=\"nd\">stress</span> <span class=\"txtu cld\"><span class=\"plain outer   \" ><span class=\"plain txtu cld \"></span><span class=\"plain    \" ><span class=\"plain txtu cld \"></span><span class=\"plain    \" ><span class=\"txtu cld\">θ</span></span><span class=\"plain    \" ><span class=\"txtu cld\">à</span></span><span class=\"plain    \" ><span class=\"txtu cld\">y</span></span><span class=\"plain    \" ><span class=\"txtu cld\">a,ˈ </span></span></span></span></span></div> </div></div></div></div></div></div></div><div class=\"contnr c2    l r \" ><div class=\"lbl c2  \"><span class=\"nd\">sentence</span> </div> <div class=\"children row wrap \"><div class=\"contnr cnul trm   \" ><div class=\"children row wrap \"><div class=\"contnr c1    \" ><div class=\"lbl c1  \"><span class=\"nd\">inton</span> </div> <div class=\"children row  \"><div class=\"contnr c1 trm   \" ><div class=\"lbl c1 trm \"><span class=\"nd\">stress</span> <span class=\"txtu cld\"><span class=\"plain outer   \" ><span class=\"plain txtu cld \"></span><span class=\"plain    \" ><span class=\"plain txtu cld \"></span><span class=\"plain    \" ><span class=\"txtu cld\">m</span></span><span class=\"plain    \" ><span class=\"txtu cld\">á</span></span><span class=\"plain    \" ><span class=\"txtu cld\">r</span></span><span class=\"plain    \" ><span class=\"txtu cld\">a </span></span></span></span></span></div> </div><div class=\"contnr c1 trm   \" ><div class=\"lbl c1 trm \"><span class=\"nd\">stress</span> <span class=\"txtu cld\"><span class=\"plain outer   \" ><span class=\"plain txtu cld \"></span><span class=\"plain    \" ><span class=\"plain txtu cld \"></span><span class=\"plain    \" ><span class=\"txtu cld\">y</span></span><span class=\"plain    \" ><span class=\"txtu cld\">a-</span></span></span><span class=\"plain    \" ><span class=\"plain txtu cld \"></span><span class=\"plain    \" ><span class=\"txtu cld\">ʾ</span></span><span class=\"plain    \" ><span class=\"txtu cld\">à</span></span><span class=\"plain    \" ><span class=\"txtu cld\">l</span></span><span class=\"plain    \" ><span class=\"txtu cld\">a</span></span><span class=\"plain    \" ><span class=\"txtu cld\">h</span></span><span class=\"plain    \" ><span class=\"txtu cld\">a,ˈ </span></span></span></span></span></div> </div></div></div></div></div></div></div><div class=\"contnr c2    l \" ><div class=\"lbl c2  \"><span class=\"nd\">sentence</span> </div> <div class=\"children row wrap \"><div class=\"contnr cnul trm   \" ><div class=\"children row wrap \"><div class=\"contnr c1    \" ><div class=\"lbl c1  \"><span class=\"nd\">inton</span> </div> <div class=\"children row  \"><div class=\"contnr c1 trm   \" ><div class=\"lbl c1 trm \"><span class=\"nd\">stress</span> <span class=\"txtu cld\"><span class=\"plain outer   \" ><span class=\"plain txtu cld \"></span><span class=\"plain    \" ><span class=\"plain txtu cld \"></span><span class=\"plain    \" ><span class=\"txtu cld\">y</span></span><span class=\"plain    \" ><span class=\"txtu cld\">a</span></span><span class=\"plain    \" ><span class=\"txtu cld\">w</span></span><span class=\"plain    \" ><span class=\"txtu cld\">ə̀</span></span><span class=\"plain    \" ><span class=\"txtu cld\">t</span></span><span class=\"plain    \" ><span class=\"txtu cld\">l</span></span><span class=\"plain    \" ><span class=\"txtu cld\">iˈ </span></span></span></span></span></div> </div></div></div><div class=\"contnr c1    \" ><div class=\"lbl c1  \"><span class=\"nd\">inton</span> </div> <div class=\"children row  \"><div class=\"contnr c1 trm   \" ><div class=\"lbl c1 trm \"><span class=\"nd\">stress</span> <span class=\"txtu cld\"><span class=\"plain outer   \" ><span class=\"plain txtu cld \"></span><span class=\"plain    \" ><span class=\"plain txtu cld \"></span><span class=\"plain    \" ><span class=\"txtu cld\">ʾ</span></span><span class=\"plain    \" ><span class=\"txtu cld\">ə́</span></span><span class=\"plain    \" ><span class=\"txtu cld\">m</span></span><span class=\"plain    \" ><span class=\"txtu cld\">m</span></span><span class=\"plain    \" ><span class=\"txtu cld\">a </span></span></span></span></span></div> </div><div class=\"contnr c1 trm   \" ><div class=\"lbl c1 trm \"><span class=\"nd\">stress</span> <span class=\"txtu cld\"><span class=\"plain outer   \" ><span class=\"plain txtu cld \"></span><span class=\"plain    \" ><span class=\"plain txtu cld \"></span><span class=\"plain    \" ><span class=\"txtu cld\">d</span></span><span class=\"plain    \" ><span class=\"txtu cld\">à</span></span><span class=\"plain    \" ><span class=\"txtu cld\">w</span></span><span class=\"plain    \" ><span class=\"txtu cld\">e.ˈ </span></span></span></span></span></div> </div></div></div></div></div></div></div></div><div class=\"children row wrap \"><div class=\"contnr c2    \" ><div class=\"lbl c2  \"><span class=\"nd\">sentence</span> </div> <div class=\"children row wrap \"><div class=\"contnr cnul trm   \" ><div class=\"children row wrap \"><div class=\"contnr c1    \" ><div class=\"lbl c1  \"><span class=\"nd\">inton</span> </div> <div class=\"children row  \"><div class=\"contnr c1 trm   \" ><div class=\"lbl c1 trm \"><span class=\"nd\">stress</span> <span class=\"txtu cld\"><span class=\"plain outer   \" ><span class=\"plain txtu cld \"></span><span class=\"plain    \" ><span class=\"plain txtu cld \"></span><span class=\"plain    \" ><span class=\"txtu cld\">ʾ</span></span><span class=\"plain    \" ><span class=\"txtu cld\">ə</span></span><span class=\"plain    \" ><span class=\"txtu cld\">n-</span></span></span><span class=\"plain    \" ><span class=\"plain txtu cld \"></span><span class=\"plain    \" ><span class=\"txtu cld\">h</span></span><span class=\"plain    \" ><span class=\"txtu cld\">à</span></span><span class=\"plain    \" ><span class=\"txtu cld\">w</span></span><span class=\"plain    \" ><span class=\"txtu cld\">aˈ </span></span></span></span></span></div> </div></div></div><div class=\"contnr c1    \" ><div class=\"lbl c1  \"><span class=\"nd\">inton</span> </div> <div class=\"children row  \"><div class=\"contnr c1 trm   \" ><div class=\"lbl c1 trm \"><span class=\"nd\">stress</span> <span class=\"txtu cld\"><span class=\"plain outer   \" ><span class=\"plain txtu cld \"></span><span class=\"plain    \" ><span class=\"plain txtu cld \"></span><span class=\"plain    \" ><span class=\"txtu cld\">ʾ</span></span><span class=\"plain    \" ><span class=\"txtu cld\">ə́</span></span><span class=\"plain    \" ><span class=\"txtu cld\">č̣</span></span><span class=\"plain    \" ><span class=\"txtu cld\">č̣</span></span><span class=\"plain    \" ><span class=\"txtu cld\">i-</span></span></span><span class=\"plain    \" ><span class=\"plain txtu cld \"></span><span class=\"plain    \" ><span class=\"txtu cld\">u </span></span></span></span></span></div> </div><div class=\"contnr c1 trm   \" ><div class=\"lbl c1 trm \"><span class=\"nd\">stress</span> <span class=\"txtu cld\"><span class=\"plain outer   \" ><span class=\"plain txtu cld \"></span><span class=\"plain    \" ><span class=\"plain txtu cld \"></span><span class=\"plain    \" ><span class=\"txtu cld\">ʾ</span></span><span class=\"plain    \" ><span class=\"txtu cld\">ə́</span></span><span class=\"plain    \" ><span class=\"txtu cld\">č̣</span></span><span class=\"plain    \" ><span class=\"txtu cld\">č̣</span></span><span class=\"plain    \" ><span class=\"txtu cld\">a </span></span></span></span></span></div> </div><div class=\"contnr c1 trm   \" ><div class=\"lbl c1 trm \"><span class=\"nd\">stress</span> <span class=\"txtu cld\"><span class=\"plain outer   \" ><span class=\"plain txtu cld \"></span><span class=\"plain    \" ><span class=\"plain txtu cld \"></span><span class=\"plain    \" ><span class=\"txtu cld\">m</span></span><span class=\"plain    \" ><span class=\"txtu cld\">a</span></span><span class=\"plain    \" ><span class=\"txtu cld\">q</span></span><span class=\"plain    \" ><span class=\"txtu cld\">ə</span></span><span class=\"plain    \" ><span class=\"txtu cld\">l</span></span><span class=\"plain    \" ><span class=\"txtu cld\">b</span></span><span class=\"plain    \" ><span class=\"txtu cld\">ə̀</span></span><span class=\"plain    \" ><span class=\"txtu cld\">n</span></span><span class=\"plain    \" ><span class=\"txtu cld\">n</span></span><span class=\"plain    \" ><span class=\"txtu cld\">a.ˈ </span></span></span></span></span></div> </div></div></div></div></div></div></div></div><div class=\"children row wrap \"><div class=\"contnr c2    r \" ><div class=\"lbl c2  \"><span class=\"nd\">sentence</span> </div> <div class=\"children row wrap \"><div class=\"contnr cnul trm   \" ><div class=\"children row wrap \"><div class=\"contnr c1    \" ><div class=\"lbl c1  \"><span class=\"nd\">inton</span> </div> <div class=\"children row  \"><div class=\"contnr c1 trm   \" ><div class=\"lbl c1 trm \"><span class=\"nd\">stress</span> <span class=\"txtu cld\"><span class=\"plain outer   \" ><span class=\"plain txtu cld \"></span><span class=\"plain    \" ><span class=\"plain txtu cld \"></span><span class=\"plain    \" ><span class=\"txtu cld\">ʾ</span></span><span class=\"plain    \" ><span class=\"txtu cld\">u-</span></span></span><span class=\"plain    \" ><span class=\"plain txtu cld \"></span><span class=\"plain    \" ><span class=\"txtu cld\">ʾ</span></span><span class=\"plain    \" ><span class=\"txtu cld\">ə</span></span><span class=\"plain    \" ><span class=\"txtu cld\">n-</span></span></span><span class=\"plain    \" ><span class=\"plain txtu cld \"></span><span class=\"plain    \" ><span class=\"txtu cld\">h</span></span><span class=\"plain    \" ><span class=\"txtu cld\">à</span></span><span class=\"plain    \" ><span class=\"txtu cld\">w</span></span><span class=\"plain    \" ><span class=\"txtu cld\">aˈ </span></span></span></span></span></div> </div></div></div><div class=\"contnr c1    \" ><div class=\"lbl c1  \"><span class=\"nd\">inton</span> </div> <div class=\"children row  \"><div class=\"contnr c1 trm   \" ><div class=\"lbl c1 trm \"><span class=\"nd\">stress</span> <span class=\"txtu cld\"><span class=\"plain outer   \" ><span class=\"plain txtu cld \"></span><span class=\"plain    \" ><span class=\"plain txtu cld \"></span><span class=\"plain    \" ><span class=\"txtu cld\">ʾ</span></span><span class=\"plain    \" ><span class=\"txtu cld\">ə́</span></span><span class=\"plain    \" ><span class=\"txtu cld\">m</span></span><span class=\"plain    \" ><span class=\"txtu cld\">m</span></span><span class=\"plain    \" ><span class=\"txtu cld\">a-</span></span></span><span class=\"plain    \" ><span class=\"plain txtu cld \"></span><span class=\"plain    \" ><span class=\"txtu cld\">w-</span></span></span><span class=\"plain    \" ><span class=\"plain txtu cld \"></span><span class=\"plain    \" ><span class=\"txtu cld\">x</span></span><span class=\"plain    \" ><span class=\"txtu cld\">à-</span></span></span><span class=\"plain    \" ><span class=\"plain txtu cld \"></span><span class=\"plain    \" ><span class=\"txtu cld\">ž</span></span><span class=\"plain    \" ><span class=\"txtu cld\">i,ˈ </span></span></span></span></span></div> </div></div></div></div></div></div></div><div class=\"contnr c2    l \" ><div class=\"lbl c2  \"><span class=\"nd\">sentence</span> </div> <div class=\"children row wrap \"><div class=\"contnr cnul trm   \" ><div class=\"children row wrap \"><div class=\"contnr c1    \" ><div class=\"lbl c1  \"><span class=\"nd\">inton</span> </div> <div class=\"children row  \"><div class=\"contnr c1 trm   \" ><div class=\"lbl c1 trm \"><span class=\"nd\">stress</span> <span class=\"txtu cld\"><span class=\"plain outer   \" ><span class=\"plain txtu cld \"></span><span class=\"plain    \" ><span class=\"plain txtu cld \"></span><span class=\"plain    \" ><span class=\"txtu cld\">l</span></span><span class=\"plain    \" ><span class=\"txtu cld\">a-</span></span></span><span class=\"plain    \" ><span class=\"plain txtu cld \"></span><span class=\"plain    \" ><span class=\"txtu cld\">b</span></span><span class=\"plain    \" ><span class=\"txtu cld\">ă</span></span><span class=\"plain    \" ><span class=\"txtu cld\">y</span></span><span class=\"plain    \" ><span class=\"txtu cld\">ə̀</span></span><span class=\"plain    \" ><span class=\"txtu cld\">n</span></span><span class=\"plain    \" ><span class=\"txtu cld\">n</span></span><span class=\"plain    \" ><span class=\"txtu cld\">a.ˈ </span></span></span></span></span></div> </div></div></div></div></div></div></div></div><div class=\"children row wrap \"><div class=\"contnr c2    \" ><div class=\"lbl c2  \"><span class=\"nd\">sentence</span> </div> <div class=\"children row wrap \"><div class=\"contnr cnul trm   \" ><div class=\"children row wrap \"><div class=\"contnr c1    \" ><div class=\"lbl c1  \"><span class=\"nd\">inton</span> </div> <div class=\"children row  \"><div class=\"contnr c1 trm   \" ><div class=\"lbl c1 trm \"><span class=\"nd\">stress</span> <span class=\"txtu cld\"><span class=\"plain outer   \" ><span class=\"plain txtu cld \"></span><span class=\"plain    \" ><span class=\"plain txtu cld \"></span><span class=\"plain    \" ><span class=\"txtu cld\">d</span></span><span class=\"plain    \" ><span class=\"txtu cld\">e-</span></span></span><span class=\"plain    \" ><span class=\"plain txtu cld \"></span><span class=\"plain    \" ><span class=\"txtu cld\">š</span></span><span class=\"plain    \" ><span class=\"txtu cld\">ù</span></span><span class=\"plain    \" ><span class=\"txtu cld\">q</span></span><span class=\"plain    \" ><span class=\"txtu cld\">l</span></span><span class=\"plain    \" ><span class=\"txtu cld\">a.ˈ </span></span></span></span></span></div> </div></div></div></div></div></div></div></div><div class=\"children row wrap \"><div class=\"contnr c2    \" ><div class=\"lbl c2  \"><span class=\"nd\">sentence</span> </div> <div class=\"children row wrap \"><div class=\"contnr cnul trm   \" ><div class=\"children row wrap \"><div class=\"contnr c1    \" ><div class=\"lbl c1  \"><span class=\"nd\">inton</span> </div> <div class=\"children row  \"><div class=\"contnr c1 trm   \" ><div class=\"lbl c1 trm \"><span class=\"nd\">stress</span> <span class=\"txtu cld\"><span class=\"plain outer   \" ><span class=\"plain txtu cld \"></span><span class=\"plain    \" ><span class=\"plain txtu cld \"></span><span class=\"plain    \" ><span class=\"txtu cld\">ʾ</span></span><span class=\"plain    \" ><span class=\"txtu cld\">ə̀</span></span><span class=\"plain    \" ><span class=\"txtu cld\">m</span></span><span class=\"plain    \" ><span class=\"txtu cld\">m</span></span><span class=\"plain    \" ><span class=\"txtu cld\">a </span></span></span></span></span></div> </div><div class=\"contnr c1 trm   \" ><div class=\"lbl c1 trm \"><span class=\"nd\">stress</span> <span class=\"txtu cld\"><span class=\"plain outer   \" ><span class=\"plain txtu cld \"></span><span class=\"plain    \" ><span class=\"plain txtu cld \"></span><span class=\"plain    \" ><span class=\"txtu cld\">g</span></span><span class=\"plain    \" ><span class=\"txtu cld\">ắ</span></span><span class=\"plain    \" ><span class=\"txtu cld\">r</span></span><span class=\"plain    \" ><span class=\"txtu cld\">ə</span></span><span class=\"plain    \" ><span class=\"txtu cld\">g </span></span></span></span></span></div> </div><div class=\"contnr c1 trm   \" ><div class=\"lbl c1 trm \"><span class=\"nd\">stress</span> <span class=\"txtu cld\"><span class=\"plain outer   \" ><span class=\"plain txtu cld \"></span><span class=\"plain    \" ><span class=\"plain txtu cld \"></span><span class=\"plain    \" ><span class=\"txtu cld\">h</span></span><span class=\"plain    \" ><span class=\"txtu cld\">á</span></span><span class=\"plain    \" ><span class=\"txtu cld\">w</span></span><span class=\"plain    \" ><span class=\"txtu cld\">a </span></span></span></span></span></div> </div><div class=\"contnr c1 trm   \" ><div class=\"lbl c1 trm \"><span class=\"nd\">stress</span> <span class=\"txtu cld\"><span class=\"plain outer   \" ><span class=\"plain txtu cld \"></span><span class=\"plain    \" ><span class=\"plain txtu cld \"></span><span class=\"plain    \" ><span class=\"txtu cld\">d</span></span><span class=\"plain    \" ><span class=\"txtu cld\">r</span></span><span class=\"plain    \" ><span class=\"txtu cld\">ə́</span></span><span class=\"plain    \" ><span class=\"txtu cld\">s</span></span><span class=\"plain    \" ><span class=\"txtu cld\">t.ˈ </span></span></span></span></span></div> </div></div></div></div></div></div></div></div></div></div>"
      ],
      "text/plain": [
       "<IPython.core.display.HTML object>"
      ]
     },
     "metadata": {},
     "output_type": "display_data"
    }
   ],
   "source": [
    "A.pretty(v)"
   ]
  },
  {
   "cell_type": "code",
   "execution_count": 6,
   "metadata": {},
   "outputs": [
    {
     "data": {
      "text/html": [
       "<span class=\"section ltr\"><a target=\"_blank\" href=\"0.02/Barwar/A Hundred Gold Coins.nena\" title=\"Show this title in the NENA repository\" sec=\"Barwar, A Hundred Gold Coins, Ln. 1\">Barwar, A Hundred Gold Coins, Ln. 1</a> </span><div class=\"contnr c3    \" ><div class=\"lbl c3  \"><span class=\"nd\">line</span> <span class=\"txtu cld\">1</span></div> <div class=\"children row wrap \"><div class=\"children row wrap \"><div class=\"contnr c2    r \" ><div class=\"lbl c2  \"><span class=\"nd\">sentence</span> </div> <div class=\"children row wrap \"><div class=\"contnr c2    \" ><div class=\"lbl c2  \"><span class=\"nd\">subsentence</span> </div> <div class=\"children row wrap \"><div class=\"contnr c1    \" ><div class=\"lbl c1  \"><span class=\"nd\">inton</span> </div> <div class=\"children row  \"><div class=\"contnr c1 trm   \" ><div class=\"lbl c1 trm \"><span class=\"nd\">stress</span> <span class=\"txtu cld\"><span class=\"plain outer   \" ><span class=\"plain txtu cld \"></span><span class=\"plain    \" ><span class=\"plain txtu cld \"></span><span class=\"plain    \" ><span class=\"txtu cld\">x</span></span><span class=\"plain    \" ><span class=\"txtu cld\">á-</span></span></span><span class=\"plain    \" ><span class=\"plain txtu cld \"></span><span class=\"plain    \" ><span class=\"txtu cld\">g</span></span><span class=\"plain    \" ><span class=\"txtu cld\">a </span></span></span></span></span></div> </div><div class=\"contnr c1 trm   \" ><div class=\"lbl c1 trm \"><span class=\"nd\">stress</span> <span class=\"txtu cld\"><span class=\"plain outer   \" ><span class=\"plain txtu cld \"></span><span class=\"plain    \" ><span class=\"plain txtu cld \"></span><span class=\"plain    \" ><span class=\"txtu cld\">x</span></span><span class=\"plain    \" ><span class=\"txtu cld\">è</span></span><span class=\"plain    \" ><span class=\"txtu cld\">t</span></span><span class=\"plain    \" ><span class=\"txtu cld\">a,ˈ </span></span></span></span></span></div> </div></div></div></div></div></div></div><div class=\"contnr c2    l r \" ><div class=\"lbl c2  \"><span class=\"nd\">sentence</span> </div> <div class=\"children row wrap \"><div class=\"contnr c2    \" ><div class=\"lbl c2  \"><span class=\"nd\">subsentence</span> </div> <div class=\"children row wrap \"><div class=\"contnr c1    \" ><div class=\"lbl c1  \"><span class=\"nd\">inton</span> </div> <div class=\"children row  \"><div class=\"contnr c1 trm   \" ><div class=\"lbl c1 trm \"><span class=\"nd\">stress</span> <span class=\"txtu cld\"><span class=\"plain outer   \" ><span class=\"plain txtu cld \"></span><span class=\"plain    \" ><span class=\"plain txtu cld \"></span><span class=\"plain    \" ><span class=\"txtu cld\">m</span></span><span class=\"plain    \" ><span class=\"txtu cld\">á</span></span><span class=\"plain    \" ><span class=\"txtu cld\">l</span></span><span class=\"plain    \" ><span class=\"txtu cld\">l</span></span><span class=\"plain    \" ><span class=\"txtu cld\">a</span></span><span class=\"plain    \" ><span class=\"txtu cld\">h </span></span></span></span></span></div> </div><div class=\"contnr c1 trm   \" ><div class=\"lbl c1 trm \"><span class=\"nd\">stress</span> <span class=\"txtu cld\"><span class=\"plain outer   \" ><span class=\"plain txtu cld \"></span><span class=\"plain    \" ><span class=\"plain txtu cld \"></span><span class=\"plain    \" ><span class=\"txtu cld\">N</span></span><span class=\"plain    \" ><span class=\"txtu cld\">a</span></span><span class=\"plain    \" ><span class=\"txtu cld\">ṣ</span></span><span class=\"plain    \" ><span class=\"txtu cld\">r</span></span><span class=\"plain    \" ><span class=\"txtu cld\">à</span></span><span class=\"plain    \" ><span class=\"txtu cld\">d</span></span><span class=\"plain    \" ><span class=\"txtu cld\">i</span></span><span class=\"plain    \" ><span class=\"txtu cld\">n,ˈ </span></span></span></span></span></div> </div></div></div></div></div></div></div><div class=\"contnr c2    l \" ><div class=\"lbl c2  \"><span class=\"nd\">sentence</span> </div> <div class=\"children row wrap \"><div class=\"contnr c2    \" ><div class=\"lbl c2  \"><span class=\"nd\">subsentence</span> </div> <div class=\"children row wrap \"><div class=\"contnr c1    \" ><div class=\"lbl c1  \"><span class=\"nd\">inton</span> </div> <div class=\"children row  \"><div class=\"contnr c1 trm   \" ><div class=\"lbl c1 trm \"><span class=\"nd\">stress</span> <span class=\"txtu cld\"><span class=\"plain outer   \" ><span class=\"plain txtu cld \"></span><span class=\"plain    \" ><span class=\"plain txtu cld \"></span><span class=\"plain    \" ><span class=\"txtu cld\">x</span></span><span class=\"plain    \" ><span class=\"txtu cld\">á</span></span><span class=\"plain    \" ><span class=\"txtu cld\">z</span></span><span class=\"plain    \" ><span class=\"txtu cld\">ə</span></span><span class=\"plain    \" ><span class=\"txtu cld\">x </span></span></span></span></span></div> </div><div class=\"contnr c1 trm   \" ><div class=\"lbl c1 trm \"><span class=\"nd\">stress</span> <span class=\"txtu cld\"><span class=\"plain outer   \" ><span class=\"plain txtu cld \"></span><span class=\"plain    \" ><span class=\"plain txtu cld \"></span><span class=\"plain    \" ><span class=\"txtu cld\">m</span></span><span class=\"plain    \" ><span class=\"txtu cld\">ò</span></span><span class=\"plain    \" ><span class=\"txtu cld\">d</span></span><span class=\"plain    \" ><span class=\"txtu cld\">i </span></span></span></span></span></div> </div><div class=\"contnr c1 trm   \" ><div class=\"lbl c1 trm \"><span class=\"nd\">stress</span> <span class=\"txtu cld\"><span class=\"plain outer   \" ><span class=\"plain txtu cld \"></span><span class=\"plain    \" ><span class=\"plain txtu cld \"></span><span class=\"plain    \" ><span class=\"txtu cld\">w</span></span><span class=\"plain    \" ><span class=\"txtu cld\">í</span></span><span class=\"plain    \" ><span class=\"txtu cld\">ð</span></span><span class=\"plain    \" ><span class=\"txtu cld\">a.ˈ </span></span></span></span></span></div> </div></div></div></div></div></div></div></div><div class=\"children row wrap \"><div class=\"contnr c2    r \" ><div class=\"lbl c2  \"><span class=\"nd\">sentence</span> </div> <div class=\"children row wrap \"><div class=\"contnr c2    \" ><div class=\"lbl c2  \"><span class=\"nd\">subsentence</span> </div> <div class=\"children row wrap \"><div class=\"contnr c1    \" ><div class=\"lbl c1  \"><span class=\"nd\">inton</span> </div> <div class=\"children row  \"><div class=\"contnr c1 trm   \" ><div class=\"lbl c1 trm \"><span class=\"nd\">stress</span> <span class=\"txtu cld\"><span class=\"plain outer   \" ><span class=\"plain txtu cld \"></span><span class=\"plain    \" ><span class=\"plain txtu cld \"></span><span class=\"plain    \" ><span class=\"txtu cld\">g</span></span><span class=\"plain    \" ><span class=\"txtu cld\">u-</span></span></span><span class=\"plain    \" ><span class=\"plain txtu cld \"></span><span class=\"plain    \" ><span class=\"txtu cld\">b</span></span><span class=\"plain    \" ><span class=\"txtu cld\">ɛ̀</span></span><span class=\"plain    \" ><span class=\"txtu cld\">θ</span></span><span class=\"plain    \" ><span class=\"txtu cld\">a </span></span></span></span></span></div> </div><div class=\"contnr c1 trm   \" ><div class=\"lbl c1 trm \"><span class=\"nd\">stress</span> <span class=\"txtu cld\"><span class=\"plain outer   \" ><span class=\"plain txtu cld \"></span><span class=\"plain    \" ><span class=\"plain txtu cld \"></span><span class=\"plain    \" ><span class=\"txtu cld\">w</span></span><span class=\"plain    \" ><span class=\"txtu cld\">é</span></span><span class=\"plain    \" ><span class=\"txtu cld\">w</span></span><span class=\"plain    \" ><span class=\"txtu cld\">a,ˈ </span></span></span></span></span></div> </div></div></div></div></div></div></div><div class=\"contnr c2    l \" ><div class=\"lbl c2  \"><span class=\"nd\">sentence</span> </div> <div class=\"children row wrap \"><div class=\"contnr c2    \" ><div class=\"lbl c2  \"><span class=\"nd\">subsentence</span> </div> <div class=\"children row wrap \"><div class=\"contnr c1    \" ><div class=\"lbl c1  \"><span class=\"nd\">inton</span> </div> <div class=\"children row  \"><div class=\"contnr c1 trm   \" ><div class=\"lbl c1 trm \"><span class=\"nd\">stress</span> <span class=\"txtu cld\"><span class=\"plain outer   \" ><span class=\"plain txtu cld \"></span><span class=\"plain    \" ><span class=\"plain txtu cld \"></span><span class=\"plain    \" ><span class=\"txtu cld\">h</span></span><span class=\"plain    \" ><span class=\"txtu cld\">a</span></span><span class=\"plain    \" ><span class=\"txtu cld\">r-</span></span></span><span class=\"plain    \" ><span class=\"plain txtu cld \"></span><span class=\"plain    \" ><span class=\"txtu cld\">z</span></span><span class=\"plain    \" ><span class=\"txtu cld\">á</span></span><span class=\"plain    \" ><span class=\"txtu cld\">l</span></span><span class=\"plain    \" ><span class=\"txtu cld\">a-</span></span></span><span class=\"plain    \" ><span class=\"plain txtu cld \"></span><span class=\"plain    \" ><span class=\"txtu cld\">w </span></span></span></span></span></div> </div><div class=\"contnr c1 trm   \" ><div class=\"lbl c1 trm \"><span class=\"nd\">stress</span> <span class=\"txtu cld\"><span class=\"plain outer   \" ><span class=\"plain txtu cld \"></span><span class=\"plain    \" ><span class=\"plain txtu cld \"></span><span class=\"plain    \" ><span class=\"txtu cld\">θ</span></span><span class=\"plain    \" ><span class=\"txtu cld\">à</span></span><span class=\"plain    \" ><span class=\"txtu cld\">y</span></span><span class=\"plain    \" ><span class=\"txtu cld\">a.ˈ </span></span></span></span></span></div> </div></div></div></div></div></div></div></div><div class=\"children row wrap \"><div class=\"contnr c2    r \" ><div class=\"lbl c2  \"><span class=\"nd\">sentence</span> </div> <div class=\"children row wrap \"><div class=\"contnr c2    \" ><div class=\"lbl c2  \"><span class=\"nd\">subsentence</span> </div> <div class=\"children row wrap \"><div class=\"contnr c1    \" ><div class=\"lbl c1  \"><span class=\"nd\">inton</span> </div> <div class=\"children row  \"><div class=\"contnr c1 trm   \" ><div class=\"lbl c1 trm \"><span class=\"nd\">stress</span> <span class=\"txtu cld\"><span class=\"plain outer   \" ><span class=\"plain txtu cld \"></span><span class=\"plain    \" ><span class=\"plain txtu cld \"></span><span class=\"plain    \" ><span class=\"txtu cld\">z</span></span><span class=\"plain    \" ><span class=\"txtu cld\">á</span></span><span class=\"plain    \" ><span class=\"txtu cld\">l</span></span><span class=\"plain    \" ><span class=\"txtu cld\">a-</span></span></span><span class=\"plain    \" ><span class=\"plain txtu cld \"></span><span class=\"plain    \" ><span class=\"txtu cld\">w </span></span></span></span></span></div> </div><div class=\"contnr c1 trm   \" ><div class=\"lbl c1 trm \"><span class=\"nd\">stress</span> <span class=\"txtu cld\"><span class=\"plain outer   \" ><span class=\"plain txtu cld \"></span><span class=\"plain    \" ><span class=\"plain txtu cld \"></span><span class=\"plain    \" ><span class=\"txtu cld\">θ</span></span><span class=\"plain    \" ><span class=\"txtu cld\">à</span></span><span class=\"plain    \" ><span class=\"txtu cld\">y</span></span><span class=\"plain    \" ><span class=\"txtu cld\">a,ˈ </span></span></span></span></span></div> </div></div></div></div></div></div></div><div class=\"contnr c2    l r \" ><div class=\"lbl c2  \"><span class=\"nd\">sentence</span> </div> <div class=\"children row wrap \"><div class=\"contnr c2    \" ><div class=\"lbl c2  \"><span class=\"nd\">subsentence</span> </div> <div class=\"children row wrap \"><div class=\"contnr c1    \" ><div class=\"lbl c1  \"><span class=\"nd\">inton</span> </div> <div class=\"children row  \"><div class=\"contnr c1 trm   \" ><div class=\"lbl c1 trm \"><span class=\"nd\">stress</span> <span class=\"txtu cld\"><span class=\"plain outer   \" ><span class=\"plain txtu cld \"></span><span class=\"plain    \" ><span class=\"plain txtu cld \"></span><span class=\"plain    \" ><span class=\"txtu cld\">m</span></span><span class=\"plain    \" ><span class=\"txtu cld\">á</span></span><span class=\"plain    \" ><span class=\"txtu cld\">r</span></span><span class=\"plain    \" ><span class=\"txtu cld\">a </span></span></span></span></span></div> </div><div class=\"contnr c1 trm   \" ><div class=\"lbl c1 trm \"><span class=\"nd\">stress</span> <span class=\"txtu cld\"><span class=\"plain outer   \" ><span class=\"plain txtu cld \"></span><span class=\"plain    \" ><span class=\"plain txtu cld \"></span><span class=\"plain    \" ><span class=\"txtu cld\">y</span></span><span class=\"plain    \" ><span class=\"txtu cld\">a-</span></span></span><span class=\"plain    \" ><span class=\"plain txtu cld \"></span><span class=\"plain    \" ><span class=\"txtu cld\">ʾ</span></span><span class=\"plain    \" ><span class=\"txtu cld\">à</span></span><span class=\"plain    \" ><span class=\"txtu cld\">l</span></span><span class=\"plain    \" ><span class=\"txtu cld\">a</span></span><span class=\"plain    \" ><span class=\"txtu cld\">h</span></span><span class=\"plain    \" ><span class=\"txtu cld\">a,ˈ </span></span></span></span></span></div> </div></div></div></div></div></div></div><div class=\"contnr c2    l \" ><div class=\"lbl c2  \"><span class=\"nd\">sentence</span> </div> <div class=\"children row wrap \"><div class=\"contnr c2    \" ><div class=\"lbl c2  \"><span class=\"nd\">subsentence</span> </div> <div class=\"children row wrap \"><div class=\"contnr c1    \" ><div class=\"lbl c1  \"><span class=\"nd\">inton</span> </div> <div class=\"children row  \"><div class=\"contnr c1 trm   \" ><div class=\"lbl c1 trm \"><span class=\"nd\">stress</span> <span class=\"txtu cld\"><span class=\"plain outer   \" ><span class=\"plain txtu cld \"></span><span class=\"plain    \" ><span class=\"plain txtu cld \"></span><span class=\"plain    \" ><span class=\"txtu cld\">y</span></span><span class=\"plain    \" ><span class=\"txtu cld\">a</span></span><span class=\"plain    \" ><span class=\"txtu cld\">w</span></span><span class=\"plain    \" ><span class=\"txtu cld\">ə̀</span></span><span class=\"plain    \" ><span class=\"txtu cld\">t</span></span><span class=\"plain    \" ><span class=\"txtu cld\">l</span></span><span class=\"plain    \" ><span class=\"txtu cld\">iˈ </span></span></span></span></span></div> </div></div></div><div class=\"contnr c1    \" ><div class=\"lbl c1  \"><span class=\"nd\">inton</span> </div> <div class=\"children row  \"><div class=\"contnr c1 trm   \" ><div class=\"lbl c1 trm \"><span class=\"nd\">stress</span> <span class=\"txtu cld\"><span class=\"plain outer   \" ><span class=\"plain txtu cld \"></span><span class=\"plain    \" ><span class=\"plain txtu cld \"></span><span class=\"plain    \" ><span class=\"txtu cld\">ʾ</span></span><span class=\"plain    \" ><span class=\"txtu cld\">ə́</span></span><span class=\"plain    \" ><span class=\"txtu cld\">m</span></span><span class=\"plain    \" ><span class=\"txtu cld\">m</span></span><span class=\"plain    \" ><span class=\"txtu cld\">a </span></span></span></span></span></div> </div><div class=\"contnr c1 trm   \" ><div class=\"lbl c1 trm \"><span class=\"nd\">stress</span> <span class=\"txtu cld\"><span class=\"plain outer   \" ><span class=\"plain txtu cld \"></span><span class=\"plain    \" ><span class=\"plain txtu cld \"></span><span class=\"plain    \" ><span class=\"txtu cld\">d</span></span><span class=\"plain    \" ><span class=\"txtu cld\">à</span></span><span class=\"plain    \" ><span class=\"txtu cld\">w</span></span><span class=\"plain    \" ><span class=\"txtu cld\">e.ˈ </span></span></span></span></span></div> </div></div></div></div></div></div></div></div><div class=\"children row wrap \"><div class=\"contnr c2    \" ><div class=\"lbl c2  \"><span class=\"nd\">sentence</span> </div> <div class=\"children row wrap \"><div class=\"contnr c2    \" ><div class=\"lbl c2  \"><span class=\"nd\">subsentence</span> </div> <div class=\"children row wrap \"><div class=\"contnr c1    \" ><div class=\"lbl c1  \"><span class=\"nd\">inton</span> </div> <div class=\"children row  \"><div class=\"contnr c1 trm   \" ><div class=\"lbl c1 trm \"><span class=\"nd\">stress</span> <span class=\"txtu cld\"><span class=\"plain outer   \" ><span class=\"plain txtu cld \"></span><span class=\"plain    \" ><span class=\"plain txtu cld \"></span><span class=\"plain    \" ><span class=\"txtu cld\">ʾ</span></span><span class=\"plain    \" ><span class=\"txtu cld\">ə</span></span><span class=\"plain    \" ><span class=\"txtu cld\">n-</span></span></span><span class=\"plain    \" ><span class=\"plain txtu cld \"></span><span class=\"plain    \" ><span class=\"txtu cld\">h</span></span><span class=\"plain    \" ><span class=\"txtu cld\">à</span></span><span class=\"plain    \" ><span class=\"txtu cld\">w</span></span><span class=\"plain    \" ><span class=\"txtu cld\">aˈ </span></span></span></span></span></div> </div></div></div><div class=\"contnr c1    \" ><div class=\"lbl c1  \"><span class=\"nd\">inton</span> </div> <div class=\"children row  \"><div class=\"contnr c1 trm   \" ><div class=\"lbl c1 trm \"><span class=\"nd\">stress</span> <span class=\"txtu cld\"><span class=\"plain outer   \" ><span class=\"plain txtu cld \"></span><span class=\"plain    \" ><span class=\"plain txtu cld \"></span><span class=\"plain    \" ><span class=\"txtu cld\">ʾ</span></span><span class=\"plain    \" ><span class=\"txtu cld\">ə́</span></span><span class=\"plain    \" ><span class=\"txtu cld\">č̣</span></span><span class=\"plain    \" ><span class=\"txtu cld\">č̣</span></span><span class=\"plain    \" ><span class=\"txtu cld\">i-</span></span></span><span class=\"plain    \" ><span class=\"plain txtu cld \"></span><span class=\"plain    \" ><span class=\"txtu cld\">u </span></span></span></span></span></div> </div><div class=\"contnr c1 trm   \" ><div class=\"lbl c1 trm \"><span class=\"nd\">stress</span> <span class=\"txtu cld\"><span class=\"plain outer   \" ><span class=\"plain txtu cld \"></span><span class=\"plain    \" ><span class=\"plain txtu cld \"></span><span class=\"plain    \" ><span class=\"txtu cld\">ʾ</span></span><span class=\"plain    \" ><span class=\"txtu cld\">ə́</span></span><span class=\"plain    \" ><span class=\"txtu cld\">č̣</span></span><span class=\"plain    \" ><span class=\"txtu cld\">č̣</span></span><span class=\"plain    \" ><span class=\"txtu cld\">a </span></span></span></span></span></div> </div><div class=\"contnr c1 trm   \" ><div class=\"lbl c1 trm \"><span class=\"nd\">stress</span> <span class=\"txtu cld\"><span class=\"plain outer   \" ><span class=\"plain txtu cld \"></span><span class=\"plain    \" ><span class=\"plain txtu cld \"></span><span class=\"plain    \" ><span class=\"txtu cld\">m</span></span><span class=\"plain    \" ><span class=\"txtu cld\">a</span></span><span class=\"plain    \" ><span class=\"txtu cld\">q</span></span><span class=\"plain    \" ><span class=\"txtu cld\">ə</span></span><span class=\"plain    \" ><span class=\"txtu cld\">l</span></span><span class=\"plain    \" ><span class=\"txtu cld\">b</span></span><span class=\"plain    \" ><span class=\"txtu cld\">ə̀</span></span><span class=\"plain    \" ><span class=\"txtu cld\">n</span></span><span class=\"plain    \" ><span class=\"txtu cld\">n</span></span><span class=\"plain    \" ><span class=\"txtu cld\">a.ˈ </span></span></span></span></span></div> </div></div></div></div></div></div></div></div><div class=\"children row wrap \"><div class=\"contnr c2    r \" ><div class=\"lbl c2  \"><span class=\"nd\">sentence</span> </div> <div class=\"children row wrap \"><div class=\"contnr c2    \" ><div class=\"lbl c2  \"><span class=\"nd\">subsentence</span> </div> <div class=\"children row wrap \"><div class=\"contnr c1    \" ><div class=\"lbl c1  \"><span class=\"nd\">inton</span> </div> <div class=\"children row  \"><div class=\"contnr c1 trm   \" ><div class=\"lbl c1 trm \"><span class=\"nd\">stress</span> <span class=\"txtu cld\"><span class=\"plain outer   \" ><span class=\"plain txtu cld \"></span><span class=\"plain    \" ><span class=\"plain txtu cld \"></span><span class=\"plain    \" ><span class=\"txtu cld\">ʾ</span></span><span class=\"plain    \" ><span class=\"txtu cld\">u-</span></span></span><span class=\"plain    \" ><span class=\"plain txtu cld \"></span><span class=\"plain    \" ><span class=\"txtu cld\">ʾ</span></span><span class=\"plain    \" ><span class=\"txtu cld\">ə</span></span><span class=\"plain    \" ><span class=\"txtu cld\">n-</span></span></span><span class=\"plain    \" ><span class=\"plain txtu cld \"></span><span class=\"plain    \" ><span class=\"txtu cld\">h</span></span><span class=\"plain    \" ><span class=\"txtu cld\">à</span></span><span class=\"plain    \" ><span class=\"txtu cld\">w</span></span><span class=\"plain    \" ><span class=\"txtu cld\">aˈ </span></span></span></span></span></div> </div></div></div><div class=\"contnr c1    \" ><div class=\"lbl c1  \"><span class=\"nd\">inton</span> </div> <div class=\"children row  \"><div class=\"contnr c1 trm   \" ><div class=\"lbl c1 trm \"><span class=\"nd\">stress</span> <span class=\"txtu cld\"><span class=\"plain outer   \" ><span class=\"plain txtu cld \"></span><span class=\"plain    \" ><span class=\"plain txtu cld \"></span><span class=\"plain    \" ><span class=\"txtu cld\">ʾ</span></span><span class=\"plain    \" ><span class=\"txtu cld\">ə́</span></span><span class=\"plain    \" ><span class=\"txtu cld\">m</span></span><span class=\"plain    \" ><span class=\"txtu cld\">m</span></span><span class=\"plain    \" ><span class=\"txtu cld\">a-</span></span></span><span class=\"plain    \" ><span class=\"plain txtu cld \"></span><span class=\"plain    \" ><span class=\"txtu cld\">w-</span></span></span><span class=\"plain    \" ><span class=\"plain txtu cld \"></span><span class=\"plain    \" ><span class=\"txtu cld\">x</span></span><span class=\"plain    \" ><span class=\"txtu cld\">à-</span></span></span><span class=\"plain    \" ><span class=\"plain txtu cld \"></span><span class=\"plain    \" ><span class=\"txtu cld\">ž</span></span><span class=\"plain    \" ><span class=\"txtu cld\">i,ˈ </span></span></span></span></span></div> </div></div></div></div></div></div></div><div class=\"contnr c2    l \" ><div class=\"lbl c2  \"><span class=\"nd\">sentence</span> </div> <div class=\"children row wrap \"><div class=\"contnr c2    \" ><div class=\"lbl c2  \"><span class=\"nd\">subsentence</span> </div> <div class=\"children row wrap \"><div class=\"contnr c1    \" ><div class=\"lbl c1  \"><span class=\"nd\">inton</span> </div> <div class=\"children row  \"><div class=\"contnr c1 trm   \" ><div class=\"lbl c1 trm \"><span class=\"nd\">stress</span> <span class=\"txtu cld\"><span class=\"plain outer   \" ><span class=\"plain txtu cld \"></span><span class=\"plain    \" ><span class=\"plain txtu cld \"></span><span class=\"plain    \" ><span class=\"txtu cld\">l</span></span><span class=\"plain    \" ><span class=\"txtu cld\">a-</span></span></span><span class=\"plain    \" ><span class=\"plain txtu cld \"></span><span class=\"plain    \" ><span class=\"txtu cld\">b</span></span><span class=\"plain    \" ><span class=\"txtu cld\">ă</span></span><span class=\"plain    \" ><span class=\"txtu cld\">y</span></span><span class=\"plain    \" ><span class=\"txtu cld\">ə̀</span></span><span class=\"plain    \" ><span class=\"txtu cld\">n</span></span><span class=\"plain    \" ><span class=\"txtu cld\">n</span></span><span class=\"plain    \" ><span class=\"txtu cld\">a.ˈ </span></span></span></span></span></div> </div></div></div></div></div></div></div></div><div class=\"children row wrap \"><div class=\"contnr c2    \" ><div class=\"lbl c2  \"><span class=\"nd\">sentence</span> </div> <div class=\"children row wrap \"><div class=\"contnr c2    \" ><div class=\"lbl c2  \"><span class=\"nd\">subsentence</span> </div> <div class=\"children row wrap \"><div class=\"contnr c1    \" ><div class=\"lbl c1  \"><span class=\"nd\">inton</span> </div> <div class=\"children row  \"><div class=\"contnr c1 trm   \" ><div class=\"lbl c1 trm \"><span class=\"nd\">stress</span> <span class=\"txtu cld\"><span class=\"plain outer   \" ><span class=\"plain txtu cld \"></span><span class=\"plain    \" ><span class=\"plain txtu cld \"></span><span class=\"plain    \" ><span class=\"txtu cld\">d</span></span><span class=\"plain    \" ><span class=\"txtu cld\">e-</span></span></span><span class=\"plain    \" ><span class=\"plain txtu cld \"></span><span class=\"plain    \" ><span class=\"txtu cld\">š</span></span><span class=\"plain    \" ><span class=\"txtu cld\">ù</span></span><span class=\"plain    \" ><span class=\"txtu cld\">q</span></span><span class=\"plain    \" ><span class=\"txtu cld\">l</span></span><span class=\"plain    \" ><span class=\"txtu cld\">a.ˈ </span></span></span></span></span></div> </div></div></div></div></div></div></div></div><div class=\"children row wrap \"><div class=\"contnr c2    \" ><div class=\"lbl c2  \"><span class=\"nd\">sentence</span> </div> <div class=\"children row wrap \"><div class=\"contnr c2    \" ><div class=\"lbl c2  \"><span class=\"nd\">subsentence</span> </div> <div class=\"children row wrap \"><div class=\"contnr c1    \" ><div class=\"lbl c1  \"><span class=\"nd\">inton</span> </div> <div class=\"children row  \"><div class=\"contnr c1 trm   \" ><div class=\"lbl c1 trm \"><span class=\"nd\">stress</span> <span class=\"txtu cld\"><span class=\"plain outer   \" ><span class=\"plain txtu cld \"></span><span class=\"plain    \" ><span class=\"plain txtu cld \"></span><span class=\"plain    \" ><span class=\"txtu cld\">ʾ</span></span><span class=\"plain    \" ><span class=\"txtu cld\">ə̀</span></span><span class=\"plain    \" ><span class=\"txtu cld\">m</span></span><span class=\"plain    \" ><span class=\"txtu cld\">m</span></span><span class=\"plain    \" ><span class=\"txtu cld\">a </span></span></span></span></span></div> </div><div class=\"contnr c1 trm   \" ><div class=\"lbl c1 trm \"><span class=\"nd\">stress</span> <span class=\"txtu cld\"><span class=\"plain outer   \" ><span class=\"plain txtu cld \"></span><span class=\"plain    \" ><span class=\"plain txtu cld \"></span><span class=\"plain    \" ><span class=\"txtu cld\">g</span></span><span class=\"plain    \" ><span class=\"txtu cld\">ắ</span></span><span class=\"plain    \" ><span class=\"txtu cld\">r</span></span><span class=\"plain    \" ><span class=\"txtu cld\">ə</span></span><span class=\"plain    \" ><span class=\"txtu cld\">g </span></span></span></span></span></div> </div><div class=\"contnr c1 trm   \" ><div class=\"lbl c1 trm \"><span class=\"nd\">stress</span> <span class=\"txtu cld\"><span class=\"plain outer   \" ><span class=\"plain txtu cld \"></span><span class=\"plain    \" ><span class=\"plain txtu cld \"></span><span class=\"plain    \" ><span class=\"txtu cld\">h</span></span><span class=\"plain    \" ><span class=\"txtu cld\">á</span></span><span class=\"plain    \" ><span class=\"txtu cld\">w</span></span><span class=\"plain    \" ><span class=\"txtu cld\">a </span></span></span></span></span></div> </div><div class=\"contnr c1 trm   \" ><div class=\"lbl c1 trm \"><span class=\"nd\">stress</span> <span class=\"txtu cld\"><span class=\"plain outer   \" ><span class=\"plain txtu cld \"></span><span class=\"plain    \" ><span class=\"plain txtu cld \"></span><span class=\"plain    \" ><span class=\"txtu cld\">d</span></span><span class=\"plain    \" ><span class=\"txtu cld\">r</span></span><span class=\"plain    \" ><span class=\"txtu cld\">ə́</span></span><span class=\"plain    \" ><span class=\"txtu cld\">s</span></span><span class=\"plain    \" ><span class=\"txtu cld\">t.ˈ </span></span></span></span></span></div> </div></div></div></div></div></div></div></div></div></div>"
      ],
      "text/plain": [
       "<IPython.core.display.HTML object>"
      ]
     },
     "metadata": {},
     "output_type": "display_data"
    }
   ],
   "source": [
    "A.pretty(v, showChunks=True)"
   ]
  },
  {
   "cell_type": "code",
   "execution_count": 7,
   "metadata": {},
   "outputs": [],
   "source": [
    "s = F.otype.s('sentence')[1]"
   ]
  },
  {
   "cell_type": "code",
   "execution_count": 8,
   "metadata": {},
   "outputs": [
    {
     "data": {
      "text/html": [
       "<span class=\"section ltr\"><a target=\"_blank\" href=\"0.02/Barwar/A Hundred Gold Coins.nena\" title=\"Show this title in the NENA repository\" sec=\"Barwar, A Hundred Gold Coins, Ln. 1\">Barwar, A Hundred Gold Coins, Ln. 1</a> </span><div class=\"children row wrap \"><div class=\"contnr c2    r \" ><div class=\"lbl c2  \"><span class=\"nd\">sentence</span> </div> <div class=\"children row wrap \"><div class=\"contnr cnul trm   \" ><div class=\"children row wrap \"><div class=\"contnr c1    \" ><div class=\"lbl c1  \"><span class=\"nd\">inton</span> </div> <div class=\"children row  \"><div class=\"contnr c1 trm   \" ><div class=\"lbl c1 trm \"><span class=\"nd\">stress</span> <span class=\"txtu cld\"><span class=\"plain outer   \" ><span class=\"plain txtu cld \"></span><span class=\"plain    \" ><span class=\"plain txtu cld \"></span><span class=\"plain    \" ><span class=\"txtu cld\">g</span></span><span class=\"plain    \" ><span class=\"txtu cld\">u-</span></span></span><span class=\"plain    \" ><span class=\"plain txtu cld \"></span><span class=\"plain    \" ><span class=\"txtu cld\">b</span></span><span class=\"plain    \" ><span class=\"txtu cld\">ɛ̀</span></span><span class=\"plain    \" ><span class=\"txtu cld\">θ</span></span><span class=\"plain    \" ><span class=\"txtu cld\">a </span></span></span></span></span></div> </div><div class=\"contnr c1 trm   \" ><div class=\"lbl c1 trm \"><span class=\"nd\">stress</span> <span class=\"txtu cld\"><span class=\"plain outer   \" ><span class=\"plain txtu cld \"></span><span class=\"plain    \" ><span class=\"plain txtu cld \"></span><span class=\"plain    \" ><span class=\"txtu cld\">w</span></span><span class=\"plain    \" ><span class=\"txtu cld\">é</span></span><span class=\"plain    \" ><span class=\"txtu cld\">w</span></span><span class=\"plain    \" ><span class=\"txtu cld\">a,ˈ </span></span></span></span></span></div> </div></div></div></div></div></div></div><div class=\"contnr c2    l \" ><div class=\"lbl c2  \"><span class=\"nd\">sentence</span> </div> <div class=\"children row wrap \"><div class=\"contnr cnul trm   \" ><div class=\"children row wrap \"><div class=\"contnr c1    \" ><div class=\"lbl c1  \"><span class=\"nd\">inton</span> </div> <div class=\"children row  \"><div class=\"contnr c1 trm   \" ><div class=\"lbl c1 trm \"><span class=\"nd\">stress</span> <span class=\"txtu cld\"><span class=\"plain outer   \" ><span class=\"plain txtu cld \"></span><span class=\"plain    \" ><span class=\"plain txtu cld \"></span><span class=\"plain    \" ><span class=\"txtu cld\">h</span></span><span class=\"plain    \" ><span class=\"txtu cld\">a</span></span><span class=\"plain    \" ><span class=\"txtu cld\">r-</span></span></span><span class=\"plain    \" ><span class=\"plain txtu cld \"></span><span class=\"plain    \" ><span class=\"txtu cld\">z</span></span><span class=\"plain    \" ><span class=\"txtu cld\">á</span></span><span class=\"plain    \" ><span class=\"txtu cld\">l</span></span><span class=\"plain    \" ><span class=\"txtu cld\">a-</span></span></span><span class=\"plain    \" ><span class=\"plain txtu cld \"></span><span class=\"plain    \" ><span class=\"txtu cld\">w </span></span></span></span></span></div> </div><div class=\"contnr c1 trm   \" ><div class=\"lbl c1 trm \"><span class=\"nd\">stress</span> <span class=\"txtu cld\"><span class=\"plain outer   \" ><span class=\"plain txtu cld \"></span><span class=\"plain    \" ><span class=\"plain txtu cld \"></span><span class=\"plain    \" ><span class=\"txtu cld\">θ</span></span><span class=\"plain    \" ><span class=\"txtu cld\">à</span></span><span class=\"plain    \" ><span class=\"txtu cld\">y</span></span><span class=\"plain    \" ><span class=\"txtu cld\">a.ˈ </span></span></span></span></span></div> </div></div></div></div></div></div></div></div>"
      ],
      "text/plain": [
       "<IPython.core.display.HTML object>"
      ]
     },
     "metadata": {},
     "output_type": "display_data"
    }
   ],
   "source": [
    "A.pretty(s)"
   ]
  },
  {
   "cell_type": "code",
   "execution_count": 9,
   "metadata": {},
   "outputs": [
    {
     "data": {
      "text/html": [
       "<span class=\"section ltr\"><a target=\"_blank\" href=\"0.02/Barwar/A Hundred Gold Coins.nena\" title=\"Show this title in the NENA repository\" sec=\"Barwar, A Hundred Gold Coins, Ln. 1\">Barwar, A Hundred Gold Coins, Ln. 1</a> </span><div class=\"children row wrap \"><div class=\"contnr c2    r \" ><div class=\"lbl c2  \"><span class=\"nd\">sentence</span> </div> <div class=\"children row wrap \"><div class=\"contnr cnul trm   \" ><div class=\"children row wrap \"><div class=\"contnr c1    \" ><div class=\"lbl c1  \"><span class=\"nd\">inton</span> </div> <div class=\"children row  \"><div class=\"contnr c1    \" ><div class=\"lbl c1  \"><span class=\"nd\">stress</span> </div> <div class=\"children row  \"><div class=\"contnr c1 trm   \" ><div class=\"lbl c1 trm \"><span class=\"nd\">word</span> <span class=\"txtu cld\"><span class=\"plain outer   \" ><span class=\"plain txtu cld \"></span><span class=\"plain    \" ><span class=\"txtu cld\">g</span></span><span class=\"plain    \" ><span class=\"txtu cld\">u-</span></span></span></span></div> </div><div class=\"contnr c1 trm   \" ><div class=\"lbl c1 trm \"><span class=\"nd\">word</span> <span class=\"txtu cld\"><span class=\"plain outer   \" ><span class=\"plain txtu cld \"></span><span class=\"plain    \" ><span class=\"txtu cld\">b</span></span><span class=\"plain    \" ><span class=\"txtu cld\">ɛ̀</span></span><span class=\"plain    \" ><span class=\"txtu cld\">θ</span></span><span class=\"plain    \" ><span class=\"txtu cld\">a </span></span></span></span></div> </div></div></div><div class=\"contnr c1    \" ><div class=\"lbl c1  \"><span class=\"nd\">stress</span> </div> <div class=\"children row  \"><div class=\"contnr c1 trm   \" ><div class=\"lbl c1 trm \"><span class=\"nd\">word</span> <span class=\"txtu cld\"><span class=\"plain outer   \" ><span class=\"plain txtu cld \"></span><span class=\"plain    \" ><span class=\"txtu cld\">w</span></span><span class=\"plain    \" ><span class=\"txtu cld\">é</span></span><span class=\"plain    \" ><span class=\"txtu cld\">w</span></span><span class=\"plain    \" ><span class=\"txtu cld\">a,ˈ </span></span></span></span></div> </div></div></div></div></div></div></div></div></div><div class=\"contnr c2    l \" ><div class=\"lbl c2  \"><span class=\"nd\">sentence</span> </div> <div class=\"children row wrap \"><div class=\"contnr cnul trm   \" ><div class=\"children row wrap \"><div class=\"contnr c1    \" ><div class=\"lbl c1  \"><span class=\"nd\">inton</span> </div> <div class=\"children row  \"><div class=\"contnr c1    \" ><div class=\"lbl c1  \"><span class=\"nd\">stress</span> </div> <div class=\"children row  \"><div class=\"contnr c1 trm   \" ><div class=\"lbl c1 trm \"><span class=\"nd\">word</span> <span class=\"txtu cld\"><span class=\"plain outer   \" ><span class=\"plain txtu cld \"></span><span class=\"plain    \" ><span class=\"txtu cld\">h</span></span><span class=\"plain    \" ><span class=\"txtu cld\">a</span></span><span class=\"plain    \" ><span class=\"txtu cld\">r-</span></span></span></span></div> </div><div class=\"contnr c1 trm   \" ><div class=\"lbl c1 trm \"><span class=\"nd\">word</span> <span class=\"txtu cld\"><span class=\"plain outer   \" ><span class=\"plain txtu cld \"></span><span class=\"plain    \" ><span class=\"txtu cld\">z</span></span><span class=\"plain    \" ><span class=\"txtu cld\">á</span></span><span class=\"plain    \" ><span class=\"txtu cld\">l</span></span><span class=\"plain    \" ><span class=\"txtu cld\">a-</span></span></span></span></div> </div><div class=\"contnr c1 trm   \" ><div class=\"lbl c1 trm \"><span class=\"nd\">word</span> <span class=\"txtu cld\"><span class=\"plain outer   \" ><span class=\"plain txtu cld \"></span><span class=\"plain    \" ><span class=\"txtu cld\">w </span></span></span></span></div> </div></div></div><div class=\"contnr c1    \" ><div class=\"lbl c1  \"><span class=\"nd\">stress</span> </div> <div class=\"children row  \"><div class=\"contnr c1 trm   \" ><div class=\"lbl c1 trm \"><span class=\"nd\">word</span> <span class=\"txtu cld\"><span class=\"plain outer   \" ><span class=\"plain txtu cld \"></span><span class=\"plain    \" ><span class=\"txtu cld\">θ</span></span><span class=\"plain    \" ><span class=\"txtu cld\">à</span></span><span class=\"plain    \" ><span class=\"txtu cld\">y</span></span><span class=\"plain    \" ><span class=\"txtu cld\">a.ˈ </span></span></span></span></div> </div></div></div></div></div></div></div></div></div></div>"
      ],
      "text/plain": [
       "<IPython.core.display.HTML object>"
      ]
     },
     "metadata": {},
     "output_type": "display_data"
    }
   ],
   "source": [
    "A.pretty(s, baseTypes={'word'})"
   ]
  },
  {
   "cell_type": "code",
   "execution_count": 10,
   "metadata": {},
   "outputs": [
    {
     "data": {
      "text/html": [
       "<span class=\"section ltr\"><a target=\"_blank\" href=\"0.02/Barwar/A Hundred Gold Coins.nena\" title=\"Show this title in the NENA repository\" sec=\"Barwar, A Hundred Gold Coins, Ln. 1\">Barwar, A Hundred Gold Coins, Ln. 1</a> </span><div class=\"children row wrap \"><div class=\"contnr c2    r \" ><div class=\"lbl c2  \"><span class=\"nd\">sentence</span> </div> <div class=\"children row wrap \"><div class=\"contnr cnul trm   \" ><div class=\"children row wrap \"><div class=\"contnr c1    \" ><div class=\"lbl c1  \"><span class=\"nd\">inton</span> </div> <div class=\"children row  \"><div class=\"contnr c1    \" ><div class=\"lbl c1  \"><span class=\"nd\">stress</span> </div> <div class=\"children row  \"><div class=\"contnr c1    \" ><div class=\"lbl c1  \"><span class=\"nd\">word</span> </div> <div class=\"children row  \"><div class=\"contnr c0 trm   \" ><div class=\"lbl c0 trm \"> <span class=\"txtu cld\">g</span></div> </div><div class=\"contnr c0 trm   \" ><div class=\"lbl c0 trm \"> <span class=\"txtu cld\">u-</span></div> </div></div></div><div class=\"contnr c1    \" ><div class=\"lbl c1  \"><span class=\"nd\">word</span> </div> <div class=\"children row  \"><div class=\"contnr c0 trm   \" ><div class=\"lbl c0 trm \"> <span class=\"txtu cld\">b</span></div> </div><div class=\"contnr c0 trm   \" ><div class=\"lbl c0 trm \"> <span class=\"txtu cld\">ɛ̀</span></div> </div><div class=\"contnr c0 trm   \" ><div class=\"lbl c0 trm \"> <span class=\"txtu cld\">θ</span></div> </div><div class=\"contnr c0 trm   \" ><div class=\"lbl c0 trm \"> <span class=\"txtu cld\">a </span></div> </div></div></div></div></div><div class=\"contnr c1    \" ><div class=\"lbl c1  \"><span class=\"nd\">stress</span> </div> <div class=\"children row  \"><div class=\"contnr c1    \" ><div class=\"lbl c1  \"><span class=\"nd\">word</span> </div> <div class=\"children row  \"><div class=\"contnr c0 trm   \" ><div class=\"lbl c0 trm \"> <span class=\"txtu cld\">w</span></div> </div><div class=\"contnr c0 trm   \" ><div class=\"lbl c0 trm \"> <span class=\"txtu cld\">é</span></div> </div><div class=\"contnr c0 trm   \" ><div class=\"lbl c0 trm \"> <span class=\"txtu cld\">w</span></div> </div><div class=\"contnr c0 trm   \" ><div class=\"lbl c0 trm \"> <span class=\"txtu cld\">a,ˈ </span></div> </div></div></div></div></div></div></div></div></div></div></div><div class=\"contnr c2    l \" ><div class=\"lbl c2  \"><span class=\"nd\">sentence</span> </div> <div class=\"children row wrap \"><div class=\"contnr cnul trm   \" ><div class=\"children row wrap \"><div class=\"contnr c1    \" ><div class=\"lbl c1  \"><span class=\"nd\">inton</span> </div> <div class=\"children row  \"><div class=\"contnr c1    \" ><div class=\"lbl c1  \"><span class=\"nd\">stress</span> </div> <div class=\"children row  \"><div class=\"contnr c1    \" ><div class=\"lbl c1  \"><span class=\"nd\">word</span> </div> <div class=\"children row  \"><div class=\"contnr c0 trm   \" ><div class=\"lbl c0 trm \"> <span class=\"txtu cld\">h</span></div> </div><div class=\"contnr c0 trm   \" ><div class=\"lbl c0 trm \"> <span class=\"txtu cld\">a</span></div> </div><div class=\"contnr c0 trm   \" ><div class=\"lbl c0 trm \"> <span class=\"txtu cld\">r-</span></div> </div></div></div><div class=\"contnr c1    \" ><div class=\"lbl c1  \"><span class=\"nd\">word</span> </div> <div class=\"children row  \"><div class=\"contnr c0 trm   \" ><div class=\"lbl c0 trm \"> <span class=\"txtu cld\">z</span></div> </div><div class=\"contnr c0 trm   \" ><div class=\"lbl c0 trm \"> <span class=\"txtu cld\">á</span></div> </div><div class=\"contnr c0 trm   \" ><div class=\"lbl c0 trm \"> <span class=\"txtu cld\">l</span></div> </div><div class=\"contnr c0 trm   \" ><div class=\"lbl c0 trm \"> <span class=\"txtu cld\">a-</span></div> </div></div></div><div class=\"contnr c1    \" ><div class=\"lbl c1  \"><span class=\"nd\">word</span> </div> <div class=\"children row  \"><div class=\"contnr c0 trm   \" ><div class=\"lbl c0 trm \"> <span class=\"txtu cld\">w </span></div> </div></div></div></div></div><div class=\"contnr c1    \" ><div class=\"lbl c1  \"><span class=\"nd\">stress</span> </div> <div class=\"children row  \"><div class=\"contnr c1    \" ><div class=\"lbl c1  \"><span class=\"nd\">word</span> </div> <div class=\"children row  \"><div class=\"contnr c0 trm   \" ><div class=\"lbl c0 trm \"> <span class=\"txtu cld\">θ</span></div> </div><div class=\"contnr c0 trm   \" ><div class=\"lbl c0 trm \"> <span class=\"txtu cld\">à</span></div> </div><div class=\"contnr c0 trm   \" ><div class=\"lbl c0 trm \"> <span class=\"txtu cld\">y</span></div> </div><div class=\"contnr c0 trm   \" ><div class=\"lbl c0 trm \"> <span class=\"txtu cld\">a.ˈ </span></div> </div></div></div></div></div></div></div></div></div></div></div></div>"
      ],
      "text/plain": [
       "<IPython.core.display.HTML object>"
      ]
     },
     "metadata": {},
     "output_type": "display_data"
    }
   ],
   "source": [
    "A.pretty(s, baseTypes=set())"
   ]
  },
  {
   "cell_type": "markdown",
   "metadata": {},
   "source": [
    "# Custom text formats"
   ]
  },
  {
   "cell_type": "code",
   "execution_count": null,
   "metadata": {},
   "outputs": [],
   "source": [
    "A.reuse()"
   ]
  },
  {
   "cell_type": "code",
   "execution_count": 11,
   "metadata": {},
   "outputs": [
    {
     "data": {
      "text/plain": [
       "{'text-orig-full': 'word',\n",
       " 'text-orig-lite': 'word',\n",
       " 'text-trans-full': 'word',\n",
       " 'text-trans-fuzzy': 'word',\n",
       " 'text-trans-lite': 'word',\n",
       " 'layout-orig-full': 'word',\n",
       " 'layout-orig-lite': 'word',\n",
       " 'layout-trans-full': 'word',\n",
       " 'layout-trans-fuzzy': 'word',\n",
       " 'layout-trans-lite': 'word'}"
      ]
     },
     "execution_count": 11,
     "metadata": {},
     "output_type": "execute_result"
    }
   ],
   "source": [
    "T.formats"
   ]
  },
  {
   "cell_type": "code",
   "execution_count": 12,
   "metadata": {},
   "outputs": [
    {
     "name": "stdout",
     "output_type": "stream",
     "text": [
      "120148\n",
      "{'word'}\n",
      "120148\n"
     ]
    }
   ],
   "source": [
    "spoken = [n for n in N() if F.speaker.v(n)]\n",
    "print(len(spoken))\n",
    "print({F.otype.v(n) for n in spoken})\n",
    "print(len(F.otype.s('word')))"
   ]
  },
  {
   "cell_type": "markdown",
   "metadata": {},
   "source": [
    "Conclusion: all words have a definite speaker, and nothing else has a definite speaker.\n",
    "\n",
    "Now look for lines with speaker changes."
   ]
  },
  {
   "cell_type": "code",
   "execution_count": 13,
   "metadata": {},
   "outputs": [
    {
     "data": {
      "text/plain": [
       "6"
      ]
     },
     "execution_count": 13,
     "metadata": {},
     "output_type": "execute_result"
    }
   ],
   "source": [
    "speakerChanges = {}\n",
    "\n",
    "for s in F.otype.s('line'):\n",
    "    speakers = frozenset(F.speaker.v(w) for w in L.d(s, otype='word'))\n",
    "    if len(speakers) > 1:\n",
    "        speakerChanges.setdefault(speakers, []).append(s)\n",
    "        \n",
    "len(speakerChanges)"
   ]
  },
  {
   "cell_type": "code",
   "execution_count": 15,
   "metadata": {},
   "outputs": [
    {
     "data": {
      "text/plain": [
       "[577144, 577148]"
      ]
     },
     "execution_count": 15,
     "metadata": {},
     "output_type": "execute_result"
    }
   ],
   "source": [
    "speakers = sorted(speakerChanges)[0]\n",
    "lines = speakerChanges[speakers]\n",
    "ln = lines[0]\n",
    "lines"
   ]
  },
  {
   "cell_type": "code",
   "execution_count": 16,
   "metadata": {},
   "outputs": [
    {
     "data": {
      "text/html": [
       "<span class=\"section ltr\"><a target=\"_blank\" href=\"0.02/Urmi_C/Hunting.nena\" title=\"Show this title in the NENA repository\" sec=\"Urmi_C, Hunting, Ln. 6\">Urmi_C, Hunting, Ln. 6</a> </span><div class=\"contnr c3    \" ><div class=\"lbl c3  \"><span class=\"nd\">line:577144</span> <span class=\"txtu cld\">6</span></div> <div class=\"children row wrap \"><div class=\"children row wrap \"><div class=\"contnr c2    \" ><div class=\"lbl c2  \"><span class=\"nd\">sentence:588635</span> </div> <div class=\"children row wrap \"><div class=\"contnr cnul trm   \" ><div class=\"children row wrap \"><div class=\"contnr c1    \" ><div class=\"lbl c1  \"><span class=\"nd\">stress:649593</span> </div> <div class=\"children row  \"><div class=\"contnr c1 trm   \" ><div class=\"lbl c1 trm \"><span class=\"nd\">word:785694</span> <span class=\"txtu cld\"><span class=\"plain outer   \" ><span class=\"txtu cld\"><span class=\"speaker\">«GK…</span>ʾə́tva </span></span></span></div> </div></div></div><div class=\"contnr c1    \" ><div class=\"lbl c1  \"><span class=\"nd\">stress:649594</span> </div> <div class=\"children row  \"><div class=\"contnr c1 trm   \" ><div class=\"lbl c1 trm \"><span class=\"nd\">word:785695</span> <span class=\"txtu cld\"><span class=\"plain outer   \" ><span class=\"txtu cld\">xzùyrə? <span class=\"speaker\">…GK»</span></span></span></span></div> </div></div></div></div></div></div></div></div><div class=\"children row wrap \"><div class=\"contnr c2    r \" ><div class=\"lbl c2  \"><span class=\"nd\">sentence:588636</span> </div> <div class=\"children row wrap \"><div class=\"contnr cnul trm   \" ><div class=\"children row wrap \"><div class=\"contnr c1    \" ><div class=\"lbl c1  \"><span class=\"nd\">stress:649595</span> </div> <div class=\"children row  \"><div class=\"contnr c1 trm   \" ><div class=\"lbl c1 trm \"><span class=\"nd\">word:785696</span> <span class=\"txtu cld\"><span class=\"plain outer   \" ><span class=\"txtu cld\"><span class=\"speaker\">«Natan Khoshaba…</span>là,ˈ </span></span></span></div> </div></div></div></div></div></div></div><div class=\"contnr c2    l \" ><div class=\"lbl c2  \"><span class=\"nd\">sentence:588636</span> </div> <div class=\"children row wrap \"><div class=\"contnr cnul trm   \" ><div class=\"children row wrap \"><div class=\"contnr c1    \" ><div class=\"lbl c1  \"><span class=\"nd\">inton:560398</span> </div> <div class=\"children row  \"><div class=\"contnr c1    \" ><div class=\"lbl c1  \"><span class=\"nd\">stress:649596</span> </div> <div class=\"children row  \"><div class=\"contnr c1 trm   \" ><div class=\"lbl c1 trm \"><span class=\"nd\">word:785697</span> <span class=\"txtu cld\"><span class=\"plain outer   \" ><span class=\"txtu cld\">ʾé </span></span></span></div> </div></div></div><div class=\"contnr c1    \" ><div class=\"lbl c1  \"><span class=\"nd\">stress:649597</span> </div> <div class=\"children row  \"><div class=\"contnr c1 trm   \" ><div class=\"lbl c1 trm \"><span class=\"nd\">word:785698</span> <span class=\"txtu cld\"><span class=\"plain outer   \" ><span class=\"txtu cld\">⁺dána </span></span></span></div> </div></div></div><div class=\"contnr c1    \" ><div class=\"lbl c1  \"><span class=\"nd\">stress:649598</span> </div> <div class=\"children row  \"><div class=\"contnr c1 trm   \" ><div class=\"lbl c1 trm \"><span class=\"nd\">word:785699</span> <span class=\"txtu cld\"><span class=\"plain outer   \" ><span class=\"txtu cld\">ʾàxnanˈ </span></span></span></div> </div></div></div></div></div><div class=\"contnr c1    \" ><div class=\"lbl c1  \"><span class=\"nd\">inton:560399</span> </div> <div class=\"children row  \"><div class=\"contnr c1    \" ><div class=\"lbl c1  \"><span class=\"nd\">stress:649599</span> </div> <div class=\"children row  \"><div class=\"contnr c1 trm   \" ><div class=\"lbl c1 trm \"><span class=\"nd\">word:785700</span> <span class=\"txtu cld\"><span class=\"plain outer   \" ><span class=\"txtu cld\">ɟá </span></span></span></div> </div></div></div><div class=\"contnr c1    \" ><div class=\"lbl c1  \"><span class=\"nd\">stress:649600</span> </div> <div class=\"children row  \"><div class=\"contnr c1 trm   \" ><div class=\"lbl c1 trm \"><span class=\"nd\">word:785701</span> <span class=\"txtu cld\"><span class=\"plain outer   \" ><span class=\"txtu cld\">māt-</span></span></span></div> </div><div class=\"contnr c1 trm   \" ><div class=\"lbl c1 trm \"><span class=\"nd\">word:785702</span> <span class=\"txtu cld\"><span class=\"plain outer   \" ><span class=\"txtu cld\">díyyan </span></span></span></div> </div></div></div><div class=\"contnr c1    \" ><div class=\"lbl c1  \"><span class=\"nd\">stress:649601</span> </div> <div class=\"children row  \"><div class=\"contnr c1 trm   \" ><div class=\"lbl c1 trm \"><span class=\"nd\">word:785703</span> <span class=\"txtu cld\"><span class=\"plain outer   \" ><span class=\"txtu cld\">lə̀tva.ˈ </span></span></span></div> </div></div></div></div></div></div></div></div></div></div><div class=\"children row wrap \"><div class=\"contnr c2    \" ><div class=\"lbl c2  \"><span class=\"nd\">sentence:588637</span> </div> <div class=\"children row wrap \"><div class=\"contnr cnul trm   \" ><div class=\"children row wrap \"><div class=\"contnr c1    \" ><div class=\"lbl c1  \"><span class=\"nd\">inton:560400</span> </div> <div class=\"children row  \"><div class=\"contnr c1    \" ><div class=\"lbl c1  \"><span class=\"nd\">stress:649602</span> </div> <div class=\"children row  \"><div class=\"contnr c1 trm   \" ><div class=\"lbl c1 trm \"><span class=\"nd\">word:785704</span> <span class=\"txtu cld\"><span class=\"plain outer   \" ><span class=\"txtu cld\">xzúyrə </span></span></span></div> </div></div></div><div class=\"contnr c1    \" ><div class=\"lbl c1  \"><span class=\"nd\">stress:649603</span> </div> <div class=\"children row  \"><div class=\"contnr c1 trm   \" ><div class=\"lbl c1 trm \"><span class=\"nd\">word:785705</span> <span class=\"txtu cld\"><span class=\"plain outer   \" ><span class=\"txtu cld\">c-</span></span></span></div> </div><div class=\"contnr c1 trm   \" ><div class=\"lbl c1 trm \"><span class=\"nd\">word:785706</span> <span class=\"txtu cld\"><span class=\"plain outer   \" ><span class=\"txtu cld\">azíva </span></span></span></div> </div></div></div><div class=\"contnr c1    \" ><div class=\"lbl c1  \"><span class=\"nd\">stress:649604</span> </div> <div class=\"children row  \"><div class=\"contnr c1 trm   \" ><div class=\"lbl c1 trm \"><span class=\"nd\">word:785707</span> <span class=\"txtu cld\"><span class=\"plain outer   \" ><span class=\"txtu cld\">⁺ʾal-</span></span></span></div> </div><div class=\"contnr c1 trm   \" ><div class=\"lbl c1 trm \"><span class=\"nd\">word:785708</span> <span class=\"txtu cld\"><span class=\"plain outer   \" ><span class=\"txtu cld\">⁺ṱurànə.ˈ </span></span></span></div> </div></div></div></div></div></div></div></div></div></div><div class=\"children row wrap \"><div class=\"contnr c2    r \" ><div class=\"lbl c2  \"><span class=\"nd\">sentence:588638</span> </div> <div class=\"children row wrap \"><div class=\"contnr cnul trm   \" ><div class=\"children row wrap \"><div class=\"contnr c1    \" ><div class=\"lbl c1  \"><span class=\"nd\">inton:560401</span> </div> <div class=\"children row  \"><div class=\"contnr c1    \" ><div class=\"lbl c1  \"><span class=\"nd\">stress:649605</span> </div> <div class=\"children row  \"><div class=\"contnr c1 trm   \" ><div class=\"lbl c1 trm \"><span class=\"nd\">word:785709</span> <span class=\"txtu cld\"><span class=\"plain outer   \" ><span class=\"txtu cld\">ʾánnə </span></span></span></div> </div></div></div><div class=\"contnr c1    \" ><div class=\"lbl c1  \"><span class=\"nd\">stress:649606</span> </div> <div class=\"children row  \"><div class=\"contnr c1 trm   \" ><div class=\"lbl c1 trm \"><span class=\"nd\">word:785710</span> <span class=\"txtu cld\"><span class=\"plain outer   \" ><span class=\"txtu cld\">nášə </span></span></span></div> </div></div></div><div class=\"contnr c1    \" ><div class=\"lbl c1  \"><span class=\"nd\">stress:649607</span> </div> <div class=\"children row  \"><div class=\"contnr c1 trm   \" ><div class=\"lbl c1 trm \"><span class=\"nd\">word:785711</span> <span class=\"txtu cld\"><span class=\"plain outer   \" ><span class=\"txtu cld\">k̭át </span></span></span></div> </div></div></div><div class=\"contnr c1    \" ><div class=\"lbl c1  \"><span class=\"nd\">stress:649608</span> </div> <div class=\"children row  \"><div class=\"contnr c1 trm   \" ><div class=\"lbl c1 trm \"><span class=\"nd\">word:785712</span> <span class=\"txtu cld\"><span class=\"plain outer   \" ><span class=\"txtu cld\">ʾə́tvalun </span></span></span></div> </div></div></div><div class=\"contnr c1    \" ><div class=\"lbl c1  \"><span class=\"nd\">stress:649609</span> </div> <div class=\"children row  \"><div class=\"contnr c1 trm   \" ><div class=\"lbl c1 trm \"><span class=\"nd\">word:785713</span> <span class=\"txtu cld\"><span class=\"plain outer   \" ><span class=\"txtu cld\">tùp,ˈ </span></span></span></div> </div></div></div></div></div></div></div></div></div><div class=\"contnr c2    l r \" ><div class=\"lbl c2  \"><span class=\"nd\">sentence:588638</span> </div> <div class=\"children row wrap \"><div class=\"contnr cnul trm   \" ><div class=\"children row wrap \"><div class=\"contnr c1    \" ><div class=\"lbl c1  \"><span class=\"nd\">inton:560402</span> </div> <div class=\"children row  \"><div class=\"contnr c1    \" ><div class=\"lbl c1  \"><span class=\"nd\">stress:649610</span> </div> <div class=\"children row  \"><div class=\"contnr c1 trm   \" ><div class=\"lbl c1 trm \"><span class=\"nd\">word:785714</span> <span class=\"txtu cld\"><span class=\"plain outer   \" ><span class=\"txtu cld\">xelànta </span></span></span></div> </div></div></div><div class=\"contnr c1    \" ><div class=\"lbl c1  \"><span class=\"nd\">stress:649611</span> </div> <div class=\"children row  \"><div class=\"contnr c1 trm   \" ><div class=\"lbl c1 trm \"><span class=\"nd\">word:785715</span> <span class=\"txtu cld\"><span class=\"plain outer   \" ><span class=\"txtu cld\">túp,ˈ </span></span></span></div> </div></div></div></div></div></div></div></div></div><div class=\"contnr c2    l r \" ><div class=\"lbl c2  \"><span class=\"nd\">sentence:588638</span> </div> <div class=\"children row wrap \"><div class=\"contnr cnul trm   \" ><div class=\"children row wrap \"><div class=\"contnr c1    \" ><div class=\"lbl c1  \"><span class=\"nd\">inton:560403</span> </div> <div class=\"children row  \"><div class=\"contnr c1    \" ><div class=\"lbl c1  \"><span class=\"nd\">stress:649612</span> </div> <div class=\"children row  \"><div class=\"contnr c1 trm   \" ><div class=\"lbl c1 trm \"><span class=\"nd\">word:785716</span> <span class=\"txtu cld\"><span class=\"plain outer   \" ><span class=\"txtu cld\">ṱ-</span></span></span></div> </div><div class=\"contnr c1 trm   \" ><div class=\"lbl c1 trm \"><span class=\"nd\">word:785717</span> <span class=\"txtu cld\"><span class=\"plain outer   \" ><span class=\"txtu cld\">azíva </span></span></span></div> </div></div></div><div class=\"contnr c1    \" ><div class=\"lbl c1  \"><span class=\"nd\">stress:649613</span> </div> <div class=\"children row  \"><div class=\"contnr c1 trm   \" ><div class=\"lbl c1 trm \"><span class=\"nd\">word:785718</span> <span class=\"txtu cld\"><span class=\"plain outer   \" ><span class=\"txtu cld\">ṱurànə,ˈ </span></span></span></div> </div></div></div></div></div></div></div></div></div><div class=\"contnr c2    l \" ><div class=\"lbl c2  \"><span class=\"nd\">sentence:588638</span> </div> <div class=\"children row wrap \"><div class=\"contnr cnul trm   \" ><div class=\"children row wrap \"><div class=\"contnr c1    \" ><div class=\"lbl c1  \"><span class=\"nd\">inton:560404</span> </div> <div class=\"children row  \"><div class=\"contnr c1    \" ><div class=\"lbl c1  \"><span class=\"nd\">stress:649614</span> </div> <div class=\"children row  \"><div class=\"contnr c1 trm   \" ><div class=\"lbl c1 trm \"><span class=\"nd\">word:785719</span> <span class=\"txtu cld\"><span class=\"plain outer   \" ><span class=\"txtu cld\">maxíva </span></span></span></div> </div></div></div><div class=\"contnr c1    \" ><div class=\"lbl c1  \"><span class=\"nd\">stress:649615</span> </div> <div class=\"children row  \"><div class=\"contnr c1 trm   \" ><div class=\"lbl c1 trm \"><span class=\"nd\">word:785720</span> <span class=\"txtu cld\"><span class=\"plain outer   \" ><span class=\"txtu cld\">xzùyra.ˈ </span></span></span></div> </div></div></div></div></div></div></div></div></div></div><div class=\"children row wrap \"><div class=\"contnr c2    \" ><div class=\"lbl c2  \"><span class=\"nd\">sentence:588639</span> </div> <div class=\"children row wrap \"><div class=\"contnr cnul trm   \" ><div class=\"children row wrap \"><div class=\"contnr c1    \" ><div class=\"lbl c1  \"><span class=\"nd\">inton:560405</span> </div> <div class=\"children row  \"><div class=\"contnr c1    \" ><div class=\"lbl c1  \"><span class=\"nd\">stress:649616</span> </div> <div class=\"children row  \"><div class=\"contnr c1 trm   \" ><div class=\"lbl c1 trm \"><span class=\"nd\">word:785721</span> <span class=\"txtu cld\"><span class=\"plain outer   \" ><span class=\"txtu cld\">xà-</span></span></span></div> </div><div class=\"contnr c1 trm   \" ><div class=\"lbl c1 trm \"><span class=\"nd\">word:785722</span> <span class=\"txtu cld\"><span class=\"plain outer   \" ><span class=\"txtu cld\">danaˈ </span></span></span></div> </div></div></div></div></div><div class=\"contnr c1    \" ><div class=\"lbl c1  \"><span class=\"nd\">inton:560406</span> </div> <div class=\"children row  \"><div class=\"contnr c1    \" ><div class=\"lbl c1  \"><span class=\"nd\">stress:649617</span> </div> <div class=\"children row  \"><div class=\"contnr c1 trm   \" ><div class=\"lbl c1 trm \"><span class=\"nd\">word:785723</span> <span class=\"txtu cld\"><span class=\"plain outer   \" ><span class=\"txtu cld\">tré-</span></span></span></div> </div><div class=\"contnr c1 trm   \" ><div class=\"lbl c1 trm \"><span class=\"nd\">word:785724</span> <span class=\"txtu cld\"><span class=\"plain outer   \" ><span class=\"txtu cld\">danə </span></span></span></div> </div></div></div><div class=\"contnr c1    \" ><div class=\"lbl c1  \"><span class=\"nd\">stress:649618</span> </div> <div class=\"children row  \"><div class=\"contnr c1 trm   \" ><div class=\"lbl c1 trm \"><span class=\"nd\">word:785725</span> <span class=\"txtu cld\"><span class=\"plain outer   \" ><span class=\"txtu cld\">xzúyrə </span></span></span></div> </div></div></div><div class=\"contnr c1    \" ><div class=\"lbl c1  \"><span class=\"nd\">stress:649619</span> </div> <div class=\"children row  \"><div class=\"contnr c1 trm   \" ><div class=\"lbl c1 trm \"><span class=\"nd\">word:785726</span> <span class=\"txtu cld\"><span class=\"plain outer   \" ><span class=\"txtu cld\">ci-</span></span></span></div> </div><div class=\"contnr c1 trm   \" ><div class=\"lbl c1 trm \"><span class=\"nd\">word:785727</span> <span class=\"txtu cld\"><span class=\"plain outer   \" ><span class=\"txtu cld\">mayyìva.ˈ </span></span></span></div> </div></div></div></div></div></div></div></div></div></div><div class=\"children row wrap \"><div class=\"contnr c2    r \" ><div class=\"lbl c2  \"><span class=\"nd\">sentence:588640</span> </div> <div class=\"children row wrap \"><div class=\"contnr cnul trm   \" ><div class=\"children row wrap \"><div class=\"contnr c1    \" ><div class=\"lbl c1  \"><span class=\"nd\">inton:560407</span> </div> <div class=\"children row  \"><div class=\"contnr c1    \" ><div class=\"lbl c1  \"><span class=\"nd\">stress:649620</span> </div> <div class=\"children row  \"><div class=\"contnr c1 trm   \" ><div class=\"lbl c1 trm \"><span class=\"nd\">word:785728</span> <span class=\"txtu cld\"><span class=\"plain outer   \" ><span class=\"txtu cld\">ʾína </span></span></span></div> </div></div></div><div class=\"contnr c1    \" ><div class=\"lbl c1  \"><span class=\"nd\">stress:649621</span> </div> <div class=\"children row  \"><div class=\"contnr c1 trm   \" ><div class=\"lbl c1 trm \"><span class=\"nd\">word:785729</span> <span class=\"txtu cld\"><span class=\"plain outer   \" ><span class=\"txtu cld\">cúllə </span></span></span></div> </div></div></div><div class=\"contnr c1    \" ><div class=\"lbl c1  \"><span class=\"nd\">stress:649622</span> </div> <div class=\"children row  \"><div class=\"contnr c1 trm   \" ><div class=\"lbl c1 trm \"><span class=\"nd\">word:785730</span> <span class=\"txtu cld\"><span class=\"plain outer   \" ><span class=\"txtu cld\">là,ˈ </span></span></span></div> </div></div></div></div></div></div></div></div></div><div class=\"contnr c2    l \" ><div class=\"lbl c2  \"><span class=\"nd\">sentence:588640</span> </div> <div class=\"children row wrap \"><div class=\"contnr cnul trm   \" ><div class=\"children row wrap \"><div class=\"contnr c1    \" ><div class=\"lbl c1  \"><span class=\"nd\">inton:560408</span> </div> <div class=\"children row  \"><div class=\"contnr c1    \" ><div class=\"lbl c1  \"><span class=\"nd\">stress:649623</span> </div> <div class=\"children row  \"><div class=\"contnr c1 trm   \" ><div class=\"lbl c1 trm \"><span class=\"nd\">word:785731</span> <span class=\"txtu cld\"><span class=\"plain outer   \" ><span class=\"txtu cld\">⁺rába </span></span></span></div> </div></div></div><div class=\"contnr c1    \" ><div class=\"lbl c1  \"><span class=\"nd\">stress:649624</span> </div> <div class=\"children row  \"><div class=\"contnr c1 trm   \" ><div class=\"lbl c1 trm \"><span class=\"nd\">word:785732</span> <span class=\"txtu cld\"><span class=\"plain outer   \" ><span class=\"txtu cld\">xàč̭č̭a </span></span></span></div> </div></div></div><div class=\"contnr c1    \" ><div class=\"lbl c1  \"><span class=\"nd\">stress:649625</span> </div> <div class=\"children row  \"><div class=\"contnr c1 trm   \" ><div class=\"lbl c1 trm \"><span class=\"nd\">word:785733</span> <span class=\"txtu cld\"><span class=\"plain outer   \" ><span class=\"txtu cld\">nášə.ˈ </span></span></span></div> </div></div></div></div></div></div></div></div></div></div><div class=\"children row wrap \"><div class=\"contnr c2    \" ><div class=\"lbl c2  \"><span class=\"nd\">sentence:588641</span> </div> <div class=\"children row wrap \"><div class=\"contnr cnul trm   \" ><div class=\"children row wrap \"><div class=\"contnr c1    \" ><div class=\"lbl c1  \"><span class=\"nd\">inton:560409</span> </div> <div class=\"children row  \"><div class=\"contnr c1    \" ><div class=\"lbl c1  \"><span class=\"nd\">stress:649626</span> </div> <div class=\"children row  \"><div class=\"contnr c1 trm   \" ><div class=\"lbl c1 trm \"><span class=\"nd\">word:785734</span> <span class=\"txtu cld\"><span class=\"plain outer   \" ><span class=\"txtu cld\">ʾadíyya </span></span></span></div> </div></div></div><div class=\"contnr c1    \" ><div class=\"lbl c1  \"><span class=\"nd\">stress:649627</span> </div> <div class=\"children row  \"><div class=\"contnr c1 trm   \" ><div class=\"lbl c1 trm \"><span class=\"nd\">word:785735</span> <span class=\"txtu cld\"><span class=\"plain outer   \" ><span class=\"txtu cld\">xína </span></span></span></div> </div></div></div><div class=\"contnr c1    \" ><div class=\"lbl c1  \"><span class=\"nd\">stress:649628</span> </div> <div class=\"children row  \"><div class=\"contnr c1 trm   \" ><div class=\"lbl c1 trm \"><span class=\"nd\">word:785736</span> <span class=\"txtu cld\"><span class=\"plain outer   \" ><span class=\"txtu cld\">nášə </span></span></span></div> </div></div></div><div class=\"contnr c1    \" ><div class=\"lbl c1  \"><span class=\"nd\">stress:649629</span> </div> <div class=\"children row  \"><div class=\"contnr c1 trm   \" ><div class=\"lbl c1 trm \"><span class=\"nd\">word:785737</span> <span class=\"txtu cld\"><span class=\"plain outer   \" ><span class=\"txtu cld\">⁺ràbəna </span></span></span></div> </div></div></div><div class=\"contnr c1    \" ><div class=\"lbl c1  \"><span class=\"nd\">stress:649630</span> </div> <div class=\"children row  \"><div class=\"contnr c1 trm   \" ><div class=\"lbl c1 trm \"><span class=\"nd\">word:785738</span> <span class=\"txtu cld\"><span class=\"plain outer   \" ><span class=\"txtu cld\">bərrə́ššəna.ˈ </span></span></span></div> </div></div></div></div></div></div></div></div></div></div></div></div>"
      ],
      "text/plain": [
       "<IPython.core.display.HTML object>"
      ]
     },
     "metadata": {},
     "output_type": "display_data"
    }
   ],
   "source": [
    "A.pretty(ln, fmt=\"layout-orig-full\", withNodes=True, baseTypes={'word'})"
   ]
  },
  {
   "cell_type": "code",
   "execution_count": 17,
   "metadata": {},
   "outputs": [
    {
     "data": {
      "text/html": [
       "<span class=\"section ltr\"><a target=\"_blank\" href=\"0.02/Urmi_C/Hunting.nena\" title=\"Show this title in the NENA repository\" sec=\"Urmi_C, Hunting, Ln. 6\">Urmi_C, Hunting, Ln. 6</a> </span> <span class=\"plain outer   \" ><span class=\"plain txtu cld \"></span><span class=\"plain    \" ><span class=\"plain txtu cld \"></span><span class=\"plain    \" ><span class=\"plain txtu cld \"></span><span class=\"plain    \" ><span class=\"plain txtu cld \"></span><span class=\"plain    \" ><span class=\"txtu cld\"><span class=\"speaker\">«GK…</span>ʾə́tva </span></span></span><span class=\"plain    \" ><span class=\"plain txtu cld \"></span><span class=\"plain    \" ><span class=\"txtu cld\">xzùyrə? <span class=\"speaker\">…GK»</span></span></span></span></span></span><span class=\"plain    \" ><span class=\"plain txtu cld \"></span><span class=\"plain    \" ><span class=\"plain txtu cld \"></span><span class=\"plain    \" ><span class=\"plain txtu cld \"></span><span class=\"plain    \" ><span class=\"txtu cld\"><span class=\"speaker\">«Natan Khoshaba…</span>là,ˈ </span></span></span></span><span class=\"plain    \" ><span class=\"plain txtu cld \"></span><span class=\"plain    \" ><span class=\"plain txtu cld \"></span><span class=\"plain    \" ><span class=\"plain txtu cld \"></span><span class=\"plain    \" ><span class=\"txtu cld\">ʾé </span></span></span><span class=\"plain    \" ><span class=\"plain txtu cld \"></span><span class=\"plain    \" ><span class=\"txtu cld\">⁺dána </span></span></span><span class=\"plain    \" ><span class=\"plain txtu cld \"></span><span class=\"plain    \" ><span class=\"txtu cld\">ʾàxnanˈ </span></span></span></span><span class=\"plain    \" ><span class=\"plain txtu cld \"></span><span class=\"plain    \" ><span class=\"plain txtu cld \"></span><span class=\"plain    \" ><span class=\"txtu cld\">ɟá </span></span></span><span class=\"plain    \" ><span class=\"plain txtu cld \"></span><span class=\"plain    \" ><span class=\"txtu cld\">māt-</span></span><span class=\"plain    \" ><span class=\"txtu cld\">díyyan </span></span></span><span class=\"plain    \" ><span class=\"plain txtu cld \"></span><span class=\"plain    \" ><span class=\"txtu cld\">lə̀tva.ˈ </span></span></span></span></span></span><span class=\"plain    \" ><span class=\"plain txtu cld \"></span><span class=\"plain    \" ><span class=\"plain txtu cld \"></span><span class=\"plain    \" ><span class=\"plain txtu cld \"></span><span class=\"plain    \" ><span class=\"plain txtu cld \"></span><span class=\"plain    \" ><span class=\"txtu cld\">xzúyrə </span></span></span><span class=\"plain    \" ><span class=\"plain txtu cld \"></span><span class=\"plain    \" ><span class=\"txtu cld\">c-</span></span><span class=\"plain    \" ><span class=\"txtu cld\">azíva </span></span></span><span class=\"plain    \" ><span class=\"plain txtu cld \"></span><span class=\"plain    \" ><span class=\"txtu cld\">⁺ʾal-</span></span><span class=\"plain    \" ><span class=\"txtu cld\">⁺ṱurànə.ˈ </span></span></span></span></span></span><span class=\"plain    \" ><span class=\"plain txtu cld \"></span><span class=\"plain    \" ><span class=\"plain txtu cld \"></span><span class=\"plain    \" ><span class=\"plain txtu cld \"></span><span class=\"plain    \" ><span class=\"plain txtu cld \"></span><span class=\"plain    \" ><span class=\"txtu cld\">ʾánnə </span></span></span><span class=\"plain    \" ><span class=\"plain txtu cld \"></span><span class=\"plain    \" ><span class=\"txtu cld\">nášə </span></span></span><span class=\"plain    \" ><span class=\"plain txtu cld \"></span><span class=\"plain    \" ><span class=\"txtu cld\">k̭át </span></span></span><span class=\"plain    \" ><span class=\"plain txtu cld \"></span><span class=\"plain    \" ><span class=\"txtu cld\">ʾə́tvalun </span></span></span><span class=\"plain    \" ><span class=\"plain txtu cld \"></span><span class=\"plain    \" ><span class=\"txtu cld\">tùp,ˈ </span></span></span></span></span><span class=\"plain    \" ><span class=\"plain txtu cld \"></span><span class=\"plain    \" ><span class=\"plain txtu cld \"></span><span class=\"plain    \" ><span class=\"plain txtu cld \"></span><span class=\"plain    \" ><span class=\"txtu cld\">xelànta </span></span></span><span class=\"plain    \" ><span class=\"plain txtu cld \"></span><span class=\"plain    \" ><span class=\"txtu cld\">túp,ˈ </span></span></span></span></span><span class=\"plain    \" ><span class=\"plain txtu cld \"></span><span class=\"plain    \" ><span class=\"plain txtu cld \"></span><span class=\"plain    \" ><span class=\"plain txtu cld \"></span><span class=\"plain    \" ><span class=\"txtu cld\">ṱ-</span></span><span class=\"plain    \" ><span class=\"txtu cld\">azíva </span></span></span><span class=\"plain    \" ><span class=\"plain txtu cld \"></span><span class=\"plain    \" ><span class=\"txtu cld\">ṱurànə,ˈ </span></span></span></span></span><span class=\"plain    \" ><span class=\"plain txtu cld \"></span><span class=\"plain    \" ><span class=\"plain txtu cld \"></span><span class=\"plain    \" ><span class=\"plain txtu cld \"></span><span class=\"plain    \" ><span class=\"txtu cld\">maxíva </span></span></span><span class=\"plain    \" ><span class=\"plain txtu cld \"></span><span class=\"plain    \" ><span class=\"txtu cld\">xzùyra.ˈ </span></span></span></span></span></span><span class=\"plain    \" ><span class=\"plain txtu cld \"></span><span class=\"plain    \" ><span class=\"plain txtu cld \"></span><span class=\"plain    \" ><span class=\"plain txtu cld \"></span><span class=\"plain    \" ><span class=\"plain txtu cld \"></span><span class=\"plain    \" ><span class=\"txtu cld\">xà-</span></span><span class=\"plain    \" ><span class=\"txtu cld\">danaˈ </span></span></span></span><span class=\"plain    \" ><span class=\"plain txtu cld \"></span><span class=\"plain    \" ><span class=\"plain txtu cld \"></span><span class=\"plain    \" ><span class=\"txtu cld\">tré-</span></span><span class=\"plain    \" ><span class=\"txtu cld\">danə </span></span></span><span class=\"plain    \" ><span class=\"plain txtu cld \"></span><span class=\"plain    \" ><span class=\"txtu cld\">xzúyrə </span></span></span><span class=\"plain    \" ><span class=\"plain txtu cld \"></span><span class=\"plain    \" ><span class=\"txtu cld\">ci-</span></span><span class=\"plain    \" ><span class=\"txtu cld\">mayyìva.ˈ </span></span></span></span></span></span><span class=\"plain    \" ><span class=\"plain txtu cld \"></span><span class=\"plain    \" ><span class=\"plain txtu cld \"></span><span class=\"plain    \" ><span class=\"plain txtu cld \"></span><span class=\"plain    \" ><span class=\"plain txtu cld \"></span><span class=\"plain    \" ><span class=\"txtu cld\">ʾína </span></span></span><span class=\"plain    \" ><span class=\"plain txtu cld \"></span><span class=\"plain    \" ><span class=\"txtu cld\">cúllə </span></span></span><span class=\"plain    \" ><span class=\"plain txtu cld \"></span><span class=\"plain    \" ><span class=\"txtu cld\">là,ˈ </span></span></span></span></span><span class=\"plain    \" ><span class=\"plain txtu cld \"></span><span class=\"plain    \" ><span class=\"plain txtu cld \"></span><span class=\"plain    \" ><span class=\"plain txtu cld \"></span><span class=\"plain    \" ><span class=\"txtu cld\">⁺rába </span></span></span><span class=\"plain    \" ><span class=\"plain txtu cld \"></span><span class=\"plain    \" ><span class=\"txtu cld\">xàč̭č̭a </span></span></span><span class=\"plain    \" ><span class=\"plain txtu cld \"></span><span class=\"plain    \" ><span class=\"txtu cld\">nášə.ˈ </span></span></span></span></span></span><span class=\"plain    \" ><span class=\"plain txtu cld \"></span><span class=\"plain    \" ><span class=\"plain txtu cld \"></span><span class=\"plain    \" ><span class=\"plain txtu cld \"></span><span class=\"plain    \" ><span class=\"plain txtu cld \"></span><span class=\"plain    \" ><span class=\"txtu cld\">ʾadíyya </span></span></span><span class=\"plain    \" ><span class=\"plain txtu cld \"></span><span class=\"plain    \" ><span class=\"txtu cld\">xína </span></span></span><span class=\"plain    \" ><span class=\"plain txtu cld \"></span><span class=\"plain    \" ><span class=\"txtu cld\">nášə </span></span></span><span class=\"plain    \" ><span class=\"plain txtu cld \"></span><span class=\"plain    \" ><span class=\"txtu cld\">⁺ràbəna </span></span></span><span class=\"plain    \" ><span class=\"plain txtu cld \"></span><span class=\"plain    \" ><span class=\"txtu cld\">bərrə́ššəna.ˈ </span></span></span></span></span></span></span>"
      ],
      "text/plain": [
       "<IPython.core.display.HTML object>"
      ]
     },
     "metadata": {},
     "output_type": "display_data"
    }
   ],
   "source": [
    "A.plain(ln, fmt=\"layout-orig-full\")"
   ]
  },
  {
   "cell_type": "code",
   "execution_count": 21,
   "metadata": {},
   "outputs": [],
   "source": [
    "i = 560398"
   ]
  },
  {
   "cell_type": "code",
   "execution_count": 26,
   "metadata": {},
   "outputs": [
    {
     "data": {
      "text/html": [
       "<span class=\"section ltr\"><a target=\"_blank\" href=\"0.02/Urmi_C/Hunting.nena\" title=\"Show this title in the NENA repository\" sec=\"Urmi_C, Hunting, Ln. 6\">Urmi_C, Hunting, Ln. 6</a> </span> <span class=\"plain outer   \" ><span class=\"plain txtu cld \"></span><span class=\"plain    \" ><span class=\"plain txtu cld \"></span><span class=\"plain    \" ><span class=\"txtu cld\"><span class=\"speaker\">…Natan Khoshaba…</span>ʾé </span></span></span><span class=\"plain    \" ><span class=\"plain txtu cld \"></span><span class=\"plain    \" ><span class=\"txtu cld\">⁺dána </span></span></span><span class=\"plain    \" ><span class=\"plain txtu cld \"></span><span class=\"plain    \" ><span class=\"txtu cld\">ʾàxnanˈ <span class=\"speaker\">…Natan Khoshaba…</span></span></span></span></span>"
      ],
      "text/plain": [
       "<IPython.core.display.HTML object>"
      ]
     },
     "metadata": {},
     "output_type": "display_data"
    }
   ],
   "source": [
    "A.plain(i, fmt=\"layout-orig-full\")"
   ]
  },
  {
   "cell_type": "code",
   "execution_count": 27,
   "metadata": {},
   "outputs": [
    {
     "data": {
      "text/html": [
       "<span class=\"section ltr\"><a target=\"_blank\" href=\"0.02/Urmi_C/Hunting.nena\" title=\"Show this title in the NENA repository\" sec=\"Urmi_C, Hunting, Ln. 6\">Urmi_C, Hunting, Ln. 6</a> </span><div class=\"contnr c1    \" ><div class=\"lbl c1  \"><span class=\"nd\">inton:560398</span> </div> <div class=\"children row  \"><div class=\"contnr c1    \" ><div class=\"lbl c1  \"><span class=\"nd\">stress:649596</span> </div> <div class=\"children row  \"><div class=\"contnr c1 trm   \" ><div class=\"lbl c1 trm \"><span class=\"nd\">word:785697</span> <span class=\"txtu cld\"><span class=\"plain outer   \" ><span class=\"txtu cld\"><span class=\"speaker\">…Natan Khoshaba…</span>ʾé </span></span></span></div> </div></div></div><div class=\"contnr c1    \" ><div class=\"lbl c1  \"><span class=\"nd\">stress:649597</span> </div> <div class=\"children row  \"><div class=\"contnr c1 trm   \" ><div class=\"lbl c1 trm \"><span class=\"nd\">word:785698</span> <span class=\"txtu cld\"><span class=\"plain outer   \" ><span class=\"txtu cld\">⁺dána </span></span></span></div> </div></div></div><div class=\"contnr c1    \" ><div class=\"lbl c1  \"><span class=\"nd\">stress:649598</span> </div> <div class=\"children row  \"><div class=\"contnr c1 trm   \" ><div class=\"lbl c1 trm \"><span class=\"nd\">word:785699</span> <span class=\"txtu cld\"><span class=\"plain outer   \" ><span class=\"txtu cld\">ʾàxnanˈ <span class=\"speaker\">…Natan Khoshaba…</span></span></span></span></div> </div></div></div></div></div>"
      ],
      "text/plain": [
       "<IPython.core.display.HTML object>"
      ]
     },
     "metadata": {},
     "output_type": "display_data"
    }
   ],
   "source": [
    "A.pretty(i, fmt=\"layout-orig-full\", withNodes=True, baseTypes={'word'})"
   ]
  },
  {
   "cell_type": "code",
   "execution_count": 18,
   "metadata": {},
   "outputs": [
    {
     "data": {
      "text/markdown": [
       "### dialect 539382\n"
      ],
      "text/plain": [
       "<IPython.core.display.Markdown object>"
      ]
     },
     "metadata": {},
     "output_type": "display_data"
    },
    {
     "data": {
      "text/html": [
       "<span class=\"section ltr\"><a target=\"_blank\" href=\"0.02/Barwar/A Hundred Gold Coins.nena\" title=\"Show this title in the NENA repository\" sec=\"Barwar\">Barwar</a> </span> <span class=\"plain outer   \" ><span class=\"plain txtu cld \"><span class=\"section\"> </span></span></span>"
      ],
      "text/plain": [
       "<IPython.core.display.HTML object>"
      ]
     },
     "metadata": {},
     "output_type": "display_data"
    },
    {
     "data": {
      "text/html": [
       "<span class=\"section ltr\"><a target=\"_blank\" href=\"0.02/Barwar/A Hundred Gold Coins.nena\" title=\"Show this title in the NENA repository\" sec=\"Barwar\">Barwar</a> </span><div class=\"contnr c4 trm   \" ><div class=\"lbl c4 trm \"> <span class=\"txtu cld\">Barwar</span></div> </div>"
      ],
      "text/plain": [
       "<IPython.core.display.HTML object>"
      ]
     },
     "metadata": {},
     "output_type": "display_data"
    },
    {
     "data": {
      "text/markdown": [
       "### text 713259\n"
      ],
      "text/plain": [
       "<IPython.core.display.Markdown object>"
      ]
     },
     "metadata": {},
     "output_type": "display_data"
    },
    {
     "data": {
      "text/html": [
       "<span class=\"section ltr\"><a target=\"_blank\" href=\"0.02/Barwar/A Hundred Gold Coins.nena\" title=\"Show this title in the NENA repository\" sec=\"Barwar, A Hundred Gold Coins\">Barwar, A Hundred Gold Coins</a> </span> <span class=\"plain outer   \" ><span class=\"plain txtu cld \"><span class=\"section\"> </span></span></span>"
      ],
      "text/plain": [
       "<IPython.core.display.HTML object>"
      ]
     },
     "metadata": {},
     "output_type": "display_data"
    },
    {
     "data": {
      "text/html": [
       "<span class=\"section ltr\"><a target=\"_blank\" href=\"0.02/Barwar/A Hundred Gold Coins.nena\" title=\"Show this title in the NENA repository\" sec=\"Barwar, A Hundred Gold Coins\">Barwar, A Hundred Gold Coins</a> </span><div class=\"contnr c4 trm   \" ><div class=\"lbl c4 trm \"> <span class=\"txtu cld\">A6</span></div> </div>"
      ],
      "text/plain": [
       "<IPython.core.display.HTML object>"
      ]
     },
     "metadata": {},
     "output_type": "display_data"
    },
    {
     "data": {
      "text/markdown": [
       "### paragraph 577912\n"
      ],
      "text/plain": [
       "<IPython.core.display.Markdown object>"
      ]
     },
     "metadata": {},
     "output_type": "display_data"
    },
    {
     "data": {
      "text/html": [
       "<span class=\"section ltr\"><a target=\"_blank\" href=\"0.02/Barwar/A Hundred Gold Coins.nena\" title=\"Show this title in the NENA repository\" sec=\"Barwar, A Hundred Gold Coins, Ln. 1\">Barwar, A Hundred Gold Coins, Ln. 1</a> </span> <span class=\"plain outer   \" ><span class=\"plain txtu cld \"></span></span>"
      ],
      "text/plain": [
       "<IPython.core.display.HTML object>"
      ]
     },
     "metadata": {},
     "output_type": "display_data"
    },
    {
     "data": {
      "text/html": [
       "<span class=\"section ltr\"><a target=\"_blank\" href=\"0.02/Barwar/A Hundred Gold Coins.nena\" title=\"Show this title in the NENA repository\" sec=\"Barwar, A Hundred Gold Coins, Ln. 1\">Barwar, A Hundred Gold Coins, Ln. 1</a> </span><div class=\"contnr c2 trm   \" ><div class=\"lbl c2 trm \"> <span class=\"txtu cld\">1</span></div> </div>"
      ],
      "text/plain": [
       "<IPython.core.display.HTML object>"
      ]
     },
     "metadata": {},
     "output_type": "display_data"
    },
    {
     "data": {
      "text/markdown": [
       "### line 575368\n"
      ],
      "text/plain": [
       "<IPython.core.display.Markdown object>"
      ]
     },
     "metadata": {},
     "output_type": "display_data"
    },
    {
     "data": {
      "text/html": [
       "<span class=\"section ltr\"><a target=\"_blank\" href=\"0.02/Barwar/A Hundred Gold Coins.nena\" title=\"Show this title in the NENA repository\" sec=\"Barwar, A Hundred Gold Coins, Ln. 1\">Barwar, A Hundred Gold Coins, Ln. 1</a> </span> <span class=\"plain outer   \" ><span class=\"plain txtu cld \"></span><span class=\"plain    \" ><span class=\"plain txtu cld \"></span><span class=\"plain    \" ><span class=\"plain txtu cld \"></span><span class=\"plain    \" ><span class=\"plain txtu cld \"></span><span class=\"plain    \" ><span class=\"plain txtu cld \"></span><span class=\"plain    \" ><span class=\"plain txtu cld \"></span><span class=\"plain    \" ><span class=\"txtu cld\">x</span></span><span class=\"plain    \" ><span class=\"txtu cld\">á-</span></span></span><span class=\"plain    \" ><span class=\"plain txtu cld \"></span><span class=\"plain    \" ><span class=\"txtu cld\">g</span></span><span class=\"plain    \" ><span class=\"txtu cld\">a </span></span></span></span><span class=\"plain    \" ><span class=\"plain txtu cld \"></span><span class=\"plain    \" ><span class=\"plain txtu cld \"></span><span class=\"plain    \" ><span class=\"txtu cld\">x</span></span><span class=\"plain    \" ><span class=\"txtu cld\">è</span></span><span class=\"plain    \" ><span class=\"txtu cld\">t</span></span><span class=\"plain    \" ><span class=\"txtu cld\">a,ˈ </span></span></span></span></span></span><span class=\"plain    \" ><span class=\"plain txtu cld \"></span><span class=\"plain    \" ><span class=\"plain txtu cld \"></span><span class=\"plain    \" ><span class=\"plain txtu cld \"></span><span class=\"plain    \" ><span class=\"plain txtu cld \"></span><span class=\"plain    \" ><span class=\"txtu cld\">m</span></span><span class=\"plain    \" ><span class=\"txtu cld\">á</span></span><span class=\"plain    \" ><span class=\"txtu cld\">l</span></span><span class=\"plain    \" ><span class=\"txtu cld\">l</span></span><span class=\"plain    \" ><span class=\"txtu cld\">a</span></span><span class=\"plain    \" ><span class=\"txtu cld\">h </span></span></span></span><span class=\"plain    \" ><span class=\"plain txtu cld \"></span><span class=\"plain    \" ><span class=\"plain txtu cld \"></span><span class=\"plain    \" ><span class=\"txtu cld\">N</span></span><span class=\"plain    \" ><span class=\"txtu cld\">a</span></span><span class=\"plain    \" ><span class=\"txtu cld\">ṣ</span></span><span class=\"plain    \" ><span class=\"txtu cld\">r</span></span><span class=\"plain    \" ><span class=\"txtu cld\">à</span></span><span class=\"plain    \" ><span class=\"txtu cld\">d</span></span><span class=\"plain    \" ><span class=\"txtu cld\">i</span></span><span class=\"plain    \" ><span class=\"txtu cld\">n,ˈ </span></span></span></span></span></span><span class=\"plain    \" ><span class=\"plain txtu cld \"></span><span class=\"plain    \" ><span class=\"plain txtu cld \"></span><span class=\"plain    \" ><span class=\"plain txtu cld \"></span><span class=\"plain    \" ><span class=\"plain txtu cld \"></span><span class=\"plain    \" ><span class=\"txtu cld\">x</span></span><span class=\"plain    \" ><span class=\"txtu cld\">á</span></span><span class=\"plain    \" ><span class=\"txtu cld\">z</span></span><span class=\"plain    \" ><span class=\"txtu cld\">ə</span></span><span class=\"plain    \" ><span class=\"txtu cld\">x </span></span></span></span><span class=\"plain    \" ><span class=\"plain txtu cld \"></span><span class=\"plain    \" ><span class=\"plain txtu cld \"></span><span class=\"plain    \" ><span class=\"txtu cld\">m</span></span><span class=\"plain    \" ><span class=\"txtu cld\">ò</span></span><span class=\"plain    \" ><span class=\"txtu cld\">d</span></span><span class=\"plain    \" ><span class=\"txtu cld\">i </span></span></span></span><span class=\"plain    \" ><span class=\"plain txtu cld \"></span><span class=\"plain    \" ><span class=\"plain txtu cld \"></span><span class=\"plain    \" ><span class=\"txtu cld\">w</span></span><span class=\"plain    \" ><span class=\"txtu cld\">í</span></span><span class=\"plain    \" ><span class=\"txtu cld\">ð</span></span><span class=\"plain    \" ><span class=\"txtu cld\">a.ˈ </span></span></span></span></span></span></span><span class=\"plain    \" ><span class=\"plain txtu cld \"></span><span class=\"plain    \" ><span class=\"plain txtu cld \"></span><span class=\"plain    \" ><span class=\"plain txtu cld \"></span><span class=\"plain    \" ><span class=\"plain txtu cld \"></span><span class=\"plain    \" ><span class=\"plain txtu cld \"></span><span class=\"plain    \" ><span class=\"txtu cld\">g</span></span><span class=\"plain    \" ><span class=\"txtu cld\">u-</span></span></span><span class=\"plain    \" ><span class=\"plain txtu cld \"></span><span class=\"plain    \" ><span class=\"txtu cld\">b</span></span><span class=\"plain    \" ><span class=\"txtu cld\">ɛ̀</span></span><span class=\"plain    \" ><span class=\"txtu cld\">θ</span></span><span class=\"plain    \" ><span class=\"txtu cld\">a </span></span></span></span><span class=\"plain    \" ><span class=\"plain txtu cld \"></span><span class=\"plain    \" ><span class=\"plain txtu cld \"></span><span class=\"plain    \" ><span class=\"txtu cld\">w</span></span><span class=\"plain    \" ><span class=\"txtu cld\">é</span></span><span class=\"plain    \" ><span class=\"txtu cld\">w</span></span><span class=\"plain    \" ><span class=\"txtu cld\">a,ˈ </span></span></span></span></span></span><span class=\"plain    \" ><span class=\"plain txtu cld \"></span><span class=\"plain    \" ><span class=\"plain txtu cld \"></span><span class=\"plain    \" ><span class=\"plain txtu cld \"></span><span class=\"plain    \" ><span class=\"plain txtu cld \"></span><span class=\"plain    \" ><span class=\"txtu cld\">h</span></span><span class=\"plain    \" ><span class=\"txtu cld\">a</span></span><span class=\"plain    \" ><span class=\"txtu cld\">r-</span></span></span><span class=\"plain    \" ><span class=\"plain txtu cld \"></span><span class=\"plain    \" ><span class=\"txtu cld\">z</span></span><span class=\"plain    \" ><span class=\"txtu cld\">á</span></span><span class=\"plain    \" ><span class=\"txtu cld\">l</span></span><span class=\"plain    \" ><span class=\"txtu cld\">a-</span></span></span><span class=\"plain    \" ><span class=\"plain txtu cld \"></span><span class=\"plain    \" ><span class=\"txtu cld\">w </span></span></span></span><span class=\"plain    \" ><span class=\"plain txtu cld \"></span><span class=\"plain    \" ><span class=\"plain txtu cld \"></span><span class=\"plain    \" ><span class=\"txtu cld\">θ</span></span><span class=\"plain    \" ><span class=\"txtu cld\">à</span></span><span class=\"plain    \" ><span class=\"txtu cld\">y</span></span><span class=\"plain    \" ><span class=\"txtu cld\">a.ˈ </span></span></span></span></span></span></span><span class=\"plain    \" ><span class=\"plain txtu cld \"></span><span class=\"plain    \" ><span class=\"plain txtu cld \"></span><span class=\"plain    \" ><span class=\"plain txtu cld \"></span><span class=\"plain    \" ><span class=\"plain txtu cld \"></span><span class=\"plain    \" ><span class=\"plain txtu cld \"></span><span class=\"plain    \" ><span class=\"txtu cld\">z</span></span><span class=\"plain    \" ><span class=\"txtu cld\">á</span></span><span class=\"plain    \" ><span class=\"txtu cld\">l</span></span><span class=\"plain    \" ><span class=\"txtu cld\">a-</span></span></span><span class=\"plain    \" ><span class=\"plain txtu cld \"></span><span class=\"plain    \" ><span class=\"txtu cld\">w </span></span></span></span><span class=\"plain    \" ><span class=\"plain txtu cld \"></span><span class=\"plain    \" ><span class=\"plain txtu cld \"></span><span class=\"plain    \" ><span class=\"txtu cld\">θ</span></span><span class=\"plain    \" ><span class=\"txtu cld\">à</span></span><span class=\"plain    \" ><span class=\"txtu cld\">y</span></span><span class=\"plain    \" ><span class=\"txtu cld\">a,ˈ </span></span></span></span></span></span><span class=\"plain    \" ><span class=\"plain txtu cld \"></span><span class=\"plain    \" ><span class=\"plain txtu cld \"></span><span class=\"plain    \" ><span class=\"plain txtu cld \"></span><span class=\"plain    \" ><span class=\"plain txtu cld \"></span><span class=\"plain    \" ><span class=\"txtu cld\">m</span></span><span class=\"plain    \" ><span class=\"txtu cld\">á</span></span><span class=\"plain    \" ><span class=\"txtu cld\">r</span></span><span class=\"plain    \" ><span class=\"txtu cld\">a </span></span></span></span><span class=\"plain    \" ><span class=\"plain txtu cld \"></span><span class=\"plain    \" ><span class=\"plain txtu cld \"></span><span class=\"plain    \" ><span class=\"txtu cld\">y</span></span><span class=\"plain    \" ><span class=\"txtu cld\">a-</span></span></span><span class=\"plain    \" ><span class=\"plain txtu cld \"></span><span class=\"plain    \" ><span class=\"txtu cld\">ʾ</span></span><span class=\"plain    \" ><span class=\"txtu cld\">à</span></span><span class=\"plain    \" ><span class=\"txtu cld\">l</span></span><span class=\"plain    \" ><span class=\"txtu cld\">a</span></span><span class=\"plain    \" ><span class=\"txtu cld\">h</span></span><span class=\"plain    \" ><span class=\"txtu cld\">a,ˈ </span></span></span></span></span></span><span class=\"plain    \" ><span class=\"plain txtu cld \"></span><span class=\"plain    \" ><span class=\"plain txtu cld \"></span><span class=\"plain    \" ><span class=\"plain txtu cld \"></span><span class=\"plain    \" ><span class=\"plain txtu cld \"></span><span class=\"plain    \" ><span class=\"txtu cld\">y</span></span><span class=\"plain    \" ><span class=\"txtu cld\">a</span></span><span class=\"plain    \" ><span class=\"txtu cld\">w</span></span><span class=\"plain    \" ><span class=\"txtu cld\">ə̀</span></span><span class=\"plain    \" ><span class=\"txtu cld\">t</span></span><span class=\"plain    \" ><span class=\"txtu cld\">l</span></span><span class=\"plain    \" ><span class=\"txtu cld\">iˈ </span></span></span></span></span><span class=\"plain    \" ><span class=\"plain txtu cld \"></span><span class=\"plain    \" ><span class=\"plain txtu cld \"></span><span class=\"plain    \" ><span class=\"plain txtu cld \"></span><span class=\"plain    \" ><span class=\"txtu cld\">ʾ</span></span><span class=\"plain    \" ><span class=\"txtu cld\">ə́</span></span><span class=\"plain    \" ><span class=\"txtu cld\">m</span></span><span class=\"plain    \" ><span class=\"txtu cld\">m</span></span><span class=\"plain    \" ><span class=\"txtu cld\">a </span></span></span></span><span class=\"plain    \" ><span class=\"plain txtu cld \"></span><span class=\"plain    \" ><span class=\"plain txtu cld \"></span><span class=\"plain    \" ><span class=\"txtu cld\">d</span></span><span class=\"plain    \" ><span class=\"txtu cld\">à</span></span><span class=\"plain    \" ><span class=\"txtu cld\">w</span></span><span class=\"plain    \" ><span class=\"txtu cld\">e.ˈ </span></span></span></span></span></span></span><span class=\"plain    \" ><span class=\"plain txtu cld \"></span><span class=\"plain    \" ><span class=\"plain txtu cld \"></span><span class=\"plain    \" ><span class=\"plain txtu cld \"></span><span class=\"plain    \" ><span class=\"plain txtu cld \"></span><span class=\"plain    \" ><span class=\"plain txtu cld \"></span><span class=\"plain    \" ><span class=\"txtu cld\">ʾ</span></span><span class=\"plain    \" ><span class=\"txtu cld\">ə</span></span><span class=\"plain    \" ><span class=\"txtu cld\">n-</span></span></span><span class=\"plain    \" ><span class=\"plain txtu cld \"></span><span class=\"plain    \" ><span class=\"txtu cld\">h</span></span><span class=\"plain    \" ><span class=\"txtu cld\">à</span></span><span class=\"plain    \" ><span class=\"txtu cld\">w</span></span><span class=\"plain    \" ><span class=\"txtu cld\">aˈ </span></span></span></span></span><span class=\"plain    \" ><span class=\"plain txtu cld \"></span><span class=\"plain    \" ><span class=\"plain txtu cld \"></span><span class=\"plain    \" ><span class=\"plain txtu cld \"></span><span class=\"plain    \" ><span class=\"txtu cld\">ʾ</span></span><span class=\"plain    \" ><span class=\"txtu cld\">ə́</span></span><span class=\"plain    \" ><span class=\"txtu cld\">č̣</span></span><span class=\"plain    \" ><span class=\"txtu cld\">č̣</span></span><span class=\"plain    \" ><span class=\"txtu cld\">i-</span></span></span><span class=\"plain    \" ><span class=\"plain txtu cld \"></span><span class=\"plain    \" ><span class=\"txtu cld\">u </span></span></span></span><span class=\"plain    \" ><span class=\"plain txtu cld \"></span><span class=\"plain    \" ><span class=\"plain txtu cld \"></span><span class=\"plain    \" ><span class=\"txtu cld\">ʾ</span></span><span class=\"plain    \" ><span class=\"txtu cld\">ə́</span></span><span class=\"plain    \" ><span class=\"txtu cld\">č̣</span></span><span class=\"plain    \" ><span class=\"txtu cld\">č̣</span></span><span class=\"plain    \" ><span class=\"txtu cld\">a </span></span></span></span><span class=\"plain    \" ><span class=\"plain txtu cld \"></span><span class=\"plain    \" ><span class=\"plain txtu cld \"></span><span class=\"plain    \" ><span class=\"txtu cld\">m</span></span><span class=\"plain    \" ><span class=\"txtu cld\">a</span></span><span class=\"plain    \" ><span class=\"txtu cld\">q</span></span><span class=\"plain    \" ><span class=\"txtu cld\">ə</span></span><span class=\"plain    \" ><span class=\"txtu cld\">l</span></span><span class=\"plain    \" ><span class=\"txtu cld\">b</span></span><span class=\"plain    \" ><span class=\"txtu cld\">ə̀</span></span><span class=\"plain    \" ><span class=\"txtu cld\">n</span></span><span class=\"plain    \" ><span class=\"txtu cld\">n</span></span><span class=\"plain    \" ><span class=\"txtu cld\">a.ˈ </span></span></span></span></span></span></span><span class=\"plain    \" ><span class=\"plain txtu cld \"></span><span class=\"plain    \" ><span class=\"plain txtu cld \"></span><span class=\"plain    \" ><span class=\"plain txtu cld \"></span><span class=\"plain    \" ><span class=\"plain txtu cld \"></span><span class=\"plain    \" ><span class=\"plain txtu cld \"></span><span class=\"plain    \" ><span class=\"txtu cld\">ʾ</span></span><span class=\"plain    \" ><span class=\"txtu cld\">u-</span></span></span><span class=\"plain    \" ><span class=\"plain txtu cld \"></span><span class=\"plain    \" ><span class=\"txtu cld\">ʾ</span></span><span class=\"plain    \" ><span class=\"txtu cld\">ə</span></span><span class=\"plain    \" ><span class=\"txtu cld\">n-</span></span></span><span class=\"plain    \" ><span class=\"plain txtu cld \"></span><span class=\"plain    \" ><span class=\"txtu cld\">h</span></span><span class=\"plain    \" ><span class=\"txtu cld\">à</span></span><span class=\"plain    \" ><span class=\"txtu cld\">w</span></span><span class=\"plain    \" ><span class=\"txtu cld\">aˈ </span></span></span></span></span><span class=\"plain    \" ><span class=\"plain txtu cld \"></span><span class=\"plain    \" ><span class=\"plain txtu cld \"></span><span class=\"plain    \" ><span class=\"plain txtu cld \"></span><span class=\"plain    \" ><span class=\"txtu cld\">ʾ</span></span><span class=\"plain    \" ><span class=\"txtu cld\">ə́</span></span><span class=\"plain    \" ><span class=\"txtu cld\">m</span></span><span class=\"plain    \" ><span class=\"txtu cld\">m</span></span><span class=\"plain    \" ><span class=\"txtu cld\">a-</span></span></span><span class=\"plain    \" ><span class=\"plain txtu cld \"></span><span class=\"plain    \" ><span class=\"txtu cld\">w-</span></span></span><span class=\"plain    \" ><span class=\"plain txtu cld \"></span><span class=\"plain    \" ><span class=\"txtu cld\">x</span></span><span class=\"plain    \" ><span class=\"txtu cld\">à-</span></span></span><span class=\"plain    \" ><span class=\"plain txtu cld \"></span><span class=\"plain    \" ><span class=\"txtu cld\">ž</span></span><span class=\"plain    \" ><span class=\"txtu cld\">i,ˈ </span></span></span></span></span></span><span class=\"plain    \" ><span class=\"plain txtu cld \"></span><span class=\"plain    \" ><span class=\"plain txtu cld \"></span><span class=\"plain    \" ><span class=\"plain txtu cld \"></span><span class=\"plain    \" ><span class=\"plain txtu cld \"></span><span class=\"plain    \" ><span class=\"txtu cld\">l</span></span><span class=\"plain    \" ><span class=\"txtu cld\">a-</span></span></span><span class=\"plain    \" ><span class=\"plain txtu cld \"></span><span class=\"plain    \" ><span class=\"txtu cld\">b</span></span><span class=\"plain    \" ><span class=\"txtu cld\">ă</span></span><span class=\"plain    \" ><span class=\"txtu cld\">y</span></span><span class=\"plain    \" ><span class=\"txtu cld\">ə̀</span></span><span class=\"plain    \" ><span class=\"txtu cld\">n</span></span><span class=\"plain    \" ><span class=\"txtu cld\">n</span></span><span class=\"plain    \" ><span class=\"txtu cld\">a.ˈ </span></span></span></span></span></span></span><span class=\"plain    \" ><span class=\"plain txtu cld \"></span><span class=\"plain    \" ><span class=\"plain txtu cld \"></span><span class=\"plain    \" ><span class=\"plain txtu cld \"></span><span class=\"plain    \" ><span class=\"plain txtu cld \"></span><span class=\"plain    \" ><span class=\"plain txtu cld \"></span><span class=\"plain    \" ><span class=\"txtu cld\">d</span></span><span class=\"plain    \" ><span class=\"txtu cld\">e-</span></span></span><span class=\"plain    \" ><span class=\"plain txtu cld \"></span><span class=\"plain    \" ><span class=\"txtu cld\">š</span></span><span class=\"plain    \" ><span class=\"txtu cld\">ù</span></span><span class=\"plain    \" ><span class=\"txtu cld\">q</span></span><span class=\"plain    \" ><span class=\"txtu cld\">l</span></span><span class=\"plain    \" ><span class=\"txtu cld\">a.ˈ </span></span></span></span></span></span></span><span class=\"plain    \" ><span class=\"plain txtu cld \"></span><span class=\"plain    \" ><span class=\"plain txtu cld \"></span><span class=\"plain    \" ><span class=\"plain txtu cld \"></span><span class=\"plain    \" ><span class=\"plain txtu cld \"></span><span class=\"plain    \" ><span class=\"plain txtu cld \"></span><span class=\"plain    \" ><span class=\"txtu cld\">ʾ</span></span><span class=\"plain    \" ><span class=\"txtu cld\">ə̀</span></span><span class=\"plain    \" ><span class=\"txtu cld\">m</span></span><span class=\"plain    \" ><span class=\"txtu cld\">m</span></span><span class=\"plain    \" ><span class=\"txtu cld\">a </span></span></span></span><span class=\"plain    \" ><span class=\"plain txtu cld \"></span><span class=\"plain    \" ><span class=\"plain txtu cld \"></span><span class=\"plain    \" ><span class=\"txtu cld\">g</span></span><span class=\"plain    \" ><span class=\"txtu cld\">ắ</span></span><span class=\"plain    \" ><span class=\"txtu cld\">r</span></span><span class=\"plain    \" ><span class=\"txtu cld\">ə</span></span><span class=\"plain    \" ><span class=\"txtu cld\">g </span></span></span></span><span class=\"plain    \" ><span class=\"plain txtu cld \"></span><span class=\"plain    \" ><span class=\"plain txtu cld \"></span><span class=\"plain    \" ><span class=\"txtu cld\">h</span></span><span class=\"plain    \" ><span class=\"txtu cld\">á</span></span><span class=\"plain    \" ><span class=\"txtu cld\">w</span></span><span class=\"plain    \" ><span class=\"txtu cld\">a </span></span></span></span><span class=\"plain    \" ><span class=\"plain txtu cld \"></span><span class=\"plain    \" ><span class=\"plain txtu cld \"></span><span class=\"plain    \" ><span class=\"txtu cld\">d</span></span><span class=\"plain    \" ><span class=\"txtu cld\">r</span></span><span class=\"plain    \" ><span class=\"txtu cld\">ə́</span></span><span class=\"plain    \" ><span class=\"txtu cld\">s</span></span><span class=\"plain    \" ><span class=\"txtu cld\">t.ˈ </span></span></span></span></span></span></span></span>"
      ],
      "text/plain": [
       "<IPython.core.display.HTML object>"
      ]
     },
     "metadata": {},
     "output_type": "display_data"
    },
    {
     "data": {
      "text/html": [
       "<span class=\"section ltr\"><a target=\"_blank\" href=\"0.02/Barwar/A Hundred Gold Coins.nena\" title=\"Show this title in the NENA repository\" sec=\"Barwar, A Hundred Gold Coins, Ln. 1\">Barwar, A Hundred Gold Coins, Ln. 1</a> </span><div class=\"contnr c3    \" ><div class=\"lbl c3  \"> <span class=\"txtu cld\">1</span></div> <div class=\"children row wrap \"><div class=\"children row wrap \"><div class=\"contnr c2    r \" > <div class=\"children row wrap \"><div class=\"contnr cnul trm   \" ><div class=\"children row wrap \"><div class=\"contnr c1    \" > <div class=\"children row  \"><div class=\"contnr c1    \" > <div class=\"children row  \"><div class=\"contnr c1    \" > <div class=\"children row  \"><div class=\"contnr c0 trm   \" ><div class=\"lbl c0 trm \"> <span class=\"txtu cld\">x</span></div> </div><div class=\"contnr c0 trm   \" ><div class=\"lbl c0 trm \"> <span class=\"txtu cld\">á-</span></div> </div></div></div><div class=\"contnr c1    \" > <div class=\"children row  \"><div class=\"contnr c0 trm   \" ><div class=\"lbl c0 trm \"> <span class=\"txtu cld\">g</span></div> </div><div class=\"contnr c0 trm   \" ><div class=\"lbl c0 trm \"> <span class=\"txtu cld\">a </span></div> </div></div></div></div></div><div class=\"contnr c1    \" > <div class=\"children row  \"><div class=\"contnr c1    \" > <div class=\"children row  \"><div class=\"contnr c0 trm   \" ><div class=\"lbl c0 trm \"> <span class=\"txtu cld\">x</span></div> </div><div class=\"contnr c0 trm   \" ><div class=\"lbl c0 trm \"> <span class=\"txtu cld\">è</span></div> </div><div class=\"contnr c0 trm   \" ><div class=\"lbl c0 trm \"> <span class=\"txtu cld\">t</span></div> </div><div class=\"contnr c0 trm   \" ><div class=\"lbl c0 trm \"> <span class=\"txtu cld\">a,ˈ </span></div> </div></div></div></div></div></div></div></div></div></div></div><div class=\"contnr c2    l r \" > <div class=\"children row wrap \"><div class=\"contnr cnul trm   \" ><div class=\"children row wrap \"><div class=\"contnr c1    \" > <div class=\"children row  \"><div class=\"contnr c1    \" > <div class=\"children row  \"><div class=\"contnr c1    \" > <div class=\"children row  \"><div class=\"contnr c0 trm   \" ><div class=\"lbl c0 trm \"> <span class=\"txtu cld\">m</span></div> </div><div class=\"contnr c0 trm   \" ><div class=\"lbl c0 trm \"> <span class=\"txtu cld\">á</span></div> </div><div class=\"contnr c0 trm   \" ><div class=\"lbl c0 trm \"> <span class=\"txtu cld\">l</span></div> </div><div class=\"contnr c0 trm   \" ><div class=\"lbl c0 trm \"> <span class=\"txtu cld\">l</span></div> </div><div class=\"contnr c0 trm   \" ><div class=\"lbl c0 trm \"> <span class=\"txtu cld\">a</span></div> </div><div class=\"contnr c0 trm   \" ><div class=\"lbl c0 trm \"> <span class=\"txtu cld\">h </span></div> </div></div></div></div></div><div class=\"contnr c1    \" > <div class=\"children row  \"><div class=\"contnr c1    \" > <div class=\"children row  \"><div class=\"contnr c0 trm   \" ><div class=\"lbl c0 trm \"> <span class=\"txtu cld\">N</span></div> </div><div class=\"contnr c0 trm   \" ><div class=\"lbl c0 trm \"> <span class=\"txtu cld\">a</span></div> </div><div class=\"contnr c0 trm   \" ><div class=\"lbl c0 trm \"> <span class=\"txtu cld\">ṣ</span></div> </div><div class=\"contnr c0 trm   \" ><div class=\"lbl c0 trm \"> <span class=\"txtu cld\">r</span></div> </div><div class=\"contnr c0 trm   \" ><div class=\"lbl c0 trm \"> <span class=\"txtu cld\">à</span></div> </div><div class=\"contnr c0 trm   \" ><div class=\"lbl c0 trm \"> <span class=\"txtu cld\">d</span></div> </div><div class=\"contnr c0 trm   \" ><div class=\"lbl c0 trm \"> <span class=\"txtu cld\">i</span></div> </div><div class=\"contnr c0 trm   \" ><div class=\"lbl c0 trm \"> <span class=\"txtu cld\">n,ˈ </span></div> </div></div></div></div></div></div></div></div></div></div></div><div class=\"contnr c2    l \" > <div class=\"children row wrap \"><div class=\"contnr cnul trm   \" ><div class=\"children row wrap \"><div class=\"contnr c1    \" > <div class=\"children row  \"><div class=\"contnr c1    \" > <div class=\"children row  \"><div class=\"contnr c1    \" > <div class=\"children row  \"><div class=\"contnr c0 trm   \" ><div class=\"lbl c0 trm \"> <span class=\"txtu cld\">x</span></div> </div><div class=\"contnr c0 trm   \" ><div class=\"lbl c0 trm \"> <span class=\"txtu cld\">á</span></div> </div><div class=\"contnr c0 trm   \" ><div class=\"lbl c0 trm \"> <span class=\"txtu cld\">z</span></div> </div><div class=\"contnr c0 trm   \" ><div class=\"lbl c0 trm \"> <span class=\"txtu cld\">ə</span></div> </div><div class=\"contnr c0 trm   \" ><div class=\"lbl c0 trm \"> <span class=\"txtu cld\">x </span></div> </div></div></div></div></div><div class=\"contnr c1    \" > <div class=\"children row  \"><div class=\"contnr c1    \" > <div class=\"children row  \"><div class=\"contnr c0 trm   \" ><div class=\"lbl c0 trm \"> <span class=\"txtu cld\">m</span></div> </div><div class=\"contnr c0 trm   \" ><div class=\"lbl c0 trm \"> <span class=\"txtu cld\">ò</span></div> </div><div class=\"contnr c0 trm   \" ><div class=\"lbl c0 trm \"> <span class=\"txtu cld\">d</span></div> </div><div class=\"contnr c0 trm   \" ><div class=\"lbl c0 trm \"> <span class=\"txtu cld\">i </span></div> </div></div></div></div></div><div class=\"contnr c1    \" > <div class=\"children row  \"><div class=\"contnr c1    \" > <div class=\"children row  \"><div class=\"contnr c0 trm   \" ><div class=\"lbl c0 trm \"> <span class=\"txtu cld\">w</span></div> </div><div class=\"contnr c0 trm   \" ><div class=\"lbl c0 trm \"> <span class=\"txtu cld\">í</span></div> </div><div class=\"contnr c0 trm   \" ><div class=\"lbl c0 trm \"> <span class=\"txtu cld\">ð</span></div> </div><div class=\"contnr c0 trm   \" ><div class=\"lbl c0 trm \"> <span class=\"txtu cld\">a.ˈ </span></div> </div></div></div></div></div></div></div></div></div></div></div></div><div class=\"children row wrap \"><div class=\"contnr c2    r \" > <div class=\"children row wrap \"><div class=\"contnr cnul trm   \" ><div class=\"children row wrap \"><div class=\"contnr c1    \" > <div class=\"children row  \"><div class=\"contnr c1    \" > <div class=\"children row  \"><div class=\"contnr c1    \" > <div class=\"children row  \"><div class=\"contnr c0 trm   \" ><div class=\"lbl c0 trm \"> <span class=\"txtu cld\">g</span></div> </div><div class=\"contnr c0 trm   \" ><div class=\"lbl c0 trm \"> <span class=\"txtu cld\">u-</span></div> </div></div></div><div class=\"contnr c1    \" > <div class=\"children row  \"><div class=\"contnr c0 trm   \" ><div class=\"lbl c0 trm \"> <span class=\"txtu cld\">b</span></div> </div><div class=\"contnr c0 trm   \" ><div class=\"lbl c0 trm \"> <span class=\"txtu cld\">ɛ̀</span></div> </div><div class=\"contnr c0 trm   \" ><div class=\"lbl c0 trm \"> <span class=\"txtu cld\">θ</span></div> </div><div class=\"contnr c0 trm   \" ><div class=\"lbl c0 trm \"> <span class=\"txtu cld\">a </span></div> </div></div></div></div></div><div class=\"contnr c1    \" > <div class=\"children row  \"><div class=\"contnr c1    \" > <div class=\"children row  \"><div class=\"contnr c0 trm   \" ><div class=\"lbl c0 trm \"> <span class=\"txtu cld\">w</span></div> </div><div class=\"contnr c0 trm   \" ><div class=\"lbl c0 trm \"> <span class=\"txtu cld\">é</span></div> </div><div class=\"contnr c0 trm   \" ><div class=\"lbl c0 trm \"> <span class=\"txtu cld\">w</span></div> </div><div class=\"contnr c0 trm   \" ><div class=\"lbl c0 trm \"> <span class=\"txtu cld\">a,ˈ </span></div> </div></div></div></div></div></div></div></div></div></div></div><div class=\"contnr c2    l \" > <div class=\"children row wrap \"><div class=\"contnr cnul trm   \" ><div class=\"children row wrap \"><div class=\"contnr c1    \" > <div class=\"children row  \"><div class=\"contnr c1    \" > <div class=\"children row  \"><div class=\"contnr c1    \" > <div class=\"children row  \"><div class=\"contnr c0 trm   \" ><div class=\"lbl c0 trm \"> <span class=\"txtu cld\">h</span></div> </div><div class=\"contnr c0 trm   \" ><div class=\"lbl c0 trm \"> <span class=\"txtu cld\">a</span></div> </div><div class=\"contnr c0 trm   \" ><div class=\"lbl c0 trm \"> <span class=\"txtu cld\">r-</span></div> </div></div></div><div class=\"contnr c1    \" > <div class=\"children row  \"><div class=\"contnr c0 trm   \" ><div class=\"lbl c0 trm \"> <span class=\"txtu cld\">z</span></div> </div><div class=\"contnr c0 trm   \" ><div class=\"lbl c0 trm \"> <span class=\"txtu cld\">á</span></div> </div><div class=\"contnr c0 trm   \" ><div class=\"lbl c0 trm \"> <span class=\"txtu cld\">l</span></div> </div><div class=\"contnr c0 trm   \" ><div class=\"lbl c0 trm \"> <span class=\"txtu cld\">a-</span></div> </div></div></div><div class=\"contnr c1    \" > <div class=\"children row  \"><div class=\"contnr c0 trm   \" ><div class=\"lbl c0 trm \"> <span class=\"txtu cld\">w </span></div> </div></div></div></div></div><div class=\"contnr c1    \" > <div class=\"children row  \"><div class=\"contnr c1    \" > <div class=\"children row  \"><div class=\"contnr c0 trm   \" ><div class=\"lbl c0 trm \"> <span class=\"txtu cld\">θ</span></div> </div><div class=\"contnr c0 trm   \" ><div class=\"lbl c0 trm \"> <span class=\"txtu cld\">à</span></div> </div><div class=\"contnr c0 trm   \" ><div class=\"lbl c0 trm \"> <span class=\"txtu cld\">y</span></div> </div><div class=\"contnr c0 trm   \" ><div class=\"lbl c0 trm \"> <span class=\"txtu cld\">a.ˈ </span></div> </div></div></div></div></div></div></div></div></div></div></div></div><div class=\"children row wrap \"><div class=\"contnr c2    r \" > <div class=\"children row wrap \"><div class=\"contnr cnul trm   \" ><div class=\"children row wrap \"><div class=\"contnr c1    \" > <div class=\"children row  \"><div class=\"contnr c1    \" > <div class=\"children row  \"><div class=\"contnr c1    \" > <div class=\"children row  \"><div class=\"contnr c0 trm   \" ><div class=\"lbl c0 trm \"> <span class=\"txtu cld\">z</span></div> </div><div class=\"contnr c0 trm   \" ><div class=\"lbl c0 trm \"> <span class=\"txtu cld\">á</span></div> </div><div class=\"contnr c0 trm   \" ><div class=\"lbl c0 trm \"> <span class=\"txtu cld\">l</span></div> </div><div class=\"contnr c0 trm   \" ><div class=\"lbl c0 trm \"> <span class=\"txtu cld\">a-</span></div> </div></div></div><div class=\"contnr c1    \" > <div class=\"children row  \"><div class=\"contnr c0 trm   \" ><div class=\"lbl c0 trm \"> <span class=\"txtu cld\">w </span></div> </div></div></div></div></div><div class=\"contnr c1    \" > <div class=\"children row  \"><div class=\"contnr c1    \" > <div class=\"children row  \"><div class=\"contnr c0 trm   \" ><div class=\"lbl c0 trm \"> <span class=\"txtu cld\">θ</span></div> </div><div class=\"contnr c0 trm   \" ><div class=\"lbl c0 trm \"> <span class=\"txtu cld\">à</span></div> </div><div class=\"contnr c0 trm   \" ><div class=\"lbl c0 trm \"> <span class=\"txtu cld\">y</span></div> </div><div class=\"contnr c0 trm   \" ><div class=\"lbl c0 trm \"> <span class=\"txtu cld\">a,ˈ </span></div> </div></div></div></div></div></div></div></div></div></div></div><div class=\"contnr c2    l r \" > <div class=\"children row wrap \"><div class=\"contnr cnul trm   \" ><div class=\"children row wrap \"><div class=\"contnr c1    \" > <div class=\"children row  \"><div class=\"contnr c1    \" > <div class=\"children row  \"><div class=\"contnr c1    \" > <div class=\"children row  \"><div class=\"contnr c0 trm   \" ><div class=\"lbl c0 trm \"> <span class=\"txtu cld\">m</span></div> </div><div class=\"contnr c0 trm   \" ><div class=\"lbl c0 trm \"> <span class=\"txtu cld\">á</span></div> </div><div class=\"contnr c0 trm   \" ><div class=\"lbl c0 trm \"> <span class=\"txtu cld\">r</span></div> </div><div class=\"contnr c0 trm   \" ><div class=\"lbl c0 trm \"> <span class=\"txtu cld\">a </span></div> </div></div></div></div></div><div class=\"contnr c1    \" > <div class=\"children row  \"><div class=\"contnr c1    \" > <div class=\"children row  \"><div class=\"contnr c0 trm   \" ><div class=\"lbl c0 trm \"> <span class=\"txtu cld\">y</span></div> </div><div class=\"contnr c0 trm   \" ><div class=\"lbl c0 trm \"> <span class=\"txtu cld\">a-</span></div> </div></div></div><div class=\"contnr c1    \" > <div class=\"children row  \"><div class=\"contnr c0 trm   \" ><div class=\"lbl c0 trm \"> <span class=\"txtu cld\">ʾ</span></div> </div><div class=\"contnr c0 trm   \" ><div class=\"lbl c0 trm \"> <span class=\"txtu cld\">à</span></div> </div><div class=\"contnr c0 trm   \" ><div class=\"lbl c0 trm \"> <span class=\"txtu cld\">l</span></div> </div><div class=\"contnr c0 trm   \" ><div class=\"lbl c0 trm \"> <span class=\"txtu cld\">a</span></div> </div><div class=\"contnr c0 trm   \" ><div class=\"lbl c0 trm \"> <span class=\"txtu cld\">h</span></div> </div><div class=\"contnr c0 trm   \" ><div class=\"lbl c0 trm \"> <span class=\"txtu cld\">a,ˈ </span></div> </div></div></div></div></div></div></div></div></div></div></div><div class=\"contnr c2    l \" > <div class=\"children row wrap \"><div class=\"contnr cnul trm   \" ><div class=\"children row wrap \"><div class=\"contnr c1    \" > <div class=\"children row  \"><div class=\"contnr c1    \" > <div class=\"children row  \"><div class=\"contnr c1    \" > <div class=\"children row  \"><div class=\"contnr c0 trm   \" ><div class=\"lbl c0 trm \"> <span class=\"txtu cld\">y</span></div> </div><div class=\"contnr c0 trm   \" ><div class=\"lbl c0 trm \"> <span class=\"txtu cld\">a</span></div> </div><div class=\"contnr c0 trm   \" ><div class=\"lbl c0 trm \"> <span class=\"txtu cld\">w</span></div> </div><div class=\"contnr c0 trm   \" ><div class=\"lbl c0 trm \"> <span class=\"txtu cld\">ə̀</span></div> </div><div class=\"contnr c0 trm   \" ><div class=\"lbl c0 trm \"> <span class=\"txtu cld\">t</span></div> </div><div class=\"contnr c0 trm   \" ><div class=\"lbl c0 trm \"> <span class=\"txtu cld\">l</span></div> </div><div class=\"contnr c0 trm   \" ><div class=\"lbl c0 trm \"> <span class=\"txtu cld\">iˈ </span></div> </div></div></div></div></div></div></div><div class=\"contnr c1    \" > <div class=\"children row  \"><div class=\"contnr c1    \" > <div class=\"children row  \"><div class=\"contnr c1    \" > <div class=\"children row  \"><div class=\"contnr c0 trm   \" ><div class=\"lbl c0 trm \"> <span class=\"txtu cld\">ʾ</span></div> </div><div class=\"contnr c0 trm   \" ><div class=\"lbl c0 trm \"> <span class=\"txtu cld\">ə́</span></div> </div><div class=\"contnr c0 trm   \" ><div class=\"lbl c0 trm \"> <span class=\"txtu cld\">m</span></div> </div><div class=\"contnr c0 trm   \" ><div class=\"lbl c0 trm \"> <span class=\"txtu cld\">m</span></div> </div><div class=\"contnr c0 trm   \" ><div class=\"lbl c0 trm \"> <span class=\"txtu cld\">a </span></div> </div></div></div></div></div><div class=\"contnr c1    \" > <div class=\"children row  \"><div class=\"contnr c1    \" > <div class=\"children row  \"><div class=\"contnr c0 trm   \" ><div class=\"lbl c0 trm \"> <span class=\"txtu cld\">d</span></div> </div><div class=\"contnr c0 trm   \" ><div class=\"lbl c0 trm \"> <span class=\"txtu cld\">à</span></div> </div><div class=\"contnr c0 trm   \" ><div class=\"lbl c0 trm \"> <span class=\"txtu cld\">w</span></div> </div><div class=\"contnr c0 trm   \" ><div class=\"lbl c0 trm \"> <span class=\"txtu cld\">e.ˈ </span></div> </div></div></div></div></div></div></div></div></div></div></div></div><div class=\"children row wrap \"><div class=\"contnr c2    \" > <div class=\"children row wrap \"><div class=\"contnr cnul trm   \" ><div class=\"children row wrap \"><div class=\"contnr c1    \" > <div class=\"children row  \"><div class=\"contnr c1    \" > <div class=\"children row  \"><div class=\"contnr c1    \" > <div class=\"children row  \"><div class=\"contnr c0 trm   \" ><div class=\"lbl c0 trm \"> <span class=\"txtu cld\">ʾ</span></div> </div><div class=\"contnr c0 trm   \" ><div class=\"lbl c0 trm \"> <span class=\"txtu cld\">ə</span></div> </div><div class=\"contnr c0 trm   \" ><div class=\"lbl c0 trm \"> <span class=\"txtu cld\">n-</span></div> </div></div></div><div class=\"contnr c1    \" > <div class=\"children row  \"><div class=\"contnr c0 trm   \" ><div class=\"lbl c0 trm \"> <span class=\"txtu cld\">h</span></div> </div><div class=\"contnr c0 trm   \" ><div class=\"lbl c0 trm \"> <span class=\"txtu cld\">à</span></div> </div><div class=\"contnr c0 trm   \" ><div class=\"lbl c0 trm \"> <span class=\"txtu cld\">w</span></div> </div><div class=\"contnr c0 trm   \" ><div class=\"lbl c0 trm \"> <span class=\"txtu cld\">aˈ </span></div> </div></div></div></div></div></div></div><div class=\"contnr c1    \" > <div class=\"children row  \"><div class=\"contnr c1    \" > <div class=\"children row  \"><div class=\"contnr c1    \" > <div class=\"children row  \"><div class=\"contnr c0 trm   \" ><div class=\"lbl c0 trm \"> <span class=\"txtu cld\">ʾ</span></div> </div><div class=\"contnr c0 trm   \" ><div class=\"lbl c0 trm \"> <span class=\"txtu cld\">ə́</span></div> </div><div class=\"contnr c0 trm   \" ><div class=\"lbl c0 trm \"> <span class=\"txtu cld\">č̣</span></div> </div><div class=\"contnr c0 trm   \" ><div class=\"lbl c0 trm \"> <span class=\"txtu cld\">č̣</span></div> </div><div class=\"contnr c0 trm   \" ><div class=\"lbl c0 trm \"> <span class=\"txtu cld\">i-</span></div> </div></div></div><div class=\"contnr c1    \" > <div class=\"children row  \"><div class=\"contnr c0 trm   \" ><div class=\"lbl c0 trm \"> <span class=\"txtu cld\">u </span></div> </div></div></div></div></div><div class=\"contnr c1    \" > <div class=\"children row  \"><div class=\"contnr c1    \" > <div class=\"children row  \"><div class=\"contnr c0 trm   \" ><div class=\"lbl c0 trm \"> <span class=\"txtu cld\">ʾ</span></div> </div><div class=\"contnr c0 trm   \" ><div class=\"lbl c0 trm \"> <span class=\"txtu cld\">ə́</span></div> </div><div class=\"contnr c0 trm   \" ><div class=\"lbl c0 trm \"> <span class=\"txtu cld\">č̣</span></div> </div><div class=\"contnr c0 trm   \" ><div class=\"lbl c0 trm \"> <span class=\"txtu cld\">č̣</span></div> </div><div class=\"contnr c0 trm   \" ><div class=\"lbl c0 trm \"> <span class=\"txtu cld\">a </span></div> </div></div></div></div></div><div class=\"contnr c1    \" > <div class=\"children row  \"><div class=\"contnr c1    \" > <div class=\"children row  \"><div class=\"contnr c0 trm   \" ><div class=\"lbl c0 trm \"> <span class=\"txtu cld\">m</span></div> </div><div class=\"contnr c0 trm   \" ><div class=\"lbl c0 trm \"> <span class=\"txtu cld\">a</span></div> </div><div class=\"contnr c0 trm   \" ><div class=\"lbl c0 trm \"> <span class=\"txtu cld\">q</span></div> </div><div class=\"contnr c0 trm   \" ><div class=\"lbl c0 trm \"> <span class=\"txtu cld\">ə</span></div> </div><div class=\"contnr c0 trm   \" ><div class=\"lbl c0 trm \"> <span class=\"txtu cld\">l</span></div> </div><div class=\"contnr c0 trm   \" ><div class=\"lbl c0 trm \"> <span class=\"txtu cld\">b</span></div> </div><div class=\"contnr c0 trm   \" ><div class=\"lbl c0 trm \"> <span class=\"txtu cld\">ə̀</span></div> </div><div class=\"contnr c0 trm   \" ><div class=\"lbl c0 trm \"> <span class=\"txtu cld\">n</span></div> </div><div class=\"contnr c0 trm   \" ><div class=\"lbl c0 trm \"> <span class=\"txtu cld\">n</span></div> </div><div class=\"contnr c0 trm   \" ><div class=\"lbl c0 trm \"> <span class=\"txtu cld\">a.ˈ </span></div> </div></div></div></div></div></div></div></div></div></div></div></div><div class=\"children row wrap \"><div class=\"contnr c2    r \" > <div class=\"children row wrap \"><div class=\"contnr cnul trm   \" ><div class=\"children row wrap \"><div class=\"contnr c1    \" > <div class=\"children row  \"><div class=\"contnr c1    \" > <div class=\"children row  \"><div class=\"contnr c1    \" > <div class=\"children row  \"><div class=\"contnr c0 trm   \" ><div class=\"lbl c0 trm \"> <span class=\"txtu cld\">ʾ</span></div> </div><div class=\"contnr c0 trm   \" ><div class=\"lbl c0 trm \"> <span class=\"txtu cld\">u-</span></div> </div></div></div><div class=\"contnr c1    \" > <div class=\"children row  \"><div class=\"contnr c0 trm   \" ><div class=\"lbl c0 trm \"> <span class=\"txtu cld\">ʾ</span></div> </div><div class=\"contnr c0 trm   \" ><div class=\"lbl c0 trm \"> <span class=\"txtu cld\">ə</span></div> </div><div class=\"contnr c0 trm   \" ><div class=\"lbl c0 trm \"> <span class=\"txtu cld\">n-</span></div> </div></div></div><div class=\"contnr c1    \" > <div class=\"children row  \"><div class=\"contnr c0 trm   \" ><div class=\"lbl c0 trm \"> <span class=\"txtu cld\">h</span></div> </div><div class=\"contnr c0 trm   \" ><div class=\"lbl c0 trm \"> <span class=\"txtu cld\">à</span></div> </div><div class=\"contnr c0 trm   \" ><div class=\"lbl c0 trm \"> <span class=\"txtu cld\">w</span></div> </div><div class=\"contnr c0 trm   \" ><div class=\"lbl c0 trm \"> <span class=\"txtu cld\">aˈ </span></div> </div></div></div></div></div></div></div><div class=\"contnr c1    \" > <div class=\"children row  \"><div class=\"contnr c1    \" > <div class=\"children row  \"><div class=\"contnr c1    \" > <div class=\"children row  \"><div class=\"contnr c0 trm   \" ><div class=\"lbl c0 trm \"> <span class=\"txtu cld\">ʾ</span></div> </div><div class=\"contnr c0 trm   \" ><div class=\"lbl c0 trm \"> <span class=\"txtu cld\">ə́</span></div> </div><div class=\"contnr c0 trm   \" ><div class=\"lbl c0 trm \"> <span class=\"txtu cld\">m</span></div> </div><div class=\"contnr c0 trm   \" ><div class=\"lbl c0 trm \"> <span class=\"txtu cld\">m</span></div> </div><div class=\"contnr c0 trm   \" ><div class=\"lbl c0 trm \"> <span class=\"txtu cld\">a-</span></div> </div></div></div><div class=\"contnr c1    \" > <div class=\"children row  \"><div class=\"contnr c0 trm   \" ><div class=\"lbl c0 trm \"> <span class=\"txtu cld\">w-</span></div> </div></div></div><div class=\"contnr c1    \" > <div class=\"children row  \"><div class=\"contnr c0 trm   \" ><div class=\"lbl c0 trm \"> <span class=\"txtu cld\">x</span></div> </div><div class=\"contnr c0 trm   \" ><div class=\"lbl c0 trm \"> <span class=\"txtu cld\">à-</span></div> </div></div></div><div class=\"contnr c1    \" > <div class=\"children row  \"><div class=\"contnr c0 trm   \" ><div class=\"lbl c0 trm \"> <span class=\"txtu cld\">ž</span></div> </div><div class=\"contnr c0 trm   \" ><div class=\"lbl c0 trm \"> <span class=\"txtu cld\">i,ˈ </span></div> </div></div></div></div></div></div></div></div></div></div></div><div class=\"contnr c2    l \" > <div class=\"children row wrap \"><div class=\"contnr cnul trm   \" ><div class=\"children row wrap \"><div class=\"contnr c1    \" > <div class=\"children row  \"><div class=\"contnr c1    \" > <div class=\"children row  \"><div class=\"contnr c1    \" > <div class=\"children row  \"><div class=\"contnr c0 trm   \" ><div class=\"lbl c0 trm \"> <span class=\"txtu cld\">l</span></div> </div><div class=\"contnr c0 trm   \" ><div class=\"lbl c0 trm \"> <span class=\"txtu cld\">a-</span></div> </div></div></div><div class=\"contnr c1    \" > <div class=\"children row  \"><div class=\"contnr c0 trm   \" ><div class=\"lbl c0 trm \"> <span class=\"txtu cld\">b</span></div> </div><div class=\"contnr c0 trm   \" ><div class=\"lbl c0 trm \"> <span class=\"txtu cld\">ă</span></div> </div><div class=\"contnr c0 trm   \" ><div class=\"lbl c0 trm \"> <span class=\"txtu cld\">y</span></div> </div><div class=\"contnr c0 trm   \" ><div class=\"lbl c0 trm \"> <span class=\"txtu cld\">ə̀</span></div> </div><div class=\"contnr c0 trm   \" ><div class=\"lbl c0 trm \"> <span class=\"txtu cld\">n</span></div> </div><div class=\"contnr c0 trm   \" ><div class=\"lbl c0 trm \"> <span class=\"txtu cld\">n</span></div> </div><div class=\"contnr c0 trm   \" ><div class=\"lbl c0 trm \"> <span class=\"txtu cld\">a.ˈ </span></div> </div></div></div></div></div></div></div></div></div></div></div></div><div class=\"children row wrap \"><div class=\"contnr c2    \" > <div class=\"children row wrap \"><div class=\"contnr cnul trm   \" ><div class=\"children row wrap \"><div class=\"contnr c1    \" > <div class=\"children row  \"><div class=\"contnr c1    \" > <div class=\"children row  \"><div class=\"contnr c1    \" > <div class=\"children row  \"><div class=\"contnr c0 trm   \" ><div class=\"lbl c0 trm \"> <span class=\"txtu cld\">d</span></div> </div><div class=\"contnr c0 trm   \" ><div class=\"lbl c0 trm \"> <span class=\"txtu cld\">e-</span></div> </div></div></div><div class=\"contnr c1    \" > <div class=\"children row  \"><div class=\"contnr c0 trm   \" ><div class=\"lbl c0 trm \"> <span class=\"txtu cld\">š</span></div> </div><div class=\"contnr c0 trm   \" ><div class=\"lbl c0 trm \"> <span class=\"txtu cld\">ù</span></div> </div><div class=\"contnr c0 trm   \" ><div class=\"lbl c0 trm \"> <span class=\"txtu cld\">q</span></div> </div><div class=\"contnr c0 trm   \" ><div class=\"lbl c0 trm \"> <span class=\"txtu cld\">l</span></div> </div><div class=\"contnr c0 trm   \" ><div class=\"lbl c0 trm \"> <span class=\"txtu cld\">a.ˈ </span></div> </div></div></div></div></div></div></div></div></div></div></div></div><div class=\"children row wrap \"><div class=\"contnr c2    \" > <div class=\"children row wrap \"><div class=\"contnr cnul trm   \" ><div class=\"children row wrap \"><div class=\"contnr c1    \" > <div class=\"children row  \"><div class=\"contnr c1    \" > <div class=\"children row  \"><div class=\"contnr c1    \" > <div class=\"children row  \"><div class=\"contnr c0 trm   \" ><div class=\"lbl c0 trm \"> <span class=\"txtu cld\">ʾ</span></div> </div><div class=\"contnr c0 trm   \" ><div class=\"lbl c0 trm \"> <span class=\"txtu cld\">ə̀</span></div> </div><div class=\"contnr c0 trm   \" ><div class=\"lbl c0 trm \"> <span class=\"txtu cld\">m</span></div> </div><div class=\"contnr c0 trm   \" ><div class=\"lbl c0 trm \"> <span class=\"txtu cld\">m</span></div> </div><div class=\"contnr c0 trm   \" ><div class=\"lbl c0 trm \"> <span class=\"txtu cld\">a </span></div> </div></div></div></div></div><div class=\"contnr c1    \" > <div class=\"children row  \"><div class=\"contnr c1    \" > <div class=\"children row  \"><div class=\"contnr c0 trm   \" ><div class=\"lbl c0 trm \"> <span class=\"txtu cld\">g</span></div> </div><div class=\"contnr c0 trm   \" ><div class=\"lbl c0 trm \"> <span class=\"txtu cld\">ắ</span></div> </div><div class=\"contnr c0 trm   \" ><div class=\"lbl c0 trm \"> <span class=\"txtu cld\">r</span></div> </div><div class=\"contnr c0 trm   \" ><div class=\"lbl c0 trm \"> <span class=\"txtu cld\">ə</span></div> </div><div class=\"contnr c0 trm   \" ><div class=\"lbl c0 trm \"> <span class=\"txtu cld\">g </span></div> </div></div></div></div></div><div class=\"contnr c1    \" > <div class=\"children row  \"><div class=\"contnr c1    \" > <div class=\"children row  \"><div class=\"contnr c0 trm   \" ><div class=\"lbl c0 trm \"> <span class=\"txtu cld\">h</span></div> </div><div class=\"contnr c0 trm   \" ><div class=\"lbl c0 trm \"> <span class=\"txtu cld\">á</span></div> </div><div class=\"contnr c0 trm   \" ><div class=\"lbl c0 trm \"> <span class=\"txtu cld\">w</span></div> </div><div class=\"contnr c0 trm   \" ><div class=\"lbl c0 trm \"> <span class=\"txtu cld\">a </span></div> </div></div></div></div></div><div class=\"contnr c1    \" > <div class=\"children row  \"><div class=\"contnr c1    \" > <div class=\"children row  \"><div class=\"contnr c0 trm   \" ><div class=\"lbl c0 trm \"> <span class=\"txtu cld\">d</span></div> </div><div class=\"contnr c0 trm   \" ><div class=\"lbl c0 trm \"> <span class=\"txtu cld\">r</span></div> </div><div class=\"contnr c0 trm   \" ><div class=\"lbl c0 trm \"> <span class=\"txtu cld\">ə́</span></div> </div><div class=\"contnr c0 trm   \" ><div class=\"lbl c0 trm \"> <span class=\"txtu cld\">s</span></div> </div><div class=\"contnr c0 trm   \" ><div class=\"lbl c0 trm \"> <span class=\"txtu cld\">t.ˈ </span></div> </div></div></div></div></div></div></div></div></div></div></div></div></div></div>"
      ],
      "text/plain": [
       "<IPython.core.display.HTML object>"
      ]
     },
     "metadata": {},
     "output_type": "display_data"
    },
    {
     "data": {
      "text/markdown": [
       "### sentence 578263\n"
      ],
      "text/plain": [
       "<IPython.core.display.Markdown object>"
      ]
     },
     "metadata": {},
     "output_type": "display_data"
    },
    {
     "data": {
      "text/html": [
       "<span class=\"section ltr\"><a target=\"_blank\" href=\"0.02/Barwar/A Hundred Gold Coins.nena\" title=\"Show this title in the NENA repository\" sec=\"Barwar, A Hundred Gold Coins, Ln. 1\">Barwar, A Hundred Gold Coins, Ln. 1</a> </span> <span class=\"plain outer   \" ><span class=\"plain txtu cld \"></span><span class=\"plain    \" ><span class=\"plain txtu cld \"></span><span class=\"plain    \" ><span class=\"plain txtu cld \"></span><span class=\"plain    \" ><span class=\"plain txtu cld \"></span><span class=\"plain    \" ><span class=\"plain txtu cld \"></span><span class=\"plain    \" ><span class=\"txtu cld\">x</span></span><span class=\"plain    \" ><span class=\"txtu cld\">á-</span></span></span><span class=\"plain    \" ><span class=\"plain txtu cld \"></span><span class=\"plain    \" ><span class=\"txtu cld\">g</span></span><span class=\"plain    \" ><span class=\"txtu cld\">a </span></span></span></span><span class=\"plain    \" ><span class=\"plain txtu cld \"></span><span class=\"plain    \" ><span class=\"plain txtu cld \"></span><span class=\"plain    \" ><span class=\"txtu cld\">x</span></span><span class=\"plain    \" ><span class=\"txtu cld\">è</span></span><span class=\"plain    \" ><span class=\"txtu cld\">t</span></span><span class=\"plain    \" ><span class=\"txtu cld\">a,ˈ </span></span></span></span></span></span><span class=\"plain    \" ><span class=\"plain txtu cld \"></span><span class=\"plain    \" ><span class=\"plain txtu cld \"></span><span class=\"plain    \" ><span class=\"plain txtu cld \"></span><span class=\"plain    \" ><span class=\"plain txtu cld \"></span><span class=\"plain    \" ><span class=\"txtu cld\">m</span></span><span class=\"plain    \" ><span class=\"txtu cld\">á</span></span><span class=\"plain    \" ><span class=\"txtu cld\">l</span></span><span class=\"plain    \" ><span class=\"txtu cld\">l</span></span><span class=\"plain    \" ><span class=\"txtu cld\">a</span></span><span class=\"plain    \" ><span class=\"txtu cld\">h </span></span></span></span><span class=\"plain    \" ><span class=\"plain txtu cld \"></span><span class=\"plain    \" ><span class=\"plain txtu cld \"></span><span class=\"plain    \" ><span class=\"txtu cld\">N</span></span><span class=\"plain    \" ><span class=\"txtu cld\">a</span></span><span class=\"plain    \" ><span class=\"txtu cld\">ṣ</span></span><span class=\"plain    \" ><span class=\"txtu cld\">r</span></span><span class=\"plain    \" ><span class=\"txtu cld\">à</span></span><span class=\"plain    \" ><span class=\"txtu cld\">d</span></span><span class=\"plain    \" ><span class=\"txtu cld\">i</span></span><span class=\"plain    \" ><span class=\"txtu cld\">n,ˈ </span></span></span></span></span></span><span class=\"plain    \" ><span class=\"plain txtu cld \"></span><span class=\"plain    \" ><span class=\"plain txtu cld \"></span><span class=\"plain    \" ><span class=\"plain txtu cld \"></span><span class=\"plain    \" ><span class=\"plain txtu cld \"></span><span class=\"plain    \" ><span class=\"txtu cld\">x</span></span><span class=\"plain    \" ><span class=\"txtu cld\">á</span></span><span class=\"plain    \" ><span class=\"txtu cld\">z</span></span><span class=\"plain    \" ><span class=\"txtu cld\">ə</span></span><span class=\"plain    \" ><span class=\"txtu cld\">x </span></span></span></span><span class=\"plain    \" ><span class=\"plain txtu cld \"></span><span class=\"plain    \" ><span class=\"plain txtu cld \"></span><span class=\"plain    \" ><span class=\"txtu cld\">m</span></span><span class=\"plain    \" ><span class=\"txtu cld\">ò</span></span><span class=\"plain    \" ><span class=\"txtu cld\">d</span></span><span class=\"plain    \" ><span class=\"txtu cld\">i </span></span></span></span><span class=\"plain    \" ><span class=\"plain txtu cld \"></span><span class=\"plain    \" ><span class=\"plain txtu cld \"></span><span class=\"plain    \" ><span class=\"txtu cld\">w</span></span><span class=\"plain    \" ><span class=\"txtu cld\">í</span></span><span class=\"plain    \" ><span class=\"txtu cld\">ð</span></span><span class=\"plain    \" ><span class=\"txtu cld\">a.ˈ </span></span></span></span></span></span></span>"
      ],
      "text/plain": [
       "<IPython.core.display.HTML object>"
      ]
     },
     "metadata": {},
     "output_type": "display_data"
    },
    {
     "data": {
      "text/html": [
       "<span class=\"section ltr\"><a target=\"_blank\" href=\"0.02/Barwar/A Hundred Gold Coins.nena\" title=\"Show this title in the NENA repository\" sec=\"Barwar, A Hundred Gold Coins, Ln. 1\">Barwar, A Hundred Gold Coins, Ln. 1</a> </span><div class=\"children row wrap \"><div class=\"contnr c2    r \" > <div class=\"children row wrap \"><div class=\"contnr cnul trm   \" ><div class=\"children row wrap \"><div class=\"contnr c1    \" > <div class=\"children row  \"><div class=\"contnr c1    \" > <div class=\"children row  \"><div class=\"contnr c1    \" > <div class=\"children row  \"><div class=\"contnr c0 trm   \" ><div class=\"lbl c0 trm \"> <span class=\"txtu cld\">x</span></div> </div><div class=\"contnr c0 trm   \" ><div class=\"lbl c0 trm \"> <span class=\"txtu cld\">á-</span></div> </div></div></div><div class=\"contnr c1    \" > <div class=\"children row  \"><div class=\"contnr c0 trm   \" ><div class=\"lbl c0 trm \"> <span class=\"txtu cld\">g</span></div> </div><div class=\"contnr c0 trm   \" ><div class=\"lbl c0 trm \"> <span class=\"txtu cld\">a </span></div> </div></div></div></div></div><div class=\"contnr c1    \" > <div class=\"children row  \"><div class=\"contnr c1    \" > <div class=\"children row  \"><div class=\"contnr c0 trm   \" ><div class=\"lbl c0 trm \"> <span class=\"txtu cld\">x</span></div> </div><div class=\"contnr c0 trm   \" ><div class=\"lbl c0 trm \"> <span class=\"txtu cld\">è</span></div> </div><div class=\"contnr c0 trm   \" ><div class=\"lbl c0 trm \"> <span class=\"txtu cld\">t</span></div> </div><div class=\"contnr c0 trm   \" ><div class=\"lbl c0 trm \"> <span class=\"txtu cld\">a,ˈ </span></div> </div></div></div></div></div></div></div></div></div></div></div><div class=\"contnr c2    l r \" > <div class=\"children row wrap \"><div class=\"contnr cnul trm   \" ><div class=\"children row wrap \"><div class=\"contnr c1    \" > <div class=\"children row  \"><div class=\"contnr c1    \" > <div class=\"children row  \"><div class=\"contnr c1    \" > <div class=\"children row  \"><div class=\"contnr c0 trm   \" ><div class=\"lbl c0 trm \"> <span class=\"txtu cld\">m</span></div> </div><div class=\"contnr c0 trm   \" ><div class=\"lbl c0 trm \"> <span class=\"txtu cld\">á</span></div> </div><div class=\"contnr c0 trm   \" ><div class=\"lbl c0 trm \"> <span class=\"txtu cld\">l</span></div> </div><div class=\"contnr c0 trm   \" ><div class=\"lbl c0 trm \"> <span class=\"txtu cld\">l</span></div> </div><div class=\"contnr c0 trm   \" ><div class=\"lbl c0 trm \"> <span class=\"txtu cld\">a</span></div> </div><div class=\"contnr c0 trm   \" ><div class=\"lbl c0 trm \"> <span class=\"txtu cld\">h </span></div> </div></div></div></div></div><div class=\"contnr c1    \" > <div class=\"children row  \"><div class=\"contnr c1    \" > <div class=\"children row  \"><div class=\"contnr c0 trm   \" ><div class=\"lbl c0 trm \"> <span class=\"txtu cld\">N</span></div> </div><div class=\"contnr c0 trm   \" ><div class=\"lbl c0 trm \"> <span class=\"txtu cld\">a</span></div> </div><div class=\"contnr c0 trm   \" ><div class=\"lbl c0 trm \"> <span class=\"txtu cld\">ṣ</span></div> </div><div class=\"contnr c0 trm   \" ><div class=\"lbl c0 trm \"> <span class=\"txtu cld\">r</span></div> </div><div class=\"contnr c0 trm   \" ><div class=\"lbl c0 trm \"> <span class=\"txtu cld\">à</span></div> </div><div class=\"contnr c0 trm   \" ><div class=\"lbl c0 trm \"> <span class=\"txtu cld\">d</span></div> </div><div class=\"contnr c0 trm   \" ><div class=\"lbl c0 trm \"> <span class=\"txtu cld\">i</span></div> </div><div class=\"contnr c0 trm   \" ><div class=\"lbl c0 trm \"> <span class=\"txtu cld\">n,ˈ </span></div> </div></div></div></div></div></div></div></div></div></div></div><div class=\"contnr c2    l \" > <div class=\"children row wrap \"><div class=\"contnr cnul trm   \" ><div class=\"children row wrap \"><div class=\"contnr c1    \" > <div class=\"children row  \"><div class=\"contnr c1    \" > <div class=\"children row  \"><div class=\"contnr c1    \" > <div class=\"children row  \"><div class=\"contnr c0 trm   \" ><div class=\"lbl c0 trm \"> <span class=\"txtu cld\">x</span></div> </div><div class=\"contnr c0 trm   \" ><div class=\"lbl c0 trm \"> <span class=\"txtu cld\">á</span></div> </div><div class=\"contnr c0 trm   \" ><div class=\"lbl c0 trm \"> <span class=\"txtu cld\">z</span></div> </div><div class=\"contnr c0 trm   \" ><div class=\"lbl c0 trm \"> <span class=\"txtu cld\">ə</span></div> </div><div class=\"contnr c0 trm   \" ><div class=\"lbl c0 trm \"> <span class=\"txtu cld\">x </span></div> </div></div></div></div></div><div class=\"contnr c1    \" > <div class=\"children row  \"><div class=\"contnr c1    \" > <div class=\"children row  \"><div class=\"contnr c0 trm   \" ><div class=\"lbl c0 trm \"> <span class=\"txtu cld\">m</span></div> </div><div class=\"contnr c0 trm   \" ><div class=\"lbl c0 trm \"> <span class=\"txtu cld\">ò</span></div> </div><div class=\"contnr c0 trm   \" ><div class=\"lbl c0 trm \"> <span class=\"txtu cld\">d</span></div> </div><div class=\"contnr c0 trm   \" ><div class=\"lbl c0 trm \"> <span class=\"txtu cld\">i </span></div> </div></div></div></div></div><div class=\"contnr c1    \" > <div class=\"children row  \"><div class=\"contnr c1    \" > <div class=\"children row  \"><div class=\"contnr c0 trm   \" ><div class=\"lbl c0 trm \"> <span class=\"txtu cld\">w</span></div> </div><div class=\"contnr c0 trm   \" ><div class=\"lbl c0 trm \"> <span class=\"txtu cld\">í</span></div> </div><div class=\"contnr c0 trm   \" ><div class=\"lbl c0 trm \"> <span class=\"txtu cld\">ð</span></div> </div><div class=\"contnr c0 trm   \" ><div class=\"lbl c0 trm \"> <span class=\"txtu cld\">a.ˈ </span></div> </div></div></div></div></div></div></div></div></div></div></div></div>"
      ],
      "text/plain": [
       "<IPython.core.display.HTML object>"
      ]
     },
     "metadata": {},
     "output_type": "display_data"
    },
    {
     "data": {
      "text/markdown": [
       "### subsentence 688732\n"
      ],
      "text/plain": [
       "<IPython.core.display.Markdown object>"
      ]
     },
     "metadata": {},
     "output_type": "display_data"
    },
    {
     "data": {
      "text/html": [
       "<span class=\"section ltr\"><a target=\"_blank\" href=\"0.02/Barwar/A Hundred Gold Coins.nena\" title=\"Show this title in the NENA repository\" sec=\"Barwar, A Hundred Gold Coins, Ln. 1\">Barwar, A Hundred Gold Coins, Ln. 1</a> </span> <span class=\"plain outer   \" ><span class=\"plain txtu cld \"></span><span class=\"plain    \" ><span class=\"plain txtu cld \"></span><span class=\"plain    \" ><span class=\"plain txtu cld \"></span><span class=\"plain    \" ><span class=\"plain txtu cld \"></span><span class=\"plain    \" ><span class=\"txtu cld\">x</span></span><span class=\"plain    \" ><span class=\"txtu cld\">á-</span></span></span><span class=\"plain    \" ><span class=\"plain txtu cld \"></span><span class=\"plain    \" ><span class=\"txtu cld\">g</span></span><span class=\"plain    \" ><span class=\"txtu cld\">a </span></span></span></span><span class=\"plain    \" ><span class=\"plain txtu cld \"></span><span class=\"plain    \" ><span class=\"plain txtu cld \"></span><span class=\"plain    \" ><span class=\"txtu cld\">x</span></span><span class=\"plain    \" ><span class=\"txtu cld\">è</span></span><span class=\"plain    \" ><span class=\"txtu cld\">t</span></span><span class=\"plain    \" ><span class=\"txtu cld\">a,ˈ </span></span></span></span></span></span>"
      ],
      "text/plain": [
       "<IPython.core.display.HTML object>"
      ]
     },
     "metadata": {},
     "output_type": "display_data"
    },
    {
     "data": {
      "text/html": [
       "<span class=\"section ltr\"><a target=\"_blank\" href=\"0.02/Barwar/A Hundred Gold Coins.nena\" title=\"Show this title in the NENA repository\" sec=\"Barwar, A Hundred Gold Coins, Ln. 1\">Barwar, A Hundred Gold Coins, Ln. 1</a> </span><div class=\"contnr cnul trm   \" ><div class=\"children row wrap \"><div class=\"contnr c1    \" > <div class=\"children row  \"><div class=\"contnr c1    \" > <div class=\"children row  \"><div class=\"contnr c1    \" > <div class=\"children row  \"><div class=\"contnr c0 trm   \" ><div class=\"lbl c0 trm \"> <span class=\"txtu cld\">x</span></div> </div><div class=\"contnr c0 trm   \" ><div class=\"lbl c0 trm \"> <span class=\"txtu cld\">á-</span></div> </div></div></div><div class=\"contnr c1    \" > <div class=\"children row  \"><div class=\"contnr c0 trm   \" ><div class=\"lbl c0 trm \"> <span class=\"txtu cld\">g</span></div> </div><div class=\"contnr c0 trm   \" ><div class=\"lbl c0 trm \"> <span class=\"txtu cld\">a </span></div> </div></div></div></div></div><div class=\"contnr c1    \" > <div class=\"children row  \"><div class=\"contnr c1    \" > <div class=\"children row  \"><div class=\"contnr c0 trm   \" ><div class=\"lbl c0 trm \"> <span class=\"txtu cld\">x</span></div> </div><div class=\"contnr c0 trm   \" ><div class=\"lbl c0 trm \"> <span class=\"txtu cld\">è</span></div> </div><div class=\"contnr c0 trm   \" ><div class=\"lbl c0 trm \"> <span class=\"txtu cld\">t</span></div> </div><div class=\"contnr c0 trm   \" ><div class=\"lbl c0 trm \"> <span class=\"txtu cld\">a,ˈ </span></div> </div></div></div></div></div></div></div></div></div>"
      ],
      "text/plain": [
       "<IPython.core.display.HTML object>"
      ]
     },
     "metadata": {},
     "output_type": "display_data"
    },
    {
     "data": {
      "text/markdown": [
       "### inton 539384\n"
      ],
      "text/plain": [
       "<IPython.core.display.Markdown object>"
      ]
     },
     "metadata": {},
     "output_type": "display_data"
    },
    {
     "data": {
      "text/html": [
       "<span class=\"section ltr\"><a target=\"_blank\" href=\"0.02/Barwar/A Hundred Gold Coins.nena\" title=\"Show this title in the NENA repository\" sec=\"Barwar, A Hundred Gold Coins, Ln. 1\">Barwar, A Hundred Gold Coins, Ln. 1</a> </span> <span class=\"plain outer   \" ><span class=\"plain txtu cld \"></span><span class=\"plain    \" ><span class=\"plain txtu cld \"></span><span class=\"plain    \" ><span class=\"plain txtu cld \"></span><span class=\"plain    \" ><span class=\"txtu cld\">x</span></span><span class=\"plain    \" ><span class=\"txtu cld\">á-</span></span></span><span class=\"plain    \" ><span class=\"plain txtu cld \"></span><span class=\"plain    \" ><span class=\"txtu cld\">g</span></span><span class=\"plain    \" ><span class=\"txtu cld\">a </span></span></span></span><span class=\"plain    \" ><span class=\"plain txtu cld \"></span><span class=\"plain    \" ><span class=\"plain txtu cld \"></span><span class=\"plain    \" ><span class=\"txtu cld\">x</span></span><span class=\"plain    \" ><span class=\"txtu cld\">è</span></span><span class=\"plain    \" ><span class=\"txtu cld\">t</span></span><span class=\"plain    \" ><span class=\"txtu cld\">a,ˈ </span></span></span></span></span>"
      ],
      "text/plain": [
       "<IPython.core.display.HTML object>"
      ]
     },
     "metadata": {},
     "output_type": "display_data"
    },
    {
     "data": {
      "text/html": [
       "<span class=\"section ltr\"><a target=\"_blank\" href=\"0.02/Barwar/A Hundred Gold Coins.nena\" title=\"Show this title in the NENA repository\" sec=\"Barwar, A Hundred Gold Coins, Ln. 1\">Barwar, A Hundred Gold Coins, Ln. 1</a> </span><div class=\"contnr c1    \" > <div class=\"children row  \"><div class=\"contnr c1    \" > <div class=\"children row  \"><div class=\"contnr c1    \" > <div class=\"children row  \"><div class=\"contnr c0 trm   \" ><div class=\"lbl c0 trm \"> <span class=\"txtu cld\">x</span></div> </div><div class=\"contnr c0 trm   \" ><div class=\"lbl c0 trm \"> <span class=\"txtu cld\">á-</span></div> </div></div></div><div class=\"contnr c1    \" > <div class=\"children row  \"><div class=\"contnr c0 trm   \" ><div class=\"lbl c0 trm \"> <span class=\"txtu cld\">g</span></div> </div><div class=\"contnr c0 trm   \" ><div class=\"lbl c0 trm \"> <span class=\"txtu cld\">a </span></div> </div></div></div></div></div><div class=\"contnr c1    \" > <div class=\"children row  \"><div class=\"contnr c1    \" > <div class=\"children row  \"><div class=\"contnr c0 trm   \" ><div class=\"lbl c0 trm \"> <span class=\"txtu cld\">x</span></div> </div><div class=\"contnr c0 trm   \" ><div class=\"lbl c0 trm \"> <span class=\"txtu cld\">è</span></div> </div><div class=\"contnr c0 trm   \" ><div class=\"lbl c0 trm \"> <span class=\"txtu cld\">t</span></div> </div><div class=\"contnr c0 trm   \" ><div class=\"lbl c0 trm \"> <span class=\"txtu cld\">a,ˈ </span></div> </div></div></div></div></div></div></div>"
      ],
      "text/plain": [
       "<IPython.core.display.HTML object>"
      ]
     },
     "metadata": {},
     "output_type": "display_data"
    },
    {
     "data": {
      "text/markdown": [
       "### stress 594970\n"
      ],
      "text/plain": [
       "<IPython.core.display.Markdown object>"
      ]
     },
     "metadata": {},
     "output_type": "display_data"
    },
    {
     "data": {
      "text/html": [
       "<span class=\"section ltr\"><a target=\"_blank\" href=\"0.02/Barwar/A Hundred Gold Coins.nena\" title=\"Show this title in the NENA repository\" sec=\"Barwar, A Hundred Gold Coins, Ln. 1\">Barwar, A Hundred Gold Coins, Ln. 1</a> </span> <span class=\"plain outer   \" ><span class=\"plain txtu cld \"></span><span class=\"plain    \" ><span class=\"plain txtu cld \"></span><span class=\"plain    \" ><span class=\"txtu cld\">x</span></span><span class=\"plain    \" ><span class=\"txtu cld\">á-</span></span></span><span class=\"plain    \" ><span class=\"plain txtu cld \"></span><span class=\"plain    \" ><span class=\"txtu cld\">g</span></span><span class=\"plain    \" ><span class=\"txtu cld\">a </span></span></span></span>"
      ],
      "text/plain": [
       "<IPython.core.display.HTML object>"
      ]
     },
     "metadata": {},
     "output_type": "display_data"
    },
    {
     "data": {
      "text/html": [
       "<span class=\"section ltr\"><a target=\"_blank\" href=\"0.02/Barwar/A Hundred Gold Coins.nena\" title=\"Show this title in the NENA repository\" sec=\"Barwar, A Hundred Gold Coins, Ln. 1\">Barwar, A Hundred Gold Coins, Ln. 1</a> </span><div class=\"contnr c1    \" > <div class=\"children row  \"><div class=\"contnr c1    \" > <div class=\"children row  \"><div class=\"contnr c0 trm   \" ><div class=\"lbl c0 trm \"> <span class=\"txtu cld\">x</span></div> </div><div class=\"contnr c0 trm   \" ><div class=\"lbl c0 trm \"> <span class=\"txtu cld\">á-</span></div> </div></div></div><div class=\"contnr c1    \" > <div class=\"children row  \"><div class=\"contnr c0 trm   \" ><div class=\"lbl c0 trm \"> <span class=\"txtu cld\">g</span></div> </div><div class=\"contnr c0 trm   \" ><div class=\"lbl c0 trm \"> <span class=\"txtu cld\">a </span></div> </div></div></div></div></div>"
      ],
      "text/plain": [
       "<IPython.core.display.HTML object>"
      ]
     },
     "metadata": {},
     "output_type": "display_data"
    },
    {
     "data": {
      "text/markdown": [
       "### word 713385\n"
      ],
      "text/plain": [
       "<IPython.core.display.Markdown object>"
      ]
     },
     "metadata": {},
     "output_type": "display_data"
    },
    {
     "data": {
      "text/html": [
       "<span class=\"section ltr\"><a target=\"_blank\" href=\"0.02/Barwar/A Hundred Gold Coins.nena\" title=\"Show this title in the NENA repository\" sec=\"Barwar, A Hundred Gold Coins, Ln. 1\">Barwar, A Hundred Gold Coins, Ln. 1</a> </span> <span class=\"plain outer   \" ><span class=\"plain txtu cld \"></span><span class=\"plain    \" ><span class=\"txtu cld\">x</span></span><span class=\"plain    \" ><span class=\"txtu cld\">á-</span></span></span>"
      ],
      "text/plain": [
       "<IPython.core.display.HTML object>"
      ]
     },
     "metadata": {},
     "output_type": "display_data"
    },
    {
     "data": {
      "text/html": [
       "<span class=\"section ltr\"><a target=\"_blank\" href=\"0.02/Barwar/A Hundred Gold Coins.nena\" title=\"Show this title in the NENA repository\" sec=\"Barwar, A Hundred Gold Coins, Ln. 1\">Barwar, A Hundred Gold Coins, Ln. 1</a> </span><div class=\"contnr c1    \" > <div class=\"children row  \"><div class=\"contnr c0 trm   \" ><div class=\"lbl c0 trm \"> <span class=\"txtu cld\">x</span></div> </div><div class=\"contnr c0 trm   \" ><div class=\"lbl c0 trm \"> <span class=\"txtu cld\">á-</span></div> </div></div></div>"
      ],
      "text/plain": [
       "<IPython.core.display.HTML object>"
      ]
     },
     "metadata": {},
     "output_type": "display_data"
    },
    {
     "data": {
      "text/markdown": [
       "### letter 1\n"
      ],
      "text/plain": [
       "<IPython.core.display.Markdown object>"
      ]
     },
     "metadata": {},
     "output_type": "display_data"
    },
    {
     "data": {
      "text/html": [
       "<span class=\"section ltr\"><a target=\"_blank\" href=\"0.02/Barwar/A Hundred Gold Coins.nena\" title=\"Show this title in the NENA repository\" sec=\"Barwar, A Hundred Gold Coins, Ln. 1\">Barwar, A Hundred Gold Coins, Ln. 1</a> </span> <span class=\"plain outer   \" ><span class=\"txtu cld\">x</span></span>"
      ],
      "text/plain": [
       "<IPython.core.display.HTML object>"
      ]
     },
     "metadata": {},
     "output_type": "display_data"
    },
    {
     "data": {
      "text/html": [
       "<span class=\"section ltr\"><a target=\"_blank\" href=\"0.02/Barwar/A Hundred Gold Coins.nena\" title=\"Show this title in the NENA repository\" sec=\"Barwar, A Hundred Gold Coins, Ln. 1\">Barwar, A Hundred Gold Coins, Ln. 1</a> </span><div class=\"contnr c0 trm   \" ><div class=\"lbl c0 trm \"> <span class=\"txtu cld\">x</span></div> </div>"
      ],
      "text/plain": [
       "<IPython.core.display.HTML object>"
      ]
     },
     "metadata": {},
     "output_type": "display_data"
    }
   ],
   "source": [
    "typeShow(A, showFeatures=False, prettyTypes=False, baseTypes=set())"
   ]
  },
  {
   "cell_type": "code",
   "execution_count": 19,
   "metadata": {},
   "outputs": [
    {
     "data": {
      "text/markdown": [
       "### dialect 539382\n"
      ],
      "text/plain": [
       "<IPython.core.display.Markdown object>"
      ]
     },
     "metadata": {},
     "output_type": "display_data"
    },
    {
     "data": {
      "text/html": [
       "<span class=\"section ltr\"><a target=\"_blank\" href=\"0.02/Barwar/A Hundred Gold Coins.nena\" title=\"Show this title in the NENA repository\" sec=\"Barwar\">Barwar</a> </span> <span class=\"plain outer   \" ><span class=\"plain txtu cld \"><span class=\"section\"> </span></span></span>"
      ],
      "text/plain": [
       "<IPython.core.display.HTML object>"
      ]
     },
     "metadata": {},
     "output_type": "display_data"
    },
    {
     "data": {
      "text/html": [
       "<span class=\"section ltr\"><a target=\"_blank\" href=\"0.02/Barwar/A Hundred Gold Coins.nena\" title=\"Show this title in the NENA repository\" sec=\"Barwar\">Barwar</a> </span><div class=\"contnr c4 trm   \" ><div class=\"lbl c4 trm \"><span class=\"nd\">dialect</span> <span class=\"txtu cld\">Barwar</span></div> </div>"
      ],
      "text/plain": [
       "<IPython.core.display.HTML object>"
      ]
     },
     "metadata": {},
     "output_type": "display_data"
    },
    {
     "data": {
      "text/markdown": [
       "### text 713259\n"
      ],
      "text/plain": [
       "<IPython.core.display.Markdown object>"
      ]
     },
     "metadata": {},
     "output_type": "display_data"
    },
    {
     "data": {
      "text/html": [
       "<span class=\"section ltr\"><a target=\"_blank\" href=\"0.02/Barwar/A Hundred Gold Coins.nena\" title=\"Show this title in the NENA repository\" sec=\"Barwar, A Hundred Gold Coins\">Barwar, A Hundred Gold Coins</a> </span> <span class=\"plain outer   \" ><span class=\"plain txtu cld \"><span class=\"section\"> </span></span></span>"
      ],
      "text/plain": [
       "<IPython.core.display.HTML object>"
      ]
     },
     "metadata": {},
     "output_type": "display_data"
    },
    {
     "data": {
      "text/html": [
       "<span class=\"section ltr\"><a target=\"_blank\" href=\"0.02/Barwar/A Hundred Gold Coins.nena\" title=\"Show this title in the NENA repository\" sec=\"Barwar, A Hundred Gold Coins\">Barwar, A Hundred Gold Coins</a> </span><div class=\"contnr c4 trm   \" ><div class=\"lbl c4 trm \"><span class=\"nd\">text</span> <span class=\"txtu cld\">A6</span></div> <div class='features'><span class=\"informant \">Yuwəl Yuḥanna</span><span class=\"title \"><span class=\"f\">title=</span>A Hundred Gold Coins</span><span class=\"place \"><span class=\"f\">place=</span>Dure</span></div></div>"
      ],
      "text/plain": [
       "<IPython.core.display.HTML object>"
      ]
     },
     "metadata": {},
     "output_type": "display_data"
    },
    {
     "data": {
      "text/markdown": [
       "### paragraph 577912\n"
      ],
      "text/plain": [
       "<IPython.core.display.Markdown object>"
      ]
     },
     "metadata": {},
     "output_type": "display_data"
    },
    {
     "data": {
      "text/html": [
       "<span class=\"section ltr\"><a target=\"_blank\" href=\"0.02/Barwar/A Hundred Gold Coins.nena\" title=\"Show this title in the NENA repository\" sec=\"Barwar, A Hundred Gold Coins, Ln. 1\">Barwar, A Hundred Gold Coins, Ln. 1</a> </span> <span class=\"plain outer   \" ><span class=\"plain txtu cld \"></span></span>"
      ],
      "text/plain": [
       "<IPython.core.display.HTML object>"
      ]
     },
     "metadata": {},
     "output_type": "display_data"
    },
    {
     "data": {
      "text/html": [
       "<span class=\"section ltr\"><a target=\"_blank\" href=\"0.02/Barwar/A Hundred Gold Coins.nena\" title=\"Show this title in the NENA repository\" sec=\"Barwar, A Hundred Gold Coins, Ln. 1\">Barwar, A Hundred Gold Coins, Ln. 1</a> </span><div class=\"contnr c2 trm   \" ><div class=\"lbl c2 trm \"><span class=\"nd\">paragraph</span> <span class=\"txtu cld\">1</span></div> </div>"
      ],
      "text/plain": [
       "<IPython.core.display.HTML object>"
      ]
     },
     "metadata": {},
     "output_type": "display_data"
    },
    {
     "data": {
      "text/markdown": [
       "### line 575368\n"
      ],
      "text/plain": [
       "<IPython.core.display.Markdown object>"
      ]
     },
     "metadata": {},
     "output_type": "display_data"
    },
    {
     "data": {
      "text/html": [
       "<span class=\"section ltr\"><a target=\"_blank\" href=\"0.02/Barwar/A Hundred Gold Coins.nena\" title=\"Show this title in the NENA repository\" sec=\"Barwar, A Hundred Gold Coins, Ln. 1\">Barwar, A Hundred Gold Coins, Ln. 1</a> </span> <span class=\"plain outer   \" ><span class=\"plain txtu cld \"></span><span class=\"plain    \" ><span class=\"plain txtu cld \"></span><span class=\"plain    \" ><span class=\"plain txtu cld \"></span><span class=\"plain    \" ><span class=\"plain txtu cld \"></span><span class=\"plain    \" ><span class=\"plain txtu cld \"></span><span class=\"plain    \" ><span class=\"plain txtu cld \"></span><span class=\"plain    \" ><span class=\"txtu cld\">x</span></span><span class=\"plain    \" ><span class=\"txtu cld\">á-</span></span></span><span class=\"plain    \" ><span class=\"plain txtu cld \"></span><span class=\"plain    \" ><span class=\"txtu cld\">g</span></span><span class=\"plain    \" ><span class=\"txtu cld\">a </span></span></span></span><span class=\"plain    \" ><span class=\"plain txtu cld \"></span><span class=\"plain    \" ><span class=\"plain txtu cld \"></span><span class=\"plain    \" ><span class=\"txtu cld\">x</span></span><span class=\"plain    \" ><span class=\"txtu cld\">è</span></span><span class=\"plain    \" ><span class=\"txtu cld\">t</span></span><span class=\"plain    \" ><span class=\"txtu cld\">a,ˈ </span></span></span></span></span></span><span class=\"plain    \" ><span class=\"plain txtu cld \"></span><span class=\"plain    \" ><span class=\"plain txtu cld \"></span><span class=\"plain    \" ><span class=\"plain txtu cld \"></span><span class=\"plain    \" ><span class=\"plain txtu cld \"></span><span class=\"plain    \" ><span class=\"txtu cld\">m</span></span><span class=\"plain    \" ><span class=\"txtu cld\">á</span></span><span class=\"plain    \" ><span class=\"txtu cld\">l</span></span><span class=\"plain    \" ><span class=\"txtu cld\">l</span></span><span class=\"plain    \" ><span class=\"txtu cld\">a</span></span><span class=\"plain    \" ><span class=\"txtu cld\">h </span></span></span></span><span class=\"plain    \" ><span class=\"plain txtu cld \"></span><span class=\"plain    \" ><span class=\"plain txtu cld \"></span><span class=\"plain    \" ><span class=\"txtu cld\">N</span></span><span class=\"plain    \" ><span class=\"txtu cld\">a</span></span><span class=\"plain    \" ><span class=\"txtu cld\">ṣ</span></span><span class=\"plain    \" ><span class=\"txtu cld\">r</span></span><span class=\"plain    \" ><span class=\"txtu cld\">à</span></span><span class=\"plain    \" ><span class=\"txtu cld\">d</span></span><span class=\"plain    \" ><span class=\"txtu cld\">i</span></span><span class=\"plain    \" ><span class=\"txtu cld\">n,ˈ </span></span></span></span></span></span><span class=\"plain    \" ><span class=\"plain txtu cld \"></span><span class=\"plain    \" ><span class=\"plain txtu cld \"></span><span class=\"plain    \" ><span class=\"plain txtu cld \"></span><span class=\"plain    \" ><span class=\"plain txtu cld \"></span><span class=\"plain    \" ><span class=\"txtu cld\">x</span></span><span class=\"plain    \" ><span class=\"txtu cld\">á</span></span><span class=\"plain    \" ><span class=\"txtu cld\">z</span></span><span class=\"plain    \" ><span class=\"txtu cld\">ə</span></span><span class=\"plain    \" ><span class=\"txtu cld\">x </span></span></span></span><span class=\"plain    \" ><span class=\"plain txtu cld \"></span><span class=\"plain    \" ><span class=\"plain txtu cld \"></span><span class=\"plain    \" ><span class=\"txtu cld\">m</span></span><span class=\"plain    \" ><span class=\"txtu cld\">ò</span></span><span class=\"plain    \" ><span class=\"txtu cld\">d</span></span><span class=\"plain    \" ><span class=\"txtu cld\">i </span></span></span></span><span class=\"plain    \" ><span class=\"plain txtu cld \"></span><span class=\"plain    \" ><span class=\"plain txtu cld \"></span><span class=\"plain    \" ><span class=\"txtu cld\">w</span></span><span class=\"plain    \" ><span class=\"txtu cld\">í</span></span><span class=\"plain    \" ><span class=\"txtu cld\">ð</span></span><span class=\"plain    \" ><span class=\"txtu cld\">a.ˈ </span></span></span></span></span></span></span><span class=\"plain    \" ><span class=\"plain txtu cld \"></span><span class=\"plain    \" ><span class=\"plain txtu cld \"></span><span class=\"plain    \" ><span class=\"plain txtu cld \"></span><span class=\"plain    \" ><span class=\"plain txtu cld \"></span><span class=\"plain    \" ><span class=\"plain txtu cld \"></span><span class=\"plain    \" ><span class=\"txtu cld\">g</span></span><span class=\"plain    \" ><span class=\"txtu cld\">u-</span></span></span><span class=\"plain    \" ><span class=\"plain txtu cld \"></span><span class=\"plain    \" ><span class=\"txtu cld\">b</span></span><span class=\"plain    \" ><span class=\"txtu cld\">ɛ̀</span></span><span class=\"plain    \" ><span class=\"txtu cld\">θ</span></span><span class=\"plain    \" ><span class=\"txtu cld\">a </span></span></span></span><span class=\"plain    \" ><span class=\"plain txtu cld \"></span><span class=\"plain    \" ><span class=\"plain txtu cld \"></span><span class=\"plain    \" ><span class=\"txtu cld\">w</span></span><span class=\"plain    \" ><span class=\"txtu cld\">é</span></span><span class=\"plain    \" ><span class=\"txtu cld\">w</span></span><span class=\"plain    \" ><span class=\"txtu cld\">a,ˈ </span></span></span></span></span></span><span class=\"plain    \" ><span class=\"plain txtu cld \"></span><span class=\"plain    \" ><span class=\"plain txtu cld \"></span><span class=\"plain    \" ><span class=\"plain txtu cld \"></span><span class=\"plain    \" ><span class=\"plain txtu cld \"></span><span class=\"plain    \" ><span class=\"txtu cld\">h</span></span><span class=\"plain    \" ><span class=\"txtu cld\">a</span></span><span class=\"plain    \" ><span class=\"txtu cld\">r-</span></span></span><span class=\"plain    \" ><span class=\"plain txtu cld \"></span><span class=\"plain    \" ><span class=\"txtu cld\">z</span></span><span class=\"plain    \" ><span class=\"txtu cld\">á</span></span><span class=\"plain    \" ><span class=\"txtu cld\">l</span></span><span class=\"plain    \" ><span class=\"txtu cld\">a-</span></span></span><span class=\"plain    \" ><span class=\"plain txtu cld \"></span><span class=\"plain    \" ><span class=\"txtu cld\">w </span></span></span></span><span class=\"plain    \" ><span class=\"plain txtu cld \"></span><span class=\"plain    \" ><span class=\"plain txtu cld \"></span><span class=\"plain    \" ><span class=\"txtu cld\">θ</span></span><span class=\"plain    \" ><span class=\"txtu cld\">à</span></span><span class=\"plain    \" ><span class=\"txtu cld\">y</span></span><span class=\"plain    \" ><span class=\"txtu cld\">a.ˈ </span></span></span></span></span></span></span><span class=\"plain    \" ><span class=\"plain txtu cld \"></span><span class=\"plain    \" ><span class=\"plain txtu cld \"></span><span class=\"plain    \" ><span class=\"plain txtu cld \"></span><span class=\"plain    \" ><span class=\"plain txtu cld \"></span><span class=\"plain    \" ><span class=\"plain txtu cld \"></span><span class=\"plain    \" ><span class=\"txtu cld\">z</span></span><span class=\"plain    \" ><span class=\"txtu cld\">á</span></span><span class=\"plain    \" ><span class=\"txtu cld\">l</span></span><span class=\"plain    \" ><span class=\"txtu cld\">a-</span></span></span><span class=\"plain    \" ><span class=\"plain txtu cld \"></span><span class=\"plain    \" ><span class=\"txtu cld\">w </span></span></span></span><span class=\"plain    \" ><span class=\"plain txtu cld \"></span><span class=\"plain    \" ><span class=\"plain txtu cld \"></span><span class=\"plain    \" ><span class=\"txtu cld\">θ</span></span><span class=\"plain    \" ><span class=\"txtu cld\">à</span></span><span class=\"plain    \" ><span class=\"txtu cld\">y</span></span><span class=\"plain    \" ><span class=\"txtu cld\">a,ˈ </span></span></span></span></span></span><span class=\"plain    \" ><span class=\"plain txtu cld \"></span><span class=\"plain    \" ><span class=\"plain txtu cld \"></span><span class=\"plain    \" ><span class=\"plain txtu cld \"></span><span class=\"plain    \" ><span class=\"plain txtu cld \"></span><span class=\"plain    \" ><span class=\"txtu cld\">m</span></span><span class=\"plain    \" ><span class=\"txtu cld\">á</span></span><span class=\"plain    \" ><span class=\"txtu cld\">r</span></span><span class=\"plain    \" ><span class=\"txtu cld\">a </span></span></span></span><span class=\"plain    \" ><span class=\"plain txtu cld \"></span><span class=\"plain    \" ><span class=\"plain txtu cld \"></span><span class=\"plain    \" ><span class=\"txtu cld\">y</span></span><span class=\"plain    \" ><span class=\"txtu cld\">a-</span></span></span><span class=\"plain    \" ><span class=\"plain txtu cld \"></span><span class=\"plain    \" ><span class=\"txtu cld\">ʾ</span></span><span class=\"plain    \" ><span class=\"txtu cld\">à</span></span><span class=\"plain    \" ><span class=\"txtu cld\">l</span></span><span class=\"plain    \" ><span class=\"txtu cld\">a</span></span><span class=\"plain    \" ><span class=\"txtu cld\">h</span></span><span class=\"plain    \" ><span class=\"txtu cld\">a,ˈ </span></span></span></span></span></span><span class=\"plain    \" ><span class=\"plain txtu cld \"></span><span class=\"plain    \" ><span class=\"plain txtu cld \"></span><span class=\"plain    \" ><span class=\"plain txtu cld \"></span><span class=\"plain    \" ><span class=\"plain txtu cld \"></span><span class=\"plain    \" ><span class=\"txtu cld\">y</span></span><span class=\"plain    \" ><span class=\"txtu cld\">a</span></span><span class=\"plain    \" ><span class=\"txtu cld\">w</span></span><span class=\"plain    \" ><span class=\"txtu cld\">ə̀</span></span><span class=\"plain    \" ><span class=\"txtu cld\">t</span></span><span class=\"plain    \" ><span class=\"txtu cld\">l</span></span><span class=\"plain    \" ><span class=\"txtu cld\">iˈ </span></span></span></span></span><span class=\"plain    \" ><span class=\"plain txtu cld \"></span><span class=\"plain    \" ><span class=\"plain txtu cld \"></span><span class=\"plain    \" ><span class=\"plain txtu cld \"></span><span class=\"plain    \" ><span class=\"txtu cld\">ʾ</span></span><span class=\"plain    \" ><span class=\"txtu cld\">ə́</span></span><span class=\"plain    \" ><span class=\"txtu cld\">m</span></span><span class=\"plain    \" ><span class=\"txtu cld\">m</span></span><span class=\"plain    \" ><span class=\"txtu cld\">a </span></span></span></span><span class=\"plain    \" ><span class=\"plain txtu cld \"></span><span class=\"plain    \" ><span class=\"plain txtu cld \"></span><span class=\"plain    \" ><span class=\"txtu cld\">d</span></span><span class=\"plain    \" ><span class=\"txtu cld\">à</span></span><span class=\"plain    \" ><span class=\"txtu cld\">w</span></span><span class=\"plain    \" ><span class=\"txtu cld\">e.ˈ </span></span></span></span></span></span></span><span class=\"plain    \" ><span class=\"plain txtu cld \"></span><span class=\"plain    \" ><span class=\"plain txtu cld \"></span><span class=\"plain    \" ><span class=\"plain txtu cld \"></span><span class=\"plain    \" ><span class=\"plain txtu cld \"></span><span class=\"plain    \" ><span class=\"plain txtu cld \"></span><span class=\"plain    \" ><span class=\"txtu cld\">ʾ</span></span><span class=\"plain    \" ><span class=\"txtu cld\">ə</span></span><span class=\"plain    \" ><span class=\"txtu cld\">n-</span></span></span><span class=\"plain    \" ><span class=\"plain txtu cld \"></span><span class=\"plain    \" ><span class=\"txtu cld\">h</span></span><span class=\"plain    \" ><span class=\"txtu cld\">à</span></span><span class=\"plain    \" ><span class=\"txtu cld\">w</span></span><span class=\"plain    \" ><span class=\"txtu cld\">aˈ </span></span></span></span></span><span class=\"plain    \" ><span class=\"plain txtu cld \"></span><span class=\"plain    \" ><span class=\"plain txtu cld \"></span><span class=\"plain    \" ><span class=\"plain txtu cld \"></span><span class=\"plain    \" ><span class=\"txtu cld\">ʾ</span></span><span class=\"plain    \" ><span class=\"txtu cld\">ə́</span></span><span class=\"plain    \" ><span class=\"txtu cld\">č̣</span></span><span class=\"plain    \" ><span class=\"txtu cld\">č̣</span></span><span class=\"plain    \" ><span class=\"txtu cld\">i-</span></span></span><span class=\"plain    \" ><span class=\"plain txtu cld \"></span><span class=\"plain    \" ><span class=\"txtu cld\">u </span></span></span></span><span class=\"plain    \" ><span class=\"plain txtu cld \"></span><span class=\"plain    \" ><span class=\"plain txtu cld \"></span><span class=\"plain    \" ><span class=\"txtu cld\">ʾ</span></span><span class=\"plain    \" ><span class=\"txtu cld\">ə́</span></span><span class=\"plain    \" ><span class=\"txtu cld\">č̣</span></span><span class=\"plain    \" ><span class=\"txtu cld\">č̣</span></span><span class=\"plain    \" ><span class=\"txtu cld\">a </span></span></span></span><span class=\"plain    \" ><span class=\"plain txtu cld \"></span><span class=\"plain    \" ><span class=\"plain txtu cld \"></span><span class=\"plain    \" ><span class=\"txtu cld\">m</span></span><span class=\"plain    \" ><span class=\"txtu cld\">a</span></span><span class=\"plain    \" ><span class=\"txtu cld\">q</span></span><span class=\"plain    \" ><span class=\"txtu cld\">ə</span></span><span class=\"plain    \" ><span class=\"txtu cld\">l</span></span><span class=\"plain    \" ><span class=\"txtu cld\">b</span></span><span class=\"plain    \" ><span class=\"txtu cld\">ə̀</span></span><span class=\"plain    \" ><span class=\"txtu cld\">n</span></span><span class=\"plain    \" ><span class=\"txtu cld\">n</span></span><span class=\"plain    \" ><span class=\"txtu cld\">a.ˈ </span></span></span></span></span></span></span><span class=\"plain    \" ><span class=\"plain txtu cld \"></span><span class=\"plain    \" ><span class=\"plain txtu cld \"></span><span class=\"plain    \" ><span class=\"plain txtu cld \"></span><span class=\"plain    \" ><span class=\"plain txtu cld \"></span><span class=\"plain    \" ><span class=\"plain txtu cld \"></span><span class=\"plain    \" ><span class=\"txtu cld\">ʾ</span></span><span class=\"plain    \" ><span class=\"txtu cld\">u-</span></span></span><span class=\"plain    \" ><span class=\"plain txtu cld \"></span><span class=\"plain    \" ><span class=\"txtu cld\">ʾ</span></span><span class=\"plain    \" ><span class=\"txtu cld\">ə</span></span><span class=\"plain    \" ><span class=\"txtu cld\">n-</span></span></span><span class=\"plain    \" ><span class=\"plain txtu cld \"></span><span class=\"plain    \" ><span class=\"txtu cld\">h</span></span><span class=\"plain    \" ><span class=\"txtu cld\">à</span></span><span class=\"plain    \" ><span class=\"txtu cld\">w</span></span><span class=\"plain    \" ><span class=\"txtu cld\">aˈ </span></span></span></span></span><span class=\"plain    \" ><span class=\"plain txtu cld \"></span><span class=\"plain    \" ><span class=\"plain txtu cld \"></span><span class=\"plain    \" ><span class=\"plain txtu cld \"></span><span class=\"plain    \" ><span class=\"txtu cld\">ʾ</span></span><span class=\"plain    \" ><span class=\"txtu cld\">ə́</span></span><span class=\"plain    \" ><span class=\"txtu cld\">m</span></span><span class=\"plain    \" ><span class=\"txtu cld\">m</span></span><span class=\"plain    \" ><span class=\"txtu cld\">a-</span></span></span><span class=\"plain    \" ><span class=\"plain txtu cld \"></span><span class=\"plain    \" ><span class=\"txtu cld\">w-</span></span></span><span class=\"plain    \" ><span class=\"plain txtu cld \"></span><span class=\"plain    \" ><span class=\"txtu cld\">x</span></span><span class=\"plain    \" ><span class=\"txtu cld\">à-</span></span></span><span class=\"plain    \" ><span class=\"plain txtu cld \"></span><span class=\"plain    \" ><span class=\"txtu cld\">ž</span></span><span class=\"plain    \" ><span class=\"txtu cld\">i,ˈ </span></span></span></span></span></span><span class=\"plain    \" ><span class=\"plain txtu cld \"></span><span class=\"plain    \" ><span class=\"plain txtu cld \"></span><span class=\"plain    \" ><span class=\"plain txtu cld \"></span><span class=\"plain    \" ><span class=\"plain txtu cld \"></span><span class=\"plain    \" ><span class=\"txtu cld\">l</span></span><span class=\"plain    \" ><span class=\"txtu cld\">a-</span></span></span><span class=\"plain    \" ><span class=\"plain txtu cld \"></span><span class=\"plain    \" ><span class=\"txtu cld\">b</span></span><span class=\"plain    \" ><span class=\"txtu cld\">ă</span></span><span class=\"plain    \" ><span class=\"txtu cld\">y</span></span><span class=\"plain    \" ><span class=\"txtu cld\">ə̀</span></span><span class=\"plain    \" ><span class=\"txtu cld\">n</span></span><span class=\"plain    \" ><span class=\"txtu cld\">n</span></span><span class=\"plain    \" ><span class=\"txtu cld\">a.ˈ </span></span></span></span></span></span></span><span class=\"plain    \" ><span class=\"plain txtu cld \"></span><span class=\"plain    \" ><span class=\"plain txtu cld \"></span><span class=\"plain    \" ><span class=\"plain txtu cld \"></span><span class=\"plain    \" ><span class=\"plain txtu cld \"></span><span class=\"plain    \" ><span class=\"plain txtu cld \"></span><span class=\"plain    \" ><span class=\"txtu cld\">d</span></span><span class=\"plain    \" ><span class=\"txtu cld\">e-</span></span></span><span class=\"plain    \" ><span class=\"plain txtu cld \"></span><span class=\"plain    \" ><span class=\"txtu cld\">š</span></span><span class=\"plain    \" ><span class=\"txtu cld\">ù</span></span><span class=\"plain    \" ><span class=\"txtu cld\">q</span></span><span class=\"plain    \" ><span class=\"txtu cld\">l</span></span><span class=\"plain    \" ><span class=\"txtu cld\">a.ˈ </span></span></span></span></span></span></span><span class=\"plain    \" ><span class=\"plain txtu cld \"></span><span class=\"plain    \" ><span class=\"plain txtu cld \"></span><span class=\"plain    \" ><span class=\"plain txtu cld \"></span><span class=\"plain    \" ><span class=\"plain txtu cld \"></span><span class=\"plain    \" ><span class=\"plain txtu cld \"></span><span class=\"plain    \" ><span class=\"txtu cld\">ʾ</span></span><span class=\"plain    \" ><span class=\"txtu cld\">ə̀</span></span><span class=\"plain    \" ><span class=\"txtu cld\">m</span></span><span class=\"plain    \" ><span class=\"txtu cld\">m</span></span><span class=\"plain    \" ><span class=\"txtu cld\">a </span></span></span></span><span class=\"plain    \" ><span class=\"plain txtu cld \"></span><span class=\"plain    \" ><span class=\"plain txtu cld \"></span><span class=\"plain    \" ><span class=\"txtu cld\">g</span></span><span class=\"plain    \" ><span class=\"txtu cld\">ắ</span></span><span class=\"plain    \" ><span class=\"txtu cld\">r</span></span><span class=\"plain    \" ><span class=\"txtu cld\">ə</span></span><span class=\"plain    \" ><span class=\"txtu cld\">g </span></span></span></span><span class=\"plain    \" ><span class=\"plain txtu cld \"></span><span class=\"plain    \" ><span class=\"plain txtu cld \"></span><span class=\"plain    \" ><span class=\"txtu cld\">h</span></span><span class=\"plain    \" ><span class=\"txtu cld\">á</span></span><span class=\"plain    \" ><span class=\"txtu cld\">w</span></span><span class=\"plain    \" ><span class=\"txtu cld\">a </span></span></span></span><span class=\"plain    \" ><span class=\"plain txtu cld \"></span><span class=\"plain    \" ><span class=\"plain txtu cld \"></span><span class=\"plain    \" ><span class=\"txtu cld\">d</span></span><span class=\"plain    \" ><span class=\"txtu cld\">r</span></span><span class=\"plain    \" ><span class=\"txtu cld\">ə́</span></span><span class=\"plain    \" ><span class=\"txtu cld\">s</span></span><span class=\"plain    \" ><span class=\"txtu cld\">t.ˈ </span></span></span></span></span></span></span></span>"
      ],
      "text/plain": [
       "<IPython.core.display.HTML object>"
      ]
     },
     "metadata": {},
     "output_type": "display_data"
    },
    {
     "data": {
      "text/html": [
       "<span class=\"section ltr\"><a target=\"_blank\" href=\"0.02/Barwar/A Hundred Gold Coins.nena\" title=\"Show this title in the NENA repository\" sec=\"Barwar, A Hundred Gold Coins, Ln. 1\">Barwar, A Hundred Gold Coins, Ln. 1</a> </span><div class=\"contnr c3    \" ><div class=\"lbl c3  \"><span class=\"nd\">line</span> <span class=\"txtu cld\">1</span></div> <div class=\"children row wrap \"><div class=\"children row wrap \"><div class=\"contnr c2    r \" ><div class=\"lbl c2  \"><span class=\"nd\">sentence</span> </div> <div class=\"children row wrap \"><div class=\"contnr cnul trm   \" ><div class=\"children row wrap \"><div class=\"contnr c1    \" ><div class=\"lbl c1  \"><span class=\"nd\">inton</span> </div> <div class=\"children row  \"><div class=\"contnr c1 trm   \" ><div class=\"lbl c1 trm \"><span class=\"nd\">stress</span> <span class=\"txtu cld\"><span class=\"plain outer   \" ><span class=\"plain txtu cld \"></span><span class=\"plain    \" ><span class=\"plain txtu cld \"></span><span class=\"plain    \" ><span class=\"txtu cld\">x</span></span><span class=\"plain    \" ><span class=\"txtu cld\">á-</span></span></span><span class=\"plain    \" ><span class=\"plain txtu cld \"></span><span class=\"plain    \" ><span class=\"txtu cld\">g</span></span><span class=\"plain    \" ><span class=\"txtu cld\">a </span></span></span></span></span></div> </div><div class=\"contnr c1 trm   \" ><div class=\"lbl c1 trm \"><span class=\"nd\">stress</span> <span class=\"txtu cld\"><span class=\"plain outer   \" ><span class=\"plain txtu cld \"></span><span class=\"plain    \" ><span class=\"plain txtu cld \"></span><span class=\"plain    \" ><span class=\"txtu cld\">x</span></span><span class=\"plain    \" ><span class=\"txtu cld\">è</span></span><span class=\"plain    \" ><span class=\"txtu cld\">t</span></span><span class=\"plain    \" ><span class=\"txtu cld\">a,ˈ </span></span></span></span></span></div> </div></div></div></div></div></div></div><div class=\"contnr c2    l r \" ><div class=\"lbl c2  \"><span class=\"nd\">sentence</span> </div> <div class=\"children row wrap \"><div class=\"contnr cnul trm   \" ><div class=\"children row wrap \"><div class=\"contnr c1    \" ><div class=\"lbl c1  \"><span class=\"nd\">inton</span> </div> <div class=\"children row  \"><div class=\"contnr c1 trm   \" ><div class=\"lbl c1 trm \"><span class=\"nd\">stress</span> <span class=\"txtu cld\"><span class=\"plain outer   \" ><span class=\"plain txtu cld \"></span><span class=\"plain    \" ><span class=\"plain txtu cld \"></span><span class=\"plain    \" ><span class=\"txtu cld\">m</span></span><span class=\"plain    \" ><span class=\"txtu cld\">á</span></span><span class=\"plain    \" ><span class=\"txtu cld\">l</span></span><span class=\"plain    \" ><span class=\"txtu cld\">l</span></span><span class=\"plain    \" ><span class=\"txtu cld\">a</span></span><span class=\"plain    \" ><span class=\"txtu cld\">h </span></span></span></span></span></div> </div><div class=\"contnr c1 trm   \" ><div class=\"lbl c1 trm \"><span class=\"nd\">stress</span> <span class=\"txtu cld\"><span class=\"plain outer   \" ><span class=\"plain txtu cld \"></span><span class=\"plain    \" ><span class=\"plain txtu cld \"></span><span class=\"plain    \" ><span class=\"txtu cld\">N</span></span><span class=\"plain    \" ><span class=\"txtu cld\">a</span></span><span class=\"plain    \" ><span class=\"txtu cld\">ṣ</span></span><span class=\"plain    \" ><span class=\"txtu cld\">r</span></span><span class=\"plain    \" ><span class=\"txtu cld\">à</span></span><span class=\"plain    \" ><span class=\"txtu cld\">d</span></span><span class=\"plain    \" ><span class=\"txtu cld\">i</span></span><span class=\"plain    \" ><span class=\"txtu cld\">n,ˈ </span></span></span></span></span></div> </div></div></div></div></div></div></div><div class=\"contnr c2    l \" ><div class=\"lbl c2  \"><span class=\"nd\">sentence</span> </div> <div class=\"children row wrap \"><div class=\"contnr cnul trm   \" ><div class=\"children row wrap \"><div class=\"contnr c1    \" ><div class=\"lbl c1  \"><span class=\"nd\">inton</span> </div> <div class=\"children row  \"><div class=\"contnr c1 trm   \" ><div class=\"lbl c1 trm \"><span class=\"nd\">stress</span> <span class=\"txtu cld\"><span class=\"plain outer   \" ><span class=\"plain txtu cld \"></span><span class=\"plain    \" ><span class=\"plain txtu cld \"></span><span class=\"plain    \" ><span class=\"txtu cld\">x</span></span><span class=\"plain    \" ><span class=\"txtu cld\">á</span></span><span class=\"plain    \" ><span class=\"txtu cld\">z</span></span><span class=\"plain    \" ><span class=\"txtu cld\">ə</span></span><span class=\"plain    \" ><span class=\"txtu cld\">x </span></span></span></span></span></div> </div><div class=\"contnr c1 trm   \" ><div class=\"lbl c1 trm \"><span class=\"nd\">stress</span> <span class=\"txtu cld\"><span class=\"plain outer   \" ><span class=\"plain txtu cld \"></span><span class=\"plain    \" ><span class=\"plain txtu cld \"></span><span class=\"plain    \" ><span class=\"txtu cld\">m</span></span><span class=\"plain    \" ><span class=\"txtu cld\">ò</span></span><span class=\"plain    \" ><span class=\"txtu cld\">d</span></span><span class=\"plain    \" ><span class=\"txtu cld\">i </span></span></span></span></span></div> </div><div class=\"contnr c1 trm   \" ><div class=\"lbl c1 trm \"><span class=\"nd\">stress</span> <span class=\"txtu cld\"><span class=\"plain outer   \" ><span class=\"plain txtu cld \"></span><span class=\"plain    \" ><span class=\"plain txtu cld \"></span><span class=\"plain    \" ><span class=\"txtu cld\">w</span></span><span class=\"plain    \" ><span class=\"txtu cld\">í</span></span><span class=\"plain    \" ><span class=\"txtu cld\">ð</span></span><span class=\"plain    \" ><span class=\"txtu cld\">a.ˈ </span></span></span></span></span></div> </div></div></div></div></div></div></div></div><div class=\"children row wrap \"><div class=\"contnr c2    r \" ><div class=\"lbl c2  \"><span class=\"nd\">sentence</span> </div> <div class=\"children row wrap \"><div class=\"contnr cnul trm   \" ><div class=\"children row wrap \"><div class=\"contnr c1    \" ><div class=\"lbl c1  \"><span class=\"nd\">inton</span> </div> <div class=\"children row  \"><div class=\"contnr c1 trm   \" ><div class=\"lbl c1 trm \"><span class=\"nd\">stress</span> <span class=\"txtu cld\"><span class=\"plain outer   \" ><span class=\"plain txtu cld \"></span><span class=\"plain    \" ><span class=\"plain txtu cld \"></span><span class=\"plain    \" ><span class=\"txtu cld\">g</span></span><span class=\"plain    \" ><span class=\"txtu cld\">u-</span></span></span><span class=\"plain    \" ><span class=\"plain txtu cld \"></span><span class=\"plain    \" ><span class=\"txtu cld\">b</span></span><span class=\"plain    \" ><span class=\"txtu cld\">ɛ̀</span></span><span class=\"plain    \" ><span class=\"txtu cld\">θ</span></span><span class=\"plain    \" ><span class=\"txtu cld\">a </span></span></span></span></span></div> </div><div class=\"contnr c1 trm   \" ><div class=\"lbl c1 trm \"><span class=\"nd\">stress</span> <span class=\"txtu cld\"><span class=\"plain outer   \" ><span class=\"plain txtu cld \"></span><span class=\"plain    \" ><span class=\"plain txtu cld \"></span><span class=\"plain    \" ><span class=\"txtu cld\">w</span></span><span class=\"plain    \" ><span class=\"txtu cld\">é</span></span><span class=\"plain    \" ><span class=\"txtu cld\">w</span></span><span class=\"plain    \" ><span class=\"txtu cld\">a,ˈ </span></span></span></span></span></div> </div></div></div></div></div></div></div><div class=\"contnr c2    l \" ><div class=\"lbl c2  \"><span class=\"nd\">sentence</span> </div> <div class=\"children row wrap \"><div class=\"contnr cnul trm   \" ><div class=\"children row wrap \"><div class=\"contnr c1    \" ><div class=\"lbl c1  \"><span class=\"nd\">inton</span> </div> <div class=\"children row  \"><div class=\"contnr c1 trm   \" ><div class=\"lbl c1 trm \"><span class=\"nd\">stress</span> <span class=\"txtu cld\"><span class=\"plain outer   \" ><span class=\"plain txtu cld \"></span><span class=\"plain    \" ><span class=\"plain txtu cld \"></span><span class=\"plain    \" ><span class=\"txtu cld\">h</span></span><span class=\"plain    \" ><span class=\"txtu cld\">a</span></span><span class=\"plain    \" ><span class=\"txtu cld\">r-</span></span></span><span class=\"plain    \" ><span class=\"plain txtu cld \"></span><span class=\"plain    \" ><span class=\"txtu cld\">z</span></span><span class=\"plain    \" ><span class=\"txtu cld\">á</span></span><span class=\"plain    \" ><span class=\"txtu cld\">l</span></span><span class=\"plain    \" ><span class=\"txtu cld\">a-</span></span></span><span class=\"plain    \" ><span class=\"plain txtu cld \"></span><span class=\"plain    \" ><span class=\"txtu cld\">w </span></span></span></span></span></div> </div><div class=\"contnr c1 trm   \" ><div class=\"lbl c1 trm \"><span class=\"nd\">stress</span> <span class=\"txtu cld\"><span class=\"plain outer   \" ><span class=\"plain txtu cld \"></span><span class=\"plain    \" ><span class=\"plain txtu cld \"></span><span class=\"plain    \" ><span class=\"txtu cld\">θ</span></span><span class=\"plain    \" ><span class=\"txtu cld\">à</span></span><span class=\"plain    \" ><span class=\"txtu cld\">y</span></span><span class=\"plain    \" ><span class=\"txtu cld\">a.ˈ </span></span></span></span></span></div> </div></div></div></div></div></div></div></div><div class=\"children row wrap \"><div class=\"contnr c2    r \" ><div class=\"lbl c2  \"><span class=\"nd\">sentence</span> </div> <div class=\"children row wrap \"><div class=\"contnr cnul trm   \" ><div class=\"children row wrap \"><div class=\"contnr c1    \" ><div class=\"lbl c1  \"><span class=\"nd\">inton</span> </div> <div class=\"children row  \"><div class=\"contnr c1 trm   \" ><div class=\"lbl c1 trm \"><span class=\"nd\">stress</span> <span class=\"txtu cld\"><span class=\"plain outer   \" ><span class=\"plain txtu cld \"></span><span class=\"plain    \" ><span class=\"plain txtu cld \"></span><span class=\"plain    \" ><span class=\"txtu cld\">z</span></span><span class=\"plain    \" ><span class=\"txtu cld\">á</span></span><span class=\"plain    \" ><span class=\"txtu cld\">l</span></span><span class=\"plain    \" ><span class=\"txtu cld\">a-</span></span></span><span class=\"plain    \" ><span class=\"plain txtu cld \"></span><span class=\"plain    \" ><span class=\"txtu cld\">w </span></span></span></span></span></div> </div><div class=\"contnr c1 trm   \" ><div class=\"lbl c1 trm \"><span class=\"nd\">stress</span> <span class=\"txtu cld\"><span class=\"plain outer   \" ><span class=\"plain txtu cld \"></span><span class=\"plain    \" ><span class=\"plain txtu cld \"></span><span class=\"plain    \" ><span class=\"txtu cld\">θ</span></span><span class=\"plain    \" ><span class=\"txtu cld\">à</span></span><span class=\"plain    \" ><span class=\"txtu cld\">y</span></span><span class=\"plain    \" ><span class=\"txtu cld\">a,ˈ </span></span></span></span></span></div> </div></div></div></div></div></div></div><div class=\"contnr c2    l r \" ><div class=\"lbl c2  \"><span class=\"nd\">sentence</span> </div> <div class=\"children row wrap \"><div class=\"contnr cnul trm   \" ><div class=\"children row wrap \"><div class=\"contnr c1    \" ><div class=\"lbl c1  \"><span class=\"nd\">inton</span> </div> <div class=\"children row  \"><div class=\"contnr c1 trm   \" ><div class=\"lbl c1 trm \"><span class=\"nd\">stress</span> <span class=\"txtu cld\"><span class=\"plain outer   \" ><span class=\"plain txtu cld \"></span><span class=\"plain    \" ><span class=\"plain txtu cld \"></span><span class=\"plain    \" ><span class=\"txtu cld\">m</span></span><span class=\"plain    \" ><span class=\"txtu cld\">á</span></span><span class=\"plain    \" ><span class=\"txtu cld\">r</span></span><span class=\"plain    \" ><span class=\"txtu cld\">a </span></span></span></span></span></div> </div><div class=\"contnr c1 trm   \" ><div class=\"lbl c1 trm \"><span class=\"nd\">stress</span> <span class=\"txtu cld\"><span class=\"plain outer   \" ><span class=\"plain txtu cld \"></span><span class=\"plain    \" ><span class=\"plain txtu cld \"></span><span class=\"plain    \" ><span class=\"txtu cld\">y</span></span><span class=\"plain    \" ><span class=\"txtu cld\">a-</span></span></span><span class=\"plain    \" ><span class=\"plain txtu cld \"></span><span class=\"plain    \" ><span class=\"txtu cld\">ʾ</span></span><span class=\"plain    \" ><span class=\"txtu cld\">à</span></span><span class=\"plain    \" ><span class=\"txtu cld\">l</span></span><span class=\"plain    \" ><span class=\"txtu cld\">a</span></span><span class=\"plain    \" ><span class=\"txtu cld\">h</span></span><span class=\"plain    \" ><span class=\"txtu cld\">a,ˈ </span></span></span></span></span></div> </div></div></div></div></div></div></div><div class=\"contnr c2    l \" ><div class=\"lbl c2  \"><span class=\"nd\">sentence</span> </div> <div class=\"children row wrap \"><div class=\"contnr cnul trm   \" ><div class=\"children row wrap \"><div class=\"contnr c1    \" ><div class=\"lbl c1  \"><span class=\"nd\">inton</span> </div> <div class=\"children row  \"><div class=\"contnr c1 trm   \" ><div class=\"lbl c1 trm \"><span class=\"nd\">stress</span> <span class=\"txtu cld\"><span class=\"plain outer   \" ><span class=\"plain txtu cld \"></span><span class=\"plain    \" ><span class=\"plain txtu cld \"></span><span class=\"plain    \" ><span class=\"txtu cld\">y</span></span><span class=\"plain    \" ><span class=\"txtu cld\">a</span></span><span class=\"plain    \" ><span class=\"txtu cld\">w</span></span><span class=\"plain    \" ><span class=\"txtu cld\">ə̀</span></span><span class=\"plain    \" ><span class=\"txtu cld\">t</span></span><span class=\"plain    \" ><span class=\"txtu cld\">l</span></span><span class=\"plain    \" ><span class=\"txtu cld\">iˈ </span></span></span></span></span></div> </div></div></div><div class=\"contnr c1    \" ><div class=\"lbl c1  \"><span class=\"nd\">inton</span> </div> <div class=\"children row  \"><div class=\"contnr c1 trm   \" ><div class=\"lbl c1 trm \"><span class=\"nd\">stress</span> <span class=\"txtu cld\"><span class=\"plain outer   \" ><span class=\"plain txtu cld \"></span><span class=\"plain    \" ><span class=\"plain txtu cld \"></span><span class=\"plain    \" ><span class=\"txtu cld\">ʾ</span></span><span class=\"plain    \" ><span class=\"txtu cld\">ə́</span></span><span class=\"plain    \" ><span class=\"txtu cld\">m</span></span><span class=\"plain    \" ><span class=\"txtu cld\">m</span></span><span class=\"plain    \" ><span class=\"txtu cld\">a </span></span></span></span></span></div> </div><div class=\"contnr c1 trm   \" ><div class=\"lbl c1 trm \"><span class=\"nd\">stress</span> <span class=\"txtu cld\"><span class=\"plain outer   \" ><span class=\"plain txtu cld \"></span><span class=\"plain    \" ><span class=\"plain txtu cld \"></span><span class=\"plain    \" ><span class=\"txtu cld\">d</span></span><span class=\"plain    \" ><span class=\"txtu cld\">à</span></span><span class=\"plain    \" ><span class=\"txtu cld\">w</span></span><span class=\"plain    \" ><span class=\"txtu cld\">e.ˈ </span></span></span></span></span></div> </div></div></div></div></div></div></div></div><div class=\"children row wrap \"><div class=\"contnr c2    \" ><div class=\"lbl c2  \"><span class=\"nd\">sentence</span> </div> <div class=\"children row wrap \"><div class=\"contnr cnul trm   \" ><div class=\"children row wrap \"><div class=\"contnr c1    \" ><div class=\"lbl c1  \"><span class=\"nd\">inton</span> </div> <div class=\"children row  \"><div class=\"contnr c1 trm   \" ><div class=\"lbl c1 trm \"><span class=\"nd\">stress</span> <span class=\"txtu cld\"><span class=\"plain outer   \" ><span class=\"plain txtu cld \"></span><span class=\"plain    \" ><span class=\"plain txtu cld \"></span><span class=\"plain    \" ><span class=\"txtu cld\">ʾ</span></span><span class=\"plain    \" ><span class=\"txtu cld\">ə</span></span><span class=\"plain    \" ><span class=\"txtu cld\">n-</span></span></span><span class=\"plain    \" ><span class=\"plain txtu cld \"></span><span class=\"plain    \" ><span class=\"txtu cld\">h</span></span><span class=\"plain    \" ><span class=\"txtu cld\">à</span></span><span class=\"plain    \" ><span class=\"txtu cld\">w</span></span><span class=\"plain    \" ><span class=\"txtu cld\">aˈ </span></span></span></span></span></div> </div></div></div><div class=\"contnr c1    \" ><div class=\"lbl c1  \"><span class=\"nd\">inton</span> </div> <div class=\"children row  \"><div class=\"contnr c1 trm   \" ><div class=\"lbl c1 trm \"><span class=\"nd\">stress</span> <span class=\"txtu cld\"><span class=\"plain outer   \" ><span class=\"plain txtu cld \"></span><span class=\"plain    \" ><span class=\"plain txtu cld \"></span><span class=\"plain    \" ><span class=\"txtu cld\">ʾ</span></span><span class=\"plain    \" ><span class=\"txtu cld\">ə́</span></span><span class=\"plain    \" ><span class=\"txtu cld\">č̣</span></span><span class=\"plain    \" ><span class=\"txtu cld\">č̣</span></span><span class=\"plain    \" ><span class=\"txtu cld\">i-</span></span></span><span class=\"plain    \" ><span class=\"plain txtu cld \"></span><span class=\"plain    \" ><span class=\"txtu cld\">u </span></span></span></span></span></div> </div><div class=\"contnr c1 trm   \" ><div class=\"lbl c1 trm \"><span class=\"nd\">stress</span> <span class=\"txtu cld\"><span class=\"plain outer   \" ><span class=\"plain txtu cld \"></span><span class=\"plain    \" ><span class=\"plain txtu cld \"></span><span class=\"plain    \" ><span class=\"txtu cld\">ʾ</span></span><span class=\"plain    \" ><span class=\"txtu cld\">ə́</span></span><span class=\"plain    \" ><span class=\"txtu cld\">č̣</span></span><span class=\"plain    \" ><span class=\"txtu cld\">č̣</span></span><span class=\"plain    \" ><span class=\"txtu cld\">a </span></span></span></span></span></div> </div><div class=\"contnr c1 trm   \" ><div class=\"lbl c1 trm \"><span class=\"nd\">stress</span> <span class=\"txtu cld\"><span class=\"plain outer   \" ><span class=\"plain txtu cld \"></span><span class=\"plain    \" ><span class=\"plain txtu cld \"></span><span class=\"plain    \" ><span class=\"txtu cld\">m</span></span><span class=\"plain    \" ><span class=\"txtu cld\">a</span></span><span class=\"plain    \" ><span class=\"txtu cld\">q</span></span><span class=\"plain    \" ><span class=\"txtu cld\">ə</span></span><span class=\"plain    \" ><span class=\"txtu cld\">l</span></span><span class=\"plain    \" ><span class=\"txtu cld\">b</span></span><span class=\"plain    \" ><span class=\"txtu cld\">ə̀</span></span><span class=\"plain    \" ><span class=\"txtu cld\">n</span></span><span class=\"plain    \" ><span class=\"txtu cld\">n</span></span><span class=\"plain    \" ><span class=\"txtu cld\">a.ˈ </span></span></span></span></span></div> </div></div></div></div></div></div></div></div><div class=\"children row wrap \"><div class=\"contnr c2    r \" ><div class=\"lbl c2  \"><span class=\"nd\">sentence</span> </div> <div class=\"children row wrap \"><div class=\"contnr cnul trm   \" ><div class=\"children row wrap \"><div class=\"contnr c1    \" ><div class=\"lbl c1  \"><span class=\"nd\">inton</span> </div> <div class=\"children row  \"><div class=\"contnr c1 trm   \" ><div class=\"lbl c1 trm \"><span class=\"nd\">stress</span> <span class=\"txtu cld\"><span class=\"plain outer   \" ><span class=\"plain txtu cld \"></span><span class=\"plain    \" ><span class=\"plain txtu cld \"></span><span class=\"plain    \" ><span class=\"txtu cld\">ʾ</span></span><span class=\"plain    \" ><span class=\"txtu cld\">u-</span></span></span><span class=\"plain    \" ><span class=\"plain txtu cld \"></span><span class=\"plain    \" ><span class=\"txtu cld\">ʾ</span></span><span class=\"plain    \" ><span class=\"txtu cld\">ə</span></span><span class=\"plain    \" ><span class=\"txtu cld\">n-</span></span></span><span class=\"plain    \" ><span class=\"plain txtu cld \"></span><span class=\"plain    \" ><span class=\"txtu cld\">h</span></span><span class=\"plain    \" ><span class=\"txtu cld\">à</span></span><span class=\"plain    \" ><span class=\"txtu cld\">w</span></span><span class=\"plain    \" ><span class=\"txtu cld\">aˈ </span></span></span></span></span></div> </div></div></div><div class=\"contnr c1    \" ><div class=\"lbl c1  \"><span class=\"nd\">inton</span> </div> <div class=\"children row  \"><div class=\"contnr c1 trm   \" ><div class=\"lbl c1 trm \"><span class=\"nd\">stress</span> <span class=\"txtu cld\"><span class=\"plain outer   \" ><span class=\"plain txtu cld \"></span><span class=\"plain    \" ><span class=\"plain txtu cld \"></span><span class=\"plain    \" ><span class=\"txtu cld\">ʾ</span></span><span class=\"plain    \" ><span class=\"txtu cld\">ə́</span></span><span class=\"plain    \" ><span class=\"txtu cld\">m</span></span><span class=\"plain    \" ><span class=\"txtu cld\">m</span></span><span class=\"plain    \" ><span class=\"txtu cld\">a-</span></span></span><span class=\"plain    \" ><span class=\"plain txtu cld \"></span><span class=\"plain    \" ><span class=\"txtu cld\">w-</span></span></span><span class=\"plain    \" ><span class=\"plain txtu cld \"></span><span class=\"plain    \" ><span class=\"txtu cld\">x</span></span><span class=\"plain    \" ><span class=\"txtu cld\">à-</span></span></span><span class=\"plain    \" ><span class=\"plain txtu cld \"></span><span class=\"plain    \" ><span class=\"txtu cld\">ž</span></span><span class=\"plain    \" ><span class=\"txtu cld\">i,ˈ </span></span></span></span></span></div> </div></div></div></div></div></div></div><div class=\"contnr c2    l \" ><div class=\"lbl c2  \"><span class=\"nd\">sentence</span> </div> <div class=\"children row wrap \"><div class=\"contnr cnul trm   \" ><div class=\"children row wrap \"><div class=\"contnr c1    \" ><div class=\"lbl c1  \"><span class=\"nd\">inton</span> </div> <div class=\"children row  \"><div class=\"contnr c1 trm   \" ><div class=\"lbl c1 trm \"><span class=\"nd\">stress</span> <span class=\"txtu cld\"><span class=\"plain outer   \" ><span class=\"plain txtu cld \"></span><span class=\"plain    \" ><span class=\"plain txtu cld \"></span><span class=\"plain    \" ><span class=\"txtu cld\">l</span></span><span class=\"plain    \" ><span class=\"txtu cld\">a-</span></span></span><span class=\"plain    \" ><span class=\"plain txtu cld \"></span><span class=\"plain    \" ><span class=\"txtu cld\">b</span></span><span class=\"plain    \" ><span class=\"txtu cld\">ă</span></span><span class=\"plain    \" ><span class=\"txtu cld\">y</span></span><span class=\"plain    \" ><span class=\"txtu cld\">ə̀</span></span><span class=\"plain    \" ><span class=\"txtu cld\">n</span></span><span class=\"plain    \" ><span class=\"txtu cld\">n</span></span><span class=\"plain    \" ><span class=\"txtu cld\">a.ˈ </span></span></span></span></span></div> </div></div></div></div></div></div></div></div><div class=\"children row wrap \"><div class=\"contnr c2    \" ><div class=\"lbl c2  \"><span class=\"nd\">sentence</span> </div> <div class=\"children row wrap \"><div class=\"contnr cnul trm   \" ><div class=\"children row wrap \"><div class=\"contnr c1    \" ><div class=\"lbl c1  \"><span class=\"nd\">inton</span> </div> <div class=\"children row  \"><div class=\"contnr c1 trm   \" ><div class=\"lbl c1 trm \"><span class=\"nd\">stress</span> <span class=\"txtu cld\"><span class=\"plain outer   \" ><span class=\"plain txtu cld \"></span><span class=\"plain    \" ><span class=\"plain txtu cld \"></span><span class=\"plain    \" ><span class=\"txtu cld\">d</span></span><span class=\"plain    \" ><span class=\"txtu cld\">e-</span></span></span><span class=\"plain    \" ><span class=\"plain txtu cld \"></span><span class=\"plain    \" ><span class=\"txtu cld\">š</span></span><span class=\"plain    \" ><span class=\"txtu cld\">ù</span></span><span class=\"plain    \" ><span class=\"txtu cld\">q</span></span><span class=\"plain    \" ><span class=\"txtu cld\">l</span></span><span class=\"plain    \" ><span class=\"txtu cld\">a.ˈ </span></span></span></span></span></div> </div></div></div></div></div></div></div></div><div class=\"children row wrap \"><div class=\"contnr c2    \" ><div class=\"lbl c2  \"><span class=\"nd\">sentence</span> </div> <div class=\"children row wrap \"><div class=\"contnr cnul trm   \" ><div class=\"children row wrap \"><div class=\"contnr c1    \" ><div class=\"lbl c1  \"><span class=\"nd\">inton</span> </div> <div class=\"children row  \"><div class=\"contnr c1 trm   \" ><div class=\"lbl c1 trm \"><span class=\"nd\">stress</span> <span class=\"txtu cld\"><span class=\"plain outer   \" ><span class=\"plain txtu cld \"></span><span class=\"plain    \" ><span class=\"plain txtu cld \"></span><span class=\"plain    \" ><span class=\"txtu cld\">ʾ</span></span><span class=\"plain    \" ><span class=\"txtu cld\">ə̀</span></span><span class=\"plain    \" ><span class=\"txtu cld\">m</span></span><span class=\"plain    \" ><span class=\"txtu cld\">m</span></span><span class=\"plain    \" ><span class=\"txtu cld\">a </span></span></span></span></span></div> </div><div class=\"contnr c1 trm   \" ><div class=\"lbl c1 trm \"><span class=\"nd\">stress</span> <span class=\"txtu cld\"><span class=\"plain outer   \" ><span class=\"plain txtu cld \"></span><span class=\"plain    \" ><span class=\"plain txtu cld \"></span><span class=\"plain    \" ><span class=\"txtu cld\">g</span></span><span class=\"plain    \" ><span class=\"txtu cld\">ắ</span></span><span class=\"plain    \" ><span class=\"txtu cld\">r</span></span><span class=\"plain    \" ><span class=\"txtu cld\">ə</span></span><span class=\"plain    \" ><span class=\"txtu cld\">g </span></span></span></span></span></div> </div><div class=\"contnr c1 trm   \" ><div class=\"lbl c1 trm \"><span class=\"nd\">stress</span> <span class=\"txtu cld\"><span class=\"plain outer   \" ><span class=\"plain txtu cld \"></span><span class=\"plain    \" ><span class=\"plain txtu cld \"></span><span class=\"plain    \" ><span class=\"txtu cld\">h</span></span><span class=\"plain    \" ><span class=\"txtu cld\">á</span></span><span class=\"plain    \" ><span class=\"txtu cld\">w</span></span><span class=\"plain    \" ><span class=\"txtu cld\">a </span></span></span></span></span></div> </div><div class=\"contnr c1 trm   \" ><div class=\"lbl c1 trm \"><span class=\"nd\">stress</span> <span class=\"txtu cld\"><span class=\"plain outer   \" ><span class=\"plain txtu cld \"></span><span class=\"plain    \" ><span class=\"plain txtu cld \"></span><span class=\"plain    \" ><span class=\"txtu cld\">d</span></span><span class=\"plain    \" ><span class=\"txtu cld\">r</span></span><span class=\"plain    \" ><span class=\"txtu cld\">ə́</span></span><span class=\"plain    \" ><span class=\"txtu cld\">s</span></span><span class=\"plain    \" ><span class=\"txtu cld\">t.ˈ </span></span></span></span></span></div> </div></div></div></div></div></div></div></div></div></div>"
      ],
      "text/plain": [
       "<IPython.core.display.HTML object>"
      ]
     },
     "metadata": {},
     "output_type": "display_data"
    },
    {
     "data": {
      "text/markdown": [
       "### sentence 578263\n"
      ],
      "text/plain": [
       "<IPython.core.display.Markdown object>"
      ]
     },
     "metadata": {},
     "output_type": "display_data"
    },
    {
     "data": {
      "text/html": [
       "<span class=\"section ltr\"><a target=\"_blank\" href=\"0.02/Barwar/A Hundred Gold Coins.nena\" title=\"Show this title in the NENA repository\" sec=\"Barwar, A Hundred Gold Coins, Ln. 1\">Barwar, A Hundred Gold Coins, Ln. 1</a> </span> <span class=\"plain outer   \" ><span class=\"plain txtu cld \"></span><span class=\"plain    \" ><span class=\"plain txtu cld \"></span><span class=\"plain    \" ><span class=\"plain txtu cld \"></span><span class=\"plain    \" ><span class=\"plain txtu cld \"></span><span class=\"plain    \" ><span class=\"plain txtu cld \"></span><span class=\"plain    \" ><span class=\"txtu cld\">x</span></span><span class=\"plain    \" ><span class=\"txtu cld\">á-</span></span></span><span class=\"plain    \" ><span class=\"plain txtu cld \"></span><span class=\"plain    \" ><span class=\"txtu cld\">g</span></span><span class=\"plain    \" ><span class=\"txtu cld\">a </span></span></span></span><span class=\"plain    \" ><span class=\"plain txtu cld \"></span><span class=\"plain    \" ><span class=\"plain txtu cld \"></span><span class=\"plain    \" ><span class=\"txtu cld\">x</span></span><span class=\"plain    \" ><span class=\"txtu cld\">è</span></span><span class=\"plain    \" ><span class=\"txtu cld\">t</span></span><span class=\"plain    \" ><span class=\"txtu cld\">a,ˈ </span></span></span></span></span></span><span class=\"plain    \" ><span class=\"plain txtu cld \"></span><span class=\"plain    \" ><span class=\"plain txtu cld \"></span><span class=\"plain    \" ><span class=\"plain txtu cld \"></span><span class=\"plain    \" ><span class=\"plain txtu cld \"></span><span class=\"plain    \" ><span class=\"txtu cld\">m</span></span><span class=\"plain    \" ><span class=\"txtu cld\">á</span></span><span class=\"plain    \" ><span class=\"txtu cld\">l</span></span><span class=\"plain    \" ><span class=\"txtu cld\">l</span></span><span class=\"plain    \" ><span class=\"txtu cld\">a</span></span><span class=\"plain    \" ><span class=\"txtu cld\">h </span></span></span></span><span class=\"plain    \" ><span class=\"plain txtu cld \"></span><span class=\"plain    \" ><span class=\"plain txtu cld \"></span><span class=\"plain    \" ><span class=\"txtu cld\">N</span></span><span class=\"plain    \" ><span class=\"txtu cld\">a</span></span><span class=\"plain    \" ><span class=\"txtu cld\">ṣ</span></span><span class=\"plain    \" ><span class=\"txtu cld\">r</span></span><span class=\"plain    \" ><span class=\"txtu cld\">à</span></span><span class=\"plain    \" ><span class=\"txtu cld\">d</span></span><span class=\"plain    \" ><span class=\"txtu cld\">i</span></span><span class=\"plain    \" ><span class=\"txtu cld\">n,ˈ </span></span></span></span></span></span><span class=\"plain    \" ><span class=\"plain txtu cld \"></span><span class=\"plain    \" ><span class=\"plain txtu cld \"></span><span class=\"plain    \" ><span class=\"plain txtu cld \"></span><span class=\"plain    \" ><span class=\"plain txtu cld \"></span><span class=\"plain    \" ><span class=\"txtu cld\">x</span></span><span class=\"plain    \" ><span class=\"txtu cld\">á</span></span><span class=\"plain    \" ><span class=\"txtu cld\">z</span></span><span class=\"plain    \" ><span class=\"txtu cld\">ə</span></span><span class=\"plain    \" ><span class=\"txtu cld\">x </span></span></span></span><span class=\"plain    \" ><span class=\"plain txtu cld \"></span><span class=\"plain    \" ><span class=\"plain txtu cld \"></span><span class=\"plain    \" ><span class=\"txtu cld\">m</span></span><span class=\"plain    \" ><span class=\"txtu cld\">ò</span></span><span class=\"plain    \" ><span class=\"txtu cld\">d</span></span><span class=\"plain    \" ><span class=\"txtu cld\">i </span></span></span></span><span class=\"plain    \" ><span class=\"plain txtu cld \"></span><span class=\"plain    \" ><span class=\"plain txtu cld \"></span><span class=\"plain    \" ><span class=\"txtu cld\">w</span></span><span class=\"plain    \" ><span class=\"txtu cld\">í</span></span><span class=\"plain    \" ><span class=\"txtu cld\">ð</span></span><span class=\"plain    \" ><span class=\"txtu cld\">a.ˈ </span></span></span></span></span></span></span>"
      ],
      "text/plain": [
       "<IPython.core.display.HTML object>"
      ]
     },
     "metadata": {},
     "output_type": "display_data"
    },
    {
     "data": {
      "text/html": [
       "<span class=\"section ltr\"><a target=\"_blank\" href=\"0.02/Barwar/A Hundred Gold Coins.nena\" title=\"Show this title in the NENA repository\" sec=\"Barwar, A Hundred Gold Coins, Ln. 1\">Barwar, A Hundred Gold Coins, Ln. 1</a> </span><div class=\"children row wrap \"><div class=\"contnr c2    r \" ><div class=\"lbl c2  \"><span class=\"nd\">sentence</span> </div> <div class=\"children row wrap \"><div class=\"contnr cnul trm   \" ><div class=\"children row wrap \"><div class=\"contnr c1    \" ><div class=\"lbl c1  \"><span class=\"nd\">inton</span> </div> <div class=\"children row  \"><div class=\"contnr c1 trm   \" ><div class=\"lbl c1 trm \"><span class=\"nd\">stress</span> <span class=\"txtu cld\"><span class=\"plain outer   \" ><span class=\"plain txtu cld \"></span><span class=\"plain    \" ><span class=\"plain txtu cld \"></span><span class=\"plain    \" ><span class=\"txtu cld\">x</span></span><span class=\"plain    \" ><span class=\"txtu cld\">á-</span></span></span><span class=\"plain    \" ><span class=\"plain txtu cld \"></span><span class=\"plain    \" ><span class=\"txtu cld\">g</span></span><span class=\"plain    \" ><span class=\"txtu cld\">a </span></span></span></span></span></div> </div><div class=\"contnr c1 trm   \" ><div class=\"lbl c1 trm \"><span class=\"nd\">stress</span> <span class=\"txtu cld\"><span class=\"plain outer   \" ><span class=\"plain txtu cld \"></span><span class=\"plain    \" ><span class=\"plain txtu cld \"></span><span class=\"plain    \" ><span class=\"txtu cld\">x</span></span><span class=\"plain    \" ><span class=\"txtu cld\">è</span></span><span class=\"plain    \" ><span class=\"txtu cld\">t</span></span><span class=\"plain    \" ><span class=\"txtu cld\">a,ˈ </span></span></span></span></span></div> </div></div></div></div></div></div></div><div class=\"contnr c2    l r \" ><div class=\"lbl c2  \"><span class=\"nd\">sentence</span> </div> <div class=\"children row wrap \"><div class=\"contnr cnul trm   \" ><div class=\"children row wrap \"><div class=\"contnr c1    \" ><div class=\"lbl c1  \"><span class=\"nd\">inton</span> </div> <div class=\"children row  \"><div class=\"contnr c1 trm   \" ><div class=\"lbl c1 trm \"><span class=\"nd\">stress</span> <span class=\"txtu cld\"><span class=\"plain outer   \" ><span class=\"plain txtu cld \"></span><span class=\"plain    \" ><span class=\"plain txtu cld \"></span><span class=\"plain    \" ><span class=\"txtu cld\">m</span></span><span class=\"plain    \" ><span class=\"txtu cld\">á</span></span><span class=\"plain    \" ><span class=\"txtu cld\">l</span></span><span class=\"plain    \" ><span class=\"txtu cld\">l</span></span><span class=\"plain    \" ><span class=\"txtu cld\">a</span></span><span class=\"plain    \" ><span class=\"txtu cld\">h </span></span></span></span></span></div> </div><div class=\"contnr c1 trm   \" ><div class=\"lbl c1 trm \"><span class=\"nd\">stress</span> <span class=\"txtu cld\"><span class=\"plain outer   \" ><span class=\"plain txtu cld \"></span><span class=\"plain    \" ><span class=\"plain txtu cld \"></span><span class=\"plain    \" ><span class=\"txtu cld\">N</span></span><span class=\"plain    \" ><span class=\"txtu cld\">a</span></span><span class=\"plain    \" ><span class=\"txtu cld\">ṣ</span></span><span class=\"plain    \" ><span class=\"txtu cld\">r</span></span><span class=\"plain    \" ><span class=\"txtu cld\">à</span></span><span class=\"plain    \" ><span class=\"txtu cld\">d</span></span><span class=\"plain    \" ><span class=\"txtu cld\">i</span></span><span class=\"plain    \" ><span class=\"txtu cld\">n,ˈ </span></span></span></span></span></div> </div></div></div></div></div></div></div><div class=\"contnr c2    l \" ><div class=\"lbl c2  \"><span class=\"nd\">sentence</span> </div> <div class=\"children row wrap \"><div class=\"contnr cnul trm   \" ><div class=\"children row wrap \"><div class=\"contnr c1    \" ><div class=\"lbl c1  \"><span class=\"nd\">inton</span> </div> <div class=\"children row  \"><div class=\"contnr c1 trm   \" ><div class=\"lbl c1 trm \"><span class=\"nd\">stress</span> <span class=\"txtu cld\"><span class=\"plain outer   \" ><span class=\"plain txtu cld \"></span><span class=\"plain    \" ><span class=\"plain txtu cld \"></span><span class=\"plain    \" ><span class=\"txtu cld\">x</span></span><span class=\"plain    \" ><span class=\"txtu cld\">á</span></span><span class=\"plain    \" ><span class=\"txtu cld\">z</span></span><span class=\"plain    \" ><span class=\"txtu cld\">ə</span></span><span class=\"plain    \" ><span class=\"txtu cld\">x </span></span></span></span></span></div> </div><div class=\"contnr c1 trm   \" ><div class=\"lbl c1 trm \"><span class=\"nd\">stress</span> <span class=\"txtu cld\"><span class=\"plain outer   \" ><span class=\"plain txtu cld \"></span><span class=\"plain    \" ><span class=\"plain txtu cld \"></span><span class=\"plain    \" ><span class=\"txtu cld\">m</span></span><span class=\"plain    \" ><span class=\"txtu cld\">ò</span></span><span class=\"plain    \" ><span class=\"txtu cld\">d</span></span><span class=\"plain    \" ><span class=\"txtu cld\">i </span></span></span></span></span></div> </div><div class=\"contnr c1 trm   \" ><div class=\"lbl c1 trm \"><span class=\"nd\">stress</span> <span class=\"txtu cld\"><span class=\"plain outer   \" ><span class=\"plain txtu cld \"></span><span class=\"plain    \" ><span class=\"plain txtu cld \"></span><span class=\"plain    \" ><span class=\"txtu cld\">w</span></span><span class=\"plain    \" ><span class=\"txtu cld\">í</span></span><span class=\"plain    \" ><span class=\"txtu cld\">ð</span></span><span class=\"plain    \" ><span class=\"txtu cld\">a.ˈ </span></span></span></span></span></div> </div></div></div></div></div></div></div></div>"
      ],
      "text/plain": [
       "<IPython.core.display.HTML object>"
      ]
     },
     "metadata": {},
     "output_type": "display_data"
    },
    {
     "data": {
      "text/markdown": [
       "### subsentence 688732\n"
      ],
      "text/plain": [
       "<IPython.core.display.Markdown object>"
      ]
     },
     "metadata": {},
     "output_type": "display_data"
    },
    {
     "data": {
      "text/html": [
       "<span class=\"section ltr\"><a target=\"_blank\" href=\"0.02/Barwar/A Hundred Gold Coins.nena\" title=\"Show this title in the NENA repository\" sec=\"Barwar, A Hundred Gold Coins, Ln. 1\">Barwar, A Hundred Gold Coins, Ln. 1</a> </span> <span class=\"plain outer   \" ><span class=\"plain txtu cld \"></span><span class=\"plain    \" ><span class=\"plain txtu cld \"></span><span class=\"plain    \" ><span class=\"plain txtu cld \"></span><span class=\"plain    \" ><span class=\"plain txtu cld \"></span><span class=\"plain    \" ><span class=\"txtu cld\">x</span></span><span class=\"plain    \" ><span class=\"txtu cld\">á-</span></span></span><span class=\"plain    \" ><span class=\"plain txtu cld \"></span><span class=\"plain    \" ><span class=\"txtu cld\">g</span></span><span class=\"plain    \" ><span class=\"txtu cld\">a </span></span></span></span><span class=\"plain    \" ><span class=\"plain txtu cld \"></span><span class=\"plain    \" ><span class=\"plain txtu cld \"></span><span class=\"plain    \" ><span class=\"txtu cld\">x</span></span><span class=\"plain    \" ><span class=\"txtu cld\">è</span></span><span class=\"plain    \" ><span class=\"txtu cld\">t</span></span><span class=\"plain    \" ><span class=\"txtu cld\">a,ˈ </span></span></span></span></span></span>"
      ],
      "text/plain": [
       "<IPython.core.display.HTML object>"
      ]
     },
     "metadata": {},
     "output_type": "display_data"
    },
    {
     "data": {
      "text/html": [
       "<span class=\"section ltr\"><a target=\"_blank\" href=\"0.02/Barwar/A Hundred Gold Coins.nena\" title=\"Show this title in the NENA repository\" sec=\"Barwar, A Hundred Gold Coins, Ln. 1\">Barwar, A Hundred Gold Coins, Ln. 1</a> </span><div class=\"contnr cnul trm   \" ><div class=\"children row wrap \"><div class=\"contnr c1    \" ><div class=\"lbl c1  \"><span class=\"nd\">inton</span> </div> <div class=\"children row  \"><div class=\"contnr c1 trm   \" ><div class=\"lbl c1 trm \"><span class=\"nd\">stress</span> <span class=\"txtu cld\"><span class=\"plain outer   \" ><span class=\"plain txtu cld \"></span><span class=\"plain    \" ><span class=\"plain txtu cld \"></span><span class=\"plain    \" ><span class=\"txtu cld\">x</span></span><span class=\"plain    \" ><span class=\"txtu cld\">á-</span></span></span><span class=\"plain    \" ><span class=\"plain txtu cld \"></span><span class=\"plain    \" ><span class=\"txtu cld\">g</span></span><span class=\"plain    \" ><span class=\"txtu cld\">a </span></span></span></span></span></div> </div><div class=\"contnr c1 trm   \" ><div class=\"lbl c1 trm \"><span class=\"nd\">stress</span> <span class=\"txtu cld\"><span class=\"plain outer   \" ><span class=\"plain txtu cld \"></span><span class=\"plain    \" ><span class=\"plain txtu cld \"></span><span class=\"plain    \" ><span class=\"txtu cld\">x</span></span><span class=\"plain    \" ><span class=\"txtu cld\">è</span></span><span class=\"plain    \" ><span class=\"txtu cld\">t</span></span><span class=\"plain    \" ><span class=\"txtu cld\">a,ˈ </span></span></span></span></span></div> </div></div></div></div></div>"
      ],
      "text/plain": [
       "<IPython.core.display.HTML object>"
      ]
     },
     "metadata": {},
     "output_type": "display_data"
    },
    {
     "data": {
      "text/markdown": [
       "### inton 539384\n"
      ],
      "text/plain": [
       "<IPython.core.display.Markdown object>"
      ]
     },
     "metadata": {},
     "output_type": "display_data"
    },
    {
     "data": {
      "text/html": [
       "<span class=\"section ltr\"><a target=\"_blank\" href=\"0.02/Barwar/A Hundred Gold Coins.nena\" title=\"Show this title in the NENA repository\" sec=\"Barwar, A Hundred Gold Coins, Ln. 1\">Barwar, A Hundred Gold Coins, Ln. 1</a> </span> <span class=\"plain outer   \" ><span class=\"plain txtu cld \"></span><span class=\"plain    \" ><span class=\"plain txtu cld \"></span><span class=\"plain    \" ><span class=\"plain txtu cld \"></span><span class=\"plain    \" ><span class=\"txtu cld\">x</span></span><span class=\"plain    \" ><span class=\"txtu cld\">á-</span></span></span><span class=\"plain    \" ><span class=\"plain txtu cld \"></span><span class=\"plain    \" ><span class=\"txtu cld\">g</span></span><span class=\"plain    \" ><span class=\"txtu cld\">a </span></span></span></span><span class=\"plain    \" ><span class=\"plain txtu cld \"></span><span class=\"plain    \" ><span class=\"plain txtu cld \"></span><span class=\"plain    \" ><span class=\"txtu cld\">x</span></span><span class=\"plain    \" ><span class=\"txtu cld\">è</span></span><span class=\"plain    \" ><span class=\"txtu cld\">t</span></span><span class=\"plain    \" ><span class=\"txtu cld\">a,ˈ </span></span></span></span></span>"
      ],
      "text/plain": [
       "<IPython.core.display.HTML object>"
      ]
     },
     "metadata": {},
     "output_type": "display_data"
    },
    {
     "data": {
      "text/html": [
       "<span class=\"section ltr\"><a target=\"_blank\" href=\"0.02/Barwar/A Hundred Gold Coins.nena\" title=\"Show this title in the NENA repository\" sec=\"Barwar, A Hundred Gold Coins, Ln. 1\">Barwar, A Hundred Gold Coins, Ln. 1</a> </span><div class=\"contnr c1    \" ><div class=\"lbl c1  \"><span class=\"nd\">inton</span> </div> <div class=\"children row  \"><div class=\"contnr c1 trm   \" ><div class=\"lbl c1 trm \"><span class=\"nd\">stress</span> <span class=\"txtu cld\"><span class=\"plain outer   \" ><span class=\"plain txtu cld \"></span><span class=\"plain    \" ><span class=\"plain txtu cld \"></span><span class=\"plain    \" ><span class=\"txtu cld\">x</span></span><span class=\"plain    \" ><span class=\"txtu cld\">á-</span></span></span><span class=\"plain    \" ><span class=\"plain txtu cld \"></span><span class=\"plain    \" ><span class=\"txtu cld\">g</span></span><span class=\"plain    \" ><span class=\"txtu cld\">a </span></span></span></span></span></div> </div><div class=\"contnr c1 trm   \" ><div class=\"lbl c1 trm \"><span class=\"nd\">stress</span> <span class=\"txtu cld\"><span class=\"plain outer   \" ><span class=\"plain txtu cld \"></span><span class=\"plain    \" ><span class=\"plain txtu cld \"></span><span class=\"plain    \" ><span class=\"txtu cld\">x</span></span><span class=\"plain    \" ><span class=\"txtu cld\">è</span></span><span class=\"plain    \" ><span class=\"txtu cld\">t</span></span><span class=\"plain    \" ><span class=\"txtu cld\">a,ˈ </span></span></span></span></span></div> </div></div></div>"
      ],
      "text/plain": [
       "<IPython.core.display.HTML object>"
      ]
     },
     "metadata": {},
     "output_type": "display_data"
    },
    {
     "data": {
      "text/markdown": [
       "### stress 594970\n"
      ],
      "text/plain": [
       "<IPython.core.display.Markdown object>"
      ]
     },
     "metadata": {},
     "output_type": "display_data"
    },
    {
     "data": {
      "text/html": [
       "<span class=\"section ltr\"><a target=\"_blank\" href=\"0.02/Barwar/A Hundred Gold Coins.nena\" title=\"Show this title in the NENA repository\" sec=\"Barwar, A Hundred Gold Coins, Ln. 1\">Barwar, A Hundred Gold Coins, Ln. 1</a> </span> <span class=\"plain outer   \" ><span class=\"plain txtu cld \"></span><span class=\"plain    \" ><span class=\"plain txtu cld \"></span><span class=\"plain    \" ><span class=\"txtu cld\">x</span></span><span class=\"plain    \" ><span class=\"txtu cld\">á-</span></span></span><span class=\"plain    \" ><span class=\"plain txtu cld \"></span><span class=\"plain    \" ><span class=\"txtu cld\">g</span></span><span class=\"plain    \" ><span class=\"txtu cld\">a </span></span></span></span>"
      ],
      "text/plain": [
       "<IPython.core.display.HTML object>"
      ]
     },
     "metadata": {},
     "output_type": "display_data"
    },
    {
     "data": {
      "text/html": [
       "<span class=\"section ltr\"><a target=\"_blank\" href=\"0.02/Barwar/A Hundred Gold Coins.nena\" title=\"Show this title in the NENA repository\" sec=\"Barwar, A Hundred Gold Coins, Ln. 1\">Barwar, A Hundred Gold Coins, Ln. 1</a> </span><div class=\"contnr c1 trm   \" ><div class=\"lbl c1 trm \"><span class=\"nd\">stress</span> <span class=\"txtu cld\"><span class=\"plain outer   \" ><span class=\"plain txtu cld \"></span><span class=\"plain    \" ><span class=\"plain txtu cld \"></span><span class=\"plain    \" ><span class=\"txtu cld\">x</span></span><span class=\"plain    \" ><span class=\"txtu cld\">á-</span></span></span><span class=\"plain    \" ><span class=\"plain txtu cld \"></span><span class=\"plain    \" ><span class=\"txtu cld\">g</span></span><span class=\"plain    \" ><span class=\"txtu cld\">a </span></span></span></span></span></div> </div>"
      ],
      "text/plain": [
       "<IPython.core.display.HTML object>"
      ]
     },
     "metadata": {},
     "output_type": "display_data"
    },
    {
     "data": {
      "text/markdown": [
       "### word 713385\n"
      ],
      "text/plain": [
       "<IPython.core.display.Markdown object>"
      ]
     },
     "metadata": {},
     "output_type": "display_data"
    },
    {
     "data": {
      "text/html": [
       "<span class=\"section ltr\"><a target=\"_blank\" href=\"0.02/Barwar/A Hundred Gold Coins.nena\" title=\"Show this title in the NENA repository\" sec=\"Barwar, A Hundred Gold Coins, Ln. 1\">Barwar, A Hundred Gold Coins, Ln. 1</a> </span> <span class=\"plain outer   \" ><span class=\"plain txtu cld \"></span><span class=\"plain    \" ><span class=\"txtu cld\">x</span></span><span class=\"plain    \" ><span class=\"txtu cld\">á-</span></span></span>"
      ],
      "text/plain": [
       "<IPython.core.display.HTML object>"
      ]
     },
     "metadata": {},
     "output_type": "display_data"
    },
    {
     "data": {
      "text/html": [
       "<span class=\"section ltr\"><a target=\"_blank\" href=\"0.02/Barwar/A Hundred Gold Coins.nena\" title=\"Show this title in the NENA repository\" sec=\"Barwar, A Hundred Gold Coins, Ln. 1\">Barwar, A Hundred Gold Coins, Ln. 1</a> </span><div class=\"contnr c1    \" ><div class=\"lbl c1  \"><span class=\"nd\">word</span> </div> <div class='features'><span class=\"lemma \">xa, xaʾa</span><span class=\"gloss \"><span class=\"f\">gloss=</span>one; a </span></div><div class=\"children row  \"><div class=\"contnr c0 trm   \" ><div class=\"lbl c0 trm \"> <span class=\"txtu cld\">x</span></div> </div><div class=\"contnr c0 trm   \" ><div class=\"lbl c0 trm \"> <span class=\"txtu cld\">á-</span></div> </div></div></div>"
      ],
      "text/plain": [
       "<IPython.core.display.HTML object>"
      ]
     },
     "metadata": {},
     "output_type": "display_data"
    },
    {
     "data": {
      "text/markdown": [
       "### letter 1\n"
      ],
      "text/plain": [
       "<IPython.core.display.Markdown object>"
      ]
     },
     "metadata": {},
     "output_type": "display_data"
    },
    {
     "data": {
      "text/html": [
       "<span class=\"section ltr\"><a target=\"_blank\" href=\"0.02/Barwar/A Hundred Gold Coins.nena\" title=\"Show this title in the NENA repository\" sec=\"Barwar, A Hundred Gold Coins, Ln. 1\">Barwar, A Hundred Gold Coins, Ln. 1</a> </span> <span class=\"plain outer   \" ><span class=\"txtu cld\">x</span></span>"
      ],
      "text/plain": [
       "<IPython.core.display.HTML object>"
      ]
     },
     "metadata": {},
     "output_type": "display_data"
    },
    {
     "data": {
      "text/html": [
       "<span class=\"section ltr\"><a target=\"_blank\" href=\"0.02/Barwar/A Hundred Gold Coins.nena\" title=\"Show this title in the NENA repository\" sec=\"Barwar, A Hundred Gold Coins, Ln. 1\">Barwar, A Hundred Gold Coins, Ln. 1</a> </span><div class=\"contnr c0 trm   \" ><div class=\"lbl c0 trm \"> <span class=\"txtu cld\">x</span></div> </div>"
      ],
      "text/plain": [
       "<IPython.core.display.HTML object>"
      ]
     },
     "metadata": {},
     "output_type": "display_data"
    }
   ],
   "source": [
    "typeShow(A, showFeatures=True, prettyTypes=True)"
   ]
  },
  {
   "cell_type": "code",
   "execution_count": 20,
   "metadata": {},
   "outputs": [
    {
     "data": {
      "text/markdown": [
       "### dialect 539382\n"
      ],
      "text/plain": [
       "<IPython.core.display.Markdown object>"
      ]
     },
     "metadata": {},
     "output_type": "display_data"
    },
    {
     "data": {
      "text/html": [
       "<span class=\"section ltr\"><a target=\"_blank\" href=\"0.02/Barwar/A Hundred Gold Coins.nena\" title=\"Show this title in the NENA repository\" sec=\"Barwar\">Barwar</a> </span> <span class=\"plain outer   \" ><span class=\"nd\">539382</span><span class=\"plain txtu cld \"><span class=\"section\"> </span></span></span>"
      ],
      "text/plain": [
       "<IPython.core.display.HTML object>"
      ]
     },
     "metadata": {},
     "output_type": "display_data"
    },
    {
     "data": {
      "text/html": [
       "<span class=\"section ltr\"><a target=\"_blank\" href=\"0.02/Barwar/A Hundred Gold Coins.nena\" title=\"Show this title in the NENA repository\" sec=\"Barwar\">Barwar</a> </span><div class=\"contnr c4 trm   \" ><div class=\"lbl c4 trm \"><span class=\"nd\">dialect:539382</span> <span class=\"txtu cld\">Barwar</span></div> </div>"
      ],
      "text/plain": [
       "<IPython.core.display.HTML object>"
      ]
     },
     "metadata": {},
     "output_type": "display_data"
    },
    {
     "data": {
      "text/markdown": [
       "### text 713259\n"
      ],
      "text/plain": [
       "<IPython.core.display.Markdown object>"
      ]
     },
     "metadata": {},
     "output_type": "display_data"
    },
    {
     "data": {
      "text/html": [
       "<span class=\"section ltr\"><a target=\"_blank\" href=\"0.02/Barwar/A Hundred Gold Coins.nena\" title=\"Show this title in the NENA repository\" sec=\"Barwar, A Hundred Gold Coins\">Barwar, A Hundred Gold Coins</a> </span> <span class=\"plain outer   \" ><span class=\"nd\">713259</span><span class=\"plain txtu cld \"><span class=\"section\"> </span></span></span>"
      ],
      "text/plain": [
       "<IPython.core.display.HTML object>"
      ]
     },
     "metadata": {},
     "output_type": "display_data"
    },
    {
     "data": {
      "text/html": [
       "<span class=\"section ltr\"><a target=\"_blank\" href=\"0.02/Barwar/A Hundred Gold Coins.nena\" title=\"Show this title in the NENA repository\" sec=\"Barwar, A Hundred Gold Coins\">Barwar, A Hundred Gold Coins</a> </span><div class=\"contnr c4 trm   \" ><div class=\"lbl c4 trm \"><span class=\"nd\">text:713259</span> <span class=\"txtu cld\">A6</span></div> </div>"
      ],
      "text/plain": [
       "<IPython.core.display.HTML object>"
      ]
     },
     "metadata": {},
     "output_type": "display_data"
    },
    {
     "data": {
      "text/markdown": [
       "### paragraph 577912\n"
      ],
      "text/plain": [
       "<IPython.core.display.Markdown object>"
      ]
     },
     "metadata": {},
     "output_type": "display_data"
    },
    {
     "data": {
      "text/html": [
       "<span class=\"section ltr\"><a target=\"_blank\" href=\"0.02/Barwar/A Hundred Gold Coins.nena\" title=\"Show this title in the NENA repository\" sec=\"Barwar, A Hundred Gold Coins, Ln. 1\">Barwar, A Hundred Gold Coins, Ln. 1</a> </span> <span class=\"plain outer   \" ><span class=\"nd\">577912</span><span class=\"plain txtu cld \"></span></span>"
      ],
      "text/plain": [
       "<IPython.core.display.HTML object>"
      ]
     },
     "metadata": {},
     "output_type": "display_data"
    },
    {
     "data": {
      "text/html": [
       "<span class=\"section ltr\"><a target=\"_blank\" href=\"0.02/Barwar/A Hundred Gold Coins.nena\" title=\"Show this title in the NENA repository\" sec=\"Barwar, A Hundred Gold Coins, Ln. 1\">Barwar, A Hundred Gold Coins, Ln. 1</a> </span><div class=\"contnr c2 trm   \" ><div class=\"lbl c2 trm \"><span class=\"nd\">paragraph:577912</span> <span class=\"txtu cld\">1</span></div> </div>"
      ],
      "text/plain": [
       "<IPython.core.display.HTML object>"
      ]
     },
     "metadata": {},
     "output_type": "display_data"
    },
    {
     "data": {
      "text/markdown": [
       "### line 575368\n"
      ],
      "text/plain": [
       "<IPython.core.display.Markdown object>"
      ]
     },
     "metadata": {},
     "output_type": "display_data"
    },
    {
     "data": {
      "text/html": [
       "<span class=\"section ltr\"><a target=\"_blank\" href=\"0.02/Barwar/A Hundred Gold Coins.nena\" title=\"Show this title in the NENA repository\" sec=\"Barwar, A Hundred Gold Coins, Ln. 1\">Barwar, A Hundred Gold Coins, Ln. 1</a> </span> <span class=\"plain outer   \" ><span class=\"nd\">575368</span><span class=\"plain txtu cld \"></span><span class=\"plain    \" ><span class=\"plain txtu cld \"></span><span class=\"plain    \" ><span class=\"plain txtu cld \"></span><span class=\"plain    \" ><span class=\"plain txtu cld \"></span><span class=\"plain    \" ><span class=\"plain txtu cld \"></span><span class=\"plain    \" ><span class=\"plain txtu cld \"></span><span class=\"plain    \" ><span class=\"txtu cld\">x</span></span><span class=\"plain    \" ><span class=\"txtu cld\">á-</span></span></span><span class=\"plain    \" ><span class=\"plain txtu cld \"></span><span class=\"plain    \" ><span class=\"txtu cld\">g</span></span><span class=\"plain    \" ><span class=\"txtu cld\">a </span></span></span></span><span class=\"plain    \" ><span class=\"plain txtu cld \"></span><span class=\"plain    \" ><span class=\"plain txtu cld \"></span><span class=\"plain    \" ><span class=\"txtu cld\">x</span></span><span class=\"plain    \" ><span class=\"txtu cld\">è</span></span><span class=\"plain    \" ><span class=\"txtu cld\">t</span></span><span class=\"plain    \" ><span class=\"txtu cld\">a,ˈ </span></span></span></span></span></span><span class=\"plain    \" ><span class=\"plain txtu cld \"></span><span class=\"plain    \" ><span class=\"plain txtu cld \"></span><span class=\"plain    \" ><span class=\"plain txtu cld \"></span><span class=\"plain    \" ><span class=\"plain txtu cld \"></span><span class=\"plain    \" ><span class=\"txtu cld\">m</span></span><span class=\"plain    \" ><span class=\"txtu cld\">á</span></span><span class=\"plain    \" ><span class=\"txtu cld\">l</span></span><span class=\"plain    \" ><span class=\"txtu cld\">l</span></span><span class=\"plain    \" ><span class=\"txtu cld\">a</span></span><span class=\"plain    \" ><span class=\"txtu cld\">h </span></span></span></span><span class=\"plain    \" ><span class=\"plain txtu cld \"></span><span class=\"plain    \" ><span class=\"plain txtu cld \"></span><span class=\"plain    \" ><span class=\"txtu cld\">N</span></span><span class=\"plain    \" ><span class=\"txtu cld\">a</span></span><span class=\"plain    \" ><span class=\"txtu cld\">ṣ</span></span><span class=\"plain    \" ><span class=\"txtu cld\">r</span></span><span class=\"plain    \" ><span class=\"txtu cld\">à</span></span><span class=\"plain    \" ><span class=\"txtu cld\">d</span></span><span class=\"plain    \" ><span class=\"txtu cld\">i</span></span><span class=\"plain    \" ><span class=\"txtu cld\">n,ˈ </span></span></span></span></span></span><span class=\"plain    \" ><span class=\"plain txtu cld \"></span><span class=\"plain    \" ><span class=\"plain txtu cld \"></span><span class=\"plain    \" ><span class=\"plain txtu cld \"></span><span class=\"plain    \" ><span class=\"plain txtu cld \"></span><span class=\"plain    \" ><span class=\"txtu cld\">x</span></span><span class=\"plain    \" ><span class=\"txtu cld\">á</span></span><span class=\"plain    \" ><span class=\"txtu cld\">z</span></span><span class=\"plain    \" ><span class=\"txtu cld\">ə</span></span><span class=\"plain    \" ><span class=\"txtu cld\">x </span></span></span></span><span class=\"plain    \" ><span class=\"plain txtu cld \"></span><span class=\"plain    \" ><span class=\"plain txtu cld \"></span><span class=\"plain    \" ><span class=\"txtu cld\">m</span></span><span class=\"plain    \" ><span class=\"txtu cld\">ò</span></span><span class=\"plain    \" ><span class=\"txtu cld\">d</span></span><span class=\"plain    \" ><span class=\"txtu cld\">i </span></span></span></span><span class=\"plain    \" ><span class=\"plain txtu cld \"></span><span class=\"plain    \" ><span class=\"plain txtu cld \"></span><span class=\"plain    \" ><span class=\"txtu cld\">w</span></span><span class=\"plain    \" ><span class=\"txtu cld\">í</span></span><span class=\"plain    \" ><span class=\"txtu cld\">ð</span></span><span class=\"plain    \" ><span class=\"txtu cld\">a.ˈ </span></span></span></span></span></span></span><span class=\"plain    \" ><span class=\"plain txtu cld \"></span><span class=\"plain    \" ><span class=\"plain txtu cld \"></span><span class=\"plain    \" ><span class=\"plain txtu cld \"></span><span class=\"plain    \" ><span class=\"plain txtu cld \"></span><span class=\"plain    \" ><span class=\"plain txtu cld \"></span><span class=\"plain    \" ><span class=\"txtu cld\">g</span></span><span class=\"plain    \" ><span class=\"txtu cld\">u-</span></span></span><span class=\"plain    \" ><span class=\"plain txtu cld \"></span><span class=\"plain    \" ><span class=\"txtu cld\">b</span></span><span class=\"plain    \" ><span class=\"txtu cld\">ɛ̀</span></span><span class=\"plain    \" ><span class=\"txtu cld\">θ</span></span><span class=\"plain    \" ><span class=\"txtu cld\">a </span></span></span></span><span class=\"plain    \" ><span class=\"plain txtu cld \"></span><span class=\"plain    \" ><span class=\"plain txtu cld \"></span><span class=\"plain    \" ><span class=\"txtu cld\">w</span></span><span class=\"plain    \" ><span class=\"txtu cld\">é</span></span><span class=\"plain    \" ><span class=\"txtu cld\">w</span></span><span class=\"plain    \" ><span class=\"txtu cld\">a,ˈ </span></span></span></span></span></span><span class=\"plain    \" ><span class=\"plain txtu cld \"></span><span class=\"plain    \" ><span class=\"plain txtu cld \"></span><span class=\"plain    \" ><span class=\"plain txtu cld \"></span><span class=\"plain    \" ><span class=\"plain txtu cld \"></span><span class=\"plain    \" ><span class=\"txtu cld\">h</span></span><span class=\"plain    \" ><span class=\"txtu cld\">a</span></span><span class=\"plain    \" ><span class=\"txtu cld\">r-</span></span></span><span class=\"plain    \" ><span class=\"plain txtu cld \"></span><span class=\"plain    \" ><span class=\"txtu cld\">z</span></span><span class=\"plain    \" ><span class=\"txtu cld\">á</span></span><span class=\"plain    \" ><span class=\"txtu cld\">l</span></span><span class=\"plain    \" ><span class=\"txtu cld\">a-</span></span></span><span class=\"plain    \" ><span class=\"plain txtu cld \"></span><span class=\"plain    \" ><span class=\"txtu cld\">w </span></span></span></span><span class=\"plain    \" ><span class=\"plain txtu cld \"></span><span class=\"plain    \" ><span class=\"plain txtu cld \"></span><span class=\"plain    \" ><span class=\"txtu cld\">θ</span></span><span class=\"plain    \" ><span class=\"txtu cld\">à</span></span><span class=\"plain    \" ><span class=\"txtu cld\">y</span></span><span class=\"plain    \" ><span class=\"txtu cld\">a.ˈ </span></span></span></span></span></span></span><span class=\"plain    \" ><span class=\"plain txtu cld \"></span><span class=\"plain    \" ><span class=\"plain txtu cld \"></span><span class=\"plain    \" ><span class=\"plain txtu cld \"></span><span class=\"plain    \" ><span class=\"plain txtu cld \"></span><span class=\"plain    \" ><span class=\"plain txtu cld \"></span><span class=\"plain    \" ><span class=\"txtu cld\">z</span></span><span class=\"plain    \" ><span class=\"txtu cld\">á</span></span><span class=\"plain    \" ><span class=\"txtu cld\">l</span></span><span class=\"plain    \" ><span class=\"txtu cld\">a-</span></span></span><span class=\"plain    \" ><span class=\"plain txtu cld \"></span><span class=\"plain    \" ><span class=\"txtu cld\">w </span></span></span></span><span class=\"plain    \" ><span class=\"plain txtu cld \"></span><span class=\"plain    \" ><span class=\"plain txtu cld \"></span><span class=\"plain    \" ><span class=\"txtu cld\">θ</span></span><span class=\"plain    \" ><span class=\"txtu cld\">à</span></span><span class=\"plain    \" ><span class=\"txtu cld\">y</span></span><span class=\"plain    \" ><span class=\"txtu cld\">a,ˈ </span></span></span></span></span></span><span class=\"plain    \" ><span class=\"plain txtu cld \"></span><span class=\"plain    \" ><span class=\"plain txtu cld \"></span><span class=\"plain    \" ><span class=\"plain txtu cld \"></span><span class=\"plain    \" ><span class=\"plain txtu cld \"></span><span class=\"plain    \" ><span class=\"txtu cld\">m</span></span><span class=\"plain    \" ><span class=\"txtu cld\">á</span></span><span class=\"plain    \" ><span class=\"txtu cld\">r</span></span><span class=\"plain    \" ><span class=\"txtu cld\">a </span></span></span></span><span class=\"plain    \" ><span class=\"plain txtu cld \"></span><span class=\"plain    \" ><span class=\"plain txtu cld \"></span><span class=\"plain    \" ><span class=\"txtu cld\">y</span></span><span class=\"plain    \" ><span class=\"txtu cld\">a-</span></span></span><span class=\"plain    \" ><span class=\"plain txtu cld \"></span><span class=\"plain    \" ><span class=\"txtu cld\">ʾ</span></span><span class=\"plain    \" ><span class=\"txtu cld\">à</span></span><span class=\"plain    \" ><span class=\"txtu cld\">l</span></span><span class=\"plain    \" ><span class=\"txtu cld\">a</span></span><span class=\"plain    \" ><span class=\"txtu cld\">h</span></span><span class=\"plain    \" ><span class=\"txtu cld\">a,ˈ </span></span></span></span></span></span><span class=\"plain    \" ><span class=\"plain txtu cld \"></span><span class=\"plain    \" ><span class=\"plain txtu cld \"></span><span class=\"plain    \" ><span class=\"plain txtu cld \"></span><span class=\"plain    \" ><span class=\"plain txtu cld \"></span><span class=\"plain    \" ><span class=\"txtu cld\">y</span></span><span class=\"plain    \" ><span class=\"txtu cld\">a</span></span><span class=\"plain    \" ><span class=\"txtu cld\">w</span></span><span class=\"plain    \" ><span class=\"txtu cld\">ə̀</span></span><span class=\"plain    \" ><span class=\"txtu cld\">t</span></span><span class=\"plain    \" ><span class=\"txtu cld\">l</span></span><span class=\"plain    \" ><span class=\"txtu cld\">iˈ </span></span></span></span></span><span class=\"plain    \" ><span class=\"plain txtu cld \"></span><span class=\"plain    \" ><span class=\"plain txtu cld \"></span><span class=\"plain    \" ><span class=\"plain txtu cld \"></span><span class=\"plain    \" ><span class=\"txtu cld\">ʾ</span></span><span class=\"plain    \" ><span class=\"txtu cld\">ə́</span></span><span class=\"plain    \" ><span class=\"txtu cld\">m</span></span><span class=\"plain    \" ><span class=\"txtu cld\">m</span></span><span class=\"plain    \" ><span class=\"txtu cld\">a </span></span></span></span><span class=\"plain    \" ><span class=\"plain txtu cld \"></span><span class=\"plain    \" ><span class=\"plain txtu cld \"></span><span class=\"plain    \" ><span class=\"txtu cld\">d</span></span><span class=\"plain    \" ><span class=\"txtu cld\">à</span></span><span class=\"plain    \" ><span class=\"txtu cld\">w</span></span><span class=\"plain    \" ><span class=\"txtu cld\">e.ˈ </span></span></span></span></span></span></span><span class=\"plain    \" ><span class=\"plain txtu cld \"></span><span class=\"plain    \" ><span class=\"plain txtu cld \"></span><span class=\"plain    \" ><span class=\"plain txtu cld \"></span><span class=\"plain    \" ><span class=\"plain txtu cld \"></span><span class=\"plain    \" ><span class=\"plain txtu cld \"></span><span class=\"plain    \" ><span class=\"txtu cld\">ʾ</span></span><span class=\"plain    \" ><span class=\"txtu cld\">ə</span></span><span class=\"plain    \" ><span class=\"txtu cld\">n-</span></span></span><span class=\"plain    \" ><span class=\"plain txtu cld \"></span><span class=\"plain    \" ><span class=\"txtu cld\">h</span></span><span class=\"plain    \" ><span class=\"txtu cld\">à</span></span><span class=\"plain    \" ><span class=\"txtu cld\">w</span></span><span class=\"plain    \" ><span class=\"txtu cld\">aˈ </span></span></span></span></span><span class=\"plain    \" ><span class=\"plain txtu cld \"></span><span class=\"plain    \" ><span class=\"plain txtu cld \"></span><span class=\"plain    \" ><span class=\"plain txtu cld \"></span><span class=\"plain    \" ><span class=\"txtu cld\">ʾ</span></span><span class=\"plain    \" ><span class=\"txtu cld\">ə́</span></span><span class=\"plain    \" ><span class=\"txtu cld\">č̣</span></span><span class=\"plain    \" ><span class=\"txtu cld\">č̣</span></span><span class=\"plain    \" ><span class=\"txtu cld\">i-</span></span></span><span class=\"plain    \" ><span class=\"plain txtu cld \"></span><span class=\"plain    \" ><span class=\"txtu cld\">u </span></span></span></span><span class=\"plain    \" ><span class=\"plain txtu cld \"></span><span class=\"plain    \" ><span class=\"plain txtu cld \"></span><span class=\"plain    \" ><span class=\"txtu cld\">ʾ</span></span><span class=\"plain    \" ><span class=\"txtu cld\">ə́</span></span><span class=\"plain    \" ><span class=\"txtu cld\">č̣</span></span><span class=\"plain    \" ><span class=\"txtu cld\">č̣</span></span><span class=\"plain    \" ><span class=\"txtu cld\">a </span></span></span></span><span class=\"plain    \" ><span class=\"plain txtu cld \"></span><span class=\"plain    \" ><span class=\"plain txtu cld \"></span><span class=\"plain    \" ><span class=\"txtu cld\">m</span></span><span class=\"plain    \" ><span class=\"txtu cld\">a</span></span><span class=\"plain    \" ><span class=\"txtu cld\">q</span></span><span class=\"plain    \" ><span class=\"txtu cld\">ə</span></span><span class=\"plain    \" ><span class=\"txtu cld\">l</span></span><span class=\"plain    \" ><span class=\"txtu cld\">b</span></span><span class=\"plain    \" ><span class=\"txtu cld\">ə̀</span></span><span class=\"plain    \" ><span class=\"txtu cld\">n</span></span><span class=\"plain    \" ><span class=\"txtu cld\">n</span></span><span class=\"plain    \" ><span class=\"txtu cld\">a.ˈ </span></span></span></span></span></span></span><span class=\"plain    \" ><span class=\"plain txtu cld \"></span><span class=\"plain    \" ><span class=\"plain txtu cld \"></span><span class=\"plain    \" ><span class=\"plain txtu cld \"></span><span class=\"plain    \" ><span class=\"plain txtu cld \"></span><span class=\"plain    \" ><span class=\"plain txtu cld \"></span><span class=\"plain    \" ><span class=\"txtu cld\">ʾ</span></span><span class=\"plain    \" ><span class=\"txtu cld\">u-</span></span></span><span class=\"plain    \" ><span class=\"plain txtu cld \"></span><span class=\"plain    \" ><span class=\"txtu cld\">ʾ</span></span><span class=\"plain    \" ><span class=\"txtu cld\">ə</span></span><span class=\"plain    \" ><span class=\"txtu cld\">n-</span></span></span><span class=\"plain    \" ><span class=\"plain txtu cld \"></span><span class=\"plain    \" ><span class=\"txtu cld\">h</span></span><span class=\"plain    \" ><span class=\"txtu cld\">à</span></span><span class=\"plain    \" ><span class=\"txtu cld\">w</span></span><span class=\"plain    \" ><span class=\"txtu cld\">aˈ </span></span></span></span></span><span class=\"plain    \" ><span class=\"plain txtu cld \"></span><span class=\"plain    \" ><span class=\"plain txtu cld \"></span><span class=\"plain    \" ><span class=\"plain txtu cld \"></span><span class=\"plain    \" ><span class=\"txtu cld\">ʾ</span></span><span class=\"plain    \" ><span class=\"txtu cld\">ə́</span></span><span class=\"plain    \" ><span class=\"txtu cld\">m</span></span><span class=\"plain    \" ><span class=\"txtu cld\">m</span></span><span class=\"plain    \" ><span class=\"txtu cld\">a-</span></span></span><span class=\"plain    \" ><span class=\"plain txtu cld \"></span><span class=\"plain    \" ><span class=\"txtu cld\">w-</span></span></span><span class=\"plain    \" ><span class=\"plain txtu cld \"></span><span class=\"plain    \" ><span class=\"txtu cld\">x</span></span><span class=\"plain    \" ><span class=\"txtu cld\">à-</span></span></span><span class=\"plain    \" ><span class=\"plain txtu cld \"></span><span class=\"plain    \" ><span class=\"txtu cld\">ž</span></span><span class=\"plain    \" ><span class=\"txtu cld\">i,ˈ </span></span></span></span></span></span><span class=\"plain    \" ><span class=\"plain txtu cld \"></span><span class=\"plain    \" ><span class=\"plain txtu cld \"></span><span class=\"plain    \" ><span class=\"plain txtu cld \"></span><span class=\"plain    \" ><span class=\"plain txtu cld \"></span><span class=\"plain    \" ><span class=\"txtu cld\">l</span></span><span class=\"plain    \" ><span class=\"txtu cld\">a-</span></span></span><span class=\"plain    \" ><span class=\"plain txtu cld \"></span><span class=\"plain    \" ><span class=\"txtu cld\">b</span></span><span class=\"plain    \" ><span class=\"txtu cld\">ă</span></span><span class=\"plain    \" ><span class=\"txtu cld\">y</span></span><span class=\"plain    \" ><span class=\"txtu cld\">ə̀</span></span><span class=\"plain    \" ><span class=\"txtu cld\">n</span></span><span class=\"plain    \" ><span class=\"txtu cld\">n</span></span><span class=\"plain    \" ><span class=\"txtu cld\">a.ˈ </span></span></span></span></span></span></span><span class=\"plain    \" ><span class=\"plain txtu cld \"></span><span class=\"plain    \" ><span class=\"plain txtu cld \"></span><span class=\"plain    \" ><span class=\"plain txtu cld \"></span><span class=\"plain    \" ><span class=\"plain txtu cld \"></span><span class=\"plain    \" ><span class=\"plain txtu cld \"></span><span class=\"plain    \" ><span class=\"txtu cld\">d</span></span><span class=\"plain    \" ><span class=\"txtu cld\">e-</span></span></span><span class=\"plain    \" ><span class=\"plain txtu cld \"></span><span class=\"plain    \" ><span class=\"txtu cld\">š</span></span><span class=\"plain    \" ><span class=\"txtu cld\">ù</span></span><span class=\"plain    \" ><span class=\"txtu cld\">q</span></span><span class=\"plain    \" ><span class=\"txtu cld\">l</span></span><span class=\"plain    \" ><span class=\"txtu cld\">a.ˈ </span></span></span></span></span></span></span><span class=\"plain    \" ><span class=\"plain txtu cld \"></span><span class=\"plain    \" ><span class=\"plain txtu cld \"></span><span class=\"plain    \" ><span class=\"plain txtu cld \"></span><span class=\"plain    \" ><span class=\"plain txtu cld \"></span><span class=\"plain    \" ><span class=\"plain txtu cld \"></span><span class=\"plain    \" ><span class=\"txtu cld\">ʾ</span></span><span class=\"plain    \" ><span class=\"txtu cld\">ə̀</span></span><span class=\"plain    \" ><span class=\"txtu cld\">m</span></span><span class=\"plain    \" ><span class=\"txtu cld\">m</span></span><span class=\"plain    \" ><span class=\"txtu cld\">a </span></span></span></span><span class=\"plain    \" ><span class=\"plain txtu cld \"></span><span class=\"plain    \" ><span class=\"plain txtu cld \"></span><span class=\"plain    \" ><span class=\"txtu cld\">g</span></span><span class=\"plain    \" ><span class=\"txtu cld\">ắ</span></span><span class=\"plain    \" ><span class=\"txtu cld\">r</span></span><span class=\"plain    \" ><span class=\"txtu cld\">ə</span></span><span class=\"plain    \" ><span class=\"txtu cld\">g </span></span></span></span><span class=\"plain    \" ><span class=\"plain txtu cld \"></span><span class=\"plain    \" ><span class=\"plain txtu cld \"></span><span class=\"plain    \" ><span class=\"txtu cld\">h</span></span><span class=\"plain    \" ><span class=\"txtu cld\">á</span></span><span class=\"plain    \" ><span class=\"txtu cld\">w</span></span><span class=\"plain    \" ><span class=\"txtu cld\">a </span></span></span></span><span class=\"plain    \" ><span class=\"plain txtu cld \"></span><span class=\"plain    \" ><span class=\"plain txtu cld \"></span><span class=\"plain    \" ><span class=\"txtu cld\">d</span></span><span class=\"plain    \" ><span class=\"txtu cld\">r</span></span><span class=\"plain    \" ><span class=\"txtu cld\">ə́</span></span><span class=\"plain    \" ><span class=\"txtu cld\">s</span></span><span class=\"plain    \" ><span class=\"txtu cld\">t.ˈ </span></span></span></span></span></span></span></span>"
      ],
      "text/plain": [
       "<IPython.core.display.HTML object>"
      ]
     },
     "metadata": {},
     "output_type": "display_data"
    },
    {
     "data": {
      "text/html": [
       "<span class=\"section ltr\"><a target=\"_blank\" href=\"0.02/Barwar/A Hundred Gold Coins.nena\" title=\"Show this title in the NENA repository\" sec=\"Barwar, A Hundred Gold Coins, Ln. 1\">Barwar, A Hundred Gold Coins, Ln. 1</a> </span><div class=\"contnr c3    \" ><div class=\"lbl c3  \"><span class=\"nd\">line:575368</span> <span class=\"txtu cld\">1</span></div> <div class=\"children row wrap \"><div class=\"children row wrap \"><div class=\"contnr c2    r \" ><div class=\"lbl c2  \"><span class=\"nd\">sentence:578263</span> </div> <div class=\"children row wrap \"><div class=\"contnr cnul trm   \" ><div class=\"children row wrap \"><div class=\"contnr c1    \" ><div class=\"lbl c1  \"><span class=\"nd\">inton:539384</span> </div> <div class=\"children row  \"><div class=\"contnr c1 trm   \" ><div class=\"lbl c1 trm \"><span class=\"nd\">stress:594970</span> <span class=\"txtu cld\"><span class=\"plain outer   \" ><span class=\"plain txtu cld \"></span><span class=\"plain    \" ><span class=\"plain txtu cld \"></span><span class=\"plain    \" ><span class=\"txtu cld\">x</span></span><span class=\"plain    \" ><span class=\"txtu cld\">á-</span></span></span><span class=\"plain    \" ><span class=\"plain txtu cld \"></span><span class=\"plain    \" ><span class=\"txtu cld\">g</span></span><span class=\"plain    \" ><span class=\"txtu cld\">a </span></span></span></span></span></div> </div><div class=\"contnr c1 trm   \" ><div class=\"lbl c1 trm \"><span class=\"nd\">stress:594971</span> <span class=\"txtu cld\"><span class=\"plain outer   \" ><span class=\"plain txtu cld \"></span><span class=\"plain    \" ><span class=\"plain txtu cld \"></span><span class=\"plain    \" ><span class=\"txtu cld\">x</span></span><span class=\"plain    \" ><span class=\"txtu cld\">è</span></span><span class=\"plain    \" ><span class=\"txtu cld\">t</span></span><span class=\"plain    \" ><span class=\"txtu cld\">a,ˈ </span></span></span></span></span></div> </div></div></div></div></div></div></div><div class=\"contnr c2    l r \" ><div class=\"lbl c2  \"><span class=\"nd\">sentence:578263</span> </div> <div class=\"children row wrap \"><div class=\"contnr cnul trm   \" ><div class=\"children row wrap \"><div class=\"contnr c1    \" ><div class=\"lbl c1  \"><span class=\"nd\">inton:539385</span> </div> <div class=\"children row  \"><div class=\"contnr c1 trm   \" ><div class=\"lbl c1 trm \"><span class=\"nd\">stress:594972</span> <span class=\"txtu cld\"><span class=\"plain outer   \" ><span class=\"plain txtu cld \"></span><span class=\"plain    \" ><span class=\"plain txtu cld \"></span><span class=\"plain    \" ><span class=\"txtu cld\">m</span></span><span class=\"plain    \" ><span class=\"txtu cld\">á</span></span><span class=\"plain    \" ><span class=\"txtu cld\">l</span></span><span class=\"plain    \" ><span class=\"txtu cld\">l</span></span><span class=\"plain    \" ><span class=\"txtu cld\">a</span></span><span class=\"plain    \" ><span class=\"txtu cld\">h </span></span></span></span></span></div> </div><div class=\"contnr c1 trm   \" ><div class=\"lbl c1 trm \"><span class=\"nd\">stress:594973</span> <span class=\"txtu cld\"><span class=\"plain outer   \" ><span class=\"plain txtu cld \"></span><span class=\"plain    \" ><span class=\"plain txtu cld \"></span><span class=\"plain    \" ><span class=\"txtu cld\">N</span></span><span class=\"plain    \" ><span class=\"txtu cld\">a</span></span><span class=\"plain    \" ><span class=\"txtu cld\">ṣ</span></span><span class=\"plain    \" ><span class=\"txtu cld\">r</span></span><span class=\"plain    \" ><span class=\"txtu cld\">à</span></span><span class=\"plain    \" ><span class=\"txtu cld\">d</span></span><span class=\"plain    \" ><span class=\"txtu cld\">i</span></span><span class=\"plain    \" ><span class=\"txtu cld\">n,ˈ </span></span></span></span></span></div> </div></div></div></div></div></div></div><div class=\"contnr c2    l \" ><div class=\"lbl c2  \"><span class=\"nd\">sentence:578263</span> </div> <div class=\"children row wrap \"><div class=\"contnr cnul trm   \" ><div class=\"children row wrap \"><div class=\"contnr c1    \" ><div class=\"lbl c1  \"><span class=\"nd\">inton:539386</span> </div> <div class=\"children row  \"><div class=\"contnr c1 trm   \" ><div class=\"lbl c1 trm \"><span class=\"nd\">stress:594974</span> <span class=\"txtu cld\"><span class=\"plain outer   \" ><span class=\"plain txtu cld \"></span><span class=\"plain    \" ><span class=\"plain txtu cld \"></span><span class=\"plain    \" ><span class=\"txtu cld\">x</span></span><span class=\"plain    \" ><span class=\"txtu cld\">á</span></span><span class=\"plain    \" ><span class=\"txtu cld\">z</span></span><span class=\"plain    \" ><span class=\"txtu cld\">ə</span></span><span class=\"plain    \" ><span class=\"txtu cld\">x </span></span></span></span></span></div> </div><div class=\"contnr c1 trm   \" ><div class=\"lbl c1 trm \"><span class=\"nd\">stress:594975</span> <span class=\"txtu cld\"><span class=\"plain outer   \" ><span class=\"plain txtu cld \"></span><span class=\"plain    \" ><span class=\"plain txtu cld \"></span><span class=\"plain    \" ><span class=\"txtu cld\">m</span></span><span class=\"plain    \" ><span class=\"txtu cld\">ò</span></span><span class=\"plain    \" ><span class=\"txtu cld\">d</span></span><span class=\"plain    \" ><span class=\"txtu cld\">i </span></span></span></span></span></div> </div><div class=\"contnr c1 trm   \" ><div class=\"lbl c1 trm \"><span class=\"nd\">stress:594976</span> <span class=\"txtu cld\"><span class=\"plain outer   \" ><span class=\"plain txtu cld \"></span><span class=\"plain    \" ><span class=\"plain txtu cld \"></span><span class=\"plain    \" ><span class=\"txtu cld\">w</span></span><span class=\"plain    \" ><span class=\"txtu cld\">í</span></span><span class=\"plain    \" ><span class=\"txtu cld\">ð</span></span><span class=\"plain    \" ><span class=\"txtu cld\">a.ˈ </span></span></span></span></span></div> </div></div></div></div></div></div></div></div><div class=\"children row wrap \"><div class=\"contnr c2    r \" ><div class=\"lbl c2  \"><span class=\"nd\">sentence:578264</span> </div> <div class=\"children row wrap \"><div class=\"contnr cnul trm   \" ><div class=\"children row wrap \"><div class=\"contnr c1    \" ><div class=\"lbl c1  \"><span class=\"nd\">inton:539387</span> </div> <div class=\"children row  \"><div class=\"contnr c1 trm   \" ><div class=\"lbl c1 trm \"><span class=\"nd\">stress:594977</span> <span class=\"txtu cld\"><span class=\"plain outer   \" ><span class=\"plain txtu cld \"></span><span class=\"plain    \" ><span class=\"plain txtu cld \"></span><span class=\"plain    \" ><span class=\"txtu cld\">g</span></span><span class=\"plain    \" ><span class=\"txtu cld\">u-</span></span></span><span class=\"plain    \" ><span class=\"plain txtu cld \"></span><span class=\"plain    \" ><span class=\"txtu cld\">b</span></span><span class=\"plain    \" ><span class=\"txtu cld\">ɛ̀</span></span><span class=\"plain    \" ><span class=\"txtu cld\">θ</span></span><span class=\"plain    \" ><span class=\"txtu cld\">a </span></span></span></span></span></div> </div><div class=\"contnr c1 trm   \" ><div class=\"lbl c1 trm \"><span class=\"nd\">stress:594978</span> <span class=\"txtu cld\"><span class=\"plain outer   \" ><span class=\"plain txtu cld \"></span><span class=\"plain    \" ><span class=\"plain txtu cld \"></span><span class=\"plain    \" ><span class=\"txtu cld\">w</span></span><span class=\"plain    \" ><span class=\"txtu cld\">é</span></span><span class=\"plain    \" ><span class=\"txtu cld\">w</span></span><span class=\"plain    \" ><span class=\"txtu cld\">a,ˈ </span></span></span></span></span></div> </div></div></div></div></div></div></div><div class=\"contnr c2    l \" ><div class=\"lbl c2  \"><span class=\"nd\">sentence:578264</span> </div> <div class=\"children row wrap \"><div class=\"contnr cnul trm   \" ><div class=\"children row wrap \"><div class=\"contnr c1    \" ><div class=\"lbl c1  \"><span class=\"nd\">inton:539388</span> </div> <div class=\"children row  \"><div class=\"contnr c1 trm   \" ><div class=\"lbl c1 trm \"><span class=\"nd\">stress:594979</span> <span class=\"txtu cld\"><span class=\"plain outer   \" ><span class=\"plain txtu cld \"></span><span class=\"plain    \" ><span class=\"plain txtu cld \"></span><span class=\"plain    \" ><span class=\"txtu cld\">h</span></span><span class=\"plain    \" ><span class=\"txtu cld\">a</span></span><span class=\"plain    \" ><span class=\"txtu cld\">r-</span></span></span><span class=\"plain    \" ><span class=\"plain txtu cld \"></span><span class=\"plain    \" ><span class=\"txtu cld\">z</span></span><span class=\"plain    \" ><span class=\"txtu cld\">á</span></span><span class=\"plain    \" ><span class=\"txtu cld\">l</span></span><span class=\"plain    \" ><span class=\"txtu cld\">a-</span></span></span><span class=\"plain    \" ><span class=\"plain txtu cld \"></span><span class=\"plain    \" ><span class=\"txtu cld\">w </span></span></span></span></span></div> </div><div class=\"contnr c1 trm   \" ><div class=\"lbl c1 trm \"><span class=\"nd\">stress:594980</span> <span class=\"txtu cld\"><span class=\"plain outer   \" ><span class=\"plain txtu cld \"></span><span class=\"plain    \" ><span class=\"plain txtu cld \"></span><span class=\"plain    \" ><span class=\"txtu cld\">θ</span></span><span class=\"plain    \" ><span class=\"txtu cld\">à</span></span><span class=\"plain    \" ><span class=\"txtu cld\">y</span></span><span class=\"plain    \" ><span class=\"txtu cld\">a.ˈ </span></span></span></span></span></div> </div></div></div></div></div></div></div></div><div class=\"children row wrap \"><div class=\"contnr c2    r \" ><div class=\"lbl c2  \"><span class=\"nd\">sentence:578265</span> </div> <div class=\"children row wrap \"><div class=\"contnr cnul trm   \" ><div class=\"children row wrap \"><div class=\"contnr c1    \" ><div class=\"lbl c1  \"><span class=\"nd\">inton:539389</span> </div> <div class=\"children row  \"><div class=\"contnr c1 trm   \" ><div class=\"lbl c1 trm \"><span class=\"nd\">stress:594981</span> <span class=\"txtu cld\"><span class=\"plain outer   \" ><span class=\"plain txtu cld \"></span><span class=\"plain    \" ><span class=\"plain txtu cld \"></span><span class=\"plain    \" ><span class=\"txtu cld\">z</span></span><span class=\"plain    \" ><span class=\"txtu cld\">á</span></span><span class=\"plain    \" ><span class=\"txtu cld\">l</span></span><span class=\"plain    \" ><span class=\"txtu cld\">a-</span></span></span><span class=\"plain    \" ><span class=\"plain txtu cld \"></span><span class=\"plain    \" ><span class=\"txtu cld\">w </span></span></span></span></span></div> </div><div class=\"contnr c1 trm   \" ><div class=\"lbl c1 trm \"><span class=\"nd\">stress:594982</span> <span class=\"txtu cld\"><span class=\"plain outer   \" ><span class=\"plain txtu cld \"></span><span class=\"plain    \" ><span class=\"plain txtu cld \"></span><span class=\"plain    \" ><span class=\"txtu cld\">θ</span></span><span class=\"plain    \" ><span class=\"txtu cld\">à</span></span><span class=\"plain    \" ><span class=\"txtu cld\">y</span></span><span class=\"plain    \" ><span class=\"txtu cld\">a,ˈ </span></span></span></span></span></div> </div></div></div></div></div></div></div><div class=\"contnr c2    l r \" ><div class=\"lbl c2  \"><span class=\"nd\">sentence:578265</span> </div> <div class=\"children row wrap \"><div class=\"contnr cnul trm   \" ><div class=\"children row wrap \"><div class=\"contnr c1    \" ><div class=\"lbl c1  \"><span class=\"nd\">inton:539390</span> </div> <div class=\"children row  \"><div class=\"contnr c1 trm   \" ><div class=\"lbl c1 trm \"><span class=\"nd\">stress:594983</span> <span class=\"txtu cld\"><span class=\"plain outer   \" ><span class=\"plain txtu cld \"></span><span class=\"plain    \" ><span class=\"plain txtu cld \"></span><span class=\"plain    \" ><span class=\"txtu cld\">m</span></span><span class=\"plain    \" ><span class=\"txtu cld\">á</span></span><span class=\"plain    \" ><span class=\"txtu cld\">r</span></span><span class=\"plain    \" ><span class=\"txtu cld\">a </span></span></span></span></span></div> </div><div class=\"contnr c1 trm   \" ><div class=\"lbl c1 trm \"><span class=\"nd\">stress:594984</span> <span class=\"txtu cld\"><span class=\"plain outer   \" ><span class=\"plain txtu cld \"></span><span class=\"plain    \" ><span class=\"plain txtu cld \"></span><span class=\"plain    \" ><span class=\"txtu cld\">y</span></span><span class=\"plain    \" ><span class=\"txtu cld\">a-</span></span></span><span class=\"plain    \" ><span class=\"plain txtu cld \"></span><span class=\"plain    \" ><span class=\"txtu cld\">ʾ</span></span><span class=\"plain    \" ><span class=\"txtu cld\">à</span></span><span class=\"plain    \" ><span class=\"txtu cld\">l</span></span><span class=\"plain    \" ><span class=\"txtu cld\">a</span></span><span class=\"plain    \" ><span class=\"txtu cld\">h</span></span><span class=\"plain    \" ><span class=\"txtu cld\">a,ˈ </span></span></span></span></span></div> </div></div></div></div></div></div></div><div class=\"contnr c2    l \" ><div class=\"lbl c2  \"><span class=\"nd\">sentence:578265</span> </div> <div class=\"children row wrap \"><div class=\"contnr cnul trm   \" ><div class=\"children row wrap \"><div class=\"contnr c1    \" ><div class=\"lbl c1  \"><span class=\"nd\">inton:539391</span> </div> <div class=\"children row  \"><div class=\"contnr c1 trm   \" ><div class=\"lbl c1 trm \"><span class=\"nd\">stress:594985</span> <span class=\"txtu cld\"><span class=\"plain outer   \" ><span class=\"plain txtu cld \"></span><span class=\"plain    \" ><span class=\"plain txtu cld \"></span><span class=\"plain    \" ><span class=\"txtu cld\">y</span></span><span class=\"plain    \" ><span class=\"txtu cld\">a</span></span><span class=\"plain    \" ><span class=\"txtu cld\">w</span></span><span class=\"plain    \" ><span class=\"txtu cld\">ə̀</span></span><span class=\"plain    \" ><span class=\"txtu cld\">t</span></span><span class=\"plain    \" ><span class=\"txtu cld\">l</span></span><span class=\"plain    \" ><span class=\"txtu cld\">iˈ </span></span></span></span></span></div> </div></div></div><div class=\"contnr c1    \" ><div class=\"lbl c1  \"><span class=\"nd\">inton:539392</span> </div> <div class=\"children row  \"><div class=\"contnr c1 trm   \" ><div class=\"lbl c1 trm \"><span class=\"nd\">stress:594986</span> <span class=\"txtu cld\"><span class=\"plain outer   \" ><span class=\"plain txtu cld \"></span><span class=\"plain    \" ><span class=\"plain txtu cld \"></span><span class=\"plain    \" ><span class=\"txtu cld\">ʾ</span></span><span class=\"plain    \" ><span class=\"txtu cld\">ə́</span></span><span class=\"plain    \" ><span class=\"txtu cld\">m</span></span><span class=\"plain    \" ><span class=\"txtu cld\">m</span></span><span class=\"plain    \" ><span class=\"txtu cld\">a </span></span></span></span></span></div> </div><div class=\"contnr c1 trm   \" ><div class=\"lbl c1 trm \"><span class=\"nd\">stress:594987</span> <span class=\"txtu cld\"><span class=\"plain outer   \" ><span class=\"plain txtu cld \"></span><span class=\"plain    \" ><span class=\"plain txtu cld \"></span><span class=\"plain    \" ><span class=\"txtu cld\">d</span></span><span class=\"plain    \" ><span class=\"txtu cld\">à</span></span><span class=\"plain    \" ><span class=\"txtu cld\">w</span></span><span class=\"plain    \" ><span class=\"txtu cld\">e.ˈ </span></span></span></span></span></div> </div></div></div></div></div></div></div></div><div class=\"children row wrap \"><div class=\"contnr c2    \" ><div class=\"lbl c2  \"><span class=\"nd\">sentence:578266</span> </div> <div class=\"children row wrap \"><div class=\"contnr cnul trm   \" ><div class=\"children row wrap \"><div class=\"contnr c1    \" ><div class=\"lbl c1  \"><span class=\"nd\">inton:539393</span> </div> <div class=\"children row  \"><div class=\"contnr c1 trm   \" ><div class=\"lbl c1 trm \"><span class=\"nd\">stress:594988</span> <span class=\"txtu cld\"><span class=\"plain outer   \" ><span class=\"plain txtu cld \"></span><span class=\"plain    \" ><span class=\"plain txtu cld \"></span><span class=\"plain    \" ><span class=\"txtu cld\">ʾ</span></span><span class=\"plain    \" ><span class=\"txtu cld\">ə</span></span><span class=\"plain    \" ><span class=\"txtu cld\">n-</span></span></span><span class=\"plain    \" ><span class=\"plain txtu cld \"></span><span class=\"plain    \" ><span class=\"txtu cld\">h</span></span><span class=\"plain    \" ><span class=\"txtu cld\">à</span></span><span class=\"plain    \" ><span class=\"txtu cld\">w</span></span><span class=\"plain    \" ><span class=\"txtu cld\">aˈ </span></span></span></span></span></div> </div></div></div><div class=\"contnr c1    \" ><div class=\"lbl c1  \"><span class=\"nd\">inton:539394</span> </div> <div class=\"children row  \"><div class=\"contnr c1 trm   \" ><div class=\"lbl c1 trm \"><span class=\"nd\">stress:594989</span> <span class=\"txtu cld\"><span class=\"plain outer   \" ><span class=\"plain txtu cld \"></span><span class=\"plain    \" ><span class=\"plain txtu cld \"></span><span class=\"plain    \" ><span class=\"txtu cld\">ʾ</span></span><span class=\"plain    \" ><span class=\"txtu cld\">ə́</span></span><span class=\"plain    \" ><span class=\"txtu cld\">č̣</span></span><span class=\"plain    \" ><span class=\"txtu cld\">č̣</span></span><span class=\"plain    \" ><span class=\"txtu cld\">i-</span></span></span><span class=\"plain    \" ><span class=\"plain txtu cld \"></span><span class=\"plain    \" ><span class=\"txtu cld\">u </span></span></span></span></span></div> </div><div class=\"contnr c1 trm   \" ><div class=\"lbl c1 trm \"><span class=\"nd\">stress:594990</span> <span class=\"txtu cld\"><span class=\"plain outer   \" ><span class=\"plain txtu cld \"></span><span class=\"plain    \" ><span class=\"plain txtu cld \"></span><span class=\"plain    \" ><span class=\"txtu cld\">ʾ</span></span><span class=\"plain    \" ><span class=\"txtu cld\">ə́</span></span><span class=\"plain    \" ><span class=\"txtu cld\">č̣</span></span><span class=\"plain    \" ><span class=\"txtu cld\">č̣</span></span><span class=\"plain    \" ><span class=\"txtu cld\">a </span></span></span></span></span></div> </div><div class=\"contnr c1 trm   \" ><div class=\"lbl c1 trm \"><span class=\"nd\">stress:594991</span> <span class=\"txtu cld\"><span class=\"plain outer   \" ><span class=\"plain txtu cld \"></span><span class=\"plain    \" ><span class=\"plain txtu cld \"></span><span class=\"plain    \" ><span class=\"txtu cld\">m</span></span><span class=\"plain    \" ><span class=\"txtu cld\">a</span></span><span class=\"plain    \" ><span class=\"txtu cld\">q</span></span><span class=\"plain    \" ><span class=\"txtu cld\">ə</span></span><span class=\"plain    \" ><span class=\"txtu cld\">l</span></span><span class=\"plain    \" ><span class=\"txtu cld\">b</span></span><span class=\"plain    \" ><span class=\"txtu cld\">ə̀</span></span><span class=\"plain    \" ><span class=\"txtu cld\">n</span></span><span class=\"plain    \" ><span class=\"txtu cld\">n</span></span><span class=\"plain    \" ><span class=\"txtu cld\">a.ˈ </span></span></span></span></span></div> </div></div></div></div></div></div></div></div><div class=\"children row wrap \"><div class=\"contnr c2    r \" ><div class=\"lbl c2  \"><span class=\"nd\">sentence:578267</span> </div> <div class=\"children row wrap \"><div class=\"contnr cnul trm   \" ><div class=\"children row wrap \"><div class=\"contnr c1    \" ><div class=\"lbl c1  \"><span class=\"nd\">inton:539395</span> </div> <div class=\"children row  \"><div class=\"contnr c1 trm   \" ><div class=\"lbl c1 trm \"><span class=\"nd\">stress:594992</span> <span class=\"txtu cld\"><span class=\"plain outer   \" ><span class=\"plain txtu cld \"></span><span class=\"plain    \" ><span class=\"plain txtu cld \"></span><span class=\"plain    \" ><span class=\"txtu cld\">ʾ</span></span><span class=\"plain    \" ><span class=\"txtu cld\">u-</span></span></span><span class=\"plain    \" ><span class=\"plain txtu cld \"></span><span class=\"plain    \" ><span class=\"txtu cld\">ʾ</span></span><span class=\"plain    \" ><span class=\"txtu cld\">ə</span></span><span class=\"plain    \" ><span class=\"txtu cld\">n-</span></span></span><span class=\"plain    \" ><span class=\"plain txtu cld \"></span><span class=\"plain    \" ><span class=\"txtu cld\">h</span></span><span class=\"plain    \" ><span class=\"txtu cld\">à</span></span><span class=\"plain    \" ><span class=\"txtu cld\">w</span></span><span class=\"plain    \" ><span class=\"txtu cld\">aˈ </span></span></span></span></span></div> </div></div></div><div class=\"contnr c1    \" ><div class=\"lbl c1  \"><span class=\"nd\">inton:539396</span> </div> <div class=\"children row  \"><div class=\"contnr c1 trm   \" ><div class=\"lbl c1 trm \"><span class=\"nd\">stress:594993</span> <span class=\"txtu cld\"><span class=\"plain outer   \" ><span class=\"plain txtu cld \"></span><span class=\"plain    \" ><span class=\"plain txtu cld \"></span><span class=\"plain    \" ><span class=\"txtu cld\">ʾ</span></span><span class=\"plain    \" ><span class=\"txtu cld\">ə́</span></span><span class=\"plain    \" ><span class=\"txtu cld\">m</span></span><span class=\"plain    \" ><span class=\"txtu cld\">m</span></span><span class=\"plain    \" ><span class=\"txtu cld\">a-</span></span></span><span class=\"plain    \" ><span class=\"plain txtu cld \"></span><span class=\"plain    \" ><span class=\"txtu cld\">w-</span></span></span><span class=\"plain    \" ><span class=\"plain txtu cld \"></span><span class=\"plain    \" ><span class=\"txtu cld\">x</span></span><span class=\"plain    \" ><span class=\"txtu cld\">à-</span></span></span><span class=\"plain    \" ><span class=\"plain txtu cld \"></span><span class=\"plain    \" ><span class=\"txtu cld\">ž</span></span><span class=\"plain    \" ><span class=\"txtu cld\">i,ˈ </span></span></span></span></span></div> </div></div></div></div></div></div></div><div class=\"contnr c2    l \" ><div class=\"lbl c2  \"><span class=\"nd\">sentence:578267</span> </div> <div class=\"children row wrap \"><div class=\"contnr cnul trm   \" ><div class=\"children row wrap \"><div class=\"contnr c1    \" ><div class=\"lbl c1  \"><span class=\"nd\">inton:539397</span> </div> <div class=\"children row  \"><div class=\"contnr c1 trm   \" ><div class=\"lbl c1 trm \"><span class=\"nd\">stress:594994</span> <span class=\"txtu cld\"><span class=\"plain outer   \" ><span class=\"plain txtu cld \"></span><span class=\"plain    \" ><span class=\"plain txtu cld \"></span><span class=\"plain    \" ><span class=\"txtu cld\">l</span></span><span class=\"plain    \" ><span class=\"txtu cld\">a-</span></span></span><span class=\"plain    \" ><span class=\"plain txtu cld \"></span><span class=\"plain    \" ><span class=\"txtu cld\">b</span></span><span class=\"plain    \" ><span class=\"txtu cld\">ă</span></span><span class=\"plain    \" ><span class=\"txtu cld\">y</span></span><span class=\"plain    \" ><span class=\"txtu cld\">ə̀</span></span><span class=\"plain    \" ><span class=\"txtu cld\">n</span></span><span class=\"plain    \" ><span class=\"txtu cld\">n</span></span><span class=\"plain    \" ><span class=\"txtu cld\">a.ˈ </span></span></span></span></span></div> </div></div></div></div></div></div></div></div><div class=\"children row wrap \"><div class=\"contnr c2    \" ><div class=\"lbl c2  \"><span class=\"nd\">sentence:578268</span> </div> <div class=\"children row wrap \"><div class=\"contnr cnul trm   \" ><div class=\"children row wrap \"><div class=\"contnr c1    \" ><div class=\"lbl c1  \"><span class=\"nd\">inton:539398</span> </div> <div class=\"children row  \"><div class=\"contnr c1 trm   \" ><div class=\"lbl c1 trm \"><span class=\"nd\">stress:594995</span> <span class=\"txtu cld\"><span class=\"plain outer   \" ><span class=\"plain txtu cld \"></span><span class=\"plain    \" ><span class=\"plain txtu cld \"></span><span class=\"plain    \" ><span class=\"txtu cld\">d</span></span><span class=\"plain    \" ><span class=\"txtu cld\">e-</span></span></span><span class=\"plain    \" ><span class=\"plain txtu cld \"></span><span class=\"plain    \" ><span class=\"txtu cld\">š</span></span><span class=\"plain    \" ><span class=\"txtu cld\">ù</span></span><span class=\"plain    \" ><span class=\"txtu cld\">q</span></span><span class=\"plain    \" ><span class=\"txtu cld\">l</span></span><span class=\"plain    \" ><span class=\"txtu cld\">a.ˈ </span></span></span></span></span></div> </div></div></div></div></div></div></div></div><div class=\"children row wrap \"><div class=\"contnr c2    \" ><div class=\"lbl c2  \"><span class=\"nd\">sentence:578269</span> </div> <div class=\"children row wrap \"><div class=\"contnr cnul trm   \" ><div class=\"children row wrap \"><div class=\"contnr c1    \" ><div class=\"lbl c1  \"><span class=\"nd\">inton:539399</span> </div> <div class=\"children row  \"><div class=\"contnr c1 trm   \" ><div class=\"lbl c1 trm \"><span class=\"nd\">stress:594996</span> <span class=\"txtu cld\"><span class=\"plain outer   \" ><span class=\"plain txtu cld \"></span><span class=\"plain    \" ><span class=\"plain txtu cld \"></span><span class=\"plain    \" ><span class=\"txtu cld\">ʾ</span></span><span class=\"plain    \" ><span class=\"txtu cld\">ə̀</span></span><span class=\"plain    \" ><span class=\"txtu cld\">m</span></span><span class=\"plain    \" ><span class=\"txtu cld\">m</span></span><span class=\"plain    \" ><span class=\"txtu cld\">a </span></span></span></span></span></div> </div><div class=\"contnr c1 trm   \" ><div class=\"lbl c1 trm \"><span class=\"nd\">stress:594997</span> <span class=\"txtu cld\"><span class=\"plain outer   \" ><span class=\"plain txtu cld \"></span><span class=\"plain    \" ><span class=\"plain txtu cld \"></span><span class=\"plain    \" ><span class=\"txtu cld\">g</span></span><span class=\"plain    \" ><span class=\"txtu cld\">ắ</span></span><span class=\"plain    \" ><span class=\"txtu cld\">r</span></span><span class=\"plain    \" ><span class=\"txtu cld\">ə</span></span><span class=\"plain    \" ><span class=\"txtu cld\">g </span></span></span></span></span></div> </div><div class=\"contnr c1 trm   \" ><div class=\"lbl c1 trm \"><span class=\"nd\">stress:594998</span> <span class=\"txtu cld\"><span class=\"plain outer   \" ><span class=\"plain txtu cld \"></span><span class=\"plain    \" ><span class=\"plain txtu cld \"></span><span class=\"plain    \" ><span class=\"txtu cld\">h</span></span><span class=\"plain    \" ><span class=\"txtu cld\">á</span></span><span class=\"plain    \" ><span class=\"txtu cld\">w</span></span><span class=\"plain    \" ><span class=\"txtu cld\">a </span></span></span></span></span></div> </div><div class=\"contnr c1 trm   \" ><div class=\"lbl c1 trm \"><span class=\"nd\">stress:594999</span> <span class=\"txtu cld\"><span class=\"plain outer   \" ><span class=\"plain txtu cld \"></span><span class=\"plain    \" ><span class=\"plain txtu cld \"></span><span class=\"plain    \" ><span class=\"txtu cld\">d</span></span><span class=\"plain    \" ><span class=\"txtu cld\">r</span></span><span class=\"plain    \" ><span class=\"txtu cld\">ə́</span></span><span class=\"plain    \" ><span class=\"txtu cld\">s</span></span><span class=\"plain    \" ><span class=\"txtu cld\">t.ˈ </span></span></span></span></span></div> </div></div></div></div></div></div></div></div></div></div>"
      ],
      "text/plain": [
       "<IPython.core.display.HTML object>"
      ]
     },
     "metadata": {},
     "output_type": "display_data"
    },
    {
     "data": {
      "text/markdown": [
       "### sentence 578263\n"
      ],
      "text/plain": [
       "<IPython.core.display.Markdown object>"
      ]
     },
     "metadata": {},
     "output_type": "display_data"
    },
    {
     "data": {
      "text/html": [
       "<span class=\"section ltr\"><a target=\"_blank\" href=\"0.02/Barwar/A Hundred Gold Coins.nena\" title=\"Show this title in the NENA repository\" sec=\"Barwar, A Hundred Gold Coins, Ln. 1\">Barwar, A Hundred Gold Coins, Ln. 1</a> </span> <span class=\"plain outer   \" ><span class=\"nd\">578263</span><span class=\"plain txtu cld \"></span><span class=\"plain    \" ><span class=\"plain txtu cld \"></span><span class=\"plain    \" ><span class=\"plain txtu cld \"></span><span class=\"plain    \" ><span class=\"plain txtu cld \"></span><span class=\"plain    \" ><span class=\"plain txtu cld \"></span><span class=\"plain    \" ><span class=\"txtu cld\">x</span></span><span class=\"plain    \" ><span class=\"txtu cld\">á-</span></span></span><span class=\"plain    \" ><span class=\"plain txtu cld \"></span><span class=\"plain    \" ><span class=\"txtu cld\">g</span></span><span class=\"plain    \" ><span class=\"txtu cld\">a </span></span></span></span><span class=\"plain    \" ><span class=\"plain txtu cld \"></span><span class=\"plain    \" ><span class=\"plain txtu cld \"></span><span class=\"plain    \" ><span class=\"txtu cld\">x</span></span><span class=\"plain    \" ><span class=\"txtu cld\">è</span></span><span class=\"plain    \" ><span class=\"txtu cld\">t</span></span><span class=\"plain    \" ><span class=\"txtu cld\">a,ˈ </span></span></span></span></span></span><span class=\"plain    \" ><span class=\"plain txtu cld \"></span><span class=\"plain    \" ><span class=\"plain txtu cld \"></span><span class=\"plain    \" ><span class=\"plain txtu cld \"></span><span class=\"plain    \" ><span class=\"plain txtu cld \"></span><span class=\"plain    \" ><span class=\"txtu cld\">m</span></span><span class=\"plain    \" ><span class=\"txtu cld\">á</span></span><span class=\"plain    \" ><span class=\"txtu cld\">l</span></span><span class=\"plain    \" ><span class=\"txtu cld\">l</span></span><span class=\"plain    \" ><span class=\"txtu cld\">a</span></span><span class=\"plain    \" ><span class=\"txtu cld\">h </span></span></span></span><span class=\"plain    \" ><span class=\"plain txtu cld \"></span><span class=\"plain    \" ><span class=\"plain txtu cld \"></span><span class=\"plain    \" ><span class=\"txtu cld\">N</span></span><span class=\"plain    \" ><span class=\"txtu cld\">a</span></span><span class=\"plain    \" ><span class=\"txtu cld\">ṣ</span></span><span class=\"plain    \" ><span class=\"txtu cld\">r</span></span><span class=\"plain    \" ><span class=\"txtu cld\">à</span></span><span class=\"plain    \" ><span class=\"txtu cld\">d</span></span><span class=\"plain    \" ><span class=\"txtu cld\">i</span></span><span class=\"plain    \" ><span class=\"txtu cld\">n,ˈ </span></span></span></span></span></span><span class=\"plain    \" ><span class=\"plain txtu cld \"></span><span class=\"plain    \" ><span class=\"plain txtu cld \"></span><span class=\"plain    \" ><span class=\"plain txtu cld \"></span><span class=\"plain    \" ><span class=\"plain txtu cld \"></span><span class=\"plain    \" ><span class=\"txtu cld\">x</span></span><span class=\"plain    \" ><span class=\"txtu cld\">á</span></span><span class=\"plain    \" ><span class=\"txtu cld\">z</span></span><span class=\"plain    \" ><span class=\"txtu cld\">ə</span></span><span class=\"plain    \" ><span class=\"txtu cld\">x </span></span></span></span><span class=\"plain    \" ><span class=\"plain txtu cld \"></span><span class=\"plain    \" ><span class=\"plain txtu cld \"></span><span class=\"plain    \" ><span class=\"txtu cld\">m</span></span><span class=\"plain    \" ><span class=\"txtu cld\">ò</span></span><span class=\"plain    \" ><span class=\"txtu cld\">d</span></span><span class=\"plain    \" ><span class=\"txtu cld\">i </span></span></span></span><span class=\"plain    \" ><span class=\"plain txtu cld \"></span><span class=\"plain    \" ><span class=\"plain txtu cld \"></span><span class=\"plain    \" ><span class=\"txtu cld\">w</span></span><span class=\"plain    \" ><span class=\"txtu cld\">í</span></span><span class=\"plain    \" ><span class=\"txtu cld\">ð</span></span><span class=\"plain    \" ><span class=\"txtu cld\">a.ˈ </span></span></span></span></span></span></span>"
      ],
      "text/plain": [
       "<IPython.core.display.HTML object>"
      ]
     },
     "metadata": {},
     "output_type": "display_data"
    },
    {
     "data": {
      "text/html": [
       "<span class=\"section ltr\"><a target=\"_blank\" href=\"0.02/Barwar/A Hundred Gold Coins.nena\" title=\"Show this title in the NENA repository\" sec=\"Barwar, A Hundred Gold Coins, Ln. 1\">Barwar, A Hundred Gold Coins, Ln. 1</a> </span><div class=\"children row wrap \"><div class=\"contnr c2    r \" ><div class=\"lbl c2  \"><span class=\"nd\">sentence:578263</span> </div> <div class=\"children row wrap \"><div class=\"contnr cnul trm   \" ><div class=\"children row wrap \"><div class=\"contnr c1    \" ><div class=\"lbl c1  \"><span class=\"nd\">inton:539384</span> </div> <div class=\"children row  \"><div class=\"contnr c1 trm   \" ><div class=\"lbl c1 trm \"><span class=\"nd\">stress:594970</span> <span class=\"txtu cld\"><span class=\"plain outer   \" ><span class=\"plain txtu cld \"></span><span class=\"plain    \" ><span class=\"plain txtu cld \"></span><span class=\"plain    \" ><span class=\"txtu cld\">x</span></span><span class=\"plain    \" ><span class=\"txtu cld\">á-</span></span></span><span class=\"plain    \" ><span class=\"plain txtu cld \"></span><span class=\"plain    \" ><span class=\"txtu cld\">g</span></span><span class=\"plain    \" ><span class=\"txtu cld\">a </span></span></span></span></span></div> </div><div class=\"contnr c1 trm   \" ><div class=\"lbl c1 trm \"><span class=\"nd\">stress:594971</span> <span class=\"txtu cld\"><span class=\"plain outer   \" ><span class=\"plain txtu cld \"></span><span class=\"plain    \" ><span class=\"plain txtu cld \"></span><span class=\"plain    \" ><span class=\"txtu cld\">x</span></span><span class=\"plain    \" ><span class=\"txtu cld\">è</span></span><span class=\"plain    \" ><span class=\"txtu cld\">t</span></span><span class=\"plain    \" ><span class=\"txtu cld\">a,ˈ </span></span></span></span></span></div> </div></div></div></div></div></div></div><div class=\"contnr c2    l r \" ><div class=\"lbl c2  \"><span class=\"nd\">sentence:578263</span> </div> <div class=\"children row wrap \"><div class=\"contnr cnul trm   \" ><div class=\"children row wrap \"><div class=\"contnr c1    \" ><div class=\"lbl c1  \"><span class=\"nd\">inton:539385</span> </div> <div class=\"children row  \"><div class=\"contnr c1 trm   \" ><div class=\"lbl c1 trm \"><span class=\"nd\">stress:594972</span> <span class=\"txtu cld\"><span class=\"plain outer   \" ><span class=\"plain txtu cld \"></span><span class=\"plain    \" ><span class=\"plain txtu cld \"></span><span class=\"plain    \" ><span class=\"txtu cld\">m</span></span><span class=\"plain    \" ><span class=\"txtu cld\">á</span></span><span class=\"plain    \" ><span class=\"txtu cld\">l</span></span><span class=\"plain    \" ><span class=\"txtu cld\">l</span></span><span class=\"plain    \" ><span class=\"txtu cld\">a</span></span><span class=\"plain    \" ><span class=\"txtu cld\">h </span></span></span></span></span></div> </div><div class=\"contnr c1 trm   \" ><div class=\"lbl c1 trm \"><span class=\"nd\">stress:594973</span> <span class=\"txtu cld\"><span class=\"plain outer   \" ><span class=\"plain txtu cld \"></span><span class=\"plain    \" ><span class=\"plain txtu cld \"></span><span class=\"plain    \" ><span class=\"txtu cld\">N</span></span><span class=\"plain    \" ><span class=\"txtu cld\">a</span></span><span class=\"plain    \" ><span class=\"txtu cld\">ṣ</span></span><span class=\"plain    \" ><span class=\"txtu cld\">r</span></span><span class=\"plain    \" ><span class=\"txtu cld\">à</span></span><span class=\"plain    \" ><span class=\"txtu cld\">d</span></span><span class=\"plain    \" ><span class=\"txtu cld\">i</span></span><span class=\"plain    \" ><span class=\"txtu cld\">n,ˈ </span></span></span></span></span></div> </div></div></div></div></div></div></div><div class=\"contnr c2    l \" ><div class=\"lbl c2  \"><span class=\"nd\">sentence:578263</span> </div> <div class=\"children row wrap \"><div class=\"contnr cnul trm   \" ><div class=\"children row wrap \"><div class=\"contnr c1    \" ><div class=\"lbl c1  \"><span class=\"nd\">inton:539386</span> </div> <div class=\"children row  \"><div class=\"contnr c1 trm   \" ><div class=\"lbl c1 trm \"><span class=\"nd\">stress:594974</span> <span class=\"txtu cld\"><span class=\"plain outer   \" ><span class=\"plain txtu cld \"></span><span class=\"plain    \" ><span class=\"plain txtu cld \"></span><span class=\"plain    \" ><span class=\"txtu cld\">x</span></span><span class=\"plain    \" ><span class=\"txtu cld\">á</span></span><span class=\"plain    \" ><span class=\"txtu cld\">z</span></span><span class=\"plain    \" ><span class=\"txtu cld\">ə</span></span><span class=\"plain    \" ><span class=\"txtu cld\">x </span></span></span></span></span></div> </div><div class=\"contnr c1 trm   \" ><div class=\"lbl c1 trm \"><span class=\"nd\">stress:594975</span> <span class=\"txtu cld\"><span class=\"plain outer   \" ><span class=\"plain txtu cld \"></span><span class=\"plain    \" ><span class=\"plain txtu cld \"></span><span class=\"plain    \" ><span class=\"txtu cld\">m</span></span><span class=\"plain    \" ><span class=\"txtu cld\">ò</span></span><span class=\"plain    \" ><span class=\"txtu cld\">d</span></span><span class=\"plain    \" ><span class=\"txtu cld\">i </span></span></span></span></span></div> </div><div class=\"contnr c1 trm   \" ><div class=\"lbl c1 trm \"><span class=\"nd\">stress:594976</span> <span class=\"txtu cld\"><span class=\"plain outer   \" ><span class=\"plain txtu cld \"></span><span class=\"plain    \" ><span class=\"plain txtu cld \"></span><span class=\"plain    \" ><span class=\"txtu cld\">w</span></span><span class=\"plain    \" ><span class=\"txtu cld\">í</span></span><span class=\"plain    \" ><span class=\"txtu cld\">ð</span></span><span class=\"plain    \" ><span class=\"txtu cld\">a.ˈ </span></span></span></span></span></div> </div></div></div></div></div></div></div></div>"
      ],
      "text/plain": [
       "<IPython.core.display.HTML object>"
      ]
     },
     "metadata": {},
     "output_type": "display_data"
    },
    {
     "data": {
      "text/markdown": [
       "### subsentence 688732\n"
      ],
      "text/plain": [
       "<IPython.core.display.Markdown object>"
      ]
     },
     "metadata": {},
     "output_type": "display_data"
    },
    {
     "data": {
      "text/html": [
       "<span class=\"section ltr\"><a target=\"_blank\" href=\"0.02/Barwar/A Hundred Gold Coins.nena\" title=\"Show this title in the NENA repository\" sec=\"Barwar, A Hundred Gold Coins, Ln. 1\">Barwar, A Hundred Gold Coins, Ln. 1</a> </span> <span class=\"plain outer   \" ><span class=\"nd\">688732</span><span class=\"plain txtu cld \"></span><span class=\"plain    \" ><span class=\"plain txtu cld \"></span><span class=\"plain    \" ><span class=\"plain txtu cld \"></span><span class=\"plain    \" ><span class=\"plain txtu cld \"></span><span class=\"plain    \" ><span class=\"txtu cld\">x</span></span><span class=\"plain    \" ><span class=\"txtu cld\">á-</span></span></span><span class=\"plain    \" ><span class=\"plain txtu cld \"></span><span class=\"plain    \" ><span class=\"txtu cld\">g</span></span><span class=\"plain    \" ><span class=\"txtu cld\">a </span></span></span></span><span class=\"plain    \" ><span class=\"plain txtu cld \"></span><span class=\"plain    \" ><span class=\"plain txtu cld \"></span><span class=\"plain    \" ><span class=\"txtu cld\">x</span></span><span class=\"plain    \" ><span class=\"txtu cld\">è</span></span><span class=\"plain    \" ><span class=\"txtu cld\">t</span></span><span class=\"plain    \" ><span class=\"txtu cld\">a,ˈ </span></span></span></span></span></span>"
      ],
      "text/plain": [
       "<IPython.core.display.HTML object>"
      ]
     },
     "metadata": {},
     "output_type": "display_data"
    },
    {
     "data": {
      "text/html": [
       "<span class=\"section ltr\"><a target=\"_blank\" href=\"0.02/Barwar/A Hundred Gold Coins.nena\" title=\"Show this title in the NENA repository\" sec=\"Barwar, A Hundred Gold Coins, Ln. 1\">Barwar, A Hundred Gold Coins, Ln. 1</a> </span><div class=\"contnr cnul trm   \" ><div class=\"children row wrap \"><div class=\"contnr c1    \" ><div class=\"lbl c1  \"><span class=\"nd\">inton:539384</span> </div> <div class=\"children row  \"><div class=\"contnr c1 trm   \" ><div class=\"lbl c1 trm \"><span class=\"nd\">stress:594970</span> <span class=\"txtu cld\"><span class=\"plain outer   \" ><span class=\"plain txtu cld \"></span><span class=\"plain    \" ><span class=\"plain txtu cld \"></span><span class=\"plain    \" ><span class=\"txtu cld\">x</span></span><span class=\"plain    \" ><span class=\"txtu cld\">á-</span></span></span><span class=\"plain    \" ><span class=\"plain txtu cld \"></span><span class=\"plain    \" ><span class=\"txtu cld\">g</span></span><span class=\"plain    \" ><span class=\"txtu cld\">a </span></span></span></span></span></div> </div><div class=\"contnr c1 trm   \" ><div class=\"lbl c1 trm \"><span class=\"nd\">stress:594971</span> <span class=\"txtu cld\"><span class=\"plain outer   \" ><span class=\"plain txtu cld \"></span><span class=\"plain    \" ><span class=\"plain txtu cld \"></span><span class=\"plain    \" ><span class=\"txtu cld\">x</span></span><span class=\"plain    \" ><span class=\"txtu cld\">è</span></span><span class=\"plain    \" ><span class=\"txtu cld\">t</span></span><span class=\"plain    \" ><span class=\"txtu cld\">a,ˈ </span></span></span></span></span></div> </div></div></div></div></div>"
      ],
      "text/plain": [
       "<IPython.core.display.HTML object>"
      ]
     },
     "metadata": {},
     "output_type": "display_data"
    },
    {
     "data": {
      "text/markdown": [
       "### inton 539384\n"
      ],
      "text/plain": [
       "<IPython.core.display.Markdown object>"
      ]
     },
     "metadata": {},
     "output_type": "display_data"
    },
    {
     "data": {
      "text/html": [
       "<span class=\"section ltr\"><a target=\"_blank\" href=\"0.02/Barwar/A Hundred Gold Coins.nena\" title=\"Show this title in the NENA repository\" sec=\"Barwar, A Hundred Gold Coins, Ln. 1\">Barwar, A Hundred Gold Coins, Ln. 1</a> </span> <span class=\"plain outer   \" ><span class=\"nd\">539384</span><span class=\"plain txtu cld \"></span><span class=\"plain    \" ><span class=\"plain txtu cld \"></span><span class=\"plain    \" ><span class=\"plain txtu cld \"></span><span class=\"plain    \" ><span class=\"txtu cld\">x</span></span><span class=\"plain    \" ><span class=\"txtu cld\">á-</span></span></span><span class=\"plain    \" ><span class=\"plain txtu cld \"></span><span class=\"plain    \" ><span class=\"txtu cld\">g</span></span><span class=\"plain    \" ><span class=\"txtu cld\">a </span></span></span></span><span class=\"plain    \" ><span class=\"plain txtu cld \"></span><span class=\"plain    \" ><span class=\"plain txtu cld \"></span><span class=\"plain    \" ><span class=\"txtu cld\">x</span></span><span class=\"plain    \" ><span class=\"txtu cld\">è</span></span><span class=\"plain    \" ><span class=\"txtu cld\">t</span></span><span class=\"plain    \" ><span class=\"txtu cld\">a,ˈ </span></span></span></span></span>"
      ],
      "text/plain": [
       "<IPython.core.display.HTML object>"
      ]
     },
     "metadata": {},
     "output_type": "display_data"
    },
    {
     "data": {
      "text/html": [
       "<span class=\"section ltr\"><a target=\"_blank\" href=\"0.02/Barwar/A Hundred Gold Coins.nena\" title=\"Show this title in the NENA repository\" sec=\"Barwar, A Hundred Gold Coins, Ln. 1\">Barwar, A Hundred Gold Coins, Ln. 1</a> </span><div class=\"contnr c1    \" ><div class=\"lbl c1  \"><span class=\"nd\">inton:539384</span> </div> <div class=\"children row  \"><div class=\"contnr c1 trm   \" ><div class=\"lbl c1 trm \"><span class=\"nd\">stress:594970</span> <span class=\"txtu cld\"><span class=\"plain outer   \" ><span class=\"plain txtu cld \"></span><span class=\"plain    \" ><span class=\"plain txtu cld \"></span><span class=\"plain    \" ><span class=\"txtu cld\">x</span></span><span class=\"plain    \" ><span class=\"txtu cld\">á-</span></span></span><span class=\"plain    \" ><span class=\"plain txtu cld \"></span><span class=\"plain    \" ><span class=\"txtu cld\">g</span></span><span class=\"plain    \" ><span class=\"txtu cld\">a </span></span></span></span></span></div> </div><div class=\"contnr c1 trm   \" ><div class=\"lbl c1 trm \"><span class=\"nd\">stress:594971</span> <span class=\"txtu cld\"><span class=\"plain outer   \" ><span class=\"plain txtu cld \"></span><span class=\"plain    \" ><span class=\"plain txtu cld \"></span><span class=\"plain    \" ><span class=\"txtu cld\">x</span></span><span class=\"plain    \" ><span class=\"txtu cld\">è</span></span><span class=\"plain    \" ><span class=\"txtu cld\">t</span></span><span class=\"plain    \" ><span class=\"txtu cld\">a,ˈ </span></span></span></span></span></div> </div></div></div>"
      ],
      "text/plain": [
       "<IPython.core.display.HTML object>"
      ]
     },
     "metadata": {},
     "output_type": "display_data"
    },
    {
     "data": {
      "text/markdown": [
       "### stress 594970\n"
      ],
      "text/plain": [
       "<IPython.core.display.Markdown object>"
      ]
     },
     "metadata": {},
     "output_type": "display_data"
    },
    {
     "data": {
      "text/html": [
       "<span class=\"section ltr\"><a target=\"_blank\" href=\"0.02/Barwar/A Hundred Gold Coins.nena\" title=\"Show this title in the NENA repository\" sec=\"Barwar, A Hundred Gold Coins, Ln. 1\">Barwar, A Hundred Gold Coins, Ln. 1</a> </span> <span class=\"plain outer   \" ><span class=\"nd\">594970</span><span class=\"plain txtu cld \"></span><span class=\"plain    \" ><span class=\"plain txtu cld \"></span><span class=\"plain    \" ><span class=\"txtu cld\">x</span></span><span class=\"plain    \" ><span class=\"txtu cld\">á-</span></span></span><span class=\"plain    \" ><span class=\"plain txtu cld \"></span><span class=\"plain    \" ><span class=\"txtu cld\">g</span></span><span class=\"plain    \" ><span class=\"txtu cld\">a </span></span></span></span>"
      ],
      "text/plain": [
       "<IPython.core.display.HTML object>"
      ]
     },
     "metadata": {},
     "output_type": "display_data"
    },
    {
     "data": {
      "text/html": [
       "<span class=\"section ltr\"><a target=\"_blank\" href=\"0.02/Barwar/A Hundred Gold Coins.nena\" title=\"Show this title in the NENA repository\" sec=\"Barwar, A Hundred Gold Coins, Ln. 1\">Barwar, A Hundred Gold Coins, Ln. 1</a> </span><div class=\"contnr c1 trm   \" ><div class=\"lbl c1 trm \"><span class=\"nd\">stress:594970</span> <span class=\"txtu cld\"><span class=\"plain outer   \" ><span class=\"plain txtu cld \"></span><span class=\"plain    \" ><span class=\"plain txtu cld \"></span><span class=\"plain    \" ><span class=\"txtu cld\">x</span></span><span class=\"plain    \" ><span class=\"txtu cld\">á-</span></span></span><span class=\"plain    \" ><span class=\"plain txtu cld \"></span><span class=\"plain    \" ><span class=\"txtu cld\">g</span></span><span class=\"plain    \" ><span class=\"txtu cld\">a </span></span></span></span></span></div> </div>"
      ],
      "text/plain": [
       "<IPython.core.display.HTML object>"
      ]
     },
     "metadata": {},
     "output_type": "display_data"
    },
    {
     "data": {
      "text/markdown": [
       "### word 713385\n"
      ],
      "text/plain": [
       "<IPython.core.display.Markdown object>"
      ]
     },
     "metadata": {},
     "output_type": "display_data"
    },
    {
     "data": {
      "text/html": [
       "<span class=\"section ltr\"><a target=\"_blank\" href=\"0.02/Barwar/A Hundred Gold Coins.nena\" title=\"Show this title in the NENA repository\" sec=\"Barwar, A Hundred Gold Coins, Ln. 1\">Barwar, A Hundred Gold Coins, Ln. 1</a> </span> <span class=\"plain outer   \" ><span class=\"nd\">713385</span><span class=\"plain txtu cld \"></span><span class=\"plain    \" ><span class=\"txtu cld\">x</span></span><span class=\"plain    \" ><span class=\"txtu cld\">á-</span></span></span>"
      ],
      "text/plain": [
       "<IPython.core.display.HTML object>"
      ]
     },
     "metadata": {},
     "output_type": "display_data"
    },
    {
     "data": {
      "text/html": [
       "<span class=\"section ltr\"><a target=\"_blank\" href=\"0.02/Barwar/A Hundred Gold Coins.nena\" title=\"Show this title in the NENA repository\" sec=\"Barwar, A Hundred Gold Coins, Ln. 1\">Barwar, A Hundred Gold Coins, Ln. 1</a> </span><div class=\"contnr c1    \" ><div class=\"lbl c1  \"><span class=\"nd\">word:713385</span> </div> <div class=\"children row  \"><div class=\"contnr c0 trm   \" ><div class=\"lbl c0 trm \"><span class=\"nd\">1</span> <span class=\"txtu cld\">x</span></div> </div><div class=\"contnr c0 trm   \" ><div class=\"lbl c0 trm \"><span class=\"nd\">2</span> <span class=\"txtu cld\">á-</span></div> </div></div></div>"
      ],
      "text/plain": [
       "<IPython.core.display.HTML object>"
      ]
     },
     "metadata": {},
     "output_type": "display_data"
    },
    {
     "data": {
      "text/markdown": [
       "### letter 1\n"
      ],
      "text/plain": [
       "<IPython.core.display.Markdown object>"
      ]
     },
     "metadata": {},
     "output_type": "display_data"
    },
    {
     "data": {
      "text/html": [
       "<span class=\"section ltr\"><a target=\"_blank\" href=\"0.02/Barwar/A Hundred Gold Coins.nena\" title=\"Show this title in the NENA repository\" sec=\"Barwar, A Hundred Gold Coins, Ln. 1\">Barwar, A Hundred Gold Coins, Ln. 1</a> </span> <span class=\"plain outer   \" ><span class=\"nd\">1</span><span class=\"txtu cld\">x</span></span>"
      ],
      "text/plain": [
       "<IPython.core.display.HTML object>"
      ]
     },
     "metadata": {},
     "output_type": "display_data"
    },
    {
     "data": {
      "text/html": [
       "<span class=\"section ltr\"><a target=\"_blank\" href=\"0.02/Barwar/A Hundred Gold Coins.nena\" title=\"Show this title in the NENA repository\" sec=\"Barwar, A Hundred Gold Coins, Ln. 1\">Barwar, A Hundred Gold Coins, Ln. 1</a> </span><div class=\"contnr c0 trm   \" ><div class=\"lbl c0 trm \"><span class=\"nd\">1</span> <span class=\"txtu cld\">x</span></div> </div>"
      ],
      "text/plain": [
       "<IPython.core.display.HTML object>"
      ]
     },
     "metadata": {},
     "output_type": "display_data"
    }
   ],
   "source": [
    "typeShow(A, withNodes=True, prettyTypes=True)"
   ]
  },
  {
   "cell_type": "code",
   "execution_count": null,
   "metadata": {},
   "outputs": [],
   "source": [
    "A.showContext()"
   ]
  },
  {
   "cell_type": "code",
   "execution_count": null,
   "metadata": {},
   "outputs": [],
   "source": []
  }
 ],
 "metadata": {
  "kernelspec": {
   "display_name": "Python 3",
   "language": "python",
   "name": "python3"
  },
  "language_info": {
   "codemirror_mode": {
    "name": "ipython",
    "version": 3
   },
   "file_extension": ".py",
   "mimetype": "text/x-python",
   "name": "python",
   "nbconvert_exporter": "python",
   "pygments_lexer": "ipython3",
   "version": "3.7.7"
  }
 },
 "nbformat": 4,
 "nbformat_minor": 4
}
