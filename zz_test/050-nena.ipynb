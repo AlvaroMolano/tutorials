{
 "cells": [
  {
   "cell_type": "code",
   "execution_count": 1,
   "metadata": {},
   "outputs": [],
   "source": [
    "%load_ext autoreload\n",
    "%autoreload 2"
   ]
  },
  {
   "cell_type": "code",
   "execution_count": 2,
   "metadata": {},
   "outputs": [],
   "source": [
    "from tf.app import use\n",
    "from tf.applib.helpers import dm\n",
    "from fixture import typeShow"
   ]
  },
  {
   "cell_type": "markdown",
   "metadata": {},
   "source": [
    "# NENA (North-Eastern Neo-Aramaic)"
   ]
  },
  {
   "cell_type": "code",
   "execution_count": 3,
   "metadata": {},
   "outputs": [
    {
     "name": "stdout",
     "output_type": "stream",
     "text": [
      "Using TF-app in ~/github/annotation/app-nena/code:\n",
      "\trepo clone offline under ~/github (local github)\n",
      "Using data in ~/github/CambridgeSemiticsLab/nena_tf/tf/0.02:\n",
      "\trepo clone offline under ~/github (local github)\n",
      "   |     0.00s Dataset without structure sections in otext:no structure functions in the T-API\n"
     ]
    },
    {
     "data": {
      "text/html": [
       "<b>Documentation:</b> <a target=\"_blank\" href=\"https://github.com/CambridgeSemiticsLab/nena_tf/blob/master/docs/features.md.md\" title=\"provenance of Northeastern Neo-Aramaic Text Corpus\">NENA_TF</a> <a target=\"_blank\" href=\"https://github.com/CambridgeSemiticsLab/nena_tf/blob/master/docs/transcription.md\" title=\"NENA transcription script\">Character table</a> <a target=\"_blank\" href=\"https://github.com/CambridgeSemiticsLab/nena_tf/blob/master/docs/features.md#\" title=\"NENA_TF feature documentation\">Feature docs</a> <a target=\"_blank\" href=\"https://github.com/annotation/app-nena\" title=\"nena API documentation\">nena API</a> <a target=\"_blank\" href=\"https://annotation.github.io/text-fabric/cheatsheet.html\" title=\"text-fabric-api\">Text-Fabric API 8.3.0</a> <a target=\"_blank\" href=\"https://annotation.github.io/text-fabric/about/searchusage.html\" title=\"Search Templates Introduction and Reference\">Search Reference</a><details open><summary><b>Loaded features</b>:</summary>\n",
       "<p><b>Northeastern Neo-Aramaic Text Corpus</b>: <a target=\"_blank\" href=\"https://github.com/CambridgeSemiticsLab/nena_tf/blob/master/docs/features.md#class\" title=\"~/github/CambridgeSemiticsLab/nena_tf/tf/0.02/class.tf\">class</a>  <a target=\"_blank\" href=\"https://github.com/CambridgeSemiticsLab/nena_tf/blob/master/docs/features.md#comment\" title=\"~/github/CambridgeSemiticsLab/nena_tf/tf/0.02/comment.tf\">comment</a>  <a target=\"_blank\" href=\"https://github.com/CambridgeSemiticsLab/nena_tf/blob/master/docs/features.md#dialect\" title=\"~/github/CambridgeSemiticsLab/nena_tf/tf/0.02/dialect.tf\">dialect</a>  <a target=\"_blank\" href=\"https://github.com/CambridgeSemiticsLab/nena_tf/blob/master/docs/features.md#end\" title=\"~/github/CambridgeSemiticsLab/nena_tf/tf/0.02/end.tf\">end</a>  <a target=\"_blank\" href=\"https://github.com/CambridgeSemiticsLab/nena_tf/blob/master/docs/features.md#foreign\" title=\"~/github/CambridgeSemiticsLab/nena_tf/tf/0.02/foreign.tf\">foreign</a>  <a target=\"_blank\" href=\"https://github.com/CambridgeSemiticsLab/nena_tf/blob/master/docs/features.md#full\" title=\"~/github/CambridgeSemiticsLab/nena_tf/tf/0.02/full.tf\">full</a>  <a target=\"_blank\" href=\"https://github.com/CambridgeSemiticsLab/nena_tf/blob/master/docs/features.md#full_end\" title=\"~/github/CambridgeSemiticsLab/nena_tf/tf/0.02/full_end.tf\">full_end</a>  <a target=\"_blank\" href=\"https://github.com/CambridgeSemiticsLab/nena_tf/blob/master/docs/features.md#fuzzy\" title=\"~/github/CambridgeSemiticsLab/nena_tf/tf/0.02/fuzzy.tf\">fuzzy</a>  <a target=\"_blank\" href=\"https://github.com/CambridgeSemiticsLab/nena_tf/blob/master/docs/features.md#fuzzy_end\" title=\"~/github/CambridgeSemiticsLab/nena_tf/tf/0.02/fuzzy_end.tf\">fuzzy_end</a>  <a target=\"_blank\" href=\"https://github.com/CambridgeSemiticsLab/nena_tf/blob/master/docs/features.md#gloss\" title=\"~/github/CambridgeSemiticsLab/nena_tf/tf/0.02/gloss.tf\">gloss</a>  <a target=\"_blank\" href=\"https://github.com/CambridgeSemiticsLab/nena_tf/blob/master/docs/features.md#grm_desc\" title=\"~/github/CambridgeSemiticsLab/nena_tf/tf/0.02/grm_desc.tf\">grm_desc</a>  <a target=\"_blank\" href=\"https://github.com/CambridgeSemiticsLab/nena_tf/blob/master/docs/features.md#informant\" title=\"~/github/CambridgeSemiticsLab/nena_tf/tf/0.02/informant.tf\">informant</a>  <a target=\"_blank\" href=\"https://github.com/CambridgeSemiticsLab/nena_tf/blob/master/docs/features.md#lang\" title=\"~/github/CambridgeSemiticsLab/nena_tf/tf/0.02/lang.tf\">lang</a>  <a target=\"_blank\" href=\"https://github.com/CambridgeSemiticsLab/nena_tf/blob/master/docs/features.md#lemma\" title=\"~/github/CambridgeSemiticsLab/nena_tf/tf/0.02/lemma.tf\">lemma</a>  <a target=\"_blank\" href=\"https://github.com/CambridgeSemiticsLab/nena_tf/blob/master/docs/features.md#lemma_form\" title=\"~/github/CambridgeSemiticsLab/nena_tf/tf/0.02/lemma_form.tf\">lemma_form</a>  <a target=\"_blank\" href=\"https://github.com/CambridgeSemiticsLab/nena_tf/blob/master/docs/features.md#lite\" title=\"~/github/CambridgeSemiticsLab/nena_tf/tf/0.02/lite.tf\">lite</a>  <a target=\"_blank\" href=\"https://github.com/CambridgeSemiticsLab/nena_tf/blob/master/docs/features.md#lite_end\" title=\"~/github/CambridgeSemiticsLab/nena_tf/tf/0.02/lite_end.tf\">lite_end</a>  <a target=\"_blank\" href=\"https://github.com/CambridgeSemiticsLab/nena_tf/blob/master/docs/features.md#number\" title=\"~/github/CambridgeSemiticsLab/nena_tf/tf/0.02/number.tf\">number</a>  <a target=\"_blank\" href=\"https://github.com/CambridgeSemiticsLab/nena_tf/blob/master/docs/features.md#otype\" title=\"~/github/CambridgeSemiticsLab/nena_tf/tf/0.02/otype.tf\">otype</a>  <a target=\"_blank\" href=\"https://github.com/CambridgeSemiticsLab/nena_tf/blob/master/docs/features.md#place\" title=\"~/github/CambridgeSemiticsLab/nena_tf/tf/0.02/place.tf\">place</a>  <a target=\"_blank\" href=\"https://github.com/CambridgeSemiticsLab/nena_tf/blob/master/docs/features.md#speaker\" title=\"~/github/CambridgeSemiticsLab/nena_tf/tf/0.02/speaker.tf\">speaker</a>  <a target=\"_blank\" href=\"https://github.com/CambridgeSemiticsLab/nena_tf/blob/master/docs/features.md#text\" title=\"~/github/CambridgeSemiticsLab/nena_tf/tf/0.02/text.tf\">text</a>  <a target=\"_blank\" href=\"https://github.com/CambridgeSemiticsLab/nena_tf/blob/master/docs/features.md#text_id\" title=\"~/github/CambridgeSemiticsLab/nena_tf/tf/0.02/text_id.tf\">text_id</a>  <a target=\"_blank\" href=\"https://github.com/CambridgeSemiticsLab/nena_tf/blob/master/docs/features.md#text_lite\" title=\"~/github/CambridgeSemiticsLab/nena_tf/tf/0.02/text_lite.tf\">text_lite</a>  <a target=\"_blank\" href=\"https://github.com/CambridgeSemiticsLab/nena_tf/blob/master/docs/features.md#text_norm\" title=\"~/github/CambridgeSemiticsLab/nena_tf/tf/0.02/text_norm.tf\">text_norm</a>  <a target=\"_blank\" href=\"https://github.com/CambridgeSemiticsLab/nena_tf/blob/master/docs/features.md#title\" title=\"~/github/CambridgeSemiticsLab/nena_tf/tf/0.02/title.tf\">title</a>  <b><i><a target=\"_blank\" href=\"https://github.com/CambridgeSemiticsLab/nena_tf/blob/master/docs/features.md#oslots\" title=\"~/github/CambridgeSemiticsLab/nena_tf/tf/0.02/oslots.tf\">oslots</a></i></b> </p></details>"
      ],
      "text/plain": [
       "<IPython.core.display.HTML object>"
      ]
     },
     "metadata": {},
     "output_type": "display_data"
    },
    {
     "data": {
      "text/html": [
       "<style>tr.tf, td.tf, th.tf { text-align: left ! important;}@font-face {\n",
       "  font-family: \"Ezra SIL\";\n",
       "  src: local('Ezra SIL'), local('EzraSIL'),\n",
       "    url('/server/static/fonts/SILEOT.woff') format('woff'),\n",
       "    url('https://github.com/annotation/text-fabric/blob/master/tf/server/static/fonts/SILEOT.woff?raw=true') format('woff');\n",
       "}\n",
       "\n",
       "@font-face {\n",
       "  font-family: \"SBL Hebrew\";\n",
       "  src: local('SBL Hebrew'), local('SBLHebrew'),\n",
       "    url('/server/static/fonts/SBL_Hbrw.woff') format('woff'),\n",
       "    url('https://github.com/annotation/text-fabric/blob/master/tf/server/static/fonts/SBL_Hbrw.woff?raw=true') format('woff');\n",
       "}\n",
       "\n",
       "@font-face {\n",
       "  font-family: \"Estrangelo Edessa\";\n",
       "  src: local('Estrangelo Edessa'), local('EstrangeloEdessa');\n",
       "    url('/server/static/fonts/SyrCOMEdessa.woff') format('woff'),\n",
       "    url('https://github.com/annotation/text-fabric/blob/master/tf/server/static/fonts/SyrCOMEdessa.woff?raw=true') format('woff');\n",
       "}\n",
       "\n",
       "@font-face {\n",
       "  font-family: AmiriQuran;\n",
       "  font-style: normal;\n",
       "  font-weight: 400;\n",
       "  src: local('Amiri Quran'), local('AmiriQuran'),\n",
       "    url('/server/static/fonts/AmiriQuran.woff') format('woff'),\n",
       "    url('https://github.com/annotation/text-fabric/blob/master/tf/server/static/fonts/AmiriQuran.woff?raw=true') format('woff');\n",
       "}\n",
       "\n",
       "@font-face {\n",
       "  font-family: AmiriQuranColored;\n",
       "  font-style: normal;\n",
       "  font-weight: 400;\n",
       "  src: local('Amiri Quran Colored'), local('AmiriQuranColored'),\n",
       "    url('/server/static/fonts/AmiriQuranColored.woff') format('woff'),\n",
       "    url('https://github.com/annotation/text-fabric/blob/master/tf/server/static/fonts/AmiriQuranColored.woff?raw=true') format('woff');\n",
       "}\n",
       "\n",
       "@font-face {\n",
       "  font-family: \"Santakku\";\n",
       "  src: local('Santakku'),\n",
       "    url('/server/static/fonts/Santakku.woff') format('woff'),\n",
       "    url('https://github.com/annotation/text-fabric/blob/master/tf/server/static/fonts/Santakku.woff?raw=true') format('woff');\n",
       "}\n",
       "\n",
       "@font-face {\n",
       "  font-family: \"SantakkuM\";\n",
       "  src: local('SantakkuM'),\n",
       "    url('/server/static/fonts/SantakkuM.woff') format('woff'),\n",
       "    url('https://github.com/annotation/text-fabric/blob/master/tf/server/static/fonts/SantakkuM.woff?raw=true') format('woff');\n",
       "}\n",
       "/* bypassing some classical notebook settings */\n",
       "div#notebook {\n",
       "  line-height: unset;\n",
       "}\n",
       "/* neutral text */\n",
       ".txtn,.txtn a:visited,.txtn a:link {\n",
       "    font-family: sans-serif;\n",
       "    font-size: medium;\n",
       "    direction: ltr;\n",
       "    text-decoration: none;\n",
       "    color: var(--text-color);\n",
       "}\n",
       "/* transcription text */\n",
       ".txtt,.txtt a:visited,.txtt a:link {\n",
       "    font-family: monospace;\n",
       "    font-size: medium;\n",
       "    direction: ltr;\n",
       "    text-decoration: none;\n",
       "    color: var(--text-color);\n",
       "}\n",
       "/* source text */\n",
       ".txto,.txto a:visited,.txto a:link {\n",
       "    font-family: serif;\n",
       "    font-size: medium;\n",
       "    direction: ltr;\n",
       "    text-decoration: none;\n",
       "    color: var(--text-color);\n",
       "}\n",
       "/* phonetic text */\n",
       ".txtp,.txtp a:visited,.txtp a:link {\n",
       "    font-family: Gentium, sans-serif;\n",
       "    font-size: large;\n",
       "    direction: ltr;\n",
       "    text-decoration: none;\n",
       "    color: var(--text-color);\n",
       "}\n",
       "/* original script text */\n",
       ".txtu,.txtu a:visited,.txtu a:link {\n",
       "    font-family: Gentium, sans-serif;\n",
       "    font-size: large;\n",
       "    text-decoration: none;\n",
       "    color: var(--text-color);\n",
       "}\n",
       "/* hebrew */\n",
       ".txtu.hbo,.lex.hbo {\n",
       "    font-family: \"Ezra SIL\", \"SBL Hebrew\", sans-serif;\n",
       "    font-size: x-large;\n",
       "    direction: rtl ! important;\n",
       "    unicode-bidi: embed;\n",
       "}\n",
       "/* syriac */\n",
       ".txtu.syc,.lex.syc {\n",
       "    font-family: \"Estrangelo Edessa\", sans-serif;\n",
       "    font-size: large;\n",
       "    direction: rtl ! important;\n",
       "    unicode-bidi: embed;\n",
       "}\n",
       "/* neo aramaic */\n",
       ".txtu.cld,.lex.cld {\n",
       "    font-family: \"CharisSIL-R\", sans-serif;\n",
       "    font-size: medium;\n",
       "    direction: ltr ! important;\n",
       "    unicode-bidi: embed;\n",
       "}\n",
       "/* standard arabic */\n",
       ".txtu.ara,.lex.ara {\n",
       "    font-family: \"AmiriQuran\", sans-serif;\n",
       "    font-size: large;\n",
       "    direction: rtl ! important;\n",
       "    unicode-bidi: embed;\n",
       "}\n",
       "/* cuneiform */\n",
       ".txtu.akk,.lex.akk {\n",
       "    font-family: Santakku, sans-serif;\n",
       "    font-size: x-large;\n",
       "    direction: ltr ! important;\n",
       "    unicode-bidi: embed;\n",
       "}\n",
       "/* greek */\n",
       ".txtu.grc,.lex.grc a:link {\n",
       "    font-family: Gentium, sans-serif;\n",
       "    font-size: medium;\n",
       "    direction: ltr ! important;\n",
       "    unicode-bidi: embed;\n",
       "}\n",
       "a:hover {\n",
       "    text-decoration: underline | important;\n",
       "    color: #0000ff | important;\n",
       "}\n",
       ".ltr {\n",
       "    direction: ltr ! important;\n",
       "}\n",
       ".rtl {\n",
       "    direction: rtl ! important;\n",
       "}\n",
       "span.plain {\n",
       "    display: inline-block;\n",
       "    white-space: pre-wrap;\n",
       "    text-align: start;\n",
       "}\n",
       ".gr,.gl {\n",
       "    white-space: pre-wrap;\n",
       "    border-color: var(--border-color-gap);\n",
       "    border-width: var(--border-width-gap);\n",
       "    border-top-style: none;\n",
       "    border-bottom-style: none;\n",
       "}\n",
       ".gr {\n",
       "    border-right-style: solid;\n",
       "    border-left-style: dashed;\n",
       "}\n",
       ".gl {\n",
       "    border-right-style: dashed;\n",
       "    border-left-style: solid;\n",
       "}\n",
       ".features {\n",
       "    font-family: monospace;\n",
       "    font-size: medium;\n",
       "    font-weight: bold;\n",
       "    color: var(--features);\n",
       "    display: flex;\n",
       "    flex-flow: column nowrap;\n",
       "    justify-content: flex-start;\n",
       "    align-items: flex-start;\n",
       "    align-content: flex-start;\n",
       "    padding: 0.1rem;\n",
       "    margin: 0.1rem;\n",
       "    direction: ltr;\n",
       "    border: var(--meta-width) solid var(--meta-color);\n",
       "    border-radius: var(--meta-width);\n",
       "}\n",
       ".features div,.features span {\n",
       "    padding: 0;\n",
       "    margin: -0.1rem 0;\n",
       "}\n",
       ".features .f {\n",
       "    font-family: sans-serif;\n",
       "    font-size: small;\n",
       "    font-weight: normal;\n",
       "    color: #5555bb;\n",
       "}\n",
       ".features .xft {\n",
       "  color: #000000;\n",
       "  background-color: #eeeeee;\n",
       "  font-size: medium;\n",
       "  margin: 0.1rem 0rem;\n",
       "}\n",
       ".features .xft .f {\n",
       "  color: #000000;\n",
       "  background-color: #eeeeee;\n",
       "  font-size: small;\n",
       "  font-weight: normal;\n",
       "}\n",
       ".section {\n",
       "    font-family: sans-serif;\n",
       "    font-size: small;\n",
       "    font-weight: bold;\n",
       "    color: var(--section);\n",
       "}\n",
       ".structure {\n",
       "    font-family: sans-serif;\n",
       "    font-size: small;\n",
       "    font-weight: bold;\n",
       "    color: var(--structure);\n",
       "}\n",
       ".comments {\n",
       "    display: flex;\n",
       "    justify-content: flex-start;\n",
       "    align-items: flex-start;\n",
       "    align-content: flex-start;\n",
       "    flex-flow: column nowrap;\n",
       "}\n",
       ".nd {\n",
       "    font-family: sans-serif;\n",
       "    font-size: small;\n",
       "    color: var(--node);\n",
       "    vertical-align: super;\n",
       "}\n",
       ".lex {\n",
       "  color: var(--lex-color);;\n",
       "}\n",
       ".children,.children.ltr {\n",
       "    display: flex;\n",
       "    border: 0;\n",
       "    background-color: #ffffff;\n",
       "    justify-content: flex-start;\n",
       "    align-items: flex-start;\n",
       "    align-content: flex-start;\n",
       "}\n",
       ".children.stretch {\n",
       "    align-items: stretch;\n",
       "}\n",
       ".children.hor {\n",
       "    flex-flow: row nowrap;\n",
       "}\n",
       ".children.hor.wrap {\n",
       "    flex-flow: row wrap;\n",
       "}\n",
       ".children.ver {\n",
       "    flex-flow: column nowrap;\n",
       "}\n",
       ".children.ver.wrap {\n",
       "    flex-flow: column wrap;\n",
       "}\n",
       ".contnr {\n",
       "    width: fit-content;\n",
       "    display: flex;\n",
       "    justify-content: flex-start;\n",
       "    align-items: flex-start;\n",
       "    align-content: flex-start;\n",
       "    flex-flow: column nowrap;\n",
       "    background: #ffffff none repeat scroll 0 0;\n",
       "    padding:  0.5rem 0.1rem 0.1rem 0.1rem;\n",
       "    margin: 0.8rem 0.1rem 0.1rem 0.1rem;\n",
       "    border-style: solid;\n",
       "    font-size: small;\n",
       "}\n",
       ".contnr.trm {\n",
       "    background-attachment: local;\n",
       "}\n",
       ".contnr.cnul {\n",
       "    padding:  0;\n",
       "    margin: 0;\n",
       "    border-style: solid;\n",
       "    font-size: xx-small;\n",
       "}\n",
       ".contnr.cnul,.lbl.cnul {\n",
       "    border-color: var(--border-color-nul);\n",
       "    border-width: var(--border-width-nul);\n",
       "    border-radius: var(--border-width-nul);\n",
       "}\n",
       ".contnr.c0,.lbl.c0 {\n",
       "    border-color: var(--border-color0);\n",
       "    border-width: var(--border-width0);\n",
       "    border-radius: var(--border-width0);\n",
       "}\n",
       ".contnr.c1,.lbl.c1 {\n",
       "    border-color: var(--border-color1);\n",
       "    border-width: var(--border-width1);\n",
       "    border-radius: var(--border-width1);\n",
       "}\n",
       ".contnr.c2,.lbl.c2 {\n",
       "    border-color: var(--border-color2);\n",
       "    border-width: var(--border-width2);\n",
       "    border-radius: var(--border-width2);\n",
       "}\n",
       ".contnr.c3,.lbl.c3 {\n",
       "    border-color: var(--border-color3);\n",
       "    border-width: var(--border-width3);\n",
       "    border-radius: var(--border-width3);\n",
       "}\n",
       ".contnr.c4,.lbl.c4 {\n",
       "    border-color: var(--border-color4);\n",
       "    border-width: var(--border-width4);\n",
       "    border-radius: var(--border-width4);\n",
       "}\n",
       ".plain.l,.contnr.l,.contnr.l>.lbl {\n",
       "    border-left-style: dotted\n",
       "}\n",
       ".plain.r,.contnr.r,.contnr.r>.lbl {\n",
       "    border-right-style: dotted\n",
       "}\n",
       ".plain.lno,.contnr.lno,.contnr.lno>.lbl {\n",
       "    border-left-style: none\n",
       "}\n",
       ".plain.rno,.contnr.rno,.contnr.rno>.lbl {\n",
       "    border-right-style: none\n",
       "}\n",
       ".plain.l {\n",
       "    padding-left: 0.2rem;\n",
       "    margin-left: 0.1rem;\n",
       "    border-width: var(--border-width-plain);\n",
       "}\n",
       ".plain.r {\n",
       "    padding-right: 0.2rem;\n",
       "    margin-right: 0.1rem;\n",
       "    border-width: var(--border-width-plain);\n",
       "}\n",
       ".lbl {\n",
       "    font-family: monospace;\n",
       "    margin-top: -1.2rem;\n",
       "    margin-left: 1rem;\n",
       "    background: #ffffff none repeat scroll 0 0;\n",
       "    padding: 0 0.3rem;\n",
       "    border-style: solid;\n",
       "    display: block;\n",
       "    color: var(--label)\n",
       "}\n",
       ".lbl.trm {\n",
       "    background-attachment: local;\n",
       "    margin-top: 0.1rem;\n",
       "    margin-left: 0.1rem;\n",
       "    padding: 0.1rem 0.1rem;\n",
       "    border-style: none;\n",
       "}\n",
       ".lbl.cnul {\n",
       "    font-size: xx-small;\n",
       "}\n",
       ".lbl.c0 {\n",
       "    font-size: small;\n",
       "}\n",
       ".lbl.c1 {\n",
       "    font-size: small;\n",
       "}\n",
       ".lbl.c2 {\n",
       "    font-size: medium;\n",
       "}\n",
       ".lbl.c3 {\n",
       "    font-size: medium;\n",
       "}\n",
       ".lbl.c4 {\n",
       "    font-size: large;\n",
       "}\n",
       ".occs {\n",
       "    font-size: small;\n",
       "}\n",
       "\n",
       "/* PROVENANCE */\n",
       "\n",
       "div.prov {\n",
       "\tmargin: 2rem;\n",
       "\tpadding: 1rem;\n",
       "\tborder: 0.1rem solid var(--fog-rim);\n",
       "}\n",
       "div.pline {\n",
       "\tdisplay: flex;\n",
       "\tflex-flow: row nowrap;\n",
       "\tjustify-content: stretch;\n",
       "\talign-items: baseline;\n",
       "}\n",
       "div.p2line {\n",
       "\tmargin-left: 2em;\n",
       "\tdisplay: flex;\n",
       "\tflex-flow: row nowrap;\n",
       "\tjustify-content: stretch;\n",
       "\talign-items: baseline;\n",
       "}\n",
       "div.psline {\n",
       "\tdisplay: flex;\n",
       "\tflex-flow: row nowrap;\n",
       "\tjustify-content: stretch;\n",
       "\talign-items: baseline;\n",
       "\tbackground-color: var(--gold-mist-back);\n",
       "}\n",
       "div.pname {\n",
       "\tflex: 0 0 5rem;\n",
       "\tfont-weight: bold;\n",
       "}\n",
       "div.pval {\n",
       "    flex: 1 1 auto;\n",
       "}\n",
       "\n",
       ":root {\n",
       "\t--node:               hsla(120, 100%,  20%, 1.0  );\n",
       "\t--label:              hsla(  0, 100%,  20%, 1.0  );\n",
       "\t--section:            hsla(  0, 100%,  25%, 1.0  );\n",
       "\t--structure:          hsla(120, 100%,  25%, 1.0  );\n",
       "\t--features:           hsla(  0,   0%,  30%, 1.0  );\n",
       "  --text-color:         hsla( 60,  80%,  10%, 1.0  );\n",
       "  --lex-color:          hsla(220,  90%,  60%, 1.0  );\n",
       "  --meta-color:         hsla(  0,   0%,  90%, 0.7  );\n",
       "  --meta-width:         0.15rem;\n",
       "  --border-color-nul:   hsla(  0,   0%,  90%, 0.5  );\n",
       "  --border-color-gap:   hsla(  0,  50%,  70%, 1.0  );\n",
       "  --border-color0:      hsla(  0,   0%,  90%, 0.9  );\n",
       "  --border-color1:      hsla(  0,   0%,  80%, 0.9  );\n",
       "  --border-color2:      hsla(  0,   0%,  70%, 0.9  );\n",
       "  --border-color3:      hsla(  0,   0%,  80%, 0.8  );\n",
       "  --border-color4:      hsla(  0,   0%,  60%, 0.9  );\n",
       "  --border-width-nul:   0.1rem;\n",
       "  --border-width-gap:   0.1rem;\n",
       "  --border-width0:      0.1rem;\n",
       "  --border-width1:      0.15rem;\n",
       "  --border-width2:      0.2rem;\n",
       "  --border-width3:      0.3rem;\n",
       "  --border-width4:      0.25rem;\n",
       "  --border-width-plain: 0.1rem;\n",
       "}\n",
       ".hl {\n",
       "  background-color: var(--hl-strong);\n",
       "}\n",
       "span.hl {\n",
       "\tbackground-color: var(--hl-strong);\n",
       "\tborder-width: 0;\n",
       "\tborder-radius: 0.1rem;\n",
       "\tborder-style: solid;\n",
       "}\n",
       "div.contnr.hl,div.lbl.hl {\n",
       "  background-color: var(--hl-strong);\n",
       "}\n",
       "div.contnr.hl {\n",
       "  border-color: var(--hl-rim) ! important;\n",
       "\tborder-width: 0.2rem ! important;\n",
       "}\n",
       "\n",
       "span.hlbx {\n",
       "\tborder-color: var(--hl-rim);\n",
       "\tborder-width: 0.2rem;\n",
       "\tborder-style: solid;\n",
       "\tborder-radius: 0.3rem;\n",
       "  padding: 0.2rem;\n",
       "  margin: 0.2rem;\n",
       "}\n",
       "\n",
       "span.plain {\n",
       "  display: inline-block;\n",
       "  white-space: pre-wrap;\n",
       "}\n",
       "\n",
       ":root {\n",
       "\t--hl-strong:        hsla( 60, 100%,  70%, 0.9  );\n",
       "\t--hl-rim:           hsla( 55,  80%,  50%, 1.0  );\n",
       "}\n",
       ".speaker {\n",
       "    vertical-align: super;\n",
       "    font-family: sans-serif;\n",
       "    font-size: small;\n",
       "    font-weight: bold;\n",
       "    color: #884400;\n",
       "}\n",
       "</style>"
      ],
      "text/plain": [
       "<IPython.core.display.HTML object>"
      ]
     },
     "metadata": {},
     "output_type": "display_data"
    },
    {
     "data": {
      "text/html": [
       "<div><a target=\"_blank\" href=\"https://annotation.github.io/text-fabric/cheatsheet.html\" title=\"doc\">names N F E L T S C TF directly usable</a></div>"
      ],
      "text/plain": [
       "<IPython.core.display.HTML object>"
      ]
     },
     "metadata": {},
     "output_type": "display_data"
    }
   ],
   "source": [
    "A = use('nena:clone', checkout=\"clone\", hoist=globals())"
   ]
  },
  {
   "cell_type": "code",
   "execution_count": null,
   "metadata": {},
   "outputs": [],
   "source": [
    "A.reuse()"
   ]
  },
  {
   "cell_type": "markdown",
   "metadata": {},
   "source": [
    "# Structure of lines and sentences"
   ]
  },
  {
   "cell_type": "code",
   "execution_count": 4,
   "metadata": {},
   "outputs": [],
   "source": [
    "v = F.otype.s('line')[0]"
   ]
  },
  {
   "cell_type": "code",
   "execution_count": 9,
   "metadata": {},
   "outputs": [
    {
     "data": {
      "text/html": [
       "<span class=\"section ltr\"><a target=\"_blank\" href=\"https://github.com/CambridgeSemiticsLab/nena_corpus/blob/master/nena/0.02/Barwar/A Hundred Gold Coins.nena\" title=\"Show this title in the NENA repository\" sec=\"Barwar, A Hundred Gold Coins, Ln. 1\">Barwar, A Hundred Gold Coins, Ln. 1</a></span><div class=\" children\"><div class=\"contnr c3    \" ><div class=\"lbl c3  \" ><span class=\"nd\">line</span></div><div class=\"children hor wrap \"><div class=\"contnr c2    \" ><div class=\"lbl c2  \" ><span class=\"nd\">sentence</span></div><div class=\"children hor wrap \"><div class=\"contnr c1    \" ><div class=\"lbl c1  \" ><span class=\"nd\">inton</span></div><div class=\"children hor  \"><div class=\"contnr c1    \" ><div class=\"lbl c1  \" ><span class=\"nd\">stress</span> <span class=\"txtu cld\"><span class=\"plain    \" ><span class=\"plain txtu cld \"></span><span class=\"plain    \" ><span class=\"plain txtu cld \"></span><span class=\"plain    \" ><span class=\"txtu cld\">x</span></span><span class=\"plain    \" ><span class=\"txtu cld\">á-</span></span></span><span class=\"plain    \" ><span class=\"plain txtu cld \"></span><span class=\"plain    \" ><span class=\"txtu cld\">g</span></span><span class=\"plain    \" ><span class=\"txtu cld\">a </span></span></span></span></span></div></div><div class=\"contnr c1    \" ><div class=\"lbl c1  \" ><span class=\"nd\">stress</span> <span class=\"txtu cld\"><span class=\"plain    \" ><span class=\"plain txtu cld \"></span><span class=\"plain    \" ><span class=\"plain txtu cld \"></span><span class=\"plain    \" ><span class=\"txtu cld\">x</span></span><span class=\"plain    \" ><span class=\"txtu cld\">è</span></span><span class=\"plain    \" ><span class=\"txtu cld\">t</span></span><span class=\"plain    \" ><span class=\"txtu cld\">a,ˈ </span></span></span></span></span></div></div></div></div><div class=\"contnr c1    \" ><div class=\"lbl c1  \" ><span class=\"nd\">inton</span></div><div class=\"children hor  \"><div class=\"contnr c1    \" ><div class=\"lbl c1  \" ><span class=\"nd\">stress</span> <span class=\"txtu cld\"><span class=\"plain    \" ><span class=\"plain txtu cld \"></span><span class=\"plain    \" ><span class=\"plain txtu cld \"></span><span class=\"plain    \" ><span class=\"txtu cld\">m</span></span><span class=\"plain    \" ><span class=\"txtu cld\">á</span></span><span class=\"plain    \" ><span class=\"txtu cld\">l</span></span><span class=\"plain    \" ><span class=\"txtu cld\">l</span></span><span class=\"plain    \" ><span class=\"txtu cld\">a</span></span><span class=\"plain    \" ><span class=\"txtu cld\">h </span></span></span></span></span></div></div><div class=\"contnr c1    \" ><div class=\"lbl c1  \" ><span class=\"nd\">stress</span> <span class=\"txtu cld\"><span class=\"plain    \" ><span class=\"plain txtu cld \"></span><span class=\"plain    \" ><span class=\"plain txtu cld \"></span><span class=\"plain    \" ><span class=\"txtu cld\">N</span></span><span class=\"plain    \" ><span class=\"txtu cld\">a</span></span><span class=\"plain    \" ><span class=\"txtu cld\">ṣ</span></span><span class=\"plain    \" ><span class=\"txtu cld\">r</span></span><span class=\"plain    \" ><span class=\"txtu cld\">à</span></span><span class=\"plain    \" ><span class=\"txtu cld\">d</span></span><span class=\"plain    \" ><span class=\"txtu cld\">i</span></span><span class=\"plain    \" ><span class=\"txtu cld\">n,ˈ </span></span></span></span></span></div></div></div></div><div class=\"contnr c1    \" ><div class=\"lbl c1  \" ><span class=\"nd\">inton</span></div><div class=\"children hor  \"><div class=\"contnr c1    \" ><div class=\"lbl c1  \" ><span class=\"nd\">stress</span> <span class=\"txtu cld\"><span class=\"plain    \" ><span class=\"plain txtu cld \"></span><span class=\"plain    \" ><span class=\"plain txtu cld \"></span><span class=\"plain    \" ><span class=\"txtu cld\">x</span></span><span class=\"plain    \" ><span class=\"txtu cld\">á</span></span><span class=\"plain    \" ><span class=\"txtu cld\">z</span></span><span class=\"plain    \" ><span class=\"txtu cld\">ə</span></span><span class=\"plain    \" ><span class=\"txtu cld\">x </span></span></span></span></span></div></div><div class=\"contnr c1    \" ><div class=\"lbl c1  \" ><span class=\"nd\">stress</span> <span class=\"txtu cld\"><span class=\"plain    \" ><span class=\"plain txtu cld \"></span><span class=\"plain    \" ><span class=\"plain txtu cld \"></span><span class=\"plain    \" ><span class=\"txtu cld\">m</span></span><span class=\"plain    \" ><span class=\"txtu cld\">ò</span></span><span class=\"plain    \" ><span class=\"txtu cld\">d</span></span><span class=\"plain    \" ><span class=\"txtu cld\">i </span></span></span></span></span></div></div><div class=\"contnr c1    \" ><div class=\"lbl c1  \" ><span class=\"nd\">stress</span> <span class=\"txtu cld\"><span class=\"plain    \" ><span class=\"plain txtu cld \"></span><span class=\"plain    \" ><span class=\"plain txtu cld \"></span><span class=\"plain    \" ><span class=\"txtu cld\">w</span></span><span class=\"plain    \" ><span class=\"txtu cld\">í</span></span><span class=\"plain    \" ><span class=\"txtu cld\">ð</span></span><span class=\"plain    \" ><span class=\"txtu cld\">a.ˈ </span></span></span></span></span></div></div></div></div></div></div><div class=\"contnr c2    \" ><div class=\"lbl c2  \" ><span class=\"nd\">sentence</span></div><div class=\"children hor wrap \"><div class=\"contnr c1    \" ><div class=\"lbl c1  \" ><span class=\"nd\">inton</span></div><div class=\"children hor  \"><div class=\"contnr c1    \" ><div class=\"lbl c1  \" ><span class=\"nd\">stress</span> <span class=\"txtu cld\"><span class=\"plain    \" ><span class=\"plain txtu cld \"></span><span class=\"plain    \" ><span class=\"plain txtu cld \"></span><span class=\"plain    \" ><span class=\"txtu cld\">g</span></span><span class=\"plain    \" ><span class=\"txtu cld\">u-</span></span></span><span class=\"plain    \" ><span class=\"plain txtu cld \"></span><span class=\"plain    \" ><span class=\"txtu cld\">b</span></span><span class=\"plain    \" ><span class=\"txtu cld\">ɛ̀</span></span><span class=\"plain    \" ><span class=\"txtu cld\">θ</span></span><span class=\"plain    \" ><span class=\"txtu cld\">a </span></span></span></span></span></div></div><div class=\"contnr c1    \" ><div class=\"lbl c1  \" ><span class=\"nd\">stress</span> <span class=\"txtu cld\"><span class=\"plain    \" ><span class=\"plain txtu cld \"></span><span class=\"plain    \" ><span class=\"plain txtu cld \"></span><span class=\"plain    \" ><span class=\"txtu cld\">w</span></span><span class=\"plain    \" ><span class=\"txtu cld\">é</span></span><span class=\"plain    \" ><span class=\"txtu cld\">w</span></span><span class=\"plain    \" ><span class=\"txtu cld\">a,ˈ </span></span></span></span></span></div></div></div></div><div class=\"contnr c1    \" ><div class=\"lbl c1  \" ><span class=\"nd\">inton</span></div><div class=\"children hor  \"><div class=\"contnr c1    \" ><div class=\"lbl c1  \" ><span class=\"nd\">stress</span> <span class=\"txtu cld\"><span class=\"plain    \" ><span class=\"plain txtu cld \"></span><span class=\"plain    \" ><span class=\"plain txtu cld \"></span><span class=\"plain    \" ><span class=\"txtu cld\">h</span></span><span class=\"plain    \" ><span class=\"txtu cld\">a</span></span><span class=\"plain    \" ><span class=\"txtu cld\">r-</span></span></span><span class=\"plain    \" ><span class=\"plain txtu cld \"></span><span class=\"plain    \" ><span class=\"txtu cld\">z</span></span><span class=\"plain    \" ><span class=\"txtu cld\">á</span></span><span class=\"plain    \" ><span class=\"txtu cld\">l</span></span><span class=\"plain    \" ><span class=\"txtu cld\">a-</span></span></span><span class=\"plain    \" ><span class=\"plain txtu cld \"></span><span class=\"plain    \" ><span class=\"txtu cld\">w </span></span></span></span></span></div></div><div class=\"contnr c1    \" ><div class=\"lbl c1  \" ><span class=\"nd\">stress</span> <span class=\"txtu cld\"><span class=\"plain    \" ><span class=\"plain txtu cld \"></span><span class=\"plain    \" ><span class=\"plain txtu cld \"></span><span class=\"plain    \" ><span class=\"txtu cld\">θ</span></span><span class=\"plain    \" ><span class=\"txtu cld\">à</span></span><span class=\"plain    \" ><span class=\"txtu cld\">y</span></span><span class=\"plain    \" ><span class=\"txtu cld\">a.ˈ </span></span></span></span></span></div></div></div></div></div></div><div class=\"contnr c2    \" ><div class=\"lbl c2  \" ><span class=\"nd\">sentence</span></div><div class=\"children hor wrap \"><div class=\"contnr c1    \" ><div class=\"lbl c1  \" ><span class=\"nd\">inton</span></div><div class=\"children hor  \"><div class=\"contnr c1    \" ><div class=\"lbl c1  \" ><span class=\"nd\">stress</span> <span class=\"txtu cld\"><span class=\"plain    \" ><span class=\"plain txtu cld \"></span><span class=\"plain    \" ><span class=\"plain txtu cld \"></span><span class=\"plain    \" ><span class=\"txtu cld\">z</span></span><span class=\"plain    \" ><span class=\"txtu cld\">á</span></span><span class=\"plain    \" ><span class=\"txtu cld\">l</span></span><span class=\"plain    \" ><span class=\"txtu cld\">a-</span></span></span><span class=\"plain    \" ><span class=\"plain txtu cld \"></span><span class=\"plain    \" ><span class=\"txtu cld\">w </span></span></span></span></span></div></div><div class=\"contnr c1    \" ><div class=\"lbl c1  \" ><span class=\"nd\">stress</span> <span class=\"txtu cld\"><span class=\"plain    \" ><span class=\"plain txtu cld \"></span><span class=\"plain    \" ><span class=\"plain txtu cld \"></span><span class=\"plain    \" ><span class=\"txtu cld\">θ</span></span><span class=\"plain    \" ><span class=\"txtu cld\">à</span></span><span class=\"plain    \" ><span class=\"txtu cld\">y</span></span><span class=\"plain    \" ><span class=\"txtu cld\">a,ˈ </span></span></span></span></span></div></div></div></div><div class=\"contnr c1    \" ><div class=\"lbl c1  \" ><span class=\"nd\">inton</span></div><div class=\"children hor  \"><div class=\"contnr c1    \" ><div class=\"lbl c1  \" ><span class=\"nd\">stress</span> <span class=\"txtu cld\"><span class=\"plain    \" ><span class=\"plain txtu cld \"></span><span class=\"plain    \" ><span class=\"plain txtu cld \"></span><span class=\"plain    \" ><span class=\"txtu cld\">m</span></span><span class=\"plain    \" ><span class=\"txtu cld\">á</span></span><span class=\"plain    \" ><span class=\"txtu cld\">r</span></span><span class=\"plain    \" ><span class=\"txtu cld\">a </span></span></span></span></span></div></div><div class=\"contnr c1    \" ><div class=\"lbl c1  \" ><span class=\"nd\">stress</span> <span class=\"txtu cld\"><span class=\"plain    \" ><span class=\"plain txtu cld \"></span><span class=\"plain    \" ><span class=\"plain txtu cld \"></span><span class=\"plain    \" ><span class=\"txtu cld\">y</span></span><span class=\"plain    \" ><span class=\"txtu cld\">a-</span></span></span><span class=\"plain    \" ><span class=\"plain txtu cld \"></span><span class=\"plain    \" ><span class=\"txtu cld\">ʾ</span></span><span class=\"plain    \" ><span class=\"txtu cld\">à</span></span><span class=\"plain    \" ><span class=\"txtu cld\">l</span></span><span class=\"plain    \" ><span class=\"txtu cld\">a</span></span><span class=\"plain    \" ><span class=\"txtu cld\">h</span></span><span class=\"plain    \" ><span class=\"txtu cld\">a,ˈ </span></span></span></span></span></div></div></div></div><div class=\"contnr c1    \" ><div class=\"lbl c1  \" ><span class=\"nd\">inton</span></div><div class=\"children hor  \"><div class=\"contnr c1    \" ><div class=\"lbl c1  \" ><span class=\"nd\">stress</span> <span class=\"txtu cld\"><span class=\"plain    \" ><span class=\"plain txtu cld \"></span><span class=\"plain    \" ><span class=\"plain txtu cld \"></span><span class=\"plain    \" ><span class=\"txtu cld\">y</span></span><span class=\"plain    \" ><span class=\"txtu cld\">a</span></span><span class=\"plain    \" ><span class=\"txtu cld\">w</span></span><span class=\"plain    \" ><span class=\"txtu cld\">ə̀</span></span><span class=\"plain    \" ><span class=\"txtu cld\">t</span></span><span class=\"plain    \" ><span class=\"txtu cld\">l</span></span><span class=\"plain    \" ><span class=\"txtu cld\">iˈ </span></span></span></span></span></div></div></div></div><div class=\"contnr c1    \" ><div class=\"lbl c1  \" ><span class=\"nd\">inton</span></div><div class=\"children hor  \"><div class=\"contnr c1    \" ><div class=\"lbl c1  \" ><span class=\"nd\">stress</span> <span class=\"txtu cld\"><span class=\"plain    \" ><span class=\"plain txtu cld \"></span><span class=\"plain    \" ><span class=\"plain txtu cld \"></span><span class=\"plain    \" ><span class=\"txtu cld\">ʾ</span></span><span class=\"plain    \" ><span class=\"txtu cld\">ə́</span></span><span class=\"plain    \" ><span class=\"txtu cld\">m</span></span><span class=\"plain    \" ><span class=\"txtu cld\">m</span></span><span class=\"plain    \" ><span class=\"txtu cld\">a </span></span></span></span></span></div></div><div class=\"contnr c1    \" ><div class=\"lbl c1  \" ><span class=\"nd\">stress</span> <span class=\"txtu cld\"><span class=\"plain    \" ><span class=\"plain txtu cld \"></span><span class=\"plain    \" ><span class=\"plain txtu cld \"></span><span class=\"plain    \" ><span class=\"txtu cld\">d</span></span><span class=\"plain    \" ><span class=\"txtu cld\">à</span></span><span class=\"plain    \" ><span class=\"txtu cld\">w</span></span><span class=\"plain    \" ><span class=\"txtu cld\">e.ˈ </span></span></span></span></span></div></div></div></div></div></div><div class=\"contnr c2    \" ><div class=\"lbl c2  \" ><span class=\"nd\">sentence</span></div><div class=\"children hor wrap \"><div class=\"contnr c1    \" ><div class=\"lbl c1  \" ><span class=\"nd\">inton</span></div><div class=\"children hor  \"><div class=\"contnr c1    \" ><div class=\"lbl c1  \" ><span class=\"nd\">stress</span> <span class=\"txtu cld\"><span class=\"plain    \" ><span class=\"plain txtu cld \"></span><span class=\"plain    \" ><span class=\"plain txtu cld \"></span><span class=\"plain    \" ><span class=\"txtu cld\">ʾ</span></span><span class=\"plain    \" ><span class=\"txtu cld\">ə</span></span><span class=\"plain    \" ><span class=\"txtu cld\">n-</span></span></span><span class=\"plain    \" ><span class=\"plain txtu cld \"></span><span class=\"plain    \" ><span class=\"txtu cld\">h</span></span><span class=\"plain    \" ><span class=\"txtu cld\">à</span></span><span class=\"plain    \" ><span class=\"txtu cld\">w</span></span><span class=\"plain    \" ><span class=\"txtu cld\">aˈ </span></span></span></span></span></div></div></div></div><div class=\"contnr c1    \" ><div class=\"lbl c1  \" ><span class=\"nd\">inton</span></div><div class=\"children hor  \"><div class=\"contnr c1    \" ><div class=\"lbl c1  \" ><span class=\"nd\">stress</span> <span class=\"txtu cld\"><span class=\"plain    \" ><span class=\"plain txtu cld \"></span><span class=\"plain    \" ><span class=\"plain txtu cld \"></span><span class=\"plain    \" ><span class=\"txtu cld\">ʾ</span></span><span class=\"plain    \" ><span class=\"txtu cld\">ə́</span></span><span class=\"plain    \" ><span class=\"txtu cld\">č̣</span></span><span class=\"plain    \" ><span class=\"txtu cld\">č̣</span></span><span class=\"plain    \" ><span class=\"txtu cld\">i-</span></span></span><span class=\"plain    \" ><span class=\"plain txtu cld \"></span><span class=\"plain    \" ><span class=\"txtu cld\">u </span></span></span></span></span></div></div><div class=\"contnr c1    \" ><div class=\"lbl c1  \" ><span class=\"nd\">stress</span> <span class=\"txtu cld\"><span class=\"plain    \" ><span class=\"plain txtu cld \"></span><span class=\"plain    \" ><span class=\"plain txtu cld \"></span><span class=\"plain    \" ><span class=\"txtu cld\">ʾ</span></span><span class=\"plain    \" ><span class=\"txtu cld\">ə́</span></span><span class=\"plain    \" ><span class=\"txtu cld\">č̣</span></span><span class=\"plain    \" ><span class=\"txtu cld\">č̣</span></span><span class=\"plain    \" ><span class=\"txtu cld\">a </span></span></span></span></span></div></div><div class=\"contnr c1    \" ><div class=\"lbl c1  \" ><span class=\"nd\">stress</span> <span class=\"txtu cld\"><span class=\"plain    \" ><span class=\"plain txtu cld \"></span><span class=\"plain    \" ><span class=\"plain txtu cld \"></span><span class=\"plain    \" ><span class=\"txtu cld\">m</span></span><span class=\"plain    \" ><span class=\"txtu cld\">a</span></span><span class=\"plain    \" ><span class=\"txtu cld\">q</span></span><span class=\"plain    \" ><span class=\"txtu cld\">ə</span></span><span class=\"plain    \" ><span class=\"txtu cld\">l</span></span><span class=\"plain    \" ><span class=\"txtu cld\">b</span></span><span class=\"plain    \" ><span class=\"txtu cld\">ə̀</span></span><span class=\"plain    \" ><span class=\"txtu cld\">n</span></span><span class=\"plain    \" ><span class=\"txtu cld\">n</span></span><span class=\"plain    \" ><span class=\"txtu cld\">a.ˈ </span></span></span></span></span></div></div></div></div></div></div><div class=\"contnr c2    \" ><div class=\"lbl c2  \" ><span class=\"nd\">sentence</span></div><div class=\"children hor wrap \"><div class=\"contnr c1    \" ><div class=\"lbl c1  \" ><span class=\"nd\">inton</span></div><div class=\"children hor  \"><div class=\"contnr c1    \" ><div class=\"lbl c1  \" ><span class=\"nd\">stress</span> <span class=\"txtu cld\"><span class=\"plain    \" ><span class=\"plain txtu cld \"></span><span class=\"plain    \" ><span class=\"plain txtu cld \"></span><span class=\"plain    \" ><span class=\"txtu cld\">ʾ</span></span><span class=\"plain    \" ><span class=\"txtu cld\">u-</span></span></span><span class=\"plain    \" ><span class=\"plain txtu cld \"></span><span class=\"plain    \" ><span class=\"txtu cld\">ʾ</span></span><span class=\"plain    \" ><span class=\"txtu cld\">ə</span></span><span class=\"plain    \" ><span class=\"txtu cld\">n-</span></span></span><span class=\"plain    \" ><span class=\"plain txtu cld \"></span><span class=\"plain    \" ><span class=\"txtu cld\">h</span></span><span class=\"plain    \" ><span class=\"txtu cld\">à</span></span><span class=\"plain    \" ><span class=\"txtu cld\">w</span></span><span class=\"plain    \" ><span class=\"txtu cld\">aˈ </span></span></span></span></span></div></div></div></div><div class=\"contnr c1    \" ><div class=\"lbl c1  \" ><span class=\"nd\">inton</span></div><div class=\"children hor  \"><div class=\"contnr c1    \" ><div class=\"lbl c1  \" ><span class=\"nd\">stress</span> <span class=\"txtu cld\"><span class=\"plain    \" ><span class=\"plain txtu cld \"></span><span class=\"plain    \" ><span class=\"plain txtu cld \"></span><span class=\"plain    \" ><span class=\"txtu cld\">ʾ</span></span><span class=\"plain    \" ><span class=\"txtu cld\">ə́</span></span><span class=\"plain    \" ><span class=\"txtu cld\">m</span></span><span class=\"plain    \" ><span class=\"txtu cld\">m</span></span><span class=\"plain    \" ><span class=\"txtu cld\">a-</span></span></span><span class=\"plain    \" ><span class=\"plain txtu cld \"></span><span class=\"plain    \" ><span class=\"txtu cld\">w-</span></span></span><span class=\"plain    \" ><span class=\"plain txtu cld \"></span><span class=\"plain    \" ><span class=\"txtu cld\">x</span></span><span class=\"plain    \" ><span class=\"txtu cld\">à-</span></span></span><span class=\"plain    \" ><span class=\"plain txtu cld \"></span><span class=\"plain    \" ><span class=\"txtu cld\">ž</span></span><span class=\"plain    \" ><span class=\"txtu cld\">i,ˈ </span></span></span></span></span></div></div></div></div><div class=\"contnr c1    \" ><div class=\"lbl c1  \" ><span class=\"nd\">inton</span></div><div class=\"children hor  \"><div class=\"contnr c1    \" ><div class=\"lbl c1  \" ><span class=\"nd\">stress</span> <span class=\"txtu cld\"><span class=\"plain    \" ><span class=\"plain txtu cld \"></span><span class=\"plain    \" ><span class=\"plain txtu cld \"></span><span class=\"plain    \" ><span class=\"txtu cld\">l</span></span><span class=\"plain    \" ><span class=\"txtu cld\">a-</span></span></span><span class=\"plain    \" ><span class=\"plain txtu cld \"></span><span class=\"plain    \" ><span class=\"txtu cld\">b</span></span><span class=\"plain    \" ><span class=\"txtu cld\">ă</span></span><span class=\"plain    \" ><span class=\"txtu cld\">y</span></span><span class=\"plain    \" ><span class=\"txtu cld\">ə̀</span></span><span class=\"plain    \" ><span class=\"txtu cld\">n</span></span><span class=\"plain    \" ><span class=\"txtu cld\">n</span></span><span class=\"plain    \" ><span class=\"txtu cld\">a.ˈ </span></span></span></span></span></div></div></div></div></div></div><div class=\"contnr c2    \" ><div class=\"lbl c2  \" ><span class=\"nd\">sentence</span></div><div class=\"children hor wrap \"><div class=\"contnr c1    \" ><div class=\"lbl c1  \" ><span class=\"nd\">inton</span></div><div class=\"children hor  \"><div class=\"contnr c1    \" ><div class=\"lbl c1  \" ><span class=\"nd\">stress</span> <span class=\"txtu cld\"><span class=\"plain    \" ><span class=\"plain txtu cld \"></span><span class=\"plain    \" ><span class=\"plain txtu cld \"></span><span class=\"plain    \" ><span class=\"txtu cld\">d</span></span><span class=\"plain    \" ><span class=\"txtu cld\">e-</span></span></span><span class=\"plain    \" ><span class=\"plain txtu cld \"></span><span class=\"plain    \" ><span class=\"txtu cld\">š</span></span><span class=\"plain    \" ><span class=\"txtu cld\">ù</span></span><span class=\"plain    \" ><span class=\"txtu cld\">q</span></span><span class=\"plain    \" ><span class=\"txtu cld\">l</span></span><span class=\"plain    \" ><span class=\"txtu cld\">a.ˈ </span></span></span></span></span></div></div></div></div></div></div><div class=\"contnr c2    \" ><div class=\"lbl c2  \" ><span class=\"nd\">sentence</span></div><div class=\"children hor wrap \"><div class=\"contnr c1    \" ><div class=\"lbl c1  \" ><span class=\"nd\">inton</span></div><div class=\"children hor  \"><div class=\"contnr c1    \" ><div class=\"lbl c1  \" ><span class=\"nd\">stress</span> <span class=\"txtu cld\"><span class=\"plain    \" ><span class=\"plain txtu cld \"></span><span class=\"plain    \" ><span class=\"plain txtu cld \"></span><span class=\"plain    \" ><span class=\"txtu cld\">ʾ</span></span><span class=\"plain    \" ><span class=\"txtu cld\">ə̀</span></span><span class=\"plain    \" ><span class=\"txtu cld\">m</span></span><span class=\"plain    \" ><span class=\"txtu cld\">m</span></span><span class=\"plain    \" ><span class=\"txtu cld\">a </span></span></span></span></span></div></div><div class=\"contnr c1    \" ><div class=\"lbl c1  \" ><span class=\"nd\">stress</span> <span class=\"txtu cld\"><span class=\"plain    \" ><span class=\"plain txtu cld \"></span><span class=\"plain    \" ><span class=\"plain txtu cld \"></span><span class=\"plain    \" ><span class=\"txtu cld\">g</span></span><span class=\"plain    \" ><span class=\"txtu cld\">ắ</span></span><span class=\"plain    \" ><span class=\"txtu cld\">r</span></span><span class=\"plain    \" ><span class=\"txtu cld\">ə</span></span><span class=\"plain    \" ><span class=\"txtu cld\">g </span></span></span></span></span></div></div><div class=\"contnr c1    \" ><div class=\"lbl c1  \" ><span class=\"nd\">stress</span> <span class=\"txtu cld\"><span class=\"plain    \" ><span class=\"plain txtu cld \"></span><span class=\"plain    \" ><span class=\"plain txtu cld \"></span><span class=\"plain    \" ><span class=\"txtu cld\">h</span></span><span class=\"plain    \" ><span class=\"txtu cld\">á</span></span><span class=\"plain    \" ><span class=\"txtu cld\">w</span></span><span class=\"plain    \" ><span class=\"txtu cld\">a </span></span></span></span></span></div></div><div class=\"contnr c1    \" ><div class=\"lbl c1  \" ><span class=\"nd\">stress</span> <span class=\"txtu cld\"><span class=\"plain    \" ><span class=\"plain txtu cld \"></span><span class=\"plain    \" ><span class=\"plain txtu cld \"></span><span class=\"plain    \" ><span class=\"txtu cld\">d</span></span><span class=\"plain    \" ><span class=\"txtu cld\">r</span></span><span class=\"plain    \" ><span class=\"txtu cld\">ə́</span></span><span class=\"plain    \" ><span class=\"txtu cld\">s</span></span><span class=\"plain    \" ><span class=\"txtu cld\">t.ˈ </span></span></span></span></span></div></div></div></div></div></div></div></div></div>"
      ],
      "text/plain": [
       "<IPython.core.display.HTML object>"
      ]
     },
     "metadata": {},
     "output_type": "display_data"
    }
   ],
   "source": [
    "A.pretty(v)"
   ]
  },
  {
   "cell_type": "code",
   "execution_count": 10,
   "metadata": {},
   "outputs": [
    {
     "data": {
      "text/html": [
       "<span class=\"section ltr\"><a target=\"_blank\" href=\"https://github.com/CambridgeSemiticsLab/nena_corpus/blob/master/nena/0.02/Barwar/A Hundred Gold Coins.nena\" title=\"Show this title in the NENA repository\" sec=\"Barwar, A Hundred Gold Coins, Ln. 1\">Barwar, A Hundred Gold Coins, Ln. 1</a></span><div class=\" children\"><div class=\"contnr c3    \" ><div class=\"lbl c3  \" ><span class=\"nd\">line</span></div><div class=\"children hor wrap \"><div class=\"contnr c2    \" ><div class=\"lbl c2  \" ><span class=\"nd\">sentence</span></div><div class=\"children hor wrap \"><div class=\"contnr c2    \" ><div class=\"lbl c2  \" ><span class=\"nd\">subsentence</span></div><div class=\"children hor wrap \"><div class=\"contnr c1    \" ><div class=\"lbl c1  \" ><span class=\"nd\">inton</span></div><div class=\"children hor  \"><div class=\"contnr c1    \" ><div class=\"lbl c1  \" ><span class=\"nd\">stress</span> <span class=\"txtu cld\"><span class=\"plain    \" ><span class=\"plain txtu cld \"></span><span class=\"plain    \" ><span class=\"plain txtu cld \"></span><span class=\"plain    \" ><span class=\"txtu cld\">x</span></span><span class=\"plain    \" ><span class=\"txtu cld\">á-</span></span></span><span class=\"plain    \" ><span class=\"plain txtu cld \"></span><span class=\"plain    \" ><span class=\"txtu cld\">g</span></span><span class=\"plain    \" ><span class=\"txtu cld\">a </span></span></span></span></span></div></div><div class=\"contnr c1    \" ><div class=\"lbl c1  \" ><span class=\"nd\">stress</span> <span class=\"txtu cld\"><span class=\"plain    \" ><span class=\"plain txtu cld \"></span><span class=\"plain    \" ><span class=\"plain txtu cld \"></span><span class=\"plain    \" ><span class=\"txtu cld\">x</span></span><span class=\"plain    \" ><span class=\"txtu cld\">è</span></span><span class=\"plain    \" ><span class=\"txtu cld\">t</span></span><span class=\"plain    \" ><span class=\"txtu cld\">a,ˈ </span></span></span></span></span></div></div></div></div></div></div><div class=\"contnr c2    \" ><div class=\"lbl c2  \" ><span class=\"nd\">subsentence</span></div><div class=\"children hor wrap \"><div class=\"contnr c1    \" ><div class=\"lbl c1  \" ><span class=\"nd\">inton</span></div><div class=\"children hor  \"><div class=\"contnr c1    \" ><div class=\"lbl c1  \" ><span class=\"nd\">stress</span> <span class=\"txtu cld\"><span class=\"plain    \" ><span class=\"plain txtu cld \"></span><span class=\"plain    \" ><span class=\"plain txtu cld \"></span><span class=\"plain    \" ><span class=\"txtu cld\">m</span></span><span class=\"plain    \" ><span class=\"txtu cld\">á</span></span><span class=\"plain    \" ><span class=\"txtu cld\">l</span></span><span class=\"plain    \" ><span class=\"txtu cld\">l</span></span><span class=\"plain    \" ><span class=\"txtu cld\">a</span></span><span class=\"plain    \" ><span class=\"txtu cld\">h </span></span></span></span></span></div></div><div class=\"contnr c1    \" ><div class=\"lbl c1  \" ><span class=\"nd\">stress</span> <span class=\"txtu cld\"><span class=\"plain    \" ><span class=\"plain txtu cld \"></span><span class=\"plain    \" ><span class=\"plain txtu cld \"></span><span class=\"plain    \" ><span class=\"txtu cld\">N</span></span><span class=\"plain    \" ><span class=\"txtu cld\">a</span></span><span class=\"plain    \" ><span class=\"txtu cld\">ṣ</span></span><span class=\"plain    \" ><span class=\"txtu cld\">r</span></span><span class=\"plain    \" ><span class=\"txtu cld\">à</span></span><span class=\"plain    \" ><span class=\"txtu cld\">d</span></span><span class=\"plain    \" ><span class=\"txtu cld\">i</span></span><span class=\"plain    \" ><span class=\"txtu cld\">n,ˈ </span></span></span></span></span></div></div></div></div></div></div><div class=\"contnr c2    \" ><div class=\"lbl c2  \" ><span class=\"nd\">subsentence</span></div><div class=\"children hor wrap \"><div class=\"contnr c1    \" ><div class=\"lbl c1  \" ><span class=\"nd\">inton</span></div><div class=\"children hor  \"><div class=\"contnr c1    \" ><div class=\"lbl c1  \" ><span class=\"nd\">stress</span> <span class=\"txtu cld\"><span class=\"plain    \" ><span class=\"plain txtu cld \"></span><span class=\"plain    \" ><span class=\"plain txtu cld \"></span><span class=\"plain    \" ><span class=\"txtu cld\">x</span></span><span class=\"plain    \" ><span class=\"txtu cld\">á</span></span><span class=\"plain    \" ><span class=\"txtu cld\">z</span></span><span class=\"plain    \" ><span class=\"txtu cld\">ə</span></span><span class=\"plain    \" ><span class=\"txtu cld\">x </span></span></span></span></span></div></div><div class=\"contnr c1    \" ><div class=\"lbl c1  \" ><span class=\"nd\">stress</span> <span class=\"txtu cld\"><span class=\"plain    \" ><span class=\"plain txtu cld \"></span><span class=\"plain    \" ><span class=\"plain txtu cld \"></span><span class=\"plain    \" ><span class=\"txtu cld\">m</span></span><span class=\"plain    \" ><span class=\"txtu cld\">ò</span></span><span class=\"plain    \" ><span class=\"txtu cld\">d</span></span><span class=\"plain    \" ><span class=\"txtu cld\">i </span></span></span></span></span></div></div><div class=\"contnr c1    \" ><div class=\"lbl c1  \" ><span class=\"nd\">stress</span> <span class=\"txtu cld\"><span class=\"plain    \" ><span class=\"plain txtu cld \"></span><span class=\"plain    \" ><span class=\"plain txtu cld \"></span><span class=\"plain    \" ><span class=\"txtu cld\">w</span></span><span class=\"plain    \" ><span class=\"txtu cld\">í</span></span><span class=\"plain    \" ><span class=\"txtu cld\">ð</span></span><span class=\"plain    \" ><span class=\"txtu cld\">a.ˈ </span></span></span></span></span></div></div></div></div></div></div></div></div><div class=\"contnr c2    \" ><div class=\"lbl c2  \" ><span class=\"nd\">sentence</span></div><div class=\"children hor wrap \"><div class=\"contnr c2    \" ><div class=\"lbl c2  \" ><span class=\"nd\">subsentence</span></div><div class=\"children hor wrap \"><div class=\"contnr c1    \" ><div class=\"lbl c1  \" ><span class=\"nd\">inton</span></div><div class=\"children hor  \"><div class=\"contnr c1    \" ><div class=\"lbl c1  \" ><span class=\"nd\">stress</span> <span class=\"txtu cld\"><span class=\"plain    \" ><span class=\"plain txtu cld \"></span><span class=\"plain    \" ><span class=\"plain txtu cld \"></span><span class=\"plain    \" ><span class=\"txtu cld\">g</span></span><span class=\"plain    \" ><span class=\"txtu cld\">u-</span></span></span><span class=\"plain    \" ><span class=\"plain txtu cld \"></span><span class=\"plain    \" ><span class=\"txtu cld\">b</span></span><span class=\"plain    \" ><span class=\"txtu cld\">ɛ̀</span></span><span class=\"plain    \" ><span class=\"txtu cld\">θ</span></span><span class=\"plain    \" ><span class=\"txtu cld\">a </span></span></span></span></span></div></div><div class=\"contnr c1    \" ><div class=\"lbl c1  \" ><span class=\"nd\">stress</span> <span class=\"txtu cld\"><span class=\"plain    \" ><span class=\"plain txtu cld \"></span><span class=\"plain    \" ><span class=\"plain txtu cld \"></span><span class=\"plain    \" ><span class=\"txtu cld\">w</span></span><span class=\"plain    \" ><span class=\"txtu cld\">é</span></span><span class=\"plain    \" ><span class=\"txtu cld\">w</span></span><span class=\"plain    \" ><span class=\"txtu cld\">a,ˈ </span></span></span></span></span></div></div></div></div></div></div><div class=\"contnr c2    \" ><div class=\"lbl c2  \" ><span class=\"nd\">subsentence</span></div><div class=\"children hor wrap \"><div class=\"contnr c1    \" ><div class=\"lbl c1  \" ><span class=\"nd\">inton</span></div><div class=\"children hor  \"><div class=\"contnr c1    \" ><div class=\"lbl c1  \" ><span class=\"nd\">stress</span> <span class=\"txtu cld\"><span class=\"plain    \" ><span class=\"plain txtu cld \"></span><span class=\"plain    \" ><span class=\"plain txtu cld \"></span><span class=\"plain    \" ><span class=\"txtu cld\">h</span></span><span class=\"plain    \" ><span class=\"txtu cld\">a</span></span><span class=\"plain    \" ><span class=\"txtu cld\">r-</span></span></span><span class=\"plain    \" ><span class=\"plain txtu cld \"></span><span class=\"plain    \" ><span class=\"txtu cld\">z</span></span><span class=\"plain    \" ><span class=\"txtu cld\">á</span></span><span class=\"plain    \" ><span class=\"txtu cld\">l</span></span><span class=\"plain    \" ><span class=\"txtu cld\">a-</span></span></span><span class=\"plain    \" ><span class=\"plain txtu cld \"></span><span class=\"plain    \" ><span class=\"txtu cld\">w </span></span></span></span></span></div></div><div class=\"contnr c1    \" ><div class=\"lbl c1  \" ><span class=\"nd\">stress</span> <span class=\"txtu cld\"><span class=\"plain    \" ><span class=\"plain txtu cld \"></span><span class=\"plain    \" ><span class=\"plain txtu cld \"></span><span class=\"plain    \" ><span class=\"txtu cld\">θ</span></span><span class=\"plain    \" ><span class=\"txtu cld\">à</span></span><span class=\"plain    \" ><span class=\"txtu cld\">y</span></span><span class=\"plain    \" ><span class=\"txtu cld\">a.ˈ </span></span></span></span></span></div></div></div></div></div></div></div></div><div class=\"contnr c2    \" ><div class=\"lbl c2  \" ><span class=\"nd\">sentence</span></div><div class=\"children hor wrap \"><div class=\"contnr c2    \" ><div class=\"lbl c2  \" ><span class=\"nd\">subsentence</span></div><div class=\"children hor wrap \"><div class=\"contnr c1    \" ><div class=\"lbl c1  \" ><span class=\"nd\">inton</span></div><div class=\"children hor  \"><div class=\"contnr c1    \" ><div class=\"lbl c1  \" ><span class=\"nd\">stress</span> <span class=\"txtu cld\"><span class=\"plain    \" ><span class=\"plain txtu cld \"></span><span class=\"plain    \" ><span class=\"plain txtu cld \"></span><span class=\"plain    \" ><span class=\"txtu cld\">z</span></span><span class=\"plain    \" ><span class=\"txtu cld\">á</span></span><span class=\"plain    \" ><span class=\"txtu cld\">l</span></span><span class=\"plain    \" ><span class=\"txtu cld\">a-</span></span></span><span class=\"plain    \" ><span class=\"plain txtu cld \"></span><span class=\"plain    \" ><span class=\"txtu cld\">w </span></span></span></span></span></div></div><div class=\"contnr c1    \" ><div class=\"lbl c1  \" ><span class=\"nd\">stress</span> <span class=\"txtu cld\"><span class=\"plain    \" ><span class=\"plain txtu cld \"></span><span class=\"plain    \" ><span class=\"plain txtu cld \"></span><span class=\"plain    \" ><span class=\"txtu cld\">θ</span></span><span class=\"plain    \" ><span class=\"txtu cld\">à</span></span><span class=\"plain    \" ><span class=\"txtu cld\">y</span></span><span class=\"plain    \" ><span class=\"txtu cld\">a,ˈ </span></span></span></span></span></div></div></div></div></div></div><div class=\"contnr c2    \" ><div class=\"lbl c2  \" ><span class=\"nd\">subsentence</span></div><div class=\"children hor wrap \"><div class=\"contnr c1    \" ><div class=\"lbl c1  \" ><span class=\"nd\">inton</span></div><div class=\"children hor  \"><div class=\"contnr c1    \" ><div class=\"lbl c1  \" ><span class=\"nd\">stress</span> <span class=\"txtu cld\"><span class=\"plain    \" ><span class=\"plain txtu cld \"></span><span class=\"plain    \" ><span class=\"plain txtu cld \"></span><span class=\"plain    \" ><span class=\"txtu cld\">m</span></span><span class=\"plain    \" ><span class=\"txtu cld\">á</span></span><span class=\"plain    \" ><span class=\"txtu cld\">r</span></span><span class=\"plain    \" ><span class=\"txtu cld\">a </span></span></span></span></span></div></div><div class=\"contnr c1    \" ><div class=\"lbl c1  \" ><span class=\"nd\">stress</span> <span class=\"txtu cld\"><span class=\"plain    \" ><span class=\"plain txtu cld \"></span><span class=\"plain    \" ><span class=\"plain txtu cld \"></span><span class=\"plain    \" ><span class=\"txtu cld\">y</span></span><span class=\"plain    \" ><span class=\"txtu cld\">a-</span></span></span><span class=\"plain    \" ><span class=\"plain txtu cld \"></span><span class=\"plain    \" ><span class=\"txtu cld\">ʾ</span></span><span class=\"plain    \" ><span class=\"txtu cld\">à</span></span><span class=\"plain    \" ><span class=\"txtu cld\">l</span></span><span class=\"plain    \" ><span class=\"txtu cld\">a</span></span><span class=\"plain    \" ><span class=\"txtu cld\">h</span></span><span class=\"plain    \" ><span class=\"txtu cld\">a,ˈ </span></span></span></span></span></div></div></div></div></div></div><div class=\"contnr c2    \" ><div class=\"lbl c2  \" ><span class=\"nd\">subsentence</span></div><div class=\"children hor wrap \"><div class=\"contnr c1    \" ><div class=\"lbl c1  \" ><span class=\"nd\">inton</span></div><div class=\"children hor  \"><div class=\"contnr c1    \" ><div class=\"lbl c1  \" ><span class=\"nd\">stress</span> <span class=\"txtu cld\"><span class=\"plain    \" ><span class=\"plain txtu cld \"></span><span class=\"plain    \" ><span class=\"plain txtu cld \"></span><span class=\"plain    \" ><span class=\"txtu cld\">y</span></span><span class=\"plain    \" ><span class=\"txtu cld\">a</span></span><span class=\"plain    \" ><span class=\"txtu cld\">w</span></span><span class=\"plain    \" ><span class=\"txtu cld\">ə̀</span></span><span class=\"plain    \" ><span class=\"txtu cld\">t</span></span><span class=\"plain    \" ><span class=\"txtu cld\">l</span></span><span class=\"plain    \" ><span class=\"txtu cld\">iˈ </span></span></span></span></span></div></div></div></div><div class=\"contnr c1    \" ><div class=\"lbl c1  \" ><span class=\"nd\">inton</span></div><div class=\"children hor  \"><div class=\"contnr c1    \" ><div class=\"lbl c1  \" ><span class=\"nd\">stress</span> <span class=\"txtu cld\"><span class=\"plain    \" ><span class=\"plain txtu cld \"></span><span class=\"plain    \" ><span class=\"plain txtu cld \"></span><span class=\"plain    \" ><span class=\"txtu cld\">ʾ</span></span><span class=\"plain    \" ><span class=\"txtu cld\">ə́</span></span><span class=\"plain    \" ><span class=\"txtu cld\">m</span></span><span class=\"plain    \" ><span class=\"txtu cld\">m</span></span><span class=\"plain    \" ><span class=\"txtu cld\">a </span></span></span></span></span></div></div><div class=\"contnr c1    \" ><div class=\"lbl c1  \" ><span class=\"nd\">stress</span> <span class=\"txtu cld\"><span class=\"plain    \" ><span class=\"plain txtu cld \"></span><span class=\"plain    \" ><span class=\"plain txtu cld \"></span><span class=\"plain    \" ><span class=\"txtu cld\">d</span></span><span class=\"plain    \" ><span class=\"txtu cld\">à</span></span><span class=\"plain    \" ><span class=\"txtu cld\">w</span></span><span class=\"plain    \" ><span class=\"txtu cld\">e.ˈ </span></span></span></span></span></div></div></div></div></div></div></div></div><div class=\"contnr c2    \" ><div class=\"lbl c2  \" ><span class=\"nd\">sentence</span></div><div class=\"children hor wrap \"><div class=\"contnr c2    \" ><div class=\"lbl c2  \" ><span class=\"nd\">subsentence</span></div><div class=\"children hor wrap \"><div class=\"contnr c1    \" ><div class=\"lbl c1  \" ><span class=\"nd\">inton</span></div><div class=\"children hor  \"><div class=\"contnr c1    \" ><div class=\"lbl c1  \" ><span class=\"nd\">stress</span> <span class=\"txtu cld\"><span class=\"plain    \" ><span class=\"plain txtu cld \"></span><span class=\"plain    \" ><span class=\"plain txtu cld \"></span><span class=\"plain    \" ><span class=\"txtu cld\">ʾ</span></span><span class=\"plain    \" ><span class=\"txtu cld\">ə</span></span><span class=\"plain    \" ><span class=\"txtu cld\">n-</span></span></span><span class=\"plain    \" ><span class=\"plain txtu cld \"></span><span class=\"plain    \" ><span class=\"txtu cld\">h</span></span><span class=\"plain    \" ><span class=\"txtu cld\">à</span></span><span class=\"plain    \" ><span class=\"txtu cld\">w</span></span><span class=\"plain    \" ><span class=\"txtu cld\">aˈ </span></span></span></span></span></div></div></div></div><div class=\"contnr c1    \" ><div class=\"lbl c1  \" ><span class=\"nd\">inton</span></div><div class=\"children hor  \"><div class=\"contnr c1    \" ><div class=\"lbl c1  \" ><span class=\"nd\">stress</span> <span class=\"txtu cld\"><span class=\"plain    \" ><span class=\"plain txtu cld \"></span><span class=\"plain    \" ><span class=\"plain txtu cld \"></span><span class=\"plain    \" ><span class=\"txtu cld\">ʾ</span></span><span class=\"plain    \" ><span class=\"txtu cld\">ə́</span></span><span class=\"plain    \" ><span class=\"txtu cld\">č̣</span></span><span class=\"plain    \" ><span class=\"txtu cld\">č̣</span></span><span class=\"plain    \" ><span class=\"txtu cld\">i-</span></span></span><span class=\"plain    \" ><span class=\"plain txtu cld \"></span><span class=\"plain    \" ><span class=\"txtu cld\">u </span></span></span></span></span></div></div><div class=\"contnr c1    \" ><div class=\"lbl c1  \" ><span class=\"nd\">stress</span> <span class=\"txtu cld\"><span class=\"plain    \" ><span class=\"plain txtu cld \"></span><span class=\"plain    \" ><span class=\"plain txtu cld \"></span><span class=\"plain    \" ><span class=\"txtu cld\">ʾ</span></span><span class=\"plain    \" ><span class=\"txtu cld\">ə́</span></span><span class=\"plain    \" ><span class=\"txtu cld\">č̣</span></span><span class=\"plain    \" ><span class=\"txtu cld\">č̣</span></span><span class=\"plain    \" ><span class=\"txtu cld\">a </span></span></span></span></span></div></div><div class=\"contnr c1    \" ><div class=\"lbl c1  \" ><span class=\"nd\">stress</span> <span class=\"txtu cld\"><span class=\"plain    \" ><span class=\"plain txtu cld \"></span><span class=\"plain    \" ><span class=\"plain txtu cld \"></span><span class=\"plain    \" ><span class=\"txtu cld\">m</span></span><span class=\"plain    \" ><span class=\"txtu cld\">a</span></span><span class=\"plain    \" ><span class=\"txtu cld\">q</span></span><span class=\"plain    \" ><span class=\"txtu cld\">ə</span></span><span class=\"plain    \" ><span class=\"txtu cld\">l</span></span><span class=\"plain    \" ><span class=\"txtu cld\">b</span></span><span class=\"plain    \" ><span class=\"txtu cld\">ə̀</span></span><span class=\"plain    \" ><span class=\"txtu cld\">n</span></span><span class=\"plain    \" ><span class=\"txtu cld\">n</span></span><span class=\"plain    \" ><span class=\"txtu cld\">a.ˈ </span></span></span></span></span></div></div></div></div></div></div></div></div><div class=\"contnr c2    \" ><div class=\"lbl c2  \" ><span class=\"nd\">sentence</span></div><div class=\"children hor wrap \"><div class=\"contnr c2    \" ><div class=\"lbl c2  \" ><span class=\"nd\">subsentence</span></div><div class=\"children hor wrap \"><div class=\"contnr c1    \" ><div class=\"lbl c1  \" ><span class=\"nd\">inton</span></div><div class=\"children hor  \"><div class=\"contnr c1    \" ><div class=\"lbl c1  \" ><span class=\"nd\">stress</span> <span class=\"txtu cld\"><span class=\"plain    \" ><span class=\"plain txtu cld \"></span><span class=\"plain    \" ><span class=\"plain txtu cld \"></span><span class=\"plain    \" ><span class=\"txtu cld\">ʾ</span></span><span class=\"plain    \" ><span class=\"txtu cld\">u-</span></span></span><span class=\"plain    \" ><span class=\"plain txtu cld \"></span><span class=\"plain    \" ><span class=\"txtu cld\">ʾ</span></span><span class=\"plain    \" ><span class=\"txtu cld\">ə</span></span><span class=\"plain    \" ><span class=\"txtu cld\">n-</span></span></span><span class=\"plain    \" ><span class=\"plain txtu cld \"></span><span class=\"plain    \" ><span class=\"txtu cld\">h</span></span><span class=\"plain    \" ><span class=\"txtu cld\">à</span></span><span class=\"plain    \" ><span class=\"txtu cld\">w</span></span><span class=\"plain    \" ><span class=\"txtu cld\">aˈ </span></span></span></span></span></div></div></div></div><div class=\"contnr c1    \" ><div class=\"lbl c1  \" ><span class=\"nd\">inton</span></div><div class=\"children hor  \"><div class=\"contnr c1    \" ><div class=\"lbl c1  \" ><span class=\"nd\">stress</span> <span class=\"txtu cld\"><span class=\"plain    \" ><span class=\"plain txtu cld \"></span><span class=\"plain    \" ><span class=\"plain txtu cld \"></span><span class=\"plain    \" ><span class=\"txtu cld\">ʾ</span></span><span class=\"plain    \" ><span class=\"txtu cld\">ə́</span></span><span class=\"plain    \" ><span class=\"txtu cld\">m</span></span><span class=\"plain    \" ><span class=\"txtu cld\">m</span></span><span class=\"plain    \" ><span class=\"txtu cld\">a-</span></span></span><span class=\"plain    \" ><span class=\"plain txtu cld \"></span><span class=\"plain    \" ><span class=\"txtu cld\">w-</span></span></span><span class=\"plain    \" ><span class=\"plain txtu cld \"></span><span class=\"plain    \" ><span class=\"txtu cld\">x</span></span><span class=\"plain    \" ><span class=\"txtu cld\">à-</span></span></span><span class=\"plain    \" ><span class=\"plain txtu cld \"></span><span class=\"plain    \" ><span class=\"txtu cld\">ž</span></span><span class=\"plain    \" ><span class=\"txtu cld\">i,ˈ </span></span></span></span></span></div></div></div></div></div></div><div class=\"contnr c2    \" ><div class=\"lbl c2  \" ><span class=\"nd\">subsentence</span></div><div class=\"children hor wrap \"><div class=\"contnr c1    \" ><div class=\"lbl c1  \" ><span class=\"nd\">inton</span></div><div class=\"children hor  \"><div class=\"contnr c1    \" ><div class=\"lbl c1  \" ><span class=\"nd\">stress</span> <span class=\"txtu cld\"><span class=\"plain    \" ><span class=\"plain txtu cld \"></span><span class=\"plain    \" ><span class=\"plain txtu cld \"></span><span class=\"plain    \" ><span class=\"txtu cld\">l</span></span><span class=\"plain    \" ><span class=\"txtu cld\">a-</span></span></span><span class=\"plain    \" ><span class=\"plain txtu cld \"></span><span class=\"plain    \" ><span class=\"txtu cld\">b</span></span><span class=\"plain    \" ><span class=\"txtu cld\">ă</span></span><span class=\"plain    \" ><span class=\"txtu cld\">y</span></span><span class=\"plain    \" ><span class=\"txtu cld\">ə̀</span></span><span class=\"plain    \" ><span class=\"txtu cld\">n</span></span><span class=\"plain    \" ><span class=\"txtu cld\">n</span></span><span class=\"plain    \" ><span class=\"txtu cld\">a.ˈ </span></span></span></span></span></div></div></div></div></div></div></div></div><div class=\"contnr c2    \" ><div class=\"lbl c2  \" ><span class=\"nd\">sentence</span></div><div class=\"children hor wrap \"><div class=\"contnr c2    \" ><div class=\"lbl c2  \" ><span class=\"nd\">subsentence</span></div><div class=\"children hor wrap \"><div class=\"contnr c1    \" ><div class=\"lbl c1  \" ><span class=\"nd\">inton</span></div><div class=\"children hor  \"><div class=\"contnr c1    \" ><div class=\"lbl c1  \" ><span class=\"nd\">stress</span> <span class=\"txtu cld\"><span class=\"plain    \" ><span class=\"plain txtu cld \"></span><span class=\"plain    \" ><span class=\"plain txtu cld \"></span><span class=\"plain    \" ><span class=\"txtu cld\">d</span></span><span class=\"plain    \" ><span class=\"txtu cld\">e-</span></span></span><span class=\"plain    \" ><span class=\"plain txtu cld \"></span><span class=\"plain    \" ><span class=\"txtu cld\">š</span></span><span class=\"plain    \" ><span class=\"txtu cld\">ù</span></span><span class=\"plain    \" ><span class=\"txtu cld\">q</span></span><span class=\"plain    \" ><span class=\"txtu cld\">l</span></span><span class=\"plain    \" ><span class=\"txtu cld\">a.ˈ </span></span></span></span></span></div></div></div></div></div></div></div></div><div class=\"contnr c2    \" ><div class=\"lbl c2  \" ><span class=\"nd\">sentence</span></div><div class=\"children hor wrap \"><div class=\"contnr c2    \" ><div class=\"lbl c2  \" ><span class=\"nd\">subsentence</span></div><div class=\"children hor wrap \"><div class=\"contnr c1    \" ><div class=\"lbl c1  \" ><span class=\"nd\">inton</span></div><div class=\"children hor  \"><div class=\"contnr c1    \" ><div class=\"lbl c1  \" ><span class=\"nd\">stress</span> <span class=\"txtu cld\"><span class=\"plain    \" ><span class=\"plain txtu cld \"></span><span class=\"plain    \" ><span class=\"plain txtu cld \"></span><span class=\"plain    \" ><span class=\"txtu cld\">ʾ</span></span><span class=\"plain    \" ><span class=\"txtu cld\">ə̀</span></span><span class=\"plain    \" ><span class=\"txtu cld\">m</span></span><span class=\"plain    \" ><span class=\"txtu cld\">m</span></span><span class=\"plain    \" ><span class=\"txtu cld\">a </span></span></span></span></span></div></div><div class=\"contnr c1    \" ><div class=\"lbl c1  \" ><span class=\"nd\">stress</span> <span class=\"txtu cld\"><span class=\"plain    \" ><span class=\"plain txtu cld \"></span><span class=\"plain    \" ><span class=\"plain txtu cld \"></span><span class=\"plain    \" ><span class=\"txtu cld\">g</span></span><span class=\"plain    \" ><span class=\"txtu cld\">ắ</span></span><span class=\"plain    \" ><span class=\"txtu cld\">r</span></span><span class=\"plain    \" ><span class=\"txtu cld\">ə</span></span><span class=\"plain    \" ><span class=\"txtu cld\">g </span></span></span></span></span></div></div><div class=\"contnr c1    \" ><div class=\"lbl c1  \" ><span class=\"nd\">stress</span> <span class=\"txtu cld\"><span class=\"plain    \" ><span class=\"plain txtu cld \"></span><span class=\"plain    \" ><span class=\"plain txtu cld \"></span><span class=\"plain    \" ><span class=\"txtu cld\">h</span></span><span class=\"plain    \" ><span class=\"txtu cld\">á</span></span><span class=\"plain    \" ><span class=\"txtu cld\">w</span></span><span class=\"plain    \" ><span class=\"txtu cld\">a </span></span></span></span></span></div></div><div class=\"contnr c1    \" ><div class=\"lbl c1  \" ><span class=\"nd\">stress</span> <span class=\"txtu cld\"><span class=\"plain    \" ><span class=\"plain txtu cld \"></span><span class=\"plain    \" ><span class=\"plain txtu cld \"></span><span class=\"plain    \" ><span class=\"txtu cld\">d</span></span><span class=\"plain    \" ><span class=\"txtu cld\">r</span></span><span class=\"plain    \" ><span class=\"txtu cld\">ə́</span></span><span class=\"plain    \" ><span class=\"txtu cld\">s</span></span><span class=\"plain    \" ><span class=\"txtu cld\">t.ˈ </span></span></span></span></span></div></div></div></div></div></div></div></div></div></div></div>"
      ],
      "text/plain": [
       "<IPython.core.display.HTML object>"
      ]
     },
     "metadata": {},
     "output_type": "display_data"
    }
   ],
   "source": [
    "A.pretty(v, showHidden=True)"
   ]
  },
  {
   "cell_type": "code",
   "execution_count": 11,
   "metadata": {},
   "outputs": [],
   "source": [
    "s = F.otype.s('sentence')[1]"
   ]
  },
  {
   "cell_type": "code",
   "execution_count": 12,
   "metadata": {},
   "outputs": [
    {
     "data": {
      "text/html": [
       "<span class=\"section ltr\"><a target=\"_blank\" href=\"https://github.com/CambridgeSemiticsLab/nena_corpus/blob/master/nena/0.02/Barwar/A Hundred Gold Coins.nena\" title=\"Show this title in the NENA repository\" sec=\"Barwar, A Hundred Gold Coins, Ln. 1\">Barwar, A Hundred Gold Coins, Ln. 1</a></span><div class=\" children\"><div class=\"contnr c2    \" ><div class=\"lbl c2  \" ><span class=\"nd\">sentence</span></div><div class=\"children hor wrap \"><div class=\"contnr c1    \" ><div class=\"lbl c1  \" ><span class=\"nd\">inton</span></div><div class=\"children hor  \"><div class=\"contnr c1    \" ><div class=\"lbl c1  \" ><span class=\"nd\">stress</span> <span class=\"txtu cld\"><span class=\"plain    \" ><span class=\"plain txtu cld \"></span><span class=\"plain    \" ><span class=\"plain txtu cld \"></span><span class=\"plain    \" ><span class=\"txtu cld\">g</span></span><span class=\"plain    \" ><span class=\"txtu cld\">u-</span></span></span><span class=\"plain    \" ><span class=\"plain txtu cld \"></span><span class=\"plain    \" ><span class=\"txtu cld\">b</span></span><span class=\"plain    \" ><span class=\"txtu cld\">ɛ̀</span></span><span class=\"plain    \" ><span class=\"txtu cld\">θ</span></span><span class=\"plain    \" ><span class=\"txtu cld\">a </span></span></span></span></span></div></div><div class=\"contnr c1    \" ><div class=\"lbl c1  \" ><span class=\"nd\">stress</span> <span class=\"txtu cld\"><span class=\"plain    \" ><span class=\"plain txtu cld \"></span><span class=\"plain    \" ><span class=\"plain txtu cld \"></span><span class=\"plain    \" ><span class=\"txtu cld\">w</span></span><span class=\"plain    \" ><span class=\"txtu cld\">é</span></span><span class=\"plain    \" ><span class=\"txtu cld\">w</span></span><span class=\"plain    \" ><span class=\"txtu cld\">a,ˈ </span></span></span></span></span></div></div></div></div><div class=\"contnr c1    \" ><div class=\"lbl c1  \" ><span class=\"nd\">inton</span></div><div class=\"children hor  \"><div class=\"contnr c1    \" ><div class=\"lbl c1  \" ><span class=\"nd\">stress</span> <span class=\"txtu cld\"><span class=\"plain    \" ><span class=\"plain txtu cld \"></span><span class=\"plain    \" ><span class=\"plain txtu cld \"></span><span class=\"plain    \" ><span class=\"txtu cld\">h</span></span><span class=\"plain    \" ><span class=\"txtu cld\">a</span></span><span class=\"plain    \" ><span class=\"txtu cld\">r-</span></span></span><span class=\"plain    \" ><span class=\"plain txtu cld \"></span><span class=\"plain    \" ><span class=\"txtu cld\">z</span></span><span class=\"plain    \" ><span class=\"txtu cld\">á</span></span><span class=\"plain    \" ><span class=\"txtu cld\">l</span></span><span class=\"plain    \" ><span class=\"txtu cld\">a-</span></span></span><span class=\"plain    \" ><span class=\"plain txtu cld \"></span><span class=\"plain    \" ><span class=\"txtu cld\">w </span></span></span></span></span></div></div><div class=\"contnr c1    \" ><div class=\"lbl c1  \" ><span class=\"nd\">stress</span> <span class=\"txtu cld\"><span class=\"plain    \" ><span class=\"plain txtu cld \"></span><span class=\"plain    \" ><span class=\"plain txtu cld \"></span><span class=\"plain    \" ><span class=\"txtu cld\">θ</span></span><span class=\"plain    \" ><span class=\"txtu cld\">à</span></span><span class=\"plain    \" ><span class=\"txtu cld\">y</span></span><span class=\"plain    \" ><span class=\"txtu cld\">a.ˈ </span></span></span></span></span></div></div></div></div></div></div></div>"
      ],
      "text/plain": [
       "<IPython.core.display.HTML object>"
      ]
     },
     "metadata": {},
     "output_type": "display_data"
    }
   ],
   "source": [
    "A.pretty(s)"
   ]
  },
  {
   "cell_type": "code",
   "execution_count": 13,
   "metadata": {},
   "outputs": [
    {
     "data": {
      "text/html": [
       "<span class=\"section ltr\"><a target=\"_blank\" href=\"https://github.com/CambridgeSemiticsLab/nena_corpus/blob/master/nena/0.02/Barwar/A Hundred Gold Coins.nena\" title=\"Show this title in the NENA repository\" sec=\"Barwar, A Hundred Gold Coins, Ln. 1\">Barwar, A Hundred Gold Coins, Ln. 1</a></span><div class=\" children\"><div class=\"contnr c2    \" ><div class=\"lbl c2  \" ><span class=\"nd\">sentence</span></div><div class=\"children hor wrap \"><div class=\"contnr c1    \" ><div class=\"lbl c1  \" ><span class=\"nd\">inton</span></div><div class=\"children hor  \"><div class=\"contnr c1    \" ><div class=\"lbl c1  \" ><span class=\"nd\">stress</span></div><div class=\"children hor  \"><div class=\"contnr c1    \" ><div class=\"lbl c1  \" ><span class=\"nd\">word</span> <span class=\"txtu cld\"><span class=\"plain    \" ><span class=\"plain txtu cld \"></span><span class=\"plain    \" ><span class=\"txtu cld\">g</span></span><span class=\"plain    \" ><span class=\"txtu cld\">u-</span></span></span></span></div></div><div class=\"contnr c1    \" ><div class=\"lbl c1  \" ><span class=\"nd\">word</span> <span class=\"txtu cld\"><span class=\"plain    \" ><span class=\"plain txtu cld \"></span><span class=\"plain    \" ><span class=\"txtu cld\">b</span></span><span class=\"plain    \" ><span class=\"txtu cld\">ɛ̀</span></span><span class=\"plain    \" ><span class=\"txtu cld\">θ</span></span><span class=\"plain    \" ><span class=\"txtu cld\">a </span></span></span></span></div></div></div></div><div class=\"contnr c1    \" ><div class=\"lbl c1  \" ><span class=\"nd\">stress</span></div><div class=\"children hor  \"><div class=\"contnr c1    \" ><div class=\"lbl c1  \" ><span class=\"nd\">word</span> <span class=\"txtu cld\"><span class=\"plain    \" ><span class=\"plain txtu cld \"></span><span class=\"plain    \" ><span class=\"txtu cld\">w</span></span><span class=\"plain    \" ><span class=\"txtu cld\">é</span></span><span class=\"plain    \" ><span class=\"txtu cld\">w</span></span><span class=\"plain    \" ><span class=\"txtu cld\">a,ˈ </span></span></span></span></div></div></div></div></div></div><div class=\"contnr c1    \" ><div class=\"lbl c1  \" ><span class=\"nd\">inton</span></div><div class=\"children hor  \"><div class=\"contnr c1    \" ><div class=\"lbl c1  \" ><span class=\"nd\">stress</span></div><div class=\"children hor  \"><div class=\"contnr c1    \" ><div class=\"lbl c1  \" ><span class=\"nd\">word</span> <span class=\"txtu cld\"><span class=\"plain    \" ><span class=\"plain txtu cld \"></span><span class=\"plain    \" ><span class=\"txtu cld\">h</span></span><span class=\"plain    \" ><span class=\"txtu cld\">a</span></span><span class=\"plain    \" ><span class=\"txtu cld\">r-</span></span></span></span></div></div><div class=\"contnr c1    \" ><div class=\"lbl c1  \" ><span class=\"nd\">word</span> <span class=\"txtu cld\"><span class=\"plain    \" ><span class=\"plain txtu cld \"></span><span class=\"plain    \" ><span class=\"txtu cld\">z</span></span><span class=\"plain    \" ><span class=\"txtu cld\">á</span></span><span class=\"plain    \" ><span class=\"txtu cld\">l</span></span><span class=\"plain    \" ><span class=\"txtu cld\">a-</span></span></span></span></div></div><div class=\"contnr c1    \" ><div class=\"lbl c1  \" ><span class=\"nd\">word</span> <span class=\"txtu cld\"><span class=\"plain    \" ><span class=\"plain txtu cld \"></span><span class=\"plain    \" ><span class=\"txtu cld\">w </span></span></span></span></div></div></div></div><div class=\"contnr c1    \" ><div class=\"lbl c1  \" ><span class=\"nd\">stress</span></div><div class=\"children hor  \"><div class=\"contnr c1    \" ><div class=\"lbl c1  \" ><span class=\"nd\">word</span> <span class=\"txtu cld\"><span class=\"plain    \" ><span class=\"plain txtu cld \"></span><span class=\"plain    \" ><span class=\"txtu cld\">θ</span></span><span class=\"plain    \" ><span class=\"txtu cld\">à</span></span><span class=\"plain    \" ><span class=\"txtu cld\">y</span></span><span class=\"plain    \" ><span class=\"txtu cld\">a.ˈ </span></span></span></span></div></div></div></div></div></div></div></div></div>"
      ],
      "text/plain": [
       "<IPython.core.display.HTML object>"
      ]
     },
     "metadata": {},
     "output_type": "display_data"
    }
   ],
   "source": [
    "A.pretty(s, baseTypes={'word'})"
   ]
  },
  {
   "cell_type": "code",
   "execution_count": 14,
   "metadata": {},
   "outputs": [
    {
     "data": {
      "text/html": [
       "<span class=\"section ltr\"><a target=\"_blank\" href=\"https://github.com/CambridgeSemiticsLab/nena_corpus/blob/master/nena/0.02/Barwar/A Hundred Gold Coins.nena\" title=\"Show this title in the NENA repository\" sec=\"Barwar, A Hundred Gold Coins, Ln. 1\">Barwar, A Hundred Gold Coins, Ln. 1</a></span><div class=\" children\"><div class=\"contnr c2    \" ><div class=\"lbl c2  \" ><span class=\"nd\">sentence</span></div><div class=\"children hor wrap \"><div class=\"contnr c1    \" ><div class=\"lbl c1  \" ><span class=\"nd\">inton</span></div><div class=\"children hor  \"><div class=\"contnr c1    \" ><div class=\"lbl c1  \" ><span class=\"nd\">stress</span></div><div class=\"children hor  \"><div class=\"contnr c1    \" ><div class=\"lbl c1  \" ><span class=\"nd\">word</span></div><div class=\"children hor  \"><div class=\"contnr c0 trm   \" ><div class=\"lbl c0 trm \" ><span class=\"txtu cld\">g</span></div></div><div class=\"contnr c0 trm   \" ><div class=\"lbl c0 trm \" ><span class=\"txtu cld\">u-</span></div></div></div></div><div class=\"contnr c1    \" ><div class=\"lbl c1  \" ><span class=\"nd\">word</span></div><div class=\"children hor  \"><div class=\"contnr c0 trm   \" ><div class=\"lbl c0 trm \" ><span class=\"txtu cld\">b</span></div></div><div class=\"contnr c0 trm   \" ><div class=\"lbl c0 trm \" ><span class=\"txtu cld\">ɛ̀</span></div></div><div class=\"contnr c0 trm   \" ><div class=\"lbl c0 trm \" ><span class=\"txtu cld\">θ</span></div></div><div class=\"contnr c0 trm   \" ><div class=\"lbl c0 trm \" ><span class=\"txtu cld\">a </span></div></div></div></div></div></div><div class=\"contnr c1    \" ><div class=\"lbl c1  \" ><span class=\"nd\">stress</span></div><div class=\"children hor  \"><div class=\"contnr c1    \" ><div class=\"lbl c1  \" ><span class=\"nd\">word</span></div><div class=\"children hor  \"><div class=\"contnr c0 trm   \" ><div class=\"lbl c0 trm \" ><span class=\"txtu cld\">w</span></div></div><div class=\"contnr c0 trm   \" ><div class=\"lbl c0 trm \" ><span class=\"txtu cld\">é</span></div></div><div class=\"contnr c0 trm   \" ><div class=\"lbl c0 trm \" ><span class=\"txtu cld\">w</span></div></div><div class=\"contnr c0 trm   \" ><div class=\"lbl c0 trm \" ><span class=\"txtu cld\">a,ˈ </span></div></div></div></div></div></div></div></div><div class=\"contnr c1    \" ><div class=\"lbl c1  \" ><span class=\"nd\">inton</span></div><div class=\"children hor  \"><div class=\"contnr c1    \" ><div class=\"lbl c1  \" ><span class=\"nd\">stress</span></div><div class=\"children hor  \"><div class=\"contnr c1    \" ><div class=\"lbl c1  \" ><span class=\"nd\">word</span></div><div class=\"children hor  \"><div class=\"contnr c0 trm   \" ><div class=\"lbl c0 trm \" ><span class=\"txtu cld\">h</span></div></div><div class=\"contnr c0 trm   \" ><div class=\"lbl c0 trm \" ><span class=\"txtu cld\">a</span></div></div><div class=\"contnr c0 trm   \" ><div class=\"lbl c0 trm \" ><span class=\"txtu cld\">r-</span></div></div></div></div><div class=\"contnr c1    \" ><div class=\"lbl c1  \" ><span class=\"nd\">word</span></div><div class=\"children hor  \"><div class=\"contnr c0 trm   \" ><div class=\"lbl c0 trm \" ><span class=\"txtu cld\">z</span></div></div><div class=\"contnr c0 trm   \" ><div class=\"lbl c0 trm \" ><span class=\"txtu cld\">á</span></div></div><div class=\"contnr c0 trm   \" ><div class=\"lbl c0 trm \" ><span class=\"txtu cld\">l</span></div></div><div class=\"contnr c0 trm   \" ><div class=\"lbl c0 trm \" ><span class=\"txtu cld\">a-</span></div></div></div></div><div class=\"contnr c1    \" ><div class=\"lbl c1  \" ><span class=\"nd\">word</span></div><div class=\"children hor  \"><div class=\"contnr c0 trm   \" ><div class=\"lbl c0 trm \" ><span class=\"txtu cld\">w </span></div></div></div></div></div></div><div class=\"contnr c1    \" ><div class=\"lbl c1  \" ><span class=\"nd\">stress</span></div><div class=\"children hor  \"><div class=\"contnr c1    \" ><div class=\"lbl c1  \" ><span class=\"nd\">word</span></div><div class=\"children hor  \"><div class=\"contnr c0 trm   \" ><div class=\"lbl c0 trm \" ><span class=\"txtu cld\">θ</span></div></div><div class=\"contnr c0 trm   \" ><div class=\"lbl c0 trm \" ><span class=\"txtu cld\">à</span></div></div><div class=\"contnr c0 trm   \" ><div class=\"lbl c0 trm \" ><span class=\"txtu cld\">y</span></div></div><div class=\"contnr c0 trm   \" ><div class=\"lbl c0 trm \" ><span class=\"txtu cld\">a.ˈ </span></div></div></div></div></div></div></div></div></div></div></div>"
      ],
      "text/plain": [
       "<IPython.core.display.HTML object>"
      ]
     },
     "metadata": {},
     "output_type": "display_data"
    }
   ],
   "source": [
    "A.pretty(s, baseTypes=set())"
   ]
  },
  {
   "cell_type": "markdown",
   "metadata": {},
   "source": [
    "# Custom text formats"
   ]
  },
  {
   "cell_type": "code",
   "execution_count": 15,
   "metadata": {},
   "outputs": [
    {
     "data": {
      "text/plain": [
       "{'text-orig-full': 'word',\n",
       " 'text-orig-lite': 'word',\n",
       " 'text-trans-full': 'word',\n",
       " 'text-trans-fuzzy': 'word',\n",
       " 'text-trans-lite': 'word',\n",
       " 'layout-orig-full': 'word',\n",
       " 'layout-orig-lite': 'word',\n",
       " 'layout-trans-full': 'word',\n",
       " 'layout-trans-fuzzy': 'word',\n",
       " 'layout-trans-lite': 'word'}"
      ]
     },
     "execution_count": 15,
     "metadata": {},
     "output_type": "execute_result"
    }
   ],
   "source": [
    "T.formats"
   ]
  },
  {
   "cell_type": "code",
   "execution_count": 17,
   "metadata": {},
   "outputs": [
    {
     "name": "stdout",
     "output_type": "stream",
     "text": [
      "120148\n",
      "{'word'}\n",
      "120148\n"
     ]
    }
   ],
   "source": [
    "spoken = [n for n in N.walk() if F.speaker.v(n)]\n",
    "print(len(spoken))\n",
    "print({F.otype.v(n) for n in spoken})\n",
    "print(len(F.otype.s('word')))"
   ]
  },
  {
   "cell_type": "markdown",
   "metadata": {},
   "source": [
    "Conclusion: all words have a definite speaker, and nothing else has a definite speaker.\n",
    "\n",
    "Now look for lines with speaker changes."
   ]
  },
  {
   "cell_type": "code",
   "execution_count": 18,
   "metadata": {},
   "outputs": [
    {
     "data": {
      "text/plain": [
       "6"
      ]
     },
     "execution_count": 18,
     "metadata": {},
     "output_type": "execute_result"
    }
   ],
   "source": [
    "speakerChanges = {}\n",
    "\n",
    "for s in F.otype.s('line'):\n",
    "    speakers = frozenset(F.speaker.v(w) for w in L.d(s, otype='word'))\n",
    "    if len(speakers) > 1:\n",
    "        speakerChanges.setdefault(speakers, []).append(s)\n",
    "        \n",
    "len(speakerChanges)"
   ]
  },
  {
   "cell_type": "code",
   "execution_count": 19,
   "metadata": {},
   "outputs": [
    {
     "data": {
      "text/plain": [
       "[577144, 577148]"
      ]
     },
     "execution_count": 19,
     "metadata": {},
     "output_type": "execute_result"
    }
   ],
   "source": [
    "speakers = sorted(speakerChanges)[0]\n",
    "lines = speakerChanges[speakers]\n",
    "ln = lines[0]\n",
    "lines"
   ]
  },
  {
   "cell_type": "code",
   "execution_count": 20,
   "metadata": {},
   "outputs": [
    {
     "data": {
      "text/html": [
       "<span class=\"section ltr\"><a target=\"_blank\" href=\"https://github.com/CambridgeSemiticsLab/nena_corpus/blob/master/nena/0.02/Urmi_C/Hunting.nena\" title=\"Show this title in the NENA repository\" sec=\"Urmi_C, Hunting, Ln. 6\">Urmi_C, Hunting, Ln. 6</a></span><div class=\" children\"><div class=\"contnr c3    \" ><div class=\"lbl c3  \" ><span class=\"nd\">line:577144</span></div><div class=\"children hor wrap \"><div class=\"contnr c2    \" ><div class=\"lbl c2  \" ><span class=\"nd\">sentence:588635</span></div><div class=\"children hor wrap \"><div class=\"contnr c1   rno \" ><div class=\"lbl c1  \" ><span class=\"nd\">inton:560397</span></div><div class=\"children hor  \"><div class=\"contnr c1    \" ><div class=\"lbl c1  \" ><span class=\"nd\">stress:649593</span></div><div class=\"children hor  \"><div class=\"contnr c1    \" ><div class=\"lbl c1  \" ><span class=\"nd\">word:785694</span> <span class=\"txtu cld\"><span class=\"plain    \" ><span class=\"txtu cld\"><span class=\"speaker\">«GK…</span>ʾə́tva </span><span class=\"plain    \" ><span class=\"txtu cld\"></span></span><span class=\"plain    \" ><span class=\"txtu cld\"></span></span><span class=\"plain    \" ><span class=\"txtu cld\"></span></span><span class=\"plain    \" ><span class=\"txtu cld\"></span></span><span class=\"plain    \" ><span class=\"txtu cld\"></span></span></span></span></div></div></div></div><div class=\"contnr c1    \" ><div class=\"lbl c1  \" ><span class=\"nd\">stress:649594</span></div><div class=\"children hor  \"><div class=\"contnr c1    \" ><div class=\"lbl c1  \" ><span class=\"nd\">word:785695</span> <span class=\"txtu cld\"><span class=\"plain    \" ><span class=\"txtu cld\">xzùyrə? <span class=\"speaker\">…GK»</span></span><span class=\"plain    \" ><span class=\"txtu cld\"></span></span><span class=\"plain    \" ><span class=\"txtu cld\"></span></span><span class=\"plain    \" ><span class=\"txtu cld\"></span></span><span class=\"plain    \" ><span class=\"txtu cld\"></span></span><span class=\"plain    \" ><span class=\"txtu cld\"></span></span><span class=\"plain    \" ><span class=\"txtu cld\"></span></span></span></span></div></div></div></div></div></div></div></div><div class=\"contnr c2    \" ><div class=\"lbl c2  \" ><span class=\"nd\">sentence:588636</span></div><div class=\"children hor wrap \"><div class=\"contnr c1 trm  lno rno \" ><div class=\"lbl c1 trm \" ><span class=\"nd\">inton:560397</span></div></div><div class=\"contnr c1    \" ><div class=\"lbl c1  \" ><span class=\"nd\">stress:649595</span></div><div class=\"children hor  \"><div class=\"contnr c1    \" ><div class=\"lbl c1  \" ><span class=\"nd\">word:785696</span> <span class=\"txtu cld\"><span class=\"plain    \" ><span class=\"txtu cld\"><span class=\"speaker\">«Natan Khoshaba…</span>là,ˈ </span><span class=\"plain    \" ><span class=\"txtu cld\"></span></span><span class=\"plain   lno \" ><span class=\"plain txtu cld \"></span><span class=\"plain    \" ><span class=\"txtu cld\"></span></span></span></span></span></div></div></div></div><div class=\"contnr c1    \" ><div class=\"lbl c1  \" ><span class=\"nd\">inton:560398</span></div><div class=\"children hor  \"><div class=\"contnr c1    \" ><div class=\"lbl c1  \" ><span class=\"nd\">stress:649596</span></div><div class=\"children hor  \"><div class=\"contnr c1    \" ><div class=\"lbl c1  \" ><span class=\"nd\">word:785697</span> <span class=\"txtu cld\"><span class=\"plain    \" ><span class=\"txtu cld\">ʾé </span><span class=\"plain    \" ><span class=\"txtu cld\"></span></span><span class=\"plain    \" ><span class=\"txtu cld\"></span></span></span></span></div></div></div></div><div class=\"contnr c1    \" ><div class=\"lbl c1  \" ><span class=\"nd\">stress:649597</span></div><div class=\"children hor  \"><div class=\"contnr c1    \" ><div class=\"lbl c1  \" ><span class=\"nd\">word:785698</span> <span class=\"txtu cld\"><span class=\"plain    \" ><span class=\"txtu cld\">⁺dána </span><span class=\"plain    \" ><span class=\"txtu cld\"></span></span><span class=\"plain    \" ><span class=\"txtu cld\"></span></span><span class=\"plain    \" ><span class=\"txtu cld\"></span></span><span class=\"plain    \" ><span class=\"txtu cld\"></span></span></span></span></div></div></div></div><div class=\"contnr c1    \" ><div class=\"lbl c1  \" ><span class=\"nd\">stress:649598</span></div><div class=\"children hor  \"><div class=\"contnr c1    \" ><div class=\"lbl c1  \" ><span class=\"nd\">word:785699</span> <span class=\"txtu cld\"><span class=\"plain    \" ><span class=\"txtu cld\">ʾàxnanˈ </span><span class=\"plain    \" ><span class=\"txtu cld\"></span></span><span class=\"plain    \" ><span class=\"txtu cld\"></span></span><span class=\"plain    \" ><span class=\"txtu cld\"></span></span><span class=\"plain    \" ><span class=\"txtu cld\"></span></span><span class=\"plain    \" ><span class=\"txtu cld\"></span></span><span class=\"plain    \" ><span class=\"txtu cld\"></span></span></span></span></div></div></div></div></div></div><div class=\"contnr c1    \" ><div class=\"lbl c1  \" ><span class=\"nd\">inton:560399</span></div><div class=\"children hor  \"><div class=\"contnr c1    \" ><div class=\"lbl c1  \" ><span class=\"nd\">stress:649599</span></div><div class=\"children hor  \"><div class=\"contnr c1    \" ><div class=\"lbl c1  \" ><span class=\"nd\">word:785700</span> <span class=\"txtu cld\"><span class=\"plain    \" ><span class=\"txtu cld\">ɟá </span><span class=\"plain    \" ><span class=\"txtu cld\"></span></span><span class=\"plain    \" ><span class=\"txtu cld\"></span></span></span></span></div></div></div></div><div class=\"contnr c1    \" ><div class=\"lbl c1  \" ><span class=\"nd\">stress:649600</span></div><div class=\"children hor  \"><div class=\"contnr c1    \" ><div class=\"lbl c1  \" ><span class=\"nd\">word:785701</span> <span class=\"txtu cld\"><span class=\"plain    \" ><span class=\"txtu cld\">māt-</span><span class=\"plain    \" ><span class=\"txtu cld\"></span></span><span class=\"plain    \" ><span class=\"txtu cld\"></span></span><span class=\"plain    \" ><span class=\"txtu cld\"></span></span></span></span></div></div><div class=\"contnr c1    \" ><div class=\"lbl c1  \" ><span class=\"nd\">word:785702</span> <span class=\"txtu cld\"><span class=\"plain    \" ><span class=\"txtu cld\">díyyan </span><span class=\"plain    \" ><span class=\"txtu cld\"></span></span><span class=\"plain    \" ><span class=\"txtu cld\"></span></span><span class=\"plain    \" ><span class=\"txtu cld\"></span></span><span class=\"plain    \" ><span class=\"txtu cld\"></span></span><span class=\"plain    \" ><span class=\"txtu cld\"></span></span><span class=\"plain    \" ><span class=\"txtu cld\"></span></span></span></span></div></div></div></div><div class=\"contnr c1    \" ><div class=\"lbl c1  \" ><span class=\"nd\">stress:649601</span></div><div class=\"children hor  \"><div class=\"contnr c1    \" ><div class=\"lbl c1  \" ><span class=\"nd\">word:785703</span> <span class=\"txtu cld\"><span class=\"plain    \" ><span class=\"txtu cld\">lə̀tva.ˈ </span><span class=\"plain    \" ><span class=\"txtu cld\"></span></span><span class=\"plain    \" ><span class=\"txtu cld\"></span></span><span class=\"plain    \" ><span class=\"txtu cld\"></span></span><span class=\"plain    \" ><span class=\"txtu cld\"></span></span><span class=\"plain    \" ><span class=\"txtu cld\"></span></span></span></span></div></div></div></div></div></div></div></div><div class=\"contnr c2    \" ><div class=\"lbl c2  \" ><span class=\"nd\">sentence:588637</span></div><div class=\"children hor wrap \"><div class=\"contnr c1    \" ><div class=\"lbl c1  \" ><span class=\"nd\">inton:560400</span></div><div class=\"children hor  \"><div class=\"contnr c1    \" ><div class=\"lbl c1  \" ><span class=\"nd\">stress:649602</span></div><div class=\"children hor  \"><div class=\"contnr c1    \" ><div class=\"lbl c1  \" ><span class=\"nd\">word:785704</span> <span class=\"txtu cld\"><span class=\"plain    \" ><span class=\"txtu cld\">xzúyrə </span><span class=\"plain    \" ><span class=\"txtu cld\"></span></span><span class=\"plain    \" ><span class=\"txtu cld\"></span></span><span class=\"plain    \" ><span class=\"txtu cld\"></span></span><span class=\"plain    \" ><span class=\"txtu cld\"></span></span><span class=\"plain    \" ><span class=\"txtu cld\"></span></span><span class=\"plain    \" ><span class=\"txtu cld\"></span></span></span></span></div></div></div></div><div class=\"contnr c1    \" ><div class=\"lbl c1  \" ><span class=\"nd\">stress:649603</span></div><div class=\"children hor  \"><div class=\"contnr c1    \" ><div class=\"lbl c1  \" ><span class=\"nd\">word:785705</span> <span class=\"txtu cld\"><span class=\"plain    \" ><span class=\"txtu cld\">c-</span><span class=\"plain    \" ><span class=\"txtu cld\"></span></span></span></span></div></div><div class=\"contnr c1    \" ><div class=\"lbl c1  \" ><span class=\"nd\">word:785706</span> <span class=\"txtu cld\"><span class=\"plain    \" ><span class=\"txtu cld\">azíva </span><span class=\"plain    \" ><span class=\"txtu cld\"></span></span><span class=\"plain    \" ><span class=\"txtu cld\"></span></span><span class=\"plain    \" ><span class=\"txtu cld\"></span></span><span class=\"plain    \" ><span class=\"txtu cld\"></span></span><span class=\"plain    \" ><span class=\"txtu cld\"></span></span></span></span></div></div></div></div><div class=\"contnr c1    \" ><div class=\"lbl c1  \" ><span class=\"nd\">stress:649604</span></div><div class=\"children hor  \"><div class=\"contnr c1    \" ><div class=\"lbl c1  \" ><span class=\"nd\">word:785707</span> <span class=\"txtu cld\"><span class=\"plain    \" ><span class=\"txtu cld\">⁺ʾal-</span><span class=\"plain    \" ><span class=\"txtu cld\"></span></span><span class=\"plain    \" ><span class=\"txtu cld\"></span></span><span class=\"plain    \" ><span class=\"txtu cld\"></span></span></span></span></div></div><div class=\"contnr c1    \" ><div class=\"lbl c1  \" ><span class=\"nd\">word:785708</span> <span class=\"txtu cld\"><span class=\"plain    \" ><span class=\"txtu cld\">⁺ṱurànə.ˈ </span><span class=\"plain    \" ><span class=\"txtu cld\"></span></span><span class=\"plain    \" ><span class=\"txtu cld\"></span></span><span class=\"plain    \" ><span class=\"txtu cld\"></span></span><span class=\"plain    \" ><span class=\"txtu cld\"></span></span><span class=\"plain    \" ><span class=\"txtu cld\"></span></span><span class=\"plain    \" ><span class=\"txtu cld\"></span></span></span></span></div></div></div></div></div></div></div></div><div class=\"contnr c2    \" ><div class=\"lbl c2  \" ><span class=\"nd\">sentence:588638</span></div><div class=\"children hor wrap \"><div class=\"contnr c1    \" ><div class=\"lbl c1  \" ><span class=\"nd\">inton:560401</span></div><div class=\"children hor  \"><div class=\"contnr c1    \" ><div class=\"lbl c1  \" ><span class=\"nd\">stress:649605</span></div><div class=\"children hor  \"><div class=\"contnr c1    \" ><div class=\"lbl c1  \" ><span class=\"nd\">word:785709</span> <span class=\"txtu cld\"><span class=\"plain    \" ><span class=\"txtu cld\">ʾánnə </span><span class=\"plain    \" ><span class=\"txtu cld\"></span></span><span class=\"plain    \" ><span class=\"txtu cld\"></span></span><span class=\"plain    \" ><span class=\"txtu cld\"></span></span><span class=\"plain    \" ><span class=\"txtu cld\"></span></span><span class=\"plain    \" ><span class=\"txtu cld\"></span></span></span></span></div></div></div></div><div class=\"contnr c1    \" ><div class=\"lbl c1  \" ><span class=\"nd\">stress:649606</span></div><div class=\"children hor  \"><div class=\"contnr c1    \" ><div class=\"lbl c1  \" ><span class=\"nd\">word:785710</span> <span class=\"txtu cld\"><span class=\"plain    \" ><span class=\"txtu cld\">nášə </span><span class=\"plain    \" ><span class=\"txtu cld\"></span></span><span class=\"plain    \" ><span class=\"txtu cld\"></span></span><span class=\"plain    \" ><span class=\"txtu cld\"></span></span><span class=\"plain    \" ><span class=\"txtu cld\"></span></span></span></span></div></div></div></div><div class=\"contnr c1    \" ><div class=\"lbl c1  \" ><span class=\"nd\">stress:649607</span></div><div class=\"children hor  \"><div class=\"contnr c1    \" ><div class=\"lbl c1  \" ><span class=\"nd\">word:785711</span> <span class=\"txtu cld\"><span class=\"plain    \" ><span class=\"txtu cld\">k̭át </span><span class=\"plain    \" ><span class=\"txtu cld\"></span></span><span class=\"plain    \" ><span class=\"txtu cld\"></span></span><span class=\"plain    \" ><span class=\"txtu cld\"></span></span></span></span></div></div></div></div><div class=\"contnr c1    \" ><div class=\"lbl c1  \" ><span class=\"nd\">stress:649608</span></div><div class=\"children hor  \"><div class=\"contnr c1    \" ><div class=\"lbl c1  \" ><span class=\"nd\">word:785712</span> <span class=\"txtu cld\"><span class=\"plain    \" ><span class=\"txtu cld\">ʾə́tvalun </span><span class=\"plain    \" ><span class=\"txtu cld\"></span></span><span class=\"plain    \" ><span class=\"txtu cld\"></span></span><span class=\"plain    \" ><span class=\"txtu cld\"></span></span><span class=\"plain    \" ><span class=\"txtu cld\"></span></span><span class=\"plain    \" ><span class=\"txtu cld\"></span></span><span class=\"plain    \" ><span class=\"txtu cld\"></span></span><span class=\"plain    \" ><span class=\"txtu cld\"></span></span><span class=\"plain    \" ><span class=\"txtu cld\"></span></span></span></span></div></div></div></div><div class=\"contnr c1    \" ><div class=\"lbl c1  \" ><span class=\"nd\">stress:649609</span></div><div class=\"children hor  \"><div class=\"contnr c1    \" ><div class=\"lbl c1  \" ><span class=\"nd\">word:785713</span> <span class=\"txtu cld\"><span class=\"plain    \" ><span class=\"txtu cld\">tùp,ˈ </span><span class=\"plain    \" ><span class=\"txtu cld\"></span></span><span class=\"plain    \" ><span class=\"txtu cld\"></span></span><span class=\"plain    \" ><span class=\"txtu cld\"></span></span></span></span></div></div></div></div></div></div><div class=\"contnr c1    \" ><div class=\"lbl c1  \" ><span class=\"nd\">inton:560402</span></div><div class=\"children hor  \"><div class=\"contnr c1    \" ><div class=\"lbl c1  \" ><span class=\"nd\">stress:649610</span></div><div class=\"children hor  \"><div class=\"contnr c1    \" ><div class=\"lbl c1  \" ><span class=\"nd\">word:785714</span> <span class=\"txtu cld\"><span class=\"plain    \" ><span class=\"txtu cld\">xelànta </span><span class=\"plain    \" ><span class=\"txtu cld\"></span></span><span class=\"plain    \" ><span class=\"txtu cld\"></span></span><span class=\"plain    \" ><span class=\"txtu cld\"></span></span><span class=\"plain    \" ><span class=\"txtu cld\"></span></span><span class=\"plain    \" ><span class=\"txtu cld\"></span></span><span class=\"plain    \" ><span class=\"txtu cld\"></span></span><span class=\"plain    \" ><span class=\"txtu cld\"></span></span></span></span></div></div></div></div><div class=\"contnr c1    \" ><div class=\"lbl c1  \" ><span class=\"nd\">stress:649611</span></div><div class=\"children hor  \"><div class=\"contnr c1    \" ><div class=\"lbl c1  \" ><span class=\"nd\">word:785715</span> <span class=\"txtu cld\"><span class=\"plain    \" ><span class=\"txtu cld\">túp,ˈ </span><span class=\"plain    \" ><span class=\"txtu cld\"></span></span><span class=\"plain    \" ><span class=\"txtu cld\"></span></span><span class=\"plain    \" ><span class=\"txtu cld\"></span></span></span></span></div></div></div></div></div></div><div class=\"contnr c1    \" ><div class=\"lbl c1  \" ><span class=\"nd\">inton:560403</span></div><div class=\"children hor  \"><div class=\"contnr c1    \" ><div class=\"lbl c1  \" ><span class=\"nd\">stress:649612</span></div><div class=\"children hor  \"><div class=\"contnr c1    \" ><div class=\"lbl c1  \" ><span class=\"nd\">word:785716</span> <span class=\"txtu cld\"><span class=\"plain    \" ><span class=\"txtu cld\">ṱ-</span><span class=\"plain    \" ><span class=\"txtu cld\"></span></span></span></span></div></div><div class=\"contnr c1    \" ><div class=\"lbl c1  \" ><span class=\"nd\">word:785717</span> <span class=\"txtu cld\"><span class=\"plain    \" ><span class=\"txtu cld\">azíva </span><span class=\"plain    \" ><span class=\"txtu cld\"></span></span><span class=\"plain    \" ><span class=\"txtu cld\"></span></span><span class=\"plain    \" ><span class=\"txtu cld\"></span></span><span class=\"plain    \" ><span class=\"txtu cld\"></span></span><span class=\"plain    \" ><span class=\"txtu cld\"></span></span></span></span></div></div></div></div><div class=\"contnr c1    \" ><div class=\"lbl c1  \" ><span class=\"nd\">stress:649613</span></div><div class=\"children hor  \"><div class=\"contnr c1    \" ><div class=\"lbl c1  \" ><span class=\"nd\">word:785718</span> <span class=\"txtu cld\"><span class=\"plain    \" ><span class=\"txtu cld\">ṱurànə,ˈ </span><span class=\"plain    \" ><span class=\"txtu cld\"></span></span><span class=\"plain    \" ><span class=\"txtu cld\"></span></span><span class=\"plain    \" ><span class=\"txtu cld\"></span></span><span class=\"plain    \" ><span class=\"txtu cld\"></span></span><span class=\"plain    \" ><span class=\"txtu cld\"></span></span><span class=\"plain    \" ><span class=\"txtu cld\"></span></span></span></span></div></div></div></div></div></div><div class=\"contnr c1    \" ><div class=\"lbl c1  \" ><span class=\"nd\">inton:560404</span></div><div class=\"children hor  \"><div class=\"contnr c1    \" ><div class=\"lbl c1  \" ><span class=\"nd\">stress:649614</span></div><div class=\"children hor  \"><div class=\"contnr c1    \" ><div class=\"lbl c1  \" ><span class=\"nd\">word:785719</span> <span class=\"txtu cld\"><span class=\"plain    \" ><span class=\"txtu cld\">maxíva </span><span class=\"plain    \" ><span class=\"txtu cld\"></span></span><span class=\"plain    \" ><span class=\"txtu cld\"></span></span><span class=\"plain    \" ><span class=\"txtu cld\"></span></span><span class=\"plain    \" ><span class=\"txtu cld\"></span></span><span class=\"plain    \" ><span class=\"txtu cld\"></span></span><span class=\"plain    \" ><span class=\"txtu cld\"></span></span></span></span></div></div></div></div><div class=\"contnr c1    \" ><div class=\"lbl c1  \" ><span class=\"nd\">stress:649615</span></div><div class=\"children hor  \"><div class=\"contnr c1    \" ><div class=\"lbl c1  \" ><span class=\"nd\">word:785720</span> <span class=\"txtu cld\"><span class=\"plain    \" ><span class=\"txtu cld\">xzùyra.ˈ </span><span class=\"plain    \" ><span class=\"txtu cld\"></span></span><span class=\"plain    \" ><span class=\"txtu cld\"></span></span><span class=\"plain    \" ><span class=\"txtu cld\"></span></span><span class=\"plain    \" ><span class=\"txtu cld\"></span></span><span class=\"plain    \" ><span class=\"txtu cld\"></span></span><span class=\"plain    \" ><span class=\"txtu cld\"></span></span></span></span></div></div></div></div></div></div></div></div><div class=\"contnr c2    \" ><div class=\"lbl c2  \" ><span class=\"nd\">sentence:588639</span></div><div class=\"children hor wrap \"><div class=\"contnr c1    \" ><div class=\"lbl c1  \" ><span class=\"nd\">inton:560405</span></div><div class=\"children hor  \"><div class=\"contnr c1    \" ><div class=\"lbl c1  \" ><span class=\"nd\">stress:649616</span></div><div class=\"children hor  \"><div class=\"contnr c1    \" ><div class=\"lbl c1  \" ><span class=\"nd\">word:785721</span> <span class=\"txtu cld\"><span class=\"plain    \" ><span class=\"txtu cld\">xà-</span><span class=\"plain    \" ><span class=\"txtu cld\"></span></span><span class=\"plain    \" ><span class=\"txtu cld\"></span></span></span></span></div></div><div class=\"contnr c1    \" ><div class=\"lbl c1  \" ><span class=\"nd\">word:785722</span> <span class=\"txtu cld\"><span class=\"plain    \" ><span class=\"txtu cld\">danaˈ </span><span class=\"plain    \" ><span class=\"txtu cld\"></span></span><span class=\"plain    \" ><span class=\"txtu cld\"></span></span><span class=\"plain    \" ><span class=\"txtu cld\"></span></span><span class=\"plain    \" ><span class=\"txtu cld\"></span></span></span></span></div></div></div></div></div></div><div class=\"contnr c1    \" ><div class=\"lbl c1  \" ><span class=\"nd\">inton:560406</span></div><div class=\"children hor  \"><div class=\"contnr c1    \" ><div class=\"lbl c1  \" ><span class=\"nd\">stress:649617</span></div><div class=\"children hor  \"><div class=\"contnr c1    \" ><div class=\"lbl c1  \" ><span class=\"nd\">word:785723</span> <span class=\"txtu cld\"><span class=\"plain    \" ><span class=\"txtu cld\">tré-</span><span class=\"plain    \" ><span class=\"txtu cld\"></span></span><span class=\"plain    \" ><span class=\"txtu cld\"></span></span><span class=\"plain    \" ><span class=\"txtu cld\"></span></span></span></span></div></div><div class=\"contnr c1    \" ><div class=\"lbl c1  \" ><span class=\"nd\">word:785724</span> <span class=\"txtu cld\"><span class=\"plain    \" ><span class=\"txtu cld\">danə </span><span class=\"plain    \" ><span class=\"txtu cld\"></span></span><span class=\"plain    \" ><span class=\"txtu cld\"></span></span><span class=\"plain    \" ><span class=\"txtu cld\"></span></span><span class=\"plain    \" ><span class=\"txtu cld\"></span></span></span></span></div></div></div></div><div class=\"contnr c1    \" ><div class=\"lbl c1  \" ><span class=\"nd\">stress:649618</span></div><div class=\"children hor  \"><div class=\"contnr c1    \" ><div class=\"lbl c1  \" ><span class=\"nd\">word:785725</span> <span class=\"txtu cld\"><span class=\"plain    \" ><span class=\"txtu cld\">xzúyrə </span><span class=\"plain    \" ><span class=\"txtu cld\"></span></span><span class=\"plain    \" ><span class=\"txtu cld\"></span></span><span class=\"plain    \" ><span class=\"txtu cld\"></span></span><span class=\"plain    \" ><span class=\"txtu cld\"></span></span><span class=\"plain    \" ><span class=\"txtu cld\"></span></span><span class=\"plain    \" ><span class=\"txtu cld\"></span></span></span></span></div></div></div></div><div class=\"contnr c1    \" ><div class=\"lbl c1  \" ><span class=\"nd\">stress:649619</span></div><div class=\"children hor  \"><div class=\"contnr c1    \" ><div class=\"lbl c1  \" ><span class=\"nd\">word:785726</span> <span class=\"txtu cld\"><span class=\"plain    \" ><span class=\"txtu cld\">ci-</span><span class=\"plain    \" ><span class=\"txtu cld\"></span></span><span class=\"plain    \" ><span class=\"txtu cld\"></span></span></span></span></div></div><div class=\"contnr c1    \" ><div class=\"lbl c1  \" ><span class=\"nd\">word:785727</span> <span class=\"txtu cld\"><span class=\"plain    \" ><span class=\"txtu cld\">mayyìva.ˈ </span><span class=\"plain    \" ><span class=\"txtu cld\"></span></span><span class=\"plain    \" ><span class=\"txtu cld\"></span></span><span class=\"plain    \" ><span class=\"txtu cld\"></span></span><span class=\"plain    \" ><span class=\"txtu cld\"></span></span><span class=\"plain    \" ><span class=\"txtu cld\"></span></span><span class=\"plain    \" ><span class=\"txtu cld\"></span></span><span class=\"plain    \" ><span class=\"txtu cld\"></span></span></span></span></div></div></div></div></div></div></div></div><div class=\"contnr c2    \" ><div class=\"lbl c2  \" ><span class=\"nd\">sentence:588640</span></div><div class=\"children hor wrap \"><div class=\"contnr c1    \" ><div class=\"lbl c1  \" ><span class=\"nd\">inton:560407</span></div><div class=\"children hor  \"><div class=\"contnr c1    \" ><div class=\"lbl c1  \" ><span class=\"nd\">stress:649620</span></div><div class=\"children hor  \"><div class=\"contnr c1    \" ><div class=\"lbl c1  \" ><span class=\"nd\">word:785728</span> <span class=\"txtu cld\"><span class=\"plain    \" ><span class=\"txtu cld\">ʾína </span><span class=\"plain    \" ><span class=\"txtu cld\"></span></span><span class=\"plain    \" ><span class=\"txtu cld\"></span></span><span class=\"plain    \" ><span class=\"txtu cld\"></span></span><span class=\"plain    \" ><span class=\"txtu cld\"></span></span></span></span></div></div></div></div><div class=\"contnr c1    \" ><div class=\"lbl c1  \" ><span class=\"nd\">stress:649621</span></div><div class=\"children hor  \"><div class=\"contnr c1    \" ><div class=\"lbl c1  \" ><span class=\"nd\">word:785729</span> <span class=\"txtu cld\"><span class=\"plain    \" ><span class=\"txtu cld\">cúllə </span><span class=\"plain    \" ><span class=\"txtu cld\"></span></span><span class=\"plain    \" ><span class=\"txtu cld\"></span></span><span class=\"plain    \" ><span class=\"txtu cld\"></span></span><span class=\"plain    \" ><span class=\"txtu cld\"></span></span><span class=\"plain    \" ><span class=\"txtu cld\"></span></span></span></span></div></div></div></div><div class=\"contnr c1    \" ><div class=\"lbl c1  \" ><span class=\"nd\">stress:649622</span></div><div class=\"children hor  \"><div class=\"contnr c1    \" ><div class=\"lbl c1  \" ><span class=\"nd\">word:785730</span> <span class=\"txtu cld\"><span class=\"plain    \" ><span class=\"txtu cld\">là,ˈ </span><span class=\"plain    \" ><span class=\"txtu cld\"></span></span><span class=\"plain    \" ><span class=\"txtu cld\"></span></span></span></span></div></div></div></div></div></div><div class=\"contnr c1    \" ><div class=\"lbl c1  \" ><span class=\"nd\">inton:560408</span></div><div class=\"children hor  \"><div class=\"contnr c1    \" ><div class=\"lbl c1  \" ><span class=\"nd\">stress:649623</span></div><div class=\"children hor  \"><div class=\"contnr c1    \" ><div class=\"lbl c1  \" ><span class=\"nd\">word:785731</span> <span class=\"txtu cld\"><span class=\"plain    \" ><span class=\"txtu cld\">⁺rába </span><span class=\"plain    \" ><span class=\"txtu cld\"></span></span><span class=\"plain    \" ><span class=\"txtu cld\"></span></span><span class=\"plain    \" ><span class=\"txtu cld\"></span></span><span class=\"plain    \" ><span class=\"txtu cld\"></span></span></span></span></div></div></div></div><div class=\"contnr c1    \" ><div class=\"lbl c1  \" ><span class=\"nd\">stress:649624</span></div><div class=\"children hor  \"><div class=\"contnr c1    \" ><div class=\"lbl c1  \" ><span class=\"nd\">word:785732</span> <span class=\"txtu cld\"><span class=\"plain    \" ><span class=\"txtu cld\">xàč̭č̭a </span><span class=\"plain    \" ><span class=\"txtu cld\"></span></span><span class=\"plain    \" ><span class=\"txtu cld\"></span></span><span class=\"plain    \" ><span class=\"txtu cld\"></span></span><span class=\"plain    \" ><span class=\"txtu cld\"></span></span><span class=\"plain    \" ><span class=\"txtu cld\"></span></span></span></span></div></div></div></div><div class=\"contnr c1    \" ><div class=\"lbl c1  \" ><span class=\"nd\">stress:649625</span></div><div class=\"children hor  \"><div class=\"contnr c1    \" ><div class=\"lbl c1  \" ><span class=\"nd\">word:785733</span> <span class=\"txtu cld\"><span class=\"plain    \" ><span class=\"txtu cld\">nášə.ˈ </span><span class=\"plain    \" ><span class=\"txtu cld\"></span></span><span class=\"plain    \" ><span class=\"txtu cld\"></span></span><span class=\"plain    \" ><span class=\"txtu cld\"></span></span><span class=\"plain    \" ><span class=\"txtu cld\"></span></span></span></span></div></div></div></div></div></div></div></div><div class=\"contnr c2    \" ><div class=\"lbl c2  \" ><span class=\"nd\">sentence:588641</span></div><div class=\"children hor wrap \"><div class=\"contnr c1    \" ><div class=\"lbl c1  \" ><span class=\"nd\">inton:560409</span></div><div class=\"children hor  \"><div class=\"contnr c1    \" ><div class=\"lbl c1  \" ><span class=\"nd\">stress:649626</span></div><div class=\"children hor  \"><div class=\"contnr c1    \" ><div class=\"lbl c1  \" ><span class=\"nd\">word:785734</span> <span class=\"txtu cld\"><span class=\"plain    \" ><span class=\"txtu cld\">ʾadíyya </span><span class=\"plain    \" ><span class=\"txtu cld\"></span></span><span class=\"plain    \" ><span class=\"txtu cld\"></span></span><span class=\"plain    \" ><span class=\"txtu cld\"></span></span><span class=\"plain    \" ><span class=\"txtu cld\"></span></span><span class=\"plain    \" ><span class=\"txtu cld\"></span></span><span class=\"plain    \" ><span class=\"txtu cld\"></span></span><span class=\"plain    \" ><span class=\"txtu cld\"></span></span></span></span></div></div></div></div><div class=\"contnr c1    \" ><div class=\"lbl c1  \" ><span class=\"nd\">stress:649627</span></div><div class=\"children hor  \"><div class=\"contnr c1    \" ><div class=\"lbl c1  \" ><span class=\"nd\">word:785735</span> <span class=\"txtu cld\"><span class=\"plain    \" ><span class=\"txtu cld\">xína </span><span class=\"plain    \" ><span class=\"txtu cld\"></span></span><span class=\"plain    \" ><span class=\"txtu cld\"></span></span><span class=\"plain    \" ><span class=\"txtu cld\"></span></span><span class=\"plain    \" ><span class=\"txtu cld\"></span></span></span></span></div></div></div></div><div class=\"contnr c1    \" ><div class=\"lbl c1  \" ><span class=\"nd\">stress:649628</span></div><div class=\"children hor  \"><div class=\"contnr c1    \" ><div class=\"lbl c1  \" ><span class=\"nd\">word:785736</span> <span class=\"txtu cld\"><span class=\"plain    \" ><span class=\"txtu cld\">nášə </span><span class=\"plain    \" ><span class=\"txtu cld\"></span></span><span class=\"plain    \" ><span class=\"txtu cld\"></span></span><span class=\"plain    \" ><span class=\"txtu cld\"></span></span><span class=\"plain    \" ><span class=\"txtu cld\"></span></span></span></span></div></div></div></div><div class=\"contnr c1    \" ><div class=\"lbl c1  \" ><span class=\"nd\">stress:649629</span></div><div class=\"children hor  \"><div class=\"contnr c1    \" ><div class=\"lbl c1  \" ><span class=\"nd\">word:785737</span> <span class=\"txtu cld\"><span class=\"plain    \" ><span class=\"txtu cld\">⁺ràbəna </span><span class=\"plain    \" ><span class=\"txtu cld\"></span></span><span class=\"plain    \" ><span class=\"txtu cld\"></span></span><span class=\"plain    \" ><span class=\"txtu cld\"></span></span><span class=\"plain    \" ><span class=\"txtu cld\"></span></span><span class=\"plain    \" ><span class=\"txtu cld\"></span></span><span class=\"plain    \" ><span class=\"txtu cld\"></span></span></span></span></div></div></div></div><div class=\"contnr c1    \" ><div class=\"lbl c1  \" ><span class=\"nd\">stress:649630</span></div><div class=\"children hor  \"><div class=\"contnr c1    \" ><div class=\"lbl c1  \" ><span class=\"nd\">word:785738</span> <span class=\"txtu cld\"><span class=\"plain    \" ><span class=\"txtu cld\">bərrə́ššəna.ˈ <span class=\"speaker\">…Natan Khoshaba…</span></span><span class=\"plain    \" ><span class=\"txtu cld\"></span></span><span class=\"plain    \" ><span class=\"txtu cld\"></span></span><span class=\"plain    \" ><span class=\"txtu cld\"></span></span><span class=\"plain    \" ><span class=\"txtu cld\"></span></span><span class=\"plain    \" ><span class=\"txtu cld\"></span></span><span class=\"plain    \" ><span class=\"txtu cld\"></span></span><span class=\"plain    \" ><span class=\"txtu cld\"></span></span><span class=\"plain    \" ><span class=\"txtu cld\"></span></span><span class=\"plain    \" ><span class=\"txtu cld\"></span></span><span class=\"plain    \" ><span class=\"txtu cld\"></span></span></span></span></div></div></div></div></div></div></div></div></div></div></div>"
      ],
      "text/plain": [
       "<IPython.core.display.HTML object>"
      ]
     },
     "metadata": {},
     "output_type": "display_data"
    }
   ],
   "source": [
    "A.pretty(ln, fmt=\"layout-orig-full\", withNodes=True, baseTypes={'word'})"
   ]
  },
  {
   "cell_type": "code",
   "execution_count": 21,
   "metadata": {},
   "outputs": [
    {
     "data": {
      "text/html": [
       "<div class=\" children\"><span class=\"section ltr\"><a target=\"_blank\" href=\"https://github.com/CambridgeSemiticsLab/nena_corpus/blob/master/nena/0.02/Urmi_C/Hunting.nena\" title=\"Show this title in the NENA repository\" sec=\"Urmi_C, Hunting, Ln. 6\">Urmi_C, Hunting, Ln. 6</a></span> <span class=\"plain outer   \" ><span class=\"plain txtu cld \"></span><span class=\"plain    \" ><span class=\"plain txtu cld \"></span><span class=\"plain   rno \" ><span class=\"plain txtu cld \"></span><span class=\"plain    \" ><span class=\"plain txtu cld \"></span><span class=\"plain    \" ><span class=\"txtu cld\"><span class=\"speaker\">«GK…</span>ʾə́tva </span><span class=\"plain    \" ><span class=\"txtu cld\"></span></span><span class=\"plain    \" ><span class=\"txtu cld\"></span></span><span class=\"plain    \" ><span class=\"txtu cld\"></span></span><span class=\"plain    \" ><span class=\"txtu cld\"></span></span><span class=\"plain    \" ><span class=\"txtu cld\"></span></span></span></span><span class=\"plain    \" ><span class=\"plain txtu cld \"></span><span class=\"plain    \" ><span class=\"txtu cld\">xzùyrə? <span class=\"speaker\">…GK»</span></span><span class=\"plain    \" ><span class=\"txtu cld\"></span></span><span class=\"plain    \" ><span class=\"txtu cld\"></span></span><span class=\"plain    \" ><span class=\"txtu cld\"></span></span><span class=\"plain    \" ><span class=\"txtu cld\"></span></span><span class=\"plain    \" ><span class=\"txtu cld\"></span></span><span class=\"plain    \" ><span class=\"txtu cld\"></span></span></span></span></span></span><span class=\"plain    \" ><span class=\"plain txtu cld \"></span><span class=\"plain   lno rno \" ><span class=\"plain txtu cld \"></span></span><span class=\"plain    \" ><span class=\"plain txtu cld \"></span><span class=\"plain    \" ><span class=\"txtu cld\"><span class=\"speaker\">«Natan Khoshaba…</span>là,ˈ </span><span class=\"plain    \" ><span class=\"txtu cld\"></span></span><span class=\"plain   lno \" ><span class=\"plain txtu cld \"></span><span class=\"plain    \" ><span class=\"txtu cld\"></span></span></span></span></span><span class=\"plain    \" ><span class=\"plain txtu cld \"></span><span class=\"plain    \" ><span class=\"plain txtu cld \"></span><span class=\"plain    \" ><span class=\"txtu cld\">ʾé </span><span class=\"plain    \" ><span class=\"txtu cld\"></span></span><span class=\"plain    \" ><span class=\"txtu cld\"></span></span></span></span><span class=\"plain    \" ><span class=\"plain txtu cld \"></span><span class=\"plain    \" ><span class=\"txtu cld\">⁺dána </span><span class=\"plain    \" ><span class=\"txtu cld\"></span></span><span class=\"plain    \" ><span class=\"txtu cld\"></span></span><span class=\"plain    \" ><span class=\"txtu cld\"></span></span><span class=\"plain    \" ><span class=\"txtu cld\"></span></span></span></span><span class=\"plain    \" ><span class=\"plain txtu cld \"></span><span class=\"plain    \" ><span class=\"txtu cld\">ʾàxnanˈ </span><span class=\"plain    \" ><span class=\"txtu cld\"></span></span><span class=\"plain    \" ><span class=\"txtu cld\"></span></span><span class=\"plain    \" ><span class=\"txtu cld\"></span></span><span class=\"plain    \" ><span class=\"txtu cld\"></span></span><span class=\"plain    \" ><span class=\"txtu cld\"></span></span><span class=\"plain    \" ><span class=\"txtu cld\"></span></span></span></span></span><span class=\"plain    \" ><span class=\"plain txtu cld \"></span><span class=\"plain    \" ><span class=\"plain txtu cld \"></span><span class=\"plain    \" ><span class=\"txtu cld\">ɟá </span><span class=\"plain    \" ><span class=\"txtu cld\"></span></span><span class=\"plain    \" ><span class=\"txtu cld\"></span></span></span></span><span class=\"plain    \" ><span class=\"plain txtu cld \"></span><span class=\"plain    \" ><span class=\"txtu cld\">māt-</span><span class=\"plain    \" ><span class=\"txtu cld\"></span></span><span class=\"plain    \" ><span class=\"txtu cld\"></span></span><span class=\"plain    \" ><span class=\"txtu cld\"></span></span></span><span class=\"plain    \" ><span class=\"txtu cld\">díyyan </span><span class=\"plain    \" ><span class=\"txtu cld\"></span></span><span class=\"plain    \" ><span class=\"txtu cld\"></span></span><span class=\"plain    \" ><span class=\"txtu cld\"></span></span><span class=\"plain    \" ><span class=\"txtu cld\"></span></span><span class=\"plain    \" ><span class=\"txtu cld\"></span></span><span class=\"plain    \" ><span class=\"txtu cld\"></span></span></span></span><span class=\"plain    \" ><span class=\"plain txtu cld \"></span><span class=\"plain    \" ><span class=\"txtu cld\">lə̀tva.ˈ </span><span class=\"plain    \" ><span class=\"txtu cld\"></span></span><span class=\"plain    \" ><span class=\"txtu cld\"></span></span><span class=\"plain    \" ><span class=\"txtu cld\"></span></span><span class=\"plain    \" ><span class=\"txtu cld\"></span></span><span class=\"plain    \" ><span class=\"txtu cld\"></span></span></span></span></span></span><span class=\"plain    \" ><span class=\"plain txtu cld \"></span><span class=\"plain    \" ><span class=\"plain txtu cld \"></span><span class=\"plain    \" ><span class=\"plain txtu cld \"></span><span class=\"plain    \" ><span class=\"txtu cld\">xzúyrə </span><span class=\"plain    \" ><span class=\"txtu cld\"></span></span><span class=\"plain    \" ><span class=\"txtu cld\"></span></span><span class=\"plain    \" ><span class=\"txtu cld\"></span></span><span class=\"plain    \" ><span class=\"txtu cld\"></span></span><span class=\"plain    \" ><span class=\"txtu cld\"></span></span><span class=\"plain    \" ><span class=\"txtu cld\"></span></span></span></span><span class=\"plain    \" ><span class=\"plain txtu cld \"></span><span class=\"plain    \" ><span class=\"txtu cld\">c-</span><span class=\"plain    \" ><span class=\"txtu cld\"></span></span></span><span class=\"plain    \" ><span class=\"txtu cld\">azíva </span><span class=\"plain    \" ><span class=\"txtu cld\"></span></span><span class=\"plain    \" ><span class=\"txtu cld\"></span></span><span class=\"plain    \" ><span class=\"txtu cld\"></span></span><span class=\"plain    \" ><span class=\"txtu cld\"></span></span><span class=\"plain    \" ><span class=\"txtu cld\"></span></span></span></span><span class=\"plain    \" ><span class=\"plain txtu cld \"></span><span class=\"plain    \" ><span class=\"txtu cld\">⁺ʾal-</span><span class=\"plain    \" ><span class=\"txtu cld\"></span></span><span class=\"plain    \" ><span class=\"txtu cld\"></span></span><span class=\"plain    \" ><span class=\"txtu cld\"></span></span></span><span class=\"plain    \" ><span class=\"txtu cld\">⁺ṱurànə.ˈ </span><span class=\"plain    \" ><span class=\"txtu cld\"></span></span><span class=\"plain    \" ><span class=\"txtu cld\"></span></span><span class=\"plain    \" ><span class=\"txtu cld\"></span></span><span class=\"plain    \" ><span class=\"txtu cld\"></span></span><span class=\"plain    \" ><span class=\"txtu cld\"></span></span><span class=\"plain    \" ><span class=\"txtu cld\"></span></span></span></span></span></span><span class=\"plain    \" ><span class=\"plain txtu cld \"></span><span class=\"plain    \" ><span class=\"plain txtu cld \"></span><span class=\"plain    \" ><span class=\"plain txtu cld \"></span><span class=\"plain    \" ><span class=\"txtu cld\">ʾánnə </span><span class=\"plain    \" ><span class=\"txtu cld\"></span></span><span class=\"plain    \" ><span class=\"txtu cld\"></span></span><span class=\"plain    \" ><span class=\"txtu cld\"></span></span><span class=\"plain    \" ><span class=\"txtu cld\"></span></span><span class=\"plain    \" ><span class=\"txtu cld\"></span></span></span></span><span class=\"plain    \" ><span class=\"plain txtu cld \"></span><span class=\"plain    \" ><span class=\"txtu cld\">nášə </span><span class=\"plain    \" ><span class=\"txtu cld\"></span></span><span class=\"plain    \" ><span class=\"txtu cld\"></span></span><span class=\"plain    \" ><span class=\"txtu cld\"></span></span><span class=\"plain    \" ><span class=\"txtu cld\"></span></span></span></span><span class=\"plain    \" ><span class=\"plain txtu cld \"></span><span class=\"plain    \" ><span class=\"txtu cld\">k̭át </span><span class=\"plain    \" ><span class=\"txtu cld\"></span></span><span class=\"plain    \" ><span class=\"txtu cld\"></span></span><span class=\"plain    \" ><span class=\"txtu cld\"></span></span></span></span><span class=\"plain    \" ><span class=\"plain txtu cld \"></span><span class=\"plain    \" ><span class=\"txtu cld\">ʾə́tvalun </span><span class=\"plain    \" ><span class=\"txtu cld\"></span></span><span class=\"plain    \" ><span class=\"txtu cld\"></span></span><span class=\"plain    \" ><span class=\"txtu cld\"></span></span><span class=\"plain    \" ><span class=\"txtu cld\"></span></span><span class=\"plain    \" ><span class=\"txtu cld\"></span></span><span class=\"plain    \" ><span class=\"txtu cld\"></span></span><span class=\"plain    \" ><span class=\"txtu cld\"></span></span><span class=\"plain    \" ><span class=\"txtu cld\"></span></span></span></span><span class=\"plain    \" ><span class=\"plain txtu cld \"></span><span class=\"plain    \" ><span class=\"txtu cld\">tùp,ˈ </span><span class=\"plain    \" ><span class=\"txtu cld\"></span></span><span class=\"plain    \" ><span class=\"txtu cld\"></span></span><span class=\"plain    \" ><span class=\"txtu cld\"></span></span></span></span></span><span class=\"plain    \" ><span class=\"plain txtu cld \"></span><span class=\"plain    \" ><span class=\"plain txtu cld \"></span><span class=\"plain    \" ><span class=\"txtu cld\">xelànta </span><span class=\"plain    \" ><span class=\"txtu cld\"></span></span><span class=\"plain    \" ><span class=\"txtu cld\"></span></span><span class=\"plain    \" ><span class=\"txtu cld\"></span></span><span class=\"plain    \" ><span class=\"txtu cld\"></span></span><span class=\"plain    \" ><span class=\"txtu cld\"></span></span><span class=\"plain    \" ><span class=\"txtu cld\"></span></span><span class=\"plain    \" ><span class=\"txtu cld\"></span></span></span></span><span class=\"plain    \" ><span class=\"plain txtu cld \"></span><span class=\"plain    \" ><span class=\"txtu cld\">túp,ˈ </span><span class=\"plain    \" ><span class=\"txtu cld\"></span></span><span class=\"plain    \" ><span class=\"txtu cld\"></span></span><span class=\"plain    \" ><span class=\"txtu cld\"></span></span></span></span></span><span class=\"plain    \" ><span class=\"plain txtu cld \"></span><span class=\"plain    \" ><span class=\"plain txtu cld \"></span><span class=\"plain    \" ><span class=\"txtu cld\">ṱ-</span><span class=\"plain    \" ><span class=\"txtu cld\"></span></span></span><span class=\"plain    \" ><span class=\"txtu cld\">azíva </span><span class=\"plain    \" ><span class=\"txtu cld\"></span></span><span class=\"plain    \" ><span class=\"txtu cld\"></span></span><span class=\"plain    \" ><span class=\"txtu cld\"></span></span><span class=\"plain    \" ><span class=\"txtu cld\"></span></span><span class=\"plain    \" ><span class=\"txtu cld\"></span></span></span></span><span class=\"plain    \" ><span class=\"plain txtu cld \"></span><span class=\"plain    \" ><span class=\"txtu cld\">ṱurànə,ˈ </span><span class=\"plain    \" ><span class=\"txtu cld\"></span></span><span class=\"plain    \" ><span class=\"txtu cld\"></span></span><span class=\"plain    \" ><span class=\"txtu cld\"></span></span><span class=\"plain    \" ><span class=\"txtu cld\"></span></span><span class=\"plain    \" ><span class=\"txtu cld\"></span></span><span class=\"plain    \" ><span class=\"txtu cld\"></span></span></span></span></span><span class=\"plain    \" ><span class=\"plain txtu cld \"></span><span class=\"plain    \" ><span class=\"plain txtu cld \"></span><span class=\"plain    \" ><span class=\"txtu cld\">maxíva </span><span class=\"plain    \" ><span class=\"txtu cld\"></span></span><span class=\"plain    \" ><span class=\"txtu cld\"></span></span><span class=\"plain    \" ><span class=\"txtu cld\"></span></span><span class=\"plain    \" ><span class=\"txtu cld\"></span></span><span class=\"plain    \" ><span class=\"txtu cld\"></span></span><span class=\"plain    \" ><span class=\"txtu cld\"></span></span></span></span><span class=\"plain    \" ><span class=\"plain txtu cld \"></span><span class=\"plain    \" ><span class=\"txtu cld\">xzùyra.ˈ </span><span class=\"plain    \" ><span class=\"txtu cld\"></span></span><span class=\"plain    \" ><span class=\"txtu cld\"></span></span><span class=\"plain    \" ><span class=\"txtu cld\"></span></span><span class=\"plain    \" ><span class=\"txtu cld\"></span></span><span class=\"plain    \" ><span class=\"txtu cld\"></span></span><span class=\"plain    \" ><span class=\"txtu cld\"></span></span></span></span></span></span><span class=\"plain    \" ><span class=\"plain txtu cld \"></span><span class=\"plain    \" ><span class=\"plain txtu cld \"></span><span class=\"plain    \" ><span class=\"plain txtu cld \"></span><span class=\"plain    \" ><span class=\"txtu cld\">xà-</span><span class=\"plain    \" ><span class=\"txtu cld\"></span></span><span class=\"plain    \" ><span class=\"txtu cld\"></span></span></span><span class=\"plain    \" ><span class=\"txtu cld\">danaˈ </span><span class=\"plain    \" ><span class=\"txtu cld\"></span></span><span class=\"plain    \" ><span class=\"txtu cld\"></span></span><span class=\"plain    \" ><span class=\"txtu cld\"></span></span><span class=\"plain    \" ><span class=\"txtu cld\"></span></span></span></span></span><span class=\"plain    \" ><span class=\"plain txtu cld \"></span><span class=\"plain    \" ><span class=\"plain txtu cld \"></span><span class=\"plain    \" ><span class=\"txtu cld\">tré-</span><span class=\"plain    \" ><span class=\"txtu cld\"></span></span><span class=\"plain    \" ><span class=\"txtu cld\"></span></span><span class=\"plain    \" ><span class=\"txtu cld\"></span></span></span><span class=\"plain    \" ><span class=\"txtu cld\">danə </span><span class=\"plain    \" ><span class=\"txtu cld\"></span></span><span class=\"plain    \" ><span class=\"txtu cld\"></span></span><span class=\"plain    \" ><span class=\"txtu cld\"></span></span><span class=\"plain    \" ><span class=\"txtu cld\"></span></span></span></span><span class=\"plain    \" ><span class=\"plain txtu cld \"></span><span class=\"plain    \" ><span class=\"txtu cld\">xzúyrə </span><span class=\"plain    \" ><span class=\"txtu cld\"></span></span><span class=\"plain    \" ><span class=\"txtu cld\"></span></span><span class=\"plain    \" ><span class=\"txtu cld\"></span></span><span class=\"plain    \" ><span class=\"txtu cld\"></span></span><span class=\"plain    \" ><span class=\"txtu cld\"></span></span><span class=\"plain    \" ><span class=\"txtu cld\"></span></span></span></span><span class=\"plain    \" ><span class=\"plain txtu cld \"></span><span class=\"plain    \" ><span class=\"txtu cld\">ci-</span><span class=\"plain    \" ><span class=\"txtu cld\"></span></span><span class=\"plain    \" ><span class=\"txtu cld\"></span></span></span><span class=\"plain    \" ><span class=\"txtu cld\">mayyìva.ˈ </span><span class=\"plain    \" ><span class=\"txtu cld\"></span></span><span class=\"plain    \" ><span class=\"txtu cld\"></span></span><span class=\"plain    \" ><span class=\"txtu cld\"></span></span><span class=\"plain    \" ><span class=\"txtu cld\"></span></span><span class=\"plain    \" ><span class=\"txtu cld\"></span></span><span class=\"plain    \" ><span class=\"txtu cld\"></span></span><span class=\"plain    \" ><span class=\"txtu cld\"></span></span></span></span></span></span><span class=\"plain    \" ><span class=\"plain txtu cld \"></span><span class=\"plain    \" ><span class=\"plain txtu cld \"></span><span class=\"plain    \" ><span class=\"plain txtu cld \"></span><span class=\"plain    \" ><span class=\"txtu cld\">ʾína </span><span class=\"plain    \" ><span class=\"txtu cld\"></span></span><span class=\"plain    \" ><span class=\"txtu cld\"></span></span><span class=\"plain    \" ><span class=\"txtu cld\"></span></span><span class=\"plain    \" ><span class=\"txtu cld\"></span></span></span></span><span class=\"plain    \" ><span class=\"plain txtu cld \"></span><span class=\"plain    \" ><span class=\"txtu cld\">cúllə </span><span class=\"plain    \" ><span class=\"txtu cld\"></span></span><span class=\"plain    \" ><span class=\"txtu cld\"></span></span><span class=\"plain    \" ><span class=\"txtu cld\"></span></span><span class=\"plain    \" ><span class=\"txtu cld\"></span></span><span class=\"plain    \" ><span class=\"txtu cld\"></span></span></span></span><span class=\"plain    \" ><span class=\"plain txtu cld \"></span><span class=\"plain    \" ><span class=\"txtu cld\">là,ˈ </span><span class=\"plain    \" ><span class=\"txtu cld\"></span></span><span class=\"plain    \" ><span class=\"txtu cld\"></span></span></span></span></span><span class=\"plain    \" ><span class=\"plain txtu cld \"></span><span class=\"plain    \" ><span class=\"plain txtu cld \"></span><span class=\"plain    \" ><span class=\"txtu cld\">⁺rába </span><span class=\"plain    \" ><span class=\"txtu cld\"></span></span><span class=\"plain    \" ><span class=\"txtu cld\"></span></span><span class=\"plain    \" ><span class=\"txtu cld\"></span></span><span class=\"plain    \" ><span class=\"txtu cld\"></span></span></span></span><span class=\"plain    \" ><span class=\"plain txtu cld \"></span><span class=\"plain    \" ><span class=\"txtu cld\">xàč̭č̭a </span><span class=\"plain    \" ><span class=\"txtu cld\"></span></span><span class=\"plain    \" ><span class=\"txtu cld\"></span></span><span class=\"plain    \" ><span class=\"txtu cld\"></span></span><span class=\"plain    \" ><span class=\"txtu cld\"></span></span><span class=\"plain    \" ><span class=\"txtu cld\"></span></span></span></span><span class=\"plain    \" ><span class=\"plain txtu cld \"></span><span class=\"plain    \" ><span class=\"txtu cld\">nášə.ˈ </span><span class=\"plain    \" ><span class=\"txtu cld\"></span></span><span class=\"plain    \" ><span class=\"txtu cld\"></span></span><span class=\"plain    \" ><span class=\"txtu cld\"></span></span><span class=\"plain    \" ><span class=\"txtu cld\"></span></span></span></span></span></span><span class=\"plain    \" ><span class=\"plain txtu cld \"></span><span class=\"plain    \" ><span class=\"plain txtu cld \"></span><span class=\"plain    \" ><span class=\"plain txtu cld \"></span><span class=\"plain    \" ><span class=\"txtu cld\">ʾadíyya </span><span class=\"plain    \" ><span class=\"txtu cld\"></span></span><span class=\"plain    \" ><span class=\"txtu cld\"></span></span><span class=\"plain    \" ><span class=\"txtu cld\"></span></span><span class=\"plain    \" ><span class=\"txtu cld\"></span></span><span class=\"plain    \" ><span class=\"txtu cld\"></span></span><span class=\"plain    \" ><span class=\"txtu cld\"></span></span><span class=\"plain    \" ><span class=\"txtu cld\"></span></span></span></span><span class=\"plain    \" ><span class=\"plain txtu cld \"></span><span class=\"plain    \" ><span class=\"txtu cld\">xína </span><span class=\"plain    \" ><span class=\"txtu cld\"></span></span><span class=\"plain    \" ><span class=\"txtu cld\"></span></span><span class=\"plain    \" ><span class=\"txtu cld\"></span></span><span class=\"plain    \" ><span class=\"txtu cld\"></span></span></span></span><span class=\"plain    \" ><span class=\"plain txtu cld \"></span><span class=\"plain    \" ><span class=\"txtu cld\">nášə </span><span class=\"plain    \" ><span class=\"txtu cld\"></span></span><span class=\"plain    \" ><span class=\"txtu cld\"></span></span><span class=\"plain    \" ><span class=\"txtu cld\"></span></span><span class=\"plain    \" ><span class=\"txtu cld\"></span></span></span></span><span class=\"plain    \" ><span class=\"plain txtu cld \"></span><span class=\"plain    \" ><span class=\"txtu cld\">⁺ràbəna </span><span class=\"plain    \" ><span class=\"txtu cld\"></span></span><span class=\"plain    \" ><span class=\"txtu cld\"></span></span><span class=\"plain    \" ><span class=\"txtu cld\"></span></span><span class=\"plain    \" ><span class=\"txtu cld\"></span></span><span class=\"plain    \" ><span class=\"txtu cld\"></span></span><span class=\"plain    \" ><span class=\"txtu cld\"></span></span></span></span><span class=\"plain    \" ><span class=\"plain txtu cld \"></span><span class=\"plain    \" ><span class=\"txtu cld\">bərrə́ššəna.ˈ <span class=\"speaker\">…Natan Khoshaba…</span></span><span class=\"plain    \" ><span class=\"txtu cld\"></span></span><span class=\"plain    \" ><span class=\"txtu cld\"></span></span><span class=\"plain    \" ><span class=\"txtu cld\"></span></span><span class=\"plain    \" ><span class=\"txtu cld\"></span></span><span class=\"plain    \" ><span class=\"txtu cld\"></span></span><span class=\"plain    \" ><span class=\"txtu cld\"></span></span><span class=\"plain    \" ><span class=\"txtu cld\"></span></span><span class=\"plain    \" ><span class=\"txtu cld\"></span></span><span class=\"plain    \" ><span class=\"txtu cld\"></span></span><span class=\"plain    \" ><span class=\"txtu cld\"></span></span></span></span></span></span></span></div>"
      ],
      "text/plain": [
       "<IPython.core.display.HTML object>"
      ]
     },
     "metadata": {},
     "output_type": "display_data"
    }
   ],
   "source": [
    "A.plain(ln, fmt=\"layout-orig-full\")"
   ]
  },
  {
   "cell_type": "code",
   "execution_count": 22,
   "metadata": {},
   "outputs": [],
   "source": [
    "i = 560398"
   ]
  },
  {
   "cell_type": "code",
   "execution_count": 23,
   "metadata": {},
   "outputs": [
    {
     "data": {
      "text/html": [
       "<div class=\" children\"><span class=\"section ltr\"><a target=\"_blank\" href=\"https://github.com/CambridgeSemiticsLab/nena_corpus/blob/master/nena/0.02/Urmi_C/Hunting.nena\" title=\"Show this title in the NENA repository\" sec=\"Urmi_C, Hunting, Ln. 6\">Urmi_C, Hunting, Ln. 6</a></span> <span class=\"plain outer   \" ><span class=\"plain txtu cld \"></span><span class=\"plain    \" ><span class=\"plain txtu cld \"></span><span class=\"plain    \" ><span class=\"txtu cld\"><span class=\"speaker\">…Natan Khoshaba…</span>ʾé </span><span class=\"plain    \" ><span class=\"txtu cld\"></span></span><span class=\"plain    \" ><span class=\"txtu cld\"></span></span></span></span><span class=\"plain    \" ><span class=\"plain txtu cld \"></span><span class=\"plain    \" ><span class=\"txtu cld\">⁺dána </span><span class=\"plain    \" ><span class=\"txtu cld\"></span></span><span class=\"plain    \" ><span class=\"txtu cld\"></span></span><span class=\"plain    \" ><span class=\"txtu cld\"></span></span><span class=\"plain    \" ><span class=\"txtu cld\"></span></span></span></span><span class=\"plain    \" ><span class=\"plain txtu cld \"></span><span class=\"plain    \" ><span class=\"txtu cld\">ʾàxnanˈ <span class=\"speaker\">…Natan Khoshaba…</span></span><span class=\"plain    \" ><span class=\"txtu cld\"></span></span><span class=\"plain    \" ><span class=\"txtu cld\"></span></span><span class=\"plain    \" ><span class=\"txtu cld\"></span></span><span class=\"plain    \" ><span class=\"txtu cld\"></span></span><span class=\"plain    \" ><span class=\"txtu cld\"></span></span><span class=\"plain    \" ><span class=\"txtu cld\"></span></span></span></span></span></div>"
      ],
      "text/plain": [
       "<IPython.core.display.HTML object>"
      ]
     },
     "metadata": {},
     "output_type": "display_data"
    }
   ],
   "source": [
    "A.plain(i, fmt=\"layout-orig-full\")"
   ]
  },
  {
   "cell_type": "code",
   "execution_count": 24,
   "metadata": {},
   "outputs": [
    {
     "data": {
      "text/html": [
       "<span class=\"section ltr\"><a target=\"_blank\" href=\"https://github.com/CambridgeSemiticsLab/nena_corpus/blob/master/nena/0.02/Urmi_C/Hunting.nena\" title=\"Show this title in the NENA repository\" sec=\"Urmi_C, Hunting, Ln. 6\">Urmi_C, Hunting, Ln. 6</a></span><div class=\" children\"><div class=\"contnr c1    \" ><div class=\"lbl c1  \" ><span class=\"nd\">inton:560398</span></div><div class=\"children hor  \"><div class=\"contnr c1    \" ><div class=\"lbl c1  \" ><span class=\"nd\">stress:649596</span></div><div class=\"children hor  \"><div class=\"contnr c1    \" ><div class=\"lbl c1  \" ><span class=\"nd\">word:785697</span> <span class=\"txtu cld\"><span class=\"plain    \" ><span class=\"txtu cld\"><span class=\"speaker\">…Natan Khoshaba…</span>ʾé </span><span class=\"plain    \" ><span class=\"txtu cld\"></span></span><span class=\"plain    \" ><span class=\"txtu cld\"></span></span></span></span></div></div></div></div><div class=\"contnr c1    \" ><div class=\"lbl c1  \" ><span class=\"nd\">stress:649597</span></div><div class=\"children hor  \"><div class=\"contnr c1    \" ><div class=\"lbl c1  \" ><span class=\"nd\">word:785698</span> <span class=\"txtu cld\"><span class=\"plain    \" ><span class=\"txtu cld\">⁺dána </span><span class=\"plain    \" ><span class=\"txtu cld\"></span></span><span class=\"plain    \" ><span class=\"txtu cld\"></span></span><span class=\"plain    \" ><span class=\"txtu cld\"></span></span><span class=\"plain    \" ><span class=\"txtu cld\"></span></span></span></span></div></div></div></div><div class=\"contnr c1    \" ><div class=\"lbl c1  \" ><span class=\"nd\">stress:649598</span></div><div class=\"children hor  \"><div class=\"contnr c1    \" ><div class=\"lbl c1  \" ><span class=\"nd\">word:785699</span> <span class=\"txtu cld\"><span class=\"plain    \" ><span class=\"txtu cld\">ʾàxnanˈ <span class=\"speaker\">…Natan Khoshaba…</span></span><span class=\"plain    \" ><span class=\"txtu cld\"></span></span><span class=\"plain    \" ><span class=\"txtu cld\"></span></span><span class=\"plain    \" ><span class=\"txtu cld\"></span></span><span class=\"plain    \" ><span class=\"txtu cld\"></span></span><span class=\"plain    \" ><span class=\"txtu cld\"></span></span><span class=\"plain    \" ><span class=\"txtu cld\"></span></span></span></span></div></div></div></div></div></div></div>"
      ],
      "text/plain": [
       "<IPython.core.display.HTML object>"
      ]
     },
     "metadata": {},
     "output_type": "display_data"
    }
   ],
   "source": [
    "A.pretty(i, fmt=\"layout-orig-full\", withNodes=True, baseTypes={'word'})"
   ]
  },
  {
   "cell_type": "code",
   "execution_count": 25,
   "metadata": {},
   "outputs": [
    {
     "data": {
      "text/markdown": [
       "### dialect 539382\n"
      ],
      "text/plain": [
       "<IPython.core.display.Markdown object>"
      ]
     },
     "metadata": {},
     "output_type": "display_data"
    },
    {
     "data": {
      "text/html": [
       "<div class=\" children\"><span class=\"section ltr\"><a target=\"_blank\" href=\"https://github.com/CambridgeSemiticsLab/nena_corpus/blob/master/nena/0.02/Barwar/A Hundred Gold Coins.nena\" title=\"Show this title in the NENA repository\" sec=\"Barwar\">Barwar</a></span> <span class=\"plain outer   \" ><span class=\"plain txtu cld \"><span class=\"section\"> </span></span></span></div>"
      ],
      "text/plain": [
       "<IPython.core.display.HTML object>"
      ]
     },
     "metadata": {},
     "output_type": "display_data"
    },
    {
     "data": {
      "text/html": [
       "<span class=\"section ltr\"><a target=\"_blank\" href=\"https://github.com/CambridgeSemiticsLab/nena_corpus/blob/master/nena/0.02/Barwar/A Hundred Gold Coins.nena\" title=\"Show this title in the NENA repository\" sec=\"Barwar\">Barwar</a></span><div class=\" children\"><div class=\"contnr c4 trm   \" ></div></div>"
      ],
      "text/plain": [
       "<IPython.core.display.HTML object>"
      ]
     },
     "metadata": {},
     "output_type": "display_data"
    },
    {
     "data": {
      "text/markdown": [
       "### text 713259\n"
      ],
      "text/plain": [
       "<IPython.core.display.Markdown object>"
      ]
     },
     "metadata": {},
     "output_type": "display_data"
    },
    {
     "data": {
      "text/html": [
       "<div class=\" children\"><span class=\"section ltr\"><a target=\"_blank\" href=\"https://github.com/CambridgeSemiticsLab/nena_corpus/blob/master/nena/0.02/Barwar/A Hundred Gold Coins.nena\" title=\"Show this title in the NENA repository\" sec=\"Barwar, A Hundred Gold Coins\">Barwar, A Hundred Gold Coins</a></span> <span class=\"plain outer   \" ><span class=\"plain txtu cld \"><span class=\"section\"> </span></span></span></div>"
      ],
      "text/plain": [
       "<IPython.core.display.HTML object>"
      ]
     },
     "metadata": {},
     "output_type": "display_data"
    },
    {
     "data": {
      "text/html": [
       "<span class=\"section ltr\"><a target=\"_blank\" href=\"https://github.com/CambridgeSemiticsLab/nena_corpus/blob/master/nena/0.02/Barwar/A Hundred Gold Coins.nena\" title=\"Show this title in the NENA repository\" sec=\"Barwar, A Hundred Gold Coins\">Barwar, A Hundred Gold Coins</a></span><div class=\" children\"><div class=\"contnr c4 trm   \" ></div></div>"
      ],
      "text/plain": [
       "<IPython.core.display.HTML object>"
      ]
     },
     "metadata": {},
     "output_type": "display_data"
    },
    {
     "data": {
      "text/markdown": [
       "### paragraph 577912\n"
      ],
      "text/plain": [
       "<IPython.core.display.Markdown object>"
      ]
     },
     "metadata": {},
     "output_type": "display_data"
    },
    {
     "data": {
      "text/html": [
       "<div class=\" children\"><span class=\"section ltr\"><a target=\"_blank\" href=\"https://github.com/CambridgeSemiticsLab/nena_corpus/blob/master/nena/0.02/Barwar/A Hundred Gold Coins.nena\" title=\"Show this title in the NENA repository\" sec=\"Barwar, A Hundred Gold Coins, Ln. 1\">Barwar, A Hundred Gold Coins, Ln. 1</a></span> <span class=\"plain outer   \" ><span class=\"plain txtu cld \"></span></span></div>"
      ],
      "text/plain": [
       "<IPython.core.display.HTML object>"
      ]
     },
     "metadata": {},
     "output_type": "display_data"
    },
    {
     "data": {
      "text/html": [
       "<span class=\"section ltr\"><a target=\"_blank\" href=\"https://github.com/CambridgeSemiticsLab/nena_corpus/blob/master/nena/0.02/Barwar/A Hundred Gold Coins.nena\" title=\"Show this title in the NENA repository\" sec=\"Barwar, A Hundred Gold Coins, Ln. 1\">Barwar, A Hundred Gold Coins, Ln. 1</a></span><div class=\" children\"><div class=\"contnr c2 trm   \" ></div></div>"
      ],
      "text/plain": [
       "<IPython.core.display.HTML object>"
      ]
     },
     "metadata": {},
     "output_type": "display_data"
    },
    {
     "data": {
      "text/markdown": [
       "### line 575368\n"
      ],
      "text/plain": [
       "<IPython.core.display.Markdown object>"
      ]
     },
     "metadata": {},
     "output_type": "display_data"
    },
    {
     "data": {
      "text/html": [
       "<div class=\" children\"><span class=\"section ltr\"><a target=\"_blank\" href=\"https://github.com/CambridgeSemiticsLab/nena_corpus/blob/master/nena/0.02/Barwar/A Hundred Gold Coins.nena\" title=\"Show this title in the NENA repository\" sec=\"Barwar, A Hundred Gold Coins, Ln. 1\">Barwar, A Hundred Gold Coins, Ln. 1</a></span> <span class=\"plain outer   \" ><span class=\"plain txtu cld \"></span><span class=\"plain    \" ><span class=\"plain txtu cld \"></span><span class=\"plain    \" ><span class=\"plain txtu cld \"></span><span class=\"plain    \" ><span class=\"plain txtu cld \"></span><span class=\"plain    \" ><span class=\"plain txtu cld \"></span><span class=\"plain    \" ><span class=\"txtu cld\">x</span></span><span class=\"plain    \" ><span class=\"txtu cld\">á-</span></span></span><span class=\"plain    \" ><span class=\"plain txtu cld \"></span><span class=\"plain    \" ><span class=\"txtu cld\">g</span></span><span class=\"plain    \" ><span class=\"txtu cld\">a </span></span></span></span><span class=\"plain    \" ><span class=\"plain txtu cld \"></span><span class=\"plain    \" ><span class=\"plain txtu cld \"></span><span class=\"plain    \" ><span class=\"txtu cld\">x</span></span><span class=\"plain    \" ><span class=\"txtu cld\">è</span></span><span class=\"plain    \" ><span class=\"txtu cld\">t</span></span><span class=\"plain    \" ><span class=\"txtu cld\">a,ˈ </span></span></span></span></span><span class=\"plain    \" ><span class=\"plain txtu cld \"></span><span class=\"plain    \" ><span class=\"plain txtu cld \"></span><span class=\"plain    \" ><span class=\"plain txtu cld \"></span><span class=\"plain    \" ><span class=\"txtu cld\">m</span></span><span class=\"plain    \" ><span class=\"txtu cld\">á</span></span><span class=\"plain    \" ><span class=\"txtu cld\">l</span></span><span class=\"plain    \" ><span class=\"txtu cld\">l</span></span><span class=\"plain    \" ><span class=\"txtu cld\">a</span></span><span class=\"plain    \" ><span class=\"txtu cld\">h </span></span></span></span><span class=\"plain    \" ><span class=\"plain txtu cld \"></span><span class=\"plain    \" ><span class=\"plain txtu cld \"></span><span class=\"plain    \" ><span class=\"txtu cld\">N</span></span><span class=\"plain    \" ><span class=\"txtu cld\">a</span></span><span class=\"plain    \" ><span class=\"txtu cld\">ṣ</span></span><span class=\"plain    \" ><span class=\"txtu cld\">r</span></span><span class=\"plain    \" ><span class=\"txtu cld\">à</span></span><span class=\"plain    \" ><span class=\"txtu cld\">d</span></span><span class=\"plain    \" ><span class=\"txtu cld\">i</span></span><span class=\"plain    \" ><span class=\"txtu cld\">n,ˈ </span></span></span></span></span><span class=\"plain    \" ><span class=\"plain txtu cld \"></span><span class=\"plain    \" ><span class=\"plain txtu cld \"></span><span class=\"plain    \" ><span class=\"plain txtu cld \"></span><span class=\"plain    \" ><span class=\"txtu cld\">x</span></span><span class=\"plain    \" ><span class=\"txtu cld\">á</span></span><span class=\"plain    \" ><span class=\"txtu cld\">z</span></span><span class=\"plain    \" ><span class=\"txtu cld\">ə</span></span><span class=\"plain    \" ><span class=\"txtu cld\">x </span></span></span></span><span class=\"plain    \" ><span class=\"plain txtu cld \"></span><span class=\"plain    \" ><span class=\"plain txtu cld \"></span><span class=\"plain    \" ><span class=\"txtu cld\">m</span></span><span class=\"plain    \" ><span class=\"txtu cld\">ò</span></span><span class=\"plain    \" ><span class=\"txtu cld\">d</span></span><span class=\"plain    \" ><span class=\"txtu cld\">i </span></span></span></span><span class=\"plain    \" ><span class=\"plain txtu cld \"></span><span class=\"plain    \" ><span class=\"plain txtu cld \"></span><span class=\"plain    \" ><span class=\"txtu cld\">w</span></span><span class=\"plain    \" ><span class=\"txtu cld\">í</span></span><span class=\"plain    \" ><span class=\"txtu cld\">ð</span></span><span class=\"plain    \" ><span class=\"txtu cld\">a.ˈ </span></span></span></span></span></span><span class=\"plain    \" ><span class=\"plain txtu cld \"></span><span class=\"plain    \" ><span class=\"plain txtu cld \"></span><span class=\"plain    \" ><span class=\"plain txtu cld \"></span><span class=\"plain    \" ><span class=\"plain txtu cld \"></span><span class=\"plain    \" ><span class=\"txtu cld\">g</span></span><span class=\"plain    \" ><span class=\"txtu cld\">u-</span></span></span><span class=\"plain    \" ><span class=\"plain txtu cld \"></span><span class=\"plain    \" ><span class=\"txtu cld\">b</span></span><span class=\"plain    \" ><span class=\"txtu cld\">ɛ̀</span></span><span class=\"plain    \" ><span class=\"txtu cld\">θ</span></span><span class=\"plain    \" ><span class=\"txtu cld\">a </span></span></span></span><span class=\"plain    \" ><span class=\"plain txtu cld \"></span><span class=\"plain    \" ><span class=\"plain txtu cld \"></span><span class=\"plain    \" ><span class=\"txtu cld\">w</span></span><span class=\"plain    \" ><span class=\"txtu cld\">é</span></span><span class=\"plain    \" ><span class=\"txtu cld\">w</span></span><span class=\"plain    \" ><span class=\"txtu cld\">a,ˈ </span></span></span></span></span><span class=\"plain    \" ><span class=\"plain txtu cld \"></span><span class=\"plain    \" ><span class=\"plain txtu cld \"></span><span class=\"plain    \" ><span class=\"plain txtu cld \"></span><span class=\"plain    \" ><span class=\"txtu cld\">h</span></span><span class=\"plain    \" ><span class=\"txtu cld\">a</span></span><span class=\"plain    \" ><span class=\"txtu cld\">r-</span></span></span><span class=\"plain    \" ><span class=\"plain txtu cld \"></span><span class=\"plain    \" ><span class=\"txtu cld\">z</span></span><span class=\"plain    \" ><span class=\"txtu cld\">á</span></span><span class=\"plain    \" ><span class=\"txtu cld\">l</span></span><span class=\"plain    \" ><span class=\"txtu cld\">a-</span></span></span><span class=\"plain    \" ><span class=\"plain txtu cld \"></span><span class=\"plain    \" ><span class=\"txtu cld\">w </span></span></span></span><span class=\"plain    \" ><span class=\"plain txtu cld \"></span><span class=\"plain    \" ><span class=\"plain txtu cld \"></span><span class=\"plain    \" ><span class=\"txtu cld\">θ</span></span><span class=\"plain    \" ><span class=\"txtu cld\">à</span></span><span class=\"plain    \" ><span class=\"txtu cld\">y</span></span><span class=\"plain    \" ><span class=\"txtu cld\">a.ˈ </span></span></span></span></span></span><span class=\"plain    \" ><span class=\"plain txtu cld \"></span><span class=\"plain    \" ><span class=\"plain txtu cld \"></span><span class=\"plain    \" ><span class=\"plain txtu cld \"></span><span class=\"plain    \" ><span class=\"plain txtu cld \"></span><span class=\"plain    \" ><span class=\"txtu cld\">z</span></span><span class=\"plain    \" ><span class=\"txtu cld\">á</span></span><span class=\"plain    \" ><span class=\"txtu cld\">l</span></span><span class=\"plain    \" ><span class=\"txtu cld\">a-</span></span></span><span class=\"plain    \" ><span class=\"plain txtu cld \"></span><span class=\"plain    \" ><span class=\"txtu cld\">w </span></span></span></span><span class=\"plain    \" ><span class=\"plain txtu cld \"></span><span class=\"plain    \" ><span class=\"plain txtu cld \"></span><span class=\"plain    \" ><span class=\"txtu cld\">θ</span></span><span class=\"plain    \" ><span class=\"txtu cld\">à</span></span><span class=\"plain    \" ><span class=\"txtu cld\">y</span></span><span class=\"plain    \" ><span class=\"txtu cld\">a,ˈ </span></span></span></span></span><span class=\"plain    \" ><span class=\"plain txtu cld \"></span><span class=\"plain    \" ><span class=\"plain txtu cld \"></span><span class=\"plain    \" ><span class=\"plain txtu cld \"></span><span class=\"plain    \" ><span class=\"txtu cld\">m</span></span><span class=\"plain    \" ><span class=\"txtu cld\">á</span></span><span class=\"plain    \" ><span class=\"txtu cld\">r</span></span><span class=\"plain    \" ><span class=\"txtu cld\">a </span></span></span></span><span class=\"plain    \" ><span class=\"plain txtu cld \"></span><span class=\"plain    \" ><span class=\"plain txtu cld \"></span><span class=\"plain    \" ><span class=\"txtu cld\">y</span></span><span class=\"plain    \" ><span class=\"txtu cld\">a-</span></span></span><span class=\"plain    \" ><span class=\"plain txtu cld \"></span><span class=\"plain    \" ><span class=\"txtu cld\">ʾ</span></span><span class=\"plain    \" ><span class=\"txtu cld\">à</span></span><span class=\"plain    \" ><span class=\"txtu cld\">l</span></span><span class=\"plain    \" ><span class=\"txtu cld\">a</span></span><span class=\"plain    \" ><span class=\"txtu cld\">h</span></span><span class=\"plain    \" ><span class=\"txtu cld\">a,ˈ </span></span></span></span></span><span class=\"plain    \" ><span class=\"plain txtu cld \"></span><span class=\"plain    \" ><span class=\"plain txtu cld \"></span><span class=\"plain    \" ><span class=\"plain txtu cld \"></span><span class=\"plain    \" ><span class=\"txtu cld\">y</span></span><span class=\"plain    \" ><span class=\"txtu cld\">a</span></span><span class=\"plain    \" ><span class=\"txtu cld\">w</span></span><span class=\"plain    \" ><span class=\"txtu cld\">ə̀</span></span><span class=\"plain    \" ><span class=\"txtu cld\">t</span></span><span class=\"plain    \" ><span class=\"txtu cld\">l</span></span><span class=\"plain    \" ><span class=\"txtu cld\">iˈ </span></span></span></span></span><span class=\"plain    \" ><span class=\"plain txtu cld \"></span><span class=\"plain    \" ><span class=\"plain txtu cld \"></span><span class=\"plain    \" ><span class=\"plain txtu cld \"></span><span class=\"plain    \" ><span class=\"txtu cld\">ʾ</span></span><span class=\"plain    \" ><span class=\"txtu cld\">ə́</span></span><span class=\"plain    \" ><span class=\"txtu cld\">m</span></span><span class=\"plain    \" ><span class=\"txtu cld\">m</span></span><span class=\"plain    \" ><span class=\"txtu cld\">a </span></span></span></span><span class=\"plain    \" ><span class=\"plain txtu cld \"></span><span class=\"plain    \" ><span class=\"plain txtu cld \"></span><span class=\"plain    \" ><span class=\"txtu cld\">d</span></span><span class=\"plain    \" ><span class=\"txtu cld\">à</span></span><span class=\"plain    \" ><span class=\"txtu cld\">w</span></span><span class=\"plain    \" ><span class=\"txtu cld\">e.ˈ </span></span></span></span></span></span><span class=\"plain    \" ><span class=\"plain txtu cld \"></span><span class=\"plain    \" ><span class=\"plain txtu cld \"></span><span class=\"plain    \" ><span class=\"plain txtu cld \"></span><span class=\"plain    \" ><span class=\"plain txtu cld \"></span><span class=\"plain    \" ><span class=\"txtu cld\">ʾ</span></span><span class=\"plain    \" ><span class=\"txtu cld\">ə</span></span><span class=\"plain    \" ><span class=\"txtu cld\">n-</span></span></span><span class=\"plain    \" ><span class=\"plain txtu cld \"></span><span class=\"plain    \" ><span class=\"txtu cld\">h</span></span><span class=\"plain    \" ><span class=\"txtu cld\">à</span></span><span class=\"plain    \" ><span class=\"txtu cld\">w</span></span><span class=\"plain    \" ><span class=\"txtu cld\">aˈ </span></span></span></span></span><span class=\"plain    \" ><span class=\"plain txtu cld \"></span><span class=\"plain    \" ><span class=\"plain txtu cld \"></span><span class=\"plain    \" ><span class=\"plain txtu cld \"></span><span class=\"plain    \" ><span class=\"txtu cld\">ʾ</span></span><span class=\"plain    \" ><span class=\"txtu cld\">ə́</span></span><span class=\"plain    \" ><span class=\"txtu cld\">č̣</span></span><span class=\"plain    \" ><span class=\"txtu cld\">č̣</span></span><span class=\"plain    \" ><span class=\"txtu cld\">i-</span></span></span><span class=\"plain    \" ><span class=\"plain txtu cld \"></span><span class=\"plain    \" ><span class=\"txtu cld\">u </span></span></span></span><span class=\"plain    \" ><span class=\"plain txtu cld \"></span><span class=\"plain    \" ><span class=\"plain txtu cld \"></span><span class=\"plain    \" ><span class=\"txtu cld\">ʾ</span></span><span class=\"plain    \" ><span class=\"txtu cld\">ə́</span></span><span class=\"plain    \" ><span class=\"txtu cld\">č̣</span></span><span class=\"plain    \" ><span class=\"txtu cld\">č̣</span></span><span class=\"plain    \" ><span class=\"txtu cld\">a </span></span></span></span><span class=\"plain    \" ><span class=\"plain txtu cld \"></span><span class=\"plain    \" ><span class=\"plain txtu cld \"></span><span class=\"plain    \" ><span class=\"txtu cld\">m</span></span><span class=\"plain    \" ><span class=\"txtu cld\">a</span></span><span class=\"plain    \" ><span class=\"txtu cld\">q</span></span><span class=\"plain    \" ><span class=\"txtu cld\">ə</span></span><span class=\"plain    \" ><span class=\"txtu cld\">l</span></span><span class=\"plain    \" ><span class=\"txtu cld\">b</span></span><span class=\"plain    \" ><span class=\"txtu cld\">ə̀</span></span><span class=\"plain    \" ><span class=\"txtu cld\">n</span></span><span class=\"plain    \" ><span class=\"txtu cld\">n</span></span><span class=\"plain    \" ><span class=\"txtu cld\">a.ˈ </span></span></span></span></span></span><span class=\"plain    \" ><span class=\"plain txtu cld \"></span><span class=\"plain    \" ><span class=\"plain txtu cld \"></span><span class=\"plain    \" ><span class=\"plain txtu cld \"></span><span class=\"plain    \" ><span class=\"plain txtu cld \"></span><span class=\"plain    \" ><span class=\"txtu cld\">ʾ</span></span><span class=\"plain    \" ><span class=\"txtu cld\">u-</span></span></span><span class=\"plain    \" ><span class=\"plain txtu cld \"></span><span class=\"plain    \" ><span class=\"txtu cld\">ʾ</span></span><span class=\"plain    \" ><span class=\"txtu cld\">ə</span></span><span class=\"plain    \" ><span class=\"txtu cld\">n-</span></span></span><span class=\"plain    \" ><span class=\"plain txtu cld \"></span><span class=\"plain    \" ><span class=\"txtu cld\">h</span></span><span class=\"plain    \" ><span class=\"txtu cld\">à</span></span><span class=\"plain    \" ><span class=\"txtu cld\">w</span></span><span class=\"plain    \" ><span class=\"txtu cld\">aˈ </span></span></span></span></span><span class=\"plain    \" ><span class=\"plain txtu cld \"></span><span class=\"plain    \" ><span class=\"plain txtu cld \"></span><span class=\"plain    \" ><span class=\"plain txtu cld \"></span><span class=\"plain    \" ><span class=\"txtu cld\">ʾ</span></span><span class=\"plain    \" ><span class=\"txtu cld\">ə́</span></span><span class=\"plain    \" ><span class=\"txtu cld\">m</span></span><span class=\"plain    \" ><span class=\"txtu cld\">m</span></span><span class=\"plain    \" ><span class=\"txtu cld\">a-</span></span></span><span class=\"plain    \" ><span class=\"plain txtu cld \"></span><span class=\"plain    \" ><span class=\"txtu cld\">w-</span></span></span><span class=\"plain    \" ><span class=\"plain txtu cld \"></span><span class=\"plain    \" ><span class=\"txtu cld\">x</span></span><span class=\"plain    \" ><span class=\"txtu cld\">à-</span></span></span><span class=\"plain    \" ><span class=\"plain txtu cld \"></span><span class=\"plain    \" ><span class=\"txtu cld\">ž</span></span><span class=\"plain    \" ><span class=\"txtu cld\">i,ˈ </span></span></span></span></span><span class=\"plain    \" ><span class=\"plain txtu cld \"></span><span class=\"plain    \" ><span class=\"plain txtu cld \"></span><span class=\"plain    \" ><span class=\"plain txtu cld \"></span><span class=\"plain    \" ><span class=\"txtu cld\">l</span></span><span class=\"plain    \" ><span class=\"txtu cld\">a-</span></span></span><span class=\"plain    \" ><span class=\"plain txtu cld \"></span><span class=\"plain    \" ><span class=\"txtu cld\">b</span></span><span class=\"plain    \" ><span class=\"txtu cld\">ă</span></span><span class=\"plain    \" ><span class=\"txtu cld\">y</span></span><span class=\"plain    \" ><span class=\"txtu cld\">ə̀</span></span><span class=\"plain    \" ><span class=\"txtu cld\">n</span></span><span class=\"plain    \" ><span class=\"txtu cld\">n</span></span><span class=\"plain    \" ><span class=\"txtu cld\">a.ˈ </span></span></span></span></span></span><span class=\"plain    \" ><span class=\"plain txtu cld \"></span><span class=\"plain    \" ><span class=\"plain txtu cld \"></span><span class=\"plain    \" ><span class=\"plain txtu cld \"></span><span class=\"plain    \" ><span class=\"plain txtu cld \"></span><span class=\"plain    \" ><span class=\"txtu cld\">d</span></span><span class=\"plain    \" ><span class=\"txtu cld\">e-</span></span></span><span class=\"plain    \" ><span class=\"plain txtu cld \"></span><span class=\"plain    \" ><span class=\"txtu cld\">š</span></span><span class=\"plain    \" ><span class=\"txtu cld\">ù</span></span><span class=\"plain    \" ><span class=\"txtu cld\">q</span></span><span class=\"plain    \" ><span class=\"txtu cld\">l</span></span><span class=\"plain    \" ><span class=\"txtu cld\">a.ˈ </span></span></span></span></span></span><span class=\"plain    \" ><span class=\"plain txtu cld \"></span><span class=\"plain    \" ><span class=\"plain txtu cld \"></span><span class=\"plain    \" ><span class=\"plain txtu cld \"></span><span class=\"plain    \" ><span class=\"plain txtu cld \"></span><span class=\"plain    \" ><span class=\"txtu cld\">ʾ</span></span><span class=\"plain    \" ><span class=\"txtu cld\">ə̀</span></span><span class=\"plain    \" ><span class=\"txtu cld\">m</span></span><span class=\"plain    \" ><span class=\"txtu cld\">m</span></span><span class=\"plain    \" ><span class=\"txtu cld\">a </span></span></span></span><span class=\"plain    \" ><span class=\"plain txtu cld \"></span><span class=\"plain    \" ><span class=\"plain txtu cld \"></span><span class=\"plain    \" ><span class=\"txtu cld\">g</span></span><span class=\"plain    \" ><span class=\"txtu cld\">ắ</span></span><span class=\"plain    \" ><span class=\"txtu cld\">r</span></span><span class=\"plain    \" ><span class=\"txtu cld\">ə</span></span><span class=\"plain    \" ><span class=\"txtu cld\">g </span></span></span></span><span class=\"plain    \" ><span class=\"plain txtu cld \"></span><span class=\"plain    \" ><span class=\"plain txtu cld \"></span><span class=\"plain    \" ><span class=\"txtu cld\">h</span></span><span class=\"plain    \" ><span class=\"txtu cld\">á</span></span><span class=\"plain    \" ><span class=\"txtu cld\">w</span></span><span class=\"plain    \" ><span class=\"txtu cld\">a </span></span></span></span><span class=\"plain    \" ><span class=\"plain txtu cld \"></span><span class=\"plain    \" ><span class=\"plain txtu cld \"></span><span class=\"plain    \" ><span class=\"txtu cld\">d</span></span><span class=\"plain    \" ><span class=\"txtu cld\">r</span></span><span class=\"plain    \" ><span class=\"txtu cld\">ə́</span></span><span class=\"plain    \" ><span class=\"txtu cld\">s</span></span><span class=\"plain    \" ><span class=\"txtu cld\">t.ˈ </span></span></span></span></span></span></span></div>"
      ],
      "text/plain": [
       "<IPython.core.display.HTML object>"
      ]
     },
     "metadata": {},
     "output_type": "display_data"
    },
    {
     "data": {
      "text/html": [
       "<span class=\"section ltr\"><a target=\"_blank\" href=\"https://github.com/CambridgeSemiticsLab/nena_corpus/blob/master/nena/0.02/Barwar/A Hundred Gold Coins.nena\" title=\"Show this title in the NENA repository\" sec=\"Barwar, A Hundred Gold Coins, Ln. 1\">Barwar, A Hundred Gold Coins, Ln. 1</a></span><div class=\" children\"><div class=\"contnr c3    \" ><div class=\"children hor wrap \"><div class=\"contnr c2    \" ><div class=\"children hor wrap \"><div class=\"contnr c1    \" ><div class=\"children hor  \"><div class=\"contnr c1    \" ><div class=\"children hor  \"><div class=\"contnr c1    \" ><div class=\"children hor  \"><div class=\"contnr c0 trm   \" ><div class=\"lbl c0 trm \" ><span class=\"txtu cld\">x</span></div></div><div class=\"contnr c0 trm   \" ><div class=\"lbl c0 trm \" ><span class=\"txtu cld\">á-</span></div></div></div></div><div class=\"contnr c1    \" ><div class=\"children hor  \"><div class=\"contnr c0 trm   \" ><div class=\"lbl c0 trm \" ><span class=\"txtu cld\">g</span></div></div><div class=\"contnr c0 trm   \" ><div class=\"lbl c0 trm \" ><span class=\"txtu cld\">a </span></div></div></div></div></div></div><div class=\"contnr c1    \" ><div class=\"children hor  \"><div class=\"contnr c1    \" ><div class=\"children hor  \"><div class=\"contnr c0 trm   \" ><div class=\"lbl c0 trm \" ><span class=\"txtu cld\">x</span></div></div><div class=\"contnr c0 trm   \" ><div class=\"lbl c0 trm \" ><span class=\"txtu cld\">è</span></div></div><div class=\"contnr c0 trm   \" ><div class=\"lbl c0 trm \" ><span class=\"txtu cld\">t</span></div></div><div class=\"contnr c0 trm   \" ><div class=\"lbl c0 trm \" ><span class=\"txtu cld\">a,ˈ </span></div></div></div></div></div></div></div></div><div class=\"contnr c1    \" ><div class=\"children hor  \"><div class=\"contnr c1    \" ><div class=\"children hor  \"><div class=\"contnr c1    \" ><div class=\"children hor  \"><div class=\"contnr c0 trm   \" ><div class=\"lbl c0 trm \" ><span class=\"txtu cld\">m</span></div></div><div class=\"contnr c0 trm   \" ><div class=\"lbl c0 trm \" ><span class=\"txtu cld\">á</span></div></div><div class=\"contnr c0 trm   \" ><div class=\"lbl c0 trm \" ><span class=\"txtu cld\">l</span></div></div><div class=\"contnr c0 trm   \" ><div class=\"lbl c0 trm \" ><span class=\"txtu cld\">l</span></div></div><div class=\"contnr c0 trm   \" ><div class=\"lbl c0 trm \" ><span class=\"txtu cld\">a</span></div></div><div class=\"contnr c0 trm   \" ><div class=\"lbl c0 trm \" ><span class=\"txtu cld\">h </span></div></div></div></div></div></div><div class=\"contnr c1    \" ><div class=\"children hor  \"><div class=\"contnr c1    \" ><div class=\"children hor  \"><div class=\"contnr c0 trm   \" ><div class=\"lbl c0 trm \" ><span class=\"txtu cld\">N</span></div></div><div class=\"contnr c0 trm   \" ><div class=\"lbl c0 trm \" ><span class=\"txtu cld\">a</span></div></div><div class=\"contnr c0 trm   \" ><div class=\"lbl c0 trm \" ><span class=\"txtu cld\">ṣ</span></div></div><div class=\"contnr c0 trm   \" ><div class=\"lbl c0 trm \" ><span class=\"txtu cld\">r</span></div></div><div class=\"contnr c0 trm   \" ><div class=\"lbl c0 trm \" ><span class=\"txtu cld\">à</span></div></div><div class=\"contnr c0 trm   \" ><div class=\"lbl c0 trm \" ><span class=\"txtu cld\">d</span></div></div><div class=\"contnr c0 trm   \" ><div class=\"lbl c0 trm \" ><span class=\"txtu cld\">i</span></div></div><div class=\"contnr c0 trm   \" ><div class=\"lbl c0 trm \" ><span class=\"txtu cld\">n,ˈ </span></div></div></div></div></div></div></div></div><div class=\"contnr c1    \" ><div class=\"children hor  \"><div class=\"contnr c1    \" ><div class=\"children hor  \"><div class=\"contnr c1    \" ><div class=\"children hor  \"><div class=\"contnr c0 trm   \" ><div class=\"lbl c0 trm \" ><span class=\"txtu cld\">x</span></div></div><div class=\"contnr c0 trm   \" ><div class=\"lbl c0 trm \" ><span class=\"txtu cld\">á</span></div></div><div class=\"contnr c0 trm   \" ><div class=\"lbl c0 trm \" ><span class=\"txtu cld\">z</span></div></div><div class=\"contnr c0 trm   \" ><div class=\"lbl c0 trm \" ><span class=\"txtu cld\">ə</span></div></div><div class=\"contnr c0 trm   \" ><div class=\"lbl c0 trm \" ><span class=\"txtu cld\">x </span></div></div></div></div></div></div><div class=\"contnr c1    \" ><div class=\"children hor  \"><div class=\"contnr c1    \" ><div class=\"children hor  \"><div class=\"contnr c0 trm   \" ><div class=\"lbl c0 trm \" ><span class=\"txtu cld\">m</span></div></div><div class=\"contnr c0 trm   \" ><div class=\"lbl c0 trm \" ><span class=\"txtu cld\">ò</span></div></div><div class=\"contnr c0 trm   \" ><div class=\"lbl c0 trm \" ><span class=\"txtu cld\">d</span></div></div><div class=\"contnr c0 trm   \" ><div class=\"lbl c0 trm \" ><span class=\"txtu cld\">i </span></div></div></div></div></div></div><div class=\"contnr c1    \" ><div class=\"children hor  \"><div class=\"contnr c1    \" ><div class=\"children hor  \"><div class=\"contnr c0 trm   \" ><div class=\"lbl c0 trm \" ><span class=\"txtu cld\">w</span></div></div><div class=\"contnr c0 trm   \" ><div class=\"lbl c0 trm \" ><span class=\"txtu cld\">í</span></div></div><div class=\"contnr c0 trm   \" ><div class=\"lbl c0 trm \" ><span class=\"txtu cld\">ð</span></div></div><div class=\"contnr c0 trm   \" ><div class=\"lbl c0 trm \" ><span class=\"txtu cld\">a.ˈ </span></div></div></div></div></div></div></div></div></div></div><div class=\"contnr c2    \" ><div class=\"children hor wrap \"><div class=\"contnr c1    \" ><div class=\"children hor  \"><div class=\"contnr c1    \" ><div class=\"children hor  \"><div class=\"contnr c1    \" ><div class=\"children hor  \"><div class=\"contnr c0 trm   \" ><div class=\"lbl c0 trm \" ><span class=\"txtu cld\">g</span></div></div><div class=\"contnr c0 trm   \" ><div class=\"lbl c0 trm \" ><span class=\"txtu cld\">u-</span></div></div></div></div><div class=\"contnr c1    \" ><div class=\"children hor  \"><div class=\"contnr c0 trm   \" ><div class=\"lbl c0 trm \" ><span class=\"txtu cld\">b</span></div></div><div class=\"contnr c0 trm   \" ><div class=\"lbl c0 trm \" ><span class=\"txtu cld\">ɛ̀</span></div></div><div class=\"contnr c0 trm   \" ><div class=\"lbl c0 trm \" ><span class=\"txtu cld\">θ</span></div></div><div class=\"contnr c0 trm   \" ><div class=\"lbl c0 trm \" ><span class=\"txtu cld\">a </span></div></div></div></div></div></div><div class=\"contnr c1    \" ><div class=\"children hor  \"><div class=\"contnr c1    \" ><div class=\"children hor  \"><div class=\"contnr c0 trm   \" ><div class=\"lbl c0 trm \" ><span class=\"txtu cld\">w</span></div></div><div class=\"contnr c0 trm   \" ><div class=\"lbl c0 trm \" ><span class=\"txtu cld\">é</span></div></div><div class=\"contnr c0 trm   \" ><div class=\"lbl c0 trm \" ><span class=\"txtu cld\">w</span></div></div><div class=\"contnr c0 trm   \" ><div class=\"lbl c0 trm \" ><span class=\"txtu cld\">a,ˈ </span></div></div></div></div></div></div></div></div><div class=\"contnr c1    \" ><div class=\"children hor  \"><div class=\"contnr c1    \" ><div class=\"children hor  \"><div class=\"contnr c1    \" ><div class=\"children hor  \"><div class=\"contnr c0 trm   \" ><div class=\"lbl c0 trm \" ><span class=\"txtu cld\">h</span></div></div><div class=\"contnr c0 trm   \" ><div class=\"lbl c0 trm \" ><span class=\"txtu cld\">a</span></div></div><div class=\"contnr c0 trm   \" ><div class=\"lbl c0 trm \" ><span class=\"txtu cld\">r-</span></div></div></div></div><div class=\"contnr c1    \" ><div class=\"children hor  \"><div class=\"contnr c0 trm   \" ><div class=\"lbl c0 trm \" ><span class=\"txtu cld\">z</span></div></div><div class=\"contnr c0 trm   \" ><div class=\"lbl c0 trm \" ><span class=\"txtu cld\">á</span></div></div><div class=\"contnr c0 trm   \" ><div class=\"lbl c0 trm \" ><span class=\"txtu cld\">l</span></div></div><div class=\"contnr c0 trm   \" ><div class=\"lbl c0 trm \" ><span class=\"txtu cld\">a-</span></div></div></div></div><div class=\"contnr c1    \" ><div class=\"children hor  \"><div class=\"contnr c0 trm   \" ><div class=\"lbl c0 trm \" ><span class=\"txtu cld\">w </span></div></div></div></div></div></div><div class=\"contnr c1    \" ><div class=\"children hor  \"><div class=\"contnr c1    \" ><div class=\"children hor  \"><div class=\"contnr c0 trm   \" ><div class=\"lbl c0 trm \" ><span class=\"txtu cld\">θ</span></div></div><div class=\"contnr c0 trm   \" ><div class=\"lbl c0 trm \" ><span class=\"txtu cld\">à</span></div></div><div class=\"contnr c0 trm   \" ><div class=\"lbl c0 trm \" ><span class=\"txtu cld\">y</span></div></div><div class=\"contnr c0 trm   \" ><div class=\"lbl c0 trm \" ><span class=\"txtu cld\">a.ˈ </span></div></div></div></div></div></div></div></div></div></div><div class=\"contnr c2    \" ><div class=\"children hor wrap \"><div class=\"contnr c1    \" ><div class=\"children hor  \"><div class=\"contnr c1    \" ><div class=\"children hor  \"><div class=\"contnr c1    \" ><div class=\"children hor  \"><div class=\"contnr c0 trm   \" ><div class=\"lbl c0 trm \" ><span class=\"txtu cld\">z</span></div></div><div class=\"contnr c0 trm   \" ><div class=\"lbl c0 trm \" ><span class=\"txtu cld\">á</span></div></div><div class=\"contnr c0 trm   \" ><div class=\"lbl c0 trm \" ><span class=\"txtu cld\">l</span></div></div><div class=\"contnr c0 trm   \" ><div class=\"lbl c0 trm \" ><span class=\"txtu cld\">a-</span></div></div></div></div><div class=\"contnr c1    \" ><div class=\"children hor  \"><div class=\"contnr c0 trm   \" ><div class=\"lbl c0 trm \" ><span class=\"txtu cld\">w </span></div></div></div></div></div></div><div class=\"contnr c1    \" ><div class=\"children hor  \"><div class=\"contnr c1    \" ><div class=\"children hor  \"><div class=\"contnr c0 trm   \" ><div class=\"lbl c0 trm \" ><span class=\"txtu cld\">θ</span></div></div><div class=\"contnr c0 trm   \" ><div class=\"lbl c0 trm \" ><span class=\"txtu cld\">à</span></div></div><div class=\"contnr c0 trm   \" ><div class=\"lbl c0 trm \" ><span class=\"txtu cld\">y</span></div></div><div class=\"contnr c0 trm   \" ><div class=\"lbl c0 trm \" ><span class=\"txtu cld\">a,ˈ </span></div></div></div></div></div></div></div></div><div class=\"contnr c1    \" ><div class=\"children hor  \"><div class=\"contnr c1    \" ><div class=\"children hor  \"><div class=\"contnr c1    \" ><div class=\"children hor  \"><div class=\"contnr c0 trm   \" ><div class=\"lbl c0 trm \" ><span class=\"txtu cld\">m</span></div></div><div class=\"contnr c0 trm   \" ><div class=\"lbl c0 trm \" ><span class=\"txtu cld\">á</span></div></div><div class=\"contnr c0 trm   \" ><div class=\"lbl c0 trm \" ><span class=\"txtu cld\">r</span></div></div><div class=\"contnr c0 trm   \" ><div class=\"lbl c0 trm \" ><span class=\"txtu cld\">a </span></div></div></div></div></div></div><div class=\"contnr c1    \" ><div class=\"children hor  \"><div class=\"contnr c1    \" ><div class=\"children hor  \"><div class=\"contnr c0 trm   \" ><div class=\"lbl c0 trm \" ><span class=\"txtu cld\">y</span></div></div><div class=\"contnr c0 trm   \" ><div class=\"lbl c0 trm \" ><span class=\"txtu cld\">a-</span></div></div></div></div><div class=\"contnr c1    \" ><div class=\"children hor  \"><div class=\"contnr c0 trm   \" ><div class=\"lbl c0 trm \" ><span class=\"txtu cld\">ʾ</span></div></div><div class=\"contnr c0 trm   \" ><div class=\"lbl c0 trm \" ><span class=\"txtu cld\">à</span></div></div><div class=\"contnr c0 trm   \" ><div class=\"lbl c0 trm \" ><span class=\"txtu cld\">l</span></div></div><div class=\"contnr c0 trm   \" ><div class=\"lbl c0 trm \" ><span class=\"txtu cld\">a</span></div></div><div class=\"contnr c0 trm   \" ><div class=\"lbl c0 trm \" ><span class=\"txtu cld\">h</span></div></div><div class=\"contnr c0 trm   \" ><div class=\"lbl c0 trm \" ><span class=\"txtu cld\">a,ˈ </span></div></div></div></div></div></div></div></div><div class=\"contnr c1    \" ><div class=\"children hor  \"><div class=\"contnr c1    \" ><div class=\"children hor  \"><div class=\"contnr c1    \" ><div class=\"children hor  \"><div class=\"contnr c0 trm   \" ><div class=\"lbl c0 trm \" ><span class=\"txtu cld\">y</span></div></div><div class=\"contnr c0 trm   \" ><div class=\"lbl c0 trm \" ><span class=\"txtu cld\">a</span></div></div><div class=\"contnr c0 trm   \" ><div class=\"lbl c0 trm \" ><span class=\"txtu cld\">w</span></div></div><div class=\"contnr c0 trm   \" ><div class=\"lbl c0 trm \" ><span class=\"txtu cld\">ə̀</span></div></div><div class=\"contnr c0 trm   \" ><div class=\"lbl c0 trm \" ><span class=\"txtu cld\">t</span></div></div><div class=\"contnr c0 trm   \" ><div class=\"lbl c0 trm \" ><span class=\"txtu cld\">l</span></div></div><div class=\"contnr c0 trm   \" ><div class=\"lbl c0 trm \" ><span class=\"txtu cld\">iˈ </span></div></div></div></div></div></div></div></div><div class=\"contnr c1    \" ><div class=\"children hor  \"><div class=\"contnr c1    \" ><div class=\"children hor  \"><div class=\"contnr c1    \" ><div class=\"children hor  \"><div class=\"contnr c0 trm   \" ><div class=\"lbl c0 trm \" ><span class=\"txtu cld\">ʾ</span></div></div><div class=\"contnr c0 trm   \" ><div class=\"lbl c0 trm \" ><span class=\"txtu cld\">ə́</span></div></div><div class=\"contnr c0 trm   \" ><div class=\"lbl c0 trm \" ><span class=\"txtu cld\">m</span></div></div><div class=\"contnr c0 trm   \" ><div class=\"lbl c0 trm \" ><span class=\"txtu cld\">m</span></div></div><div class=\"contnr c0 trm   \" ><div class=\"lbl c0 trm \" ><span class=\"txtu cld\">a </span></div></div></div></div></div></div><div class=\"contnr c1    \" ><div class=\"children hor  \"><div class=\"contnr c1    \" ><div class=\"children hor  \"><div class=\"contnr c0 trm   \" ><div class=\"lbl c0 trm \" ><span class=\"txtu cld\">d</span></div></div><div class=\"contnr c0 trm   \" ><div class=\"lbl c0 trm \" ><span class=\"txtu cld\">à</span></div></div><div class=\"contnr c0 trm   \" ><div class=\"lbl c0 trm \" ><span class=\"txtu cld\">w</span></div></div><div class=\"contnr c0 trm   \" ><div class=\"lbl c0 trm \" ><span class=\"txtu cld\">e.ˈ </span></div></div></div></div></div></div></div></div></div></div><div class=\"contnr c2    \" ><div class=\"children hor wrap \"><div class=\"contnr c1    \" ><div class=\"children hor  \"><div class=\"contnr c1    \" ><div class=\"children hor  \"><div class=\"contnr c1    \" ><div class=\"children hor  \"><div class=\"contnr c0 trm   \" ><div class=\"lbl c0 trm \" ><span class=\"txtu cld\">ʾ</span></div></div><div class=\"contnr c0 trm   \" ><div class=\"lbl c0 trm \" ><span class=\"txtu cld\">ə</span></div></div><div class=\"contnr c0 trm   \" ><div class=\"lbl c0 trm \" ><span class=\"txtu cld\">n-</span></div></div></div></div><div class=\"contnr c1    \" ><div class=\"children hor  \"><div class=\"contnr c0 trm   \" ><div class=\"lbl c0 trm \" ><span class=\"txtu cld\">h</span></div></div><div class=\"contnr c0 trm   \" ><div class=\"lbl c0 trm \" ><span class=\"txtu cld\">à</span></div></div><div class=\"contnr c0 trm   \" ><div class=\"lbl c0 trm \" ><span class=\"txtu cld\">w</span></div></div><div class=\"contnr c0 trm   \" ><div class=\"lbl c0 trm \" ><span class=\"txtu cld\">aˈ </span></div></div></div></div></div></div></div></div><div class=\"contnr c1    \" ><div class=\"children hor  \"><div class=\"contnr c1    \" ><div class=\"children hor  \"><div class=\"contnr c1    \" ><div class=\"children hor  \"><div class=\"contnr c0 trm   \" ><div class=\"lbl c0 trm \" ><span class=\"txtu cld\">ʾ</span></div></div><div class=\"contnr c0 trm   \" ><div class=\"lbl c0 trm \" ><span class=\"txtu cld\">ə́</span></div></div><div class=\"contnr c0 trm   \" ><div class=\"lbl c0 trm \" ><span class=\"txtu cld\">č̣</span></div></div><div class=\"contnr c0 trm   \" ><div class=\"lbl c0 trm \" ><span class=\"txtu cld\">č̣</span></div></div><div class=\"contnr c0 trm   \" ><div class=\"lbl c0 trm \" ><span class=\"txtu cld\">i-</span></div></div></div></div><div class=\"contnr c1    \" ><div class=\"children hor  \"><div class=\"contnr c0 trm   \" ><div class=\"lbl c0 trm \" ><span class=\"txtu cld\">u </span></div></div></div></div></div></div><div class=\"contnr c1    \" ><div class=\"children hor  \"><div class=\"contnr c1    \" ><div class=\"children hor  \"><div class=\"contnr c0 trm   \" ><div class=\"lbl c0 trm \" ><span class=\"txtu cld\">ʾ</span></div></div><div class=\"contnr c0 trm   \" ><div class=\"lbl c0 trm \" ><span class=\"txtu cld\">ə́</span></div></div><div class=\"contnr c0 trm   \" ><div class=\"lbl c0 trm \" ><span class=\"txtu cld\">č̣</span></div></div><div class=\"contnr c0 trm   \" ><div class=\"lbl c0 trm \" ><span class=\"txtu cld\">č̣</span></div></div><div class=\"contnr c0 trm   \" ><div class=\"lbl c0 trm \" ><span class=\"txtu cld\">a </span></div></div></div></div></div></div><div class=\"contnr c1    \" ><div class=\"children hor  \"><div class=\"contnr c1    \" ><div class=\"children hor  \"><div class=\"contnr c0 trm   \" ><div class=\"lbl c0 trm \" ><span class=\"txtu cld\">m</span></div></div><div class=\"contnr c0 trm   \" ><div class=\"lbl c0 trm \" ><span class=\"txtu cld\">a</span></div></div><div class=\"contnr c0 trm   \" ><div class=\"lbl c0 trm \" ><span class=\"txtu cld\">q</span></div></div><div class=\"contnr c0 trm   \" ><div class=\"lbl c0 trm \" ><span class=\"txtu cld\">ə</span></div></div><div class=\"contnr c0 trm   \" ><div class=\"lbl c0 trm \" ><span class=\"txtu cld\">l</span></div></div><div class=\"contnr c0 trm   \" ><div class=\"lbl c0 trm \" ><span class=\"txtu cld\">b</span></div></div><div class=\"contnr c0 trm   \" ><div class=\"lbl c0 trm \" ><span class=\"txtu cld\">ə̀</span></div></div><div class=\"contnr c0 trm   \" ><div class=\"lbl c0 trm \" ><span class=\"txtu cld\">n</span></div></div><div class=\"contnr c0 trm   \" ><div class=\"lbl c0 trm \" ><span class=\"txtu cld\">n</span></div></div><div class=\"contnr c0 trm   \" ><div class=\"lbl c0 trm \" ><span class=\"txtu cld\">a.ˈ </span></div></div></div></div></div></div></div></div></div></div><div class=\"contnr c2    \" ><div class=\"children hor wrap \"><div class=\"contnr c1    \" ><div class=\"children hor  \"><div class=\"contnr c1    \" ><div class=\"children hor  \"><div class=\"contnr c1    \" ><div class=\"children hor  \"><div class=\"contnr c0 trm   \" ><div class=\"lbl c0 trm \" ><span class=\"txtu cld\">ʾ</span></div></div><div class=\"contnr c0 trm   \" ><div class=\"lbl c0 trm \" ><span class=\"txtu cld\">u-</span></div></div></div></div><div class=\"contnr c1    \" ><div class=\"children hor  \"><div class=\"contnr c0 trm   \" ><div class=\"lbl c0 trm \" ><span class=\"txtu cld\">ʾ</span></div></div><div class=\"contnr c0 trm   \" ><div class=\"lbl c0 trm \" ><span class=\"txtu cld\">ə</span></div></div><div class=\"contnr c0 trm   \" ><div class=\"lbl c0 trm \" ><span class=\"txtu cld\">n-</span></div></div></div></div><div class=\"contnr c1    \" ><div class=\"children hor  \"><div class=\"contnr c0 trm   \" ><div class=\"lbl c0 trm \" ><span class=\"txtu cld\">h</span></div></div><div class=\"contnr c0 trm   \" ><div class=\"lbl c0 trm \" ><span class=\"txtu cld\">à</span></div></div><div class=\"contnr c0 trm   \" ><div class=\"lbl c0 trm \" ><span class=\"txtu cld\">w</span></div></div><div class=\"contnr c0 trm   \" ><div class=\"lbl c0 trm \" ><span class=\"txtu cld\">aˈ </span></div></div></div></div></div></div></div></div><div class=\"contnr c1    \" ><div class=\"children hor  \"><div class=\"contnr c1    \" ><div class=\"children hor  \"><div class=\"contnr c1    \" ><div class=\"children hor  \"><div class=\"contnr c0 trm   \" ><div class=\"lbl c0 trm \" ><span class=\"txtu cld\">ʾ</span></div></div><div class=\"contnr c0 trm   \" ><div class=\"lbl c0 trm \" ><span class=\"txtu cld\">ə́</span></div></div><div class=\"contnr c0 trm   \" ><div class=\"lbl c0 trm \" ><span class=\"txtu cld\">m</span></div></div><div class=\"contnr c0 trm   \" ><div class=\"lbl c0 trm \" ><span class=\"txtu cld\">m</span></div></div><div class=\"contnr c0 trm   \" ><div class=\"lbl c0 trm \" ><span class=\"txtu cld\">a-</span></div></div></div></div><div class=\"contnr c1    \" ><div class=\"children hor  \"><div class=\"contnr c0 trm   \" ><div class=\"lbl c0 trm \" ><span class=\"txtu cld\">w-</span></div></div></div></div><div class=\"contnr c1    \" ><div class=\"children hor  \"><div class=\"contnr c0 trm   \" ><div class=\"lbl c0 trm \" ><span class=\"txtu cld\">x</span></div></div><div class=\"contnr c0 trm   \" ><div class=\"lbl c0 trm \" ><span class=\"txtu cld\">à-</span></div></div></div></div><div class=\"contnr c1    \" ><div class=\"children hor  \"><div class=\"contnr c0 trm   \" ><div class=\"lbl c0 trm \" ><span class=\"txtu cld\">ž</span></div></div><div class=\"contnr c0 trm   \" ><div class=\"lbl c0 trm \" ><span class=\"txtu cld\">i,ˈ </span></div></div></div></div></div></div></div></div><div class=\"contnr c1    \" ><div class=\"children hor  \"><div class=\"contnr c1    \" ><div class=\"children hor  \"><div class=\"contnr c1    \" ><div class=\"children hor  \"><div class=\"contnr c0 trm   \" ><div class=\"lbl c0 trm \" ><span class=\"txtu cld\">l</span></div></div><div class=\"contnr c0 trm   \" ><div class=\"lbl c0 trm \" ><span class=\"txtu cld\">a-</span></div></div></div></div><div class=\"contnr c1    \" ><div class=\"children hor  \"><div class=\"contnr c0 trm   \" ><div class=\"lbl c0 trm \" ><span class=\"txtu cld\">b</span></div></div><div class=\"contnr c0 trm   \" ><div class=\"lbl c0 trm \" ><span class=\"txtu cld\">ă</span></div></div><div class=\"contnr c0 trm   \" ><div class=\"lbl c0 trm \" ><span class=\"txtu cld\">y</span></div></div><div class=\"contnr c0 trm   \" ><div class=\"lbl c0 trm \" ><span class=\"txtu cld\">ə̀</span></div></div><div class=\"contnr c0 trm   \" ><div class=\"lbl c0 trm \" ><span class=\"txtu cld\">n</span></div></div><div class=\"contnr c0 trm   \" ><div class=\"lbl c0 trm \" ><span class=\"txtu cld\">n</span></div></div><div class=\"contnr c0 trm   \" ><div class=\"lbl c0 trm \" ><span class=\"txtu cld\">a.ˈ </span></div></div></div></div></div></div></div></div></div></div><div class=\"contnr c2    \" ><div class=\"children hor wrap \"><div class=\"contnr c1    \" ><div class=\"children hor  \"><div class=\"contnr c1    \" ><div class=\"children hor  \"><div class=\"contnr c1    \" ><div class=\"children hor  \"><div class=\"contnr c0 trm   \" ><div class=\"lbl c0 trm \" ><span class=\"txtu cld\">d</span></div></div><div class=\"contnr c0 trm   \" ><div class=\"lbl c0 trm \" ><span class=\"txtu cld\">e-</span></div></div></div></div><div class=\"contnr c1    \" ><div class=\"children hor  \"><div class=\"contnr c0 trm   \" ><div class=\"lbl c0 trm \" ><span class=\"txtu cld\">š</span></div></div><div class=\"contnr c0 trm   \" ><div class=\"lbl c0 trm \" ><span class=\"txtu cld\">ù</span></div></div><div class=\"contnr c0 trm   \" ><div class=\"lbl c0 trm \" ><span class=\"txtu cld\">q</span></div></div><div class=\"contnr c0 trm   \" ><div class=\"lbl c0 trm \" ><span class=\"txtu cld\">l</span></div></div><div class=\"contnr c0 trm   \" ><div class=\"lbl c0 trm \" ><span class=\"txtu cld\">a.ˈ </span></div></div></div></div></div></div></div></div></div></div><div class=\"contnr c2    \" ><div class=\"children hor wrap \"><div class=\"contnr c1    \" ><div class=\"children hor  \"><div class=\"contnr c1    \" ><div class=\"children hor  \"><div class=\"contnr c1    \" ><div class=\"children hor  \"><div class=\"contnr c0 trm   \" ><div class=\"lbl c0 trm \" ><span class=\"txtu cld\">ʾ</span></div></div><div class=\"contnr c0 trm   \" ><div class=\"lbl c0 trm \" ><span class=\"txtu cld\">ə̀</span></div></div><div class=\"contnr c0 trm   \" ><div class=\"lbl c0 trm \" ><span class=\"txtu cld\">m</span></div></div><div class=\"contnr c0 trm   \" ><div class=\"lbl c0 trm \" ><span class=\"txtu cld\">m</span></div></div><div class=\"contnr c0 trm   \" ><div class=\"lbl c0 trm \" ><span class=\"txtu cld\">a </span></div></div></div></div></div></div><div class=\"contnr c1    \" ><div class=\"children hor  \"><div class=\"contnr c1    \" ><div class=\"children hor  \"><div class=\"contnr c0 trm   \" ><div class=\"lbl c0 trm \" ><span class=\"txtu cld\">g</span></div></div><div class=\"contnr c0 trm   \" ><div class=\"lbl c0 trm \" ><span class=\"txtu cld\">ắ</span></div></div><div class=\"contnr c0 trm   \" ><div class=\"lbl c0 trm \" ><span class=\"txtu cld\">r</span></div></div><div class=\"contnr c0 trm   \" ><div class=\"lbl c0 trm \" ><span class=\"txtu cld\">ə</span></div></div><div class=\"contnr c0 trm   \" ><div class=\"lbl c0 trm \" ><span class=\"txtu cld\">g </span></div></div></div></div></div></div><div class=\"contnr c1    \" ><div class=\"children hor  \"><div class=\"contnr c1    \" ><div class=\"children hor  \"><div class=\"contnr c0 trm   \" ><div class=\"lbl c0 trm \" ><span class=\"txtu cld\">h</span></div></div><div class=\"contnr c0 trm   \" ><div class=\"lbl c0 trm \" ><span class=\"txtu cld\">á</span></div></div><div class=\"contnr c0 trm   \" ><div class=\"lbl c0 trm \" ><span class=\"txtu cld\">w</span></div></div><div class=\"contnr c0 trm   \" ><div class=\"lbl c0 trm \" ><span class=\"txtu cld\">a </span></div></div></div></div></div></div><div class=\"contnr c1    \" ><div class=\"children hor  \"><div class=\"contnr c1    \" ><div class=\"children hor  \"><div class=\"contnr c0 trm   \" ><div class=\"lbl c0 trm \" ><span class=\"txtu cld\">d</span></div></div><div class=\"contnr c0 trm   \" ><div class=\"lbl c0 trm \" ><span class=\"txtu cld\">r</span></div></div><div class=\"contnr c0 trm   \" ><div class=\"lbl c0 trm \" ><span class=\"txtu cld\">ə́</span></div></div><div class=\"contnr c0 trm   \" ><div class=\"lbl c0 trm \" ><span class=\"txtu cld\">s</span></div></div><div class=\"contnr c0 trm   \" ><div class=\"lbl c0 trm \" ><span class=\"txtu cld\">t.ˈ </span></div></div></div></div></div></div></div></div></div></div></div></div></div>"
      ],
      "text/plain": [
       "<IPython.core.display.HTML object>"
      ]
     },
     "metadata": {},
     "output_type": "display_data"
    },
    {
     "data": {
      "text/markdown": [
       "### sentence 578263\n"
      ],
      "text/plain": [
       "<IPython.core.display.Markdown object>"
      ]
     },
     "metadata": {},
     "output_type": "display_data"
    },
    {
     "data": {
      "text/html": [
       "<div class=\" children\"><span class=\"section ltr\"><a target=\"_blank\" href=\"https://github.com/CambridgeSemiticsLab/nena_corpus/blob/master/nena/0.02/Barwar/A Hundred Gold Coins.nena\" title=\"Show this title in the NENA repository\" sec=\"Barwar, A Hundred Gold Coins, Ln. 1\">Barwar, A Hundred Gold Coins, Ln. 1</a></span> <span class=\"plain outer   \" ><span class=\"plain txtu cld \"></span><span class=\"plain    \" ><span class=\"plain txtu cld \"></span><span class=\"plain    \" ><span class=\"plain txtu cld \"></span><span class=\"plain    \" ><span class=\"plain txtu cld \"></span><span class=\"plain    \" ><span class=\"txtu cld\">x</span></span><span class=\"plain    \" ><span class=\"txtu cld\">á-</span></span></span><span class=\"plain    \" ><span class=\"plain txtu cld \"></span><span class=\"plain    \" ><span class=\"txtu cld\">g</span></span><span class=\"plain    \" ><span class=\"txtu cld\">a </span></span></span></span><span class=\"plain    \" ><span class=\"plain txtu cld \"></span><span class=\"plain    \" ><span class=\"plain txtu cld \"></span><span class=\"plain    \" ><span class=\"txtu cld\">x</span></span><span class=\"plain    \" ><span class=\"txtu cld\">è</span></span><span class=\"plain    \" ><span class=\"txtu cld\">t</span></span><span class=\"plain    \" ><span class=\"txtu cld\">a,ˈ </span></span></span></span></span><span class=\"plain    \" ><span class=\"plain txtu cld \"></span><span class=\"plain    \" ><span class=\"plain txtu cld \"></span><span class=\"plain    \" ><span class=\"plain txtu cld \"></span><span class=\"plain    \" ><span class=\"txtu cld\">m</span></span><span class=\"plain    \" ><span class=\"txtu cld\">á</span></span><span class=\"plain    \" ><span class=\"txtu cld\">l</span></span><span class=\"plain    \" ><span class=\"txtu cld\">l</span></span><span class=\"plain    \" ><span class=\"txtu cld\">a</span></span><span class=\"plain    \" ><span class=\"txtu cld\">h </span></span></span></span><span class=\"plain    \" ><span class=\"plain txtu cld \"></span><span class=\"plain    \" ><span class=\"plain txtu cld \"></span><span class=\"plain    \" ><span class=\"txtu cld\">N</span></span><span class=\"plain    \" ><span class=\"txtu cld\">a</span></span><span class=\"plain    \" ><span class=\"txtu cld\">ṣ</span></span><span class=\"plain    \" ><span class=\"txtu cld\">r</span></span><span class=\"plain    \" ><span class=\"txtu cld\">à</span></span><span class=\"plain    \" ><span class=\"txtu cld\">d</span></span><span class=\"plain    \" ><span class=\"txtu cld\">i</span></span><span class=\"plain    \" ><span class=\"txtu cld\">n,ˈ </span></span></span></span></span><span class=\"plain    \" ><span class=\"plain txtu cld \"></span><span class=\"plain    \" ><span class=\"plain txtu cld \"></span><span class=\"plain    \" ><span class=\"plain txtu cld \"></span><span class=\"plain    \" ><span class=\"txtu cld\">x</span></span><span class=\"plain    \" ><span class=\"txtu cld\">á</span></span><span class=\"plain    \" ><span class=\"txtu cld\">z</span></span><span class=\"plain    \" ><span class=\"txtu cld\">ə</span></span><span class=\"plain    \" ><span class=\"txtu cld\">x </span></span></span></span><span class=\"plain    \" ><span class=\"plain txtu cld \"></span><span class=\"plain    \" ><span class=\"plain txtu cld \"></span><span class=\"plain    \" ><span class=\"txtu cld\">m</span></span><span class=\"plain    \" ><span class=\"txtu cld\">ò</span></span><span class=\"plain    \" ><span class=\"txtu cld\">d</span></span><span class=\"plain    \" ><span class=\"txtu cld\">i </span></span></span></span><span class=\"plain    \" ><span class=\"plain txtu cld \"></span><span class=\"plain    \" ><span class=\"plain txtu cld \"></span><span class=\"plain    \" ><span class=\"txtu cld\">w</span></span><span class=\"plain    \" ><span class=\"txtu cld\">í</span></span><span class=\"plain    \" ><span class=\"txtu cld\">ð</span></span><span class=\"plain    \" ><span class=\"txtu cld\">a.ˈ </span></span></span></span></span></span></div>"
      ],
      "text/plain": [
       "<IPython.core.display.HTML object>"
      ]
     },
     "metadata": {},
     "output_type": "display_data"
    },
    {
     "data": {
      "text/html": [
       "<span class=\"section ltr\"><a target=\"_blank\" href=\"https://github.com/CambridgeSemiticsLab/nena_corpus/blob/master/nena/0.02/Barwar/A Hundred Gold Coins.nena\" title=\"Show this title in the NENA repository\" sec=\"Barwar, A Hundred Gold Coins, Ln. 1\">Barwar, A Hundred Gold Coins, Ln. 1</a></span><div class=\" children\"><div class=\"contnr c2    \" ><div class=\"children hor wrap \"><div class=\"contnr c1    \" ><div class=\"children hor  \"><div class=\"contnr c1    \" ><div class=\"children hor  \"><div class=\"contnr c1    \" ><div class=\"children hor  \"><div class=\"contnr c0 trm   \" ><div class=\"lbl c0 trm \" ><span class=\"txtu cld\">x</span></div></div><div class=\"contnr c0 trm   \" ><div class=\"lbl c0 trm \" ><span class=\"txtu cld\">á-</span></div></div></div></div><div class=\"contnr c1    \" ><div class=\"children hor  \"><div class=\"contnr c0 trm   \" ><div class=\"lbl c0 trm \" ><span class=\"txtu cld\">g</span></div></div><div class=\"contnr c0 trm   \" ><div class=\"lbl c0 trm \" ><span class=\"txtu cld\">a </span></div></div></div></div></div></div><div class=\"contnr c1    \" ><div class=\"children hor  \"><div class=\"contnr c1    \" ><div class=\"children hor  \"><div class=\"contnr c0 trm   \" ><div class=\"lbl c0 trm \" ><span class=\"txtu cld\">x</span></div></div><div class=\"contnr c0 trm   \" ><div class=\"lbl c0 trm \" ><span class=\"txtu cld\">è</span></div></div><div class=\"contnr c0 trm   \" ><div class=\"lbl c0 trm \" ><span class=\"txtu cld\">t</span></div></div><div class=\"contnr c0 trm   \" ><div class=\"lbl c0 trm \" ><span class=\"txtu cld\">a,ˈ </span></div></div></div></div></div></div></div></div><div class=\"contnr c1    \" ><div class=\"children hor  \"><div class=\"contnr c1    \" ><div class=\"children hor  \"><div class=\"contnr c1    \" ><div class=\"children hor  \"><div class=\"contnr c0 trm   \" ><div class=\"lbl c0 trm \" ><span class=\"txtu cld\">m</span></div></div><div class=\"contnr c0 trm   \" ><div class=\"lbl c0 trm \" ><span class=\"txtu cld\">á</span></div></div><div class=\"contnr c0 trm   \" ><div class=\"lbl c0 trm \" ><span class=\"txtu cld\">l</span></div></div><div class=\"contnr c0 trm   \" ><div class=\"lbl c0 trm \" ><span class=\"txtu cld\">l</span></div></div><div class=\"contnr c0 trm   \" ><div class=\"lbl c0 trm \" ><span class=\"txtu cld\">a</span></div></div><div class=\"contnr c0 trm   \" ><div class=\"lbl c0 trm \" ><span class=\"txtu cld\">h </span></div></div></div></div></div></div><div class=\"contnr c1    \" ><div class=\"children hor  \"><div class=\"contnr c1    \" ><div class=\"children hor  \"><div class=\"contnr c0 trm   \" ><div class=\"lbl c0 trm \" ><span class=\"txtu cld\">N</span></div></div><div class=\"contnr c0 trm   \" ><div class=\"lbl c0 trm \" ><span class=\"txtu cld\">a</span></div></div><div class=\"contnr c0 trm   \" ><div class=\"lbl c0 trm \" ><span class=\"txtu cld\">ṣ</span></div></div><div class=\"contnr c0 trm   \" ><div class=\"lbl c0 trm \" ><span class=\"txtu cld\">r</span></div></div><div class=\"contnr c0 trm   \" ><div class=\"lbl c0 trm \" ><span class=\"txtu cld\">à</span></div></div><div class=\"contnr c0 trm   \" ><div class=\"lbl c0 trm \" ><span class=\"txtu cld\">d</span></div></div><div class=\"contnr c0 trm   \" ><div class=\"lbl c0 trm \" ><span class=\"txtu cld\">i</span></div></div><div class=\"contnr c0 trm   \" ><div class=\"lbl c0 trm \" ><span class=\"txtu cld\">n,ˈ </span></div></div></div></div></div></div></div></div><div class=\"contnr c1    \" ><div class=\"children hor  \"><div class=\"contnr c1    \" ><div class=\"children hor  \"><div class=\"contnr c1    \" ><div class=\"children hor  \"><div class=\"contnr c0 trm   \" ><div class=\"lbl c0 trm \" ><span class=\"txtu cld\">x</span></div></div><div class=\"contnr c0 trm   \" ><div class=\"lbl c0 trm \" ><span class=\"txtu cld\">á</span></div></div><div class=\"contnr c0 trm   \" ><div class=\"lbl c0 trm \" ><span class=\"txtu cld\">z</span></div></div><div class=\"contnr c0 trm   \" ><div class=\"lbl c0 trm \" ><span class=\"txtu cld\">ə</span></div></div><div class=\"contnr c0 trm   \" ><div class=\"lbl c0 trm \" ><span class=\"txtu cld\">x </span></div></div></div></div></div></div><div class=\"contnr c1    \" ><div class=\"children hor  \"><div class=\"contnr c1    \" ><div class=\"children hor  \"><div class=\"contnr c0 trm   \" ><div class=\"lbl c0 trm \" ><span class=\"txtu cld\">m</span></div></div><div class=\"contnr c0 trm   \" ><div class=\"lbl c0 trm \" ><span class=\"txtu cld\">ò</span></div></div><div class=\"contnr c0 trm   \" ><div class=\"lbl c0 trm \" ><span class=\"txtu cld\">d</span></div></div><div class=\"contnr c0 trm   \" ><div class=\"lbl c0 trm \" ><span class=\"txtu cld\">i </span></div></div></div></div></div></div><div class=\"contnr c1    \" ><div class=\"children hor  \"><div class=\"contnr c1    \" ><div class=\"children hor  \"><div class=\"contnr c0 trm   \" ><div class=\"lbl c0 trm \" ><span class=\"txtu cld\">w</span></div></div><div class=\"contnr c0 trm   \" ><div class=\"lbl c0 trm \" ><span class=\"txtu cld\">í</span></div></div><div class=\"contnr c0 trm   \" ><div class=\"lbl c0 trm \" ><span class=\"txtu cld\">ð</span></div></div><div class=\"contnr c0 trm   \" ><div class=\"lbl c0 trm \" ><span class=\"txtu cld\">a.ˈ </span></div></div></div></div></div></div></div></div></div></div></div>"
      ],
      "text/plain": [
       "<IPython.core.display.HTML object>"
      ]
     },
     "metadata": {},
     "output_type": "display_data"
    },
    {
     "data": {
      "text/markdown": [
       "### subsentence 688732\n"
      ],
      "text/plain": [
       "<IPython.core.display.Markdown object>"
      ]
     },
     "metadata": {},
     "output_type": "display_data"
    },
    {
     "data": {
      "text/html": [
       "<div class=\" children\"><span class=\"section ltr\"><a target=\"_blank\" href=\"https://github.com/CambridgeSemiticsLab/nena_corpus/blob/master/nena/0.02/Barwar/A Hundred Gold Coins.nena\" title=\"Show this title in the NENA repository\" sec=\"Barwar, A Hundred Gold Coins, Ln. 1\">Barwar, A Hundred Gold Coins, Ln. 1</a></span> <span class=\"plain outer   \" ><span class=\"plain txtu cld \"></span><span class=\"plain    \" ><span class=\"plain txtu cld \"></span><span class=\"plain    \" ><span class=\"plain txtu cld \"></span><span class=\"plain    \" ><span class=\"plain txtu cld \"></span><span class=\"plain    \" ><span class=\"txtu cld\">x</span></span><span class=\"plain    \" ><span class=\"txtu cld\">á-</span></span></span><span class=\"plain    \" ><span class=\"plain txtu cld \"></span><span class=\"plain    \" ><span class=\"txtu cld\">g</span></span><span class=\"plain    \" ><span class=\"txtu cld\">a </span></span></span></span><span class=\"plain    \" ><span class=\"plain txtu cld \"></span><span class=\"plain    \" ><span class=\"plain txtu cld \"></span><span class=\"plain    \" ><span class=\"txtu cld\">x</span></span><span class=\"plain    \" ><span class=\"txtu cld\">è</span></span><span class=\"plain    \" ><span class=\"txtu cld\">t</span></span><span class=\"plain    \" ><span class=\"txtu cld\">a,ˈ </span></span></span></span></span></span></div>"
      ],
      "text/plain": [
       "<IPython.core.display.HTML object>"
      ]
     },
     "metadata": {},
     "output_type": "display_data"
    },
    {
     "data": {
      "text/html": [
       "<span class=\"section ltr\"><a target=\"_blank\" href=\"https://github.com/CambridgeSemiticsLab/nena_corpus/blob/master/nena/0.02/Barwar/A Hundred Gold Coins.nena\" title=\"Show this title in the NENA repository\" sec=\"Barwar, A Hundred Gold Coins, Ln. 1\">Barwar, A Hundred Gold Coins, Ln. 1</a></span><div class=\" children\"><div class=\"contnr c2    \" ><div class=\"children hor wrap \"><div class=\"contnr c1    \" ><div class=\"children hor  \"><div class=\"contnr c1    \" ><div class=\"children hor  \"><div class=\"contnr c1    \" ><div class=\"children hor  \"><div class=\"contnr c0 trm   \" ><div class=\"lbl c0 trm \" ><span class=\"txtu cld\">x</span></div></div><div class=\"contnr c0 trm   \" ><div class=\"lbl c0 trm \" ><span class=\"txtu cld\">á-</span></div></div></div></div><div class=\"contnr c1    \" ><div class=\"children hor  \"><div class=\"contnr c0 trm   \" ><div class=\"lbl c0 trm \" ><span class=\"txtu cld\">g</span></div></div><div class=\"contnr c0 trm   \" ><div class=\"lbl c0 trm \" ><span class=\"txtu cld\">a </span></div></div></div></div></div></div><div class=\"contnr c1    \" ><div class=\"children hor  \"><div class=\"contnr c1    \" ><div class=\"children hor  \"><div class=\"contnr c0 trm   \" ><div class=\"lbl c0 trm \" ><span class=\"txtu cld\">x</span></div></div><div class=\"contnr c0 trm   \" ><div class=\"lbl c0 trm \" ><span class=\"txtu cld\">è</span></div></div><div class=\"contnr c0 trm   \" ><div class=\"lbl c0 trm \" ><span class=\"txtu cld\">t</span></div></div><div class=\"contnr c0 trm   \" ><div class=\"lbl c0 trm \" ><span class=\"txtu cld\">a,ˈ </span></div></div></div></div></div></div></div></div></div></div></div>"
      ],
      "text/plain": [
       "<IPython.core.display.HTML object>"
      ]
     },
     "metadata": {},
     "output_type": "display_data"
    },
    {
     "data": {
      "text/markdown": [
       "### inton 539384\n"
      ],
      "text/plain": [
       "<IPython.core.display.Markdown object>"
      ]
     },
     "metadata": {},
     "output_type": "display_data"
    },
    {
     "data": {
      "text/html": [
       "<div class=\" children\"><span class=\"section ltr\"><a target=\"_blank\" href=\"https://github.com/CambridgeSemiticsLab/nena_corpus/blob/master/nena/0.02/Barwar/A Hundred Gold Coins.nena\" title=\"Show this title in the NENA repository\" sec=\"Barwar, A Hundred Gold Coins, Ln. 1\">Barwar, A Hundred Gold Coins, Ln. 1</a></span> <span class=\"plain outer   \" ><span class=\"plain txtu cld \"></span><span class=\"plain    \" ><span class=\"plain txtu cld \"></span><span class=\"plain    \" ><span class=\"plain txtu cld \"></span><span class=\"plain    \" ><span class=\"txtu cld\">x</span></span><span class=\"plain    \" ><span class=\"txtu cld\">á-</span></span></span><span class=\"plain    \" ><span class=\"plain txtu cld \"></span><span class=\"plain    \" ><span class=\"txtu cld\">g</span></span><span class=\"plain    \" ><span class=\"txtu cld\">a </span></span></span></span><span class=\"plain    \" ><span class=\"plain txtu cld \"></span><span class=\"plain    \" ><span class=\"plain txtu cld \"></span><span class=\"plain    \" ><span class=\"txtu cld\">x</span></span><span class=\"plain    \" ><span class=\"txtu cld\">è</span></span><span class=\"plain    \" ><span class=\"txtu cld\">t</span></span><span class=\"plain    \" ><span class=\"txtu cld\">a,ˈ </span></span></span></span></span></div>"
      ],
      "text/plain": [
       "<IPython.core.display.HTML object>"
      ]
     },
     "metadata": {},
     "output_type": "display_data"
    },
    {
     "data": {
      "text/html": [
       "<span class=\"section ltr\"><a target=\"_blank\" href=\"https://github.com/CambridgeSemiticsLab/nena_corpus/blob/master/nena/0.02/Barwar/A Hundred Gold Coins.nena\" title=\"Show this title in the NENA repository\" sec=\"Barwar, A Hundred Gold Coins, Ln. 1\">Barwar, A Hundred Gold Coins, Ln. 1</a></span><div class=\" children\"><div class=\"contnr c1    \" ><div class=\"children hor  \"><div class=\"contnr c1    \" ><div class=\"children hor  \"><div class=\"contnr c1    \" ><div class=\"children hor  \"><div class=\"contnr c0 trm   \" ><div class=\"lbl c0 trm \" ><span class=\"txtu cld\">x</span></div></div><div class=\"contnr c0 trm   \" ><div class=\"lbl c0 trm \" ><span class=\"txtu cld\">á-</span></div></div></div></div><div class=\"contnr c1    \" ><div class=\"children hor  \"><div class=\"contnr c0 trm   \" ><div class=\"lbl c0 trm \" ><span class=\"txtu cld\">g</span></div></div><div class=\"contnr c0 trm   \" ><div class=\"lbl c0 trm \" ><span class=\"txtu cld\">a </span></div></div></div></div></div></div><div class=\"contnr c1    \" ><div class=\"children hor  \"><div class=\"contnr c1    \" ><div class=\"children hor  \"><div class=\"contnr c0 trm   \" ><div class=\"lbl c0 trm \" ><span class=\"txtu cld\">x</span></div></div><div class=\"contnr c0 trm   \" ><div class=\"lbl c0 trm \" ><span class=\"txtu cld\">è</span></div></div><div class=\"contnr c0 trm   \" ><div class=\"lbl c0 trm \" ><span class=\"txtu cld\">t</span></div></div><div class=\"contnr c0 trm   \" ><div class=\"lbl c0 trm \" ><span class=\"txtu cld\">a,ˈ </span></div></div></div></div></div></div></div></div></div>"
      ],
      "text/plain": [
       "<IPython.core.display.HTML object>"
      ]
     },
     "metadata": {},
     "output_type": "display_data"
    },
    {
     "data": {
      "text/markdown": [
       "### stress 594970\n"
      ],
      "text/plain": [
       "<IPython.core.display.Markdown object>"
      ]
     },
     "metadata": {},
     "output_type": "display_data"
    },
    {
     "data": {
      "text/html": [
       "<div class=\" children\"><span class=\"section ltr\"><a target=\"_blank\" href=\"https://github.com/CambridgeSemiticsLab/nena_corpus/blob/master/nena/0.02/Barwar/A Hundred Gold Coins.nena\" title=\"Show this title in the NENA repository\" sec=\"Barwar, A Hundred Gold Coins, Ln. 1\">Barwar, A Hundred Gold Coins, Ln. 1</a></span> <span class=\"plain outer   \" ><span class=\"plain txtu cld \"></span><span class=\"plain    \" ><span class=\"plain txtu cld \"></span><span class=\"plain    \" ><span class=\"txtu cld\">x</span></span><span class=\"plain    \" ><span class=\"txtu cld\">á-</span></span></span><span class=\"plain    \" ><span class=\"plain txtu cld \"></span><span class=\"plain    \" ><span class=\"txtu cld\">g</span></span><span class=\"plain    \" ><span class=\"txtu cld\">a </span></span></span></span></div>"
      ],
      "text/plain": [
       "<IPython.core.display.HTML object>"
      ]
     },
     "metadata": {},
     "output_type": "display_data"
    },
    {
     "data": {
      "text/html": [
       "<span class=\"section ltr\"><a target=\"_blank\" href=\"https://github.com/CambridgeSemiticsLab/nena_corpus/blob/master/nena/0.02/Barwar/A Hundred Gold Coins.nena\" title=\"Show this title in the NENA repository\" sec=\"Barwar, A Hundred Gold Coins, Ln. 1\">Barwar, A Hundred Gold Coins, Ln. 1</a></span><div class=\" children\"><div class=\"contnr c1    \" ><div class=\"children hor  \"><div class=\"contnr c1    \" ><div class=\"children hor  \"><div class=\"contnr c0 trm   \" ><div class=\"lbl c0 trm \" ><span class=\"txtu cld\">x</span></div></div><div class=\"contnr c0 trm   \" ><div class=\"lbl c0 trm \" ><span class=\"txtu cld\">á-</span></div></div></div></div><div class=\"contnr c1    \" ><div class=\"children hor  \"><div class=\"contnr c0 trm   \" ><div class=\"lbl c0 trm \" ><span class=\"txtu cld\">g</span></div></div><div class=\"contnr c0 trm   \" ><div class=\"lbl c0 trm \" ><span class=\"txtu cld\">a </span></div></div></div></div></div></div></div>"
      ],
      "text/plain": [
       "<IPython.core.display.HTML object>"
      ]
     },
     "metadata": {},
     "output_type": "display_data"
    },
    {
     "data": {
      "text/markdown": [
       "### word 713385\n"
      ],
      "text/plain": [
       "<IPython.core.display.Markdown object>"
      ]
     },
     "metadata": {},
     "output_type": "display_data"
    },
    {
     "data": {
      "text/html": [
       "<div class=\" children\"><span class=\"section ltr\"><a target=\"_blank\" href=\"https://github.com/CambridgeSemiticsLab/nena_corpus/blob/master/nena/0.02/Barwar/A Hundred Gold Coins.nena\" title=\"Show this title in the NENA repository\" sec=\"Barwar, A Hundred Gold Coins, Ln. 1\">Barwar, A Hundred Gold Coins, Ln. 1</a></span> <span class=\"plain outer   \" ><span class=\"plain txtu cld \"></span><span class=\"plain    \" ><span class=\"txtu cld\">x</span></span><span class=\"plain    \" ><span class=\"txtu cld\">á-</span></span></span></div>"
      ],
      "text/plain": [
       "<IPython.core.display.HTML object>"
      ]
     },
     "metadata": {},
     "output_type": "display_data"
    },
    {
     "data": {
      "text/html": [
       "<span class=\"section ltr\"><a target=\"_blank\" href=\"https://github.com/CambridgeSemiticsLab/nena_corpus/blob/master/nena/0.02/Barwar/A Hundred Gold Coins.nena\" title=\"Show this title in the NENA repository\" sec=\"Barwar, A Hundred Gold Coins, Ln. 1\">Barwar, A Hundred Gold Coins, Ln. 1</a></span><div class=\" children\"><div class=\"contnr c1    \" ><div class=\"children hor  \"><div class=\"contnr c0 trm   \" ><div class=\"lbl c0 trm \" ><span class=\"txtu cld\">x</span></div></div><div class=\"contnr c0 trm   \" ><div class=\"lbl c0 trm \" ><span class=\"txtu cld\">á-</span></div></div></div></div></div>"
      ],
      "text/plain": [
       "<IPython.core.display.HTML object>"
      ]
     },
     "metadata": {},
     "output_type": "display_data"
    },
    {
     "data": {
      "text/markdown": [
       "### letter 1\n"
      ],
      "text/plain": [
       "<IPython.core.display.Markdown object>"
      ]
     },
     "metadata": {},
     "output_type": "display_data"
    },
    {
     "data": {
      "text/html": [
       "<div class=\" children\"><span class=\"section ltr\"><a target=\"_blank\" href=\"https://github.com/CambridgeSemiticsLab/nena_corpus/blob/master/nena/0.02/Barwar/A Hundred Gold Coins.nena\" title=\"Show this title in the NENA repository\" sec=\"Barwar, A Hundred Gold Coins, Ln. 1\">Barwar, A Hundred Gold Coins, Ln. 1</a></span> <span class=\"plain outer   \" ><span class=\"txtu cld\">x</span></span></div>"
      ],
      "text/plain": [
       "<IPython.core.display.HTML object>"
      ]
     },
     "metadata": {},
     "output_type": "display_data"
    },
    {
     "data": {
      "text/html": [
       "<span class=\"section ltr\"><a target=\"_blank\" href=\"https://github.com/CambridgeSemiticsLab/nena_corpus/blob/master/nena/0.02/Barwar/A Hundred Gold Coins.nena\" title=\"Show this title in the NENA repository\" sec=\"Barwar, A Hundred Gold Coins, Ln. 1\">Barwar, A Hundred Gold Coins, Ln. 1</a></span><div class=\" children\"><div class=\"contnr c0 trm   \" ><div class=\"lbl c0 trm \" ><span class=\"txtu cld\">x</span></div></div></div>"
      ],
      "text/plain": [
       "<IPython.core.display.HTML object>"
      ]
     },
     "metadata": {},
     "output_type": "display_data"
    }
   ],
   "source": [
    "typeShow(A, prettyTypes=False, baseTypes=set())"
   ]
  },
  {
   "cell_type": "code",
   "execution_count": 26,
   "metadata": {},
   "outputs": [
    {
     "data": {
      "text/markdown": [
       "### dialect 539382\n"
      ],
      "text/plain": [
       "<IPython.core.display.Markdown object>"
      ]
     },
     "metadata": {},
     "output_type": "display_data"
    },
    {
     "data": {
      "text/html": [
       "<div class=\" children\"><span class=\"section ltr\"><a target=\"_blank\" href=\"https://github.com/CambridgeSemiticsLab/nena_corpus/blob/master/nena/0.02/Barwar/A Hundred Gold Coins.nena\" title=\"Show this title in the NENA repository\" sec=\"Barwar\">Barwar</a></span> <span class=\"plain outer   \" ><span class=\"plain txtu cld \"><span class=\"section\"> </span></span></span></div>"
      ],
      "text/plain": [
       "<IPython.core.display.HTML object>"
      ]
     },
     "metadata": {},
     "output_type": "display_data"
    },
    {
     "data": {
      "text/html": [
       "<span class=\"section ltr\"><a target=\"_blank\" href=\"https://github.com/CambridgeSemiticsLab/nena_corpus/blob/master/nena/0.02/Barwar/A Hundred Gold Coins.nena\" title=\"Show this title in the NENA repository\" sec=\"Barwar\">Barwar</a></span><div class=\" children\"><div class=\"contnr c4 trm   \" ><div class=\"lbl c4 trm \" ><span class=\"nd\">dialect</span> <span class=\"txtu cld\"><span title=\"dialect\">Barwar</span></span></div></div></div>"
      ],
      "text/plain": [
       "<IPython.core.display.HTML object>"
      ]
     },
     "metadata": {},
     "output_type": "display_data"
    },
    {
     "data": {
      "text/markdown": [
       "### text 713259\n"
      ],
      "text/plain": [
       "<IPython.core.display.Markdown object>"
      ]
     },
     "metadata": {},
     "output_type": "display_data"
    },
    {
     "data": {
      "text/html": [
       "<div class=\" children\"><span class=\"section ltr\"><a target=\"_blank\" href=\"https://github.com/CambridgeSemiticsLab/nena_corpus/blob/master/nena/0.02/Barwar/A Hundred Gold Coins.nena\" title=\"Show this title in the NENA repository\" sec=\"Barwar, A Hundred Gold Coins\">Barwar, A Hundred Gold Coins</a></span> <span class=\"plain outer   \" ><span class=\"plain txtu cld \"><span class=\"section\"> </span></span></span></div>"
      ],
      "text/plain": [
       "<IPython.core.display.HTML object>"
      ]
     },
     "metadata": {},
     "output_type": "display_data"
    },
    {
     "data": {
      "text/html": [
       "<span class=\"section ltr\"><a target=\"_blank\" href=\"https://github.com/CambridgeSemiticsLab/nena_corpus/blob/master/nena/0.02/Barwar/A Hundred Gold Coins.nena\" title=\"Show this title in the NENA repository\" sec=\"Barwar, A Hundred Gold Coins\">Barwar, A Hundred Gold Coins</a></span><div class=\" children\"><div class=\"contnr c4 trm   \" ><div class=\"lbl c4 trm \" ><span class=\"nd\">text</span> <span class=\"txtu cld\"><span title=\"text_id\">A6</span></span></div><div class='features'><span class=\"informant \" title=\"informant\">Yuwəl Yuḥanna</span><span class=\"title \" ><span class=\"f\">title=</span>A Hundred Gold Coins</span><span class=\"place \" ><span class=\"f\">place=</span>Dure</span></div></div></div>"
      ],
      "text/plain": [
       "<IPython.core.display.HTML object>"
      ]
     },
     "metadata": {},
     "output_type": "display_data"
    },
    {
     "data": {
      "text/markdown": [
       "### paragraph 577912\n"
      ],
      "text/plain": [
       "<IPython.core.display.Markdown object>"
      ]
     },
     "metadata": {},
     "output_type": "display_data"
    },
    {
     "data": {
      "text/html": [
       "<div class=\" children\"><span class=\"section ltr\"><a target=\"_blank\" href=\"https://github.com/CambridgeSemiticsLab/nena_corpus/blob/master/nena/0.02/Barwar/A Hundred Gold Coins.nena\" title=\"Show this title in the NENA repository\" sec=\"Barwar, A Hundred Gold Coins, Ln. 1\">Barwar, A Hundred Gold Coins, Ln. 1</a></span> <span class=\"plain outer   \" ><span class=\"plain txtu cld \"></span></span></div>"
      ],
      "text/plain": [
       "<IPython.core.display.HTML object>"
      ]
     },
     "metadata": {},
     "output_type": "display_data"
    },
    {
     "data": {
      "text/html": [
       "<span class=\"section ltr\"><a target=\"_blank\" href=\"https://github.com/CambridgeSemiticsLab/nena_corpus/blob/master/nena/0.02/Barwar/A Hundred Gold Coins.nena\" title=\"Show this title in the NENA repository\" sec=\"Barwar, A Hundred Gold Coins, Ln. 1\">Barwar, A Hundred Gold Coins, Ln. 1</a></span><div class=\" children\"><div class=\"contnr c2 trm   \" ><div class=\"lbl c2 trm \" ><span class=\"nd\">paragraph</span> <span class=\"txtu cld\"><span title=\"number\">1</span></span></div></div></div>"
      ],
      "text/plain": [
       "<IPython.core.display.HTML object>"
      ]
     },
     "metadata": {},
     "output_type": "display_data"
    },
    {
     "data": {
      "text/markdown": [
       "### line 575368\n"
      ],
      "text/plain": [
       "<IPython.core.display.Markdown object>"
      ]
     },
     "metadata": {},
     "output_type": "display_data"
    },
    {
     "data": {
      "text/html": [
       "<div class=\" children\"><span class=\"section ltr\"><a target=\"_blank\" href=\"https://github.com/CambridgeSemiticsLab/nena_corpus/blob/master/nena/0.02/Barwar/A Hundred Gold Coins.nena\" title=\"Show this title in the NENA repository\" sec=\"Barwar, A Hundred Gold Coins, Ln. 1\">Barwar, A Hundred Gold Coins, Ln. 1</a></span> <span class=\"plain outer   \" ><span class=\"plain txtu cld \"></span><span class=\"plain    \" ><span class=\"plain txtu cld \"></span><span class=\"plain    \" ><span class=\"plain txtu cld \"></span><span class=\"plain    \" ><span class=\"plain txtu cld \"></span><span class=\"plain    \" ><span class=\"plain txtu cld \"></span><span class=\"plain    \" ><span class=\"txtu cld\">x</span></span><span class=\"plain    \" ><span class=\"txtu cld\">á-</span></span></span><span class=\"plain    \" ><span class=\"plain txtu cld \"></span><span class=\"plain    \" ><span class=\"txtu cld\">g</span></span><span class=\"plain    \" ><span class=\"txtu cld\">a </span></span></span></span><span class=\"plain    \" ><span class=\"plain txtu cld \"></span><span class=\"plain    \" ><span class=\"plain txtu cld \"></span><span class=\"plain    \" ><span class=\"txtu cld\">x</span></span><span class=\"plain    \" ><span class=\"txtu cld\">è</span></span><span class=\"plain    \" ><span class=\"txtu cld\">t</span></span><span class=\"plain    \" ><span class=\"txtu cld\">a,ˈ </span></span></span></span></span><span class=\"plain    \" ><span class=\"plain txtu cld \"></span><span class=\"plain    \" ><span class=\"plain txtu cld \"></span><span class=\"plain    \" ><span class=\"plain txtu cld \"></span><span class=\"plain    \" ><span class=\"txtu cld\">m</span></span><span class=\"plain    \" ><span class=\"txtu cld\">á</span></span><span class=\"plain    \" ><span class=\"txtu cld\">l</span></span><span class=\"plain    \" ><span class=\"txtu cld\">l</span></span><span class=\"plain    \" ><span class=\"txtu cld\">a</span></span><span class=\"plain    \" ><span class=\"txtu cld\">h </span></span></span></span><span class=\"plain    \" ><span class=\"plain txtu cld \"></span><span class=\"plain    \" ><span class=\"plain txtu cld \"></span><span class=\"plain    \" ><span class=\"txtu cld\">N</span></span><span class=\"plain    \" ><span class=\"txtu cld\">a</span></span><span class=\"plain    \" ><span class=\"txtu cld\">ṣ</span></span><span class=\"plain    \" ><span class=\"txtu cld\">r</span></span><span class=\"plain    \" ><span class=\"txtu cld\">à</span></span><span class=\"plain    \" ><span class=\"txtu cld\">d</span></span><span class=\"plain    \" ><span class=\"txtu cld\">i</span></span><span class=\"plain    \" ><span class=\"txtu cld\">n,ˈ </span></span></span></span></span><span class=\"plain    \" ><span class=\"plain txtu cld \"></span><span class=\"plain    \" ><span class=\"plain txtu cld \"></span><span class=\"plain    \" ><span class=\"plain txtu cld \"></span><span class=\"plain    \" ><span class=\"txtu cld\">x</span></span><span class=\"plain    \" ><span class=\"txtu cld\">á</span></span><span class=\"plain    \" ><span class=\"txtu cld\">z</span></span><span class=\"plain    \" ><span class=\"txtu cld\">ə</span></span><span class=\"plain    \" ><span class=\"txtu cld\">x </span></span></span></span><span class=\"plain    \" ><span class=\"plain txtu cld \"></span><span class=\"plain    \" ><span class=\"plain txtu cld \"></span><span class=\"plain    \" ><span class=\"txtu cld\">m</span></span><span class=\"plain    \" ><span class=\"txtu cld\">ò</span></span><span class=\"plain    \" ><span class=\"txtu cld\">d</span></span><span class=\"plain    \" ><span class=\"txtu cld\">i </span></span></span></span><span class=\"plain    \" ><span class=\"plain txtu cld \"></span><span class=\"plain    \" ><span class=\"plain txtu cld \"></span><span class=\"plain    \" ><span class=\"txtu cld\">w</span></span><span class=\"plain    \" ><span class=\"txtu cld\">í</span></span><span class=\"plain    \" ><span class=\"txtu cld\">ð</span></span><span class=\"plain    \" ><span class=\"txtu cld\">a.ˈ </span></span></span></span></span></span><span class=\"plain    \" ><span class=\"plain txtu cld \"></span><span class=\"plain    \" ><span class=\"plain txtu cld \"></span><span class=\"plain    \" ><span class=\"plain txtu cld \"></span><span class=\"plain    \" ><span class=\"plain txtu cld \"></span><span class=\"plain    \" ><span class=\"txtu cld\">g</span></span><span class=\"plain    \" ><span class=\"txtu cld\">u-</span></span></span><span class=\"plain    \" ><span class=\"plain txtu cld \"></span><span class=\"plain    \" ><span class=\"txtu cld\">b</span></span><span class=\"plain    \" ><span class=\"txtu cld\">ɛ̀</span></span><span class=\"plain    \" ><span class=\"txtu cld\">θ</span></span><span class=\"plain    \" ><span class=\"txtu cld\">a </span></span></span></span><span class=\"plain    \" ><span class=\"plain txtu cld \"></span><span class=\"plain    \" ><span class=\"plain txtu cld \"></span><span class=\"plain    \" ><span class=\"txtu cld\">w</span></span><span class=\"plain    \" ><span class=\"txtu cld\">é</span></span><span class=\"plain    \" ><span class=\"txtu cld\">w</span></span><span class=\"plain    \" ><span class=\"txtu cld\">a,ˈ </span></span></span></span></span><span class=\"plain    \" ><span class=\"plain txtu cld \"></span><span class=\"plain    \" ><span class=\"plain txtu cld \"></span><span class=\"plain    \" ><span class=\"plain txtu cld \"></span><span class=\"plain    \" ><span class=\"txtu cld\">h</span></span><span class=\"plain    \" ><span class=\"txtu cld\">a</span></span><span class=\"plain    \" ><span class=\"txtu cld\">r-</span></span></span><span class=\"plain    \" ><span class=\"plain txtu cld \"></span><span class=\"plain    \" ><span class=\"txtu cld\">z</span></span><span class=\"plain    \" ><span class=\"txtu cld\">á</span></span><span class=\"plain    \" ><span class=\"txtu cld\">l</span></span><span class=\"plain    \" ><span class=\"txtu cld\">a-</span></span></span><span class=\"plain    \" ><span class=\"plain txtu cld \"></span><span class=\"plain    \" ><span class=\"txtu cld\">w </span></span></span></span><span class=\"plain    \" ><span class=\"plain txtu cld \"></span><span class=\"plain    \" ><span class=\"plain txtu cld \"></span><span class=\"plain    \" ><span class=\"txtu cld\">θ</span></span><span class=\"plain    \" ><span class=\"txtu cld\">à</span></span><span class=\"plain    \" ><span class=\"txtu cld\">y</span></span><span class=\"plain    \" ><span class=\"txtu cld\">a.ˈ </span></span></span></span></span></span><span class=\"plain    \" ><span class=\"plain txtu cld \"></span><span class=\"plain    \" ><span class=\"plain txtu cld \"></span><span class=\"plain    \" ><span class=\"plain txtu cld \"></span><span class=\"plain    \" ><span class=\"plain txtu cld \"></span><span class=\"plain    \" ><span class=\"txtu cld\">z</span></span><span class=\"plain    \" ><span class=\"txtu cld\">á</span></span><span class=\"plain    \" ><span class=\"txtu cld\">l</span></span><span class=\"plain    \" ><span class=\"txtu cld\">a-</span></span></span><span class=\"plain    \" ><span class=\"plain txtu cld \"></span><span class=\"plain    \" ><span class=\"txtu cld\">w </span></span></span></span><span class=\"plain    \" ><span class=\"plain txtu cld \"></span><span class=\"plain    \" ><span class=\"plain txtu cld \"></span><span class=\"plain    \" ><span class=\"txtu cld\">θ</span></span><span class=\"plain    \" ><span class=\"txtu cld\">à</span></span><span class=\"plain    \" ><span class=\"txtu cld\">y</span></span><span class=\"plain    \" ><span class=\"txtu cld\">a,ˈ </span></span></span></span></span><span class=\"plain    \" ><span class=\"plain txtu cld \"></span><span class=\"plain    \" ><span class=\"plain txtu cld \"></span><span class=\"plain    \" ><span class=\"plain txtu cld \"></span><span class=\"plain    \" ><span class=\"txtu cld\">m</span></span><span class=\"plain    \" ><span class=\"txtu cld\">á</span></span><span class=\"plain    \" ><span class=\"txtu cld\">r</span></span><span class=\"plain    \" ><span class=\"txtu cld\">a </span></span></span></span><span class=\"plain    \" ><span class=\"plain txtu cld \"></span><span class=\"plain    \" ><span class=\"plain txtu cld \"></span><span class=\"plain    \" ><span class=\"txtu cld\">y</span></span><span class=\"plain    \" ><span class=\"txtu cld\">a-</span></span></span><span class=\"plain    \" ><span class=\"plain txtu cld \"></span><span class=\"plain    \" ><span class=\"txtu cld\">ʾ</span></span><span class=\"plain    \" ><span class=\"txtu cld\">à</span></span><span class=\"plain    \" ><span class=\"txtu cld\">l</span></span><span class=\"plain    \" ><span class=\"txtu cld\">a</span></span><span class=\"plain    \" ><span class=\"txtu cld\">h</span></span><span class=\"plain    \" ><span class=\"txtu cld\">a,ˈ </span></span></span></span></span><span class=\"plain    \" ><span class=\"plain txtu cld \"></span><span class=\"plain    \" ><span class=\"plain txtu cld \"></span><span class=\"plain    \" ><span class=\"plain txtu cld \"></span><span class=\"plain    \" ><span class=\"txtu cld\">y</span></span><span class=\"plain    \" ><span class=\"txtu cld\">a</span></span><span class=\"plain    \" ><span class=\"txtu cld\">w</span></span><span class=\"plain    \" ><span class=\"txtu cld\">ə̀</span></span><span class=\"plain    \" ><span class=\"txtu cld\">t</span></span><span class=\"plain    \" ><span class=\"txtu cld\">l</span></span><span class=\"plain    \" ><span class=\"txtu cld\">iˈ </span></span></span></span></span><span class=\"plain    \" ><span class=\"plain txtu cld \"></span><span class=\"plain    \" ><span class=\"plain txtu cld \"></span><span class=\"plain    \" ><span class=\"plain txtu cld \"></span><span class=\"plain    \" ><span class=\"txtu cld\">ʾ</span></span><span class=\"plain    \" ><span class=\"txtu cld\">ə́</span></span><span class=\"plain    \" ><span class=\"txtu cld\">m</span></span><span class=\"plain    \" ><span class=\"txtu cld\">m</span></span><span class=\"plain    \" ><span class=\"txtu cld\">a </span></span></span></span><span class=\"plain    \" ><span class=\"plain txtu cld \"></span><span class=\"plain    \" ><span class=\"plain txtu cld \"></span><span class=\"plain    \" ><span class=\"txtu cld\">d</span></span><span class=\"plain    \" ><span class=\"txtu cld\">à</span></span><span class=\"plain    \" ><span class=\"txtu cld\">w</span></span><span class=\"plain    \" ><span class=\"txtu cld\">e.ˈ </span></span></span></span></span></span><span class=\"plain    \" ><span class=\"plain txtu cld \"></span><span class=\"plain    \" ><span class=\"plain txtu cld \"></span><span class=\"plain    \" ><span class=\"plain txtu cld \"></span><span class=\"plain    \" ><span class=\"plain txtu cld \"></span><span class=\"plain    \" ><span class=\"txtu cld\">ʾ</span></span><span class=\"plain    \" ><span class=\"txtu cld\">ə</span></span><span class=\"plain    \" ><span class=\"txtu cld\">n-</span></span></span><span class=\"plain    \" ><span class=\"plain txtu cld \"></span><span class=\"plain    \" ><span class=\"txtu cld\">h</span></span><span class=\"plain    \" ><span class=\"txtu cld\">à</span></span><span class=\"plain    \" ><span class=\"txtu cld\">w</span></span><span class=\"plain    \" ><span class=\"txtu cld\">aˈ </span></span></span></span></span><span class=\"plain    \" ><span class=\"plain txtu cld \"></span><span class=\"plain    \" ><span class=\"plain txtu cld \"></span><span class=\"plain    \" ><span class=\"plain txtu cld \"></span><span class=\"plain    \" ><span class=\"txtu cld\">ʾ</span></span><span class=\"plain    \" ><span class=\"txtu cld\">ə́</span></span><span class=\"plain    \" ><span class=\"txtu cld\">č̣</span></span><span class=\"plain    \" ><span class=\"txtu cld\">č̣</span></span><span class=\"plain    \" ><span class=\"txtu cld\">i-</span></span></span><span class=\"plain    \" ><span class=\"plain txtu cld \"></span><span class=\"plain    \" ><span class=\"txtu cld\">u </span></span></span></span><span class=\"plain    \" ><span class=\"plain txtu cld \"></span><span class=\"plain    \" ><span class=\"plain txtu cld \"></span><span class=\"plain    \" ><span class=\"txtu cld\">ʾ</span></span><span class=\"plain    \" ><span class=\"txtu cld\">ə́</span></span><span class=\"plain    \" ><span class=\"txtu cld\">č̣</span></span><span class=\"plain    \" ><span class=\"txtu cld\">č̣</span></span><span class=\"plain    \" ><span class=\"txtu cld\">a </span></span></span></span><span class=\"plain    \" ><span class=\"plain txtu cld \"></span><span class=\"plain    \" ><span class=\"plain txtu cld \"></span><span class=\"plain    \" ><span class=\"txtu cld\">m</span></span><span class=\"plain    \" ><span class=\"txtu cld\">a</span></span><span class=\"plain    \" ><span class=\"txtu cld\">q</span></span><span class=\"plain    \" ><span class=\"txtu cld\">ə</span></span><span class=\"plain    \" ><span class=\"txtu cld\">l</span></span><span class=\"plain    \" ><span class=\"txtu cld\">b</span></span><span class=\"plain    \" ><span class=\"txtu cld\">ə̀</span></span><span class=\"plain    \" ><span class=\"txtu cld\">n</span></span><span class=\"plain    \" ><span class=\"txtu cld\">n</span></span><span class=\"plain    \" ><span class=\"txtu cld\">a.ˈ </span></span></span></span></span></span><span class=\"plain    \" ><span class=\"plain txtu cld \"></span><span class=\"plain    \" ><span class=\"plain txtu cld \"></span><span class=\"plain    \" ><span class=\"plain txtu cld \"></span><span class=\"plain    \" ><span class=\"plain txtu cld \"></span><span class=\"plain    \" ><span class=\"txtu cld\">ʾ</span></span><span class=\"plain    \" ><span class=\"txtu cld\">u-</span></span></span><span class=\"plain    \" ><span class=\"plain txtu cld \"></span><span class=\"plain    \" ><span class=\"txtu cld\">ʾ</span></span><span class=\"plain    \" ><span class=\"txtu cld\">ə</span></span><span class=\"plain    \" ><span class=\"txtu cld\">n-</span></span></span><span class=\"plain    \" ><span class=\"plain txtu cld \"></span><span class=\"plain    \" ><span class=\"txtu cld\">h</span></span><span class=\"plain    \" ><span class=\"txtu cld\">à</span></span><span class=\"plain    \" ><span class=\"txtu cld\">w</span></span><span class=\"plain    \" ><span class=\"txtu cld\">aˈ </span></span></span></span></span><span class=\"plain    \" ><span class=\"plain txtu cld \"></span><span class=\"plain    \" ><span class=\"plain txtu cld \"></span><span class=\"plain    \" ><span class=\"plain txtu cld \"></span><span class=\"plain    \" ><span class=\"txtu cld\">ʾ</span></span><span class=\"plain    \" ><span class=\"txtu cld\">ə́</span></span><span class=\"plain    \" ><span class=\"txtu cld\">m</span></span><span class=\"plain    \" ><span class=\"txtu cld\">m</span></span><span class=\"plain    \" ><span class=\"txtu cld\">a-</span></span></span><span class=\"plain    \" ><span class=\"plain txtu cld \"></span><span class=\"plain    \" ><span class=\"txtu cld\">w-</span></span></span><span class=\"plain    \" ><span class=\"plain txtu cld \"></span><span class=\"plain    \" ><span class=\"txtu cld\">x</span></span><span class=\"plain    \" ><span class=\"txtu cld\">à-</span></span></span><span class=\"plain    \" ><span class=\"plain txtu cld \"></span><span class=\"plain    \" ><span class=\"txtu cld\">ž</span></span><span class=\"plain    \" ><span class=\"txtu cld\">i,ˈ </span></span></span></span></span><span class=\"plain    \" ><span class=\"plain txtu cld \"></span><span class=\"plain    \" ><span class=\"plain txtu cld \"></span><span class=\"plain    \" ><span class=\"plain txtu cld \"></span><span class=\"plain    \" ><span class=\"txtu cld\">l</span></span><span class=\"plain    \" ><span class=\"txtu cld\">a-</span></span></span><span class=\"plain    \" ><span class=\"plain txtu cld \"></span><span class=\"plain    \" ><span class=\"txtu cld\">b</span></span><span class=\"plain    \" ><span class=\"txtu cld\">ă</span></span><span class=\"plain    \" ><span class=\"txtu cld\">y</span></span><span class=\"plain    \" ><span class=\"txtu cld\">ə̀</span></span><span class=\"plain    \" ><span class=\"txtu cld\">n</span></span><span class=\"plain    \" ><span class=\"txtu cld\">n</span></span><span class=\"plain    \" ><span class=\"txtu cld\">a.ˈ </span></span></span></span></span></span><span class=\"plain    \" ><span class=\"plain txtu cld \"></span><span class=\"plain    \" ><span class=\"plain txtu cld \"></span><span class=\"plain    \" ><span class=\"plain txtu cld \"></span><span class=\"plain    \" ><span class=\"plain txtu cld \"></span><span class=\"plain    \" ><span class=\"txtu cld\">d</span></span><span class=\"plain    \" ><span class=\"txtu cld\">e-</span></span></span><span class=\"plain    \" ><span class=\"plain txtu cld \"></span><span class=\"plain    \" ><span class=\"txtu cld\">š</span></span><span class=\"plain    \" ><span class=\"txtu cld\">ù</span></span><span class=\"plain    \" ><span class=\"txtu cld\">q</span></span><span class=\"plain    \" ><span class=\"txtu cld\">l</span></span><span class=\"plain    \" ><span class=\"txtu cld\">a.ˈ </span></span></span></span></span></span><span class=\"plain    \" ><span class=\"plain txtu cld \"></span><span class=\"plain    \" ><span class=\"plain txtu cld \"></span><span class=\"plain    \" ><span class=\"plain txtu cld \"></span><span class=\"plain    \" ><span class=\"plain txtu cld \"></span><span class=\"plain    \" ><span class=\"txtu cld\">ʾ</span></span><span class=\"plain    \" ><span class=\"txtu cld\">ə̀</span></span><span class=\"plain    \" ><span class=\"txtu cld\">m</span></span><span class=\"plain    \" ><span class=\"txtu cld\">m</span></span><span class=\"plain    \" ><span class=\"txtu cld\">a </span></span></span></span><span class=\"plain    \" ><span class=\"plain txtu cld \"></span><span class=\"plain    \" ><span class=\"plain txtu cld \"></span><span class=\"plain    \" ><span class=\"txtu cld\">g</span></span><span class=\"plain    \" ><span class=\"txtu cld\">ắ</span></span><span class=\"plain    \" ><span class=\"txtu cld\">r</span></span><span class=\"plain    \" ><span class=\"txtu cld\">ə</span></span><span class=\"plain    \" ><span class=\"txtu cld\">g </span></span></span></span><span class=\"plain    \" ><span class=\"plain txtu cld \"></span><span class=\"plain    \" ><span class=\"plain txtu cld \"></span><span class=\"plain    \" ><span class=\"txtu cld\">h</span></span><span class=\"plain    \" ><span class=\"txtu cld\">á</span></span><span class=\"plain    \" ><span class=\"txtu cld\">w</span></span><span class=\"plain    \" ><span class=\"txtu cld\">a </span></span></span></span><span class=\"plain    \" ><span class=\"plain txtu cld \"></span><span class=\"plain    \" ><span class=\"plain txtu cld \"></span><span class=\"plain    \" ><span class=\"txtu cld\">d</span></span><span class=\"plain    \" ><span class=\"txtu cld\">r</span></span><span class=\"plain    \" ><span class=\"txtu cld\">ə́</span></span><span class=\"plain    \" ><span class=\"txtu cld\">s</span></span><span class=\"plain    \" ><span class=\"txtu cld\">t.ˈ </span></span></span></span></span></span></span></div>"
      ],
      "text/plain": [
       "<IPython.core.display.HTML object>"
      ]
     },
     "metadata": {},
     "output_type": "display_data"
    },
    {
     "data": {
      "text/html": [
       "<span class=\"section ltr\"><a target=\"_blank\" href=\"https://github.com/CambridgeSemiticsLab/nena_corpus/blob/master/nena/0.02/Barwar/A Hundred Gold Coins.nena\" title=\"Show this title in the NENA repository\" sec=\"Barwar, A Hundred Gold Coins, Ln. 1\">Barwar, A Hundred Gold Coins, Ln. 1</a></span><div class=\" children\"><div class=\"contnr c3    \" ><div class=\"lbl c3  \" ><span class=\"nd\">line</span> <span class=\"txtu cld\"><span title=\"number\">1</span></span></div><div class=\"children hor wrap \"><div class=\"contnr c2    \" ><div class=\"lbl c2  \" ><span class=\"nd\">sentence</span></div><div class=\"children hor wrap \"><div class=\"contnr c1    \" ><div class=\"lbl c1  \" ><span class=\"nd\">inton</span></div><div class=\"children hor  \"><div class=\"contnr c1    \" ><div class=\"lbl c1  \" ><span class=\"nd\">stress</span> <span class=\"txtu cld\"><span class=\"plain    \" ><span class=\"plain txtu cld \"></span><span class=\"plain    \" ><span class=\"plain txtu cld \"></span><span class=\"plain    \" ><span class=\"txtu cld\">x</span></span><span class=\"plain    \" ><span class=\"txtu cld\">á-</span></span></span><span class=\"plain    \" ><span class=\"plain txtu cld \"></span><span class=\"plain    \" ><span class=\"txtu cld\">g</span></span><span class=\"plain    \" ><span class=\"txtu cld\">a </span></span></span></span></span></div></div><div class=\"contnr c1    \" ><div class=\"lbl c1  \" ><span class=\"nd\">stress</span> <span class=\"txtu cld\"><span class=\"plain    \" ><span class=\"plain txtu cld \"></span><span class=\"plain    \" ><span class=\"plain txtu cld \"></span><span class=\"plain    \" ><span class=\"txtu cld\">x</span></span><span class=\"plain    \" ><span class=\"txtu cld\">è</span></span><span class=\"plain    \" ><span class=\"txtu cld\">t</span></span><span class=\"plain    \" ><span class=\"txtu cld\">a,ˈ </span></span></span></span></span></div></div></div></div><div class=\"contnr c1    \" ><div class=\"lbl c1  \" ><span class=\"nd\">inton</span></div><div class=\"children hor  \"><div class=\"contnr c1    \" ><div class=\"lbl c1  \" ><span class=\"nd\">stress</span> <span class=\"txtu cld\"><span class=\"plain    \" ><span class=\"plain txtu cld \"></span><span class=\"plain    \" ><span class=\"plain txtu cld \"></span><span class=\"plain    \" ><span class=\"txtu cld\">m</span></span><span class=\"plain    \" ><span class=\"txtu cld\">á</span></span><span class=\"plain    \" ><span class=\"txtu cld\">l</span></span><span class=\"plain    \" ><span class=\"txtu cld\">l</span></span><span class=\"plain    \" ><span class=\"txtu cld\">a</span></span><span class=\"plain    \" ><span class=\"txtu cld\">h </span></span></span></span></span></div></div><div class=\"contnr c1    \" ><div class=\"lbl c1  \" ><span class=\"nd\">stress</span> <span class=\"txtu cld\"><span class=\"plain    \" ><span class=\"plain txtu cld \"></span><span class=\"plain    \" ><span class=\"plain txtu cld \"></span><span class=\"plain    \" ><span class=\"txtu cld\">N</span></span><span class=\"plain    \" ><span class=\"txtu cld\">a</span></span><span class=\"plain    \" ><span class=\"txtu cld\">ṣ</span></span><span class=\"plain    \" ><span class=\"txtu cld\">r</span></span><span class=\"plain    \" ><span class=\"txtu cld\">à</span></span><span class=\"plain    \" ><span class=\"txtu cld\">d</span></span><span class=\"plain    \" ><span class=\"txtu cld\">i</span></span><span class=\"plain    \" ><span class=\"txtu cld\">n,ˈ </span></span></span></span></span></div></div></div></div><div class=\"contnr c1    \" ><div class=\"lbl c1  \" ><span class=\"nd\">inton</span></div><div class=\"children hor  \"><div class=\"contnr c1    \" ><div class=\"lbl c1  \" ><span class=\"nd\">stress</span> <span class=\"txtu cld\"><span class=\"plain    \" ><span class=\"plain txtu cld \"></span><span class=\"plain    \" ><span class=\"plain txtu cld \"></span><span class=\"plain    \" ><span class=\"txtu cld\">x</span></span><span class=\"plain    \" ><span class=\"txtu cld\">á</span></span><span class=\"plain    \" ><span class=\"txtu cld\">z</span></span><span class=\"plain    \" ><span class=\"txtu cld\">ə</span></span><span class=\"plain    \" ><span class=\"txtu cld\">x </span></span></span></span></span></div></div><div class=\"contnr c1    \" ><div class=\"lbl c1  \" ><span class=\"nd\">stress</span> <span class=\"txtu cld\"><span class=\"plain    \" ><span class=\"plain txtu cld \"></span><span class=\"plain    \" ><span class=\"plain txtu cld \"></span><span class=\"plain    \" ><span class=\"txtu cld\">m</span></span><span class=\"plain    \" ><span class=\"txtu cld\">ò</span></span><span class=\"plain    \" ><span class=\"txtu cld\">d</span></span><span class=\"plain    \" ><span class=\"txtu cld\">i </span></span></span></span></span></div></div><div class=\"contnr c1    \" ><div class=\"lbl c1  \" ><span class=\"nd\">stress</span> <span class=\"txtu cld\"><span class=\"plain    \" ><span class=\"plain txtu cld \"></span><span class=\"plain    \" ><span class=\"plain txtu cld \"></span><span class=\"plain    \" ><span class=\"txtu cld\">w</span></span><span class=\"plain    \" ><span class=\"txtu cld\">í</span></span><span class=\"plain    \" ><span class=\"txtu cld\">ð</span></span><span class=\"plain    \" ><span class=\"txtu cld\">a.ˈ </span></span></span></span></span></div></div></div></div></div></div><div class=\"contnr c2    \" ><div class=\"lbl c2  \" ><span class=\"nd\">sentence</span></div><div class=\"children hor wrap \"><div class=\"contnr c1    \" ><div class=\"lbl c1  \" ><span class=\"nd\">inton</span></div><div class=\"children hor  \"><div class=\"contnr c1    \" ><div class=\"lbl c1  \" ><span class=\"nd\">stress</span> <span class=\"txtu cld\"><span class=\"plain    \" ><span class=\"plain txtu cld \"></span><span class=\"plain    \" ><span class=\"plain txtu cld \"></span><span class=\"plain    \" ><span class=\"txtu cld\">g</span></span><span class=\"plain    \" ><span class=\"txtu cld\">u-</span></span></span><span class=\"plain    \" ><span class=\"plain txtu cld \"></span><span class=\"plain    \" ><span class=\"txtu cld\">b</span></span><span class=\"plain    \" ><span class=\"txtu cld\">ɛ̀</span></span><span class=\"plain    \" ><span class=\"txtu cld\">θ</span></span><span class=\"plain    \" ><span class=\"txtu cld\">a </span></span></span></span></span></div></div><div class=\"contnr c1    \" ><div class=\"lbl c1  \" ><span class=\"nd\">stress</span> <span class=\"txtu cld\"><span class=\"plain    \" ><span class=\"plain txtu cld \"></span><span class=\"plain    \" ><span class=\"plain txtu cld \"></span><span class=\"plain    \" ><span class=\"txtu cld\">w</span></span><span class=\"plain    \" ><span class=\"txtu cld\">é</span></span><span class=\"plain    \" ><span class=\"txtu cld\">w</span></span><span class=\"plain    \" ><span class=\"txtu cld\">a,ˈ </span></span></span></span></span></div></div></div></div><div class=\"contnr c1    \" ><div class=\"lbl c1  \" ><span class=\"nd\">inton</span></div><div class=\"children hor  \"><div class=\"contnr c1    \" ><div class=\"lbl c1  \" ><span class=\"nd\">stress</span> <span class=\"txtu cld\"><span class=\"plain    \" ><span class=\"plain txtu cld \"></span><span class=\"plain    \" ><span class=\"plain txtu cld \"></span><span class=\"plain    \" ><span class=\"txtu cld\">h</span></span><span class=\"plain    \" ><span class=\"txtu cld\">a</span></span><span class=\"plain    \" ><span class=\"txtu cld\">r-</span></span></span><span class=\"plain    \" ><span class=\"plain txtu cld \"></span><span class=\"plain    \" ><span class=\"txtu cld\">z</span></span><span class=\"plain    \" ><span class=\"txtu cld\">á</span></span><span class=\"plain    \" ><span class=\"txtu cld\">l</span></span><span class=\"plain    \" ><span class=\"txtu cld\">a-</span></span></span><span class=\"plain    \" ><span class=\"plain txtu cld \"></span><span class=\"plain    \" ><span class=\"txtu cld\">w </span></span></span></span></span></div></div><div class=\"contnr c1    \" ><div class=\"lbl c1  \" ><span class=\"nd\">stress</span> <span class=\"txtu cld\"><span class=\"plain    \" ><span class=\"plain txtu cld \"></span><span class=\"plain    \" ><span class=\"plain txtu cld \"></span><span class=\"plain    \" ><span class=\"txtu cld\">θ</span></span><span class=\"plain    \" ><span class=\"txtu cld\">à</span></span><span class=\"plain    \" ><span class=\"txtu cld\">y</span></span><span class=\"plain    \" ><span class=\"txtu cld\">a.ˈ </span></span></span></span></span></div></div></div></div></div></div><div class=\"contnr c2    \" ><div class=\"lbl c2  \" ><span class=\"nd\">sentence</span></div><div class=\"children hor wrap \"><div class=\"contnr c1    \" ><div class=\"lbl c1  \" ><span class=\"nd\">inton</span></div><div class=\"children hor  \"><div class=\"contnr c1    \" ><div class=\"lbl c1  \" ><span class=\"nd\">stress</span> <span class=\"txtu cld\"><span class=\"plain    \" ><span class=\"plain txtu cld \"></span><span class=\"plain    \" ><span class=\"plain txtu cld \"></span><span class=\"plain    \" ><span class=\"txtu cld\">z</span></span><span class=\"plain    \" ><span class=\"txtu cld\">á</span></span><span class=\"plain    \" ><span class=\"txtu cld\">l</span></span><span class=\"plain    \" ><span class=\"txtu cld\">a-</span></span></span><span class=\"plain    \" ><span class=\"plain txtu cld \"></span><span class=\"plain    \" ><span class=\"txtu cld\">w </span></span></span></span></span></div></div><div class=\"contnr c1    \" ><div class=\"lbl c1  \" ><span class=\"nd\">stress</span> <span class=\"txtu cld\"><span class=\"plain    \" ><span class=\"plain txtu cld \"></span><span class=\"plain    \" ><span class=\"plain txtu cld \"></span><span class=\"plain    \" ><span class=\"txtu cld\">θ</span></span><span class=\"plain    \" ><span class=\"txtu cld\">à</span></span><span class=\"plain    \" ><span class=\"txtu cld\">y</span></span><span class=\"plain    \" ><span class=\"txtu cld\">a,ˈ </span></span></span></span></span></div></div></div></div><div class=\"contnr c1    \" ><div class=\"lbl c1  \" ><span class=\"nd\">inton</span></div><div class=\"children hor  \"><div class=\"contnr c1    \" ><div class=\"lbl c1  \" ><span class=\"nd\">stress</span> <span class=\"txtu cld\"><span class=\"plain    \" ><span class=\"plain txtu cld \"></span><span class=\"plain    \" ><span class=\"plain txtu cld \"></span><span class=\"plain    \" ><span class=\"txtu cld\">m</span></span><span class=\"plain    \" ><span class=\"txtu cld\">á</span></span><span class=\"plain    \" ><span class=\"txtu cld\">r</span></span><span class=\"plain    \" ><span class=\"txtu cld\">a </span></span></span></span></span></div></div><div class=\"contnr c1    \" ><div class=\"lbl c1  \" ><span class=\"nd\">stress</span> <span class=\"txtu cld\"><span class=\"plain    \" ><span class=\"plain txtu cld \"></span><span class=\"plain    \" ><span class=\"plain txtu cld \"></span><span class=\"plain    \" ><span class=\"txtu cld\">y</span></span><span class=\"plain    \" ><span class=\"txtu cld\">a-</span></span></span><span class=\"plain    \" ><span class=\"plain txtu cld \"></span><span class=\"plain    \" ><span class=\"txtu cld\">ʾ</span></span><span class=\"plain    \" ><span class=\"txtu cld\">à</span></span><span class=\"plain    \" ><span class=\"txtu cld\">l</span></span><span class=\"plain    \" ><span class=\"txtu cld\">a</span></span><span class=\"plain    \" ><span class=\"txtu cld\">h</span></span><span class=\"plain    \" ><span class=\"txtu cld\">a,ˈ </span></span></span></span></span></div></div></div></div><div class=\"contnr c1    \" ><div class=\"lbl c1  \" ><span class=\"nd\">inton</span></div><div class=\"children hor  \"><div class=\"contnr c1    \" ><div class=\"lbl c1  \" ><span class=\"nd\">stress</span> <span class=\"txtu cld\"><span class=\"plain    \" ><span class=\"plain txtu cld \"></span><span class=\"plain    \" ><span class=\"plain txtu cld \"></span><span class=\"plain    \" ><span class=\"txtu cld\">y</span></span><span class=\"plain    \" ><span class=\"txtu cld\">a</span></span><span class=\"plain    \" ><span class=\"txtu cld\">w</span></span><span class=\"plain    \" ><span class=\"txtu cld\">ə̀</span></span><span class=\"plain    \" ><span class=\"txtu cld\">t</span></span><span class=\"plain    \" ><span class=\"txtu cld\">l</span></span><span class=\"plain    \" ><span class=\"txtu cld\">iˈ </span></span></span></span></span></div></div></div></div><div class=\"contnr c1    \" ><div class=\"lbl c1  \" ><span class=\"nd\">inton</span></div><div class=\"children hor  \"><div class=\"contnr c1    \" ><div class=\"lbl c1  \" ><span class=\"nd\">stress</span> <span class=\"txtu cld\"><span class=\"plain    \" ><span class=\"plain txtu cld \"></span><span class=\"plain    \" ><span class=\"plain txtu cld \"></span><span class=\"plain    \" ><span class=\"txtu cld\">ʾ</span></span><span class=\"plain    \" ><span class=\"txtu cld\">ə́</span></span><span class=\"plain    \" ><span class=\"txtu cld\">m</span></span><span class=\"plain    \" ><span class=\"txtu cld\">m</span></span><span class=\"plain    \" ><span class=\"txtu cld\">a </span></span></span></span></span></div></div><div class=\"contnr c1    \" ><div class=\"lbl c1  \" ><span class=\"nd\">stress</span> <span class=\"txtu cld\"><span class=\"plain    \" ><span class=\"plain txtu cld \"></span><span class=\"plain    \" ><span class=\"plain txtu cld \"></span><span class=\"plain    \" ><span class=\"txtu cld\">d</span></span><span class=\"plain    \" ><span class=\"txtu cld\">à</span></span><span class=\"plain    \" ><span class=\"txtu cld\">w</span></span><span class=\"plain    \" ><span class=\"txtu cld\">e.ˈ </span></span></span></span></span></div></div></div></div></div></div><div class=\"contnr c2    \" ><div class=\"lbl c2  \" ><span class=\"nd\">sentence</span></div><div class=\"children hor wrap \"><div class=\"contnr c1    \" ><div class=\"lbl c1  \" ><span class=\"nd\">inton</span></div><div class=\"children hor  \"><div class=\"contnr c1    \" ><div class=\"lbl c1  \" ><span class=\"nd\">stress</span> <span class=\"txtu cld\"><span class=\"plain    \" ><span class=\"plain txtu cld \"></span><span class=\"plain    \" ><span class=\"plain txtu cld \"></span><span class=\"plain    \" ><span class=\"txtu cld\">ʾ</span></span><span class=\"plain    \" ><span class=\"txtu cld\">ə</span></span><span class=\"plain    \" ><span class=\"txtu cld\">n-</span></span></span><span class=\"plain    \" ><span class=\"plain txtu cld \"></span><span class=\"plain    \" ><span class=\"txtu cld\">h</span></span><span class=\"plain    \" ><span class=\"txtu cld\">à</span></span><span class=\"plain    \" ><span class=\"txtu cld\">w</span></span><span class=\"plain    \" ><span class=\"txtu cld\">aˈ </span></span></span></span></span></div></div></div></div><div class=\"contnr c1    \" ><div class=\"lbl c1  \" ><span class=\"nd\">inton</span></div><div class=\"children hor  \"><div class=\"contnr c1    \" ><div class=\"lbl c1  \" ><span class=\"nd\">stress</span> <span class=\"txtu cld\"><span class=\"plain    \" ><span class=\"plain txtu cld \"></span><span class=\"plain    \" ><span class=\"plain txtu cld \"></span><span class=\"plain    \" ><span class=\"txtu cld\">ʾ</span></span><span class=\"plain    \" ><span class=\"txtu cld\">ə́</span></span><span class=\"plain    \" ><span class=\"txtu cld\">č̣</span></span><span class=\"plain    \" ><span class=\"txtu cld\">č̣</span></span><span class=\"plain    \" ><span class=\"txtu cld\">i-</span></span></span><span class=\"plain    \" ><span class=\"plain txtu cld \"></span><span class=\"plain    \" ><span class=\"txtu cld\">u </span></span></span></span></span></div></div><div class=\"contnr c1    \" ><div class=\"lbl c1  \" ><span class=\"nd\">stress</span> <span class=\"txtu cld\"><span class=\"plain    \" ><span class=\"plain txtu cld \"></span><span class=\"plain    \" ><span class=\"plain txtu cld \"></span><span class=\"plain    \" ><span class=\"txtu cld\">ʾ</span></span><span class=\"plain    \" ><span class=\"txtu cld\">ə́</span></span><span class=\"plain    \" ><span class=\"txtu cld\">č̣</span></span><span class=\"plain    \" ><span class=\"txtu cld\">č̣</span></span><span class=\"plain    \" ><span class=\"txtu cld\">a </span></span></span></span></span></div></div><div class=\"contnr c1    \" ><div class=\"lbl c1  \" ><span class=\"nd\">stress</span> <span class=\"txtu cld\"><span class=\"plain    \" ><span class=\"plain txtu cld \"></span><span class=\"plain    \" ><span class=\"plain txtu cld \"></span><span class=\"plain    \" ><span class=\"txtu cld\">m</span></span><span class=\"plain    \" ><span class=\"txtu cld\">a</span></span><span class=\"plain    \" ><span class=\"txtu cld\">q</span></span><span class=\"plain    \" ><span class=\"txtu cld\">ə</span></span><span class=\"plain    \" ><span class=\"txtu cld\">l</span></span><span class=\"plain    \" ><span class=\"txtu cld\">b</span></span><span class=\"plain    \" ><span class=\"txtu cld\">ə̀</span></span><span class=\"plain    \" ><span class=\"txtu cld\">n</span></span><span class=\"plain    \" ><span class=\"txtu cld\">n</span></span><span class=\"plain    \" ><span class=\"txtu cld\">a.ˈ </span></span></span></span></span></div></div></div></div></div></div><div class=\"contnr c2    \" ><div class=\"lbl c2  \" ><span class=\"nd\">sentence</span></div><div class=\"children hor wrap \"><div class=\"contnr c1    \" ><div class=\"lbl c1  \" ><span class=\"nd\">inton</span></div><div class=\"children hor  \"><div class=\"contnr c1    \" ><div class=\"lbl c1  \" ><span class=\"nd\">stress</span> <span class=\"txtu cld\"><span class=\"plain    \" ><span class=\"plain txtu cld \"></span><span class=\"plain    \" ><span class=\"plain txtu cld \"></span><span class=\"plain    \" ><span class=\"txtu cld\">ʾ</span></span><span class=\"plain    \" ><span class=\"txtu cld\">u-</span></span></span><span class=\"plain    \" ><span class=\"plain txtu cld \"></span><span class=\"plain    \" ><span class=\"txtu cld\">ʾ</span></span><span class=\"plain    \" ><span class=\"txtu cld\">ə</span></span><span class=\"plain    \" ><span class=\"txtu cld\">n-</span></span></span><span class=\"plain    \" ><span class=\"plain txtu cld \"></span><span class=\"plain    \" ><span class=\"txtu cld\">h</span></span><span class=\"plain    \" ><span class=\"txtu cld\">à</span></span><span class=\"plain    \" ><span class=\"txtu cld\">w</span></span><span class=\"plain    \" ><span class=\"txtu cld\">aˈ </span></span></span></span></span></div></div></div></div><div class=\"contnr c1    \" ><div class=\"lbl c1  \" ><span class=\"nd\">inton</span></div><div class=\"children hor  \"><div class=\"contnr c1    \" ><div class=\"lbl c1  \" ><span class=\"nd\">stress</span> <span class=\"txtu cld\"><span class=\"plain    \" ><span class=\"plain txtu cld \"></span><span class=\"plain    \" ><span class=\"plain txtu cld \"></span><span class=\"plain    \" ><span class=\"txtu cld\">ʾ</span></span><span class=\"plain    \" ><span class=\"txtu cld\">ə́</span></span><span class=\"plain    \" ><span class=\"txtu cld\">m</span></span><span class=\"plain    \" ><span class=\"txtu cld\">m</span></span><span class=\"plain    \" ><span class=\"txtu cld\">a-</span></span></span><span class=\"plain    \" ><span class=\"plain txtu cld \"></span><span class=\"plain    \" ><span class=\"txtu cld\">w-</span></span></span><span class=\"plain    \" ><span class=\"plain txtu cld \"></span><span class=\"plain    \" ><span class=\"txtu cld\">x</span></span><span class=\"plain    \" ><span class=\"txtu cld\">à-</span></span></span><span class=\"plain    \" ><span class=\"plain txtu cld \"></span><span class=\"plain    \" ><span class=\"txtu cld\">ž</span></span><span class=\"plain    \" ><span class=\"txtu cld\">i,ˈ </span></span></span></span></span></div></div></div></div><div class=\"contnr c1    \" ><div class=\"lbl c1  \" ><span class=\"nd\">inton</span></div><div class=\"children hor  \"><div class=\"contnr c1    \" ><div class=\"lbl c1  \" ><span class=\"nd\">stress</span> <span class=\"txtu cld\"><span class=\"plain    \" ><span class=\"plain txtu cld \"></span><span class=\"plain    \" ><span class=\"plain txtu cld \"></span><span class=\"plain    \" ><span class=\"txtu cld\">l</span></span><span class=\"plain    \" ><span class=\"txtu cld\">a-</span></span></span><span class=\"plain    \" ><span class=\"plain txtu cld \"></span><span class=\"plain    \" ><span class=\"txtu cld\">b</span></span><span class=\"plain    \" ><span class=\"txtu cld\">ă</span></span><span class=\"plain    \" ><span class=\"txtu cld\">y</span></span><span class=\"plain    \" ><span class=\"txtu cld\">ə̀</span></span><span class=\"plain    \" ><span class=\"txtu cld\">n</span></span><span class=\"plain    \" ><span class=\"txtu cld\">n</span></span><span class=\"plain    \" ><span class=\"txtu cld\">a.ˈ </span></span></span></span></span></div></div></div></div></div></div><div class=\"contnr c2    \" ><div class=\"lbl c2  \" ><span class=\"nd\">sentence</span></div><div class=\"children hor wrap \"><div class=\"contnr c1    \" ><div class=\"lbl c1  \" ><span class=\"nd\">inton</span></div><div class=\"children hor  \"><div class=\"contnr c1    \" ><div class=\"lbl c1  \" ><span class=\"nd\">stress</span> <span class=\"txtu cld\"><span class=\"plain    \" ><span class=\"plain txtu cld \"></span><span class=\"plain    \" ><span class=\"plain txtu cld \"></span><span class=\"plain    \" ><span class=\"txtu cld\">d</span></span><span class=\"plain    \" ><span class=\"txtu cld\">e-</span></span></span><span class=\"plain    \" ><span class=\"plain txtu cld \"></span><span class=\"plain    \" ><span class=\"txtu cld\">š</span></span><span class=\"plain    \" ><span class=\"txtu cld\">ù</span></span><span class=\"plain    \" ><span class=\"txtu cld\">q</span></span><span class=\"plain    \" ><span class=\"txtu cld\">l</span></span><span class=\"plain    \" ><span class=\"txtu cld\">a.ˈ </span></span></span></span></span></div></div></div></div></div></div><div class=\"contnr c2    \" ><div class=\"lbl c2  \" ><span class=\"nd\">sentence</span></div><div class=\"children hor wrap \"><div class=\"contnr c1    \" ><div class=\"lbl c1  \" ><span class=\"nd\">inton</span></div><div class=\"children hor  \"><div class=\"contnr c1    \" ><div class=\"lbl c1  \" ><span class=\"nd\">stress</span> <span class=\"txtu cld\"><span class=\"plain    \" ><span class=\"plain txtu cld \"></span><span class=\"plain    \" ><span class=\"plain txtu cld \"></span><span class=\"plain    \" ><span class=\"txtu cld\">ʾ</span></span><span class=\"plain    \" ><span class=\"txtu cld\">ə̀</span></span><span class=\"plain    \" ><span class=\"txtu cld\">m</span></span><span class=\"plain    \" ><span class=\"txtu cld\">m</span></span><span class=\"plain    \" ><span class=\"txtu cld\">a </span></span></span></span></span></div></div><div class=\"contnr c1    \" ><div class=\"lbl c1  \" ><span class=\"nd\">stress</span> <span class=\"txtu cld\"><span class=\"plain    \" ><span class=\"plain txtu cld \"></span><span class=\"plain    \" ><span class=\"plain txtu cld \"></span><span class=\"plain    \" ><span class=\"txtu cld\">g</span></span><span class=\"plain    \" ><span class=\"txtu cld\">ắ</span></span><span class=\"plain    \" ><span class=\"txtu cld\">r</span></span><span class=\"plain    \" ><span class=\"txtu cld\">ə</span></span><span class=\"plain    \" ><span class=\"txtu cld\">g </span></span></span></span></span></div></div><div class=\"contnr c1    \" ><div class=\"lbl c1  \" ><span class=\"nd\">stress</span> <span class=\"txtu cld\"><span class=\"plain    \" ><span class=\"plain txtu cld \"></span><span class=\"plain    \" ><span class=\"plain txtu cld \"></span><span class=\"plain    \" ><span class=\"txtu cld\">h</span></span><span class=\"plain    \" ><span class=\"txtu cld\">á</span></span><span class=\"plain    \" ><span class=\"txtu cld\">w</span></span><span class=\"plain    \" ><span class=\"txtu cld\">a </span></span></span></span></span></div></div><div class=\"contnr c1    \" ><div class=\"lbl c1  \" ><span class=\"nd\">stress</span> <span class=\"txtu cld\"><span class=\"plain    \" ><span class=\"plain txtu cld \"></span><span class=\"plain    \" ><span class=\"plain txtu cld \"></span><span class=\"plain    \" ><span class=\"txtu cld\">d</span></span><span class=\"plain    \" ><span class=\"txtu cld\">r</span></span><span class=\"plain    \" ><span class=\"txtu cld\">ə́</span></span><span class=\"plain    \" ><span class=\"txtu cld\">s</span></span><span class=\"plain    \" ><span class=\"txtu cld\">t.ˈ </span></span></span></span></span></div></div></div></div></div></div></div></div></div>"
      ],
      "text/plain": [
       "<IPython.core.display.HTML object>"
      ]
     },
     "metadata": {},
     "output_type": "display_data"
    },
    {
     "data": {
      "text/markdown": [
       "### sentence 578263\n"
      ],
      "text/plain": [
       "<IPython.core.display.Markdown object>"
      ]
     },
     "metadata": {},
     "output_type": "display_data"
    },
    {
     "data": {
      "text/html": [
       "<div class=\" children\"><span class=\"section ltr\"><a target=\"_blank\" href=\"https://github.com/CambridgeSemiticsLab/nena_corpus/blob/master/nena/0.02/Barwar/A Hundred Gold Coins.nena\" title=\"Show this title in the NENA repository\" sec=\"Barwar, A Hundred Gold Coins, Ln. 1\">Barwar, A Hundred Gold Coins, Ln. 1</a></span> <span class=\"plain outer   \" ><span class=\"plain txtu cld \"></span><span class=\"plain    \" ><span class=\"plain txtu cld \"></span><span class=\"plain    \" ><span class=\"plain txtu cld \"></span><span class=\"plain    \" ><span class=\"plain txtu cld \"></span><span class=\"plain    \" ><span class=\"txtu cld\">x</span></span><span class=\"plain    \" ><span class=\"txtu cld\">á-</span></span></span><span class=\"plain    \" ><span class=\"plain txtu cld \"></span><span class=\"plain    \" ><span class=\"txtu cld\">g</span></span><span class=\"plain    \" ><span class=\"txtu cld\">a </span></span></span></span><span class=\"plain    \" ><span class=\"plain txtu cld \"></span><span class=\"plain    \" ><span class=\"plain txtu cld \"></span><span class=\"plain    \" ><span class=\"txtu cld\">x</span></span><span class=\"plain    \" ><span class=\"txtu cld\">è</span></span><span class=\"plain    \" ><span class=\"txtu cld\">t</span></span><span class=\"plain    \" ><span class=\"txtu cld\">a,ˈ </span></span></span></span></span><span class=\"plain    \" ><span class=\"plain txtu cld \"></span><span class=\"plain    \" ><span class=\"plain txtu cld \"></span><span class=\"plain    \" ><span class=\"plain txtu cld \"></span><span class=\"plain    \" ><span class=\"txtu cld\">m</span></span><span class=\"plain    \" ><span class=\"txtu cld\">á</span></span><span class=\"plain    \" ><span class=\"txtu cld\">l</span></span><span class=\"plain    \" ><span class=\"txtu cld\">l</span></span><span class=\"plain    \" ><span class=\"txtu cld\">a</span></span><span class=\"plain    \" ><span class=\"txtu cld\">h </span></span></span></span><span class=\"plain    \" ><span class=\"plain txtu cld \"></span><span class=\"plain    \" ><span class=\"plain txtu cld \"></span><span class=\"plain    \" ><span class=\"txtu cld\">N</span></span><span class=\"plain    \" ><span class=\"txtu cld\">a</span></span><span class=\"plain    \" ><span class=\"txtu cld\">ṣ</span></span><span class=\"plain    \" ><span class=\"txtu cld\">r</span></span><span class=\"plain    \" ><span class=\"txtu cld\">à</span></span><span class=\"plain    \" ><span class=\"txtu cld\">d</span></span><span class=\"plain    \" ><span class=\"txtu cld\">i</span></span><span class=\"plain    \" ><span class=\"txtu cld\">n,ˈ </span></span></span></span></span><span class=\"plain    \" ><span class=\"plain txtu cld \"></span><span class=\"plain    \" ><span class=\"plain txtu cld \"></span><span class=\"plain    \" ><span class=\"plain txtu cld \"></span><span class=\"plain    \" ><span class=\"txtu cld\">x</span></span><span class=\"plain    \" ><span class=\"txtu cld\">á</span></span><span class=\"plain    \" ><span class=\"txtu cld\">z</span></span><span class=\"plain    \" ><span class=\"txtu cld\">ə</span></span><span class=\"plain    \" ><span class=\"txtu cld\">x </span></span></span></span><span class=\"plain    \" ><span class=\"plain txtu cld \"></span><span class=\"plain    \" ><span class=\"plain txtu cld \"></span><span class=\"plain    \" ><span class=\"txtu cld\">m</span></span><span class=\"plain    \" ><span class=\"txtu cld\">ò</span></span><span class=\"plain    \" ><span class=\"txtu cld\">d</span></span><span class=\"plain    \" ><span class=\"txtu cld\">i </span></span></span></span><span class=\"plain    \" ><span class=\"plain txtu cld \"></span><span class=\"plain    \" ><span class=\"plain txtu cld \"></span><span class=\"plain    \" ><span class=\"txtu cld\">w</span></span><span class=\"plain    \" ><span class=\"txtu cld\">í</span></span><span class=\"plain    \" ><span class=\"txtu cld\">ð</span></span><span class=\"plain    \" ><span class=\"txtu cld\">a.ˈ </span></span></span></span></span></span></div>"
      ],
      "text/plain": [
       "<IPython.core.display.HTML object>"
      ]
     },
     "metadata": {},
     "output_type": "display_data"
    },
    {
     "data": {
      "text/html": [
       "<span class=\"section ltr\"><a target=\"_blank\" href=\"https://github.com/CambridgeSemiticsLab/nena_corpus/blob/master/nena/0.02/Barwar/A Hundred Gold Coins.nena\" title=\"Show this title in the NENA repository\" sec=\"Barwar, A Hundred Gold Coins, Ln. 1\">Barwar, A Hundred Gold Coins, Ln. 1</a></span><div class=\" children\"><div class=\"contnr c2    \" ><div class=\"lbl c2  \" ><span class=\"nd\">sentence</span></div><div class=\"children hor wrap \"><div class=\"contnr c1    \" ><div class=\"lbl c1  \" ><span class=\"nd\">inton</span></div><div class=\"children hor  \"><div class=\"contnr c1    \" ><div class=\"lbl c1  \" ><span class=\"nd\">stress</span> <span class=\"txtu cld\"><span class=\"plain    \" ><span class=\"plain txtu cld \"></span><span class=\"plain    \" ><span class=\"plain txtu cld \"></span><span class=\"plain    \" ><span class=\"txtu cld\">x</span></span><span class=\"plain    \" ><span class=\"txtu cld\">á-</span></span></span><span class=\"plain    \" ><span class=\"plain txtu cld \"></span><span class=\"plain    \" ><span class=\"txtu cld\">g</span></span><span class=\"plain    \" ><span class=\"txtu cld\">a </span></span></span></span></span></div></div><div class=\"contnr c1    \" ><div class=\"lbl c1  \" ><span class=\"nd\">stress</span> <span class=\"txtu cld\"><span class=\"plain    \" ><span class=\"plain txtu cld \"></span><span class=\"plain    \" ><span class=\"plain txtu cld \"></span><span class=\"plain    \" ><span class=\"txtu cld\">x</span></span><span class=\"plain    \" ><span class=\"txtu cld\">è</span></span><span class=\"plain    \" ><span class=\"txtu cld\">t</span></span><span class=\"plain    \" ><span class=\"txtu cld\">a,ˈ </span></span></span></span></span></div></div></div></div><div class=\"contnr c1    \" ><div class=\"lbl c1  \" ><span class=\"nd\">inton</span></div><div class=\"children hor  \"><div class=\"contnr c1    \" ><div class=\"lbl c1  \" ><span class=\"nd\">stress</span> <span class=\"txtu cld\"><span class=\"plain    \" ><span class=\"plain txtu cld \"></span><span class=\"plain    \" ><span class=\"plain txtu cld \"></span><span class=\"plain    \" ><span class=\"txtu cld\">m</span></span><span class=\"plain    \" ><span class=\"txtu cld\">á</span></span><span class=\"plain    \" ><span class=\"txtu cld\">l</span></span><span class=\"plain    \" ><span class=\"txtu cld\">l</span></span><span class=\"plain    \" ><span class=\"txtu cld\">a</span></span><span class=\"plain    \" ><span class=\"txtu cld\">h </span></span></span></span></span></div></div><div class=\"contnr c1    \" ><div class=\"lbl c1  \" ><span class=\"nd\">stress</span> <span class=\"txtu cld\"><span class=\"plain    \" ><span class=\"plain txtu cld \"></span><span class=\"plain    \" ><span class=\"plain txtu cld \"></span><span class=\"plain    \" ><span class=\"txtu cld\">N</span></span><span class=\"plain    \" ><span class=\"txtu cld\">a</span></span><span class=\"plain    \" ><span class=\"txtu cld\">ṣ</span></span><span class=\"plain    \" ><span class=\"txtu cld\">r</span></span><span class=\"plain    \" ><span class=\"txtu cld\">à</span></span><span class=\"plain    \" ><span class=\"txtu cld\">d</span></span><span class=\"plain    \" ><span class=\"txtu cld\">i</span></span><span class=\"plain    \" ><span class=\"txtu cld\">n,ˈ </span></span></span></span></span></div></div></div></div><div class=\"contnr c1    \" ><div class=\"lbl c1  \" ><span class=\"nd\">inton</span></div><div class=\"children hor  \"><div class=\"contnr c1    \" ><div class=\"lbl c1  \" ><span class=\"nd\">stress</span> <span class=\"txtu cld\"><span class=\"plain    \" ><span class=\"plain txtu cld \"></span><span class=\"plain    \" ><span class=\"plain txtu cld \"></span><span class=\"plain    \" ><span class=\"txtu cld\">x</span></span><span class=\"plain    \" ><span class=\"txtu cld\">á</span></span><span class=\"plain    \" ><span class=\"txtu cld\">z</span></span><span class=\"plain    \" ><span class=\"txtu cld\">ə</span></span><span class=\"plain    \" ><span class=\"txtu cld\">x </span></span></span></span></span></div></div><div class=\"contnr c1    \" ><div class=\"lbl c1  \" ><span class=\"nd\">stress</span> <span class=\"txtu cld\"><span class=\"plain    \" ><span class=\"plain txtu cld \"></span><span class=\"plain    \" ><span class=\"plain txtu cld \"></span><span class=\"plain    \" ><span class=\"txtu cld\">m</span></span><span class=\"plain    \" ><span class=\"txtu cld\">ò</span></span><span class=\"plain    \" ><span class=\"txtu cld\">d</span></span><span class=\"plain    \" ><span class=\"txtu cld\">i </span></span></span></span></span></div></div><div class=\"contnr c1    \" ><div class=\"lbl c1  \" ><span class=\"nd\">stress</span> <span class=\"txtu cld\"><span class=\"plain    \" ><span class=\"plain txtu cld \"></span><span class=\"plain    \" ><span class=\"plain txtu cld \"></span><span class=\"plain    \" ><span class=\"txtu cld\">w</span></span><span class=\"plain    \" ><span class=\"txtu cld\">í</span></span><span class=\"plain    \" ><span class=\"txtu cld\">ð</span></span><span class=\"plain    \" ><span class=\"txtu cld\">a.ˈ </span></span></span></span></span></div></div></div></div></div></div></div>"
      ],
      "text/plain": [
       "<IPython.core.display.HTML object>"
      ]
     },
     "metadata": {},
     "output_type": "display_data"
    },
    {
     "data": {
      "text/markdown": [
       "### subsentence 688732\n"
      ],
      "text/plain": [
       "<IPython.core.display.Markdown object>"
      ]
     },
     "metadata": {},
     "output_type": "display_data"
    },
    {
     "data": {
      "text/html": [
       "<div class=\" children\"><span class=\"section ltr\"><a target=\"_blank\" href=\"https://github.com/CambridgeSemiticsLab/nena_corpus/blob/master/nena/0.02/Barwar/A Hundred Gold Coins.nena\" title=\"Show this title in the NENA repository\" sec=\"Barwar, A Hundred Gold Coins, Ln. 1\">Barwar, A Hundred Gold Coins, Ln. 1</a></span> <span class=\"plain outer   \" ><span class=\"plain txtu cld \"></span><span class=\"plain    \" ><span class=\"plain txtu cld \"></span><span class=\"plain    \" ><span class=\"plain txtu cld \"></span><span class=\"plain    \" ><span class=\"plain txtu cld \"></span><span class=\"plain    \" ><span class=\"txtu cld\">x</span></span><span class=\"plain    \" ><span class=\"txtu cld\">á-</span></span></span><span class=\"plain    \" ><span class=\"plain txtu cld \"></span><span class=\"plain    \" ><span class=\"txtu cld\">g</span></span><span class=\"plain    \" ><span class=\"txtu cld\">a </span></span></span></span><span class=\"plain    \" ><span class=\"plain txtu cld \"></span><span class=\"plain    \" ><span class=\"plain txtu cld \"></span><span class=\"plain    \" ><span class=\"txtu cld\">x</span></span><span class=\"plain    \" ><span class=\"txtu cld\">è</span></span><span class=\"plain    \" ><span class=\"txtu cld\">t</span></span><span class=\"plain    \" ><span class=\"txtu cld\">a,ˈ </span></span></span></span></span></span></div>"
      ],
      "text/plain": [
       "<IPython.core.display.HTML object>"
      ]
     },
     "metadata": {},
     "output_type": "display_data"
    },
    {
     "data": {
      "text/html": [
       "<span class=\"section ltr\"><a target=\"_blank\" href=\"https://github.com/CambridgeSemiticsLab/nena_corpus/blob/master/nena/0.02/Barwar/A Hundred Gold Coins.nena\" title=\"Show this title in the NENA repository\" sec=\"Barwar, A Hundred Gold Coins, Ln. 1\">Barwar, A Hundred Gold Coins, Ln. 1</a></span><div class=\" children\"><div class=\"contnr c2    \" ><div class=\"lbl c2  \" ><span class=\"nd\">subsentence</span></div><div class=\"children hor wrap \"><div class=\"contnr c1    \" ><div class=\"lbl c1  \" ><span class=\"nd\">inton</span></div><div class=\"children hor  \"><div class=\"contnr c1    \" ><div class=\"lbl c1  \" ><span class=\"nd\">stress</span> <span class=\"txtu cld\"><span class=\"plain    \" ><span class=\"plain txtu cld \"></span><span class=\"plain    \" ><span class=\"plain txtu cld \"></span><span class=\"plain    \" ><span class=\"txtu cld\">x</span></span><span class=\"plain    \" ><span class=\"txtu cld\">á-</span></span></span><span class=\"plain    \" ><span class=\"plain txtu cld \"></span><span class=\"plain    \" ><span class=\"txtu cld\">g</span></span><span class=\"plain    \" ><span class=\"txtu cld\">a </span></span></span></span></span></div></div><div class=\"contnr c1    \" ><div class=\"lbl c1  \" ><span class=\"nd\">stress</span> <span class=\"txtu cld\"><span class=\"plain    \" ><span class=\"plain txtu cld \"></span><span class=\"plain    \" ><span class=\"plain txtu cld \"></span><span class=\"plain    \" ><span class=\"txtu cld\">x</span></span><span class=\"plain    \" ><span class=\"txtu cld\">è</span></span><span class=\"plain    \" ><span class=\"txtu cld\">t</span></span><span class=\"plain    \" ><span class=\"txtu cld\">a,ˈ </span></span></span></span></span></div></div></div></div></div></div></div>"
      ],
      "text/plain": [
       "<IPython.core.display.HTML object>"
      ]
     },
     "metadata": {},
     "output_type": "display_data"
    },
    {
     "data": {
      "text/markdown": [
       "### inton 539384\n"
      ],
      "text/plain": [
       "<IPython.core.display.Markdown object>"
      ]
     },
     "metadata": {},
     "output_type": "display_data"
    },
    {
     "data": {
      "text/html": [
       "<div class=\" children\"><span class=\"section ltr\"><a target=\"_blank\" href=\"https://github.com/CambridgeSemiticsLab/nena_corpus/blob/master/nena/0.02/Barwar/A Hundred Gold Coins.nena\" title=\"Show this title in the NENA repository\" sec=\"Barwar, A Hundred Gold Coins, Ln. 1\">Barwar, A Hundred Gold Coins, Ln. 1</a></span> <span class=\"plain outer   \" ><span class=\"plain txtu cld \"></span><span class=\"plain    \" ><span class=\"plain txtu cld \"></span><span class=\"plain    \" ><span class=\"plain txtu cld \"></span><span class=\"plain    \" ><span class=\"txtu cld\">x</span></span><span class=\"plain    \" ><span class=\"txtu cld\">á-</span></span></span><span class=\"plain    \" ><span class=\"plain txtu cld \"></span><span class=\"plain    \" ><span class=\"txtu cld\">g</span></span><span class=\"plain    \" ><span class=\"txtu cld\">a </span></span></span></span><span class=\"plain    \" ><span class=\"plain txtu cld \"></span><span class=\"plain    \" ><span class=\"plain txtu cld \"></span><span class=\"plain    \" ><span class=\"txtu cld\">x</span></span><span class=\"plain    \" ><span class=\"txtu cld\">è</span></span><span class=\"plain    \" ><span class=\"txtu cld\">t</span></span><span class=\"plain    \" ><span class=\"txtu cld\">a,ˈ </span></span></span></span></span></div>"
      ],
      "text/plain": [
       "<IPython.core.display.HTML object>"
      ]
     },
     "metadata": {},
     "output_type": "display_data"
    },
    {
     "data": {
      "text/html": [
       "<span class=\"section ltr\"><a target=\"_blank\" href=\"https://github.com/CambridgeSemiticsLab/nena_corpus/blob/master/nena/0.02/Barwar/A Hundred Gold Coins.nena\" title=\"Show this title in the NENA repository\" sec=\"Barwar, A Hundred Gold Coins, Ln. 1\">Barwar, A Hundred Gold Coins, Ln. 1</a></span><div class=\" children\"><div class=\"contnr c1    \" ><div class=\"lbl c1  \" ><span class=\"nd\">inton</span></div><div class=\"children hor  \"><div class=\"contnr c1    \" ><div class=\"lbl c1  \" ><span class=\"nd\">stress</span> <span class=\"txtu cld\"><span class=\"plain    \" ><span class=\"plain txtu cld \"></span><span class=\"plain    \" ><span class=\"plain txtu cld \"></span><span class=\"plain    \" ><span class=\"txtu cld\">x</span></span><span class=\"plain    \" ><span class=\"txtu cld\">á-</span></span></span><span class=\"plain    \" ><span class=\"plain txtu cld \"></span><span class=\"plain    \" ><span class=\"txtu cld\">g</span></span><span class=\"plain    \" ><span class=\"txtu cld\">a </span></span></span></span></span></div></div><div class=\"contnr c1    \" ><div class=\"lbl c1  \" ><span class=\"nd\">stress</span> <span class=\"txtu cld\"><span class=\"plain    \" ><span class=\"plain txtu cld \"></span><span class=\"plain    \" ><span class=\"plain txtu cld \"></span><span class=\"plain    \" ><span class=\"txtu cld\">x</span></span><span class=\"plain    \" ><span class=\"txtu cld\">è</span></span><span class=\"plain    \" ><span class=\"txtu cld\">t</span></span><span class=\"plain    \" ><span class=\"txtu cld\">a,ˈ </span></span></span></span></span></div></div></div></div></div>"
      ],
      "text/plain": [
       "<IPython.core.display.HTML object>"
      ]
     },
     "metadata": {},
     "output_type": "display_data"
    },
    {
     "data": {
      "text/markdown": [
       "### stress 594970\n"
      ],
      "text/plain": [
       "<IPython.core.display.Markdown object>"
      ]
     },
     "metadata": {},
     "output_type": "display_data"
    },
    {
     "data": {
      "text/html": [
       "<div class=\" children\"><span class=\"section ltr\"><a target=\"_blank\" href=\"https://github.com/CambridgeSemiticsLab/nena_corpus/blob/master/nena/0.02/Barwar/A Hundred Gold Coins.nena\" title=\"Show this title in the NENA repository\" sec=\"Barwar, A Hundred Gold Coins, Ln. 1\">Barwar, A Hundred Gold Coins, Ln. 1</a></span> <span class=\"plain outer   \" ><span class=\"plain txtu cld \"></span><span class=\"plain    \" ><span class=\"plain txtu cld \"></span><span class=\"plain    \" ><span class=\"txtu cld\">x</span></span><span class=\"plain    \" ><span class=\"txtu cld\">á-</span></span></span><span class=\"plain    \" ><span class=\"plain txtu cld \"></span><span class=\"plain    \" ><span class=\"txtu cld\">g</span></span><span class=\"plain    \" ><span class=\"txtu cld\">a </span></span></span></span></div>"
      ],
      "text/plain": [
       "<IPython.core.display.HTML object>"
      ]
     },
     "metadata": {},
     "output_type": "display_data"
    },
    {
     "data": {
      "text/html": [
       "<span class=\"section ltr\"><a target=\"_blank\" href=\"https://github.com/CambridgeSemiticsLab/nena_corpus/blob/master/nena/0.02/Barwar/A Hundred Gold Coins.nena\" title=\"Show this title in the NENA repository\" sec=\"Barwar, A Hundred Gold Coins, Ln. 1\">Barwar, A Hundred Gold Coins, Ln. 1</a></span><div class=\" children\"><div class=\"contnr c1    \" ><div class=\"lbl c1  \" ><span class=\"nd\">stress</span> <span class=\"txtu cld\"><span class=\"plain outer   \" ><span class=\"plain txtu cld \"></span><span class=\"plain    \" ><span class=\"plain txtu cld \"></span><span class=\"plain    \" ><span class=\"txtu cld\">x</span></span><span class=\"plain    \" ><span class=\"txtu cld\">á-</span></span></span><span class=\"plain    \" ><span class=\"plain txtu cld \"></span><span class=\"plain    \" ><span class=\"txtu cld\">g</span></span><span class=\"plain    \" ><span class=\"txtu cld\">a </span></span></span></span></span></div></div></div>"
      ],
      "text/plain": [
       "<IPython.core.display.HTML object>"
      ]
     },
     "metadata": {},
     "output_type": "display_data"
    },
    {
     "data": {
      "text/markdown": [
       "### word 713385\n"
      ],
      "text/plain": [
       "<IPython.core.display.Markdown object>"
      ]
     },
     "metadata": {},
     "output_type": "display_data"
    },
    {
     "data": {
      "text/html": [
       "<div class=\" children\"><span class=\"section ltr\"><a target=\"_blank\" href=\"https://github.com/CambridgeSemiticsLab/nena_corpus/blob/master/nena/0.02/Barwar/A Hundred Gold Coins.nena\" title=\"Show this title in the NENA repository\" sec=\"Barwar, A Hundred Gold Coins, Ln. 1\">Barwar, A Hundred Gold Coins, Ln. 1</a></span> <span class=\"plain outer   \" ><span class=\"plain txtu cld \"></span><span class=\"plain    \" ><span class=\"txtu cld\">x</span></span><span class=\"plain    \" ><span class=\"txtu cld\">á-</span></span></span></div>"
      ],
      "text/plain": [
       "<IPython.core.display.HTML object>"
      ]
     },
     "metadata": {},
     "output_type": "display_data"
    },
    {
     "data": {
      "text/html": [
       "<span class=\"section ltr\"><a target=\"_blank\" href=\"https://github.com/CambridgeSemiticsLab/nena_corpus/blob/master/nena/0.02/Barwar/A Hundred Gold Coins.nena\" title=\"Show this title in the NENA repository\" sec=\"Barwar, A Hundred Gold Coins, Ln. 1\">Barwar, A Hundred Gold Coins, Ln. 1</a></span><div class=\" children\"><div class=\"contnr c1    \" ><div class=\"lbl c1  \" ><span class=\"nd\">word</span> <span class=\"txtu cld\"><span class=\"plain outer   \" ><span class=\"plain txtu cld \"></span><span class=\"plain    \" ><span class=\"txtu cld\">x</span></span><span class=\"plain    \" ><span class=\"txtu cld\">á-</span></span></span></span></div><div class='features'><span class=\"lemma \" title=\"lemma\">xa, xaʾa</span><span class=\"gloss \" ><span class=\"f\">gloss=</span>one; a </span></div></div></div>"
      ],
      "text/plain": [
       "<IPython.core.display.HTML object>"
      ]
     },
     "metadata": {},
     "output_type": "display_data"
    },
    {
     "data": {
      "text/markdown": [
       "### letter 1\n"
      ],
      "text/plain": [
       "<IPython.core.display.Markdown object>"
      ]
     },
     "metadata": {},
     "output_type": "display_data"
    },
    {
     "data": {
      "text/html": [
       "<div class=\" children\"><span class=\"section ltr\"><a target=\"_blank\" href=\"https://github.com/CambridgeSemiticsLab/nena_corpus/blob/master/nena/0.02/Barwar/A Hundred Gold Coins.nena\" title=\"Show this title in the NENA repository\" sec=\"Barwar, A Hundred Gold Coins, Ln. 1\">Barwar, A Hundred Gold Coins, Ln. 1</a></span> <span class=\"plain outer   \" ><span class=\"txtu cld\">x</span></span></div>"
      ],
      "text/plain": [
       "<IPython.core.display.HTML object>"
      ]
     },
     "metadata": {},
     "output_type": "display_data"
    },
    {
     "data": {
      "text/html": [
       "<span class=\"section ltr\"><a target=\"_blank\" href=\"https://github.com/CambridgeSemiticsLab/nena_corpus/blob/master/nena/0.02/Barwar/A Hundred Gold Coins.nena\" title=\"Show this title in the NENA repository\" sec=\"Barwar, A Hundred Gold Coins, Ln. 1\">Barwar, A Hundred Gold Coins, Ln. 1</a></span><div class=\" children\"><div class=\"contnr c0 trm   \" ><div class=\"lbl c0 trm \" ><span class=\"txtu cld\">x</span></div></div></div>"
      ],
      "text/plain": [
       "<IPython.core.display.HTML object>"
      ]
     },
     "metadata": {},
     "output_type": "display_data"
    }
   ],
   "source": [
    "typeShow(A, standardFeatures=True, prettyTypes=True)"
   ]
  },
  {
   "cell_type": "code",
   "execution_count": 27,
   "metadata": {},
   "outputs": [
    {
     "data": {
      "text/markdown": [
       "### dialect 539382\n"
      ],
      "text/plain": [
       "<IPython.core.display.Markdown object>"
      ]
     },
     "metadata": {},
     "output_type": "display_data"
    },
    {
     "data": {
      "text/html": [
       "<div class=\" children\"><span class=\"section ltr\"><a target=\"_blank\" href=\"https://github.com/CambridgeSemiticsLab/nena_corpus/blob/master/nena/0.02/Barwar/A Hundred Gold Coins.nena\" title=\"Show this title in the NENA repository\" sec=\"Barwar\">Barwar</a></span> <span class=\"plain outer   \" ><span class=\"nd\">539382</span><span class=\"plain txtu cld \"><span class=\"section\"> </span></span></span></div>"
      ],
      "text/plain": [
       "<IPython.core.display.HTML object>"
      ]
     },
     "metadata": {},
     "output_type": "display_data"
    },
    {
     "data": {
      "text/html": [
       "<span class=\"section ltr\"><a target=\"_blank\" href=\"https://github.com/CambridgeSemiticsLab/nena_corpus/blob/master/nena/0.02/Barwar/A Hundred Gold Coins.nena\" title=\"Show this title in the NENA repository\" sec=\"Barwar\">Barwar</a></span><div class=\" children\"><div class=\"contnr c4 trm   \" ><div class=\"lbl c4 trm \" ><span class=\"nd\">dialect:539382</span></div></div></div>"
      ],
      "text/plain": [
       "<IPython.core.display.HTML object>"
      ]
     },
     "metadata": {},
     "output_type": "display_data"
    },
    {
     "data": {
      "text/markdown": [
       "### text 713259\n"
      ],
      "text/plain": [
       "<IPython.core.display.Markdown object>"
      ]
     },
     "metadata": {},
     "output_type": "display_data"
    },
    {
     "data": {
      "text/html": [
       "<div class=\" children\"><span class=\"section ltr\"><a target=\"_blank\" href=\"https://github.com/CambridgeSemiticsLab/nena_corpus/blob/master/nena/0.02/Barwar/A Hundred Gold Coins.nena\" title=\"Show this title in the NENA repository\" sec=\"Barwar, A Hundred Gold Coins\">Barwar, A Hundred Gold Coins</a></span> <span class=\"plain outer   \" ><span class=\"nd\">713259</span><span class=\"plain txtu cld \"><span class=\"section\"> </span></span></span></div>"
      ],
      "text/plain": [
       "<IPython.core.display.HTML object>"
      ]
     },
     "metadata": {},
     "output_type": "display_data"
    },
    {
     "data": {
      "text/html": [
       "<span class=\"section ltr\"><a target=\"_blank\" href=\"https://github.com/CambridgeSemiticsLab/nena_corpus/blob/master/nena/0.02/Barwar/A Hundred Gold Coins.nena\" title=\"Show this title in the NENA repository\" sec=\"Barwar, A Hundred Gold Coins\">Barwar, A Hundred Gold Coins</a></span><div class=\" children\"><div class=\"contnr c4 trm   \" ><div class=\"lbl c4 trm \" ><span class=\"nd\">text:713259</span></div></div></div>"
      ],
      "text/plain": [
       "<IPython.core.display.HTML object>"
      ]
     },
     "metadata": {},
     "output_type": "display_data"
    },
    {
     "data": {
      "text/markdown": [
       "### paragraph 577912\n"
      ],
      "text/plain": [
       "<IPython.core.display.Markdown object>"
      ]
     },
     "metadata": {},
     "output_type": "display_data"
    },
    {
     "data": {
      "text/html": [
       "<div class=\" children\"><span class=\"section ltr\"><a target=\"_blank\" href=\"https://github.com/CambridgeSemiticsLab/nena_corpus/blob/master/nena/0.02/Barwar/A Hundred Gold Coins.nena\" title=\"Show this title in the NENA repository\" sec=\"Barwar, A Hundred Gold Coins, Ln. 1\">Barwar, A Hundred Gold Coins, Ln. 1</a></span> <span class=\"plain outer   \" ><span class=\"nd\">577912</span><span class=\"plain txtu cld \"></span></span></div>"
      ],
      "text/plain": [
       "<IPython.core.display.HTML object>"
      ]
     },
     "metadata": {},
     "output_type": "display_data"
    },
    {
     "data": {
      "text/html": [
       "<span class=\"section ltr\"><a target=\"_blank\" href=\"https://github.com/CambridgeSemiticsLab/nena_corpus/blob/master/nena/0.02/Barwar/A Hundred Gold Coins.nena\" title=\"Show this title in the NENA repository\" sec=\"Barwar, A Hundred Gold Coins, Ln. 1\">Barwar, A Hundred Gold Coins, Ln. 1</a></span><div class=\" children\"><div class=\"contnr c2 trm   \" ><div class=\"lbl c2 trm \" ><span class=\"nd\">paragraph:577912</span></div></div></div>"
      ],
      "text/plain": [
       "<IPython.core.display.HTML object>"
      ]
     },
     "metadata": {},
     "output_type": "display_data"
    },
    {
     "data": {
      "text/markdown": [
       "### line 575368\n"
      ],
      "text/plain": [
       "<IPython.core.display.Markdown object>"
      ]
     },
     "metadata": {},
     "output_type": "display_data"
    },
    {
     "data": {
      "text/html": [
       "<div class=\" children\"><span class=\"section ltr\"><a target=\"_blank\" href=\"https://github.com/CambridgeSemiticsLab/nena_corpus/blob/master/nena/0.02/Barwar/A Hundred Gold Coins.nena\" title=\"Show this title in the NENA repository\" sec=\"Barwar, A Hundred Gold Coins, Ln. 1\">Barwar, A Hundred Gold Coins, Ln. 1</a></span> <span class=\"plain outer   \" ><span class=\"nd\">575368</span><span class=\"plain txtu cld \"></span><span class=\"plain    \" ><span class=\"plain txtu cld \"></span><span class=\"plain    \" ><span class=\"plain txtu cld \"></span><span class=\"plain    \" ><span class=\"plain txtu cld \"></span><span class=\"plain    \" ><span class=\"plain txtu cld \"></span><span class=\"plain    \" ><span class=\"txtu cld\">x</span></span><span class=\"plain    \" ><span class=\"txtu cld\">á-</span></span></span><span class=\"plain    \" ><span class=\"plain txtu cld \"></span><span class=\"plain    \" ><span class=\"txtu cld\">g</span></span><span class=\"plain    \" ><span class=\"txtu cld\">a </span></span></span></span><span class=\"plain    \" ><span class=\"plain txtu cld \"></span><span class=\"plain    \" ><span class=\"plain txtu cld \"></span><span class=\"plain    \" ><span class=\"txtu cld\">x</span></span><span class=\"plain    \" ><span class=\"txtu cld\">è</span></span><span class=\"plain    \" ><span class=\"txtu cld\">t</span></span><span class=\"plain    \" ><span class=\"txtu cld\">a,ˈ </span></span></span></span></span><span class=\"plain    \" ><span class=\"plain txtu cld \"></span><span class=\"plain    \" ><span class=\"plain txtu cld \"></span><span class=\"plain    \" ><span class=\"plain txtu cld \"></span><span class=\"plain    \" ><span class=\"txtu cld\">m</span></span><span class=\"plain    \" ><span class=\"txtu cld\">á</span></span><span class=\"plain    \" ><span class=\"txtu cld\">l</span></span><span class=\"plain    \" ><span class=\"txtu cld\">l</span></span><span class=\"plain    \" ><span class=\"txtu cld\">a</span></span><span class=\"plain    \" ><span class=\"txtu cld\">h </span></span></span></span><span class=\"plain    \" ><span class=\"plain txtu cld \"></span><span class=\"plain    \" ><span class=\"plain txtu cld \"></span><span class=\"plain    \" ><span class=\"txtu cld\">N</span></span><span class=\"plain    \" ><span class=\"txtu cld\">a</span></span><span class=\"plain    \" ><span class=\"txtu cld\">ṣ</span></span><span class=\"plain    \" ><span class=\"txtu cld\">r</span></span><span class=\"plain    \" ><span class=\"txtu cld\">à</span></span><span class=\"plain    \" ><span class=\"txtu cld\">d</span></span><span class=\"plain    \" ><span class=\"txtu cld\">i</span></span><span class=\"plain    \" ><span class=\"txtu cld\">n,ˈ </span></span></span></span></span><span class=\"plain    \" ><span class=\"plain txtu cld \"></span><span class=\"plain    \" ><span class=\"plain txtu cld \"></span><span class=\"plain    \" ><span class=\"plain txtu cld \"></span><span class=\"plain    \" ><span class=\"txtu cld\">x</span></span><span class=\"plain    \" ><span class=\"txtu cld\">á</span></span><span class=\"plain    \" ><span class=\"txtu cld\">z</span></span><span class=\"plain    \" ><span class=\"txtu cld\">ə</span></span><span class=\"plain    \" ><span class=\"txtu cld\">x </span></span></span></span><span class=\"plain    \" ><span class=\"plain txtu cld \"></span><span class=\"plain    \" ><span class=\"plain txtu cld \"></span><span class=\"plain    \" ><span class=\"txtu cld\">m</span></span><span class=\"plain    \" ><span class=\"txtu cld\">ò</span></span><span class=\"plain    \" ><span class=\"txtu cld\">d</span></span><span class=\"plain    \" ><span class=\"txtu cld\">i </span></span></span></span><span class=\"plain    \" ><span class=\"plain txtu cld \"></span><span class=\"plain    \" ><span class=\"plain txtu cld \"></span><span class=\"plain    \" ><span class=\"txtu cld\">w</span></span><span class=\"plain    \" ><span class=\"txtu cld\">í</span></span><span class=\"plain    \" ><span class=\"txtu cld\">ð</span></span><span class=\"plain    \" ><span class=\"txtu cld\">a.ˈ </span></span></span></span></span></span><span class=\"plain    \" ><span class=\"plain txtu cld \"></span><span class=\"plain    \" ><span class=\"plain txtu cld \"></span><span class=\"plain    \" ><span class=\"plain txtu cld \"></span><span class=\"plain    \" ><span class=\"plain txtu cld \"></span><span class=\"plain    \" ><span class=\"txtu cld\">g</span></span><span class=\"plain    \" ><span class=\"txtu cld\">u-</span></span></span><span class=\"plain    \" ><span class=\"plain txtu cld \"></span><span class=\"plain    \" ><span class=\"txtu cld\">b</span></span><span class=\"plain    \" ><span class=\"txtu cld\">ɛ̀</span></span><span class=\"plain    \" ><span class=\"txtu cld\">θ</span></span><span class=\"plain    \" ><span class=\"txtu cld\">a </span></span></span></span><span class=\"plain    \" ><span class=\"plain txtu cld \"></span><span class=\"plain    \" ><span class=\"plain txtu cld \"></span><span class=\"plain    \" ><span class=\"txtu cld\">w</span></span><span class=\"plain    \" ><span class=\"txtu cld\">é</span></span><span class=\"plain    \" ><span class=\"txtu cld\">w</span></span><span class=\"plain    \" ><span class=\"txtu cld\">a,ˈ </span></span></span></span></span><span class=\"plain    \" ><span class=\"plain txtu cld \"></span><span class=\"plain    \" ><span class=\"plain txtu cld \"></span><span class=\"plain    \" ><span class=\"plain txtu cld \"></span><span class=\"plain    \" ><span class=\"txtu cld\">h</span></span><span class=\"plain    \" ><span class=\"txtu cld\">a</span></span><span class=\"plain    \" ><span class=\"txtu cld\">r-</span></span></span><span class=\"plain    \" ><span class=\"plain txtu cld \"></span><span class=\"plain    \" ><span class=\"txtu cld\">z</span></span><span class=\"plain    \" ><span class=\"txtu cld\">á</span></span><span class=\"plain    \" ><span class=\"txtu cld\">l</span></span><span class=\"plain    \" ><span class=\"txtu cld\">a-</span></span></span><span class=\"plain    \" ><span class=\"plain txtu cld \"></span><span class=\"plain    \" ><span class=\"txtu cld\">w </span></span></span></span><span class=\"plain    \" ><span class=\"plain txtu cld \"></span><span class=\"plain    \" ><span class=\"plain txtu cld \"></span><span class=\"plain    \" ><span class=\"txtu cld\">θ</span></span><span class=\"plain    \" ><span class=\"txtu cld\">à</span></span><span class=\"plain    \" ><span class=\"txtu cld\">y</span></span><span class=\"plain    \" ><span class=\"txtu cld\">a.ˈ </span></span></span></span></span></span><span class=\"plain    \" ><span class=\"plain txtu cld \"></span><span class=\"plain    \" ><span class=\"plain txtu cld \"></span><span class=\"plain    \" ><span class=\"plain txtu cld \"></span><span class=\"plain    \" ><span class=\"plain txtu cld \"></span><span class=\"plain    \" ><span class=\"txtu cld\">z</span></span><span class=\"plain    \" ><span class=\"txtu cld\">á</span></span><span class=\"plain    \" ><span class=\"txtu cld\">l</span></span><span class=\"plain    \" ><span class=\"txtu cld\">a-</span></span></span><span class=\"plain    \" ><span class=\"plain txtu cld \"></span><span class=\"plain    \" ><span class=\"txtu cld\">w </span></span></span></span><span class=\"plain    \" ><span class=\"plain txtu cld \"></span><span class=\"plain    \" ><span class=\"plain txtu cld \"></span><span class=\"plain    \" ><span class=\"txtu cld\">θ</span></span><span class=\"plain    \" ><span class=\"txtu cld\">à</span></span><span class=\"plain    \" ><span class=\"txtu cld\">y</span></span><span class=\"plain    \" ><span class=\"txtu cld\">a,ˈ </span></span></span></span></span><span class=\"plain    \" ><span class=\"plain txtu cld \"></span><span class=\"plain    \" ><span class=\"plain txtu cld \"></span><span class=\"plain    \" ><span class=\"plain txtu cld \"></span><span class=\"plain    \" ><span class=\"txtu cld\">m</span></span><span class=\"plain    \" ><span class=\"txtu cld\">á</span></span><span class=\"plain    \" ><span class=\"txtu cld\">r</span></span><span class=\"plain    \" ><span class=\"txtu cld\">a </span></span></span></span><span class=\"plain    \" ><span class=\"plain txtu cld \"></span><span class=\"plain    \" ><span class=\"plain txtu cld \"></span><span class=\"plain    \" ><span class=\"txtu cld\">y</span></span><span class=\"plain    \" ><span class=\"txtu cld\">a-</span></span></span><span class=\"plain    \" ><span class=\"plain txtu cld \"></span><span class=\"plain    \" ><span class=\"txtu cld\">ʾ</span></span><span class=\"plain    \" ><span class=\"txtu cld\">à</span></span><span class=\"plain    \" ><span class=\"txtu cld\">l</span></span><span class=\"plain    \" ><span class=\"txtu cld\">a</span></span><span class=\"plain    \" ><span class=\"txtu cld\">h</span></span><span class=\"plain    \" ><span class=\"txtu cld\">a,ˈ </span></span></span></span></span><span class=\"plain    \" ><span class=\"plain txtu cld \"></span><span class=\"plain    \" ><span class=\"plain txtu cld \"></span><span class=\"plain    \" ><span class=\"plain txtu cld \"></span><span class=\"plain    \" ><span class=\"txtu cld\">y</span></span><span class=\"plain    \" ><span class=\"txtu cld\">a</span></span><span class=\"plain    \" ><span class=\"txtu cld\">w</span></span><span class=\"plain    \" ><span class=\"txtu cld\">ə̀</span></span><span class=\"plain    \" ><span class=\"txtu cld\">t</span></span><span class=\"plain    \" ><span class=\"txtu cld\">l</span></span><span class=\"plain    \" ><span class=\"txtu cld\">iˈ </span></span></span></span></span><span class=\"plain    \" ><span class=\"plain txtu cld \"></span><span class=\"plain    \" ><span class=\"plain txtu cld \"></span><span class=\"plain    \" ><span class=\"plain txtu cld \"></span><span class=\"plain    \" ><span class=\"txtu cld\">ʾ</span></span><span class=\"plain    \" ><span class=\"txtu cld\">ə́</span></span><span class=\"plain    \" ><span class=\"txtu cld\">m</span></span><span class=\"plain    \" ><span class=\"txtu cld\">m</span></span><span class=\"plain    \" ><span class=\"txtu cld\">a </span></span></span></span><span class=\"plain    \" ><span class=\"plain txtu cld \"></span><span class=\"plain    \" ><span class=\"plain txtu cld \"></span><span class=\"plain    \" ><span class=\"txtu cld\">d</span></span><span class=\"plain    \" ><span class=\"txtu cld\">à</span></span><span class=\"plain    \" ><span class=\"txtu cld\">w</span></span><span class=\"plain    \" ><span class=\"txtu cld\">e.ˈ </span></span></span></span></span></span><span class=\"plain    \" ><span class=\"plain txtu cld \"></span><span class=\"plain    \" ><span class=\"plain txtu cld \"></span><span class=\"plain    \" ><span class=\"plain txtu cld \"></span><span class=\"plain    \" ><span class=\"plain txtu cld \"></span><span class=\"plain    \" ><span class=\"txtu cld\">ʾ</span></span><span class=\"plain    \" ><span class=\"txtu cld\">ə</span></span><span class=\"plain    \" ><span class=\"txtu cld\">n-</span></span></span><span class=\"plain    \" ><span class=\"plain txtu cld \"></span><span class=\"plain    \" ><span class=\"txtu cld\">h</span></span><span class=\"plain    \" ><span class=\"txtu cld\">à</span></span><span class=\"plain    \" ><span class=\"txtu cld\">w</span></span><span class=\"plain    \" ><span class=\"txtu cld\">aˈ </span></span></span></span></span><span class=\"plain    \" ><span class=\"plain txtu cld \"></span><span class=\"plain    \" ><span class=\"plain txtu cld \"></span><span class=\"plain    \" ><span class=\"plain txtu cld \"></span><span class=\"plain    \" ><span class=\"txtu cld\">ʾ</span></span><span class=\"plain    \" ><span class=\"txtu cld\">ə́</span></span><span class=\"plain    \" ><span class=\"txtu cld\">č̣</span></span><span class=\"plain    \" ><span class=\"txtu cld\">č̣</span></span><span class=\"plain    \" ><span class=\"txtu cld\">i-</span></span></span><span class=\"plain    \" ><span class=\"plain txtu cld \"></span><span class=\"plain    \" ><span class=\"txtu cld\">u </span></span></span></span><span class=\"plain    \" ><span class=\"plain txtu cld \"></span><span class=\"plain    \" ><span class=\"plain txtu cld \"></span><span class=\"plain    \" ><span class=\"txtu cld\">ʾ</span></span><span class=\"plain    \" ><span class=\"txtu cld\">ə́</span></span><span class=\"plain    \" ><span class=\"txtu cld\">č̣</span></span><span class=\"plain    \" ><span class=\"txtu cld\">č̣</span></span><span class=\"plain    \" ><span class=\"txtu cld\">a </span></span></span></span><span class=\"plain    \" ><span class=\"plain txtu cld \"></span><span class=\"plain    \" ><span class=\"plain txtu cld \"></span><span class=\"plain    \" ><span class=\"txtu cld\">m</span></span><span class=\"plain    \" ><span class=\"txtu cld\">a</span></span><span class=\"plain    \" ><span class=\"txtu cld\">q</span></span><span class=\"plain    \" ><span class=\"txtu cld\">ə</span></span><span class=\"plain    \" ><span class=\"txtu cld\">l</span></span><span class=\"plain    \" ><span class=\"txtu cld\">b</span></span><span class=\"plain    \" ><span class=\"txtu cld\">ə̀</span></span><span class=\"plain    \" ><span class=\"txtu cld\">n</span></span><span class=\"plain    \" ><span class=\"txtu cld\">n</span></span><span class=\"plain    \" ><span class=\"txtu cld\">a.ˈ </span></span></span></span></span></span><span class=\"plain    \" ><span class=\"plain txtu cld \"></span><span class=\"plain    \" ><span class=\"plain txtu cld \"></span><span class=\"plain    \" ><span class=\"plain txtu cld \"></span><span class=\"plain    \" ><span class=\"plain txtu cld \"></span><span class=\"plain    \" ><span class=\"txtu cld\">ʾ</span></span><span class=\"plain    \" ><span class=\"txtu cld\">u-</span></span></span><span class=\"plain    \" ><span class=\"plain txtu cld \"></span><span class=\"plain    \" ><span class=\"txtu cld\">ʾ</span></span><span class=\"plain    \" ><span class=\"txtu cld\">ə</span></span><span class=\"plain    \" ><span class=\"txtu cld\">n-</span></span></span><span class=\"plain    \" ><span class=\"plain txtu cld \"></span><span class=\"plain    \" ><span class=\"txtu cld\">h</span></span><span class=\"plain    \" ><span class=\"txtu cld\">à</span></span><span class=\"plain    \" ><span class=\"txtu cld\">w</span></span><span class=\"plain    \" ><span class=\"txtu cld\">aˈ </span></span></span></span></span><span class=\"plain    \" ><span class=\"plain txtu cld \"></span><span class=\"plain    \" ><span class=\"plain txtu cld \"></span><span class=\"plain    \" ><span class=\"plain txtu cld \"></span><span class=\"plain    \" ><span class=\"txtu cld\">ʾ</span></span><span class=\"plain    \" ><span class=\"txtu cld\">ə́</span></span><span class=\"plain    \" ><span class=\"txtu cld\">m</span></span><span class=\"plain    \" ><span class=\"txtu cld\">m</span></span><span class=\"plain    \" ><span class=\"txtu cld\">a-</span></span></span><span class=\"plain    \" ><span class=\"plain txtu cld \"></span><span class=\"plain    \" ><span class=\"txtu cld\">w-</span></span></span><span class=\"plain    \" ><span class=\"plain txtu cld \"></span><span class=\"plain    \" ><span class=\"txtu cld\">x</span></span><span class=\"plain    \" ><span class=\"txtu cld\">à-</span></span></span><span class=\"plain    \" ><span class=\"plain txtu cld \"></span><span class=\"plain    \" ><span class=\"txtu cld\">ž</span></span><span class=\"plain    \" ><span class=\"txtu cld\">i,ˈ </span></span></span></span></span><span class=\"plain    \" ><span class=\"plain txtu cld \"></span><span class=\"plain    \" ><span class=\"plain txtu cld \"></span><span class=\"plain    \" ><span class=\"plain txtu cld \"></span><span class=\"plain    \" ><span class=\"txtu cld\">l</span></span><span class=\"plain    \" ><span class=\"txtu cld\">a-</span></span></span><span class=\"plain    \" ><span class=\"plain txtu cld \"></span><span class=\"plain    \" ><span class=\"txtu cld\">b</span></span><span class=\"plain    \" ><span class=\"txtu cld\">ă</span></span><span class=\"plain    \" ><span class=\"txtu cld\">y</span></span><span class=\"plain    \" ><span class=\"txtu cld\">ə̀</span></span><span class=\"plain    \" ><span class=\"txtu cld\">n</span></span><span class=\"plain    \" ><span class=\"txtu cld\">n</span></span><span class=\"plain    \" ><span class=\"txtu cld\">a.ˈ </span></span></span></span></span></span><span class=\"plain    \" ><span class=\"plain txtu cld \"></span><span class=\"plain    \" ><span class=\"plain txtu cld \"></span><span class=\"plain    \" ><span class=\"plain txtu cld \"></span><span class=\"plain    \" ><span class=\"plain txtu cld \"></span><span class=\"plain    \" ><span class=\"txtu cld\">d</span></span><span class=\"plain    \" ><span class=\"txtu cld\">e-</span></span></span><span class=\"plain    \" ><span class=\"plain txtu cld \"></span><span class=\"plain    \" ><span class=\"txtu cld\">š</span></span><span class=\"plain    \" ><span class=\"txtu cld\">ù</span></span><span class=\"plain    \" ><span class=\"txtu cld\">q</span></span><span class=\"plain    \" ><span class=\"txtu cld\">l</span></span><span class=\"plain    \" ><span class=\"txtu cld\">a.ˈ </span></span></span></span></span></span><span class=\"plain    \" ><span class=\"plain txtu cld \"></span><span class=\"plain    \" ><span class=\"plain txtu cld \"></span><span class=\"plain    \" ><span class=\"plain txtu cld \"></span><span class=\"plain    \" ><span class=\"plain txtu cld \"></span><span class=\"plain    \" ><span class=\"txtu cld\">ʾ</span></span><span class=\"plain    \" ><span class=\"txtu cld\">ə̀</span></span><span class=\"plain    \" ><span class=\"txtu cld\">m</span></span><span class=\"plain    \" ><span class=\"txtu cld\">m</span></span><span class=\"plain    \" ><span class=\"txtu cld\">a </span></span></span></span><span class=\"plain    \" ><span class=\"plain txtu cld \"></span><span class=\"plain    \" ><span class=\"plain txtu cld \"></span><span class=\"plain    \" ><span class=\"txtu cld\">g</span></span><span class=\"plain    \" ><span class=\"txtu cld\">ắ</span></span><span class=\"plain    \" ><span class=\"txtu cld\">r</span></span><span class=\"plain    \" ><span class=\"txtu cld\">ə</span></span><span class=\"plain    \" ><span class=\"txtu cld\">g </span></span></span></span><span class=\"plain    \" ><span class=\"plain txtu cld \"></span><span class=\"plain    \" ><span class=\"plain txtu cld \"></span><span class=\"plain    \" ><span class=\"txtu cld\">h</span></span><span class=\"plain    \" ><span class=\"txtu cld\">á</span></span><span class=\"plain    \" ><span class=\"txtu cld\">w</span></span><span class=\"plain    \" ><span class=\"txtu cld\">a </span></span></span></span><span class=\"plain    \" ><span class=\"plain txtu cld \"></span><span class=\"plain    \" ><span class=\"plain txtu cld \"></span><span class=\"plain    \" ><span class=\"txtu cld\">d</span></span><span class=\"plain    \" ><span class=\"txtu cld\">r</span></span><span class=\"plain    \" ><span class=\"txtu cld\">ə́</span></span><span class=\"plain    \" ><span class=\"txtu cld\">s</span></span><span class=\"plain    \" ><span class=\"txtu cld\">t.ˈ </span></span></span></span></span></span></span></div>"
      ],
      "text/plain": [
       "<IPython.core.display.HTML object>"
      ]
     },
     "metadata": {},
     "output_type": "display_data"
    },
    {
     "data": {
      "text/html": [
       "<span class=\"section ltr\"><a target=\"_blank\" href=\"https://github.com/CambridgeSemiticsLab/nena_corpus/blob/master/nena/0.02/Barwar/A Hundred Gold Coins.nena\" title=\"Show this title in the NENA repository\" sec=\"Barwar, A Hundred Gold Coins, Ln. 1\">Barwar, A Hundred Gold Coins, Ln. 1</a></span><div class=\" children\"><div class=\"contnr c3    \" ><div class=\"lbl c3  \" ><span class=\"nd\">line:575368</span></div><div class=\"children hor wrap \"><div class=\"contnr c2    \" ><div class=\"lbl c2  \" ><span class=\"nd\">sentence:578263</span></div><div class=\"children hor wrap \"><div class=\"contnr c1    \" ><div class=\"lbl c1  \" ><span class=\"nd\">inton:539384</span></div><div class=\"children hor  \"><div class=\"contnr c1    \" ><div class=\"lbl c1  \" ><span class=\"nd\">stress:594970</span> <span class=\"txtu cld\"><span class=\"plain    \" ><span class=\"plain txtu cld \"></span><span class=\"plain    \" ><span class=\"plain txtu cld \"></span><span class=\"plain    \" ><span class=\"txtu cld\">x</span></span><span class=\"plain    \" ><span class=\"txtu cld\">á-</span></span></span><span class=\"plain    \" ><span class=\"plain txtu cld \"></span><span class=\"plain    \" ><span class=\"txtu cld\">g</span></span><span class=\"plain    \" ><span class=\"txtu cld\">a </span></span></span></span></span></div></div><div class=\"contnr c1    \" ><div class=\"lbl c1  \" ><span class=\"nd\">stress:594971</span> <span class=\"txtu cld\"><span class=\"plain    \" ><span class=\"plain txtu cld \"></span><span class=\"plain    \" ><span class=\"plain txtu cld \"></span><span class=\"plain    \" ><span class=\"txtu cld\">x</span></span><span class=\"plain    \" ><span class=\"txtu cld\">è</span></span><span class=\"plain    \" ><span class=\"txtu cld\">t</span></span><span class=\"plain    \" ><span class=\"txtu cld\">a,ˈ </span></span></span></span></span></div></div></div></div><div class=\"contnr c1    \" ><div class=\"lbl c1  \" ><span class=\"nd\">inton:539385</span></div><div class=\"children hor  \"><div class=\"contnr c1    \" ><div class=\"lbl c1  \" ><span class=\"nd\">stress:594972</span> <span class=\"txtu cld\"><span class=\"plain    \" ><span class=\"plain txtu cld \"></span><span class=\"plain    \" ><span class=\"plain txtu cld \"></span><span class=\"plain    \" ><span class=\"txtu cld\">m</span></span><span class=\"plain    \" ><span class=\"txtu cld\">á</span></span><span class=\"plain    \" ><span class=\"txtu cld\">l</span></span><span class=\"plain    \" ><span class=\"txtu cld\">l</span></span><span class=\"plain    \" ><span class=\"txtu cld\">a</span></span><span class=\"plain    \" ><span class=\"txtu cld\">h </span></span></span></span></span></div></div><div class=\"contnr c1    \" ><div class=\"lbl c1  \" ><span class=\"nd\">stress:594973</span> <span class=\"txtu cld\"><span class=\"plain    \" ><span class=\"plain txtu cld \"></span><span class=\"plain    \" ><span class=\"plain txtu cld \"></span><span class=\"plain    \" ><span class=\"txtu cld\">N</span></span><span class=\"plain    \" ><span class=\"txtu cld\">a</span></span><span class=\"plain    \" ><span class=\"txtu cld\">ṣ</span></span><span class=\"plain    \" ><span class=\"txtu cld\">r</span></span><span class=\"plain    \" ><span class=\"txtu cld\">à</span></span><span class=\"plain    \" ><span class=\"txtu cld\">d</span></span><span class=\"plain    \" ><span class=\"txtu cld\">i</span></span><span class=\"plain    \" ><span class=\"txtu cld\">n,ˈ </span></span></span></span></span></div></div></div></div><div class=\"contnr c1    \" ><div class=\"lbl c1  \" ><span class=\"nd\">inton:539386</span></div><div class=\"children hor  \"><div class=\"contnr c1    \" ><div class=\"lbl c1  \" ><span class=\"nd\">stress:594974</span> <span class=\"txtu cld\"><span class=\"plain    \" ><span class=\"plain txtu cld \"></span><span class=\"plain    \" ><span class=\"plain txtu cld \"></span><span class=\"plain    \" ><span class=\"txtu cld\">x</span></span><span class=\"plain    \" ><span class=\"txtu cld\">á</span></span><span class=\"plain    \" ><span class=\"txtu cld\">z</span></span><span class=\"plain    \" ><span class=\"txtu cld\">ə</span></span><span class=\"plain    \" ><span class=\"txtu cld\">x </span></span></span></span></span></div></div><div class=\"contnr c1    \" ><div class=\"lbl c1  \" ><span class=\"nd\">stress:594975</span> <span class=\"txtu cld\"><span class=\"plain    \" ><span class=\"plain txtu cld \"></span><span class=\"plain    \" ><span class=\"plain txtu cld \"></span><span class=\"plain    \" ><span class=\"txtu cld\">m</span></span><span class=\"plain    \" ><span class=\"txtu cld\">ò</span></span><span class=\"plain    \" ><span class=\"txtu cld\">d</span></span><span class=\"plain    \" ><span class=\"txtu cld\">i </span></span></span></span></span></div></div><div class=\"contnr c1    \" ><div class=\"lbl c1  \" ><span class=\"nd\">stress:594976</span> <span class=\"txtu cld\"><span class=\"plain    \" ><span class=\"plain txtu cld \"></span><span class=\"plain    \" ><span class=\"plain txtu cld \"></span><span class=\"plain    \" ><span class=\"txtu cld\">w</span></span><span class=\"plain    \" ><span class=\"txtu cld\">í</span></span><span class=\"plain    \" ><span class=\"txtu cld\">ð</span></span><span class=\"plain    \" ><span class=\"txtu cld\">a.ˈ </span></span></span></span></span></div></div></div></div></div></div><div class=\"contnr c2    \" ><div class=\"lbl c2  \" ><span class=\"nd\">sentence:578264</span></div><div class=\"children hor wrap \"><div class=\"contnr c1    \" ><div class=\"lbl c1  \" ><span class=\"nd\">inton:539387</span></div><div class=\"children hor  \"><div class=\"contnr c1    \" ><div class=\"lbl c1  \" ><span class=\"nd\">stress:594977</span> <span class=\"txtu cld\"><span class=\"plain    \" ><span class=\"plain txtu cld \"></span><span class=\"plain    \" ><span class=\"plain txtu cld \"></span><span class=\"plain    \" ><span class=\"txtu cld\">g</span></span><span class=\"plain    \" ><span class=\"txtu cld\">u-</span></span></span><span class=\"plain    \" ><span class=\"plain txtu cld \"></span><span class=\"plain    \" ><span class=\"txtu cld\">b</span></span><span class=\"plain    \" ><span class=\"txtu cld\">ɛ̀</span></span><span class=\"plain    \" ><span class=\"txtu cld\">θ</span></span><span class=\"plain    \" ><span class=\"txtu cld\">a </span></span></span></span></span></div></div><div class=\"contnr c1    \" ><div class=\"lbl c1  \" ><span class=\"nd\">stress:594978</span> <span class=\"txtu cld\"><span class=\"plain    \" ><span class=\"plain txtu cld \"></span><span class=\"plain    \" ><span class=\"plain txtu cld \"></span><span class=\"plain    \" ><span class=\"txtu cld\">w</span></span><span class=\"plain    \" ><span class=\"txtu cld\">é</span></span><span class=\"plain    \" ><span class=\"txtu cld\">w</span></span><span class=\"plain    \" ><span class=\"txtu cld\">a,ˈ </span></span></span></span></span></div></div></div></div><div class=\"contnr c1    \" ><div class=\"lbl c1  \" ><span class=\"nd\">inton:539388</span></div><div class=\"children hor  \"><div class=\"contnr c1    \" ><div class=\"lbl c1  \" ><span class=\"nd\">stress:594979</span> <span class=\"txtu cld\"><span class=\"plain    \" ><span class=\"plain txtu cld \"></span><span class=\"plain    \" ><span class=\"plain txtu cld \"></span><span class=\"plain    \" ><span class=\"txtu cld\">h</span></span><span class=\"plain    \" ><span class=\"txtu cld\">a</span></span><span class=\"plain    \" ><span class=\"txtu cld\">r-</span></span></span><span class=\"plain    \" ><span class=\"plain txtu cld \"></span><span class=\"plain    \" ><span class=\"txtu cld\">z</span></span><span class=\"plain    \" ><span class=\"txtu cld\">á</span></span><span class=\"plain    \" ><span class=\"txtu cld\">l</span></span><span class=\"plain    \" ><span class=\"txtu cld\">a-</span></span></span><span class=\"plain    \" ><span class=\"plain txtu cld \"></span><span class=\"plain    \" ><span class=\"txtu cld\">w </span></span></span></span></span></div></div><div class=\"contnr c1    \" ><div class=\"lbl c1  \" ><span class=\"nd\">stress:594980</span> <span class=\"txtu cld\"><span class=\"plain    \" ><span class=\"plain txtu cld \"></span><span class=\"plain    \" ><span class=\"plain txtu cld \"></span><span class=\"plain    \" ><span class=\"txtu cld\">θ</span></span><span class=\"plain    \" ><span class=\"txtu cld\">à</span></span><span class=\"plain    \" ><span class=\"txtu cld\">y</span></span><span class=\"plain    \" ><span class=\"txtu cld\">a.ˈ </span></span></span></span></span></div></div></div></div></div></div><div class=\"contnr c2    \" ><div class=\"lbl c2  \" ><span class=\"nd\">sentence:578265</span></div><div class=\"children hor wrap \"><div class=\"contnr c1    \" ><div class=\"lbl c1  \" ><span class=\"nd\">inton:539389</span></div><div class=\"children hor  \"><div class=\"contnr c1    \" ><div class=\"lbl c1  \" ><span class=\"nd\">stress:594981</span> <span class=\"txtu cld\"><span class=\"plain    \" ><span class=\"plain txtu cld \"></span><span class=\"plain    \" ><span class=\"plain txtu cld \"></span><span class=\"plain    \" ><span class=\"txtu cld\">z</span></span><span class=\"plain    \" ><span class=\"txtu cld\">á</span></span><span class=\"plain    \" ><span class=\"txtu cld\">l</span></span><span class=\"plain    \" ><span class=\"txtu cld\">a-</span></span></span><span class=\"plain    \" ><span class=\"plain txtu cld \"></span><span class=\"plain    \" ><span class=\"txtu cld\">w </span></span></span></span></span></div></div><div class=\"contnr c1    \" ><div class=\"lbl c1  \" ><span class=\"nd\">stress:594982</span> <span class=\"txtu cld\"><span class=\"plain    \" ><span class=\"plain txtu cld \"></span><span class=\"plain    \" ><span class=\"plain txtu cld \"></span><span class=\"plain    \" ><span class=\"txtu cld\">θ</span></span><span class=\"plain    \" ><span class=\"txtu cld\">à</span></span><span class=\"plain    \" ><span class=\"txtu cld\">y</span></span><span class=\"plain    \" ><span class=\"txtu cld\">a,ˈ </span></span></span></span></span></div></div></div></div><div class=\"contnr c1    \" ><div class=\"lbl c1  \" ><span class=\"nd\">inton:539390</span></div><div class=\"children hor  \"><div class=\"contnr c1    \" ><div class=\"lbl c1  \" ><span class=\"nd\">stress:594983</span> <span class=\"txtu cld\"><span class=\"plain    \" ><span class=\"plain txtu cld \"></span><span class=\"plain    \" ><span class=\"plain txtu cld \"></span><span class=\"plain    \" ><span class=\"txtu cld\">m</span></span><span class=\"plain    \" ><span class=\"txtu cld\">á</span></span><span class=\"plain    \" ><span class=\"txtu cld\">r</span></span><span class=\"plain    \" ><span class=\"txtu cld\">a </span></span></span></span></span></div></div><div class=\"contnr c1    \" ><div class=\"lbl c1  \" ><span class=\"nd\">stress:594984</span> <span class=\"txtu cld\"><span class=\"plain    \" ><span class=\"plain txtu cld \"></span><span class=\"plain    \" ><span class=\"plain txtu cld \"></span><span class=\"plain    \" ><span class=\"txtu cld\">y</span></span><span class=\"plain    \" ><span class=\"txtu cld\">a-</span></span></span><span class=\"plain    \" ><span class=\"plain txtu cld \"></span><span class=\"plain    \" ><span class=\"txtu cld\">ʾ</span></span><span class=\"plain    \" ><span class=\"txtu cld\">à</span></span><span class=\"plain    \" ><span class=\"txtu cld\">l</span></span><span class=\"plain    \" ><span class=\"txtu cld\">a</span></span><span class=\"plain    \" ><span class=\"txtu cld\">h</span></span><span class=\"plain    \" ><span class=\"txtu cld\">a,ˈ </span></span></span></span></span></div></div></div></div><div class=\"contnr c1    \" ><div class=\"lbl c1  \" ><span class=\"nd\">inton:539391</span></div><div class=\"children hor  \"><div class=\"contnr c1    \" ><div class=\"lbl c1  \" ><span class=\"nd\">stress:594985</span> <span class=\"txtu cld\"><span class=\"plain    \" ><span class=\"plain txtu cld \"></span><span class=\"plain    \" ><span class=\"plain txtu cld \"></span><span class=\"plain    \" ><span class=\"txtu cld\">y</span></span><span class=\"plain    \" ><span class=\"txtu cld\">a</span></span><span class=\"plain    \" ><span class=\"txtu cld\">w</span></span><span class=\"plain    \" ><span class=\"txtu cld\">ə̀</span></span><span class=\"plain    \" ><span class=\"txtu cld\">t</span></span><span class=\"plain    \" ><span class=\"txtu cld\">l</span></span><span class=\"plain    \" ><span class=\"txtu cld\">iˈ </span></span></span></span></span></div></div></div></div><div class=\"contnr c1    \" ><div class=\"lbl c1  \" ><span class=\"nd\">inton:539392</span></div><div class=\"children hor  \"><div class=\"contnr c1    \" ><div class=\"lbl c1  \" ><span class=\"nd\">stress:594986</span> <span class=\"txtu cld\"><span class=\"plain    \" ><span class=\"plain txtu cld \"></span><span class=\"plain    \" ><span class=\"plain txtu cld \"></span><span class=\"plain    \" ><span class=\"txtu cld\">ʾ</span></span><span class=\"plain    \" ><span class=\"txtu cld\">ə́</span></span><span class=\"plain    \" ><span class=\"txtu cld\">m</span></span><span class=\"plain    \" ><span class=\"txtu cld\">m</span></span><span class=\"plain    \" ><span class=\"txtu cld\">a </span></span></span></span></span></div></div><div class=\"contnr c1    \" ><div class=\"lbl c1  \" ><span class=\"nd\">stress:594987</span> <span class=\"txtu cld\"><span class=\"plain    \" ><span class=\"plain txtu cld \"></span><span class=\"plain    \" ><span class=\"plain txtu cld \"></span><span class=\"plain    \" ><span class=\"txtu cld\">d</span></span><span class=\"plain    \" ><span class=\"txtu cld\">à</span></span><span class=\"plain    \" ><span class=\"txtu cld\">w</span></span><span class=\"plain    \" ><span class=\"txtu cld\">e.ˈ </span></span></span></span></span></div></div></div></div></div></div><div class=\"contnr c2    \" ><div class=\"lbl c2  \" ><span class=\"nd\">sentence:578266</span></div><div class=\"children hor wrap \"><div class=\"contnr c1    \" ><div class=\"lbl c1  \" ><span class=\"nd\">inton:539393</span></div><div class=\"children hor  \"><div class=\"contnr c1    \" ><div class=\"lbl c1  \" ><span class=\"nd\">stress:594988</span> <span class=\"txtu cld\"><span class=\"plain    \" ><span class=\"plain txtu cld \"></span><span class=\"plain    \" ><span class=\"plain txtu cld \"></span><span class=\"plain    \" ><span class=\"txtu cld\">ʾ</span></span><span class=\"plain    \" ><span class=\"txtu cld\">ə</span></span><span class=\"plain    \" ><span class=\"txtu cld\">n-</span></span></span><span class=\"plain    \" ><span class=\"plain txtu cld \"></span><span class=\"plain    \" ><span class=\"txtu cld\">h</span></span><span class=\"plain    \" ><span class=\"txtu cld\">à</span></span><span class=\"plain    \" ><span class=\"txtu cld\">w</span></span><span class=\"plain    \" ><span class=\"txtu cld\">aˈ </span></span></span></span></span></div></div></div></div><div class=\"contnr c1    \" ><div class=\"lbl c1  \" ><span class=\"nd\">inton:539394</span></div><div class=\"children hor  \"><div class=\"contnr c1    \" ><div class=\"lbl c1  \" ><span class=\"nd\">stress:594989</span> <span class=\"txtu cld\"><span class=\"plain    \" ><span class=\"plain txtu cld \"></span><span class=\"plain    \" ><span class=\"plain txtu cld \"></span><span class=\"plain    \" ><span class=\"txtu cld\">ʾ</span></span><span class=\"plain    \" ><span class=\"txtu cld\">ə́</span></span><span class=\"plain    \" ><span class=\"txtu cld\">č̣</span></span><span class=\"plain    \" ><span class=\"txtu cld\">č̣</span></span><span class=\"plain    \" ><span class=\"txtu cld\">i-</span></span></span><span class=\"plain    \" ><span class=\"plain txtu cld \"></span><span class=\"plain    \" ><span class=\"txtu cld\">u </span></span></span></span></span></div></div><div class=\"contnr c1    \" ><div class=\"lbl c1  \" ><span class=\"nd\">stress:594990</span> <span class=\"txtu cld\"><span class=\"plain    \" ><span class=\"plain txtu cld \"></span><span class=\"plain    \" ><span class=\"plain txtu cld \"></span><span class=\"plain    \" ><span class=\"txtu cld\">ʾ</span></span><span class=\"plain    \" ><span class=\"txtu cld\">ə́</span></span><span class=\"plain    \" ><span class=\"txtu cld\">č̣</span></span><span class=\"plain    \" ><span class=\"txtu cld\">č̣</span></span><span class=\"plain    \" ><span class=\"txtu cld\">a </span></span></span></span></span></div></div><div class=\"contnr c1    \" ><div class=\"lbl c1  \" ><span class=\"nd\">stress:594991</span> <span class=\"txtu cld\"><span class=\"plain    \" ><span class=\"plain txtu cld \"></span><span class=\"plain    \" ><span class=\"plain txtu cld \"></span><span class=\"plain    \" ><span class=\"txtu cld\">m</span></span><span class=\"plain    \" ><span class=\"txtu cld\">a</span></span><span class=\"plain    \" ><span class=\"txtu cld\">q</span></span><span class=\"plain    \" ><span class=\"txtu cld\">ə</span></span><span class=\"plain    \" ><span class=\"txtu cld\">l</span></span><span class=\"plain    \" ><span class=\"txtu cld\">b</span></span><span class=\"plain    \" ><span class=\"txtu cld\">ə̀</span></span><span class=\"plain    \" ><span class=\"txtu cld\">n</span></span><span class=\"plain    \" ><span class=\"txtu cld\">n</span></span><span class=\"plain    \" ><span class=\"txtu cld\">a.ˈ </span></span></span></span></span></div></div></div></div></div></div><div class=\"contnr c2    \" ><div class=\"lbl c2  \" ><span class=\"nd\">sentence:578267</span></div><div class=\"children hor wrap \"><div class=\"contnr c1    \" ><div class=\"lbl c1  \" ><span class=\"nd\">inton:539395</span></div><div class=\"children hor  \"><div class=\"contnr c1    \" ><div class=\"lbl c1  \" ><span class=\"nd\">stress:594992</span> <span class=\"txtu cld\"><span class=\"plain    \" ><span class=\"plain txtu cld \"></span><span class=\"plain    \" ><span class=\"plain txtu cld \"></span><span class=\"plain    \" ><span class=\"txtu cld\">ʾ</span></span><span class=\"plain    \" ><span class=\"txtu cld\">u-</span></span></span><span class=\"plain    \" ><span class=\"plain txtu cld \"></span><span class=\"plain    \" ><span class=\"txtu cld\">ʾ</span></span><span class=\"plain    \" ><span class=\"txtu cld\">ə</span></span><span class=\"plain    \" ><span class=\"txtu cld\">n-</span></span></span><span class=\"plain    \" ><span class=\"plain txtu cld \"></span><span class=\"plain    \" ><span class=\"txtu cld\">h</span></span><span class=\"plain    \" ><span class=\"txtu cld\">à</span></span><span class=\"plain    \" ><span class=\"txtu cld\">w</span></span><span class=\"plain    \" ><span class=\"txtu cld\">aˈ </span></span></span></span></span></div></div></div></div><div class=\"contnr c1    \" ><div class=\"lbl c1  \" ><span class=\"nd\">inton:539396</span></div><div class=\"children hor  \"><div class=\"contnr c1    \" ><div class=\"lbl c1  \" ><span class=\"nd\">stress:594993</span> <span class=\"txtu cld\"><span class=\"plain    \" ><span class=\"plain txtu cld \"></span><span class=\"plain    \" ><span class=\"plain txtu cld \"></span><span class=\"plain    \" ><span class=\"txtu cld\">ʾ</span></span><span class=\"plain    \" ><span class=\"txtu cld\">ə́</span></span><span class=\"plain    \" ><span class=\"txtu cld\">m</span></span><span class=\"plain    \" ><span class=\"txtu cld\">m</span></span><span class=\"plain    \" ><span class=\"txtu cld\">a-</span></span></span><span class=\"plain    \" ><span class=\"plain txtu cld \"></span><span class=\"plain    \" ><span class=\"txtu cld\">w-</span></span></span><span class=\"plain    \" ><span class=\"plain txtu cld \"></span><span class=\"plain    \" ><span class=\"txtu cld\">x</span></span><span class=\"plain    \" ><span class=\"txtu cld\">à-</span></span></span><span class=\"plain    \" ><span class=\"plain txtu cld \"></span><span class=\"plain    \" ><span class=\"txtu cld\">ž</span></span><span class=\"plain    \" ><span class=\"txtu cld\">i,ˈ </span></span></span></span></span></div></div></div></div><div class=\"contnr c1    \" ><div class=\"lbl c1  \" ><span class=\"nd\">inton:539397</span></div><div class=\"children hor  \"><div class=\"contnr c1    \" ><div class=\"lbl c1  \" ><span class=\"nd\">stress:594994</span> <span class=\"txtu cld\"><span class=\"plain    \" ><span class=\"plain txtu cld \"></span><span class=\"plain    \" ><span class=\"plain txtu cld \"></span><span class=\"plain    \" ><span class=\"txtu cld\">l</span></span><span class=\"plain    \" ><span class=\"txtu cld\">a-</span></span></span><span class=\"plain    \" ><span class=\"plain txtu cld \"></span><span class=\"plain    \" ><span class=\"txtu cld\">b</span></span><span class=\"plain    \" ><span class=\"txtu cld\">ă</span></span><span class=\"plain    \" ><span class=\"txtu cld\">y</span></span><span class=\"plain    \" ><span class=\"txtu cld\">ə̀</span></span><span class=\"plain    \" ><span class=\"txtu cld\">n</span></span><span class=\"plain    \" ><span class=\"txtu cld\">n</span></span><span class=\"plain    \" ><span class=\"txtu cld\">a.ˈ </span></span></span></span></span></div></div></div></div></div></div><div class=\"contnr c2    \" ><div class=\"lbl c2  \" ><span class=\"nd\">sentence:578268</span></div><div class=\"children hor wrap \"><div class=\"contnr c1    \" ><div class=\"lbl c1  \" ><span class=\"nd\">inton:539398</span></div><div class=\"children hor  \"><div class=\"contnr c1    \" ><div class=\"lbl c1  \" ><span class=\"nd\">stress:594995</span> <span class=\"txtu cld\"><span class=\"plain    \" ><span class=\"plain txtu cld \"></span><span class=\"plain    \" ><span class=\"plain txtu cld \"></span><span class=\"plain    \" ><span class=\"txtu cld\">d</span></span><span class=\"plain    \" ><span class=\"txtu cld\">e-</span></span></span><span class=\"plain    \" ><span class=\"plain txtu cld \"></span><span class=\"plain    \" ><span class=\"txtu cld\">š</span></span><span class=\"plain    \" ><span class=\"txtu cld\">ù</span></span><span class=\"plain    \" ><span class=\"txtu cld\">q</span></span><span class=\"plain    \" ><span class=\"txtu cld\">l</span></span><span class=\"plain    \" ><span class=\"txtu cld\">a.ˈ </span></span></span></span></span></div></div></div></div></div></div><div class=\"contnr c2    \" ><div class=\"lbl c2  \" ><span class=\"nd\">sentence:578269</span></div><div class=\"children hor wrap \"><div class=\"contnr c1    \" ><div class=\"lbl c1  \" ><span class=\"nd\">inton:539399</span></div><div class=\"children hor  \"><div class=\"contnr c1    \" ><div class=\"lbl c1  \" ><span class=\"nd\">stress:594996</span> <span class=\"txtu cld\"><span class=\"plain    \" ><span class=\"plain txtu cld \"></span><span class=\"plain    \" ><span class=\"plain txtu cld \"></span><span class=\"plain    \" ><span class=\"txtu cld\">ʾ</span></span><span class=\"plain    \" ><span class=\"txtu cld\">ə̀</span></span><span class=\"plain    \" ><span class=\"txtu cld\">m</span></span><span class=\"plain    \" ><span class=\"txtu cld\">m</span></span><span class=\"plain    \" ><span class=\"txtu cld\">a </span></span></span></span></span></div></div><div class=\"contnr c1    \" ><div class=\"lbl c1  \" ><span class=\"nd\">stress:594997</span> <span class=\"txtu cld\"><span class=\"plain    \" ><span class=\"plain txtu cld \"></span><span class=\"plain    \" ><span class=\"plain txtu cld \"></span><span class=\"plain    \" ><span class=\"txtu cld\">g</span></span><span class=\"plain    \" ><span class=\"txtu cld\">ắ</span></span><span class=\"plain    \" ><span class=\"txtu cld\">r</span></span><span class=\"plain    \" ><span class=\"txtu cld\">ə</span></span><span class=\"plain    \" ><span class=\"txtu cld\">g </span></span></span></span></span></div></div><div class=\"contnr c1    \" ><div class=\"lbl c1  \" ><span class=\"nd\">stress:594998</span> <span class=\"txtu cld\"><span class=\"plain    \" ><span class=\"plain txtu cld \"></span><span class=\"plain    \" ><span class=\"plain txtu cld \"></span><span class=\"plain    \" ><span class=\"txtu cld\">h</span></span><span class=\"plain    \" ><span class=\"txtu cld\">á</span></span><span class=\"plain    \" ><span class=\"txtu cld\">w</span></span><span class=\"plain    \" ><span class=\"txtu cld\">a </span></span></span></span></span></div></div><div class=\"contnr c1    \" ><div class=\"lbl c1  \" ><span class=\"nd\">stress:594999</span> <span class=\"txtu cld\"><span class=\"plain    \" ><span class=\"plain txtu cld \"></span><span class=\"plain    \" ><span class=\"plain txtu cld \"></span><span class=\"plain    \" ><span class=\"txtu cld\">d</span></span><span class=\"plain    \" ><span class=\"txtu cld\">r</span></span><span class=\"plain    \" ><span class=\"txtu cld\">ə́</span></span><span class=\"plain    \" ><span class=\"txtu cld\">s</span></span><span class=\"plain    \" ><span class=\"txtu cld\">t.ˈ </span></span></span></span></span></div></div></div></div></div></div></div></div></div>"
      ],
      "text/plain": [
       "<IPython.core.display.HTML object>"
      ]
     },
     "metadata": {},
     "output_type": "display_data"
    },
    {
     "data": {
      "text/markdown": [
       "### sentence 578263\n"
      ],
      "text/plain": [
       "<IPython.core.display.Markdown object>"
      ]
     },
     "metadata": {},
     "output_type": "display_data"
    },
    {
     "data": {
      "text/html": [
       "<div class=\" children\"><span class=\"section ltr\"><a target=\"_blank\" href=\"https://github.com/CambridgeSemiticsLab/nena_corpus/blob/master/nena/0.02/Barwar/A Hundred Gold Coins.nena\" title=\"Show this title in the NENA repository\" sec=\"Barwar, A Hundred Gold Coins, Ln. 1\">Barwar, A Hundred Gold Coins, Ln. 1</a></span> <span class=\"plain outer   \" ><span class=\"nd\">578263</span><span class=\"plain txtu cld \"></span><span class=\"plain    \" ><span class=\"plain txtu cld \"></span><span class=\"plain    \" ><span class=\"plain txtu cld \"></span><span class=\"plain    \" ><span class=\"plain txtu cld \"></span><span class=\"plain    \" ><span class=\"txtu cld\">x</span></span><span class=\"plain    \" ><span class=\"txtu cld\">á-</span></span></span><span class=\"plain    \" ><span class=\"plain txtu cld \"></span><span class=\"plain    \" ><span class=\"txtu cld\">g</span></span><span class=\"plain    \" ><span class=\"txtu cld\">a </span></span></span></span><span class=\"plain    \" ><span class=\"plain txtu cld \"></span><span class=\"plain    \" ><span class=\"plain txtu cld \"></span><span class=\"plain    \" ><span class=\"txtu cld\">x</span></span><span class=\"plain    \" ><span class=\"txtu cld\">è</span></span><span class=\"plain    \" ><span class=\"txtu cld\">t</span></span><span class=\"plain    \" ><span class=\"txtu cld\">a,ˈ </span></span></span></span></span><span class=\"plain    \" ><span class=\"plain txtu cld \"></span><span class=\"plain    \" ><span class=\"plain txtu cld \"></span><span class=\"plain    \" ><span class=\"plain txtu cld \"></span><span class=\"plain    \" ><span class=\"txtu cld\">m</span></span><span class=\"plain    \" ><span class=\"txtu cld\">á</span></span><span class=\"plain    \" ><span class=\"txtu cld\">l</span></span><span class=\"plain    \" ><span class=\"txtu cld\">l</span></span><span class=\"plain    \" ><span class=\"txtu cld\">a</span></span><span class=\"plain    \" ><span class=\"txtu cld\">h </span></span></span></span><span class=\"plain    \" ><span class=\"plain txtu cld \"></span><span class=\"plain    \" ><span class=\"plain txtu cld \"></span><span class=\"plain    \" ><span class=\"txtu cld\">N</span></span><span class=\"plain    \" ><span class=\"txtu cld\">a</span></span><span class=\"plain    \" ><span class=\"txtu cld\">ṣ</span></span><span class=\"plain    \" ><span class=\"txtu cld\">r</span></span><span class=\"plain    \" ><span class=\"txtu cld\">à</span></span><span class=\"plain    \" ><span class=\"txtu cld\">d</span></span><span class=\"plain    \" ><span class=\"txtu cld\">i</span></span><span class=\"plain    \" ><span class=\"txtu cld\">n,ˈ </span></span></span></span></span><span class=\"plain    \" ><span class=\"plain txtu cld \"></span><span class=\"plain    \" ><span class=\"plain txtu cld \"></span><span class=\"plain    \" ><span class=\"plain txtu cld \"></span><span class=\"plain    \" ><span class=\"txtu cld\">x</span></span><span class=\"plain    \" ><span class=\"txtu cld\">á</span></span><span class=\"plain    \" ><span class=\"txtu cld\">z</span></span><span class=\"plain    \" ><span class=\"txtu cld\">ə</span></span><span class=\"plain    \" ><span class=\"txtu cld\">x </span></span></span></span><span class=\"plain    \" ><span class=\"plain txtu cld \"></span><span class=\"plain    \" ><span class=\"plain txtu cld \"></span><span class=\"plain    \" ><span class=\"txtu cld\">m</span></span><span class=\"plain    \" ><span class=\"txtu cld\">ò</span></span><span class=\"plain    \" ><span class=\"txtu cld\">d</span></span><span class=\"plain    \" ><span class=\"txtu cld\">i </span></span></span></span><span class=\"plain    \" ><span class=\"plain txtu cld \"></span><span class=\"plain    \" ><span class=\"plain txtu cld \"></span><span class=\"plain    \" ><span class=\"txtu cld\">w</span></span><span class=\"plain    \" ><span class=\"txtu cld\">í</span></span><span class=\"plain    \" ><span class=\"txtu cld\">ð</span></span><span class=\"plain    \" ><span class=\"txtu cld\">a.ˈ </span></span></span></span></span></span></div>"
      ],
      "text/plain": [
       "<IPython.core.display.HTML object>"
      ]
     },
     "metadata": {},
     "output_type": "display_data"
    },
    {
     "data": {
      "text/html": [
       "<span class=\"section ltr\"><a target=\"_blank\" href=\"https://github.com/CambridgeSemiticsLab/nena_corpus/blob/master/nena/0.02/Barwar/A Hundred Gold Coins.nena\" title=\"Show this title in the NENA repository\" sec=\"Barwar, A Hundred Gold Coins, Ln. 1\">Barwar, A Hundred Gold Coins, Ln. 1</a></span><div class=\" children\"><div class=\"contnr c2    \" ><div class=\"lbl c2  \" ><span class=\"nd\">sentence:578263</span></div><div class=\"children hor wrap \"><div class=\"contnr c1    \" ><div class=\"lbl c1  \" ><span class=\"nd\">inton:539384</span></div><div class=\"children hor  \"><div class=\"contnr c1    \" ><div class=\"lbl c1  \" ><span class=\"nd\">stress:594970</span> <span class=\"txtu cld\"><span class=\"plain    \" ><span class=\"plain txtu cld \"></span><span class=\"plain    \" ><span class=\"plain txtu cld \"></span><span class=\"plain    \" ><span class=\"txtu cld\">x</span></span><span class=\"plain    \" ><span class=\"txtu cld\">á-</span></span></span><span class=\"plain    \" ><span class=\"plain txtu cld \"></span><span class=\"plain    \" ><span class=\"txtu cld\">g</span></span><span class=\"plain    \" ><span class=\"txtu cld\">a </span></span></span></span></span></div></div><div class=\"contnr c1    \" ><div class=\"lbl c1  \" ><span class=\"nd\">stress:594971</span> <span class=\"txtu cld\"><span class=\"plain    \" ><span class=\"plain txtu cld \"></span><span class=\"plain    \" ><span class=\"plain txtu cld \"></span><span class=\"plain    \" ><span class=\"txtu cld\">x</span></span><span class=\"plain    \" ><span class=\"txtu cld\">è</span></span><span class=\"plain    \" ><span class=\"txtu cld\">t</span></span><span class=\"plain    \" ><span class=\"txtu cld\">a,ˈ </span></span></span></span></span></div></div></div></div><div class=\"contnr c1    \" ><div class=\"lbl c1  \" ><span class=\"nd\">inton:539385</span></div><div class=\"children hor  \"><div class=\"contnr c1    \" ><div class=\"lbl c1  \" ><span class=\"nd\">stress:594972</span> <span class=\"txtu cld\"><span class=\"plain    \" ><span class=\"plain txtu cld \"></span><span class=\"plain    \" ><span class=\"plain txtu cld \"></span><span class=\"plain    \" ><span class=\"txtu cld\">m</span></span><span class=\"plain    \" ><span class=\"txtu cld\">á</span></span><span class=\"plain    \" ><span class=\"txtu cld\">l</span></span><span class=\"plain    \" ><span class=\"txtu cld\">l</span></span><span class=\"plain    \" ><span class=\"txtu cld\">a</span></span><span class=\"plain    \" ><span class=\"txtu cld\">h </span></span></span></span></span></div></div><div class=\"contnr c1    \" ><div class=\"lbl c1  \" ><span class=\"nd\">stress:594973</span> <span class=\"txtu cld\"><span class=\"plain    \" ><span class=\"plain txtu cld \"></span><span class=\"plain    \" ><span class=\"plain txtu cld \"></span><span class=\"plain    \" ><span class=\"txtu cld\">N</span></span><span class=\"plain    \" ><span class=\"txtu cld\">a</span></span><span class=\"plain    \" ><span class=\"txtu cld\">ṣ</span></span><span class=\"plain    \" ><span class=\"txtu cld\">r</span></span><span class=\"plain    \" ><span class=\"txtu cld\">à</span></span><span class=\"plain    \" ><span class=\"txtu cld\">d</span></span><span class=\"plain    \" ><span class=\"txtu cld\">i</span></span><span class=\"plain    \" ><span class=\"txtu cld\">n,ˈ </span></span></span></span></span></div></div></div></div><div class=\"contnr c1    \" ><div class=\"lbl c1  \" ><span class=\"nd\">inton:539386</span></div><div class=\"children hor  \"><div class=\"contnr c1    \" ><div class=\"lbl c1  \" ><span class=\"nd\">stress:594974</span> <span class=\"txtu cld\"><span class=\"plain    \" ><span class=\"plain txtu cld \"></span><span class=\"plain    \" ><span class=\"plain txtu cld \"></span><span class=\"plain    \" ><span class=\"txtu cld\">x</span></span><span class=\"plain    \" ><span class=\"txtu cld\">á</span></span><span class=\"plain    \" ><span class=\"txtu cld\">z</span></span><span class=\"plain    \" ><span class=\"txtu cld\">ə</span></span><span class=\"plain    \" ><span class=\"txtu cld\">x </span></span></span></span></span></div></div><div class=\"contnr c1    \" ><div class=\"lbl c1  \" ><span class=\"nd\">stress:594975</span> <span class=\"txtu cld\"><span class=\"plain    \" ><span class=\"plain txtu cld \"></span><span class=\"plain    \" ><span class=\"plain txtu cld \"></span><span class=\"plain    \" ><span class=\"txtu cld\">m</span></span><span class=\"plain    \" ><span class=\"txtu cld\">ò</span></span><span class=\"plain    \" ><span class=\"txtu cld\">d</span></span><span class=\"plain    \" ><span class=\"txtu cld\">i </span></span></span></span></span></div></div><div class=\"contnr c1    \" ><div class=\"lbl c1  \" ><span class=\"nd\">stress:594976</span> <span class=\"txtu cld\"><span class=\"plain    \" ><span class=\"plain txtu cld \"></span><span class=\"plain    \" ><span class=\"plain txtu cld \"></span><span class=\"plain    \" ><span class=\"txtu cld\">w</span></span><span class=\"plain    \" ><span class=\"txtu cld\">í</span></span><span class=\"plain    \" ><span class=\"txtu cld\">ð</span></span><span class=\"plain    \" ><span class=\"txtu cld\">a.ˈ </span></span></span></span></span></div></div></div></div></div></div></div>"
      ],
      "text/plain": [
       "<IPython.core.display.HTML object>"
      ]
     },
     "metadata": {},
     "output_type": "display_data"
    },
    {
     "data": {
      "text/markdown": [
       "### subsentence 688732\n"
      ],
      "text/plain": [
       "<IPython.core.display.Markdown object>"
      ]
     },
     "metadata": {},
     "output_type": "display_data"
    },
    {
     "data": {
      "text/html": [
       "<div class=\" children\"><span class=\"section ltr\"><a target=\"_blank\" href=\"https://github.com/CambridgeSemiticsLab/nena_corpus/blob/master/nena/0.02/Barwar/A Hundred Gold Coins.nena\" title=\"Show this title in the NENA repository\" sec=\"Barwar, A Hundred Gold Coins, Ln. 1\">Barwar, A Hundred Gold Coins, Ln. 1</a></span> <span class=\"plain outer   \" ><span class=\"nd\">688732</span><span class=\"plain txtu cld \"></span><span class=\"plain    \" ><span class=\"plain txtu cld \"></span><span class=\"plain    \" ><span class=\"plain txtu cld \"></span><span class=\"plain    \" ><span class=\"plain txtu cld \"></span><span class=\"plain    \" ><span class=\"txtu cld\">x</span></span><span class=\"plain    \" ><span class=\"txtu cld\">á-</span></span></span><span class=\"plain    \" ><span class=\"plain txtu cld \"></span><span class=\"plain    \" ><span class=\"txtu cld\">g</span></span><span class=\"plain    \" ><span class=\"txtu cld\">a </span></span></span></span><span class=\"plain    \" ><span class=\"plain txtu cld \"></span><span class=\"plain    \" ><span class=\"plain txtu cld \"></span><span class=\"plain    \" ><span class=\"txtu cld\">x</span></span><span class=\"plain    \" ><span class=\"txtu cld\">è</span></span><span class=\"plain    \" ><span class=\"txtu cld\">t</span></span><span class=\"plain    \" ><span class=\"txtu cld\">a,ˈ </span></span></span></span></span></span></div>"
      ],
      "text/plain": [
       "<IPython.core.display.HTML object>"
      ]
     },
     "metadata": {},
     "output_type": "display_data"
    },
    {
     "data": {
      "text/html": [
       "<span class=\"section ltr\"><a target=\"_blank\" href=\"https://github.com/CambridgeSemiticsLab/nena_corpus/blob/master/nena/0.02/Barwar/A Hundred Gold Coins.nena\" title=\"Show this title in the NENA repository\" sec=\"Barwar, A Hundred Gold Coins, Ln. 1\">Barwar, A Hundred Gold Coins, Ln. 1</a></span><div class=\" children\"><div class=\"contnr c2    \" ><div class=\"lbl c2  \" ><span class=\"nd\">subsentence:688732</span></div><div class=\"children hor wrap \"><div class=\"contnr c1    \" ><div class=\"lbl c1  \" ><span class=\"nd\">inton:539384</span></div><div class=\"children hor  \"><div class=\"contnr c1    \" ><div class=\"lbl c1  \" ><span class=\"nd\">stress:594970</span> <span class=\"txtu cld\"><span class=\"plain    \" ><span class=\"plain txtu cld \"></span><span class=\"plain    \" ><span class=\"plain txtu cld \"></span><span class=\"plain    \" ><span class=\"txtu cld\">x</span></span><span class=\"plain    \" ><span class=\"txtu cld\">á-</span></span></span><span class=\"plain    \" ><span class=\"plain txtu cld \"></span><span class=\"plain    \" ><span class=\"txtu cld\">g</span></span><span class=\"plain    \" ><span class=\"txtu cld\">a </span></span></span></span></span></div></div><div class=\"contnr c1    \" ><div class=\"lbl c1  \" ><span class=\"nd\">stress:594971</span> <span class=\"txtu cld\"><span class=\"plain    \" ><span class=\"plain txtu cld \"></span><span class=\"plain    \" ><span class=\"plain txtu cld \"></span><span class=\"plain    \" ><span class=\"txtu cld\">x</span></span><span class=\"plain    \" ><span class=\"txtu cld\">è</span></span><span class=\"plain    \" ><span class=\"txtu cld\">t</span></span><span class=\"plain    \" ><span class=\"txtu cld\">a,ˈ </span></span></span></span></span></div></div></div></div></div></div></div>"
      ],
      "text/plain": [
       "<IPython.core.display.HTML object>"
      ]
     },
     "metadata": {},
     "output_type": "display_data"
    },
    {
     "data": {
      "text/markdown": [
       "### inton 539384\n"
      ],
      "text/plain": [
       "<IPython.core.display.Markdown object>"
      ]
     },
     "metadata": {},
     "output_type": "display_data"
    },
    {
     "data": {
      "text/html": [
       "<div class=\" children\"><span class=\"section ltr\"><a target=\"_blank\" href=\"https://github.com/CambridgeSemiticsLab/nena_corpus/blob/master/nena/0.02/Barwar/A Hundred Gold Coins.nena\" title=\"Show this title in the NENA repository\" sec=\"Barwar, A Hundred Gold Coins, Ln. 1\">Barwar, A Hundred Gold Coins, Ln. 1</a></span> <span class=\"plain outer   \" ><span class=\"nd\">539384</span><span class=\"plain txtu cld \"></span><span class=\"plain    \" ><span class=\"plain txtu cld \"></span><span class=\"plain    \" ><span class=\"plain txtu cld \"></span><span class=\"plain    \" ><span class=\"txtu cld\">x</span></span><span class=\"plain    \" ><span class=\"txtu cld\">á-</span></span></span><span class=\"plain    \" ><span class=\"plain txtu cld \"></span><span class=\"plain    \" ><span class=\"txtu cld\">g</span></span><span class=\"plain    \" ><span class=\"txtu cld\">a </span></span></span></span><span class=\"plain    \" ><span class=\"plain txtu cld \"></span><span class=\"plain    \" ><span class=\"plain txtu cld \"></span><span class=\"plain    \" ><span class=\"txtu cld\">x</span></span><span class=\"plain    \" ><span class=\"txtu cld\">è</span></span><span class=\"plain    \" ><span class=\"txtu cld\">t</span></span><span class=\"plain    \" ><span class=\"txtu cld\">a,ˈ </span></span></span></span></span></div>"
      ],
      "text/plain": [
       "<IPython.core.display.HTML object>"
      ]
     },
     "metadata": {},
     "output_type": "display_data"
    },
    {
     "data": {
      "text/html": [
       "<span class=\"section ltr\"><a target=\"_blank\" href=\"https://github.com/CambridgeSemiticsLab/nena_corpus/blob/master/nena/0.02/Barwar/A Hundred Gold Coins.nena\" title=\"Show this title in the NENA repository\" sec=\"Barwar, A Hundred Gold Coins, Ln. 1\">Barwar, A Hundred Gold Coins, Ln. 1</a></span><div class=\" children\"><div class=\"contnr c1    \" ><div class=\"lbl c1  \" ><span class=\"nd\">inton:539384</span></div><div class=\"children hor  \"><div class=\"contnr c1    \" ><div class=\"lbl c1  \" ><span class=\"nd\">stress:594970</span> <span class=\"txtu cld\"><span class=\"plain    \" ><span class=\"plain txtu cld \"></span><span class=\"plain    \" ><span class=\"plain txtu cld \"></span><span class=\"plain    \" ><span class=\"txtu cld\">x</span></span><span class=\"plain    \" ><span class=\"txtu cld\">á-</span></span></span><span class=\"plain    \" ><span class=\"plain txtu cld \"></span><span class=\"plain    \" ><span class=\"txtu cld\">g</span></span><span class=\"plain    \" ><span class=\"txtu cld\">a </span></span></span></span></span></div></div><div class=\"contnr c1    \" ><div class=\"lbl c1  \" ><span class=\"nd\">stress:594971</span> <span class=\"txtu cld\"><span class=\"plain    \" ><span class=\"plain txtu cld \"></span><span class=\"plain    \" ><span class=\"plain txtu cld \"></span><span class=\"plain    \" ><span class=\"txtu cld\">x</span></span><span class=\"plain    \" ><span class=\"txtu cld\">è</span></span><span class=\"plain    \" ><span class=\"txtu cld\">t</span></span><span class=\"plain    \" ><span class=\"txtu cld\">a,ˈ </span></span></span></span></span></div></div></div></div></div>"
      ],
      "text/plain": [
       "<IPython.core.display.HTML object>"
      ]
     },
     "metadata": {},
     "output_type": "display_data"
    },
    {
     "data": {
      "text/markdown": [
       "### stress 594970\n"
      ],
      "text/plain": [
       "<IPython.core.display.Markdown object>"
      ]
     },
     "metadata": {},
     "output_type": "display_data"
    },
    {
     "data": {
      "text/html": [
       "<div class=\" children\"><span class=\"section ltr\"><a target=\"_blank\" href=\"https://github.com/CambridgeSemiticsLab/nena_corpus/blob/master/nena/0.02/Barwar/A Hundred Gold Coins.nena\" title=\"Show this title in the NENA repository\" sec=\"Barwar, A Hundred Gold Coins, Ln. 1\">Barwar, A Hundred Gold Coins, Ln. 1</a></span> <span class=\"plain outer   \" ><span class=\"nd\">594970</span><span class=\"plain txtu cld \"></span><span class=\"plain    \" ><span class=\"plain txtu cld \"></span><span class=\"plain    \" ><span class=\"txtu cld\">x</span></span><span class=\"plain    \" ><span class=\"txtu cld\">á-</span></span></span><span class=\"plain    \" ><span class=\"plain txtu cld \"></span><span class=\"plain    \" ><span class=\"txtu cld\">g</span></span><span class=\"plain    \" ><span class=\"txtu cld\">a </span></span></span></span></div>"
      ],
      "text/plain": [
       "<IPython.core.display.HTML object>"
      ]
     },
     "metadata": {},
     "output_type": "display_data"
    },
    {
     "data": {
      "text/html": [
       "<span class=\"section ltr\"><a target=\"_blank\" href=\"https://github.com/CambridgeSemiticsLab/nena_corpus/blob/master/nena/0.02/Barwar/A Hundred Gold Coins.nena\" title=\"Show this title in the NENA repository\" sec=\"Barwar, A Hundred Gold Coins, Ln. 1\">Barwar, A Hundred Gold Coins, Ln. 1</a></span><div class=\" children\"><div class=\"contnr c1    \" ><div class=\"lbl c1  \" ><span class=\"nd\">stress:594970</span> <span class=\"txtu cld\"><span class=\"plain outer   \" ><span class=\"plain txtu cld \"></span><span class=\"plain    \" ><span class=\"plain txtu cld \"></span><span class=\"plain    \" ><span class=\"txtu cld\">x</span></span><span class=\"plain    \" ><span class=\"txtu cld\">á-</span></span></span><span class=\"plain    \" ><span class=\"plain txtu cld \"></span><span class=\"plain    \" ><span class=\"txtu cld\">g</span></span><span class=\"plain    \" ><span class=\"txtu cld\">a </span></span></span></span></span></div></div></div>"
      ],
      "text/plain": [
       "<IPython.core.display.HTML object>"
      ]
     },
     "metadata": {},
     "output_type": "display_data"
    },
    {
     "data": {
      "text/markdown": [
       "### word 713385\n"
      ],
      "text/plain": [
       "<IPython.core.display.Markdown object>"
      ]
     },
     "metadata": {},
     "output_type": "display_data"
    },
    {
     "data": {
      "text/html": [
       "<div class=\" children\"><span class=\"section ltr\"><a target=\"_blank\" href=\"https://github.com/CambridgeSemiticsLab/nena_corpus/blob/master/nena/0.02/Barwar/A Hundred Gold Coins.nena\" title=\"Show this title in the NENA repository\" sec=\"Barwar, A Hundred Gold Coins, Ln. 1\">Barwar, A Hundred Gold Coins, Ln. 1</a></span> <span class=\"plain outer   \" ><span class=\"nd\">713385</span><span class=\"plain txtu cld \"></span><span class=\"plain    \" ><span class=\"txtu cld\">x</span></span><span class=\"plain    \" ><span class=\"txtu cld\">á-</span></span></span></div>"
      ],
      "text/plain": [
       "<IPython.core.display.HTML object>"
      ]
     },
     "metadata": {},
     "output_type": "display_data"
    },
    {
     "data": {
      "text/html": [
       "<span class=\"section ltr\"><a target=\"_blank\" href=\"https://github.com/CambridgeSemiticsLab/nena_corpus/blob/master/nena/0.02/Barwar/A Hundred Gold Coins.nena\" title=\"Show this title in the NENA repository\" sec=\"Barwar, A Hundred Gold Coins, Ln. 1\">Barwar, A Hundred Gold Coins, Ln. 1</a></span><div class=\" children\"><div class=\"contnr c1    \" ><div class=\"lbl c1  \" ><span class=\"nd\">word:713385</span> <span class=\"txtu cld\"><span class=\"plain outer   \" ><span class=\"plain txtu cld \"></span><span class=\"plain    \" ><span class=\"txtu cld\">x</span></span><span class=\"plain    \" ><span class=\"txtu cld\">á-</span></span></span></span></div></div></div>"
      ],
      "text/plain": [
       "<IPython.core.display.HTML object>"
      ]
     },
     "metadata": {},
     "output_type": "display_data"
    },
    {
     "data": {
      "text/markdown": [
       "### letter 1\n"
      ],
      "text/plain": [
       "<IPython.core.display.Markdown object>"
      ]
     },
     "metadata": {},
     "output_type": "display_data"
    },
    {
     "data": {
      "text/html": [
       "<div class=\" children\"><span class=\"section ltr\"><a target=\"_blank\" href=\"https://github.com/CambridgeSemiticsLab/nena_corpus/blob/master/nena/0.02/Barwar/A Hundred Gold Coins.nena\" title=\"Show this title in the NENA repository\" sec=\"Barwar, A Hundred Gold Coins, Ln. 1\">Barwar, A Hundred Gold Coins, Ln. 1</a></span> <span class=\"plain outer   \" ><span class=\"nd\">1</span><span class=\"txtu cld\">x</span></span></div>"
      ],
      "text/plain": [
       "<IPython.core.display.HTML object>"
      ]
     },
     "metadata": {},
     "output_type": "display_data"
    },
    {
     "data": {
      "text/html": [
       "<span class=\"section ltr\"><a target=\"_blank\" href=\"https://github.com/CambridgeSemiticsLab/nena_corpus/blob/master/nena/0.02/Barwar/A Hundred Gold Coins.nena\" title=\"Show this title in the NENA repository\" sec=\"Barwar, A Hundred Gold Coins, Ln. 1\">Barwar, A Hundred Gold Coins, Ln. 1</a></span><div class=\" children\"><div class=\"contnr c0 trm   \" ><div class=\"lbl c0 trm \" ><span class=\"nd\">1</span> <span class=\"txtu cld\">x</span></div></div></div>"
      ],
      "text/plain": [
       "<IPython.core.display.HTML object>"
      ]
     },
     "metadata": {},
     "output_type": "display_data"
    }
   ],
   "source": [
    "typeShow(A, withNodes=True, prettyTypes=True)"
   ]
  },
  {
   "cell_type": "code",
   "execution_count": 28,
   "metadata": {},
   "outputs": [
    {
     "data": {
      "text/markdown": [
       "<details ><summary><b>nena</b> <i>app context</i></summary>\n",
       "\n",
       "<details ><summary>1. afterChild</summary>\n",
       "\n",
       "{}\n",
       "\n",
       "</details>\n",
       "<details ><summary>2. allowedBaseTypes</summary>\n",
       "\n",
       "\n",
       "1.  `paragraph`\n",
       "2.  `sentence`\n",
       "3.  `subsentence`\n",
       "4.  `inton`\n",
       "5.  `stress`\n",
       "6.  `word`\n",
       "\n",
       "</details>\n",
       "<details ><summary>3. apiVersion</summary>\n",
       "\n",
       "`2`\n",
       "\n",
       "</details>\n",
       "<details ><summary>4. appName</summary>\n",
       "\n",
       "`nena`\n",
       "\n",
       "</details>\n",
       "<details ><summary>5. appPath</summary>\n",
       "\n",
       "`/Users/dirk/github/annotation/app-nena/code`\n",
       "\n",
       "</details>\n",
       "<details ><summary>6. baseTypes</summary>\n",
       "\n",
       "\n",
       "1.  `stress`\n",
       "\n",
       "</details>\n",
       "<details ><summary>7. browseContentPretty</summary>\n",
       "\n",
       "False\n",
       "\n",
       "</details>\n",
       "<details ><summary>8. browseNavLevel</summary>\n",
       "\n",
       "`2`\n",
       "\n",
       "</details>\n",
       "<details ><summary>9. charText</summary>\n",
       "\n",
       "`NENA transcription script`\n",
       "\n",
       "</details>\n",
       "<details ><summary>10. charUrl</summary>\n",
       "\n",
       "`https://github.com/CambridgeSemiticsLab/nena_tf/blob/master/docs/transcription.md`\n",
       "\n",
       "</details>\n",
       "<details ><summary>11. childType</summary>\n",
       "\n",
       "\n",
       "*   **`dialect`**: \n",
       "    *   `text`\n",
       "*   **`inton`**: \n",
       "    *   `stress`\n",
       "*   **`line`**: \n",
       "    *   `sentence`\n",
       "*   **`paragraph`**: \n",
       "    *   `line`\n",
       "*   **`sentence`**: \n",
       "    *   `subsentence`\n",
       "*   **`stress`**: \n",
       "    *   `word`\n",
       "*   **`subsentence`**: \n",
       "    *   `inton`\n",
       "*   **`text`**: \n",
       "    *   `paragraph`\n",
       "*   **`word`**: \n",
       "    *   `letter`\n",
       "\n",
       "</details>\n",
       "<details ><summary>12. commit</summary>\n",
       "\n",
       "None\n",
       "\n",
       "</details>\n",
       "<details ><summary>13. condenseType</summary>\n",
       "\n",
       "`line`\n",
       "\n",
       "</details>\n",
       "<details ><summary>14. condenseTypes</summary>\n",
       "\n",
       "\n",
       "1.  \n",
       "    *   `dialect`\n",
       "    *   `269690.5`\n",
       "    *   `539382`\n",
       "    *   `539383`\n",
       "2.  \n",
       "    *   `text`\n",
       "    *   `4280.8015873015875`\n",
       "    *   `713259`\n",
       "    *   `713384`\n",
       "3.  \n",
       "    *   `paragraph`\n",
       "    *   `1536.6980056980058`\n",
       "    *   `577912`\n",
       "    *   `578262`\n",
       "4.  \n",
       "    *   `line`\n",
       "    *   `212.02083333333334`\n",
       "    *   `575368`\n",
       "    *   `577911`\n",
       "5.  \n",
       "    *   `sentence`\n",
       "    *   `32.28473095109834`\n",
       "    *   `578263`\n",
       "    *   `594969`\n",
       "6.  \n",
       "    *   `subsentence`\n",
       "    *   `21.991315692909854`\n",
       "    *   `688732`\n",
       "    *   `713258`\n",
       "7.  \n",
       "    *   `inton`\n",
       "    *   `14.989467541129391`\n",
       "    *   `539384`\n",
       "    *   `575367`\n",
       "8.  \n",
       "    *   `stress`\n",
       "    *   `5.752660992726264`\n",
       "    *   `594970`\n",
       "    *   `688731`\n",
       "9.  \n",
       "    *   `word`\n",
       "    *   `4.489304857342611`\n",
       "    *   `713385`\n",
       "    *   `833532`\n",
       "10. \n",
       "    *   `letter`\n",
       "    *   `1`\n",
       "    *   `1`\n",
       "    *   `539381`\n",
       "\n",
       "</details>\n",
       "<details ><summary>15. corpus</summary>\n",
       "\n",
       "`Northeastern Neo-Aramaic Text Corpus`\n",
       "\n",
       "</details>\n",
       "<details ><summary>16. css</summary>\n",
       "\n",
       "\n",
       "```\n",
       ".speaker {\n",
       "    vertical-align: super;\n",
       "    font-family: sans-serif;\n",
       "    font-size: small;\n",
       "    font-weight: bold;\n",
       "    color: #884400;\n",
       "}\n",
       "\n",
       "```\n",
       "\n",
       "\n",
       "</details>\n",
       "<details ><summary>17. dataDisplay</summary>\n",
       "\n",
       "\n",
       "*   **`noneValues`**: \n",
       "    *   `none`\n",
       "    *   `unknown`\n",
       "    *   None\n",
       "    *   `NA`\n",
       "*   **`sectionSep1`**: `, `\n",
       "*   **`sectionSep2`**: `, Ln. `\n",
       "*   **`showVerseInTuple`**: `True`\n",
       "*   **`textFormats`**: \n",
       "    *   **`word#layout-orig-full`**: \n",
       "        *   **`method`**: `layoutOrigFull`\n",
       "    *   **`word#layout-orig-lite`**: \n",
       "        *   **`method`**: `layoutOrigLite`\n",
       "    *   **`word#layout-trans-full`**: \n",
       "        *   **`method`**: `layoutTransFull`\n",
       "    *   **`word#layout-trans-fuzzy`**: \n",
       "        *   **`method`**: `layoutTransFuzzy`\n",
       "    *   **`word#layout-trans-lite`**: \n",
       "        *   **`method`**: `layoutTransLite`\n",
       "\n",
       "</details>\n",
       "<details ><summary>18. defaultClsOrig</summary>\n",
       "\n",
       "`txtu cld`\n",
       "\n",
       "</details>\n",
       "<details ><summary>19. defaultFormat</summary>\n",
       "\n",
       "`text-orig-full`\n",
       "\n",
       "</details>\n",
       "<details ><summary>20. descendantType</summary>\n",
       "\n",
       "\n",
       "*   **`dialect`**: \n",
       "    *   `dialect`\n",
       "    *   `inton`\n",
       "    *   `letter`\n",
       "    *   `line`\n",
       "    *   `paragraph`\n",
       "    *   `sentence`\n",
       "    *   `stress`\n",
       "    *   `subsentence`\n",
       "    *   `text`\n",
       "    *   `word`\n",
       "*   **`inton`**: \n",
       "    *   `inton`\n",
       "    *   `letter`\n",
       "    *   `stress`\n",
       "    *   `word`\n",
       "*   **`line`**: \n",
       "    *   `inton`\n",
       "    *   `letter`\n",
       "    *   `line`\n",
       "    *   `sentence`\n",
       "    *   `stress`\n",
       "    *   `subsentence`\n",
       "    *   `word`\n",
       "*   **`paragraph`**: \n",
       "    *   `inton`\n",
       "    *   `letter`\n",
       "    *   `line`\n",
       "    *   `paragraph`\n",
       "    *   `sentence`\n",
       "    *   `stress`\n",
       "    *   `subsentence`\n",
       "    *   `word`\n",
       "*   **`sentence`**: \n",
       "    *   `inton`\n",
       "    *   `letter`\n",
       "    *   `sentence`\n",
       "    *   `stress`\n",
       "    *   `subsentence`\n",
       "    *   `word`\n",
       "*   **`stress`**: \n",
       "    *   `letter`\n",
       "    *   `stress`\n",
       "    *   `word`\n",
       "*   **`subsentence`**: \n",
       "    *   `inton`\n",
       "    *   `letter`\n",
       "    *   `stress`\n",
       "    *   `subsentence`\n",
       "    *   `word`\n",
       "*   **`text`**: \n",
       "    *   `inton`\n",
       "    *   `letter`\n",
       "    *   `line`\n",
       "    *   `paragraph`\n",
       "    *   `sentence`\n",
       "    *   `stress`\n",
       "    *   `subsentence`\n",
       "    *   `text`\n",
       "    *   `word`\n",
       "*   **`word`**: \n",
       "    *   `letter`\n",
       "    *   `word`\n",
       "\n",
       "</details>\n",
       "<details ><summary>21. direction</summary>\n",
       "\n",
       "`ltr`\n",
       "\n",
       "</details>\n",
       "<details ><summary>22. docBase</summary>\n",
       "\n",
       "`https://github.com/CambridgeSemiticsLab/nena_tf/blob/master/docs`\n",
       "\n",
       "</details>\n",
       "<details ><summary>23. docExt</summary>\n",
       "\n",
       "`.md`\n",
       "\n",
       "</details>\n",
       "<details ><summary>24. docPage</summary>\n",
       "\n",
       "`features.md`\n",
       "\n",
       "</details>\n",
       "<details ><summary>25. docRoot</summary>\n",
       "\n",
       "`https://github.com`\n",
       "\n",
       "</details>\n",
       "<details ><summary>26. docUrl</summary>\n",
       "\n",
       "`https://github.com/CambridgeSemiticsLab/nena_tf/blob/master/docs/features.md.md`\n",
       "\n",
       "</details>\n",
       "<details ><summary>27. docs</summary>\n",
       "\n",
       "\n",
       "*   **`charText`**: `NENA transcription script`\n",
       "*   **`charUrl`**: `https://github.com/CambridgeSemiticsLab/nena_tf/blob/master/docs/transcription.md`\n",
       "*   **`docBase`**: `https://github.com/CambridgeSemiticsLab/nena_tf/blob/master/docs`\n",
       "*   **`docExt`**: `.md`\n",
       "*   **`docPage`**: `features.md`\n",
       "*   **`docRoot`**: `https://github.com`\n",
       "*   **`docUrl`**: `https://github.com/CambridgeSemiticsLab/nena_tf/blob/master/docs/features.md.md`\n",
       "*   **`featureBase`**: `https://github.com/CambridgeSemiticsLab/nena_tf/blob/master/docs/features.md#<feature>`\n",
       "*   **`featurePage`**: *empty*\n",
       "\n",
       "</details>\n",
       "<details ><summary>28. doi</summary>\n",
       "\n",
       "`10.5281/zenodo.3250721`\n",
       "\n",
       "</details>\n",
       "<details ><summary>29. exampleSection</summary>\n",
       "\n",
       "`Barwar, A Hundred Gold Coins, Ln. 1`\n",
       "\n",
       "</details>\n",
       "<details ><summary>30. exampleSectionHtml</summary>\n",
       "\n",
       "`<code>Barwar, A Hundred Gold Coins, Ln. 1</code>`\n",
       "\n",
       "</details>\n",
       "<details ><summary>31. excludedFeatures</summary>\n",
       "\n",
       "set()\n",
       "\n",
       "</details>\n",
       "<details ><summary>32. exclusions</summary>\n",
       "\n",
       "{}\n",
       "\n",
       "</details>\n",
       "<details ><summary>33. extension</summary>\n",
       "\n",
       "` cld`\n",
       "\n",
       "</details>\n",
       "<details ><summary>34. featureBase</summary>\n",
       "\n",
       "`https://github.com/CambridgeSemiticsLab/nena_tf/blob/master/docs/features.md#<feature>`\n",
       "\n",
       "</details>\n",
       "<details ><summary>35. featurePage</summary>\n",
       "\n",
       "*empty*\n",
       "\n",
       "</details>\n",
       "<details ><summary>36. features</summary>\n",
       "\n",
       "\n",
       "*   **`dialect`**: \n",
       "    *   []\n",
       "    *   {}\n",
       "*   **`inton`**: \n",
       "    *   []\n",
       "    *   {}\n",
       "*   **`line`**: \n",
       "    *   []\n",
       "    *   {}\n",
       "*   **`paragraph`**: \n",
       "    *   []\n",
       "    *   {}\n",
       "*   **`stress`**: \n",
       "    *   []\n",
       "    *   {}\n",
       "*   **`subsentence`**: \n",
       "    *   []\n",
       "    *   {}\n",
       "*   **`text`**: \n",
       "    *   \n",
       "        *   `title`\n",
       "        *   `place`\n",
       "    *   {}\n",
       "*   **`word`**: \n",
       "    *   \n",
       "        *   `gloss`\n",
       "    *   {}\n",
       "\n",
       "</details>\n",
       "<details ><summary>37. featuresBare</summary>\n",
       "\n",
       "\n",
       "*   **`dialect`**: \n",
       "    *   []\n",
       "    *   {}\n",
       "*   **`inton`**: \n",
       "    *   []\n",
       "    *   {}\n",
       "*   **`line`**: \n",
       "    *   []\n",
       "    *   {}\n",
       "*   **`paragraph`**: \n",
       "    *   []\n",
       "    *   {}\n",
       "*   **`stress`**: \n",
       "    *   []\n",
       "    *   {}\n",
       "*   **`subsentence`**: \n",
       "    *   []\n",
       "    *   {}\n",
       "*   **`text`**: \n",
       "    *   \n",
       "        *   `informant`\n",
       "    *   {}\n",
       "*   **`word`**: \n",
       "    *   \n",
       "        *   `lemma`\n",
       "    *   {}\n",
       "\n",
       "</details>\n",
       "<details ><summary>38. formatCls</summary>\n",
       "\n",
       "\n",
       "*   **`layout-orig-full`**: `txtu cld`\n",
       "*   **`layout-orig-lite`**: `txtu cld`\n",
       "*   **`layout-trans-full`**: `txtt`\n",
       "*   **`layout-trans-fuzzy`**: `txtt`\n",
       "*   **`layout-trans-lite`**: `txtt`\n",
       "*   **`text-orig-full`**: `txtu cld`\n",
       "*   **`text-orig-lite`**: `txtu cld`\n",
       "*   **`text-trans-full`**: `txtt`\n",
       "*   **`text-trans-fuzzy`**: `txtt`\n",
       "*   **`text-trans-lite`**: `txtt`\n",
       "\n",
       "</details>\n",
       "<details ><summary>39. formatHtml</summary>\n",
       "\n",
       "\n",
       "1.  `layout-orig-full`\n",
       "2.  `layout-orig-lite`\n",
       "3.  `layout-trans-full`\n",
       "4.  `layout-trans-fuzzy`\n",
       "5.  `layout-trans-lite`\n",
       "\n",
       "</details>\n",
       "<details ><summary>40. formatMethod</summary>\n",
       "\n",
       "\n",
       "*   **`word#layout-orig-full`**: `layoutOrigFull`\n",
       "*   **`word#layout-orig-lite`**: `layoutOrigLite`\n",
       "*   **`word#layout-trans-full`**: `layoutTransFull`\n",
       "*   **`word#layout-trans-fuzzy`**: `layoutTransFuzzy`\n",
       "*   **`word#layout-trans-lite`**: `layoutTransLite`\n",
       "\n",
       "</details>\n",
       "<details ><summary>41. formatStyle</summary>\n",
       "\n",
       "\n",
       "*   **`normal`**: `txtn`\n",
       "*   **`orig`**: `txtu cld`\n",
       "*   **`phono`**: `txtp`\n",
       "*   **`source`**: `txto`\n",
       "*   **`trans`**: `txtt`\n",
       "\n",
       "</details>\n",
       "<details ><summary>42. graphicsRelative</summary>\n",
       "\n",
       "None\n",
       "\n",
       "</details>\n",
       "<details ><summary>43. hasGraphics</summary>\n",
       "\n",
       "set()\n",
       "\n",
       "</details>\n",
       "<details ><summary>44. interfaceDefaults</summary>\n",
       "\n",
       "\n",
       "*   **`lineNumbers`**: None\n",
       "*   **`plainGaps`**: `True`\n",
       "*   **`prettyTypes`**: `True`\n",
       "*   **`queryFeatures`**: `True`\n",
       "*   **`showGraphics`**: None\n",
       "*   **`showHidden`**: False\n",
       "*   **`standardFeatures`**: False\n",
       "*   **`withNodes`**: False\n",
       "*   **`withTypes`**: False\n",
       "\n",
       "</details>\n",
       "<details ><summary>45. isCompatible</summary>\n",
       "\n",
       "`True`\n",
       "\n",
       "</details>\n",
       "<details ><summary>46. isHidden</summary>\n",
       "\n",
       "\n",
       "1.  `subsentence`\n",
       "\n",
       "</details>\n",
       "<details ><summary>47. labels</summary>\n",
       "\n",
       "\n",
       "*   **`dialect`**: \n",
       "    *   `{dialect}`\n",
       "    *   \n",
       "        *   `dialect`\n",
       "*   **`inton`**: \n",
       "    *   *empty*\n",
       "    *   ()\n",
       "*   **`letter`**: \n",
       "    *   `True`\n",
       "    *   ()\n",
       "*   **`line`**: \n",
       "    *   `{number}`\n",
       "    *   \n",
       "        *   `number`\n",
       "*   **`paragraph`**: \n",
       "    *   `{number}`\n",
       "    *   \n",
       "        *   `number`\n",
       "*   **`sentence`**: \n",
       "    *   *empty*\n",
       "    *   ()\n",
       "*   **`stress`**: \n",
       "    *   *empty*\n",
       "    *   ()\n",
       "*   **`subsentence`**: \n",
       "    *   *empty*\n",
       "    *   ()\n",
       "*   **`text`**: \n",
       "    *   `{text_id}`\n",
       "    *   \n",
       "        *   `text_id`\n",
       "*   **`word`**: \n",
       "    *   *empty*\n",
       "    *   ()\n",
       "\n",
       "</details>\n",
       "<details ><summary>48. language</summary>\n",
       "\n",
       "`aramaic`\n",
       "\n",
       "</details>\n",
       "<details ><summary>49. levelCls</summary>\n",
       "\n",
       "\n",
       "*   **`dialect`**: \n",
       "    *   **`children`**: `children hor wrap`\n",
       "    *   **`container`**: `contnr c4`\n",
       "    *   **`label`**: `lbl c4`\n",
       "*   **`inton`**: \n",
       "    *   **`children`**: `children hor `\n",
       "    *   **`container`**: `contnr c1`\n",
       "    *   **`label`**: `lbl c1`\n",
       "*   **`letter`**: \n",
       "    *   **`children`**: *empty*\n",
       "    *   **`container`**: `contnr c0`\n",
       "    *   **`label`**: `lbl c0`\n",
       "*   **`line`**: \n",
       "    *   **`children`**: `children hor wrap`\n",
       "    *   **`container`**: `contnr c3`\n",
       "    *   **`label`**: `lbl c3`\n",
       "*   **`paragraph`**: \n",
       "    *   **`children`**: `children hor wrap`\n",
       "    *   **`container`**: `contnr c2`\n",
       "    *   **`label`**: `lbl c2`\n",
       "*   **`sentence`**: \n",
       "    *   **`children`**: `children hor wrap`\n",
       "    *   **`container`**: `contnr c2`\n",
       "    *   **`label`**: `lbl c2`\n",
       "*   **`stress`**: \n",
       "    *   **`children`**: `children hor `\n",
       "    *   **`container`**: `contnr c1`\n",
       "    *   **`label`**: `lbl c1`\n",
       "*   **`subsentence`**: \n",
       "    *   **`children`**: `children hor wrap`\n",
       "    *   **`container`**: `contnr c2`\n",
       "    *   **`label`**: `lbl c2`\n",
       "*   **`text`**: \n",
       "    *   **`children`**: `children hor wrap`\n",
       "    *   **`container`**: `contnr c4`\n",
       "    *   **`label`**: `lbl c4`\n",
       "*   **`word`**: \n",
       "    *   **`children`**: `children hor `\n",
       "    *   **`container`**: `contnr c1`\n",
       "    *   **`label`**: `lbl c1`\n",
       "\n",
       "</details>\n",
       "<details ><summary>50. levels</summary>\n",
       "\n",
       "\n",
       "*   **`dialect`**: \n",
       "    *   **`flow`**: `hor`\n",
       "    *   **`level`**: `4`\n",
       "    *   **`stretch`**: `True`\n",
       "    *   **`wrap`**: `True`\n",
       "*   **`inton`**: \n",
       "    *   **`flow`**: `hor`\n",
       "    *   **`level`**: `1`\n",
       "    *   **`stretch`**: `True`\n",
       "    *   **`wrap`**: False\n",
       "*   **`letter`**: \n",
       "    *   **`flow`**: `ver`\n",
       "    *   **`level`**: 0\n",
       "    *   **`stretch`**: False\n",
       "    *   **`wrap`**: False\n",
       "*   **`line`**: \n",
       "    *   **`flow`**: `hor`\n",
       "    *   **`level`**: `3`\n",
       "    *   **`stretch`**: `True`\n",
       "    *   **`wrap`**: `True`\n",
       "*   **`paragraph`**: \n",
       "    *   **`flow`**: `hor`\n",
       "    *   **`level`**: `2`\n",
       "    *   **`stretch`**: `True`\n",
       "    *   **`wrap`**: `True`\n",
       "*   **`sentence`**: \n",
       "    *   **`flow`**: `hor`\n",
       "    *   **`level`**: `2`\n",
       "    *   **`stretch`**: `True`\n",
       "    *   **`wrap`**: `True`\n",
       "*   **`stress`**: \n",
       "    *   **`flow`**: `hor`\n",
       "    *   **`level`**: `1`\n",
       "    *   **`stretch`**: `True`\n",
       "    *   **`wrap`**: False\n",
       "*   **`subsentence`**: \n",
       "    *   **`flow`**: `hor`\n",
       "    *   **`level`**: `2`\n",
       "    *   **`stretch`**: `True`\n",
       "    *   **`wrap`**: `True`\n",
       "*   **`text`**: \n",
       "    *   **`flow`**: `hor`\n",
       "    *   **`level`**: `4`\n",
       "    *   **`stretch`**: `True`\n",
       "    *   **`wrap`**: `True`\n",
       "*   **`word`**: \n",
       "    *   **`flow`**: `hor`\n",
       "    *   **`level`**: `1`\n",
       "    *   **`stretch`**: `True`\n",
       "    *   **`wrap`**: False\n",
       "\n",
       "</details>\n",
       "<details ><summary>51. lexMap</summary>\n",
       "\n",
       "{}\n",
       "\n",
       "</details>\n",
       "<details ><summary>52. lexTypes</summary>\n",
       "\n",
       "set()\n",
       "\n",
       "</details>\n",
       "<details ><summary>53. lineNumberFeature</summary>\n",
       "\n",
       "{}\n",
       "\n",
       "</details>\n",
       "<details ><summary>54. local</summary>\n",
       "\n",
       "`clone`\n",
       "\n",
       "</details>\n",
       "<details ><summary>55. localDir</summary>\n",
       "\n",
       "`/Users/dirk/github/CambridgeSemiticsLab/nena_tf/_temp`\n",
       "\n",
       "</details>\n",
       "<details ><summary>56. moduleSpecs</summary>\n",
       "\n",
       "()\n",
       "\n",
       "</details>\n",
       "<details ><summary>57. noChildren</summary>\n",
       "\n",
       "set()\n",
       "\n",
       "</details>\n",
       "<details ><summary>58. noDescendTypes</summary>\n",
       "\n",
       "set()\n",
       "\n",
       "</details>\n",
       "<details ><summary>59. noneValues</summary>\n",
       "\n",
       "\n",
       "1.  `none`\n",
       "2.  `unknown`\n",
       "3.  None\n",
       "4.  `NA`\n",
       "\n",
       "</details>\n",
       "<details ><summary>60. org</summary>\n",
       "\n",
       "`CambridgeSemiticsLab`\n",
       "\n",
       "</details>\n",
       "<details ><summary>61. plainCustom</summary>\n",
       "\n",
       "{}\n",
       "\n",
       "</details>\n",
       "<details ><summary>62. prettyCustom</summary>\n",
       "\n",
       "{}\n",
       "\n",
       "</details>\n",
       "<details ><summary>63. provenanceSpec</summary>\n",
       "\n",
       "\n",
       "*   **`corpus`**: `Northeastern Neo-Aramaic Text Corpus`\n",
       "*   **`doi`**: `10.5281/zenodo.3250721`\n",
       "*   **`graphicsRelative`**: None\n",
       "*   **`moduleSpecs`**: ()\n",
       "*   **`org`**: `CambridgeSemiticsLab`\n",
       "*   **`relative`**: `tf`\n",
       "*   **`repo`**: `nena_tf`\n",
       "*   **`version`**: `0.02`\n",
       "*   **`webBase`**: `https://github.com/CambridgeSemiticsLab/nena_corpus/blob/master/nena`\n",
       "*   **`webHint`**: `Show this title in the NENA repository`\n",
       "*   **`webLang`**: None\n",
       "*   **`webLexId`**: None\n",
       "*   **`webUrl`**: `https://github.com/CambridgeSemiticsLab/nena_corpus/blob/master/nena/0.02/<1>/<2>.nena`\n",
       "*   **`webUrlLex`**: None\n",
       "*   **`zip`**: None\n",
       "\n",
       "</details>\n",
       "<details ><summary>64. relative</summary>\n",
       "\n",
       "`tf`\n",
       "\n",
       "</details>\n",
       "<details ><summary>65. release</summary>\n",
       "\n",
       "None\n",
       "\n",
       "</details>\n",
       "<details ><summary>66. repo</summary>\n",
       "\n",
       "`nena_tf`\n",
       "\n",
       "</details>\n",
       "<details ><summary>67. sectionSep1</summary>\n",
       "\n",
       "`, `\n",
       "\n",
       "</details>\n",
       "<details ><summary>68. sectionSep2</summary>\n",
       "\n",
       "`, Ln. `\n",
       "\n",
       "</details>\n",
       "<details ><summary>69. showVerseInTuple</summary>\n",
       "\n",
       "`True`\n",
       "\n",
       "</details>\n",
       "<details ><summary>70. styles</summary>\n",
       "\n",
       "{}\n",
       "\n",
       "</details>\n",
       "<details ><summary>71. templates</summary>\n",
       "\n",
       "\n",
       "*   **`dialect`**: \n",
       "    *   `True`\n",
       "    *   ()\n",
       "*   **`inton`**: \n",
       "    *   *empty*\n",
       "    *   ()\n",
       "*   **`letter`**: \n",
       "    *   `True`\n",
       "    *   ()\n",
       "*   **`line`**: \n",
       "    *   *empty*\n",
       "    *   ()\n",
       "*   **`paragraph`**: \n",
       "    *   *empty*\n",
       "    *   ()\n",
       "*   **`sentence`**: \n",
       "    *   *empty*\n",
       "    *   ()\n",
       "*   **`stress`**: \n",
       "    *   *empty*\n",
       "    *   ()\n",
       "*   **`subsentence`**: \n",
       "    *   *empty*\n",
       "    *   ()\n",
       "*   **`text`**: \n",
       "    *   `True`\n",
       "    *   ()\n",
       "*   **`word`**: \n",
       "    *   *empty*\n",
       "    *   ()\n",
       "\n",
       "</details>\n",
       "<details ><summary>72. tfDoc</summary>\n",
       "\n",
       "`https://annotation.github.io/text-fabric`\n",
       "\n",
       "</details>\n",
       "<details ><summary>73. transform</summary>\n",
       "\n",
       "{}\n",
       "\n",
       "</details>\n",
       "<details ><summary>74. typeDisplay</summary>\n",
       "\n",
       "\n",
       "*   **`dialect`**: \n",
       "    *   **`label`**: `{dialect}`\n",
       "*   **`inton`**: \n",
       "    *   **`wrap`**: False\n",
       "*   **`line`**: \n",
       "    *   **`condense`**: `True`\n",
       "    *   **`label`**: `{number}`\n",
       "*   **`paragraph`**: \n",
       "    *   **`label`**: `{number}`\n",
       "*   **`stress`**: \n",
       "    *   **`base`**: `True`\n",
       "    *   **`wrap`**: False\n",
       "*   **`subsentence`**: \n",
       "    *   **`hidden`**: `True`\n",
       "*   **`text`**: \n",
       "    *   **`features`**: `title place`\n",
       "    *   **`featuresBare`**: `informant`\n",
       "    *   **`label`**: `{text_id}`\n",
       "*   **`word`**: \n",
       "    *   **`features`**: `gloss`\n",
       "    *   **`featuresBare`**: `lemma`\n",
       "    *   **`wrap`**: False\n",
       "\n",
       "</details>\n",
       "<details ><summary>75. urlGh</summary>\n",
       "\n",
       "`https://github.com`\n",
       "\n",
       "</details>\n",
       "<details ><summary>76. urlNb</summary>\n",
       "\n",
       "`https://nbviewer.jupyter.org/github`\n",
       "\n",
       "</details>\n",
       "<details ><summary>77. verseTypes</summary>\n",
       "\n",
       "\n",
       "1.  `line`\n",
       "\n",
       "</details>\n",
       "<details ><summary>78. version</summary>\n",
       "\n",
       "`0.02`\n",
       "\n",
       "</details>\n",
       "<details ><summary>79. webBase</summary>\n",
       "\n",
       "`https://github.com/CambridgeSemiticsLab/nena_corpus/blob/master/nena`\n",
       "\n",
       "</details>\n",
       "<details ><summary>80. webHint</summary>\n",
       "\n",
       "`Show this title in the NENA repository`\n",
       "\n",
       "</details>\n",
       "<details ><summary>81. webLang</summary>\n",
       "\n",
       "None\n",
       "\n",
       "</details>\n",
       "<details ><summary>82. webLexId</summary>\n",
       "\n",
       "None\n",
       "\n",
       "</details>\n",
       "<details ><summary>83. webUrl</summary>\n",
       "\n",
       "`https://github.com/CambridgeSemiticsLab/nena_corpus/blob/master/nena/0.02/<1>/<2>.nena`\n",
       "\n",
       "</details>\n",
       "<details ><summary>84. webUrlLex</summary>\n",
       "\n",
       "None\n",
       "\n",
       "</details>\n",
       "<details ><summary>85. writing</summary>\n",
       "\n",
       "`cld`\n",
       "\n",
       "</details>\n",
       "<details ><summary>86. zip</summary>\n",
       "\n",
       "\n",
       "1.  `nena_tf`\n",
       "\n",
       "</details>\n",
       "</details>\n"
      ],
      "text/plain": [
       "<IPython.core.display.Markdown object>"
      ]
     },
     "metadata": {},
     "output_type": "display_data"
    }
   ],
   "source": [
    "A.showContext()"
   ]
  },
  {
   "cell_type": "code",
   "execution_count": null,
   "metadata": {},
   "outputs": [],
   "source": []
  }
 ],
 "metadata": {
  "kernelspec": {
   "display_name": "Python 3",
   "language": "python",
   "name": "python3"
  },
  "language_info": {
   "codemirror_mode": {
    "name": "ipython",
    "version": 3
   },
   "file_extension": ".py",
   "mimetype": "text/x-python",
   "name": "python",
   "nbconvert_exporter": "python",
   "pygments_lexer": "ipython3",
   "version": "3.7.7"
  }
 },
 "nbformat": 4,
 "nbformat_minor": 4
}
