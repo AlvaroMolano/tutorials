{
 "cells": [
  {
   "cell_type": "code",
   "execution_count": 1,
   "metadata": {},
   "outputs": [],
   "source": [
    "%load_ext autoreload\n",
    "%autoreload 2"
   ]
  },
  {
   "cell_type": "code",
   "execution_count": 2,
   "metadata": {},
   "outputs": [],
   "source": [
    "from tf.app import use\n",
    "from fixture import typeShow"
   ]
  },
  {
   "cell_type": "markdown",
   "metadata": {},
   "source": [
    "# Uruk specifics\n",
    "\n",
    "Graphics"
   ]
  },
  {
   "cell_type": "code",
   "execution_count": 3,
   "metadata": {},
   "outputs": [
    {
     "name": "stdout",
     "output_type": "stream",
     "text": [
      "Using TF-app in /Users/dirk/github/annotation/app-uruk/code:\n",
      "\trepo clone offline under ~/github (local github)\n",
      "Using data in /Users/dirk/github/Nino-cunei/uruk/tf/uruk/1.0:\n",
      "\trepo clone offline under ~/github (local github)\n",
      "   |     0.00s Dataset without structure sections in otext:no structure functions in the T-API\n"
     ]
    },
    {
     "data": {
      "text/html": [
       "<b>Documentation:</b> <a target=\"_blank\" href=\"https://github.com/Nino-cunei/uruk/blob/master/docs/about.md\" title=\"provenance of Uruk IV/III: Proto-cuneiform tablets \">URUK</a> <a target=\"_blank\" href=\"https://annotation.github.io/text-fabric/Writing/Transcription/\" title=\"How TF features represent text\">Character table</a> <a target=\"_blank\" href=\"https://github.com/Nino-cunei/uruk/blob/master/docs/transcription.md\" title=\"URUK feature documentation\">Feature docs</a> <a target=\"_blank\" href=\"https://github.com/annotation/app-uruk\" title=\"uruk API documentation\">uruk API</a> <a target=\"_blank\" href=\"https://annotation.github.io/text-fabric/Api/Fabric/\" title=\"text-fabric-api\">Text-Fabric API 8.0.0</a> <a target=\"_blank\" href=\"https://annotation.github.io/text-fabric/Use/Search/\" title=\"Search Templates Introduction and Reference\">Search Reference</a><details open><summary><b>Loaded features</b>:</summary>\n",
       "<p><b>Uruk IV/III: Proto-cuneiform tablets </b>: <a target=\"_blank\" href=\"https://github.com/Nino-cunei/uruk/blob/master/docs/transcription.md\" title=\"/Users/dirk/github/Nino-cunei/uruk/tf/uruk/1.0/catalogId.tf\">catalogId</a>  <a target=\"_blank\" href=\"https://github.com/Nino-cunei/uruk/blob/master/docs/transcription.md\" title=\"/Users/dirk/github/Nino-cunei/uruk/tf/uruk/1.0/crossref.tf\">crossref</a>  <a target=\"_blank\" href=\"https://github.com/Nino-cunei/uruk/blob/master/docs/transcription.md\" title=\"/Users/dirk/github/Nino-cunei/uruk/tf/uruk/1.0/damage.tf\">damage</a>  <a target=\"_blank\" href=\"https://github.com/Nino-cunei/uruk/blob/master/docs/transcription.md\" title=\"/Users/dirk/github/Nino-cunei/uruk/tf/uruk/1.0/depth.tf\">depth</a>  <a target=\"_blank\" href=\"https://github.com/Nino-cunei/uruk/blob/master/docs/transcription.md\" title=\"/Users/dirk/github/Nino-cunei/uruk/tf/uruk/1.0/excavation.tf\">excavation</a>  <a target=\"_blank\" href=\"https://github.com/Nino-cunei/uruk/blob/master/docs/transcription.md\" title=\"/Users/dirk/github/Nino-cunei/uruk/tf/uruk/1.0/fragment.tf\">fragment</a>  <a target=\"_blank\" href=\"https://github.com/Nino-cunei/uruk/blob/master/docs/transcription.md\" title=\"/Users/dirk/github/Nino-cunei/uruk/tf/uruk/1.0/fullNumber.tf\">fullNumber</a>  <a target=\"_blank\" href=\"https://github.com/Nino-cunei/uruk/blob/master/docs/transcription.md\" title=\"/Users/dirk/github/Nino-cunei/uruk/tf/uruk/1.0/grapheme.tf\">grapheme</a>  <a target=\"_blank\" href=\"https://github.com/Nino-cunei/uruk/blob/master/docs/transcription.md\" title=\"/Users/dirk/github/Nino-cunei/uruk/tf/uruk/1.0/identifier.tf\">identifier</a>  <a target=\"_blank\" href=\"https://github.com/Nino-cunei/uruk/blob/master/docs/transcription.md\" title=\"/Users/dirk/github/Nino-cunei/uruk/tf/uruk/1.0/modifier.tf\">modifier</a>  <a target=\"_blank\" href=\"https://github.com/Nino-cunei/uruk/blob/master/docs/transcription.md\" title=\"/Users/dirk/github/Nino-cunei/uruk/tf/uruk/1.0/modifierFirst.tf\">modifierFirst</a>  <a target=\"_blank\" href=\"https://github.com/Nino-cunei/uruk/blob/master/docs/transcription.md\" title=\"/Users/dirk/github/Nino-cunei/uruk/tf/uruk/1.0/modifierInner.tf\">modifierInner</a>  <a target=\"_blank\" href=\"https://github.com/Nino-cunei/uruk/blob/master/docs/transcription.md\" title=\"/Users/dirk/github/Nino-cunei/uruk/tf/uruk/1.0/name.tf\">name</a>  <a target=\"_blank\" href=\"https://github.com/Nino-cunei/uruk/blob/master/docs/transcription.md\" title=\"/Users/dirk/github/Nino-cunei/uruk/tf/uruk/1.0/number.tf\">number</a>  <a target=\"_blank\" href=\"https://github.com/Nino-cunei/uruk/blob/master/docs/transcription.md\" title=\"/Users/dirk/github/Nino-cunei/uruk/tf/uruk/1.0/otype.tf\">otype</a>  <a target=\"_blank\" href=\"https://github.com/Nino-cunei/uruk/blob/master/docs/transcription.md\" title=\"/Users/dirk/github/Nino-cunei/uruk/tf/uruk/1.0/period.tf\">period</a>  <a target=\"_blank\" href=\"https://github.com/Nino-cunei/uruk/blob/master/docs/transcription.md\" title=\"/Users/dirk/github/Nino-cunei/uruk/tf/uruk/1.0/prime.tf\">prime</a>  <a target=\"_blank\" href=\"https://github.com/Nino-cunei/uruk/blob/master/docs/transcription.md\" title=\"/Users/dirk/github/Nino-cunei/uruk/tf/uruk/1.0/remarkable.tf\">remarkable</a>  <a target=\"_blank\" href=\"https://github.com/Nino-cunei/uruk/blob/master/docs/transcription.md\" title=\"/Users/dirk/github/Nino-cunei/uruk/tf/uruk/1.0/repeat.tf\">repeat</a>  <a target=\"_blank\" href=\"https://github.com/Nino-cunei/uruk/blob/master/docs/transcription.md\" title=\"/Users/dirk/github/Nino-cunei/uruk/tf/uruk/1.0/srcLn.tf\">srcLn</a>  <a target=\"_blank\" href=\"https://github.com/Nino-cunei/uruk/blob/master/docs/transcription.md\" title=\"/Users/dirk/github/Nino-cunei/uruk/tf/uruk/1.0/srcLnNum.tf\">srcLnNum</a>  <a target=\"_blank\" href=\"https://github.com/Nino-cunei/uruk/blob/master/docs/transcription.md\" title=\"/Users/dirk/github/Nino-cunei/uruk/tf/uruk/1.0/terminal.tf\">terminal</a>  <a target=\"_blank\" href=\"https://github.com/Nino-cunei/uruk/blob/master/docs/transcription.md\" title=\"/Users/dirk/github/Nino-cunei/uruk/tf/uruk/1.0/text.tf\">text</a>  <a target=\"_blank\" href=\"https://github.com/Nino-cunei/uruk/blob/master/docs/transcription.md\" title=\"/Users/dirk/github/Nino-cunei/uruk/tf/uruk/1.0/type.tf\">type</a>  <a target=\"_blank\" href=\"https://github.com/Nino-cunei/uruk/blob/master/docs/transcription.md\" title=\"/Users/dirk/github/Nino-cunei/uruk/tf/uruk/1.0/uncertain.tf\">uncertain</a>  <a target=\"_blank\" href=\"https://github.com/Nino-cunei/uruk/blob/master/docs/transcription.md\" title=\"/Users/dirk/github/Nino-cunei/uruk/tf/uruk/1.0/variant.tf\">variant</a>  <a target=\"_blank\" href=\"https://github.com/Nino-cunei/uruk/blob/master/docs/transcription.md\" title=\"/Users/dirk/github/Nino-cunei/uruk/tf/uruk/1.0/variantOuter.tf\">variantOuter</a>  <a target=\"_blank\" href=\"https://github.com/Nino-cunei/uruk/blob/master/docs/transcription.md\" title=\"/Users/dirk/github/Nino-cunei/uruk/tf/uruk/1.0/written.tf\">written</a>  <b><i><a target=\"_blank\" href=\"https://github.com/Nino-cunei/uruk/blob/master/docs/transcription.md\" title=\"/Users/dirk/github/Nino-cunei/uruk/tf/uruk/1.0/comments.tf\">comments</a></i></b>  <b><i><a target=\"_blank\" href=\"https://github.com/Nino-cunei/uruk/blob/master/docs/transcription.md\" title=\"/Users/dirk/github/Nino-cunei/uruk/tf/uruk/1.0/op.tf\">op</a></i></b>  <b><i><a target=\"_blank\" href=\"https://github.com/Nino-cunei/uruk/blob/master/docs/transcription.md\" title=\"/Users/dirk/github/Nino-cunei/uruk/tf/uruk/1.0/oslots.tf\">oslots</a></i></b>  <b><i><a target=\"_blank\" href=\"https://github.com/Nino-cunei/uruk/blob/master/docs/transcription.md\" title=\"/Users/dirk/github/Nino-cunei/uruk/tf/uruk/1.0/sub.tf\">sub</a></i></b> </p></details>"
      ],
      "text/plain": [
       "<IPython.core.display.HTML object>"
      ]
     },
     "metadata": {},
     "output_type": "display_data"
    },
    {
     "data": {
      "text/html": [
       "<style>tr.tf, td.tf, th.tf { text-align: left ! important;}@font-face {\n",
       "  font-family: \"Ezra SIL\";\n",
       "  src: local('Ezra SIL'), local('EzraSIL'),\n",
       "    url('/server/static/fonts/SILEOT.woff') format('woff'),\n",
       "    url('https://github.com/annotation/text-fabric/blob/master/tf/server/static/fonts/SILEOT.woff?raw=true') format('woff');\n",
       "}\n",
       "\n",
       "@font-face {\n",
       "  font-family: \"SBL Hebrew\";\n",
       "  src: local('SBL Hebrew'), local('SBLHebrew'),\n",
       "    url('/server/static/fonts/SBL_Hbrw.woff') format('woff'),\n",
       "    url('https://github.com/annotation/text-fabric/blob/master/tf/server/static/fonts/SBL_Hbrw.woff?raw=true') format('woff');\n",
       "}\n",
       "\n",
       "@font-face {\n",
       "  font-family: \"Estrangelo Edessa\";\n",
       "  src: local('Estrangelo Edessa'), local('EstrangeloEdessa');\n",
       "    url('/server/static/fonts/SyrCOMEdessa.woff') format('woff'),\n",
       "    url('https://github.com/annotation/text-fabric/blob/master/tf/server/static/fonts/SyrCOMEdessa.woff?raw=true') format('woff');\n",
       "}\n",
       "\n",
       "@font-face {\n",
       "  font-family: AmiriQuran;\n",
       "  font-style: normal;\n",
       "  font-weight: 400;\n",
       "  src: local('Amiri Quran'), local('AmiriQuran'),\n",
       "    url('/server/static/fonts/AmiriQuran.woff') format('woff'),\n",
       "    url('https://github.com/annotation/text-fabric/blob/master/tf/server/static/fonts/AmiriQuran.woff?raw=true') format('woff');\n",
       "}\n",
       "\n",
       "@font-face {\n",
       "  font-family: AmiriQuranColored;\n",
       "  font-style: normal;\n",
       "  font-weight: 400;\n",
       "  src: local('Amiri Quran Colored'), local('AmiriQuranColored'),\n",
       "    url('/server/static/fonts/AmiriQuranColored.woff') format('woff'),\n",
       "    url('https://github.com/annotation/text-fabric/blob/master/tf/server/static/fonts/AmiriQuranColored.woff?raw=true') format('woff');\n",
       "}\n",
       "\n",
       "@font-face {\n",
       "  font-family: \"Santakku\";\n",
       "  src: local('Santakku'),\n",
       "    url('/server/static/fonts/Santakku.woff') format('woff'),\n",
       "    url('https://github.com/annotation/text-fabric/blob/master/tf/server/static/fonts/Santakku.woff?raw=true') format('woff');\n",
       "}\n",
       "\n",
       "@font-face {\n",
       "  font-family: \"SantakkuM\";\n",
       "  src: local('SantakkuM'),\n",
       "    url('/server/static/fonts/SantakkuM.woff') format('woff'),\n",
       "    url('https://github.com/annotation/text-fabric/blob/master/tf/server/static/fonts/SantakkuM.woff?raw=true') format('woff');\n",
       "}\n",
       "/* neutral text */\n",
       ".txtn,.txtn a:visited,.txtn a:link {\n",
       "    font-family: sans-serif;\n",
       "    font-size: medium;\n",
       "    direction: ltr;\n",
       "    text-decoration: none;\n",
       "    color: var(--text-color);\n",
       "}\n",
       "/* transcription text */\n",
       ".txtt,.txtt a:visited,.txtt a:link {\n",
       "    font-family: monospace;\n",
       "    font-size: medium;\n",
       "    direction: ltr;\n",
       "    text-decoration: none;\n",
       "    color: var(--text-color);\n",
       "}\n",
       "/* source text */\n",
       ".txto,.txto a:visited,.txto a:link {\n",
       "    font-family: serif;\n",
       "    font-size: medium;\n",
       "    direction: ltr;\n",
       "    text-decoration: none;\n",
       "    color: var(--text-color);\n",
       "}\n",
       "/* phonetic text */\n",
       ".txtp,.txtp a:visited,.txtp a:link {\n",
       "    font-family: Gentium, sans-serif;\n",
       "    font-size: large;\n",
       "    direction: ltr;\n",
       "    text-decoration: none;\n",
       "    color: var(--text-color);\n",
       "}\n",
       "/* original script text */\n",
       ".txtu,.txtu a:visited,.txtu a:link {\n",
       "    font-family: Gentium, sans-serif;\n",
       "    font-size: large;\n",
       "    text-decoration: none;\n",
       "    color: var(--text-color);\n",
       "}\n",
       "/* hebrew */\n",
       ".txtu.hbo,.lex.hbo {\n",
       "    font-family: \"Ezra SIL\", \"SBL Hebrew\", sans-serif;\n",
       "    font-size: x-large;\n",
       "    direction: rtl;\n",
       "    unicode-bidi: embed;\n",
       "}\n",
       "/* syriac */\n",
       ".txtu.syc,.lex.syc {\n",
       "    font-family: \"Estrangelo Edessa\", sans-serif;\n",
       "    font-size: large;\n",
       "    direction: rtl;\n",
       "    unicode-bidi: embed;\n",
       "}\n",
       "/* neo aramaic */\n",
       ".txtu.cld,.lex.cld {\n",
       "    font-family: \"CharisSIL-R\", sans-serif;\n",
       "    font-size: medium;\n",
       "    direction: rtl;\n",
       "    unicode-bidi: embed;\n",
       "}\n",
       "/* standard arabic */\n",
       ".txtu.ara,.lex.ara {\n",
       "    font-family: \"AmiriQuran\", sans-serif;\n",
       "    font-size: large;\n",
       "    direction: rtl;\n",
       "    unicode-bidi: embed;\n",
       "}\n",
       "/* cuneiform */\n",
       ".txtu.akk,.lex.akk {\n",
       "    font-family: Santakku, sans-serif;\n",
       "    font-size: x-large;\n",
       "    direction: ltr;\n",
       "    unicode-bidi: embed;\n",
       "}\n",
       "/* greek */\n",
       ".txtu.grc,.lex.grc a:link {\n",
       "    font-family: Gentium, sans-serif;\n",
       "    font-size: medium;\n",
       "    direction: ltr;\n",
       "    unicode-bidi: embed;\n",
       "}\n",
       "a:hover {\n",
       "    text-decoration: underline | important;\n",
       "    color: #0000ff | important;\n",
       "}\n",
       ".ltr {\n",
       "    direction: ltr ! important;\n",
       "}\n",
       ".rtl {\n",
       "    direction: rtl ! important;\n",
       "}\n",
       "span.plain {\n",
       "    display: inline-block;\n",
       "    white-space: pre-wrap;\n",
       "    text-align: start;\n",
       "}\n",
       ".features {\n",
       "    font-family: monospace;\n",
       "    font-size: medium;\n",
       "    font-weight: bold;\n",
       "    color: var(--features);\n",
       "    display: flex;\n",
       "    flex-flow: column nowrap;\n",
       "    justify-content: flex-start;\n",
       "    align-items: flex-start;\n",
       "    align-content: flex-start;\n",
       "    padding: 0.1rem;\n",
       "    margin: 0.1rem;\n",
       "    direction: ltr;\n",
       "    border: var(--meta-width) solid var(--meta-color);\n",
       "    border-radius: var(--meta-width);\n",
       "}\n",
       ".features div,.features span {\n",
       "    padding: 0;\n",
       "    margin: -0.1rem 0;\n",
       "}\n",
       ".features .f {\n",
       "    font-family: sans-serif;\n",
       "    font-size: x-small;\n",
       "    font-weight: normal;\n",
       "    color: #5555bb;\n",
       "}\n",
       ".features .xft {\n",
       "  color: #000000;\n",
       "  background-color: #eeeeee;\n",
       "  font-size: medium;\n",
       "  margin: 0.1rem 0rem;\n",
       "}\n",
       ".features .xft .f {\n",
       "  color: #000000;\n",
       "  background-color: #eeeeee;\n",
       "  font-style: italic;\n",
       "  font-size: small;\n",
       "  font-weight: normal;\n",
       "}\n",
       ".psg {\n",
       "    font-family: sans-serif;\n",
       "    font-size: small;\n",
       "    font-weight: bold;\n",
       "    color: var(--passage);\n",
       "}\n",
       ".comments {\n",
       "    display: flex;\n",
       "    justify-content: flex-start;\n",
       "    align-items: flex-start;\n",
       "    align-content: flex-start;\n",
       "    flex-flow: column nowrap;\n",
       "}\n",
       ".nd {\n",
       "    font-family: sans-serif;\n",
       "    font-size: x-small;\n",
       "    color: var(--node);\n",
       "    vertical-align: super;\n",
       "}\n",
       ".verse {\n",
       "    display: flex;\n",
       "    flex-flow: row wrap;\n",
       "    direction: rtl;\n",
       "}\n",
       ".vl {\n",
       "    display: flex;\n",
       "    flex-flow: column nowrap;\n",
       "    justify-content: flex-end;\n",
       "    align-items: flex-end;\n",
       "    direction: ltr;\n",
       "    width: 100%;\n",
       "}\n",
       ".vn {\n",
       "  font-size: small !important;\n",
       "  padding-right: 1rem;\n",
       "}\n",
       ".lex {\n",
       "  color: var(--lex-color);;\n",
       "}\n",
       ".children,.children.ltr {\n",
       "    display: flex;\n",
       "    border: 0;\n",
       "    background-color: #ffffff;\n",
       "    justify-content: flex-start;\n",
       "    align-items: flex-start;\n",
       "    align-content: flex-start;\n",
       "}\n",
       ".children.stretch {\n",
       "    align-items: stretch;\n",
       "}\n",
       ".children.row {\n",
       "    flex-flow: row nowrap;\n",
       "}\n",
       ".children.row.wrap {\n",
       "    flex-flow: row wrap;\n",
       "}\n",
       ".children.col {\n",
       "    flex-flow: column nowrap;\n",
       "}\n",
       ".children.col.wrap {\n",
       "    flex-flow: column wrap;\n",
       "}\n",
       ".contnr {\n",
       "    width: fit-content;\n",
       "    display: flex;\n",
       "    justify-content: flex-start;\n",
       "    align-items: flex-start;\n",
       "    align-content: flex-start;\n",
       "    flex-flow: column nowrap;\n",
       "    background: #ffffff none repeat scroll 0 0;\n",
       "    padding:  0.5rem 0.1rem 0.1rem 0.1rem;\n",
       "    margin: 0.8rem 0.1rem 0.1rem 0.1rem;\n",
       "    border-style: solid;\n",
       "    font-size: small;\n",
       "}\n",
       ".contnr.trm {\n",
       "    background-attachment: local;\n",
       "}\n",
       ".contnr.cnul {\n",
       "    padding:  0;\n",
       "    margin: 0;\n",
       "    border-style: solid;\n",
       "    font-size: xx-small;\n",
       "}\n",
       ".contnr.cnul,.lbl.cnul {\n",
       "    border-color: var(--border-color-nul);\n",
       "    border-width: var(--border-width-nul);\n",
       "    border-radius: var(--border-width-nul);\n",
       "}\n",
       ".contnr.c0,.lbl.c0 {\n",
       "    border-color: var(--border-color0);\n",
       "    border-width: var(--border-width0);\n",
       "    border-radius: var(--border-width0);\n",
       "}\n",
       ".contnr.c1,.lbl.c1 {\n",
       "    border-color: var(--border-color1);\n",
       "    border-width: var(--border-width1);\n",
       "    border-radius: var(--border-width1);\n",
       "}\n",
       ".contnr.c2,.lbl.c2 {\n",
       "    border-color: var(--border-color2);\n",
       "    border-width: var(--border-width2);\n",
       "    border-radius: var(--border-width2);\n",
       "}\n",
       ".contnr.c3,.lbl.c3 {\n",
       "    border-color: var(--border-color3);\n",
       "    border-width: var(--border-width3);\n",
       "    border-radius: var(--border-width3);\n",
       "}\n",
       ".contnr.c4,.lbl.c4 {\n",
       "    border-color: var(--border-color4);\n",
       "    border-width: var(--border-width4);\n",
       "    border-radius: var(--border-width4);\n",
       "}\n",
       ".contnr.l {\n",
       "    border-left-style: dotted\n",
       "}\n",
       ".contnr.r {\n",
       "    border-right-style: dotted\n",
       "}\n",
       ".contnr.lno {\n",
       "    border-left-style: none\n",
       "}\n",
       ".contnr.rno {\n",
       "    border-right-style: none\n",
       "}\n",
       ".lbl {\n",
       "    margin-top: -1.2rem;\n",
       "    margin-left: 1rem;\n",
       "    background: #ffffff none repeat scroll 0 0;\n",
       "    padding: 0 0.3rem;\n",
       "    border-style: solid;\n",
       "    display: block;\n",
       "    color: var(--label)\n",
       "}\n",
       ".lbl.trm {\n",
       "    background-attachment: local;\n",
       "    margin-top: 0.1rem;\n",
       "    margin-left: 0.1rem;\n",
       "    padding: 0.1rem 0.1rem;\n",
       "    border-style: none;\n",
       "}\n",
       ".lbl.cnul {\n",
       "    font-size: xx-small;\n",
       "}\n",
       ".lbl.c0 {\n",
       "    font-size: small;\n",
       "}\n",
       ".lbl.c1 {\n",
       "    font-size: small;\n",
       "}\n",
       ".lbl.c2 {\n",
       "    font-size: medium;\n",
       "}\n",
       ".lbl.c3 {\n",
       "    font-size: medium;\n",
       "}\n",
       ".lbl.c4 {\n",
       "    font-size: large;\n",
       "}\n",
       ".occs {\n",
       "    font-size: x-small;\n",
       "}\n",
       "\n",
       ":root {\n",
       "\t--node:             hsla(120, 100%,  30%, 1.0  );\n",
       "\t--label:            hsla(  0, 100%,  20%, 1.0  );\n",
       "\t--passage:          hsla(  0, 100%,  25%, 1.0  );\n",
       "\t--features:         hsla(  0,   0%,  30%, 1.0  );\n",
       "  --text-color:       hsla( 60,  80%,  10%, 1.0  );\n",
       "  --lex-color:        hsla(220,  90%,  60%, 1.0  );\n",
       "  --meta-color:       hsla(  0,   0%,  90%, 0.7  );\n",
       "  --meta-width:       0.15rem;\n",
       "  --border-color-nul: hsla(  0,   0%,  90%, 0.5  );\n",
       "  --border-color0:    hsla(  0,   0%,  90%, 0.9  );\n",
       "  --border-color1:    hsla(  0,   0%,  80%, 0.9  );\n",
       "  --border-color2:    hsla(  0,   0%,  70%, 0.9  );\n",
       "  --border-color3:    hsla(  0,   0%,  80%, 0.8  );\n",
       "  --border-color4:    hsla(  0,   0%,  60%, 0.9  );\n",
       "  --border-width-nul: 0.1rem;\n",
       "  --border-width0:    0.1rem;\n",
       "  --border-width1:    0.15rem;\n",
       "  --border-width2:    0.2rem;\n",
       "  --border-width3:    0.3rem;\n",
       "  --border-width4:    0.25rem;\n",
       "}\n",
       ".hl {\n",
       "  background-color: var(--hl-strong);\n",
       "}\n",
       "span.hl {\n",
       "\tbackground-color: var(--hl-strong);\n",
       "\tborder-width: 0;\n",
       "\tborder-radius: 0.1rem;\n",
       "\tborder-style: solid;\n",
       "}\n",
       "div.contnr.hl,div.lbl.hl {\n",
       "    background-color: var(--hl-strong);\n",
       "}\n",
       "\n",
       "span.hlbx {\n",
       "\tborder-color: var(--hl-rim);\n",
       "\tborder-width: 0.2rem;\n",
       "\tborder-style: solid;\n",
       "\tborder-radius: 0.3rem;\n",
       "  padding: 0.2rem;\n",
       "  margin: 0.2rem;\n",
       "}\n",
       "\n",
       "span.plain {\n",
       "  display: inline-block;\n",
       "  white-space: pre-wrap;\n",
       "}\n",
       "\n",
       ":root {\n",
       "\t--hl-strong:        hsla( 60, 100%,  70%, 0.9  );\n",
       "\t--hl-rim:           hsla( 55,  80%,  50%, 1.0  );\n",
       "}\n",
       ".contnr.cluster {\n",
       "    flex-flow: row wrap;\n",
       "    border: 0;\n",
       "}\n",
       ".meta .features {\n",
       "    background-color: #ffeedd;\n",
       "}\n",
       ".lbl.clusterb,.lbl.clustere {\n",
       "    padding:  0.5em 0.1em 0.1em 0.1em;\n",
       "    margin: 0.8em 0.1em 0.1em 0.1em;\n",
       "    color: #888844;\n",
       "    font-size: x-small;\n",
       "}\n",
       ".lbl.clusterb {\n",
       "    border-left: 0.3em solid #cccc99;\n",
       "    border-right: 0;\n",
       "    border-top: 0;\n",
       "    border-bottom: 0;\n",
       "    border-radius: 1rem;\n",
       "}\n",
       ".lbl.clustere {\n",
       "    border-left: 0;\n",
       "    border-right: 0.3em solid #cccc99;\n",
       "    border-top: 0;\n",
       "    border-bottom: 0;\n",
       "    border-radius: 1rem;\n",
       "}\n",
       ".op {\n",
       "    padding:  0.5em 0.1em 0.1em 0.1em;\n",
       "    margin: 0.8em 0.1em 0.1em 0.1em;\n",
       "    font-family: monospace;\n",
       "    font-size: x-large;\n",
       "    font-weight: bold;\n",
       "}\n",
       ".period {\n",
       "    font-family: monospace;\n",
       "    font-size: medium;\n",
       "    font-weight: bold;\n",
       "    color: #0000bb;\n",
       "}\n",
       ".excavation {\n",
       "    font-family: monospace;\n",
       "    font-size: medium;\n",
       "    font-style: italic;\n",
       "    color: #779900;\n",
       "}\n",
       "</style>"
      ],
      "text/plain": [
       "<IPython.core.display.HTML object>"
      ]
     },
     "metadata": {},
     "output_type": "display_data"
    },
    {
     "data": {
      "text/html": [
       "<details open><summary><b>API members</b>:</summary>\n",
       "<a target=\"_blank\" href=\"https://annotation.github.io/text-fabric/Api/Computed/#computed-data\" title=\"doc\">C Computed</a>, <a target=\"_blank\" href=\"https://annotation.github.io/text-fabric/Api/Computed/#computed-data\" title=\"doc\">Call AllComputeds</a>, <a target=\"_blank\" href=\"https://annotation.github.io/text-fabric/Api/Computed/#computed-data\" title=\"doc\">Cs ComputedString</a><br/>\n",
       "<a target=\"_blank\" href=\"https://annotation.github.io/text-fabric/Api/Features/#edge-features\" title=\"doc\">E Edge</a>, <a target=\"_blank\" href=\"https://annotation.github.io/text-fabric/Api/Features/#edge-features\" title=\"doc\">Eall AllEdges</a>, <a target=\"_blank\" href=\"https://annotation.github.io/text-fabric/Api/Features/#edge-features\" title=\"doc\">Es EdgeString</a><br/>\n",
       "<a target=\"_blank\" href=\"https://annotation.github.io/text-fabric/Api/Fabric/#loading\" title=\"doc\">ensureLoaded</a>, <a target=\"_blank\" href=\"https://annotation.github.io/text-fabric/Api/Fabric/#loading\" title=\"doc\">TF</a>, <a target=\"_blank\" href=\"https://annotation.github.io/text-fabric/Api/Fabric/#loading\" title=\"doc\">ignored</a>, <a target=\"_blank\" href=\"https://annotation.github.io/text-fabric/Api/Fabric/#loading\" title=\"doc\">loadLog</a><br/>\n",
       "<a target=\"_blank\" href=\"https://annotation.github.io/text-fabric/Api/Locality/#locality\" title=\"doc\">L Locality</a><br/>\n",
       "<a target=\"_blank\" href=\"https://annotation.github.io/text-fabric/Api/Misc/#messaging\" title=\"doc\">cache</a>, <a target=\"_blank\" href=\"https://annotation.github.io/text-fabric/Api/Misc/#messaging\" title=\"doc\">error</a>, <a target=\"_blank\" href=\"https://annotation.github.io/text-fabric/Api/Misc/#messaging\" title=\"doc\">indent</a>, <a target=\"_blank\" href=\"https://annotation.github.io/text-fabric/Api/Misc/#messaging\" title=\"doc\">info</a>, <a target=\"_blank\" href=\"https://annotation.github.io/text-fabric/Api/Misc/#messaging\" title=\"doc\">isSilent</a>, <a target=\"_blank\" href=\"https://annotation.github.io/text-fabric/Api/Misc/#messaging\" title=\"doc\">reset</a>, <a target=\"_blank\" href=\"https://annotation.github.io/text-fabric/Api/Misc/#messaging\" title=\"doc\">setSilent</a>, <a target=\"_blank\" href=\"https://annotation.github.io/text-fabric/Api/Misc/#messaging\" title=\"doc\">silentOff</a>, <a target=\"_blank\" href=\"https://annotation.github.io/text-fabric/Api/Misc/#messaging\" title=\"doc\">silentOn</a>, <a target=\"_blank\" href=\"https://annotation.github.io/text-fabric/Api/Misc/#messaging\" title=\"doc\">warning</a><br/>\n",
       "<a target=\"_blank\" href=\"https://annotation.github.io/text-fabric/Api/Nodes/#navigating-nodes\" title=\"doc\">N Nodes</a>, <a target=\"_blank\" href=\"https://annotation.github.io/text-fabric/Api/Nodes/#navigating-nodes\" title=\"doc\">sortKey</a>, <a target=\"_blank\" href=\"https://annotation.github.io/text-fabric/Api/Nodes/#navigating-nodes\" title=\"doc\">sortKeyTuple</a>, <a target=\"_blank\" href=\"https://annotation.github.io/text-fabric/Api/Nodes/#navigating-nodes\" title=\"doc\">otypeRank</a>, <a target=\"_blank\" href=\"https://annotation.github.io/text-fabric/Api/Nodes/#navigating-nodes\" title=\"doc\">sortNodes</a><br/>\n",
       "<a target=\"_blank\" href=\"https://annotation.github.io/text-fabric/Api/Features/#node-features\" title=\"doc\">F Feature</a>, <a target=\"_blank\" href=\"https://annotation.github.io/text-fabric/Api/Features/#node-features\" title=\"doc\">Fall AllFeatures</a>, <a target=\"_blank\" href=\"https://annotation.github.io/text-fabric/Api/Features/#node-features\" title=\"doc\">Fs FeatureString</a><br/>\n",
       "<a target=\"_blank\" href=\"https://annotation.github.io/text-fabric/Api/Search/#search\" title=\"doc\">S Search</a><br/>\n",
       "<a target=\"_blank\" href=\"https://annotation.github.io/text-fabric/Api/Text/#text\" title=\"doc\">T Text</a></details>"
      ],
      "text/plain": [
       "<IPython.core.display.HTML object>"
      ]
     },
     "metadata": {},
     "output_type": "display_data"
    },
    {
     "name": "stdout",
     "output_type": "stream",
     "text": [
      "Using data in /Users/dirk/github/Nino-cunei/uruk/sources/cdli/images:\n",
      "\trepo clone offline under ~/github (local github)\n",
      "Found 2095 ideograph linearts\n",
      "Found 2724 tablet linearts\n",
      "Found 5495 tablet photos\n"
     ]
    }
   ],
   "source": [
    "A = use('uruk:clone', checkout=\"clone\", hoist=globals())"
   ]
  },
  {
   "cell_type": "code",
   "execution_count": 9,
   "metadata": {},
   "outputs": [
    {
     "data": {
      "text/html": [
       "<style>tr.tf, td.tf, th.tf { text-align: left ! important;}@font-face {\n",
       "  font-family: \"Ezra SIL\";\n",
       "  src: local('Ezra SIL'), local('EzraSIL'),\n",
       "    url('/server/static/fonts/SILEOT.woff') format('woff'),\n",
       "    url('https://github.com/annotation/text-fabric/blob/master/tf/server/static/fonts/SILEOT.woff?raw=true') format('woff');\n",
       "}\n",
       "\n",
       "@font-face {\n",
       "  font-family: \"SBL Hebrew\";\n",
       "  src: local('SBL Hebrew'), local('SBLHebrew'),\n",
       "    url('/server/static/fonts/SBL_Hbrw.woff') format('woff'),\n",
       "    url('https://github.com/annotation/text-fabric/blob/master/tf/server/static/fonts/SBL_Hbrw.woff?raw=true') format('woff');\n",
       "}\n",
       "\n",
       "@font-face {\n",
       "  font-family: \"Estrangelo Edessa\";\n",
       "  src: local('Estrangelo Edessa'), local('EstrangeloEdessa');\n",
       "    url('/server/static/fonts/SyrCOMEdessa.woff') format('woff'),\n",
       "    url('https://github.com/annotation/text-fabric/blob/master/tf/server/static/fonts/SyrCOMEdessa.woff?raw=true') format('woff');\n",
       "}\n",
       "\n",
       "@font-face {\n",
       "  font-family: AmiriQuran;\n",
       "  font-style: normal;\n",
       "  font-weight: 400;\n",
       "  src: local('Amiri Quran'), local('AmiriQuran'),\n",
       "    url('/server/static/fonts/AmiriQuran.woff') format('woff'),\n",
       "    url('https://github.com/annotation/text-fabric/blob/master/tf/server/static/fonts/AmiriQuran.woff?raw=true') format('woff');\n",
       "}\n",
       "\n",
       "@font-face {\n",
       "  font-family: AmiriQuranColored;\n",
       "  font-style: normal;\n",
       "  font-weight: 400;\n",
       "  src: local('Amiri Quran Colored'), local('AmiriQuranColored'),\n",
       "    url('/server/static/fonts/AmiriQuranColored.woff') format('woff'),\n",
       "    url('https://github.com/annotation/text-fabric/blob/master/tf/server/static/fonts/AmiriQuranColored.woff?raw=true') format('woff');\n",
       "}\n",
       "\n",
       "@font-face {\n",
       "  font-family: \"Santakku\";\n",
       "  src: local('Santakku'),\n",
       "    url('/server/static/fonts/Santakku.woff') format('woff'),\n",
       "    url('https://github.com/annotation/text-fabric/blob/master/tf/server/static/fonts/Santakku.woff?raw=true') format('woff');\n",
       "}\n",
       "\n",
       "@font-face {\n",
       "  font-family: \"SantakkuM\";\n",
       "  src: local('SantakkuM'),\n",
       "    url('/server/static/fonts/SantakkuM.woff') format('woff'),\n",
       "    url('https://github.com/annotation/text-fabric/blob/master/tf/server/static/fonts/SantakkuM.woff?raw=true') format('woff');\n",
       "}\n",
       "/* neutral text */\n",
       ".txtn,.txtn a:visited,.txtn a:link {\n",
       "    font-family: sans-serif;\n",
       "    font-size: medium;\n",
       "    direction: ltr;\n",
       "    text-decoration: none;\n",
       "    color: var(--text-color);\n",
       "}\n",
       "/* transcription text */\n",
       ".txtt,.txtt a:visited,.txtt a:link {\n",
       "    font-family: monospace;\n",
       "    font-size: medium;\n",
       "    direction: ltr;\n",
       "    text-decoration: none;\n",
       "    color: var(--text-color);\n",
       "}\n",
       "/* source text */\n",
       ".txto,.txto a:visited,.txto a:link {\n",
       "    font-family: serif;\n",
       "    font-size: medium;\n",
       "    direction: ltr;\n",
       "    text-decoration: none;\n",
       "    color: var(--text-color);\n",
       "}\n",
       "/* phonetic text */\n",
       ".txtp,.txtp a:visited,.txtp a:link {\n",
       "    font-family: Gentium, sans-serif;\n",
       "    font-size: large;\n",
       "    direction: ltr;\n",
       "    text-decoration: none;\n",
       "    color: var(--text-color);\n",
       "}\n",
       "/* original script text */\n",
       ".txtu,.txtu a:visited,.txtu a:link {\n",
       "    font-family: Gentium, sans-serif;\n",
       "    font-size: large;\n",
       "    text-decoration: none;\n",
       "    color: var(--text-color);\n",
       "}\n",
       "/* hebrew */\n",
       ".txtu.hbo,.lex.hbo {\n",
       "    font-family: \"Ezra SIL\", \"SBL Hebrew\", sans-serif;\n",
       "    font-size: x-large;\n",
       "    direction: rtl;\n",
       "    unicode-bidi: embed;\n",
       "}\n",
       "/* syriac */\n",
       ".txtu.syc,.lex.syc {\n",
       "    font-family: \"Estrangelo Edessa\", sans-serif;\n",
       "    font-size: large;\n",
       "    direction: rtl;\n",
       "    unicode-bidi: embed;\n",
       "}\n",
       "/* neo aramaic */\n",
       ".txtu.cld,.lex.cld {\n",
       "    font-family: \"CharisSIL-R\", sans-serif;\n",
       "    font-size: medium;\n",
       "    direction: rtl;\n",
       "    unicode-bidi: embed;\n",
       "}\n",
       "/* standard arabic */\n",
       ".txtu.ara,.lex.ara {\n",
       "    font-family: \"AmiriQuran\", sans-serif;\n",
       "    font-size: large;\n",
       "    direction: rtl;\n",
       "    unicode-bidi: embed;\n",
       "}\n",
       "/* cuneiform */\n",
       ".txtu.akk,.lex.akk {\n",
       "    font-family: Santakku, sans-serif;\n",
       "    font-size: x-large;\n",
       "    direction: ltr;\n",
       "    unicode-bidi: embed;\n",
       "}\n",
       "/* greek */\n",
       ".txtu.grc,.lex.grc a:link {\n",
       "    font-family: Gentium, sans-serif;\n",
       "    font-size: medium;\n",
       "    direction: ltr;\n",
       "    unicode-bidi: embed;\n",
       "}\n",
       "a:hover {\n",
       "    text-decoration: underline | important;\n",
       "    color: #0000ff | important;\n",
       "}\n",
       ".ltr {\n",
       "    direction: ltr ! important;\n",
       "}\n",
       ".rtl {\n",
       "    direction: rtl ! important;\n",
       "}\n",
       "span.plain {\n",
       "    display: inline-block;\n",
       "    white-space: pre-wrap;\n",
       "    text-align: start;\n",
       "}\n",
       ".features {\n",
       "    font-family: monospace;\n",
       "    font-size: medium;\n",
       "    font-weight: bold;\n",
       "    color: var(--features);\n",
       "    display: flex;\n",
       "    flex-flow: column nowrap;\n",
       "    justify-content: flex-start;\n",
       "    align-items: flex-start;\n",
       "    align-content: flex-start;\n",
       "    padding: 0.1rem;\n",
       "    margin: 0.1rem;\n",
       "    direction: ltr;\n",
       "}\n",
       ".features div,.features span {\n",
       "    padding: 0;\n",
       "    margin: -0.1rem 0;\n",
       "}\n",
       ".features .f {\n",
       "    font-family: sans-serif;\n",
       "    font-size: x-small;\n",
       "    font-weight: normal;\n",
       "    color: #5555bb;\n",
       "}\n",
       ".features .xft {\n",
       "  color: #000000;\n",
       "  background-color: #eeeeee;\n",
       "  font-size: medium;\n",
       "  margin: 0.1rem 0rem;\n",
       "}\n",
       ".features .xft .f {\n",
       "  color: #000000;\n",
       "  background-color: #eeeeee;\n",
       "  font-style: italic;\n",
       "  font-size: small;\n",
       "  font-weight: normal;\n",
       "}\n",
       ".psg {\n",
       "    font-family: sans-serif;\n",
       "    font-size: small;\n",
       "    font-weight: bold;\n",
       "    color: var(--passage);\n",
       "}\n",
       ".comments {\n",
       "    display: flex;\n",
       "    justify-content: flex-start;\n",
       "    align-items: flex-start;\n",
       "    align-content: flex-start;\n",
       "    flex-flow: column nowrap;\n",
       "}\n",
       ".meta {\n",
       "    display: flex;\n",
       "    justify-content: flex-start;\n",
       "    align-items: flex-start;\n",
       "    align-content: flex-start;\n",
       "    flex-flow: column nowrap;\n",
       "    border: var(--meta-width) solid var(--meta-color);\n",
       "    border-radius: var(--meta-width);\n",
       "}\n",
       ".nd {\n",
       "    font-family: sans-serif;\n",
       "    font-size: x-small;\n",
       "    color: var(--node);\n",
       "    vertical-align: super;\n",
       "}\n",
       ".verse {\n",
       "    display: flex;\n",
       "    flex-flow: row wrap;\n",
       "    direction: rtl;\n",
       "}\n",
       ".vl {\n",
       "    display: flex;\n",
       "    flex-flow: column nowrap;\n",
       "    justify-content: flex-end;\n",
       "    align-items: flex-end;\n",
       "    direction: ltr;\n",
       "    width: 100%;\n",
       "}\n",
       ".vn {\n",
       "  font-size: small !important;\n",
       "  padding-right: 1rem;\n",
       "}\n",
       ".lex {\n",
       "  color: var(--lex-color);;\n",
       "}\n",
       ".children,.children.ltr {\n",
       "    display: flex;\n",
       "    border: 0;\n",
       "    background-color: #ffffff;\n",
       "    justify-content: flex-start;\n",
       "    align-items: flex-start;\n",
       "    align-content: flex-start;\n",
       "}\n",
       ".children.stretch {\n",
       "    align-items: stretch;\n",
       "}\n",
       ".children.row {\n",
       "    flex-flow: row nowrap;\n",
       "}\n",
       ".children.row.wrap {\n",
       "    flex-flow: row wrap;\n",
       "}\n",
       ".children.col {\n",
       "    flex-flow: column nowrap;\n",
       "}\n",
       ".children.col.wrap {\n",
       "    flex-flow: column wrap;\n",
       "}\n",
       ".contnr {\n",
       "    width: fit-content;\n",
       "    display: flex;\n",
       "    justify-content: flex-start;\n",
       "    align-items: flex-start;\n",
       "    align-content: flex-start;\n",
       "    flex-flow: column nowrap;\n",
       "    background: #ffffff none repeat scroll 0 0;\n",
       "    padding:  0.5rem 0.1rem 0.1rem 0.1rem;\n",
       "    margin: 0.8rem 0.1rem 0.1rem 0.1rem;\n",
       "    border-style: solid;\n",
       "    font-size: small;\n",
       "}\n",
       ".contnr.trm {\n",
       "    background-attachment: local;\n",
       "}\n",
       ".contnr.cnul {\n",
       "    padding:  0;\n",
       "    margin: 0;\n",
       "    border-style: solid;\n",
       "    font-size: xx-small;\n",
       "}\n",
       ".contnr.cnul,.lbl.cnul {\n",
       "    border-color: var(--border-color-nul);\n",
       "    border-width: var(--border-width-nul);\n",
       "    border-radius: var(--border-width-nul);\n",
       "}\n",
       ".contnr.c0,.lbl.c0 {\n",
       "    border-color: var(--border-color0);\n",
       "    border-width: var(--border-width0);\n",
       "    border-radius: var(--border-width0);\n",
       "}\n",
       ".contnr.c1,.lbl.c1 {\n",
       "    border-color: var(--border-color1);\n",
       "    border-width: var(--border-width1);\n",
       "    border-radius: var(--border-width1);\n",
       "}\n",
       ".contnr.c2,.lbl.c2 {\n",
       "    border-color: var(--border-color2);\n",
       "    border-width: var(--border-width2);\n",
       "    border-radius: var(--border-width2);\n",
       "}\n",
       ".contnr.c3,.lbl.c3 {\n",
       "    border-color: var(--border-color3);\n",
       "    border-width: var(--border-width3);\n",
       "    border-radius: var(--border-width3);\n",
       "}\n",
       ".contnr.c4,.lbl.c4 {\n",
       "    border-color: var(--border-color4);\n",
       "    border-width: var(--border-width4);\n",
       "    border-radius: var(--border-width4);\n",
       "}\n",
       ".contnr.l {\n",
       "    border-left-style: dotted\n",
       "}\n",
       ".contnr.r {\n",
       "    border-right-style: dotted\n",
       "}\n",
       ".contnr.lno {\n",
       "    border-left-style: none\n",
       "}\n",
       ".contnr.rno {\n",
       "    border-right-style: none\n",
       "}\n",
       ".lbl {\n",
       "    margin-top: -1.2rem;\n",
       "    margin-left: 1rem;\n",
       "    background: #ffffff none repeat scroll 0 0;\n",
       "    padding: 0 0.3rem;\n",
       "    border-style: solid;\n",
       "    display: block;\n",
       "    color: var(--label)\n",
       "}\n",
       ".lbl.trm {\n",
       "    background-attachment: local;\n",
       "    margin-top: 0.1rem;\n",
       "    margin-left: 0.1rem;\n",
       "    padding: 0.1rem 0.1rem;\n",
       "    border-style: none;\n",
       "}\n",
       ".lbl.cnul {\n",
       "    font-size: xx-small;\n",
       "}\n",
       ".lbl.c0 {\n",
       "    font-size: small;\n",
       "}\n",
       ".lbl.c1 {\n",
       "    font-size: small;\n",
       "}\n",
       ".lbl.c2 {\n",
       "    font-size: medium;\n",
       "}\n",
       ".lbl.c3 {\n",
       "    font-size: medium;\n",
       "}\n",
       ".lbl.c4 {\n",
       "    font-size: large;\n",
       "}\n",
       ".occs {\n",
       "    font-size: x-small;\n",
       "}\n",
       "\n",
       ":root {\n",
       "\t--node:             hsla(120, 100%,  30%, 1.0  );\n",
       "\t--label:            hsla(  0, 100%,  20%, 1.0  );\n",
       "\t--passage:          hsla(  0, 100%,  25%, 1.0  );\n",
       "\t--features:         hsla(  0,   0%,  30%, 1.0  );\n",
       "  --text-color:       hsla( 60,  80%,  10%, 1.0  );\n",
       "  --lex-color:        hsla(220,  90%,  60%, 1.0  );\n",
       "  --meta-color:       hsla(  0,   0%,  90%, 0.7  );\n",
       "  --meta-width:       0.15rem;\n",
       "  --border-color-nul: hsla(  0,   0%,  90%, 0.5  );\n",
       "  --border-color0:    hsla(  0,   0%,  90%, 0.9  );\n",
       "  --border-color1:    hsla(  0,   0%,  80%, 0.9  );\n",
       "  --border-color2:    hsla(  0,   0%,  70%, 0.9  );\n",
       "  --border-color3:    hsla(  0,   0%,  80%, 0.8  );\n",
       "  --border-color4:    hsla(  0,   0%,  60%, 0.9  );\n",
       "  --border-width-nul: 0.1rem;\n",
       "  --border-width0:    0.1rem;\n",
       "  --border-width1:    0.15rem;\n",
       "  --border-width2:    0.2rem;\n",
       "  --border-width3:    0.3rem;\n",
       "  --border-width4:    0.25rem;\n",
       "}\n",
       ".hl {\n",
       "  background-color: var(--hl-strong);\n",
       "}\n",
       "span.hl {\n",
       "\tbackground-color: var(--hl-strong);\n",
       "\tborder-width: 0;\n",
       "\tborder-radius: 0.1rem;\n",
       "\tborder-style: solid;\n",
       "}\n",
       "div.contnr.hl,div.lbl.hl {\n",
       "    background-color: var(--hl-strong);\n",
       "}\n",
       "\n",
       "span.hlbx {\n",
       "\tborder-color: var(--hl-rim);\n",
       "\tborder-width: 0.2rem;\n",
       "\tborder-style: solid;\n",
       "\tborder-radius: 0.3rem;\n",
       "  padding: 0.2rem;\n",
       "  margin: 0.2rem;\n",
       "}\n",
       "\n",
       "span.plain {\n",
       "  display: inline-block;\n",
       "  white-space: pre-wrap;\n",
       "}\n",
       "\n",
       ":root {\n",
       "\t--hl-strong:        hsla( 60, 100%,  70%, 0.9  );\n",
       "\t--hl-rim:           hsla( 55,  80%,  50%, 1.0  );\n",
       "}\n",
       ".contnr.cluster {\n",
       "    flex-flow: row wrap;\n",
       "    border: 0;\n",
       "}\n",
       ".meta .features {\n",
       "    background-color: #ffeedd;\n",
       "}\n",
       ".lbl.clusterb,.lbl.clustere {\n",
       "    padding:  0.5em 0.1em 0.1em 0.1em;\n",
       "    margin: 0.8em 0.1em 0.1em 0.1em;\n",
       "    color: #888844;\n",
       "    font-size: x-small;\n",
       "}\n",
       ".lbl.clusterb {\n",
       "    border-left: 0.3em solid #cccc99;\n",
       "    border-right: 0;\n",
       "    border-top: 0;\n",
       "    border-bottom: 0;\n",
       "    border-radius: 1rem;\n",
       "}\n",
       ".lbl.clustere {\n",
       "    border-left: 0;\n",
       "    border-right: 0.3em solid #cccc99;\n",
       "    border-top: 0;\n",
       "    border-bottom: 0;\n",
       "    border-radius: 1rem;\n",
       "}\n",
       ".op {\n",
       "    padding:  0.5em 0.1em 0.1em 0.1em;\n",
       "    margin: 0.8em 0.1em 0.1em 0.1em;\n",
       "    font-family: monospace;\n",
       "    font-size: x-large;\n",
       "    font-weight: bold;\n",
       "}\n",
       ".period {\n",
       "    font-family: monospace;\n",
       "    font-size: medium;\n",
       "    font-weight: bold;\n",
       "    color: #0000bb;\n",
       "}\n",
       ".excavation {\n",
       "    font-family: monospace;\n",
       "    font-size: medium;\n",
       "    font-style: italic;\n",
       "    color: #779900;\n",
       "}\n",
       "</style>"
      ],
      "text/plain": [
       "<IPython.core.display.HTML object>"
      ]
     },
     "metadata": {},
     "output_type": "display_data"
    }
   ],
   "source": [
    "A.reuse()"
   ]
  },
  {
   "cell_type": "code",
   "execution_count": 4,
   "metadata": {},
   "outputs": [],
   "source": [
    "example = T.nodeFromSection(('P005381',))"
   ]
  },
  {
   "cell_type": "code",
   "execution_count": 5,
   "metadata": {},
   "outputs": [
    {
     "data": {
      "text/html": [
       "<span class=\"psg ltr\">P005381 </span><div class=\"contnr c4    \" ><div class=\"lbl c4  \"><span class=\"nd\">tablet:148166</span> <span class=\"txtu\">P005381</span></div> <div class='features'><span class=\"name \">MSVO 3, 70</span><span class=\"period \">uruk-iii</span></div><div class=\"children col  \"><div class=\"contnr c1 trm   \" ><div class=\"lbl c1 trm \"><span class=\"nd\">comment:178162</span> <span class=\"txtn\"><span class=\"plain outer   \" ><span class=\"plain \"></span><span class=\"plain    \" ><span class=\"plain \" ></span>  </span></span></span></div> <div class='features'><span class=\"text \">atf: lang qpc</span></div></div><div class=\"contnr c2    \" ><div class=\"lbl c2  \"><span class=\"nd\">face:156932</span> <span class=\"txtn\">obverse</span></div> <div class=\"children row  \"><div class=\"contnr c3    \" ><div class=\"lbl c3  \"><span class=\"nd\">column:190362</span> <span class=\"txtn\">1</span></div> <div class=\"children col  \"><div class=\"contnr c2    \" ><div class=\"lbl c2  \"><span class=\"nd\">line:254173</span> <span class=\"txtn\">1</span></div> <div class=\"children row  \"><div class=\"contnr c2    \" ><div class=\"lbl c2  \"><span class=\"nd\">case:167736</span> <span class=\"txtn\">1a</span></div> <div class=\"children col False \"><div class=\"contnr c0 trm   \" ><div class=\"lbl c0 trm \"><span class=\"nd\">106585</span> <span class=\"txtn\">2(N14)</span></div> <div><a target=\"_blank\" href=\"https://cdli.ucla.edu/tools/SignLists/protocuneiform/archsigns/2(N14).jpg\" title=\"to higher resolution lineart on CDLI\"><img src=\"cdli-imagery/lineart-2(n14).jpg\" style=\"display: inline;max-width: 2em; max-height: 6em;\"  /></a></div></div><div class=\"contnr c0 trm   \" ><div class=\"lbl c0 trm \"><span class=\"nd\">106586</span> <span class=\"txtn\">SZE~a</span></div> <div><a target=\"_blank\" href=\"https://cdli.ucla.edu/tools/SignLists/protocuneiform/archsigns/SZE~a.jpg\" title=\"to higher resolution lineart on CDLI\"><img src=\"cdli-imagery/lineart-sze-a.jpg\" style=\"display: inline;max-width: 2em; max-height: 6em;\"  /></a></div></div><div class=\"contnr c0 trm   \" ><div class=\"lbl c0 trm \"><span class=\"nd\">106587</span> <span class=\"txtn\">SAL</span></div> <div><a target=\"_blank\" href=\"https://cdli.ucla.edu/tools/SignLists/protocuneiform/archsigns/SAL.jpg\" title=\"to higher resolution lineart on CDLI\"><img src=\"cdli-imagery/lineart-sal.jpg\" style=\"display: inline;max-width: 2em; max-height: 6em;\"  /></a></div></div><div class=\"contnr c0 trm   \" ><div class=\"lbl c0 trm \"><span class=\"nd\">106588</span> <span class=\"txtn\">TUR3~a</span></div> <div><a target=\"_blank\" href=\"https://cdli.ucla.edu/tools/SignLists/protocuneiform/archsigns/TUR3~a.jpg\" title=\"to higher resolution lineart on CDLI\"><img src=\"cdli-imagery/lineart-tur3-a.jpg\" style=\"display: inline;max-width: 2em; max-height: 6em;\"  /></a></div></div><div class=\"contnr c0 trm   \" ><div class=\"lbl c0 trm \"><span class=\"nd\">106589</span> <span class=\"txtn\">NUN~a</span></div> <div><a target=\"_blank\" href=\"https://cdli.ucla.edu/tools/SignLists/protocuneiform/archsigns/NUN~a.jpg\" title=\"to higher resolution lineart on CDLI\"><img src=\"cdli-imagery/lineart-nun-a.jpg\" style=\"display: inline;max-width: 2em; max-height: 6em;\"  /></a></div></div></div></div><div class=\"contnr c2    \" ><div class=\"lbl c2  \"><span class=\"nd\">case:167737</span> <span class=\"txtn\">1b</span></div> <div class=\"children col False \"><div class=\"contnr c0 trm   \" ><div class=\"lbl c0 trm \"><span class=\"nd\">106590</span> <span class=\"txtn\">3(N19)</span></div> <div><a target=\"_blank\" href=\"https://cdli.ucla.edu/tools/SignLists/protocuneiform/archsigns/3(N19).jpg\" title=\"to higher resolution lineart on CDLI\"><img src=\"cdli-imagery/lineart-3(n19).jpg\" style=\"display: inline;max-width: 2em; max-height: 6em;\"  /></a></div></div><div class=\"contnr c1    \" ><div class=\"lbl c1  \"><span class=\"nd\">quad:143013</span> </div> <div><a target=\"_blank\" href=\"https://cdli.ucla.edu/tools/SignLists/protocuneiform/archsigns/|GISZ.TE|.jpg\" title=\"to higher resolution lineart on CDLI\"><img src=\"cdli-imagery/lineart-qgisz(d)teq.jpg\" style=\"display: inline;max-width: 4em; max-height: 4em;\"  /></a></div><div class=\"children row wrap \"><div class=\"contnr c0 trm   \" ><div class=\"lbl c0 trm \"><span class=\"nd\">106591</span> <span class=\"txtn\">GISZ</span></div> </div><div class=\"op\">.</div><div class=\"contnr c0 trm   \" ><div class=\"lbl c0 trm \"><span class=\"nd\">106592</span> <span class=\"txtn\">TE</span></div> </div></div></div></div></div></div></div><div class=\"contnr c2    \" ><div class=\"lbl c2  \"><span class=\"nd\">line:254174</span> <span class=\"txtn\">2</span></div> <div class=\"children row  \"><div class=\"contnr c0 trm   \" ><div class=\"lbl c0 trm \"><span class=\"nd\">106593</span> <span class=\"txtn\">1(N14)</span></div> <div><a target=\"_blank\" href=\"https://cdli.ucla.edu/tools/SignLists/protocuneiform/archsigns/1(N14).jpg\" title=\"to higher resolution lineart on CDLI\"><img src=\"cdli-imagery/lineart-1(n14).jpg\" style=\"display: inline;max-width: 2em; max-height: 6em;\"  /></a></div></div><div class=\"contnr c0 trm   \" ><div class=\"lbl c0 trm \"><span class=\"nd\">106594</span> <span class=\"txtn\">NAR</span></div> <div><a target=\"_blank\" href=\"https://cdli.ucla.edu/tools/SignLists/protocuneiform/archsigns/NAR.jpg\" title=\"to higher resolution lineart on CDLI\"><img src=\"cdli-imagery/lineart-nar.jpg\" style=\"display: inline;max-width: 2em; max-height: 6em;\"  /></a></div></div><div class=\"contnr c0 trm   \" ><div class=\"lbl c0 trm \"><span class=\"nd\">106595</span> <span class=\"txtn\">NUN~a</span></div> <div><a target=\"_blank\" href=\"https://cdli.ucla.edu/tools/SignLists/protocuneiform/archsigns/NUN~a.jpg\" title=\"to higher resolution lineart on CDLI\"><img src=\"cdli-imagery/lineart-nun-a.jpg\" style=\"display: inline;max-width: 2em; max-height: 6em;\"  /></a></div></div><div class=\"contnr c0 trm   \" ><div class=\"lbl c0 trm \"><span class=\"nd\">106596</span> <span class=\"txtn\">SIG7</span></div> <div><a target=\"_blank\" href=\"https://cdli.ucla.edu/tools/SignLists/protocuneiform/archsigns/SIG7.jpg\" title=\"to higher resolution lineart on CDLI\"><img src=\"cdli-imagery/lineart-sig7.jpg\" style=\"display: inline;max-width: 2em; max-height: 6em;\"  /></a></div></div></div></div><div class=\"contnr c2    \" ><div class=\"lbl c2  \"><span class=\"nd\">line:254175</span> <span class=\"txtn\">3</span></div> <div class=\"children row  \"><div class=\"contnr c0 trm   \" ><div class=\"lbl c0 trm \"><span class=\"nd\">106597</span> <span class=\"txtn\">2(N04)#</span></div> <div><a target=\"_blank\" href=\"https://cdli.ucla.edu/tools/SignLists/protocuneiform/archsigns/2(N04).jpg\" title=\"to higher resolution lineart on CDLI\"><img src=\"cdli-imagery/lineart-2(n04).jpg\" style=\"display: inline;max-width: 2em; max-height: 6em;\"  /></a></div></div><div class=\"contnr c0 trm   \" ><div class=\"lbl c0 trm \"><span class=\"nd\">106598</span> <span class=\"txtn\">PIRIG~b1</span></div> <div><a target=\"_blank\" href=\"https://cdli.ucla.edu/tools/SignLists/protocuneiform/archsigns/PIRIG~b1.jpg\" title=\"to higher resolution lineart on CDLI\"><img src=\"cdli-imagery/lineart-pirig-b1.jpg\" style=\"display: inline;max-width: 2em; max-height: 6em;\"  /></a></div></div><div class=\"contnr c0 trm   \" ><div class=\"lbl c0 trm \"><span class=\"nd\">106599</span> <span class=\"txtn\">SIG7</span></div> <div><a target=\"_blank\" href=\"https://cdli.ucla.edu/tools/SignLists/protocuneiform/archsigns/SIG7.jpg\" title=\"to higher resolution lineart on CDLI\"><img src=\"cdli-imagery/lineart-sig7.jpg\" style=\"display: inline;max-width: 2em; max-height: 6em;\"  /></a></div></div><div class=\"contnr c0 trm   \" ><div class=\"lbl c0 trm \"><span class=\"nd\">106600</span> <span class=\"txtn\">URI3~a</span></div> <div><a target=\"_blank\" href=\"https://cdli.ucla.edu/tools/SignLists/protocuneiform/archsigns/URI3~a.jpg\" title=\"to higher resolution lineart on CDLI\"><img src=\"cdli-imagery/lineart-uri3-a.jpg\" style=\"display: inline;max-width: 2em; max-height: 6em;\"  /></a></div></div><div class=\"contnr c0 trm   \" ><div class=\"lbl c0 trm \"><span class=\"nd\">106601</span> <span class=\"txtn\">NUN~a</span></div> <div><a target=\"_blank\" href=\"https://cdli.ucla.edu/tools/SignLists/protocuneiform/archsigns/NUN~a.jpg\" title=\"to higher resolution lineart on CDLI\"><img src=\"cdli-imagery/lineart-nun-a.jpg\" style=\"display: inline;max-width: 2em; max-height: 6em;\"  /></a></div></div></div></div></div></div><div class=\"contnr c3    \" ><div class=\"lbl c3  \"><span class=\"nd\">column:190363</span> <span class=\"txtn\">2</span></div> <div class=\"children col  \"><div class=\"contnr c2    \" ><div class=\"lbl c2  \"><span class=\"nd\">line:254176</span> <span class=\"txtn\">1</span></div> <div class=\"children row  \"><div class=\"contnr c0 trm   \" ><div class=\"lbl c0 trm \"><span class=\"nd\">106602</span> <span class=\"txtn\">3(N04)</span></div> <div><a target=\"_blank\" href=\"https://cdli.ucla.edu/tools/SignLists/protocuneiform/archsigns/3(N04).jpg\" title=\"to higher resolution lineart on CDLI\"><img src=\"cdli-imagery/lineart-3(n04).jpg\" style=\"display: inline;max-width: 2em; max-height: 6em;\"  /></a></div></div><div class=\"contnr c1    \" ><div class=\"lbl c1  \"><span class=\"nd\">quad:143014</span> </div> <div><a target=\"_blank\" href=\"https://cdli.ucla.edu/tools/SignLists/protocuneiform/archsigns/|GISZ.TE|.jpg\" title=\"to higher resolution lineart on CDLI\"><img src=\"cdli-imagery/lineart-qgisz(d)teq.jpg\" style=\"display: inline;max-width: 4em; max-height: 4em;\"  /></a></div><div class=\"children row wrap \"><div class=\"contnr c0 trm   \" ><div class=\"lbl c0 trm \"><span class=\"nd\">106603</span> <span class=\"txtn\">GISZ</span></div> </div><div class=\"op\">.</div><div class=\"contnr c0 trm   \" ><div class=\"lbl c0 trm \"><span class=\"nd\">106604</span> <span class=\"txtn\">TE</span></div> </div></div></div><div class=\"contnr c0 trm   \" ><div class=\"lbl c0 trm \"><span class=\"nd\">106605</span> <span class=\"txtn\">GAR</span></div> <div><a target=\"_blank\" href=\"https://cdli.ucla.edu/tools/SignLists/protocuneiform/archsigns/GAR.jpg\" title=\"to higher resolution lineart on CDLI\"><img src=\"cdli-imagery/lineart-gar.jpg\" style=\"display: inline;max-width: 2em; max-height: 6em;\"  /></a></div></div><div class=\"contnr c1    \" ><div class=\"lbl c1  \"><span class=\"nd\">quad:143015</span> </div> <div><a target=\"_blank\" href=\"https://cdli.ucla.edu/tools/SignLists/protocuneiform/archsigns/|SZU2.((HI+1(N57))+(HI+1(N57)))|.jpg\" title=\"to higher resolution lineart on CDLI\"><img src=\"cdli-imagery/lineart-qszu2(d)((hi(p)1(n57))(p)(hi(p)1(n57)))q.jpg\" style=\"display: inline;max-width: 4em; max-height: 4em;\"  /></a></div><div class=\"children row wrap \"><div class=\"contnr c0 trm   \" ><div class=\"lbl c0 trm \"><span class=\"nd\">106606</span> <span class=\"txtn\">SZU2</span></div> </div><div class=\"op\">.</div><div class=\"contnr c1    \" ><div class=\"lbl c1  \"><span class=\"nd\">quad:143016</span> </div> <div class=\"children row wrap \"><div class=\"contnr c1    \" ><div class=\"lbl c1  \"><span class=\"nd\">quad:143017</span> </div> <div class=\"children row wrap \"><div class=\"contnr c0 trm   \" ><div class=\"lbl c0 trm \"><span class=\"nd\">106607</span> <span class=\"txtn\">HI</span></div> </div><div class=\"op\">+</div><div class=\"contnr c0 trm   \" ><div class=\"lbl c0 trm \"><span class=\"nd\">106608</span> <span class=\"txtn\">1(N57)</span></div> </div></div></div><div class=\"op\">+</div><div class=\"contnr c1    \" ><div class=\"lbl c1  \"><span class=\"nd\">quad:143018</span> </div> <div class=\"children row wrap \"><div class=\"contnr c0 trm   \" ><div class=\"lbl c0 trm \"><span class=\"nd\">106609</span> <span class=\"txtn\">HI</span></div> </div><div class=\"op\">+</div><div class=\"contnr c0 trm   \" ><div class=\"lbl c0 trm \"><span class=\"nd\">106610</span> <span class=\"txtn\">1(N57)</span></div> </div></div></div></div></div></div></div><div class=\"contnr c0 trm   \" ><div class=\"lbl c0 trm \"><span class=\"nd\">106611</span> <span class=\"txtn\">GI4~a</span></div> <div><a target=\"_blank\" href=\"https://cdli.ucla.edu/tools/SignLists/protocuneiform/archsigns/GI4~a.jpg\" title=\"to higher resolution lineart on CDLI\"><img src=\"cdli-imagery/lineart-gi4-a.jpg\" style=\"display: inline;max-width: 2em; max-height: 6em;\"  /></a></div></div></div></div><div class=\"contnr c2    \" ><div class=\"lbl c2  \"><span class=\"nd\">line:254177</span> <span class=\"txtn\">2</span></div> <div class=\"children row  \"><div class=\"contnr c0 trm   \" ><div class=\"lbl c0 trm \"><span class=\"nd\">106612</span> <span class=\"txtn\">GU7</span></div> <div><a target=\"_blank\" href=\"https://cdli.ucla.edu/tools/SignLists/protocuneiform/archsigns/GU7.jpg\" title=\"to higher resolution lineart on CDLI\"><img src=\"cdli-imagery/lineart-gu7.jpg\" style=\"display: inline;max-width: 2em; max-height: 6em;\"  /></a></div></div><div class=\"contnr c0 trm   \" ><div class=\"lbl c0 trm \"><span class=\"nd\">106613</span> <span class=\"txtn\">AZ</span></div> <div><a target=\"_blank\" href=\"https://cdli.ucla.edu/tools/SignLists/protocuneiform/archsigns/AZ.jpg\" title=\"to higher resolution lineart on CDLI\"><img src=\"cdli-imagery/lineart-az.jpg\" style=\"display: inline;max-width: 2em; max-height: 6em;\"  /></a></div></div><div class=\"contnr c0 trm   \" ><div class=\"lbl c0 trm \"><span class=\"nd\">106614</span> <span class=\"txtn\">SI4~f</span></div> <div><a target=\"_blank\" href=\"https://cdli.ucla.edu/tools/SignLists/protocuneiform/archsigns/SI4~f.jpg\" title=\"to higher resolution lineart on CDLI\"><img src=\"cdli-imagery/lineart-si4-f.jpg\" style=\"display: inline;max-width: 2em; max-height: 6em;\"  /></a></div></div></div></div></div></div></div></div><div class=\"contnr c2    \" ><div class=\"lbl c2  \"><span class=\"nd\">face:156933</span> <span class=\"txtn\">reverse</span></div> <div class=\"children row  \"><div class=\"contnr c3    \" ><div class=\"lbl c3  \"><span class=\"nd\">column:190364</span> <span class=\"txtn\">1</span></div> <div class=\"children col  \"><div class=\"contnr c2    \" ><div class=\"lbl c2  \"><span class=\"nd\">line:254178</span> <span class=\"txtn\">1</span></div> <div class=\"children row  \"><div class=\"contnr c0 trm   \" ><div class=\"lbl c0 trm \"><span class=\"nd\">106615</span> <span class=\"txtn\">3(N14)</span></div> <div><a target=\"_blank\" href=\"https://cdli.ucla.edu/tools/SignLists/protocuneiform/archsigns/3(N14).jpg\" title=\"to higher resolution lineart on CDLI\"><img src=\"cdli-imagery/lineart-3(n14).jpg\" style=\"display: inline;max-width: 2em; max-height: 6em;\"  /></a></div></div><div class=\"contnr c0 trm   \" ><div class=\"lbl c0 trm \"><span class=\"nd\">106616</span> <span class=\"txtn\">SZE~a</span></div> <div><a target=\"_blank\" href=\"https://cdli.ucla.edu/tools/SignLists/protocuneiform/archsigns/SZE~a.jpg\" title=\"to higher resolution lineart on CDLI\"><img src=\"cdli-imagery/lineart-sze-a.jpg\" style=\"display: inline;max-width: 2em; max-height: 6em;\"  /></a></div></div></div></div><div class=\"contnr c2    \" ><div class=\"lbl c2  \"><span class=\"nd\">line:254179</span> <span class=\"txtn\">2</span></div> <div class=\"children row  \"><div class=\"contnr c0 trm   \" ><div class=\"lbl c0 trm \"><span class=\"nd\">106617</span> <span class=\"txtn\">3(N19)</span></div> <div><a target=\"_blank\" href=\"https://cdli.ucla.edu/tools/SignLists/protocuneiform/archsigns/3(N19).jpg\" title=\"to higher resolution lineart on CDLI\"><img src=\"cdli-imagery/lineart-3(n19).jpg\" style=\"display: inline;max-width: 2em; max-height: 6em;\"  /></a></div></div><div class=\"contnr c0 trm   \" ><div class=\"lbl c0 trm \"><span class=\"nd\">106618</span> <span class=\"txtn\">5(N04)</span></div> <div><a target=\"_blank\" href=\"https://cdli.ucla.edu/tools/SignLists/protocuneiform/archsigns/5(N04).jpg\" title=\"to higher resolution lineart on CDLI\"><img src=\"cdli-imagery/lineart-5(n04).jpg\" style=\"display: inline;max-width: 2em; max-height: 6em;\"  /></a></div></div></div></div><div class=\"contnr c2    \" ><div class=\"lbl c2  \"><span class=\"nd\">line:254180</span> <span class=\"txtn\">3</span></div> <div class=\"children row  \"><div class=\"contnr c0 trm   \" ><div class=\"lbl c0 trm \"><span class=\"nd\">106619</span> <span class=\"txtn\">GU7</span></div> <div><a target=\"_blank\" href=\"https://cdli.ucla.edu/tools/SignLists/protocuneiform/archsigns/GU7.jpg\" title=\"to higher resolution lineart on CDLI\"><img src=\"cdli-imagery/lineart-gu7.jpg\" style=\"display: inline;max-width: 2em; max-height: 6em;\"  /></a></div></div></div></div></div></div><div class=\"contnr c3    \" ><div class=\"lbl c3  \"><span class=\"nd\">column:190365</span> <span class=\"txtn\">2</span></div> <div class=\"children col  \"><div class=\"contnr c2    \" ><div class=\"lbl c2  \"><span class=\"nd\">line:254181</span> <span class=\"txtn\">1</span></div> <div class=\"children row  \"><div class=\"contnr c0 trm   \" ><div class=\"lbl c0 trm \"><span class=\"nd\">106620</span> <span class=\"txtn\">AZ</span></div> <div><a target=\"_blank\" href=\"https://cdli.ucla.edu/tools/SignLists/protocuneiform/archsigns/AZ.jpg\" title=\"to higher resolution lineart on CDLI\"><img src=\"cdli-imagery/lineart-az.jpg\" style=\"display: inline;max-width: 2em; max-height: 6em;\"  /></a></div></div><div class=\"contnr c0 trm   \" ><div class=\"lbl c0 trm \"><span class=\"nd\">106621</span> <span class=\"txtn\">SI4~f</span></div> <div><a target=\"_blank\" href=\"https://cdli.ucla.edu/tools/SignLists/protocuneiform/archsigns/SI4~f.jpg\" title=\"to higher resolution lineart on CDLI\"><img src=\"cdli-imagery/lineart-si4-f.jpg\" style=\"display: inline;max-width: 2em; max-height: 6em;\"  /></a></div></div></div></div></div></div></div></div></div></div>"
      ],
      "text/plain": [
       "<IPython.core.display.HTML object>"
      ]
     },
     "metadata": {},
     "output_type": "display_data"
    }
   ],
   "source": [
    "A.pretty(example, withNodes=True)"
   ]
  },
  {
   "cell_type": "code",
   "execution_count": 6,
   "metadata": {},
   "outputs": [
    {
     "data": {
      "text/html": [
       "<span class=\"psg ltr\">P005381 </span><div class=\"contnr c4    \" ><div class=\"lbl c4  \"><span class=\"nd\">tablet@85111</span> <span class=\"txtu\">P005381</span></div> <div class='features'><span class=\"name \">MSVO 3, 70</span><span class=\"period \">uruk-iii</span></div><div class=\"children col  \"><div class=\"contnr c1 trm   \" ><div class=\"lbl c1 trm \"><span class=\"nd\">comment@85112</span> <span class=\"txtn\"><span class=\"plain outer   \" ><span class=\"plain \"></span><span class=\"plain    \" ><span class=\"plain \" ></span> </span></span></span></div> <div class='features'><span class=\"text \">atf: lang qpc</span></div></div><div class=\"contnr c2    \" ><div class=\"lbl c2  \"><span class=\"nd\">face@85114</span> <span class=\"txtn\">obverse</span></div> <div class=\"children row  \"><div class=\"contnr c3    \" ><div class=\"lbl c3  \"><span class=\"nd\">column@85115</span> <span class=\"txtn\">1</span></div> <div class=\"children col  \"><div class=\"contnr c2    \" ><div class=\"lbl c2  \"><span class=\"nd\">lineNone</span> <span class=\"txtn\">1</span></div> <div class=\"children row  \"><div class=\"contnr c2    \" ><div class=\"lbl c2  \"><span class=\"nd\">case@85116</span> <span class=\"txtn\">1a</span></div> <div class=\"children col False \"><div class=\"contnr c0 trm   \" ><div class=\"lbl c0 trm \"> <span class=\"txtn\">2(N14)</span></div> </div><div class=\"contnr c0 trm   \" ><div class=\"lbl c0 trm \"> <span class=\"txtn\">SZE~a</span></div> </div><div class=\"contnr c0 trm   \" ><div class=\"lbl c0 trm \"> <span class=\"txtn\">SAL</span></div> </div><div class=\"contnr c0 trm   \" ><div class=\"lbl c0 trm \"> <span class=\"txtn\">TUR3~a</span></div> </div><div class=\"contnr c0 trm   \" ><div class=\"lbl c0 trm \"> <span class=\"txtn\">NUN~a</span></div> </div></div></div><div class=\"contnr c2    \" ><div class=\"lbl c2  \"><span class=\"nd\">case@85117</span> <span class=\"txtn\">1b</span></div> <div class=\"children col False \"><div class=\"contnr c0 trm   \" ><div class=\"lbl c0 trm \"> <span class=\"txtn\">3(N19)</span></div> </div><div class=\"contnr c1    \" ><div class=\"lbl c1  \"><span class=\"nd\">quad</span> </div> <div class=\"children row wrap \"><div class=\"contnr c0 trm   \" ><div class=\"lbl c0 trm \"> <span class=\"txtn\">GISZ</span></div> </div><div class=\"op\">.</div><div class=\"contnr c0 trm   \" ><div class=\"lbl c0 trm \"> <span class=\"txtn\">TE</span></div> </div></div></div></div></div></div></div><div class=\"contnr c2    \" ><div class=\"lbl c2  \"><span class=\"nd\">line@85118</span> <span class=\"txtn\">2</span></div> <div class=\"children row  \"><div class=\"contnr c0 trm   \" ><div class=\"lbl c0 trm \"> <span class=\"txtn\">1(N14)</span></div> </div><div class=\"contnr c0 trm   \" ><div class=\"lbl c0 trm \"> <span class=\"txtn\">NAR</span></div> </div><div class=\"contnr c0 trm   \" ><div class=\"lbl c0 trm \"> <span class=\"txtn\">NUN~a</span></div> </div><div class=\"contnr c0 trm   \" ><div class=\"lbl c0 trm \"> <span class=\"txtn\">SIG7</span></div> </div></div></div><div class=\"contnr c2    \" ><div class=\"lbl c2  \"><span class=\"nd\">line@85119</span> <span class=\"txtn\">3</span></div> <div class=\"children row  \"><div class=\"contnr c0 trm   \" ><div class=\"lbl c0 trm \"> <span class=\"txtn\">2(N04)#</span></div> </div><div class=\"contnr c0 trm   \" ><div class=\"lbl c0 trm \"> <span class=\"txtn\">PIRIG~b1</span></div> </div><div class=\"contnr c0 trm   \" ><div class=\"lbl c0 trm \"> <span class=\"txtn\">SIG7</span></div> </div><div class=\"contnr c0 trm   \" ><div class=\"lbl c0 trm \"> <span class=\"txtn\">URI3~a</span></div> </div><div class=\"contnr c0 trm   \" ><div class=\"lbl c0 trm \"> <span class=\"txtn\">NUN~a</span></div> </div></div></div></div></div><div class=\"contnr c3    \" ><div class=\"lbl c3  \"><span class=\"nd\">column@85120</span> <span class=\"txtn\">2</span></div> <div class=\"children col  \"><div class=\"contnr c2    \" ><div class=\"lbl c2  \"><span class=\"nd\">line@85121</span> <span class=\"txtn\">1</span></div> <div class=\"children row  \"><div class=\"contnr c0 trm   \" ><div class=\"lbl c0 trm \"> <span class=\"txtn\">3(N04)</span></div> </div><div class=\"contnr c1    \" ><div class=\"lbl c1  \"><span class=\"nd\">quad</span> </div> <div class=\"children row wrap \"><div class=\"contnr c0 trm   \" ><div class=\"lbl c0 trm \"> <span class=\"txtn\">GISZ</span></div> </div><div class=\"op\">.</div><div class=\"contnr c0 trm   \" ><div class=\"lbl c0 trm \"> <span class=\"txtn\">TE</span></div> </div></div></div><div class=\"contnr c0 trm   \" ><div class=\"lbl c0 trm \"> <span class=\"txtn\">GAR</span></div> </div><div class=\"contnr c1    \" ><div class=\"lbl c1  \"><span class=\"nd\">quad</span> </div> <div class=\"children row wrap \"><div class=\"contnr c0 trm   \" ><div class=\"lbl c0 trm \"> <span class=\"txtn\">SZU2</span></div> </div><div class=\"op\">.</div><div class=\"contnr c1    \" ><div class=\"lbl c1  \"><span class=\"nd\">quad</span> </div> <div class=\"children row wrap \"><div class=\"contnr c1    \" ><div class=\"lbl c1  \"><span class=\"nd\">quad</span> </div> <div class=\"children row wrap \"><div class=\"contnr c0 trm   \" ><div class=\"lbl c0 trm \"> <span class=\"txtn\">HI</span></div> </div><div class=\"op\">+</div><div class=\"contnr c0 trm   \" ><div class=\"lbl c0 trm \"> <span class=\"txtn\">1(N57)</span></div> </div></div></div><div class=\"op\">+</div><div class=\"contnr c1    \" ><div class=\"lbl c1  \"><span class=\"nd\">quad</span> </div> <div class=\"children row wrap \"><div class=\"contnr c0 trm   \" ><div class=\"lbl c0 trm \"> <span class=\"txtn\">HI</span></div> </div><div class=\"op\">+</div><div class=\"contnr c0 trm   \" ><div class=\"lbl c0 trm \"> <span class=\"txtn\">1(N57)</span></div> </div></div></div></div></div></div></div><div class=\"contnr c0 trm   \" ><div class=\"lbl c0 trm \"> <span class=\"txtn\">GI4~a</span></div> </div></div></div><div class=\"contnr c2    \" ><div class=\"lbl c2  \"><span class=\"nd\">line@85122</span> <span class=\"txtn\">2</span></div> <div class=\"children row  \"><div class=\"contnr c0 trm   \" ><div class=\"lbl c0 trm \"> <span class=\"txtn\">GU7</span></div> </div><div class=\"contnr c0 trm   \" ><div class=\"lbl c0 trm \"> <span class=\"txtn\">AZ</span></div> </div><div class=\"contnr c0 trm   \" ><div class=\"lbl c0 trm \"> <span class=\"txtn\">SI4~f</span></div> </div></div></div></div></div></div></div><div class=\"contnr c2    \" ><div class=\"lbl c2  \"><span class=\"nd\">face@85123</span> <span class=\"txtn\">reverse</span></div> <div class=\"children row  \"><div class=\"contnr c3    \" ><div class=\"lbl c3  \"><span class=\"nd\">column@85124</span> <span class=\"txtn\">1</span></div> <div class=\"children col  \"><div class=\"contnr c2    \" ><div class=\"lbl c2  \"><span class=\"nd\">line@85125</span> <span class=\"txtn\">1</span></div> <div class=\"children row  \"><div class=\"contnr c0 trm   \" ><div class=\"lbl c0 trm \"> <span class=\"txtn\">3(N14)</span></div> </div><div class=\"contnr c0 trm   \" ><div class=\"lbl c0 trm \"> <span class=\"txtn\">SZE~a</span></div> </div></div></div><div class=\"contnr c2    \" ><div class=\"lbl c2  \"><span class=\"nd\">line@85126</span> <span class=\"txtn\">2</span></div> <div class=\"children row  \"><div class=\"contnr c0 trm   \" ><div class=\"lbl c0 trm \"> <span class=\"txtn\">3(N19)</span></div> </div><div class=\"contnr c0 trm   \" ><div class=\"lbl c0 trm \"> <span class=\"txtn\">5(N04)</span></div> </div></div></div><div class=\"contnr c2    \" ><div class=\"lbl c2  \"><span class=\"nd\">line@85127</span> <span class=\"txtn\">3</span></div> <div class=\"children row  \"><div class=\"contnr c0 trm   \" ><div class=\"lbl c0 trm \"> <span class=\"txtn\">GU7</span></div> </div></div></div></div></div><div class=\"contnr c3    \" ><div class=\"lbl c3  \"><span class=\"nd\">column@85128</span> <span class=\"txtn\">2</span></div> <div class=\"children col  \"><div class=\"contnr c2    \" ><div class=\"lbl c2  \"><span class=\"nd\">line@85129</span> <span class=\"txtn\">1</span></div> <div class=\"children row  \"><div class=\"contnr c0 trm   \" ><div class=\"lbl c0 trm \"> <span class=\"txtn\">AZ</span></div> </div><div class=\"contnr c0 trm   \" ><div class=\"lbl c0 trm \"> <span class=\"txtn\">SI4~f</span></div> </div></div></div></div></div></div></div></div></div>"
      ],
      "text/plain": [
       "<IPython.core.display.HTML object>"
      ]
     },
     "metadata": {},
     "output_type": "display_data"
    }
   ],
   "source": [
    "A.pretty(example, withNodes=False, showGraphics=False, lineNumbers=True)"
   ]
  },
  {
   "cell_type": "code",
   "execution_count": 7,
   "metadata": {},
   "outputs": [],
   "source": [
    "c = 167736"
   ]
  },
  {
   "cell_type": "code",
   "execution_count": 9,
   "metadata": {},
   "outputs": [
    {
     "data": {
      "text/html": [
       "<span class=\"psg ltr\">P005381 obverse:1:1 </span><div class=\"contnr c2    \" ><div class=\"lbl c2  \"><span class=\"nd\">case</span> <span class=\"txtn\">1a</span></div> <div class=\"children col False \"><div class=\"contnr c0 trm   \" ><div class=\"lbl c0 trm \"> <span class=\"txtn\">2(N14)</span></div> <div><a target=\"_blank\" href=\"https://cdli.ucla.edu/tools/SignLists/protocuneiform/archsigns/2(N14).jpg\" title=\"to higher resolution lineart on CDLI\"><img src=\"cdli-imagery/lineart-2(n14).jpg\" style=\"display: inline;max-width: 2em; max-height: 6em;\"  /></a></div></div><div class=\"contnr c0 trm   \" ><div class=\"lbl c0 trm \"> <span class=\"txtn\">SZE~a</span></div> <div><a target=\"_blank\" href=\"https://cdli.ucla.edu/tools/SignLists/protocuneiform/archsigns/SZE~a.jpg\" title=\"to higher resolution lineart on CDLI\"><img src=\"cdli-imagery/lineart-sze-a.jpg\" style=\"display: inline;max-width: 2em; max-height: 6em;\"  /></a></div></div><div class=\"contnr c0 trm   \" ><div class=\"lbl c0 trm \"> <span class=\"txtn\">SAL</span></div> <div><a target=\"_blank\" href=\"https://cdli.ucla.edu/tools/SignLists/protocuneiform/archsigns/SAL.jpg\" title=\"to higher resolution lineart on CDLI\"><img src=\"cdli-imagery/lineart-sal.jpg\" style=\"display: inline;max-width: 2em; max-height: 6em;\"  /></a></div></div><div class=\"contnr c0 trm   \" ><div class=\"lbl c0 trm \"> <span class=\"txtn\">TUR3~a</span></div> <div><a target=\"_blank\" href=\"https://cdli.ucla.edu/tools/SignLists/protocuneiform/archsigns/TUR3~a.jpg\" title=\"to higher resolution lineart on CDLI\"><img src=\"cdli-imagery/lineart-tur3-a.jpg\" style=\"display: inline;max-width: 2em; max-height: 6em;\"  /></a></div></div><div class=\"contnr c0 trm   \" ><div class=\"lbl c0 trm \"> <span class=\"txtn\">NUN~a</span></div> <div><a target=\"_blank\" href=\"https://cdli.ucla.edu/tools/SignLists/protocuneiform/archsigns/NUN~a.jpg\" title=\"to higher resolution lineart on CDLI\"><img src=\"cdli-imagery/lineart-nun-a.jpg\" style=\"display: inline;max-width: 2em; max-height: 6em;\"  /></a></div></div></div></div>"
      ],
      "text/plain": [
       "<IPython.core.display.HTML object>"
      ]
     },
     "metadata": {},
     "output_type": "display_data"
    }
   ],
   "source": [
    "A.pretty(c)"
   ]
  },
  {
   "cell_type": "code",
   "execution_count": 10,
   "metadata": {},
   "outputs": [
    {
     "data": {
      "text/html": [
       "<div style=\"display: flex;flex-flow: row nowrap;justify-content: flex-start;align-items: center;align-content: flex-start;\"><div style=\"padding: 0.5rem;\"><div style=\"display: flex;flex-flow: column nowrap;justify-content: space-between;align-items: center;align-content: space-between;\"><div><a target=\"_blank\" href=\"https://cdli.ucla.edu/dl/photo/P005381_d.jpg\" title=\"to higher resolution photo on CDLI\"><img src=\"cdli-imagery/photo-p005381.jpg\" style=\"display: inline;\"  /></a></div><div><a target=\"_blank\" href=\"https://cdli.ucla.edu/search/search_results.php?SearchMode=Text&amp;ObjectID=P005381\" title=\"to CDLI main page for this item\">P005381</a></div></div></div></div>"
      ],
      "text/plain": [
       "<IPython.core.display.HTML object>"
      ]
     },
     "metadata": {},
     "output_type": "display_data"
    }
   ],
   "source": [
    "A.photo(example)"
   ]
  },
  {
   "cell_type": "code",
   "execution_count": 11,
   "metadata": {},
   "outputs": [
    {
     "data": {
      "text/markdown": [
       "### tablet 143889\n"
      ],
      "text/plain": [
       "<IPython.core.display.Markdown object>"
      ]
     },
     "metadata": {},
     "output_type": "display_data"
    },
    {
     "data": {
      "text/html": [
       "<span class=\"psg ltr\">P006427 </span><span class=\"plain outer   \" ><span class=\"plain \">P006427</span></span>"
      ],
      "text/plain": [
       "<IPython.core.display.HTML object>"
      ]
     },
     "metadata": {},
     "output_type": "display_data"
    },
    {
     "data": {
      "text/html": [
       "<span class=\"psg ltr\">P006427 </span><div class=\"contnr c4    \" ><div class=\"lbl c4  \"><span class=\"nd\">tablet</span> <span class=\"txtu\">P006427</span></div> <div class='features'><span class=\"name \">Anonymous 006427</span><span class=\"period \">uruk-iii</span></div><div class=\"children col  \"><div class=\"contnr c1 trm   \" ><div class=\"lbl c1 trm \"><span class=\"nd\">comment</span> <span class=\"txtn\"><span class=\"plain outer   \" ><span class=\"plain \"></span><span class=\"plain    \" ><span class=\"plain \" ></span>  </span></span></span></div> <div class='features'><span class=\"text \">atf: lang qpc</span></div></div><div class=\"contnr c2    \" ><div class=\"lbl c2  \"><span class=\"nd\">face</span> <span class=\"txtn\">obverse</span></div> <div class=\"children row  \"><div class=\"contnr c3    \" ><div class=\"lbl c3  \"><span class=\"nd\">column</span> <span class=\"txtn\">1</span></div> <div class=\"children col  \"><div class=\"contnr c2    \" ><div class=\"lbl c2  \"><span class=\"nd\">line</span> <span class=\"txtn\">1</span></div> <div class=\"children row  \"><div class=\"contnr c1 cluster trm   \" ><div class=\"lbl c1 clusterb trm \"><span class=\"nd\">cluster</span> <span class=\"txtn\">?</span></div> </div><div class=\"children row wrap \"><div class=\"contnr c0 trm   \" ><div class=\"lbl c0 trm \"> <span class=\"txtn\">...</span></div> </div></div><div class=\"contnr c1 cluster {}   \" ><div class=\"lbl c1 clustere trm \"><span class=\"nd\">cluster</span> <span class=\"txtn\">?</span></div> </div><div class=\"contnr c0 trm   \" ><div class=\"lbl c0 trm \"> <span class=\"txtn\">X</span></div> </div><div class=\"contnr c0 trm   \" ><div class=\"lbl c0 trm \"> <span class=\"txtn\">X</span></div> </div></div></div></div></div><div class=\"contnr c3    \" ><div class=\"lbl c3  \"><span class=\"nd\">column</span> <span class=\"txtn\">2</span></div> <div class=\"children col  \"><div class=\"contnr c2    \" ><div class=\"lbl c2  \"><span class=\"nd\">line</span> <span class=\"txtn\">1</span></div> <div class=\"children row  \"><div class=\"contnr c0 trm   \" ><div class=\"lbl c0 trm \"> <span class=\"txtn\">3(N14)</span></div> <div><a target=\"_blank\" href=\"https://cdli.ucla.edu/tools/SignLists/protocuneiform/archsigns/3(N14).jpg\" title=\"to higher resolution lineart on CDLI\"><img src=\"cdli-imagery/lineart-3(n14).jpg\" style=\"display: inline;max-width: 2em; max-height: 6em;\"  /></a></div></div><div class=\"contnr c0 trm   \" ><div class=\"lbl c0 trm \"> <span class=\"txtn\">X</span></div> </div><div class=\"contnr c0 trm   \" ><div class=\"lbl c0 trm \"> <span class=\"txtn\">SANGA~a?</span></div> <div><a target=\"_blank\" href=\"https://cdli.ucla.edu/tools/SignLists/protocuneiform/archsigns/SANGA~a.jpg\" title=\"to higher resolution lineart on CDLI\"><img src=\"cdli-imagery/lineart-sanga-a.jpg\" style=\"display: inline;max-width: 2em; max-height: 6em;\"  /></a></div></div><div class=\"contnr c1 cluster trm   \" ><div class=\"lbl c1 clusterb trm \"><span class=\"nd\">cluster</span> <span class=\"txtn\">?</span></div> </div><div class=\"children row wrap \"><div class=\"contnr c0 trm   \" ><div class=\"lbl c0 trm \"> <span class=\"txtn\">...</span></div> </div></div><div class=\"contnr c1 cluster {}   \" ><div class=\"lbl c1 clustere trm \"><span class=\"nd\">cluster</span> <span class=\"txtn\">?</span></div> </div></div></div></div></div></div></div></div></div>"
      ],
      "text/plain": [
       "<IPython.core.display.HTML object>"
      ]
     },
     "metadata": {},
     "output_type": "display_data"
    },
    {
     "data": {
      "text/markdown": [
       "### face 150253\n"
      ],
      "text/plain": [
       "<IPython.core.display.Markdown object>"
      ]
     },
     "metadata": {},
     "output_type": "display_data"
    },
    {
     "data": {
      "text/html": [
       "<span class=\"psg ltr\">P006427 obverse:1:1 </span><span class=\"plain outer   \" ><span class=\"plain \">obverse</span></span>"
      ],
      "text/plain": [
       "<IPython.core.display.HTML object>"
      ]
     },
     "metadata": {},
     "output_type": "display_data"
    },
    {
     "data": {
      "text/html": [
       "<span class=\"psg ltr\">P006427 obverse:1:1 </span><div class=\"contnr c2    \" ><div class=\"lbl c2  \"><span class=\"nd\">face</span> <span class=\"txtn\">obverse</span></div> <div class=\"children row  \"><div class=\"contnr c3    \" ><div class=\"lbl c3  \"><span class=\"nd\">column</span> <span class=\"txtn\">1</span></div> <div class=\"children col  \"><div class=\"contnr c2    \" ><div class=\"lbl c2  \"><span class=\"nd\">line</span> <span class=\"txtn\">1</span></div> <div class=\"children row  \"><div class=\"contnr c1 cluster trm   \" ><div class=\"lbl c1 clusterb trm \"><span class=\"nd\">cluster</span> <span class=\"txtn\">?</span></div> </div><div class=\"children row wrap \"><div class=\"contnr c0 trm   \" ><div class=\"lbl c0 trm \"> <span class=\"txtn\">...</span></div> </div></div><div class=\"contnr c1 cluster {}   \" ><div class=\"lbl c1 clustere trm \"><span class=\"nd\">cluster</span> <span class=\"txtn\">?</span></div> </div><div class=\"contnr c0 trm   \" ><div class=\"lbl c0 trm \"> <span class=\"txtn\">X</span></div> </div><div class=\"contnr c0 trm   \" ><div class=\"lbl c0 trm \"> <span class=\"txtn\">X</span></div> </div></div></div></div></div><div class=\"contnr c3    \" ><div class=\"lbl c3  \"><span class=\"nd\">column</span> <span class=\"txtn\">2</span></div> <div class=\"children col  \"><div class=\"contnr c2    \" ><div class=\"lbl c2  \"><span class=\"nd\">line</span> <span class=\"txtn\">1</span></div> <div class=\"children row  \"><div class=\"contnr c0 trm   \" ><div class=\"lbl c0 trm \"> <span class=\"txtn\">3(N14)</span></div> <div><a target=\"_blank\" href=\"https://cdli.ucla.edu/tools/SignLists/protocuneiform/archsigns/3(N14).jpg\" title=\"to higher resolution lineart on CDLI\"><img src=\"cdli-imagery/lineart-3(n14).jpg\" style=\"display: inline;max-width: 2em; max-height: 6em;\"  /></a></div></div><div class=\"contnr c0 trm   \" ><div class=\"lbl c0 trm \"> <span class=\"txtn\">X</span></div> </div><div class=\"contnr c0 trm   \" ><div class=\"lbl c0 trm \"> <span class=\"txtn\">SANGA~a?</span></div> <div><a target=\"_blank\" href=\"https://cdli.ucla.edu/tools/SignLists/protocuneiform/archsigns/SANGA~a.jpg\" title=\"to higher resolution lineart on CDLI\"><img src=\"cdli-imagery/lineart-sanga-a.jpg\" style=\"display: inline;max-width: 2em; max-height: 6em;\"  /></a></div></div><div class=\"contnr c1 cluster trm   \" ><div class=\"lbl c1 clusterb trm \"><span class=\"nd\">cluster</span> <span class=\"txtn\">?</span></div> </div><div class=\"children row wrap \"><div class=\"contnr c0 trm   \" ><div class=\"lbl c0 trm \"> <span class=\"txtn\">...</span></div> </div></div><div class=\"contnr c1 cluster {}   \" ><div class=\"lbl c1 clustere trm \"><span class=\"nd\">cluster</span> <span class=\"txtn\">?</span></div> </div></div></div></div></div></div></div>"
      ],
      "text/plain": [
       "<IPython.core.display.HTML object>"
      ]
     },
     "metadata": {},
     "output_type": "display_data"
    },
    {
     "data": {
      "text/markdown": [
       "### column 180450\n"
      ],
      "text/plain": [
       "<IPython.core.display.Markdown object>"
      ]
     },
     "metadata": {},
     "output_type": "display_data"
    },
    {
     "data": {
      "text/html": [
       "<span class=\"psg ltr\">P006427 obverse:1 </span><span class=\"plain outer   \" ><span class=\"plain \">P006427 obverse:1</span></span>"
      ],
      "text/plain": [
       "<IPython.core.display.HTML object>"
      ]
     },
     "metadata": {},
     "output_type": "display_data"
    },
    {
     "data": {
      "text/html": [
       "<span class=\"psg ltr\">P006427 obverse:1 </span><div class=\"contnr c3    \" ><div class=\"lbl c3  \"><span class=\"nd\">column</span> <span class=\"txtn\">1</span></div> <div class=\"children col  \"><div class=\"contnr c2    \" ><div class=\"lbl c2  \"><span class=\"nd\">line</span> <span class=\"txtn\">1</span></div> <div class=\"children row  \"><div class=\"contnr c1 cluster trm   \" ><div class=\"lbl c1 clusterb trm \"><span class=\"nd\">cluster</span> <span class=\"txtn\">?</span></div> </div><div class=\"children row wrap \"><div class=\"contnr c0 trm   \" ><div class=\"lbl c0 trm \"> <span class=\"txtn\">...</span></div> </div></div><div class=\"contnr c1 cluster {}   \" ><div class=\"lbl c1 clustere trm \"><span class=\"nd\">cluster</span> <span class=\"txtn\">?</span></div> </div><div class=\"contnr c0 trm   \" ><div class=\"lbl c0 trm \"> <span class=\"txtn\">X</span></div> </div><div class=\"contnr c0 trm   \" ><div class=\"lbl c0 trm \"> <span class=\"txtn\">X</span></div> </div></div></div></div></div>"
      ],
      "text/plain": [
       "<IPython.core.display.HTML object>"
      ]
     },
     "metadata": {},
     "output_type": "display_data"
    },
    {
     "data": {
      "text/markdown": [
       "### line 227226\n"
      ],
      "text/plain": [
       "<IPython.core.display.Markdown object>"
      ]
     },
     "metadata": {},
     "output_type": "display_data"
    },
    {
     "data": {
      "text/html": [
       "<span class=\"psg ltr\">P006427 obverse:1:1 </span><span class=\"plain outer   \" ><span class=\"plain \">P006427 obverse:1:1</span><span class=\"plain    \" ><span class=\"plain \" >[<span class=\"plain \" >...</span>]</span></span><span class=\"plain    \" ><span class=\"plain \" >X</span>  </span><span class=\"plain    \" ><span class=\"plain \" >X</span>  </span></span>"
      ],
      "text/plain": [
       "<IPython.core.display.HTML object>"
      ]
     },
     "metadata": {},
     "output_type": "display_data"
    },
    {
     "data": {
      "text/html": [
       "<span class=\"psg ltr\">P006427 obverse:1:1 </span><div class=\"contnr c2    \" ><div class=\"lbl c2  \"><span class=\"nd\">line</span> <span class=\"txtn\">1</span></div> <div class=\"children row  \"><div class=\"contnr c1 cluster trm   \" ><div class=\"lbl c1 clusterb trm \"><span class=\"nd\">cluster</span> <span class=\"txtn\">?</span></div> </div><div class=\"children row wrap \"><div class=\"contnr c0 trm   \" ><div class=\"lbl c0 trm \"> <span class=\"txtn\">...</span></div> </div></div><div class=\"contnr c1 cluster {}   \" ><div class=\"lbl c1 clustere trm \"><span class=\"nd\">cluster</span> <span class=\"txtn\">?</span></div> </div><div class=\"contnr c0 trm   \" ><div class=\"lbl c0 trm \"> <span class=\"txtn\">X</span></div> </div><div class=\"contnr c0 trm   \" ><div class=\"lbl c0 trm \"> <span class=\"txtn\">X</span></div> </div></div></div>"
      ],
      "text/plain": [
       "<IPython.core.display.HTML object>"
      ]
     },
     "metadata": {},
     "output_type": "display_data"
    },
    {
     "data": {
      "text/markdown": [
       "### case 159709\n"
      ],
      "text/plain": [
       "<IPython.core.display.Markdown object>"
      ]
     },
     "metadata": {},
     "output_type": "display_data"
    },
    {
     "data": {
      "text/html": [
       "<span class=\"psg ltr\">P448702 obverse:1:2 </span><span class=\"plain outer   \" ><span class=\"plain \">2a'</span><span class=\"plain    \" ><span class=\"plain \" >[<span class=\"plain \" >N</span>]</span></span><span class=\"plain    \" ><span class=\"plain \" >2(N14)</span>  <a target=\"_blank\" href=\"https://cdli.ucla.edu/tools/SignLists/protocuneiform/archsigns/2(N14).jpg\" title=\"to higher resolution lineart on CDLI\"><img src=\"cdli-imagery/lineart-2(n14).jpg\" style=\"display: inline;max-width: 2em; max-height: 4em;\"  /></a></span><span class=\"plain    \" ><span class=\"plain \" >3(N01)</span>  <a target=\"_blank\" href=\"https://cdli.ucla.edu/tools/SignLists/protocuneiform/archsigns/3(N01).jpg\" title=\"to higher resolution lineart on CDLI\"><img src=\"cdli-imagery/lineart-3(n01).jpg\" style=\"display: inline;max-width: 2em; max-height: 4em;\"  /></a></span><span class=\"plain    \" ><span class=\"plain \" >KASZ~b</span>  <a target=\"_blank\" href=\"https://cdli.ucla.edu/tools/SignLists/protocuneiform/archsigns/KASZ~b.jpg\" title=\"to higher resolution lineart on CDLI\"><img src=\"cdli-imagery/lineart-kasz-b.jpg\" style=\"display: inline;max-width: 2em; max-height: 4em;\"  /></a></span><span class=\"plain    \" ><span class=\"plain \" >NUN~a</span>  <a target=\"_blank\" href=\"https://cdli.ucla.edu/tools/SignLists/protocuneiform/archsigns/NUN~a.jpg\" title=\"to higher resolution lineart on CDLI\"><img src=\"cdli-imagery/lineart-nun-a.jpg\" style=\"display: inline;max-width: 2em; max-height: 4em;\"  /></a></span></span>"
      ],
      "text/plain": [
       "<IPython.core.display.HTML object>"
      ]
     },
     "metadata": {},
     "output_type": "display_data"
    },
    {
     "data": {
      "text/html": [
       "<span class=\"psg ltr\">P448702 obverse:1:2 </span><div class=\"contnr c2    \" ><div class=\"lbl c2  \"><span class=\"nd\">case</span> <span class=\"txtn\">2a'</span></div> <div class=\"children col False \"><div class=\"contnr c1 cluster trm   \" ><div class=\"lbl c1 clusterb trm \"><span class=\"nd\">cluster</span> <span class=\"txtn\">?</span></div> </div><div class=\"children row wrap \"><div class=\"contnr c0 trm   \" ><div class=\"lbl c0 trm \"> <span class=\"txtn\">N</span></div> </div></div><div class=\"contnr c1 cluster {}   \" ><div class=\"lbl c1 clustere trm \"><span class=\"nd\">cluster</span> <span class=\"txtn\">?</span></div> </div><div class=\"contnr c0 trm   \" ><div class=\"lbl c0 trm \"> <span class=\"txtn\">2(N14)</span></div> <div><a target=\"_blank\" href=\"https://cdli.ucla.edu/tools/SignLists/protocuneiform/archsigns/2(N14).jpg\" title=\"to higher resolution lineart on CDLI\"><img src=\"cdli-imagery/lineart-2(n14).jpg\" style=\"display: inline;max-width: 2em; max-height: 6em;\"  /></a></div></div><div class=\"contnr c0 trm   \" ><div class=\"lbl c0 trm \"> <span class=\"txtn\">3(N01)</span></div> <div><a target=\"_blank\" href=\"https://cdli.ucla.edu/tools/SignLists/protocuneiform/archsigns/3(N01).jpg\" title=\"to higher resolution lineart on CDLI\"><img src=\"cdli-imagery/lineart-3(n01).jpg\" style=\"display: inline;max-width: 2em; max-height: 6em;\"  /></a></div></div><div class=\"contnr c0 trm   \" ><div class=\"lbl c0 trm \"> <span class=\"txtn\">KASZ~b</span></div> <div><a target=\"_blank\" href=\"https://cdli.ucla.edu/tools/SignLists/protocuneiform/archsigns/KASZ~b.jpg\" title=\"to higher resolution lineart on CDLI\"><img src=\"cdli-imagery/lineart-kasz-b.jpg\" style=\"display: inline;max-width: 2em; max-height: 6em;\"  /></a></div></div><div class=\"contnr c0 trm   \" ><div class=\"lbl c0 trm \"> <span class=\"txtn\">NUN~a</span></div> <div><a target=\"_blank\" href=\"https://cdli.ucla.edu/tools/SignLists/protocuneiform/archsigns/NUN~a.jpg\" title=\"to higher resolution lineart on CDLI\"><img src=\"cdli-imagery/lineart-nun-a.jpg\" style=\"display: inline;max-width: 2em; max-height: 6em;\"  /></a></div></div></div></div>"
      ],
      "text/plain": [
       "<IPython.core.display.HTML object>"
      ]
     },
     "metadata": {},
     "output_type": "display_data"
    },
    {
     "data": {
      "text/markdown": [
       "### cluster 194473\n"
      ],
      "text/plain": [
       "<IPython.core.display.Markdown object>"
      ]
     },
     "metadata": {},
     "output_type": "display_data"
    },
    {
     "data": {
      "text/html": [
       "<span class=\"psg ltr\">P006427 obverse:1:1 </span><span class=\"plain outer   \" ><span class=\"plain \" >[<span class=\"plain \" >...</span>]</span></span>"
      ],
      "text/plain": [
       "<IPython.core.display.HTML object>"
      ]
     },
     "metadata": {},
     "output_type": "display_data"
    },
    {
     "data": {
      "text/html": [
       "<span class=\"psg ltr\">P006427 obverse:1:1 </span><div class=\"contnr c1 cluster trm   \" ><div class=\"lbl c1 clusterb trm \"><span class=\"nd\">cluster</span> <span class=\"txtn\">?</span></div> </div><div class=\"children row wrap \"><div class=\"contnr c0 trm   \" ><div class=\"lbl c0 trm \"> <span class=\"txtn\">...</span></div> </div></div><div class=\"contnr c1 cluster {}   \" ><div class=\"lbl c1 clustere trm \"><span class=\"nd\">cluster</span> <span class=\"txtn\">?</span></div> </div>"
      ],
      "text/plain": [
       "<IPython.core.display.HTML object>"
      ]
     },
     "metadata": {},
     "output_type": "display_data"
    },
    {
     "data": {
      "text/markdown": [
       "### quad 140095\n"
      ],
      "text/plain": [
       "<IPython.core.display.Markdown object>"
      ]
     },
     "metadata": {},
     "output_type": "display_data"
    },
    {
     "data": {
      "text/html": [
       "<span class=\"psg ltr\">P006428 obverse:3:5 </span><span class=\"plain outer   \" ><span class=\"plain \" >|<span class=\"plain \" >DUG~b</span>x<span class=\"plain \" >1(N57)</span>|</span>  <a target=\"_blank\" href=\"https://cdli.ucla.edu/tools/SignLists/protocuneiform/archsigns/|DUG~bx1(N57)|.jpg\" title=\"to higher resolution lineart on CDLI\"><img src=\"cdli-imagery/lineart-qdug-bx1(n57)q.jpg\" style=\"display: inline;max-width: 4em; max-height: 6em;\"  /></a></span>"
      ],
      "text/plain": [
       "<IPython.core.display.HTML object>"
      ]
     },
     "metadata": {},
     "output_type": "display_data"
    },
    {
     "data": {
      "text/html": [
       "<span class=\"psg ltr\">P006428 obverse:3:5 </span><div class=\"contnr c1    \" ><div class=\"lbl c1  \"><span class=\"nd\">quad</span> </div> <div><a target=\"_blank\" href=\"https://cdli.ucla.edu/tools/SignLists/protocuneiform/archsigns/|DUG~bx1(N57)|.jpg\" title=\"to higher resolution lineart on CDLI\"><img src=\"cdli-imagery/lineart-qdug-bx1(n57)q.jpg\" style=\"display: inline;max-width: 4em; max-height: 4em;\"  /></a></div><div class=\"children row wrap \"><div class=\"contnr c0 trm   \" ><div class=\"lbl c0 trm \"> <span class=\"txtn\">DUG~b</span></div> </div><div class=\"op\">x</div><div class=\"contnr c0 trm   \" ><div class=\"lbl c0 trm \"> <span class=\"txtn\">1(N57)</span></div> </div></div></div>"
      ],
      "text/plain": [
       "<IPython.core.display.HTML object>"
      ]
     },
     "metadata": {},
     "output_type": "display_data"
    },
    {
     "data": {
      "text/markdown": [
       "### comment 169360\n"
      ],
      "text/plain": [
       "<IPython.core.display.Markdown object>"
      ]
     },
     "metadata": {},
     "output_type": "display_data"
    },
    {
     "data": {
      "text/html": [
       "<span class=\"psg ltr\">P006427 </span><span class=\"plain outer   \" ><span class=\"plain \"></span><span class=\"plain    \" ><span class=\"plain \" ></span>  </span></span>"
      ],
      "text/plain": [
       "<IPython.core.display.HTML object>"
      ]
     },
     "metadata": {},
     "output_type": "display_data"
    },
    {
     "data": {
      "text/html": [
       "<span class=\"psg ltr\">P006427 </span><div class=\"contnr c1 trm   \" ><div class=\"lbl c1 trm \"><span class=\"nd\">comment</span> <span class=\"txtn\"><span class=\"plain outer   \" ><span class=\"plain \"></span><span class=\"plain    \" ><span class=\"plain \" ></span>  </span></span></span></div> <div class='features'><span class=\"text \">atf: lang qpc</span></div></div>"
      ],
      "text/plain": [
       "<IPython.core.display.HTML object>"
      ]
     },
     "metadata": {},
     "output_type": "display_data"
    },
    {
     "data": {
      "text/markdown": [
       "### sign 1\n"
      ],
      "text/plain": [
       "<IPython.core.display.Markdown object>"
      ]
     },
     "metadata": {},
     "output_type": "display_data"
    },
    {
     "data": {
      "text/html": [
       "<span class=\"psg ltr\">P006427 </span><span class=\"plain outer   \" ><span class=\"plain \" ></span>  </span>"
      ],
      "text/plain": [
       "<IPython.core.display.HTML object>"
      ]
     },
     "metadata": {},
     "output_type": "display_data"
    },
    {
     "data": {
      "text/html": [
       "<span class=\"psg ltr\">P006427 </span><div class=\"contnr c0 trm   \" > </div>"
      ],
      "text/plain": [
       "<IPython.core.display.HTML object>"
      ]
     },
     "metadata": {},
     "output_type": "display_data"
    }
   ],
   "source": [
    "typeShow(A)"
   ]
  },
  {
   "cell_type": "code",
   "execution_count": 12,
   "metadata": {},
   "outputs": [
    {
     "data": {
      "text/markdown": [
       "# uruk app context\n",
       "\n"
      ],
      "text/plain": [
       "<IPython.core.display.Markdown object>"
      ]
     },
     "metadata": {},
     "output_type": "display_data"
    },
    {
     "data": {
      "text/markdown": [
       "<details><summary>1. afterChild</summary>\n",
       "\n",
       "*   **quad**: \n",
       "    `<function TfApp.reinit.<locals>.getOp at 0x7fadfcc41200>`\n",
       "\n",
       "</details>\n"
      ],
      "text/plain": [
       "<IPython.core.display.Markdown object>"
      ]
     },
     "metadata": {},
     "output_type": "display_data"
    },
    {
     "data": {
      "text/markdown": [
       "<details><summary>2. allowedBaseTypes</summary>\n",
       "\n",
       "1.  `face`\n",
       "2.  `case`\n",
       "3.  `cluster`\n",
       "4.  `quad`\n",
       "5.  `comment`\n",
       "\n",
       "</details>\n"
      ],
      "text/plain": [
       "<IPython.core.display.Markdown object>"
      ]
     },
     "metadata": {},
     "output_type": "display_data"
    },
    {
     "data": {
      "text/markdown": [
       "<details><summary>3. apiVersion</summary>\n",
       "1\n",
       "\n",
       "</details>\n"
      ],
      "text/plain": [
       "<IPython.core.display.Markdown object>"
      ]
     },
     "metadata": {},
     "output_type": "display_data"
    },
    {
     "data": {
      "text/markdown": [
       "<details><summary>4. appName</summary>\n",
       "uruk\n",
       "\n",
       "</details>\n"
      ],
      "text/plain": [
       "<IPython.core.display.Markdown object>"
      ]
     },
     "metadata": {},
     "output_type": "display_data"
    },
    {
     "data": {
      "text/markdown": [
       "<details><summary>5. appPath</summary>\n",
       "/Users/dirk/github/annotation/app-uruk/code\n",
       "\n",
       "</details>\n"
      ],
      "text/plain": [
       "<IPython.core.display.Markdown object>"
      ]
     },
     "metadata": {},
     "output_type": "display_data"
    },
    {
     "data": {
      "text/markdown": [
       "<details><summary>6. baseTypes</summary>\n",
       "\n",
       "1.  `comment`\n",
       "\n",
       "</details>\n"
      ],
      "text/plain": [
       "<IPython.core.display.Markdown object>"
      ]
     },
     "metadata": {},
     "output_type": "display_data"
    },
    {
     "data": {
      "text/markdown": [
       "<details><summary>7. browseContentPretty</summary>\n",
       "True\n",
       "\n",
       "</details>\n"
      ],
      "text/plain": [
       "<IPython.core.display.Markdown object>"
      ]
     },
     "metadata": {},
     "output_type": "display_data"
    },
    {
     "data": {
      "text/markdown": [
       "<details><summary>8. browseNavLevel</summary>\n",
       "1\n",
       "\n",
       "</details>\n"
      ],
      "text/plain": [
       "<IPython.core.display.Markdown object>"
      ]
     },
     "metadata": {},
     "output_type": "display_data"
    },
    {
     "data": {
      "text/markdown": [
       "<details><summary>9. charText</summary>\n",
       "How TF features represent text\n",
       "\n",
       "</details>\n"
      ],
      "text/plain": [
       "<IPython.core.display.Markdown object>"
      ]
     },
     "metadata": {},
     "output_type": "display_data"
    },
    {
     "data": {
      "text/markdown": [
       "<details><summary>10. charUrl</summary>\n",
       "https://annotation.github.io/text-fabric/Writing/Transcription/\n",
       "\n",
       "</details>\n"
      ],
      "text/plain": [
       "<IPython.core.display.Markdown object>"
      ]
     },
     "metadata": {},
     "output_type": "display_data"
    },
    {
     "data": {
      "text/markdown": [
       "<details><summary>11. childType</summary>\n",
       "\n",
       "*   **case**: \n",
       "    *   `cluster`\n",
       "    *   `comment`\n",
       "    *   `quad`\n",
       "    *   `sign`\n",
       "*   **cluster**: \n",
       "    *   `cluster`\n",
       "    *   `quad`\n",
       "    *   `sign`\n",
       "*   **column**: \n",
       "    *   `comment`\n",
       "    *   `line`\n",
       "*   **comment**: \n",
       "    *   `sign`\n",
       "*   **face**: \n",
       "    *   `column`\n",
       "    *   `comment`\n",
       "*   **line**: \n",
       "    *   `case`\n",
       "    *   `cluster`\n",
       "    *   `comment`\n",
       "    *   `quad`\n",
       "    *   `sign`\n",
       "*   **quad**: \n",
       "    *   `cluster`\n",
       "    *   `quad`\n",
       "    *   `sign`\n",
       "*   **tablet**: \n",
       "    *   `comment`\n",
       "    *   `face`\n",
       "\n",
       "</details>\n"
      ],
      "text/plain": [
       "<IPython.core.display.Markdown object>"
      ]
     },
     "metadata": {},
     "output_type": "display_data"
    },
    {
     "data": {
      "text/markdown": [
       "<details><summary>12. childrenCustom</summary>\n",
       "\n",
       "*   **case**: \n",
       "    *   \n",
       "        `<function TfApp.reinit.<locals>.<lambda> at 0x7fadfcc41320>`\n",
       "    *   \n",
       "        `<bound method EdgeFeature.f of <tf.core.api.EdgeFeature object at 0x7fae206ee990>>`\n",
       "    *   False\n",
       "*   **line**: \n",
       "    *   \n",
       "        `<function TfApp.reinit.<locals>.<lambda> at 0x7fadfcc41290>`\n",
       "    *   \n",
       "        `<bound method EdgeFeature.f of <tf.core.api.EdgeFeature object at 0x7fae206ee990>>`\n",
       "    *   False\n",
       "*   **quad**: \n",
       "    *   \n",
       "        `<function TfApp.reinit.<locals>.<lambda> at 0x7fadfcc413b0>`\n",
       "    *   \n",
       "        `<bound method EdgeFeature.f of <tf.core.api.EdgeFeature object at 0x7fae206ee990>>`\n",
       "    *   False\n",
       "\n",
       "</details>\n"
      ],
      "text/plain": [
       "<IPython.core.display.Markdown object>"
      ]
     },
     "metadata": {},
     "output_type": "display_data"
    },
    {
     "data": {
      "text/markdown": [
       "<details><summary>13. chunkedTypes</summary>\n",
       "set()\n",
       "\n",
       "</details>\n"
      ],
      "text/plain": [
       "<IPython.core.display.Markdown object>"
      ]
     },
     "metadata": {},
     "output_type": "display_data"
    },
    {
     "data": {
      "text/markdown": [
       "<details><summary>14. commit</summary>\n",
       "None\n",
       "\n",
       "</details>\n"
      ],
      "text/plain": [
       "<IPython.core.display.Markdown object>"
      ]
     },
     "metadata": {},
     "output_type": "display_data"
    },
    {
     "data": {
      "text/markdown": [
       "<details><summary>15. condenseType</summary>\n",
       "tablet\n",
       "\n",
       "</details>\n"
      ],
      "text/plain": [
       "<IPython.core.display.Markdown object>"
      ]
     },
     "metadata": {},
     "output_type": "display_data"
    },
    {
     "data": {
      "text/markdown": [
       "<details><summary>16. condenseTypes</summary>\n",
       "\n",
       "1.  \n",
       "    *   `tablet`\n",
       "    *   `22.013513513513512`\n",
       "    *   `143889`\n",
       "    *   `150252`\n",
       "2.  \n",
       "    *   `face`\n",
       "    *   `14.098032994923859`\n",
       "    *   `150253`\n",
       "    *   `159708`\n",
       "3.  \n",
       "    *   `column`\n",
       "    *   `9.338016116380233`\n",
       "    *   `180450`\n",
       "    *   `194472`\n",
       "4.  \n",
       "    *   `line`\n",
       "    *   `3.6104012052898833`\n",
       "    *   `227226`\n",
       "    *   `263067`\n",
       "5.  \n",
       "    *   `case`\n",
       "    *   `3.4648222982074395`\n",
       "    *   `159709`\n",
       "    *   `169359`\n",
       "6.  \n",
       "    *   `cluster`\n",
       "    *   `1.031416969437914`\n",
       "    *   `194473`\n",
       "    *   `227225`\n",
       "7.  \n",
       "    *   `quad`\n",
       "    *   `2.050606220347918`\n",
       "    *   `140095`\n",
       "    *   `143888`\n",
       "8.  \n",
       "    *   `comment`\n",
       "    *   `1.0`\n",
       "    *   `169360`\n",
       "    *   `180449`\n",
       "9.  \n",
       "    *   `sign`\n",
       "    *   `1`\n",
       "    *   `1`\n",
       "    *   `140094`\n",
       "\n",
       "</details>\n"
      ],
      "text/plain": [
       "<IPython.core.display.Markdown object>"
      ]
     },
     "metadata": {},
     "output_type": "display_data"
    },
    {
     "data": {
      "text/markdown": [
       "<details><summary>17. corpus</summary>\n",
       "Uruk IV/III: Proto-cuneiform tablets \n",
       "\n",
       "</details>\n"
      ],
      "text/plain": [
       "<IPython.core.display.Markdown object>"
      ]
     },
     "metadata": {},
     "output_type": "display_data"
    },
    {
     "data": {
      "text/markdown": [
       "<details><summary>18. css</summary>\n",
       "\n",
       "```\n",
       ".contnr.cluster {\n",
       "    flex-flow: row wrap;\n",
       "    border: 0;\n",
       "}\n",
       ".meta .features {\n",
       "    background-color: #ffeedd;\n",
       "}\n",
       ".lbl.clusterb,.lbl.clustere {\n",
       "    padding:  0.5em 0.1em 0.1em 0.1em;\n",
       "    margin: 0.8em 0.1em 0.1em 0.1em;\n",
       "    color: #888844;\n",
       "    font-size: x-small;\n",
       "}\n",
       ".lbl.clusterb {\n",
       "    border-left: 0.3em solid #cccc99;\n",
       "    border-right: 0;\n",
       "    border-top: 0;\n",
       "    border-bottom: 0;\n",
       "    border-radius: 1rem;\n",
       "}\n",
       ".lbl.clustere {\n",
       "    border-left: 0;\n",
       "    border-right: 0.3em solid #cccc99;\n",
       "    border-top: 0;\n",
       "    border-bottom: 0;\n",
       "    border-radius: 1rem;\n",
       "}\n",
       ".op {\n",
       "    padding:  0.5em 0.1em 0.1em 0.1em;\n",
       "    margin: 0.8em 0.1em 0.1em 0.1em;\n",
       "    font-family: monospace;\n",
       "    font-size: x-large;\n",
       "    font-weight: bold;\n",
       "}\n",
       ".period {\n",
       "    font-family: monospace;\n",
       "    font-size: medium;\n",
       "    font-weight: bold;\n",
       "    color: #0000bb;\n",
       "}\n",
       ".excavation {\n",
       "    font-family: monospace;\n",
       "    font-size: medium;\n",
       "    font-style: italic;\n",
       "    color: #779900;\n",
       "}\n",
       "\n",
       "```\n",
       "\n",
       "\n",
       "</details>\n"
      ],
      "text/plain": [
       "<IPython.core.display.Markdown object>"
      ]
     },
     "metadata": {},
     "output_type": "display_data"
    },
    {
     "data": {
      "text/markdown": [
       "<details><summary>19. dataDisplay</summary>\n",
       "\n",
       "*   **browseContentPretty**: `True`\n",
       "*   **browseNavLevel**: `1`\n",
       "\n",
       "</details>\n"
      ],
      "text/plain": [
       "<IPython.core.display.Markdown object>"
      ]
     },
     "metadata": {},
     "output_type": "display_data"
    },
    {
     "data": {
      "text/markdown": [
       "<details><summary>20. defaultClsOrig</summary>\n",
       "txtu\n",
       "\n",
       "</details>\n"
      ],
      "text/plain": [
       "<IPython.core.display.Markdown object>"
      ]
     },
     "metadata": {},
     "output_type": "display_data"
    },
    {
     "data": {
      "text/markdown": [
       "<details><summary>21. defaultFormat</summary>\n",
       "text-orig-full\n",
       "\n",
       "</details>\n"
      ],
      "text/plain": [
       "<IPython.core.display.Markdown object>"
      ]
     },
     "metadata": {},
     "output_type": "display_data"
    },
    {
     "data": {
      "text/markdown": [
       "<details><summary>22. direction</summary>\n",
       "ltr\n",
       "\n",
       "</details>\n"
      ],
      "text/plain": [
       "<IPython.core.display.Markdown object>"
      ]
     },
     "metadata": {},
     "output_type": "display_data"
    },
    {
     "data": {
      "text/markdown": [
       "<details><summary>23. docBase</summary>\n",
       "https://github.com/Nino-cunei/uruk/blob/master/docs\n",
       "\n",
       "</details>\n"
      ],
      "text/plain": [
       "<IPython.core.display.Markdown object>"
      ]
     },
     "metadata": {},
     "output_type": "display_data"
    },
    {
     "data": {
      "text/markdown": [
       "<details><summary>24. docExt</summary>\n",
       ".md\n",
       "\n",
       "</details>\n"
      ],
      "text/plain": [
       "<IPython.core.display.Markdown object>"
      ]
     },
     "metadata": {},
     "output_type": "display_data"
    },
    {
     "data": {
      "text/markdown": [
       "<details><summary>25. docPage</summary>\n",
       "about\n",
       "\n",
       "</details>\n"
      ],
      "text/plain": [
       "<IPython.core.display.Markdown object>"
      ]
     },
     "metadata": {},
     "output_type": "display_data"
    },
    {
     "data": {
      "text/markdown": [
       "<details><summary>26. docRoot</summary>\n",
       "https://github.com\n",
       "\n",
       "</details>\n"
      ],
      "text/plain": [
       "<IPython.core.display.Markdown object>"
      ]
     },
     "metadata": {},
     "output_type": "display_data"
    },
    {
     "data": {
      "text/markdown": [
       "<details><summary>27. docUrl</summary>\n",
       "https://github.com/Nino-cunei/uruk/blob/master/docs/about.md\n",
       "\n",
       "</details>\n"
      ],
      "text/plain": [
       "<IPython.core.display.Markdown object>"
      ]
     },
     "metadata": {},
     "output_type": "display_data"
    },
    {
     "data": {
      "text/markdown": [
       "<details><summary>28. docs</summary>\n",
       "\n",
       "*   **docPage**: `about`\n",
       "*   **featureBase**: `{docBase}/transcription{docExt}`\n",
       "*   **featurePage**: *empty*\n",
       "\n",
       "</details>\n"
      ],
      "text/plain": [
       "<IPython.core.display.Markdown object>"
      ]
     },
     "metadata": {},
     "output_type": "display_data"
    },
    {
     "data": {
      "text/markdown": [
       "<details><summary>29. doi</summary>\n",
       "10.5281/zenodo.1193841\n",
       "\n",
       "</details>\n"
      ],
      "text/plain": [
       "<IPython.core.display.Markdown object>"
      ]
     },
     "metadata": {},
     "output_type": "display_data"
    },
    {
     "data": {
      "text/markdown": [
       "<details><summary>30. exampleSection</summary>\n",
       "P006427 obverse:1:1\n",
       "\n",
       "</details>\n"
      ],
      "text/plain": [
       "<IPython.core.display.Markdown object>"
      ]
     },
     "metadata": {},
     "output_type": "display_data"
    },
    {
     "data": {
      "text/markdown": [
       "<details><summary>31. exampleSectionHtml</summary>\n",
       "<code>P006427 obverse:1:1</code>\n",
       "\n",
       "</details>\n"
      ],
      "text/plain": [
       "<IPython.core.display.Markdown object>"
      ]
     },
     "metadata": {},
     "output_type": "display_data"
    },
    {
     "data": {
      "text/markdown": [
       "<details><summary>32. excludedFeatures</summary>\n",
       "set()\n",
       "\n",
       "</details>\n"
      ],
      "text/plain": [
       "<IPython.core.display.Markdown object>"
      ]
     },
     "metadata": {},
     "output_type": "display_data"
    },
    {
     "data": {
      "text/markdown": [
       "<details><summary>33. extension</summary>\n",
       "*empty*\n",
       "\n",
       "</details>\n"
      ],
      "text/plain": [
       "<IPython.core.display.Markdown object>"
      ]
     },
     "metadata": {},
     "output_type": "display_data"
    },
    {
     "data": {
      "text/markdown": [
       "<details><summary>34. featureBase</summary>\n",
       "https://github.com/Nino-cunei/uruk/blob/master/docs/transcription.md\n",
       "\n",
       "</details>\n"
      ],
      "text/plain": [
       "<IPython.core.display.Markdown object>"
      ]
     },
     "metadata": {},
     "output_type": "display_data"
    },
    {
     "data": {
      "text/markdown": [
       "<details><summary>35. featurePage</summary>\n",
       "*empty*\n",
       "\n",
       "</details>\n"
      ],
      "text/plain": [
       "<IPython.core.display.Markdown object>"
      ]
     },
     "metadata": {},
     "output_type": "display_data"
    },
    {
     "data": {
      "text/markdown": [
       "<details><summary>36. features</summary>\n",
       "\n",
       "*   **case**: \n",
       "    *   []\n",
       "    *   {}\n",
       "*   **cluster**: \n",
       "    *   []\n",
       "    *   {}\n",
       "*   **column**: \n",
       "    *   []\n",
       "    *   {}\n",
       "*   **comment**: \n",
       "    *   []\n",
       "    *   {}\n",
       "*   **face**: \n",
       "    *   []\n",
       "    *   {}\n",
       "*   **line**: \n",
       "    *   []\n",
       "    *   {}\n",
       "*   **quad**: \n",
       "    *   []\n",
       "    *   {}\n",
       "*   **sign**: \n",
       "    *   []\n",
       "    *   {}\n",
       "*   **tablet**: \n",
       "    *   []\n",
       "    *   {}\n",
       "\n",
       "</details>\n"
      ],
      "text/plain": [
       "<IPython.core.display.Markdown object>"
      ]
     },
     "metadata": {},
     "output_type": "display_data"
    },
    {
     "data": {
      "text/markdown": [
       "<details><summary>37. featuresBare</summary>\n",
       "\n",
       "*   **case**: \n",
       "    *   []\n",
       "    *   {}\n",
       "*   **cluster**: \n",
       "    *   []\n",
       "    *   {}\n",
       "*   **column**: \n",
       "    *   []\n",
       "    *   {}\n",
       "*   **comment**: \n",
       "    *   \n",
       "        *   `text`\n",
       "    *   {}\n",
       "*   **face**: \n",
       "    *   \n",
       "        *   `identifier`\n",
       "        *   `fragment`\n",
       "    *   {}\n",
       "*   **line**: \n",
       "    *   []\n",
       "    *   {}\n",
       "*   **quad**: \n",
       "    *   []\n",
       "    *   {}\n",
       "*   **sign**: \n",
       "    *   []\n",
       "    *   {}\n",
       "*   **tablet**: \n",
       "    *   \n",
       "        *   `name`\n",
       "        *   `period`\n",
       "        *   `excavation`\n",
       "    *   {}\n",
       "\n",
       "</details>\n"
      ],
      "text/plain": [
       "<IPython.core.display.Markdown object>"
      ]
     },
     "metadata": {},
     "output_type": "display_data"
    },
    {
     "data": {
      "text/markdown": [
       "<details><summary>38. font</summary>\n",
       "GentiumPlus-R.ttf\n",
       "\n",
       "</details>\n"
      ],
      "text/plain": [
       "<IPython.core.display.Markdown object>"
      ]
     },
     "metadata": {},
     "output_type": "display_data"
    },
    {
     "data": {
      "text/markdown": [
       "<details><summary>39. fontName</summary>\n",
       "Gentium\n",
       "\n",
       "</details>\n"
      ],
      "text/plain": [
       "<IPython.core.display.Markdown object>"
      ]
     },
     "metadata": {},
     "output_type": "display_data"
    },
    {
     "data": {
      "text/markdown": [
       "<details><summary>40. fontw</summary>\n",
       "GentiumPlus-R.woff\n",
       "\n",
       "</details>\n"
      ],
      "text/plain": [
       "<IPython.core.display.Markdown object>"
      ]
     },
     "metadata": {},
     "output_type": "display_data"
    },
    {
     "data": {
      "text/markdown": [
       "<details><summary>41. formatCls</summary>\n",
       "\n",
       "*   **text-orig-full**: `txtu`\n",
       "*   **text-trans-full**: `txtt`\n",
       "*   **text-trans-plain**: `txtt`\n",
       "*   ***empty***: `txtu`\n",
       "\n",
       "</details>\n"
      ],
      "text/plain": [
       "<IPython.core.display.Markdown object>"
      ]
     },
     "metadata": {},
     "output_type": "display_data"
    },
    {
     "data": {
      "text/markdown": [
       "<details><summary>42. graphicsRelative</summary>\n",
       "sources/cdli/images\n",
       "\n",
       "</details>\n"
      ],
      "text/plain": [
       "<IPython.core.display.Markdown object>"
      ]
     },
     "metadata": {},
     "output_type": "display_data"
    },
    {
     "data": {
      "text/markdown": [
       "<details><summary>43. hasGraphics</summary>\n",
       "\n",
       "1.  `quad`\n",
       "2.  `sign`\n",
       "\n",
       "</details>\n"
      ],
      "text/plain": [
       "<IPython.core.display.Markdown object>"
      ]
     },
     "metadata": {},
     "output_type": "display_data"
    },
    {
     "data": {
      "text/markdown": [
       "<details><summary>44. interfaceDefaults</summary>\n",
       "\n",
       "*   **lineNumbers**: False\n",
       "*   **prettyTypes**: `True`\n",
       "*   **showChunks**: None\n",
       "*   **showFeatures**: `True`\n",
       "*   **showGraphics**: `True`\n",
       "*   **withNodes**: False\n",
       "*   **withTypes**: False\n",
       "\n",
       "</details>\n"
      ],
      "text/plain": [
       "<IPython.core.display.Markdown object>"
      ]
     },
     "metadata": {},
     "output_type": "display_data"
    },
    {
     "data": {
      "text/markdown": [
       "<details><summary>45. isChunkOf</summary>\n",
       "{}\n",
       "\n",
       "</details>\n"
      ],
      "text/plain": [
       "<IPython.core.display.Markdown object>"
      ]
     },
     "metadata": {},
     "output_type": "display_data"
    },
    {
     "data": {
      "text/markdown": [
       "<details><summary>46. isCompatible</summary>\n",
       "True\n",
       "\n",
       "</details>\n"
      ],
      "text/plain": [
       "<IPython.core.display.Markdown object>"
      ]
     },
     "metadata": {},
     "output_type": "display_data"
    },
    {
     "data": {
      "text/markdown": [
       "<details><summary>47. labels</summary>\n",
       "\n",
       "*   **case**: \n",
       "    *   `{number}{prime}`\n",
       "    *   \n",
       "        *   `number`\n",
       "        *   `prime`\n",
       "*   **cluster**: \n",
       "    *   `{type}`\n",
       "    *   \n",
       "        *   `type`\n",
       "*   **column**: \n",
       "    *   `{number}{prime}`\n",
       "    *   \n",
       "        *   `number`\n",
       "        *   `prime`\n",
       "*   **comment**: \n",
       "    *   `{type}`\n",
       "    *   \n",
       "        *   `type`\n",
       "*   **face**: \n",
       "    *   `{type}`\n",
       "    *   \n",
       "        *   `type`\n",
       "*   **line**: \n",
       "    *   `{number}`\n",
       "    *   \n",
       "        *   `number`\n",
       "*   **quad**: \n",
       "    *   *empty*\n",
       "    *   ()\n",
       "*   **sign**: \n",
       "    *   `{atf}`\n",
       "    *   \n",
       "        *   `atf`\n",
       "*   **tablet**: \n",
       "    *   `True`\n",
       "    *   ()\n",
       "\n",
       "</details>\n"
      ],
      "text/plain": [
       "<IPython.core.display.Markdown object>"
      ]
     },
     "metadata": {},
     "output_type": "display_data"
    },
    {
     "data": {
      "text/markdown": [
       "<details><summary>48. language</summary>\n",
       "*empty*\n",
       "\n",
       "</details>\n"
      ],
      "text/plain": [
       "<IPython.core.display.Markdown object>"
      ]
     },
     "metadata": {},
     "output_type": "display_data"
    },
    {
     "data": {
      "text/markdown": [
       "<details><summary>49. levelCls</summary>\n",
       "\n",
       "*   **case**: \n",
       "    *   **`children`**: `children row `\n",
       "    *   **`container`**: `contnr c2`\n",
       "    *   **`label`**: `lbl c2`\n",
       "*   **cluster**: \n",
       "    *   **`children`**: `children row wrap`\n",
       "    *   **`container`**: `contnr c1`\n",
       "    *   **`label`**: `lbl c1`\n",
       "*   **column**: \n",
       "    *   **`children`**: `children col `\n",
       "    *   **`container`**: `contnr c3`\n",
       "    *   **`label`**: `lbl c3`\n",
       "*   **comment**: \n",
       "    *   **`children`**: `children row wrap`\n",
       "    *   **`container`**: `contnr c1`\n",
       "    *   **`label`**: `lbl c1`\n",
       "*   **face**: \n",
       "    *   **`children`**: `children row `\n",
       "    *   **`container`**: `contnr c2`\n",
       "    *   **`label`**: `lbl c2`\n",
       "*   **line**: \n",
       "    *   **`children`**: `children row `\n",
       "    *   **`container`**: `contnr c2`\n",
       "    *   **`label`**: `lbl c2`\n",
       "*   **quad**: \n",
       "    *   **`children`**: `children row wrap`\n",
       "    *   **`container`**: `contnr c1`\n",
       "    *   **`label`**: `lbl c1`\n",
       "*   **sign**: \n",
       "    *   **`children`**: *empty*\n",
       "    *   **`container`**: `contnr c0`\n",
       "    *   **`label`**: `lbl c0`\n",
       "*   **tablet**: \n",
       "    *   **`children`**: `children col `\n",
       "    *   **`container`**: `contnr c4`\n",
       "    *   **`label`**: `lbl c4`\n",
       "\n",
       "</details>\n"
      ],
      "text/plain": [
       "<IPython.core.display.Markdown object>"
      ]
     },
     "metadata": {},
     "output_type": "display_data"
    },
    {
     "data": {
      "text/markdown": [
       "<details><summary>50. levels</summary>\n",
       "\n",
       "*   **case**: \n",
       "    *   **`flow`**: `row`\n",
       "    *   **`level`**: `2`\n",
       "    *   **`stretch`**: False\n",
       "    *   **`wrap`**: False\n",
       "*   **cluster**: \n",
       "    *   **`flow`**: `row`\n",
       "    *   **`level`**: `1`\n",
       "    *   **`stretch`**: False\n",
       "    *   **`wrap`**: `True`\n",
       "*   **column**: \n",
       "    *   **`flow`**: `col`\n",
       "    *   **`level`**: `3`\n",
       "    *   **`stretch`**: False\n",
       "    *   **`wrap`**: False\n",
       "*   **comment**: \n",
       "    *   **`flow`**: `row`\n",
       "    *   **`level`**: `1`\n",
       "    *   **`stretch`**: `True`\n",
       "    *   **`wrap`**: `True`\n",
       "*   **face**: \n",
       "    *   **`flow`**: `row`\n",
       "    *   **`level`**: `2`\n",
       "    *   **`stretch`**: False\n",
       "    *   **`wrap`**: False\n",
       "*   **line**: \n",
       "    *   **`flow`**: `row`\n",
       "    *   **`level`**: `2`\n",
       "    *   **`stretch`**: False\n",
       "    *   **`wrap`**: False\n",
       "*   **quad**: \n",
       "    *   **`flow`**: `row`\n",
       "    *   **`level`**: `1`\n",
       "    *   **`stretch`**: False\n",
       "    *   **`wrap`**: `True`\n",
       "*   **sign**: \n",
       "    *   **`flow`**: `col`\n",
       "    *   **`level`**: 0\n",
       "    *   **`stretch`**: False\n",
       "    *   **`wrap`**: False\n",
       "*   **tablet**: \n",
       "    *   **`flow`**: `col`\n",
       "    *   **`level`**: `4`\n",
       "    *   **`stretch`**: False\n",
       "    *   **`wrap`**: False\n",
       "\n",
       "</details>\n"
      ],
      "text/plain": [
       "<IPython.core.display.Markdown object>"
      ]
     },
     "metadata": {},
     "output_type": "display_data"
    },
    {
     "data": {
      "text/markdown": [
       "<details><summary>51. lexMap</summary>\n",
       "{}\n",
       "\n",
       "</details>\n"
      ],
      "text/plain": [
       "<IPython.core.display.Markdown object>"
      ]
     },
     "metadata": {},
     "output_type": "display_data"
    },
    {
     "data": {
      "text/markdown": [
       "<details><summary>52. lexTypes</summary>\n",
       "set()\n",
       "\n",
       "</details>\n"
      ],
      "text/plain": [
       "<IPython.core.display.Markdown object>"
      ]
     },
     "metadata": {},
     "output_type": "display_data"
    },
    {
     "data": {
      "text/markdown": [
       "<details><summary>53. lineNumberFeature</summary>\n",
       "\n",
       "*   **case**: `srcLnNum`\n",
       "*   **column**: `srcLnNum`\n",
       "*   **comment**: `srcLnNum`\n",
       "*   **face**: `srcLnNum`\n",
       "*   **line**: `srcLnNum`\n",
       "*   **tablet**: `srcLnNum`\n",
       "\n",
       "</details>\n"
      ],
      "text/plain": [
       "<IPython.core.display.Markdown object>"
      ]
     },
     "metadata": {},
     "output_type": "display_data"
    },
    {
     "data": {
      "text/markdown": [
       "<details><summary>54. local</summary>\n",
       "clone\n",
       "\n",
       "</details>\n"
      ],
      "text/plain": [
       "<IPython.core.display.Markdown object>"
      ]
     },
     "metadata": {},
     "output_type": "display_data"
    },
    {
     "data": {
      "text/markdown": [
       "<details><summary>55. localDir</summary>\n",
       "/Users/dirk/github/Nino-cunei/uruk/_temp\n",
       "\n",
       "</details>\n"
      ],
      "text/plain": [
       "<IPython.core.display.Markdown object>"
      ]
     },
     "metadata": {},
     "output_type": "display_data"
    },
    {
     "data": {
      "text/markdown": [
       "<details><summary>56. moduleSpecs</summary>\n",
       "()\n",
       "\n",
       "</details>\n"
      ],
      "text/plain": [
       "<IPython.core.display.Markdown object>"
      ]
     },
     "metadata": {},
     "output_type": "display_data"
    },
    {
     "data": {
      "text/markdown": [
       "<details><summary>57. noChildren</summary>\n",
       "\n",
       "1.  `cluster`\n",
       "2.  `column`\n",
       "3.  `face`\n",
       "4.  `quad`\n",
       "5.  `tablet`\n",
       "\n",
       "</details>\n"
      ],
      "text/plain": [
       "<IPython.core.display.Markdown object>"
      ]
     },
     "metadata": {},
     "output_type": "display_data"
    },
    {
     "data": {
      "text/markdown": [
       "<details><summary>58. noDescendTypes</summary>\n",
       "set()\n",
       "\n",
       "</details>\n"
      ],
      "text/plain": [
       "<IPython.core.display.Markdown object>"
      ]
     },
     "metadata": {},
     "output_type": "display_data"
    },
    {
     "data": {
      "text/markdown": [
       "<details><summary>59. noneValues</summary>\n",
       "\n",
       "1.  None\n",
       "\n",
       "</details>\n"
      ],
      "text/plain": [
       "<IPython.core.display.Markdown object>"
      ]
     },
     "metadata": {},
     "output_type": "display_data"
    },
    {
     "data": {
      "text/markdown": [
       "<details><summary>60. org</summary>\n",
       "Nino-cunei\n",
       "\n",
       "</details>\n"
      ],
      "text/plain": [
       "<IPython.core.display.Markdown object>"
      ]
     },
     "metadata": {},
     "output_type": "display_data"
    },
    {
     "data": {
      "text/markdown": [
       "<details><summary>61. plainCustom</summary>\n",
       "\n",
       "*   **cluster**: \n",
       "    `<function plainAtfType at 0x7fadf88fc8c0>`\n",
       "*   **quad**: \n",
       "    `<function plainAtfType at 0x7fadf88fc8c0>`\n",
       "*   **sign**: \n",
       "    `<function plainAtfType at 0x7fadf88fc8c0>`\n",
       "\n",
       "</details>\n"
      ],
      "text/plain": [
       "<IPython.core.display.Markdown object>"
      ]
     },
     "metadata": {},
     "output_type": "display_data"
    },
    {
     "data": {
      "text/markdown": [
       "<details><summary>62. prettyCustom</summary>\n",
       "\n",
       "*   **case**: \n",
       "    `<function caseDir at 0x7fadf88fa440>`\n",
       "*   **cluster**: \n",
       "    `<function clusterBoundaries at 0x7fadf88fa8c0>`\n",
       "*   **comments**: \n",
       "    `<function commentsCls at 0x7fadf88fa950>`\n",
       "\n",
       "</details>\n"
      ],
      "text/plain": [
       "<IPython.core.display.Markdown object>"
      ]
     },
     "metadata": {},
     "output_type": "display_data"
    },
    {
     "data": {
      "text/markdown": [
       "<details><summary>63. provenanceSpec</summary>\n",
       "\n",
       "*   **corpus**: `Uruk IV/III: Proto-cuneiform tablets `\n",
       "*   **doi**: `10.5281/zenodo.1193841`\n",
       "*   **graphicsRelative**: `sources/cdli/images`\n",
       "*   **org**: `Nino-cunei`\n",
       "*   **relative**: `tf/uruk`\n",
       "*   **repo**: `uruk`\n",
       "*   **version**: `1.0`\n",
       "*   **webBase**: `https://cdli.ucla.edu`\n",
       "*   **webHint**: `to CDLI main page for this tablet`\n",
       "*   **webUrl**: `/search/search_results.php?SearchMode=Text&ObjectID=<1>`\n",
       "\n",
       "</details>\n"
      ],
      "text/plain": [
       "<IPython.core.display.Markdown object>"
      ]
     },
     "metadata": {},
     "output_type": "display_data"
    },
    {
     "data": {
      "text/markdown": [
       "<details><summary>64. relative</summary>\n",
       "tf/uruk\n",
       "\n",
       "</details>\n"
      ],
      "text/plain": [
       "<IPython.core.display.Markdown object>"
      ]
     },
     "metadata": {},
     "output_type": "display_data"
    },
    {
     "data": {
      "text/markdown": [
       "<details><summary>65. release</summary>\n",
       "None\n",
       "\n",
       "</details>\n"
      ],
      "text/plain": [
       "<IPython.core.display.Markdown object>"
      ]
     },
     "metadata": {},
     "output_type": "display_data"
    },
    {
     "data": {
      "text/markdown": [
       "<details><summary>66. repo</summary>\n",
       "uruk\n",
       "\n",
       "</details>\n"
      ],
      "text/plain": [
       "<IPython.core.display.Markdown object>"
      ]
     },
     "metadata": {},
     "output_type": "display_data"
    },
    {
     "data": {
      "text/markdown": [
       "<details><summary>67. sectionSep1</summary>\n",
       " \n",
       "\n",
       "</details>\n"
      ],
      "text/plain": [
       "<IPython.core.display.Markdown object>"
      ]
     },
     "metadata": {},
     "output_type": "display_data"
    },
    {
     "data": {
      "text/markdown": [
       "<details><summary>68. sectionSep2</summary>\n",
       ":\n",
       "\n",
       "</details>\n"
      ],
      "text/plain": [
       "<IPython.core.display.Markdown object>"
      ]
     },
     "metadata": {},
     "output_type": "display_data"
    },
    {
     "data": {
      "text/markdown": [
       "<details><summary>69. templates</summary>\n",
       "\n",
       "*   **case**: \n",
       "    *   `{number}{prime}`\n",
       "    *   \n",
       "        *   `number`\n",
       "        *   `prime`\n",
       "*   **cluster**: \n",
       "    *   *empty*\n",
       "    *   ()\n",
       "*   **column**: \n",
       "    *   `True`\n",
       "    *   ()\n",
       "*   **comment**: \n",
       "    *   *empty*\n",
       "    *   ()\n",
       "*   **face**: \n",
       "    *   `{type}`\n",
       "    *   \n",
       "        *   `type`\n",
       "*   **line**: \n",
       "    *   `True`\n",
       "    *   ()\n",
       "*   **quad**: \n",
       "    *   *empty*\n",
       "    *   ()\n",
       "*   **sign**: \n",
       "    *   `True`\n",
       "    *   ()\n",
       "*   **tablet**: \n",
       "    *   `True`\n",
       "    *   ()\n",
       "\n",
       "</details>\n"
      ],
      "text/plain": [
       "<IPython.core.display.Markdown object>"
      ]
     },
     "metadata": {},
     "output_type": "display_data"
    },
    {
     "data": {
      "text/markdown": [
       "<details><summary>70. textFormats</summary>\n",
       "{}\n",
       "\n",
       "</details>\n"
      ],
      "text/plain": [
       "<IPython.core.display.Markdown object>"
      ]
     },
     "metadata": {},
     "output_type": "display_data"
    },
    {
     "data": {
      "text/markdown": [
       "<details><summary>71. tfDoc</summary>\n",
       "https://annotation.github.io/text-fabric\n",
       "\n",
       "</details>\n"
      ],
      "text/plain": [
       "<IPython.core.display.Markdown object>"
      ]
     },
     "metadata": {},
     "output_type": "display_data"
    },
    {
     "data": {
      "text/markdown": [
       "<details><summary>72. transform</summary>\n",
       "\n",
       "*   **case**: \n",
       "    *   **`prime`**: \n",
       "        `<bound method transform_prime of <tf.apps.uruk.app.TfApp object at 0x7fadf88f8d50>>`\n",
       "*   **cluster**: \n",
       "    *   **`type`**: \n",
       "        `<bound method transform_ctype of <tf.apps.uruk.app.TfApp object at 0x7fadf88f8d50>>`\n",
       "*   **column**: \n",
       "    *   **`prime`**: \n",
       "        `<bound method transform_prime of <tf.apps.uruk.app.TfApp object at 0x7fadf88f8d50>>`\n",
       "*   **line**: \n",
       "    *   **`prime`**: \n",
       "        `<bound method transform_prime of <tf.apps.uruk.app.TfApp object at 0x7fadf88f8d50>>`\n",
       "*   **sign**: \n",
       "    *   **`atf`**: \n",
       "        `<bound method transform_atf of <tf.apps.uruk.app.TfApp object at 0x7fadf88f8d50>>`\n",
       "\n",
       "</details>\n"
      ],
      "text/plain": [
       "<IPython.core.display.Markdown object>"
      ]
     },
     "metadata": {},
     "output_type": "display_data"
    },
    {
     "data": {
      "text/markdown": [
       "<details><summary>73. typeDisplay</summary>\n",
       "\n",
       "*   **case**: \n",
       "    *   **`children`**: \n",
       "        *   `cluster`\n",
       "        *   `comment`\n",
       "        *   `quad`\n",
       "        *   `sign`\n",
       "    *   **`flow`**: `row`\n",
       "    *   **`label`**: `{number}{prime}`\n",
       "    *   **`level`**: `2`\n",
       "    *   **`lineNumber`**: `srcLnNum`\n",
       "    *   **`stretch`**: False\n",
       "    *   **`template`**: `{number}{prime}`\n",
       "    *   **`transform`**: \n",
       "        *   **`prime`**: `prime`\n",
       "    *   **`wrap`**: False\n",
       "*   **cluster**: \n",
       "    *   **`children`**: \n",
       "        *   `cluster`\n",
       "        *   `quad`\n",
       "        *   `sign`\n",
       "    *   **`childrenPlain`**: False\n",
       "    *   **`label`**: `{type}`\n",
       "    *   **`stretch`**: False\n",
       "    *   **`transform`**: \n",
       "        *   **`type`**: `ctype`\n",
       "*   **column**: \n",
       "    *   **`children`**: \n",
       "        *   `comment`\n",
       "        *   `line`\n",
       "    *   **`childrenPlain`**: False\n",
       "    *   **`flow`**: `col`\n",
       "    *   **`label`**: `{number}{prime}`\n",
       "    *   **`level`**: `3`\n",
       "    *   **`lineNumber`**: `srcLnNum`\n",
       "    *   **`transform`**: \n",
       "        *   **`prime`**: `prime`\n",
       "*   **comment**: \n",
       "    *   **`base`**: `True`\n",
       "    *   **`featuresBare`**: `text`\n",
       "    *   **`label`**: `{type}`\n",
       "    *   **`lineNumber`**: `srcLnNum`\n",
       "*   **face**: \n",
       "    *   **`children`**: \n",
       "        *   `column`\n",
       "        *   `comment`\n",
       "    *   **`childrenPlain`**: False\n",
       "    *   **`featuresBare`**: `identifier fragment`\n",
       "    *   **`flow`**: `row`\n",
       "    *   **`label`**: `{type}`\n",
       "    *   **`lineNumber`**: `srcLnNum`\n",
       "    *   **`stretch`**: False\n",
       "    *   **`template`**: `{type}`\n",
       "    *   **`wrap`**: False\n",
       "*   **line**: \n",
       "    *   **`children`**: \n",
       "        *   `case`\n",
       "        *   `cluster`\n",
       "        *   `comment`\n",
       "        *   `quad`\n",
       "        *   `sign`\n",
       "    *   **`flow`**: `row`\n",
       "    *   **`label`**: `{number}`\n",
       "    *   **`level`**: `2`\n",
       "    *   **`lineNumber`**: `srcLnNum`\n",
       "    *   **`stretch`**: False\n",
       "    *   **`transform`**: \n",
       "        *   **`prime`**: `prime`\n",
       "    *   **`wrap`**: False\n",
       "*   **quad**: \n",
       "    *   **`children`**: \n",
       "        *   `cluster`\n",
       "        *   `quad`\n",
       "        *   `sign`\n",
       "    *   **`childrenPlain`**: False\n",
       "    *   **`graphics`**: `True`\n",
       "    *   **`stretch`**: False\n",
       "*   **sign**: \n",
       "    *   **`graphics`**: `True`\n",
       "    *   **`label`**: `{atf}`\n",
       "    *   **`transform`**: \n",
       "        *   **`atf`**: `atf`\n",
       "*   **tablet**: \n",
       "    *   **`children`**: \n",
       "        *   `comment`\n",
       "        *   `face`\n",
       "    *   **`childrenPlain`**: False\n",
       "    *   **`condense`**: `True`\n",
       "    *   **`featuresBare`**: `name period excavation`\n",
       "    *   **`flow`**: `col`\n",
       "    *   **`lineNumber`**: `srcLnNum`\n",
       "    *   **`stretch`**: False\n",
       "    *   **`wrap`**: False\n",
       "\n",
       "</details>\n"
      ],
      "text/plain": [
       "<IPython.core.display.Markdown object>"
      ]
     },
     "metadata": {},
     "output_type": "display_data"
    },
    {
     "data": {
      "text/markdown": [
       "<details><summary>74. urlGh</summary>\n",
       "https://github.com\n",
       "\n",
       "</details>\n"
      ],
      "text/plain": [
       "<IPython.core.display.Markdown object>"
      ]
     },
     "metadata": {},
     "output_type": "display_data"
    },
    {
     "data": {
      "text/markdown": [
       "<details><summary>75. urlNb</summary>\n",
       "https://nbviewer.jupyter.org/github\n",
       "\n",
       "</details>\n"
      ],
      "text/plain": [
       "<IPython.core.display.Markdown object>"
      ]
     },
     "metadata": {},
     "output_type": "display_data"
    },
    {
     "data": {
      "text/markdown": [
       "<details><summary>76. verseTypes</summary>\n",
       "\n",
       "1.  `line`\n",
       "\n",
       "</details>\n"
      ],
      "text/plain": [
       "<IPython.core.display.Markdown object>"
      ]
     },
     "metadata": {},
     "output_type": "display_data"
    },
    {
     "data": {
      "text/markdown": [
       "<details><summary>77. version</summary>\n",
       "1.0\n",
       "\n",
       "</details>\n"
      ],
      "text/plain": [
       "<IPython.core.display.Markdown object>"
      ]
     },
     "metadata": {},
     "output_type": "display_data"
    },
    {
     "data": {
      "text/markdown": [
       "<details><summary>78. webBase</summary>\n",
       "None\n",
       "\n",
       "</details>\n"
      ],
      "text/plain": [
       "<IPython.core.display.Markdown object>"
      ]
     },
     "metadata": {},
     "output_type": "display_data"
    },
    {
     "data": {
      "text/markdown": [
       "<details><summary>79. webHint</summary>\n",
       "None\n",
       "\n",
       "</details>\n"
      ],
      "text/plain": [
       "<IPython.core.display.Markdown object>"
      ]
     },
     "metadata": {},
     "output_type": "display_data"
    },
    {
     "data": {
      "text/markdown": [
       "<details><summary>80. webLang</summary>\n",
       "None\n",
       "\n",
       "</details>\n"
      ],
      "text/plain": [
       "<IPython.core.display.Markdown object>"
      ]
     },
     "metadata": {},
     "output_type": "display_data"
    },
    {
     "data": {
      "text/markdown": [
       "<details><summary>81. webLexId</summary>\n",
       "None\n",
       "\n",
       "</details>\n"
      ],
      "text/plain": [
       "<IPython.core.display.Markdown object>"
      ]
     },
     "metadata": {},
     "output_type": "display_data"
    },
    {
     "data": {
      "text/markdown": [
       "<details><summary>82. webUrl</summary>\n",
       "None\n",
       "\n",
       "</details>\n"
      ],
      "text/plain": [
       "<IPython.core.display.Markdown object>"
      ]
     },
     "metadata": {},
     "output_type": "display_data"
    },
    {
     "data": {
      "text/markdown": [
       "<details><summary>83. webUrlLex</summary>\n",
       "None\n",
       "\n",
       "</details>\n"
      ],
      "text/plain": [
       "<IPython.core.display.Markdown object>"
      ]
     },
     "metadata": {},
     "output_type": "display_data"
    },
    {
     "data": {
      "text/markdown": [
       "<details><summary>84. writing</summary>\n",
       "*empty*\n",
       "\n",
       "</details>\n"
      ],
      "text/plain": [
       "<IPython.core.display.Markdown object>"
      ]
     },
     "metadata": {},
     "output_type": "display_data"
    },
    {
     "data": {
      "text/markdown": [
       "<details><summary>85. zip</summary>\n",
       "\n",
       "1.  `uruk`\n",
       "2.  \n",
       "    *   `Nino-cunei`\n",
       "    *   `uruk`\n",
       "    *   `sources/cdli/images`\n",
       "\n",
       "</details>\n"
      ],
      "text/plain": [
       "<IPython.core.display.Markdown object>"
      ]
     },
     "metadata": {},
     "output_type": "display_data"
    }
   ],
   "source": [
    "A.showContext()"
   ]
  },
  {
   "cell_type": "code",
   "execution_count": null,
   "metadata": {},
   "outputs": [],
   "source": []
  }
 ],
 "metadata": {
  "kernelspec": {
   "display_name": "Python 3",
   "language": "python",
   "name": "python3"
  },
  "language_info": {
   "codemirror_mode": {
    "name": "ipython",
    "version": 3
   },
   "file_extension": ".py",
   "mimetype": "text/x-python",
   "name": "python",
   "nbconvert_exporter": "python",
   "pygments_lexer": "ipython3",
   "version": "3.7.7"
  }
 },
 "nbformat": 4,
 "nbformat_minor": 4
}
