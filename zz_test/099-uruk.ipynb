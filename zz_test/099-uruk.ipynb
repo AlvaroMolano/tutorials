{
 "cells": [
  {
   "cell_type": "code",
   "execution_count": 1,
   "metadata": {},
   "outputs": [],
   "source": [
    "%load_ext autoreload\n",
    "%autoreload 2"
   ]
  },
  {
   "cell_type": "code",
   "execution_count": 2,
   "metadata": {},
   "outputs": [],
   "source": [
    "from tf.app import use\n",
    "from fixture import typeShow"
   ]
  },
  {
   "cell_type": "markdown",
   "metadata": {},
   "source": [
    "# Uruk specifics\n",
    "\n",
    "* Plain display of signs, quads and clusters is customized\n",
    "* Signs and quads have graphics"
   ]
  },
  {
   "cell_type": "code",
   "execution_count": 3,
   "metadata": {},
   "outputs": [
    {
     "data": {
      "text/html": [
       "<b title=\"local github\">TF-app:</b> <span title=\"repo clone offline under ~/github\">~/github/annotation/app-uruk/code</span>"
      ],
      "text/plain": [
       "<IPython.core.display.HTML object>"
      ]
     },
     "metadata": {},
     "output_type": "display_data"
    },
    {
     "data": {
      "text/html": [
       "<b title=\"local github\">data:</b> <span title=\"repo clone offline under ~/github\">~/github/Nino-cunei/uruk/tf/uruk/1.0</span>"
      ],
      "text/plain": [
       "<IPython.core.display.HTML object>"
      ]
     },
     "metadata": {},
     "output_type": "display_data"
    },
    {
     "data": {
      "text/html": [
       "<b>Text-Fabric:</b> <a target=\"_blank\" href=\"https://annotation.github.io/text-fabric/cheatsheet.html\" title=\"text-fabric-api\">Text-Fabric API 8.3.0</a>, <a target=\"_blank\" href=\"https://github.com/annotation/app-uruk\" title=\"uruk TF-app\">app-uruk</a>, <a target=\"_blank\" href=\"https://annotation.github.io/text-fabric/about/searchusage.html\" title=\"Search Templates Introduction and Reference\">Search Reference</a><br><b>Data:</b> <a target=\"_blank\" href=\"https://github.com/Nino-cunei/uruk/blob/master/docs/about.md\" title=\"provenance of Uruk IV/III: Proto-cuneiform tablets \">URUK</a>, <a target=\"_blank\" href=\"https://annotation.github.io/text-fabric/writing/.html\" title=\"How TF features represent text\">Character table</a>, <a target=\"_blank\" href=\"https://github.com/Nino-cunei/uruk/blob/master/docs/transcription.md\" title=\"URUK feature documentation\">Feature docs</a><br><b>Features:</b><br><details><summary><b>Uruk IV/III: Proto-cuneiform tablets </b></summary><a target=\"_blank\" href=\"https://github.com/Nino-cunei/uruk/blob/master/docs/transcription.md\" title=\"~/github/Nino-cunei/uruk/tf/uruk/1.0/catalogId.tf\">catalogId</a><br><a target=\"_blank\" href=\"https://github.com/Nino-cunei/uruk/blob/master/docs/transcription.md\" title=\"~/github/Nino-cunei/uruk/tf/uruk/1.0/crossref.tf\">crossref</a><br><a target=\"_blank\" href=\"https://github.com/Nino-cunei/uruk/blob/master/docs/transcription.md\" title=\"~/github/Nino-cunei/uruk/tf/uruk/1.0/damage.tf\">damage</a><br><a target=\"_blank\" href=\"https://github.com/Nino-cunei/uruk/blob/master/docs/transcription.md\" title=\"~/github/Nino-cunei/uruk/tf/uruk/1.0/depth.tf\">depth</a><br><a target=\"_blank\" href=\"https://github.com/Nino-cunei/uruk/blob/master/docs/transcription.md\" title=\"~/github/Nino-cunei/uruk/tf/uruk/1.0/excavation.tf\">excavation</a><br><a target=\"_blank\" href=\"https://github.com/Nino-cunei/uruk/blob/master/docs/transcription.md\" title=\"~/github/Nino-cunei/uruk/tf/uruk/1.0/fragment.tf\">fragment</a><br><a target=\"_blank\" href=\"https://github.com/Nino-cunei/uruk/blob/master/docs/transcription.md\" title=\"~/github/Nino-cunei/uruk/tf/uruk/1.0/fullNumber.tf\">fullNumber</a><br><a target=\"_blank\" href=\"https://github.com/Nino-cunei/uruk/blob/master/docs/transcription.md\" title=\"~/github/Nino-cunei/uruk/tf/uruk/1.0/grapheme.tf\">grapheme</a><br><a target=\"_blank\" href=\"https://github.com/Nino-cunei/uruk/blob/master/docs/transcription.md\" title=\"~/github/Nino-cunei/uruk/tf/uruk/1.0/identifier.tf\">identifier</a><br><a target=\"_blank\" href=\"https://github.com/Nino-cunei/uruk/blob/master/docs/transcription.md\" title=\"~/github/Nino-cunei/uruk/tf/uruk/1.0/modifier.tf\">modifier</a><br><a target=\"_blank\" href=\"https://github.com/Nino-cunei/uruk/blob/master/docs/transcription.md\" title=\"~/github/Nino-cunei/uruk/tf/uruk/1.0/modifierFirst.tf\">modifierFirst</a><br><a target=\"_blank\" href=\"https://github.com/Nino-cunei/uruk/blob/master/docs/transcription.md\" title=\"~/github/Nino-cunei/uruk/tf/uruk/1.0/modifierInner.tf\">modifierInner</a><br><a target=\"_blank\" href=\"https://github.com/Nino-cunei/uruk/blob/master/docs/transcription.md\" title=\"~/github/Nino-cunei/uruk/tf/uruk/1.0/name.tf\">name</a><br><a target=\"_blank\" href=\"https://github.com/Nino-cunei/uruk/blob/master/docs/transcription.md\" title=\"~/github/Nino-cunei/uruk/tf/uruk/1.0/number.tf\">number</a><br><a target=\"_blank\" href=\"https://github.com/Nino-cunei/uruk/blob/master/docs/transcription.md\" title=\"~/github/Nino-cunei/uruk/tf/uruk/1.0/otype.tf\">otype</a><br><a target=\"_blank\" href=\"https://github.com/Nino-cunei/uruk/blob/master/docs/transcription.md\" title=\"~/github/Nino-cunei/uruk/tf/uruk/1.0/period.tf\">period</a><br><a target=\"_blank\" href=\"https://github.com/Nino-cunei/uruk/blob/master/docs/transcription.md\" title=\"~/github/Nino-cunei/uruk/tf/uruk/1.0/prime.tf\">prime</a><br><a target=\"_blank\" href=\"https://github.com/Nino-cunei/uruk/blob/master/docs/transcription.md\" title=\"~/github/Nino-cunei/uruk/tf/uruk/1.0/remarkable.tf\">remarkable</a><br><a target=\"_blank\" href=\"https://github.com/Nino-cunei/uruk/blob/master/docs/transcription.md\" title=\"~/github/Nino-cunei/uruk/tf/uruk/1.0/repeat.tf\">repeat</a><br><a target=\"_blank\" href=\"https://github.com/Nino-cunei/uruk/blob/master/docs/transcription.md\" title=\"~/github/Nino-cunei/uruk/tf/uruk/1.0/srcLn.tf\">srcLn</a><br><a target=\"_blank\" href=\"https://github.com/Nino-cunei/uruk/blob/master/docs/transcription.md\" title=\"~/github/Nino-cunei/uruk/tf/uruk/1.0/srcLnNum.tf\">srcLnNum</a><br><a target=\"_blank\" href=\"https://github.com/Nino-cunei/uruk/blob/master/docs/transcription.md\" title=\"~/github/Nino-cunei/uruk/tf/uruk/1.0/terminal.tf\">terminal</a><br><a target=\"_blank\" href=\"https://github.com/Nino-cunei/uruk/blob/master/docs/transcription.md\" title=\"~/github/Nino-cunei/uruk/tf/uruk/1.0/text.tf\">text</a><br><a target=\"_blank\" href=\"https://github.com/Nino-cunei/uruk/blob/master/docs/transcription.md\" title=\"~/github/Nino-cunei/uruk/tf/uruk/1.0/type.tf\">type</a><br><a target=\"_blank\" href=\"https://github.com/Nino-cunei/uruk/blob/master/docs/transcription.md\" title=\"~/github/Nino-cunei/uruk/tf/uruk/1.0/uncertain.tf\">uncertain</a><br><a target=\"_blank\" href=\"https://github.com/Nino-cunei/uruk/blob/master/docs/transcription.md\" title=\"~/github/Nino-cunei/uruk/tf/uruk/1.0/variant.tf\">variant</a><br><a target=\"_blank\" href=\"https://github.com/Nino-cunei/uruk/blob/master/docs/transcription.md\" title=\"~/github/Nino-cunei/uruk/tf/uruk/1.0/variantOuter.tf\">variantOuter</a><br><a target=\"_blank\" href=\"https://github.com/Nino-cunei/uruk/blob/master/docs/transcription.md\" title=\"~/github/Nino-cunei/uruk/tf/uruk/1.0/written.tf\">written</a><br><b><i><a target=\"_blank\" href=\"https://github.com/Nino-cunei/uruk/blob/master/docs/transcription.md\" title=\"~/github/Nino-cunei/uruk/tf/uruk/1.0/comments.tf\">comments</a></i></b><br><b><i><a target=\"_blank\" href=\"https://github.com/Nino-cunei/uruk/blob/master/docs/transcription.md\" title=\"~/github/Nino-cunei/uruk/tf/uruk/1.0/op.tf\">op</a></i></b><br><b><i><a target=\"_blank\" href=\"https://github.com/Nino-cunei/uruk/blob/master/docs/transcription.md\" title=\"~/github/Nino-cunei/uruk/tf/uruk/1.0/oslots.tf\">oslots</a></i></b><br><b><i><a target=\"_blank\" href=\"https://github.com/Nino-cunei/uruk/blob/master/docs/transcription.md\" title=\"~/github/Nino-cunei/uruk/tf/uruk/1.0/sub.tf\">sub</a></i></b><br></details>"
      ],
      "text/plain": [
       "<IPython.core.display.HTML object>"
      ]
     },
     "metadata": {},
     "output_type": "display_data"
    },
    {
     "data": {
      "text/html": [
       "<style>tr.tf, td.tf, th.tf { text-align: left ! important;}@font-face {\n",
       "  font-family: \"Ezra SIL\";\n",
       "  src: local('Ezra SIL'), local('EzraSIL'),\n",
       "    url('/server/static/fonts/SILEOT.woff') format('woff'),\n",
       "    url('https://github.com/annotation/text-fabric/blob/master/tf/server/static/fonts/SILEOT.woff?raw=true') format('woff');\n",
       "}\n",
       "\n",
       "@font-face {\n",
       "  font-family: \"SBL Hebrew\";\n",
       "  src: local('SBL Hebrew'), local('SBLHebrew'),\n",
       "    url('/server/static/fonts/SBL_Hbrw.woff') format('woff'),\n",
       "    url('https://github.com/annotation/text-fabric/blob/master/tf/server/static/fonts/SBL_Hbrw.woff?raw=true') format('woff');\n",
       "}\n",
       "\n",
       "@font-face {\n",
       "  font-family: \"Estrangelo Edessa\";\n",
       "  src: local('Estrangelo Edessa'), local('EstrangeloEdessa');\n",
       "    url('/server/static/fonts/SyrCOMEdessa.woff') format('woff'),\n",
       "    url('https://github.com/annotation/text-fabric/blob/master/tf/server/static/fonts/SyrCOMEdessa.woff?raw=true') format('woff');\n",
       "}\n",
       "\n",
       "@font-face {\n",
       "  font-family: AmiriQuran;\n",
       "  font-style: normal;\n",
       "  font-weight: 400;\n",
       "  src: local('Amiri Quran'), local('AmiriQuran'),\n",
       "    url('/server/static/fonts/AmiriQuran.woff') format('woff'),\n",
       "    url('https://github.com/annotation/text-fabric/blob/master/tf/server/static/fonts/AmiriQuran.woff?raw=true') format('woff');\n",
       "}\n",
       "\n",
       "@font-face {\n",
       "  font-family: AmiriQuranColored;\n",
       "  font-style: normal;\n",
       "  font-weight: 400;\n",
       "  src: local('Amiri Quran Colored'), local('AmiriQuranColored'),\n",
       "    url('/server/static/fonts/AmiriQuranColored.woff') format('woff'),\n",
       "    url('https://github.com/annotation/text-fabric/blob/master/tf/server/static/fonts/AmiriQuranColored.woff?raw=true') format('woff');\n",
       "}\n",
       "\n",
       "@font-face {\n",
       "  font-family: \"Santakku\";\n",
       "  src: local('Santakku'),\n",
       "    url('/server/static/fonts/Santakku.woff') format('woff'),\n",
       "    url('https://github.com/annotation/text-fabric/blob/master/tf/server/static/fonts/Santakku.woff?raw=true') format('woff');\n",
       "}\n",
       "\n",
       "@font-face {\n",
       "  font-family: \"SantakkuM\";\n",
       "  src: local('SantakkuM'),\n",
       "    url('/server/static/fonts/SantakkuM.woff') format('woff'),\n",
       "    url('https://github.com/annotation/text-fabric/blob/master/tf/server/static/fonts/SantakkuM.woff?raw=true') format('woff');\n",
       "}\n",
       "/* bypassing some classical notebook settings */\n",
       "div#notebook {\n",
       "  line-height: unset;\n",
       "}\n",
       "/* neutral text */\n",
       ".txtn,.txtn a:visited,.txtn a:link {\n",
       "    font-family: sans-serif;\n",
       "    font-size: medium;\n",
       "    direction: ltr;\n",
       "    text-decoration: none;\n",
       "    color: var(--text-color);\n",
       "}\n",
       "/* transcription text */\n",
       ".txtt,.txtt a:visited,.txtt a:link {\n",
       "    font-family: monospace;\n",
       "    font-size: medium;\n",
       "    direction: ltr;\n",
       "    text-decoration: none;\n",
       "    color: var(--text-color);\n",
       "}\n",
       "/* source text */\n",
       ".txto,.txto a:visited,.txto a:link {\n",
       "    font-family: serif;\n",
       "    font-size: medium;\n",
       "    direction: ltr;\n",
       "    text-decoration: none;\n",
       "    color: var(--text-color);\n",
       "}\n",
       "/* phonetic text */\n",
       ".txtp,.txtp a:visited,.txtp a:link {\n",
       "    font-family: Gentium, sans-serif;\n",
       "    font-size: medium;\n",
       "    direction: ltr;\n",
       "    text-decoration: none;\n",
       "    color: var(--text-color);\n",
       "}\n",
       "/* original script text */\n",
       ".txtu,.txtu a:visited,.txtu a:link {\n",
       "    font-family: Gentium, sans-serif;\n",
       "    font-size: medium;\n",
       "    text-decoration: none;\n",
       "    color: var(--text-color);\n",
       "}\n",
       "/* hebrew */\n",
       ".txtu.hbo,.lex.hbo {\n",
       "    font-family: \"Ezra SIL\", \"SBL Hebrew\", sans-serif;\n",
       "    font-size: large;\n",
       "    direction: rtl ! important;\n",
       "    unicode-bidi: embed;\n",
       "}\n",
       "/* syriac */\n",
       ".txtu.syc,.lex.syc {\n",
       "    font-family: \"Estrangelo Edessa\", sans-serif;\n",
       "    font-size: medium;\n",
       "    direction: rtl ! important;\n",
       "    unicode-bidi: embed;\n",
       "}\n",
       "/* neo aramaic */\n",
       ".txtu.cld,.lex.cld {\n",
       "    font-family: \"CharisSIL-R\", sans-serif;\n",
       "    font-size: medium;\n",
       "    direction: ltr ! important;\n",
       "    unicode-bidi: embed;\n",
       "}\n",
       "/* standard arabic */\n",
       ".txtu.ara,.lex.ara {\n",
       "    font-family: \"AmiriQuran\", sans-serif;\n",
       "    font-size: large;\n",
       "    direction: rtl ! important;\n",
       "    unicode-bidi: embed;\n",
       "}\n",
       "/* cuneiform */\n",
       ".txtu.akk,.lex.akk {\n",
       "    font-family: Santakku, sans-serif;\n",
       "    font-size: large;\n",
       "    direction: ltr ! important;\n",
       "    unicode-bidi: embed;\n",
       "}\n",
       "/* greek */\n",
       ".txtu.grc,.lex.grc a:link {\n",
       "    font-family: Gentium, sans-serif;\n",
       "    font-size: medium;\n",
       "    direction: ltr ! important;\n",
       "    unicode-bidi: embed;\n",
       "}\n",
       "a:hover {\n",
       "    text-decoration: underline | important;\n",
       "    color: #0000ff | important;\n",
       "}\n",
       ".ltr {\n",
       "    direction: ltr ! important;\n",
       "}\n",
       ".rtl {\n",
       "    direction: rtl ! important;\n",
       "}\n",
       "span.plain {\n",
       "    display: inline-block;\n",
       "    white-space: pre-wrap;\n",
       "}\n",
       ".features {\n",
       "    font-family: monospace;\n",
       "    font-size: medium;\n",
       "    font-weight: bold;\n",
       "    color: var(--features);\n",
       "    display: flex;\n",
       "    flex-flow: column nowrap;\n",
       "    justify-content: flex-start;\n",
       "    align-items: flex-start;\n",
       "    align-content: flex-start;\n",
       "    padding: 0.1rem;\n",
       "    margin: 0.1rem;\n",
       "    direction: ltr;\n",
       "    border: var(--meta-width) solid var(--meta-color);\n",
       "    border-radius: var(--meta-width);\n",
       "}\n",
       ".features div,.features span {\n",
       "    padding: 0;\n",
       "    margin: -0.1rem 0;\n",
       "}\n",
       ".features .f {\n",
       "    font-family: sans-serif;\n",
       "    font-size: small;\n",
       "    font-weight: normal;\n",
       "    color: #5555bb;\n",
       "}\n",
       ".features .xft {\n",
       "  color: #000000;\n",
       "  background-color: #eeeeee;\n",
       "  font-size: medium;\n",
       "  margin: 0.1rem 0rem;\n",
       "}\n",
       ".features .xft .f {\n",
       "  color: #000000;\n",
       "  background-color: #eeeeee;\n",
       "  font-size: small;\n",
       "  font-weight: normal;\n",
       "}\n",
       ".section {\n",
       "    font-family: sans-serif;\n",
       "    font-size: small;\n",
       "    font-weight: bold;\n",
       "    color: var(--section);\n",
       "    unicode-bidi: embed;\n",
       "    text-align: start;\n",
       "}\n",
       ".structure {\n",
       "    font-family: sans-serif;\n",
       "    font-size: small;\n",
       "    font-weight: bold;\n",
       "    color: var(--structure);\n",
       "    unicode-bidi: embed;\n",
       "    text-align: start;\n",
       "}\n",
       ".comments {\n",
       "    display: flex;\n",
       "    justify-content: flex-start;\n",
       "    align-items: flex-start;\n",
       "    align-content: flex-start;\n",
       "    flex-flow: column nowrap;\n",
       "}\n",
       ".nd, a:link.nd {\n",
       "    font-family: sans-serif;\n",
       "    font-size: small;\n",
       "    color: var(--node);\n",
       "    vertical-align: super;\n",
       "    direction: ltr ! important;\n",
       "    unicode-bidi: embed;\n",
       "}\n",
       ".lex {\n",
       "  color: var(--lex-color);;\n",
       "}\n",
       ".children,.children.ltr {\n",
       "    display: flex;\n",
       "    border: 0;\n",
       "    background-color: #ffffff;\n",
       "    justify-content: flex-start;\n",
       "    align-items: flex-start;\n",
       "    align-content: flex-start;\n",
       "}\n",
       ".children.stretch {\n",
       "    align-items: stretch;\n",
       "}\n",
       ".children.hor {\n",
       "    flex-flow: row nowrap;\n",
       "}\n",
       ".children.hor.wrap {\n",
       "    flex-flow: row wrap;\n",
       "}\n",
       ".children.ver {\n",
       "    flex-flow: column nowrap;\n",
       "}\n",
       ".children.ver.wrap {\n",
       "    flex-flow: column wrap;\n",
       "}\n",
       ".contnr {\n",
       "    width: fit-content;\n",
       "    display: flex;\n",
       "    justify-content: flex-start;\n",
       "    align-items: flex-start;\n",
       "    align-content: flex-start;\n",
       "    flex-flow: column nowrap;\n",
       "    background: #ffffff none repeat scroll 0 0;\n",
       "    padding:  0.5rem 0.1rem 0.1rem 0.1rem;\n",
       "    margin: 0.8rem 0.1rem 0.1rem 0.1rem;\n",
       "    border-style: solid;\n",
       "    font-size: small;\n",
       "}\n",
       ".contnr.trm {\n",
       "    background-attachment: local;\n",
       "}\n",
       ".contnr.cnul {\n",
       "    padding:  0;\n",
       "    margin: 0;\n",
       "    border-style: solid;\n",
       "    font-size: xx-small;\n",
       "}\n",
       ".contnr.cnul,.lbl.cnul {\n",
       "    border-color: var(--border-color-nul);\n",
       "    border-width: var(--border-width-nul);\n",
       "    border-radius: var(--border-width-nul);\n",
       "}\n",
       ".contnr.c0,.lbl.c0 {\n",
       "    border-color: var(--border-color0);\n",
       "    border-width: var(--border-width0);\n",
       "    border-radius: var(--border-width0);\n",
       "}\n",
       ".contnr.c1,.lbl.c1 {\n",
       "    border-color: var(--border-color1);\n",
       "    border-width: var(--border-width1);\n",
       "    border-radius: var(--border-width1);\n",
       "}\n",
       ".contnr.c2,.lbl.c2 {\n",
       "    border-color: var(--border-color2);\n",
       "    border-width: var(--border-width2);\n",
       "    border-radius: var(--border-width2);\n",
       "}\n",
       ".contnr.c3,.lbl.c3 {\n",
       "    border-color: var(--border-color3);\n",
       "    border-width: var(--border-width3);\n",
       "    border-radius: var(--border-width3);\n",
       "}\n",
       ".contnr.c4,.lbl.c4 {\n",
       "    border-color: var(--border-color4);\n",
       "    border-width: var(--border-width4);\n",
       "    border-radius: var(--border-width4);\n",
       "}\n",
       ".plain.l,.contnr.l,.contnr.l>.lbl {\n",
       "    border-left-style: dotted\n",
       "}\n",
       ".plain.r,.contnr.r,.contnr.r>.lbl {\n",
       "    border-right-style: dotted\n",
       "}\n",
       ".plain.lno,.contnr.lno,.contnr.lno>.lbl {\n",
       "    border-left-style: none\n",
       "}\n",
       ".plain.rno,.contnr.rno,.contnr.rno>.lbl {\n",
       "    border-right-style: none\n",
       "}\n",
       ".plain.l {\n",
       "    padding-left: 0.2rem;\n",
       "    margin-left: 0.1rem;\n",
       "    border-width: var(--border-width-plain);\n",
       "}\n",
       ".plain.r {\n",
       "    padding-right: 0.2rem;\n",
       "    margin-right: 0.1rem;\n",
       "    border-width: var(--border-width-plain);\n",
       "}\n",
       ".lbl {\n",
       "    font-family: monospace;\n",
       "    margin-top: -1.2rem;\n",
       "    margin-left: 1rem;\n",
       "    background: #ffffff none repeat scroll 0 0;\n",
       "    padding: 0 0.3rem;\n",
       "    border-style: solid;\n",
       "    display: block;\n",
       "    color: var(--label)\n",
       "}\n",
       ".lbl.trm {\n",
       "    background-attachment: local;\n",
       "    margin-top: 0.1rem;\n",
       "    margin-left: 0.1rem;\n",
       "    padding: 0.1rem 0.1rem;\n",
       "    border-style: none;\n",
       "}\n",
       ".lbl.cnul {\n",
       "    font-size: xx-small;\n",
       "}\n",
       ".lbl.c0 {\n",
       "    font-size: small;\n",
       "}\n",
       ".lbl.c1 {\n",
       "    font-size: small;\n",
       "}\n",
       ".lbl.c2 {\n",
       "    font-size: medium;\n",
       "}\n",
       ".lbl.c3 {\n",
       "    font-size: medium;\n",
       "}\n",
       ".lbl.c4 {\n",
       "    font-size: large;\n",
       "}\n",
       ".occs, a:link.occs {\n",
       "    font-size: small;\n",
       "}\n",
       "\n",
       "/* PROVENANCE */\n",
       "\n",
       "div.prov {\n",
       "\tmargin: 2rem;\n",
       "\tpadding: 1rem;\n",
       "\tborder: 0.1rem solid var(--fog-rim);\n",
       "}\n",
       "div.pline {\n",
       "\tdisplay: flex;\n",
       "\tflex-flow: row nowrap;\n",
       "\tjustify-content: stretch;\n",
       "\talign-items: baseline;\n",
       "}\n",
       "div.p2line {\n",
       "\tmargin-left: 2em;\n",
       "\tdisplay: flex;\n",
       "\tflex-flow: row nowrap;\n",
       "\tjustify-content: stretch;\n",
       "\talign-items: baseline;\n",
       "}\n",
       "div.psline {\n",
       "\tdisplay: flex;\n",
       "\tflex-flow: row nowrap;\n",
       "\tjustify-content: stretch;\n",
       "\talign-items: baseline;\n",
       "\tbackground-color: var(--gold-mist-back);\n",
       "}\n",
       "div.pname {\n",
       "\tflex: 0 0 5rem;\n",
       "\tfont-weight: bold;\n",
       "}\n",
       "div.pval {\n",
       "    flex: 1 1 auto;\n",
       "}\n",
       "\n",
       ":root {\n",
       "\t--node:               hsla(120, 100%,  20%, 1.0  );\n",
       "\t--label:              hsla(  0, 100%,  20%, 1.0  );\n",
       "\t--section:            hsla(  0, 100%,  25%, 1.0  );\n",
       "\t--structure:          hsla(120, 100%,  25%, 1.0  );\n",
       "\t--features:           hsla(  0,   0%,  30%, 1.0  );\n",
       "  --text-color:         hsla( 60,  80%,  10%, 1.0  );\n",
       "  --lex-color:          hsla(220,  90%,  60%, 1.0  );\n",
       "  --meta-color:         hsla(  0,   0%,  90%, 0.7  );\n",
       "  --meta-width:         0.15rem;\n",
       "  --border-color-nul:   hsla(  0,   0%,  90%, 0.5  );\n",
       "  --border-color0:      hsla(  0,   0%,  90%, 0.9  );\n",
       "  --border-color1:      hsla(  0,   0%,  80%, 0.9  );\n",
       "  --border-color2:      hsla(  0,   0%,  70%, 0.9  );\n",
       "  --border-color3:      hsla(  0,   0%,  80%, 0.8  );\n",
       "  --border-color4:      hsla(  0,   0%,  60%, 0.9  );\n",
       "  --border-width-nul:   0.1rem;\n",
       "  --border-width0:      0.1rem;\n",
       "  --border-width1:      0.15rem;\n",
       "  --border-width2:      0.2rem;\n",
       "  --border-width3:      0.3rem;\n",
       "  --border-width4:      0.25rem;\n",
       "  --border-width-plain: 0.1rem;\n",
       "}\n",
       ".hl {\n",
       "  background-color: var(--hl-strong);\n",
       "}\n",
       "span.hl {\n",
       "\tbackground-color: var(--hl-strong);\n",
       "\tborder-width: 0;\n",
       "\tborder-radius: 0.1rem;\n",
       "\tborder-style: solid;\n",
       "}\n",
       "div.contnr.hl,div.lbl.hl {\n",
       "  background-color: var(--hl-strong);\n",
       "}\n",
       "div.contnr.hl {\n",
       "  border-color: var(--hl-rim) ! important;\n",
       "\tborder-width: 0.2rem ! important;\n",
       "}\n",
       "\n",
       "span.hlbx {\n",
       "\tborder-color: var(--hl-rim);\n",
       "\tborder-width: 0.2rem ! important;\n",
       "\tborder-style: solid;\n",
       "\tborder-radius: 0.3rem;\n",
       "  padding: 0.2rem;\n",
       "  margin: 0.2rem;\n",
       "}\n",
       "\n",
       "span.plain {\n",
       "  display: inline-block;\n",
       "  white-space: pre-wrap;\n",
       "}\n",
       "\n",
       ":root {\n",
       "\t--hl-strong:        hsla( 60, 100%,  70%, 0.9  );\n",
       "\t--hl-rim:           hsla( 55,  80%,  50%, 1.0  );\n",
       "}\n",
       ".contnr.cluster {\n",
       "    flex-flow: row wrap;\n",
       "    border: 0;\n",
       "}\n",
       ".meta .features {\n",
       "    background-color: #ffeedd;\n",
       "}\n",
       ".lbl.clusterb,.lbl.clustere {\n",
       "    padding:  0.5em 0.1em 0.1em 0.1em;\n",
       "    margin: 0.8em 0.1em 0.1em 0.1em;\n",
       "    color: #888844;\n",
       "    font-size: x-small;\n",
       "}\n",
       ".lbl.clusterb {\n",
       "    border-left: 0.3em solid #cccc99;\n",
       "    border-right: 0;\n",
       "    border-top: 0;\n",
       "    border-bottom: 0;\n",
       "    border-radius: 1rem;\n",
       "}\n",
       ".lbl.clustere {\n",
       "    border-left: 0;\n",
       "    border-right: 0.3em solid #cccc99;\n",
       "    border-top: 0;\n",
       "    border-bottom: 0;\n",
       "    border-radius: 1rem;\n",
       "}\n",
       ".op {\n",
       "    padding:  0.5em 0.1em 0.1em 0.1em;\n",
       "    margin: 0.8em 0.1em 0.1em 0.1em;\n",
       "    font-family: monospace;\n",
       "    font-size: x-large;\n",
       "    font-weight: bold;\n",
       "}\n",
       ".period {\n",
       "    font-family: monospace;\n",
       "    font-size: medium;\n",
       "    font-weight: bold;\n",
       "    color: #0000bb;\n",
       "}\n",
       ".excavation {\n",
       "    font-family: monospace;\n",
       "    font-size: medium;\n",
       "    font-style: italic;\n",
       "    color: #779900;\n",
       "}\n",
       "</style>"
      ],
      "text/plain": [
       "<IPython.core.display.HTML object>"
      ]
     },
     "metadata": {},
     "output_type": "display_data"
    },
    {
     "data": {
      "text/html": [
       "<div><b>Text-Fabric API:</b> names <a target=\"_blank\" href=\"https://annotation.github.io/text-fabric/cheatsheet.html\" title=\"doc\">N F E L T S C TF</a> directly usable</div><hr>"
      ],
      "text/plain": [
       "<IPython.core.display.HTML object>"
      ]
     },
     "metadata": {},
     "output_type": "display_data"
    },
    {
     "data": {
      "text/html": [
       "<b title=\"local github\">data:</b> <span title=\"repo clone offline under ~/github\">~/github/Nino-cunei/uruk/sources/cdli/images</span>"
      ],
      "text/plain": [
       "<IPython.core.display.HTML object>"
      ]
     },
     "metadata": {},
     "output_type": "display_data"
    },
    {
     "data": {
      "text/html": [
       "Found 2095 ideograph linearts<br>"
      ],
      "text/plain": [
       "<IPython.core.display.HTML object>"
      ]
     },
     "metadata": {},
     "output_type": "display_data"
    },
    {
     "data": {
      "text/html": [
       "Found 2724 tablet linearts<br>"
      ],
      "text/plain": [
       "<IPython.core.display.HTML object>"
      ]
     },
     "metadata": {},
     "output_type": "display_data"
    },
    {
     "data": {
      "text/html": [
       "Found 5495 tablet photos<br>"
      ],
      "text/plain": [
       "<IPython.core.display.HTML object>"
      ]
     },
     "metadata": {},
     "output_type": "display_data"
    }
   ],
   "source": [
    "A = use('uruk:clone', checkout=\"clone\", hoist=globals())"
   ]
  },
  {
   "cell_type": "code",
   "execution_count": 5,
   "metadata": {},
   "outputs": [
    {
     "name": "stdout",
     "output_type": "stream",
     "text": [
      "  8.39s All features loaded/computed - for details use loadLog()\n"
     ]
    },
    {
     "data": {
      "text/html": [
       "<style>tr.tf, td.tf, th.tf { text-align: left ! important;}@font-face {\n",
       "  font-family: \"Ezra SIL\";\n",
       "  src: local('Ezra SIL'), local('EzraSIL'),\n",
       "    url('/server/static/fonts/SILEOT.woff') format('woff'),\n",
       "    url('https://github.com/annotation/text-fabric/blob/master/tf/server/static/fonts/SILEOT.woff?raw=true') format('woff');\n",
       "}\n",
       "\n",
       "@font-face {\n",
       "  font-family: \"SBL Hebrew\";\n",
       "  src: local('SBL Hebrew'), local('SBLHebrew'),\n",
       "    url('/server/static/fonts/SBL_Hbrw.woff') format('woff'),\n",
       "    url('https://github.com/annotation/text-fabric/blob/master/tf/server/static/fonts/SBL_Hbrw.woff?raw=true') format('woff');\n",
       "}\n",
       "\n",
       "@font-face {\n",
       "  font-family: \"Estrangelo Edessa\";\n",
       "  src: local('Estrangelo Edessa'), local('EstrangeloEdessa');\n",
       "    url('/server/static/fonts/SyrCOMEdessa.woff') format('woff'),\n",
       "    url('https://github.com/annotation/text-fabric/blob/master/tf/server/static/fonts/SyrCOMEdessa.woff?raw=true') format('woff');\n",
       "}\n",
       "\n",
       "@font-face {\n",
       "  font-family: AmiriQuran;\n",
       "  font-style: normal;\n",
       "  font-weight: 400;\n",
       "  src: local('Amiri Quran'), local('AmiriQuran'),\n",
       "    url('/server/static/fonts/AmiriQuran.woff') format('woff'),\n",
       "    url('https://github.com/annotation/text-fabric/blob/master/tf/server/static/fonts/AmiriQuran.woff?raw=true') format('woff');\n",
       "}\n",
       "\n",
       "@font-face {\n",
       "  font-family: AmiriQuranColored;\n",
       "  font-style: normal;\n",
       "  font-weight: 400;\n",
       "  src: local('Amiri Quran Colored'), local('AmiriQuranColored'),\n",
       "    url('/server/static/fonts/AmiriQuranColored.woff') format('woff'),\n",
       "    url('https://github.com/annotation/text-fabric/blob/master/tf/server/static/fonts/AmiriQuranColored.woff?raw=true') format('woff');\n",
       "}\n",
       "\n",
       "@font-face {\n",
       "  font-family: \"Santakku\";\n",
       "  src: local('Santakku'),\n",
       "    url('/server/static/fonts/Santakku.woff') format('woff'),\n",
       "    url('https://github.com/annotation/text-fabric/blob/master/tf/server/static/fonts/Santakku.woff?raw=true') format('woff');\n",
       "}\n",
       "\n",
       "@font-face {\n",
       "  font-family: \"SantakkuM\";\n",
       "  src: local('SantakkuM'),\n",
       "    url('/server/static/fonts/SantakkuM.woff') format('woff'),\n",
       "    url('https://github.com/annotation/text-fabric/blob/master/tf/server/static/fonts/SantakkuM.woff?raw=true') format('woff');\n",
       "}\n",
       "/* bypassing some classical notebook settings */\n",
       "div#notebook {\n",
       "  line-height: unset;\n",
       "}\n",
       "/* neutral text */\n",
       ".txtn,.txtn a:visited,.txtn a:link {\n",
       "    font-family: sans-serif;\n",
       "    font-size: medium;\n",
       "    direction: ltr;\n",
       "    text-decoration: none;\n",
       "    color: var(--text-color);\n",
       "}\n",
       "/* transcription text */\n",
       ".txtt,.txtt a:visited,.txtt a:link {\n",
       "    font-family: monospace;\n",
       "    font-size: medium;\n",
       "    direction: ltr;\n",
       "    text-decoration: none;\n",
       "    color: var(--text-color);\n",
       "}\n",
       "/* source text */\n",
       ".txto,.txto a:visited,.txto a:link {\n",
       "    font-family: serif;\n",
       "    font-size: medium;\n",
       "    direction: ltr;\n",
       "    text-decoration: none;\n",
       "    color: var(--text-color);\n",
       "}\n",
       "/* phonetic text */\n",
       ".txtp,.txtp a:visited,.txtp a:link {\n",
       "    font-family: Gentium, sans-serif;\n",
       "    font-size: medium;\n",
       "    direction: ltr;\n",
       "    text-decoration: none;\n",
       "    color: var(--text-color);\n",
       "}\n",
       "/* original script text */\n",
       ".txtu,.txtu a:visited,.txtu a:link {\n",
       "    font-family: Gentium, sans-serif;\n",
       "    font-size: medium;\n",
       "    text-decoration: none;\n",
       "    color: var(--text-color);\n",
       "}\n",
       "/* hebrew */\n",
       ".txtu.hbo,.lex.hbo {\n",
       "    font-family: \"Ezra SIL\", \"SBL Hebrew\", sans-serif;\n",
       "    font-size: large;\n",
       "    direction: rtl ! important;\n",
       "    unicode-bidi: embed;\n",
       "}\n",
       "/* syriac */\n",
       ".txtu.syc,.lex.syc {\n",
       "    font-family: \"Estrangelo Edessa\", sans-serif;\n",
       "    font-size: medium;\n",
       "    direction: rtl ! important;\n",
       "    unicode-bidi: embed;\n",
       "}\n",
       "/* neo aramaic */\n",
       ".txtu.cld,.lex.cld {\n",
       "    font-family: \"CharisSIL-R\", sans-serif;\n",
       "    font-size: medium;\n",
       "    direction: ltr ! important;\n",
       "    unicode-bidi: embed;\n",
       "}\n",
       "/* standard arabic */\n",
       ".txtu.ara,.lex.ara {\n",
       "    font-family: \"AmiriQuran\", sans-serif;\n",
       "    font-size: large;\n",
       "    direction: rtl ! important;\n",
       "    unicode-bidi: embed;\n",
       "}\n",
       "/* cuneiform */\n",
       ".txtu.akk,.lex.akk {\n",
       "    font-family: Santakku, sans-serif;\n",
       "    font-size: large;\n",
       "    direction: ltr ! important;\n",
       "    unicode-bidi: embed;\n",
       "}\n",
       "/* greek */\n",
       ".txtu.grc,.lex.grc a:link {\n",
       "    font-family: Gentium, sans-serif;\n",
       "    font-size: medium;\n",
       "    direction: ltr ! important;\n",
       "    unicode-bidi: embed;\n",
       "}\n",
       "a:hover {\n",
       "    text-decoration: underline | important;\n",
       "    color: #0000ff | important;\n",
       "}\n",
       ".ltr {\n",
       "    direction: ltr ! important;\n",
       "}\n",
       ".rtl {\n",
       "    direction: rtl ! important;\n",
       "}\n",
       "span.plain {\n",
       "    display: inline-block;\n",
       "    white-space: pre-wrap;\n",
       "}\n",
       ".features {\n",
       "    font-family: monospace;\n",
       "    font-size: medium;\n",
       "    font-weight: bold;\n",
       "    color: var(--features);\n",
       "    display: flex;\n",
       "    flex-flow: column nowrap;\n",
       "    justify-content: flex-start;\n",
       "    align-items: flex-start;\n",
       "    align-content: flex-start;\n",
       "    padding: 0.1rem;\n",
       "    margin: 0.1rem;\n",
       "    direction: ltr;\n",
       "    border: var(--meta-width) solid var(--meta-color);\n",
       "    border-radius: var(--meta-width);\n",
       "}\n",
       ".features div,.features span {\n",
       "    padding: 0;\n",
       "    margin: -0.1rem 0;\n",
       "}\n",
       ".features .f {\n",
       "    font-family: sans-serif;\n",
       "    font-size: small;\n",
       "    font-weight: normal;\n",
       "    color: #5555bb;\n",
       "}\n",
       ".features .xft {\n",
       "  color: #000000;\n",
       "  background-color: #eeeeee;\n",
       "  font-size: medium;\n",
       "  margin: 0.1rem 0rem;\n",
       "}\n",
       ".features .xft .f {\n",
       "  color: #000000;\n",
       "  background-color: #eeeeee;\n",
       "  font-size: small;\n",
       "  font-weight: normal;\n",
       "}\n",
       ".section {\n",
       "    font-family: sans-serif;\n",
       "    font-size: small;\n",
       "    font-weight: bold;\n",
       "    color: var(--section);\n",
       "    unicode-bidi: embed;\n",
       "    text-align: start;\n",
       "}\n",
       ".structure {\n",
       "    font-family: sans-serif;\n",
       "    font-size: small;\n",
       "    font-weight: bold;\n",
       "    color: var(--structure);\n",
       "    unicode-bidi: embed;\n",
       "    text-align: start;\n",
       "}\n",
       ".comments {\n",
       "    display: flex;\n",
       "    justify-content: flex-start;\n",
       "    align-items: flex-start;\n",
       "    align-content: flex-start;\n",
       "    flex-flow: column nowrap;\n",
       "}\n",
       ".nd, a:link.nd {\n",
       "    font-family: sans-serif;\n",
       "    font-size: small;\n",
       "    color: var(--node);\n",
       "    vertical-align: super;\n",
       "    direction: ltr ! important;\n",
       "    unicode-bidi: embed;\n",
       "}\n",
       ".lex {\n",
       "  color: var(--lex-color);;\n",
       "}\n",
       ".children,.children.ltr {\n",
       "    display: flex;\n",
       "    border: 0;\n",
       "    background-color: #ffffff;\n",
       "    justify-content: flex-start;\n",
       "    align-items: flex-start;\n",
       "    align-content: flex-start;\n",
       "}\n",
       ".children.stretch {\n",
       "    align-items: stretch;\n",
       "}\n",
       ".children.hor {\n",
       "    flex-flow: row nowrap;\n",
       "}\n",
       ".children.hor.wrap {\n",
       "    flex-flow: row wrap;\n",
       "}\n",
       ".children.ver {\n",
       "    flex-flow: column nowrap;\n",
       "}\n",
       ".children.ver.wrap {\n",
       "    flex-flow: column wrap;\n",
       "}\n",
       ".contnr {\n",
       "    width: fit-content;\n",
       "    display: flex;\n",
       "    justify-content: flex-start;\n",
       "    align-items: flex-start;\n",
       "    align-content: flex-start;\n",
       "    flex-flow: column nowrap;\n",
       "    background: #ffffff none repeat scroll 0 0;\n",
       "    padding:  0.5rem 0.1rem 0.1rem 0.1rem;\n",
       "    margin: 0.8rem 0.1rem 0.1rem 0.1rem;\n",
       "    border-style: solid;\n",
       "    font-size: small;\n",
       "}\n",
       ".contnr.trm {\n",
       "    background-attachment: local;\n",
       "}\n",
       ".contnr.cnul {\n",
       "    padding:  0;\n",
       "    margin: 0;\n",
       "    border-style: solid;\n",
       "    font-size: xx-small;\n",
       "}\n",
       ".contnr.cnul,.lbl.cnul {\n",
       "    border-color: var(--border-color-nul);\n",
       "    border-width: var(--border-width-nul);\n",
       "    border-radius: var(--border-width-nul);\n",
       "}\n",
       ".contnr.c0,.lbl.c0 {\n",
       "    border-color: var(--border-color0);\n",
       "    border-width: var(--border-width0);\n",
       "    border-radius: var(--border-width0);\n",
       "}\n",
       ".contnr.c1,.lbl.c1 {\n",
       "    border-color: var(--border-color1);\n",
       "    border-width: var(--border-width1);\n",
       "    border-radius: var(--border-width1);\n",
       "}\n",
       ".contnr.c2,.lbl.c2 {\n",
       "    border-color: var(--border-color2);\n",
       "    border-width: var(--border-width2);\n",
       "    border-radius: var(--border-width2);\n",
       "}\n",
       ".contnr.c3,.lbl.c3 {\n",
       "    border-color: var(--border-color3);\n",
       "    border-width: var(--border-width3);\n",
       "    border-radius: var(--border-width3);\n",
       "}\n",
       ".contnr.c4,.lbl.c4 {\n",
       "    border-color: var(--border-color4);\n",
       "    border-width: var(--border-width4);\n",
       "    border-radius: var(--border-width4);\n",
       "}\n",
       ".plain.l,.contnr.l,.contnr.l>.lbl {\n",
       "    border-left-style: dotted\n",
       "}\n",
       ".plain.r,.contnr.r,.contnr.r>.lbl {\n",
       "    border-right-style: dotted\n",
       "}\n",
       ".plain.lno,.contnr.lno,.contnr.lno>.lbl {\n",
       "    border-left-style: none\n",
       "}\n",
       ".plain.rno,.contnr.rno,.contnr.rno>.lbl {\n",
       "    border-right-style: none\n",
       "}\n",
       ".plain.l {\n",
       "    padding-left: 0.2rem;\n",
       "    margin-left: 0.1rem;\n",
       "    border-width: var(--border-width-plain);\n",
       "}\n",
       ".plain.r {\n",
       "    padding-right: 0.2rem;\n",
       "    margin-right: 0.1rem;\n",
       "    border-width: var(--border-width-plain);\n",
       "}\n",
       ".lbl {\n",
       "    font-family: monospace;\n",
       "    margin-top: -1.2rem;\n",
       "    margin-left: 1rem;\n",
       "    background: #ffffff none repeat scroll 0 0;\n",
       "    padding: 0 0.3rem;\n",
       "    border-style: solid;\n",
       "    display: block;\n",
       "    color: var(--label)\n",
       "}\n",
       ".lbl.trm {\n",
       "    background-attachment: local;\n",
       "    margin-top: 0.1rem;\n",
       "    margin-left: 0.1rem;\n",
       "    padding: 0.1rem 0.1rem;\n",
       "    border-style: none;\n",
       "}\n",
       ".lbl.cnul {\n",
       "    font-size: xx-small;\n",
       "}\n",
       ".lbl.c0 {\n",
       "    font-size: small;\n",
       "}\n",
       ".lbl.c1 {\n",
       "    font-size: small;\n",
       "}\n",
       ".lbl.c2 {\n",
       "    font-size: medium;\n",
       "}\n",
       ".lbl.c3 {\n",
       "    font-size: medium;\n",
       "}\n",
       ".lbl.c4 {\n",
       "    font-size: large;\n",
       "}\n",
       ".occs, a:link.occs {\n",
       "    font-size: small;\n",
       "}\n",
       "\n",
       "/* PROVENANCE */\n",
       "\n",
       "div.prov {\n",
       "\tmargin: 2rem;\n",
       "\tpadding: 1rem;\n",
       "\tborder: 0.1rem solid var(--fog-rim);\n",
       "}\n",
       "div.pline {\n",
       "\tdisplay: flex;\n",
       "\tflex-flow: row nowrap;\n",
       "\tjustify-content: stretch;\n",
       "\talign-items: baseline;\n",
       "}\n",
       "div.p2line {\n",
       "\tmargin-left: 2em;\n",
       "\tdisplay: flex;\n",
       "\tflex-flow: row nowrap;\n",
       "\tjustify-content: stretch;\n",
       "\talign-items: baseline;\n",
       "}\n",
       "div.psline {\n",
       "\tdisplay: flex;\n",
       "\tflex-flow: row nowrap;\n",
       "\tjustify-content: stretch;\n",
       "\talign-items: baseline;\n",
       "\tbackground-color: var(--gold-mist-back);\n",
       "}\n",
       "div.pname {\n",
       "\tflex: 0 0 5rem;\n",
       "\tfont-weight: bold;\n",
       "}\n",
       "div.pval {\n",
       "    flex: 1 1 auto;\n",
       "}\n",
       "\n",
       ":root {\n",
       "\t--node:               hsla(120, 100%,  20%, 1.0  );\n",
       "\t--label:              hsla(  0, 100%,  20%, 1.0  );\n",
       "\t--section:            hsla(  0, 100%,  25%, 1.0  );\n",
       "\t--structure:          hsla(120, 100%,  25%, 1.0  );\n",
       "\t--features:           hsla(  0,   0%,  30%, 1.0  );\n",
       "  --text-color:         hsla( 60,  80%,  10%, 1.0  );\n",
       "  --lex-color:          hsla(220,  90%,  60%, 1.0  );\n",
       "  --meta-color:         hsla(  0,   0%,  90%, 0.7  );\n",
       "  --meta-width:         0.15rem;\n",
       "  --border-color-nul:   hsla(  0,   0%,  90%, 0.5  );\n",
       "  --border-color0:      hsla(  0,   0%,  90%, 0.9  );\n",
       "  --border-color1:      hsla(  0,   0%,  80%, 0.9  );\n",
       "  --border-color2:      hsla(  0,   0%,  70%, 0.9  );\n",
       "  --border-color3:      hsla(  0,   0%,  80%, 0.8  );\n",
       "  --border-color4:      hsla(  0,   0%,  60%, 0.9  );\n",
       "  --border-width-nul:   0.1rem;\n",
       "  --border-width0:      0.1rem;\n",
       "  --border-width1:      0.15rem;\n",
       "  --border-width2:      0.2rem;\n",
       "  --border-width3:      0.3rem;\n",
       "  --border-width4:      0.25rem;\n",
       "  --border-width-plain: 0.1rem;\n",
       "}\n",
       ".hl {\n",
       "  background-color: var(--hl-strong);\n",
       "}\n",
       "span.hl {\n",
       "\tbackground-color: var(--hl-strong);\n",
       "\tborder-width: 0;\n",
       "\tborder-radius: 0.1rem;\n",
       "\tborder-style: solid;\n",
       "}\n",
       "div.contnr.hl,div.lbl.hl {\n",
       "  background-color: var(--hl-strong);\n",
       "}\n",
       "div.contnr.hl {\n",
       "  border-color: var(--hl-rim) ! important;\n",
       "\tborder-width: 0.2rem ! important;\n",
       "}\n",
       "\n",
       "span.hlbx {\n",
       "\tborder-color: var(--hl-rim);\n",
       "\tborder-width: 0.2rem ! important;\n",
       "\tborder-style: solid;\n",
       "\tborder-radius: 0.3rem;\n",
       "  padding: 0.2rem;\n",
       "  margin: 0.2rem;\n",
       "}\n",
       "\n",
       "span.plain {\n",
       "  display: inline-block;\n",
       "  white-space: pre-wrap;\n",
       "}\n",
       "\n",
       ":root {\n",
       "\t--hl-strong:        hsla( 60, 100%,  70%, 0.9  );\n",
       "\t--hl-rim:           hsla( 55,  80%,  50%, 1.0  );\n",
       "}\n",
       ".contnr.cluster {\n",
       "    flex-flow: row wrap;\n",
       "    border: 0;\n",
       "}\n",
       ".meta .features {\n",
       "    background-color: #ffeedd;\n",
       "}\n",
       ".lbl.clusterb,.lbl.clustere {\n",
       "    padding:  0.5em 0.1em 0.1em 0.1em;\n",
       "    margin: 0.8em 0.1em 0.1em 0.1em;\n",
       "    color: #888844;\n",
       "    font-size: x-small;\n",
       "}\n",
       ".lbl.clusterb {\n",
       "    border-left: 0.3em solid #cccc99;\n",
       "    border-right: 0;\n",
       "    border-top: 0;\n",
       "    border-bottom: 0;\n",
       "    border-radius: 1rem;\n",
       "}\n",
       ".lbl.clustere {\n",
       "    border-left: 0;\n",
       "    border-right: 0.3em solid #cccc99;\n",
       "    border-top: 0;\n",
       "    border-bottom: 0;\n",
       "    border-radius: 1rem;\n",
       "}\n",
       ".op {\n",
       "    padding:  0.5em 0.1em 0.1em 0.1em;\n",
       "    margin: 0.8em 0.1em 0.1em 0.1em;\n",
       "    font-family: monospace;\n",
       "    font-size: x-large;\n",
       "    font-weight: bold;\n",
       "}\n",
       ".period {\n",
       "    font-family: monospace;\n",
       "    font-size: medium;\n",
       "    font-weight: bold;\n",
       "    color: #0000bb;\n",
       "}\n",
       ".excavation {\n",
       "    font-family: monospace;\n",
       "    font-size: medium;\n",
       "    font-style: italic;\n",
       "    color: #779900;\n",
       "}\n",
       "</style>"
      ],
      "text/plain": [
       "<IPython.core.display.HTML object>"
      ]
     },
     "metadata": {},
     "output_type": "display_data"
    }
   ],
   "source": [
    "A.reuse()"
   ]
  },
  {
   "cell_type": "markdown",
   "metadata": {},
   "source": [
    "# Tablets in plain"
   ]
  },
  {
   "cell_type": "code",
   "execution_count": 4,
   "metadata": {},
   "outputs": [
    {
     "data": {
      "text/html": [
       "<div class=\"\"><span class=\"section \"><a target=\"_blank\" href=\"https://cdli.ucla.edu/search/search_results.php?SearchMode=Text&amp;ObjectID=P006427\" title=\"to CDLI main page for this tablet\" sec=\"P006427\">P006427</a></span>  <span class=\"txtu \"><span class=\"section\"> </span></span></div>"
      ],
      "text/plain": [
       "<IPython.core.display.HTML object>"
      ]
     },
     "metadata": {},
     "output_type": "display_data"
    },
    {
     "data": {
      "text/html": [
       "<table><tr class=\"tf\"><th class=\"tf\">n</th><th class=\"tf\">p</th><th class=\"tf\">tablet</th></tr><tr class=\"tf\"><td class=\"tf\">1</td><td class=\"tf\"><span class=\"section ltr\"><a target=\"_blank\" href=\"https://cdli.ucla.edu/search/search_results.php?SearchMode=Text&amp;ObjectID=P006427\" title=\"to CDLI main page for this tablet\" sec=\"P006427\">P006427</a></span></td><td class=\"tf\"><div class=\"\"><span class=\"txtu \"><span class=\"section\">P006427</span></span></div></td></tr></table>"
      ],
      "text/plain": [
       "<IPython.core.display.HTML object>"
      ]
     },
     "metadata": {},
     "output_type": "display_data"
    },
    {
     "data": {
      "text/html": [
       "<p><b>result</b> <i>1</i></p>"
      ],
      "text/plain": [
       "<IPython.core.display.HTML object>"
      ]
     },
     "metadata": {},
     "output_type": "display_data"
    },
    {
     "data": {
      "text/html": [
       "<div class=\"section \"><a target=\"_blank\" href=\"https://cdli.ucla.edu/search/search_results.php?SearchMode=Text&amp;ObjectID=P006427\" title=\"to CDLI main page for this tablet\" sec=\"P006427\">P006427</a></div><div class=\" children\"><div class=\"contnr c4    \" ><div class=\"lbl c4  \" ><span class=\"nd\">tablet</span> <span class=\"txtu\"><span class=\"section\">P006427</span></span></div><div class='features'><span class=\"name \" title=\"name\">Anonymous 006427</span><span class=\"period \" title=\"period\">uruk-iii</span></div><div class=\"children ver  \"><div class=\"contnr c1 trm   \" ><div class=\"lbl c1 trm \" ><span class=\"nd\">comment</span> <span class=\"txtu\"><span class=\"plain \" ></span> </span></div></div><div class=\"contnr c2    \" ><div class=\"lbl c2  \" ><span class=\"nd\">face</span> <span class=\"txtu\"><span title=\"type\">obverse</span></span></div><div class=\"children hor  \"><div class=\"contnr c3    \" ><div class=\"lbl c3  \" ><span class=\"nd\">column</span> <span class=\"txtu\"><span title=\"number\">1</span><span title=\"prime\"></span></span></div><div class=\"children ver  \"><div class=\"contnr c2    \" ><div class=\"lbl c2  \" ><span class=\"nd\">line</span> <span class=\"txtu\"><span title=\"number\">1</span></span></div><div class=\"children hor  \"><div class=\"contnr c1 cluster trm   \" ><div class=\"lbl c1 clusterb trm \" ><span class=\"nd\">cluster</span> <span class=\"txtu\"><span title=\"type\">?</span></span></div></div><div class=\"children hor wrap \"><div class=\"contnr c0 trm   \" ><div class=\"lbl c0 trm \" ><span class=\"txtu\"><span title=\"atf\">...</span></span></div></div></div><div class=\"contnr c1 cluster {}   \" ><div class=\"lbl c1 clustere trm \" ><span class=\"nd\">cluster</span> <span class=\"txtu\"><span title=\"type\">?</span></span></div> </div><div class=\"contnr c0 trm   \" ><div class=\"lbl c0 trm \" ><span class=\"txtu\"><span title=\"atf\">X</span></span></div></div><div class=\"contnr c0 trm   \" ><div class=\"lbl c0 trm \" ><span class=\"txtu\"><span title=\"atf\">X</span></span></div></div></div></div></div></div><div class=\"contnr c3    \" ><div class=\"lbl c3  \" ><span class=\"nd\">column</span> <span class=\"txtu\"><span title=\"number\">2</span><span title=\"prime\"></span></span></div><div class=\"children ver  \"><div class=\"contnr c2    \" ><div class=\"lbl c2  \" ><span class=\"nd\">line</span> <span class=\"txtu\"><span title=\"number\">1</span></span></div><div class=\"children hor  \"><div class=\"contnr c0 trm   \" ><div class=\"lbl c0 trm \" ><span class=\"txtu\"><span title=\"atf\">3(N14)</span></span></div><div><a target=\"_blank\" href=\"https://cdli.ucla.edu/tools/SignLists/protocuneiform/archsigns/3(N14).jpg\" title=\"to higher resolution lineart on CDLI\"><img src=\"cdli-imagery/lineart-3(n14).jpg\" style=\"display: inline;max-width: 2em; max-height: 6em;\"  /></a></div></div><div class=\"contnr c0 trm   \" ><div class=\"lbl c0 trm \" ><span class=\"txtu\"><span title=\"atf\">X</span></span></div></div><div class=\"contnr c0 trm   \" ><div class=\"lbl c0 trm \" ><span class=\"txtu\"><span title=\"atf\">SANGA~a?</span></span></div><div><a target=\"_blank\" href=\"https://cdli.ucla.edu/tools/SignLists/protocuneiform/archsigns/SANGA~a.jpg\" title=\"to higher resolution lineart on CDLI\"><img src=\"cdli-imagery/lineart-sanga-a.jpg\" style=\"display: inline;max-width: 2em; max-height: 6em;\"  /></a></div></div><div class=\"contnr c1 cluster trm   \" ><div class=\"lbl c1 clusterb trm \" ><span class=\"nd\">cluster</span> <span class=\"txtu\"><span title=\"type\">?</span></span></div></div><div class=\"children hor wrap \"><div class=\"contnr c0 trm   \" ><div class=\"lbl c0 trm \" ><span class=\"txtu\"><span title=\"atf\">...</span></span></div></div></div><div class=\"contnr c1 cluster {}   \" ><div class=\"lbl c1 clustere trm \" ><span class=\"nd\">cluster</span> <span class=\"txtu\"><span title=\"type\">?</span></span></div> </div></div></div></div></div></div></div></div></div></div>"
      ],
      "text/plain": [
       "<IPython.core.display.HTML object>"
      ]
     },
     "metadata": {},
     "output_type": "display_data"
    }
   ],
   "source": [
    "t = F.otype.s('tablet')[0]\n",
    "A.plain(t)\n",
    "A.plainTuple((t,), 1)\n",
    "A.show(((t,),))"
   ]
  },
  {
   "cell_type": "markdown",
   "metadata": {},
   "source": [
    "# Graphics"
   ]
  },
  {
   "cell_type": "code",
   "execution_count": 5,
   "metadata": {},
   "outputs": [
    {
     "name": "stdout",
     "output_type": "stream",
     "text": [
      "  0.20s 11066 results\n"
     ]
    }
   ],
   "source": [
    "query = '''\n",
    "case\n",
    "  sign type=numeral\n",
    "'''\n",
    "\n",
    "results = A.search(query)"
   ]
  },
  {
   "cell_type": "code",
   "execution_count": 6,
   "metadata": {},
   "outputs": [
    {
     "data": {
      "text/html": [
       "<div class=\"\"><span class=\"section \"><a target=\"_blank\" href=\"https://cdli.ucla.edu/search/search_results.php?SearchMode=Text&amp;ObjectID=P448702\" title=\"to CDLI main page for this tablet\" sec=\"P448702 obverse:1:2\">P448702 obverse:1:2</a></span>  <span class=\"plain \" >2(N14)</span>  <a target=\"_blank\" href=\"https://cdli.ucla.edu/tools/SignLists/protocuneiform/archsigns/2(N14).jpg\" title=\"to higher resolution lineart on CDLI\"><img src=\"cdli-imagery/lineart-2(n14).jpg\" style=\"display: inline;max-width: 2em; max-height: 6em;\"  /></a></div>"
      ],
      "text/plain": [
       "<IPython.core.display.HTML object>"
      ]
     },
     "metadata": {},
     "output_type": "display_data"
    }
   ],
   "source": [
    "A.plain(results[1][1])"
   ]
  },
  {
   "cell_type": "code",
   "execution_count": 7,
   "metadata": {},
   "outputs": [
    {
     "data": {
      "text/html": [
       "<table><tr class=\"tf\"><th class=\"tf\">n</th><th class=\"tf\">p</th><th class=\"tf\">case</th><th class=\"tf\">sign</th></tr><tr class=\"tf\"><td class=\"tf\">1</td><td class=\"tf\"><span class=\"section ltr\"><a target=\"_blank\" href=\"https://cdli.ucla.edu/search/search_results.php?SearchMode=Text&amp;ObjectID=P448702\" title=\"to CDLI main page for this tablet\" sec=\"P448702 obverse:1:2\">P448702 obverse:1:2</a></span></td><td class=\"tf\"><div class=\"\"><span class=\"plain   hlbx\" ><span class=\"txtu \"><span title=\"number\">2a</span><span title=\"prime\">'</span></span><span class=\"plain \" >[<span class=\"plain hl\" >N</span>]</span> <span class=\"plain \" >2(N14)</span>  <a target=\"_blank\" href=\"https://cdli.ucla.edu/tools/SignLists/protocuneiform/archsigns/2(N14).jpg\" title=\"to higher resolution lineart on CDLI\"><img src=\"cdli-imagery/lineart-2(n14).jpg\" style=\"display: inline;max-width: 2em; max-height: 6em;\"  /></a><span class=\"plain \" >3(N01)</span>  <a target=\"_blank\" href=\"https://cdli.ucla.edu/tools/SignLists/protocuneiform/archsigns/3(N01).jpg\" title=\"to higher resolution lineart on CDLI\"><img src=\"cdli-imagery/lineart-3(n01).jpg\" style=\"display: inline;max-width: 2em; max-height: 6em;\"  /></a><span class=\"plain \" >KASZ~b</span>  <a target=\"_blank\" href=\"https://cdli.ucla.edu/tools/SignLists/protocuneiform/archsigns/KASZ~b.jpg\" title=\"to higher resolution lineart on CDLI\"><img src=\"cdli-imagery/lineart-kasz-b.jpg\" style=\"display: inline;max-width: 2em; max-height: 6em;\"  /></a><span class=\"plain \" >NUN~a</span>  <a target=\"_blank\" href=\"https://cdli.ucla.edu/tools/SignLists/protocuneiform/archsigns/NUN~a.jpg\" title=\"to higher resolution lineart on CDLI\"><img src=\"cdli-imagery/lineart-nun-a.jpg\" style=\"display: inline;max-width: 2em; max-height: 6em;\"  /></a></span></div></td><td class=\"tf\"><div class=\"\"><span class=\"plain   hl\" ><span class=\"plain hl\" >N</span> </span></div></td></tr></table>"
      ],
      "text/plain": [
       "<IPython.core.display.HTML object>"
      ]
     },
     "metadata": {},
     "output_type": "display_data"
    }
   ],
   "source": [
    "A.plainTuple(results[0], 1)"
   ]
  },
  {
   "cell_type": "code",
   "execution_count": 8,
   "metadata": {},
   "outputs": [
    {
     "data": {
      "text/html": [
       "<table><tr class=\"tf\"><th class=\"tf\">n</th><th class=\"tf\">p</th><th class=\"tf\">case</th><th class=\"tf\">sign</th></tr>\n",
       "<tr class=\"tf\"><td class=\"tf\">1</td><td class=\"tf\"><span class=\"section ltr\"><a target=\"_blank\" href=\"https://cdli.ucla.edu/search/search_results.php?SearchMode=Text&amp;ObjectID=P448702\" title=\"to CDLI main page for this tablet\" sec=\"P448702 obverse:1:2\">P448702 obverse:1:2</a></span></td><td class=\"tf\"><div class=\"\"><span class=\"plain   hlbx\" ><span class=\"txtu \"><span title=\"number\">2a</span><span title=\"prime\">'</span></span><span class=\"plain \" >[<span class=\"plain hl\" >N</span>]</span> <span class=\"plain \" >2(N14)</span>  <a target=\"_blank\" href=\"https://cdli.ucla.edu/tools/SignLists/protocuneiform/archsigns/2(N14).jpg\" title=\"to higher resolution lineart on CDLI\"><img src=\"cdli-imagery/lineart-2(n14).jpg\" style=\"display: inline;max-width: 2em; max-height: 6em;\"  /></a><span class=\"plain \" >3(N01)</span>  <a target=\"_blank\" href=\"https://cdli.ucla.edu/tools/SignLists/protocuneiform/archsigns/3(N01).jpg\" title=\"to higher resolution lineart on CDLI\"><img src=\"cdli-imagery/lineart-3(n01).jpg\" style=\"display: inline;max-width: 2em; max-height: 6em;\"  /></a><span class=\"plain \" >KASZ~b</span>  <a target=\"_blank\" href=\"https://cdli.ucla.edu/tools/SignLists/protocuneiform/archsigns/KASZ~b.jpg\" title=\"to higher resolution lineart on CDLI\"><img src=\"cdli-imagery/lineart-kasz-b.jpg\" style=\"display: inline;max-width: 2em; max-height: 6em;\"  /></a><span class=\"plain \" >NUN~a</span>  <a target=\"_blank\" href=\"https://cdli.ucla.edu/tools/SignLists/protocuneiform/archsigns/NUN~a.jpg\" title=\"to higher resolution lineart on CDLI\"><img src=\"cdli-imagery/lineart-nun-a.jpg\" style=\"display: inline;max-width: 2em; max-height: 6em;\"  /></a></span></div></td><td class=\"tf\"><div class=\"\"><span class=\"plain   hl\" ><span class=\"plain hl\" >N</span> </span></div></td></tr>\n",
       "<tr class=\"tf\"><td class=\"tf\">2</td><td class=\"tf\"><span class=\"section ltr\"><a target=\"_blank\" href=\"https://cdli.ucla.edu/search/search_results.php?SearchMode=Text&amp;ObjectID=P448702\" title=\"to CDLI main page for this tablet\" sec=\"P448702 obverse:1:2\">P448702 obverse:1:2</a></span></td><td class=\"tf\"><div class=\"\"><span class=\"plain   hlbx\" ><span class=\"txtu \"><span title=\"number\">2a</span><span title=\"prime\">'</span></span><span class=\"plain \" >[<span class=\"plain \" >N</span>]</span> <span class=\"plain   hl\" ><span class=\"plain hl\" >2(N14)</span>  <a target=\"_blank\" href=\"https://cdli.ucla.edu/tools/SignLists/protocuneiform/archsigns/2(N14).jpg\" title=\"to higher resolution lineart on CDLI\"><img src=\"cdli-imagery/lineart-2(n14).jpg\" style=\"display: inline;max-width: 2em; max-height: 6em;\"  /></a></span><span class=\"plain \" >3(N01)</span>  <a target=\"_blank\" href=\"https://cdli.ucla.edu/tools/SignLists/protocuneiform/archsigns/3(N01).jpg\" title=\"to higher resolution lineart on CDLI\"><img src=\"cdli-imagery/lineart-3(n01).jpg\" style=\"display: inline;max-width: 2em; max-height: 6em;\"  /></a><span class=\"plain \" >KASZ~b</span>  <a target=\"_blank\" href=\"https://cdli.ucla.edu/tools/SignLists/protocuneiform/archsigns/KASZ~b.jpg\" title=\"to higher resolution lineart on CDLI\"><img src=\"cdli-imagery/lineart-kasz-b.jpg\" style=\"display: inline;max-width: 2em; max-height: 6em;\"  /></a><span class=\"plain \" >NUN~a</span>  <a target=\"_blank\" href=\"https://cdli.ucla.edu/tools/SignLists/protocuneiform/archsigns/NUN~a.jpg\" title=\"to higher resolution lineart on CDLI\"><img src=\"cdli-imagery/lineart-nun-a.jpg\" style=\"display: inline;max-width: 2em; max-height: 6em;\"  /></a></span></div></td><td class=\"tf\"><div class=\"\"><span class=\"plain   hl\" ><span class=\"plain hl\" >2(N14)</span>  <a target=\"_blank\" href=\"https://cdli.ucla.edu/tools/SignLists/protocuneiform/archsigns/2(N14).jpg\" title=\"to higher resolution lineart on CDLI\"><img src=\"cdli-imagery/lineart-2(n14).jpg\" style=\"display: inline;max-width: 2em; max-height: 6em;\"  /></a></span></div></td></tr>\n",
       "<tr class=\"tf\"><td class=\"tf\">3</td><td class=\"tf\"><span class=\"section ltr\"><a target=\"_blank\" href=\"https://cdli.ucla.edu/search/search_results.php?SearchMode=Text&amp;ObjectID=P448702\" title=\"to CDLI main page for this tablet\" sec=\"P448702 obverse:1:2\">P448702 obverse:1:2</a></span></td><td class=\"tf\"><div class=\"\"><span class=\"plain   hlbx\" ><span class=\"txtu \"><span title=\"number\">2a</span><span title=\"prime\">'</span></span><span class=\"plain \" >[<span class=\"plain \" >N</span>]</span> <span class=\"plain \" >2(N14)</span>  <a target=\"_blank\" href=\"https://cdli.ucla.edu/tools/SignLists/protocuneiform/archsigns/2(N14).jpg\" title=\"to higher resolution lineart on CDLI\"><img src=\"cdli-imagery/lineart-2(n14).jpg\" style=\"display: inline;max-width: 2em; max-height: 6em;\"  /></a><span class=\"plain   hl\" ><span class=\"plain hl\" >3(N01)</span>  <a target=\"_blank\" href=\"https://cdli.ucla.edu/tools/SignLists/protocuneiform/archsigns/3(N01).jpg\" title=\"to higher resolution lineart on CDLI\"><img src=\"cdli-imagery/lineart-3(n01).jpg\" style=\"display: inline;max-width: 2em; max-height: 6em;\"  /></a></span><span class=\"plain \" >KASZ~b</span>  <a target=\"_blank\" href=\"https://cdli.ucla.edu/tools/SignLists/protocuneiform/archsigns/KASZ~b.jpg\" title=\"to higher resolution lineart on CDLI\"><img src=\"cdli-imagery/lineart-kasz-b.jpg\" style=\"display: inline;max-width: 2em; max-height: 6em;\"  /></a><span class=\"plain \" >NUN~a</span>  <a target=\"_blank\" href=\"https://cdli.ucla.edu/tools/SignLists/protocuneiform/archsigns/NUN~a.jpg\" title=\"to higher resolution lineart on CDLI\"><img src=\"cdli-imagery/lineart-nun-a.jpg\" style=\"display: inline;max-width: 2em; max-height: 6em;\"  /></a></span></div></td><td class=\"tf\"><div class=\"\"><span class=\"plain   hl\" ><span class=\"plain hl\" >3(N01)</span>  <a target=\"_blank\" href=\"https://cdli.ucla.edu/tools/SignLists/protocuneiform/archsigns/3(N01).jpg\" title=\"to higher resolution lineart on CDLI\"><img src=\"cdli-imagery/lineart-3(n01).jpg\" style=\"display: inline;max-width: 2em; max-height: 6em;\"  /></a></span></div></td></tr>\n",
       "<tr class=\"tf\"><td class=\"tf\">4</td><td class=\"tf\"><span class=\"section ltr\"><a target=\"_blank\" href=\"https://cdli.ucla.edu/search/search_results.php?SearchMode=Text&amp;ObjectID=P448702\" title=\"to CDLI main page for this tablet\" sec=\"P448702 obverse:1:2\">P448702 obverse:1:2</a></span></td><td class=\"tf\"><div class=\"\"><span class=\"plain   hlbx\" ><span class=\"txtu \"><span title=\"number\">2b</span><span title=\"prime\">'</span></span><span class=\"plain   hl\" ><span class=\"plain hl\" >3(N01)</span>  <a target=\"_blank\" href=\"https://cdli.ucla.edu/tools/SignLists/protocuneiform/archsigns/3(N01).jpg\" title=\"to higher resolution lineart on CDLI\"><img src=\"cdli-imagery/lineart-3(n01).jpg\" style=\"display: inline;max-width: 2em; max-height: 6em;\"  /></a></span><span class=\"plain \" >KASZ~a</span>  <a target=\"_blank\" href=\"https://cdli.ucla.edu/tools/SignLists/protocuneiform/archsigns/KASZ~a.jpg\" title=\"to higher resolution lineart on CDLI\"><img src=\"cdli-imagery/lineart-kasz-a.jpg\" style=\"display: inline;max-width: 2em; max-height: 6em;\"  /></a><span class=\"plain \" >GI</span>  <a target=\"_blank\" href=\"https://cdli.ucla.edu/tools/SignLists/protocuneiform/archsigns/GI.jpg\" title=\"to higher resolution lineart on CDLI\"><img src=\"cdli-imagery/lineart-gi.jpg\" style=\"display: inline;max-width: 2em; max-height: 6em;\"  /></a></span></div></td><td class=\"tf\"><div class=\"\"><span class=\"plain   hl\" ><span class=\"plain hl\" >3(N01)</span>  <a target=\"_blank\" href=\"https://cdli.ucla.edu/tools/SignLists/protocuneiform/archsigns/3(N01).jpg\" title=\"to higher resolution lineart on CDLI\"><img src=\"cdli-imagery/lineart-3(n01).jpg\" style=\"display: inline;max-width: 2em; max-height: 6em;\"  /></a></span></div></td></tr>\n",
       "<tr class=\"tf\"><td class=\"tf\">5</td><td class=\"tf\"><span class=\"section ltr\"><a target=\"_blank\" href=\"https://cdli.ucla.edu/search/search_results.php?SearchMode=Text&amp;ObjectID=P471695\" title=\"to CDLI main page for this tablet\" sec=\"P471695 obverse:1:1\">P471695 obverse:1:1</a></span></td><td class=\"tf\"><div class=\"\"><span class=\"plain   hlbx\" ><span class=\"txtu \"><span title=\"number\">1a</span><span title=\"prime\"></span></span><span class=\"plain   hl\" ><span class=\"plain hl\" >3(N01)</span>  <a target=\"_blank\" href=\"https://cdli.ucla.edu/tools/SignLists/protocuneiform/archsigns/3(N01).jpg\" title=\"to higher resolution lineart on CDLI\"><img src=\"cdli-imagery/lineart-3(n01).jpg\" style=\"display: inline;max-width: 2em; max-height: 6em;\"  /></a></span><span class=\"plain \" >APIN~a</span>  <a target=\"_blank\" href=\"https://cdli.ucla.edu/tools/SignLists/protocuneiform/archsigns/APIN~a.jpg\" title=\"to higher resolution lineart on CDLI\"><img src=\"cdli-imagery/lineart-apin-a.jpg\" style=\"display: inline;max-width: 2em; max-height: 6em;\"  /></a><span class=\"plain \" >3(N57)</span>  <a target=\"_blank\" href=\"https://cdli.ucla.edu/tools/SignLists/protocuneiform/archsigns/3(N57).jpg\" title=\"to higher resolution lineart on CDLI\"><img src=\"cdli-imagery/lineart-3(n57).jpg\" style=\"display: inline;max-width: 2em; max-height: 6em;\"  /></a><span class=\"plain \" >UR4~a</span>  <a target=\"_blank\" href=\"https://cdli.ucla.edu/tools/SignLists/protocuneiform/archsigns/UR4~a.jpg\" title=\"to higher resolution lineart on CDLI\"><img src=\"cdli-imagery/lineart-ur4-a.jpg\" style=\"display: inline;max-width: 2em; max-height: 6em;\"  /></a></span></div></td><td class=\"tf\"><div class=\"\"><span class=\"plain   hl\" ><span class=\"plain hl\" >3(N01)</span>  <a target=\"_blank\" href=\"https://cdli.ucla.edu/tools/SignLists/protocuneiform/archsigns/3(N01).jpg\" title=\"to higher resolution lineart on CDLI\"><img src=\"cdli-imagery/lineart-3(n01).jpg\" style=\"display: inline;max-width: 2em; max-height: 6em;\"  /></a></span></div></td></tr></table>"
      ],
      "text/plain": [
       "<IPython.core.display.HTML object>"
      ]
     },
     "metadata": {},
     "output_type": "display_data"
    }
   ],
   "source": [
    "A.table(results, end=5)"
   ]
  },
  {
   "cell_type": "markdown",
   "metadata": {},
   "source": [
    "# Examples"
   ]
  },
  {
   "cell_type": "code",
   "execution_count": 9,
   "metadata": {},
   "outputs": [
    {
     "data": {
      "text/markdown": [
       "## Example nodes\n"
      ],
      "text/plain": [
       "<IPython.core.display.Markdown object>"
      ]
     },
     "metadata": {},
     "output_type": "display_data"
    },
    {
     "data": {
      "text/html": [
       "<div class=\"\"><span class=\"section \"><a target=\"_blank\" href=\"https://cdli.ucla.edu/search/search_results.php?SearchMode=Text&amp;ObjectID=P005381\" title=\"to CDLI main page for this tablet\" sec=\"P005381 obverse:1:3\">P005381 obverse:1:3</a></span>  <span class=\"plain   \" ><span class=\"nd\">106597</span><span class=\"plain \" >2(N04)</span> </span></div>"
      ],
      "text/plain": [
       "<IPython.core.display.HTML object>"
      ]
     },
     "metadata": {},
     "output_type": "display_data"
    },
    {
     "data": {
      "text/html": [
       "<div class=\"section \"><a target=\"_blank\" href=\"https://cdli.ucla.edu/search/search_results.php?SearchMode=Text&amp;ObjectID=P005381\" title=\"to CDLI main page for this tablet\" sec=\"P005381 obverse:1:3\">P005381 obverse:1:3</a></div><div class=\" children\"><div class=\"contnr c0 trm   \" ><div class=\"lbl c0 trm \" ><span class=\"nd\">106597</span> <span class=\"txtu\"><span title=\"atf\">2(N04)#</span></span></div></div></div>"
      ],
      "text/plain": [
       "<IPython.core.display.HTML object>"
      ]
     },
     "metadata": {},
     "output_type": "display_data"
    },
    {
     "data": {
      "text/html": [
       "<div class=\"\"><span class=\"section \"><a target=\"_blank\" href=\"https://cdli.ucla.edu/search/search_results.php?SearchMode=Text&amp;ObjectID=P005381\" title=\"to CDLI main page for this tablet\" sec=\"P005381 obverse:1:1\">P005381 obverse:1:1</a></span>  <span class=\"plain   \" ><span class=\"nd\">106589</span><span class=\"plain \" >NUN~a</span> </span></div>"
      ],
      "text/plain": [
       "<IPython.core.display.HTML object>"
      ]
     },
     "metadata": {},
     "output_type": "display_data"
    },
    {
     "data": {
      "text/html": [
       "<div class=\"section \"><a target=\"_blank\" href=\"https://cdli.ucla.edu/search/search_results.php?SearchMode=Text&amp;ObjectID=P005381\" title=\"to CDLI main page for this tablet\" sec=\"P005381 obverse:1:1\">P005381 obverse:1:1</a></div><div class=\" children\"><div class=\"contnr c0 trm   \" ><div class=\"lbl c0 trm \" ><span class=\"nd\">106589</span> <span class=\"txtu\"><span title=\"atf\">NUN~a</span></span></div></div></div>"
      ],
      "text/plain": [
       "<IPython.core.display.HTML object>"
      ]
     },
     "metadata": {},
     "output_type": "display_data"
    },
    {
     "data": {
      "text/html": [
       "<div class=\"\"><span class=\"section \"><a target=\"_blank\" href=\"https://cdli.ucla.edu/search/search_results.php?SearchMode=Text&amp;ObjectID=P005381\" title=\"to CDLI main page for this tablet\" sec=\"P005381 obverse:1:1\">P005381 obverse:1:1</a></span>  <span class=\"plain   \" ><span class=\"nd\">143013</span><span class=\"plain \" >|<span class=\"plain \" >GISZ</span>.<span class=\"plain \" >TE</span>|</span> </span></div>"
      ],
      "text/plain": [
       "<IPython.core.display.HTML object>"
      ]
     },
     "metadata": {},
     "output_type": "display_data"
    },
    {
     "data": {
      "text/html": [
       "<div class=\"section \"><a target=\"_blank\" href=\"https://cdli.ucla.edu/search/search_results.php?SearchMode=Text&amp;ObjectID=P005381\" title=\"to CDLI main page for this tablet\" sec=\"P005381 obverse:1:1\">P005381 obverse:1:1</a></div><div class=\" children\"><div class=\"contnr c1    \" ><div class=\"lbl c1  \" ><span class=\"nd\">quad:143013</span></div><div class=\"children hor wrap \"><div class=\"contnr c0 trm   \" ><div class=\"lbl c0 trm \" ><span class=\"nd\">106591</span> <span class=\"txtu\"><span title=\"atf\">GISZ</span></span></div></div><div class=\"op\">.</div><div class=\"contnr c0 trm   \" ><div class=\"lbl c0 trm \" ><span class=\"nd\">106592</span> <span class=\"txtu\"><span title=\"atf\">TE</span></span></div></div></div></div></div>"
      ],
      "text/plain": [
       "<IPython.core.display.HTML object>"
      ]
     },
     "metadata": {},
     "output_type": "display_data"
    },
    {
     "data": {
      "text/html": [
       "<div class=\"\"><span class=\"section \"><a target=\"_blank\" href=\"https://cdli.ucla.edu/search/search_results.php?SearchMode=Text&amp;ObjectID=P005381\" title=\"to CDLI main page for this tablet\" sec=\"P005381 obverse:2:1\">P005381 obverse:2:1</a></span>  <span class=\"plain   \" ><span class=\"nd\">143015</span><span class=\"plain \" >|<span class=\"plain \" >SZU2</span>.<span class=\"plain \" >(<span class=\"plain \" >(<span class=\"plain \" >HI</span>+<span class=\"plain \" >1(N57)</span>)</span>+<span class=\"plain \" >(<span class=\"plain \" >HI</span>+<span class=\"plain \" >1(N57)</span>)</span>)</span>|</span> </span></div>"
      ],
      "text/plain": [
       "<IPython.core.display.HTML object>"
      ]
     },
     "metadata": {},
     "output_type": "display_data"
    },
    {
     "data": {
      "text/html": [
       "<div class=\"section \"><a target=\"_blank\" href=\"https://cdli.ucla.edu/search/search_results.php?SearchMode=Text&amp;ObjectID=P005381\" title=\"to CDLI main page for this tablet\" sec=\"P005381 obverse:2:1\">P005381 obverse:2:1</a></div><div class=\" children\"><div class=\"contnr c1    \" ><div class=\"lbl c1  \" ><span class=\"nd\">quad:143015</span></div><div class=\"children hor wrap \"><div class=\"contnr c0 trm   \" ><div class=\"lbl c0 trm \" ><span class=\"nd\">106606</span> <span class=\"txtu\"><span title=\"atf\">SZU2</span></span></div></div><div class=\"op\">.</div><div class=\"contnr c1    \" ><div class=\"lbl c1  \" ><span class=\"nd\">quad:143016</span></div><div class=\"children hor wrap \"><div class=\"contnr c1    \" ><div class=\"lbl c1  \" ><span class=\"nd\">quad:143017</span></div><div class=\"children hor wrap \"><div class=\"contnr c0 trm   \" ><div class=\"lbl c0 trm \" ><span class=\"nd\">106607</span> <span class=\"txtu\"><span title=\"atf\">HI</span></span></div></div><div class=\"op\">+</div><div class=\"contnr c0 trm   \" ><div class=\"lbl c0 trm \" ><span class=\"nd\">106608</span> <span class=\"txtu\"><span title=\"atf\">1(N57)</span></span></div></div></div></div><div class=\"op\">+</div><div class=\"contnr c1    \" ><div class=\"lbl c1  \" ><span class=\"nd\">quad:143018</span></div><div class=\"children hor wrap \"><div class=\"contnr c0 trm   \" ><div class=\"lbl c0 trm \" ><span class=\"nd\">106609</span> <span class=\"txtu\"><span title=\"atf\">HI</span></span></div></div><div class=\"op\">+</div><div class=\"contnr c0 trm   \" ><div class=\"lbl c0 trm \" ><span class=\"nd\">106610</span> <span class=\"txtu\"><span title=\"atf\">1(N57)</span></span></div></div></div></div></div></div></div></div></div>"
      ],
      "text/plain": [
       "<IPython.core.display.HTML object>"
      ]
     },
     "metadata": {},
     "output_type": "display_data"
    },
    {
     "data": {
      "text/html": [
       "<div class=\"\"><span class=\"section \"><a target=\"_blank\" href=\"https://cdli.ucla.edu/search/search_results.php?SearchMode=Text&amp;ObjectID=P471695\" title=\"to CDLI main page for this tablet\" sec=\"P471695 obverse:1:2\">P471695 obverse:1:2</a></span>  <span class=\"plain   \" ><span class=\"nd\">194488</span><span class=\"plain \" >(<span class=\"plain \" >IDIGNA</span> <span class=\"plain \" >[<span class=\"plain \" >...</span>]</span>)a</span> </span></div>"
      ],
      "text/plain": [
       "<IPython.core.display.HTML object>"
      ]
     },
     "metadata": {},
     "output_type": "display_data"
    },
    {
     "data": {
      "text/html": [
       "<div class=\"section \"><a target=\"_blank\" href=\"https://cdli.ucla.edu/search/search_results.php?SearchMode=Text&amp;ObjectID=P471695\" title=\"to CDLI main page for this tablet\" sec=\"P471695 obverse:1:2\">P471695 obverse:1:2</a></div><div class=\" children\"><div class=\"contnr c1 cluster trm   \" ><div class=\"lbl c1 clusterb trm \" ><span class=\"nd\">cluster:194488</span> <span class=\"txtu\"><span title=\"type\">=</span></span></div></div><div class=\"children hor wrap \"><div class=\"contnr c0 trm   \" ><div class=\"lbl c0 trm \" ><span class=\"nd\">133</span> <span class=\"txtu\"><span title=\"atf\">IDIGNA</span></span></div></div><div class=\"contnr c1 cluster trm   \" ><div class=\"lbl c1 clusterb trm \" ><span class=\"nd\">cluster:194489</span> <span class=\"txtu\"><span title=\"type\">?</span></span></div></div><div class=\"children hor wrap \"><div class=\"contnr c0 trm   \" ><div class=\"lbl c0 trm \" ><span class=\"nd\">134</span> <span class=\"txtu\"><span title=\"atf\">...</span></span></div></div></div><div class=\"contnr c1 cluster {}   \" ><div class=\"lbl c1 clustere trm \" ><span class=\"nd\">cluster:194489</span> <span class=\"txtu\"><span title=\"type\">?</span></span></div> </div></div><div class=\"contnr c1 cluster {}   \" ><div class=\"lbl c1 clustere trm \" ><span class=\"nd\">cluster:194488</span> <span class=\"txtu\"><span title=\"type\">=</span></span></div> </div></div>"
      ],
      "text/plain": [
       "<IPython.core.display.HTML object>"
      ]
     },
     "metadata": {},
     "output_type": "display_data"
    },
    {
     "data": {
      "text/html": [
       "<div class=\"\"><span class=\"section \"><a target=\"_blank\" href=\"https://cdli.ucla.edu/search/search_results.php?SearchMode=Text&amp;ObjectID=P005280\" title=\"to CDLI main page for this tablet\" sec=\"P005280 obverse:1:5\">P005280 obverse:1:5</a></span>  <span class=\"plain   \" ><span class=\"nd\">219151</span><span class=\"plain \" >(<span class=\"plain \" >SAG</span> <span class=\"plain \" >ERIM~a</span> <span class=\"plain \" >TAK4~a</span> <span class=\"plain \" >NI~a</span> <span class=\"plain \" >MUSZ3~a</span> <span class=\"plain \" >UR2</span> <span class=\"plain \" >DUR2</span>)a</span> </span></div>"
      ],
      "text/plain": [
       "<IPython.core.display.HTML object>"
      ]
     },
     "metadata": {},
     "output_type": "display_data"
    },
    {
     "data": {
      "text/html": [
       "<div class=\"section \"><a target=\"_blank\" href=\"https://cdli.ucla.edu/search/search_results.php?SearchMode=Text&amp;ObjectID=P005280\" title=\"to CDLI main page for this tablet\" sec=\"P005280 obverse:1:5\">P005280 obverse:1:5</a></div><div class=\" children\"><div class=\"contnr c1 cluster trm   \" ><div class=\"lbl c1 clusterb trm \" ><span class=\"nd\">cluster:219151</span> <span class=\"txtu\"><span title=\"type\">=</span></span></div></div><div class=\"children hor wrap \"><div class=\"contnr c0 trm   \" ><div class=\"lbl c0 trm \" ><span class=\"nd\">102837</span> <span class=\"txtu\"><span title=\"atf\">SAG</span></span></div></div><div class=\"contnr c0 trm   \" ><div class=\"lbl c0 trm \" ><span class=\"nd\">102838</span> <span class=\"txtu\"><span title=\"atf\">ERIM~a</span></span></div></div><div class=\"contnr c0 trm   \" ><div class=\"lbl c0 trm \" ><span class=\"nd\">102839</span> <span class=\"txtu\"><span title=\"atf\">TAK4~a</span></span></div></div><div class=\"contnr c0 trm   \" ><div class=\"lbl c0 trm \" ><span class=\"nd\">102840</span> <span class=\"txtu\"><span title=\"atf\">NI~a</span></span></div></div><div class=\"contnr c0 trm   \" ><div class=\"lbl c0 trm \" ><span class=\"nd\">102841</span> <span class=\"txtu\"><span title=\"atf\">MUSZ3~a</span></span></div></div><div class=\"contnr c0 trm   \" ><div class=\"lbl c0 trm \" ><span class=\"nd\">102842</span> <span class=\"txtu\"><span title=\"atf\">UR2</span></span></div></div><div class=\"contnr c0 trm   \" ><div class=\"lbl c0 trm \" ><span class=\"nd\">102843</span> <span class=\"txtu\"><span title=\"atf\">DUR2</span></span></div></div></div><div class=\"contnr c1 cluster {}   \" ><div class=\"lbl c1 clustere trm \" ><span class=\"nd\">cluster:219151</span> <span class=\"txtu\"><span title=\"type\">=</span></span></div> </div></div>"
      ],
      "text/plain": [
       "<IPython.core.display.HTML object>"
      ]
     },
     "metadata": {},
     "output_type": "display_data"
    },
    {
     "data": {
      "text/markdown": [
       "\n",
       "---\n",
       "## Example lines\n"
      ],
      "text/plain": [
       "<IPython.core.display.Markdown object>"
      ]
     },
     "metadata": {},
     "output_type": "display_data"
    },
    {
     "name": "stdout",
     "output_type": "stream",
     "text": [
      "['2.a. 1(N14) 2(N01) , [...] ', '2.b1. , (3(N57) PAP~a)a ', '2.b2. , (SZU KI X)a ', '$ n lines broken ', \"2.b3'. , (EN~a AN EZINU~d)a \", \"2.b4'. , (IDIGNA [...])a \", '$ rest broken ', '$ (for a total of 12 sub-cases with PNN) ']\n"
     ]
    },
    {
     "data": {
      "text/html": [
       "<div class=\"\"><span class=\"section \"><a target=\"_blank\" href=\"https://cdli.ucla.edu/search/search_results.php?SearchMode=Text&amp;ObjectID=P471695\" title=\"to CDLI main page for this tablet\" sec=\"P471695 obverse:1:2\">P471695 obverse:1:2</a></span>  <span class=\"plain   \" ><span class=\"nd\">227256</span><span class=\"txtu \"><span title=\"number\">2a</span><span title=\"prime\"></span></span><span class=\"plain \" >1(N14)</span> <span class=\"plain \" >2(N01)</span> <span class=\"plain \" >[<span class=\"plain \" >...</span>]</span> <span class=\"txtu \"><span title=\"number\">2b</span><span title=\"prime\"></span></span><span class=\"txtu \"><span title=\"number\">2b1</span><span title=\"prime\"></span></span><span class=\"plain \" >(<span class=\"plain \" >3(N57)</span> <span class=\"plain \" >PAP~a</span>)a</span> <span class=\"txtu \"><span title=\"number\">2b2</span><span title=\"prime\"></span></span><span class=\"plain \" ></span> <span class=\"plain \" >(<span class=\"plain \" >SZU</span> <span class=\"plain \" >KI</span> <span class=\"plain \" >X</span>)a</span> <span class=\"txtu \"><span title=\"number\">2b3</span><span title=\"prime\">'</span></span><span class=\"plain \" >(<span class=\"plain \" >EN~a</span> <span class=\"plain \" >AN</span> <span class=\"plain \" >EZINU~d</span>)a</span> <span class=\"txtu \"><span title=\"number\">2b4</span><span title=\"prime\">'</span></span><span class=\"plain \" ></span> <span class=\"plain \" ></span> <span class=\"plain   hlbx\"  style=\"border-color: goldenrod;\" ><span class=\"nd\">194488</span><span class=\"plain hl\"  style=\"background-color: goldenrod;\" >(<span class=\"plain \" >IDIGNA</span> <span class=\"plain \" >[<span class=\"plain \" >...</span>]</span>)a</span> </span></span></div>"
      ],
      "text/plain": [
       "<IPython.core.display.HTML object>"
      ]
     },
     "metadata": {},
     "output_type": "display_data"
    },
    {
     "data": {
      "text/html": [
       "<div class=\"section \"><a target=\"_blank\" href=\"https://cdli.ucla.edu/search/search_results.php?SearchMode=Text&amp;ObjectID=P471695\" title=\"to CDLI main page for this tablet\" sec=\"P471695 obverse:1:2\">P471695 obverse:1:2</a></div><div class=\" children\"><div class=\"contnr c2    \" ><div class=\"lbl c2  \" ><span class=\"nd\">line:227256</span> <span class=\"txtu\"><span title=\"number\">2</span></span></div><div class=\"children hor  \"><div class=\"contnr c2    \" ><div class=\"lbl c2  \" ><span class=\"nd\">case:159716</span> <span class=\"txtu\"><span title=\"number\">2a</span><span title=\"prime\"></span></span></div><div class=\"children ver False \"><div class=\"contnr c0 trm   \" ><div class=\"lbl c0 trm \" ><span class=\"nd\">119</span> <span class=\"txtu\"><span title=\"atf\">1(N14)</span></span></div></div><div class=\"contnr c0 trm   \" ><div class=\"lbl c0 trm \" ><span class=\"nd\">120</span> <span class=\"txtu\"><span title=\"atf\">2(N01)</span></span></div></div><div class=\"contnr c1 cluster trm   \" ><div class=\"lbl c1 clusterb trm \" ><span class=\"nd\">cluster:194484</span> <span class=\"txtu\"><span title=\"type\">?</span></span></div></div><div class=\"children hor wrap \"><div class=\"contnr c0 trm   \" ><div class=\"lbl c0 trm \" ><span class=\"nd\">121</span> <span class=\"txtu\"><span title=\"atf\">...</span></span></div></div></div><div class=\"contnr c1 cluster {}   \" ><div class=\"lbl c1 clustere trm \" ><span class=\"nd\">cluster:194484</span> <span class=\"txtu\"><span title=\"type\">?</span></span></div> </div></div></div><div class=\"contnr c2    \" ><div class=\"lbl c2  \" ><span class=\"nd\">case:159717</span> <span class=\"txtu\"><span title=\"number\">2b</span><span title=\"prime\"></span></span></div><div class=\"children ver False \"><div class=\"contnr c2    \" ><div class=\"lbl c2  \" ><span class=\"nd\">case:159718</span> <span class=\"txtu\"><span title=\"number\">2b1</span><span title=\"prime\"></span></span></div><div class=\"children hor False \"><div class=\"contnr c1 cluster trm   \" ><div class=\"lbl c1 clusterb trm \" ><span class=\"nd\">cluster:194485</span> <span class=\"txtu\"><span title=\"type\">=</span></span></div></div><div class=\"children hor wrap \"><div class=\"contnr c0 trm   \" ><div class=\"lbl c0 trm \" ><span class=\"nd\">122</span> <span class=\"txtu\"><span title=\"atf\">3(N57)</span></span></div></div><div class=\"contnr c0 trm   \" ><div class=\"lbl c0 trm \" ><span class=\"nd\">123</span> <span class=\"txtu\"><span title=\"atf\">PAP~a</span></span></div></div></div><div class=\"contnr c1 cluster {}   \" ><div class=\"lbl c1 clustere trm \" ><span class=\"nd\">cluster:194485</span> <span class=\"txtu\"><span title=\"type\">=</span></span></div> </div></div></div><div class=\"contnr c2    \" ><div class=\"lbl c2  \" ><span class=\"nd\">case:159719</span> <span class=\"txtu\"><span title=\"number\">2b2</span><span title=\"prime\"></span></span></div><div class=\"children hor False \"><div class=\"contnr c1 trm   \" ><div class=\"lbl c1 trm \" ><span class=\"nd\">comment:169375</span> <span class=\"txtu\"><span class=\"plain \" ></span> </span></div></div><div class=\"contnr c1 cluster trm   \" ><div class=\"lbl c1 clusterb trm \" ><span class=\"nd\">cluster:194486</span> <span class=\"txtu\"><span title=\"type\">=</span></span></div></div><div class=\"children hor wrap \"><div class=\"contnr c0 trm   \" ><div class=\"lbl c0 trm \" ><span class=\"nd\">125</span> <span class=\"txtu\"><span title=\"atf\">SZU</span></span></div></div><div class=\"contnr c0 trm   \" ><div class=\"lbl c0 trm \" ><span class=\"nd\">126</span> <span class=\"txtu\"><span title=\"atf\">KI</span></span></div></div><div class=\"contnr c0 trm   \" ><div class=\"lbl c0 trm \" ><span class=\"nd\">127</span> <span class=\"txtu\"><span title=\"atf\">X</span></span></div></div></div><div class=\"contnr c1 cluster {}   \" ><div class=\"lbl c1 clustere trm \" ><span class=\"nd\">cluster:194486</span> <span class=\"txtu\"><span title=\"type\">=</span></span></div> </div></div></div><div class=\"contnr c2    \" ><div class=\"lbl c2  \" ><span class=\"nd\">case:159720</span> <span class=\"txtu\"><span title=\"number\">2b3</span><span title=\"prime\">'</span></span></div><div class=\"children hor False \"><div class=\"contnr c1 cluster trm   \" ><div class=\"lbl c1 clusterb trm \" ><span class=\"nd\">cluster:194487</span> <span class=\"txtu\"><span title=\"type\">=</span></span></div></div><div class=\"children hor wrap \"><div class=\"contnr c0 trm   \" ><div class=\"lbl c0 trm \" ><span class=\"nd\">128</span> <span class=\"txtu\"><span title=\"atf\">EN~a</span></span></div></div><div class=\"contnr c0 trm   \" ><div class=\"lbl c0 trm \" ><span class=\"nd\">129</span> <span class=\"txtu\"><span title=\"atf\">AN</span></span></div></div><div class=\"contnr c0 trm   \" ><div class=\"lbl c0 trm \" ><span class=\"nd\">130</span> <span class=\"txtu\"><span title=\"atf\">EZINU~d</span></span></div></div></div><div class=\"contnr c1 cluster {}   \" ><div class=\"lbl c1 clustere trm \" ><span class=\"nd\">cluster:194487</span> <span class=\"txtu\"><span title=\"type\">=</span></span></div> </div></div></div><div class=\"contnr c2    \" ><div class=\"lbl c2  \" ><span class=\"nd\">case:159721</span> <span class=\"txtu\"><span title=\"number\">2b4</span><span title=\"prime\">'</span></span></div><div class=\"children hor False \"><div class=\"contnr c1 trm   \" ><div class=\"lbl c1 trm \" ><span class=\"nd\">comment:169376</span> <span class=\"txtu\"><span class=\"plain \" ></span> </span></div></div><div class=\"contnr c1 trm   \" ><div class=\"lbl c1 trm \" ><span class=\"nd\">comment:169377</span> <span class=\"txtu\"><span class=\"plain \" ></span> </span></div></div><div class=\"contnr c1 cluster trm   hl\"  style=\"background-color: goldenrod;\" ><div class=\"lbl c1 clusterb trm hl\"  style=\"background-color: goldenrod;\" ><span class=\"nd\">cluster:194488</span> <span class=\"txtu\"><span title=\"type\">=</span></span></div></div><div class=\"children hor wrap \"><div class=\"contnr c0 trm   \" ><div class=\"lbl c0 trm \" ><span class=\"nd\">133</span> <span class=\"txtu\"><span title=\"atf\">IDIGNA</span></span></div></div><div class=\"contnr c1 cluster trm   \" ><div class=\"lbl c1 clusterb trm \" ><span class=\"nd\">cluster:194489</span> <span class=\"txtu\"><span title=\"type\">?</span></span></div></div><div class=\"children hor wrap \"><div class=\"contnr c0 trm   \" ><div class=\"lbl c0 trm \" ><span class=\"nd\">134</span> <span class=\"txtu\"><span title=\"atf\">...</span></span></div></div></div><div class=\"contnr c1 cluster {}   \" ><div class=\"lbl c1 clustere trm \" ><span class=\"nd\">cluster:194489</span> <span class=\"txtu\"><span title=\"type\">?</span></span></div> </div></div><div class=\"contnr c1 cluster {}   hl\"  style=\"background-color: goldenrod;\" ><div class=\"lbl c1 clustere trm hl\"  style=\"background-color: goldenrod;\" ><span class=\"nd\">cluster:194488</span> <span class=\"txtu\"><span title=\"type\">=</span></span></div> </div></div></div></div></div></div></div></div>"
      ],
      "text/plain": [
       "<IPython.core.display.HTML object>"
      ]
     },
     "metadata": {},
     "output_type": "display_data"
    },
    {
     "name": "stdout",
     "output_type": "stream",
     "text": [
      "['5.a. 1(N01) , |SAGxMA| GESZTU~c5 |MUSZENx2(N57)| GI SZA E2~a AMA~a ', '5.b. , (SAG ERIM~a TAK4~a NI~a MUSZ3~a UR2 DUR2)a ']\n"
     ]
    },
    {
     "data": {
      "text/html": [
       "<div class=\"\"><span class=\"section \"><a target=\"_blank\" href=\"https://cdli.ucla.edu/search/search_results.php?SearchMode=Text&amp;ObjectID=P005280\" title=\"to CDLI main page for this tablet\" sec=\"P005280 obverse:1:5\">P005280 obverse:1:5</a></span>  <span class=\"plain   \" ><span class=\"nd\">253355</span><span class=\"txtu \"><span title=\"number\">5a</span><span title=\"prime\"></span></span><span class=\"plain \" >1(N01)</span> <span class=\"plain \" >|<span class=\"plain \" >SAG</span>x<span class=\"plain \" >MA</span>|</span> <span class=\"plain \" >GESZTU~c5</span> <span class=\"plain \" >|<span class=\"plain \" >MUSZEN</span>x<span class=\"plain \" >2(N57)</span>|</span> <span class=\"plain \" >GI</span> <span class=\"plain \" >SZA</span> <span class=\"plain \" >E2~a</span> <span class=\"plain \" >AMA~a</span> <span class=\"txtu \"><span title=\"number\">5b</span><span title=\"prime\"></span></span><span class=\"plain   hlbx\"  style=\"border-color: cornflowerblue;\" ><span class=\"nd\">219151</span><span class=\"plain hl\"  style=\"background-color: cornflowerblue;\" >(<span class=\"plain \" >SAG</span> <span class=\"plain \" >ERIM~a</span> <span class=\"plain \" >TAK4~a</span> <span class=\"plain \" >NI~a</span> <span class=\"plain \" >MUSZ3~a</span> <span class=\"plain \" >UR2</span> <span class=\"plain \" >DUR2</span>)a</span> </span></span></div>"
      ],
      "text/plain": [
       "<IPython.core.display.HTML object>"
      ]
     },
     "metadata": {},
     "output_type": "display_data"
    },
    {
     "data": {
      "text/html": [
       "<div class=\"section \"><a target=\"_blank\" href=\"https://cdli.ucla.edu/search/search_results.php?SearchMode=Text&amp;ObjectID=P005280\" title=\"to CDLI main page for this tablet\" sec=\"P005280 obverse:1:5\">P005280 obverse:1:5</a></div><div class=\" children\"><div class=\"contnr c2    \" ><div class=\"lbl c2  \" ><span class=\"nd\">line:253355</span> <span class=\"txtu\"><span title=\"number\">5</span></span></div><div class=\"children hor  \"><div class=\"contnr c2    \" ><div class=\"lbl c2  \" ><span class=\"nd\">case:167358</span> <span class=\"txtu\"><span title=\"number\">5a</span><span title=\"prime\"></span></span></div><div class=\"children ver False \"><div class=\"contnr c0 trm   \" ><div class=\"lbl c0 trm \" ><span class=\"nd\">102827</span> <span class=\"txtu\"><span title=\"atf\">1(N01)</span></span></div></div><div class=\"contnr c1    \" ><div class=\"lbl c1  \" ><span class=\"nd\">quad:142870</span></div><div class=\"children hor wrap \"><div class=\"contnr c0 trm   \" ><div class=\"lbl c0 trm \" ><span class=\"nd\">102828</span> <span class=\"txtu\"><span title=\"atf\">SAG</span></span></div></div><div class=\"op\">x</div><div class=\"contnr c0 trm   \" ><div class=\"lbl c0 trm \" ><span class=\"nd\">102829</span> <span class=\"txtu\"><span title=\"atf\">MA</span></span></div></div></div></div><div class=\"contnr c0 trm   \" ><div class=\"lbl c0 trm \" ><span class=\"nd\">102830</span> <span class=\"txtu\"><span title=\"atf\">GESZTU~c5</span></span></div></div><div class=\"contnr c1    \" ><div class=\"lbl c1  \" ><span class=\"nd\">quad:142871</span></div><div class=\"children hor wrap \"><div class=\"contnr c0 trm   \" ><div class=\"lbl c0 trm \" ><span class=\"nd\">102831</span> <span class=\"txtu\"><span title=\"atf\">MUSZEN</span></span></div></div><div class=\"op\">x</div><div class=\"contnr c0 trm   \" ><div class=\"lbl c0 trm \" ><span class=\"nd\">102832</span> <span class=\"txtu\"><span title=\"atf\">2(N57)</span></span></div></div></div></div><div class=\"contnr c0 trm   \" ><div class=\"lbl c0 trm \" ><span class=\"nd\">102833</span> <span class=\"txtu\"><span title=\"atf\">GI</span></span></div></div><div class=\"contnr c0 trm   \" ><div class=\"lbl c0 trm \" ><span class=\"nd\">102834</span> <span class=\"txtu\"><span title=\"atf\">SZA</span></span></div></div><div class=\"contnr c0 trm   \" ><div class=\"lbl c0 trm \" ><span class=\"nd\">102835</span> <span class=\"txtu\"><span title=\"atf\">E2~a</span></span></div></div><div class=\"contnr c0 trm   \" ><div class=\"lbl c0 trm \" ><span class=\"nd\">102836</span> <span class=\"txtu\"><span title=\"atf\">AMA~a</span></span></div></div></div></div><div class=\"contnr c2    \" ><div class=\"lbl c2  \" ><span class=\"nd\">case:167359</span> <span class=\"txtu\"><span title=\"number\">5b</span><span title=\"prime\"></span></span></div><div class=\"children ver False \"><div class=\"contnr c1 cluster trm   hl\"  style=\"background-color: cornflowerblue;\" ><div class=\"lbl c1 clusterb trm hl\"  style=\"background-color: cornflowerblue;\" ><span class=\"nd\">cluster:219151</span> <span class=\"txtu\"><span title=\"type\">=</span></span></div></div><div class=\"children hor wrap \"><div class=\"contnr c0 trm   \" ><div class=\"lbl c0 trm \" ><span class=\"nd\">102837</span> <span class=\"txtu\"><span title=\"atf\">SAG</span></span></div></div><div class=\"contnr c0 trm   \" ><div class=\"lbl c0 trm \" ><span class=\"nd\">102838</span> <span class=\"txtu\"><span title=\"atf\">ERIM~a</span></span></div></div><div class=\"contnr c0 trm   \" ><div class=\"lbl c0 trm \" ><span class=\"nd\">102839</span> <span class=\"txtu\"><span title=\"atf\">TAK4~a</span></span></div></div><div class=\"contnr c0 trm   \" ><div class=\"lbl c0 trm \" ><span class=\"nd\">102840</span> <span class=\"txtu\"><span title=\"atf\">NI~a</span></span></div></div><div class=\"contnr c0 trm   \" ><div class=\"lbl c0 trm \" ><span class=\"nd\">102841</span> <span class=\"txtu\"><span title=\"atf\">MUSZ3~a</span></span></div></div><div class=\"contnr c0 trm   \" ><div class=\"lbl c0 trm \" ><span class=\"nd\">102842</span> <span class=\"txtu\"><span title=\"atf\">UR2</span></span></div></div><div class=\"contnr c0 trm   \" ><div class=\"lbl c0 trm \" ><span class=\"nd\">102843</span> <span class=\"txtu\"><span title=\"atf\">DUR2</span></span></div></div></div><div class=\"contnr c1 cluster {}   hl\"  style=\"background-color: cornflowerblue;\" ><div class=\"lbl c1 clustere trm hl\"  style=\"background-color: cornflowerblue;\" ><span class=\"nd\">cluster:219151</span> <span class=\"txtu\"><span title=\"type\">=</span></span></div> </div></div></div></div></div></div>"
      ],
      "text/plain": [
       "<IPython.core.display.HTML object>"
      ]
     },
     "metadata": {},
     "output_type": "display_data"
    },
    {
     "name": "stdout",
     "output_type": "stream",
     "text": [
      "['1.a. 2(N14) , SZE~a SAL TUR3~a NUN~a ', '1.b. 3(N19) , |GISZ.TE| ']\n"
     ]
    },
    {
     "data": {
      "text/html": [
       "<div class=\"\"><span class=\"section \"><a target=\"_blank\" href=\"https://cdli.ucla.edu/search/search_results.php?SearchMode=Text&amp;ObjectID=P005381\" title=\"to CDLI main page for this tablet\" sec=\"P005381 obverse:1:1\">P005381 obverse:1:1</a></span>  <span class=\"plain   \" ><span class=\"nd\">254173</span><span class=\"txtu \"><span title=\"number\">1a</span><span title=\"prime\"></span></span><span class=\"plain \" >2(N14)</span> <span class=\"plain \" >SZE~a</span> <span class=\"plain \" >SAL</span> <span class=\"plain \" >TUR3~a</span> <span class=\"plain   hl\"  style=\"background-color: yellow;\" ><span class=\"nd\">106589</span><span class=\"plain hl\"  style=\"background-color: yellow;\" >NUN~a</span> </span><span class=\"txtu \"><span title=\"number\">1b</span><span title=\"prime\"></span></span><span class=\"plain \" >3(N19)</span> <span class=\"plain   hlbx\"  style=\"border-color: lightsalmon;\" ><span class=\"nd\">143013</span><span class=\"plain hl\"  style=\"background-color: lightsalmon;\" >|<span class=\"plain \" >GISZ</span>.<span class=\"plain \" >TE</span>|</span> </span></span></div>"
      ],
      "text/plain": [
       "<IPython.core.display.HTML object>"
      ]
     },
     "metadata": {},
     "output_type": "display_data"
    },
    {
     "data": {
      "text/html": [
       "<div class=\"section \"><a target=\"_blank\" href=\"https://cdli.ucla.edu/search/search_results.php?SearchMode=Text&amp;ObjectID=P005381\" title=\"to CDLI main page for this tablet\" sec=\"P005381 obverse:1:1\">P005381 obverse:1:1</a></div><div class=\" children\"><div class=\"contnr c2    \" ><div class=\"lbl c2  \" ><span class=\"nd\">line:254173</span> <span class=\"txtu\"><span title=\"number\">1</span></span></div><div class=\"children hor  \"><div class=\"contnr c2    \" ><div class=\"lbl c2  \" ><span class=\"nd\">case:167736</span> <span class=\"txtu\"><span title=\"number\">1a</span><span title=\"prime\"></span></span></div><div class=\"children ver False \"><div class=\"contnr c0 trm   \" ><div class=\"lbl c0 trm \" ><span class=\"nd\">106585</span> <span class=\"txtu\"><span title=\"atf\">2(N14)</span></span></div></div><div class=\"contnr c0 trm   \" ><div class=\"lbl c0 trm \" ><span class=\"nd\">106586</span> <span class=\"txtu\"><span title=\"atf\">SZE~a</span></span></div></div><div class=\"contnr c0 trm   \" ><div class=\"lbl c0 trm \" ><span class=\"nd\">106587</span> <span class=\"txtu\"><span title=\"atf\">SAL</span></span></div></div><div class=\"contnr c0 trm   \" ><div class=\"lbl c0 trm \" ><span class=\"nd\">106588</span> <span class=\"txtu\"><span title=\"atf\">TUR3~a</span></span></div></div><div class=\"contnr c0 trm   hl\"  style=\"background-color: yellow;\" ><div class=\"lbl c0 trm hl\"  style=\"background-color: yellow;\" ><span class=\"nd\">106589</span> <span class=\"txtu\"><span title=\"atf\">NUN~a</span></span></div></div></div></div><div class=\"contnr c2    \" ><div class=\"lbl c2  \" ><span class=\"nd\">case:167737</span> <span class=\"txtu\"><span title=\"number\">1b</span><span title=\"prime\"></span></span></div><div class=\"children ver False \"><div class=\"contnr c0 trm   \" ><div class=\"lbl c0 trm \" ><span class=\"nd\">106590</span> <span class=\"txtu\"><span title=\"atf\">3(N19)</span></span></div></div><div class=\"contnr c1    hl\"  style=\"background-color: lightsalmon;\" ><div class=\"lbl c1  hl\"  style=\"background-color: lightsalmon;\" ><span class=\"nd\">quad:143013</span></div><div class=\"children hor wrap \"><div class=\"contnr c0 trm   \" ><div class=\"lbl c0 trm \" ><span class=\"nd\">106591</span> <span class=\"txtu\"><span title=\"atf\">GISZ</span></span></div></div><div class=\"op\">.</div><div class=\"contnr c0 trm   \" ><div class=\"lbl c0 trm \" ><span class=\"nd\">106592</span> <span class=\"txtu\"><span title=\"atf\">TE</span></span></div></div></div></div></div></div></div></div></div>"
      ],
      "text/plain": [
       "<IPython.core.display.HTML object>"
      ]
     },
     "metadata": {},
     "output_type": "display_data"
    },
    {
     "name": "stdout",
     "output_type": "stream",
     "text": [
      "['3. 2(N04)# , PIRIG~b1 SIG7 URI3~a NUN~a ']\n"
     ]
    },
    {
     "data": {
      "text/html": [
       "<div class=\"\"><span class=\"section \"><a target=\"_blank\" href=\"https://cdli.ucla.edu/search/search_results.php?SearchMode=Text&amp;ObjectID=P005381\" title=\"to CDLI main page for this tablet\" sec=\"P005381 obverse:1:3\">P005381 obverse:1:3</a></span>  <span class=\"plain   \" ><span class=\"nd\">254175</span><span class=\"plain   hl\"  style=\"background-color: cyan;\" ><span class=\"nd\">106597</span><span class=\"plain hl\"  style=\"background-color: cyan;\" >2(N04)</span> </span><span class=\"plain \" >PIRIG~b1</span> <span class=\"plain \" >SIG7</span> <span class=\"plain \" >URI3~a</span> <span class=\"plain \" >NUN~a</span> </span></div>"
      ],
      "text/plain": [
       "<IPython.core.display.HTML object>"
      ]
     },
     "metadata": {},
     "output_type": "display_data"
    },
    {
     "data": {
      "text/html": [
       "<div class=\"section \"><a target=\"_blank\" href=\"https://cdli.ucla.edu/search/search_results.php?SearchMode=Text&amp;ObjectID=P005381\" title=\"to CDLI main page for this tablet\" sec=\"P005381 obverse:1:3\">P005381 obverse:1:3</a></div><div class=\" children\"><div class=\"contnr c2    \" ><div class=\"lbl c2  \" ><span class=\"nd\">line:254175</span> <span class=\"txtu\"><span title=\"number\">3</span></span></div><div class=\"children hor  \"><div class=\"contnr c0 trm   hl\"  style=\"background-color: cyan;\" ><div class=\"lbl c0 trm hl\"  style=\"background-color: cyan;\" ><span class=\"nd\">106597</span> <span class=\"txtu\"><span title=\"atf\">2(N04)#</span></span></div></div><div class=\"contnr c0 trm   \" ><div class=\"lbl c0 trm \" ><span class=\"nd\">106598</span> <span class=\"txtu\"><span title=\"atf\">PIRIG~b1</span></span></div></div><div class=\"contnr c0 trm   \" ><div class=\"lbl c0 trm \" ><span class=\"nd\">106599</span> <span class=\"txtu\"><span title=\"atf\">SIG7</span></span></div></div><div class=\"contnr c0 trm   \" ><div class=\"lbl c0 trm \" ><span class=\"nd\">106600</span> <span class=\"txtu\"><span title=\"atf\">URI3~a</span></span></div></div><div class=\"contnr c0 trm   \" ><div class=\"lbl c0 trm \" ><span class=\"nd\">106601</span> <span class=\"txtu\"><span title=\"atf\">NUN~a</span></span></div></div></div></div></div>"
      ],
      "text/plain": [
       "<IPython.core.display.HTML object>"
      ]
     },
     "metadata": {},
     "output_type": "display_data"
    },
    {
     "name": "stdout",
     "output_type": "stream",
     "text": [
      "['1. 3(N04) , |GISZ.TE| GAR |SZU2.((HI+1(N57))+(HI+1(N57)))| GI4~a ']\n"
     ]
    },
    {
     "data": {
      "text/html": [
       "<div class=\"\"><span class=\"section \"><a target=\"_blank\" href=\"https://cdli.ucla.edu/search/search_results.php?SearchMode=Text&amp;ObjectID=P005381\" title=\"to CDLI main page for this tablet\" sec=\"P005381 obverse:2:1\">P005381 obverse:2:1</a></span>  <span class=\"plain   \" ><span class=\"nd\">254176</span><span class=\"plain \" >3(N04)</span> <span class=\"plain \" >|<span class=\"plain \" >GISZ</span>.<span class=\"plain \" >TE</span>|</span> <span class=\"plain \" >GAR</span> <span class=\"plain   hlbx\"  style=\"border-color: lightgreen;\" ><span class=\"nd\">143015</span><span class=\"plain hl\"  style=\"background-color: lightgreen;\" >|<span class=\"plain \" >SZU2</span>.<span class=\"plain \" >(<span class=\"plain \" >(<span class=\"plain \" >HI</span>+<span class=\"plain \" >1(N57)</span>)</span>+<span class=\"plain \" >(<span class=\"plain \" >HI</span>+<span class=\"plain \" >1(N57)</span>)</span>)</span>|</span> </span><span class=\"plain \" >GI4~a</span> </span></div>"
      ],
      "text/plain": [
       "<IPython.core.display.HTML object>"
      ]
     },
     "metadata": {},
     "output_type": "display_data"
    },
    {
     "data": {
      "text/html": [
       "<div class=\"section \"><a target=\"_blank\" href=\"https://cdli.ucla.edu/search/search_results.php?SearchMode=Text&amp;ObjectID=P005381\" title=\"to CDLI main page for this tablet\" sec=\"P005381 obverse:2:1\">P005381 obverse:2:1</a></div><div class=\" children\"><div class=\"contnr c2    \" ><div class=\"lbl c2  \" ><span class=\"nd\">line:254176</span> <span class=\"txtu\"><span title=\"number\">1</span></span></div><div class=\"children hor  \"><div class=\"contnr c0 trm   \" ><div class=\"lbl c0 trm \" ><span class=\"nd\">106602</span> <span class=\"txtu\"><span title=\"atf\">3(N04)</span></span></div></div><div class=\"contnr c1    \" ><div class=\"lbl c1  \" ><span class=\"nd\">quad:143014</span></div><div class=\"children hor wrap \"><div class=\"contnr c0 trm   \" ><div class=\"lbl c0 trm \" ><span class=\"nd\">106603</span> <span class=\"txtu\"><span title=\"atf\">GISZ</span></span></div></div><div class=\"op\">.</div><div class=\"contnr c0 trm   \" ><div class=\"lbl c0 trm \" ><span class=\"nd\">106604</span> <span class=\"txtu\"><span title=\"atf\">TE</span></span></div></div></div></div><div class=\"contnr c0 trm   \" ><div class=\"lbl c0 trm \" ><span class=\"nd\">106605</span> <span class=\"txtu\"><span title=\"atf\">GAR</span></span></div></div><div class=\"contnr c1    hl\"  style=\"background-color: lightgreen;\" ><div class=\"lbl c1  hl\"  style=\"background-color: lightgreen;\" ><span class=\"nd\">quad:143015</span></div><div class=\"children hor wrap \"><div class=\"contnr c0 trm   \" ><div class=\"lbl c0 trm \" ><span class=\"nd\">106606</span> <span class=\"txtu\"><span title=\"atf\">SZU2</span></span></div></div><div class=\"op\">.</div><div class=\"contnr c1    \" ><div class=\"lbl c1  \" ><span class=\"nd\">quad:143016</span></div><div class=\"children hor wrap \"><div class=\"contnr c1    \" ><div class=\"lbl c1  \" ><span class=\"nd\">quad:143017</span></div><div class=\"children hor wrap \"><div class=\"contnr c0 trm   \" ><div class=\"lbl c0 trm \" ><span class=\"nd\">106607</span> <span class=\"txtu\"><span title=\"atf\">HI</span></span></div></div><div class=\"op\">+</div><div class=\"contnr c0 trm   \" ><div class=\"lbl c0 trm \" ><span class=\"nd\">106608</span> <span class=\"txtu\"><span title=\"atf\">1(N57)</span></span></div></div></div></div><div class=\"op\">+</div><div class=\"contnr c1    \" ><div class=\"lbl c1  \" ><span class=\"nd\">quad:143018</span></div><div class=\"children hor wrap \"><div class=\"contnr c0 trm   \" ><div class=\"lbl c0 trm \" ><span class=\"nd\">106609</span> <span class=\"txtu\"><span title=\"atf\">HI</span></span></div></div><div class=\"op\">+</div><div class=\"contnr c0 trm   \" ><div class=\"lbl c0 trm \" ><span class=\"nd\">106610</span> <span class=\"txtu\"><span title=\"atf\">1(N57)</span></span></div></div></div></div></div></div></div></div><div class=\"contnr c0 trm   \" ><div class=\"lbl c0 trm \" ><span class=\"nd\">106611</span> <span class=\"txtu\"><span title=\"atf\">GI4~a</span></span></div></div></div></div></div>"
      ],
      "text/plain": [
       "<IPython.core.display.HTML object>"
      ]
     },
     "metadata": {},
     "output_type": "display_data"
    }
   ],
   "source": [
    "s1 = 106597\n",
    "s2 = 106589\n",
    "q1 = 143013\n",
    "q2 = 143015\n",
    "c1 = 194488\n",
    "c2 = 219151\n",
    "examples = (s1, s2, q1, q2, c1, c2)\n",
    "colors = \"\"\"\n",
    "    cyan\n",
    "    yellow\n",
    "    lightsalmon\n",
    "    lightgreen\n",
    "    goldenrod\n",
    "    cornflowerblue\n",
    "    forestgreen\n",
    "    burlywood\n",
    "    orange\n",
    "    indianred\n",
    "\"\"\".strip().split()\n",
    "highlights = dict(zip(examples, colors))\n",
    "lines = set()\n",
    "A.displayReset()\n",
    "A.displaySetup(showGraphics=False, withNodes=True)\n",
    "A.dm(\"## Example nodes\\n\")\n",
    "for e in examples:\n",
    "    slots = L.d(e, otype='sign')\n",
    "    if len(slots) > 1:\n",
    "        lines.add(L.u(slots[0], otype=\"line\")[0])\n",
    "        lines.add(L.u(slots[-1], otype=\"line\")[0])\n",
    "    lines.add(L.u(e, otype=\"line\")[0])\n",
    "    A.plain(e)\n",
    "    A.pretty(e)\n",
    "A.dm(\"\\n---\\n## Example lines\\n\")\n",
    "for ln in sorted(lines):\n",
    "    print(A.getSource(ln))\n",
    "    A.plain(ln, highlights=highlights)\n",
    "    A.pretty(ln, highlights=highlights)\n",
    "A.displayReset()"
   ]
  },
  {
   "cell_type": "code",
   "execution_count": 10,
   "metadata": {},
   "outputs": [],
   "source": [
    "example = T.nodeFromSection(('P005381',))"
   ]
  },
  {
   "cell_type": "code",
   "execution_count": 11,
   "metadata": {},
   "outputs": [
    {
     "data": {
      "text/plain": [
       "['&P005381 = MSVO 3, 70',\n",
       " '#atf: lang qpc ',\n",
       " '@obverse ',\n",
       " '@column 1 ',\n",
       " '1.a. 2(N14) , SZE~a SAL TUR3~a NUN~a ',\n",
       " '1.b. 3(N19) , |GISZ.TE| ',\n",
       " '2. 1(N14) , NAR NUN~a SIG7 ',\n",
       " '3. 2(N04)# , PIRIG~b1 SIG7 URI3~a NUN~a ',\n",
       " '@column 2 ',\n",
       " '1. 3(N04) , |GISZ.TE| GAR |SZU2.((HI+1(N57))+(HI+1(N57)))| GI4~a ',\n",
       " '2. , GU7 AZ SI4~f ',\n",
       " '@reverse ',\n",
       " '@column 1 ',\n",
       " '1. 3(N14) , SZE~a ',\n",
       " '2. 3(N19) 5(N04) , ',\n",
       " '3. , GU7 ',\n",
       " '@column 2 ',\n",
       " '1. , AZ SI4~f ']"
      ]
     },
     "execution_count": 11,
     "metadata": {},
     "output_type": "execute_result"
    }
   ],
   "source": [
    "A.getSource(example)"
   ]
  },
  {
   "cell_type": "code",
   "execution_count": 12,
   "metadata": {},
   "outputs": [
    {
     "data": {
      "text/html": [
       "<div class=\"section \"><a target=\"_blank\" href=\"https://cdli.ucla.edu/search/search_results.php?SearchMode=Text&amp;ObjectID=P005381\" title=\"to CDLI main page for this tablet\" sec=\"P005381\">P005381</a></div><div class=\" children\"><div class=\"contnr c4    \" ><div class=\"lbl c4  \" ><span class=\"nd\">tablet</span> <span class=\"txtu\"><span class=\"section\">P005381</span></span></div><div class='features'><span class=\"name \" title=\"name\">MSVO 3, 70</span><span class=\"period \" title=\"period\">uruk-iii</span></div><div class=\"children ver  \"><div class=\"contnr c1 trm   \" ><div class=\"lbl c1 trm \" ><span class=\"nd\">comment</span> <span class=\"txtu\"><span class=\"plain \" ></span> </span></div></div><div class=\"contnr c2    \" ><div class=\"lbl c2  \" ><span class=\"nd\">face</span> <span class=\"txtu\"><span title=\"type\">obverse</span></span></div><div class=\"children hor  \"><div class=\"contnr c3    \" ><div class=\"lbl c3  \" ><span class=\"nd\">column</span> <span class=\"txtu\"><span title=\"number\">1</span><span title=\"prime\"></span></span></div><div class=\"children ver  \"><div class=\"contnr c2    \" ><div class=\"lbl c2  \" ><span class=\"nd\">line</span> <span class=\"txtu\"><span title=\"number\">1</span></span></div><div class=\"children hor  \"><div class=\"contnr c2    \" ><div class=\"lbl c2  \" ><span class=\"nd\">case</span> <span class=\"txtu\"><span title=\"number\">1a</span><span title=\"prime\"></span></span></div><div class=\"children ver False \"><div class=\"contnr c0 trm   \" ><div class=\"lbl c0 trm \" ><span class=\"txtu\"><span title=\"atf\">2(N14)</span></span></div><div><a target=\"_blank\" href=\"https://cdli.ucla.edu/tools/SignLists/protocuneiform/archsigns/2(N14).jpg\" title=\"to higher resolution lineart on CDLI\"><img src=\"cdli-imagery/lineart-2(n14).jpg\" style=\"display: inline;max-width: 2em; max-height: 6em;\"  /></a></div></div><div class=\"contnr c0 trm   \" ><div class=\"lbl c0 trm \" ><span class=\"txtu\"><span title=\"atf\">SZE~a</span></span></div><div><a target=\"_blank\" href=\"https://cdli.ucla.edu/tools/SignLists/protocuneiform/archsigns/SZE~a.jpg\" title=\"to higher resolution lineart on CDLI\"><img src=\"cdli-imagery/lineart-sze-a.jpg\" style=\"display: inline;max-width: 2em; max-height: 6em;\"  /></a></div></div><div class=\"contnr c0 trm   \" ><div class=\"lbl c0 trm \" ><span class=\"txtu\"><span title=\"atf\">SAL</span></span></div><div><a target=\"_blank\" href=\"https://cdli.ucla.edu/tools/SignLists/protocuneiform/archsigns/SAL.jpg\" title=\"to higher resolution lineart on CDLI\"><img src=\"cdli-imagery/lineart-sal.jpg\" style=\"display: inline;max-width: 2em; max-height: 6em;\"  /></a></div></div><div class=\"contnr c0 trm   \" ><div class=\"lbl c0 trm \" ><span class=\"txtu\"><span title=\"atf\">TUR3~a</span></span></div><div><a target=\"_blank\" href=\"https://cdli.ucla.edu/tools/SignLists/protocuneiform/archsigns/TUR3~a.jpg\" title=\"to higher resolution lineart on CDLI\"><img src=\"cdli-imagery/lineart-tur3-a.jpg\" style=\"display: inline;max-width: 2em; max-height: 6em;\"  /></a></div></div><div class=\"contnr c0 trm   \" ><div class=\"lbl c0 trm \" ><span class=\"txtu\"><span title=\"atf\">NUN~a</span></span></div><div><a target=\"_blank\" href=\"https://cdli.ucla.edu/tools/SignLists/protocuneiform/archsigns/NUN~a.jpg\" title=\"to higher resolution lineart on CDLI\"><img src=\"cdli-imagery/lineart-nun-a.jpg\" style=\"display: inline;max-width: 2em; max-height: 6em;\"  /></a></div></div></div></div><div class=\"contnr c2    \" ><div class=\"lbl c2  \" ><span class=\"nd\">case</span> <span class=\"txtu\"><span title=\"number\">1b</span><span title=\"prime\"></span></span></div><div class=\"children ver False \"><div class=\"contnr c0 trm   \" ><div class=\"lbl c0 trm \" ><span class=\"txtu\"><span title=\"atf\">3(N19)</span></span></div><div><a target=\"_blank\" href=\"https://cdli.ucla.edu/tools/SignLists/protocuneiform/archsigns/3(N19).jpg\" title=\"to higher resolution lineart on CDLI\"><img src=\"cdli-imagery/lineart-3(n19).jpg\" style=\"display: inline;max-width: 2em; max-height: 6em;\"  /></a></div></div><div class=\"contnr c1    \" ><div class=\"lbl c1  \" ><span class=\"nd\">quad</span></div><div><a target=\"_blank\" href=\"https://cdli.ucla.edu/tools/SignLists/protocuneiform/archsigns/|GISZ.TE|.jpg\" title=\"to higher resolution lineart on CDLI\"><img src=\"cdli-imagery/lineart-qgisz(d)teq.jpg\" style=\"display: inline;max-width: 4em; max-height: 4em;\"  /></a></div><div class=\"children hor wrap \"><div class=\"contnr c0 trm   \" ><div class=\"lbl c0 trm \" ><span class=\"txtu\"><span title=\"atf\">GISZ</span></span></div></div><div class=\"op\">.</div><div class=\"contnr c0 trm   \" ><div class=\"lbl c0 trm \" ><span class=\"txtu\"><span title=\"atf\">TE</span></span></div></div></div></div></div></div></div></div><div class=\"contnr c2    \" ><div class=\"lbl c2  \" ><span class=\"nd\">line</span> <span class=\"txtu\"><span title=\"number\">2</span></span></div><div class=\"children hor  \"><div class=\"contnr c0 trm   \" ><div class=\"lbl c0 trm \" ><span class=\"txtu\"><span title=\"atf\">1(N14)</span></span></div><div><a target=\"_blank\" href=\"https://cdli.ucla.edu/tools/SignLists/protocuneiform/archsigns/1(N14).jpg\" title=\"to higher resolution lineart on CDLI\"><img src=\"cdli-imagery/lineart-1(n14).jpg\" style=\"display: inline;max-width: 2em; max-height: 6em;\"  /></a></div></div><div class=\"contnr c0 trm   \" ><div class=\"lbl c0 trm \" ><span class=\"txtu\"><span title=\"atf\">NAR</span></span></div><div><a target=\"_blank\" href=\"https://cdli.ucla.edu/tools/SignLists/protocuneiform/archsigns/NAR.jpg\" title=\"to higher resolution lineart on CDLI\"><img src=\"cdli-imagery/lineart-nar.jpg\" style=\"display: inline;max-width: 2em; max-height: 6em;\"  /></a></div></div><div class=\"contnr c0 trm   \" ><div class=\"lbl c0 trm \" ><span class=\"txtu\"><span title=\"atf\">NUN~a</span></span></div><div><a target=\"_blank\" href=\"https://cdli.ucla.edu/tools/SignLists/protocuneiform/archsigns/NUN~a.jpg\" title=\"to higher resolution lineart on CDLI\"><img src=\"cdli-imagery/lineart-nun-a.jpg\" style=\"display: inline;max-width: 2em; max-height: 6em;\"  /></a></div></div><div class=\"contnr c0 trm   \" ><div class=\"lbl c0 trm \" ><span class=\"txtu\"><span title=\"atf\">SIG7</span></span></div><div><a target=\"_blank\" href=\"https://cdli.ucla.edu/tools/SignLists/protocuneiform/archsigns/SIG7.jpg\" title=\"to higher resolution lineart on CDLI\"><img src=\"cdli-imagery/lineart-sig7.jpg\" style=\"display: inline;max-width: 2em; max-height: 6em;\"  /></a></div></div></div></div><div class=\"contnr c2    \" ><div class=\"lbl c2  \" ><span class=\"nd\">line</span> <span class=\"txtu\"><span title=\"number\">3</span></span></div><div class=\"children hor  \"><div class=\"contnr c0 trm   \" ><div class=\"lbl c0 trm \" ><span class=\"txtu\"><span title=\"atf\">2(N04)#</span></span></div><div><a target=\"_blank\" href=\"https://cdli.ucla.edu/tools/SignLists/protocuneiform/archsigns/2(N04).jpg\" title=\"to higher resolution lineart on CDLI\"><img src=\"cdli-imagery/lineart-2(n04).jpg\" style=\"display: inline;max-width: 2em; max-height: 6em;\"  /></a></div></div><div class=\"contnr c0 trm   \" ><div class=\"lbl c0 trm \" ><span class=\"txtu\"><span title=\"atf\">PIRIG~b1</span></span></div><div><a target=\"_blank\" href=\"https://cdli.ucla.edu/tools/SignLists/protocuneiform/archsigns/PIRIG~b1.jpg\" title=\"to higher resolution lineart on CDLI\"><img src=\"cdli-imagery/lineart-pirig-b1.jpg\" style=\"display: inline;max-width: 2em; max-height: 6em;\"  /></a></div></div><div class=\"contnr c0 trm   \" ><div class=\"lbl c0 trm \" ><span class=\"txtu\"><span title=\"atf\">SIG7</span></span></div><div><a target=\"_blank\" href=\"https://cdli.ucla.edu/tools/SignLists/protocuneiform/archsigns/SIG7.jpg\" title=\"to higher resolution lineart on CDLI\"><img src=\"cdli-imagery/lineart-sig7.jpg\" style=\"display: inline;max-width: 2em; max-height: 6em;\"  /></a></div></div><div class=\"contnr c0 trm   \" ><div class=\"lbl c0 trm \" ><span class=\"txtu\"><span title=\"atf\">URI3~a</span></span></div><div><a target=\"_blank\" href=\"https://cdli.ucla.edu/tools/SignLists/protocuneiform/archsigns/URI3~a.jpg\" title=\"to higher resolution lineart on CDLI\"><img src=\"cdli-imagery/lineart-uri3-a.jpg\" style=\"display: inline;max-width: 2em; max-height: 6em;\"  /></a></div></div><div class=\"contnr c0 trm   \" ><div class=\"lbl c0 trm \" ><span class=\"txtu\"><span title=\"atf\">NUN~a</span></span></div><div><a target=\"_blank\" href=\"https://cdli.ucla.edu/tools/SignLists/protocuneiform/archsigns/NUN~a.jpg\" title=\"to higher resolution lineart on CDLI\"><img src=\"cdli-imagery/lineart-nun-a.jpg\" style=\"display: inline;max-width: 2em; max-height: 6em;\"  /></a></div></div></div></div></div></div><div class=\"contnr c3    \" ><div class=\"lbl c3  \" ><span class=\"nd\">column</span> <span class=\"txtu\"><span title=\"number\">2</span><span title=\"prime\"></span></span></div><div class=\"children ver  \"><div class=\"contnr c2    \" ><div class=\"lbl c2  \" ><span class=\"nd\">line</span> <span class=\"txtu\"><span title=\"number\">1</span></span></div><div class=\"children hor  \"><div class=\"contnr c0 trm   \" ><div class=\"lbl c0 trm \" ><span class=\"txtu\"><span title=\"atf\">3(N04)</span></span></div><div><a target=\"_blank\" href=\"https://cdli.ucla.edu/tools/SignLists/protocuneiform/archsigns/3(N04).jpg\" title=\"to higher resolution lineart on CDLI\"><img src=\"cdli-imagery/lineart-3(n04).jpg\" style=\"display: inline;max-width: 2em; max-height: 6em;\"  /></a></div></div><div class=\"contnr c1    \" ><div class=\"lbl c1  \" ><span class=\"nd\">quad</span></div><div><a target=\"_blank\" href=\"https://cdli.ucla.edu/tools/SignLists/protocuneiform/archsigns/|GISZ.TE|.jpg\" title=\"to higher resolution lineart on CDLI\"><img src=\"cdli-imagery/lineart-qgisz(d)teq.jpg\" style=\"display: inline;max-width: 4em; max-height: 4em;\"  /></a></div><div class=\"children hor wrap \"><div class=\"contnr c0 trm   \" ><div class=\"lbl c0 trm \" ><span class=\"txtu\"><span title=\"atf\">GISZ</span></span></div></div><div class=\"op\">.</div><div class=\"contnr c0 trm   \" ><div class=\"lbl c0 trm \" ><span class=\"txtu\"><span title=\"atf\">TE</span></span></div></div></div></div><div class=\"contnr c0 trm   \" ><div class=\"lbl c0 trm \" ><span class=\"txtu\"><span title=\"atf\">GAR</span></span></div><div><a target=\"_blank\" href=\"https://cdli.ucla.edu/tools/SignLists/protocuneiform/archsigns/GAR.jpg\" title=\"to higher resolution lineart on CDLI\"><img src=\"cdli-imagery/lineart-gar.jpg\" style=\"display: inline;max-width: 2em; max-height: 6em;\"  /></a></div></div><div class=\"contnr c1    \" ><div class=\"lbl c1  \" ><span class=\"nd\">quad</span></div><div><a target=\"_blank\" href=\"https://cdli.ucla.edu/tools/SignLists/protocuneiform/archsigns/|SZU2.((HI+1(N57))+(HI+1(N57)))|.jpg\" title=\"to higher resolution lineart on CDLI\"><img src=\"cdli-imagery/lineart-qszu2(d)((hi(p)1(n57))(p)(hi(p)1(n57)))q.jpg\" style=\"display: inline;max-width: 4em; max-height: 4em;\"  /></a></div><div class=\"children hor wrap \"><div class=\"contnr c0 trm   \" ><div class=\"lbl c0 trm \" ><span class=\"txtu\"><span title=\"atf\">SZU2</span></span></div></div><div class=\"op\">.</div><div class=\"contnr c1    \" ><div class=\"lbl c1  \" ><span class=\"nd\">quad</span></div><div class=\"children hor wrap \"><div class=\"contnr c1    \" ><div class=\"lbl c1  \" ><span class=\"nd\">quad</span></div><div class=\"children hor wrap \"><div class=\"contnr c0 trm   \" ><div class=\"lbl c0 trm \" ><span class=\"txtu\"><span title=\"atf\">HI</span></span></div></div><div class=\"op\">+</div><div class=\"contnr c0 trm   \" ><div class=\"lbl c0 trm \" ><span class=\"txtu\"><span title=\"atf\">1(N57)</span></span></div></div></div></div><div class=\"op\">+</div><div class=\"contnr c1    \" ><div class=\"lbl c1  \" ><span class=\"nd\">quad</span></div><div class=\"children hor wrap \"><div class=\"contnr c0 trm   \" ><div class=\"lbl c0 trm \" ><span class=\"txtu\"><span title=\"atf\">HI</span></span></div></div><div class=\"op\">+</div><div class=\"contnr c0 trm   \" ><div class=\"lbl c0 trm \" ><span class=\"txtu\"><span title=\"atf\">1(N57)</span></span></div></div></div></div></div></div></div></div><div class=\"contnr c0 trm   \" ><div class=\"lbl c0 trm \" ><span class=\"txtu\"><span title=\"atf\">GI4~a</span></span></div><div><a target=\"_blank\" href=\"https://cdli.ucla.edu/tools/SignLists/protocuneiform/archsigns/GI4~a.jpg\" title=\"to higher resolution lineart on CDLI\"><img src=\"cdli-imagery/lineart-gi4-a.jpg\" style=\"display: inline;max-width: 2em; max-height: 6em;\"  /></a></div></div></div></div><div class=\"contnr c2    \" ><div class=\"lbl c2  \" ><span class=\"nd\">line</span> <span class=\"txtu\"><span title=\"number\">2</span></span></div><div class=\"children hor  \"><div class=\"contnr c0 trm   \" ><div class=\"lbl c0 trm \" ><span class=\"txtu\"><span title=\"atf\">GU7</span></span></div><div><a target=\"_blank\" href=\"https://cdli.ucla.edu/tools/SignLists/protocuneiform/archsigns/GU7.jpg\" title=\"to higher resolution lineart on CDLI\"><img src=\"cdli-imagery/lineart-gu7.jpg\" style=\"display: inline;max-width: 2em; max-height: 6em;\"  /></a></div></div><div class=\"contnr c0 trm   \" ><div class=\"lbl c0 trm \" ><span class=\"txtu\"><span title=\"atf\">AZ</span></span></div><div><a target=\"_blank\" href=\"https://cdli.ucla.edu/tools/SignLists/protocuneiform/archsigns/AZ.jpg\" title=\"to higher resolution lineart on CDLI\"><img src=\"cdli-imagery/lineart-az.jpg\" style=\"display: inline;max-width: 2em; max-height: 6em;\"  /></a></div></div><div class=\"contnr c0 trm   \" ><div class=\"lbl c0 trm \" ><span class=\"txtu\"><span title=\"atf\">SI4~f</span></span></div><div><a target=\"_blank\" href=\"https://cdli.ucla.edu/tools/SignLists/protocuneiform/archsigns/SI4~f.jpg\" title=\"to higher resolution lineart on CDLI\"><img src=\"cdli-imagery/lineart-si4-f.jpg\" style=\"display: inline;max-width: 2em; max-height: 6em;\"  /></a></div></div></div></div></div></div></div></div><div class=\"contnr c2    \" ><div class=\"lbl c2  \" ><span class=\"nd\">face</span> <span class=\"txtu\"><span title=\"type\">reverse</span></span></div><div class=\"children hor  \"><div class=\"contnr c3    \" ><div class=\"lbl c3  \" ><span class=\"nd\">column</span> <span class=\"txtu\"><span title=\"number\">1</span><span title=\"prime\"></span></span></div><div class=\"children ver  \"><div class=\"contnr c2    \" ><div class=\"lbl c2  \" ><span class=\"nd\">line</span> <span class=\"txtu\"><span title=\"number\">1</span></span></div><div class=\"children hor  \"><div class=\"contnr c0 trm   \" ><div class=\"lbl c0 trm \" ><span class=\"txtu\"><span title=\"atf\">3(N14)</span></span></div><div><a target=\"_blank\" href=\"https://cdli.ucla.edu/tools/SignLists/protocuneiform/archsigns/3(N14).jpg\" title=\"to higher resolution lineart on CDLI\"><img src=\"cdli-imagery/lineart-3(n14).jpg\" style=\"display: inline;max-width: 2em; max-height: 6em;\"  /></a></div></div><div class=\"contnr c0 trm   \" ><div class=\"lbl c0 trm \" ><span class=\"txtu\"><span title=\"atf\">SZE~a</span></span></div><div><a target=\"_blank\" href=\"https://cdli.ucla.edu/tools/SignLists/protocuneiform/archsigns/SZE~a.jpg\" title=\"to higher resolution lineart on CDLI\"><img src=\"cdli-imagery/lineart-sze-a.jpg\" style=\"display: inline;max-width: 2em; max-height: 6em;\"  /></a></div></div></div></div><div class=\"contnr c2    \" ><div class=\"lbl c2  \" ><span class=\"nd\">line</span> <span class=\"txtu\"><span title=\"number\">2</span></span></div><div class=\"children hor  \"><div class=\"contnr c0 trm   \" ><div class=\"lbl c0 trm \" ><span class=\"txtu\"><span title=\"atf\">3(N19)</span></span></div><div><a target=\"_blank\" href=\"https://cdli.ucla.edu/tools/SignLists/protocuneiform/archsigns/3(N19).jpg\" title=\"to higher resolution lineart on CDLI\"><img src=\"cdli-imagery/lineart-3(n19).jpg\" style=\"display: inline;max-width: 2em; max-height: 6em;\"  /></a></div></div><div class=\"contnr c0 trm   \" ><div class=\"lbl c0 trm \" ><span class=\"txtu\"><span title=\"atf\">5(N04)</span></span></div><div><a target=\"_blank\" href=\"https://cdli.ucla.edu/tools/SignLists/protocuneiform/archsigns/5(N04).jpg\" title=\"to higher resolution lineart on CDLI\"><img src=\"cdli-imagery/lineart-5(n04).jpg\" style=\"display: inline;max-width: 2em; max-height: 6em;\"  /></a></div></div></div></div><div class=\"contnr c2    \" ><div class=\"lbl c2  \" ><span class=\"nd\">line</span> <span class=\"txtu\"><span title=\"number\">3</span></span></div><div class=\"children hor  \"><div class=\"contnr c0 trm   \" ><div class=\"lbl c0 trm \" ><span class=\"txtu\"><span title=\"atf\">GU7</span></span></div><div><a target=\"_blank\" href=\"https://cdli.ucla.edu/tools/SignLists/protocuneiform/archsigns/GU7.jpg\" title=\"to higher resolution lineart on CDLI\"><img src=\"cdli-imagery/lineart-gu7.jpg\" style=\"display: inline;max-width: 2em; max-height: 6em;\"  /></a></div></div></div></div></div></div><div class=\"contnr c3    \" ><div class=\"lbl c3  \" ><span class=\"nd\">column</span> <span class=\"txtu\"><span title=\"number\">2</span><span title=\"prime\"></span></span></div><div class=\"children ver  \"><div class=\"contnr c2    \" ><div class=\"lbl c2  \" ><span class=\"nd\">line</span> <span class=\"txtu\"><span title=\"number\">1</span></span></div><div class=\"children hor  \"><div class=\"contnr c0 trm   \" ><div class=\"lbl c0 trm \" ><span class=\"txtu\"><span title=\"atf\">AZ</span></span></div><div><a target=\"_blank\" href=\"https://cdli.ucla.edu/tools/SignLists/protocuneiform/archsigns/AZ.jpg\" title=\"to higher resolution lineart on CDLI\"><img src=\"cdli-imagery/lineart-az.jpg\" style=\"display: inline;max-width: 2em; max-height: 6em;\"  /></a></div></div><div class=\"contnr c0 trm   \" ><div class=\"lbl c0 trm \" ><span class=\"txtu\"><span title=\"atf\">SI4~f</span></span></div><div><a target=\"_blank\" href=\"https://cdli.ucla.edu/tools/SignLists/protocuneiform/archsigns/SI4~f.jpg\" title=\"to higher resolution lineart on CDLI\"><img src=\"cdli-imagery/lineart-si4-f.jpg\" style=\"display: inline;max-width: 2em; max-height: 6em;\"  /></a></div></div></div></div></div></div></div></div></div></div></div>"
      ],
      "text/plain": [
       "<IPython.core.display.HTML object>"
      ]
     },
     "metadata": {},
     "output_type": "display_data"
    }
   ],
   "source": [
    "A.pretty(example, withNodes=False)"
   ]
  },
  {
   "cell_type": "code",
   "execution_count": 13,
   "metadata": {},
   "outputs": [
    {
     "data": {
      "text/html": [
       "<div class=\"section \"><a target=\"_blank\" href=\"https://cdli.ucla.edu/search/search_results.php?SearchMode=Text&amp;ObjectID=P005381\" title=\"to CDLI main page for this tablet\" sec=\"P005381\">P005381</a></div><div class=\" children\"><div class=\"contnr c4    \" ><div class=\"lbl c4  \" ><span class=\"nd\">tablet@85111</span> <span class=\"txtu\"><span class=\"section\">P005381</span></span></div><div class='features'><span class=\"name \" title=\"name\">MSVO 3, 70</span><span class=\"period \" title=\"period\">uruk-iii</span></div><div class=\"children ver  \"><div class=\"contnr c1 trm   \" ><div class=\"lbl c1 trm \" ><span class=\"nd\">comment@85112</span> <span class=\"txtu\"><span class=\"plain \" ></span> </span></div></div><div class=\"contnr c2    \" ><div class=\"lbl c2  \" ><span class=\"nd\">face@85114</span> <span class=\"txtu\"><span title=\"type\">obverse</span></span></div><div class=\"children hor  \"><div class=\"contnr c3    \" ><div class=\"lbl c3  \" ><span class=\"nd\">column@85115</span> <span class=\"txtu\"><span title=\"number\">1</span><span title=\"prime\"></span></span></div><div class=\"children ver  \"><div class=\"contnr c2    \" ><div class=\"lbl c2  \" ><span class=\"nd\">lineNone</span> <span class=\"txtu\"><span title=\"number\">1</span></span></div><div class=\"children hor  \"><div class=\"contnr c2    \" ><div class=\"lbl c2  \" ><span class=\"nd\">case@85116</span> <span class=\"txtu\"><span title=\"number\">1a</span><span title=\"prime\"></span></span></div><div class=\"children ver False \"><div class=\"contnr c0 trm   \" ><div class=\"lbl c0 trm \" ><span class=\"txtu\"><span title=\"atf\">2(N14)</span></span></div></div><div class=\"contnr c0 trm   \" ><div class=\"lbl c0 trm \" ><span class=\"txtu\"><span title=\"atf\">SZE~a</span></span></div></div><div class=\"contnr c0 trm   \" ><div class=\"lbl c0 trm \" ><span class=\"txtu\"><span title=\"atf\">SAL</span></span></div></div><div class=\"contnr c0 trm   \" ><div class=\"lbl c0 trm \" ><span class=\"txtu\"><span title=\"atf\">TUR3~a</span></span></div></div><div class=\"contnr c0 trm   \" ><div class=\"lbl c0 trm \" ><span class=\"txtu\"><span title=\"atf\">NUN~a</span></span></div></div></div></div><div class=\"contnr c2    \" ><div class=\"lbl c2  \" ><span class=\"nd\">case@85117</span> <span class=\"txtu\"><span title=\"number\">1b</span><span title=\"prime\"></span></span></div><div class=\"children ver False \"><div class=\"contnr c0 trm   \" ><div class=\"lbl c0 trm \" ><span class=\"txtu\"><span title=\"atf\">3(N19)</span></span></div></div><div class=\"contnr c1    \" ><div class=\"lbl c1  \" ><span class=\"nd\">quad</span></div><div class=\"children hor wrap \"><div class=\"contnr c0 trm   \" ><div class=\"lbl c0 trm \" ><span class=\"txtu\"><span title=\"atf\">GISZ</span></span></div></div><div class=\"op\">.</div><div class=\"contnr c0 trm   \" ><div class=\"lbl c0 trm \" ><span class=\"txtu\"><span title=\"atf\">TE</span></span></div></div></div></div></div></div></div></div><div class=\"contnr c2    \" ><div class=\"lbl c2  \" ><span class=\"nd\">line@85118</span> <span class=\"txtu\"><span title=\"number\">2</span></span></div><div class=\"children hor  \"><div class=\"contnr c0 trm   \" ><div class=\"lbl c0 trm \" ><span class=\"txtu\"><span title=\"atf\">1(N14)</span></span></div></div><div class=\"contnr c0 trm   \" ><div class=\"lbl c0 trm \" ><span class=\"txtu\"><span title=\"atf\">NAR</span></span></div></div><div class=\"contnr c0 trm   \" ><div class=\"lbl c0 trm \" ><span class=\"txtu\"><span title=\"atf\">NUN~a</span></span></div></div><div class=\"contnr c0 trm   \" ><div class=\"lbl c0 trm \" ><span class=\"txtu\"><span title=\"atf\">SIG7</span></span></div></div></div></div><div class=\"contnr c2    \" ><div class=\"lbl c2  \" ><span class=\"nd\">line@85119</span> <span class=\"txtu\"><span title=\"number\">3</span></span></div><div class=\"children hor  \"><div class=\"contnr c0 trm   \" ><div class=\"lbl c0 trm \" ><span class=\"txtu\"><span title=\"atf\">2(N04)#</span></span></div></div><div class=\"contnr c0 trm   \" ><div class=\"lbl c0 trm \" ><span class=\"txtu\"><span title=\"atf\">PIRIG~b1</span></span></div></div><div class=\"contnr c0 trm   \" ><div class=\"lbl c0 trm \" ><span class=\"txtu\"><span title=\"atf\">SIG7</span></span></div></div><div class=\"contnr c0 trm   \" ><div class=\"lbl c0 trm \" ><span class=\"txtu\"><span title=\"atf\">URI3~a</span></span></div></div><div class=\"contnr c0 trm   \" ><div class=\"lbl c0 trm \" ><span class=\"txtu\"><span title=\"atf\">NUN~a</span></span></div></div></div></div></div></div><div class=\"contnr c3    \" ><div class=\"lbl c3  \" ><span class=\"nd\">column@85120</span> <span class=\"txtu\"><span title=\"number\">2</span><span title=\"prime\"></span></span></div><div class=\"children ver  \"><div class=\"contnr c2    \" ><div class=\"lbl c2  \" ><span class=\"nd\">line@85121</span> <span class=\"txtu\"><span title=\"number\">1</span></span></div><div class=\"children hor  \"><div class=\"contnr c0 trm   \" ><div class=\"lbl c0 trm \" ><span class=\"txtu\"><span title=\"atf\">3(N04)</span></span></div></div><div class=\"contnr c1    \" ><div class=\"lbl c1  \" ><span class=\"nd\">quad</span></div><div class=\"children hor wrap \"><div class=\"contnr c0 trm   \" ><div class=\"lbl c0 trm \" ><span class=\"txtu\"><span title=\"atf\">GISZ</span></span></div></div><div class=\"op\">.</div><div class=\"contnr c0 trm   \" ><div class=\"lbl c0 trm \" ><span class=\"txtu\"><span title=\"atf\">TE</span></span></div></div></div></div><div class=\"contnr c0 trm   \" ><div class=\"lbl c0 trm \" ><span class=\"txtu\"><span title=\"atf\">GAR</span></span></div></div><div class=\"contnr c1    \" ><div class=\"lbl c1  \" ><span class=\"nd\">quad</span></div><div class=\"children hor wrap \"><div class=\"contnr c0 trm   \" ><div class=\"lbl c0 trm \" ><span class=\"txtu\"><span title=\"atf\">SZU2</span></span></div></div><div class=\"op\">.</div><div class=\"contnr c1    \" ><div class=\"lbl c1  \" ><span class=\"nd\">quad</span></div><div class=\"children hor wrap \"><div class=\"contnr c1    \" ><div class=\"lbl c1  \" ><span class=\"nd\">quad</span></div><div class=\"children hor wrap \"><div class=\"contnr c0 trm   \" ><div class=\"lbl c0 trm \" ><span class=\"txtu\"><span title=\"atf\">HI</span></span></div></div><div class=\"op\">+</div><div class=\"contnr c0 trm   \" ><div class=\"lbl c0 trm \" ><span class=\"txtu\"><span title=\"atf\">1(N57)</span></span></div></div></div></div><div class=\"op\">+</div><div class=\"contnr c1    \" ><div class=\"lbl c1  \" ><span class=\"nd\">quad</span></div><div class=\"children hor wrap \"><div class=\"contnr c0 trm   \" ><div class=\"lbl c0 trm \" ><span class=\"txtu\"><span title=\"atf\">HI</span></span></div></div><div class=\"op\">+</div><div class=\"contnr c0 trm   \" ><div class=\"lbl c0 trm \" ><span class=\"txtu\"><span title=\"atf\">1(N57)</span></span></div></div></div></div></div></div></div></div><div class=\"contnr c0 trm   \" ><div class=\"lbl c0 trm \" ><span class=\"txtu\"><span title=\"atf\">GI4~a</span></span></div></div></div></div><div class=\"contnr c2    \" ><div class=\"lbl c2  \" ><span class=\"nd\">line@85122</span> <span class=\"txtu\"><span title=\"number\">2</span></span></div><div class=\"children hor  \"><div class=\"contnr c0 trm   \" ><div class=\"lbl c0 trm \" ><span class=\"txtu\"><span title=\"atf\">GU7</span></span></div></div><div class=\"contnr c0 trm   \" ><div class=\"lbl c0 trm \" ><span class=\"txtu\"><span title=\"atf\">AZ</span></span></div></div><div class=\"contnr c0 trm   \" ><div class=\"lbl c0 trm \" ><span class=\"txtu\"><span title=\"atf\">SI4~f</span></span></div></div></div></div></div></div></div></div><div class=\"contnr c2    \" ><div class=\"lbl c2  \" ><span class=\"nd\">face@85123</span> <span class=\"txtu\"><span title=\"type\">reverse</span></span></div><div class=\"children hor  \"><div class=\"contnr c3    \" ><div class=\"lbl c3  \" ><span class=\"nd\">column@85124</span> <span class=\"txtu\"><span title=\"number\">1</span><span title=\"prime\"></span></span></div><div class=\"children ver  \"><div class=\"contnr c2    \" ><div class=\"lbl c2  \" ><span class=\"nd\">line@85125</span> <span class=\"txtu\"><span title=\"number\">1</span></span></div><div class=\"children hor  \"><div class=\"contnr c0 trm   \" ><div class=\"lbl c0 trm \" ><span class=\"txtu\"><span title=\"atf\">3(N14)</span></span></div></div><div class=\"contnr c0 trm   \" ><div class=\"lbl c0 trm \" ><span class=\"txtu\"><span title=\"atf\">SZE~a</span></span></div></div></div></div><div class=\"contnr c2    \" ><div class=\"lbl c2  \" ><span class=\"nd\">line@85126</span> <span class=\"txtu\"><span title=\"number\">2</span></span></div><div class=\"children hor  \"><div class=\"contnr c0 trm   \" ><div class=\"lbl c0 trm \" ><span class=\"txtu\"><span title=\"atf\">3(N19)</span></span></div></div><div class=\"contnr c0 trm   \" ><div class=\"lbl c0 trm \" ><span class=\"txtu\"><span title=\"atf\">5(N04)</span></span></div></div></div></div><div class=\"contnr c2    \" ><div class=\"lbl c2  \" ><span class=\"nd\">line@85127</span> <span class=\"txtu\"><span title=\"number\">3</span></span></div><div class=\"children hor  \"><div class=\"contnr c0 trm   \" ><div class=\"lbl c0 trm \" ><span class=\"txtu\"><span title=\"atf\">GU7</span></span></div></div></div></div></div></div><div class=\"contnr c3    \" ><div class=\"lbl c3  \" ><span class=\"nd\">column@85128</span> <span class=\"txtu\"><span title=\"number\">2</span><span title=\"prime\"></span></span></div><div class=\"children ver  \"><div class=\"contnr c2    \" ><div class=\"lbl c2  \" ><span class=\"nd\">line@85129</span> <span class=\"txtu\"><span title=\"number\">1</span></span></div><div class=\"children hor  \"><div class=\"contnr c0 trm   \" ><div class=\"lbl c0 trm \" ><span class=\"txtu\"><span title=\"atf\">AZ</span></span></div></div><div class=\"contnr c0 trm   \" ><div class=\"lbl c0 trm \" ><span class=\"txtu\"><span title=\"atf\">SI4~f</span></span></div></div></div></div></div></div></div></div></div></div></div>"
      ],
      "text/plain": [
       "<IPython.core.display.HTML object>"
      ]
     },
     "metadata": {},
     "output_type": "display_data"
    }
   ],
   "source": [
    "A.pretty(example, withNodes=False, showGraphics=False, lineNumbers=True)"
   ]
  },
  {
   "cell_type": "code",
   "execution_count": 14,
   "metadata": {},
   "outputs": [],
   "source": [
    "c = 167736"
   ]
  },
  {
   "cell_type": "code",
   "execution_count": 15,
   "metadata": {},
   "outputs": [
    {
     "name": "stdout",
     "output_type": "stream",
     "text": [
      "<0> TOP\n",
      "  <1> case 167736 {106585-106589} \n",
      "    <2> sign 106585 {106585} \n",
      "    <2> sign 106586 {106586} \n",
      "    <2> sign 106587 {106587} \n",
      "    <2> sign 106588 {106588} \n",
      "    <2> sign 106589 {106589} \n"
     ]
    }
   ],
   "source": [
    "tree = A.unravel(c, explain=True)"
   ]
  },
  {
   "cell_type": "code",
   "execution_count": 16,
   "metadata": {},
   "outputs": [
    {
     "name": "stdout",
     "output_type": "stream",
     "text": [
      "<0> TOP\n",
      "        baseTypes            = {'comment', 'sign'}\n",
      "        browsing             = False\n",
      "        condenseType         = tablet\n",
      "        condensed            = False\n",
      "        extraFeatures        = ((), {})\n",
      "        full                 = False\n",
      "        getGraphics          = <bound method TfApp.getGraphics of <tf.apps.uruk.app.TfApp object at 0x7fde58e28f90>>\n",
      "        hideTypes            = True\n",
      "        isHtml               = False\n",
      "        lineNumbers          = False\n",
      "        lookupMethod         = <bound method Api.Fs of <tf.core.api.Api object at 0x7fde7a438c90>>\n",
      "        noneValues           = {None}\n",
      "        plainGaps            = True\n",
      "        prettyTypes          = True\n",
      "        queryFeatures        = True\n",
      "        showGraphics         = True\n",
      "        slotType             = sign\n",
      "        slotsMethod          = <bound method OslotsFeature.s of <tf.core.oslotsfeature.OslotsFeature object at 0x7fde7b340bd0>>\n",
      "        standardFeatures     = True\n",
      "        textClsDefault       = txtu\n",
      "        textMethod           = <bound method Text.text of <tf.core.text.Text object at 0x7fde58698990>>\n",
      "        upMethod             = <bound method Locality.u of <tf.core.locality.Locality object at 0x7fde7b386d50>>\n",
      "        webLink              = <bound method webLink of <tf.apps.uruk.app.TfApp object at 0x7fde58e28f90>>\n",
      "        withNodes            = False\n",
      "        withPassage          = True\n",
      "        withTypes            = False\n",
      "  <1> case 167736 {106585-106589} \n",
      "          features             = ([], {})\n",
      "          featuresBare         = ([], {})\n",
      "          hasGraphics          = False\n",
      "          isBaseNonSlot        = False\n",
      "          isLexType            = False\n",
      "          isSlot               = False\n",
      "          isSlotOrDescend      = False\n",
      "          lineNumberFeature    = srcLnNum\n",
      "          textCls              = txtu\n",
      "    <2> sign 106585 {106585} \n",
      "            descend              = False\n",
      "            features             = ([], {})\n",
      "            featuresBare         = ([], {})\n",
      "            hasGraphics          = True\n",
      "            isBaseNonSlot        = False\n",
      "            isLexType            = False\n",
      "            isSlot               = True\n",
      "            isSlotOrDescend      = True\n",
      "            plainCustom          = <function plainAtfType at 0x7fde58e4b950>\n",
      "            textCls              = txtu\n",
      "    <2> sign 106586 {106586} \n",
      "            descend              = False\n",
      "            features             = ([], {})\n",
      "            featuresBare         = ([], {})\n",
      "            hasGraphics          = True\n",
      "            isBaseNonSlot        = False\n",
      "            isLexType            = False\n",
      "            isSlot               = True\n",
      "            isSlotOrDescend      = True\n",
      "            plainCustom          = <function plainAtfType at 0x7fde58e4b950>\n",
      "            textCls              = txtu\n",
      "    <2> sign 106587 {106587} \n",
      "            descend              = False\n",
      "            features             = ([], {})\n",
      "            featuresBare         = ([], {})\n",
      "            hasGraphics          = True\n",
      "            isBaseNonSlot        = False\n",
      "            isLexType            = False\n",
      "            isSlot               = True\n",
      "            isSlotOrDescend      = True\n",
      "            plainCustom          = <function plainAtfType at 0x7fde58e4b950>\n",
      "            textCls              = txtu\n",
      "    <2> sign 106588 {106588} \n",
      "            descend              = False\n",
      "            features             = ([], {})\n",
      "            featuresBare         = ([], {})\n",
      "            hasGraphics          = True\n",
      "            isBaseNonSlot        = False\n",
      "            isLexType            = False\n",
      "            isSlot               = True\n",
      "            isSlotOrDescend      = True\n",
      "            plainCustom          = <function plainAtfType at 0x7fde58e4b950>\n",
      "            textCls              = txtu\n",
      "    <2> sign 106589 {106589} \n",
      "            descend              = False\n",
      "            features             = ([], {})\n",
      "            featuresBare         = ([], {})\n",
      "            hasGraphics          = True\n",
      "            isBaseNonSlot        = False\n",
      "            isLexType            = False\n",
      "            isSlot               = True\n",
      "            isSlotOrDescend      = True\n",
      "            plainCustom          = <function plainAtfType at 0x7fde58e4b950>\n",
      "            textCls              = txtu\n"
     ]
    }
   ],
   "source": [
    "tree = A.unravel(c, explain='details')"
   ]
  },
  {
   "cell_type": "code",
   "execution_count": 17,
   "metadata": {},
   "outputs": [
    {
     "data": {
      "text/plain": [
       "(None,\n",
       " {'dContext': <tf.applib.displaysettings.DisplayCurrent at 0x7fde5c7b6b50>,\n",
       "  'oContext': OuterContext(slotType='sign', ltr='', fmt=None, textClsDefault='txtu', textMethod=<bound method Text.text of <tf.core.text.Text object at 0x7fde58698990>>, upMethod=<bound method Locality.u of <tf.core.locality.Locality object at 0x7fde7b386d50>>, slotsMethod=<bound method OslotsFeature.s of <tf.core.oslotsfeature.OslotsFeature object at 0x7fde7b340bd0>>, lookupMethod=<bound method Api.Fs of <tf.core.api.Api object at 0x7fde7a438c90>>, browsing=False, webLink=<bound method webLink of <tf.apps.uruk.app.TfApp object at 0x7fde58e28f90>>, getGraphics=<bound method TfApp.getGraphics of <tf.apps.uruk.app.TfApp object at 0x7fde58e28f90>>)},\n",
       " [((167736, (106585, 106589)),\n",
       "   {'dContext': <tf.applib.displaysettings.DisplayCurrent at 0x7fde5c7b6b50>,\n",
       "    'oContext': OuterContext(slotType='sign', ltr='', fmt=None, textClsDefault='txtu', textMethod=<bound method Text.text of <tf.core.text.Text object at 0x7fde58698990>>, upMethod=<bound method Locality.u of <tf.core.locality.Locality object at 0x7fde7b386d50>>, slotsMethod=<bound method OslotsFeature.s of <tf.core.oslotsfeature.OslotsFeature object at 0x7fde7b340bd0>>, lookupMethod=<bound method Api.Fs of <tf.core.api.Api object at 0x7fde7a438c90>>, browsing=False, webLink=<bound method webLink of <tf.apps.uruk.app.TfApp object at 0x7fde58e28f90>>, getGraphics=<bound method TfApp.getGraphics of <tf.apps.uruk.app.TfApp object at 0x7fde58e28f90>>),\n",
       "    'nContext': NodeContext(nType='case', isSlot=False, isSlotOrDescend=False, descend=None, isBaseNonSlot=False, isLexType=False, lexType=None, lineNumberFeature='srcLnNum', featuresBare=([], {}), features=([], {}), textCls='txtu', hlCls='', hlStyle='', cls={}, hasGraphics=False, after=None, plainCustom=None),\n",
       "    'boundaryCls': ''},\n",
       "   [((106585, (106585, 106585)),\n",
       "     {'dContext': <tf.applib.displaysettings.DisplayCurrent at 0x7fde5c7b6b50>,\n",
       "      'oContext': OuterContext(slotType='sign', ltr='', fmt=None, textClsDefault='txtu', textMethod=<bound method Text.text of <tf.core.text.Text object at 0x7fde58698990>>, upMethod=<bound method Locality.u of <tf.core.locality.Locality object at 0x7fde7b386d50>>, slotsMethod=<bound method OslotsFeature.s of <tf.core.oslotsfeature.OslotsFeature object at 0x7fde7b340bd0>>, lookupMethod=<bound method Api.Fs of <tf.core.api.Api object at 0x7fde7a438c90>>, browsing=False, webLink=<bound method webLink of <tf.apps.uruk.app.TfApp object at 0x7fde58e28f90>>, getGraphics=<bound method TfApp.getGraphics of <tf.apps.uruk.app.TfApp object at 0x7fde58e28f90>>),\n",
       "      'nContext': NodeContext(nType='sign', isSlot=True, isSlotOrDescend=True, descend=False, isBaseNonSlot=False, isLexType=False, lexType=None, lineNumberFeature=None, featuresBare=([], {}), features=([], {}), textCls='txtu', hlCls='', hlStyle='', cls={}, hasGraphics=True, after=None, plainCustom=<function plainAtfType at 0x7fde58e4b950>),\n",
       "      'boundaryCls': ''},\n",
       "     []),\n",
       "    ((106586, (106586, 106586)),\n",
       "     {'dContext': <tf.applib.displaysettings.DisplayCurrent at 0x7fde5c7b6b50>,\n",
       "      'oContext': OuterContext(slotType='sign', ltr='', fmt=None, textClsDefault='txtu', textMethod=<bound method Text.text of <tf.core.text.Text object at 0x7fde58698990>>, upMethod=<bound method Locality.u of <tf.core.locality.Locality object at 0x7fde7b386d50>>, slotsMethod=<bound method OslotsFeature.s of <tf.core.oslotsfeature.OslotsFeature object at 0x7fde7b340bd0>>, lookupMethod=<bound method Api.Fs of <tf.core.api.Api object at 0x7fde7a438c90>>, browsing=False, webLink=<bound method webLink of <tf.apps.uruk.app.TfApp object at 0x7fde58e28f90>>, getGraphics=<bound method TfApp.getGraphics of <tf.apps.uruk.app.TfApp object at 0x7fde58e28f90>>),\n",
       "      'nContext': NodeContext(nType='sign', isSlot=True, isSlotOrDescend=True, descend=False, isBaseNonSlot=False, isLexType=False, lexType=None, lineNumberFeature=None, featuresBare=([], {}), features=([], {}), textCls='txtu', hlCls='', hlStyle='', cls={}, hasGraphics=True, after=None, plainCustom=<function plainAtfType at 0x7fde58e4b950>),\n",
       "      'boundaryCls': ''},\n",
       "     []),\n",
       "    ((106587, (106587, 106587)),\n",
       "     {'dContext': <tf.applib.displaysettings.DisplayCurrent at 0x7fde5c7b6b50>,\n",
       "      'oContext': OuterContext(slotType='sign', ltr='', fmt=None, textClsDefault='txtu', textMethod=<bound method Text.text of <tf.core.text.Text object at 0x7fde58698990>>, upMethod=<bound method Locality.u of <tf.core.locality.Locality object at 0x7fde7b386d50>>, slotsMethod=<bound method OslotsFeature.s of <tf.core.oslotsfeature.OslotsFeature object at 0x7fde7b340bd0>>, lookupMethod=<bound method Api.Fs of <tf.core.api.Api object at 0x7fde7a438c90>>, browsing=False, webLink=<bound method webLink of <tf.apps.uruk.app.TfApp object at 0x7fde58e28f90>>, getGraphics=<bound method TfApp.getGraphics of <tf.apps.uruk.app.TfApp object at 0x7fde58e28f90>>),\n",
       "      'nContext': NodeContext(nType='sign', isSlot=True, isSlotOrDescend=True, descend=False, isBaseNonSlot=False, isLexType=False, lexType=None, lineNumberFeature=None, featuresBare=([], {}), features=([], {}), textCls='txtu', hlCls='', hlStyle='', cls={}, hasGraphics=True, after=None, plainCustom=<function plainAtfType at 0x7fde58e4b950>),\n",
       "      'boundaryCls': ''},\n",
       "     []),\n",
       "    ((106588, (106588, 106588)),\n",
       "     {'dContext': <tf.applib.displaysettings.DisplayCurrent at 0x7fde5c7b6b50>,\n",
       "      'oContext': OuterContext(slotType='sign', ltr='', fmt=None, textClsDefault='txtu', textMethod=<bound method Text.text of <tf.core.text.Text object at 0x7fde58698990>>, upMethod=<bound method Locality.u of <tf.core.locality.Locality object at 0x7fde7b386d50>>, slotsMethod=<bound method OslotsFeature.s of <tf.core.oslotsfeature.OslotsFeature object at 0x7fde7b340bd0>>, lookupMethod=<bound method Api.Fs of <tf.core.api.Api object at 0x7fde7a438c90>>, browsing=False, webLink=<bound method webLink of <tf.apps.uruk.app.TfApp object at 0x7fde58e28f90>>, getGraphics=<bound method TfApp.getGraphics of <tf.apps.uruk.app.TfApp object at 0x7fde58e28f90>>),\n",
       "      'nContext': NodeContext(nType='sign', isSlot=True, isSlotOrDescend=True, descend=False, isBaseNonSlot=False, isLexType=False, lexType=None, lineNumberFeature=None, featuresBare=([], {}), features=([], {}), textCls='txtu', hlCls='', hlStyle='', cls={}, hasGraphics=True, after=None, plainCustom=<function plainAtfType at 0x7fde58e4b950>),\n",
       "      'boundaryCls': ''},\n",
       "     []),\n",
       "    ((106589, (106589, 106589)),\n",
       "     {'dContext': <tf.applib.displaysettings.DisplayCurrent at 0x7fde5c7b6b50>,\n",
       "      'oContext': OuterContext(slotType='sign', ltr='', fmt=None, textClsDefault='txtu', textMethod=<bound method Text.text of <tf.core.text.Text object at 0x7fde58698990>>, upMethod=<bound method Locality.u of <tf.core.locality.Locality object at 0x7fde7b386d50>>, slotsMethod=<bound method OslotsFeature.s of <tf.core.oslotsfeature.OslotsFeature object at 0x7fde7b340bd0>>, lookupMethod=<bound method Api.Fs of <tf.core.api.Api object at 0x7fde7a438c90>>, browsing=False, webLink=<bound method webLink of <tf.apps.uruk.app.TfApp object at 0x7fde58e28f90>>, getGraphics=<bound method TfApp.getGraphics of <tf.apps.uruk.app.TfApp object at 0x7fde58e28f90>>),\n",
       "      'nContext': NodeContext(nType='sign', isSlot=True, isSlotOrDescend=True, descend=False, isBaseNonSlot=False, isLexType=False, lexType=None, lineNumberFeature=None, featuresBare=([], {}), features=([], {}), textCls='txtu', hlCls='', hlStyle='', cls={}, hasGraphics=True, after=None, plainCustom=<function plainAtfType at 0x7fde58e4b950>),\n",
       "      'boundaryCls': ''},\n",
       "     [])])])"
      ]
     },
     "execution_count": 17,
     "metadata": {},
     "output_type": "execute_result"
    }
   ],
   "source": [
    "tree"
   ]
  },
  {
   "cell_type": "code",
   "execution_count": 18,
   "metadata": {},
   "outputs": [
    {
     "data": {
      "text/html": [
       "<div class=\"section \"><a target=\"_blank\" href=\"https://cdli.ucla.edu/search/search_results.php?SearchMode=Text&amp;ObjectID=P005381\" title=\"to CDLI main page for this tablet\" sec=\"P005381 obverse:1:1\">P005381 obverse:1:1</a></div><div class=\" children\"><div class=\"contnr c2    \" ><div class=\"lbl c2  \" ><span class=\"nd\">case</span> <span class=\"txtu\"><span title=\"number\">1a</span><span title=\"prime\"></span></span></div><div class=\"children ver False \"><div class=\"contnr c0 trm   \" ><div class=\"lbl c0 trm \" ><span class=\"txtu\"><span title=\"atf\">2(N14)</span></span></div><div><a target=\"_blank\" href=\"https://cdli.ucla.edu/tools/SignLists/protocuneiform/archsigns/2(N14).jpg\" title=\"to higher resolution lineart on CDLI\"><img src=\"cdli-imagery/lineart-2(n14).jpg\" style=\"display: inline;max-width: 2em; max-height: 6em;\"  /></a></div></div><div class=\"contnr c0 trm   \" ><div class=\"lbl c0 trm \" ><span class=\"txtu\"><span title=\"atf\">SZE~a</span></span></div><div><a target=\"_blank\" href=\"https://cdli.ucla.edu/tools/SignLists/protocuneiform/archsigns/SZE~a.jpg\" title=\"to higher resolution lineart on CDLI\"><img src=\"cdli-imagery/lineart-sze-a.jpg\" style=\"display: inline;max-width: 2em; max-height: 6em;\"  /></a></div></div><div class=\"contnr c0 trm   \" ><div class=\"lbl c0 trm \" ><span class=\"txtu\"><span title=\"atf\">SAL</span></span></div><div><a target=\"_blank\" href=\"https://cdli.ucla.edu/tools/SignLists/protocuneiform/archsigns/SAL.jpg\" title=\"to higher resolution lineart on CDLI\"><img src=\"cdli-imagery/lineart-sal.jpg\" style=\"display: inline;max-width: 2em; max-height: 6em;\"  /></a></div></div><div class=\"contnr c0 trm   \" ><div class=\"lbl c0 trm \" ><span class=\"txtu\"><span title=\"atf\">TUR3~a</span></span></div><div><a target=\"_blank\" href=\"https://cdli.ucla.edu/tools/SignLists/protocuneiform/archsigns/TUR3~a.jpg\" title=\"to higher resolution lineart on CDLI\"><img src=\"cdli-imagery/lineart-tur3-a.jpg\" style=\"display: inline;max-width: 2em; max-height: 6em;\"  /></a></div></div><div class=\"contnr c0 trm   \" ><div class=\"lbl c0 trm \" ><span class=\"txtu\"><span title=\"atf\">NUN~a</span></span></div><div><a target=\"_blank\" href=\"https://cdli.ucla.edu/tools/SignLists/protocuneiform/archsigns/NUN~a.jpg\" title=\"to higher resolution lineart on CDLI\"><img src=\"cdli-imagery/lineart-nun-a.jpg\" style=\"display: inline;max-width: 2em; max-height: 6em;\"  /></a></div></div></div></div></div>"
      ],
      "text/plain": [
       "<IPython.core.display.HTML object>"
      ]
     },
     "metadata": {},
     "output_type": "display_data"
    }
   ],
   "source": [
    "A.pretty(c)"
   ]
  },
  {
   "cell_type": "code",
   "execution_count": 19,
   "metadata": {},
   "outputs": [
    {
     "data": {
      "text/html": [
       "<div style=\"display: flex;flex-flow: row nowrap;justify-content: flex-start;align-items: center;align-content: flex-start;\"><div style=\"padding: 0.5rem;\"><div style=\"display: flex;flex-flow: column nowrap;justify-content: space-between;align-items: center;align-content: space-between;\"><div><a target=\"_blank\" href=\"https://cdli.ucla.edu/dl/photo/P005381_d.jpg\" title=\"to higher resolution photo on CDLI\"><img src=\"cdli-imagery/photo-p005381.jpg\" style=\"display: inline;\"  /></a></div><div><a target=\"_blank\" href=\"https://cdli.ucla.edu/search/search_results.php?SearchMode=Text&amp;ObjectID=P005381\" title=\"to CDLI main page for this item\">P005381</a></div></div></div></div>"
      ],
      "text/plain": [
       "<IPython.core.display.HTML object>"
      ]
     },
     "metadata": {},
     "output_type": "display_data"
    }
   ],
   "source": [
    "A.photo(example)"
   ]
  },
  {
   "cell_type": "code",
   "execution_count": 20,
   "metadata": {},
   "outputs": [
    {
     "data": {
      "text/markdown": [
       "### tablet 143889\n"
      ],
      "text/plain": [
       "<IPython.core.display.Markdown object>"
      ]
     },
     "metadata": {},
     "output_type": "display_data"
    },
    {
     "data": {
      "text/html": [
       "<div class=\"\"><span class=\"section \"><a target=\"_blank\" href=\"https://cdli.ucla.edu/search/search_results.php?SearchMode=Text&amp;ObjectID=P006427\" title=\"to CDLI main page for this tablet\" sec=\"P006427\">P006427</a></span>  <span class=\"txtu \"><span class=\"section\"> </span></span></div>"
      ],
      "text/plain": [
       "<IPython.core.display.HTML object>"
      ]
     },
     "metadata": {},
     "output_type": "display_data"
    },
    {
     "data": {
      "text/html": [
       "<div class=\"section \"><a target=\"_blank\" href=\"https://cdli.ucla.edu/search/search_results.php?SearchMode=Text&amp;ObjectID=P006427\" title=\"to CDLI main page for this tablet\" sec=\"P006427\">P006427</a></div><div class=\" children\"><div class=\"contnr c4    \" ><div class=\"lbl c4  \" ><span class=\"nd\">tablet</span> <span class=\"txtu\"><span class=\"section\">P006427</span></span></div><div class='features'><span class=\"name \" title=\"name\">Anonymous 006427</span><span class=\"period \" title=\"period\">uruk-iii</span></div><div class=\"children ver  \"><div class=\"contnr c1 trm   \" ><div class=\"lbl c1 trm \" ><span class=\"nd\">comment</span> <span class=\"txtu\"><span class=\"plain \" ></span> </span></div></div><div class=\"contnr c2    \" ><div class=\"lbl c2  \" ><span class=\"nd\">face</span> <span class=\"txtu\"><span title=\"type\">obverse</span></span></div><div class=\"children hor  \"><div class=\"contnr c3    \" ><div class=\"lbl c3  \" ><span class=\"nd\">column</span> <span class=\"txtu\"><span title=\"number\">1</span><span title=\"prime\"></span></span></div><div class=\"children ver  \"><div class=\"contnr c2    \" ><div class=\"lbl c2  \" ><span class=\"nd\">line</span> <span class=\"txtu\"><span title=\"number\">1</span></span></div><div class=\"children hor  \"><div class=\"contnr c1 cluster trm   \" ><div class=\"lbl c1 clusterb trm \" ><span class=\"nd\">cluster</span> <span class=\"txtu\"><span title=\"type\">?</span></span></div></div><div class=\"children hor wrap \"><div class=\"contnr c0 trm   \" ><div class=\"lbl c0 trm \" ><span class=\"txtu\"><span title=\"atf\">...</span></span></div></div></div><div class=\"contnr c1 cluster {}   \" ><div class=\"lbl c1 clustere trm \" ><span class=\"nd\">cluster</span> <span class=\"txtu\"><span title=\"type\">?</span></span></div> </div><div class=\"contnr c0 trm   \" ><div class=\"lbl c0 trm \" ><span class=\"txtu\"><span title=\"atf\">X</span></span></div></div><div class=\"contnr c0 trm   \" ><div class=\"lbl c0 trm \" ><span class=\"txtu\"><span title=\"atf\">X</span></span></div></div></div></div></div></div><div class=\"contnr c3    \" ><div class=\"lbl c3  \" ><span class=\"nd\">column</span> <span class=\"txtu\"><span title=\"number\">2</span><span title=\"prime\"></span></span></div><div class=\"children ver  \"><div class=\"contnr c2    \" ><div class=\"lbl c2  \" ><span class=\"nd\">line</span> <span class=\"txtu\"><span title=\"number\">1</span></span></div><div class=\"children hor  \"><div class=\"contnr c0 trm   \" ><div class=\"lbl c0 trm \" ><span class=\"txtu\"><span title=\"atf\">3(N14)</span></span></div><div><a target=\"_blank\" href=\"https://cdli.ucla.edu/tools/SignLists/protocuneiform/archsigns/3(N14).jpg\" title=\"to higher resolution lineart on CDLI\"><img src=\"cdli-imagery/lineart-3(n14).jpg\" style=\"display: inline;max-width: 2em; max-height: 6em;\"  /></a></div></div><div class=\"contnr c0 trm   \" ><div class=\"lbl c0 trm \" ><span class=\"txtu\"><span title=\"atf\">X</span></span></div></div><div class=\"contnr c0 trm   \" ><div class=\"lbl c0 trm \" ><span class=\"txtu\"><span title=\"atf\">SANGA~a?</span></span></div><div><a target=\"_blank\" href=\"https://cdli.ucla.edu/tools/SignLists/protocuneiform/archsigns/SANGA~a.jpg\" title=\"to higher resolution lineart on CDLI\"><img src=\"cdli-imagery/lineart-sanga-a.jpg\" style=\"display: inline;max-width: 2em; max-height: 6em;\"  /></a></div></div><div class=\"contnr c1 cluster trm   \" ><div class=\"lbl c1 clusterb trm \" ><span class=\"nd\">cluster</span> <span class=\"txtu\"><span title=\"type\">?</span></span></div></div><div class=\"children hor wrap \"><div class=\"contnr c0 trm   \" ><div class=\"lbl c0 trm \" ><span class=\"txtu\"><span title=\"atf\">...</span></span></div></div></div><div class=\"contnr c1 cluster {}   \" ><div class=\"lbl c1 clustere trm \" ><span class=\"nd\">cluster</span> <span class=\"txtu\"><span title=\"type\">?</span></span></div> </div></div></div></div></div></div></div></div></div></div>"
      ],
      "text/plain": [
       "<IPython.core.display.HTML object>"
      ]
     },
     "metadata": {},
     "output_type": "display_data"
    },
    {
     "data": {
      "text/markdown": [
       "### face 150253\n"
      ],
      "text/plain": [
       "<IPython.core.display.Markdown object>"
      ]
     },
     "metadata": {},
     "output_type": "display_data"
    },
    {
     "data": {
      "text/html": [
       "<div class=\"\"><span class=\"section \"><a target=\"_blank\" href=\"https://cdli.ucla.edu/search/search_results.php?SearchMode=Text&amp;ObjectID=P006427\" title=\"to CDLI main page for this tablet\" sec=\"P006427 obverse:1:1\">P006427 obverse:1:1</a></span>  <span class=\"txtu \"><span title=\"type\">obverse</span></span></div>"
      ],
      "text/plain": [
       "<IPython.core.display.HTML object>"
      ]
     },
     "metadata": {},
     "output_type": "display_data"
    },
    {
     "data": {
      "text/html": [
       "<div class=\"section \"><a target=\"_blank\" href=\"https://cdli.ucla.edu/search/search_results.php?SearchMode=Text&amp;ObjectID=P006427\" title=\"to CDLI main page for this tablet\" sec=\"P006427 obverse:1:1\">P006427 obverse:1:1</a></div><div class=\" children\"><div class=\"contnr c2    \" ><div class=\"lbl c2  \" ><span class=\"nd\">face</span> <span class=\"txtu\"><span title=\"type\">obverse</span></span></div><div class=\"children hor  \"><div class=\"contnr c3    \" ><div class=\"lbl c3  \" ><span class=\"nd\">column</span> <span class=\"txtu\"><span title=\"number\">1</span><span title=\"prime\"></span></span></div><div class=\"children ver  \"><div class=\"contnr c2    \" ><div class=\"lbl c2  \" ><span class=\"nd\">line</span> <span class=\"txtu\"><span title=\"number\">1</span></span></div><div class=\"children hor  \"><div class=\"contnr c1 cluster trm   \" ><div class=\"lbl c1 clusterb trm \" ><span class=\"nd\">cluster</span> <span class=\"txtu\"><span title=\"type\">?</span></span></div></div><div class=\"children hor wrap \"><div class=\"contnr c0 trm   \" ><div class=\"lbl c0 trm \" ><span class=\"txtu\"><span title=\"atf\">...</span></span></div></div></div><div class=\"contnr c1 cluster {}   \" ><div class=\"lbl c1 clustere trm \" ><span class=\"nd\">cluster</span> <span class=\"txtu\"><span title=\"type\">?</span></span></div> </div><div class=\"contnr c0 trm   \" ><div class=\"lbl c0 trm \" ><span class=\"txtu\"><span title=\"atf\">X</span></span></div></div><div class=\"contnr c0 trm   \" ><div class=\"lbl c0 trm \" ><span class=\"txtu\"><span title=\"atf\">X</span></span></div></div></div></div></div></div><div class=\"contnr c3    \" ><div class=\"lbl c3  \" ><span class=\"nd\">column</span> <span class=\"txtu\"><span title=\"number\">2</span><span title=\"prime\"></span></span></div><div class=\"children ver  \"><div class=\"contnr c2    \" ><div class=\"lbl c2  \" ><span class=\"nd\">line</span> <span class=\"txtu\"><span title=\"number\">1</span></span></div><div class=\"children hor  \"><div class=\"contnr c0 trm   \" ><div class=\"lbl c0 trm \" ><span class=\"txtu\"><span title=\"atf\">3(N14)</span></span></div><div><a target=\"_blank\" href=\"https://cdli.ucla.edu/tools/SignLists/protocuneiform/archsigns/3(N14).jpg\" title=\"to higher resolution lineart on CDLI\"><img src=\"cdli-imagery/lineart-3(n14).jpg\" style=\"display: inline;max-width: 2em; max-height: 6em;\"  /></a></div></div><div class=\"contnr c0 trm   \" ><div class=\"lbl c0 trm \" ><span class=\"txtu\"><span title=\"atf\">X</span></span></div></div><div class=\"contnr c0 trm   \" ><div class=\"lbl c0 trm \" ><span class=\"txtu\"><span title=\"atf\">SANGA~a?</span></span></div><div><a target=\"_blank\" href=\"https://cdli.ucla.edu/tools/SignLists/protocuneiform/archsigns/SANGA~a.jpg\" title=\"to higher resolution lineart on CDLI\"><img src=\"cdli-imagery/lineart-sanga-a.jpg\" style=\"display: inline;max-width: 2em; max-height: 6em;\"  /></a></div></div><div class=\"contnr c1 cluster trm   \" ><div class=\"lbl c1 clusterb trm \" ><span class=\"nd\">cluster</span> <span class=\"txtu\"><span title=\"type\">?</span></span></div></div><div class=\"children hor wrap \"><div class=\"contnr c0 trm   \" ><div class=\"lbl c0 trm \" ><span class=\"txtu\"><span title=\"atf\">...</span></span></div></div></div><div class=\"contnr c1 cluster {}   \" ><div class=\"lbl c1 clustere trm \" ><span class=\"nd\">cluster</span> <span class=\"txtu\"><span title=\"type\">?</span></span></div> </div></div></div></div></div></div></div></div>"
      ],
      "text/plain": [
       "<IPython.core.display.HTML object>"
      ]
     },
     "metadata": {},
     "output_type": "display_data"
    },
    {
     "data": {
      "text/markdown": [
       "### column 180450\n"
      ],
      "text/plain": [
       "<IPython.core.display.Markdown object>"
      ]
     },
     "metadata": {},
     "output_type": "display_data"
    },
    {
     "data": {
      "text/html": [
       "<div class=\"\"><span class=\"section \"><a target=\"_blank\" href=\"https://cdli.ucla.edu/search/search_results.php?SearchMode=Text&amp;ObjectID=P006427\" title=\"to CDLI main page for this tablet\" sec=\"P006427 obverse:1\">P006427 obverse:1</a></span>  <span class=\"txtu \"><span class=\"section\"> </span></span></div>"
      ],
      "text/plain": [
       "<IPython.core.display.HTML object>"
      ]
     },
     "metadata": {},
     "output_type": "display_data"
    },
    {
     "data": {
      "text/html": [
       "<div class=\"section \"><a target=\"_blank\" href=\"https://cdli.ucla.edu/search/search_results.php?SearchMode=Text&amp;ObjectID=P006427\" title=\"to CDLI main page for this tablet\" sec=\"P006427 obverse:1\">P006427 obverse:1</a></div><div class=\" children\"><div class=\"contnr c3    \" ><div class=\"lbl c3  \" ><span class=\"nd\">column</span> <span class=\"txtu\"><span title=\"number\">1</span><span title=\"prime\"></span></span></div><div class=\"children ver  \"><div class=\"contnr c2    \" ><div class=\"lbl c2  \" ><span class=\"nd\">line</span> <span class=\"txtu\"><span title=\"number\">1</span></span></div><div class=\"children hor  \"><div class=\"contnr c1 cluster trm   \" ><div class=\"lbl c1 clusterb trm \" ><span class=\"nd\">cluster</span> <span class=\"txtu\"><span title=\"type\">?</span></span></div></div><div class=\"children hor wrap \"><div class=\"contnr c0 trm   \" ><div class=\"lbl c0 trm \" ><span class=\"txtu\"><span title=\"atf\">...</span></span></div></div></div><div class=\"contnr c1 cluster {}   \" ><div class=\"lbl c1 clustere trm \" ><span class=\"nd\">cluster</span> <span class=\"txtu\"><span title=\"type\">?</span></span></div> </div><div class=\"contnr c0 trm   \" ><div class=\"lbl c0 trm \" ><span class=\"txtu\"><span title=\"atf\">X</span></span></div></div><div class=\"contnr c0 trm   \" ><div class=\"lbl c0 trm \" ><span class=\"txtu\"><span title=\"atf\">X</span></span></div></div></div></div></div></div></div>"
      ],
      "text/plain": [
       "<IPython.core.display.HTML object>"
      ]
     },
     "metadata": {},
     "output_type": "display_data"
    },
    {
     "data": {
      "text/markdown": [
       "### line 227226\n"
      ],
      "text/plain": [
       "<IPython.core.display.Markdown object>"
      ]
     },
     "metadata": {},
     "output_type": "display_data"
    },
    {
     "data": {
      "text/html": [
       "<div class=\"\"><span class=\"section \"><a target=\"_blank\" href=\"https://cdli.ucla.edu/search/search_results.php?SearchMode=Text&amp;ObjectID=P006427\" title=\"to CDLI main page for this tablet\" sec=\"P006427 obverse:1:1\">P006427 obverse:1:1</a></span>  <span class=\"plain \" >[<span class=\"plain \" >...</span>]</span> <span class=\"plain \" >X</span> <span class=\"plain \" >X</span> </div>"
      ],
      "text/plain": [
       "<IPython.core.display.HTML object>"
      ]
     },
     "metadata": {},
     "output_type": "display_data"
    },
    {
     "data": {
      "text/html": [
       "<div class=\"section \"><a target=\"_blank\" href=\"https://cdli.ucla.edu/search/search_results.php?SearchMode=Text&amp;ObjectID=P006427\" title=\"to CDLI main page for this tablet\" sec=\"P006427 obverse:1:1\">P006427 obverse:1:1</a></div><div class=\" children\"><div class=\"contnr c2    \" ><div class=\"lbl c2  \" ><span class=\"nd\">line</span> <span class=\"txtu\"><span title=\"number\">1</span></span></div><div class=\"children hor  \"><div class=\"contnr c1 cluster trm   \" ><div class=\"lbl c1 clusterb trm \" ><span class=\"nd\">cluster</span> <span class=\"txtu\"><span title=\"type\">?</span></span></div></div><div class=\"children hor wrap \"><div class=\"contnr c0 trm   \" ><div class=\"lbl c0 trm \" ><span class=\"txtu\"><span title=\"atf\">...</span></span></div></div></div><div class=\"contnr c1 cluster {}   \" ><div class=\"lbl c1 clustere trm \" ><span class=\"nd\">cluster</span> <span class=\"txtu\"><span title=\"type\">?</span></span></div> </div><div class=\"contnr c0 trm   \" ><div class=\"lbl c0 trm \" ><span class=\"txtu\"><span title=\"atf\">X</span></span></div></div><div class=\"contnr c0 trm   \" ><div class=\"lbl c0 trm \" ><span class=\"txtu\"><span title=\"atf\">X</span></span></div></div></div></div></div>"
      ],
      "text/plain": [
       "<IPython.core.display.HTML object>"
      ]
     },
     "metadata": {},
     "output_type": "display_data"
    },
    {
     "data": {
      "text/markdown": [
       "### case 159709\n"
      ],
      "text/plain": [
       "<IPython.core.display.Markdown object>"
      ]
     },
     "metadata": {},
     "output_type": "display_data"
    },
    {
     "data": {
      "text/html": [
       "<div class=\"\"><span class=\"section \"><a target=\"_blank\" href=\"https://cdli.ucla.edu/search/search_results.php?SearchMode=Text&amp;ObjectID=P448702\" title=\"to CDLI main page for this tablet\" sec=\"P448702 obverse:1:2\">P448702 obverse:1:2</a></span>  <span class=\"txtu \"><span title=\"number\">2a</span><span title=\"prime\">'</span></span><span class=\"plain \" >[<span class=\"plain \" >N</span>]</span> <span class=\"plain \" >2(N14)</span>  <a target=\"_blank\" href=\"https://cdli.ucla.edu/tools/SignLists/protocuneiform/archsigns/2(N14).jpg\" title=\"to higher resolution lineart on CDLI\"><img src=\"cdli-imagery/lineart-2(n14).jpg\" style=\"display: inline;max-width: 2em; max-height: 6em;\"  /></a><span class=\"plain \" >3(N01)</span>  <a target=\"_blank\" href=\"https://cdli.ucla.edu/tools/SignLists/protocuneiform/archsigns/3(N01).jpg\" title=\"to higher resolution lineart on CDLI\"><img src=\"cdli-imagery/lineart-3(n01).jpg\" style=\"display: inline;max-width: 2em; max-height: 6em;\"  /></a><span class=\"plain \" >KASZ~b</span>  <a target=\"_blank\" href=\"https://cdli.ucla.edu/tools/SignLists/protocuneiform/archsigns/KASZ~b.jpg\" title=\"to higher resolution lineart on CDLI\"><img src=\"cdli-imagery/lineart-kasz-b.jpg\" style=\"display: inline;max-width: 2em; max-height: 6em;\"  /></a><span class=\"plain \" >NUN~a</span>  <a target=\"_blank\" href=\"https://cdli.ucla.edu/tools/SignLists/protocuneiform/archsigns/NUN~a.jpg\" title=\"to higher resolution lineart on CDLI\"><img src=\"cdli-imagery/lineart-nun-a.jpg\" style=\"display: inline;max-width: 2em; max-height: 6em;\"  /></a></div>"
      ],
      "text/plain": [
       "<IPython.core.display.HTML object>"
      ]
     },
     "metadata": {},
     "output_type": "display_data"
    },
    {
     "data": {
      "text/html": [
       "<div class=\"section \"><a target=\"_blank\" href=\"https://cdli.ucla.edu/search/search_results.php?SearchMode=Text&amp;ObjectID=P448702\" title=\"to CDLI main page for this tablet\" sec=\"P448702 obverse:1:2\">P448702 obverse:1:2</a></div><div class=\" children\"><div class=\"contnr c2    \" ><div class=\"lbl c2  \" ><span class=\"nd\">case</span> <span class=\"txtu\"><span title=\"number\">2a</span><span title=\"prime\">'</span></span></div><div class=\"children ver False \"><div class=\"contnr c1 cluster trm   \" ><div class=\"lbl c1 clusterb trm \" ><span class=\"nd\">cluster</span> <span class=\"txtu\"><span title=\"type\">?</span></span></div></div><div class=\"children hor wrap \"><div class=\"contnr c0 trm   \" ><div class=\"lbl c0 trm \" ><span class=\"txtu\"><span title=\"atf\">N</span></span></div></div></div><div class=\"contnr c1 cluster {}   \" ><div class=\"lbl c1 clustere trm \" ><span class=\"nd\">cluster</span> <span class=\"txtu\"><span title=\"type\">?</span></span></div> </div><div class=\"contnr c0 trm   \" ><div class=\"lbl c0 trm \" ><span class=\"txtu\"><span title=\"atf\">2(N14)</span></span></div><div><a target=\"_blank\" href=\"https://cdli.ucla.edu/tools/SignLists/protocuneiform/archsigns/2(N14).jpg\" title=\"to higher resolution lineart on CDLI\"><img src=\"cdli-imagery/lineart-2(n14).jpg\" style=\"display: inline;max-width: 2em; max-height: 6em;\"  /></a></div></div><div class=\"contnr c0 trm   \" ><div class=\"lbl c0 trm \" ><span class=\"txtu\"><span title=\"atf\">3(N01)</span></span></div><div><a target=\"_blank\" href=\"https://cdli.ucla.edu/tools/SignLists/protocuneiform/archsigns/3(N01).jpg\" title=\"to higher resolution lineart on CDLI\"><img src=\"cdli-imagery/lineart-3(n01).jpg\" style=\"display: inline;max-width: 2em; max-height: 6em;\"  /></a></div></div><div class=\"contnr c0 trm   \" ><div class=\"lbl c0 trm \" ><span class=\"txtu\"><span title=\"atf\">KASZ~b</span></span></div><div><a target=\"_blank\" href=\"https://cdli.ucla.edu/tools/SignLists/protocuneiform/archsigns/KASZ~b.jpg\" title=\"to higher resolution lineart on CDLI\"><img src=\"cdli-imagery/lineart-kasz-b.jpg\" style=\"display: inline;max-width: 2em; max-height: 6em;\"  /></a></div></div><div class=\"contnr c0 trm   \" ><div class=\"lbl c0 trm \" ><span class=\"txtu\"><span title=\"atf\">NUN~a</span></span></div><div><a target=\"_blank\" href=\"https://cdli.ucla.edu/tools/SignLists/protocuneiform/archsigns/NUN~a.jpg\" title=\"to higher resolution lineart on CDLI\"><img src=\"cdli-imagery/lineart-nun-a.jpg\" style=\"display: inline;max-width: 2em; max-height: 6em;\"  /></a></div></div></div></div></div>"
      ],
      "text/plain": [
       "<IPython.core.display.HTML object>"
      ]
     },
     "metadata": {},
     "output_type": "display_data"
    },
    {
     "data": {
      "text/markdown": [
       "### cluster 194473\n"
      ],
      "text/plain": [
       "<IPython.core.display.Markdown object>"
      ]
     },
     "metadata": {},
     "output_type": "display_data"
    },
    {
     "data": {
      "text/html": [
       "<div class=\"\"><span class=\"section \"><a target=\"_blank\" href=\"https://cdli.ucla.edu/search/search_results.php?SearchMode=Text&amp;ObjectID=P006427\" title=\"to CDLI main page for this tablet\" sec=\"P006427 obverse:1:1\">P006427 obverse:1:1</a></span>  <span class=\"plain \" >[<span class=\"plain \" >...</span>]</span> </div>"
      ],
      "text/plain": [
       "<IPython.core.display.HTML object>"
      ]
     },
     "metadata": {},
     "output_type": "display_data"
    },
    {
     "data": {
      "text/html": [
       "<div class=\"section \"><a target=\"_blank\" href=\"https://cdli.ucla.edu/search/search_results.php?SearchMode=Text&amp;ObjectID=P006427\" title=\"to CDLI main page for this tablet\" sec=\"P006427 obverse:1:1\">P006427 obverse:1:1</a></div><div class=\" children\"><div class=\"contnr c1 cluster trm   \" ><div class=\"lbl c1 clusterb trm \" ><span class=\"nd\">cluster</span> <span class=\"txtu\"><span title=\"type\">?</span></span></div></div><div class=\"children hor wrap \"><div class=\"contnr c0 trm   \" ><div class=\"lbl c0 trm \" ><span class=\"txtu\"><span title=\"atf\">...</span></span></div></div></div><div class=\"contnr c1 cluster {}   \" ><div class=\"lbl c1 clustere trm \" ><span class=\"nd\">cluster</span> <span class=\"txtu\"><span title=\"type\">?</span></span></div> </div></div>"
      ],
      "text/plain": [
       "<IPython.core.display.HTML object>"
      ]
     },
     "metadata": {},
     "output_type": "display_data"
    },
    {
     "data": {
      "text/markdown": [
       "### quad 140095\n"
      ],
      "text/plain": [
       "<IPython.core.display.Markdown object>"
      ]
     },
     "metadata": {},
     "output_type": "display_data"
    },
    {
     "data": {
      "text/html": [
       "<div class=\"\"><span class=\"section \"><a target=\"_blank\" href=\"https://cdli.ucla.edu/search/search_results.php?SearchMode=Text&amp;ObjectID=P006428\" title=\"to CDLI main page for this tablet\" sec=\"P006428 obverse:3:5\">P006428 obverse:3:5</a></span>  <span class=\"plain \" >|<span class=\"plain \" >DUG~b</span>x<span class=\"plain \" >1(N57)</span>|</span>  <a target=\"_blank\" href=\"https://cdli.ucla.edu/tools/SignLists/protocuneiform/archsigns/|DUG~bx1(N57)|.jpg\" title=\"to higher resolution lineart on CDLI\"><img src=\"cdli-imagery/lineart-qdug-bx1(n57)q.jpg\" style=\"display: inline;max-width: 4em; max-height: 4em;\"  /></a></div>"
      ],
      "text/plain": [
       "<IPython.core.display.HTML object>"
      ]
     },
     "metadata": {},
     "output_type": "display_data"
    },
    {
     "data": {
      "text/html": [
       "<div class=\"section \"><a target=\"_blank\" href=\"https://cdli.ucla.edu/search/search_results.php?SearchMode=Text&amp;ObjectID=P006428\" title=\"to CDLI main page for this tablet\" sec=\"P006428 obverse:3:5\">P006428 obverse:3:5</a></div><div class=\" children\"><div class=\"contnr c1    \" ><div class=\"lbl c1  \" ><span class=\"nd\">quad</span></div><div><a target=\"_blank\" href=\"https://cdli.ucla.edu/tools/SignLists/protocuneiform/archsigns/|DUG~bx1(N57)|.jpg\" title=\"to higher resolution lineart on CDLI\"><img src=\"cdli-imagery/lineart-qdug-bx1(n57)q.jpg\" style=\"display: inline;max-width: 4em; max-height: 4em;\"  /></a></div><div class=\"children hor wrap \"><div class=\"contnr c0 trm   \" ><div class=\"lbl c0 trm \" ><span class=\"txtu\"><span title=\"atf\">DUG~b</span></span></div></div><div class=\"op\">x</div><div class=\"contnr c0 trm   \" ><div class=\"lbl c0 trm \" ><span class=\"txtu\"><span title=\"atf\">1(N57)</span></span></div></div></div></div></div>"
      ],
      "text/plain": [
       "<IPython.core.display.HTML object>"
      ]
     },
     "metadata": {},
     "output_type": "display_data"
    },
    {
     "data": {
      "text/markdown": [
       "### comment 169360\n"
      ],
      "text/plain": [
       "<IPython.core.display.Markdown object>"
      ]
     },
     "metadata": {},
     "output_type": "display_data"
    },
    {
     "data": {
      "text/html": [
       "<div class=\"\"><span class=\"section \"><a target=\"_blank\" href=\"https://cdli.ucla.edu/search/search_results.php?SearchMode=Text&amp;ObjectID=P006427\" title=\"to CDLI main page for this tablet\" sec=\"P006427\">P006427</a></span>  <span class=\"plain \" ></span> </div>"
      ],
      "text/plain": [
       "<IPython.core.display.HTML object>"
      ]
     },
     "metadata": {},
     "output_type": "display_data"
    },
    {
     "data": {
      "text/html": [
       "<div class=\"section \"><a target=\"_blank\" href=\"https://cdli.ucla.edu/search/search_results.php?SearchMode=Text&amp;ObjectID=P006427\" title=\"to CDLI main page for this tablet\" sec=\"P006427\">P006427</a></div><div class=\" children\"><div class=\"contnr c1 trm   \" ><div class=\"lbl c1 trm \" ><span class=\"nd\">comment</span> <span class=\"txtu\"><span class=\"plain \" ></span> </span></div><div class='features'><span class=\"text \" title=\"text\">atf: lang qpc</span></div></div></div>"
      ],
      "text/plain": [
       "<IPython.core.display.HTML object>"
      ]
     },
     "metadata": {},
     "output_type": "display_data"
    },
    {
     "data": {
      "text/markdown": [
       "### sign 1\n"
      ],
      "text/plain": [
       "<IPython.core.display.Markdown object>"
      ]
     },
     "metadata": {},
     "output_type": "display_data"
    },
    {
     "data": {
      "text/html": [
       "<div class=\"\"><span class=\"section \"><a target=\"_blank\" href=\"https://cdli.ucla.edu/search/search_results.php?SearchMode=Text&amp;ObjectID=P006427\" title=\"to CDLI main page for this tablet\" sec=\"P006427\">P006427</a></span>  <span class=\"plain \" ></span> </div>"
      ],
      "text/plain": [
       "<IPython.core.display.HTML object>"
      ]
     },
     "metadata": {},
     "output_type": "display_data"
    },
    {
     "data": {
      "text/html": [
       "<div class=\"section \"><a target=\"_blank\" href=\"https://cdli.ucla.edu/search/search_results.php?SearchMode=Text&amp;ObjectID=P006427\" title=\"to CDLI main page for this tablet\" sec=\"P006427\">P006427</a></div><div class=\" children\"><div class=\"contnr c0 trm   \" ><div class=\"lbl c0 trm \" ><span class=\"txtu\"><span title=\"atf\"></span></span></div></div></div>"
      ],
      "text/plain": [
       "<IPython.core.display.HTML object>"
      ]
     },
     "metadata": {},
     "output_type": "display_data"
    }
   ],
   "source": [
    "typeShow(A)"
   ]
  },
  {
   "cell_type": "code",
   "execution_count": null,
   "metadata": {},
   "outputs": [],
   "source": [
    "A.showContext()"
   ]
  },
  {
   "cell_type": "code",
   "execution_count": null,
   "metadata": {},
   "outputs": [],
   "source": []
  }
 ],
 "metadata": {
  "kernelspec": {
   "display_name": "Python 3",
   "language": "python",
   "name": "python3"
  },
  "language_info": {
   "codemirror_mode": {
    "name": "ipython",
    "version": 3
   },
   "file_extension": ".py",
   "mimetype": "text/x-python",
   "name": "python",
   "nbconvert_exporter": "python",
   "pygments_lexer": "ipython3",
   "version": "3.7.7"
  }
 },
 "nbformat": 4,
 "nbformat_minor": 4
}
