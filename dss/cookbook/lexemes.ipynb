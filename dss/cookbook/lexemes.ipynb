{
 "cells": [
  {
   "cell_type": "code",
   "execution_count": 1,
   "metadata": {},
   "outputs": [
    {
     "name": "stdout",
     "output_type": "stream",
     "text": [
      "Using TF-app in /Users/dirk/github/annotation/app-dss/code:\n",
      "\trepo clone offline under ~/github (local github)\n",
      "Using data in /Users/dirk/github/etcbc/dss/tf/0.4:\n",
      "\trepo clone offline under ~/github (local github)\n",
      "Using data in /Users/dirk/github/etcbc/dss/parallels/tf/0.4:\n",
      "\trepo clone offline under ~/github (local github)\n"
     ]
    },
    {
     "data": {
      "text/html": [
       "<b>Documentation:</b> <a target=\"_blank\" href=\"https://github.com/etcbc/dss/blob/master/docs/\" title=\"provenance of Dead Sea Scrolls\">DSS</a> <a target=\"_blank\" href=\"https://annotation.github.io/text-fabric/Writing/Hebrew.html\" title=\"Hebrew characters and transcriptions\">Character table</a> <a target=\"_blank\" href=\"https://github.com/etcbc/dss/blob/master/docs//transcription.md\" title=\"DSS feature documentation\">Feature docs</a> <a target=\"_blank\" href=\"https://github.com/annotation/app-dss\" title=\"dss API documentation\">dss API</a> <a target=\"_blank\" href=\"https://annotation.github.io/text-fabric/Api/Fabric/\" title=\"text-fabric-api\">Text-Fabric API 7.7.1</a> <a target=\"_blank\" href=\"https://annotation.github.io/text-fabric/Use/Search/\" title=\"Search Templates Introduction and Reference\">Search Reference</a><details open><summary><b>Loaded features</b>:</summary>\n",
       "<p><b>Dead Sea Scrolls</b>: <a target=\"_blank\" href=\"https://github.com/etcbc/dss/blob/master/docs//transcription.md\" title=\"/Users/dirk/github/etcbc/dss/tf/0.4/after.tf\">after</a>  <a target=\"_blank\" href=\"https://github.com/etcbc/dss/blob/master/docs//transcription.md\" title=\"/Users/dirk/github/etcbc/dss/tf/0.4/alt.tf\">alt</a>  <a target=\"_blank\" href=\"https://github.com/etcbc/dss/blob/master/docs//transcription.md\" title=\"/Users/dirk/github/etcbc/dss/tf/0.4/biblical.tf\">biblical</a>  <a target=\"_blank\" href=\"https://github.com/etcbc/dss/blob/master/docs//transcription.md\" title=\"/Users/dirk/github/etcbc/dss/tf/0.4/book.tf\">book</a>  <a target=\"_blank\" href=\"https://github.com/etcbc/dss/blob/master/docs//transcription.md\" title=\"/Users/dirk/github/etcbc/dss/tf/0.4/chapter.tf\">chapter</a>  <a target=\"_blank\" href=\"https://github.com/etcbc/dss/blob/master/docs//transcription.md\" title=\"/Users/dirk/github/etcbc/dss/tf/0.4/cl.tf\">cl</a>  <a target=\"_blank\" href=\"https://github.com/etcbc/dss/blob/master/docs//transcription.md\" title=\"/Users/dirk/github/etcbc/dss/tf/0.4/cl2.tf\">cl2</a>  <a target=\"_blank\" href=\"https://github.com/etcbc/dss/blob/master/docs//transcription.md\" title=\"/Users/dirk/github/etcbc/dss/tf/0.4/cor.tf\">cor</a>  <a target=\"_blank\" href=\"https://github.com/etcbc/dss/blob/master/docs//transcription.md\" title=\"/Users/dirk/github/etcbc/dss/tf/0.4/fragment.tf\">fragment</a>  <a target=\"_blank\" href=\"https://github.com/etcbc/dss/blob/master/docs//transcription.md\" title=\"/Users/dirk/github/etcbc/dss/tf/0.4/full.tf\">full</a>  <a target=\"_blank\" href=\"https://github.com/etcbc/dss/blob/master/docs//transcription.md\" title=\"/Users/dirk/github/etcbc/dss/tf/0.4/fulle.tf\">fulle</a>  <a target=\"_blank\" href=\"https://github.com/etcbc/dss/blob/master/docs//transcription.md\" title=\"/Users/dirk/github/etcbc/dss/tf/0.4/fullo.tf\">fullo</a>  <a target=\"_blank\" href=\"https://github.com/etcbc/dss/blob/master/docs//transcription.md\" title=\"/Users/dirk/github/etcbc/dss/tf/0.4/glex.tf\">glex</a>  <a target=\"_blank\" href=\"https://github.com/etcbc/dss/blob/master/docs//transcription.md\" title=\"/Users/dirk/github/etcbc/dss/tf/0.4/glexe.tf\">glexe</a>  <a target=\"_blank\" href=\"https://github.com/etcbc/dss/blob/master/docs//transcription.md\" title=\"/Users/dirk/github/etcbc/dss/tf/0.4/glexo.tf\">glexo</a>  <a target=\"_blank\" href=\"https://github.com/etcbc/dss/blob/master/docs//transcription.md\" title=\"/Users/dirk/github/etcbc/dss/tf/0.4/glyph.tf\">glyph</a>  <a target=\"_blank\" href=\"https://github.com/etcbc/dss/blob/master/docs//transcription.md\" title=\"/Users/dirk/github/etcbc/dss/tf/0.4/glyphe.tf\">glyphe</a>  <a target=\"_blank\" href=\"https://github.com/etcbc/dss/blob/master/docs//transcription.md\" title=\"/Users/dirk/github/etcbc/dss/tf/0.4/glypho.tf\">glypho</a>  <a target=\"_blank\" href=\"https://github.com/etcbc/dss/blob/master/docs//transcription.md\" title=\"/Users/dirk/github/etcbc/dss/tf/0.4/gn.tf\">gn</a>  <a target=\"_blank\" href=\"https://github.com/etcbc/dss/blob/master/docs//transcription.md\" title=\"/Users/dirk/github/etcbc/dss/tf/0.4/gn2.tf\">gn2</a>  <a target=\"_blank\" href=\"https://github.com/etcbc/dss/blob/master/docs//transcription.md\" title=\"/Users/dirk/github/etcbc/dss/tf/0.4/gn3.tf\">gn3</a>  <a target=\"_blank\" href=\"https://github.com/etcbc/dss/blob/master/docs//transcription.md\" title=\"/Users/dirk/github/etcbc/dss/tf/0.4/halfverse.tf\">halfverse</a>  <a target=\"_blank\" href=\"https://github.com/etcbc/dss/blob/master/docs//transcription.md\" title=\"/Users/dirk/github/etcbc/dss/tf/0.4/intl.tf\">intl</a>  <a target=\"_blank\" href=\"https://github.com/etcbc/dss/blob/master/docs//transcription.md\" title=\"/Users/dirk/github/etcbc/dss/tf/0.4/lang.tf\">lang</a>  <a target=\"_blank\" href=\"https://github.com/etcbc/dss/blob/master/docs//transcription.md\" title=\"/Users/dirk/github/etcbc/dss/tf/0.4/lex.tf\">lex</a>  <a target=\"_blank\" href=\"https://github.com/etcbc/dss/blob/master/docs//transcription.md\" title=\"/Users/dirk/github/etcbc/dss/tf/0.4/lexe.tf\">lexe</a>  <a target=\"_blank\" href=\"https://github.com/etcbc/dss/blob/master/docs//transcription.md\" title=\"/Users/dirk/github/etcbc/dss/tf/0.4/lexo.tf\">lexo</a>  <a target=\"_blank\" href=\"https://github.com/etcbc/dss/blob/master/docs//transcription.md\" title=\"/Users/dirk/github/etcbc/dss/tf/0.4/line.tf\">line</a>  <a target=\"_blank\" href=\"https://github.com/etcbc/dss/blob/master/docs//transcription.md\" title=\"/Users/dirk/github/etcbc/dss/tf/0.4/md.tf\">md</a>  <a target=\"_blank\" href=\"https://github.com/etcbc/dss/blob/master/docs//transcription.md\" title=\"/Users/dirk/github/etcbc/dss/tf/0.4/merr.tf\">merr</a>  <a target=\"_blank\" href=\"https://github.com/etcbc/dss/blob/master/docs//transcription.md\" title=\"/Users/dirk/github/etcbc/dss/tf/0.4/morpho.tf\">morpho</a>  <a target=\"_blank\" href=\"https://github.com/etcbc/dss/blob/master/docs//transcription.md\" title=\"/Users/dirk/github/etcbc/dss/tf/0.4/nu.tf\">nu</a>  <a target=\"_blank\" href=\"https://github.com/etcbc/dss/blob/master/docs//transcription.md\" title=\"/Users/dirk/github/etcbc/dss/tf/0.4/nu2.tf\">nu2</a>  <a target=\"_blank\" href=\"https://github.com/etcbc/dss/blob/master/docs//transcription.md\" title=\"/Users/dirk/github/etcbc/dss/tf/0.4/nu3.tf\">nu3</a>  <a target=\"_blank\" href=\"https://github.com/etcbc/dss/blob/master/docs//transcription.md\" title=\"/Users/dirk/github/etcbc/dss/tf/0.4/otype.tf\">otype</a>  <a target=\"_blank\" href=\"https://github.com/etcbc/dss/blob/master/docs//transcription.md\" title=\"/Users/dirk/github/etcbc/dss/tf/0.4/ps.tf\">ps</a>  <a target=\"_blank\" href=\"https://github.com/etcbc/dss/blob/master/docs//transcription.md\" title=\"/Users/dirk/github/etcbc/dss/tf/0.4/ps2.tf\">ps2</a>  <a target=\"_blank\" href=\"https://github.com/etcbc/dss/blob/master/docs//transcription.md\" title=\"/Users/dirk/github/etcbc/dss/tf/0.4/ps3.tf\">ps3</a>  <a target=\"_blank\" href=\"https://github.com/etcbc/dss/blob/master/docs//transcription.md\" title=\"/Users/dirk/github/etcbc/dss/tf/0.4/punc.tf\">punc</a>  <a target=\"_blank\" href=\"https://github.com/etcbc/dss/blob/master/docs//transcription.md\" title=\"/Users/dirk/github/etcbc/dss/tf/0.4/punce.tf\">punce</a>  <a target=\"_blank\" href=\"https://github.com/etcbc/dss/blob/master/docs//transcription.md\" title=\"/Users/dirk/github/etcbc/dss/tf/0.4/punco.tf\">punco</a>  <a target=\"_blank\" href=\"https://github.com/etcbc/dss/blob/master/docs//transcription.md\" title=\"/Users/dirk/github/etcbc/dss/tf/0.4/rec.tf\">rec</a>  <a target=\"_blank\" href=\"https://github.com/etcbc/dss/blob/master/docs//transcription.md\" title=\"/Users/dirk/github/etcbc/dss/tf/0.4/rem.tf\">rem</a>  <a target=\"_blank\" href=\"https://github.com/etcbc/dss/blob/master/docs//transcription.md\" title=\"/Users/dirk/github/etcbc/dss/tf/0.4/script.tf\">script</a>  <a target=\"_blank\" href=\"https://github.com/etcbc/dss/blob/master/docs//transcription.md\" title=\"/Users/dirk/github/etcbc/dss/tf/0.4/scroll.tf\">scroll</a>  <a target=\"_blank\" href=\"https://github.com/etcbc/dss/blob/master/docs//transcription.md\" title=\"/Users/dirk/github/etcbc/dss/tf/0.4/sp.tf\">sp</a>  <a target=\"_blank\" href=\"https://github.com/etcbc/dss/blob/master/docs//transcription.md\" title=\"/Users/dirk/github/etcbc/dss/tf/0.4/srcLn.tf\">srcLn</a>  <a target=\"_blank\" href=\"https://github.com/etcbc/dss/blob/master/docs//transcription.md\" title=\"/Users/dirk/github/etcbc/dss/tf/0.4/st.tf\">st</a>  <a target=\"_blank\" href=\"https://github.com/etcbc/dss/blob/master/docs//transcription.md\" title=\"/Users/dirk/github/etcbc/dss/tf/0.4/type.tf\">type</a>  <a target=\"_blank\" href=\"https://github.com/etcbc/dss/blob/master/docs//transcription.md\" title=\"/Users/dirk/github/etcbc/dss/tf/0.4/unc.tf\">unc</a>  <a target=\"_blank\" href=\"https://github.com/etcbc/dss/blob/master/docs//transcription.md\" title=\"/Users/dirk/github/etcbc/dss/tf/0.4/vac.tf\">vac</a>  <a target=\"_blank\" href=\"https://github.com/etcbc/dss/blob/master/docs//transcription.md\" title=\"/Users/dirk/github/etcbc/dss/tf/0.4/verse.tf\">verse</a>  <a target=\"_blank\" href=\"https://github.com/etcbc/dss/blob/master/docs//transcription.md\" title=\"/Users/dirk/github/etcbc/dss/tf/0.4/vs.tf\">vs</a>  <a target=\"_blank\" href=\"https://github.com/etcbc/dss/blob/master/docs//transcription.md\" title=\"/Users/dirk/github/etcbc/dss/tf/0.4/vt.tf\">vt</a>  <b><i><a target=\"_blank\" href=\"https://github.com/etcbc/dss/blob/master/docs//transcription.md\" title=\"/Users/dirk/github/etcbc/dss/tf/0.4/occ.tf\">occ</a></i></b>  <b><i><a target=\"_blank\" href=\"https://github.com/etcbc/dss/blob/master/docs//transcription.md\" title=\"/Users/dirk/github/etcbc/dss/tf/0.4/oslots.tf\">oslots</a></i></b> </p><p><b>Parallel Passages</b>: <b><i><a target=\"_blank\" href=\"https://nbviewer.jupyter.org/github/etcbc/dss/blob/master/programs/parallels.ipynb\" title=\"/Users/dirk/github/etcbc/dss/parallels/tf/0.4/sim.tf\">sim</a></i></b> </p></details>"
      ],
      "text/plain": [
       "<IPython.core.display.HTML object>"
      ]
     },
     "metadata": {},
     "output_type": "display_data"
    },
    {
     "data": {
      "text/html": [
       "<style>\n",
       "@font-face {\n",
       "  font-family: \"Ezra SIL\";\n",
       "  src:\n",
       "    local(\"SILEOT.ttf\"),\n",
       "    url(\"https://github.com/annotation/text-fabric/blob/master/tf/server/static/fonts/SILEOT.woff?raw=true\");\n",
       "}\n",
       ".txtn,.txtn a:visited,.txtn a:link {\n",
       "    font-family: sans-serif;\n",
       "    font-size: normal;\n",
       "    text-decoration: none;\n",
       "    direction: ltr;\n",
       "}\n",
       ".txte,.txte a:visited,.txte a:link {\n",
       "    font-family: monospace;\n",
       "    font-size: normal;\n",
       "    text-decoration: none;\n",
       "    direction: ltr;\n",
       "}\n",
       ".txto,.txto a:visited,.txto a:link {\n",
       "    font-family: serif;\n",
       "    font-size: large;\n",
       "    text-decoration: none;\n",
       "    direction: ltr;\n",
       "}\n",
       ".txtu,.txtu a:visited,.txtu a:link {\n",
       "    font-family: \"Ezra SIL\", \"SBL Hebrew\", sans-serif;\n",
       "    font-size: x-large;\n",
       "    text-decoration: none;\n",
       "    direction: rtl;\n",
       "}\n",
       ".full,.glyph,.lex,.punc {\n",
       "    font-family: \"Ezra SIL\", \"SBL Hebrew\", sans-serif;\n",
       "}\n",
       ".lex {\n",
       "  color: mediumblue;\n",
       "}\n",
       ".features {\n",
       "    font-family: monospace;\n",
       "    font-size: medium;\n",
       "    font-weight: bold;\n",
       "    color: #0a6611;\n",
       "    display: flex;\n",
       "    flex-flow: column nowrap;\n",
       "    padding: 0.1em;\n",
       "    margin: 0.1em;\n",
       "    direction: ltr;\n",
       "}\n",
       ".features div,.features span {\n",
       "    padding: 0;\n",
       "    margin: -0.1rem 0;\n",
       "}\n",
       ".features .f {\n",
       "    font-family: sans-serif;\n",
       "    font-size: x-small;\n",
       "    font-weight: normal;\n",
       "    color: #5555bb;\n",
       "}\n",
       ".features .xft {\n",
       "  color: #000000;\n",
       "  background-color: #eeeeee;\n",
       "  font-size: medium;\n",
       "  margin: 0.1em 0em;\n",
       "}\n",
       ".features .xft .f {\n",
       "  color: #000000;\n",
       "  background-color: #eeeeee;\n",
       "  font-style: italic;\n",
       "  font-size: small;\n",
       "  font-weight: normal;\n",
       "}\n",
       ".ltr {\n",
       "    direction: ltr ! important;\n",
       "}\n",
       ".nd {\n",
       "    font-family: monospace;\n",
       "    font-size: x-small;\n",
       "    color: #999999;\n",
       "}\n",
       ".meta {\n",
       "    display: flex;\n",
       "    justify-content: flex-start;\n",
       "    align-items: flex-start;\n",
       "    align-content: flex-start;\n",
       "    flex-flow: row nowrap;\n",
       "}\n",
       ".features {\n",
       "    display: flex;\n",
       "    justify-content: flex-start;\n",
       "    align-items: flex-start;\n",
       "    align-content: flex-start;\n",
       "    flex-flow: column nowrap;\n",
       "}\n",
       ".children {\n",
       "    display: flex;\n",
       "    justify-content: flex-start;\n",
       "    align-items: flex-start;\n",
       "    align-content: flex-start;\n",
       "    border: 0;\n",
       "    background-color: #ffffff;\n",
       "}\n",
       ".children.scroll {\n",
       "    flex-flow: column nowrap;\n",
       "}\n",
       ".children.fragment {\n",
       "    flex-flow: column nowrap;\n",
       "}\n",
       ".children.line {\n",
       "    align-items: stretch;\n",
       "    flex-flow: row wrap;\n",
       "}\n",
       ".children.cluster {\n",
       "    flex-flow: row wrap;\n",
       "}\n",
       ".children.word {\n",
       "    align-items: stretch;\n",
       "    flex-flow: row nowrap;\n",
       "}\n",
       ".children.sign {\n",
       "    flex-flow: column nowrap;\n",
       "}\n",
       ".contnr {\n",
       "    width: fit-content;\n",
       "    direction: rtl;\n",
       "}\n",
       ".contnr.scroll,.contnr.fragment,\n",
       ".contnr.line,\n",
       ".contnr.cluster,\n",
       ".contnr.word,\n",
       ".contnr.sign {\n",
       "    display: flex;\n",
       "    justify-content: flex-start;\n",
       "    align-items: flex-start;\n",
       "    align-content: flex-start;\n",
       "    flex-flow: column nowrap;\n",
       "    background: #ffffff none repeat scroll 0 0;\n",
       "    padding:  0.5em 0.1em 0.1em 0.1em;\n",
       "    margin: 0.8em 0.1em 0.1em 0.1em;\n",
       "    border-radius: 0.2em;\n",
       "    border-style: solid;\n",
       "    border-width: 0.2em;\n",
       "    font-size: small;\n",
       "}\n",
       ".contnr.scroll,.contnr.fragment {\n",
       "    border-color: #bb8800;\n",
       "}\n",
       ".contnr.line {\n",
       "    border-color: #0088bb;\n",
       "}\n",
       ".contnr.cluster {\n",
       "    flex-flow: row wrap;\n",
       "    border: 0;\n",
       "}\n",
       ".contnr.word {\n",
       "    border-color: #44bbff;\n",
       "}\n",
       ".contnr.sign {\n",
       "    border-color: #bbbbbb;\n",
       "}\n",
       ".contnr.hl {\n",
       "    background-color: #ffee66;\n",
       "}\n",
       ".lbl.scroll,.lbl.fragment,\n",
       ".lbl.line,\n",
       ".lbl.cluster,\n",
       ".lbl.sign,.lbl.word {\n",
       "    margin-top: -1.2em;\n",
       "    margin-left: 1em;\n",
       "    background: #ffffff none repeat scroll 0 0;\n",
       "    padding: 0 0.3em;\n",
       "    border-style: solid;\n",
       "    font-size: small;\n",
       "    display: block;\n",
       "}\n",
       ".lbl.scroll,.lbl.fragment {\n",
       "    border-color: #bb8800;\n",
       "    border-width: 0.3em;\n",
       "    border-radius: 0.3em;\n",
       "    color: #bb8800;\n",
       "}\n",
       ".lbl.line {\n",
       "    border-color: #0088bb;\n",
       "    border-width: 0.3em;\n",
       "    border-radius: 0.3em;\n",
       "    color: #0088bb;\n",
       "}\n",
       ".lbl.cluster {\n",
       "    border-color: #dddddd;\n",
       "    border-width: 0.2em;\n",
       "    border-radius: 0.2em;\n",
       "    color: #0000cc;\n",
       "}\n",
       ".lbl.word {\n",
       "    border-color: #44bbff;\n",
       "    border-width: 0.2em;\n",
       "    border-radius: 0.2em;\n",
       "    font-size: medium;\n",
       "    color: #000000;\n",
       "}\n",
       ".lbl.sign {\n",
       "    border-color: #bbbbbb;\n",
       "    border-width: 0.1em;\n",
       "    border-radius: 0.1em;\n",
       "    font-size: small;\n",
       "    color: #000000;\n",
       "}\n",
       ".name {\n",
       "    font-family: monospace;\n",
       "    font-size: medium;\n",
       "    color: #0000bb;\n",
       "}\n",
       ".text {\n",
       "    font-family: sans-serif;\n",
       "    font-size: x-small;\n",
       "    color: #000000;\n",
       "}\n",
       ".srcln {\n",
       "    font-family: monospace;\n",
       "    font-size: x-small;\n",
       "    color: #0000bb;\n",
       "}\n",
       ".scriptpaleohebrew {\n",
       "    border: 1px dashed navy;\n",
       "}\n",
       ".scriptgreekcapital {\n",
       "    border: 1px dashed brown;\n",
       "}\n",
       ".langa {\n",
       "    text-decoration: underline;\n",
       "}\n",
       ".intl1 {\n",
       "    vertical-align: -0.25em;\n",
       "}\n",
       ".intl2 {\n",
       "    vertical-align: -0.5em;\n",
       "}\n",
       ".langg {\n",
       "    font-family: serif;\n",
       "    text-decoration: underline;\n",
       "}\n",
       ".vac1 {\n",
       "    background-color: #aaaaaa;\n",
       "    border 2pt solid #dd3333;\n",
       "    border-radius: 4pt;\n",
       "}\n",
       ".rem1 {\n",
       "    font-weight: bold;\n",
       "    color: red;\n",
       "    text-decoration: line-through;\n",
       "}\n",
       ".rem2 {\n",
       "    font-weight: bold;\n",
       "    color: maroon;\n",
       "    text-decoration: line-through;\n",
       "}\n",
       ".rec1 {\n",
       "    color: teal;\n",
       "    font-size: 80%;\n",
       "}\n",
       ".cor1 {\n",
       "    font-weight: bold;\n",
       "    color: dodgerblue;\n",
       "    text-decoration: overline;\n",
       "}\n",
       ".cor2 {\n",
       "    font-weight: bold;\n",
       "    color: navy;\n",
       "    text-decoration: overline;\n",
       "}\n",
       ".cor3 {\n",
       "    font-weight: bold;\n",
       "    color: navy;\n",
       "    text-decoration: overline;\n",
       "    vertical-align: super;\n",
       "}\n",
       ".alt1 {\n",
       "    text-decoration: overline;\n",
       "}\n",
       "\n",
       "/* UNSURE: italic*/\n",
       "\n",
       ".unc1 {\n",
       "    font-weight: bold;\n",
       "    color: #888888;\n",
       "}\n",
       ".unc2 {\n",
       "    font-weight: bold;\n",
       "    color: #bbbbbb;\n",
       "}\n",
       ".unc3 {\n",
       "    font-weight: bold;\n",
       "    color: #bbbbbb;\n",
       "    text-shadow: #cccccc 1px 1px;\n",
       "}\n",
       ".unc4 {\n",
       "    font-weight: bold;\n",
       "    color: #dddddd;\n",
       "    text-shadow: #eeeeee 2px 2px;\n",
       "}\n",
       "\n",
       "/* cluster */\n",
       ".empty {\n",
       "  color: #ff0000;\n",
       "}\n",
       "\n",
       "\n",
       "tr.tf, td.tf, th.tf {\n",
       "  text-align: left;\n",
       "}\n",
       "\n",
       "span.hldot {\n",
       "\tbackground-color: var(--hl-strong);\n",
       "\tborder: 0.2rem solid var(--hl-rim);\n",
       "\tborder-radius: 0.4rem;\n",
       "\t/*\n",
       "\tdisplay: inline-block;\n",
       "\twidth: 0.8rem;\n",
       "\theight: 0.8rem;\n",
       "\t*/\n",
       "}\n",
       "span.hl {\n",
       "\tbackground-color: var(--hl-strong);\n",
       "\tborder-width: 0;\n",
       "\tborder-radius: 0.1rem;\n",
       "\tborder-style: solid;\n",
       "}\n",
       "\n",
       "span.hlup {\n",
       "\tborder-color: var(--hl-dark);\n",
       "\tborder-width: 0.1rem;\n",
       "\tborder-style: solid;\n",
       "\tborder-radius: 0.2rem;\n",
       "  padding: 0.2rem;\n",
       "}\n",
       "\n",
       ":root {\n",
       "\t--hl-strong:        hsla( 60, 100%,  70%, 0.9  );\n",
       "\t--hl-rim:           hsla( 55, 100%,  60%, 0.9  );\n",
       "\t--hl-dark:          hsla( 55, 100%,  40%, 0.9  );\n",
       "}\n",
       "</style>"
      ],
      "text/plain": [
       "<IPython.core.display.HTML object>"
      ]
     },
     "metadata": {},
     "output_type": "display_data"
    },
    {
     "data": {
      "text/html": [
       "<details open><summary><b>API members</b>:</summary>\n",
       "<a target=\"_blank\" href=\"https://annotation.github.io/text-fabric/Api/Computed/#computed-data\" title=\"doc\">C Computed</a>, <a target=\"_blank\" href=\"https://annotation.github.io/text-fabric/Api/Computed/#computed-data\" title=\"doc\">Call AllComputeds</a>, <a target=\"_blank\" href=\"https://annotation.github.io/text-fabric/Api/Computed/#computed-data\" title=\"doc\">Cs ComputedString</a><br/>\n",
       "<a target=\"_blank\" href=\"https://annotation.github.io/text-fabric/Api/Features/#edge-features\" title=\"doc\">E Edge</a>, <a target=\"_blank\" href=\"https://annotation.github.io/text-fabric/Api/Features/#edge-features\" title=\"doc\">Eall AllEdges</a>, <a target=\"_blank\" href=\"https://annotation.github.io/text-fabric/Api/Features/#edge-features\" title=\"doc\">Es EdgeString</a><br/>\n",
       "<a target=\"_blank\" href=\"https://annotation.github.io/text-fabric/Api/Fabric/#loading\" title=\"doc\">ensureLoaded</a>, <a target=\"_blank\" href=\"https://annotation.github.io/text-fabric/Api/Fabric/#loading\" title=\"doc\">TF</a>, <a target=\"_blank\" href=\"https://annotation.github.io/text-fabric/Api/Fabric/#loading\" title=\"doc\">ignored</a>, <a target=\"_blank\" href=\"https://annotation.github.io/text-fabric/Api/Fabric/#loading\" title=\"doc\">loadLog</a><br/>\n",
       "<a target=\"_blank\" href=\"https://annotation.github.io/text-fabric/Api/Locality/#locality\" title=\"doc\">L Locality</a><br/>\n",
       "<a target=\"_blank\" href=\"https://annotation.github.io/text-fabric/Api/Misc/#messaging\" title=\"doc\">cache</a>, <a target=\"_blank\" href=\"https://annotation.github.io/text-fabric/Api/Misc/#messaging\" title=\"doc\">error</a>, <a target=\"_blank\" href=\"https://annotation.github.io/text-fabric/Api/Misc/#messaging\" title=\"doc\">indent</a>, <a target=\"_blank\" href=\"https://annotation.github.io/text-fabric/Api/Misc/#messaging\" title=\"doc\">info</a>, <a target=\"_blank\" href=\"https://annotation.github.io/text-fabric/Api/Misc/#messaging\" title=\"doc\">reset</a><br/>\n",
       "<a target=\"_blank\" href=\"https://annotation.github.io/text-fabric/Api/Nodes/#navigating-nodes\" title=\"doc\">N Nodes</a>, <a target=\"_blank\" href=\"https://annotation.github.io/text-fabric/Api/Nodes/#navigating-nodes\" title=\"doc\">sortKey</a>, <a target=\"_blank\" href=\"https://annotation.github.io/text-fabric/Api/Nodes/#navigating-nodes\" title=\"doc\">sortKeyTuple</a>, <a target=\"_blank\" href=\"https://annotation.github.io/text-fabric/Api/Nodes/#navigating-nodes\" title=\"doc\">otypeRank</a>, <a target=\"_blank\" href=\"https://annotation.github.io/text-fabric/Api/Nodes/#navigating-nodes\" title=\"doc\">sortNodes</a><br/>\n",
       "<a target=\"_blank\" href=\"https://annotation.github.io/text-fabric/Api/Features/#node-features\" title=\"doc\">F Feature</a>, <a target=\"_blank\" href=\"https://annotation.github.io/text-fabric/Api/Features/#node-features\" title=\"doc\">Fall AllFeatures</a>, <a target=\"_blank\" href=\"https://annotation.github.io/text-fabric/Api/Features/#node-features\" title=\"doc\">Fs FeatureString</a><br/>\n",
       "<a target=\"_blank\" href=\"https://annotation.github.io/text-fabric/Api/Search/#search\" title=\"doc\">S Search</a><br/>\n",
       "<a target=\"_blank\" href=\"https://annotation.github.io/text-fabric/Api/Text/#text\" title=\"doc\">T Text</a></details>"
      ],
      "text/plain": [
       "<IPython.core.display.HTML object>"
      ]
     },
     "metadata": {},
     "output_type": "display_data"
    }
   ],
   "source": [
    "from tf.app import use\n",
    "#A = use('dss', hoist=globals())\n",
    "#A = use('dss:hot', checkout='hot', hoist=globals())\n",
    "A = use('dss:clone', checkout='clone', hoist=globals())"
   ]
  },
  {
   "cell_type": "markdown",
   "metadata": {},
   "source": [
    "# Lexemes and occurrences\n",
    "\n",
    "How do you find the word occurrences that are associated to a lexeme?"
   ]
  },
  {
   "cell_type": "markdown",
   "metadata": {},
   "source": [
    "## Example\n",
    "\n",
    "We find an example of a lexeme with only 5 occurrences."
   ]
  },
  {
   "cell_type": "code",
   "execution_count": 2,
   "metadata": {},
   "outputs": [
    {
     "data": {
      "text/plain": [
       "399"
      ]
     },
     "execution_count": 2,
     "metadata": {},
     "output_type": "execute_result"
    }
   ],
   "source": [
    "rareLexemes = [lx for (lx, nOccs) in F.lex.freqList(nodeTypes={'word'}) if nOccs ==5]\n",
    "len(rareLexemes)"
   ]
  },
  {
   "cell_type": "markdown",
   "metadata": {},
   "source": [
    "We just pick the one of these as an example, and get the nodes which have that lexeme, among which is the lexeme node."
   ]
  },
  {
   "cell_type": "code",
   "execution_count": 3,
   "metadata": {},
   "outputs": [
    {
     "name": "stdout",
     "output_type": "stream",
     "text": [
      "Lexeme \"גֹּוג\"\n",
      "lex 1544071 None None\n",
      "word 1626555 gwg גוג\n",
      "word 1832660 [gwg  ]גוג\n",
      "word 1974196 gwg גוג\n",
      "word 2106493 gwg גוג\n",
      "word 2106514 gwg גוג\n"
     ]
    }
   ],
   "source": [
    "exampleLx = rareLexemes[100]\n",
    "print(f'Lexeme \"{exampleLx}\"')\n",
    "nodes = F.lex.s(exampleLx)\n",
    "for n in nodes:\n",
    "  print(f'{F.otype.v(n)} {n} {F.fullo.v(n)} {F.full.v(n)}')"
   ]
  },
  {
   "cell_type": "markdown",
   "metadata": {},
   "source": [
    "We identify the lexeme node as `lx` and keep the word occurrence nodes as `givenOccs`"
   ]
  },
  {
   "cell_type": "code",
   "execution_count": 4,
   "metadata": {},
   "outputs": [
    {
     "name": "stdout",
     "output_type": "stream",
     "text": [
      "lexeme 1544071 is g…øwg = גֹּוג\n"
     ]
    }
   ],
   "source": [
    "lx = nodes[0]\n",
    "givenOccs = nodes[1:]\n",
    "print(f'lexeme {lx} is {F.lexo.v(lx)} = {F.lex.v(lx)}')"
   ]
  },
  {
   "cell_type": "markdown",
   "metadata": {},
   "source": [
    "Now we can try out ways to get from `lx` to `givenOccs` and check whether we do it right."
   ]
  },
  {
   "cell_type": "markdown",
   "metadata": {},
   "source": [
    "# Via `L.d()`\n",
    "\n",
    "If you are used to working with the [BHSA](https://github.com/etcbc/bhsa),\n",
    "you know that you can just use the locality-down operator to get from a lexeme node to the word nodes it contains.\n",
    "\n",
    "So let's try that here."
   ]
  },
  {
   "cell_type": "code",
   "execution_count": 5,
   "metadata": {},
   "outputs": [
    {
     "data": {
      "text/plain": [
       "(1626555, 1832660, 1974196, 2106493, 2106514)"
      ]
     },
     "execution_count": 5,
     "metadata": {},
     "output_type": "execute_result"
    }
   ],
   "source": [
    "lwords = L.d(lx, otype='word')\n",
    "lwords"
   ]
  },
  {
   "cell_type": "markdown",
   "metadata": {},
   "source": [
    "That seems to work, but let's make it crystal clear:"
   ]
  },
  {
   "cell_type": "code",
   "execution_count": 6,
   "metadata": {},
   "outputs": [
    {
     "data": {
      "text/plain": [
       "True"
      ]
     },
     "execution_count": 6,
     "metadata": {},
     "output_type": "execute_result"
    }
   ],
   "source": [
    "lwords == givenOccs"
   ]
  },
  {
   "cell_type": "markdown",
   "metadata": {},
   "source": [
    "We can also go upwards:"
   ]
  },
  {
   "cell_type": "code",
   "execution_count": 7,
   "metadata": {},
   "outputs": [
    {
     "name": "stdout",
     "output_type": "stream",
     "text": [
      "1626555 => 1544071 True\n",
      "1832660 => 1544071 True\n",
      "1974196 => 1544071 True\n",
      "2106493 => 1544071 True\n",
      "2106514 => 1544071 True\n"
     ]
    }
   ],
   "source": [
    "for w in lwords:\n",
    "  llxs = L.u(w, otype='lex')\n",
    "  for llx in llxs:\n",
    "    print(f'{w} => {llx} {llx == lx}')"
   ]
  },
  {
   "cell_type": "markdown",
   "metadata": {},
   "source": [
    "# Via E.occ\n",
    "\n",
    "There is an edge feature that links lexeme nodes to its word occurrence nodes: `occ`. It is directed from lexeme to occurrences."
   ]
  },
  {
   "cell_type": "code",
   "execution_count": 8,
   "metadata": {},
   "outputs": [
    {
     "data": {
      "text/plain": [
       "(1626555, 1832660, 1974196, 2106493, 2106514)"
      ]
     },
     "execution_count": 8,
     "metadata": {},
     "output_type": "execute_result"
    }
   ],
   "source": [
    "ewords = E.occ.f(lx)\n",
    "ewords"
   ]
  },
  {
   "cell_type": "code",
   "execution_count": 9,
   "metadata": {},
   "outputs": [
    {
     "data": {
      "text/plain": [
       "True"
      ]
     },
     "execution_count": 9,
     "metadata": {},
     "output_type": "execute_result"
    }
   ],
   "source": [
    "ewords == givenOccs"
   ]
  },
  {
   "cell_type": "markdown",
   "metadata": {},
   "source": [
    "We can also go back:"
   ]
  },
  {
   "cell_type": "code",
   "execution_count": 10,
   "metadata": {},
   "outputs": [
    {
     "name": "stdout",
     "output_type": "stream",
     "text": [
      "1626555 => 1544071 True\n",
      "1832660 => 1544071 True\n",
      "1974196 => 1544071 True\n",
      "2106493 => 1544071 True\n",
      "2106514 => 1544071 True\n"
     ]
    }
   ],
   "source": [
    "for w in ewords:\n",
    "  elxs = E.occ.t(w)\n",
    "  for elx in elxs:\n",
    "    print(f'{w} => {elx} {elx == lx}')"
   ]
  },
  {
   "cell_type": "markdown",
   "metadata": {},
   "source": [
    "# Queries\n",
    "\n",
    "When you are hand-coding, both methods are equivalent in outcome, and probably\n",
    "equal in performance.\n",
    "\n",
    "Let's see how we can work with lexemes in queries.\n",
    "\n",
    "## From lexeme to occurrence\n",
    "\n",
    "We find the occurrences for a lexeme."
   ]
  },
  {
   "cell_type": "code",
   "execution_count": 11,
   "metadata": {},
   "outputs": [
    {
     "name": "stdout",
     "output_type": "stream",
     "text": [
      "  0.37s 5 results\n"
     ]
    },
    {
     "data": {
      "text/plain": [
       "[(1544071, 1626555),\n",
       " (1544071, 1832660),\n",
       " (1544071, 1974196),\n",
       " (1544071, 2106493),\n",
       " (1544071, 2106514)]"
      ]
     },
     "execution_count": 11,
     "metadata": {},
     "output_type": "execute_result"
    }
   ],
   "source": [
    "lresults = A.search('''\n",
    "lex lexo=g…øwg\n",
    "  word\n",
    "''')\n",
    "lresults"
   ]
  },
  {
   "cell_type": "code",
   "execution_count": 12,
   "metadata": {},
   "outputs": [
    {
     "name": "stdout",
     "output_type": "stream",
     "text": [
      "  0.09s 5 results\n"
     ]
    },
    {
     "data": {
      "text/plain": [
       "[(1544071, 1626555),\n",
       " (1544071, 1832660),\n",
       " (1544071, 1974196),\n",
       " (1544071, 2106493),\n",
       " (1544071, 2106514)]"
      ]
     },
     "execution_count": 12,
     "metadata": {},
     "output_type": "execute_result"
    }
   ],
   "source": [
    "eresults = A.search('''\n",
    "lex lexo=g…øwg\n",
    "-occ> word\n",
    "''')\n",
    "eresults"
   ]
  },
  {
   "cell_type": "markdown",
   "metadata": {},
   "source": [
    "Again, equivalent results, but it seems that the query using the edge `occ` is faster.\n",
    "\n",
    "Let's check that by querying *all* lexemes and *all* occurrences!"
   ]
  },
  {
   "cell_type": "code",
   "execution_count": 13,
   "metadata": {},
   "outputs": [
    {
     "name": "stdout",
     "output_type": "stream",
     "text": [
      "  1.31s 470839 results\n"
     ]
    },
    {
     "data": {
      "text/plain": [
       "470839"
      ]
     },
     "execution_count": 13,
     "metadata": {},
     "output_type": "execute_result"
    }
   ],
   "source": [
    "alresults = A.search('''\n",
    "lex\n",
    "  word\n",
    "''')\n",
    "len(alresults)"
   ]
  },
  {
   "cell_type": "code",
   "execution_count": 14,
   "metadata": {},
   "outputs": [
    {
     "name": "stdout",
     "output_type": "stream",
     "text": [
      "  1.40s 470839 results\n"
     ]
    },
    {
     "data": {
      "text/plain": [
       "470839"
      ]
     },
     "execution_count": 14,
     "metadata": {},
     "output_type": "execute_result"
    }
   ],
   "source": [
    "aeresults = A.search('''\n",
    "lex\n",
    "-occ> word\n",
    "''')\n",
    "len(aeresults)"
   ]
  },
  {
   "cell_type": "markdown",
   "metadata": {},
   "source": [
    "Well, there seems to be no significant difference."
   ]
  },
  {
   "cell_type": "markdown",
   "metadata": {},
   "source": [
    "### Occurrences with an uncertain sign\n",
    "\n",
    "Now we make the query a bit more complex: we want the lexemes of occurrences with an uncertain sign"
   ]
  },
  {
   "cell_type": "code",
   "execution_count": 15,
   "metadata": {},
   "outputs": [
    {
     "name": "stdout",
     "output_type": "stream",
     "text": [
      "  2.12s 92247 results\n"
     ]
    },
    {
     "data": {
      "text/plain": [
       "92247"
      ]
     },
     "execution_count": 15,
     "metadata": {},
     "output_type": "execute_result"
    }
   ],
   "source": [
    "lresults = A.search('''\n",
    "lex\n",
    "  word\n",
    "    sign unc\n",
    "''')\n",
    "len(lresults)"
   ]
  },
  {
   "cell_type": "code",
   "execution_count": 16,
   "metadata": {},
   "outputs": [
    {
     "name": "stdout",
     "output_type": "stream",
     "text": [
      "  2.25s 92247 results\n"
     ]
    },
    {
     "data": {
      "text/plain": [
       "92247"
      ]
     },
     "execution_count": 16,
     "metadata": {},
     "output_type": "execute_result"
    }
   ],
   "source": [
    "eresults = A.search('''\n",
    "lex\n",
    "-occ> word\n",
    "    sign unc\n",
    "''')\n",
    "len(eresults)"
   ]
  },
  {
   "cell_type": "markdown",
   "metadata": {},
   "source": [
    "**Warning** The data in version 0.4 will lead to different results, due to generated empty words between brackets without\n",
    "any other material.\n",
    "In later versions of the data we don't do that anymore.\n",
    "You can use the incantation with `checkout=hot` to get the latest data."
   ]
  },
  {
   "cell_type": "markdown",
   "metadata": {},
   "source": [
    "# From occurrence to lexeme\n",
    "\n",
    "Suppose we want to find the lexeme nodes of all words in a line that has an uncertain sign in it.\n",
    "\n",
    "This is more difficult, because the extra condition is not on the word, but on the line, and lexemes and lines \n",
    "do not embed each other in general. \n",
    "\n",
    "We have to find the lines first, then find the words, and then the lexemes associated with it.\n",
    "We have to go from word to lexeme."
   ]
  },
  {
   "cell_type": "code",
   "execution_count": 17,
   "metadata": {},
   "outputs": [],
   "source": [
    "lquery = '''\n",
    "line\n",
    "  sign unc\n",
    "  w:word\n",
    "    \n",
    "lex\n",
    "  w\n",
    "'''"
   ]
  },
  {
   "cell_type": "markdown",
   "metadata": {},
   "source": [
    "Explanation:\n",
    "\n",
    "We look for lines with an uncertain sign in it and an arbitrary word and its container lexeme."
   ]
  },
  {
   "cell_type": "code",
   "execution_count": 18,
   "metadata": {},
   "outputs": [
    {
     "name": "stdout",
     "output_type": "stream",
     "text": [
      "  8.45s 1096147 results\n"
     ]
    }
   ],
   "source": [
    "lresults = A.search(lquery)"
   ]
  },
  {
   "cell_type": "code",
   "execution_count": 19,
   "metadata": {},
   "outputs": [],
   "source": [
    "equery = '''\n",
    "line\n",
    "  sign unc\n",
    "  w:word\n",
    "    \n",
    "lex\n",
    "-occ> w\n",
    "'''"
   ]
  },
  {
   "cell_type": "code",
   "execution_count": 20,
   "metadata": {},
   "outputs": [
    {
     "name": "stdout",
     "output_type": "stream",
     "text": [
      "  8.57s 1096147 results\n"
     ]
    }
   ],
   "source": [
    "eresults = A.search(equery)"
   ]
  },
  {
   "cell_type": "markdown",
   "metadata": {},
   "source": [
    "# Advice\n",
    "\n",
    "The use of `E.occ` is preferred over `L.d`, because the `occ` edge is defined to be the relationship between lexemes and their\n",
    "occurrences.\n",
    "\n",
    "In contrast, `L.d` is defined to be the relationship between a node and all nodes that are contained in it, slot-wise.\n",
    "That makes `L.d` a bit brittle as a proxy for the lexeme-occurrence relationship.\n",
    "\n",
    "Version 0.4 made that clear: we smuggled in some empty words for reasons not related to lexemes, and they somehow\n",
    "ended up in the scope of a lexeme."
   ]
  },
  {
   "cell_type": "code",
   "execution_count": null,
   "metadata": {},
   "outputs": [],
   "source": []
  }
 ],
 "metadata": {
  "kernelspec": {
   "display_name": "Python 3",
   "language": "python",
   "name": "python3"
  },
  "language_info": {
   "codemirror_mode": {
    "name": "ipython",
    "version": 3
   },
   "file_extension": ".py",
   "mimetype": "text/x-python",
   "name": "python",
   "nbconvert_exporter": "python",
   "pygments_lexer": "ipython3",
   "version": "3.7.2"
  }
 },
 "nbformat": 4,
 "nbformat_minor": 2
}
