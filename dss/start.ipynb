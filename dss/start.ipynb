{
 "cells": [
  {
   "cell_type": "markdown",
   "metadata": {},
   "source": [
    "<img align=\"right\" src=\"images/tf.png\" width=\"128\"/>\n",
    "<img align=\"right\" src=\"images/logo.png\" width=\"128\"/>\n",
    "<img align=\"right\" src=\"images/etcbc.png\" width=\"128\"/>\n",
    "<img align=\"right\" src=\"images/dans.png\" width=\"128\"/>\n",
    "\n",
    "# Tutorial\n",
    "\n",
    "This notebook gets you started with using\n",
    "[Text-Fabric](https://annotation.github.io/text-fabric/) for coding in the Dead-Sea Scrolls.\n",
    "\n",
    "Chances are that a bit of reading about the underlying\n",
    "[data model](https://annotation.github.io/text-fabric/Model/Data-Model/)\n",
    "helps you to follow the exercises below, and vice versa."
   ]
  },
  {
   "cell_type": "markdown",
   "metadata": {},
   "source": [
    "## Installing Text-Fabric\n",
    "\n",
    "### Python\n",
    "\n",
    "You need to have Python on your system. Most systems have it out of the box,\n",
    "but alas, that is python2 and we need at least python **3.6**.\n",
    "\n",
    "Install it from [python.org](https://www.python.org) or from\n",
    "[Anaconda](https://www.anaconda.com/download).\n",
    "\n",
    "### TF itself\n",
    "\n",
    "```\n",
    "pip3 install text-fabric\n",
    "```\n",
    "\n",
    "### Jupyter notebook\n",
    "\n",
    "You need [Jupyter](http://jupyter.org).\n",
    "\n",
    "If it is not already installed:\n",
    "\n",
    "```\n",
    "pip3 install jupyter\n",
    "```"
   ]
  },
  {
   "cell_type": "markdown",
   "metadata": {},
   "source": [
    "## Tip\n",
    "If you cloned the repository containing this tutorial,\n",
    "first copy its parent directory to somewhere outside your clone of the repo,\n",
    "before computing with this it.\n",
    "\n",
    "If you pull changes from the repository later, it will not conflict with\n",
    "your computations.\n",
    "\n",
    "Where you put your tutorial directory is up to you.\n",
    "It will work from any directory."
   ]
  },
  {
   "cell_type": "markdown",
   "metadata": {},
   "source": [
    "## Data\n",
    "\n",
    "Text-Fabric will fetch the data set for you from github, and check for updates.\n",
    "\n",
    "The data will be stored in the `text-fabric-data` in your home directory."
   ]
  },
  {
   "cell_type": "markdown",
   "metadata": {},
   "source": [
    "# Features\n",
    "The data of the corpus is organized in features.\n",
    "They are *columns* of data.\n",
    "Think of the corpus as a gigantic spreadsheet, where row 1 corresponds to the\n",
    "first sign, row 2 to the second sign, and so on, for all ~ 1.5 M signs,\n",
    "followed by ~ 500 K word nodes and yet another 200 K nodes of other types.\n",
    "\n",
    "The information which reading each sign has, constitutes a column in that spreadsheet.\n",
    "The DSS corpus contains > 50 columns.\n",
    "\n",
    "Instead of putting that information in one big table, the data is organized in separate columns.\n",
    "We call those columns **features**."
   ]
  },
  {
   "cell_type": "code",
   "execution_count": 1,
   "metadata": {},
   "outputs": [],
   "source": [
    "%load_ext autoreload\n",
    "%autoreload 2"
   ]
  },
  {
   "cell_type": "code",
   "execution_count": 2,
   "metadata": {
    "ExecuteTime": {
     "end_time": "2018-05-18T09:17:16.202764Z",
     "start_time": "2018-05-18T09:17:16.197546Z"
    }
   },
   "outputs": [],
   "source": [
    "import sys, os, collections"
   ]
  },
  {
   "cell_type": "markdown",
   "metadata": {},
   "source": [
    "# Incantation\n",
    "\n",
    "The simplest way to get going is by this *incantation*:"
   ]
  },
  {
   "cell_type": "code",
   "execution_count": 152,
   "metadata": {
    "ExecuteTime": {
     "end_time": "2018-05-18T09:17:17.537171Z",
     "start_time": "2018-05-18T09:17:17.517809Z"
    }
   },
   "outputs": [],
   "source": [
    "from tf.app import use"
   ]
  },
  {
   "cell_type": "code",
   "execution_count": 191,
   "metadata": {},
   "outputs": [
    {
     "name": "stdout",
     "output_type": "stream",
     "text": [
      "Using TF-app in /Users/dirk/github/annotation/app-dss/code:\n",
      "\trepo clone offline under ~/github (local github)\n",
      "Using data in /Users/dirk/github/etcbc/dss/tf/0.3:\n",
      "\trepo clone offline under ~/github (local github)\n"
     ]
    },
    {
     "data": {
      "text/html": [
       "<b>Documentation:</b> <a target=\"_blank\" href=\"https://github.com/etcbc/dss/blob/master/docs/\" title=\"provenance of Dead Sea Scrolls\">DSS</a> <a target=\"_blank\" href=\"https://annotation.github.io/text-fabric/Writing/Hebrew.html\" title=\"Hebrew characters and transcriptions\">Character table</a> <a target=\"_blank\" href=\"https://github.com/etcbc/dss/blob/master/docs//transcription.md\" title=\"DSS feature documentation\">Feature docs</a> <a target=\"_blank\" href=\"https://github.com/annotation/app-dss\" title=\"dss API documentation\">dss API</a> <a target=\"_blank\" href=\"https://annotation.github.io/text-fabric/Api/Fabric/\" title=\"text-fabric-api\">Text-Fabric API 7.6.8</a> <a target=\"_blank\" href=\"https://annotation.github.io/text-fabric/Use/Search/\" title=\"Search Templates Introduction and Reference\">Search Reference</a><details open><summary><b>Loaded features</b>:</summary>\n",
       "<p><b>Dead Sea Scrolls</b>: <a target=\"_blank\" href=\"https://github.com/etcbc/dss/blob/master/docs//transcription.md\" title=\"/Users/dirk/github/etcbc/dss/tf/0.3/after.tf\">after</a>  <a target=\"_blank\" href=\"https://github.com/etcbc/dss/blob/master/docs//transcription.md\" title=\"/Users/dirk/github/etcbc/dss/tf/0.3/alternative.tf\">alternative</a>  <a target=\"_blank\" href=\"https://github.com/etcbc/dss/blob/master/docs//transcription.md\" title=\"/Users/dirk/github/etcbc/dss/tf/0.3/biblical.tf\">biblical</a>  <a target=\"_blank\" href=\"https://github.com/etcbc/dss/blob/master/docs//transcription.md\" title=\"/Users/dirk/github/etcbc/dss/tf/0.3/book.tf\">book</a>  <a target=\"_blank\" href=\"https://github.com/etcbc/dss/blob/master/docs//transcription.md\" title=\"/Users/dirk/github/etcbc/dss/tf/0.3/chapter.tf\">chapter</a>  <a target=\"_blank\" href=\"https://github.com/etcbc/dss/blob/master/docs//transcription.md\" title=\"/Users/dirk/github/etcbc/dss/tf/0.3/cl.tf\">cl</a>  <a target=\"_blank\" href=\"https://github.com/etcbc/dss/blob/master/docs//transcription.md\" title=\"/Users/dirk/github/etcbc/dss/tf/0.3/cl2.tf\">cl2</a>  <a target=\"_blank\" href=\"https://github.com/etcbc/dss/blob/master/docs//transcription.md\" title=\"/Users/dirk/github/etcbc/dss/tf/0.3/correction.tf\">correction</a>  <a target=\"_blank\" href=\"https://github.com/etcbc/dss/blob/master/docs//transcription.md\" title=\"/Users/dirk/github/etcbc/dss/tf/0.3/fragment.tf\">fragment</a>  <a target=\"_blank\" href=\"https://github.com/etcbc/dss/blob/master/docs//transcription.md\" title=\"/Users/dirk/github/etcbc/dss/tf/0.3/full.tf\">full</a>  <a target=\"_blank\" href=\"https://github.com/etcbc/dss/blob/master/docs//transcription.md\" title=\"/Users/dirk/github/etcbc/dss/tf/0.3/fulle.tf\">fulle</a>  <a target=\"_blank\" href=\"https://github.com/etcbc/dss/blob/master/docs//transcription.md\" title=\"/Users/dirk/github/etcbc/dss/tf/0.3/fullo.tf\">fullo</a>  <a target=\"_blank\" href=\"https://github.com/etcbc/dss/blob/master/docs//transcription.md\" title=\"/Users/dirk/github/etcbc/dss/tf/0.3/glex.tf\">glex</a>  <a target=\"_blank\" href=\"https://github.com/etcbc/dss/blob/master/docs//transcription.md\" title=\"/Users/dirk/github/etcbc/dss/tf/0.3/glexe.tf\">glexe</a>  <a target=\"_blank\" href=\"https://github.com/etcbc/dss/blob/master/docs//transcription.md\" title=\"/Users/dirk/github/etcbc/dss/tf/0.3/glexo.tf\">glexo</a>  <a target=\"_blank\" href=\"https://github.com/etcbc/dss/blob/master/docs//transcription.md\" title=\"/Users/dirk/github/etcbc/dss/tf/0.3/glyph.tf\">glyph</a>  <a target=\"_blank\" href=\"https://github.com/etcbc/dss/blob/master/docs//transcription.md\" title=\"/Users/dirk/github/etcbc/dss/tf/0.3/glyphe.tf\">glyphe</a>  <a target=\"_blank\" href=\"https://github.com/etcbc/dss/blob/master/docs//transcription.md\" title=\"/Users/dirk/github/etcbc/dss/tf/0.3/glypho.tf\">glypho</a>  <a target=\"_blank\" href=\"https://github.com/etcbc/dss/blob/master/docs//transcription.md\" title=\"/Users/dirk/github/etcbc/dss/tf/0.3/gn.tf\">gn</a>  <a target=\"_blank\" href=\"https://github.com/etcbc/dss/blob/master/docs//transcription.md\" title=\"/Users/dirk/github/etcbc/dss/tf/0.3/gn2.tf\">gn2</a>  <a target=\"_blank\" href=\"https://github.com/etcbc/dss/blob/master/docs//transcription.md\" title=\"/Users/dirk/github/etcbc/dss/tf/0.3/gn3.tf\">gn3</a>  <a target=\"_blank\" href=\"https://github.com/etcbc/dss/blob/master/docs//transcription.md\" title=\"/Users/dirk/github/etcbc/dss/tf/0.3/halfverse.tf\">halfverse</a>  <a target=\"_blank\" href=\"https://github.com/etcbc/dss/blob/master/docs//transcription.md\" title=\"/Users/dirk/github/etcbc/dss/tf/0.3/interlinear.tf\">interlinear</a>  <a target=\"_blank\" href=\"https://github.com/etcbc/dss/blob/master/docs//transcription.md\" title=\"/Users/dirk/github/etcbc/dss/tf/0.3/lang.tf\">lang</a>  <a target=\"_blank\" href=\"https://github.com/etcbc/dss/blob/master/docs//transcription.md\" title=\"/Users/dirk/github/etcbc/dss/tf/0.3/lex.tf\">lex</a>  <a target=\"_blank\" href=\"https://github.com/etcbc/dss/blob/master/docs//transcription.md\" title=\"/Users/dirk/github/etcbc/dss/tf/0.3/lexe.tf\">lexe</a>  <a target=\"_blank\" href=\"https://github.com/etcbc/dss/blob/master/docs//transcription.md\" title=\"/Users/dirk/github/etcbc/dss/tf/0.3/lexo.tf\">lexo</a>  <a target=\"_blank\" href=\"https://github.com/etcbc/dss/blob/master/docs//transcription.md\" title=\"/Users/dirk/github/etcbc/dss/tf/0.3/line.tf\">line</a>  <a target=\"_blank\" href=\"https://github.com/etcbc/dss/blob/master/docs//transcription.md\" title=\"/Users/dirk/github/etcbc/dss/tf/0.3/md.tf\">md</a>  <a target=\"_blank\" href=\"https://github.com/etcbc/dss/blob/master/docs//transcription.md\" title=\"/Users/dirk/github/etcbc/dss/tf/0.3/merr.tf\">merr</a>  <a target=\"_blank\" href=\"https://github.com/etcbc/dss/blob/master/docs//transcription.md\" title=\"/Users/dirk/github/etcbc/dss/tf/0.3/morpho.tf\">morpho</a>  <a target=\"_blank\" href=\"https://github.com/etcbc/dss/blob/master/docs//transcription.md\" title=\"/Users/dirk/github/etcbc/dss/tf/0.3/nu.tf\">nu</a>  <a target=\"_blank\" href=\"https://github.com/etcbc/dss/blob/master/docs//transcription.md\" title=\"/Users/dirk/github/etcbc/dss/tf/0.3/nu2.tf\">nu2</a>  <a target=\"_blank\" href=\"https://github.com/etcbc/dss/blob/master/docs//transcription.md\" title=\"/Users/dirk/github/etcbc/dss/tf/0.3/nu3.tf\">nu3</a>  <a target=\"_blank\" href=\"https://github.com/etcbc/dss/blob/master/docs//transcription.md\" title=\"/Users/dirk/github/etcbc/dss/tf/0.3/otype.tf\">otype</a>  <a target=\"_blank\" href=\"https://github.com/etcbc/dss/blob/master/docs//transcription.md\" title=\"/Users/dirk/github/etcbc/dss/tf/0.3/ps.tf\">ps</a>  <a target=\"_blank\" href=\"https://github.com/etcbc/dss/blob/master/docs//transcription.md\" title=\"/Users/dirk/github/etcbc/dss/tf/0.3/ps2.tf\">ps2</a>  <a target=\"_blank\" href=\"https://github.com/etcbc/dss/blob/master/docs//transcription.md\" title=\"/Users/dirk/github/etcbc/dss/tf/0.3/ps3.tf\">ps3</a>  <a target=\"_blank\" href=\"https://github.com/etcbc/dss/blob/master/docs//transcription.md\" title=\"/Users/dirk/github/etcbc/dss/tf/0.3/punc.tf\">punc</a>  <a target=\"_blank\" href=\"https://github.com/etcbc/dss/blob/master/docs//transcription.md\" title=\"/Users/dirk/github/etcbc/dss/tf/0.3/punce.tf\">punce</a>  <a target=\"_blank\" href=\"https://github.com/etcbc/dss/blob/master/docs//transcription.md\" title=\"/Users/dirk/github/etcbc/dss/tf/0.3/punco.tf\">punco</a>  <a target=\"_blank\" href=\"https://github.com/etcbc/dss/blob/master/docs//transcription.md\" title=\"/Users/dirk/github/etcbc/dss/tf/0.3/reconstruction.tf\">reconstruction</a>  <a target=\"_blank\" href=\"https://github.com/etcbc/dss/blob/master/docs//transcription.md\" title=\"/Users/dirk/github/etcbc/dss/tf/0.3/removed.tf\">removed</a>  <a target=\"_blank\" href=\"https://github.com/etcbc/dss/blob/master/docs//transcription.md\" title=\"/Users/dirk/github/etcbc/dss/tf/0.3/script.tf\">script</a>  <a target=\"_blank\" href=\"https://github.com/etcbc/dss/blob/master/docs//transcription.md\" title=\"/Users/dirk/github/etcbc/dss/tf/0.3/scroll.tf\">scroll</a>  <a target=\"_blank\" href=\"https://github.com/etcbc/dss/blob/master/docs//transcription.md\" title=\"/Users/dirk/github/etcbc/dss/tf/0.3/sp.tf\">sp</a>  <a target=\"_blank\" href=\"https://github.com/etcbc/dss/blob/master/docs//transcription.md\" title=\"/Users/dirk/github/etcbc/dss/tf/0.3/srcLn.tf\">srcLn</a>  <a target=\"_blank\" href=\"https://github.com/etcbc/dss/blob/master/docs//transcription.md\" title=\"/Users/dirk/github/etcbc/dss/tf/0.3/st.tf\">st</a>  <a target=\"_blank\" href=\"https://github.com/etcbc/dss/blob/master/docs//transcription.md\" title=\"/Users/dirk/github/etcbc/dss/tf/0.3/type.tf\">type</a>  <a target=\"_blank\" href=\"https://github.com/etcbc/dss/blob/master/docs//transcription.md\" title=\"/Users/dirk/github/etcbc/dss/tf/0.3/uncertain.tf\">uncertain</a>  <a target=\"_blank\" href=\"https://github.com/etcbc/dss/blob/master/docs//transcription.md\" title=\"/Users/dirk/github/etcbc/dss/tf/0.3/vacat.tf\">vacat</a>  <a target=\"_blank\" href=\"https://github.com/etcbc/dss/blob/master/docs//transcription.md\" title=\"/Users/dirk/github/etcbc/dss/tf/0.3/verse.tf\">verse</a>  <a target=\"_blank\" href=\"https://github.com/etcbc/dss/blob/master/docs//transcription.md\" title=\"/Users/dirk/github/etcbc/dss/tf/0.3/vs.tf\">vs</a>  <a target=\"_blank\" href=\"https://github.com/etcbc/dss/blob/master/docs//transcription.md\" title=\"/Users/dirk/github/etcbc/dss/tf/0.3/vt.tf\">vt</a>  <b><i><a target=\"_blank\" href=\"https://github.com/etcbc/dss/blob/master/docs//transcription.md\" title=\"/Users/dirk/github/etcbc/dss/tf/0.3/occ.tf\">occ</a></i></b>  <b><i><a target=\"_blank\" href=\"https://github.com/etcbc/dss/blob/master/docs//transcription.md\" title=\"/Users/dirk/github/etcbc/dss/tf/0.3/oslots.tf\">oslots</a></i></b> </p></details>"
      ],
      "text/plain": [
       "<IPython.core.display.HTML object>"
      ]
     },
     "metadata": {},
     "output_type": "display_data"
    },
    {
     "data": {
      "text/html": [
       "<style>\n",
       "@font-face {\n",
       "  font-family: \"Ezra SIL\";\n",
       "  src:\n",
       "    local(\"SILEOT.ttf\"),\n",
       "    url(\"https://github.com/annotation/text-fabric/blob/master/tf/server/static/fonts/SILEOT.woff?raw=true\");\n",
       "}\n",
       ".txtn,.txtn a:visited,.txtn a:link {\n",
       "    font-family: sans-serif;\n",
       "    font-size: normal;\n",
       "    text-decoration: none;\n",
       "}\n",
       ".txte,.txte a:visited,.txte a:link {\n",
       "    font-family: monospace;\n",
       "    font-size: normal;\n",
       "    text-decoration: none;\n",
       "}\n",
       ".txto,.txto a:visited,.txto a:link {\n",
       "    font-family: serif;\n",
       "    font-size: large;\n",
       "    text-decoration: none;\n",
       "}\n",
       ".txtu,.txtu a:visited,.txtu a:link {\n",
       "    font-family: \"Ezra SIL\", \"SBL Hebrew\", sans-serif;\n",
       "    font-size: x-large;\n",
       "    text-decoration: none;\n",
       "}\n",
       ".features {\n",
       "    font-family: monospace;\n",
       "    font-size: medium;\n",
       "    font-weight: bold;\n",
       "    color: #0a6611;\n",
       "    display: flex;\n",
       "    flex-flow: column nowrap;\n",
       "    padding: 0.1em;\n",
       "    margin: 0.1em;\n",
       "    direction: ltr;\n",
       "}\n",
       ".features div,.features span {\n",
       "    padding: 0;\n",
       "    margin: -0.1rem 0;\n",
       "}\n",
       ".features .f {\n",
       "    font-family: sans-serif;\n",
       "    font-size: x-small;\n",
       "    font-weight: normal;\n",
       "    color: #5555bb;\n",
       "}\n",
       ".features .xft {\n",
       "  color: #000000;\n",
       "  background-color: #eeeeee;\n",
       "  font-size: medium;\n",
       "  margin: 0.1em 0em;\n",
       "}\n",
       ".features .xft .f {\n",
       "  color: #000000;\n",
       "  background-color: #eeeeee;\n",
       "  font-style: italic;\n",
       "  font-size: small;\n",
       "  font-weight: normal;\n",
       "}\n",
       ".ltr {\n",
       "    direction: ltr ! important;\n",
       "}\n",
       ".nd {\n",
       "    font-family: monospace;\n",
       "    font-size: x-small;\n",
       "    color: #999999;\n",
       "}\n",
       ".meta {\n",
       "    display: flex;\n",
       "    justify-content: flex-start;\n",
       "    align-items: flex-start;\n",
       "    align-content: flex-start;\n",
       "    flex-flow: row nowrap;\n",
       "}\n",
       ".features {\n",
       "    display: flex;\n",
       "    justify-content: flex-start;\n",
       "    align-items: flex-start;\n",
       "    align-content: flex-start;\n",
       "    flex-flow: column nowrap;\n",
       "}\n",
       ".children {\n",
       "    display: flex;\n",
       "    justify-content: flex-start;\n",
       "    align-items: flex-start;\n",
       "    align-content: flex-start;\n",
       "    border: 0;\n",
       "    background-color: #ffffff;\n",
       "}\n",
       ".children.scroll {\n",
       "    flex-flow: column nowrap;\n",
       "}\n",
       ".children.fragment {\n",
       "    flex-flow: column nowrap;\n",
       "}\n",
       ".children.line {\n",
       "    align-items: stretch;\n",
       "    flex-flow: row nowrap;\n",
       "}\n",
       ".children.cluster {\n",
       "    flex-flow: row wrap;\n",
       "}\n",
       ".children.word {\n",
       "    align-items: stretch;\n",
       "    flex-flow: row nowrap;\n",
       "}\n",
       ".children.sign {\n",
       "    flex-flow: column nowrap;\n",
       "}\n",
       ".contnr {\n",
       "    width: fit-content;\n",
       "}\n",
       ".contnr.scroll,.contnr.fragment,\n",
       ".contnr.line,\n",
       ".contnr.cluster,\n",
       ".contnr.word,\n",
       ".contnr.sign {\n",
       "    display: flex;\n",
       "    justify-content: flex-start;\n",
       "    align-items: flex-start;\n",
       "    align-content: flex-start;\n",
       "    flex-flow: column nowrap;\n",
       "    background: #ffffff none repeat scroll 0 0;\n",
       "    padding:  0.5em 0.1em 0.1em 0.1em;\n",
       "    margin: 0.8em 0.1em 0.1em 0.1em;\n",
       "    border-radius: 0.2em;\n",
       "    border-style: solid;\n",
       "    border-width: 0.2em;\n",
       "    font-size: small;\n",
       "}\n",
       ".contnr.scroll,.contnr.fragment {\n",
       "    border-color: #bb8800;\n",
       "}\n",
       ".contnr.line {\n",
       "    border-color: #0088bb;\n",
       "}\n",
       ".contnr.cluster {\n",
       "    flex-flow: row wrap;\n",
       "    border: 0;\n",
       "}\n",
       ".contnr.word {\n",
       "    border-color: #44bbff;\n",
       "}\n",
       ".contnr.sign {\n",
       "    border-color: #bbbbbb;\n",
       "}\n",
       ".contnr.hl {\n",
       "    background-color: #ffee66;\n",
       "}\n",
       ".lbl.scroll,.lbl.fragment,\n",
       ".lbl.line,\n",
       ".lbl.cluster,\n",
       ".lbl.sign,.lbl.word {\n",
       "    margin-top: -1.2em;\n",
       "    margin-left: 1em;\n",
       "    background: #ffffff none repeat scroll 0 0;\n",
       "    padding: 0 0.3em;\n",
       "    border-style: solid;\n",
       "    font-size: small;\n",
       "    display: block;\n",
       "}\n",
       ".lbl.scroll,.lbl.fragment {\n",
       "    border-color: #bb8800;\n",
       "    border-width: 0.3em;\n",
       "    border-radius: 0.3em;\n",
       "    color: #bb8800;\n",
       "}\n",
       ".lbl.line {\n",
       "    border-color: #0088bb;\n",
       "    border-width: 0.3em;\n",
       "    border-radius: 0.3em;\n",
       "    color: #0088bb;\n",
       "}\n",
       ".lbl.cluster {\n",
       "    border-color: #dddddd;\n",
       "    border-width: 0.2em;\n",
       "    border-radius: 0.2em;\n",
       "    color: #0000cc;\n",
       "}\n",
       ".lbl.word {\n",
       "    border-color: #44bbff;\n",
       "    border-width: 0.2em;\n",
       "    border-radius: 0.2em;\n",
       "    font-size: medium;\n",
       "    color: #000000;\n",
       "}\n",
       ".lbl.sign {\n",
       "    border-color: #bbbbbb;\n",
       "    border-width: 0.1em;\n",
       "    border-radius: 0.1em;\n",
       "    font-size: small;\n",
       "    color: #000000;\n",
       "}\n",
       ".name {\n",
       "    font-family: monospace;\n",
       "    font-size: medium;\n",
       "    color: #0000bb;\n",
       "}\n",
       ".text {\n",
       "    font-family: sans-serif;\n",
       "    font-size: x-small;\n",
       "    color: #000000;\n",
       "}\n",
       ".srcln {\n",
       "    font-family: monospace;\n",
       "    font-size: x-small;\n",
       "    color: #0000bb;\n",
       "}\n",
       ".interlinear1 {\n",
       "    vertical-align: -0.25em;\n",
       "}\n",
       ".interlinear2 {\n",
       "    vertical-align: -0.25em;\n",
       "}\n",
       ".langa {\n",
       "    text-decoration: underline;\n",
       "}\n",
       ".langg {\n",
       "    font-family: serif;\n",
       "    text-decoration: underline;\n",
       "}\n",
       ".vacat1 {\n",
       "    background-color: #aaaaaa;\n",
       "}\n",
       ".removed1 {\n",
       "    color: #dd9999;\n",
       "    text-decoration: line-through;\n",
       "}\n",
       ".removed2 {\n",
       "    color: #dd0000;\n",
       "    text-decoration: line-through;\n",
       "}\n",
       ".reconstruction1 {\n",
       "    color: #00ffff;\n",
       "    text-decoration: overline;\n",
       "}\n",
       ".correction1 {\n",
       "    color: #0000ff;\n",
       "    text-decoration: overline;\n",
       "}\n",
       ".correction2 {\n",
       "    color: #9999ff;\n",
       "    text-decoration: overline;\n",
       "}\n",
       ".correction3 {\n",
       "    color: #9999ff;\n",
       "    text-decoration: overline;\n",
       "    vertical-align: super;\n",
       "}\n",
       ".alternative1 {\n",
       "    font-weight: bold;\n",
       "    text-decoration: overline;\n",
       "}\n",
       "\n",
       "/* UNSURE: italic*/\n",
       "\n",
       ".uncertain1 {\n",
       "    font-style: italic\n",
       "}\n",
       ".uncertain2 {\n",
       "    font-weight: bold;\n",
       "    font-style: italic\n",
       "}\n",
       ".uncertain3 {\n",
       "    color: #999999;\n",
       "    text-shadow: #bbbbbb 1px 1px;\n",
       "}\n",
       ".uncertain4 {\n",
       "    font-weight: bold;\n",
       "    color: #999999;\n",
       "    text-shadow: #bbbbbb 1px 1px;\n",
       "}\n",
       "\n",
       "/* cluster */\n",
       ".empty {\n",
       "  color: #ff0000;\n",
       "}\n",
       "\n",
       "\n",
       "tr.tf, td.tf, th.tf {\n",
       "  text-align: left;\n",
       "}\n",
       "\n",
       "span.hldot {\n",
       "\tbackground-color: var(--hl-strong);\n",
       "\tborder: 0.2rem solid var(--hl-rim);\n",
       "\tborder-radius: 0.4rem;\n",
       "\t/*\n",
       "\tdisplay: inline-block;\n",
       "\twidth: 0.8rem;\n",
       "\theight: 0.8rem;\n",
       "\t*/\n",
       "}\n",
       "span.hl {\n",
       "\tbackground-color: var(--hl-strong);\n",
       "\tborder-width: 0;\n",
       "\tborder-radius: 0.1rem;\n",
       "\tborder-style: solid;\n",
       "}\n",
       "\n",
       "span.hlup {\n",
       "\tborder-color: var(--hl-dark);\n",
       "\tborder-width: 0.1rem;\n",
       "\tborder-style: solid;\n",
       "\tborder-radius: 0.2rem;\n",
       "  padding: 0.2rem;\n",
       "}\n",
       "\n",
       ":root {\n",
       "\t--hl-strong:        hsla( 60, 100%,  70%, 0.9  );\n",
       "\t--hl-rim:           hsla( 55, 100%,  60%, 0.9  );\n",
       "\t--hl-dark:          hsla( 55, 100%,  40%, 0.9  );\n",
       "}\n",
       "</style>"
      ],
      "text/plain": [
       "<IPython.core.display.HTML object>"
      ]
     },
     "metadata": {},
     "output_type": "display_data"
    },
    {
     "data": {
      "text/html": [
       "<details open><summary><b>API members</b>:</summary>\n",
       "<a target=\"_blank\" href=\"https://annotation.github.io/text-fabric/Api/Computed/#computed-data\" title=\"doc\">C Computed</a>, <a target=\"_blank\" href=\"https://annotation.github.io/text-fabric/Api/Computed/#computed-data\" title=\"doc\">Call AllComputeds</a>, <a target=\"_blank\" href=\"https://annotation.github.io/text-fabric/Api/Computed/#computed-data\" title=\"doc\">Cs ComputedString</a><br/>\n",
       "<a target=\"_blank\" href=\"https://annotation.github.io/text-fabric/Api/Features/#edge-features\" title=\"doc\">E Edge</a>, <a target=\"_blank\" href=\"https://annotation.github.io/text-fabric/Api/Features/#edge-features\" title=\"doc\">Eall AllEdges</a>, <a target=\"_blank\" href=\"https://annotation.github.io/text-fabric/Api/Features/#edge-features\" title=\"doc\">Es EdgeString</a><br/>\n",
       "<a target=\"_blank\" href=\"https://annotation.github.io/text-fabric/Api/Fabric/#loading\" title=\"doc\">ensureLoaded</a>, <a target=\"_blank\" href=\"https://annotation.github.io/text-fabric/Api/Fabric/#loading\" title=\"doc\">TF</a>, <a target=\"_blank\" href=\"https://annotation.github.io/text-fabric/Api/Fabric/#loading\" title=\"doc\">ignored</a>, <a target=\"_blank\" href=\"https://annotation.github.io/text-fabric/Api/Fabric/#loading\" title=\"doc\">loadLog</a><br/>\n",
       "<a target=\"_blank\" href=\"https://annotation.github.io/text-fabric/Api/Locality/#locality\" title=\"doc\">L Locality</a><br/>\n",
       "<a target=\"_blank\" href=\"https://annotation.github.io/text-fabric/Api/Misc/#messaging\" title=\"doc\">cache</a>, <a target=\"_blank\" href=\"https://annotation.github.io/text-fabric/Api/Misc/#messaging\" title=\"doc\">error</a>, <a target=\"_blank\" href=\"https://annotation.github.io/text-fabric/Api/Misc/#messaging\" title=\"doc\">indent</a>, <a target=\"_blank\" href=\"https://annotation.github.io/text-fabric/Api/Misc/#messaging\" title=\"doc\">info</a>, <a target=\"_blank\" href=\"https://annotation.github.io/text-fabric/Api/Misc/#messaging\" title=\"doc\">reset</a><br/>\n",
       "<a target=\"_blank\" href=\"https://annotation.github.io/text-fabric/Api/Nodes/#navigating-nodes\" title=\"doc\">N Nodes</a>, <a target=\"_blank\" href=\"https://annotation.github.io/text-fabric/Api/Nodes/#navigating-nodes\" title=\"doc\">sortKey</a>, <a target=\"_blank\" href=\"https://annotation.github.io/text-fabric/Api/Nodes/#navigating-nodes\" title=\"doc\">sortKeyTuple</a>, <a target=\"_blank\" href=\"https://annotation.github.io/text-fabric/Api/Nodes/#navigating-nodes\" title=\"doc\">otypeRank</a>, <a target=\"_blank\" href=\"https://annotation.github.io/text-fabric/Api/Nodes/#navigating-nodes\" title=\"doc\">sortNodes</a><br/>\n",
       "<a target=\"_blank\" href=\"https://annotation.github.io/text-fabric/Api/Features/#node-features\" title=\"doc\">F Feature</a>, <a target=\"_blank\" href=\"https://annotation.github.io/text-fabric/Api/Features/#node-features\" title=\"doc\">Fall AllFeatures</a>, <a target=\"_blank\" href=\"https://annotation.github.io/text-fabric/Api/Features/#node-features\" title=\"doc\">Fs FeatureString</a><br/>\n",
       "<a target=\"_blank\" href=\"https://annotation.github.io/text-fabric/Api/Search/#search\" title=\"doc\">S Search</a><br/>\n",
       "<a target=\"_blank\" href=\"https://annotation.github.io/text-fabric/Api/Text/#text\" title=\"doc\">T Text</a></details>"
      ],
      "text/plain": [
       "<IPython.core.display.HTML object>"
      ]
     },
     "metadata": {},
     "output_type": "display_data"
    }
   ],
   "source": [
    "A = use('dss:clone', checkout='clone', hoist=globals())"
   ]
  },
  {
   "cell_type": "markdown",
   "metadata": {},
   "source": [
    "You can see which features have been loaded, and if you click on a feature name, you find its documentation.\n",
    "If you hover over a name, you see where the feature is located on your system."
   ]
  },
  {
   "cell_type": "markdown",
   "metadata": {},
   "source": [
    "## API\n",
    "\n",
    "The result of the incantation is that we have a bunch of special variables at our disposal\n",
    "that give us access to the text and data of the corpus.\n",
    "\n",
    "At this point it is helpful to throw a quick glance at the text-fabric API documentation\n",
    "(see the links under **API Members** above).\n",
    "\n",
    "The most essential thing for now is that we can use `F` to access the data in the features\n",
    "we've loaded.\n",
    "But there is more, such as `N`, which helps us to walk over the text, as we see in a minute.\n",
    "\n",
    "The **API members** above show you exactly which new names have been inserted in your namespace.\n",
    "If you click on these names, you go to the API documentation for them."
   ]
  },
  {
   "cell_type": "markdown",
   "metadata": {},
   "source": [
    "## Search\n",
    "Text-Fabric contains a flexible search engine, that does not only work for the data,\n",
    "of this corpus, but also for other corpora and data that you add to corpora.\n",
    "\n",
    "**Search is the quickest way to come up-to-speed with your data, without too much programming.**\n",
    "\n",
    "Jump to the dedicated [search](search.ipynb) search tutorial first, to whet your appetite.\n",
    "\n",
    "The real power of search lies in the fact that it is integrated in a programming environment.\n",
    "You can use programming to:\n",
    "\n",
    "* compose dynamic queries\n",
    "* process query results\n",
    "\n",
    "Therefore, the rest of this tutorial is still important when you want to tap that power.\n",
    "If you continue here, you learn all the basics of data-navigation with Text-Fabric."
   ]
  },
  {
   "cell_type": "markdown",
   "metadata": {},
   "source": [
    "# Counting\n",
    "\n",
    "In order to get acquainted with the data, we start with the simple task of counting.\n",
    "\n",
    "## Count all nodes\n",
    "We use the \n",
    "[`N()` generator](https://annotation.github.io/text-fabric/Api/General/#navigating-nodes)\n",
    "to walk through the nodes.\n",
    "\n",
    "We compared the TF data to a gigantic spreadsheet, where the rows correspond to the signs.\n",
    "In Text-Fabric, we call the rows `slots`, because they are the textual positions that can be filled with signs.\n",
    "\n",
    "We also mentioned that there are also other textual objects. \n",
    "They are the clusters, lines, faces and documents.\n",
    "They also correspond to rows in the big spreadsheet.\n",
    "\n",
    "In Text-Fabric we call all these rows *nodes*, and the `N()` generator\n",
    "carries us through those nodes in the textual order.\n",
    "\n",
    "Just one extra thing: the `info` statements generate timed messages.\n",
    "If you use them instead of `print` you'll get a sense of the amount of time that \n",
    "the various processing steps typically need."
   ]
  },
  {
   "cell_type": "code",
   "execution_count": 192,
   "metadata": {
    "ExecuteTime": {
     "end_time": "2018-05-18T09:17:43.894153Z",
     "start_time": "2018-05-18T09:17:43.597128Z"
    }
   },
   "outputs": [
    {
     "name": "stdout",
     "output_type": "stream",
     "text": [
      "  0.00s Counting nodes ...\n",
      "  0.26s 2107856 nodes\n"
     ]
    }
   ],
   "source": [
    "indent(reset=True)\n",
    "info('Counting nodes ...')\n",
    "\n",
    "i = 0\n",
    "for n in N(): i += 1\n",
    "\n",
    "info('{} nodes'.format(i))"
   ]
  },
  {
   "cell_type": "markdown",
   "metadata": {},
   "source": [
    "Here you see it: over 2M nodes."
   ]
  },
  {
   "cell_type": "markdown",
   "metadata": {},
   "source": [
    "## What are those nodes?\n",
    "Every node has a type, like sign, or line, face.\n",
    "But what exactly are they?\n",
    "\n",
    "Text-Fabric has two special features, `otype` and `oslots`, that must occur in every Text-Fabric data set.\n",
    "`otype` tells you for each node its type, and you can ask for the number of `slot`s in the text.\n",
    "\n",
    "Here we go!"
   ]
  },
  {
   "cell_type": "code",
   "execution_count": 193,
   "metadata": {
    "ExecuteTime": {
     "end_time": "2018-05-18T09:17:47.820323Z",
     "start_time": "2018-05-18T09:17:47.812328Z"
    }
   },
   "outputs": [
    {
     "data": {
      "text/plain": [
       "'sign'"
      ]
     },
     "execution_count": 193,
     "metadata": {},
     "output_type": "execute_result"
    }
   ],
   "source": [
    "F.otype.slotType"
   ]
  },
  {
   "cell_type": "code",
   "execution_count": 194,
   "metadata": {
    "ExecuteTime": {
     "end_time": "2018-05-18T09:17:48.549430Z",
     "start_time": "2018-05-18T09:17:48.543371Z"
    }
   },
   "outputs": [
    {
     "data": {
      "text/plain": [
       "1430238"
      ]
     },
     "execution_count": 194,
     "metadata": {},
     "output_type": "execute_result"
    }
   ],
   "source": [
    "F.otype.maxSlot"
   ]
  },
  {
   "cell_type": "code",
   "execution_count": 195,
   "metadata": {
    "ExecuteTime": {
     "end_time": "2018-05-18T09:17:49.251302Z",
     "start_time": "2018-05-18T09:17:49.244467Z"
    }
   },
   "outputs": [
    {
     "data": {
      "text/plain": [
       "2107856"
      ]
     },
     "execution_count": 195,
     "metadata": {},
     "output_type": "execute_result"
    }
   ],
   "source": [
    "F.otype.maxNode"
   ]
  },
  {
   "cell_type": "code",
   "execution_count": 196,
   "metadata": {
    "ExecuteTime": {
     "end_time": "2018-05-18T09:17:49.922863Z",
     "start_time": "2018-05-18T09:17:49.916078Z"
    }
   },
   "outputs": [
    {
     "data": {
      "text/plain": [
       "('scroll', 'lex', 'fragment', 'line', 'cluster', 'word', 'sign')"
      ]
     },
     "execution_count": 196,
     "metadata": {},
     "output_type": "execute_result"
    }
   ],
   "source": [
    "F.otype.all"
   ]
  },
  {
   "cell_type": "code",
   "execution_count": 197,
   "metadata": {
    "ExecuteTime": {
     "end_time": "2018-05-18T09:17:51.782779Z",
     "start_time": "2018-05-18T09:17:51.774167Z"
    }
   },
   "outputs": [
    {
     "data": {
      "text/plain": [
       "(('scroll', 1428.8091908091908, 1605864, 1606864),\n",
       " ('lex', 129.15082783041439, 1542520, 1552968),\n",
       " ('fragment', 127.90538365229834, 1531338, 1542519),\n",
       " ('line', 27.039190849796768, 1552969, 1605863),\n",
       " ('cluster', 6.678552705763657, 1430239, 1531337),\n",
       " ('word', 2.814364301226367, 1606865, 2107856),\n",
       " ('sign', 1, 1, 1430238))"
      ]
     },
     "execution_count": 197,
     "metadata": {},
     "output_type": "execute_result"
    }
   ],
   "source": [
    "C.levels.data"
   ]
  },
  {
   "cell_type": "markdown",
   "metadata": {},
   "source": [
    "This is interesting: above you see all the textual objects, with the average size of their objects,\n",
    "the node where they start, and the node where they end."
   ]
  },
  {
   "cell_type": "markdown",
   "metadata": {},
   "source": [
    "## Count individual object types\n",
    "This is an intuitive way to count the number of nodes in each type.\n",
    "Note in passing, how we use the `indent` in conjunction with `info` to produce neat timed \n",
    "and indented progress messages."
   ]
  },
  {
   "cell_type": "code",
   "execution_count": 198,
   "metadata": {
    "ExecuteTime": {
     "end_time": "2018-05-18T09:17:57.806821Z",
     "start_time": "2018-05-18T09:17:57.558523Z"
    }
   },
   "outputs": [
    {
     "name": "stdout",
     "output_type": "stream",
     "text": [
      "  0.00s counting objects ...\n",
      "   |     0.00s    1001 scrolls\n",
      "   |     0.00s   10449 lexs\n",
      "   |     0.00s   11182 fragments\n",
      "   |     0.01s   52895 lines\n",
      "   |     0.01s  101099 clusters\n",
      "   |     0.05s  500992 words\n",
      "   |     0.12s 1430238 signs\n",
      "  0.20s Done\n"
     ]
    }
   ],
   "source": [
    "indent(reset=True)\n",
    "info('counting objects ...')\n",
    "\n",
    "for otype in F.otype.all:\n",
    "    i = 0\n",
    "\n",
    "    indent(level=1, reset=True)\n",
    "\n",
    "    for n in F.otype.s(otype): i+=1\n",
    "\n",
    "    info('{:>7} {}s'.format(i, otype))\n",
    "\n",
    "indent(level=0)\n",
    "info('Done')"
   ]
  },
  {
   "cell_type": "markdown",
   "metadata": {},
   "source": [
    "# Viewing textual objects\n",
    "\n",
    "You can use the A API (the extra power) to display cuneiform text.\n",
    "\n",
    "See the [display](display.ipynb) tutorial."
   ]
  },
  {
   "cell_type": "markdown",
   "metadata": {},
   "source": [
    "# Feature statistics\n",
    "\n",
    "`F`\n",
    "gives access to all features.\n",
    "Every feature has a method\n",
    "`freqList()`\n",
    "to generate a frequency list of its values, higher frequencies first.\n",
    "Here are the parts of speech:"
   ]
  },
  {
   "cell_type": "code",
   "execution_count": 199,
   "metadata": {
    "ExecuteTime": {
     "end_time": "2018-05-18T09:18:18.039544Z",
     "start_time": "2018-05-18T09:18:17.784073Z"
    }
   },
   "outputs": [
    {
     "data": {
      "text/plain": [
       "(('ptcl', 154464),\n",
       " ('subs', 108562),\n",
       " ('unknown', 80252),\n",
       " ('verb', 58873),\n",
       " ('suff', 45747),\n",
       " ('adjv', 10633),\n",
       " ('numr', 6526),\n",
       " ('pron', 5784))"
      ]
     },
     "execution_count": 199,
     "metadata": {},
     "output_type": "execute_result"
    }
   ],
   "source": [
    "F.sp.freqList()"
   ]
  },
  {
   "cell_type": "markdown",
   "metadata": {},
   "source": [
    "Signs, words and clusters have types. We can count them separately:"
   ]
  },
  {
   "cell_type": "code",
   "execution_count": 200,
   "metadata": {
    "ExecuteTime": {
     "end_time": "2018-05-18T09:18:18.039544Z",
     "start_time": "2018-05-18T09:18:17.784073Z"
    }
   },
   "outputs": [
    {
     "data": {
      "text/plain": [
       "(('reconstruction', 93733),\n",
       " ('vacat', 3522),\n",
       " ('correction3', 1582),\n",
       " ('uncertain2', 1001),\n",
       " ('removed2', 706),\n",
       " ('alternative', 333),\n",
       " ('correction2', 147),\n",
       " ('removed', 75))"
      ]
     },
     "execution_count": 200,
     "metadata": {},
     "output_type": "execute_result"
    }
   ],
   "source": [
    "F.type.freqList('cluster')"
   ]
  },
  {
   "cell_type": "code",
   "execution_count": 201,
   "metadata": {
    "ExecuteTime": {
     "end_time": "2018-05-18T09:18:18.039544Z",
     "start_time": "2018-05-18T09:18:17.784073Z"
    }
   },
   "outputs": [
    {
     "data": {
      "text/plain": [
       "(('glyph', 470602), ('punct', 29927), ('numeral', 463))"
      ]
     },
     "execution_count": 201,
     "metadata": {},
     "output_type": "execute_result"
    }
   ],
   "source": [
    "F.type.freqList('word')"
   ]
  },
  {
   "cell_type": "code",
   "execution_count": 202,
   "metadata": {
    "ExecuteTime": {
     "end_time": "2018-05-18T09:18:18.039544Z",
     "start_time": "2018-05-18T09:18:17.784073Z"
    }
   },
   "outputs": [
    {
     "data": {
      "text/plain": [
       "(('consonant', 1156780),\n",
       " ('empty', 98404),\n",
       " ('missing', 53864),\n",
       " ('sep', 46453),\n",
       " ('punct', 29927),\n",
       " ('uncertain', 27168),\n",
       " ('term', 15532),\n",
       " ('numeral', 2029),\n",
       " ('add', 65),\n",
       " ('foreign', 16))"
      ]
     },
     "execution_count": 202,
     "metadata": {},
     "output_type": "execute_result"
    }
   ],
   "source": [
    "F.type.freqList('sign')"
   ]
  },
  {
   "cell_type": "markdown",
   "metadata": {},
   "source": [
    "Finally, the flags:"
   ]
  },
  {
   "cell_type": "markdown",
   "metadata": {},
   "source": [
    "# Word matters\n",
    "\n",
    "## Top 20 frequent words\n",
    "\n",
    "We represent words by their essential symbols, collected in the feature *glyph* (which also exists for signs)."
   ]
  },
  {
   "cell_type": "code",
   "execution_count": 203,
   "metadata": {},
   "outputs": [
    {
     "name": "stdout",
     "output_type": "stream",
     "text": [
      "45393 ו\n",
      "20491 ה\n",
      "19378 ל\n",
      "18225 ב\n",
      " 6389 את\n",
      " 5863 מ\n",
      " 4894 אשׁר\n",
      " 4789 יהוה\n",
      " 4355 א\n",
      " 4236 כול\n",
      " 4185 על\n",
      " 4172 אל\n",
      " 3262 כי\n",
      " 3091 כ\n",
      " 3005 לא\n",
      " 2841 כל\n",
      " 2424 לוא\n",
      " 1938 ארץ\n",
      " 1829 ישׁראל\n",
      " 1653 יום\n"
     ]
    }
   ],
   "source": [
    "for (w, amount) in F.glyph.freqList('word')[0:20]:\n",
    "  print(f'{amount:>5} {w}')"
   ]
  },
  {
   "cell_type": "markdown",
   "metadata": {},
   "source": [
    "## Word distribution\n",
    "\n",
    "Let's do a bit more fancy word stuff.\n",
    "\n",
    "### Hapaxes\n",
    "\n",
    "A hapax can be found by picking the words with frequency 1.\n",
    "We do have lexeme information in this corpus, let's use it for determining hapaxes.\n",
    "\n",
    "We print 20 hapaxes."
   ]
  },
  {
   "cell_type": "code",
   "execution_count": 204,
   "metadata": {},
   "outputs": [
    {
     "data": {
      "text/plain": [
       "3812"
      ]
     },
     "execution_count": 204,
     "metadata": {},
     "output_type": "execute_result"
    }
   ],
   "source": [
    "hapaxes1 = sorted(lx for (lx, amount) in F.lex.freqList('word') if amount == 1)\n",
    "len(hapaxes1)"
   ]
  },
  {
   "cell_type": "code",
   "execution_count": 205,
   "metadata": {},
   "outputs": [
    {
     "name": "stdout",
     "output_type": "stream",
     "text": [
      " #  #  #  #  # \n",
      " #  #  #  #  #  #  #  #  # \n",
      " #  #  #  #  # ות\n",
      " #  #  #  #  # ל #  #  # \n",
      " #  #  #  #  # ם\n",
      " #  #  #  # ב\n",
      " #  #  #  # ה\n",
      " #  #  #  # ו # \n",
      " #  #  #  # ך\n",
      " #  #  #  # ל #  # \n",
      " #  #  #  # תא\n",
      " #  #  # ד\n",
      " #  #  # דב\n",
      " #  #  # דה\n",
      " #  #  # ה #  # \n",
      " #  #  # הו\n",
      " #  #  # הם\n",
      " #  #  # ות\n",
      " #  #  # ט\n",
      " #  #  # כת\n"
     ]
    }
   ],
   "source": [
    "for lx in hapaxes1[0:20]:\n",
    "  print(lx)"
   ]
  },
  {
   "cell_type": "markdown",
   "metadata": {},
   "source": [
    "An other way to find lexemes with only one occurrence is to use the `occ` edge feature from lexeme nodes to the word nodes of\n",
    "its occurrences."
   ]
  },
  {
   "cell_type": "code",
   "execution_count": 206,
   "metadata": {},
   "outputs": [
    {
     "data": {
      "text/plain": [
       "3812"
      ]
     },
     "execution_count": 206,
     "metadata": {},
     "output_type": "execute_result"
    }
   ],
   "source": [
    "hapaxes2 = sorted(F.lex.v(lx) for lx in F.otype.s('lex') if len(E.occ.f(lx)) == 1)\n",
    "len(hapaxes2)"
   ]
  },
  {
   "cell_type": "code",
   "execution_count": 207,
   "metadata": {},
   "outputs": [
    {
     "name": "stdout",
     "output_type": "stream",
     "text": [
      " #  #  #  #  # \n",
      " #  #  #  #  #  #  #  #  # \n",
      " #  #  #  #  # ות\n",
      " #  #  #  #  # ל #  #  # \n",
      " #  #  #  #  # ם\n",
      " #  #  #  # ב\n",
      " #  #  #  # ה\n",
      " #  #  #  # ו # \n",
      " #  #  #  # ך\n",
      " #  #  #  # ל #  # \n",
      " #  #  #  # תא\n",
      " #  #  # ד\n",
      " #  #  # דב\n",
      " #  #  # דה\n",
      " #  #  # ה #  # \n",
      " #  #  # הו\n",
      " #  #  # הם\n",
      " #  #  # ות\n",
      " #  #  # ט\n",
      " #  #  # כת\n"
     ]
    }
   ],
   "source": [
    "for lx in hapaxes2[0:20]:\n",
    "  print(lx)"
   ]
  },
  {
   "cell_type": "markdown",
   "metadata": {},
   "source": [
    "The feature `lex` contains lexemes that may have uncertain characters in it.\n",
    "\n",
    "The function `glex` has all those characters stripped. \n",
    "Let's use `glex` instead."
   ]
  },
  {
   "cell_type": "code",
   "execution_count": 208,
   "metadata": {},
   "outputs": [
    {
     "data": {
      "text/plain": [
       "3812"
      ]
     },
     "execution_count": 208,
     "metadata": {},
     "output_type": "execute_result"
    }
   ],
   "source": [
    "hapaxes1g = sorted(lx for (lx, amount) in F.glex.freqList('word') if amount == 1)\n",
    "len(hapaxes1)"
   ]
  },
  {
   "cell_type": "code",
   "execution_count": 209,
   "metadata": {},
   "outputs": [
    {
     "name": "stdout",
     "output_type": "stream",
     "text": [
      "100\n",
      "115\n",
      "126\n",
      "150\n",
      "32\n",
      "350\n",
      "536\n",
      "54\n",
      "61\n",
      "65\n",
      "66\n",
      "67\n",
      "71\n",
      "83\n",
      "92\n",
      "99\n",
      " ידה\n",
      " לוט\n",
      " נַחַל\n",
      " שֵׂעָר\n"
     ]
    }
   ],
   "source": [
    "for lx in hapaxes1g[0:20]:\n",
    "  print(lx)"
   ]
  },
  {
   "cell_type": "markdown",
   "metadata": {},
   "source": [
    "### Small occurrence base\n",
    "\n",
    "The occurrence base of a word are the scrolls in which occurs.\n",
    "\n",
    "We compute the occurrence base of each word, based on lexemes according to the `glex` feature."
   ]
  },
  {
   "cell_type": "code",
   "execution_count": 210,
   "metadata": {},
   "outputs": [
    {
     "name": "stdout",
     "output_type": "stream",
     "text": [
      "  0.00s compiling occurrence base ...\n",
      "  8.36s 8263 entries\n"
     ]
    }
   ],
   "source": [
    "occurrenceBase1 = collections.defaultdict(set)\n",
    "\n",
    "indent(reset=True)\n",
    "info('compiling occurrence base ...')\n",
    "for w in F.otype.s('word'):\n",
    "  scroll = T.sectionFromNode(w)[0]\n",
    "  occurrenceBase1[F.glex.v(w)].add(scroll)\n",
    "info(f'{len(occurrenceBase1)} entries')"
   ]
  },
  {
   "cell_type": "markdown",
   "metadata": {},
   "source": [
    "Wow, that took long!\n",
    "\n",
    "But there is another way:"
   ]
  },
  {
   "cell_type": "code",
   "execution_count": 211,
   "metadata": {},
   "outputs": [
    {
     "name": "stdout",
     "output_type": "stream",
     "text": [
      "  0.00s compiling occurrence base ...\n",
      "  0.57s done\n",
      "  0.57s 8263 entries\n"
     ]
    }
   ],
   "source": [
    "occurrenceBase2 = collections.defaultdict(set)\n",
    "\n",
    "indent(reset=True)\n",
    "info('compiling occurrence base ...')\n",
    "for s in F.otype.s('scroll'):\n",
    "  scroll = F.scroll.v(s)\n",
    "  for w in L.d(s, otype='word'):\n",
    "    occurrenceBase2[F.glex.v(w)].add(scroll)\n",
    "info('done')\n",
    "info(f'{len(occurrenceBase2)} entries')"
   ]
  },
  {
   "cell_type": "markdown",
   "metadata": {},
   "source": [
    "Much better. Are the results equal?"
   ]
  },
  {
   "cell_type": "code",
   "execution_count": 212,
   "metadata": {},
   "outputs": [
    {
     "data": {
      "text/plain": [
       "True"
      ]
     },
     "execution_count": 212,
     "metadata": {},
     "output_type": "execute_result"
    }
   ],
   "source": [
    "occurrenceBase1 == occurrenceBase2"
   ]
  },
  {
   "cell_type": "markdown",
   "metadata": {},
   "source": [
    "Yes."
   ]
  },
  {
   "cell_type": "code",
   "execution_count": 213,
   "metadata": {},
   "outputs": [],
   "source": [
    "occurrenceBase = occurrenceBase2"
   ]
  },
  {
   "cell_type": "markdown",
   "metadata": {},
   "source": [
    "An overview of how many words have how big occurrence bases:"
   ]
  },
  {
   "cell_type": "code",
   "execution_count": 214,
   "metadata": {},
   "outputs": [
    {
     "name": "stdout",
     "output_type": "stream",
     "text": [
      "base size    1 :  2762 words\n",
      "base size    2 :  1123 words\n",
      "base size    3 :   698 words\n",
      "base size    4 :   460 words\n",
      "base size    5 :   336 words\n",
      "base size    6 :   252 words\n",
      "base size    7 :   225 words\n",
      "base size    8 :   182 words\n",
      "base size    9 :   175 words\n",
      "base size   10 :   124 words\n",
      "...\n",
      "base size  459 :     1 words\n",
      "base size  480 :     1 words\n",
      "base size  539 :     1 words\n",
      "base size  600 :     1 words\n",
      "base size  605 :     1 words\n",
      "base size  633 :     1 words\n",
      "base size  745 :     1 words\n",
      "base size  761 :     1 words\n",
      "base size  846 :     1 words\n",
      "base size  987 :     1 words\n"
     ]
    }
   ],
   "source": [
    "occurrenceSize = collections.Counter()\n",
    "\n",
    "for (w, scrolls) in occurrenceBase.items():\n",
    "  occurrenceSize[len(scrolls)] += 1\n",
    "  \n",
    "occurrenceSize = sorted(\n",
    "  occurrenceSize.items(),\n",
    "  key=lambda x: (-x[1], x[0]),\n",
    ")\n",
    "\n",
    "for (size, amount) in occurrenceSize[0:10]:\n",
    "  print(f'base size {size:>4} : {amount:>5} words')\n",
    "print('...')\n",
    "for (size, amount) in occurrenceSize[-10:]:\n",
    "  print(f'base size {size:>4} : {amount:>5} words')"
   ]
  },
  {
   "cell_type": "markdown",
   "metadata": {},
   "source": [
    "Let's give the predicate *private* to those words whose occurrence base is a single scroll."
   ]
  },
  {
   "cell_type": "code",
   "execution_count": 215,
   "metadata": {},
   "outputs": [
    {
     "data": {
      "text/plain": [
       "2762"
      ]
     },
     "execution_count": 215,
     "metadata": {},
     "output_type": "execute_result"
    }
   ],
   "source": [
    "privates = {w for (w, base) in occurrenceBase.items() if len(base) == 1}\n",
    "len(privates)"
   ]
  },
  {
   "cell_type": "markdown",
   "metadata": {},
   "source": [
    "### Peculiarity of scrolls\n",
    "\n",
    "As a final exercise with scrolls, lets make a list of all scrolls, and show their\n",
    "\n",
    "* total number of words\n",
    "* number of private words\n",
    "* the percentage of private words: a measure of the peculiarity of the scroll"
   ]
  },
  {
   "cell_type": "code",
   "execution_count": 216,
   "metadata": {
    "ExecuteTime": {
     "end_time": "2018-05-18T09:18:52.143337Z",
     "start_time": "2018-05-18T09:18:52.130385Z"
    }
   },
   "outputs": [
    {
     "name": "stdout",
     "output_type": "stream",
     "text": [
      "Found    0 empty scrolls\n",
      "Found  517 ordinary scrolls (i.e. without private words)\n"
     ]
    }
   ],
   "source": [
    "scrollList = []\n",
    "\n",
    "empty = set()\n",
    "ordinary = set()\n",
    "\n",
    "for d in F.otype.s('scroll'):\n",
    "  scroll = T.scrollName(d)\n",
    "  words = {F.glex.v(w) for w in L.d(d, otype='word')}\n",
    "  a = len(words)\n",
    "  if not a:\n",
    "    empty.add(scroll)\n",
    "    continue\n",
    "  o = len({w for w in words if w in privates})\n",
    "  if not o:\n",
    "    ordinary.add(scroll)\n",
    "    continue\n",
    "  p = 100 * o / a\n",
    "  scrollList.append((scroll, a, o, p))\n",
    "\n",
    "scrollList = sorted(scrollList, key=lambda e: (-e[3], -e[1], e[0]))\n",
    "\n",
    "print(f'Found {len(empty):>4} empty scrolls')\n",
    "print(f'Found {len(ordinary):>4} ordinary scrolls (i.e. without private words)')"
   ]
  },
  {
   "cell_type": "code",
   "execution_count": 217,
   "metadata": {
    "ExecuteTime": {
     "end_time": "2018-05-18T09:18:52.143337Z",
     "start_time": "2018-05-18T09:18:52.130385Z"
    }
   },
   "outputs": [
    {
     "name": "stdout",
     "output_type": "stream",
     "text": [
      "scroll               #all #own %own\n",
      "-----------------------------------\n",
      "4Q341                  32   20 62.5%\n",
      "4Q340                  15    5 33.3%\n",
      "11Q26                   7    2 28.6%\n",
      "4Q124                  86   24 27.9%\n",
      "1Q70bis                12    3 25.0%\n",
      "4Q282d                  8    2 25.0%\n",
      "4Q313a                  4    1 25.0%\n",
      "4Q346a                  4    1 25.0%\n",
      "1Q70                   25    6 24.0%\n",
      "3Q15                  268   57 21.3%\n",
      "4Q561                  74   15 20.3%\n",
      "4Q559                 130   26 20.0%\n",
      "4Q250b                  5    1 20.0%\n",
      "4Q360a                 21    4 19.0%\n",
      "KhQ1                   32    6 18.8%\n",
      "4Q347                  11    2 18.2%\n",
      "4Q575a                 12    2 16.7%\n",
      "1Q58                    6    1 16.7%\n",
      "4Q468bb                 6    1 16.7%\n",
      "11Q10                 635  102 16.1%\n",
      "...\n",
      "4Q367                 173    1  0.6%\n",
      "4Q2                   174    1  0.6%\n",
      "4Q366                 186    1  0.5%\n",
      "4Q98                  192    1  0.5%\n",
      "4Q56                  963    5  0.5%\n",
      "4Q394                 194    1  0.5%\n",
      "4Q59                  404    2  0.5%\n",
      "4Q88                  208    1  0.5%\n",
      "11Q20                 429    2  0.5%\n",
      "4Q57                  875    4  0.5%\n",
      "11Q11                 222    1  0.5%\n",
      "4Q58                  451    2  0.4%\n",
      "4Q174                 241    1  0.4%\n",
      "4Q13                  257    1  0.4%\n",
      "4Q524                 280    1  0.4%\n",
      "4Q271                 294    1  0.3%\n",
      "4Q84                  350    1  0.3%\n",
      "4Q33                  365    1  0.3%\n",
      "4Q428                 385    1  0.3%\n",
      "1QpHab                463    1  0.2%\n"
     ]
    }
   ],
   "source": [
    "print('{:<20}{:>5}{:>5}{:>5}\\n{}'.format(\n",
    "    'scroll', '#all', '#own', '%own',\n",
    "    '-'*35,\n",
    "))\n",
    "\n",
    "for x in scrollList[0:20]:\n",
    "  print('{:<20} {:>4} {:>4} {:>4.1f}%'.format(*x))\n",
    "print('...')\n",
    "for x in scrollList[-20:]:\n",
    "  print('{:<20} {:>4} {:>4} {:>4.1f}%'.format(*x))"
   ]
  },
  {
   "cell_type": "markdown",
   "metadata": {},
   "source": [
    "# Locality API\n",
    "We travel upwards and downwards, forwards and backwards through the nodes.\n",
    "The Locality-API (`L`) provides functions: `u()` for going up, and `d()` for going down,\n",
    "`n()` for going to next nodes and `p()` for going to previous nodes.\n",
    "\n",
    "These directions are indirect notions: nodes are just numbers, but by means of the\n",
    "`oslots` feature they are linked to slots. One node *contains* an other node, if the one is linked to a set of slots that contains the set of slots that the other is linked to.\n",
    "And one if next or previous to an other, if its slots follow or precede the slots of the other one.\n",
    "\n",
    "`L.u(node)` **Up** is going to nodes that embed `node`.\n",
    "\n",
    "`L.d(node)` **Down** is the opposite direction, to those that are contained in `node`.\n",
    "\n",
    "`L.n(node)` **Next** are the next *adjacent* nodes, i.e. nodes whose first slot comes immediately after the last slot of `node`.\n",
    "\n",
    "`L.p(node)` **Previous** are the previous *adjacent* nodes, i.e. nodes whose last slot comes immediately before the first slot of `node`.\n",
    "\n",
    "All these functions yield nodes of all possible otypes.\n",
    "By passing an optional parameter, you can restrict the results to nodes of that type.\n",
    "\n",
    "The result are ordered according to the order of things in the text.\n",
    "\n",
    "The functions return always a tuple, even if there is just one node in the result.\n",
    "\n",
    "## Going up\n",
    "We go from the first word to the scroll it contains.\n",
    "Note the `[0]` at the end. You expect one scroll, yet `L` returns a tuple. \n",
    "To get the only element of that tuple, you need to do that `[0]`.\n",
    "\n",
    "If you are like me, you keep forgetting it, and that will lead to weird error messages later on."
   ]
  },
  {
   "cell_type": "code",
   "execution_count": 218,
   "metadata": {
    "ExecuteTime": {
     "end_time": "2018-05-18T09:18:55.410034Z",
     "start_time": "2018-05-18T09:18:55.404051Z"
    }
   },
   "outputs": [
    {
     "name": "stdout",
     "output_type": "stream",
     "text": [
      "1605864\n"
     ]
    }
   ],
   "source": [
    "firstScroll = L.u(1, otype='scroll')[0]\n",
    "print(firstScroll)"
   ]
  },
  {
   "cell_type": "markdown",
   "metadata": {},
   "source": [
    "And let's see all the containing objects of sign 3:"
   ]
  },
  {
   "cell_type": "code",
   "execution_count": 219,
   "metadata": {
    "ExecuteTime": {
     "end_time": "2018-05-18T09:18:56.772513Z",
     "start_time": "2018-05-18T09:18:56.766324Z"
    }
   },
   "outputs": [
    {
     "name": "stdout",
     "output_type": "stream",
     "text": [
      "sign 3 is contained in scroll 1605864\n",
      "sign 3 is contained in lex 1542521\n",
      "sign 3 is contained in fragment 1531338\n",
      "sign 3 is contained in line 1552969\n",
      "sign 3 is contained in cluster x\n",
      "sign 3 is contained in word 1606866\n"
     ]
    }
   ],
   "source": [
    "s = 3\n",
    "for otype in F.otype.all:\n",
    "  if otype == F.otype.slotType: continue\n",
    "  up = L.u(s, otype=otype)\n",
    "  upNode = 'x' if len(up) == 0 else up[0]\n",
    "  print('sign {} is contained in {} {}'.format(s, otype, upNode))"
   ]
  },
  {
   "cell_type": "markdown",
   "metadata": {},
   "source": [
    "## Going next\n",
    "Let's go to the next nodes of the first scroll."
   ]
  },
  {
   "cell_type": "code",
   "execution_count": 220,
   "metadata": {
    "ExecuteTime": {
     "end_time": "2018-05-18T09:18:58.821681Z",
     "start_time": "2018-05-18T09:18:58.814893Z"
    }
   },
   "outputs": [
    {
     "name": "stdout",
     "output_type": "stream",
     "text": [
      "  17149: sign          first slot=17149 , last slot=17149 \n",
      "1612978: word          first slot=17149 , last slot=17149 \n",
      "1553383: line          first slot=17149 , last slot=17176 \n",
      "1531356: fragment      first slot=17149 , last slot=18207 \n",
      "1605865: scroll        first slot=17149 , last slot=33885 \n"
     ]
    }
   ],
   "source": [
    "afterFirstScroll = L.n(firstScroll)\n",
    "for n in afterFirstScroll:\n",
    "  print('{:>7}: {:<13} first slot={:<6}, last slot={:<6}'.format(\n",
    "      n, F.otype.v(n),\n",
    "      E.oslots.s(n)[0],\n",
    "      E.oslots.s(n)[-1],\n",
    "  ))\n",
    "secondScroll = L.n(firstScroll, otype='scroll')[0]"
   ]
  },
  {
   "cell_type": "markdown",
   "metadata": {},
   "source": [
    "## Going previous\n",
    "\n",
    "And let's see what is right before the second scroll."
   ]
  },
  {
   "cell_type": "code",
   "execution_count": 221,
   "metadata": {
    "ExecuteTime": {
     "end_time": "2018-05-18T09:19:00.163973Z",
     "start_time": "2018-05-18T09:19:00.154857Z"
    }
   },
   "outputs": [
    {
     "name": "stdout",
     "output_type": "stream",
     "text": [
      "1605864: scroll        first slot=1     , last slot=17148 \n",
      "1531355: fragment      first slot=15658 , last slot=17148 \n",
      "1553382: line          first slot=17099 , last slot=17148 \n",
      "1612977: word          first slot=17147 , last slot=17148 \n",
      "  17148: sign          first slot=17148 , last slot=17148 \n"
     ]
    }
   ],
   "source": [
    "for n in L.p(secondScroll):\n",
    "  print('{:>7}: {:<13} first slot={:<6}, last slot={:<6}'.format(\n",
    "      n, F.otype.v(n),\n",
    "      E.oslots.s(n)[0],\n",
    "      E.oslots.s(n)[-1],\n",
    "  ))"
   ]
  },
  {
   "cell_type": "markdown",
   "metadata": {},
   "source": [
    "## Going down"
   ]
  },
  {
   "cell_type": "markdown",
   "metadata": {},
   "source": [
    "We go to the fragments of the first scroll, and just count them."
   ]
  },
  {
   "cell_type": "code",
   "execution_count": 222,
   "metadata": {
    "ExecuteTime": {
     "end_time": "2018-05-18T09:19:02.530705Z",
     "start_time": "2018-05-18T09:19:02.475279Z"
    }
   },
   "outputs": [
    {
     "name": "stdout",
     "output_type": "stream",
     "text": [
      "18\n"
     ]
    }
   ],
   "source": [
    "fragments = L.d(firstScroll, otype='fragment')\n",
    "print(len(fragments))"
   ]
  },
  {
   "cell_type": "markdown",
   "metadata": {},
   "source": [
    "## The first line\n",
    "We pick two nodes and explore what is above and below them:\n",
    "the first line and the first word."
   ]
  },
  {
   "cell_type": "code",
   "execution_count": 223,
   "metadata": {
    "ExecuteTime": {
     "end_time": "2018-05-18T09:19:04.024679Z",
     "start_time": "2018-05-18T09:19:03.995207Z"
    }
   },
   "outputs": [
    {
     "name": "stdout",
     "output_type": "stream",
     "text": [
      "Node 1606865\n",
      "   |   UP\n",
      "   |      |   1542520         lex\n",
      "   |      |   1552969         line\n",
      "   |      |   1531338         fragment\n",
      "   |      |   1605864         scroll\n",
      "   |   DOWN\n",
      "   |      |   2               sign\n",
      "Node 1552969\n",
      "   |   UP\n",
      "   |      |   1531338         fragment\n",
      "   |      |   1605864         scroll\n",
      "   |   DOWN\n",
      "   |      |   1430239         cluster\n",
      "   |      |   1               sign\n",
      "   |      |   1606865         word\n",
      "   |      |   2               sign\n",
      "   |      |   1606866         word\n",
      "   |      |   3               sign\n",
      "   |      |   4               sign\n",
      "   |      |   5               sign\n",
      "   |      |   1606867         word\n",
      "   |      |   6               sign\n",
      "   |      |   7               sign\n",
      "   |      |   8               sign\n",
      "   |      |   9               sign\n",
      "   |      |   1606868         word\n",
      "   |      |   10              sign\n",
      "   |      |   11              sign\n",
      "   |      |   1606869         word\n",
      "   |      |   12              sign\n",
      "   |      |   13              sign\n",
      "   |      |   14              sign\n",
      "   |      |   15              sign\n",
      "   |      |   16              sign\n",
      "   |      |   1606870         word\n",
      "   |      |   17              sign\n",
      "   |      |   18              sign\n",
      "   |      |   19              sign\n",
      "   |      |   1606871         word\n",
      "   |      |   20              sign\n",
      "   |      |   1606872         word\n",
      "   |      |   21              sign\n",
      "   |      |   22              sign\n",
      "   |      |   23              sign\n",
      "   |      |   24              sign\n",
      "   |      |   1606873         word\n",
      "   |      |   25              sign\n",
      "   |      |   1606874         word\n",
      "   |      |   26              sign\n",
      "   |      |   27              sign\n",
      "   |      |   28              sign\n",
      "   |      |   29              sign\n",
      "Done\n"
     ]
    }
   ],
   "source": [
    "for n in [\n",
    "    F.otype.s('word')[0],\n",
    "    F.otype.s('line')[0],\n",
    "]:\n",
    "  indent(level=0)\n",
    "  info('Node {}'.format(n), tm=False)\n",
    "  indent(level=1)\n",
    "  info('UP', tm=False)\n",
    "  indent(level=2)\n",
    "  info('\\n'.join(['{:<15} {}'.format(u, F.otype.v(u)) for u in L.u(n)]), tm=False)\n",
    "  indent(level=1)\n",
    "  info('DOWN', tm=False)\n",
    "  indent(level=2)\n",
    "  info('\\n'.join(['{:<15} {}'.format(u, F.otype.v(u)) for u in L.d(n)]), tm=False)\n",
    "indent(level=0)\n",
    "info('Done', tm=False)"
   ]
  },
  {
   "cell_type": "markdown",
   "metadata": {},
   "source": [
    "# Text API\n",
    "\n",
    "So far, we have mainly seen nodes and their numbers, and the names of node types.\n",
    "You would almost forget that we are dealing with text.\n",
    "So let's try to see some text.\n",
    "\n",
    "In the same way as `F` gives access to feature data,\n",
    "`T` gives access to the text.\n",
    "That is also feature data, but you can tell Text-Fabric which features are specifically\n",
    "carrying the text, and in return Text-Fabric offers you\n",
    "a Text API: `T`.\n",
    "\n",
    "## Formats\n",
    "DSS text can be represented in a number of ways:\n",
    "\n",
    "* unicode\n",
    "* ETCBC transcription\n",
    "* original Abegg code\n",
    "\n",
    "All three can be represented in two flavours:\n",
    "\n",
    "* essential: only glyphs, no bracketings and flags\n",
    "* extra: everything\n",
    "\n",
    "If you wonder where the information about text formats is stored: \n",
    "not in the program text-fabric, but in the data set.\n",
    "It has a feature `otext`, which specifies the formats and which features\n",
    "must be used to produce them. `otext` is the third special feature in a TF data set,\n",
    "next to `otype` and `oslots`. \n",
    "It is an optional feature. \n",
    "If it is absent, there will be no `T` API.\n",
    "\n",
    "Here is a list of all available formats in this data set."
   ]
  },
  {
   "cell_type": "code",
   "execution_count": 224,
   "metadata": {
    "ExecuteTime": {
     "end_time": "2018-05-18T09:19:05.606582Z",
     "start_time": "2018-05-18T09:19:05.593486Z"
    }
   },
   "outputs": [
    {
     "data": {
      "text/plain": [
       "['layout-orig-extra',\n",
       " 'layout-orig-full',\n",
       " 'layout-trans-extra',\n",
       " 'layout-trans-full',\n",
       " 'lex-orig-full',\n",
       " 'lex-source-full',\n",
       " 'lex-trans-full',\n",
       " 'morph-source-full',\n",
       " 'text-orig-extra',\n",
       " 'text-orig-full',\n",
       " 'text-source-extra',\n",
       " 'text-source-full',\n",
       " 'text-trans-extra',\n",
       " 'text-trans-full']"
      ]
     },
     "execution_count": 224,
     "metadata": {},
     "output_type": "execute_result"
    }
   ],
   "source": [
    "sorted(T.formats)"
   ]
  },
  {
   "cell_type": "markdown",
   "metadata": {},
   "source": [
    "## Using the formats\n",
    "\n",
    "The ` T.text()` function is central to get text representations of nodes. Its most basic usage is\n",
    "\n",
    "```python\n",
    "T.text(nodes, fmt=fmt)\n",
    "```\n",
    "where `nodes` is a list or iterable of nodes, usually word nodes, and `fmt` is the name of a format.\n",
    "If you leave out `fmt`, the default `text-orig-full` is chosen.\n",
    "\n",
    "The result is the text in that format for all nodes specified:"
   ]
  },
  {
   "cell_type": "code",
   "execution_count": 225,
   "metadata": {},
   "outputs": [
    {
     "data": {
      "text/plain": [
       "'W<TH CM<W KL JWD<J YDQ WBJNW BM<CJ '"
      ]
     },
     "execution_count": 225,
     "metadata": {},
     "output_type": "execute_result"
    }
   ],
   "source": [
    "T.text(range(firstWord, firstWord + 10), fmt='text-trans-full')"
   ]
  },
  {
   "cell_type": "markdown",
   "metadata": {},
   "source": [
    "There is also another usage of this function:\n",
    "\n",
    "```python\n",
    "T.text(node, fmt=fmt)\n",
    "```\n",
    "\n",
    "where `node` is a single node.\n",
    "In this case, the default format is *ntype*`-orig-full` where *ntype* is the type of `node`.\n",
    "\n",
    "If the format is defined in the corpus, it will be used. Otherwise, the word nodes contained in `node` will be looked up\n",
    "and represented with the default format `text-orig-full`.\n",
    "\n",
    "In this way we can sensibly represent a lot of different nodes, such as documents, faces, lines, clusters, words and signs.\n",
    "\n",
    "We compose a set of example nodes and run `T.text` on them:"
   ]
  },
  {
   "cell_type": "code",
   "execution_count": 226,
   "metadata": {},
   "outputs": [
    {
     "data": {
      "text/plain": [
       "[1, 1606865, 1430239, 1552969, 1531338, 1605864]"
      ]
     },
     "execution_count": 226,
     "metadata": {},
     "output_type": "execute_result"
    }
   ],
   "source": [
    "exampleNodes = [\n",
    "  F.otype.s('sign')[0],\n",
    "  F.otype.s('word')[0],\n",
    "  F.otype.s('cluster')[0],\n",
    "  F.otype.s('line')[0],\n",
    "  F.otype.s('fragment')[0],\n",
    "  F.otype.s('scroll')[0],\n",
    "]\n",
    "exampleNodes"
   ]
  },
  {
   "cell_type": "code",
   "execution_count": 227,
   "metadata": {},
   "outputs": [
    {
     "name": "stdout",
     "output_type": "stream",
     "text": [
      "This is sign 1:\n",
      "\n",
      "\n",
      "This is word 1606865:\n",
      "ו\n",
      "\n",
      "This is cluster 1430239:\n",
      "\n",
      "\n",
      "This is line 1552969:\n",
      "ועתה שׁמעו כל יודעי צדק ובינו במעשׁי \n",
      "\n",
      "This is fragment 1531338:\n",
      "ועתה שׁמעו כל יודעי צדק ובינו במעשׁי אל ׃ כי ריב ל׳ו עם כל בשׁר ומשׁפט יעשׁה בכל מנאצי׳ו ׃ כי במועל׳ם אשׁר עזבו׳הו הסתיר פני׳ו מישׁראל וממקדשׁ׳ו ויתנ׳ם לחרב ׃ ובזכר׳ו ברית ראשׁנים השׁאיר שׁאירית לישׁראל ולא נתנ׳ם לכלה ׃ ובקץ חרון שׁנים שׁלושׁ מאות ותשׁעים לתית׳ו אות׳ם ביד נבוכדנאצר מלך בבל פקד׳ם ׃ ויצמח מישׁראל ומאהרן שׁורשׁ מטעת לירושׁ את ארצ׳ו ולדשׁן בטוב אדמת׳ו ׃ ויבינו בעונ׳ם וידעו כי אנשׁים אשׁימים הם ׃ ויהיו כעורים וכימגשׁשׁים דרך שׁנים עשׁרים ׃ ויבן אל אל מעשׁי׳הם כי בלב שׁלם דרשׁו׳הו ויקם ל׳הם מורה צדק להדריכ׳ם בדרך לב׳ו ׃ ויודע לדורות אחרונים את אשׁר עשׁה בדור אחרון בעדת בוגדים הם סרי דרך ׃ היא העת אשׁר היה כתוב עלי׳ה כפרה סורירה כן סרר ישׁראל ׃ בעמוד אישׁ הלצון אשׁר הטיף לישׁראל מימי כזב ויתע׳ם בתוהו לא דרך להשׁח גבהות עולם ולסור מנתיבות צדק ולסיע גבול אשׁר גבלו ראשׁנים בנחלת׳ם למען הדבק ב׳הם את אלות ברית׳ו להסגיר׳ם לחרב נקמת נקם ברית ׃ בעבור אשׁר דרשׁו בחלקות ויבחרו במהתלות ויצפו לפרצות ויבחרו בטוב הצואר ויצדיקו רשׁע וירשׁיעו צדיק ׃ ויעבירו ברית ויפירו חוק ויגודו על נפשׁ צדיק ובכל הולכי תמים תעבה נפשׁ׳ם וירדפו׳ם לחרב ויסיסו לריב עם ׃ ויחר אף \n",
      "\n",
      "This is scroll 1605864:\n",
      "ועתה שׁמעו כל יודעי צדק ובינו במעשׁי אל ׃ כי ריב ל׳ו עם כל בשׁר ומשׁפט יעשׁה בכל מנאצי׳ו ׃ כי במועל׳ם אשׁר עזבו׳הו הסתיר פני׳ו מישׁראל וממקדשׁ׳ו ויתנ׳ם לחרב ׃ ובזכר׳ו ברית ראשׁנים השׁאיר שׁאירית לישׁראל ולא נתנ׳ם לכלה ׃ ובקץ חרון שׁנים שׁלושׁ מאות ותשׁעים לתית׳ו אות׳ם ביד נבוכדנאצר מלך בבל פקד׳ם ׃ ויצמח מישׁראל ומאהרן שׁורשׁ מטעת לירושׁ את ארצ׳ו ולדשׁן בטוב אדמת׳ו ׃ ויבינו בעונ׳ם וידעו כי אנשׁים אשׁימים הם ׃ ויהיו כעורים וכימגשׁשׁים דרך שׁנים עשׁרים ׃ ויבן אל אל מעשׁי׳הם כי בלב שׁלם דרשׁו׳הו ויקם ל׳הם מורה צדק להדריכ׳ם בדרך לב׳ו ׃ ויודע לדורות אחרונים את אשׁר עשׁה בדור אחרון בעדת בוגדים הם סרי דרך ׃ היא העת אשׁר היה כתוב עלי׳ה כפרה סורירה כן סרר ישׁראל ׃ בעמוד אישׁ הלצון אשׁר הטיף לישׁראל מימי כזב ויתע׳ם בתוהו לא דרך להשׁח גבהות עולם ולסור מנתיבות צדק ולסיע גבול אשׁר גבלו ראשׁנים בנחלת׳ם למען הדבק ב׳הם את אלות ברית׳ו להסגיר׳ם לחרב נקמת נקם ברית ׃ בעבור אשׁר דרשׁו בחלקות ויבחרו במהתלות ויצפו לפרצות ויבחרו בטוב הצואר ויצדיקו רשׁע וירשׁיעו צדיק ׃ ויעבירו ברית ויפירו חוק ויגודו על נפשׁ צדיק ובכל הולכי תמים תעבה נפשׁ׳ם וירדפו׳ם לחרב ויסיסו לריב עם ׃ ויחר אף אל בעדת׳ם להשׁם את כל המונ׳ם ומעשׁי׳הם לנדה לפני׳ו ׃ ועתה שׁמעו אל׳י כל באי ברית ואגלה אזנ׳כם בדרכי רשׁעים ׃ אל אהב דעת חכמה ותושׁייה הציב לפני׳ו ערמה ודעת הם ישׁרתו׳הו ׃ ארך אפים עמ׳ו ורוב סליחות לכפר בעד שׁבי פשׁע ׃ וכוח וגבורה וחמה גדולה בלהבי אשׁ בידי כל מלאכי חבל על סררי דרך ומתעבי חק לאין שׁאירית ופליטה ל׳מו ׃ כי לא בחר אל ב׳הם מקדם עולם ובטרם נוסדו ידע את מעשׁי׳הם ׃ ויתעב את דורות מדם ויסתר את פני׳ו מן הארץ מיעד תומ׳ם ׃ וידע את שׁני מעמד ומספר ופרושׁ קצי׳הם לכל הוי עולמים ונהיית עד מה יבוא בקצי׳הם לכל שׁני עולם ׃ ובכול׳ם הקים ל׳ו קריאי שׁם למען התיר פליטה לארץ ולמלא פני תבל מזרע׳ם ׃ ויודיע׳ם ביד משׁיחוי רוח קדשׁ׳ו וחוזי אמת ובפרושׁ שׁמו שׁמותי׳הם ואת אשׁר שׁנא התעה ׃ ועתה בנים שׁמעו ל׳י ואגלה עיני׳כם לראות ולהבין במעשׁי אל ולבחור את אשׁר רצה ולמאוס כאשׁר שׁנא ׃ להתהלך תמים בכל דרכי׳ו ולא לתור במחשׁבות יצר אשׁמה ועני זנות כי רבים תעו ב׳ם וגבורי חיל נכשׁלו ב׳ם מלפנים ועד הנה ׃ בלכת׳ם בשׁרירות לב׳ם נפלו עידי עירי השׁמים ב׳ה נאחזו אשׁר לא שׁמרו מצות אל ׃ ובני׳הם אשׁר כרום ארזים גבה׳ם וכהרים גויותי׳הם כי נפלו ׃ כל בשׁר אשׁר היה בחרבה כי גוע ויהיו כלא היו בעשׁות׳ם את רצונ׳ם ולא שׁמרו את מצות עשׁי׳הם עד אשׁר חרה אפ׳ו ב׳ם ׃ ב׳ה תעיו בני נח ומשׁפחותי׳הם ב׳ה הם נכרתים ׃ אברהם לא הלך ב׳ה ויעל אוהב בשׁמר׳ו מצות אל ולא בחר ברצון רוח׳ו ׃ וימסור לישׁחק וליעקב וישׁמרו ויכתבו אוהבים לאל ובעלי ברית לעולם ׃ בני יעקב תעו ב׳ם ויענשׁו לפני משׁגות׳ם ׃ ובני׳הם במצרים הלכו בשׁרירות לב׳ם להיעץ על מצות אל ולעשׁות אישׁ הישׁר בעיני׳ו ויאכלו את הדם ׃ ויכרת זכור׳ם במדבר ל׳הם בקדשׁ עלו ורשׁו את רוח׳ם ולא שׁמעו לקול עשׁי׳הם מצות יורי׳הם וירגנו באהלי׳הם ויחר אף אל בעדת׳ם ׃ ובני׳הם ב׳ו אבדו ומלכי׳הם ב׳ו נכרתו וגיבורי׳הם ב׳ו אבדו וארצ׳ם ב׳ו שׁממה ׃ ב׳ו הבו באי הברית הראשׁנים ויסגרו לחרב בעזב׳ם את ברית אל ויבחרו ברצונ׳ם ויתורו אחרי שׁרירות לב׳ם לעשׁות אישׁ את רצונ׳ו ׃ ובמחזיקים במצות אל אשׁר נותרו מ׳הם הקים אל את ברית׳ו לישׁראל עד עולם לגלות ל׳הם נסתרות אשׁר תעו ב׳ם כל ישׁראל שׁבתות קדשׁ׳ו ומועדי כבוד׳ו עידות צדק׳ו ודרכי אמת׳ו וחפצי רצונ׳ו אשׁר יעשׁה האדם וחיה ב׳הם פתח לפני׳הם ׃ ויחפרו באר למים רבים ומואסי׳הם לא יחיה ׃ והם התגוללו בפשׁע אנושׁ ובדרכי נדה ויאמרו כי ל׳נו היא ׃ ואל ברזי פלא׳ו כפר בעד עונ׳ם וישׁא לפשׁע׳ם ויבן ל׳הם בית נאמן בישׁראל אשׁר לא עמד כמ׳הו למלפנים ועד הנה ׃ המחזיקים ב׳ו לחיי נצח וכל כבוד אדם ל׳הם הוא כאשׁר הקים אל ל׳הם ביד יחזקאל הנביא לאמר הכהנים והלוים ובני צדוק אשׁר שׁמרו את משׁמרת מקדשׁ׳י בתעות בני ישׁראל מעל׳י הם יגישׁו ל׳י חלב ודם ׃ הכהנים הם שׁבי ישׁראל היוצאים מארץ יהודה והנלוים עמ׳הם ׃ ובני צדוק הם בחירי ישׁראל קריאי השׁם העמדים באחרית הימים ׃ הנה פרושׁ שׁמותי׳הם לתולדות׳ם וקץ מעמד׳ם ומספר צרותי׳הם ושׁני התגורר׳ם ופירושׁ מעשׁי׳הם ׃ הקודשׁ שׁונים אשׁר כפר אל בעד׳ם ויצדיקו צדיק וירשׁיעו רשׁע ׃ וכל הבאים אחרי׳הם לעשׁות כפרושׁ התורה אשׁר התוסרו ב׳ו הראשׁנים עד שׁלים הקץ השׁנים האלה ׃ כברית אשׁר הקים אל לראשׁנים לכפר על עונותי׳הם כן יכפר אל בעד׳ם ׃ ובשׁלום הקץ למספר השׁנים האלה אין עוד להשׁתפח לבית יהודה כי אם לעמוד אישׁ על מצוד׳ו ׃ נבנתה הגדר רחק החוק ובכל השׁנים האלה יהיה בליעל משׁולח בישׁראל כאשׁר דבר אל ביד ישׁעיה הנביא בן אמוץ לאמר פחד ופחת ופח עלי׳ך יושׁב הארץ ׃ פשׁר׳ו שׁלושׁת מצודות בליעל אשׁר אמר עלי׳הם לוי בן יעקב אשׁר הוא תפשׁ ב׳הם בישׁראל ויתנ׳ם פני׳הם לשׁלושׁת מיני הצדק ׃ הראשׁונה היא הזנות השׁנית ההון השׁלישׁית טמא המקדשׁ ׃ העולה מזה יתפשׁ בזה והניצל מזה יתפשׁ בזה ׃ בוני החיץ אשׁר הלכו אחרי צו הצו הוא מטיף אשׁר אמר הטף יטיפו׳ן ׃ הם ניתפשׁים בשׁתים בזנות לקחת שׁתי נשׁים בחיי׳הם ׃ ויסוד הבריאה זכר ונקבה ברא אות׳ם ׃ ובאי התבה שׁנים שׁנים באו אל התבה ׃ ועל הנשׁיא כתוב לא ירבה ל׳ו נשׁים ׃ ודויד לא קרא בספר התורה החתום אשׁר היה בארון כי לא נפ #  #  נפתח בישׁראל מיום מות אלעזר ויהושׁע ויושׁוע והזקנים אשׁר עבדו את העשׁתרת ׃ ויטמון נגלה עד עמוד צדוק ׃ ויעלו מעשׁי דויד מלבד דם אוריה ויעזב׳ם ל׳ו אל ׃ וגם מטמאים הם את המקדשׁ אשׁר אין הם מבדיל כתורה ושׁוכבים עם הרואה את דם זוב׳ה ׃ ולוקחים אישׁ את בת אחי׳הו ואת בת אחות׳ו ׃ ומשׁה אמר אל אחות אמ׳ך לא תקרב שׁאר אמ׳ך היא ׃ ומשׁפט העריות לזכרים הוא כתוב וכ׳הם הנשׁים ׃ ואם תגלה בת האח את ערות אחי אבי׳ה והיא שׁאר ׃ וגם את רוח קדשׁי׳הם טמאו ובלשׁון גדופים פתחו פה על חוקי ברית אל לאמר לא נכונו ותועבה הם מדברים ב׳ם ׃ כל׳ם קדחי אשׁ ומבערי זיקות קורי עכבישׁ קורי׳הם וביצי צפעונים ביצי׳הם ׃ הקרוב אלי׳הם לא ינקה ׃ כהר בית׳ו כהרבות׳ו יאשׁם כי אם נלחץ ׃ כי אם למילפנים פקד אל את מעשׁי׳הם ויחר אפ׳ו בעלילותי׳הם כי לא עם בינות הוא ׃ הם גוי אבד עצות מאשׁר אין ב׳הם בינה ׃ כי מלפנים עמד משׁה ואהרן ביד שׁר האורים ויקם בליעל את יחנה ואת אחי׳הו במזמת׳ו בהושׁע ישׁראל את הראשׁונה ׃ ובקץ חרבן הארץ עמדו מסיגי הגבול ויתעו את ישׁראל ׃ ותישׁם הארץ כי דברו סרה על מצות אל ביד משׁה וגם במשׁיחוי הקודשׁ וינבאו שׁקר להשׁיב את ישׁראל מאחר אל ׃ ויזכר אל ברית ראשׁנים ויקם מאהרן נבונים ומישׁראל חכמים ׃ וישׁמיע׳ם ויחפורו את הבאר באר חפרו׳ה שׁרים כרו׳ה נדיבי העם במחוקק ׃ הבאר היא התורה וחופרי׳ה הם שׁבי ישׁראל היוצאים מארץ יהודה ויגורו בארץ דמשׁק אשׁר קרא אל את כול׳ם שׁרים כי דרשׁו׳הו ולא הושׁבה פארת׳ם בפי אחד ׃ והמחוקק הוא דורשׁ התורה אשׁר אמר ישׁעיה מוציא כלי למעשׁי׳הו ׃ ונדיבי העם הם הבאים לכרות את הבאר במחוקקות אשׁר חקק המחוקק להתהלך ב׳מה בכל קץ הרשׁיע וזולת׳ם לא ישׁיגו עד עמד יורה הצדק באחרית הימים ׃ וכל אשׁר הובאו בברית לבלתי בוא אל המקדשׁ להאיר מזבח׳ו חנם ׃ ויהיו מסגירי הדלת אשׁר אמר אל מי ב׳כם יסגור דלת׳י ולא תאירו מזבח׳י חנם ׃ אם לא ישׁמרו לעשׁות כפרושׁ התורה לקץ הרשׁע ולהבדל מבני השׁחת ולהנזר מהון הרשׁעה הטמא בנדר ובחרם ובהון המקדשׁ ׃ ולגזול את עניי עמ׳ו להיות אלמנות שׁלל׳ם ואת יתומים ירצחו ולהבדיל בין הטמא לטהור ולהודיע בין הקודשׁ לחול ולשׁמור את יום השׁבת כפרושׁ׳ה ואת המועדות ואת יום התענית כמצאת באי הברית החדשׁה בארץ דמשׁק להרים את הקדשׁים כפירושׁי׳הם ׃ לאהוב אישׁ את אחי׳הו כמ׳הו ולהחזיק ביד עני ואביון וגר ולדרושׁ אישׁ את שׁלום אחי׳הו ולא ימעל אישׁ בשׁאר בשׁר׳ו ׃ להזיר מן הזונות כמשׁפט להוכיח אישׁ את אחי׳הו כמצוה ולא לנטור מיום ליום ולהבדל מכל הטמאות כמשׁפט׳ם ׃ ולא ישׁקץ אישׁ את רוח קדשׁי׳ו כאשׁר הבדיל אל ל׳הם ׃ כל המתהלכים באלה בתמים קדשׁ על פי כל יסור׳ו ברית אל נאמנות ל׳הם לחיות׳ם אלף דור ׃ ואם מחנות ישׁבו כסרך הארץ ולקחו נשׁים והולידו בנים והתהלכו על פי התורה וכמשׁפט היסורים כסרך התורה כאשׁר אמר בין אישׁ לאשׁת׳ו ובין אב לבנ׳ו ׃ וכל המואסים בפקד אל את הארץ להשׁיב גמול רשׁעים עלי׳הם בבוא הדבר אשׁר כתוב בדברי ישׁעיה בן אמוץ הנביא אשׁר אמר יבוא עלי׳ך ועל עמ׳ך ועל בית אבי׳ך ימים אשׁר לא באו מיום סור אפרים מעל יהודה ׃ בהפרד שׁני בתי ישׁראל שׁר אפרים מעל יהודה ׃ וכל הנסוגים הוסגרו לחרב והמחזיקים נמלטו לארץ צפון ׃ כאשׁר אמר והגליתי את סכות מלכ׳כם ואת כיון צלמי׳כם מאהלי דמשׁק ׃ ספרי התורה הם סוכת המלך כאשׁר אמר והקימותי את סוכת דוד הנופלת ׃ המלך הוא נשׁיא הקהל ׃ וכיניי הצלמים וכיון הצלמים הם ספרי הנביאים אשׁר בזה ישׁראל את דברי׳הם ׃ והכוכב הוא דורשׁ התורה הבא דמשׁק כאשׁר כתוב דרך כוכב מיעקב וקם שׁבט מישׁראל ׃ השׁבט הוא נשׁיא כל העדה ובעמד׳ו וקרקר את כל בני שׁת ׃ אלה מלטו בקץ הפקודה הראשׁון והנסוגים הסגירו לחרב ׃ וכן משׁפט כל באי ברית׳ו אשׁר לא יחזיקו באלה לפוקד׳ם לכלה ביד בליעל הוא היום אשׁר יפקד אל ׃ היו שׁרי יהודה אשׁר תשׁפוך עלי׳הם העברה כי יחלו למרפא וידקמום וידבק מום כל מורדים מאשׁר לא סרו מדרך בוגדים ויתגוללו בדרכי זונות ובהון רשׁעה ונקום וניטור אישׁ לאחי׳ו ושׁנוא אישׁ את רע׳הו ׃ ויתעלמו אישׁ בשׁאר בשׁר׳ו ויגשׁו לזמה ויתגברו להון ולבצע ויעשׁו אישׁ הישׁר בעיני׳ו ׃ ויבחרו אישׁ בשׁרירות לב׳ו ולא נזרו מעם ׃ ויפרעו ביד רמה ללכת בדרך רשׁעים אשׁר אמר אל עלי׳הם חמת תנינים יינ׳ם וראשׁ פתנים אכזר ׃ התנינים הם מלכי העמים ויינ׳ם הוא דרכי׳הם וראשׁ הפתנים הוא ראשׁ מלכי יון הבא לעשׁות ב׳הם נקמה ׃ ובכל אלה לא הבינו בוני החיץ וטחי התפל כי שׁוקל רוח ומטיף כזב הטיף ל׳הם אשׁר חרה אף אל בכל עדת׳ו ׃ ואשׁר אמר משׁה לא בצדקת׳ך ובישׁר לבב׳ך אתה בא לרשׁת את הגוים האלה כי מאהבת׳ו את אבותי׳ך ומשׁמר׳ו את השׁבועה ׃ וכן המשׁפט לשׁבי ישׁראל סרו מדרך העם באהבת אל את הראשׁנים אשׁר היעירו אחרי׳ו אהב את הבאים אחרי׳הם כי ל׳הם ברית האבות ׃ ובשׁונאי ובשׁונא׳ו את בוני החיץ חרה אפ׳ו וכמשׁפט הזה לכל המואס במצות אל ויעזב׳ם ויפנו בשׁרירות לב׳ם ׃ הוא הדבר אשׁר אמר ירמיהו לברוך בן נרייה ואלישׁע לגחזי נער׳ו ׃ כל האנשׁים אשׁר באו בברית החדשׁה בארץ דמשׁק ׃ כל אדם אשׁר יחרים אדם מאדם בחוקי הגוים להמית הוא ׃ ואשׁר אמר לא תקום ולא תטור את בני עמ׳ך וכל אישׁ מביא׳ו מבאי הברית אשׁר יביא על רע׳הו דבר אשׁר לא בהוכח לפני עדים והביא׳ו בחרון אפ׳ו או ספר לזקני׳ו להבזות׳ו נוקם הוא ונוטר ׃ ואין כתוב כי אם נוקם הוא לצרי׳ו ונוטר הוא לאויבי׳ו ׃ אם החרישׁ ל׳ו מיום ליום ובחרון אפ׳ו ב׳ו דבר ב׳ו בדבר מות ענה ב׳ו יען אשׁר לא הקים את מצות אל אשׁר אמר ל׳ו הוכח תוכיח את רעי׳ך ולא תשׁא עלי׳ו חטא ׃ על השׁבועה אשׁר אמר לא תושׁיע׳ך יד׳ך ל׳ך ׃ אישׁ אשׁר ישׁביע על פני השׁדה אשׁר לא לפנים לפני השׁפטים או מאמר׳ם הושׁיע יד׳ו ל׳ו ׃ וכל האובד ולא נודע מי גנב׳ו ממאד המחנה אשׁר גנב ב׳ו ישׁביע בעלי׳ו בשׁבועת האלה ׃ והשׁומע אם יודע הוא ולא יגיד ואשׁם ׃ כל אשׁם מושׁב אשׁר אין בעלים והתורה והתודה המישׁב לכהן והיה ל׳ו לבד מאיל האשׁם ׃ וכל וכן כל אבדה נמצאת ואין ל׳ה בעלים והיתה לכהנים כי לא ידע מוצאי׳ה את משׁפט׳ה ׃ אם לא נמצא ל׳ה בעלים הם ישׁמרו ׃ כל דבר אשׁר ימעל אישׁ בתורה וראה רעי׳הו והוא אחד אם דבר מות הוא וידיע׳הו לעיני׳ו בהוכיח למבקר והמבקר יכתב׳הו ביד׳ו עד עשׁות׳ו עוד לפני אחד ושׁב והודיע למבקר ׃ אם ישׁוב וניתפשׁ לפני אחד שׁלם משׁפט׳ו ׃ ואם שׁנים הם והם מעידים על דבר אחר אחד והובדל האישׁ מן הטהרה לבד אם נאמנים הם וביום ראות האישׁ יודיע׳ה למבקר ׃ ועל ההון יקבלו שׁני עידים נאמנים ועל אחד להבדיל הטהרה ׃ ואל יקובל עיד לשׁופטים להמית על פי׳הו אשׁר לא מלאו ימי׳ו לעבור על הפקודים ירא את אל ׃ אל יאמן אישׁ על רע׳הו לעד עובר דבר מן המצוה ביד רמה עד זכ׳ו לשׁוב ׃ וזה סרך לשׁפטי העדה ׃ עד עשׁרה אנשׁים ברורים מן העדה לפי העת ארבעה למטה לוי ואהרן ומישׁראל שׁשׁה מבוננים בספר ההגי וביסודי הברית מבני חמשׁה ועשׁרים שׁנה עד בני שׁשׁים שׁנה ׃ ואל יתיצב עוד מבן שׁשׁים שׁנה ומעל׳ה לשׁפוט את העדה כי במעל האדם מעטו ימ׳ו ובחרון אף אל ביושׁבי הארץ אמר לסור את דעת׳ם עד לא ישׁלימו את ימי׳הם ׃ על הטהר במים ׃ אל ירחץ אישׁ במים צואים ומעוטים מדי מרעיל אישׁ ׃ אל יטהר ב׳ם כלי וכל גבא בסלע אשׁר אין ב׳ו די מרעיל אשׁר נגע ב׳ו הטמא וטמא מימי׳ו במימי הכלי ׃ על השׁבת לשׁמר׳ה כמשׁפט׳ה ׃ אל יעשׁ אישׁ ביום מל השׁישׁי מלאכה מן העת אשׁר יהיה גלגל השׁמשׁ רחוק מן השׁער מלוא׳ו ׃ כי הוא אשׁר אמר שׁמור את יום השׁבת לקדשׁ׳ו ׃ וביום השׁבת אל ידבר אישׁ דבר נבל ורק ׃ אל ישׁה ברע׳הו כל ׃ אל ישׁפוט על הון ובצע ׃ אל ידבר בדברי המלאכה והעבודה לעשׁות למשׁכים ׃ אל יתהלך אישׁ בשׁדה לעשׁות את עבודת חפצ׳ו השׁבת ׃ אל יתהלך חוץ לעיר׳ו א על אלף באמה ׃ אל יאכל אישׁ ביום השׁבת כי אם המוכן ׃ ומן האובד בשׁדה ואל יאכל ואל ישׁתה כי אם היה במחנה ׃ בדרך וירד לרחוץ ישׁתה על עומד׳ו ואל ישׁאב אל כל כלי ׃ אל ישׁלח את בן הנכר לעשׁות את חפצ׳ו ביום השׁבת ׃ אל יקח אישׁ עלי׳ו בגדים צואים או מובאים בגז כי אם כובסו במים או שׁופים בלבונה ׃ אל יתערב אישׁ מרצונ׳ו בשׁבת ׃ אל ילך אישׁ אחר הבהמה לרעות׳ה חוץ מעיר׳ו כי אם אלפים באמה ׃ אל ירם את יד׳ו להכות׳ה באגרוף אם סוררת היא אל יוציא׳ה מבית׳ו ׃ אל יוציא אישׁ מן הבית לחוץ ומן החוץ אל בית ׃ ואם בסוכה יהיה אל יוצא ממ׳נה ואל יבא אלי׳ה ׃ אל פתח כלי טוח בשׁבת ׃ אל ישׁא אישׁ עלי׳ו סמנים לצאת ולביא ולבוא בשׁבת ׃ אל יטול בבית מושׁבת סלע ועפר ׃ אל ישׁא האומן את היונק לצאת ולבוא בשׁבת ׃ אל ימרא אישׁ את עבד׳ו ואת אמת׳ו ואת שׁוכר׳ו בשׁבת אל אל יילד אישׁ בהמה ביום השׁבת ׃ ואם תפיל תפול אל בור ואל פחת אל יקימ׳ה בשׁבת ׃ אל ישׁבית ישׁבות אישׁ במקום קרוב לגוים בשׁבת ׃ אל יחל אישׁ את השׁבת על הון ובצע בשׁבת ׃ וכל נפשׁ אדם אשׁר תפול אל מים מקום מים ואל מקום אל יעל׳ה אישׁ בסולם וחבל וכלי ׃ אל יעל אישׁ למזבח בשׁבת כי אם עולת השׁבת כי כן כתוב מלבד שׁבתותי׳כם ׃ אל ישׁלח אישׁ למזבח עולה ומנחה ולבונה ועץ ביד אישׁ טמא באחת מן הטמאות להרשׁות׳ו לטמא את המזבח ׃ כי כתוב זבח רשׁעים תועבה ותפלת צדקם כמנחת רצון ׃ וכל הבא אל בית השׁתחות אל יבא טמא כבוס ׃ ובהרע חצוצרות הקהל יתקדם או יתאחר ולא ישׁביתו את העבודה כול׳ה ׃ השׁבת קודשׁ הוא ׃ אל ישׁכב אישׁ עם אשׁה בעיר המקדשׁ לטמא את עיר המקדשׁ בנדת׳ם ׃ כל אישׁ אשׁר ימשׁלו ב׳ו רוחות בליעל ודבר סרה כמשׁפט האוב והידעוני ישׁפט ׃ וכל אשׁר יתעה לחלל את השׁבת ואת המועדות לא יומת כי על בני האדם משׁמר׳ו ׃ ואם ירפא ממ׳נה ושׁמרו׳הו עד שׁבע שׁנים ואחר יבוא אל הקהל ׃ אל ישׁלח את יד׳ו לשׁפוך דם לאישׁ מן הגוים בעבור הון ובצע ׃ וגם אל ישׁא מהונ׳ם כל בעבור אשׁר לא יגדפו כי אם בעצת חבור ישׁראל ׃ אל ימכר אישׁ בהמה ועוף טהורים לגוים בעבור אשׁר לא יזבחו׳ם ׃ ומגורנ׳ו ומגת׳ו אל ימכר ל׳הם בכל מאד׳ו ׃ ואת עבד׳ו ואת אמת׳ו אל ימכור ל׳הם אשׁר באו עמ׳ו בברית אברהם ׃ אל ישׁקץ אישׁ את נפשׁ׳ו בכל החיה והרמשׁ לאכל מ׳הם מעגלי הדבורים עד כל נפשׁ החיה אשׁר תרמושׁ במים ׃ והדגים אל יאכלו כי אם נקרעו חיים ונשׁפך דמ׳ם ׃ וכל החגבים במיני׳הם יבאו באשׁ או במים עד הם חיים כי הוא משׁפט בריאת׳ם ׃ וכל העצים והאבנים והעפר אשׁר יגואלו בטמאת האדם לגאולי שׁמן ב׳הם כפי טמאת׳ם יטמא הנוגע ב׳ם ׃ וכל כלי מסמר מסמר או יתד בכותל אשׁר יהיו עם המת בבית וטמאו בטמאת אחד כלי מעשׁה ׃ סרך מושׁב ערי ישׁראל ׃ על המשׁפטים האלה להבדיל בין הטמא לטהור ולהודיע בין הקודשׁ לחול ׃ ואלה החקים למשׁכיל להתהלך ב׳ם עם כל חי למשׁפט עת ועת ׃ וכמשׁפט הזה יתהלכו זרע ישׁראל ולא יוארו ׃ וזה סרך מושׁב המחנות המתהלכים באלה בקץ הרשׁעה עד עמוד משׁוח משׁיח אהרן וישׁראל עד עשׁרה אנשׁים למועט לאלפים ומיאיות וחמשׁים ועשׁרות ׃ ובמקום עשׁרה אל ימשׁ אישׁ כהן מבונן בספר ההגי ׃ על פי׳הו ישׁקו כול׳ם ׃ ואם אין הוא בחון בכל אלה ואישׁ מהלוים בחון באלה ויצא הגורל לצאת ולבוא על פי׳הו כל באי המחנה ׃ ואם משׁפט לתורת נגע יהיה באישׁ ובא הכהן ועמד במחנה והבינ׳ו המבקר בפרושׁ התורה ׃ ואם פתי הוא הוא יסגיר׳נו כי ל׳הם המשׁפט ׃ וזה סרך המבקר למחנה ישׁכיל את הרבים במעשׁי אל ויבינ׳ם בגבורות פלא׳ו ויספר לפני׳הם נהיות עולם בפרתי׳ה ׃ וירחם עלי׳הם כאב לבני׳ו וישׁקה לכל מדהוב׳ם כרועה עדר׳ו ׃ יתר כל חרצובות קשׁרי׳הם לבלתי היות עשׁוק ורצוץ בעדת׳ו ׃ וכל הנוסף לעדת׳ו יפקד׳הו למעשׁי׳ו ושׁוכל׳ו וכוח׳ו וגבורת׳ו והונ׳ו ׃ וכתבו׳הו במקומ׳ו כפי נחלת׳ו בגורל האור ׃ אל ימשׁול אישׁ מבני המחנה להביא אישׁ אל העדה זולת פי המבקר אשׁר למחנה ׃ ואישׁ מכל באי ברית אל אל ישׁא ואל יתן לבני השׁחר כי אם כף לכף ׃ ואל יעשׁ אישׁ דבר למקח ולממכר כי אם הודיע למבקר אשׁר במחנה ועשׁה בעצה ולא ישׁוגו ׃וכן לכל לוקח אשׁה וה  #   #  #  עצה ׃ וכן למגרשׁ והוא ייסר את בני׳הם ובנותי׳הם וטפ׳ם ברוח ענוה ובאהבת חסד ׃ אל יטור ל׳הם באף ε ε פשׁעי׳הם ואת אשׁר אינ׳נו נקשׁר בשׁ ε ε ׃ וזה מושׁב המחנות לכל קץ הרשׁעה ׃ ואשׁר לא יחזיקו באלה לא יצליחו לשׁבת בארץ ב ε ε ׃ ואלה השׁ #  # ים למשׁכיל להתהלך ב׳ם עם כל חי למשׁפט עת ועת כאשׁר אמר יבוא עלי׳ך ועל עמ׳ך ועל בית אבי׳ך ימים אשׁר לא באו מיום סור אפרים מעל יהודה ׃ וכל המתהלכים באלה ברית אל נאמנות ל׳הם להנציל׳ם מכל מוקשׁי שׁחת כי פתאום פתאים ונענשׁו ׃ וסרך מושׁב כל המחנות ׃ יפקדו כל׳ם בשׁמותי׳הם הכהנים לראשׁונה והלוים שׁנים ובני ישׁראל שׁלשׁת׳ם והגר רביע ׃ ויכתבו בשׁמותי׳הם אישׁ אחר אחי׳הו הכהנים לראשׁונה והלוים שׁנים ובני ישׁראל שׁלושׁת׳ם והגר רביע ׃ וכן ישׁבו וכן ישׁאלו לכל ׃ והכהן אשׁר יפקד אשׁ בראשׁ הרבים מבן שׁלושׁים שׁנה ועד בן שׁשׁים מבונן בספר ההגי ובכל משׁפטי התורה לדבר׳ם כמשׁפט׳ם ׃ והמבקר אשׁר לכל המחנות מבן שׁלשׁים שׁנה ועד בן חמשׁים שׁנה בעול בכל סוד אנשׁים ולכל לשׁון רמ פריה ׃ על פי׳הו יבאו באי העדה אישׁ בתר׳ו ׃ ולכל דבר אשׁר יהיה לכל האדם לדבר למבקר ידבר לכל ריב ומשׁפט ׃ וזה סרך הרבים להכין כל חפצי׳הם ׃ שׁכר שׁני ימים לכל חדשׁ לממעיט ונתנו על יד המבקר ׃ והשׁופטים ממ׳נו יתנו בעד פצעם וממ׳נו יחזיקו ביד עני ואביון ולזקן אשׁר יכרע ולאישׁ אשׁר ינוגע ולאשׁר ישׁבה לגוי נכר ולבתולה אשׁר אין ל׳ה גואל ולנער אשׁר אין ל׳ו דורשׁ ׃ כל עבודת החבר ולא יכרת בית החבר מיד׳ם ׃ וזה פרושׁ מושׁב המחנה ואלה יסודות אושׁי הקהל ׃ וזה פרושׁ המשׁפטים אשׁר ישׁפטו ב׳הם בקץ הרשׁעה עד עמוד משׁיח אהרן וישׁראל ויכפר עונ׳ם מנחה וחטאת ε ׃ ε ׃ ואשׁר ישׁקר בממון והוא יודע והובדל ׃ ε ε ונענשׁ ימים שׁשׁה ׃ ואשׁר ידבר ε ואשׁר יטור לרע׳הו אשׁר לא במשׁפט ונענשׁ חו ε ׃ ε  #  ε ל ε  #  #  ε ׃ ישׁבע וגם באלף ולמד וגם באלף ודלת כי אם שׁבועת הבנים באלות הברית ׃ ואת תורת משׁה אל יזכור כי ב׳ה כל פרושׁ השׁם ׃ ואם ישׁבע ועבר וחלל את השׁם ׃ ואם באלות הברית ישׁבע לפני השׁפטים ׃ אם עבר אשׁם הוא והתודה והשׁיב ולא ישׁא חטאה וימות ׃ והבא בברית לכל ישׁראל לחוק עולם את בני׳הם אשׁר יגיעו לעבור על הפקודים בשׁבועת הברית יקימו עלי׳הם ׃ וכן המשׁפט בכל קץ הרשׁע לכל השׁב מדרכ׳ו הנשׁחתה ׃ ביום דבר׳ו עם המבקר אשׁר לרבים יפקדו׳הו בשׁבועת הברית אשׁר כרת משׁה עם ישׁראל את דבר׳ו לשׁוב אל תורת משׁה בכל לב ובכל נפשׁ אל הנמצא לעשׁות בכל קץ קרב׳ו ׃ ואל יודיע׳הו אישׁ את המשׁפטים עד עמד׳ו לפני המבקר שׁמה יתפתה ב׳ו בדרשׁ׳ו את׳ו ׃ וכאשׁר יקים אות׳ו עלי׳ו לשׁוב אל תורת משׁה בכל לב ובכל נפשׁ נקיאים הם ממ׳נו אם ימעל ׃ וכל אשׁר נגלה מן התורה לרוב המחנה והוא שׁגה ב׳ו יודיע׳הו המבקר אות׳ו וצוה עלי׳ו וילמד עד שׁנה תמימה ולפי דעת׳ו היות׳ו ׃ אויל ומשׁוגע וכל פתי ומשׁוגה וכהה עינים לבלתי ראות וחגר או פסח או חרשׁ ונער זעטוט אל יבוא אישׁ מאלה אל תוך העדה כי מלאכי הקודשׁ בתוכ׳כם ׃ ε  #  # ל # ת ב׳ם ε אמר ל׳הם ε  #  #  #  עמ׳כם ברית ועם כל ישׁראל ׃ על כן יקום יקים האישׁ על נפשׁ׳ך לשׁוב אל תורת משׁה כי ב׳ה הכל מדוקדק ׃ ופרושׁ קצי׳הם לעורון ישׁראל מכל אלה הנה הוא מדוקדק על ספר מחלקות העתים ליובלי׳הם ובשׁבועותי׳הם ׃ וביום אשׁר יקום יקים האישׁ על נפשׁ׳ו לשׁוב אל תורת משׁה יסור מלאך המשׁטמה מאחרי׳ו אם יקים את דברי׳ו ׃ על כן נימול באברהם ביום דעת׳ו ׃ ואשׁר אמר מוצא שׁפתי׳ך תשׁמור להקים ׃ כל שׁבועת אסר אשׁר יקום יקים אישׁ על נפשׁ׳ו לעשׁות דבר מן התורה עד מחיר מות אל יפד׳הו ׃ כל אשׁר יקים אישׁ על נפשׁ׳ו לסור מן התורה עד מחיר מות אל יקימ׳הו ׃ על שׁבועת האשׁה אשׁר אמר לאישׁ׳ה להניא את שׁבועת׳ה ׃ אל יניא אישׁ שׁבועה אשׁר לא ידע׳נה הם להקים היא ואם להניא ׃ אם לעבור ברית הוא יניא׳ה ואל יקימ׳נה ׃ וכן המשׁפט לאבי׳ה ׃ על משׁפט הנדבות אל ידור אישׁ למזבח מאום אנוס ׃ וגם הכהנים אל יקחו מאת ישׁראל אנוס ׃ אל יקדשׁ אישׁ את מאכל פי׳הו לאל כי הוא אשׁר אמר אישׁ את רעי׳הו יצדו חרם ׃ ואל יקדשׁ אישׁ מכל  #  ε  #  #  #  #  #  #  #  ε ואם משׁדה אחזת׳ו יקדשׁ לאל ׃ גם המשׁפט הזה ε ונענשׁ הנודר את ε כסף ערכ׳ו ε לשׁופטים לשׁפט צדק ולהעריך ε אחר המודה ε ׃ אם אנוס הוא ושׁלם האונס אם לא דבר אמת עם רע׳הו ε ׃ נאמנות ל׳הם לחיות׳ם לאלפי דורות ככתוב שׁומר הברית והחסד לאהב׳י ולשׁמרי מצות׳י לאלף דור ׃ ואם מחנות ישׁבו כסרך הארץ אשׁר היה מקדם ולקחו נשׁים כמנהג התורה והולידו בנים ויתהלכו על פי התורה ׃ וכמשׁפט היסודים כסרך התורה כאשׁר אמר בין אישׁ לאשׁת׳ו ובין אב לבנ׳ו ׃ וכל המאסים במצות ובחקים להשׁיב גמול רשׁעים עלי׳הם בפקד אל את הארץ ׃ בבוא הדבר אשׁר כתוב ביד זכריה הנביא חרב עורי על רוע׳י ועל גבר עמית׳י נאם אל ׃ הך את הרעה ותפוצינה הצאן והשׁיבותי יד׳י על הצוערים ׃ והשׁומרים אות׳ו הם עניי הצאן ׃ אלה ימלטו בקץ הפקדה והנשׁארים ימסרו לחרב בבוא משׁיח אהרן וישׁראל ׃ כאשׁר היה בקץ פקדת הראשׁון אשׁר אמר יחזקאל ביד יחזקאל והתוי להתות התיו על מצחות נאנחים ונאנקים ׃ והנשׁארים הסגרו לחרב נוקמת נקם ברית ׃ וכן משׁפט לכל באי ברית׳ו אשׁר לא יחזיקו באלה החקים לפקד׳ם לכלה ביד בליעל ׃ הוא היום אשׁר יפקד אל כאשׁר דבר היו שׁרי יהודה כמשׁיגי גבול עלי׳הם אשׁפך כמים עברה ׃ כי באו באו בברית תשׁובה ולא סרו מדרך בוגדים ויתגללו בדרכי זנות ובהון הרשׁעה ונקום ונטור אישׁ לאחי׳הו ושׁנא אישׁ את רע׳הו ׃ ויתעלמו אישׁ בשׁאר בשׁר׳ו ויגשׁו לזמה ויתגברו להון ולבצע ויעשׁו א #  #  אישׁ הישׁר בעיני׳ו ׃ ויבחרו אישׁ בשׁרירות לב׳ו ולא נזרו מעם ומחטאת׳ם ׃ ויפרעו ביד רמה ללכת בדרכי רשׁעים אשׁר אמר אל עלי׳הם חמת תנינים יינ׳ם וראשׁ פתנים אכזר ׃ התנינים מלכי העמים ויינ׳ם הוא דרכי׳הם וראשׁ פתנים הוא ראשׁ מלכי יון הבא עלי׳הם לנקם נקמה ׃ ובכל אלה לא הבינו בוני החיץ וטחי תפל ׃ כי הולך רוח ושׁקל ספת סופות ומטיף אדם לכזב אשׁר חרה אף אל בכל עדת׳ו ׃ ואשׁר אמר משׁה לישׁראל לא בצדקת׳ך וביושׁר לבב׳ך אתה בא לרשׁת את הגוים האלה כי מאהבת׳ו את אבותי׳ך ומשׁמר׳ו את השׁבועה ׃ כן משׁפט לשׁבי ישׁראל סרו מדרך העם ׃ באהבת אל את הראשׁנים אשׁר העידו על העם אחרי אל ואהב את הבאים אחרי׳הם כי ל׳הם ברית אבות ׃ ושׁונא ומתעב אל את בוני החיץ וחרה אב אפ׳ו ב׳ם ובכל ההלכים אחרי׳הם ׃ וכמשׁפט הזה לכל המאס במצות אל  #  #  #  #  #  ויעזב׳ם ויפנו בשׁרירות לב׳ם ׃ כן כל האנשׁים אשׁר באו בברית החדשׁה בארץ דמשׁק ושׁבו ויבגדו ויסורו מבאר מים החיים ׃ לא יחשׁבו בסוד עם ובכתב׳ם לא יכתבו מיום האסף יור מורה מיום מורה היחיד עד עמוד משׁיח מאהרן ומישׁראל ׃ וכן המשׁפט לכל באי עדת אנשׁי תמים הקדשׁ ׃ ויקוץ מעשׁות פקודי ישׁרים הוא האישׁ הנתך בתוך כור ׃ ה בהופע מעשׁי׳ו ישׁלח מעדה כמו כמי שׁלא נפל גורל׳ו בתוך למודי אל ׃ כפי מעל׳ו יח יוכיחו׳הו אנשׁי דעות עד יום ישׁוב לעמד במעמד אנשׁי תמים קדשׁ אשׁר אין גורל׳ו בתוך א ׃ ובהופע מעשׁי׳ו כפי מדרשׁ התורה אשׁר יתהלכו ב׳ו אנשׁי תמים הקדשׁ אל ית יאות אישׁ עמ׳ו בהון ובעבודה כי אררו׳הו כל קדושׁי עליון ׃ וכמשׁפט הזה לכל המאס בראשׁונים ובאחרונים אשׁר שׁמו גלולים על לב׳ם וישׁימ וילכו בשׁרירות לב׳ם אין ל׳הם חלק בבית התורה ׃ כמשׁפט רעי׳הם אשׁר שׁבו עם אנשׁי הלצון ישׁפטו כי דברו תועה על חקי הצדק ומאסו בברית ואמנה אשׁר קימו בארץ דמשׁק והוא ברית החדשׁה ׃ ולא יהיה ל׳הם ו ולמשׁפחותי׳הם חלק בבית התורה ׃ ומיום האסף יורה היחיד עד תם כל אנשׁי המלחמה אשׁר שׁבו עם אישׁ הכזב כשׁנים ארבעים ׃ ובקץ ההוא יחרה אף אל בישׁראל כאשׁר אמר אין מלך ואין שׁר ואין שׁופט ואין מוכיח בצדק ׃ ושׁבי פשׁע יעקב שׁמרו ברית אל ׃ אז ידברו אישׁ אל רע׳הו להצדיק אישׁ את אחי׳ו לתמוך צעד׳ם בדרך אל ׃ ויקשׁב אל אל דברי׳הם וישׁמע ויכתב ספר זכרון לפני׳ו ליראי אל ולחושׁבי שׁמ׳ו עד יגלה ישׁע וצדקה ויראי אל ׃ ושׁבתם וראיתם בין צדיק ורשׁע בין עבד אל לאשׁר לא עבד׳ו ׃ ועשׁה חסד לאלפים לאהבי׳ו ולשׁמרי׳ו לאלף דור ׃ ε  # בית פלג אשׁר יצאו מעיר הקדשׁ וישׁענו על אל בקץ מעל ישׁראל ויטמאו את המקדשׁ ׃ ושׁבו עוד אל דרך העם בדברים מעטים ׃ כול׳ם אישׁ לפי רוח׳ו ישׁפטו בעצת הקדשׁ ׃ וכל אשׁר פרצו את גבול התורה מבאי הברית בהופע כבוד אל לישׁראל יכרתו מקרב המחנה ועמ׳הם כל מרשׁיעי יהודה בימי מצרפותי׳ו ׃ וכל המחזיקים במשׁפטים האלה לצאת ולבוא על פי התורה וישׁמעו לקול מורה ויתודו לפני אל חטאנו רשׁענו גם אנחנו גם אבותי׳נו בלכת׳נו קרי בחקי הברית צדק ואמת משׁפטי׳ך ב׳נו ׃ ולא ירימו יד על חקי קדשׁ׳ו ומשׁפטי צדק׳ו ועדוות אמת׳ו ׃ והתיסרו במשׁפטים הראשׁונים אשׁר נשׁפטו ב׳ם אנשׁי היחיד והאזינו לקול מורה צדק ׃ ולא יעזבו את חקי הצדק בשׁמע׳ם את׳ם ישׁישׁו וישׁמחו ויעז לב׳ם ׃ ויתגברו על כל בני תבל ׃ וכפר אל בעד׳ם וראו בישׁועת׳ו כי חסו בשׁם קדשׁ׳ו ׃ \n",
      "\n"
     ]
    }
   ],
   "source": [
    "for n in exampleNodes:\n",
    "  print(f'This is {F.otype.v(n)} {n}:')\n",
    "  print(T.text(n))\n",
    "  print('')"
   ]
  },
  {
   "cell_type": "markdown",
   "metadata": {},
   "source": [
    "## Using the formats\n",
    "Now let's use those formats to print out the first line in this corpus.\n",
    "\n",
    "Note that only the formats starting with `text-` are usable for this.\n",
    "\n",
    "For the `layout-` formats, see [display](display.ipynb)."
   ]
  },
  {
   "cell_type": "code",
   "execution_count": 228,
   "metadata": {
    "ExecuteTime": {
     "end_time": "2018-05-18T09:19:10.077589Z",
     "start_time": "2018-05-18T09:19:10.070503Z"
    }
   },
   "outputs": [
    {
     "name": "stdout",
     "output_type": "stream",
     "text": [
      "text-orig-extra:\n",
      "\t   \n",
      "text-orig-full:\n",
      "\tועתה שׁמעו כל \n",
      "text-source-extra:\n",
      "\t   \n",
      "text-source-full:\n",
      "\twoth Cmow kl \n",
      "text-trans-extra:\n",
      "\t   \n",
      "text-trans-full:\n",
      "\tW<TH CM<W KL \n"
     ]
    }
   ],
   "source": [
    "for fmt in sorted(T.formats):\n",
    "  if fmt.startswith('text-'):\n",
    "    print('{}:\\n\\t{}'.format(fmt, T.text(range(1,12), fmt=fmt)))"
   ]
  },
  {
   "cell_type": "markdown",
   "metadata": {},
   "source": [
    "If we do not specify a format, the **default** format is used (`text-orig-full`)."
   ]
  },
  {
   "cell_type": "code",
   "execution_count": 229,
   "metadata": {
    "ExecuteTime": {
     "end_time": "2018-05-18T09:19:13.490426Z",
     "start_time": "2018-05-18T09:19:13.486053Z"
    }
   },
   "outputs": [
    {
     "data": {
      "text/plain": [
       "'ועתה שׁמעו כל '"
      ]
     },
     "execution_count": 229,
     "metadata": {},
     "output_type": "execute_result"
    }
   ],
   "source": [
    "T.text(range(1,12))"
   ]
  },
  {
   "cell_type": "code",
   "execution_count": 230,
   "metadata": {},
   "outputs": [
    {
     "data": {
      "text/plain": [
       "'ועתה שׁמעו כל יודעי צדק ובינו במעשׁי '"
      ]
     },
     "execution_count": 230,
     "metadata": {},
     "output_type": "execute_result"
    }
   ],
   "source": [
    "firstLine = F.otype.s('line')[0]\n",
    "T.text(firstLine)"
   ]
  },
  {
   "cell_type": "code",
   "execution_count": 231,
   "metadata": {},
   "outputs": [
    {
     "data": {
      "text/plain": [
       "''"
      ]
     },
     "execution_count": 231,
     "metadata": {},
     "output_type": "execute_result"
    }
   ],
   "source": [
    "T.text(firstLine, fmt='text-orig-full')"
   ]
  },
  {
   "cell_type": "markdown",
   "metadata": {},
   "source": [
    "The last one may be unexpected. Let's spell out the logic:\n",
    "\n",
    "A single node and a format have been supplied, so `T.text()` applies the format to that node.\n",
    "Only when a format is invoked that does not exist, `T.text()` will descend to word nodes.\n",
    "\n",
    "But you can override that with the `descend` parameter:"
   ]
  },
  {
   "cell_type": "code",
   "execution_count": 232,
   "metadata": {},
   "outputs": [
    {
     "data": {
      "text/plain": [
       "'ועתה שׁמעו כל יודעי צדק ובינו במעשׁי '"
      ]
     },
     "execution_count": 232,
     "metadata": {},
     "output_type": "execute_result"
    }
   ],
   "source": [
    "T.text(firstLine, fmt='text-orig-full', descend=True)"
   ]
  },
  {
   "cell_type": "markdown",
   "metadata": {},
   "source": [
    "The important things to remember are:\n",
    "\n",
    "* you can supply a list of slot nodes and get them represented in all formats\n",
    "* you can get non-slot nodes `n` in default format by `T.text(n)`\n",
    "* you can get non-slot nodes `n` in other formats by `T.text(n, fmt=fmt, descend=True)`"
   ]
  },
  {
   "cell_type": "markdown",
   "metadata": {},
   "source": [
    "## Whole text in all formats in just 2 seconds\n",
    "Part of the pleasure of working with computers is that they can crunch massive amounts of data.\n",
    "The text of the Old Babylonian Letters is a piece of cake.\n",
    "\n",
    "It takes just ten seconds to have that cake and eat it. \n",
    "In nearly a dozen formats."
   ]
  },
  {
   "cell_type": "code",
   "execution_count": 38,
   "metadata": {
    "ExecuteTime": {
     "end_time": "2018-05-18T09:19:27.839331Z",
     "start_time": "2018-05-18T09:19:18.526400Z"
    }
   },
   "outputs": [
    {
     "name": "stdout",
     "output_type": "stream",
     "text": [
      "  0.00s writing plain text of all letters in all text formats\n",
      "  1.42s done 4 formats\n",
      "text-orig-full\n",
      "[a-na] _{d}suen_-i-[din-nam]\n",
      "qi2-bi2-[ma]\n",
      "um-ma _{d}en-lil2_-sza-du-u2-ni-ma\n",
      "_{d}utu_ u3 _{d}[marduk]_ a-na da-ri-a-[tim]\n",
      "li-ba-al-li-t,u2-u2-ka\n",
      "\n",
      "text-orig-plain\n",
      "a-na d⁼suen-i-din-nam\n",
      "qi2-bi2-ma\n",
      "um-ma d⁼en-lil2-sza-du-u2-ni-ma\n",
      "d⁼utu u3 d⁼marduk a-na da-ri-a-tim\n",
      "li-ba-al-li-t,u2-u2-ka\n",
      "\n",
      "text-orig-rich\n",
      "a-na d⁼suen-i-din-nam\n",
      "qi₂-bi₂-ma\n",
      "um-ma d⁼en-lil₂-ša-du-u₂-ni-ma\n",
      "d⁼utu u₃ d⁼marduk a-na da-ri-a-tim\n",
      "li-ba-al-li-ṭu₂-u₂-ka\n",
      "\n",
      "text-orig-unicode\n",
      "𒀀𒈾 𒀭𒂗𒍪𒄿𒁷𒉆\n",
      "𒆠𒉈𒈠\n",
      "𒌝𒈠 𒀭𒂗𒆤𒊭𒁺𒌑𒉌𒈠\n",
      "𒀭𒌓 𒅇 𒀭𒀫𒌓 𒀀𒈾 𒁕𒊑𒀀𒁴\n",
      "𒇷𒁀𒀠𒇷𒌅𒌑𒅗\n",
      "\n"
     ]
    }
   ],
   "source": [
    "indent(reset=True)\n",
    "info('writing plain text of all letters in all text formats')\n",
    "\n",
    "text = collections.defaultdict(list)\n",
    "\n",
    "for l in F.otype.s('line'):\n",
    "  for fmt in sorted(T.formats):\n",
    "    if fmt.startswith('text-'):\n",
    "      text[fmt].append(T.text(l, fmt=fmt, descend=True))\n",
    "\n",
    "info('done {} formats'.format(len(text)))\n",
    "\n",
    "for fmt in sorted(text):\n",
    "    print('{}\\n{}\\n'.format(fmt, '\\n'.join(text[fmt][0:5])))"
   ]
  },
  {
   "cell_type": "markdown",
   "metadata": {},
   "source": [
    "### The full plain text\n",
    "We write all formats to file, in your `Downloads` folder."
   ]
  },
  {
   "cell_type": "code",
   "execution_count": 39,
   "metadata": {
    "ExecuteTime": {
     "end_time": "2018-05-18T09:19:34.250294Z",
     "start_time": "2018-05-18T09:19:34.156658Z"
    }
   },
   "outputs": [],
   "source": [
    "for fmt in T.formats:\n",
    "  if fmt.startswith('text-'):\n",
    "    with open(os.path.expanduser(f'~/Downloads/{fmt}.txt'), 'w') as f:\n",
    "      f.write('\\n'.join(text[fmt]))"
   ]
  },
  {
   "cell_type": "markdown",
   "metadata": {},
   "source": [
    "## Sections\n",
    "\n",
    "A section in the letter corpus is a document, a face or a line.\n",
    "Knowledge of sections is not baked into Text-Fabric. \n",
    "The config feature `otext.tf` may specify three section levels, and tell\n",
    "what the corresponding node types and features are.\n",
    "\n",
    "From that knowledge it can construct mappings from nodes to sections, e.g. from line\n",
    "nodes to tuples of the form:\n",
    "\n",
    "    (p-number, face specifier, line number)\n",
    "    \n",
    "You can get the section of a node as a tuple of relevant document, face, and line nodes.\n",
    "Or you can get it as a passage label, a string.\n",
    "\n",
    "You can ask for the passage corresponding to the first slot of a node, or the one corresponding to the last slot.\n",
    "\n",
    "If you are dealing with document and face nodes, you can ask to fill out the line and face parts as well.\n",
    "   \n",
    "Here are examples of getting the section that corresponds to a node and vice versa.\n",
    "\n",
    "**NB:** `sectionFromNode` always delivers a verse specification, either from the\n",
    "first slot belonging to that node, or, if `lastSlot`, from the last slot\n",
    "belonging to that node."
   ]
  },
  {
   "cell_type": "code",
   "execution_count": 40,
   "metadata": {},
   "outputs": [],
   "source": [
    "someNodes = (\n",
    "  F.otype.s('sign')[100000],\n",
    "  F.otype.s('word')[10000],\n",
    "  F.otype.s('cluster')[5000],\n",
    "  F.otype.s('line')[15000],\n",
    "  F.otype.s('face')[1000],\n",
    "  F.otype.s('document')[500],\n",
    ")"
   ]
  },
  {
   "cell_type": "code",
   "execution_count": 41,
   "metadata": {
    "ExecuteTime": {
     "end_time": "2018-05-18T09:19:43.056511Z",
     "start_time": "2018-05-18T09:19:43.043552Z"
    }
   },
   "outputs": [
    {
     "name": "stdout",
     "output_type": "stream",
     "text": [
      " 100001 sign     - P313335 obverse:8  P313335 obverse:8  ((227310, 229370, 244327), (227310, 229370, 244327))\n",
      " 268163 word     - P510665 obverse:9  P510665 obverse:9  ((226821, 228295, 234114), (226821, 228295, 234114))\n",
      " 208220 cluster  - P510766 obverse:9  P510766 obverse:9  ((226925, 228516, 236231), (226925, 228516, 236231))\n",
      " 245788 line     - P313410 obverse:12' P313410 obverse:12' ((227376, 229516, 245788), (227376, 229516, 245788))\n",
      " 228954 face     - P292765 reverse    P292765 reverse:12 ((227126, 228954), (227126, 228954, 240157))\n",
      " 227169 document - P382526            P382526 left:2     ((227169,), (227169, 229057, 241107))\n"
     ]
    }
   ],
   "source": [
    "for n in someNodes:\n",
    "  nType = F.otype.v(n)\n",
    "  d = f'{n:>7} {nType}'\n",
    "  first = A.sectionStrFromNode(n)\n",
    "  last = A.sectionStrFromNode(n, lastSlot=True, fillup=True)\n",
    "  tup = (\n",
    "      T.sectionTuple(n),\n",
    "      T.sectionTuple(n, lastSlot=True, fillup=True),\n",
    "  )\n",
    "  print(f'{d:<16} - {first:<18} {last:<18} {tup}')"
   ]
  },
  {
   "cell_type": "markdown",
   "metadata": {},
   "source": [
    "# Clean caches\n",
    "\n",
    "Text-Fabric pre-computes data for you, so that it can be loaded faster.\n",
    "If the original data is updated, Text-Fabric detects it, and will recompute that data.\n",
    "\n",
    "But there are cases, when the algorithms of Text-Fabric have changed, without any changes in the data, that you might\n",
    "want to clear the cache of precomputed results.\n",
    "\n",
    "There are two ways to do that:\n",
    "\n",
    "* Locate the `.tf` directory of your dataset, and remove all `.tfx` files in it.\n",
    "  This might be a bit awkward to do, because the `.tf` directory is hidden on Unix-like systems.\n",
    "* Call `TF.clearCache()`, which does exactly the same.\n",
    "\n",
    "It is not handy to execute the following cell all the time, that's why I have commented it out.\n",
    "So if you really want to clear the cache, remove the comment sign below."
   ]
  },
  {
   "cell_type": "code",
   "execution_count": 42,
   "metadata": {
    "collapsed": true
   },
   "outputs": [],
   "source": [
    "# TF.clearCache()"
   ]
  },
  {
   "cell_type": "markdown",
   "metadata": {},
   "source": [
    "# Next steps\n",
    "\n",
    "By now you have an impression how to compute around in the corpus.\n",
    "While this is still the beginning, I hope you already sense the power of unlimited programmatic access\n",
    "to all the bits and bytes in the data set.\n",
    "\n",
    "Here are a few directions for unleashing that power.\n",
    "\n",
    "* **[display](display.ipynb)** become an expert in creating pretty displays of your text structures\n",
    "* **[search](search.ipynb)** turbo charge your hand-coding with search templates\n",
    "* **[exportExcel](exportExcel.ipynb)** make tailor-made spreadsheets out of your results\n",
    "* **[share](share.ipynb)** draw in other people's data and let them use yours\n",
    "* **[similarLines](similarLines.ipynb)** spot the similarities between lines\n",
    "\n",
    "---\n",
    "\n",
    "See the [cookbook](cookbook) for recipes for small, concrete tasks."
   ]
  }
 ],
 "metadata": {
  "kernelspec": {
   "display_name": "Python 3",
   "language": "python",
   "name": "python3"
  },
  "language_info": {
   "codemirror_mode": {
    "name": "ipython",
    "version": 3
   },
   "file_extension": ".py",
   "mimetype": "text/x-python",
   "name": "python",
   "nbconvert_exporter": "python",
   "pygments_lexer": "ipython3",
   "version": "3.7.2"
  },
  "toc": {
   "base_numbering": 1,
   "nav_menu": {},
   "number_sections": true,
   "sideBar": true,
   "skip_h1_title": false,
   "title_cell": "Table of Contents",
   "title_sidebar": "Contents",
   "toc_cell": false,
   "toc_position": {},
   "toc_section_display": "block",
   "toc_window_display": false
  }
 },
 "nbformat": 4,
 "nbformat_minor": 2
}
