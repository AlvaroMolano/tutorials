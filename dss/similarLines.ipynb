{
 "cells": [
  {
   "cell_type": "markdown",
   "metadata": {},
   "source": [
    "<img align=\"right\" src=\"images/tf.png\" width=\"128\"/>\n",
    "<img align=\"right\" src=\"images/logo.png\" width=\"128\"/>\n",
    "<img align=\"right\" src=\"images/etcbc.png\" width=\"128\"/>\n",
    "<img align=\"right\" src=\"images/dans.png\" width=\"128\"/>\n",
    "\n",
    "---\n",
    "\n",
    "To get started: consult [start](start.ipynb)\n",
    "\n",
    "---\n",
    "\n",
    "# Similar lines\n",
    "\n",
    "We spot the many similarities between lines in the corpus.\n",
    "\n",
    "There are ca 50,000 lines in the corpus of which ca 35,000 with real content.\n",
    "To compare these requires more than half a billion comparisons.\n",
    "That is a costly operation.\n",
    "[On this laptop it took 21 whole minutes](https://nbviewer.jupyter.org/github/etcbc/dss/blob/master/programs/parallels.ipynb).\n",
    "\n",
    "The good news it that we have stored the outcome in an extra feature.\n",
    "\n",
    "This feature is packaged in a TF data module,\n",
    "that we will automatically loaded with the DSS."
   ]
  },
  {
   "cell_type": "code",
   "execution_count": 1,
   "metadata": {},
   "outputs": [],
   "source": [
    "%load_ext autoreload\n",
    "%autoreload 2"
   ]
  },
  {
   "cell_type": "code",
   "execution_count": 2,
   "metadata": {
    "ExecuteTime": {
     "end_time": "2018-05-24T10:06:39.818664Z",
     "start_time": "2018-05-24T10:06:39.796588Z"
    }
   },
   "outputs": [],
   "source": [
    "import collections\n",
    "\n",
    "from tf.app import use"
   ]
  },
  {
   "cell_type": "code",
   "execution_count": 3,
   "metadata": {},
   "outputs": [
    {
     "name": "stdout",
     "output_type": "stream",
     "text": [
      "\tconnecting to online GitHub repo annotation/app-dss ... connected\n",
      "Using TF-app in /Users/dirk/text-fabric-data/annotation/app-dss/code:\n",
      "\trv0.4=#6f0198838fa9339fc85e23551bd83d61e4bbaaa7 (latest release)\n",
      "\tconnecting to online GitHub repo etcbc/dss ... connected\n",
      "Using data in /Users/dirk/text-fabric-data/etcbc/dss/tf/0.4:\n",
      "\trv0.4=#dbdfeb914b510aa5bed5425b5b3096521e8b35c2 (latest release)\n",
      "\tconnecting to online GitHub repo etcbc/dss ... connected\n",
      "Using data in /Users/dirk/text-fabric-data/etcbc/dss/parallels/tf/0.4:\n",
      "\trv0.4=#dbdfeb914b510aa5bed5425b5b3096521e8b35c2 (latest release)\n"
     ]
    },
    {
     "data": {
      "text/html": [
       "<b>Documentation:</b> <a target=\"_blank\" href=\"https://github.com/etcbc/dss/blob/master/docs/\" title=\"provenance of Dead Sea Scrolls\">DSS</a> <a target=\"_blank\" href=\"https://annotation.github.io/text-fabric/Writing/Hebrew.html\" title=\"Hebrew characters and transcriptions\">Character table</a> <a target=\"_blank\" href=\"https://github.com/etcbc/dss/blob/master/docs//transcription.md\" title=\"DSS feature documentation\">Feature docs</a> <a target=\"_blank\" href=\"https://github.com/annotation/app-dss\" title=\"dss API documentation\">dss API</a> <a target=\"_blank\" href=\"https://annotation.github.io/text-fabric/Api/Fabric/\" title=\"text-fabric-api\">Text-Fabric API 7.7.0</a> <a target=\"_blank\" href=\"https://annotation.github.io/text-fabric/Use/Search/\" title=\"Search Templates Introduction and Reference\">Search Reference</a><details open><summary><b>Loaded features</b>:</summary>\n",
       "<p><b>Dead Sea Scrolls</b>: <a target=\"_blank\" href=\"https://github.com/etcbc/dss/blob/master/docs//transcription.md\" title=\"/Users/dirk/text-fabric-data/etcbc/dss/tf/0.4/after.tf\">after</a>  <a target=\"_blank\" href=\"https://github.com/etcbc/dss/blob/master/docs//transcription.md\" title=\"/Users/dirk/text-fabric-data/etcbc/dss/tf/0.4/alt.tf\">alt</a>  <a target=\"_blank\" href=\"https://github.com/etcbc/dss/blob/master/docs//transcription.md\" title=\"/Users/dirk/text-fabric-data/etcbc/dss/tf/0.4/biblical.tf\">biblical</a>  <a target=\"_blank\" href=\"https://github.com/etcbc/dss/blob/master/docs//transcription.md\" title=\"/Users/dirk/text-fabric-data/etcbc/dss/tf/0.4/book.tf\">book</a>  <a target=\"_blank\" href=\"https://github.com/etcbc/dss/blob/master/docs//transcription.md\" title=\"/Users/dirk/text-fabric-data/etcbc/dss/tf/0.4/chapter.tf\">chapter</a>  <a target=\"_blank\" href=\"https://github.com/etcbc/dss/blob/master/docs//transcription.md\" title=\"/Users/dirk/text-fabric-data/etcbc/dss/tf/0.4/cl.tf\">cl</a>  <a target=\"_blank\" href=\"https://github.com/etcbc/dss/blob/master/docs//transcription.md\" title=\"/Users/dirk/text-fabric-data/etcbc/dss/tf/0.4/cl2.tf\">cl2</a>  <a target=\"_blank\" href=\"https://github.com/etcbc/dss/blob/master/docs//transcription.md\" title=\"/Users/dirk/text-fabric-data/etcbc/dss/tf/0.4/cor.tf\">cor</a>  <a target=\"_blank\" href=\"https://github.com/etcbc/dss/blob/master/docs//transcription.md\" title=\"/Users/dirk/text-fabric-data/etcbc/dss/tf/0.4/fragment.tf\">fragment</a>  <a target=\"_blank\" href=\"https://github.com/etcbc/dss/blob/master/docs//transcription.md\" title=\"/Users/dirk/text-fabric-data/etcbc/dss/tf/0.4/full.tf\">full</a>  <a target=\"_blank\" href=\"https://github.com/etcbc/dss/blob/master/docs//transcription.md\" title=\"/Users/dirk/text-fabric-data/etcbc/dss/tf/0.4/fulle.tf\">fulle</a>  <a target=\"_blank\" href=\"https://github.com/etcbc/dss/blob/master/docs//transcription.md\" title=\"/Users/dirk/text-fabric-data/etcbc/dss/tf/0.4/fullo.tf\">fullo</a>  <a target=\"_blank\" href=\"https://github.com/etcbc/dss/blob/master/docs//transcription.md\" title=\"/Users/dirk/text-fabric-data/etcbc/dss/tf/0.4/glex.tf\">glex</a>  <a target=\"_blank\" href=\"https://github.com/etcbc/dss/blob/master/docs//transcription.md\" title=\"/Users/dirk/text-fabric-data/etcbc/dss/tf/0.4/glexe.tf\">glexe</a>  <a target=\"_blank\" href=\"https://github.com/etcbc/dss/blob/master/docs//transcription.md\" title=\"/Users/dirk/text-fabric-data/etcbc/dss/tf/0.4/glexo.tf\">glexo</a>  <a target=\"_blank\" href=\"https://github.com/etcbc/dss/blob/master/docs//transcription.md\" title=\"/Users/dirk/text-fabric-data/etcbc/dss/tf/0.4/glyph.tf\">glyph</a>  <a target=\"_blank\" href=\"https://github.com/etcbc/dss/blob/master/docs//transcription.md\" title=\"/Users/dirk/text-fabric-data/etcbc/dss/tf/0.4/glyphe.tf\">glyphe</a>  <a target=\"_blank\" href=\"https://github.com/etcbc/dss/blob/master/docs//transcription.md\" title=\"/Users/dirk/text-fabric-data/etcbc/dss/tf/0.4/glypho.tf\">glypho</a>  <a target=\"_blank\" href=\"https://github.com/etcbc/dss/blob/master/docs//transcription.md\" title=\"/Users/dirk/text-fabric-data/etcbc/dss/tf/0.4/gn.tf\">gn</a>  <a target=\"_blank\" href=\"https://github.com/etcbc/dss/blob/master/docs//transcription.md\" title=\"/Users/dirk/text-fabric-data/etcbc/dss/tf/0.4/gn2.tf\">gn2</a>  <a target=\"_blank\" href=\"https://github.com/etcbc/dss/blob/master/docs//transcription.md\" title=\"/Users/dirk/text-fabric-data/etcbc/dss/tf/0.4/gn3.tf\">gn3</a>  <a target=\"_blank\" href=\"https://github.com/etcbc/dss/blob/master/docs//transcription.md\" title=\"/Users/dirk/text-fabric-data/etcbc/dss/tf/0.4/halfverse.tf\">halfverse</a>  <a target=\"_blank\" href=\"https://github.com/etcbc/dss/blob/master/docs//transcription.md\" title=\"/Users/dirk/text-fabric-data/etcbc/dss/tf/0.4/intl.tf\">intl</a>  <a target=\"_blank\" href=\"https://github.com/etcbc/dss/blob/master/docs//transcription.md\" title=\"/Users/dirk/text-fabric-data/etcbc/dss/tf/0.4/lang.tf\">lang</a>  <a target=\"_blank\" href=\"https://github.com/etcbc/dss/blob/master/docs//transcription.md\" title=\"/Users/dirk/text-fabric-data/etcbc/dss/tf/0.4/lex.tf\">lex</a>  <a target=\"_blank\" href=\"https://github.com/etcbc/dss/blob/master/docs//transcription.md\" title=\"/Users/dirk/text-fabric-data/etcbc/dss/tf/0.4/lexe.tf\">lexe</a>  <a target=\"_blank\" href=\"https://github.com/etcbc/dss/blob/master/docs//transcription.md\" title=\"/Users/dirk/text-fabric-data/etcbc/dss/tf/0.4/lexo.tf\">lexo</a>  <a target=\"_blank\" href=\"https://github.com/etcbc/dss/blob/master/docs//transcription.md\" title=\"/Users/dirk/text-fabric-data/etcbc/dss/tf/0.4/line.tf\">line</a>  <a target=\"_blank\" href=\"https://github.com/etcbc/dss/blob/master/docs//transcription.md\" title=\"/Users/dirk/text-fabric-data/etcbc/dss/tf/0.4/md.tf\">md</a>  <a target=\"_blank\" href=\"https://github.com/etcbc/dss/blob/master/docs//transcription.md\" title=\"/Users/dirk/text-fabric-data/etcbc/dss/tf/0.4/merr.tf\">merr</a>  <a target=\"_blank\" href=\"https://github.com/etcbc/dss/blob/master/docs//transcription.md\" title=\"/Users/dirk/text-fabric-data/etcbc/dss/tf/0.4/morpho.tf\">morpho</a>  <a target=\"_blank\" href=\"https://github.com/etcbc/dss/blob/master/docs//transcription.md\" title=\"/Users/dirk/text-fabric-data/etcbc/dss/tf/0.4/nu.tf\">nu</a>  <a target=\"_blank\" href=\"https://github.com/etcbc/dss/blob/master/docs//transcription.md\" title=\"/Users/dirk/text-fabric-data/etcbc/dss/tf/0.4/nu2.tf\">nu2</a>  <a target=\"_blank\" href=\"https://github.com/etcbc/dss/blob/master/docs//transcription.md\" title=\"/Users/dirk/text-fabric-data/etcbc/dss/tf/0.4/nu3.tf\">nu3</a>  <a target=\"_blank\" href=\"https://github.com/etcbc/dss/blob/master/docs//transcription.md\" title=\"/Users/dirk/text-fabric-data/etcbc/dss/tf/0.4/otype.tf\">otype</a>  <a target=\"_blank\" href=\"https://github.com/etcbc/dss/blob/master/docs//transcription.md\" title=\"/Users/dirk/text-fabric-data/etcbc/dss/tf/0.4/ps.tf\">ps</a>  <a target=\"_blank\" href=\"https://github.com/etcbc/dss/blob/master/docs//transcription.md\" title=\"/Users/dirk/text-fabric-data/etcbc/dss/tf/0.4/ps2.tf\">ps2</a>  <a target=\"_blank\" href=\"https://github.com/etcbc/dss/blob/master/docs//transcription.md\" title=\"/Users/dirk/text-fabric-data/etcbc/dss/tf/0.4/ps3.tf\">ps3</a>  <a target=\"_blank\" href=\"https://github.com/etcbc/dss/blob/master/docs//transcription.md\" title=\"/Users/dirk/text-fabric-data/etcbc/dss/tf/0.4/punc.tf\">punc</a>  <a target=\"_blank\" href=\"https://github.com/etcbc/dss/blob/master/docs//transcription.md\" title=\"/Users/dirk/text-fabric-data/etcbc/dss/tf/0.4/punce.tf\">punce</a>  <a target=\"_blank\" href=\"https://github.com/etcbc/dss/blob/master/docs//transcription.md\" title=\"/Users/dirk/text-fabric-data/etcbc/dss/tf/0.4/punco.tf\">punco</a>  <a target=\"_blank\" href=\"https://github.com/etcbc/dss/blob/master/docs//transcription.md\" title=\"/Users/dirk/text-fabric-data/etcbc/dss/tf/0.4/rec.tf\">rec</a>  <a target=\"_blank\" href=\"https://github.com/etcbc/dss/blob/master/docs//transcription.md\" title=\"/Users/dirk/text-fabric-data/etcbc/dss/tf/0.4/rem.tf\">rem</a>  <a target=\"_blank\" href=\"https://github.com/etcbc/dss/blob/master/docs//transcription.md\" title=\"/Users/dirk/text-fabric-data/etcbc/dss/tf/0.4/script.tf\">script</a>  <a target=\"_blank\" href=\"https://github.com/etcbc/dss/blob/master/docs//transcription.md\" title=\"/Users/dirk/text-fabric-data/etcbc/dss/tf/0.4/scroll.tf\">scroll</a>  <a target=\"_blank\" href=\"https://github.com/etcbc/dss/blob/master/docs//transcription.md\" title=\"/Users/dirk/text-fabric-data/etcbc/dss/tf/0.4/sp.tf\">sp</a>  <a target=\"_blank\" href=\"https://github.com/etcbc/dss/blob/master/docs//transcription.md\" title=\"/Users/dirk/text-fabric-data/etcbc/dss/tf/0.4/srcLn.tf\">srcLn</a>  <a target=\"_blank\" href=\"https://github.com/etcbc/dss/blob/master/docs//transcription.md\" title=\"/Users/dirk/text-fabric-data/etcbc/dss/tf/0.4/st.tf\">st</a>  <a target=\"_blank\" href=\"https://github.com/etcbc/dss/blob/master/docs//transcription.md\" title=\"/Users/dirk/text-fabric-data/etcbc/dss/tf/0.4/type.tf\">type</a>  <a target=\"_blank\" href=\"https://github.com/etcbc/dss/blob/master/docs//transcription.md\" title=\"/Users/dirk/text-fabric-data/etcbc/dss/tf/0.4/unc.tf\">unc</a>  <a target=\"_blank\" href=\"https://github.com/etcbc/dss/blob/master/docs//transcription.md\" title=\"/Users/dirk/text-fabric-data/etcbc/dss/tf/0.4/vac.tf\">vac</a>  <a target=\"_blank\" href=\"https://github.com/etcbc/dss/blob/master/docs//transcription.md\" title=\"/Users/dirk/text-fabric-data/etcbc/dss/tf/0.4/verse.tf\">verse</a>  <a target=\"_blank\" href=\"https://github.com/etcbc/dss/blob/master/docs//transcription.md\" title=\"/Users/dirk/text-fabric-data/etcbc/dss/tf/0.4/vs.tf\">vs</a>  <a target=\"_blank\" href=\"https://github.com/etcbc/dss/blob/master/docs//transcription.md\" title=\"/Users/dirk/text-fabric-data/etcbc/dss/tf/0.4/vt.tf\">vt</a>  <b><i><a target=\"_blank\" href=\"https://github.com/etcbc/dss/blob/master/docs//transcription.md\" title=\"/Users/dirk/text-fabric-data/etcbc/dss/tf/0.4/occ.tf\">occ</a></i></b>  <b><i><a target=\"_blank\" href=\"https://github.com/etcbc/dss/blob/master/docs//transcription.md\" title=\"/Users/dirk/text-fabric-data/etcbc/dss/tf/0.4/oslots.tf\">oslots</a></i></b> </p><p><b>Parallel Passages</b>: <b><i><a target=\"_blank\" href=\"https://nbviewer.jupyter.org/github/etcbc/dss/blob/master/programs/parallels.ipynb\" title=\"/Users/dirk/text-fabric-data/etcbc/dss/parallels/tf/0.4/sim.tf\">sim</a></i></b> </p></details>"
      ],
      "text/plain": [
       "<IPython.core.display.HTML object>"
      ]
     },
     "metadata": {},
     "output_type": "display_data"
    },
    {
     "data": {
      "text/html": [
       "<style>\n",
       "@font-face {\n",
       "  font-family: \"Ezra SIL\";\n",
       "  src:\n",
       "    local(\"SILEOT.ttf\"),\n",
       "    url(\"https://github.com/annotation/text-fabric/blob/master/tf/server/static/fonts/SILEOT.woff?raw=true\");\n",
       "}\n",
       ".txtn,.txtn a:visited,.txtn a:link {\n",
       "    font-family: sans-serif;\n",
       "    font-size: normal;\n",
       "    text-decoration: none;\n",
       "    direction: ltr;\n",
       "}\n",
       ".txte,.txte a:visited,.txte a:link {\n",
       "    font-family: monospace;\n",
       "    font-size: normal;\n",
       "    text-decoration: none;\n",
       "    direction: ltr;\n",
       "}\n",
       ".txto,.txto a:visited,.txto a:link {\n",
       "    font-family: serif;\n",
       "    font-size: large;\n",
       "    text-decoration: none;\n",
       "    direction: ltr;\n",
       "}\n",
       ".txtu,.txtu a:visited,.txtu a:link {\n",
       "    font-family: \"Ezra SIL\", \"SBL Hebrew\", sans-serif;\n",
       "    font-size: x-large;\n",
       "    text-decoration: none;\n",
       "    direction: rtl;\n",
       "}\n",
       ".features {\n",
       "    font-family: monospace;\n",
       "    font-size: medium;\n",
       "    font-weight: bold;\n",
       "    color: #0a6611;\n",
       "    display: flex;\n",
       "    flex-flow: column nowrap;\n",
       "    padding: 0.1em;\n",
       "    margin: 0.1em;\n",
       "    direction: ltr;\n",
       "}\n",
       ".features div,.features span {\n",
       "    padding: 0;\n",
       "    margin: -0.1rem 0;\n",
       "}\n",
       ".features .f {\n",
       "    font-family: sans-serif;\n",
       "    font-size: x-small;\n",
       "    font-weight: normal;\n",
       "    color: #5555bb;\n",
       "}\n",
       ".features .xft {\n",
       "  color: #000000;\n",
       "  background-color: #eeeeee;\n",
       "  font-size: medium;\n",
       "  margin: 0.1em 0em;\n",
       "}\n",
       ".features .xft .f {\n",
       "  color: #000000;\n",
       "  background-color: #eeeeee;\n",
       "  font-style: italic;\n",
       "  font-size: small;\n",
       "  font-weight: normal;\n",
       "}\n",
       ".ltr {\n",
       "    direction: ltr ! important;\n",
       "}\n",
       ".nd {\n",
       "    font-family: monospace;\n",
       "    font-size: x-small;\n",
       "    color: #999999;\n",
       "}\n",
       ".meta {\n",
       "    display: flex;\n",
       "    justify-content: flex-start;\n",
       "    align-items: flex-start;\n",
       "    align-content: flex-start;\n",
       "    flex-flow: row nowrap;\n",
       "}\n",
       ".features {\n",
       "    display: flex;\n",
       "    justify-content: flex-start;\n",
       "    align-items: flex-start;\n",
       "    align-content: flex-start;\n",
       "    flex-flow: column nowrap;\n",
       "}\n",
       ".children {\n",
       "    display: flex;\n",
       "    justify-content: flex-start;\n",
       "    align-items: flex-start;\n",
       "    align-content: flex-start;\n",
       "    border: 0;\n",
       "    background-color: #ffffff;\n",
       "}\n",
       ".children.scroll {\n",
       "    flex-flow: column nowrap;\n",
       "}\n",
       ".children.fragment {\n",
       "    flex-flow: column nowrap;\n",
       "}\n",
       ".children.line {\n",
       "    align-items: stretch;\n",
       "    flex-flow: row wrap;\n",
       "}\n",
       ".children.cluster {\n",
       "    flex-flow: row wrap;\n",
       "}\n",
       ".children.word {\n",
       "    align-items: stretch;\n",
       "    flex-flow: row nowrap;\n",
       "}\n",
       ".children.sign {\n",
       "    flex-flow: column nowrap;\n",
       "}\n",
       ".contnr {\n",
       "    width: fit-content;\n",
       "    direction: rtl;\n",
       "}\n",
       ".contnr.scroll,.contnr.fragment,\n",
       ".contnr.line,\n",
       ".contnr.cluster,\n",
       ".contnr.word,\n",
       ".contnr.sign {\n",
       "    display: flex;\n",
       "    justify-content: flex-start;\n",
       "    align-items: flex-start;\n",
       "    align-content: flex-start;\n",
       "    flex-flow: column nowrap;\n",
       "    background: #ffffff none repeat scroll 0 0;\n",
       "    padding:  0.5em 0.1em 0.1em 0.1em;\n",
       "    margin: 0.8em 0.1em 0.1em 0.1em;\n",
       "    border-radius: 0.2em;\n",
       "    border-style: solid;\n",
       "    border-width: 0.2em;\n",
       "    font-size: small;\n",
       "}\n",
       ".contnr.scroll,.contnr.fragment {\n",
       "    border-color: #bb8800;\n",
       "}\n",
       ".contnr.line {\n",
       "    border-color: #0088bb;\n",
       "}\n",
       ".contnr.cluster {\n",
       "    flex-flow: row wrap;\n",
       "    border: 0;\n",
       "}\n",
       ".contnr.word {\n",
       "    border-color: #44bbff;\n",
       "}\n",
       ".contnr.sign {\n",
       "    border-color: #bbbbbb;\n",
       "}\n",
       ".contnr.hl {\n",
       "    background-color: #ffee66;\n",
       "}\n",
       ".lbl.scroll,.lbl.fragment,\n",
       ".lbl.line,\n",
       ".lbl.cluster,\n",
       ".lbl.sign,.lbl.word {\n",
       "    margin-top: -1.2em;\n",
       "    margin-left: 1em;\n",
       "    background: #ffffff none repeat scroll 0 0;\n",
       "    padding: 0 0.3em;\n",
       "    border-style: solid;\n",
       "    font-size: small;\n",
       "    display: block;\n",
       "}\n",
       ".lbl.scroll,.lbl.fragment {\n",
       "    border-color: #bb8800;\n",
       "    border-width: 0.3em;\n",
       "    border-radius: 0.3em;\n",
       "    color: #bb8800;\n",
       "}\n",
       ".lbl.line {\n",
       "    border-color: #0088bb;\n",
       "    border-width: 0.3em;\n",
       "    border-radius: 0.3em;\n",
       "    color: #0088bb;\n",
       "}\n",
       ".lbl.cluster {\n",
       "    border-color: #dddddd;\n",
       "    border-width: 0.2em;\n",
       "    border-radius: 0.2em;\n",
       "    color: #0000cc;\n",
       "}\n",
       ".lbl.word {\n",
       "    border-color: #44bbff;\n",
       "    border-width: 0.2em;\n",
       "    border-radius: 0.2em;\n",
       "    font-size: medium;\n",
       "    color: #000000;\n",
       "}\n",
       ".lbl.sign {\n",
       "    border-color: #bbbbbb;\n",
       "    border-width: 0.1em;\n",
       "    border-radius: 0.1em;\n",
       "    font-size: small;\n",
       "    color: #000000;\n",
       "}\n",
       ".name {\n",
       "    font-family: monospace;\n",
       "    font-size: medium;\n",
       "    color: #0000bb;\n",
       "}\n",
       ".text {\n",
       "    font-family: sans-serif;\n",
       "    font-size: x-small;\n",
       "    color: #000000;\n",
       "}\n",
       ".srcln {\n",
       "    font-family: monospace;\n",
       "    font-size: x-small;\n",
       "    color: #0000bb;\n",
       "}\n",
       ".scriptpaleohebrew {\n",
       "    border: 1px dashed navy;\n",
       "}\n",
       ".scriptgreekcapital {\n",
       "    border: 1px dashed brown;\n",
       "}\n",
       ".langa {\n",
       "    text-decoration: underline;\n",
       "}\n",
       ".intl1 {\n",
       "    vertical-align: -0.25em;\n",
       "}\n",
       ".intl2 {\n",
       "    vertical-align: -0.5em;\n",
       "}\n",
       ".langg {\n",
       "    font-family: serif;\n",
       "    text-decoration: underline;\n",
       "}\n",
       ".vac1 {\n",
       "    background-color: #aaaaaa;\n",
       "    border 2pt solid #dd3333;\n",
       "    border-radius: 4pt;\n",
       "}\n",
       ".rem1 {\n",
       "    font-weight: bold;\n",
       "    color: red;\n",
       "    text-decoration: line-through;\n",
       "}\n",
       ".rem2 {\n",
       "    font-weight: bold;\n",
       "    color: maroon;\n",
       "    text-decoration: line-through;\n",
       "}\n",
       ".rec1 {\n",
       "    color: teal;\n",
       "    font-size: 80%;\n",
       "}\n",
       ".cor1 {\n",
       "    font-weight: bold;\n",
       "    color: dodgerblue;\n",
       "    text-decoration: overline;\n",
       "}\n",
       ".cor2 {\n",
       "    font-weight: bold;\n",
       "    color: navy;\n",
       "    text-decoration: overline;\n",
       "}\n",
       ".cor3 {\n",
       "    font-weight: bold;\n",
       "    color: navy;\n",
       "    text-decoration: overline;\n",
       "    vertical-align: super;\n",
       "}\n",
       ".alt1 {\n",
       "    text-decoration: overline;\n",
       "}\n",
       "\n",
       "/* UNSURE: italic*/\n",
       "\n",
       ".unc1 {\n",
       "    font-weight: bold;\n",
       "    color: #888888;\n",
       "}\n",
       ".unc2 {\n",
       "    font-weight: bold;\n",
       "    color: #bbbbbb;\n",
       "}\n",
       ".unc3 {\n",
       "    font-weight: bold;\n",
       "    color: #bbbbbb;\n",
       "    text-shadow: #cccccc 1px 1px;\n",
       "}\n",
       ".unc4 {\n",
       "    font-weight: bold;\n",
       "    color: #dddddd;\n",
       "    text-shadow: #eeeeee 2px 2px;\n",
       "}\n",
       "\n",
       "/* cluster */\n",
       ".empty {\n",
       "  color: #ff0000;\n",
       "}\n",
       "\n",
       "\n",
       "tr.tf, td.tf, th.tf {\n",
       "  text-align: left;\n",
       "}\n",
       "\n",
       "span.hldot {\n",
       "\tbackground-color: var(--hl-strong);\n",
       "\tborder: 0.2rem solid var(--hl-rim);\n",
       "\tborder-radius: 0.4rem;\n",
       "\t/*\n",
       "\tdisplay: inline-block;\n",
       "\twidth: 0.8rem;\n",
       "\theight: 0.8rem;\n",
       "\t*/\n",
       "}\n",
       "span.hl {\n",
       "\tbackground-color: var(--hl-strong);\n",
       "\tborder-width: 0;\n",
       "\tborder-radius: 0.1rem;\n",
       "\tborder-style: solid;\n",
       "}\n",
       "\n",
       "span.hlup {\n",
       "\tborder-color: var(--hl-dark);\n",
       "\tborder-width: 0.1rem;\n",
       "\tborder-style: solid;\n",
       "\tborder-radius: 0.2rem;\n",
       "  padding: 0.2rem;\n",
       "}\n",
       "\n",
       ":root {\n",
       "\t--hl-strong:        hsla( 60, 100%,  70%, 0.9  );\n",
       "\t--hl-rim:           hsla( 55, 100%,  60%, 0.9  );\n",
       "\t--hl-dark:          hsla( 55, 100%,  40%, 0.9  );\n",
       "}\n",
       "</style>"
      ],
      "text/plain": [
       "<IPython.core.display.HTML object>"
      ]
     },
     "metadata": {},
     "output_type": "display_data"
    },
    {
     "data": {
      "text/html": [
       "<details open><summary><b>API members</b>:</summary>\n",
       "<a target=\"_blank\" href=\"https://annotation.github.io/text-fabric/Api/Computed/#computed-data\" title=\"doc\">C Computed</a>, <a target=\"_blank\" href=\"https://annotation.github.io/text-fabric/Api/Computed/#computed-data\" title=\"doc\">Call AllComputeds</a>, <a target=\"_blank\" href=\"https://annotation.github.io/text-fabric/Api/Computed/#computed-data\" title=\"doc\">Cs ComputedString</a><br/>\n",
       "<a target=\"_blank\" href=\"https://annotation.github.io/text-fabric/Api/Features/#edge-features\" title=\"doc\">E Edge</a>, <a target=\"_blank\" href=\"https://annotation.github.io/text-fabric/Api/Features/#edge-features\" title=\"doc\">Eall AllEdges</a>, <a target=\"_blank\" href=\"https://annotation.github.io/text-fabric/Api/Features/#edge-features\" title=\"doc\">Es EdgeString</a><br/>\n",
       "<a target=\"_blank\" href=\"https://annotation.github.io/text-fabric/Api/Fabric/#loading\" title=\"doc\">ensureLoaded</a>, <a target=\"_blank\" href=\"https://annotation.github.io/text-fabric/Api/Fabric/#loading\" title=\"doc\">TF</a>, <a target=\"_blank\" href=\"https://annotation.github.io/text-fabric/Api/Fabric/#loading\" title=\"doc\">ignored</a>, <a target=\"_blank\" href=\"https://annotation.github.io/text-fabric/Api/Fabric/#loading\" title=\"doc\">loadLog</a><br/>\n",
       "<a target=\"_blank\" href=\"https://annotation.github.io/text-fabric/Api/Locality/#locality\" title=\"doc\">L Locality</a><br/>\n",
       "<a target=\"_blank\" href=\"https://annotation.github.io/text-fabric/Api/Misc/#messaging\" title=\"doc\">cache</a>, <a target=\"_blank\" href=\"https://annotation.github.io/text-fabric/Api/Misc/#messaging\" title=\"doc\">error</a>, <a target=\"_blank\" href=\"https://annotation.github.io/text-fabric/Api/Misc/#messaging\" title=\"doc\">indent</a>, <a target=\"_blank\" href=\"https://annotation.github.io/text-fabric/Api/Misc/#messaging\" title=\"doc\">info</a>, <a target=\"_blank\" href=\"https://annotation.github.io/text-fabric/Api/Misc/#messaging\" title=\"doc\">reset</a><br/>\n",
       "<a target=\"_blank\" href=\"https://annotation.github.io/text-fabric/Api/Nodes/#navigating-nodes\" title=\"doc\">N Nodes</a>, <a target=\"_blank\" href=\"https://annotation.github.io/text-fabric/Api/Nodes/#navigating-nodes\" title=\"doc\">sortKey</a>, <a target=\"_blank\" href=\"https://annotation.github.io/text-fabric/Api/Nodes/#navigating-nodes\" title=\"doc\">sortKeyTuple</a>, <a target=\"_blank\" href=\"https://annotation.github.io/text-fabric/Api/Nodes/#navigating-nodes\" title=\"doc\">otypeRank</a>, <a target=\"_blank\" href=\"https://annotation.github.io/text-fabric/Api/Nodes/#navigating-nodes\" title=\"doc\">sortNodes</a><br/>\n",
       "<a target=\"_blank\" href=\"https://annotation.github.io/text-fabric/Api/Features/#node-features\" title=\"doc\">F Feature</a>, <a target=\"_blank\" href=\"https://annotation.github.io/text-fabric/Api/Features/#node-features\" title=\"doc\">Fall AllFeatures</a>, <a target=\"_blank\" href=\"https://annotation.github.io/text-fabric/Api/Features/#node-features\" title=\"doc\">Fs FeatureString</a><br/>\n",
       "<a target=\"_blank\" href=\"https://annotation.github.io/text-fabric/Api/Search/#search\" title=\"doc\">S Search</a><br/>\n",
       "<a target=\"_blank\" href=\"https://annotation.github.io/text-fabric/Api/Text/#text\" title=\"doc\">T Text</a></details>"
      ],
      "text/plain": [
       "<IPython.core.display.HTML object>"
      ]
     },
     "metadata": {},
     "output_type": "display_data"
    }
   ],
   "source": [
    "A = use('dss', hoist=globals())"
   ]
  },
  {
   "cell_type": "markdown",
   "metadata": {},
   "source": [
    "The new feature is **sim** and it it an edge feature.\n",
    "It annotates pairs of lines $(l, m)$ where $l$ and $m$ have similar content.\n",
    "The degree of similarity is a percentage (between 60 and 100), and this value\n",
    "is annotated onto the edges.\n",
    "\n",
    "Here is an example:"
   ]
  },
  {
   "cell_type": "code",
   "execution_count": 8,
   "metadata": {},
   "outputs": [
    {
     "name": "stdout",
     "output_type": "stream",
     "text": [
      "1 similar lines\n",
      "1563765 with similarity 69\n"
     ]
    },
    {
     "data": {
      "text/html": [
       "<table>\n",
       "<tr class=\"tf\">\n",
       "  <th class=\"tf\">n</th><th class=\"tf\">p</th>\n",
       "  <th class=\"tf\">line</th>\n",
       "</tr>\n",
       "\n",
       "<tr class=\"tf\"><td class=\"tf\">1</td><td class=\"tf\"> <a href=\"https://www.deadseascrolls.org.il/explore-the-archive/search#q='CD'\" title=\"show this scroll in the Leon Levy library\" sec=\"CD 1:1\">CD 1:1</a></td><td class=\"tf\"><span class=\"txtu\">  ועתה שׁמעו כל יודעי צדק ובינו במעשׁי </span></td></tr>\n",
       "<tr class=\"tf\"><td class=\"tf\">2</td><td class=\"tf\"> <a href=\"https://www.deadseascrolls.org.il/explore-the-archive/search#q='4Q268'\" title=\"show this scroll in the Leon Levy library\" sec=\"4Q268 f1:9\">4Q268 f1:9</a></td><td class=\"tf\"><span class=\"txtu\">ועתה שׁמעו ל׳י כול יודעי צדק ובינו במעשׁי אל ׃ כי ריב </span></td></tr></table>"
      ],
      "text/plain": [
       "<IPython.core.display.HTML object>"
      ]
     },
     "metadata": {},
     "output_type": "display_data"
    }
   ],
   "source": [
    "exampleLine = F.otype.s('line')[0]\n",
    "sisters = E.sim.b(exampleLine)\n",
    "print(f'{len(sisters)} similar lines')\n",
    "print('\\n'.join(f'{s[0]} with similarity {s[1]}' for s in sisters[0:10]))\n",
    "A.table(tuple((s[0],) for s in ((exampleLine,), *sisters)), end=10)"
   ]
  },
  {
   "cell_type": "markdown",
   "metadata": {},
   "source": [
    "# All similarities\n",
    "\n",
    "Let's first find out the range of similarities:"
   ]
  },
  {
   "cell_type": "code",
   "execution_count": 9,
   "metadata": {},
   "outputs": [
    {
     "name": "stdout",
     "output_type": "stream",
     "text": [
      "minimum similarity is  60\n",
      "maximum similarity is 100\n"
     ]
    }
   ],
   "source": [
    "minSim = None\n",
    "maxSim = None\n",
    "\n",
    "for l in F.otype.s('line'):\n",
    "  sisters = E.sim.f(l)\n",
    "  if not sisters:\n",
    "    continue\n",
    "  thisMin = min(s[1] for s in sisters)\n",
    "  thisMax = max(s[1] for s in sisters)\n",
    "  if minSim is None or thisMin < minSim:\n",
    "    minSim = thisMin\n",
    "  if maxSim is None or thisMax > maxSim:\n",
    "    maxSim = thisMax\n",
    "\n",
    "print(f'minimum similarity is {minSim:>3}')\n",
    "print(f'maximum similarity is {maxSim:>3}')"
   ]
  },
  {
   "cell_type": "markdown",
   "metadata": {},
   "source": [
    "# The bottom lines\n",
    "\n",
    "We give a few examples of the least similar lines.\n",
    "\n",
    "We can use a search template to get the 90% lines."
   ]
  },
  {
   "cell_type": "code",
   "execution_count": 10,
   "metadata": {},
   "outputs": [],
   "source": [
    "query = '''\n",
    "line\n",
    "-sim=60> line\n",
    "'''"
   ]
  },
  {
   "cell_type": "markdown",
   "metadata": {},
   "source": [
    "In words: find a line connected via a sim-edge with value 60 to an other line."
   ]
  },
  {
   "cell_type": "code",
   "execution_count": 12,
   "metadata": {},
   "outputs": [
    {
     "name": "stdout",
     "output_type": "stream",
     "text": [
      "  0.20s 24547 results\n"
     ]
    }
   ],
   "source": [
    "results = A.search(query)"
   ]
  },
  {
   "cell_type": "code",
   "execution_count": 13,
   "metadata": {},
   "outputs": [
    {
     "data": {
      "text/html": [
       "<table>\n",
       "<tr class=\"tf\">\n",
       "  <th class=\"tf\">n</th><th class=\"tf\">p</th>\n",
       "  <th class=\"tf\">line</th><th>line</th>\n",
       "</tr>\n",
       "\n",
       "<tr class=\"tf\"><td class=\"tf\">1</td><td class=\"tf\"> <a href=\"https://www.deadseascrolls.org.il/explore-the-archive/search#q='4Q269'\" title=\"show this scroll in the Leon Levy library\" sec=\"4Q269 f2:4\">4Q269 f2:4</a></td><td class=\"tf\"><span class=\"txtu\">בעדת׳ם ׃ ובני׳הם ב׳ו אבדו ומלכי׳הם ב׳ו נכרתו וגיבורי׳הם ב׳ו </span></td><td class=\"tf\"><span class=\"txtu\">אבדו ומלכי׳הם ב׳ו נכרתו וגבורי׳הם ב׳ו אבדו וארצ׳ם ב׳ו שׁממה ׃ </span></td></tr>\n",
       "<tr class=\"tf\"><td class=\"tf\">2</td><td class=\"tf\"> <a href=\"https://www.deadseascrolls.org.il/explore-the-archive/search#q='4Q59'\" title=\"show this scroll in the Leon Levy library\" sec=\"4Q59 f2_3:1\">4Q59 f2_3:1</a></td><td class=\"tf\"><span class=\"txtu\">אשׁר אמר יבוא עלי׳ך ועל עמ׳ך ועל בית אבי׳ך ימים אשׁר לא </span></td><td class=\"tf\"><span class=\"txtu\">יביא יהוה עלי׳ך ועל עמ׳ך ועל בית אבי׳ך ימים אשׁר לא באו למיום סור אפרים </span></td></tr>\n",
       "<tr class=\"tf\"><td class=\"tf\">3</td><td class=\"tf\"> <a href=\"https://www.deadseascrolls.org.il/explore-the-archive/search#q='4Q266'\" title=\"show this scroll in the Leon Levy library\" sec=\"4Q266 f8iii:6\">4Q266 f8iii:6</a></td><td class=\"tf\"><span class=\"txtu\">ועשׁרים שׁנה עד בני שׁשׁים שׁנה ׃ ואל יתיצב עוד מבן </span></td><td class=\"tf\"><span class=\"txtu\">ובישׁודי הברית מבני חמשׁ ועשׁרים שׁנה ועד בן שׁשׁים שׁנה ׃ ואל יתיצב </span></td></tr>\n",
       "<tr class=\"tf\"><td class=\"tf\">4</td><td class=\"tf\"> <a href=\"https://www.deadseascrolls.org.il/explore-the-archive/search#q='4Q270'\" title=\"show this scroll in the Leon Levy library\" sec=\"4Q270 f6v:2\">4Q270 f6v:2</a></td><td class=\"tf\"><span class=\"txtu\">רחוק מן השׁער מלוא׳ו ׃ כי הוא אשׁר אמר שׁמור את </span></td><td class=\"tf\"><span class=\"txtu\">מן העת אשׁר יהיה גלגל השׁמשׁ רחוק מן השׁער מלוא׳ו כי הוא אשׁר אמר </span></td></tr>\n",
       "<tr class=\"tf\"><td class=\"tf\">5</td><td class=\"tf\"> <a href=\"https://www.deadseascrolls.org.il/explore-the-archive/search#q='4Q271'\" title=\"show this scroll in the Leon Levy library\" sec=\"4Q271 f5i:3\">4Q271 f5i:3</a></td><td class=\"tf\"><span class=\"txtu\">אם אלפים באמה ׃   אל ירם את יד׳ו להכות׳ה באגרוף   אם </span></td><td class=\"tf\"><span class=\"txtu\">אל ירם אישׁ את יד׳ו להכות׳ה באגרוף ׃ אם סוררת היא אל יוציא׳ה </span></td></tr>\n",
       "<tr class=\"tf\"><td class=\"tf\">6</td><td class=\"tf\"> <a href=\"https://www.deadseascrolls.org.il/explore-the-archive/search#q='4Q270'\" title=\"show this scroll in the Leon Levy library\" sec=\"4Q270 f6v:19\">4Q270 f6v:19</a></td><td class=\"tf\"><span class=\"txtu\">  וכל נפשׁ אדם אשׁר תפול אל מים מקום מים ואל מקום </span></td><td class=\"tf\"><span class=\"txtu\">הון ובצע בשׁבת ׃ וכל נפשׁ אדם אשׁר תפול אל מקום מים ואל בור אל </span></td></tr>\n",
       "<tr class=\"tf\"><td class=\"tf\">7</td><td class=\"tf\"> <a href=\"https://www.deadseascrolls.org.il/explore-the-archive/search#q='4Q266'\" title=\"show this scroll in the Leon Levy library\" sec=\"4Q266 f9ii:3\">4Q266 f9ii:3</a></td><td class=\"tf\"><span class=\"txtu\">והעפר אשׁר יגואלו בטמאת האדם לגאולי שׁמן ב׳הם כפי </span></td><td class=\"tf\"><span class=\"txtu\">יגואלו בטמאת האדם לגאולי שׁמן ב׳הם כפי טמאת׳ם יטמא </span></td></tr>\n",
       "<tr class=\"tf\"><td class=\"tf\">8</td><td class=\"tf\"> <a href=\"https://www.deadseascrolls.org.il/explore-the-archive/search#q='4Q266'\" title=\"show this scroll in the Leon Levy library\" sec=\"4Q266 f9ii:4\">4Q266 f9ii:4</a></td><td class=\"tf\"><span class=\"txtu\">טמאת׳ם יטמא הנוגע ב׳ם ׃   וכל כלי מסמר מסמר או יתד בכותל </span></td><td class=\"tf\"><span class=\"txtu\">הנוגע ב׳ם ׃ וכול כלי מסמר ויתד בכותל אשׁר יהיו עם </span></td></tr>\n",
       "<tr class=\"tf\"><td class=\"tf\">9</td><td class=\"tf\"> <a href=\"https://www.deadseascrolls.org.il/explore-the-archive/search#q='4Q267'\" title=\"show this scroll in the Leon Levy library\" sec=\"4Q267 f9iv:10\">4Q267 f9iv:10</a></td><td class=\"tf\"><span class=\"txtu\">מבני המחנה להביא אישׁ אל העדה זולת פי המבקר אשׁר למחנה ׃ </span></td><td class=\"tf\"><span class=\"txtu\">ימשׁול אישׁ מכול בני המחנה להביא אישׁ אל העדה </span></td></tr>\n",
       "<tr class=\"tf\"><td class=\"tf\">10</td><td class=\"tf\"> <a href=\"https://www.deadseascrolls.org.il/explore-the-archive/search#q='4Q269'\" title=\"show this scroll in the Leon Levy library\" sec=\"4Q269 f10ii:11\">4Q269 f10ii:11</a></td><td class=\"tf\"><span class=\"txtu\">שׁלושׁת׳ם והגר רביע ׃ וכן ישׁבו וכן ישׁאלו לכל ׃ והכהן אשׁר יפקד </span></td><td class=\"tf\"><span class=\"txtu\">ישׁראל שׁלשׁיים והגר רביע ׃ וכן ישׁבו וכן ישׁאלו לכול ׃ </span></td></tr></table>"
      ],
      "text/plain": [
       "<IPython.core.display.HTML object>"
      ]
     },
     "metadata": {},
     "output_type": "display_data"
    }
   ],
   "source": [
    "A.table(results, start=1, end=10)"
   ]
  },
  {
   "cell_type": "markdown",
   "metadata": {},
   "source": [
    "Or in full layout:"
   ]
  },
  {
   "cell_type": "code",
   "execution_count": 14,
   "metadata": {},
   "outputs": [
    {
     "data": {
      "text/html": [
       "<table>\n",
       "<tr class=\"tf\">\n",
       "  <th class=\"tf\">n</th><th class=\"tf\">p</th>\n",
       "  <th class=\"tf\">line</th><th>line</th>\n",
       "</tr>\n",
       "\n",
       "<tr class=\"tf\"><td class=\"tf\">1</td><td class=\"tf\"> <a href=\"https://www.deadseascrolls.org.il/explore-the-archive/search#q='4Q269'\" title=\"show this scroll in the Leon Levy library\" sec=\"4Q269 f2:4\">4Q269 f2:4</a></td><td class=\"tf\"><span class=\"txtu\">בעדת׳ם ׃ ובני׳הם ב׳ו אבדו ומלכי׳הם ב׳ו נכרתו וגיבורי׳הם ב׳ו </span></td><td class=\"tf\"><span class=\"txtu\"><span class=\"rec1\">א</span><span class=\"rec1\">ב</span><span class=\"rec1\">ד</span><span class=\"rec1\">ו</span> <span class=\"rec1\">ו</span><span class=\"rec1\">מ</span><span class=\"rec1\">ל</span><span class=\"rec1\">כ</span><span class=\"rec1\">י</span><span class=\"rec1\">׳</span><span class=\"rec1\">ה</span><span class=\"rec1\">ם</span> <span class=\"rec1\">ב</span><span class=\"rec1\">׳</span><span class=\"rec1\">ו</span> <span class=\"rec1\">נ</span><span class=\"rec1\">כ</span><span class=\"rec1\">ר</span><span class=\"rec1\">ת</span><span class=\"rec1\">ו</span> <span class=\"rec1\">ו</span><span class=\"rec1\">ג</span><span class=\"rec1\">ב</span><span class=\"rec1\">ו</span><span class=\"rec1\">ר</span><span class=\"rec1\">י</span><span class=\"rec1\">׳</span><span class=\"rec1\">ה</span><span class=\"unc4\">ם</span> ב׳ו אבדו וארצ׳ם ב׳ו שׁממה ׃ </span></td></tr>\n",
       "<tr class=\"tf\"><td class=\"tf\">2</td><td class=\"tf\"> <a href=\"https://www.deadseascrolls.org.il/explore-the-archive/search#q='4Q59'\" title=\"show this scroll in the Leon Levy library\" sec=\"4Q59 f2_3:1\">4Q59 f2_3:1</a></td><td class=\"tf\"><span class=\"txtu\">אשׁר אמר יבוא עלי׳ך ועל עמ׳ך ועל בית אבי׳ך ימים אשׁר <span class=\"cor1\">ל</span><span class=\"cor1\">א</span> </span></td><td class=\"tf\"><span class=\"txtu\"><span class=\"rec1\">י</span><span class=\"rec1\">ב</span><span class=\"rec1\">י</span><span class=\"rec1\">א</span> <span class=\"rec1\">י</span><span class=\"rec1\">ה</span><span class=\"rec1\">ו</span><span class=\"rec1\">ה</span> <span class=\"rec1\">ע</span><span class=\"rec1\">ל</span><span class=\"rec1\">י</span><span class=\"rec1\">׳</span><span class=\"rec1\">ך</span> <span class=\"rec1\">ו</span><span class=\"rec1\">ע</span><span class=\"rec1\">ל</span> <span class=\"rec1\">ע</span><span class=\"rec1\">מ</span><span class=\"rec1\">׳</span><span class=\"rec1\">ך</span> <span class=\"rec1\">ו</span><span class=\"rec1\">ע</span><span class=\"rec1\">ל</span> <span class=\"rec1\">ב</span><span class=\"rec1\">י</span><span class=\"rec1\">ת</span> <span class=\"rec1\">א</span><span class=\"rec1\">ב</span><span class=\"rec1\">י</span><span class=\"rec1\">׳</span><span class=\"rec1\">ך</span> <span class=\"rec1\">י</span>מ<span class=\"unc3\">י</span><span class=\"unc4\">ם</span> <span class=\"rec1\">א</span><span class=\"rec1\">שׁ</span><span class=\"rec1\">ר</span> <span class=\"rec1\">ל</span><span class=\"rec1\">א</span> <span class=\"rec1\">ב</span><span class=\"rec1\">א</span><span class=\"rec1\">ו</span> <span class=\"rec1\">ל</span><span class=\"rec1\">מ</span><span class=\"rec1\">י</span><span class=\"rec1\">ו</span><span class=\"rec1\">ם</span> <span class=\"rec1\">ס</span><span class=\"rec1\">ו</span><span class=\"rec1\">ר</span> <span class=\"rec1\">א</span><span class=\"rec1\">פ</span><span class=\"rec1\">ר</span><span class=\"rec1\">י</span><span class=\"rec1\">ם</span> </span></td></tr>\n",
       "<tr class=\"tf\"><td class=\"tf\">3</td><td class=\"tf\"> <a href=\"https://www.deadseascrolls.org.il/explore-the-archive/search#q='4Q266'\" title=\"show this scroll in the Leon Levy library\" sec=\"4Q266 f8iii:6\">4Q266 f8iii:6</a></td><td class=\"tf\"><span class=\"txtu\">ועשׁרים שׁנה עד בני שׁשׁים שׁנה ׃ ואל יתיצב עוד מבן </span></td><td class=\"tf\"><span class=\"txtu\">ובי<span class=\"unc2\">שׁ</span><span class=\"rec1\">ו</span><span class=\"rec1\">ד</span><span class=\"rec1\">י</span> <span class=\"rec1\">ה</span><span class=\"rec1\">ב</span><span class=\"rec1\">ר</span><span class=\"rec1\">י</span><span class=\"rec1\">ת</span> <span class=\"rec1\">מ</span><span class=\"rec1\">ב</span>ני חמשׁ <span class=\"rec1\">ו</span><span class=\"unc4\">ע</span>שׁרים <span class=\"rec1\">שׁ</span><span class=\"rec1\">נ</span><span class=\"rec1\">ה</span> <span class=\"rec1\">ו</span><span class=\"rec1\">ע</span><span class=\"rec1\">ד</span> בן שׁשׁים שׁנה ׃ ואל ית<span class=\"rec1\">י</span><span class=\"unc4\">צ</span><span class=\"rec1\">ב</span> </span></td></tr>\n",
       "<tr class=\"tf\"><td class=\"tf\">4</td><td class=\"tf\"> <a href=\"https://www.deadseascrolls.org.il/explore-the-archive/search#q='4Q270'\" title=\"show this scroll in the Leon Levy library\" sec=\"4Q270 f6v:2\">4Q270 f6v:2</a></td><td class=\"tf\"><span class=\"txtu\">רחוק מן השׁער מלוא׳ו ׃ כי הוא אשׁר אמר שׁמור את </span></td><td class=\"tf\"><span class=\"txtu\"><span class=\"rec1\">מ</span><span class=\"rec1\">ן</span> <span class=\"rec1\">ה</span><span class=\"rec1\">ע</span><span class=\"rec1\">ת</span> <span class=\"rec1\">א</span><span class=\"rec1\">שׁ</span><span class=\"rec1\">ר</span> <span class=\"rec1\">י</span><span class=\"rec1\">ה</span><span class=\"rec1\">י</span><span class=\"rec1\">ה</span> <span class=\"rec1\">ג</span><span class=\"rec1\">ל</span><span class=\"rec1\">ג</span><span class=\"rec1\">ל</span> <span class=\"rec1\">ה</span><span class=\"rec1\">שׁ</span><span class=\"rec1\">מ</span><span class=\"rec1\">שׁ</span> <span class=\"rec1\">ר</span><span class=\"rec1\">ח</span><span class=\"rec1\">ו</span><span class=\"rec1\">ק</span> <span class=\"rec1\">מ</span><span class=\"rec1\">ן</span> <span class=\"rec1\">ה</span><span class=\"rec1\">שׁ</span><span class=\"rec1\">ע</span><span class=\"rec1\">ר</span> <span class=\"rec1\">מ</span><span class=\"rec1\">ל</span><span class=\"rec1\">ו</span><span class=\"rec1\">א</span><span class=\"rec1\">׳</span><span class=\"rec1\">ו</span> <span class=\"rec1\">כ</span><span class=\"rec1\">י</span> <span class=\"rec1\">ה</span><span class=\"rec1\">ו</span><span class=\"unc4\">א</span> אשׁר <span class=\"unc4\">א</span><span class=\"rec1\">מ</span><span class=\"rec1\">ר</span> </span></td></tr>\n",
       "<tr class=\"tf\"><td class=\"tf\">5</td><td class=\"tf\"> <a href=\"https://www.deadseascrolls.org.il/explore-the-archive/search#q='4Q271'\" title=\"show this scroll in the Leon Levy library\" sec=\"4Q271 f5i:3\">4Q271 f5i:3</a></td><td class=\"tf\"><span class=\"txtu\">אם אלפים באמה ׃ <span class=\"vac1\"> </span> אל ירם את יד׳ו להכות׳ה באגרוף <span class=\"vac1\"> </span> אם </span></td><td class=\"tf\"><span class=\"txtu\"><span class=\"rec1\">א</span><span class=\"rec1\">ל</span> <span class=\"rec1\">י</span><span class=\"rec1\">ר</span><span class=\"rec1\">ם</span> <span class=\"rec1\">א</span><span class=\"rec1\">י</span><span class=\"rec1\">שׁ</span> <span class=\"rec1\">א</span><span class=\"rec1\">ת</span> יד׳ו להכות׳<span class=\"unc4\">ה</span> <span class=\"unc4\">ב</span>אגרוף ׃ אם סוררת ה<span class=\"unc3\">י</span><span class=\"rec1\">א</span> <span class=\"rec1\">א</span><span class=\"rec1\">ל</span> <span class=\"rec1\">י</span><span class=\"rec1\">ו</span><span class=\"rec1\">צ</span><span class=\"rec1\">י</span><span class=\"unc4\">א</span>׳ה </span></td></tr>\n",
       "<tr class=\"tf\"><td class=\"tf\">6</td><td class=\"tf\"> <a href=\"https://www.deadseascrolls.org.il/explore-the-archive/search#q='4Q270'\" title=\"show this scroll in the Leon Levy library\" sec=\"4Q270 f6v:19\">4Q270 f6v:19</a></td><td class=\"tf\"><span class=\"txtu\"><span class=\"vac1\"> </span> וכל נפשׁ אדם אשׁר תפול אל <span class=\"rem2\">מ</span><span class=\"unc1 rem2\">י</span><span class=\"unc2 rem2\">ם</span> מקום מים ואל מקום </span></td><td class=\"tf\"><span class=\"txtu\"><span class=\"unc2\">ה</span>ון ובצע בשׁבת ׃ וכל נפשׁ אד<span class=\"rec1\">ם</span> <span class=\"rec1\">א</span><span class=\"rec1\">שׁ</span><span class=\"rec1\">ר</span> <span class=\"rec1\">ת</span><span class=\"rec1\">פ</span><span class=\"rec1\">ו</span><span class=\"rec1\">ל</span> <span class=\"rec1\">א</span><span class=\"rec1\">ל</span> <span class=\"rec1\">מ</span><span class=\"rec1\">ק</span><span class=\"rec1\">ו</span><span class=\"rec1\">ם</span> <span class=\"rec1\">מ</span><span class=\"rec1\">י</span><span class=\"rec1\">ם</span> <span class=\"rec1\">ו</span><span class=\"rec1\">א</span><span class=\"rec1\">ל</span> <span class=\"rec1\">ב</span><span class=\"rec1\">ו</span><span class=\"rec1\">ר</span> <span class=\"rec1\">א</span><span class=\"rec1\">ל</span> </span></td></tr>\n",
       "<tr class=\"tf\"><td class=\"tf\">7</td><td class=\"tf\"> <a href=\"https://www.deadseascrolls.org.il/explore-the-archive/search#q='4Q266'\" title=\"show this scroll in the Leon Levy library\" sec=\"4Q266 f9ii:3\">4Q266 f9ii:3</a></td><td class=\"tf\"><span class=\"txtu\">והעפר אשׁר יגואלו בטמאת האדם לגאולי שׁמן ב׳הם כפי </span></td><td class=\"tf\"><span class=\"txtu\"><span class=\"rec1\">י</span><span class=\"rec1\">ג</span><span class=\"rec1\">ו</span><span class=\"rec1\">א</span><span class=\"rec1\">ל</span><span class=\"rec1\">ו</span> <span class=\"rec1\">ב</span><span class=\"rec1\">ט</span><span class=\"rec1\">מ</span><span class=\"rec1\">א</span><span class=\"rec1\">ת</span> <span class=\"rec1\">ה</span><span class=\"rec1\">א</span><span class=\"rec1\">ד</span><span class=\"rec1\">ם</span> <span class=\"rec1\">ל</span><span class=\"rec1\">ג</span><span class=\"rec1\">א</span><span class=\"rec1\">ו</span><span class=\"rec1\">ל</span><span class=\"rec1\">י</span> <span class=\"rec1\">שׁ</span><span class=\"rec1\">מ</span><span class=\"rec1\">ן</span> <span class=\"rec1\">ב</span><span class=\"rec1\">׳</span><span class=\"rec1\">ה</span><span class=\"rec1\">ם</span> <span class=\"rec1\">כ</span><span class=\"rec1\">פ</span><span class=\"rec1\">י</span> <span class=\"rec1\">ט</span><span class=\"unc2\">מ</span>את׳ם <span class=\"unc1\">י</span><span class=\"unc4\">ט</span><span class=\"rec1\">מ</span><span class=\"rec1\">א</span> </span></td></tr>\n",
       "<tr class=\"tf\"><td class=\"tf\">8</td><td class=\"tf\"> <a href=\"https://www.deadseascrolls.org.il/explore-the-archive/search#q='4Q266'\" title=\"show this scroll in the Leon Levy library\" sec=\"4Q266 f9ii:4\">4Q266 f9ii:4</a></td><td class=\"tf\"><span class=\"txtu\">טמא<span class=\"unc2\">ת</span>׳ם יטמא ה<span class=\"unc1\">נ</span><span class=\"rec1\">ו</span>גע ב׳ם ׃ <span class=\"vac1\"> </span> וכל כלי <span class=\"rem2\">מ</span><span class=\"rem2\">ס</span><span class=\"rem2\">מ</span><span class=\"rem2\">ר</span> מסמר או יתד בכ<span class=\"unc1\">ו</span>תל </span></td><td class=\"tf\"><span class=\"txtu\"><span class=\"rec1\">ה</span><span class=\"rec1\">נ</span><span class=\"rec1\">ו</span><span class=\"rec1\">ג</span><span class=\"rec1\">ע</span> <span class=\"rec1\">ב</span><span class=\"rec1\">׳</span><span class=\"rec1\">ם</span> <span class=\"rec1\"></span><span class=\"rec1\">׃</span> <span class=\"rec1\">ו</span><span class=\"rec1\">כ</span><span class=\"rec1\">ו</span><span class=\"rec1\">ל</span> <span class=\"rec1\">כ</span><span class=\"rec1\">ל</span><span class=\"rec1\">י</span> <span class=\"rec1\">מ</span><span class=\"rec1\">ס</span><span class=\"rec1\">מ</span><span class=\"rec1\">ר</span> <span class=\"rec1\">ו</span><span class=\"rec1\">י</span><span class=\"rec1\">ת</span><span class=\"rec1\">ד</span> <span class=\"rec1\">ב</span><span class=\"rec1\">כ</span><span class=\"rec1\">ו</span><span class=\"rec1\">ת</span><span class=\"rec1\">ל</span> <span class=\"rec1\">א</span><span class=\"rec1\">שׁ</span><span class=\"rec1\">ר</span> <span class=\"rec1\">י</span><span class=\"rec1\">ה</span><span class=\"rec1\">י</span>ו עם </span></td></tr>\n",
       "<tr class=\"tf\"><td class=\"tf\">9</td><td class=\"tf\"> <a href=\"https://www.deadseascrolls.org.il/explore-the-archive/search#q='4Q267'\" title=\"show this scroll in the Leon Levy library\" sec=\"4Q267 f9iv:10\">4Q267 f9iv:10</a></td><td class=\"tf\"><span class=\"txtu\">מבני המחנה להביא אישׁ אל העדה <span class=\"unc1\">ז</span><span class=\"unc1\">ו</span><span class=\"unc2\">ל</span>ת פי המבקר אשׁ<span class=\"unc2\">ר</span> למחנ<span class=\"unc4\">ה</span> ׃ </span></td><td class=\"tf\"><span class=\"txtu\"><span class=\"rec1\">י</span><span class=\"rec1\">מ</span><span class=\"rec1\">שׁ</span><span class=\"rec1\">ו</span><span class=\"rec1\">ל</span> <span class=\"rec1\">א</span><span class=\"rec1\">י</span><span class=\"rec1\">שׁ</span> <span class=\"cor1 rec1\">מ</span><span class=\"cor1 rec1\">כ</span><span class=\"cor1 rec1\">ו</span><span class=\"cor1 rec1\">ל</span> <span class=\"rec1\">ב</span><span class=\"rec1\">נ</span><span class=\"rec1\">י</span> <span class=\"rec1\">ה</span><span class=\"rec1\">מ</span><span class=\"rec1\">ח</span><span class=\"rec1\">נ</span><span class=\"rec1\">ה</span> <span class=\"rec1\">ל</span><span class=\"unc4\">ה</span><span class=\"unc4\">ב</span><span class=\"unc3\">י</span>א אישׁ אל <span class=\"rec1\">ה</span><span class=\"rec1\">ע</span>דה </span></td></tr>\n",
       "<tr class=\"tf\"><td class=\"tf\">10</td><td class=\"tf\"> <a href=\"https://www.deadseascrolls.org.il/explore-the-archive/search#q='4Q269'\" title=\"show this scroll in the Leon Levy library\" sec=\"4Q269 f10ii:11\">4Q269 f10ii:11</a></td><td class=\"tf\"><span class=\"txtu\">שׁלושׁת׳ם והגר רביע ׃ וכן ישׁבו וכן ישׁאלו לכל ׃ והכהן אשׁר י<span class=\"unc2\">פ</span>קד </span></td><td class=\"tf\"><span class=\"txtu\">ישׁרא<span class=\"unc2\">ל</span> <span class=\"rec1\">שׁ</span><span class=\"rec1\">ל</span><span class=\"rec1\">שׁ</span><span class=\"rec1\">י</span><span class=\"rec1\">י</span><span class=\"rec1\">ם</span> <span class=\"rec1\">ו</span><span class=\"rec1\">ה</span><span class=\"rec1\">ג</span><span class=\"rec1\">ר</span> <span class=\"rec1\">ר</span><span class=\"rec1\">ב</span><span class=\"rec1\">י</span><span class=\"rec1\">ע</span> <span class=\"rec1\"></span><span class=\"rec1\">׃</span> <span class=\"rec1\">ו</span><span class=\"rec1\">כ</span><span class=\"rec1\">ן</span> <span class=\"rec1\">י</span><span class=\"rec1\">שׁ</span><span class=\"rec1\">ב</span><span class=\"rec1\">ו</span> <span class=\"rec1\">ו</span><span class=\"rec1\">כ</span><span class=\"rec1\">ן</span> <span class=\"rec1\">י</span><span class=\"rec1\">שׁ</span><span class=\"rec1\">א</span><span class=\"rec1\">ל</span><span class=\"rec1\">ו</span> <span class=\"rec1\">ל</span><span class=\"rec1\">כ</span><span class=\"rec1\">ו</span><span class=\"rec1\">ל</span> ׃ </span></td></tr></table>"
      ],
      "text/plain": [
       "<IPython.core.display.HTML object>"
      ]
     },
     "metadata": {},
     "output_type": "display_data"
    }
   ],
   "source": [
    "A.table(results, start=1, end=10, fmt='layout-orig-full')"
   ]
  },
  {
   "cell_type": "markdown",
   "metadata": {},
   "source": [
    "From now on we forget about the level of similarity, and focus on whether two lines are just \"similar\", meaning that they have\n",
    "a high degree of similarity."
   ]
  },
  {
   "cell_type": "markdown",
   "metadata": {},
   "source": [
    "# Cluster the lines\n",
    "\n",
    "Before we try to find them, let's see if we can cluster the lines in similar clusters."
   ]
  },
  {
   "cell_type": "code",
   "execution_count": 15,
   "metadata": {},
   "outputs": [],
   "source": [
    "CLUSTER_THRESHOLD = 0.5\n",
    "\n",
    "def makeClusters():\n",
    "  indent(reset=True)\n",
    "  chunkSize = 1000\n",
    "  b = 0\n",
    "  j = 0\n",
    "  clusters = []\n",
    "  for l in F.otype.s('line'):\n",
    "    j += 1\n",
    "    b += 1\n",
    "    if b == chunkSize:\n",
    "      b = 0\n",
    "      info(f'{j:>5} lines and {len(clusters):>5} clusters')\n",
    "    lSisters = {x[0] for x in E.sim.b(l)}\n",
    "    lAdded = False\n",
    "    for cl in clusters:\n",
    "      if len(cl & lSisters) > CLUSTER_THRESHOLD * len(cl):\n",
    "        cl.add(l)\n",
    "        lAdded = True\n",
    "        break\n",
    "    if not lAdded:\n",
    "      clusters.append({l})\n",
    "  info(f'{j} lines and {len(clusters)} clusters')\n",
    "  return clusters"
   ]
  },
  {
   "cell_type": "code",
   "execution_count": 16,
   "metadata": {},
   "outputs": [
    {
     "name": "stdout",
     "output_type": "stream",
     "text": [
      "  0.13s  1000 lines and   979 clusters\n",
      "  0.47s  2000 lines and  1956 clusters\n",
      "  1.03s  3000 lines and  2927 clusters\n",
      "  1.80s  4000 lines and  3867 clusters\n",
      "  2.81s  5000 lines and  4822 clusters\n",
      "  3.99s  6000 lines and  5770 clusters\n",
      "  5.37s  7000 lines and  6696 clusters\n",
      "  6.94s  8000 lines and  7519 clusters\n",
      "  8.64s  9000 lines and  8411 clusters\n",
      "    10s 10000 lines and  9223 clusters\n",
      "    12s 11000 lines and  9988 clusters\n",
      "    14s 12000 lines and 10761 clusters\n",
      "    17s 13000 lines and 11522 clusters\n",
      "    19s 14000 lines and 12330 clusters\n",
      "    22s 15000 lines and 13270 clusters\n",
      "    25s 16000 lines and 14110 clusters\n",
      "    28s 17000 lines and 14997 clusters\n",
      "    32s 18000 lines and 15776 clusters\n",
      "    35s 19000 lines and 16553 clusters\n",
      "    39s 20000 lines and 17369 clusters\n",
      "    42s 21000 lines and 18178 clusters\n",
      "    46s 22000 lines and 18926 clusters\n",
      "    50s 23000 lines and 19778 clusters\n",
      "    54s 24000 lines and 20657 clusters\n",
      "    59s 25000 lines and 21487 clusters\n",
      " 1m 04s 26000 lines and 22273 clusters\n",
      " 1m 09s 27000 lines and 23142 clusters\n",
      " 1m 13s 28000 lines and 23972 clusters\n",
      " 1m 19s 29000 lines and 24889 clusters\n",
      " 1m 24s 30000 lines and 25778 clusters\n",
      " 1m 30s 31000 lines and 26613 clusters\n",
      " 1m 36s 32000 lines and 27470 clusters\n",
      " 1m 42s 33000 lines and 28311 clusters\n",
      " 1m 48s 34000 lines and 29167 clusters\n",
      " 1m 55s 35000 lines and 30042 clusters\n",
      " 2m 01s 36000 lines and 30813 clusters\n",
      " 2m 08s 37000 lines and 31662 clusters\n",
      " 2m 15s 38000 lines and 32604 clusters\n",
      " 2m 23s 39000 lines and 33428 clusters\n",
      " 2m 30s 40000 lines and 34250 clusters\n",
      " 2m 38s 41000 lines and 35036 clusters\n",
      " 2m 46s 42000 lines and 35783 clusters\n",
      " 2m 54s 43000 lines and 36594 clusters\n",
      " 3m 02s 44000 lines and 37259 clusters\n",
      " 3m 11s 45000 lines and 38243 clusters\n",
      " 3m 19s 46000 lines and 38906 clusters\n",
      " 3m 28s 47000 lines and 39651 clusters\n",
      " 3m 38s 48000 lines and 40572 clusters\n",
      " 3m 47s 49000 lines and 41503 clusters\n",
      " 3m 57s 50000 lines and 42206 clusters\n",
      " 4m 06s 51000 lines and 42946 clusters\n",
      " 4m 16s 52000 lines and 43626 clusters\n",
      " 4m 25s 52895 lines and 44322 clusters\n"
     ]
    }
   ],
   "source": [
    "clusters = makeClusters()"
   ]
  },
  {
   "cell_type": "markdown",
   "metadata": {},
   "source": [
    "What is the distribution of the clusters, in terms of how many similar lines they contain?\n",
    "We count them."
   ]
  },
  {
   "cell_type": "code",
   "execution_count": 17,
   "metadata": {},
   "outputs": [
    {
     "name": "stdout",
     "output_type": "stream",
     "text": [
      "clusters of size   99:     1\n",
      "clusters of size   70:     1\n",
      "clusters of size   54:     1\n",
      "clusters of size   52:     1\n",
      "clusters of size   45:     1\n",
      "clusters of size   42:     2\n",
      "clusters of size   36:     1\n",
      "clusters of size   33:     2\n",
      "clusters of size   32:     1\n",
      "clusters of size   27:     3\n",
      "clusters of size   25:     2\n",
      "clusters of size   24:     1\n",
      "clusters of size   21:     2\n",
      "clusters of size   20:     1\n",
      "clusters of size   18:     1\n",
      "clusters of size   17:     3\n",
      "clusters of size   16:     3\n",
      "clusters of size   15:     2\n",
      "clusters of size   14:     3\n",
      "clusters of size   13:     8\n",
      "clusters of size   12:    11\n",
      "clusters of size   11:    12\n",
      "clusters of size   10:    17\n",
      "clusters of size    9:    15\n",
      "clusters of size    8:    24\n",
      "clusters of size    7:    31\n",
      "clusters of size    6:    59\n",
      "clusters of size    5:    84\n",
      "clusters of size    4:   246\n",
      "clusters of size    3:   600\n",
      "clusters of size    2:  4128\n",
      "clusters of size    1: 39055\n"
     ]
    }
   ],
   "source": [
    "clusterSizes = collections.Counter()\n",
    "\n",
    "for cl in clusters:\n",
    "  clusterSizes[len(cl)] += 1\n",
    "  \n",
    "for (size, amount) in sorted(\n",
    "  clusterSizes.items(),\n",
    "  key=lambda x: (-x[0], x[1]),\n",
    "):\n",
    "  print(f'clusters of size {size:>4}: {amount:>5}')"
   ]
  },
  {
   "cell_type": "markdown",
   "metadata": {},
   "source": [
    "# Interesting groups\n",
    "\n",
    "Exercise: investigate some interesting groups, that lie in some sweet spots.\n",
    "\n",
    "* the biggest clusters: more than 13 members\n",
    "* the medium clusters: between 5 and 13 members\n",
    "* the small clusters: between 2 and 4 members"
   ]
  },
  {
   "cell_type": "markdown",
   "metadata": {},
   "source": [
    "---\n",
    "\n",
    "All chapters:\n",
    "\n",
    "* **[start](start.ipynb)** become an expert in creating pretty displays of your text structures\n",
    "* **[display](display.ipynb)** become an expert in creating pretty displays of your text structures\n",
    "* **[search](search.ipynb)** turbo charge your hand-coding with search templates\n",
    "* **[exportExcel](exportExcel.ipynb)** make tailor-made spreadsheets out of your results\n",
    "* **[share](share.ipynb)** draw in other people's data and let them use yours\n",
    "* **similarLines** spot the similarities between lines\n",
    "\n",
    "---\n",
    "\n",
    "See the [cookbook](cookbook) for recipes for small, concrete tasks."
   ]
  }
 ],
 "metadata": {
  "kernelspec": {
   "display_name": "Python 3",
   "language": "python",
   "name": "python3"
  },
  "language_info": {
   "codemirror_mode": {
    "name": "ipython",
    "version": 3
   },
   "file_extension": ".py",
   "mimetype": "text/x-python",
   "name": "python",
   "nbconvert_exporter": "python",
   "pygments_lexer": "ipython3",
   "version": "3.7.2"
  }
 },
 "nbformat": 4,
 "nbformat_minor": 2
}
