{
 "cells": [
  {
   "cell_type": "markdown",
   "metadata": {},
   "source": [
    "<img align=\"right\" src=\"images/tf.png\" width=\"128\"/>\n",
    "<img align=\"right\" src=\"images/logo.png\" width=\"128\"/>\n",
    "<img align=\"right\" src=\"images/etcbc.png\" width=\"128\"/>\n",
    "<img align=\"right\" src=\"images/dans.png\" width=\"128\"/>\n",
    "\n",
    "---\n",
    "\n",
    "To get started: consult [start](start.ipynb)\n",
    "\n",
    "---\n",
    "\n",
    "# Export to Excel\n",
    "\n",
    "In a notebook, you can perform searches and view them in a tabular display and zoom in on items with\n",
    "pretty displays.\n",
    "\n",
    "But there are times that you want to take your results outside Text-Fabric, outside a notebook, outside Python, and just\n",
    "work with them in other programs, such as Excel.\n",
    "\n",
    "You want to do that not only with query results, but with all kinds of lists of tuples of nodes.\n",
    "\n",
    "There is a function for that, `A.export()`, and here we show what it can do."
   ]
  },
  {
   "cell_type": "code",
   "execution_count": 1,
   "metadata": {},
   "outputs": [],
   "source": [
    "%load_ext autoreload\n",
    "%autoreload 2"
   ]
  },
  {
   "cell_type": "code",
   "execution_count": 2,
   "metadata": {
    "ExecuteTime": {
     "end_time": "2018-05-24T10:06:39.818664Z",
     "start_time": "2018-05-24T10:06:39.796588Z"
    }
   },
   "outputs": [],
   "source": [
    "import os\n",
    "from tf.app import use"
   ]
  },
  {
   "cell_type": "code",
   "execution_count": 3,
   "metadata": {},
   "outputs": [
    {
     "name": "stdout",
     "output_type": "stream",
     "text": [
      "Using TF-app in /Users/dirk/github/annotation/app-dss/code:\n",
      "\trepo clone offline under ~/github (local github)\n",
      "Using data in /Users/dirk/github/etcbc/dss/tf/0.6:\n",
      "\trepo clone offline under ~/github (local github)\n",
      "Using data in /Users/dirk/github/etcbc/dss/parallels/tf/0.6:\n",
      "\trepo clone offline under ~/github (local github)\n",
      "   |     0.00s No structure info in otext, the structure part of the T-API cannot be used\n"
     ]
    },
    {
     "data": {
      "text/html": [
       "<b>Documentation:</b> <a target=\"_blank\" href=\"https://github.com/etcbc/dss/blob/master/docs/\" title=\"provenance of Dead Sea Scrolls\">DSS</a> <a target=\"_blank\" href=\"https://annotation.github.io/text-fabric/Writing/Hebrew.html\" title=\"Hebrew characters and transcriptions\">Character table</a> <a target=\"_blank\" href=\"https://github.com/etcbc/dss/blob/master/docs//transcription.md\" title=\"DSS feature documentation\">Feature docs</a> <a target=\"_blank\" href=\"https://github.com/annotation/app-dss\" title=\"dss API documentation\">dss API</a> <a target=\"_blank\" href=\"https://annotation.github.io/text-fabric/Api/Fabric/\" title=\"text-fabric-api\">Text-Fabric API 7.11.1</a> <a target=\"_blank\" href=\"https://annotation.github.io/text-fabric/Use/Search/\" title=\"Search Templates Introduction and Reference\">Search Reference</a><details open><summary><b>Loaded features</b>:</summary>\n",
       "<p><b>Dead Sea Scrolls</b>: <a target=\"_blank\" href=\"https://github.com/etcbc/dss/blob/master/docs//transcription.md\" title=\"/Users/dirk/github/etcbc/dss/tf/0.6/after.tf\">after</a>  <a target=\"_blank\" href=\"https://github.com/etcbc/dss/blob/master/docs//transcription.md\" title=\"/Users/dirk/github/etcbc/dss/tf/0.6/alt.tf\">alt</a>  <a target=\"_blank\" href=\"https://github.com/etcbc/dss/blob/master/docs//transcription.md\" title=\"/Users/dirk/github/etcbc/dss/tf/0.6/biblical.tf\">biblical</a>  <a target=\"_blank\" href=\"https://github.com/etcbc/dss/blob/master/docs//transcription.md\" title=\"/Users/dirk/github/etcbc/dss/tf/0.6/book.tf\">book</a>  <a target=\"_blank\" href=\"https://github.com/etcbc/dss/blob/master/docs//transcription.md\" title=\"/Users/dirk/github/etcbc/dss/tf/0.6/chapter.tf\">chapter</a>  <a target=\"_blank\" href=\"https://github.com/etcbc/dss/blob/master/docs//transcription.md\" title=\"/Users/dirk/github/etcbc/dss/tf/0.6/cl.tf\">cl</a>  <a target=\"_blank\" href=\"https://github.com/etcbc/dss/blob/master/docs//transcription.md\" title=\"/Users/dirk/github/etcbc/dss/tf/0.6/cl2.tf\">cl2</a>  <a target=\"_blank\" href=\"https://github.com/etcbc/dss/blob/master/docs//transcription.md\" title=\"/Users/dirk/github/etcbc/dss/tf/0.6/cor.tf\">cor</a>  <a target=\"_blank\" href=\"https://github.com/etcbc/dss/blob/master/docs//transcription.md\" title=\"/Users/dirk/github/etcbc/dss/tf/0.6/fragment.tf\">fragment</a>  <a target=\"_blank\" href=\"https://github.com/etcbc/dss/blob/master/docs//transcription.md\" title=\"/Users/dirk/github/etcbc/dss/tf/0.6/full.tf\">full</a>  <a target=\"_blank\" href=\"https://github.com/etcbc/dss/blob/master/docs//transcription.md\" title=\"/Users/dirk/github/etcbc/dss/tf/0.6/fulle.tf\">fulle</a>  <a target=\"_blank\" href=\"https://github.com/etcbc/dss/blob/master/docs//transcription.md\" title=\"/Users/dirk/github/etcbc/dss/tf/0.6/fullo.tf\">fullo</a>  <a target=\"_blank\" href=\"https://github.com/etcbc/dss/blob/master/docs//transcription.md\" title=\"/Users/dirk/github/etcbc/dss/tf/0.6/glex.tf\">glex</a>  <a target=\"_blank\" href=\"https://github.com/etcbc/dss/blob/master/docs//transcription.md\" title=\"/Users/dirk/github/etcbc/dss/tf/0.6/glexe.tf\">glexe</a>  <a target=\"_blank\" href=\"https://github.com/etcbc/dss/blob/master/docs//transcription.md\" title=\"/Users/dirk/github/etcbc/dss/tf/0.6/glexo.tf\">glexo</a>  <a target=\"_blank\" href=\"https://github.com/etcbc/dss/blob/master/docs//transcription.md\" title=\"/Users/dirk/github/etcbc/dss/tf/0.6/glyph.tf\">glyph</a>  <a target=\"_blank\" href=\"https://github.com/etcbc/dss/blob/master/docs//transcription.md\" title=\"/Users/dirk/github/etcbc/dss/tf/0.6/glyphe.tf\">glyphe</a>  <a target=\"_blank\" href=\"https://github.com/etcbc/dss/blob/master/docs//transcription.md\" title=\"/Users/dirk/github/etcbc/dss/tf/0.6/glypho.tf\">glypho</a>  <a target=\"_blank\" href=\"https://github.com/etcbc/dss/blob/master/docs//transcription.md\" title=\"/Users/dirk/github/etcbc/dss/tf/0.6/gn.tf\">gn</a>  <a target=\"_blank\" href=\"https://github.com/etcbc/dss/blob/master/docs//transcription.md\" title=\"/Users/dirk/github/etcbc/dss/tf/0.6/gn2.tf\">gn2</a>  <a target=\"_blank\" href=\"https://github.com/etcbc/dss/blob/master/docs//transcription.md\" title=\"/Users/dirk/github/etcbc/dss/tf/0.6/gn3.tf\">gn3</a>  <a target=\"_blank\" href=\"https://github.com/etcbc/dss/blob/master/docs//transcription.md\" title=\"/Users/dirk/github/etcbc/dss/tf/0.6/halfverse.tf\">halfverse</a>  <a target=\"_blank\" href=\"https://github.com/etcbc/dss/blob/master/docs//transcription.md\" title=\"/Users/dirk/github/etcbc/dss/tf/0.6/intl.tf\">intl</a>  <a target=\"_blank\" href=\"https://github.com/etcbc/dss/blob/master/docs//transcription.md\" title=\"/Users/dirk/github/etcbc/dss/tf/0.6/lang.tf\">lang</a>  <a target=\"_blank\" href=\"https://github.com/etcbc/dss/blob/master/docs//transcription.md\" title=\"/Users/dirk/github/etcbc/dss/tf/0.6/lex.tf\">lex</a>  <a target=\"_blank\" href=\"https://github.com/etcbc/dss/blob/master/docs//transcription.md\" title=\"/Users/dirk/github/etcbc/dss/tf/0.6/lexe.tf\">lexe</a>  <a target=\"_blank\" href=\"https://github.com/etcbc/dss/blob/master/docs//transcription.md\" title=\"/Users/dirk/github/etcbc/dss/tf/0.6/lexo.tf\">lexo</a>  <a target=\"_blank\" href=\"https://github.com/etcbc/dss/blob/master/docs//transcription.md\" title=\"/Users/dirk/github/etcbc/dss/tf/0.6/line.tf\">line</a>  <a target=\"_blank\" href=\"https://github.com/etcbc/dss/blob/master/docs//transcription.md\" title=\"/Users/dirk/github/etcbc/dss/tf/0.6/md.tf\">md</a>  <a target=\"_blank\" href=\"https://github.com/etcbc/dss/blob/master/docs//transcription.md\" title=\"/Users/dirk/github/etcbc/dss/tf/0.6/merr.tf\">merr</a>  <a target=\"_blank\" href=\"https://github.com/etcbc/dss/blob/master/docs//transcription.md\" title=\"/Users/dirk/github/etcbc/dss/tf/0.6/morpho.tf\">morpho</a>  <a target=\"_blank\" href=\"https://github.com/etcbc/dss/blob/master/docs//transcription.md\" title=\"/Users/dirk/github/etcbc/dss/tf/0.6/nu.tf\">nu</a>  <a target=\"_blank\" href=\"https://github.com/etcbc/dss/blob/master/docs//transcription.md\" title=\"/Users/dirk/github/etcbc/dss/tf/0.6/nu2.tf\">nu2</a>  <a target=\"_blank\" href=\"https://github.com/etcbc/dss/blob/master/docs//transcription.md\" title=\"/Users/dirk/github/etcbc/dss/tf/0.6/nu3.tf\">nu3</a>  <a target=\"_blank\" href=\"https://github.com/etcbc/dss/blob/master/docs//transcription.md\" title=\"/Users/dirk/github/etcbc/dss/tf/0.6/otype.tf\">otype</a>  <a target=\"_blank\" href=\"https://github.com/etcbc/dss/blob/master/docs//transcription.md\" title=\"/Users/dirk/github/etcbc/dss/tf/0.6/ps.tf\">ps</a>  <a target=\"_blank\" href=\"https://github.com/etcbc/dss/blob/master/docs//transcription.md\" title=\"/Users/dirk/github/etcbc/dss/tf/0.6/ps2.tf\">ps2</a>  <a target=\"_blank\" href=\"https://github.com/etcbc/dss/blob/master/docs//transcription.md\" title=\"/Users/dirk/github/etcbc/dss/tf/0.6/ps3.tf\">ps3</a>  <a target=\"_blank\" href=\"https://github.com/etcbc/dss/blob/master/docs//transcription.md\" title=\"/Users/dirk/github/etcbc/dss/tf/0.6/punc.tf\">punc</a>  <a target=\"_blank\" href=\"https://github.com/etcbc/dss/blob/master/docs//transcription.md\" title=\"/Users/dirk/github/etcbc/dss/tf/0.6/punce.tf\">punce</a>  <a target=\"_blank\" href=\"https://github.com/etcbc/dss/blob/master/docs//transcription.md\" title=\"/Users/dirk/github/etcbc/dss/tf/0.6/punco.tf\">punco</a>  <a target=\"_blank\" href=\"https://github.com/etcbc/dss/blob/master/docs//transcription.md\" title=\"/Users/dirk/github/etcbc/dss/tf/0.6/rec.tf\">rec</a>  <a target=\"_blank\" href=\"https://github.com/etcbc/dss/blob/master/docs//transcription.md\" title=\"/Users/dirk/github/etcbc/dss/tf/0.6/rem.tf\">rem</a>  <a target=\"_blank\" href=\"https://github.com/etcbc/dss/blob/master/docs//transcription.md\" title=\"/Users/dirk/github/etcbc/dss/tf/0.6/script.tf\">script</a>  <a target=\"_blank\" href=\"https://github.com/etcbc/dss/blob/master/docs//transcription.md\" title=\"/Users/dirk/github/etcbc/dss/tf/0.6/scroll.tf\">scroll</a>  <a target=\"_blank\" href=\"https://github.com/etcbc/dss/blob/master/docs//transcription.md\" title=\"/Users/dirk/github/etcbc/dss/tf/0.6/sp.tf\">sp</a>  <a target=\"_blank\" href=\"https://github.com/etcbc/dss/blob/master/docs//transcription.md\" title=\"/Users/dirk/github/etcbc/dss/tf/0.6/srcLn.tf\">srcLn</a>  <a target=\"_blank\" href=\"https://github.com/etcbc/dss/blob/master/docs//transcription.md\" title=\"/Users/dirk/github/etcbc/dss/tf/0.6/st.tf\">st</a>  <a target=\"_blank\" href=\"https://github.com/etcbc/dss/blob/master/docs//transcription.md\" title=\"/Users/dirk/github/etcbc/dss/tf/0.6/type.tf\">type</a>  <a target=\"_blank\" href=\"https://github.com/etcbc/dss/blob/master/docs//transcription.md\" title=\"/Users/dirk/github/etcbc/dss/tf/0.6/unc.tf\">unc</a>  <a target=\"_blank\" href=\"https://github.com/etcbc/dss/blob/master/docs//transcription.md\" title=\"/Users/dirk/github/etcbc/dss/tf/0.6/vac.tf\">vac</a>  <a target=\"_blank\" href=\"https://github.com/etcbc/dss/blob/master/docs//transcription.md\" title=\"/Users/dirk/github/etcbc/dss/tf/0.6/verse.tf\">verse</a>  <a target=\"_blank\" href=\"https://github.com/etcbc/dss/blob/master/docs//transcription.md\" title=\"/Users/dirk/github/etcbc/dss/tf/0.6/vs.tf\">vs</a>  <a target=\"_blank\" href=\"https://github.com/etcbc/dss/blob/master/docs//transcription.md\" title=\"/Users/dirk/github/etcbc/dss/tf/0.6/vt.tf\">vt</a>  <b><i><a target=\"_blank\" href=\"https://github.com/etcbc/dss/blob/master/docs//transcription.md\" title=\"/Users/dirk/github/etcbc/dss/tf/0.6/occ.tf\">occ</a></i></b>  <b><i><a target=\"_blank\" href=\"https://github.com/etcbc/dss/blob/master/docs//transcription.md\" title=\"/Users/dirk/github/etcbc/dss/tf/0.6/oslots.tf\">oslots</a></i></b> </p><p><b>Parallel Passages</b>: <b><i><a target=\"_blank\" href=\"https://nbviewer.jupyter.org/github/etcbc/dss/blob/master/programs/parallels.ipynb\" title=\"/Users/dirk/github/etcbc/dss/parallels/tf/0.6/sim.tf\">sim</a></i></b> </p></details>"
      ],
      "text/plain": [
       "<IPython.core.display.HTML object>"
      ]
     },
     "metadata": {},
     "output_type": "display_data"
    },
    {
     "data": {
      "text/html": [
       "<style>\n",
       "@font-face {\n",
       "  font-family: \"Ezra SIL\";\n",
       "  src:\n",
       "    local(\"SILEOT.ttf\"),\n",
       "    url(\"https://github.com/annotation/text-fabric/blob/master/tf/server/static/fonts/SILEOT.woff?raw=true\");\n",
       "}\n",
       ".features {\n",
       "    font-family: monospace;\n",
       "    font-size: medium;\n",
       "    font-weight: bold;\n",
       "    color: #0a6611;\n",
       "    display: flex;\n",
       "    flex-flow: column nowrap;\n",
       "    justify-content: flex-start;\n",
       "    align-items: flex-start;\n",
       "    align-content: flex-start;\n",
       "    padding: 0.1em;\n",
       "    margin: 0.1em;\n",
       "    direction: ltr;\n",
       "}\n",
       ".features div,.features span {\n",
       "    padding: 0;\n",
       "    margin: -0.1rem 0;\n",
       "}\n",
       ".features .f {\n",
       "    font-family: sans-serif;\n",
       "    font-size: x-small;\n",
       "    font-weight: normal;\n",
       "    color: #5555bb;\n",
       "}\n",
       ".features .xft {\n",
       "  color: #000000;\n",
       "  background-color: #eeeeee;\n",
       "  font-size: medium;\n",
       "  margin: 0.1em 0em;\n",
       "}\n",
       ".features .xft .f {\n",
       "  color: #000000;\n",
       "  background-color: #eeeeee;\n",
       "  font-style: italic;\n",
       "  font-size: small;\n",
       "  font-weight: normal;\n",
       "}\n",
       ".ltr {\n",
       "    direction: ltr ! important;\n",
       "}\n",
       ".rtl {\n",
       "    direction: rtl ! important;\n",
       "}\n",
       ".verse {\n",
       "    display: flex;\n",
       "    flex-flow: row wrap;\n",
       "    direction: rtl;\n",
       "}\n",
       ".vl {\n",
       "    display: flex;\n",
       "    flex-flow: column nowrap;\n",
       "    justify-content: flex-end;\n",
       "    align-items: flex-end;\n",
       "    direction: ltr;\n",
       "    width: 100%;\n",
       "}\n",
       ".vn {\n",
       "  font-size: small !important;\n",
       "  padding-right: 1em;\n",
       "}\n",
       ".vrs {\n",
       "    font-family: sans-serif;\n",
       "    font-size: small;\n",
       "    font-weight: bold;\n",
       "    color: #444444;\n",
       "}\n",
       ".outerplain {\n",
       "    direction: rtl;\n",
       "}\n",
       ".nd {\n",
       "    font-family: monospace;\n",
       "    font-size: x-small;\n",
       "    color: #999999;\n",
       "}\n",
       ".txtn,.txtn a:visited,.txtn a:link {\n",
       "    font-family: sans-serif;\n",
       "    font-size: normal;\n",
       "    text-decoration: none;\n",
       "    direction: ltr;\n",
       "}\n",
       ".txte,.txte a:visited,.txte a:link {\n",
       "    font-family: monospace;\n",
       "    font-size: normal;\n",
       "    text-decoration: none;\n",
       "    direction: ltr;\n",
       "}\n",
       ".txto,.txto a:visited,.txto a:link {\n",
       "    font-family: serif;\n",
       "    font-size: large;\n",
       "    text-decoration: none;\n",
       "    direction: ltr;\n",
       "}\n",
       ".txtu,.txtu a:visited,.txtu a:link {\n",
       "    font-family: \"Ezra SIL\", \"SBL Hebrew\", sans-serif;\n",
       "    font-size: x-large;\n",
       "    text-decoration: none;\n",
       "    direction: rtl;\n",
       "    unicode-bidi: embed;\n",
       "}\n",
       ".full,.glyph,.lex,.punc {\n",
       "    font-family: \"Ezra SIL\", \"SBL Hebrew\", sans-serif;\n",
       "}\n",
       ".lex {\n",
       "  color: mediumblue;\n",
       "}\n",
       ".meta {\n",
       "    display: flex;\n",
       "    justify-content: flex-start;\n",
       "    align-items: flex-start;\n",
       "    align-content: flex-start;\n",
       "    flex-flow: row nowrap;\n",
       "}\n",
       ".children {\n",
       "    display: flex;\n",
       "    justify-content: flex-start;\n",
       "    align-items: flex-start;\n",
       "    align-content: flex-start;\n",
       "    border: 0;\n",
       "    background-color: #ffffff;\n",
       "}\n",
       ".children.scroll {\n",
       "    flex-flow: column nowrap;\n",
       "}\n",
       ".children.fragment {\n",
       "    flex-flow: column nowrap;\n",
       "}\n",
       ".children.line {\n",
       "    align-items: stretch;\n",
       "    flex-flow: row wrap;\n",
       "}\n",
       ".children.cluster {\n",
       "    flex-flow: row wrap;\n",
       "}\n",
       ".children.word {\n",
       "    align-items: stretch;\n",
       "    flex-flow: row nowrap;\n",
       "}\n",
       ".children.sign {\n",
       "    flex-flow: column nowrap;\n",
       "}\n",
       ".contnr {\n",
       "    width: fit-content;\n",
       "    direction: rtl;\n",
       "}\n",
       ".contnr.scroll,.contnr.fragment,\n",
       ".contnr.line,\n",
       ".contnr.cluster,\n",
       ".contnr.word,\n",
       ".contnr.sign {\n",
       "    display: flex;\n",
       "    justify-content: flex-start;\n",
       "    align-items: flex-start;\n",
       "    align-content: flex-start;\n",
       "    flex-flow: column nowrap;\n",
       "    background: #ffffff none repeat scroll 0 0;\n",
       "    padding:  0.5em 0.1em 0.1em 0.1em;\n",
       "    margin: 0.8em 0.1em 0.1em 0.1em;\n",
       "    border-radius: 0.2em;\n",
       "    border-style: solid;\n",
       "    border-width: 0.2em;\n",
       "    font-size: small;\n",
       "}\n",
       ".contnr.scroll,.contnr.fragment {\n",
       "    border-color: #bb8800;\n",
       "}\n",
       ".contnr.line {\n",
       "    border-color: #0088bb;\n",
       "}\n",
       ".contnr.cluster {\n",
       "    flex-flow: row wrap;\n",
       "    border: 0;\n",
       "}\n",
       ".contnr.word {\n",
       "    border-color: #44bbff;\n",
       "}\n",
       ".contnr.sign {\n",
       "    border-color: #bbbbbb;\n",
       "}\n",
       ".contnr.hl {\n",
       "    background-color: #ffee66;\n",
       "}\n",
       ".lbl.scroll,.lbl.fragment,\n",
       ".lbl.line,\n",
       ".lbl.cluster,\n",
       ".lbl.sign,.lbl.word {\n",
       "    margin-top: -1.2em;\n",
       "    margin-left: 1em;\n",
       "    background: #ffffff none repeat scroll 0 0;\n",
       "    padding: 0 0.3em;\n",
       "    border-style: solid;\n",
       "    font-size: small;\n",
       "    display: block;\n",
       "}\n",
       ".lbl.scroll,.lbl.fragment {\n",
       "    border-color: #bb8800;\n",
       "    border-width: 0.3em;\n",
       "    border-radius: 0.3em;\n",
       "    color: #bb8800;\n",
       "}\n",
       ".lbl.line {\n",
       "    border-color: #0088bb;\n",
       "    border-width: 0.3em;\n",
       "    border-radius: 0.3em;\n",
       "    color: #0088bb;\n",
       "}\n",
       ".lbl.cluster {\n",
       "    border-color: #dddddd;\n",
       "    border-width: 0.2em;\n",
       "    border-radius: 0.2em;\n",
       "    color: #0000cc;\n",
       "}\n",
       ".lbl.word {\n",
       "    border-color: #44bbff;\n",
       "    border-width: 0.2em;\n",
       "    border-radius: 0.2em;\n",
       "    font-size: medium;\n",
       "    color: #000000;\n",
       "}\n",
       ".lbl.sign {\n",
       "    border-color: #bbbbbb;\n",
       "    border-width: 0.1em;\n",
       "    border-radius: 0.1em;\n",
       "    font-size: small;\n",
       "    color: #000000;\n",
       "}\n",
       ".name {\n",
       "    font-family: monospace;\n",
       "    font-size: medium;\n",
       "    color: #0000bb;\n",
       "}\n",
       ".text {\n",
       "    font-family: sans-serif;\n",
       "    font-size: x-small;\n",
       "    color: #000000;\n",
       "}\n",
       ".srcln {\n",
       "    font-family: monospace;\n",
       "    font-size: x-small;\n",
       "    color: #0000bb;\n",
       "}\n",
       ".scriptpaleohebrew {\n",
       "    border: 1px dashed navy;\n",
       "}\n",
       ".scriptgreekcapital {\n",
       "    border: 1px dashed brown;\n",
       "}\n",
       ".langa {\n",
       "    text-decoration: underline;\n",
       "}\n",
       ".intl1 {\n",
       "    vertical-align: -0.25em;\n",
       "}\n",
       ".intl2 {\n",
       "    vertical-align: -0.5em;\n",
       "}\n",
       ".langg {\n",
       "    font-family: serif;\n",
       "    text-decoration: underline;\n",
       "}\n",
       ".vac1 {\n",
       "    background-color: #aaaaaa;\n",
       "    border 2pt solid #dd3333;\n",
       "    border-radius: 4pt;\n",
       "}\n",
       ".rem1 {\n",
       "    font-weight: bold;\n",
       "    color: red;\n",
       "    text-decoration: line-through;\n",
       "}\n",
       ".rem2 {\n",
       "    font-weight: bold;\n",
       "    color: maroon;\n",
       "    text-decoration: line-through;\n",
       "}\n",
       ".rec1 {\n",
       "    color: teal;\n",
       "    font-size: 80%;\n",
       "}\n",
       ".cor1 {\n",
       "    font-weight: bold;\n",
       "    color: dodgerblue;\n",
       "    text-decoration: overline;\n",
       "}\n",
       ".cor2 {\n",
       "    font-weight: bold;\n",
       "    color: navy;\n",
       "    text-decoration: overline;\n",
       "}\n",
       ".cor3 {\n",
       "    font-weight: bold;\n",
       "    color: navy;\n",
       "    text-decoration: overline;\n",
       "    vertical-align: super;\n",
       "}\n",
       ".alt1 {\n",
       "    text-decoration: overline;\n",
       "}\n",
       "\n",
       "/* UNSURE: italic*/\n",
       "\n",
       ".unc1 {\n",
       "    font-weight: bold;\n",
       "    color: #888888;\n",
       "}\n",
       ".unc2 {\n",
       "    font-weight: bold;\n",
       "    color: #bbbbbb;\n",
       "}\n",
       ".unc3 {\n",
       "    font-weight: bold;\n",
       "    color: #bbbbbb;\n",
       "    text-shadow: #cccccc 1px 1px;\n",
       "}\n",
       ".unc4 {\n",
       "    font-weight: bold;\n",
       "    color: #dddddd;\n",
       "    text-shadow: #eeeeee 2px 2px;\n",
       "}\n",
       "\n",
       ".empty {\n",
       "  color: #ff0000;\n",
       "}\n",
       "\n",
       "\n",
       "tr.tf, td.tf, th.tf {\n",
       "  text-align: left;\n",
       "}\n",
       "\n",
       "span.hldot {\n",
       "\tbackground-color: var(--hl-strong);\n",
       "\tborder: 0.2rem solid var(--hl-rim);\n",
       "\tborder-radius: 0.4rem;\n",
       "\t/*\n",
       "\tdisplay: inline-block;\n",
       "\twidth: 0.8rem;\n",
       "\theight: 0.8rem;\n",
       "\t*/\n",
       "}\n",
       "span.hl {\n",
       "\tbackground-color: var(--hl-strong);\n",
       "\tborder-width: 0;\n",
       "\tborder-radius: 0.1rem;\n",
       "\tborder-style: solid;\n",
       "}\n",
       "\n",
       "span.hlbx {\n",
       "\tborder-color: var(--hl-dark);\n",
       "\tborder-width: 0.1rem;\n",
       "\tborder-style: solid;\n",
       "\tborder-radius: 0.2rem;\n",
       "  padding: 0.2rem;\n",
       "  margin: 0.2rem;\n",
       "}\n",
       "\n",
       "span.plain {\n",
       "  display: inline-block;\n",
       "  white-space: pre-wrap;\n",
       "}\n",
       "\n",
       ":root {\n",
       "\t--hl-strong:        hsla( 60, 100%,  70%, 0.9  );\n",
       "\t--hl-rim:           hsla( 55, 100%,  60%, 0.9  );\n",
       "\t--hl-dark:          hsla( 55, 100%,  40%, 0.9  );\n",
       "}\n",
       "</style>"
      ],
      "text/plain": [
       "<IPython.core.display.HTML object>"
      ]
     },
     "metadata": {},
     "output_type": "display_data"
    },
    {
     "data": {
      "text/html": [
       "<details open><summary><b>API members</b>:</summary>\n",
       "<a target=\"_blank\" href=\"https://annotation.github.io/text-fabric/Api/Computed/#computed-data\" title=\"doc\">C Computed</a>, <a target=\"_blank\" href=\"https://annotation.github.io/text-fabric/Api/Computed/#computed-data\" title=\"doc\">Call AllComputeds</a>, <a target=\"_blank\" href=\"https://annotation.github.io/text-fabric/Api/Computed/#computed-data\" title=\"doc\">Cs ComputedString</a><br/>\n",
       "<a target=\"_blank\" href=\"https://annotation.github.io/text-fabric/Api/Features/#edge-features\" title=\"doc\">E Edge</a>, <a target=\"_blank\" href=\"https://annotation.github.io/text-fabric/Api/Features/#edge-features\" title=\"doc\">Eall AllEdges</a>, <a target=\"_blank\" href=\"https://annotation.github.io/text-fabric/Api/Features/#edge-features\" title=\"doc\">Es EdgeString</a><br/>\n",
       "<a target=\"_blank\" href=\"https://annotation.github.io/text-fabric/Api/Fabric/#loading\" title=\"doc\">ensureLoaded</a>, <a target=\"_blank\" href=\"https://annotation.github.io/text-fabric/Api/Fabric/#loading\" title=\"doc\">TF</a>, <a target=\"_blank\" href=\"https://annotation.github.io/text-fabric/Api/Fabric/#loading\" title=\"doc\">ignored</a>, <a target=\"_blank\" href=\"https://annotation.github.io/text-fabric/Api/Fabric/#loading\" title=\"doc\">loadLog</a><br/>\n",
       "<a target=\"_blank\" href=\"https://annotation.github.io/text-fabric/Api/Locality/#locality\" title=\"doc\">L Locality</a><br/>\n",
       "<a target=\"_blank\" href=\"https://annotation.github.io/text-fabric/Api/Misc/#messaging\" title=\"doc\">cache</a>, <a target=\"_blank\" href=\"https://annotation.github.io/text-fabric/Api/Misc/#messaging\" title=\"doc\">error</a>, <a target=\"_blank\" href=\"https://annotation.github.io/text-fabric/Api/Misc/#messaging\" title=\"doc\">indent</a>, <a target=\"_blank\" href=\"https://annotation.github.io/text-fabric/Api/Misc/#messaging\" title=\"doc\">info</a>, <a target=\"_blank\" href=\"https://annotation.github.io/text-fabric/Api/Misc/#messaging\" title=\"doc\">isSilent</a>, <a target=\"_blank\" href=\"https://annotation.github.io/text-fabric/Api/Misc/#messaging\" title=\"doc\">reset</a>, <a target=\"_blank\" href=\"https://annotation.github.io/text-fabric/Api/Misc/#messaging\" title=\"doc\">setSilent</a>, <a target=\"_blank\" href=\"https://annotation.github.io/text-fabric/Api/Misc/#messaging\" title=\"doc\">silentOff</a>, <a target=\"_blank\" href=\"https://annotation.github.io/text-fabric/Api/Misc/#messaging\" title=\"doc\">silentOn</a>, <a target=\"_blank\" href=\"https://annotation.github.io/text-fabric/Api/Misc/#messaging\" title=\"doc\">warning</a><br/>\n",
       "<a target=\"_blank\" href=\"https://annotation.github.io/text-fabric/Api/Nodes/#navigating-nodes\" title=\"doc\">N Nodes</a>, <a target=\"_blank\" href=\"https://annotation.github.io/text-fabric/Api/Nodes/#navigating-nodes\" title=\"doc\">sortKey</a>, <a target=\"_blank\" href=\"https://annotation.github.io/text-fabric/Api/Nodes/#navigating-nodes\" title=\"doc\">sortKeyTuple</a>, <a target=\"_blank\" href=\"https://annotation.github.io/text-fabric/Api/Nodes/#navigating-nodes\" title=\"doc\">otypeRank</a>, <a target=\"_blank\" href=\"https://annotation.github.io/text-fabric/Api/Nodes/#navigating-nodes\" title=\"doc\">sortNodes</a><br/>\n",
       "<a target=\"_blank\" href=\"https://annotation.github.io/text-fabric/Api/Features/#node-features\" title=\"doc\">F Feature</a>, <a target=\"_blank\" href=\"https://annotation.github.io/text-fabric/Api/Features/#node-features\" title=\"doc\">Fall AllFeatures</a>, <a target=\"_blank\" href=\"https://annotation.github.io/text-fabric/Api/Features/#node-features\" title=\"doc\">Fs FeatureString</a><br/>\n",
       "<a target=\"_blank\" href=\"https://annotation.github.io/text-fabric/Api/Search/#search\" title=\"doc\">S Search</a><br/>\n",
       "<a target=\"_blank\" href=\"https://annotation.github.io/text-fabric/Api/Text/#text\" title=\"doc\">T Text</a></details>"
      ],
      "text/plain": [
       "<IPython.core.display.HTML object>"
      ]
     },
     "metadata": {},
     "output_type": "display_data"
    }
   ],
   "source": [
    "# A = use('dss', hoist=globals())\n",
    "A = use('dss:clone', checkout='clone', hoist=globals())"
   ]
  },
  {
   "cell_type": "markdown",
   "metadata": {},
   "source": [
    "# Inspect the contents of a file\n",
    "We write a function that can peek into file on your system, and show the first few lines.\n",
    "We'll use it to inspect the exported files that we are going to produce."
   ]
  },
  {
   "cell_type": "code",
   "execution_count": 4,
   "metadata": {},
   "outputs": [],
   "source": [
    "EXPORT_FILE = os.path.expanduser('~/Downloads/results.tsv')\n",
    "UPTO = 10\n",
    "\n",
    "def checkout():\n",
    "    with open(EXPORT_FILE, encoding='utf_16') as fh:\n",
    "        for (i, line) in enumerate(fh):\n",
    "            if i >= UPTO:\n",
    "                break\n",
    "            print(line.rstrip('\\n'))"
   ]
  },
  {
   "cell_type": "markdown",
   "metadata": {},
   "source": [
    "# Encoding\n",
    "\n",
    "Our exported `.tsv` files open in Excel without hassle, even if they contain non-latin characters.\n",
    "That is because TF writes such files in an\n",
    "encoding that works well with Excel: `utf_16_le`.\n",
    "You can just open them in Excel, there is no need for conversion before or after opening these files.\n",
    "\n",
    "Should you want to process these files by means of a (Python) program, \n",
    "take care to read them with encoding `utf_16`."
   ]
  },
  {
   "cell_type": "markdown",
   "metadata": {},
   "source": [
    "# Example query\n",
    "\n",
    "We first run a query in order to export the results."
   ]
  },
  {
   "cell_type": "code",
   "execution_count": 5,
   "metadata": {
    "ExecuteTime": {
     "end_time": "2018-05-24T07:46:55.998382Z",
     "start_time": "2018-05-24T07:46:55.137956Z"
    }
   },
   "outputs": [
    {
     "name": "stdout",
     "output_type": "stream",
     "text": [
      "  1.39s 399 results\n"
     ]
    },
    {
     "data": {
      "text/html": [
       "<table>\n",
       "<tr class=\"tf\">\n",
       "  <th class=\"tf\">n</th><th class=\"tf\">p</th>\n",
       "  <th class=\"tf\">line</th><th>word</th><th>sign</th>\n",
       "</tr>\n",
       "\n",
       "<tr class=\"tf\"><td class=\"tf\">1</td><td class=\"tf\"> <a href=\"https://www.deadseascrolls.org.il/explore-the-archive/search#q='CD'\" title=\"show this scroll in the Leon Levy library\" sec=\"CD 12:23\">CD 12:23</a></td><td class=\"tf\"><span class=\"vrs ltr\"><a href=\"https://www.deadseascrolls.org.il/explore-the-archive/search#q='CD'\" title=\"show this scroll in the Leon Levy library\" sec=\"CD 12:23\">CD 12:23</a></span><span class=\"plain outer  rtl  \" ><span class=\"plain rtl \"><span class=\"plain rtl  \" ><span class=\"plain rtl  \" ><span class=\"txtu\">ה</span></span></span><span class=\"plain rtl  \" ><span class=\"plain rtl  \" ><span class=\"txtu\">מ</span></span><span class=\"plain rtl  \" ><span class=\"txtu\">ח</span></span><span class=\"plain rtl  \" ><span class=\"txtu\">נ</span></span><span class=\"plain rtl  \" ><span class=\"txtu\">ו</span></span><span class=\"plain rtl  \" ><span class=\"txtu\">ת </span></span></span><span class=\"plain rtl  \" ><span class=\"plain rtl  \" ><span class=\"txtu\">ה</span></span></span><span class=\"plain rtl  hl\" ><span class=\"plain rtl  hlbx\" ><span class=\"txtu\">מ</span></span><span class=\"plain rtl  \" ><span class=\"txtu\">ת</span></span><span class=\"plain rtl  \" ><span class=\"txtu\">ה</span></span><span class=\"plain rtl  \" ><span class=\"txtu\">ל</span></span><span class=\"plain rtl  \" ><span class=\"txtu\">כ</span></span><span class=\"plain rtl  \" ><span class=\"txtu\">י</span></span><span class=\"plain rtl  \" ><span class=\"txtu\">ם </span></span></span><span class=\"plain rtl  \" ><span class=\"plain rtl  \" ><span class=\"txtu\">ב</span></span></span><span class=\"plain rtl  \" ><span class=\"plain rtl  \" ><span class=\"txtu\">א</span></span><span class=\"plain rtl  \" ><span class=\"txtu\">ל</span></span><span class=\"plain rtl  \" ><span class=\"txtu\">ה </span></span></span><span class=\"plain rtl  \" ><span class=\"plain rtl  \" ><span class=\"txtu\">ב</span></span></span><span class=\"plain rtl  \" ><span class=\"plain rtl  \" ><span class=\"txtu\">ק</span></span><span class=\"plain rtl  \" ><span class=\"txtu\">ץ </span></span></span><span class=\"plain rtl  \" ><span class=\"plain rtl  \" ><span class=\"txtu\">ה</span></span></span><span class=\"plain rtl  \" ><span class=\"plain rtl  \" ><span class=\"txtu\">ר</span></span><span class=\"plain rtl  \" ><span class=\"txtu\">ש</span></span><span class=\"plain rtl  \" ><span class=\"txtu\">ע</span></span><span class=\"plain rtl  \" ><span class=\"txtu\">ה </span></span></span><span class=\"plain rtl  \" ><span class=\"plain rtl  \" ><span class=\"txtu\">ע</span></span><span class=\"plain rtl  \" ><span class=\"txtu\">ד </span></span></span><span class=\"plain rtl  \" ><span class=\"plain rtl  \" ><span class=\"txtu\">ע</span></span><span class=\"plain rtl  \" ><span class=\"txtu\">מ</span></span><span class=\"plain rtl  \" ><span class=\"txtu\">ו</span></span><span class=\"plain rtl  \" ><span class=\"txtu\">ד </span></span></span><span class=\"plain rtl  \" ><span class=\"plain rtl  \" ><span class=\"txtu\">מ</span></span><span class=\"plain rtl  \" ><span class=\"txtu\">ש</span></span><span class=\"plain rtl  \" ><span class=\"txtu\">ו</span></span><span class=\"plain rtl  \" ><span class=\"txtu\">ח </span></span></span><span class=\"plain rtl  \" ><span class=\"plain rtl  \" ><span class=\"txtu\">מ</span></span><span class=\"plain rtl  \" ><span class=\"txtu\">ש</span></span><span class=\"plain rtl  \" ><span class=\"txtu\">י</span></span><span class=\"plain rtl  \" ><span class=\"txtu\">ח </span></span></span><span class=\"plain rtl  \" ><span class=\"plain rtl  \" ><span class=\"txtu\">א</span></span><span class=\"plain rtl  \" ><span class=\"txtu\">ה</span></span><span class=\"plain rtl  \" ><span class=\"txtu\">ר</span></span><span class=\"plain rtl  \" ><span class=\"txtu\">ן </span></span></span></span></span></td><td class=\"tf\"><span class=\"plain outer  rtl  hl\" ><span class=\"plain rtl  hlbx\" ><span class=\"txtu\">מ</span></span><span class=\"plain rtl  \" ><span class=\"txtu\">ת</span></span><span class=\"plain rtl  \" ><span class=\"txtu\">ה</span></span><span class=\"plain rtl  \" ><span class=\"txtu\">ל</span></span><span class=\"plain rtl  \" ><span class=\"txtu\">כ</span></span><span class=\"plain rtl  \" ><span class=\"txtu\">י</span></span><span class=\"plain rtl  \" ><span class=\"txtu\">ם </span></span></span></td><td class=\"tf\"><span class=\"plain outer  rtl  hlbx\" ><span class=\"txtu\">מ</span></span></td></tr>\n",
       "<tr class=\"tf\"><td class=\"tf\">2</td><td class=\"tf\"> <a href=\"https://www.deadseascrolls.org.il/explore-the-archive/search#q='CD'\" title=\"show this scroll in the Leon Levy library\" sec=\"CD 12:23\">CD 12:23</a></td><td class=\"tf\"><span class=\"vrs ltr\"><a href=\"https://www.deadseascrolls.org.il/explore-the-archive/search#q='CD'\" title=\"show this scroll in the Leon Levy library\" sec=\"CD 12:23\">CD 12:23</a></span><span class=\"plain outer  rtl  \" ><span class=\"plain rtl \"><span class=\"plain rtl  \" ><span class=\"plain rtl  \" ><span class=\"txtu\">ה</span></span></span><span class=\"plain rtl  \" ><span class=\"plain rtl  \" ><span class=\"txtu\">מ</span></span><span class=\"plain rtl  \" ><span class=\"txtu\">ח</span></span><span class=\"plain rtl  \" ><span class=\"txtu\">נ</span></span><span class=\"plain rtl  \" ><span class=\"txtu\">ו</span></span><span class=\"plain rtl  \" ><span class=\"txtu\">ת </span></span></span><span class=\"plain rtl  \" ><span class=\"plain rtl  \" ><span class=\"txtu\">ה</span></span></span><span class=\"plain rtl  hl\" ><span class=\"plain rtl  \" ><span class=\"txtu\">מ</span></span><span class=\"plain rtl  \" ><span class=\"txtu\">ת</span></span><span class=\"plain rtl  \" ><span class=\"txtu\">ה</span></span><span class=\"plain rtl  \" ><span class=\"txtu\">ל</span></span><span class=\"plain rtl  hlbx\" ><span class=\"txtu\">כ</span></span><span class=\"plain rtl  \" ><span class=\"txtu\">י</span></span><span class=\"plain rtl  \" ><span class=\"txtu\">ם </span></span></span><span class=\"plain rtl  \" ><span class=\"plain rtl  \" ><span class=\"txtu\">ב</span></span></span><span class=\"plain rtl  \" ><span class=\"plain rtl  \" ><span class=\"txtu\">א</span></span><span class=\"plain rtl  \" ><span class=\"txtu\">ל</span></span><span class=\"plain rtl  \" ><span class=\"txtu\">ה </span></span></span><span class=\"plain rtl  \" ><span class=\"plain rtl  \" ><span class=\"txtu\">ב</span></span></span><span class=\"plain rtl  \" ><span class=\"plain rtl  \" ><span class=\"txtu\">ק</span></span><span class=\"plain rtl  \" ><span class=\"txtu\">ץ </span></span></span><span class=\"plain rtl  \" ><span class=\"plain rtl  \" ><span class=\"txtu\">ה</span></span></span><span class=\"plain rtl  \" ><span class=\"plain rtl  \" ><span class=\"txtu\">ר</span></span><span class=\"plain rtl  \" ><span class=\"txtu\">ש</span></span><span class=\"plain rtl  \" ><span class=\"txtu\">ע</span></span><span class=\"plain rtl  \" ><span class=\"txtu\">ה </span></span></span><span class=\"plain rtl  \" ><span class=\"plain rtl  \" ><span class=\"txtu\">ע</span></span><span class=\"plain rtl  \" ><span class=\"txtu\">ד </span></span></span><span class=\"plain rtl  \" ><span class=\"plain rtl  \" ><span class=\"txtu\">ע</span></span><span class=\"plain rtl  \" ><span class=\"txtu\">מ</span></span><span class=\"plain rtl  \" ><span class=\"txtu\">ו</span></span><span class=\"plain rtl  \" ><span class=\"txtu\">ד </span></span></span><span class=\"plain rtl  \" ><span class=\"plain rtl  \" ><span class=\"txtu\">מ</span></span><span class=\"plain rtl  \" ><span class=\"txtu\">ש</span></span><span class=\"plain rtl  \" ><span class=\"txtu\">ו</span></span><span class=\"plain rtl  \" ><span class=\"txtu\">ח </span></span></span><span class=\"plain rtl  \" ><span class=\"plain rtl  \" ><span class=\"txtu\">מ</span></span><span class=\"plain rtl  \" ><span class=\"txtu\">ש</span></span><span class=\"plain rtl  \" ><span class=\"txtu\">י</span></span><span class=\"plain rtl  \" ><span class=\"txtu\">ח </span></span></span><span class=\"plain rtl  \" ><span class=\"plain rtl  \" ><span class=\"txtu\">א</span></span><span class=\"plain rtl  \" ><span class=\"txtu\">ה</span></span><span class=\"plain rtl  \" ><span class=\"txtu\">ר</span></span><span class=\"plain rtl  \" ><span class=\"txtu\">ן </span></span></span></span></span></td><td class=\"tf\"><span class=\"plain outer  rtl  hl\" ><span class=\"plain rtl  \" ><span class=\"txtu\">מ</span></span><span class=\"plain rtl  \" ><span class=\"txtu\">ת</span></span><span class=\"plain rtl  \" ><span class=\"txtu\">ה</span></span><span class=\"plain rtl  \" ><span class=\"txtu\">ל</span></span><span class=\"plain rtl  hlbx\" ><span class=\"txtu\">כ</span></span><span class=\"plain rtl  \" ><span class=\"txtu\">י</span></span><span class=\"plain rtl  \" ><span class=\"txtu\">ם </span></span></span></td><td class=\"tf\"><span class=\"plain outer  rtl  hlbx\" ><span class=\"txtu\">כ</span></span></td></tr>\n",
       "<tr class=\"tf\"><td class=\"tf\">3</td><td class=\"tf\"> <a href=\"https://www.deadseascrolls.org.il/explore-the-archive/search#q='CD'\" title=\"show this scroll in the Leon Levy library\" sec=\"CD 12:23\">CD 12:23</a></td><td class=\"tf\"><span class=\"vrs ltr\"><a href=\"https://www.deadseascrolls.org.il/explore-the-archive/search#q='CD'\" title=\"show this scroll in the Leon Levy library\" sec=\"CD 12:23\">CD 12:23</a></span><span class=\"plain outer  rtl  \" ><span class=\"plain rtl \"><span class=\"plain rtl  \" ><span class=\"plain rtl  \" ><span class=\"txtu\">ה</span></span></span><span class=\"plain rtl  \" ><span class=\"plain rtl  \" ><span class=\"txtu\">מ</span></span><span class=\"plain rtl  \" ><span class=\"txtu\">ח</span></span><span class=\"plain rtl  \" ><span class=\"txtu\">נ</span></span><span class=\"plain rtl  \" ><span class=\"txtu\">ו</span></span><span class=\"plain rtl  \" ><span class=\"txtu\">ת </span></span></span><span class=\"plain rtl  \" ><span class=\"plain rtl  \" ><span class=\"txtu\">ה</span></span></span><span class=\"plain rtl  hl\" ><span class=\"plain rtl  \" ><span class=\"txtu\">מ</span></span><span class=\"plain rtl  \" ><span class=\"txtu\">ת</span></span><span class=\"plain rtl  \" ><span class=\"txtu\">ה</span></span><span class=\"plain rtl  \" ><span class=\"txtu\">ל</span></span><span class=\"plain rtl  \" ><span class=\"txtu\">כ</span></span><span class=\"plain rtl  hlbx\" ><span class=\"txtu\">י</span></span><span class=\"plain rtl  \" ><span class=\"txtu\">ם </span></span></span><span class=\"plain rtl  \" ><span class=\"plain rtl  \" ><span class=\"txtu\">ב</span></span></span><span class=\"plain rtl  \" ><span class=\"plain rtl  \" ><span class=\"txtu\">א</span></span><span class=\"plain rtl  \" ><span class=\"txtu\">ל</span></span><span class=\"plain rtl  \" ><span class=\"txtu\">ה </span></span></span><span class=\"plain rtl  \" ><span class=\"plain rtl  \" ><span class=\"txtu\">ב</span></span></span><span class=\"plain rtl  \" ><span class=\"plain rtl  \" ><span class=\"txtu\">ק</span></span><span class=\"plain rtl  \" ><span class=\"txtu\">ץ </span></span></span><span class=\"plain rtl  \" ><span class=\"plain rtl  \" ><span class=\"txtu\">ה</span></span></span><span class=\"plain rtl  \" ><span class=\"plain rtl  \" ><span class=\"txtu\">ר</span></span><span class=\"plain rtl  \" ><span class=\"txtu\">ש</span></span><span class=\"plain rtl  \" ><span class=\"txtu\">ע</span></span><span class=\"plain rtl  \" ><span class=\"txtu\">ה </span></span></span><span class=\"plain rtl  \" ><span class=\"plain rtl  \" ><span class=\"txtu\">ע</span></span><span class=\"plain rtl  \" ><span class=\"txtu\">ד </span></span></span><span class=\"plain rtl  \" ><span class=\"plain rtl  \" ><span class=\"txtu\">ע</span></span><span class=\"plain rtl  \" ><span class=\"txtu\">מ</span></span><span class=\"plain rtl  \" ><span class=\"txtu\">ו</span></span><span class=\"plain rtl  \" ><span class=\"txtu\">ד </span></span></span><span class=\"plain rtl  \" ><span class=\"plain rtl  \" ><span class=\"txtu\">מ</span></span><span class=\"plain rtl  \" ><span class=\"txtu\">ש</span></span><span class=\"plain rtl  \" ><span class=\"txtu\">ו</span></span><span class=\"plain rtl  \" ><span class=\"txtu\">ח </span></span></span><span class=\"plain rtl  \" ><span class=\"plain rtl  \" ><span class=\"txtu\">מ</span></span><span class=\"plain rtl  \" ><span class=\"txtu\">ש</span></span><span class=\"plain rtl  \" ><span class=\"txtu\">י</span></span><span class=\"plain rtl  \" ><span class=\"txtu\">ח </span></span></span><span class=\"plain rtl  \" ><span class=\"plain rtl  \" ><span class=\"txtu\">א</span></span><span class=\"plain rtl  \" ><span class=\"txtu\">ה</span></span><span class=\"plain rtl  \" ><span class=\"txtu\">ר</span></span><span class=\"plain rtl  \" ><span class=\"txtu\">ן </span></span></span></span></span></td><td class=\"tf\"><span class=\"plain outer  rtl  hl\" ><span class=\"plain rtl  \" ><span class=\"txtu\">מ</span></span><span class=\"plain rtl  \" ><span class=\"txtu\">ת</span></span><span class=\"plain rtl  \" ><span class=\"txtu\">ה</span></span><span class=\"plain rtl  \" ><span class=\"txtu\">ל</span></span><span class=\"plain rtl  \" ><span class=\"txtu\">כ</span></span><span class=\"plain rtl  hlbx\" ><span class=\"txtu\">י</span></span><span class=\"plain rtl  \" ><span class=\"txtu\">ם </span></span></span></td><td class=\"tf\"><span class=\"plain outer  rtl  hlbx\" ><span class=\"txtu\">י</span></span></td></tr>\n",
       "<tr class=\"tf\"><td class=\"tf\">4</td><td class=\"tf\"> <a href=\"https://www.deadseascrolls.org.il/explore-the-archive/search#q='CD'\" title=\"show this scroll in the Leon Levy library\" sec=\"CD 12:23\">CD 12:23</a></td><td class=\"tf\"><span class=\"vrs ltr\"><a href=\"https://www.deadseascrolls.org.il/explore-the-archive/search#q='CD'\" title=\"show this scroll in the Leon Levy library\" sec=\"CD 12:23\">CD 12:23</a></span><span class=\"plain outer  rtl  \" ><span class=\"plain rtl \"><span class=\"plain rtl  \" ><span class=\"plain rtl  \" ><span class=\"txtu\">ה</span></span></span><span class=\"plain rtl  \" ><span class=\"plain rtl  \" ><span class=\"txtu\">מ</span></span><span class=\"plain rtl  \" ><span class=\"txtu\">ח</span></span><span class=\"plain rtl  \" ><span class=\"txtu\">נ</span></span><span class=\"plain rtl  \" ><span class=\"txtu\">ו</span></span><span class=\"plain rtl  \" ><span class=\"txtu\">ת </span></span></span><span class=\"plain rtl  \" ><span class=\"plain rtl  \" ><span class=\"txtu\">ה</span></span></span><span class=\"plain rtl  hl\" ><span class=\"plain rtl  \" ><span class=\"txtu\">מ</span></span><span class=\"plain rtl  \" ><span class=\"txtu\">ת</span></span><span class=\"plain rtl  \" ><span class=\"txtu\">ה</span></span><span class=\"plain rtl  \" ><span class=\"txtu\">ל</span></span><span class=\"plain rtl  \" ><span class=\"txtu\">כ</span></span><span class=\"plain rtl  \" ><span class=\"txtu\">י</span></span><span class=\"plain rtl  hlbx\" ><span class=\"txtu\">ם </span></span></span><span class=\"plain rtl  \" ><span class=\"plain rtl  \" ><span class=\"txtu\">ב</span></span></span><span class=\"plain rtl  \" ><span class=\"plain rtl  \" ><span class=\"txtu\">א</span></span><span class=\"plain rtl  \" ><span class=\"txtu\">ל</span></span><span class=\"plain rtl  \" ><span class=\"txtu\">ה </span></span></span><span class=\"plain rtl  \" ><span class=\"plain rtl  \" ><span class=\"txtu\">ב</span></span></span><span class=\"plain rtl  \" ><span class=\"plain rtl  \" ><span class=\"txtu\">ק</span></span><span class=\"plain rtl  \" ><span class=\"txtu\">ץ </span></span></span><span class=\"plain rtl  \" ><span class=\"plain rtl  \" ><span class=\"txtu\">ה</span></span></span><span class=\"plain rtl  \" ><span class=\"plain rtl  \" ><span class=\"txtu\">ר</span></span><span class=\"plain rtl  \" ><span class=\"txtu\">ש</span></span><span class=\"plain rtl  \" ><span class=\"txtu\">ע</span></span><span class=\"plain rtl  \" ><span class=\"txtu\">ה </span></span></span><span class=\"plain rtl  \" ><span class=\"plain rtl  \" ><span class=\"txtu\">ע</span></span><span class=\"plain rtl  \" ><span class=\"txtu\">ד </span></span></span><span class=\"plain rtl  \" ><span class=\"plain rtl  \" ><span class=\"txtu\">ע</span></span><span class=\"plain rtl  \" ><span class=\"txtu\">מ</span></span><span class=\"plain rtl  \" ><span class=\"txtu\">ו</span></span><span class=\"plain rtl  \" ><span class=\"txtu\">ד </span></span></span><span class=\"plain rtl  \" ><span class=\"plain rtl  \" ><span class=\"txtu\">מ</span></span><span class=\"plain rtl  \" ><span class=\"txtu\">ש</span></span><span class=\"plain rtl  \" ><span class=\"txtu\">ו</span></span><span class=\"plain rtl  \" ><span class=\"txtu\">ח </span></span></span><span class=\"plain rtl  \" ><span class=\"plain rtl  \" ><span class=\"txtu\">מ</span></span><span class=\"plain rtl  \" ><span class=\"txtu\">ש</span></span><span class=\"plain rtl  \" ><span class=\"txtu\">י</span></span><span class=\"plain rtl  \" ><span class=\"txtu\">ח </span></span></span><span class=\"plain rtl  \" ><span class=\"plain rtl  \" ><span class=\"txtu\">א</span></span><span class=\"plain rtl  \" ><span class=\"txtu\">ה</span></span><span class=\"plain rtl  \" ><span class=\"txtu\">ר</span></span><span class=\"plain rtl  \" ><span class=\"txtu\">ן </span></span></span></span></span></td><td class=\"tf\"><span class=\"plain outer  rtl  hl\" ><span class=\"plain rtl  \" ><span class=\"txtu\">מ</span></span><span class=\"plain rtl  \" ><span class=\"txtu\">ת</span></span><span class=\"plain rtl  \" ><span class=\"txtu\">ה</span></span><span class=\"plain rtl  \" ><span class=\"txtu\">ל</span></span><span class=\"plain rtl  \" ><span class=\"txtu\">כ</span></span><span class=\"plain rtl  \" ><span class=\"txtu\">י</span></span><span class=\"plain rtl  hlbx\" ><span class=\"txtu\">ם </span></span></span></td><td class=\"tf\"><span class=\"plain outer  rtl  hlbx\" ><span class=\"txtu\">ם </span></span></td></tr>\n",
       "<tr class=\"tf\"><td class=\"tf\">5</td><td class=\"tf\"> <a href=\"https://www.deadseascrolls.org.il/explore-the-archive/search#q='CD'\" title=\"show this scroll in the Leon Levy library\" sec=\"CD 15:11\">CD 15:11</a></td><td class=\"tf\"><span class=\"vrs ltr\"><a href=\"https://www.deadseascrolls.org.il/explore-the-archive/search#q='CD'\" title=\"show this scroll in the Leon Levy library\" sec=\"CD 15:11\">CD 15:11</a></span><span class=\"plain outer  rtl  \" ><span class=\"plain rtl \"><span class=\"plain rtl  \" ><span class=\"plain rtl  \" ><span class=\"txtu\">ה</span></span></span><span class=\"plain rtl  \" ><span class=\"plain rtl  \" ><span class=\"txtu\">מ</span></span><span class=\"plain rtl  \" ><span class=\"txtu\">ש</span></span><span class=\"plain rtl  \" ><span class=\"txtu\">פ</span></span><span class=\"plain rtl  \" ><span class=\"txtu\">ט</span></span><span class=\"plain rtl  \" ><span class=\"txtu\">י</span></span><span class=\"plain rtl  \" ><span class=\"txtu\">ם </span></span></span><span class=\"plain rtl  \" ><span class=\"plain rtl  \" ><span class=\"txtu\">ע</span></span><span class=\"plain rtl  \" ><span class=\"txtu\">ד </span></span></span><span class=\"plain rtl  \" ><span class=\"plain rtl  \" ><span class=\"txtu\">ע</span></span><span class=\"plain rtl  \" ><span class=\"txtu\">מ</span></span><span class=\"plain rtl  \" ><span class=\"txtu\">ד</span></span><span class=\"plain rtl  \" ><span class=\"txtu\">׳</span></span><span class=\"plain rtl  \" ><span class=\"txtu\">ו </span></span></span><span class=\"plain rtl  \" ><span class=\"plain rtl  \" ><span class=\"txtu\">ל</span></span></span><span class=\"plain rtl  \" ><span class=\"plain rtl  \" ><span class=\"txtu\">פ</span></span><span class=\"plain rtl  \" ><span class=\"txtu\">נ</span></span><span class=\"plain rtl  \" ><span class=\"txtu\">י </span></span></span><span class=\"plain rtl  \" ><span class=\"plain rtl  \" ><span class=\"txtu\">ה</span></span></span><span class=\"plain rtl  \" ><span class=\"plain rtl  \" ><span class=\"txtu\">מ</span></span><span class=\"plain rtl  \" ><span class=\"txtu\">ב</span></span><span class=\"plain rtl  \" ><span class=\"txtu\">ק</span></span><span class=\"plain rtl  \" ><span class=\"txtu\">ר </span></span></span><span class=\"plain rtl  \" ><span class=\"plain rtl  \" ><span class=\"txtu\">ש</span></span></span><span class=\"plain rtl  \" ><span class=\"plain rtl  \" ><span class=\"txtu\">מ</span></span><span class=\"plain rtl  \" ><span class=\"txtu\">ה </span></span></span><span class=\"plain rtl  hl\" ><span class=\"plain rtl  \" ><span class=\"txtu\">י</span></span><span class=\"plain rtl  \" ><span class=\"txtu\">ת</span></span><span class=\"plain rtl  \" ><span class=\"txtu\">פ</span></span><span class=\"plain rtl  hlbx\" ><span class=\"txtu\">ת</span></span><span class=\"plain rtl  \" ><span class=\"txtu\">ה </span></span></span><span class=\"plain rtl  \" ><span class=\"plain rtl  \" ><span class=\"txtu\">ב</span></span><span class=\"plain rtl  \" ><span class=\"txtu\">׳</span></span><span class=\"plain rtl  \" ><span class=\"txtu\">ו </span></span></span><span class=\"plain rtl  \" ><span class=\"plain rtl  \" ><span class=\"txtu\">ב</span></span></span><span class=\"plain rtl  \" ><span class=\"plain rtl  \" ><span class=\"txtu\">ד</span></span><span class=\"plain rtl  \" ><span class=\"txtu\">ר</span></span><span class=\"plain rtl  \" ><span class=\"txtu\">ש</span></span><span class=\"plain rtl  \" ><span class=\"txtu\">׳</span></span><span class=\"plain rtl  \" ><span class=\"txtu\">ו </span></span></span><span class=\"plain rtl  \" ><span class=\"plain rtl  \" ><span class=\"txtu\">א</span></span><span class=\"plain rtl  \" ><span class=\"txtu\">ת</span></span><span class=\"plain rtl  \" ><span class=\"txtu\">׳</span></span><span class=\"plain rtl  \" ><span class=\"txtu\">ו </span></span></span><span class=\"plain rtl  \" ><span class=\"plain rtl  \" ><span class=\"txtu\"></span></span><span class=\"plain rtl  \" ><span class=\"txtu\">׃ </span></span></span></span></span></td><td class=\"tf\"><span class=\"plain outer  rtl  hl\" ><span class=\"plain rtl  \" ><span class=\"txtu\">י</span></span><span class=\"plain rtl  \" ><span class=\"txtu\">ת</span></span><span class=\"plain rtl  \" ><span class=\"txtu\">פ</span></span><span class=\"plain rtl  hlbx\" ><span class=\"txtu\">ת</span></span><span class=\"plain rtl  \" ><span class=\"txtu\">ה </span></span></span></td><td class=\"tf\"><span class=\"plain outer  rtl  hlbx\" ><span class=\"txtu\">ת</span></span></td></tr>\n",
       "<tr class=\"tf\"><td class=\"tf\">6</td><td class=\"tf\"> <a href=\"https://www.deadseascrolls.org.il/explore-the-archive/search#q='CD'\" title=\"show this scroll in the Leon Levy library\" sec=\"CD 19:4\">CD 19:4</a></td><td class=\"tf\"><span class=\"vrs ltr\"><a href=\"https://www.deadseascrolls.org.il/explore-the-archive/search#q='CD'\" title=\"show this scroll in the Leon Levy library\" sec=\"CD 19:4\">CD 19:4</a></span><span class=\"plain outer  rtl  \" ><span class=\"plain rtl \"><span class=\"plain rtl  \" ><span class=\"plain rtl  \" ><span class=\"txtu\">ו</span></span></span><span class=\"plain rtl  hl\" ><span class=\"plain rtl  hlbx\" ><span class=\"txtu\">י</span></span><span class=\"plain rtl  \" ><span class=\"txtu\">ת</span></span><span class=\"plain rtl  \" ><span class=\"txtu\">ה</span></span><span class=\"plain rtl  \" ><span class=\"txtu\">ל</span></span><span class=\"plain rtl  \" ><span class=\"txtu\">כ</span></span><span class=\"plain rtl  \" ><span class=\"txtu\">ו </span></span></span><span class=\"plain rtl  \" ><span class=\"plain rtl  \" ><span class=\"txtu\">ע</span></span><span class=\"plain rtl  \" ><span class=\"txtu\">ל </span></span></span><span class=\"plain rtl  \" ><span class=\"plain rtl  \" ><span class=\"txtu\">פ</span></span><span class=\"plain rtl  \" ><span class=\"txtu\">י </span></span></span><span class=\"plain rtl  \" ><span class=\"plain rtl  \" ><span class=\"txtu\">ה</span></span></span><span class=\"plain rtl  \" ><span class=\"plain rtl  \" ><span class=\"txtu\">ת</span></span><span class=\"plain rtl  \" ><span class=\"txtu\">ו</span></span><span class=\"plain rtl  \" ><span class=\"txtu\">ר</span></span><span class=\"plain rtl  \" ><span class=\"txtu\">ה </span></span></span><span class=\"plain rtl  \" ><span class=\"plain rtl  \" ><span class=\"txtu\"></span></span><span class=\"plain rtl  \" ><span class=\"txtu\">׃ </span></span></span><span class=\"plain rtl  \" ><span class=\"plain rtl  \" ><span class=\"txtu\">ו</span></span></span><span class=\"plain rtl  \" ><span class=\"plain rtl  \" ><span class=\"txtu\">כ</span></span></span><span class=\"plain rtl  \" ><span class=\"plain rtl  \" ><span class=\"txtu\">מ</span></span><span class=\"plain rtl  \" ><span class=\"txtu\">ש</span></span><span class=\"plain rtl  \" ><span class=\"txtu\">פ</span></span><span class=\"plain rtl  \" ><span class=\"txtu\">ט </span></span></span><span class=\"plain rtl  \" ><span class=\"plain rtl  \" ><span class=\"txtu\">ה</span></span></span><span class=\"plain rtl  \" ><span class=\"plain rtl  \" ><span class=\"txtu\">י</span></span><span class=\"plain rtl  \" ><span class=\"txtu\">ס</span></span><span class=\"plain rtl  \" ><span class=\"txtu\">ו</span></span><span class=\"plain rtl  \" ><span class=\"txtu\">ד</span></span><span class=\"plain rtl  \" ><span class=\"txtu\">י</span></span><span class=\"plain rtl  \" ><span class=\"txtu\">ם </span></span></span><span class=\"plain rtl  \" ><span class=\"plain rtl  \" ><span class=\"txtu\">כ</span></span></span><span class=\"plain rtl  \" ><span class=\"plain rtl  \" ><span class=\"txtu\">ס</span></span><span class=\"plain rtl  \" ><span class=\"txtu\">ר</span></span><span class=\"plain rtl  \" ><span class=\"txtu\">ך </span></span></span><span class=\"plain rtl  \" ><span class=\"plain rtl  \" ><span class=\"txtu\">ה</span></span></span><span class=\"plain rtl  \" ><span class=\"plain rtl  \" ><span class=\"txtu\">ת</span></span><span class=\"plain rtl  \" ><span class=\"txtu\">ו</span></span><span class=\"plain rtl  \" ><span class=\"txtu\">ר</span></span><span class=\"plain rtl  \" ><span class=\"txtu\">ה </span></span></span></span></span></td><td class=\"tf\"><span class=\"plain outer  rtl  hl\" ><span class=\"plain rtl  hlbx\" ><span class=\"txtu\">י</span></span><span class=\"plain rtl  \" ><span class=\"txtu\">ת</span></span><span class=\"plain rtl  \" ><span class=\"txtu\">ה</span></span><span class=\"plain rtl  \" ><span class=\"txtu\">ל</span></span><span class=\"plain rtl  \" ><span class=\"txtu\">כ</span></span><span class=\"plain rtl  \" ><span class=\"txtu\">ו </span></span></span></td><td class=\"tf\"><span class=\"plain outer  rtl  hlbx\" ><span class=\"txtu\">י</span></span></td></tr>\n",
       "<tr class=\"tf\"><td class=\"tf\">7</td><td class=\"tf\"> <a href=\"https://www.deadseascrolls.org.il/explore-the-archive/search#q='1QS'\" title=\"show this scroll in the Leon Levy library\" sec=\"1QS 7:24\">1QS 7:24</a></td><td class=\"tf\"><span class=\"vrs ltr\"><a href=\"https://www.deadseascrolls.org.il/explore-the-archive/search#q='1QS'\" title=\"show this scroll in the Leon Levy library\" sec=\"1QS 7:24\">1QS 7:24</a></span><span class=\"plain outer  rtl  \" ><span class=\"plain rtl \"><span class=\"plain rtl  \" ><span class=\"plain rtl  \" ><span class=\"txtu\">ה</span></span></span><span class=\"plain rtl  \" ><span class=\"plain rtl  \" ><span class=\"txtu\">ר</span></span><span class=\"plain rtl  \" ><span class=\"txtu\">ב</span></span><span class=\"plain rtl  \" ><span class=\"txtu\">י</span></span><span class=\"plain rtl  \" ><span class=\"txtu\">ם </span></span></span><span class=\"plain rtl  \" ><span class=\"plain rtl  \" ><span class=\"txtu\">ל</span></span></span><span class=\"plain rtl  \" ><span class=\"plain rtl  \" ><span class=\"txtu\">ל</span></span><span class=\"plain rtl  \" ><span class=\"txtu\">כ</span></span><span class=\"plain rtl  \" ><span class=\"txtu\">ת </span></span></span><span class=\"plain rtl  \" ><span class=\"plain rtl  \" ><span class=\"txtu\">ב</span></span></span><span class=\"plain rtl  \" ><span class=\"plain rtl  \" ><span class=\"txtu\">ש</span></span><span class=\"plain rtl  \" ><span class=\"txtu\">ר</span></span><span class=\"plain rtl  \" ><span class=\"txtu\">י</span></span><span class=\"plain rtl  \" ><span class=\"txtu\">ר</span></span><span class=\"plain rtl  \" ><span class=\"txtu\">ו</span></span><span class=\"plain rtl  \" ><span class=\"txtu\">ת </span></span></span><span class=\"plain rtl  \" ><span class=\"plain rtl  \" ><span class=\"txtu\">ל</span></span><span class=\"plain rtl  \" ><span class=\"txtu\">ב</span></span><span class=\"plain rtl  \" ><span class=\"txtu\">׳</span></span><span class=\"plain rtl  \" ><span class=\"txtu\">ו </span></span></span><span class=\"plain rtl  \" ><span class=\"plain rtl  \" ><span class=\"txtu\">ל</span></span><span class=\"plain rtl  \" ><span class=\"txtu\">ו</span></span><span class=\"plain rtl  \" ><span class=\"txtu\">א </span></span></span><span class=\"plain rtl  \" ><span class=\"plain rtl  \" ><span class=\"txtu\">י</span></span><span class=\"plain rtl  \" ><span class=\"txtu\">ש</span></span><span class=\"plain rtl  \" ><span class=\"txtu\">ו</span></span><span class=\"plain rtl  \" ><span class=\"txtu\">ב </span></span></span><span class=\"plain rtl  \" ><span class=\"plain rtl  \" ><span class=\"txtu\">א</span></span><span class=\"plain rtl  \" ><span class=\"txtu\">ל </span></span></span><span class=\"plain rtl  \" ><span class=\"plain rtl  \" ><span class=\"txtu\">ע</span></span><span class=\"plain rtl  \" ><span class=\"txtu\">צ</span></span><span class=\"plain rtl  \" ><span class=\"txtu\">ת </span></span></span><span class=\"plain rtl  \" ><span class=\"plain rtl  \" ><span class=\"txtu\">ה</span></span></span><span class=\"plain rtl  \" ><span class=\"plain rtl  \" ><span class=\"txtu\">י</span></span><span class=\"plain rtl  \" ><span class=\"txtu\">ח</span></span><span class=\"plain rtl  \" ><span class=\"txtu\">ד </span></span></span><span class=\"plain rtl  \" ><span class=\"plain rtl  \" ><span class=\"txtu\">ע</span></span><span class=\"plain rtl  \" ><span class=\"txtu\">ו</span></span><span class=\"plain rtl  \" ><span class=\"txtu\">ד </span></span></span><span class=\"plain rtl  \" ><span class=\"plain rtl  \" ><span class=\"txtu\"></span></span><span class=\"plain rtl  \" ><span class=\"txtu\">׃ </span></span></span><span class=\"plain rtl  \" ><span class=\"plain rtl  \" ><span class=\"txtu\">ו</span></span></span><span class=\"plain rtl  \" ><span class=\"plain rtl  \" ><span class=\"txtu\">א</span></span><span class=\"plain rtl  \" ><span class=\"txtu\">י</span></span><span class=\"plain rtl  \" ><span class=\"txtu\">ש </span></span></span><span class=\"plain rtl  \" ><span class=\"plain rtl  \" ><span class=\"txtu\">מ</span></span></span><span class=\"plain rtl  \" ><span class=\"plain rtl  \" ><span class=\"txtu\">א</span></span><span class=\"plain rtl  \" ><span class=\"txtu\">נ</span></span><span class=\"plain rtl  \" ><span class=\"txtu\">ש</span></span><span class=\"plain rtl  \" ><span class=\"txtu\">י </span></span></span><span class=\"plain rtl  \" ><span class=\"plain rtl  \" ><span class=\"txtu\">ה</span></span></span><span class=\"plain rtl  \" ><span class=\"plain rtl  \" ><span class=\"txtu\">י</span></span><span class=\"plain rtl  \" ><span class=\"txtu\">ח</span></span><span class=\"plain rtl  \" ><span class=\"txtu\">ד </span></span></span><span class=\"plain rtl  \" ><span class=\"plain rtl  \" ><span class=\"txtu\">א</span></span><span class=\"plain rtl  \" ><span class=\"txtu\">ש</span></span><span class=\"plain rtl  \" ><span class=\"txtu\">ר </span></span></span><span class=\"plain rtl  hl\" ><span class=\"plain rtl  hlbx\" ><span class=\"txtu\">י</span></span><span class=\"plain rtl  \" ><span class=\"txtu\">ת</span></span><span class=\"plain rtl  \" ><span class=\"txtu\">ע</span></span><span class=\"plain rtl  \" ><span class=\"txtu\">ר</span></span><span class=\"plain rtl  \" ><span class=\"txtu\">ב </span></span></span></span></span></td><td class=\"tf\"><span class=\"plain outer  rtl  hl\" ><span class=\"plain rtl  hlbx\" ><span class=\"txtu\">י</span></span><span class=\"plain rtl  \" ><span class=\"txtu\">ת</span></span><span class=\"plain rtl  \" ><span class=\"txtu\">ע</span></span><span class=\"plain rtl  \" ><span class=\"txtu\">ר</span></span><span class=\"plain rtl  \" ><span class=\"txtu\">ב </span></span></span></td><td class=\"tf\"><span class=\"plain outer  rtl  hlbx\" ><span class=\"txtu\">י</span></span></td></tr>\n",
       "<tr class=\"tf\"><td class=\"tf\">8</td><td class=\"tf\"> <a href=\"https://www.deadseascrolls.org.il/explore-the-archive/search#q='1QS'\" title=\"show this scroll in the Leon Levy library\" sec=\"1QS 7:24\">1QS 7:24</a></td><td class=\"tf\"><span class=\"vrs ltr\"><a href=\"https://www.deadseascrolls.org.il/explore-the-archive/search#q='1QS'\" title=\"show this scroll in the Leon Levy library\" sec=\"1QS 7:24\">1QS 7:24</a></span><span class=\"plain outer  rtl  \" ><span class=\"plain rtl \"><span class=\"plain rtl  \" ><span class=\"plain rtl  \" ><span class=\"txtu\">ה</span></span></span><span class=\"plain rtl  \" ><span class=\"plain rtl  \" ><span class=\"txtu\">ר</span></span><span class=\"plain rtl  \" ><span class=\"txtu\">ב</span></span><span class=\"plain rtl  \" ><span class=\"txtu\">י</span></span><span class=\"plain rtl  \" ><span class=\"txtu\">ם </span></span></span><span class=\"plain rtl  \" ><span class=\"plain rtl  \" ><span class=\"txtu\">ל</span></span></span><span class=\"plain rtl  \" ><span class=\"plain rtl  \" ><span class=\"txtu\">ל</span></span><span class=\"plain rtl  \" ><span class=\"txtu\">כ</span></span><span class=\"plain rtl  \" ><span class=\"txtu\">ת </span></span></span><span class=\"plain rtl  \" ><span class=\"plain rtl  \" ><span class=\"txtu\">ב</span></span></span><span class=\"plain rtl  \" ><span class=\"plain rtl  \" ><span class=\"txtu\">ש</span></span><span class=\"plain rtl  \" ><span class=\"txtu\">ר</span></span><span class=\"plain rtl  \" ><span class=\"txtu\">י</span></span><span class=\"plain rtl  \" ><span class=\"txtu\">ר</span></span><span class=\"plain rtl  \" ><span class=\"txtu\">ו</span></span><span class=\"plain rtl  \" ><span class=\"txtu\">ת </span></span></span><span class=\"plain rtl  \" ><span class=\"plain rtl  \" ><span class=\"txtu\">ל</span></span><span class=\"plain rtl  \" ><span class=\"txtu\">ב</span></span><span class=\"plain rtl  \" ><span class=\"txtu\">׳</span></span><span class=\"plain rtl  \" ><span class=\"txtu\">ו </span></span></span><span class=\"plain rtl  \" ><span class=\"plain rtl  \" ><span class=\"txtu\">ל</span></span><span class=\"plain rtl  \" ><span class=\"txtu\">ו</span></span><span class=\"plain rtl  \" ><span class=\"txtu\">א </span></span></span><span class=\"plain rtl  \" ><span class=\"plain rtl  \" ><span class=\"txtu\">י</span></span><span class=\"plain rtl  \" ><span class=\"txtu\">ש</span></span><span class=\"plain rtl  \" ><span class=\"txtu\">ו</span></span><span class=\"plain rtl  \" ><span class=\"txtu\">ב </span></span></span><span class=\"plain rtl  \" ><span class=\"plain rtl  \" ><span class=\"txtu\">א</span></span><span class=\"plain rtl  \" ><span class=\"txtu\">ל </span></span></span><span class=\"plain rtl  \" ><span class=\"plain rtl  \" ><span class=\"txtu\">ע</span></span><span class=\"plain rtl  \" ><span class=\"txtu\">צ</span></span><span class=\"plain rtl  \" ><span class=\"txtu\">ת </span></span></span><span class=\"plain rtl  \" ><span class=\"plain rtl  \" ><span class=\"txtu\">ה</span></span></span><span class=\"plain rtl  \" ><span class=\"plain rtl  \" ><span class=\"txtu\">י</span></span><span class=\"plain rtl  \" ><span class=\"txtu\">ח</span></span><span class=\"plain rtl  \" ><span class=\"txtu\">ד </span></span></span><span class=\"plain rtl  \" ><span class=\"plain rtl  \" ><span class=\"txtu\">ע</span></span><span class=\"plain rtl  \" ><span class=\"txtu\">ו</span></span><span class=\"plain rtl  \" ><span class=\"txtu\">ד </span></span></span><span class=\"plain rtl  \" ><span class=\"plain rtl  \" ><span class=\"txtu\"></span></span><span class=\"plain rtl  \" ><span class=\"txtu\">׃ </span></span></span><span class=\"plain rtl  \" ><span class=\"plain rtl  \" ><span class=\"txtu\">ו</span></span></span><span class=\"plain rtl  \" ><span class=\"plain rtl  \" ><span class=\"txtu\">א</span></span><span class=\"plain rtl  \" ><span class=\"txtu\">י</span></span><span class=\"plain rtl  \" ><span class=\"txtu\">ש </span></span></span><span class=\"plain rtl  \" ><span class=\"plain rtl  \" ><span class=\"txtu\">מ</span></span></span><span class=\"plain rtl  \" ><span class=\"plain rtl  \" ><span class=\"txtu\">א</span></span><span class=\"plain rtl  \" ><span class=\"txtu\">נ</span></span><span class=\"plain rtl  \" ><span class=\"txtu\">ש</span></span><span class=\"plain rtl  \" ><span class=\"txtu\">י </span></span></span><span class=\"plain rtl  \" ><span class=\"plain rtl  \" ><span class=\"txtu\">ה</span></span></span><span class=\"plain rtl  \" ><span class=\"plain rtl  \" ><span class=\"txtu\">י</span></span><span class=\"plain rtl  \" ><span class=\"txtu\">ח</span></span><span class=\"plain rtl  \" ><span class=\"txtu\">ד </span></span></span><span class=\"plain rtl  \" ><span class=\"plain rtl  \" ><span class=\"txtu\">א</span></span><span class=\"plain rtl  \" ><span class=\"txtu\">ש</span></span><span class=\"plain rtl  \" ><span class=\"txtu\">ר </span></span></span><span class=\"plain rtl  hl\" ><span class=\"plain rtl  \" ><span class=\"txtu\">י</span></span><span class=\"plain rtl  hlbx\" ><span class=\"txtu\">ת</span></span><span class=\"plain rtl  \" ><span class=\"txtu\">ע</span></span><span class=\"plain rtl  \" ><span class=\"txtu\">ר</span></span><span class=\"plain rtl  \" ><span class=\"txtu\">ב </span></span></span></span></span></td><td class=\"tf\"><span class=\"plain outer  rtl  hl\" ><span class=\"plain rtl  \" ><span class=\"txtu\">י</span></span><span class=\"plain rtl  hlbx\" ><span class=\"txtu\">ת</span></span><span class=\"plain rtl  \" ><span class=\"txtu\">ע</span></span><span class=\"plain rtl  \" ><span class=\"txtu\">ר</span></span><span class=\"plain rtl  \" ><span class=\"txtu\">ב </span></span></span></td><td class=\"tf\"><span class=\"plain outer  rtl  hlbx\" ><span class=\"txtu\">ת</span></span></td></tr>\n",
       "<tr class=\"tf\"><td class=\"tf\">9</td><td class=\"tf\"> <a href=\"https://www.deadseascrolls.org.il/explore-the-archive/search#q='1QSa'\" title=\"show this scroll in the Leon Levy library\" sec=\"1QSa 1:11\">1QSa 1:11</a></td><td class=\"tf\"><span class=\"vrs ltr\"><a href=\"https://www.deadseascrolls.org.il/explore-the-archive/search#q='1QSa'\" title=\"show this scroll in the Leon Levy library\" sec=\"1QSa 1:11\">1QSa 1:11</a></span><span class=\"plain outer  rtl  \" ><span class=\"plain rtl \"><span class=\"plain rtl  \" ><span class=\"plain rtl  \" ><span class=\"txtu\">ו</span></span></span><span class=\"plain rtl  \" ><span class=\"plain rtl  \" ><span class=\"txtu\">ר</span></span><span class=\"plain rtl  \" ><span class=\"txtu\">ע </span></span></span><span class=\"plain rtl  \" ><span class=\"plain rtl  \" ><span class=\"txtu\"></span></span><span class=\"plain rtl  \" ><span class=\"txtu\">׃ </span></span></span><span class=\"plain rtl  \" ><span class=\"plain rtl  \" ><span class=\"txtu\">ו</span></span></span><span class=\"plain rtl  \" ><span class=\"plain rtl  \" ><span class=\"txtu\">ב</span></span></span><span class=\"plain rtl  \" ><span class=\"plain rtl  \" ><span class=\"txtu\">כ</span></span><span class=\"plain rtl  \" ><span class=\"txtu\">ן </span></span></span><span class=\"plain rtl  \" ><span class=\"plain rtl  \" ><span class=\"txtu\">ת</span></span><span class=\"plain rtl  \" ><span class=\"txtu\">ק</span></span><span class=\"plain rtl  \" ><span class=\"txtu\">ב</span></span><span class=\"plain rtl  \" ><span class=\"txtu\">ל </span></span></span><span class=\"plain rtl  \" ><span class=\"plain rtl  \" ><span class=\"txtu\">ל</span></span></span><span class=\"plain rtl  \" ><span class=\"plain rtl  \" ><span class=\"txtu\">ה</span></span><span class=\"plain rtl  \" ><span class=\"txtu\">ע</span></span><span class=\"plain rtl  \" ><span class=\"txtu\">י</span></span><span class=\"plain rtl  \" ><span class=\"txtu\">ד </span></span></span><span class=\"plain rtl  \" ><span class=\"plain rtl  \" ><span class=\"txtu\">ע</span></span><span class=\"plain rtl  \" ><span class=\"txtu\">ל</span></span><span class=\"plain rtl  \" ><span class=\"txtu\">י</span></span><span class=\"plain rtl  \" ><span class=\"txtu\">׳</span></span><span class=\"plain rtl  \" ><span class=\"txtu\">ו </span></span></span><span class=\"plain rtl  \" ><span class=\"plain rtl  \" ><span class=\"txtu\">מ</span></span><span class=\"plain rtl  \" ><span class=\"txtu\">ש</span></span><span class=\"plain rtl  \" ><span class=\"txtu\">פ</span></span><span class=\"plain rtl  \" ><span class=\"txtu\">ט</span></span><span class=\"plain rtl  \" ><span class=\"txtu\">ו</span></span><span class=\"plain rtl  \" ><span class=\"txtu\">ת </span></span></span><span class=\"plain rtl  \" ><span class=\"plain rtl  \" ><span class=\"txtu\">ה</span></span></span><span class=\"plain rtl  \" ><span class=\"plain rtl  \" ><span class=\"txtu\">ת</span></span><span class=\"plain rtl  \" ><span class=\"txtu\">ו</span></span><span class=\"plain rtl  \" ><span class=\"txtu\">ר</span></span><span class=\"plain rtl  \" ><span class=\"txtu\">א </span></span></span><span class=\"plain rtl  \" ><span class=\"plain rtl  \" ><span class=\"txtu\">ו</span></span></span><span class=\"plain rtl  \" ><span class=\"plain rtl  \" ><span class=\"txtu\">ל</span></span></span><span class=\"plain rtl  hl\" ><span class=\"plain rtl  \" ><span class=\"txtu\">ה</span></span><span class=\"plain rtl  hlbx\" ><span class=\"txtu\">ת</span></span><span class=\"plain rtl  \" ><span class=\"txtu\">י</span></span><span class=\"plain rtl  \" ><span class=\"txtu\">צ</span></span><span class=\"plain rtl  \" ><span class=\"txtu\">ב </span></span></span><span class=\"plain rtl  \" ><span class=\"plain rtl  \" ><span class=\"txtu\">ב</span></span></span><span class=\"plain rtl  \" ><span class=\"plain rtl  \" ><span class=\"txtu\">מ</span></span><span class=\"plain rtl  \" ><span class=\"txtu\">ש</span></span><span class=\"plain rtl  \" ><span class=\"txtu\">מ</span></span><span class=\"plain rtl  \" ><span class=\"txtu\">ע </span></span></span><span class=\"plain rtl  \" ><span class=\"plain rtl  \" ><span class=\"txtu\">מ</span></span><span class=\"plain rtl  \" ><span class=\"txtu\">ש</span></span><span class=\"plain rtl  \" ><span class=\"txtu\">פ</span></span><span class=\"plain rtl  \" ><span class=\"txtu\">ט</span></span><span class=\"plain rtl  \" ><span class=\"txtu\">י</span></span><span class=\"plain rtl  \" ><span class=\"txtu\">ם </span></span></span><span class=\"plain rtl  \" ><span class=\"plain rtl  \" ><span class=\"txtu\"></span></span><span class=\"plain rtl  \" ><span class=\"txtu\">׃ </span></span></span></span></span></td><td class=\"tf\"><span class=\"plain outer  rtl  hl\" ><span class=\"plain rtl  \" ><span class=\"txtu\">ה</span></span><span class=\"plain rtl  hlbx\" ><span class=\"txtu\">ת</span></span><span class=\"plain rtl  \" ><span class=\"txtu\">י</span></span><span class=\"plain rtl  \" ><span class=\"txtu\">צ</span></span><span class=\"plain rtl  \" ><span class=\"txtu\">ב </span></span></span></td><td class=\"tf\"><span class=\"plain outer  rtl  hlbx\" ><span class=\"txtu\">ת</span></span></td></tr>\n",
       "<tr class=\"tf\"><td class=\"tf\">10</td><td class=\"tf\"> <a href=\"https://www.deadseascrolls.org.il/explore-the-archive/search#q='1QSb'\" title=\"show this scroll in the Leon Levy library\" sec=\"1QSb 4:2\">1QSb 4:2</a></td><td class=\"tf\"><span class=\"vrs ltr\"><a href=\"https://www.deadseascrolls.org.il/explore-the-archive/search#q='1QSb'\" title=\"show this scroll in the Leon Levy library\" sec=\"1QSb 4:2\">1QSb 4:2</a></span><span class=\"plain outer  rtl  \" ><span class=\"plain rtl \"><span class=\"plain rtl  \" ><span class=\"plain rtl  \" ><span class=\"txtu\">י</span></span><span class=\"plain rtl  \" ><span class=\"txtu\">מ</span></span><span class=\"plain rtl  \" ><span class=\"txtu\">נ</span></span><span class=\"plain rtl  \" ><span class=\"txtu\">ה </span></span></span><span class=\"plain rtl  \" ><span class=\"plain rtl  \" ><span class=\"txtu\">א</span></span><span class=\"plain rtl  \" ><span class=\"txtu\">ת</span></span><span class=\"plain rtl  \" ><span class=\"txtu\">׳</span></span><span class=\"plain rtl  \" ><span class=\"txtu\">ו </span></span></span><span class=\"plain rtl  \" ><span class=\"plain rtl  \" ><span class=\"txtu\">ו</span></span></span><span class=\"plain rtl  hl\" ><span class=\"plain rtl  hlbx\" ><span class=\"txtu\">ה</span></span><span class=\"plain rtl  \" ><span class=\"txtu\">ת</span></span><span class=\"plain rtl  \" ><span class=\"txtu\">ע</span></span><span class=\"plain rtl  \" ><span class=\"txtu\">ר</span></span><span class=\"plain rtl  \" ><span class=\"txtu\">ב </span></span></span><span class=\"plain rtl  \" ><span class=\"plain rtl  \" ><span class=\"txtu\">ל</span></span><span class=\"plain rtl  \" ><span class=\"txtu\">׳</span></span><span class=\"plain rtl  \" ><span class=\"txtu\">ו</span></span></span><span class=\"plain rtl  \" ><span class=\"plain rtl  \" ><span class=\"txtu\"></span></span><span class=\"plain rtl  \" ><span class=\"txtu\">׃ </span></span></span><span class=\"plain rtl  \" ><span class=\"plain rtl  \" ><span class=\"txtu\">ו</span></span></span><span class=\"plain rtl  \" ><span class=\"plain rtl  \" ><span class=\"txtu\">כ</span></span><span class=\"plain rtl  \" ><span class=\"txtu\">ל</span></span><span class=\"plain rtl  \" ><span class=\"txtu\">י</span></span><span class=\"plain rtl  \" ><span class=\"txtu\">ל </span></span></span><span class=\"plain rtl  \" ><span class=\"plain rtl  \" ><span class=\"txtu\"></span></span><span class=\"plain rtl  \" ><span class=\"txtu\"> #  </span></span></span><span class=\"plain rtl  \" ><span class=\"plain rtl  \" ><span class=\"txtu\"></span></span><span class=\"plain rtl  \" ><span class=\"txtu\">ε </span></span></span><span class=\"plain rtl  \" ><span class=\"plain rtl  \" ><span class=\"txtu\">א</span></span><span class=\"plain rtl  \" ><span class=\"txtu\">נ</span></span><span class=\"plain rtl  \" ><span class=\"txtu\">ו</span></span><span class=\"plain rtl  \" ><span class=\"txtu\">ש </span></span></span><span class=\"plain rtl  \" ><span class=\"plain rtl  \" ><span class=\"txtu\">ו</span></span></span><span class=\"plain rtl  \" ><span class=\"plain rtl  \" ><span class=\"txtu\">ב</span></span></span><span class=\"plain rtl  \" ><span class=\"plain rtl  \" ><span class=\"txtu\">ת</span></span><span class=\"plain rtl  \" ><span class=\"txtu\">ע</span></span><span class=\"plain rtl  \" ><span class=\"txtu\">נ</span></span><span class=\"plain rtl  \" ><span class=\"txtu\">ו</span></span><span class=\"plain rtl  \" ><span class=\"txtu\">ג</span></span><span class=\"plain rtl  \" ><span class=\"txtu\">ו</span></span><span class=\"plain rtl  \" ><span class=\"txtu\">ת </span></span></span><span class=\"plain rtl  \" ><span class=\"plain rtl  \" ><span class=\"txtu\">ב</span></span><span class=\"plain rtl  \" ><span class=\"txtu\">נ</span></span><span class=\"plain rtl  \" ><span class=\"txtu\">י </span></span></span><span class=\"plain rtl  \" ><span class=\"plain rtl  \" ><span class=\"txtu\">א</span></span><span class=\"plain rtl  \" ><span class=\"txtu\">ד</span></span><span class=\"plain rtl  \" ><span class=\"txtu\">ם </span></span></span><span class=\"plain rtl  \" ><span class=\"plain rtl  \" ><span class=\"txtu\"></span></span><span class=\"plain rtl  \" ><span class=\"txtu\">ε </span></span></span><span class=\"plain rtl  \" ><span class=\"plain rtl  \" ><span class=\"txtu\">ך </span></span></span><span class=\"plain rtl  \" ><span class=\"plain rtl  \" ><span class=\"txtu\"></span></span><span class=\"plain rtl  \" ><span class=\"txtu\">׃ </span></span></span></span></span></td><td class=\"tf\"><span class=\"plain outer  rtl  hl\" ><span class=\"plain rtl  hlbx\" ><span class=\"txtu\">ה</span></span><span class=\"plain rtl  \" ><span class=\"txtu\">ת</span></span><span class=\"plain rtl  \" ><span class=\"txtu\">ע</span></span><span class=\"plain rtl  \" ><span class=\"txtu\">ר</span></span><span class=\"plain rtl  \" ><span class=\"txtu\">ב </span></span></span></td><td class=\"tf\"><span class=\"plain outer  rtl  hlbx\" ><span class=\"txtu\">ה</span></span></td></tr></table>"
      ],
      "text/plain": [
       "<IPython.core.display.HTML object>"
      ]
     },
     "metadata": {},
     "output_type": "display_data"
    }
   ],
   "source": [
    "query = '''\n",
    "line\n",
    "  word vs=hitpael\n",
    "    sign unc\n",
    "'''\n",
    "results = A.search(query)\n",
    "A.table(results, end=10)"
   ]
  },
  {
   "cell_type": "markdown",
   "metadata": {},
   "source": [
    "# Bare export\n",
    "\n",
    "You can export the table of results to Excel.\n",
    "\n",
    "The following command writes a tab-separated file `results.tsv` to your downloads directory.\n",
    "\n",
    "You can specify arguments `toDir=directory` and `toFile=file name` to write to a different file.\n",
    "If the directory does not exist, it will be created.\n",
    "\n",
    "We stick to the default, however."
   ]
  },
  {
   "cell_type": "code",
   "execution_count": 6,
   "metadata": {},
   "outputs": [],
   "source": [
    "A.export(results)"
   ]
  },
  {
   "cell_type": "markdown",
   "metadata": {},
   "source": [
    "Check out the contents:"
   ]
  },
  {
   "cell_type": "code",
   "execution_count": 7,
   "metadata": {},
   "outputs": [
    {
     "name": "stdout",
     "output_type": "stream",
     "text": [
      "R\tS1\tS2\tS3\tNODE1\tTYPE1\tTEXT1\tNODE2\tTYPE2\tTEXT2\tvs2\tNODE3\tTYPE3\tTEXT3\tunc3\n",
      "1\tCD\t12\t23\t1553232\tline\tהמחנות המתהלכים באלה בקץ הרשעה עד עמוד משוח משיח אהרן \t1610602\tword\tמתהלכים \thitpael\t10574\tsign\tמ\t2\n",
      "2\tCD\t12\t23\t1553232\tline\tהמחנות המתהלכים באלה בקץ הרשעה עד עמוד משוח משיח אהרן \t1610602\tword\tמתהלכים \thitpael\t10578\tsign\tכ\t2\n",
      "3\tCD\t12\t23\t1553232\tline\tהמחנות המתהלכים באלה בקץ הרשעה עד עמוד משוח משיח אהרן \t1610602\tword\tמתהלכים \thitpael\t10579\tsign\tי\t1\n",
      "4\tCD\t12\t23\t1553232\tline\tהמחנות המתהלכים באלה בקץ הרשעה עד עמוד משוח משיח אהרן \t1610602\tword\tמתהלכים \thitpael\t10580\tsign\tם \t2\n",
      "5\tCD\t15\t11\t1553289\tline\tהמשפטים עד עמד׳ו לפני המבקר שמה יתפתה ב׳ו בדרש׳ו את׳ו ׃ \t1611517\tword\tיתפתה \thitpael\t13025\tsign\tת\t2\n",
      "6\tCD\t19\t4\t1553321\tline\tויתהלכו על פי התורה ׃   וכמשפט היסודים כסרך התורה \t1611956\tword\tיתהלכו \thitpael\t14285\tsign\tי\t1\n",
      "7\t1QS\t7\t24\t1553567\tline\tהרבים ללכת בשרירות לב׳ו לוא ישוב אל עצת היחד עוד ׃ ואיש מאנשי היחד אשר יתערב \t1616682\tword\tיתערב \thitpael\t27838\tsign\tי\t1\n",
      "8\t1QS\t7\t24\t1553567\tline\tהרבים ללכת בשרירות לב׳ו לוא ישוב אל עצת היחד עוד ׃ ואיש מאנשי היחד אשר יתערב \t1616682\tword\tיתערב \thitpael\t27839\tsign\tת\t2\n",
      "9\t1QSa\t1\t11\t1553680\tline\tורע ׃ ובכן תקבל להעיד עלי׳ו משפטות התורא ולהתיצב במשמע משפטים ׃ \t1618956\tword\tהתיצב \thitpael\t34422\tsign\tת\t2\n"
     ]
    }
   ],
   "source": [
    "checkout()"
   ]
  },
  {
   "cell_type": "markdown",
   "metadata": {},
   "source": [
    "You see the following columns:\n",
    "\n",
    "* **R** the sequence number of the result tuple in the result list\n",
    "* **S1 S2 S3** the section as scroll name, fragment, and line number, in separate columns\n",
    "* **NODEi TYPEi** the node and its type, for each node **i** in the result tuple\n",
    "* **TEXTi** the full text of node **i**, if the node type admits a concise text representation\n",
    "* **vs2** **unc3** the value of feature **vs** on the word and **unc** on the sign,\n",
    "since our query mentions them on those nodes."
   ]
  },
  {
   "cell_type": "markdown",
   "metadata": {},
   "source": [
    "# Poorer exports\n",
    "\n",
    "If you do not need the full text of the lines, you can leave them out by specifying a smaller *condense type*.\n",
    "\n",
    "The export function provides text for all nodes whose type is not too big.\n",
    "What is too big is determined by the condense type.\n",
    "\n",
    "In this corpus, the default condense type is line. Node types bigger than lines will not get text.\n",
    "\n",
    "Now, if we change the condenseType to something smaller than line, e.g. `word`, the line text will be suppressed."
   ]
  },
  {
   "cell_type": "code",
   "execution_count": 8,
   "metadata": {},
   "outputs": [
    {
     "name": "stdout",
     "output_type": "stream",
     "text": [
      "R\tS1\tS2\tS3\tNODE1\tTYPE1\tNODE2\tTYPE2\tTEXT2\tvs2\tNODE3\tTYPE3\tTEXT3\tunc3\n",
      "1\tCD\t12\t23\t1553232\tline\t1610602\tword\tמתהלכים \thitpael\t10574\tsign\tמ\t2\n",
      "2\tCD\t12\t23\t1553232\tline\t1610602\tword\tמתהלכים \thitpael\t10578\tsign\tכ\t2\n",
      "3\tCD\t12\t23\t1553232\tline\t1610602\tword\tמתהלכים \thitpael\t10579\tsign\tי\t1\n",
      "4\tCD\t12\t23\t1553232\tline\t1610602\tword\tמתהלכים \thitpael\t10580\tsign\tם \t2\n",
      "5\tCD\t15\t11\t1553289\tline\t1611517\tword\tיתפתה \thitpael\t13025\tsign\tת\t2\n",
      "6\tCD\t19\t4\t1553321\tline\t1611956\tword\tיתהלכו \thitpael\t14285\tsign\tי\t1\n",
      "7\t1QS\t7\t24\t1553567\tline\t1616682\tword\tיתערב \thitpael\t27838\tsign\tי\t1\n",
      "8\t1QS\t7\t24\t1553567\tline\t1616682\tword\tיתערב \thitpael\t27839\tsign\tת\t2\n",
      "9\t1QSa\t1\t11\t1553680\tline\t1618956\tword\tהתיצב \thitpael\t34422\tsign\tת\t2\n"
     ]
    }
   ],
   "source": [
    "A.export(results, condenseType='word')\n",
    "checkout()"
   ]
  },
  {
   "cell_type": "markdown",
   "metadata": {},
   "source": [
    "# Other exports\n",
    "\n",
    "If we want to see the text in another format, we can specify it.\n",
    "\n",
    "Here is the Abegg encoding."
   ]
  },
  {
   "cell_type": "code",
   "execution_count": 9,
   "metadata": {},
   "outputs": [
    {
     "name": "stdout",
     "output_type": "stream",
     "text": [
      "R\tS1\tS2\tS3\tNODE1\tTYPE1\tTEXT1\tNODE2\tTYPE2\tTEXT2\tvs2\tNODE3\tTYPE3\tTEXT3\tunc3\n",
      "1\tCD\t12\t23\t1553232\tline\thmjnwt hmthlkyM balh bqX hrCoh od omwd mCwj mCyj ahrN \t1610602\tword\tmthlkyM \thitpael\t10574\tsign\tm\t2\n",
      "2\tCD\t12\t23\t1553232\tline\thmjnwt hmthlkyM balh bqX hrCoh od omwd mCwj mCyj ahrN \t1610602\tword\tmthlkyM \thitpael\t10578\tsign\tk\t2\n",
      "3\tCD\t12\t23\t1553232\tline\thmjnwt hmthlkyM balh bqX hrCoh od omwd mCwj mCyj ahrN \t1610602\tword\tmthlkyM \thitpael\t10579\tsign\ty\t1\n",
      "4\tCD\t12\t23\t1553232\tline\thmjnwt hmthlkyM balh bqX hrCoh od omwd mCwj mCyj ahrN \t1610602\tword\tmthlkyM \thitpael\t10580\tsign\tM \t2\n",
      "5\tCD\t15\t11\t1553289\tline\thmCpfyM od omd/w lpny hmbqr Cmh ytpth b/w bdrC/w at/w . \t1611517\tword\tytpth \thitpael\t13025\tsign\tt\t2\n",
      "6\tCD\t19\t4\t1553321\tline\twythlkw ol py htwrh . □ wkmCpf hyswdyM ksrK htwrh \t1611956\tword\tythlkw \thitpael\t14285\tsign\ty\t1\n",
      "7\t1QS\t7\t24\t1553567\tline\thrbyM llkt bCryrwt lb/w lwa yCwb al oxt hyjd owd . wayC manCy hyjd aCr ytorb \t1616682\tword\tytorb \thitpael\t27838\tsign\ty\t1\n",
      "8\t1QS\t7\t24\t1553567\tline\thrbyM llkt bCryrwt lb/w lwa yCwb al oxt hyjd owd . wayC manCy hyjd aCr ytorb \t1616682\tword\tytorb \thitpael\t27839\tsign\tt\t2\n",
      "9\t1QSa\t1\t11\t1553680\tline\twro . wbkN tqbl lhoyd oly/w mCpfwt htwra wlhtyxb bmCmo mCpfyM . \t1618956\tword\thtyxb \thitpael\t34422\tsign\tt\t2\n"
     ]
    }
   ],
   "source": [
    "A.export(results, fmt='text-source-full')\n",
    "checkout()"
   ]
  },
  {
   "cell_type": "markdown",
   "metadata": {},
   "source": [
    "## Additional features\n",
    "\n",
    "If we want to export additional features, we just have to mention them.\n",
    "In order to do so and not change the result set, put a `*` behind the feature.\n",
    "\n",
    "The `*` means: *always true, no matter what's in the feature, even if there is nothing in there*.\n",
    "\n",
    "Let's ask for the original lexeme and morph tags and whether the sign is a reconstruction."
   ]
  },
  {
   "cell_type": "code",
   "execution_count": 10,
   "metadata": {
    "ExecuteTime": {
     "end_time": "2018-05-24T07:46:55.998382Z",
     "start_time": "2018-05-24T07:46:55.137956Z"
    }
   },
   "outputs": [
    {
     "name": "stdout",
     "output_type": "stream",
     "text": [
      "  3.80s 399 results\n"
     ]
    }
   ],
   "source": [
    "query = '''\n",
    "line\n",
    "  word vs=hitpael lexo* morpho*\n",
    "    sign unc rec*\n",
    "'''\n",
    "results = A.search(query)"
   ]
  },
  {
   "cell_type": "markdown",
   "metadata": {},
   "source": [
    "The same number of results.\n",
    "\n",
    "We do the export again and peek at the results."
   ]
  },
  {
   "cell_type": "code",
   "execution_count": 11,
   "metadata": {},
   "outputs": [
    {
     "name": "stdout",
     "output_type": "stream",
     "text": [
      "R\tS1\tS2\tS3\tNODE1\tTYPE1\tNODE2\tTYPE2\tTEXT2\tlexo2\tmorpho2\tvs2\tNODE3\tTYPE3\tTEXT3\trec3\tunc3\n",
      "1\tCD\t12\t23\t1553232\tline\t1610602\tword\tמתהלכים \thlK\tvtPmpa\thitpael\t10574\tsign\tמ\t\t2\n",
      "2\tCD\t12\t23\t1553232\tline\t1610602\tword\tמתהלכים \thlK\tvtPmpa\thitpael\t10578\tsign\tכ\t\t2\n",
      "3\tCD\t12\t23\t1553232\tline\t1610602\tword\tמתהלכים \thlK\tvtPmpa\thitpael\t10579\tsign\tי\t\t1\n",
      "4\tCD\t12\t23\t1553232\tline\t1610602\tword\tמתהלכים \thlK\tvtPmpa\thitpael\t10580\tsign\tם \t\t2\n",
      "5\tCD\t15\t11\t1553289\tline\t1611517\tword\tיתפתה \tpth_1\tvti3ms\thitpael\t13025\tsign\tת\t\t2\n",
      "6\tCD\t19\t4\t1553321\tline\t1611956\tword\tיתהלכו \thlK\tvti3mp\thitpael\t14285\tsign\tי\t\t1\n",
      "7\t1QS\t7\t24\t1553567\tline\t1616682\tword\tיתערב \torb_2\tvti3ms\thitpael\t27838\tsign\tי\t\t1\n",
      "8\t1QS\t7\t24\t1553567\tline\t1616682\tword\tיתערב \torb_2\tvti3ms\thitpael\t27839\tsign\tת\t\t2\n",
      "9\t1QSa\t1\t11\t1553680\tline\t1618956\tword\tהתיצב \tyxb\tvtc\thitpael\t34422\tsign\tת\t\t2\n"
     ]
    }
   ],
   "source": [
    "A.export(results, condenseType='word')\n",
    "checkout()"
   ]
  },
  {
   "cell_type": "markdown",
   "metadata": {},
   "source": [
    "As you see, you have an extra columns **lexo2**, **morpho2** and **rec3**.\n",
    "\n",
    "This gives you a lot of control over the generation of spreadsheets."
   ]
  },
  {
   "cell_type": "markdown",
   "metadata": {},
   "source": [
    "# Not from queries\n",
    "\n",
    "You can also export lists of node tuples that are not obtained by a query:"
   ]
  },
  {
   "cell_type": "code",
   "execution_count": 12,
   "metadata": {},
   "outputs": [
    {
     "data": {
      "text/plain": [
       "[(1607869, 100001, 200001),\n",
       " (1607870, 100002, 200002),\n",
       " (1607871, 100003, 200003),\n",
       " (1607872, 100004, 200004),\n",
       " (1607873, 100005, 200005),\n",
       " (1607874, 100006, 200006),\n",
       " (1607875, 100007, 200007),\n",
       " (1607876, 100008, 200008),\n",
       " (1607877, 100009, 200009),\n",
       " (1607878, 100010, 200010)]"
      ]
     },
     "execution_count": 12,
     "metadata": {},
     "output_type": "execute_result"
    }
   ],
   "source": [
    "words = F.otype.s('word')[1000:1010]\n",
    "signs1 = F.otype.s('sign')[100000:100010]\n",
    "signs2 = F.otype.s('sign')[200000:200010]\n",
    "tuples = list(zip(words, signs1, signs2))\n",
    "\n",
    "tuples"
   ]
  },
  {
   "cell_type": "markdown",
   "metadata": {},
   "source": [
    "Ten rows, each row has a word node and two sign nodes.\n",
    "\n",
    "The word and the signs in each row do not have any meaningful relationship!\n",
    "\n",
    "Let's do a bare export:"
   ]
  },
  {
   "cell_type": "code",
   "execution_count": 13,
   "metadata": {},
   "outputs": [
    {
     "name": "stdout",
     "output_type": "stream",
     "text": [
      "R\tS1\tS2\tS3\tNODE1\tTYPE1\tTEXT1\tNODE2\tTYPE2\tTEXT2\tlexo2\tmorpho2\tvs2\tNODE3\tTYPE3\tTEXT3\trec3\tunc3\n",
      "1\tCD\t4\t9\t1607869\tword\tהקים \t100001\tsign\tד\t\t\t\t200001\tsign\tל \t1\t\n",
      "2\tCD\t4\t9\t1607870\tword\tאל \t100002\tsign\tע\t\t\t\t200002\tsign\tת\t1\t\n",
      "3\tCD\t4\t9\t1607871\tword\tל\t100003\tsign\tת\t\t\t\t200003\tsign\tר\t1\t\n",
      "4\tCD\t4\t9\t1607872\tword\tראשנים \t100004\tsign\t׳\t\t\t\t200004\tsign\tי \t1\t\n",
      "5\tCD\t4\t9\t1607873\tword\tל\t100005\tsign\tי \t\t\t\t200005\tsign\tע\t1\t\n",
      "6\tCD\t4\t9\t1607874\tword\tכפר \t100006\tsign\tס\t\t\t\t200006\tsign\tש\t1\t\n",
      "7\tCD\t4\t10\t1607875\tword\tעל \t100007\tsign\tפ\t\t\t\t200007\tsign\tר \t1\t\n",
      "8\tCD\t4\t10\t1607876\tword\tעונותי׳הם \t100008\tsign\tר\t\t\t\t200008\tsign\tל\t1\t\n",
      "9\tCD\t4\t10\t1607877\tword\tכן \t100009\tsign\tת\t\t\t\t200009\tsign\t׳\t1\t\n"
     ]
    }
   ],
   "source": [
    "A.export(tuples)\n",
    "checkout()"
   ]
  },
  {
   "cell_type": "markdown",
   "metadata": {},
   "source": [
    "Wait a minute: why are the `lexo2` and `morpho2` and `rec3` and `unc` columns showing up?\n",
    "\n",
    "It is because we have run a query before where we asked for these features.\n",
    "\n",
    "If we do not want to be influenced by previous things we've run, we need to reset the display:"
   ]
  },
  {
   "cell_type": "code",
   "execution_count": 14,
   "metadata": {},
   "outputs": [],
   "source": [
    "A.displayReset('tupleFeatures')"
   ]
  },
  {
   "cell_type": "markdown",
   "metadata": {},
   "source": [
    "Again:"
   ]
  },
  {
   "cell_type": "code",
   "execution_count": 15,
   "metadata": {},
   "outputs": [
    {
     "name": "stdout",
     "output_type": "stream",
     "text": [
      "R\tS1\tS2\tS3\tNODE1\tTYPE1\tTEXT1\tNODE2\tTYPE2\tTEXT2\tNODE3\tTYPE3\tTEXT3\n",
      "1\tCD\t4\t9\t1607869\tword\tהקים \t100001\tsign\tד\t200001\tsign\tל \n",
      "2\tCD\t4\t9\t1607870\tword\tאל \t100002\tsign\tע\t200002\tsign\tת\n",
      "3\tCD\t4\t9\t1607871\tword\tל\t100003\tsign\tת\t200003\tsign\tר\n",
      "4\tCD\t4\t9\t1607872\tword\tראשנים \t100004\tsign\t׳\t200004\tsign\tי \n",
      "5\tCD\t4\t9\t1607873\tword\tל\t100005\tsign\tי \t200005\tsign\tע\n",
      "6\tCD\t4\t9\t1607874\tword\tכפר \t100006\tsign\tס\t200006\tsign\tש\n",
      "7\tCD\t4\t10\t1607875\tword\tעל \t100007\tsign\tפ\t200007\tsign\tר \n",
      "8\tCD\t4\t10\t1607876\tword\tעונותי׳הם \t100008\tsign\tר\t200008\tsign\tל\n",
      "9\tCD\t4\t10\t1607877\tword\tכן \t100009\tsign\tת\t200009\tsign\t׳\n"
     ]
    }
   ],
   "source": [
    "A.export(tuples)\n",
    "checkout()"
   ]
  },
  {
   "cell_type": "markdown",
   "metadata": {},
   "source": [
    "# Display setup\n",
    "\n",
    "When we exported query results, we could mention features in the query with a `*` so that they got exported.\n",
    "If we do not have a previous query we can achieve the same effect by specifying the desired export features per column.\n",
    "\n",
    "The display option `tupleFeatures` takes care of that."
   ]
  },
  {
   "cell_type": "code",
   "execution_count": 16,
   "metadata": {},
   "outputs": [],
   "source": [
    "A.displaySetup(tupleFeatures=(\n",
    "    (0, 'fulle lexe type'),\n",
    "    (1, 'glyphe type'),\n",
    "    (2, 'glyphe type'),\n",
    "))"
   ]
  },
  {
   "cell_type": "markdown",
   "metadata": {},
   "source": [
    "We assign extra features per member of the tuple.\n",
    "\n",
    "In the above case:\n",
    "\n",
    "* the first (`0`) member (the word node), gets features `fulle` (full transcription in ETCBC encoding),\n",
    "  `glyphe` (just the actual signs), `type` (type of word);\n",
    "* the second and third member (the sign nodes), get features `glyphe` and `type` (type of sign)."
   ]
  },
  {
   "cell_type": "code",
   "execution_count": 17,
   "metadata": {},
   "outputs": [
    {
     "name": "stdout",
     "output_type": "stream",
     "text": [
      "R\tS1\tS2\tS3\tNODE1\tTYPE1\tTEXT1\tfulle1\tlexe1\ttype1\tNODE2\tTYPE2\tTEXT2\tglyphe2\ttype2\tNODE3\tTYPE3\tTEXT3\tglyphe3\ttype3\n",
      "1\tCD\t4\t9\t1607869\tword\tהקים \tHQJm\tQWm\tglyph\t100001\tsign\tד\tD\tcons\t200001\tsign\tל \tL\tcons\n",
      "2\tCD\t4\t9\t1607870\tword\tאל \t>L\t>;L_5\tglyph\t100002\tsign\tע\t<\tcons\t200002\tsign\tת\tT\tcons\n",
      "3\tCD\t4\t9\t1607871\tword\tל\tL\tL:\tglyph\t100003\tsign\tת\tT\tcons\t200003\tsign\tר\tR\tcons\n",
      "4\tCD\t4\t9\t1607872\tword\tראשנים \tR>#NJm\tRI>COWn\tglyph\t100004\tsign\t׳\t'\tsep\t200004\tsign\tי \tJ\tcons\n",
      "5\tCD\t4\t9\t1607873\tword\tל\tL\tL:\tglyph\t100005\tsign\tי \tJ\tcons\t200005\tsign\tע\t<\tcons\n",
      "6\tCD\t4\t9\t1607874\tword\tכפר \tKPR\tKPR\tglyph\t100006\tsign\tס\tS\tcons\t200006\tsign\tש\t#\tcons\n",
      "7\tCD\t4\t10\t1607875\tword\tעל \t<L\t<AL_2\tglyph\t100007\tsign\tפ\tP\tcons\t200007\tsign\tר \tR\tcons\n",
      "8\tCD\t4\t10\t1607876\tword\tעונותי׳הם \t<WNWTJ'Hm\t<@WOn\tglyph\t100008\tsign\tר\tR\tcons\t200008\tsign\tל\tL\tcons\n",
      "9\tCD\t4\t10\t1607877\tword\tכן \tKn\tK.;n_2\tglyph\t100009\tsign\tת\tT\tcons\t200009\tsign\t׳\t'\tsep\n"
     ]
    }
   ],
   "source": [
    "A.export(tuples)\n",
    "checkout()"
   ]
  },
  {
   "cell_type": "markdown",
   "metadata": {},
   "source": [
    "# Chained queries\n",
    "\n",
    "Suppose we want to find signs between uncertainty brackets with glyph he and\n",
    "signs between alternate brackets with glyph aleph.\n",
    "\n",
    "If you forgot the exact type of cluster to look for,\n",
    "call up the types of clusters:"
   ]
  },
  {
   "cell_type": "code",
   "execution_count": 18,
   "metadata": {},
   "outputs": [
    {
     "data": {
      "text/plain": [
       "(('rec', 93733),\n",
       " ('vac', 3522),\n",
       " ('cor3', 1582),\n",
       " ('unc2', 906),\n",
       " ('rem2', 706),\n",
       " ('alt', 333),\n",
       " ('cor2', 147),\n",
       " ('cor', 95),\n",
       " ('rem', 75))"
      ]
     },
     "execution_count": 18,
     "metadata": {},
     "output_type": "execute_result"
    }
   ],
   "source": [
    "F.type.freqList(nodeTypes={'cluster'})"
   ]
  },
  {
   "cell_type": "markdown",
   "metadata": {},
   "source": [
    "We need `unc2`.\n",
    "\n",
    "And how do we type the he and the alef?\n",
    "We could copy paste from a Hebrew text, but we can also use the transcription.\n",
    "\n",
    "Consult the character table (see the link just below the incantation of the DSS) and see that\n",
    "alef = `a` and he = `h` in Abegg's encoding."
   ]
  },
  {
   "cell_type": "markdown",
   "metadata": {},
   "source": [
    "Now if we want to have the results combined in one table we can\n",
    "chain two queries like this:"
   ]
  },
  {
   "cell_type": "code",
   "execution_count": 19,
   "metadata": {},
   "outputs": [
    {
     "name": "stdout",
     "output_type": "stream",
     "text": [
      "  1.58s 135 results\n",
      "  1.67s 52 results\n"
     ]
    }
   ],
   "source": [
    "results = (\n",
    "    A.search('''\n",
    "line\n",
    "  cluster type=unc2\n",
    "    sign glypho=h\n",
    "''')\n",
    "    +\n",
    "    A.search('''\n",
    "line\n",
    "  cluster type=alt\n",
    "    sign glypho=a\n",
    "''')\n",
    ")"
   ]
  },
  {
   "cell_type": "markdown",
   "metadata": {},
   "source": [
    "In such cases, it is better to setup the features yourself:"
   ]
  },
  {
   "cell_type": "code",
   "execution_count": 20,
   "metadata": {},
   "outputs": [],
   "source": [
    "A.displaySetup(\n",
    "    tupleFeatures=(\n",
    "        (0, 'srcLn'),\n",
    "        (1, 'type'),\n",
    "        (2, 'glypho rec'),\n",
    "    ),\n",
    "    fmt='text-source-full',\n",
    ")"
   ]
  },
  {
   "cell_type": "markdown",
   "metadata": {},
   "source": [
    "Now we can do a fine export:"
   ]
  },
  {
   "cell_type": "code",
   "execution_count": 21,
   "metadata": {},
   "outputs": [
    {
     "name": "stdout",
     "output_type": "stream",
     "text": [
      "R\tS1\tS2\tS3\tNODE1\tTYPE1\tTEXT1\tsrcLn1\tNODE2\tTYPE2\tTEXT2\ttype2\tNODE3\tTYPE3\tTEXT3\tglypho3\trec3\n",
      "1\t1QM\t17\t2\t1554349\tline\trCo . watmh zkwrw mCpf ndb wabyhwa bny ahrwN aCr htqdC al bmCpf/M loyny kwl hoM . walozr \t\t1431580\tcluster\th\tunc2\t62403\tsign\th\th\t\n",
      "2\t1Q20\t6\t8\t1555643\tline\twnqbN . badyN lbn/y nCyN nsbt mN bnt aj/y wbnt/y lbny aj/y yhbt kdt jwq olma \t\t1433777\tcluster\thb\tunc2\t108754\tsign\th\th\t\n",
      "3\t1Q20\t6\t23\t1555658\tline\t-- waCkjt anh nwj jN rbw wqwCf \\\\\\ -- \t\t1433807\tcluster\th \tunc2\t109305\tsign\th \th\t\n",
      "4\t1Q20\t11\t11\t1555723\tline\tadyN anh nwj npqt whlkt baroa lawrk/ha wlpwty/ha -- \\\\ l\\\\\\\\\\\\\\\\\\N \t\t1433909\tcluster\th \tunc2\t111194\tsign\th \th\t\n",
      "5\t1Q20\t16\t16\t1555812\tline\tod fynh nhra \\\\\\\\\\\\\\\\\\\\\\\\l \\\\\\\\M \\\\\\\\\\\\\\\\\\\\\\\\\\\\ \t\t1434061\tcluster\th \tunc2\t115148\tsign\th \th\t\n",
      "6\t1Q29\tf3_4\t2\t1556404\tline\t-- yhwh alwhy/kmh -- \t\t1435250\tcluster\th \tunc2\t130666\tsign\th \th\t\n",
      "7\t4Q88\t9\t12\t1557399\tline\tpry b\\\\ gpny/hM wlwa \t\t1436941\tcluster\t/h\tunc2\t144782\tsign\th\th\t\n",
      "8\t4Q163\tf12\t8\t1557890\tline\t-- kaCr xwh -- \t\t1437896\tcluster\th \tunc2\t154597\tsign\th \th\t\n",
      "9\t4Q171\tf1_2ii\t13\t1558347\tline\tkya ba ywm/w . pCr/w ol oryxy hbryt aCr bbyt yhwdh aCr \t\t1438738\tcluster\th\tunc2\t164401\tsign\th\th\t\n"
     ]
    }
   ],
   "source": [
    "A.export(results)\n",
    "checkout()"
   ]
  },
  {
   "cell_type": "markdown",
   "metadata": {},
   "source": [
    "---\n",
    "\n",
    "All chapters:\n",
    "\n",
    "* **[start](start.ipynb)** become an expert in creating pretty displays of your text structures\n",
    "* **[display](display.ipynb)** become an expert in creating pretty displays of your text structures\n",
    "* **[search](search.ipynb)** turbo charge your hand-coding with search templates\n",
    "* **exportExcel** make tailor-made spreadsheets out of your results\n",
    "* **[share](share.ipynb)** draw in other people's data and let them use yours\n",
    "* **[similarLines](similarLines.ipynb)** spot the similarities between lines\n",
    "\n",
    "---\n",
    "\n",
    "See the [cookbook](cookbook) for recipes for small, concrete tasks."
   ]
  }
 ],
 "metadata": {
  "kernelspec": {
   "display_name": "Python 3",
   "language": "python",
   "name": "python3"
  },
  "language_info": {
   "codemirror_mode": {
    "name": "ipython",
    "version": 3
   },
   "file_extension": ".py",
   "mimetype": "text/x-python",
   "name": "python",
   "nbconvert_exporter": "python",
   "pygments_lexer": "ipython3",
   "version": "3.7.7"
  }
 },
 "nbformat": 4,
 "nbformat_minor": 4
}
