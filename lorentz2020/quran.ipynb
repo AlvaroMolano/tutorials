{
 "cells": [
  {
   "cell_type": "markdown",
   "metadata": {},
   "source": [
    "# Getting started\n",
    "\n",
    "It is assumed that you have read\n",
    "[start](start.ipynb)\n",
    "and followed the installation instructions there."
   ]
  },
  {
   "cell_type": "markdown",
   "metadata": {},
   "source": [
    "# Corpus\n",
    "\n",
    "This is\n",
    "\n",
    "* `quran` Q'uran"
   ]
  },
  {
   "cell_type": "markdown",
   "metadata": {},
   "source": [
    "# First acquaintance\n",
    "\n",
    "We just want to grasp what the corpus is about and how we can find our way in the data.\n",
    "\n",
    "Open a terminal or command prompt and say one of the following\n",
    "\n",
    "```text-fabric quran```\n",
    "\n",
    "Wait and see a lot happening before your browser starts up and shows you an interface on the corpus:"
   ]
  },
  {
   "cell_type": "markdown",
   "metadata": {},
   "source": [
    "Text-Fabric needs an app to deal with the corpus-specific things.\n",
    "It downloads/finds/caches the latest version of the **app**:\n",
    "\n",
    "```\n",
    "Using TF-app in /Users/dirk/text-fabric-data/annotation/app-quran/code:\n",
    "\t#c55d75da760bfdc6ae272b3ade9629fe34d059ce (latest commit)\n",
    "```\n",
    "\n",
    "It downloads/finds/caches the latest version of the **data**:\n",
    "\n",
    "```\n",
    "Using data in /Users/dirk/text-fabric-data/q-ran/quran/tf/0.4:\n",
    "\trv0.5=#60bd6788dadb13974e89df55cde7687c0593e65f (latest release)\n",
    "```\n",
    "\n",
    "The data is preprocessed in order to speed up typical Text-Fabric operations.\n",
    "The result is cached on your computer.\n",
    "Preprocessing costs time. Next time you use this corpus on this machine, the startup time is much quicker.\n",
    "\n",
    "```\n",
    "TF setup done.\n",
    "```\n",
    "\n",
    "Then the app goes on to act as a local webserver serving the corpus that has just been downloaded\n",
    "and it will open your browser for you and load the corpus page\n",
    "\n",
    "```\n",
    " * Running on http://localhost:8105/ (Press CTRL+C to quit)\n",
    "Opening quran in browser\n",
    "Listening at port 18985\n",
    "```"
   ]
  },
  {
   "cell_type": "markdown",
   "metadata": {},
   "source": [
    "<img src=\"images/q-bare.png\" width=\"600\">"
   ]
  },
  {
   "cell_type": "markdown",
   "metadata": {},
   "source": [
    "# Help!\n",
    "\n",
    "Indeed, that is what you need. Click the vertical `Help` tab.\n",
    "\n",
    "From there, click around a little bit. Don't read closely, just note the kinds of information that is presented to you.\n",
    "\n",
    "Later on, it will make more sense!"
   ]
  },
  {
   "cell_type": "markdown",
   "metadata": {},
   "source": [
    "# Browsing\n",
    "\n",
    "First we browse our data. Click the browse button.\n",
    "\n",
    "<img src=\"images/q-browse.png\" width=\"800\">\n",
    "\n",
    "and then, in the table of *documents* (suras), click on one.\n",
    "\n",
    "<img src=\"images/q-documents.png\" width=\"200\">\n"
   ]
  },
  {
   "cell_type": "markdown",
   "metadata": {},
   "source": [
    "Now you're looking at the ayas of a sura: the marks in an Arabic unicode  characters.\n",
    "\n",
    "<img src=\"images/q-sura.png\" width=\"1000\">"
   ]
  },
  {
   "cell_type": "markdown",
   "metadata": {},
   "source": [
    "Now click the *Options* tab and select the `text-trans-full` format to see the sura tablet in ascii transcription.\n",
    "\n",
    "<img src=\"images/q-ascii.png\" width=\"1000\">"
   ]
  },
  {
   "cell_type": "markdown",
   "metadata": {},
   "source": [
    "You can click a triangle to see how a line is broken down:\n",
    "\n",
    "<img src=\"images/q-drill.png\" width=\"800\">"
   ]
  },
  {
   "cell_type": "markdown",
   "metadata": {},
   "source": [
    "# Searching\n",
    "\n",
    "An  aya is a verse in a  sura.\n",
    "Let's find all the ayas that contain a verb followed by the word for Allah.\n",
    "\n",
    "Enter this query in the search pad and press the search icon above it.\n",
    "\n",
    "```\n",
    "aya\n",
    "  word pos=verb\n",
    "  <: word pos=noun    \n",
    "          posx=proper\n",
    "          root=Alh\n",
    "```\n",
    "\n",
    "<img src=\"images/q-search.png\" width=\"1200\">"
   ]
  },
  {
   "cell_type": "markdown",
   "metadata": {},
   "source": [
    "In English:\n",
    "\n",
    "search all `aya`s that contain a `word` and a `word`  where:\n",
    "\n",
    "* `<:` the second `word` follows immediately on the first `word`\n",
    "* the first `word` has value `verb`  for feature `pos` (part-of-speech)\n",
    "* the second `word` has\n",
    "  * value `noun`  for feature `pos`\n",
    "  * value `proper` for feature `posx` (subcategorisation of part-of-speech)\n",
    "  * value `Alh` for feature `root` (basic word form, more fundamental than lemma)"
   ]
  },
  {
   "cell_type": "markdown",
   "metadata": {},
   "source": [
    "You can expand results by clicking the triangle. \n",
    "\n",
    "You can see the result in context by  clicking the browse icon.\n",
    "\n",
    "You can go back to the result list by clicking the results icon.\n",
    "\n",
    "<img src=\"images/q-back.png\" width=\"1000\">"
   ]
  },
  {
   "cell_type": "markdown",
   "metadata": {},
   "source": [
    "This corpus has a feature for ayas in which an English translation is given: `translation@en`.\n",
    "\n",
    "We can trigger the display of these translations by mentioning the feature in the query without posing additional constraints:\n",
    "\n",
    "```\n",
    "aya translation@en*\n",
    "  word pos=verb\n",
    "  <: word pos=noun    \n",
    "          posx=proper\n",
    "          root=Alh\n",
    "```\n",
    "\n",
    "The `*` means: any value or even no value.\n",
    "\n",
    "<img src=\"images/q-search2.png\" width=\"1200\">"
   ]
  },
  {
   "cell_type": "markdown",
   "metadata": {},
   "source": [
    "# Computing\n",
    "\n",
    "We have found verbs associated with Allah.\n",
    "\n",
    "The question comes to mind: are there verbs that are associated with Allah only in this way?\n",
    "\n",
    "Let us look for verbs, followed by nouns, and for each verb, count how many different nouns occur in that position.\n",
    "\n",
    "*This is a typical question where you want to leave the search mode and enter computing mode*.\n",
    "\n",
    "Let's do that!"
   ]
  },
  {
   "cell_type": "markdown",
   "metadata": {},
   "source": [
    "If you have followed the installation instructions, you are set.\n",
    "Go to the browser window that opened when you gave the command `jupyter notebook` in your terminal.\n",
    "\n",
    "Then continue reading, and, ... executing.\n",
    "\n",
    "You can execute a cell by putting your cursor inside it and pressing `Shift Enter`."
   ]
  },
  {
   "cell_type": "markdown",
   "metadata": {},
   "source": [
    "First we load the Text-Fabric module, as follows:"
   ]
  },
  {
   "cell_type": "code",
   "execution_count": 1,
   "metadata": {},
   "outputs": [],
   "source": [
    "from tf.app import use"
   ]
  },
  {
   "cell_type": "markdown",
   "metadata": {},
   "source": [
    "Now we load the TF-app for the corpus `quran` and that app loads the corpus data.\n",
    "\n",
    "We give a name to the result of all that loading: `A`."
   ]
  },
  {
   "cell_type": "code",
   "execution_count": 2,
   "metadata": {},
   "outputs": [
    {
     "name": "stdout",
     "output_type": "stream",
     "text": [
      "rate limit is 5000 requests per hour, with 4995 left for this hour\n",
      "\tconnecting to online GitHub repo annotation/app-quran ... connected\n",
      "Using TF-app in /Users/dirk/text-fabric-data/annotation/app-quran/code:\n",
      "\t#c55d75da760bfdc6ae272b3ade9629fe34d059ce (latest commit)\n",
      "rate limit is 5000 requests per hour, with 4990 left for this hour\n",
      "\tconnecting to online GitHub repo q-ran/quran ... connected\n",
      "Using data in /Users/dirk/text-fabric-data/q-ran/quran/tf/0.4:\n",
      "\trv0.5=#60bd6788dadb13974e89df55cde7687c0593e65f (latest release)\n"
     ]
    },
    {
     "data": {
      "text/html": [
       "<b>Documentation:</b> <a target=\"_blank\" href=\"https://github.com/q-ran/quran/blob/master/docs\" title=\"provenance of Quran\">QURAN</a> <a target=\"_blank\" href=\"https://annotation.github.io/text-fabric/Writing/Arabic\" title=\"('Arabic characters and transcriptions',)\">Character table</a> <a target=\"_blank\" href=\"https://github.com/q-ran/quran/blob/master/docs/features.md#features.md\" title=\"QURAN feature documentation\">Feature docs</a> <a target=\"_blank\" href=\"https://github.com/annotation/app-quran\" title=\"quran API documentation\">quran API</a> <a target=\"_blank\" href=\"https://annotation.github.io/text-fabric/Api/Fabric/\" title=\"text-fabric-api\">Text-Fabric API 7.10.1</a> <a target=\"_blank\" href=\"https://annotation.github.io/text-fabric/Use/Search/\" title=\"Search Templates Introduction and Reference\">Search Reference</a><details open><summary><b>Loaded features</b>:</summary>\n",
       "<p><b>Quran</b>: <a target=\"_blank\" href=\"https://github.com/q-ran/quran/blob/master/docs/features.md#a\" title=\"/Users/dirk/text-fabric-data/q-ran/quran/tf/0.4/a.tf\">a</a>  <a target=\"_blank\" href=\"https://github.com/q-ran/quran/blob/master/docs/features.md#ascii\" title=\"/Users/dirk/text-fabric-data/q-ran/quran/tf/0.4/ascii.tf\">ascii</a>  <a target=\"_blank\" href=\"https://github.com/q-ran/quran/blob/master/docs/features.md#ax\" title=\"/Users/dirk/text-fabric-data/q-ran/quran/tf/0.4/ax.tf\">ax</a>  <a target=\"_blank\" href=\"https://github.com/q-ran/quran/blob/master/docs/features.md#case\" title=\"/Users/dirk/text-fabric-data/q-ran/quran/tf/0.4/case.tf\">case</a>  <a target=\"_blank\" href=\"https://github.com/q-ran/quran/blob/master/docs/features.md#component\" title=\"/Users/dirk/text-fabric-data/q-ran/quran/tf/0.4/component.tf\">component</a>  <a target=\"_blank\" href=\"https://github.com/q-ran/quran/blob/master/docs/features.md#definite\" title=\"/Users/dirk/text-fabric-data/q-ran/quran/tf/0.4/definite.tf\">definite</a>  <a target=\"_blank\" href=\"https://github.com/q-ran/quran/blob/master/docs/features.md#f\" title=\"/Users/dirk/text-fabric-data/q-ran/quran/tf/0.4/f.tf\">f</a>  <a target=\"_blank\" href=\"https://github.com/q-ran/quran/blob/master/docs/features.md#formation\" title=\"/Users/dirk/text-fabric-data/q-ran/quran/tf/0.4/formation.tf\">formation</a>  <a target=\"_blank\" href=\"https://github.com/q-ran/quran/blob/master/docs/features.md#fx\" title=\"/Users/dirk/text-fabric-data/q-ran/quran/tf/0.4/fx.tf\">fx</a>  <a target=\"_blank\" href=\"https://github.com/q-ran/quran/blob/master/docs/features.md#gn\" title=\"/Users/dirk/text-fabric-data/q-ran/quran/tf/0.4/gn.tf\">gn</a>  <a target=\"_blank\" href=\"https://github.com/q-ran/quran/blob/master/docs/features.md#interjection\" title=\"/Users/dirk/text-fabric-data/q-ran/quran/tf/0.4/interjection.tf\">interjection</a>  <a target=\"_blank\" href=\"https://github.com/q-ran/quran/blob/master/docs/features.md#l\" title=\"/Users/dirk/text-fabric-data/q-ran/quran/tf/0.4/l.tf\">l</a>  <a target=\"_blank\" href=\"https://github.com/q-ran/quran/blob/master/docs/features.md#lemma\" title=\"/Users/dirk/text-fabric-data/q-ran/quran/tf/0.4/lemma.tf\">lemma</a>  <a target=\"_blank\" href=\"https://github.com/q-ran/quran/blob/master/docs/features.md#lx\" title=\"/Users/dirk/text-fabric-data/q-ran/quran/tf/0.4/lx.tf\">lx</a>  <a target=\"_blank\" href=\"https://github.com/q-ran/quran/blob/master/docs/features.md#mood\" title=\"/Users/dirk/text-fabric-data/q-ran/quran/tf/0.4/mood.tf\">mood</a>  <a target=\"_blank\" href=\"https://github.com/q-ran/quran/blob/master/docs/features.md#n\" title=\"/Users/dirk/text-fabric-data/q-ran/quran/tf/0.4/n.tf\">n</a>  <a target=\"_blank\" href=\"https://github.com/q-ran/quran/blob/master/docs/features.md#name\" title=\"/Users/dirk/text-fabric-data/q-ran/quran/tf/0.4/name.tf\">name</a>  <a target=\"_blank\" href=\"https://github.com/q-ran/quran/blob/master/docs/features.md#name@ll\" title=\"/Users/dirk/text-fabric-data/q-ran/quran/tf/0.4/name@en.tf\">name@ll</a>  <a target=\"_blank\" href=\"https://github.com/q-ran/quran/blob/master/docs/features.md#nameAscii\" title=\"/Users/dirk/text-fabric-data/q-ran/quran/tf/0.4/nameAscii.tf\">nameAscii</a>  <a target=\"_blank\" href=\"https://github.com/q-ran/quran/blob/master/docs/features.md#nameTrans\" title=\"/Users/dirk/text-fabric-data/q-ran/quran/tf/0.4/nameTrans.tf\">nameTrans</a>  <a target=\"_blank\" href=\"https://github.com/q-ran/quran/blob/master/docs/features.md#nu\" title=\"/Users/dirk/text-fabric-data/q-ran/quran/tf/0.4/nu.tf\">nu</a>  <a target=\"_blank\" href=\"https://github.com/q-ran/quran/blob/master/docs/features.md#number\" title=\"/Users/dirk/text-fabric-data/q-ran/quran/tf/0.4/number.tf\">number</a>  <a target=\"_blank\" href=\"https://github.com/q-ran/quran/blob/master/docs/features.md#order\" title=\"/Users/dirk/text-fabric-data/q-ran/quran/tf/0.4/order.tf\">order</a>  <a target=\"_blank\" href=\"https://github.com/q-ran/quran/blob/master/docs/features.md#otype\" title=\"/Users/dirk/text-fabric-data/q-ran/quran/tf/0.4/otype.tf\">otype</a>  <a target=\"_blank\" href=\"https://github.com/q-ran/quran/blob/master/docs/features.md#pos\" title=\"/Users/dirk/text-fabric-data/q-ran/quran/tf/0.4/pos.tf\">pos</a>  <a target=\"_blank\" href=\"https://github.com/q-ran/quran/blob/master/docs/features.md#posx\" title=\"/Users/dirk/text-fabric-data/q-ran/quran/tf/0.4/posx.tf\">posx</a>  <a target=\"_blank\" href=\"https://github.com/q-ran/quran/blob/master/docs/features.md#ps\" title=\"/Users/dirk/text-fabric-data/q-ran/quran/tf/0.4/ps.tf\">ps</a>  <a target=\"_blank\" href=\"https://github.com/q-ran/quran/blob/master/docs/features.md#root\" title=\"/Users/dirk/text-fabric-data/q-ran/quran/tf/0.4/root.tf\">root</a>  <a target=\"_blank\" href=\"https://github.com/q-ran/quran/blob/master/docs/features.md#sp\" title=\"/Users/dirk/text-fabric-data/q-ran/quran/tf/0.4/sp.tf\">sp</a>  <a target=\"_blank\" href=\"https://github.com/q-ran/quran/blob/master/docs/features.md#space\" title=\"/Users/dirk/text-fabric-data/q-ran/quran/tf/0.4/space.tf\">space</a>  <a target=\"_blank\" href=\"https://github.com/q-ran/quran/blob/master/docs/features.md#tense\" title=\"/Users/dirk/text-fabric-data/q-ran/quran/tf/0.4/tense.tf\">tense</a>  <a target=\"_blank\" href=\"https://github.com/q-ran/quran/blob/master/docs/features.md#translation@ll\" title=\"/Users/dirk/text-fabric-data/q-ran/quran/tf/0.4/translation@en.tf\">translation@ll</a>  <a target=\"_blank\" href=\"https://github.com/q-ran/quran/blob/master/docs/features.md#type\" title=\"/Users/dirk/text-fabric-data/q-ran/quran/tf/0.4/type.tf\">type</a>  <a target=\"_blank\" href=\"https://github.com/q-ran/quran/blob/master/docs/features.md#unicode\" title=\"/Users/dirk/text-fabric-data/q-ran/quran/tf/0.4/unicode.tf\">unicode</a>  <a target=\"_blank\" href=\"https://github.com/q-ran/quran/blob/master/docs/features.md#voice\" title=\"/Users/dirk/text-fabric-data/q-ran/quran/tf/0.4/voice.tf\">voice</a>  <a target=\"_blank\" href=\"https://github.com/q-ran/quran/blob/master/docs/features.md#w\" title=\"/Users/dirk/text-fabric-data/q-ran/quran/tf/0.4/w.tf\">w</a>  <a target=\"_blank\" href=\"https://github.com/q-ran/quran/blob/master/docs/features.md#wx\" title=\"/Users/dirk/text-fabric-data/q-ran/quran/tf/0.4/wx.tf\">wx</a>  <b><i><a target=\"_blank\" href=\"https://github.com/q-ran/quran/blob/master/docs/features.md#oslots\" title=\"/Users/dirk/text-fabric-data/q-ran/quran/tf/0.4/oslots.tf\">oslots</a></i></b> </p></details>"
      ],
      "text/plain": [
       "<IPython.core.display.HTML object>"
      ]
     },
     "metadata": {},
     "output_type": "display_data"
    },
    {
     "data": {
      "text/html": [
       "<style>\n",
       "@font-face {\n",
       "  font-family: \"AmiriQuran\";\n",
       "  src:\n",
       "    local(\"AmiriQuran.ttf\"),\n",
       "    url(\"https://github.com/annotation/text-fabric/blob/master/tf/server/static/fonts/AmiriQuran.woff2?raw=true\");\n",
       "}\n",
       ".features {\n",
       "    font-family: monospace;\n",
       "    font-size: medium;\n",
       "    font-weight: bold;\n",
       "    color: #0a6611;\n",
       "    display: flex;\n",
       "    flex-flow: column nowrap;\n",
       "    padding: 0.1em;\n",
       "    margin: 0.1em;\n",
       "    direction: ltr;\n",
       "}\n",
       ".features div,.features span {\n",
       "    padding: 0;\n",
       "    margin: -0.1rem 0;\n",
       "}\n",
       ".features .f {\n",
       "    font-family: sans-serif;\n",
       "    font-size: x-small;\n",
       "    font-weight: normal;\n",
       "    color: #5555bb;\n",
       "}\n",
       ".features .xft {\n",
       "  color: #000000;\n",
       "  background-color: #eeeeee;\n",
       "  font-size: medium;\n",
       "  margin: 0.1em 0em;\n",
       "}\n",
       ".features .xft .f {\n",
       "  color: #000000;\n",
       "  background-color: #eeeeee;\n",
       "  font-style: italic;\n",
       "  font-size: small;\n",
       "  font-weight: normal;\n",
       "}\n",
       ".aya {\n",
       "    display: flex;\n",
       "    flex-flow: row wrap;\n",
       "    direction: rtl;\n",
       "}\n",
       ".vl {\n",
       "    display: flex;\n",
       "    flex-flow: column nowrap;\n",
       "    justify-content: flex-end;\n",
       "    align-items: flex-end;\n",
       "    direction: ltr;\n",
       "    width: 100%;\n",
       "}\n",
       ".outeritem {\n",
       "    display: flex;\n",
       "    flex-flow: row wrap;\n",
       "    direction: rtl;\n",
       "}\n",
       ".word {\n",
       "    padding: 0.1em;\n",
       "    margin: 0.1em;\n",
       "    border-radius: 0.1em;\n",
       "    border: 1px solid #cccccc;\n",
       "    display: flex;\n",
       "    flex-flow: column nowrap;\n",
       "    direction: rtl;\n",
       "    background-color: #ffffff;\n",
       "}\n",
       ".lextp {\n",
       "    padding: 0.1em;\n",
       "    margin: 0.1em;\n",
       "    border-radius: 0.1em;\n",
       "    border: 2px solid #888888;\n",
       "    width: fit-content;\n",
       "    display: flex;\n",
       "    flex-flow: column nowrap;\n",
       "    direction: rtl;\n",
       "    background-color: #ffffff;\n",
       "}\n",
       ".occs {\n",
       "    font-size: x-small;\n",
       "}\n",
       ".tr,.tr a:visited,.tr a:link {\n",
       "    font-family: sans-serif;\n",
       "    font-size: large;\n",
       "    color: #000044;\n",
       "    direction: ltr;\n",
       "    text-decoration: none;\n",
       "}\n",
       ".trb,.trb a:visited,.trb a:link {\n",
       "    font-family: sans-serif;\n",
       "    font-size: normal;\n",
       "    direction: ltr;\n",
       "    text-decoration: none;\n",
       "}\n",
       ".ar,.ar a:visited,.ar a:link {\n",
       "    font-family: \"AmiriQuran\", sans-serif;\n",
       "    font-size: large;\n",
       "    color: #000044;\n",
       "    direction: rtl;\n",
       "    text-decoration: none;\n",
       "}\n",
       ".arb,.arb a:visited,.arb a:link {\n",
       "    font-family: \"AmiriQuran\", sans-serif;\n",
       "    font-size: large;\n",
       "    line-height: 3;\n",
       "    direction: rtl;\n",
       "    text-decoration: none;\n",
       "}\n",
       ".vn {\n",
       "  font-size: small !important;\n",
       "  padding-right: 1em;\n",
       "}\n",
       ".sp,.sp a:visited,.sp a:link {\n",
       "    font-family: monospace;\n",
       "    font-size: medium;\n",
       "    color: #0000bb;\n",
       "    text-decoration: none;\n",
       "}\n",
       ".lexeme {\n",
       "    font-family: monospace;\n",
       "    font-size: medium;\n",
       "    color: #0000bb;\n",
       "}\n",
       ".vs {\n",
       "    font-family: monospace;\n",
       "    font-size: medium;\n",
       "    font-weight: bold;\n",
       "    color: #0000bb;\n",
       "}\n",
       ".vt {\n",
       "    font-family: monospace;\n",
       "    font-size: medium;\n",
       "    font-weight: bold;\n",
       "    color: #0000bb;\n",
       "}\n",
       ".nd {\n",
       "    font-family: monospace;\n",
       "    font-size: x-small;\n",
       "    color: #999999;\n",
       "}\n",
       ".hl {\n",
       "    background-color: #ffee66;\n",
       "}\n",
       "\n",
       "\n",
       "tr.tf, td.tf, th.tf {\n",
       "  text-align: left;\n",
       "}\n",
       "\n",
       "span.hldot {\n",
       "\tbackground-color: var(--hl-strong);\n",
       "\tborder: 0.2rem solid var(--hl-rim);\n",
       "\tborder-radius: 0.4rem;\n",
       "\t/*\n",
       "\tdisplay: inline-block;\n",
       "\twidth: 0.8rem;\n",
       "\theight: 0.8rem;\n",
       "\t*/\n",
       "}\n",
       "span.hl {\n",
       "\tbackground-color: var(--hl-strong);\n",
       "\tborder-width: 0;\n",
       "\tborder-radius: 0.1rem;\n",
       "\tborder-style: solid;\n",
       "}\n",
       "\n",
       "span.hlup {\n",
       "\tborder-color: var(--hl-dark);\n",
       "\tborder-width: 0.1rem;\n",
       "\tborder-style: solid;\n",
       "\tborder-radius: 0.2rem;\n",
       "  padding: 0.2rem;\n",
       "}\n",
       "\n",
       ":root {\n",
       "\t--hl-strong:        hsla( 60, 100%,  70%, 0.9  );\n",
       "\t--hl-rim:           hsla( 55, 100%,  60%, 0.9  );\n",
       "\t--hl-dark:          hsla( 55, 100%,  40%, 0.9  );\n",
       "}\n",
       "</style>"
      ],
      "text/plain": [
       "<IPython.core.display.HTML object>"
      ]
     },
     "metadata": {},
     "output_type": "display_data"
    },
    {
     "data": {
      "text/html": [
       "<details open><summary><b>API members</b>:</summary>\n",
       "<a target=\"_blank\" href=\"https://annotation.github.io/text-fabric/Api/Computed/#computed-data\" title=\"doc\">C Computed</a>, <a target=\"_blank\" href=\"https://annotation.github.io/text-fabric/Api/Computed/#computed-data\" title=\"doc\">Call AllComputeds</a>, <a target=\"_blank\" href=\"https://annotation.github.io/text-fabric/Api/Computed/#computed-data\" title=\"doc\">Cs ComputedString</a><br/>\n",
       "<a target=\"_blank\" href=\"https://annotation.github.io/text-fabric/Api/Features/#edge-features\" title=\"doc\">E Edge</a>, <a target=\"_blank\" href=\"https://annotation.github.io/text-fabric/Api/Features/#edge-features\" title=\"doc\">Eall AllEdges</a>, <a target=\"_blank\" href=\"https://annotation.github.io/text-fabric/Api/Features/#edge-features\" title=\"doc\">Es EdgeString</a><br/>\n",
       "<a target=\"_blank\" href=\"https://annotation.github.io/text-fabric/Api/Fabric/#loading\" title=\"doc\">ensureLoaded</a>, <a target=\"_blank\" href=\"https://annotation.github.io/text-fabric/Api/Fabric/#loading\" title=\"doc\">TF</a>, <a target=\"_blank\" href=\"https://annotation.github.io/text-fabric/Api/Fabric/#loading\" title=\"doc\">ignored</a>, <a target=\"_blank\" href=\"https://annotation.github.io/text-fabric/Api/Fabric/#loading\" title=\"doc\">loadLog</a><br/>\n",
       "<a target=\"_blank\" href=\"https://annotation.github.io/text-fabric/Api/Locality/#locality\" title=\"doc\">L Locality</a><br/>\n",
       "<a target=\"_blank\" href=\"https://annotation.github.io/text-fabric/Api/Misc/#messaging\" title=\"doc\">cache</a>, <a target=\"_blank\" href=\"https://annotation.github.io/text-fabric/Api/Misc/#messaging\" title=\"doc\">error</a>, <a target=\"_blank\" href=\"https://annotation.github.io/text-fabric/Api/Misc/#messaging\" title=\"doc\">indent</a>, <a target=\"_blank\" href=\"https://annotation.github.io/text-fabric/Api/Misc/#messaging\" title=\"doc\">info</a>, <a target=\"_blank\" href=\"https://annotation.github.io/text-fabric/Api/Misc/#messaging\" title=\"doc\">isSilent</a>, <a target=\"_blank\" href=\"https://annotation.github.io/text-fabric/Api/Misc/#messaging\" title=\"doc\">reset</a>, <a target=\"_blank\" href=\"https://annotation.github.io/text-fabric/Api/Misc/#messaging\" title=\"doc\">setSilent</a>, <a target=\"_blank\" href=\"https://annotation.github.io/text-fabric/Api/Misc/#messaging\" title=\"doc\">silentOff</a>, <a target=\"_blank\" href=\"https://annotation.github.io/text-fabric/Api/Misc/#messaging\" title=\"doc\">silentOn</a>, <a target=\"_blank\" href=\"https://annotation.github.io/text-fabric/Api/Misc/#messaging\" title=\"doc\">warning</a><br/>\n",
       "<a target=\"_blank\" href=\"https://annotation.github.io/text-fabric/Api/Nodes/#navigating-nodes\" title=\"doc\">N Nodes</a>, <a target=\"_blank\" href=\"https://annotation.github.io/text-fabric/Api/Nodes/#navigating-nodes\" title=\"doc\">sortKey</a>, <a target=\"_blank\" href=\"https://annotation.github.io/text-fabric/Api/Nodes/#navigating-nodes\" title=\"doc\">sortKeyTuple</a>, <a target=\"_blank\" href=\"https://annotation.github.io/text-fabric/Api/Nodes/#navigating-nodes\" title=\"doc\">otypeRank</a>, <a target=\"_blank\" href=\"https://annotation.github.io/text-fabric/Api/Nodes/#navigating-nodes\" title=\"doc\">sortNodes</a><br/>\n",
       "<a target=\"_blank\" href=\"https://annotation.github.io/text-fabric/Api/Features/#node-features\" title=\"doc\">F Feature</a>, <a target=\"_blank\" href=\"https://annotation.github.io/text-fabric/Api/Features/#node-features\" title=\"doc\">Fall AllFeatures</a>, <a target=\"_blank\" href=\"https://annotation.github.io/text-fabric/Api/Features/#node-features\" title=\"doc\">Fs FeatureString</a><br/>\n",
       "<a target=\"_blank\" href=\"https://annotation.github.io/text-fabric/Api/Search/#search\" title=\"doc\">S Search</a><br/>\n",
       "<a target=\"_blank\" href=\"https://annotation.github.io/text-fabric/Api/Text/#text\" title=\"doc\">T Text</a></details>"
      ],
      "text/plain": [
       "<IPython.core.display.HTML object>"
      ]
     },
     "metadata": {},
     "output_type": "display_data"
    }
   ],
   "source": [
    "A = use('quran', hoist=globals())"
   ]
  },
  {
   "cell_type": "markdown",
   "metadata": {},
   "source": [
    "Some bits are familiar from above, when you ran the `text-fabric` command in the terminal.\n",
    "\n",
    "Other bits are links to the documentation, they point to the same places as the links on the Text-Fabric browser.\n",
    "\n",
    "You see a list of all the data features that have been loaded.\n",
    "\n",
    "And a list of references to the API documentation, which tells you how you can use this data in your program statements."
   ]
  },
  {
   "cell_type": "markdown",
   "metadata": {},
   "source": [
    "# Searching (revisited)\n",
    "\n",
    "We do the same search again, but now inside our program.\n",
    "\n",
    "That means that we can capture the results in a list for further processing. "
   ]
  },
  {
   "cell_type": "code",
   "execution_count": 3,
   "metadata": {},
   "outputs": [
    {
     "name": "stdout",
     "output_type": "stream",
     "text": [
      "  0.32s 529 results\n"
     ]
    }
   ],
   "source": [
    "results = A.search('''\n",
    "aya\n",
    "  word pos=verb\n",
    "  <: word pos=noun    \n",
    "          posx=proper\n",
    "          root=Alh\n",
    "''')"
   ]
  },
  {
   "cell_type": "markdown",
   "metadata": {},
   "source": [
    "In less than a second, we have all the results!\n",
    "\n",
    "Let's look at the first one:"
   ]
  },
  {
   "cell_type": "code",
   "execution_count": 4,
   "metadata": {},
   "outputs": [
    {
     "data": {
      "text/plain": [
       "(128233, 131, 132)"
      ]
     },
     "execution_count": 4,
     "metadata": {},
     "output_type": "execute_result"
    }
   ],
   "source": [
    "results[0]"
   ]
  },
  {
   "cell_type": "markdown",
   "metadata": {},
   "source": [
    "Each result is a list of numbers: for a \n",
    "\n",
    "1. aya\n",
    "1. word\n",
    "1. word"
   ]
  },
  {
   "cell_type": "markdown",
   "metadata": {},
   "source": [
    "Here is the  second one:"
   ]
  },
  {
   "cell_type": "code",
   "execution_count": 5,
   "metadata": {},
   "outputs": [
    {
     "data": {
      "text/plain": [
       "(128243, 341, 342)"
      ]
     },
     "execution_count": 5,
     "metadata": {},
     "output_type": "execute_result"
    }
   ],
   "source": [
    "results[1]"
   ]
  },
  {
   "cell_type": "markdown",
   "metadata": {},
   "source": [
    "And here the last one:"
   ]
  },
  {
   "cell_type": "code",
   "execution_count": 6,
   "metadata": {},
   "outputs": [
    {
     "data": {
      "text/plain": [
       "(134357, 127588, 127589)"
      ]
     },
     "execution_count": 6,
     "metadata": {},
     "output_type": "execute_result"
    }
   ],
   "source": [
    "results[-1]"
   ]
  },
  {
   "cell_type": "markdown",
   "metadata": {},
   "source": [
    "Now we modify the query to get all pairs of proper verbs followed by a proper noun."
   ]
  },
  {
   "cell_type": "code",
   "execution_count": 7,
   "metadata": {},
   "outputs": [
    {
     "name": "stdout",
     "output_type": "stream",
     "text": [
      "  0.29s 2103 results\n"
     ]
    }
   ],
   "source": [
    "results = A.search('''\n",
    "aya\n",
    "  word pos=verb\n",
    "  <: word pos=noun    \n",
    "''')"
   ]
  },
  {
   "cell_type": "markdown",
   "metadata": {},
   "source": [
    "We are going to make buckets for the root of each verb found, and in those buckets we throw the roots of all nouns found after them. \n",
    "We also count the number of occurrences of each noun root in the buckets."
   ]
  },
  {
   "cell_type": "code",
   "execution_count": 8,
   "metadata": {},
   "outputs": [],
   "source": [
    "import collections"
   ]
  },
  {
   "cell_type": "code",
   "execution_count": 9,
   "metadata": {},
   "outputs": [],
   "source": [
    "buckets = collections.defaultdict(collections.Counter)"
   ]
  },
  {
   "cell_type": "code",
   "execution_count": 10,
   "metadata": {},
   "outputs": [],
   "source": [
    "for (aya, verb, noun) in results:\n",
    "  buckets[F.root.v(verb)][F.root.v(noun)] += 1"
   ]
  },
  {
   "cell_type": "markdown",
   "metadata": {},
   "source": [
    "How many buckets do we have?"
   ]
  },
  {
   "cell_type": "code",
   "execution_count": 11,
   "metadata": {},
   "outputs": [
    {
     "data": {
      "text/plain": [
       "359"
      ]
     },
     "execution_count": 11,
     "metadata": {},
     "output_type": "execute_result"
    }
   ],
   "source": [
    "len(buckets)"
   ]
  },
  {
   "cell_type": "markdown",
   "metadata": {},
   "source": [
    "How many nouns are there in each bucket?"
   ]
  },
  {
   "cell_type": "code",
   "execution_count": 12,
   "metadata": {},
   "outputs": [
    {
     "data": {
      "text/plain": [
       "1"
      ]
     },
     "execution_count": 12,
     "metadata": {},
     "output_type": "execute_result"
    }
   ],
   "source": [
    "min(len(nouns) for (bucket, nouns) in buckets.items())"
   ]
  },
  {
   "cell_type": "code",
   "execution_count": 13,
   "metadata": {},
   "outputs": [
    {
     "data": {
      "text/plain": [
       "115"
      ]
     },
     "execution_count": 13,
     "metadata": {},
     "output_type": "execute_result"
    }
   ],
   "source": [
    "max(len(nouns) for (bucket, nouns)  in buckets.items())"
   ]
  },
  {
   "cell_type": "markdown",
   "metadata": {},
   "source": [
    "Lets get a picture of the distribution."
   ]
  },
  {
   "cell_type": "code",
   "execution_count": 14,
   "metadata": {},
   "outputs": [],
   "source": [
    "import seaborn as sns"
   ]
  },
  {
   "cell_type": "code",
   "execution_count": 15,
   "metadata": {},
   "outputs": [
    {
     "data": {
      "text/plain": [
       "<matplotlib.axes._subplots.AxesSubplot at 0x7fb14c628f98>"
      ]
     },
     "execution_count": 15,
     "metadata": {},
     "output_type": "execute_result"
    },
    {
     "data": {
      "image/png": "[encoded data removed]",
      "text/plain": [
       "<Figure size 432x288 with 1 Axes>"
      ]
     },
     "metadata": {},
     "output_type": "display_data"
    }
   ],
   "source": [
    "sns.set(color_codes=True)\n",
    "sns.distplot(list(len(nouns) for nouns in buckets.values()), axlabel=\"number of nouns\")"
   ]
  },
  {
   "cell_type": "markdown",
   "metadata": {},
   "source": [
    "We collect the buckets of length 1 in two sets: those with Allah in the bucket and those with another word:"
   ]
  },
  {
   "cell_type": "code",
   "execution_count": 16,
   "metadata": {},
   "outputs": [
    {
     "name": "stdout",
     "output_type": "stream",
     "text": [
      "with    Alh:  39\n",
      "without Alh: 163\n"
     ]
    }
   ],
   "source": [
    "buckets1A = {bucket for (bucket, nouns) in buckets.items() if len(nouns) == 1 and 'Alh' in nouns}\n",
    "buckets1N = {bucket for (bucket, nouns) in buckets.items() if len(nouns) == 1 and 'Alh' not in nouns}\n",
    "print(f\"with    Alh: {len(buckets1A):>3}\")\n",
    "print(f\"without Alh: {len(buckets1N):>3}\")"
   ]
  },
  {
   "cell_type": "markdown",
   "metadata": {},
   "source": [
    "Finally we show the roots of the verbs that are associated only with `Alh`:"
   ]
  },
  {
   "cell_type": "code",
   "execution_count": 17,
   "metadata": {},
   "outputs": [
    {
     "data": {
      "text/plain": [
       "['$qq',\n",
       " 'Axr',\n",
       " 'Edd',\n",
       " 'Efw',\n",
       " 'Ehd',\n",
       " 'Ejl',\n",
       " 'Ejz',\n",
       " 'Hdd',\n",
       " 'Hrb',\n",
       " 'HwT',\n",
       " 'Hyf',\n",
       " 'Sdq',\n",
       " 'TbE',\n",
       " 'bsT',\n",
       " 'frD',\n",
       " 'fsH',\n",
       " 'gDb',\n",
       " 'hwn',\n",
       " 'jdl',\n",
       " 'kfy',\n",
       " 'krh',\n",
       " 'mHS',\n",
       " 'mHn',\n",
       " 'mHq',\n",
       " 'mHw',\n",
       " 'mkr',\n",
       " 'mnn',\n",
       " 'myz',\n",
       " 'nqm',\n",
       " 'nsx',\n",
       " 'qrD',\n",
       " 'rDw',\n",
       " 'sxT',\n",
       " 'twb',\n",
       " 'wfq',\n",
       " 'wld',\n",
       " 'xsf',\n",
       " 'xtm',\n",
       " 'xzy']"
      ]
     },
     "execution_count": 17,
     "metadata": {},
     "output_type": "execute_result"
    }
   ],
   "source": [
    "sorted(buckets1A)"
   ]
  },
  {
   "cell_type": "markdown",
   "metadata": {},
   "source": [
    "And now we want to find them back in the text and show the translations of the ayas they contain.\n",
    "\n",
    "We compute a query out of the `bucket1A` contents, and run it."
   ]
  },
  {
   "cell_type": "code",
   "execution_count": 18,
   "metadata": {},
   "outputs": [
    {
     "data": {
      "text/plain": [
       "'xtm|bsT|jdl|nqm|kfy|mHS|mHq|Hdd|frD|Efw|rDw|gDb|sxT|Ehd|Edd|xsf|fsH|mHw|Sdq|mnn|wld|twb|TbE|mkr|Hyf|HwT|$qq|hwn|nsx|wfq|krh|mHn|myz|Ejz|Hrb|Axr|Ejl|xzy|qrD'"
      ]
     },
     "execution_count": 18,
     "metadata": {},
     "output_type": "execute_result"
    }
   ],
   "source": [
    "condition = '|'.join(buckets1A)\n",
    "condition"
   ]
  },
  {
   "cell_type": "code",
   "execution_count": 19,
   "metadata": {},
   "outputs": [],
   "source": [
    "query = f'''\n",
    "aya\n",
    "  word pos=verb\n",
    "       root={condition}\n",
    "  <: word pos=noun    \n",
    "'''"
   ]
  },
  {
   "cell_type": "code",
   "execution_count": 20,
   "metadata": {},
   "outputs": [
    {
     "name": "stdout",
     "output_type": "stream",
     "text": [
      "\n",
      "aya\n",
      "  word pos=verb\n",
      "       root=xtm|bsT|jdl|nqm|kfy|mHS|mHq|Hdd|frD|Efw|rDw|gDb|sxT|Ehd|Edd|xsf|fsH|mHw|Sdq|mnn|wld|twb|TbE|mkr|Hyf|HwT|$qq|hwn|nsx|wfq|krh|mHn|myz|Ejz|Hrb|Axr|Ejl|xzy|qrD\n",
      "  <: word pos=noun    \n",
      "\n"
     ]
    }
   ],
   "source": [
    "print(query)"
   ]
  },
  {
   "cell_type": "code",
   "execution_count": 21,
   "metadata": {},
   "outputs": [
    {
     "name": "stdout",
     "output_type": "stream",
     "text": [
      "  0.28s 78 results\n"
     ]
    }
   ],
   "source": [
    "results = A.search(query)"
   ]
  },
  {
   "cell_type": "markdown",
   "metadata": {},
   "source": [
    "Now we can show the results quite easily:"
   ]
  },
  {
   "cell_type": "code",
   "execution_count": 22,
   "metadata": {},
   "outputs": [
    {
     "data": {
      "text/html": [
       "<table>\n",
       "<tr class=\"tf\">\n",
       "  <th class=\"tf\">n</th><th class=\"tf\">p</th>\n",
       "  <th class=\"tf\">aya</th><th>word</th><th>word</th>\n",
       "</tr>\n",
       "\n",
       "<tr class=\"tf\"><td class=\"tf\">1</td><td class=\"tf\"> <a href=\"http://tanzil.net/#2:7\" title=\"show this passage on Tanzil\" sec=\"2:7\">2:7</a></td><td class=\"tf\"><span class=\"arb\"><a class=\"vn\" href=\"http://tanzil.net/#2:7\" title=\"2:7\" sec=\"2:7\"></a><span  class=\"hl\" >خَتَمَ </span><span  class=\"hl\" >ٱللَّهُ </span>عَلَىٰ قُلُوبِهِمْ وَعَلَىٰ سَمْعِهِمْ وَعَلَىٰٓ أَبْصَٰرِهِمْ غِشَٰوَةٌ وَلَهُمْ عَذَابٌ عَظِيمٌ</span></td><td class=\"tf\"><span class=\"arb\"><span  class=\"hl\" >خَتَمَ </span></span></td><td class=\"tf\"><span class=\"arb\"><span  class=\"hl\" >ٱللَّهُ </span></span></td></tr>\n",
       "<tr class=\"tf\"><td class=\"tf\">2</td><td class=\"tf\"> <a href=\"http://tanzil.net/#2:245\" title=\"show this passage on Tanzil\" sec=\"2:245\">2:245</a></td><td class=\"tf\"><span class=\"arb\"><a class=\"vn\" href=\"http://tanzil.net/#2:245\" title=\"2:245\" sec=\"2:245\"></a>مَّن ذَا ٱلَّذِى <span  class=\"hl\" >يُقْرِضُ </span><span  class=\"hl\" >ٱللَّهَ </span>قَرْضًا حَسَنًا فَيُضَٰعِفَهُۥ لَهُۥٓ أَضْعَافًا كَثِيرَةً وَٱللَّهُ يَقْبِضُ وَيَبْصُۜطُ وَإِلَيْهِ تُرْجَعُونَ</span></td><td class=\"tf\"><span class=\"arb\"><span  class=\"hl\" >يُقْرِضُ </span></span></td><td class=\"tf\"><span class=\"arb\"><span  class=\"hl\" >ٱللَّهَ </span></span></td></tr>\n",
       "<tr class=\"tf\"><td class=\"tf\">3</td><td class=\"tf\"> <a href=\"http://tanzil.net/#2:276\" title=\"show this passage on Tanzil\" sec=\"2:276\">2:276</a></td><td class=\"tf\"><span class=\"arb\"><a class=\"vn\" href=\"http://tanzil.net/#2:276\" title=\"2:276\" sec=\"2:276\"></a><span  class=\"hl\" >يَمْحَقُ </span><span  class=\"hl\" >ٱللَّهُ </span>ٱلرِّبَوٰا۟ وَيُرْبِى ٱلصَّدَقَٰتِ وَٱللَّهُ لَا يُحِبُّ كُلَّ كَفَّارٍ أَثِيمٍ</span></td><td class=\"tf\"><span class=\"arb\"><span  class=\"hl\" >يَمْحَقُ </span></span></td><td class=\"tf\"><span class=\"arb\"><span  class=\"hl\" >ٱللَّهُ </span></span></td></tr>\n",
       "<tr class=\"tf\"><td class=\"tf\">4</td><td class=\"tf\"> <a href=\"http://tanzil.net/#3:54\" title=\"show this passage on Tanzil\" sec=\"3:54\">3:54</a></td><td class=\"tf\"><span class=\"arb\"><a class=\"vn\" href=\"http://tanzil.net/#3:54\" title=\"3:54\" sec=\"3:54\"></a>وَمَكَرُوا۟ وَ<span  class=\"hl\" >مَكَرَ </span><span  class=\"hl\" >ٱللَّهُ </span>وَٱللَّهُ خَيْرُ ٱلْمَٰكِرِينَ</span></td><td class=\"tf\"><span class=\"arb\"><span  class=\"hl\" >مَكَرَ </span></span></td><td class=\"tf\"><span class=\"arb\"><span  class=\"hl\" >ٱللَّهُ </span></span></td></tr>\n",
       "<tr class=\"tf\"><td class=\"tf\">5</td><td class=\"tf\"> <a href=\"http://tanzil.net/#3:95\" title=\"show this passage on Tanzil\" sec=\"3:95\">3:95</a></td><td class=\"tf\"><span class=\"arb\"><a class=\"vn\" href=\"http://tanzil.net/#3:95\" title=\"3:95\" sec=\"3:95\"></a>قُلْ <span  class=\"hl\" >صَدَقَ </span><span  class=\"hl\" >ٱللَّهُ </span>فَٱتَّبِعُوا۟ مِلَّةَ إِبْرَٰهِيمَ حَنِيفًا وَمَا كَانَ مِنَ ٱلْمُشْرِكِينَ</span></td><td class=\"tf\"><span class=\"arb\"><span  class=\"hl\" >صَدَقَ </span></span></td><td class=\"tf\"><span class=\"arb\"><span  class=\"hl\" >ٱللَّهُ </span></span></td></tr>\n",
       "<tr class=\"tf\"><td class=\"tf\">6</td><td class=\"tf\"> <a href=\"http://tanzil.net/#3:141\" title=\"show this passage on Tanzil\" sec=\"3:141\">3:141</a></td><td class=\"tf\"><span class=\"arb\"><a class=\"vn\" href=\"http://tanzil.net/#3:141\" title=\"3:141\" sec=\"3:141\"></a>وَلِ<span  class=\"hl\" >يُمَحِّصَ </span><span  class=\"hl\" >ٱللَّهُ </span>ٱلَّذِينَ ءَامَنُوا۟ وَيَمْحَقَ ٱلْكَٰفِرِينَ</span></td><td class=\"tf\"><span class=\"arb\"><span  class=\"hl\" >يُمَحِّصَ </span></span></td><td class=\"tf\"><span class=\"arb\"><span  class=\"hl\" >ٱللَّهُ </span></span></td></tr>\n",
       "<tr class=\"tf\"><td class=\"tf\">7</td><td class=\"tf\"> <a href=\"http://tanzil.net/#3:155\" title=\"show this passage on Tanzil\" sec=\"3:155\">3:155</a></td><td class=\"tf\"><span class=\"arb\"><a class=\"vn\" href=\"http://tanzil.net/#3:155\" title=\"3:155\" sec=\"3:155\"></a>إِنَّ ٱلَّذِينَ تَوَلَّوْا۟ مِنكُمْ يَوْمَ ٱلْتَقَى ٱلْجَمْعَانِ إِنَّمَا ٱسْتَزَلَّهُمُ ٱلشَّيْطَٰنُ بِبَعْضِ مَا كَسَبُوا۟ وَلَقَدْ <span  class=\"hl\" >عَفَا </span><span  class=\"hl\" >ٱللَّهُ </span>عَنْهُمْ إِنَّ ٱللَّهَ غَفُورٌ حَلِيمٌ</span></td><td class=\"tf\"><span class=\"arb\"><span  class=\"hl\" >عَفَا </span></span></td><td class=\"tf\"><span class=\"arb\"><span  class=\"hl\" >ٱللَّهُ </span></span></td></tr>\n",
       "<tr class=\"tf\"><td class=\"tf\">8</td><td class=\"tf\"> <a href=\"http://tanzil.net/#3:164\" title=\"show this passage on Tanzil\" sec=\"3:164\">3:164</a></td><td class=\"tf\"><span class=\"arb\"><a class=\"vn\" href=\"http://tanzil.net/#3:164\" title=\"3:164\" sec=\"3:164\"></a>لَقَدْ <span  class=\"hl\" >مَنَّ </span><span  class=\"hl\" >ٱللَّهُ </span>عَلَى ٱلْمُؤْمِنِينَ إِذْ بَعَثَ فِيهِمْ رَسُولًا مِّنْ أَنفُسِهِمْ يَتْلُوا۟ عَلَيْهِمْ ءَايَٰتِهِۦ وَيُزَكِّيهِمْ وَيُعَلِّمُهُمُ ٱلْكِتَٰبَ وَٱلْحِكْمَةَ وَإِن كَانُوا۟ مِن قَبْلُ لَفِى ضَلَٰلٍ مُّبِينٍ</span></td><td class=\"tf\"><span class=\"arb\"><span  class=\"hl\" >مَنَّ </span></span></td><td class=\"tf\"><span class=\"arb\"><span  class=\"hl\" >ٱللَّهُ </span></span></td></tr>\n",
       "<tr class=\"tf\"><td class=\"tf\">9</td><td class=\"tf\"> <a href=\"http://tanzil.net/#4:17\" title=\"show this passage on Tanzil\" sec=\"4:17\">4:17</a></td><td class=\"tf\"><span class=\"arb\"><a class=\"vn\" href=\"http://tanzil.net/#4:17\" title=\"4:17\" sec=\"4:17\"></a>إِنَّمَا ٱلتَّوْبَةُ عَلَى ٱللَّهِ لِلَّذِينَ يَعْمَلُونَ ٱلسُّوٓءَ بِجَهَٰلَةٍ ثُمَّ يَتُوبُونَ مِن قَرِيبٍ فَأُو۟لَٰٓئِكَ <span  class=\"hl\" >يَتُوبُ </span><span  class=\"hl\" >ٱللَّهُ </span>عَلَيْهِمْ وَكَانَ ٱللَّهُ عَلِيمًا حَكِيمًا</span></td><td class=\"tf\"><span class=\"arb\"><span  class=\"hl\" >يَتُوبُ </span></span></td><td class=\"tf\"><span class=\"arb\"><span  class=\"hl\" >ٱللَّهُ </span></span></td></tr>\n",
       "<tr class=\"tf\"><td class=\"tf\">10</td><td class=\"tf\"> <a href=\"http://tanzil.net/#4:35\" title=\"show this passage on Tanzil\" sec=\"4:35\">4:35</a></td><td class=\"tf\"><span class=\"arb\"><a class=\"vn\" href=\"http://tanzil.net/#4:35\" title=\"4:35\" sec=\"4:35\"></a>وَإِنْ خِفْتُمْ شِقَاقَ بَيْنِهِمَا فَٱبْعَثُوا۟ حَكَمًا مِّنْ أَهْلِهِۦ وَحَكَمًا مِّنْ أَهْلِهَآ إِن يُرِيدَآ إِصْلَٰحًا <span  class=\"hl\" >يُوَفِّقِ </span><span  class=\"hl\" >ٱللَّهُ </span>بَيْنَهُمَآ إِنَّ ٱللَّهَ كَانَ عَلِيمًا خَبِيرًا</span></td><td class=\"tf\"><span class=\"arb\"><span  class=\"hl\" >يُوَفِّقِ </span></span></td><td class=\"tf\"><span class=\"arb\"><span  class=\"hl\" >ٱللَّهُ </span></span></td></tr></table>"
      ],
      "text/plain": [
       "<IPython.core.display.HTML object>"
      ]
     },
     "metadata": {},
     "output_type": "display_data"
    }
   ],
   "source": [
    "A.table(results, end=10)"
   ]
  },
  {
   "cell_type": "markdown",
   "metadata": {},
   "source": [
    "We check the results in transcription"
   ]
  },
  {
   "cell_type": "code",
   "execution_count": 23,
   "metadata": {},
   "outputs": [
    {
     "data": {
      "text/html": [
       "<table>\n",
       "<tr class=\"tf\">\n",
       "  <th class=\"tf\">n</th><th class=\"tf\">p</th>\n",
       "  <th class=\"tf\">aya</th><th>word</th><th>word</th>\n",
       "</tr>\n",
       "\n",
       "<tr class=\"tf\"><td class=\"tf\">1</td><td class=\"tf\"> <a href=\"http://tanzil.net/#2:7\" title=\"show this passage on Tanzil\" sec=\"2:7\">2:7</a></td><td class=\"tf\"><span class=\"trb\"><a class=\"vn\" href=\"http://tanzil.net/#2:7\" title=\"2:7\" sec=\"2:7\"></a><span  class=\"hl\" >xatama </span><span  class=\"hl\" >{ll~ahu </span>EalaY` quluwbihimo waEalaY` samoEihimo waEalaY`^ >aboSa`rihimo gi<span>$</span>a`wapN walahumo Ea*aAbN EaZiymN</span></td><td class=\"tf\"><span class=\"trb\"><span  class=\"hl\" >xatama </span></span></td><td class=\"tf\"><span class=\"trb\"><span  class=\"hl\" >{ll~ahu </span></span></td></tr>\n",
       "<tr class=\"tf\"><td class=\"tf\">2</td><td class=\"tf\"> <a href=\"http://tanzil.net/#2:245\" title=\"show this passage on Tanzil\" sec=\"2:245\">2:245</a></td><td class=\"tf\"><span class=\"trb\"><a class=\"vn\" href=\"http://tanzil.net/#2:245\" title=\"2:245\" sec=\"2:245\"></a>m~an *aA {l~a*iY <span  class=\"hl\" >yuqoriDu </span><span  class=\"hl\" >{ll~aha </span>qaroDFA HasanFA fayuDa`Eifahu, lahu,^ >aDoEaAfFA kaviyrapF wa{ll~ahu yaqobiDu wayaboS:uTu wa&lt;ilayohi turojaEuwna</span></td><td class=\"tf\"><span class=\"trb\"><span  class=\"hl\" >yuqoriDu </span></span></td><td class=\"tf\"><span class=\"trb\"><span  class=\"hl\" >{ll~aha </span></span></td></tr>\n",
       "<tr class=\"tf\"><td class=\"tf\">3</td><td class=\"tf\"> <a href=\"http://tanzil.net/#2:276\" title=\"show this passage on Tanzil\" sec=\"2:276\">2:276</a></td><td class=\"tf\"><span class=\"trb\"><a class=\"vn\" href=\"http://tanzil.net/#2:276\" title=\"2:276\" sec=\"2:276\"></a><span  class=\"hl\" >yamoHaqu </span><span  class=\"hl\" >{ll~ahu </span>{lr~ibaw`A@ wayurobiY {lS~adaqa`ti wa{ll~ahu laA yuHib~u kul~a kaf~aArK >aviymK</span></td><td class=\"tf\"><span class=\"trb\"><span  class=\"hl\" >yamoHaqu </span></span></td><td class=\"tf\"><span class=\"trb\"><span  class=\"hl\" >{ll~ahu </span></span></td></tr>\n",
       "<tr class=\"tf\"><td class=\"tf\">4</td><td class=\"tf\"> <a href=\"http://tanzil.net/#3:54\" title=\"show this passage on Tanzil\" sec=\"3:54\">3:54</a></td><td class=\"tf\"><span class=\"trb\"><a class=\"vn\" href=\"http://tanzil.net/#3:54\" title=\"3:54\" sec=\"3:54\"></a>wamakaruwA@ wa<span  class=\"hl\" >makara </span><span  class=\"hl\" >{ll~ahu </span>wa{ll~ahu xayoru {loma`kiriyna</span></td><td class=\"tf\"><span class=\"trb\"><span  class=\"hl\" >makara </span></span></td><td class=\"tf\"><span class=\"trb\"><span  class=\"hl\" >{ll~ahu </span></span></td></tr>\n",
       "<tr class=\"tf\"><td class=\"tf\">5</td><td class=\"tf\"> <a href=\"http://tanzil.net/#3:95\" title=\"show this passage on Tanzil\" sec=\"3:95\">3:95</a></td><td class=\"tf\"><span class=\"trb\"><a class=\"vn\" href=\"http://tanzil.net/#3:95\" title=\"3:95\" sec=\"3:95\"></a>qulo <span  class=\"hl\" >Sadaqa </span><span  class=\"hl\" >{ll~ahu </span>fa{t~abiEuwA@ mil~apa &lt;ibora`hiyma HaniyfFA wamaA kaAna mina {lomu<span>$</span>orikiyna</span></td><td class=\"tf\"><span class=\"trb\"><span  class=\"hl\" >Sadaqa </span></span></td><td class=\"tf\"><span class=\"trb\"><span  class=\"hl\" >{ll~ahu </span></span></td></tr>\n",
       "<tr class=\"tf\"><td class=\"tf\">6</td><td class=\"tf\"> <a href=\"http://tanzil.net/#3:141\" title=\"show this passage on Tanzil\" sec=\"3:141\">3:141</a></td><td class=\"tf\"><span class=\"trb\"><a class=\"vn\" href=\"http://tanzil.net/#3:141\" title=\"3:141\" sec=\"3:141\"></a>wali<span  class=\"hl\" >yumaH~iSa </span><span  class=\"hl\" >{ll~ahu </span>{l~a*iyna 'aAmanuwA@ wayamoHaqa {loka`firiyna</span></td><td class=\"tf\"><span class=\"trb\"><span  class=\"hl\" >yumaH~iSa </span></span></td><td class=\"tf\"><span class=\"trb\"><span  class=\"hl\" >{ll~ahu </span></span></td></tr>\n",
       "<tr class=\"tf\"><td class=\"tf\">7</td><td class=\"tf\"> <a href=\"http://tanzil.net/#3:155\" title=\"show this passage on Tanzil\" sec=\"3:155\">3:155</a></td><td class=\"tf\"><span class=\"trb\"><a class=\"vn\" href=\"http://tanzil.net/#3:155\" title=\"3:155\" sec=\"3:155\"></a>&lt;in~a {l~a*iyna tawal~awoA@ minkumo yawoma {lotaqaY {lojamoEaAni &lt;in~amaA {sotazal~ahumu {l<span>$</span>~ayoTa`nu bibaEoDi maA kasabuwA@ walaqado <span  class=\"hl\" >EafaA </span><span  class=\"hl\" >{ll~ahu </span>Eanohumo &lt;in~a {ll~aha gafuwrN HaliymN</span></td><td class=\"tf\"><span class=\"trb\"><span  class=\"hl\" >EafaA </span></span></td><td class=\"tf\"><span class=\"trb\"><span  class=\"hl\" >{ll~ahu </span></span></td></tr>\n",
       "<tr class=\"tf\"><td class=\"tf\">8</td><td class=\"tf\"> <a href=\"http://tanzil.net/#3:164\" title=\"show this passage on Tanzil\" sec=\"3:164\">3:164</a></td><td class=\"tf\"><span class=\"trb\"><a class=\"vn\" href=\"http://tanzil.net/#3:164\" title=\"3:164\" sec=\"3:164\"></a>laqado <span  class=\"hl\" >man~a </span><span  class=\"hl\" >{ll~ahu </span>EalaY {lomu&amp;ominiyna &lt;i*o baEava fiyhimo rasuwlFA m~ino >anfusihimo yatoluwA@ Ealayohimo 'aAya`tihi. wayuzak~iyhimo wayuEal~imuhumu {lokita`ba wa{loHikomapa wa&lt;in kaAnuwA@ min qabolu lafiY Dala`lK m~ubiynK</span></td><td class=\"tf\"><span class=\"trb\"><span  class=\"hl\" >man~a </span></span></td><td class=\"tf\"><span class=\"trb\"><span  class=\"hl\" >{ll~ahu </span></span></td></tr>\n",
       "<tr class=\"tf\"><td class=\"tf\">9</td><td class=\"tf\"> <a href=\"http://tanzil.net/#4:17\" title=\"show this passage on Tanzil\" sec=\"4:17\">4:17</a></td><td class=\"tf\"><span class=\"trb\"><a class=\"vn\" href=\"http://tanzil.net/#4:17\" title=\"4:17\" sec=\"4:17\"></a>&lt;in~amaA {lt~awobapu EalaY {ll~ahi lil~a*iyna yaEomaluwna {ls~uw^'a bijaha`lapK vum~a yatuwbuwna min qariybK fa>uw@la`^}ika <span  class=\"hl\" >yatuwbu </span><span  class=\"hl\" >{ll~ahu </span>Ealayohimo wakaAna {ll~ahu EaliymFA HakiymFA</span></td><td class=\"tf\"><span class=\"trb\"><span  class=\"hl\" >yatuwbu </span></span></td><td class=\"tf\"><span class=\"trb\"><span  class=\"hl\" >{ll~ahu </span></span></td></tr>\n",
       "<tr class=\"tf\"><td class=\"tf\">10</td><td class=\"tf\"> <a href=\"http://tanzil.net/#4:35\" title=\"show this passage on Tanzil\" sec=\"4:35\">4:35</a></td><td class=\"tf\"><span class=\"trb\"><a class=\"vn\" href=\"http://tanzil.net/#4:35\" title=\"4:35\" sec=\"4:35\"></a>wa&lt;ino xifotumo <span>$</span>iqaAqa bayonihimaA fa{boEavuwA@ HakamFA m~ino >aholihi. waHakamFA m~ino >aholihaA^ &lt;in yuriydaA^ &lt;iSola`HFA <span  class=\"hl\" >yuwaf~iqi </span><span  class=\"hl\" >{ll~ahu </span>bayonahumaA^ &lt;in~a {ll~aha kaAna EaliymFA xabiyrFA</span></td><td class=\"tf\"><span class=\"trb\"><span  class=\"hl\" >yuwaf~iqi </span></span></td><td class=\"tf\"><span class=\"trb\"><span  class=\"hl\" >{ll~ahu </span></span></td></tr></table>"
      ],
      "text/plain": [
       "<IPython.core.display.HTML object>"
      ]
     },
     "metadata": {},
     "output_type": "display_data"
    }
   ],
   "source": [
    "A.table(results, end=10, fmt='text-trans-full')"
   ]
  },
  {
   "cell_type": "markdown",
   "metadata": {},
   "source": [
    "Even better, we have a transcription that only shows the roots of the words:"
   ]
  },
  {
   "cell_type": "code",
   "execution_count": 24,
   "metadata": {},
   "outputs": [
    {
     "data": {
      "text/html": [
       "<table>\n",
       "<tr class=\"tf\">\n",
       "  <th class=\"tf\">n</th><th class=\"tf\">p</th>\n",
       "  <th class=\"tf\">aya</th><th>word</th><th>word</th>\n",
       "</tr>\n",
       "\n",
       "<tr class=\"tf\"><td class=\"tf\">1</td><td class=\"tf\"> <a href=\"http://tanzil.net/#2:7\" title=\"show this passage on Tanzil\" sec=\"2:7\">2:7</a></td><td class=\"tf\"><span class=\"trb\"><a class=\"vn\" href=\"http://tanzil.net/#2:7\" title=\"2:7\" sec=\"2:7\"></a><span  class=\"hl\" >xtm </span><span  class=\"hl\" >Alh </span> qlb  smE  bSr g<span>$</span>w  E*b EZm</span></td><td class=\"tf\"><span class=\"trb\"><span  class=\"hl\" >xtm </span></span></td><td class=\"tf\"><span class=\"trb\"><span  class=\"hl\" >Alh </span></span></td></tr>\n",
       "<tr class=\"tf\"><td class=\"tf\">2</td><td class=\"tf\"> <a href=\"http://tanzil.net/#2:245\" title=\"show this passage on Tanzil\" sec=\"2:245\">2:245</a></td><td class=\"tf\"><span class=\"trb\"><a class=\"vn\" href=\"http://tanzil.net/#2:245\" title=\"2:245\" sec=\"2:245\"></a>   <span  class=\"hl\" >qrD </span><span  class=\"hl\" >Alh </span>qrD Hsn DEf  DEf kvr Alh qbD bsT  rjE</span></td><td class=\"tf\"><span class=\"trb\"><span  class=\"hl\" >qrD </span></span></td><td class=\"tf\"><span class=\"trb\"><span  class=\"hl\" >Alh </span></span></td></tr>\n",
       "<tr class=\"tf\"><td class=\"tf\">3</td><td class=\"tf\"> <a href=\"http://tanzil.net/#2:276\" title=\"show this passage on Tanzil\" sec=\"2:276\">2:276</a></td><td class=\"tf\"><span class=\"trb\"><a class=\"vn\" href=\"http://tanzil.net/#2:276\" title=\"2:276\" sec=\"2:276\"></a><span  class=\"hl\" >mHq </span><span  class=\"hl\" >Alh </span>rbw rbw Sdq Alh  Hbb kll kfr Avm</span></td><td class=\"tf\"><span class=\"trb\"><span  class=\"hl\" >mHq </span></span></td><td class=\"tf\"><span class=\"trb\"><span  class=\"hl\" >Alh </span></span></td></tr>\n",
       "<tr class=\"tf\"><td class=\"tf\">4</td><td class=\"tf\"> <a href=\"http://tanzil.net/#3:54\" title=\"show this passage on Tanzil\" sec=\"3:54\">3:54</a></td><td class=\"tf\"><span class=\"trb\"><a class=\"vn\" href=\"http://tanzil.net/#3:54\" title=\"3:54\" sec=\"3:54\"></a>mkr <span  class=\"hl\" >mkr </span><span  class=\"hl\" >Alh </span>Alh xyr mkr</span></td><td class=\"tf\"><span class=\"trb\"><span  class=\"hl\" >mkr </span></span></td><td class=\"tf\"><span class=\"trb\"><span  class=\"hl\" >Alh </span></span></td></tr>\n",
       "<tr class=\"tf\"><td class=\"tf\">5</td><td class=\"tf\"> <a href=\"http://tanzil.net/#3:95\" title=\"show this passage on Tanzil\" sec=\"3:95\">3:95</a></td><td class=\"tf\"><span class=\"trb\"><a class=\"vn\" href=\"http://tanzil.net/#3:95\" title=\"3:95\" sec=\"3:95\"></a>qwl <span  class=\"hl\" >Sdq </span><span  class=\"hl\" >Alh </span>tbE mll  Hnf  kwn  <span>$</span>rk</span></td><td class=\"tf\"><span class=\"trb\"><span  class=\"hl\" >Sdq </span></span></td><td class=\"tf\"><span class=\"trb\"><span  class=\"hl\" >Alh </span></span></td></tr>\n",
       "<tr class=\"tf\"><td class=\"tf\">6</td><td class=\"tf\"> <a href=\"http://tanzil.net/#3:141\" title=\"show this passage on Tanzil\" sec=\"3:141\">3:141</a></td><td class=\"tf\"><span class=\"trb\"><a class=\"vn\" href=\"http://tanzil.net/#3:141\" title=\"3:141\" sec=\"3:141\"></a><span  class=\"hl\" >mHS </span><span  class=\"hl\" >Alh </span> Amn mHq kfr</span></td><td class=\"tf\"><span class=\"trb\"><span  class=\"hl\" >mHS </span></span></td><td class=\"tf\"><span class=\"trb\"><span  class=\"hl\" >Alh </span></span></td></tr>\n",
       "<tr class=\"tf\"><td class=\"tf\">7</td><td class=\"tf\"> <a href=\"http://tanzil.net/#3:155\" title=\"show this passage on Tanzil\" sec=\"3:155\">3:155</a></td><td class=\"tf\"><span class=\"trb\"><a class=\"vn\" href=\"http://tanzil.net/#3:155\" title=\"3:155\" sec=\"3:155\"></a>  wly  ywm lqy jmE  zll <span>$</span>Tn bED  ksb  <span  class=\"hl\" >Efw </span><span  class=\"hl\" >Alh </span>  Alh gfr Hlm</span></td><td class=\"tf\"><span class=\"trb\"><span  class=\"hl\" >Efw </span></span></td><td class=\"tf\"><span class=\"trb\"><span  class=\"hl\" >Alh </span></span></td></tr>\n",
       "<tr class=\"tf\"><td class=\"tf\">8</td><td class=\"tf\"> <a href=\"http://tanzil.net/#3:164\" title=\"show this passage on Tanzil\" sec=\"3:164\">3:164</a></td><td class=\"tf\"><span class=\"trb\"><a class=\"vn\" href=\"http://tanzil.net/#3:164\" title=\"3:164\" sec=\"3:164\"></a> <span  class=\"hl\" >mnn </span><span  class=\"hl\" >Alh </span> Amn  bEv  rsl  nfs tlw  Ayy zkw Elm ktb Hkm  kwn  qbl  Dll byn</span></td><td class=\"tf\"><span class=\"trb\"><span  class=\"hl\" >mnn </span></span></td><td class=\"tf\"><span class=\"trb\"><span  class=\"hl\" >Alh </span></span></td></tr>\n",
       "<tr class=\"tf\"><td class=\"tf\">9</td><td class=\"tf\"> <a href=\"http://tanzil.net/#4:17\" title=\"show this passage on Tanzil\" sec=\"4:17\">4:17</a></td><td class=\"tf\"><span class=\"trb\"><a class=\"vn\" href=\"http://tanzil.net/#4:17\" title=\"4:17\" sec=\"4:17\"></a> twb  Alh  Eml swA jhl  twb  qrb  <span  class=\"hl\" >twb </span><span  class=\"hl\" >Alh </span> kwn Alh Elm Hkm</span></td><td class=\"tf\"><span class=\"trb\"><span  class=\"hl\" >twb </span></span></td><td class=\"tf\"><span class=\"trb\"><span  class=\"hl\" >Alh </span></span></td></tr>\n",
       "<tr class=\"tf\"><td class=\"tf\">10</td><td class=\"tf\"> <a href=\"http://tanzil.net/#4:35\" title=\"show this passage on Tanzil\" sec=\"4:35\">4:35</a></td><td class=\"tf\"><span class=\"trb\"><a class=\"vn\" href=\"http://tanzil.net/#4:35\" title=\"4:35\" sec=\"4:35\"></a> xwf <span>$</span>qq byn bEv Hkm  Ahl Hkm  Ahl  rwd SlH <span  class=\"hl\" >wfq </span><span  class=\"hl\" >Alh </span>byn  Alh kwn Elm xbr</span></td><td class=\"tf\"><span class=\"trb\"><span  class=\"hl\" >wfq </span></span></td><td class=\"tf\"><span class=\"trb\"><span  class=\"hl\" >Alh </span></span></td></tr></table>"
      ],
      "text/plain": [
       "<IPython.core.display.HTML object>"
      ]
     },
     "metadata": {},
     "output_type": "display_data"
    }
   ],
   "source": [
    "A.table(results, end=10, fmt='root-trans-full')"
   ]
  },
  {
   "cell_type": "markdown",
   "metadata": {},
   "source": [
    "But we wanted the translations of the relevant ayas. Here they come:"
   ]
  },
  {
   "cell_type": "code",
   "execution_count": 25,
   "metadata": {},
   "outputs": [
    {
     "name": "stdout",
     "output_type": "stream",
     "text": [
      "God has set a seal on their hearts and on their hearing, and on their eyes is a covering, and there awaits them a mighty chastisement.\n",
      "-----\n",
      "Who is he that will lend God a good loan, and He will multiply it for him manifold? God grasps, and outspreads; and unto Him you shall be returned.\n",
      "-----\n",
      "God blots out usury, but freewill offerings He augments with interest. God loves not any guilty ingrate.\n",
      "-----\n",
      "And they devised, and God devised, and God is the best of devisers.\n",
      "-----\n",
      "Say: 'God has spoken the truth; therefore follow the creed of Abraham, a man of pure faith and no idolater.'\n",
      "-----\n",
      "and that God may prove the believers, and blot out the unbelievers.\n",
      "-----\n",
      "Those of you who turned away the day the two hosts encountered -- Satan made them slip for somewhat they had earned; but God has pardoned them; God is All-forgiving, All-clement.\n",
      "-----\n",
      "Truly God was gracious to the believers when He raised up among them a Messenger from themselves, to recite to them His signs and to purify them, and to teach them the Book and the Wisdom, though before they were in manifest error.\n",
      "-----\n",
      "God shall turn only towards those who do evil in ignorance, then shortly repent; God will return towards those; God is All-knowing, All-wise.\n",
      "-----\n",
      "And if you fear a breach between the two, bring forth an arbiter from his people and from her people an arbiter, if they desire to set things right; God will compose their differences; surely God is All-knowing, All-aware.\n",
      "-----\n",
      "And whoso slays a believer wilfully, his recompense is Gehenna, therein dwelling forever, and God will be wroth with him and will curse him, and prepare for him a mighty chastisement.\n",
      "-----\n",
      "O believers, when you are journeying in the path of God, be discriminating, and do not say to him who offers you a greeting, 'Thou art not a believer,' seeking the chance goods of the present life. With God are spoils abundant. So you were aforetime; but God has been gracious to you. So be discriminating; surely God is aware of the things you do.\n",
      "-----\n",
      "Ha, there you are; you have disputed on their behalf in the present life; but who will dispute with God on their behalf on the Resurrection Day, or who will be a guardian for them?\n",
      "-----\n",
      "So, for their breaking the compact, and disbelieving in the signs of God, and slaying the Prophets without right, and for their saying, 'Our hearts are uncircumcised' -- nay, but God sealed them for their unbelief, so they believe not, except a few --\n",
      "-----\n",
      "And they supposed there should be no trial; but blind they were, and deaf. Then God turned towards them; then again blind they were, many of them, and deaf; and God sees the things they do.\n",
      "-----\n",
      "Thou seest many of them making unbelievers their friends. Evil is that they have forwarded to their account, that God is angered against them, and in the chastisement they shall dwell forever.\n",
      "-----\n",
      "O believers, slay not the game while you are in pilgrim sanctity; whosoever of you slays it wilfully, there shall be recompense -- the like of what he has slain, in flocks as shall be judged by two men of equity among you, an offering to reach the Kaaba; or expiation -- food for poor persons or the equivalent of that in fasting, so that he may taste the mischief of his action. God has pardoned what is past; but whoever offends again, God will take vengeance on him, God is All-mighty, Vengeful.\n",
      "-----\n",
      "O believers, slay not the game while you are in pilgrim sanctity; whosoever of you slays it wilfully, there shall be recompense -- the like of what he has slain, in flocks as shall be judged by two men of equity among you, an offering to reach the Kaaba; or expiation -- food for poor persons or the equivalent of that in fasting, so that he may taste the mischief of his action. God has pardoned what is past; but whoever offends again, God will take vengeance on him, God is All-mighty, Vengeful.\n",
      "-----\n",
      "O believers, question not concerning things which, if they were revealed to you, would vex you; yet if you question concerning them when the Koran is being sent down, they will be revealed to you. God has effaced those things; for God is All-forgiving, All-clement.\n",
      "-----\n",
      "God said, 'This is the day the truthful shall be profited by their truthfulness. For them await gardens underneath which rivers flow, therein dwelling forever and ever; God being well-pleased with them and they well-pleased with Him; that is the mighty triumph.'\n",
      "-----\n",
      "Even so We have tried some of them by others that they may say, Are these the ones God has been gracious to among us?' Knows not God very well the thankful?\n",
      "-----\n",
      "Those cities We relate to thee tidings of; their Messengers came to them with the clear signs, but they were not the ones to believe in that they had cried lies before; so God seals the hearts of the unbelievers.\n",
      "-----\n",
      "That, because they had made a breach with God and with His Messenger; and whosoever makes a breach with God and with His Messenger, surely God is terrible in retribution.\n",
      "-----\n",
      "And when the unbelievers were devising against thee, to confine thee, or slay thee, or to expel thee, and were devising, and God was devising; and God is the best of devisers.\n",
      "-----\n",
      "that God may distinguish the corrupt from the good, and place the corrupt one upon another, and so heap them up all together, and put them in Gehenna; those are the losers.\n",
      "-----\n",
      "and He will remove the rage within their hearts; and God turns towards whomsoever He will; God is All-knowing, All-wise\n",
      "-----\n",
      "then God thereafter turns towards whom He will; God is All-forgiving, All-compassionate.\n",
      "-----\n",
      "God pardon thee! Why gavest thou them leave, till it was clear to thee which of them spoke the truth, and thou knewest the liars?\n",
      "-----\n",
      "If they had desired to go forth, they would have made some preparation for it; but God was averse that they should be aroused, so He made them pause, and it was said to them, 'Tarry you with the tarriers.'\n",
      "-----\n",
      "Do they not know that whosoever opposes God and His Messenger -- for him awaits the fire of Gehenna, therein to dwell forever? That is the mighty degradation.\n",
      "-----\n",
      "And some of them have made covenant with God: 'If He gives us of His bounty, we will make offerings and be of the righteous.'\n",
      "-----\n",
      "God has prepared for them gardens underneath which rivers flow, therein to dwell forever; that is the mighty triumph.\n",
      "-----\n",
      "The way is open only against those who ask leave of thee, being rich; they are well-pleased to be with those behind; God has set a seal on their hearts, so they know not.\n",
      "-----\n",
      "And the Outstrippers, the first of the Emigrants and the Helpers, and those who followed them in good-doing -- God will be well-pleased with them and they are well-pleased with Him; and He has prepared for them gardens underneath which rivers flow, therein to dwell forever and ever; that is the mighty triumph.\n",
      "-----\n",
      "And those who have taken a mosque in opposition and unbelief, and to divide the believers, and as a place of ambush for those who fought God and His Messenger aforetime -- they will swear 'We desired nothing but good'; and God testifies they are truly liars.\n",
      "-----\n",
      "God has turned towards the Prophet and the Emigrants and the Helpers who followed him in the hour of difficulty, after the hearts of a part of them well-nigh swerved aside; then He turned towards them; surely He is Gentle to them, and All-compassionate.\n",
      "-----\n",
      "If God should hasten unto men evil as they would hasten good, their term would be already decided for them. But We leave those, who look not to encounter Us, in their insolence wandering blindly.\n",
      "-----\n",
      "They said, 'Why, art thou indeed Joseph?' 'I am Joseph,' he said. 'This is my brother. God has indeed been gracious unto us. Whosoever fears God, and is patient -- surely God leaves not to waste the wage of the good-doers.\n",
      "-----\n",
      "God blots out, and He establishes whatsoever He will; and with Him is the Essence of the Book.\n",
      "-----\n",
      "Do they feel secure, those who devise evil things, that God will not cause the earth to swallow them, or that the chastisement will not come upon them, from whence they are not aware?\n",
      "-----\n",
      "Those -- God has set a seal on their hearts, and their hearing, and their eyes, and those -- they are the heedless ones;\n",
      "-----\n",
      "Hast thou not seen how to God bow all who are in the and all who are in the earth, heavens the sun and the moon, the stars and the mountains, the trees and the beasts, and many of mankind? And many merit the chastisement; and whom God abases, there is none to honour him. God does whatsoever He will.\n",
      "-----\n",
      "We sent not ever any Messenger or Prophet before thee, but that Satan cast into his fancy, when he was fancying; but God annuls what Satan casts, then God confirms His signs -- surely God is All-knowing, All-wise --\n",
      "-----\n",
      "What, is there sickness in their hearts, or are they in doubt, or do they fear that God may be unjust towards them and His Messenger? Nay, but those -- they are the evildoers.\n",
      "-----\n",
      "and in the morning those who had longed to be in his place the day before were saying, 'Ah, God outspreads and straitens His provision to whomsoever He will of His servants. Had God not been gracious to us, He would have made us to be swallowed too. Ah, the unbelievers do not prosper,\n",
      "-----\n",
      "Even so God seals the hearts of those that know not.\n",
      "-----\n",
      "When the believers saw the Confederates they said, 'This is what God and His Messenger promised us, and God and His Messenger have spoken truly.' And it only increased them in faith and surrender.\n",
      "-----\n",
      "And God sent back those that were unbelievers in their rage, and they attained no good; God spared the believers of fighting. Surely God is All-strong, All-mighty.\n",
      "-----\n",
      "Men and women who have surrendered, believing men and believing women, obedient men and obedient women, truthful men and truthful women, enduring men and enduring women, humble men and humble women, men and women who give in charity, men who fast and women who fast, men and women who guard their private parts, men and women who remember God oft -- for them God has prepared forgiveness and a mighty wage.\n",
      "-----\n",
      "There is no fault in the Prophet, touching what God has ordained for him -- God's wont with those who passed away before; and God's commandment is doom decreed;\n",
      "-----\n",
      "That God may chastise the hypocrites, men and women alike, and the idolaters, men and women alike; and that God may turn again unto the believers, men and women alike. God is All-forgiving, All-compassionate.\n",
      "-----\n",
      "'God has begotten?' They are truly liars.\n",
      "-----\n",
      "(Those who dispute concerning the signs of God, without any authority come to them, very hateful is that in the sight of God and the believers; 'so God sets a seal on every heart proud', arrogant.)\n",
      "-----\n",
      "Or do they say, 'He has forged against God a lie?' But if God wills, He will set a seal on thy heart; and God blots out falsehood and verifies the truth by His words; He knows the thoughts within the breasts.\n",
      "-----\n",
      "Had God expanded His provision to His servants, they would have been insolent in the earth; but He sends down in measure whatsoever He will; surely He is aware of and sees His servants.\n",
      "-----\n",
      "And some of them there are give ear to thee, till, when they go forth from thee, they say to those who have been given knowledge, 'What said he just now?' Those are they upon whose hearts God has set a seal, and they have followed their caprices.\n",
      "-----\n",
      "That is because they have followed what angers God, and have been averse to His good pleasure, so He has made their works to fail.\n",
      "-----\n",
      "and that He may chastise the hypocrites, men and women alike, and the idolaters men and women alike, and those who think evil thoughts of God; against them shall be the evil turn of fortune. God is wroth with them, and has cursed them, and has prepared for them Gehenna -- an evil homecoming!\n",
      "-----\n",
      "God was well pleased with the believers when they were swearing fealty to thee under the tree, and He knew what was in their hearts, so He sent down the Shechina upon them, and rewarded them with a nigh victory\n",
      "-----\n",
      "and other spoils you were not able to take; God had encompassed them already. God is powerful over everything.\n",
      "-----\n",
      "God has indeed fulfilled the vision He vouchsafed to His Messenger truly: 'You shall enter the Holy Mosque, if God wills, in security, your heads shaved, your hair cut short, not fearing.' He knew what you knew not, and appointed ere that a nigh victory.\n",
      "-----\n",
      "Surely those who lower their voices in the presence of God's Messenger, those are they whose hearts God has tested for godfearing; they shall have forgiveness and a mighty wage.\n",
      "-----\n",
      "and God was gracious to us, and guarded us against the chastisement of the burning wind;\n",
      "-----\n",
      "Who is he that will lend to God a good loan, and He will multiply it for him, and his shall be a generous wage?\n",
      "-----\n",
      "O believers, when it is said to you 'Make room in the assemblies', then make room, and God will make room for you; and when it is said, 'Move up', move up, and God will raise up in rank those of you who believe and have been given knowledge. And God is aware of the things you do.\n",
      "-----\n",
      "Are you afraid, before your conspiring, to advance freewill offerings? If you do not so, and God turns again unto you, then perform the prayer, and pay the alms, and obey God and His Messenger. God is aware of the things you do.\n",
      "-----\n",
      "Hast thou not regarded those who have taken for friends a people against whom God is wrathful? They belong neither to you nor to them; and they swear upon falsehood, and that wittingly.\n",
      "-----\n",
      "God has made ready for them a chastisement terrible; surely they -- evil are the things they have been doing.\n",
      "-----\n",
      "Thou shalt not find any people who believe in God and the Last Day who are loving to anyone who opposes. God and His Messenger, not though they were their fathers, or their sons, or their brothers, or their clan. Those -- He has written faith upon their hearts, and He has confirmed them with a Spirit from Himself; and He shall admit them into gardens underneath which rivers flow, therein to dwell forever, God being well-pleased with them, and they well-pleased with Him. Those are God's party; why, surely God's party -- they are the prosperers.\n",
      "-----\n",
      "Thou shalt not find any people who believe in God and the Last Day who are loving to anyone who opposes. God and His Messenger, not though they were their fathers, or their sons, or their brothers, or their clan. Those -- He has written faith upon their hearts, and He has confirmed them with a Spirit from Himself; and He shall admit them into gardens underneath which rivers flow, therein to dwell forever, God being well-pleased with them, and they well-pleased with Him. Those are God's party; why, surely God's party -- they are the prosperers.\n",
      "-----\n",
      "That is because they made a breach with God and His Messenger; and whosoever makes a breach with God, God is terrible in retribution.\n",
      "-----\n",
      "O believers, take not for friends a people against whom God is wrathful, and who have despaired of the world to come, even as the unbelievers have despaired of the inhabitants of the tombs.\n",
      "-----\n",
      "But God will never defer any soul when its term comes. And God is aware of the things you do.\n",
      "-----\n",
      "God prepared for them a terrible chastisement. So fear God, O men possessed of minds! Believers, God has sent down to you, for a remembrance,\n",
      "-----\n",
      "God has ordained for you the absolution of your oaths. God is your Protector, and He is the All-knowing, the All-wise.\n",
      "-----\n",
      "Believers, turn to God in sincere repentance; it may be that your Lord will acquit you of your evil deeds, and will admit you into gardens underneath which rivers flow. Upon the day when God will not degrade the Prophet and those who believe with him, their light running before them, and on their right hands; and they say, 'Our 'Lord, perfect for us our light, and forgive us; surely Thou art powerful over everything.'\n",
      "-----\n",
      "Indeed, we thought that we should never be able to frustrate God in the earth, neither be able to frustrate Him by flight.\n",
      "-----\n",
      "their recompense is with their Lord-Gardens of Eden, underneath which rivers flow, therein dwelling for ever and ever. God is well-pleased with them, and they are well-pleased with Him; that is for him who fears his Lord.\n",
      "-----\n"
     ]
    }
   ],
   "source": [
    "for (aya, verb, noun) in results:\n",
    "  print(Fs('translation@en').v(aya))\n",
    "  print('-----')"
   ]
  },
  {
   "cell_type": "code",
   "execution_count": null,
   "metadata": {},
   "outputs": [],
   "source": []
  }
 ],
 "metadata": {
  "kernelspec": {
   "display_name": "Python 3",
   "language": "python",
   "name": "python3"
  },
  "language_info": {
   "codemirror_mode": {
    "name": "ipython",
    "version": 3
   },
   "file_extension": ".py",
   "mimetype": "text/x-python",
   "name": "python",
   "nbconvert_exporter": "python",
   "pygments_lexer": "ipython3",
   "version": "3.7.2"
  }
 },
 "nbformat": 4,
 "nbformat_minor": 4
}
