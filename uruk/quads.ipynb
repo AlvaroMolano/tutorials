{
 "cells": [
  {
   "cell_type": "markdown",
   "metadata": {},
   "source": [
    "<img align=\"right\" src=\"images/ninologo.png\" width=\"150\"/>\n",
    "<img align=\"right\" src=\"images/tf-small.png\" width=\"125\"/>\n",
    "<img align=\"right\" src=\"images/dans.png\" width=\"150\"/>\n",
    "\n",
    "# Quads\n",
    "\n",
    "When simple signs get stacked we get composite signs.\n",
    "Here we call them *quads*. \n",
    "There are several ways to compose quads from sub-quads: there is always\n",
    "an *operator* involved.\n",
    "And a composition can again be subjected to an other composition.\n",
    "And again ..."
   ]
  },
  {
   "cell_type": "code",
   "execution_count": 1,
   "metadata": {},
   "outputs": [],
   "source": [
    "%load_ext autoreload\n",
    "%autoreload 2"
   ]
  },
  {
   "cell_type": "code",
   "execution_count": 2,
   "metadata": {
    "ExecuteTime": {
     "end_time": "2018-05-17T12:50:04.767420Z",
     "start_time": "2018-05-17T12:50:04.747098Z"
    }
   },
   "outputs": [],
   "source": [
    "import sys, os\n",
    "from tf.app import use"
   ]
  },
  {
   "cell_type": "code",
   "execution_count": 3,
   "metadata": {
    "ExecuteTime": {
     "end_time": "2018-05-17T12:50:15.565059Z",
     "start_time": "2018-05-17T12:50:14.736217Z"
    }
   },
   "outputs": [
    {
     "name": "stdout",
     "output_type": "stream",
     "text": [
      "rate limit is 5000 requests per hour, with 4394 left for this hour\n",
      "\tconnecting to online GitHub repo annotation/app-uruk ... connected\n",
      "Using TF-app in /Users/dirk/text-fabric-data/annotation/app-uruk/code:\n",
      "\trv2.0.1=#0dd11bcfd3ebaf2d88549816637761e46c3d5900 (latest release)\n",
      "rate limit is 5000 requests per hour, with 4389 left for this hour\n",
      "\tconnecting to online GitHub repo Nino-cunei/uruk ... connected\n",
      "Using data in /Users/dirk/text-fabric-data/Nino-cunei/uruk/tf/uruk/1.0:\n",
      "\tr1.2 (latest release)\n",
      "   |     0.00s Dataset without structure sections in otext:no structure functions in the T-API\n"
     ]
    },
    {
     "data": {
      "text/html": [
       "<b>Documentation:</b> <a target=\"_blank\" href=\"https://github.com/Nino-cunei/uruk/blob/master/docs/about.md\" title=\"provenance of Uruk IV/III: Proto-cuneiform tablets \">URUK</a> <a target=\"_blank\" href=\"https://annotation.github.io/text-fabric/Writing/Transcription/\" title=\"How TF features represent text\">Character table</a> <a target=\"_blank\" href=\"https://github.com/Nino-cunei/uruk/blob/master/docs/transcription.md\" title=\"URUK feature documentation\">Feature docs</a> <a target=\"_blank\" href=\"https://github.com/annotation/app-uruk\" title=\"uruk API documentation\">uruk API</a> <a target=\"_blank\" href=\"https://annotation.github.io/text-fabric/Api/Fabric/\" title=\"text-fabric-api\">Text-Fabric API 8.0.1</a> <a target=\"_blank\" href=\"https://annotation.github.io/text-fabric/Use/Search/\" title=\"Search Templates Introduction and Reference\">Search Reference</a><details open><summary><b>Loaded features</b>:</summary>\n",
       "<p><b>Uruk IV/III: Proto-cuneiform tablets </b>: <a target=\"_blank\" href=\"https://github.com/Nino-cunei/uruk/blob/master/docs/transcription.md\" title=\"/Users/dirk/text-fabric-data/Nino-cunei/uruk/tf/uruk/1.0/catalogId.tf\">catalogId</a>  <a target=\"_blank\" href=\"https://github.com/Nino-cunei/uruk/blob/master/docs/transcription.md\" title=\"/Users/dirk/text-fabric-data/Nino-cunei/uruk/tf/uruk/1.0/crossref.tf\">crossref</a>  <a target=\"_blank\" href=\"https://github.com/Nino-cunei/uruk/blob/master/docs/transcription.md\" title=\"/Users/dirk/text-fabric-data/Nino-cunei/uruk/tf/uruk/1.0/damage.tf\">damage</a>  <a target=\"_blank\" href=\"https://github.com/Nino-cunei/uruk/blob/master/docs/transcription.md\" title=\"/Users/dirk/text-fabric-data/Nino-cunei/uruk/tf/uruk/1.0/depth.tf\">depth</a>  <a target=\"_blank\" href=\"https://github.com/Nino-cunei/uruk/blob/master/docs/transcription.md\" title=\"/Users/dirk/text-fabric-data/Nino-cunei/uruk/tf/uruk/1.0/excavation.tf\">excavation</a>  <a target=\"_blank\" href=\"https://github.com/Nino-cunei/uruk/blob/master/docs/transcription.md\" title=\"/Users/dirk/text-fabric-data/Nino-cunei/uruk/tf/uruk/1.0/fragment.tf\">fragment</a>  <a target=\"_blank\" href=\"https://github.com/Nino-cunei/uruk/blob/master/docs/transcription.md\" title=\"/Users/dirk/text-fabric-data/Nino-cunei/uruk/tf/uruk/1.0/fullNumber.tf\">fullNumber</a>  <a target=\"_blank\" href=\"https://github.com/Nino-cunei/uruk/blob/master/docs/transcription.md\" title=\"/Users/dirk/text-fabric-data/Nino-cunei/uruk/tf/uruk/1.0/grapheme.tf\">grapheme</a>  <a target=\"_blank\" href=\"https://github.com/Nino-cunei/uruk/blob/master/docs/transcription.md\" title=\"/Users/dirk/text-fabric-data/Nino-cunei/uruk/tf/uruk/1.0/identifier.tf\">identifier</a>  <a target=\"_blank\" href=\"https://github.com/Nino-cunei/uruk/blob/master/docs/transcription.md\" title=\"/Users/dirk/text-fabric-data/Nino-cunei/uruk/tf/uruk/1.0/modifier.tf\">modifier</a>  <a target=\"_blank\" href=\"https://github.com/Nino-cunei/uruk/blob/master/docs/transcription.md\" title=\"/Users/dirk/text-fabric-data/Nino-cunei/uruk/tf/uruk/1.0/modifierFirst.tf\">modifierFirst</a>  <a target=\"_blank\" href=\"https://github.com/Nino-cunei/uruk/blob/master/docs/transcription.md\" title=\"/Users/dirk/text-fabric-data/Nino-cunei/uruk/tf/uruk/1.0/modifierInner.tf\">modifierInner</a>  <a target=\"_blank\" href=\"https://github.com/Nino-cunei/uruk/blob/master/docs/transcription.md\" title=\"/Users/dirk/text-fabric-data/Nino-cunei/uruk/tf/uruk/1.0/name.tf\">name</a>  <a target=\"_blank\" href=\"https://github.com/Nino-cunei/uruk/blob/master/docs/transcription.md\" title=\"/Users/dirk/text-fabric-data/Nino-cunei/uruk/tf/uruk/1.0/number.tf\">number</a>  <a target=\"_blank\" href=\"https://github.com/Nino-cunei/uruk/blob/master/docs/transcription.md\" title=\"/Users/dirk/text-fabric-data/Nino-cunei/uruk/tf/uruk/1.0/otype.tf\">otype</a>  <a target=\"_blank\" href=\"https://github.com/Nino-cunei/uruk/blob/master/docs/transcription.md\" title=\"/Users/dirk/text-fabric-data/Nino-cunei/uruk/tf/uruk/1.0/period.tf\">period</a>  <a target=\"_blank\" href=\"https://github.com/Nino-cunei/uruk/blob/master/docs/transcription.md\" title=\"/Users/dirk/text-fabric-data/Nino-cunei/uruk/tf/uruk/1.0/prime.tf\">prime</a>  <a target=\"_blank\" href=\"https://github.com/Nino-cunei/uruk/blob/master/docs/transcription.md\" title=\"/Users/dirk/text-fabric-data/Nino-cunei/uruk/tf/uruk/1.0/remarkable.tf\">remarkable</a>  <a target=\"_blank\" href=\"https://github.com/Nino-cunei/uruk/blob/master/docs/transcription.md\" title=\"/Users/dirk/text-fabric-data/Nino-cunei/uruk/tf/uruk/1.0/repeat.tf\">repeat</a>  <a target=\"_blank\" href=\"https://github.com/Nino-cunei/uruk/blob/master/docs/transcription.md\" title=\"/Users/dirk/text-fabric-data/Nino-cunei/uruk/tf/uruk/1.0/srcLn.tf\">srcLn</a>  <a target=\"_blank\" href=\"https://github.com/Nino-cunei/uruk/blob/master/docs/transcription.md\" title=\"/Users/dirk/text-fabric-data/Nino-cunei/uruk/tf/uruk/1.0/srcLnNum.tf\">srcLnNum</a>  <a target=\"_blank\" href=\"https://github.com/Nino-cunei/uruk/blob/master/docs/transcription.md\" title=\"/Users/dirk/text-fabric-data/Nino-cunei/uruk/tf/uruk/1.0/terminal.tf\">terminal</a>  <a target=\"_blank\" href=\"https://github.com/Nino-cunei/uruk/blob/master/docs/transcription.md\" title=\"/Users/dirk/text-fabric-data/Nino-cunei/uruk/tf/uruk/1.0/text.tf\">text</a>  <a target=\"_blank\" href=\"https://github.com/Nino-cunei/uruk/blob/master/docs/transcription.md\" title=\"/Users/dirk/text-fabric-data/Nino-cunei/uruk/tf/uruk/1.0/type.tf\">type</a>  <a target=\"_blank\" href=\"https://github.com/Nino-cunei/uruk/blob/master/docs/transcription.md\" title=\"/Users/dirk/text-fabric-data/Nino-cunei/uruk/tf/uruk/1.0/uncertain.tf\">uncertain</a>  <a target=\"_blank\" href=\"https://github.com/Nino-cunei/uruk/blob/master/docs/transcription.md\" title=\"/Users/dirk/text-fabric-data/Nino-cunei/uruk/tf/uruk/1.0/variant.tf\">variant</a>  <a target=\"_blank\" href=\"https://github.com/Nino-cunei/uruk/blob/master/docs/transcription.md\" title=\"/Users/dirk/text-fabric-data/Nino-cunei/uruk/tf/uruk/1.0/variantOuter.tf\">variantOuter</a>  <a target=\"_blank\" href=\"https://github.com/Nino-cunei/uruk/blob/master/docs/transcription.md\" title=\"/Users/dirk/text-fabric-data/Nino-cunei/uruk/tf/uruk/1.0/written.tf\">written</a>  <b><i><a target=\"_blank\" href=\"https://github.com/Nino-cunei/uruk/blob/master/docs/transcription.md\" title=\"/Users/dirk/text-fabric-data/Nino-cunei/uruk/tf/uruk/1.0/comments.tf\">comments</a></i></b>  <b><i><a target=\"_blank\" href=\"https://github.com/Nino-cunei/uruk/blob/master/docs/transcription.md\" title=\"/Users/dirk/text-fabric-data/Nino-cunei/uruk/tf/uruk/1.0/op.tf\">op</a></i></b>  <b><i><a target=\"_blank\" href=\"https://github.com/Nino-cunei/uruk/blob/master/docs/transcription.md\" title=\"/Users/dirk/text-fabric-data/Nino-cunei/uruk/tf/uruk/1.0/oslots.tf\">oslots</a></i></b>  <b><i><a target=\"_blank\" href=\"https://github.com/Nino-cunei/uruk/blob/master/docs/transcription.md\" title=\"/Users/dirk/text-fabric-data/Nino-cunei/uruk/tf/uruk/1.0/sub.tf\">sub</a></i></b> </p></details>"
      ],
      "text/plain": [
       "<IPython.core.display.HTML object>"
      ]
     },
     "metadata": {},
     "output_type": "display_data"
    },
    {
     "data": {
      "text/html": [
       "<style>tr.tf, td.tf, th.tf { text-align: left ! important;}@font-face {\n",
       "  font-family: \"Ezra SIL\";\n",
       "  src: local('Ezra SIL'), local('EzraSIL'),\n",
       "    url('/server/static/fonts/SILEOT.woff') format('woff'),\n",
       "    url('https://github.com/annotation/text-fabric/blob/master/tf/server/static/fonts/SILEOT.woff?raw=true') format('woff');\n",
       "}\n",
       "\n",
       "@font-face {\n",
       "  font-family: \"SBL Hebrew\";\n",
       "  src: local('SBL Hebrew'), local('SBLHebrew'),\n",
       "    url('/server/static/fonts/SBL_Hbrw.woff') format('woff'),\n",
       "    url('https://github.com/annotation/text-fabric/blob/master/tf/server/static/fonts/SBL_Hbrw.woff?raw=true') format('woff');\n",
       "}\n",
       "\n",
       "@font-face {\n",
       "  font-family: \"Estrangelo Edessa\";\n",
       "  src: local('Estrangelo Edessa'), local('EstrangeloEdessa');\n",
       "    url('/server/static/fonts/SyrCOMEdessa.woff') format('woff'),\n",
       "    url('https://github.com/annotation/text-fabric/blob/master/tf/server/static/fonts/SyrCOMEdessa.woff?raw=true') format('woff');\n",
       "}\n",
       "\n",
       "@font-face {\n",
       "  font-family: AmiriQuran;\n",
       "  font-style: normal;\n",
       "  font-weight: 400;\n",
       "  src: local('Amiri Quran'), local('AmiriQuran'),\n",
       "    url('/server/static/fonts/AmiriQuran.woff') format('woff'),\n",
       "    url('https://github.com/annotation/text-fabric/blob/master/tf/server/static/fonts/AmiriQuran.woff?raw=true') format('woff');\n",
       "}\n",
       "\n",
       "@font-face {\n",
       "  font-family: AmiriQuranColored;\n",
       "  font-style: normal;\n",
       "  font-weight: 400;\n",
       "  src: local('Amiri Quran Colored'), local('AmiriQuranColored'),\n",
       "    url('/server/static/fonts/AmiriQuranColored.woff') format('woff'),\n",
       "    url('https://github.com/annotation/text-fabric/blob/master/tf/server/static/fonts/AmiriQuranColored.woff?raw=true') format('woff');\n",
       "}\n",
       "\n",
       "@font-face {\n",
       "  font-family: \"Santakku\";\n",
       "  src: local('Santakku'),\n",
       "    url('/server/static/fonts/Santakku.woff') format('woff'),\n",
       "    url('https://github.com/annotation/text-fabric/blob/master/tf/server/static/fonts/Santakku.woff?raw=true') format('woff');\n",
       "}\n",
       "\n",
       "@font-face {\n",
       "  font-family: \"SantakkuM\";\n",
       "  src: local('SantakkuM'),\n",
       "    url('/server/static/fonts/SantakkuM.woff') format('woff'),\n",
       "    url('https://github.com/annotation/text-fabric/blob/master/tf/server/static/fonts/SantakkuM.woff?raw=true') format('woff');\n",
       "}\n",
       "/* bypassing some classical notebook settings */\n",
       "div#notebook {\n",
       "  line-height: unset;\n",
       "}\n",
       "/* neutral text */\n",
       ".txtn,.txtn a:visited,.txtn a:link {\n",
       "    font-family: sans-serif;\n",
       "    font-size: medium;\n",
       "    direction: ltr;\n",
       "    text-decoration: none;\n",
       "    color: var(--text-color);\n",
       "}\n",
       "/* transcription text */\n",
       ".txtt,.txtt a:visited,.txtt a:link {\n",
       "    font-family: monospace;\n",
       "    font-size: medium;\n",
       "    direction: ltr;\n",
       "    text-decoration: none;\n",
       "    color: var(--text-color);\n",
       "}\n",
       "/* source text */\n",
       ".txto,.txto a:visited,.txto a:link {\n",
       "    font-family: serif;\n",
       "    font-size: medium;\n",
       "    direction: ltr;\n",
       "    text-decoration: none;\n",
       "    color: var(--text-color);\n",
       "}\n",
       "/* phonetic text */\n",
       ".txtp,.txtp a:visited,.txtp a:link {\n",
       "    font-family: Gentium, sans-serif;\n",
       "    font-size: large;\n",
       "    direction: ltr;\n",
       "    text-decoration: none;\n",
       "    color: var(--text-color);\n",
       "}\n",
       "/* original script text */\n",
       ".txtu,.txtu a:visited,.txtu a:link {\n",
       "    font-family: Gentium, sans-serif;\n",
       "    font-size: large;\n",
       "    text-decoration: none;\n",
       "    color: var(--text-color);\n",
       "}\n",
       "/* hebrew */\n",
       ".txtu.hbo,.lex.hbo {\n",
       "    font-family: \"Ezra SIL\", \"SBL Hebrew\", sans-serif;\n",
       "    font-size: x-large;\n",
       "    direction: rtl ! important;\n",
       "    unicode-bidi: embed;\n",
       "}\n",
       "/* syriac */\n",
       ".txtu.syc,.lex.syc {\n",
       "    font-family: \"Estrangelo Edessa\", sans-serif;\n",
       "    font-size: large;\n",
       "    direction: rtl ! important;\n",
       "    unicode-bidi: embed;\n",
       "}\n",
       "/* neo aramaic */\n",
       ".txtu.cld,.lex.cld {\n",
       "    font-family: \"CharisSIL-R\", sans-serif;\n",
       "    font-size: medium;\n",
       "    direction: ltr ! important;\n",
       "    unicode-bidi: embed;\n",
       "}\n",
       "/* standard arabic */\n",
       ".txtu.ara,.lex.ara {\n",
       "    font-family: \"AmiriQuran\", sans-serif;\n",
       "    font-size: large;\n",
       "    direction: rtl ! important;\n",
       "    unicode-bidi: embed;\n",
       "}\n",
       "/* cuneiform */\n",
       ".txtu.akk,.lex.akk {\n",
       "    font-family: Santakku, sans-serif;\n",
       "    font-size: x-large;\n",
       "    direction: ltr ! important;\n",
       "    unicode-bidi: embed;\n",
       "}\n",
       "/* greek */\n",
       ".txtu.grc,.lex.grc a:link {\n",
       "    font-family: Gentium, sans-serif;\n",
       "    font-size: medium;\n",
       "    direction: ltr ! important;\n",
       "    unicode-bidi: embed;\n",
       "}\n",
       "a:hover {\n",
       "    text-decoration: underline | important;\n",
       "    color: #0000ff | important;\n",
       "}\n",
       ".ltr {\n",
       "    direction: ltr ! important;\n",
       "}\n",
       ".rtl {\n",
       "    direction: rtl ! important;\n",
       "}\n",
       "span.plain {\n",
       "    display: inline-block;\n",
       "    white-space: pre-wrap;\n",
       "    text-align: start;\n",
       "}\n",
       ".features {\n",
       "    font-family: monospace;\n",
       "    font-size: medium;\n",
       "    font-weight: bold;\n",
       "    color: var(--features);\n",
       "    display: flex;\n",
       "    flex-flow: column nowrap;\n",
       "    justify-content: flex-start;\n",
       "    align-items: flex-start;\n",
       "    align-content: flex-start;\n",
       "    padding: 0.1rem;\n",
       "    margin: 0.1rem;\n",
       "    direction: ltr;\n",
       "    border: var(--meta-width) solid var(--meta-color);\n",
       "    border-radius: var(--meta-width);\n",
       "}\n",
       ".features div,.features span {\n",
       "    padding: 0;\n",
       "    margin: -0.1rem 0;\n",
       "}\n",
       ".features .f {\n",
       "    font-family: sans-serif;\n",
       "    font-size: small;\n",
       "    font-weight: normal;\n",
       "    color: #5555bb;\n",
       "}\n",
       ".features .xft {\n",
       "  color: #000000;\n",
       "  background-color: #eeeeee;\n",
       "  font-size: medium;\n",
       "  margin: 0.1rem 0rem;\n",
       "}\n",
       ".features .xft .f {\n",
       "  color: #000000;\n",
       "  background-color: #eeeeee;\n",
       "  font-size: small;\n",
       "  font-weight: normal;\n",
       "}\n",
       ".section {\n",
       "    font-family: sans-serif;\n",
       "    font-size: small;\n",
       "    font-weight: bold;\n",
       "    color: var(--section);\n",
       "}\n",
       ".structure {\n",
       "    font-family: sans-serif;\n",
       "    font-size: small;\n",
       "    font-weight: bold;\n",
       "    color: var(--structure);\n",
       "}\n",
       ".comments {\n",
       "    display: flex;\n",
       "    justify-content: flex-start;\n",
       "    align-items: flex-start;\n",
       "    align-content: flex-start;\n",
       "    flex-flow: column nowrap;\n",
       "}\n",
       ".nd {\n",
       "    font-family: sans-serif;\n",
       "    font-size: small;\n",
       "    color: var(--node);\n",
       "    vertical-align: super;\n",
       "}\n",
       ".lex {\n",
       "  color: var(--lex-color);;\n",
       "}\n",
       ".children,.children.ltr {\n",
       "    display: flex;\n",
       "    border: 0;\n",
       "    background-color: #ffffff;\n",
       "    justify-content: flex-start;\n",
       "    align-items: flex-start;\n",
       "    align-content: flex-start;\n",
       "}\n",
       ".children.stretch {\n",
       "    align-items: stretch;\n",
       "}\n",
       ".children.hor {\n",
       "    flex-flow: row nowrap;\n",
       "}\n",
       ".children.hor.wrap {\n",
       "    flex-flow: row wrap;\n",
       "}\n",
       ".children.ver {\n",
       "    flex-flow: column nowrap;\n",
       "}\n",
       ".children.ver.wrap {\n",
       "    flex-flow: column wrap;\n",
       "}\n",
       ".contnr {\n",
       "    width: fit-content;\n",
       "    display: flex;\n",
       "    justify-content: flex-start;\n",
       "    align-items: flex-start;\n",
       "    align-content: flex-start;\n",
       "    flex-flow: column nowrap;\n",
       "    background: #ffffff none repeat scroll 0 0;\n",
       "    padding:  0.5rem 0.1rem 0.1rem 0.1rem;\n",
       "    margin: 0.8rem 0.1rem 0.1rem 0.1rem;\n",
       "    border-style: solid;\n",
       "    font-size: small;\n",
       "}\n",
       ".contnr.trm {\n",
       "    background-attachment: local;\n",
       "}\n",
       ".contnr.cnul {\n",
       "    padding:  0;\n",
       "    margin: 0;\n",
       "    border-style: solid;\n",
       "    font-size: xx-small;\n",
       "}\n",
       ".contnr.cnul,.lbl.cnul {\n",
       "    border-color: var(--border-color-nul);\n",
       "    border-width: var(--border-width-nul);\n",
       "    border-radius: var(--border-width-nul);\n",
       "}\n",
       ".contnr.c0,.lbl.c0 {\n",
       "    border-color: var(--border-color0);\n",
       "    border-width: var(--border-width0);\n",
       "    border-radius: var(--border-width0);\n",
       "}\n",
       ".contnr.c1,.lbl.c1 {\n",
       "    border-color: var(--border-color1);\n",
       "    border-width: var(--border-width1);\n",
       "    border-radius: var(--border-width1);\n",
       "}\n",
       ".contnr.c2,.lbl.c2 {\n",
       "    border-color: var(--border-color2);\n",
       "    border-width: var(--border-width2);\n",
       "    border-radius: var(--border-width2);\n",
       "}\n",
       ".contnr.c3,.lbl.c3 {\n",
       "    border-color: var(--border-color3);\n",
       "    border-width: var(--border-width3);\n",
       "    border-radius: var(--border-width3);\n",
       "}\n",
       ".contnr.c4,.lbl.c4 {\n",
       "    border-color: var(--border-color4);\n",
       "    border-width: var(--border-width4);\n",
       "    border-radius: var(--border-width4);\n",
       "}\n",
       ".contnr.l {\n",
       "    border-left-style: dotted\n",
       "}\n",
       ".contnr.r {\n",
       "    border-right-style: dotted\n",
       "}\n",
       ".contnr.lno {\n",
       "    border-left-style: none\n",
       "}\n",
       ".contnr.rno {\n",
       "    border-right-style: none\n",
       "}\n",
       ".lbl {\n",
       "    font-family: monospace;\n",
       "    margin-top: -1.2rem;\n",
       "    margin-left: 1rem;\n",
       "    background: #ffffff none repeat scroll 0 0;\n",
       "    padding: 0 0.3rem;\n",
       "    border-style: solid;\n",
       "    display: block;\n",
       "    color: var(--label)\n",
       "}\n",
       ".lbl.trm {\n",
       "    background-attachment: local;\n",
       "    margin-top: 0.1rem;\n",
       "    margin-left: 0.1rem;\n",
       "    padding: 0.1rem 0.1rem;\n",
       "    border-style: none;\n",
       "}\n",
       ".lbl.cnul {\n",
       "    font-size: xx-small;\n",
       "}\n",
       ".lbl.c0 {\n",
       "    font-size: small;\n",
       "}\n",
       ".lbl.c1 {\n",
       "    font-size: small;\n",
       "}\n",
       ".lbl.c2 {\n",
       "    font-size: medium;\n",
       "}\n",
       ".lbl.c3 {\n",
       "    font-size: medium;\n",
       "}\n",
       ".lbl.c4 {\n",
       "    font-size: large;\n",
       "}\n",
       ".occs {\n",
       "    font-size: small;\n",
       "}\n",
       "\n",
       ":root {\n",
       "\t--node:             hsla(120, 100%,  20%, 1.0  );\n",
       "\t--label:            hsla(  0, 100%,  20%, 1.0  );\n",
       "\t--section:          hsla(  0, 100%,  25%, 1.0  );\n",
       "\t--structure:        hsla(120, 100%,  25%, 1.0  );\n",
       "\t--features:         hsla(  0,   0%,  30%, 1.0  );\n",
       "  --text-color:       hsla( 60,  80%,  10%, 1.0  );\n",
       "  --lex-color:        hsla(220,  90%,  60%, 1.0  );\n",
       "  --meta-color:       hsla(  0,   0%,  90%, 0.7  );\n",
       "  --meta-width:       0.15rem;\n",
       "  --border-color-nul: hsla(  0,   0%,  90%, 0.5  );\n",
       "  --border-color0:    hsla(  0,   0%,  90%, 0.9  );\n",
       "  --border-color1:    hsla(  0,   0%,  80%, 0.9  );\n",
       "  --border-color2:    hsla(  0,   0%,  70%, 0.9  );\n",
       "  --border-color3:    hsla(  0,   0%,  80%, 0.8  );\n",
       "  --border-color4:    hsla(  0,   0%,  60%, 0.9  );\n",
       "  --border-width-nul: 0.1rem;\n",
       "  --border-width0:    0.1rem;\n",
       "  --border-width1:    0.15rem;\n",
       "  --border-width2:    0.2rem;\n",
       "  --border-width3:    0.3rem;\n",
       "  --border-width4:    0.25rem;\n",
       "}\n",
       ".hl {\n",
       "  background-color: var(--hl-strong);\n",
       "}\n",
       "span.hl {\n",
       "\tbackground-color: var(--hl-strong);\n",
       "\tborder-width: 0;\n",
       "\tborder-radius: 0.1rem;\n",
       "\tborder-style: solid;\n",
       "}\n",
       "div.contnr.hl,div.lbl.hl {\n",
       "  background-color: var(--hl-strong);\n",
       "}\n",
       "div.contnr.hl {\n",
       "  border-color: var(--hl-rim) ! important;\n",
       "\tborder-width: 0.2rem ! important;\n",
       "}\n",
       "\n",
       "span.hlbx {\n",
       "\tborder-color: var(--hl-rim);\n",
       "\tborder-width: 0.2rem;\n",
       "\tborder-style: solid;\n",
       "\tborder-radius: 0.3rem;\n",
       "  padding: 0.2rem;\n",
       "  margin: 0.2rem;\n",
       "}\n",
       "\n",
       "span.plain {\n",
       "  display: inline-block;\n",
       "  white-space: pre-wrap;\n",
       "}\n",
       "\n",
       ":root {\n",
       "\t--hl-strong:        hsla( 60, 100%,  70%, 0.9  );\n",
       "\t--hl-rim:           hsla( 55,  80%,  50%, 1.0  );\n",
       "}\n",
       ".contnr.cluster {\n",
       "    flex-flow: row wrap;\n",
       "    border: 0;\n",
       "}\n",
       ".meta .features {\n",
       "    background-color: #ffeedd;\n",
       "}\n",
       ".lbl.clusterb,.lbl.clustere {\n",
       "    padding:  0.5em 0.1em 0.1em 0.1em;\n",
       "    margin: 0.8em 0.1em 0.1em 0.1em;\n",
       "    color: #888844;\n",
       "    font-size: x-small;\n",
       "}\n",
       ".lbl.clusterb {\n",
       "    border-left: 0.3em solid #cccc99;\n",
       "    border-right: 0;\n",
       "    border-top: 0;\n",
       "    border-bottom: 0;\n",
       "    border-radius: 1rem;\n",
       "}\n",
       ".lbl.clustere {\n",
       "    border-left: 0;\n",
       "    border-right: 0.3em solid #cccc99;\n",
       "    border-top: 0;\n",
       "    border-bottom: 0;\n",
       "    border-radius: 1rem;\n",
       "}\n",
       ".op {\n",
       "    padding:  0.5em 0.1em 0.1em 0.1em;\n",
       "    margin: 0.8em 0.1em 0.1em 0.1em;\n",
       "    font-family: monospace;\n",
       "    font-size: x-large;\n",
       "    font-weight: bold;\n",
       "}\n",
       ".period {\n",
       "    font-family: monospace;\n",
       "    font-size: medium;\n",
       "    font-weight: bold;\n",
       "    color: #0000bb;\n",
       "}\n",
       ".excavation {\n",
       "    font-family: monospace;\n",
       "    font-size: medium;\n",
       "    font-style: italic;\n",
       "    color: #779900;\n",
       "}\n",
       "</style>"
      ],
      "text/plain": [
       "<IPython.core.display.HTML object>"
      ]
     },
     "metadata": {},
     "output_type": "display_data"
    },
    {
     "data": {
      "text/html": [
       "<details open><summary><b>API members</b>:</summary>\n",
       "<a target=\"_blank\" href=\"https://annotation.github.io/text-fabric/Api/Computed/#computed-data\" title=\"doc\">C Computed</a>, <a target=\"_blank\" href=\"https://annotation.github.io/text-fabric/Api/Computed/#computed-data\" title=\"doc\">Call AllComputeds</a>, <a target=\"_blank\" href=\"https://annotation.github.io/text-fabric/Api/Computed/#computed-data\" title=\"doc\">Cs ComputedString</a><br/>\n",
       "<a target=\"_blank\" href=\"https://annotation.github.io/text-fabric/Api/Features/#edge-features\" title=\"doc\">E Edge</a>, <a target=\"_blank\" href=\"https://annotation.github.io/text-fabric/Api/Features/#edge-features\" title=\"doc\">Eall AllEdges</a>, <a target=\"_blank\" href=\"https://annotation.github.io/text-fabric/Api/Features/#edge-features\" title=\"doc\">Es EdgeString</a><br/>\n",
       "<a target=\"_blank\" href=\"https://annotation.github.io/text-fabric/Api/Fabric/#loading\" title=\"doc\">ensureLoaded</a>, <a target=\"_blank\" href=\"https://annotation.github.io/text-fabric/Api/Fabric/#loading\" title=\"doc\">TF</a>, <a target=\"_blank\" href=\"https://annotation.github.io/text-fabric/Api/Fabric/#loading\" title=\"doc\">ignored</a>, <a target=\"_blank\" href=\"https://annotation.github.io/text-fabric/Api/Fabric/#loading\" title=\"doc\">loadLog</a><br/>\n",
       "<a target=\"_blank\" href=\"https://annotation.github.io/text-fabric/Api/Locality/#locality\" title=\"doc\">L Locality</a><br/>\n",
       "<a target=\"_blank\" href=\"https://annotation.github.io/text-fabric/Api/Misc/#messaging\" title=\"doc\">cache</a>, <a target=\"_blank\" href=\"https://annotation.github.io/text-fabric/Api/Misc/#messaging\" title=\"doc\">error</a>, <a target=\"_blank\" href=\"https://annotation.github.io/text-fabric/Api/Misc/#messaging\" title=\"doc\">indent</a>, <a target=\"_blank\" href=\"https://annotation.github.io/text-fabric/Api/Misc/#messaging\" title=\"doc\">info</a>, <a target=\"_blank\" href=\"https://annotation.github.io/text-fabric/Api/Misc/#messaging\" title=\"doc\">isSilent</a>, <a target=\"_blank\" href=\"https://annotation.github.io/text-fabric/Api/Misc/#messaging\" title=\"doc\">reset</a>, <a target=\"_blank\" href=\"https://annotation.github.io/text-fabric/Api/Misc/#messaging\" title=\"doc\">setSilent</a>, <a target=\"_blank\" href=\"https://annotation.github.io/text-fabric/Api/Misc/#messaging\" title=\"doc\">silentOff</a>, <a target=\"_blank\" href=\"https://annotation.github.io/text-fabric/Api/Misc/#messaging\" title=\"doc\">silentOn</a>, <a target=\"_blank\" href=\"https://annotation.github.io/text-fabric/Api/Misc/#messaging\" title=\"doc\">warning</a><br/>\n",
       "<a target=\"_blank\" href=\"https://annotation.github.io/text-fabric/Api/Nodes/#navigating-nodes\" title=\"doc\">N Nodes</a>, <a target=\"_blank\" href=\"https://annotation.github.io/text-fabric/Api/Nodes/#navigating-nodes\" title=\"doc\">sortKey</a>, <a target=\"_blank\" href=\"https://annotation.github.io/text-fabric/Api/Nodes/#navigating-nodes\" title=\"doc\">sortKeyTuple</a>, <a target=\"_blank\" href=\"https://annotation.github.io/text-fabric/Api/Nodes/#navigating-nodes\" title=\"doc\">otypeRank</a>, <a target=\"_blank\" href=\"https://annotation.github.io/text-fabric/Api/Nodes/#navigating-nodes\" title=\"doc\">sortNodes</a><br/>\n",
       "<a target=\"_blank\" href=\"https://annotation.github.io/text-fabric/Api/Features/#node-features\" title=\"doc\">F Feature</a>, <a target=\"_blank\" href=\"https://annotation.github.io/text-fabric/Api/Features/#node-features\" title=\"doc\">Fall AllFeatures</a>, <a target=\"_blank\" href=\"https://annotation.github.io/text-fabric/Api/Features/#node-features\" title=\"doc\">Fs FeatureString</a><br/>\n",
       "<a target=\"_blank\" href=\"https://annotation.github.io/text-fabric/Api/Search/#search\" title=\"doc\">S Search</a><br/>\n",
       "<a target=\"_blank\" href=\"https://annotation.github.io/text-fabric/Api/Text/#text\" title=\"doc\">T Text</a></details>"
      ],
      "text/plain": [
       "<IPython.core.display.HTML object>"
      ]
     },
     "metadata": {},
     "output_type": "display_data"
    },
    {
     "name": "stdout",
     "output_type": "stream",
     "text": [
      "rate limit is 5000 requests per hour, with 4384 left for this hour\n",
      "\tconnecting to online GitHub repo Nino-cunei/uruk ... connected\n",
      "Using data in /Users/dirk/text-fabric-data/Nino-cunei/uruk/sources/cdli/images:\n",
      "\tr1.2=#fa319b51fd44fad37fdd89058c4ac4d216c84cf4 (latest release)\n",
      "Found 2095 ideograph linearts\n",
      "Found 2724 tablet linearts\n",
      "Found 5495 tablet photos\n"
     ]
    }
   ],
   "source": [
    "A = use('uruk', hoist=globals())\n",
    "# A = use('uruk:clone', checkout=\"clone\", hoist=globals())"
   ]
  },
  {
   "cell_type": "markdown",
   "metadata": {},
   "source": [
    "We need our example tablet (again).\n",
    "It is particularly relevant to this chapter in our tutorial: \n",
    "it contains the most deeply nested quad in the whole corpus."
   ]
  },
  {
   "cell_type": "code",
   "execution_count": 4,
   "metadata": {
    "ExecuteTime": {
     "end_time": "2018-05-17T12:50:58.749695Z",
     "start_time": "2018-05-17T12:50:58.692028Z"
    }
   },
   "outputs": [
    {
     "name": "stdout",
     "output_type": "stream",
     "text": [
      "  0.01s 1 result\n"
     ]
    },
    {
     "data": {
      "text/html": [
       "<div style=\"display: flex;flex-flow: row nowrap;justify-content: flex-start;align-items: center;align-content: flex-start;\"><div style=\"padding: 0.5rem;\"><div style=\"display: flex;flex-flow: column nowrap;justify-content: space-between;align-items: center;align-content: space-between;\"><div><a target=\"_blank\" href=\"https://cdli.ucla.edu/dl/lineart/P005381_l.jpg\" title=\"to higher resolution lineart on CDLI\"><img src=\"cdli-imagery/lineart-p005381.jpg\" style=\"display: inline;max-width: 200px;\"  /></a></div><div><a target=\"_blank\" href=\"https://cdli.ucla.edu/search/search_results.php?SearchMode=Text&amp;ObjectID=P005381\" title=\"to CDLI main page for this item\">P005381</a></div></div></div></div>"
      ],
      "text/plain": [
       "<IPython.core.display.HTML object>"
      ]
     },
     "metadata": {},
     "output_type": "display_data"
    },
    {
     "data": {
      "text/html": [
       "<p><b>result</b> <i>1</i></p>"
      ],
      "text/plain": [
       "<IPython.core.display.HTML object>"
      ]
     },
     "metadata": {},
     "output_type": "display_data"
    },
    {
     "data": {
      "text/html": [
       "<span class=\"section ltr\"><a target=\"_blank\" href=\"/search/search_results.php?SearchMode=Text&amp;ObjectID=P005381\" title=\"to CDLI main page for this tablet\" sec=\"P005381\">P005381</a> </span><div class=\"contnr c4    \" ><div class=\"lbl c4  \" ><span class=\"nd\">tablet:148166</span> <span class=\"txtu\"><span class=\"section\">P005381</span></span></div> <div class='features'><span class=\"name \" title=\"name\">MSVO 3, 70</span><span class=\"period \" title=\"period\">uruk-iii</span><span class=\"catalogid xft\" ><span class=\"f\">catalogId=</span>P005381</span></div><div class=\"children ver  \"><div class=\"contnr c1 trm   \" ><div class=\"lbl c1 trm \" ><span class=\"nd\">comment:178162</span> <span class=\"txtu\"><span class=\"plain outer   \" ><span class=\"plain txtu \"></span><span class=\"plain    \" ><span class=\"plain \" ></span>  </span></span></span></div> <div class='features'><span class=\"text \" title=\"text\">atf: lang qpc</span></div></div><div class=\"contnr c2    \" ><div class=\"lbl c2  \" ><span class=\"nd\">face:156932</span> <span class=\"txtu\"><span title=\"type\">obverse</span></span></div> <div class=\"children hor  \"><div class=\"contnr c3    \" ><div class=\"lbl c3  \" ><span class=\"nd\">column:190362</span> <span class=\"txtu\"><span title=\"number\">1</span><span title=\"prime\"></span></span></div> <div class=\"children ver  \"><div class=\"contnr c2    \" ><div class=\"lbl c2  \" ><span class=\"nd\">line:254173</span> <span class=\"txtu\"><span title=\"number\">1</span></span></div> <div class=\"children hor  \"><div class=\"contnr c2    \" ><div class=\"lbl c2  \" ><span class=\"nd\">case:167736</span> <span class=\"txtu\"><span title=\"number\">1a</span><span title=\"prime\"></span></span></div> <div class=\"children ver False \"><div class=\"contnr c0 trm   \" ><div class=\"lbl c0 trm \" ><span class=\"nd\">106585</span> <span class=\"txtu\"><span title=\"atf\">2(N14)</span></span></div> <div><a target=\"_blank\" href=\"https://cdli.ucla.edu/tools/SignLists/protocuneiform/archsigns/2(N14).jpg\" title=\"to higher resolution lineart on CDLI\"><img src=\"cdli-imagery/lineart-2(n14).jpg\" style=\"display: inline;max-width: 2em; max-height: 6em;\"  /></a></div></div><div class=\"contnr c0 trm   \" ><div class=\"lbl c0 trm \" ><span class=\"nd\">106586</span> <span class=\"txtu\"><span title=\"atf\">SZE~a</span></span></div> <div><a target=\"_blank\" href=\"https://cdli.ucla.edu/tools/SignLists/protocuneiform/archsigns/SZE~a.jpg\" title=\"to higher resolution lineart on CDLI\"><img src=\"cdli-imagery/lineart-sze-a.jpg\" style=\"display: inline;max-width: 2em; max-height: 6em;\"  /></a></div></div><div class=\"contnr c0 trm   \" ><div class=\"lbl c0 trm \" ><span class=\"nd\">106587</span> <span class=\"txtu\"><span title=\"atf\">SAL</span></span></div> <div><a target=\"_blank\" href=\"https://cdli.ucla.edu/tools/SignLists/protocuneiform/archsigns/SAL.jpg\" title=\"to higher resolution lineart on CDLI\"><img src=\"cdli-imagery/lineart-sal.jpg\" style=\"display: inline;max-width: 2em; max-height: 6em;\"  /></a></div></div><div class=\"contnr c0 trm   \" ><div class=\"lbl c0 trm \" ><span class=\"nd\">106588</span> <span class=\"txtu\"><span title=\"atf\">TUR3~a</span></span></div> <div><a target=\"_blank\" href=\"https://cdli.ucla.edu/tools/SignLists/protocuneiform/archsigns/TUR3~a.jpg\" title=\"to higher resolution lineart on CDLI\"><img src=\"cdli-imagery/lineart-tur3-a.jpg\" style=\"display: inline;max-width: 2em; max-height: 6em;\"  /></a></div></div><div class=\"contnr c0 trm   \" ><div class=\"lbl c0 trm \" ><span class=\"nd\">106589</span> <span class=\"txtu\"><span title=\"atf\">NUN~a</span></span></div> <div><a target=\"_blank\" href=\"https://cdli.ucla.edu/tools/SignLists/protocuneiform/archsigns/NUN~a.jpg\" title=\"to higher resolution lineart on CDLI\"><img src=\"cdli-imagery/lineart-nun-a.jpg\" style=\"display: inline;max-width: 2em; max-height: 6em;\"  /></a></div></div></div></div><div class=\"contnr c2    \" ><div class=\"lbl c2  \" ><span class=\"nd\">case:167737</span> <span class=\"txtu\"><span title=\"number\">1b</span><span title=\"prime\"></span></span></div> <div class=\"children ver False \"><div class=\"contnr c0 trm   \" ><div class=\"lbl c0 trm \" ><span class=\"nd\">106590</span> <span class=\"txtu\"><span title=\"atf\">3(N19)</span></span></div> <div><a target=\"_blank\" href=\"https://cdli.ucla.edu/tools/SignLists/protocuneiform/archsigns/3(N19).jpg\" title=\"to higher resolution lineart on CDLI\"><img src=\"cdli-imagery/lineart-3(n19).jpg\" style=\"display: inline;max-width: 2em; max-height: 6em;\"  /></a></div></div><div class=\"contnr c1    \" ><div class=\"lbl c1  \" ><span class=\"nd\">quad:143013</span></div> <div><a target=\"_blank\" href=\"https://cdli.ucla.edu/tools/SignLists/protocuneiform/archsigns/|GISZ.TE|.jpg\" title=\"to higher resolution lineart on CDLI\"><img src=\"cdli-imagery/lineart-qgisz(d)teq.jpg\" style=\"display: inline;max-width: 4em; max-height: 4em;\"  /></a></div><div class=\"children hor wrap \"><div class=\"contnr c0 trm   \" ><div class=\"lbl c0 trm \" ><span class=\"nd\">106591</span> <span class=\"txtu\"><span title=\"atf\">GISZ</span></span></div> </div><div class=\"op\">.</div><div class=\"contnr c0 trm   \" ><div class=\"lbl c0 trm \" ><span class=\"nd\">106592</span> <span class=\"txtu\"><span title=\"atf\">TE</span></span></div> </div></div></div></div></div></div></div><div class=\"contnr c2    \" ><div class=\"lbl c2  \" ><span class=\"nd\">line:254174</span> <span class=\"txtu\"><span title=\"number\">2</span></span></div> <div class=\"children hor  \"><div class=\"contnr c0 trm   \" ><div class=\"lbl c0 trm \" ><span class=\"nd\">106593</span> <span class=\"txtu\"><span title=\"atf\">1(N14)</span></span></div> <div><a target=\"_blank\" href=\"https://cdli.ucla.edu/tools/SignLists/protocuneiform/archsigns/1(N14).jpg\" title=\"to higher resolution lineart on CDLI\"><img src=\"cdli-imagery/lineart-1(n14).jpg\" style=\"display: inline;max-width: 2em; max-height: 6em;\"  /></a></div></div><div class=\"contnr c0 trm   \" ><div class=\"lbl c0 trm \" ><span class=\"nd\">106594</span> <span class=\"txtu\"><span title=\"atf\">NAR</span></span></div> <div><a target=\"_blank\" href=\"https://cdli.ucla.edu/tools/SignLists/protocuneiform/archsigns/NAR.jpg\" title=\"to higher resolution lineart on CDLI\"><img src=\"cdli-imagery/lineart-nar.jpg\" style=\"display: inline;max-width: 2em; max-height: 6em;\"  /></a></div></div><div class=\"contnr c0 trm   \" ><div class=\"lbl c0 trm \" ><span class=\"nd\">106595</span> <span class=\"txtu\"><span title=\"atf\">NUN~a</span></span></div> <div><a target=\"_blank\" href=\"https://cdli.ucla.edu/tools/SignLists/protocuneiform/archsigns/NUN~a.jpg\" title=\"to higher resolution lineart on CDLI\"><img src=\"cdli-imagery/lineart-nun-a.jpg\" style=\"display: inline;max-width: 2em; max-height: 6em;\"  /></a></div></div><div class=\"contnr c0 trm   \" ><div class=\"lbl c0 trm \" ><span class=\"nd\">106596</span> <span class=\"txtu\"><span title=\"atf\">SIG7</span></span></div> <div><a target=\"_blank\" href=\"https://cdli.ucla.edu/tools/SignLists/protocuneiform/archsigns/SIG7.jpg\" title=\"to higher resolution lineart on CDLI\"><img src=\"cdli-imagery/lineart-sig7.jpg\" style=\"display: inline;max-width: 2em; max-height: 6em;\"  /></a></div></div></div></div><div class=\"contnr c2    \" ><div class=\"lbl c2  \" ><span class=\"nd\">line:254175</span> <span class=\"txtu\"><span title=\"number\">3</span></span></div> <div class=\"children hor  \"><div class=\"contnr c0 trm   \" ><div class=\"lbl c0 trm \" ><span class=\"nd\">106597</span> <span class=\"txtu\"><span title=\"atf\">2(N04)#</span></span></div> <div><a target=\"_blank\" href=\"https://cdli.ucla.edu/tools/SignLists/protocuneiform/archsigns/2(N04).jpg\" title=\"to higher resolution lineart on CDLI\"><img src=\"cdli-imagery/lineart-2(n04).jpg\" style=\"display: inline;max-width: 2em; max-height: 6em;\"  /></a></div></div><div class=\"contnr c0 trm   \" ><div class=\"lbl c0 trm \" ><span class=\"nd\">106598</span> <span class=\"txtu\"><span title=\"atf\">PIRIG~b1</span></span></div> <div><a target=\"_blank\" href=\"https://cdli.ucla.edu/tools/SignLists/protocuneiform/archsigns/PIRIG~b1.jpg\" title=\"to higher resolution lineart on CDLI\"><img src=\"cdli-imagery/lineart-pirig-b1.jpg\" style=\"display: inline;max-width: 2em; max-height: 6em;\"  /></a></div></div><div class=\"contnr c0 trm   \" ><div class=\"lbl c0 trm \" ><span class=\"nd\">106599</span> <span class=\"txtu\"><span title=\"atf\">SIG7</span></span></div> <div><a target=\"_blank\" href=\"https://cdli.ucla.edu/tools/SignLists/protocuneiform/archsigns/SIG7.jpg\" title=\"to higher resolution lineart on CDLI\"><img src=\"cdli-imagery/lineart-sig7.jpg\" style=\"display: inline;max-width: 2em; max-height: 6em;\"  /></a></div></div><div class=\"contnr c0 trm   \" ><div class=\"lbl c0 trm \" ><span class=\"nd\">106600</span> <span class=\"txtu\"><span title=\"atf\">URI3~a</span></span></div> <div><a target=\"_blank\" href=\"https://cdli.ucla.edu/tools/SignLists/protocuneiform/archsigns/URI3~a.jpg\" title=\"to higher resolution lineart on CDLI\"><img src=\"cdli-imagery/lineart-uri3-a.jpg\" style=\"display: inline;max-width: 2em; max-height: 6em;\"  /></a></div></div><div class=\"contnr c0 trm   \" ><div class=\"lbl c0 trm \" ><span class=\"nd\">106601</span> <span class=\"txtu\"><span title=\"atf\">NUN~a</span></span></div> <div><a target=\"_blank\" href=\"https://cdli.ucla.edu/tools/SignLists/protocuneiform/archsigns/NUN~a.jpg\" title=\"to higher resolution lineart on CDLI\"><img src=\"cdli-imagery/lineart-nun-a.jpg\" style=\"display: inline;max-width: 2em; max-height: 6em;\"  /></a></div></div></div></div></div></div><div class=\"contnr c3    \" ><div class=\"lbl c3  \" ><span class=\"nd\">column:190363</span> <span class=\"txtu\"><span title=\"number\">2</span><span title=\"prime\"></span></span></div> <div class=\"children ver  \"><div class=\"contnr c2    \" ><div class=\"lbl c2  \" ><span class=\"nd\">line:254176</span> <span class=\"txtu\"><span title=\"number\">1</span></span></div> <div class=\"children hor  \"><div class=\"contnr c0 trm   \" ><div class=\"lbl c0 trm \" ><span class=\"nd\">106602</span> <span class=\"txtu\"><span title=\"atf\">3(N04)</span></span></div> <div><a target=\"_blank\" href=\"https://cdli.ucla.edu/tools/SignLists/protocuneiform/archsigns/3(N04).jpg\" title=\"to higher resolution lineart on CDLI\"><img src=\"cdli-imagery/lineart-3(n04).jpg\" style=\"display: inline;max-width: 2em; max-height: 6em;\"  /></a></div></div><div class=\"contnr c1    \" ><div class=\"lbl c1  \" ><span class=\"nd\">quad:143014</span></div> <div><a target=\"_blank\" href=\"https://cdli.ucla.edu/tools/SignLists/protocuneiform/archsigns/|GISZ.TE|.jpg\" title=\"to higher resolution lineart on CDLI\"><img src=\"cdli-imagery/lineart-qgisz(d)teq.jpg\" style=\"display: inline;max-width: 4em; max-height: 4em;\"  /></a></div><div class=\"children hor wrap \"><div class=\"contnr c0 trm   \" ><div class=\"lbl c0 trm \" ><span class=\"nd\">106603</span> <span class=\"txtu\"><span title=\"atf\">GISZ</span></span></div> </div><div class=\"op\">.</div><div class=\"contnr c0 trm   \" ><div class=\"lbl c0 trm \" ><span class=\"nd\">106604</span> <span class=\"txtu\"><span title=\"atf\">TE</span></span></div> </div></div></div><div class=\"contnr c0 trm   \" ><div class=\"lbl c0 trm \" ><span class=\"nd\">106605</span> <span class=\"txtu\"><span title=\"atf\">GAR</span></span></div> <div><a target=\"_blank\" href=\"https://cdli.ucla.edu/tools/SignLists/protocuneiform/archsigns/GAR.jpg\" title=\"to higher resolution lineart on CDLI\"><img src=\"cdli-imagery/lineart-gar.jpg\" style=\"display: inline;max-width: 2em; max-height: 6em;\"  /></a></div></div><div class=\"contnr c1    \" ><div class=\"lbl c1  \" ><span class=\"nd\">quad:143015</span></div> <div><a target=\"_blank\" href=\"https://cdli.ucla.edu/tools/SignLists/protocuneiform/archsigns/|SZU2.((HI+1(N57))+(HI+1(N57)))|.jpg\" title=\"to higher resolution lineart on CDLI\"><img src=\"cdli-imagery/lineart-qszu2(d)((hi(p)1(n57))(p)(hi(p)1(n57)))q.jpg\" style=\"display: inline;max-width: 4em; max-height: 4em;\"  /></a></div><div class=\"children hor wrap \"><div class=\"contnr c0 trm   \" ><div class=\"lbl c0 trm \" ><span class=\"nd\">106606</span> <span class=\"txtu\"><span title=\"atf\">SZU2</span></span></div> </div><div class=\"op\">.</div><div class=\"contnr c1    \" ><div class=\"lbl c1  \" ><span class=\"nd\">quad:143016</span></div> <div class=\"children hor wrap \"><div class=\"contnr c1    \" ><div class=\"lbl c1  \" ><span class=\"nd\">quad:143017</span></div> <div class=\"children hor wrap \"><div class=\"contnr c0 trm   \" ><div class=\"lbl c0 trm \" ><span class=\"nd\">106607</span> <span class=\"txtu\"><span title=\"atf\">HI</span></span></div> </div><div class=\"op\">+</div><div class=\"contnr c0 trm   \" ><div class=\"lbl c0 trm \" ><span class=\"nd\">106608</span> <span class=\"txtu\"><span title=\"atf\">1(N57)</span></span></div> </div></div></div><div class=\"op\">+</div><div class=\"contnr c1    \" ><div class=\"lbl c1  \" ><span class=\"nd\">quad:143018</span></div> <div class=\"children hor wrap \"><div class=\"contnr c0 trm   \" ><div class=\"lbl c0 trm \" ><span class=\"nd\">106609</span> <span class=\"txtu\"><span title=\"atf\">HI</span></span></div> </div><div class=\"op\">+</div><div class=\"contnr c0 trm   \" ><div class=\"lbl c0 trm \" ><span class=\"nd\">106610</span> <span class=\"txtu\"><span title=\"atf\">1(N57)</span></span></div> </div></div></div></div></div></div></div><div class=\"contnr c0 trm   \" ><div class=\"lbl c0 trm \" ><span class=\"nd\">106611</span> <span class=\"txtu\"><span title=\"atf\">GI4~a</span></span></div> <div><a target=\"_blank\" href=\"https://cdli.ucla.edu/tools/SignLists/protocuneiform/archsigns/GI4~a.jpg\" title=\"to higher resolution lineart on CDLI\"><img src=\"cdli-imagery/lineart-gi4-a.jpg\" style=\"display: inline;max-width: 2em; max-height: 6em;\"  /></a></div></div></div></div><div class=\"contnr c2    \" ><div class=\"lbl c2  \" ><span class=\"nd\">line:254177</span> <span class=\"txtu\"><span title=\"number\">2</span></span></div> <div class=\"children hor  \"><div class=\"contnr c0 trm   \" ><div class=\"lbl c0 trm \" ><span class=\"nd\">106612</span> <span class=\"txtu\"><span title=\"atf\">GU7</span></span></div> <div><a target=\"_blank\" href=\"https://cdli.ucla.edu/tools/SignLists/protocuneiform/archsigns/GU7.jpg\" title=\"to higher resolution lineart on CDLI\"><img src=\"cdli-imagery/lineart-gu7.jpg\" style=\"display: inline;max-width: 2em; max-height: 6em;\"  /></a></div></div><div class=\"contnr c0 trm   \" ><div class=\"lbl c0 trm \" ><span class=\"nd\">106613</span> <span class=\"txtu\"><span title=\"atf\">AZ</span></span></div> <div><a target=\"_blank\" href=\"https://cdli.ucla.edu/tools/SignLists/protocuneiform/archsigns/AZ.jpg\" title=\"to higher resolution lineart on CDLI\"><img src=\"cdli-imagery/lineart-az.jpg\" style=\"display: inline;max-width: 2em; max-height: 6em;\"  /></a></div></div><div class=\"contnr c0 trm   \" ><div class=\"lbl c0 trm \" ><span class=\"nd\">106614</span> <span class=\"txtu\"><span title=\"atf\">SI4~f</span></span></div> <div><a target=\"_blank\" href=\"https://cdli.ucla.edu/tools/SignLists/protocuneiform/archsigns/SI4~f.jpg\" title=\"to higher resolution lineart on CDLI\"><img src=\"cdli-imagery/lineart-si4-f.jpg\" style=\"display: inline;max-width: 2em; max-height: 6em;\"  /></a></div></div></div></div></div></div></div></div><div class=\"contnr c2    \" ><div class=\"lbl c2  \" ><span class=\"nd\">face:156933</span> <span class=\"txtu\"><span title=\"type\">reverse</span></span></div> <div class=\"children hor  \"><div class=\"contnr c3    \" ><div class=\"lbl c3  \" ><span class=\"nd\">column:190364</span> <span class=\"txtu\"><span title=\"number\">1</span><span title=\"prime\"></span></span></div> <div class=\"children ver  \"><div class=\"contnr c2    \" ><div class=\"lbl c2  \" ><span class=\"nd\">line:254178</span> <span class=\"txtu\"><span title=\"number\">1</span></span></div> <div class=\"children hor  \"><div class=\"contnr c0 trm   \" ><div class=\"lbl c0 trm \" ><span class=\"nd\">106615</span> <span class=\"txtu\"><span title=\"atf\">3(N14)</span></span></div> <div><a target=\"_blank\" href=\"https://cdli.ucla.edu/tools/SignLists/protocuneiform/archsigns/3(N14).jpg\" title=\"to higher resolution lineart on CDLI\"><img src=\"cdli-imagery/lineart-3(n14).jpg\" style=\"display: inline;max-width: 2em; max-height: 6em;\"  /></a></div></div><div class=\"contnr c0 trm   \" ><div class=\"lbl c0 trm \" ><span class=\"nd\">106616</span> <span class=\"txtu\"><span title=\"atf\">SZE~a</span></span></div> <div><a target=\"_blank\" href=\"https://cdli.ucla.edu/tools/SignLists/protocuneiform/archsigns/SZE~a.jpg\" title=\"to higher resolution lineart on CDLI\"><img src=\"cdli-imagery/lineart-sze-a.jpg\" style=\"display: inline;max-width: 2em; max-height: 6em;\"  /></a></div></div></div></div><div class=\"contnr c2    \" ><div class=\"lbl c2  \" ><span class=\"nd\">line:254179</span> <span class=\"txtu\"><span title=\"number\">2</span></span></div> <div class=\"children hor  \"><div class=\"contnr c0 trm   \" ><div class=\"lbl c0 trm \" ><span class=\"nd\">106617</span> <span class=\"txtu\"><span title=\"atf\">3(N19)</span></span></div> <div><a target=\"_blank\" href=\"https://cdli.ucla.edu/tools/SignLists/protocuneiform/archsigns/3(N19).jpg\" title=\"to higher resolution lineart on CDLI\"><img src=\"cdli-imagery/lineart-3(n19).jpg\" style=\"display: inline;max-width: 2em; max-height: 6em;\"  /></a></div></div><div class=\"contnr c0 trm   \" ><div class=\"lbl c0 trm \" ><span class=\"nd\">106618</span> <span class=\"txtu\"><span title=\"atf\">5(N04)</span></span></div> <div><a target=\"_blank\" href=\"https://cdli.ucla.edu/tools/SignLists/protocuneiform/archsigns/5(N04).jpg\" title=\"to higher resolution lineart on CDLI\"><img src=\"cdli-imagery/lineart-5(n04).jpg\" style=\"display: inline;max-width: 2em; max-height: 6em;\"  /></a></div></div></div></div><div class=\"contnr c2    \" ><div class=\"lbl c2  \" ><span class=\"nd\">line:254180</span> <span class=\"txtu\"><span title=\"number\">3</span></span></div> <div class=\"children hor  \"><div class=\"contnr c0 trm   \" ><div class=\"lbl c0 trm \" ><span class=\"nd\">106619</span> <span class=\"txtu\"><span title=\"atf\">GU7</span></span></div> <div><a target=\"_blank\" href=\"https://cdli.ucla.edu/tools/SignLists/protocuneiform/archsigns/GU7.jpg\" title=\"to higher resolution lineart on CDLI\"><img src=\"cdli-imagery/lineart-gu7.jpg\" style=\"display: inline;max-width: 2em; max-height: 6em;\"  /></a></div></div></div></div></div></div><div class=\"contnr c3    \" ><div class=\"lbl c3  \" ><span class=\"nd\">column:190365</span> <span class=\"txtu\"><span title=\"number\">2</span><span title=\"prime\"></span></span></div> <div class=\"children ver  \"><div class=\"contnr c2    \" ><div class=\"lbl c2  \" ><span class=\"nd\">line:254181</span> <span class=\"txtu\"><span title=\"number\">1</span></span></div> <div class=\"children hor  \"><div class=\"contnr c0 trm   \" ><div class=\"lbl c0 trm \" ><span class=\"nd\">106620</span> <span class=\"txtu\"><span title=\"atf\">AZ</span></span></div> <div><a target=\"_blank\" href=\"https://cdli.ucla.edu/tools/SignLists/protocuneiform/archsigns/AZ.jpg\" title=\"to higher resolution lineart on CDLI\"><img src=\"cdli-imagery/lineart-az.jpg\" style=\"display: inline;max-width: 2em; max-height: 6em;\"  /></a></div></div><div class=\"contnr c0 trm   \" ><div class=\"lbl c0 trm \" ><span class=\"nd\">106621</span> <span class=\"txtu\"><span title=\"atf\">SI4~f</span></span></div> <div><a target=\"_blank\" href=\"https://cdli.ucla.edu/tools/SignLists/protocuneiform/archsigns/SI4~f.jpg\" title=\"to higher resolution lineart on CDLI\"><img src=\"cdli-imagery/lineart-si4-f.jpg\" style=\"display: inline;max-width: 2em; max-height: 6em;\"  /></a></div></div></div></div></div></div></div></div></div></div>"
      ],
      "text/plain": [
       "<IPython.core.display.HTML object>"
      ]
     },
     "metadata": {},
     "output_type": "display_data"
    }
   ],
   "source": [
    "pNum = 'P005381'\n",
    "query = '''\n",
    "tablet catalogId=P005381\n",
    "'''\n",
    "results = A.search(query)\n",
    "A.lineart(results[0][0], width=200)\n",
    "A.show(results, withNodes=True)"
   ]
  },
  {
   "cell_type": "markdown",
   "metadata": {},
   "source": [
    "The components of quads are either sub-quads or signs.\n",
    "Sub-quads are also quads in TF, and they are always a composition.\n",
    "Whenever a member of a sub-quad is no longer a composition, it is a *sign*.\n",
    "\n",
    "Let's try to unravel the structure of the biggest quad in this tablet."
   ]
  },
  {
   "cell_type": "markdown",
   "metadata": {},
   "source": [
    "## Find the quad\n",
    "\n",
    "First we need to get the node of this quad. Above we have seen the source code of the tablet in which\n",
    "it occurs, from that we can pick the node of the case it is in:"
   ]
  },
  {
   "cell_type": "code",
   "execution_count": 5,
   "metadata": {
    "ExecuteTime": {
     "end_time": "2018-05-09T17:08:35.891516Z",
     "start_time": "2018-05-09T17:08:35.876347Z"
    }
   },
   "outputs": [
    {
     "name": "stdout",
     "output_type": "stream",
     "text": [
      "['1. 3(N04) , |GISZ.TE| GAR |SZU2.((HI+1(N57))+(HI+1(N57)))| GI4~a ']\n"
     ]
    },
    {
     "data": {
      "text/html": [
       "<span class=\"section ltr\"><a target=\"_blank\" href=\"/search/search_results.php?SearchMode=Text&amp;ObjectID=P005381\" title=\"to CDLI main page for this tablet\" sec=\"P005381 obverse:2:1\">P005381 obverse:2:1</a> </span><div class=\"contnr c2    \" ><div class=\"lbl c2  \" ><span class=\"nd\">line:254176</span> <span class=\"txtu\"><span title=\"number\">1</span></span></div> <div class=\"children hor  \"><div class=\"contnr c0 trm   \" ><div class=\"lbl c0 trm \" ><span class=\"nd\">106602</span> <span class=\"txtu\"><span title=\"atf\">3(N04)</span></span></div> <div><a target=\"_blank\" href=\"https://cdli.ucla.edu/tools/SignLists/protocuneiform/archsigns/3(N04).jpg\" title=\"to higher resolution lineart on CDLI\"><img src=\"cdli-imagery/lineart-3(n04).jpg\" style=\"display: inline;max-width: 2em; max-height: 6em;\"  /></a></div></div><div class=\"contnr c1    \" ><div class=\"lbl c1  \" ><span class=\"nd\">quad:143014</span></div> <div><a target=\"_blank\" href=\"https://cdli.ucla.edu/tools/SignLists/protocuneiform/archsigns/|GISZ.TE|.jpg\" title=\"to higher resolution lineart on CDLI\"><img src=\"cdli-imagery/lineart-qgisz(d)teq.jpg\" style=\"display: inline;max-width: 4em; max-height: 4em;\"  /></a></div><div class=\"children hor wrap \"><div class=\"contnr c0 trm   \" ><div class=\"lbl c0 trm \" ><span class=\"nd\">106603</span> <span class=\"txtu\"><span title=\"atf\">GISZ</span></span></div> </div><div class=\"op\">.</div><div class=\"contnr c0 trm   \" ><div class=\"lbl c0 trm \" ><span class=\"nd\">106604</span> <span class=\"txtu\"><span title=\"atf\">TE</span></span></div> </div></div></div><div class=\"contnr c0 trm   \" ><div class=\"lbl c0 trm \" ><span class=\"nd\">106605</span> <span class=\"txtu\"><span title=\"atf\">GAR</span></span></div> <div><a target=\"_blank\" href=\"https://cdli.ucla.edu/tools/SignLists/protocuneiform/archsigns/GAR.jpg\" title=\"to higher resolution lineart on CDLI\"><img src=\"cdli-imagery/lineart-gar.jpg\" style=\"display: inline;max-width: 2em; max-height: 6em;\"  /></a></div></div><div class=\"contnr c1    \" ><div class=\"lbl c1  \" ><span class=\"nd\">quad:143015</span></div> <div><a target=\"_blank\" href=\"https://cdli.ucla.edu/tools/SignLists/protocuneiform/archsigns/|SZU2.((HI+1(N57))+(HI+1(N57)))|.jpg\" title=\"to higher resolution lineart on CDLI\"><img src=\"cdli-imagery/lineart-qszu2(d)((hi(p)1(n57))(p)(hi(p)1(n57)))q.jpg\" style=\"display: inline;max-width: 4em; max-height: 4em;\"  /></a></div><div class=\"children hor wrap \"><div class=\"contnr c0 trm   \" ><div class=\"lbl c0 trm \" ><span class=\"nd\">106606</span> <span class=\"txtu\"><span title=\"atf\">SZU2</span></span></div> </div><div class=\"op\">.</div><div class=\"contnr c1    \" ><div class=\"lbl c1  \" ><span class=\"nd\">quad:143016</span></div> <div class=\"children hor wrap \"><div class=\"contnr c1    \" ><div class=\"lbl c1  \" ><span class=\"nd\">quad:143017</span></div> <div class=\"children hor wrap \"><div class=\"contnr c0 trm   \" ><div class=\"lbl c0 trm \" ><span class=\"nd\">106607</span> <span class=\"txtu\"><span title=\"atf\">HI</span></span></div> </div><div class=\"op\">+</div><div class=\"contnr c0 trm   \" ><div class=\"lbl c0 trm \" ><span class=\"nd\">106608</span> <span class=\"txtu\"><span title=\"atf\">1(N57)</span></span></div> </div></div></div><div class=\"op\">+</div><div class=\"contnr c1    \" ><div class=\"lbl c1  \" ><span class=\"nd\">quad:143018</span></div> <div class=\"children hor wrap \"><div class=\"contnr c0 trm   \" ><div class=\"lbl c0 trm \" ><span class=\"nd\">106609</span> <span class=\"txtu\"><span title=\"atf\">HI</span></span></div> </div><div class=\"op\">+</div><div class=\"contnr c0 trm   \" ><div class=\"lbl c0 trm \" ><span class=\"nd\">106610</span> <span class=\"txtu\"><span title=\"atf\">1(N57)</span></span></div> </div></div></div></div></div></div></div><div class=\"contnr c0 trm   \" ><div class=\"lbl c0 trm \" ><span class=\"nd\">106611</span> <span class=\"txtu\"><span title=\"atf\">GI4~a</span></span></div> <div><a target=\"_blank\" href=\"https://cdli.ucla.edu/tools/SignLists/protocuneiform/archsigns/GI4~a.jpg\" title=\"to higher resolution lineart on CDLI\"><img src=\"cdli-imagery/lineart-gi4-a.jpg\" style=\"display: inline;max-width: 2em; max-height: 6em;\"  /></a></div></div></div></div>"
      ],
      "text/plain": [
       "<IPython.core.display.HTML object>"
      ]
     },
     "metadata": {},
     "output_type": "display_data"
    }
   ],
   "source": [
    "case = A.nodeFromCase(('P005381', 'obverse:2', '1'))\n",
    "print(A.getSource(case))\n",
    "A.pretty(case, withNodes=True)"
   ]
  },
  {
   "cell_type": "markdown",
   "metadata": {},
   "source": [
    "We can easily read off the node number of this big quad.\n",
    "\n",
    "But we can also do it programmatically.\n",
    "\n",
    "In order to identify our super-quad, we list all quad nodes that are part of this case.\n",
    "For every quad we list the node numbers of the signs contained in it.\n",
    "\n",
    "In order to know what signs are contained in any given node, we use the feature `oslots`.\n",
    "Like the feature `otype`, this is a standard feature that is always available in a TF dataset.\n",
    "\n",
    "Unlike `otype`, `oslots` is an *edge* feature: there is an edge between every node and every slot contained in it.\n",
    "\n",
    "Whereas you use `F` to do stuff with node features, you use `E` to do business with edge features.\n",
    "\n",
    "And whereas you use `F.feature.v(node)` to get the feature value of a node, you use \n",
    "`E.oslots.s(node)` to get the nodes for which there is an `oslots` edge from `node` to it."
   ]
  },
  {
   "cell_type": "code",
   "execution_count": 6,
   "metadata": {
    "ExecuteTime": {
     "end_time": "2018-05-09T17:08:48.149978Z",
     "start_time": "2018-05-09T17:08:48.138955Z"
    }
   },
   "outputs": [
    {
     "name": "stdout",
     "output_type": "stream",
     "text": [
      "143014 array('I', [106603, 106604])\n",
      "143015 array('I', [106606, 106607, 106608, 106609, 106610])\n",
      "143016 array('I', [106607, 106608, 106609, 106610])\n",
      "143017 array('I', [106607, 106608])\n",
      "143018 array('I', [106609, 106610])\n"
     ]
    }
   ],
   "source": [
    "for node in L.d(case, otype='quad'):\n",
    "    print(f'{node:>6} {E.oslots.s(node)}')"
   ]
  },
  {
   "cell_type": "markdown",
   "metadata": {
    "slideshow": {
     "slide_type": "subslide"
    }
   },
   "source": [
    "We see what the biggest quad is.\n",
    "We could have been a bit more friendly to our selves by showing the actual graphemes in the quads."
   ]
  },
  {
   "cell_type": "code",
   "execution_count": 7,
   "metadata": {
    "ExecuteTime": {
     "end_time": "2018-05-09T17:08:51.321478Z",
     "start_time": "2018-05-09T17:08:51.312988Z"
    }
   },
   "outputs": [
    {
     "name": "stdout",
     "output_type": "stream",
     "text": [
      "143014 GISZ TE\n",
      "143015 SZU2 HI N57 HI N57\n",
      "143016 HI N57 HI N57\n",
      "143017 HI N57\n",
      "143018 HI N57\n"
     ]
    }
   ],
   "source": [
    "for node in L.d(case, otype='quad'):\n",
    "    print(f'{node:>6} {\" \".join(F.grapheme.v(s) for s in E.oslots.s(node))}')"
   ]
  },
  {
   "cell_type": "markdown",
   "metadata": {},
   "source": [
    "So let us get the node of the biggest quad."
   ]
  },
  {
   "cell_type": "code",
   "execution_count": 8,
   "metadata": {
    "ExecuteTime": {
     "end_time": "2018-05-09T17:08:54.151816Z",
     "start_time": "2018-05-09T17:08:54.137401Z"
    }
   },
   "outputs": [
    {
     "data": {
      "text/plain": [
       "143015"
      ]
     },
     "execution_count": 8,
     "metadata": {},
     "output_type": "execute_result"
    }
   ],
   "source": [
    "bigQuad = sorted(\n",
    "    (\n",
    "        quad \n",
    "        for quad in L.d(case, otype='quad')\n",
    "    ),\n",
    "    key = lambda q: -len(E.oslots.s(q))\n",
    ")[0]\n",
    "bigQuad"
   ]
  },
  {
   "cell_type": "markdown",
   "metadata": {},
   "source": [
    "Lo and behold, it is precisely the big quad.\n",
    "\n",
    "This is what we are talking about:"
   ]
  },
  {
   "cell_type": "code",
   "execution_count": 9,
   "metadata": {
    "ExecuteTime": {
     "end_time": "2018-05-09T17:08:57.374493Z",
     "start_time": "2018-05-09T17:08:57.365895Z"
    }
   },
   "outputs": [
    {
     "data": {
      "text/html": [
       "<div style=\"display: flex;flex-flow: row nowrap;justify-content: flex-start;align-items: center;align-content: flex-start;\"><div style=\"padding: 0.5rem;\"><div style=\"display: flex;flex-flow: column nowrap;justify-content: space-between;align-items: center;align-content: space-between;\"><div><a target=\"_blank\" href=\"https://cdli.ucla.edu/tools/SignLists/protocuneiform/archsigns/|SZU2.((HI+1(N57))+(HI+1(N57)))|.jpg\" title=\"to higher resolution lineart on CDLI\"><img src=\"cdli-imagery/lineart-qszu2(d)((hi(p)1(n57))(p)(hi(p)1(n57)))q.jpg\" style=\"display: inline;\"  /></a></div><div><a target=\"_blank\" href=\"https://cdli.ucla.edu/tools/SignLists/protocuneiform/archsigns.html\" title=\"to CDLI main page for this item\">|SZU2.((HI+1(N57))+(HI+1(N57)))|</a></div></div></div></div>"
      ],
      "text/plain": [
       "<IPython.core.display.HTML object>"
      ]
     },
     "metadata": {},
     "output_type": "display_data"
    }
   ],
   "source": [
    "A.lineart(bigQuad)"
   ]
  },
  {
   "cell_type": "markdown",
   "metadata": {},
   "source": [
    "## Quad structure\n",
    "\n",
    "Now we are going to retrieve its components by following *edges*.\n",
    "\n",
    "When we converted the data to Text-Fabric, we have made\n",
    "*edges* from quad nodes to the nodes of their component quads and signs.\n",
    "\n",
    "We also have made edges between sibling quads and signs.\n",
    "\n",
    "We can distinguish between kinds of edges by means of edge features.\n",
    "\n",
    "The edges that go down in a structure have a feature `sub`.\n",
    "\n",
    "In order to follow the `sub` edges from a node, you use \n",
    "\n",
    "`E.sub.f(node)`.\n",
    "\n",
    "This will give you a list of nodes that can be reached *from* `node` by following\n",
    "a `sub` edge.\n",
    "\n",
    "Edges can be traveled in the opposite direction as well:\n",
    "\n",
    "`E.sub.t(node)`.\n",
    "\n",
    "This will give you the nodes from which there is a `sub` edge *to* `node`."
   ]
  },
  {
   "cell_type": "code",
   "execution_count": 10,
   "metadata": {
    "ExecuteTime": {
     "end_time": "2018-05-09T17:09:03.095590Z",
     "start_time": "2018-05-09T17:09:03.090000Z"
    }
   },
   "outputs": [
    {
     "data": {
      "text/plain": [
       "(106606, 143016)"
      ]
     },
     "execution_count": 10,
     "metadata": {},
     "output_type": "execute_result"
    }
   ],
   "source": [
    "E.sub.f(bigQuad)"
   ]
  },
  {
   "cell_type": "markdown",
   "metadata": {},
   "source": [
    "or, more friendly:"
   ]
  },
  {
   "cell_type": "code",
   "execution_count": 11,
   "metadata": {
    "ExecuteTime": {
     "end_time": "2018-05-09T17:09:10.907109Z",
     "start_time": "2018-05-09T17:09:10.896234Z"
    }
   },
   "outputs": [
    {
     "name": "stdout",
     "output_type": "stream",
     "text": [
      "106606 SZU2\n",
      "143016 HI N57 HI N57\n"
     ]
    }
   ],
   "source": [
    "for node in E.sub.f(bigQuad):\n",
    "    print(f'{node:>6} {\" \".join(F.grapheme.v(s) for s in E.oslots.s(node))}')"
   ]
  },
  {
   "cell_type": "markdown",
   "metadata": {},
   "source": [
    "Let us unravel the whole structure by means of a function:"
   ]
  },
  {
   "cell_type": "code",
   "execution_count": 12,
   "metadata": {
    "ExecuteTime": {
     "end_time": "2018-05-09T17:09:16.960087Z",
     "start_time": "2018-05-09T17:09:16.949864Z"
    }
   },
   "outputs": [
    {
     "data": {
      "text/plain": [
       "'<SZU2, <<HI, N57>, <HI, N57>>>'"
      ]
     },
     "execution_count": 12,
     "metadata": {},
     "output_type": "execute_result"
    }
   ],
   "source": [
    "def unravelQuad(quad):\n",
    "    if F.otype.v(quad) == 'sign':\n",
    "        return F.grapheme.v(quad)\n",
    "    subQuads = E.sub.f(quad)\n",
    "    unraveledSubQuads = [unravelQuad(subQuad) for subQuad in subQuads]\n",
    "    return f'<{\", \".join(unraveledSubQuads)}>'\n",
    "\n",
    "unravelQuad(bigQuad)"
   ]
  },
  {
   "cell_type": "markdown",
   "metadata": {},
   "source": [
    "## Operators\n",
    "\n",
    "Where have the operators gone?\n",
    "\n",
    "They are present as a feature `op` of edges between sibling quads and signs."
   ]
  },
  {
   "cell_type": "code",
   "execution_count": 13,
   "metadata": {
    "ExecuteTime": {
     "end_time": "2018-05-09T17:09:18.823345Z",
     "start_time": "2018-05-09T17:09:18.815974Z"
    }
   },
   "outputs": [
    {
     "name": "stdout",
     "output_type": "stream",
     "text": [
      "106606 . 143016\n"
     ]
    }
   ],
   "source": [
    "for child in E.sub.f(bigQuad):\n",
    "    for (right, op) in E.op.f(child):\n",
    "        print(child, op, right)"
   ]
  },
  {
   "cell_type": "markdown",
   "metadata": {},
   "source": [
    "Note, that whereas `E.sub.f` yields a list of nodes,\n",
    "`E.op.f` yields a list of pairs (node, op-value),\n",
    "because the `op` edges carry a value.\n",
    "\n",
    "The best way to know this, is to consult the\n",
    "[Feature Doc](https://github.com/Nino-cunei/uruk/blob/master/docs/transcription.md).\n",
    "This link as always present below the cell where you called `Cunei` for the first time."
   ]
  },
  {
   "cell_type": "markdown",
   "metadata": {},
   "source": [
    "Can we try to adapt the unravel function above to get the operators?\n",
    "\n",
    "Yes:"
   ]
  },
  {
   "cell_type": "code",
   "execution_count": 14,
   "metadata": {
    "ExecuteTime": {
     "end_time": "2018-05-09T17:09:20.704428Z",
     "start_time": "2018-05-09T17:09:20.690647Z"
    }
   },
   "outputs": [
    {
     "data": {
      "text/plain": [
       "'<SZU2 . <<HI + N57> + <HI + N57>>>'"
      ]
     },
     "execution_count": 14,
     "metadata": {},
     "output_type": "execute_result"
    }
   ],
   "source": [
    "def unravelQuad(quad):\n",
    "    if F.otype.v(quad) == 'sign':\n",
    "        return F.grapheme.v(quad)\n",
    "    subQuads = E.sub.f(quad)\n",
    "    result = '<'\n",
    "    for sq in subQuads:\n",
    "        for (rq, operator) in E.op.f(sq):\n",
    "            leftRep = unravelQuad(sq)\n",
    "            rightRep = unravelQuad(rq)\n",
    "            result += f'{leftRep} {operator} {rightRep}'\n",
    "    result += '>'\n",
    "    return result\n",
    "\n",
    "unravelQuad(bigQuad)"
   ]
  },
  {
   "cell_type": "markdown",
   "metadata": {},
   "source": [
    "This technique is employed fully in the function `A.atfFromQuad()`:"
   ]
  },
  {
   "cell_type": "code",
   "execution_count": 15,
   "metadata": {
    "ExecuteTime": {
     "end_time": "2018-05-09T17:09:23.064045Z",
     "start_time": "2018-05-09T17:09:23.055904Z"
    }
   },
   "outputs": [
    {
     "name": "stdout",
     "output_type": "stream",
     "text": [
      "|SZU2.((HI+1(N57))+(HI+1(N57)))|\n"
     ]
    }
   ],
   "source": [
    "print(A.atfFromQuad(bigQuad))"
   ]
  },
  {
   "cell_type": "markdown",
   "metadata": {},
   "source": [
    "We have tested the function `A.atfFromQuad()` on all quads in the corpus, an it regenerates the exact ATF transliterations for them, except for two cases where the ATF has unnecessary brackets. See [checks](http://nbviewer.jupyter.org/github/Nino-cunei/uruk/blob/master/programs/checks.ipynb#Quads)."
   ]
  },
  {
   "cell_type": "markdown",
   "metadata": {},
   "source": [
    "# Next\n",
    "\n",
    "[jumps](jumps.ipynb)\n",
    "\n",
    "*Leap to the next level ...*\n",
    "\n",
    "All chapters:\n",
    "[start](start.ipynb)\n",
    "[imagery](imagery.ipynb)\n",
    "[steps](steps.ipynb)\n",
    "[search](search.ipynb)\n",
    "[signs](signs.ipynb)\n",
    "[quads](quads.ipynb)\n",
    "[jumps](jumps.ipynb)\n",
    "[cases](cases.ipynb)\n",
    "\n",
    "---\n",
    "\n",
    "CC-BY Dirk Roorda"
   ]
  }
 ],
 "metadata": {
  "kernelspec": {
   "display_name": "Python 3",
   "language": "python",
   "name": "python3"
  },
  "language_info": {
   "codemirror_mode": {
    "name": "ipython",
    "version": 3
   },
   "file_extension": ".py",
   "mimetype": "text/x-python",
   "name": "python",
   "nbconvert_exporter": "python",
   "pygments_lexer": "ipython3",
   "version": "3.7.7"
  },
  "toc": {
   "base_numbering": 1,
   "nav_menu": {},
   "number_sections": true,
   "sideBar": true,
   "skip_h1_title": true,
   "title_cell": "Table of Contents",
   "title_sidebar": "Contents",
   "toc_cell": true,
   "toc_position": {
    "height": "607px",
    "left": "0px",
    "right": "983px",
    "top": "110px",
    "width": "297px"
   },
   "toc_section_display": "block",
   "toc_window_display": false
  }
 },
 "nbformat": 4,
 "nbformat_minor": 4
}
